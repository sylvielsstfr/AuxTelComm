{
 "cells": [
  {
   "cell_type": "markdown",
   "id": "682c86ac",
   "metadata": {},
   "source": [
    "## DM Bootcamp: June 2022\n",
    "#### Christopher Waters, Princeton\n",
    "### Calibration product productions, examples, and suggestions.\n",
    "\n",
    "Calibration products are constructed for the Rubin using the `cp_pipe` package, and the pipelines defined therein.  Further documentation is available from that package (https://pipelines.lsst.io/v/daily/modules/lsst.cp.pipe/constructing-calibrations.html), and the best practices for calibration management and usage are defined in a number of DM Tech Notes (DMTN-148: DM Calibration Products https://dmtn-148.lsst.io/; DMTN-222: Calibration Generation, Verification, Acceptance, and Certification https://dmtn-222.lsst.io/v/u-czw-20220321/index.html; DMTN-101: Verifying LSST Calibration Data Products https://dmtn-101.lsst.io/).  All of this documentation is in development, and will likely change over the summer as other coding projects are completed."
   ]
  },
  {
   "cell_type": "markdown",
   "id": "3c0e7f53",
   "metadata": {},
   "source": [
    "### Notebook format:\n",
    "The packages loaded in the next cell are used for visualization and light manipulation of the data products.  All processing is done separate from the notebook, to use multiprocessing and log capture that may be difficult via the notebook.  The commands listed can still be executed via the notebook, but are assumed to have already completed processing for the live demonstration."
   ]
  },
  {
   "cell_type": "code",
   "execution_count": 2,
   "id": "910ab97d",
   "metadata": {},
   "outputs": [],
   "source": [
    "# Load libraries:\n",
    "import numpy as np\n",
    "import matplotlib.pyplot as plt\n",
    "\n",
    "import lsst.daf.butler as dafButler\n",
    "import lsst.afw.display\n",
    "import lsst.cp.verify.notebooks.utils as utils\n",
    "\n",
    "# Use astrowidgets?  This has more features, but requires additional dependencies as of 2022-06-30.\n",
    "useAstrowidgets =  False\n",
    "if useAstrowidgets:\n",
    "    #import sys\n",
    "    #sys.path.append(\"/project/czw/czw_viz/display_astrowidgets/python/\")\n",
    "    lsst.afw.display.setDefaultBackend(\"astrowidgets\")\n",
    "else:\n",
    "    import lsst.display.matplotlib\n",
    "    lsst.afw.display.setDefaultBackend(\"matplotlib\")"
   ]
  },
  {
   "cell_type": "code",
   "execution_count": 3,
   "id": "7c5fe1b0",
   "metadata": {},
   "outputs": [],
   "source": [
    "if useAstrowidgets:\n",
    "    # Create a display object:\n",
    "    import IPython.display as ipydisplay\n",
    "    display = lsst.afw.display.Display(dims=(800, 600))  # size in screen pixels\n",
    "    ipydisplay.display(display.embed())"
   ]
  },
  {
   "cell_type": "markdown",
   "id": "2bbbb5a4",
   "metadata": {},
   "source": [
    "## Do you really want to construct calibrations?\n",
    "If you want to reproduce existing processed products, it may be better to start from the existing calibrations constructed at the NCSA.  The expectation (defined in DMTN-222) is that all processing for a given release will use the same calibrations, regardless of where the processing occurs.  To support that, calibrations can be exported from and imported to butler repositories.\n",
    "\n",
    "In the absence of a more structured method at synchonizing these products, I've run the `export-calibs` commands for the current certified set of LATISS calibration products, placing the output into an archive at https://lsst.ncsa.illinois.edu/~czw/calibration_products/.  The `manifest.txt` quickly describes the contents of each calibration dump.\n",
    "\n",
    "To import these calibrations, you (or whoever is managing shared collections and files for your butler instance) can run (as an example to import my personal defects):\n",
    "\n",
    "    butler import $DESTINATION_REPO --transfer copy \\\n",
    "       --export-file ./Latiss/uczw-20220608.yaml ./Latiss/uczw-20220608 \\\n",
    "       -s instrument -s detector -s physical_filter\n",
    "\n",
    "where the `--export-file` and following directory have been downloaded from this archive.  The various `-s` options list butler dimensions that should be skipped when ingesting (as they likely already exist).\n",
    "\n",
    "If a set of acceptable calibrations are all that you need, you may be able to stop here after importing the default NCSA calibrations.  Otherwise, we'll need to construct the calibrations ourselves."
   ]
  },
  {
   "cell_type": "markdown",
   "id": "faa64f83",
   "metadata": {},
   "source": [
    "## Calibration types.\n",
    "DM and `cp_pipe` support construction for all of the calibration types expected to be used for processing, although some algorithmic work still remains to finalize the quality of these products.  The following table lists the calibrations supported, a short description, and a note about the quality to be expected.\n",
    "\n",
    "| Calibration Type | What it describes | Quality |\n",
    "|------------------|-------------------|---------|\n",
    "| defects | Bad pixels; bad columns; broken amplifiers | Very dependent on inputs; not all pixels are included |\n",
    "| bias    | Extra charge originating from the detector | Good |\n",
    "| dark    | Additional charge that builds over time    | Good |\n",
    "| flat    | Filter throughput + detector quantum efficiency | Good |\n",
    "| fringe  | Long-wavelength interference patterns created from the thin silicon of the detector | Single mode only |\n",
    "| ptc     | Amplifier gain, read noise, full well.  Additional products | Good; requires a PTC ramp of many flat pairs |\n",
    "| linearity | Nonlinearities between the light incident and the number of counts recorded | Reasonable.  Requires a PTC solution. |\n",
    "| brighter-fatter correction | Object shape deformation by electric fields in the detector created by captured charge that repels newly absorbed charge. | Reasonable.  Requires PTC. |\n",
    "| CTI correction | Inefficiencies in the charge transfer during readout. | Newly implemented |\n",
    "| crosstalk | \"Ghost\" sources that result when the charge associated with bright sources inadvertantly ends up in a different amplifier | Requires many science exposures, or well crafted spot data |\n",
    "| photodiode correction | Correction for PTC/linearity by normalizing observed counts to measured photodiode current | Newly implemented, looks very promising. |\n",
    "| sky correction | Large scale background features that print through into stacks | Reasonable.  |\n"
   ]
  },
  {
   "cell_type": "markdown",
   "id": "92d2449e",
   "metadata": {},
   "source": [
    "## Commands for a flat:\n",
    "    EXPOSURES='2022031700209, 2022031700211, 2022031700210, 2022031700204, \\\n",
    "               2022031700208, 2022031700205, 2022031700207, 2022031700201, \\\n",
    "               2022031700206, 2022031700202, 2022031700203'\n",
    "               \n",
    "    \n",
    "    RERUN=20220317a\n",
    "    BUTLER_REPO='/sps/lsst/groups/auxtel/softs/shared/auxteldm_gen3/data/butler.yaml'\n",
    "\n",
    "**Construction:**\n",
    "\n",
    "    pipetask --long-log run -b $BUTLER_REPO \\\n",
    "          -p $CP_PIPE_DIR/pipelines/Latiss/cpFlat.yaml \\\n",
    "          -i LATISS/raw/all \\\n",
    "          -o u/dagoret/myflats.20221108/flatGen.$RERUN \\\n",
    "          -d \"instrument='LATISS' AND detector=0 AND exposure IN ($EXPOSURES)\" \\\n",
    "             >& ./flat.$RERUN.log\n",
    "\n",
    "**Verification with a few extra exposures:**\n",
    "\n",
    "    EXPOSURES_VERIFY='022031700209, 2022031700211'\n",
    "\n",
    "    pipetask --long-log run -b /repo/main \\\n",
    "       -p $CP_VERIFY_DIR/pipelines/VerifyFlat.yaml \\\n",
    "       -i LATISS/raw/all,LATISS/calib,u/czw/bootcamp.20220630/flatGen.$RERUN \\\n",
    "       -o u/czw/bootcamp.20220630/verifyFlat.$RERUN \\\n",
    "       -d \"instrument='LATISS' AND detector=0 AND exposure IN ($EXPOSURES, $EXPOSURES_VERIFY)\" \\\n",
    "        >& ./flatVerify.$RERUN.log"
   ]
  },
  {
   "cell_type": "code",
   "execution_count": 10,
   "id": "9e115175",
   "metadata": {},
   "outputs": [],
   "source": [
    "##### BEGIN NOTEBOOK EXCERPT #####\n",
    "# This cell should be edited to match the data to be inspected.\n",
    "\n",
    "# Which calibration type to analyse.\n",
    "calibType = 'flat'\n",
    "physical_filter = 'empty~empty'\n",
    "# Camera\n",
    "cameraName = 'LATISS'\n",
    "\n",
    "# Collection name containing the verification outputs.\n",
    "verifyCollection = 'u/czw/bootcamp.20220630/verifyFlat.20220630a'\n",
    "# Collection that the calibration was constructed in.\n",
    "genCollection = 'u/czw/bootcamp.20220630/flatGen.20220630a'"
   ]
  },
  {
   "cell_type": "code",
   "execution_count": 11,
   "id": "8df209eb",
   "metadata": {},
   "outputs": [],
   "source": [
    "# Get butler and camera\n",
    "butler = dafButler.Butler(\"/repo/main/\", collections=[verifyCollection, genCollection])\n",
    "camera = butler.get('camera', instrument=cameraName)"
   ]
  },
  {
   "cell_type": "code",
   "execution_count": 12,
   "id": "1e1c3a97",
   "metadata": {},
   "outputs": [],
   "source": [
    "# Get Run Statistics\n",
    "runStats = butler.get('verifyFlatStats', instrument=cameraName)\n",
    "runSuccess = runStats.pop('SUCCESS')"
   ]
  },
  {
   "cell_type": "code",
   "execution_count": 13,
   "id": "642e3e9d",
   "metadata": {},
   "outputs": [
    {
     "data": {
      "text/html": [
       "<table><td>Exposure</td><td>Detector</td></tr><tr><td>2021011900083</td><td>ALL PASS</td></tr><tr><td>2021011900088</td><td>ALL PASS</td></tr><tr><td>2021011900091</td><td>ALL PASS</td></tr><tr><td>2021011900092</td><td>ALL PASS</td></tr><tr><td>2021011900093</td><td>ALL PASS</td></tr><tr><td>2021011900094</td><td>ALL PASS</td></tr><tr><td>2021011900095</td><td>ALL PASS</td></tr><tr><td>2021011900096</td><td>ALL PASS</td></tr><tr><td>2021011900097</td><td>ALL PASS</td></tr><tr><td>2021011900098</td><td>ALL PASS</td></tr><tr><td>2021011900099</td><td>ALL PASS</td></tr><tr><td>2021011900100</td><td>ALL PASS</td></tr><tr><td>2021011900101</td><td>ALL PASS</td></tr><tr><td>2021011900102</td><td>ALL PASS</td></tr><tr><td>2021011900103</td><td>ALL PASS</td></tr><tr><td>2021011900104</td><td>ALL PASS</td></tr><tr><td>2021011900105</td><td>ALL PASS</td></tr><tr><td>2021011900106</td><td>ALL PASS</td></tr><tr><td>2021011900107</td><td>ALL PASS</td></tr><tr><td>2021011900108</td><td>ALL PASS</td></tr><tr><td>2021011900109</td><td>ALL PASS</td></tr><tr><td>2021011900110</td><td>ALL PASS</td></tr><tr><td>2021011900111</td><td>ALL PASS</td></tr><tr><td>2021011900112</td><td>ALL PASS</td></tr><tr><td>2021011900113</td><td>ALL PASS</td></tr><tr><td>2021011900114</td><td>ALL PASS</td></tr><tr><td>2021011900115</td><td>ALL PASS</td></tr><tr><td>2021011900116</td><td>ALL PASS</td></tr><tr><td>2021011900117</td><td>ALL PASS</td></tr><tr><td>2021011900118</td><td>ALL PASS</td></tr><tr><td>2021011900119</td><td>ALL PASS</td></tr><tr><td>2021011900120</td><td>ALL PASS</td></tr><tr><td>2021011900121</td><td>ALL PASS</td></tr><tr><td>2021011900122</td><td>ALL PASS</td></tr><tr><td>2021011900123</td><td>ALL PASS</td></tr><tr><td>2021011900124</td><td>ALL PASS</td></tr><tr><td>2021011900125</td><td>ALL PASS</td></tr><tr><td>2021011900126</td><td>ALL PASS</td></tr><tr><td>2021011900127</td><td>ALL PASS</td></tr><tr><td>2021011900128</td><td>ALL PASS</td></tr><tr><td>2021011900129</td><td>ALL PASS</td></tr><tr><td>2021011900130</td><td>ALL PASS</td></tr></table>"
      ],
      "text/plain": [
       "<IPython.core.display.HTML object>"
      ]
     },
     "metadata": {},
     "output_type": "display_data"
    }
   ],
   "source": [
    "# Display summary table of tests and failure counts.\n",
    "utils.failureTable(runStats)"
   ]
  },
  {
   "cell_type": "code",
   "execution_count": 14,
   "id": "f76b17d1",
   "metadata": {},
   "outputs": [
    {
     "name": "stdout",
     "output_type": "stream",
     "text": [
      "No failures found.\n"
     ]
    }
   ],
   "source": [
    "utils.plotFailures(runStats, camera, scaleFactor=8)"
   ]
  },
  {
   "cell_type": "code",
   "execution_count": 15,
   "id": "8c05a128",
   "metadata": {},
   "outputs": [
    {
     "data": {
      "application/vnd.jupyter.widget-view+json": {
       "model_id": "d236b7e806a7457999aecf967884f201",
       "version_major": 2,
       "version_minor": 0
      },
      "text/plain": [
       "ImageWidget(children=(Image(value=b'\\xff\\xd8\\xff\\xe0\\x00\\x10JFIF\\x00\\x01\\x01\\x00\\x00\\x01\\x00\\x01\\x00\\x00\\xff\\x…"
      ]
     },
     "metadata": {},
     "output_type": "display_data"
    }
   ],
   "source": [
    "if useAstrowidgets:\n",
    "    # Create a display object:\n",
    "    import IPython.display as ipydisplay\n",
    "    display = lsst.afw.display.Display(dims=(800, 600))  # size in screen pixels\n",
    "    ipydisplay.display(display.embed())"
   ]
  },
  {
   "cell_type": "code",
   "execution_count": 16,
   "id": "3db454a8",
   "metadata": {},
   "outputs": [
    {
     "name": "stdout",
     "output_type": "stream",
     "text": [
      "Detector: RXX_S00 Median: 0.9987127780914307   Stdev: 0.011062321662902832\n",
      "flat RXX_S00 Continue? [h, c, q, p, #]\n"
     ]
    }
   ],
   "source": [
    "# View calibration images:\n",
    "continueDisplay = True\n",
    "for detector in camera:\n",
    "    detectorId = detector.getId()\n",
    "    calib = butler.get(calibType, instrument=cameraName, physical_filter=physical_filter, detector=detectorId)\n",
    "    calibArray = calib.getImage().getArray()\n",
    "\n",
    "    # Get simple stats\n",
    "    q25, q50, q75 = np.percentile(calibArray.flatten(), [25, 50, 75])\n",
    "    sigma = 0.74 * (q75 - q25)\n",
    "    print(f\"Detector: {detector.getName()} Median: {q50}   Stdev: {sigma}\")\n",
    "\n",
    "    display.mtv(calib)\n",
    "    display._scale('linear', (q50 - 3.0 * sigma), (q50 + 3.0* sigma), \"\")\n",
    "\n",
    "    continueDisplay, skipNumber = utils.interactiveBlock(f\"{calibType} {detector.getName()}\", {})\n",
    "    if continueDisplay is False:\n",
    "        break"
   ]
  },
  {
   "cell_type": "code",
   "execution_count": 17,
   "id": "bb44b35c",
   "metadata": {},
   "outputs": [
    {
     "name": "stdout",
     "output_type": "stream",
     "text": [
      "2021011900083 RXX_S00 Continue? [h, c, q, p, #]\n",
      "2021011900088 RXX_S00 Continue? [h, c, q, p, #]\n",
      "2021011900091 RXX_S00 Continue? [h, c, q, p, #]\n",
      "2021011900092 RXX_S00 Continue? [h, c, q, p, #]q\n"
     ]
    }
   ],
   "source": [
    "# This block allows the residual images to be scanned for concerns.\n",
    "blinkResiduals = True\n",
    "if blinkResiduals:\n",
    "    continueDisplay = True\n",
    "    skipNumber = 0\n",
    "    for exposureId, stats in runStats.items():\n",
    "        for detector in camera:\n",
    "            if skipNumber > 0:\n",
    "                skipNumber -= 1\n",
    "                continue\n",
    "        \n",
    "            detId = detector.getId()\n",
    "            residual = butler.get('verifyFlatProc', instrument=cameraName, exposure=exposureId, detector=0)\n",
    "            detStats = butler.get('verifyFlatDetStats', instrument=cameraName, exposure=exposureId, detector=0)\n",
    "            display.mtv(residual)\n",
    "            display.scale('linear', 'zscale', None)\n",
    "        \n",
    "            continueDisplay, skipNumber = utils.interactiveBlock(f\"{exposureId} {detector.getName()}\", detStats)\n",
    "            if continueDisplay is False:\n",
    "                break\n",
    "        if continueDisplay is False:\n",
    "            break"
   ]
  },
  {
   "cell_type": "code",
   "execution_count": 18,
   "id": "706e32ec",
   "metadata": {},
   "outputs": [],
   "source": [
    "# This cell is slow, and may be too slow to be useful during a demonstration.\n",
    "# Get data for mean(expTime) plot.\n",
    "ampMeans = {}\n",
    "for detector in camera:\n",
    "    ampMeans[detector.getName()] = {}\n",
    "    for amp in detector.getAmplifiers():\n",
    "        ampMeans[detector.getName()][amp.getName()] = {'ID': [], 'EXPTIME': [], 'MEAN': [], 'NOISE': []}\n",
    "\n",
    "for exposureId, stats in runStats.items():\n",
    "    rr = butler.registry.queryDimensionRecords('exposure', \n",
    "                                               instrument=cameraName,\n",
    "                                               exposure=exposureId)\n",
    "    expTime = next(rr.__iter__()).exposure_time\n",
    "    for detector in camera:\n",
    "        detId = detector.getId()\n",
    "        detStats = butler.get('verifyFlatDetStats', instrument=cameraName, exposure=exposureId, detector=detId)\n",
    "    \n",
    "        for amp in detector.getAmplifiers():\n",
    "            mean = detStats['AMP'][amp.getName()]['MEAN']\n",
    "            noise = detStats['AMP'][amp.getName()]['NOISE']\n",
    "            ampMeans[detector.getName()][amp.getName()]['ID'].append(exposureId)\n",
    "            ampMeans[detector.getName()][amp.getName()]['MEAN'].append(mean)\n",
    "            ampMeans[detector.getName()][amp.getName()]['EXPTIME'].append(expTime)\n",
    "            ampMeans[detector.getName()][amp.getName()]['NOISE'].append(noise)"
   ]
  },
  {
   "cell_type": "code",
   "execution_count": 19,
   "id": "f3cd2ab0",
   "metadata": {},
   "outputs": [
    {
     "data": {
      "text/plain": [
       "<Figure size 576x576 with 0 Axes>"
      ]
     },
     "metadata": {},
     "output_type": "display_data"
    },
    {
     "data": {
      "image/png": "[encoded data removed]",
      "text/plain": [
       "<Figure size 1152x576 with 2 Axes>"
      ]
     },
     "metadata": {
      "needs_background": "light"
     },
     "output_type": "display_data"
    },
    {
     "name": "stdout",
     "output_type": "stream",
     "text": [
      "RXX_S00 Continue? [h, c, q, p, #]\n"
     ]
    }
   ],
   "source": [
    "# Plot flux as a function of exposure id, to look for time trends.\n",
    "continueDisplay = True\n",
    "for detector in camera:\n",
    "    detName = detector.getName()\n",
    "\n",
    "    horizontalSpace = 0.0\n",
    "    verticalSpace = 150\n",
    "    plt.figure(figsize=(8, 8))\n",
    "    fig, axes = plt.subplots(1, 2, figsize=(2 * 8, 8))\n",
    "    for axis, chunk in zip(axes, [0, 1]):\n",
    "        for spacer, amp in enumerate(detector.getAmplifiers()):\n",
    "            axis.scatter(np.array(ampMeans[detName][amp.getName()]['ID']) + horizontalSpace * spacer,\n",
    "                         np.array(ampMeans[detName][amp.getName()]['MEAN']) /\n",
    "                         np.array(ampMeans[detName][amp.getName()]['EXPTIME']) + verticalSpace * spacer,\n",
    "                        label=amp.getName())\n",
    "        axis.set_xlabel(\"expId\")\n",
    "        axis.set_ylabel(\"Residual Flux (ADU/s) + Spacer\")\n",
    "\n",
    "        \n",
    "        if chunk == 0:\n",
    "            axis.set_xlim(2021011900090, 2021011900140)\n",
    "            axis.set_title(f\"{calibType} {cameraName} {verifyCollection} ConstructionSet\")\n",
    "        else:\n",
    "            axis.set_xlim(2021011900080, 2021011900090)\n",
    "            axis.set_title(f\"{calibType} {cameraName} {verifyCollection} VerificationSet\")\n",
    "        axis.legend()\n",
    "    plt.show()\n",
    "    continueDisplay, skipNumber = utils.interactiveBlock(detName, {})\n",
    "    if continueDisplay is False:\n",
    "        break\n",
    "##### END Notebook Excerpt #####"
   ]
  },
  {
   "cell_type": "markdown",
   "id": "cde01c57",
   "metadata": {},
   "source": [
    "### Commands for a flat, part 2:\n",
    "**Certification:**\n",
    "\n",
    "    butler certify-calibrations $BUTLER_REPO \\\n",
    "       u/czw/bootcamp.20220630/flatGen.20220630a \\\n",
    "       u/czw/bootcamp.20220630/flat \\\n",
    "       --begin-date 2021-01-01 --end 2050-01-01 \\\n",
    "       flat\n",
    "\n",
    "**Collection chaining:**\n",
    "\n",
    "    butler collection-chain $BUTLER_REPO --mode=prepend \\\n",
    "        u/czw/bootcamp.20220630/calib \\\n",
    "        u/czw/bootcamp.20220630/flat\n",
    "\n",
    "**Collection querying:**\n",
    "\n",
    "    butler query-collections $BUTLER_REPO u/czw/bootcamp.20220630/calib\n",
    "    "
   ]
  },
  {
   "cell_type": "code",
   "execution_count": 24,
   "id": "17b6ad70",
   "metadata": {},
   "outputs": [
    {
     "name": "stdout",
     "output_type": "stream",
     "text": [
      "\n",
      "WARNING: version mismatch between CFITSIO header (v4.000999999999999) and linked library (v4.01).\n",
      "\n",
      "\n",
      "WARNING: version mismatch between CFITSIO header (v4.000999999999999) and linked library (v4.01).\n",
      "\n",
      "\n",
      "WARNING: version mismatch between CFITSIO header (v4.000999999999999) and linked library (v4.01).\n",
      "\n"
     ]
    }
   ],
   "source": [
    "!butler certify-calibrations /repo/main \\\n",
    "   u/czw/bootcamp.20220630/flatGen.20220630a \\\n",
    "   u/czw/bootcamp.20220630/flat \\\n",
    "   --begin-date 2021-01-01 --end-date 2050-01-01 \\\n",
    "   flat"
   ]
  },
  {
   "cell_type": "code",
   "execution_count": 25,
   "id": "2dba66ca",
   "metadata": {},
   "outputs": [
    {
     "name": "stdout",
     "output_type": "stream",
     "text": [
      "\n",
      "WARNING: version mismatch between CFITSIO header (v4.000999999999999) and linked library (v4.01).\n",
      "\n",
      "\n",
      "WARNING: version mismatch between CFITSIO header (v4.000999999999999) and linked library (v4.01).\n",
      "\n",
      "\n",
      "WARNING: version mismatch between CFITSIO header (v4.000999999999999) and linked library (v4.01).\n",
      "\n",
      "[u/czw/bootcamp.20220630/flat, u/czw/bootcamp.20220630/bias, u/czw/calibX, LATISS/calib]\n"
     ]
    }
   ],
   "source": [
    "!butler collection-chain /repo/main --mode=prepend \\\n",
    "    u/czw/bootcamp.20220630/calib \\\n",
    "    u/czw/bootcamp.20220630/flat"
   ]
  },
  {
   "cell_type": "code",
   "execution_count": 26,
   "id": "34c8f4c0",
   "metadata": {},
   "outputs": [
    {
     "name": "stdout",
     "output_type": "stream",
     "text": [
      "\n",
      "WARNING: version mismatch between CFITSIO header (v4.000999999999999) and linked library (v4.01).\n",
      "\n",
      "\n",
      "WARNING: version mismatch between CFITSIO header (v4.000999999999999) and linked library (v4.01).\n",
      "\n",
      "\n",
      "WARNING: version mismatch between CFITSIO header (v4.000999999999999) and linked library (v4.01).\n",
      "\n",
      "\u001b[0;31m                   Name                       Type   \u001b[0m\n",
      "\u001b[0;31m----------------------------------------- -----------\u001b[0m\n",
      "u/czw/bootcamp.20220630/calib             CHAINED    \n",
      "  u/czw/bootcamp.20220630/flat            CALIBRATION\n",
      "  u/czw/bootcamp.20220630/bias            CALIBRATION\n",
      "  u/czw/calibX                            CHAINED    \n",
      "    u/czw/defects.20220608                CALIBRATION\n",
      "  LATISS/calib                            CHAINED    \n",
      "    LATISS/calib/DM-33875                 CALIBRATION\n",
      "    u/czw/DM-28920/calib/bias.20210720    CALIBRATION\n",
      "    u/czw/DM-28920/calib/dark.20210720a   CALIBRATION\n",
      "    u/calib/DM-32209-20211013a-g          CALIBRATION\n",
      "    u/calib/DM-32209-20211013a-felh       CALIBRATION\n",
      "    u/czw/DM-28920/calib/flat.20210720    CALIBRATION\n",
      "    u/czw/DM-28920/calib/defect.20210720a CALIBRATION\n",
      "    LATISS/calib/DM-28636                 CALIBRATION\n",
      "    LATISS/calib/DM-28636/unbounded       RUN        \n"
     ]
    }
   ],
   "source": [
    "!butler query-collections /repo/main u/czw/bootcamp.20220630/calib"
   ]
  },
  {
   "cell_type": "code",
   "execution_count": null,
   "id": "4b2a1df8",
   "metadata": {},
   "outputs": [],
   "source": []
  }
 ],
 "metadata": {
  "kernelspec": {
   "display_name": "lsst_distrib_w_2022_39",
   "language": "python",
   "name": "lsst_distrib_w_2022_39"
  },
  "language_info": {
   "codemirror_mode": {
    "name": "ipython",
    "version": 3
   },
   "file_extension": ".py",
   "mimetype": "text/x-python",
   "name": "python",
   "nbconvert_exporter": "python",
   "pygments_lexer": "ipython3",
   "version": "3.10.6"
  }
 },
 "nbformat": 4,
 "nbformat_minor": 5
}
