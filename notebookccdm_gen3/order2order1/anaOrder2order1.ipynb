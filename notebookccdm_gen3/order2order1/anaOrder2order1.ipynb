{
 "cells": [
  {
   "cell_type": "markdown",
   "metadata": {},
   "source": [
    "# Analyse Order 2 order 1"
   ]
  },
  {
   "cell_type": "markdown",
   "metadata": {},
   "source": [
    "- author : Sylvie Dagoret-Campagne\n",
    "- affiliation : IJCLab/IN2P3/CNES, DESC-LSST fullmember, behalf AuxTel Teal VERA C. Rubin observatory\n",
    "- \n",
    "- creation date : May 30th  2022\n",
    "- last update : \n",
    "\n",
    "\n",
    "### \n",
    "\n",
    "    \n",
    "\n",
    "\n",
    "- **kernel anaconda3_auxtel** at CC or **python 3** locally"
   ]
  },
  {
   "cell_type": "markdown",
   "metadata": {},
   "source": [
    "# Imports"
   ]
  },
  {
   "cell_type": "code",
   "execution_count": 1,
   "metadata": {},
   "outputs": [],
   "source": [
    "import numpy as np\n",
    "import matplotlib.pyplot as plt\n",
    "%matplotlib inline\n",
    "from mpl_toolkits.axes_grid1 import make_axes_locatable\n",
    "from matplotlib.colors import LogNorm\n",
    "import pandas as pd\n",
    "\n",
    "import matplotlib.ticker                         # here's where the formatter is\n",
    "import os\n",
    "import re\n",
    "import pandas as pd\n",
    "\n",
    "plt.rcParams[\"figure.figsize\"] = (16,4)\n",
    "plt.rcParams[\"axes.labelsize\"] = 'xx-large'\n",
    "plt.rcParams['axes.titlesize'] = 'xx-large'\n",
    "plt.rcParams['xtick.labelsize']= 'xx-large'\n",
    "plt.rcParams['ytick.labelsize']= 'xx-large'"
   ]
  },
  {
   "cell_type": "code",
   "execution_count": 2,
   "metadata": {},
   "outputs": [],
   "source": [
    "import matplotlib.colors as colors\n",
    "import matplotlib.cm as cmx\n",
    "import matplotlib.gridspec as gridspec\n",
    "from matplotlib.patches import Rectangle\n",
    "\n",
    "from mpl_toolkits.axes_grid1.inset_locator import inset_axes"
   ]
  },
  {
   "cell_type": "code",
   "execution_count": 3,
   "metadata": {},
   "outputs": [
    {
     "data": {
      "image/png": "[encoded data removed]",
      "text/plain": [
       "<Figure size 360x144 with 1 Axes>"
      ]
     },
     "metadata": {
      "needs_background": "light"
     },
     "output_type": "display_data"
    }
   ],
   "source": [
    "fig=plt.figure(figsize=(5,2))\n",
    "ax=fig.add_subplot(1,1,1)\n",
    "X=np.linspace(-10,10,50)\n",
    "Y=np.sin(X)\n",
    "ax.plot(X,Y)\n",
    "plt.show()               "
   ]
  },
  {
   "cell_type": "code",
   "execution_count": 4,
   "metadata": {},
   "outputs": [],
   "source": [
    "import matplotlib.offsetbox\n",
    "props = dict(boxstyle='round',edgecolor=\"w\",facecolor=\"w\", alpha=0.5)"
   ]
  },
  {
   "cell_type": "code",
   "execution_count": 5,
   "metadata": {},
   "outputs": [],
   "source": [
    "from datetime import datetime,date"
   ]
  },
  {
   "cell_type": "code",
   "execution_count": 6,
   "metadata": {},
   "outputs": [],
   "source": [
    "#pip install fpdf\n",
    "#from fpdf import FPDF\n",
    "\n",
    "import matplotlib.pyplot as plt\n",
    "from matplotlib.backends.backend_pdf import PdfPages"
   ]
  },
  {
   "cell_type": "code",
   "execution_count": 7,
   "metadata": {},
   "outputs": [],
   "source": [
    "today = date.today()\n",
    "string_date=today.strftime(\"%Y-%m-%d\")"
   ]
  },
  {
   "cell_type": "code",
   "execution_count": 8,
   "metadata": {},
   "outputs": [
    {
     "data": {
      "text/plain": [
       "'2022-05-30'"
      ]
     },
     "execution_count": 8,
     "metadata": {},
     "output_type": "execute_result"
    }
   ],
   "source": [
    "string_date"
   ]
  },
  {
   "cell_type": "code",
   "execution_count": 9,
   "metadata": {},
   "outputs": [],
   "source": [
    "from iminuit import Minuit\n",
    "import iminuit"
   ]
  },
  {
   "cell_type": "code",
   "execution_count": 10,
   "metadata": {},
   "outputs": [
    {
     "data": {
      "text/plain": [
       "'2.8.4'"
      ]
     },
     "execution_count": 10,
     "metadata": {},
     "output_type": "execute_result"
    }
   ],
   "source": [
    "iminuit.__version__"
   ]
  },
  {
   "cell_type": "code",
   "execution_count": 11,
   "metadata": {},
   "outputs": [],
   "source": [
    "from astropy.io import fits\n",
    "from spectractor import parameters\n",
    "from spectractor.extractor.extractor import Spectractor\n",
    "from spectractor.extractor.spectrum import Spectrum, detect_lines\n",
    "from spectractor.extractor.spectrum import *\n",
    "#from spectractor.extractor.spectroscopy import Lines, Line ,HALPHA, HBETA, O2_1, H2O_1,H2O_2\n",
    "from spectractor.extractor.spectroscopy import Lines, Line ,HALPHA, HBETA, HGAMMA, HDELTA,HEPSILON,O2_1, H2O_1, ATMOSPHERIC_LINES\n",
    "from spectractor.config import load_config\n",
    "from spectractor import parameters\n",
    "from spectractor.extractor.images import *\n",
    "from scipy import ndimage, misc\n",
    "from scipy.interpolate import interp1d"
   ]
  },
  {
   "cell_type": "code",
   "execution_count": 12,
   "metadata": {},
   "outputs": [],
   "source": [
    "H2O_2 = Line(960, atmospheric=True, label=r'$H_2 O$', label_pos=[0.007, 0.02],width_bounds=[5, 30])  # libradtran paper fig.3, broad line"
   ]
  },
  {
   "cell_type": "code",
   "execution_count": 13,
   "metadata": {},
   "outputs": [],
   "source": [
    "import requests\n",
    "from requests.adapters import HTTPAdapter\n",
    "from requests.packages.urllib3.util.retry import Retry"
   ]
  },
  {
   "cell_type": "code",
   "execution_count": 14,
   "metadata": {},
   "outputs": [],
   "source": [
    "from time import sleep"
   ]
  },
  {
   "cell_type": "code",
   "execution_count": 15,
   "metadata": {},
   "outputs": [],
   "source": [
    "from astropy.time import Time\n",
    "import astropy.units as u"
   ]
  },
  {
   "cell_type": "markdown",
   "metadata": {},
   "source": [
    "# Function"
   ]
  },
  {
   "cell_type": "code",
   "execution_count": 16,
   "metadata": {},
   "outputs": [],
   "source": [
    "def file_tag_forsorting(filename):\n",
    "    # m=re.findall('^Cor_holo4_003_.*([0-9][0-9][0-9][0-9]-[0-9][0-9]-[0-9][0-9]_.*)[.]fits$',filename)\n",
    "    m = re.findall('^exposure_.*([0-9][0-9][0-9][0-9][0-9])_postisrccd.*', filename)\n",
    "    if len(m)>0:\n",
    "        return m[0]\n",
    "    else:\n",
    "        return None\n"
   ]
  },
  {
   "cell_type": "code",
   "execution_count": 17,
   "metadata": {},
   "outputs": [],
   "source": [
    "def subdir_tag_forsorting(subdir):\n",
    "    # m=re.findall('^Cor_holo4_003_.*([0-9][0-9][0-9][0-9]-[0-9][0-9]-[0-9][0-9]_.*)[.]fits$',filename)\n",
    "    m = re.findall('.*([0-9][0-9][0-9][0-9][0-9])$', subdir)\n",
    "    if len(m)>0:\n",
    "        return m[0]\n",
    "    else:\n",
    "        return None\n"
   ]
  },
  {
   "cell_type": "code",
   "execution_count": 18,
   "metadata": {},
   "outputs": [
    {
     "data": {
      "text/plain": [
       "'00330'"
      ]
     },
     "execution_count": 18,
     "metadata": {},
     "output_type": "execute_result"
    }
   ],
   "source": [
    "file_tag_forsorting('exposure_2022031600330_postisrccd.fits')"
   ]
  },
  {
   "cell_type": "code",
   "execution_count": 19,
   "metadata": {},
   "outputs": [
    {
     "data": {
      "text/plain": [
       "'00330'"
      ]
     },
     "execution_count": 19,
     "metadata": {},
     "output_type": "execute_result"
    }
   ],
   "source": [
    "subdir_tag_forsorting('2022031600330')"
   ]
  },
  {
   "cell_type": "markdown",
   "metadata": {},
   "source": [
    "# Config"
   ]
  },
  {
   "cell_type": "code",
   "execution_count": 20,
   "metadata": {},
   "outputs": [],
   "source": [
    "# path index for each month\n",
    "DATE=\"20211104\""
   ]
  },
  {
   "cell_type": "markdown",
   "metadata": {},
   "source": [
    "# Input file\n",
    "\n",
    "/sps/lsst/groups/auxtel/data/2022/OutputSpectractor/postISRCCD/BG40~holo4_003/config_DECONVOLUTION_PSF1D/20211104/2021110400508/basespec"
   ]
  },
  {
   "cell_type": "code",
   "execution_count": 21,
   "metadata": {},
   "outputs": [],
   "source": [
    "top_path = \"/sps/lsst/groups/auxtel/data/2022/OutputSpectractor/postISRCCD/BG40~holo4_003/config_DECONVOLUTION_PSF1D\""
   ]
  },
  {
   "cell_type": "code",
   "execution_count": 22,
   "metadata": {},
   "outputs": [],
   "source": [
    "exposure =\"2021110400508\""
   ]
  },
  {
   "cell_type": "code",
   "execution_count": 30,
   "metadata": {},
   "outputs": [],
   "source": [
    "path=os.path.join(os.path.join(top_path,DATE),exposure)"
   ]
  },
  {
   "cell_type": "code",
   "execution_count": 31,
   "metadata": {},
   "outputs": [],
   "source": [
    "path_subdir=os.path.join(path,\"basespec\")"
   ]
  },
  {
   "cell_type": "code",
   "execution_count": 33,
   "metadata": {},
   "outputs": [],
   "source": [
    "all_files = os.listdir(path_subdir)"
   ]
  },
  {
   "cell_type": "code",
   "execution_count": 34,
   "metadata": {},
   "outputs": [
    {
     "data": {
      "text/plain": [
       "['exposure_2021110400508_postisrccd_table.csv',\n",
       " 'exposure_2021110400508_postisrccd_lines.csv',\n",
       " 'exposure_2021110400508_postisrccd_spectrogram.fits',\n",
       " 'exposure_2021110400508_postisrccd_spectrum.fits']"
      ]
     },
     "execution_count": 34,
     "metadata": {},
     "output_type": "execute_result"
    }
   ],
   "source": [
    "all_files "
   ]
  },
  {
   "cell_type": "code",
   "execution_count": 36,
   "metadata": {},
   "outputs": [],
   "source": [
    "table = pd.read_csv(os.path.join(path_subdir,all_files[0]))"
   ]
  },
  {
   "cell_type": "code",
   "execution_count": 37,
   "metadata": {},
   "outputs": [
    {
     "data": {
      "text/html": [
       "<div>\n",
       "<style scoped>\n",
       "    .dataframe tbody tr th:only-of-type {\n",
       "        vertical-align: middle;\n",
       "    }\n",
       "\n",
       "    .dataframe tbody tr th {\n",
       "        vertical-align: top;\n",
       "    }\n",
       "\n",
       "    .dataframe thead th {\n",
       "        text-align: right;\n",
       "    }\n",
       "</style>\n",
       "<table border=\"1\" class=\"dataframe\">\n",
       "  <thead>\n",
       "    <tr style=\"text-align: right;\">\n",
       "      <th></th>\n",
       "      <th>lambdas</th>\n",
       "      <th>Dx</th>\n",
       "      <th>Dy</th>\n",
       "      <th>Dy_disp_axis</th>\n",
       "      <th>flux_sum</th>\n",
       "      <th>flux_integral</th>\n",
       "      <th>flux_err</th>\n",
       "      <th>fwhm</th>\n",
       "      <th>Dy_fwhm_sup</th>\n",
       "      <th>Dy_fwhm_inf</th>\n",
       "      <th>amplitude</th>\n",
       "      <th>x_c</th>\n",
       "      <th>y_c</th>\n",
       "      <th>gamma</th>\n",
       "      <th>alpha</th>\n",
       "      <th>saturation</th>\n",
       "    </tr>\n",
       "  </thead>\n",
       "  <tbody>\n",
       "    <tr>\n",
       "      <th>0</th>\n",
       "      <td>315.288388</td>\n",
       "      <td>890.323512</td>\n",
       "      <td>-4.562149</td>\n",
       "      <td>-4.350976</td>\n",
       "      <td>16.350582</td>\n",
       "      <td>1.931161</td>\n",
       "      <td>11.107721</td>\n",
       "      <td>28.756957</td>\n",
       "      <td>9.816158</td>\n",
       "      <td>-18.940455</td>\n",
       "      <td>1.931161</td>\n",
       "      <td>0.892981</td>\n",
       "      <td>190.101856</td>\n",
       "      <td>37.925972</td>\n",
       "      <td>5.161018</td>\n",
       "      <td>8500.0</td>\n",
       "    </tr>\n",
       "    <tr>\n",
       "      <th>1</th>\n",
       "      <td>315.642431</td>\n",
       "      <td>891.323500</td>\n",
       "      <td>-4.544182</td>\n",
       "      <td>-4.355863</td>\n",
       "      <td>13.983736</td>\n",
       "      <td>2.271968</td>\n",
       "      <td>11.119939</td>\n",
       "      <td>28.744942</td>\n",
       "      <td>9.828117</td>\n",
       "      <td>-18.916481</td>\n",
       "      <td>2.271968</td>\n",
       "      <td>1.892969</td>\n",
       "      <td>190.119822</td>\n",
       "      <td>37.886898</td>\n",
       "      <td>5.155020</td>\n",
       "      <td>8500.0</td>\n",
       "    </tr>\n",
       "    <tr>\n",
       "      <th>2</th>\n",
       "      <td>315.996469</td>\n",
       "      <td>892.323488</td>\n",
       "      <td>-4.526229</td>\n",
       "      <td>-4.360750</td>\n",
       "      <td>21.179093</td>\n",
       "      <td>2.709624</td>\n",
       "      <td>11.135353</td>\n",
       "      <td>28.735759</td>\n",
       "      <td>9.841479</td>\n",
       "      <td>-18.893937</td>\n",
       "      <td>2.709624</td>\n",
       "      <td>2.892957</td>\n",
       "      <td>190.137776</td>\n",
       "      <td>37.847853</td>\n",
       "      <td>5.149026</td>\n",
       "      <td>8500.0</td>\n",
       "    </tr>\n",
       "    <tr>\n",
       "      <th>3</th>\n",
       "      <td>316.350502</td>\n",
       "      <td>893.323476</td>\n",
       "      <td>-4.508288</td>\n",
       "      <td>-4.365637</td>\n",
       "      <td>22.837524</td>\n",
       "      <td>2.808833</td>\n",
       "      <td>11.139885</td>\n",
       "      <td>28.723795</td>\n",
       "      <td>9.853438</td>\n",
       "      <td>-18.870014</td>\n",
       "      <td>2.808833</td>\n",
       "      <td>3.892945</td>\n",
       "      <td>190.155717</td>\n",
       "      <td>37.808838</td>\n",
       "      <td>5.143038</td>\n",
       "      <td>8500.0</td>\n",
       "    </tr>\n",
       "    <tr>\n",
       "      <th>4</th>\n",
       "      <td>316.704530</td>\n",
       "      <td>894.323465</td>\n",
       "      <td>-4.490360</td>\n",
       "      <td>-4.370524</td>\n",
       "      <td>-6.497992</td>\n",
       "      <td>-5.688692</td>\n",
       "      <td>11.073894</td>\n",
       "      <td>28.711311</td>\n",
       "      <td>9.865124</td>\n",
       "      <td>-18.845844</td>\n",
       "      <td>-5.688692</td>\n",
       "      <td>4.892933</td>\n",
       "      <td>190.173644</td>\n",
       "      <td>37.769853</td>\n",
       "      <td>5.137053</td>\n",
       "      <td>8500.0</td>\n",
       "    </tr>\n",
       "    <tr>\n",
       "      <th>...</th>\n",
       "      <td>...</td>\n",
       "      <td>...</td>\n",
       "      <td>...</td>\n",
       "      <td>...</td>\n",
       "      <td>...</td>\n",
       "      <td>...</td>\n",
       "      <td>...</td>\n",
       "      <td>...</td>\n",
       "      <td>...</td>\n",
       "      <td>...</td>\n",
       "      <td>...</td>\n",
       "      <td>...</td>\n",
       "      <td>...</td>\n",
       "      <td>...</td>\n",
       "      <td>...</td>\n",
       "      <td>...</td>\n",
       "    </tr>\n",
       "    <tr>\n",
       "      <th>2055</th>\n",
       "      <td>1031.399208</td>\n",
       "      <td>2945.298974</td>\n",
       "      <td>5.327811</td>\n",
       "      <td>-14.393561</td>\n",
       "      <td>3093.781103</td>\n",
       "      <td>2470.141687</td>\n",
       "      <td>15.850718</td>\n",
       "      <td>23.060644</td>\n",
       "      <td>16.857995</td>\n",
       "      <td>-6.202373</td>\n",
       "      <td>2470.141687</td>\n",
       "      <td>2055.868442</td>\n",
       "      <td>199.991816</td>\n",
       "      <td>20.506855</td>\n",
       "      <td>2.523264</td>\n",
       "      <td>8500.0</td>\n",
       "    </tr>\n",
       "    <tr>\n",
       "      <th>2056</th>\n",
       "      <td>1031.740383</td>\n",
       "      <td>2946.298962</td>\n",
       "      <td>5.319457</td>\n",
       "      <td>-14.398448</td>\n",
       "      <td>3103.201348</td>\n",
       "      <td>2496.255876</td>\n",
       "      <td>15.862754</td>\n",
       "      <td>23.067578</td>\n",
       "      <td>16.853108</td>\n",
       "      <td>-6.214194</td>\n",
       "      <td>2496.255876</td>\n",
       "      <td>2056.868431</td>\n",
       "      <td>199.983462</td>\n",
       "      <td>20.529007</td>\n",
       "      <td>2.526699</td>\n",
       "      <td>8500.0</td>\n",
       "    </tr>\n",
       "    <tr>\n",
       "      <th>2057</th>\n",
       "      <td>1032.081550</td>\n",
       "      <td>2947.298950</td>\n",
       "      <td>5.311090</td>\n",
       "      <td>-14.403334</td>\n",
       "      <td>3077.638870</td>\n",
       "      <td>2470.943990</td>\n",
       "      <td>15.811005</td>\n",
       "      <td>23.074537</td>\n",
       "      <td>16.848221</td>\n",
       "      <td>-6.226040</td>\n",
       "      <td>2470.943990</td>\n",
       "      <td>2057.868419</td>\n",
       "      <td>199.975095</td>\n",
       "      <td>20.551188</td>\n",
       "      <td>2.530139</td>\n",
       "      <td>8500.0</td>\n",
       "    </tr>\n",
       "    <tr>\n",
       "      <th>2058</th>\n",
       "      <td>1032.422707</td>\n",
       "      <td>2948.298938</td>\n",
       "      <td>5.302711</td>\n",
       "      <td>-14.408221</td>\n",
       "      <td>3076.340762</td>\n",
       "      <td>2466.608233</td>\n",
       "      <td>15.787519</td>\n",
       "      <td>23.081522</td>\n",
       "      <td>16.843334</td>\n",
       "      <td>-6.237912</td>\n",
       "      <td>2466.608233</td>\n",
       "      <td>2058.868407</td>\n",
       "      <td>199.966716</td>\n",
       "      <td>20.573399</td>\n",
       "      <td>2.533584</td>\n",
       "      <td>8500.0</td>\n",
       "    </tr>\n",
       "    <tr>\n",
       "      <th>2059</th>\n",
       "      <td>1032.763856</td>\n",
       "      <td>2949.298926</td>\n",
       "      <td>5.294319</td>\n",
       "      <td>-14.413108</td>\n",
       "      <td>3096.335056</td>\n",
       "      <td>2460.693602</td>\n",
       "      <td>15.774367</td>\n",
       "      <td>23.088533</td>\n",
       "      <td>16.838447</td>\n",
       "      <td>-6.249810</td>\n",
       "      <td>2460.693602</td>\n",
       "      <td>2059.868395</td>\n",
       "      <td>199.958323</td>\n",
       "      <td>20.595640</td>\n",
       "      <td>2.537033</td>\n",
       "      <td>8500.0</td>\n",
       "    </tr>\n",
       "  </tbody>\n",
       "</table>\n",
       "<p>2060 rows × 16 columns</p>\n",
       "</div>"
      ],
      "text/plain": [
       "          lambdas           Dx        Dy  Dy_disp_axis     flux_sum  \\\n",
       "0      315.288388   890.323512 -4.562149     -4.350976    16.350582   \n",
       "1      315.642431   891.323500 -4.544182     -4.355863    13.983736   \n",
       "2      315.996469   892.323488 -4.526229     -4.360750    21.179093   \n",
       "3      316.350502   893.323476 -4.508288     -4.365637    22.837524   \n",
       "4      316.704530   894.323465 -4.490360     -4.370524    -6.497992   \n",
       "...           ...          ...       ...           ...          ...   \n",
       "2055  1031.399208  2945.298974  5.327811    -14.393561  3093.781103   \n",
       "2056  1031.740383  2946.298962  5.319457    -14.398448  3103.201348   \n",
       "2057  1032.081550  2947.298950  5.311090    -14.403334  3077.638870   \n",
       "2058  1032.422707  2948.298938  5.302711    -14.408221  3076.340762   \n",
       "2059  1032.763856  2949.298926  5.294319    -14.413108  3096.335056   \n",
       "\n",
       "      flux_integral   flux_err       fwhm  Dy_fwhm_sup  Dy_fwhm_inf  \\\n",
       "0          1.931161  11.107721  28.756957     9.816158   -18.940455   \n",
       "1          2.271968  11.119939  28.744942     9.828117   -18.916481   \n",
       "2          2.709624  11.135353  28.735759     9.841479   -18.893937   \n",
       "3          2.808833  11.139885  28.723795     9.853438   -18.870014   \n",
       "4         -5.688692  11.073894  28.711311     9.865124   -18.845844   \n",
       "...             ...        ...        ...          ...          ...   \n",
       "2055    2470.141687  15.850718  23.060644    16.857995    -6.202373   \n",
       "2056    2496.255876  15.862754  23.067578    16.853108    -6.214194   \n",
       "2057    2470.943990  15.811005  23.074537    16.848221    -6.226040   \n",
       "2058    2466.608233  15.787519  23.081522    16.843334    -6.237912   \n",
       "2059    2460.693602  15.774367  23.088533    16.838447    -6.249810   \n",
       "\n",
       "        amplitude          x_c         y_c      gamma     alpha  saturation  \n",
       "0        1.931161     0.892981  190.101856  37.925972  5.161018      8500.0  \n",
       "1        2.271968     1.892969  190.119822  37.886898  5.155020      8500.0  \n",
       "2        2.709624     2.892957  190.137776  37.847853  5.149026      8500.0  \n",
       "3        2.808833     3.892945  190.155717  37.808838  5.143038      8500.0  \n",
       "4       -5.688692     4.892933  190.173644  37.769853  5.137053      8500.0  \n",
       "...           ...          ...         ...        ...       ...         ...  \n",
       "2055  2470.141687  2055.868442  199.991816  20.506855  2.523264      8500.0  \n",
       "2056  2496.255876  2056.868431  199.983462  20.529007  2.526699      8500.0  \n",
       "2057  2470.943990  2057.868419  199.975095  20.551188  2.530139      8500.0  \n",
       "2058  2466.608233  2058.868407  199.966716  20.573399  2.533584      8500.0  \n",
       "2059  2460.693602  2059.868395  199.958323  20.595640  2.537033      8500.0  \n",
       "\n",
       "[2060 rows x 16 columns]"
      ]
     },
     "execution_count": 37,
     "metadata": {},
     "output_type": "execute_result"
    }
   ],
   "source": [
    "table"
   ]
  },
  {
   "cell_type": "code",
   "execution_count": 45,
   "metadata": {},
   "outputs": [
    {
     "name": "stdout",
     "output_type": "stream",
     "text": [
      "set date_obs to 2021-11-05T04:49:33.916\n",
      "set expo to 20.0\n",
      "set airmass to 1.41214447333932\n",
      "set disperser_label to holo4_003\n",
      "set units to erg/s/cm$^2$/nm\n",
      "set rotation_angle to -0.28\n",
      "set dec to -66.0397222222222\n",
      "set hour_angle to -45.38165160354449\n",
      "set temperature to 5.6\n",
      "set pressure to 740.35\n",
      "set humidity to 37.0\n",
      "set lambda_ref to 578.253619221546\n",
      "set parallactic_angle to -60.35656136093252\n"
     ]
    },
    {
     "name": "stderr",
     "output_type": "stream",
     "text": [
      "/sps/lsst/groups/auxtel/softs/utils/anaconda3/lib/python3.8/site-packages/secretstorage/dhcrypto.py:16: CryptographyDeprecationWarning: int_from_bytes is deprecated, use int.from_bytes instead\n",
      "  from cryptography.utils import int_from_bytes\n",
      "/sps/lsst/groups/auxtel/softs/utils/anaconda3/lib/python3.8/site-packages/secretstorage/util.py:25: CryptographyDeprecationWarning: int_from_bytes is deprecated, use int.from_bytes instead\n",
      "  from cryptography.utils import int_from_bytes\n"
     ]
    },
    {
     "name": "stdout",
     "output_type": "stream",
     "text": [
      "target_name = etador, Selected object name for Simbad : ETA1 DOR\n",
      "  MAIN_ID         RA           DEC      ...  Z_VALUE  SCRIPT_NUMBER_ID\n",
      "               \"h:m:s\"       \"d:m:s\"    ...                           \n",
      "----------- ------------- ------------- ... --------- ----------------\n",
      "* eta01 Dor 06 06 09.3817 -66 02 22.635 ... 0.0000590                1\n"
     ]
    }
   ],
   "source": [
    "spectrum = Spectrum(file_name=os.path.join(path_subdir,all_files[-1]))"
   ]
  },
  {
   "cell_type": "code",
   "execution_count": 47,
   "metadata": {},
   "outputs": [
    {
     "data": {
      "image/png": "[encoded data removed]",
      "text/plain": [
       "<Figure size 864x432 with 1 Axes>"
      ]
     },
     "metadata": {
      "needs_background": "light"
     },
     "output_type": "display_data"
    }
   ],
   "source": [
    "spectrum.plot_spectrum(xlim=[300,1100], live_fit=False, force_lines=True)"
   ]
  },
  {
   "cell_type": "markdown",
   "metadata": {},
   "source": [
    "##### "
   ]
  },
  {
   "cell_type": "code",
   "execution_count": 50,
   "metadata": {},
   "outputs": [
    {
     "data": {
      "text/plain": [
       "Text(0, 0.5, 'ADU')"
      ]
     },
     "execution_count": 50,
     "metadata": {},
     "output_type": "execute_result"
    },
    {
     "data": {
      "image/png": "[encoded data removed]",
      "text/plain": [
       "<Figure size 1152x288 with 1 Axes>"
      ]
     },
     "metadata": {
      "needs_background": "light"
     },
     "output_type": "display_data"
    }
   ],
   "source": [
    "fig=plt.figure()\n",
    "ax=fig.add_subplot(111)\n",
    "ax.plot(table.lambdas,table.flux_sum,label=\"flux sum\")\n",
    "ax.plot(table.lambdas,table.flux_integral,label=\"flux_integral\")\n",
    "ax.legend()\n",
    "ax.set_xlabel(\"$\\\\lambda$ (nm)\")\n",
    "ax.set_ylabel(\"ADU\")"
   ]
  },
  {
   "cell_type": "code",
   "execution_count": null,
   "metadata": {},
   "outputs": [],
   "source": []
  },
  {
   "cell_type": "code",
   "execution_count": null,
   "metadata": {},
   "outputs": [],
   "source": []
  }
 ],
 "metadata": {
  "kernelspec": {
   "display_name": "anaconda3_auxtel",
   "language": "python",
   "name": "anaconda3_auxtel"
  },
  "language_info": {
   "codemirror_mode": {
    "name": "ipython",
    "version": 3
   },
   "file_extension": ".py",
   "mimetype": "text/x-python",
   "name": "python",
   "nbconvert_exporter": "python",
   "pygments_lexer": "ipython3",
   "version": "3.8.5"
  },
  "toc": {
   "base_numbering": 1,
   "nav_menu": {},
   "number_sections": true,
   "sideBar": true,
   "skip_h1_title": false,
   "title_cell": "Table of Contents",
   "title_sidebar": "Contents",
   "toc_cell": false,
   "toc_position": {},
   "toc_section_display": true,
   "toc_window_display": false
  }
 },
 "nbformat": 4,
 "nbformat_minor": 4
}
