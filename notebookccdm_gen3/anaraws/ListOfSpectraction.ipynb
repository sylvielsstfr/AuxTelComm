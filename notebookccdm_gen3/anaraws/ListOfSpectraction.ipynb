{
 "cells": [
  {
   "cell_type": "markdown",
   "id": "9ff36740",
   "metadata": {
    "tags": []
   },
   "source": [
    "# List of spectraction\n",
    "\n",
    "- work with Weakly_2022_09\n",
    "- use jupyter kernel LSST\n",
    "\n",
    "\n",
    "- author : Sylvie Dagoret-Campagne\n",
    "- affiliation : IJCLab\n",
    "- creation date : 2022/03/16\n",
    "- updatz : 2022/03/16\n",
    "\n"
   ]
  },
  {
   "cell_type": "code",
   "execution_count": 1,
   "id": "9348a322",
   "metadata": {},
   "outputs": [
    {
     "name": "stdout",
     "output_type": "stream",
     "text": [
      "atmospec              LOCAL:/sps/lsst/groups/auxtel/softs/shared/auxteldm_gen3/repos/w_2022_09/atmospec \tsetup\n",
      "eups                  LOCAL:/cvmfs/sw.lsst.eu/linux-x86_64/lsst_distrib/w_2022_09/conda/envs/lsst-scipipe-2.0.0/eups \tsetup\n",
      "rapid_analysis        LOCAL:/sps/lsst/groups/auxtel/softs/shared/auxteldm_gen3/repos/w_2022_09/rapid_analysis \tsetup\n"
     ]
    }
   ],
   "source": [
    "! eups list -s | grep LOCAL"
   ]
  },
  {
   "cell_type": "code",
   "execution_count": 2,
   "id": "3fed5f5d",
   "metadata": {},
   "outputs": [
    {
     "name": "stdout",
     "output_type": "stream",
     "text": [
      "\n",
      "   g64fc59b30a+e1dba0a6f6 \tw_latest w_2022_09 current setup\n"
     ]
    }
   ],
   "source": [
    "! eups list -s lsst_distrib"
   ]
  },
  {
   "cell_type": "code",
   "execution_count": 3,
   "id": "9027b824",
   "metadata": {},
   "outputs": [],
   "source": [
    "import os\n",
    "import matplotlib.pyplot as plt\n",
    "import numpy as np\n",
    "import pandas as pd\n",
    "%matplotlib inline\n",
    "from matplotlib.colors import LogNorm\n",
    "\n",
    "from mpl_toolkits.axes_grid1 import make_axes_locatable\n",
    "\n",
    "import matplotlib.ticker                         # here's where the formatter is\n",
    "from matplotlib.ticker import (MultipleLocator, FormatStrFormatter,\n",
    "                               AutoMinorLocator)\n",
    "\n"
   ]
  },
  {
   "cell_type": "code",
   "execution_count": 4,
   "id": "8c046e1f",
   "metadata": {},
   "outputs": [],
   "source": [
    "from astropy.visualization import (MinMaxInterval, SqrtStretch,ZScaleInterval,PercentileInterval,\n",
    "                                   ImageNormalize,imshow_norm)\n",
    "from astropy.visualization.stretch import SinhStretch, LinearStretch,AsinhStretch,LogStretch\n"
   ]
  },
  {
   "cell_type": "code",
   "execution_count": 5,
   "id": "9cbf7520",
   "metadata": {},
   "outputs": [],
   "source": [
    "import lsst.afw.display as afwDisplay\n",
    "afwDisplay.setDefaultBackend('matplotlib')"
   ]
  },
  {
   "cell_type": "code",
   "execution_count": 6,
   "id": "3c3b257a",
   "metadata": {},
   "outputs": [],
   "source": [
    "import lsst.daf.butler as dafButler"
   ]
  },
  {
   "cell_type": "code",
   "execution_count": 7,
   "id": "edd00bb4",
   "metadata": {},
   "outputs": [],
   "source": [
    "repo = '/sps/lsst/groups/auxtel/softs/shared/auxteldm_gen3/data/butler.yaml'\n",
    "butler = dafButler.Butler(repo)\n",
    "registry = butler.registry"
   ]
  },
  {
   "cell_type": "code",
   "execution_count": 8,
   "id": "86210e68",
   "metadata": {},
   "outputs": [
    {
     "name": "stderr",
     "output_type": "stream",
     "text": [
      "/sps/lsst/groups/auxtel/softs/shared/auxteldm_gen3/repos/w_2022_09/rapid_analysis/python/lsst/rapid/analysis/visitCheck.py:132: FutureWarning: Call to deprecated function (or staticmethod) timeMethod. (timeMethod has been replaced by lsst.utils.timer.timeMethod. Will be removed after v25.) -- Deprecated since version v24.\n",
      "  def runDataRef(self, dataRef):\n"
     ]
    }
   ],
   "source": [
    "from lsst.rapid.analysis.nightReport import NightReporter\n",
    "dayObs = 20210707\n",
    "#reporter = NightReporter('/sps/lsst/groups/auxtel/softs/shared/auxteldm_gen3/data', dayObs)"
   ]
  },
  {
   "cell_type": "code",
   "execution_count": 9,
   "id": "960df4b5",
   "metadata": {},
   "outputs": [],
   "source": [
    "#NightReporter?"
   ]
  },
  {
   "cell_type": "code",
   "execution_count": 10,
   "id": "21018aab",
   "metadata": {},
   "outputs": [],
   "source": [
    "#transform = AsinhStretch() + PercentileInterval(99.)\n",
    "transform = PercentileInterval(98.)"
   ]
  },
  {
   "cell_type": "code",
   "execution_count": 11,
   "id": "b23bf912",
   "metadata": {},
   "outputs": [],
   "source": [
    "collection = \"u/dagoret/first_test\"\n",
    "datasetRefs = registry.queryDatasets(datasetType='spectraction', collections=collection, \n",
    "                                     where= \"instrument='LATISS'\")"
   ]
  },
  {
   "cell_type": "code",
   "execution_count": 12,
   "id": "62c802c0",
   "metadata": {},
   "outputs": [
    {
     "name": "stdout",
     "output_type": "stream",
     "text": [
      "======================================================= datasetType = spectraction =================================================================\n",
      "fullId:  {band: 'white', instrument: 'LATISS', detector: 0, physical_filter: 'empty~holo4_003', visit_system: 0, visit: 2021070700318}\n",
      "..................................................................................\n",
      "band:    white\n",
      "type:    DatasetType('spectraction', {band, instrument, detector, physical_filter, visit_system, visit}, Spectraction)\n",
      "++++++++++++++++++++++++++++++++++++++++++++++++++++++++++++++++++++++++++++++++++\n",
      "id=UUID('b57b8b02-11c7-4d67-a762-8611453bb2cd') datasetType=SerializedDatasetType(name='spectraction', storageClass='Spectraction', dimensions=SerializedDimensionGraph(names=['band', 'instrument', 'detector', 'physical_filter', 'visit_system', 'visit']), parentStorageClass=None, isCalibration=False) dataId=SerializedDataCoordinate(dataId={'band': 'white', 'instrument': 'LATISS', 'detector': 0, 'physical_filter': 'empty~holo4_003', 'visit_system': 0, 'visit': 2021070700318}, records=None) run='u/dagoret/first_test/20220314T093738Z' component=None\n",
      ".  .  .  .  .  .  .  .  .  .  .  .  .  .  .  .  .  .  .  .  .  .  .  .  .  .  .  .\n",
      "{\"id\": \"b57b8b02-11c7-4d67-a762-8611453bb2cd\", \"datasetType\": {\"name\": \"spectraction\", \"storageClass\": \"Spectraction\", \"dimensions\": {\"names\": [\"band\", \"instrument\", \"detector\", \"physical_filter\", \"visit_system\", \"visit\"]}}, \"dataId\": {\"dataId\": {\"band\": \"white\", \"instrument\": \"LATISS\", \"detector\": 0, \"physical_filter\": \"empty~holo4_003\", \"visit_system\": 0, \"visit\": 2021070700318}}, \"run\": \"u/dagoret/first_test/20220314T093738Z\"}\n",
      "++++++++++++++++++++++++++++++++++++++++++++++++++++++++++++++++++++++++++++++++++\n",
      "run =  u/dagoret/first_test/20220314T093738Z\n",
      "isCalibration:  False\n",
      "isComponent:     False\n",
      "isComposite:    False\n",
      "======================================================= datasetType = spectraction =================================================================\n",
      "fullId:  {band: 'white', instrument: 'LATISS', detector: 0, physical_filter: 'empty~holo4_003', visit_system: 0, visit: 2021070700319}\n",
      "..................................................................................\n",
      "band:    white\n",
      "type:    DatasetType('spectraction', {band, instrument, detector, physical_filter, visit_system, visit}, Spectraction)\n",
      "++++++++++++++++++++++++++++++++++++++++++++++++++++++++++++++++++++++++++++++++++\n",
      "id=UUID('0fe1f87c-c47f-45ea-8806-73bf187e3793') datasetType=SerializedDatasetType(name='spectraction', storageClass='Spectraction', dimensions=SerializedDimensionGraph(names=['band', 'instrument', 'detector', 'physical_filter', 'visit_system', 'visit']), parentStorageClass=None, isCalibration=False) dataId=SerializedDataCoordinate(dataId={'band': 'white', 'instrument': 'LATISS', 'detector': 0, 'physical_filter': 'empty~holo4_003', 'visit_system': 0, 'visit': 2021070700319}, records=None) run='u/dagoret/first_test/20220314T104131Z' component=None\n",
      ".  .  .  .  .  .  .  .  .  .  .  .  .  .  .  .  .  .  .  .  .  .  .  .  .  .  .  .\n",
      "{\"id\": \"0fe1f87c-c47f-45ea-8806-73bf187e3793\", \"datasetType\": {\"name\": \"spectraction\", \"storageClass\": \"Spectraction\", \"dimensions\": {\"names\": [\"band\", \"instrument\", \"detector\", \"physical_filter\", \"visit_system\", \"visit\"]}}, \"dataId\": {\"dataId\": {\"band\": \"white\", \"instrument\": \"LATISS\", \"detector\": 0, \"physical_filter\": \"empty~holo4_003\", \"visit_system\": 0, \"visit\": 2021070700319}}, \"run\": \"u/dagoret/first_test/20220314T104131Z\"}\n",
      "++++++++++++++++++++++++++++++++++++++++++++++++++++++++++++++++++++++++++++++++++\n",
      "run =  u/dagoret/first_test/20220314T104131Z\n",
      "isCalibration:  False\n",
      "isComponent:     False\n",
      "isComposite:    False\n",
      "======================================================= datasetType = spectraction =================================================================\n",
      "fullId:  {band: 'white', instrument: 'LATISS', detector: 0, physical_filter: 'empty~holo4_003', visit_system: 0, visit: 2021070700320}\n",
      "..................................................................................\n",
      "band:    white\n",
      "type:    DatasetType('spectraction', {band, instrument, detector, physical_filter, visit_system, visit}, Spectraction)\n",
      "++++++++++++++++++++++++++++++++++++++++++++++++++++++++++++++++++++++++++++++++++\n",
      "id=UUID('133f3b94-2c90-4820-8c4b-a419005f8710') datasetType=SerializedDatasetType(name='spectraction', storageClass='Spectraction', dimensions=SerializedDimensionGraph(names=['band', 'instrument', 'detector', 'physical_filter', 'visit_system', 'visit']), parentStorageClass=None, isCalibration=False) dataId=SerializedDataCoordinate(dataId={'band': 'white', 'instrument': 'LATISS', 'detector': 0, 'physical_filter': 'empty~holo4_003', 'visit_system': 0, 'visit': 2021070700320}, records=None) run='u/dagoret/first_test/20220314T110503Z' component=None\n",
      ".  .  .  .  .  .  .  .  .  .  .  .  .  .  .  .  .  .  .  .  .  .  .  .  .  .  .  .\n",
      "{\"id\": \"133f3b94-2c90-4820-8c4b-a419005f8710\", \"datasetType\": {\"name\": \"spectraction\", \"storageClass\": \"Spectraction\", \"dimensions\": {\"names\": [\"band\", \"instrument\", \"detector\", \"physical_filter\", \"visit_system\", \"visit\"]}}, \"dataId\": {\"dataId\": {\"band\": \"white\", \"instrument\": \"LATISS\", \"detector\": 0, \"physical_filter\": \"empty~holo4_003\", \"visit_system\": 0, \"visit\": 2021070700320}}, \"run\": \"u/dagoret/first_test/20220314T110503Z\"}\n",
      "++++++++++++++++++++++++++++++++++++++++++++++++++++++++++++++++++++++++++++++++++\n",
      "run =  u/dagoret/first_test/20220314T110503Z\n",
      "isCalibration:  False\n",
      "isComponent:     False\n",
      "isComposite:    False\n",
      "======================================================= datasetType = spectraction =================================================================\n",
      "fullId:  {band: 'white', instrument: 'LATISS', detector: 0, physical_filter: 'empty~holo4_003', visit_system: 0, visit: 2021070700320}\n",
      "..................................................................................\n",
      "band:    white\n",
      "type:    DatasetType('spectraction', {band, instrument, detector, physical_filter, visit_system, visit}, Spectraction)\n",
      "++++++++++++++++++++++++++++++++++++++++++++++++++++++++++++++++++++++++++++++++++\n",
      "id=UUID('be6cb4fb-6810-4597-8aff-8641aa57242d') datasetType=SerializedDatasetType(name='spectraction', storageClass='Spectraction', dimensions=SerializedDimensionGraph(names=['band', 'instrument', 'detector', 'physical_filter', 'visit_system', 'visit']), parentStorageClass=None, isCalibration=False) dataId=SerializedDataCoordinate(dataId={'band': 'white', 'instrument': 'LATISS', 'detector': 0, 'physical_filter': 'empty~holo4_003', 'visit_system': 0, 'visit': 2021070700320}, records=None) run='u/dagoret/first_test/20220314T111659Z' component=None\n",
      ".  .  .  .  .  .  .  .  .  .  .  .  .  .  .  .  .  .  .  .  .  .  .  .  .  .  .  .\n",
      "{\"id\": \"be6cb4fb-6810-4597-8aff-8641aa57242d\", \"datasetType\": {\"name\": \"spectraction\", \"storageClass\": \"Spectraction\", \"dimensions\": {\"names\": [\"band\", \"instrument\", \"detector\", \"physical_filter\", \"visit_system\", \"visit\"]}}, \"dataId\": {\"dataId\": {\"band\": \"white\", \"instrument\": \"LATISS\", \"detector\": 0, \"physical_filter\": \"empty~holo4_003\", \"visit_system\": 0, \"visit\": 2021070700320}}, \"run\": \"u/dagoret/first_test/20220314T111659Z\"}\n",
      "++++++++++++++++++++++++++++++++++++++++++++++++++++++++++++++++++++++++++++++++++\n",
      "run =  u/dagoret/first_test/20220314T111659Z\n",
      "isCalibration:  False\n",
      "isComponent:     False\n",
      "isComposite:    False\n",
      "======================================================= datasetType = spectraction =================================================================\n",
      "fullId:  {band: 'white', instrument: 'LATISS', detector: 0, physical_filter: 'empty~holo4_003', visit_system: 0, visit: 2021070700322}\n",
      "..................................................................................\n",
      "band:    white\n",
      "type:    DatasetType('spectraction', {band, instrument, detector, physical_filter, visit_system, visit}, Spectraction)\n",
      "++++++++++++++++++++++++++++++++++++++++++++++++++++++++++++++++++++++++++++++++++\n",
      "id=UUID('aa50fda1-c14e-4dac-9d39-b7b5c02177e3') datasetType=SerializedDatasetType(name='spectraction', storageClass='Spectraction', dimensions=SerializedDimensionGraph(names=['band', 'instrument', 'detector', 'physical_filter', 'visit_system', 'visit']), parentStorageClass=None, isCalibration=False) dataId=SerializedDataCoordinate(dataId={'band': 'white', 'instrument': 'LATISS', 'detector': 0, 'physical_filter': 'empty~holo4_003', 'visit_system': 0, 'visit': 2021070700322}, records=None) run='u/dagoret/first_test/20220314T125917Z' component=None\n",
      ".  .  .  .  .  .  .  .  .  .  .  .  .  .  .  .  .  .  .  .  .  .  .  .  .  .  .  .\n",
      "{\"id\": \"aa50fda1-c14e-4dac-9d39-b7b5c02177e3\", \"datasetType\": {\"name\": \"spectraction\", \"storageClass\": \"Spectraction\", \"dimensions\": {\"names\": [\"band\", \"instrument\", \"detector\", \"physical_filter\", \"visit_system\", \"visit\"]}}, \"dataId\": {\"dataId\": {\"band\": \"white\", \"instrument\": \"LATISS\", \"detector\": 0, \"physical_filter\": \"empty~holo4_003\", \"visit_system\": 0, \"visit\": 2021070700322}}, \"run\": \"u/dagoret/first_test/20220314T125917Z\"}\n",
      "++++++++++++++++++++++++++++++++++++++++++++++++++++++++++++++++++++++++++++++++++\n",
      "run =  u/dagoret/first_test/20220314T125917Z\n",
      "isCalibration:  False\n",
      "isComponent:     False\n",
      "isComposite:    False\n",
      "======================================================= datasetType = spectraction =================================================================\n",
      "fullId:  {band: 'white', instrument: 'LATISS', detector: 0, physical_filter: 'empty~holo4_003', visit_system: 0, visit: 2021070700323}\n",
      "..................................................................................\n",
      "band:    white\n",
      "type:    DatasetType('spectraction', {band, instrument, detector, physical_filter, visit_system, visit}, Spectraction)\n",
      "++++++++++++++++++++++++++++++++++++++++++++++++++++++++++++++++++++++++++++++++++\n",
      "id=UUID('7caa47e2-ef20-4442-883b-9a51f416b4c6') datasetType=SerializedDatasetType(name='spectraction', storageClass='Spectraction', dimensions=SerializedDimensionGraph(names=['band', 'instrument', 'detector', 'physical_filter', 'visit_system', 'visit']), parentStorageClass=None, isCalibration=False) dataId=SerializedDataCoordinate(dataId={'band': 'white', 'instrument': 'LATISS', 'detector': 0, 'physical_filter': 'empty~holo4_003', 'visit_system': 0, 'visit': 2021070700323}, records=None) run='u/dagoret/first_test/20220314T145412Z' component=None\n",
      ".  .  .  .  .  .  .  .  .  .  .  .  .  .  .  .  .  .  .  .  .  .  .  .  .  .  .  .\n",
      "{\"id\": \"7caa47e2-ef20-4442-883b-9a51f416b4c6\", \"datasetType\": {\"name\": \"spectraction\", \"storageClass\": \"Spectraction\", \"dimensions\": {\"names\": [\"band\", \"instrument\", \"detector\", \"physical_filter\", \"visit_system\", \"visit\"]}}, \"dataId\": {\"dataId\": {\"band\": \"white\", \"instrument\": \"LATISS\", \"detector\": 0, \"physical_filter\": \"empty~holo4_003\", \"visit_system\": 0, \"visit\": 2021070700323}}, \"run\": \"u/dagoret/first_test/20220314T145412Z\"}\n",
      "++++++++++++++++++++++++++++++++++++++++++++++++++++++++++++++++++++++++++++++++++\n",
      "run =  u/dagoret/first_test/20220314T145412Z\n",
      "isCalibration:  False\n",
      "isComponent:     False\n",
      "isComposite:    False\n",
      "======================================================= datasetType = spectraction =================================================================\n",
      "fullId:  {band: 'white', instrument: 'LATISS', detector: 0, physical_filter: 'empty~holo4_003', visit_system: 0, visit: 2021070700322}\n",
      "..................................................................................\n",
      "band:    white\n",
      "type:    DatasetType('spectraction', {band, instrument, detector, physical_filter, visit_system, visit}, Spectraction)\n",
      "++++++++++++++++++++++++++++++++++++++++++++++++++++++++++++++++++++++++++++++++++\n",
      "id=UUID('31a5f6eb-1211-4cd4-9dc5-ba91edcde176') datasetType=SerializedDatasetType(name='spectraction', storageClass='Spectraction', dimensions=SerializedDimensionGraph(names=['band', 'instrument', 'detector', 'physical_filter', 'visit_system', 'visit']), parentStorageClass=None, isCalibration=False) dataId=SerializedDataCoordinate(dataId={'band': 'white', 'instrument': 'LATISS', 'detector': 0, 'physical_filter': 'empty~holo4_003', 'visit_system': 0, 'visit': 2021070700322}, records=None) run='u/dagoret/first_test/20220314T162452Z' component=None\n",
      ".  .  .  .  .  .  .  .  .  .  .  .  .  .  .  .  .  .  .  .  .  .  .  .  .  .  .  .\n",
      "{\"id\": \"31a5f6eb-1211-4cd4-9dc5-ba91edcde176\", \"datasetType\": {\"name\": \"spectraction\", \"storageClass\": \"Spectraction\", \"dimensions\": {\"names\": [\"band\", \"instrument\", \"detector\", \"physical_filter\", \"visit_system\", \"visit\"]}}, \"dataId\": {\"dataId\": {\"band\": \"white\", \"instrument\": \"LATISS\", \"detector\": 0, \"physical_filter\": \"empty~holo4_003\", \"visit_system\": 0, \"visit\": 2021070700322}}, \"run\": \"u/dagoret/first_test/20220314T162452Z\"}\n",
      "++++++++++++++++++++++++++++++++++++++++++++++++++++++++++++++++++++++++++++++++++\n",
      "run =  u/dagoret/first_test/20220314T162452Z\n",
      "isCalibration:  False\n",
      "isComponent:     False\n",
      "isComposite:    False\n",
      "======================================================= datasetType = spectraction =================================================================\n",
      "fullId:  {band: 'white', instrument: 'LATISS', detector: 0, physical_filter: 'empty~holo4_003', visit_system: 0, visit: 2021070700323}\n",
      "..................................................................................\n",
      "band:    white\n",
      "type:    DatasetType('spectraction', {band, instrument, detector, physical_filter, visit_system, visit}, Spectraction)\n",
      "++++++++++++++++++++++++++++++++++++++++++++++++++++++++++++++++++++++++++++++++++\n",
      "id=UUID('821a16b9-0a2c-41ec-bd50-d0995ba11891') datasetType=SerializedDatasetType(name='spectraction', storageClass='Spectraction', dimensions=SerializedDimensionGraph(names=['band', 'instrument', 'detector', 'physical_filter', 'visit_system', 'visit']), parentStorageClass=None, isCalibration=False) dataId=SerializedDataCoordinate(dataId={'band': 'white', 'instrument': 'LATISS', 'detector': 0, 'physical_filter': 'empty~holo4_003', 'visit_system': 0, 'visit': 2021070700323}, records=None) run='u/dagoret/first_test/20220314T165049Z' component=None\n",
      ".  .  .  .  .  .  .  .  .  .  .  .  .  .  .  .  .  .  .  .  .  .  .  .  .  .  .  .\n",
      "{\"id\": \"821a16b9-0a2c-41ec-bd50-d0995ba11891\", \"datasetType\": {\"name\": \"spectraction\", \"storageClass\": \"Spectraction\", \"dimensions\": {\"names\": [\"band\", \"instrument\", \"detector\", \"physical_filter\", \"visit_system\", \"visit\"]}}, \"dataId\": {\"dataId\": {\"band\": \"white\", \"instrument\": \"LATISS\", \"detector\": 0, \"physical_filter\": \"empty~holo4_003\", \"visit_system\": 0, \"visit\": 2021070700323}}, \"run\": \"u/dagoret/first_test/20220314T165049Z\"}\n",
      "++++++++++++++++++++++++++++++++++++++++++++++++++++++++++++++++++++++++++++++++++\n",
      "run =  u/dagoret/first_test/20220314T165049Z\n",
      "isCalibration:  False\n",
      "isComponent:     False\n",
      "isComposite:    False\n",
      "======================================================= datasetType = spectraction =================================================================\n",
      "fullId:  {band: 'white', instrument: 'LATISS', detector: 0, physical_filter: 'empty~holo4_003', visit_system: 0, visit: 2021070700324}\n",
      "..................................................................................\n",
      "band:    white\n",
      "type:    DatasetType('spectraction', {band, instrument, detector, physical_filter, visit_system, visit}, Spectraction)\n",
      "++++++++++++++++++++++++++++++++++++++++++++++++++++++++++++++++++++++++++++++++++\n",
      "id=UUID('fa65f88c-0c43-48e1-a753-26a07d83c61f') datasetType=SerializedDatasetType(name='spectraction', storageClass='Spectraction', dimensions=SerializedDimensionGraph(names=['band', 'instrument', 'detector', 'physical_filter', 'visit_system', 'visit']), parentStorageClass=None, isCalibration=False) dataId=SerializedDataCoordinate(dataId={'band': 'white', 'instrument': 'LATISS', 'detector': 0, 'physical_filter': 'empty~holo4_003', 'visit_system': 0, 'visit': 2021070700324}, records=None) run='u/dagoret/first_test/20220314T171720Z' component=None\n",
      ".  .  .  .  .  .  .  .  .  .  .  .  .  .  .  .  .  .  .  .  .  .  .  .  .  .  .  .\n",
      "{\"id\": \"fa65f88c-0c43-48e1-a753-26a07d83c61f\", \"datasetType\": {\"name\": \"spectraction\", \"storageClass\": \"Spectraction\", \"dimensions\": {\"names\": [\"band\", \"instrument\", \"detector\", \"physical_filter\", \"visit_system\", \"visit\"]}}, \"dataId\": {\"dataId\": {\"band\": \"white\", \"instrument\": \"LATISS\", \"detector\": 0, \"physical_filter\": \"empty~holo4_003\", \"visit_system\": 0, \"visit\": 2021070700324}}, \"run\": \"u/dagoret/first_test/20220314T171720Z\"}\n",
      "++++++++++++++++++++++++++++++++++++++++++++++++++++++++++++++++++++++++++++++++++\n",
      "run =  u/dagoret/first_test/20220314T171720Z\n",
      "isCalibration:  False\n",
      "isComponent:     False\n",
      "isComposite:    False\n",
      "======================================================= datasetType = spectraction =================================================================\n",
      "fullId:  {band: 'white', instrument: 'LATISS', detector: 0, physical_filter: 'empty~holo4_003', visit_system: 0, visit: 2021070700325}\n",
      "..................................................................................\n",
      "band:    white\n",
      "type:    DatasetType('spectraction', {band, instrument, detector, physical_filter, visit_system, visit}, Spectraction)\n",
      "++++++++++++++++++++++++++++++++++++++++++++++++++++++++++++++++++++++++++++++++++\n",
      "id=UUID('8b702a1d-e526-4424-81e8-d5afc8f67dc4') datasetType=SerializedDatasetType(name='spectraction', storageClass='Spectraction', dimensions=SerializedDimensionGraph(names=['band', 'instrument', 'detector', 'physical_filter', 'visit_system', 'visit']), parentStorageClass=None, isCalibration=False) dataId=SerializedDataCoordinate(dataId={'band': 'white', 'instrument': 'LATISS', 'detector': 0, 'physical_filter': 'empty~holo4_003', 'visit_system': 0, 'visit': 2021070700325}, records=None) run='u/dagoret/first_test/20220314T174422Z' component=None\n",
      ".  .  .  .  .  .  .  .  .  .  .  .  .  .  .  .  .  .  .  .  .  .  .  .  .  .  .  .\n",
      "{\"id\": \"8b702a1d-e526-4424-81e8-d5afc8f67dc4\", \"datasetType\": {\"name\": \"spectraction\", \"storageClass\": \"Spectraction\", \"dimensions\": {\"names\": [\"band\", \"instrument\", \"detector\", \"physical_filter\", \"visit_system\", \"visit\"]}}, \"dataId\": {\"dataId\": {\"band\": \"white\", \"instrument\": \"LATISS\", \"detector\": 0, \"physical_filter\": \"empty~holo4_003\", \"visit_system\": 0, \"visit\": 2021070700325}}, \"run\": \"u/dagoret/first_test/20220314T174422Z\"}\n",
      "++++++++++++++++++++++++++++++++++++++++++++++++++++++++++++++++++++++++++++++++++\n",
      "run =  u/dagoret/first_test/20220314T174422Z\n",
      "isCalibration:  False\n",
      "isComponent:     False\n",
      "isComposite:    False\n",
      "======================================================= datasetType = spectraction =================================================================\n",
      "fullId:  {band: 'white', instrument: 'LATISS', detector: 0, physical_filter: 'empty~holo4_003', visit_system: 0, visit: 2021070700326}\n",
      "..................................................................................\n",
      "band:    white\n",
      "type:    DatasetType('spectraction', {band, instrument, detector, physical_filter, visit_system, visit}, Spectraction)\n",
      "++++++++++++++++++++++++++++++++++++++++++++++++++++++++++++++++++++++++++++++++++\n",
      "id=UUID('49361822-4f9e-46a8-885f-504204ed983c') datasetType=SerializedDatasetType(name='spectraction', storageClass='Spectraction', dimensions=SerializedDimensionGraph(names=['band', 'instrument', 'detector', 'physical_filter', 'visit_system', 'visit']), parentStorageClass=None, isCalibration=False) dataId=SerializedDataCoordinate(dataId={'band': 'white', 'instrument': 'LATISS', 'detector': 0, 'physical_filter': 'empty~holo4_003', 'visit_system': 0, 'visit': 2021070700326}, records=None) run='u/dagoret/first_test/20220314T180848Z' component=None\n",
      ".  .  .  .  .  .  .  .  .  .  .  .  .  .  .  .  .  .  .  .  .  .  .  .  .  .  .  .\n",
      "{\"id\": \"49361822-4f9e-46a8-885f-504204ed983c\", \"datasetType\": {\"name\": \"spectraction\", \"storageClass\": \"Spectraction\", \"dimensions\": {\"names\": [\"band\", \"instrument\", \"detector\", \"physical_filter\", \"visit_system\", \"visit\"]}}, \"dataId\": {\"dataId\": {\"band\": \"white\", \"instrument\": \"LATISS\", \"detector\": 0, \"physical_filter\": \"empty~holo4_003\", \"visit_system\": 0, \"visit\": 2021070700326}}, \"run\": \"u/dagoret/first_test/20220314T180848Z\"}\n",
      "++++++++++++++++++++++++++++++++++++++++++++++++++++++++++++++++++++++++++++++++++\n",
      "run =  u/dagoret/first_test/20220314T180848Z\n",
      "isCalibration:  False\n",
      "isComponent:     False\n",
      "isComposite:    False\n",
      "======================================================= datasetType = spectraction =================================================================\n",
      "fullId:  {band: 'white', instrument: 'LATISS', detector: 0, physical_filter: 'empty~holo4_003', visit_system: 0, visit: 2021070700328}\n",
      "..................................................................................\n",
      "band:    white\n",
      "type:    DatasetType('spectraction', {band, instrument, detector, physical_filter, visit_system, visit}, Spectraction)\n",
      "++++++++++++++++++++++++++++++++++++++++++++++++++++++++++++++++++++++++++++++++++\n",
      "id=UUID('d9b56103-d9a5-4119-b9b3-5997b9c0094e') datasetType=SerializedDatasetType(name='spectraction', storageClass='Spectraction', dimensions=SerializedDimensionGraph(names=['band', 'instrument', 'detector', 'physical_filter', 'visit_system', 'visit']), parentStorageClass=None, isCalibration=False) dataId=SerializedDataCoordinate(dataId={'band': 'white', 'instrument': 'LATISS', 'detector': 0, 'physical_filter': 'empty~holo4_003', 'visit_system': 0, 'visit': 2021070700328}, records=None) run='u/dagoret/first_test/20220314T185733Z' component=None\n",
      ".  .  .  .  .  .  .  .  .  .  .  .  .  .  .  .  .  .  .  .  .  .  .  .  .  .  .  .\n",
      "{\"id\": \"d9b56103-d9a5-4119-b9b3-5997b9c0094e\", \"datasetType\": {\"name\": \"spectraction\", \"storageClass\": \"Spectraction\", \"dimensions\": {\"names\": [\"band\", \"instrument\", \"detector\", \"physical_filter\", \"visit_system\", \"visit\"]}}, \"dataId\": {\"dataId\": {\"band\": \"white\", \"instrument\": \"LATISS\", \"detector\": 0, \"physical_filter\": \"empty~holo4_003\", \"visit_system\": 0, \"visit\": 2021070700328}}, \"run\": \"u/dagoret/first_test/20220314T185733Z\"}\n",
      "++++++++++++++++++++++++++++++++++++++++++++++++++++++++++++++++++++++++++++++++++\n",
      "run =  u/dagoret/first_test/20220314T185733Z\n",
      "isCalibration:  False\n",
      "isComponent:     False\n",
      "isComposite:    False\n",
      "======================================================= datasetType = spectraction =================================================================\n",
      "fullId:  {band: 'white', instrument: 'LATISS', detector: 0, physical_filter: 'empty~holo4_003', visit_system: 0, visit: 2021070700329}\n",
      "..................................................................................\n",
      "band:    white\n",
      "type:    DatasetType('spectraction', {band, instrument, detector, physical_filter, visit_system, visit}, Spectraction)\n",
      "++++++++++++++++++++++++++++++++++++++++++++++++++++++++++++++++++++++++++++++++++\n",
      "id=UUID('4c2aef4e-c39b-4aa5-b6b0-3a37a2226fd6') datasetType=SerializedDatasetType(name='spectraction', storageClass='Spectraction', dimensions=SerializedDimensionGraph(names=['band', 'instrument', 'detector', 'physical_filter', 'visit_system', 'visit']), parentStorageClass=None, isCalibration=False) dataId=SerializedDataCoordinate(dataId={'band': 'white', 'instrument': 'LATISS', 'detector': 0, 'physical_filter': 'empty~holo4_003', 'visit_system': 0, 'visit': 2021070700329}, records=None) run='u/dagoret/first_test/20220314T192150Z' component=None\n",
      ".  .  .  .  .  .  .  .  .  .  .  .  .  .  .  .  .  .  .  .  .  .  .  .  .  .  .  .\n",
      "{\"id\": \"4c2aef4e-c39b-4aa5-b6b0-3a37a2226fd6\", \"datasetType\": {\"name\": \"spectraction\", \"storageClass\": \"Spectraction\", \"dimensions\": {\"names\": [\"band\", \"instrument\", \"detector\", \"physical_filter\", \"visit_system\", \"visit\"]}}, \"dataId\": {\"dataId\": {\"band\": \"white\", \"instrument\": \"LATISS\", \"detector\": 0, \"physical_filter\": \"empty~holo4_003\", \"visit_system\": 0, \"visit\": 2021070700329}}, \"run\": \"u/dagoret/first_test/20220314T192150Z\"}\n",
      "++++++++++++++++++++++++++++++++++++++++++++++++++++++++++++++++++++++++++++++++++\n",
      "run =  u/dagoret/first_test/20220314T192150Z\n",
      "isCalibration:  False\n",
      "isComponent:     False\n",
      "isComposite:    False\n",
      "======================================================= datasetType = spectraction =================================================================\n",
      "fullId:  {band: 'white', instrument: 'LATISS', detector: 0, physical_filter: 'empty~holo4_003', visit_system: 0, visit: 2021070700330}\n",
      "..................................................................................\n",
      "band:    white\n",
      "type:    DatasetType('spectraction', {band, instrument, detector, physical_filter, visit_system, visit}, Spectraction)\n",
      "++++++++++++++++++++++++++++++++++++++++++++++++++++++++++++++++++++++++++++++++++\n",
      "id=UUID('9fa3c7d6-480b-46dd-b4fe-c03f68738929') datasetType=SerializedDatasetType(name='spectraction', storageClass='Spectraction', dimensions=SerializedDimensionGraph(names=['band', 'instrument', 'detector', 'physical_filter', 'visit_system', 'visit']), parentStorageClass=None, isCalibration=False) dataId=SerializedDataCoordinate(dataId={'band': 'white', 'instrument': 'LATISS', 'detector': 0, 'physical_filter': 'empty~holo4_003', 'visit_system': 0, 'visit': 2021070700330}, records=None) run='u/dagoret/first_test/20220314T194303Z' component=None\n",
      ".  .  .  .  .  .  .  .  .  .  .  .  .  .  .  .  .  .  .  .  .  .  .  .  .  .  .  .\n",
      "{\"id\": \"9fa3c7d6-480b-46dd-b4fe-c03f68738929\", \"datasetType\": {\"name\": \"spectraction\", \"storageClass\": \"Spectraction\", \"dimensions\": {\"names\": [\"band\", \"instrument\", \"detector\", \"physical_filter\", \"visit_system\", \"visit\"]}}, \"dataId\": {\"dataId\": {\"band\": \"white\", \"instrument\": \"LATISS\", \"detector\": 0, \"physical_filter\": \"empty~holo4_003\", \"visit_system\": 0, \"visit\": 2021070700330}}, \"run\": \"u/dagoret/first_test/20220314T194303Z\"}\n",
      "++++++++++++++++++++++++++++++++++++++++++++++++++++++++++++++++++++++++++++++++++\n",
      "run =  u/dagoret/first_test/20220314T194303Z\n",
      "isCalibration:  False\n",
      "isComponent:     False\n",
      "isComposite:    False\n",
      "======================================================= datasetType = spectraction =================================================================\n",
      "fullId:  {band: 'white', instrument: 'LATISS', detector: 0, physical_filter: 'empty~holo4_003', visit_system: 0, visit: 2021070700361}\n",
      "..................................................................................\n",
      "band:    white\n",
      "type:    DatasetType('spectraction', {band, instrument, detector, physical_filter, visit_system, visit}, Spectraction)\n",
      "++++++++++++++++++++++++++++++++++++++++++++++++++++++++++++++++++++++++++++++++++\n",
      "id=UUID('62f84b0f-0738-4462-acf2-78f5e5f0d06e') datasetType=SerializedDatasetType(name='spectraction', storageClass='Spectraction', dimensions=SerializedDimensionGraph(names=['band', 'instrument', 'detector', 'physical_filter', 'visit_system', 'visit']), parentStorageClass=None, isCalibration=False) dataId=SerializedDataCoordinate(dataId={'band': 'white', 'instrument': 'LATISS', 'detector': 0, 'physical_filter': 'empty~holo4_003', 'visit_system': 0, 'visit': 2021070700361}, records=None) run='u/dagoret/first_test/20220315T065016Z' component=None\n",
      ".  .  .  .  .  .  .  .  .  .  .  .  .  .  .  .  .  .  .  .  .  .  .  .  .  .  .  .\n",
      "{\"id\": \"62f84b0f-0738-4462-acf2-78f5e5f0d06e\", \"datasetType\": {\"name\": \"spectraction\", \"storageClass\": \"Spectraction\", \"dimensions\": {\"names\": [\"band\", \"instrument\", \"detector\", \"physical_filter\", \"visit_system\", \"visit\"]}}, \"dataId\": {\"dataId\": {\"band\": \"white\", \"instrument\": \"LATISS\", \"detector\": 0, \"physical_filter\": \"empty~holo4_003\", \"visit_system\": 0, \"visit\": 2021070700361}}, \"run\": \"u/dagoret/first_test/20220315T065016Z\"}\n",
      "++++++++++++++++++++++++++++++++++++++++++++++++++++++++++++++++++++++++++++++++++\n",
      "run =  u/dagoret/first_test/20220315T065016Z\n",
      "isCalibration:  False\n",
      "isComponent:     False\n",
      "isComposite:    False\n"
     ]
    }
   ],
   "source": [
    "all_ref_for_spectraction = []\n",
    "\n",
    "for i, ref in enumerate(datasetRefs):\n",
    "    all_ref_for_spectraction.append(ref.dataId)\n",
    "    print(\"======================================================= datasetType = spectraction =================================================================\")\n",
    "   \n",
    "    print(\"fullId: \",ref.dataId.full)\n",
    "    print(\"..................................................................................\")\n",
    "    print(\"band:   \",ref.dataId[\"band\"])\n",
    "    print(\"type:   \",ref.datasetType)\n",
    "    \n",
    "    print(\"++++++++++++++++++++++++++++++++++++++++++++++++++++++++++++++++++++++++++++++++++\")\n",
    "    print(ref.to_simple())\n",
    "    print(\".  .  .  .  .  .  .  .  .  .  .  .  .  .  .  .  .  .  .  .  .  .  .  .  .  .  .  .\")\n",
    "    print(ref.to_json())\n",
    "    print(\"++++++++++++++++++++++++++++++++++++++++++++++++++++++++++++++++++++++++++++++++++\")\n",
    "    \n",
    "    print(\"run = \",ref.run)\n",
    "    print(\"isCalibration: \",ref.datasetType.isCalibration())\n",
    "    \n",
    "    print(\"isComponent:    \",ref.isComponent())\n",
    "    \n",
    "    print(\"isComposite:   \",ref.isComposite()) \n",
    "    \n"
   ]
  },
  {
   "cell_type": "markdown",
   "id": "2ba80c4b",
   "metadata": {},
   "source": [
    "# Found Spectraction "
   ]
  },
  {
   "cell_type": "code",
   "execution_count": 13,
   "id": "05538ea4",
   "metadata": {},
   "outputs": [
    {
     "data": {
      "text/plain": [
       "[{instrument: 'LATISS', detector: 0, visit: 2021070700318, ...},\n",
       " {instrument: 'LATISS', detector: 0, visit: 2021070700319, ...},\n",
       " {instrument: 'LATISS', detector: 0, visit: 2021070700320, ...},\n",
       " {instrument: 'LATISS', detector: 0, visit: 2021070700320, ...},\n",
       " {instrument: 'LATISS', detector: 0, visit: 2021070700322, ...},\n",
       " {instrument: 'LATISS', detector: 0, visit: 2021070700323, ...},\n",
       " {instrument: 'LATISS', detector: 0, visit: 2021070700322, ...},\n",
       " {instrument: 'LATISS', detector: 0, visit: 2021070700323, ...},\n",
       " {instrument: 'LATISS', detector: 0, visit: 2021070700324, ...},\n",
       " {instrument: 'LATISS', detector: 0, visit: 2021070700325, ...},\n",
       " {instrument: 'LATISS', detector: 0, visit: 2021070700326, ...},\n",
       " {instrument: 'LATISS', detector: 0, visit: 2021070700328, ...},\n",
       " {instrument: 'LATISS', detector: 0, visit: 2021070700329, ...},\n",
       " {instrument: 'LATISS', detector: 0, visit: 2021070700330, ...},\n",
       " {instrument: 'LATISS', detector: 0, visit: 2021070700361, ...}]"
      ]
     },
     "execution_count": 13,
     "metadata": {},
     "output_type": "execute_result"
    }
   ],
   "source": [
    "all_ref_for_spectraction"
   ]
  },
  {
   "cell_type": "markdown",
   "id": "229be1ba",
   "metadata": {},
   "source": [
    "## Select  One dataId found in Spectraction"
   ]
  },
  {
   "cell_type": "code",
   "execution_count": 14,
   "id": "216745b6",
   "metadata": {},
   "outputs": [
    {
     "data": {
      "text/plain": [
       "{instrument: 'LATISS', detector: 0, visit: 2021070700318, ...}"
      ]
     },
     "execution_count": 14,
     "metadata": {},
     "output_type": "execute_result"
    }
   ],
   "source": [
    "refid0 = all_ref_for_spectraction[0]\n",
    "refid0"
   ]
  },
  {
   "cell_type": "code",
   "execution_count": 15,
   "id": "7454c0f6",
   "metadata": {},
   "outputs": [
    {
     "data": {
      "text/plain": [
       "2021070700318"
      ]
     },
     "execution_count": 15,
     "metadata": {},
     "output_type": "execute_result"
    }
   ],
   "source": [
    "refid0[\"visit\"]"
   ]
  },
  {
   "cell_type": "markdown",
   "id": "12b9d909",
   "metadata": {},
   "source": [
    "## Access to postISRCCD"
   ]
  },
  {
   "cell_type": "code",
   "execution_count": 16,
   "id": "9494aec9",
   "metadata": {},
   "outputs": [],
   "source": [
    "postisrccd = butler.get('postISRCCD', dataId={'exposure': refid0[\"visit\"], 'instrument': 'LATISS', 'detector': 0}, collections = collection)"
   ]
  },
  {
   "cell_type": "code",
   "execution_count": 17,
   "id": "0751a465",
   "metadata": {},
   "outputs": [],
   "source": [
    "fig = plt.figure(figsize=(8,8))\n",
    "afw_display = afwDisplay.Display(1)\n",
    "afw_display.scale('asinh', 'zscale')\n",
    "afw_display.mtv(postisrccd.image)\n",
    "#plt.gca().axis('off')"
   ]
  },
  {
   "cell_type": "markdown",
   "id": "6c87cd51",
   "metadata": {},
   "source": [
    "## NO Access to Calexp"
   ]
  },
  {
   "cell_type": "code",
   "execution_count": 18,
   "id": "f2db3b0c",
   "metadata": {},
   "outputs": [],
   "source": [
    "# calexp = butler.get('calexp', dataId={'exposure': 2021070700318, 'instrument': 'LATISS', 'detector': 0}, collections = collection)"
   ]
  },
  {
   "cell_type": "markdown",
   "id": "ce7f14ae",
   "metadata": {},
   "source": [
    "## Access to Spectraction"
   ]
  },
  {
   "cell_type": "code",
   "execution_count": 19,
   "id": "bb07904b",
   "metadata": {},
   "outputs": [],
   "source": [
    "spectraction  = butler.get('spectraction', dataId=refid0, collections = collection)"
   ]
  },
  {
   "cell_type": "code",
   "execution_count": 20,
   "id": "00d67ede",
   "metadata": {},
   "outputs": [],
   "source": [
    "#dir(spectraction)"
   ]
  },
  {
   "cell_type": "markdown",
   "id": "b42f2913",
   "metadata": {},
   "source": [
    "# Extract main components of Spectraction"
   ]
  },
  {
   "cell_type": "code",
   "execution_count": 21,
   "id": "1b7abc2a",
   "metadata": {},
   "outputs": [],
   "source": [
    "image = spectraction.image"
   ]
  },
  {
   "cell_type": "code",
   "execution_count": 22,
   "id": "00d3080d",
   "metadata": {},
   "outputs": [],
   "source": [
    "#dir(image)"
   ]
  },
  {
   "cell_type": "code",
   "execution_count": 23,
   "id": "c47f97b0",
   "metadata": {},
   "outputs": [
    {
     "data": {
      "text/plain": [
       "'HD 160617'"
      ]
     },
     "execution_count": 23,
     "metadata": {},
     "output_type": "execute_result"
    }
   ],
   "source": [
    "image.target.label"
   ]
  },
  {
   "cell_type": "code",
   "execution_count": 24,
   "id": "32bac92b",
   "metadata": {},
   "outputs": [],
   "source": [
    "spectrum = spectraction.spectrum"
   ]
  },
  {
   "cell_type": "code",
   "execution_count": 25,
   "id": "fce013ff",
   "metadata": {},
   "outputs": [],
   "source": [
    "#dir(spectrum)"
   ]
  },
  {
   "cell_type": "code",
   "execution_count": 26,
   "id": "ee5dcb04",
   "metadata": {},
   "outputs": [],
   "source": [
    "spec_w = spectraction.w"
   ]
  },
  {
   "cell_type": "code",
   "execution_count": 32,
   "id": "a4540b32",
   "metadata": {},
   "outputs": [],
   "source": [
    "#dir(spec_w)"
   ]
  },
  {
   "cell_type": "markdown",
   "id": "0b860d48",
   "metadata": {},
   "source": [
    "### Start with image"
   ]
  },
  {
   "cell_type": "code",
   "execution_count": 28,
   "id": "f0e189dd",
   "metadata": {},
   "outputs": [
    {
     "data": {
      "text/plain": [
       "1.06657802823672"
      ]
     },
     "execution_count": 28,
     "metadata": {},
     "output_type": "execute_result"
    }
   ],
   "source": [
    "airmass = image.airmass\n",
    "airmass"
   ]
  },
  {
   "cell_type": "code",
   "execution_count": 29,
   "id": "58d0e006",
   "metadata": {},
   "outputs": [],
   "source": [
    "img = image.data"
   ]
  },
  {
   "cell_type": "code",
   "execution_count": 30,
   "id": "1ab027fe",
   "metadata": {},
   "outputs": [
    {
     "data": {
      "text/plain": [
       "array([[-0.11206304, -0.04467412,  0.07011777, ..., -0.0358763 ,\n",
       "        -0.07602447, -0.11650336],\n",
       "       [-0.21139966, -0.08151308,  0.11039347, ..., -0.20319199,\n",
       "        -0.19482018, -0.19062436],\n",
       "       [-0.16695891, -0.18954746,  0.05168054, ..., -0.2447929 ,\n",
       "        -0.3635365 , -0.24490001],\n",
       "       ...,\n",
       "       [-0.67543118, -0.46424393, -0.37358714, ...,  0.02565122,\n",
       "        -0.15271319, -0.26062581],\n",
       "       [-0.73805761, -0.63772193,  0.00685127, ...,  0.00504793,\n",
       "        -0.0428815 , -0.21720905],\n",
       "       [-0.86253246, -0.60742281, -0.22542281, ..., -0.12819231,\n",
       "        -0.11863107, -0.14099535]])"
      ]
     },
     "execution_count": 30,
     "metadata": {},
     "output_type": "execute_result"
    }
   ],
   "source": [
    "img"
   ]
  },
  {
   "cell_type": "code",
   "execution_count": 31,
   "id": "7b710826",
   "metadata": {},
   "outputs": [],
   "source": [
    "fig = plt.figure(figsize=(8,8))\n",
    "plt.imshow(transform(img))\n",
    "plt.show()"
   ]
  },
  {
   "cell_type": "code",
   "execution_count": null,
   "id": "3d3825ad",
   "metadata": {},
   "outputs": [],
   "source": []
  }
 ],
 "metadata": {
  "kernelspec": {
   "display_name": "lsst_distrib_w_2022_09",
   "language": "python",
   "name": "lsst_distrib_w_2022_09"
  },
  "language_info": {
   "codemirror_mode": {
    "name": "ipython",
    "version": 3
   },
   "file_extension": ".py",
   "mimetype": "text/x-python",
   "name": "python",
   "nbconvert_exporter": "python",
   "pygments_lexer": "ipython3",
   "version": "3.8.12"
  }
 },
 "nbformat": 4,
 "nbformat_minor": 5
}
