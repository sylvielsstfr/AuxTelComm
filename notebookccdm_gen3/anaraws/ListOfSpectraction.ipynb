{
 "cells": [
  {
   "cell_type": "markdown",
   "id": "9ff36740",
   "metadata": {
    "tags": []
   },
   "source": [
    "# List of spectraction\n",
    "\n",
    "- work with Weakly_2022_09\n",
    "- use jupyter kernel LSST\n",
    "\n",
    "\n",
    "- author : Sylvie Dagoret-Campagne\n",
    "- affiliation : IJCLab\n",
    "- creation date : 2022/03/16\n",
    "- updatz : 2022/03/16\n",
    "\n"
   ]
  },
  {
   "cell_type": "code",
   "execution_count": 1,
   "id": "9348a322",
   "metadata": {},
   "outputs": [
    {
     "name": "stdout",
     "output_type": "stream",
     "text": [
      "atmospec              LOCAL:/sps/lsst/groups/auxtel/softs/shared/auxteldm_gen3/repos/w_2022_09/atmospec \tsetup\n",
      "eups                  LOCAL:/cvmfs/sw.lsst.eu/linux-x86_64/lsst_distrib/w_2022_09/conda/envs/lsst-scipipe-2.0.0/eups \tsetup\n",
      "rapid_analysis        LOCAL:/sps/lsst/groups/auxtel/softs/shared/auxteldm_gen3/repos/w_2022_09/rapid_analysis \tsetup\n"
     ]
    }
   ],
   "source": [
    "! eups list -s | grep LOCAL"
   ]
  },
  {
   "cell_type": "code",
   "execution_count": 2,
   "id": "3fed5f5d",
   "metadata": {},
   "outputs": [
    {
     "name": "stdout",
     "output_type": "stream",
     "text": [
      "   g64fc59b30a+e1dba0a6f6 \tw_latest w_2022_09 current setup\n"
     ]
    }
   ],
   "source": [
    "! eups list -s lsst_distrib"
   ]
  },
  {
   "cell_type": "code",
   "execution_count": 3,
   "id": "9027b824",
   "metadata": {},
   "outputs": [],
   "source": [
    "import os\n",
    "import matplotlib.pyplot as plt\n",
    "import numpy as np\n",
    "import pandas as pd\n",
    "%matplotlib inline\n",
    "from matplotlib.colors import LogNorm\n",
    "\n",
    "from mpl_toolkits.axes_grid1 import make_axes_locatable\n",
    "\n",
    "import matplotlib.ticker                         # here's where the formatter is\n",
    "from matplotlib.ticker import (MultipleLocator, FormatStrFormatter,\n",
    "                               AutoMinorLocator)\n",
    "\n"
   ]
  },
  {
   "cell_type": "code",
   "execution_count": 4,
   "id": "8c046e1f",
   "metadata": {},
   "outputs": [],
   "source": [
    "from astropy.visualization import (MinMaxInterval, SqrtStretch,ZScaleInterval,PercentileInterval,\n",
    "                                   ImageNormalize,imshow_norm)\n",
    "from astropy.visualization.stretch import SinhStretch, LinearStretch,AsinhStretch,LogStretch\n"
   ]
  },
  {
   "cell_type": "code",
   "execution_count": 5,
   "id": "9cbf7520",
   "metadata": {},
   "outputs": [],
   "source": [
    "import lsst.afw.display as afwDisplay\n",
    "afwDisplay.setDefaultBackend('matplotlib')"
   ]
  },
  {
   "cell_type": "code",
   "execution_count": 6,
   "id": "3c3b257a",
   "metadata": {},
   "outputs": [],
   "source": [
    "import lsst.daf.butler as dafButler"
   ]
  },
  {
   "cell_type": "code",
   "execution_count": 7,
   "id": "edd00bb4",
   "metadata": {},
   "outputs": [],
   "source": [
    "repo = '/sps/lsst/groups/auxtel/softs/shared/auxteldm_gen3/data/butler.yaml'\n",
    "butler = dafButler.Butler(repo)\n",
    "registry = butler.registry"
   ]
  },
  {
   "cell_type": "code",
   "execution_count": 8,
   "id": "86210e68",
   "metadata": {},
   "outputs": [
    {
     "name": "stderr",
     "output_type": "stream",
     "text": [
      "/sps/lsst/groups/auxtel/softs/shared/auxteldm_gen3/repos/w_2022_09/rapid_analysis/python/lsst/rapid/analysis/visitCheck.py:132: FutureWarning: Call to deprecated function (or staticmethod) timeMethod. (timeMethod has been replaced by lsst.utils.timer.timeMethod. Will be removed after v25.) -- Deprecated since version v24.\n",
      "  def runDataRef(self, dataRef):\n"
     ]
    }
   ],
   "source": [
    "from lsst.rapid.analysis.nightReport import NightReporter\n",
    "dayObs = 20210707\n",
    "#reporter = NightReporter('/sps/lsst/groups/auxtel/softs/shared/auxteldm_gen3/data', dayObs)"
   ]
  },
  {
   "cell_type": "code",
   "execution_count": 9,
   "id": "960df4b5",
   "metadata": {},
   "outputs": [],
   "source": [
    "#NightReporter?"
   ]
  },
  {
   "cell_type": "code",
   "execution_count": 10,
   "id": "21018aab",
   "metadata": {},
   "outputs": [],
   "source": [
    "#transform = AsinhStretch() + PercentileInterval(99.)\n",
    "transform = PercentileInterval(98.)"
   ]
  },
  {
   "cell_type": "code",
   "execution_count": 11,
   "id": "b23bf912",
   "metadata": {},
   "outputs": [],
   "source": [
    "collection = \"u/dagoret/first_test\"\n",
    "datasetRefs = registry.queryDatasets(datasetType='spectraction', collections=collection, \n",
    "                                     where= \"instrument='LATISS'\")"
   ]
  },
  {
   "cell_type": "code",
   "execution_count": 12,
   "id": "62c802c0",
   "metadata": {},
   "outputs": [
    {
     "name": "stdout",
     "output_type": "stream",
     "text": [
      "======================================================= datasetType = spectraction =================================================================\n",
      "fullId:  {band: 'white', instrument: 'LATISS', detector: 0, physical_filter: 'empty~holo4_003', visit_system: 0, visit: 2021070700318}\n",
      "..................................................................................\n",
      "band:    white\n",
      "type:    DatasetType('spectraction', {band, instrument, detector, physical_filter, visit_system, visit}, Spectraction)\n",
      "++++++++++++++++++++++++++++++++++++++++++++++++++++++++++++++++++++++++++++++++++\n",
      "id=UUID('b57b8b02-11c7-4d67-a762-8611453bb2cd') datasetType=SerializedDatasetType(name='spectraction', storageClass='Spectraction', dimensions=SerializedDimensionGraph(names=['band', 'instrument', 'detector', 'physical_filter', 'visit_system', 'visit']), parentStorageClass=None, isCalibration=False) dataId=SerializedDataCoordinate(dataId={'band': 'white', 'instrument': 'LATISS', 'detector': 0, 'physical_filter': 'empty~holo4_003', 'visit_system': 0, 'visit': 2021070700318}, records=None) run='u/dagoret/first_test/20220314T093738Z' component=None\n",
      ".  .  .  .  .  .  .  .  .  .  .  .  .  .  .  .  .  .  .  .  .  .  .  .  .  .  .  .\n",
      "{\"id\": \"b57b8b02-11c7-4d67-a762-8611453bb2cd\", \"datasetType\": {\"name\": \"spectraction\", \"storageClass\": \"Spectraction\", \"dimensions\": {\"names\": [\"band\", \"instrument\", \"detector\", \"physical_filter\", \"visit_system\", \"visit\"]}}, \"dataId\": {\"dataId\": {\"band\": \"white\", \"instrument\": \"LATISS\", \"detector\": 0, \"physical_filter\": \"empty~holo4_003\", \"visit_system\": 0, \"visit\": 2021070700318}}, \"run\": \"u/dagoret/first_test/20220314T093738Z\"}\n",
      "++++++++++++++++++++++++++++++++++++++++++++++++++++++++++++++++++++++++++++++++++\n",
      "run =  u/dagoret/first_test/20220314T093738Z\n",
      "isCalibration:  False\n",
      "isComponent:     False\n",
      "isComposite:    False\n",
      "======================================================= datasetType = spectraction =================================================================\n",
      "fullId:  {band: 'white', instrument: 'LATISS', detector: 0, physical_filter: 'empty~holo4_003', visit_system: 0, visit: 2021070700319}\n",
      "..................................................................................\n",
      "band:    white\n",
      "type:    DatasetType('spectraction', {band, instrument, detector, physical_filter, visit_system, visit}, Spectraction)\n",
      "++++++++++++++++++++++++++++++++++++++++++++++++++++++++++++++++++++++++++++++++++\n",
      "id=UUID('0fe1f87c-c47f-45ea-8806-73bf187e3793') datasetType=SerializedDatasetType(name='spectraction', storageClass='Spectraction', dimensions=SerializedDimensionGraph(names=['band', 'instrument', 'detector', 'physical_filter', 'visit_system', 'visit']), parentStorageClass=None, isCalibration=False) dataId=SerializedDataCoordinate(dataId={'band': 'white', 'instrument': 'LATISS', 'detector': 0, 'physical_filter': 'empty~holo4_003', 'visit_system': 0, 'visit': 2021070700319}, records=None) run='u/dagoret/first_test/20220314T104131Z' component=None\n",
      ".  .  .  .  .  .  .  .  .  .  .  .  .  .  .  .  .  .  .  .  .  .  .  .  .  .  .  .\n",
      "{\"id\": \"0fe1f87c-c47f-45ea-8806-73bf187e3793\", \"datasetType\": {\"name\": \"spectraction\", \"storageClass\": \"Spectraction\", \"dimensions\": {\"names\": [\"band\", \"instrument\", \"detector\", \"physical_filter\", \"visit_system\", \"visit\"]}}, \"dataId\": {\"dataId\": {\"band\": \"white\", \"instrument\": \"LATISS\", \"detector\": 0, \"physical_filter\": \"empty~holo4_003\", \"visit_system\": 0, \"visit\": 2021070700319}}, \"run\": \"u/dagoret/first_test/20220314T104131Z\"}\n",
      "++++++++++++++++++++++++++++++++++++++++++++++++++++++++++++++++++++++++++++++++++\n",
      "run =  u/dagoret/first_test/20220314T104131Z\n",
      "isCalibration:  False\n",
      "isComponent:     False\n",
      "isComposite:    False\n",
      "======================================================= datasetType = spectraction =================================================================\n",
      "fullId:  {band: 'white', instrument: 'LATISS', detector: 0, physical_filter: 'empty~holo4_003', visit_system: 0, visit: 2021070700320}\n",
      "..................................................................................\n",
      "band:    white\n",
      "type:    DatasetType('spectraction', {band, instrument, detector, physical_filter, visit_system, visit}, Spectraction)\n",
      "++++++++++++++++++++++++++++++++++++++++++++++++++++++++++++++++++++++++++++++++++\n",
      "id=UUID('133f3b94-2c90-4820-8c4b-a419005f8710') datasetType=SerializedDatasetType(name='spectraction', storageClass='Spectraction', dimensions=SerializedDimensionGraph(names=['band', 'instrument', 'detector', 'physical_filter', 'visit_system', 'visit']), parentStorageClass=None, isCalibration=False) dataId=SerializedDataCoordinate(dataId={'band': 'white', 'instrument': 'LATISS', 'detector': 0, 'physical_filter': 'empty~holo4_003', 'visit_system': 0, 'visit': 2021070700320}, records=None) run='u/dagoret/first_test/20220314T110503Z' component=None\n",
      ".  .  .  .  .  .  .  .  .  .  .  .  .  .  .  .  .  .  .  .  .  .  .  .  .  .  .  .\n",
      "{\"id\": \"133f3b94-2c90-4820-8c4b-a419005f8710\", \"datasetType\": {\"name\": \"spectraction\", \"storageClass\": \"Spectraction\", \"dimensions\": {\"names\": [\"band\", \"instrument\", \"detector\", \"physical_filter\", \"visit_system\", \"visit\"]}}, \"dataId\": {\"dataId\": {\"band\": \"white\", \"instrument\": \"LATISS\", \"detector\": 0, \"physical_filter\": \"empty~holo4_003\", \"visit_system\": 0, \"visit\": 2021070700320}}, \"run\": \"u/dagoret/first_test/20220314T110503Z\"}\n",
      "++++++++++++++++++++++++++++++++++++++++++++++++++++++++++++++++++++++++++++++++++\n",
      "run =  u/dagoret/first_test/20220314T110503Z\n",
      "isCalibration:  False\n",
      "isComponent:     False\n",
      "isComposite:    False\n",
      "======================================================= datasetType = spectraction =================================================================\n",
      "fullId:  {band: 'white', instrument: 'LATISS', detector: 0, physical_filter: 'empty~holo4_003', visit_system: 0, visit: 2021070700320}\n",
      "..................................................................................\n",
      "band:    white\n",
      "type:    DatasetType('spectraction', {band, instrument, detector, physical_filter, visit_system, visit}, Spectraction)\n",
      "++++++++++++++++++++++++++++++++++++++++++++++++++++++++++++++++++++++++++++++++++\n",
      "id=UUID('be6cb4fb-6810-4597-8aff-8641aa57242d') datasetType=SerializedDatasetType(name='spectraction', storageClass='Spectraction', dimensions=SerializedDimensionGraph(names=['band', 'instrument', 'detector', 'physical_filter', 'visit_system', 'visit']), parentStorageClass=None, isCalibration=False) dataId=SerializedDataCoordinate(dataId={'band': 'white', 'instrument': 'LATISS', 'detector': 0, 'physical_filter': 'empty~holo4_003', 'visit_system': 0, 'visit': 2021070700320}, records=None) run='u/dagoret/first_test/20220314T111659Z' component=None\n",
      ".  .  .  .  .  .  .  .  .  .  .  .  .  .  .  .  .  .  .  .  .  .  .  .  .  .  .  .\n",
      "{\"id\": \"be6cb4fb-6810-4597-8aff-8641aa57242d\", \"datasetType\": {\"name\": \"spectraction\", \"storageClass\": \"Spectraction\", \"dimensions\": {\"names\": [\"band\", \"instrument\", \"detector\", \"physical_filter\", \"visit_system\", \"visit\"]}}, \"dataId\": {\"dataId\": {\"band\": \"white\", \"instrument\": \"LATISS\", \"detector\": 0, \"physical_filter\": \"empty~holo4_003\", \"visit_system\": 0, \"visit\": 2021070700320}}, \"run\": \"u/dagoret/first_test/20220314T111659Z\"}\n",
      "++++++++++++++++++++++++++++++++++++++++++++++++++++++++++++++++++++++++++++++++++\n",
      "run =  u/dagoret/first_test/20220314T111659Z\n",
      "isCalibration:  False\n",
      "isComponent:     False\n",
      "isComposite:    False\n",
      "======================================================= datasetType = spectraction =================================================================\n",
      "fullId:  {band: 'white', instrument: 'LATISS', detector: 0, physical_filter: 'empty~holo4_003', visit_system: 0, visit: 2021070700322}\n",
      "..................................................................................\n",
      "band:    white\n",
      "type:    DatasetType('spectraction', {band, instrument, detector, physical_filter, visit_system, visit}, Spectraction)\n",
      "++++++++++++++++++++++++++++++++++++++++++++++++++++++++++++++++++++++++++++++++++\n",
      "id=UUID('aa50fda1-c14e-4dac-9d39-b7b5c02177e3') datasetType=SerializedDatasetType(name='spectraction', storageClass='Spectraction', dimensions=SerializedDimensionGraph(names=['band', 'instrument', 'detector', 'physical_filter', 'visit_system', 'visit']), parentStorageClass=None, isCalibration=False) dataId=SerializedDataCoordinate(dataId={'band': 'white', 'instrument': 'LATISS', 'detector': 0, 'physical_filter': 'empty~holo4_003', 'visit_system': 0, 'visit': 2021070700322}, records=None) run='u/dagoret/first_test/20220314T125917Z' component=None\n",
      ".  .  .  .  .  .  .  .  .  .  .  .  .  .  .  .  .  .  .  .  .  .  .  .  .  .  .  .\n",
      "{\"id\": \"aa50fda1-c14e-4dac-9d39-b7b5c02177e3\", \"datasetType\": {\"name\": \"spectraction\", \"storageClass\": \"Spectraction\", \"dimensions\": {\"names\": [\"band\", \"instrument\", \"detector\", \"physical_filter\", \"visit_system\", \"visit\"]}}, \"dataId\": {\"dataId\": {\"band\": \"white\", \"instrument\": \"LATISS\", \"detector\": 0, \"physical_filter\": \"empty~holo4_003\", \"visit_system\": 0, \"visit\": 2021070700322}}, \"run\": \"u/dagoret/first_test/20220314T125917Z\"}\n",
      "++++++++++++++++++++++++++++++++++++++++++++++++++++++++++++++++++++++++++++++++++\n",
      "run =  u/dagoret/first_test/20220314T125917Z\n",
      "isCalibration:  False\n",
      "isComponent:     False\n",
      "isComposite:    False\n",
      "======================================================= datasetType = spectraction =================================================================\n",
      "fullId:  {band: 'white', instrument: 'LATISS', detector: 0, physical_filter: 'empty~holo4_003', visit_system: 0, visit: 2021070700323}\n",
      "..................................................................................\n",
      "band:    white\n",
      "type:    DatasetType('spectraction', {band, instrument, detector, physical_filter, visit_system, visit}, Spectraction)\n",
      "++++++++++++++++++++++++++++++++++++++++++++++++++++++++++++++++++++++++++++++++++\n",
      "id=UUID('7caa47e2-ef20-4442-883b-9a51f416b4c6') datasetType=SerializedDatasetType(name='spectraction', storageClass='Spectraction', dimensions=SerializedDimensionGraph(names=['band', 'instrument', 'detector', 'physical_filter', 'visit_system', 'visit']), parentStorageClass=None, isCalibration=False) dataId=SerializedDataCoordinate(dataId={'band': 'white', 'instrument': 'LATISS', 'detector': 0, 'physical_filter': 'empty~holo4_003', 'visit_system': 0, 'visit': 2021070700323}, records=None) run='u/dagoret/first_test/20220314T145412Z' component=None\n",
      ".  .  .  .  .  .  .  .  .  .  .  .  .  .  .  .  .  .  .  .  .  .  .  .  .  .  .  .\n",
      "{\"id\": \"7caa47e2-ef20-4442-883b-9a51f416b4c6\", \"datasetType\": {\"name\": \"spectraction\", \"storageClass\": \"Spectraction\", \"dimensions\": {\"names\": [\"band\", \"instrument\", \"detector\", \"physical_filter\", \"visit_system\", \"visit\"]}}, \"dataId\": {\"dataId\": {\"band\": \"white\", \"instrument\": \"LATISS\", \"detector\": 0, \"physical_filter\": \"empty~holo4_003\", \"visit_system\": 0, \"visit\": 2021070700323}}, \"run\": \"u/dagoret/first_test/20220314T145412Z\"}\n",
      "++++++++++++++++++++++++++++++++++++++++++++++++++++++++++++++++++++++++++++++++++\n",
      "run =  u/dagoret/first_test/20220314T145412Z\n",
      "isCalibration:  False\n",
      "isComponent:     False\n",
      "isComposite:    False\n",
      "======================================================= datasetType = spectraction =================================================================\n",
      "fullId:  {band: 'white', instrument: 'LATISS', detector: 0, physical_filter: 'empty~holo4_003', visit_system: 0, visit: 2021070700322}\n",
      "..................................................................................\n",
      "band:    white\n",
      "type:    DatasetType('spectraction', {band, instrument, detector, physical_filter, visit_system, visit}, Spectraction)\n",
      "++++++++++++++++++++++++++++++++++++++++++++++++++++++++++++++++++++++++++++++++++\n",
      "id=UUID('31a5f6eb-1211-4cd4-9dc5-ba91edcde176') datasetType=SerializedDatasetType(name='spectraction', storageClass='Spectraction', dimensions=SerializedDimensionGraph(names=['band', 'instrument', 'detector', 'physical_filter', 'visit_system', 'visit']), parentStorageClass=None, isCalibration=False) dataId=SerializedDataCoordinate(dataId={'band': 'white', 'instrument': 'LATISS', 'detector': 0, 'physical_filter': 'empty~holo4_003', 'visit_system': 0, 'visit': 2021070700322}, records=None) run='u/dagoret/first_test/20220314T162452Z' component=None\n",
      ".  .  .  .  .  .  .  .  .  .  .  .  .  .  .  .  .  .  .  .  .  .  .  .  .  .  .  .\n",
      "{\"id\": \"31a5f6eb-1211-4cd4-9dc5-ba91edcde176\", \"datasetType\": {\"name\": \"spectraction\", \"storageClass\": \"Spectraction\", \"dimensions\": {\"names\": [\"band\", \"instrument\", \"detector\", \"physical_filter\", \"visit_system\", \"visit\"]}}, \"dataId\": {\"dataId\": {\"band\": \"white\", \"instrument\": \"LATISS\", \"detector\": 0, \"physical_filter\": \"empty~holo4_003\", \"visit_system\": 0, \"visit\": 2021070700322}}, \"run\": \"u/dagoret/first_test/20220314T162452Z\"}\n",
      "++++++++++++++++++++++++++++++++++++++++++++++++++++++++++++++++++++++++++++++++++\n",
      "run =  u/dagoret/first_test/20220314T162452Z\n",
      "isCalibration:  False\n",
      "isComponent:     False\n",
      "isComposite:    False\n",
      "======================================================= datasetType = spectraction =================================================================\n",
      "fullId:  {band: 'white', instrument: 'LATISS', detector: 0, physical_filter: 'empty~holo4_003', visit_system: 0, visit: 2021070700323}\n",
      "..................................................................................\n",
      "band:    white\n",
      "type:    DatasetType('spectraction', {band, instrument, detector, physical_filter, visit_system, visit}, Spectraction)\n",
      "++++++++++++++++++++++++++++++++++++++++++++++++++++++++++++++++++++++++++++++++++\n",
      "id=UUID('821a16b9-0a2c-41ec-bd50-d0995ba11891') datasetType=SerializedDatasetType(name='spectraction', storageClass='Spectraction', dimensions=SerializedDimensionGraph(names=['band', 'instrument', 'detector', 'physical_filter', 'visit_system', 'visit']), parentStorageClass=None, isCalibration=False) dataId=SerializedDataCoordinate(dataId={'band': 'white', 'instrument': 'LATISS', 'detector': 0, 'physical_filter': 'empty~holo4_003', 'visit_system': 0, 'visit': 2021070700323}, records=None) run='u/dagoret/first_test/20220314T165049Z' component=None\n",
      ".  .  .  .  .  .  .  .  .  .  .  .  .  .  .  .  .  .  .  .  .  .  .  .  .  .  .  .\n",
      "{\"id\": \"821a16b9-0a2c-41ec-bd50-d0995ba11891\", \"datasetType\": {\"name\": \"spectraction\", \"storageClass\": \"Spectraction\", \"dimensions\": {\"names\": [\"band\", \"instrument\", \"detector\", \"physical_filter\", \"visit_system\", \"visit\"]}}, \"dataId\": {\"dataId\": {\"band\": \"white\", \"instrument\": \"LATISS\", \"detector\": 0, \"physical_filter\": \"empty~holo4_003\", \"visit_system\": 0, \"visit\": 2021070700323}}, \"run\": \"u/dagoret/first_test/20220314T165049Z\"}\n",
      "++++++++++++++++++++++++++++++++++++++++++++++++++++++++++++++++++++++++++++++++++\n",
      "run =  u/dagoret/first_test/20220314T165049Z\n",
      "isCalibration:  False\n",
      "isComponent:     False\n",
      "isComposite:    False\n",
      "======================================================= datasetType = spectraction =================================================================\n",
      "fullId:  {band: 'white', instrument: 'LATISS', detector: 0, physical_filter: 'empty~holo4_003', visit_system: 0, visit: 2021070700324}\n",
      "..................................................................................\n",
      "band:    white\n",
      "type:    DatasetType('spectraction', {band, instrument, detector, physical_filter, visit_system, visit}, Spectraction)\n",
      "++++++++++++++++++++++++++++++++++++++++++++++++++++++++++++++++++++++++++++++++++\n",
      "id=UUID('fa65f88c-0c43-48e1-a753-26a07d83c61f') datasetType=SerializedDatasetType(name='spectraction', storageClass='Spectraction', dimensions=SerializedDimensionGraph(names=['band', 'instrument', 'detector', 'physical_filter', 'visit_system', 'visit']), parentStorageClass=None, isCalibration=False) dataId=SerializedDataCoordinate(dataId={'band': 'white', 'instrument': 'LATISS', 'detector': 0, 'physical_filter': 'empty~holo4_003', 'visit_system': 0, 'visit': 2021070700324}, records=None) run='u/dagoret/first_test/20220314T171720Z' component=None\n",
      ".  .  .  .  .  .  .  .  .  .  .  .  .  .  .  .  .  .  .  .  .  .  .  .  .  .  .  .\n",
      "{\"id\": \"fa65f88c-0c43-48e1-a753-26a07d83c61f\", \"datasetType\": {\"name\": \"spectraction\", \"storageClass\": \"Spectraction\", \"dimensions\": {\"names\": [\"band\", \"instrument\", \"detector\", \"physical_filter\", \"visit_system\", \"visit\"]}}, \"dataId\": {\"dataId\": {\"band\": \"white\", \"instrument\": \"LATISS\", \"detector\": 0, \"physical_filter\": \"empty~holo4_003\", \"visit_system\": 0, \"visit\": 2021070700324}}, \"run\": \"u/dagoret/first_test/20220314T171720Z\"}\n",
      "++++++++++++++++++++++++++++++++++++++++++++++++++++++++++++++++++++++++++++++++++\n",
      "run =  u/dagoret/first_test/20220314T171720Z\n",
      "isCalibration:  False\n",
      "isComponent:     False\n",
      "isComposite:    False\n",
      "======================================================= datasetType = spectraction =================================================================\n",
      "fullId:  {band: 'white', instrument: 'LATISS', detector: 0, physical_filter: 'empty~holo4_003', visit_system: 0, visit: 2021070700325}\n",
      "..................................................................................\n",
      "band:    white\n",
      "type:    DatasetType('spectraction', {band, instrument, detector, physical_filter, visit_system, visit}, Spectraction)\n",
      "++++++++++++++++++++++++++++++++++++++++++++++++++++++++++++++++++++++++++++++++++\n",
      "id=UUID('8b702a1d-e526-4424-81e8-d5afc8f67dc4') datasetType=SerializedDatasetType(name='spectraction', storageClass='Spectraction', dimensions=SerializedDimensionGraph(names=['band', 'instrument', 'detector', 'physical_filter', 'visit_system', 'visit']), parentStorageClass=None, isCalibration=False) dataId=SerializedDataCoordinate(dataId={'band': 'white', 'instrument': 'LATISS', 'detector': 0, 'physical_filter': 'empty~holo4_003', 'visit_system': 0, 'visit': 2021070700325}, records=None) run='u/dagoret/first_test/20220314T174422Z' component=None\n",
      ".  .  .  .  .  .  .  .  .  .  .  .  .  .  .  .  .  .  .  .  .  .  .  .  .  .  .  .\n",
      "{\"id\": \"8b702a1d-e526-4424-81e8-d5afc8f67dc4\", \"datasetType\": {\"name\": \"spectraction\", \"storageClass\": \"Spectraction\", \"dimensions\": {\"names\": [\"band\", \"instrument\", \"detector\", \"physical_filter\", \"visit_system\", \"visit\"]}}, \"dataId\": {\"dataId\": {\"band\": \"white\", \"instrument\": \"LATISS\", \"detector\": 0, \"physical_filter\": \"empty~holo4_003\", \"visit_system\": 0, \"visit\": 2021070700325}}, \"run\": \"u/dagoret/first_test/20220314T174422Z\"}\n",
      "++++++++++++++++++++++++++++++++++++++++++++++++++++++++++++++++++++++++++++++++++\n",
      "run =  u/dagoret/first_test/20220314T174422Z\n",
      "isCalibration:  False\n",
      "isComponent:     False\n",
      "isComposite:    False\n",
      "======================================================= datasetType = spectraction =================================================================\n",
      "fullId:  {band: 'white', instrument: 'LATISS', detector: 0, physical_filter: 'empty~holo4_003', visit_system: 0, visit: 2021070700326}\n",
      "..................................................................................\n",
      "band:    white\n",
      "type:    DatasetType('spectraction', {band, instrument, detector, physical_filter, visit_system, visit}, Spectraction)\n",
      "++++++++++++++++++++++++++++++++++++++++++++++++++++++++++++++++++++++++++++++++++\n",
      "id=UUID('49361822-4f9e-46a8-885f-504204ed983c') datasetType=SerializedDatasetType(name='spectraction', storageClass='Spectraction', dimensions=SerializedDimensionGraph(names=['band', 'instrument', 'detector', 'physical_filter', 'visit_system', 'visit']), parentStorageClass=None, isCalibration=False) dataId=SerializedDataCoordinate(dataId={'band': 'white', 'instrument': 'LATISS', 'detector': 0, 'physical_filter': 'empty~holo4_003', 'visit_system': 0, 'visit': 2021070700326}, records=None) run='u/dagoret/first_test/20220314T180848Z' component=None\n",
      ".  .  .  .  .  .  .  .  .  .  .  .  .  .  .  .  .  .  .  .  .  .  .  .  .  .  .  .\n",
      "{\"id\": \"49361822-4f9e-46a8-885f-504204ed983c\", \"datasetType\": {\"name\": \"spectraction\", \"storageClass\": \"Spectraction\", \"dimensions\": {\"names\": [\"band\", \"instrument\", \"detector\", \"physical_filter\", \"visit_system\", \"visit\"]}}, \"dataId\": {\"dataId\": {\"band\": \"white\", \"instrument\": \"LATISS\", \"detector\": 0, \"physical_filter\": \"empty~holo4_003\", \"visit_system\": 0, \"visit\": 2021070700326}}, \"run\": \"u/dagoret/first_test/20220314T180848Z\"}\n",
      "++++++++++++++++++++++++++++++++++++++++++++++++++++++++++++++++++++++++++++++++++\n",
      "run =  u/dagoret/first_test/20220314T180848Z\n",
      "isCalibration:  False\n",
      "isComponent:     False\n",
      "isComposite:    False\n",
      "======================================================= datasetType = spectraction =================================================================\n",
      "fullId:  {band: 'white', instrument: 'LATISS', detector: 0, physical_filter: 'empty~holo4_003', visit_system: 0, visit: 2021070700328}\n",
      "..................................................................................\n",
      "band:    white\n",
      "type:    DatasetType('spectraction', {band, instrument, detector, physical_filter, visit_system, visit}, Spectraction)\n",
      "++++++++++++++++++++++++++++++++++++++++++++++++++++++++++++++++++++++++++++++++++\n",
      "id=UUID('d9b56103-d9a5-4119-b9b3-5997b9c0094e') datasetType=SerializedDatasetType(name='spectraction', storageClass='Spectraction', dimensions=SerializedDimensionGraph(names=['band', 'instrument', 'detector', 'physical_filter', 'visit_system', 'visit']), parentStorageClass=None, isCalibration=False) dataId=SerializedDataCoordinate(dataId={'band': 'white', 'instrument': 'LATISS', 'detector': 0, 'physical_filter': 'empty~holo4_003', 'visit_system': 0, 'visit': 2021070700328}, records=None) run='u/dagoret/first_test/20220314T185733Z' component=None\n",
      ".  .  .  .  .  .  .  .  .  .  .  .  .  .  .  .  .  .  .  .  .  .  .  .  .  .  .  .\n",
      "{\"id\": \"d9b56103-d9a5-4119-b9b3-5997b9c0094e\", \"datasetType\": {\"name\": \"spectraction\", \"storageClass\": \"Spectraction\", \"dimensions\": {\"names\": [\"band\", \"instrument\", \"detector\", \"physical_filter\", \"visit_system\", \"visit\"]}}, \"dataId\": {\"dataId\": {\"band\": \"white\", \"instrument\": \"LATISS\", \"detector\": 0, \"physical_filter\": \"empty~holo4_003\", \"visit_system\": 0, \"visit\": 2021070700328}}, \"run\": \"u/dagoret/first_test/20220314T185733Z\"}\n",
      "++++++++++++++++++++++++++++++++++++++++++++++++++++++++++++++++++++++++++++++++++\n",
      "run =  u/dagoret/first_test/20220314T185733Z\n",
      "isCalibration:  False\n",
      "isComponent:     False\n",
      "isComposite:    False\n",
      "======================================================= datasetType = spectraction =================================================================\n",
      "fullId:  {band: 'white', instrument: 'LATISS', detector: 0, physical_filter: 'empty~holo4_003', visit_system: 0, visit: 2021070700329}\n",
      "..................................................................................\n",
      "band:    white\n",
      "type:    DatasetType('spectraction', {band, instrument, detector, physical_filter, visit_system, visit}, Spectraction)\n",
      "++++++++++++++++++++++++++++++++++++++++++++++++++++++++++++++++++++++++++++++++++\n",
      "id=UUID('4c2aef4e-c39b-4aa5-b6b0-3a37a2226fd6') datasetType=SerializedDatasetType(name='spectraction', storageClass='Spectraction', dimensions=SerializedDimensionGraph(names=['band', 'instrument', 'detector', 'physical_filter', 'visit_system', 'visit']), parentStorageClass=None, isCalibration=False) dataId=SerializedDataCoordinate(dataId={'band': 'white', 'instrument': 'LATISS', 'detector': 0, 'physical_filter': 'empty~holo4_003', 'visit_system': 0, 'visit': 2021070700329}, records=None) run='u/dagoret/first_test/20220314T192150Z' component=None\n",
      ".  .  .  .  .  .  .  .  .  .  .  .  .  .  .  .  .  .  .  .  .  .  .  .  .  .  .  .\n",
      "{\"id\": \"4c2aef4e-c39b-4aa5-b6b0-3a37a2226fd6\", \"datasetType\": {\"name\": \"spectraction\", \"storageClass\": \"Spectraction\", \"dimensions\": {\"names\": [\"band\", \"instrument\", \"detector\", \"physical_filter\", \"visit_system\", \"visit\"]}}, \"dataId\": {\"dataId\": {\"band\": \"white\", \"instrument\": \"LATISS\", \"detector\": 0, \"physical_filter\": \"empty~holo4_003\", \"visit_system\": 0, \"visit\": 2021070700329}}, \"run\": \"u/dagoret/first_test/20220314T192150Z\"}\n",
      "++++++++++++++++++++++++++++++++++++++++++++++++++++++++++++++++++++++++++++++++++\n",
      "run =  u/dagoret/first_test/20220314T192150Z\n",
      "isCalibration:  False\n",
      "isComponent:     False\n",
      "isComposite:    False\n",
      "======================================================= datasetType = spectraction =================================================================\n",
      "fullId:  {band: 'white', instrument: 'LATISS', detector: 0, physical_filter: 'empty~holo4_003', visit_system: 0, visit: 2021070700330}\n",
      "..................................................................................\n",
      "band:    white\n",
      "type:    DatasetType('spectraction', {band, instrument, detector, physical_filter, visit_system, visit}, Spectraction)\n",
      "++++++++++++++++++++++++++++++++++++++++++++++++++++++++++++++++++++++++++++++++++\n",
      "id=UUID('9fa3c7d6-480b-46dd-b4fe-c03f68738929') datasetType=SerializedDatasetType(name='spectraction', storageClass='Spectraction', dimensions=SerializedDimensionGraph(names=['band', 'instrument', 'detector', 'physical_filter', 'visit_system', 'visit']), parentStorageClass=None, isCalibration=False) dataId=SerializedDataCoordinate(dataId={'band': 'white', 'instrument': 'LATISS', 'detector': 0, 'physical_filter': 'empty~holo4_003', 'visit_system': 0, 'visit': 2021070700330}, records=None) run='u/dagoret/first_test/20220314T194303Z' component=None\n",
      ".  .  .  .  .  .  .  .  .  .  .  .  .  .  .  .  .  .  .  .  .  .  .  .  .  .  .  .\n",
      "{\"id\": \"9fa3c7d6-480b-46dd-b4fe-c03f68738929\", \"datasetType\": {\"name\": \"spectraction\", \"storageClass\": \"Spectraction\", \"dimensions\": {\"names\": [\"band\", \"instrument\", \"detector\", \"physical_filter\", \"visit_system\", \"visit\"]}}, \"dataId\": {\"dataId\": {\"band\": \"white\", \"instrument\": \"LATISS\", \"detector\": 0, \"physical_filter\": \"empty~holo4_003\", \"visit_system\": 0, \"visit\": 2021070700330}}, \"run\": \"u/dagoret/first_test/20220314T194303Z\"}\n",
      "++++++++++++++++++++++++++++++++++++++++++++++++++++++++++++++++++++++++++++++++++\n",
      "run =  u/dagoret/first_test/20220314T194303Z\n",
      "isCalibration:  False\n",
      "isComponent:     False\n",
      "isComposite:    False\n",
      "======================================================= datasetType = spectraction =================================================================\n",
      "fullId:  {band: 'white', instrument: 'LATISS', detector: 0, physical_filter: 'empty~holo4_003', visit_system: 0, visit: 2021070700361}\n",
      "..................................................................................\n",
      "band:    white\n",
      "type:    DatasetType('spectraction', {band, instrument, detector, physical_filter, visit_system, visit}, Spectraction)\n",
      "++++++++++++++++++++++++++++++++++++++++++++++++++++++++++++++++++++++++++++++++++\n",
      "id=UUID('62f84b0f-0738-4462-acf2-78f5e5f0d06e') datasetType=SerializedDatasetType(name='spectraction', storageClass='Spectraction', dimensions=SerializedDimensionGraph(names=['band', 'instrument', 'detector', 'physical_filter', 'visit_system', 'visit']), parentStorageClass=None, isCalibration=False) dataId=SerializedDataCoordinate(dataId={'band': 'white', 'instrument': 'LATISS', 'detector': 0, 'physical_filter': 'empty~holo4_003', 'visit_system': 0, 'visit': 2021070700361}, records=None) run='u/dagoret/first_test/20220315T065016Z' component=None\n",
      ".  .  .  .  .  .  .  .  .  .  .  .  .  .  .  .  .  .  .  .  .  .  .  .  .  .  .  .\n",
      "{\"id\": \"62f84b0f-0738-4462-acf2-78f5e5f0d06e\", \"datasetType\": {\"name\": \"spectraction\", \"storageClass\": \"Spectraction\", \"dimensions\": {\"names\": [\"band\", \"instrument\", \"detector\", \"physical_filter\", \"visit_system\", \"visit\"]}}, \"dataId\": {\"dataId\": {\"band\": \"white\", \"instrument\": \"LATISS\", \"detector\": 0, \"physical_filter\": \"empty~holo4_003\", \"visit_system\": 0, \"visit\": 2021070700361}}, \"run\": \"u/dagoret/first_test/20220315T065016Z\"}\n",
      "++++++++++++++++++++++++++++++++++++++++++++++++++++++++++++++++++++++++++++++++++\n",
      "run =  u/dagoret/first_test/20220315T065016Z\n",
      "isCalibration:  False\n",
      "isComponent:     False\n",
      "isComposite:    False\n"
     ]
    }
   ],
   "source": [
    "all_ref_for_spectraction = []\n",
    "\n",
    "for i, ref in enumerate(datasetRefs):\n",
    "    all_ref_for_spectraction.append(ref.dataId)\n",
    "    print(\"======================================================= datasetType = spectraction =================================================================\")\n",
    "   \n",
    "    print(\"fullId: \",ref.dataId.full)\n",
    "    print(\"..................................................................................\")\n",
    "    print(\"band:   \",ref.dataId[\"band\"])\n",
    "    print(\"type:   \",ref.datasetType)\n",
    "    \n",
    "    print(\"++++++++++++++++++++++++++++++++++++++++++++++++++++++++++++++++++++++++++++++++++\")\n",
    "    print(ref.to_simple())\n",
    "    print(\".  .  .  .  .  .  .  .  .  .  .  .  .  .  .  .  .  .  .  .  .  .  .  .  .  .  .  .\")\n",
    "    print(ref.to_json())\n",
    "    print(\"++++++++++++++++++++++++++++++++++++++++++++++++++++++++++++++++++++++++++++++++++\")\n",
    "    \n",
    "    print(\"run = \",ref.run)\n",
    "    print(\"isCalibration: \",ref.datasetType.isCalibration())\n",
    "    \n",
    "    print(\"isComponent:    \",ref.isComponent())\n",
    "    \n",
    "    print(\"isComposite:   \",ref.isComposite()) \n",
    "    \n"
   ]
  },
  {
   "cell_type": "markdown",
   "id": "2ba80c4b",
   "metadata": {},
   "source": [
    "# Found Spectraction "
   ]
  },
  {
   "cell_type": "code",
   "execution_count": 13,
   "id": "05538ea4",
   "metadata": {},
   "outputs": [
    {
     "data": {
      "text/plain": [
       "[{instrument: 'LATISS', detector: 0, visit: 2021070700318, ...},\n",
       " {instrument: 'LATISS', detector: 0, visit: 2021070700319, ...},\n",
       " {instrument: 'LATISS', detector: 0, visit: 2021070700320, ...},\n",
       " {instrument: 'LATISS', detector: 0, visit: 2021070700320, ...},\n",
       " {instrument: 'LATISS', detector: 0, visit: 2021070700322, ...},\n",
       " {instrument: 'LATISS', detector: 0, visit: 2021070700323, ...},\n",
       " {instrument: 'LATISS', detector: 0, visit: 2021070700322, ...},\n",
       " {instrument: 'LATISS', detector: 0, visit: 2021070700323, ...},\n",
       " {instrument: 'LATISS', detector: 0, visit: 2021070700324, ...},\n",
       " {instrument: 'LATISS', detector: 0, visit: 2021070700325, ...},\n",
       " {instrument: 'LATISS', detector: 0, visit: 2021070700326, ...},\n",
       " {instrument: 'LATISS', detector: 0, visit: 2021070700328, ...},\n",
       " {instrument: 'LATISS', detector: 0, visit: 2021070700329, ...},\n",
       " {instrument: 'LATISS', detector: 0, visit: 2021070700330, ...},\n",
       " {instrument: 'LATISS', detector: 0, visit: 2021070700361, ...}]"
      ]
     },
     "execution_count": 13,
     "metadata": {},
     "output_type": "execute_result"
    }
   ],
   "source": [
    "all_ref_for_spectraction"
   ]
  },
  {
   "cell_type": "markdown",
   "id": "229be1ba",
   "metadata": {},
   "source": [
    "## Select  One dataId found in Spectraction"
   ]
  },
  {
   "cell_type": "code",
   "execution_count": 14,
   "id": "216745b6",
   "metadata": {},
   "outputs": [
    {
     "data": {
      "text/plain": [
       "{instrument: 'LATISS', detector: 0, visit: 2021070700318, ...}"
      ]
     },
     "execution_count": 14,
     "metadata": {},
     "output_type": "execute_result"
    }
   ],
   "source": [
    "refid0 = all_ref_for_spectraction[0]\n",
    "refid0"
   ]
  },
  {
   "cell_type": "code",
   "execution_count": 15,
   "id": "7454c0f6",
   "metadata": {},
   "outputs": [
    {
     "data": {
      "text/plain": [
       "2021070700318"
      ]
     },
     "execution_count": 15,
     "metadata": {},
     "output_type": "execute_result"
    }
   ],
   "source": [
    "refid0[\"visit\"]"
   ]
  },
  {
   "cell_type": "markdown",
   "id": "12b9d909",
   "metadata": {},
   "source": [
    "## Access to postISRCCD"
   ]
  },
  {
   "cell_type": "code",
   "execution_count": 16,
   "id": "9494aec9",
   "metadata": {},
   "outputs": [],
   "source": [
    "postisrccd = butler.get('postISRCCD', dataId={'exposure': refid0[\"visit\"], 'instrument': 'LATISS', 'detector': 0}, collections = collection)"
   ]
  },
  {
   "cell_type": "code",
   "execution_count": 17,
   "id": "0751a465",
   "metadata": {},
   "outputs": [],
   "source": [
    "fig = plt.figure(figsize=(8,8))\n",
    "afw_display = afwDisplay.Display(1)\n",
    "afw_display.scale('asinh', 'zscale')\n",
    "afw_display.mtv(postisrccd.image)\n",
    "#plt.gca().axis('off')"
   ]
  },
  {
   "cell_type": "markdown",
   "id": "6c87cd51",
   "metadata": {},
   "source": [
    "## NO Access to Calexp"
   ]
  },
  {
   "cell_type": "code",
   "execution_count": 18,
   "id": "f2db3b0c",
   "metadata": {},
   "outputs": [],
   "source": [
    "# calexp = butler.get('calexp', dataId={'exposure': 2021070700318, 'instrument': 'LATISS', 'detector': 0}, collections = collection)"
   ]
  },
  {
   "cell_type": "markdown",
   "id": "ce7f14ae",
   "metadata": {},
   "source": [
    "## Access to Spectraction"
   ]
  },
  {
   "cell_type": "code",
   "execution_count": 19,
   "id": "bb07904b",
   "metadata": {},
   "outputs": [],
   "source": [
    "spectraction  = butler.get('spectraction', dataId=refid0, collections = collection)"
   ]
  },
  {
   "cell_type": "code",
   "execution_count": 20,
   "id": "00d67ede",
   "metadata": {},
   "outputs": [],
   "source": [
    "#dir(spectraction)"
   ]
  },
  {
   "cell_type": "markdown",
   "id": "b42f2913",
   "metadata": {},
   "source": [
    "# Extract main components of Spectraction"
   ]
  },
  {
   "cell_type": "code",
   "execution_count": 21,
   "id": "1b7abc2a",
   "metadata": {},
   "outputs": [],
   "source": [
    "image = spectraction.image"
   ]
  },
  {
   "cell_type": "code",
   "execution_count": 34,
   "id": "00d3080d",
   "metadata": {},
   "outputs": [
    {
     "data": {
      "text/plain": [
       "['__class__',\n",
       " '__delattr__',\n",
       " '__dict__',\n",
       " '__dir__',\n",
       " '__doc__',\n",
       " '__eq__',\n",
       " '__format__',\n",
       " '__ge__',\n",
       " '__getattribute__',\n",
       " '__gt__',\n",
       " '__hash__',\n",
       " '__init__',\n",
       " '__init_subclass__',\n",
       " '__le__',\n",
       " '__lt__',\n",
       " '__module__',\n",
       " '__ne__',\n",
       " '__new__',\n",
       " '__reduce__',\n",
       " '__reduce_ex__',\n",
       " '__repr__',\n",
       " '__setattr__',\n",
       " '__sizeof__',\n",
       " '__str__',\n",
       " '__subclasshook__',\n",
       " '__weakref__',\n",
       " 'airmass',\n",
       " 'check_statistical_error',\n",
       " 'compute_parallactic_angle',\n",
       " 'compute_statistical_error',\n",
       " 'convert_to_ADU_rate_units',\n",
       " 'convert_to_ADU_units',\n",
       " 'data',\n",
       " 'data_rotated',\n",
       " 'date_obs',\n",
       " 'dec',\n",
       " 'disperser',\n",
       " 'disperser_label',\n",
       " 'expo',\n",
       " 'file_name',\n",
       " 'filter_label',\n",
       " 'filters',\n",
       " 'gain',\n",
       " 'header',\n",
       " 'hour_angle',\n",
       " 'humidity',\n",
       " 'load_image',\n",
       " 'my_logger',\n",
       " 'parallactic_angle',\n",
       " 'plot_image',\n",
       " 'plot_statistical_error',\n",
       " 'pressure',\n",
       " 'ra',\n",
       " 'read_out_noise',\n",
       " 'rebin',\n",
       " 'rotation_angle',\n",
       " 'saturation',\n",
       " 'save_image',\n",
       " 'stat_errors',\n",
       " 'stat_errors_rotated',\n",
       " 'target',\n",
       " 'target_bkgd2D',\n",
       " 'target_guess',\n",
       " 'target_label',\n",
       " 'target_pixcoords',\n",
       " 'target_pixcoords_rotated',\n",
       " 'target_star2D',\n",
       " 'temperature',\n",
       " 'units']"
      ]
     },
     "execution_count": 34,
     "metadata": {},
     "output_type": "execute_result"
    }
   ],
   "source": [
    "dir(image)"
   ]
  },
  {
   "cell_type": "code",
   "execution_count": 23,
   "id": "c47f97b0",
   "metadata": {},
   "outputs": [
    {
     "data": {
      "text/plain": [
       "'HD 160617'"
      ]
     },
     "execution_count": 23,
     "metadata": {},
     "output_type": "execute_result"
    }
   ],
   "source": [
    "image.target.label"
   ]
  },
  {
   "cell_type": "code",
   "execution_count": 24,
   "id": "32bac92b",
   "metadata": {},
   "outputs": [],
   "source": [
    "spectrum = spectraction.spectrum"
   ]
  },
  {
   "cell_type": "code",
   "execution_count": 32,
   "id": "fce013ff",
   "metadata": {},
   "outputs": [
    {
     "data": {
      "text/plain": [
       "['__class__',\n",
       " '__delattr__',\n",
       " '__dict__',\n",
       " '__dir__',\n",
       " '__doc__',\n",
       " '__eq__',\n",
       " '__format__',\n",
       " '__ge__',\n",
       " '__getattribute__',\n",
       " '__gt__',\n",
       " '__hash__',\n",
       " '__init__',\n",
       " '__init_subclass__',\n",
       " '__le__',\n",
       " '__lt__',\n",
       " '__module__',\n",
       " '__ne__',\n",
       " '__new__',\n",
       " '__reduce__',\n",
       " '__reduce_ex__',\n",
       " '__repr__',\n",
       " '__setattr__',\n",
       " '__sizeof__',\n",
       " '__str__',\n",
       " '__subclasshook__',\n",
       " '__weakref__',\n",
       " 'adr_params',\n",
       " 'airmass',\n",
       " 'atmospheric_lines',\n",
       " 'chromatic_psf',\n",
       " 'convert_from_ADUrate_to_flam',\n",
       " 'convert_from_flam_to_ADUrate',\n",
       " 'cov_matrix',\n",
       " 'data',\n",
       " 'data_order2',\n",
       " 'date_obs',\n",
       " 'dec',\n",
       " 'disperser',\n",
       " 'disperser_label',\n",
       " 'err',\n",
       " 'err_order2',\n",
       " 'expo',\n",
       " 'fast_load',\n",
       " 'filename',\n",
       " 'filter_label',\n",
       " 'filters',\n",
       " 'gain',\n",
       " 'header',\n",
       " 'hour_angle',\n",
       " 'humidity',\n",
       " 'lambda_ref',\n",
       " 'lambdas',\n",
       " 'lambdas_binwidths',\n",
       " 'lambdas_indices',\n",
       " 'lambdas_order2',\n",
       " 'lines',\n",
       " 'load_chromatic_psf',\n",
       " 'load_filter',\n",
       " 'load_spectrogram',\n",
       " 'load_spectrum',\n",
       " 'my_logger',\n",
       " 'order',\n",
       " 'parallactic_angle',\n",
       " 'pixels',\n",
       " 'plot_spectrogram',\n",
       " 'plot_spectrum',\n",
       " 'pressure',\n",
       " 'psf',\n",
       " 'rotation_angle',\n",
       " 'save_spectrogram',\n",
       " 'save_spectrum',\n",
       " 'spectrogram',\n",
       " 'spectrogram_Nx',\n",
       " 'spectrogram_Ny',\n",
       " 'spectrogram_bgd',\n",
       " 'spectrogram_bgd_rms',\n",
       " 'spectrogram_deg',\n",
       " 'spectrogram_err',\n",
       " 'spectrogram_fit',\n",
       " 'spectrogram_residuals',\n",
       " 'spectrogram_saturation',\n",
       " 'spectrogram_x0',\n",
       " 'spectrogram_xmax',\n",
       " 'spectrogram_xmin',\n",
       " 'spectrogram_y0',\n",
       " 'spectrogram_ymax',\n",
       " 'spectrogram_ymin',\n",
       " 'target',\n",
       " 'target_pixcoords',\n",
       " 'target_pixcoords_rotated',\n",
       " 'temperature',\n",
       " 'units',\n",
       " 'x0']"
      ]
     },
     "execution_count": 32,
     "metadata": {},
     "output_type": "execute_result"
    }
   ],
   "source": [
    "dir(spectrum)"
   ]
  },
  {
   "cell_type": "code",
   "execution_count": 33,
   "id": "9770a0c3-f707-4f7f-a370-4904c49c30ce",
   "metadata": {},
   "outputs": [
    {
     "data": {
      "text/plain": [
       "array([-9.56429826e-16, -1.19474363e-15, -1.21379207e-15, -2.79603884e-15,\n",
       "        1.45821769e-15,  2.20566144e-16, -2.99383513e-15, -4.62317077e-15,\n",
       "       -7.87961399e-15,  8.66756252e-15,  4.14711204e-14,  8.81519994e-14,\n",
       "        1.30914896e-13,  1.61627406e-13,  1.71565990e-13,  1.68566556e-13,\n",
       "        1.59120501e-13,  1.49692036e-13,  1.42209199e-13,  1.42021918e-13,\n",
       "        1.46914086e-13,  1.51619722e-13,  1.55657325e-13,  1.59478209e-13,\n",
       "        1.60434127e-13,  1.62239865e-13,  1.64202603e-13,  1.65137033e-13,\n",
       "        1.67945423e-13,  1.72204332e-13,  1.73257146e-13,  1.77681837e-13,\n",
       "        1.79538199e-13,  1.83937164e-13,  1.82881450e-13,  1.76973487e-13,\n",
       "        1.65695104e-13,  1.46997741e-13,  1.35272323e-13,  1.39701799e-13,\n",
       "        1.57217052e-13,  1.79479159e-13,  2.00193396e-13,  2.20734266e-13,\n",
       "        2.33567596e-13,  2.42420391e-13,  2.43544620e-13,  2.36949828e-13,\n",
       "        2.30017802e-13,  2.23694562e-13,  2.21290636e-13,  2.22958392e-13,\n",
       "        2.38364240e-13,  2.49782812e-13,  2.53211351e-13,  2.43999827e-13,\n",
       "        2.43070414e-13,  2.48026522e-13,  2.50484824e-13,  2.52020447e-13,\n",
       "        2.50494302e-13,  2.56315597e-13,  2.62680083e-13,  2.66381370e-13,\n",
       "        2.71155414e-13,  2.71919194e-13,  2.75700807e-13,  2.75121102e-13,\n",
       "        2.80133300e-13,  2.80546145e-13,  2.78522099e-13,  2.80776118e-13,\n",
       "        2.82896414e-13,  2.83170676e-13,  2.84094410e-13,  2.82914423e-13,\n",
       "        2.82258407e-13,  2.82149999e-13,  2.83893515e-13,  2.82108387e-13,\n",
       "        2.79077513e-13,  2.75949766e-13,  2.71362339e-13,  2.69971702e-13,\n",
       "        2.70692835e-13,  2.69927982e-13,  2.70435421e-13,  2.70655222e-13,\n",
       "        2.69391425e-13,  2.69328508e-13,  2.70021275e-13,  2.71854765e-13,\n",
       "        2.74095834e-13,  2.75919613e-13,  2.79681189e-13,  2.84158512e-13,\n",
       "        2.92955701e-13,  2.99195639e-13,  3.05845893e-13,  3.08525281e-13,\n",
       "        3.05372716e-13,  2.94293744e-13,  2.82350460e-13,  2.73753290e-13,\n",
       "        2.70506755e-13,  2.71014139e-13,  2.73121891e-13,  2.76104147e-13,\n",
       "        2.76339641e-13,  2.69408558e-13,  2.50089170e-13,  2.19280216e-13,\n",
       "        1.82789967e-13,  1.61812344e-13,  1.60589993e-13,  1.75729014e-13,\n",
       "        1.99103383e-13,  2.25502177e-13,  2.48095117e-13,  2.62340411e-13,\n",
       "        2.66305650e-13,  2.67516255e-13,  2.66816469e-13,  2.58614062e-13,\n",
       "        2.53206467e-13,  2.50444169e-13,  2.48426960e-13,  2.50927183e-13,\n",
       "        2.49537846e-13,  2.47443841e-13,  2.44068752e-13,  2.42792992e-13,\n",
       "        2.39712110e-13,  2.42162631e-13,  2.39841437e-13,  2.37516248e-13,\n",
       "        2.36277590e-13,  2.36603071e-13,  2.43257076e-13,  2.44154374e-13,\n",
       "        2.45409263e-13,  2.42012915e-13,  2.40724092e-13,  2.38442490e-13,\n",
       "        2.36330772e-13,  2.34562816e-13,  2.36630283e-13,  2.33565831e-13,\n",
       "        2.31499574e-13,  2.30344767e-13,  2.27279568e-13,  2.22634894e-13,\n",
       "        2.20635146e-13,  2.20412975e-13,  2.17849042e-13,  2.18263623e-13,\n",
       "        2.18763947e-13,  2.21851292e-13,  2.23782050e-13,  2.21215672e-13,\n",
       "        2.17152123e-13,  2.18938926e-13,  2.14708850e-13,  2.14785934e-13,\n",
       "        2.14004783e-13,  2.12080084e-13,  2.12476027e-13,  2.10713936e-13,\n",
       "        2.11846045e-13,  2.10860328e-13,  2.08561765e-13,  2.07430485e-13,\n",
       "        2.04579699e-13,  2.01296389e-13,  2.01202018e-13,  1.99071824e-13,\n",
       "        1.96330842e-13,  1.95236471e-13,  1.91802156e-13,  1.89965063e-13,\n",
       "        1.87739380e-13,  1.89324431e-13,  1.86579865e-13,  1.86416659e-13,\n",
       "        1.86426495e-13,  1.84081285e-13,  1.79672533e-13,  1.77756752e-13,\n",
       "        1.75049288e-13,  1.71880953e-13,  1.71586164e-13,  1.72578319e-13,\n",
       "        1.77767606e-13,  1.76680474e-13,  1.75696319e-13,  1.73250771e-13,\n",
       "        1.74613795e-13,  1.73389913e-13,  1.72112097e-13,  1.70742321e-13,\n",
       "        1.71271979e-13,  1.69064293e-13,  1.69405496e-13,  1.66840292e-13,\n",
       "        1.64517664e-13,  1.63604593e-13,  1.60726863e-13,  1.58419247e-13,\n",
       "        1.57348704e-13,  1.53256027e-13,  1.49763108e-13,  1.47698186e-13,\n",
       "        1.45242698e-13,  1.44251431e-13,  1.45042553e-13,  1.45448841e-13,\n",
       "        1.47189468e-13,  1.44112602e-13,  1.41690706e-13,  1.41327524e-13,\n",
       "        1.39655224e-13,  1.38682902e-13,  1.38460958e-13,  1.37250620e-13,\n",
       "        1.36535333e-13,  1.34892912e-13,  1.32788552e-13,  1.31661747e-13,\n",
       "        1.31226267e-13,  1.31048540e-13,  1.29494889e-13,  1.29436547e-13,\n",
       "        1.26611796e-13,  1.22699284e-13,  1.15656540e-13,  1.08362789e-13,\n",
       "        1.03767956e-13,  1.00093419e-13,  9.64910583e-14,  9.84633770e-14,\n",
       "        9.89524474e-14,  9.93958250e-14,  1.00964174e-13,  1.01150018e-13,\n",
       "        9.81662637e-14,  9.61602569e-14,  9.48049898e-14,  9.34205474e-14,\n",
       "        9.33085107e-14,  9.19724401e-14,  9.19855886e-14,  9.14844095e-14,\n",
       "        9.08895988e-14,  8.78821966e-14,  8.84372192e-14,  8.82576681e-14,\n",
       "        8.73388096e-14,  8.80543900e-14,  8.68937757e-14,  8.62338539e-14,\n",
       "        8.62735248e-14,  8.52404276e-14,  8.14189763e-14,  8.12351598e-14,\n",
       "        7.92819433e-14,  7.81428336e-14,  7.64190700e-14,  7.56486487e-14,\n",
       "        7.48098196e-14,  7.45083905e-14,  7.37696741e-14,  7.55648065e-14,\n",
       "        7.64176145e-14,  7.69046723e-14,  8.02570792e-14,  8.29466529e-14,\n",
       "        8.01602251e-14,  7.51631704e-14,  7.21928477e-14,  6.79855786e-14,\n",
       "        6.47787344e-14,  6.27777093e-14,  6.08596419e-14,  5.99377997e-14,\n",
       "        5.98268331e-14,  5.82510194e-14,  5.68001072e-14,  5.56574925e-14,\n",
       "        5.41983808e-14,  5.38223641e-14,  5.16079776e-14,  5.10644554e-14,\n",
       "        5.10077939e-14,  4.97303423e-14,  4.85210835e-14,  4.80943773e-14,\n",
       "        4.75878717e-14,  4.80025230e-14,  4.50978532e-14,  4.55585469e-14,\n",
       "        4.39026071e-14,  4.32026685e-14,  4.38533836e-14,  4.60367596e-14,\n",
       "        4.74953221e-14,  4.92837801e-14,  4.58527471e-14,  4.17423834e-14,\n",
       "        3.81406530e-14,  3.46486127e-14,  3.42267612e-14,  3.46397608e-14,\n",
       "        3.45722895e-14,  3.46291302e-14,  3.51615102e-14,  3.43201889e-14,\n",
       "        3.32141061e-14,  3.20154079e-14,  3.21278428e-14,  3.16857439e-14,\n",
       "        3.08786330e-14,  3.00728203e-14,  3.04194540e-14,  3.11446247e-14,\n",
       "        2.99253887e-14,  3.01883235e-14,  2.95742700e-14,  2.97190928e-14,\n",
       "        2.87696866e-14,  3.00109875e-14,  2.93621540e-14,  2.79583363e-14,\n",
       "        2.89494087e-14,  2.89520481e-14,  2.88309480e-14,  2.89733042e-14,\n",
       "        2.89367426e-14,  2.74522233e-14,  2.83493154e-14,  2.66641801e-14,\n",
       "        2.65588351e-14,  2.48163496e-14,  2.42112424e-14,  2.76960165e-14,\n",
       "        2.73470387e-14,  2.66457976e-14,  2.76768303e-14,  2.65722201e-14,\n",
       "        2.63626558e-14,  2.64342456e-14,  2.62245645e-14,  2.60726294e-14,\n",
       "        2.53740997e-14,  2.55902694e-14,  2.52688499e-14,  2.59934917e-14,\n",
       "        2.55419328e-14,  2.57753020e-14,  2.53130979e-14,  2.59175080e-14,\n",
       "        2.52542765e-14,  2.49107936e-14,  2.44542345e-14,  2.53971477e-14,\n",
       "        2.50306779e-14,  2.43882608e-14,  2.47206447e-14,  2.44031042e-14,\n",
       "        2.46080390e-14,  2.39168433e-14,  2.41424147e-14,  2.38458270e-14,\n",
       "        2.36113043e-14,  2.37949226e-14,  2.32706171e-14,  2.36351543e-14,\n",
       "        2.28273097e-14,  2.37776935e-14,  2.35433770e-14,  2.34090007e-14,\n",
       "        2.40080729e-14,  2.41500057e-14,  2.39206667e-14,  2.36069357e-14,\n",
       "        2.32375779e-14,  2.35627807e-14,  2.35752518e-14,  2.25482355e-14,\n",
       "        2.39900197e-14,  2.25983233e-14,  2.30979861e-14,  2.31261708e-14,\n",
       "        2.31570012e-14,  2.20742543e-14,  2.32276242e-14,  2.29201705e-14,\n",
       "        2.29248148e-14,  2.18193672e-14,  2.25014999e-14,  2.21908936e-14,\n",
       "        2.25369404e-14,  2.28301076e-14,  2.18818269e-14,  2.18068835e-14,\n",
       "        2.13875044e-14,  2.15663572e-14,  2.16801922e-14,  2.16872460e-14,\n",
       "        2.26317934e-14,  2.23135566e-14,  2.17942817e-14,  2.19304482e-14,\n",
       "        2.12710624e-14,  2.12496146e-14,  2.10163622e-14,  2.10622574e-14,\n",
       "        2.10231780e-14,  2.07577877e-14,  1.98750790e-14,  2.06371852e-14,\n",
       "        2.02462691e-14,  2.07481405e-14,  2.07913118e-14,  2.03443064e-14,\n",
       "        2.04827859e-14,  2.06735873e-14,  2.05340407e-14,  2.07100024e-14,\n",
       "        2.06768175e-14,  2.13381357e-14,  2.11474737e-14,  2.17094806e-14,\n",
       "        2.14454614e-14,  2.19051303e-14,  2.08876066e-14,  2.13009830e-14,\n",
       "        2.10606838e-14,  2.06953853e-14,  2.04623428e-14,  2.01254885e-14,\n",
       "        2.00576304e-14,  2.01403460e-14,  2.02422939e-14,  2.08219411e-14,\n",
       "        2.08625405e-14,  2.02579908e-14,  2.00710772e-14,  2.05361374e-14])"
      ]
     },
     "execution_count": 33,
     "metadata": {},
     "output_type": "execute_result"
    }
   ],
   "source": [
    "spectrum.data"
   ]
  },
  {
   "cell_type": "code",
   "execution_count": 26,
   "id": "ee5dcb04",
   "metadata": {},
   "outputs": [],
   "source": [
    "spec_w = spectraction.w"
   ]
  },
  {
   "cell_type": "code",
   "execution_count": 27,
   "id": "a4540b32",
   "metadata": {},
   "outputs": [],
   "source": [
    "#dir(spec_w)"
   ]
  },
  {
   "cell_type": "markdown",
   "id": "0b860d48",
   "metadata": {},
   "source": [
    "### Start with image"
   ]
  },
  {
   "cell_type": "code",
   "execution_count": 28,
   "id": "f0e189dd",
   "metadata": {},
   "outputs": [
    {
     "data": {
      "text/plain": [
       "1.06657802823672"
      ]
     },
     "execution_count": 28,
     "metadata": {},
     "output_type": "execute_result"
    }
   ],
   "source": [
    "airmass = image.airmass\n",
    "airmass"
   ]
  },
  {
   "cell_type": "code",
   "execution_count": 29,
   "id": "58d0e006",
   "metadata": {},
   "outputs": [],
   "source": [
    "img = image.data"
   ]
  },
  {
   "cell_type": "code",
   "execution_count": 30,
   "id": "1ab027fe",
   "metadata": {},
   "outputs": [
    {
     "data": {
      "text/plain": [
       "array([[-0.11206304, -0.04467412,  0.07011777, ..., -0.0358763 ,\n",
       "        -0.07602447, -0.11650336],\n",
       "       [-0.21139966, -0.08151308,  0.11039347, ..., -0.20319199,\n",
       "        -0.19482018, -0.19062436],\n",
       "       [-0.16695891, -0.18954746,  0.05168054, ..., -0.2447929 ,\n",
       "        -0.3635365 , -0.24490001],\n",
       "       ...,\n",
       "       [-0.67543118, -0.46424393, -0.37358714, ...,  0.02565122,\n",
       "        -0.15271319, -0.26062581],\n",
       "       [-0.73805761, -0.63772193,  0.00685127, ...,  0.00504793,\n",
       "        -0.0428815 , -0.21720905],\n",
       "       [-0.86253246, -0.60742281, -0.22542281, ..., -0.12819231,\n",
       "        -0.11863107, -0.14099535]])"
      ]
     },
     "execution_count": 30,
     "metadata": {},
     "output_type": "execute_result"
    }
   ],
   "source": [
    "img"
   ]
  },
  {
   "cell_type": "code",
   "execution_count": 31,
   "id": "7b710826",
   "metadata": {},
   "outputs": [],
   "source": [
    "fig = plt.figure(figsize=(8,8))\n",
    "plt.imshow(transform(img))\n",
    "plt.show()"
   ]
  },
  {
   "cell_type": "code",
   "execution_count": null,
   "id": "3d3825ad",
   "metadata": {},
   "outputs": [],
   "source": []
  }
 ],
 "metadata": {
  "kernelspec": {
   "display_name": "lsst_distrib_w_2022_09",
   "language": "python",
   "name": "lsst_distrib_w_2022_09"
  },
  "language_info": {
   "codemirror_mode": {
    "name": "ipython",
    "version": 3
   },
   "file_extension": ".py",
   "mimetype": "text/x-python",
   "name": "python",
   "nbconvert_exporter": "python",
   "pygments_lexer": "ipython3",
   "version": "3.8.12"
  }
 },
 "nbformat": 4,
 "nbformat_minor": 5
}
