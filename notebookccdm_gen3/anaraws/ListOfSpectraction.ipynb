{
 "cells": [
  {
   "cell_type": "markdown",
   "id": "c813ed6a",
   "metadata": {
    "tags": []
   },
   "source": [
    "# List of spectraction\n",
    "\n",
    "- work with Weakly_2022_09\n",
    "- use jupyter kernel LSST\n",
    "\n",
    "\n",
    "- author : Sylvie Dagoret-Campagne\n",
    "- affiliation : IJCLab\n",
    "- creation date : 2022/03/16\n",
    "- updatz : 2022/03/16\n",
    "\n"
   ]
  },
  {
   "cell_type": "code",
   "execution_count": 1,
   "id": "2e1f28b1",
   "metadata": {},
   "outputs": [
    {
     "name": "stdout",
     "output_type": "stream",
     "text": [
      "atmospec              LOCAL:/sps/lsst/groups/auxtel/softs/shared/auxteldm_gen3/repos/w_2022_09/atmospec \tsetup\n",
      "eups                  LOCAL:/cvmfs/sw.lsst.eu/linux-x86_64/lsst_distrib/w_2022_09/conda/envs/lsst-scipipe-2.0.0/eups \tsetup\n",
      "rapid_analysis        LOCAL:/sps/lsst/groups/auxtel/softs/shared/auxteldm_gen3/repos/w_2022_09/rapid_analysis \tsetup\n"
     ]
    }
   ],
   "source": [
    "! eups list -s | grep LOCAL"
   ]
  },
  {
   "cell_type": "code",
   "execution_count": 2,
   "id": "8d301387-7065-4c85-897e-9e91b477c2b0",
   "metadata": {},
   "outputs": [
    {
     "name": "stdout",
     "output_type": "stream",
     "text": [
      "\n",
      "   g64fc59b30a+e1dba0a6f6 \tw_latest w_2022_09 current setup\n"
     ]
    }
   ],
   "source": [
    "! echo $IMAGE_DESCRIPTION\n",
    "! eups list -s lsst_distrib"
   ]
  },
  {
   "cell_type": "code",
   "execution_count": 3,
   "id": "ea83b669",
   "metadata": {},
   "outputs": [],
   "source": [
    "import os\n",
    "import matplotlib.pyplot as plt\n",
    "import numpy as np\n",
    "import pandas as pd\n",
    "%matplotlib inline\n",
    "from matplotlib.colors import LogNorm\n",
    "\n",
    "from mpl_toolkits.axes_grid1 import make_axes_locatable\n",
    "\n",
    "import matplotlib.ticker                         # here's where the formatter is\n",
    "from matplotlib.ticker import (MultipleLocator, FormatStrFormatter,\n",
    "                               AutoMinorLocator)\n",
    "\n",
    "from astropy.io import fits"
   ]
  },
  {
   "cell_type": "code",
   "execution_count": 4,
   "id": "2bf20f37-869d-4ada-b082-7c4af8a7be16",
   "metadata": {},
   "outputs": [],
   "source": [
    "from matplotlib.colors import LogNorm\n",
    "\n",
    "from mpl_toolkits.axes_grid1 import make_axes_locatable\n",
    "\n",
    "import matplotlib.ticker                         # here's where the formatter is\n",
    "from matplotlib.ticker import (MultipleLocator, FormatStrFormatter,\n",
    "                               AutoMinorLocator)\n",
    "\n",
    "from astropy.visualization import (MinMaxInterval, SqrtStretch,ZScaleInterval,PercentileInterval,\n",
    "                                   ImageNormalize,imshow_norm)\n",
    "from astropy.visualization.stretch import SinhStretch, LinearStretch,AsinhStretch,LogStretch\n"
   ]
  },
  {
   "cell_type": "code",
   "execution_count": 5,
   "id": "d7c8c61f-5cfa-4c25-9a5a-97c2eb50fa29",
   "metadata": {},
   "outputs": [],
   "source": [
    "import lsst.afw.display as afwDisplay\n",
    "afwDisplay.setDefaultBackend('matplotlib')"
   ]
  },
  {
   "cell_type": "code",
   "execution_count": 6,
   "id": "7a36f8cd",
   "metadata": {},
   "outputs": [],
   "source": [
    "import lsst.daf.butler as dafButler"
   ]
  },
  {
   "cell_type": "code",
   "execution_count": 7,
   "id": "7c5944d1-0cbb-42bc-9ea9-a7ff39e25a01",
   "metadata": {},
   "outputs": [],
   "source": [
    "repo = '/sps/lsst/groups/auxtel/softs/shared/auxteldm_gen3/data/butler.yaml'\n",
    "butler = dafButler.Butler(repo)\n",
    "registry = butler.registry"
   ]
  },
  {
   "cell_type": "code",
   "execution_count": 8,
   "id": "a2353429-bd64-4acd-acc9-82f979ec9d38",
   "metadata": {},
   "outputs": [
    {
     "name": "stderr",
     "output_type": "stream",
     "text": [
      "/sps/lsst/groups/auxtel/softs/shared/auxteldm_gen3/repos/w_2022_09/rapid_analysis/python/lsst/rapid/analysis/visitCheck.py:132: FutureWarning: Call to deprecated function (or staticmethod) timeMethod. (timeMethod has been replaced by lsst.utils.timer.timeMethod. Will be removed after v25.) -- Deprecated since version v24.\n",
      "  def runDataRef(self, dataRef):\n"
     ]
    }
   ],
   "source": [
    "from lsst.rapid.analysis.nightReport import NightReporter\n",
    "dayObs = 20210707\n",
    "#reporter = NightReporter('/sps/lsst/groups/auxtel/softs/shared/auxteldm_gen3/data', dayObs)"
   ]
  },
  {
   "cell_type": "code",
   "execution_count": 9,
   "id": "22723bf6-9918-4a20-946a-03cc2fd0716a",
   "metadata": {},
   "outputs": [],
   "source": [
    "#NightReporter?"
   ]
  },
  {
   "cell_type": "code",
   "execution_count": 10,
   "id": "c5891f24-0686-4c38-944f-b8f5fb5dd5a5",
   "metadata": {},
   "outputs": [],
   "source": [
    "#transform = AsinhStretch() + PercentileInterval(99.)\n",
    "transform = PercentileInterval(98.)"
   ]
  },
  {
   "cell_type": "code",
   "execution_count": 11,
   "id": "cbe42808-abbc-4f48-89d2-71c61e7b60f4",
   "metadata": {},
   "outputs": [],
   "source": [
    "collection = \"u/dagoret/first_test\"\n",
    "datasetRefs = registry.queryDatasets(datasetType='spectraction', collections=collection, \n",
    "                                     where= \"instrument='LATISS'\")"
   ]
  },
  {
   "cell_type": "code",
   "execution_count": 12,
   "id": "92b7f8d7-779a-474c-a4a9-c5c345862ba2",
   "metadata": {},
   "outputs": [
    {
     "name": "stdout",
     "output_type": "stream",
     "text": [
      "======================================================= datasetType = spectraction =================================================================\n",
      "fullId:  {band: 'white', instrument: 'LATISS', detector: 0, physical_filter: 'empty~holo4_003', visit_system: 0, visit: 2021070700318}\n",
      "..................................................................................\n",
      "band:    white\n",
      "type:    DatasetType('spectraction', {band, instrument, detector, physical_filter, visit_system, visit}, Spectraction)\n",
      "++++++++++++++++++++++++++++++++++++++++++++++++++++++++++++++++++++++++++++++++++\n",
      "id=UUID('b57b8b02-11c7-4d67-a762-8611453bb2cd') datasetType=SerializedDatasetType(name='spectraction', storageClass='Spectraction', dimensions=SerializedDimensionGraph(names=['band', 'instrument', 'detector', 'physical_filter', 'visit_system', 'visit']), parentStorageClass=None, isCalibration=False) dataId=SerializedDataCoordinate(dataId={'band': 'white', 'instrument': 'LATISS', 'detector': 0, 'physical_filter': 'empty~holo4_003', 'visit_system': 0, 'visit': 2021070700318}, records=None) run='u/dagoret/first_test/20220314T093738Z' component=None\n",
      ".  .  .  .  .  .  .  .  .  .  .  .  .  .  .  .  .  .  .  .  .  .  .  .  .  .  .  .\n",
      "{\"id\": \"b57b8b02-11c7-4d67-a762-8611453bb2cd\", \"datasetType\": {\"name\": \"spectraction\", \"storageClass\": \"Spectraction\", \"dimensions\": {\"names\": [\"band\", \"instrument\", \"detector\", \"physical_filter\", \"visit_system\", \"visit\"]}}, \"dataId\": {\"dataId\": {\"band\": \"white\", \"instrument\": \"LATISS\", \"detector\": 0, \"physical_filter\": \"empty~holo4_003\", \"visit_system\": 0, \"visit\": 2021070700318}}, \"run\": \"u/dagoret/first_test/20220314T093738Z\"}\n",
      "++++++++++++++++++++++++++++++++++++++++++++++++++++++++++++++++++++++++++++++++++\n",
      "run =  u/dagoret/first_test/20220314T093738Z\n",
      "isCalibration:  False\n",
      "isComponent:     False\n",
      "isComposite:    False\n",
      "======================================================= datasetType = spectraction =================================================================\n",
      "fullId:  {band: 'white', instrument: 'LATISS', detector: 0, physical_filter: 'empty~holo4_003', visit_system: 0, visit: 2021070700319}\n",
      "..................................................................................\n",
      "band:    white\n",
      "type:    DatasetType('spectraction', {band, instrument, detector, physical_filter, visit_system, visit}, Spectraction)\n",
      "++++++++++++++++++++++++++++++++++++++++++++++++++++++++++++++++++++++++++++++++++\n",
      "id=UUID('0fe1f87c-c47f-45ea-8806-73bf187e3793') datasetType=SerializedDatasetType(name='spectraction', storageClass='Spectraction', dimensions=SerializedDimensionGraph(names=['band', 'instrument', 'detector', 'physical_filter', 'visit_system', 'visit']), parentStorageClass=None, isCalibration=False) dataId=SerializedDataCoordinate(dataId={'band': 'white', 'instrument': 'LATISS', 'detector': 0, 'physical_filter': 'empty~holo4_003', 'visit_system': 0, 'visit': 2021070700319}, records=None) run='u/dagoret/first_test/20220314T104131Z' component=None\n",
      ".  .  .  .  .  .  .  .  .  .  .  .  .  .  .  .  .  .  .  .  .  .  .  .  .  .  .  .\n",
      "{\"id\": \"0fe1f87c-c47f-45ea-8806-73bf187e3793\", \"datasetType\": {\"name\": \"spectraction\", \"storageClass\": \"Spectraction\", \"dimensions\": {\"names\": [\"band\", \"instrument\", \"detector\", \"physical_filter\", \"visit_system\", \"visit\"]}}, \"dataId\": {\"dataId\": {\"band\": \"white\", \"instrument\": \"LATISS\", \"detector\": 0, \"physical_filter\": \"empty~holo4_003\", \"visit_system\": 0, \"visit\": 2021070700319}}, \"run\": \"u/dagoret/first_test/20220314T104131Z\"}\n",
      "++++++++++++++++++++++++++++++++++++++++++++++++++++++++++++++++++++++++++++++++++\n",
      "run =  u/dagoret/first_test/20220314T104131Z\n",
      "isCalibration:  False\n",
      "isComponent:     False\n",
      "isComposite:    False\n",
      "======================================================= datasetType = spectraction =================================================================\n",
      "fullId:  {band: 'white', instrument: 'LATISS', detector: 0, physical_filter: 'empty~holo4_003', visit_system: 0, visit: 2021070700320}\n",
      "..................................................................................\n",
      "band:    white\n",
      "type:    DatasetType('spectraction', {band, instrument, detector, physical_filter, visit_system, visit}, Spectraction)\n",
      "++++++++++++++++++++++++++++++++++++++++++++++++++++++++++++++++++++++++++++++++++\n",
      "id=UUID('133f3b94-2c90-4820-8c4b-a419005f8710') datasetType=SerializedDatasetType(name='spectraction', storageClass='Spectraction', dimensions=SerializedDimensionGraph(names=['band', 'instrument', 'detector', 'physical_filter', 'visit_system', 'visit']), parentStorageClass=None, isCalibration=False) dataId=SerializedDataCoordinate(dataId={'band': 'white', 'instrument': 'LATISS', 'detector': 0, 'physical_filter': 'empty~holo4_003', 'visit_system': 0, 'visit': 2021070700320}, records=None) run='u/dagoret/first_test/20220314T110503Z' component=None\n",
      ".  .  .  .  .  .  .  .  .  .  .  .  .  .  .  .  .  .  .  .  .  .  .  .  .  .  .  .\n",
      "{\"id\": \"133f3b94-2c90-4820-8c4b-a419005f8710\", \"datasetType\": {\"name\": \"spectraction\", \"storageClass\": \"Spectraction\", \"dimensions\": {\"names\": [\"band\", \"instrument\", \"detector\", \"physical_filter\", \"visit_system\", \"visit\"]}}, \"dataId\": {\"dataId\": {\"band\": \"white\", \"instrument\": \"LATISS\", \"detector\": 0, \"physical_filter\": \"empty~holo4_003\", \"visit_system\": 0, \"visit\": 2021070700320}}, \"run\": \"u/dagoret/first_test/20220314T110503Z\"}\n",
      "++++++++++++++++++++++++++++++++++++++++++++++++++++++++++++++++++++++++++++++++++\n",
      "run =  u/dagoret/first_test/20220314T110503Z\n",
      "isCalibration:  False\n",
      "isComponent:     False\n",
      "isComposite:    False\n",
      "======================================================= datasetType = spectraction =================================================================\n",
      "fullId:  {band: 'white', instrument: 'LATISS', detector: 0, physical_filter: 'empty~holo4_003', visit_system: 0, visit: 2021070700320}\n",
      "..................................................................................\n",
      "band:    white\n",
      "type:    DatasetType('spectraction', {band, instrument, detector, physical_filter, visit_system, visit}, Spectraction)\n",
      "++++++++++++++++++++++++++++++++++++++++++++++++++++++++++++++++++++++++++++++++++\n",
      "id=UUID('be6cb4fb-6810-4597-8aff-8641aa57242d') datasetType=SerializedDatasetType(name='spectraction', storageClass='Spectraction', dimensions=SerializedDimensionGraph(names=['band', 'instrument', 'detector', 'physical_filter', 'visit_system', 'visit']), parentStorageClass=None, isCalibration=False) dataId=SerializedDataCoordinate(dataId={'band': 'white', 'instrument': 'LATISS', 'detector': 0, 'physical_filter': 'empty~holo4_003', 'visit_system': 0, 'visit': 2021070700320}, records=None) run='u/dagoret/first_test/20220314T111659Z' component=None\n",
      ".  .  .  .  .  .  .  .  .  .  .  .  .  .  .  .  .  .  .  .  .  .  .  .  .  .  .  .\n",
      "{\"id\": \"be6cb4fb-6810-4597-8aff-8641aa57242d\", \"datasetType\": {\"name\": \"spectraction\", \"storageClass\": \"Spectraction\", \"dimensions\": {\"names\": [\"band\", \"instrument\", \"detector\", \"physical_filter\", \"visit_system\", \"visit\"]}}, \"dataId\": {\"dataId\": {\"band\": \"white\", \"instrument\": \"LATISS\", \"detector\": 0, \"physical_filter\": \"empty~holo4_003\", \"visit_system\": 0, \"visit\": 2021070700320}}, \"run\": \"u/dagoret/first_test/20220314T111659Z\"}\n",
      "++++++++++++++++++++++++++++++++++++++++++++++++++++++++++++++++++++++++++++++++++\n",
      "run =  u/dagoret/first_test/20220314T111659Z\n",
      "isCalibration:  False\n",
      "isComponent:     False\n",
      "isComposite:    False\n",
      "======================================================= datasetType = spectraction =================================================================\n",
      "fullId:  {band: 'white', instrument: 'LATISS', detector: 0, physical_filter: 'empty~holo4_003', visit_system: 0, visit: 2021070700322}\n",
      "..................................................................................\n",
      "band:    white\n",
      "type:    DatasetType('spectraction', {band, instrument, detector, physical_filter, visit_system, visit}, Spectraction)\n",
      "++++++++++++++++++++++++++++++++++++++++++++++++++++++++++++++++++++++++++++++++++\n",
      "id=UUID('aa50fda1-c14e-4dac-9d39-b7b5c02177e3') datasetType=SerializedDatasetType(name='spectraction', storageClass='Spectraction', dimensions=SerializedDimensionGraph(names=['band', 'instrument', 'detector', 'physical_filter', 'visit_system', 'visit']), parentStorageClass=None, isCalibration=False) dataId=SerializedDataCoordinate(dataId={'band': 'white', 'instrument': 'LATISS', 'detector': 0, 'physical_filter': 'empty~holo4_003', 'visit_system': 0, 'visit': 2021070700322}, records=None) run='u/dagoret/first_test/20220314T125917Z' component=None\n",
      ".  .  .  .  .  .  .  .  .  .  .  .  .  .  .  .  .  .  .  .  .  .  .  .  .  .  .  .\n",
      "{\"id\": \"aa50fda1-c14e-4dac-9d39-b7b5c02177e3\", \"datasetType\": {\"name\": \"spectraction\", \"storageClass\": \"Spectraction\", \"dimensions\": {\"names\": [\"band\", \"instrument\", \"detector\", \"physical_filter\", \"visit_system\", \"visit\"]}}, \"dataId\": {\"dataId\": {\"band\": \"white\", \"instrument\": \"LATISS\", \"detector\": 0, \"physical_filter\": \"empty~holo4_003\", \"visit_system\": 0, \"visit\": 2021070700322}}, \"run\": \"u/dagoret/first_test/20220314T125917Z\"}\n",
      "++++++++++++++++++++++++++++++++++++++++++++++++++++++++++++++++++++++++++++++++++\n",
      "run =  u/dagoret/first_test/20220314T125917Z\n",
      "isCalibration:  False\n",
      "isComponent:     False\n",
      "isComposite:    False\n",
      "======================================================= datasetType = spectraction =================================================================\n",
      "fullId:  {band: 'white', instrument: 'LATISS', detector: 0, physical_filter: 'empty~holo4_003', visit_system: 0, visit: 2021070700323}\n",
      "..................................................................................\n",
      "band:    white\n",
      "type:    DatasetType('spectraction', {band, instrument, detector, physical_filter, visit_system, visit}, Spectraction)\n",
      "++++++++++++++++++++++++++++++++++++++++++++++++++++++++++++++++++++++++++++++++++\n",
      "id=UUID('7caa47e2-ef20-4442-883b-9a51f416b4c6') datasetType=SerializedDatasetType(name='spectraction', storageClass='Spectraction', dimensions=SerializedDimensionGraph(names=['band', 'instrument', 'detector', 'physical_filter', 'visit_system', 'visit']), parentStorageClass=None, isCalibration=False) dataId=SerializedDataCoordinate(dataId={'band': 'white', 'instrument': 'LATISS', 'detector': 0, 'physical_filter': 'empty~holo4_003', 'visit_system': 0, 'visit': 2021070700323}, records=None) run='u/dagoret/first_test/20220314T145412Z' component=None\n",
      ".  .  .  .  .  .  .  .  .  .  .  .  .  .  .  .  .  .  .  .  .  .  .  .  .  .  .  .\n",
      "{\"id\": \"7caa47e2-ef20-4442-883b-9a51f416b4c6\", \"datasetType\": {\"name\": \"spectraction\", \"storageClass\": \"Spectraction\", \"dimensions\": {\"names\": [\"band\", \"instrument\", \"detector\", \"physical_filter\", \"visit_system\", \"visit\"]}}, \"dataId\": {\"dataId\": {\"band\": \"white\", \"instrument\": \"LATISS\", \"detector\": 0, \"physical_filter\": \"empty~holo4_003\", \"visit_system\": 0, \"visit\": 2021070700323}}, \"run\": \"u/dagoret/first_test/20220314T145412Z\"}\n",
      "++++++++++++++++++++++++++++++++++++++++++++++++++++++++++++++++++++++++++++++++++\n",
      "run =  u/dagoret/first_test/20220314T145412Z\n",
      "isCalibration:  False\n",
      "isComponent:     False\n",
      "isComposite:    False\n",
      "======================================================= datasetType = spectraction =================================================================\n",
      "fullId:  {band: 'white', instrument: 'LATISS', detector: 0, physical_filter: 'empty~holo4_003', visit_system: 0, visit: 2021070700322}\n",
      "..................................................................................\n",
      "band:    white\n",
      "type:    DatasetType('spectraction', {band, instrument, detector, physical_filter, visit_system, visit}, Spectraction)\n",
      "++++++++++++++++++++++++++++++++++++++++++++++++++++++++++++++++++++++++++++++++++\n",
      "id=UUID('31a5f6eb-1211-4cd4-9dc5-ba91edcde176') datasetType=SerializedDatasetType(name='spectraction', storageClass='Spectraction', dimensions=SerializedDimensionGraph(names=['band', 'instrument', 'detector', 'physical_filter', 'visit_system', 'visit']), parentStorageClass=None, isCalibration=False) dataId=SerializedDataCoordinate(dataId={'band': 'white', 'instrument': 'LATISS', 'detector': 0, 'physical_filter': 'empty~holo4_003', 'visit_system': 0, 'visit': 2021070700322}, records=None) run='u/dagoret/first_test/20220314T162452Z' component=None\n",
      ".  .  .  .  .  .  .  .  .  .  .  .  .  .  .  .  .  .  .  .  .  .  .  .  .  .  .  .\n",
      "{\"id\": \"31a5f6eb-1211-4cd4-9dc5-ba91edcde176\", \"datasetType\": {\"name\": \"spectraction\", \"storageClass\": \"Spectraction\", \"dimensions\": {\"names\": [\"band\", \"instrument\", \"detector\", \"physical_filter\", \"visit_system\", \"visit\"]}}, \"dataId\": {\"dataId\": {\"band\": \"white\", \"instrument\": \"LATISS\", \"detector\": 0, \"physical_filter\": \"empty~holo4_003\", \"visit_system\": 0, \"visit\": 2021070700322}}, \"run\": \"u/dagoret/first_test/20220314T162452Z\"}\n",
      "++++++++++++++++++++++++++++++++++++++++++++++++++++++++++++++++++++++++++++++++++\n",
      "run =  u/dagoret/first_test/20220314T162452Z\n",
      "isCalibration:  False\n",
      "isComponent:     False\n",
      "isComposite:    False\n",
      "======================================================= datasetType = spectraction =================================================================\n",
      "fullId:  {band: 'white', instrument: 'LATISS', detector: 0, physical_filter: 'empty~holo4_003', visit_system: 0, visit: 2021070700323}\n",
      "..................................................................................\n",
      "band:    white\n",
      "type:    DatasetType('spectraction', {band, instrument, detector, physical_filter, visit_system, visit}, Spectraction)\n",
      "++++++++++++++++++++++++++++++++++++++++++++++++++++++++++++++++++++++++++++++++++\n",
      "id=UUID('821a16b9-0a2c-41ec-bd50-d0995ba11891') datasetType=SerializedDatasetType(name='spectraction', storageClass='Spectraction', dimensions=SerializedDimensionGraph(names=['band', 'instrument', 'detector', 'physical_filter', 'visit_system', 'visit']), parentStorageClass=None, isCalibration=False) dataId=SerializedDataCoordinate(dataId={'band': 'white', 'instrument': 'LATISS', 'detector': 0, 'physical_filter': 'empty~holo4_003', 'visit_system': 0, 'visit': 2021070700323}, records=None) run='u/dagoret/first_test/20220314T165049Z' component=None\n",
      ".  .  .  .  .  .  .  .  .  .  .  .  .  .  .  .  .  .  .  .  .  .  .  .  .  .  .  .\n",
      "{\"id\": \"821a16b9-0a2c-41ec-bd50-d0995ba11891\", \"datasetType\": {\"name\": \"spectraction\", \"storageClass\": \"Spectraction\", \"dimensions\": {\"names\": [\"band\", \"instrument\", \"detector\", \"physical_filter\", \"visit_system\", \"visit\"]}}, \"dataId\": {\"dataId\": {\"band\": \"white\", \"instrument\": \"LATISS\", \"detector\": 0, \"physical_filter\": \"empty~holo4_003\", \"visit_system\": 0, \"visit\": 2021070700323}}, \"run\": \"u/dagoret/first_test/20220314T165049Z\"}\n",
      "++++++++++++++++++++++++++++++++++++++++++++++++++++++++++++++++++++++++++++++++++\n",
      "run =  u/dagoret/first_test/20220314T165049Z\n",
      "isCalibration:  False\n",
      "isComponent:     False\n",
      "isComposite:    False\n",
      "======================================================= datasetType = spectraction =================================================================\n",
      "fullId:  {band: 'white', instrument: 'LATISS', detector: 0, physical_filter: 'empty~holo4_003', visit_system: 0, visit: 2021070700324}\n",
      "..................................................................................\n",
      "band:    white\n",
      "type:    DatasetType('spectraction', {band, instrument, detector, physical_filter, visit_system, visit}, Spectraction)\n",
      "++++++++++++++++++++++++++++++++++++++++++++++++++++++++++++++++++++++++++++++++++\n",
      "id=UUID('fa65f88c-0c43-48e1-a753-26a07d83c61f') datasetType=SerializedDatasetType(name='spectraction', storageClass='Spectraction', dimensions=SerializedDimensionGraph(names=['band', 'instrument', 'detector', 'physical_filter', 'visit_system', 'visit']), parentStorageClass=None, isCalibration=False) dataId=SerializedDataCoordinate(dataId={'band': 'white', 'instrument': 'LATISS', 'detector': 0, 'physical_filter': 'empty~holo4_003', 'visit_system': 0, 'visit': 2021070700324}, records=None) run='u/dagoret/first_test/20220314T171720Z' component=None\n",
      ".  .  .  .  .  .  .  .  .  .  .  .  .  .  .  .  .  .  .  .  .  .  .  .  .  .  .  .\n",
      "{\"id\": \"fa65f88c-0c43-48e1-a753-26a07d83c61f\", \"datasetType\": {\"name\": \"spectraction\", \"storageClass\": \"Spectraction\", \"dimensions\": {\"names\": [\"band\", \"instrument\", \"detector\", \"physical_filter\", \"visit_system\", \"visit\"]}}, \"dataId\": {\"dataId\": {\"band\": \"white\", \"instrument\": \"LATISS\", \"detector\": 0, \"physical_filter\": \"empty~holo4_003\", \"visit_system\": 0, \"visit\": 2021070700324}}, \"run\": \"u/dagoret/first_test/20220314T171720Z\"}\n",
      "++++++++++++++++++++++++++++++++++++++++++++++++++++++++++++++++++++++++++++++++++\n",
      "run =  u/dagoret/first_test/20220314T171720Z\n",
      "isCalibration:  False\n",
      "isComponent:     False\n",
      "isComposite:    False\n",
      "======================================================= datasetType = spectraction =================================================================\n",
      "fullId:  {band: 'white', instrument: 'LATISS', detector: 0, physical_filter: 'empty~holo4_003', visit_system: 0, visit: 2021070700325}\n",
      "..................................................................................\n",
      "band:    white\n",
      "type:    DatasetType('spectraction', {band, instrument, detector, physical_filter, visit_system, visit}, Spectraction)\n",
      "++++++++++++++++++++++++++++++++++++++++++++++++++++++++++++++++++++++++++++++++++\n",
      "id=UUID('8b702a1d-e526-4424-81e8-d5afc8f67dc4') datasetType=SerializedDatasetType(name='spectraction', storageClass='Spectraction', dimensions=SerializedDimensionGraph(names=['band', 'instrument', 'detector', 'physical_filter', 'visit_system', 'visit']), parentStorageClass=None, isCalibration=False) dataId=SerializedDataCoordinate(dataId={'band': 'white', 'instrument': 'LATISS', 'detector': 0, 'physical_filter': 'empty~holo4_003', 'visit_system': 0, 'visit': 2021070700325}, records=None) run='u/dagoret/first_test/20220314T174422Z' component=None\n",
      ".  .  .  .  .  .  .  .  .  .  .  .  .  .  .  .  .  .  .  .  .  .  .  .  .  .  .  .\n",
      "{\"id\": \"8b702a1d-e526-4424-81e8-d5afc8f67dc4\", \"datasetType\": {\"name\": \"spectraction\", \"storageClass\": \"Spectraction\", \"dimensions\": {\"names\": [\"band\", \"instrument\", \"detector\", \"physical_filter\", \"visit_system\", \"visit\"]}}, \"dataId\": {\"dataId\": {\"band\": \"white\", \"instrument\": \"LATISS\", \"detector\": 0, \"physical_filter\": \"empty~holo4_003\", \"visit_system\": 0, \"visit\": 2021070700325}}, \"run\": \"u/dagoret/first_test/20220314T174422Z\"}\n",
      "++++++++++++++++++++++++++++++++++++++++++++++++++++++++++++++++++++++++++++++++++\n",
      "run =  u/dagoret/first_test/20220314T174422Z\n",
      "isCalibration:  False\n",
      "isComponent:     False\n",
      "isComposite:    False\n",
      "======================================================= datasetType = spectraction =================================================================\n",
      "fullId:  {band: 'white', instrument: 'LATISS', detector: 0, physical_filter: 'empty~holo4_003', visit_system: 0, visit: 2021070700326}\n",
      "..................................................................................\n",
      "band:    white\n",
      "type:    DatasetType('spectraction', {band, instrument, detector, physical_filter, visit_system, visit}, Spectraction)\n",
      "++++++++++++++++++++++++++++++++++++++++++++++++++++++++++++++++++++++++++++++++++\n",
      "id=UUID('49361822-4f9e-46a8-885f-504204ed983c') datasetType=SerializedDatasetType(name='spectraction', storageClass='Spectraction', dimensions=SerializedDimensionGraph(names=['band', 'instrument', 'detector', 'physical_filter', 'visit_system', 'visit']), parentStorageClass=None, isCalibration=False) dataId=SerializedDataCoordinate(dataId={'band': 'white', 'instrument': 'LATISS', 'detector': 0, 'physical_filter': 'empty~holo4_003', 'visit_system': 0, 'visit': 2021070700326}, records=None) run='u/dagoret/first_test/20220314T180848Z' component=None\n",
      ".  .  .  .  .  .  .  .  .  .  .  .  .  .  .  .  .  .  .  .  .  .  .  .  .  .  .  .\n",
      "{\"id\": \"49361822-4f9e-46a8-885f-504204ed983c\", \"datasetType\": {\"name\": \"spectraction\", \"storageClass\": \"Spectraction\", \"dimensions\": {\"names\": [\"band\", \"instrument\", \"detector\", \"physical_filter\", \"visit_system\", \"visit\"]}}, \"dataId\": {\"dataId\": {\"band\": \"white\", \"instrument\": \"LATISS\", \"detector\": 0, \"physical_filter\": \"empty~holo4_003\", \"visit_system\": 0, \"visit\": 2021070700326}}, \"run\": \"u/dagoret/first_test/20220314T180848Z\"}\n",
      "++++++++++++++++++++++++++++++++++++++++++++++++++++++++++++++++++++++++++++++++++\n",
      "run =  u/dagoret/first_test/20220314T180848Z\n",
      "isCalibration:  False\n",
      "isComponent:     False\n",
      "isComposite:    False\n",
      "======================================================= datasetType = spectraction =================================================================\n",
      "fullId:  {band: 'white', instrument: 'LATISS', detector: 0, physical_filter: 'empty~holo4_003', visit_system: 0, visit: 2021070700328}\n",
      "..................................................................................\n",
      "band:    white\n",
      "type:    DatasetType('spectraction', {band, instrument, detector, physical_filter, visit_system, visit}, Spectraction)\n",
      "++++++++++++++++++++++++++++++++++++++++++++++++++++++++++++++++++++++++++++++++++\n",
      "id=UUID('d9b56103-d9a5-4119-b9b3-5997b9c0094e') datasetType=SerializedDatasetType(name='spectraction', storageClass='Spectraction', dimensions=SerializedDimensionGraph(names=['band', 'instrument', 'detector', 'physical_filter', 'visit_system', 'visit']), parentStorageClass=None, isCalibration=False) dataId=SerializedDataCoordinate(dataId={'band': 'white', 'instrument': 'LATISS', 'detector': 0, 'physical_filter': 'empty~holo4_003', 'visit_system': 0, 'visit': 2021070700328}, records=None) run='u/dagoret/first_test/20220314T185733Z' component=None\n",
      ".  .  .  .  .  .  .  .  .  .  .  .  .  .  .  .  .  .  .  .  .  .  .  .  .  .  .  .\n",
      "{\"id\": \"d9b56103-d9a5-4119-b9b3-5997b9c0094e\", \"datasetType\": {\"name\": \"spectraction\", \"storageClass\": \"Spectraction\", \"dimensions\": {\"names\": [\"band\", \"instrument\", \"detector\", \"physical_filter\", \"visit_system\", \"visit\"]}}, \"dataId\": {\"dataId\": {\"band\": \"white\", \"instrument\": \"LATISS\", \"detector\": 0, \"physical_filter\": \"empty~holo4_003\", \"visit_system\": 0, \"visit\": 2021070700328}}, \"run\": \"u/dagoret/first_test/20220314T185733Z\"}\n",
      "++++++++++++++++++++++++++++++++++++++++++++++++++++++++++++++++++++++++++++++++++\n",
      "run =  u/dagoret/first_test/20220314T185733Z\n",
      "isCalibration:  False\n",
      "isComponent:     False\n",
      "isComposite:    False\n",
      "======================================================= datasetType = spectraction =================================================================\n",
      "fullId:  {band: 'white', instrument: 'LATISS', detector: 0, physical_filter: 'empty~holo4_003', visit_system: 0, visit: 2021070700329}\n",
      "..................................................................................\n",
      "band:    white\n",
      "type:    DatasetType('spectraction', {band, instrument, detector, physical_filter, visit_system, visit}, Spectraction)\n",
      "++++++++++++++++++++++++++++++++++++++++++++++++++++++++++++++++++++++++++++++++++\n",
      "id=UUID('4c2aef4e-c39b-4aa5-b6b0-3a37a2226fd6') datasetType=SerializedDatasetType(name='spectraction', storageClass='Spectraction', dimensions=SerializedDimensionGraph(names=['band', 'instrument', 'detector', 'physical_filter', 'visit_system', 'visit']), parentStorageClass=None, isCalibration=False) dataId=SerializedDataCoordinate(dataId={'band': 'white', 'instrument': 'LATISS', 'detector': 0, 'physical_filter': 'empty~holo4_003', 'visit_system': 0, 'visit': 2021070700329}, records=None) run='u/dagoret/first_test/20220314T192150Z' component=None\n",
      ".  .  .  .  .  .  .  .  .  .  .  .  .  .  .  .  .  .  .  .  .  .  .  .  .  .  .  .\n",
      "{\"id\": \"4c2aef4e-c39b-4aa5-b6b0-3a37a2226fd6\", \"datasetType\": {\"name\": \"spectraction\", \"storageClass\": \"Spectraction\", \"dimensions\": {\"names\": [\"band\", \"instrument\", \"detector\", \"physical_filter\", \"visit_system\", \"visit\"]}}, \"dataId\": {\"dataId\": {\"band\": \"white\", \"instrument\": \"LATISS\", \"detector\": 0, \"physical_filter\": \"empty~holo4_003\", \"visit_system\": 0, \"visit\": 2021070700329}}, \"run\": \"u/dagoret/first_test/20220314T192150Z\"}\n",
      "++++++++++++++++++++++++++++++++++++++++++++++++++++++++++++++++++++++++++++++++++\n",
      "run =  u/dagoret/first_test/20220314T192150Z\n",
      "isCalibration:  False\n",
      "isComponent:     False\n",
      "isComposite:    False\n",
      "======================================================= datasetType = spectraction =================================================================\n",
      "fullId:  {band: 'white', instrument: 'LATISS', detector: 0, physical_filter: 'empty~holo4_003', visit_system: 0, visit: 2021070700330}\n",
      "..................................................................................\n",
      "band:    white\n",
      "type:    DatasetType('spectraction', {band, instrument, detector, physical_filter, visit_system, visit}, Spectraction)\n",
      "++++++++++++++++++++++++++++++++++++++++++++++++++++++++++++++++++++++++++++++++++\n",
      "id=UUID('9fa3c7d6-480b-46dd-b4fe-c03f68738929') datasetType=SerializedDatasetType(name='spectraction', storageClass='Spectraction', dimensions=SerializedDimensionGraph(names=['band', 'instrument', 'detector', 'physical_filter', 'visit_system', 'visit']), parentStorageClass=None, isCalibration=False) dataId=SerializedDataCoordinate(dataId={'band': 'white', 'instrument': 'LATISS', 'detector': 0, 'physical_filter': 'empty~holo4_003', 'visit_system': 0, 'visit': 2021070700330}, records=None) run='u/dagoret/first_test/20220314T194303Z' component=None\n",
      ".  .  .  .  .  .  .  .  .  .  .  .  .  .  .  .  .  .  .  .  .  .  .  .  .  .  .  .\n",
      "{\"id\": \"9fa3c7d6-480b-46dd-b4fe-c03f68738929\", \"datasetType\": {\"name\": \"spectraction\", \"storageClass\": \"Spectraction\", \"dimensions\": {\"names\": [\"band\", \"instrument\", \"detector\", \"physical_filter\", \"visit_system\", \"visit\"]}}, \"dataId\": {\"dataId\": {\"band\": \"white\", \"instrument\": \"LATISS\", \"detector\": 0, \"physical_filter\": \"empty~holo4_003\", \"visit_system\": 0, \"visit\": 2021070700330}}, \"run\": \"u/dagoret/first_test/20220314T194303Z\"}\n",
      "++++++++++++++++++++++++++++++++++++++++++++++++++++++++++++++++++++++++++++++++++\n",
      "run =  u/dagoret/first_test/20220314T194303Z\n",
      "isCalibration:  False\n",
      "isComponent:     False\n",
      "isComposite:    False\n",
      "======================================================= datasetType = spectraction =================================================================\n",
      "fullId:  {band: 'white', instrument: 'LATISS', detector: 0, physical_filter: 'empty~holo4_003', visit_system: 0, visit: 2021070700361}\n",
      "..................................................................................\n",
      "band:    white\n",
      "type:    DatasetType('spectraction', {band, instrument, detector, physical_filter, visit_system, visit}, Spectraction)\n",
      "++++++++++++++++++++++++++++++++++++++++++++++++++++++++++++++++++++++++++++++++++\n",
      "id=UUID('62f84b0f-0738-4462-acf2-78f5e5f0d06e') datasetType=SerializedDatasetType(name='spectraction', storageClass='Spectraction', dimensions=SerializedDimensionGraph(names=['band', 'instrument', 'detector', 'physical_filter', 'visit_system', 'visit']), parentStorageClass=None, isCalibration=False) dataId=SerializedDataCoordinate(dataId={'band': 'white', 'instrument': 'LATISS', 'detector': 0, 'physical_filter': 'empty~holo4_003', 'visit_system': 0, 'visit': 2021070700361}, records=None) run='u/dagoret/first_test/20220315T065016Z' component=None\n",
      ".  .  .  .  .  .  .  .  .  .  .  .  .  .  .  .  .  .  .  .  .  .  .  .  .  .  .  .\n",
      "{\"id\": \"62f84b0f-0738-4462-acf2-78f5e5f0d06e\", \"datasetType\": {\"name\": \"spectraction\", \"storageClass\": \"Spectraction\", \"dimensions\": {\"names\": [\"band\", \"instrument\", \"detector\", \"physical_filter\", \"visit_system\", \"visit\"]}}, \"dataId\": {\"dataId\": {\"band\": \"white\", \"instrument\": \"LATISS\", \"detector\": 0, \"physical_filter\": \"empty~holo4_003\", \"visit_system\": 0, \"visit\": 2021070700361}}, \"run\": \"u/dagoret/first_test/20220315T065016Z\"}\n",
      "++++++++++++++++++++++++++++++++++++++++++++++++++++++++++++++++++++++++++++++++++\n",
      "run =  u/dagoret/first_test/20220315T065016Z\n",
      "isCalibration:  False\n",
      "isComponent:     False\n",
      "isComposite:    False\n"
     ]
    }
   ],
   "source": [
    "all_ref_for_spectraction = []\n",
    "\n",
    "for i, ref in enumerate(datasetRefs):\n",
    "    all_ref_for_spectraction.append(ref.dataId)\n",
    "    print(\"======================================================= datasetType = spectraction =================================================================\")\n",
    "   \n",
    "    print(\"fullId: \",ref.dataId.full)\n",
    "    print(\"..................................................................................\")\n",
    "    print(\"band:   \",ref.dataId[\"band\"])\n",
    "    print(\"type:   \",ref.datasetType)\n",
    "    \n",
    "    print(\"++++++++++++++++++++++++++++++++++++++++++++++++++++++++++++++++++++++++++++++++++\")\n",
    "    print(ref.to_simple())\n",
    "    print(\".  .  .  .  .  .  .  .  .  .  .  .  .  .  .  .  .  .  .  .  .  .  .  .  .  .  .  .\")\n",
    "    print(ref.to_json())\n",
    "    print(\"++++++++++++++++++++++++++++++++++++++++++++++++++++++++++++++++++++++++++++++++++\")\n",
    "    \n",
    "    print(\"run = \",ref.run)\n",
    "    print(\"isCalibration: \",ref.datasetType.isCalibration())\n",
    "    \n",
    "    print(\"isComponent:    \",ref.isComponent())\n",
    "    \n",
    "    print(\"isComposite:   \",ref.isComposite()) \n",
    "    \n"
   ]
  },
  {
   "cell_type": "markdown",
   "id": "61497f46-7088-41b8-8d56-546ce9c3e306",
   "metadata": {},
   "source": [
    "# Found Spectraction "
   ]
  },
  {
   "cell_type": "code",
   "execution_count": 13,
   "id": "6e43301c-cce3-47ef-9f6a-b0f0e1b65dd6",
   "metadata": {},
   "outputs": [
    {
     "data": {
      "text/plain": [
       "[{instrument: 'LATISS', detector: 0, visit: 2021070700318, ...},\n",
       " {instrument: 'LATISS', detector: 0, visit: 2021070700319, ...},\n",
       " {instrument: 'LATISS', detector: 0, visit: 2021070700320, ...},\n",
       " {instrument: 'LATISS', detector: 0, visit: 2021070700320, ...},\n",
       " {instrument: 'LATISS', detector: 0, visit: 2021070700322, ...},\n",
       " {instrument: 'LATISS', detector: 0, visit: 2021070700323, ...},\n",
       " {instrument: 'LATISS', detector: 0, visit: 2021070700322, ...},\n",
       " {instrument: 'LATISS', detector: 0, visit: 2021070700323, ...},\n",
       " {instrument: 'LATISS', detector: 0, visit: 2021070700324, ...},\n",
       " {instrument: 'LATISS', detector: 0, visit: 2021070700325, ...},\n",
       " {instrument: 'LATISS', detector: 0, visit: 2021070700326, ...},\n",
       " {instrument: 'LATISS', detector: 0, visit: 2021070700328, ...},\n",
       " {instrument: 'LATISS', detector: 0, visit: 2021070700329, ...},\n",
       " {instrument: 'LATISS', detector: 0, visit: 2021070700330, ...},\n",
       " {instrument: 'LATISS', detector: 0, visit: 2021070700361, ...}]"
      ]
     },
     "execution_count": 13,
     "metadata": {},
     "output_type": "execute_result"
    }
   ],
   "source": [
    "all_ref_for_spectraction"
   ]
  },
  {
   "cell_type": "markdown",
   "id": "555a30ea-dbb3-47ef-b32f-b9ad9090e797",
   "metadata": {},
   "source": [
    "## Select  One dataId found in Spectraction"
   ]
  },
  {
   "cell_type": "code",
   "execution_count": 14,
   "id": "6bacad58-2719-4c96-85cf-58c718f59836",
   "metadata": {},
   "outputs": [
    {
     "data": {
      "text/plain": [
       "{instrument: 'LATISS', detector: 0, visit: 2021070700318, ...}"
      ]
     },
     "execution_count": 14,
     "metadata": {},
     "output_type": "execute_result"
    }
   ],
   "source": [
    "refid0 = all_ref_for_spectraction[0]\n",
    "refid0"
   ]
  },
  {
   "cell_type": "code",
   "execution_count": 15,
   "id": "f0ce3a43-ba69-4be3-a435-70a67c27cb5e",
   "metadata": {},
   "outputs": [
    {
     "data": {
      "text/plain": [
       "2021070700318"
      ]
     },
     "execution_count": 15,
     "metadata": {},
     "output_type": "execute_result"
    }
   ],
   "source": [
    "refid0[\"visit\"]"
   ]
  },
  {
   "cell_type": "markdown",
   "id": "0606ca32-3a40-4689-824d-efdaf03508cd",
   "metadata": {},
   "source": [
    "## Access to postISRCCD"
   ]
  },
  {
   "cell_type": "code",
   "execution_count": 16,
   "id": "c0f12c16-2b4c-4ab2-9d63-320b08d16d73",
   "metadata": {},
   "outputs": [],
   "source": [
    "postisrccd = butler.get('postISRCCD', dataId={'exposure': refid0[\"visit\"], 'instrument': 'LATISS', 'detector': 0}, collections = collection)"
   ]
  },
  {
   "cell_type": "code",
   "execution_count": 17,
   "id": "b0343fd1-d309-4a4d-a51c-a12294e68770",
   "metadata": {},
   "outputs": [],
   "source": [
    "fig = plt.figure(figsize=(8,8))\n",
    "afw_display = afwDisplay.Display(1)\n",
    "afw_display.scale('asinh', 'zscale')\n",
    "afw_display.mtv(postisrccd.image)\n",
    "#plt.gca().axis('off')"
   ]
  },
  {
   "cell_type": "markdown",
   "id": "a172b333-f868-4188-b894-a082483d940b",
   "metadata": {},
   "source": [
    "## NO Access to Calexp"
   ]
  },
  {
   "cell_type": "code",
   "execution_count": 18,
   "id": "92801656-eb9e-4776-9302-14134d478017",
   "metadata": {},
   "outputs": [],
   "source": [
    "# calexp = butler.get('calexp', dataId={'exposure': 2021070700318, 'instrument': 'LATISS', 'detector': 0}, collections = collection)"
   ]
  },
  {
   "cell_type": "markdown",
   "id": "1fd4a4e8-e55b-46d3-b8ff-1065a3e8e58e",
   "metadata": {},
   "source": [
    "## Access to Spectraction"
   ]
  },
  {
   "cell_type": "code",
   "execution_count": 19,
   "id": "8dce4834-b917-4ed8-9a05-363d98fd07ac",
   "metadata": {},
   "outputs": [],
   "source": [
    "spectraction  = butler.get('spectraction', dataId=refid0, collections = collection)"
   ]
  },
  {
   "cell_type": "code",
   "execution_count": 20,
   "id": "480b212d-c79c-4b66-8454-96f1edb4e4ea",
   "metadata": {},
   "outputs": [
    {
     "data": {
      "text/plain": [
       "['__class__',\n",
       " '__delattr__',\n",
       " '__dict__',\n",
       " '__dir__',\n",
       " '__doc__',\n",
       " '__eq__',\n",
       " '__format__',\n",
       " '__ge__',\n",
       " '__getattribute__',\n",
       " '__gt__',\n",
       " '__hash__',\n",
       " '__init__',\n",
       " '__init_subclass__',\n",
       " '__le__',\n",
       " '__lt__',\n",
       " '__module__',\n",
       " '__ne__',\n",
       " '__new__',\n",
       " '__reduce__',\n",
       " '__reduce_ex__',\n",
       " '__repr__',\n",
       " '__setattr__',\n",
       " '__sizeof__',\n",
       " '__str__',\n",
       " '__subclasshook__',\n",
       " '__weakref__',\n",
       " 'image',\n",
       " 'spectrum',\n",
       " 'w']"
      ]
     },
     "execution_count": 20,
     "metadata": {},
     "output_type": "execute_result"
    }
   ],
   "source": [
    "dir(spectraction)"
   ]
  },
  {
   "cell_type": "markdown",
   "id": "a272dffd-76e2-4abd-bfb0-8a18043e7820",
   "metadata": {},
   "source": [
    "# Extract main components of Spectraction"
   ]
  },
  {
   "cell_type": "code",
   "execution_count": 21,
   "id": "309a4322-ccaa-427a-bd13-8a4fec430384",
   "metadata": {},
   "outputs": [],
   "source": [
    "image = spectraction.image"
   ]
  },
  {
   "cell_type": "code",
   "execution_count": 22,
   "id": "ce4d9738-6c55-4632-bc41-2939fd258c67",
   "metadata": {},
   "outputs": [
    {
     "data": {
      "text/plain": [
       "['__class__',\n",
       " '__delattr__',\n",
       " '__dict__',\n",
       " '__dir__',\n",
       " '__doc__',\n",
       " '__eq__',\n",
       " '__format__',\n",
       " '__ge__',\n",
       " '__getattribute__',\n",
       " '__gt__',\n",
       " '__hash__',\n",
       " '__init__',\n",
       " '__init_subclass__',\n",
       " '__le__',\n",
       " '__lt__',\n",
       " '__module__',\n",
       " '__ne__',\n",
       " '__new__',\n",
       " '__reduce__',\n",
       " '__reduce_ex__',\n",
       " '__repr__',\n",
       " '__setattr__',\n",
       " '__sizeof__',\n",
       " '__str__',\n",
       " '__subclasshook__',\n",
       " '__weakref__',\n",
       " 'airmass',\n",
       " 'check_statistical_error',\n",
       " 'compute_parallactic_angle',\n",
       " 'compute_statistical_error',\n",
       " 'convert_to_ADU_rate_units',\n",
       " 'convert_to_ADU_units',\n",
       " 'data',\n",
       " 'data_rotated',\n",
       " 'date_obs',\n",
       " 'dec',\n",
       " 'disperser',\n",
       " 'disperser_label',\n",
       " 'expo',\n",
       " 'file_name',\n",
       " 'filter_label',\n",
       " 'filters',\n",
       " 'gain',\n",
       " 'header',\n",
       " 'hour_angle',\n",
       " 'humidity',\n",
       " 'load_image',\n",
       " 'my_logger',\n",
       " 'parallactic_angle',\n",
       " 'plot_image',\n",
       " 'plot_statistical_error',\n",
       " 'pressure',\n",
       " 'ra',\n",
       " 'read_out_noise',\n",
       " 'rebin',\n",
       " 'rotation_angle',\n",
       " 'saturation',\n",
       " 'save_image',\n",
       " 'stat_errors',\n",
       " 'stat_errors_rotated',\n",
       " 'target',\n",
       " 'target_bkgd2D',\n",
       " 'target_guess',\n",
       " 'target_label',\n",
       " 'target_pixcoords',\n",
       " 'target_pixcoords_rotated',\n",
       " 'target_star2D',\n",
       " 'temperature',\n",
       " 'units']"
      ]
     },
     "execution_count": 22,
     "metadata": {},
     "output_type": "execute_result"
    }
   ],
   "source": [
    "dir(image)"
   ]
  },
  {
   "cell_type": "code",
   "execution_count": 23,
   "id": "1dd21a39-0c07-456e-a1dc-72de6fe08097",
   "metadata": {},
   "outputs": [
    {
     "data": {
      "text/plain": [
       "'HD 160617'"
      ]
     },
     "execution_count": 23,
     "metadata": {},
     "output_type": "execute_result"
    }
   ],
   "source": [
    "image.target.label"
   ]
  },
  {
   "cell_type": "code",
   "execution_count": 24,
   "id": "f6be1b80-558d-412e-8b09-1fc19b23f5f7",
   "metadata": {},
   "outputs": [],
   "source": [
    "spectrum = spectraction.spectrum"
   ]
  },
  {
   "cell_type": "code",
   "execution_count": 25,
   "id": "4fee2ca0-64fa-4d71-a6a0-08ba29512f91",
   "metadata": {},
   "outputs": [
    {
     "data": {
      "text/plain": [
       "['__class__',\n",
       " '__delattr__',\n",
       " '__dict__',\n",
       " '__dir__',\n",
       " '__doc__',\n",
       " '__eq__',\n",
       " '__format__',\n",
       " '__ge__',\n",
       " '__getattribute__',\n",
       " '__gt__',\n",
       " '__hash__',\n",
       " '__init__',\n",
       " '__init_subclass__',\n",
       " '__le__',\n",
       " '__lt__',\n",
       " '__module__',\n",
       " '__ne__',\n",
       " '__new__',\n",
       " '__reduce__',\n",
       " '__reduce_ex__',\n",
       " '__repr__',\n",
       " '__setattr__',\n",
       " '__sizeof__',\n",
       " '__str__',\n",
       " '__subclasshook__',\n",
       " '__weakref__',\n",
       " 'adr_params',\n",
       " 'airmass',\n",
       " 'atmospheric_lines',\n",
       " 'chromatic_psf',\n",
       " 'convert_from_ADUrate_to_flam',\n",
       " 'convert_from_flam_to_ADUrate',\n",
       " 'cov_matrix',\n",
       " 'data',\n",
       " 'data_order2',\n",
       " 'date_obs',\n",
       " 'dec',\n",
       " 'disperser',\n",
       " 'disperser_label',\n",
       " 'err',\n",
       " 'err_order2',\n",
       " 'expo',\n",
       " 'fast_load',\n",
       " 'filename',\n",
       " 'filter_label',\n",
       " 'filters',\n",
       " 'gain',\n",
       " 'header',\n",
       " 'hour_angle',\n",
       " 'humidity',\n",
       " 'lambda_ref',\n",
       " 'lambdas',\n",
       " 'lambdas_binwidths',\n",
       " 'lambdas_indices',\n",
       " 'lambdas_order2',\n",
       " 'lines',\n",
       " 'load_chromatic_psf',\n",
       " 'load_filter',\n",
       " 'load_spectrogram',\n",
       " 'load_spectrum',\n",
       " 'my_logger',\n",
       " 'order',\n",
       " 'parallactic_angle',\n",
       " 'pixels',\n",
       " 'plot_spectrogram',\n",
       " 'plot_spectrum',\n",
       " 'pressure',\n",
       " 'psf',\n",
       " 'rotation_angle',\n",
       " 'save_spectrogram',\n",
       " 'save_spectrum',\n",
       " 'spectrogram',\n",
       " 'spectrogram_Nx',\n",
       " 'spectrogram_Ny',\n",
       " 'spectrogram_bgd',\n",
       " 'spectrogram_bgd_rms',\n",
       " 'spectrogram_deg',\n",
       " 'spectrogram_err',\n",
       " 'spectrogram_fit',\n",
       " 'spectrogram_residuals',\n",
       " 'spectrogram_saturation',\n",
       " 'spectrogram_x0',\n",
       " 'spectrogram_xmax',\n",
       " 'spectrogram_xmin',\n",
       " 'spectrogram_y0',\n",
       " 'spectrogram_ymax',\n",
       " 'spectrogram_ymin',\n",
       " 'target',\n",
       " 'target_pixcoords',\n",
       " 'target_pixcoords_rotated',\n",
       " 'temperature',\n",
       " 'units',\n",
       " 'x0']"
      ]
     },
     "execution_count": 25,
     "metadata": {},
     "output_type": "execute_result"
    }
   ],
   "source": [
    "dir(spectrum)"
   ]
  },
  {
   "cell_type": "code",
   "execution_count": 26,
   "id": "cec92e73-ad5a-4493-8659-26334922981d",
   "metadata": {},
   "outputs": [],
   "source": [
    "spec_w = spectraction.w"
   ]
  },
  {
   "cell_type": "code",
   "execution_count": 27,
   "id": "acaf92f0-3682-4ebb-a086-5fa100224faa",
   "metadata": {},
   "outputs": [
    {
     "data": {
      "text/plain": [
       "['A2',\n",
       " 'B',\n",
       " 'D',\n",
       " 'L',\n",
       " 'M',\n",
       " 'M_dot_W_dot_M',\n",
       " 'Nx',\n",
       " 'Ny',\n",
       " 'Q',\n",
       " 'Q_dot_A0',\n",
       " 'U',\n",
       " 'W',\n",
       " 'W_before_mask',\n",
       " '__class__',\n",
       " '__delattr__',\n",
       " '__dict__',\n",
       " '__dir__',\n",
       " '__doc__',\n",
       " '__eq__',\n",
       " '__format__',\n",
       " '__ge__',\n",
       " '__getattribute__',\n",
       " '__gt__',\n",
       " '__hash__',\n",
       " '__init__',\n",
       " '__init_subclass__',\n",
       " '__le__',\n",
       " '__lt__',\n",
       " '__module__',\n",
       " '__ne__',\n",
       " '__new__',\n",
       " '__reduce__',\n",
       " '__reduce_ex__',\n",
       " '__repr__',\n",
       " '__setattr__',\n",
       " '__sizeof__',\n",
       " '__str__',\n",
       " '__subclasshook__',\n",
       " '__weakref__',\n",
       " 'adjust_spectrogram_position_parameters',\n",
       " 'amplitude_cov_matrix',\n",
       " 'amplitude_params',\n",
       " 'amplitude_params_err',\n",
       " 'amplitude_priors',\n",
       " 'amplitude_priors_cov_matrix',\n",
       " 'amplitude_priors_list',\n",
       " 'amplitude_priors_method',\n",
       " 'analyze_chains',\n",
       " 'angle',\n",
       " 'axis_names',\n",
       " 'bgd',\n",
       " 'bgd_flat',\n",
       " 'bgd_std',\n",
       " 'bgd_width',\n",
       " 'bounds',\n",
       " 'build_flat_chains',\n",
       " 'burnin',\n",
       " 'chain2likelihood',\n",
       " 'chains',\n",
       " 'chisq',\n",
       " 'compute_local_acceptance_rate',\n",
       " 'convergence_tests',\n",
       " 'costs',\n",
       " 'cov',\n",
       " 'data',\n",
       " 'data_before_mask',\n",
       " 'data_cov',\n",
       " 'emcee_filename',\n",
       " 'err',\n",
       " 'filename',\n",
       " 'fixed',\n",
       " 'flat_chains',\n",
       " 'fwhm_priors',\n",
       " 'gelmans',\n",
       " 'get_bad_indices',\n",
       " 'global_average',\n",
       " 'global_std',\n",
       " 'hessian',\n",
       " 'input_labels',\n",
       " 'jacobian',\n",
       " 'lambdas',\n",
       " 'lambdas_order2',\n",
       " 'likelihood',\n",
       " 'live_fit',\n",
       " 'lnlike',\n",
       " 'lnprior',\n",
       " 'lnprobs',\n",
       " 'load_chains',\n",
       " 'mask',\n",
       " 'model',\n",
       " 'model_err',\n",
       " 'model_noconv',\n",
       " 'my_logger',\n",
       " 'nbins',\n",
       " 'ndim',\n",
       " 'nsteps',\n",
       " 'nwalkers',\n",
       " 'outliers',\n",
       " 'p',\n",
       " 'params_table',\n",
       " 'pixels',\n",
       " 'plot',\n",
       " 'plot_correlation_matrix',\n",
       " 'plot_fit',\n",
       " 'plot_spectrogram_comparison_simple',\n",
       " 'prepare_weight_matrices',\n",
       " 'print_settings',\n",
       " 'psf_params_start_index',\n",
       " 'psf_poly_params',\n",
       " 'psf_poly_params_bounds',\n",
       " 'psf_poly_params_labels',\n",
       " 'psf_poly_params_names',\n",
       " 'psf_profile_params',\n",
       " 'reg',\n",
       " 'rho',\n",
       " 'rotation',\n",
       " 'saturation',\n",
       " 'save_parameters_summary',\n",
       " 'set_chain_validity',\n",
       " 'set_mask',\n",
       " 'set_start',\n",
       " 'shift_x',\n",
       " 'shift_y',\n",
       " 'sigma_clip',\n",
       " 'simulate',\n",
       " 'sparse_indices',\n",
       " 'spectrum',\n",
       " 'sqrtW',\n",
       " 'start',\n",
       " 'title',\n",
       " 'truth',\n",
       " 'use_grid',\n",
       " 'valid_chains',\n",
       " 'verbose',\n",
       " 'weighted_residuals',\n",
       " 'x']"
      ]
     },
     "execution_count": 27,
     "metadata": {},
     "output_type": "execute_result"
    }
   ],
   "source": [
    "dir(spec_w)"
   ]
  },
  {
   "cell_type": "markdown",
   "id": "60a17224-ce37-46f1-bdf9-d59beb639585",
   "metadata": {},
   "source": [
    "### Start with image"
   ]
  },
  {
   "cell_type": "code",
   "execution_count": 28,
   "id": "e2dc3b2c-7d0e-484d-9a4c-bb661e24d179",
   "metadata": {},
   "outputs": [
    {
     "data": {
      "text/plain": [
       "1.06657802823672"
      ]
     },
     "execution_count": 28,
     "metadata": {},
     "output_type": "execute_result"
    }
   ],
   "source": [
    "airmass = image.airmass\n",
    "airmass"
   ]
  },
  {
   "cell_type": "code",
   "execution_count": 29,
   "id": "89ff981f-3134-4998-9f43-63452c5781c2",
   "metadata": {},
   "outputs": [],
   "source": [
    "img = image.data"
   ]
  },
  {
   "cell_type": "code",
   "execution_count": 30,
   "id": "6365721f-89b6-41a1-a056-7d1c96145a4c",
   "metadata": {},
   "outputs": [
    {
     "data": {
      "text/plain": [
       "array([[-0.11206304, -0.04467412,  0.07011777, ..., -0.0358763 ,\n",
       "        -0.07602447, -0.11650336],\n",
       "       [-0.21139966, -0.08151308,  0.11039347, ..., -0.20319199,\n",
       "        -0.19482018, -0.19062436],\n",
       "       [-0.16695891, -0.18954746,  0.05168054, ..., -0.2447929 ,\n",
       "        -0.3635365 , -0.24490001],\n",
       "       ...,\n",
       "       [-0.67543118, -0.46424393, -0.37358714, ...,  0.02565122,\n",
       "        -0.15271319, -0.26062581],\n",
       "       [-0.73805761, -0.63772193,  0.00685127, ...,  0.00504793,\n",
       "        -0.0428815 , -0.21720905],\n",
       "       [-0.86253246, -0.60742281, -0.22542281, ..., -0.12819231,\n",
       "        -0.11863107, -0.14099535]])"
      ]
     },
     "execution_count": 30,
     "metadata": {},
     "output_type": "execute_result"
    }
   ],
   "source": [
    "img"
   ]
  },
  {
   "cell_type": "code",
   "execution_count": 31,
   "id": "fb933bfc-571f-4e23-8ba3-2d2780870037",
   "metadata": {},
   "outputs": [],
   "source": [
    "fig = plt.figure(figsize=(8,8))\n",
    "plt.imshow(transform(img))\n",
    "plt.show()"
   ]
  },
  {
   "cell_type": "code",
   "execution_count": null,
   "id": "c220b5ab-ccf4-4f09-9d7a-7bdb50ed089b",
   "metadata": {},
   "outputs": [],
   "source": []
  }
 ],
 "metadata": {
  "kernelspec": {
   "display_name": "lsst_distrib_w_2022_09",
   "language": "python",
   "name": "lsst_distrib_w_2022_09"
  },
  "language_info": {
   "codemirror_mode": {
    "name": "ipython",
    "version": 3
   },
   "file_extension": ".py",
   "mimetype": "text/x-python",
   "name": "python",
   "nbconvert_exporter": "python",
   "pygments_lexer": "ipython3",
   "version": "3.8.12"
  }
 },
 "nbformat": 4,
 "nbformat_minor": 5
}
