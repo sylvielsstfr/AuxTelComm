{
 "cells": [
  {
   "cell_type": "markdown",
   "id": "9ff36740",
   "metadata": {
    "tags": []
   },
   "source": [
    "# List of spectraction\n",
    "\n",
    "- work with Weakly_2022_09\n",
    "- use jupyter kernel LSST\n",
    "\n",
    "\n",
    "- author : Sylvie Dagoret-Campagne\n",
    "- affiliation : IJCLab\n",
    "- creation date : 2022/03/16\n",
    "- updatz : 2022/03/16\n",
    "\n"
   ]
  },
  {
   "cell_type": "code",
   "execution_count": 1,
   "id": "9348a322",
   "metadata": {},
   "outputs": [
    {
     "name": "stdout",
     "output_type": "stream",
     "text": [
      "atmospec              LOCAL:/sps/lsst/groups/auxtel/softs/shared/auxteldm_gen3/repos/w_2022_09/atmospec \tsetup\n",
      "eups                  LOCAL:/cvmfs/sw.lsst.eu/linux-x86_64/lsst_distrib/w_2022_09/conda/envs/lsst-scipipe-2.0.0/eups \tsetup\n",
      "rapid_analysis        LOCAL:/sps/lsst/groups/auxtel/softs/shared/auxteldm_gen3/repos/w_2022_09/rapid_analysis \tsetup\n"
     ]
    }
   ],
   "source": [
    "! eups list -s | grep LOCAL"
   ]
  },
  {
   "cell_type": "code",
   "execution_count": 2,
   "id": "3fed5f5d",
   "metadata": {},
   "outputs": [
    {
     "name": "stdout",
     "output_type": "stream",
     "text": [
      "   g64fc59b30a+e1dba0a6f6 \tw_latest w_2022_09 current setup\n"
     ]
    }
   ],
   "source": [
    "! eups list -s lsst_distrib"
   ]
  },
  {
   "cell_type": "code",
   "execution_count": 3,
   "id": "9027b824",
   "metadata": {},
   "outputs": [],
   "source": [
    "import os\n",
    "import matplotlib.pyplot as plt\n",
    "import numpy as np\n",
    "import pandas as pd\n",
    "%matplotlib inline\n",
    "from matplotlib.colors import LogNorm\n",
    "\n",
    "from mpl_toolkits.axes_grid1 import make_axes_locatable\n",
    "\n",
    "import matplotlib.ticker                         # here's where the formatter is\n",
    "from matplotlib.ticker import (MultipleLocator, FormatStrFormatter,\n",
    "                               AutoMinorLocator)\n",
    "\n"
   ]
  },
  {
   "cell_type": "code",
   "execution_count": 4,
   "id": "8c046e1f",
   "metadata": {},
   "outputs": [],
   "source": [
    "from astropy.visualization import (MinMaxInterval, SqrtStretch,ZScaleInterval,PercentileInterval,\n",
    "                                   ImageNormalize,imshow_norm)\n",
    "from astropy.visualization.stretch import SinhStretch, LinearStretch,AsinhStretch,LogStretch\n"
   ]
  },
  {
   "cell_type": "code",
   "execution_count": 5,
   "id": "9cbf7520",
   "metadata": {},
   "outputs": [],
   "source": [
    "import lsst.afw.display as afwDisplay\n",
    "afwDisplay.setDefaultBackend('matplotlib')"
   ]
  },
  {
   "cell_type": "code",
   "execution_count": 6,
   "id": "3c3b257a",
   "metadata": {},
   "outputs": [],
   "source": [
    "import lsst.daf.butler as dafButler"
   ]
  },
  {
   "cell_type": "code",
   "execution_count": 7,
   "id": "edd00bb4",
   "metadata": {},
   "outputs": [],
   "source": [
    "repo = '/sps/lsst/groups/auxtel/softs/shared/auxteldm_gen3/data/butler.yaml'\n",
    "butler = dafButler.Butler(repo)\n",
    "registry = butler.registry"
   ]
  },
  {
   "cell_type": "code",
   "execution_count": 8,
   "id": "86210e68",
   "metadata": {},
   "outputs": [
    {
     "name": "stderr",
     "output_type": "stream",
     "text": [
      "/sps/lsst/groups/auxtel/softs/shared/auxteldm_gen3/repos/w_2022_09/rapid_analysis/python/lsst/rapid/analysis/visitCheck.py:132: FutureWarning: Call to deprecated function (or staticmethod) timeMethod. (timeMethod has been replaced by lsst.utils.timer.timeMethod. Will be removed after v25.) -- Deprecated since version v24.\n",
      "  def runDataRef(self, dataRef):\n"
     ]
    }
   ],
   "source": [
    "from lsst.rapid.analysis.nightReport import NightReporter\n",
    "dayObs = 20210707\n",
    "#reporter = NightReporter('/sps/lsst/groups/auxtel/softs/shared/auxteldm_gen3/data', dayObs)"
   ]
  },
  {
   "cell_type": "code",
   "execution_count": 9,
   "id": "960df4b5",
   "metadata": {},
   "outputs": [],
   "source": [
    "#NightReporter?"
   ]
  },
  {
   "cell_type": "code",
   "execution_count": 10,
   "id": "21018aab",
   "metadata": {},
   "outputs": [],
   "source": [
    "#transform = AsinhStretch() + PercentileInterval(99.)\n",
    "transform = PercentileInterval(98.)"
   ]
  },
  {
   "cell_type": "code",
   "execution_count": 11,
   "id": "b23bf912",
   "metadata": {},
   "outputs": [
    {
     "ename": "MissingCollectionError",
     "evalue": "No collection with name 'u/dagoret/first_test3' found.",
     "output_type": "error",
     "traceback": [
      "\u001b[0;31m---------------------------------------------------------------------------\u001b[0m",
      "\u001b[0;31mMissingCollectionError\u001b[0m                    Traceback (most recent call last)",
      "Input \u001b[0;32mIn [11]\u001b[0m, in \u001b[0;36m<module>\u001b[0;34m\u001b[0m\n\u001b[1;32m      1\u001b[0m collection \u001b[38;5;241m=\u001b[39m \u001b[38;5;124m\"\u001b[39m\u001b[38;5;124mu/dagoret/first_test3\u001b[39m\u001b[38;5;124m\"\u001b[39m\n\u001b[0;32m----> 2\u001b[0m datasetRefs \u001b[38;5;241m=\u001b[39m \u001b[43mregistry\u001b[49m\u001b[38;5;241;43m.\u001b[39;49m\u001b[43mqueryDatasets\u001b[49m\u001b[43m(\u001b[49m\u001b[43mdatasetType\u001b[49m\u001b[38;5;241;43m=\u001b[39;49m\u001b[38;5;124;43m'\u001b[39;49m\u001b[38;5;124;43mspectraction\u001b[39;49m\u001b[38;5;124;43m'\u001b[39;49m\u001b[43m,\u001b[49m\u001b[43m \u001b[49m\u001b[43mcollections\u001b[49m\u001b[38;5;241;43m=\u001b[39;49m\u001b[43mcollection\u001b[49m\u001b[43m,\u001b[49m\u001b[43m \u001b[49m\n\u001b[1;32m      3\u001b[0m \u001b[43m                                     \u001b[49m\u001b[43mwhere\u001b[49m\u001b[38;5;241;43m=\u001b[39;49m\u001b[43m \u001b[49m\u001b[38;5;124;43m\"\u001b[39;49m\u001b[38;5;124;43minstrument=\u001b[39;49m\u001b[38;5;124;43m'\u001b[39;49m\u001b[38;5;124;43mLATISS\u001b[39;49m\u001b[38;5;124;43m'\u001b[39;49m\u001b[38;5;124;43m\"\u001b[39;49m\u001b[43m)\u001b[49m\n",
      "File \u001b[0;32m/cvmfs/sw.lsst.eu/linux-x86_64/lsst_distrib/w_2022_09/conda/envs/lsst-scipipe-2.0.0/share/eups/Linux64/daf_butler/g40211b77cd+1008d2a466/python/lsst/daf/butler/registries/sql.py:977\u001b[0m, in \u001b[0;36mSqlRegistry.queryDatasets\u001b[0;34m(self, datasetType, collections, dimensions, dataId, where, findFirst, components, bind, check, **kwargs)\u001b[0m\n\u001b[1;32m    975\u001b[0m chain \u001b[38;5;241m=\u001b[39m []\n\u001b[1;32m    976\u001b[0m \u001b[38;5;28;01mfor\u001b[39;00m parentDatasetType, componentNames \u001b[38;5;129;01min\u001b[39;00m composition\u001b[38;5;241m.\u001b[39mitems():\n\u001b[0;32m--> 977\u001b[0m     parentResults \u001b[38;5;241m=\u001b[39m \u001b[38;5;28;43mself\u001b[39;49m\u001b[38;5;241;43m.\u001b[39;49m\u001b[43mqueryDatasets\u001b[49m\u001b[43m(\u001b[49m\n\u001b[1;32m    978\u001b[0m \u001b[43m        \u001b[49m\u001b[43mparentDatasetType\u001b[49m\u001b[43m,\u001b[49m\n\u001b[1;32m    979\u001b[0m \u001b[43m        \u001b[49m\u001b[43mcollections\u001b[49m\u001b[38;5;241;43m=\u001b[39;49m\u001b[43mcollections\u001b[49m\u001b[43m,\u001b[49m\n\u001b[1;32m    980\u001b[0m \u001b[43m        \u001b[49m\u001b[43mdimensions\u001b[49m\u001b[38;5;241;43m=\u001b[39;49m\u001b[43mdimensions\u001b[49m\u001b[43m,\u001b[49m\n\u001b[1;32m    981\u001b[0m \u001b[43m        \u001b[49m\u001b[43mdataId\u001b[49m\u001b[38;5;241;43m=\u001b[39;49m\u001b[43mstandardizedDataId\u001b[49m\u001b[43m,\u001b[49m\n\u001b[1;32m    982\u001b[0m \u001b[43m        \u001b[49m\u001b[43mwhere\u001b[49m\u001b[38;5;241;43m=\u001b[39;49m\u001b[43mwhere\u001b[49m\u001b[43m,\u001b[49m\n\u001b[1;32m    983\u001b[0m \u001b[43m        \u001b[49m\u001b[43mbind\u001b[49m\u001b[38;5;241;43m=\u001b[39;49m\u001b[43mbind\u001b[49m\u001b[43m,\u001b[49m\n\u001b[1;32m    984\u001b[0m \u001b[43m        \u001b[49m\u001b[43mfindFirst\u001b[49m\u001b[38;5;241;43m=\u001b[39;49m\u001b[43mfindFirst\u001b[49m\u001b[43m,\u001b[49m\n\u001b[1;32m    985\u001b[0m \u001b[43m        \u001b[49m\u001b[43mcheck\u001b[49m\u001b[38;5;241;43m=\u001b[39;49m\u001b[43mcheck\u001b[49m\u001b[43m,\u001b[49m\n\u001b[1;32m    986\u001b[0m \u001b[43m    \u001b[49m\u001b[43m)\u001b[49m\n\u001b[1;32m    987\u001b[0m     \u001b[38;5;28;01massert\u001b[39;00m \u001b[38;5;28misinstance\u001b[39m(\n\u001b[1;32m    988\u001b[0m         parentResults, queries\u001b[38;5;241m.\u001b[39mParentDatasetQueryResults\n\u001b[1;32m    989\u001b[0m     ), \u001b[38;5;124m\"\u001b[39m\u001b[38;5;124mShould always be true if passing in a DatasetType instance, and we are.\u001b[39m\u001b[38;5;124m\"\u001b[39m\n\u001b[1;32m    990\u001b[0m     chain\u001b[38;5;241m.\u001b[39mappend(parentResults\u001b[38;5;241m.\u001b[39mwithComponents(componentNames))\n",
      "File \u001b[0;32m/cvmfs/sw.lsst.eu/linux-x86_64/lsst_distrib/w_2022_09/conda/envs/lsst-scipipe-2.0.0/share/eups/Linux64/daf_butler/g40211b77cd+1008d2a466/python/lsst/daf/butler/registries/sql.py:1016\u001b[0m, in \u001b[0;36mSqlRegistry.queryDatasets\u001b[0;34m(self, datasetType, collections, dimensions, dataId, where, findFirst, components, bind, check, **kwargs)\u001b[0m\n\u001b[1;32m   1010\u001b[0m builder \u001b[38;5;241m=\u001b[39m \u001b[38;5;28mself\u001b[39m\u001b[38;5;241m.\u001b[39m_makeQueryBuilder(summary)\n\u001b[1;32m   1011\u001b[0m \u001b[38;5;66;03m# Add the dataset subquery to the query, telling the QueryBuilder to\u001b[39;00m\n\u001b[1;32m   1012\u001b[0m \u001b[38;5;66;03m# include the rank of the selected collection in the results only if we\u001b[39;00m\n\u001b[1;32m   1013\u001b[0m \u001b[38;5;66;03m# need to findFirst.  Note that if any of the collections are\u001b[39;00m\n\u001b[1;32m   1014\u001b[0m \u001b[38;5;66;03m# actually wildcard expressions, and we've asked for deduplication,\u001b[39;00m\n\u001b[1;32m   1015\u001b[0m \u001b[38;5;66;03m# this will raise TypeError for us.\u001b[39;00m\n\u001b[0;32m-> 1016\u001b[0m \u001b[43mbuilder\u001b[49m\u001b[38;5;241;43m.\u001b[39;49m\u001b[43mjoinDataset\u001b[49m\u001b[43m(\u001b[49m\u001b[43mdatasetType\u001b[49m\u001b[43m,\u001b[49m\u001b[43m \u001b[49m\u001b[43mcollections\u001b[49m\u001b[43m,\u001b[49m\u001b[43m \u001b[49m\u001b[43misResult\u001b[49m\u001b[38;5;241;43m=\u001b[39;49m\u001b[38;5;28;43;01mTrue\u001b[39;49;00m\u001b[43m,\u001b[49m\u001b[43m \u001b[49m\u001b[43mfindFirst\u001b[49m\u001b[38;5;241;43m=\u001b[39;49m\u001b[43mfindFirst\u001b[49m\u001b[43m)\u001b[49m\n\u001b[1;32m   1017\u001b[0m query \u001b[38;5;241m=\u001b[39m builder\u001b[38;5;241m.\u001b[39mfinish()\n\u001b[1;32m   1018\u001b[0m \u001b[38;5;28;01mreturn\u001b[39;00m queries\u001b[38;5;241m.\u001b[39mParentDatasetQueryResults(\u001b[38;5;28mself\u001b[39m\u001b[38;5;241m.\u001b[39m_db, query, components\u001b[38;5;241m=\u001b[39m[\u001b[38;5;28;01mNone\u001b[39;00m], datasetType\u001b[38;5;241m=\u001b[39mdatasetType)\n",
      "File \u001b[0;32m/cvmfs/sw.lsst.eu/linux-x86_64/lsst_distrib/w_2022_09/conda/envs/lsst-scipipe-2.0.0/share/eups/Linux64/daf_butler/g40211b77cd+1008d2a466/python/lsst/daf/butler/registry/queries/_builder.py:171\u001b[0m, in \u001b[0;36mQueryBuilder.joinDataset\u001b[0;34m(self, datasetType, collections, isResult, findFirst)\u001b[0m\n\u001b[1;32m    169\u001b[0m     other_collections \u001b[38;5;241m=\u001b[39m []\n\u001b[1;32m    170\u001b[0m rejections: List[\u001b[38;5;28mstr\u001b[39m] \u001b[38;5;241m=\u001b[39m []\n\u001b[0;32m--> 171\u001b[0m \u001b[38;5;28;01mfor\u001b[39;00m rank, collectionRecord \u001b[38;5;129;01min\u001b[39;00m \u001b[38;5;28menumerate\u001b[39m(\n\u001b[1;32m    172\u001b[0m     collections\u001b[38;5;241m.\u001b[39miter(\u001b[38;5;28mself\u001b[39m\u001b[38;5;241m.\u001b[39m_managers\u001b[38;5;241m.\u001b[39mcollections, collectionTypes\u001b[38;5;241m=\u001b[39mcollectionTypes)\n\u001b[1;32m    173\u001b[0m ):\n\u001b[1;32m    174\u001b[0m     \u001b[38;5;66;03m# Only include collections that (according to collection summaries)\u001b[39;00m\n\u001b[1;32m    175\u001b[0m     \u001b[38;5;66;03m# might have datasets of this type and governor dimensions\u001b[39;00m\n\u001b[1;32m    176\u001b[0m     \u001b[38;5;66;03m# consistent with the query's WHERE clause.\u001b[39;00m\n\u001b[1;32m    177\u001b[0m     collection_summary \u001b[38;5;241m=\u001b[39m \u001b[38;5;28mself\u001b[39m\u001b[38;5;241m.\u001b[39m_managers\u001b[38;5;241m.\u001b[39mdatasets\u001b[38;5;241m.\u001b[39mgetCollectionSummary(collectionRecord)\n\u001b[1;32m    178\u001b[0m     \u001b[38;5;28;01mif\u001b[39;00m \u001b[38;5;129;01mnot\u001b[39;00m collection_summary\u001b[38;5;241m.\u001b[39mis_compatible_with(\n\u001b[1;32m    179\u001b[0m         datasetType,\n\u001b[1;32m    180\u001b[0m         \u001b[38;5;28mself\u001b[39m\u001b[38;5;241m.\u001b[39msummary\u001b[38;5;241m.\u001b[39mwhere\u001b[38;5;241m.\u001b[39mrestriction,\n\u001b[1;32m    181\u001b[0m         rejections\u001b[38;5;241m=\u001b[39mrejections,\n\u001b[1;32m    182\u001b[0m         name\u001b[38;5;241m=\u001b[39mcollectionRecord\u001b[38;5;241m.\u001b[39mname,\n\u001b[1;32m    183\u001b[0m     ):\n",
      "File \u001b[0;32m/cvmfs/sw.lsst.eu/linux-x86_64/lsst_distrib/w_2022_09/conda/envs/lsst-scipipe-2.0.0/share/eups/Linux64/daf_butler/g40211b77cd+1008d2a466/python/lsst/daf/butler/registry/wildcards.py:673\u001b[0m, in \u001b[0;36mCollectionQuery.iter\u001b[0;34m(self, manager, collectionTypes, flattenChains, includeChains)\u001b[0m\n\u001b[1;32m    671\u001b[0m \u001b[38;5;28;01melse\u001b[39;00m:\n\u001b[1;32m    672\u001b[0m     done: Set[\u001b[38;5;28mstr\u001b[39m] \u001b[38;5;241m=\u001b[39m \u001b[38;5;28mset\u001b[39m()\n\u001b[0;32m--> 673\u001b[0m     \u001b[38;5;28;01myield from\u001b[39;00m \u001b[38;5;28mself\u001b[39m\u001b[38;5;241m.\u001b[39m_search\u001b[38;5;241m.\u001b[39miter(\n\u001b[1;32m    674\u001b[0m         manager,\n\u001b[1;32m    675\u001b[0m         collectionTypes\u001b[38;5;241m=\u001b[39mcollectionTypes,\n\u001b[1;32m    676\u001b[0m         done\u001b[38;5;241m=\u001b[39mdone,\n\u001b[1;32m    677\u001b[0m         flattenChains\u001b[38;5;241m=\u001b[39mflattenChains,\n\u001b[1;32m    678\u001b[0m         includeChains\u001b[38;5;241m=\u001b[39mincludeChains,\n\u001b[1;32m    679\u001b[0m     )\n\u001b[1;32m    680\u001b[0m     \u001b[38;5;28;01mfor\u001b[39;00m record \u001b[38;5;129;01min\u001b[39;00m manager:\n\u001b[1;32m    681\u001b[0m         \u001b[38;5;28;01mif\u001b[39;00m record\u001b[38;5;241m.\u001b[39mname \u001b[38;5;129;01mnot\u001b[39;00m \u001b[38;5;129;01min\u001b[39;00m done \u001b[38;5;129;01mand\u001b[39;00m \u001b[38;5;28many\u001b[39m(p\u001b[38;5;241m.\u001b[39mfullmatch(record\u001b[38;5;241m.\u001b[39mname) \u001b[38;5;28;01mfor\u001b[39;00m p \u001b[38;5;129;01min\u001b[39;00m \u001b[38;5;28mself\u001b[39m\u001b[38;5;241m.\u001b[39m_patterns):\n",
      "File \u001b[0;32m/cvmfs/sw.lsst.eu/linux-x86_64/lsst_distrib/w_2022_09/conda/envs/lsst-scipipe-2.0.0/share/eups/Linux64/daf_butler/g40211b77cd+1008d2a466/python/lsst/daf/butler/registry/wildcards.py:507\u001b[0m, in \u001b[0;36mCollectionSearch.iter\u001b[0;34m(self, manager, datasetType, collectionTypes, done, flattenChains, includeChains)\u001b[0m\n\u001b[1;32m    503\u001b[0m \u001b[38;5;28;01mfor\u001b[39;00m name \u001b[38;5;129;01min\u001b[39;00m \u001b[38;5;28mself\u001b[39m:\n\u001b[1;32m    504\u001b[0m     \u001b[38;5;28;01mif\u001b[39;00m name \u001b[38;5;129;01mnot\u001b[39;00m \u001b[38;5;129;01min\u001b[39;00m done:\n\u001b[1;32m    505\u001b[0m         \u001b[38;5;28;01myield from\u001b[39;00m _yieldCollectionRecords(\n\u001b[1;32m    506\u001b[0m             manager,\n\u001b[0;32m--> 507\u001b[0m             \u001b[43mmanager\u001b[49m\u001b[38;5;241;43m.\u001b[39;49m\u001b[43mfind\u001b[49m\u001b[43m(\u001b[49m\u001b[43mname\u001b[49m\u001b[43m)\u001b[49m,\n\u001b[1;32m    508\u001b[0m             collectionTypes\u001b[38;5;241m=\u001b[39mcollectionTypes,\n\u001b[1;32m    509\u001b[0m             done\u001b[38;5;241m=\u001b[39mdone,\n\u001b[1;32m    510\u001b[0m             flattenChains\u001b[38;5;241m=\u001b[39mflattenChains,\n\u001b[1;32m    511\u001b[0m             includeChains\u001b[38;5;241m=\u001b[39mincludeChains,\n\u001b[1;32m    512\u001b[0m         )\n",
      "File \u001b[0;32m/cvmfs/sw.lsst.eu/linux-x86_64/lsst_distrib/w_2022_09/conda/envs/lsst-scipipe-2.0.0/share/eups/Linux64/daf_butler/g40211b77cd+1008d2a466/python/lsst/daf/butler/registry/collections/_base.py:448\u001b[0m, in \u001b[0;36mDefaultCollectionManager.find\u001b[0;34m(self, name)\u001b[0m\n\u001b[1;32m    446\u001b[0m result \u001b[38;5;241m=\u001b[39m \u001b[38;5;28mself\u001b[39m\u001b[38;5;241m.\u001b[39m_getByName(name)\n\u001b[1;32m    447\u001b[0m \u001b[38;5;28;01mif\u001b[39;00m result \u001b[38;5;129;01mis\u001b[39;00m \u001b[38;5;28;01mNone\u001b[39;00m:\n\u001b[0;32m--> 448\u001b[0m     \u001b[38;5;28;01mraise\u001b[39;00m MissingCollectionError(\u001b[38;5;124mf\u001b[39m\u001b[38;5;124m\"\u001b[39m\u001b[38;5;124mNo collection with name \u001b[39m\u001b[38;5;124m'\u001b[39m\u001b[38;5;132;01m{\u001b[39;00mname\u001b[38;5;132;01m}\u001b[39;00m\u001b[38;5;124m'\u001b[39m\u001b[38;5;124m found.\u001b[39m\u001b[38;5;124m\"\u001b[39m)\n\u001b[1;32m    449\u001b[0m \u001b[38;5;28;01mreturn\u001b[39;00m result\n",
      "\u001b[0;31mMissingCollectionError\u001b[0m: No collection with name 'u/dagoret/first_test3' found."
     ]
    }
   ],
   "source": [
    "collection = \"u/dagoret/first_test2\"\n",
    "datasetRefs = registry.queryDatasets(datasetType='spectraction', collections=collection, \n",
    "                                     where= \"instrument='LATISS'\")"
   ]
  },
  {
   "cell_type": "code",
   "execution_count": null,
   "id": "62c802c0",
   "metadata": {},
   "outputs": [],
   "source": [
    "all_ref_for_spectraction = []\n",
    "\n",
    "for i, ref in enumerate(datasetRefs):\n",
    "    all_ref_for_spectraction.append(ref.dataId)\n",
    "    print(\"======================================================= datasetType = spectraction =================================================================\")\n",
    "   \n",
    "    print(\"fullId: \",ref.dataId.full)\n",
    "    print(\"..................................................................................\")\n",
    "    print(\"band:   \",ref.dataId[\"band\"])\n",
    "    print(\"type:   \",ref.datasetType)\n",
    "    \n",
    "    print(\"++++++++++++++++++++++++++++++++++++++++++++++++++++++++++++++++++++++++++++++++++\")\n",
    "    print(ref.to_simple())\n",
    "    print(\".  .  .  .  .  .  .  .  .  .  .  .  .  .  .  .  .  .  .  .  .  .  .  .  .  .  .  .\")\n",
    "    print(ref.to_json())\n",
    "    print(\"++++++++++++++++++++++++++++++++++++++++++++++++++++++++++++++++++++++++++++++++++\")\n",
    "    \n",
    "    print(\"run = \",ref.run)\n",
    "    print(\"isCalibration: \",ref.datasetType.isCalibration())\n",
    "    \n",
    "    print(\"isComponent:    \",ref.isComponent())\n",
    "    \n",
    "    print(\"isComposite:   \",ref.isComposite()) \n",
    "    \n"
   ]
  },
  {
   "cell_type": "markdown",
   "id": "2ba80c4b",
   "metadata": {},
   "source": [
    "# Found Spectraction "
   ]
  },
  {
   "cell_type": "code",
   "execution_count": null,
   "id": "05538ea4",
   "metadata": {},
   "outputs": [],
   "source": [
    "all_ref_for_spectraction"
   ]
  },
  {
   "cell_type": "markdown",
   "id": "229be1ba",
   "metadata": {},
   "source": [
    "## Select  One dataId found in Spectraction"
   ]
  },
  {
   "cell_type": "code",
   "execution_count": null,
   "id": "216745b6",
   "metadata": {},
   "outputs": [],
   "source": [
    "refid0 = all_ref_for_spectraction[0]\n",
    "refid0"
   ]
  },
  {
   "cell_type": "code",
   "execution_count": null,
   "id": "7454c0f6",
   "metadata": {},
   "outputs": [],
   "source": [
    "refid0[\"visit\"]"
   ]
  },
  {
   "cell_type": "markdown",
   "id": "12b9d909",
   "metadata": {},
   "source": [
    "## Access to postISRCCD"
   ]
  },
  {
   "cell_type": "code",
   "execution_count": null,
   "id": "9494aec9",
   "metadata": {},
   "outputs": [],
   "source": [
    "postisrccd = butler.get('postISRCCD', dataId={'exposure': refid0[\"visit\"], 'instrument': 'LATISS', 'detector': 0}, collections = collection)"
   ]
  },
  {
   "cell_type": "code",
   "execution_count": null,
   "id": "0751a465",
   "metadata": {},
   "outputs": [],
   "source": [
    "fig = plt.figure(figsize=(8,8))\n",
    "afw_display = afwDisplay.Display(1)\n",
    "afw_display.scale('asinh', 'zscale')\n",
    "afw_display.mtv(postisrccd.image)\n",
    "plt.gca().axis('off')"
   ]
  },
  {
   "cell_type": "markdown",
   "id": "ce7f14ae",
   "metadata": {},
   "source": [
    "## Access to Spectraction"
   ]
  },
  {
   "cell_type": "code",
   "execution_count": null,
   "id": "bb07904b",
   "metadata": {},
   "outputs": [],
   "source": [
    "spectraction  = butler.get('spectraction', dataId=refid0, collections = collection)"
   ]
  },
  {
   "cell_type": "code",
   "execution_count": null,
   "id": "00d67ede",
   "metadata": {},
   "outputs": [],
   "source": []
  },
  {
   "cell_type": "markdown",
   "id": "b42f2913",
   "metadata": {},
   "source": [
    "# Extract main components of Spectraction"
   ]
  },
  {
   "cell_type": "code",
   "execution_count": null,
   "id": "1b7abc2a",
   "metadata": {},
   "outputs": [],
   "source": [
    "image = spectraction.image"
   ]
  },
  {
   "cell_type": "code",
   "execution_count": null,
   "id": "00d3080d",
   "metadata": {},
   "outputs": [],
   "source": []
  },
  {
   "cell_type": "code",
   "execution_count": null,
   "id": "c47f97b0",
   "metadata": {},
   "outputs": [],
   "source": [
    "image.target.label"
   ]
  },
  {
   "cell_type": "code",
   "execution_count": null,
   "id": "32bac92b",
   "metadata": {},
   "outputs": [],
   "source": [
    "spectrum = spectraction.spectrum"
   ]
  },
  {
   "cell_type": "code",
   "execution_count": null,
   "id": "fce013ff",
   "metadata": {},
   "outputs": [],
   "source": []
  },
  {
   "cell_type": "code",
   "execution_count": null,
   "id": "ee5dcb04",
   "metadata": {},
   "outputs": [],
   "source": [
    "spec_w = spectraction.w"
   ]
  },
  {
   "cell_type": "code",
   "execution_count": null,
   "id": "a4540b32",
   "metadata": {},
   "outputs": [],
   "source": []
  },
  {
   "cell_type": "markdown",
   "id": "0b860d48",
   "metadata": {},
   "source": [
    "### Start with image"
   ]
  },
  {
   "cell_type": "code",
   "execution_count": null,
   "id": "f0e189dd",
   "metadata": {},
   "outputs": [],
   "source": [
    "airmass = image.airmass\n",
    "airmass"
   ]
  },
  {
   "cell_type": "code",
   "execution_count": null,
   "id": "58d0e006",
   "metadata": {},
   "outputs": [],
   "source": [
    "img = image.data"
   ]
  },
  {
   "cell_type": "code",
   "execution_count": null,
   "id": "1ab027fe",
   "metadata": {},
   "outputs": [],
   "source": [
    "img"
   ]
  },
  {
   "cell_type": "code",
   "execution_count": null,
   "id": "7b710826",
   "metadata": {},
   "outputs": [],
   "source": [
    "fig = plt.figure(figsize=(8,8))\n",
    "plt.imshow(transform(img))\n",
    "plt.show()"
   ]
  },
  {
   "cell_type": "code",
   "execution_count": null,
   "id": "3d3825ad",
   "metadata": {},
   "outputs": [],
   "source": []
  }
 ],
 "metadata": {
  "kernelspec": {
   "display_name": "lsst_distrib_w_2022_09",
   "language": "python",
   "name": "lsst_distrib_w_2022_09"
  },
  "language_info": {
   "codemirror_mode": {
    "name": "ipython",
    "version": 3
   },
   "file_extension": ".py",
   "mimetype": "text/x-python",
   "name": "python",
   "nbconvert_exporter": "python",
   "pygments_lexer": "ipython3",
   "version": "3.8.12"
  }
 },
 "nbformat": 4,
 "nbformat_minor": 5
}
