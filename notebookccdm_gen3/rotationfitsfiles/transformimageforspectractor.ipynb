{
 "cells": [
  {
   "cell_type": "markdown",
   "id": "ef3388c9-7350-45b8-9b48-dec9b23708cd",
   "metadata": {},
   "source": [
    "# Transform the image for Spectractor"
   ]
  },
  {
   "cell_type": "code",
   "execution_count": 1,
   "id": "5f3cfea0-a98e-4a37-9d80-4114ccae6760",
   "metadata": {},
   "outputs": [],
   "source": [
    "import os\n",
    "import matplotlib.pyplot as plt\n",
    "import numpy as np\n",
    "import pandas as pd\n",
    "import re\n",
    "%matplotlib inline\n",
    "from matplotlib.colors import LogNorm\n",
    "\n",
    "from mpl_toolkits.axes_grid1 import make_axes_locatable\n",
    "\n",
    "import matplotlib.ticker                         # here's where the formatter is\n",
    "from matplotlib.ticker import (MultipleLocator, FormatStrFormatter,\n",
    "                               AutoMinorLocator)\n",
    "\n",
    "from astropy.visualization import (ZScaleInterval,MinMaxInterval, SqrtStretch,PercentileInterval,ImageNormalize)\n",
    "from astropy.io import fits"
   ]
  },
  {
   "cell_type": "code",
   "execution_count": 2,
   "id": "fcdceb6e-218c-4903-be4b-9995ad7dad0e",
   "metadata": {},
   "outputs": [],
   "source": [
    "plt.rcParams[\"figure.figsize\"] = (12,12)\n",
    "plt.rcParams[\"axes.labelsize\"] = 'xx-large'\n",
    "plt.rcParams['axes.titlesize'] = 'xx-large'\n",
    "plt.rcParams['xtick.labelsize']= 'xx-large'\n",
    "plt.rcParams['ytick.labelsize']= 'xx-large'"
   ]
  },
  {
   "cell_type": "markdown",
   "id": "f8487f63-5e1b-42d1-88ac-53721f30c2e6",
   "metadata": {},
   "source": [
    "## Configuration"
   ]
  },
  {
   "cell_type": "code",
   "execution_count": 3,
   "id": "e7194735-8997-480c-89c9-b0a7eaada810",
   "metadata": {},
   "outputs": [],
   "source": [
    "transform = ZScaleInterval() + PercentileInterval(99.)\n",
    "#norm = ImageNormalize(stretch=ZScaleInterval())"
   ]
  },
  {
   "cell_type": "code",
   "execution_count": 4,
   "id": "43e59bcf-04b7-4525-86db-6162abfb41f5",
   "metadata": {},
   "outputs": [],
   "source": [
    "DATE=20221207"
   ]
  },
  {
   "cell_type": "code",
   "execution_count": 5,
   "id": "dc5ce6c4-0e62-4af6-a766-116e7c57b85f",
   "metadata": {},
   "outputs": [],
   "source": [
    "FILTER=\"empty~holo4_003\""
   ]
  },
  {
   "cell_type": "code",
   "execution_count": 6,
   "id": "db1f4276-a711-42d5-b66f-a7732b4f51a4",
   "metadata": {},
   "outputs": [],
   "source": [
    "path=\"/sps/lsst/groups/auxtel/data/hack_usdf/isr_img\""
   ]
  },
  {
   "cell_type": "code",
   "execution_count": 7,
   "id": "23f89fa0-4897-407e-9ba2-5935d437dddd",
   "metadata": {},
   "outputs": [],
   "source": [
    "path_out=\"/sps/lsst/groups/auxtel/data/hack_usdf/postisrccd_img\""
   ]
  },
  {
   "cell_type": "code",
   "execution_count": 8,
   "id": "89105e20-48fd-4507-8771-48d60ba716e7",
   "metadata": {},
   "outputs": [],
   "source": [
    "fullpath=f\"{path}/{FILTER}/{DATE}\"\n",
    "fullpath_out=f\"{path_out}/{FILTER}/{DATE}\""
   ]
  },
  {
   "cell_type": "markdown",
   "id": "8a143fd3-6a14-4636-b852-b6516aa562aa",
   "metadata": {},
   "source": [
    "## Create output dir"
   ]
  },
  {
   "cell_type": "code",
   "execution_count": 9,
   "id": "2379b8eb-7b1b-4b25-81de-209f2b053bbb",
   "metadata": {},
   "outputs": [],
   "source": [
    "\n",
    "if not os.path.exists(fullpath_out):\n",
    "    print(f'{fullpath_out} does not exist')\n",
    "    os.makedirs(fullpath_out) \n",
    "    if os.path.exists(fullpath_out):\n",
    "        print(f'{fullpath_out} now exists')\n",
    "    else:\n",
    "        print(f'{fullpath_out} still does\\'nt exists')\n",
    "           "
   ]
  },
  {
   "cell_type": "markdown",
   "id": "ccf3fbae-7a44-46c6-8773-21fa4daa4076",
   "metadata": {},
   "source": [
    "## Make list of files"
   ]
  },
  {
   "cell_type": "code",
   "execution_count": 10,
   "id": "c77552b3-dd8d-47db-8d25-df2e3c7827b8",
   "metadata": {},
   "outputs": [],
   "source": [
    "all_files = os.listdir(fullpath)"
   ]
  },
  {
   "cell_type": "code",
   "execution_count": 11,
   "id": "e0c0a0a2-b223-46d4-a059-0ef9bfbc623e",
   "metadata": {},
   "outputs": [],
   "source": [
    "all_files = sorted(all_files)"
   ]
  },
  {
   "cell_type": "markdown",
   "id": "96fe6637-1b19-4c6e-83e3-6577de10ccec",
   "metadata": {},
   "source": [
    "## Convert files and backup"
   ]
  },
  {
   "cell_type": "code",
   "execution_count": 12,
   "id": "670b662c-cf73-43ea-ad65-1f6cd7b61103",
   "metadata": {},
   "outputs": [
    {
     "name": "stdout",
     "output_type": "stream",
     "text": [
      " write /sps/lsst/groups/auxtel/data/hack_usdf/postisrccd_img/empty~holo4_003/20221207/exposure_2022120700357_postisrccd.fits\n",
      " write /sps/lsst/groups/auxtel/data/hack_usdf/postisrccd_img/empty~holo4_003/20221207/exposure_2022120700361_postisrccd.fits\n",
      " write /sps/lsst/groups/auxtel/data/hack_usdf/postisrccd_img/empty~holo4_003/20221207/exposure_2022120700362_postisrccd.fits\n",
      " write /sps/lsst/groups/auxtel/data/hack_usdf/postisrccd_img/empty~holo4_003/20221207/exposure_2022120700366_postisrccd.fits\n",
      " write /sps/lsst/groups/auxtel/data/hack_usdf/postisrccd_img/empty~holo4_003/20221207/exposure_2022120700367_postisrccd.fits\n",
      " write /sps/lsst/groups/auxtel/data/hack_usdf/postisrccd_img/empty~holo4_003/20221207/exposure_2022120700371_postisrccd.fits\n",
      " write /sps/lsst/groups/auxtel/data/hack_usdf/postisrccd_img/empty~holo4_003/20221207/exposure_2022120700372_postisrccd.fits\n",
      " write /sps/lsst/groups/auxtel/data/hack_usdf/postisrccd_img/empty~holo4_003/20221207/exposure_2022120700376_postisrccd.fits\n",
      " write /sps/lsst/groups/auxtel/data/hack_usdf/postisrccd_img/empty~holo4_003/20221207/exposure_2022120700377_postisrccd.fits\n",
      " write /sps/lsst/groups/auxtel/data/hack_usdf/postisrccd_img/empty~holo4_003/20221207/exposure_2022120700381_postisrccd.fits\n",
      " write /sps/lsst/groups/auxtel/data/hack_usdf/postisrccd_img/empty~holo4_003/20221207/exposure_2022120700382_postisrccd.fits\n",
      " write /sps/lsst/groups/auxtel/data/hack_usdf/postisrccd_img/empty~holo4_003/20221207/exposure_2022120700386_postisrccd.fits\n",
      " write /sps/lsst/groups/auxtel/data/hack_usdf/postisrccd_img/empty~holo4_003/20221207/exposure_2022120700387_postisrccd.fits\n",
      " write /sps/lsst/groups/auxtel/data/hack_usdf/postisrccd_img/empty~holo4_003/20221207/exposure_2022120700391_postisrccd.fits\n",
      " write /sps/lsst/groups/auxtel/data/hack_usdf/postisrccd_img/empty~holo4_003/20221207/exposure_2022120700392_postisrccd.fits\n",
      " write /sps/lsst/groups/auxtel/data/hack_usdf/postisrccd_img/empty~holo4_003/20221207/exposure_2022120700396_postisrccd.fits\n",
      " write /sps/lsst/groups/auxtel/data/hack_usdf/postisrccd_img/empty~holo4_003/20221207/exposure_2022120700397_postisrccd.fits\n",
      " write /sps/lsst/groups/auxtel/data/hack_usdf/postisrccd_img/empty~holo4_003/20221207/exposure_2022120700401_postisrccd.fits\n",
      " write /sps/lsst/groups/auxtel/data/hack_usdf/postisrccd_img/empty~holo4_003/20221207/exposure_2022120700402_postisrccd.fits\n",
      " write /sps/lsst/groups/auxtel/data/hack_usdf/postisrccd_img/empty~holo4_003/20221207/exposure_2022120700406_postisrccd.fits\n",
      " write /sps/lsst/groups/auxtel/data/hack_usdf/postisrccd_img/empty~holo4_003/20221207/exposure_2022120700407_postisrccd.fits\n",
      " write /sps/lsst/groups/auxtel/data/hack_usdf/postisrccd_img/empty~holo4_003/20221207/exposure_2022120700411_postisrccd.fits\n",
      " write /sps/lsst/groups/auxtel/data/hack_usdf/postisrccd_img/empty~holo4_003/20221207/exposure_2022120700412_postisrccd.fits\n",
      " write /sps/lsst/groups/auxtel/data/hack_usdf/postisrccd_img/empty~holo4_003/20221207/exposure_2022120700416_postisrccd.fits\n",
      " write /sps/lsst/groups/auxtel/data/hack_usdf/postisrccd_img/empty~holo4_003/20221207/exposure_2022120700417_postisrccd.fits\n",
      " write /sps/lsst/groups/auxtel/data/hack_usdf/postisrccd_img/empty~holo4_003/20221207/exposure_2022120700421_postisrccd.fits\n",
      " write /sps/lsst/groups/auxtel/data/hack_usdf/postisrccd_img/empty~holo4_003/20221207/exposure_2022120700422_postisrccd.fits\n",
      " write /sps/lsst/groups/auxtel/data/hack_usdf/postisrccd_img/empty~holo4_003/20221207/exposure_2022120700426_postisrccd.fits\n",
      " write /sps/lsst/groups/auxtel/data/hack_usdf/postisrccd_img/empty~holo4_003/20221207/exposure_2022120700427_postisrccd.fits\n",
      " write /sps/lsst/groups/auxtel/data/hack_usdf/postisrccd_img/empty~holo4_003/20221207/exposure_2022120700431_postisrccd.fits\n",
      " write /sps/lsst/groups/auxtel/data/hack_usdf/postisrccd_img/empty~holo4_003/20221207/exposure_2022120700432_postisrccd.fits\n",
      " write /sps/lsst/groups/auxtel/data/hack_usdf/postisrccd_img/empty~holo4_003/20221207/exposure_2022120700436_postisrccd.fits\n",
      " write /sps/lsst/groups/auxtel/data/hack_usdf/postisrccd_img/empty~holo4_003/20221207/exposure_2022120700437_postisrccd.fits\n",
      " write /sps/lsst/groups/auxtel/data/hack_usdf/postisrccd_img/empty~holo4_003/20221207/exposure_2022120700442_postisrccd.fits\n",
      " write /sps/lsst/groups/auxtel/data/hack_usdf/postisrccd_img/empty~holo4_003/20221207/exposure_2022120700443_postisrccd.fits\n",
      " write /sps/lsst/groups/auxtel/data/hack_usdf/postisrccd_img/empty~holo4_003/20221207/exposure_2022120700447_postisrccd.fits\n",
      " write /sps/lsst/groups/auxtel/data/hack_usdf/postisrccd_img/empty~holo4_003/20221207/exposure_2022120700448_postisrccd.fits\n",
      " write /sps/lsst/groups/auxtel/data/hack_usdf/postisrccd_img/empty~holo4_003/20221207/exposure_2022120700453_postisrccd.fits\n",
      " write /sps/lsst/groups/auxtel/data/hack_usdf/postisrccd_img/empty~holo4_003/20221207/exposure_2022120700454_postisrccd.fits\n",
      " write /sps/lsst/groups/auxtel/data/hack_usdf/postisrccd_img/empty~holo4_003/20221207/exposure_2022120700458_postisrccd.fits\n",
      " write /sps/lsst/groups/auxtel/data/hack_usdf/postisrccd_img/empty~holo4_003/20221207/exposure_2022120700459_postisrccd.fits\n",
      " write /sps/lsst/groups/auxtel/data/hack_usdf/postisrccd_img/empty~holo4_003/20221207/exposure_2022120700463_postisrccd.fits\n",
      " write /sps/lsst/groups/auxtel/data/hack_usdf/postisrccd_img/empty~holo4_003/20221207/exposure_2022120700464_postisrccd.fits\n"
     ]
    }
   ],
   "source": [
    "for index,filename in enumerate(all_files):\n",
    "   \n",
    "    fits_image_filename=os.path.join(fullpath,all_files[index])\n",
    "    m=re.findall('isr_img_(.*)_.*[.]fits$',filename)[0]\n",
    "    filename_out=f\"exposure_{m}_postisrccd.fits\"\n",
    "    fullfilename_out=os.path.join(fullpath_out,filename_out)\n",
    "   \n",
    "    hdul = fits.open(fits_image_filename)\n",
    "    hdr = hdul[0].header\n",
    "    img = hdul[0].data\n",
    "    rotated_array = img[::-1,::-1]\n",
    "    \n",
    "    primary_hdu = fits.PrimaryHDU(header=hdr)\n",
    "    image_hdu = fits.ImageHDU(rotated_array)\n",
    "    hdu_list = fits.HDUList([primary_hdu, image_hdu])\n",
    "    \n",
    "    print(f\" write {fullfilename_out}\")\n",
    "    \n",
    "    hdu_list.writeto(fullfilename_out ,overwrite=True)\n",
    "     "
   ]
  },
  {
   "cell_type": "code",
   "execution_count": null,
   "id": "b9284bfe-df1a-480b-930d-459f5d4af8f8",
   "metadata": {},
   "outputs": [],
   "source": []
  }
 ],
 "metadata": {
  "kernelspec": {
   "display_name": "anaconda3_py39_auxtel",
   "language": "python",
   "name": "anaconda3_py39_auxtel"
  },
  "language_info": {
   "codemirror_mode": {
    "name": "ipython",
    "version": 3
   },
   "file_extension": ".py",
   "mimetype": "text/x-python",
   "name": "python",
   "nbconvert_exporter": "python",
   "pygments_lexer": "ipython3",
   "version": "3.9.13"
  }
 },
 "nbformat": 4,
 "nbformat_minor": 5
}
