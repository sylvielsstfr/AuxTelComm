{
 "cells": [
  {
   "cell_type": "markdown",
   "metadata": {},
   "source": [
    "# Fit equivalent width on SED\n",
    "\n",
    "- Author Sylvie Dagoret-Campagne\n",
    "- Creation : April 9th 2022\n",
    "- Update : October 7th 2019"
   ]
  },
  {
   "cell_type": "code",
   "execution_count": 2,
   "metadata": {},
   "outputs": [],
   "source": [
    "import os\n",
    "import numpy as np"
   ]
  },
  {
   "cell_type": "code",
   "execution_count": null,
   "metadata": {},
   "outputs": [],
   "source": [
    "from astropy.io import fits"
   ]
  },
  {
   "cell_type": "code",
   "execution_count": null,
   "metadata": {},
   "outputs": [],
   "source": [
    "import matplotlib as mpl\n",
    "import matplotlib.pyplot as plt\n",
    "%matplotlib inline\n",
    "\n",
    "import matplotlib.colors as colors\n",
    "import matplotlib.cm as cmx\n",
    "import matplotlib.dates as mdates\n",
    "from matplotlib import gridspec\n",
    "%matplotlib inline\n",
    "from mpl_toolkits.axes_grid1.inset_locator import inset_axes"
   ]
  },
  {
   "cell_type": "code",
   "execution_count": null,
   "metadata": {},
   "outputs": [],
   "source": [
    "from spectractor.extractor.spectroscopy import Lines, Line ,HALPHA, HBETA, HGAMMA, HDELTA,HEPSILON\n",
    "import astropy.units as u"
   ]
  },
  {
   "cell_type": "code",
   "execution_count": null,
   "metadata": {},
   "outputs": [],
   "source": [
    "import pysynphot as S"
   ]
  },
  {
   "cell_type": "code",
   "execution_count": null,
   "metadata": {},
   "outputs": [],
   "source": [
    "pysynphot_root_path=os.environ['PYSYN_CDBS']\n",
    "path_sed_calspec=os.path.join(pysynphot_root_path,'calspec')"
   ]
  },
  {
   "cell_type": "code",
   "execution_count": null,
   "metadata": {},
   "outputs": [],
   "source": [
    "plt.rcParams[\"axes.labelsize\"]=\"large\"\n",
    "plt.rcParams[\"axes.linewidth\"]=2.0\n",
    "plt.rcParams[\"xtick.major.size\"]=8\n",
    "plt.rcParams[\"ytick.major.size\"]=8\n",
    "plt.rcParams[\"ytick.minor.size\"]=5\n",
    "plt.rcParams[\"xtick.labelsize\"]=\"large\"\n",
    "plt.rcParams[\"ytick.labelsize\"]=\"large\"\n",
    "\n",
    "plt.rcParams[\"figure.figsize\"]=(24,18)\n",
    "plt.rcParams['axes.titlesize'] = 16\n",
    "plt.rcParams['axes.titleweight'] = 'bold'\n",
    "#plt.rcParams['axes.facecolor'] = 'blue'\n",
    "plt.rcParams['xtick.direction'] = 'out'\n",
    "plt.rcParams['ytick.direction'] = 'out'\n",
    "plt.rcParams['lines.markeredgewidth'] = 0.3 # the line width around the marker symbol\n",
    "plt.rcParams['lines.markersize'] = 5  # markersize, in points\n",
    "plt.rcParams['grid.alpha'] = 0.75 # transparency, between 0.0 and 1.0\n",
    "plt.rcParams['grid.linestyle'] = '-' # simple line\n",
    "plt.rcParams['grid.linewidth'] = 0.4 # in points\n",
    "plt.rcParams['font.size'] = 13"
   ]
  },
  {
   "cell_type": "markdown",
   "metadata": {},
   "source": [
    "# Read calspec SED"
   ]
  },
  {
   "cell_type": "code",
   "execution_count": null,
   "metadata": {},
   "outputs": [],
   "source": [
    "#sed_filename=\"eta1dor_stis_002.fits\"\n",
    "#targetname=\"ETA1 DOR\""
   ]
  },
  {
   "cell_type": "code",
   "execution_count": null,
   "metadata": {},
   "outputs": [],
   "source": [
    "sed_filename=\"mucol_stis_005.fits\"\n",
    "targetname=\"Mu Col\""
   ]
  },
  {
   "cell_type": "markdown",
   "metadata": {},
   "source": [
    "# Flux in linear scale"
   ]
  },
  {
   "cell_type": "code",
   "execution_count": null,
   "metadata": {},
   "outputs": [],
   "source": [
    "WLMIN=3000\n",
    "WLMAX=11000"
   ]
  },
  {
   "cell_type": "code",
   "execution_count": null,
   "metadata": {
    "scrolled": false
   },
   "outputs": [],
   "source": [
    "\n",
    "figure=plt.figure(figsize=(14,10))        \n",
    "fullfilename=os.path.join(path_sed_calspec,sed_filename)\n",
    "spec=S.FileSpectrum(fullfilename)\n",
    "    \n",
    "#        spec.convert('photlam')\n",
    "#        spec.convert('nm')    \n",
    "        \n",
    "        \n",
    "plt.plot(spec.wave, spec.flux,color=\"r\")\n",
    "            \n",
    "plt.xlim(WLMIN,WLMAX)\n",
    "\n",
    "plt.grid()\n",
    "\n",
    "fign=\"all_viscalspec_spectra_lin.pdf\"\n",
    "xlabel=' $\\\\lambda$ ({})'.format(spec.waveunits.name)\n",
    "ylabel=' flux ({})'.format(spec.fluxunits.name)\n",
    "plt.xlabel(xlabel,fontsize=15)\n",
    "plt.ylabel(ylabel,fontsize=15)\n",
    "plt.title(\"Visible CALSPEC SED\")\n",
    "plt.grid(color=\"k\")\n",
    "plt.savefig(fign)"
   ]
  },
  {
   "cell_type": "markdown",
   "metadata": {},
   "source": [
    "# Interpolate"
   ]
  },
  {
   "cell_type": "code",
   "execution_count": null,
   "metadata": {},
   "outputs": [],
   "source": [
    "WL=np.arange(WLMIN,WLMAX)"
   ]
  },
  {
   "cell_type": "code",
   "execution_count": null,
   "metadata": {},
   "outputs": [],
   "source": [
    "F=np.interp(WL,spec.wave, spec.flux)"
   ]
  },
  {
   "cell_type": "code",
   "execution_count": null,
   "metadata": {},
   "outputs": [],
   "source": []
  },
  {
   "cell_type": "code",
   "execution_count": null,
   "metadata": {},
   "outputs": [],
   "source": []
  },
  {
   "cell_type": "markdown",
   "metadata": {},
   "source": [
    "# Compute equivalent width"
   ]
  },
  {
   "cell_type": "code",
   "execution_count": null,
   "metadata": {},
   "outputs": [],
   "source": [
    "from specutils import Spectrum1D\n",
    "from specutils.fitting import fit_generic_continuum,fit_continuum\n",
    "from specutils import SpectralRegion\n",
    "from specutils.analysis import equivalent_width\n",
    "from astropy.modeling import models\n",
    "from specutils.manipulation import extract_region"
   ]
  },
  {
   "cell_type": "code",
   "execution_count": null,
   "metadata": {},
   "outputs": [],
   "source": [
    "import matplotlib.offsetbox\n",
    "props = dict(boxstyle='round',edgecolor=\"w\",facecolor=\"w\", alpha=0.5)"
   ]
  },
  {
   "cell_type": "code",
   "execution_count": null,
   "metadata": {},
   "outputs": [],
   "source": [
    "lamb = WL * u.AA \n",
    "flux = F * u.Unit('erg cm-2 s-1 AA-1') \n",
    "#fluxerr = s.err * u.Unit('erg cm-2 s-1 AA-1')/10. \n",
    "spec = Spectrum1D(spectral_axis=lamb, flux=flux)\n",
    "#specerr = Spectrum1D(spectral_axis=lamb, flux=fluxerr)"
   ]
  },
  {
   "cell_type": "code",
   "execution_count": null,
   "metadata": {},
   "outputs": [],
   "source": [
    "spec"
   ]
  },
  {
   "cell_type": "code",
   "execution_count": null,
   "metadata": {},
   "outputs": [],
   "source": [
    "fig=plt.figure(figsize=(8,6)) \n",
    "ax = fig.add_subplot(1,1,1)  \n",
    "ax.step(spec.spectral_axis, spec.flux,'b-') "
   ]
  },
  {
   "cell_type": "code",
   "execution_count": null,
   "metadata": {},
   "outputs": [],
   "source": [
    "def ComputeMyEquivWidth(spec,wlmin,wlmax,wlminline,wlmaxline,flag_plot=True,ax1=None,ax2=None):\n",
    "    \"\"\"\n",
    "    \"\"\"\n",
    "       # line central position        \n",
    "    wlline0 = np.average([wlminline.value,wlmaxline.value])\n",
    "    \n",
    "    # region used to fit bacgroud        \n",
    "    sub_region = SpectralRegion(wlmin , wlmax)\n",
    "    # line region to remove background\n",
    "    line_region = SpectralRegion(wlminline , wlmaxline)\n",
    "    \n",
    "    # region where one extract the spectrum\n",
    "    sub_spectrum = extract_region(spec, sub_region)\n",
    "    \n",
    "    # initialisaition of linear model\n",
    "    g_init = models.Linear1D(slope=0,intercept=1e-12)\n",
    "    \n",
    "    # fit on sub-spectrum\n",
    "    g1_fit = fit_generic_continuum(sub_spectrum,model=g_init,exclude_regions=[line_region])\n",
    "    # fit by keeping the whole spectrum , but fitting on hte relevant part of the spectrum\n",
    "    g2_fit = fit_continuum(spec,model=g_init,window=sub_region,exclude_regions=[line_region])\n",
    "    \n",
    "    \n",
    "    y_continuum_fitted1 = g1_fit(sub_spectrum.spectral_axis)\n",
    "    y_continuum_fitted2 = g2_fit(spec.spectral_axis)\n",
    "    \n",
    "    # normalize the spectrum\n",
    "    cont_norm_spec = spec/ y_continuum_fitted2 \n",
    "    \n",
    "    \n",
    "    # work with inset\n",
    "    idx_inset0 = np.where(np.logical_and(spec.spectral_axis>wlminline , spec.spectral_axis<wlmaxline))[0]\n",
    "    idx_inset1 = np.where(np.logical_and(spec.spectral_axis>wlmin , spec.spectral_axis<wlmax))[0]\n",
    "    \n",
    "    \n",
    "    wl_inset0 = spec.spectral_axis[idx_inset0]\n",
    "    wl_inset1 = spec.spectral_axis[idx_inset1]\n",
    "    \n",
    "    fluxratio_inset0 = 1-cont_norm_spec.flux[idx_inset0]\n",
    "    fluxratio_inset1 = 1-cont_norm_spec.flux[idx_inset1]\n",
    "    \n",
    "    # compute equivalent width by integration of (1-fluxratio(wl)) dwl\n",
    "    eqw3 = np.trapz(fluxratio_inset0,wl_inset0)\n",
    "    \n",
    "    \n",
    "    eqw1=equivalent_width(cont_norm_spec, regions=line_region) \n",
    "    eqw2=equivalent_width(cont_norm_spec, regions=sub_region)  \n",
    "    \n",
    "    \n",
    "    if flag_plot:\n",
    "        \n",
    "        YMIN=spec.flux.min()\n",
    "        YMAX=1.2*spec.flux.max()\n",
    "        \n",
    "        eqw_str1=\"$Eqw_1$ = {:2.2f} $\\AA$ \".format(eqw1.value)\n",
    "        eqw_str2=\"$Eqw_2$ = {:2.2f} $\\AA$ \".format(eqw2.value)\n",
    "        eqw_str3=\"$Eqw_3$ = {:2.2f} $\\AA$ \".format(eqw3.value)\n",
    "    \n",
    "    \n",
    "        eqw_str='\\n'.join((\n",
    "        r'{}'.format(eqw_str1),\n",
    "        r'{}'.format(eqw_str2),\n",
    "        r'{}'.format(eqw_str3)))\n",
    "        \n",
    "        if ax1==None: \n",
    "            f, ax1 = plt.subplots(figsize=(8,4))\n",
    "            \n",
    "        ax1.plot(spec.spectral_axis, spec.flux,'k-')  \n",
    "        ax1.plot(sub_spectrum.spectral_axis, y_continuum_fitted1,'r-.',label=\"fit region\")  \n",
    "        ax1.plot(spec.spectral_axis, y_continuum_fitted2,'b:',label=\"extrapolated fit continuum\")  \n",
    "        ax1.set_title(\"Local continuum fitting\")  \n",
    "        ax1.grid(True)  \n",
    "        ax1.legend()\n",
    "        ax1.axvline(wlminline.value,color='r')\n",
    "        ax1.axvline(wlmaxline.value,color=\"r\")\n",
    "        ax1.axvline(wlmin.value,color='g')\n",
    "        ax1.axvline(wlmax.value,color=\"g\")\n",
    "        ax1.set_ylim(YMIN.value,YMAX.value)\n",
    "        \n",
    "        \n",
    "        if ax2==None:\n",
    "            f, ax2 = plt.subplots(figsize=(8,4)) \n",
    "            \n",
    "            \n",
    "        ax2.plot(spec.spectral_axis, cont_norm_spec.flux,'k-')  \n",
    "        ax2.set_title(\"Equivalent width\")  \n",
    "        ax2.grid(True)  \n",
    "        ax2.legend()\n",
    "        ax2.axvline(wlminline.value,color='r')\n",
    "        ax2.axvline(wlmaxline.value,color=\"r\")\n",
    "        ax2.axvline(wlmin.value,color='g')\n",
    "        ax2.axvline(wlmax.value,color=\"g\")\n",
    "        ax2.set_ylim(0,2)\n",
    "        if wlline0 > 7000:\n",
    "            ax2.text(0.05, 0.3, eqw_str, transform=ax2.transAxes, fontsize=12,verticalalignment='top', bbox=props)\n",
    "        else:\n",
    "            ax2.text(0.55, 0.3, eqw_str, transform=ax2.transAxes, fontsize=12,verticalalignment='top', bbox=props)\n",
    "                    \n",
    "        \n",
    "        # plot insert  on right figure\n",
    "        if wlline0 > 7000:\n",
    "            loc=2\n",
    "        else:\n",
    "            loc=1\n",
    "        \n",
    "        axins = inset_axes(ax2,\n",
    "                    width=\"42%\", # width = 30% of parent_bbox\n",
    "                    height=\"42%\", # height : 1 inch\n",
    "                    loc=loc)\n",
    "        axins.plot(spec.spectral_axis[idx_inset1], cont_norm_spec.flux[idx_inset1],'b-')\n",
    "        axins.plot(spec.spectral_axis[idx_inset0], cont_norm_spec.flux[idx_inset0],'r-o')\n",
    "        \n",
    "        #axins.plot(wl_inset1, fluxratio_inset1,'b-')\n",
    "        #axins.plot(wl_inset0, fluxratio_inset0,'r-o')\n",
    "            \n",
    "        \n",
    "        axins.grid()\n",
    "        \n",
    "        \n",
    "        \n",
    "        # plot insert  on right figure\n",
    "        if wlline0 > 7000:\n",
    "            loc=3\n",
    "        else:\n",
    "            loc=4\n",
    "        \n",
    "        axins1 = inset_axes(ax1,\n",
    "                    width=\"30%\", # width = 30% of parent_bbox\n",
    "                    height=\"30%\", # height : 1 inch\n",
    "                    loc=loc)\n",
    "        axins1.plot(spec.spectral_axis[idx_inset1], cont_norm_spec.flux[idx_inset1],'b-')\n",
    "        axins1.plot(spec.spectral_axis[idx_inset0], cont_norm_spec.flux[idx_inset0],'r-o')\n",
    "        \n",
    "        #axins.plot(wl_inset1, fluxratio_inset1,'b-')\n",
    "        #axins.plot(wl_inset0, fluxratio_inset0,'r-o')\n",
    "            \n",
    "        \n",
    "        axins1.grid()\n",
    "            \n",
    "        \n",
    "    return eqw1.value,eqw2.value,eqw3.value     \n"
   ]
  },
  {
   "cell_type": "markdown",
   "metadata": {},
   "source": [
    "## Halpha"
   ]
  },
  {
   "cell_type": "code",
   "execution_count": null,
   "metadata": {},
   "outputs": [],
   "source": [
    "wlmin=10*(HALPHA.wavelength-30)*u.AA\n",
    "wlmax=10*(HALPHA.wavelength+30)*u.AA\n",
    "wlminline=10*(HALPHA.wavelength-10)*u.AA\n",
    "wlmaxline=10*(HALPHA.wavelength+10)*u.AA"
   ]
  },
  {
   "cell_type": "code",
   "execution_count": null,
   "metadata": {
    "scrolled": false
   },
   "outputs": [],
   "source": [
    "fig=plt.figure(figsize=(16,4))\n",
    "ax1 = fig.add_subplot(1, 2, 1)\n",
    "ax2 = fig.add_subplot(1, 2, 2)\n",
    "#eq1,eq2=ComputeEquivWidth(spec,wlmin,wlmax,wlminline,wlmaxline,flag_plot=True,ax1=ax1,ax2=ax2)\n",
    "eq1,eq2,eq3=ComputeMyEquivWidth(spec,wlmin,wlmax,wlminline,wlmaxline,flag_plot=True,ax1=ax1,ax2=ax2)\n",
    "plt.suptitle(f\"equivalent width of Halpha line for target {targetname}\")"
   ]
  },
  {
   "cell_type": "markdown",
   "metadata": {},
   "source": [
    "## Hbeta"
   ]
  },
  {
   "cell_type": "code",
   "execution_count": null,
   "metadata": {},
   "outputs": [],
   "source": [
    "wlmin=10*(HBETA.wavelength-35)*u.AA\n",
    "wlmax=10*(HBETA.wavelength+30)*u.AA\n",
    "wlminline=10*(HBETA.wavelength-7)*u.AA\n",
    "wlmaxline=10*(HBETA.wavelength+7)*u.AA"
   ]
  },
  {
   "cell_type": "code",
   "execution_count": null,
   "metadata": {},
   "outputs": [],
   "source": [
    "fig=plt.figure(figsize=(16,4))\n",
    "ax1 = fig.add_subplot(1, 2, 1)\n",
    "ax2 = fig.add_subplot(1, 2, 2)\n",
    "#eq1,eq2=ComputeEquivWidth(spec,wlmin,wlmax,wlminline,wlmaxline,flag_plot=True,ax1=ax1,ax2=ax2)\n",
    "eq1,eq2,eq3=ComputeMyEquivWidth(spec,wlmin,wlmax,wlminline,wlmaxline,flag_plot=True,ax1=ax1,ax2=ax2)\n",
    "plt.suptitle(f\"equivalent width of Halpha line for target {targetname}\")"
   ]
  },
  {
   "cell_type": "markdown",
   "metadata": {},
   "source": [
    "## HGamma"
   ]
  },
  {
   "cell_type": "code",
   "execution_count": null,
   "metadata": {},
   "outputs": [],
   "source": [
    "wlmin=10*(HGAMMA.wavelength-10)*u.AA\n",
    "wlmax=10*(HGAMMA.wavelength+10)*u.AA\n",
    "wlminline=10*(HGAMMA.wavelength-6)*u.AA\n",
    "wlmaxline=10*(HGAMMA.wavelength+7)*u.AA"
   ]
  },
  {
   "cell_type": "code",
   "execution_count": null,
   "metadata": {},
   "outputs": [],
   "source": [
    "fig=plt.figure(figsize=(16,4))\n",
    "ax1 = fig.add_subplot(1, 2, 1)\n",
    "ax2 = fig.add_subplot(1, 2, 2)\n",
    "#eq1,eq2=ComputeEquivWidth(spec,wlmin,wlmax,wlminline,wlmaxline,flag_plot=True,ax1=ax1,ax2=ax2)\n",
    "eq1,eq2,eq3=ComputeMyEquivWidth(spec,wlmin,wlmax,wlminline,wlmaxline,flag_plot=True,ax1=ax1,ax2=ax2)\n",
    "plt.suptitle(f\"equivalent width of Hgamma line for target {targetname}\")"
   ]
  },
  {
   "cell_type": "code",
   "execution_count": null,
   "metadata": {},
   "outputs": [],
   "source": []
  }
 ],
 "metadata": {
  "kernelspec": {
   "display_name": "python3_base",
   "language": "python",
   "name": "python3"
  },
  "language_info": {
   "codemirror_mode": {
    "name": "ipython",
    "version": 3
   },
   "file_extension": ".py",
   "mimetype": "text/x-python",
   "name": "python",
   "nbconvert_exporter": "python",
   "pygments_lexer": "ipython3",
   "version": "3.9.7"
  },
  "toc": {
   "base_numbering": 1,
   "nav_menu": {},
   "number_sections": true,
   "sideBar": true,
   "skip_h1_title": false,
   "title_cell": "Table of Contents",
   "title_sidebar": "Contents",
   "toc_cell": false,
   "toc_position": {},
   "toc_section_display": "block",
   "toc_window_display": false
  }
 },
 "nbformat": 4,
 "nbformat_minor": 4
}
