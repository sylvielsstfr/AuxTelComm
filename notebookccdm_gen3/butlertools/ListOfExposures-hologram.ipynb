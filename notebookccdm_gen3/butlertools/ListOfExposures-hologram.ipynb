{
 "cells": [
  {
   "cell_type": "markdown",
   "id": "c813ed6a",
   "metadata": {
    "tags": []
   },
   "source": [
    "# List of Exposures with Hologram\n",
    "\n",
    "\n",
    "- work with Weakly_2022_09\n",
    "- use jupyter kernel LSST\n",
    "\n",
    "\n",
    "\n",
    "- author : Sylvie Dagoret-Campagne\n",
    "- affiliation : IJCLab\n",
    "- creation date : 2022/03/22\n",
    "\n",
    "- update : 2022/05/05\n",
    "- last update : 2022/05/19 : check if 2022/05/04 where already ingested\n",
    "- last update : 2022/09/13\n"
   ]
  },
  {
   "cell_type": "code",
   "execution_count": 1,
   "id": "2fb5982e-1d3d-44cb-a2b4-ac456a95b8a0",
   "metadata": {},
   "outputs": [
    {
     "name": "stdout",
     "output_type": "stream",
     "text": [
      "/sps/lsst/groups/auxtel/softs/utils/anaconda3_nov2022/bin/python\n"
     ]
    }
   ],
   "source": [
    "import sys\n",
    "print(sys.executable)"
   ]
  },
  {
   "cell_type": "code",
   "execution_count": 2,
   "id": "607223bb-3a47-4d26-a3d6-4195a3d08359",
   "metadata": {},
   "outputs": [
    {
     "name": "stdout",
     "output_type": "stream",
     "text": [
      "['/pbs/throng/lsst/users/dagoret/desc/AuxTelComm/notebookccdm_gen3/butlertools', '/sps/lsst/groups/auxtel/softs/utils/anaconda3_nov2022/lib/python39.zip', '/sps/lsst/groups/auxtel/softs/utils/anaconda3_nov2022/lib/python3.9', '/sps/lsst/groups/auxtel/softs/utils/anaconda3_nov2022/lib/python3.9/lib-dynload', '', '/sps/lsst/groups/auxtel/softs/utils/anaconda3_nov2022/lib/python3.9/site-packages', '/sps/lsst/groups/auxtel/softs/utils/anaconda3_nov2022/lib/python3.9/site-packages/Spectractor-2.1-py3.9.egg', '/sps/lsst/groups/auxtel/softs/utils/anaconda3_nov2022/lib/python3.9/site-packages/IPython/extensions', '/pbs/home/d/dagoret/.ipython']\n"
     ]
    }
   ],
   "source": [
    "print(sys.path)"
   ]
  },
  {
   "cell_type": "code",
   "execution_count": 3,
   "id": "2e1f28b1",
   "metadata": {},
   "outputs": [
    {
     "name": "stdout",
     "output_type": "stream",
     "text": [
      "/bin/bash: eups: command not found\n"
     ]
    }
   ],
   "source": [
    "! eups list -s | grep LOCAL"
   ]
  },
  {
   "cell_type": "code",
   "execution_count": 4,
   "id": "8d301387-7065-4c85-897e-9e91b477c2b0",
   "metadata": {},
   "outputs": [
    {
     "name": "stdout",
     "output_type": "stream",
     "text": [
      "\n",
      "/bin/bash: eups: command not found\n"
     ]
    }
   ],
   "source": [
    "! echo $IMAGE_DESCRIPTION\n",
    "! eups list -s lsst_distrib"
   ]
  },
  {
   "cell_type": "code",
   "execution_count": 5,
   "id": "ea83b669",
   "metadata": {},
   "outputs": [],
   "source": [
    "import os\n",
    "import matplotlib.pyplot as plt\n",
    "import numpy as np\n",
    "import pandas as pd\n",
    "%matplotlib inline\n",
    "from matplotlib.colors import LogNorm\n",
    "\n",
    "from mpl_toolkits.axes_grid1 import make_axes_locatable\n",
    "\n",
    "import matplotlib.ticker                         # here's where the formatter is\n",
    "from matplotlib.ticker import (MultipleLocator, FormatStrFormatter,\n",
    "                               AutoMinorLocator)\n",
    "\n",
    "from astropy.io import fits"
   ]
  },
  {
   "cell_type": "code",
   "execution_count": 6,
   "id": "d7c8c61f-5cfa-4c25-9a5a-97c2eb50fa29",
   "metadata": {},
   "outputs": [
    {
     "ename": "ModuleNotFoundError",
     "evalue": "No module named 'lsst'",
     "output_type": "error",
     "traceback": [
      "\u001b[0;31m---------------------------------------------------------------------------\u001b[0m",
      "\u001b[0;31mModuleNotFoundError\u001b[0m                       Traceback (most recent call last)",
      "\u001b[0;32m/scratch/users/d/dagoret/ipykernel_17441/858914926.py\u001b[0m in \u001b[0;36m<module>\u001b[0;34m\u001b[0m\n\u001b[0;32m----> 1\u001b[0;31m \u001b[0;32mimport\u001b[0m \u001b[0mlsst\u001b[0m\u001b[0;34m.\u001b[0m\u001b[0mafw\u001b[0m\u001b[0;34m.\u001b[0m\u001b[0mdisplay\u001b[0m \u001b[0;32mas\u001b[0m \u001b[0mafwDisplay\u001b[0m\u001b[0;34m\u001b[0m\u001b[0;34m\u001b[0m\u001b[0m\n\u001b[0m\u001b[1;32m      2\u001b[0m \u001b[0mafwDisplay\u001b[0m\u001b[0;34m.\u001b[0m\u001b[0msetDefaultBackend\u001b[0m\u001b[0;34m(\u001b[0m\u001b[0;34m'matplotlib'\u001b[0m\u001b[0;34m)\u001b[0m\u001b[0;34m\u001b[0m\u001b[0;34m\u001b[0m\u001b[0m\n",
      "\u001b[0;31mModuleNotFoundError\u001b[0m: No module named 'lsst'"
     ]
    }
   ],
   "source": [
    "import lsst.afw.display as afwDisplay\n",
    "afwDisplay.setDefaultBackend('matplotlib')"
   ]
  },
  {
   "cell_type": "code",
   "execution_count": null,
   "id": "7a36f8cd",
   "metadata": {},
   "outputs": [],
   "source": [
    "import lsst.daf.butler as dafButler"
   ]
  },
  {
   "cell_type": "code",
   "execution_count": null,
   "id": "7c5944d1-0cbb-42bc-9ea9-a7ff39e25a01",
   "metadata": {},
   "outputs": [],
   "source": [
    "repo = '/sps/lsst/groups/auxtel/softs/shared/auxteldm_gen3/data/butler.yaml'\n",
    "butler = dafButler.Butler(repo)\n",
    "registry = butler.registry"
   ]
  },
  {
   "cell_type": "markdown",
   "id": "7f19fb5d-52b7-4819-8544-d2af41bc62ee",
   "metadata": {},
   "source": [
    "## List of Exposures"
   ]
  },
  {
   "cell_type": "code",
   "execution_count": null,
   "id": "21511621-0c1f-4ada-9134-47e1fb3081c0",
   "metadata": {},
   "outputs": [],
   "source": [
    "df_exposure = pd.DataFrame(columns=['id', 'obs_id','day_obs', 'seq_num', 'type', 'target','filter','zenith_angle','expos','ra','dec','skyangle'])"
   ]
  },
  {
   "cell_type": "code",
   "execution_count": null,
   "id": "9f1cb1a9-f90e-43a5-8451-7d342b7a4542",
   "metadata": {},
   "outputs": [],
   "source": [
    "for count, info in enumerate(registry.queryDimensionRecords('exposure')):\n",
    "    \n",
    "    \n",
    "    df_exposure.loc[count] = [info.id, info.obs_id, info.day_obs, info.seq_num, info.observation_type, info.target_name, info.physical_filter, info.zenith_angle, \\\n",
    "                             info.exposure_time,info.tracking_ra, info.tracking_dec, info.sky_angle]\n",
    "    \n",
    "    if count < 0:\n",
    "        print(\"-----------------------------------------------------\",count,\"---------------------------------------------------------\")\n",
    "        print(info)\n",
    "        print(\"\\t id:                  \",info.id)\n",
    "        print(\"\\t day_obs:             \",info.day_obs)\n",
    "        print(\"\\t seq_num:             \",info.seq_num)\n",
    "        print(\"\\t type-of-observation: \",info.observation_type)\n",
    "        print(\"\\t target:              \",info.target_name)\n",
    "    "
   ]
  },
  {
   "cell_type": "code",
   "execution_count": null,
   "id": "09347e6d-92ca-40f4-b223-a95f02f3f484",
   "metadata": {},
   "outputs": [],
   "source": [
    "df_exposure"
   ]
  },
  {
   "cell_type": "markdown",
   "id": "323b7c09-00c3-46c7-b542-9651b4de493d",
   "metadata": {},
   "source": [
    "## Selection of science"
   ]
  },
  {
   "cell_type": "code",
   "execution_count": null,
   "id": "74fd2466-f031-465e-b36c-9680532fe9b3",
   "metadata": {},
   "outputs": [],
   "source": [
    "df_science = df_exposure[df_exposure.type == 'science']"
   ]
  },
  {
   "cell_type": "code",
   "execution_count": null,
   "id": "eea99dca-791a-43d2-85ec-e8d098526141",
   "metadata": {},
   "outputs": [],
   "source": [
    "df_science.sort_values(by=\"id\",ascending=True,inplace=True)"
   ]
  },
  {
   "cell_type": "code",
   "execution_count": null,
   "id": "53851875-e2d9-48c4-a138-a5e62ed237d2",
   "metadata": {},
   "outputs": [],
   "source": [
    "df_science.tail(60)"
   ]
  },
  {
   "cell_type": "code",
   "execution_count": null,
   "id": "30ae40c5-c57a-4fc9-9abd-3068b59c4ce1",
   "metadata": {},
   "outputs": [],
   "source": [
    "df_science.day_obs.unique()"
   ]
  },
  {
   "cell_type": "markdown",
   "id": "d3eb1a05-2a73-4e70-baad-f1597b4594eb",
   "metadata": {},
   "source": [
    "## Selection of date"
   ]
  },
  {
   "cell_type": "markdown",
   "id": "9cf7f6a7-2825-429a-addb-fff57b3c6694",
   "metadata": {},
   "source": [
    "2021-02-16  2021-02-18  2021-06-08  2021-06-10  2021-07-07  2021-09-07  2021-09-09  2021-10-06  2021-11-02  2021-11-04  2022-02-16  2022-03-15  2022-03-17  20220502  \n",
    "2021-02-17  2021-03-11  2021-06-09  2021-07-06  2021-07-08  2021-09-08  2021-10-05  2021-10-07  2021-11-03  2022-02-15  2022-02-17  2022-03-16  2022-03-18  20220503 20220524 20220607 20220608 20220609"
   ]
  },
  {
   "cell_type": "markdown",
   "id": "3c19db71-67d6-4e6f-a825-10b6adcb7ca3",
   "metadata": {},
   "source": [
    "### Add those\n",
    "\n",
    "20220504 - Not existing"
   ]
  },
  {
   "cell_type": "code",
   "execution_count": null,
   "id": "b46021d7-631f-4a26-acef-43bf7e5e193c",
   "metadata": {},
   "outputs": [],
   "source": [
    "date_sel = 20211103"
   ]
  },
  {
   "cell_type": "code",
   "execution_count": null,
   "id": "d1b0dc9b-d8f5-4d3b-b2e8-159b09998bb7",
   "metadata": {},
   "outputs": [],
   "source": [
    "df_science_selected = df_science[df_science.day_obs == date_sel ]"
   ]
  },
  {
   "cell_type": "code",
   "execution_count": null,
   "id": "1ded26fd-9946-4ecb-8d20-250b909893a9",
   "metadata": {},
   "outputs": [],
   "source": [
    "len(df_science_selected)"
   ]
  },
  {
   "cell_type": "markdown",
   "id": "6880495b-a3b2-457f-8cdc-c8a3975baee0",
   "metadata": {},
   "source": [
    "# List of filters"
   ]
  },
  {
   "cell_type": "code",
   "execution_count": null,
   "id": "64da7cda-db6e-4414-81f7-98ff7c7af055",
   "metadata": {},
   "outputs": [],
   "source": [
    "list_of_filters = df_science_selected['filter'].unique()\n",
    "list_of_filters"
   ]
  },
  {
   "cell_type": "code",
   "execution_count": null,
   "id": "190ab229-41fe-46bb-8586-ada353d43280",
   "metadata": {},
   "outputs": [],
   "source": [
    "selected_filters = []\n",
    "for filt in list_of_filters:\n",
    "    #flag_sel = (filt.find('holo4') != -1) or (filt.find('ronchi90lpmm') != -1) or (filt.find('ronchi170lpmm') != -1)\n",
    "    flag_sel = (filt.find('holo4') != -1) \n",
    "    #flag_sel = (filt.find('ronchi170') != -1) \n",
    "    if flag_sel:\n",
    "        selected_filters.append(filt) \n",
    "selected_filters = np.array(selected_filters)\n",
    "selected_filters       "
   ]
  },
  {
   "cell_type": "markdown",
   "id": "10acdccb-86b9-4399-88df-ad1c9645dd8f",
   "metadata": {},
   "source": [
    "## Selection of filter\n",
    "\n",
    "- But now we have a loop on filters"
   ]
  },
  {
   "cell_type": "code",
   "execution_count": null,
   "id": "43cb8c1b-1c02-4a03-9281-f44fc17a1876",
   "metadata": {},
   "outputs": [],
   "source": [
    "#idx_sel_filt = 0\n",
    "#selected_filter = selected_filters[0]\n",
    "#selected_filter"
   ]
  },
  {
   "cell_type": "markdown",
   "id": "e58b7ad6-8784-472b-8d37-0b9a80745c2c",
   "metadata": {},
   "source": [
    "## Final selection of exposure\n",
    "\n",
    "- loop on selected filters"
   ]
  },
  {
   "cell_type": "code",
   "execution_count": null,
   "id": "05ce31a5-f317-4554-a2a3-12983a72cc5f",
   "metadata": {},
   "outputs": [],
   "source": [
    "pd.set_option('display.max_rows', None)"
   ]
  },
  {
   "cell_type": "code",
   "execution_count": null,
   "id": "e7f8f369-356a-4832-a9bc-4832e61a5882",
   "metadata": {},
   "outputs": [],
   "source": [
    "all_def_science_selected_final = []\n",
    "\n",
    "for selected_filter in selected_filters:\n",
    "\n",
    "    print(selected_filter)\n",
    "    df_science_selected_final = df_science_selected[df_science_selected[\"filter\"] ==  selected_filter]\n",
    "    \n",
    "    #print(df_science_selected_final)\n",
    "    all_def_science_selected_final.append(df_science_selected_final.copy())\n",
    "    \n",
    "    df = df_science_selected_final\n",
    "    df_sel = df[['day_obs', 'seq_num']]\n",
    "    \n",
    "    \n",
    "    NN = len(df)\n",
    "    \n",
    "    if NN>0:\n",
    "        # build the line\n",
    "        \n",
    "        df_sel['line'] = df_sel.apply(lambda row: str(row['day_obs'])  + \" \" + str(row['seq_num']),axis = 1)\n",
    "    \n",
    "    \n",
    "         # prepare output\n",
    "        filename_out = \"visitdispersers_\"+ str(date_sel) + \"_filt_\" + selected_filter.replace('~','-') + \".list\"\n",
    "        print(filename_out)\n",
    "        \n",
    "        df_out = df_sel[[\"line\"]]\n",
    "        df_out.to_csv(filename_out, index=False, header=None)"
   ]
  },
  {
   "cell_type": "code",
   "execution_count": null,
   "id": "610e844e-0a7a-42cf-b704-3eb7fe9b1e30",
   "metadata": {},
   "outputs": [],
   "source": [
    "len(all_def_science_selected_final)"
   ]
  },
  {
   "cell_type": "code",
   "execution_count": null,
   "id": "f62041c0-32cd-43f6-925d-58cb746dd52c",
   "metadata": {},
   "outputs": [],
   "source": [
    "all_def_science_selected_final[0]"
   ]
  },
  {
   "cell_type": "code",
   "execution_count": null,
   "id": "770d3d7c-8bf2-4f98-9f96-c51427869d83",
   "metadata": {},
   "outputs": [],
   "source": [
    "all_def_science_selected_final[1]"
   ]
  },
  {
   "cell_type": "code",
   "execution_count": null,
   "id": "b9b03240-8473-4289-b186-132efe25dad5",
   "metadata": {},
   "outputs": [],
   "source": [
    "all_def_science_selected_final[2]"
   ]
  },
  {
   "cell_type": "code",
   "execution_count": null,
   "id": "52be8bda-2d58-450b-9aed-2215777ead84",
   "metadata": {},
   "outputs": [],
   "source": [
    "all_def_science_selected_final[3]"
   ]
  },
  {
   "cell_type": "code",
   "execution_count": null,
   "id": "0c75008d-fd85-40ba-8759-9dd3cbfa9330",
   "metadata": {},
   "outputs": [],
   "source": [
    "all_def_science_selected_final[4]"
   ]
  },
  {
   "cell_type": "code",
   "execution_count": null,
   "id": "4712c124-74b6-4fd3-b734-b3cacd30e153",
   "metadata": {},
   "outputs": [],
   "source": []
  }
 ],
 "metadata": {
  "kernelspec": {
   "display_name": "anaconda3_py39_auxtel",
   "language": "python",
   "name": "anaconda3_py39_auxtel"
  },
  "language_info": {
   "codemirror_mode": {
    "name": "ipython",
    "version": 3
   },
   "file_extension": ".py",
   "mimetype": "text/x-python",
   "name": "python",
   "nbconvert_exporter": "python",
   "pygments_lexer": "ipython3",
   "version": "3.9.13"
  }
 },
 "nbformat": 4,
 "nbformat_minor": 5
}
