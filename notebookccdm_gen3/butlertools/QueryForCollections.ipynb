{
 "cells": [
  {
   "cell_type": "markdown",
   "id": "0b8c2138-5194-4d03-8b77-be24e2cc8ee3",
   "metadata": {},
   "source": [
    "# Query for existing collections"
   ]
  },
  {
   "cell_type": "markdown",
   "id": "740e34fb-3fef-45a8-941b-c229742ab016",
   "metadata": {},
   "source": [
    " work with Weakly_2022_09\n",
    "- use jupyter kernel LSST\n",
    "\n",
    "\n",
    "- author : Sylvie Dagoret-Campagne\n",
    "- affiliation : IJCLab\n",
    "- creation date : 2022/03/18\n",
    "- update : 2022/03/18\n"
   ]
  },
  {
   "cell_type": "code",
   "execution_count": 1,
   "id": "ed2c3410-fe83-432e-ab87-9f4513fa8d8b",
   "metadata": {},
   "outputs": [
    {
     "name": "stdout",
     "output_type": "stream",
     "text": [
      "atmospec              LOCAL:/sps/lsst/groups/auxtel/softs/shared/auxteldm_gen3/repos/w_2022_09/atmospec \tsetup\n",
      "eups                  LOCAL:/cvmfs/sw.lsst.eu/linux-x86_64/lsst_distrib/w_2022_09/conda/envs/lsst-scipipe-2.0.0/eups \tsetup\n",
      "rapid_analysis        LOCAL:/sps/lsst/groups/auxtel/softs/shared/auxteldm_gen3/repos/w_2022_09/rapid_analysis \tsetup\n"
     ]
    }
   ],
   "source": [
    "! eups list -s | grep LOCAL"
   ]
  },
  {
   "cell_type": "code",
   "execution_count": 2,
   "id": "70918d81-0cf6-4b0a-8f61-f5e5bec5b0e7",
   "metadata": {},
   "outputs": [
    {
     "name": "stdout",
     "output_type": "stream",
     "text": [
      "   g64fc59b30a+e1dba0a6f6 \tw_latest w_2022_09 current setup\n"
     ]
    }
   ],
   "source": [
    "! eups list -s lsst_distrib"
   ]
  },
  {
   "cell_type": "code",
   "execution_count": 3,
   "id": "f8d9cfca-5881-48c1-b2cb-0f794a2e4091",
   "metadata": {},
   "outputs": [],
   "source": [
    "import lsst.daf.butler as dafButler"
   ]
  },
  {
   "cell_type": "code",
   "execution_count": 4,
   "id": "1c81d99a-5e91-4ba1-ba4a-c66b37905b98",
   "metadata": {},
   "outputs": [],
   "source": [
    "repo = '/sps/lsst/groups/auxtel/softs/shared/auxteldm_gen3/data/butler.yaml'\n",
    "butler = dafButler.Butler(repo)\n",
    "registry = butler.registry"
   ]
  },
  {
   "cell_type": "code",
   "execution_count": 5,
   "id": "2ec90d56-d827-4ab5-a289-5a256527f23e",
   "metadata": {},
   "outputs": [
    {
     "name": "stdout",
     "output_type": "stream",
     "text": [
      "LATISS/calib\n",
      "LATISS/calib/DM-28636\n",
      "LATISS/calib/DM-28636/curated/19700101T000000Z\n",
      "LATISS/calib/DM-28636/curated/20180101T000000Z\n",
      "LATISS/calib/DM-28636/unbounded\n",
      "LATISS/calib/DM-33875\n",
      "LATISS/raw/all\n",
      "refcats\n",
      "u/calib/DM-32209-20211013a-felh\n",
      "u/calib/DM-32209-20211013a-g\n",
      "u/czw/DM-28920/biasGen.20210702a/20210702T215049Z\n",
      "u/czw/DM-28920/calib/bias.20210720\n",
      "u/czw/DM-28920/calib/dark.20210720a\n",
      "u/czw/DM-28920/calib/defect.20210720a\n",
      "u/czw/DM-28920/calib/flat.20210720\n",
      "u/czw/DM-28920/darkGen.20210707d/20210707T215331Z\n",
      "u/czw/DM-28920/defectGen.20210720a/20210720T230634Z\n",
      "u/czw/DM-28920/flatGen.20210720Xa/20210720T223935Z\n",
      "u/czw/DM-28920/flatGen.20210720Xb/20210720T225330Z\n",
      "u/czw/DM-32209/flatGen.20211013a-felh/20211013T214128Z\n",
      "u/czw/DM-32209/flatGen.20211013a-g/20211013T185808Z\n",
      "u/dagoret/first_test\n",
      "u/dagoret/first_test/20220310T164740Z\n",
      "u/dagoret/first_test/20220311T105501Z\n",
      "u/dagoret/first_test/20220311T110216Z\n",
      "u/dagoret/first_test/20220311T110945Z\n",
      "u/dagoret/first_test/20220311T151845Z\n",
      "u/dagoret/first_test/20220311T162151Z\n",
      "u/dagoret/first_test/20220311T163131Z\n",
      "u/dagoret/first_test/20220314T093738Z\n",
      "u/dagoret/first_test/20220314T104131Z\n",
      "u/dagoret/first_test/20220314T110503Z\n",
      "u/dagoret/first_test/20220314T111659Z\n",
      "u/dagoret/first_test/20220314T115137Z\n",
      "u/dagoret/first_test/20220314T125917Z\n",
      "u/dagoret/first_test/20220314T132422Z\n",
      "u/dagoret/first_test/20220314T145412Z\n",
      "u/dagoret/first_test/20220314T162452Z\n",
      "u/dagoret/first_test/20220314T165049Z\n",
      "u/dagoret/first_test/20220314T171720Z\n",
      "u/dagoret/first_test/20220314T174422Z\n",
      "u/dagoret/first_test/20220314T180848Z\n",
      "u/dagoret/first_test/20220314T183450Z\n",
      "u/dagoret/first_test/20220314T185733Z\n",
      "u/dagoret/first_test/20220314T192150Z\n",
      "u/dagoret/first_test/20220314T194303Z\n",
      "u/dagoret/first_test/20220314T200738Z\n",
      "u/dagoret/first_test/20220314T203000Z\n",
      "u/dagoret/first_test/20220314T204827Z\n",
      "u/dagoret/first_test/20220314T210707Z\n",
      "u/dagoret/first_test/20220314T212740Z\n",
      "u/dagoret/first_test/20220314T214521Z\n",
      "u/dagoret/first_test/20220314T220417Z\n",
      "u/dagoret/first_test/20220314T222128Z\n",
      "u/dagoret/first_test/20220314T224329Z\n",
      "u/dagoret/first_test/20220314T230553Z\n",
      "u/dagoret/first_test/20220314T232600Z\n",
      "u/dagoret/first_test/20220314T234402Z\n",
      "u/dagoret/first_test/20220315T000357Z\n",
      "u/dagoret/first_test/20220315T002605Z\n",
      "u/dagoret/first_test/20220315T005026Z\n",
      "u/dagoret/first_test/20220315T011150Z\n",
      "u/dagoret/first_test/20220315T013421Z\n",
      "u/dagoret/first_test/20220315T015839Z\n",
      "u/dagoret/first_test/20220315T022032Z\n",
      "u/dagoret/first_test/20220315T024532Z\n",
      "u/dagoret/first_test/20220315T030839Z\n",
      "u/dagoret/first_test/20220315T033059Z\n",
      "u/dagoret/first_test/20220315T035029Z\n",
      "u/dagoret/first_test/20220315T041347Z\n",
      "u/dagoret/first_test/20220315T043636Z\n",
      "u/dagoret/first_test/20220315T045843Z\n",
      "u/dagoret/first_test/20220315T052058Z\n",
      "u/dagoret/first_test/20220315T054201Z\n",
      "u/dagoret/first_test/20220315T060525Z\n",
      "u/dagoret/first_test/20220315T062727Z\n",
      "u/dagoret/first_test/20220315T065016Z\n",
      "u/dagoret/first_test/20220315T071849Z\n",
      "u/dagoret/first_test2\n",
      "u/dagoret/first_test2/20220316T191755Z\n",
      "u/dagoret/first_test2/20220316T194146Z\n",
      "u/dagoret/first_test2/20220316T205743Z\n",
      "u/dagoret/first_test2/20220317T075852Z\n",
      "u/dagoret/first_test2/20220317T115121Z\n",
      "u/dagoret/first_test2/20220317T160605Z\n",
      "u/dagoret/first_test2/20220321T151905Z\n",
      "u/dagoret/first_test2/20220322T135152Z\n",
      "u/dagoret/first_test2/20220322T144211Z\n",
      "u/dagoret/first_test2/20220322T144730Z\n",
      "u/dagoret/first_test2/20220322T145153Z\n",
      "u/edennihy/DM-33875/flatGen.20220303a-SDSSi/20220303T213603Z\n",
      "u/edennihy/DM-33875/flatGen.20220303b-SDSSr/20220303T194524Z\n"
     ]
    }
   ],
   "source": [
    "for c in sorted(registry.queryCollections()):\n",
    "    print(c)"
   ]
  },
  {
   "cell_type": "code",
   "execution_count": null,
   "id": "7df1993e-e932-4d7b-92ca-df6a72d40e21",
   "metadata": {},
   "outputs": [],
   "source": []
  }
 ],
 "metadata": {
  "kernelspec": {
   "display_name": "lsst_distrib_w_2022_09",
   "language": "python",
   "name": "lsst_distrib_w_2022_09"
  },
  "language_info": {
   "codemirror_mode": {
    "name": "ipython",
    "version": 3
   },
   "file_extension": ".py",
   "mimetype": "text/x-python",
   "name": "python",
   "nbconvert_exporter": "python",
   "pygments_lexer": "ipython3",
   "version": "3.8.12"
  }
 },
 "nbformat": 4,
 "nbformat_minor": 5
}
