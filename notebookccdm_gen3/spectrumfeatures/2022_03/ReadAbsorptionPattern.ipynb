{
 "cells": [
  {
   "cell_type": "markdown",
   "metadata": {},
   "source": [
    "# Produce absorption profile pattern\n",
    "=======================================================================\n",
    "\n",
    "- Sylvie Dagoret-Campagne\n",
    "- affliliation : IJCLAB/IN2P3/CNRS\n",
    "- creation date :  20 April 2022\n",
    "\n",
    "\n",
    "\n",
    "Read absorption patterns\n"
   ]
  },
  {
   "cell_type": "code",
   "execution_count": 1,
   "metadata": {},
   "outputs": [],
   "source": [
    "%load_ext autoreload\n",
    "%autoreload 2"
   ]
  },
  {
   "cell_type": "code",
   "execution_count": 2,
   "metadata": {},
   "outputs": [],
   "source": [
    "import matplotlib.pyplot as plt\n",
    "%matplotlib inline\n",
    "import sys\n",
    "import os\n",
    "import numpy as np\n",
    "from os import listdir\n",
    "import re"
   ]
  },
  {
   "cell_type": "code",
   "execution_count": 3,
   "metadata": {},
   "outputs": [],
   "source": [
    "import matplotlib\n",
    "import matplotlib.pyplot as plt\n",
    "import matplotlib.colors as colors\n",
    "import matplotlib.cm as cmx"
   ]
  },
  {
   "cell_type": "code",
   "execution_count": 4,
   "metadata": {},
   "outputs": [],
   "source": [
    "matplotlib.rcParams.update({'font.size': 15, 'lines.linewidth': 2, 'lines.markersize': 15})\n",
    "matplotlib.rcParams[\"axes.labelsize\"]=\"small\"\n",
    "matplotlib.rcParams[\"axes.linewidth\"]=2.0\n",
    "matplotlib.rcParams[\"xtick.major.size\"]=8\n",
    "matplotlib.rcParams[\"ytick.major.size\"]=8\n",
    "matplotlib.rcParams[\"ytick.minor.size\"]=5\n",
    "matplotlib.rcParams[\"xtick.labelsize\"]=\"large\"\n",
    "matplotlib.rcParams[\"ytick.labelsize\"]=\"large\"\n",
    "matplotlib.rcParams[\"figure.figsize\"]=(12,6)\n",
    "matplotlib.rcParams['axes.titlesize'] = 15\n",
    "matplotlib.rcParams['axes.titleweight'] = 'bold'\n",
    "#matplotlib.rcParams['axes.facecolor'] = 'blue'\n",
    "matplotlib.rcParams['xtick.direction'] = 'out'\n",
    "matplotlib.rcParams['ytick.direction'] = 'out'\n",
    "matplotlib.rcParams['lines.markeredgewidth'] = 0.3 # the line width around the marker symbol\n",
    "matplotlib.rcParams['lines.markersize'] = 10  # markersize, in points\n",
    "matplotlib.rcParams['grid.alpha'] = 1. # transparency, between 0.0 and 1.0\n",
    "matplotlib.rcParams['grid.linestyle'] = '-' # simple line\n",
    "matplotlib.rcParams['grid.linewidth'] = 0.4 # in points "
   ]
  },
  {
   "cell_type": "code",
   "execution_count": 5,
   "metadata": {},
   "outputs": [],
   "source": [
    "from astropy.table import Table"
   ]
  },
  {
   "cell_type": "code",
   "execution_count": 6,
   "metadata": {},
   "outputs": [],
   "source": [
    "import pandas as pd"
   ]
  },
  {
   "cell_type": "code",
   "execution_count": 7,
   "metadata": {},
   "outputs": [],
   "source": [
    "import time\n",
    "from datetime import datetime,date\n",
    "import dateutil.parser"
   ]
  },
  {
   "cell_type": "code",
   "execution_count": 8,
   "metadata": {},
   "outputs": [],
   "source": [
    "today = date.today()\n",
    "string_date=today.strftime(\"%Y-%m-%d\")"
   ]
  },
  {
   "cell_type": "markdown",
   "metadata": {},
   "source": [
    "# Configuration"
   ]
  },
  {
   "cell_type": "markdown",
   "metadata": {},
   "source": [
    "## input file"
   ]
  },
  {
   "cell_type": "code",
   "execution_count": 9,
   "metadata": {},
   "outputs": [],
   "source": [
    "inputfile_basename=\"absorption_pattern\""
   ]
  },
  {
   "cell_type": "markdown",
   "metadata": {},
   "source": [
    "# Read files"
   ]
  },
  {
   "cell_type": "code",
   "execution_count": 10,
   "metadata": {},
   "outputs": [],
   "source": [
    "filename_in=inputfile_basename+\".csv\"\n",
    "df = pd.read_csv(filename_in,index_col=0)"
   ]
  },
  {
   "cell_type": "code",
   "execution_count": 11,
   "metadata": {},
   "outputs": [
    {
     "data": {
      "text/html": [
       "<div>\n",
       "<style scoped>\n",
       "    .dataframe tbody tr th:only-of-type {\n",
       "        vertical-align: middle;\n",
       "    }\n",
       "\n",
       "    .dataframe tbody tr th {\n",
       "        vertical-align: top;\n",
       "    }\n",
       "\n",
       "    .dataframe thead th {\n",
       "        text-align: right;\n",
       "    }\n",
       "</style>\n",
       "<table border=\"1\" class=\"dataframe\">\n",
       "  <thead>\n",
       "    <tr style=\"text-align: right;\">\n",
       "      <th></th>\n",
       "      <th>wl</th>\n",
       "      <th>o2_10</th>\n",
       "      <th>o2_11</th>\n",
       "      <th>o2_12</th>\n",
       "      <th>o2_13</th>\n",
       "      <th>o2_14</th>\n",
       "      <th>o2_15</th>\n",
       "      <th>o2_16</th>\n",
       "      <th>o2_17</th>\n",
       "      <th>o2_18</th>\n",
       "      <th>...</th>\n",
       "      <th>no2_16</th>\n",
       "      <th>no2_17</th>\n",
       "      <th>no2_18</th>\n",
       "      <th>no2_19</th>\n",
       "      <th>no2_20</th>\n",
       "      <th>no2_21</th>\n",
       "      <th>no2_22</th>\n",
       "      <th>no2_23</th>\n",
       "      <th>no2_24</th>\n",
       "      <th>no2_25</th>\n",
       "    </tr>\n",
       "  </thead>\n",
       "  <tbody>\n",
       "    <tr>\n",
       "      <th>0</th>\n",
       "      <td>250.0</td>\n",
       "      <td>1.0</td>\n",
       "      <td>1.0</td>\n",
       "      <td>1.0</td>\n",
       "      <td>1.0</td>\n",
       "      <td>1.0</td>\n",
       "      <td>1.0</td>\n",
       "      <td>1.0</td>\n",
       "      <td>1.0</td>\n",
       "      <td>1.0</td>\n",
       "      <td>...</td>\n",
       "      <td>0.999785</td>\n",
       "      <td>0.999772</td>\n",
       "      <td>0.999758</td>\n",
       "      <td>0.999745</td>\n",
       "      <td>0.999731</td>\n",
       "      <td>0.999718</td>\n",
       "      <td>0.999704</td>\n",
       "      <td>0.999691</td>\n",
       "      <td>0.999678</td>\n",
       "      <td>0.999664</td>\n",
       "    </tr>\n",
       "    <tr>\n",
       "      <th>1</th>\n",
       "      <td>251.0</td>\n",
       "      <td>1.0</td>\n",
       "      <td>1.0</td>\n",
       "      <td>1.0</td>\n",
       "      <td>1.0</td>\n",
       "      <td>1.0</td>\n",
       "      <td>1.0</td>\n",
       "      <td>1.0</td>\n",
       "      <td>1.0</td>\n",
       "      <td>1.0</td>\n",
       "      <td>...</td>\n",
       "      <td>0.999841</td>\n",
       "      <td>0.999831</td>\n",
       "      <td>0.999821</td>\n",
       "      <td>0.999811</td>\n",
       "      <td>0.999801</td>\n",
       "      <td>0.999791</td>\n",
       "      <td>0.999781</td>\n",
       "      <td>0.999771</td>\n",
       "      <td>0.999761</td>\n",
       "      <td>0.999752</td>\n",
       "    </tr>\n",
       "    <tr>\n",
       "      <th>2</th>\n",
       "      <td>252.0</td>\n",
       "      <td>1.0</td>\n",
       "      <td>1.0</td>\n",
       "      <td>1.0</td>\n",
       "      <td>1.0</td>\n",
       "      <td>1.0</td>\n",
       "      <td>1.0</td>\n",
       "      <td>1.0</td>\n",
       "      <td>1.0</td>\n",
       "      <td>1.0</td>\n",
       "      <td>...</td>\n",
       "      <td>0.999849</td>\n",
       "      <td>0.999839</td>\n",
       "      <td>0.999830</td>\n",
       "      <td>0.999821</td>\n",
       "      <td>0.999811</td>\n",
       "      <td>0.999802</td>\n",
       "      <td>0.999792</td>\n",
       "      <td>0.999783</td>\n",
       "      <td>0.999774</td>\n",
       "      <td>0.999764</td>\n",
       "    </tr>\n",
       "    <tr>\n",
       "      <th>3</th>\n",
       "      <td>253.0</td>\n",
       "      <td>1.0</td>\n",
       "      <td>1.0</td>\n",
       "      <td>1.0</td>\n",
       "      <td>1.0</td>\n",
       "      <td>1.0</td>\n",
       "      <td>1.0</td>\n",
       "      <td>1.0</td>\n",
       "      <td>1.0</td>\n",
       "      <td>1.0</td>\n",
       "      <td>...</td>\n",
       "      <td>0.999842</td>\n",
       "      <td>0.999832</td>\n",
       "      <td>0.999822</td>\n",
       "      <td>0.999812</td>\n",
       "      <td>0.999802</td>\n",
       "      <td>0.999792</td>\n",
       "      <td>0.999782</td>\n",
       "      <td>0.999772</td>\n",
       "      <td>0.999763</td>\n",
       "      <td>0.999753</td>\n",
       "    </tr>\n",
       "    <tr>\n",
       "      <th>4</th>\n",
       "      <td>254.0</td>\n",
       "      <td>1.0</td>\n",
       "      <td>1.0</td>\n",
       "      <td>1.0</td>\n",
       "      <td>1.0</td>\n",
       "      <td>1.0</td>\n",
       "      <td>1.0</td>\n",
       "      <td>1.0</td>\n",
       "      <td>1.0</td>\n",
       "      <td>1.0</td>\n",
       "      <td>...</td>\n",
       "      <td>0.999834</td>\n",
       "      <td>0.999823</td>\n",
       "      <td>0.999813</td>\n",
       "      <td>0.999802</td>\n",
       "      <td>0.999792</td>\n",
       "      <td>0.999781</td>\n",
       "      <td>0.999771</td>\n",
       "      <td>0.999761</td>\n",
       "      <td>0.999750</td>\n",
       "      <td>0.999740</td>\n",
       "    </tr>\n",
       "    <tr>\n",
       "      <th>...</th>\n",
       "      <td>...</td>\n",
       "      <td>...</td>\n",
       "      <td>...</td>\n",
       "      <td>...</td>\n",
       "      <td>...</td>\n",
       "      <td>...</td>\n",
       "      <td>...</td>\n",
       "      <td>...</td>\n",
       "      <td>...</td>\n",
       "      <td>...</td>\n",
       "      <td>...</td>\n",
       "      <td>...</td>\n",
       "      <td>...</td>\n",
       "      <td>...</td>\n",
       "      <td>...</td>\n",
       "      <td>...</td>\n",
       "      <td>...</td>\n",
       "      <td>...</td>\n",
       "      <td>...</td>\n",
       "      <td>...</td>\n",
       "      <td>...</td>\n",
       "    </tr>\n",
       "    <tr>\n",
       "      <th>946</th>\n",
       "      <td>1196.0</td>\n",
       "      <td>1.0</td>\n",
       "      <td>1.0</td>\n",
       "      <td>1.0</td>\n",
       "      <td>1.0</td>\n",
       "      <td>1.0</td>\n",
       "      <td>1.0</td>\n",
       "      <td>1.0</td>\n",
       "      <td>1.0</td>\n",
       "      <td>1.0</td>\n",
       "      <td>...</td>\n",
       "      <td>1.000000</td>\n",
       "      <td>1.000000</td>\n",
       "      <td>1.000000</td>\n",
       "      <td>1.000000</td>\n",
       "      <td>1.000000</td>\n",
       "      <td>1.000000</td>\n",
       "      <td>1.000000</td>\n",
       "      <td>1.000000</td>\n",
       "      <td>1.000000</td>\n",
       "      <td>1.000000</td>\n",
       "    </tr>\n",
       "    <tr>\n",
       "      <th>947</th>\n",
       "      <td>1197.0</td>\n",
       "      <td>1.0</td>\n",
       "      <td>1.0</td>\n",
       "      <td>1.0</td>\n",
       "      <td>1.0</td>\n",
       "      <td>1.0</td>\n",
       "      <td>1.0</td>\n",
       "      <td>1.0</td>\n",
       "      <td>1.0</td>\n",
       "      <td>1.0</td>\n",
       "      <td>...</td>\n",
       "      <td>1.000000</td>\n",
       "      <td>1.000000</td>\n",
       "      <td>1.000000</td>\n",
       "      <td>1.000000</td>\n",
       "      <td>1.000000</td>\n",
       "      <td>1.000000</td>\n",
       "      <td>1.000000</td>\n",
       "      <td>1.000000</td>\n",
       "      <td>1.000000</td>\n",
       "      <td>1.000000</td>\n",
       "    </tr>\n",
       "    <tr>\n",
       "      <th>948</th>\n",
       "      <td>1198.0</td>\n",
       "      <td>1.0</td>\n",
       "      <td>1.0</td>\n",
       "      <td>1.0</td>\n",
       "      <td>1.0</td>\n",
       "      <td>1.0</td>\n",
       "      <td>1.0</td>\n",
       "      <td>1.0</td>\n",
       "      <td>1.0</td>\n",
       "      <td>1.0</td>\n",
       "      <td>...</td>\n",
       "      <td>1.000000</td>\n",
       "      <td>1.000000</td>\n",
       "      <td>1.000000</td>\n",
       "      <td>1.000000</td>\n",
       "      <td>1.000000</td>\n",
       "      <td>1.000000</td>\n",
       "      <td>1.000000</td>\n",
       "      <td>1.000000</td>\n",
       "      <td>1.000000</td>\n",
       "      <td>1.000000</td>\n",
       "    </tr>\n",
       "    <tr>\n",
       "      <th>949</th>\n",
       "      <td>1199.0</td>\n",
       "      <td>1.0</td>\n",
       "      <td>1.0</td>\n",
       "      <td>1.0</td>\n",
       "      <td>1.0</td>\n",
       "      <td>1.0</td>\n",
       "      <td>1.0</td>\n",
       "      <td>1.0</td>\n",
       "      <td>1.0</td>\n",
       "      <td>1.0</td>\n",
       "      <td>...</td>\n",
       "      <td>1.000000</td>\n",
       "      <td>1.000000</td>\n",
       "      <td>1.000000</td>\n",
       "      <td>1.000000</td>\n",
       "      <td>1.000000</td>\n",
       "      <td>1.000000</td>\n",
       "      <td>1.000000</td>\n",
       "      <td>1.000000</td>\n",
       "      <td>1.000000</td>\n",
       "      <td>1.000000</td>\n",
       "    </tr>\n",
       "    <tr>\n",
       "      <th>950</th>\n",
       "      <td>1200.0</td>\n",
       "      <td>1.0</td>\n",
       "      <td>1.0</td>\n",
       "      <td>1.0</td>\n",
       "      <td>1.0</td>\n",
       "      <td>1.0</td>\n",
       "      <td>1.0</td>\n",
       "      <td>1.0</td>\n",
       "      <td>1.0</td>\n",
       "      <td>1.0</td>\n",
       "      <td>...</td>\n",
       "      <td>1.000000</td>\n",
       "      <td>1.000000</td>\n",
       "      <td>1.000000</td>\n",
       "      <td>1.000000</td>\n",
       "      <td>1.000000</td>\n",
       "      <td>1.000000</td>\n",
       "      <td>1.000000</td>\n",
       "      <td>1.000000</td>\n",
       "      <td>1.000000</td>\n",
       "      <td>1.000000</td>\n",
       "    </tr>\n",
       "  </tbody>\n",
       "</table>\n",
       "<p>951 rows × 65 columns</p>\n",
       "</div>"
      ],
      "text/plain": [
       "         wl  o2_10  o2_11  o2_12  o2_13  o2_14  o2_15  o2_16  o2_17  o2_18  \\\n",
       "0     250.0    1.0    1.0    1.0    1.0    1.0    1.0    1.0    1.0    1.0   \n",
       "1     251.0    1.0    1.0    1.0    1.0    1.0    1.0    1.0    1.0    1.0   \n",
       "2     252.0    1.0    1.0    1.0    1.0    1.0    1.0    1.0    1.0    1.0   \n",
       "3     253.0    1.0    1.0    1.0    1.0    1.0    1.0    1.0    1.0    1.0   \n",
       "4     254.0    1.0    1.0    1.0    1.0    1.0    1.0    1.0    1.0    1.0   \n",
       "..      ...    ...    ...    ...    ...    ...    ...    ...    ...    ...   \n",
       "946  1196.0    1.0    1.0    1.0    1.0    1.0    1.0    1.0    1.0    1.0   \n",
       "947  1197.0    1.0    1.0    1.0    1.0    1.0    1.0    1.0    1.0    1.0   \n",
       "948  1198.0    1.0    1.0    1.0    1.0    1.0    1.0    1.0    1.0    1.0   \n",
       "949  1199.0    1.0    1.0    1.0    1.0    1.0    1.0    1.0    1.0    1.0   \n",
       "950  1200.0    1.0    1.0    1.0    1.0    1.0    1.0    1.0    1.0    1.0   \n",
       "\n",
       "     ...    no2_16    no2_17    no2_18    no2_19    no2_20    no2_21  \\\n",
       "0    ...  0.999785  0.999772  0.999758  0.999745  0.999731  0.999718   \n",
       "1    ...  0.999841  0.999831  0.999821  0.999811  0.999801  0.999791   \n",
       "2    ...  0.999849  0.999839  0.999830  0.999821  0.999811  0.999802   \n",
       "3    ...  0.999842  0.999832  0.999822  0.999812  0.999802  0.999792   \n",
       "4    ...  0.999834  0.999823  0.999813  0.999802  0.999792  0.999781   \n",
       "..   ...       ...       ...       ...       ...       ...       ...   \n",
       "946  ...  1.000000  1.000000  1.000000  1.000000  1.000000  1.000000   \n",
       "947  ...  1.000000  1.000000  1.000000  1.000000  1.000000  1.000000   \n",
       "948  ...  1.000000  1.000000  1.000000  1.000000  1.000000  1.000000   \n",
       "949  ...  1.000000  1.000000  1.000000  1.000000  1.000000  1.000000   \n",
       "950  ...  1.000000  1.000000  1.000000  1.000000  1.000000  1.000000   \n",
       "\n",
       "       no2_22    no2_23    no2_24    no2_25  \n",
       "0    0.999704  0.999691  0.999678  0.999664  \n",
       "1    0.999781  0.999771  0.999761  0.999752  \n",
       "2    0.999792  0.999783  0.999774  0.999764  \n",
       "3    0.999782  0.999772  0.999763  0.999753  \n",
       "4    0.999771  0.999761  0.999750  0.999740  \n",
       "..        ...       ...       ...       ...  \n",
       "946  1.000000  1.000000  1.000000  1.000000  \n",
       "947  1.000000  1.000000  1.000000  1.000000  \n",
       "948  1.000000  1.000000  1.000000  1.000000  \n",
       "949  1.000000  1.000000  1.000000  1.000000  \n",
       "950  1.000000  1.000000  1.000000  1.000000  \n",
       "\n",
       "[951 rows x 65 columns]"
      ]
     },
     "execution_count": 11,
     "metadata": {},
     "output_type": "execute_result"
    }
   ],
   "source": [
    "df"
   ]
  },
  {
   "cell_type": "code",
   "execution_count": 12,
   "metadata": {},
   "outputs": [],
   "source": [
    "def atmpatt_Dataf_to_np(df):\n",
    "    \"\"\"\n",
    "    \n",
    "    atmpatt_Dataf_to_np : convert pandas dtaframe on abs pattern into numpy array\n",
    "    \n",
    "    \"\"\"\n",
    "    o2_cols = []\n",
    "    for tabcol in df.columns:\n",
    "        if 'o2_' in tabcol and 'no2_' not in tabcol:\n",
    "            o2_cols.append(tabcol)\n",
    "            \n",
    "    no2_cols = []\n",
    "    for tabcol in df.columns:\n",
    "        if 'no2_' in tabcol:\n",
    "            no2_cols.append(tabcol)\n",
    "            \n",
    "            \n",
    "    h2o_cols = []\n",
    "    for tabcol in df.columns:\n",
    "        if 'h2o_' in tabcol:\n",
    "            h2o_cols.append(tabcol)\n",
    "            \n",
    "            \n",
    "    o3_cols = []\n",
    "    for tabcol in df.columns:\n",
    "        if 'o3_' in  tabcol:\n",
    "            o3_cols.append(tabcol)\n",
    "            \n",
    "            \n",
    "    data_wl = df[\"wl\"].to_numpy()\n",
    "    data_o2 = df[o2_cols].to_numpy()\n",
    "    data_o3 = df[o3_cols].to_numpy()\n",
    "    data_h2o = df[h2o_cols].to_numpy()\n",
    "    data_no2 = df[no2_cols].to_numpy()\n",
    "    \n",
    "    \n",
    "    return data_wl, data_o2, data_o3, data_h2o, data_no2\n",
    "    \n",
    "    "
   ]
  },
  {
   "cell_type": "code",
   "execution_count": 13,
   "metadata": {},
   "outputs": [],
   "source": [
    "wl,o2,o3,h2o,no2 = atmpatt_Dataf_to_np(df)"
   ]
  },
  {
   "cell_type": "code",
   "execution_count": 24,
   "metadata": {},
   "outputs": [],
   "source": [
    "# number of airmass values\n",
    "NOBS = o2.shape[1]"
   ]
  },
  {
   "cell_type": "code",
   "execution_count": 22,
   "metadata": {},
   "outputs": [],
   "source": [
    "# wavelength bin colors\n",
    "jet = plt.get_cmap('jet')\n",
    "cNorm = colors.Normalize(vmin=0, vmax=N)\n",
    "scalarMap = cmx.ScalarMappable(norm=cNorm, cmap=jet)\n",
    "all_colors = scalarMap.to_rgba(np.arange(NOBS), alpha=1)"
   ]
  },
  {
   "cell_type": "code",
   "execution_count": 44,
   "metadata": {},
   "outputs": [
    {
     "data": {
      "text/plain": [
       "Text(0, 0.5, 'transmission')"
      ]
     },
     "execution_count": 44,
     "metadata": {},
     "output_type": "execute_result"
    },
    {
     "data": {
      "image/png": "[encoded data removed]",
      "text/plain": [
       "<Figure size 720x288 with 1 Axes>"
      ]
     },
     "metadata": {
      "needs_background": "light"
     },
     "output_type": "display_data"
    }
   ],
   "source": [
    "fig=plt.figure(figsize=(10,4))\n",
    "ax=fig.add_subplot(111)\n",
    "for index in np.arange(NOBS):   \n",
    "    ax.plot(wl,o2[:,index],'-',color=all_colors[index])\n",
    "ax.set_xlim(400,1000)\n",
    "ax.grid()\n",
    "ax.set_title(\"Atmospheric absorption transmission O2\")\n",
    "ax.set_xlabel(\"$\\\\lambda$ (nm)\")\n",
    "ax.set_ylabel(\"transmission\")\n",
    "#plt.ylim(0.5,1)\n",
    "#plt.yscale(\"log\")\n"
   ]
  },
  {
   "cell_type": "code",
   "execution_count": 31,
   "metadata": {},
   "outputs": [],
   "source": [
    "# number of airmass values\n",
    "NOBS = o3.shape[1]"
   ]
  },
  {
   "cell_type": "code",
   "execution_count": 32,
   "metadata": {},
   "outputs": [],
   "source": [
    "# wavelength bin colors\n",
    "jet = plt.get_cmap('jet')\n",
    "cNorm = colors.Normalize(vmin=0, vmax=N)\n",
    "scalarMap = cmx.ScalarMappable(norm=cNorm, cmap=jet)\n",
    "all_colors = scalarMap.to_rgba(np.arange(NOBS), alpha=1)"
   ]
  },
  {
   "cell_type": "code",
   "execution_count": 35,
   "metadata": {},
   "outputs": [
    {
     "data": {
      "text/plain": [
       "(0.8, 1.0)"
      ]
     },
     "execution_count": 35,
     "metadata": {},
     "output_type": "execute_result"
    },
    {
     "data": {
      "image/png": "[encoded data removed]",
      "text/plain": [
       "<Figure size 720x360 with 1 Axes>"
      ]
     },
     "metadata": {
      "needs_background": "light"
     },
     "output_type": "display_data"
    }
   ],
   "source": [
    "fig=plt.figure(figsize=(10,5))\n",
    "ax=fig.add_subplot(111)\n",
    "for index in np.arange(NOBS):   \n",
    "    ax.plot(wl,o3[:,index],'-',color=all_colors[index])\n",
    "ax.set_xlim(400,1000)\n",
    "ax.grid()\n",
    "ax.set_title(\"Atmospheric absorption transmission O3\")\n",
    "ax.set_xlabel(\"$\\\\lambda$ (nm)\")\n",
    "ax.set_ylabel(\"transmission\")\n",
    "ax.set_ylim(0.8,1)\n",
    "#plt.yscale(\"log\")"
   ]
  },
  {
   "cell_type": "code",
   "execution_count": 36,
   "metadata": {},
   "outputs": [],
   "source": [
    "# number of airmass values\n",
    "NOBS = h2o.shape[1]"
   ]
  },
  {
   "cell_type": "code",
   "execution_count": 37,
   "metadata": {},
   "outputs": [],
   "source": [
    "# wavelength bin colors\n",
    "jet = plt.get_cmap('jet')\n",
    "cNorm = colors.Normalize(vmin=0, vmax=N)\n",
    "scalarMap = cmx.ScalarMappable(norm=cNorm, cmap=jet)\n",
    "all_colors = scalarMap.to_rgba(np.arange(NOBS), alpha=1)"
   ]
  },
  {
   "cell_type": "code",
   "execution_count": 43,
   "metadata": {},
   "outputs": [
    {
     "data": {
      "text/plain": [
       "(0.0, 1.0)"
      ]
     },
     "execution_count": 43,
     "metadata": {},
     "output_type": "execute_result"
    },
    {
     "data": {
      "image/png": "[encoded data removed]",
      "text/plain": [
       "<Figure size 720x288 with 1 Axes>"
      ]
     },
     "metadata": {
      "needs_background": "light"
     },
     "output_type": "display_data"
    }
   ],
   "source": [
    "fig=plt.figure(figsize=(10,4))\n",
    "ax=fig.add_subplot(111)\n",
    "for index in np.arange(NOBS):   \n",
    "    ax.plot(wl,h2o[:,index],'-',color=all_colors[index])\n",
    "ax.set_xlim(400,1000)\n",
    "ax.grid()\n",
    "ax.set_title(\"Atmospheric absorption transmission h2o\")\n",
    "ax.set_xlabel(\"$\\\\lambda$ (nm)\")\n",
    "ax.set_ylabel(\"transmission\")\n",
    "ax.set_ylim(0,1)\n",
    "#plt.yscale(\"log\")"
   ]
  },
  {
   "cell_type": "code",
   "execution_count": 39,
   "metadata": {},
   "outputs": [],
   "source": [
    "# number of airmass values\n",
    "NOBS = no2.shape[1]"
   ]
  },
  {
   "cell_type": "code",
   "execution_count": 40,
   "metadata": {},
   "outputs": [],
   "source": [
    "# wavelength bin colors\n",
    "jet = plt.get_cmap('jet')\n",
    "cNorm = colors.Normalize(vmin=0, vmax=N)\n",
    "scalarMap = cmx.ScalarMappable(norm=cNorm, cmap=jet)\n",
    "all_colors = scalarMap.to_rgba(np.arange(NOBS), alpha=1)"
   ]
  },
  {
   "cell_type": "code",
   "execution_count": 42,
   "metadata": {},
   "outputs": [
    {
     "data": {
      "text/plain": [
       "(0.9, 1.0)"
      ]
     },
     "execution_count": 42,
     "metadata": {},
     "output_type": "execute_result"
    },
    {
     "data": {
      "image/png": "[encoded data removed]",
      "text/plain": [
       "<Figure size 720x360 with 1 Axes>"
      ]
     },
     "metadata": {
      "needs_background": "light"
     },
     "output_type": "display_data"
    }
   ],
   "source": [
    "fig=plt.figure(figsize=(10,5))\n",
    "ax=fig.add_subplot(111)\n",
    "for index in np.arange(NOBS):   \n",
    "    ax.plot(wl,no2[:,index],'-',color=all_colors[index])\n",
    "ax.set_xlim(400,1000)\n",
    "ax.grid()\n",
    "ax.set_title(\"Atmospheric absorption transmission h2o\")\n",
    "ax.set_xlabel(\"$\\\\lambda$ (nm)\")\n",
    "ax.set_ylabel(\"transmission\")\n",
    "ax.set_ylim(0.9,1)\n",
    "#plt.yscale(\"log\")"
   ]
  },
  {
   "cell_type": "code",
   "execution_count": null,
   "metadata": {},
   "outputs": [],
   "source": []
  }
 ],
 "metadata": {
  "anaconda-cloud": {},
  "kernelspec": {
   "display_name": "anaconda3_auxtel",
   "language": "python",
   "name": "anaconda3_auxtel"
  },
  "language_info": {
   "codemirror_mode": {
    "name": "ipython",
    "version": 3
   },
   "file_extension": ".py",
   "mimetype": "text/x-python",
   "name": "python",
   "nbconvert_exporter": "python",
   "pygments_lexer": "ipython3",
   "version": "3.8.5"
  },
  "toc": {
   "nav_menu": {
    "height": "12px",
    "width": "252px"
   },
   "number_sections": true,
   "sideBar": true,
   "skip_h1_title": false,
   "toc_cell": false,
   "toc_position": {},
   "toc_section_display": "block",
   "toc_window_display": false
  }
 },
 "nbformat": 4,
 "nbformat_minor": 4
}
