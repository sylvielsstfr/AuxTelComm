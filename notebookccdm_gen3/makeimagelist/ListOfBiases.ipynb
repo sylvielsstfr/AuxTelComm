{
 "cells": [
  {
   "cell_type": "markdown",
   "id": "c813ed6a",
   "metadata": {
    "tags": []
   },
   "source": [
    "# List of Bias\n",
    "\n",
    "\n",
    "- work with Weakly_2022_09\n",
    "- use jupyter kernel LSST\n",
    "\n",
    "\n",
    "- author : Sylvie Dagoret-Campagne\n",
    "- affiliation : IJCLab\n",
    "- creation date : 2022/03/14\n",
    "\n"
   ]
  },
  {
   "cell_type": "code",
   "execution_count": null,
   "id": "2e1f28b1",
   "metadata": {},
   "outputs": [],
   "source": [
    "! eups list -s | grep LOCAL"
   ]
  },
  {
   "cell_type": "code",
   "execution_count": null,
   "id": "8d301387-7065-4c85-897e-9e91b477c2b0",
   "metadata": {},
   "outputs": [],
   "source": [
    "! echo $IMAGE_DESCRIPTION\n",
    "! eups list -s lsst_distrib"
   ]
  },
  {
   "cell_type": "code",
   "execution_count": null,
   "id": "ea83b669",
   "metadata": {},
   "outputs": [],
   "source": [
    "import os\n",
    "import matplotlib.pyplot as plt\n",
    "import numpy as np\n",
    "import pandas as pd\n",
    "%matplotlib inline\n",
    "from matplotlib.colors import LogNorm\n",
    "\n",
    "from mpl_toolkits.axes_grid1 import make_axes_locatable\n",
    "\n",
    "import matplotlib.ticker                         # here's where the formatter is\n",
    "from matplotlib.ticker import (MultipleLocator, FormatStrFormatter,\n",
    "                               AutoMinorLocator)\n",
    "\n",
    "from astropy.io import fits"
   ]
  },
  {
   "cell_type": "code",
   "execution_count": null,
   "id": "d7c8c61f-5cfa-4c25-9a5a-97c2eb50fa29",
   "metadata": {},
   "outputs": [],
   "source": [
    "import lsst.afw.display as afwDisplay\n",
    "afwDisplay.setDefaultBackend('matplotlib')"
   ]
  },
  {
   "cell_type": "code",
   "execution_count": null,
   "id": "7a36f8cd",
   "metadata": {},
   "outputs": [],
   "source": [
    "import lsst.daf.butler as dafButler"
   ]
  },
  {
   "cell_type": "code",
   "execution_count": null,
   "id": "7c5944d1-0cbb-42bc-9ea9-a7ff39e25a01",
   "metadata": {},
   "outputs": [],
   "source": [
    "repo = '/sps/lsst/groups/auxtel/softs/shared/auxteldm_gen3/data/butler.yaml'\n",
    "butler = dafButler.Butler(repo)\n",
    "registry = butler.registry"
   ]
  },
  {
   "cell_type": "code",
   "execution_count": null,
   "id": "b642d0e8-539a-40b8-beea-0d571aeb7364",
   "metadata": {},
   "outputs": [],
   "source": [
    "collection='LATISS/raw/all'"
   ]
  },
  {
   "cell_type": "code",
   "execution_count": null,
   "id": "9f1cb1a9-f90e-43a5-8451-7d342b7a4542",
   "metadata": {},
   "outputs": [],
   "source": [
    "df = pd.DataFrame(columns=['id', 'day_obs', 'seq_num','type_obs'])\n",
    "\n",
    "idx=0\n",
    "for count, info in enumerate(registry.queryDimensionRecords('exposure')):\n",
    "    \n",
    "    theid       = info.id\n",
    "    day_obs  = info.day_obs\n",
    "    seq_num  = info.seq_num\n",
    "    type_obs = info.observation_type\n",
    "    if type_obs == 'bias':\n",
    "        idx+=1\n",
    "        df.loc[idx] = [theid, day_obs,seq_num,type_obs]\n",
    "            \n",
    "            \n",
    "        \n",
    "        "
   ]
  },
  {
   "cell_type": "code",
   "execution_count": null,
   "id": "f2c3a4ca-fcaf-4f9a-af0d-11a7e7dd7266",
   "metadata": {},
   "outputs": [],
   "source": [
    "df"
   ]
  },
  {
   "cell_type": "code",
   "execution_count": null,
   "id": "0e51289b-7ede-4921-923c-fbedd5a846a6",
   "metadata": {},
   "outputs": [],
   "source": [
    "df.sort_values(by='id',inplace=True)"
   ]
  },
  {
   "cell_type": "code",
   "execution_count": null,
   "id": "a128be31-bcd1-471e-9131-8e0a6e979b3d",
   "metadata": {},
   "outputs": [],
   "source": [
    "df"
   ]
  },
  {
   "cell_type": "code",
   "execution_count": null,
   "id": "5f3faacf-3eb7-42d3-8adb-57dd8c62b297",
   "metadata": {},
   "outputs": [],
   "source": []
  }
 ],
 "metadata": {
  "kernelspec": {
   "display_name": "lsst_distrib_w_2022_09",
   "language": "python",
   "name": "lsst_distrib_w_2022_09"
  },
  "language_info": {
   "codemirror_mode": {
    "name": "ipython",
    "version": 3
   },
   "file_extension": ".py",
   "mimetype": "text/x-python",
   "name": "python",
   "nbconvert_exporter": "python",
   "pygments_lexer": "ipython3",
   "version": "3.8.12"
  }
 },
 "nbformat": 4,
 "nbformat_minor": 5
}
