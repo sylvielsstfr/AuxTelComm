{
 "cells": [
  {
   "cell_type": "markdown",
   "id": "c813ed6a",
   "metadata": {
    "tags": []
   },
   "source": [
    "# List of Flats\n",
    "\n",
    "\n",
    "- work with Weakly_2022_09\n",
    "- use jupyter kernel LSST\n",
    "\n",
    "\n",
    "- author : Sylvie Dagoret-Campagne\n",
    "- affiliation : IJCLab\n",
    "- creation date : 2022/03/14\n",
    "\n"
   ]
  },
  {
   "cell_type": "code",
   "execution_count": 1,
   "id": "2e1f28b1",
   "metadata": {},
   "outputs": [
    {
     "name": "stdout",
     "output_type": "stream",
     "text": [
      "atmospec              LOCAL:/sps/lsst/groups/auxtel/softs/shared/auxteldm_gen3/repos/w_2022_09/atmospec \tsetup\n",
      "eups                  LOCAL:/cvmfs/sw.lsst.eu/linux-x86_64/lsst_distrib/w_2022_09/conda/envs/lsst-scipipe-2.0.0/eups \tsetup\n",
      "rapid_analysis        LOCAL:/sps/lsst/groups/auxtel/softs/shared/auxteldm_gen3/repos/w_2022_09/rapid_analysis \tsetup\n"
     ]
    }
   ],
   "source": [
    "! eups list -s | grep LOCAL"
   ]
  },
  {
   "cell_type": "code",
   "execution_count": 2,
   "id": "8d301387-7065-4c85-897e-9e91b477c2b0",
   "metadata": {},
   "outputs": [
    {
     "name": "stdout",
     "output_type": "stream",
     "text": [
      "\n",
      "   g64fc59b30a+e1dba0a6f6 \tw_latest w_2022_09 current setup\n"
     ]
    }
   ],
   "source": [
    "! echo $IMAGE_DESCRIPTION\n",
    "! eups list -s lsst_distrib"
   ]
  },
  {
   "cell_type": "code",
   "execution_count": 3,
   "id": "ea83b669",
   "metadata": {},
   "outputs": [],
   "source": [
    "import os\n",
    "import matplotlib.pyplot as plt\n",
    "import numpy as np\n",
    "import pandas as pd\n",
    "%matplotlib inline\n",
    "from matplotlib.colors import LogNorm\n",
    "\n",
    "from mpl_toolkits.axes_grid1 import make_axes_locatable\n",
    "\n",
    "import matplotlib.ticker                         # here's where the formatter is\n",
    "from matplotlib.ticker import (MultipleLocator, FormatStrFormatter,\n",
    "                               AutoMinorLocator)\n",
    "\n",
    "from astropy.io import fits"
   ]
  },
  {
   "cell_type": "code",
   "execution_count": 4,
   "id": "d7c8c61f-5cfa-4c25-9a5a-97c2eb50fa29",
   "metadata": {},
   "outputs": [],
   "source": [
    "import lsst.afw.display as afwDisplay\n",
    "afwDisplay.setDefaultBackend('matplotlib')"
   ]
  },
  {
   "cell_type": "code",
   "execution_count": 5,
   "id": "7a36f8cd",
   "metadata": {},
   "outputs": [],
   "source": [
    "import lsst.daf.butler as dafButler"
   ]
  },
  {
   "cell_type": "code",
   "execution_count": 6,
   "id": "7c5944d1-0cbb-42bc-9ea9-a7ff39e25a01",
   "metadata": {},
   "outputs": [],
   "source": [
    "repo = '/sps/lsst/groups/auxtel/softs/shared/auxteldm_gen3/data/butler.yaml'\n",
    "butler = dafButler.Butler(repo)\n",
    "registry = butler.registry"
   ]
  },
  {
   "cell_type": "code",
   "execution_count": 7,
   "id": "b642d0e8-539a-40b8-beea-0d571aeb7364",
   "metadata": {},
   "outputs": [],
   "source": [
    "collection='LATISS/raw/all'"
   ]
  },
  {
   "cell_type": "code",
   "execution_count": 8,
   "id": "9f1cb1a9-f90e-43a5-8451-7d342b7a4542",
   "metadata": {},
   "outputs": [],
   "source": [
    "df = pd.DataFrame(columns=['id', 'day_obs', 'seq_num','type_obs','filter'])\n",
    "\n",
    "idx=0\n",
    "for count, info in enumerate(registry.queryDimensionRecords('exposure')):\n",
    "    \n",
    "    theid       = info.id\n",
    "    day_obs  = info.day_obs\n",
    "    seq_num  = info.seq_num\n",
    "    type_obs = info.observation_type\n",
    "    thefilter  = info.physical_filter \n",
    "    if type_obs == 'flat':\n",
    "        idx+=1\n",
    "        df.loc[idx] = [theid, day_obs,seq_num,type_obs,thefilter]\n",
    "            \n",
    "            \n",
    "        \n",
    "        "
   ]
  },
  {
   "cell_type": "code",
   "execution_count": 10,
   "id": "0e51289b-7ede-4921-923c-fbedd5a846a6",
   "metadata": {},
   "outputs": [],
   "source": [
    "df.sort_values(by='id',inplace=True)"
   ]
  },
  {
   "cell_type": "code",
   "execution_count": 11,
   "id": "a128be31-bcd1-471e-9131-8e0a6e979b3d",
   "metadata": {},
   "outputs": [
    {
     "data": {
      "text/html": [
       "<div>\n",
       "<style scoped>\n",
       "    .dataframe tbody tr th:only-of-type {\n",
       "        vertical-align: middle;\n",
       "    }\n",
       "\n",
       "    .dataframe tbody tr th {\n",
       "        vertical-align: top;\n",
       "    }\n",
       "\n",
       "    .dataframe thead th {\n",
       "        text-align: right;\n",
       "    }\n",
       "</style>\n",
       "<table border=\"1\" class=\"dataframe\">\n",
       "  <thead>\n",
       "    <tr style=\"text-align: right;\">\n",
       "      <th></th>\n",
       "      <th>id</th>\n",
       "      <th>day_obs</th>\n",
       "      <th>seq_num</th>\n",
       "      <th>type_obs</th>\n",
       "      <th>filter</th>\n",
       "    </tr>\n",
       "  </thead>\n",
       "  <tbody>\n",
       "    <tr>\n",
       "      <th>26</th>\n",
       "      <td>2021021600102</td>\n",
       "      <td>20210216</td>\n",
       "      <td>102</td>\n",
       "      <td>flat</td>\n",
       "      <td>RG610~empty</td>\n",
       "    </tr>\n",
       "    <tr>\n",
       "      <th>5</th>\n",
       "      <td>2021021600103</td>\n",
       "      <td>20210216</td>\n",
       "      <td>103</td>\n",
       "      <td>flat</td>\n",
       "      <td>RG610~empty</td>\n",
       "    </tr>\n",
       "    <tr>\n",
       "      <th>48</th>\n",
       "      <td>2021021600104</td>\n",
       "      <td>20210216</td>\n",
       "      <td>104</td>\n",
       "      <td>flat</td>\n",
       "      <td>RG610~empty</td>\n",
       "    </tr>\n",
       "    <tr>\n",
       "      <th>47</th>\n",
       "      <td>2021021600105</td>\n",
       "      <td>20210216</td>\n",
       "      <td>105</td>\n",
       "      <td>flat</td>\n",
       "      <td>RG610~empty</td>\n",
       "    </tr>\n",
       "    <tr>\n",
       "      <th>19</th>\n",
       "      <td>2021021600106</td>\n",
       "      <td>20210216</td>\n",
       "      <td>106</td>\n",
       "      <td>flat</td>\n",
       "      <td>RG610~empty</td>\n",
       "    </tr>\n",
       "    <tr>\n",
       "      <th>...</th>\n",
       "      <td>...</td>\n",
       "      <td>...</td>\n",
       "      <td>...</td>\n",
       "      <td>...</td>\n",
       "      <td>...</td>\n",
       "    </tr>\n",
       "    <tr>\n",
       "      <th>949</th>\n",
       "      <td>2022021700060</td>\n",
       "      <td>20220217</td>\n",
       "      <td>60</td>\n",
       "      <td>flat</td>\n",
       "      <td>SDSSr~empty</td>\n",
       "    </tr>\n",
       "    <tr>\n",
       "      <th>944</th>\n",
       "      <td>2022021700061</td>\n",
       "      <td>20220217</td>\n",
       "      <td>61</td>\n",
       "      <td>flat</td>\n",
       "      <td>SDSSr~empty</td>\n",
       "    </tr>\n",
       "    <tr>\n",
       "      <th>941</th>\n",
       "      <td>2022021700062</td>\n",
       "      <td>20220217</td>\n",
       "      <td>62</td>\n",
       "      <td>flat</td>\n",
       "      <td>SDSSr~empty</td>\n",
       "    </tr>\n",
       "    <tr>\n",
       "      <th>948</th>\n",
       "      <td>2022021700063</td>\n",
       "      <td>20220217</td>\n",
       "      <td>63</td>\n",
       "      <td>flat</td>\n",
       "      <td>SDSSr~empty</td>\n",
       "    </tr>\n",
       "    <tr>\n",
       "      <th>947</th>\n",
       "      <td>2022021700064</td>\n",
       "      <td>20220217</td>\n",
       "      <td>64</td>\n",
       "      <td>flat</td>\n",
       "      <td>SDSSr~empty</td>\n",
       "    </tr>\n",
       "  </tbody>\n",
       "</table>\n",
       "<p>953 rows × 5 columns</p>\n",
       "</div>"
      ],
      "text/plain": [
       "                id   day_obs  seq_num type_obs       filter\n",
       "26   2021021600102  20210216      102     flat  RG610~empty\n",
       "5    2021021600103  20210216      103     flat  RG610~empty\n",
       "48   2021021600104  20210216      104     flat  RG610~empty\n",
       "47   2021021600105  20210216      105     flat  RG610~empty\n",
       "19   2021021600106  20210216      106     flat  RG610~empty\n",
       "..             ...       ...      ...      ...          ...\n",
       "949  2022021700060  20220217       60     flat  SDSSr~empty\n",
       "944  2022021700061  20220217       61     flat  SDSSr~empty\n",
       "941  2022021700062  20220217       62     flat  SDSSr~empty\n",
       "948  2022021700063  20220217       63     flat  SDSSr~empty\n",
       "947  2022021700064  20220217       64     flat  SDSSr~empty\n",
       "\n",
       "[953 rows x 5 columns]"
      ]
     },
     "execution_count": 11,
     "metadata": {},
     "output_type": "execute_result"
    }
   ],
   "source": [
    "df"
   ]
  },
  {
   "cell_type": "code",
   "execution_count": null,
   "id": "5f3faacf-3eb7-42d3-8adb-57dd8c62b297",
   "metadata": {},
   "outputs": [],
   "source": []
  }
 ],
 "metadata": {
  "kernelspec": {
   "display_name": "lsst_distrib_w_2022_09",
   "language": "python",
   "name": "lsst_distrib_w_2022_09"
  },
  "language_info": {
   "codemirror_mode": {
    "name": "ipython",
    "version": 3
   },
   "file_extension": ".py",
   "mimetype": "text/x-python",
   "name": "python",
   "nbconvert_exporter": "python",
   "pygments_lexer": "ipython3",
   "version": "3.8.12"
  }
 },
 "nbformat": 4,
 "nbformat_minor": 5
}
