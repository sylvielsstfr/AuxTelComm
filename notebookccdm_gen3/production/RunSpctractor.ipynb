{
 "cells": [
  {
   "cell_type": "markdown",
   "id": "e2439c22-0cd8-4aae-b9fe-ce37ea5ccf00",
   "metadata": {},
   "source": [
    "# RUN Spectractor"
   ]
  },
  {
   "cell_type": "code",
   "execution_count": 9,
   "id": "9fd6aa8e-b9d0-4757-8665-850c2bb7d4f2",
   "metadata": {},
   "outputs": [
    {
     "name": "stdout",
     "output_type": "stream",
     "text": [
      "atmospec              LOCAL:/sps/lsst/groups/auxtel/softs/shared/auxteldm_gen3/repos/w_2022_09/atmospec \tsetup\n",
      "eups                  LOCAL:/cvmfs/sw.lsst.eu/linux-x86_64/lsst_distrib/w_2022_09/conda/envs/lsst-scipipe-2.0.0/eups \tsetup\n",
      "rapid_analysis        LOCAL:/sps/lsst/groups/auxtel/softs/shared/auxteldm_gen3/repos/w_2022_09/rapid_analysis \tsetup\n"
     ]
    }
   ],
   "source": [
    "! eups list -s | grep LOCAL"
   ]
  },
  {
   "cell_type": "code",
   "execution_count": 8,
   "id": "1cdc898e-52bd-4331-b5ac-dc15277a0c7e",
   "metadata": {},
   "outputs": [],
   "source": [
    "import os\n",
    "import subprocess\n",
    "import numpy as np"
   ]
  },
  {
   "cell_type": "code",
   "execution_count": 12,
   "id": "d843f073-6255-4c27-b3f8-8d5cd45ed45b",
   "metadata": {},
   "outputs": [],
   "source": [
    "os.chdir(\"/sps/lsst/groups/auxtel/softs/shared/auxteldm_gen3\")"
   ]
  },
  {
   "cell_type": "code",
   "execution_count": 13,
   "id": "668d5f60-c0ba-42c6-ade0-9436ba86759a",
   "metadata": {},
   "outputs": [
    {
     "data": {
      "text/plain": [
       "'/sps/lsst/groups/auxtel/softs/shared/auxteldm_gen3'"
      ]
     },
     "execution_count": 13,
     "metadata": {},
     "output_type": "execute_result"
    }
   ],
   "source": [
    "pwd"
   ]
  },
  {
   "cell_type": "code",
   "execution_count": 6,
   "id": "8fc4039a-611c-4a5c-82df-258b03a950d8",
   "metadata": {},
   "outputs": [],
   "source": [
    "command=\"pipetask run -b ./data -p repos/w_2022_09/atmospec/pipelines/processStar.yaml -i LATISS/raw/all,refcats,LATISS/calib -o u/dagoret/first_test2 -d \\\"exposure.day_obs=20210707 and exposure.seq_num=319 and instrument='LATISS'\\\" --register-dataset-types --clobber-outputs\""
   ]
  },
  {
   "cell_type": "code",
   "execution_count": 7,
   "id": "53a2c5ba-9b44-4fe6-87ed-4470da417e01",
   "metadata": {},
   "outputs": [
    {
     "name": "stdout",
     "output_type": "stream",
     "text": [
      "pipetask run -b ./data -p repos/w_2022_09/atmospec/pipelines/processStar.yaml -i LATISS/raw/all,refcats,LATISS/calib -o u/dagoret/first_test2 -d \"exposure.day_obs=20210707 and exposure.seq_num=319 and instrument='LATISS'\" --register-dataset-types --clobber-outputs\n"
     ]
    }
   ],
   "source": [
    "print(command)"
   ]
  },
  {
   "cell_type": "code",
   "execution_count": 14,
   "id": "51fb0ce9-1c68-45be-9128-ec8fb79931b9",
   "metadata": {},
   "outputs": [
    {
     "name": "stderr",
     "output_type": "stream",
     "text": [
      "numexpr.utils INFO: NumExpr defaulting to 8 threads.\n",
      "lsst.daf.butler.cli.utils ERROR: Caught an exception, details are in traceback:\n",
      "Traceback (most recent call last):\n",
      "  File \"/cvmfs/sw.lsst.eu/linux-x86_64/lsst_distrib/w_2022_09/conda/envs/lsst-scipipe-2.0.0/share/eups/Linux64/ctrl_mpexec/g34d403d65c+87a1347ca1/python/lsst/ctrl/mpexec/cli/cmd/commands.py\", line 126, in run\n",
      "    qgraph = script.qgraph(pipelineObj=pipeline, **kwargs)\n",
      "  File \"/cvmfs/sw.lsst.eu/linux-x86_64/lsst_distrib/w_2022_09/conda/envs/lsst-scipipe-2.0.0/share/eups/Linux64/ctrl_mpexec/g34d403d65c+87a1347ca1/python/lsst/ctrl/mpexec/cli/script/qgraph.py\", line 183, in qgraph\n",
      "    qgraph = f.makeGraph(pipelineObj, args)\n",
      "  File \"/cvmfs/sw.lsst.eu/linux-x86_64/lsst_distrib/w_2022_09/conda/envs/lsst-scipipe-2.0.0/share/eups/Linux64/ctrl_mpexec/g34d403d65c+87a1347ca1/python/lsst/ctrl/mpexec/cmdLineFwk.py\", line 596, in makeGraph\n",
      "    qgraph = graphBuilder.makeGraph(\n",
      "  File \"/cvmfs/sw.lsst.eu/linux-x86_64/lsst_distrib/w_2022_09/conda/envs/lsst-scipipe-2.0.0/share/eups/Linux64/pipe_base/g418b9a0d0a+75a010bda2/python/lsst/pipe/base/graphBuilder.py\", line 1131, in makeGraph\n",
      "    scaffolding = _PipelineScaffolding(pipeline, registry=self.registry)\n",
      "  File \"/cvmfs/sw.lsst.eu/linux-x86_64/lsst_distrib/w_2022_09/conda/envs/lsst-scipipe-2.0.0/share/eups/Linux64/pipe_base/g418b9a0d0a+75a010bda2/python/lsst/pipe/base/graphBuilder.py\", line 505, in __init__\n",
      "    datasetTypes = PipelineDatasetTypes.fromPipeline(pipeline, registry=registry)\n",
      "  File \"/cvmfs/sw.lsst.eu/linux-x86_64/lsst_distrib/w_2022_09/conda/envs/lsst-scipipe-2.0.0/share/eups/Linux64/pipe_base/g418b9a0d0a+75a010bda2/python/lsst/pipe/base/pipeline.py\", line 1101, in fromPipeline\n",
      "    pipeline = list(pipeline)\n",
      "  File \"/cvmfs/sw.lsst.eu/linux-x86_64/lsst_distrib/w_2022_09/conda/envs/lsst-scipipe-2.0.0/share/eups/Linux64/pipe_base/g418b9a0d0a+75a010bda2/python/lsst/pipe/base/pipeline.py\", line 631, in toExpandedPipeline\n",
      "    yield from self._toExpandedPipelineImpl()\n",
      "  File \"/cvmfs/sw.lsst.eu/linux-x86_64/lsst_distrib/w_2022_09/conda/envs/lsst-scipipe-2.0.0/share/eups/Linux64/pipe_base/g418b9a0d0a+75a010bda2/python/lsst/pipe/base/pipeline.py\", line 636, in _toExpandedPipelineImpl\n",
      "    taskDefs.append(self._buildTaskDef(label))\n",
      "  File \"/cvmfs/sw.lsst.eu/linux-x86_64/lsst_distrib/w_2022_09/conda/envs/lsst-scipipe-2.0.0/share/eups/Linux64/pipe_base/g418b9a0d0a+75a010bda2/python/lsst/pipe/base/pipeline.py\", line 657, in _buildTaskDef\n",
      "    taskClass = doImport(taskIR.klass)\n",
      "  File \"/cvmfs/sw.lsst.eu/linux-x86_64/lsst_distrib/w_2022_09/conda/envs/lsst-scipipe-2.0.0/share/eups/Linux64/utils/g79a716f8d0+8493f548bc/python/lsst/utils/doImport.py\", line 68, in doImport\n",
      "    pytype = tryImport(\".\".join(moduleComponents), infileComponents, previousError)\n",
      "  File \"/cvmfs/sw.lsst.eu/linux-x86_64/lsst_distrib/w_2022_09/conda/envs/lsst-scipipe-2.0.0/share/eups/Linux64/utils/g79a716f8d0+8493f548bc/python/lsst/utils/doImport.py\", line 49, in tryImport\n",
      "    pytype = importlib.import_module(module)\n",
      "  File \"/cvmfs/sw.lsst.eu/linux-x86_64/lsst_distrib/w_2022_09/conda/envs/lsst-scipipe-2.0.0/lib/python3.8/importlib/__init__.py\", line 127, in import_module\n",
      "    return _bootstrap._gcd_import(name[level:], package, level)\n",
      "  File \"<frozen importlib._bootstrap>\", line 1014, in _gcd_import\n",
      "  File \"<frozen importlib._bootstrap>\", line 991, in _find_and_load\n",
      "  File \"<frozen importlib._bootstrap>\", line 961, in _find_and_load_unlocked\n",
      "  File \"<frozen importlib._bootstrap>\", line 219, in _call_with_frames_removed\n",
      "  File \"<frozen importlib._bootstrap>\", line 1014, in _gcd_import\n",
      "  File \"<frozen importlib._bootstrap>\", line 991, in _find_and_load\n",
      "  File \"<frozen importlib._bootstrap>\", line 961, in _find_and_load_unlocked\n",
      "  File \"<frozen importlib._bootstrap>\", line 219, in _call_with_frames_removed\n",
      "  File \"<frozen importlib._bootstrap>\", line 1014, in _gcd_import\n",
      "  File \"<frozen importlib._bootstrap>\", line 991, in _find_and_load\n",
      "  File \"<frozen importlib._bootstrap>\", line 975, in _find_and_load_unlocked\n",
      "  File \"<frozen importlib._bootstrap>\", line 671, in _load_unlocked\n",
      "  File \"<frozen importlib._bootstrap_external>\", line 843, in exec_module\n",
      "  File \"<frozen importlib._bootstrap>\", line 219, in _call_with_frames_removed\n",
      "  File \"/sps/lsst/groups/auxtel/softs/shared/auxteldm_gen3/repos/w_2022_09/atmospec/python/lsst/atmospec/__init__.py\", line 24, in <module>\n",
      "    from .processStar import *\n",
      "  File \"/sps/lsst/groups/auxtel/softs/shared/auxteldm_gen3/repos/w_2022_09/atmospec/python/lsst/atmospec/processStar.py\", line 47, in <module>\n",
      "    from .spectraction import SpectractorShim\n",
      "  File \"/sps/lsst/groups/auxtel/softs/shared/auxteldm_gen3/repos/w_2022_09/atmospec/python/lsst/atmospec/spectraction.py\", line 31, in <module>\n",
      "    from spectractor.extractor.images import Image, find_target, turn_image  # noqa: E402\n",
      "  File \"/cvmfs/sw.lsst.eu/linux-x86_64/lsst_distrib/w_2022_09/conda/envs/lsst-scipipe-2.0.0/share/eups/Linux64/spectractor/g4aa0643652/lib/python/spectractor/extractor/images.py\", line 13, in <module>\n",
      "    from spectractor.extractor.targets import load_target\n",
      "  File \"/cvmfs/sw.lsst.eu/linux-x86_64/lsst_distrib/w_2022_09/conda/envs/lsst-scipipe-2.0.0/share/eups/Linux64/spectractor/g4aa0643652/lib/python/spectractor/extractor/targets.py\", line 12, in <module>\n",
      "    from spectractor.extractor.spectroscopy import (Lines, HGAR_LINES, HYDROGEN_LINES, ATMOSPHERIC_LINES,\n",
      "  File \"/cvmfs/sw.lsst.eu/linux-x86_64/lsst_distrib/w_2022_09/conda/envs/lsst-scipipe-2.0.0/share/eups/Linux64/spectractor/g4aa0643652/lib/python/spectractor/extractor/spectroscopy.py\", line 10, in <module>\n",
      "    from spectractor.tools import gauss, multigauss_and_bgd, rescale_x_for_legendre, plot_spectrum_simple\n",
      "  File \"/cvmfs/sw.lsst.eu/linux-x86_64/lsst_distrib/w_2022_09/conda/envs/lsst-scipipe-2.0.0/share/eups/Linux64/spectractor/g4aa0643652/lib/python/spectractor/tools.py\", line 26, in <module>\n",
      "    from numba import njit\n",
      "  File \"/cvmfs/sw.lsst.eu/linux-x86_64/lsst_distrib/w_2022_09/conda/envs/lsst-scipipe-2.0.0/lib/python3.8/site-packages/numba/__init__.py\", line 200, in <module>\n",
      "    _ensure_critical_deps()\n",
      "  File \"/cvmfs/sw.lsst.eu/linux-x86_64/lsst_distrib/w_2022_09/conda/envs/lsst-scipipe-2.0.0/lib/python3.8/site-packages/numba/__init__.py\", line 140, in _ensure_critical_deps\n",
      "    raise ImportError(\"Numba needs NumPy 1.21 or less\")\n",
      "ImportError: Numba needs NumPy 1.21 or less\n"
     ]
    },
    {
     "data": {
      "text/plain": [
       "256"
      ]
     },
     "execution_count": 14,
     "metadata": {},
     "output_type": "execute_result"
    }
   ],
   "source": [
    "os.system(command)"
   ]
  },
  {
   "cell_type": "code",
   "execution_count": null,
   "id": "e0926366-a1a9-4422-a930-6e9adf52bc4c",
   "metadata": {},
   "outputs": [],
   "source": []
  }
 ],
 "metadata": {
  "kernelspec": {
   "display_name": "lsst_distrib_w_2022_09",
   "language": "python",
   "name": "lsst_distrib_w_2022_09"
  },
  "language_info": {
   "codemirror_mode": {
    "name": "ipython",
    "version": 3
   },
   "file_extension": ".py",
   "mimetype": "text/x-python",
   "name": "python",
   "nbconvert_exporter": "python",
   "pygments_lexer": "ipython3",
   "version": "3.8.12"
  }
 },
 "nbformat": 4,
 "nbformat_minor": 5
}
