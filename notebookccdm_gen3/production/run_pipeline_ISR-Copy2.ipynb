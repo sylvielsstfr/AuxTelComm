{
 "cells": [
  {
   "cell_type": "markdown",
   "id": "b9be9ae4-f449-46c0-b961-ca3e3c530df1",
   "metadata": {},
   "source": [
    "# Run the pipeline from the notebook"
   ]
  },
  {
   "cell_type": "markdown",
   "id": "5bbb17b9-59cf-4f1c-9fd7-550e01f7a298",
   "metadata": {},
   "source": [
    "\n",
    "- work with Weakly_2022_39\n",
    "- use jupyter kernel LSST\n",
    "\n",
    "- author : Sylvie Dagoret-Campagne\n",
    "- affiliation : IJCLab\n",
    "- creation date : 2022/09/24\n"
   ]
  },
  {
   "cell_type": "code",
   "execution_count": 1,
   "id": "14308bbb-de8f-423b-b04e-522714fe6689",
   "metadata": {},
   "outputs": [
    {
     "name": "stdout",
     "output_type": "stream",
     "text": [
      "atmospec              LOCAL:/sps/lsst/groups/auxtel/softs/shared/auxteldm_gen3/repos/w_2022_39/atmospec \tsetup\n",
      "drp_pipe              LOCAL:/sps/lsst/groups/auxtel/softs/shared/auxteldm_gen3/repos/w_2022_39/drp_pipe \tsetup\n",
      "eups                  LOCAL:/cvmfs/sw.lsst.eu/linux-x86_64/lsst_distrib/w_2022_39/conda/envs/lsst-scipipe-4.1.0/eups \tsetup\n",
      "rapid_analysis        LOCAL:/sps/lsst/groups/auxtel/softs/shared/auxteldm_gen3/repos/w_2022_39/rapid_analysis \tsetup\n"
     ]
    }
   ],
   "source": [
    "! eups list -s | grep LOCAL"
   ]
  },
  {
   "cell_type": "code",
   "execution_count": 2,
   "id": "2bc0c3e1-b1ae-46a9-b476-3fdcf4b945a3",
   "metadata": {},
   "outputs": [],
   "source": [
    "# Basic imports\n",
    "import numpy as np\n",
    "\n",
    "import matplotlib as mpl\n",
    "import matplotlib.pyplot as plt\n",
    "\n",
    "from pprint import pprint"
   ]
  },
  {
   "cell_type": "code",
   "execution_count": 3,
   "id": "43ccd2b5-5112-4aad-bd35-3c196a1c464c",
   "metadata": {},
   "outputs": [],
   "source": [
    "from lsst.ctrl.mpexec import SimplePipelineExecutor\n",
    "from lsst.pipe.base import Pipeline"
   ]
  },
  {
   "cell_type": "code",
   "execution_count": 4,
   "id": "96a4f599-d3b6-478d-a66f-2fc81ef19ed1",
   "metadata": {},
   "outputs": [],
   "source": [
    "from lsst.daf.butler import Butler\n",
    "\n",
    "repo = \"/sps/lsst/groups/auxtel/softs/shared/auxteldm_gen3/data/butler.yaml\"\n",
    "\n",
    "butler = Butler(repo)\n",
    "registry = butler.registry"
   ]
  },
  {
   "cell_type": "markdown",
   "id": "ddc8ed6a-fd8c-4701-b117-b124b974fba0",
   "metadata": {},
   "source": [
    "### DRP pipeline for Latiss\n",
    "https://github.com/lsst/drp_pipe/tree/main/pipelines/LATISS"
   ]
  },
  {
   "cell_type": "code",
   "execution_count": 5,
   "id": "0e1ab5ae-a2b5-49cf-beb2-3b9f7f6c1465",
   "metadata": {},
   "outputs": [],
   "source": [
    "# set up an output collection with your username\n",
    "#outputCollection = \"u/nate2/analysisToolsExample\"\n",
    "inputCollections = [\"LATISS/raw/all\",\"refcats\",\"LATISS/calib\"]\n",
    "outputCollection = \"u/dagoret/test_latiss_drp\"\n",
    "\n",
    "# this can be skipped if you already have a read writable butler setup (above is read only)\n",
    "butlerRW = SimplePipelineExecutor.prep_butler(repo, inputs = inputCollections,output=outputCollection)\n",
    "\n",
    "# load in the pipeline to run\n",
    "#pipeline = Pipeline.from_uri(\"$ANALYSIS_TOOLS_DIR/pipelines/coaddQualityCore.yaml\")\n",
    "\n",
    "\n",
    "pipeline = Pipeline.from_uri(\"$DRP_PIPE_DIR/pipelines/LATISS/DRP.yaml\")"
   ]
  },
  {
   "cell_type": "code",
   "execution_count": 6,
   "id": "bbe0df13-1843-4871-9e9c-f2ba4a94004f",
   "metadata": {},
   "outputs": [
    {
     "name": "stdout",
     "output_type": "stream",
     "text": [
      "Overriding default configuration file with /cvmfs/sw.lsst.eu/linux-x86_64/lsst_distrib/w_2022_39/conda/envs/lsst-scipipe-4.1.0/share/eups/Linux64/dustmaps_cachedata/g41a3ec361e+62d12e78cb/config/.dustmapsrc\n"
     ]
    },
    {
     "ename": "LookupError",
     "evalue": "DatasetType 'atlas_refcat2_20220201' referenced by CalibrateConnections uses 'skypix' as a dimension placeholder, but does not already exist in the registry.  Note that reference catalog names are now used as the dataset type name instead of 'ref_cat'.",
     "output_type": "error",
     "traceback": [
      "\u001b[0;31m---------------------------------------------------------------------------\u001b[0m",
      "\u001b[0;31mKeyError\u001b[0m                                  Traceback (most recent call last)",
      "File \u001b[0;32m/cvmfs/sw.lsst.eu/linux-x86_64/lsst_distrib/w_2022_39/conda/envs/lsst-scipipe-4.1.0/share/eups/Linux64/pipe_base/g646899f3d4+9b4274c3ef/python/lsst/pipe/base/pipeline.py:881\u001b[0m, in \u001b[0;36mTaskDatasetTypes.fromTaskDef.<locals>.makeDatasetTypesSet\u001b[0;34m(connectionType, is_input, freeze)\u001b[0m\n\u001b[1;32m    880\u001b[0m \u001b[38;5;28;01mtry\u001b[39;00m:\n\u001b[0;32m--> 881\u001b[0m     datasetType \u001b[38;5;241m=\u001b[39m \u001b[43mregistry\u001b[49m\u001b[38;5;241;43m.\u001b[39;49m\u001b[43mgetDatasetType\u001b[49m\u001b[43m(\u001b[49m\u001b[43mc\u001b[49m\u001b[38;5;241;43m.\u001b[39;49m\u001b[43mname\u001b[49m\u001b[43m)\u001b[49m\n\u001b[1;32m    882\u001b[0m \u001b[38;5;28;01mexcept\u001b[39;00m \u001b[38;5;167;01mLookupError\u001b[39;00m \u001b[38;5;28;01mas\u001b[39;00m err:\n",
      "File \u001b[0;32m/cvmfs/sw.lsst.eu/linux-x86_64/lsst_distrib/w_2022_39/conda/envs/lsst-scipipe-4.1.0/share/eups/Linux64/daf_butler/g1a6169c876+17c7ad0751/python/lsst/daf/butler/registries/sql.py:410\u001b[0m, in \u001b[0;36mSqlRegistry.getDatasetType\u001b[0;34m(self, name)\u001b[0m\n\u001b[1;32m    408\u001b[0m \u001b[38;5;28;01mdef\u001b[39;00m \u001b[38;5;21mgetDatasetType\u001b[39m(\u001b[38;5;28mself\u001b[39m, name: \u001b[38;5;28mstr\u001b[39m) \u001b[38;5;241m-\u001b[39m\u001b[38;5;241m>\u001b[39m DatasetType:\n\u001b[1;32m    409\u001b[0m     \u001b[38;5;66;03m# Docstring inherited from lsst.daf.butler.registry.Registry\u001b[39;00m\n\u001b[0;32m--> 410\u001b[0m     \u001b[38;5;28;01mreturn\u001b[39;00m \u001b[38;5;28;43mself\u001b[39;49m\u001b[38;5;241;43m.\u001b[39;49m\u001b[43m_managers\u001b[49m\u001b[38;5;241;43m.\u001b[39;49m\u001b[43mdatasets\u001b[49m\u001b[43m[\u001b[49m\u001b[43mname\u001b[49m\u001b[43m]\u001b[49m\u001b[38;5;241m.\u001b[39mdatasetType\n",
      "File \u001b[0;32m/cvmfs/sw.lsst.eu/linux-x86_64/lsst_distrib/w_2022_39/conda/envs/lsst-scipipe-4.1.0/share/eups/Linux64/daf_butler/g1a6169c876+17c7ad0751/python/lsst/daf/butler/registry/interfaces/_datasets.py:598\u001b[0m, in \u001b[0;36mDatasetRecordStorageManager.__getitem__\u001b[0;34m(self, name)\u001b[0m\n\u001b[1;32m    597\u001b[0m \u001b[38;5;28;01mif\u001b[39;00m result \u001b[38;5;129;01mis\u001b[39;00m \u001b[38;5;28;01mNone\u001b[39;00m:\n\u001b[0;32m--> 598\u001b[0m     \u001b[38;5;28;01mraise\u001b[39;00m \u001b[38;5;167;01mKeyError\u001b[39;00m(\u001b[38;5;124mf\u001b[39m\u001b[38;5;124m\"\u001b[39m\u001b[38;5;124mDataset type with name \u001b[39m\u001b[38;5;124m'\u001b[39m\u001b[38;5;132;01m{\u001b[39;00mname\u001b[38;5;132;01m}\u001b[39;00m\u001b[38;5;124m'\u001b[39m\u001b[38;5;124m not found.\u001b[39m\u001b[38;5;124m\"\u001b[39m)\n\u001b[1;32m    599\u001b[0m \u001b[38;5;28;01mreturn\u001b[39;00m result\n",
      "\u001b[0;31mKeyError\u001b[0m: \"Dataset type with name 'atlas_refcat2_20220201' not found.\"",
      "\nThe above exception was the direct cause of the following exception:\n",
      "\u001b[0;31mLookupError\u001b[0m                               Traceback (most recent call last)",
      "Input \u001b[0;32mIn [6]\u001b[0m, in \u001b[0;36m<cell line: 18>\u001b[0;34m()\u001b[0m\n\u001b[1;32m     15\u001b[0m backend_ \u001b[38;5;241m=\u001b[39m  mpl\u001b[38;5;241m.\u001b[39mget_backend() \n\u001b[1;32m     16\u001b[0m mpl\u001b[38;5;241m.\u001b[39muse(\u001b[38;5;124m\"\u001b[39m\u001b[38;5;124mAgg\u001b[39m\u001b[38;5;124m\"\u001b[39m)\n\u001b[0;32m---> 18\u001b[0m executor \u001b[38;5;241m=\u001b[39m \u001b[43mSimplePipelineExecutor\u001b[49m\u001b[38;5;241;43m.\u001b[39;49m\u001b[43mfrom_pipeline\u001b[49m\u001b[43m(\u001b[49m\u001b[43mpipeline\u001b[49m\u001b[43m,\u001b[49m\u001b[43m \u001b[49m\u001b[43mwhere\u001b[49m\u001b[38;5;241;43m=\u001b[39;49m\u001b[43mwhereString\u001b[49m\u001b[43m,\u001b[49m\u001b[43m \u001b[49m\u001b[43mbutler\u001b[49m\u001b[38;5;241;43m=\u001b[39;49m\u001b[43mbutlerRW\u001b[49m\u001b[43m)\u001b[49m\n\u001b[1;32m     19\u001b[0m quanta \u001b[38;5;241m=\u001b[39m executor\u001b[38;5;241m.\u001b[39mrun(\u001b[38;5;28;01mTrue\u001b[39;00m)\n\u001b[1;32m     21\u001b[0m \u001b[38;5;66;03m# Restore the ability for plots to be put into the notebook\u001b[39;00m\n",
      "File \u001b[0;32m/cvmfs/sw.lsst.eu/linux-x86_64/lsst_distrib/w_2022_39/conda/envs/lsst-scipipe-4.1.0/share/eups/Linux64/ctrl_mpexec/g5106228df7+8f386c43b7/python/lsst/ctrl/mpexec/simple_pipeline_executor.py:222\u001b[0m, in \u001b[0;36mSimplePipelineExecutor.from_pipeline\u001b[0;34m(cls, pipeline, where, butler, **kwargs)\u001b[0m\n\u001b[1;32m    220\u001b[0m     pipeline \u001b[38;5;241m=\u001b[39m \u001b[38;5;28mlist\u001b[39m(pipeline)\n\u001b[1;32m    221\u001b[0m graph_builder \u001b[38;5;241m=\u001b[39m GraphBuilder(butler\u001b[38;5;241m.\u001b[39mregistry)\n\u001b[0;32m--> 222\u001b[0m quantum_graph \u001b[38;5;241m=\u001b[39m \u001b[43mgraph_builder\u001b[49m\u001b[38;5;241;43m.\u001b[39;49m\u001b[43mmakeGraph\u001b[49m\u001b[43m(\u001b[49m\n\u001b[1;32m    223\u001b[0m \u001b[43m    \u001b[49m\u001b[43mpipeline\u001b[49m\u001b[43m,\u001b[49m\u001b[43m \u001b[49m\u001b[43mcollections\u001b[49m\u001b[38;5;241;43m=\u001b[39;49m\u001b[43mbutler\u001b[49m\u001b[38;5;241;43m.\u001b[39;49m\u001b[43mcollections\u001b[49m\u001b[43m,\u001b[49m\u001b[43m \u001b[49m\u001b[43mrun\u001b[49m\u001b[38;5;241;43m=\u001b[39;49m\u001b[43mbutler\u001b[49m\u001b[38;5;241;43m.\u001b[39;49m\u001b[43mrun\u001b[49m\u001b[43m,\u001b[49m\u001b[43m \u001b[49m\u001b[43muserQuery\u001b[49m\u001b[38;5;241;43m=\u001b[39;49m\u001b[43mwhere\u001b[49m\n\u001b[1;32m    224\u001b[0m \u001b[43m\u001b[49m\u001b[43m)\u001b[49m\n\u001b[1;32m    225\u001b[0m \u001b[38;5;28;01mreturn\u001b[39;00m \u001b[38;5;28mcls\u001b[39m(quantum_graph\u001b[38;5;241m=\u001b[39mquantum_graph, butler\u001b[38;5;241m=\u001b[39mbutler)\n",
      "File \u001b[0;32m/cvmfs/sw.lsst.eu/linux-x86_64/lsst_distrib/w_2022_39/conda/envs/lsst-scipipe-4.1.0/share/eups/Linux64/pipe_base/g646899f3d4+9b4274c3ef/python/lsst/pipe/base/graphBuilder.py:1275\u001b[0m, in \u001b[0;36mGraphBuilder.makeGraph\u001b[0;34m(self, pipeline, collections, run, userQuery, datasetQueryConstraint, metadata, resolveRefs)\u001b[0m\n\u001b[1;32m   1273\u001b[0m \u001b[38;5;28;01mif\u001b[39;00m resolveRefs \u001b[38;5;129;01mand\u001b[39;00m run \u001b[38;5;129;01mis\u001b[39;00m \u001b[38;5;28;01mNone\u001b[39;00m:\n\u001b[1;32m   1274\u001b[0m     \u001b[38;5;28;01mraise\u001b[39;00m \u001b[38;5;167;01mValueError\u001b[39;00m(\u001b[38;5;124m\"\u001b[39m\u001b[38;5;124m`resolveRefs` requires `run` parameter.\u001b[39m\u001b[38;5;124m\"\u001b[39m)\n\u001b[0;32m-> 1275\u001b[0m scaffolding \u001b[38;5;241m=\u001b[39m \u001b[43m_PipelineScaffolding\u001b[49m\u001b[43m(\u001b[49m\u001b[43mpipeline\u001b[49m\u001b[43m,\u001b[49m\u001b[43m \u001b[49m\u001b[43mregistry\u001b[49m\u001b[38;5;241;43m=\u001b[39;49m\u001b[38;5;28;43mself\u001b[39;49m\u001b[38;5;241;43m.\u001b[39;49m\u001b[43mregistry\u001b[49m\u001b[43m)\u001b[49m\n\u001b[1;32m   1276\u001b[0m \u001b[38;5;28;01mif\u001b[39;00m \u001b[38;5;129;01mnot\u001b[39;00m collections \u001b[38;5;129;01mand\u001b[39;00m (scaffolding\u001b[38;5;241m.\u001b[39minitInputs \u001b[38;5;129;01mor\u001b[39;00m scaffolding\u001b[38;5;241m.\u001b[39minputs \u001b[38;5;129;01mor\u001b[39;00m scaffolding\u001b[38;5;241m.\u001b[39mprerequisites):\n\u001b[1;32m   1277\u001b[0m     \u001b[38;5;28;01mraise\u001b[39;00m \u001b[38;5;167;01mValueError\u001b[39;00m(\u001b[38;5;124m\"\u001b[39m\u001b[38;5;124mPipeline requires input datasets but no input collections provided.\u001b[39m\u001b[38;5;124m\"\u001b[39m)\n",
      "File \u001b[0;32m/cvmfs/sw.lsst.eu/linux-x86_64/lsst_distrib/w_2022_39/conda/envs/lsst-scipipe-4.1.0/share/eups/Linux64/pipe_base/g646899f3d4+9b4274c3ef/python/lsst/pipe/base/graphBuilder.py:567\u001b[0m, in \u001b[0;36m_PipelineScaffolding.__init__\u001b[0;34m(self, pipeline, registry)\u001b[0m\n\u001b[1;32m    565\u001b[0m \u001b[38;5;28mself\u001b[39m\u001b[38;5;241m.\u001b[39mtasks \u001b[38;5;241m=\u001b[39m []\n\u001b[1;32m    566\u001b[0m \u001b[38;5;66;03m# Aggregate and categorize the DatasetTypes in the Pipeline.\u001b[39;00m\n\u001b[0;32m--> 567\u001b[0m datasetTypes \u001b[38;5;241m=\u001b[39m \u001b[43mPipelineDatasetTypes\u001b[49m\u001b[38;5;241;43m.\u001b[39;49m\u001b[43mfromPipeline\u001b[49m\u001b[43m(\u001b[49m\u001b[43mpipeline\u001b[49m\u001b[43m,\u001b[49m\u001b[43m \u001b[49m\u001b[43mregistry\u001b[49m\u001b[38;5;241;43m=\u001b[39;49m\u001b[43mregistry\u001b[49m\u001b[43m)\u001b[49m\n\u001b[1;32m    568\u001b[0m \u001b[38;5;66;03m# Construct dictionaries that map those DatasetTypes to structures\u001b[39;00m\n\u001b[1;32m    569\u001b[0m \u001b[38;5;66;03m# that will (later) hold addiitonal information about them.\u001b[39;00m\n\u001b[1;32m    570\u001b[0m \u001b[38;5;28;01mfor\u001b[39;00m attr \u001b[38;5;129;01min\u001b[39;00m (\n\u001b[1;32m    571\u001b[0m     \u001b[38;5;124m\"\u001b[39m\u001b[38;5;124minitInputs\u001b[39m\u001b[38;5;124m\"\u001b[39m,\n\u001b[1;32m    572\u001b[0m     \u001b[38;5;124m\"\u001b[39m\u001b[38;5;124minitIntermediates\u001b[39m\u001b[38;5;124m\"\u001b[39m,\n\u001b[0;32m   (...)\u001b[0m\n\u001b[1;32m    577\u001b[0m     \u001b[38;5;124m\"\u001b[39m\u001b[38;5;124mprerequisites\u001b[39m\u001b[38;5;124m\"\u001b[39m,\n\u001b[1;32m    578\u001b[0m ):\n",
      "File \u001b[0;32m/cvmfs/sw.lsst.eu/linux-x86_64/lsst_distrib/w_2022_39/conda/envs/lsst-scipipe-4.1.0/share/eups/Linux64/pipe_base/g646899f3d4+9b4274c3ef/python/lsst/pipe/base/pipeline.py:1152\u001b[0m, in \u001b[0;36mPipelineDatasetTypes.fromPipeline\u001b[0;34m(cls, pipeline, registry, include_configs, include_packages)\u001b[0m\n\u001b[1;32m   1149\u001b[0m         typeStorageclassMap[outConnection\u001b[38;5;241m.\u001b[39mname] \u001b[38;5;241m=\u001b[39m outConnection\u001b[38;5;241m.\u001b[39mstorageClass\n\u001b[1;32m   1151\u001b[0m \u001b[38;5;28;01mfor\u001b[39;00m taskDef \u001b[38;5;129;01min\u001b[39;00m pipeline:\n\u001b[0;32m-> 1152\u001b[0m     thisTask \u001b[38;5;241m=\u001b[39m \u001b[43mTaskDatasetTypes\u001b[49m\u001b[38;5;241;43m.\u001b[39;49m\u001b[43mfromTaskDef\u001b[49m\u001b[43m(\u001b[49m\n\u001b[1;32m   1153\u001b[0m \u001b[43m        \u001b[49m\u001b[43mtaskDef\u001b[49m\u001b[43m,\u001b[49m\n\u001b[1;32m   1154\u001b[0m \u001b[43m        \u001b[49m\u001b[43mregistry\u001b[49m\u001b[38;5;241;43m=\u001b[39;49m\u001b[43mregistry\u001b[49m\u001b[43m,\u001b[49m\n\u001b[1;32m   1155\u001b[0m \u001b[43m        \u001b[49m\u001b[43minclude_configs\u001b[49m\u001b[38;5;241;43m=\u001b[39;49m\u001b[43minclude_configs\u001b[49m\u001b[43m,\u001b[49m\n\u001b[1;32m   1156\u001b[0m \u001b[43m        \u001b[49m\u001b[43mstorage_class_mapping\u001b[49m\u001b[38;5;241;43m=\u001b[39;49m\u001b[43mtypeStorageclassMap\u001b[49m\u001b[43m,\u001b[49m\n\u001b[1;32m   1157\u001b[0m \u001b[43m    \u001b[49m\u001b[43m)\u001b[49m\n\u001b[1;32m   1158\u001b[0m     allInitInputs\u001b[38;5;241m.\u001b[39mupdate(thisTask\u001b[38;5;241m.\u001b[39minitInputs)\n\u001b[1;32m   1159\u001b[0m     allInitOutputs\u001b[38;5;241m.\u001b[39mupdate(thisTask\u001b[38;5;241m.\u001b[39minitOutputs)\n",
      "File \u001b[0;32m/cvmfs/sw.lsst.eu/linux-x86_64/lsst_distrib/w_2022_39/conda/envs/lsst-scipipe-4.1.0/share/eups/Linux64/pipe_base/g646899f3d4+9b4274c3ef/python/lsst/pipe/base/pipeline.py:1015\u001b[0m, in \u001b[0;36mTaskDatasetTypes.fromTaskDef\u001b[0;34m(cls, taskDef, registry, include_configs, storage_class_mapping)\u001b[0m\n\u001b[1;32m   1007\u001b[0m     outputs\u001b[38;5;241m.\u001b[39mupdate({DatasetType(taskDef\u001b[38;5;241m.\u001b[39mlogOutputDatasetName, dimensions, \u001b[38;5;124m\"\u001b[39m\u001b[38;5;124mButlerLogRecords\u001b[39m\u001b[38;5;124m\"\u001b[39m)})\n\u001b[1;32m   1009\u001b[0m outputs\u001b[38;5;241m.\u001b[39mfreeze()\n\u001b[1;32m   1011\u001b[0m \u001b[38;5;28;01mreturn\u001b[39;00m \u001b[38;5;28mcls\u001b[39m(\n\u001b[1;32m   1012\u001b[0m     initInputs\u001b[38;5;241m=\u001b[39mmakeDatasetTypesSet(\u001b[38;5;124m\"\u001b[39m\u001b[38;5;124minitInputs\u001b[39m\u001b[38;5;124m\"\u001b[39m, is_input\u001b[38;5;241m=\u001b[39m\u001b[38;5;28;01mTrue\u001b[39;00m),\n\u001b[1;32m   1013\u001b[0m     initOutputs\u001b[38;5;241m=\u001b[39minitOutputs,\n\u001b[1;32m   1014\u001b[0m     inputs\u001b[38;5;241m=\u001b[39mmakeDatasetTypesSet(\u001b[38;5;124m\"\u001b[39m\u001b[38;5;124minputs\u001b[39m\u001b[38;5;124m\"\u001b[39m, is_input\u001b[38;5;241m=\u001b[39m\u001b[38;5;28;01mTrue\u001b[39;00m),\n\u001b[0;32m-> 1015\u001b[0m     prerequisites\u001b[38;5;241m=\u001b[39m\u001b[43mmakeDatasetTypesSet\u001b[49m\u001b[43m(\u001b[49m\u001b[38;5;124;43m\"\u001b[39;49m\u001b[38;5;124;43mprerequisiteInputs\u001b[39;49m\u001b[38;5;124;43m\"\u001b[39;49m\u001b[43m,\u001b[49m\u001b[43m \u001b[49m\u001b[43mis_input\u001b[49m\u001b[38;5;241;43m=\u001b[39;49m\u001b[38;5;28;43;01mTrue\u001b[39;49;00m\u001b[43m)\u001b[49m,\n\u001b[1;32m   1016\u001b[0m     outputs\u001b[38;5;241m=\u001b[39moutputs,\n\u001b[1;32m   1017\u001b[0m )\n",
      "File \u001b[0;32m/cvmfs/sw.lsst.eu/linux-x86_64/lsst_distrib/w_2022_39/conda/envs/lsst-scipipe-4.1.0/share/eups/Linux64/pipe_base/g646899f3d4+9b4274c3ef/python/lsst/pipe/base/pipeline.py:883\u001b[0m, in \u001b[0;36mTaskDatasetTypes.fromTaskDef.<locals>.makeDatasetTypesSet\u001b[0;34m(connectionType, is_input, freeze)\u001b[0m\n\u001b[1;32m    881\u001b[0m     datasetType \u001b[38;5;241m=\u001b[39m registry\u001b[38;5;241m.\u001b[39mgetDatasetType(c\u001b[38;5;241m.\u001b[39mname)\n\u001b[1;32m    882\u001b[0m \u001b[38;5;28;01mexcept\u001b[39;00m \u001b[38;5;167;01mLookupError\u001b[39;00m \u001b[38;5;28;01mas\u001b[39;00m err:\n\u001b[0;32m--> 883\u001b[0m     \u001b[38;5;28;01mraise\u001b[39;00m \u001b[38;5;167;01mLookupError\u001b[39;00m(\n\u001b[1;32m    884\u001b[0m         \u001b[38;5;124mf\u001b[39m\u001b[38;5;124m\"\u001b[39m\u001b[38;5;124mDatasetType \u001b[39m\u001b[38;5;124m'\u001b[39m\u001b[38;5;132;01m{\u001b[39;00mc\u001b[38;5;241m.\u001b[39mname\u001b[38;5;132;01m}\u001b[39;00m\u001b[38;5;124m'\u001b[39m\u001b[38;5;124m referenced by \u001b[39m\u001b[38;5;124m\"\u001b[39m\n\u001b[1;32m    885\u001b[0m         \u001b[38;5;124mf\u001b[39m\u001b[38;5;124m\"\u001b[39m\u001b[38;5;132;01m{\u001b[39;00m\u001b[38;5;28mtype\u001b[39m(taskDef\u001b[38;5;241m.\u001b[39mconnections)\u001b[38;5;241m.\u001b[39m\u001b[38;5;18m__name__\u001b[39m\u001b[38;5;132;01m}\u001b[39;00m\u001b[38;5;124m uses \u001b[39m\u001b[38;5;124m'\u001b[39m\u001b[38;5;124mskypix\u001b[39m\u001b[38;5;124m'\u001b[39m\u001b[38;5;124m as a dimension \u001b[39m\u001b[38;5;124m\"\u001b[39m\n\u001b[1;32m    886\u001b[0m         \u001b[38;5;124mf\u001b[39m\u001b[38;5;124m\"\u001b[39m\u001b[38;5;124mplaceholder, but does not already exist in the registry.  \u001b[39m\u001b[38;5;124m\"\u001b[39m\n\u001b[1;32m    887\u001b[0m         \u001b[38;5;124mf\u001b[39m\u001b[38;5;124m\"\u001b[39m\u001b[38;5;124mNote that reference catalog names are now used as the dataset \u001b[39m\u001b[38;5;124m\"\u001b[39m\n\u001b[1;32m    888\u001b[0m         \u001b[38;5;124mf\u001b[39m\u001b[38;5;124m\"\u001b[39m\u001b[38;5;124mtype name instead of \u001b[39m\u001b[38;5;124m'\u001b[39m\u001b[38;5;124mref_cat\u001b[39m\u001b[38;5;124m'\u001b[39m\u001b[38;5;124m.\u001b[39m\u001b[38;5;124m\"\u001b[39m\n\u001b[1;32m    889\u001b[0m     ) \u001b[38;5;28;01mfrom\u001b[39;00m \u001b[38;5;21;01merr\u001b[39;00m\n\u001b[1;32m    890\u001b[0m rest1 \u001b[38;5;241m=\u001b[39m \u001b[38;5;28mset\u001b[39m(registry\u001b[38;5;241m.\u001b[39mdimensions\u001b[38;5;241m.\u001b[39mextract(dimensions \u001b[38;5;241m-\u001b[39m \u001b[38;5;28mset\u001b[39m([\u001b[38;5;124m\"\u001b[39m\u001b[38;5;124mskypix\u001b[39m\u001b[38;5;124m\"\u001b[39m]))\u001b[38;5;241m.\u001b[39mnames)\n\u001b[1;32m    891\u001b[0m rest2 \u001b[38;5;241m=\u001b[39m \u001b[38;5;28mset\u001b[39m(\n\u001b[1;32m    892\u001b[0m     dim\u001b[38;5;241m.\u001b[39mname \u001b[38;5;28;01mfor\u001b[39;00m dim \u001b[38;5;129;01min\u001b[39;00m datasetType\u001b[38;5;241m.\u001b[39mdimensions \u001b[38;5;28;01mif\u001b[39;00m \u001b[38;5;129;01mnot\u001b[39;00m \u001b[38;5;28misinstance\u001b[39m(dim, SkyPixDimension)\n\u001b[1;32m    893\u001b[0m )\n",
      "\u001b[0;31mLookupError\u001b[0m: DatasetType 'atlas_refcat2_20220201' referenced by CalibrateConnections uses 'skypix' as a dimension placeholder, but does not already exist in the registry.  Note that reference catalog names are now used as the dataset type name instead of 'ref_cat'."
     ]
    }
   ],
   "source": [
    "# override a configuration within a certain AnalysisTool\n",
    "#configKey = \"plots.shapeSizeFractionalDiffScatter.prep.selectors.snSelector.threshold\"\n",
    "#pipeline.addConfigOverride(\"analyzeObjectTableCore\", configKey, 400)\n",
    "\n",
    "#bands = ['g', 'r', 'i', 'z']\n",
    "#pipeline.addConfigOverride(\"analyzeObjectTableCore\", \"bands\", bands)\n",
    "#pipeline.addConfigOverride(\"catalogMatchTract\", \"bands\", bands)\n",
    "#pipeline.addConfigOverride(\"refCatObjectTract\", \"bands\", bands)\n",
    "\n",
    "# restrict processing to the same dataId used above\n",
    "#whereString = \"tract = 9813 AND skymap = 'hsc_rings_v1'\"\n",
    "whereString = \"exposure.day_obs={} and exposure.seq_num={} and instrument='LATISS'\".format(\"20220607\",\"195\") \n",
    "\n",
    "# Prevent the executor from dumping plots into the notebook\n",
    "backend_ =  mpl.get_backend() \n",
    "mpl.use(\"Agg\")\n",
    "\n",
    "executor = SimplePipelineExecutor.from_pipeline(pipeline, where=whereString, butler=butlerRW)\n",
    "quanta = executor.run(True)\n",
    "\n",
    "# Restore the ability for plots to be put into the notebook\n",
    "mpl.use(backend_)\n",
    "\n",
    "# If you only want to run one plot in a task in the pipeline do the following prior to execution\n",
    "# pipeline.addConfigOverride(\"analyzeObjectTableCore\", \"plots\", None)\n",
    "# pipeline.addConfigOverride(\"analyzeObjectTableCore\", \"plots\", ShapeSizeFractionalDiffScatterPlot)"
   ]
  },
  {
   "cell_type": "code",
   "execution_count": null,
   "id": "ff9d9c95-36ed-45d2-bbf4-c7408eae2eab",
   "metadata": {},
   "outputs": [],
   "source": [
    "datasetRefs = registry.queryDatasets(datasetType='postISRCCD', collections = outputCollection , where= \"instrument='LATISS'\")"
   ]
  },
  {
   "cell_type": "code",
   "execution_count": null,
   "id": "75791304-4e0d-4235-8028-41812682bd82",
   "metadata": {},
   "outputs": [],
   "source": []
  }
 ],
 "metadata": {
  "kernelspec": {
   "display_name": "lsst_distrib_w_2022_39",
   "language": "python",
   "name": "lsst_distrib_w_2022_39"
  },
  "language_info": {
   "codemirror_mode": {
    "name": "ipython",
    "version": 3
   },
   "file_extension": ".py",
   "mimetype": "text/x-python",
   "name": "python",
   "nbconvert_exporter": "python",
   "pygments_lexer": "ipython3",
   "version": "3.10.6"
  }
 },
 "nbformat": 4,
 "nbformat_minor": 5
}
