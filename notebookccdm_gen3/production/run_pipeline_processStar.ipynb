{
 "cells": [
  {
   "cell_type": "markdown",
   "id": "b9be9ae4-f449-46c0-b961-ca3e3c530df1",
   "metadata": {},
   "source": [
    "# Run the pipeline from the notebook"
   ]
  },
  {
   "cell_type": "markdown",
   "id": "5bbb17b9-59cf-4f1c-9fd7-550e01f7a298",
   "metadata": {},
   "source": [
    "\n",
    "- work with Weakly_2022_39 (Stackyter.py)\n",
    "- use jupyter kernel LSST\n",
    "\n",
    "- author : Sylvie Dagoret-Campagne\n",
    "- affiliation : IJCLab\n",
    "- creation date : 2022/09/20\n"
   ]
  },
  {
   "cell_type": "code",
   "execution_count": 1,
   "id": "2bc0c3e1-b1ae-46a9-b476-3fdcf4b945a3",
   "metadata": {},
   "outputs": [],
   "source": [
    "# Basic imports\n",
    "import numpy as np\n",
    "\n",
    "import matplotlib as mpl\n",
    "import matplotlib.pyplot as plt\n",
    "\n",
    "from pprint import pprint"
   ]
  },
  {
   "cell_type": "code",
   "execution_count": 2,
   "id": "43ccd2b5-5112-4aad-bd35-3c196a1c464c",
   "metadata": {},
   "outputs": [],
   "source": [
    "from lsst.ctrl.mpexec import SimplePipelineExecutor\n",
    "from lsst.pipe.base import Pipeline"
   ]
  },
  {
   "cell_type": "code",
   "execution_count": 3,
   "id": "96a4f599-d3b6-478d-a66f-2fc81ef19ed1",
   "metadata": {},
   "outputs": [],
   "source": [
    "from lsst.daf.butler import Butler\n",
    "\n",
    "\n",
    "repo = \"/sps/lsst/groups/auxtel/softs/shared/auxteldm_gen3/data/butler.yaml\"\n",
    "collection = \"u/dagoret/test_processstar\"\n",
    "\n",
    "butler = Butler(repo)\n",
    "registry = butler.registry"
   ]
  },
  {
   "cell_type": "code",
   "execution_count": 4,
   "id": "0e1ab5ae-a2b5-49cf-beb2-3b9f7f6c1465",
   "metadata": {},
   "outputs": [],
   "source": [
    "# set up an output collection with your username\n",
    "#outputCollection = \"u/nate2/analysisToolsExample\"\n",
    "inputCollections = [\"LATISS/raw/all\",\"refcats\",\"LATISS/calib\"]\n",
    "outputCollection = \"u/dagoret/test_processstar01\"\n",
    "\n",
    "# this can be skipped if you already have a read writable butler setup (above is read only)\n",
    "butlerRW = SimplePipelineExecutor.prep_butler(repo, inputs = inputCollections,output=outputCollection)\n",
    "\n",
    "# load in the pipeline to run\n",
    "#pipeline = Pipeline.from_uri(\"$ANALYSIS_TOOLS_DIR/pipelines/coaddQualityCore.yaml\")\n",
    "pipeline = Pipeline.from_uri(\"$ATMOSPEC_DIR/pipelines/processStar.yaml\")"
   ]
  },
  {
   "cell_type": "code",
   "execution_count": 5,
   "id": "bbe0df13-1843-4871-9e9c-f2ba4a94004f",
   "metadata": {},
   "outputs": [
    {
     "name": "stderr",
     "output_type": "stream",
     "text": [
      "/cvmfs/sw.lsst.eu/linux-x86_64/lsst_distrib/w_2022_39/conda/envs/lsst-scipipe-4.1.0/share/eups/Linux64/pex_config/g71c1dbb2b5+9a7299d786/python/lsst/pex/config/configurableField.py:79: FutureWarning: Call to deprecated class LoadIndexedReferenceObjectsConfig. (This config is no longer used; it will be removed after v25. Please use LoadReferenceObjectsConfig instead.) -- Deprecated since version v25.0.\n",
      "  value = self._ConfigClass(__name=name, __at=at, __label=label, **storage)\n",
      "/cvmfs/sw.lsst.eu/linux-x86_64/lsst_distrib/w_2022_39/conda/envs/lsst-scipipe-4.1.0/share/eups/Linux64/pex_config/g71c1dbb2b5+9a7299d786/python/lsst/pex/config/configurableField.py:359: FutureWarning: Call to deprecated class LoadIndexedReferenceObjectsConfig. (This config is no longer used; it will be removed after v25. Please use LoadReferenceObjectsConfig instead.) -- Deprecated since version v25.0.\n",
      "  value = oldValue.ConfigClass()\n"
     ]
    },
    {
     "ename": "KeyError",
     "evalue": "'OBJECT not found'",
     "output_type": "error",
     "traceback": [
      "\u001b[0;31m---------------------------------------------------------------------------\u001b[0m",
      "\u001b[0;31mKeyError\u001b[0m                                  Traceback (most recent call last)",
      "Input \u001b[0;32mIn [5]\u001b[0m, in \u001b[0;36m<cell line: 19>\u001b[0;34m()\u001b[0m\n\u001b[1;32m     16\u001b[0m mpl\u001b[38;5;241m.\u001b[39muse(\u001b[38;5;124m\"\u001b[39m\u001b[38;5;124mAgg\u001b[39m\u001b[38;5;124m\"\u001b[39m)\n\u001b[1;32m     18\u001b[0m executor \u001b[38;5;241m=\u001b[39m SimplePipelineExecutor\u001b[38;5;241m.\u001b[39mfrom_pipeline(pipeline, where\u001b[38;5;241m=\u001b[39mwhereString, butler\u001b[38;5;241m=\u001b[39mbutlerRW)\n\u001b[0;32m---> 19\u001b[0m quanta \u001b[38;5;241m=\u001b[39m \u001b[43mexecutor\u001b[49m\u001b[38;5;241;43m.\u001b[39;49m\u001b[43mrun\u001b[49m\u001b[43m(\u001b[49m\u001b[38;5;28;43;01mTrue\u001b[39;49;00m\u001b[43m)\u001b[49m\n\u001b[1;32m     21\u001b[0m \u001b[38;5;66;03m# Restore the ability for plots to be put into the notebook\u001b[39;00m\n\u001b[1;32m     22\u001b[0m mpl\u001b[38;5;241m.\u001b[39muse(backend_)\n",
      "File \u001b[0;32m/cvmfs/sw.lsst.eu/linux-x86_64/lsst_distrib/w_2022_39/conda/envs/lsst-scipipe-4.1.0/share/eups/Linux64/ctrl_mpexec/g5106228df7+8f386c43b7/python/lsst/ctrl/mpexec/simple_pipeline_executor.py:254\u001b[0m, in \u001b[0;36mSimplePipelineExecutor.run\u001b[0;34m(self, register_dataset_types)\u001b[0m\n\u001b[1;32m    227\u001b[0m \u001b[38;5;28;01mdef\u001b[39;00m \u001b[38;5;21mrun\u001b[39m(\u001b[38;5;28mself\u001b[39m, register_dataset_types: \u001b[38;5;28mbool\u001b[39m \u001b[38;5;241m=\u001b[39m \u001b[38;5;28;01mFalse\u001b[39;00m) \u001b[38;5;241m-\u001b[39m\u001b[38;5;241m>\u001b[39m List[Quantum]:\n\u001b[1;32m    228\u001b[0m     \u001b[38;5;124;03m\"\"\"Run all the quanta in the `QuantumGraph` in topological order.\u001b[39;00m\n\u001b[1;32m    229\u001b[0m \n\u001b[1;32m    230\u001b[0m \u001b[38;5;124;03m    Use this method to run all quanta in the graph.  Use\u001b[39;00m\n\u001b[0;32m   (...)\u001b[0m\n\u001b[1;32m    252\u001b[0m \u001b[38;5;124;03m    guarantees are made about the order in which quanta are processed.\u001b[39;00m\n\u001b[1;32m    253\u001b[0m \u001b[38;5;124;03m    \"\"\"\u001b[39;00m\n\u001b[0;32m--> 254\u001b[0m     \u001b[38;5;28;01mreturn\u001b[39;00m \u001b[38;5;28;43mlist\u001b[39;49m\u001b[43m(\u001b[49m\u001b[38;5;28;43mself\u001b[39;49m\u001b[38;5;241;43m.\u001b[39;49m\u001b[43mas_generator\u001b[49m\u001b[43m(\u001b[49m\u001b[43mregister_dataset_types\u001b[49m\u001b[38;5;241;43m=\u001b[39;49m\u001b[43mregister_dataset_types\u001b[49m\u001b[43m)\u001b[49m\u001b[43m)\u001b[49m\n",
      "File \u001b[0;32m/cvmfs/sw.lsst.eu/linux-x86_64/lsst_distrib/w_2022_39/conda/envs/lsst-scipipe-4.1.0/share/eups/Linux64/ctrl_mpexec/g5106228df7+8f386c43b7/python/lsst/ctrl/mpexec/simple_pipeline_executor.py:298\u001b[0m, in \u001b[0;36m<genexpr>\u001b[0;34m(.0)\u001b[0m\n\u001b[1;32m    291\u001b[0m single_quantum_executor \u001b[38;5;241m=\u001b[39m SingleQuantumExecutor(task_factory)\n\u001b[1;32m    292\u001b[0m \u001b[38;5;66;03m# Important that this returns a generator expression rather than being\u001b[39;00m\n\u001b[1;32m    293\u001b[0m \u001b[38;5;66;03m# a generator itself; that is what makes the PreExecInit stuff above\u001b[39;00m\n\u001b[1;32m    294\u001b[0m \u001b[38;5;66;03m# happen immediately instead of when the first quanta is executed,\u001b[39;00m\n\u001b[1;32m    295\u001b[0m \u001b[38;5;66;03m# which might be useful for callers who want to check the state of the\u001b[39;00m\n\u001b[1;32m    296\u001b[0m \u001b[38;5;66;03m# repo in between.\u001b[39;00m\n\u001b[1;32m    297\u001b[0m \u001b[38;5;28;01mreturn\u001b[39;00m (\n\u001b[0;32m--> 298\u001b[0m     \u001b[43msingle_quantum_executor\u001b[49m\u001b[38;5;241;43m.\u001b[39;49m\u001b[43mexecute\u001b[49m\u001b[43m(\u001b[49m\u001b[43mqnode\u001b[49m\u001b[38;5;241;43m.\u001b[39;49m\u001b[43mtaskDef\u001b[49m\u001b[43m,\u001b[49m\u001b[43m \u001b[49m\u001b[43mqnode\u001b[49m\u001b[38;5;241;43m.\u001b[39;49m\u001b[43mquantum\u001b[49m\u001b[43m,\u001b[49m\u001b[43m \u001b[49m\u001b[38;5;28;43mself\u001b[39;49m\u001b[38;5;241;43m.\u001b[39;49m\u001b[43mbutler\u001b[49m\u001b[43m)\u001b[49m\n\u001b[1;32m    299\u001b[0m     \u001b[38;5;28;01mfor\u001b[39;00m qnode \u001b[38;5;129;01min\u001b[39;00m \u001b[38;5;28mself\u001b[39m\u001b[38;5;241m.\u001b[39mquantum_graph\n\u001b[1;32m    300\u001b[0m )\n",
      "File \u001b[0;32m/cvmfs/sw.lsst.eu/linux-x86_64/lsst_distrib/w_2022_39/conda/envs/lsst-scipipe-4.1.0/share/eups/Linux64/ctrl_mpexec/g5106228df7+8f386c43b7/python/lsst/ctrl/mpexec/singleQuantumExecutor.py:140\u001b[0m, in \u001b[0;36mSingleQuantumExecutor.execute\u001b[0;34m(self, taskDef, quantum, butler)\u001b[0m\n\u001b[1;32m    135\u001b[0m \u001b[38;5;28;01mdef\u001b[39;00m \u001b[38;5;21mexecute\u001b[39m(\u001b[38;5;28mself\u001b[39m, taskDef: TaskDef, quantum: Quantum, butler: Butler) \u001b[38;5;241m-\u001b[39m\u001b[38;5;241m>\u001b[39m Quantum:\n\u001b[1;32m    136\u001b[0m     \u001b[38;5;66;03m# Docstring inherited from QuantumExecutor.execute\u001b[39;00m\n\u001b[1;32m    137\u001b[0m \n\u001b[1;32m    138\u001b[0m     \u001b[38;5;66;03m# Catch any exception and make a report based on that.\u001b[39;00m\n\u001b[1;32m    139\u001b[0m     \u001b[38;5;28;01mtry\u001b[39;00m:\n\u001b[0;32m--> 140\u001b[0m         result \u001b[38;5;241m=\u001b[39m \u001b[38;5;28;43mself\u001b[39;49m\u001b[38;5;241;43m.\u001b[39;49m\u001b[43m_execute\u001b[49m\u001b[43m(\u001b[49m\u001b[43mtaskDef\u001b[49m\u001b[43m,\u001b[49m\u001b[43m \u001b[49m\u001b[43mquantum\u001b[49m\u001b[43m,\u001b[49m\u001b[43m \u001b[49m\u001b[43mbutler\u001b[49m\u001b[43m)\u001b[49m\n\u001b[1;32m    141\u001b[0m         \u001b[38;5;28mself\u001b[39m\u001b[38;5;241m.\u001b[39mreport \u001b[38;5;241m=\u001b[39m QuantumReport(dataId\u001b[38;5;241m=\u001b[39mquantum\u001b[38;5;241m.\u001b[39mdataId, taskLabel\u001b[38;5;241m=\u001b[39mtaskDef\u001b[38;5;241m.\u001b[39mlabel)\n\u001b[1;32m    142\u001b[0m         \u001b[38;5;28;01mreturn\u001b[39;00m result\n",
      "File \u001b[0;32m/cvmfs/sw.lsst.eu/linux-x86_64/lsst_distrib/w_2022_39/conda/envs/lsst-scipipe-4.1.0/share/eups/Linux64/ctrl_mpexec/g5106228df7+8f386c43b7/python/lsst/ctrl/mpexec/singleQuantumExecutor.py:218\u001b[0m, in \u001b[0;36mSingleQuantumExecutor._execute\u001b[0;34m(self, taskDef, quantum, butler)\u001b[0m\n\u001b[1;32m    216\u001b[0m     \u001b[38;5;28;01melse\u001b[39;00m:\n\u001b[1;32m    217\u001b[0m         runTask \u001b[38;5;241m=\u001b[39m task\n\u001b[0;32m--> 218\u001b[0m     \u001b[38;5;28;43mself\u001b[39;49m\u001b[38;5;241;43m.\u001b[39;49m\u001b[43mrunQuantum\u001b[49m\u001b[43m(\u001b[49m\u001b[43mrunTask\u001b[49m\u001b[43m,\u001b[49m\u001b[43m \u001b[49m\u001b[43mquantum\u001b[49m\u001b[43m,\u001b[49m\u001b[43m \u001b[49m\u001b[43mtaskDef\u001b[49m\u001b[43m,\u001b[49m\u001b[43m \u001b[49m\u001b[43mbutler\u001b[49m\u001b[43m)\u001b[49m\n\u001b[1;32m    219\u001b[0m \u001b[38;5;28;01mexcept\u001b[39;00m \u001b[38;5;167;01mException\u001b[39;00m \u001b[38;5;28;01mas\u001b[39;00m e:\n\u001b[1;32m    220\u001b[0m     _LOG\u001b[38;5;241m.\u001b[39merror(\n\u001b[1;32m    221\u001b[0m         \u001b[38;5;124m\"\u001b[39m\u001b[38;5;124mExecution of task \u001b[39m\u001b[38;5;124m'\u001b[39m\u001b[38;5;132;01m%s\u001b[39;00m\u001b[38;5;124m'\u001b[39m\u001b[38;5;124m on quantum \u001b[39m\u001b[38;5;132;01m%s\u001b[39;00m\u001b[38;5;124m failed. Exception \u001b[39m\u001b[38;5;132;01m%s\u001b[39;00m\u001b[38;5;124m: \u001b[39m\u001b[38;5;132;01m%s\u001b[39;00m\u001b[38;5;124m\"\u001b[39m,\n\u001b[1;32m    222\u001b[0m         taskDef\u001b[38;5;241m.\u001b[39mlabel,\n\u001b[0;32m   (...)\u001b[0m\n\u001b[1;32m    225\u001b[0m         \u001b[38;5;28mstr\u001b[39m(e),\n\u001b[1;32m    226\u001b[0m     )\n",
      "File \u001b[0;32m/cvmfs/sw.lsst.eu/linux-x86_64/lsst_distrib/w_2022_39/conda/envs/lsst-scipipe-4.1.0/share/eups/Linux64/ctrl_mpexec/g5106228df7+8f386c43b7/python/lsst/ctrl/mpexec/singleQuantumExecutor.py:582\u001b[0m, in \u001b[0;36mSingleQuantumExecutor.runQuantum\u001b[0;34m(self, task, quantum, taskDef, butler)\u001b[0m\n\u001b[1;32m    579\u001b[0m \u001b[38;5;66;03m# Call task runQuantum() method.  Catch a few known failure modes and\u001b[39;00m\n\u001b[1;32m    580\u001b[0m \u001b[38;5;66;03m# translate them into specific\u001b[39;00m\n\u001b[1;32m    581\u001b[0m \u001b[38;5;28;01mtry\u001b[39;00m:\n\u001b[0;32m--> 582\u001b[0m     \u001b[43mtask\u001b[49m\u001b[38;5;241;43m.\u001b[39;49m\u001b[43mrunQuantum\u001b[49m\u001b[43m(\u001b[49m\u001b[43mbutlerQC\u001b[49m\u001b[43m,\u001b[49m\u001b[43m \u001b[49m\u001b[43minputRefs\u001b[49m\u001b[43m,\u001b[49m\u001b[43m \u001b[49m\u001b[43moutputRefs\u001b[49m\u001b[43m)\u001b[49m\n\u001b[1;32m    583\u001b[0m \u001b[38;5;28;01mexcept\u001b[39;00m NoWorkFound \u001b[38;5;28;01mas\u001b[39;00m err:\n\u001b[1;32m    584\u001b[0m     \u001b[38;5;66;03m# Not an error, just an early exit.\u001b[39;00m\n\u001b[1;32m    585\u001b[0m     _LOG\u001b[38;5;241m.\u001b[39minfo(\u001b[38;5;124m\"\u001b[39m\u001b[38;5;124mTask \u001b[39m\u001b[38;5;124m'\u001b[39m\u001b[38;5;132;01m%s\u001b[39;00m\u001b[38;5;124m'\u001b[39m\u001b[38;5;124m on quantum \u001b[39m\u001b[38;5;132;01m%s\u001b[39;00m\u001b[38;5;124m exited early: \u001b[39m\u001b[38;5;132;01m%s\u001b[39;00m\u001b[38;5;124m\"\u001b[39m, taskDef\u001b[38;5;241m.\u001b[39mlabel, quantum\u001b[38;5;241m.\u001b[39mdataId, \u001b[38;5;28mstr\u001b[39m(err))\n",
      "File \u001b[0;32m/sps/lsst/groups/auxtel/softs/shared/auxteldm_gen3/repos/w_2022_39/atmospec/python/lsst/atmospec/processStar.py:485\u001b[0m, in \u001b[0;36mProcessStarTask.runQuantum\u001b[0;34m(self, butlerQC, inputRefs, outputRefs)\u001b[0m\n\u001b[1;32m    481\u001b[0m inputs \u001b[38;5;241m=\u001b[39m butlerQC\u001b[38;5;241m.\u001b[39mget(inputRefs)\n\u001b[1;32m    483\u001b[0m inputs[\u001b[38;5;124m'\u001b[39m\u001b[38;5;124mdataIdDict\u001b[39m\u001b[38;5;124m'\u001b[39m] \u001b[38;5;241m=\u001b[39m inputRefs\u001b[38;5;241m.\u001b[39minputExp\u001b[38;5;241m.\u001b[39mdataId\u001b[38;5;241m.\u001b[39mbyName()\n\u001b[0;32m--> 485\u001b[0m outputs \u001b[38;5;241m=\u001b[39m \u001b[38;5;28;43mself\u001b[39;49m\u001b[38;5;241;43m.\u001b[39;49m\u001b[43mrun\u001b[49m\u001b[43m(\u001b[49m\u001b[38;5;241;43m*\u001b[39;49m\u001b[38;5;241;43m*\u001b[39;49m\u001b[43minputs\u001b[49m\u001b[43m)\u001b[49m\n\u001b[1;32m    486\u001b[0m butlerQC\u001b[38;5;241m.\u001b[39mput(outputs, outputRefs)\n",
      "File \u001b[0;32m/sps/lsst/groups/auxtel/softs/shared/auxteldm_gen3/repos/w_2022_39/atmospec/python/lsst/atmospec/processStar.py:512\u001b[0m, in \u001b[0;36mProcessStarTask.run\u001b[0;34m(self, inputExp, inputCentroid, dataIdDict)\u001b[0m\n\u001b[1;32m    509\u001b[0m linearStagePosition \u001b[38;5;241m=\u001b[39m getLinearStagePosition(inputExp)\n\u001b[1;32m    510\u001b[0m overrideDict[\u001b[38;5;124m'\u001b[39m\u001b[38;5;124mDISTANCE2CCD\u001b[39m\u001b[38;5;124m'\u001b[39m] \u001b[38;5;241m=\u001b[39m linearStagePosition\n\u001b[0;32m--> 512\u001b[0m target \u001b[38;5;241m=\u001b[39m \u001b[43minputExp\u001b[49m\u001b[38;5;241;43m.\u001b[39;49m\u001b[43mgetMetadata\u001b[49m\u001b[43m(\u001b[49m\u001b[43m)\u001b[49m\u001b[43m[\u001b[49m\u001b[38;5;124;43m'\u001b[39;49m\u001b[38;5;124;43mOBJECT\u001b[39;49m\u001b[38;5;124;43m'\u001b[39;49m\u001b[43m]\u001b[49m\n\u001b[1;32m    513\u001b[0m \u001b[38;5;28;01mif\u001b[39;00m \u001b[38;5;28mself\u001b[39m\u001b[38;5;241m.\u001b[39mconfig\u001b[38;5;241m.\u001b[39mforceObjectName:\n\u001b[1;32m    514\u001b[0m     \u001b[38;5;28mself\u001b[39m\u001b[38;5;241m.\u001b[39mlog\u001b[38;5;241m.\u001b[39minfo(\u001b[38;5;124mf\u001b[39m\u001b[38;5;124m\"\u001b[39m\u001b[38;5;124mForcing target name from \u001b[39m\u001b[38;5;132;01m{\u001b[39;00mtarget\u001b[38;5;132;01m}\u001b[39;00m\u001b[38;5;124m to \u001b[39m\u001b[38;5;132;01m{\u001b[39;00m\u001b[38;5;28mself\u001b[39m\u001b[38;5;241m.\u001b[39mconfig\u001b[38;5;241m.\u001b[39mforceObjectName\u001b[38;5;132;01m}\u001b[39;00m\u001b[38;5;124m\"\u001b[39m)\n",
      "File \u001b[0;32m/cvmfs/sw.lsst.eu/linux-x86_64/lsst_distrib/w_2022_39/conda/envs/lsst-scipipe-4.1.0/share/eups/Linux64/daf_base/g5c4744a4d9+d9f2955894/python/lsst/daf/base/propertyContainer/propertyContainerContinued.py:727\u001b[0m, in \u001b[0;36mPropertySet.__getitem__\u001b[0;34m(self, name)\u001b[0m\n\u001b[1;32m    719\u001b[0m \u001b[38;5;28;01mdef\u001b[39;00m \u001b[38;5;21m__getitem__\u001b[39m(\u001b[38;5;28mself\u001b[39m, name):\n\u001b[1;32m    720\u001b[0m     \u001b[38;5;124;03m\"\"\"Returns a scalar item from the container.\u001b[39;00m\n\u001b[1;32m    721\u001b[0m \n\u001b[1;32m    722\u001b[0m \u001b[38;5;124;03m    Notes\u001b[39;00m\n\u001b[0;32m   (...)\u001b[0m\n\u001b[1;32m    725\u001b[0m \u001b[38;5;124;03m    will be returned.\u001b[39;00m\n\u001b[1;32m    726\u001b[0m \u001b[38;5;124;03m    \"\"\"\u001b[39;00m\n\u001b[0;32m--> 727\u001b[0m     \u001b[38;5;28;01mreturn\u001b[39;00m \u001b[38;5;28;43mself\u001b[39;49m\u001b[38;5;241;43m.\u001b[39;49m\u001b[43mgetScalar\u001b[49m\u001b[43m(\u001b[49m\u001b[43mname\u001b[49m\u001b[43m)\u001b[49m\n",
      "File \u001b[0;32m/cvmfs/sw.lsst.eu/linux-x86_64/lsst_distrib/w_2022_39/conda/envs/lsst-scipipe-4.1.0/share/eups/Linux64/daf_base/g5c4744a4d9+d9f2955894/python/lsst/daf/base/propertyContainer/propertyContainerContinued.py:878\u001b[0m, in \u001b[0;36mPropertyList.getScalar\u001b[0;34m(self, name)\u001b[0m\n\u001b[1;32m    857\u001b[0m \u001b[38;5;28;01mdef\u001b[39;00m \u001b[38;5;21mgetScalar\u001b[39m(\u001b[38;5;28mself\u001b[39m, name):\n\u001b[1;32m    858\u001b[0m     \u001b[38;5;124;03m\"\"\"Return an item as a scalar\u001b[39;00m\n\u001b[1;32m    859\u001b[0m \n\u001b[1;32m    860\u001b[0m \u001b[38;5;124;03m    If the item has more than one value then the last value is returned.\u001b[39;00m\n\u001b[0;32m   (...)\u001b[0m\n\u001b[1;32m    876\u001b[0m \u001b[38;5;124;03m        Raised if the item does not exist.\u001b[39;00m\n\u001b[1;32m    877\u001b[0m \u001b[38;5;124;03m    \"\"\"\u001b[39;00m\n\u001b[0;32m--> 878\u001b[0m     \u001b[38;5;28;01mreturn\u001b[39;00m \u001b[43m_propertyContainerGet\u001b[49m\u001b[43m(\u001b[49m\u001b[38;5;28;43mself\u001b[39;49m\u001b[43m,\u001b[49m\u001b[43m \u001b[49m\u001b[43mname\u001b[49m\u001b[43m,\u001b[49m\u001b[43m \u001b[49m\u001b[43mreturnStyle\u001b[49m\u001b[38;5;241;43m=\u001b[39;49m\u001b[43mReturnStyle\u001b[49m\u001b[38;5;241;43m.\u001b[39;49m\u001b[43mSCALAR\u001b[49m\u001b[43m)\u001b[49m\n",
      "File \u001b[0;32m/cvmfs/sw.lsst.eu/linux-x86_64/lsst_distrib/w_2022_39/conda/envs/lsst-scipipe-4.1.0/share/eups/Linux64/daf_base/g5c4744a4d9+d9f2955894/python/lsst/daf/base/propertyContainer/propertyContainerContinued.py:215\u001b[0m, in \u001b[0;36m_propertyContainerGet\u001b[0;34m(container, name, returnStyle)\u001b[0m\n\u001b[1;32m    184\u001b[0m \u001b[38;5;124;03m\"\"\"Get a value of unknown type as a scalar or array\u001b[39;00m\n\u001b[1;32m    185\u001b[0m \n\u001b[1;32m    186\u001b[0m \u001b[38;5;124;03mParameters\u001b[39;00m\n\u001b[0;32m   (...)\u001b[0m\n\u001b[1;32m    212\u001b[0m \u001b[38;5;124;03m    Raised if the value for ``returnStyle`` is not correct.\u001b[39;00m\n\u001b[1;32m    213\u001b[0m \u001b[38;5;124;03m\"\"\"\u001b[39;00m\n\u001b[1;32m    214\u001b[0m \u001b[38;5;28;01mif\u001b[39;00m \u001b[38;5;129;01mnot\u001b[39;00m container\u001b[38;5;241m.\u001b[39mexists(name):\n\u001b[0;32m--> 215\u001b[0m     \u001b[38;5;28;01mraise\u001b[39;00m \u001b[38;5;167;01mKeyError\u001b[39;00m(name \u001b[38;5;241m+\u001b[39m \u001b[38;5;124m\"\u001b[39m\u001b[38;5;124m not found\u001b[39m\u001b[38;5;124m\"\u001b[39m)\n\u001b[1;32m    216\u001b[0m \u001b[38;5;28;01mif\u001b[39;00m returnStyle \u001b[38;5;129;01mnot\u001b[39;00m \u001b[38;5;129;01min\u001b[39;00m ReturnStyle:\n\u001b[1;32m    217\u001b[0m     \u001b[38;5;28;01mraise\u001b[39;00m \u001b[38;5;167;01mValueError\u001b[39;00m(\u001b[38;5;124m\"\u001b[39m\u001b[38;5;124mreturnStyle \u001b[39m\u001b[38;5;132;01m{}\u001b[39;00m\u001b[38;5;124m must be a ReturnStyle\u001b[39m\u001b[38;5;124m\"\u001b[39m\u001b[38;5;241m.\u001b[39mformat(returnStyle))\n",
      "\u001b[0;31mKeyError\u001b[0m: 'OBJECT not found'"
     ]
    }
   ],
   "source": [
    "# override a configuration within a certain AnalysisTool\n",
    "#configKey = \"plots.shapeSizeFractionalDiffScatter.prep.selectors.snSelector.threshold\"\n",
    "#pipeline.addConfigOverride(\"analyzeObjectTableCore\", configKey, 400)\n",
    "\n",
    "#bands = ['g', 'r', 'i', 'z']\n",
    "#pipeline.addConfigOverride(\"analyzeObjectTableCore\", \"bands\", bands)\n",
    "#pipeline.addConfigOverride(\"catalogMatchTract\", \"bands\", bands)\n",
    "#pipeline.addConfigOverride(\"refCatObjectTract\", \"bands\", bands)\n",
    "\n",
    "# restrict processing to the same dataId used above\n",
    "#whereString = \"tract = 9813 AND skymap = 'hsc_rings_v1'\"\n",
    "whereString = \"exposure.day_obs={} and exposure.seq_num={} and instrument='LATISS'\".format(\"20220607\",\"195\") \n",
    "\n",
    "# Prevent the executor from dumping plots into the notebook\n",
    "backend_ =  mpl.get_backend() \n",
    "mpl.use(\"Agg\")\n",
    "\n",
    "executor = SimplePipelineExecutor.from_pipeline(pipeline, where=whereString, butler=butlerRW)\n",
    "quanta = executor.run(True)\n",
    "\n",
    "# Restore the ability for plots to be put into the notebook\n",
    "mpl.use(backend_)\n",
    "\n",
    "# If you only want to run one plot in a task in the pipeline do the following prior to execution\n",
    "# pipeline.addConfigOverride(\"analyzeObjectTableCore\", \"plots\", None)\n",
    "# pipeline.addConfigOverride(\"analyzeObjectTableCore\", \"plots\", ShapeSizeFractionalDiffScatterPlot)"
   ]
  },
  {
   "cell_type": "code",
   "execution_count": null,
   "id": "ff9d9c95-36ed-45d2-bbf4-c7408eae2eab",
   "metadata": {},
   "outputs": [],
   "source": [
    "datasetRefs = registry.queryDatasets(datasetType='postISRCCD', collections = outputCollection , where= \"instrument='LATISS'\")"
   ]
  },
  {
   "cell_type": "code",
   "execution_count": null,
   "id": "75791304-4e0d-4235-8028-41812682bd82",
   "metadata": {},
   "outputs": [],
   "source": []
  }
 ],
 "metadata": {
  "kernelspec": {
   "display_name": "lsst_distrib_w_2022_39",
   "language": "python",
   "name": "lsst_distrib_w_2022_39"
  },
  "language_info": {
   "codemirror_mode": {
    "name": "ipython",
    "version": 3
   },
   "file_extension": ".py",
   "mimetype": "text/x-python",
   "name": "python",
   "nbconvert_exporter": "python",
   "pygments_lexer": "ipython3",
   "version": "3.10.6"
  }
 },
 "nbformat": 4,
 "nbformat_minor": 5
}
