{
 "cells": [
  {
   "cell_type": "markdown",
   "metadata": {},
   "source": [
    "# Check Spectrum calibration from Bouguer lines for FELH0600 date 2022/06/29"
   ]
  },
  {
   "cell_type": "markdown",
   "metadata": {},
   "source": [
    "\n",
    "- author Sylvie Dagoret-Campagne\n",
    "- affiliation : IJCLab/IN2P3/CNRS\n",
    "- creation date : September 23th 2022\n",
    "- update : September 23th 2022\n",
    "\n",
    "\n",
    "\n",
    "** Kernel anaconda3_auxtel**\n",
    "\n",
    "\n"
   ]
  },
  {
   "cell_type": "markdown",
   "metadata": {},
   "source": [
    "# Import"
   ]
  },
  {
   "cell_type": "code",
   "execution_count": null,
   "metadata": {},
   "outputs": [],
   "source": [
    "import pandas as pd\n",
    "import matplotlib as mpl\n",
    "import matplotlib.cm as cm \n",
    "import matplotlib.pyplot as plt\n",
    "import numpy as np\n",
    "from mpl_toolkits.axes_grid1 import host_subplot\n",
    "import mpl_toolkits.axisartist as AA\n",
    "import os,sys,re\n",
    "\n",
    "from astropy.io import fits\n",
    "import matplotlib.colors as colors\n",
    "import matplotlib.cm as cmx\n",
    "import matplotlib.dates as mdates\n",
    "from matplotlib import gridspec\n",
    "%matplotlib inline\n",
    "import pickle"
   ]
  },
  {
   "cell_type": "code",
   "execution_count": null,
   "metadata": {},
   "outputs": [],
   "source": [
    "import matplotlib.offsetbox\n",
    "props = dict(boxstyle='round',edgecolor=\"w\",facecolor=\"w\", alpha=0.5)"
   ]
  },
  {
   "cell_type": "code",
   "execution_count": null,
   "metadata": {},
   "outputs": [],
   "source": [
    "# to enlarge the sizes\n",
    "params = {'legend.fontsize': 'x-large',\n",
    "          'figure.figsize': (10, 6),\n",
    "         'axes.labelsize': 'xx-large',\n",
    "         'axes.titlesize':'xx-large',\n",
    "         'xtick.labelsize':'xx-large',\n",
    "         'ytick.labelsize':'xx-large'}\n",
    "plt.rcParams.update(params)"
   ]
  },
  {
   "cell_type": "code",
   "execution_count": null,
   "metadata": {},
   "outputs": [],
   "source": [
    "pysynphot_root_path=os.environ['PYSYN_CDBS']\n",
    "path_sed_calspec=os.path.join(pysynphot_root_path,'calspec')\n",
    "# pysynphot\n",
    "import pysynphot as S\n",
    "S.refs.setref(area=1)\n",
    "S.refs.getref()"
   ]
  },
  {
   "cell_type": "code",
   "execution_count": null,
   "metadata": {},
   "outputs": [],
   "source": [
    "import time\n",
    "from datetime import datetime,date\n",
    "import dateutil.parser\n",
    "import pytz\n",
    "\n",
    "import argparse\n",
    "\n",
    "import logging\n",
    "import coloredlogs\n",
    "import configparser\n"
   ]
  },
  {
   "cell_type": "code",
   "execution_count": null,
   "metadata": {},
   "outputs": [],
   "source": [
    "from scipy import interpolate\n",
    "from scipy.interpolate import interp1d\n",
    "from scipy.signal import savgol_filter\n",
    "from scipy import fftpack"
   ]
  },
  {
   "cell_type": "code",
   "execution_count": null,
   "metadata": {},
   "outputs": [],
   "source": [
    "# import libradtran\n",
    "sys.path.append('../../../simulation/atmsim/libradtran')\n",
    "import libsimulateVisible"
   ]
  },
  {
   "cell_type": "code",
   "execution_count": null,
   "metadata": {},
   "outputs": [],
   "source": [
    "from spectractor.extractor.spectroscopy import Lines, Line ,HALPHA, HBETA, O2_1, H2O_1, ATMOSPHERIC_LINES"
   ]
  },
  {
   "cell_type": "code",
   "execution_count": null,
   "metadata": {},
   "outputs": [],
   "source": [
    "HALPHA = Line(656.3, atmospheric=False, label='$H\\\\alpha$', label_pos=[-0.01, 0.02], use_for_calibration=True)\n",
    "HBETA = Line(486.3, atmospheric=False, label='$H\\\\beta$', label_pos=[0.001, 0.02], use_for_calibration=True)\n",
    "HGAMMA = Line(434.0, atmospheric=False, label='$H\\\\gamma$', label_pos=[0.001, 0.02], use_for_calibration=True)\n",
    "HDELTA = Line(410.2, atmospheric=False, label='$H\\\\delta$', label_pos=[0.001, 0.02], use_for_calibration=True)\n",
    "HEPSILON = Line(397.0, atmospheric=False, label='$H\\\\epsilon$', label_pos=[0.001, 0.02], use_for_calibration=True)\n",
    "\n",
    "HZETA = Line(388.9064, atmospheric=False, label='$H\\\\zeta$', label_pos=[0.001, 0.02], use_for_calibration=False)\n",
    "HETA = Line(383.5397, atmospheric=False, label='$H\\\\eta$', label_pos=[0.001, 0.02], use_for_calibration=False)\n",
    "\n",
    "HBETA2 = Line(486.3*2, atmospheric=False, label='$H\\\\beta$2', label_pos=[0.001, 0.02], use_for_calibration=True)\n",
    "HGAMMA2 = Line(434.0*2, atmospheric=False, label='$H\\\\gamma$2', label_pos=[0.001, 0.02], use_for_calibration=True)\n",
    "HDELTA2 = Line(410.2*2, atmospheric=False, label='$H\\\\delta$2', label_pos=[0.001, 0.02], use_for_calibration=True)\n",
    "HEPSILON2 = Line(397.0*2, atmospheric=False, label='$H\\\\epsilon$2', label_pos=[0.001, 0.02], use_for_calibration=True)\n",
    "HZETA2 = Line(388.9064*2, atmospheric=False, label='$H\\\\zeta$2', label_pos=[0.001, 0.02], use_for_calibration=False)\n",
    "HETA2 = Line(383.5397*2, atmospheric=False, label='$H\\\\eta$2', label_pos=[0.001, 0.02], use_for_calibration=False)\n",
    "\n",
    "O2_1 = Line(760.3, atmospheric=True, label='$O_2$',label_pos=[0.001, 0.02], use_for_calibration=True)  # libradtran paper fig.3\n",
    "O2_2 = Line(763.1, atmospheric=True, label='$O_2$',label_pos=[0.001, 0.02], use_for_calibration=True)  # libradtran paper fig.3\n",
    "\n",
    "H2O_1 = Line(935, atmospheric=True, label=r'$H_2 O$', label_pos=[0.001, 0.02],  # MFL: don't these need different labels?\n",
    "             width_bounds=[5, 30])  # libradtran paper fig.3, broad line\n",
    "H2O_2 = Line(960, atmospheric=True, label=r'$H_2 O$', label_pos=[0.007, 0.02],width_bounds=[5, 30])  # libradtran paper fig.3, broad line\n",
    "\n",
    "my_calib_lines_etador = Lines([HALPHA,HBETA,HGAMMA,HDELTA,HEPSILON,HBETA2,HGAMMA2,HDELTA2,HEPSILON2,HZETA2,O2_1,O2_2],hydrogen_only=True,atmospheric_lines=True, redshift=0, emission_spectrum=False)\n",
    "hydrogen_lines_order1 =  Lines([HALPHA,HBETA,HGAMMA,HDELTA,HEPSILON])\n",
    "hydrogen_lines_order2 =  Lines([HBETA2,HGAMMA2,HDELTA2,HEPSILON2,HZETA2,HETA2])\n",
    "oxygen_lines_order1 = Lines([O2_1,O2_2])"
   ]
  },
  {
   "cell_type": "code",
   "execution_count": null,
   "metadata": {},
   "outputs": [],
   "source": [
    "#ax.plot([x_O2_1,x_O2_1],[72,100],'b-',lw=3)\n",
    "#ax.annotate(O2_1.label, xy=(x_O2_1, 80), color='b',fontsize=20,fontweight='bold')\n",
    "    "
   ]
  },
  {
   "cell_type": "markdown",
   "metadata": {},
   "source": [
    "# Functions"
   ]
  },
  {
   "cell_type": "raw",
   "metadata": {},
   "source": [
    "- filtering here\n",
    "\n",
    "https://stackoverflow.com/questions/20618804/how-to-smooth-a-curve-in-the-right-way"
   ]
  },
  {
   "cell_type": "code",
   "execution_count": null,
   "metadata": {},
   "outputs": [],
   "source": [
    "def smooth_data_convolve_my_average(arr, span):\n",
    "    re = np.convolve(arr, np.ones(span * 2 + 1) / (span * 2 + 1), mode=\"same\")\n",
    "\n",
    "    # The \"my_average\" part: shrinks the averaging window on the side that \n",
    "    # reaches beyond the data, keeps the other side the same size as given \n",
    "    # by \"span\"\n",
    "    re[0] = np.average(arr[:span])\n",
    "    for i in range(1, span + 1):\n",
    "        re[i] = np.average(arr[:i + span])\n",
    "        re[-i] = np.average(arr[-i - span:])\n",
    "    return re\n",
    "\n",
    "def smooth_data_np_average(arr, span):  # my original, naive approach\n",
    "    return [np.average(arr[val - span:val + span + 1]) for val in range(len(arr))]\n",
    "\n",
    "def smooth_data_np_convolve(arr, span):\n",
    "    return np.convolve(arr, np.ones(span * 2 + 1) / (span * 2 + 1), mode=\"same\")\n",
    "\n",
    "def smooth_data_np_cumsum_my_average(arr, span):\n",
    "    cumsum_vec = np.cumsum(arr)\n",
    "    moving_average = (cumsum_vec[2 * span:] - cumsum_vec[:-2 * span]) / (2 * span)\n",
    "\n",
    "    # The \"my_average\" part again. Slightly different to before, because the\n",
    "    # moving average from cumsum is shorter than the input and needs to be padded\n",
    "    front, back = [np.average(arr[:span])], []\n",
    "    for i in range(1, span):\n",
    "        front.append(np.average(arr[:i + span]))\n",
    "        back.insert(0, np.average(arr[-i - span:]))\n",
    "    back.insert(0, np.average(arr[-2 * span:]))\n",
    "    return np.concatenate((front, moving_average, back))\n",
    "\n",
    "def smooth_data_lowess(arr, span):\n",
    "    x = np.linspace(0, 1, len(arr))\n",
    "    return sm.nonparametric.lowess(arr, x, frac=(5*span / len(arr)), return_sorted=False)\n",
    "\n",
    "def smooth_data_kernel_regression(arr, span):\n",
    "    # \"span\" smoothing parameter is ignored. If you know how to \n",
    "    # incorporate that with kernel regression, please comment below.\n",
    "    kr = KernelReg(arr, np.linspace(0, 1, len(arr)), 'c')\n",
    "    return kr.fit()[0]\n",
    "\n",
    "def smooth_data_savgol_0(arr, span):  \n",
    "    return savgol_filter(arr, span * 2 + 1, 0)\n",
    "\n",
    "def smooth_data_savgol_1(arr, span):  \n",
    "    return savgol_filter(arr, span * 2 + 1, 1)\n",
    "\n",
    "def smooth_data_savgol_2(arr, span):  \n",
    "    return savgol_filter(arr, span * 2 + 1, 2)\n",
    "\n",
    "def smooth_data_fft(arr, span):  # the scaling of \"span\" is open to suggestions\n",
    "    w = fftpack.rfft(arr)\n",
    "    spectrum = w ** 2\n",
    "    cutoff_idx = spectrum < (spectrum.max() * (1 - np.exp(-span / 2000)))\n",
    "    w[cutoff_idx] = 0\n",
    "    return fftpack.irfft(w)"
   ]
  },
  {
   "cell_type": "code",
   "execution_count": null,
   "metadata": {},
   "outputs": [],
   "source": [
    "def atmpatt_Dataf_to_np(df):\n",
    "    \"\"\"\n",
    "    \n",
    "    atmpatt_Dataf_to_np : convert pandas dtaframe on abs pattern into numpy array\n",
    "    \n",
    "    \"\"\"\n",
    "    o2_cols = []\n",
    "    for tabcol in df.columns:\n",
    "        if 'o2_' in tabcol and 'no2_' not in tabcol:\n",
    "            o2_cols.append(tabcol)\n",
    "            \n",
    "    no2_cols = []\n",
    "    for tabcol in df.columns:\n",
    "        if 'no2_' in tabcol:\n",
    "            no2_cols.append(tabcol)\n",
    "            \n",
    "            \n",
    "    h2o_cols = []\n",
    "    for tabcol in df.columns:\n",
    "        if 'h2o_' in tabcol:\n",
    "            h2o_cols.append(tabcol)\n",
    "            \n",
    "            \n",
    "    o3_cols = []\n",
    "    for tabcol in df.columns:\n",
    "        if 'o3_' in  tabcol:\n",
    "            o3_cols.append(tabcol)\n",
    "            \n",
    "            \n",
    "    data_wl = df[\"wl\"].to_numpy()\n",
    "    data_o2 = df[o2_cols].to_numpy()\n",
    "    data_o3 = df[o3_cols].to_numpy()\n",
    "    data_h2o = df[h2o_cols].to_numpy()\n",
    "    data_no2 = df[no2_cols].to_numpy()\n",
    "    \n",
    "    \n",
    "    return data_wl, data_o2, data_o3, data_h2o, data_no2\n",
    "    \n",
    "    "
   ]
  },
  {
   "cell_type": "code",
   "execution_count": null,
   "metadata": {},
   "outputs": [],
   "source": [
    "def find_nearest(a, a0):\n",
    "    \"Element in nd array `a` closest to the scalar value `a0`\"\n",
    "    idx = np.abs(a - a0).argmin()\n",
    "    return a.flat[idx],int(idx)"
   ]
  },
  {
   "cell_type": "code",
   "execution_count": null,
   "metadata": {},
   "outputs": [],
   "source": [
    "def GetSpectra(dict_spectra):\n",
    "    \"\"\"\n",
    "    GetSpectra(dict_spectra)\n",
    "    \n",
    "    input:\n",
    "      - dict_spectra : dictionnary of input spectra\n",
    "      \n",
    "      \n",
    "      {'number': 238.0, 'object': 'mu. Col', 'dateobs': '2022-03-18T00:51:22.049', 'refhour': 0.0, 'airmass': 1.11557476948966, 'pressure': 743.45, 'temperature': 8.9, \n",
    "      'humidity': 48.0, 'targetx_pix': 312.7442668572934, 'targety_pix': 1738.0006619324693, 'rotangle': 0.1753951396614214, 'd2ccd': 181.0974436798836, \n",
    "      'all_lambdas': array([ 302.20970512,  302.91544585,  303.62117594, ..., 1108.67461764,\n",
    "       1109.35162338, 1110.02859124]), 'all_fluxes': array([1.04110833e-13, 9.83856109e-14, 8.99209206e-14, ...,\n",
    "       5.34113538e-13, 5.36905940e-13, 5.53127394e-13]), 'all_fluxes_err': array([3.51303583e-15, 3.10100695e-15, 2.58677333e-15, ...,\n",
    "       3.34568263e-15, 4.01784054e-15, 4.54242555e-15]), 'all_lambdas_order2': array([ 302.24857475,  302.9543149 ,  303.66004442, ..., 1108.71192607,\n",
    "       1109.38892974, 1110.06589555]), 'all_fluxes_order2': array([420.23653349, 386.95227531, 344.90384603, ...,  60.47440612,\n",
    "        60.74615545,  62.53491353]), 'all_fluxes_err_order2': array([14.15542468, 12.17674916,  9.90751987, ...,  0.37846535,\n",
    "        0.45415764,  0.51307916])}\n",
    "      \n",
    "    \n",
    "    return\n",
    "      - list of dataframes\n",
    "    \"\"\"\n",
    "    \n",
    "    #correction_area = 1.06/1.13\n",
    "    correction_area = 1\n",
    "    \n",
    "    list_of_columns = [\"number\",\"object\",'dateobs','refhour','airmass','pressure','temperature','humidity','filename','targetx_pix', 'targety_pix','rotangle', 'd2ccd']   \n",
    "\n",
    "    all_df = []  # container for spectra\n",
    "    \n",
    "    df_info = pd.DataFrame(columns=list_of_columns)\n",
    "    \n",
    "    idx=0\n",
    "    for key, value in dict_spectra.items():\n",
    "        \n",
    "        df_info.loc[idx] = [int(value[\"number\"]),value[\"object\"],value[\"dateobs\"],value[\"refhour\"],value[\"airmass\"],value[\"pressure\"],value[\"temperature\"],value[\"humidity\"],key,value['targetx_pix'],value['targety_pix'],value['rotangle'], value['d2ccd']]\n",
    "         \n",
    "        df = pd.DataFrame()\n",
    "        df[\"all_lambdas\"] = value[\"all_lambdas\"]\n",
    "        df[\"all_fluxes\"] = value[\"all_fluxes\"]/ correction_area \n",
    "        df[\"all_fluxes_err\"] = value[\"all_fluxes_err\"]\n",
    "        \n",
    "        if 'all_lambdas_order2' in value.keys():\n",
    "            df[\"all_lambdas_order2\"] = value[\"all_lambdas_order2\"]\n",
    "            df[\"all_fluxes_order2\"] = value[\"all_fluxes_order2\"]/ correction_area \n",
    "            df[\"all_fluxes_err_order2\"] = value[\"all_fluxes_err_order2\"]\n",
    "            \n",
    "        \n",
    "        all_df.append(df)\n",
    "        \n",
    "        \n",
    "        idx+=1\n",
    "        \n",
    "    return df_info , all_df"
   ]
  },
  {
   "cell_type": "code",
   "execution_count": null,
   "metadata": {},
   "outputs": [],
   "source": [
    "def GetSpectraFiltered(dict_spectra,list_of_bad_spectra):\n",
    "    \"\"\"\n",
    "    GetSpectraFiltered(inputdir,inputfiles)\n",
    "    \n",
    "    input:\n",
    "      - dict_spectra\n",
    "      - ist_of_bad_spectra\n",
    "    \n",
    "    return\n",
    "      - filtered infos, filtered spectra\n",
    "    \"\"\"\n",
    "    \n",
    "    # factor to correct fluxes (over estimated collection surface)\n",
    "    #correction_area = 1.06/1.13\n",
    "    correction_area = 1\n",
    "    \n",
    "    \n",
    "    \n",
    "    list_of_columns = [\"number\",\"object\",'dateobs','refhour','airmass','pressure','temperature','humidity','filename','targetx_pix', 'targety_pix','rotangle', 'd2ccd']   \n",
    "        \n",
    "\n",
    "    all_df = []  # container for spectra\n",
    "    \n",
    "    df_info = pd.DataFrame(columns=list_of_columns)\n",
    "    \n",
    "    idx=0       # counter on input spectra\n",
    "    idx_out = 0 # counter on save spectra\n",
    "    for key, value in dict_spectra.items():\n",
    "        \n",
    "        \n",
    "        if int(value[\"number\"]) not in list_of_bad_spectra:\n",
    "        \n",
    "            \n",
    "            df_info.loc[idx] = [int(value[\"number\"]),value[\"object\"],value[\"dateobs\"],value[\"refhour\"],value[\"airmass\"],value[\"pressure\"],value[\"temperature\"],value[\"humidity\"],key,value['targetx_pix'],value['targety_pix'],value['rotangle'], value['d2ccd']] \n",
    "        \n",
    "            df = pd.DataFrame()\n",
    "            df[\"all_lambdas\"] = value[\"all_lambdas\"]\n",
    "            df[\"all_fluxes\"] = value[\"all_fluxes\"]/correction_area\n",
    "            df[\"all_fluxes_err\"] = value[\"all_fluxes_err\"]\n",
    "        \n",
    "            if 'all_lambdas_order2' in value.keys():\n",
    "                df[\"all_lambdas_order2\"] = value[\"all_lambdas_order2\"]\n",
    "                df[\"all_fluxes_order2\"] = value[\"all_fluxes_order2\"]/correction_area\n",
    "                df[\"all_fluxes_err_order2\"] = value[\"all_fluxes_err_order2\"]\n",
    "               \n",
    "            all_df.append(df)\n",
    "            idx_out+=1  # increase count on saved spectra\n",
    "            \n",
    "        else:\n",
    "            num = int(value[\"number\"])\n",
    "            msg = f\"Remove spectrum {idx} for exposure {num}\"\n",
    "            print(msg)\n",
    "            \n",
    "        idx+=1\n",
    "            \n",
    "\n",
    "        \n",
    "    return df_info,all_df"
   ]
  },
  {
   "cell_type": "markdown",
   "metadata": {},
   "source": [
    "# Constants"
   ]
  },
  {
   "cell_type": "markdown",
   "metadata": {},
   "source": [
    "# Initialisation"
   ]
  },
  {
   "cell_type": "code",
   "execution_count": null,
   "metadata": {},
   "outputs": [],
   "source": [
    "# start with logs\n",
    "#-----------------\n",
    "logging.basicConfig()\n",
    "logging.root.setLevel(logging.NOTSET)\n",
    "\n",
    "handle = __name__\n",
    "\n",
    "logger = logging.getLogger(handle)\n",
    "# logging.getLogger().setLevel(logging.INFO)\n",
    "logger.setLevel(logging.DEBUG)\n",
    "\n",
    "# If you don't want to see log messages from libraries, you can pass a\n",
    "# specific logger object to the install() function. In this case only log\n",
    "# messages originating from that logger will show up on the terminal.\n",
    "coloredlogs.install(level='DEBUG', logger=logger)\n",
    "coloredlogs.install(fmt='%(asctime)s,%(msecs)03d %(hostname)s %(name)s[%(process)d] %(levelname)s %(message)s')"
   ]
  },
  {
   "cell_type": "code",
   "execution_count": null,
   "metadata": {},
   "outputs": [],
   "source": [
    "# set time\n",
    "# date\n",
    "today = date.today()\n",
    "string_date = today.strftime(\"%Y-%m-%d\")\n",
    "\n",
    "# time\n",
    "now = datetime.now()\n",
    "current_time = now.strftime(\"%H:%M:%S\")\n",
    "\n",
    "tim = time.localtime()\n",
    "current_time = time.strftime(\"%H:%M:%S\", tim)\n",
    "\n",
    "# timezones\n",
    "tz_LA = pytz.timezone('America/Los_Angeles')\n",
    "datetime_LA = datetime.now(tz_LA)\n",
    "msg=\"LA time:\"+  datetime_LA.strftime(\"%H:%M:%S\")\n",
    "logger.info(msg)\n",
    "\n",
    "tz_NY = pytz.timezone('America/New_York')\n",
    "datetime_NY = datetime.now(tz_NY)\n",
    "msg=\"NY time:\"+ datetime_NY.strftime(\"%H:%M:%S\")\n",
    "logger.info(msg)\n",
    "\n",
    "tz_London = pytz.timezone('Europe/London')\n",
    "datetime_London = datetime.now(tz_London)\n",
    "msg=\"London time:\"+ datetime_London.strftime(\"%H:%M:%S\")\n",
    "logger.info(msg)\n",
    "\n",
    "tz_Paris = pytz.timezone('Europe/Paris')\n",
    "datetime_Paris = datetime.now(tz_Paris)\n",
    "msg=\"Paris time:\"+ datetime_Paris.strftime(\"%H:%M:%S\")\n",
    "logger.info(msg)\n",
    "\n",
    "msg=\"************************ START *********************\"\n",
    "logger.info(msg)\n"
   ]
  },
  {
   "cell_type": "code",
   "execution_count": null,
   "metadata": {},
   "outputs": [],
   "source": [
    "# arguments\n",
    "#----------\n",
    "\n",
    "parser = argparse.ArgumentParser()\n",
    "parser.add_argument(\"--config\",action=\"store\", dest=\"configfile\",help=f\" run generate -config configfilename, with by ex configfilename = default.ini\")\n",
    "#results_args = parser.parse_args()\n",
    "\n",
    "results_args=\"\"\n"
   ]
  },
  {
   "cell_type": "markdown",
   "metadata": {},
   "source": [
    "# Configuration"
   ]
  },
  {
   "cell_type": "code",
   "execution_count": null,
   "metadata": {},
   "outputs": [],
   "source": [
    "# config file\n",
    "# --------------\n",
    "#configfile = \"config/default.ini\"\n",
    "configfile = \"config/confprog_run-auxtel-holo-20220629-configPSF1D_FELH0600.ini\"\n",
    "#config_filename = results_args.configfile\n",
    "config_filename = configfile\n",
    "msg = f\"Configuration file : {config_filename}\"\n",
    "logger.info(msg)\n"
   ]
  },
  {
   "cell_type": "code",
   "execution_count": null,
   "metadata": {},
   "outputs": [],
   "source": [
    "# 1) CONFIGURATION\n",
    "#------------------\n",
    "logger.info('1) Configuration')\n",
    "\n",
    "config = configparser.ConfigParser()\n",
    "\n",
    "if os.path.exists(config_filename):\n",
    "    config.read(config_filename)\n",
    "else:\n",
    "    msg = f\"config file {config_filename} does not exist !\"\n",
    "    logger.error(msg)"
   ]
  },
  {
   "cell_type": "code",
   "execution_count": null,
   "metadata": {},
   "outputs": [],
   "source": [
    "config_section = config.sections()"
   ]
  },
  {
   "cell_type": "code",
   "execution_count": null,
   "metadata": {},
   "outputs": [],
   "source": [
    "if len(config_section) == 0:\n",
    "    msg = f\"empty config file {config_filename} !\"\n",
    "    logger.error(msg)"
   ]
  },
  {
   "cell_type": "code",
   "execution_count": null,
   "metadata": {},
   "outputs": [],
   "source": [
    "if 'GENERAL' in config_section:\n",
    "\n",
    "    FLAG_DEBUG = bool(int(config['GENERAL']['FLAG_DEBUG']))\n",
    "    FLAG_VERBOSE = bool(int(config['GENERAL']['FLAG_VERBOSE']))\n",
    "    FLAG_PLOT   = bool(int(config['GENERAL']['FLAG_PLOT']))\n",
    "    FLAG_PRINT  = bool(int(config['GENERAL']['FLAG_PRINT']))\n",
    "    \n",
    "    SITE          = config['GENERAL']['SITE']\n",
    "    DATE          = config['GENERAL']['DATE']\n",
    "    \n",
    "    inputdir    = config['GENERAL']['inputdir']\n",
    "    inputfile   = config['GENERAL']['inputfile']\n",
    "    target      = config['GENERAL']['object']\n",
    "    sedfilename = config['GENERAL']['sedfilename']\n",
    "   \n",
    "    normalisationfactor = float(config['GENERAL']['normalisationfactor'])\n",
    "    WLMINSEL      = float(config['GENERAL']['WLMINSEL'])\n",
    "    WLMAXSEL      = float(config['GENERAL']['WLMAXSEL'])\n",
    "    \n",
    "    \n",
    "    MAGLIMMIN     = float(config['GENERAL']['MAGLIMMIN'])\n",
    "    MAGLIMMAX     = float(config['GENERAL']['MAGLIMMAX'])\n",
    "    FLUXLIMMIN    = float(config['GENERAL']['FLUXLIMMIN'])\n",
    "    FLUXLIMMAX    = float(config['GENERAL']['FLUXLIMMAX'])\n",
    "\n",
    "    \n",
    "    \n",
    "    \n",
    "    NPOINTSVIEW       =    int(config['GENERAL']['NPOINTSVIEW']) \n",
    "    NPOINTSSAVE       =    int(config['GENERAL']['NPOINTSSAVE']) \n",
    "    inputfile_linearfit =  config['GENERAL']['outputfile_linearfit']\n",
    "    inputfile_gp        =  config['GENERAL']['outputfile_gp']\n",
    "    \n",
    "    BADEXPOS = config['GENERAL']['BADEXPOS']\n",
    "    \n",
    "\n",
    "else:\n",
    "    msg = f\"Configuration file : empty section GENERAL in config file {config_filename} !\"   \n",
    "    logger.error(msg)"
   ]
  },
  {
   "cell_type": "code",
   "execution_count": null,
   "metadata": {},
   "outputs": [],
   "source": [
    "msg=f\" Object observed {target} at {SITE} ({DATE})\"\n",
    "logger.info(msg)"
   ]
  },
  {
   "cell_type": "code",
   "execution_count": null,
   "metadata": {},
   "outputs": [],
   "source": [
    "input_file_split=inputfile.split(\".\")    \n",
    "basefilename=input_file_split[0]\n",
    "extendfilename=input_file_split[1]"
   ]
  },
  {
   "cell_type": "code",
   "execution_count": null,
   "metadata": {},
   "outputs": [],
   "source": [
    "list_of_badnums1 = [int(nn)  for nn in BADEXPOS.split()]\n",
    "list_of_badnums1"
   ]
  },
  {
   "cell_type": "code",
   "execution_count": null,
   "metadata": {},
   "outputs": [],
   "source": [
    "WL= np.arange(WLMINSEL,WLMAXSEL)"
   ]
  },
  {
   "cell_type": "markdown",
   "metadata": {},
   "source": [
    "# input files"
   ]
  },
  {
   "cell_type": "markdown",
   "metadata": {},
   "source": [
    "## Get Calspec SED"
   ]
  },
  {
   "cell_type": "markdown",
   "metadata": {},
   "source": [
    "- Notice we use a relative normalisation factor"
   ]
  },
  {
   "cell_type": "code",
   "execution_count": null,
   "metadata": {},
   "outputs": [],
   "source": [
    "s0=S.FileSpectrum(os.path.join(path_sed_calspec,sedfilename))"
   ]
  },
  {
   "cell_type": "code",
   "execution_count": null,
   "metadata": {},
   "outputs": [],
   "source": [
    "sed_w=s0.wave/10\n",
    "sed_f=s0.flux*10*normalisationfactor\n",
    "sed_idx=np.where(np.logical_and(sed_w>350,sed_w<1100))[0]\n",
    "sed_w=sed_w[sed_idx]\n",
    "sed_f=sed_f[sed_idx]"
   ]
  },
  {
   "cell_type": "code",
   "execution_count": null,
   "metadata": {},
   "outputs": [],
   "source": [
    "# interpolation function\n",
    "f_sed = interpolate.interp1d(sed_w,sed_f,bounds_error=False,fill_value=\"extrapolate\")"
   ]
  },
  {
   "cell_type": "code",
   "execution_count": null,
   "metadata": {},
   "outputs": [],
   "source": [
    "targetname = s0.fheader['TARGETID']"
   ]
  },
  {
   "cell_type": "code",
   "execution_count": null,
   "metadata": {},
   "outputs": [],
   "source": [
    "sed_m=-2.5*np.log10(sed_f)"
   ]
  },
  {
   "cell_type": "code",
   "execution_count": null,
   "metadata": {},
   "outputs": [],
   "source": [
    "fig=plt.figure(figsize=(8,4))\n",
    "ax=fig.add_subplot(1,1,1)\n",
    "ax.plot(sed_w,sed_f,'b')\n",
    "ax.set_xlabel(\"$\\\\lambda (nm)$\")\n",
    "ax.set_ylabel(\"flux $(erg/cm^2/s/nm)$\")\n",
    "ax.set_title(targetname + \" SED\")\n",
    "ax2=ax.twinx()\n",
    "ax2.plot(sed_w,sed_m,'r-')\n",
    "ax2.set_ylabel(\"mag\")"
   ]
  },
  {
   "cell_type": "markdown",
   "metadata": {},
   "source": [
    "# Simulate the atmosphere"
   ]
  },
  {
   "cell_type": "code",
   "execution_count": null,
   "metadata": {},
   "outputs": [],
   "source": [
    "am       = 1.2\n",
    "pressure = 0. # use default value\n",
    "pwv      = 4.0\n",
    "aer      = 0.1\n",
    "ozone    = 300.\n",
    "cloudext = 0"
   ]
  },
  {
   "cell_type": "code",
   "execution_count": null,
   "metadata": {},
   "outputs": [],
   "source": [
    "path,thefile=libsimulateVisible.ProcessSimulation(am,pwv,ozone,pressure,prof_str='us',proc_str='sa',cloudext=cloudext)\n",
    "data = np.loadtxt(os.path.join(path,thefile))\n",
    "wl = data[:,0]\n",
    "atm = data[:,1] "
   ]
  },
  {
   "cell_type": "code",
   "execution_count": null,
   "metadata": {},
   "outputs": [],
   "source": [
    "fig=plt.figure(figsize=(6,4))\n",
    "ax=fig.add_subplot(111)\n",
    "ax.plot(wl,atm,\"b-\")\n",
    "ax.set_xlabel(\"$\\\\lambda$ (nm)\")\n",
    "ax.set_ylabel(\"transmission\")\n",
    "ax.set_title(\"atmospheric transmission\")"
   ]
  },
  {
   "cell_type": "code",
   "execution_count": null,
   "metadata": {},
   "outputs": [],
   "source": [
    "f_atm = interpolate.interp1d(wl,atm,bounds_error=False,fill_value=\"extrapolate\")"
   ]
  },
  {
   "cell_type": "markdown",
   "metadata": {},
   "source": [
    "# Throughputs"
   ]
  },
  {
   "cell_type": "markdown",
   "metadata": {},
   "source": [
    "## Auxtel throughput and  telescope throughput"
   ]
  },
  {
   "cell_type": "code",
   "execution_count": null,
   "metadata": {},
   "outputs": [],
   "source": [
    "filename = \"../../../simulation/throughputs/AuxTel-throughput.xlsx\""
   ]
  },
  {
   "cell_type": "code",
   "execution_count": null,
   "metadata": {},
   "outputs": [],
   "source": [
    "dft = pd.read_excel(filename,header=1,index_col=0)\n",
    "dft.reset_index(inplace=True)\n",
    "dft['index'] = dft.reset_index().index\n",
    "dft.set_index('index')\n",
    "dft.rename(columns={'lambda':'lambdas'},inplace = True)"
   ]
  },
  {
   "cell_type": "code",
   "execution_count": null,
   "metadata": {},
   "outputs": [],
   "source": [
    "fig=plt.figure(figsize=(6,4))\n",
    "ax=fig.add_subplot(111)\n",
    "ax.plot(dft.lambdas,dft.throughput,\"b-\")\n",
    "ax.set_xlabel(\"$\\\\lambda$ (nm)\")\n",
    "ax.set_ylabel(\"throughput\")\n",
    "ax.set_title(\"auxtel throughput\")"
   ]
  },
  {
   "cell_type": "code",
   "execution_count": null,
   "metadata": {},
   "outputs": [],
   "source": [
    "# interpolation function\n",
    "f_thr = interpolate.interp1d(dft.lambdas,dft.throughput,bounds_error=False,fill_value=\"extrapolate\")"
   ]
  },
  {
   "cell_type": "markdown",
   "metadata": {},
   "source": [
    "## Filter"
   ]
  },
  {
   "cell_type": "code",
   "execution_count": null,
   "metadata": {},
   "outputs": [],
   "source": [
    "filename = \"../../../simulation/filters/FELH0600_Transmission.txt\""
   ]
  },
  {
   "cell_type": "code",
   "execution_count": null,
   "metadata": {},
   "outputs": [],
   "source": [
    "arr =  np.loadtxt(filename)"
   ]
  },
  {
   "cell_type": "code",
   "execution_count": null,
   "metadata": {},
   "outputs": [],
   "source": [
    "fig=plt.figure(figsize=(6,4))\n",
    "ax=fig.add_subplot(111)\n",
    "ax.plot(arr[:,0],arr[:,1],\"b-\")\n",
    "ax.set_xlabel(\"$\\\\lambda$ (nm)\")\n",
    "ax.set_ylabel(\"throughput\")\n",
    "ax.set_title(\"auxtel FELH600 throughput\")"
   ]
  },
  {
   "cell_type": "code",
   "execution_count": null,
   "metadata": {},
   "outputs": [],
   "source": [
    "f_filter_thr = interpolate.interp1d(arr[:,0],arr[:,1],bounds_error=False,fill_value=\"extrapolate\")"
   ]
  },
  {
   "cell_type": "markdown",
   "metadata": {},
   "source": [
    "## spectrum data"
   ]
  },
  {
   "cell_type": "code",
   "execution_count": null,
   "metadata": {},
   "outputs": [],
   "source": [
    "fullfilename=os.path.join(inputdir,inputfile)"
   ]
  },
  {
   "cell_type": "code",
   "execution_count": null,
   "metadata": {},
   "outputs": [],
   "source": [
    "with open(fullfilename, 'rb') as f:\n",
    "    summary_content = pickle.load(f)"
   ]
  },
  {
   "cell_type": "code",
   "execution_count": null,
   "metadata": {},
   "outputs": [],
   "source": [
    "NBSPECTRA=len(summary_content)"
   ]
  },
  {
   "cell_type": "code",
   "execution_count": null,
   "metadata": {},
   "outputs": [],
   "source": [
    "msg=f\" Number of selected files is {NBSPECTRA}\"\n",
    "logger.info(msg)"
   ]
  },
  {
   "cell_type": "code",
   "execution_count": null,
   "metadata": {},
   "outputs": [],
   "source": [
    "# wavelength bin colors\n",
    "jet = plt.get_cmap('jet')\n",
    "cNorm = colors.Normalize(vmin=0, vmax=NBSPECTRA)\n",
    "scalarMap = cmx.ScalarMappable(norm=cNorm, cmap=jet)\n",
    "all_colors = scalarMap.to_rgba(np.arange(NBSPECTRA), alpha=1)"
   ]
  },
  {
   "cell_type": "markdown",
   "metadata": {},
   "source": [
    "### Read all files"
   ]
  },
  {
   "cell_type": "code",
   "execution_count": null,
   "metadata": {},
   "outputs": [],
   "source": [
    "infos, all_spectra = GetSpectra(summary_content)"
   ]
  },
  {
   "cell_type": "markdown",
   "metadata": {},
   "source": [
    "# Remove bad Spectra"
   ]
  },
  {
   "cell_type": "code",
   "execution_count": null,
   "metadata": {},
   "outputs": [],
   "source": [
    "fig = plt.figure(figsize=(8,4))\n",
    "ax=fig.add_subplot(1,1,1)\n",
    "ax.hist(infos.object);"
   ]
  },
  {
   "cell_type": "code",
   "execution_count": null,
   "metadata": {},
   "outputs": [],
   "source": [
    "fig = plt.figure(figsize=(20,4))\n",
    "ax=fig.add_subplot(1,3,1)\n",
    "ax.hist(infos.d2ccd,bins=20,range=(170,200));\n",
    "ax.set_xlabel(\"dccd\")\n",
    "ax=fig.add_subplot(1,3,2)\n",
    "ax.hist(infos.targetx_pix,bins=50,range=(0,500));\n",
    "ax.set_xlabel(\"targetx_pix\")\n",
    "ax=fig.add_subplot(1,3,3)\n",
    "ax.hist(infos.targety_pix,bins=50,range=(1500,2000));\n",
    "ax.set_xlabel(\"targety_pix\")\n",
    "plt.suptitle(\"Variables to apply selection\")"
   ]
  },
  {
   "cell_type": "markdown",
   "metadata": {},
   "source": [
    "## Define sepection cut"
   ]
  },
  {
   "cell_type": "code",
   "execution_count": null,
   "metadata": {},
   "outputs": [],
   "source": [
    "selection_cut = ((infos.d2ccd > 178) & (infos.d2ccd < 182)) & (infos.object == target)\n",
    "bad_cut = ~selection_cut"
   ]
  },
  {
   "cell_type": "code",
   "execution_count": null,
   "metadata": {},
   "outputs": [],
   "source": [
    "list_of_badnums2 = infos[bad_cut][\"number\"].values\n",
    "list_of_badnums2 "
   ]
  },
  {
   "cell_type": "markdown",
   "metadata": {},
   "source": [
    "# Union of badnums"
   ]
  },
  {
   "cell_type": "code",
   "execution_count": null,
   "metadata": {},
   "outputs": [],
   "source": [
    "list_of_badnums = np.union1d(list_of_badnums1,list_of_badnums2)\n",
    "list_of_badnums=np.unique(list_of_badnums)"
   ]
  },
  {
   "cell_type": "markdown",
   "metadata": {},
   "source": [
    "# Filtered spectra"
   ]
  },
  {
   "cell_type": "code",
   "execution_count": null,
   "metadata": {},
   "outputs": [],
   "source": [
    "list_of_badnums"
   ]
  },
  {
   "cell_type": "code",
   "execution_count": null,
   "metadata": {},
   "outputs": [],
   "source": [
    "infos, all_spectra = GetSpectraFiltered(summary_content,list_of_bad_spectra=list_of_badnums)"
   ]
  },
  {
   "cell_type": "markdown",
   "metadata": {},
   "source": [
    "# Plot Spectra"
   ]
  },
  {
   "cell_type": "code",
   "execution_count": null,
   "metadata": {},
   "outputs": [],
   "source": [
    "NBSPECTRA=len(all_spectra)"
   ]
  },
  {
   "cell_type": "code",
   "execution_count": null,
   "metadata": {},
   "outputs": [],
   "source": [
    "assert NBSPECTRA == len(infos)"
   ]
  },
  {
   "cell_type": "code",
   "execution_count": null,
   "metadata": {},
   "outputs": [],
   "source": [
    "# wavelength bin colors\n",
    "jet = plt.get_cmap('jet')\n",
    "cNorm = colors.Normalize(vmin=0, vmax=NBSPECTRA)\n",
    "scalarMap = cmx.ScalarMappable(norm=cNorm, cmap=jet)\n",
    "all_colors = scalarMap.to_rgba(np.arange(NBSPECTRA), alpha=1)"
   ]
  },
  {
   "cell_type": "code",
   "execution_count": null,
   "metadata": {},
   "outputs": [],
   "source": [
    "msg=f\" Number of good spectra is {NBSPECTRA}\"\n",
    "logger.info(msg)"
   ]
  },
  {
   "cell_type": "markdown",
   "metadata": {},
   "source": [
    "### load absorption pattern"
   ]
  },
  {
   "cell_type": "code",
   "execution_count": null,
   "metadata": {},
   "outputs": [],
   "source": [
    "df = pd.read_csv(\"data/absorption_pattern.csv\")\n",
    "wlpt,o2,o3,h2o,no2 = atmpatt_Dataf_to_np(df)"
   ]
  },
  {
   "cell_type": "code",
   "execution_count": null,
   "metadata": {},
   "outputs": [],
   "source": [
    "figsize=(16,16)\n",
    "\n",
    "NOBS = o2.shape[1]\n",
    "# wavelength bin colors\n",
    "jet = plt.get_cmap('jet')\n",
    "cNorm = colors.Normalize(vmin=0, vmax=NOBS)\n",
    "scalarMap = cmx.ScalarMappable(norm=cNorm, cmap=jet)\n",
    "all_colors = scalarMap.to_rgba(np.arange(NOBS), alpha=1)\n",
    "\n",
    "props = dict(boxstyle='round', facecolor='wheat', alpha=0.5)\n",
    "\n",
    "fig=plt.figure(figsize=figsize)\n",
    "title =f\"Spectra (hologram) {SITE} ({DATE})\"\n",
    "\n",
    "\n",
    "gs = gridspec.GridSpec(5, 1,height_ratios=[0.5,0.5,0.5,0.5,3] ,figure=fig)\n",
    "\n",
    "# NO2    \n",
    "ax=fig.add_subplot(gs[0,0])\n",
    "for index in np.arange(NOBS):   \n",
    "    ax.plot(wlpt,no2[:,index],'-',color=all_colors[index])\n",
    "ax.set_ylim(0.8,1)\n",
    "ax.set_xlim(WLMINSEL,WLMAXSEL)\n",
    "ax.grid()\n",
    "textstr = \"NO2 abs lines\"\n",
    "# place a text box in upper left in axes coords\n",
    "ax.text(0.01, 0.90, textstr, transform=ax.transAxes, fontsize=14,\n",
    "        verticalalignment='top', bbox=props)\n",
    "ax.set_title(title,fontsize=20,fontweight='bold')\n",
    "main_ax = ax\n",
    "\n",
    "\n",
    "\n",
    "# O2    \n",
    "ax=fig.add_subplot(gs[1,0], sharex=main_ax)\n",
    "for index in np.arange(NOBS):   \n",
    "    ax.plot(wlpt,o2[:,index],'-',color=all_colors[index])\n",
    "ax.set_ylim(0.8,1)\n",
    "ax.set_xlim(WLMINSEL,WLMAXSEL)\n",
    "ax.grid()\n",
    "textstr = \"O2 abs lines\"\n",
    "# place a text box in upper left in axes coords\n",
    "ax.text(0.01, 0.90, textstr, transform=ax.transAxes, fontsize=14,\n",
    "        verticalalignment='top', bbox=props)\n",
    "#ax.set_title(title)\n",
    "\n",
    "\n",
    "# Ozone\n",
    "ax=fig.add_subplot(gs[2,0], sharex=main_ax)\n",
    "for index in np.arange(NOBS):   \n",
    "    ax.plot(wlpt,o3[:,index],'-',color=all_colors[index])\n",
    "ax.set_ylim(0.8,1)\n",
    "ax.set_xlim(WLMINSEL,WLMAXSEL)\n",
    "ax.grid()\n",
    "textstr = \"O3 abs lines\"\n",
    "# place a text box in upper left in axes coords\n",
    "ax.text(0.01, 0.90, textstr, transform=ax.transAxes, fontsize=14,\n",
    "        verticalalignment='top', bbox=props)\n",
    "\n",
    "\n",
    "# H2O\n",
    "ax=fig.add_subplot(gs[3,0], sharex=main_ax)\n",
    "\n",
    "for index in np.arange(NOBS):   \n",
    "    ax.plot(wlpt,h2o[:,index],'-',color=all_colors[index])\n",
    "ax.set_ylim(0.8,1)\n",
    "ax.grid()\n",
    "textstr = \"H2O abs lines\"\n",
    "# place a text box in upper left in axes coords\n",
    "ax.text(0.01, 0.90, textstr, transform=ax.transAxes, fontsize=14,\n",
    "        verticalalignment='top', bbox=props)\n",
    "\n",
    "\n",
    "# spectrum\n",
    "ax=fig.add_subplot(gs[4,0], sharex=main_ax)\n",
    "\n",
    "# wavelength bin colors\n",
    "jet = plt.get_cmap('jet')\n",
    "cNorm = colors.Normalize(vmin=0, vmax=NBSPECTRA)\n",
    "scalarMap = cmx.ScalarMappable(norm=cNorm, cmap=jet)\n",
    "all_colors = scalarMap.to_rgba(np.arange(NBSPECTRA), alpha=1)\n",
    "for ifile in np.arange(NBSPECTRA):\n",
    "    the_df=all_spectra[ifile]\n",
    "    \n",
    "    airmassvalue = infos.iloc[ifile][\"airmass\"]\n",
    "    label_airmass = f\" z = {airmassvalue:.2f}\"\n",
    "\n",
    "    #ax.plot(the_df.wavelength,the_df.flux,color=all_colors[ifile])\n",
    "    ax.errorbar(the_df[\"all_lambdas\"],the_df['all_fluxes'],yerr=the_df[\"all_fluxes_err\"], fmt = '.', color=all_colors[ifile],capsize = 0.01, ecolor=all_colors[ifile], elinewidth = .01,label=label_airmass)\n",
    "ax.grid()\n",
    "ax.set_xlabel(\"$\\lambda$ (nm)\")\n",
    "ax.set_ylabel(\"flux (erg/sec/m$^2$/nm)\")\n",
    "title=f\"Selected Spectra of {target} observed at {SITE} ({DATE})\"\n",
    "ax.set_title(title,fontsize=20,fontweight='bold')\n",
    "ax.plot(sed_w,sed_f,'k-')\n",
    "#ax.set_xlim(350,1000)\n",
    "ax.set_ylim(1e-14,1e-10)\n",
    "ax.set_yscale(\"log\")\n",
    "ax.legend(loc=\"lower left\",ncol=5)\n",
    "\n",
    "#ax.axvline(HALPHA.wavelength,color='k')\n",
    "#ax.annotate(HALPHA.label, xy=(HALPHA.wavelength, 0.9), color='k',xycoords='axes fraction',fontsize=20,fontweight='bold')\n",
    "\n",
    "plt.tight_layout()\n"
   ]
  },
  {
   "cell_type": "code",
   "execution_count": null,
   "metadata": {},
   "outputs": [],
   "source": [
    "HALPHA.wavelength"
   ]
  },
  {
   "cell_type": "code",
   "execution_count": null,
   "metadata": {},
   "outputs": [],
   "source": [
    "assert False"
   ]
  },
  {
   "cell_type": "code",
   "execution_count": null,
   "metadata": {},
   "outputs": [],
   "source": [
    "fig=plt.figure(figsize=(16,10))\n",
    "ax=fig.add_subplot(111)\n",
    "for ifile in np.arange(NBSPECTRA):\n",
    "    the_df=all_spectra[ifile]\n",
    "    \n",
    "    airmassvalue = infos.iloc[ifile][\"airmass\"]\n",
    "    label_airmass = f\" z = {airmassvalue:.2f}\"\n",
    "\n",
    "    #ax.plot(the_df.wavelength,the_df.flux,color=all_colors[ifile])\n",
    "    ax.errorbar(the_df[\"all_lambdas\"],the_df['all_fluxes'],yerr=the_df[\"all_fluxes_err\"], fmt = '.', color=all_colors[ifile],capsize = 0.01, ecolor=all_colors[ifile], elinewidth = .01,label=label_airmass)\n",
    "ax.grid()\n",
    "ax.set_xlabel(\"$\\lambda$ (nm)\")\n",
    "ax.set_ylabel(\"flux (erg/sec/m$^2$/nm)\")\n",
    "title=f\"Selected Spectra of {target} observed at {SITE} ({DATE})\"\n",
    "ax.set_title(title,fontsize=20,fontweight='bold')\n",
    "ax.plot(sed_w,sed_f,'k-')\n",
    "ax.set_xlim( WLMINSEL  , WLMAXSEL  )\n",
    "ax.set_ylim(1e-14,1e-10)\n",
    "ax.set_yscale(\"log\")\n",
    "ax.legend(loc=\"lower left\",ncol=4)\n",
    "#ax.legend(bbox_to_anchor=(1.02, 0.5))"
   ]
  },
  {
   "cell_type": "code",
   "execution_count": null,
   "metadata": {},
   "outputs": [],
   "source": [
    "fig=plt.figure(figsize=(16,10))\n",
    "ax=fig.add_subplot(111)\n",
    "for ifile in np.arange(NBSPECTRA):\n",
    "    the_df=the_df=all_spectra[ifile]\n",
    "\n",
    "    airmassvalue = infos.iloc[ifile][\"airmass\"]\n",
    "    num = infos.iloc[ifile][\"number\"]\n",
    "    label_airmass = f\" z = {airmassvalue:.2f} ({num})\"\n",
    "    \n",
    "    #ax.plot(the_df.wavelength,the_df.mag,color=all_colors[ifile])\n",
    "    mag = -2.5*np.log10(the_df[\"all_fluxes\"])\n",
    "    errmag = 2.5/np.log(10)*the_df[\"all_fluxes_err\"]/(the_df[\"all_fluxes\"])\n",
    "    ax.errorbar(the_df[\"all_lambdas\"],mag,yerr=errmag, fmt = '.', color=all_colors[ifile],capsize = 0.01, ecolor=all_colors[ifile], elinewidth = .01,label=label_airmass)\n",
    "ax.grid()\n",
    "ax.set_xlabel(\"$\\lambda$ (nm)\")\n",
    "ax.set_ylabel(\"magnitude \")\n",
    "title=f\"Spectra of {target} observed at {SITE} ({DATE})\"\n",
    "ax.set_title(title,fontsize=20,fontweight='bold')\n",
    "ax.plot(sed_w,sed_m,'k-')\n",
    "ax.set_xlim( WLMINSEL  , WLMAXSEL  )\n",
    "ax.set_ylim(MAGLIMMIN,MAGLIMMAX)\n",
    "ax.invert_yaxis()\n",
    "ax.legend(loc=\"upper right\",ncol=4)\n",
    "#ax.legend(bbox_to_anchor=(1.02, 0))"
   ]
  },
  {
   "cell_type": "code",
   "execution_count": null,
   "metadata": {},
   "outputs": [],
   "source": [
    "fig=plt.figure(figsize=(16,10))\n",
    "ax=fig.add_subplot(111)\n",
    "for ifile in np.arange(NBSPECTRA):\n",
    "    the_df=the_df=all_spectra[ifile]\n",
    "\n",
    "    airmassvalue = infos.iloc[ifile][\"airmass\"]\n",
    "    label_airmass = f\" z = {airmassvalue:.2f}\"\n",
    "    \n",
    "    #ax.plot(the_df.wavelength,the_df.mag,color=all_colors[ifile])\n",
    "    mag = -2.5*np.log10(the_df[\"all_fluxes\"])\n",
    "    errmag = 2.5/np.log(10)*the_df[\"all_fluxes_err\"]/(the_df[\"all_fluxes\"])\n",
    "    ax.errorbar(the_df[\"all_lambdas\"],mag,yerr=errmag, fmt = '.', color=all_colors[ifile],capsize = 0.01, ecolor=all_colors[ifile], elinewidth = .01,label=label_airmass)\n",
    "ax.grid()\n",
    "ax.set_xlabel(\"$\\lambda$ (nm)\")\n",
    "ax.set_ylabel(\"magnitude \")\n",
    "title=f\"Spectra of {target} observed at {SITE} ({DATE})\"\n",
    "ax.set_title(title,fontsize=20,fontweight='bold')\n",
    "ax.plot(sed_w,sed_m,'k-')\n",
    "ax.set_xlim( WLMINSEL  , WLMAXSEL  )\n",
    "ax.set_ylim(MAGLIMMIN,MAGLIMMAX)\n",
    "ax.invert_yaxis()\n",
    "ax.legend(loc=\"upper right\",ncol=5)\n",
    "#ax.legend(bbox_to_anchor=(1.02, 0))"
   ]
  },
  {
   "cell_type": "markdown",
   "metadata": {},
   "source": [
    "# Multiply SED by all throughput"
   ]
  },
  {
   "cell_type": "code",
   "execution_count": null,
   "metadata": {},
   "outputs": [],
   "source": [
    "\n",
    "correction_area = 1.06/1.13"
   ]
  },
  {
   "cell_type": "code",
   "execution_count": null,
   "metadata": {},
   "outputs": [],
   "source": [
    "sed_predicted_f = f_sed(WL) * f_thr(WL) * f_atm(WL) * f_filter_thr(WL)\n",
    "sed_predicted_m = -2.5*np.log10(sed_predicted_f) "
   ]
  },
  {
   "cell_type": "code",
   "execution_count": null,
   "metadata": {},
   "outputs": [],
   "source": [
    "fig=plt.figure(figsize=(16,10))\n",
    "ax=fig.add_subplot(111)\n",
    "for ifile in np.arange(NBSPECTRA):\n",
    "    the_df=all_spectra[ifile]\n",
    "    \n",
    "    airmassvalue = infos.iloc[ifile][\"airmass\"]\n",
    "    label_airmass = f\" z = {airmassvalue:.2f}\"\n",
    "\n",
    "    #ax.plot(the_df.wavelength,the_df.flux,color=all_colors[ifile])\n",
    "    ax.errorbar(the_df[\"all_lambdas\"],the_df['all_fluxes']/correction_area,yerr=the_df[\"all_fluxes_err\"], fmt = '.', color=all_colors[ifile],capsize = 0.01, ecolor=all_colors[ifile], elinewidth = .01,label=label_airmass)\n",
    "ax.grid()\n",
    "ax.set_xlabel(\"$\\lambda$ (nm)\")\n",
    "ax.set_ylabel(\"flux (erg/sec/m$^2$/nm)\")\n",
    "title=f\"Obs Spectr and pred spectr (tot throu+ atm z=1.2) : {target} at {SITE} ({DATE})\"\n",
    "ax.set_title(title,fontsize=20,fontweight='bold')\n",
    "ax.plot(sed_w,sed_f,'k-',label=\"SED\")\n",
    "ax.plot(WL,sed_predicted_f,color='darkviolet',lw=4,label = \"predicted flux\")\n",
    "ax.set_xlim( WLMINSEL  , WLMAXSEL  )\n",
    "ax.set_ylim(FLUXLIMMIN,FLUXLIMMAX/10.)\n",
    "#ax.set_yscale(\"log\")\n",
    "ax.legend(loc=\"upper right\",ncol=6)"
   ]
  },
  {
   "cell_type": "code",
   "execution_count": null,
   "metadata": {},
   "outputs": [],
   "source": [
    "fig=plt.figure(figsize=(16,10))\n",
    "ax=fig.add_subplot(111)\n",
    "for ifile in np.arange(NBSPECTRA):\n",
    "    the_df=all_spectra[ifile]\n",
    "    \n",
    "    airmassvalue = infos.iloc[ifile][\"airmass\"]\n",
    "    label_airmass = f\" z = {airmassvalue:.2f}\"\n",
    "\n",
    "    #ax.plot(the_df.wavelength,the_df.flux,color=all_colors[ifile])\n",
    "    ax.errorbar(the_df[\"all_lambdas\"],the_df['all_fluxes']/correction_area,yerr=the_df[\"all_fluxes_err\"], fmt = '.', color=all_colors[ifile],capsize = 0.01, ecolor=all_colors[ifile], elinewidth = .01,label=label_airmass)\n",
    "ax.grid()\n",
    "ax.set_xlabel(\"$\\lambda$ (nm)\")\n",
    "ax.set_ylabel(\"flux (erg/sec/m$^2$/nm)\")\n",
    "title=f\"Obs Spectr and pred spectr (tot throu+ atm z=1.2) : {target} at {SITE} ({DATE})\"\n",
    "ax.set_title(title,fontsize=20,fontweight='bold')\n",
    "ax.plot(sed_w,sed_f,'k-',label=\"SED\")\n",
    "ax.plot(WL,sed_predicted_f,color='darkviolet',lw=4,label = \"predicted flux\")\n",
    "ax.set_xlim( WLMINSEL  , WLMAXSEL  )\n",
    "ax.set_ylim(FLUXLIMMIN,FLUXLIMMAX)\n",
    "ax.set_yscale(\"log\")\n",
    "ax.legend(loc=\"upper right\",ncol=6)"
   ]
  },
  {
   "cell_type": "code",
   "execution_count": null,
   "metadata": {},
   "outputs": [],
   "source": [
    "fig=plt.figure(figsize=(16,10))\n",
    "ax=fig.add_subplot(111)\n",
    "for ifile in np.arange(NBSPECTRA):\n",
    "    the_df=the_df=all_spectra[ifile]\n",
    "\n",
    "    airmassvalue = infos.iloc[ifile][\"airmass\"]\n",
    "    label_airmass = f\" z = {airmassvalue:.2f}\"\n",
    "    \n",
    "    #ax.plot(the_df.wavelength,the_df.mag,color=all_colors[ifile])\n",
    "    mag = -2.5*np.log10(the_df[\"all_fluxes\"]/correction_area)\n",
    "    errmag = 2.5/np.log(10)*the_df[\"all_fluxes_err\"]/(the_df[\"all_fluxes\"])\n",
    "    ax.errorbar(the_df[\"all_lambdas\"],mag,yerr=errmag, fmt = '.', color=all_colors[ifile],capsize = 0.01, ecolor=all_colors[ifile], elinewidth = .01,label=label_airmass)\n",
    "ax.grid()\n",
    "ax.set_xlabel(\"$\\lambda$ (nm)\")\n",
    "ax.set_ylabel(\"magnitude \")\n",
    "title=f\"Obs Spectr and pred spectr (tot throu + atm z=1.2) : {target} at {SITE} ({DATE})\"\n",
    "ax.set_title(title,fontsize=20,fontweight='bold')\n",
    "ax.plot(sed_w,sed_m,'k-',label = 'SED')\n",
    "ax.plot(WL,sed_predicted_m,color='darkviolet',lw=4,label = \"predicted Flux\")\n",
    "\n",
    "ax.set_ylim(MAGLIMMIN,MAGLIMMAX)\n",
    "ax.set_xlim( WLMINSEL  , WLMAXSEL  )\n",
    "\n",
    "ax.invert_yaxis()\n",
    "\n",
    "ax.legend(loc=\"upper right\",ncol=5)"
   ]
  },
  {
   "cell_type": "markdown",
   "metadata": {},
   "source": [
    "## Look at lines"
   ]
  },
  {
   "cell_type": "code",
   "execution_count": null,
   "metadata": {},
   "outputs": [],
   "source": []
  },
  {
   "cell_type": "markdown",
   "metadata": {},
   "source": [
    "# Ratio"
   ]
  },
  {
   "cell_type": "code",
   "execution_count": null,
   "metadata": {},
   "outputs": [],
   "source": [
    "fig=plt.figure(figsize=(16,10))\n",
    "ax=fig.add_subplot(111)\n",
    "for ifile in np.arange(NBSPECTRA):\n",
    "    the_df=the_df=all_spectra[ifile]\n",
    "\n",
    "    airmassvalue = infos.iloc[ifile][\"airmass\"]\n",
    "    label_airmass = f\" z = {airmassvalue:.2f}\"\n",
    "    \n",
    "    \n",
    "    x=the_df[\"all_lambdas\"]\n",
    "    y=the_df['all_fluxes']/correction_area, \n",
    "    yerr=the_df[\"all_fluxes_err\"]\n",
    "    \n",
    "    \n",
    "    f = interpolate.interp1d(x, y)\n",
    "    fe = interpolate.interp1d(x, yerr)\n",
    "    y_interp =f(WL)[0]\n",
    "    ey_interp = fe(WL)[0]\n",
    "    \n",
    "    \n",
    "    ratio = y_interp/sed_predicted_f\n",
    "    eratio = ey_interp/sed_predicted_f\n",
    "    \n",
    "\n",
    "    \n",
    "    ax.errorbar(WL,ratio,yerr=eratio, fmt = '+', color=all_colors[ifile],capsize = 0.01, ecolor=all_colors[ifile], elinewidth = .01,label=label_airmass)\n",
    "\n",
    "ax.grid()\n",
    "ax.set_xlabel(\"$\\lambda$ (nm)\")\n",
    "ax.set_ylabel(\"ratio\")\n",
    "title=f\"Obs Spectr and pred spectr (tot throu + atm z=1.2) : {target} at {SITE} ({DATE})\"\n",
    "#ax.set_title(title,fontsize=20,fontweight='bold')\n",
    "#ax.plot(sed_w,sed_m,'k-',label = 'SED')\n",
    "#ax.plot(WL,sed_predicted_m,color='darkviolet',lw=4,label = \"predicted Flux\")\n",
    "\n",
    "#ax.set_ylim(MAGLIMMIN,MAGLIMMAX)\n",
    "#ax.set_xlim( WLMINSEL  , WLMAXSEL  )\n",
    "\n",
    "#ax.invert_yaxis()\n",
    "ax.set_ylim(0.5,1.5)\n",
    "ax.legend(loc=\"upper right\",ncol=5)"
   ]
  },
  {
   "cell_type": "code",
   "execution_count": null,
   "metadata": {},
   "outputs": [],
   "source": [
    "assert False"
   ]
  },
  {
   "cell_type": "markdown",
   "metadata": {},
   "source": [
    "# Read the output of MLfit_bouguer_linearfit.ipynb"
   ]
  },
  {
   "cell_type": "code",
   "execution_count": null,
   "metadata": {},
   "outputs": [],
   "source": [
    "# Save CSV file\n",
    "dfin = pd.read_csv(inputfile_linearfit,index_col=0) "
   ]
  },
  {
   "cell_type": "code",
   "execution_count": null,
   "metadata": {},
   "outputs": [],
   "source": [
    "dfin"
   ]
  },
  {
   "cell_type": "code",
   "execution_count": null,
   "metadata": {},
   "outputs": [],
   "source": [
    "sed_predictedtoa_f = f_sed(WL) * f_thr(WL) \n",
    "sed_predictedtoa_m = -2.5*np.log10(sed_predictedtoa_f) "
   ]
  },
  {
   "cell_type": "code",
   "execution_count": null,
   "metadata": {},
   "outputs": [],
   "source": [
    "wl=dfin[\"wavelength\"]\n",
    "fl=dfin[\"sedtoa\"]\n",
    "flerr=dfin[\"errsedtoa\"]"
   ]
  },
  {
   "cell_type": "code",
   "execution_count": null,
   "metadata": {},
   "outputs": [],
   "source": [
    "fig=plt.figure(figsize=(16,10))\n",
    "ax=fig.add_subplot(111)\n",
    "ax.plot(sed_w,sed_f,'k',label=\"SED\",lw=2)\n",
    "ax.plot(WL,sed_predictedtoa_f ,'b',label=\"predicted SED at TOA\",lw=2)\n",
    "ax.errorbar(wl,fl/correction_area,yerr=flerr,color=\"r\",ecolor=\"pink\",label=\"Extrapolated spectrum above atm\",lw=2)\n",
    "ax.legend()\n",
    "ax.set_xlabel(\"$\\lambda$ (nm)\")\n",
    "ax.set_ylabel(\"flux (erg/sec/m$^2$/nm)\")\n",
    "\n",
    "title=f\"Pred spectr (tot throu + atm z=1.2) at TOA : {target} at {SITE} ({DATE})\"\n",
    "ax.set_title(title,fontsize=20,fontweight='bold')\n",
    "ax.set_ylim(0,2e-10)"
   ]
  },
  {
   "cell_type": "code",
   "execution_count": null,
   "metadata": {},
   "outputs": [],
   "source": [
    "fig=plt.figure(figsize=(16,10))\n",
    "ax=fig.add_subplot(111)\n",
    "ax.plot(sed_w,sed_f,'k',label=\"SED\",lw=2)\n",
    "ax.plot(WL,sed_predictedtoa_f ,'b',label=\"predicted SED at TOA\",lw=2)\n",
    "ax.errorbar(wl,fl/correction_area,yerr=flerr,color=\"r\",ecolor=\"pink\",label=\"Extrapolated spectrum above atm\",lw=2)\n",
    "ax.legend()\n",
    "ax.set_xlabel(\"$\\lambda$ (nm)\")\n",
    "ax.set_ylabel(\"flux (erg/sec/m$^2$/nm)\")\n",
    "\n",
    "title=f\"Pred spectr (tot throu + atm z=1.2) at TOA : {target} at {SITE} ({DATE})\"\n",
    "ax.set_title(title,fontsize=20,fontweight='bold')\n",
    "ax.set_ylim(1e-12,1e-9)\n",
    "ax.set_yscale(\"log\")"
   ]
  },
  {
   "cell_type": "code",
   "execution_count": null,
   "metadata": {},
   "outputs": [],
   "source": []
  }
 ],
 "metadata": {
  "kernelspec": {
   "display_name": "anaconda3_auxtel",
   "language": "python",
   "name": "anaconda3_auxtel"
  },
  "language_info": {
   "codemirror_mode": {
    "name": "ipython",
    "version": 3
   },
   "file_extension": ".py",
   "mimetype": "text/x-python",
   "name": "python",
   "nbconvert_exporter": "python",
   "pygments_lexer": "ipython3",
   "version": "3.8.5"
  }
 },
 "nbformat": 4,
 "nbformat_minor": 4
}
