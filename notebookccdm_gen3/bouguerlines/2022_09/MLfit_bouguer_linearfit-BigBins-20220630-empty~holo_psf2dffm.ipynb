{
 "cells": [
  {
   "cell_type": "markdown",
   "metadata": {},
   "source": [
    "# Linear fit of Bouguer lines on  AuxTel Data in large wavelength bins"
   ]
  },
  {
   "cell_type": "markdown",
   "metadata": {},
   "source": [
    "\n",
    "- author Sylvie Dagoret-Campagne\n",
    "- affiliation : IJCLab/IN2P3/CNRS\n",
    "- creation date : October 10th 2022\n",
    "- update : October 10th 2022\n",
    "\n",
    "\n",
    "\n",
    "** Kernel anaconda3_auxtel**\n",
    "\n",
    "\n"
   ]
  },
  {
   "cell_type": "markdown",
   "metadata": {},
   "source": [
    "# Import"
   ]
  },
  {
   "cell_type": "code",
   "execution_count": 1,
   "metadata": {},
   "outputs": [],
   "source": [
    "import pandas as pd\n",
    "import matplotlib as mpl\n",
    "import matplotlib.cm as cm \n",
    "import matplotlib.pyplot as plt\n",
    "import numpy as np\n",
    "from mpl_toolkits.axes_grid1 import host_subplot\n",
    "import mpl_toolkits.axisartist as AA\n",
    "import os,sys,re\n",
    "\n",
    "from astropy.io import fits\n",
    "import matplotlib.colors as colors\n",
    "import matplotlib.cm as cmx\n",
    "import matplotlib.dates as mdates\n",
    "from matplotlib import gridspec\n",
    "%matplotlib inline\n",
    "import pickle"
   ]
  },
  {
   "cell_type": "code",
   "execution_count": 2,
   "metadata": {},
   "outputs": [],
   "source": [
    "# to enlarge the sizes\n",
    "params = {'legend.fontsize': 'x-large',\n",
    "          'figure.figsize': (10, 6),\n",
    "         'axes.labelsize': 'xx-large',\n",
    "         'axes.titlesize':'xx-large',\n",
    "         'xtick.labelsize':'xx-large',\n",
    "         'ytick.labelsize':'xx-large'}\n",
    "plt.rcParams.update(params)"
   ]
  },
  {
   "cell_type": "code",
   "execution_count": 3,
   "metadata": {},
   "outputs": [
    {
     "data": {
      "text/plain": [
       "{'graphtable': '/Users/sylvie/MacOSX/External/PySynPhotData/grp/redcat/trds/mtab/57g1733im_tmg.fits',\n",
       " 'comptable': '/Users/sylvie/MacOSX/External/PySynPhotData/grp/redcat/trds/mtab/5as18041m_tmc.fits',\n",
       " 'thermtable': '/Users/sylvie/MacOSX/External/PySynPhotData/grp/redcat/trds/mtab/3241637sm_tmt.fits',\n",
       " 'area': 1,\n",
       " 'waveset': 'Min: 500, Max: 26000, Num: 10000, Delta: None, Log: True'}"
      ]
     },
     "execution_count": 3,
     "metadata": {},
     "output_type": "execute_result"
    }
   ],
   "source": [
    "pysynphot_root_path=os.environ['PYSYN_CDBS']\n",
    "path_sed_calspec=os.path.join(pysynphot_root_path,'calspec')\n",
    "# pysynphot\n",
    "import pysynphot as S\n",
    "S.refs.setref(area=1)\n",
    "S.refs.getref()"
   ]
  },
  {
   "cell_type": "code",
   "execution_count": 4,
   "metadata": {},
   "outputs": [],
   "source": [
    "import time\n",
    "from datetime import datetime,date\n",
    "import dateutil.parser\n",
    "import pytz\n",
    "\n",
    "import argparse\n",
    "\n",
    "import logging\n",
    "import coloredlogs\n",
    "import configparser\n"
   ]
  },
  {
   "cell_type": "code",
   "execution_count": 5,
   "metadata": {},
   "outputs": [],
   "source": [
    "from scipy import interpolate\n",
    "from scipy.interpolate import interp1d\n",
    "from scipy.signal import savgol_filter\n",
    "from scipy import fftpack"
   ]
  },
  {
   "cell_type": "code",
   "execution_count": null,
   "metadata": {},
   "outputs": [],
   "source": [
    "from spectractor.extractor.spectroscopy import Lines, Line ,HALPHA, HBETA, O2_1, H2O_1, ATMOSPHERIC_LINES"
   ]
  },
  {
   "cell_type": "code",
   "execution_count": null,
   "metadata": {},
   "outputs": [],
   "source": [
    "HALPHA = Line(656.3, atmospheric=False, label='$H\\\\alpha$', label_pos=[-0.01, 0.02], use_for_calibration=True)\n",
    "HBETA = Line(486.3, atmospheric=False, label='$H\\\\beta$', label_pos=[0.001, 0.02], use_for_calibration=True)\n",
    "HGAMMA = Line(434.0, atmospheric=False, label='$H\\\\gamma$', label_pos=[0.001, 0.02], use_for_calibration=True)\n",
    "HDELTA = Line(410.2, atmospheric=False, label='$H\\\\delta$', label_pos=[0.001, 0.02], use_for_calibration=True)\n",
    "HEPSILON = Line(397.0, atmospheric=False, label='$H\\\\epsilon$', label_pos=[0.001, 0.02], use_for_calibration=True)\n",
    "\n",
    "HZETA = Line(388.9064, atmospheric=False, label='$H\\\\zeta$', label_pos=[0.001, 0.02], use_for_calibration=False)\n",
    "HETA = Line(383.5397, atmospheric=False, label='$H\\\\eta$', label_pos=[0.001, 0.02], use_for_calibration=False)\n",
    "\n",
    "HBETA2 = Line(486.3*2, atmospheric=False, label='$H\\\\beta$2', label_pos=[0.001, 0.02], use_for_calibration=True)\n",
    "HGAMMA2 = Line(434.0*2, atmospheric=False, label='$H\\\\gamma$2', label_pos=[0.001, 0.02], use_for_calibration=True)\n",
    "HDELTA2 = Line(410.2*2, atmospheric=False, label='$H\\\\delta$2', label_pos=[0.001, 0.02], use_for_calibration=True)\n",
    "HEPSILON2 = Line(397.0*2, atmospheric=False, label='$H\\\\epsilon$2', label_pos=[0.001, 0.02], use_for_calibration=True)\n",
    "HZETA2 = Line(388.9064*2, atmospheric=False, label='$H\\\\zeta$2', label_pos=[0.001, 0.02], use_for_calibration=False)\n",
    "HETA2 = Line(383.5397*2, atmospheric=False, label='$H\\\\eta$2', label_pos=[0.001, 0.02], use_for_calibration=False)\n",
    "\n",
    "O2_1 = Line(760.3, atmospheric=True, label='$O_2$',label_pos=[0.001, 0.02], use_for_calibration=True)  # libradtran paper fig.3\n",
    "O2_2 = Line(763.1, atmospheric=True, label='$O_2$',label_pos=[0.001, 0.02], use_for_calibration=True)  # libradtran paper fig.3\n",
    "\n",
    "O2B = Line(687.472, atmospheric=True, label=r'$O_2(B)$',  # 687.472 is a weighted average of the O2B line simulated by Libradtran\n",
    "           label_pos=[0.001, 0.02], use_for_calibration=True)  # https://en.wikipedia.org/wiki/Fraunhofer_lines\n",
    "O2Y = Line(898.765, atmospheric=True, label=r'$O_2(Y)$',\n",
    "           label_pos=[0.001, 0.02])  # https://en.wikipedia.org/wiki/Fraunhofer_lines\n",
    "O2Z = Line(822.696, atmospheric=True, label=r'$O_2(Z)$',\n",
    "           label_pos=[0.001, 0.02])  # https://en.wikipedia.org/wiki/Fraunhofer_lines\n",
    "# H2O = Line( 960,atmospheric=True,label='$H_2 O$',label_pos=[0.007,0.02],width_bounds=(1,50))  #\n",
    "H2O_1 = Line(935, atmospheric=True, label=r'$H_2 O$', label_pos=[0.001, 0.02],  # MFL: don't these need different labels?\n",
    "             width_bounds=[5, 30])  # libradtran paper fig.3, broad line\n",
    "H2O_2 = Line(960, atmospheric=True, label=r'$H_2 O$', label_pos=[0.001, 0.02],  # MFL: don't these need different labels?\n",
    "              width_bounds=[5, 30])  # libradtran paper fig.3, broad line\n",
    "ATMOSPHERIC_LINES = [O2_1, O2_2, O2B, O2Y, O2Z, H2O_1]\n",
    "\n",
    "\n",
    "H2O_1 = Line(935, atmospheric=True, label=r'$H_2 O$', label_pos=[0.001, 0.02],  # MFL: don't these need different labels?\n",
    "             width_bounds=[5, 30])  # libradtran paper fig.3, broad line\n",
    "H2O_2 = Line(960, atmospheric=True, label=r'$H_2 O$', label_pos=[0.007, 0.02],width_bounds=[5, 30])  # libradtran paper fig.3, broad line\n",
    "\n",
    "my_calib_lines_etador = Lines([HALPHA,HBETA,HGAMMA,HDELTA,HEPSILON,HBETA2,HGAMMA2,HDELTA2,HEPSILON2,HZETA2,O2_1,O2_2],hydrogen_only=True,atmospheric_lines=True, redshift=0, emission_spectrum=False)\n",
    "hydrogen_lines_order1 =  Lines([HALPHA,HBETA,HGAMMA,HDELTA,HEPSILON])\n",
    "hydrogen_lines_order2 =  Lines([HBETA2,HGAMMA2,HDELTA2,HEPSILON2,HZETA2,HETA2])\n",
    "oxygen_lines_order1 = Lines([O2_1,O2_2])"
   ]
  },
  {
   "cell_type": "markdown",
   "metadata": {},
   "source": [
    "# Functions"
   ]
  },
  {
   "cell_type": "markdown",
   "metadata": {},
   "source": [
    "- filtering here\n",
    "\n",
    "https://stackoverflow.com/questions/20618804/how-to-smooth-a-curve-in-the-right-way"
   ]
  },
  {
   "cell_type": "code",
   "execution_count": null,
   "metadata": {},
   "outputs": [],
   "source": [
    "def smooth_data_convolve_my_average(arr, span):\n",
    "    re = np.convolve(arr, np.ones(span * 2 + 1) / (span * 2 + 1), mode=\"same\")\n",
    "\n",
    "    # The \"my_average\" part: shrinks the averaging window on the side that \n",
    "    # reaches beyond the data, keeps the other side the same size as given \n",
    "    # by \"span\"\n",
    "    re[0] = np.average(arr[:span])\n",
    "    for i in range(1, span + 1):\n",
    "        re[i] = np.average(arr[:i + span])\n",
    "        re[-i] = np.average(arr[-i - span:])\n",
    "    return re\n",
    "\n",
    "def smooth_data_np_average(arr, span):  # my original, naive approach\n",
    "    return [np.average(arr[val - span:val + span + 1]) for val in range(len(arr))]\n",
    "\n",
    "def smooth_data_np_convolve(arr, span):\n",
    "    return np.convolve(arr, np.ones(span * 2 + 1) / (span * 2 + 1), mode=\"same\")\n",
    "\n",
    "def smooth_data_np_cumsum_my_average(arr, span):\n",
    "    cumsum_vec = np.cumsum(arr)\n",
    "    moving_average = (cumsum_vec[2 * span:] - cumsum_vec[:-2 * span]) / (2 * span)\n",
    "\n",
    "    # The \"my_average\" part again. Slightly different to before, because the\n",
    "    # moving average from cumsum is shorter than the input and needs to be padded\n",
    "    front, back = [np.average(arr[:span])], []\n",
    "    for i in range(1, span):\n",
    "        front.append(np.average(arr[:i + span]))\n",
    "        back.insert(0, np.average(arr[-i - span:]))\n",
    "    back.insert(0, np.average(arr[-2 * span:]))\n",
    "    return np.concatenate((front, moving_average, back))\n",
    "\n",
    "def smooth_data_lowess(arr, span):\n",
    "    x = np.linspace(0, 1, len(arr))\n",
    "    return sm.nonparametric.lowess(arr, x, frac=(5*span / len(arr)), return_sorted=False)\n",
    "\n",
    "def smooth_data_kernel_regression(arr, span):\n",
    "    # \"span\" smoothing parameter is ignored. If you know how to \n",
    "    # incorporate that with kernel regression, please comment below.\n",
    "    kr = KernelReg(arr, np.linspace(0, 1, len(arr)), 'c')\n",
    "    return kr.fit()[0]\n",
    "\n",
    "def smooth_data_savgol_0(arr, span):  \n",
    "    return savgol_filter(arr, span * 2 + 1, 0)\n",
    "\n",
    "def smooth_data_savgol_1(arr, span):  \n",
    "    return savgol_filter(arr, span * 2 + 1, 1)\n",
    "\n",
    "def smooth_data_savgol_2(arr, span):  \n",
    "    return savgol_filter(arr, span * 2 + 1, 2)\n",
    "\n",
    "def smooth_data_fft(arr, span):  # the scaling of \"span\" is open to suggestions\n",
    "    w = fftpack.rfft(arr)\n",
    "    spectrum = w ** 2\n",
    "    cutoff_idx = spectrum < (spectrum.max() * (1 - np.exp(-span / 2000)))\n",
    "    w[cutoff_idx] = 0\n",
    "    return fftpack.irfft(w)"
   ]
  },
  {
   "cell_type": "code",
   "execution_count": null,
   "metadata": {},
   "outputs": [],
   "source": [
    "def atmpatt_Dataf_to_np(df):\n",
    "    \"\"\"\n",
    "    \n",
    "    atmpatt_Dataf_to_np : convert pandas dtaframe on abs pattern into numpy array\n",
    "    \n",
    "    \"\"\"\n",
    "    o2_cols = []\n",
    "    for tabcol in df.columns:\n",
    "        if 'o2_' in tabcol and 'no2_' not in tabcol:\n",
    "            o2_cols.append(tabcol)\n",
    "            \n",
    "    no2_cols = []\n",
    "    for tabcol in df.columns:\n",
    "        if 'no2_' in tabcol:\n",
    "            no2_cols.append(tabcol)\n",
    "            \n",
    "            \n",
    "    h2o_cols = []\n",
    "    for tabcol in df.columns:\n",
    "        if 'h2o_' in tabcol:\n",
    "            h2o_cols.append(tabcol)\n",
    "            \n",
    "            \n",
    "    o3_cols = []\n",
    "    for tabcol in df.columns:\n",
    "        if 'o3_' in  tabcol:\n",
    "            o3_cols.append(tabcol)\n",
    "            \n",
    "            \n",
    "    data_wl = df[\"wl\"].to_numpy()\n",
    "    data_o2 = df[o2_cols].to_numpy()\n",
    "    data_o3 = df[o3_cols].to_numpy()\n",
    "    data_h2o = df[h2o_cols].to_numpy()\n",
    "    data_no2 = df[no2_cols].to_numpy()\n",
    "    \n",
    "    \n",
    "    return data_wl, data_o2, data_o3, data_h2o, data_no2\n",
    "    \n",
    "    "
   ]
  },
  {
   "cell_type": "code",
   "execution_count": null,
   "metadata": {},
   "outputs": [],
   "source": [
    "def find_nearest(a, a0):\n",
    "    \"Element in nd array `a` closest to the scalar value `a0`\"\n",
    "    idx = np.abs(a - a0).argmin()\n",
    "    return a.flat[idx],int(idx)"
   ]
  },
  {
   "cell_type": "code",
   "execution_count": null,
   "metadata": {},
   "outputs": [],
   "source": [
    "def GetSpectra(dict_spectra):\n",
    "    \"\"\"\n",
    "    GetSpectra(dict_spectra)\n",
    "    \n",
    "    input:\n",
    "      - dict_spectra : dictionnary of input spectra\n",
    "      \n",
    "      \n",
    "      {'number': 238.0, 'object': 'mu. Col', 'dateobs': '2022-03-18T00:51:22.049', 'refhour': 0.0, 'airmass': 1.11557476948966, 'pressure': 743.45, 'temperature': 8.9, \n",
    "      'humidity': 48.0, 'targetx_pix': 312.7442668572934, 'targety_pix': 1738.0006619324693, 'rotangle': 0.1753951396614214, 'd2ccd': 181.0974436798836, \n",
    "      'all_lambdas': array([ 302.20970512,  302.91544585,  303.62117594, ..., 1108.67461764,\n",
    "       1109.35162338, 1110.02859124]), 'all_fluxes': array([1.04110833e-13, 9.83856109e-14, 8.99209206e-14, ...,\n",
    "       5.34113538e-13, 5.36905940e-13, 5.53127394e-13]), 'all_fluxes_err': array([3.51303583e-15, 3.10100695e-15, 2.58677333e-15, ...,\n",
    "       3.34568263e-15, 4.01784054e-15, 4.54242555e-15]), 'all_lambdas_order2': array([ 302.24857475,  302.9543149 ,  303.66004442, ..., 1108.71192607,\n",
    "       1109.38892974, 1110.06589555]), 'all_fluxes_order2': array([420.23653349, 386.95227531, 344.90384603, ...,  60.47440612,\n",
    "        60.74615545,  62.53491353]), 'all_fluxes_err_order2': array([14.15542468, 12.17674916,  9.90751987, ...,  0.37846535,\n",
    "        0.45415764,  0.51307916])}\n",
    "      \n",
    "    \n",
    "    return\n",
    "      - list of dataframes\n",
    "    \"\"\"\n",
    "    \n",
    "    list_of_columns = [\"number\",\"object\",'dateobs','refhour','airmass','pressure','temperature','humidity','filename','targetx_pix', 'targety_pix','rotangle', 'd2ccd']   \n",
    "\n",
    "    all_df = []  # container for spectra\n",
    "    \n",
    "    df_info = pd.DataFrame(columns=list_of_columns)\n",
    "    \n",
    "    idx=0\n",
    "    for key, value in dict_spectra.items():\n",
    "        \n",
    "        df_info.loc[idx] = [int(value[\"number\"]),value[\"object\"],value[\"dateobs\"],value[\"refhour\"],value[\"airmass\"],value[\"pressure\"],value[\"temperature\"],value[\"humidity\"],key,value['targetx_pix'],value['targety_pix'],value['rotangle'], value['d2ccd']]\n",
    "         \n",
    "        df = pd.DataFrame()\n",
    "        df[\"all_lambdas\"] = value[\"all_lambdas\"]\n",
    "        df[\"all_fluxes\"] = value[\"all_fluxes\"]\n",
    "        df[\"all_fluxes_err\"] = value[\"all_fluxes_err\"]\n",
    "        \n",
    "        if 'all_lambdas_order2' in value.keys():\n",
    "            df[\"all_lambdas_order2\"] = value[\"all_lambdas_order2\"]\n",
    "            df[\"all_fluxes_order2\"] = value[\"all_fluxes_order2\"]\n",
    "            df[\"all_fluxes_err_order2\"] = value[\"all_fluxes_err_order2\"]\n",
    "            \n",
    "        \n",
    "        all_df.append(df)\n",
    "        \n",
    "        \n",
    "        idx+=1\n",
    "        \n",
    "    return df_info , all_df"
   ]
  },
  {
   "cell_type": "code",
   "execution_count": null,
   "metadata": {},
   "outputs": [],
   "source": [
    "def GetSpectraFiltered(dict_spectra,list_of_bad_spectra):\n",
    "    \"\"\"\n",
    "    GetSpectraFiltered(inputdir,inputfiles)\n",
    "    \n",
    "    input:\n",
    "      - dict_spectra\n",
    "      - ist_of_bad_spectra\n",
    "    \n",
    "    return\n",
    "      - filtered infos, filtered spectra\n",
    "    \"\"\"\n",
    "    \n",
    "    \n",
    "    \n",
    "    list_of_columns = [\"number\",\"object\",'dateobs','refhour','airmass','pressure','temperature','humidity','filename','targetx_pix', 'targety_pix','rotangle', 'd2ccd']   \n",
    "        \n",
    "\n",
    "    all_df = []  # container for spectra\n",
    "    \n",
    "    df_info = pd.DataFrame(columns=list_of_columns)\n",
    "    \n",
    "    idx=0       # counter on input spectra\n",
    "    idx_out = 0 # counter on save spectra\n",
    "    for key, value in dict_spectra.items():\n",
    "        \n",
    "        \n",
    "        if int(value[\"number\"]) not in list_of_bad_spectra:\n",
    "        \n",
    "            \n",
    "            df_info.loc[idx] = [int(value[\"number\"]),value[\"object\"],value[\"dateobs\"],value[\"refhour\"],value[\"airmass\"],value[\"pressure\"],value[\"temperature\"],value[\"humidity\"],key,value['targetx_pix'],value['targety_pix'],value['rotangle'], value['d2ccd']] \n",
    "        \n",
    "            df = pd.DataFrame()\n",
    "            df[\"all_lambdas\"] = value[\"all_lambdas\"]\n",
    "            df[\"all_fluxes\"] = value[\"all_fluxes\"]\n",
    "            df[\"all_fluxes_err\"] = value[\"all_fluxes_err\"]\n",
    "        \n",
    "            if 'all_lambdas_order2' in value.keys():\n",
    "                df[\"all_lambdas_order2\"] = value[\"all_lambdas_order2\"]\n",
    "                df[\"all_fluxes_order2\"] = value[\"all_fluxes_order2\"]\n",
    "                df[\"all_fluxes_err_order2\"] = value[\"all_fluxes_err_order2\"]\n",
    "               \n",
    "            all_df.append(df)\n",
    "            idx_out+=1  # increase count on saved spectra\n",
    "            \n",
    "        else:\n",
    "            num = int(value[\"number\"])\n",
    "            msg = f\"Remove spectrum {idx} for exposure {num}\"\n",
    "            print(msg)\n",
    "            \n",
    "        idx+=1\n",
    "            \n",
    "\n",
    "        \n",
    "    return df_info,all_df"
   ]
  },
  {
   "cell_type": "code",
   "execution_count": null,
   "metadata": {},
   "outputs": [],
   "source": [
    "def ConvertToImage(info, all_df,WLMIN=350,WLMAX=1100):\n",
    "    \"\"\"\n",
    "    \n",
    "    call \n",
    "    WL,Mags1,EMags1,AirM,Tim = ConvertToImage(info,all_spectra,WLMIN= WLMINSEL ,WLMAX= WLMAXSEL)  \n",
    "    \n",
    "    \"\"\"\n",
    "    \n",
    "    N=len(all_df)\n",
    "    WL=np.arange(WLMIN,WLMAX+1)\n",
    "    NWL=len(WL)\n",
    "    \n",
    "    mag_table=np.zeros((N,NWL))   # table of  magnitudes\n",
    "    emag_table=np.zeros((N,NWL))  # table of error on magnitudes\n",
    "    \n",
    "    \n",
    "    airm_table=np.zeros(N)\n",
    "    time_table=np.zeros(N)\n",
    "    \n",
    "    for idx in np.arange(N):\n",
    "        df=all_df[idx]\n",
    "        \n",
    "        mag = -2.5*np.log10(df[\"all_fluxes\"])\n",
    "        errmag = 2.5/np.log(10) * df[\"all_fluxes_err\"]/df[\"all_fluxes\"]\n",
    "        wavelength = df[\"all_lambdas\"]\n",
    "        fcn = interpolate.interp1d(wavelength,mag,bounds_error=False,fill_value=(0,0))\n",
    "        fcn2 = interpolate.interp1d(wavelength,errmag,bounds_error=False,fill_value=(0,0))\n",
    "            \n",
    "        mag_table[idx,:] = fcn(WL) \n",
    "        emag_table[idx,:] = fcn2(WL) \n",
    "        \n",
    "        airm_table[idx]  = info[\"airmass\"].iloc[idx]\n",
    "        time_table[idx]  = info[\"refhour\"].iloc[idx]\n",
    "        \n",
    "    return WL, mag_table, emag_table,airm_table,time_table\n",
    "       "
   ]
  },
  {
   "cell_type": "code",
   "execution_count": null,
   "metadata": {},
   "outputs": [],
   "source": [
    "def GetBouguerLinesTim(Npoints,wl,tim,magref ,emag,title=\"atmospheric transmission vs time\",FLAG_PLOT=True,YMIN=0,YMAX=0,WLMIN=350,WLMAX=1100):\n",
    "    \"\"\"\n",
    "    \n",
    "    GetBouguerLinesTim(Npoints,wl,tim,magref ,emag,title=\"atmospheric transmission vs time\",FLAG_PLOT=True,YMIN=0,YMAX=0):\n",
    "    Input arguments :\n",
    "    \n",
    "    - Npoints : number of wavelength samples,\n",
    "    - wl: array of wavelength\n",
    "    - time : array of time\n",
    "    - magref : reference of magnitudes array (2d)\n",
    "    \n",
    "    Return:\n",
    "     plot only\n",
    "    \n",
    "    \"\"\"\n",
    "    \n",
    "    # determine the wavelength output range\n",
    "    if WLMIN == 0 and WLMAX == 0:\n",
    "        WLMIN=wl.min()\n",
    "        WLMAX=wl.max()\n",
    "    \n",
    "    # define the range of bin centers\n",
    "    wl_sel=np.linspace(WLMIN,WLMAX,Npoints,endpoint=True)\n",
    "    # create label\n",
    "    wl_label = [ \"{:3.0f} nm\".format(w) for w in wl_sel]\n",
    "    \n",
    "    \n",
    "    # compute the bin width\n",
    "    wl_binwidth1=(WLMAX-WLMIN)/(Npoints-1)\n",
    "    wl_binwidth2=np.median(np.diff(wl_sel))\n",
    "    wl_binwidth = wl_binwidth2\n",
    "    \n",
    "    \n",
    "    # numbers of Bouguer lines\n",
    "    NIWSEL=len(wl_sel)\n",
    "    \n",
    "    \n",
    "    Mags=np.zeros(NIWSEL)\n",
    "    EMags=np.zeros(NIWSEL)\n",
    "    \n",
    "    # number of wavelength bins\n",
    "    N=NIWSEL\n",
    "    jet = plt.get_cmap('jet')\n",
    "    cNorm = colors.Normalize(vmin=0, vmax=N)\n",
    "    scalarMap = cmx.ScalarMappable(norm=cNorm, cmap=jet)\n",
    "    all_colors = scalarMap.to_rgba(np.arange(N), alpha=1)\n",
    "    \n",
    "    # the abscisse is the time\n",
    "    the_x=tim\n",
    "    \n",
    "    x_fit=np.linspace(0,the_x.max(),100)\n",
    "    \n",
    "    if FLAG_PLOT:\n",
    "        fig=plt.figure(figsize=(16,10))\n",
    "        ax=fig.add_subplot(111)\n",
    "\n",
    "    # loop over bouguer lines (big wl bins)\n",
    "    for idx in np.arange(N):     \n",
    "        # central wavelength\n",
    "        wl0=wl_sel[idx]\n",
    "        \n",
    "        # indexes in the input arrays\n",
    "        idx_in_wlrange = np.where(np.logical_and(wl >= wl0-wl_binwidth/2,wl < wl0+wl_binwidth/2))[0]\n",
    "        \n",
    "        all_the_y_inwlbin=magref[:,idx_in_wlrange]\n",
    "        all_the_ey_inwlbin=emag[:,idx_in_wlrange]   \n",
    "        \n",
    "        n_in_bin = len(all_the_y_inwlbin)\n",
    "        \n",
    "        # compute average\n",
    "        the_y = np.median(all_the_y_inwlbin,axis=1)\n",
    "        # compute error on average\n",
    "        the_ey = np.sqrt(np.mean(all_the_ey_inwlbin**2,axis=1))/np.sqrt(n_in_bin)\n",
    "        \n",
    "        \n",
    "\n",
    "        if FLAG_PLOT:\n",
    "            ax.plot(the_x,the_y,'+',color=all_colors[idx],label=wl_label[idx])\n",
    "            ax.errorbar(the_x,the_y,yerr=the_ey, fmt = '+', color=all_colors[idx],capsize = 1., ecolor=all_colors[idx], elinewidth = 1.)\n",
    "    \n",
    "        \n",
    "    \n",
    "    \n",
    "    if FLAG_PLOT:\n",
    "        ax.legend(loc='upper right',bbox_to_anchor=(1.05,1))\n",
    "        ax.set_xlim(0,the_x.max()*1.2)\n",
    "        ax.grid()\n",
    "        ax.set_xlabel(\"time (Hour)\")\n",
    "        ax.set_ylabel(\"transmission (mag)\")\n",
    "        ax.set_title(title,fontsize=20,fontweight='bold')\n",
    "        if not (YMIN==0 and YMAX==0) and (YMAX>YMIN):\n",
    "            ax.set_ylim(YMIN,YMAX)\n",
    "        plt.show()\n",
    "        \n",
    "     \n",
    "    return \n",
    "     "
   ]
  },
  {
   "cell_type": "code",
   "execution_count": null,
   "metadata": {},
   "outputs": [],
   "source": [
    "def GetBouguerLinesAtm(Npoints,wl,airmass,magref ,emag,title=\"transmission vs airmass\",FLAG_PLOT=True,YMIN=0,YMAX=0,WLMIN=350,WLMAX=1100):\n",
    "    \"\"\"\n",
    "    Compute bouguer lines in large bins\n",
    "    \n",
    "    input parameters:\n",
    "        -  Npoints : Number of bouguer lines required in the bouguer lines\n",
    "        -  wl array of wavelength at input\n",
    "        - airmass array at input\n",
    "        - magref : magnitude aray\n",
    "        - emag :  magnitude error array\n",
    "        \n",
    "        \n",
    "        \n",
    "    return:\n",
    "        - wl_sel,Mags,EMags,np.array(fit_flag),np.array(fit_results)\n",
    "    \"\"\"\n",
    "    \n",
    "    # determine the wavelength output range\n",
    "    if WLMIN == 0 and WLMAX == 0:\n",
    "        WLMIN=wl.min()\n",
    "        WLMAX=wl.max()\n",
    "    \n",
    "    # define the range of bin centers\n",
    "    wl_sel=np.linspace(WLMIN,WLMAX,Npoints,endpoint=True)\n",
    "    wl_label = [ \"{:3.0f} nm\".format(w) for w in wl_sel]\n",
    "    \n",
    "    # compute the bin width\n",
    "    wl_binwidth1=(WLMAX-WLMIN)/(Npoints-1)\n",
    "    wl_binwidth2=np.median(np.diff(wl_sel))\n",
    "    wl_binwidth = wl_binwidth2\n",
    "    \n",
    "    # numbers of Bouguer lines\n",
    "    NIWSEL=len(wl_sel)\n",
    "    \n",
    "    Mags=np.zeros(NIWSEL)\n",
    "    EMags=np.zeros(NIWSEL)\n",
    "    \n",
    "    N=NIWSEL\n",
    "    jet = plt.get_cmap('jet')\n",
    "    cNorm = colors.Normalize(vmin=0, vmax=N)\n",
    "    scalarMap = cmx.ScalarMappable(norm=cNorm, cmap=jet)\n",
    "    all_colors = scalarMap.to_rgba(np.arange(N), alpha=1)\n",
    "    \n",
    "    \n",
    "    # the absisse is the airmass \n",
    "    the_x=airmass\n",
    "    \n",
    "    x_fit=np.linspace(0,the_x.max(),100)\n",
    "    \n",
    "    if FLAG_PLOT:\n",
    "        fig=plt.figure(figsize=(16,10))\n",
    "        ax=fig.add_subplot(111)\n",
    "\n",
    "        \n",
    "    # loop on wavelength    \n",
    "    fit_results = []\n",
    "    fit_flag = []\n",
    "    \n",
    "    \n",
    "    # loop on bouguer lines\n",
    "    for idx in np.arange(N):\n",
    "        \n",
    "        # central wavelength\n",
    "        wl0=wl_sel[idx]\n",
    "        \n",
    "        # indexes in the input arrays\n",
    "        idx_in_wlrange = np.where(np.logical_and(wl >= wl0-wl_binwidth/2,wl < wl0+wl_binwidth/2))[0]\n",
    "        \n",
    "        all_the_y_inwlbin=magref[:,idx_in_wlrange]\n",
    "        all_the_ey_inwlbin=emag[:,idx_in_wlrange]\n",
    "        \n",
    "        # number in wl bins\n",
    "        n_in_bin = len(all_the_y_inwlbin)\n",
    "        \n",
    "        # compute the average\n",
    "        the_y = np.median(all_the_y_inwlbin,axis=1)\n",
    "        # compute error on the average\n",
    "        the_ey = np.sqrt(np.mean(all_the_ey_inwlbin**2,axis=1))/np.sqrt(n_in_bin)\n",
    "        \n",
    "      \n",
    "        # fit\n",
    "        popt,cov = np.polyfit(the_x, the_y, 1,cov=True)\n",
    "        fit_results.append(popt)\n",
    "        \n",
    "       \n",
    "        \n",
    "        perr=np.sqrt(np.diag(cov))\n",
    "        nstd=1\n",
    "        sigmaf=np.sqrt(x_fit**2*cov[0,0]+cov[1,1]+x_fit*(cov[0,1]+cov[1,0]))\n",
    "        \n",
    "        Mags[idx]=popt[-1]\n",
    "        EMags[idx]=sigmaf[0]\n",
    "        \n",
    "        p = np.poly1d(popt)\n",
    "        \n",
    "        y_fit=p(x_fit)\n",
    "        y_fit_up=y_fit+nstd*sigmaf\n",
    "        y_fit_dw=y_fit-nstd*sigmaf\n",
    "        \n",
    "        if FLAG_PLOT:\n",
    "       \n",
    "            if popt[0] > 0 :\n",
    "                # plot points\n",
    "                ax.plot(the_x,the_y,'+',color=all_colors[idx],label=wl_label[idx])\n",
    "                ax.errorbar(the_x,the_y,yerr=the_ey, fmt = '+', color=all_colors[idx],capsize = 1, ecolor=all_colors[idx], elinewidth =1)\n",
    "    \n",
    "                # plot fitted lines\n",
    "                ax.plot(x_fit,y_fit,'-',color=all_colors[idx])\n",
    "                ax.fill_between(x_fit,y_fit_up, y_fit_dw, alpha=.25, color=\"gray\")\n",
    "            \n",
    "            else:\n",
    "                msg = f\"Remove wavelength {wl0} nm, bad fit slope = {popt[0]}, intercept = {popt[-1]}\"\n",
    "                print(msg)\n",
    "            \n",
    "                \n",
    "        if popt[0] > 0 : \n",
    "            fit_flag.append(True) \n",
    "        else:\n",
    "            fit_flag.append(False) \n",
    "                       \n",
    "    \n",
    "    \n",
    "    if FLAG_PLOT:\n",
    "        ax.legend(loc=\"upper right\",bbox_to_anchor=(1.1,1))\n",
    "        ax.set_xlim(0,the_x.max())\n",
    "        ax.grid()\n",
    "        ax.set_xlabel(\"airmass\")\n",
    "        ax.set_ylabel(\"transmission (mag)\")\n",
    "        ax.set_title(title,fontsize=20,fontweight='bold')\n",
    "        if not (YMIN==0 and YMAX==0) and (YMAX>YMIN):\n",
    "            ax.set_ylim(YMIN,YMAX)\n",
    "        plt.show()\n",
    "     \n",
    "    return wl_sel,Mags,EMags,np.array(fit_flag),np.array(fit_results)\n",
    "     "
   ]
  },
  {
   "cell_type": "code",
   "execution_count": null,
   "metadata": {},
   "outputs": [],
   "source": [
    "def GetBouguerLinesAtmRelativetoZero(Npoints,wl,airmass,magref ,emag,title=\"transmission vs airmass\",FLAG_PLOT=True,YMIN=0,YMAX=0,WLMIN=350,WLMAX=1100):\n",
    "    \"\"\"\n",
    "    \n",
    "    Compute bouguer lines in large bins and remove zero-airmass magnitude\n",
    "    \n",
    "    input parameters:\n",
    "        -  Npoints : Number of bouguer lines required in the bouguer lines\n",
    "        -  wl array of wavelength at input\n",
    "        - airmass array at input\n",
    "        - magref : magnitude aray\n",
    "        - emag :  magnitude error array\n",
    "        \n",
    "    return :\n",
    "        - wl_sel,Mags,EMags,np.array(fit_flag),np.array(fit_results)\n",
    "    \n",
    "    \"\"\"\n",
    "    \n",
    "    # determine the wavelength output range\n",
    "    if WLMIN == 0 and WLMAX == 0:\n",
    "        WLMIN=wl.min()\n",
    "        WLMAX=wl.max()\n",
    "    \n",
    "    # define the range of bin centers\n",
    "    wl_sel=np.linspace(WLMIN,WLMAX,Npoints,endpoint=True)\n",
    "    wl_label = [ \"{:3.0f} nm\".format(w) for w in wl_sel]\n",
    "    \n",
    "    # compute the bin width\n",
    "    wl_binwidth1=(WLMAX-WLMIN)/(Npoints-1)\n",
    "    wl_binwidth2=np.median(np.diff(wl_sel))\n",
    "    wl_binwidth = wl_binwidth2\n",
    "    \n",
    "    # numbers of Bouguer lines\n",
    "    NIWSEL=len(wl_sel)\n",
    "    \n",
    "    Mags=np.zeros(NIWSEL)\n",
    "    EMags=np.zeros(NIWSEL)\n",
    "    \n",
    "    \n",
    "    \n",
    "    N=NIWSEL\n",
    "    jet = plt.get_cmap('jet')\n",
    "    cNorm = colors.Normalize(vmin=0, vmax=N)\n",
    "    scalarMap = cmx.ScalarMappable(norm=cNorm, cmap=jet)\n",
    "    all_colors = scalarMap.to_rgba(np.arange(N), alpha=1)\n",
    "    \n",
    "    the_x=airmass\n",
    "    \n",
    "    \n",
    "    x_fit=np.linspace(0,the_x.max(),100)\n",
    "    \n",
    "    if FLAG_PLOT:\n",
    "        fig=plt.figure(figsize=(16,10))\n",
    "        ax=fig.add_subplot(111)\n",
    "\n",
    "    # loop on Bouguer lines at different wavelength \n",
    "    fit_results = [] # contains the result of the fit popt\n",
    "    fit_flag = []    # quality flag\n",
    "    \n",
    "    for idx in np.arange(N):\n",
    "        \n",
    "        \n",
    "        # central wavelength\n",
    "        wl0=wl_sel[idx]\n",
    "        \n",
    "        # indexes in the input arrays\n",
    "        idx_in_wlrange = np.where(np.logical_and(wl >= wl0-wl_binwidth/2,wl < wl0+wl_binwidth/2))[0]\n",
    "        \n",
    "        all_the_y_inwlbin=magref[:,idx_in_wlrange]\n",
    "        all_the_ey_inwlbin=emag[:,idx_in_wlrange]\n",
    "        \n",
    "        # number in wl bins\n",
    "        n_in_bin = len(all_the_y_inwlbin)\n",
    "        \n",
    "        # compute the average\n",
    "        the_y = np.median(all_the_y_inwlbin,axis=1)\n",
    "        # compute error on the average\n",
    "        the_ey = np.sqrt(np.mean(all_the_ey_inwlbin**2,axis=1))/np.sqrt(n_in_bin)\n",
    "        \n",
    "                    \n",
    "    \n",
    "        # fit\n",
    "        popt,cov = np.polyfit(the_x, the_y, 1,cov=True)\n",
    "        fit_results.append(popt)\n",
    "        \n",
    "        perr=np.sqrt(np.diag(cov))\n",
    "        nstd=1\n",
    "        sigmaf=np.sqrt(x_fit**2*cov[0,0]+cov[1,1]+x_fit*(cov[0,1]+cov[1,0]))\n",
    "        \n",
    "        Mags[idx]=popt[-1]\n",
    "        EMags[idx]=sigmaf[0]\n",
    "        \n",
    "        p = np.poly1d(popt)\n",
    "        \n",
    "        y_fit=p(x_fit)\n",
    "        y_fit_up=y_fit+nstd*sigmaf\n",
    "        y_fit_dw=y_fit-nstd*sigmaf\n",
    "        \n",
    "        intercept =  popt[-1]\n",
    "        \n",
    "        \n",
    "        \n",
    "        if FLAG_PLOT:\n",
    "            \n",
    "            if popt[0] > 0 : \n",
    "                ax.plot(the_x,the_y - intercept,'+',color=all_colors[idx],label=wl_label[idx])\n",
    "                ax.errorbar(the_x,the_y - intercept,yerr=the_ey, fmt = '+', color=all_colors[idx],capsize = 1, ecolor=all_colors[idx], elinewidth =1)\n",
    "            \n",
    "                ax.plot(x_fit,y_fit - intercept,'-',color=all_colors[idx])\n",
    "                ax.fill_between(x_fit,y_fit_up- intercept, y_fit_dw - intercept, alpha=.25, color=\"gray\")\n",
    "                \n",
    "            \n",
    "            else:\n",
    "                msg = f\"Remove wavelength {wl0}, bad fit slope = {popt[0]}, intercept = {popt[-1]}\"\n",
    "                print(msg)\n",
    "               \n",
    "       \n",
    "        if popt[0] > 0 : \n",
    "            fit_flag.append(True) \n",
    "        else:\n",
    "            fit_flag.append(False) \n",
    "            \n",
    "    \n",
    "    \n",
    "    if FLAG_PLOT:\n",
    "        ax.legend(loc=\"upper right\",bbox_to_anchor=(1.1,1))\n",
    "        ax.set_xlim(0,the_x.max())\n",
    "        ax.grid()\n",
    "        ax.set_xlabel(\"airmass\")\n",
    "        ax.set_ylabel(\"transmission (mag)\")\n",
    "        ax.set_title(title,fontsize=20,fontweight='bold')\n",
    "        if not (YMIN==0 and YMAX==0) and (YMAX>YMIN):\n",
    "            ax.set_ylim(YMIN,YMAX)\n",
    "        plt.show()\n",
    "     \n",
    "    return wl_sel,Mags,EMags,np.array(fit_flag),np.array(fit_results)\n",
    "     "
   ]
  },
  {
   "cell_type": "markdown",
   "metadata": {},
   "source": [
    "# Constants"
   ]
  },
  {
   "cell_type": "markdown",
   "metadata": {},
   "source": [
    "# Initialisation"
   ]
  },
  {
   "cell_type": "code",
   "execution_count": null,
   "metadata": {},
   "outputs": [],
   "source": [
    "# start with logs\n",
    "#-----------------\n",
    "logging.basicConfig()\n",
    "logging.root.setLevel(logging.NOTSET)\n",
    "\n",
    "handle = __name__\n",
    "\n",
    "logger = logging.getLogger(handle)\n",
    "# logging.getLogger().setLevel(logging.INFO)\n",
    "logger.setLevel(logging.DEBUG)\n",
    "\n",
    "# If you don't want to see log messages from libraries, you can pass a\n",
    "# specific logger object to the install() function. In this case only log\n",
    "# messages originating from that logger will show up on the terminal.\n",
    "coloredlogs.install(level='DEBUG', logger=logger)\n",
    "coloredlogs.install(fmt='%(asctime)s,%(msecs)03d %(hostname)s %(name)s[%(process)d] %(levelname)s %(message)s')"
   ]
  },
  {
   "cell_type": "code",
   "execution_count": null,
   "metadata": {},
   "outputs": [],
   "source": [
    "# set time\n",
    "# date\n",
    "today = date.today()\n",
    "string_date = today.strftime(\"%Y-%m-%d\")\n",
    "\n",
    "# time\n",
    "now = datetime.now()\n",
    "current_time = now.strftime(\"%H:%M:%S\")\n",
    "\n",
    "tim = time.localtime()\n",
    "current_time = time.strftime(\"%H:%M:%S\", tim)\n",
    "\n",
    "# timezones\n",
    "tz_LA = pytz.timezone('America/Los_Angeles')\n",
    "datetime_LA = datetime.now(tz_LA)\n",
    "msg=\"LA time:\"+  datetime_LA.strftime(\"%H:%M:%S\")\n",
    "logger.info(msg)\n",
    "\n",
    "tz_NY = pytz.timezone('America/New_York')\n",
    "datetime_NY = datetime.now(tz_NY)\n",
    "msg=\"NY time:\"+ datetime_NY.strftime(\"%H:%M:%S\")\n",
    "logger.info(msg)\n",
    "\n",
    "tz_London = pytz.timezone('Europe/London')\n",
    "datetime_London = datetime.now(tz_London)\n",
    "msg=\"London time:\"+ datetime_London.strftime(\"%H:%M:%S\")\n",
    "logger.info(msg)\n",
    "\n",
    "tz_Paris = pytz.timezone('Europe/Paris')\n",
    "datetime_Paris = datetime.now(tz_Paris)\n",
    "msg=\"Paris time:\"+ datetime_Paris.strftime(\"%H:%M:%S\")\n",
    "logger.info(msg)\n",
    "\n",
    "msg=\"************************ START *********************\"\n",
    "logger.info(msg)\n"
   ]
  },
  {
   "cell_type": "code",
   "execution_count": null,
   "metadata": {},
   "outputs": [],
   "source": [
    "# arguments\n",
    "#----------\n",
    "\n",
    "parser = argparse.ArgumentParser()\n",
    "parser.add_argument(\"--config\",action=\"store\", dest=\"configfile\",help=f\" run generate -config configfilename, with by ex configfilename = default.ini\")\n",
    "#results_args = parser.parse_args()\n",
    "\n",
    "results_args=\"\"\n"
   ]
  },
  {
   "cell_type": "markdown",
   "metadata": {},
   "source": [
    "# Configuration"
   ]
  },
  {
   "cell_type": "code",
   "execution_count": null,
   "metadata": {},
   "outputs": [],
   "source": [
    "# config file\n",
    "# --------------\n",
    "#configfile = \"config/default.ini\"\n",
    "configfile = \"config/confprog_run-auxtel-holo-20220630-configPSF2DFFM_empty.ini\"\n",
    "#config_filename = results_args.configfile\n",
    "config_filename = configfile\n",
    "msg = f\"Configuration file : {config_filename}\"\n",
    "logger.info(msg)\n"
   ]
  },
  {
   "cell_type": "code",
   "execution_count": null,
   "metadata": {},
   "outputs": [],
   "source": [
    "# 1) CONFIGURATION\n",
    "#------------------\n",
    "logger.info('1) Configuration')\n",
    "\n",
    "config = configparser.ConfigParser()\n",
    "\n",
    "if os.path.exists(config_filename):\n",
    "    config.read(config_filename)\n",
    "else:\n",
    "    msg = f\"config file {config_filename} does not exist !\"\n",
    "    logger.error(msg)"
   ]
  },
  {
   "cell_type": "code",
   "execution_count": null,
   "metadata": {},
   "outputs": [],
   "source": [
    "config_section = config.sections()"
   ]
  },
  {
   "cell_type": "code",
   "execution_count": null,
   "metadata": {},
   "outputs": [],
   "source": [
    "if len(config_section) == 0:\n",
    "    msg = f\"empty config file {config_filename} !\"\n",
    "    logger.error(msg)"
   ]
  },
  {
   "cell_type": "code",
   "execution_count": null,
   "metadata": {},
   "outputs": [],
   "source": [
    "if 'GENERAL' in config_section:\n",
    "\n",
    "    FLAG_DEBUG = bool(int(config['GENERAL']['FLAG_DEBUG']))\n",
    "    FLAG_VERBOSE = bool(int(config['GENERAL']['FLAG_VERBOSE']))\n",
    "    FLAG_PLOT   = bool(int(config['GENERAL']['FLAG_PLOT']))\n",
    "    FLAG_PRINT  = bool(int(config['GENERAL']['FLAG_PRINT']))\n",
    "    \n",
    "    SITE          = config['GENERAL']['SITE']\n",
    "    DATE          = config['GENERAL']['DATE']\n",
    "    \n",
    "    inputdir    = config['GENERAL']['inputdir']\n",
    "    inputfile   = config['GENERAL']['inputfile']\n",
    "    target      = config['GENERAL']['object']\n",
    "    sedfilename = config['GENERAL']['sedfilename']\n",
    "    \n",
    "    filename_auxtelthroughput = config['GENERAL']['filename_auxtelthroughput']\n",
    "    #filename_redfilter        = config['GENERAL']['filename_redfilter']\n",
    "    \n",
    "    spectractormode = config['GENERAL']['spectractormode']\n",
    "    \n",
    "    normalisationfactor = float(config['GENERAL']['normalisationfactor'])\n",
    "                                \n",
    "                                \n",
    "                                \n",
    "    WLMINSEL      = float(config['GENERAL']['WLMINSEL'])\n",
    "    WLMAXSEL      = float(config['GENERAL']['WLMAXSEL'])\n",
    "    NPOINTSVIEW       =    int(config['GENERAL']['NPOINTSVIEW']) \n",
    "    NPOINTSSAVE       =    int(config['GENERAL']['NPOINTSSAVE']) \n",
    "    outputfile_linearfit =  config['GENERAL']['outputfile_linearfit']\n",
    "    outputfile_gp        =  config['GENERAL']['outputfile_gp']\n",
    "    \n",
    "    BADEXPOS = config['GENERAL']['BADEXPOS']\n",
    "    \n",
    "    FLAG_CORREC_GREY_ATT = bool(int(config['GENERAL']['FLAG_CORREC_GREY_ATT']))\n",
    "    GREY_ATT_COEFS = config['GENERAL']['GREY_ATT_COEFS']\n",
    "    \n",
    "else:\n",
    "    msg = f\"Configuration file : empty section GENERAL in config file {config_filename} !\"   \n",
    "    logger.error(msg)"
   ]
  },
  {
   "cell_type": "code",
   "execution_count": null,
   "metadata": {},
   "outputs": [],
   "source": [
    "msg=f\" Object observed {target} at {SITE} ({DATE})\"\n",
    "logger.info(msg)"
   ]
  },
  {
   "cell_type": "code",
   "execution_count": null,
   "metadata": {},
   "outputs": [],
   "source": [
    "input_file_split=inputfile.split(\".\")    \n",
    "basefilename=input_file_split[0]\n",
    "extendfilename=input_file_split[1]"
   ]
  },
  {
   "cell_type": "code",
   "execution_count": null,
   "metadata": {},
   "outputs": [],
   "source": [
    "inputfile"
   ]
  },
  {
   "cell_type": "code",
   "execution_count": null,
   "metadata": {},
   "outputs": [],
   "source": [
    "list_of_badnums1 = [int(nn)  for nn in  BADEXPOS.split()]\n",
    "list_of_badnums1"
   ]
  },
  {
   "cell_type": "code",
   "execution_count": null,
   "metadata": {},
   "outputs": [],
   "source": [
    "import locale\n",
    "locale.setlocale(locale.LC_ALL, 'en_US.UTF-8')"
   ]
  },
  {
   "cell_type": "code",
   "execution_count": null,
   "metadata": {},
   "outputs": [],
   "source": [
    "if FLAG_CORREC_GREY_ATT:\n",
    "    list_of_greyattcoef = [locale.atof(val)  for val in GREY_ATT_COEFS.split()]\n",
    "else:\n",
    "    list_of_greyattcoef = []  "
   ]
  },
  {
   "cell_type": "code",
   "execution_count": null,
   "metadata": {},
   "outputs": [],
   "source": [
    "list_of_greyattcoef = np.array(list_of_greyattcoef)\n",
    "list_of_greyattcoef"
   ]
  },
  {
   "cell_type": "code",
   "execution_count": null,
   "metadata": {},
   "outputs": [],
   "source": [
    "len(list_of_greyattcoef)"
   ]
  },
  {
   "cell_type": "code",
   "execution_count": null,
   "metadata": {},
   "outputs": [],
   "source": [
    "WL= np.arange(WLMINSEL,WLMAXSEL)"
   ]
  },
  {
   "cell_type": "markdown",
   "metadata": {},
   "source": [
    "# input files"
   ]
  },
  {
   "cell_type": "markdown",
   "metadata": {},
   "source": [
    "## Get Calspec SED"
   ]
  },
  {
   "cell_type": "markdown",
   "metadata": {},
   "source": [
    "- Notice we use a relative normalisation factor"
   ]
  },
  {
   "cell_type": "code",
   "execution_count": null,
   "metadata": {},
   "outputs": [],
   "source": [
    "s0=S.FileSpectrum(os.path.join(path_sed_calspec,sedfilename))"
   ]
  },
  {
   "cell_type": "code",
   "execution_count": null,
   "metadata": {},
   "outputs": [],
   "source": [
    "sed_w=s0.wave/10\n",
    "sed_f=s0.flux*10*normalisationfactor\n",
    "sed_idx=np.where(np.logical_and(sed_w>=WLMINSEL,sed_w<=WLMAXSEL))[0]\n",
    "sed_w=sed_w[sed_idx]\n",
    "sed_f=sed_f[sed_idx]"
   ]
  },
  {
   "cell_type": "code",
   "execution_count": null,
   "metadata": {},
   "outputs": [],
   "source": [
    "targetname = s0.fheader['TARGETID']"
   ]
  },
  {
   "cell_type": "code",
   "execution_count": null,
   "metadata": {},
   "outputs": [],
   "source": [
    "sed_m=-2.5*np.log10(sed_f)"
   ]
  },
  {
   "cell_type": "code",
   "execution_count": null,
   "metadata": {},
   "outputs": [],
   "source": [
    "fig=plt.figure(figsize=(8,4))\n",
    "ax=fig.add_subplot(1,1,1)\n",
    "ax.plot(sed_w,sed_f,'b')\n",
    "ax.set_xlabel(\"$\\\\lambda (nm)$\")\n",
    "ax.set_ylabel(\"flux $(erg/cm^2/s/nm)$\")\n",
    "ax.set_title(targetname + \" SED\")\n",
    "ax2=ax.twinx()\n",
    "ax2.plot(sed_w,sed_m,'r-')\n",
    "ax2.set_ylabel(\"mag\")"
   ]
  },
  {
   "cell_type": "markdown",
   "metadata": {},
   "source": [
    "## spectrum data"
   ]
  },
  {
   "cell_type": "code",
   "execution_count": null,
   "metadata": {},
   "outputs": [],
   "source": [
    "fullfilename=os.path.join(inputdir,inputfile)"
   ]
  },
  {
   "cell_type": "code",
   "execution_count": null,
   "metadata": {},
   "outputs": [],
   "source": [
    "with open(fullfilename, 'rb') as f:\n",
    "    summary_content = pickle.load(f)"
   ]
  },
  {
   "cell_type": "code",
   "execution_count": null,
   "metadata": {},
   "outputs": [],
   "source": [
    "NBSPECTRA=len(summary_content)"
   ]
  },
  {
   "cell_type": "code",
   "execution_count": null,
   "metadata": {},
   "outputs": [],
   "source": [
    "msg=f\" Number of selected files is {NBSPECTRA}\"\n",
    "logger.info(msg)"
   ]
  },
  {
   "cell_type": "code",
   "execution_count": null,
   "metadata": {},
   "outputs": [],
   "source": [
    "# wavelength bin colors\n",
    "jet = plt.get_cmap('jet')\n",
    "cNorm = colors.Normalize(vmin=0, vmax=NBSPECTRA)\n",
    "scalarMap = cmx.ScalarMappable(norm=cNorm, cmap=jet)\n",
    "all_colors = scalarMap.to_rgba(np.arange(NBSPECTRA), alpha=1)"
   ]
  },
  {
   "cell_type": "markdown",
   "metadata": {},
   "source": [
    "### Read all files"
   ]
  },
  {
   "cell_type": "code",
   "execution_count": null,
   "metadata": {},
   "outputs": [],
   "source": [
    "infos, all_spectra = GetSpectra(summary_content)"
   ]
  },
  {
   "cell_type": "code",
   "execution_count": null,
   "metadata": {},
   "outputs": [],
   "source": [
    "infos.head()"
   ]
  },
  {
   "cell_type": "code",
   "execution_count": null,
   "metadata": {},
   "outputs": [],
   "source": [
    "all_spectra[0].head()"
   ]
  },
  {
   "cell_type": "code",
   "execution_count": null,
   "metadata": {},
   "outputs": [],
   "source": [
    "N=len(infos)\n",
    "NX=4\n",
    "NY=N/NX\n",
    "if NY != int(NY):\n",
    "    NY= int(NY)+1\n",
    "else:\n",
    "    NY=int(NY)"
   ]
  },
  {
   "cell_type": "code",
   "execution_count": null,
   "metadata": {},
   "outputs": [],
   "source": [
    "fig = plt.figure(figsize=(20,NY*3))\n",
    "\n",
    "ny=0\n",
    "nx=0\n",
    "\n",
    "for idx in range(N):\n",
    "    iy = idx//NX\n",
    "    ix = (idx-iy*NX)\n",
    "    \n",
    "    ax=fig.add_subplot(NY,NX,idx+1)\n",
    "    \n",
    "    \n",
    "    \n",
    "    the_df=all_spectra[idx]\n",
    "    \n",
    "    airmassvalue = infos.iloc[idx][\"airmass\"]\n",
    "    num = infos.iloc[idx][\"number\"]\n",
    "    label_airmass = f\" z = {airmassvalue:.2f} ({num})\"\n",
    "    the_target = infos.iloc[idx][\"object\"]\n",
    "    \n",
    "    #ax.plot(the_df.wavelength,the_df.flux,color=all_colors[ifile])\n",
    "    if num in list_of_badnums1:\n",
    "        thecolor=\"r\"\n",
    "    else:\n",
    "        thecolor=\"b\"\n",
    "        \n",
    "    # O2 line\n",
    "    ax.axvline(O2_1.wavelength,linestyle=\"--\",color=\"k\")\n",
    "    #ax.annotate(O2_1.label, xy=(O2_1.wavelength-5, FLUXLIMMAX/2), color='blue',fontsize=20,fontweight='bold')\n",
    "\n",
    "    ax.axvline(O2_2.wavelength,linestyle=\"--\",color=\"k\")\n",
    "    #ax.annotate(O2_2.label, xy=(O2_2.wavelength, ypos), color='blue',fontsize=20,fontweight='bold')\n",
    "    \n",
    "    ax.errorbar(the_df[\"all_lambdas\"],the_df['all_fluxes'],yerr=the_df[\"all_fluxes_err\"], fmt = '-', color=thecolor,capsize = 0.01, ecolor=\"k\", elinewidth = .01,label=the_target)\n",
    "    ax.set_title(label_airmass)\n",
    "    ax.legend()\n",
    "    \n",
    "plt.tight_layout()"
   ]
  },
  {
   "cell_type": "markdown",
   "metadata": {},
   "source": [
    "# Remove bad Spectra"
   ]
  },
  {
   "cell_type": "code",
   "execution_count": null,
   "metadata": {},
   "outputs": [],
   "source": [
    "fig = plt.figure(figsize=(8,4))\n",
    "ax=fig.add_subplot(1,1,1)\n",
    "ax.hist(infos.object);"
   ]
  },
  {
   "cell_type": "code",
   "execution_count": null,
   "metadata": {},
   "outputs": [],
   "source": [
    "fig = plt.figure(figsize=(20,4))\n",
    "ax=fig.add_subplot(1,3,1)\n",
    "ax.hist(infos.d2ccd,bins=20,range=(170,200));\n",
    "ax.set_xlabel(\"dccd\")\n",
    "ax=fig.add_subplot(1,3,2)\n",
    "ax.hist(infos.targetx_pix,bins=50,range=(0,500));\n",
    "ax.set_xlabel(\"targetx_pix\")\n",
    "ax=fig.add_subplot(1,3,3)\n",
    "ax.hist(infos.targety_pix,bins=50,range=(1500,2000));\n",
    "ax.set_xlabel(\"targety_pix\")\n",
    "plt.suptitle(\"Variables to apply selection\")"
   ]
  },
  {
   "cell_type": "markdown",
   "metadata": {},
   "source": [
    "## Define selection cut"
   ]
  },
  {
   "cell_type": "code",
   "execution_count": null,
   "metadata": {},
   "outputs": [],
   "source": [
    "#selection_cut = ((infos.d2ccd > 180) & (infos.d2ccd < 182)) & (infos.object == \"mu. Col\")\n",
    "#bad_cut = ~selection_cut\n",
    "#selection_cut = ((infos.d2ccd > 178) & (infos.d2ccd < 182)) & (infos.object == target)\n",
    "\n",
    "selection_cut = ((infos.d2ccd > 178.5) & (infos.d2ccd < 181.5)) & (infos.object == target)\n",
    "bad_cut = ~selection_cut"
   ]
  },
  {
   "cell_type": "code",
   "execution_count": null,
   "metadata": {},
   "outputs": [],
   "source": [
    "list_of_badnums2 = infos[bad_cut][\"number\"].values\n",
    "list_of_badnums2 "
   ]
  },
  {
   "cell_type": "markdown",
   "metadata": {},
   "source": [
    "## Union of badnums"
   ]
  },
  {
   "cell_type": "code",
   "execution_count": null,
   "metadata": {},
   "outputs": [],
   "source": [
    "list_of_badnums = np.union1d(list_of_badnums1,list_of_badnums2)\n",
    "list_of_badnums=np.unique(list_of_badnums)"
   ]
  },
  {
   "cell_type": "code",
   "execution_count": null,
   "metadata": {},
   "outputs": [],
   "source": [
    "infos, all_spectra = GetSpectraFiltered(summary_content,list_of_bad_spectra=list_of_badnums)"
   ]
  },
  {
   "cell_type": "code",
   "execution_count": null,
   "metadata": {},
   "outputs": [],
   "source": [
    "print(\"Number of spectra : \",len(all_spectra))"
   ]
  },
  {
   "cell_type": "code",
   "execution_count": null,
   "metadata": {},
   "outputs": [],
   "source": [
    "infos.reset_index(drop=True, inplace=True)"
   ]
  },
  {
   "cell_type": "code",
   "execution_count": null,
   "metadata": {},
   "outputs": [],
   "source": [
    "infos"
   ]
  },
  {
   "cell_type": "markdown",
   "metadata": {},
   "source": [
    "# Correct spectra for grey attenuation"
   ]
  },
  {
   "cell_type": "code",
   "execution_count": null,
   "metadata": {},
   "outputs": [],
   "source": [
    "NBSPECTRA = len(all_spectra)"
   ]
  },
  {
   "cell_type": "code",
   "execution_count": null,
   "metadata": {},
   "outputs": [],
   "source": [
    "assert NBSPECTRA == len(infos)"
   ]
  },
  {
   "cell_type": "code",
   "execution_count": null,
   "metadata": {},
   "outputs": [],
   "source": [
    "NBSPECTRA"
   ]
  },
  {
   "cell_type": "code",
   "execution_count": null,
   "metadata": {},
   "outputs": [],
   "source": [
    "len(list_of_greyattcoef)"
   ]
  },
  {
   "cell_type": "code",
   "execution_count": null,
   "metadata": {},
   "outputs": [],
   "source": [
    "def GetCorrectedGreyAttSpectra(in_infos,in_all_spectra,in_list_ofgreyattcoef):\n",
    "    \"\"\"\n",
    "    \"\"\"\n",
    "    out_infos = in_infos\n",
    "    out_infos[\"greyatt\"] = in_list_ofgreyattcoef\n",
    "    out_all_spectra = []\n",
    "    \n",
    "    idx=0\n",
    "    for specdf in in_all_spectra:\n",
    "        specdf['all_fluxes'] = specdf['all_fluxes'].multiply(1./in_list_ofgreyattcoef[idx])\n",
    "        specdf['all_fluxes_err'] = specdf['all_fluxes_err'].multiply(1./in_list_ofgreyattcoef[idx])\n",
    "        out_all_spectra.append(specdf)\n",
    "    return out_infos, out_all_spectra\n",
    "        "
   ]
  },
  {
   "cell_type": "code",
   "execution_count": null,
   "metadata": {},
   "outputs": [],
   "source": [
    "all_spectra[0].head()"
   ]
  },
  {
   "cell_type": "code",
   "execution_count": null,
   "metadata": {},
   "outputs": [],
   "source": [
    "if FLAG_CORREC_GREY_ATT:\n",
    "    assert NBSPECTRA == len(list_of_greyattcoef)\n",
    "    infos,all_spectra = GetCorrectedGreyAttSpectra(infos,all_spectra,list_of_greyattcoef)\n",
    "else:\n",
    "    list_of_greyattcoef = np.full(NBSPECTRA,1.)"
   ]
  },
  {
   "cell_type": "code",
   "execution_count": null,
   "metadata": {},
   "outputs": [],
   "source": [
    "all_spectra[0].head()"
   ]
  },
  {
   "cell_type": "code",
   "execution_count": null,
   "metadata": {},
   "outputs": [],
   "source": [
    "# wavelength bin colors\n",
    "jet = plt.get_cmap('jet')\n",
    "cNorm = colors.Normalize(vmin=0, vmax=NBSPECTRA)\n",
    "scalarMap = cmx.ScalarMappable(norm=cNorm, cmap=jet)\n",
    "all_colors = scalarMap.to_rgba(np.arange(NBSPECTRA), alpha=1)"
   ]
  },
  {
   "cell_type": "code",
   "execution_count": null,
   "metadata": {},
   "outputs": [],
   "source": [
    "msg=f\" Number of good spectra is {NBSPECTRA}\"\n",
    "logger.info(msg)"
   ]
  },
  {
   "cell_type": "code",
   "execution_count": null,
   "metadata": {},
   "outputs": [],
   "source": [
    "fig=plt.figure(figsize=(16,10))\n",
    "ax=fig.add_subplot(111)\n",
    "for ifile in np.arange(NBSPECTRA):\n",
    "    the_df=all_spectra[ifile]\n",
    "    airmassvalue = infos.iloc[ifile][\"airmass\"]\n",
    "    label_airmass = f\" z = {airmassvalue:.3f}\"\n",
    "    #ax.plot(the_df.wavelength,the_df.flux,color=all_colors[ifile])\n",
    "    ax.errorbar(the_df.all_lambdas,the_df.all_fluxes,yerr=the_df.all_fluxes_err, fmt = '-', color=all_colors[ifile],capsize = 0.1, ecolor=all_colors[ifile], elinewidth = .1,label=label_airmass)\n",
    "ax.grid()\n",
    "ax.set_xlabel(\"$\\lambda$ (nm)\")\n",
    "ax.set_ylabel(\"flux (erg/sec/m$^2$/nm)\")\n",
    "title=f\"Spectra of {target} observed at {SITE} ({DATE})\"\n",
    "ax.set_title(title)\n",
    "ax.plot(sed_w,sed_f,'k-')\n",
    "ax.set_xlim(300,1200)\n",
    "ax.set_ylim(1e-13,1e-9)\n",
    "ax.set_yscale(\"log\")\n",
    "ax.legend(loc=\"upper right\",ncol=4)"
   ]
  },
  {
   "cell_type": "markdown",
   "metadata": {},
   "source": [
    "# Convert Not filtered spectra into Mag table"
   ]
  },
  {
   "cell_type": "code",
   "execution_count": null,
   "metadata": {},
   "outputs": [],
   "source": [
    "WL,Mags1,EMags1,AirM,Tim = ConvertToImage(infos,all_spectra,WLMIN= WLMINSEL ,WLMAX= WLMAXSEL)"
   ]
  },
  {
   "cell_type": "code",
   "execution_count": null,
   "metadata": {},
   "outputs": [],
   "source": [
    "fig=plt.figure(figsize=(16,6))\n",
    "ax1=fig.add_subplot(211)\n",
    "ax1.plot(AirM,\"bo-\")\n",
    "ax1.set_ylabel(\"airmass\")\n",
    "ax1.set_xlabel(\"index\")\n",
    "title=f\"Airmass night scan for {target} observed at Auxtel (2022) (no qual cut)\"\n",
    "ax1.set_title(title)\n",
    "ax1.grid()\n",
    "\n",
    "\n",
    "ax2=fig.add_subplot(212)\n",
    "ax2.plot(Tim,AirM,\"bo-\")\n",
    "ax2.set_ylabel(\"airmass\")\n",
    "ax2.set_xlabel(\"time (H)\")\n",
    "ax2.grid()\n",
    "\n",
    "plt.tight_layout()\n"
   ]
  },
  {
   "cell_type": "code",
   "execution_count": null,
   "metadata": {},
   "outputs": [],
   "source": [
    "fcn_sed_mag0 = interpolate.interp1d(sed_w,sed_m,bounds_error=False,fill_value=(0,0))\n",
    "sed_mag0 =fcn_sed_mag0(WL)"
   ]
  },
  {
   "cell_type": "code",
   "execution_count": null,
   "metadata": {},
   "outputs": [],
   "source": [
    "MagsRef1=Mags1-sed_mag0\n",
    "title=\"instrumental magnitude - sed magnitude vs time\""
   ]
  },
  {
   "cell_type": "code",
   "execution_count": null,
   "metadata": {},
   "outputs": [],
   "source": [
    "EMags1"
   ]
  },
  {
   "cell_type": "code",
   "execution_count": null,
   "metadata": {},
   "outputs": [],
   "source": [
    "GetBouguerLinesTim(NPOINTSVIEW,WL,Tim,MagsRef1,EMags1,title=title,FLAG_PLOT=True,YMIN=1.5,YMAX=5,WLMIN=WLMINSEL,WLMAX=WLMAXSEL)"
   ]
  },
  {
   "cell_type": "code",
   "execution_count": null,
   "metadata": {},
   "outputs": [],
   "source": [
    "fig=plt.figure(figsize=(10,10))\n",
    "\n",
    "gs = fig.add_gridspec(2, 1,height_ratios=[4,1])\n",
    "\n",
    "ax1=fig.add_subplot(gs[0, :])\n",
    "\n",
    "extent=(WL.min(),WL.max(),0,NBSPECTRA)\n",
    "norm = mpl.colors.Normalize(vmin=1, vmax=5)\n",
    "im=ax1.imshow(MagsRef1,origin=\"lower\",norm=norm,extent=extent,cmap=\"jet\")\n",
    "fig.colorbar(cm.ScalarMappable(norm=norm, cmap=\"jet\"), ax=ax1, orientation=\"horizontal\" )\n",
    "ax1.grid()\n",
    "ax1.set_xlabel(\"$\\lambda$ (nm)\")\n",
    "ax1.set_ylabel(\"Observation number\")\n",
    "title=f\"Magnitudes of {target} observed at Auxtel\"\n",
    "ax1.set_title(title)\n",
    "\n",
    "\n",
    "ax2=fig.add_subplot(gs[1, :],sharex=ax1)\n",
    "\n",
    "Y=np.average(MagsRef1,axis=0)\n",
    "ax2.plot(WL,Y,\"b-\")\n",
    "#ax2.set_ylim(2,4)\n",
    "ax2.set_xlabel(\"$\\lambda$ (nm)\")\n",
    "ax2.set_ylabel(\"Average relative magnitude\")\n",
    "ax2.grid()\n",
    "plt.tight_layout()"
   ]
  },
  {
   "cell_type": "markdown",
   "metadata": {},
   "source": [
    "# Filtered spectra"
   ]
  },
  {
   "cell_type": "code",
   "execution_count": null,
   "metadata": {},
   "outputs": [],
   "source": [
    "list_of_badnums"
   ]
  },
  {
   "cell_type": "code",
   "execution_count": null,
   "metadata": {},
   "outputs": [],
   "source": [
    "infos, all_spectra = GetSpectraFiltered(summary_content,list_of_bad_spectra=list_of_badnums)"
   ]
  },
  {
   "cell_type": "code",
   "execution_count": null,
   "metadata": {},
   "outputs": [],
   "source": [
    "infos"
   ]
  },
  {
   "cell_type": "code",
   "execution_count": null,
   "metadata": {},
   "outputs": [],
   "source": [
    "all_spectra"
   ]
  },
  {
   "cell_type": "markdown",
   "metadata": {},
   "source": [
    "# Convert Not filtered spectra into Mag table"
   ]
  },
  {
   "cell_type": "code",
   "execution_count": null,
   "metadata": {},
   "outputs": [],
   "source": [
    "NBSPECTRA=len(all_spectra)"
   ]
  },
  {
   "cell_type": "code",
   "execution_count": null,
   "metadata": {},
   "outputs": [],
   "source": [
    "assert NBSPECTRA == len(infos)"
   ]
  },
  {
   "cell_type": "code",
   "execution_count": null,
   "metadata": {},
   "outputs": [],
   "source": [
    "# wavelength bin colors\n",
    "jet = plt.get_cmap('jet')\n",
    "cNorm = colors.Normalize(vmin=0, vmax=NBSPECTRA)\n",
    "scalarMap = cmx.ScalarMappable(norm=cNorm, cmap=jet)\n",
    "all_colors = scalarMap.to_rgba(np.arange(NBSPECTRA), alpha=1)"
   ]
  },
  {
   "cell_type": "code",
   "execution_count": null,
   "metadata": {},
   "outputs": [],
   "source": [
    "msg=f\" Number of good spectra is {NBSPECTRA}\"\n",
    "logger.info(msg)"
   ]
  },
  {
   "cell_type": "code",
   "execution_count": null,
   "metadata": {},
   "outputs": [],
   "source": []
  },
  {
   "cell_type": "code",
   "execution_count": null,
   "metadata": {},
   "outputs": [],
   "source": [
    "fig=plt.figure(figsize=(16,10))\n",
    "ax=fig.add_subplot(111)\n",
    "for ifile in np.arange(NBSPECTRA):\n",
    "    the_df=all_spectra[ifile]\n",
    "    \n",
    "    airmassvalue = infos.iloc[ifile][\"airmass\"]\n",
    "    label_airmass = f\" z = {airmassvalue:.2f}\"\n",
    "\n",
    "    #ax.plot(the_df.wavelength,the_df.flux,color=all_colors[ifile])\n",
    "    ax.errorbar(the_df[\"all_lambdas\"],the_df['all_fluxes'],yerr=the_df[\"all_fluxes_err\"], fmt = '.', color=all_colors[ifile],capsize = 0.01, ecolor=all_colors[ifile], elinewidth = .01,label=label_airmass)\n",
    "ax.grid()\n",
    "ax.set_xlabel(\"$\\lambda$ (nm)\")\n",
    "ax.set_ylabel(\"flux (erg/sec/m$^2$/nm)\")\n",
    "title=f\"Selected Spectra of {target} observed at {SITE} ({DATE})\"\n",
    "ax.set_title(title,fontsize=20,fontweight='bold')\n",
    "ax.plot(sed_w,sed_f,'k-')\n",
    "ax.set_xlim(350,1000)\n",
    "ax.set_ylim(1e-13,1e-9)\n",
    "ax.set_yscale(\"log\")\n",
    "ax.legend(loc=\"lower left\",ncol=4)"
   ]
  },
  {
   "cell_type": "code",
   "execution_count": null,
   "metadata": {},
   "outputs": [],
   "source": [
    "df = pd.read_csv(\"data/absorption_pattern.csv\")\n",
    "wlpt,o2,o3,h2o,no2 = atmpatt_Dataf_to_np(df)"
   ]
  },
  {
   "cell_type": "code",
   "execution_count": null,
   "metadata": {},
   "outputs": [],
   "source": []
  },
  {
   "cell_type": "code",
   "execution_count": null,
   "metadata": {},
   "outputs": [],
   "source": [
    "figsize=(16,16)\n",
    "\n",
    "NOBS = o2.shape[1]\n",
    "# wavelength bin colors\n",
    "jet = plt.get_cmap('jet')\n",
    "cNorm = colors.Normalize(vmin=0, vmax=NOBS)\n",
    "scalarMap = cmx.ScalarMappable(norm=cNorm, cmap=jet)\n",
    "all_colors = scalarMap.to_rgba(np.arange(NOBS), alpha=1)\n",
    "\n",
    "props = dict(boxstyle='round', facecolor='wheat', alpha=0.5)\n",
    "\n",
    "fig=plt.figure(figsize=figsize)\n",
    "title =f\"Spectra (hologram) {SITE} ({DATE})\"\n",
    "\n",
    "\n",
    "gs = gridspec.GridSpec(5, 1,height_ratios=[0.5,0.5,0.5,0.5,3] ,figure=fig)\n",
    "\n",
    "# NO2    \n",
    "ax=fig.add_subplot(gs[0,0])\n",
    "for index in np.arange(NOBS):   \n",
    "    ax.plot(wlpt,no2[:,index],'-',color=all_colors[index])\n",
    "ax.set_ylim(0.8,1)\n",
    "ax.set_xlim(WLMINSEL,WLMAXSEL)\n",
    "ax.grid()\n",
    "textstr = \"NO2 abs lines\"\n",
    "# place a text box in upper left in axes coords\n",
    "ax.text(0.01, 0.90, textstr, transform=ax.transAxes, fontsize=14,\n",
    "        verticalalignment='top', bbox=props)\n",
    "ax.set_title(title,fontsize=20,fontweight='bold')\n",
    "main_ax = ax\n",
    "\n",
    "\n",
    "\n",
    "# O2    \n",
    "ax=fig.add_subplot(gs[1,0], sharex=main_ax)\n",
    "for index in np.arange(NOBS):   \n",
    "    ax.plot(wlpt,o2[:,index],'-',color=all_colors[index])\n",
    "ax.set_ylim(0.8,1)\n",
    "ax.set_xlim(WLMINSEL,WLMAXSEL)\n",
    "ax.grid()\n",
    "textstr = \"O2 abs lines\"\n",
    "# place a text box in upper left in axes coords\n",
    "ax.text(0.01, 0.90, textstr, transform=ax.transAxes, fontsize=14,\n",
    "        verticalalignment='top', bbox=props)\n",
    "#ax.set_title(title)\n",
    "\n",
    "\n",
    "# Ozone\n",
    "ax=fig.add_subplot(gs[2,0], sharex=main_ax)\n",
    "for index in np.arange(NOBS):   \n",
    "    ax.plot(wlpt,o3[:,index],'-',color=all_colors[index])\n",
    "ax.set_ylim(0.8,1)\n",
    "ax.set_xlim(WLMINSEL,WLMAXSEL)\n",
    "ax.grid()\n",
    "textstr = \"O3 abs lines\"\n",
    "# place a text box in upper left in axes coords\n",
    "ax.text(0.01, 0.90, textstr, transform=ax.transAxes, fontsize=14,\n",
    "        verticalalignment='top', bbox=props)\n",
    "\n",
    "\n",
    "# H2O\n",
    "ax=fig.add_subplot(gs[3,0], sharex=main_ax)\n",
    "\n",
    "for index in np.arange(NOBS):   \n",
    "    ax.plot(wlpt,h2o[:,index],'-',color=all_colors[index])\n",
    "ax.set_ylim(0.8,1)\n",
    "ax.grid()\n",
    "textstr = \"H2O abs lines\"\n",
    "# place a text box in upper left in axes coords\n",
    "ax.text(0.01, 0.90, textstr, transform=ax.transAxes, fontsize=14,\n",
    "        verticalalignment='top', bbox=props)\n",
    "\n",
    "\n",
    "# spectrum\n",
    "ax=fig.add_subplot(gs[4,0], sharex=main_ax)\n",
    "\n",
    "# wavelength bin colors\n",
    "jet = plt.get_cmap('jet')\n",
    "cNorm = colors.Normalize(vmin=0, vmax=NBSPECTRA)\n",
    "scalarMap = cmx.ScalarMappable(norm=cNorm, cmap=jet)\n",
    "all_colors = scalarMap.to_rgba(np.arange(NBSPECTRA), alpha=1)\n",
    "for ifile in np.arange(NBSPECTRA):\n",
    "    the_df=all_spectra[ifile]\n",
    "    \n",
    "    airmassvalue = infos.iloc[ifile][\"airmass\"]\n",
    "    label_airmass = f\" z = {airmassvalue:.2f}\"\n",
    "\n",
    "    #ax.plot(the_df.wavelength,the_df.flux,color=all_colors[ifile])\n",
    "    ax.errorbar(the_df[\"all_lambdas\"],the_df['all_fluxes'],yerr=the_df[\"all_fluxes_err\"], fmt = '.', color=all_colors[ifile],capsize = 0.01, ecolor=all_colors[ifile], elinewidth = .01,label=label_airmass)\n",
    "ax.grid()\n",
    "ax.set_xlabel(\"$\\lambda$ (nm)\")\n",
    "ax.set_ylabel(\"flux (erg/sec/m$^2$/nm)\")\n",
    "title=f\"Selected Spectra of {target} observed at {SITE} ({DATE})\"\n",
    "ax.set_title(title,fontsize=20,fontweight='bold')\n",
    "ax.plot(sed_w,sed_f,'k-')\n",
    "#ax.set_xlim(350,1000)\n",
    "ax.set_ylim(1e-13,1e-9)\n",
    "ax.set_yscale(\"log\")\n",
    "ax.legend(loc=\"lower left\",ncol=5)\n",
    "\n",
    "plt.tight_layout()\n"
   ]
  },
  {
   "cell_type": "code",
   "execution_count": null,
   "metadata": {},
   "outputs": [],
   "source": [
    "fig=plt.figure(figsize=(16,10))\n",
    "ax=fig.add_subplot(111)\n",
    "for ifile in np.arange(NBSPECTRA):\n",
    "    the_df=the_df=all_spectra[ifile]\n",
    "\n",
    "    airmassvalue = infos.iloc[ifile][\"airmass\"]\n",
    "    label_airmass = f\" z = {airmassvalue:.2f}\"\n",
    "    \n",
    "    #ax.plot(the_df.wavelength,the_df.mag,color=all_colors[ifile])\n",
    "    mag = -2.5*np.log10(the_df[\"all_fluxes\"])\n",
    "    errmag = 2.5/np.log(10)*the_df[\"all_fluxes_err\"]/(the_df[\"all_fluxes\"])\n",
    "    ax.errorbar(the_df[\"all_lambdas\"],mag,yerr=errmag, fmt = '.', color=all_colors[ifile],capsize = 0.01, ecolor=all_colors[ifile], elinewidth = .01,label=label_airmass)\n",
    "ax.grid()\n",
    "ax.set_xlabel(\"$\\lambda$ (nm)\")\n",
    "ax.set_ylabel(\"magnitude \")\n",
    "title=f\"Spectra of {target} observed at {SITE} ({DATE})\"\n",
    "ax.set_title(title,fontsize=20,fontweight='bold')\n",
    "ax.plot(sed_w,sed_m,'k-')\n",
    "ax.set_xlim(350,1000)\n",
    "ax.set_ylim(20,30)\n",
    "ax.invert_yaxis()\n",
    "ax.legend(loc=\"upper right\",ncol=4)"
   ]
  },
  {
   "cell_type": "markdown",
   "metadata": {},
   "source": [
    "## Convert to image"
   ]
  },
  {
   "cell_type": "code",
   "execution_count": null,
   "metadata": {},
   "outputs": [],
   "source": [
    "WL,Mags2,EMags2 ,AirM,Tim = ConvertToImage(infos,all_spectra, WLMIN= WLMINSEL ,WLMAX= WLMAXSEL )"
   ]
  },
  {
   "cell_type": "code",
   "execution_count": null,
   "metadata": {},
   "outputs": [],
   "source": [
    "fig=plt.figure(figsize=(16,6))\n",
    "ax1=fig.add_subplot(211)\n",
    "ax1.plot(AirM,\"bo-\")\n",
    "ax1.set_ylabel(\"airmass\")\n",
    "ax1.set_xlabel(\"index\")\n",
    "title=f\"Airmass night scan for {target} observed at {SITE} ({DATE})\"\n",
    "ax1.set_title(title)\n",
    "ax1.grid()\n",
    "\n",
    "\n",
    "ax2=fig.add_subplot(212)\n",
    "ax2.plot(Tim,AirM,\"bo-\")\n",
    "ax2.set_ylabel(\"time (H)\")\n",
    "ax2.set_xlabel(\"index\")\n",
    "ax2.grid()\n",
    "\n",
    "plt.tight_layout()"
   ]
  },
  {
   "cell_type": "code",
   "execution_count": null,
   "metadata": {},
   "outputs": [],
   "source": [
    "MagsRef2=Mags2-sed_mag0\n",
    "title=f\"Magnitude - sed magnitude vs time, object {target} at {SITE} ({DATE})\""
   ]
  },
  {
   "cell_type": "code",
   "execution_count": null,
   "metadata": {},
   "outputs": [],
   "source": [
    "MagsRef2.shape"
   ]
  },
  {
   "cell_type": "code",
   "execution_count": null,
   "metadata": {},
   "outputs": [],
   "source": [
    "EMags2.shape"
   ]
  },
  {
   "cell_type": "code",
   "execution_count": null,
   "metadata": {},
   "outputs": [],
   "source": [
    "GetBouguerLinesTim(NPOINTSVIEW,WL,Tim,MagsRef2,EMags2,title=title,FLAG_PLOT=True,YMIN=1.5,YMAX=5,WLMIN=WLMINSEL,WLMAX=WLMAXSEL)"
   ]
  },
  {
   "cell_type": "markdown",
   "metadata": {},
   "source": [
    "# Quality selection of observations"
   ]
  },
  {
   "cell_type": "code",
   "execution_count": null,
   "metadata": {},
   "outputs": [],
   "source": [
    "fig=plt.figure(figsize=(10,10))\n",
    "\n",
    "gs = fig.add_gridspec(2, 1,height_ratios=[4,1])\n",
    "\n",
    "ax1=fig.add_subplot(gs[0, :])\n",
    "\n",
    "extent=(WL.min(),WL.max(),0,NBSPECTRA)\n",
    "norm = mpl.colors.Normalize(vmin=1, vmax=5)\n",
    "im=ax1.imshow(MagsRef2,origin=\"lower\",norm=norm,extent=extent,cmap=\"jet\")\n",
    "fig.colorbar(cm.ScalarMappable(norm=norm, cmap=\"jet\"), ax=ax1, orientation=\"horizontal\" )\n",
    "ax1.grid()\n",
    "ax1.set_xlabel(\"$\\lambda$ (nm)\")\n",
    "ax1.set_ylabel(\"Observation number\")\n",
    "title=f\"Magnitudes of {target} observed at {SITE} ({DATE})\"\n",
    "ax1.set_title(title)\n",
    "\n",
    "\n",
    "ax2=fig.add_subplot(gs[1, :],sharex=ax1)\n",
    "\n",
    "Y=np.average(MagsRef2,axis=0)\n",
    "ax2.plot(WL,Y,\"b-\")\n",
    "ax2.set_ylim(1.5,4.5)\n",
    "ax2.set_xlabel(\"$\\lambda$ (nm)\")\n",
    "ax2.set_ylabel(\"Average relative magnitude\")\n",
    "ax2.grid()\n",
    "plt.tight_layout()"
   ]
  },
  {
   "cell_type": "markdown",
   "metadata": {},
   "source": [
    "# Bouguer line"
   ]
  },
  {
   "cell_type": "code",
   "execution_count": null,
   "metadata": {},
   "outputs": [],
   "source": [
    "title=f\"magnitude - sed magnitude vs time, object {target} at {SITE} ({DATE})\""
   ]
  },
  {
   "cell_type": "code",
   "execution_count": null,
   "metadata": {},
   "outputs": [],
   "source": [
    "GetBouguerLinesTim(NPOINTSVIEW,WL,Tim,MagsRef2,EMags2,title=title,FLAG_PLOT=True,YMIN=1.5,YMAX=5,WLMIN=WLMINSEL,WLMAX=WLMAXSEL)"
   ]
  },
  {
   "cell_type": "code",
   "execution_count": null,
   "metadata": {},
   "outputs": [],
   "source": [
    "def GetBouguerLinesAtm(Npoints,wl,airmass,magref ,emag,title=\"transmission vs airmass\",FLAG_PLOT=True,YMIN=0,YMAX=0,WLMIN=350,WLMAX=1100):\n",
    "    \"\"\"\n",
    "    Compute bouguer lines in large bins\n",
    "    \n",
    "    input parameters:\n",
    "        -  Npoints : Number of bouguer lines required in the bouguer lines\n",
    "        -  wl array of wavelength at input\n",
    "        - airmass array at input\n",
    "        - magref : magnitude aray\n",
    "        - emag :  magnitude error array\n",
    "        \n",
    "        \n",
    "        \n",
    "    return:\n",
    "        - wl_sel,Mags,EMags,np.array(fit_flag),np.array(fit_results)\n",
    "    \"\"\"\n",
    "    \n",
    "    # determine the wavelength output range\n",
    "    if WLMIN == 0 and WLMAX == 0:\n",
    "        WLMIN=wl.min()\n",
    "        WLMAX=wl.max()\n",
    "    \n",
    "    # define the range of bin centers\n",
    "    wl_sel=np.linspace(WLMIN,WLMAX,Npoints,endpoint=True)\n",
    "    wl_label = [ \"{:3.0f} nm\".format(w) for w in wl_sel]\n",
    "    \n",
    "    # compute the bin width\n",
    "    wl_binwidth1=(WLMAX-WLMIN)/(Npoints-1)\n",
    "    wl_binwidth2=np.median(np.diff(wl_sel))\n",
    "    wl_binwidth = wl_binwidth2\n",
    "    \n",
    "    # numbers of Bouguer lines\n",
    "    NIWSEL=len(wl_sel)\n",
    "    \n",
    "    Mags=np.zeros(NIWSEL)\n",
    "    EMags=np.zeros(NIWSEL)\n",
    "    \n",
    "    N=NIWSEL\n",
    "    jet = plt.get_cmap('jet')\n",
    "    cNorm = colors.Normalize(vmin=0, vmax=N)\n",
    "    scalarMap = cmx.ScalarMappable(norm=cNorm, cmap=jet)\n",
    "    all_colors = scalarMap.to_rgba(np.arange(N), alpha=1)\n",
    "    \n",
    "    \n",
    "    # the absisse is the airmass \n",
    "    the_x=airmass\n",
    "    \n",
    "    x_fit=np.linspace(0,the_x.max(),100)\n",
    "    \n",
    "    if FLAG_PLOT:\n",
    "        fig=plt.figure(figsize=(16,10))\n",
    "        ax=fig.add_subplot(111)\n",
    "\n",
    "        \n",
    "    # loop on wavelength    \n",
    "    fit_results = []\n",
    "    fit_flag = []\n",
    "    \n",
    "    \n",
    "    # loop on bouguer lines\n",
    "    for idx in np.arange(N):\n",
    "        \n",
    "        # central wavelength\n",
    "        wl0=wl_sel[idx]\n",
    "        \n",
    "        # indexes in the input arrays\n",
    "        idx_in_wlrange = np.where(np.logical_and(wl >= wl0-wl_binwidth/2,wl < wl0+wl_binwidth/2))[0]\n",
    "        \n",
    "        all_the_y_inwlbin=magref[:,idx_in_wlrange]\n",
    "        all_the_ey_inwlbin=emag[:,idx_in_wlrange]\n",
    "        \n",
    "        # number in wl bins\n",
    "        n_in_bin = len(all_the_y_inwlbin)\n",
    "        \n",
    "        # compute the average\n",
    "        the_y = np.median(all_the_y_inwlbin,axis=1)\n",
    "        # compute error on the average\n",
    "        the_ey = np.sqrt(np.mean(all_the_ey_inwlbin**2,axis=1))/np.sqrt(n_in_bin)\n",
    "        \n",
    "      \n",
    "        # fit\n",
    "        popt,cov = np.polyfit(the_x, the_y, 1,cov=True)\n",
    "        fit_results.append(popt)\n",
    "        \n",
    "       \n",
    "        \n",
    "        perr=np.sqrt(np.diag(cov))\n",
    "        nstd=1\n",
    "        sigmaf=np.sqrt(x_fit**2*cov[0,0]+cov[1,1]+x_fit*(cov[0,1]+cov[1,0]))\n",
    "        \n",
    "        Mags[idx]=popt[-1]\n",
    "        EMags[idx]=sigmaf[0]\n",
    "        \n",
    "        p = np.poly1d(popt)\n",
    "        \n",
    "        y_fit=p(x_fit)\n",
    "        y_fit_up=y_fit+nstd*sigmaf\n",
    "        y_fit_dw=y_fit-nstd*sigmaf\n",
    "        \n",
    "        if FLAG_PLOT:\n",
    "       \n",
    "            if popt[0] > 0 :\n",
    "                # plot points\n",
    "                ax.plot(the_x,the_y,'+',color=all_colors[idx],label=wl_label[idx])\n",
    "                ax.errorbar(the_x,the_y,yerr=the_ey, fmt = '+', color=all_colors[idx],capsize = 1, ecolor=all_colors[idx], elinewidth =1)\n",
    "    \n",
    "                # plot fitted lines\n",
    "                ax.plot(x_fit,y_fit,'-',color=all_colors[idx])\n",
    "                ax.fill_between(x_fit,y_fit_up, y_fit_dw, alpha=.25, color=\"gray\")\n",
    "            \n",
    "            else:\n",
    "                msg = f\"Remove wavelength {wl0} nm, bad fit slope = {popt[0]}, intercept = {popt[-1]}\"\n",
    "                print(msg)\n",
    "            \n",
    "                \n",
    "        if popt[0] > 0 : \n",
    "            fit_flag.append(True) \n",
    "        else:\n",
    "            fit_flag.append(False) \n",
    "                       \n",
    "    \n",
    "    \n",
    "    if FLAG_PLOT:\n",
    "        ax.legend(loc=\"upper right\",bbox_to_anchor=(1.1,1))\n",
    "        ax.set_xlim(0,the_x.max())\n",
    "        ax.grid()\n",
    "        ax.set_xlabel(\"airmass\")\n",
    "        ax.set_ylabel(\"transmission (mag)\")\n",
    "        ax.set_title(title,fontsize=20,fontweight='bold')\n",
    "        if not (YMIN==0 and YMAX==0) and (YMAX>YMIN):\n",
    "            ax.set_ylim(YMIN,YMAX)\n",
    "        plt.show()\n",
    "     \n",
    "    return wl_sel,Mags,EMags,np.array(fit_flag),np.array(fit_results)\n",
    "     "
   ]
  },
  {
   "cell_type": "code",
   "execution_count": null,
   "metadata": {},
   "outputs": [],
   "source": [
    "title=f\"magnitude - sed magnitude vs airmass, object {target} at {SITE} ({DATE})\""
   ]
  },
  {
   "cell_type": "code",
   "execution_count": null,
   "metadata": {},
   "outputs": [],
   "source": [
    "w,m,e,flag,res=GetBouguerLinesAtm(NPOINTSVIEW,WL,AirM,MagsRef2,EMags2,title=title,FLAG_PLOT=True,YMIN=1.5,YMAX=4,WLMIN=WLMINSEL,WLMAX=WLMAXSEL)"
   ]
  },
  {
   "cell_type": "code",
   "execution_count": null,
   "metadata": {},
   "outputs": [],
   "source": [
    "w,m,e,flag,res=GetBouguerLinesAtmRelativetoZero(NPOINTSVIEW,WL,AirM,MagsRef2,EMags2,title=title,FLAG_PLOT=True,YMIN=-0.1,YMAX=1.5,WLMIN=WLMINSEL,WLMAX=WLMAXSEL)"
   ]
  },
  {
   "cell_type": "markdown",
   "metadata": {},
   "source": [
    "# Throughput"
   ]
  },
  {
   "cell_type": "code",
   "execution_count": null,
   "metadata": {},
   "outputs": [],
   "source": [
    "w_s1,m_s1,em_s1,flag,res=GetBouguerLinesAtm(NPOINTSSAVE,WL,AirM,MagsRef2,EMags2,FLAG_PLOT=False,WLMIN=WLMINSEL,WLMAX=WLMAXSEL)"
   ]
  },
  {
   "cell_type": "code",
   "execution_count": null,
   "metadata": {},
   "outputs": [],
   "source": [
    "transm_s1=np.power(10,-m_s1/2.5)\n",
    "etransm_s1=em_s1*transm_s1"
   ]
  },
  {
   "cell_type": "code",
   "execution_count": null,
   "metadata": {},
   "outputs": [],
   "source": [
    "transm_s1.shape"
   ]
  },
  {
   "cell_type": "code",
   "execution_count": null,
   "metadata": {},
   "outputs": [],
   "source": [
    "transm_s1[flag].shape"
   ]
  },
  {
   "cell_type": "code",
   "execution_count": null,
   "metadata": {},
   "outputs": [],
   "source": [
    "factor=1.0 # suppose Spectractor has divided the flux by Ronchi efficiency\n",
    "transm_s1=transm_s1*factor\n",
    "etransm_s1=etransm_s1*factor"
   ]
  },
  {
   "cell_type": "code",
   "execution_count": null,
   "metadata": {},
   "outputs": [],
   "source": [
    "fig=plt.figure(figsize=(16,8))\n",
    "ax=fig.add_subplot(111)\n",
    "ax.errorbar(w_s1,transm_s1,yerr=etransm_s1,  fmt = 'o', color=\"grey\",capsize = 3, ecolor = 'grey', elinewidth = 1, capthick = 1, label=\"data : bad points\")\n",
    "ax.errorbar(w_s1[flag],transm_s1[flag],yerr=etransm_s1[flag],  fmt = 'o', color=\"r\",capsize = 3, ecolor = 'k', elinewidth = 1, capthick = 1, label=\"data : good points\")\n",
    "#ax.errorbar(w_s,transm_s,yerr=em_s,  fmt = 'o', color=\"r\",ecolor = 'k', elinewidth = 1)\n",
    "#ax.plot(w,transm,\"or\")\n",
    "ax.set_xlabel(\"$\\lambda$ (nm)\")\n",
    "ax.set_ylabel(\"throughput\")\n",
    "title=f\"Linear fit : Relative Optical Throughput (Bouguer lines) at {SITE} ({DATE})\"\n",
    "ax.set_title(title)\n",
    "ax.grid()\n",
    "ax.legend()"
   ]
  },
  {
   "cell_type": "markdown",
   "metadata": {},
   "source": [
    "# TOA Spectrum"
   ]
  },
  {
   "cell_type": "code",
   "execution_count": null,
   "metadata": {},
   "outputs": [],
   "source": [
    "title=f\"instrumental magnitude vs airmass at {SITE} ({DATE})\""
   ]
  },
  {
   "cell_type": "code",
   "execution_count": null,
   "metadata": {},
   "outputs": [],
   "source": [
    "w,m,e,flag,res=GetBouguerLinesAtm(NPOINTSVIEW,WL,AirM,Mags2,EMags2,title=title,FLAG_PLOT=True,YMIN=24,YMAX=31,WLMIN=WLMINSEL,WLMAX=WLMAXSEL)"
   ]
  },
  {
   "cell_type": "code",
   "execution_count": null,
   "metadata": {},
   "outputs": [],
   "source": [
    "w_s2,m_s2,em_s2,flag,res=GetBouguerLinesAtm(NPOINTSSAVE,WL,AirM,Mags2,EMags2,FLAG_PLOT=False,WLMIN=WLMINSEL,WLMAX=WLMAXSEL)"
   ]
  },
  {
   "cell_type": "code",
   "execution_count": null,
   "metadata": {},
   "outputs": [],
   "source": [
    "transm_s2=np.power(10,-m_s2/2.5)\n",
    "etransm_s2=em_s2*transm_s2"
   ]
  },
  {
   "cell_type": "code",
   "execution_count": null,
   "metadata": {},
   "outputs": [],
   "source": [
    "factor=1.0 # suppose Spectractor has divided the flux by Ronchi efficiency\n",
    "transm_s2=transm_s2*factor\n",
    "etransm_s2=etransm_s2*factor"
   ]
  },
  {
   "cell_type": "code",
   "execution_count": null,
   "metadata": {},
   "outputs": [],
   "source": [
    "fig=plt.figure(figsize=(16,10))\n",
    "ax=fig.add_subplot(111)\n",
    "ax.errorbar(w_s2,transm_s2,yerr=etransm_s2,  fmt = '-', color=\"grey\",capsize = 3, ecolor = 'grey', elinewidth = 1, capthick = 1,label=\"data : bad points\")\n",
    "ax.errorbar(w_s2[flag],transm_s2[flag],yerr=etransm_s2[flag],  fmt = '-', color=\"r\",capsize = 3, ecolor = 'k', elinewidth = 1, capthick = 1,label=\"data : good points\")\n",
    "#ax.errorbar(w_s,transm_s,yerr=em_s,  fmt = 'o', color=\"r\",ecolor = 'k', elinewidth = 1)\n",
    "#ax.plot(w,transm,\"or\")\n",
    "plt.plot(sed_w,sed_f,\"b-\",label=\"SED\")\n",
    "ax.set_xlabel(\"$\\lambda$ (nm)\")\n",
    "ax.set_ylabel(\"spectrum\")\n",
    "title=f\"Linear fit : Spectrum at TOA (with Bouguer lines) at {SITE} ({DATE})\"\n",
    "ax.set_title(title,fontsize=20,fontweight='bold')\n",
    "ax.legend()\n",
    "ax.grid()\n",
    "ax.set_yscale('log')"
   ]
  },
  {
   "cell_type": "markdown",
   "metadata": {},
   "source": [
    "# Save in file"
   ]
  },
  {
   "cell_type": "code",
   "execution_count": null,
   "metadata": {},
   "outputs": [],
   "source": [
    "dfout = pd.DataFrame()"
   ]
  },
  {
   "cell_type": "code",
   "execution_count": null,
   "metadata": {},
   "outputs": [],
   "source": [
    "dfout[\"wavelength\"]=w_s1\n",
    "dfout[\"throu\"]=transm_s1\n",
    "dfout[\"errthrou\"]=etransm_s1\n",
    "dfout[\"sedtoa\"]=transm_s2\n",
    "dfout[\"errsedtoa\"]=etransm_s2"
   ]
  },
  {
   "cell_type": "code",
   "execution_count": null,
   "metadata": {},
   "outputs": [],
   "source": [
    "dfout"
   ]
  },
  {
   "cell_type": "code",
   "execution_count": null,
   "metadata": {},
   "outputs": [],
   "source": [
    "# Save CSV file\n",
    "dfout.to_csv(outputfile_linearfit) "
   ]
  },
  {
   "cell_type": "code",
   "execution_count": null,
   "metadata": {},
   "outputs": [],
   "source": []
  }
 ],
 "metadata": {
  "kernelspec": {
   "display_name": "Python 3 (ipykernel)",
   "language": "python",
   "name": "python3"
  },
  "language_info": {
   "codemirror_mode": {
    "name": "ipython",
    "version": 3
   },
   "file_extension": ".py",
   "mimetype": "text/x-python",
   "name": "python",
   "nbconvert_exporter": "python",
   "pygments_lexer": "ipython3",
   "version": "3.9.7"
  }
 },
 "nbformat": 4,
 "nbformat_minor": 4
}
