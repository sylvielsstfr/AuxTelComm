{
 "cells": [
  {
   "cell_type": "markdown",
   "id": "c813ed6a",
   "metadata": {
    "tags": []
   },
   "source": [
    "# View Exposures BG40\n",
    "\n",
    "\n",
    "- work with Weakly_2022_09\n",
    "- use jupyter kernel LSST\n",
    "\n",
    "\n",
    "\n",
    "- author : Sylvie Dagoret-Campagne\n",
    "- affiliation : IJCLab\n",
    "- creation date : 2022/05/30\n",
    "\n"
   ]
  },
  {
   "cell_type": "code",
   "execution_count": null,
   "id": "2e1f28b1",
   "metadata": {},
   "outputs": [],
   "source": [
    "! eups list -s | grep LOCAL"
   ]
  },
  {
   "cell_type": "code",
   "execution_count": null,
   "id": "8d301387-7065-4c85-897e-9e91b477c2b0",
   "metadata": {},
   "outputs": [],
   "source": [
    "! echo $IMAGE_DESCRIPTION\n",
    "! eups list -s lsst_distrib"
   ]
  },
  {
   "cell_type": "code",
   "execution_count": null,
   "id": "9e77ab20-8f7a-42bc-9610-fc6df3e7686e",
   "metadata": {},
   "outputs": [],
   "source": [
    "import os\n",
    "import matplotlib.pyplot as plt\n",
    "import numpy as np\n",
    "import pandas as pd\n",
    "%matplotlib inline\n",
    "from matplotlib.colors import LogNorm\n",
    "\n",
    "from mpl_toolkits.axes_grid1 import make_axes_locatable\n",
    "\n",
    "import matplotlib.ticker                         # here's where the formatter is\n",
    "from matplotlib.ticker import (MultipleLocator, FormatStrFormatter,\n",
    "                               AutoMinorLocator)\n",
    "\n",
    "from astropy.visualization import (MinMaxInterval, SqrtStretch,ZScaleInterval,PercentileInterval,\n",
    "                                   ImageNormalize,imshow_norm)\n",
    "from astropy.visualization.stretch import SinhStretch, LinearStretch,AsinhStretch,LogStretch\n",
    "\n",
    "from astropy.io import fits\n",
    "import astropy.io.fits as pyfits"
   ]
  },
  {
   "cell_type": "markdown",
   "id": "75ba0ac1-496b-4a21-8942-3cf73550b889",
   "metadata": {},
   "source": [
    "# be sure all these libraries are installed\n",
    "pip install holoviews\n",
    "pip install xarray\n"
   ]
  },
  {
   "cell_type": "code",
   "execution_count": null,
   "id": "9e0a9b69-0361-412a-927e-cbc178bb65d8",
   "metadata": {},
   "outputs": [],
   "source": [
    "# Bokeh for interactive visualization\n",
    "import bokeh\n",
    "from bokeh.io import output_file, output_notebook, show\n",
    "from bokeh.layouts import gridplot\n",
    "from bokeh.models import ColumnDataSource, CDSView, GroupFilter, HoverTool\n",
    "from bokeh.plotting import figure\n",
    "from bokeh.transform import factor_cmap\n",
    "\n",
    "import holoviews as hv\n",
    "from holoviews import streams, opts\n",
    "from holoviews.operation.datashader import rasterize\n",
    "from holoviews.operation.datashader import datashade, dynspread\n",
    "from holoviews.plotting.util import process_cmap\n",
    "\n",
    "import datashader as dsh"
   ]
  },
  {
   "cell_type": "code",
   "execution_count": null,
   "id": "6e4fc324-71f8-4fe0-8c1b-755836938d5c",
   "metadata": {},
   "outputs": [],
   "source": [
    "# Set the holoviews plotting library to be bokeh\n",
    "# You will see the holoviews + bokeh icons displayed when the library is loaded successfully\n",
    "#hv.extension('bokeh')\n",
    "#hv.extension('bokeh', 'matplotlib')\n",
    "hv.extension('bokeh')\n",
    "\n",
    "# Display bokeh plots inline in the notebook\n",
    "output_notebook()"
   ]
  },
  {
   "cell_type": "code",
   "execution_count": null,
   "id": "d7c8c61f-5cfa-4c25-9a5a-97c2eb50fa29",
   "metadata": {},
   "outputs": [],
   "source": [
    "#import lsst.afw.display as afwDisplay\n",
    "#afwDisplay.setDefaultBackend('matplotlib')"
   ]
  },
  {
   "cell_type": "code",
   "execution_count": null,
   "id": "7a36f8cd",
   "metadata": {},
   "outputs": [],
   "source": [
    "import lsst.daf.butler as dafButler"
   ]
  },
  {
   "cell_type": "markdown",
   "id": "ed41a11c-58ba-4393-a942-dcb345873bda",
   "metadata": {},
   "source": [
    "# Functions"
   ]
  },
  {
   "cell_type": "code",
   "execution_count": null,
   "id": "e4cb0221-40cb-4fa2-829d-9143188b327e",
   "metadata": {},
   "outputs": [],
   "source": [
    "def parse_slice_str(s):\n",
    "    \"\"\"\n",
    "    Parse slicing string like [2345:1234,567:890] and returns\n",
    "    the four values in the same order as 2 tuples, eg:\n",
    "    parse_slice_str('[2345:1234,567:890]') -> (2345,1234),(567,890).\n",
    "    \"\"\"\n",
    "    r = s.replace('[','').replace(']','').strip() # remove brackets\n",
    "\n",
    "    parts = r.split(',')\n",
    "    if len(parts) != 2:\n",
    "        raise ValueError(\"Invalid format for slice '%s'\" % s)\n",
    "\n",
    "    subparts_first = parts[0].split(':')\n",
    "    if len(subparts_first) != 2:\n",
    "        raise ValueError(\"Invalid format for slice '%s' (first slice)\" % s)\n",
    "    first_values = (int(subparts_first[0]), int(subparts_first[1])) # may raise ValueError, ok\n",
    "\n",
    "    subparts_second = parts[1].split(':')\n",
    "    if len(subparts_second) != 2:\n",
    "        raise ValueError(\"Invalid format for slice '%s' (second slice)\" % s)\n",
    "    second_values = (int(subparts_second[0]), int(subparts_second[1])) # may raise ValueError, ok\n",
    "\n",
    "    return first_values, second_values"
   ]
  },
  {
   "cell_type": "markdown",
   "id": "7f4a3dde-da84-4f8c-94fd-b0332fb5d655",
   "metadata": {},
   "source": [
    "# Configuration"
   ]
  },
  {
   "cell_type": "markdown",
   "id": "b67586ea-b4bf-4959-87f3-b231320a5bf8",
   "metadata": {},
   "source": [
    "## Select flags options"
   ]
  },
  {
   "cell_type": "code",
   "execution_count": null,
   "id": "655de8b8-3109-4a63-bcc7-3be31e9a514d",
   "metadata": {},
   "outputs": [],
   "source": [
    "FLAG_ROTATE_IMG = False\n",
    "FLAG_TRANSFORM = False"
   ]
  },
  {
   "cell_type": "markdown",
   "id": "a6230ef7-ddeb-4430-af47-320b8f72c840",
   "metadata": {},
   "source": [
    "## Transformations\n",
    "astropy scale transformations"
   ]
  },
  {
   "cell_type": "code",
   "execution_count": null,
   "id": "257001ba-731c-4d13-bd0d-4c68a3cd6829",
   "metadata": {},
   "outputs": [],
   "source": [
    "#transform = AsinhStretch() + PercentileInterval(99.)\n",
    "transform = PercentileInterval(98.)"
   ]
  },
  {
   "cell_type": "markdown",
   "id": "c49bfa0f-cd83-49b1-959d-4c3add499dab",
   "metadata": {},
   "source": [
    "## Range in image flat values"
   ]
  },
  {
   "cell_type": "code",
   "execution_count": null,
   "id": "8c45b03e-48ac-4df2-9e81-0f715c1bc86c",
   "metadata": {},
   "outputs": [],
   "source": [
    "VMIN = 0.5\n",
    "VMAX = 1.5"
   ]
  },
  {
   "cell_type": "markdown",
   "id": "2bccd152-42c1-4260-ba2c-f31f830d3592",
   "metadata": {},
   "source": [
    "## Histograms bins"
   ]
  },
  {
   "cell_type": "code",
   "execution_count": null,
   "id": "7df46cd7-afcc-42ef-a089-2ecb95a89813",
   "metadata": {},
   "outputs": [],
   "source": [
    "NBINS_HISTO = 200"
   ]
  },
  {
   "cell_type": "markdown",
   "id": "f3591309-e783-405b-858d-4049fc130c95",
   "metadata": {},
   "source": [
    "## Holoview Elements config"
   ]
  },
  {
   "cell_type": "markdown",
   "id": "2710f33f-090f-4a14-bb7d-af4f9fa0312b",
   "metadata": {},
   "source": [
    "### Histogram config"
   ]
  },
  {
   "cell_type": "code",
   "execution_count": null,
   "id": "6ae35ec2-a70e-4236-914e-e884f8539a39",
   "metadata": {},
   "outputs": [],
   "source": [
    "HV_HISTO_SINGLE_WIDTH  = 400\n",
    "HV_HISTO_SINGLE_HEIGHT = 350\n",
    "HV_HISTO_MULTI_WIDTH  = 350\n",
    "HV_HISTO_MULTI_HEIGHT = 300\n",
    "HV_HISTO_MULTI_COLS   = 3"
   ]
  },
  {
   "cell_type": "markdown",
   "id": "5d853edf-658b-4159-b8fe-22f895010a10",
   "metadata": {},
   "source": [
    "## Image configuration"
   ]
  },
  {
   "cell_type": "code",
   "execution_count": null,
   "id": "34742a6e-2eed-487b-b785-7841f5eb7a49",
   "metadata": {},
   "outputs": [],
   "source": [
    "HV_IMAGE_SINGLE_WIDTH  = 400\n",
    "HV_IMAGE_SINGLE_HEIGHT = 400\n",
    "HV_IMAGE_SINGLE_FRAME_WIDTH = 600\n",
    "HV_IMAGE_MULTI_WIDTH  = 400\n",
    "HV_IMAGE_MULTI_HEIGHT = 400\n",
    "HV_IMAGE_MULTI_FRAME_WIDTH = 350\n",
    "HV_IMAGE_MULTI_COLS   = 3"
   ]
  },
  {
   "cell_type": "markdown",
   "id": "60ba89aa-c9c0-46b4-a330-88a969a88039",
   "metadata": {},
   "source": [
    "## Butler"
   ]
  },
  {
   "cell_type": "code",
   "execution_count": null,
   "id": "7c5944d1-0cbb-42bc-9ea9-a7ff39e25a01",
   "metadata": {},
   "outputs": [],
   "source": [
    "repo = '/sps/lsst/groups/auxtel/softs/shared/auxteldm_gen3/data/butler.yaml'\n",
    "butler = dafButler.Butler(repo)\n",
    "registry = butler.registry"
   ]
  },
  {
   "cell_type": "markdown",
   "id": "738d2375-63b8-4353-bcc3-b452dec7d02b",
   "metadata": {},
   "source": [
    "## Utils"
   ]
  },
  {
   "cell_type": "code",
   "execution_count": null,
   "id": "41c1acbc-f8fa-4445-8f6b-7f22455ad24e",
   "metadata": {},
   "outputs": [],
   "source": [
    "def isflat(row):\n",
    "    #print(row[\"filter\"])\n",
    "    if str(row[\"type\"]) == \"flat\":\n",
    "        return True\n",
    "    \n",
    "    else:\n",
    "        return False "
   ]
  },
  {
   "cell_type": "code",
   "execution_count": null,
   "id": "993fe716-52f0-43f7-867b-4ebcaf4d7d35",
   "metadata": {},
   "outputs": [],
   "source": [
    "TOOLTIPS = [\n",
    "    ('name', \"$name\"),\n",
    "    ('index', \"$index\"),\n",
    "    ('pattern', '@pattern'),\n",
    "    (\"x\", \"$x\"),\n",
    "    (\"y\", \"$y\"),\n",
    "    (\"value\", \"@image\"),\n",
    "    ('squared', '@squared')\n",
    "]\n",
    "\n",
    "TOOLTIPS = [\n",
    "    (\"(x,y)\", \"($x, $y)\"),\n",
    "]\n",
    "\n",
    "hover = HoverTool(description='Custom Tooltip', tooltips=[('x', '@x'), ('y', '@y')])\n",
    "\n",
    "\n",
    "# Custom hover tool for the source detections\n",
    "myhover = HoverTool(\n",
    "    tooltips=[\n",
    "        ( 'x', '@x{0.2f}'),\n",
    "        ( 'y', '@y{0.2f}'),\n",
    "    ],\n",
    "    formatters={\n",
    "        'x' : 'printf',\n",
    "        'y' : 'printf',\n",
    "    },\n",
    "    \n",
    ")"
   ]
  },
  {
   "cell_type": "code",
   "execution_count": null,
   "id": "0c777a37-9a00-424f-8d21-cd389776bc15",
   "metadata": {},
   "outputs": [],
   "source": [
    "# Define some default plot options for the Image\n",
    "img_opts = dict(\n",
    "                #height=600, width=700, \n",
    "                xaxis=\"bottom\", \n",
    "                padding = 0.01, fontsize={'title': '8pt'},\n",
    "                colorbar=True, toolbar='right', show_grid=True,\n",
    "                aspect='equal',\n",
    "                frame_width=HV_IMAGE_SINGLE_FRAME_WIDTH ,\n",
    "                tools=['hover','crosshair','undo','redo','zoom_in','zoom_out'],\n",
    "                #tools=[myhover,'crosshair'],\n",
    "               )     "
   ]
  },
  {
   "cell_type": "markdown",
   "id": "b08316fe-3b02-495c-aeb2-b2877e007d2f",
   "metadata": {},
   "source": [
    "# Input BG40"
   ]
  },
  {
   "cell_type": "code",
   "execution_count": null,
   "id": "e0c7de12-0273-4c40-95f5-2fbfd86924e3",
   "metadata": {},
   "outputs": [],
   "source": [
    "path_raw = \"/sps/lsst/groups/auxtel/data/raw_ncsa/2021-11-04\""
   ]
  },
  {
   "cell_type": "code",
   "execution_count": null,
   "id": "705eba57-eff9-44e2-a94c-af2ecb3de558",
   "metadata": {},
   "outputs": [],
   "source": [
    "files_raw = os.listdir(path_raw)\n",
    "#files_raw"
   ]
  },
  {
   "cell_type": "code",
   "execution_count": null,
   "id": "9c06b893-70f6-4d4d-8eae-5870c84a2731",
   "metadata": {},
   "outputs": [],
   "source": [
    "seqnum = 508"
   ]
  },
  {
   "cell_type": "code",
   "execution_count": null,
   "id": "70796e7c-1092-40bd-9b3c-92ce7dcc3fff",
   "metadata": {},
   "outputs": [],
   "source": [
    "files_to_remove = []\n",
    "for filename in files_raw:\n",
    "    if not \"508\" in filename:\n",
    "        files_to_remove.append(filename)"
   ]
  },
  {
   "cell_type": "code",
   "execution_count": null,
   "id": "8432c29e-b7e7-441e-abdf-37bd33f5c994",
   "metadata": {},
   "outputs": [],
   "source": [
    "for file_to_remove in files_to_remove:\n",
    "    files_raw.remove(file_to_remove)"
   ]
  },
  {
   "cell_type": "code",
   "execution_count": null,
   "id": "835aa90d-8d2c-4d96-9d1e-ca589e1eb95e",
   "metadata": {},
   "outputs": [],
   "source": [
    "files_raw"
   ]
  },
  {
   "cell_type": "code",
   "execution_count": null,
   "id": "0465b148-69da-441d-8885-b430c56632cb",
   "metadata": {},
   "outputs": [],
   "source": [
    "indexfl    = 0\n",
    "filename   = files_raw[indexfl]\n",
    "fullfilename = os.path.join(path_raw,filename) \n",
    "thetitle = filename.split(\".\")[0] "
   ]
  },
  {
   "cell_type": "code",
   "execution_count": null,
   "id": "917d5a02-c922-4d4d-91ca-a063fabbea6d",
   "metadata": {},
   "outputs": [],
   "source": [
    "filename "
   ]
  },
  {
   "cell_type": "markdown",
   "id": "b483f103-e067-47c7-bf0a-b218644ecd7f",
   "metadata": {},
   "source": [
    "# Stitch"
   ]
  },
  {
   "cell_type": "code",
   "execution_count": null,
   "id": "491793d6-fa98-4be3-b6ea-3680eda9259e",
   "metadata": {},
   "outputs": [],
   "source": [
    "fitsname = fullfilename\n",
    "fits = pyfits.open(fitsname)\n",
    "\n",
    "primhdu = fits[0]\n",
    "primhdr = primhdu.header\n",
    "\n",
    "# DETSIZE = '[1:4072,1:4000]'    / Size of sensor                                 \n",
    "# OVERV   =                   48 / Vert-overscan pix                              \n",
    "# OVERH   =                   64 / Over-scan pixels                               \n",
    "## The following is probably wrong, according to the sequencer code used\n",
    "## for the readout of the ITL CCD and to the resulting geometry: 3 + 509 + 64 = 576\n",
    "# PREH    =                    0 / Pre-scan pixels                                \n",
    "## --> here we use instead PREH = 3\n",
    "\n",
    "## Detector size (illuminated area) \n",
    "\n",
    "detsize_str = primhdr['DETSIZE']\n",
    "(ymin_b1, ymax_b1), (xmin_b1, xmax_b1) = parse_slice_str(detsize_str) # 1-base coordinates\n",
    "xmin, xmax = xmin_b1-1, xmax_b1-1  # 0-base coordinates\n",
    "xsize = xmax - xmin + 1\n",
    "ymin, ymax = ymin_b1-1, ymax_b1-1  # 0-base coordinates\n",
    "ysize = ymax - ymin + 1\n",
    "\n",
    "print(\"Detector size: \")\n",
    "print(\"  xsize =\", xsize)\n",
    "print(\"  ysize =\", ysize)"
   ]
  },
  {
   "cell_type": "code",
   "execution_count": null,
   "id": "87c33f50-4600-4789-9c1e-95e27199d887",
   "metadata": {},
   "outputs": [],
   "source": [
    "## Prescan and Overscan\n",
    "\n",
    "amp_prescan_lines    = 0\n",
    "amp_overscan_lines   = primhdr['OVERV']\n",
    "amp_prescan_columns  = 3  # primhdr['PREH']  # header is clearly inconsistent here\n",
    "amp_overscan_columns = primhdr['OVERH']\n",
    "\n",
    "## Create the large image\n",
    "\n",
    "ccd = np.zeros(dtype = fits[1].data.dtype, shape = (xsize, ysize))\n",
    "\n",
    "## Process the HDUs for the 16 amplifiers\n",
    "\n",
    "for hdu in fits[1:]:\n",
    "    hdr = hdu.header\n",
    "    img = hdu.data\n",
    "\n",
    "    amp_total_xsize, amp_total_ysize = img.shape\n",
    "    amp_ill_xsize = amp_total_xsize - amp_prescan_lines - amp_overscan_lines\n",
    "    amp_ill_ysize = amp_total_ysize - amp_prescan_columns - amp_overscan_columns\n",
    "\n",
    "    \n",
    "    print(\"Processing HDU <%s> ...\" % hdr['EXTNAME'])\n",
    "\n",
    "    print(\"  HDU img.shape = \", img.shape)\n",
    "    print(\"  HDU ill_xsize = \", amp_ill_xsize)\n",
    "    print(\"  HDU ill_ysize = \", amp_ill_ysize)\n",
    "\n",
    "    ## illuminated part in the amplifier data...\n",
    "    # datasec_str = hdu.header['DATASEC']\n",
    "    # datasec_slice = parse_slice_str(datasec_str)\n",
    "    # in fact the header DATASEC is wrong.\n",
    "\n",
    "    amp_ill_xmin = amp_prescan_lines\n",
    "    amp_ill_xmax = amp_prescan_lines + amp_ill_xsize\n",
    "\n",
    "    amp_ill_ymin = amp_prescan_columns\n",
    "    amp_ill_ymax = amp_prescan_columns + amp_ill_ysize\n",
    "\n",
    "    \n",
    "    print(\"  illum area [0-based python-style] = [%d:%d,%d:%d]\" % \n",
    "          ( amp_ill_xmin, amp_ill_xmax, amp_ill_ymin, amp_ill_ymax ))\n",
    "\n",
    "    illum = img[amp_ill_xmin:amp_ill_xmax, amp_ill_ymin:amp_ill_ymax]\n",
    "    print(\"  illum.shape = \", illum.shape)\n",
    "    \n",
    "    ## ... and where it sits in the physical CCD array.\n",
    "    detsec_str = hdu.header['DETSEC']\n",
    "    detsec_slice = parse_slice_str(detsec_str)\n",
    "    # Loading also the transfo vector and matrix (1-based)\n",
    "    # DTV1    =                  510 / detector transformation vector                 \n",
    "    # DTV2    =                    0 / detector transformation vector                 \n",
    "    # DTM1_1  =                  -1. / detector transformation matrix                 \n",
    "    # DTM2_2  =                   1. / detector transformation matrix                 \n",
    "    # DTM1_2  =                    0 / detector transformation matrix                 \n",
    "    # DTM2_1  =                    0 / detector transformation matrix                 \n",
    "    \n",
    "    dtv1 = hdr['DTV1']; dtv2 = hdr['DTV2']\n",
    "    dtm1_1 = hdr['DTM1_1']; dtm1_2 = hdr['DTM1_2']\n",
    "    dtm2_1 = hdr['DTM2_1']; dtm2_2 = hdr['DTM2_2']\n",
    "\n",
    "    print(\"  dtv = \", np.array([dtv1, dtv2]))\n",
    "    print(\"  dtm = \")\n",
    "    print(np.array([[dtm1_1, dtm1_2],[dtm2_1, dtm2_2]]))\n",
    "    \n",
    "    ccd_x1 = detsec_slice[1][0]\n",
    "    ccd_x2 = detsec_slice[1][1]\n",
    "    # ccd_xstep = int(dtm2_2)\n",
    "    if ccd_x1 < ccd_x2: \n",
    "        ccd_xstep = 1\n",
    "    else:\n",
    "        ccd_x1, ccd_x2 = ccd_x2, ccd_x1\n",
    "        ccd_xstep = -1\n",
    "    #\n",
    "    ccd_x1 -= 1\n",
    "\n",
    "    ccd_y1 = detsec_slice[0][0]\n",
    "    ccd_y2 = detsec_slice[0][1]\n",
    "    # ccd_ystep = int(dtm1_1)\n",
    "    if ccd_y1 < ccd_y2:\n",
    "        ccd_ystep = 1\n",
    "    else:\n",
    "        ccd_y1, ccd_y2 = ccd_y2, ccd_y1\n",
    "        ccd_ystep = -1\n",
    "    #\n",
    "    ccd_y1 -= 1\n",
    "        \n",
    "    # print(\"  DATASEC = \", datasec_slice)\n",
    "    print(\"  DETSEC = \", detsec_slice)\n",
    "    \n",
    "    print(\"  CCD area [0-based python-style] = [%d:%d,%d:%d]\" % \n",
    "          (ccd_x1, ccd_x2, ccd_y1, ccd_y2) )\n",
    "\n",
    "    # print(ccd[ccd_x1:ccd_x2:ccd_xstep, ccd_y1:ccd_y2:ccd_ystep].shape)\n",
    "    print(ccd[ccd_x1:ccd_x2, ccd_y1:ccd_y2].shape)\n",
    "\n",
    "    ccd[ccd_x1:ccd_x2, ccd_y1:ccd_y2] = illum[::ccd_xstep, ::ccd_ystep]\n"
   ]
  },
  {
   "cell_type": "code",
   "execution_count": null,
   "id": "693ac3f6-8f6f-43a7-aebb-c0df94807ca3",
   "metadata": {},
   "outputs": [],
   "source": [
    "# Save the resulting array in a new FITS file\n",
    "\n",
    "outfitsname = filename.replace(\".fits\", \"-stitched.fits\")\n",
    "outfitshdr = primhdr\n",
    "pyfits.writeto(outfitsname, ccd, header=primhdr, overwrite=True)"
   ]
  },
  {
   "cell_type": "code",
   "execution_count": null,
   "id": "fa60bc6a-ea43-4c0b-bc59-82b00b1cb0f5",
   "metadata": {},
   "outputs": [],
   "source": [
    "ccd.shape"
   ]
  },
  {
   "cell_type": "code",
   "execution_count": null,
   "id": "8f4cff91-0216-4b5a-bfea-cb9d59f2e5fd",
   "metadata": {},
   "outputs": [],
   "source": [
    "img_data = ccd"
   ]
  },
  {
   "cell_type": "code",
   "execution_count": null,
   "id": "98fe1720-333f-488e-898a-fcb81f824cbf",
   "metadata": {},
   "outputs": [],
   "source": [
    "img_data.shape"
   ]
  },
  {
   "cell_type": "code",
   "execution_count": null,
   "id": "8f84bab3-1bf7-42de-8132-08fd17f63cae",
   "metadata": {},
   "outputs": [],
   "source": [
    "if FLAG_TRANSFORM: \n",
    "    scaledImage = transform(img_data)\n",
    "else:\n",
    "    scaledImage = img_data"
   ]
  },
  {
   "cell_type": "code",
   "execution_count": null,
   "id": "b4c7716b-ca4f-4b26-8285-5663acf21fec",
   "metadata": {},
   "outputs": [],
   "source": [
    "if FLAG_ROTATE_IMG:\n",
    "    rotscaledImage=np.rot90(scaledImage)\n",
    "else:\n",
    "    rotscaledImage = scaledImage"
   ]
  },
  {
   "cell_type": "code",
   "execution_count": null,
   "id": "df40dbd1-af96-4bce-8b5e-f0cd0463a441",
   "metadata": {},
   "outputs": [],
   "source": [
    "rotscaledImage"
   ]
  },
  {
   "cell_type": "code",
   "execution_count": null,
   "id": "2e4e7345-8265-4b09-ade7-fe7dfe128a9f",
   "metadata": {},
   "outputs": [],
   "source": [
    "plt.imshow(rotscaledImage)"
   ]
  },
  {
   "cell_type": "code",
   "execution_count": null,
   "id": "3bc777f2-dfa7-4f46-8de4-37876510d817",
   "metadata": {},
   "outputs": [],
   "source": [
    "VMIN= img_data.ravel().min()\n",
    "VMAX= img_data.ravel().max()"
   ]
  },
  {
   "cell_type": "code",
   "execution_count": null,
   "id": "86d87fa8-6a63-482a-a7e9-13caa02791ab",
   "metadata": {},
   "outputs": [],
   "source": [
    "hv.help(hv.Image)"
   ]
  },
  {
   "cell_type": "code",
   "execution_count": null,
   "id": "08eac12d-75c6-4eea-ac48-d83a19c9fda5",
   "metadata": {},
   "outputs": [],
   "source": [
    "# Define some default plot options for the Image\n",
    "img_opts = dict(\n",
    "                height=700, width=700, \n",
    "                xaxis=\"bottom\", \n",
    "                fontsize={'ticks':20, 'title':20,'ylabel':18, 'xlabel':18, 'zlabel':5,'legend':8, 'legend_title':13},\n",
    "                colorbar=True, show_grid=True,\n",
    "                aspect='equal',\n",
    "                #fig_size=HV_IMAGE_SINGLE_FRAME_WIDTH ,\n",
    "                tools=['hover','crosshair','undo','redo','zoom_in','zoom_out'],\n",
    "                #tools=[myhover,'crosshair'],\n",
    "               )    "
   ]
  },
  {
   "cell_type": "code",
   "execution_count": null,
   "id": "da79a27e-d882-4335-88f3-84673fcd060a",
   "metadata": {},
   "outputs": [],
   "source": [
    "# Create the Image element.\n",
    "bounds_img=(0,0,rotscaledImage.shape[1],rotscaledImage.shape[0])\n",
    "img = hv.Image(rotscaledImage, bounds=bounds_img,\n",
    "               kdims=['x', 'y']).opts(\n",
    "    cmap = \"Greys_r\",  xlabel = 'x', ylabel ='y',\n",
    "    title = thetitle)"
   ]
  },
  {
   "cell_type": "code",
   "execution_count": null,
   "id": "95e34e62-037f-49e1-b293-c8660ac4e5b1",
   "metadata": {},
   "outputs": [],
   "source": [
    "img"
   ]
  },
  {
   "cell_type": "code",
   "execution_count": null,
   "id": "bf5613a2-214c-4308-8292-c50cba633cfe",
   "metadata": {},
   "outputs": [],
   "source": [
    "rasterize(img)"
   ]
  },
  {
   "cell_type": "code",
   "execution_count": null,
   "id": "999459ff-28c2-4e11-aba5-b6663e50106e",
   "metadata": {},
   "outputs": [],
   "source": []
  }
 ],
 "metadata": {
  "kernelspec": {
   "display_name": "lsst_distrib_w_2022_09",
   "language": "python",
   "name": "lsst_distrib_w_2022_09"
  },
  "language_info": {
   "codemirror_mode": {
    "name": "ipython",
    "version": 3
   },
   "file_extension": ".py",
   "mimetype": "text/x-python",
   "name": "python",
   "nbconvert_exporter": "python",
   "pygments_lexer": "ipython3",
   "version": "3.8.12"
  }
 },
 "nbformat": 4,
 "nbformat_minor": 5
}
