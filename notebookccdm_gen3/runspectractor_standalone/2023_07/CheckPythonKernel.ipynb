{
 "cells": [
  {
   "cell_type": "markdown",
   "id": "7e25f840-1239-4ed1-b587-783cdb696229",
   "metadata": {},
   "source": [
    "# Inquire the status"
   ]
  },
  {
   "cell_type": "markdown",
   "id": "cb39d6c4-b093-4266-92dd-e66226fc13b5",
   "metadata": {},
   "source": [
    "## View Kernel server log"
   ]
  },
  {
   "cell_type": "code",
   "execution_count": null,
   "id": "e333ef62-af75-4529-b7c3-4d746e042769",
   "metadata": {},
   "outputs": [],
   "source": [
    "!ls /var/log/notebookserver/notebookserver.log"
   ]
  },
  {
   "cell_type": "code",
   "execution_count": 7,
   "id": "c030fbe0-4a06-4544-a218-d90bc9b9da2c",
   "metadata": {},
   "outputs": [
    {
     "name": "stdout",
     "output_type": "stream",
     "text": [
      "[D 2023-07-20 20:31:32.748 SingleUserNotebookApp kernelspec:168] Found kernel python3 in /opt/conda/share/jupyter/kernels\n",
      "[D 2023-07-20 20:31:32.748 SingleUserNotebookApp kernelspec:168] Found kernel anaconda3 in /usr/local/share/jupyter/kernels\n",
      "[D 2023-07-20 20:31:55.156 SingleUserNotebookApp kernelmanager:423] activity on 62e7de39-b7cb-4e26-852a-764efe0bc8ff: status (busy)\n",
      "[D 2023-07-20 20:31:55.157 SingleUserNotebookApp kernelmanager:425] activity on 62e7de39-b7cb-4e26-852a-764efe0bc8ff: execute_input\n",
      "[D 2023-07-20 20:31:56.230 SingleUserNotebookApp kernelmanager:425] activity on 62e7de39-b7cb-4e26-852a-764efe0bc8ff: stream\n",
      "[D 2023-07-20 20:31:56.333 SingleUserNotebookApp kernelmanager:423] activity on 62e7de39-b7cb-4e26-852a-764efe0bc8ff: status (idle)\n",
      "[I 2023-07-20 20:32:18.811 SingleUserNotebookApp handlers:164] Saving file at /AuxTelComm/notebookccdm_gen3/runspectractor_standalone/2023_07/CheckPythonKernel.ipynb\n",
      "[I 2023-07-20 20:32:18.815 SingleUserNotebookApp contentsmanager:140] Saving CheckPythonKernel.ipynb\n",
      "[D 2023-07-20 20:32:18.815 SingleUserNotebookApp filemanager:469] Saving /pbs/throng/lsst/users/dagoret/desc/AuxTelComm/notebookccdm_gen3/runspectractor_standalone/2023_07/CheckPythonKernel.ipynb\n",
      "[D 2023-07-20 20:32:18.915 SingleUserNotebookApp.jupyterlab_git git:133] Execute ['git', 'status', '--porcelain', '-b', '-u', '-z'] in /pbs/throng/lsst/users/dagoret/desc/AuxTelComm.\n",
      "[D 2023-07-20 20:32:20.054 SingleUserNotebookApp.jupyterlab_git git:153] Code: 0\n",
      "    Output: ## main...origin/main\u0000 M notebookccdm_gen3/runspectractor_standalone/2023_07/anaSpectra_holo_newspectractor_v3-FFMv_REBIN2_Janv2023.ipynb\u0000 M notebookccdm_gen3/runspectractor_standalone/2023_07/logbooks/auxtellogbook_empty~holo4_003_20230119_v6.0.xlsx\u0000 M notebookccdm_gen3/runspectractor_standalone/2023_07/makeLogbook_newspectractor-v3.ipynb\u0000 M notebookccdm_gen3/runspectractor_standalone/2023_07/processSpectra_holo-newspectractor_v4.ipynb\u0000 M notebookccdm_gen3/runspectractor_standalone/2023_07/proc...\n",
      "    Error: \n",
      "[D 2023-07-20 20:32:20.054 SingleUserNotebookApp.jupyterlab_git git:133] Execute ['git', 'diff', '--numstat', '-z', '--cached', '4b825dc642cb6eb9a060e54bf8d69288fbee4904'] in /pbs/throng/lsst/users/dagoret/desc/AuxTelComm.\n",
      "[D 2023-07-20 20:32:27.929 SingleUserNotebookApp.jupyterlab_git git:153] Code: 0\n",
      "    Output: 9\t0\t.gitignore\u00002793\t0\tDMBootcamp2022/ListOfExposures-bias.ipynb\u00001977\t0\tDMBootcamp2022/ListOfExposures-flats.ipynb\u00007987\t0\tDMBootcamp2022/ListOfExposures-hologram.ipynb\u00002136\t0\tDMBootcamp2022/MakeBookKeeping-bias.ipynb\u00002293\t0\tDMBootcamp2022/MakeBookKeeping-flat.ipynb\u00002208\t0\tDMBootcamp2022/MakeBookKeeping-hologram.ipynb\u00001016\t0\tDMBootcamp2022/cpp-20220630.ipynb\u00003729\t0\tDMBootcamp2022/cpp-20220818.ipynb\u000098\t0\tDMBootcamp2022/lsst-jupyter-python-launcher.sh\u000030\t0\tREADME.md\u0000-\t-\tdata/orientations-holo.xlsx\u00006...\n",
      "    Error: \n",
      "[D 2023-07-20 20:32:33.862 SingleUserNotebookApp kernelspec:168] Found kernel jaxtutos in /pbs/home/d/dagoret/.local/share/jupyter/kernels\n",
      "[D 2023-07-20 20:32:33.862 SingleUserNotebookApp kernelspec:168] Found kernel lsst_distrib_current in /pbs/home/d/dagoret/.local/share/jupyter/kernels\n",
      "[D 2023-07-20 20:32:33.862 SingleUserNotebookApp kernelspec:168] Found kernel anaconda3_auxtel in /pbs/home/d/dagoret/.local/share/jupyter/kernels\n",
      "[D 2023-07-20 20:32:33.862 SingleUserNotebookApp kernelspec:168] Found kernel cc_anaconda_fidle in /pbs/home/d/dagoret/.local/share/jupyter/kernels\n",
      "[D 2023-07-20 20:32:33.862 SingleUserNotebookApp kernelspec:168] Found kernel anaconda3_py310_auxtel in /pbs/home/d/dagoret/.local/share/jupyter/kernels\n",
      "[D 2023-07-20 20:32:33.862 SingleUserNotebookApp kernelspec:168] Found kernel rail-nov2022-py39 in /pbs/home/d/dagoret/.local/share/jupyter/kernels\n",
      "[D 2023-07-20 20:32:33.862 SingleUserNotebookApp kernelspec:168] Found kernel desc in /pbs/home/d/dagoret/.local/share/jupyter/kernels\n",
      "[D 2023-07-20 20:32:33.862 SingleUserNotebookApp kernelspec:168] Found kernel miniconda3_py310_auxtel in /pbs/home/d/dagoret/.local/share/jupyter/kernels\n",
      "[D 2023-07-20 20:32:33.862 SingleUserNotebookApp kernelspec:168] Found kernel lsst_distrib_w_2022_39 in /pbs/home/d/dagoret/.local/share/jupyter/kernels\n",
      "[D 2023-07-20 20:32:33.862 SingleUserNotebookApp kernelspec:168] Found kernel anaconda3_pbs in /pbs/home/d/dagoret/.local/share/jupyter/kernels\n",
      "[D 2023-07-20 20:32:33.863 SingleUserNotebookApp kernelspec:168] Found kernel miniconda3_py38_auxtel in /pbs/home/d/dagoret/.local/share/jupyter/kernels\n",
      "[D 2023-07-20 20:32:33.863 SingleUserNotebookApp kernelspec:168] Found kernel lsst_distrib in /pbs/home/d/dagoret/.local/share/jupyter/kernels\n",
      "[D 2023-07-20 20:32:33.863 SingleUserNotebookApp kernelspec:168] Found kernel cc_anaconda_fidle-gpu-cuda11.3 in /pbs/home/d/dagoret/.local/share/jupyter/kernels\n",
      "[D 2023-07-20 20:32:33.863 SingleUserNotebookApp kernelspec:168] Found kernel cc_anaconda_fidle-gpu in /pbs/home/d/dagoret/.local/share/jupyter/kernels\n",
      "[D 2023-07-20 20:32:33.863 SingleUserNotebookApp kernelspec:168] Found kernel anaconda3_py39 in /pbs/home/d/dagoret/.local/share/jupyter/kernels\n",
      "[D 2023-07-20 20:32:33.863 SingleUserNotebookApp kernelspec:168] Found kernel anaconda3_py311_auxtel in /pbs/home/d/dagoret/.local/share/jupyter/kernels\n",
      "[D 2023-07-20 20:32:33.863 SingleUserNotebookApp kernelspec:168] Found kernel anaconda3_auxtel_v2 in /pbs/home/d/dagoret/.local/share/jupyter/kernels\n",
      "[D 2023-07-20 20:32:33.863 SingleUserNotebookApp kernelspec:168] Found kernel anaconda3_py39_auxtel in /pbs/home/d/dagoret/.local/share/jupyter/kernels\n",
      "[D 2023-07-20 20:32:33.863 SingleUserNotebookApp kernelspec:168] Found kernel lsst_distrib_latest in /pbs/home/d/dagoret/.local/share/jupyter/kernels\n",
      "[D 2023-07-20 20:32:33.863 SingleUserNotebookApp kernelspec:168] Found kernel python3 in /opt/conda/share/jupyter/kernels\n",
      "[D 2023-07-20 20:32:33.863 SingleUserNotebookApp kernelspec:168] Found kernel anaconda3 in /usr/local/share/jupyter/kernels\n",
      "[D 2023-07-20 20:32:35.560 SingleUserNotebookApp kernelmanager:423] activity on 62e7de39-b7cb-4e26-852a-764efe0bc8ff: status (busy)\n",
      "[D 2023-07-20 20:32:35.561 SingleUserNotebookApp kernelmanager:425] activity on 62e7de39-b7cb-4e26-852a-764efe0bc8ff: execute_input\n"
     ]
    }
   ],
   "source": [
    "! tail -40 /var/log/notebookserver/notebookserver.log"
   ]
  },
  {
   "cell_type": "markdown",
   "id": "3363d96b-6e6f-49b8-91ea-d1faf23eaacf",
   "metadata": {},
   "source": [
    "## Kernel DESC\n",
    "    distribDir='/pbs/throng/lsst/software/desc/common/miniconda'\n",
    "    releaseDir=${distribDir}\n",
    "    export DESC_DISTRIB_RELEASE=${releaseDir}\n",
    "    export DESC_GCR_SITE='in2p3'\n",
    "    source ${distribDir}/setup_current_python.sh\n",
    "    exec python -m ipykernel_launcher \"$@\""
   ]
  },
  {
   "cell_type": "markdown",
   "id": "4c3c6626-5146-4c62-b64f-903b0608cab3",
   "metadata": {},
   "source": [
    "## Python"
   ]
  },
  {
   "cell_type": "code",
   "execution_count": 2,
   "id": "8ac5dadf-b66f-4a61-8fb2-3c18e415fd56",
   "metadata": {},
   "outputs": [
    {
     "name": "stdout",
     "output_type": "stream",
     "text": [
      "3.10.9\n"
     ]
    }
   ],
   "source": [
    "from platform import python_version\n",
    "print(python_version())"
   ]
  },
  {
   "cell_type": "code",
   "execution_count": 3,
   "id": "1aa1948a-3884-407f-b918-2ae41ec05d3f",
   "metadata": {},
   "outputs": [],
   "source": [
    "import sys"
   ]
  },
  {
   "cell_type": "code",
   "execution_count": 8,
   "id": "34c9189f-9668-4ab8-b949-ceddab6dc6c9",
   "metadata": {},
   "outputs": [
    {
     "name": "stdout",
     "output_type": "stream",
     "text": [
      "/pbs/throng/lsst/software/desc/common/miniconda/dp-v1.1.0/bin/python\n",
      "3.10.9 | packaged by conda-forge | (main, Feb  2 2023, 20:20:04) [GCC 11.3.0]\n",
      "sys.version_info(major=3, minor=10, micro=9, releaselevel='final', serial=0)\n"
     ]
    }
   ],
   "source": [
    "print(sys.executable)\n",
    "print(sys.version)\n",
    "print(sys.version_info)"
   ]
  },
  {
   "cell_type": "code",
   "execution_count": 5,
   "id": "c7718bce-8bce-45ae-93d2-6463f20aa559",
   "metadata": {},
   "outputs": [
    {
     "data": {
      "text/plain": [
       "['/pbs/throng/lsst/users/dagoret/desc/AuxTelComm/notebookccdm_gen3/runspectractor_standalone/2023_07',\n",
       " '/pbs/throng/lsst/software/desc/common/miniconda/dp-v1.1.0/lib/python310.zip',\n",
       " '/pbs/throng/lsst/software/desc/common/miniconda/dp-v1.1.0/lib/python3.10',\n",
       " '/pbs/throng/lsst/software/desc/common/miniconda/dp-v1.1.0/lib/python3.10/lib-dynload',\n",
       " '',\n",
       " '/pbs/throng/lsst/software/desc/common/miniconda/dp-v1.1.0/lib/python3.10/site-packages']"
      ]
     },
     "execution_count": 5,
     "metadata": {},
     "output_type": "execute_result"
    }
   ],
   "source": [
    "sys.path"
   ]
  },
  {
   "cell_type": "code",
   "execution_count": 11,
   "id": "edf48031-0b30-4141-bd43-84b732e100bf",
   "metadata": {},
   "outputs": [
    {
     "data": {
      "text/plain": [
       "'3.10.9 | packaged by conda-forge | (main, Feb  2 2023, 20:20:04) [GCC 11.3.0]'"
      ]
     },
     "execution_count": 11,
     "metadata": {},
     "output_type": "execute_result"
    }
   ],
   "source": []
  },
  {
   "cell_type": "code",
   "execution_count": null,
   "id": "f6aa035a-a8c5-4b95-bbf8-1ec001908b9e",
   "metadata": {},
   "outputs": [],
   "source": []
  }
 ],
 "metadata": {
  "kernelspec": {
   "display_name": "desc",
   "language": "python",
   "name": "desc"
  },
  "language_info": {
   "codemirror_mode": {
    "name": "ipython",
    "version": 3
   },
   "file_extension": ".py",
   "mimetype": "text/x-python",
   "name": "python",
   "nbconvert_exporter": "python",
   "pygments_lexer": "ipython3",
   "version": "3.10.9"
  }
 },
 "nbformat": 4,
 "nbformat_minor": 5
}
