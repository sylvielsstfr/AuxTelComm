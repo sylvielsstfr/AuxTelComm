{
 "cells": [
  {
   "cell_type": "markdown",
   "metadata": {},
   "source": [
    "# Build the logbook for Hologram with empty or filters"
   ]
  },
  {
   "cell_type": "markdown",
   "metadata": {},
   "source": [
    "- author : Sylvie Dagoret-Campagne\n",
    "- affiliation : IJCLab/IN2P3/CNES, DESC-LSST fullmember, behalf AuxTel Teal VERA C. Rubin observatory\n",
    "- creation date : December 8th 2022\n",
    "- last update : July 20th 2023\n",
    "\n",
    "\n",
    "Works directory per directory (day by day)\n",
    "\n",
    "CCIN2P3:\n",
    "\n",
    "\n",
    "- works with the new kernel **miniconda3_py310_auxtel** (with stackyter.py) \n",
    "- works with the new kernel **miniconda3_py38_auxtel** (with notebook.cc.in2p3.fr) \n",
    "\n",
    "\n",
    "\n",
    "REMEMBER:\n",
    "- to_excel() uses a library called **xlwt** and **openpyxl** internally. openpyxl is used to write ."
   ]
  },
  {
   "cell_type": "code",
   "execution_count": 1,
   "metadata": {
    "tags": []
   },
   "outputs": [
    {
     "data": {
      "text/plain": [
       "['/pbs/throng/lsst/users/dagoret/desc/AuxTelComm/notebookccdm_gen3/runspectractor_standalone/2023_07',\n",
       " '',\n",
       " '/opt/conda/lib/python3.8/site-packages',\n",
       " '/sps/lsst/groups/auxtel/softs/utils/miniconda3-py38/lib/python38.zip',\n",
       " '/sps/lsst/groups/auxtel/softs/utils/miniconda3-py38/lib/python3.8',\n",
       " '/sps/lsst/groups/auxtel/softs/utils/miniconda3-py38/lib/python3.8/lib-dynload',\n",
       " '/pbs/home/d/dagoret/.local/lib/python3.8/site-packages',\n",
       " '/sps/lsst/groups/auxtel/softs/utils/miniconda3-py38/lib/python3.8/site-packages',\n",
       " '/sps/lsst/groups/auxtel/softs/utils/miniconda3-py38/lib/python3.8/site-packages/Spectractor-2.5-py3.8.egg']"
      ]
     },
     "execution_count": 1,
     "metadata": {},
     "output_type": "execute_result"
    }
   ],
   "source": [
    "import sys\n",
    "sys.path"
   ]
  },
  {
   "cell_type": "code",
   "execution_count": 2,
   "metadata": {
    "tags": []
   },
   "outputs": [
    {
     "name": "stdout",
     "output_type": "stream",
     "text": [
      "20221212  20230118  20230131  20230202\t20230315  20230704  20230706\n",
      "20230117  20230119  20230201  20230215\t20230316  20230705  20230718\n"
     ]
    }
   ],
   "source": [
    "! ls /sps/lsst/groups/auxtel/data/hack_usdf/my_postisrccd_img_forspectractor_2023/empty~holo4_003\n",
    "#! ls /Users/sylvie/DATA/AuxTelDATA2023/data/2023/empty~holo4_003"
   ]
  },
  {
   "cell_type": "markdown",
   "metadata": {},
   "source": [
    "# Select the combination DATE, FILTER, DISPERSER"
   ]
  },
  {
   "cell_type": "code",
   "execution_count": 3,
   "metadata": {
    "tags": []
   },
   "outputs": [],
   "source": [
    "DATE = '20230718'\n",
    "filterdispersernames = [\"empty~holo4_003\",\"BG40~holo4_003\",\"FELH0600~holo4_003\",\"SDSSg~holo4_003\",\\\n",
    "                        \"empty~ronchi170lpmm\",\"BG40~ronchi170lpmm\",\"FELH0600~ronchi170lpmm\",\"SDSSg~ronchi170lpmm\",\\\n",
    "                       ]\n",
    "filterdispersername = filterdispersernames[0]\n",
    "version=\"v6.0\"  # new orientation"
   ]
  },
  {
   "cell_type": "markdown",
   "metadata": {},
   "source": [
    "# If position need to be specified add it in this dictionnary"
   ]
  },
  {
   "cell_type": "code",
   "execution_count": 4,
   "metadata": {
    "tags": []
   },
   "outputs": [],
   "source": [
    "# reconstructed / good /xpos /ypos\n",
    "\n",
    "if version == \"v6.0\":\n",
    "    info={\\\n",
    "\n",
    "          # with red filter\n",
    "          'exposure_2023031600351_postisrccd.fits':(1,1,300.,1700),\\\n",
    "         }\n",
    "        "
   ]
  },
  {
   "cell_type": "markdown",
   "metadata": {},
   "source": [
    "# Imports"
   ]
  },
  {
   "cell_type": "code",
   "execution_count": 5,
   "metadata": {
    "tags": []
   },
   "outputs": [],
   "source": [
    "import numpy as np\n",
    "import matplotlib.pyplot as plt\n",
    "%matplotlib inline\n",
    "from mpl_toolkits.axes_grid1 import make_axes_locatable\n",
    "import pandas as pd\n",
    "\n",
    "import matplotlib.ticker                         # here's where the formatter is\n",
    "import os\n",
    "import re\n",
    "\n",
    "plt.rcParams[\"figure.figsize\"] = (16,4)\n",
    "plt.rcParams[\"axes.labelsize\"] = 'xx-large'\n",
    "plt.rcParams['axes.titlesize'] = 'xx-large'\n",
    "plt.rcParams['xtick.labelsize']= 'xx-large'\n",
    "plt.rcParams['ytick.labelsize']= 'xx-large'"
   ]
  },
  {
   "cell_type": "code",
   "execution_count": 6,
   "metadata": {
    "tags": []
   },
   "outputs": [],
   "source": [
    "from astropy.io import fits"
   ]
  },
  {
   "cell_type": "code",
   "execution_count": 7,
   "metadata": {
    "tags": []
   },
   "outputs": [
    {
     "name": "stderr",
     "output_type": "stream",
     "text": [
      "/tmp/ipykernel_2309/3547059130.py:1: DeprecationWarning: the imp module is deprecated in favour of importlib; see the module's documentation for alternative uses\n",
      "  import imp\n"
     ]
    }
   ],
   "source": [
    "import imp\n",
    "MODULE_EXTENSIONS = ('.py', '.pyc', '.pyo')"
   ]
  },
  {
   "cell_type": "code",
   "execution_count": 8,
   "metadata": {
    "tags": []
   },
   "outputs": [],
   "source": [
    "def package_contents(package_name):\n",
    "    file, pathname, description = imp.find_module(package_name)\n",
    "    if file:\n",
    "        raise ImportError('Not a package: %r', package_name)\n",
    "    # Use a set because some may be both source and compiled.\n",
    "    return set([os.path.splitext(module)[0]\n",
    "        for module in os.listdir(pathname)\n",
    "        if module.endswith(MODULE_EXTENSIONS)])"
   ]
  },
  {
   "cell_type": "code",
   "execution_count": 9,
   "metadata": {
    "tags": []
   },
   "outputs": [
    {
     "data": {
      "text/plain": [
       "{'__init__',\n",
       " '_version',\n",
       " 'astrometry',\n",
       " 'config',\n",
       " 'logbook',\n",
       " 'parameters',\n",
       " 'tools'}"
      ]
     },
     "execution_count": 9,
     "metadata": {},
     "output_type": "execute_result"
    }
   ],
   "source": [
    "package_contents(\"spectractor\")"
   ]
  },
  {
   "cell_type": "code",
   "execution_count": 10,
   "metadata": {
    "tags": []
   },
   "outputs": [
    {
     "data": {
      "text/plain": [
       "{'__init__',\n",
       " 'background',\n",
       " 'chromaticpsf',\n",
       " 'dispersers',\n",
       " 'extractor',\n",
       " 'images',\n",
       " 'psf',\n",
       " 'spectroscopy',\n",
       " 'spectrum',\n",
       " 'targets'}"
      ]
     },
     "execution_count": 10,
     "metadata": {},
     "output_type": "execute_result"
    }
   ],
   "source": [
    "package_contents(\"spectractor/extractor\")"
   ]
  },
  {
   "cell_type": "markdown",
   "metadata": {},
   "source": [
    "# Initialisation"
   ]
  },
  {
   "cell_type": "code",
   "execution_count": 11,
   "metadata": {
    "tags": []
   },
   "outputs": [],
   "source": [
    "dir_logbooks=\"logbooks\""
   ]
  },
  {
   "cell_type": "code",
   "execution_count": 12,
   "metadata": {
    "tags": []
   },
   "outputs": [],
   "source": [
    "import os\n",
    "if not os.path.exists(dir_logbooks):\n",
    "    os.makedirs(dir_logbooks)"
   ]
  },
  {
   "cell_type": "markdown",
   "metadata": {},
   "source": [
    "## Get inputs files and sort them according date and number"
   ]
  },
  {
   "cell_type": "code",
   "execution_count": 13,
   "metadata": {
    "tags": []
   },
   "outputs": [],
   "source": [
    "home=os.getenv(\"HOME\")"
   ]
  },
  {
   "cell_type": "code",
   "execution_count": 14,
   "metadata": {},
   "outputs": [],
   "source": [
    "image_path=filterdispersername\n",
    "logbook_csv=os.path.join(dir_logbooks,\"auxtellogbook_\" + filterdispersername + \"_\"+ DATE +\"_\" + version + \".csv\")\n",
    "logbook_xlsx=os.path.join(dir_logbooks,\"auxtellogbook_\" + filterdispersername + \"_\" +DATE +\"_\" + version + \".xlsx\")"
   ]
  },
  {
   "cell_type": "markdown",
   "metadata": {},
   "source": [
    "# Path"
   ]
  },
  {
   "cell_type": "code",
   "execution_count": 15,
   "metadata": {},
   "outputs": [],
   "source": [
    "HOSTCC=True\n",
    "LAPTOP=False"
   ]
  },
  {
   "cell_type": "code",
   "execution_count": 16,
   "metadata": {},
   "outputs": [],
   "source": [
    "# Set path depending on which computer running (according HOSTCC)\n",
    "#/sps/lsst/groups/auxtel/data/hack_usdf/my_postisrccd_img_forspectractor_2023/empty~holo4_003\n",
    "if HOSTCC:\n",
    "    path_auxtel=\"/sps/lsst/groups/auxtel\"\n",
    "    path_spectractor=os.path.join(path_auxtel,\"softs/github/desc/Spectractor\")\n",
    "    path_spectractor_config=os.path.join(path_spectractor,\"config\")\n",
    "    #path_images=os.path.join(path_auxtel,\"data/2023/\"+filterdispersername+\"/\"+DATE)\n",
    "    path_images=os.path.join(path_auxtel,\"data/hack_usdf/my_postisrccd_img_forspectractor_2023/\"+filterdispersername+\"/\"+DATE)\n",
    "\n",
    "else:\n",
    "    if not LAPTOP:\n",
    "        #path_auxtel=\"/Users/sylvie/DATA/AuxTelData2022\"\n",
    "        path_auxtel=\"/Users/sylvie/DATA/AuxTelData2023\"\n",
    "        path_spectractor=os.path.join(path_auxtel,\"/Users/sylvie/MacOSX/GitHub/LSST/Spectractor\")\n",
    "        path_spectractor_config=os.path.join(path_spectractor,\"config\")\n",
    "        #path_images=os.path.join(path_auxtel,\"data/2022/\"+filterdispersername+\"/\"+DATE)\n",
    "        path_images=os.path.join(path_auxtel,\"data/2023/\"+filterdispersername+\"/\"+DATE)\n",
    "        \n",
    "    else:\n",
    "        #path_auxtel=\"/Users/dagoret/DATA/AuxTelData2022\"\n",
    "        path_auxtel=\"/Users/dagoret/DATA/AuxTelData2023\"\n",
    "        path_spectractor=os.path.join(path_auxtel,\"/Users/dagoret/MacOSX/GitHub/LSST/Spectractor\")\n",
    "        path_spectractor_config=os.path.join(path_spectractor,\"config\")\n",
    "        path_images=os.path.join(path_auxtel,\"data/2023/\"+filterdispersername+\"/\"+DATE)\n",
    "        "
   ]
  },
  {
   "cell_type": "markdown",
   "metadata": {},
   "source": [
    "# Check the images exists"
   ]
  },
  {
   "cell_type": "code",
   "execution_count": 17,
   "metadata": {},
   "outputs": [],
   "source": [
    "dir_images=path_images"
   ]
  },
  {
   "cell_type": "code",
   "execution_count": 18,
   "metadata": {},
   "outputs": [],
   "source": [
    "all_files=os.listdir(dir_images)"
   ]
  },
  {
   "cell_type": "code",
   "execution_count": 19,
   "metadata": {},
   "outputs": [
    {
     "data": {
      "text/plain": [
       "['exposure_2023071800378_pseudo-postisrccd.fits',\n",
       " 'exposure_2023071800379_pseudo-postisrccd.fits',\n",
       " 'exposure_2023071800369_pseudo-postisrccd.fits',\n",
       " 'exposure_2023071800374_pseudo-postisrccd.fits',\n",
       " 'exposure_2023071800373_pseudo-postisrccd.fits']"
      ]
     },
     "execution_count": 19,
     "metadata": {},
     "output_type": "execute_result"
    }
   ],
   "source": [
    "all_files"
   ]
  },
  {
   "cell_type": "code",
   "execution_count": 20,
   "metadata": {},
   "outputs": [],
   "source": [
    "all_selected_files = []\n",
    "for filename in all_files:\n",
    "    if re.search(\".fits$\",filename):\n",
    "        all_selected_files.append(filename)\n",
    "N=len(all_selected_files)"
   ]
  },
  {
   "cell_type": "code",
   "execution_count": 21,
   "metadata": {},
   "outputs": [],
   "source": [
    "all_selected_files=np.array(all_selected_files)"
   ]
  },
  {
   "cell_type": "markdown",
   "metadata": {},
   "source": [
    "### Sort files"
   ]
  },
  {
   "cell_type": "code",
   "execution_count": 22,
   "metadata": {},
   "outputs": [],
   "source": [
    "def file_tag_forsorting(filename):\n",
    "    #m=re.findall('^Cor_holo4_003_.*([0-9][0-9][0-9][0-9]-[0-9][0-9]-[0-9][0-9]_.*)[.]fits$',filename)\n",
    "    m=re.findall('exposure.*_(.*)_pseudo-postisrccd[.]fits$',filename)\n",
    "    \n",
    "    return m[0]"
   ]
  },
  {
   "cell_type": "code",
   "execution_count": 23,
   "metadata": {},
   "outputs": [
    {
     "data": {
      "text/plain": [
       "'2022031700310'"
      ]
     },
     "execution_count": 23,
     "metadata": {},
     "output_type": "execute_result"
    }
   ],
   "source": [
    "file_tag_forsorting('exposure_2022031700310_pseudo-postisrccd.fits')"
   ]
  },
  {
   "cell_type": "code",
   "execution_count": 24,
   "metadata": {},
   "outputs": [
    {
     "data": {
      "text/plain": [
       "array(['2023071800378', '2023071800379', '2023071800369', '2023071800374',\n",
       "       '2023071800373'], dtype='<U13')"
      ]
     },
     "execution_count": 24,
     "metadata": {},
     "output_type": "execute_result"
    }
   ],
   "source": [
    "#all_tags = [ file_tag_forsorting(filename)[0] for filename in all_selected_files]\n",
    "all_tags = [ file_tag_forsorting(filename) for filename in all_selected_files]\n",
    "all_tags=np.array(all_tags)\n",
    "all_tags"
   ]
  },
  {
   "cell_type": "code",
   "execution_count": 25,
   "metadata": {},
   "outputs": [],
   "source": [
    "indexes=np.argsort(all_tags)"
   ]
  },
  {
   "cell_type": "code",
   "execution_count": 26,
   "metadata": {},
   "outputs": [],
   "source": [
    "sorted_files=all_selected_files[indexes]"
   ]
  },
  {
   "cell_type": "code",
   "execution_count": 27,
   "metadata": {},
   "outputs": [
    {
     "data": {
      "text/plain": [
       "array(['exposure_2023071800369_pseudo-postisrccd.fits',\n",
       "       'exposure_2023071800373_pseudo-postisrccd.fits',\n",
       "       'exposure_2023071800374_pseudo-postisrccd.fits',\n",
       "       'exposure_2023071800378_pseudo-postisrccd.fits',\n",
       "       'exposure_2023071800379_pseudo-postisrccd.fits'], dtype='<U45')"
      ]
     },
     "execution_count": 27,
     "metadata": {},
     "output_type": "execute_result"
    }
   ],
   "source": [
    "sorted_files"
   ]
  },
  {
   "cell_type": "code",
   "execution_count": 28,
   "metadata": {},
   "outputs": [],
   "source": [
    "N=len(sorted_files)"
   ]
  },
  {
   "cell_type": "markdown",
   "metadata": {},
   "source": [
    "# Build the logbook from the headers"
   ]
  },
  {
   "cell_type": "code",
   "execution_count": 29,
   "metadata": {},
   "outputs": [],
   "source": [
    "idx=0\n",
    "#ccdir='/sps/lsst/groups/auxtel/data/2021/holo/FlipCleans'\n",
    "ccdir=dir_images\n",
    "all_dates=[]\n",
    "all_files=[]\n",
    "all_seqnum=[]\n",
    "all_subdir=[]\n",
    "all_indexes=[]\n",
    "all_targets=[]\n",
    "all_filters=[]\n",
    "all_disperser=[]\n",
    "all_airmass=[]\n",
    "all_exposures=[]\n",
    "all_focus=[]\n",
    "all_seeing=[]\n",
    "all_P=[]\n",
    "all_T=[]\n",
    "all_H=[]\n",
    "all_W=[]\n",
    "for filename in sorted_files:\n",
    "    fullfilename=os.path.join(dir_images,filename)\n",
    "    hdu = fits.open(fullfilename)\n",
    "    hdu0=hdu[0]\n",
    "    hdr0=hdu0.header \n",
    "    all_indexes.append(idx)\n",
    "    all_seqnum.append(hdr0['SEQNUM'])\n",
    "    all_files.append(filename)\n",
    "    all_subdir.append(ccdir)\n",
    "    targetname=hdr0['OBJECT']\n",
    "    all_targets.append(targetname)\n",
    "    all_dates.append(hdr0['DATE-OBS'])\n",
    "    all_airmass.append(hdr0['AMSTART'])\n",
    "    all_filters.append(hdr0['FILTER'])\n",
    "    all_disperser.append(hdr0['GRATING'])\n",
    "    all_exposures.append(hdr0['EXPTIME'])\n",
    "    all_focus.append(hdr0['FOCUSZ'])\n",
    "    all_seeing.append(hdr0['SEEING'])\n",
    "    all_P.append(hdr0['PRESSURE'])\n",
    "    all_T.append(hdr0['AIRTEMP'])\n",
    "    all_H.append(hdr0['HUMIDITY'])\n",
    "    all_W.append(hdr0['WINDSPD'])\n",
    "       \n",
    "    \n",
    "    idx+=1\n",
    "    "
   ]
  },
  {
   "cell_type": "markdown",
   "metadata": {},
   "source": [
    "# Make pandas dataframe"
   ]
  },
  {
   "cell_type": "markdown",
   "metadata": {},
   "source": [
    "## Create pandas dataframe"
   ]
  },
  {
   "cell_type": "code",
   "execution_count": 30,
   "metadata": {},
   "outputs": [],
   "source": [
    "df=pd.DataFrame()"
   ]
  },
  {
   "cell_type": "code",
   "execution_count": 31,
   "metadata": {},
   "outputs": [
    {
     "data": {
      "text/plain": [
       "5"
      ]
     },
     "execution_count": 31,
     "metadata": {},
     "output_type": "execute_result"
    }
   ],
   "source": [
    "len(all_airmass)"
   ]
  },
  {
   "cell_type": "code",
   "execution_count": 32,
   "metadata": {},
   "outputs": [],
   "source": [
    "N=len(all_indexes)"
   ]
  },
  {
   "cell_type": "markdown",
   "metadata": {},
   "source": [
    "## Fill with container info"
   ]
  },
  {
   "cell_type": "code",
   "execution_count": 33,
   "metadata": {},
   "outputs": [],
   "source": [
    "df['index']=all_indexes\n",
    "df['date']=all_dates\n",
    "df['path']=all_subdir\n",
    "df['file']=all_files\n",
    "df['num']=all_seqnum\n",
    "df['object']=all_targets\n",
    "df['filter']=all_filters\n",
    "df['disperser']=all_disperser\n",
    "df['airmass']=all_airmass\n",
    "df['exposure']=all_exposures\n",
    "df['focus']=all_focus\n",
    "df['seeing']=all_seeing\n",
    "df['pressure']=all_P\n",
    "df['temperature']=all_T\n",
    "df['humidity']=all_H\n",
    "df['windspd']=all_W"
   ]
  },
  {
   "cell_type": "markdown",
   "metadata": {},
   "source": [
    "## Add dictionnary info"
   ]
  },
  {
   "cell_type": "markdown",
   "metadata": {},
   "source": [
    "### Initialise new columns"
   ]
  },
  {
   "cell_type": "code",
   "execution_count": 34,
   "metadata": {},
   "outputs": [],
   "source": [
    "Obj_posXpix=np.full(N,np.nan)\n",
    "Obj_posYpix=np.full(N,np.nan)\n",
    "Dx=np.full(N,np.nan)\n",
    "Dy=np.full(N,np.nan)\n",
    "run=np.full(N,np.nan)\n",
    "quality=np.full(N,np.nan)\n",
    "skip=np.full(N,\"    \")"
   ]
  },
  {
   "cell_type": "markdown",
   "metadata": {},
   "source": [
    "### Fill dictionnary info"
   ]
  },
  {
   "cell_type": "code",
   "execution_count": 35,
   "metadata": {},
   "outputs": [],
   "source": [
    "# loop on rows index\n",
    "for idx in np.arange(N):\n",
    "    filename=all_files[idx]\n",
    "    # check if filename is in dictionnary\n",
    "    if filename in info.keys():\n",
    "        (run_flag,quality_flag,xpos,ypos)=info[filename]\n",
    "        Obj_posXpix[idx]=int(xpos)\n",
    "        Obj_posYpix[idx]=int(ypos)\n",
    "        run[idx]=run_flag\n",
    "        if quality_flag==1:\n",
    "            skip[idx] = \"    \"\n",
    "            quality[idx]=1\n",
    "        else:\n",
    "            skip[idx] = \"skip\"\n",
    "            quality[idx]=0"
   ]
  },
  {
   "cell_type": "code",
   "execution_count": 36,
   "metadata": {},
   "outputs": [],
   "source": [
    "df['Obj-posXpix']=Obj_posXpix\n",
    "df['Obj-posYpix']=Obj_posYpix\n",
    "df['Dx']=Dx\n",
    "df['Dy']=Dy\n",
    "df['skip']=skip\n",
    "df['run']=run\n",
    "df['quality']=quality"
   ]
  },
  {
   "cell_type": "code",
   "execution_count": 37,
   "metadata": {},
   "outputs": [],
   "source": [
    "pd.set_option('display.max_rows', None)"
   ]
  },
  {
   "cell_type": "code",
   "execution_count": 38,
   "metadata": {},
   "outputs": [
    {
     "data": {
      "text/html": [
       "<div>\n",
       "<style scoped>\n",
       "    .dataframe tbody tr th:only-of-type {\n",
       "        vertical-align: middle;\n",
       "    }\n",
       "\n",
       "    .dataframe tbody tr th {\n",
       "        vertical-align: top;\n",
       "    }\n",
       "\n",
       "    .dataframe thead th {\n",
       "        text-align: right;\n",
       "    }\n",
       "</style>\n",
       "<table border=\"1\" class=\"dataframe\">\n",
       "  <thead>\n",
       "    <tr style=\"text-align: right;\">\n",
       "      <th></th>\n",
       "      <th>index</th>\n",
       "      <th>date</th>\n",
       "      <th>path</th>\n",
       "      <th>file</th>\n",
       "      <th>num</th>\n",
       "      <th>object</th>\n",
       "      <th>filter</th>\n",
       "      <th>disperser</th>\n",
       "      <th>airmass</th>\n",
       "      <th>exposure</th>\n",
       "      <th>...</th>\n",
       "      <th>temperature</th>\n",
       "      <th>humidity</th>\n",
       "      <th>windspd</th>\n",
       "      <th>Obj-posXpix</th>\n",
       "      <th>Obj-posYpix</th>\n",
       "      <th>Dx</th>\n",
       "      <th>Dy</th>\n",
       "      <th>skip</th>\n",
       "      <th>run</th>\n",
       "      <th>quality</th>\n",
       "    </tr>\n",
       "  </thead>\n",
       "  <tbody>\n",
       "    <tr>\n",
       "      <th>0</th>\n",
       "      <td>0</td>\n",
       "      <td>2023-07-19T03:10:31.093</td>\n",
       "      <td>/sps/lsst/groups/auxtel/data/hack_usdf/my_post...</td>\n",
       "      <td>exposure_2023071800369_pseudo-postisrccd.fits</td>\n",
       "      <td>369</td>\n",
       "      <td>HD 192814</td>\n",
       "      <td>empty_1</td>\n",
       "      <td>holo4_003</td>\n",
       "      <td>1.131425</td>\n",
       "      <td>30.0</td>\n",
       "      <td>...</td>\n",
       "      <td>10.625</td>\n",
       "      <td>10.200</td>\n",
       "      <td>5.1708</td>\n",
       "      <td>NaN</td>\n",
       "      <td>NaN</td>\n",
       "      <td>NaN</td>\n",
       "      <td>NaN</td>\n",
       "      <td></td>\n",
       "      <td>NaN</td>\n",
       "      <td>NaN</td>\n",
       "    </tr>\n",
       "    <tr>\n",
       "      <th>1</th>\n",
       "      <td>1</td>\n",
       "      <td>2023-07-19T03:16:05.905</td>\n",
       "      <td>/sps/lsst/groups/auxtel/data/hack_usdf/my_post...</td>\n",
       "      <td>exposure_2023071800373_pseudo-postisrccd.fits</td>\n",
       "      <td>373</td>\n",
       "      <td>HD146233</td>\n",
       "      <td>empty_1</td>\n",
       "      <td>holo4_003</td>\n",
       "      <td>1.233171</td>\n",
       "      <td>30.0</td>\n",
       "      <td>...</td>\n",
       "      <td>10.550</td>\n",
       "      <td>10.575</td>\n",
       "      <td>4.5036</td>\n",
       "      <td>NaN</td>\n",
       "      <td>NaN</td>\n",
       "      <td>NaN</td>\n",
       "      <td>NaN</td>\n",
       "      <td></td>\n",
       "      <td>NaN</td>\n",
       "      <td>NaN</td>\n",
       "    </tr>\n",
       "    <tr>\n",
       "      <th>2</th>\n",
       "      <td>2</td>\n",
       "      <td>2023-07-19T03:16:48.816</td>\n",
       "      <td>/sps/lsst/groups/auxtel/data/hack_usdf/my_post...</td>\n",
       "      <td>exposure_2023071800374_pseudo-postisrccd.fits</td>\n",
       "      <td>374</td>\n",
       "      <td>HD146233</td>\n",
       "      <td>empty_1</td>\n",
       "      <td>holo4_003</td>\n",
       "      <td>1.235235</td>\n",
       "      <td>30.0</td>\n",
       "      <td>...</td>\n",
       "      <td>10.550</td>\n",
       "      <td>10.800</td>\n",
       "      <td>3.7530</td>\n",
       "      <td>NaN</td>\n",
       "      <td>NaN</td>\n",
       "      <td>NaN</td>\n",
       "      <td>NaN</td>\n",
       "      <td></td>\n",
       "      <td>NaN</td>\n",
       "      <td>NaN</td>\n",
       "    </tr>\n",
       "    <tr>\n",
       "      <th>3</th>\n",
       "      <td>3</td>\n",
       "      <td>2023-07-19T03:41:18.064</td>\n",
       "      <td>/sps/lsst/groups/auxtel/data/hack_usdf/my_post...</td>\n",
       "      <td>exposure_2023071800378_pseudo-postisrccd.fits</td>\n",
       "      <td>378</td>\n",
       "      <td>HD165763</td>\n",
       "      <td>empty_1</td>\n",
       "      <td>holo4_003</td>\n",
       "      <td>1.021570</td>\n",
       "      <td>30.0</td>\n",
       "      <td>...</td>\n",
       "      <td>10.600</td>\n",
       "      <td>11.450</td>\n",
       "      <td>5.0874</td>\n",
       "      <td>NaN</td>\n",
       "      <td>NaN</td>\n",
       "      <td>NaN</td>\n",
       "      <td>NaN</td>\n",
       "      <td></td>\n",
       "      <td>NaN</td>\n",
       "      <td>NaN</td>\n",
       "    </tr>\n",
       "    <tr>\n",
       "      <th>4</th>\n",
       "      <td>4</td>\n",
       "      <td>2023-07-19T03:42:01.045</td>\n",
       "      <td>/sps/lsst/groups/auxtel/data/hack_usdf/my_post...</td>\n",
       "      <td>exposure_2023071800379_pseudo-postisrccd.fits</td>\n",
       "      <td>379</td>\n",
       "      <td>HD165763</td>\n",
       "      <td>empty_1</td>\n",
       "      <td>holo4_003</td>\n",
       "      <td>1.021968</td>\n",
       "      <td>30.0</td>\n",
       "      <td>...</td>\n",
       "      <td>10.600</td>\n",
       "      <td>11.475</td>\n",
       "      <td>4.7538</td>\n",
       "      <td>NaN</td>\n",
       "      <td>NaN</td>\n",
       "      <td>NaN</td>\n",
       "      <td>NaN</td>\n",
       "      <td></td>\n",
       "      <td>NaN</td>\n",
       "      <td>NaN</td>\n",
       "    </tr>\n",
       "  </tbody>\n",
       "</table>\n",
       "<p>5 rows × 23 columns</p>\n",
       "</div>"
      ],
      "text/plain": [
       "   index                     date  \\\n",
       "0      0  2023-07-19T03:10:31.093   \n",
       "1      1  2023-07-19T03:16:05.905   \n",
       "2      2  2023-07-19T03:16:48.816   \n",
       "3      3  2023-07-19T03:41:18.064   \n",
       "4      4  2023-07-19T03:42:01.045   \n",
       "\n",
       "                                                path  \\\n",
       "0  /sps/lsst/groups/auxtel/data/hack_usdf/my_post...   \n",
       "1  /sps/lsst/groups/auxtel/data/hack_usdf/my_post...   \n",
       "2  /sps/lsst/groups/auxtel/data/hack_usdf/my_post...   \n",
       "3  /sps/lsst/groups/auxtel/data/hack_usdf/my_post...   \n",
       "4  /sps/lsst/groups/auxtel/data/hack_usdf/my_post...   \n",
       "\n",
       "                                            file  num     object   filter  \\\n",
       "0  exposure_2023071800369_pseudo-postisrccd.fits  369  HD 192814  empty_1   \n",
       "1  exposure_2023071800373_pseudo-postisrccd.fits  373   HD146233  empty_1   \n",
       "2  exposure_2023071800374_pseudo-postisrccd.fits  374   HD146233  empty_1   \n",
       "3  exposure_2023071800378_pseudo-postisrccd.fits  378   HD165763  empty_1   \n",
       "4  exposure_2023071800379_pseudo-postisrccd.fits  379   HD165763  empty_1   \n",
       "\n",
       "   disperser   airmass  exposure  ...  temperature  humidity  windspd  \\\n",
       "0  holo4_003  1.131425      30.0  ...       10.625    10.200   5.1708   \n",
       "1  holo4_003  1.233171      30.0  ...       10.550    10.575   4.5036   \n",
       "2  holo4_003  1.235235      30.0  ...       10.550    10.800   3.7530   \n",
       "3  holo4_003  1.021570      30.0  ...       10.600    11.450   5.0874   \n",
       "4  holo4_003  1.021968      30.0  ...       10.600    11.475   4.7538   \n",
       "\n",
       "   Obj-posXpix  Obj-posYpix  Dx  Dy  skip  run  quality  \n",
       "0          NaN          NaN NaN NaN        NaN      NaN  \n",
       "1          NaN          NaN NaN NaN        NaN      NaN  \n",
       "2          NaN          NaN NaN NaN        NaN      NaN  \n",
       "3          NaN          NaN NaN NaN        NaN      NaN  \n",
       "4          NaN          NaN NaN NaN        NaN      NaN  \n",
       "\n",
       "[5 rows x 23 columns]"
      ]
     },
     "execution_count": 38,
     "metadata": {},
     "output_type": "execute_result"
    }
   ],
   "source": [
    "df"
   ]
  },
  {
   "cell_type": "markdown",
   "metadata": {},
   "source": [
    "# Make logbook\n"
   ]
  },
  {
   "cell_type": "code",
   "execution_count": 39,
   "metadata": {},
   "outputs": [
    {
     "data": {
      "text/plain": [
       "5"
      ]
     },
     "execution_count": 39,
     "metadata": {},
     "output_type": "execute_result"
    }
   ],
   "source": [
    "N=len(df)\n",
    "N"
   ]
  },
  {
   "cell_type": "code",
   "execution_count": 40,
   "metadata": {},
   "outputs": [],
   "source": [
    "if N>0:\n",
    "    df.to_excel(logbook_xlsx)\n",
    "    df.to_csv(logbook_csv)"
   ]
  },
  {
   "cell_type": "code",
   "execution_count": 41,
   "metadata": {},
   "outputs": [
    {
     "data": {
      "text/plain": [
       "'logbooks/auxtellogbook_empty~holo4_003_20230718_v6.0.csv'"
      ]
     },
     "execution_count": 41,
     "metadata": {},
     "output_type": "execute_result"
    }
   ],
   "source": [
    "logbook_csv"
   ]
  },
  {
   "cell_type": "code",
   "execution_count": null,
   "metadata": {},
   "outputs": [],
   "source": []
  },
  {
   "cell_type": "code",
   "execution_count": null,
   "metadata": {},
   "outputs": [],
   "source": []
  },
  {
   "cell_type": "code",
   "execution_count": null,
   "metadata": {},
   "outputs": [],
   "source": []
  },
  {
   "cell_type": "code",
   "execution_count": null,
   "metadata": {},
   "outputs": [],
   "source": []
  }
 ],
 "metadata": {
  "kernelspec": {
   "display_name": "miniconda3_py38_auxtel",
   "language": "python",
   "name": "miniconda3_py38_auxtel"
  },
  "language_info": {
   "codemirror_mode": {
    "name": "ipython",
    "version": 3
   },
   "file_extension": ".py",
   "mimetype": "text/x-python",
   "name": "python",
   "nbconvert_exporter": "python",
   "pygments_lexer": "ipython3",
   "version": "3.8.17"
  },
  "toc": {
   "base_numbering": 1,
   "nav_menu": {},
   "number_sections": true,
   "sideBar": true,
   "skip_h1_title": false,
   "title_cell": "Table of Contents",
   "title_sidebar": "Contents",
   "toc_cell": false,
   "toc_position": {},
   "toc_section_display": true,
   "toc_window_display": false
  }
 },
 "nbformat": 4,
 "nbformat_minor": 4
}
