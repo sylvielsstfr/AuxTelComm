{
 "cells": [
  {
   "cell_type": "markdown",
   "metadata": {},
   "source": [
    "#  spectra holo at AuxTel for Scan data"
   ]
  },
  {
   "cell_type": "markdown",
   "metadata": {},
   "source": [
    "- author : Sylvie Dagoret-Campagne\n",
    "- affiliation : IJCLab/IN2P3/CNES, DESC-LSST fullmember, behalf AuxTel Teal VERA C. Rubin observatory\n",
    "- \n",
    "- creation date : March 28th  2022\n",
    "\n",
    "\n",
    "\n",
    "- **kernel anaconda3_auxtel** at CC or **python 3** locally"
   ]
  },
  {
   "cell_type": "markdown",
   "metadata": {},
   "source": [
    "# Imports"
   ]
  },
  {
   "cell_type": "code",
   "execution_count": 1,
   "metadata": {},
   "outputs": [],
   "source": [
    "import numpy as np\n",
    "import matplotlib.pyplot as plt\n",
    "%matplotlib inline\n",
    "from mpl_toolkits.axes_grid1 import make_axes_locatable\n",
    "from matplotlib.colors import LogNorm\n",
    "import pandas as pd\n",
    "\n",
    "import matplotlib.ticker                         # here's where the formatter is\n",
    "import os\n",
    "import re\n",
    "import pandas as pd\n",
    "\n",
    "plt.rcParams[\"figure.figsize\"] = (16,4)\n",
    "plt.rcParams[\"axes.labelsize\"] = 'xx-large'\n",
    "plt.rcParams['axes.titlesize'] = 'xx-large'\n",
    "plt.rcParams['xtick.labelsize']= 'xx-large'\n",
    "plt.rcParams['ytick.labelsize']= 'xx-large'"
   ]
  },
  {
   "cell_type": "code",
   "execution_count": 2,
   "metadata": {},
   "outputs": [],
   "source": [
    "import matplotlib.colors as colors\n",
    "import matplotlib.cm as cmx\n",
    "import matplotlib.gridspec as gridspec\n",
    "from matplotlib.patches import Rectangle"
   ]
  },
  {
   "cell_type": "code",
   "execution_count": 3,
   "metadata": {},
   "outputs": [
    {
     "data": {
      "image/png": "[encoded data removed]",
      "text/plain": [
       "<Figure size 360x144 with 1 Axes>"
      ]
     },
     "metadata": {
      "needs_background": "light"
     },
     "output_type": "display_data"
    }
   ],
   "source": [
    "fig=plt.figure(figsize=(5,2))\n",
    "ax=fig.add_subplot(1,1,1)\n",
    "X=np.linspace(-10,10,50)\n",
    "Y=np.sin(X)\n",
    "ax.plot(X,Y)\n",
    "plt.show()               "
   ]
  },
  {
   "cell_type": "code",
   "execution_count": 4,
   "metadata": {},
   "outputs": [],
   "source": [
    "import matplotlib.offsetbox\n",
    "props = dict(boxstyle='round',edgecolor=\"w\",facecolor=\"w\", alpha=0.5)"
   ]
  },
  {
   "cell_type": "code",
   "execution_count": 5,
   "metadata": {},
   "outputs": [],
   "source": [
    "from datetime import datetime,date"
   ]
  },
  {
   "cell_type": "code",
   "execution_count": 6,
   "metadata": {},
   "outputs": [],
   "source": [
    "today = date.today()\n",
    "string_date=today.strftime(\"%Y-%m-%d\")"
   ]
  },
  {
   "cell_type": "code",
   "execution_count": 7,
   "metadata": {},
   "outputs": [
    {
     "data": {
      "text/plain": [
       "'2022-03-29'"
      ]
     },
     "execution_count": 7,
     "metadata": {},
     "output_type": "execute_result"
    }
   ],
   "source": [
    "string_date"
   ]
  },
  {
   "cell_type": "code",
   "execution_count": 8,
   "metadata": {},
   "outputs": [],
   "source": [
    "from iminuit import Minuit\n",
    "import iminuit"
   ]
  },
  {
   "cell_type": "code",
   "execution_count": 9,
   "metadata": {},
   "outputs": [
    {
     "data": {
      "text/plain": [
       "'2.2.0'"
      ]
     },
     "execution_count": 9,
     "metadata": {},
     "output_type": "execute_result"
    }
   ],
   "source": [
    "iminuit.__version__"
   ]
  },
  {
   "cell_type": "code",
   "execution_count": 10,
   "metadata": {},
   "outputs": [],
   "source": [
    "from astropy.io import fits\n",
    "from spectractor import parameters\n",
    "from spectractor.extractor.extractor import Spectractor\n",
    "from spectractor.extractor.spectrum import Spectrum, detect_lines\n",
    "from spectractor.extractor.spectrum import *\n",
    "#from spectractor.extractor.spectroscopy import Lines, Line ,HALPHA, HBETA, O2_1, H2O_1,H2O_2\n",
    "from spectractor.extractor.spectroscopy import Lines, Line ,HALPHA, HBETA, O2_1, H2O_1, ATMOSPHERIC_LINES\n",
    "from spectractor.config import load_config\n",
    "from spectractor import parameters\n",
    "from spectractor.extractor.images import *\n",
    "from scipy import ndimage, misc\n",
    "from scipy.interpolate import interp1d"
   ]
  },
  {
   "cell_type": "code",
   "execution_count": 11,
   "metadata": {},
   "outputs": [],
   "source": [
    "H2O_2 = Line(960, atmospheric=True, label=r'$H_2 O$', label_pos=[0.007, 0.02],width_bounds=[5, 30])  # libradtran paper fig.3, broad line"
   ]
  },
  {
   "cell_type": "code",
   "execution_count": 12,
   "metadata": {},
   "outputs": [],
   "source": [
    "import requests\n",
    "from requests.adapters import HTTPAdapter\n",
    "from requests.packages.urllib3.util.retry import Retry"
   ]
  },
  {
   "cell_type": "code",
   "execution_count": 13,
   "metadata": {},
   "outputs": [],
   "source": [
    "from time import sleep"
   ]
  },
  {
   "cell_type": "code",
   "execution_count": 14,
   "metadata": {},
   "outputs": [],
   "source": [
    "from astropy.time import Time\n",
    "import astropy.units as u"
   ]
  },
  {
   "cell_type": "markdown",
   "metadata": {},
   "source": [
    "# Function"
   ]
  },
  {
   "cell_type": "code",
   "execution_count": 15,
   "metadata": {},
   "outputs": [],
   "source": [
    "def file_tag_forsorting(filename):\n",
    "    # m=re.findall('^Cor_holo4_003_.*([0-9][0-9][0-9][0-9]-[0-9][0-9]-[0-9][0-9]_.*)[.]fits$',filename)\n",
    "    m = re.findall('^exposure_.*([0-9][0-9][0-9][0-9][0-9])_postisrccd.*', filename)\n",
    "    if len(m)>0:\n",
    "        return m[0]\n",
    "    else:\n",
    "        return None\n"
   ]
  },
  {
   "cell_type": "code",
   "execution_count": 16,
   "metadata": {},
   "outputs": [],
   "source": [
    "def subdir_tag_forsorting(subdir):\n",
    "    # m=re.findall('^Cor_holo4_003_.*([0-9][0-9][0-9][0-9]-[0-9][0-9]-[0-9][0-9]_.*)[.]fits$',filename)\n",
    "    m = re.findall('.*([0-9][0-9][0-9][0-9][0-9])$', subdir)\n",
    "    if len(m)>0:\n",
    "        return m[0]\n",
    "    else:\n",
    "        return None\n"
   ]
  },
  {
   "cell_type": "code",
   "execution_count": 17,
   "metadata": {},
   "outputs": [
    {
     "data": {
      "text/plain": [
       "'00330'"
      ]
     },
     "execution_count": 17,
     "metadata": {},
     "output_type": "execute_result"
    }
   ],
   "source": [
    "file_tag_forsorting('exposure_2022031600330_postisrccd.fits')"
   ]
  },
  {
   "cell_type": "code",
   "execution_count": 18,
   "metadata": {},
   "outputs": [
    {
     "data": {
      "text/plain": [
       "'00330'"
      ]
     },
     "execution_count": 18,
     "metadata": {},
     "output_type": "execute_result"
    }
   ],
   "source": [
    "subdir_tag_forsorting('2022031600330')"
   ]
  },
  {
   "cell_type": "markdown",
   "metadata": {},
   "source": [
    "# Config"
   ]
  },
  {
   "cell_type": "code",
   "execution_count": 19,
   "metadata": {},
   "outputs": [],
   "source": [
    "# path index for each month\n",
    "DATE=\"20220316\""
   ]
  },
  {
   "cell_type": "code",
   "execution_count": 20,
   "metadata": {},
   "outputs": [],
   "source": [
    "version=\"v5.0\""
   ]
  },
  {
   "cell_type": "markdown",
   "metadata": {},
   "source": [
    "# Path"
   ]
  },
  {
   "cell_type": "code",
   "execution_count": 21,
   "metadata": {},
   "outputs": [],
   "source": [
    "HOSTCC=True"
   ]
  },
  {
   "cell_type": "code",
   "execution_count": 22,
   "metadata": {},
   "outputs": [],
   "source": [
    "# Set path depending on which computer running (according HOSTCC)\n",
    "if HOSTCC:\n",
    "    path_auxtel=\"/sps/lsst/groups/auxtel\"\n",
    "    path_spectractor=os.path.join(path_auxtel,\"softs/github/desc/Spectractor\")\n",
    "    path_spectractor_config=os.path.join(path_spectractor,\"config\")\n",
    "    path_images=os.path.join(path_auxtel,\"data/2022/holo/\"+DATE)\n",
    "    path_output_spectractor=os.path.join(path_auxtel,\"data/2022/OutputSpectractor/holo/\"+DATE)\n",
    "    \n",
    "else:\n",
    "    #path_auxtel=\"/Users/dagoret/DATA/AuxTelData2021\"\n",
    "    path_auxtel=\"/Users/sylvie/DATA/AuxTelDATA2022/2022\"\n",
    "    #path_spectractor=os.path.join(path_auxtel,\"/users/dagoret/MacOSX/github/LSST/Spectractor\")\n",
    "    path_spectractor=os.path.join(path_auxtel,\"/Users/sylvie/MacOSX/GitHub/LSST/Spectractor\")\n",
    "    path_spectractor_config=os.path.join(path_spectractor,\"config\")\n",
    "    #path_images=os.path.join(path_auxtel,\"holo/quickLookExp_v2/\"+DATE)\n",
    "    path_images=os.path.join(path_auxtel,\"holo/\"+DATE)\n",
    "    path_output_spectractor=os.path.join(path_auxtel,\"OutputSpectractor/holo/\"+DATE)\n",
    "    #path_output_spectractor=os.path.join(path_auxtel,\"holo/OutputSpectractor/\"+DATE)\n",
    "    "
   ]
  },
  {
   "cell_type": "code",
   "execution_count": 23,
   "metadata": {},
   "outputs": [
    {
     "data": {
      "text/plain": [
       "'/sps/lsst/groups/auxtel/data/2022/OutputSpectractor/holo/20220316'"
      ]
     },
     "execution_count": 23,
     "metadata": {},
     "output_type": "execute_result"
    }
   ],
   "source": [
    "path_output_spectractor"
   ]
  },
  {
   "cell_type": "code",
   "execution_count": 24,
   "metadata": {},
   "outputs": [
    {
     "name": "stdout",
     "output_type": "stream",
     "text": [
      "total 0\n",
      "drwxrws--- 1 dagoret lsst 2 Mar 24 22:28 2022031600330\n",
      "drwxrws--- 1 dagoret lsst 2 Mar 28 17:40 2022031600331\n",
      "drwxrws--- 1 dagoret lsst 2 Mar 24 20:11 2022031600351\n",
      "drwxrws--- 1 dagoret lsst 2 Mar 24 20:28 2022031600352\n",
      "drwxrws--- 1 dagoret lsst 2 Mar 24 20:42 2022031600358\n",
      "drwxrws--- 1 dagoret lsst 2 Mar 24 21:11 2022031600359\n",
      "drwxrws--- 1 dagoret lsst 2 Mar 24 21:24 2022031600365\n",
      "drwxrws--- 1 dagoret lsst 2 Mar 24 21:46 2022031600366\n"
     ]
    }
   ],
   "source": [
    "! ls -l $path_output_spectractor"
   ]
  },
  {
   "cell_type": "code",
   "execution_count": 26,
   "metadata": {},
   "outputs": [],
   "source": [
    "\n",
    "# standard configuration for spectractor\n",
    "#config = os.path.join(path_spectractor_config,\"auxtel.ini\")\n",
    "# special for scan in XY\n",
    "config=\"./config/auxtel_scanXY.ini\""
   ]
  },
  {
   "cell_type": "markdown",
   "metadata": {},
   "source": [
    "# Logbook for file selection"
   ]
  },
  {
   "cell_type": "code",
   "execution_count": 27,
   "metadata": {},
   "outputs": [],
   "source": [
    "# Logbook for scan data\n",
    "filename_logbook='logbooks/auxtelholologbook_'+DATE+'_'+ version+'.csv'"
   ]
  },
  {
   "cell_type": "code",
   "execution_count": 28,
   "metadata": {},
   "outputs": [],
   "source": [
    "df=pd.read_csv(filename_logbook,index_col=0)"
   ]
  },
  {
   "cell_type": "code",
   "execution_count": 29,
   "metadata": {},
   "outputs": [],
   "source": [
    "pd.set_option('display.max_rows', None)"
   ]
  },
  {
   "cell_type": "code",
   "execution_count": 30,
   "metadata": {},
   "outputs": [
    {
     "data": {
      "text/html": [
       "<div>\n",
       "<style scoped>\n",
       "    .dataframe tbody tr th:only-of-type {\n",
       "        vertical-align: middle;\n",
       "    }\n",
       "\n",
       "    .dataframe tbody tr th {\n",
       "        vertical-align: top;\n",
       "    }\n",
       "\n",
       "    .dataframe thead th {\n",
       "        text-align: right;\n",
       "    }\n",
       "</style>\n",
       "<table border=\"1\" class=\"dataframe\">\n",
       "  <thead>\n",
       "    <tr style=\"text-align: right;\">\n",
       "      <th></th>\n",
       "      <th>index</th>\n",
       "      <th>date</th>\n",
       "      <th>path</th>\n",
       "      <th>file</th>\n",
       "      <th>num</th>\n",
       "      <th>object</th>\n",
       "      <th>filter</th>\n",
       "      <th>disperser</th>\n",
       "      <th>airmass</th>\n",
       "      <th>exposure</th>\n",
       "      <th>...</th>\n",
       "      <th>temperature</th>\n",
       "      <th>humidity</th>\n",
       "      <th>windspd</th>\n",
       "      <th>Obj-posXpix</th>\n",
       "      <th>Obj-posYpix</th>\n",
       "      <th>Dx</th>\n",
       "      <th>Dy</th>\n",
       "      <th>skip</th>\n",
       "      <th>run</th>\n",
       "      <th>quality</th>\n",
       "    </tr>\n",
       "  </thead>\n",
       "  <tbody>\n",
       "    <tr>\n",
       "      <th>0</th>\n",
       "      <td>0</td>\n",
       "      <td>2022-03-17T01:59:37.776</td>\n",
       "      <td>/sps/lsst/groups/auxtel/data/2022/holo/20220316</td>\n",
       "      <td>exposure_2022031600330_postisrccd.fits</td>\n",
       "      <td>330</td>\n",
       "      <td>ETA DOR</td>\n",
       "      <td>empty_1</td>\n",
       "      <td>holo4_003</td>\n",
       "      <td>1.385409</td>\n",
       "      <td>20.0</td>\n",
       "      <td>...</td>\n",
       "      <td>10.6</td>\n",
       "      <td>44.0</td>\n",
       "      <td>7.2</td>\n",
       "      <td>NaN</td>\n",
       "      <td>NaN</td>\n",
       "      <td>NaN</td>\n",
       "      <td>NaN</td>\n",
       "      <td></td>\n",
       "      <td>NaN</td>\n",
       "      <td>NaN</td>\n",
       "    </tr>\n",
       "    <tr>\n",
       "      <th>1</th>\n",
       "      <td>1</td>\n",
       "      <td>2022-03-17T02:00:10.693</td>\n",
       "      <td>/sps/lsst/groups/auxtel/data/2022/holo/20220316</td>\n",
       "      <td>exposure_2022031600331_postisrccd.fits</td>\n",
       "      <td>331</td>\n",
       "      <td>ETA DOR</td>\n",
       "      <td>empty_1</td>\n",
       "      <td>holo4_003</td>\n",
       "      <td>1.386483</td>\n",
       "      <td>20.0</td>\n",
       "      <td>...</td>\n",
       "      <td>10.6</td>\n",
       "      <td>44.0</td>\n",
       "      <td>7.4</td>\n",
       "      <td>NaN</td>\n",
       "      <td>NaN</td>\n",
       "      <td>NaN</td>\n",
       "      <td>NaN</td>\n",
       "      <td></td>\n",
       "      <td>NaN</td>\n",
       "      <td>NaN</td>\n",
       "    </tr>\n",
       "    <tr>\n",
       "      <th>2</th>\n",
       "      <td>2</td>\n",
       "      <td>2022-03-17T02:03:04.275</td>\n",
       "      <td>/sps/lsst/groups/auxtel/data/2022/holo/20220316</td>\n",
       "      <td>exposure_2022031600337_postisrccd.fits</td>\n",
       "      <td>337</td>\n",
       "      <td>ETA DOR</td>\n",
       "      <td>empty_1</td>\n",
       "      <td>holo4_003</td>\n",
       "      <td>1.392269</td>\n",
       "      <td>20.0</td>\n",
       "      <td>...</td>\n",
       "      <td>10.6</td>\n",
       "      <td>43.0</td>\n",
       "      <td>7.4</td>\n",
       "      <td>NaN</td>\n",
       "      <td>NaN</td>\n",
       "      <td>NaN</td>\n",
       "      <td>NaN</td>\n",
       "      <td></td>\n",
       "      <td>NaN</td>\n",
       "      <td>NaN</td>\n",
       "    </tr>\n",
       "    <tr>\n",
       "      <th>3</th>\n",
       "      <td>3</td>\n",
       "      <td>2022-03-17T02:03:37.365</td>\n",
       "      <td>/sps/lsst/groups/auxtel/data/2022/holo/20220316</td>\n",
       "      <td>exposure_2022031600338_postisrccd.fits</td>\n",
       "      <td>338</td>\n",
       "      <td>ETA DOR</td>\n",
       "      <td>empty_1</td>\n",
       "      <td>holo4_003</td>\n",
       "      <td>1.393378</td>\n",
       "      <td>20.0</td>\n",
       "      <td>...</td>\n",
       "      <td>10.6</td>\n",
       "      <td>43.0</td>\n",
       "      <td>7.4</td>\n",
       "      <td>NaN</td>\n",
       "      <td>NaN</td>\n",
       "      <td>NaN</td>\n",
       "      <td>NaN</td>\n",
       "      <td></td>\n",
       "      <td>NaN</td>\n",
       "      <td>NaN</td>\n",
       "    </tr>\n",
       "    <tr>\n",
       "      <th>4</th>\n",
       "      <td>4</td>\n",
       "      <td>2022-03-17T02:06:31.026</td>\n",
       "      <td>/sps/lsst/groups/auxtel/data/2022/holo/20220316</td>\n",
       "      <td>exposure_2022031600344_postisrccd.fits</td>\n",
       "      <td>344</td>\n",
       "      <td>ETA DOR</td>\n",
       "      <td>empty_1</td>\n",
       "      <td>holo4_003</td>\n",
       "      <td>1.399309</td>\n",
       "      <td>20.0</td>\n",
       "      <td>...</td>\n",
       "      <td>10.5</td>\n",
       "      <td>43.0</td>\n",
       "      <td>8.2</td>\n",
       "      <td>NaN</td>\n",
       "      <td>NaN</td>\n",
       "      <td>NaN</td>\n",
       "      <td>NaN</td>\n",
       "      <td></td>\n",
       "      <td>NaN</td>\n",
       "      <td>NaN</td>\n",
       "    </tr>\n",
       "    <tr>\n",
       "      <th>5</th>\n",
       "      <td>5</td>\n",
       "      <td>2022-03-17T02:07:03.927</td>\n",
       "      <td>/sps/lsst/groups/auxtel/data/2022/holo/20220316</td>\n",
       "      <td>exposure_2022031600345_postisrccd.fits</td>\n",
       "      <td>345</td>\n",
       "      <td>ETA DOR</td>\n",
       "      <td>empty_1</td>\n",
       "      <td>holo4_003</td>\n",
       "      <td>1.400449</td>\n",
       "      <td>20.0</td>\n",
       "      <td>...</td>\n",
       "      <td>10.5</td>\n",
       "      <td>43.0</td>\n",
       "      <td>7.6</td>\n",
       "      <td>NaN</td>\n",
       "      <td>NaN</td>\n",
       "      <td>NaN</td>\n",
       "      <td>NaN</td>\n",
       "      <td></td>\n",
       "      <td>NaN</td>\n",
       "      <td>NaN</td>\n",
       "    </tr>\n",
       "    <tr>\n",
       "      <th>6</th>\n",
       "      <td>6</td>\n",
       "      <td>2022-03-17T02:11:00.681</td>\n",
       "      <td>/sps/lsst/groups/auxtel/data/2022/holo/20220316</td>\n",
       "      <td>exposure_2022031600351_postisrccd.fits</td>\n",
       "      <td>351</td>\n",
       "      <td>HD111980</td>\n",
       "      <td>empty_1</td>\n",
       "      <td>holo4_003</td>\n",
       "      <td>1.647734</td>\n",
       "      <td>20.0</td>\n",
       "      <td>...</td>\n",
       "      <td>10.5</td>\n",
       "      <td>43.0</td>\n",
       "      <td>13.1</td>\n",
       "      <td>300.0</td>\n",
       "      <td>1700.0</td>\n",
       "      <td>NaN</td>\n",
       "      <td>NaN</td>\n",
       "      <td></td>\n",
       "      <td>1.0</td>\n",
       "      <td>1.0</td>\n",
       "    </tr>\n",
       "    <tr>\n",
       "      <th>7</th>\n",
       "      <td>7</td>\n",
       "      <td>2022-03-17T02:11:33.581</td>\n",
       "      <td>/sps/lsst/groups/auxtel/data/2022/holo/20220316</td>\n",
       "      <td>exposure_2022031600352_postisrccd.fits</td>\n",
       "      <td>352</td>\n",
       "      <td>HD111980</td>\n",
       "      <td>empty_1</td>\n",
       "      <td>holo4_003</td>\n",
       "      <td>1.643280</td>\n",
       "      <td>20.0</td>\n",
       "      <td>...</td>\n",
       "      <td>10.5</td>\n",
       "      <td>43.0</td>\n",
       "      <td>13.1</td>\n",
       "      <td>NaN</td>\n",
       "      <td>NaN</td>\n",
       "      <td>NaN</td>\n",
       "      <td>NaN</td>\n",
       "      <td></td>\n",
       "      <td>NaN</td>\n",
       "      <td>NaN</td>\n",
       "    </tr>\n",
       "    <tr>\n",
       "      <th>8</th>\n",
       "      <td>8</td>\n",
       "      <td>2022-03-17T02:14:30.261</td>\n",
       "      <td>/sps/lsst/groups/auxtel/data/2022/holo/20220316</td>\n",
       "      <td>exposure_2022031600358_postisrccd.fits</td>\n",
       "      <td>358</td>\n",
       "      <td>HD111980</td>\n",
       "      <td>empty_1</td>\n",
       "      <td>holo4_003</td>\n",
       "      <td>1.619945</td>\n",
       "      <td>20.0</td>\n",
       "      <td>...</td>\n",
       "      <td>10.5</td>\n",
       "      <td>43.0</td>\n",
       "      <td>12.1</td>\n",
       "      <td>NaN</td>\n",
       "      <td>NaN</td>\n",
       "      <td>NaN</td>\n",
       "      <td>NaN</td>\n",
       "      <td></td>\n",
       "      <td>NaN</td>\n",
       "      <td>NaN</td>\n",
       "    </tr>\n",
       "    <tr>\n",
       "      <th>9</th>\n",
       "      <td>9</td>\n",
       "      <td>2022-03-17T02:15:03.181</td>\n",
       "      <td>/sps/lsst/groups/auxtel/data/2022/holo/20220316</td>\n",
       "      <td>exposure_2022031600359_postisrccd.fits</td>\n",
       "      <td>359</td>\n",
       "      <td>HD111980</td>\n",
       "      <td>empty_1</td>\n",
       "      <td>holo4_003</td>\n",
       "      <td>1.615702</td>\n",
       "      <td>20.0</td>\n",
       "      <td>...</td>\n",
       "      <td>10.5</td>\n",
       "      <td>44.0</td>\n",
       "      <td>6.9</td>\n",
       "      <td>NaN</td>\n",
       "      <td>NaN</td>\n",
       "      <td>NaN</td>\n",
       "      <td>NaN</td>\n",
       "      <td></td>\n",
       "      <td>NaN</td>\n",
       "      <td>NaN</td>\n",
       "    </tr>\n",
       "    <tr>\n",
       "      <th>10</th>\n",
       "      <td>10</td>\n",
       "      <td>2022-03-17T02:17:59.397</td>\n",
       "      <td>/sps/lsst/groups/auxtel/data/2022/holo/20220316</td>\n",
       "      <td>exposure_2022031600365_postisrccd.fits</td>\n",
       "      <td>365</td>\n",
       "      <td>HD111980</td>\n",
       "      <td>empty_1</td>\n",
       "      <td>holo4_003</td>\n",
       "      <td>1.593415</td>\n",
       "      <td>20.0</td>\n",
       "      <td>...</td>\n",
       "      <td>10.5</td>\n",
       "      <td>42.0</td>\n",
       "      <td>6.8</td>\n",
       "      <td>NaN</td>\n",
       "      <td>NaN</td>\n",
       "      <td>NaN</td>\n",
       "      <td>NaN</td>\n",
       "      <td></td>\n",
       "      <td>NaN</td>\n",
       "      <td>NaN</td>\n",
       "    </tr>\n",
       "    <tr>\n",
       "      <th>11</th>\n",
       "      <td>11</td>\n",
       "      <td>2022-03-17T02:18:32.481</td>\n",
       "      <td>/sps/lsst/groups/auxtel/data/2022/holo/20220316</td>\n",
       "      <td>exposure_2022031600366_postisrccd.fits</td>\n",
       "      <td>366</td>\n",
       "      <td>HD111980</td>\n",
       "      <td>empty_1</td>\n",
       "      <td>holo4_003</td>\n",
       "      <td>1.589327</td>\n",
       "      <td>20.0</td>\n",
       "      <td>...</td>\n",
       "      <td>10.5</td>\n",
       "      <td>42.0</td>\n",
       "      <td>6.8</td>\n",
       "      <td>NaN</td>\n",
       "      <td>NaN</td>\n",
       "      <td>NaN</td>\n",
       "      <td>NaN</td>\n",
       "      <td></td>\n",
       "      <td>NaN</td>\n",
       "      <td>NaN</td>\n",
       "    </tr>\n",
       "    <tr>\n",
       "      <th>12</th>\n",
       "      <td>12</td>\n",
       "      <td>2022-03-17T02:22:39.026</td>\n",
       "      <td>/sps/lsst/groups/auxtel/data/2022/holo/20220316</td>\n",
       "      <td>exposure_2022031600372_postisrccd.fits</td>\n",
       "      <td>372</td>\n",
       "      <td>ETA DOR</td>\n",
       "      <td>empty_1</td>\n",
       "      <td>holo4_003</td>\n",
       "      <td>1.434807</td>\n",
       "      <td>20.0</td>\n",
       "      <td>...</td>\n",
       "      <td>10.5</td>\n",
       "      <td>42.0</td>\n",
       "      <td>6.6</td>\n",
       "      <td>NaN</td>\n",
       "      <td>NaN</td>\n",
       "      <td>NaN</td>\n",
       "      <td>NaN</td>\n",
       "      <td></td>\n",
       "      <td>NaN</td>\n",
       "      <td>NaN</td>\n",
       "    </tr>\n",
       "    <tr>\n",
       "      <th>13</th>\n",
       "      <td>13</td>\n",
       "      <td>2022-03-17T02:23:12.104</td>\n",
       "      <td>/sps/lsst/groups/auxtel/data/2022/holo/20220316</td>\n",
       "      <td>exposure_2022031600373_postisrccd.fits</td>\n",
       "      <td>373</td>\n",
       "      <td>ETA DOR</td>\n",
       "      <td>empty_1</td>\n",
       "      <td>holo4_003</td>\n",
       "      <td>1.436089</td>\n",
       "      <td>20.0</td>\n",
       "      <td>...</td>\n",
       "      <td>10.4</td>\n",
       "      <td>42.0</td>\n",
       "      <td>14.9</td>\n",
       "      <td>NaN</td>\n",
       "      <td>NaN</td>\n",
       "      <td>NaN</td>\n",
       "      <td>NaN</td>\n",
       "      <td></td>\n",
       "      <td>NaN</td>\n",
       "      <td>NaN</td>\n",
       "    </tr>\n",
       "    <tr>\n",
       "      <th>14</th>\n",
       "      <td>14</td>\n",
       "      <td>2022-03-17T02:26:07.782</td>\n",
       "      <td>/sps/lsst/groups/auxtel/data/2022/holo/20220316</td>\n",
       "      <td>exposure_2022031600379_postisrccd.fits</td>\n",
       "      <td>379</td>\n",
       "      <td>ETA DOR</td>\n",
       "      <td>empty_1</td>\n",
       "      <td>holo4_003</td>\n",
       "      <td>1.443028</td>\n",
       "      <td>20.0</td>\n",
       "      <td>...</td>\n",
       "      <td>10.5</td>\n",
       "      <td>42.0</td>\n",
       "      <td>6.7</td>\n",
       "      <td>NaN</td>\n",
       "      <td>NaN</td>\n",
       "      <td>NaN</td>\n",
       "      <td>NaN</td>\n",
       "      <td></td>\n",
       "      <td>NaN</td>\n",
       "      <td>NaN</td>\n",
       "    </tr>\n",
       "    <tr>\n",
       "      <th>15</th>\n",
       "      <td>15</td>\n",
       "      <td>2022-03-17T02:26:40.735</td>\n",
       "      <td>/sps/lsst/groups/auxtel/data/2022/holo/20220316</td>\n",
       "      <td>exposure_2022031600380_postisrccd.fits</td>\n",
       "      <td>380</td>\n",
       "      <td>ETA DOR</td>\n",
       "      <td>empty_1</td>\n",
       "      <td>holo4_003</td>\n",
       "      <td>1.444342</td>\n",
       "      <td>20.0</td>\n",
       "      <td>...</td>\n",
       "      <td>10.5</td>\n",
       "      <td>42.0</td>\n",
       "      <td>6.7</td>\n",
       "      <td>NaN</td>\n",
       "      <td>NaN</td>\n",
       "      <td>NaN</td>\n",
       "      <td>NaN</td>\n",
       "      <td></td>\n",
       "      <td>NaN</td>\n",
       "      <td>NaN</td>\n",
       "    </tr>\n",
       "    <tr>\n",
       "      <th>16</th>\n",
       "      <td>16</td>\n",
       "      <td>2022-03-17T02:29:37.041</td>\n",
       "      <td>/sps/lsst/groups/auxtel/data/2022/holo/20220316</td>\n",
       "      <td>exposure_2022031600386_postisrccd.fits</td>\n",
       "      <td>386</td>\n",
       "      <td>ETA DOR</td>\n",
       "      <td>empty_1</td>\n",
       "      <td>holo4_003</td>\n",
       "      <td>1.451472</td>\n",
       "      <td>20.0</td>\n",
       "      <td>...</td>\n",
       "      <td>10.5</td>\n",
       "      <td>42.0</td>\n",
       "      <td>8.2</td>\n",
       "      <td>NaN</td>\n",
       "      <td>NaN</td>\n",
       "      <td>NaN</td>\n",
       "      <td>NaN</td>\n",
       "      <td></td>\n",
       "      <td>NaN</td>\n",
       "      <td>NaN</td>\n",
       "    </tr>\n",
       "    <tr>\n",
       "      <th>17</th>\n",
       "      <td>17</td>\n",
       "      <td>2022-03-17T02:30:10.043</td>\n",
       "      <td>/sps/lsst/groups/auxtel/data/2022/holo/20220316</td>\n",
       "      <td>exposure_2022031600387_postisrccd.fits</td>\n",
       "      <td>387</td>\n",
       "      <td>ETA DOR</td>\n",
       "      <td>empty_1</td>\n",
       "      <td>holo4_003</td>\n",
       "      <td>1.452820</td>\n",
       "      <td>20.0</td>\n",
       "      <td>...</td>\n",
       "      <td>10.5</td>\n",
       "      <td>42.0</td>\n",
       "      <td>5.5</td>\n",
       "      <td>NaN</td>\n",
       "      <td>NaN</td>\n",
       "      <td>NaN</td>\n",
       "      <td>NaN</td>\n",
       "      <td></td>\n",
       "      <td>NaN</td>\n",
       "      <td>NaN</td>\n",
       "    </tr>\n",
       "    <tr>\n",
       "      <th>18</th>\n",
       "      <td>18</td>\n",
       "      <td>2022-03-17T02:34:15.754</td>\n",
       "      <td>/sps/lsst/groups/auxtel/data/2022/holo/20220316</td>\n",
       "      <td>exposure_2022031600393_postisrccd.fits</td>\n",
       "      <td>393</td>\n",
       "      <td>HD111980</td>\n",
       "      <td>empty_1</td>\n",
       "      <td>holo4_003</td>\n",
       "      <td>1.483400</td>\n",
       "      <td>20.0</td>\n",
       "      <td>...</td>\n",
       "      <td>10.5</td>\n",
       "      <td>42.0</td>\n",
       "      <td>6.3</td>\n",
       "      <td>NaN</td>\n",
       "      <td>NaN</td>\n",
       "      <td>NaN</td>\n",
       "      <td>NaN</td>\n",
       "      <td></td>\n",
       "      <td>NaN</td>\n",
       "      <td>NaN</td>\n",
       "    </tr>\n",
       "    <tr>\n",
       "      <th>19</th>\n",
       "      <td>19</td>\n",
       "      <td>2022-03-17T02:34:48.848</td>\n",
       "      <td>/sps/lsst/groups/auxtel/data/2022/holo/20220316</td>\n",
       "      <td>exposure_2022031600394_postisrccd.fits</td>\n",
       "      <td>394</td>\n",
       "      <td>HD111980</td>\n",
       "      <td>empty_1</td>\n",
       "      <td>holo4_003</td>\n",
       "      <td>1.480042</td>\n",
       "      <td>20.0</td>\n",
       "      <td>...</td>\n",
       "      <td>10.6</td>\n",
       "      <td>42.0</td>\n",
       "      <td>6.5</td>\n",
       "      <td>NaN</td>\n",
       "      <td>NaN</td>\n",
       "      <td>NaN</td>\n",
       "      <td>NaN</td>\n",
       "      <td></td>\n",
       "      <td>NaN</td>\n",
       "      <td>NaN</td>\n",
       "    </tr>\n",
       "    <tr>\n",
       "      <th>20</th>\n",
       "      <td>20</td>\n",
       "      <td>2022-03-17T02:38:56.232</td>\n",
       "      <td>/sps/lsst/groups/auxtel/data/2022/holo/20220316</td>\n",
       "      <td>exposure_2022031600400_postisrccd.fits</td>\n",
       "      <td>400</td>\n",
       "      <td>ETA DOR</td>\n",
       "      <td>empty_1</td>\n",
       "      <td>holo4_003</td>\n",
       "      <td>1.475077</td>\n",
       "      <td>20.0</td>\n",
       "      <td>...</td>\n",
       "      <td>10.5</td>\n",
       "      <td>43.0</td>\n",
       "      <td>6.1</td>\n",
       "      <td>NaN</td>\n",
       "      <td>NaN</td>\n",
       "      <td>NaN</td>\n",
       "      <td>NaN</td>\n",
       "      <td></td>\n",
       "      <td>NaN</td>\n",
       "      <td>NaN</td>\n",
       "    </tr>\n",
       "    <tr>\n",
       "      <th>21</th>\n",
       "      <td>21</td>\n",
       "      <td>2022-03-17T02:39:29.123</td>\n",
       "      <td>/sps/lsst/groups/auxtel/data/2022/holo/20220316</td>\n",
       "      <td>exposure_2022031600401_postisrccd.fits</td>\n",
       "      <td>401</td>\n",
       "      <td>ETA DOR</td>\n",
       "      <td>empty_1</td>\n",
       "      <td>holo4_003</td>\n",
       "      <td>1.476509</td>\n",
       "      <td>20.0</td>\n",
       "      <td>...</td>\n",
       "      <td>10.5</td>\n",
       "      <td>43.0</td>\n",
       "      <td>6.1</td>\n",
       "      <td>NaN</td>\n",
       "      <td>NaN</td>\n",
       "      <td>NaN</td>\n",
       "      <td>NaN</td>\n",
       "      <td></td>\n",
       "      <td>NaN</td>\n",
       "      <td>NaN</td>\n",
       "    </tr>\n",
       "    <tr>\n",
       "      <th>22</th>\n",
       "      <td>22</td>\n",
       "      <td>2022-03-17T03:11:58.564</td>\n",
       "      <td>/sps/lsst/groups/auxtel/data/2022/holo/20220316</td>\n",
       "      <td>exposure_2022031600420_postisrccd.fits</td>\n",
       "      <td>420</td>\n",
       "      <td>HD111980</td>\n",
       "      <td>empty_1</td>\n",
       "      <td>holo4_003</td>\n",
       "      <td>1.295777</td>\n",
       "      <td>20.0</td>\n",
       "      <td>...</td>\n",
       "      <td>10.6</td>\n",
       "      <td>51.0</td>\n",
       "      <td>4.5</td>\n",
       "      <td>NaN</td>\n",
       "      <td>NaN</td>\n",
       "      <td>NaN</td>\n",
       "      <td>NaN</td>\n",
       "      <td></td>\n",
       "      <td>NaN</td>\n",
       "      <td>NaN</td>\n",
       "    </tr>\n",
       "    <tr>\n",
       "      <th>23</th>\n",
       "      <td>23</td>\n",
       "      <td>2022-03-17T03:12:31.562</td>\n",
       "      <td>/sps/lsst/groups/auxtel/data/2022/holo/20220316</td>\n",
       "      <td>exposure_2022031600421_postisrccd.fits</td>\n",
       "      <td>421</td>\n",
       "      <td>HD111980</td>\n",
       "      <td>empty_1</td>\n",
       "      <td>holo4_003</td>\n",
       "      <td>1.293586</td>\n",
       "      <td>20.0</td>\n",
       "      <td>...</td>\n",
       "      <td>10.6</td>\n",
       "      <td>51.0</td>\n",
       "      <td>4.5</td>\n",
       "      <td>NaN</td>\n",
       "      <td>NaN</td>\n",
       "      <td>NaN</td>\n",
       "      <td>NaN</td>\n",
       "      <td></td>\n",
       "      <td>NaN</td>\n",
       "      <td>NaN</td>\n",
       "    </tr>\n",
       "    <tr>\n",
       "      <th>24</th>\n",
       "      <td>24</td>\n",
       "      <td>2022-03-17T03:15:28.519</td>\n",
       "      <td>/sps/lsst/groups/auxtel/data/2022/holo/20220316</td>\n",
       "      <td>exposure_2022031600427_postisrccd.fits</td>\n",
       "      <td>427</td>\n",
       "      <td>HD111980</td>\n",
       "      <td>empty_1</td>\n",
       "      <td>holo4_003</td>\n",
       "      <td>1.282047</td>\n",
       "      <td>20.0</td>\n",
       "      <td>...</td>\n",
       "      <td>10.7</td>\n",
       "      <td>50.0</td>\n",
       "      <td>4.8</td>\n",
       "      <td>NaN</td>\n",
       "      <td>NaN</td>\n",
       "      <td>NaN</td>\n",
       "      <td>NaN</td>\n",
       "      <td></td>\n",
       "      <td>NaN</td>\n",
       "      <td>NaN</td>\n",
       "    </tr>\n",
       "    <tr>\n",
       "      <th>25</th>\n",
       "      <td>25</td>\n",
       "      <td>2022-03-17T03:16:01.707</td>\n",
       "      <td>/sps/lsst/groups/auxtel/data/2022/holo/20220316</td>\n",
       "      <td>exposure_2022031600428_postisrccd.fits</td>\n",
       "      <td>428</td>\n",
       "      <td>HD111980</td>\n",
       "      <td>empty_1</td>\n",
       "      <td>holo4_003</td>\n",
       "      <td>1.279939</td>\n",
       "      <td>20.0</td>\n",
       "      <td>...</td>\n",
       "      <td>10.7</td>\n",
       "      <td>49.0</td>\n",
       "      <td>5.1</td>\n",
       "      <td>NaN</td>\n",
       "      <td>NaN</td>\n",
       "      <td>NaN</td>\n",
       "      <td>NaN</td>\n",
       "      <td></td>\n",
       "      <td>NaN</td>\n",
       "      <td>NaN</td>\n",
       "    </tr>\n",
       "    <tr>\n",
       "      <th>26</th>\n",
       "      <td>26</td>\n",
       "      <td>2022-03-17T03:21:49.842</td>\n",
       "      <td>/sps/lsst/groups/auxtel/data/2022/holo/20220316</td>\n",
       "      <td>exposure_2022031600434_postisrccd.fits</td>\n",
       "      <td>434</td>\n",
       "      <td>HD111980</td>\n",
       "      <td>empty_1</td>\n",
       "      <td>holo4_003</td>\n",
       "      <td>1.258452</td>\n",
       "      <td>20.0</td>\n",
       "      <td>...</td>\n",
       "      <td>10.7</td>\n",
       "      <td>49.0</td>\n",
       "      <td>3.4</td>\n",
       "      <td>NaN</td>\n",
       "      <td>NaN</td>\n",
       "      <td>NaN</td>\n",
       "      <td>NaN</td>\n",
       "      <td></td>\n",
       "      <td>NaN</td>\n",
       "      <td>NaN</td>\n",
       "    </tr>\n",
       "    <tr>\n",
       "      <th>27</th>\n",
       "      <td>27</td>\n",
       "      <td>2022-03-17T03:22:22.856</td>\n",
       "      <td>/sps/lsst/groups/auxtel/data/2022/holo/20220316</td>\n",
       "      <td>exposure_2022031600435_postisrccd.fits</td>\n",
       "      <td>435</td>\n",
       "      <td>HD111980</td>\n",
       "      <td>empty_1</td>\n",
       "      <td>holo4_003</td>\n",
       "      <td>1.256483</td>\n",
       "      <td>20.0</td>\n",
       "      <td>...</td>\n",
       "      <td>10.7</td>\n",
       "      <td>49.0</td>\n",
       "      <td>3.4</td>\n",
       "      <td>NaN</td>\n",
       "      <td>NaN</td>\n",
       "      <td>NaN</td>\n",
       "      <td>NaN</td>\n",
       "      <td></td>\n",
       "      <td>NaN</td>\n",
       "      <td>NaN</td>\n",
       "    </tr>\n",
       "  </tbody>\n",
       "</table>\n",
       "<p>28 rows × 23 columns</p>\n",
       "</div>"
      ],
      "text/plain": [
       "    index                     date  \\\n",
       "0       0  2022-03-17T01:59:37.776   \n",
       "1       1  2022-03-17T02:00:10.693   \n",
       "2       2  2022-03-17T02:03:04.275   \n",
       "3       3  2022-03-17T02:03:37.365   \n",
       "4       4  2022-03-17T02:06:31.026   \n",
       "5       5  2022-03-17T02:07:03.927   \n",
       "6       6  2022-03-17T02:11:00.681   \n",
       "7       7  2022-03-17T02:11:33.581   \n",
       "8       8  2022-03-17T02:14:30.261   \n",
       "9       9  2022-03-17T02:15:03.181   \n",
       "10     10  2022-03-17T02:17:59.397   \n",
       "11     11  2022-03-17T02:18:32.481   \n",
       "12     12  2022-03-17T02:22:39.026   \n",
       "13     13  2022-03-17T02:23:12.104   \n",
       "14     14  2022-03-17T02:26:07.782   \n",
       "15     15  2022-03-17T02:26:40.735   \n",
       "16     16  2022-03-17T02:29:37.041   \n",
       "17     17  2022-03-17T02:30:10.043   \n",
       "18     18  2022-03-17T02:34:15.754   \n",
       "19     19  2022-03-17T02:34:48.848   \n",
       "20     20  2022-03-17T02:38:56.232   \n",
       "21     21  2022-03-17T02:39:29.123   \n",
       "22     22  2022-03-17T03:11:58.564   \n",
       "23     23  2022-03-17T03:12:31.562   \n",
       "24     24  2022-03-17T03:15:28.519   \n",
       "25     25  2022-03-17T03:16:01.707   \n",
       "26     26  2022-03-17T03:21:49.842   \n",
       "27     27  2022-03-17T03:22:22.856   \n",
       "\n",
       "                                               path  \\\n",
       "0   /sps/lsst/groups/auxtel/data/2022/holo/20220316   \n",
       "1   /sps/lsst/groups/auxtel/data/2022/holo/20220316   \n",
       "2   /sps/lsst/groups/auxtel/data/2022/holo/20220316   \n",
       "3   /sps/lsst/groups/auxtel/data/2022/holo/20220316   \n",
       "4   /sps/lsst/groups/auxtel/data/2022/holo/20220316   \n",
       "5   /sps/lsst/groups/auxtel/data/2022/holo/20220316   \n",
       "6   /sps/lsst/groups/auxtel/data/2022/holo/20220316   \n",
       "7   /sps/lsst/groups/auxtel/data/2022/holo/20220316   \n",
       "8   /sps/lsst/groups/auxtel/data/2022/holo/20220316   \n",
       "9   /sps/lsst/groups/auxtel/data/2022/holo/20220316   \n",
       "10  /sps/lsst/groups/auxtel/data/2022/holo/20220316   \n",
       "11  /sps/lsst/groups/auxtel/data/2022/holo/20220316   \n",
       "12  /sps/lsst/groups/auxtel/data/2022/holo/20220316   \n",
       "13  /sps/lsst/groups/auxtel/data/2022/holo/20220316   \n",
       "14  /sps/lsst/groups/auxtel/data/2022/holo/20220316   \n",
       "15  /sps/lsst/groups/auxtel/data/2022/holo/20220316   \n",
       "16  /sps/lsst/groups/auxtel/data/2022/holo/20220316   \n",
       "17  /sps/lsst/groups/auxtel/data/2022/holo/20220316   \n",
       "18  /sps/lsst/groups/auxtel/data/2022/holo/20220316   \n",
       "19  /sps/lsst/groups/auxtel/data/2022/holo/20220316   \n",
       "20  /sps/lsst/groups/auxtel/data/2022/holo/20220316   \n",
       "21  /sps/lsst/groups/auxtel/data/2022/holo/20220316   \n",
       "22  /sps/lsst/groups/auxtel/data/2022/holo/20220316   \n",
       "23  /sps/lsst/groups/auxtel/data/2022/holo/20220316   \n",
       "24  /sps/lsst/groups/auxtel/data/2022/holo/20220316   \n",
       "25  /sps/lsst/groups/auxtel/data/2022/holo/20220316   \n",
       "26  /sps/lsst/groups/auxtel/data/2022/holo/20220316   \n",
       "27  /sps/lsst/groups/auxtel/data/2022/holo/20220316   \n",
       "\n",
       "                                      file  num    object   filter  disperser  \\\n",
       "0   exposure_2022031600330_postisrccd.fits  330   ETA DOR  empty_1  holo4_003   \n",
       "1   exposure_2022031600331_postisrccd.fits  331   ETA DOR  empty_1  holo4_003   \n",
       "2   exposure_2022031600337_postisrccd.fits  337   ETA DOR  empty_1  holo4_003   \n",
       "3   exposure_2022031600338_postisrccd.fits  338   ETA DOR  empty_1  holo4_003   \n",
       "4   exposure_2022031600344_postisrccd.fits  344   ETA DOR  empty_1  holo4_003   \n",
       "5   exposure_2022031600345_postisrccd.fits  345   ETA DOR  empty_1  holo4_003   \n",
       "6   exposure_2022031600351_postisrccd.fits  351  HD111980  empty_1  holo4_003   \n",
       "7   exposure_2022031600352_postisrccd.fits  352  HD111980  empty_1  holo4_003   \n",
       "8   exposure_2022031600358_postisrccd.fits  358  HD111980  empty_1  holo4_003   \n",
       "9   exposure_2022031600359_postisrccd.fits  359  HD111980  empty_1  holo4_003   \n",
       "10  exposure_2022031600365_postisrccd.fits  365  HD111980  empty_1  holo4_003   \n",
       "11  exposure_2022031600366_postisrccd.fits  366  HD111980  empty_1  holo4_003   \n",
       "12  exposure_2022031600372_postisrccd.fits  372   ETA DOR  empty_1  holo4_003   \n",
       "13  exposure_2022031600373_postisrccd.fits  373   ETA DOR  empty_1  holo4_003   \n",
       "14  exposure_2022031600379_postisrccd.fits  379   ETA DOR  empty_1  holo4_003   \n",
       "15  exposure_2022031600380_postisrccd.fits  380   ETA DOR  empty_1  holo4_003   \n",
       "16  exposure_2022031600386_postisrccd.fits  386   ETA DOR  empty_1  holo4_003   \n",
       "17  exposure_2022031600387_postisrccd.fits  387   ETA DOR  empty_1  holo4_003   \n",
       "18  exposure_2022031600393_postisrccd.fits  393  HD111980  empty_1  holo4_003   \n",
       "19  exposure_2022031600394_postisrccd.fits  394  HD111980  empty_1  holo4_003   \n",
       "20  exposure_2022031600400_postisrccd.fits  400   ETA DOR  empty_1  holo4_003   \n",
       "21  exposure_2022031600401_postisrccd.fits  401   ETA DOR  empty_1  holo4_003   \n",
       "22  exposure_2022031600420_postisrccd.fits  420  HD111980  empty_1  holo4_003   \n",
       "23  exposure_2022031600421_postisrccd.fits  421  HD111980  empty_1  holo4_003   \n",
       "24  exposure_2022031600427_postisrccd.fits  427  HD111980  empty_1  holo4_003   \n",
       "25  exposure_2022031600428_postisrccd.fits  428  HD111980  empty_1  holo4_003   \n",
       "26  exposure_2022031600434_postisrccd.fits  434  HD111980  empty_1  holo4_003   \n",
       "27  exposure_2022031600435_postisrccd.fits  435  HD111980  empty_1  holo4_003   \n",
       "\n",
       "     airmass  exposure  ...  temperature  humidity  windspd  Obj-posXpix  \\\n",
       "0   1.385409      20.0  ...         10.6      44.0      7.2          NaN   \n",
       "1   1.386483      20.0  ...         10.6      44.0      7.4          NaN   \n",
       "2   1.392269      20.0  ...         10.6      43.0      7.4          NaN   \n",
       "3   1.393378      20.0  ...         10.6      43.0      7.4          NaN   \n",
       "4   1.399309      20.0  ...         10.5      43.0      8.2          NaN   \n",
       "5   1.400449      20.0  ...         10.5      43.0      7.6          NaN   \n",
       "6   1.647734      20.0  ...         10.5      43.0     13.1        300.0   \n",
       "7   1.643280      20.0  ...         10.5      43.0     13.1          NaN   \n",
       "8   1.619945      20.0  ...         10.5      43.0     12.1          NaN   \n",
       "9   1.615702      20.0  ...         10.5      44.0      6.9          NaN   \n",
       "10  1.593415      20.0  ...         10.5      42.0      6.8          NaN   \n",
       "11  1.589327      20.0  ...         10.5      42.0      6.8          NaN   \n",
       "12  1.434807      20.0  ...         10.5      42.0      6.6          NaN   \n",
       "13  1.436089      20.0  ...         10.4      42.0     14.9          NaN   \n",
       "14  1.443028      20.0  ...         10.5      42.0      6.7          NaN   \n",
       "15  1.444342      20.0  ...         10.5      42.0      6.7          NaN   \n",
       "16  1.451472      20.0  ...         10.5      42.0      8.2          NaN   \n",
       "17  1.452820      20.0  ...         10.5      42.0      5.5          NaN   \n",
       "18  1.483400      20.0  ...         10.5      42.0      6.3          NaN   \n",
       "19  1.480042      20.0  ...         10.6      42.0      6.5          NaN   \n",
       "20  1.475077      20.0  ...         10.5      43.0      6.1          NaN   \n",
       "21  1.476509      20.0  ...         10.5      43.0      6.1          NaN   \n",
       "22  1.295777      20.0  ...         10.6      51.0      4.5          NaN   \n",
       "23  1.293586      20.0  ...         10.6      51.0      4.5          NaN   \n",
       "24  1.282047      20.0  ...         10.7      50.0      4.8          NaN   \n",
       "25  1.279939      20.0  ...         10.7      49.0      5.1          NaN   \n",
       "26  1.258452      20.0  ...         10.7      49.0      3.4          NaN   \n",
       "27  1.256483      20.0  ...         10.7      49.0      3.4          NaN   \n",
       "\n",
       "    Obj-posYpix  Dx  Dy  skip  run  quality  \n",
       "0           NaN NaN NaN        NaN      NaN  \n",
       "1           NaN NaN NaN        NaN      NaN  \n",
       "2           NaN NaN NaN        NaN      NaN  \n",
       "3           NaN NaN NaN        NaN      NaN  \n",
       "4           NaN NaN NaN        NaN      NaN  \n",
       "5           NaN NaN NaN        NaN      NaN  \n",
       "6        1700.0 NaN NaN        1.0      1.0  \n",
       "7           NaN NaN NaN        NaN      NaN  \n",
       "8           NaN NaN NaN        NaN      NaN  \n",
       "9           NaN NaN NaN        NaN      NaN  \n",
       "10          NaN NaN NaN        NaN      NaN  \n",
       "11          NaN NaN NaN        NaN      NaN  \n",
       "12          NaN NaN NaN        NaN      NaN  \n",
       "13          NaN NaN NaN        NaN      NaN  \n",
       "14          NaN NaN NaN        NaN      NaN  \n",
       "15          NaN NaN NaN        NaN      NaN  \n",
       "16          NaN NaN NaN        NaN      NaN  \n",
       "17          NaN NaN NaN        NaN      NaN  \n",
       "18          NaN NaN NaN        NaN      NaN  \n",
       "19          NaN NaN NaN        NaN      NaN  \n",
       "20          NaN NaN NaN        NaN      NaN  \n",
       "21          NaN NaN NaN        NaN      NaN  \n",
       "22          NaN NaN NaN        NaN      NaN  \n",
       "23          NaN NaN NaN        NaN      NaN  \n",
       "24          NaN NaN NaN        NaN      NaN  \n",
       "25          NaN NaN NaN        NaN      NaN  \n",
       "26          NaN NaN NaN        NaN      NaN  \n",
       "27          NaN NaN NaN        NaN      NaN  \n",
       "\n",
       "[28 rows x 23 columns]"
      ]
     },
     "execution_count": 30,
     "metadata": {},
     "output_type": "execute_result"
    }
   ],
   "source": [
    "df"
   ]
  },
  {
   "cell_type": "markdown",
   "metadata": {},
   "source": [
    "# Selection of input file"
   ]
  },
  {
   "cell_type": "code",
   "execution_count": 31,
   "metadata": {},
   "outputs": [],
   "source": [
    "# Do not consider flag\n",
    "#df_good=df[df[\"quality\"]==1]"
   ]
  },
  {
   "cell_type": "code",
   "execution_count": 32,
   "metadata": {},
   "outputs": [],
   "source": [
    "df_good=df\n",
    "df_good[\"quality\"] = 1"
   ]
  },
  {
   "cell_type": "code",
   "execution_count": 33,
   "metadata": {},
   "outputs": [
    {
     "name": "stdout",
     "output_type": "stream",
     "text": [
      "exposure_2022031600330_postisrccd.fits\n",
      "exposure_2022031600331_postisrccd.fits\n",
      "exposure_2022031600337_postisrccd.fits\n",
      "exposure_2022031600338_postisrccd.fits\n",
      "exposure_2022031600344_postisrccd.fits\n",
      "exposure_2022031600345_postisrccd.fits\n",
      "exposure_2022031600351_postisrccd.fits\n",
      "exposure_2022031600352_postisrccd.fits\n",
      "exposure_2022031600358_postisrccd.fits\n",
      "exposure_2022031600359_postisrccd.fits\n",
      "exposure_2022031600365_postisrccd.fits\n",
      "exposure_2022031600366_postisrccd.fits\n",
      "exposure_2022031600372_postisrccd.fits\n",
      "exposure_2022031600373_postisrccd.fits\n",
      "exposure_2022031600379_postisrccd.fits\n",
      "exposure_2022031600380_postisrccd.fits\n",
      "exposure_2022031600386_postisrccd.fits\n",
      "exposure_2022031600387_postisrccd.fits\n",
      "exposure_2022031600393_postisrccd.fits\n",
      "exposure_2022031600394_postisrccd.fits\n",
      "exposure_2022031600400_postisrccd.fits\n",
      "exposure_2022031600401_postisrccd.fits\n",
      "exposure_2022031600420_postisrccd.fits\n",
      "exposure_2022031600421_postisrccd.fits\n",
      "exposure_2022031600427_postisrccd.fits\n",
      "exposure_2022031600428_postisrccd.fits\n",
      "exposure_2022031600434_postisrccd.fits\n",
      "exposure_2022031600435_postisrccd.fits\n"
     ]
    }
   ],
   "source": [
    "for spectra_file in df_good[\"file\"]:\n",
    "    print(spectra_file)"
   ]
  },
  {
   "cell_type": "markdown",
   "metadata": {},
   "source": [
    "# Selection of Spectractor output files"
   ]
  },
  {
   "cell_type": "code",
   "execution_count": 34,
   "metadata": {},
   "outputs": [],
   "source": [
    "# total number of exposures\n",
    "NBEXP=0\n",
    "# total number of exposures without dir\n",
    "NBEXPNODIR=0\n",
    "# total number of exposures with dir\n",
    "NBEXPWTHDIR=0\n",
    "# total number of exposures with plots\n",
    "NBEXPWTHPLT=0\n",
    "# total number of exposures with spectra\n",
    "NBEXPWTHSPEC=0\n",
    "\n",
    "# list of exposures\n",
    "LISTNUM=[]\n",
    "# list of exposure without dir (not run spectraction)\n",
    "LISTNUMNODIR=[]\n",
    "# list of exposure with dir (spectraction has been run)\n",
    "LISTNUMWTHDIR=[]\n",
    "# list of exposures with plots (Spectractor has run up to some point)\n",
    "LISTNUMWTHPLOTS=[]\n",
    "# list of exposures with spectraction output (Spectractor has completed)\n",
    "LISTNUMWTHSPECTR=[]\n",
    "\n",
    "# list of selected spectra path\n",
    "List_of_spectra_path=[]"
   ]
  },
  {
   "cell_type": "code",
   "execution_count": 35,
   "metadata": {},
   "outputs": [
    {
     "name": "stdout",
     "output_type": "stream",
     "text": [
      "list of subdir found  ['2022031600330', '2022031600331', '2022031600351', '2022031600352', '2022031600358', '2022031600359', '2022031600365', '2022031600366']\n",
      "00330\n",
      "---------------------------------------------\n",
      "2022031600330  \t   00330\n",
      "2022031600330 is a directory\n",
      "tagname= 00330\n",
      "dir_plots is empty\n",
      "dir_spectration is empty\n",
      "00331\n",
      "---------------------------------------------\n",
      "2022031600331  \t   00331\n",
      "2022031600331 is a directory\n",
      "tagname= 00331\n",
      "dir_plots is not empty\n",
      "dir_spectration is not empty\n",
      "00351\n",
      "---------------------------------------------\n",
      "2022031600351  \t   00351\n",
      "2022031600351 is a directory\n",
      "tagname= 00351\n",
      "dir_plots is empty\n",
      "dir_spectration is empty\n",
      "00352\n",
      "---------------------------------------------\n",
      "2022031600352  \t   00352\n",
      "2022031600352 is a directory\n",
      "tagname= 00352\n",
      "dir_plots is not empty\n",
      "dir_spectration is not empty\n",
      "00358\n",
      "---------------------------------------------\n",
      "2022031600358  \t   00358\n",
      "2022031600358 is a directory\n",
      "tagname= 00358\n",
      "dir_plots is not empty\n",
      "dir_spectration is not empty\n",
      "00359\n",
      "---------------------------------------------\n",
      "2022031600359  \t   00359\n",
      "2022031600359 is a directory\n",
      "tagname= 00359\n",
      "dir_plots is not empty\n",
      "dir_spectration is not empty\n",
      "00365\n",
      "---------------------------------------------\n",
      "2022031600365  \t   00365\n",
      "2022031600365 is a directory\n",
      "tagname= 00365\n",
      "dir_plots is not empty\n",
      "dir_spectration is not empty\n",
      "00366\n",
      "---------------------------------------------\n",
      "2022031600366  \t   00366\n",
      "2022031600366 is a directory\n",
      "tagname= 00366\n",
      "dir_plots is not empty\n",
      "dir_spectration is not empty\n",
      "-----------------------------------------------------------------\n",
      "Full list of Exposures : .......................['00330', '00331', '00351', '00352', '00358', '00359', '00365', '00366']\n",
      "Full list of Exposures without output dir: .....['00330', '00351']\n",
      "Full list of Exposures with output dir: ....... ['00331', '00352', '00358', '00359', '00365', '00366']\n",
      "Full list of Exposures with output plots: ..... ['00331', '00352', '00358', '00359', '00365', '00366']\n",
      "Full list of Exposures with output spectra: ....['00331', '00352', '00358', '00359', '00365', '00366']\n",
      "Total number of exposures : .....................8\n",
      "Total number of exposures without dir : .........2\n",
      "Total number of exposures with dir :.............6\n",
      "Total number of exposures with plots : ..........6\n",
      "Total number of exposures with spectra: .........6\n"
     ]
    }
   ],
   "source": [
    "list_of_files=os.listdir(path_output_spectractor)\n",
    "list_of_files=sorted(list_of_files)\n",
    "\n",
    "\n",
    "print(\"list of subdir found \",list_of_files)\n",
    "\n",
    "for subdir in list_of_files:\n",
    "    \n",
    "    \n",
    "    #tag = file_tag_forsorting(subdir)\n",
    "    tag = subdir_tag_forsorting(subdir)\n",
    "    \n",
    "        \n",
    "    print(tag)    \n",
    "    #if tag is not None and int(tag)<317:\n",
    "    #    continue\n",
    "    if tag is None :\n",
    "        continue\n",
    "  \n",
    "        \n",
    "        \n",
    "        \n",
    "        \n",
    "    \n",
    "    fulldir=os.path.join(path_output_spectractor,subdir)\n",
    "\n",
    "\n",
    "\n",
    "    if not os.path.isdir(fulldir):\n",
    "        \n",
    "        print(\"---------------------------------------------\")\n",
    "        print(subdir,\" \\t  \",tag)\n",
    "        print(\"{} is not a directory\".format(subdir))\n",
    "        \n",
    "\n",
    "        NBEXPNODIR+=1\n",
    "\n",
    "\n",
    "    else:\n",
    "\n",
    "        \n",
    "        print(\"---------------------------------------------\")\n",
    "        print(subdir,\" \\t  \",tag)\n",
    "        print(\"{} is a directory\".format(subdir))\n",
    "\n",
    "        tagname=subdir_tag_forsorting(subdir)\n",
    "        print(\"tagname= {}\".format(tagname))\n",
    "        #targetname=file_target(subdir)\n",
    "        #print(\"targetname= {}\".format(targetname))\n",
    "        \n",
    "\n",
    "\n",
    "\n",
    "        NBEXP += 1\n",
    "        LISTNUM.append(tagname)\n",
    "\n",
    "\n",
    "\n",
    "        dir_plots=os.path.join(fulldir,\"plots\")\n",
    "        dir_spectration = os.path.join(fulldir, \"basespec\")\n",
    "\n",
    "        flag_empty1 = True\n",
    "        flag_empty2 = True\n",
    "\n",
    "\n",
    "        if os.path.isdir(dir_plots):\n",
    "            if any(os.scandir(dir_plots)):\n",
    "                print(\"dir_plots is not empty\")\n",
    "                NBEXPWTHPLT+=1\n",
    "                LISTNUMWTHPLOTS.append(tagname)\n",
    "                flag_empty1 = False\n",
    "\n",
    "            else:\n",
    "                print(\"dir_plots is empty\")\n",
    "\n",
    "\n",
    "        if os.path.isdir(dir_spectration):\n",
    "            if any(os.scandir(dir_spectration)):\n",
    "                print(\"dir_spectration is not empty\")\n",
    "                NBEXPWTHSPEC+=1\n",
    "                LISTNUMWTHSPECTR.append(tagname)\n",
    "                flag_empty2 = False\n",
    "                List_of_spectra_path.append(dir_spectration)\n",
    "\n",
    "            else:\n",
    "                print(\"dir_spectration is empty\")\n",
    "\n",
    "        if flag_empty1 and flag_empty2 :\n",
    "            NBEXPNODIR+=1\n",
    "            LISTNUMNODIR.append(tagname)\n",
    "        else:\n",
    "            NBEXPWTHDIR += 1\n",
    "            LISTNUMWTHDIR.append(tagname)\n",
    "\n",
    "\n",
    "\n",
    "print(\"-----------------------------------------------------------------\")\n",
    "\n",
    "\n",
    "#LISTNUM=sorted(LISTNUM)\n",
    "#LISTNUMNODIR=sorted(LISTNUMNODIR)\n",
    "#LISTNUMWTHDIR=sorted(LISTNUMWTHDIR)\n",
    "#LISTNUMWTHPLOTS=sorted(LISTNUMWTHPLOTS)\n",
    "#LISTNUMWTHSPECTR=sorted(LISTNUMWTHSPECTR)\n",
    "List_of_spectra_path=sorted(List_of_spectra_path)\n",
    "\n",
    "print(\"Full list of Exposures : .......................{}\".format(LISTNUM))\n",
    "print(\"Full list of Exposures without output dir: .....{}\".format(LISTNUMNODIR))\n",
    "print(\"Full list of Exposures with output dir: ....... {}\".format(LISTNUMWTHDIR))\n",
    "print(\"Full list of Exposures with output plots: ..... {}\".format(LISTNUMWTHPLOTS))\n",
    "print(\"Full list of Exposures with output spectra: ....{}\".format(LISTNUMWTHSPECTR))\n",
    "\n",
    "\n",
    "\n",
    "\n",
    "print(\"Total number of exposures : .....................{}\".format(NBEXP))\n",
    "print(\"Total number of exposures without dir : .........{}\".format(NBEXPNODIR))\n",
    "print(\"Total number of exposures with dir :.............{}\".format(NBEXPWTHDIR))\n",
    "print(\"Total number of exposures with plots : ..........{}\".format(NBEXPWTHPLT))\n",
    "print(\"Total number of exposures with spectra: .........{}\".format(NBEXPWTHSPEC))\n"
   ]
  },
  {
   "cell_type": "code",
   "execution_count": 36,
   "metadata": {},
   "outputs": [
    {
     "name": "stdout",
     "output_type": "stream",
     "text": [
      "['/sps/lsst/groups/auxtel/data/2022/OutputSpectractor/holo/20220316/2022031600331/basespec', '/sps/lsst/groups/auxtel/data/2022/OutputSpectractor/holo/20220316/2022031600352/basespec', '/sps/lsst/groups/auxtel/data/2022/OutputSpectractor/holo/20220316/2022031600358/basespec', '/sps/lsst/groups/auxtel/data/2022/OutputSpectractor/holo/20220316/2022031600359/basespec', '/sps/lsst/groups/auxtel/data/2022/OutputSpectractor/holo/20220316/2022031600365/basespec', '/sps/lsst/groups/auxtel/data/2022/OutputSpectractor/holo/20220316/2022031600366/basespec']\n"
     ]
    }
   ],
   "source": [
    "#dir_spectra=\"outputs_reprocess\"\n",
    "print(List_of_spectra_path)"
   ]
  },
  {
   "cell_type": "code",
   "execution_count": 44,
   "metadata": {},
   "outputs": [
    {
     "name": "stdout",
     "output_type": "stream",
     "text": [
      "exposure_2022031600366_postisrccd_lines.csv\n",
      "exposure_2022031600366_postisrccd_spectrogram.fits\n",
      "exposure_2022031600366_postisrccd_spectrum.fits\n",
      "exposure_2022031600366_postisrccd_table.csv\n"
     ]
    }
   ],
   "source": [
    "! ls /sps/lsst/groups/auxtel/data/2022/OutputSpectractor/holo/20220316/2022031600366/basespec"
   ]
  },
  {
   "cell_type": "code",
   "execution_count": null,
   "metadata": {},
   "outputs": [],
   "source": []
  },
  {
   "cell_type": "code",
   "execution_count": 45,
   "metadata": {},
   "outputs": [],
   "source": [
    "all_files_spectra = []\n",
    "all_files_spectrogram = []\n",
    "all_files_lines = []\n",
    "all_files_table = []\n",
    "\n",
    "# loop on topdir\n",
    "for dir_spectra in List_of_spectra_path:\n",
    "    for filename in os.listdir(dir_spectra):\n",
    "        if re.search(\"_spectrum.fits$\",filename):\n",
    "            the_file_spectrum=os.path.join(dir_spectra,filename)\n",
    "            all_files_spectra.append(the_file_spectrum)\n",
    "            the_file_spectrogram=the_file_spectrum.replace(\"_spectrum\",\"_spectrogram\")\n",
    "            all_files_spectrogram.append(the_file_spectrogram)\n",
    "            the_file_lines=the_file_spectrum.replace(\"_spectrum.fits\",\"_lines.csv\")\n",
    "            all_files_lines.append(the_file_lines)\n",
    "            the_file_table=the_file_spectrum.replace(\"_spectrum.fits\",\"_table.csv\")\n",
    "            all_files_table.append(the_file_table)\n",
    "    "
   ]
  },
  {
   "cell_type": "code",
   "execution_count": 46,
   "metadata": {},
   "outputs": [
    {
     "data": {
      "text/plain": [
       "['/sps/lsst/groups/auxtel/data/2022/OutputSpectractor/holo/20220316/2022031600331/basespec/exposure_2022031600331_postisrccd_spectrum.fits',\n",
       " '/sps/lsst/groups/auxtel/data/2022/OutputSpectractor/holo/20220316/2022031600352/basespec/exposure_2022031600352_postisrccd_spectrum.fits',\n",
       " '/sps/lsst/groups/auxtel/data/2022/OutputSpectractor/holo/20220316/2022031600358/basespec/exposure_2022031600358_postisrccd_spectrum.fits']"
      ]
     },
     "execution_count": 46,
     "metadata": {},
     "output_type": "execute_result"
    }
   ],
   "source": [
    "all_files_spectra[:3]"
   ]
  },
  {
   "cell_type": "code",
   "execution_count": 47,
   "metadata": {},
   "outputs": [
    {
     "data": {
      "text/plain": [
       "['/sps/lsst/groups/auxtel/data/2022/OutputSpectractor/holo/20220316/2022031600331/basespec/exposure_2022031600331_postisrccd_spectrogram.fits',\n",
       " '/sps/lsst/groups/auxtel/data/2022/OutputSpectractor/holo/20220316/2022031600352/basespec/exposure_2022031600352_postisrccd_spectrogram.fits',\n",
       " '/sps/lsst/groups/auxtel/data/2022/OutputSpectractor/holo/20220316/2022031600358/basespec/exposure_2022031600358_postisrccd_spectrogram.fits']"
      ]
     },
     "execution_count": 47,
     "metadata": {},
     "output_type": "execute_result"
    }
   ],
   "source": [
    "all_files_spectrogram[:3]"
   ]
  },
  {
   "cell_type": "code",
   "execution_count": 48,
   "metadata": {},
   "outputs": [
    {
     "data": {
      "text/plain": [
       "['/sps/lsst/groups/auxtel/data/2022/OutputSpectractor/holo/20220316/2022031600331/basespec/exposure_2022031600331_postisrccd_lines.csv',\n",
       " '/sps/lsst/groups/auxtel/data/2022/OutputSpectractor/holo/20220316/2022031600352/basespec/exposure_2022031600352_postisrccd_lines.csv',\n",
       " '/sps/lsst/groups/auxtel/data/2022/OutputSpectractor/holo/20220316/2022031600358/basespec/exposure_2022031600358_postisrccd_lines.csv']"
      ]
     },
     "execution_count": 48,
     "metadata": {},
     "output_type": "execute_result"
    }
   ],
   "source": [
    "all_files_lines[:3]"
   ]
  },
  {
   "cell_type": "code",
   "execution_count": 49,
   "metadata": {},
   "outputs": [
    {
     "data": {
      "text/plain": [
       "['/sps/lsst/groups/auxtel/data/2022/OutputSpectractor/holo/20220316/2022031600331/basespec/exposure_2022031600331_postisrccd_table.csv',\n",
       " '/sps/lsst/groups/auxtel/data/2022/OutputSpectractor/holo/20220316/2022031600352/basespec/exposure_2022031600352_postisrccd_table.csv',\n",
       " '/sps/lsst/groups/auxtel/data/2022/OutputSpectractor/holo/20220316/2022031600358/basespec/exposure_2022031600358_postisrccd_table.csv']"
      ]
     },
     "execution_count": 49,
     "metadata": {},
     "output_type": "execute_result"
    }
   ],
   "source": [
    "all_files_table[:3] "
   ]
  },
  {
   "cell_type": "markdown",
   "metadata": {},
   "source": [
    "# Selection of good spectra"
   ]
  },
  {
   "cell_type": "code",
   "execution_count": 50,
   "metadata": {},
   "outputs": [],
   "source": [
    "all_good_spectra_spectrum_files = sorted(all_files_spectra)"
   ]
  },
  {
   "cell_type": "code",
   "execution_count": 51,
   "metadata": {},
   "outputs": [],
   "source": [
    "N=len(all_good_spectra_spectrum_files)\n",
    "\n",
    "# wavelength bin colors\n",
    "jet = plt.get_cmap('jet')\n",
    "cNorm = colors.Normalize(vmin=0, vmax=N)\n",
    "scalarMap = cmx.ScalarMappable(norm=cNorm, cmap=jet)\n",
    "all_colors = scalarMap.to_rgba(np.arange(N), alpha=1)"
   ]
  },
  {
   "cell_type": "code",
   "execution_count": 52,
   "metadata": {},
   "outputs": [
    {
     "data": {
      "text/plain": [
       "'exposure_2022031600366_postisrccd_table'"
      ]
     },
     "execution_count": 52,
     "metadata": {},
     "output_type": "execute_result"
    }
   ],
   "source": [
    "filename.split(\".\")[0]"
   ]
  },
  {
   "cell_type": "code",
   "execution_count": 53,
   "metadata": {},
   "outputs": [
    {
     "name": "stdout",
     "output_type": "stream",
     "text": [
      "0 ) exposure_2022031600331_postisrccd_spectrum.fits   /sps/lsst/groups/auxtel/data/2022/OutputSpectractor/holo/20220316/2022031600331/basespec/exposure_2022031600331_postisrccd_spectrum.fits\n"
     ]
    },
    {
     "name": "stderr",
     "output_type": "stream",
     "text": [
      "/sps/lsst/groups/auxtel/softs/utils/anaconda3/lib/python3.8/site-packages/secretstorage/dhcrypto.py:16: CryptographyDeprecationWarning: int_from_bytes is deprecated, use int.from_bytes instead\n",
      "  from cryptography.utils import int_from_bytes\n",
      "/sps/lsst/groups/auxtel/softs/utils/anaconda3/lib/python3.8/site-packages/secretstorage/util.py:25: CryptographyDeprecationWarning: int_from_bytes is deprecated, use int.from_bytes instead\n",
      "  from cryptography.utils import int_from_bytes\n"
     ]
    },
    {
     "name": "stdout",
     "output_type": "stream",
     "text": [
      "target_name = etador, Selected object name for Simbad : ETA1 DOR\n",
      "  MAIN_ID         RA           DEC      ...  Z_VALUE  SCRIPT_NUMBER_ID\n",
      "               \"h:m:s\"       \"d:m:s\"    ...                           \n",
      "----------- ------------- ------------- ... --------- ----------------\n",
      "* eta01 Dor 06 06 09.3817 -66 02 22.635 ... 0.0000590                1\n"
     ]
    },
    {
     "ename": "KeyError",
     "evalue": "\"Keyword 'HA' not found.\"",
     "output_type": "error",
     "traceback": [
      "\u001b[0;31m---------------------------------------------------------------------------\u001b[0m",
      "\u001b[0;31mKeyError\u001b[0m                                  Traceback (most recent call last)",
      "Input \u001b[0;32mIn [53]\u001b[0m, in \u001b[0;36m<module>\u001b[0;34m\u001b[0m\n\u001b[1;32m     19\u001b[0m tag\u001b[38;5;241m=\u001b[39mfile_tag_forsorting(filename\u001b[38;5;241m.\u001b[39msplit(\u001b[38;5;124m\"\u001b[39m\u001b[38;5;124m.\u001b[39m\u001b[38;5;124m\"\u001b[39m)[\u001b[38;5;241m0\u001b[39m])\n\u001b[1;32m     20\u001b[0m all_num\u001b[38;5;241m.\u001b[39mappend(tag)\n\u001b[0;32m---> 24\u001b[0m s\u001b[38;5;241m=\u001b[39m\u001b[43mSpectrum\u001b[49m\u001b[43m(\u001b[49m\u001b[43mfullfilename\u001b[49m\u001b[43m,\u001b[49m\u001b[43m \u001b[49m\u001b[43mconfig\u001b[49m\u001b[38;5;241;43m=\u001b[39;49m\u001b[43mconfig\u001b[49m\u001b[43m,\u001b[49m\u001b[43mfast_load\u001b[49m\u001b[38;5;241;43m=\u001b[39;49m\u001b[38;5;28;43;01mFalse\u001b[39;49;00m\u001b[43m)\u001b[49m\n\u001b[1;32m     25\u001b[0m label\u001b[38;5;241m=\u001b[39mfilename\u001b[38;5;241m.\u001b[39msplit(\u001b[38;5;124m'\u001b[39m\u001b[38;5;124m.\u001b[39m\u001b[38;5;124m'\u001b[39m)[\u001b[38;5;241m0\u001b[39m]\u001b[38;5;241m+\u001b[39m\u001b[38;5;124m\"\u001b[39m\u001b[38;5;124m \u001b[39m\u001b[38;5;124m\"\u001b[39m\n\u001b[1;32m     26\u001b[0m s\u001b[38;5;241m.\u001b[39mplot_spectrum(ax\u001b[38;5;241m=\u001b[39max1,force_lines\u001b[38;5;241m=\u001b[39m\u001b[38;5;28;01mTrue\u001b[39;00m,label\u001b[38;5;241m=\u001b[39mlabel)\n",
      "File \u001b[0;32m/sps/lsst/groups/auxtel/softs/utils/anaconda3/lib/python3.8/site-packages/Spectractor-2.1-py3.8.egg/spectractor/extractor/spectrum.py:208\u001b[0m, in \u001b[0;36mSpectrum.__init__\u001b[0;34m(self, file_name, image, order, target, config, fast_load)\u001b[0m\n\u001b[1;32m    206\u001b[0m \u001b[38;5;28mself\u001b[39m\u001b[38;5;241m.\u001b[39mfilename \u001b[38;5;241m=\u001b[39m file_name\n\u001b[1;32m    207\u001b[0m \u001b[38;5;28;01mif\u001b[39;00m file_name \u001b[38;5;241m!=\u001b[39m \u001b[38;5;124m\"\u001b[39m\u001b[38;5;124m\"\u001b[39m:\n\u001b[0;32m--> 208\u001b[0m     \u001b[38;5;28;43mself\u001b[39;49m\u001b[38;5;241;43m.\u001b[39;49m\u001b[43mload_spectrum\u001b[49m\u001b[43m(\u001b[49m\u001b[43mfile_name\u001b[49m\u001b[43m)\u001b[49m\n\u001b[1;32m    209\u001b[0m \u001b[38;5;28;01mif\u001b[39;00m image \u001b[38;5;129;01mis\u001b[39;00m \u001b[38;5;129;01mnot\u001b[39;00m \u001b[38;5;28;01mNone\u001b[39;00m:\n\u001b[1;32m    210\u001b[0m     \u001b[38;5;28mself\u001b[39m\u001b[38;5;241m.\u001b[39mheader \u001b[38;5;241m=\u001b[39m image\u001b[38;5;241m.\u001b[39mheader\n",
      "File \u001b[0;32m/sps/lsst/groups/auxtel/softs/utils/anaconda3/lib/python3.8/site-packages/Spectractor-2.1-py3.8.egg/spectractor/extractor/spectrum.py:597\u001b[0m, in \u001b[0;36mSpectrum.load_spectrum\u001b[0;34m(self, input_file_name)\u001b[0m\n\u001b[1;32m    595\u001b[0m \u001b[38;5;28;01mif\u001b[39;00m \u001b[38;5;124m'\u001b[39m\u001b[38;5;124mDEC\u001b[39m\u001b[38;5;124m'\u001b[39m \u001b[38;5;129;01min\u001b[39;00m \u001b[38;5;28mself\u001b[39m\u001b[38;5;241m.\u001b[39mheader \u001b[38;5;129;01mand\u001b[39;00m \u001b[38;5;28mself\u001b[39m\u001b[38;5;241m.\u001b[39mheader[\u001b[38;5;124m'\u001b[39m\u001b[38;5;124mDEC\u001b[39m\u001b[38;5;124m'\u001b[39m] \u001b[38;5;241m!=\u001b[39m \u001b[38;5;124m\"\u001b[39m\u001b[38;5;124m\"\u001b[39m:\n\u001b[1;32m    596\u001b[0m     \u001b[38;5;28mself\u001b[39m\u001b[38;5;241m.\u001b[39mdec \u001b[38;5;241m=\u001b[39m \u001b[38;5;28mself\u001b[39m\u001b[38;5;241m.\u001b[39mheader[\u001b[38;5;124m'\u001b[39m\u001b[38;5;124mDEC\u001b[39m\u001b[38;5;124m'\u001b[39m]\n\u001b[0;32m--> 597\u001b[0m \u001b[38;5;28;01mif\u001b[39;00m \u001b[38;5;124m'\u001b[39m\u001b[38;5;124mRA\u001b[39m\u001b[38;5;124m'\u001b[39m \u001b[38;5;129;01min\u001b[39;00m \u001b[38;5;28mself\u001b[39m\u001b[38;5;241m.\u001b[39mheader \u001b[38;5;129;01mand\u001b[39;00m \u001b[38;5;28;43mself\u001b[39;49m\u001b[38;5;241;43m.\u001b[39;49m\u001b[43mheader\u001b[49m\u001b[43m[\u001b[49m\u001b[38;5;124;43m'\u001b[39;49m\u001b[38;5;124;43mHA\u001b[39;49m\u001b[38;5;124;43m'\u001b[39;49m\u001b[43m]\u001b[49m \u001b[38;5;241m!=\u001b[39m \u001b[38;5;124m\"\u001b[39m\u001b[38;5;124m\"\u001b[39m:\n\u001b[1;32m    598\u001b[0m     \u001b[38;5;28mself\u001b[39m\u001b[38;5;241m.\u001b[39mhour_angle \u001b[38;5;241m=\u001b[39m \u001b[38;5;28mself\u001b[39m\u001b[38;5;241m.\u001b[39mheader[\u001b[38;5;124m'\u001b[39m\u001b[38;5;124mHA\u001b[39m\u001b[38;5;124m'\u001b[39m]\n\u001b[1;32m    599\u001b[0m \u001b[38;5;28;01mif\u001b[39;00m \u001b[38;5;124m'\u001b[39m\u001b[38;5;124mOUTTEMP\u001b[39m\u001b[38;5;124m'\u001b[39m \u001b[38;5;129;01min\u001b[39;00m \u001b[38;5;28mself\u001b[39m\u001b[38;5;241m.\u001b[39mheader \u001b[38;5;129;01mand\u001b[39;00m \u001b[38;5;28mself\u001b[39m\u001b[38;5;241m.\u001b[39mheader[\u001b[38;5;124m'\u001b[39m\u001b[38;5;124mOUTTEMP\u001b[39m\u001b[38;5;124m'\u001b[39m] \u001b[38;5;241m!=\u001b[39m \u001b[38;5;124m\"\u001b[39m\u001b[38;5;124m\"\u001b[39m:\n",
      "File \u001b[0;32m/sps/lsst/groups/auxtel/softs/utils/anaconda3/lib/python3.8/site-packages/astropy/io/fits/header.py:151\u001b[0m, in \u001b[0;36mHeader.__getitem__\u001b[0;34m(self, key)\u001b[0m\n\u001b[1;32m    148\u001b[0m \u001b[38;5;28;01melse\u001b[39;00m:\n\u001b[1;32m    149\u001b[0m     keyword \u001b[38;5;241m=\u001b[39m key\n\u001b[0;32m--> 151\u001b[0m card \u001b[38;5;241m=\u001b[39m \u001b[38;5;28mself\u001b[39m\u001b[38;5;241m.\u001b[39m_cards[\u001b[38;5;28;43mself\u001b[39;49m\u001b[38;5;241;43m.\u001b[39;49m\u001b[43m_cardindex\u001b[49m\u001b[43m(\u001b[49m\u001b[43mkey\u001b[49m\u001b[43m)\u001b[49m]\n\u001b[1;32m    153\u001b[0m \u001b[38;5;28;01mif\u001b[39;00m card\u001b[38;5;241m.\u001b[39mfield_specifier \u001b[38;5;129;01mis\u001b[39;00m \u001b[38;5;129;01mnot\u001b[39;00m \u001b[38;5;28;01mNone\u001b[39;00m \u001b[38;5;129;01mand\u001b[39;00m keyword \u001b[38;5;241m==\u001b[39m card\u001b[38;5;241m.\u001b[39mrawkeyword:\n\u001b[1;32m    154\u001b[0m     \u001b[38;5;66;03m# This is RVKC; if only the top-level keyword was specified return\u001b[39;00m\n\u001b[1;32m    155\u001b[0m     \u001b[38;5;66;03m# the raw value, not the parsed out float value\u001b[39;00m\n\u001b[1;32m    156\u001b[0m     \u001b[38;5;28;01mreturn\u001b[39;00m card\u001b[38;5;241m.\u001b[39mrawvalue\n",
      "File \u001b[0;32m/sps/lsst/groups/auxtel/softs/utils/anaconda3/lib/python3.8/site-packages/astropy/io/fits/header.py:1711\u001b[0m, in \u001b[0;36mHeader._cardindex\u001b[0;34m(self, key)\u001b[0m\n\u001b[1;32m   1708\u001b[0m         indices \u001b[38;5;241m=\u001b[39m \u001b[38;5;28mself\u001b[39m\u001b[38;5;241m.\u001b[39m_rvkc_indices\u001b[38;5;241m.\u001b[39mget(keyword, \u001b[38;5;28;01mNone\u001b[39;00m)\n\u001b[1;32m   1710\u001b[0m \u001b[38;5;28;01mif\u001b[39;00m \u001b[38;5;129;01mnot\u001b[39;00m indices:\n\u001b[0;32m-> 1711\u001b[0m     \u001b[38;5;28;01mraise\u001b[39;00m \u001b[38;5;167;01mKeyError\u001b[39;00m(\u001b[38;5;124mf\u001b[39m\u001b[38;5;124m\"\u001b[39m\u001b[38;5;124mKeyword \u001b[39m\u001b[38;5;132;01m{\u001b[39;00mkeyword\u001b[38;5;132;01m!r}\u001b[39;00m\u001b[38;5;124m not found.\u001b[39m\u001b[38;5;124m\"\u001b[39m)\n\u001b[1;32m   1713\u001b[0m \u001b[38;5;28;01mtry\u001b[39;00m:\n\u001b[1;32m   1714\u001b[0m     \u001b[38;5;28;01mreturn\u001b[39;00m indices[n]\n",
      "\u001b[0;31mKeyError\u001b[0m: \"Keyword 'HA' not found.\""
     ]
    },
    {
     "data": {
      "image/png": "[encoded data removed]",
      "text/plain": [
       "<Figure size 1152x288 with 1 Axes>"
      ]
     },
     "metadata": {
      "needs_background": "light"
     },
     "output_type": "display_data"
    }
   ],
   "source": [
    "parameters.DISPLAY=False\n",
    "\n",
    "infos = []\n",
    "all_lambdas=[]\n",
    "all_data=[]\n",
    "all_num=[]\n",
    "\n",
    "idx=0\n",
    "for fullfilename in all_good_spectra_spectrum_files:\n",
    "    \n",
    "    filename = os.path.basename(fullfilename)\n",
    "    print(idx,\")\",filename,\" \",fullfilename)\n",
    "    \n",
    "    \n",
    "    fig=plt.figure(figsize=(16,4))\n",
    "    ax1 = fig.add_subplot(1, 2, 1)\n",
    "    \n",
    "    filename= os.path.basename(fullfilename)\n",
    "    tag=file_tag_forsorting(filename.split(\".\")[0])\n",
    "    all_num.append(tag)\n",
    "    \n",
    "   \n",
    "     \n",
    "    s=Spectrum(fullfilename, config=config,fast_load=False)\n",
    "    label=filename.split('.')[0]+\" \"\n",
    "    s.plot_spectrum(ax=ax1,force_lines=True,label=label)\n",
    "    \n",
    "    all_lambdas.append(s.lambdas)\n",
    "    all_data.append(s.data)\n",
    "    \n",
    "    ax2 = fig.add_subplot(1, 2, 2)\n",
    "    \n",
    "    fullfilename2=all_files_spectrogram[idx]\n",
    "    \n",
    "    s.load_spectrogram(fullfilename2)\n",
    "    s.plot_spectrogram(ax=ax2,scale=\"log\")\n",
    "    \n",
    "    \n",
    "    infos.append([idx,s.date_obs,s.airmass,s.temperature,s.pressure,s.humidity])\n",
    "    \n",
    "    \n",
    "    plt.show()\n",
    "    idx+=1\n",
    "    "
   ]
  },
  {
   "cell_type": "code",
   "execution_count": null,
   "metadata": {},
   "outputs": [],
   "source": [
    "fig=plt.figure(figsize=(18,16))\n",
    "ax=fig.add_subplot(1,1,1)\n",
    "\n",
    "idx=0\n",
    "for fullfilename in all_good_spectra_spectrum_files:\n",
    "    \n",
    "    filename= os.path.basename(fullfilename)\n",
    "         \n",
    "    #s=Spectrum(fullfilename, config=config,fast_load=False)\n",
    "    label=filename.split('.')[0]+\" \"\n",
    "    label=all_num[idx]\n",
    "    \n",
    "    \n",
    "    \n",
    "    delta=idx*1.0e-13\n",
    "    #delta=0\n",
    "    \n",
    "    if label not in [\"000284\",\"000276\",\"000289\",\"000291\"] :\n",
    "        ax.plot(all_lambdas[idx],all_data[idx]+delta,label=label,color=all_colors[idx])\n",
    "        plt.text(250.,all_data[idx][0]+delta, f'{label}',color=all_colors[idx],fontsize=10)\n",
    "    \n",
    "    idx+=1\n",
    "ax.set_xlabel(\"$\\\\lambda$ (nm)\")\n",
    "ax.set_ylabel(\"Flux (erg/cm^2/s/nm)\")\n",
    "ax.set_xlim(250.,1100)\n",
    "ax.grid()\n",
    "ax.legend(bbox_to_anchor=(1.04, 1), prop={'size': 10}, loc='upper left')\n",
    "ax.set_title(\"Hologram, spectrum of HD160617 : Narrow + Wide scan of night 2021-07-07\")\n",
    "plt.show()\n",
    "    "
   ]
  },
  {
   "cell_type": "markdown",
   "metadata": {},
   "source": [
    "# Narrow scan dataset"
   ]
  },
  {
   "cell_type": "code",
   "execution_count": null,
   "metadata": {},
   "outputs": [],
   "source": [
    "idx=0\n",
    "all_num_nr = []\n",
    "all_lambdas_nr = []\n",
    "all_data_nr = []\n",
    "\n",
    "for fullfilename in all_good_spectra_spectrum_files:\n",
    "    \n",
    "    \n",
    "    if all_num[idx] >= '000317':\n",
    "        all_num_nr.append(all_num[idx])\n",
    "        all_lambdas_nr.append(all_lambdas[idx]) \n",
    "        all_data_nr.append(all_data[idx])\n",
    "        \n",
    "    idx+=1\n",
    "        \n",
    "    "
   ]
  },
  {
   "cell_type": "code",
   "execution_count": null,
   "metadata": {},
   "outputs": [],
   "source": [
    "def PlotSpectra(all_wl,all_spec,all_tag,delta=0, \n",
    "                thetitle=\"Hologram, spectrum of HD160617 : Narrow  scan of night 2021-07-07\", \n",
    "                thexlabel=\"$\\\\lambda$ (nm)\",theylabel=\"Flux (erg/cm^2/s/nm)\",figsize=(14,8)):\n",
    "    \"\"\"\n",
    "    \"\"\"\n",
    "    \n",
    "    NN=len(all_wl)\n",
    "    \n",
    "    # wavelength bin colors\n",
    "    jet = plt.get_cmap('jet')\n",
    "    cNorm = colors.Normalize(vmin=0, vmax=NN)\n",
    "    scalarMap = cmx.ScalarMappable(norm=cNorm, cmap=jet)\n",
    "    all_colors = scalarMap.to_rgba(np.arange(NN), alpha=1)\n",
    "    \n",
    "    \n",
    "    fig=plt.figure(figsize=figsize)\n",
    "    ax=fig.add_subplot(1,1,1)\n",
    "    \n",
    "    idx=0\n",
    "    for idx in range(NN):\n",
    "        \n",
    "        label=all_tag[idx]\n",
    "        ax.plot(all_wl[idx],all_spec[idx]+delta,label=label,color=all_colors[idx])\n",
    "        if delta !=0:\n",
    "            plt.text(250.,all_spec[idx][0]+delta, f'{label}',color=all_colors[idx],fontsize=10)\n",
    "        \n",
    "    ax.set_xlabel(thexlabel)\n",
    "    ax.set_ylabel(theylabel)\n",
    "    ax.set_xlim(250.,1100)\n",
    "    ax.grid()\n",
    "    ax.legend(bbox_to_anchor=(1.04, 1), prop={'size': 10}, loc='upper left')\n",
    "    ax.set_title(thetitle)\n",
    "    plt.show()\n",
    "        \n",
    "    \n",
    "    "
   ]
  },
  {
   "cell_type": "code",
   "execution_count": null,
   "metadata": {},
   "outputs": [],
   "source": [
    "PlotSpectra(all_lambdas_nr,all_data_nr,all_num_nr)"
   ]
  },
  {
   "cell_type": "code",
   "execution_count": null,
   "metadata": {},
   "outputs": [],
   "source": [
    "def PlotSpectraBoth(all_wl,all_spec,all_tag,delta=0, \n",
    "                thetitle=\"Hologram, spectrum of HD160617 : Narrow  scan of night 2021-07-07\", \n",
    "                thexlabel=\"$\\\\lambda$ (nm)\",theylabel=\"Flux (erg/cm^2/s/nm)\",figsize=(12,12)):\n",
    "    \"\"\"\n",
    "    \"\"\"\n",
    "    \n",
    "    NN=len(all_wl)\n",
    "    \n",
    "    # wavelength bin colors\n",
    "    jet = plt.get_cmap('jet')\n",
    "    cNorm = colors.Normalize(vmin=0, vmax=NN)\n",
    "    scalarMap = cmx.ScalarMappable(norm=cNorm, cmap=jet)\n",
    "    all_colors = scalarMap.to_rgba(np.arange(NN), alpha=1)\n",
    "    \n",
    "    \n",
    "    fig=plt.figure(figsize=figsize)\n",
    "    \n",
    "    gs = gridspec.GridSpec(2, 1,height_ratios=[1, 3] ,figure=fig)\n",
    "    \n",
    "    #ax=fig.add_subplot(2,1,1)\n",
    "    ax=fig.add_subplot(gs[0,0])\n",
    "    \n",
    "    idx=0\n",
    "    delta=0\n",
    "    for idx in range(NN):\n",
    "        \n",
    "        label=all_tag[idx]\n",
    "        ax.plot(all_wl[idx],all_spec[idx]+delta,label=label,color=all_colors[idx])\n",
    "        if delta !=0:\n",
    "            ax.plot(all_lambdas[idx],all_data[idx]+delta,label=label,color=all_colors[idx])\n",
    "            plt.text(250.,all_spec[idx][0]+delta, f'{label}',color=all_colors[idx],fontsize=10)\n",
    "            \n",
    "        \n",
    "    #ax.set_xlabel(thexlabel)\n",
    "    ax.set_ylabel(theylabel)\n",
    "    ax.set_xlim(250.,1100)\n",
    "    ax.grid()\n",
    "    #ax.legend(bbox_to_anchor=(1.04, 1), prop={'size': 10}, loc='upper left')\n",
    "    ax.set_title(\"superimposed spectra\")\n",
    "    \n",
    "    #ax=fig.add_subplot(2,1,2)\n",
    "    ax=fig.add_subplot(gs[1,0])\n",
    "    \n",
    "    \n",
    "    idx=0\n",
    "    for idx in range(NN):\n",
    "        \n",
    "        delta=idx*0.5e-13\n",
    "        \n",
    "        label=all_tag[idx]\n",
    "        \n",
    "        if delta ==0:\n",
    "            \n",
    "            ax.plot(all_wl[idx],all_spec[idx]+delta,label=label,color=all_colors[idx])\n",
    "            plt.text(250.,all_spec[idx][0]+delta, f'{label}',color=all_colors[idx],fontsize=10)\n",
    "        elif delta !=0:\n",
    "            plt.text(250.,all_spec[idx][0]+delta, f'{label}',color=all_colors[idx],fontsize=10)\n",
    "            ax.plot(all_wl[idx],all_spec[idx]+delta,label=label,color=all_colors[idx])\n",
    "        \n",
    "    ax.set_xlabel(thexlabel)\n",
    "    ax.set_ylabel(theylabel)\n",
    "    ax.set_xlim(250.,1100)\n",
    "    ax.grid()\n",
    "    #ax.legend(bbox_to_anchor=(1.04, 1), prop={'size': 10}, loc='upper left')\n",
    "    ax.set_title(\"shifted spectra\")\n",
    "    \n",
    "    \n",
    "    plt.suptitle(thetitle,y=0.95,fontsize=20,fontweight=\"bold\")\n",
    "    #plt.tight_layout()\n",
    "    plt.show()\n",
    "        \n",
    "    \n",
    "    "
   ]
  },
  {
   "cell_type": "code",
   "execution_count": null,
   "metadata": {},
   "outputs": [],
   "source": [
    "PlotSpectraBoth(all_lambdas_nr,all_data_nr,all_num_nr)"
   ]
  },
  {
   "cell_type": "code",
   "execution_count": null,
   "metadata": {},
   "outputs": [],
   "source": [
    "idx=0\n",
    "for num in all_num:\n",
    "    if num == \"000335\":\n",
    "        print(idx,\" \",num)\n",
    "        idx0=idx\n",
    "    idx+=1\n",
    "idx0"
   ]
  },
  {
   "cell_type": "code",
   "execution_count": null,
   "metadata": {},
   "outputs": [],
   "source": [
    "idx=0\n",
    "for num in all_num_nr:\n",
    "    if num == \"000335\":\n",
    "        print(idx,\" \",num)\n",
    "        idx0=idx\n",
    "    idx+=1\n",
    "idx0"
   ]
  },
  {
   "cell_type": "code",
   "execution_count": null,
   "metadata": {},
   "outputs": [],
   "source": [
    "idx_ref=15"
   ]
  },
  {
   "cell_type": "code",
   "execution_count": null,
   "metadata": {},
   "outputs": [],
   "source": [
    "from scipy.signal import savgol_filter"
   ]
  },
  {
   "cell_type": "code",
   "execution_count": null,
   "metadata": {},
   "outputs": [],
   "source": [
    "wl=np.arange(380,1000)"
   ]
  },
  {
   "cell_type": "code",
   "execution_count": null,
   "metadata": {},
   "outputs": [],
   "source": [
    "all_lambdas[idx0]"
   ]
  },
  {
   "cell_type": "code",
   "execution_count": null,
   "metadata": {},
   "outputs": [],
   "source": [
    "ref=np.interp(wl, all_lambdas[idx_ref],all_data[idx_ref])"
   ]
  },
  {
   "cell_type": "code",
   "execution_count": null,
   "metadata": {},
   "outputs": [],
   "source": [
    "yhat = savgol_filter(ref, 11, 3) # window size 51, polynomial order 3"
   ]
  },
  {
   "cell_type": "code",
   "execution_count": null,
   "metadata": {},
   "outputs": [],
   "source": [
    "plt.plot(wl,ref,'b-')\n",
    "plt.plot(wl,yhat,'r-')"
   ]
  },
  {
   "cell_type": "code",
   "execution_count": null,
   "metadata": {},
   "outputs": [],
   "source": [
    "def PlotFilteredRatio(all_wl,all_spec,all_tag,idx_ref,window=11, \n",
    "                thetitle=\"Hologram, spectrum of HD160617 : Spectrum ratio Narrow  scan of night 2021-07-07\", \n",
    "                thexlabel=\"$\\\\lambda$ (nm)\",theylabel=\"spectrum ratio\",figsize=(14,8)):\n",
    "    \"\"\"\n",
    "    \"\"\"\n",
    "    \n",
    "    NN=len(all_wl)\n",
    "    \n",
    "    # wavelength bin colors\n",
    "    jet = plt.get_cmap('jet')\n",
    "    cNorm = colors.Normalize(vmin=0, vmax=NN)\n",
    "    scalarMap = cmx.ScalarMappable(norm=cNorm, cmap=jet)\n",
    "    all_colors = scalarMap.to_rgba(np.arange(NN), alpha=1)\n",
    "    \n",
    "    \n",
    "    wl=np.arange(380,1000)\n",
    "   \n",
    "    # filter    \n",
    "    ref_filt = savgol_filter(all_spec[idx_ref], window, 3) # window size 11, polynomial order 3\n",
    "    # interpolate\n",
    "    ref_int= np.interp(wl, all_wl[idx_ref],ref_filt)\n",
    "    \n",
    "    \n",
    "    fig=plt.figure(figsize=figsize)\n",
    "    ax=fig.add_subplot(1,1,1)\n",
    "    \n",
    "    idx=0\n",
    "    for idx in range(NN):\n",
    "        \n",
    "        label=all_tag[idx]\n",
    "        \n",
    "        spec_filt = savgol_filter(all_spec[idx], window, 3) # window size 11, polynomial order 3\n",
    "        spec_int = np.interp(wl, all_wl[idx],spec_filt)\n",
    "        \n",
    "        ratiof = spec_int/ref_int\n",
    "        \n",
    "        ax.plot(wl,ratiof,label=label,color=all_colors[idx])\n",
    "       \n",
    "        \n",
    "    ax.set_xlabel(thexlabel)\n",
    "    ax.set_ylabel(theylabel)\n",
    "    ax.set_xlim(380.,1000)\n",
    "    ax.set_ylim(0.9,1.1)\n",
    "    ax.grid()\n",
    "    ax.legend(bbox_to_anchor=(1.04, 1), prop={'size': 10}, loc='upper left')\n",
    "    ax.set_title(thetitle)\n",
    "    plt.show()\n",
    "    "
   ]
  },
  {
   "cell_type": "code",
   "execution_count": null,
   "metadata": {},
   "outputs": [],
   "source": [
    "def PlotSpectraBothPlusRatio(all_wl,all_spec,all_tag, idx_ref,window=51,delta=0,\n",
    "                             thetitle=\"Hologram, spectrum of HD160617 : Narrow  scan of night 2021-07-07\",\n",
    "                             thexlabel=\"$\\\\lambda$ (nm)\",theylabel=\"Flux (erg/cm^2/s/nm)\",figsize=(12,12)):\n",
    "    \"\"\"\n",
    "    \"\"\"\n",
    "    \n",
    "    NN=len(all_wl)\n",
    "    \n",
    "    # wavelength bin colors\n",
    "    jet = plt.get_cmap('jet')\n",
    "    cNorm = colors.Normalize(vmin=0, vmax=NN)\n",
    "    scalarMap = cmx.ScalarMappable(norm=cNorm, cmap=jet)\n",
    "    all_colors = scalarMap.to_rgba(np.arange(NN), alpha=1)\n",
    "    \n",
    "    \n",
    "    fig=plt.figure(figsize=figsize)\n",
    "    \n",
    "    gs = gridspec.GridSpec(3, 1,height_ratios=[1, 3,1] ,figure=fig)\n",
    "    \n",
    "    #ax=fig.add_subplot(2,1,1)\n",
    "    ax=fig.add_subplot(gs[0,0])\n",
    "    \n",
    "    idx=0\n",
    "    delta=0\n",
    "    for idx in range(NN):\n",
    "        \n",
    "        label=all_tag[idx]\n",
    "        ax.plot(all_wl[idx],all_spec[idx]+delta,label=label,color=all_colors[idx])\n",
    "        if delta !=0:\n",
    "            ax.plot(all_lambdas[idx],all_data[idx]+delta,label=label,color=all_colors[idx])\n",
    "            plt.text(250.,all_spec[idx][0]+delta, f'{label}',color=all_colors[idx],fontsize=10)\n",
    "            \n",
    "        \n",
    "    #ax.set_xlabel(thexlabel)\n",
    "    ax.set_ylabel(theylabel)\n",
    "    ax.set_xlim(250.,1100)\n",
    "    ax.grid()\n",
    "    #ax.legend(bbox_to_anchor=(1.04, 1), prop={'size': 10}, loc='upper left')\n",
    "    ax.set_title(\"superimposed spectra\")\n",
    "    \n",
    "    #ax=fig.add_subplot(2,1,2)\n",
    "    ax=fig.add_subplot(gs[1,0])\n",
    "    \n",
    "    \n",
    "    idx=0\n",
    "    for idx in range(NN):\n",
    "        \n",
    "        delta=idx*0.5e-13\n",
    "        \n",
    "        label=all_tag[idx]\n",
    "        \n",
    "        if delta ==0:\n",
    "            \n",
    "            ax.plot(all_wl[idx],all_spec[idx]+delta,label=label,color=all_colors[idx])\n",
    "            plt.text(250.,all_spec[idx][0]+delta, f'{label}',color=all_colors[idx],fontsize=10)\n",
    "        elif delta !=0:\n",
    "            plt.text(250.,all_spec[idx][0]+delta, f'{label}',color=all_colors[idx],fontsize=10)\n",
    "            ax.plot(all_wl[idx],all_spec[idx]+delta,label=label,color=all_colors[idx])\n",
    "        \n",
    "    #ax.set_xlabel(thexlabel)\n",
    "    ax.set_ylabel(theylabel)\n",
    "    ax.set_xlim(250.,1100)\n",
    "    ax.grid()\n",
    "    #ax.legend(bbox_to_anchor=(1.04, 1), prop={'size': 10}, loc='upper left')\n",
    "    ax.set_title(\"shifted spectra\")\n",
    "    \n",
    "    \n",
    "    # plot 3\n",
    "    \n",
    "    wl=np.arange(380,1000)\n",
    "   \n",
    "    # filter    \n",
    "    ref_filt = savgol_filter(all_spec[idx_ref], window, 3) # window size 11, polynomial order 3\n",
    "    # interpolate\n",
    "    ref_int= np.interp(wl, all_wl[idx_ref],ref_filt)\n",
    "    \n",
    "    \n",
    "   \n",
    "    ax=ax=fig.add_subplot(gs[2,0])\n",
    "    \n",
    "    idx=0\n",
    "    for idx in range(NN):\n",
    "        \n",
    "        label=all_tag[idx]\n",
    "        \n",
    "        spec_filt = savgol_filter(all_spec[idx], window, 3) # window size 11, polynomial order 3\n",
    "        spec_int = np.interp(wl, all_wl[idx],spec_filt)\n",
    "        \n",
    "        ratiof = spec_int/ref_int\n",
    "        \n",
    "        ax.plot(wl,ratiof,label=label,color=all_colors[idx])\n",
    "    \n",
    "    \n",
    "    #ax.axhline(y=1.05,linewidth=20, color='k',xmin=wl[0], xmax=wl[-1],visible=True)\n",
    "    #ax.axhline(y=0.95,linewidth=20, color='k',xmin=wl[0], xmax=wl[-1],visible=True)\n",
    "    \n",
    "    percent=5.0\n",
    "    #ax.hlines(y=1+percent/100., xmin=wl[0], xmax=wl[-1], linewidth=1, linestyles='dashed',color='k')\n",
    "    #ax.hlines(y=1-percent/100., xmin=wl[0], xmax=wl[-1], linewidth=1, linestyles='dashed',color='k')\n",
    "    \n",
    "    ax.hlines(y=1+percent/100., xmin=250., xmax=1100., linewidth=1, linestyles='dashed',color='k')\n",
    "    ax.hlines(y=1-percent/100., xmin=250., xmax=1100., linewidth=1, linestyles='dashed',color='k')\n",
    "    ax.hlines(y=1, xmin=250., xmax=1100., linewidth=1,color='k')\n",
    "    \n",
    "    \n",
    "    ax.set_xlabel(thexlabel)\n",
    "    ax.set_ylabel(\"ratio\")\n",
    "    ax.set_xlim(250.,1100)\n",
    "    ax.set_ylim(0.9,1.1)\n",
    "    ax.grid()\n",
    "    \n",
    "    ax.add_patch(Rectangle((250., 0.9), wl[0]-250., 0.2,\n",
    "             #edgecolor = 'grey',\n",
    "             facecolor = 'grey',\n",
    "             fill=True,\n",
    "             lw=5,alpha=0.5))\n",
    "    \n",
    "    ax.add_patch(Rectangle((wl[-1], 0.9),1100-wl[-1], 0.2,\n",
    "             #edgecolor = 'grey',\n",
    "             facecolor = 'grey',\n",
    "             fill=True,\n",
    "             lw=5,alpha=0.5))\n",
    "    \n",
    "    \n",
    "    plt.suptitle(thetitle,y=0.95,fontsize=20,fontweight=\"bold\")\n",
    "    #plt.tight_layout()\n",
    "    plt.savefig(\"PlotSpectraBothPlusRatio.png\")\n",
    "    plt.show()\n",
    "        \n",
    "    \n",
    "    "
   ]
  },
  {
   "cell_type": "code",
   "execution_count": null,
   "metadata": {},
   "outputs": [],
   "source": [
    "refnum=all_num_nr[idx_ref]\n",
    "thetitle=f\"Hologram, target HD160617 : spectrum ratio , narrow scan , night 2021-07-07, ref {refnum}\""
   ]
  },
  {
   "cell_type": "code",
   "execution_count": null,
   "metadata": {},
   "outputs": [],
   "source": [
    "PlotFilteredRatio(all_lambdas_nr,all_data_nr,all_num_nr,idx_ref,window=51,thetitle=thetitle)"
   ]
  },
  {
   "cell_type": "code",
   "execution_count": null,
   "metadata": {},
   "outputs": [],
   "source": [
    "#thetitle=f\"Hologram, target HD160617 : narrow scan , night 2021-07-07, ref spec =  {refnum}\"\n",
    "thetitle=f\"Hologram, target HD160617 : narrow scan , night 2021-07-07\"\n",
    "PlotSpectraBothPlusRatio(all_lambdas_nr,all_data_nr,all_num_nr,idx_ref,window=51,thetitle=thetitle)"
   ]
  },
  {
   "cell_type": "markdown",
   "metadata": {},
   "source": [
    "### Select a ring around the reference"
   ]
  },
  {
   "cell_type": "code",
   "execution_count": null,
   "metadata": {},
   "outputs": [],
   "source": [
    "all_num_nr=np.array(all_num_nr)"
   ]
  },
  {
   "cell_type": "code",
   "execution_count": null,
   "metadata": {},
   "outputs": [],
   "source": [
    "ring_num = np.array(['000335','000328','000329','000334','000336','000341','000342','000343'])\n",
    "ring_num"
   ]
  },
  {
   "cell_type": "code",
   "execution_count": null,
   "metadata": {},
   "outputs": [],
   "source": [
    "indexes_ring=[ np.where(all_num_nr==idx)[0][0] for idx in  ring_num]"
   ]
  },
  {
   "cell_type": "code",
   "execution_count": null,
   "metadata": {},
   "outputs": [],
   "source": [
    "all_lambdas_ring=[all_lambdas_nr[idx] for idx in indexes_ring]\n",
    "all_data_ring =  [all_data_nr[idx] for idx in indexes_ring]\n",
    "all_num_ring = [all_num_nr[idx] for idx in indexes_ring]"
   ]
  },
  {
   "cell_type": "code",
   "execution_count": null,
   "metadata": {},
   "outputs": [],
   "source": [
    "idx_ref=0\n",
    "refnum=all_num_ring[idx_ref]\n",
    "thetitle=f\"Hologram, target HD160617 : central ring , night 2021-07-07, ref {refnum}\""
   ]
  },
  {
   "cell_type": "code",
   "execution_count": null,
   "metadata": {},
   "outputs": [],
   "source": [
    "PlotFilteredRatio(all_lambdas_ring,all_data_ring,all_num_ring,idx_ref,window=51,thetitle=thetitle)"
   ]
  },
  {
   "cell_type": "code",
   "execution_count": null,
   "metadata": {},
   "outputs": [],
   "source": [
    "infos[0]"
   ]
  },
  {
   "cell_type": "code",
   "execution_count": null,
   "metadata": {},
   "outputs": [],
   "source": [
    "infos[-1]"
   ]
  },
  {
   "cell_type": "markdown",
   "metadata": {},
   "source": [
    "# Some reconstructions values in header"
   ]
  },
  {
   "cell_type": "code",
   "execution_count": null,
   "metadata": {},
   "outputs": [],
   "source": [
    "NN=len(all_good_spectra_spectrum_files)\n",
    "\n",
    "all_rebin=np.zeros(NN)\n",
    "all_targetx=np.zeros(NN)\n",
    "all_targety=np.zeros(NN)\n",
    "all_rotangle=np.zeros(NN)\n",
    "all_d2ccd=np.zeros(NN)\n",
    "all_pixshift=np.zeros(NN)\n",
    "all_chi2_fit=np.zeros(NN)\n",
    "all_a2_fit=np.zeros(NN)\n",
    "all_lbda_ref=np.zeros(NN)\n",
    "all_tagnumber=np.zeros(NN)\n",
    "\n",
    "\n",
    "for idx in range(NN):\n",
    "    \n",
    "    fullfilename=all_good_spectra_spectrum_files[idx]\n",
    "    \n",
    "    filename= os.path.basename(fullfilename)\n",
    "    hdul=fits.open(fullfilename)\n",
    "    header=hdul[0].header\n",
    "    tagnum=str(all_num[idx])\n",
    "    \n",
    "    #ROTANGLE=  -0.1367006901184345 / [deg] angle of the dispersion axis             \n",
    "    #D2CCD   =    179.6778868175837 / [mm] distance between disperser and CCD        \n",
    "    #TARGETX =    315.9547462941386 / target position on X axis                      \n",
    "    #TARGETY =    75.06785960446246 / target position on Y axis                      \n",
    "    #LBDA_REF=    634.9155139280113                                                  \n",
    "    #PIXSHIFT=  -0.9996981508176748                                                  \n",
    "    #CHI2_FIT=    1.602115867259752                                                  \n",
    "    #A2_FIT  =                  1.0                                                  \n",
    "    #REBIN   =                    2 / original image rebinning factor to get spectrum\n",
    "    \n",
    "    rebin=header[\"REBIN\"]\n",
    "    targetx=header[\"TARGETX\"]*rebin\n",
    "    targety=header[\"TARGETY\"]*rebin\n",
    "    rotangle=header[\"ROTANGLE\"]\n",
    "    d2ccd=header[\"D2CCD\"]\n",
    "    pixshift=header[\"PIXSHIFT\"]\n",
    "    chi2_fit=header[\"CHI2_FIT\"]\n",
    "    a2_fit=header[\"A2_FIT\"]\n",
    "    lbda_ref=header[\"LBDA_REF\"]\n",
    "    \n",
    "    \n",
    "    all_rebin[idx]=rebin\n",
    "    all_targetx[idx]=targetx\n",
    "    all_targety[idx]=targety\n",
    "    all_rotangle[idx]=rotangle\n",
    "    all_d2ccd[idx]=d2ccd\n",
    "    all_pixshift[idx]=pixshift\n",
    "    all_chi2_fit[idx]=chi2_fit\n",
    "    all_a2_fit[idx]=a2_fit\n",
    "    all_lbda_ref[idx]=lbda_ref\n",
    "    all_tagnumber[idx]=tagnum\n",
    "    "
   ]
  },
  {
   "cell_type": "code",
   "execution_count": null,
   "metadata": {},
   "outputs": [],
   "source": [
    "fig=plt.figure(figsize=(18,25))\n",
    "\n",
    "# rebin\n",
    "ax=fig.add_subplot(10,1,1)\n",
    "ax.plot(all_tagnumber,all_rebin,\"bo\",label=\"rebin\")\n",
    "ax.legend()\n",
    "ax.grid()\n",
    "ax.set_title(\"rebin\")\n",
    "\n",
    "#targetx\n",
    "ax=fig.add_subplot(10,1,2)\n",
    "ax.plot(all_tagnumber,all_targetx,\"bo\",label=\"targetx\")\n",
    "ax.legend()\n",
    "ax.grid()\n",
    "ax.set_title(\"targetx\")\n",
    "\n",
    "\n",
    "\n",
    "#targety\n",
    "ax=fig.add_subplot(10,1,3)\n",
    "ax.plot(all_tagnumber,all_targety,\"bo\",label=\"targety\")\n",
    "ax.legend()\n",
    "ax.grid()\n",
    "ax.set_title(\"targety\")\n",
    "\n",
    "\n",
    "\n",
    "#rotangle\n",
    "ax=fig.add_subplot(10,1,4)\n",
    "ax.plot(all_tagnumber,all_rotangle,\"bo\",label=\"rotangle\")\n",
    "ax.legend()\n",
    "ax.grid()\n",
    "ax.set_title(\"rotangle\")\n",
    "\n",
    "#d2ccd\n",
    "ax=fig.add_subplot(10,1,5)\n",
    "ax.plot(all_tagnumber,all_d2ccd,\"bo\",label=\"d2ccd\")\n",
    "ax.legend()\n",
    "ax.grid()\n",
    "ax.set_title(\"d2ccd\")\n",
    "\n",
    "\n",
    "#pixshift\n",
    "ax=fig.add_subplot(10,1,6)\n",
    "ax.plot(all_tagnumber,all_pixshift,\"bo\",label=\"pixshift\")\n",
    "ax.legend()\n",
    "ax.grid()\n",
    "ax.set_title(\"pixshift\")\n",
    "\n",
    "\n",
    "#chi2_fit\n",
    "ax=fig.add_subplot(10,1,7)\n",
    "ax.plot(all_tagnumber,all_chi2_fit,\"bo\",label=\"chi2_fit\")\n",
    "ax.legend()\n",
    "ax.grid()\n",
    "ax.set_title(\"chi2_fit\")\n",
    "\n",
    "#a2_fit\n",
    "ax=fig.add_subplot(10,1,8)\n",
    "ax.plot(all_tagnumber,all_a2_fit,\"bo\",label=\"a2_fit\")\n",
    "ax.legend()\n",
    "ax.grid()\n",
    "ax.set_title(\"a2_fit\")\n",
    "\n",
    "\n",
    "#all_lbda_ref\n",
    "ax=fig.add_subplot(10,1,9)\n",
    "ax.plot(all_tagnumber,all_lbda_ref,\"bo\",label=\"lbda_ref\")\n",
    "ax.legend()\n",
    "ax.grid()\n",
    "ax.set_title(\"lbda_ref\")\n",
    "\n",
    "\n",
    "plt.tight_layout()"
   ]
  },
  {
   "cell_type": "markdown",
   "metadata": {},
   "source": [
    "# Find bad reconstructions"
   ]
  },
  {
   "cell_type": "code",
   "execution_count": null,
   "metadata": {},
   "outputs": [],
   "source": [
    "fig=plt.figure(figsize=(12,4))\n",
    "ax=fig.add_subplot(1,2,1)\n",
    "ax.hist(all_d2ccd,bins=40,facecolor=\"blue\")\n",
    "ax.set_xlabel(\"d2ccd (mm)\")\n",
    "\n",
    "ax=fig.add_subplot(1,2,1)\n",
    "\n",
    "arg_bad=np.where(abs(all_d2ccd-180)>0.5)[0]\n",
    "list_bad=all_tagnumber[arg_bad]\n",
    "ax.set_title(\"Distance holo-CCD\")\n",
    "\n",
    "ax=fig.add_subplot(1,2,2)\n",
    "# indexes of elements in tag that are in list_bad\n",
    "arg_badindexes=np.where(np.in1d(all_tagnumber, list_bad))\n",
    "# indexes of elements in tag that are NOT in list_bad\n",
    "arg_goodindexes=np.where(np.in1d(all_tagnumber,np.setdiff1d(all_tagnumber, list_bad)))\n",
    "\n",
    "DCCD_avr = np.mean(all_d2ccd[arg_goodindexes])\n",
    "DCCD_std = np.std(all_d2ccd[arg_goodindexes])\n",
    "\n",
    "textstr = '\\n'.join((\n",
    "    r'$\\mu=%.2f$ mm' % (DCCD_avr, ),\n",
    "    r'$\\sigma=%.2f$ mm' % (DCCD_std, )))\n",
    "\n",
    "\n",
    "props = dict(boxstyle='round', facecolor='wheat', alpha=0.5)\n",
    "#props = dict(boxstyle='round')\n",
    "\n",
    "# place a text box in upper left in axes coords\n",
    "ax.text(0.60, 0.95, textstr, transform=ax.transAxes, fontsize=14,\n",
    "        verticalalignment='top', bbox=props)\n",
    "\n",
    "\n",
    "\n",
    "\n",
    "\n",
    "ax.hist(all_d2ccd,bins=40,facecolor=\"blue\")\n",
    "ax.hist(all_d2ccd[arg_badindexes],bins=40,facecolor=\"red\")\n",
    "ax.set_xlabel(\"d2ccd (mm)\")\n",
    "ax.set_title(\"Distance holo-CCD\")\n",
    "\n",
    "\n"
   ]
  },
  {
   "cell_type": "markdown",
   "metadata": {},
   "source": [
    "## Good value for DCCD"
   ]
  },
  {
   "cell_type": "code",
   "execution_count": null,
   "metadata": {},
   "outputs": [],
   "source": [
    "np.mean(all_d2ccd[arg_goodindexes])"
   ]
  },
  {
   "cell_type": "code",
   "execution_count": null,
   "metadata": {},
   "outputs": [],
   "source": [
    "np.std(all_d2ccd[arg_goodindexes])"
   ]
  },
  {
   "cell_type": "code",
   "execution_count": null,
   "metadata": {},
   "outputs": [],
   "source": [
    "def plotbad(arg_badindexes):\n",
    "    \n",
    "    fig=plt.figure(figsize=(18,25))\n",
    "\n",
    "    # rebin\n",
    "    ax=fig.add_subplot(10,1,1)\n",
    "    ax.plot(all_tagnumber,all_rebin,\"bo\",label=\"rebin\")\n",
    "    ax.plot(all_tagnumber[arg_badindexes],all_rebin[arg_badindexes],\"ro\",label=\"bad\")\n",
    "    ax.legend()\n",
    "    ax.grid()\n",
    "    ax.set_title(\"rebin\")\n",
    "\n",
    "    #targetx\n",
    "    ax=fig.add_subplot(10,1,2)\n",
    "    ax.plot(all_tagnumber,all_targetx,\"bo\",label=\"targetx\")\n",
    "    ax.plot(all_tagnumber[arg_badindexes],all_targetx[arg_badindexes],\"ro\",label=\"bad\")\n",
    "    ax.legend()\n",
    "    ax.grid()\n",
    "    ax.set_title(\"targetx\")\n",
    "\n",
    "\n",
    "\n",
    "    #targety\n",
    "    ax=fig.add_subplot(10,1,3)\n",
    "    ax.plot(all_tagnumber,all_targety,\"bo\",label=\"targety\")\n",
    "    ax.plot(all_tagnumber[arg_badindexes],all_targety[arg_badindexes],\"ro\",label=\"bad\")\n",
    "    ax.legend()\n",
    "    ax.grid()\n",
    "    ax.set_title(\"targety\")\n",
    "\n",
    "\n",
    "\n",
    "    #rotangle\n",
    "    ax=fig.add_subplot(10,1,4)\n",
    "    ax.plot(all_tagnumber,all_rotangle,\"bo\",label=\"rotangle\")\n",
    "    ax.plot(all_tagnumber[arg_badindexes],all_rotangle[arg_badindexes],\"ro\",label=\"bad\")\n",
    "    ax.legend()\n",
    "    ax.grid()\n",
    "    ax.set_title(\"rotangle\")\n",
    "\n",
    "    #d2ccd\n",
    "    ax=fig.add_subplot(10,1,5)\n",
    "    ax.plot(all_tagnumber,all_d2ccd,\"bo\",label=\"d2ccd\")\n",
    "    ax.plot(all_tagnumber[arg_badindexes],all_d2ccd[arg_badindexes],\"ro\",label=\"bad\")\n",
    "    ax.legend()\n",
    "    ax.grid()\n",
    "    ax.set_title(\"d2ccd\")\n",
    "\n",
    "\n",
    "    #pixshift\n",
    "    ax=fig.add_subplot(10,1,6)\n",
    "    ax.plot(all_tagnumber,all_pixshift,\"bo\",label=\"pixshift\")\n",
    "    ax.plot(all_tagnumber[arg_badindexes],all_pixshift[arg_badindexes],\"ro\",label=\"bad\")\n",
    "    ax.legend()\n",
    "    ax.grid()\n",
    "    ax.set_title(\"pixshift\")\n",
    "\n",
    "\n",
    "    #chi2_fit\n",
    "    ax=fig.add_subplot(10,1,7)\n",
    "    ax.plot(all_tagnumber,all_chi2_fit,\"bo\",label=\"chi2_fit\")\n",
    "    ax.plot(all_tagnumber[arg_badindexes],all_chi2_fit[arg_badindexes],\"ro\",label=\"bad\")\n",
    "    ax.legend()\n",
    "    ax.grid()\n",
    "    ax.set_title(\"chi2_fit\")\n",
    "\n",
    "    #a2_fit\n",
    "    ax=fig.add_subplot(10,1,8)\n",
    "    ax.plot(all_tagnumber,all_a2_fit,\"bo\",label=\"a2_fit\")\n",
    "    ax.plot(all_tagnumber[arg_badindexes],all_a2_fit[arg_badindexes],\"ro\",label=\"bad\")\n",
    "    ax.legend()\n",
    "    ax.grid()\n",
    "    ax.set_title(\"a2_fit\")\n",
    "\n",
    "\n",
    "    #all_lbda_ref\n",
    "    ax=fig.add_subplot(10,1,9)\n",
    "    ax.plot(all_tagnumber,all_lbda_ref,\"bo\",label=\"lbda_ref\")\n",
    "    ax.plot(all_tagnumber[arg_badindexes],all_lbda_ref[arg_badindexes],\"ro\",label=\"bad\")\n",
    "    ax.legend()\n",
    "    ax.grid()\n",
    "    ax.set_title(\"lbda_ref\")\n",
    "\n",
    "\n",
    "    plt.tight_layout()\n",
    "    "
   ]
  },
  {
   "cell_type": "code",
   "execution_count": null,
   "metadata": {},
   "outputs": [],
   "source": [
    "plotbad(arg_badindexes)"
   ]
  },
  {
   "cell_type": "markdown",
   "metadata": {},
   "source": [
    "# List of bad Spectra"
   ]
  },
  {
   "cell_type": "code",
   "execution_count": null,
   "metadata": {},
   "outputs": [],
   "source": [
    "print(\"list of bad Spectra : \",list_bad)"
   ]
  },
  {
   "cell_type": "markdown",
   "metadata": {},
   "source": [
    "# Selection of the spectrum\n",
    "\n",
    "\n",
    "This is an example to show how to access to information on reconstructed spectra"
   ]
  },
  {
   "cell_type": "code",
   "execution_count": null,
   "metadata": {},
   "outputs": [],
   "source": [
    "IDXSEL=33"
   ]
  },
  {
   "cell_type": "code",
   "execution_count": null,
   "metadata": {},
   "outputs": [],
   "source": [
    "all_good_spectra_spectrum_files[IDXSEL]"
   ]
  },
  {
   "cell_type": "code",
   "execution_count": null,
   "metadata": {},
   "outputs": [],
   "source": [
    "fullfilename_SEL=all_good_spectra_spectrum_files[IDXSEL]\n",
    "fullfilename_spectrogram_SEL=fullfilename_SEL.replace(\"_spectrum\",\"_spectrogram\")\n",
    "fullfilename_lines_SEL=fullfilename_SEL.replace(\"_spectrum.fits\",\"_lines.csv\")\n",
    "fullfilename_table_SEL=fullfilename_SEL.replace(\"_spectrum.fits\",\"_table.csv\")"
   ]
  },
  {
   "cell_type": "code",
   "execution_count": null,
   "metadata": {},
   "outputs": [],
   "source": [
    "filename_SEL = os.path.basename(fullfilename_SEL)\n",
    "filename_spectrogram_SEL = os.path.basename(fullfilename_spectrogram_SEL)\n",
    "filename_lines_SEL = os.path.basename(fullfilename_lines_SEL)\n",
    "filename_table_SEL = os.path.basename(fullfilename_table_SEL)"
   ]
  },
  {
   "cell_type": "markdown",
   "metadata": {},
   "source": [
    "## Spectrum"
   ]
  },
  {
   "cell_type": "code",
   "execution_count": null,
   "metadata": {},
   "outputs": [],
   "source": [
    "spectrum_hdu=fits.open(fullfilename_SEL)"
   ]
  },
  {
   "cell_type": "code",
   "execution_count": null,
   "metadata": {},
   "outputs": [],
   "source": [
    "spectrum_hdu.info()"
   ]
  },
  {
   "cell_type": "code",
   "execution_count": null,
   "metadata": {},
   "outputs": [],
   "source": [
    "spectrum_hdu[0].header"
   ]
  },
  {
   "cell_type": "code",
   "execution_count": null,
   "metadata": {},
   "outputs": [],
   "source": [
    "fig=plt.figure(figsize=(16,10))\n",
    "\n",
    "# Spectrum\n",
    "ax=fig.add_subplot(4,1,1)\n",
    "x=spectrum_hdu[0].data[0,:]\n",
    "y=spectrum_hdu[0].data[1,:]\n",
    "yerr=spectrum_hdu[0].data[1,:]\n",
    "ax.errorbar(x, y, yerr=yerr, fmt='o',markersize=0.5,color=\"r\",ecolor=\"gray\")\n",
    "ax.set_xlabel(\"$\\lambda$ (nm)\")\n",
    "ax.set_title(\"spectrum\")\n",
    "ax.grid()\n",
    "\n",
    "# Covariance\n",
    "\n",
    "from astropy.visualization import (MinMaxInterval, SqrtStretch,ImageNormalize,LogStretch)\n",
    "\n",
    "ax=fig.add_subplot(4,1,2)\n",
    "img=spectrum_hdu[1].data\n",
    "\n",
    "# Create an ImageNormalize object\n",
    "norm = ImageNormalize(img, interval=MinMaxInterval(),stretch=LogStretch())\n",
    "\n",
    "\n",
    "#ax.imshow(img,origin=\"lower\",norm=LogNorm())\n",
    "ax.imshow(img,origin=\"lower\",norm=norm)\n",
    "ax.grid()\n",
    "ax.set_title(\"Covariance\")\n",
    "\n",
    "\n",
    "# Order 2\n",
    "ax=fig.add_subplot(4,1,3)\n",
    "x=spectrum_hdu[2].data[0,:]\n",
    "y=spectrum_hdu[2].data[1,:]\n",
    "yerr=spectrum_hdu[2].data[1,:]\n",
    "ax.errorbar(x, y, yerr=yerr, fmt='o',markersize=0.5,color=\"r\",ecolor=\"gray\")\n",
    "ax.set_xlabel(\"$\\lambda$ (nm)\")\n",
    "ax.set_title(\"Order 2\")\n",
    "ax.grid()\n",
    "\n",
    "# ORDER0  \n",
    "ax=fig.add_subplot(4,1,4)\n",
    "img=spectrum_hdu[3].data\n",
    "ax.imshow(img,origin=\"lower\",norm=LogNorm())\n",
    "ax.grid()\n",
    "ax.set_title(\"Order 0\")\n",
    "\n",
    "plt.tight_layout()"
   ]
  },
  {
   "cell_type": "code",
   "execution_count": null,
   "metadata": {},
   "outputs": [],
   "source": [
    "fullfilename_spectrogram_SEL"
   ]
  },
  {
   "cell_type": "markdown",
   "metadata": {},
   "source": [
    "## Spectrogram"
   ]
  },
  {
   "cell_type": "code",
   "execution_count": null,
   "metadata": {},
   "outputs": [],
   "source": [
    "spectrogram_hdu=fits.open(fullfilename_spectrogram_SEL)"
   ]
  },
  {
   "cell_type": "code",
   "execution_count": null,
   "metadata": {},
   "outputs": [],
   "source": [
    "spectrogram_hdu.info()"
   ]
  },
  {
   "cell_type": "markdown",
   "metadata": {},
   "source": [
    "## header of spectrogram"
   ]
  },
  {
   "cell_type": "code",
   "execution_count": null,
   "metadata": {},
   "outputs": [],
   "source": [
    "header=spectrogram_hdu[0].header\n",
    "header"
   ]
  },
  {
   "cell_type": "code",
   "execution_count": null,
   "metadata": {},
   "outputs": [],
   "source": [
    "spectrogram_image= spectrogram_hdu[0].data"
   ]
  },
  {
   "cell_type": "markdown",
   "metadata": {},
   "source": [
    "## Lines"
   ]
  },
  {
   "cell_type": "code",
   "execution_count": null,
   "metadata": {},
   "outputs": [],
   "source": [
    "df_lines=pd.read_csv(fullfilename_lines_SEL,index_col=0)"
   ]
  },
  {
   "cell_type": "code",
   "execution_count": null,
   "metadata": {},
   "outputs": [],
   "source": [
    "df_lines"
   ]
  },
  {
   "cell_type": "code",
   "execution_count": null,
   "metadata": {},
   "outputs": [],
   "source": [
    "df_lines.columns"
   ]
  },
  {
   "cell_type": "code",
   "execution_count": null,
   "metadata": {},
   "outputs": [],
   "source": [
    "df_lines.index[0]"
   ]
  },
  {
   "cell_type": "code",
   "execution_count": null,
   "metadata": {},
   "outputs": [],
   "source": [
    "idx=0\n",
    "all_lines = []\n",
    "for index, row in df_lines.iterrows():\n",
    "    print(df_lines.index[idx], row['Tabulated'])\n",
    "    line = Line(row['Tabulated'], label=df_lines.index[idx], atmospheric=False , emission=True, label_pos=[0, 0.8])\n",
    "    if row['SNR']>5:\n",
    "        all_lines.append(line)\n",
    "    idx+=1"
   ]
  },
  {
   "cell_type": "code",
   "execution_count": null,
   "metadata": {},
   "outputs": [],
   "source": [
    "lines_collection=Lines(all_lines)"
   ]
  },
  {
   "cell_type": "code",
   "execution_count": null,
   "metadata": {},
   "outputs": [],
   "source": [
    "df_table=pd.read_csv(fullfilename_table_SEL)"
   ]
  },
  {
   "cell_type": "code",
   "execution_count": null,
   "metadata": {},
   "outputs": [],
   "source": [
    "df_table.head()"
   ]
  },
  {
   "cell_type": "code",
   "execution_count": null,
   "metadata": {},
   "outputs": [],
   "source": [
    "fig = plt.figure(figsize=(18,10))\n",
    "ax=fig.add_subplot(2,1,1)\n",
    "ax.plot(s.lambdas,s.data,\"r-\")\n",
    "thetitle=str(IDXSEL)+\") \"+ filename_SEL\n",
    "ax.set_title(thetitle)\n",
    "ax.set_xlabel(\"$\\lambda$ (nm)\")\n",
    "ax.set_ylabel(\"flux\")\n",
    "ax.grid()\n",
    "ax.set_ylim(0,2e-12)\n",
    "lines_collection.plot_atomic_lines(ax, color_atomic='g', color_atmospheric='b', fontsize=20, force=True)\n",
    "ax=fig.add_subplot(2,1,2)\n",
    "ax.imshow(spectrogram_image,origin=\"lower\",norm=LogNorm())\n",
    "ax.grid()\n",
    "ax.set_xlabel(\"pixel\")\n",
    "plt.show()"
   ]
  },
  {
   "cell_type": "markdown",
   "metadata": {},
   "source": [
    "## Tables"
   ]
  },
  {
   "cell_type": "code",
   "execution_count": null,
   "metadata": {},
   "outputs": [],
   "source": [
    "df_table=pd.read_csv(fullfilename_table_SEL,index_col=0)"
   ]
  },
  {
   "cell_type": "code",
   "execution_count": null,
   "metadata": {},
   "outputs": [],
   "source": [
    "df_table.head()"
   ]
  },
  {
   "cell_type": "code",
   "execution_count": null,
   "metadata": {},
   "outputs": [],
   "source": [
    "df_table.tail()"
   ]
  },
  {
   "cell_type": "code",
   "execution_count": null,
   "metadata": {},
   "outputs": [],
   "source": [
    "# df_table.index.get_level_values"
   ]
  },
  {
   "cell_type": "code",
   "execution_count": null,
   "metadata": {},
   "outputs": [],
   "source": [
    "# df_table.index.get_level_values"
   ]
  },
  {
   "cell_type": "code",
   "execution_count": null,
   "metadata": {},
   "outputs": [],
   "source": [
    "df_table['wl'] = df_table.index"
   ]
  },
  {
   "cell_type": "code",
   "execution_count": null,
   "metadata": {},
   "outputs": [],
   "source": [
    "#df_table.reset_index()"
   ]
  },
  {
   "cell_type": "code",
   "execution_count": null,
   "metadata": {},
   "outputs": [],
   "source": [
    "df_table.head()"
   ]
  },
  {
   "cell_type": "code",
   "execution_count": null,
   "metadata": {},
   "outputs": [],
   "source": [
    "df_table.columns"
   ]
  },
  {
   "cell_type": "code",
   "execution_count": null,
   "metadata": {},
   "outputs": [],
   "source": [
    "fig=plt.figure(figsize=(16,30))\n",
    "\n",
    "idx=0\n",
    "column_names=df_table.columns\n",
    "NN=len(column_names)\n",
    "\n",
    "# Dx\n",
    "idx+=1\n",
    "ax=fig.add_subplot(NN,1,idx)\n",
    "ax.plot(df_table[\"wl\"],df_table[column_names[idx-1]],\"b-\")\n",
    "ax.set_xlabel(\"$\\\\lambda$ (nm)\")\n",
    "ax.set_ylabel(column_names[idx-1])\n",
    "ax.grid()\n",
    "# Dy\n",
    "idx+=1\n",
    "ax=fig.add_subplot(NN,1,idx)\n",
    "ax.plot(df_table[\"wl\"],df_table[column_names[idx-1]],\"b-\")\n",
    "ax.set_xlabel(\"$\\\\lambda$\")\n",
    "ax.set_ylabel(column_names[idx-1])\n",
    "ax.grid()\n",
    "\n",
    "# Dy_disp_axis\n",
    "idx+=1\n",
    "ax=fig.add_subplot(NN,1,idx)\n",
    "ax.plot(df_table[\"wl\"],df_table[column_names[idx-1]],\"b-\")\n",
    "ax.set_xlabel(\"$\\\\lambda$\")\n",
    "ax.set_ylabel(column_names[idx-1])\n",
    "ax.grid()\n",
    "\n",
    "# flux_sum\n",
    "idx+=1\n",
    "ax=fig.add_subplot(NN,1,idx)\n",
    "ax.plot(df_table[\"wl\"],df_table[column_names[idx-1]],\"b-\")\n",
    "ax.set_xlabel(\"$\\\\lambda$\")\n",
    "ax.set_ylabel(column_names[idx-1])\n",
    "ax.grid()\n",
    "\n",
    "# flux_integral\n",
    "idx+=1\n",
    "ax=fig.add_subplot(NN,1,idx)\n",
    "ax.plot(df_table[\"wl\"],df_table[column_names[idx-1]],\"b-\")\n",
    "ax.set_xlabel(\"$\\\\lambda$\")\n",
    "ax.set_ylabel(column_names[idx-1])\n",
    "ax.grid()\n",
    "\n",
    "#flux_err\n",
    "idx+=1\n",
    "ax=fig.add_subplot(NN,1,idx)\n",
    "ax.plot(df_table[\"wl\"],df_table[column_names[idx-1]],\"b-\")\n",
    "ax.set_xlabel(\"$\\\\lambda$\")\n",
    "ax.set_ylabel(column_names[idx-1])\n",
    "ax.grid()\n",
    "\n",
    "# fwhm\n",
    "\n",
    "idx+=1\n",
    "ax=fig.add_subplot(NN,1,idx)\n",
    "ax.plot(df_table[\"wl\"],df_table[column_names[idx-1]],\"b-\")\n",
    "ax.set_xlabel(\"$\\\\lambda$\")\n",
    "ax.set_ylabel(column_names[idx-1])\n",
    "ax.grid()\n",
    "\n",
    "# Dy_fwhm_sup\n",
    "idx+=1\n",
    "ax=fig.add_subplot(NN,1,idx)\n",
    "ax.plot(df_table[\"wl\"],df_table[column_names[idx-1]],\"b-\")\n",
    "ax.set_xlabel(\"$\\\\lambda$\")\n",
    "ax.set_ylabel(column_names[idx-1])\n",
    "ax.grid()\n",
    "\n",
    "# Dy_fwhm_inf\n",
    "idx+=1\n",
    "ax=fig.add_subplot(NN,1,idx)\n",
    "ax.plot(df_table[\"wl\"],df_table[column_names[idx-1]],\"b-\")\n",
    "ax.set_xlabel(\"$\\\\lambda$\")\n",
    "ax.set_ylabel(column_names[idx-1])\n",
    "ax.grid()\n",
    "\n",
    "# amplitude \n",
    "idx+=1\n",
    "ax=fig.add_subplot(NN,1,idx)\n",
    "ax.plot(df_table[\"wl\"],df_table[column_names[idx-1]],\"b-\")\n",
    "ax.set_xlabel(\"$\\\\lambda$\")\n",
    "ax.set_ylabel(column_names[idx-1])\n",
    "ax.grid()\n",
    "\n",
    "\n",
    "# x_c\n",
    "idx+=1\n",
    "ax=fig.add_subplot(NN,1,idx)\n",
    "ax.plot(df_table[\"wl\"],df_table[column_names[idx-1]],\"b-\")\n",
    "ax.set_xlabel(\"$\\\\lambda$\")\n",
    "ax.set_ylabel(column_names[idx-1])\n",
    "ax.grid()\n",
    "\n",
    "# y_c\n",
    "idx+=1\n",
    "ax=fig.add_subplot(NN,1,idx)\n",
    "ax.plot(df_table[\"wl\"],df_table[column_names[idx-1]],\"b-\")\n",
    "ax.set_xlabel(\"$\\\\lambda$\")\n",
    "ax.set_ylabel(column_names[idx-1])\n",
    "ax.grid()\n",
    "\n",
    "# gamma\n",
    "idx+=1\n",
    "ax=fig.add_subplot(NN,1,idx)\n",
    "ax.plot(df_table[\"wl\"],df_table[column_names[idx-1]],\"b-\")\n",
    "ax.set_xlabel(\"$\\\\lambda$\")\n",
    "ax.set_ylabel(column_names[idx-1])\n",
    "ax.grid()\n",
    "\n",
    "\n",
    "# alpha \n",
    "idx+=1\n",
    "ax=fig.add_subplot(NN,1,idx)\n",
    "ax.plot(df_table[\"wl\"],df_table[column_names[idx-1]],\"b-\")\n",
    "ax.set_xlabel(\"$\\\\lambda$\")\n",
    "ax.set_ylabel(column_names[idx-1])\n",
    "ax.grid()\n",
    "\n",
    "# saturation\n",
    "idx+=1\n",
    "ax=fig.add_subplot(NN,1,idx)\n",
    "ax.plot(df_table[\"wl\"],df_table[column_names[idx-1]],\"b-\")\n",
    "ax.set_xlabel(\"$\\\\lambda$\")\n",
    "ax.set_ylabel(column_names[idx-1])\n",
    "ax.grid()\n",
    "\n",
    "\n"
   ]
  },
  {
   "cell_type": "markdown",
   "metadata": {},
   "source": [
    "# Atmospheric conditions"
   ]
  },
  {
   "cell_type": "code",
   "execution_count": null,
   "metadata": {},
   "outputs": [],
   "source": [
    "df_infos=pd.DataFrame(infos,columns=[\"idx\",\"date_obs\",\"airmass\",\"temperature\",\"pressure\",\"humidity\"])"
   ]
  },
  {
   "cell_type": "code",
   "execution_count": null,
   "metadata": {},
   "outputs": [],
   "source": [
    "df_infos.set_index('idx',inplace=True)"
   ]
  },
  {
   "cell_type": "code",
   "execution_count": null,
   "metadata": {},
   "outputs": [],
   "source": [
    "all_reftime=[ (Time(tt)-Time( df_infos[\"date_obs\"].values[0])).to_value(u.hr) for tt in df_infos[\"date_obs\"].values ]"
   ]
  },
  {
   "cell_type": "code",
   "execution_count": null,
   "metadata": {},
   "outputs": [],
   "source": [
    "all_reftime=np.array(all_reftime)"
   ]
  },
  {
   "cell_type": "code",
   "execution_count": null,
   "metadata": {},
   "outputs": [],
   "source": [
    "df_infos[\"reftime\"]=all_reftime"
   ]
  },
  {
   "cell_type": "code",
   "execution_count": null,
   "metadata": {},
   "outputs": [],
   "source": [
    "df_infos[\"eqw_h2o\"] = np.nan\n",
    "df_infos[\"eqw_o2\"] = np.nan\n",
    "df_infos[\"eqw_o2_spec\"] = np.nan"
   ]
  },
  {
   "cell_type": "code",
   "execution_count": null,
   "metadata": {},
   "outputs": [],
   "source": [
    "df_infos"
   ]
  },
  {
   "cell_type": "markdown",
   "metadata": {},
   "source": [
    "# STOP HERE"
   ]
  },
  {
   "cell_type": "code",
   "execution_count": null,
   "metadata": {},
   "outputs": [],
   "source": [
    "assert False"
   ]
  },
  {
   "cell_type": "markdown",
   "metadata": {},
   "source": [
    "# Selection of spectra and equivalent width calculation"
   ]
  },
  {
   "cell_type": "code",
   "execution_count": null,
   "metadata": {},
   "outputs": [],
   "source": [
    "from astropy import units as u\n",
    "from astropy.visualization import quantity_support\n",
    "\n",
    "quantity_support()  # for getting units on the axes below  "
   ]
  },
  {
   "cell_type": "code",
   "execution_count": null,
   "metadata": {},
   "outputs": [],
   "source": [
    "from specutils import Spectrum1D\n",
    "from specutils.fitting import fit_generic_continuum,fit_continuum\n",
    "from specutils import SpectralRegion\n",
    "from specutils.analysis import equivalent_width\n",
    "from astropy.modeling import models\n",
    "from specutils.manipulation import extract_region"
   ]
  },
  {
   "cell_type": "code",
   "execution_count": null,
   "metadata": {},
   "outputs": [],
   "source": [
    "IDXSEL=0\n",
    "filename_SEL=all_good_spectra_spectrum_files[IDXSEL]\n",
    "filename_spectrogram_SEL=filename_SEL.replace(\"_spectrum\",\"_spectrogram\")\n",
    "filename_lines_SEL=filename_SEL.replace(\"_spectrum.fits\",\"_lines.csv\")\n",
    "filename_table_SEL=filename_SEL.replace(\"_spectrum.fits\",\"_table.csv\")\n",
    "fullfilename_SEL = os.path.join(dir_spectra,filename_SEL)\n",
    "fullfilename_spectrogram_SEL = fullfilename_SEL.replace(\"_spectrum\",\"_spectrogram\")\n",
    "fullfilename_lines_SEL = fullfilename_SEL.replace(\"_spectrum.fits\",\"_lines.csv\")\n",
    "fullfilename_table_SEL = fullfilename_SEL.replace(\"_spectrum.fits\",\"_table.csv\")"
   ]
  },
  {
   "cell_type": "code",
   "execution_count": null,
   "metadata": {},
   "outputs": [],
   "source": [
    "fullfilename_table_SEL"
   ]
  },
  {
   "cell_type": "code",
   "execution_count": null,
   "metadata": {},
   "outputs": [],
   "source": [
    "thetitle=str(IDXSEL)+\") \"+filename_SEL"
   ]
  },
  {
   "cell_type": "code",
   "execution_count": null,
   "metadata": {},
   "outputs": [],
   "source": [
    "thetitle"
   ]
  },
  {
   "cell_type": "code",
   "execution_count": null,
   "metadata": {},
   "outputs": [],
   "source": [
    "fullfilename_SEL"
   ]
  },
  {
   "cell_type": "markdown",
   "metadata": {},
   "source": [
    "## Load spectrum and Spectrogram"
   ]
  },
  {
   "cell_type": "code",
   "execution_count": null,
   "metadata": {},
   "outputs": [],
   "source": [
    "s=Spectrum(fullfilename_SEL, config=config)\n",
    "s.load_spectrogram(fullfilename_spectrogram_SEL) "
   ]
  },
  {
   "cell_type": "code",
   "execution_count": null,
   "metadata": {},
   "outputs": [],
   "source": [
    "df_lines=pd.read_csv(fullfilename_lines_SEL,index_col=0)"
   ]
  },
  {
   "cell_type": "code",
   "execution_count": null,
   "metadata": {},
   "outputs": [],
   "source": [
    "df_lines"
   ]
  },
  {
   "cell_type": "code",
   "execution_count": null,
   "metadata": {},
   "outputs": [],
   "source": [
    "lines = Lines([O2_1,H2O_1,H2O_2],atmospheric_lines=True, redshift=0, emission_spectrum=False)"
   ]
  },
  {
   "cell_type": "code",
   "execution_count": null,
   "metadata": {},
   "outputs": [],
   "source": [
    "s.lines = lines"
   ]
  },
  {
   "cell_type": "code",
   "execution_count": null,
   "metadata": {},
   "outputs": [],
   "source": [
    "lambdas = np.arange(300,1000,1)\n",
    "fwhm_func = interp1d(lambdas, 0.01 * lambdas)"
   ]
  },
  {
   "cell_type": "code",
   "execution_count": null,
   "metadata": {},
   "outputs": [],
   "source": [
    "# global_chisq = detect_lines(lines, s.lambdas, s.data, s.err, fwhm_func=fwhm_func)"
   ]
  },
  {
   "cell_type": "code",
   "execution_count": null,
   "metadata": {},
   "outputs": [],
   "source": [
    "fig = plt.figure(figsize=(18,10))\n",
    "plot_spectrum_simple(plt.gca(), s.lambdas, s.data, s.err)\n",
    "lines.plot_detected_lines(plt.gca())\n",
    "thetitle=str(IDXSEL)+\") \"+ filename_SEL\n",
    "plt.title(thetitle)\n",
    "plt.show()"
   ]
  },
  {
   "cell_type": "code",
   "execution_count": null,
   "metadata": {},
   "outputs": [],
   "source": [
    "# lines.print_detected_lines()"
   ]
  },
  {
   "cell_type": "code",
   "execution_count": null,
   "metadata": {},
   "outputs": [],
   "source": [
    "alert False"
   ]
  },
  {
   "cell_type": "markdown",
   "metadata": {},
   "source": [
    "## with specutils"
   ]
  },
  {
   "cell_type": "markdown",
   "metadata": {},
   "source": [
    "### Convert in specutils units"
   ]
  },
  {
   "cell_type": "code",
   "execution_count": null,
   "metadata": {},
   "outputs": [],
   "source": [
    "lamb = 10*s.lambdas * u.AA \n",
    "flux = s.data * u.Unit('erg cm-2 s-1 AA-1')/10. \n",
    "fluxerr = s.err * u.Unit('erg cm-2 s-1 AA-1')/10. \n",
    "spec = Spectrum1D(spectral_axis=lamb, flux=flux)\n",
    "specerr = Spectrum1D(spectral_axis=lamb, flux=fluxerr)"
   ]
  },
  {
   "cell_type": "markdown",
   "metadata": {},
   "source": [
    "## Equivalent width calculation with Automatic line plot"
   ]
  },
  {
   "cell_type": "code",
   "execution_count": null,
   "metadata": {},
   "outputs": [],
   "source": [
    "def ComputeEquivWidth(spec,wlmin,wlmax,wlminline,wlmaxline,flag_plot=True,ax1=None,ax2=None):\n",
    "    \"\"\"\n",
    "    \n",
    "    ComputeEquivWidth(spec,wlmin,wlmax,wlminline,wlmaxline,flag_plot=True)\n",
    "    \n",
    "    - input :\n",
    "    \n",
    "    \n",
    "    - output :\n",
    "    \n",
    "    \"\"\"\n",
    "            \n",
    "    # region used to fit bacgroud        \n",
    "    sub_region = SpectralRegion(wlmin , wlmax)\n",
    "    # line region to remove background\n",
    "    line_region = SpectralRegion(wlminline , wlmaxline)\n",
    "    \n",
    "    # region where one extract the spectrum\n",
    "    sub_spectrum = extract_region(spec, sub_region)\n",
    "    \n",
    "    # initialisaition of linear model\n",
    "    g_init = models.Linear1D(slope=0,intercept=1e-12)\n",
    "    \n",
    "    # fit on sub-spectrum\n",
    "    g1_fit = fit_generic_continuum(sub_spectrum,model=g_init,exclude_regions=[line_region])\n",
    "    # fit by keeping the whole spectrum , but fitting on hte relevant part of the spectrum\n",
    "    g2_fit = fit_continuum(spec,model=g_init,window=sub_region,exclude_regions=[line_region])\n",
    "    \n",
    "    \n",
    "    y_continuum_fitted1 = g1_fit(sub_spectrum.spectral_axis)\n",
    "    y_continuum_fitted2 = g2_fit(spec.spectral_axis)\n",
    "    \n",
    "    # normalize the spectrum\n",
    "    cont_norm_spec = spec/ y_continuum_fitted2 \n",
    "    \n",
    "    eqw1=equivalent_width(cont_norm_spec, regions=line_region) \n",
    "    eqw2=equivalent_width(cont_norm_spec, regions=sub_region)  \n",
    "    \n",
    "    \n",
    "    if flag_plot:\n",
    "        \n",
    "        YMIN=spec.flux.min()\n",
    "        YMAX=1.2*spec.flux.max()\n",
    "        \n",
    "        eqw_str1=\"$Eqw_1$ = {:2.2f} $\\AA$ \".format(eqw1.value)\n",
    "        eqw_str2=\"$Eqw_2$ = {:2.2f} $\\AA$ \".format(eqw2.value)\n",
    "    \n",
    "    \n",
    "        eqw_str='\\n'.join((\n",
    "        r'{}'.format(eqw_str1),\n",
    "        r'{}'.format(eqw_str2)))\n",
    "        \n",
    "        if ax1==None: \n",
    "            f, ax1 = plt.subplots(figsize=(8,4))\n",
    "            \n",
    "        ax1.plot(spec.spectral_axis, spec.flux,'k-')  \n",
    "        ax1.plot(sub_spectrum.spectral_axis, y_continuum_fitted1,'r-.',label=\"fit region\")  \n",
    "        ax1.plot(spec.spectral_axis, y_continuum_fitted2,'b:',label=\"extrapolated fit continuum\")  \n",
    "        ax1.set_title(\"Local continuum fitting\")  \n",
    "        ax1.grid(True)  \n",
    "        ax1.legend()\n",
    "        ax1.axvline(wlminline,color='r')\n",
    "        ax1.axvline(wlmaxline,color=\"r\")\n",
    "        ax1.axvline(wlmin,color='g')\n",
    "        ax1.axvline(wlmax,color=\"g\")\n",
    "        ax1.set_ylim(YMIN,YMAX)\n",
    "        \n",
    "        \n",
    "        if ax2==None:\n",
    "            f, ax2 = plt.subplots(figsize=(8,4)) \n",
    "            \n",
    "            \n",
    "        ax2.plot(spec.spectral_axis, cont_norm_spec.flux,'k-')  \n",
    "        ax2.set_title(\"Equivalent width\")  \n",
    "        ax2.grid(True)  \n",
    "        ax2.legend()\n",
    "        ax2.axvline(wlminline,color='r')\n",
    "        ax2.axvline(wlmaxline,color=\"r\")\n",
    "        ax2.axvline(wlmin,color='g')\n",
    "        ax2.axvline(wlmax,color=\"g\")\n",
    "        ax2.set_ylim(0,2)\n",
    "        ax2.text(0.05, 0.95, eqw_str, transform=ax2.transAxes, fontsize=12,verticalalignment='top', bbox=props)\n",
    "        \n",
    "    return eqw1.value,eqw2.value     "
   ]
  },
  {
   "cell_type": "code",
   "execution_count": null,
   "metadata": {},
   "outputs": [],
   "source": [
    "def ComputeEquivWidth_bootstrap(spec,specerr,wlmin,wlmax,wlminline,wlmaxline,NN=20,flag_plot=True,ax1=None,ax2=None):\n",
    "    \"\"\"\n",
    "    \n",
    "    ComputeEquivWidth_bootstrap(spec,specerr,wlmin,wlmax,wlminline,wlmaxline)\n",
    "    \n",
    "    - input :\n",
    "    \n",
    "    \n",
    "    - output :\n",
    "    \n",
    "    \"\"\"\n",
    "    \n",
    "    # region used to fit bacgroud        \n",
    "    sub_region = SpectralRegion(wlmin , wlmax)\n",
    "    # line region to remove background\n",
    "    line_region = SpectralRegion(wlminline , wlmaxline)\n",
    "         \n",
    "    \n",
    "    # region used to fit bacgroud        \n",
    "    sub_region = SpectralRegion(wlmin , wlmax)\n",
    "    # line region to remove background\n",
    "    line_region = SpectralRegion(wlminline , wlmaxline)\n",
    "    \n",
    "    # region where one extract the spectrum\n",
    "    sub_spectrum = extract_region(spec, sub_region)\n",
    "    \n",
    "    # initialisaition of linear model\n",
    "    g_init = models.Linear1D(slope=0,intercept=1e-12)\n",
    "    \n",
    "    # fit on sub-spectrum\n",
    "    g1_fit = fit_generic_continuum(sub_spectrum,model=g_init,exclude_regions=[line_region])\n",
    "    # fit by keeping the whole spectrum , but fitting on hte relevant part of the spectrum\n",
    "    g2_fit = fit_continuum(spec,model=g_init,window=sub_region,exclude_regions=[line_region])\n",
    "    \n",
    "    \n",
    "    y_continuum_fitted1 = g1_fit(sub_spectrum.spectral_axis)\n",
    "    y_continuum_fitted2 = g2_fit(spec.spectral_axis)\n",
    "    \n",
    "    # normalize the spectrum\n",
    "    cont_norm_spec = spec/ y_continuum_fitted2 \n",
    "       \n",
    "    eqw10=equivalent_width(cont_norm_spec, regions=line_region).value \n",
    "    eqw20=equivalent_width(cont_norm_spec, regions=sub_region).value \n",
    "       \n",
    "    # Bootstrap\n",
    "    \n",
    "    \n",
    "    eqw1_set=np.zeros(NN)\n",
    "    eqw2_set=np.zeros(NN)\n",
    "    size=len(specerr.flux)\n",
    "    \n",
    "    # loop on trials \n",
    "    for idx in np.arange(NN):\n",
    "        \n",
    "        # random generator for errors\n",
    "        s = np.random.normal(0, 1, size)\n",
    "        \n",
    "        # new flux\n",
    "        newspec = Spectrum1D(spectral_axis=spec.spectral_axis, flux=spec.flux+specerr.flux*s)\n",
    "              \n",
    "    \n",
    "        # region where one extract the spectrum\n",
    "        sub_spectrum = extract_region(newspec, sub_region)\n",
    "    \n",
    "        # initialisaition of linear model\n",
    "        g_init = models.Linear1D(slope=0,intercept=1e-12)\n",
    "    \n",
    "        # fit on sub-spectrum\n",
    "        g1_fit = fit_generic_continuum(sub_spectrum,model=g_init,exclude_regions=[line_region])\n",
    "        # fit by keeping the whole spectrum , but fitting on hte relevant part of the spectrum\n",
    "        g2_fit = fit_continuum(newspec,model=g_init,window=sub_region,exclude_regions=[line_region])\n",
    "    \n",
    "    \n",
    "        y_continuum_fitted1 = g1_fit(sub_spectrum.spectral_axis)\n",
    "        y_continuum_fitted2 = g2_fit(newspec.spectral_axis)\n",
    "    \n",
    "        # normalize the spectrum\n",
    "        cont_norm_spec = newspec/ y_continuum_fitted2 \n",
    "    \n",
    "    \n",
    "        eqw1=equivalent_width(cont_norm_spec, regions=line_region) \n",
    "        eqw2=equivalent_width(cont_norm_spec, regions=sub_region) \n",
    "        \n",
    "        \n",
    "        eqw1_set[idx]=eqw1.value\n",
    "        eqw2_set[idx]=eqw2.value\n",
    "        \n",
    "     \n",
    "    eqw1_std=eqw1_set.std()\n",
    "    eqw2_std=eqw2_set.std()\n",
    "    \n",
    "    \n",
    "    if flag_plot:\n",
    "        \n",
    "        YMIN=spec.flux.min()\n",
    "        YMAX=1.2*spec.flux.max()\n",
    "        \n",
    "        eqw_str1=\"$Eqw_1$ = {:2.2f} $\\pm$ {:2.2f} $\\AA$ \".format(eqw10,eqw1_std)\n",
    "        eqw_str2=\"$Eqw_2$ = {:2.2f} $\\pm$ {:2.2f} $\\AA$ \".format(eqw20,eqw2_std)\n",
    "    \n",
    "    \n",
    "        eqw_str='\\n'.join((\n",
    "        r'{}'.format(eqw_str1),\n",
    "        r'{}'.format(eqw_str2)))\n",
    "        \n",
    "        if ax1==None: \n",
    "            f, ax1 = plt.subplots(figsize=(8,4))\n",
    "            \n",
    "        ax1.plot(spec.spectral_axis, spec.flux,'k-')  \n",
    "        ax1.plot(sub_spectrum.spectral_axis, y_continuum_fitted1,'r-.',label=\"fit region\")  \n",
    "        ax1.plot(spec.spectral_axis, y_continuum_fitted2,'b:',label=\"extrapolated fit continuum\")  \n",
    "        ax1.set_title(\"Local continuum fitting\")  \n",
    "        ax1.grid(True)  \n",
    "        ax1.legend()\n",
    "        ax1.axvline(wlminline,color='r')\n",
    "        ax1.axvline(wlmaxline,color=\"r\")\n",
    "        ax1.axvline(wlmin,color='g')\n",
    "        ax1.axvline(wlmax,color=\"g\")\n",
    "        ax1.set_ylim(YMIN,YMAX)\n",
    "        \n",
    "        \n",
    "        if ax2==None:\n",
    "            f, ax2 = plt.subplots(figsize=(8,4)) \n",
    "            \n",
    "            \n",
    "        ax2.plot(spec.spectral_axis, cont_norm_spec.flux,'k-')  \n",
    "        ax2.set_title(\"Equivalent width\")  \n",
    "        ax2.grid(True)  \n",
    "        ax2.legend()\n",
    "        ax2.axvline(wlminline,color='r')\n",
    "        ax2.axvline(wlmaxline,color=\"r\")\n",
    "        ax2.axvline(wlmin,color='g')\n",
    "        ax2.axvline(wlmax,color=\"g\")\n",
    "        ax2.set_ylim(0,2)\n",
    "        ax2.text(0.05, 0.95, eqw_str, transform=ax2.transAxes, fontsize=12,verticalalignment='top', bbox=props)\n",
    "               \n",
    "        \n",
    "    return eqw10,eqw20,eqw1_set,eqw2_set     "
   ]
  },
  {
   "cell_type": "markdown",
   "metadata": {},
   "source": [
    "### The original spectrum"
   ]
  },
  {
   "cell_type": "markdown",
   "metadata": {},
   "source": [
    "#### O2 line"
   ]
  },
  {
   "cell_type": "code",
   "execution_count": null,
   "metadata": {},
   "outputs": [],
   "source": [
    "wlmin=10*(O2_1.wavelength-30)*u.AA\n",
    "wlmax=10*(O2_1.wavelength+30)*u.AA\n",
    "wlminline=10*(O2_1.wavelength-10)*u.AA\n",
    "wlmaxline=10*(O2_1.wavelength+10)*u.AA"
   ]
  },
  {
   "cell_type": "code",
   "execution_count": null,
   "metadata": {},
   "outputs": [],
   "source": [
    "fig=plt.figure(figsize=(16,4))\n",
    "ax1 = fig.add_subplot(1, 2, 1)\n",
    "ax2 = fig.add_subplot(1, 2, 2)\n",
    "eq1,eq2=ComputeEquivWidth(spec,wlmin,wlmax,wlminline,wlmaxline,flag_plot=True,ax1=ax1,ax2=ax2)\n",
    "plt.suptitle(thetitle)"
   ]
  },
  {
   "cell_type": "code",
   "execution_count": null,
   "metadata": {},
   "outputs": [],
   "source": [
    "fig=plt.figure(figsize=(16,4))\n",
    "ax1 = fig.add_subplot(1, 2, 1)\n",
    "ax2 = fig.add_subplot(1, 2, 2)\n",
    "eqw10,eqw20,eq1_set,eq2_set=ComputeEquivWidth_bootstrap(spec,specerr,wlmin,wlmax,wlminline,wlmaxline,NN=30,flag_plot=True,ax1=ax1,ax2=ax2)\n",
    "plt.suptitle(thetitle)"
   ]
  },
  {
   "cell_type": "code",
   "execution_count": null,
   "metadata": {},
   "outputs": [],
   "source": [
    "fig=plt.figure(figsize=(16,4))\n",
    "ax1 = fig.add_subplot(1, 2, 1)\n",
    "ax1.hist(eq1_set,bins=50,histtype='step',color='b');\n",
    "ax1.axvline(eqw10,color='r')\n",
    "ax2 = fig.add_subplot(1, 2, 2)\n",
    "ax2.hist(eq2_set,bins=50,histtype='step',color=\"b\");\n",
    "ax2.axvline(eqw20,color='r')\n",
    "plt.suptitle(thetitle)"
   ]
  },
  {
   "cell_type": "markdown",
   "metadata": {},
   "source": [
    "### H2O line"
   ]
  },
  {
   "cell_type": "code",
   "execution_count": null,
   "metadata": {},
   "outputs": [],
   "source": [
    "wlmin=10*(H2O_1.wavelength-30)*u.AA\n",
    "wlmax=10*(H2O_2.wavelength+30)*u.AA\n",
    "wlminline=10*(H2O_1.wavelength-12)*u.AA\n",
    "wlmaxline=10*(H2O_2.wavelength+10)*u.AA"
   ]
  },
  {
   "cell_type": "code",
   "execution_count": null,
   "metadata": {},
   "outputs": [],
   "source": [
    "lamb = 10*s.lambdas * u.AA \n",
    "flux = s.data * u.Unit('erg cm-2 s-1 AA-1')/10. \n",
    "fluxerr = s.err * u.Unit('erg cm-2 s-1 AA-1')/10. \n",
    "spec = Spectrum1D(spectral_axis=lamb, flux=flux)\n",
    "specerr = Spectrum1D(spectral_axis=lamb, flux=fluxerr)"
   ]
  },
  {
   "cell_type": "code",
   "execution_count": null,
   "metadata": {},
   "outputs": [],
   "source": [
    "fig=plt.figure(figsize=(16,4))\n",
    "ax1 = fig.add_subplot(1, 2, 1)\n",
    "ax2 = fig.add_subplot(1, 2, 2)\n",
    "ComputeEquivWidth(spec,wlmin,wlmax,wlminline,wlmaxline,flag_plot=True,ax1=ax1,ax2=ax2)\n",
    "plt.suptitle(thetitle)"
   ]
  },
  {
   "cell_type": "code",
   "execution_count": null,
   "metadata": {},
   "outputs": [],
   "source": [
    "fig=plt.figure(figsize=(16,4))\n",
    "ax1 = fig.add_subplot(1, 2, 1)\n",
    "ax2 = fig.add_subplot(1, 2, 2)\n",
    "eqw10,eqw20,eq1_set,eq2_set=ComputeEquivWidth_bootstrap(spec,specerr,wlmin,wlmax,wlminline,wlmaxline,NN=30,flag_plot=True,ax1=ax1,ax2=ax2)\n",
    "plt.suptitle(thetitle)"
   ]
  },
  {
   "cell_type": "code",
   "execution_count": null,
   "metadata": {},
   "outputs": [],
   "source": [
    "fig=plt.figure(figsize=(16,4))\n",
    "ax1 = fig.add_subplot(1, 2, 1)\n",
    "ax1.hist(eq1_set,bins=50,histtype='step',color='b');\n",
    "ax1.axvline(eqw10,color='r')\n",
    "ax2 = fig.add_subplot(1, 2, 2)\n",
    "ax2.hist(eq2_set,bins=50,histtype='step',color='b');\n",
    "ax2.axvline(eqw20,color='r')\n",
    "plt.suptitle(thetitle)"
   ]
  },
  {
   "cell_type": "markdown",
   "metadata": {},
   "source": [
    "# Loop on spectra with Spectractor"
   ]
  },
  {
   "cell_type": "code",
   "execution_count": null,
   "metadata": {},
   "outputs": [],
   "source": [
    "WLMIN=300\n",
    "WLMAX=1000\n",
    "lambdas = np.arange(WLMIN,WLMAX,1)\n",
    "fwhm_func = interp1d(lambdas, 0.01 * lambdas)\n",
    "parameters.DISPLAY=False\n",
    "\n",
    "\n",
    "for IDXSEL in np.arange(0,7):\n",
    "    filename_SEL=all_good_spectra_spectrum_files[IDXSEL]\n",
    "    filename_spectrogram_SEL=filename_SEL.replace(\"_spectrum\",\"_spectrogram\")\n",
    "    fullfilename_SEL = os.path.join(dir_spectra,filename_SEL)\n",
    "    fullfilename_spectrogram_SEL = fullfilename_SEL.replace(\"_spectrum\",\"_spectrogram\")\n",
    "    \n",
    "    # load the spectrum\n",
    "    s=Spectrum(fullfilename_SEL, config=config)\n",
    "    s.load_spectrogram(fullfilename_spectrogram_SEL) \n",
    "    \n",
    "    #wlidx=np.where(np.logical_and( s.lambdas>=WLMIN, s.lambdas<=WLMAX))[0]\n",
    "    #print(wlidx)\n",
    "    #wl=s.lambdas[wlidx]\n",
    "    \n",
    "    #specify the lines  \n",
    "    lines = Lines([O2_1,H2O_1,H2O_2],atmospheric_lines=True, redshift=0, emission_spectrum=False)\n",
    "    s.lines = lines\n",
    "    \n",
    "    global_chisq = detect_lines(lines, s.lambdas, s.data, s.err, fwhm_func=fwhm_func)\n",
    "    \n",
    "    print(IDXSEL,\") \",filename_SEL)\n",
    "    thetitle=str(IDXSEL)+\") \"+filename_SEL\n",
    "    \n",
    "    fig = plt.figure(figsize=(10,5))\n",
    "    plot_spectrum_simple(plt.gca(), s.lambdas, s.data, s.err)\n",
    "    lines.plot_detected_lines(plt.gca())\n",
    "    plt.title(thetitle)\n",
    "    plt.show()\n",
    "    \n",
    "    print(lines.print_detected_lines())\n",
    "    print(lines.print_detected_lines()[0][\"Eqwidth_data\"])\n",
    "    df_infos.at[IDXSEL,\"eqw_o2_spec\"] = lines.print_detected_lines()[0][\"Eqwidth_data\"]*10.\n",
    "    \n",
    "    "
   ]
  },
  {
   "cell_type": "code",
   "execution_count": null,
   "metadata": {},
   "outputs": [],
   "source": [
    "print(lines.print_detected_lines())"
   ]
  },
  {
   "cell_type": "code",
   "execution_count": null,
   "metadata": {},
   "outputs": [],
   "source": [
    "type(lines.print_detected_lines())"
   ]
  },
  {
   "cell_type": "code",
   "execution_count": null,
   "metadata": {},
   "outputs": [],
   "source": [
    "print(lines.print_detected_lines()[0][\"Eqwidth_data\"])"
   ]
  },
  {
   "cell_type": "code",
   "execution_count": null,
   "metadata": {},
   "outputs": [],
   "source": [
    "df_infos"
   ]
  },
  {
   "cell_type": "markdown",
   "metadata": {},
   "source": [
    "# Loop on spectrum, compute O2 line equivalent width with specutils "
   ]
  },
  {
   "cell_type": "code",
   "execution_count": null,
   "metadata": {},
   "outputs": [],
   "source": [
    "WLMIN=300\n",
    "WLMAX=1000\n",
    "lambdas = np.arange(WLMIN,WLMAX,1)\n",
    "fwhm_func = interp1d(lambdas, 0.01 * lambdas)\n",
    "parameters.DISPLAY=False\n",
    "\n",
    "\n",
    "for IDXSEL in np.arange(0,8):\n",
    "\n",
    "    \n",
    "    \n",
    "    filename_SEL=all_good_spectra_spectrum_files[IDXSEL]\n",
    "    filename_spectrogram_SEL=filename_SEL.replace(\"_spectrum\",\"_spectrogram\")\n",
    "    fullfilename_SEL = os.path.join(dir_spectra,filename_SEL)\n",
    "    fullfilename_spectrogram_SEL = fullfilename_SEL.replace(\"_spectrum\",\"_spectrogram\")\n",
    "    \n",
    "    # load the spectrum\n",
    "    \n",
    "    print(IDXSEL,\") \",filename_SEL)\n",
    "    \n",
    "    s=Spectrum(fullfilename_SEL, config=config)\n",
    "    s.load_spectrogram(fullfilename_spectrogram_SEL) \n",
    "    \n",
    "    \n",
    "    lamb = 10*s.lambdas * u.AA \n",
    "    flux = s.data * u.Unit('erg cm-2 s-1 AA-1')/10 \n",
    "    spec = Spectrum1D(spectral_axis=lamb, flux=flux) \n",
    "    fluxerr = s.err * u.Unit('erg cm-2 s-1 AA-1')/10. \n",
    "    specerr = Spectrum1D(spectral_axis=lamb, flux=fluxerr)\n",
    "    \n",
    "    # O2 line\n",
    "    wlmin=10*(O2_1.wavelength-30)*u.AA\n",
    "    wlmax=10*(O2_1.wavelength+30)*u.AA\n",
    "    wlminline=10*(O2_1.wavelength-10)*u.AA\n",
    "    wlmaxline=10*(O2_1.wavelength+10)*u.AA\n",
    "    \n",
    "    \n",
    "    \n",
    "    fig=plt.figure(figsize=(16,4))\n",
    "    ax1 = fig.add_subplot(1, 2, 1)\n",
    "    ax2 = fig.add_subplot(1, 2, 2)\n",
    "    #eq1,eq2=ComputeEquivWidth(spec,wlmin,wlmax,wlminline,wlmaxline,flag_plot=True,ax1=ax1,ax2=ax2)\n",
    "    eqw10,eqw20,eq1_set,eq2_set=ComputeEquivWidth_bootstrap(spec,specerr,wlmin,wlmax,wlminline,wlmaxline,NN=20,flag_plot=True,ax1=ax1,ax2=ax2)\n",
    "    thetitle=str(IDXSEL)+\") \"+filename_SEL\n",
    "    plt.suptitle(thetitle,y=1.01)\n",
    "    plt.show() \n",
    "    \n",
    "    print(IDXSEL,\") eqw_O2=\",eqw10)\n",
    "    \n",
    "    df_infos.at[IDXSEL,\"eqw_o2\"] =  eqw10"
   ]
  },
  {
   "cell_type": "markdown",
   "metadata": {},
   "source": [
    "# Loop on spectrum, compute H2O line equivalent width with specutils "
   ]
  },
  {
   "cell_type": "code",
   "execution_count": null,
   "metadata": {},
   "outputs": [],
   "source": [
    "WLMIN=300\n",
    "WLMAX=1000\n",
    "lambdas = np.arange(WLMIN,WLMAX,1)\n",
    "fwhm_func = interp1d(lambdas, 0.01 * lambdas)\n",
    "parameters.DISPLAY=False\n",
    "\n",
    "\n",
    "for IDXSEL in np.arange(0,8):\n",
    "    filename_SEL=all_good_spectra_spectrum_files[IDXSEL]\n",
    "    filename_spectrogram_SEL=filename_SEL.replace(\"_spectrum\",\"_spectrogram\")\n",
    "    fullfilename_SEL = os.path.join(dir_spectra,filename_SEL)\n",
    "    fullfilename_spectrogram_SEL = fullfilename_SEL.replace(\"_spectrum\",\"_spectrogram\")\n",
    "    \n",
    "    # load the spectrum\n",
    "    s=Spectrum(fullfilename_SEL, config=config)\n",
    "    s.load_spectrogram(fullfilename_spectrogram_SEL) \n",
    "    \n",
    "    \n",
    "    lamb = 10*s.lambdas * u.AA \n",
    "    flux = s.data * u.Unit('erg cm-2 s-1 AA-1')/10 \n",
    "    spec = Spectrum1D(spectral_axis=lamb, flux=flux) \n",
    "    fluxerr = s.err * u.Unit('erg cm-2 s-1 AA-1')/10. \n",
    "    specerr = Spectrum1D(spectral_axis=lamb, flux=fluxerr)\n",
    "    \n",
    "    # H2O line\n",
    "    \n",
    "    wlmin=10*(H2O_1.wavelength-30)*u.AA\n",
    "    wlmax=10*(H2O_2.wavelength+30)*u.AA\n",
    "    wlminline=10*(H2O_1.wavelength-12)*u.AA\n",
    "    wlmaxline=10*(H2O_2.wavelength+10)*u.AA\n",
    "    \n",
    "    \n",
    "    fig=plt.figure(figsize=(16,4))\n",
    "    ax1 = fig.add_subplot(1, 2, 1)\n",
    "    ax2 = fig.add_subplot(1, 2, 2)\n",
    "    eqw1,eqw2=ComputeEquivWidth(spec,wlmin,wlmax,wlminline,wlmaxline,flag_plot=True,ax1=ax1,ax2=ax2)\n",
    "    #eqw10,eqw20,eq1_set,eq2_set=ComputeEquivWidth_bootstrap(spec,specerr,wlmin,wlmax,wlminline,wlmaxline,NN=20,flag_plot=True,ax1=ax1,ax2=ax2)\n",
    "    thetitle=str(IDXSEL)+\") \"+filename_SEL\n",
    "    plt.suptitle(thetitle,y=1.01)\n",
    "    plt.show() \n",
    "    \n",
    "    print(IDXSEL,\") eqw_O2=\",eqw1)\n",
    "    \n",
    "    df_infos.at[IDXSEL,\"eqw_h2o\"] =  eqw1"
   ]
  },
  {
   "cell_type": "code",
   "execution_count": null,
   "metadata": {},
   "outputs": [],
   "source": [
    "df_infos"
   ]
  },
  {
   "cell_type": "code",
   "execution_count": null,
   "metadata": {},
   "outputs": [],
   "source": [
    "df_infos.to_csv(\"eqw.csv\")"
   ]
  },
  {
   "cell_type": "code",
   "execution_count": null,
   "metadata": {},
   "outputs": [],
   "source": [
    "fig=plt.figure(figsize=(16,4))\n",
    "#plt.xticks(rotation=90)\n",
    "ax = fig.add_subplot(1, 1, 1)\n",
    "ax.plot(df_infos['date_obs'], df_infos['eqw_o2'],marker=\"o\",color=\"red\",label=\"$eqw(O_2)$\");\n",
    "ax.plot(df_infos['date_obs'], df_infos['eqw_h2o'],marker=\"o\",color=\"blue\",label=\"$eqw(H_2O)$\");\n",
    "#ax.set_xticks(rotation='vertical');\n",
    "ax.xaxis.set_tick_params(rotation=90)\n",
    "ax.legend(loc=\"upper right\")\n",
    "ax.set_ylabel(\"Equivalent Width $\\AA$\")\n",
    "ax2 = ax.twinx()\n",
    "ax2.plot(df_infos['date_obs'], df_infos['airmass'],linestyle='dotted', marker='.',color=\"green\",label=\"airmass\")\n",
    "ax2.set_ylim(1,1.5)\n",
    "ax2.legend(loc=\"upper left\")\n",
    "ax2.set_ylabel(\"airmass\")\n",
    "ax.set_title(\"Equivalent Widths vs date\")"
   ]
  },
  {
   "cell_type": "code",
   "execution_count": null,
   "metadata": {},
   "outputs": [],
   "source": [
    "fig=plt.figure(figsize=(16,5))\n",
    "#plt.xticks(rotation=90)\n",
    "ax = fig.add_subplot(1, 1, 1)\n",
    "df_infos.plot(ax=ax,x=\"date_obs\", y=[\"eqw_o2\",\"eqw_h2o\"],color=[\"r\",\"b\"],marker=\"o\");\n",
    "#plt.gcf().autofmt_xdate(rotation=90) \n",
    "ax.xaxis.set_tick_params(rotation=90)\n",
    "ax.legend(loc=\"upper right\")\n",
    "ax.set_ylabel(\"Equivalent Width $\\AA$\")\n",
    "ax.set_yscale(\"log\")\n",
    "\n",
    "ax2 = ax.twinx()\n",
    "df_infos.plot(ax=ax2,x=\"date_obs\", y=\"airmass\",color=[\"g\"],marker=\"o\",lw=0);\n",
    "ax2.legend(loc=\"upper left\")\n",
    "ax2.set_ylabel(\"airmass\")\n",
    "ax2.set_ylim(1,2)\n",
    "ax2.xaxis.set_tick_params(rotation=90)\n",
    "ax.set_title(\"Equivalent Widths vs date\")\n"
   ]
  },
  {
   "cell_type": "code",
   "execution_count": null,
   "metadata": {},
   "outputs": [],
   "source": [
    "fig=plt.figure(figsize=(16,4))\n",
    "#plt.xticks(rotation=90)\n",
    "ax = fig.add_subplot(1, 1, 1)\n",
    "ax.plot(df_infos['reftime'], df_infos['eqw_o2'],marker=\"o\",color=\"red\",label=\"$eqw(O_2)$\");\n",
    "ax.plot(df_infos['reftime'], df_infos['eqw_h2o'],marker=\"o\",color=\"blue\",label=\"$eqw(H_2O)$\");\n",
    "#ax.set_xticks(rotation='vertical');\n",
    "#ax.xaxis.set_tick_params(rotation=90)\n",
    "ax.set_xlabel(\"number of hours\")\n",
    "ax.legend(loc=\"upper right\")\n",
    "ax.set_ylabel(\"Equivalent Width $\\AA$\")\n",
    "ax2 = ax.twinx()\n",
    "ax2.plot(df_infos['reftime'], df_infos['airmass'],linestyle='dotted', marker='.',color=\"green\",label=\"airmass\",lw=0)\n",
    "ax2.set_ylim(1,1.5)\n",
    "ax2.legend(loc=\"upper left\")\n",
    "ax2.set_ylabel(\"airmass\")\n",
    "ax.set_title(\"Equivalent Widths vs date\")"
   ]
  },
  {
   "cell_type": "code",
   "execution_count": null,
   "metadata": {},
   "outputs": [],
   "source": []
  }
 ],
 "metadata": {
  "kernelspec": {
   "display_name": "anaconda3_auxtel",
   "language": "python",
   "name": "anaconda3_auxtel"
  },
  "language_info": {
   "codemirror_mode": {
    "name": "ipython",
    "version": 3
   },
   "file_extension": ".py",
   "mimetype": "text/x-python",
   "name": "python",
   "nbconvert_exporter": "python",
   "pygments_lexer": "ipython3",
   "version": "3.8.5"
  },
  "toc": {
   "base_numbering": 1,
   "nav_menu": {},
   "number_sections": true,
   "sideBar": true,
   "skip_h1_title": false,
   "title_cell": "Table of Contents",
   "title_sidebar": "Contents",
   "toc_cell": false,
   "toc_position": {},
   "toc_section_display": true,
   "toc_window_display": false
  }
 },
 "nbformat": 4,
 "nbformat_minor": 4
}
