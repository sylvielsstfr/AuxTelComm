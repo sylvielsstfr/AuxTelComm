{
 "cells": [
  {
   "cell_type": "code",
   "execution_count": null,
   "id": "d1c1e59e-40bd-424c-9bb1-a689956e3c72",
   "metadata": {},
   "outputs": [],
   "source": []
  }
 ],
 "metadata": {
  "kernelspec": {
   "display_name": "anaconda3_auxtel",
   "language": "python",
   "name": "anaconda3_auxtel"
  },
  "language_info": {
   "name": ""
  }
 },
 "nbformat": 4,
 "nbformat_minor": 5
}
