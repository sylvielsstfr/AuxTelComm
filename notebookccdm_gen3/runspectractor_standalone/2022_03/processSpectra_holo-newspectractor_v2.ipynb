{
 "cells": [
  {
   "cell_type": "markdown",
   "metadata": {},
   "source": [
    "# process spectra for AuxTel with new spectractor (March 2022)"
   ]
  },
  {
   "cell_type": "markdown",
   "metadata": {},
   "source": [
    "- author : Sylvie Dagoret-Campagne\n",
    "- affiliation : IJCLab/IN2P3/CNES, DESC-LSST fullmember, behalf AuxTel Teal VERA C. Rubin observatory\n",
    "- creation date : October 14th 2021\n",
    "- last update : November 2nd 2021\n",
    "- version v4 : Work with new exposure format quickLookExp_v2\n",
    "\n",
    "\n",
    "This notebook is to help for finding the position of order 0\n",
    "\n",
    "CCIN2P3:\n",
    "\n",
    "- works with kernels **anaconda3_auxtel** (with libradtran) and **anaconda3_auxtel_v2** (no libradtran)\n",
    "- works with kernel **python 3** locally "
   ]
  },
  {
   "cell_type": "markdown",
   "metadata": {},
   "source": [
    "# Scan\n",
    "\n",
    "    # wide scan : HD 160617 \n",
    "    # all_myseq_holo=range(234,310)\n",
    "    # narrow scan :  HD 160617 \n",
    "    # all_myseq_holo=range(317,365)\n"
   ]
  },
  {
   "cell_type": "markdown",
   "metadata": {},
   "source": [
    "# Imports"
   ]
  },
  {
   "cell_type": "code",
   "execution_count": 1,
   "metadata": {},
   "outputs": [],
   "source": [
    "%load_ext autoreload\n",
    "%autoreload 2"
   ]
  },
  {
   "cell_type": "code",
   "execution_count": 2,
   "metadata": {},
   "outputs": [
    {
     "name": "stdout",
     "output_type": "stream",
     "text": [
      "['/Users/sylvie/MacOSX/GitHub/LSST/AuxTelComm/notebookccdm_gen3/runspectractor_standalone/2022_03', '/Users/sylvie/opt/anaconda3/lib/python39.zip', '/Users/sylvie/opt/anaconda3/lib/python3.9', '/Users/sylvie/opt/anaconda3/lib/python3.9/lib-dynload', '', '/Users/sylvie/opt/anaconda3/lib/python3.9/site-packages', '/Users/sylvie/opt/anaconda3/lib/python3.9/site-packages/aeosa', '/Users/sylvie/opt/anaconda3/lib/python3.9/site-packages/Spectractor-2.1-py3.9.egg', '/Users/sylvie/opt/anaconda3/lib/python3.9/site-packages/emcee-3.1.1-py3.9.egg', '/Users/sylvie/opt/anaconda3/lib/python3.9/site-packages/astroquery-0.4.6-py3.9.egg', '/Users/sylvie/opt/anaconda3/lib/python3.9/site-packages/docopt-0.6.2-py3.9.egg', '/Users/sylvie/opt/anaconda3/lib/python3.9/site-packages/pytz-2022.1-py3.9.egg', '/Users/sylvie/opt/anaconda3/lib/python3.9/site-packages/urllib3-1.26.9-py3.9.egg', '/Users/sylvie/opt/anaconda3/lib/python3.9/site-packages/python_mimeparse-1.6.0-py3.9.egg', '/Users/sylvie/opt/anaconda3/lib/python3.9/site-packages/locket-0.2.1-py3.9.egg', '/Users/sylvie/opt/anaconda3/lib/python3.9/site-packages/IPython/extensions', '/Users/sylvie/.ipython']\n"
     ]
    }
   ],
   "source": [
    "import sys\n",
    "print(sys.path)"
   ]
  },
  {
   "cell_type": "code",
   "execution_count": 3,
   "metadata": {},
   "outputs": [],
   "source": [
    "all_paths_to_remove = ['/opt/conda/lib/python3.8/site-packages','/pbs/home/d/dagoret/.local/lib/python3.8/site-packages']\n",
    "\n",
    "for path_to_remove in all_paths_to_remove:\n",
    "    if path_to_remove in sys.path:\n",
    "        print(f\"remove {path_to_remove} from sys.path\")\n",
    "        sys.path.remove(path_to_remove)"
   ]
  },
  {
   "cell_type": "code",
   "execution_count": 4,
   "metadata": {},
   "outputs": [
    {
     "data": {
      "text/plain": [
       "['/Users/sylvie/MacOSX/GitHub/LSST/AuxTelComm/notebookccdm_gen3/runspectractor_standalone/2022_03',\n",
       " '/Users/sylvie/opt/anaconda3/lib/python39.zip',\n",
       " '/Users/sylvie/opt/anaconda3/lib/python3.9',\n",
       " '/Users/sylvie/opt/anaconda3/lib/python3.9/lib-dynload',\n",
       " '',\n",
       " '/Users/sylvie/opt/anaconda3/lib/python3.9/site-packages',\n",
       " '/Users/sylvie/opt/anaconda3/lib/python3.9/site-packages/aeosa',\n",
       " '/Users/sylvie/opt/anaconda3/lib/python3.9/site-packages/Spectractor-2.1-py3.9.egg',\n",
       " '/Users/sylvie/opt/anaconda3/lib/python3.9/site-packages/emcee-3.1.1-py3.9.egg',\n",
       " '/Users/sylvie/opt/anaconda3/lib/python3.9/site-packages/astroquery-0.4.6-py3.9.egg',\n",
       " '/Users/sylvie/opt/anaconda3/lib/python3.9/site-packages/docopt-0.6.2-py3.9.egg',\n",
       " '/Users/sylvie/opt/anaconda3/lib/python3.9/site-packages/pytz-2022.1-py3.9.egg',\n",
       " '/Users/sylvie/opt/anaconda3/lib/python3.9/site-packages/urllib3-1.26.9-py3.9.egg',\n",
       " '/Users/sylvie/opt/anaconda3/lib/python3.9/site-packages/python_mimeparse-1.6.0-py3.9.egg',\n",
       " '/Users/sylvie/opt/anaconda3/lib/python3.9/site-packages/locket-0.2.1-py3.9.egg',\n",
       " '/Users/sylvie/opt/anaconda3/lib/python3.9/site-packages/IPython/extensions',\n",
       " '/Users/sylvie/.ipython']"
      ]
     },
     "execution_count": 4,
     "metadata": {},
     "output_type": "execute_result"
    }
   ],
   "source": [
    "sys.path"
   ]
  },
  {
   "cell_type": "code",
   "execution_count": 5,
   "metadata": {},
   "outputs": [],
   "source": [
    "import numpy as np\n",
    "import matplotlib.pyplot as plt\n",
    "%matplotlib inline\n",
    "from mpl_toolkits.axes_grid1 import make_axes_locatable\n",
    "from matplotlib.colors import LogNorm\n",
    "from matplotlib import  transforms\n",
    "import pandas as pd\n",
    "\n",
    "import matplotlib.ticker                         # here's where the formatter is\n",
    "import os\n",
    "import re\n",
    "\n",
    "plt.rcParams[\"figure.figsize\"] = (12,12)\n",
    "plt.rcParams[\"axes.labelsize\"] = 'xx-large'\n",
    "plt.rcParams['axes.titlesize'] = 'xx-large'\n",
    "plt.rcParams['xtick.labelsize']= 'xx-large'\n",
    "plt.rcParams['ytick.labelsize']= 'xx-large'"
   ]
  },
  {
   "cell_type": "code",
   "execution_count": null,
   "metadata": {},
   "outputs": [],
   "source": []
  },
  {
   "cell_type": "code",
   "execution_count": 6,
   "metadata": {},
   "outputs": [
    {
     "data": {
      "text/plain": [
       "['/Users/sylvie/MacOSX/GitHub/LSST/AuxTelComm/notebookccdm_gen3/runspectractor_standalone/2022_03',\n",
       " '/Users/sylvie/opt/anaconda3/lib/python39.zip',\n",
       " '/Users/sylvie/opt/anaconda3/lib/python3.9',\n",
       " '/Users/sylvie/opt/anaconda3/lib/python3.9/lib-dynload',\n",
       " '',\n",
       " '/Users/sylvie/opt/anaconda3/lib/python3.9/site-packages',\n",
       " '/Users/sylvie/opt/anaconda3/lib/python3.9/site-packages/aeosa',\n",
       " '/Users/sylvie/opt/anaconda3/lib/python3.9/site-packages/Spectractor-2.1-py3.9.egg',\n",
       " '/Users/sylvie/opt/anaconda3/lib/python3.9/site-packages/emcee-3.1.1-py3.9.egg',\n",
       " '/Users/sylvie/opt/anaconda3/lib/python3.9/site-packages/astroquery-0.4.6-py3.9.egg',\n",
       " '/Users/sylvie/opt/anaconda3/lib/python3.9/site-packages/docopt-0.6.2-py3.9.egg',\n",
       " '/Users/sylvie/opt/anaconda3/lib/python3.9/site-packages/pytz-2022.1-py3.9.egg',\n",
       " '/Users/sylvie/opt/anaconda3/lib/python3.9/site-packages/urllib3-1.26.9-py3.9.egg',\n",
       " '/Users/sylvie/opt/anaconda3/lib/python3.9/site-packages/python_mimeparse-1.6.0-py3.9.egg',\n",
       " '/Users/sylvie/opt/anaconda3/lib/python3.9/site-packages/locket-0.2.1-py3.9.egg',\n",
       " '/Users/sylvie/opt/anaconda3/lib/python3.9/site-packages/IPython/extensions',\n",
       " '/Users/sylvie/.ipython']"
      ]
     },
     "execution_count": 6,
     "metadata": {},
     "output_type": "execute_result"
    }
   ],
   "source": [
    "sys.path"
   ]
  },
  {
   "cell_type": "code",
   "execution_count": 7,
   "metadata": {},
   "outputs": [
    {
     "name": "stdout",
     "output_type": "stream",
     "text": [
      "/Users/sylvie/opt/anaconda3/bin/python\n",
      "3.9.7 (default, Sep 16 2021, 08:50:36) \n",
      "[Clang 10.0.0 ]\n"
     ]
    }
   ],
   "source": [
    "print(sys.executable)\n",
    "print(sys.version)\n",
    "#print(sys.version_info)"
   ]
  },
  {
   "cell_type": "code",
   "execution_count": 8,
   "metadata": {},
   "outputs": [
    {
     "data": {
      "image/png": "[encoded data removed]",
      "text/plain": [
       "<Figure size 360x144 with 1 Axes>"
      ]
     },
     "metadata": {
      "needs_background": "light"
     },
     "output_type": "display_data"
    }
   ],
   "source": [
    "fig=plt.figure(figsize=(5,2))\n",
    "ax=fig.add_subplot(1,1,1)\n",
    "X=np.linspace(-10,10,50)\n",
    "Y=np.sin(X)\n",
    "ax.plot(X,Y)\n",
    "plt.show()               \n"
   ]
  },
  {
   "cell_type": "code",
   "execution_count": 9,
   "metadata": {},
   "outputs": [],
   "source": [
    "from iminuit import Minuit\n",
    "import iminuit"
   ]
  },
  {
   "cell_type": "code",
   "execution_count": 10,
   "metadata": {},
   "outputs": [
    {
     "data": {
      "text/plain": [
       "'2.8.4'"
      ]
     },
     "execution_count": 10,
     "metadata": {},
     "output_type": "execute_result"
    }
   ],
   "source": [
    "iminuit.__version__"
   ]
  },
  {
   "cell_type": "code",
   "execution_count": 11,
   "metadata": {},
   "outputs": [],
   "source": [
    "from astropy.io import fits\n",
    "from spectractor import parameters\n",
    "from spectractor.extractor.extractor import Spectractor\n",
    "from spectractor.extractor.images import *\n",
    "from scipy import ndimage, misc"
   ]
  },
  {
   "cell_type": "code",
   "execution_count": null,
   "metadata": {},
   "outputs": [],
   "source": []
  },
  {
   "cell_type": "code",
   "execution_count": null,
   "metadata": {},
   "outputs": [],
   "source": []
  },
  {
   "cell_type": "code",
   "execution_count": 12,
   "metadata": {},
   "outputs": [
    {
     "name": "stdout",
     "output_type": "stream",
     "text": [
      " MAIN_ID        RA           DEC      RA_PREC DEC_PREC ... COO_QUAL COO_WAVELENGTH     COO_BIBCODE     SCRIPT_NUMBER_ID\n",
      "             \"h:m:s\"       \"d:m:s\"                     ...                                                             \n",
      "--------- ------------- ------------- ------- -------- ... -------- -------------- ------------------- ----------------\n",
      "* mu. Col 05 45 59.8950 -32 18 23.162      14       14 ...        A              O 2020yCat.1350....0G                1\n",
      " MAIN_ID        RA           DEC      RA_PREC DEC_PREC ... COO_QUAL COO_WAVELENGTH     COO_BIBCODE     SCRIPT_NUMBER_ID\n",
      "             \"h:m:s\"       \"d:m:s\"                     ...                                                             \n",
      "--------- ------------- ------------- ------- -------- ... -------- -------------- ------------------- ----------------\n",
      "HD 111980 12 53 15.0529 -18 31 20.013      14       14 ...        A              O 2020yCat.1350....0G                1\n",
      "  MAIN_ID         RA           DEC      RA_PREC DEC_PREC ... COO_QUAL COO_WAVELENGTH     COO_BIBCODE     SCRIPT_NUMBER_ID\n",
      "               \"h:m:s\"       \"d:m:s\"                     ...                                                             \n",
      "----------- ------------- ------------- ------- -------- ... -------- -------------- ------------------- ----------------\n",
      "* eta02 Dor 06 11 14.9816 -65 35 21.904      14       14 ...        A              O 2020yCat.1350....0G                1\n"
     ]
    }
   ],
   "source": [
    "from astroquery.simbad import Simbad\n",
    "result_table = Simbad.query_object(\"mu. Col\")\n",
    "print(result_table)\n",
    "result_table = Simbad.query_object(\"HD111980\")\n",
    "print(result_table)\n",
    "result_table = Simbad.query_object(\"eta dor\")\n",
    "print(result_table)"
   ]
  },
  {
   "cell_type": "code",
   "execution_count": 13,
   "metadata": {},
   "outputs": [],
   "source": [
    "result_table = Simbad.query_object(\"ETA DOR\")"
   ]
  },
  {
   "cell_type": "code",
   "execution_count": 14,
   "metadata": {},
   "outputs": [
    {
     "data": {
      "text/html": [
       "<div><i>Table length=1</i>\n",
       "<table id=\"table140410423703824\" class=\"table-striped table-bordered table-condensed\">\n",
       "<thead><tr><th>MAIN_ID</th><th>RA</th><th>DEC</th><th>RA_PREC</th><th>DEC_PREC</th><th>COO_ERR_MAJA</th><th>COO_ERR_MINA</th><th>COO_ERR_ANGLE</th><th>COO_QUAL</th><th>COO_WAVELENGTH</th><th>COO_BIBCODE</th><th>SCRIPT_NUMBER_ID</th></tr></thead>\n",
       "<thead><tr><th></th><th>&quot;h:m:s&quot;</th><th>&quot;d:m:s&quot;</th><th></th><th></th><th>mas</th><th>mas</th><th>deg</th><th></th><th></th><th></th><th></th></tr></thead>\n",
       "<thead><tr><th>object</th><th>str13</th><th>str13</th><th>int16</th><th>int16</th><th>float32</th><th>float32</th><th>int16</th><th>str1</th><th>str1</th><th>object</th><th>int32</th></tr></thead>\n",
       "<tr><td>* eta02 Dor</td><td>06 11 14.9816</td><td>-65 35 21.904</td><td>14</td><td>14</td><td>0.089</td><td>0.101</td><td>90</td><td>A</td><td>O</td><td>2020yCat.1350....0G</td><td>1</td></tr>\n",
       "</table></div>"
      ],
      "text/plain": [
       "<Table length=1>\n",
       "  MAIN_ID         RA           DEC      RA_PREC DEC_PREC ... COO_QUAL COO_WAVELENGTH     COO_BIBCODE     SCRIPT_NUMBER_ID\n",
       "               \"h:m:s\"       \"d:m:s\"                     ...                                                             \n",
       "   object       str13         str13      int16   int16   ...   str1        str1             object            int32      \n",
       "----------- ------------- ------------- ------- -------- ... -------- -------------- ------------------- ----------------\n",
       "* eta02 Dor 06 11 14.9816 -65 35 21.904      14       14 ...        A              O 2020yCat.1350....0G                1"
      ]
     },
     "execution_count": 14,
     "metadata": {},
     "output_type": "execute_result"
    }
   ],
   "source": [
    "result_table"
   ]
  },
  {
   "cell_type": "code",
   "execution_count": 15,
   "metadata": {},
   "outputs": [],
   "source": [
    "from scipy.stats import kurtosis,skew\n",
    "from scipy.stats import kurtosistest,skewtest,normaltest"
   ]
  },
  {
   "cell_type": "code",
   "execution_count": 16,
   "metadata": {},
   "outputs": [],
   "source": [
    "from distutils.dir_util import copy_tree\n",
    "import shutil"
   ]
  },
  {
   "cell_type": "markdown",
   "metadata": {},
   "source": [
    "# Configuration"
   ]
  },
  {
   "cell_type": "code",
   "execution_count": 17,
   "metadata": {},
   "outputs": [],
   "source": [
    "version=\"v5.0\"  # version of flipping\n",
    "# create output directories if not exist and clean existing files\n",
    "FLAG_MANAGE_OUTPUT_SPECTRACTOR=True\n",
    "# allow to run reconstruction with Spectractor\n",
    "FLAG_GO_FOR_RECONSTRUCTION_WTH_SPECTRACTOR=True\n",
    "\n",
    "FLAG_REMOVE_WCS=False"
   ]
  },
  {
   "cell_type": "markdown",
   "metadata": {},
   "source": [
    "# Path"
   ]
  },
  {
   "cell_type": "code",
   "execution_count": 18,
   "metadata": {},
   "outputs": [],
   "source": [
    "# path index for each month\n",
    "DATE=\"20220316\""
   ]
  },
  {
   "cell_type": "code",
   "execution_count": 19,
   "metadata": {},
   "outputs": [],
   "source": [
    "# select if we run at CC or not (locally) \n",
    "# /sps/lsst/groups/auxtel/data/2022/holo/20220317\n",
    "HOSTCC=False"
   ]
  },
  {
   "cell_type": "code",
   "execution_count": 20,
   "metadata": {},
   "outputs": [],
   "source": [
    "# Set path depending on which computer running (according HOSTCC)\n",
    "if HOSTCC:\n",
    "    path_auxtel=\"/sps/lsst/groups/auxtel\"\n",
    "    path_spectractor=os.path.join(path_auxtel,\"softs/github/desc/Spectractor\")\n",
    "    path_spectractor_config=os.path.join(path_spectractor,\"config\")\n",
    "    path_images=os.path.join(path_auxtel,\"data/2022/holo/\"+DATE)\n",
    "    path_output_spectractor=os.path.join(path_auxtel,\"data/2022/OutputSpectractor/holo/\"+DATE)\n",
    "    \n",
    "else:\n",
    "    #path_auxtel=\"/Users/dagoret/DATA/AuxTelData2021\"\n",
    "    path_auxtel=\"/Users/sylvie/DATA/AuxTelDATA2022/2022\"\n",
    "    #path_spectractor=os.path.join(path_auxtel,\"/users/dagoret/MacOSX/github/LSST/Spectractor\")\n",
    "    path_spectractor=os.path.join(path_auxtel,\"/Users/sylvie/MacOSX/GitHub/LSST/Spectractor\")\n",
    "    path_spectractor_config=os.path.join(path_spectractor,\"config\")\n",
    "    #path_images=os.path.join(path_auxtel,\"holo/quickLookExp_v2/\"+DATE)\n",
    "    path_images=os.path.join(path_auxtel,\"holo/\"+DATE)\n",
    "    path_output_spectractor=os.path.join(path_auxtel,\"OutputSpectractor/holo/\"+DATE)\n",
    "    #path_output_spectractor=os.path.join(path_auxtel,\"holo/OutputSpectractor/\"+DATE)"
   ]
  },
  {
   "cell_type": "code",
   "execution_count": 21,
   "metadata": {},
   "outputs": [
    {
     "data": {
      "text/plain": [
       "'/Users/sylvie/DATA/AuxTelDATA2022/2022/holo/20220316'"
      ]
     },
     "execution_count": 21,
     "metadata": {},
     "output_type": "execute_result"
    }
   ],
   "source": [
    "path_images"
   ]
  },
  {
   "cell_type": "markdown",
   "metadata": {},
   "source": [
    "# Utility Functions"
   ]
  },
  {
   "cell_type": "code",
   "execution_count": 22,
   "metadata": {},
   "outputs": [],
   "source": [
    "def is_nan(x):\n",
    "    return (x != x)"
   ]
  },
  {
   "cell_type": "markdown",
   "metadata": {},
   "source": [
    "# Logbook for input file selection\n",
    "\n",
    "- the logbook contains all input image path and possibily the order 0 position"
   ]
  },
  {
   "cell_type": "code",
   "execution_count": 23,
   "metadata": {},
   "outputs": [],
   "source": [
    "filename_logbook='logbooks/auxtelholologbook_'+DATE+'_' + version+'.csv'"
   ]
  },
  {
   "cell_type": "code",
   "execution_count": 24,
   "metadata": {},
   "outputs": [],
   "source": [
    "df=pd.read_csv(filename_logbook,index_col=0)"
   ]
  },
  {
   "cell_type": "code",
   "execution_count": 25,
   "metadata": {},
   "outputs": [],
   "source": [
    "pd.set_option('display.max_rows', None)"
   ]
  },
  {
   "cell_type": "code",
   "execution_count": 26,
   "metadata": {},
   "outputs": [
    {
     "data": {
      "text/html": [
       "<div>\n",
       "<style scoped>\n",
       "    .dataframe tbody tr th:only-of-type {\n",
       "        vertical-align: middle;\n",
       "    }\n",
       "\n",
       "    .dataframe tbody tr th {\n",
       "        vertical-align: top;\n",
       "    }\n",
       "\n",
       "    .dataframe thead th {\n",
       "        text-align: right;\n",
       "    }\n",
       "</style>\n",
       "<table border=\"1\" class=\"dataframe\">\n",
       "  <thead>\n",
       "    <tr style=\"text-align: right;\">\n",
       "      <th></th>\n",
       "      <th>index</th>\n",
       "      <th>date</th>\n",
       "      <th>path</th>\n",
       "      <th>file</th>\n",
       "      <th>num</th>\n",
       "      <th>object</th>\n",
       "      <th>filter</th>\n",
       "      <th>disperser</th>\n",
       "      <th>airmass</th>\n",
       "      <th>exposure</th>\n",
       "      <th>...</th>\n",
       "      <th>temperature</th>\n",
       "      <th>humidity</th>\n",
       "      <th>windspd</th>\n",
       "      <th>Obj-posXpix</th>\n",
       "      <th>Obj-posYpix</th>\n",
       "      <th>Dx</th>\n",
       "      <th>Dy</th>\n",
       "      <th>skip</th>\n",
       "      <th>run</th>\n",
       "      <th>quality</th>\n",
       "    </tr>\n",
       "  </thead>\n",
       "  <tbody>\n",
       "    <tr>\n",
       "      <th>0</th>\n",
       "      <td>0</td>\n",
       "      <td>2022-03-17T01:59:37.776</td>\n",
       "      <td>/Users/sylvie/DATA/AuxTelDATA2022/2022/holo/20...</td>\n",
       "      <td>exposure_2022031600330_postisrccd.fits</td>\n",
       "      <td>330</td>\n",
       "      <td>eta dor</td>\n",
       "      <td>empty_1</td>\n",
       "      <td>holo4_003</td>\n",
       "      <td>1.385409</td>\n",
       "      <td>20.0</td>\n",
       "      <td>...</td>\n",
       "      <td>10.6</td>\n",
       "      <td>44.0</td>\n",
       "      <td>7.2</td>\n",
       "      <td>NaN</td>\n",
       "      <td>NaN</td>\n",
       "      <td>NaN</td>\n",
       "      <td>NaN</td>\n",
       "      <td></td>\n",
       "      <td>NaN</td>\n",
       "      <td>NaN</td>\n",
       "    </tr>\n",
       "    <tr>\n",
       "      <th>1</th>\n",
       "      <td>1</td>\n",
       "      <td>2022-03-17T02:00:10.693</td>\n",
       "      <td>/Users/sylvie/DATA/AuxTelDATA2022/2022/holo/20...</td>\n",
       "      <td>exposure_2022031600331_postisrccd.fits</td>\n",
       "      <td>331</td>\n",
       "      <td>eta dor</td>\n",
       "      <td>empty_1</td>\n",
       "      <td>holo4_003</td>\n",
       "      <td>1.386483</td>\n",
       "      <td>20.0</td>\n",
       "      <td>...</td>\n",
       "      <td>10.6</td>\n",
       "      <td>44.0</td>\n",
       "      <td>7.4</td>\n",
       "      <td>NaN</td>\n",
       "      <td>NaN</td>\n",
       "      <td>NaN</td>\n",
       "      <td>NaN</td>\n",
       "      <td></td>\n",
       "      <td>NaN</td>\n",
       "      <td>NaN</td>\n",
       "    </tr>\n",
       "    <tr>\n",
       "      <th>2</th>\n",
       "      <td>2</td>\n",
       "      <td>2022-03-17T02:03:04.275</td>\n",
       "      <td>/Users/sylvie/DATA/AuxTelDATA2022/2022/holo/20...</td>\n",
       "      <td>exposure_2022031600337_postisrccd.fits</td>\n",
       "      <td>337</td>\n",
       "      <td>eta dor</td>\n",
       "      <td>empty_1</td>\n",
       "      <td>holo4_003</td>\n",
       "      <td>1.392269</td>\n",
       "      <td>20.0</td>\n",
       "      <td>...</td>\n",
       "      <td>10.6</td>\n",
       "      <td>43.0</td>\n",
       "      <td>7.4</td>\n",
       "      <td>NaN</td>\n",
       "      <td>NaN</td>\n",
       "      <td>NaN</td>\n",
       "      <td>NaN</td>\n",
       "      <td></td>\n",
       "      <td>NaN</td>\n",
       "      <td>NaN</td>\n",
       "    </tr>\n",
       "    <tr>\n",
       "      <th>3</th>\n",
       "      <td>3</td>\n",
       "      <td>2022-03-17T02:03:37.365</td>\n",
       "      <td>/Users/sylvie/DATA/AuxTelDATA2022/2022/holo/20...</td>\n",
       "      <td>exposure_2022031600338_postisrccd.fits</td>\n",
       "      <td>338</td>\n",
       "      <td>eta dor</td>\n",
       "      <td>empty_1</td>\n",
       "      <td>holo4_003</td>\n",
       "      <td>1.393378</td>\n",
       "      <td>20.0</td>\n",
       "      <td>...</td>\n",
       "      <td>10.6</td>\n",
       "      <td>43.0</td>\n",
       "      <td>7.4</td>\n",
       "      <td>NaN</td>\n",
       "      <td>NaN</td>\n",
       "      <td>NaN</td>\n",
       "      <td>NaN</td>\n",
       "      <td></td>\n",
       "      <td>NaN</td>\n",
       "      <td>NaN</td>\n",
       "    </tr>\n",
       "    <tr>\n",
       "      <th>4</th>\n",
       "      <td>4</td>\n",
       "      <td>2022-03-17T02:06:31.026</td>\n",
       "      <td>/Users/sylvie/DATA/AuxTelDATA2022/2022/holo/20...</td>\n",
       "      <td>exposure_2022031600344_postisrccd.fits</td>\n",
       "      <td>344</td>\n",
       "      <td>eta dor</td>\n",
       "      <td>empty_1</td>\n",
       "      <td>holo4_003</td>\n",
       "      <td>1.399309</td>\n",
       "      <td>20.0</td>\n",
       "      <td>...</td>\n",
       "      <td>10.5</td>\n",
       "      <td>43.0</td>\n",
       "      <td>8.2</td>\n",
       "      <td>NaN</td>\n",
       "      <td>NaN</td>\n",
       "      <td>NaN</td>\n",
       "      <td>NaN</td>\n",
       "      <td></td>\n",
       "      <td>NaN</td>\n",
       "      <td>NaN</td>\n",
       "    </tr>\n",
       "    <tr>\n",
       "      <th>5</th>\n",
       "      <td>5</td>\n",
       "      <td>2022-03-17T02:07:03.927</td>\n",
       "      <td>/Users/sylvie/DATA/AuxTelDATA2022/2022/holo/20...</td>\n",
       "      <td>exposure_2022031600345_postisrccd.fits</td>\n",
       "      <td>345</td>\n",
       "      <td>eta dor</td>\n",
       "      <td>empty_1</td>\n",
       "      <td>holo4_003</td>\n",
       "      <td>1.400449</td>\n",
       "      <td>20.0</td>\n",
       "      <td>...</td>\n",
       "      <td>10.5</td>\n",
       "      <td>43.0</td>\n",
       "      <td>7.6</td>\n",
       "      <td>NaN</td>\n",
       "      <td>NaN</td>\n",
       "      <td>NaN</td>\n",
       "      <td>NaN</td>\n",
       "      <td></td>\n",
       "      <td>NaN</td>\n",
       "      <td>NaN</td>\n",
       "    </tr>\n",
       "    <tr>\n",
       "      <th>6</th>\n",
       "      <td>6</td>\n",
       "      <td>2022-03-17T02:11:00.681</td>\n",
       "      <td>/Users/sylvie/DATA/AuxTelDATA2022/2022/holo/20...</td>\n",
       "      <td>exposure_2022031600351_postisrccd.fits</td>\n",
       "      <td>351</td>\n",
       "      <td>HD111980</td>\n",
       "      <td>empty_1</td>\n",
       "      <td>holo4_003</td>\n",
       "      <td>1.647734</td>\n",
       "      <td>20.0</td>\n",
       "      <td>...</td>\n",
       "      <td>10.5</td>\n",
       "      <td>43.0</td>\n",
       "      <td>13.1</td>\n",
       "      <td>300.0</td>\n",
       "      <td>1700.0</td>\n",
       "      <td>NaN</td>\n",
       "      <td>NaN</td>\n",
       "      <td></td>\n",
       "      <td>1.0</td>\n",
       "      <td>1.0</td>\n",
       "    </tr>\n",
       "    <tr>\n",
       "      <th>7</th>\n",
       "      <td>7</td>\n",
       "      <td>2022-03-17T02:11:33.581</td>\n",
       "      <td>/Users/sylvie/DATA/AuxTelDATA2022/2022/holo/20...</td>\n",
       "      <td>exposure_2022031600352_postisrccd.fits</td>\n",
       "      <td>352</td>\n",
       "      <td>HD111980</td>\n",
       "      <td>empty_1</td>\n",
       "      <td>holo4_003</td>\n",
       "      <td>1.643280</td>\n",
       "      <td>20.0</td>\n",
       "      <td>...</td>\n",
       "      <td>10.5</td>\n",
       "      <td>43.0</td>\n",
       "      <td>13.1</td>\n",
       "      <td>NaN</td>\n",
       "      <td>NaN</td>\n",
       "      <td>NaN</td>\n",
       "      <td>NaN</td>\n",
       "      <td></td>\n",
       "      <td>NaN</td>\n",
       "      <td>NaN</td>\n",
       "    </tr>\n",
       "    <tr>\n",
       "      <th>8</th>\n",
       "      <td>8</td>\n",
       "      <td>2022-03-17T02:14:30.261</td>\n",
       "      <td>/Users/sylvie/DATA/AuxTelDATA2022/2022/holo/20...</td>\n",
       "      <td>exposure_2022031600358_postisrccd.fits</td>\n",
       "      <td>358</td>\n",
       "      <td>HD111980</td>\n",
       "      <td>empty_1</td>\n",
       "      <td>holo4_003</td>\n",
       "      <td>1.619945</td>\n",
       "      <td>20.0</td>\n",
       "      <td>...</td>\n",
       "      <td>10.5</td>\n",
       "      <td>43.0</td>\n",
       "      <td>12.1</td>\n",
       "      <td>NaN</td>\n",
       "      <td>NaN</td>\n",
       "      <td>NaN</td>\n",
       "      <td>NaN</td>\n",
       "      <td></td>\n",
       "      <td>NaN</td>\n",
       "      <td>NaN</td>\n",
       "    </tr>\n",
       "    <tr>\n",
       "      <th>9</th>\n",
       "      <td>9</td>\n",
       "      <td>2022-03-17T02:15:03.181</td>\n",
       "      <td>/Users/sylvie/DATA/AuxTelDATA2022/2022/holo/20...</td>\n",
       "      <td>exposure_2022031600359_postisrccd.fits</td>\n",
       "      <td>359</td>\n",
       "      <td>HD111980</td>\n",
       "      <td>empty_1</td>\n",
       "      <td>holo4_003</td>\n",
       "      <td>1.615702</td>\n",
       "      <td>20.0</td>\n",
       "      <td>...</td>\n",
       "      <td>10.5</td>\n",
       "      <td>44.0</td>\n",
       "      <td>6.9</td>\n",
       "      <td>NaN</td>\n",
       "      <td>NaN</td>\n",
       "      <td>NaN</td>\n",
       "      <td>NaN</td>\n",
       "      <td></td>\n",
       "      <td>NaN</td>\n",
       "      <td>NaN</td>\n",
       "    </tr>\n",
       "    <tr>\n",
       "      <th>10</th>\n",
       "      <td>10</td>\n",
       "      <td>2022-03-17T02:17:59.397</td>\n",
       "      <td>/Users/sylvie/DATA/AuxTelDATA2022/2022/holo/20...</td>\n",
       "      <td>exposure_2022031600365_postisrccd.fits</td>\n",
       "      <td>365</td>\n",
       "      <td>HD111980</td>\n",
       "      <td>empty_1</td>\n",
       "      <td>holo4_003</td>\n",
       "      <td>1.593415</td>\n",
       "      <td>20.0</td>\n",
       "      <td>...</td>\n",
       "      <td>10.5</td>\n",
       "      <td>42.0</td>\n",
       "      <td>6.8</td>\n",
       "      <td>NaN</td>\n",
       "      <td>NaN</td>\n",
       "      <td>NaN</td>\n",
       "      <td>NaN</td>\n",
       "      <td></td>\n",
       "      <td>NaN</td>\n",
       "      <td>NaN</td>\n",
       "    </tr>\n",
       "    <tr>\n",
       "      <th>11</th>\n",
       "      <td>11</td>\n",
       "      <td>2022-03-17T02:18:32.481</td>\n",
       "      <td>/Users/sylvie/DATA/AuxTelDATA2022/2022/holo/20...</td>\n",
       "      <td>exposure_2022031600366_postisrccd.fits</td>\n",
       "      <td>366</td>\n",
       "      <td>HD111980</td>\n",
       "      <td>empty_1</td>\n",
       "      <td>holo4_003</td>\n",
       "      <td>1.589327</td>\n",
       "      <td>20.0</td>\n",
       "      <td>...</td>\n",
       "      <td>10.5</td>\n",
       "      <td>42.0</td>\n",
       "      <td>6.8</td>\n",
       "      <td>NaN</td>\n",
       "      <td>NaN</td>\n",
       "      <td>NaN</td>\n",
       "      <td>NaN</td>\n",
       "      <td></td>\n",
       "      <td>NaN</td>\n",
       "      <td>NaN</td>\n",
       "    </tr>\n",
       "    <tr>\n",
       "      <th>12</th>\n",
       "      <td>12</td>\n",
       "      <td>2022-03-17T02:22:39.026</td>\n",
       "      <td>/Users/sylvie/DATA/AuxTelDATA2022/2022/holo/20...</td>\n",
       "      <td>exposure_2022031600372_postisrccd.fits</td>\n",
       "      <td>372</td>\n",
       "      <td>eta dor</td>\n",
       "      <td>empty_1</td>\n",
       "      <td>holo4_003</td>\n",
       "      <td>1.434807</td>\n",
       "      <td>20.0</td>\n",
       "      <td>...</td>\n",
       "      <td>10.5</td>\n",
       "      <td>42.0</td>\n",
       "      <td>6.6</td>\n",
       "      <td>NaN</td>\n",
       "      <td>NaN</td>\n",
       "      <td>NaN</td>\n",
       "      <td>NaN</td>\n",
       "      <td></td>\n",
       "      <td>NaN</td>\n",
       "      <td>NaN</td>\n",
       "    </tr>\n",
       "    <tr>\n",
       "      <th>13</th>\n",
       "      <td>13</td>\n",
       "      <td>2022-03-17T02:23:12.104</td>\n",
       "      <td>/Users/sylvie/DATA/AuxTelDATA2022/2022/holo/20...</td>\n",
       "      <td>exposure_2022031600373_postisrccd.fits</td>\n",
       "      <td>373</td>\n",
       "      <td>eta dor</td>\n",
       "      <td>empty_1</td>\n",
       "      <td>holo4_003</td>\n",
       "      <td>1.436089</td>\n",
       "      <td>20.0</td>\n",
       "      <td>...</td>\n",
       "      <td>10.4</td>\n",
       "      <td>42.0</td>\n",
       "      <td>14.9</td>\n",
       "      <td>NaN</td>\n",
       "      <td>NaN</td>\n",
       "      <td>NaN</td>\n",
       "      <td>NaN</td>\n",
       "      <td></td>\n",
       "      <td>NaN</td>\n",
       "      <td>NaN</td>\n",
       "    </tr>\n",
       "    <tr>\n",
       "      <th>14</th>\n",
       "      <td>14</td>\n",
       "      <td>2022-03-17T02:26:07.782</td>\n",
       "      <td>/Users/sylvie/DATA/AuxTelDATA2022/2022/holo/20...</td>\n",
       "      <td>exposure_2022031600379_postisrccd.fits</td>\n",
       "      <td>379</td>\n",
       "      <td>eta dor</td>\n",
       "      <td>empty_1</td>\n",
       "      <td>holo4_003</td>\n",
       "      <td>1.443028</td>\n",
       "      <td>20.0</td>\n",
       "      <td>...</td>\n",
       "      <td>10.5</td>\n",
       "      <td>42.0</td>\n",
       "      <td>6.7</td>\n",
       "      <td>NaN</td>\n",
       "      <td>NaN</td>\n",
       "      <td>NaN</td>\n",
       "      <td>NaN</td>\n",
       "      <td></td>\n",
       "      <td>NaN</td>\n",
       "      <td>NaN</td>\n",
       "    </tr>\n",
       "    <tr>\n",
       "      <th>15</th>\n",
       "      <td>15</td>\n",
       "      <td>2022-03-17T02:26:40.735</td>\n",
       "      <td>/Users/sylvie/DATA/AuxTelDATA2022/2022/holo/20...</td>\n",
       "      <td>exposure_2022031600380_postisrccd.fits</td>\n",
       "      <td>380</td>\n",
       "      <td>eta dor</td>\n",
       "      <td>empty_1</td>\n",
       "      <td>holo4_003</td>\n",
       "      <td>1.444342</td>\n",
       "      <td>20.0</td>\n",
       "      <td>...</td>\n",
       "      <td>10.5</td>\n",
       "      <td>42.0</td>\n",
       "      <td>6.7</td>\n",
       "      <td>NaN</td>\n",
       "      <td>NaN</td>\n",
       "      <td>NaN</td>\n",
       "      <td>NaN</td>\n",
       "      <td></td>\n",
       "      <td>NaN</td>\n",
       "      <td>NaN</td>\n",
       "    </tr>\n",
       "    <tr>\n",
       "      <th>16</th>\n",
       "      <td>16</td>\n",
       "      <td>2022-03-17T02:29:37.041</td>\n",
       "      <td>/Users/sylvie/DATA/AuxTelDATA2022/2022/holo/20...</td>\n",
       "      <td>exposure_2022031600386_postisrccd.fits</td>\n",
       "      <td>386</td>\n",
       "      <td>eta dor</td>\n",
       "      <td>empty_1</td>\n",
       "      <td>holo4_003</td>\n",
       "      <td>1.451472</td>\n",
       "      <td>20.0</td>\n",
       "      <td>...</td>\n",
       "      <td>10.5</td>\n",
       "      <td>42.0</td>\n",
       "      <td>8.2</td>\n",
       "      <td>NaN</td>\n",
       "      <td>NaN</td>\n",
       "      <td>NaN</td>\n",
       "      <td>NaN</td>\n",
       "      <td></td>\n",
       "      <td>NaN</td>\n",
       "      <td>NaN</td>\n",
       "    </tr>\n",
       "    <tr>\n",
       "      <th>17</th>\n",
       "      <td>17</td>\n",
       "      <td>2022-03-17T02:30:10.043</td>\n",
       "      <td>/Users/sylvie/DATA/AuxTelDATA2022/2022/holo/20...</td>\n",
       "      <td>exposure_2022031600387_postisrccd.fits</td>\n",
       "      <td>387</td>\n",
       "      <td>eta dor</td>\n",
       "      <td>empty_1</td>\n",
       "      <td>holo4_003</td>\n",
       "      <td>1.452820</td>\n",
       "      <td>20.0</td>\n",
       "      <td>...</td>\n",
       "      <td>10.5</td>\n",
       "      <td>42.0</td>\n",
       "      <td>5.5</td>\n",
       "      <td>NaN</td>\n",
       "      <td>NaN</td>\n",
       "      <td>NaN</td>\n",
       "      <td>NaN</td>\n",
       "      <td></td>\n",
       "      <td>NaN</td>\n",
       "      <td>NaN</td>\n",
       "    </tr>\n",
       "    <tr>\n",
       "      <th>18</th>\n",
       "      <td>18</td>\n",
       "      <td>2022-03-17T02:34:15.754</td>\n",
       "      <td>/Users/sylvie/DATA/AuxTelDATA2022/2022/holo/20...</td>\n",
       "      <td>exposure_2022031600393_postisrccd.fits</td>\n",
       "      <td>393</td>\n",
       "      <td>HD111980</td>\n",
       "      <td>empty_1</td>\n",
       "      <td>holo4_003</td>\n",
       "      <td>1.483400</td>\n",
       "      <td>20.0</td>\n",
       "      <td>...</td>\n",
       "      <td>10.5</td>\n",
       "      <td>42.0</td>\n",
       "      <td>6.3</td>\n",
       "      <td>NaN</td>\n",
       "      <td>NaN</td>\n",
       "      <td>NaN</td>\n",
       "      <td>NaN</td>\n",
       "      <td></td>\n",
       "      <td>NaN</td>\n",
       "      <td>NaN</td>\n",
       "    </tr>\n",
       "    <tr>\n",
       "      <th>19</th>\n",
       "      <td>19</td>\n",
       "      <td>2022-03-17T02:34:48.848</td>\n",
       "      <td>/Users/sylvie/DATA/AuxTelDATA2022/2022/holo/20...</td>\n",
       "      <td>exposure_2022031600394_postisrccd.fits</td>\n",
       "      <td>394</td>\n",
       "      <td>HD111980</td>\n",
       "      <td>empty_1</td>\n",
       "      <td>holo4_003</td>\n",
       "      <td>1.480042</td>\n",
       "      <td>20.0</td>\n",
       "      <td>...</td>\n",
       "      <td>10.6</td>\n",
       "      <td>42.0</td>\n",
       "      <td>6.5</td>\n",
       "      <td>NaN</td>\n",
       "      <td>NaN</td>\n",
       "      <td>NaN</td>\n",
       "      <td>NaN</td>\n",
       "      <td></td>\n",
       "      <td>NaN</td>\n",
       "      <td>NaN</td>\n",
       "    </tr>\n",
       "    <tr>\n",
       "      <th>20</th>\n",
       "      <td>20</td>\n",
       "      <td>2022-03-17T02:38:56.232</td>\n",
       "      <td>/Users/sylvie/DATA/AuxTelDATA2022/2022/holo/20...</td>\n",
       "      <td>exposure_2022031600400_postisrccd.fits</td>\n",
       "      <td>400</td>\n",
       "      <td>eta dor</td>\n",
       "      <td>empty_1</td>\n",
       "      <td>holo4_003</td>\n",
       "      <td>1.475077</td>\n",
       "      <td>20.0</td>\n",
       "      <td>...</td>\n",
       "      <td>10.5</td>\n",
       "      <td>43.0</td>\n",
       "      <td>6.1</td>\n",
       "      <td>NaN</td>\n",
       "      <td>NaN</td>\n",
       "      <td>NaN</td>\n",
       "      <td>NaN</td>\n",
       "      <td></td>\n",
       "      <td>NaN</td>\n",
       "      <td>NaN</td>\n",
       "    </tr>\n",
       "    <tr>\n",
       "      <th>21</th>\n",
       "      <td>21</td>\n",
       "      <td>2022-03-17T02:39:29.123</td>\n",
       "      <td>/Users/sylvie/DATA/AuxTelDATA2022/2022/holo/20...</td>\n",
       "      <td>exposure_2022031600401_postisrccd.fits</td>\n",
       "      <td>401</td>\n",
       "      <td>eta dor</td>\n",
       "      <td>empty_1</td>\n",
       "      <td>holo4_003</td>\n",
       "      <td>1.476509</td>\n",
       "      <td>20.0</td>\n",
       "      <td>...</td>\n",
       "      <td>10.5</td>\n",
       "      <td>43.0</td>\n",
       "      <td>6.1</td>\n",
       "      <td>NaN</td>\n",
       "      <td>NaN</td>\n",
       "      <td>NaN</td>\n",
       "      <td>NaN</td>\n",
       "      <td></td>\n",
       "      <td>NaN</td>\n",
       "      <td>NaN</td>\n",
       "    </tr>\n",
       "    <tr>\n",
       "      <th>22</th>\n",
       "      <td>22</td>\n",
       "      <td>2022-03-17T03:11:58.564</td>\n",
       "      <td>/Users/sylvie/DATA/AuxTelDATA2022/2022/holo/20...</td>\n",
       "      <td>exposure_2022031600420_postisrccd.fits</td>\n",
       "      <td>420</td>\n",
       "      <td>HD111980</td>\n",
       "      <td>empty_1</td>\n",
       "      <td>holo4_003</td>\n",
       "      <td>1.295777</td>\n",
       "      <td>20.0</td>\n",
       "      <td>...</td>\n",
       "      <td>10.6</td>\n",
       "      <td>51.0</td>\n",
       "      <td>4.5</td>\n",
       "      <td>NaN</td>\n",
       "      <td>NaN</td>\n",
       "      <td>NaN</td>\n",
       "      <td>NaN</td>\n",
       "      <td></td>\n",
       "      <td>NaN</td>\n",
       "      <td>NaN</td>\n",
       "    </tr>\n",
       "    <tr>\n",
       "      <th>23</th>\n",
       "      <td>23</td>\n",
       "      <td>2022-03-17T03:12:31.562</td>\n",
       "      <td>/Users/sylvie/DATA/AuxTelDATA2022/2022/holo/20...</td>\n",
       "      <td>exposure_2022031600421_postisrccd.fits</td>\n",
       "      <td>421</td>\n",
       "      <td>HD111980</td>\n",
       "      <td>empty_1</td>\n",
       "      <td>holo4_003</td>\n",
       "      <td>1.293586</td>\n",
       "      <td>20.0</td>\n",
       "      <td>...</td>\n",
       "      <td>10.6</td>\n",
       "      <td>51.0</td>\n",
       "      <td>4.5</td>\n",
       "      <td>NaN</td>\n",
       "      <td>NaN</td>\n",
       "      <td>NaN</td>\n",
       "      <td>NaN</td>\n",
       "      <td></td>\n",
       "      <td>NaN</td>\n",
       "      <td>NaN</td>\n",
       "    </tr>\n",
       "    <tr>\n",
       "      <th>24</th>\n",
       "      <td>24</td>\n",
       "      <td>2022-03-17T03:15:28.519</td>\n",
       "      <td>/Users/sylvie/DATA/AuxTelDATA2022/2022/holo/20...</td>\n",
       "      <td>exposure_2022031600427_postisrccd.fits</td>\n",
       "      <td>427</td>\n",
       "      <td>HD111980</td>\n",
       "      <td>empty_1</td>\n",
       "      <td>holo4_003</td>\n",
       "      <td>1.282047</td>\n",
       "      <td>20.0</td>\n",
       "      <td>...</td>\n",
       "      <td>10.7</td>\n",
       "      <td>50.0</td>\n",
       "      <td>4.8</td>\n",
       "      <td>NaN</td>\n",
       "      <td>NaN</td>\n",
       "      <td>NaN</td>\n",
       "      <td>NaN</td>\n",
       "      <td></td>\n",
       "      <td>NaN</td>\n",
       "      <td>NaN</td>\n",
       "    </tr>\n",
       "    <tr>\n",
       "      <th>25</th>\n",
       "      <td>25</td>\n",
       "      <td>2022-03-17T03:16:01.707</td>\n",
       "      <td>/Users/sylvie/DATA/AuxTelDATA2022/2022/holo/20...</td>\n",
       "      <td>exposure_2022031600428_postisrccd.fits</td>\n",
       "      <td>428</td>\n",
       "      <td>HD111980</td>\n",
       "      <td>empty_1</td>\n",
       "      <td>holo4_003</td>\n",
       "      <td>1.279939</td>\n",
       "      <td>20.0</td>\n",
       "      <td>...</td>\n",
       "      <td>10.7</td>\n",
       "      <td>49.0</td>\n",
       "      <td>5.1</td>\n",
       "      <td>NaN</td>\n",
       "      <td>NaN</td>\n",
       "      <td>NaN</td>\n",
       "      <td>NaN</td>\n",
       "      <td></td>\n",
       "      <td>NaN</td>\n",
       "      <td>NaN</td>\n",
       "    </tr>\n",
       "    <tr>\n",
       "      <th>26</th>\n",
       "      <td>26</td>\n",
       "      <td>2022-03-17T03:21:49.842</td>\n",
       "      <td>/Users/sylvie/DATA/AuxTelDATA2022/2022/holo/20...</td>\n",
       "      <td>exposure_2022031600434_postisrccd.fits</td>\n",
       "      <td>434</td>\n",
       "      <td>HD111980</td>\n",
       "      <td>empty_1</td>\n",
       "      <td>holo4_003</td>\n",
       "      <td>1.258452</td>\n",
       "      <td>20.0</td>\n",
       "      <td>...</td>\n",
       "      <td>10.7</td>\n",
       "      <td>49.0</td>\n",
       "      <td>3.4</td>\n",
       "      <td>NaN</td>\n",
       "      <td>NaN</td>\n",
       "      <td>NaN</td>\n",
       "      <td>NaN</td>\n",
       "      <td></td>\n",
       "      <td>NaN</td>\n",
       "      <td>NaN</td>\n",
       "    </tr>\n",
       "    <tr>\n",
       "      <th>27</th>\n",
       "      <td>27</td>\n",
       "      <td>2022-03-17T03:22:22.856</td>\n",
       "      <td>/Users/sylvie/DATA/AuxTelDATA2022/2022/holo/20...</td>\n",
       "      <td>exposure_2022031600435_postisrccd.fits</td>\n",
       "      <td>435</td>\n",
       "      <td>HD111980</td>\n",
       "      <td>empty_1</td>\n",
       "      <td>holo4_003</td>\n",
       "      <td>1.256483</td>\n",
       "      <td>20.0</td>\n",
       "      <td>...</td>\n",
       "      <td>10.7</td>\n",
       "      <td>49.0</td>\n",
       "      <td>3.4</td>\n",
       "      <td>NaN</td>\n",
       "      <td>NaN</td>\n",
       "      <td>NaN</td>\n",
       "      <td>NaN</td>\n",
       "      <td></td>\n",
       "      <td>NaN</td>\n",
       "      <td>NaN</td>\n",
       "    </tr>\n",
       "  </tbody>\n",
       "</table>\n",
       "<p>28 rows × 23 columns</p>\n",
       "</div>"
      ],
      "text/plain": [
       "    index                     date  \\\n",
       "0       0  2022-03-17T01:59:37.776   \n",
       "1       1  2022-03-17T02:00:10.693   \n",
       "2       2  2022-03-17T02:03:04.275   \n",
       "3       3  2022-03-17T02:03:37.365   \n",
       "4       4  2022-03-17T02:06:31.026   \n",
       "5       5  2022-03-17T02:07:03.927   \n",
       "6       6  2022-03-17T02:11:00.681   \n",
       "7       7  2022-03-17T02:11:33.581   \n",
       "8       8  2022-03-17T02:14:30.261   \n",
       "9       9  2022-03-17T02:15:03.181   \n",
       "10     10  2022-03-17T02:17:59.397   \n",
       "11     11  2022-03-17T02:18:32.481   \n",
       "12     12  2022-03-17T02:22:39.026   \n",
       "13     13  2022-03-17T02:23:12.104   \n",
       "14     14  2022-03-17T02:26:07.782   \n",
       "15     15  2022-03-17T02:26:40.735   \n",
       "16     16  2022-03-17T02:29:37.041   \n",
       "17     17  2022-03-17T02:30:10.043   \n",
       "18     18  2022-03-17T02:34:15.754   \n",
       "19     19  2022-03-17T02:34:48.848   \n",
       "20     20  2022-03-17T02:38:56.232   \n",
       "21     21  2022-03-17T02:39:29.123   \n",
       "22     22  2022-03-17T03:11:58.564   \n",
       "23     23  2022-03-17T03:12:31.562   \n",
       "24     24  2022-03-17T03:15:28.519   \n",
       "25     25  2022-03-17T03:16:01.707   \n",
       "26     26  2022-03-17T03:21:49.842   \n",
       "27     27  2022-03-17T03:22:22.856   \n",
       "\n",
       "                                                 path  \\\n",
       "0   /Users/sylvie/DATA/AuxTelDATA2022/2022/holo/20...   \n",
       "1   /Users/sylvie/DATA/AuxTelDATA2022/2022/holo/20...   \n",
       "2   /Users/sylvie/DATA/AuxTelDATA2022/2022/holo/20...   \n",
       "3   /Users/sylvie/DATA/AuxTelDATA2022/2022/holo/20...   \n",
       "4   /Users/sylvie/DATA/AuxTelDATA2022/2022/holo/20...   \n",
       "5   /Users/sylvie/DATA/AuxTelDATA2022/2022/holo/20...   \n",
       "6   /Users/sylvie/DATA/AuxTelDATA2022/2022/holo/20...   \n",
       "7   /Users/sylvie/DATA/AuxTelDATA2022/2022/holo/20...   \n",
       "8   /Users/sylvie/DATA/AuxTelDATA2022/2022/holo/20...   \n",
       "9   /Users/sylvie/DATA/AuxTelDATA2022/2022/holo/20...   \n",
       "10  /Users/sylvie/DATA/AuxTelDATA2022/2022/holo/20...   \n",
       "11  /Users/sylvie/DATA/AuxTelDATA2022/2022/holo/20...   \n",
       "12  /Users/sylvie/DATA/AuxTelDATA2022/2022/holo/20...   \n",
       "13  /Users/sylvie/DATA/AuxTelDATA2022/2022/holo/20...   \n",
       "14  /Users/sylvie/DATA/AuxTelDATA2022/2022/holo/20...   \n",
       "15  /Users/sylvie/DATA/AuxTelDATA2022/2022/holo/20...   \n",
       "16  /Users/sylvie/DATA/AuxTelDATA2022/2022/holo/20...   \n",
       "17  /Users/sylvie/DATA/AuxTelDATA2022/2022/holo/20...   \n",
       "18  /Users/sylvie/DATA/AuxTelDATA2022/2022/holo/20...   \n",
       "19  /Users/sylvie/DATA/AuxTelDATA2022/2022/holo/20...   \n",
       "20  /Users/sylvie/DATA/AuxTelDATA2022/2022/holo/20...   \n",
       "21  /Users/sylvie/DATA/AuxTelDATA2022/2022/holo/20...   \n",
       "22  /Users/sylvie/DATA/AuxTelDATA2022/2022/holo/20...   \n",
       "23  /Users/sylvie/DATA/AuxTelDATA2022/2022/holo/20...   \n",
       "24  /Users/sylvie/DATA/AuxTelDATA2022/2022/holo/20...   \n",
       "25  /Users/sylvie/DATA/AuxTelDATA2022/2022/holo/20...   \n",
       "26  /Users/sylvie/DATA/AuxTelDATA2022/2022/holo/20...   \n",
       "27  /Users/sylvie/DATA/AuxTelDATA2022/2022/holo/20...   \n",
       "\n",
       "                                      file  num    object   filter  disperser  \\\n",
       "0   exposure_2022031600330_postisrccd.fits  330   eta dor  empty_1  holo4_003   \n",
       "1   exposure_2022031600331_postisrccd.fits  331   eta dor  empty_1  holo4_003   \n",
       "2   exposure_2022031600337_postisrccd.fits  337   eta dor  empty_1  holo4_003   \n",
       "3   exposure_2022031600338_postisrccd.fits  338   eta dor  empty_1  holo4_003   \n",
       "4   exposure_2022031600344_postisrccd.fits  344   eta dor  empty_1  holo4_003   \n",
       "5   exposure_2022031600345_postisrccd.fits  345   eta dor  empty_1  holo4_003   \n",
       "6   exposure_2022031600351_postisrccd.fits  351  HD111980  empty_1  holo4_003   \n",
       "7   exposure_2022031600352_postisrccd.fits  352  HD111980  empty_1  holo4_003   \n",
       "8   exposure_2022031600358_postisrccd.fits  358  HD111980  empty_1  holo4_003   \n",
       "9   exposure_2022031600359_postisrccd.fits  359  HD111980  empty_1  holo4_003   \n",
       "10  exposure_2022031600365_postisrccd.fits  365  HD111980  empty_1  holo4_003   \n",
       "11  exposure_2022031600366_postisrccd.fits  366  HD111980  empty_1  holo4_003   \n",
       "12  exposure_2022031600372_postisrccd.fits  372   eta dor  empty_1  holo4_003   \n",
       "13  exposure_2022031600373_postisrccd.fits  373   eta dor  empty_1  holo4_003   \n",
       "14  exposure_2022031600379_postisrccd.fits  379   eta dor  empty_1  holo4_003   \n",
       "15  exposure_2022031600380_postisrccd.fits  380   eta dor  empty_1  holo4_003   \n",
       "16  exposure_2022031600386_postisrccd.fits  386   eta dor  empty_1  holo4_003   \n",
       "17  exposure_2022031600387_postisrccd.fits  387   eta dor  empty_1  holo4_003   \n",
       "18  exposure_2022031600393_postisrccd.fits  393  HD111980  empty_1  holo4_003   \n",
       "19  exposure_2022031600394_postisrccd.fits  394  HD111980  empty_1  holo4_003   \n",
       "20  exposure_2022031600400_postisrccd.fits  400   eta dor  empty_1  holo4_003   \n",
       "21  exposure_2022031600401_postisrccd.fits  401   eta dor  empty_1  holo4_003   \n",
       "22  exposure_2022031600420_postisrccd.fits  420  HD111980  empty_1  holo4_003   \n",
       "23  exposure_2022031600421_postisrccd.fits  421  HD111980  empty_1  holo4_003   \n",
       "24  exposure_2022031600427_postisrccd.fits  427  HD111980  empty_1  holo4_003   \n",
       "25  exposure_2022031600428_postisrccd.fits  428  HD111980  empty_1  holo4_003   \n",
       "26  exposure_2022031600434_postisrccd.fits  434  HD111980  empty_1  holo4_003   \n",
       "27  exposure_2022031600435_postisrccd.fits  435  HD111980  empty_1  holo4_003   \n",
       "\n",
       "     airmass  exposure  ...  temperature  humidity  windspd  Obj-posXpix  \\\n",
       "0   1.385409      20.0  ...         10.6      44.0      7.2          NaN   \n",
       "1   1.386483      20.0  ...         10.6      44.0      7.4          NaN   \n",
       "2   1.392269      20.0  ...         10.6      43.0      7.4          NaN   \n",
       "3   1.393378      20.0  ...         10.6      43.0      7.4          NaN   \n",
       "4   1.399309      20.0  ...         10.5      43.0      8.2          NaN   \n",
       "5   1.400449      20.0  ...         10.5      43.0      7.6          NaN   \n",
       "6   1.647734      20.0  ...         10.5      43.0     13.1        300.0   \n",
       "7   1.643280      20.0  ...         10.5      43.0     13.1          NaN   \n",
       "8   1.619945      20.0  ...         10.5      43.0     12.1          NaN   \n",
       "9   1.615702      20.0  ...         10.5      44.0      6.9          NaN   \n",
       "10  1.593415      20.0  ...         10.5      42.0      6.8          NaN   \n",
       "11  1.589327      20.0  ...         10.5      42.0      6.8          NaN   \n",
       "12  1.434807      20.0  ...         10.5      42.0      6.6          NaN   \n",
       "13  1.436089      20.0  ...         10.4      42.0     14.9          NaN   \n",
       "14  1.443028      20.0  ...         10.5      42.0      6.7          NaN   \n",
       "15  1.444342      20.0  ...         10.5      42.0      6.7          NaN   \n",
       "16  1.451472      20.0  ...         10.5      42.0      8.2          NaN   \n",
       "17  1.452820      20.0  ...         10.5      42.0      5.5          NaN   \n",
       "18  1.483400      20.0  ...         10.5      42.0      6.3          NaN   \n",
       "19  1.480042      20.0  ...         10.6      42.0      6.5          NaN   \n",
       "20  1.475077      20.0  ...         10.5      43.0      6.1          NaN   \n",
       "21  1.476509      20.0  ...         10.5      43.0      6.1          NaN   \n",
       "22  1.295777      20.0  ...         10.6      51.0      4.5          NaN   \n",
       "23  1.293586      20.0  ...         10.6      51.0      4.5          NaN   \n",
       "24  1.282047      20.0  ...         10.7      50.0      4.8          NaN   \n",
       "25  1.279939      20.0  ...         10.7      49.0      5.1          NaN   \n",
       "26  1.258452      20.0  ...         10.7      49.0      3.4          NaN   \n",
       "27  1.256483      20.0  ...         10.7      49.0      3.4          NaN   \n",
       "\n",
       "    Obj-posYpix  Dx  Dy  skip  run  quality  \n",
       "0           NaN NaN NaN        NaN      NaN  \n",
       "1           NaN NaN NaN        NaN      NaN  \n",
       "2           NaN NaN NaN        NaN      NaN  \n",
       "3           NaN NaN NaN        NaN      NaN  \n",
       "4           NaN NaN NaN        NaN      NaN  \n",
       "5           NaN NaN NaN        NaN      NaN  \n",
       "6        1700.0 NaN NaN        1.0      1.0  \n",
       "7           NaN NaN NaN        NaN      NaN  \n",
       "8           NaN NaN NaN        NaN      NaN  \n",
       "9           NaN NaN NaN        NaN      NaN  \n",
       "10          NaN NaN NaN        NaN      NaN  \n",
       "11          NaN NaN NaN        NaN      NaN  \n",
       "12          NaN NaN NaN        NaN      NaN  \n",
       "13          NaN NaN NaN        NaN      NaN  \n",
       "14          NaN NaN NaN        NaN      NaN  \n",
       "15          NaN NaN NaN        NaN      NaN  \n",
       "16          NaN NaN NaN        NaN      NaN  \n",
       "17          NaN NaN NaN        NaN      NaN  \n",
       "18          NaN NaN NaN        NaN      NaN  \n",
       "19          NaN NaN NaN        NaN      NaN  \n",
       "20          NaN NaN NaN        NaN      NaN  \n",
       "21          NaN NaN NaN        NaN      NaN  \n",
       "22          NaN NaN NaN        NaN      NaN  \n",
       "23          NaN NaN NaN        NaN      NaN  \n",
       "24          NaN NaN NaN        NaN      NaN  \n",
       "25          NaN NaN NaN        NaN      NaN  \n",
       "26          NaN NaN NaN        NaN      NaN  \n",
       "27          NaN NaN NaN        NaN      NaN  \n",
       "\n",
       "[28 rows x 23 columns]"
      ]
     },
     "execution_count": 26,
     "metadata": {},
     "output_type": "execute_result"
    }
   ],
   "source": [
    "# show the list of input files from the logbook to select the file index in the logbook\n",
    "df"
   ]
  },
  {
   "cell_type": "markdown",
   "metadata": {},
   "source": [
    "# Selection of input file\n",
    "- the input file is selected from the logbook list above"
   ]
  },
  {
   "cell_type": "code",
   "execution_count": 27,
   "metadata": {},
   "outputs": [],
   "source": [
    "idx=1"
   ]
  },
  {
   "cell_type": "code",
   "execution_count": 28,
   "metadata": {},
   "outputs": [
    {
     "name": "stdout",
     "output_type": "stream",
     "text": [
      "exposure_2022031600331_postisrccd.fits\n"
     ]
    }
   ],
   "source": [
    "print(df.iloc[idx]['file'])"
   ]
  },
  {
   "cell_type": "code",
   "execution_count": 29,
   "metadata": {},
   "outputs": [
    {
     "name": "stdout",
     "output_type": "stream",
     "text": [
      "index                                                          1\n",
      "date                                     2022-03-17T02:00:10.693\n",
      "path           /Users/sylvie/DATA/AuxTelDATA2022/2022/holo/20...\n",
      "file                      exposure_2022031600331_postisrccd.fits\n",
      "num                                                          331\n",
      "object                                                   eta dor\n",
      "filter                                                   empty_1\n",
      "disperser                                              holo4_003\n",
      "airmass                                                 1.386483\n",
      "exposure                                                    20.0\n",
      "focus                                                   0.041059\n",
      "seeing                                                  0.921627\n",
      "pressure                                                  743.55\n",
      "temperature                                                 10.6\n",
      "humidity                                                    44.0\n",
      "windspd                                                      7.4\n",
      "Obj-posXpix                                                  NaN\n",
      "Obj-posYpix                                                  NaN\n",
      "Dx                                                           NaN\n",
      "Dy                                                           NaN\n",
      "skip                                                            \n",
      "run                                                          NaN\n",
      "quality                                                      NaN\n",
      "Name: 1, dtype: object\n"
     ]
    }
   ],
   "source": [
    "print(df.iloc[idx])"
   ]
  },
  {
   "cell_type": "code",
   "execution_count": 30,
   "metadata": {},
   "outputs": [],
   "source": [
    "myhome=os.getenv(\"HOME\")"
   ]
  },
  {
   "cell_type": "code",
   "execution_count": 31,
   "metadata": {},
   "outputs": [],
   "source": [
    "dir_images=path_images"
   ]
  },
  {
   "cell_type": "code",
   "execution_count": 32,
   "metadata": {},
   "outputs": [
    {
     "data": {
      "text/plain": [
       "'/Users/sylvie/DATA/AuxTelDATA2022/2022/holo/20220316'"
      ]
     },
     "execution_count": 32,
     "metadata": {},
     "output_type": "execute_result"
    }
   ],
   "source": [
    "dir_images"
   ]
  },
  {
   "cell_type": "code",
   "execution_count": 33,
   "metadata": {},
   "outputs": [
    {
     "data": {
      "text/plain": [
       "'exposure_2022031600331_postisrccd.fits'"
      ]
     },
     "execution_count": 33,
     "metadata": {},
     "output_type": "execute_result"
    }
   ],
   "source": [
    "filename_image=df['file'][idx]\n",
    "filename_image"
   ]
  },
  {
   "cell_type": "code",
   "execution_count": 34,
   "metadata": {},
   "outputs": [
    {
     "data": {
      "text/plain": [
       "'eta dor'"
      ]
     },
     "execution_count": 34,
     "metadata": {},
     "output_type": "execute_result"
    }
   ],
   "source": [
    "target = df['object'][idx]\n",
    "target"
   ]
  },
  {
   "cell_type": "markdown",
   "metadata": {},
   "source": [
    "## If order 0 position exists in logbook it is selected, otherwise put it by hand"
   ]
  },
  {
   "cell_type": "code",
   "execution_count": 35,
   "metadata": {},
   "outputs": [],
   "source": [
    "x0=df['Obj-posXpix'][idx]\n",
    "y0=df['Obj-posYpix'][idx]"
   ]
  },
  {
   "cell_type": "code",
   "execution_count": 36,
   "metadata": {},
   "outputs": [],
   "source": [
    "FLAG_ORDER0_LOCATION=False"
   ]
  },
  {
   "cell_type": "code",
   "execution_count": 37,
   "metadata": {},
   "outputs": [
    {
     "name": "stdout",
     "output_type": "stream",
     "text": [
      "NO Order 0 location from logbook ! \n"
     ]
    }
   ],
   "source": [
    "if not is_nan(x0)and not is_nan(y0):\n",
    "    FLAG_ORDER0_LOCATION=True\n",
    "    print(\"Order 0 location from logbook : ({},{})\".format(x0,y0))\n",
    "else:\n",
    "    print(\"NO Order 0 location from logbook ! \")      "
   ]
  },
  {
   "cell_type": "markdown",
   "metadata": {},
   "source": [
    "## Spectractor Configuration \n",
    "\n",
    "- Usually the Spectractor configuration file is put in local dir **./config**\n",
    "\n",
    "\n",
    "Ma suggestion, pour l'étude du centre optique via les scans des hologrammes, est de **mettre SPECTRACTOR_COMPUTE_ROTATION_ANGLE sur False** . \n",
    "\n",
    "Comme les angles ne sont pas très grands, si les marges du rectangle sont assez larges, réglables avec : \n",
    "\n",
    "    [background subtraction parameters] \n",
    "    # half transverse width of the signal rectangular window in pixels \n",
    "    PIXWIDTH_SIGNAL = 40 \n",
    "\n",
    "alors le spectrogramme devrait tenir dans une boite rectangulaire même sans rotation de l'image. **L'important est de garder SPECTRACTOR_DECONVOLUTION_FFM à True car c'est lui qui te donnera l'angle de l'axe de dispersion ajusté sur les données, dont la valeur sera dans le mot clé ROTANGLE du header de sortie**. \n"
   ]
  },
  {
   "cell_type": "code",
   "execution_count": 38,
   "metadata": {},
   "outputs": [],
   "source": [
    "rootfilename = filename_image.split(\".\")[0]\n",
    "rootfilename_split =  rootfilename.split(\"_\") \n",
    "filenumberdir = rootfilename_split[1] "
   ]
  },
  {
   "cell_type": "code",
   "execution_count": 39,
   "metadata": {},
   "outputs": [
    {
     "data": {
      "text/plain": [
       "'/Users/sylvie/DATA/AuxTelDATA2022/2022/OutputSpectractor/holo/20220316'"
      ]
     },
     "execution_count": 39,
     "metadata": {},
     "output_type": "execute_result"
    }
   ],
   "source": [
    "path_output_spectractor"
   ]
  },
  {
   "cell_type": "code",
   "execution_count": 40,
   "metadata": {},
   "outputs": [],
   "source": [
    "\n",
    "# Fullfilename\n",
    "filename=os.path.join(dir_images,filename_image)\n",
    "\n",
    "\n",
    "# subdirectory\n",
    "#subdir=filename_image.split(\".\")[0]\n",
    "subdir=filenumberdir\n",
    "\n",
    "# final output directory (where results will be copied to be backed up at the end)\n",
    "finalpath_output_spectractor=os.path.join(path_output_spectractor,subdir)\n",
    "\n",
    "\n",
    "# local directories to put spectra and plots\n",
    "output_directory=\"./outputs_process_holo_scan\"\n",
    "output_figures=\"figures_process_holo_scan\"\n",
    "\n",
    "# Final output directory\n",
    "\n",
    "\n",
    "guess = [300,1700]\n",
    "disperser_label = \"holo4_003\"\n",
    "# old version\n",
    "# config = os.path.join(path_spectractor_config,\"auxtel_quicklook.ini\")\n",
    "# new version (September 20th 2021)\n",
    "\n",
    "# configuration\n",
    "\n",
    "# standard spectractor init configuration\n",
    "#config = os.path.join(path_spectractor_config,\"auxtel.ini\")\n",
    "# special for scan in XY\n",
    "config=\"./config/auxtel_scanXY.ini\"\n",
    "target=df.iloc[idx][\"object\"]"
   ]
  },
  {
   "cell_type": "code",
   "execution_count": 41,
   "metadata": {},
   "outputs": [
    {
     "data": {
      "text/plain": [
       "'/Users/sylvie/DATA/AuxTelDATA2022/2022/OutputSpectractor/holo/20220316/2022031600331'"
      ]
     },
     "execution_count": 41,
     "metadata": {},
     "output_type": "execute_result"
    }
   ],
   "source": [
    "finalpath_output_spectractor"
   ]
  },
  {
   "cell_type": "markdown",
   "metadata": {},
   "source": [
    "### manage output dir"
   ]
  },
  {
   "cell_type": "code",
   "execution_count": 42,
   "metadata": {},
   "outputs": [],
   "source": [
    "def cleandir(path):\n",
    "    if os.path.isdir(path):\n",
    "        files=os.listdir(path)\n",
    "        if len(files) > 0:\n",
    "            for f in files:\n",
    "                if os.path.isdir(os.path.join(path,f)):\n",
    "                    if f==\".ipynb_checkpoints\":\n",
    "                        shutil.rmtree(os.path.join(path,f))\n",
    "                    else:\n",
    "                        print(\" Cannot remove this directory {}\".format(os.path.join(path,f)))\n",
    "                else:\n",
    "                    os.remove(os.path.join(path,f))"
   ]
  },
  {
   "cell_type": "code",
   "execution_count": 43,
   "metadata": {},
   "outputs": [],
   "source": [
    "# this flag must be set if one want to clean results from previous runs\n",
    "if FLAG_MANAGE_OUTPUT_SPECTRACTOR:\n",
    "    \n",
    "    # manage global output directory of spectractor\n",
    "    # Basically it has the name of the input file image\n",
    "    if not os.path.isdir(output_directory):\n",
    "        os.mkdir(output_directory)\n",
    "    else:\n",
    "        cleandir(output_directory)\n",
    " \n",
    "    # manage subdirs spectrum/ and plots/\n",
    "    if not os.path.isdir(output_figures):\n",
    "        os.mkdir(output_figures)\n",
    "    else:\n",
    "        cleandir(output_figures)\n",
    "    \n",
    "    if not os.path.isdir(finalpath_output_spectractor):\n",
    "        os.mkdir(finalpath_output_spectractor)\n",
    "        os.mkdir(os.path.join(finalpath_output_spectractor,\"basespec\"))\n",
    "        os.mkdir(os.path.join(finalpath_output_spectractor,\"plots\"))\n",
    "    else:\n",
    "        #cleandir(finalpath_output_spectractor)\n",
    "        cleandir(os.path.join(finalpath_output_spectractor,\"basespec\"))\n",
    "        cleandir(os.path.join(finalpath_output_spectractor,\"plots\"))"
   ]
  },
  {
   "cell_type": "code",
   "execution_count": 44,
   "metadata": {},
   "outputs": [],
   "source": [
    "# /sps/lsst/groups/auxtel/data/2022/OutputSpectractor/holo\""
   ]
  },
  {
   "cell_type": "markdown",
   "metadata": {},
   "source": [
    "# Configuration of the Spectractor running mode"
   ]
  },
  {
   "cell_type": "code",
   "execution_count": 45,
   "metadata": {},
   "outputs": [],
   "source": [
    "parameters.debug=True\n",
    "parameters.verbose=True\n",
    "parameters.display=True\n",
    "parameters.LIVE_FIT=False"
   ]
  },
  {
   "cell_type": "code",
   "execution_count": 46,
   "metadata": {},
   "outputs": [
    {
     "data": {
      "text/plain": [
       "7"
      ]
     },
     "execution_count": 46,
     "metadata": {},
     "output_type": "execute_result"
    }
   ],
   "source": [
    "len(target)"
   ]
  },
  {
   "cell_type": "code",
   "execution_count": 47,
   "metadata": {},
   "outputs": [
    {
     "data": {
      "text/plain": [
       "'eta dor'"
      ]
     },
     "execution_count": 47,
     "metadata": {},
     "output_type": "execute_result"
    }
   ],
   "source": [
    "target"
   ]
  },
  {
   "cell_type": "markdown",
   "metadata": {},
   "source": [
    "## Load the image in the new image file with Spectractor"
   ]
  },
  {
   "cell_type": "code",
   "execution_count": 48,
   "metadata": {
    "scrolled": false
   },
   "outputs": [
    {
     "name": "stdout",
     "output_type": "stream",
     "text": [
      "target_name = etador, Selected object name for Simbad : ETA1 DOR\n",
      "  MAIN_ID         RA           DEC      RA_PREC DEC_PREC ... PM_ERR_MAJA PM_ERR_MINA PM_ERR_ANGLE  Z_VALUE  SCRIPT_NUMBER_ID\n",
      "               \"h:m:s\"       \"d:m:s\"                     ...   mas / yr    mas / yr      deg                                \n",
      "----------- ------------- ------------- ------- -------- ... ----------- ----------- ------------ --------- ----------------\n",
      "* eta01 Dor 06 06 09.3817 -66 02 22.635      14       14 ...       0.066       0.061           90 0.0000590                1\n"
     ]
    }
   ],
   "source": [
    "#image=Image(file_name=filename, target_label=target, disperser_label=disperser_label, config=config)\n",
    "image=Image(file_name=filename, disperser_label=disperser_label, config=config)"
   ]
  },
  {
   "cell_type": "code",
   "execution_count": 49,
   "metadata": {},
   "outputs": [
    {
     "data": {
      "text/plain": [
       "(4072, 4000)"
      ]
     },
     "execution_count": 49,
     "metadata": {},
     "output_type": "execute_result"
    }
   ],
   "source": [
    "image.data.shape"
   ]
  },
  {
   "cell_type": "markdown",
   "metadata": {},
   "source": [
    "## Show relevant parameters"
   ]
  },
  {
   "cell_type": "code",
   "execution_count": 50,
   "metadata": {},
   "outputs": [
    {
     "data": {
      "text/plain": [
       "'AUXTEL'"
      ]
     },
     "execution_count": 50,
     "metadata": {},
     "output_type": "execute_result"
    }
   ],
   "source": [
    "parameters.OBS_NAME"
   ]
  },
  {
   "cell_type": "code",
   "execution_count": 51,
   "metadata": {},
   "outputs": [
    {
     "data": {
      "text/plain": [
       "'/Users/sylvie/opt/anaconda3/lib/python3.9/site-packages/Spectractor-2.1-py3.9.egg/spectractor/extractor/dispersers/'"
      ]
     },
     "execution_count": 51,
     "metadata": {},
     "output_type": "execute_result"
    }
   ],
   "source": [
    "parameters.DISPERSER_DIR"
   ]
  },
  {
   "cell_type": "code",
   "execution_count": 52,
   "metadata": {},
   "outputs": [
    {
     "data": {
      "text/plain": [
       "182.9980010986328"
      ]
     },
     "execution_count": 52,
     "metadata": {},
     "output_type": "execute_result"
    }
   ],
   "source": [
    "parameters.DISTANCE2CCD"
   ]
  },
  {
   "cell_type": "code",
   "execution_count": 53,
   "metadata": {},
   "outputs": [
    {
     "data": {
      "text/plain": [
       "300"
      ]
     },
     "execution_count": 53,
     "metadata": {},
     "output_type": "execute_result"
    }
   ],
   "source": [
    "parameters.LAMBDA_MIN "
   ]
  },
  {
   "cell_type": "code",
   "execution_count": 54,
   "metadata": {},
   "outputs": [
    {
     "data": {
      "text/plain": [
       "1100"
      ]
     },
     "execution_count": 54,
     "metadata": {},
     "output_type": "execute_result"
    }
   ],
   "source": [
    "parameters.LAMBDA_MAX "
   ]
  },
  {
   "cell_type": "code",
   "execution_count": 55,
   "metadata": {},
   "outputs": [],
   "source": [
    "parameters.LSST_SAVEFIGPATH=True\n",
    "parameters.LSST_SAVEFIGPATH=output_figures"
   ]
  },
  {
   "cell_type": "code",
   "execution_count": 56,
   "metadata": {},
   "outputs": [
    {
     "data": {
      "text/plain": [
       "''"
      ]
     },
     "execution_count": 56,
     "metadata": {},
     "output_type": "execute_result"
    }
   ],
   "source": [
    "image.filter_label"
   ]
  },
  {
   "cell_type": "code",
   "execution_count": 57,
   "metadata": {},
   "outputs": [
    {
     "data": {
      "text/plain": [
       "'empty_1'"
      ]
     },
     "execution_count": 57,
     "metadata": {},
     "output_type": "execute_result"
    }
   ],
   "source": [
    "image.header[\"FILTER\"]"
   ]
  },
  {
   "cell_type": "code",
   "execution_count": 58,
   "metadata": {},
   "outputs": [
    {
     "data": {
      "text/plain": [
       "SIMPLE  =                    T / conforms to FITS standard                      \n",
       "BITPIX  =                    8 / array data type                                \n",
       "NAXIS   =                    0 / number of array dimensions                     \n",
       "EXTEND  =                    T                                                  \n",
       "ORIGIN  = 'LSST DM Header Service'                                              \n",
       "TIMESYS = 'TAI     '                                                            \n",
       "DATE    = '2022-03-17T01:59:56.544'                                             \n",
       "DATE-OBS= '2022-03-17T01:59:56.544'                                             \n",
       "DATE-BEG= '2022-03-17T02:00:10.693'                                             \n",
       "DATE-END= '2022-03-17T02:00:30.923'                                             \n",
       "MJD     =     59655.0832933353                                                  \n",
       "MJD-OBS =     59655.0834570961                                                  \n",
       "MJD-BEG =     59655.0834570961                                                  \n",
       "MJD-END =     59655.0836912359                                                  \n",
       "OBSID   = 'AT_O_20220316_000331'                                                \n",
       "GROUPID = '2022-03-17T01:55:08.262'                                             \n",
       "IMGTYPE = 'OBJECT  '                                                            \n",
       "BUNIT   = 'adu     '                                                            \n",
       "FACILITY= 'Vera C. Rubin Observatory'                                           \n",
       "TELESCOP= 'LSST AuxTelescope'                                                   \n",
       "INSTRUME= 'LATISS  '                                                            \n",
       "OBSERVER= 'LSST    '                                                            \n",
       "OBS-LONG=   -70.74941699999999                                                  \n",
       "OBS-LAT =           -30.244639                                                  \n",
       "OBS-ELEV=               2663.0                                                  \n",
       "OBSGEO-X=           1818938.94                                                  \n",
       "OBSGEO-Y=          -5208470.95                                                  \n",
       "OBSGEO-Z=          -3195172.08                                                  \n",
       "RA      =    91.53749999999999                                                  \n",
       "DEC     =    -66.0397222222222                                                  \n",
       "RASTART =    91.56841043165539                                                  \n",
       "DECSTART=    -66.0846760701654                                                  \n",
       "RAEND   =     91.5683996713113                                                  \n",
       "DECEND  =     -66.084687496321                                                  \n",
       "ROTPA   =     145.706604832104                                                  \n",
       "ROTCOORD= 'sky     '                                                            \n",
       "HASTART =     2.81310960854095                                                  \n",
       "ELSTART =     46.1098684950703                                                  \n",
       "AZSTART =      203.01638059759                                                  \n",
       "AMSTART =     1.38648254633085                                                  \n",
       "HAEND   =     2.81952397250921                                                  \n",
       "ELEND   =     46.0773096068733                                                  \n",
       "AZEND   =      203.04712050104                                                  \n",
       "AMEND   =     1.38723929182862                                                  \n",
       "INSTPORT=                    2                                                  \n",
       "ATM3PORT=                                                                       \n",
       "TRACKSYS= 'SIDEREAL'                                                            \n",
       "FOCUSZ  =   0.0410588495433331                                                  \n",
       "OBJECT  = 'eta dor '                                                            \n",
       "DOMEAZ  =               204.36                                                  \n",
       "SHUTLOWR=                  0.0                                                  \n",
       "SHUTUPPR=                100.0                                                  \n",
       "CAMCODE = 'AT      '                                                            \n",
       "CONTRLLR= 'O       '                                                            \n",
       "DAYOBS  = '20220316'                                                            \n",
       "SEQNUM  =                  331                                                  \n",
       "TESTTYPE= 'OBJECT  '                                                            \n",
       "EMUIMAGE= ''                                                                    \n",
       "PROGRAM =                                                                       \n",
       "REASON  =                                                                       \n",
       "CURINDEX=                    0                                                  \n",
       "MAXINDEX=                    1                                                  \n",
       "TSTAND  =                                                                       \n",
       "IMAGETAG= 'fe08c9ee3348862'                                                     \n",
       "OBSANNOT= ''                                                                    \n",
       "TEMP_SET=   -94.15000152587891                                                  \n",
       "FILTBAND= 'Empty   '                                                            \n",
       "FILTER  = 'empty_1 '                                                            \n",
       "FILTSLOT=                    0                                                  \n",
       "GRATING = 'holo4_003'          / name of the disperser                          \n",
       "GRATBAND= 'Empty   '                                                            \n",
       "GRATSLOT=                    3                                                  \n",
       "LINSPOS =     67.9980010986328                                                  \n",
       "EXPTIME =                 20.0                                                  \n",
       "SHUTTIME=                                                                       \n",
       "DARKTIME=      20.319751739502                                                  \n",
       "AIRTEMP =                 10.6                                                  \n",
       "PRESSURE=               743.55                                                  \n",
       "HUMIDITY=                 44.0                                                  \n",
       "WINDSPD =                  7.4                                                  \n",
       "WINDDIR =                312.0                                                  \n",
       "SEEING  =   0.9216266870498659                                                  \n",
       "FILENAME= 'AT_O_20220316_000331.fits'                                           \n",
       "HEADVER = '2.9.5   '                                                            \n",
       "CHECKSUM=                                                                       \n",
       "DATASUM =                                                                       \n",
       "HIERARCH SIMULATE ATMCS =                                                       \n",
       "HIERARCH SIMULATE ATHEXAPOD = 0                                                 \n",
       "HIERARCH SIMULATE ATPNEUMATICS =                                                \n",
       "HIERARCH SIMULATE ATDOME = 0                                                    \n",
       "HIERARCH SIMULATE ATSPECTROGRAPH = 0                                            \n",
       "CCD_MANU= 'ITL     '                                                            \n",
       "CCD_TYPE=                    2                                                  \n",
       "CCD_SERN= '20862   '                                                            \n",
       "CCDTEMP =                                                                       \n",
       "LSST_NUM= 'ITL-3800C-068'                                                       \n",
       "SEQCKSUM= '2552520002'                                                          \n",
       "SEQNAME = 'FP_ITL_2s_ir2_v25.seq'                                               \n",
       "REBNAME = 'Unknown '                                                            \n",
       "CONTNUM = '412227310'                                                           \n",
       "CCDSLOT = 'S00     '                                                            \n",
       "RAFTBAY = 'R00     '                                                            \n",
       "OVERH   =                   64                                                  \n",
       "OVERV   =                   48                                                  \n",
       "PREH    =                    0                                                  \n",
       "INHERIT =                    T                                                  \n",
       "EXTNAME = 'Segment10'                                                           \n",
       "DATASEC = '[1:509,1:2000]'                                                      \n",
       "DETSEC  = '[509:1,1:2000]'                                                      \n",
       "DETSIZE = '[1:4072,1:4000]'                                                     \n",
       "DTV1    =                  510                                                  \n",
       "DTV2    =                    0                                                  \n",
       "DTM1_1  =                 -1.0                                                  \n",
       "DTM2_2  =                  1.0                                                  \n",
       "DTM1_2  =                    0                                                  \n",
       "DTM2_1  =                    0                                                  \n",
       "HIERARCH ASTRO METADATA FIX MODIFIED = T                                        \n",
       "HIERARCH ASTRO METADATA FIX DATE = '2022-03-28T11:59:05.754113'                 \n",
       "HIERARCH ASTRO METADATA FIX VERSION = 'g66e8411885+78f5e69161'                  \n",
       "PARANGLE=    56.75888867802155 / parallactic angle in degree                    \n",
       "AIRMASS =    1.386860919079735                                                  \n",
       "OUTTEMP =                 10.6                                                  \n",
       "OUTPRESS=               743.55                                                  \n",
       "OUTHUM  =                 44.0                                                  \n",
       "CCDREBIN=                    2                                                  \n",
       "TARGET  = 'etador  '           / name of the target in the image                \n",
       "REDSHIFT= '5.9e-05 '           / redshift of the target                         \n",
       "ROTANGLE=                    0 / [deg] angle of the dispersion axis             \n",
       "D2CCD   =    182.9980010986328 / [mm] distance between disperser and CCD        \n",
       "COMMENT [\"  FITS (Flexible Image Transport System) format is defined in 'Astrono\n",
       "COMMENT my\", \"  and Astrophysics', volume 376, page 359; bibcode: 2001A&A...376.\n",
       "COMMENT .359H\", \"= '        '\", '---- Date, night and basic image information --\n",
       "COMMENT --', \"= '        '\", '---- Telescope info, location, observer ----', \"= \n",
       "COMMENT '        '\", '---- Pointing info, etc. ----', \"= '        '\", '---- TAN \n",
       "COMMENT Projection ----', \"= '        '\", '---- Image-identifying used to build \n",
       "COMMENT OBS-ID ----', \"= '        '\", '---- Additional Keys Information from Cam\n",
       "COMMENT era ----', \"= '        '\", '---- Image sequence numbers', \"= '        '\"\n",
       "COMMENT , '---- Test Stand information ----', \"= '        '\", '---- Information \n",
       "COMMENT from Camera (Common block) ----', \"= '        '\", '---- Information from\n",
       "COMMENT  Camera ----', \"= '        '\", '---- Filter/grating information ----', \"\n",
       "COMMENT = '        '\", '---- Exposure-related information ----', \"= '        '\",\n",
       "COMMENT  '---- Weather information ----', \"= '        '\", '---- Header informati\n",
       "COMMENT on ----', \"= '        '\", '---- Checksums ----', \"= '        '\", '---- H\n",
       "COMMENT ierarch information for CSC Simulatiom Mode ----', '---- Information fro\n",
       "COMMENT m Camera per sensor ----', \"= '        '\", '---- Geometry from Camera --\n",
       "COMMENT --']                                                                    "
      ]
     },
     "execution_count": 58,
     "metadata": {},
     "output_type": "execute_result"
    }
   ],
   "source": [
    "image.header"
   ]
  },
  {
   "cell_type": "markdown",
   "metadata": {},
   "source": [
    "# Plot image and find the target position\n",
    "\n",
    "- this image plotting is used to find the order 0 location to be set in logbook\n",
    "\n",
    "- for the moment this is humanly done"
   ]
  },
  {
   "cell_type": "markdown",
   "metadata": {},
   "source": [
    "## Load the new image file with Spectractor"
   ]
  },
  {
   "cell_type": "code",
   "execution_count": 59,
   "metadata": {},
   "outputs": [
    {
     "data": {
      "image/png": "[encoded data removed]",
      "text/plain": [
       "<Figure size 864x720 with 2 Axes>"
      ]
     },
     "metadata": {
      "needs_background": "light"
     },
     "output_type": "display_data"
    }
   ],
   "source": [
    "title=\"{}) {}\".format(idx,filename_image)\n",
    "image.plot_image(figsize=(12, 10),scale=\"log\",title=title)"
   ]
  },
  {
   "cell_type": "markdown",
   "metadata": {},
   "source": [
    "- note now the position are written in the make_logbook.ipynb notebook"
   ]
  },
  {
   "cell_type": "markdown",
   "metadata": {},
   "source": [
    "## Set the 0th order location to be provided to Spectractor"
   ]
  },
  {
   "cell_type": "code",
   "execution_count": 60,
   "metadata": {},
   "outputs": [
    {
     "data": {
      "text/plain": [
       "'exposure_2022031600331_postisrccd.fits'"
      ]
     },
     "execution_count": 60,
     "metadata": {},
     "output_type": "execute_result"
    }
   ],
   "source": [
    "filename_image"
   ]
  },
  {
   "cell_type": "code",
   "execution_count": 61,
   "metadata": {},
   "outputs": [],
   "source": [
    "# overwrite if localtion is taken from that in logbook\n",
    "if FLAG_ORDER0_LOCATION : \n",
    "    print(\"Set Order 0 location from logbook : ({},{})\".format(x0,y0))\n",
    "    guess = [x0,y0]"
   ]
  },
  {
   "cell_type": "markdown",
   "metadata": {},
   "source": [
    "## Let Spectractor find the location of the 0th order"
   ]
  },
  {
   "cell_type": "code",
   "execution_count": 62,
   "metadata": {},
   "outputs": [
    {
     "name": "stderr",
     "output_type": "stream",
     "text": [
      "2022-03-28 16:12:31  spectractor.tools fit_poly2d_outlier_removal INFO   \n",
      "\tModel: Polynomial2D\n",
      "Inputs: ('x', 'y')\n",
      "Outputs: ('z',)\n",
      "Model set size: 1\n",
      "Degree: 1\n",
      "Parameters:\n",
      "           c0_0               c1_0                c0_1       \n",
      "    ----------------- ------------------- -------------------\n",
      "    6.798547405049312 0.05048619956994287 0.10936732041201457\n",
      "2022-03-28 16:12:32  spectractor.fit.fitter gradient_descent     INFO   \n",
      "\tGradient descent terminated in 18 iterations because the relative change of cost is below ftol=1.25e-05.\n",
      "2022-03-28 16:12:32  spectractor.fit.fitter gradient_descent     INFO   \n",
      "\tGradient descent terminated in 3 iterations because the relative change of cost is below ftol=5e-05.\n"
     ]
    },
    {
     "data": {
      "image/png": "[encoded data removed]",
      "text/plain": [
       "<Figure size 1080x288 with 6 Axes>"
      ]
     },
     "metadata": {
      "needs_background": "light"
     },
     "output_type": "display_data"
    }
   ],
   "source": [
    "\n",
    "parameters.VERBOSE = True\n",
    "parameters.DEBUG = True\n",
    "#x1, y1 = find_target(image, guess,rotated=False, use_wcs=False)\n",
    "x1, y1 = find_target(image, guess,rotated=False)"
   ]
  },
  {
   "cell_type": "code",
   "execution_count": 63,
   "metadata": {},
   "outputs": [
    {
     "name": "stdout",
     "output_type": "stream",
     "text": [
      "312.3612436451685 1735.98077912846\n"
     ]
    }
   ],
   "source": [
    "print(x1,y1)"
   ]
  },
  {
   "cell_type": "markdown",
   "metadata": {},
   "source": [
    "## Check the location of 0th order and Analysis of the quality of its focus"
   ]
  },
  {
   "cell_type": "code",
   "execution_count": 64,
   "metadata": {},
   "outputs": [],
   "source": [
    "if x1>100:\n",
    "    WID=100\n",
    "else:\n",
    "    WID=50\n",
    "    \n",
    "\n",
    "thumbnail=np.copy(image.data[int(y1)-WID:int(y1)+WID,int(x1)-WID:int(x1)+WID])\n",
    "thumbnail_y=thumbnail.sum(axis=1)\n",
    "thumbnail_x=thumbnail.sum(axis=0)\n",
    "xx=np.linspace(int(x1)-WID,int(x1)+WID,len(thumbnail_x))\n",
    "yy=np.linspace(int(y1)-WID,int(y1)+WID,len(thumbnail_y))\n",
    "k0=kurtosis(thumbnail,axis=None,bias=True,fisher=True)\n",
    "kx=kurtosis(thumbnail_x,bias=True,fisher=True)\n",
    "ky=kurtosis(thumbnail_y,bias=True,fisher=True)\n",
    "s0=skew(thumbnail,axis=None,bias=True)\n",
    "sx=skew(thumbnail_x,bias=True)\n",
    "sy=skew(thumbnail_y,bias=True)\n",
    "        "
   ]
  },
  {
   "cell_type": "code",
   "execution_count": 65,
   "metadata": {},
   "outputs": [],
   "source": [
    "shape_str='\\n'.join((\n",
    "        r'skew     : Sk0 = {:3.3f}, Skx = {:3.3f}, Sky = {:3.3f} \\n'.format(s0,sx,sy),\n",
    "        r'kurtosis : K0  = {:3.3f}, Kx  = {:3.3f},  Ky = {:3.3f}'.format(k0,kx,ky)))"
   ]
  },
  {
   "cell_type": "code",
   "execution_count": 66,
   "metadata": {},
   "outputs": [],
   "source": [
    "skew_str='\\n'.join((\n",
    "        r'skew     : Sk0 = {:3.3f}'.format(s0),\n",
    "        r'             : Skx = {:3.3f}'.format(sx),\n",
    "        r'             : Sky = {:3.3f}'.format(sy)))"
   ]
  },
  {
   "cell_type": "code",
   "execution_count": 67,
   "metadata": {},
   "outputs": [],
   "source": [
    "kurt_str='\\n'.join((\n",
    "        r'kurtosis : K0 = {:3.3f}'.format(k0),\n",
    "        r'             : Kx = {:3.3f}'.format(kx),\n",
    "        r'             : Ky = {:3.3f}'.format(ky)))"
   ]
  },
  {
   "cell_type": "code",
   "execution_count": 68,
   "metadata": {},
   "outputs": [],
   "source": [
    "kurtosis_test_prob=kurtosistest(thumbnail,axis=None).pvalue\n",
    "skew_test_prob=skewtest(thumbnail,axis=None).pvalue\n",
    "normal_test_prob=normaltest(thumbnail,axis=None).pvalue"
   ]
  },
  {
   "cell_type": "code",
   "execution_count": 69,
   "metadata": {},
   "outputs": [],
   "source": [
    "kurtosis_test_val=kurtosistest(thumbnail,axis=None).statistic\n",
    "skew_test_val=skewtest(thumbnail,axis=None).statistic\n",
    "normal_test_val=normaltest(thumbnail,axis=None).statistic"
   ]
  },
  {
   "cell_type": "code",
   "execution_count": 70,
   "metadata": {},
   "outputs": [],
   "source": [
    "kurtosis_test_prob_x=kurtosistest(thumbnail_x).pvalue\n",
    "skew_test_prob_x=skewtest(thumbnail_x).pvalue\n",
    "normal_test_prob_x=normaltest(thumbnail_x).pvalue"
   ]
  },
  {
   "cell_type": "code",
   "execution_count": 71,
   "metadata": {},
   "outputs": [],
   "source": [
    "kurtosis_test_prob_y=kurtosistest(thumbnail_y).pvalue\n",
    "skew_test_prob_y=skewtest(thumbnail_y).pvalue\n",
    "normal_test_prob_y=normaltest(thumbnail_y).pvalue"
   ]
  },
  {
   "cell_type": "code",
   "execution_count": 72,
   "metadata": {},
   "outputs": [],
   "source": [
    "skew_str='\\n'.join((\n",
    "    r'skew     : Sk0 = {:3.3f}'.format(s0),\n",
    "    r'             : Skx = {:3.3f}'.format(sx),\n",
    "    r'             : Sky = {:3.3f}'.format(sy),\n",
    "    r'             : p_test   = {:3.3e}'.format(skew_test_prob),\n",
    "    r'             : p_test_x = {:3.3e}'.format(skew_test_prob_x),\n",
    "    r'             : p_test_y = {:3.3e}'.format(skew_test_prob_y)))"
   ]
  },
  {
   "cell_type": "code",
   "execution_count": 73,
   "metadata": {},
   "outputs": [],
   "source": [
    "kurt_str='\\n'.join((\n",
    "    r'kurtosis : K0 = {:3.3f}'.format(k0),\n",
    "    r'             : Kx = {:3.3f}'.format(kx),\n",
    "    r'             : Ky = {:3.3f}'.format(ky),\n",
    "    r'             : p_test   = {:3.3e}'.format(kurtosis_test_prob),\n",
    "    r'             : p_test_x = {:3.3e}'.format(kurtosis_test_prob_x),\n",
    "    r'             : p_test_y = {:3.3e}'.format(kurtosis_test_prob_y)))"
   ]
  },
  {
   "cell_type": "code",
   "execution_count": 74,
   "metadata": {},
   "outputs": [],
   "source": [
    "norm_str='\\n'.join((\n",
    "    r'normal  : p_test   = {:3.3e}'.format(normal_test_prob),\n",
    "    r'             : p_test_x = {:3.3e}'.format(normal_test_prob_x),\n",
    "    r'             : p_test_y = {:3.3e}'.format(normal_test_prob_y)))"
   ]
  },
  {
   "cell_type": "code",
   "execution_count": 75,
   "metadata": {},
   "outputs": [],
   "source": [
    "props = dict(boxstyle='round',edgecolor=\"w\",facecolor=\"w\", alpha=0.5)"
   ]
  },
  {
   "cell_type": "code",
   "execution_count": 76,
   "metadata": {},
   "outputs": [],
   "source": [
    "#matplotlib.pyplot.hist(x, \n",
    "#                       bins=10, \n",
    "#                       range=None, \n",
    "#                       normed=False, \n",
    "#                       weights=None, \n",
    "#                       cumulative=False, \n",
    "#                       bottom=None, \n",
    "#                       histtype=u'bar', \n",
    "#                       align=u'mid', \n",
    "#                       orientation=u'vertical', \n",
    "#                       rwidth=None, \n",
    "#                       log=False, \n",
    "#                       color=None, \n",
    "#                       label=None, \n",
    "#                       stacked=False, \n",
    "#                       hold=None, \n",
    "#                       **kwargs)"
   ]
  },
  {
   "cell_type": "code",
   "execution_count": 77,
   "metadata": {},
   "outputs": [
    {
     "data": {
      "text/plain": [
       "Text(0.5, 0.98, '1) exposure_2022031600331_postisrccd.fits')"
      ]
     },
     "execution_count": 77,
     "metadata": {},
     "output_type": "execute_result"
    },
    {
     "data": {
      "image/png": "[encoded data removed]",
      "text/plain": [
       "<Figure size 720x720 with 4 Axes>"
      ]
     },
     "metadata": {
      "needs_background": "light"
     },
     "output_type": "display_data"
    }
   ],
   "source": [
    "fig=plt.figure(figsize=(10,10))\n",
    "fig.subplots_adjust(left=0.12, right=0.95, wspace=0.3,\n",
    "                    bottom=0.15, top=0.9)\n",
    "\n",
    "ax=fig.add_subplot(222)\n",
    "ax.imshow(thumbnail,origin=\"lower\",extent=(int(x1)-WID,int(x1)+WID,int(y1)-WID,int(y1)+WID))\n",
    "ax.set_xlabel(\"X\")\n",
    "ax.set_ylabel(\"Y\")\n",
    "\n",
    "ax=fig.add_subplot(221)\n",
    "base = plt.gca().transData\n",
    "rot = transforms.Affine2D().rotate_deg(-90)\n",
    "#ax.plot(yy,thumbnail_y,\"g\",rotation=u'vertical')\n",
    "ax.plot(-yy,thumbnail_y,\"g\",transform= rot + base)\n",
    "ax.set_ylabel(\"Y\")\n",
    "\n",
    "ax=fig.add_subplot(224)\n",
    "ax.plot(xx,thumbnail_x,\"b\")\n",
    "ax.set_xlabel(\"X\")\n",
    "plt.tight_layout()\n",
    "\n",
    "ax=fig.add_subplot(223)\n",
    "ax.set_xlim(0,10)\n",
    "ax.set_ylim(0,10)\n",
    "ax.set_xticklabels([])\n",
    "ax.set_xticks([])\n",
    "ax.set_yticks([])\n",
    "\n",
    "ax.text(0.05, 0.9, skew_str, transform=ax.transAxes, fontsize=12,verticalalignment='top', bbox=props)\n",
    "ax.text(0.05, 0.55, kurt_str, transform=ax.transAxes, fontsize=12,verticalalignment='top', bbox=props)\n",
    "ax.text(0.05, 0.2, norm_str, transform=ax.transAxes, fontsize=12,verticalalignment='top', bbox=props)\n",
    "plt.suptitle(title)"
   ]
  },
  {
   "cell_type": "code",
   "execution_count": 78,
   "metadata": {},
   "outputs": [],
   "source": [
    "# Usually stop here if one just want to get the 0th order location\n",
    "if not FLAG_GO_FOR_RECONSTRUCTION_WTH_SPECTRACTOR:\n",
    "    assert False\n",
    "else:\n",
    "    assert True"
   ]
  },
  {
   "cell_type": "markdown",
   "metadata": {},
   "source": [
    "# Go for spectrum reconstruction"
   ]
  },
  {
   "cell_type": "code",
   "execution_count": 79,
   "metadata": {},
   "outputs": [],
   "source": [
    "#parameters.debug=True\n",
    "#parameters.verbose=True\n",
    "#parameters.display=True\n",
    "#parameters.LIVE_FIT=False"
   ]
  },
  {
   "cell_type": "code",
   "execution_count": 80,
   "metadata": {},
   "outputs": [],
   "source": [
    "parameters.debug=False\n",
    "parameters.verbose=False\n",
    "parameters.display=True\n",
    "parameters.LIVE_FIT=False"
   ]
  },
  {
   "cell_type": "code",
   "execution_count": 81,
   "metadata": {},
   "outputs": [
    {
     "data": {
      "text/plain": [
       "'/Users/sylvie/DATA/AuxTelDATA2022/2022/holo/20220316/exposure_2022031600331_postisrccd.fits'"
      ]
     },
     "execution_count": 81,
     "metadata": {},
     "output_type": "execute_result"
    }
   ],
   "source": [
    "filename"
   ]
  },
  {
   "cell_type": "code",
   "execution_count": null,
   "metadata": {
    "scrolled": false
   },
   "outputs": [
    {
     "name": "stderr",
     "output_type": "stream",
     "text": [
      "2022-03-28 16:12:34  spectractor.extractor.extractor Spectractor          INFO   \n",
      "\tStart SPECTRACTOR\n",
      "2022-03-28 16:12:34  Image      load_AUXTEL_image    INFO   \n",
      "\tLoading AUXTEL image /Users/sylvie/DATA/AuxTelDATA2022/2022/holo/20220316/exposure_2022031600331_postisrccd.fits...\n",
      "2022-03-28 16:12:34  Image      load_AUXTEL_image    INFO   \n",
      "\tImage loaded\n",
      "2022-03-28 16:12:34  Image      load_image           INFO   \n",
      "\tLoading disperser holo4_003...\n",
      "2022-03-28 16:12:34  Hologram   load_specs           INFO   \n",
      "\tLoad disperser holo4_003:\n",
      "\tfrom /Users/sylvie/opt/anaconda3/lib/python3.9/site-packages/Spectractor-2.1-py3.9.egg/spectractor/extractor/dispersers/holo4_003\n",
      "2022-03-28 16:12:34  Hologram   load_specs           INFO   \n",
      "\tGrating characteristics:\n",
      "\tN = 156.00 +/- 1.00 grooves/mm\n",
      "\tAverage tilt of -0.3 degrees\n"
     ]
    },
    {
     "name": "stdout",
     "output_type": "stream",
     "text": [
      "Section: paths\n",
      "x disperser_dir: extractor/dispersers/\t=> parameters.DISPERSER_DIR: /Users/sylvie/opt/anaconda3/lib/python3.9/site-packages/Spectractor-2.1-py3.9.egg/spectractor/extractor/dispersers/\t <class 'str'>\n",
      "x throughput_dir: simulation/AuxTelThroughput/\t=> parameters.THROUGHPUT_DIR: /Users/sylvie/opt/anaconda3/lib/python3.9/site-packages/Spectractor-2.1-py3.9.egg/spectractor/simulation/AuxTelThroughput/\t <class 'str'>\n",
      "Section: pipeline\n",
      "x spectractor_fit_target_centroid: fit\t=> parameters.SPECTRACTOR_FIT_TARGET_CENTROID: fit\t <class 'str'>\n",
      "x spectractor_compute_rotation_angle: False\t=> parameters.SPECTRACTOR_COMPUTE_ROTATION_ANGLE: False\t <class 'bool'>\n",
      "x spectractor_deconvolution_psf2d: False\t=> parameters.SPECTRACTOR_DECONVOLUTION_PSF2D: False\t <class 'bool'>\n",
      "x spectractor_deconvolution_ffm: True\t=> parameters.SPECTRACTOR_DECONVOLUTION_FFM: True\t <class 'bool'>\n",
      "Section: instrument\n",
      "x obs_name: AUXTEL\t=> parameters.OBS_NAME: AUXTEL\t <class 'str'>\n",
      "x obs_altitude: 2.66299616375123\t=> parameters.OBS_ALTITUDE: 2.66299616375123\t <class 'float'>\n",
      "x obs_latitude: -30.2446389756252\t=> parameters.OBS_LATITUDE: -30.2446389756252\t <class 'float'>\n",
      "x obs_diameter: 1.20\t=> parameters.OBS_DIAMETER: 1.2 m\t <class 'astropy.units.quantity.Quantity'>\n",
      "x obs_epoch: J2000.0\t=> parameters.OBS_EPOCH: J2000.0\t <class 'str'>\n",
      "x obs_transmission_systematics: 0.005\t=> parameters.OBS_TRANSMISSION_SYSTEMATICS: 0.005\t <class 'float'>\n",
      "x obs_object_type: STAR\t=> parameters.OBS_OBJECT_TYPE: STAR\t <class 'str'>\n",
      "x obs_telescope_transmission: calexp_2020031500162-EMPTY_ronchi90lpmm-det000_auxtel_transmission.txt\t=> parameters.OBS_TELESCOPE_TRANSMISSION: calexp_2020031500162-EMPTY_ronchi90lpmm-det000_auxtel_transmission.txt\t <class 'str'>\n",
      "x obs_full_instrument_transmisson: calexp_2020031500162-EMPTY_ronchi90lpmm-det000_auxtel_transmission.txt\t=> parameters.OBS_FULL_INSTRUMENT_TRANSMISSON: calexp_2020031500162-EMPTY_ronchi90lpmm-det000_auxtel_transmission.txt\t <class 'str'>\n",
      "x obs_quantum_efficiency: calexp_2020031500162-EMPTY_ronchi90lpmm-det000_auxtel_transmission.txt\t=> parameters.OBS_QUANTUM_EFFICIENCY: calexp_2020031500162-EMPTY_ronchi90lpmm-det000_auxtel_transmission.txt\t <class 'str'>\n",
      "x obs_camera_rotation: 0\t=> parameters.OBS_CAMERA_ROTATION: 0\t <class 'int'>\n",
      "x obs_camera_dec_flip_sign: 1\t=> parameters.OBS_CAMERA_DEC_FLIP_SIGN: 1\t <class 'int'>\n",
      "x obs_camera_ra_flip_sign: -1\t=> parameters.OBS_CAMERA_RA_FLIP_SIGN: -1\t <class 'int'>\n",
      "Section: CCD\n",
      "x ccd_imsize: 4096\t=> parameters.CCD_IMSIZE: 2048\t <class 'int'>\n",
      "x ccd_pixel2mm: 10e-3\t=> parameters.CCD_PIXEL2MM: 0.02\t <class 'float'>\n",
      "x ccd_pixel2arcsec: 0.0952\t=> parameters.CCD_PIXEL2ARCSEC: 0.1904\t <class 'float'>\n",
      "x ccd_maxadu: 170000\t=> parameters.CCD_MAXADU: 170000\t <class 'int'>\n",
      "x ccd_gain: 1.1\t=> parameters.CCD_GAIN: 1.1\t <class 'float'>\n",
      "x ccd_rebin: 2\t=> parameters.CCD_REBIN: 2\t <class 'int'>\n",
      "Section: spectrograph\n",
      "x distance2ccd: 175\t=> parameters.DISTANCE2CCD: 175\t <class 'int'>\n",
      "x distance2ccd_err: 0.75\t=> parameters.DISTANCE2CCD_ERR: 0.75\t <class 'float'>\n",
      "x grating_order_2over1: 0.1\t=> parameters.GRATING_ORDER_2OVER1: 0.1\t <class 'float'>\n",
      "Section: search windows\n",
      "x xwindow: 100\t=> parameters.XWINDOW: 50\t <class 'int'>\n",
      "x ywindow: 100\t=> parameters.YWINDOW: 50\t <class 'int'>\n",
      "x xwindow_rot: 50\t=> parameters.XWINDOW_ROT: 25\t <class 'int'>\n",
      "x ywindow_rot: 50\t=> parameters.YWINDOW_ROT: 25\t <class 'int'>\n",
      "x pixshift_prior: 5\t=> parameters.PIXSHIFT_PRIOR: 5\t <class 'int'>\n",
      "Section: rotation parameters\n",
      "x rot_prefilter: True\t=> parameters.ROT_PREFILTER: True\t <class 'bool'>\n",
      "x rot_order: 5\t=> parameters.ROT_ORDER: 5\t <class 'int'>\n",
      "x rot_angle_min: -10\t=> parameters.ROT_ANGLE_MIN: -10\t <class 'int'>\n",
      "x rot_angle_max: 10\t=> parameters.ROT_ANGLE_MAX: 10\t <class 'int'>\n",
      "Section: spectrum range\n",
      "x lambda_min: 300\t=> parameters.LAMBDA_MIN: 300\t <class 'int'>\n",
      "x lambda_max: 1100\t=> parameters.LAMBDA_MAX: 1100\t <class 'int'>\n",
      "Section: background subtraction parameters\n",
      "x pixwidth_signal: 40\t=> parameters.PIXWIDTH_SIGNAL: 20\t <class 'int'>\n",
      "x pixdist_background: 140\t=> parameters.PIXDIST_BACKGROUND: 70\t <class 'int'>\n",
      "x pixwidth_background: 40\t=> parameters.PIXWIDTH_BACKGROUND: 20\t <class 'int'>\n",
      "x pixwidth_boxsize: 20\t=> parameters.PIXWIDTH_BOXSIZE: 10\t <class 'int'>\n",
      "Section: PSF\n",
      "x psf_type: Moffat\t=> parameters.PSF_TYPE: Moffat\t <class 'str'>\n",
      "x psf_poly_order: 2\t=> parameters.PSF_POLY_ORDER: 2\t <class 'int'>\n",
      "x psf_fit_reg_param: 1\t=> parameters.PSF_FIT_REG_PARAM: 1\t <class 'int'>\n",
      "x psf_pixel_step_transverse_fit: 50\t=> parameters.PSF_PIXEL_STEP_TRANSVERSE_FIT: 25\t <class 'int'>\n",
      "x psf_fwhm_clip: 2\t=> parameters.PSF_FWHM_CLIP: 2\t <class 'int'>\n",
      "Section: detection line algorithm parameters\n",
      "x calib_bgd_order: 3\t=> parameters.CALIB_BGD_ORDER: 3\t <class 'int'>\n",
      "x calib_peak_width: 7\t=> parameters.CALIB_PEAK_WIDTH: 7\t <class 'int'>\n",
      "x calib_bgd_width: 15\t=> parameters.CALIB_BGD_WIDTH: 15\t <class 'int'>\n",
      "x calib_savgol_window: 5\t=> parameters.CALIB_SAVGOL_WINDOW: 5\t <class 'int'>\n",
      "x calib_savgol_order: 2\t=> parameters.CALIB_SAVGOL_ORDER: 2\t <class 'int'>\n",
      "Section: plot settings\n",
      "x paper: False\t=> parameters.PAPER: False\t <class 'bool'>\n",
      "x linewidth: 2\t=> parameters.LINEWIDTH: 2\t <class 'int'>\n",
      "x plot_dir: plots\t=> parameters.PLOT_DIR: plots\t <class 'str'>\n",
      "x save: False\t=> parameters.SAVE: False\t <class 'bool'>\n"
     ]
    },
    {
     "name": "stderr",
     "output_type": "stream",
     "text": [
      "2022-03-28 16:12:36  Star       load                 INFO   \n",
      "\tSimbad:\n",
      "  MAIN_ID         RA           DEC      RA_PREC DEC_PREC ... PM_ERR_MINA_2 PM_ERR_ANGLE_2 Z_VALUE_2 SCRIPT_NUMBER_ID\n",
      "               \"h:m:s\"       \"d:m:s\"                     ...    mas / yr        deg                                 \n",
      "----------- ------------- ------------- ------- -------- ... ------------- -------------- --------- ----------------\n",
      "* eta01 Dor 06 06 09.3817 -66 02 22.635      14       14 ...         0.061             90 0.0000590                1\n",
      "2022-03-28 16:12:36  Star       load_spectra         INFO   \n",
      "\tLoading /Users/sylvie/MacOSX/External/PySynPhotData/grp/redcat/trds/calspec/eta1dor_stis_002.fits\n"
     ]
    },
    {
     "name": "stdout",
     "output_type": "stream",
     "text": [
      "target_name = etador, Selected object name for Simbad : ETA1 DOR\n",
      "  MAIN_ID         RA           DEC      RA_PREC DEC_PREC ... PM_ERR_MINA_2 PM_ERR_ANGLE_2 Z_VALUE_2 SCRIPT_NUMBER_ID\n",
      "               \"h:m:s\"       \"d:m:s\"                     ...    mas / yr        deg                                 \n",
      "----------- ------------- ------------- ------- -------- ... ------------- -------------- --------- ----------------\n",
      "* eta01 Dor 06 06 09.3817 -66 02 22.635      14       14 ...         0.061             90 0.0000590                1\n"
     ]
    },
    {
     "name": "stderr",
     "output_type": "stream",
     "text": [
      "2022-03-28 16:12:37  spectractor.extractor.extractor Spectractor          INFO   \n",
      "\tSearch for the target in the image with guess=[156.18062182 867.99038956]...\n",
      "2022-03-28 16:12:37  spectractor.tools fit_poly2d_outlier_removal INFO   \n",
      "\tModel: Polynomial2D\n",
      "Inputs: ('x', 'y')\n",
      "Outputs: ('z',)\n",
      "Model set size: 1\n",
      "Degree: 1\n",
      "Parameters:\n",
      "           c0_0                c1_0                  c0_1        \n",
      "    ------------------ -------------------- ---------------------\n",
      "    23.053996715357524 0.004341770615269504 -0.006134855437664629\n",
      "2022-03-28 16:12:37  spectractor.fit.fitter gradient_descent     INFO   \n",
      "\tGradient descent terminated in 11 iterations because the relative change of cost is below ftol=5e-05.\n",
      "2022-03-28 16:12:38  spectractor.fit.fitter gradient_descent     INFO   \n",
      "\tGradient descent terminated in 2 iterations because the relative change of cost is below ftol=0.0002.\n",
      "2022-03-28 16:12:38  Image      find_target          INFO   \n",
      "\tX,Y target position in pixels: 155.948,867.761\n",
      "2022-03-28 16:12:38  Image      turn_image           INFO   \n",
      "\tRotate the image with angle theta=0.00 degree\n",
      "2022-03-28 16:12:40  spectractor.extractor.extractor Spectractor          INFO   \n",
      "\tSearch for the target in the rotated image...\n",
      "2022-03-28 16:12:40  spectractor.tools fit_poly2d_outlier_removal INFO   \n",
      "\tModel: Polynomial2D\n",
      "Inputs: ('x', 'y')\n",
      "Outputs: ('z',)\n",
      "Model set size: 1\n",
      "Degree: 1\n",
      "Parameters:\n",
      "           c0_0             c1_0              c0_1       \n",
      "    ----------------- ---------------- ------------------\n",
      "    1561.763694687338 8.04663775430119 12.549164435285599\n",
      "2022-03-28 16:12:40  spectractor.fit.fitter gradient_descent     WARNING \n",
      "\tStep 1: x_c has a null Jacobian; parameter is fixed at its last known current value (25.487997299061988).\n",
      "2022-03-28 16:12:40  spectractor.fit.fitter gradient_descent     WARNING \n",
      "\tStep 1: y_c has a null Jacobian; parameter is fixed at its last known current value (24.726481657561443).\n",
      "2022-03-28 16:12:40  spectractor.fit.fitter gradient_descent     WARNING \n",
      "\tStep 1: gamma has a null Jacobian; parameter is fixed at its last known current value (50.0).\n",
      "2022-03-28 16:12:40  spectractor.fit.fitter gradient_descent     WARNING \n",
      "\tStep 1: alpha has a null Jacobian; parameter is fixed at its last known current value (36.58423711996634).\n",
      "2022-03-28 16:12:40  spectractor.fit.fitter gradient_descent     INFO   \n",
      "\tGradient descent terminated in 1 iterations because the relative change of cost is below ftol=0.0002.\n",
      "2022-03-28 16:12:40  spectractor.fit.fitter gradient_descent     WARNING \n",
      "\tStep 0: amplitude has a null Jacobian; parameter is fixed at its last known current value (-1.862645149230957e-09).\n",
      "2022-03-28 16:12:40  spectractor.fit.fitter gradient_descent     WARNING \n",
      "\tStep 0: x_c has a null Jacobian; parameter is fixed at its last known current value (12.82600861519221).\n",
      "2022-03-28 16:12:40  spectractor.fit.fitter gradient_descent     WARNING \n",
      "\tStep 0: y_c has a null Jacobian; parameter is fixed at its last known current value (13.795791187822488).\n",
      "2022-03-28 16:12:40  spectractor.fit.fitter gradient_descent     WARNING \n",
      "\tStep 0: gamma has a null Jacobian; parameter is fixed at its last known current value (50.0).\n",
      "2022-03-28 16:12:40  spectractor.fit.fitter gradient_descent     WARNING \n",
      "\tStep 0: alpha has a null Jacobian; parameter is fixed at its last known current value (36.58423711996634).\n",
      "2022-03-28 16:12:40  spectractor.fit.fitter gradient_descent     WARNING \n",
      "\tGradient descent terminated in 0 iterations because all parameters have null Jacobian.\n",
      "2022-03-28 16:12:41  Image      find_target          INFO   \n",
      "\tX,Y target position in pixels: 155.826,867.796\n",
      "2022-03-28 16:12:41  Spectrum   __init__             INFO   \n",
      "\tSpectrum info copied from image\n",
      "2022-03-28 16:12:41  spectractor.extractor.extractor extract_spectrum_from_image INFO   \n",
      "\tExtracting spectrum from image: spectrum with width 2*20 pixels and background from 70 to 90 pixels\n",
      "2022-03-28 16:12:41  spectractor.extractor.extractor extract_spectrum_from_image INFO   \n",
      "\tExtract spectrogram: crop rotated image [584:1749,777:957] (size (1165, 180))\n",
      "2022-03-28 16:12:41  spectractor.extractor.extractor extract_spectrum_from_image INFO   \n",
      "\tStart PSF1D transverse fit...\n",
      "/Users/sylvie/opt/anaconda3/lib/python3.9/site-packages/Spectractor-2.1-py3.9.egg/spectractor/extractor/psf.py:707: RuntimeWarning: invalid value encountered in true_divide\n",
      "  out = evaluate_moffat1d_unnormalized(y, amplitude, y_c, gamma, alpha) / norm\n",
      "/Users/sylvie/opt/anaconda3/lib/python3.9/site-packages/Spectractor-2.1-py3.9.egg/spectractor/tools.py:1256: RuntimeWarning: invalid value encountered in subtract\n",
      "  a = x[imax + np.argmin(np.abs(y[imax:] - 0.9 * maximum))]\n",
      "/Users/sylvie/opt/anaconda3/lib/python3.9/site-packages/Spectractor-2.1-py3.9.egg/spectractor/tools.py:1257: RuntimeWarning: invalid value encountered in subtract\n",
      "  b = x[imax + np.argmin(np.abs(y[imax:] - 0.1 * maximum))]\n",
      "2022-03-28 16:12:44  spectractor.fit.fitter gradient_descent     INFO   \n",
      "\tIteration=0: initial cost=9.3461e+06 initial chisq_red=200.56\n",
      "\t\t Line search: alpha_min=1 iter=1 funcalls=5\n",
      "\tParameter shifts: [ 0.60573142  1.13454234  0.51068564  0.65452849  1.28738634  0.29058087\n",
      " -0.2292378  -0.3605374  -0.60133704]\n",
      "\tNew parameters: [ 2.0219324   2.8766233  -3.57720519  5.50288537  2.61155866  2.94256552\n",
      "  1.62838798  0.39459583  0.35942314]\n",
      "\tFinal cost=3.4363e+06 final chisq_red=73.74 computed in 0.40s\n",
      "2022-03-28 16:12:44  spectractor.fit.fitter gradient_descent     INFO   \n",
      "\tIteration=1: initial cost=3.4363e+06 initial chisq_red=73.74\n",
      "\t\t Line search: alpha_min=1.62 iter=1 funcalls=5\n",
      "\tParameter shifts: [ 0.52436726  0.90391063  0.9862265  -0.64130043 -1.20089612 -0.38957751\n",
      " -0.0517119  -0.12222695  0.10722044]\n",
      "\tNew parameters: [ 2.54629967  3.78053393 -2.59097869  4.86158494  1.41066255  2.55298801\n",
      "  1.57667608  0.27236888  0.46664358]\n",
      "\tFinal cost=2.5384e+06 final chisq_red=54.473 computed in 0.40s\n",
      "2022-03-28 16:12:44  spectractor.fit.fitter gradient_descent     INFO   \n",
      "\tIteration=2: initial cost=2.5384e+06 initial chisq_red=54.473\n",
      "\t\t Line search: alpha_min=1 iter=1 funcalls=5\n",
      "\tParameter shifts: [-0.1007911  -0.17627453 -0.21012408 -0.28360981 -0.45612783 -0.87337761\n",
      " -0.09212591 -0.14973084 -0.24229419]\n",
      "\tNew parameters: [ 2.44550857  3.60425939 -2.80110277  4.57797513  0.95453472  1.6796104\n",
      "  1.48455017  0.12263803  0.22434939]\n",
      "\tFinal cost=2.4564e+06 final chisq_red=52.713 computed in 0.39s\n",
      "2022-03-28 16:12:45  spectractor.fit.fitter gradient_descent     INFO   \n",
      "\tIteration=3: initial cost=2.4564e+06 initial chisq_red=52.713\n",
      "\t\t Line search: alpha_min=1 iter=1 funcalls=5\n",
      "\tParameter shifts: [0.00062273 0.00488532 0.01773339 0.17451677 0.30127744 0.36651272\n",
      " 0.05313353 0.09196604 0.1139358 ]\n",
      "\tNew parameters: [ 2.4461313   3.60914471 -2.78336937  4.75249189  1.25581216  2.04612312\n",
      "  1.5376837   0.21460408  0.33828519]\n",
      "\tFinal cost=2.4512e+06 final chisq_red=52.601 computed in 0.40s\n",
      "2022-03-28 16:12:45  spectractor.fit.fitter gradient_descent     INFO   \n",
      "\tIteration=4: initial cost=2.4512e+06 initial chisq_red=52.601\n",
      "\t\t Line search: alpha_min=1 iter=1 funcalls=5\n",
      "\tParameter shifts: [-0.00471305 -0.00918403 -0.00733575 -0.04606761 -0.08116643 -0.1226776\n",
      " -0.01447712 -0.02553265 -0.04043754]\n",
      "\tNew parameters: [ 2.44141825  3.59996069 -2.79070513  4.70642429  1.17464573  1.92344552\n",
      "  1.52320658  0.18907142  0.29784765]\n",
      "\tFinal cost=2.4507e+06 final chisq_red=52.591 computed in 0.40s\n",
      "2022-03-28 16:12:46  spectractor.fit.fitter gradient_descent     INFO   \n",
      "\tIteration=5: initial cost=2.4507e+06 initial chisq_red=52.591\n",
      "\t\t Line search: alpha_min=1 iter=1 funcalls=5\n",
      "\tParameter shifts: [0.00074485 0.00142194 0.00188227 0.02239374 0.04043454 0.04850064\n",
      " 0.0072337  0.01311688 0.01618786]\n",
      "\tNew parameters: [ 2.4421631   3.60138263 -2.78882286  4.72881803  1.21508027  1.97194616\n",
      "  1.53044028  0.2021883   0.3140355 ]\n",
      "\tFinal cost=2.4507e+06 final chisq_red=52.59 computed in 0.39s\n",
      "2022-03-28 16:12:46  spectractor.fit.fitter gradient_descent     INFO   \n",
      "\tIteration=6: initial cost=2.4507e+06 initial chisq_red=52.59\n",
      "\t\t Line search: alpha_min=1 iter=1 funcalls=5\n",
      "\tParameter shifts: [-0.000455   -0.00087707 -0.00069357 -0.00838903 -0.01469117 -0.02029877\n",
      " -0.00275417 -0.00482395 -0.00691248]\n",
      "\tNew parameters: [ 2.4417081   3.60050555 -2.78951643  4.720429    1.2003891   1.95164739\n",
      "  1.5276861   0.19736435  0.30712303]\n",
      "\tFinal cost=2.4507e+06 final chisq_red=52.589 computed in 0.39s\n"
     ]
    },
    {
     "name": "stderr",
     "output_type": "stream",
     "text": [
      "2022-03-28 16:12:46  spectractor.fit.fitter gradient_descent     INFO   \n",
      "\tGradient descent terminated in 6 iterations because the relative change of cost is below ftol=2.145922746781116e-05.\n",
      "2022-03-28 16:12:46  spectractor.fit.fitter print_parameter_summary INFO   \n",
      "\ty_c_0: 2.4417 +0.0005 -0.0005\n",
      "\ty_c_1: 3.6005 +0.0008 -0.0008\n",
      "\ty_c_2: -2.790 +0.001 -0.001\n",
      "\tgamma_0: 4.720 +0.002 -0.002\n",
      "\tgamma_1: 1.200 +0.004 -0.004\n",
      "\tgamma_2: 1.952 +0.006 -0.006\n",
      "\talpha_0: 1.5277 +0.0008 -0.0008\n",
      "\talpha_1: 0.197 +0.001 -0.001\n",
      "\talpha_2: 0.307 +0.002 -0.002\n",
      "\t\n",
      "2022-03-28 16:12:47  ChromaticPSF1DFitWorkspace plot_correlation_matrix INFO   Save figure figures_process_holo_scan/parameters_correlation.pdf.\n",
      "2022-03-28 16:12:49  spectractor.extractor.extractor extract_spectrum_from_image INFO   \n",
      "\tExtract spectrogram: crop raw image [583:1748,777:958] (size (1165, 181))\n",
      "2022-03-28 16:12:50  spectractor.extractor.extractor extract_spectrum_from_image INFO   \n",
      "\tBackground statistics: mean=4.390 ADU/s, RMS=0.314 ADU/s.\n",
      "2022-03-28 16:12:50  spectractor.extractor.extractor extract_spectrum_from_image INFO   \n",
      "\tExtract spectrogram: crop image [583:1748,777:958] (size (1165, 181))\n",
      "\tNew target position in spectrogram frame: [-427.05164394855456, 90.76068635742263]\n",
      "2022-03-28 16:12:50  spectractor.extractor.extractor Spectractor          INFO   \n",
      "\tCalibrating order 1 spectrum...\n",
      "2022-03-28 16:12:59  Spectrum   calibrate_spectrum   INFO   \n",
      "\tOrder0 total shift: -1.817pix\n",
      "\tD = 181.125 mm (default: DISTANCE2CCD = 183.00 +/- 0.75 mm, -2.5 sigma shift)\n",
      "2022-03-28 16:13:01  FullForwardModelFitWorkspace __init__             INFO   \n",
      "\tFull forward model fitting with regularisation parameter r=1.\n",
      "2022-03-28 16:13:11  spectractor.fit.fitter gradient_descent     INFO   \n",
      "\tIteration=0: initial cost=6.3266e+07 initial chisq_red=1435.4\n",
      "\t\t Line search: alpha_min=1 iter=1 funcalls=5\n",
      "\tParameter shifts: [0.47344014 0.1364685 ]\n",
      "\tNew parameters: [0.47344014 0.1364685 ]\n",
      "\tFinal cost=2.6184e+07 final chisq_red=594.1 computed in 8.51s\n",
      "2022-03-28 16:13:19  spectractor.fit.fitter gradient_descent     INFO   \n",
      "\tIteration=1: initial cost=2.6184e+07 initial chisq_red=594.1\n",
      "\t\t Line search: alpha_min=1 iter=1 funcalls=5\n",
      "\tParameter shifts: [0.07944859 0.00921255]\n",
      "\tNew parameters: [0.55288873 0.14568106]\n",
      "\tFinal cost=2.5709e+07 final chisq_red=583.31 computed in 8.51s\n",
      "2022-03-28 16:13:28  spectractor.fit.fitter gradient_descent     INFO   \n",
      "\tIteration=2: initial cost=2.5709e+07 initial chisq_red=583.31\n",
      "\t\t Line search: alpha_min=1.62 iter=1 funcalls=5\n",
      "\tParameter shifts: [-2.66529841  0.15988986]\n",
      "\tNew parameters: [-2.11240968  0.30557091]\n",
      "\tFinal cost=2.3031e+07 final chisq_red=522.55 computed in 8.42s\n",
      "2022-03-28 16:13:36  spectractor.fit.fitter gradient_descent     INFO   \n",
      "\tIteration=3: initial cost=2.3031e+07 initial chisq_red=522.55\n",
      "\t\t Line search: alpha_min=1 iter=1 funcalls=5\n",
      "\tParameter shifts: [0.08938852 0.00171003]\n",
      "\tNew parameters: [-2.02302117  0.30728095]\n",
      "\tFinal cost=2.2968e+07 final chisq_red=521.12 computed in 8.19s\n",
      "2022-03-28 16:13:47  spectractor.fit.fitter gradient_descent     INFO   \n",
      "\tIteration=4: initial cost=2.2968e+07 initial chisq_red=521.12\n",
      "\t\t Line search: alpha_min=0.224 iter=4 funcalls=8\n",
      "\tParameter shifts: [ 0.00100979 -0.00062503]\n",
      "\tNew parameters: [-2.02201138  0.30665592]\n",
      "\tFinal cost=2.2967e+07 final chisq_red=521.11 computed in 11.55s\n",
      "2022-03-28 16:13:47  spectractor.fit.fitter gradient_descent     INFO   \n",
      "\tGradient descent terminated in 4 iterations because the relative change of cost is below ftol=0.0020935831675913327.\n",
      "2022-03-28 16:13:47  spectractor.fit.fitter print_parameter_summary INFO   \n",
      "\tshift_y [pix]: -2.02201 +5e-05 -5e-05\n",
      "\tangle [deg]: 0.30666 +3e-05 -3e-05\n",
      "\t\n",
      "2022-03-28 16:13:49  FullForwardModelFitWorkspace plot_fit             INFO   \n",
      "\tSave figure figures_process_holo_scan/ffm_bestfit.pdf.\n",
      "2022-03-28 16:13:50  FullForwardModelFitWorkspace plot_fit             INFO   \n",
      "\tSave figure figures_process_holo_scan/ffm_bestfit_2.pdf.\n",
      "2022-03-28 16:13:50  FullForwardModelFitWorkspace plot_correlation_matrix INFO   Save figure figures_process_holo_scan/parameters_correlation.pdf.\n",
      "2022-03-28 16:13:52  spectractor.extractor.extractor run_ffm_minimisation INFO   \n",
      "\tStart guess: [ 1.00000000e+00  1.81124835e+02 -1.81672920e+00 -2.02201138e+00\n",
      "  3.06655917e-01  1.00000000e+00 -5.57066048e+01  1.01017399e+03\n",
      "  5.82000000e+02 -5.49138552e-13  2.44170810e+00  3.60050555e+00\n",
      " -2.78951643e+00  4.72042900e+00  1.20038910e+00  1.95164739e+00\n",
      "  1.52768610e+00  1.97364354e-01  3.07123025e-01  8.49996813e+03]\n",
      "\twith ['A2', 'D_CCD [mm]', 'shift_x [pix]', 'shift_y [pix]', 'angle [deg]', 'B', 'R', 'x_c_0', 'x_c_1', 'x_c_2', 'y_c_0', 'y_c_1', 'y_c_2', 'gamma_0', 'gamma_1', 'gamma_2', 'alpha_0', 'alpha_1', 'alpha_2', 'saturation_0']\n",
      "2022-03-28 16:14:08  spectractor.fit.fitter gradient_descent     INFO   \n",
      "\tIteration=0: initial cost=2.352e+07 initial chisq_red=533.64\n",
      "\t\t Line search: alpha_min=1 iter=1 funcalls=5\n",
      "\tParameter shifts: [-0.14784841  0.00663615 -1.63355842 -0.35950766 -0.51311859  0.12647764\n",
      " -0.04148141 -0.05971945]\n",
      "\tNew parameters: [-2.16985979  0.31329207  3.08687058  0.84088143  1.43852879  1.65416374\n",
      "  0.15588295  0.24740357]\n",
      "\tFinal cost=5.0036e+06 final chisq_red=113.53 computed in 14.77s\n",
      "2022-03-28 16:14:23  spectractor.fit.fitter gradient_descent     INFO   \n",
      "\tIteration=1: initial cost=5.0036e+06 initial chisq_red=113.53\n",
      "\t\t Line search: alpha_min=1 iter=1 funcalls=5\n",
      "\tParameter shifts: [-0.18984354  0.01825553  1.20370151  0.29415567  0.32921638  0.27313329\n",
      "  0.09374445  0.08776263]\n",
      "\tNew parameters: [-2.35970332  0.3315476   4.29057209  1.1350371   1.76774517  1.92729703\n",
      "  0.2496274   0.3351662 ]\n",
      "\tFinal cost=2.8181e+06 final chisq_red=63.94 computed in 15.03s\n",
      "2022-03-28 16:14:38  spectractor.fit.fitter gradient_descent     INFO   \n",
      "\tIteration=2: initial cost=2.8181e+06 initial chisq_red=63.94\n",
      "\t\t Line search: alpha_min=1 iter=1 funcalls=5\n",
      "\tParameter shifts: [ 0.02869544 -0.00215812  0.12080499 -0.29876491 -0.30728054  0.03481562\n",
      " -0.08581072 -0.11414366]\n",
      "\tNew parameters: [-2.33100788  0.32938948  4.41137708  0.83627219  1.46046463  1.96211264\n",
      "  0.16381668  0.22102254]\n",
      "\tFinal cost=2.7536e+06 final chisq_red=62.477 computed in 14.81s\n",
      "2022-03-28 16:14:52  spectractor.fit.fitter gradient_descent     INFO   \n",
      "\tIteration=3: initial cost=2.7536e+06 initial chisq_red=62.477\n",
      "\t\t Line search: alpha_min=1 iter=1 funcalls=5\n",
      "\tParameter shifts: [-0.00982446  0.00044933  0.0720278   0.10625058  0.10046218  0.02691298\n",
      "  0.03723636  0.03741131]\n",
      "\tNew parameters: [-2.34083233  0.32983881  4.48340487  0.94252277  1.56092681  1.98902562\n",
      "  0.20105304  0.25843384]\n",
      "\tFinal cost=2.7527e+06 final chisq_red=62.457 computed in 14.69s\n",
      "2022-03-28 16:15:07  spectractor.fit.fitter gradient_descent     INFO   \n",
      "\tIteration=4: initial cost=2.7527e+06 initial chisq_red=62.457\n",
      "\t\t Line search: alpha_min=1 iter=1 funcalls=5\n",
      "\tParameter shifts: [ 0.00103554 -0.00031615 -0.03173609 -0.05507115 -0.07399843 -0.01108721\n",
      " -0.01944518 -0.0260263 ]\n",
      "\tNew parameters: [-2.3397968   0.32952266  4.45166878  0.88745162  1.48692838  1.97793842\n",
      "  0.18160786  0.23240754]\n",
      "\tFinal cost=2.7527e+06 final chisq_red=62.455 computed in 14.70s\n",
      "2022-03-28 16:15:07  spectractor.fit.fitter gradient_descent     INFO   \n",
      "\tGradient descent terminated in 4 iterations because the relative change of cost is below ftol=0.00020935831675913326.\n",
      "2022-03-28 16:15:07  spectractor.fit.fitter print_parameter_summary INFO   \n",
      "\tshift_y [pix]: -2.3398 +0.0004 -0.0004\n",
      "\tangle [deg]: 0.32952 +3e-05 -3e-05\n",
      "\tgamma_0: 4.452 +0.003 -0.003\n",
      "\tgamma_1: 0.887 +0.005 -0.005\n",
      "\tgamma_2: 1.487 +0.006 -0.006\n",
      "\talpha_0: 1.9779 +0.0009 -0.0009\n",
      "\talpha_1: 0.182 +0.001 -0.001\n",
      "\talpha_2: 0.232 +0.002 -0.002\n",
      "\t\n",
      "2022-03-28 16:15:09  FullForwardModelFitWorkspace plot_fit             INFO   \n",
      "\tSave figure figures_process_holo_scan/ffm_bestfit.pdf.\n",
      "2022-03-28 16:15:10  FullForwardModelFitWorkspace plot_fit             INFO   \n",
      "\tSave figure figures_process_holo_scan/ffm_bestfit_2.pdf.\n",
      "2022-03-28 16:15:10  FullForwardModelFitWorkspace plot_correlation_matrix INFO   Save figure figures_process_holo_scan/parameters_correlation.pdf.\n",
      "2022-03-28 16:15:29  RegFitWorkspace print_regularisation_summary INFO   \n",
      "\tOptimal regularisation parameter: 0.37314274322349916\n",
      "\tTr(R) = 224.693707487837\n",
      "\tN_params = 1165\n",
      "\tN_data = 44074 (without mask and outliers)\n"
     ]
    },
    {
     "name": "stderr",
     "output_type": "stream",
     "text": [
      "2022-03-28 16:15:43  spectractor.fit.fitter gradient_descent     INFO   \n",
      "\tIteration=0: initial cost=2.7436e+06 initial chisq_red=62.442\n",
      "\t\t Line search: alpha_min=1 iter=1 funcalls=5\n",
      "\tParameter shifts: [ 0.01883575 -0.00093823  0.0164515   0.06757866  0.08357117  0.0028911\n",
      "  0.02439735  0.03222548]\n",
      "\tNew parameters: [-2.32096105  0.32858442  4.46812028  0.95503028  1.57049955  1.98082952\n",
      "  0.20600521  0.26463302]\n",
      "\tFinal cost=2.7417e+06 final chisq_red=62.4 computed in 11.03s\n",
      "2022-03-28 16:15:58  spectractor.fit.fitter gradient_descent     INFO   \n",
      "\tIteration=1: initial cost=2.7417e+06 initial chisq_red=62.4\n",
      "\t\t Line search: alpha_min=0.0368 iter=6 funcalls=10\n",
      "\tParameter shifts: [ 4.41336861e-04 -2.96448907e-05 -8.35519841e-04 -1.70282825e-03\n",
      " -1.64488211e-03 -2.99981589e-04 -6.06654797e-04 -6.22685955e-04]\n",
      "\tNew parameters: [-2.32051971  0.32855478  4.46728476  0.95332745  1.56885467  1.98052954\n",
      "  0.20539856  0.26401034]\n",
      "\tFinal cost=2.7417e+06 final chisq_red=62.399 computed in 15.04s\n",
      "2022-03-28 16:15:58  spectractor.fit.fitter gradient_descent     INFO   \n",
      "\tGradient descent terminated in 1 iterations because the relative change of cost is below ftol=2.0935831675913327e-05.\n",
      "2022-03-28 16:15:58  spectractor.fit.fitter print_parameter_summary INFO   \n",
      "\tshift_y [pix]: -2.3205 +0.0004 -0.0004\n",
      "\tangle [deg]: 0.32855 +1e-05 -1e-05\n",
      "\tgamma_0: 4.467 +0.003 -0.003\n",
      "\tgamma_1: 0.953 +0.005 -0.005\n",
      "\tgamma_2: 1.569 +0.006 -0.006\n",
      "\talpha_0: 1.9805 +0.0009 -0.0009\n",
      "\talpha_1: 0.205 +0.002 -0.002\n",
      "\talpha_2: 0.264 +0.002 -0.002\n",
      "\t\n",
      "2022-03-28 16:15:59  FullForwardModelFitWorkspace plot_fit             INFO   \n",
      "\tSave figure figures_process_holo_scan/ffm_bestfit.pdf.\n",
      "2022-03-28 16:16:00  FullForwardModelFitWorkspace plot_fit             INFO   \n",
      "\tSave figure figures_process_holo_scan/ffm_bestfit_2.pdf.\n",
      "2022-03-28 16:16:01  FullForwardModelFitWorkspace plot_correlation_matrix INFO   Save figure figures_process_holo_scan/parameters_correlation.pdf.\n",
      "2022-03-28 16:16:01  spectractor.fit.fitter run_minimisation_sigma_clipping INFO   \n",
      "\tOutliers: 1312 / 47765 data points (2.75%) at more than 20-sigma from best-fit model.\n",
      "2022-03-28 16:16:13  spectractor.fit.fitter gradient_descent     INFO   \n",
      "\tIteration=0: initial cost=4.9397e+06 initial chisq_red=112.43\n",
      "\t\t Line search: alpha_min=1 iter=1 funcalls=5\n",
      "\tParameter shifts: [ 0.02715736 -0.00140971 -0.45019334 -0.05628365 -1.11578462 -0.15750581\n",
      " -0.04925805 -0.30787331]\n",
      "\tNew parameters: [-2.29336235  0.32714507  4.01709142  0.8970438   0.45307005  1.82302374\n",
      "  0.15614051 -0.04386297]\n",
      "\tFinal cost=4.8618e+06 final chisq_red=110.65 computed in 10.93s\n",
      "2022-03-28 16:16:24  spectractor.fit.fitter gradient_descent     INFO   \n",
      "\tIteration=1: initial cost=4.8618e+06 initial chisq_red=110.65\n",
      "\t\t Line search: alpha_min=1 iter=1 funcalls=5\n",
      "\tParameter shifts: [ 0.38430485 -0.02565488  0.18736136  0.28707732  0.32357047  0.06497803\n",
      "  0.09327745  0.11270735]\n",
      "\tNew parameters: [-1.9090575   0.30149019  4.20445278  1.18412113  0.77664052  1.88800177\n",
      "  0.24941796  0.06884438]\n",
      "\tFinal cost=4.7696e+06 final chisq_red=108.55 computed in 10.96s\n",
      "2022-03-28 16:16:35  spectractor.fit.fitter gradient_descent     INFO   \n",
      "\tIteration=2: initial cost=4.7696e+06 initial chisq_red=108.55\n",
      "\t\t Line search: alpha_min=1 iter=1 funcalls=5\n",
      "\tParameter shifts: [-6.48605406e-05  5.56148800e-05 -8.86524828e-02 -1.55251168e-01\n",
      " -2.52420108e-01 -2.69495319e-02 -4.52097943e-02 -7.57642655e-02]\n",
      "\tNew parameters: [-1.90912237  0.3015458   4.1158003   1.02886996  0.52422041  1.86105224\n",
      "  0.20420817 -0.00691988]\n",
      "\tFinal cost=4.7687e+06 final chisq_red=108.53 computed in 11.06s\n",
      "2022-03-28 16:16:46  spectractor.fit.fitter gradient_descent     INFO   \n",
      "\tIteration=3: initial cost=4.7687e+06 initial chisq_red=108.53\n",
      "\t\t Line search: alpha_min=1 iter=1 funcalls=5\n",
      "\tParameter shifts: [ 0.00833447 -0.00054977  0.06066883  0.10378042  0.11763032  0.02073877\n",
      "  0.03463004  0.04281351]\n",
      "\tNew parameters: [-1.9007879   0.30099603  4.17646913  1.13265037  0.64185073  1.88179101\n",
      "  0.23883821  0.03589363]\n",
      "\tFinal cost=4.7686e+06 final chisq_red=108.53 computed in 11.07s\n",
      "2022-03-28 16:16:59  spectractor.fit.fitter gradient_descent     INFO   \n",
      "\tIteration=4: initial cost=4.7686e+06 initial chisq_red=108.53\n",
      "\t\t Line search: alpha_min=0.382 iter=3 funcalls=7\n",
      "\tParameter shifts: [ 0.00301185 -0.00020749 -0.01692702 -0.027897   -0.03822226 -0.00566199\n",
      " -0.00914954 -0.01334771]\n",
      "\tNew parameters: [-1.89777605  0.30078854  4.15954211  1.10475337  0.60362847  1.87612902\n",
      "  0.22968867  0.02254592]\n",
      "\tFinal cost=4.7684e+06 final chisq_red=108.53 computed in 12.73s\n",
      "2022-03-28 16:17:12  spectractor.fit.fitter gradient_descent     INFO   \n",
      "\tIteration=5: initial cost=4.7684e+06 initial chisq_red=108.53\n",
      "\t\t Line search: alpha_min=-0.122 iter=4 funcalls=8\n",
      "\tParameter shifts: [-9.74637111e-04  6.51810521e-05  1.88897132e-03  3.05431107e-03\n",
      "  4.53023158e-03  6.20316876e-04  9.86390433e-04  1.52617152e-03]\n",
      "\tNew parameters: [-1.89875069  0.30085372  4.16143108  1.10780769  0.6081587   1.87674933\n",
      "  0.23067506  0.02407209]\n",
      "\tFinal cost=4.7684e+06 final chisq_red=108.53 computed in 13.28s\n",
      "2022-03-28 16:17:12  spectractor.fit.fitter gradient_descent     INFO   \n",
      "\tGradient descent terminated in 5 iterations because the relative change of cost is below ftol=2.0935831675913327e-05.\n",
      "2022-03-28 16:17:12  spectractor.fit.fitter print_parameter_summary INFO   \n",
      "\tshift_y [pix]: -1.8988 +0.0004 -0.0004\n",
      "\tangle [deg]: 0.30085 +2e-05 -2e-05\n",
      "\tgamma_0: 4.161 +0.003 -0.003\n",
      "\tgamma_1: 1.108 +0.004 -0.004\n",
      "\tgamma_2: 0.608 +0.006 -0.006\n",
      "\talpha_0: 1.8767 +0.0008 -0.0008\n",
      "\talpha_1: 0.231 +0.001 -0.001\n",
      "\talpha_2: 0.024 +0.002 -0.002\n",
      "\t\n",
      "2022-03-28 16:17:14  FullForwardModelFitWorkspace plot_fit             INFO   \n",
      "\tSave figure figures_process_holo_scan/ffm_bestfit.pdf.\n",
      "/Users/sylvie/opt/anaconda3/lib/python3.9/site-packages/Spectractor-2.1-py3.9.egg/spectractor/extractor/extractor.py:603: RuntimeWarning: More than 20 figures have been opened. Figures created through the pyplot interface (`matplotlib.pyplot.figure`) are retained until explicitly closed and may consume too much memory. (To control this warning, see the rcParam `figure.max_open_warning`).\n",
      "  fig2, ax2 = plt.subplots(nrows=4, ncols=2, figsize=(6, 8), gridspec_kw=gs_kw)\n",
      "2022-03-28 16:17:14  FullForwardModelFitWorkspace plot_fit             INFO   \n",
      "\tSave figure figures_process_holo_scan/ffm_bestfit_2.pdf.\n",
      "2022-03-28 16:17:15  FullForwardModelFitWorkspace plot_correlation_matrix INFO   Save figure figures_process_holo_scan/parameters_correlation.pdf.\n",
      "2022-03-28 16:17:15  spectractor.fit.fitter run_minimisation_sigma_clipping INFO   \n",
      "\tOutliers: 3648 / 47765 data points (7.64%) at more than 20-sigma from best-fit model.\n",
      "2022-03-28 16:17:27  spectractor.fit.fitter gradient_descent     INFO   \n",
      "\tIteration=0: initial cost=7.5377e+06 initial chisq_red=171.55\n",
      "\t\t Line search: alpha_min=1 iter=1 funcalls=5\n",
      "\tParameter shifts: [-0.03221388 -0.00236778 -0.36568666 -0.25477166 -1.72838319 -0.14822555\n",
      " -0.07641952 -0.44224174]\n",
      "\tNew parameters: [-1.93096457  0.29848594  3.79574442  0.85303602 -1.12022449  1.72852379\n",
      "  0.15425553 -0.41816964]\n",
      "\tFinal cost=7.3048e+06 final chisq_red=166.25 computed in 11.01s\n",
      "2022-03-28 16:17:38  spectractor.fit.fitter gradient_descent     INFO   \n",
      "\tIteration=1: initial cost=7.3048e+06 initial chisq_red=166.25\n",
      "\t\t Line search: alpha_min=1 iter=1 funcalls=5\n",
      "\tParameter shifts: [ 0.81797286 -0.05304392  0.17479654  0.52509154 -0.22046458  0.0581472\n",
      "  0.15539728 -0.05901091]\n",
      "\tNew parameters: [-1.1129917   0.24544202  3.97054096  1.37812756 -1.34068907  1.78667099\n",
      "  0.30965281 -0.47718056]\n",
      "\tFinal cost=6.9855e+06 final chisq_red=158.99 computed in 11.19s\n",
      "2022-03-28 16:17:49  spectractor.fit.fitter gradient_descent     INFO   \n",
      "\tIteration=2: initial cost=6.9855e+06 initial chisq_red=158.99\n",
      "\t\t Line search: alpha_min=1 iter=1 funcalls=5\n",
      "\tParameter shifts: [-0.0532777   0.00334516  0.04584091 -0.07318125  0.24608815  0.01475387\n",
      " -0.01082457  0.05534766]\n",
      "\tNew parameters: [-1.1662694   0.24878718  4.01638187  1.30494631 -1.09460092  1.80142486\n",
      "  0.29882824 -0.4218329 ]\n",
      "\tFinal cost=6.9743e+06 final chisq_red=158.73 computed in 10.98s\n",
      "2022-03-28 16:18:02  spectractor.fit.fitter gradient_descent     INFO   \n",
      "\tIteration=3: initial cost=6.9743e+06 initial chisq_red=158.73\n",
      "\t\t Line search: alpha_min=0.382 iter=3 funcalls=7\n",
      "\tParameter shifts: [ 0.00488635 -0.00028109 -0.01922492 -0.0019104  -0.09841293 -0.00522083\n",
      " -0.00226533 -0.02493209]\n",
      "\tNew parameters: [-1.16138305  0.24850609  3.99715695  1.30303592 -1.19301385  1.79620403\n",
      "  0.29656291 -0.44676499]\n",
      "\tFinal cost=6.9728e+06 final chisq_red=158.7 computed in 12.54s\n"
     ]
    },
    {
     "name": "stderr",
     "output_type": "stream",
     "text": [
      "2022-03-28 16:18:14  spectractor.fit.fitter gradient_descent     INFO   \n",
      "\tIteration=4: initial cost=6.9728e+06 initial chisq_red=158.7\n",
      "\t\t Line search: alpha_min=0.382 iter=3 funcalls=7\n",
      "\tParameter shifts: [ 4.63357882e-04 -3.14268498e-05  2.98525813e-03 -6.95645329e-03\n",
      "  3.33094706e-02  6.71980928e-04 -1.76786056e-03  8.65046645e-03]\n",
      "\tNew parameters: [-1.1609197   0.24847467  4.00014221  1.29607946 -1.15970438  1.79687601\n",
      "  0.29479505 -0.43811452]\n",
      "\tFinal cost=6.9727e+06 final chisq_red=158.69 computed in 12.63s\n",
      "2022-03-28 16:18:14  spectractor.fit.fitter gradient_descent     INFO   \n",
      "\tGradient descent terminated in 4 iterations because the relative change of cost is below ftol=2.0935831675913327e-05.\n",
      "2022-03-28 16:18:14  spectractor.fit.fitter print_parameter_summary INFO   \n",
      "\tshift_y [pix]: -1.161 +0.002 -0.002\n",
      "\tangle [deg]: 0.24847 +0.0001 -0.0001\n",
      "\tgamma_0: 4.000 +0.002 -0.002\n",
      "\tgamma_1: 1.296 +0.004 -0.004\n",
      "\tgamma_2: -1.160 +0.005 -0.005\n",
      "\talpha_0: 1.7969 +0.0007 -0.0007\n",
      "\talpha_1: 0.295 +0.001 -0.001\n",
      "\talpha_2: -0.438 +0.001 -0.001\n",
      "\t\n",
      "2022-03-28 16:18:16  FullForwardModelFitWorkspace plot_fit             INFO   \n",
      "\tSave figure figures_process_holo_scan/ffm_bestfit.pdf.\n",
      "2022-03-28 16:18:17  FullForwardModelFitWorkspace plot_fit             INFO   \n",
      "\tSave figure figures_process_holo_scan/ffm_bestfit_2.pdf.\n",
      "2022-03-28 16:18:17  FullForwardModelFitWorkspace plot_correlation_matrix INFO   Save figure figures_process_holo_scan/parameters_correlation.pdf.\n",
      "2022-03-28 16:18:18  spectractor.fit.fitter run_minimisation_sigma_clipping INFO   \n",
      "\tOutliers: 8069 / 47765 data points (16.89%) at more than 20-sigma from best-fit model.\n",
      "2022-03-28 16:18:18  spectractor.extractor.extractor run_ffm_minimisation INFO   \n",
      "\tNewton: total computation time: 265.81815576553345s\n",
      "2022-03-28 16:18:18  FullForwardModelFitWorkspace plot_fit             INFO   \n",
      "\tSave figure figures_process_holo_scan/ffm_bestfit.pdf.\n",
      "2022-03-28 16:18:19  FullForwardModelFitWorkspace plot_fit             INFO   \n",
      "\tSave figure figures_process_holo_scan/ffm_bestfit_2.pdf.\n",
      "2022-03-28 16:18:33  Spectrum   calibrate_spectrum   INFO   \n",
      "\tOrder0 total shift: 2.000pix\n",
      "\tD = 178.852 mm (default: DISTANCE2CCD = 183.00 +/- 0.75 mm, -5.5 sigma shift)\n",
      "2022-03-28 16:18:44  spectractor.fit.fitter gradient_descent     INFO   \n",
      "\tIteration=0: initial cost=4.486e+06 initial chisq_red=102.17\n",
      "\t\t Line search: alpha_min=1 iter=1 funcalls=5\n",
      "\tParameter shifts: [ 0.12073271 -0.00837189 -0.14115231  0.18825238 -0.46561578 -0.03042837\n",
      "  0.04416646 -0.02344921]\n",
      "\tNew parameters: [-1.04018699  0.24010278  3.8589899   1.48433184 -1.62532015  1.76644763\n",
      "  0.33896151 -0.46156373]\n",
      "\tFinal cost=4.4488e+06 final chisq_red=101.32 computed in 9.64s\n",
      "2022-03-28 16:18:54  spectractor.fit.fitter gradient_descent     INFO   \n",
      "\tIteration=1: initial cost=4.4488e+06 initial chisq_red=101.32\n",
      "\t\t Line search: alpha_min=1.62 iter=1 funcalls=5\n",
      "\tParameter shifts: [ 3.42234319e-02 -1.55377987e-03  2.46760016e-04  5.28066927e-02\n",
      " -2.58776369e-01 -3.11491688e-03  3.06963558e-02 -1.45703209e-01]\n",
      "\tNew parameters: [-1.00596356  0.238549    3.85923666  1.53713854 -1.88409652  1.76333272\n",
      "  0.36965787 -0.60726694]\n",
      "\tFinal cost=4.4265e+06 final chisq_red=100.81 computed in 9.63s\n",
      "2022-03-28 16:19:04  spectractor.fit.fitter gradient_descent     INFO   \n",
      "\tIteration=2: initial cost=4.4265e+06 initial chisq_red=100.81\n",
      "\t\t Line search: alpha_min=1 iter=1 funcalls=5\n",
      "\tParameter shifts: [-0.01419646  0.00079019  0.05637135  0.11532267 -0.05389792  0.01971747\n",
      "  0.03179961  0.00489818]\n",
      "\tNew parameters: [-1.02016001  0.23933918  3.91560801  1.6524612  -1.93799444  1.78305019\n",
      "  0.40145747 -0.60236877]\n",
      "\tFinal cost=4.4241e+06 final chisq_red=100.76 computed in 9.65s\n",
      "2022-03-28 16:19:18  spectractor.fit.fitter gradient_descent     INFO   \n",
      "\tIteration=3: initial cost=4.4241e+06 initial chisq_red=100.76\n",
      "\t\t Line search: alpha_min=0.00856 iter=9 funcalls=13\n",
      "\tParameter shifts: [ 6.69646654e-04 -4.28808820e-05 -1.62324383e-04 -4.15803419e-04\n",
      " -3.16064694e-04 -4.74307071e-05 -1.49057531e-04 -5.10125902e-05]\n",
      "\tNew parameters: [-1.01949037  0.2392963   3.91544568  1.6520454  -1.9383105   1.78300275\n",
      "  0.40130842 -0.60241978]\n",
      "\tFinal cost=4.4241e+06 final chisq_red=100.76 computed in 14.74s\n",
      "2022-03-28 16:19:18  spectractor.fit.fitter gradient_descent     INFO   \n",
      "\tGradient descent terminated in 3 iterations because the relative change of cost is below ftol=2.0935831675913327e-05.\n",
      "2022-03-28 16:19:18  spectractor.fit.fitter print_parameter_summary INFO   \n",
      "\tshift_y [pix]: -1.0195 +0.0008 -0.0008\n",
      "\tangle [deg]: 0.23930 +5e-05 -5e-05\n",
      "\tgamma_0: 3.915 +0.002 -0.002\n",
      "\tgamma_1: 1.652 +0.004 -0.004\n",
      "\tgamma_2: -1.938 +0.004 -0.004\n",
      "\talpha_0: 1.7830 +0.0007 -0.0007\n",
      "\talpha_1: 0.401 +0.001 -0.001\n",
      "\talpha_2: -0.602 +0.001 -0.001\n",
      "\t\n",
      "2022-03-28 16:19:20  FullForwardModelFitWorkspace plot_fit             INFO   \n",
      "\tSave figure figures_process_holo_scan/ffm_bestfit.pdf.\n",
      "2022-03-28 16:19:21  FullForwardModelFitWorkspace plot_fit             INFO   \n",
      "\tSave figure figures_process_holo_scan/ffm_bestfit_2.pdf.\n",
      "2022-03-28 16:19:21  FullForwardModelFitWorkspace plot_correlation_matrix INFO   Save figure figures_process_holo_scan/parameters_correlation.pdf.\n",
      "2022-03-28 16:19:22  spectractor.fit.fitter run_minimisation_sigma_clipping INFO   \n",
      "\tOutliers: 10777 / 47765 data points (22.56%) at more than 20-sigma from best-fit model.\n"
     ]
    }
   ],
   "source": [
    "spectrum = Spectractor(filename, output_directory, guess=[x1,y1], target_label=target, disperser_label=disperser_label, config=config)"
   ]
  },
  {
   "cell_type": "markdown",
   "metadata": {},
   "source": [
    "# Backup output"
   ]
  },
  {
   "cell_type": "code",
   "execution_count": null,
   "metadata": {},
   "outputs": [],
   "source": [
    "copy_tree(output_directory,os.path.join(finalpath_output_spectractor,\"basespec\"))"
   ]
  },
  {
   "cell_type": "code",
   "execution_count": null,
   "metadata": {},
   "outputs": [],
   "source": [
    "copy_tree(output_figures,os.path.join(finalpath_output_spectractor,\"plots\"))"
   ]
  },
  {
   "cell_type": "code",
   "execution_count": null,
   "metadata": {},
   "outputs": [],
   "source": [
    "!ls -l  $finalpath_output_spectractor/basespec"
   ]
  },
  {
   "cell_type": "code",
   "execution_count": null,
   "metadata": {},
   "outputs": [],
   "source": [
    "!ls -l  $finalpath_output_spectractor/plots"
   ]
  },
  {
   "cell_type": "code",
   "execution_count": null,
   "metadata": {},
   "outputs": [],
   "source": [
    "finalpath_output_spectractor"
   ]
  },
  {
   "cell_type": "code",
   "execution_count": null,
   "metadata": {},
   "outputs": [],
   "source": []
  }
 ],
 "metadata": {
  "kernelspec": {
   "display_name": "Python 3 (ipykernel)",
   "language": "python",
   "name": "python3"
  },
  "language_info": {
   "codemirror_mode": {
    "name": "ipython",
    "version": 3
   },
   "file_extension": ".py",
   "mimetype": "text/x-python",
   "name": "python",
   "nbconvert_exporter": "python",
   "pygments_lexer": "ipython3",
   "version": "3.9.7"
  },
  "toc": {
   "base_numbering": 1,
   "nav_menu": {},
   "number_sections": true,
   "sideBar": true,
   "skip_h1_title": false,
   "title_cell": "Table of Contents",
   "title_sidebar": "Contents",
   "toc_cell": false,
   "toc_position": {},
   "toc_section_display": true,
   "toc_window_display": false
  }
 },
 "nbformat": 4,
 "nbformat_minor": 4
}
