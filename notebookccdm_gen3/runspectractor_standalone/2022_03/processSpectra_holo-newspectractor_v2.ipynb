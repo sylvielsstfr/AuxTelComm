{
 "cells": [
  {
   "cell_type": "markdown",
   "metadata": {},
   "source": [
    "# process spectra for AuxTel with new spectractor (March 2022)"
   ]
  },
  {
   "cell_type": "markdown",
   "metadata": {},
   "source": [
    "- author : Sylvie Dagoret-Campagne\n",
    "- affiliation : IJCLab/IN2P3/CNES, DESC-LSST fullmember, behalf AuxTel Teal VERA C. Rubin observatory\n",
    "- creation date : October 14th 2021\n",
    "- last update : November 2nd 2021\n",
    "- version v4 : Work with new exposure format quickLookExp_v2\n",
    "\n",
    "\n",
    "This notebook is to help for finding the position of order 0\n",
    "\n",
    "CCIN2P3:\n",
    "\n",
    "- works with kernels **anaconda3_auxtel** (with libradtran) and **anaconda3_auxtel_v2** (no libradtran)\n",
    "- works with kernel **python 3** locally "
   ]
  },
  {
   "cell_type": "markdown",
   "metadata": {},
   "source": [
    "# Scan\n",
    "\n",
    "    # wide scan : HD 160617 \n",
    "    # all_myseq_holo=range(234,310)\n",
    "    # narrow scan :  HD 160617 \n",
    "    # all_myseq_holo=range(317,365)\n"
   ]
  },
  {
   "cell_type": "markdown",
   "metadata": {},
   "source": [
    "# Imports"
   ]
  },
  {
   "cell_type": "code",
   "execution_count": 1,
   "metadata": {},
   "outputs": [],
   "source": [
    "%load_ext autoreload\n",
    "%autoreload 2"
   ]
  },
  {
   "cell_type": "code",
   "execution_count": 2,
   "metadata": {},
   "outputs": [
    {
     "name": "stdout",
     "output_type": "stream",
     "text": [
      "['/pbs/throng/lsst/users/dagoret/desc/AuxTelComm/notebookccdm_gen3/runspectractor_standalone/2022_03', '', '/opt/conda/lib/python3.8/site-packages', '/sps/lsst/groups/auxtel/softs/utils/anaconda3/lib/python38.zip', '/sps/lsst/groups/auxtel/softs/utils/anaconda3/lib/python3.8', '/sps/lsst/groups/auxtel/softs/utils/anaconda3/lib/python3.8/lib-dynload', '/pbs/home/d/dagoret/.local/lib/python3.8/site-packages', '/sps/lsst/groups/auxtel/softs/utils/anaconda3/lib/python3.8/site-packages', '/sps/lsst/groups/auxtel/softs/utils/anaconda3/lib/python3.8/site-packages/Deprecated-1.2.11-py3.8.egg', '/sps/lsst/groups/auxtel/softs/utils/anaconda3/lib/python3.8/site-packages/docopt-0.6.2-py3.8.egg', '/sps/lsst/groups/auxtel/softs/utils/anaconda3/lib/python3.8/site-packages/mimeparse-0.1.3-py3.8.egg', '/sps/lsst/groups/auxtel/softs/utils/anaconda3/lib/python3.8/site-packages/Spectractor-2.1-py3.8.egg', '/sps/lsst/groups/auxtel/softs/utils/anaconda3/lib/python3.8/site-packages/rail-0.1.dev0-py3.8.egg', '/sps/lsst/groups/auxtel/softs/utils/anaconda3/lib/python3.8/site-packages/pyarrow-4.0.1-py3.8-linux-x86_64.egg', '/sps/lsst/groups/auxtel/softs/utils/anaconda3/lib/python3.8/site-packages/importlib_metadata-4.11.3-py3.8.egg', '/sps/lsst/groups/auxtel/softs/utils/anaconda3/lib/python3.8/site-packages/coveralls-3.0.1-py3.8.egg', '/sps/lsst/groups/auxtel/softs/utils/anaconda3/lib/python3.8/site-packages/astroquery-0.4.2.dev0-py3.8.egg', '/sps/lsst/groups/auxtel/softs/utils/anaconda3/lib/python3.8/site-packages/pyvo-1.1-py3.8.egg', '/sps/lsst/groups/auxtel/softs/utils/anaconda3/lib/python3.8/site-packages/certifi-2020.12.5-py3.8.egg']\n"
     ]
    }
   ],
   "source": [
    "import sys\n",
    "print(sys.path)"
   ]
  },
  {
   "cell_type": "code",
   "execution_count": 3,
   "metadata": {},
   "outputs": [
    {
     "name": "stdout",
     "output_type": "stream",
     "text": [
      "remove /opt/conda/lib/python3.8/site-packages from sys.path\n",
      "remove /pbs/home/d/dagoret/.local/lib/python3.8/site-packages from sys.path\n"
     ]
    }
   ],
   "source": [
    "all_paths_to_remove = ['/opt/conda/lib/python3.8/site-packages','/pbs/home/d/dagoret/.local/lib/python3.8/site-packages']\n",
    "\n",
    "for path_to_remove in all_paths_to_remove:\n",
    "    if path_to_remove in sys.path:\n",
    "        print(f\"remove {path_to_remove} from sys.path\")\n",
    "        sys.path.remove(path_to_remove)"
   ]
  },
  {
   "cell_type": "code",
   "execution_count": 4,
   "metadata": {},
   "outputs": [
    {
     "data": {
      "text/plain": [
       "['/pbs/throng/lsst/users/dagoret/desc/AuxTelComm/notebookccdm_gen3/runspectractor_standalone/2022_03',\n",
       " '',\n",
       " '/sps/lsst/groups/auxtel/softs/utils/anaconda3/lib/python38.zip',\n",
       " '/sps/lsst/groups/auxtel/softs/utils/anaconda3/lib/python3.8',\n",
       " '/sps/lsst/groups/auxtel/softs/utils/anaconda3/lib/python3.8/lib-dynload',\n",
       " '/sps/lsst/groups/auxtel/softs/utils/anaconda3/lib/python3.8/site-packages',\n",
       " '/sps/lsst/groups/auxtel/softs/utils/anaconda3/lib/python3.8/site-packages/Deprecated-1.2.11-py3.8.egg',\n",
       " '/sps/lsst/groups/auxtel/softs/utils/anaconda3/lib/python3.8/site-packages/docopt-0.6.2-py3.8.egg',\n",
       " '/sps/lsst/groups/auxtel/softs/utils/anaconda3/lib/python3.8/site-packages/mimeparse-0.1.3-py3.8.egg',\n",
       " '/sps/lsst/groups/auxtel/softs/utils/anaconda3/lib/python3.8/site-packages/Spectractor-2.1-py3.8.egg',\n",
       " '/sps/lsst/groups/auxtel/softs/utils/anaconda3/lib/python3.8/site-packages/rail-0.1.dev0-py3.8.egg',\n",
       " '/sps/lsst/groups/auxtel/softs/utils/anaconda3/lib/python3.8/site-packages/pyarrow-4.0.1-py3.8-linux-x86_64.egg',\n",
       " '/sps/lsst/groups/auxtel/softs/utils/anaconda3/lib/python3.8/site-packages/importlib_metadata-4.11.3-py3.8.egg',\n",
       " '/sps/lsst/groups/auxtel/softs/utils/anaconda3/lib/python3.8/site-packages/coveralls-3.0.1-py3.8.egg',\n",
       " '/sps/lsst/groups/auxtel/softs/utils/anaconda3/lib/python3.8/site-packages/astroquery-0.4.2.dev0-py3.8.egg',\n",
       " '/sps/lsst/groups/auxtel/softs/utils/anaconda3/lib/python3.8/site-packages/pyvo-1.1-py3.8.egg',\n",
       " '/sps/lsst/groups/auxtel/softs/utils/anaconda3/lib/python3.8/site-packages/certifi-2020.12.5-py3.8.egg']"
      ]
     },
     "execution_count": 4,
     "metadata": {},
     "output_type": "execute_result"
    }
   ],
   "source": [
    "sys.path"
   ]
  },
  {
   "cell_type": "code",
   "execution_count": 5,
   "metadata": {},
   "outputs": [],
   "source": [
    "import numpy as np\n",
    "import matplotlib.pyplot as plt\n",
    "%matplotlib inline\n",
    "from mpl_toolkits.axes_grid1 import make_axes_locatable\n",
    "from matplotlib.colors import LogNorm\n",
    "from matplotlib import  transforms\n",
    "import pandas as pd\n",
    "\n",
    "import matplotlib.ticker                         # here's where the formatter is\n",
    "import os\n",
    "import re\n",
    "\n",
    "plt.rcParams[\"figure.figsize\"] = (12,12)\n",
    "plt.rcParams[\"axes.labelsize\"] = 'xx-large'\n",
    "plt.rcParams['axes.titlesize'] = 'xx-large'\n",
    "plt.rcParams['xtick.labelsize']= 'xx-large'\n",
    "plt.rcParams['ytick.labelsize']= 'xx-large'"
   ]
  },
  {
   "cell_type": "code",
   "execution_count": null,
   "metadata": {},
   "outputs": [],
   "source": []
  },
  {
   "cell_type": "code",
   "execution_count": 6,
   "metadata": {},
   "outputs": [
    {
     "data": {
      "text/plain": [
       "['/pbs/throng/lsst/users/dagoret/desc/AuxTelComm/notebookccdm_gen3/runspectractor_standalone/2022_03',\n",
       " '',\n",
       " '/sps/lsst/groups/auxtel/softs/utils/anaconda3/lib/python38.zip',\n",
       " '/sps/lsst/groups/auxtel/softs/utils/anaconda3/lib/python3.8',\n",
       " '/sps/lsst/groups/auxtel/softs/utils/anaconda3/lib/python3.8/lib-dynload',\n",
       " '/sps/lsst/groups/auxtel/softs/utils/anaconda3/lib/python3.8/site-packages',\n",
       " '/sps/lsst/groups/auxtel/softs/utils/anaconda3/lib/python3.8/site-packages/Deprecated-1.2.11-py3.8.egg',\n",
       " '/sps/lsst/groups/auxtel/softs/utils/anaconda3/lib/python3.8/site-packages/docopt-0.6.2-py3.8.egg',\n",
       " '/sps/lsst/groups/auxtel/softs/utils/anaconda3/lib/python3.8/site-packages/mimeparse-0.1.3-py3.8.egg',\n",
       " '/sps/lsst/groups/auxtel/softs/utils/anaconda3/lib/python3.8/site-packages/Spectractor-2.1-py3.8.egg',\n",
       " '/sps/lsst/groups/auxtel/softs/utils/anaconda3/lib/python3.8/site-packages/rail-0.1.dev0-py3.8.egg',\n",
       " '/sps/lsst/groups/auxtel/softs/utils/anaconda3/lib/python3.8/site-packages/pyarrow-4.0.1-py3.8-linux-x86_64.egg',\n",
       " '/sps/lsst/groups/auxtel/softs/utils/anaconda3/lib/python3.8/site-packages/importlib_metadata-4.11.3-py3.8.egg',\n",
       " '/sps/lsst/groups/auxtel/softs/utils/anaconda3/lib/python3.8/site-packages/coveralls-3.0.1-py3.8.egg',\n",
       " '/sps/lsst/groups/auxtel/softs/utils/anaconda3/lib/python3.8/site-packages/astroquery-0.4.2.dev0-py3.8.egg',\n",
       " '/sps/lsst/groups/auxtel/softs/utils/anaconda3/lib/python3.8/site-packages/pyvo-1.1-py3.8.egg',\n",
       " '/sps/lsst/groups/auxtel/softs/utils/anaconda3/lib/python3.8/site-packages/certifi-2020.12.5-py3.8.egg']"
      ]
     },
     "execution_count": 6,
     "metadata": {},
     "output_type": "execute_result"
    }
   ],
   "source": [
    "sys.path"
   ]
  },
  {
   "cell_type": "code",
   "execution_count": 7,
   "metadata": {},
   "outputs": [
    {
     "name": "stdout",
     "output_type": "stream",
     "text": [
      "/sps/lsst/groups/auxtel/softs/utils/anaconda3/bin/python\n",
      "3.8.5 (default, Sep  4 2020, 07:30:14) \n",
      "[GCC 7.3.0]\n"
     ]
    }
   ],
   "source": [
    "print(sys.executable)\n",
    "print(sys.version)\n",
    "#print(sys.version_info)"
   ]
  },
  {
   "cell_type": "code",
   "execution_count": 8,
   "metadata": {},
   "outputs": [
    {
     "data": {
      "image/png": "[encoded data removed]",
      "text/plain": [
       "<Figure size 360x144 with 1 Axes>"
      ]
     },
     "metadata": {
      "needs_background": "light"
     },
     "output_type": "display_data"
    }
   ],
   "source": [
    "fig=plt.figure(figsize=(5,2))\n",
    "ax=fig.add_subplot(1,1,1)\n",
    "X=np.linspace(-10,10,50)\n",
    "Y=np.sin(X)\n",
    "ax.plot(X,Y)\n",
    "plt.show()               \n"
   ]
  },
  {
   "cell_type": "code",
   "execution_count": 9,
   "metadata": {},
   "outputs": [],
   "source": [
    "from iminuit import Minuit\n",
    "import iminuit"
   ]
  },
  {
   "cell_type": "code",
   "execution_count": 10,
   "metadata": {},
   "outputs": [
    {
     "data": {
      "text/plain": [
       "'2.2.0'"
      ]
     },
     "execution_count": 10,
     "metadata": {},
     "output_type": "execute_result"
    }
   ],
   "source": [
    "iminuit.__version__"
   ]
  },
  {
   "cell_type": "code",
   "execution_count": 11,
   "metadata": {},
   "outputs": [],
   "source": [
    "from astropy.io import fits\n",
    "from spectractor import parameters\n",
    "from spectractor.extractor.extractor import Spectractor\n",
    "from spectractor.extractor.images import *\n",
    "from scipy import ndimage, misc"
   ]
  },
  {
   "cell_type": "code",
   "execution_count": null,
   "metadata": {},
   "outputs": [],
   "source": []
  },
  {
   "cell_type": "code",
   "execution_count": null,
   "metadata": {},
   "outputs": [],
   "source": []
  },
  {
   "cell_type": "code",
   "execution_count": 12,
   "metadata": {},
   "outputs": [
    {
     "name": "stdout",
     "output_type": "stream",
     "text": [
      " MAIN_ID        RA           DEC      ...      SP_BIBCODE     SCRIPT_NUMBER_ID\n",
      "             \"h:m:s\"       \"d:m:s\"    ...                                     \n",
      "--------- ------------- ------------- ... ------------------- ----------------\n",
      "* mu. Col 05 45 59.8950 -32 18 23.162 ... 2014ApJS..211...10S                1\n",
      " MAIN_ID        RA           DEC      ...      SP_BIBCODE     SCRIPT_NUMBER_ID\n",
      "             \"h:m:s\"       \"d:m:s\"    ...                                     \n",
      "--------- ------------- ------------- ... ------------------- ----------------\n",
      "HD 111980 12 53 15.0529 -18 31 20.013 ... 1988MSS...C04....0H                1\n",
      "  MAIN_ID         RA           DEC      ...      SP_BIBCODE     SCRIPT_NUMBER_ID\n",
      "               \"h:m:s\"       \"d:m:s\"    ...                                     \n",
      "----------- ------------- ------------- ... ------------------- ----------------\n",
      "* eta02 Dor 06 11 14.9816 -65 35 21.904 ... 1989ApJS...71..245K                1\n"
     ]
    }
   ],
   "source": [
    "from astroquery.simbad import Simbad\n",
    "result_table = Simbad.query_object(\"mu. Col\")\n",
    "print(result_table)\n",
    "result_table = Simbad.query_object(\"HD111980\")\n",
    "print(result_table)\n",
    "result_table = Simbad.query_object(\"eta dor\")\n",
    "print(result_table)"
   ]
  },
  {
   "cell_type": "code",
   "execution_count": 13,
   "metadata": {},
   "outputs": [],
   "source": [
    "result_table = Simbad.query_object(\"ETA DOR\")"
   ]
  },
  {
   "cell_type": "code",
   "execution_count": 14,
   "metadata": {},
   "outputs": [
    {
     "data": {
      "text/html": [
       "<i>Table length=1</i>\n",
       "<table id=\"table140691388174192\" class=\"table-striped table-bordered table-condensed\">\n",
       "<thead><tr><th>MAIN_ID</th><th>RA</th><th>DEC</th><th>RA_PREC</th><th>DEC_PREC</th><th>COO_ERR_MAJA</th><th>COO_ERR_MINA</th><th>COO_ERR_ANGLE</th><th>COO_QUAL</th><th>COO_WAVELENGTH</th><th>COO_BIBCODE</th><th>FLUX_U</th><th>FLUX_B</th><th>FLUX_V</th><th>FLUX_R</th><th>FLUX_I</th><th>FLUX_J</th><th>SP_TYPE</th><th>SP_QUAL</th><th>SP_BIBCODE</th><th>SCRIPT_NUMBER_ID</th></tr></thead>\n",
       "<thead><tr><th></th><th>&quot;h:m:s&quot;</th><th>&quot;d:m:s&quot;</th><th></th><th></th><th>mas</th><th>mas</th><th>deg</th><th></th><th></th><th></th><th>mag</th><th>mag</th><th>mag</th><th>mag</th><th>mag</th><th>mag</th><th></th><th></th><th></th><th></th></tr></thead>\n",
       "<thead><tr><th>object</th><th>str13</th><th>str13</th><th>int16</th><th>int16</th><th>float32</th><th>float32</th><th>int16</th><th>str1</th><th>str1</th><th>object</th><th>float32</th><th>float32</th><th>float32</th><th>float32</th><th>float32</th><th>float32</th><th>object</th><th>str1</th><th>object</th><th>int32</th></tr></thead>\n",
       "<tr><td>* eta02 Dor</td><td>06 11 14.9816</td><td>-65 35 21.904</td><td>14</td><td>14</td><td>0.089</td><td>0.101</td><td>90</td><td>A</td><td>O</td><td>2020yCat.1350....0G</td><td>8.49</td><td>6.63</td><td>5.01</td><td>3.51</td><td>2.27</td><td>1.63</td><td>M2.5III</td><td>B</td><td>1989ApJS...71..245K</td><td>1</td></tr>\n",
       "</table>"
      ],
      "text/plain": [
       "<Table length=1>\n",
       "  MAIN_ID         RA           DEC      ...      SP_BIBCODE     SCRIPT_NUMBER_ID\n",
       "               \"h:m:s\"       \"d:m:s\"    ...                                     \n",
       "   object       str13         str13     ...        object            int32      \n",
       "----------- ------------- ------------- ... ------------------- ----------------\n",
       "* eta02 Dor 06 11 14.9816 -65 35 21.904 ... 1989ApJS...71..245K                1"
      ]
     },
     "execution_count": 14,
     "metadata": {},
     "output_type": "execute_result"
    }
   ],
   "source": [
    "result_table"
   ]
  },
  {
   "cell_type": "code",
   "execution_count": 15,
   "metadata": {},
   "outputs": [],
   "source": [
    "from scipy.stats import kurtosis,skew\n",
    "from scipy.stats import kurtosistest,skewtest,normaltest"
   ]
  },
  {
   "cell_type": "code",
   "execution_count": 16,
   "metadata": {},
   "outputs": [],
   "source": [
    "from distutils.dir_util import copy_tree\n",
    "import shutil"
   ]
  },
  {
   "cell_type": "markdown",
   "metadata": {},
   "source": [
    "# Configuration"
   ]
  },
  {
   "cell_type": "code",
   "execution_count": 17,
   "metadata": {},
   "outputs": [],
   "source": [
    "version=\"v5.0\"  # version of flipping\n",
    "# create output directories if not exist and clean existing files\n",
    "FLAG_MANAGE_OUTPUT_SPECTRACTOR=True\n",
    "# allow to run reconstruction with Spectractor\n",
    "FLAG_GO_FOR_RECONSTRUCTION_WTH_SPECTRACTOR=True\n",
    "\n",
    "FLAG_REMOVE_WCS=False"
   ]
  },
  {
   "cell_type": "markdown",
   "metadata": {},
   "source": [
    "# Path"
   ]
  },
  {
   "cell_type": "code",
   "execution_count": 18,
   "metadata": {},
   "outputs": [],
   "source": [
    "# path index for each month\n",
    "DATE=\"20220316\""
   ]
  },
  {
   "cell_type": "code",
   "execution_count": 19,
   "metadata": {},
   "outputs": [],
   "source": [
    "# select if we run at CC or not (locally) \n",
    "# /sps/lsst/groups/auxtel/data/2022/holo/20220317\n",
    "HOSTCC=True"
   ]
  },
  {
   "cell_type": "code",
   "execution_count": 20,
   "metadata": {},
   "outputs": [],
   "source": [
    "# Set path depending on which computer running (according HOSTCC)\n",
    "if HOSTCC:\n",
    "    path_auxtel=\"/sps/lsst/groups/auxtel\"\n",
    "    path_spectractor=os.path.join(path_auxtel,\"softs/github/desc/Spectractor\")\n",
    "    path_spectractor_config=os.path.join(path_spectractor,\"config\")\n",
    "    path_images=os.path.join(path_auxtel,\"data/2022/holo/\"+DATE)\n",
    "    path_output_spectractor=os.path.join(path_auxtel,\"data/2022/OutputSpectractor/holo/\"+DATE)\n",
    "    \n",
    "else:\n",
    "    path_auxtel=\"/Users/dagoret/DATA/AuxTelData2021\"\n",
    "    path_spectractor=os.path.join(path_auxtel,\"/users/dagoret/MacOSX/github/LSST/Spectractor\")\n",
    "    path_spectractor_config=os.path.join(path_spectractor,\"config\")\n",
    "    path_images=os.path.join(path_auxtel,\"holo/quickLookExp_v2/\"+DATE)\n",
    "    path_output_spectractor=os.path.join(path_auxtel,\"holo/OutputSpectractor/\"+DATE)"
   ]
  },
  {
   "cell_type": "code",
   "execution_count": 21,
   "metadata": {},
   "outputs": [
    {
     "data": {
      "text/plain": [
       "'/sps/lsst/groups/auxtel/data/2022/holo/20220316'"
      ]
     },
     "execution_count": 21,
     "metadata": {},
     "output_type": "execute_result"
    }
   ],
   "source": [
    "path_images"
   ]
  },
  {
   "cell_type": "markdown",
   "metadata": {},
   "source": [
    "# Utility Functions"
   ]
  },
  {
   "cell_type": "code",
   "execution_count": 22,
   "metadata": {},
   "outputs": [],
   "source": [
    "def is_nan(x):\n",
    "    return (x != x)"
   ]
  },
  {
   "cell_type": "markdown",
   "metadata": {},
   "source": [
    "# Logbook for input file selection\n",
    "\n",
    "- the logbook contains all input image path and possibily the order 0 position"
   ]
  },
  {
   "cell_type": "code",
   "execution_count": 23,
   "metadata": {},
   "outputs": [],
   "source": [
    "filename_logbook='logbooks/auxtelholologbook_'+DATE+'_' + version+'.csv'"
   ]
  },
  {
   "cell_type": "code",
   "execution_count": 24,
   "metadata": {},
   "outputs": [],
   "source": [
    "df=pd.read_csv(filename_logbook,index_col=0)"
   ]
  },
  {
   "cell_type": "code",
   "execution_count": 25,
   "metadata": {},
   "outputs": [],
   "source": [
    "pd.set_option('display.max_rows', None)"
   ]
  },
  {
   "cell_type": "code",
   "execution_count": 26,
   "metadata": {},
   "outputs": [
    {
     "data": {
      "text/html": [
       "<div>\n",
       "<style scoped>\n",
       "    .dataframe tbody tr th:only-of-type {\n",
       "        vertical-align: middle;\n",
       "    }\n",
       "\n",
       "    .dataframe tbody tr th {\n",
       "        vertical-align: top;\n",
       "    }\n",
       "\n",
       "    .dataframe thead th {\n",
       "        text-align: right;\n",
       "    }\n",
       "</style>\n",
       "<table border=\"1\" class=\"dataframe\">\n",
       "  <thead>\n",
       "    <tr style=\"text-align: right;\">\n",
       "      <th></th>\n",
       "      <th>index</th>\n",
       "      <th>date</th>\n",
       "      <th>path</th>\n",
       "      <th>file</th>\n",
       "      <th>num</th>\n",
       "      <th>object</th>\n",
       "      <th>filter</th>\n",
       "      <th>disperser</th>\n",
       "      <th>airmass</th>\n",
       "      <th>exposure</th>\n",
       "      <th>...</th>\n",
       "      <th>temperature</th>\n",
       "      <th>humidity</th>\n",
       "      <th>windspd</th>\n",
       "      <th>Obj-posXpix</th>\n",
       "      <th>Obj-posYpix</th>\n",
       "      <th>Dx</th>\n",
       "      <th>Dy</th>\n",
       "      <th>skip</th>\n",
       "      <th>run</th>\n",
       "      <th>quality</th>\n",
       "    </tr>\n",
       "  </thead>\n",
       "  <tbody>\n",
       "    <tr>\n",
       "      <th>0</th>\n",
       "      <td>0</td>\n",
       "      <td>2022-03-17T01:59:37.776</td>\n",
       "      <td>/sps/lsst/groups/auxtel/data/2022/holo/20220316</td>\n",
       "      <td>exposure_2022031600330_postisrccd.fits</td>\n",
       "      <td>330</td>\n",
       "      <td>ETA DOR</td>\n",
       "      <td>empty_1</td>\n",
       "      <td>holo4_003</td>\n",
       "      <td>1.385409</td>\n",
       "      <td>20.0</td>\n",
       "      <td>...</td>\n",
       "      <td>10.6</td>\n",
       "      <td>44.0</td>\n",
       "      <td>7.2</td>\n",
       "      <td>NaN</td>\n",
       "      <td>NaN</td>\n",
       "      <td>NaN</td>\n",
       "      <td>NaN</td>\n",
       "      <td></td>\n",
       "      <td>NaN</td>\n",
       "      <td>NaN</td>\n",
       "    </tr>\n",
       "    <tr>\n",
       "      <th>1</th>\n",
       "      <td>1</td>\n",
       "      <td>2022-03-17T02:00:10.693</td>\n",
       "      <td>/sps/lsst/groups/auxtel/data/2022/holo/20220316</td>\n",
       "      <td>exposure_2022031600331_postisrccd.fits</td>\n",
       "      <td>331</td>\n",
       "      <td>ETA DOR</td>\n",
       "      <td>empty_1</td>\n",
       "      <td>holo4_003</td>\n",
       "      <td>1.386483</td>\n",
       "      <td>20.0</td>\n",
       "      <td>...</td>\n",
       "      <td>10.6</td>\n",
       "      <td>44.0</td>\n",
       "      <td>7.4</td>\n",
       "      <td>NaN</td>\n",
       "      <td>NaN</td>\n",
       "      <td>NaN</td>\n",
       "      <td>NaN</td>\n",
       "      <td></td>\n",
       "      <td>NaN</td>\n",
       "      <td>NaN</td>\n",
       "    </tr>\n",
       "    <tr>\n",
       "      <th>2</th>\n",
       "      <td>2</td>\n",
       "      <td>2022-03-17T02:03:04.275</td>\n",
       "      <td>/sps/lsst/groups/auxtel/data/2022/holo/20220316</td>\n",
       "      <td>exposure_2022031600337_postisrccd.fits</td>\n",
       "      <td>337</td>\n",
       "      <td>ETA DOR</td>\n",
       "      <td>empty_1</td>\n",
       "      <td>holo4_003</td>\n",
       "      <td>1.392269</td>\n",
       "      <td>20.0</td>\n",
       "      <td>...</td>\n",
       "      <td>10.6</td>\n",
       "      <td>43.0</td>\n",
       "      <td>7.4</td>\n",
       "      <td>NaN</td>\n",
       "      <td>NaN</td>\n",
       "      <td>NaN</td>\n",
       "      <td>NaN</td>\n",
       "      <td></td>\n",
       "      <td>NaN</td>\n",
       "      <td>NaN</td>\n",
       "    </tr>\n",
       "    <tr>\n",
       "      <th>3</th>\n",
       "      <td>3</td>\n",
       "      <td>2022-03-17T02:03:37.365</td>\n",
       "      <td>/sps/lsst/groups/auxtel/data/2022/holo/20220316</td>\n",
       "      <td>exposure_2022031600338_postisrccd.fits</td>\n",
       "      <td>338</td>\n",
       "      <td>ETA DOR</td>\n",
       "      <td>empty_1</td>\n",
       "      <td>holo4_003</td>\n",
       "      <td>1.393378</td>\n",
       "      <td>20.0</td>\n",
       "      <td>...</td>\n",
       "      <td>10.6</td>\n",
       "      <td>43.0</td>\n",
       "      <td>7.4</td>\n",
       "      <td>NaN</td>\n",
       "      <td>NaN</td>\n",
       "      <td>NaN</td>\n",
       "      <td>NaN</td>\n",
       "      <td></td>\n",
       "      <td>NaN</td>\n",
       "      <td>NaN</td>\n",
       "    </tr>\n",
       "    <tr>\n",
       "      <th>4</th>\n",
       "      <td>4</td>\n",
       "      <td>2022-03-17T02:06:31.026</td>\n",
       "      <td>/sps/lsst/groups/auxtel/data/2022/holo/20220316</td>\n",
       "      <td>exposure_2022031600344_postisrccd.fits</td>\n",
       "      <td>344</td>\n",
       "      <td>ETA DOR</td>\n",
       "      <td>empty_1</td>\n",
       "      <td>holo4_003</td>\n",
       "      <td>1.399309</td>\n",
       "      <td>20.0</td>\n",
       "      <td>...</td>\n",
       "      <td>10.5</td>\n",
       "      <td>43.0</td>\n",
       "      <td>8.2</td>\n",
       "      <td>NaN</td>\n",
       "      <td>NaN</td>\n",
       "      <td>NaN</td>\n",
       "      <td>NaN</td>\n",
       "      <td></td>\n",
       "      <td>NaN</td>\n",
       "      <td>NaN</td>\n",
       "    </tr>\n",
       "    <tr>\n",
       "      <th>5</th>\n",
       "      <td>5</td>\n",
       "      <td>2022-03-17T02:07:03.927</td>\n",
       "      <td>/sps/lsst/groups/auxtel/data/2022/holo/20220316</td>\n",
       "      <td>exposure_2022031600345_postisrccd.fits</td>\n",
       "      <td>345</td>\n",
       "      <td>ETA DOR</td>\n",
       "      <td>empty_1</td>\n",
       "      <td>holo4_003</td>\n",
       "      <td>1.400449</td>\n",
       "      <td>20.0</td>\n",
       "      <td>...</td>\n",
       "      <td>10.5</td>\n",
       "      <td>43.0</td>\n",
       "      <td>7.6</td>\n",
       "      <td>NaN</td>\n",
       "      <td>NaN</td>\n",
       "      <td>NaN</td>\n",
       "      <td>NaN</td>\n",
       "      <td></td>\n",
       "      <td>NaN</td>\n",
       "      <td>NaN</td>\n",
       "    </tr>\n",
       "    <tr>\n",
       "      <th>6</th>\n",
       "      <td>6</td>\n",
       "      <td>2022-03-17T02:11:00.681</td>\n",
       "      <td>/sps/lsst/groups/auxtel/data/2022/holo/20220316</td>\n",
       "      <td>exposure_2022031600351_postisrccd.fits</td>\n",
       "      <td>351</td>\n",
       "      <td>HD111980</td>\n",
       "      <td>empty_1</td>\n",
       "      <td>holo4_003</td>\n",
       "      <td>1.647734</td>\n",
       "      <td>20.0</td>\n",
       "      <td>...</td>\n",
       "      <td>10.5</td>\n",
       "      <td>43.0</td>\n",
       "      <td>13.1</td>\n",
       "      <td>300.0</td>\n",
       "      <td>1700.0</td>\n",
       "      <td>NaN</td>\n",
       "      <td>NaN</td>\n",
       "      <td></td>\n",
       "      <td>1.0</td>\n",
       "      <td>1.0</td>\n",
       "    </tr>\n",
       "    <tr>\n",
       "      <th>7</th>\n",
       "      <td>7</td>\n",
       "      <td>2022-03-17T02:11:33.581</td>\n",
       "      <td>/sps/lsst/groups/auxtel/data/2022/holo/20220316</td>\n",
       "      <td>exposure_2022031600352_postisrccd.fits</td>\n",
       "      <td>352</td>\n",
       "      <td>HD111980</td>\n",
       "      <td>empty_1</td>\n",
       "      <td>holo4_003</td>\n",
       "      <td>1.643280</td>\n",
       "      <td>20.0</td>\n",
       "      <td>...</td>\n",
       "      <td>10.5</td>\n",
       "      <td>43.0</td>\n",
       "      <td>13.1</td>\n",
       "      <td>NaN</td>\n",
       "      <td>NaN</td>\n",
       "      <td>NaN</td>\n",
       "      <td>NaN</td>\n",
       "      <td></td>\n",
       "      <td>NaN</td>\n",
       "      <td>NaN</td>\n",
       "    </tr>\n",
       "    <tr>\n",
       "      <th>8</th>\n",
       "      <td>8</td>\n",
       "      <td>2022-03-17T02:14:30.261</td>\n",
       "      <td>/sps/lsst/groups/auxtel/data/2022/holo/20220316</td>\n",
       "      <td>exposure_2022031600358_postisrccd.fits</td>\n",
       "      <td>358</td>\n",
       "      <td>HD111980</td>\n",
       "      <td>empty_1</td>\n",
       "      <td>holo4_003</td>\n",
       "      <td>1.619945</td>\n",
       "      <td>20.0</td>\n",
       "      <td>...</td>\n",
       "      <td>10.5</td>\n",
       "      <td>43.0</td>\n",
       "      <td>12.1</td>\n",
       "      <td>NaN</td>\n",
       "      <td>NaN</td>\n",
       "      <td>NaN</td>\n",
       "      <td>NaN</td>\n",
       "      <td></td>\n",
       "      <td>NaN</td>\n",
       "      <td>NaN</td>\n",
       "    </tr>\n",
       "    <tr>\n",
       "      <th>9</th>\n",
       "      <td>9</td>\n",
       "      <td>2022-03-17T02:15:03.181</td>\n",
       "      <td>/sps/lsst/groups/auxtel/data/2022/holo/20220316</td>\n",
       "      <td>exposure_2022031600359_postisrccd.fits</td>\n",
       "      <td>359</td>\n",
       "      <td>HD111980</td>\n",
       "      <td>empty_1</td>\n",
       "      <td>holo4_003</td>\n",
       "      <td>1.615702</td>\n",
       "      <td>20.0</td>\n",
       "      <td>...</td>\n",
       "      <td>10.5</td>\n",
       "      <td>44.0</td>\n",
       "      <td>6.9</td>\n",
       "      <td>NaN</td>\n",
       "      <td>NaN</td>\n",
       "      <td>NaN</td>\n",
       "      <td>NaN</td>\n",
       "      <td></td>\n",
       "      <td>NaN</td>\n",
       "      <td>NaN</td>\n",
       "    </tr>\n",
       "    <tr>\n",
       "      <th>10</th>\n",
       "      <td>10</td>\n",
       "      <td>2022-03-17T02:17:59.397</td>\n",
       "      <td>/sps/lsst/groups/auxtel/data/2022/holo/20220316</td>\n",
       "      <td>exposure_2022031600365_postisrccd.fits</td>\n",
       "      <td>365</td>\n",
       "      <td>HD111980</td>\n",
       "      <td>empty_1</td>\n",
       "      <td>holo4_003</td>\n",
       "      <td>1.593415</td>\n",
       "      <td>20.0</td>\n",
       "      <td>...</td>\n",
       "      <td>10.5</td>\n",
       "      <td>42.0</td>\n",
       "      <td>6.8</td>\n",
       "      <td>NaN</td>\n",
       "      <td>NaN</td>\n",
       "      <td>NaN</td>\n",
       "      <td>NaN</td>\n",
       "      <td></td>\n",
       "      <td>NaN</td>\n",
       "      <td>NaN</td>\n",
       "    </tr>\n",
       "    <tr>\n",
       "      <th>11</th>\n",
       "      <td>11</td>\n",
       "      <td>2022-03-17T02:18:32.481</td>\n",
       "      <td>/sps/lsst/groups/auxtel/data/2022/holo/20220316</td>\n",
       "      <td>exposure_2022031600366_postisrccd.fits</td>\n",
       "      <td>366</td>\n",
       "      <td>HD111980</td>\n",
       "      <td>empty_1</td>\n",
       "      <td>holo4_003</td>\n",
       "      <td>1.589327</td>\n",
       "      <td>20.0</td>\n",
       "      <td>...</td>\n",
       "      <td>10.5</td>\n",
       "      <td>42.0</td>\n",
       "      <td>6.8</td>\n",
       "      <td>NaN</td>\n",
       "      <td>NaN</td>\n",
       "      <td>NaN</td>\n",
       "      <td>NaN</td>\n",
       "      <td></td>\n",
       "      <td>NaN</td>\n",
       "      <td>NaN</td>\n",
       "    </tr>\n",
       "    <tr>\n",
       "      <th>12</th>\n",
       "      <td>12</td>\n",
       "      <td>2022-03-17T02:22:39.026</td>\n",
       "      <td>/sps/lsst/groups/auxtel/data/2022/holo/20220316</td>\n",
       "      <td>exposure_2022031600372_postisrccd.fits</td>\n",
       "      <td>372</td>\n",
       "      <td>ETA DOR</td>\n",
       "      <td>empty_1</td>\n",
       "      <td>holo4_003</td>\n",
       "      <td>1.434807</td>\n",
       "      <td>20.0</td>\n",
       "      <td>...</td>\n",
       "      <td>10.5</td>\n",
       "      <td>42.0</td>\n",
       "      <td>6.6</td>\n",
       "      <td>NaN</td>\n",
       "      <td>NaN</td>\n",
       "      <td>NaN</td>\n",
       "      <td>NaN</td>\n",
       "      <td></td>\n",
       "      <td>NaN</td>\n",
       "      <td>NaN</td>\n",
       "    </tr>\n",
       "    <tr>\n",
       "      <th>13</th>\n",
       "      <td>13</td>\n",
       "      <td>2022-03-17T02:23:12.104</td>\n",
       "      <td>/sps/lsst/groups/auxtel/data/2022/holo/20220316</td>\n",
       "      <td>exposure_2022031600373_postisrccd.fits</td>\n",
       "      <td>373</td>\n",
       "      <td>ETA DOR</td>\n",
       "      <td>empty_1</td>\n",
       "      <td>holo4_003</td>\n",
       "      <td>1.436089</td>\n",
       "      <td>20.0</td>\n",
       "      <td>...</td>\n",
       "      <td>10.4</td>\n",
       "      <td>42.0</td>\n",
       "      <td>14.9</td>\n",
       "      <td>NaN</td>\n",
       "      <td>NaN</td>\n",
       "      <td>NaN</td>\n",
       "      <td>NaN</td>\n",
       "      <td></td>\n",
       "      <td>NaN</td>\n",
       "      <td>NaN</td>\n",
       "    </tr>\n",
       "    <tr>\n",
       "      <th>14</th>\n",
       "      <td>14</td>\n",
       "      <td>2022-03-17T02:26:07.782</td>\n",
       "      <td>/sps/lsst/groups/auxtel/data/2022/holo/20220316</td>\n",
       "      <td>exposure_2022031600379_postisrccd.fits</td>\n",
       "      <td>379</td>\n",
       "      <td>ETA DOR</td>\n",
       "      <td>empty_1</td>\n",
       "      <td>holo4_003</td>\n",
       "      <td>1.443028</td>\n",
       "      <td>20.0</td>\n",
       "      <td>...</td>\n",
       "      <td>10.5</td>\n",
       "      <td>42.0</td>\n",
       "      <td>6.7</td>\n",
       "      <td>NaN</td>\n",
       "      <td>NaN</td>\n",
       "      <td>NaN</td>\n",
       "      <td>NaN</td>\n",
       "      <td></td>\n",
       "      <td>NaN</td>\n",
       "      <td>NaN</td>\n",
       "    </tr>\n",
       "    <tr>\n",
       "      <th>15</th>\n",
       "      <td>15</td>\n",
       "      <td>2022-03-17T02:26:40.735</td>\n",
       "      <td>/sps/lsst/groups/auxtel/data/2022/holo/20220316</td>\n",
       "      <td>exposure_2022031600380_postisrccd.fits</td>\n",
       "      <td>380</td>\n",
       "      <td>ETA DOR</td>\n",
       "      <td>empty_1</td>\n",
       "      <td>holo4_003</td>\n",
       "      <td>1.444342</td>\n",
       "      <td>20.0</td>\n",
       "      <td>...</td>\n",
       "      <td>10.5</td>\n",
       "      <td>42.0</td>\n",
       "      <td>6.7</td>\n",
       "      <td>NaN</td>\n",
       "      <td>NaN</td>\n",
       "      <td>NaN</td>\n",
       "      <td>NaN</td>\n",
       "      <td></td>\n",
       "      <td>NaN</td>\n",
       "      <td>NaN</td>\n",
       "    </tr>\n",
       "    <tr>\n",
       "      <th>16</th>\n",
       "      <td>16</td>\n",
       "      <td>2022-03-17T02:29:37.041</td>\n",
       "      <td>/sps/lsst/groups/auxtel/data/2022/holo/20220316</td>\n",
       "      <td>exposure_2022031600386_postisrccd.fits</td>\n",
       "      <td>386</td>\n",
       "      <td>ETA DOR</td>\n",
       "      <td>empty_1</td>\n",
       "      <td>holo4_003</td>\n",
       "      <td>1.451472</td>\n",
       "      <td>20.0</td>\n",
       "      <td>...</td>\n",
       "      <td>10.5</td>\n",
       "      <td>42.0</td>\n",
       "      <td>8.2</td>\n",
       "      <td>NaN</td>\n",
       "      <td>NaN</td>\n",
       "      <td>NaN</td>\n",
       "      <td>NaN</td>\n",
       "      <td></td>\n",
       "      <td>NaN</td>\n",
       "      <td>NaN</td>\n",
       "    </tr>\n",
       "    <tr>\n",
       "      <th>17</th>\n",
       "      <td>17</td>\n",
       "      <td>2022-03-17T02:30:10.043</td>\n",
       "      <td>/sps/lsst/groups/auxtel/data/2022/holo/20220316</td>\n",
       "      <td>exposure_2022031600387_postisrccd.fits</td>\n",
       "      <td>387</td>\n",
       "      <td>ETA DOR</td>\n",
       "      <td>empty_1</td>\n",
       "      <td>holo4_003</td>\n",
       "      <td>1.452820</td>\n",
       "      <td>20.0</td>\n",
       "      <td>...</td>\n",
       "      <td>10.5</td>\n",
       "      <td>42.0</td>\n",
       "      <td>5.5</td>\n",
       "      <td>NaN</td>\n",
       "      <td>NaN</td>\n",
       "      <td>NaN</td>\n",
       "      <td>NaN</td>\n",
       "      <td></td>\n",
       "      <td>NaN</td>\n",
       "      <td>NaN</td>\n",
       "    </tr>\n",
       "    <tr>\n",
       "      <th>18</th>\n",
       "      <td>18</td>\n",
       "      <td>2022-03-17T02:34:15.754</td>\n",
       "      <td>/sps/lsst/groups/auxtel/data/2022/holo/20220316</td>\n",
       "      <td>exposure_2022031600393_postisrccd.fits</td>\n",
       "      <td>393</td>\n",
       "      <td>HD111980</td>\n",
       "      <td>empty_1</td>\n",
       "      <td>holo4_003</td>\n",
       "      <td>1.483400</td>\n",
       "      <td>20.0</td>\n",
       "      <td>...</td>\n",
       "      <td>10.5</td>\n",
       "      <td>42.0</td>\n",
       "      <td>6.3</td>\n",
       "      <td>NaN</td>\n",
       "      <td>NaN</td>\n",
       "      <td>NaN</td>\n",
       "      <td>NaN</td>\n",
       "      <td></td>\n",
       "      <td>NaN</td>\n",
       "      <td>NaN</td>\n",
       "    </tr>\n",
       "    <tr>\n",
       "      <th>19</th>\n",
       "      <td>19</td>\n",
       "      <td>2022-03-17T02:34:48.848</td>\n",
       "      <td>/sps/lsst/groups/auxtel/data/2022/holo/20220316</td>\n",
       "      <td>exposure_2022031600394_postisrccd.fits</td>\n",
       "      <td>394</td>\n",
       "      <td>HD111980</td>\n",
       "      <td>empty_1</td>\n",
       "      <td>holo4_003</td>\n",
       "      <td>1.480042</td>\n",
       "      <td>20.0</td>\n",
       "      <td>...</td>\n",
       "      <td>10.6</td>\n",
       "      <td>42.0</td>\n",
       "      <td>6.5</td>\n",
       "      <td>NaN</td>\n",
       "      <td>NaN</td>\n",
       "      <td>NaN</td>\n",
       "      <td>NaN</td>\n",
       "      <td></td>\n",
       "      <td>NaN</td>\n",
       "      <td>NaN</td>\n",
       "    </tr>\n",
       "    <tr>\n",
       "      <th>20</th>\n",
       "      <td>20</td>\n",
       "      <td>2022-03-17T02:38:56.232</td>\n",
       "      <td>/sps/lsst/groups/auxtel/data/2022/holo/20220316</td>\n",
       "      <td>exposure_2022031600400_postisrccd.fits</td>\n",
       "      <td>400</td>\n",
       "      <td>ETA DOR</td>\n",
       "      <td>empty_1</td>\n",
       "      <td>holo4_003</td>\n",
       "      <td>1.475077</td>\n",
       "      <td>20.0</td>\n",
       "      <td>...</td>\n",
       "      <td>10.5</td>\n",
       "      <td>43.0</td>\n",
       "      <td>6.1</td>\n",
       "      <td>NaN</td>\n",
       "      <td>NaN</td>\n",
       "      <td>NaN</td>\n",
       "      <td>NaN</td>\n",
       "      <td></td>\n",
       "      <td>NaN</td>\n",
       "      <td>NaN</td>\n",
       "    </tr>\n",
       "    <tr>\n",
       "      <th>21</th>\n",
       "      <td>21</td>\n",
       "      <td>2022-03-17T02:39:29.123</td>\n",
       "      <td>/sps/lsst/groups/auxtel/data/2022/holo/20220316</td>\n",
       "      <td>exposure_2022031600401_postisrccd.fits</td>\n",
       "      <td>401</td>\n",
       "      <td>ETA DOR</td>\n",
       "      <td>empty_1</td>\n",
       "      <td>holo4_003</td>\n",
       "      <td>1.476509</td>\n",
       "      <td>20.0</td>\n",
       "      <td>...</td>\n",
       "      <td>10.5</td>\n",
       "      <td>43.0</td>\n",
       "      <td>6.1</td>\n",
       "      <td>NaN</td>\n",
       "      <td>NaN</td>\n",
       "      <td>NaN</td>\n",
       "      <td>NaN</td>\n",
       "      <td></td>\n",
       "      <td>NaN</td>\n",
       "      <td>NaN</td>\n",
       "    </tr>\n",
       "    <tr>\n",
       "      <th>22</th>\n",
       "      <td>22</td>\n",
       "      <td>2022-03-17T03:11:58.564</td>\n",
       "      <td>/sps/lsst/groups/auxtel/data/2022/holo/20220316</td>\n",
       "      <td>exposure_2022031600420_postisrccd.fits</td>\n",
       "      <td>420</td>\n",
       "      <td>HD111980</td>\n",
       "      <td>empty_1</td>\n",
       "      <td>holo4_003</td>\n",
       "      <td>1.295777</td>\n",
       "      <td>20.0</td>\n",
       "      <td>...</td>\n",
       "      <td>10.6</td>\n",
       "      <td>51.0</td>\n",
       "      <td>4.5</td>\n",
       "      <td>NaN</td>\n",
       "      <td>NaN</td>\n",
       "      <td>NaN</td>\n",
       "      <td>NaN</td>\n",
       "      <td></td>\n",
       "      <td>NaN</td>\n",
       "      <td>NaN</td>\n",
       "    </tr>\n",
       "    <tr>\n",
       "      <th>23</th>\n",
       "      <td>23</td>\n",
       "      <td>2022-03-17T03:12:31.562</td>\n",
       "      <td>/sps/lsst/groups/auxtel/data/2022/holo/20220316</td>\n",
       "      <td>exposure_2022031600421_postisrccd.fits</td>\n",
       "      <td>421</td>\n",
       "      <td>HD111980</td>\n",
       "      <td>empty_1</td>\n",
       "      <td>holo4_003</td>\n",
       "      <td>1.293586</td>\n",
       "      <td>20.0</td>\n",
       "      <td>...</td>\n",
       "      <td>10.6</td>\n",
       "      <td>51.0</td>\n",
       "      <td>4.5</td>\n",
       "      <td>NaN</td>\n",
       "      <td>NaN</td>\n",
       "      <td>NaN</td>\n",
       "      <td>NaN</td>\n",
       "      <td></td>\n",
       "      <td>NaN</td>\n",
       "      <td>NaN</td>\n",
       "    </tr>\n",
       "    <tr>\n",
       "      <th>24</th>\n",
       "      <td>24</td>\n",
       "      <td>2022-03-17T03:15:28.519</td>\n",
       "      <td>/sps/lsst/groups/auxtel/data/2022/holo/20220316</td>\n",
       "      <td>exposure_2022031600427_postisrccd.fits</td>\n",
       "      <td>427</td>\n",
       "      <td>HD111980</td>\n",
       "      <td>empty_1</td>\n",
       "      <td>holo4_003</td>\n",
       "      <td>1.282047</td>\n",
       "      <td>20.0</td>\n",
       "      <td>...</td>\n",
       "      <td>10.7</td>\n",
       "      <td>50.0</td>\n",
       "      <td>4.8</td>\n",
       "      <td>NaN</td>\n",
       "      <td>NaN</td>\n",
       "      <td>NaN</td>\n",
       "      <td>NaN</td>\n",
       "      <td></td>\n",
       "      <td>NaN</td>\n",
       "      <td>NaN</td>\n",
       "    </tr>\n",
       "    <tr>\n",
       "      <th>25</th>\n",
       "      <td>25</td>\n",
       "      <td>2022-03-17T03:16:01.707</td>\n",
       "      <td>/sps/lsst/groups/auxtel/data/2022/holo/20220316</td>\n",
       "      <td>exposure_2022031600428_postisrccd.fits</td>\n",
       "      <td>428</td>\n",
       "      <td>HD111980</td>\n",
       "      <td>empty_1</td>\n",
       "      <td>holo4_003</td>\n",
       "      <td>1.279939</td>\n",
       "      <td>20.0</td>\n",
       "      <td>...</td>\n",
       "      <td>10.7</td>\n",
       "      <td>49.0</td>\n",
       "      <td>5.1</td>\n",
       "      <td>NaN</td>\n",
       "      <td>NaN</td>\n",
       "      <td>NaN</td>\n",
       "      <td>NaN</td>\n",
       "      <td></td>\n",
       "      <td>NaN</td>\n",
       "      <td>NaN</td>\n",
       "    </tr>\n",
       "    <tr>\n",
       "      <th>26</th>\n",
       "      <td>26</td>\n",
       "      <td>2022-03-17T03:21:49.842</td>\n",
       "      <td>/sps/lsst/groups/auxtel/data/2022/holo/20220316</td>\n",
       "      <td>exposure_2022031600434_postisrccd.fits</td>\n",
       "      <td>434</td>\n",
       "      <td>HD111980</td>\n",
       "      <td>empty_1</td>\n",
       "      <td>holo4_003</td>\n",
       "      <td>1.258452</td>\n",
       "      <td>20.0</td>\n",
       "      <td>...</td>\n",
       "      <td>10.7</td>\n",
       "      <td>49.0</td>\n",
       "      <td>3.4</td>\n",
       "      <td>NaN</td>\n",
       "      <td>NaN</td>\n",
       "      <td>NaN</td>\n",
       "      <td>NaN</td>\n",
       "      <td></td>\n",
       "      <td>NaN</td>\n",
       "      <td>NaN</td>\n",
       "    </tr>\n",
       "    <tr>\n",
       "      <th>27</th>\n",
       "      <td>27</td>\n",
       "      <td>2022-03-17T03:22:22.856</td>\n",
       "      <td>/sps/lsst/groups/auxtel/data/2022/holo/20220316</td>\n",
       "      <td>exposure_2022031600435_postisrccd.fits</td>\n",
       "      <td>435</td>\n",
       "      <td>HD111980</td>\n",
       "      <td>empty_1</td>\n",
       "      <td>holo4_003</td>\n",
       "      <td>1.256483</td>\n",
       "      <td>20.0</td>\n",
       "      <td>...</td>\n",
       "      <td>10.7</td>\n",
       "      <td>49.0</td>\n",
       "      <td>3.4</td>\n",
       "      <td>NaN</td>\n",
       "      <td>NaN</td>\n",
       "      <td>NaN</td>\n",
       "      <td>NaN</td>\n",
       "      <td></td>\n",
       "      <td>NaN</td>\n",
       "      <td>NaN</td>\n",
       "    </tr>\n",
       "  </tbody>\n",
       "</table>\n",
       "<p>28 rows × 23 columns</p>\n",
       "</div>"
      ],
      "text/plain": [
       "    index                     date  \\\n",
       "0       0  2022-03-17T01:59:37.776   \n",
       "1       1  2022-03-17T02:00:10.693   \n",
       "2       2  2022-03-17T02:03:04.275   \n",
       "3       3  2022-03-17T02:03:37.365   \n",
       "4       4  2022-03-17T02:06:31.026   \n",
       "5       5  2022-03-17T02:07:03.927   \n",
       "6       6  2022-03-17T02:11:00.681   \n",
       "7       7  2022-03-17T02:11:33.581   \n",
       "8       8  2022-03-17T02:14:30.261   \n",
       "9       9  2022-03-17T02:15:03.181   \n",
       "10     10  2022-03-17T02:17:59.397   \n",
       "11     11  2022-03-17T02:18:32.481   \n",
       "12     12  2022-03-17T02:22:39.026   \n",
       "13     13  2022-03-17T02:23:12.104   \n",
       "14     14  2022-03-17T02:26:07.782   \n",
       "15     15  2022-03-17T02:26:40.735   \n",
       "16     16  2022-03-17T02:29:37.041   \n",
       "17     17  2022-03-17T02:30:10.043   \n",
       "18     18  2022-03-17T02:34:15.754   \n",
       "19     19  2022-03-17T02:34:48.848   \n",
       "20     20  2022-03-17T02:38:56.232   \n",
       "21     21  2022-03-17T02:39:29.123   \n",
       "22     22  2022-03-17T03:11:58.564   \n",
       "23     23  2022-03-17T03:12:31.562   \n",
       "24     24  2022-03-17T03:15:28.519   \n",
       "25     25  2022-03-17T03:16:01.707   \n",
       "26     26  2022-03-17T03:21:49.842   \n",
       "27     27  2022-03-17T03:22:22.856   \n",
       "\n",
       "                                               path  \\\n",
       "0   /sps/lsst/groups/auxtel/data/2022/holo/20220316   \n",
       "1   /sps/lsst/groups/auxtel/data/2022/holo/20220316   \n",
       "2   /sps/lsst/groups/auxtel/data/2022/holo/20220316   \n",
       "3   /sps/lsst/groups/auxtel/data/2022/holo/20220316   \n",
       "4   /sps/lsst/groups/auxtel/data/2022/holo/20220316   \n",
       "5   /sps/lsst/groups/auxtel/data/2022/holo/20220316   \n",
       "6   /sps/lsst/groups/auxtel/data/2022/holo/20220316   \n",
       "7   /sps/lsst/groups/auxtel/data/2022/holo/20220316   \n",
       "8   /sps/lsst/groups/auxtel/data/2022/holo/20220316   \n",
       "9   /sps/lsst/groups/auxtel/data/2022/holo/20220316   \n",
       "10  /sps/lsst/groups/auxtel/data/2022/holo/20220316   \n",
       "11  /sps/lsst/groups/auxtel/data/2022/holo/20220316   \n",
       "12  /sps/lsst/groups/auxtel/data/2022/holo/20220316   \n",
       "13  /sps/lsst/groups/auxtel/data/2022/holo/20220316   \n",
       "14  /sps/lsst/groups/auxtel/data/2022/holo/20220316   \n",
       "15  /sps/lsst/groups/auxtel/data/2022/holo/20220316   \n",
       "16  /sps/lsst/groups/auxtel/data/2022/holo/20220316   \n",
       "17  /sps/lsst/groups/auxtel/data/2022/holo/20220316   \n",
       "18  /sps/lsst/groups/auxtel/data/2022/holo/20220316   \n",
       "19  /sps/lsst/groups/auxtel/data/2022/holo/20220316   \n",
       "20  /sps/lsst/groups/auxtel/data/2022/holo/20220316   \n",
       "21  /sps/lsst/groups/auxtel/data/2022/holo/20220316   \n",
       "22  /sps/lsst/groups/auxtel/data/2022/holo/20220316   \n",
       "23  /sps/lsst/groups/auxtel/data/2022/holo/20220316   \n",
       "24  /sps/lsst/groups/auxtel/data/2022/holo/20220316   \n",
       "25  /sps/lsst/groups/auxtel/data/2022/holo/20220316   \n",
       "26  /sps/lsst/groups/auxtel/data/2022/holo/20220316   \n",
       "27  /sps/lsst/groups/auxtel/data/2022/holo/20220316   \n",
       "\n",
       "                                      file  num    object   filter  disperser  \\\n",
       "0   exposure_2022031600330_postisrccd.fits  330   ETA DOR  empty_1  holo4_003   \n",
       "1   exposure_2022031600331_postisrccd.fits  331   ETA DOR  empty_1  holo4_003   \n",
       "2   exposure_2022031600337_postisrccd.fits  337   ETA DOR  empty_1  holo4_003   \n",
       "3   exposure_2022031600338_postisrccd.fits  338   ETA DOR  empty_1  holo4_003   \n",
       "4   exposure_2022031600344_postisrccd.fits  344   ETA DOR  empty_1  holo4_003   \n",
       "5   exposure_2022031600345_postisrccd.fits  345   ETA DOR  empty_1  holo4_003   \n",
       "6   exposure_2022031600351_postisrccd.fits  351  HD111980  empty_1  holo4_003   \n",
       "7   exposure_2022031600352_postisrccd.fits  352  HD111980  empty_1  holo4_003   \n",
       "8   exposure_2022031600358_postisrccd.fits  358  HD111980  empty_1  holo4_003   \n",
       "9   exposure_2022031600359_postisrccd.fits  359  HD111980  empty_1  holo4_003   \n",
       "10  exposure_2022031600365_postisrccd.fits  365  HD111980  empty_1  holo4_003   \n",
       "11  exposure_2022031600366_postisrccd.fits  366  HD111980  empty_1  holo4_003   \n",
       "12  exposure_2022031600372_postisrccd.fits  372   ETA DOR  empty_1  holo4_003   \n",
       "13  exposure_2022031600373_postisrccd.fits  373   ETA DOR  empty_1  holo4_003   \n",
       "14  exposure_2022031600379_postisrccd.fits  379   ETA DOR  empty_1  holo4_003   \n",
       "15  exposure_2022031600380_postisrccd.fits  380   ETA DOR  empty_1  holo4_003   \n",
       "16  exposure_2022031600386_postisrccd.fits  386   ETA DOR  empty_1  holo4_003   \n",
       "17  exposure_2022031600387_postisrccd.fits  387   ETA DOR  empty_1  holo4_003   \n",
       "18  exposure_2022031600393_postisrccd.fits  393  HD111980  empty_1  holo4_003   \n",
       "19  exposure_2022031600394_postisrccd.fits  394  HD111980  empty_1  holo4_003   \n",
       "20  exposure_2022031600400_postisrccd.fits  400   ETA DOR  empty_1  holo4_003   \n",
       "21  exposure_2022031600401_postisrccd.fits  401   ETA DOR  empty_1  holo4_003   \n",
       "22  exposure_2022031600420_postisrccd.fits  420  HD111980  empty_1  holo4_003   \n",
       "23  exposure_2022031600421_postisrccd.fits  421  HD111980  empty_1  holo4_003   \n",
       "24  exposure_2022031600427_postisrccd.fits  427  HD111980  empty_1  holo4_003   \n",
       "25  exposure_2022031600428_postisrccd.fits  428  HD111980  empty_1  holo4_003   \n",
       "26  exposure_2022031600434_postisrccd.fits  434  HD111980  empty_1  holo4_003   \n",
       "27  exposure_2022031600435_postisrccd.fits  435  HD111980  empty_1  holo4_003   \n",
       "\n",
       "     airmass  exposure  ...  temperature  humidity  windspd  Obj-posXpix  \\\n",
       "0   1.385409      20.0  ...         10.6      44.0      7.2          NaN   \n",
       "1   1.386483      20.0  ...         10.6      44.0      7.4          NaN   \n",
       "2   1.392269      20.0  ...         10.6      43.0      7.4          NaN   \n",
       "3   1.393378      20.0  ...         10.6      43.0      7.4          NaN   \n",
       "4   1.399309      20.0  ...         10.5      43.0      8.2          NaN   \n",
       "5   1.400449      20.0  ...         10.5      43.0      7.6          NaN   \n",
       "6   1.647734      20.0  ...         10.5      43.0     13.1        300.0   \n",
       "7   1.643280      20.0  ...         10.5      43.0     13.1          NaN   \n",
       "8   1.619945      20.0  ...         10.5      43.0     12.1          NaN   \n",
       "9   1.615702      20.0  ...         10.5      44.0      6.9          NaN   \n",
       "10  1.593415      20.0  ...         10.5      42.0      6.8          NaN   \n",
       "11  1.589327      20.0  ...         10.5      42.0      6.8          NaN   \n",
       "12  1.434807      20.0  ...         10.5      42.0      6.6          NaN   \n",
       "13  1.436089      20.0  ...         10.4      42.0     14.9          NaN   \n",
       "14  1.443028      20.0  ...         10.5      42.0      6.7          NaN   \n",
       "15  1.444342      20.0  ...         10.5      42.0      6.7          NaN   \n",
       "16  1.451472      20.0  ...         10.5      42.0      8.2          NaN   \n",
       "17  1.452820      20.0  ...         10.5      42.0      5.5          NaN   \n",
       "18  1.483400      20.0  ...         10.5      42.0      6.3          NaN   \n",
       "19  1.480042      20.0  ...         10.6      42.0      6.5          NaN   \n",
       "20  1.475077      20.0  ...         10.5      43.0      6.1          NaN   \n",
       "21  1.476509      20.0  ...         10.5      43.0      6.1          NaN   \n",
       "22  1.295777      20.0  ...         10.6      51.0      4.5          NaN   \n",
       "23  1.293586      20.0  ...         10.6      51.0      4.5          NaN   \n",
       "24  1.282047      20.0  ...         10.7      50.0      4.8          NaN   \n",
       "25  1.279939      20.0  ...         10.7      49.0      5.1          NaN   \n",
       "26  1.258452      20.0  ...         10.7      49.0      3.4          NaN   \n",
       "27  1.256483      20.0  ...         10.7      49.0      3.4          NaN   \n",
       "\n",
       "    Obj-posYpix  Dx  Dy  skip  run  quality  \n",
       "0           NaN NaN NaN        NaN      NaN  \n",
       "1           NaN NaN NaN        NaN      NaN  \n",
       "2           NaN NaN NaN        NaN      NaN  \n",
       "3           NaN NaN NaN        NaN      NaN  \n",
       "4           NaN NaN NaN        NaN      NaN  \n",
       "5           NaN NaN NaN        NaN      NaN  \n",
       "6        1700.0 NaN NaN        1.0      1.0  \n",
       "7           NaN NaN NaN        NaN      NaN  \n",
       "8           NaN NaN NaN        NaN      NaN  \n",
       "9           NaN NaN NaN        NaN      NaN  \n",
       "10          NaN NaN NaN        NaN      NaN  \n",
       "11          NaN NaN NaN        NaN      NaN  \n",
       "12          NaN NaN NaN        NaN      NaN  \n",
       "13          NaN NaN NaN        NaN      NaN  \n",
       "14          NaN NaN NaN        NaN      NaN  \n",
       "15          NaN NaN NaN        NaN      NaN  \n",
       "16          NaN NaN NaN        NaN      NaN  \n",
       "17          NaN NaN NaN        NaN      NaN  \n",
       "18          NaN NaN NaN        NaN      NaN  \n",
       "19          NaN NaN NaN        NaN      NaN  \n",
       "20          NaN NaN NaN        NaN      NaN  \n",
       "21          NaN NaN NaN        NaN      NaN  \n",
       "22          NaN NaN NaN        NaN      NaN  \n",
       "23          NaN NaN NaN        NaN      NaN  \n",
       "24          NaN NaN NaN        NaN      NaN  \n",
       "25          NaN NaN NaN        NaN      NaN  \n",
       "26          NaN NaN NaN        NaN      NaN  \n",
       "27          NaN NaN NaN        NaN      NaN  \n",
       "\n",
       "[28 rows x 23 columns]"
      ]
     },
     "execution_count": 26,
     "metadata": {},
     "output_type": "execute_result"
    }
   ],
   "source": [
    "# show the list of input files from the logbook to select the file index in the logbook\n",
    "df"
   ]
  },
  {
   "cell_type": "markdown",
   "metadata": {},
   "source": [
    "# Selection of input file\n",
    "- the input file is selected from the logbook list above"
   ]
  },
  {
   "cell_type": "code",
   "execution_count": 27,
   "metadata": {},
   "outputs": [],
   "source": [
    "idx=11"
   ]
  },
  {
   "cell_type": "code",
   "execution_count": 28,
   "metadata": {},
   "outputs": [
    {
     "name": "stdout",
     "output_type": "stream",
     "text": [
      "exposure_2022031600366_postisrccd.fits\n"
     ]
    }
   ],
   "source": [
    "print(df.iloc[idx]['file'])"
   ]
  },
  {
   "cell_type": "code",
   "execution_count": 29,
   "metadata": {},
   "outputs": [
    {
     "name": "stdout",
     "output_type": "stream",
     "text": [
      "index                                                       11\n",
      "date                                   2022-03-17T02:18:32.481\n",
      "path           /sps/lsst/groups/auxtel/data/2022/holo/20220316\n",
      "file                    exposure_2022031600366_postisrccd.fits\n",
      "num                                                        366\n",
      "object                                                HD111980\n",
      "filter                                                 empty_1\n",
      "disperser                                            holo4_003\n",
      "airmass                                                1.58933\n",
      "exposure                                                    20\n",
      "focus                                                0.0410588\n",
      "seeing                                                0.646479\n",
      "pressure                                                 743.6\n",
      "temperature                                               10.5\n",
      "humidity                                                    42\n",
      "windspd                                                    6.8\n",
      "Obj-posXpix                                                NaN\n",
      "Obj-posYpix                                                NaN\n",
      "Dx                                                         NaN\n",
      "Dy                                                         NaN\n",
      "skip                                                          \n",
      "run                                                        NaN\n",
      "quality                                                    NaN\n",
      "Name: 11, dtype: object\n"
     ]
    }
   ],
   "source": [
    "print(df.iloc[idx])"
   ]
  },
  {
   "cell_type": "code",
   "execution_count": 30,
   "metadata": {},
   "outputs": [],
   "source": [
    "myhome=os.getenv(\"HOME\")"
   ]
  },
  {
   "cell_type": "code",
   "execution_count": 31,
   "metadata": {},
   "outputs": [],
   "source": [
    "dir_images=path_images"
   ]
  },
  {
   "cell_type": "code",
   "execution_count": 32,
   "metadata": {},
   "outputs": [
    {
     "data": {
      "text/plain": [
       "'/sps/lsst/groups/auxtel/data/2022/holo/20220316'"
      ]
     },
     "execution_count": 32,
     "metadata": {},
     "output_type": "execute_result"
    }
   ],
   "source": [
    "dir_images"
   ]
  },
  {
   "cell_type": "code",
   "execution_count": 33,
   "metadata": {},
   "outputs": [
    {
     "data": {
      "text/plain": [
       "'exposure_2022031600366_postisrccd.fits'"
      ]
     },
     "execution_count": 33,
     "metadata": {},
     "output_type": "execute_result"
    }
   ],
   "source": [
    "filename_image=df['file'][idx]\n",
    "filename_image"
   ]
  },
  {
   "cell_type": "code",
   "execution_count": 34,
   "metadata": {},
   "outputs": [
    {
     "data": {
      "text/plain": [
       "'HD111980'"
      ]
     },
     "execution_count": 34,
     "metadata": {},
     "output_type": "execute_result"
    }
   ],
   "source": [
    "target = df['object'][idx]\n",
    "target"
   ]
  },
  {
   "cell_type": "markdown",
   "metadata": {},
   "source": [
    "## If order 0 position exists in logbook it is selected, otherwise put it by hand"
   ]
  },
  {
   "cell_type": "code",
   "execution_count": 35,
   "metadata": {},
   "outputs": [],
   "source": [
    "x0=df['Obj-posXpix'][idx]\n",
    "y0=df['Obj-posYpix'][idx]"
   ]
  },
  {
   "cell_type": "code",
   "execution_count": 36,
   "metadata": {},
   "outputs": [],
   "source": [
    "FLAG_ORDER0_LOCATION=False"
   ]
  },
  {
   "cell_type": "code",
   "execution_count": 37,
   "metadata": {},
   "outputs": [
    {
     "name": "stdout",
     "output_type": "stream",
     "text": [
      "NO Order 0 location from logbook ! \n"
     ]
    }
   ],
   "source": [
    "if not is_nan(x0)and not is_nan(y0):\n",
    "    FLAG_ORDER0_LOCATION=True\n",
    "    print(\"Order 0 location from logbook : ({},{})\".format(x0,y0))\n",
    "else:\n",
    "    print(\"NO Order 0 location from logbook ! \")      "
   ]
  },
  {
   "cell_type": "markdown",
   "metadata": {},
   "source": [
    "## Spectractor Configuration \n",
    "\n",
    "- Usually the Spectractor configuration file is put in local dir **./config**\n",
    "\n",
    "\n",
    "Ma suggestion, pour l'étude du centre optique via les scans des hologrammes, est de **mettre SPECTRACTOR_COMPUTE_ROTATION_ANGLE sur False** . \n",
    "\n",
    "Comme les angles ne sont pas très grands, si les marges du rectangle sont assez larges, réglables avec : \n",
    "\n",
    "    [background subtraction parameters] \n",
    "    # half transverse width of the signal rectangular window in pixels \n",
    "    PIXWIDTH_SIGNAL = 40 \n",
    "\n",
    "alors le spectrogramme devrait tenir dans une boite rectangulaire même sans rotation de l'image. **L'important est de garder SPECTRACTOR_DECONVOLUTION_FFM à True car c'est lui qui te donnera l'angle de l'axe de dispersion ajusté sur les données, dont la valeur sera dans le mot clé ROTANGLE du header de sortie**. \n"
   ]
  },
  {
   "cell_type": "code",
   "execution_count": 38,
   "metadata": {},
   "outputs": [],
   "source": [
    "rootfilename = filename_image.split(\".\")[0]\n",
    "rootfilename_split =  rootfilename.split(\"_\") \n",
    "filenumberdir = rootfilename_split[1] "
   ]
  },
  {
   "cell_type": "code",
   "execution_count": 39,
   "metadata": {},
   "outputs": [
    {
     "data": {
      "text/plain": [
       "'/sps/lsst/groups/auxtel/data/2022/OutputSpectractor/holo/20220316'"
      ]
     },
     "execution_count": 39,
     "metadata": {},
     "output_type": "execute_result"
    }
   ],
   "source": [
    "path_output_spectractor"
   ]
  },
  {
   "cell_type": "code",
   "execution_count": 40,
   "metadata": {},
   "outputs": [],
   "source": [
    "\n",
    "# Fullfilename\n",
    "filename=os.path.join(dir_images,filename_image)\n",
    "\n",
    "\n",
    "# subdirectory\n",
    "#subdir=filename_image.split(\".\")[0]\n",
    "subdir=filenumberdir\n",
    "\n",
    "# final output directory (where results will be copied to be backed up at the end)\n",
    "finalpath_output_spectractor=os.path.join(path_output_spectractor,subdir)\n",
    "\n",
    "\n",
    "# local directories to put spectra and plots\n",
    "output_directory=\"./outputs_process_holo_scan\"\n",
    "output_figures=\"figures_process_holo_scan\"\n",
    "\n",
    "# Final output directory\n",
    "\n",
    "\n",
    "guess = [300,1700]\n",
    "disperser_label = \"holo4_003\"\n",
    "# old version\n",
    "# config = os.path.join(path_spectractor_config,\"auxtel_quicklook.ini\")\n",
    "# new version (September 20th 2021)\n",
    "\n",
    "# configuration\n",
    "\n",
    "# standard spectractor init configuration\n",
    "#config = os.path.join(path_spectractor_config,\"auxtel.ini\")\n",
    "# special for scan in XY\n",
    "config=\"./config/auxtel_scanXY.ini\"\n",
    "target=df.iloc[idx][\"object\"]"
   ]
  },
  {
   "cell_type": "code",
   "execution_count": 41,
   "metadata": {},
   "outputs": [
    {
     "data": {
      "text/plain": [
       "'/sps/lsst/groups/auxtel/data/2022/OutputSpectractor/holo/20220316/2022031600366'"
      ]
     },
     "execution_count": 41,
     "metadata": {},
     "output_type": "execute_result"
    }
   ],
   "source": [
    "finalpath_output_spectractor"
   ]
  },
  {
   "cell_type": "markdown",
   "metadata": {},
   "source": [
    "### manage output dir"
   ]
  },
  {
   "cell_type": "code",
   "execution_count": 42,
   "metadata": {},
   "outputs": [],
   "source": [
    "def cleandir(path):\n",
    "    if os.path.isdir(path):\n",
    "        files=os.listdir(path)\n",
    "        if len(files) > 0:\n",
    "            for f in files:\n",
    "                if os.path.isdir(os.path.join(path,f)):\n",
    "                    if f==\".ipynb_checkpoints\":\n",
    "                        shutil.rmtree(os.path.join(path,f))\n",
    "                    else:\n",
    "                        print(\" Cannot remove this directory {}\".format(os.path.join(path,f)))\n",
    "                else:\n",
    "                    os.remove(os.path.join(path,f))"
   ]
  },
  {
   "cell_type": "code",
   "execution_count": 43,
   "metadata": {},
   "outputs": [],
   "source": [
    "# this flag must be set if one want to clean results from previous runs\n",
    "if FLAG_MANAGE_OUTPUT_SPECTRACTOR:\n",
    "    \n",
    "    # manage global output directory of spectractor\n",
    "    # Basically it has the name of the input file image\n",
    "    if not os.path.isdir(output_directory):\n",
    "        os.mkdir(output_directory)\n",
    "    else:\n",
    "        cleandir(output_directory)\n",
    " \n",
    "    # manage subdirs spectrum/ and plots/\n",
    "    if not os.path.isdir(output_figures):\n",
    "        os.mkdir(output_figures)\n",
    "    else:\n",
    "        cleandir(output_figures)\n",
    "    \n",
    "    if not os.path.isdir(finalpath_output_spectractor):\n",
    "        os.mkdir(finalpath_output_spectractor)\n",
    "        os.mkdir(os.path.join(finalpath_output_spectractor,\"basespec\"))\n",
    "        os.mkdir(os.path.join(finalpath_output_spectractor,\"plots\"))\n",
    "    else:\n",
    "        #cleandir(finalpath_output_spectractor)\n",
    "        cleandir(os.path.join(finalpath_output_spectractor,\"basespec\"))\n",
    "        cleandir(os.path.join(finalpath_output_spectractor,\"plots\"))"
   ]
  },
  {
   "cell_type": "code",
   "execution_count": 44,
   "metadata": {},
   "outputs": [],
   "source": [
    "# /sps/lsst/groups/auxtel/data/2022/OutputSpectractor/holo\""
   ]
  },
  {
   "cell_type": "markdown",
   "metadata": {},
   "source": [
    "# Configuration of the Spectractor running mode"
   ]
  },
  {
   "cell_type": "code",
   "execution_count": 45,
   "metadata": {},
   "outputs": [],
   "source": [
    "parameters.debug=True\n",
    "parameters.verbose=True\n",
    "parameters.display=True\n",
    "parameters.LIVE_FIT=False"
   ]
  },
  {
   "cell_type": "code",
   "execution_count": 46,
   "metadata": {},
   "outputs": [
    {
     "data": {
      "text/plain": [
       "'HD111980'"
      ]
     },
     "execution_count": 46,
     "metadata": {},
     "output_type": "execute_result"
    }
   ],
   "source": [
    "target"
   ]
  },
  {
   "cell_type": "markdown",
   "metadata": {},
   "source": [
    "## Load the image in the new image file with Spectractor"
   ]
  },
  {
   "cell_type": "code",
   "execution_count": 47,
   "metadata": {},
   "outputs": [],
   "source": [
    "image=Image(file_name=filename, target_label=target, disperser_label=disperser_label, config=config)"
   ]
  },
  {
   "cell_type": "code",
   "execution_count": 48,
   "metadata": {},
   "outputs": [
    {
     "data": {
      "text/plain": [
       "(4072, 4000)"
      ]
     },
     "execution_count": 48,
     "metadata": {},
     "output_type": "execute_result"
    }
   ],
   "source": [
    "image.data.shape"
   ]
  },
  {
   "cell_type": "markdown",
   "metadata": {},
   "source": [
    "## Show relevant parameters"
   ]
  },
  {
   "cell_type": "code",
   "execution_count": 49,
   "metadata": {},
   "outputs": [
    {
     "data": {
      "text/plain": [
       "'AUXTEL'"
      ]
     },
     "execution_count": 49,
     "metadata": {},
     "output_type": "execute_result"
    }
   ],
   "source": [
    "parameters.OBS_NAME"
   ]
  },
  {
   "cell_type": "code",
   "execution_count": 50,
   "metadata": {},
   "outputs": [
    {
     "data": {
      "text/plain": [
       "'/sps/lsst/groups/auxtel/softs/utils/anaconda3/lib/python3.8/site-packages/Spectractor-2.1-py3.8.egg/spectractor/extractor/dispersers/'"
      ]
     },
     "execution_count": 50,
     "metadata": {},
     "output_type": "execute_result"
    }
   ],
   "source": [
    "parameters.DISPERSER_DIR"
   ]
  },
  {
   "cell_type": "code",
   "execution_count": 51,
   "metadata": {},
   "outputs": [
    {
     "data": {
      "text/plain": [
       "182.9980010986328"
      ]
     },
     "execution_count": 51,
     "metadata": {},
     "output_type": "execute_result"
    }
   ],
   "source": [
    "parameters.DISTANCE2CCD"
   ]
  },
  {
   "cell_type": "code",
   "execution_count": 52,
   "metadata": {},
   "outputs": [
    {
     "data": {
      "text/plain": [
       "300"
      ]
     },
     "execution_count": 52,
     "metadata": {},
     "output_type": "execute_result"
    }
   ],
   "source": [
    "parameters.LAMBDA_MIN "
   ]
  },
  {
   "cell_type": "code",
   "execution_count": 53,
   "metadata": {},
   "outputs": [
    {
     "data": {
      "text/plain": [
       "1100"
      ]
     },
     "execution_count": 53,
     "metadata": {},
     "output_type": "execute_result"
    }
   ],
   "source": [
    "parameters.LAMBDA_MAX "
   ]
  },
  {
   "cell_type": "code",
   "execution_count": 54,
   "metadata": {},
   "outputs": [],
   "source": [
    "parameters.LSST_SAVEFIGPATH=True\n",
    "parameters.LSST_SAVEFIGPATH=output_figures"
   ]
  },
  {
   "cell_type": "code",
   "execution_count": 55,
   "metadata": {},
   "outputs": [
    {
     "data": {
      "text/plain": [
       "''"
      ]
     },
     "execution_count": 55,
     "metadata": {},
     "output_type": "execute_result"
    }
   ],
   "source": [
    "image.filter_label"
   ]
  },
  {
   "cell_type": "code",
   "execution_count": 56,
   "metadata": {},
   "outputs": [
    {
     "data": {
      "text/plain": [
       "'empty_1'"
      ]
     },
     "execution_count": 56,
     "metadata": {},
     "output_type": "execute_result"
    }
   ],
   "source": [
    "image.header[\"FILTER\"]"
   ]
  },
  {
   "cell_type": "code",
   "execution_count": 57,
   "metadata": {},
   "outputs": [
    {
     "data": {
      "text/plain": [
       "SIMPLE  =                    T / conforms to FITS standard                      \n",
       "BITPIX  =                    8 / array data type                                \n",
       "NAXIS   =                    0 / number of array dimensions                     \n",
       "EXTEND  =                    T                                                  \n",
       "ORIGIN  = 'LSST DM Header Service'                                              \n",
       "TIMESYS = 'TAI     '                                                            \n",
       "DATE    = '2022-03-17T02:18:18.332'                                             \n",
       "DATE-OBS= '2022-03-17T02:18:18.332'                                             \n",
       "DATE-BEG= '2022-03-17T02:18:32.481'                                             \n",
       "DATE-END= '2022-03-17T02:18:52.707'                                             \n",
       "MJD     =     59655.0960455063                                                  \n",
       "MJD-OBS =     59655.0962092723                                                  \n",
       "MJD-BEG =     59655.0962092723                                                  \n",
       "MJD-END =     59655.0964433652                                                  \n",
       "OBSID   = 'AT_O_20220316_000366'                                                \n",
       "GROUPID = '2022-03-17T02:11:58.184'                                             \n",
       "IMGTYPE = 'OBJECT  '                                                            \n",
       "BUNIT   = 'adu     '                                                            \n",
       "FACILITY= 'Vera C. Rubin Observatory'                                           \n",
       "TELESCOP= 'LSST AuxTelescope'                                                   \n",
       "INSTRUME= 'LATISS  '                                                            \n",
       "OBSERVER= 'LSST    '                                                            \n",
       "OBS-LONG=   -70.74941699999999                                                  \n",
       "OBS-LAT =           -30.244639                                                  \n",
       "OBS-ELEV=               2663.0                                                  \n",
       "OBSGEO-X=           1818938.94                                                  \n",
       "OBSGEO-Y=          -5208470.95                                                  \n",
       "OBSGEO-Z=          -3195172.08                                                  \n",
       "RA      =     193.312708333333                                                  \n",
       "DEC     =    -18.5222222222222                                                  \n",
       "RASTART =     193.309051760478                                                  \n",
       "DECSTART=    -18.4807660629472                                                  \n",
       "RAEND   =     193.309069853345                                                  \n",
       "DECEND  =    -18.4807714790517                                                  \n",
       "ROTPA   =     335.654121679148                                                  \n",
       "ROTCOORD= 'sky     '                                                            \n",
       "HASTART =    -3.68191416260556                                                  \n",
       "ELSTART =      38.918544261076                                                  \n",
       "AZSTART =     90.2061916184757                                                  \n",
       "AMSTART =     1.58932661309548                                                  \n",
       "HAEND   =    -3.67556951052788                                                  \n",
       "ELEND   =     38.9979041203042                                                  \n",
       "AZEND   =     90.1602292847965                                                  \n",
       "AMEND   =     1.58652386043284                                                  \n",
       "INSTPORT=                    2                                                  \n",
       "ATM3PORT=                                                                       \n",
       "TRACKSYS= 'SIDEREAL'                                                            \n",
       "FOCUSZ  =   0.0410588495433331                                                  \n",
       "OBJECT  = 'HD111980'                                                            \n",
       "DOMEAZ  =                 88.7                                                  \n",
       "SHUTLOWR=                  0.0                                                  \n",
       "SHUTUPPR=                100.0                                                  \n",
       "CAMCODE = 'AT      '                                                            \n",
       "CONTRLLR= 'O       '                                                            \n",
       "DAYOBS  = '20220316'                                                            \n",
       "SEQNUM  =                  366                                                  \n",
       "TESTTYPE= 'OBJECT  '                                                            \n",
       "EMUIMAGE= ''                                                                    \n",
       "PROGRAM =                                                                       \n",
       "REASON  =                                                                       \n",
       "CURINDEX=                    0                                                  \n",
       "MAXINDEX=                    1                                                  \n",
       "TSTAND  =                                                                       \n",
       "IMAGETAG= '12c1c6c415b2942b'                                                    \n",
       "OBSANNOT= ''                                                                    \n",
       "TEMP_SET=   -94.15000152587891                                                  \n",
       "FILTBAND= 'Empty   '                                                            \n",
       "FILTER  = 'empty_1 '                                                            \n",
       "FILTSLOT=                    0                                                  \n",
       "GRATING = 'holo4_003'          / name of the disperser                          \n",
       "GRATBAND= 'Empty   '                                                            \n",
       "GRATSLOT=                    3                                                  \n",
       "LINSPOS =     67.9980010986328                                                  \n",
       "EXPTIME =                 20.0                                                  \n",
       "SHUTTIME=                                                                       \n",
       "DARKTIME=     20.3131732940674                                                  \n",
       "AIRTEMP =                 10.5                                                  \n",
       "PRESSURE=                743.6                                                  \n",
       "HUMIDITY=                 42.0                                                  \n",
       "WINDSPD =                  6.8                                                  \n",
       "WINDDIR =                309.0                                                  \n",
       "SEEING  =    0.646478831768036                                                  \n",
       "FILENAME= 'AT_O_20220316_000366.fits'                                           \n",
       "HEADVER = '2.9.5   '                                                            \n",
       "CHECKSUM=                                                                       \n",
       "DATASUM =                                                                       \n",
       "HIERARCH SIMULATE ATMCS =                                                       \n",
       "HIERARCH SIMULATE ATHEXAPOD = 0                                                 \n",
       "HIERARCH SIMULATE ATPNEUMATICS =                                                \n",
       "HIERARCH SIMULATE ATDOME = 0                                                    \n",
       "HIERARCH SIMULATE ATSPECTROGRAPH = 0                                            \n",
       "CCD_MANU= 'ITL     '                                                            \n",
       "CCD_TYPE=                    2                                                  \n",
       "CCD_SERN= '20862   '                                                            \n",
       "CCDTEMP =                                                                       \n",
       "LSST_NUM= 'ITL-3800C-068'                                                       \n",
       "SEQCKSUM= '2552520002'                                                          \n",
       "SEQNAME = 'FP_ITL_2s_ir2_v25.seq'                                               \n",
       "REBNAME = 'Unknown '                                                            \n",
       "CONTNUM = '412227310'                                                           \n",
       "CCDSLOT = 'S00     '                                                            \n",
       "RAFTBAY = 'R00     '                                                            \n",
       "OVERH   =                   64                                                  \n",
       "OVERV   =                   48                                                  \n",
       "PREH    =                    0                                                  \n",
       "INHERIT =                    T                                                  \n",
       "EXTNAME = 'Segment10'                                                           \n",
       "DATASEC = '[1:509,1:2000]'                                                      \n",
       "DETSEC  = '[509:1,1:2000]'                                                      \n",
       "DETSIZE = '[1:4072,1:4000]'                                                     \n",
       "DTV1    =                  510                                                  \n",
       "DTV2    =                    0                                                  \n",
       "DTM1_1  =                 -1.0                                                  \n",
       "DTM2_2  =                  1.0                                                  \n",
       "DTM1_2  =                    0                                                  \n",
       "DTM2_1  =                    0                                                  \n",
       "HIERARCH ASTRO METADATA FIX MODIFIED = T                                        \n",
       "HIERARCH ASTRO METADATA FIX DATE = '2022-03-24T18:35:44.479791'                 \n",
       "HIERARCH ASTRO METADATA FIX VERSION = 'g66e8411885+78f5e69161'                  \n",
       "PARANGLE=   -114.3459816778354 / parallactic angle in degree                    \n",
       "AIRMASS =     1.58792523676416                                                  \n",
       "OUTTEMP =                 10.5                                                  \n",
       "OUTPRESS=                743.6                                                  \n",
       "OUTHUM  =                 42.0                                                  \n",
       "CCDREBIN=                    2                                                  \n",
       "TARGET  = 'HD111980'           / name of the target in the image                \n",
       "REDSHIFT= '0.000517'           / redshift of the target                         \n",
       "ROTANGLE=                    0 / [deg] angle of the dispersion axis             \n",
       "D2CCD   =    182.9980010986328 / [mm] distance between disperser and CCD        \n",
       "COMMENT [\"  FITS (Flexible Image Transport System) format is defined in 'Astrono\n",
       "COMMENT my\", \"  and Astrophysics', volume 376, page 359; bibcode: 2001A&A...376.\n",
       "COMMENT .359H\", \"= '        '\", '---- Date, night and basic image information --\n",
       "COMMENT --', \"= '        '\", '---- Telescope info, location, observer ----', \"= \n",
       "COMMENT '        '\", '---- Pointing info, etc. ----', \"= '        '\", '---- TAN \n",
       "COMMENT Projection ----', \"= '        '\", '---- Image-identifying used to build \n",
       "COMMENT OBS-ID ----', \"= '        '\", '---- Additional Keys Information from Cam\n",
       "COMMENT era ----', \"= '        '\", '---- Image sequence numbers', \"= '        '\"\n",
       "COMMENT , '---- Test Stand information ----', \"= '        '\", '---- Information \n",
       "COMMENT from Camera (Common block) ----', \"= '        '\", '---- Information from\n",
       "COMMENT  Camera ----', \"= '        '\", '---- Filter/grating information ----', \"\n",
       "COMMENT = '        '\", '---- Exposure-related information ----', \"= '        '\",\n",
       "COMMENT  '---- Weather information ----', \"= '        '\", '---- Header informati\n",
       "COMMENT on ----', \"= '        '\", '---- Checksums ----', \"= '        '\", '---- H\n",
       "COMMENT ierarch information for CSC Simulatiom Mode ----', '---- Information fro\n",
       "COMMENT m Camera per sensor ----', \"= '        '\", '---- Geometry from Camera --\n",
       "COMMENT --']                                                                    "
      ]
     },
     "execution_count": 57,
     "metadata": {},
     "output_type": "execute_result"
    }
   ],
   "source": [
    "image.header"
   ]
  },
  {
   "cell_type": "markdown",
   "metadata": {},
   "source": [
    "# Plot image and find the target position\n",
    "\n",
    "- this image plotting is used to find the order 0 location to be set in logbook\n",
    "\n",
    "- for the moment this is humanly done"
   ]
  },
  {
   "cell_type": "markdown",
   "metadata": {},
   "source": [
    "## Load the new image file with Spectractor"
   ]
  },
  {
   "cell_type": "code",
   "execution_count": 58,
   "metadata": {},
   "outputs": [
    {
     "data": {
      "image/png": "[encoded data removed]",
      "text/plain": [
       "<Figure size 864x720 with 2 Axes>"
      ]
     },
     "metadata": {
      "needs_background": "light"
     },
     "output_type": "display_data"
    }
   ],
   "source": [
    "title=\"{}) {}\".format(idx,filename_image)\n",
    "image.plot_image(figsize=(12, 10),scale=\"log\",title=title)"
   ]
  },
  {
   "cell_type": "markdown",
   "metadata": {},
   "source": [
    "- note now the position are written in the make_logbook.ipynb notebook"
   ]
  },
  {
   "cell_type": "markdown",
   "metadata": {},
   "source": [
    "## Set the 0th order location to be provided to Spectractor"
   ]
  },
  {
   "cell_type": "code",
   "execution_count": 59,
   "metadata": {},
   "outputs": [
    {
     "data": {
      "text/plain": [
       "'exposure_2022031600366_postisrccd.fits'"
      ]
     },
     "execution_count": 59,
     "metadata": {},
     "output_type": "execute_result"
    }
   ],
   "source": [
    "filename_image"
   ]
  },
  {
   "cell_type": "code",
   "execution_count": 60,
   "metadata": {},
   "outputs": [],
   "source": [
    "# overwrite if localtion is taken from that in logbook\n",
    "if FLAG_ORDER0_LOCATION : \n",
    "    print(\"Set Order 0 location from logbook : ({},{})\".format(x0,y0))\n",
    "    guess = [x0,y0]"
   ]
  },
  {
   "cell_type": "markdown",
   "metadata": {},
   "source": [
    "## Let Spectractor find the location of the 0th order"
   ]
  },
  {
   "cell_type": "code",
   "execution_count": 61,
   "metadata": {},
   "outputs": [
    {
     "name": "stderr",
     "output_type": "stream",
     "text": [
      "2022-03-24 21:46:49  spectractor.tools fit_poly2d_outlier_removal INFO   \n",
      "\tModel: Polynomial2D\n",
      "Inputs: ('x', 'y')\n",
      "Outputs: ('z',)\n",
      "Model set size: 1\n",
      "Degree: 1\n",
      "Parameters:\n",
      "           c0_0               c1_0                c0_1        \n",
      "    ----------------- ------------------- --------------------\n",
      "    8.408481001839391 0.00586047234120194 0.019632477637000587\n",
      "2022-03-24 21:46:49  spectractor.fit.fitter gradient_descent     INFO   \n",
      "\tGradient descent terminated in 8 iterations because the relative change of cost is below ftol=1.25e-05.\n",
      "2022-03-24 21:46:50  spectractor.fit.fitter gradient_descent     INFO   \n",
      "\tGradient descent terminated in 2 iterations because the relative change of cost is below ftol=5e-05.\n"
     ]
    },
    {
     "data": {
      "image/png": "[encoded data removed]",
      "text/plain": [
       "<Figure size 1080x288 with 6 Axes>"
      ]
     },
     "metadata": {
      "needs_background": "light"
     },
     "output_type": "display_data"
    }
   ],
   "source": [
    "\n",
    "parameters.VERBOSE = True\n",
    "parameters.DEBUG = True\n",
    "#x1, y1 = find_target(image, guess,rotated=False, use_wcs=False)\n",
    "x1, y1 = find_target(image, guess,rotated=False)"
   ]
  },
  {
   "cell_type": "code",
   "execution_count": 62,
   "metadata": {},
   "outputs": [
    {
     "name": "stdout",
     "output_type": "stream",
     "text": [
      "307.7651683070488 1741.079635801886\n"
     ]
    }
   ],
   "source": [
    "print(x1,y1)"
   ]
  },
  {
   "cell_type": "markdown",
   "metadata": {},
   "source": [
    "## Check the location of 0th order and Analysis of the quality of its focus"
   ]
  },
  {
   "cell_type": "code",
   "execution_count": 63,
   "metadata": {},
   "outputs": [],
   "source": [
    "if x1>100:\n",
    "    WID=100\n",
    "else:\n",
    "    WID=50\n",
    "    \n",
    "\n",
    "thumbnail=np.copy(image.data[int(y1)-WID:int(y1)+WID,int(x1)-WID:int(x1)+WID])\n",
    "thumbnail_y=thumbnail.sum(axis=1)\n",
    "thumbnail_x=thumbnail.sum(axis=0)\n",
    "xx=np.linspace(int(x1)-WID,int(x1)+WID,len(thumbnail_x))\n",
    "yy=np.linspace(int(y1)-WID,int(y1)+WID,len(thumbnail_y))\n",
    "k0=kurtosis(thumbnail,axis=None,bias=True,fisher=True)\n",
    "kx=kurtosis(thumbnail_x,bias=True,fisher=True)\n",
    "ky=kurtosis(thumbnail_y,bias=True,fisher=True)\n",
    "s0=skew(thumbnail,axis=None,bias=True)\n",
    "sx=skew(thumbnail_x,bias=True)\n",
    "sy=skew(thumbnail_y,bias=True)\n",
    "        "
   ]
  },
  {
   "cell_type": "code",
   "execution_count": 64,
   "metadata": {},
   "outputs": [],
   "source": [
    "shape_str='\\n'.join((\n",
    "        r'skew     : Sk0 = {:3.3f}, Skx = {:3.3f}, Sky = {:3.3f} \\n'.format(s0,sx,sy),\n",
    "        r'kurtosis : K0  = {:3.3f}, Kx  = {:3.3f},  Ky = {:3.3f}'.format(k0,kx,ky)))"
   ]
  },
  {
   "cell_type": "code",
   "execution_count": 65,
   "metadata": {},
   "outputs": [],
   "source": [
    "skew_str='\\n'.join((\n",
    "        r'skew     : Sk0 = {:3.3f}'.format(s0),\n",
    "        r'             : Skx = {:3.3f}'.format(sx),\n",
    "        r'             : Sky = {:3.3f}'.format(sy)))"
   ]
  },
  {
   "cell_type": "code",
   "execution_count": 66,
   "metadata": {},
   "outputs": [],
   "source": [
    "kurt_str='\\n'.join((\n",
    "        r'kurtosis : K0 = {:3.3f}'.format(k0),\n",
    "        r'             : Kx = {:3.3f}'.format(kx),\n",
    "        r'             : Ky = {:3.3f}'.format(ky)))"
   ]
  },
  {
   "cell_type": "code",
   "execution_count": 67,
   "metadata": {},
   "outputs": [],
   "source": [
    "kurtosis_test_prob=kurtosistest(thumbnail,axis=None).pvalue\n",
    "skew_test_prob=skewtest(thumbnail,axis=None).pvalue\n",
    "normal_test_prob=normaltest(thumbnail,axis=None).pvalue"
   ]
  },
  {
   "cell_type": "code",
   "execution_count": 68,
   "metadata": {},
   "outputs": [],
   "source": [
    "kurtosis_test_val=kurtosistest(thumbnail,axis=None).statistic\n",
    "skew_test_val=skewtest(thumbnail,axis=None).statistic\n",
    "normal_test_val=normaltest(thumbnail,axis=None).statistic"
   ]
  },
  {
   "cell_type": "code",
   "execution_count": 69,
   "metadata": {},
   "outputs": [],
   "source": [
    "kurtosis_test_prob_x=kurtosistest(thumbnail_x).pvalue\n",
    "skew_test_prob_x=skewtest(thumbnail_x).pvalue\n",
    "normal_test_prob_x=normaltest(thumbnail_x).pvalue"
   ]
  },
  {
   "cell_type": "code",
   "execution_count": 70,
   "metadata": {},
   "outputs": [],
   "source": [
    "kurtosis_test_prob_y=kurtosistest(thumbnail_y).pvalue\n",
    "skew_test_prob_y=skewtest(thumbnail_y).pvalue\n",
    "normal_test_prob_y=normaltest(thumbnail_y).pvalue"
   ]
  },
  {
   "cell_type": "code",
   "execution_count": 71,
   "metadata": {},
   "outputs": [],
   "source": [
    "skew_str='\\n'.join((\n",
    "    r'skew     : Sk0 = {:3.3f}'.format(s0),\n",
    "    r'             : Skx = {:3.3f}'.format(sx),\n",
    "    r'             : Sky = {:3.3f}'.format(sy),\n",
    "    r'             : p_test   = {:3.3e}'.format(skew_test_prob),\n",
    "    r'             : p_test_x = {:3.3e}'.format(skew_test_prob_x),\n",
    "    r'             : p_test_y = {:3.3e}'.format(skew_test_prob_y)))"
   ]
  },
  {
   "cell_type": "code",
   "execution_count": 72,
   "metadata": {},
   "outputs": [],
   "source": [
    "kurt_str='\\n'.join((\n",
    "    r'kurtosis : K0 = {:3.3f}'.format(k0),\n",
    "    r'             : Kx = {:3.3f}'.format(kx),\n",
    "    r'             : Ky = {:3.3f}'.format(ky),\n",
    "    r'             : p_test   = {:3.3e}'.format(kurtosis_test_prob),\n",
    "    r'             : p_test_x = {:3.3e}'.format(kurtosis_test_prob_x),\n",
    "    r'             : p_test_y = {:3.3e}'.format(kurtosis_test_prob_y)))"
   ]
  },
  {
   "cell_type": "code",
   "execution_count": 73,
   "metadata": {},
   "outputs": [],
   "source": [
    "norm_str='\\n'.join((\n",
    "    r'normal  : p_test   = {:3.3e}'.format(normal_test_prob),\n",
    "    r'             : p_test_x = {:3.3e}'.format(normal_test_prob_x),\n",
    "    r'             : p_test_y = {:3.3e}'.format(normal_test_prob_y)))"
   ]
  },
  {
   "cell_type": "code",
   "execution_count": 74,
   "metadata": {},
   "outputs": [],
   "source": [
    "props = dict(boxstyle='round',edgecolor=\"w\",facecolor=\"w\", alpha=0.5)"
   ]
  },
  {
   "cell_type": "code",
   "execution_count": 75,
   "metadata": {},
   "outputs": [],
   "source": [
    "#matplotlib.pyplot.hist(x, \n",
    "#                       bins=10, \n",
    "#                       range=None, \n",
    "#                       normed=False, \n",
    "#                       weights=None, \n",
    "#                       cumulative=False, \n",
    "#                       bottom=None, \n",
    "#                       histtype=u'bar', \n",
    "#                       align=u'mid', \n",
    "#                       orientation=u'vertical', \n",
    "#                       rwidth=None, \n",
    "#                       log=False, \n",
    "#                       color=None, \n",
    "#                       label=None, \n",
    "#                       stacked=False, \n",
    "#                       hold=None, \n",
    "#                       **kwargs)"
   ]
  },
  {
   "cell_type": "code",
   "execution_count": 76,
   "metadata": {},
   "outputs": [
    {
     "data": {
      "text/plain": [
       "Text(0.5, 0.98, '11) exposure_2022031600366_postisrccd.fits')"
      ]
     },
     "execution_count": 76,
     "metadata": {},
     "output_type": "execute_result"
    },
    {
     "data": {
      "image/png": "[encoded data removed]",
      "text/plain": [
       "<Figure size 720x720 with 4 Axes>"
      ]
     },
     "metadata": {
      "needs_background": "light"
     },
     "output_type": "display_data"
    }
   ],
   "source": [
    "fig=plt.figure(figsize=(10,10))\n",
    "fig.subplots_adjust(left=0.12, right=0.95, wspace=0.3,\n",
    "                    bottom=0.15, top=0.9)\n",
    "\n",
    "ax=fig.add_subplot(222)\n",
    "ax.imshow(thumbnail,origin=\"lower\",extent=(int(x1)-WID,int(x1)+WID,int(y1)-WID,int(y1)+WID))\n",
    "ax.set_xlabel(\"X\")\n",
    "ax.set_ylabel(\"Y\")\n",
    "\n",
    "ax=fig.add_subplot(221)\n",
    "base = plt.gca().transData\n",
    "rot = transforms.Affine2D().rotate_deg(-90)\n",
    "#ax.plot(yy,thumbnail_y,\"g\",rotation=u'vertical')\n",
    "ax.plot(-yy,thumbnail_y,\"g\",transform= rot + base)\n",
    "ax.set_ylabel(\"Y\")\n",
    "\n",
    "ax=fig.add_subplot(224)\n",
    "ax.plot(xx,thumbnail_x,\"b\")\n",
    "ax.set_xlabel(\"X\")\n",
    "plt.tight_layout()\n",
    "\n",
    "ax=fig.add_subplot(223)\n",
    "ax.set_xlim(0,10)\n",
    "ax.set_ylim(0,10)\n",
    "ax.set_xticklabels([])\n",
    "ax.set_xticks([])\n",
    "ax.set_yticks([])\n",
    "\n",
    "ax.text(0.05, 0.9, skew_str, transform=ax.transAxes, fontsize=12,verticalalignment='top', bbox=props)\n",
    "ax.text(0.05, 0.55, kurt_str, transform=ax.transAxes, fontsize=12,verticalalignment='top', bbox=props)\n",
    "ax.text(0.05, 0.2, norm_str, transform=ax.transAxes, fontsize=12,verticalalignment='top', bbox=props)\n",
    "plt.suptitle(title)"
   ]
  },
  {
   "cell_type": "code",
   "execution_count": 77,
   "metadata": {},
   "outputs": [],
   "source": [
    "# Usually stop here if one just want to get the 0th order location\n",
    "if not FLAG_GO_FOR_RECONSTRUCTION_WTH_SPECTRACTOR:\n",
    "    assert False\n",
    "else:\n",
    "    assert True"
   ]
  },
  {
   "cell_type": "markdown",
   "metadata": {},
   "source": [
    "# Go for spectrum reconstruction"
   ]
  },
  {
   "cell_type": "code",
   "execution_count": 78,
   "metadata": {},
   "outputs": [],
   "source": [
    "#parameters.debug=True\n",
    "#parameters.verbose=True\n",
    "#parameters.display=True\n",
    "#parameters.LIVE_FIT=False"
   ]
  },
  {
   "cell_type": "code",
   "execution_count": 79,
   "metadata": {},
   "outputs": [],
   "source": [
    "parameters.debug=False\n",
    "parameters.verbose=False\n",
    "parameters.display=True\n",
    "parameters.LIVE_FIT=False"
   ]
  },
  {
   "cell_type": "code",
   "execution_count": 80,
   "metadata": {},
   "outputs": [
    {
     "data": {
      "text/plain": [
       "'/sps/lsst/groups/auxtel/data/2022/holo/20220316/exposure_2022031600366_postisrccd.fits'"
      ]
     },
     "execution_count": 80,
     "metadata": {},
     "output_type": "execute_result"
    }
   ],
   "source": [
    "filename"
   ]
  },
  {
   "cell_type": "code",
   "execution_count": null,
   "metadata": {},
   "outputs": [
    {
     "name": "stderr",
     "output_type": "stream",
     "text": [
      "2022-03-24 21:46:52  spectractor.extractor.extractor Spectractor          INFO   \n",
      "\tStart SPECTRACTOR\n",
      "2022-03-24 21:46:52  Image      load_AUXTEL_image    INFO   \n",
      "\tLoading AUXTEL image /sps/lsst/groups/auxtel/data/2022/holo/20220316/exposure_2022031600366_postisrccd.fits...\n",
      "2022-03-24 21:46:52  Image      load_AUXTEL_image    INFO   \n",
      "\tImage loaded\n"
     ]
    },
    {
     "name": "stdout",
     "output_type": "stream",
     "text": [
      "Section: paths\n",
      "x disperser_dir: extractor/dispersers/\t=> parameters.DISPERSER_DIR: /sps/lsst/groups/auxtel/softs/utils/anaconda3/lib/python3.8/site-packages/Spectractor-2.1-py3.8.egg/spectractor/extractor/dispersers/\t <class 'str'>\n",
      "x throughput_dir: simulation/AuxTelThroughput/\t=> parameters.THROUGHPUT_DIR: /sps/lsst/groups/auxtel/softs/utils/anaconda3/lib/python3.8/site-packages/Spectractor-2.1-py3.8.egg/spectractor/simulation/AuxTelThroughput/\t <class 'str'>\n",
      "Section: pipeline\n",
      "x spectractor_fit_target_centroid: fit\t=> parameters.SPECTRACTOR_FIT_TARGET_CENTROID: fit\t <class 'str'>\n",
      "x spectractor_compute_rotation_angle: False\t=> parameters.SPECTRACTOR_COMPUTE_ROTATION_ANGLE: False\t <class 'bool'>\n",
      "x spectractor_deconvolution_psf2d: False\t=> parameters.SPECTRACTOR_DECONVOLUTION_PSF2D: False\t <class 'bool'>\n",
      "x spectractor_deconvolution_ffm: True\t=> parameters.SPECTRACTOR_DECONVOLUTION_FFM: True\t <class 'bool'>\n",
      "Section: instrument\n",
      "x obs_name: AUXTEL\t=> parameters.OBS_NAME: AUXTEL\t <class 'str'>\n",
      "x obs_altitude: 2.66299616375123\t=> parameters.OBS_ALTITUDE: 2.66299616375123\t <class 'float'>\n",
      "x obs_latitude: -30.2446389756252\t=> parameters.OBS_LATITUDE: -30.2446389756252\t <class 'float'>\n",
      "x obs_diameter: 1.20\t=> parameters.OBS_DIAMETER: 1.2 m\t <class 'astropy.units.quantity.Quantity'>\n",
      "x obs_epoch: J2000.0\t=> parameters.OBS_EPOCH: J2000.0\t <class 'str'>\n",
      "x obs_transmission_systematics: 0.005\t=> parameters.OBS_TRANSMISSION_SYSTEMATICS: 0.005\t <class 'float'>\n",
      "x obs_object_type: STAR\t=> parameters.OBS_OBJECT_TYPE: STAR\t <class 'str'>\n",
      "x obs_telescope_transmission: calexp_2020031500162-EMPTY_ronchi90lpmm-det000_auxtel_transmission.txt\t=> parameters.OBS_TELESCOPE_TRANSMISSION: calexp_2020031500162-EMPTY_ronchi90lpmm-det000_auxtel_transmission.txt\t <class 'str'>\n",
      "x obs_full_instrument_transmisson: calexp_2020031500162-EMPTY_ronchi90lpmm-det000_auxtel_transmission.txt\t=> parameters.OBS_FULL_INSTRUMENT_TRANSMISSON: calexp_2020031500162-EMPTY_ronchi90lpmm-det000_auxtel_transmission.txt\t <class 'str'>\n",
      "x obs_quantum_efficiency: calexp_2020031500162-EMPTY_ronchi90lpmm-det000_auxtel_transmission.txt\t=> parameters.OBS_QUANTUM_EFFICIENCY: calexp_2020031500162-EMPTY_ronchi90lpmm-det000_auxtel_transmission.txt\t <class 'str'>\n",
      "x obs_camera_rotation: 0\t=> parameters.OBS_CAMERA_ROTATION: 0\t <class 'int'>\n",
      "x obs_camera_dec_flip_sign: 1\t=> parameters.OBS_CAMERA_DEC_FLIP_SIGN: 1\t <class 'int'>\n",
      "x obs_camera_ra_flip_sign: -1\t=> parameters.OBS_CAMERA_RA_FLIP_SIGN: -1\t <class 'int'>\n",
      "Section: CCD\n",
      "x ccd_imsize: 4096\t=> parameters.CCD_IMSIZE: 2048\t <class 'int'>\n",
      "x ccd_pixel2mm: 10e-3\t=> parameters.CCD_PIXEL2MM: 0.02\t <class 'float'>\n",
      "x ccd_pixel2arcsec: 0.0952\t=> parameters.CCD_PIXEL2ARCSEC: 0.1904\t <class 'float'>\n",
      "x ccd_maxadu: 170000\t=> parameters.CCD_MAXADU: 170000\t <class 'int'>\n",
      "x ccd_gain: 1.1\t=> parameters.CCD_GAIN: 1.1\t <class 'float'>\n",
      "x ccd_rebin: 2\t=> parameters.CCD_REBIN: 2\t <class 'int'>\n",
      "Section: spectrograph\n",
      "x distance2ccd: 175\t=> parameters.DISTANCE2CCD: 175\t <class 'int'>\n",
      "x distance2ccd_err: 0.75\t=> parameters.DISTANCE2CCD_ERR: 0.75\t <class 'float'>\n",
      "x grating_order_2over1: 0.1\t=> parameters.GRATING_ORDER_2OVER1: 0.1\t <class 'float'>\n",
      "Section: search windows\n",
      "x xwindow: 100\t=> parameters.XWINDOW: 50\t <class 'int'>\n",
      "x ywindow: 100\t=> parameters.YWINDOW: 50\t <class 'int'>\n",
      "x xwindow_rot: 50\t=> parameters.XWINDOW_ROT: 25\t <class 'int'>\n",
      "x ywindow_rot: 50\t=> parameters.YWINDOW_ROT: 25\t <class 'int'>\n",
      "x pixshift_prior: 5\t=> parameters.PIXSHIFT_PRIOR: 5\t <class 'int'>\n",
      "Section: rotation parameters\n",
      "x rot_prefilter: True\t=> parameters.ROT_PREFILTER: True\t <class 'bool'>\n",
      "x rot_order: 5\t=> parameters.ROT_ORDER: 5\t <class 'int'>\n",
      "x rot_angle_min: -10\t=> parameters.ROT_ANGLE_MIN: -10\t <class 'int'>\n",
      "x rot_angle_max: 10\t=> parameters.ROT_ANGLE_MAX: 10\t <class 'int'>\n",
      "Section: spectrum range\n",
      "x lambda_min: 300\t=> parameters.LAMBDA_MIN: 300\t <class 'int'>\n",
      "x lambda_max: 1100\t=> parameters.LAMBDA_MAX: 1100\t <class 'int'>\n",
      "Section: background subtraction parameters\n",
      "x pixwidth_signal: 40\t=> parameters.PIXWIDTH_SIGNAL: 20\t <class 'int'>\n",
      "x pixdist_background: 140\t=> parameters.PIXDIST_BACKGROUND: 70\t <class 'int'>\n",
      "x pixwidth_background: 40\t=> parameters.PIXWIDTH_BACKGROUND: 20\t <class 'int'>\n",
      "x pixwidth_boxsize: 20\t=> parameters.PIXWIDTH_BOXSIZE: 10\t <class 'int'>\n",
      "Section: PSF\n",
      "x psf_type: Moffat\t=> parameters.PSF_TYPE: Moffat\t <class 'str'>\n",
      "x psf_poly_order: 2\t=> parameters.PSF_POLY_ORDER: 2\t <class 'int'>\n",
      "x psf_fit_reg_param: 1\t=> parameters.PSF_FIT_REG_PARAM: 1\t <class 'int'>\n",
      "x psf_pixel_step_transverse_fit: 50\t=> parameters.PSF_PIXEL_STEP_TRANSVERSE_FIT: 25\t <class 'int'>\n",
      "x psf_fwhm_clip: 2\t=> parameters.PSF_FWHM_CLIP: 2\t <class 'int'>\n",
      "Section: detection line algorithm parameters\n",
      "x calib_bgd_order: 3\t=> parameters.CALIB_BGD_ORDER: 3\t <class 'int'>\n",
      "x calib_peak_width: 7\t=> parameters.CALIB_PEAK_WIDTH: 7\t <class 'int'>\n",
      "x calib_bgd_width: 15\t=> parameters.CALIB_BGD_WIDTH: 15\t <class 'int'>\n",
      "x calib_savgol_window: 5\t=> parameters.CALIB_SAVGOL_WINDOW: 5\t <class 'int'>\n",
      "x calib_savgol_order: 2\t=> parameters.CALIB_SAVGOL_ORDER: 2\t <class 'int'>\n",
      "Section: plot settings\n",
      "x paper: False\t=> parameters.PAPER: False\t <class 'bool'>\n",
      "x linewidth: 2\t=> parameters.LINEWIDTH: 2\t <class 'int'>\n",
      "x plot_dir: plots\t=> parameters.PLOT_DIR: plots\t <class 'str'>\n",
      "x save: False\t=> parameters.SAVE: False\t <class 'bool'>\n"
     ]
    },
    {
     "name": "stderr",
     "output_type": "stream",
     "text": [
      "2022-03-24 21:46:53  Image      load_image           INFO   \n",
      "\tLoading disperser holo4_003...\n",
      "2022-03-24 21:46:53  Hologram   load_specs           INFO   \n",
      "\tLoad disperser holo4_003:\n",
      "\tfrom /sps/lsst/groups/auxtel/softs/utils/anaconda3/lib/python3.8/site-packages/Spectractor-2.1-py3.8.egg/spectractor/extractor/dispersers/holo4_003\n",
      "2022-03-24 21:46:53  Hologram   load_specs           INFO   \n",
      "\tGrating characteristics:\n",
      "\tN = 156.00 +/- 1.00 grooves/mm\n",
      "\tAverage tilt of -0.3 degrees\n",
      "2022-03-24 21:46:59  Star       load                 INFO   \n",
      "\tSimbad:\n",
      " MAIN_ID        RA           DEC      ... Z_VALUE_2 SCRIPT_NUMBER_ID\n",
      "             \"h:m:s\"       \"d:m:s\"    ...                           \n",
      "--------- ------------- ------------- ... --------- ----------------\n",
      "HD 111980 12 53 15.0529 -18 31 20.013 ... 0.0005170                1\n",
      "2022-03-24 21:46:59  Star       load_spectra         INFO   \n",
      "\tLoading /sps/lsst/groups/auxtel/softs/utils/PySynPhotData/grp/hst/cdbs//calspec/hd111980_stis_001.fits\n",
      "2022-03-24 21:46:59  Star       load_spectra         INFO   \n",
      "\tLoading /sps/lsst/groups/auxtel/softs/utils/PySynPhotData/grp/hst/cdbs//calspec/hd111980_stis_005.fits\n",
      "2022-03-24 21:46:59  Star       load_spectra         INFO   \n",
      "\tLoading /sps/lsst/groups/auxtel/softs/utils/PySynPhotData/grp/hst/cdbs//calspec/hd111980_stis_003.fits\n",
      "2022-03-24 21:46:59  Star       load_spectra         INFO   \n",
      "\tLoading /sps/lsst/groups/auxtel/softs/utils/PySynPhotData/grp/hst/cdbs//calspec/hd111980_stis_004.fits\n",
      "2022-03-24 21:46:59  Star       load_spectra         INFO   \n",
      "\tLoading /sps/lsst/groups/auxtel/softs/utils/PySynPhotData/grp/hst/cdbs//calspec/hd111980_stis_002.fits\n",
      "2022-03-24 21:46:59  Star       load_spectra         DEBUG  \n",
      "\tTarget label: HD111980\n",
      "\tCalspec? True\n",
      "\tNumber of spectra: 5\n",
      "\tRedshift: 0.000517\n",
      "\tEmission spectrum ? False\n",
      "\tLines: ['$Fe_{I}$', '$Ca_{II}$', '$Ca_{II}$', '$H\\\\epsilon$', '$H\\\\delta$', '$Fe_{I}$', '$H\\\\gamma$', '$Fe_{I}$', '$He_{I}$', '$H\\\\beta$', '$Mg_{I}$', '$Mg_{I}$', '$Fe_{I}$', '$H\\\\alpha$', '$O_2(B)$', '', '$O_2$', '$O_2(Z)$', '$O_2(Y)$', '$H_2 O$']\n",
      "2022-03-24 21:47:02  spectractor.extractor.extractor Spectractor          INFO   \n",
      "\tSearch for the target in the image with guess=[153.88258415 870.5398179 ]...\n",
      "2022-03-24 21:47:02  spectractor.tools fit_poly2d_outlier_removal INFO   \n",
      "\tModel: Polynomial2D\n",
      "Inputs: ('x', 'y')\n",
      "Outputs: ('z',)\n",
      "Model set size: 1\n",
      "Degree: 1\n",
      "Parameters:\n",
      "           c0_0                c1_0                 c0_1         \n",
      "    ------------------ ------------------- ----------------------\n",
      "    10.793968507865442 0.00448619142483784 -0.0028289584177532503\n",
      "2022-03-24 21:47:02  spectractor.fit.fitter gradient_descent     INFO   \n",
      "\tGradient descent terminated in 6 iterations because the relative change of cost is below ftol=5e-05.\n",
      "2022-03-24 21:47:03  spectractor.fit.fitter gradient_descent     INFO   \n",
      "\tGradient descent terminated in 2 iterations because the relative change of cost is below ftol=0.0002.\n",
      "2022-03-24 21:47:03  Image      find_target          INFO   \n",
      "\tX,Y target position in pixels: 153.631,870.286\n",
      "2022-03-24 21:47:03  Image      turn_image           INFO   \n",
      "\tRotate the image with angle theta=0.00 degree\n",
      "2022-03-24 21:47:07  spectractor.extractor.extractor Spectractor          INFO   \n",
      "\tSearch for the target in the rotated image...\n",
      "2022-03-24 21:47:07  spectractor.tools fit_poly2d_outlier_removal INFO   \n",
      "\tModel: Polynomial2D\n",
      "Inputs: ('x', 'y')\n",
      "Outputs: ('z',)\n",
      "Model set size: 1\n",
      "Degree: 1\n",
      "Parameters:\n",
      "           c0_0                c1_0               c0_1      \n",
      "    ------------------ ------------------- -----------------\n",
      "    33.411736179545535 0.06764002793915891 0.085311669566062\n",
      "2022-03-24 21:47:07  spectractor.fit.fitter gradient_descent     INFO   \n",
      "\tGradient descent terminated in 4 iterations because the relative change of cost is below ftol=0.0002.\n",
      "2022-03-24 21:47:07  spectractor.fit.fitter gradient_descent     INFO   \n",
      "\tGradient descent terminated in 2 iterations because the relative change of cost is below ftol=0.0008680555555555555.\n",
      "2022-03-24 21:47:08  Image      find_target          INFO   \n",
      "\tX,Y target position in pixels: 153.608,870.308\n",
      "2022-03-24 21:47:08  Spectrum   __init__             INFO   \n",
      "\tSpectrum info copied from image\n",
      "2022-03-24 21:47:08  spectractor.extractor.extractor extract_spectrum_from_image INFO   \n",
      "\tExtracting spectrum from image: spectrum with width 2*20 pixels and background from 70 to 90 pixels\n",
      "2022-03-24 21:47:08  spectractor.extractor.extractor extract_spectrum_from_image INFO   \n",
      "\tExtract spectrogram: crop rotated image [582:1747,780:960] (size (1165, 180))\n",
      "2022-03-24 21:47:10  spectractor.extractor.extractor extract_spectrum_from_image INFO   \n",
      "\tStart PSF1D transverse fit...\n",
      "2022-03-24 21:47:14  spectractor.fit.fitter gradient_descent     INFO   \n",
      "\tIteration=0: initial cost=2.4516e+06 initial chisq_red=52.609\n",
      "\t\t Line search: alpha_min=2.36 iter=0 funcalls=5\n",
      "\tParameter shifts: [ -0.112468     0.09878212  -0.25963514  -3.4882689   -5.51930574\n",
      " -10.10942115  -0.33357707  -0.38436768  -0.73337832]\n",
      "\tNew parameters: [ 1.94899112  5.07610147 -3.71895933 12.30798251 11.20240499 17.9610964\n",
      "  7.48018017  8.66598105 13.56921582]\n",
      "\tFinal cost=3.5012e+05 final chisq_red=7.5133 computed in 0.69s\n",
      "2022-03-24 21:47:14  spectractor.fit.fitter gradient_descent     INFO   \n",
      "\tIteration=1: initial cost=3.5012e+05 initial chisq_red=7.5133\n",
      "\t\t Line search: alpha_min=0.382 iter=3 funcalls=7\n",
      "\tParameter shifts: [ 0.04800115 -0.00906854  0.06134332 -3.68596926 -4.42763743 -6.77346933\n",
      " -4.12699884 -5.75795293 -8.92332399]\n",
      "\tNew parameters: [ 1.99699227  5.06703293 -3.65761601  8.62201325  6.77476756 11.18762707\n",
      "  3.35318133  2.90802812  4.64589183]\n",
      "\tFinal cost=2.2721e+05 final chisq_red=4.8758 computed in 0.81s\n",
      "2022-03-24 21:47:15  spectractor.fit.fitter gradient_descent     INFO   \n",
      "\tIteration=2: initial cost=2.2721e+05 initial chisq_red=4.8758\n",
      "\t\t Line search: alpha_min=1 iter=1 funcalls=5\n",
      "\tParameter shifts: [ 0.06224582 -0.07068878  0.07405739 -5.27941401 -6.55805876 -9.68838606\n",
      " -2.92687407 -4.03718111 -6.11225544]\n",
      "\tNew parameters: [ 2.05923809  4.99634416 -3.58355862  3.34259923  0.21670879  1.499241\n",
      "  0.42630726 -1.12915298 -1.46636361]\n",
      "\tFinal cost=2.1114e+05 final chisq_red=4.5309 computed in 0.77s\n",
      "2022-03-24 21:47:16  spectractor.fit.fitter gradient_descent     INFO   \n",
      "\tIteration=3: initial cost=2.1114e+05 initial chisq_red=4.5309\n",
      "\t\t Line search: alpha_min=1 iter=1 funcalls=5\n",
      "\tParameter shifts: [ 0.14133138  0.23879368  0.1886344   0.0177628   0.15830314 -0.38407634\n",
      "  0.55658963  0.92725273  1.13716417]\n",
      "\tNew parameters: [ 2.20056948  5.23513784 -3.39492422  3.36036204  0.37501193  1.11516467\n",
      "  0.98289689 -0.20190026 -0.32919943]\n",
      "\tFinal cost=1.4269e+05 final chisq_red=3.0619 computed in 0.79s\n",
      "2022-03-24 21:47:17  spectractor.fit.fitter gradient_descent     INFO   \n",
      "\tIteration=4: initial cost=1.4269e+05 initial chisq_red=3.0619\n",
      "\t\t Line search: alpha_min=1 iter=1 funcalls=5\n",
      "\tParameter shifts: [-0.00374689  0.00384163  0.01145136 -0.02723786 -0.13252105 -0.25337892\n",
      "  0.11706486  0.11716865  0.13484027]\n",
      "\tNew parameters: [ 2.19682259  5.23897947 -3.38347286  3.33312418  0.24249089  0.86178575\n",
      "  1.09996175 -0.0847316  -0.19435916]\n",
      "\tFinal cost=1.3822e+05 final chisq_red=2.9662 computed in 0.80s\n",
      "2022-03-24 21:47:18  spectractor.fit.fitter gradient_descent     INFO   \n",
      "\tIteration=5: initial cost=1.3822e+05 initial chisq_red=2.9662\n",
      "\t\t Line search: alpha_min=1.62 iter=1 funcalls=5\n",
      "\tParameter shifts: [ 0.01176122  0.02244867  0.01746658  0.40397977 -0.43085461  0.46458654\n",
      "  0.12951673 -0.16418555  0.15936209]\n",
      "\tNew parameters: [ 2.20858381  5.26142814 -3.36600628  3.73710395 -0.18836373  1.32637229\n",
      "  1.22947848 -0.24891715 -0.03499707]\n",
      "\tFinal cost=1.3245e+05 final chisq_red=2.8422 computed in 0.80s\n",
      "2022-03-24 21:47:18  spectractor.fit.fitter gradient_descent     INFO   \n",
      "\tIteration=6: initial cost=1.3245e+05 initial chisq_red=2.8422\n",
      "\t\t Line search: alpha_min=1 iter=1 funcalls=5\n",
      "\tParameter shifts: [-0.01396678 -0.02247287 -0.016322   -0.05042913 -0.02074216  0.09904434\n",
      " -0.00468205  0.0077644   0.05177888]\n",
      "\tNew parameters: [ 2.19461703  5.23895527 -3.38232828  3.68667482 -0.20910588  1.42541663\n",
      "  1.22479644 -0.24115275  0.01678181]\n",
      "\tFinal cost=1.3191e+05 final chisq_red=2.8306 computed in 0.80s\n",
      "2022-03-24 21:47:19  spectractor.fit.fitter gradient_descent     INFO   \n",
      "\tIteration=7: initial cost=1.3191e+05 initial chisq_red=2.8306\n",
      "\t\t Line search: alpha_min=1 iter=1 funcalls=5\n",
      "\tParameter shifts: [ 0.00406976  0.00813079  0.00157642  0.00372257  0.00331405  0.00382372\n",
      " -0.00290484 -0.00482222 -0.00820962]\n",
      "\tNew parameters: [ 2.19868679  5.24708606 -3.38075186  3.69039739 -0.20579184  1.42924035\n",
      "  1.2218916  -0.24597497  0.00857219]\n",
      "\tFinal cost=1.3188e+05 final chisq_red=2.83 computed in 0.80s\n",
      "2022-03-24 21:47:20  spectractor.fit.fitter gradient_descent     INFO   \n",
      "\tIteration=8: initial cost=1.3188e+05 initial chisq_red=2.83\n",
      "\t\t Line search: alpha_min=1.62 iter=1 funcalls=5\n",
      "\tParameter shifts: [-0.00062031 -0.00159634 -0.00046793 -0.00393377 -0.01576216  0.00512854\n",
      " -0.0022691  -0.00657418 -0.00066068]\n",
      "\tNew parameters: [ 2.19806648  5.24548972 -3.3812198   3.68646362 -0.22155399  1.43436889\n",
      "  1.2196225  -0.25254915  0.00791151]\n",
      "\tFinal cost=1.3188e+05 final chisq_red=2.83 computed in 0.80s\n",
      "2022-03-24 21:47:21  spectractor.fit.fitter gradient_descent     INFO   \n",
      "\tIteration=9: initial cost=1.3188e+05 initial chisq_red=2.83\n",
      "\t\t Line search: alpha_min=1 iter=1 funcalls=5\n",
      "\tParameter shifts: [ 0.00085081  0.00157853  0.00111591  0.00074739  0.00341994 -0.00077065\n",
      " -0.00076107 -0.00030982 -0.00231353]\n",
      "\tNew parameters: [ 2.19891729  5.24706825 -3.38010389  3.68721101 -0.21813405  1.43359824\n",
      "  1.21886143 -0.25285897  0.00559798]\n",
      "\tFinal cost=1.3188e+05 final chisq_red=2.8299 computed in 0.79s\n",
      "2022-03-24 21:47:21  spectractor.fit.fitter gradient_descent     INFO   \n",
      "\tGradient descent terminated in 9 iterations because the relative change of cost is below ftol=2.145922746781116e-05.\n",
      "2022-03-24 21:47:21  spectractor.fit.fitter print_parameter_summary INFO   \n",
      "\ty_c_0: 2.199 +0.002 -0.002\n",
      "\ty_c_1: 5.247 +0.003 -0.003\n",
      "\ty_c_2: -3.380 +0.005 -0.005\n",
      "\tgamma_0: 3.687 +0.005 -0.005\n",
      "\tgamma_1: -0.218 +0.01 -0.01\n",
      "\tgamma_2: 1.43 +0.01 -0.01\n",
      "\talpha_0: 1.219 +0.002 -0.002\n",
      "\talpha_1: -0.253 +0.004 -0.004\n",
      "\talpha_2: 0.006 +0.006 -0.006\n",
      "\t\n",
      "2022-03-24 21:47:25  spectractor.extractor.extractor extract_spectrum_from_image DEBUG  \n",
      "\tTransverse fit table before derotation:\n",
      "     amplitude       x_c          y_c        ...         Dy         Dy_disp_axis\n",
      "------------------- ------ ----------------- ... ------------------ ------------\n",
      " 3.2677567213919634    0.0 83.87963057482685 ... -6.428254846506405          0.0\n",
      "0.16450641728071452    1.0 83.90605440354067 ... -6.401831017792588          0.0\n",
      " 1.9443333749560499    2.0 83.93244829545735 ... -6.375437125875905          0.0\n",
      "  2.047690479560138    3.0 83.95881225057691 ... -6.349073170756341          0.0\n",
      " 0.9058664751246738    4.0 83.98514626889936 ... -6.322739152433897          0.0\n",
      "-0.6871931540853125    5.0 84.01145035042467 ... -6.296435070908586          0.0\n",
      " 1.3363786581520172    6.0 84.03772449515284 ... -6.270160926180409          0.0\n",
      "-1.1478220779750292    7.0  84.0639687030839 ... -6.243916718249352          0.0\n",
      " 0.3779255119260359    8.0 84.09018297421783 ... -6.217702447115428          0.0\n",
      "-0.9370362251914873    9.0 84.11636730855462 ... -6.191518112778638          0.0\n",
      "                ...    ...               ... ...                ...          ...\n",
      " 136.46918083958633 1154.0  94.4563465806547 ...  4.148461159321442          0.0\n",
      " 135.27794213139705 1155.0 94.44822334548314 ...   4.14033792414989          0.0\n",
      " 134.38042152805377 1156.0 94.44007017351446 ...  4.132184752181203          0.0\n",
      "  135.6434709504159 1157.0 94.43188706474864 ...  4.124001643415383          0.0\n",
      " 128.65829482596928 1158.0  94.4236740191857 ...  4.115788597852443          0.0\n",
      " 132.29477586111773 1159.0 94.41543103682564 ...  4.107545615492384          0.0\n",
      " 127.29083629934162 1160.0 94.40715811766843 ...  4.099272696335177          0.0\n",
      " 134.39225863133808 1161.0 94.39885526171412 ...  4.090969840380865          0.0\n",
      " 125.07499939782817 1162.0 94.39052246896266 ... 4.0826370476294045          0.0\n",
      " 129.54988832024227 1163.0 94.38215973941408 ...  4.074274318080825          0.0\n",
      " 129.77572922950844 1164.0 94.37376707306838 ... 4.0658816517351255          0.0\n",
      "Length = 1165 rows\n",
      "2022-03-24 21:47:26  spectractor.extractor.extractor extract_spectrum_from_image DEBUG  \n",
      "\tTransverse fit table after derotation:\n",
      "     amplitude             x_c         ...         Dy         Dy_disp_axis\n",
      "------------------- ------------------ ... ------------------ ------------\n",
      " 3.2677567213919634  1.023035879911106 ... -6.428254846506405          0.0\n",
      "0.16450641728071452  2.023035879911106 ... -6.401831017792588          0.0\n",
      " 1.9443333749560499  3.023035879911106 ... -6.375437125875905          0.0\n",
      "  2.047690479560138  4.023035879911106 ... -6.349073170756341          0.0\n",
      " 0.9058664751246738  5.023035879911106 ... -6.322739152433897          0.0\n",
      "-0.6871931540853125  6.023035879911106 ... -6.296435070908586          0.0\n",
      " 1.3363786581520172  7.023035879911106 ... -6.270160926180409          0.0\n",
      "-1.1478220779750292  8.023035879911106 ... -6.243916718249352          0.0\n",
      " 0.3779255119260359  9.023035879911106 ... -6.217702447115428          0.0\n",
      "-0.9370362251914873 10.023035879911106 ... -6.191518112778638          0.0\n",
      "                ...                ... ...                ...          ...\n",
      " 136.46918083958633  1155.023035879911 ...  4.148461159321442          0.0\n",
      " 135.27794213139705  1156.023035879911 ...   4.14033792414989          0.0\n",
      " 134.38042152805377  1157.023035879911 ...  4.132184752181203          0.0\n",
      "  135.6434709504159  1158.023035879911 ...  4.124001643415383          0.0\n",
      " 128.65829482596928  1159.023035879911 ...  4.115788597852443          0.0\n",
      " 132.29477586111773  1160.023035879911 ...  4.107545615492384          0.0\n",
      " 127.29083629934162  1161.023035879911 ...  4.099272696335177          0.0\n",
      " 134.39225863133808  1162.023035879911 ...  4.090969840380865          0.0\n",
      " 125.07499939782817  1163.023035879911 ... 4.0826370476294045          0.0\n",
      " 129.54988832024227  1164.023035879911 ...  4.074274318080825          0.0\n",
      " 129.77572922950844  1165.023035879911 ... 4.0658816517351255          0.0\n",
      "Length = 1165 rows\n",
      "2022-03-24 21:47:26  spectractor.extractor.extractor extract_spectrum_from_image INFO   \n",
      "\tExtract spectrogram: crop raw image [581:1746,780:961] (size (1165, 181))\n",
      "2022-03-24 21:47:27  spectractor.extractor.extractor extract_spectrum_from_image INFO   \n",
      "\tBackground statistics: mean=7.841 ADU/s, RMS=0.351 ADU/s.\n",
      "2022-03-24 21:47:27  spectractor.extractor.extractor extract_spectrum_from_image INFO   \n",
      "\tExtract spectrogram: crop image [581:1746,780:961] (size (1165, 181))\n",
      "\tNew target position in spectrogram frame: [-427.3686149671007, 90.28602224800045]\n",
      "2022-03-24 21:47:29  spectractor.extractor.extractor Spectractor          INFO   \n",
      "\tCalibrating order 1 spectrum...\n",
      "2022-03-24 21:47:48  Spectrum   calibrate_spectrum   INFO   \n",
      "\tOrder0 total shift: -0.072pix\n",
      "\tD = 181.059 mm (default: DISTANCE2CCD = 183.00 +/- 0.75 mm, -2.6 sigma shift)\n",
      "2022-03-24 21:47:50  FullForwardModelFitWorkspace __init__             INFO   \n",
      "\tFull forward model fitting with regularisation parameter r=1.\n",
      "2022-03-24 21:48:17  spectractor.fit.fitter gradient_descent     INFO   \n",
      "\tIteration=0: initial cost=4.6734e+06 initial chisq_red=106.9\n",
      "\t\t Line search: alpha_min=1 iter=1 funcalls=5\n",
      "\tParameter shifts: [0.54613938 0.13107653]\n",
      "\tNew parameters: [0.54613938 0.13107653]\n",
      "\tFinal cost=1.6158e+06 final chisq_red=36.961 computed in 23.59s\n",
      "2022-03-24 21:48:41  spectractor.fit.fitter gradient_descent     INFO   \n",
      "\tIteration=1: initial cost=1.6158e+06 initial chisq_red=36.961\n",
      "\t\t Line search: alpha_min=1 iter=1 funcalls=5\n",
      "\tParameter shifts: [0.17931642 0.01867382]\n",
      "\tNew parameters: [0.7254558  0.14975035]\n",
      "\tFinal cost=1.5432e+06 final chisq_red=35.3 computed in 24.17s\n",
      "2022-03-24 21:49:05  spectractor.fit.fitter gradient_descent     INFO   \n",
      "\tIteration=2: initial cost=1.5432e+06 initial chisq_red=35.3\n",
      "\t\t Line search: alpha_min=1 iter=1 funcalls=5\n",
      "\tParameter shifts: [-2.90805386  0.1685543 ]\n",
      "\tNew parameters: [-1.904       0.31830465]\n",
      "\tFinal cost=1.4969e+06 final chisq_red=34.241 computed in 23.58s\n",
      "2022-03-24 21:49:29  spectractor.fit.fitter gradient_descent     INFO   \n",
      "\tIteration=3: initial cost=1.4969e+06 initial chisq_red=34.241\n",
      "\t\t Line search: alpha_min=1 iter=1 funcalls=5\n",
      "\tParameter shifts: [-0.02573086 -0.02060626]\n",
      "\tNew parameters: [-1.904      0.2976984]\n",
      "\tFinal cost=1.4663e+06 final chisq_red=33.542 computed in 23.83s\n",
      "2022-03-24 21:49:52  spectractor.fit.fitter gradient_descent     INFO   \n",
      "\tIteration=4: initial cost=1.4663e+06 initial chisq_red=33.542\n",
      "\t\t Line search: alpha_min=1 iter=1 funcalls=5\n",
      "\tParameter shifts: [ 0.67603745 -0.0333173 ]\n",
      "\tNew parameters: [-1.22796255  0.2643811 ]\n",
      "\tFinal cost=1.4566e+06 final chisq_red=33.319 computed in 23.49s\n",
      "2022-03-24 21:50:16  spectractor.fit.fitter gradient_descent     INFO   \n",
      "\tIteration=5: initial cost=1.4566e+06 initial chisq_red=33.319\n",
      "\t\t Line search: alpha_min=1 iter=1 funcalls=5\n",
      "\tParameter shifts: [ 0.00502006 -0.00406075]\n",
      "\tNew parameters: [-1.2229425   0.26032035]\n",
      "\tFinal cost=1.4566e+06 final chisq_red=33.319 computed in 23.84s\n",
      "2022-03-24 21:50:16  spectractor.fit.fitter gradient_descent     INFO   \n",
      "\tGradient descent terminated in 5 iterations because the relative change of cost is below ftol=0.0020935831675913327.\n",
      "2022-03-24 21:50:16  spectractor.fit.fitter print_parameter_summary INFO   \n",
      "\tshift_y [pix]: -1.2229 +0.0002 -0.0002\n",
      "\tangle [deg]: 0.2603 +0.0001 -0.0001\n",
      "\t\n",
      "2022-03-24 21:50:24  spectractor.extractor.extractor run_ffm_minimisation INFO   \n",
      "\tStart guess: [ 1.00000000e+00  1.81059460e+02 -7.21543226e-02 -1.22294250e+00\n",
      "  2.60320353e-01  1.00000000e+00 -2.45654122e+02  1.01039165e+03\n",
      "  5.82000000e+02 -2.95202439e-13  2.19891729e+00  5.24706825e+00\n",
      " -3.38010389e+00  3.68721101e+00 -2.18134052e-01  1.43359824e+00\n",
      "  1.23143292e+00 -2.36118325e-01  3.50921029e-02  8.49996273e+03]\n",
      "\twith ['A2', 'D_CCD [mm]', 'shift_x [pix]', 'shift_y [pix]', 'angle [deg]', 'B', 'R', 'x_c_0', 'x_c_1', 'x_c_2', 'y_c_0', 'y_c_1', 'y_c_2', 'gamma_0', 'gamma_1', 'gamma_2', 'alpha_0', 'alpha_1', 'alpha_2', 'saturation_0']\n",
      "2022-03-24 21:51:10  spectractor.fit.fitter gradient_descent     INFO   \n",
      "\tIteration=0: initial cost=1.4845e+06 initial chisq_red=33.958\n",
      "\t\t Line search: alpha_min=1 iter=1 funcalls=5\n",
      "\tParameter shifts: [ 1.34412942e-01  4.56069037e-04 -1.98620784e+00 -1.99657841e+00\n",
      " -7.38158929e-01  1.75227766e-01 -1.37609107e-01  1.64679508e-01]\n",
      "\tNew parameters: [-1.08852955  0.26077642  1.70100316 -2.21471246  0.69543931  1.40666068\n",
      " -0.37372743  0.19977161]\n",
      "\tFinal cost=1.0134e+06 final chisq_red=23.181 computed in 42.31s\n",
      "2022-03-24 21:51:53  spectractor.fit.fitter gradient_descent     INFO   \n",
      "\tIteration=1: initial cost=1.0134e+06 initial chisq_red=23.181\n",
      "\t\t Line search: alpha_min=1.87 iter=0 funcalls=5\n",
      "\tParameter shifts: [ 0.02124415  0.00152399  1.09756983 -0.74094921 -0.67486401  0.13137923\n",
      " -0.35177218 -0.3777136 ]\n",
      "\tNew parameters: [-1.06728541  0.26230041  2.79857299 -2.95566167  0.0205753   1.53803991\n",
      " -0.72549961 -0.17794198]\n",
      "\tFinal cost=2.6231e+05 final chisq_red=6.0003 computed in 43.09s\n"
     ]
    }
   ],
   "source": [
    "spectrum = Spectractor(filename, output_directory, guess=[x1,y1], target_label=target, disperser_label=disperser_label, config=config)"
   ]
  },
  {
   "cell_type": "markdown",
   "metadata": {},
   "source": [
    "# Backup output"
   ]
  },
  {
   "cell_type": "code",
   "execution_count": null,
   "metadata": {},
   "outputs": [],
   "source": [
    "copy_tree(output_directory,os.path.join(finalpath_output_spectractor,\"basespec\"))"
   ]
  },
  {
   "cell_type": "code",
   "execution_count": null,
   "metadata": {},
   "outputs": [],
   "source": [
    "copy_tree(output_figures,os.path.join(finalpath_output_spectractor,\"plots\"))"
   ]
  },
  {
   "cell_type": "code",
   "execution_count": null,
   "metadata": {},
   "outputs": [],
   "source": [
    "!ls -l  $finalpath_output_spectractor/basespec"
   ]
  },
  {
   "cell_type": "code",
   "execution_count": null,
   "metadata": {},
   "outputs": [],
   "source": [
    "!ls -l  $finalpath_output_spectractor/plots"
   ]
  },
  {
   "cell_type": "code",
   "execution_count": null,
   "metadata": {},
   "outputs": [],
   "source": [
    "finalpath_output_spectractor"
   ]
  },
  {
   "cell_type": "code",
   "execution_count": null,
   "metadata": {},
   "outputs": [],
   "source": []
  }
 ],
 "metadata": {
  "kernelspec": {
   "display_name": "anaconda3_auxtel_v2",
   "language": "python",
   "name": "anaconda3_auxtel_v2"
  },
  "language_info": {
   "codemirror_mode": {
    "name": "ipython",
    "version": 3
   },
   "file_extension": ".py",
   "mimetype": "text/x-python",
   "name": "python",
   "nbconvert_exporter": "python",
   "pygments_lexer": "ipython3",
   "version": "3.8.5"
  },
  "toc": {
   "base_numbering": 1,
   "nav_menu": {},
   "number_sections": true,
   "sideBar": true,
   "skip_h1_title": false,
   "title_cell": "Table of Contents",
   "title_sidebar": "Contents",
   "toc_cell": false,
   "toc_position": {},
   "toc_section_display": true,
   "toc_window_display": false
  }
 },
 "nbformat": 4,
 "nbformat_minor": 4
}
