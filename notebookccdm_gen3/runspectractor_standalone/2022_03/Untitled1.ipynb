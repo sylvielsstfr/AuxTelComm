{
 "cells": [
  {
   "cell_type": "code",
   "execution_count": 1,
   "id": "0323bc67-5419-4ba1-97ae-593ca61657a7",
   "metadata": {},
   "outputs": [],
   "source": [
    "import numpy as np"
   ]
  },
  {
   "cell_type": "code",
   "execution_count": null,
   "id": "c6897f29-8a31-40ea-8198-8505f51bfb2c",
   "metadata": {},
   "outputs": [],
   "source": [
    "\n"
   ]
  }
 ],
 "metadata": {
  "kernelspec": {
   "display_name": "lsst_distrib_w_2022_09",
   "language": "python",
   "name": "lsst_distrib_w_2022_09"
  },
  "language_info": {
   "codemirror_mode": {
    "name": "ipython",
    "version": 3
   },
   "file_extension": ".py",
   "mimetype": "text/x-python",
   "name": "python",
   "nbconvert_exporter": "python",
   "pygments_lexer": "ipython3",
   "version": "3.8.12"
  }
 },
 "nbformat": 4,
 "nbformat_minor": 5
}
