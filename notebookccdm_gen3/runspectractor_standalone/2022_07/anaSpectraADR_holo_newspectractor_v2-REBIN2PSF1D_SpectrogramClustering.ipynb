{
 "cells": [
  {
   "cell_type": "markdown",
   "metadata": {},
   "source": [
    "#  Analyse spectra ADR holo at AuxTel for Configuration PSF1D REBIN = 2, Search for clustering"
   ]
  },
  {
   "cell_type": "markdown",
   "metadata": {},
   "source": [
    "- author : Sylvie Dagoret-Campagne\n",
    "- affiliation : IJCLab/IN2P3/CNES, DESC-LSST fullmember, behalf AuxTel Teal VERA C. Rubin observatory\n",
    "- \n",
    "- creation date : September 12th  2022\n",
    "- last update : September 12th 2022\n",
    "\n",
    "- **kernel anaconda3_auxtel** at CC or **python 3** locally\n",
    "\n",
    "\n",
    "## Search for cluster Order 1 and order 2"
   ]
  },
  {
   "cell_type": "markdown",
   "metadata": {},
   "source": [
    "# Imports"
   ]
  },
  {
   "cell_type": "code",
   "execution_count": 1,
   "metadata": {},
   "outputs": [],
   "source": [
    "import numpy as np\n",
    "import matplotlib.pyplot as plt\n",
    "%matplotlib inline\n",
    "from mpl_toolkits.axes_grid1 import make_axes_locatable\n",
    "from matplotlib.colors import LogNorm\n",
    "import pandas as pd\n",
    "\n",
    "import matplotlib.ticker                         # here's where the formatter is\n",
    "import os\n",
    "import re\n",
    "import pandas as pd\n",
    "\n",
    "plt.rcParams[\"figure.figsize\"] = (16,4)\n",
    "plt.rcParams[\"axes.labelsize\"] = 'xx-large'\n",
    "plt.rcParams['axes.titlesize'] = 'xx-large'\n",
    "plt.rcParams['xtick.labelsize']= 'xx-large'\n",
    "plt.rcParams['ytick.labelsize']= 'xx-large'"
   ]
  },
  {
   "cell_type": "code",
   "execution_count": 2,
   "metadata": {},
   "outputs": [],
   "source": [
    "import matplotlib.colors as colors\n",
    "import matplotlib.cm as cmx\n",
    "import matplotlib.gridspec as gridspec\n",
    "from matplotlib.patches import Rectangle"
   ]
  },
  {
   "cell_type": "code",
   "execution_count": 3,
   "metadata": {},
   "outputs": [
    {
     "data": {
      "image/png": "[encoded data removed]",
      "text/plain": [
       "<Figure size 360x144 with 1 Axes>"
      ]
     },
     "metadata": {
      "needs_background": "light"
     },
     "output_type": "display_data"
    }
   ],
   "source": [
    "fig=plt.figure(figsize=(5,2))\n",
    "ax=fig.add_subplot(1,1,1)\n",
    "X=np.linspace(-10,10,50)\n",
    "Y=np.sin(X)\n",
    "ax.plot(X,Y)\n",
    "plt.show()               "
   ]
  },
  {
   "cell_type": "code",
   "execution_count": 4,
   "metadata": {},
   "outputs": [],
   "source": [
    "import matplotlib.offsetbox\n",
    "props = dict(boxstyle='round',edgecolor=\"w\",facecolor=\"w\", alpha=0.5)"
   ]
  },
  {
   "cell_type": "code",
   "execution_count": 5,
   "metadata": {},
   "outputs": [],
   "source": [
    "from datetime import datetime,date"
   ]
  },
  {
   "cell_type": "code",
   "execution_count": 6,
   "metadata": {},
   "outputs": [],
   "source": [
    "#pip install fpdf\n",
    "#from fpdf import FPDF\n",
    "\n",
    "import matplotlib.pyplot as plt\n",
    "from matplotlib.backends.backend_pdf import PdfPages"
   ]
  },
  {
   "cell_type": "code",
   "execution_count": 7,
   "metadata": {},
   "outputs": [],
   "source": [
    "today = date.today()\n",
    "string_date=today.strftime(\"%Y-%m-%d\")"
   ]
  },
  {
   "cell_type": "code",
   "execution_count": 8,
   "metadata": {},
   "outputs": [
    {
     "data": {
      "text/plain": [
       "'2022-09-12'"
      ]
     },
     "execution_count": 8,
     "metadata": {},
     "output_type": "execute_result"
    }
   ],
   "source": [
    "string_date"
   ]
  },
  {
   "cell_type": "code",
   "execution_count": 9,
   "metadata": {},
   "outputs": [],
   "source": [
    "from iminuit import Minuit\n",
    "import iminuit"
   ]
  },
  {
   "cell_type": "code",
   "execution_count": 10,
   "metadata": {},
   "outputs": [
    {
     "data": {
      "text/plain": [
       "'2.8.4'"
      ]
     },
     "execution_count": 10,
     "metadata": {},
     "output_type": "execute_result"
    }
   ],
   "source": [
    "iminuit.__version__"
   ]
  },
  {
   "cell_type": "code",
   "execution_count": 11,
   "metadata": {},
   "outputs": [],
   "source": [
    "from astropy.io import fits\n",
    "from spectractor import parameters\n",
    "from spectractor.extractor.extractor import Spectractor, dumpParameters, FullForwardModelFitWorkspace,  run_ffm_minimisation, plot_comparison_truth,dumpfitparameters\n",
    "from spectractor.extractor.spectrum import Spectrum, detect_lines\n",
    "from spectractor.extractor.spectrum import *\n",
    "#from spectractor.extractor.spectroscopy import Lines, Line ,HALPHA, HBETA, O2_1, H2O_1,H2O_2\n",
    "from spectractor.extractor.spectroscopy import Lines, Line ,HALPHA, HBETA, O2_1, H2O_1, ATMOSPHERIC_LINES\n",
    "from spectractor.config import load_config,set_logger\n",
    "from spectractor import parameters\n",
    "from spectractor.extractor.images import *\n",
    "from scipy import ndimage, misc\n",
    "from scipy.interpolate import interp1d"
   ]
  },
  {
   "cell_type": "code",
   "execution_count": 12,
   "metadata": {},
   "outputs": [],
   "source": [
    "import logging"
   ]
  },
  {
   "cell_type": "code",
   "execution_count": 13,
   "metadata": {},
   "outputs": [],
   "source": [
    "H2O_2 = Line(960, atmospheric=True, label=r'$H_2 O$', label_pos=[0.007, 0.02],width_bounds=[5, 30])  # libradtran paper fig.3, broad line"
   ]
  },
  {
   "cell_type": "code",
   "execution_count": 14,
   "metadata": {},
   "outputs": [],
   "source": [
    "from time import sleep"
   ]
  },
  {
   "cell_type": "code",
   "execution_count": 15,
   "metadata": {},
   "outputs": [],
   "source": [
    "from astropy.time import Time\n",
    "import astropy.units as u"
   ]
  },
  {
   "cell_type": "code",
   "execution_count": 16,
   "metadata": {},
   "outputs": [],
   "source": [
    "import pickle"
   ]
  },
  {
   "cell_type": "markdown",
   "metadata": {},
   "source": [
    "# Function"
   ]
  },
  {
   "cell_type": "code",
   "execution_count": 17,
   "metadata": {},
   "outputs": [],
   "source": [
    "def file_tag_forsorting(filename):\n",
    "    # m=re.findall('^Cor_holo4_003_.*([0-9][0-9][0-9][0-9]-[0-9][0-9]-[0-9][0-9]_.*)[.]fits$',filename)\n",
    "    m = re.findall('^exposure_.*([0-9][0-9][0-9][0-9][0-9])_postisrccd.*', filename)\n",
    "    if len(m)>0:\n",
    "        return m[0]\n",
    "    else:\n",
    "        return None\n"
   ]
  },
  {
   "cell_type": "code",
   "execution_count": 18,
   "metadata": {},
   "outputs": [],
   "source": [
    "def subdir_tag_forsorting(subdir):\n",
    "    # m=re.findall('^Cor_holo4_003_.*([0-9][0-9][0-9][0-9]-[0-9][0-9]-[0-9][0-9]_.*)[.]fits$',filename)\n",
    "    m = re.findall('.*([0-9][0-9][0-9][0-9][0-9])$', subdir)\n",
    "    if len(m)>0:\n",
    "        return m[0]\n",
    "    else:\n",
    "        return None\n"
   ]
  },
  {
   "cell_type": "code",
   "execution_count": 19,
   "metadata": {},
   "outputs": [
    {
     "data": {
      "text/plain": [
       "'00330'"
      ]
     },
     "execution_count": 19,
     "metadata": {},
     "output_type": "execute_result"
    }
   ],
   "source": [
    "file_tag_forsorting('exposure_2022031600330_postisrccd.fits')"
   ]
  },
  {
   "cell_type": "code",
   "execution_count": 20,
   "metadata": {},
   "outputs": [
    {
     "data": {
      "text/plain": [
       "'00330'"
      ]
     },
     "execution_count": 20,
     "metadata": {},
     "output_type": "execute_result"
    }
   ],
   "source": [
    "subdir_tag_forsorting('2022031600330')"
   ]
  },
  {
   "cell_type": "markdown",
   "metadata": {},
   "source": [
    "# Config"
   ]
  },
  {
   "cell_type": "code",
   "execution_count": 21,
   "metadata": {},
   "outputs": [],
   "source": [
    "my_logger = logging"
   ]
  },
  {
   "cell_type": "code",
   "execution_count": 22,
   "metadata": {},
   "outputs": [],
   "source": [
    "# path index for each month\n",
    "DATE=\"20220316\"\n",
    "#DATE=\"20211104\"\n",
    "filterdispersername = \"empty~holo4_003\"\n",
    "#filterdispersername = \"BG40~holo4_003\"\n",
    "imagemode = \"postISRCCD\"\n",
    "#imagemode = \"unflattened\""
   ]
  },
  {
   "cell_type": "code",
   "execution_count": 23,
   "metadata": {},
   "outputs": [],
   "source": [
    "version=\"v5.0\""
   ]
  },
  {
   "cell_type": "code",
   "execution_count": 24,
   "metadata": {},
   "outputs": [],
   "source": [
    "# Choose the config filename\n",
    "list_of_spectractorconfigfiles= ['auxtel_config_holo_DECONVOLUTION_PSF1D.ini' ,\n",
    "                                 'auxtel_config_holo_DECONVOLUTION_PSF2D.ini',\n",
    "                                 'auxtel_config_holo_DECONVOLUTION_FFM.ini',\n",
    "                                 'auxtel_config_holo_DECONVOLUTION_PSF2DFFM.ini',\n",
    "                                 'auxtel_config_holo_DECONVOLUTION_REBIN2PSF1D.ini',\n",
    "                                 'auxtel_config_holo_DECONVOLUTION_REBIN2FFM.ini',\n",
    "                                 'auxtel_config_holo_DECONVOLUTION_REBIN2PSF1DFFM300650.ini',\n",
    "                                 'auxtel_config_holo_DECONVOLUTION_REBIN2PSF2D.ini',\n",
    "                                 'auxtel_config_holo_DECONVOLUTION_REBIN2PSF1DrotA.ini',\n",
    "                                 'auxtel_config_holo_DECONVOLUTION_REBIN2PSF1DrotB.ini',\n",
    "                                 'auxtel_config_holo_DECONVOLUTION_REBIN2PSF1DrotC.ini',\n",
    "                                 'auxtel_config_holo_DECONVOLUTION_REBIN2PSF1DrotD.ini']\n",
    "config_idx = 5    \n",
    "\n",
    "configfilename= os.path.join(\"./config\",list_of_spectractorconfigfiles[config_idx])\n",
    "#configdir = (list_of_spectractorconfigfiles[config_idx].split(\"_\")[-1]).split(\".\") [0]\n",
    "configdir = \"config_\" + (list_of_spectractorconfigfiles[config_idx].split(\"auxtel_config_holo_\")[-1]).split(\".\") [0]"
   ]
  },
  {
   "cell_type": "code",
   "execution_count": 25,
   "metadata": {},
   "outputs": [
    {
     "data": {
      "text/plain": [
       "'config_DECONVOLUTION_REBIN2FFM'"
      ]
     },
     "execution_count": 25,
     "metadata": {},
     "output_type": "execute_result"
    }
   ],
   "source": [
    "configdir "
   ]
  },
  {
   "cell_type": "code",
   "execution_count": 26,
   "metadata": {},
   "outputs": [],
   "source": [
    "load_config(configfilename)"
   ]
  },
  {
   "cell_type": "code",
   "execution_count": 27,
   "metadata": {},
   "outputs": [],
   "source": [
    "#parameters.LAMBDA_MAX=700\n",
    "#parameters.LAMBDA_MIN=300"
   ]
  },
  {
   "cell_type": "code",
   "execution_count": 28,
   "metadata": {},
   "outputs": [
    {
     "name": "stdout",
     "output_type": "stream",
     "text": [
      "ASTROMETRYNET_DIR \n",
      "BGD_ORDER 1\n",
      "CALIB_BGD_NPARAMS 4\n",
      "CALIB_BGD_ORDER 3\n",
      "CALIB_BGD_WIDTH 15\n",
      "CALIB_PEAK_WIDTH 7\n",
      "CALIB_SAVGOL_ORDER 2\n",
      "CALIB_SAVGOL_WINDOW 5\n",
      "CCD_ARCSEC2RADIANS 4.84813681109536e-06\n",
      "CCD_GAIN 1.1\n",
      "CCD_IMSIZE 2048\n",
      "CCD_MAXADU 170000\n",
      "CCD_PIXEL2ARCSEC 0.1904\n",
      "CCD_PIXEL2MM 0.02\n",
      "CCD_REBIN 2\n",
      "CONFIG_DIR /sps/lsst/groups/auxtel/softs/utils/anaconda3/lib/python3.8/site-packages/Spectractor-2.1-py3.8.egg/spectractor/../config/\n",
      "DEBUG False\n",
      "DEBUG_LOGGING False\n",
      "DISPERSER_DIR /sps/lsst/groups/auxtel/softs/utils/anaconda3/lib/python3.8/site-packages/Spectractor-2.1-py3.8.egg/spectractor/extractor/dispersers/\n",
      "DISPLAY False\n",
      "DISTANCE2CCD 175\n",
      "DISTANCE2CCD_ERR 0.75\n",
      "FGB37 {'label': 'FGB37', 'min': 350, 'max': 750}\n",
      "FILTERS [{'label': 'RG715', 'min': 690, 'max': 1100}, {'label': 'FGB37', 'min': 350, 'max': 750}, {'label': 'Halfa', 'min': 0.0006431, 'max': 0.0006686999999999999}, {'label': 'Z-Gunn', 'min': 800, 'max': 1100}]\n",
      "FLAM_TO_ADURATE 5175865186660.421\n",
      "GRATING_ORDER_2OVER1 0.1\n",
      "GROOVES_PER_MM 350\n",
      "HALPHA_CENTER 0.0006559\n",
      "HALPHA_FILTER {'label': 'Halfa', 'min': 0.0006431, 'max': 0.0006686999999999999}\n",
      "HALPHA_WIDTH 6.4e-06\n",
      "LAMBDAS [ 300  301  302  303  304  305  306  307  308  309  310  311  312  313\n",
      "  314  315  316  317  318  319  320  321  322  323  324  325  326  327\n",
      "  328  329  330  331  332  333  334  335  336  337  338  339  340  341\n",
      "  342  343  344  345  346  347  348  349  350  351  352  353  354  355\n",
      "  356  357  358  359  360  361  362  363  364  365  366  367  368  369\n",
      "  370  371  372  373  374  375  376  377  378  379  380  381  382  383\n",
      "  384  385  386  387  388  389  390  391  392  393  394  395  396  397\n",
      "  398  399  400  401  402  403  404  405  406  407  408  409  410  411\n",
      "  412  413  414  415  416  417  418  419  420  421  422  423  424  425\n",
      "  426  427  428  429  430  431  432  433  434  435  436  437  438  439\n",
      "  440  441  442  443  444  445  446  447  448  449  450  451  452  453\n",
      "  454  455  456  457  458  459  460  461  462  463  464  465  466  467\n",
      "  468  469  470  471  472  473  474  475  476  477  478  479  480  481\n",
      "  482  483  484  485  486  487  488  489  490  491  492  493  494  495\n",
      "  496  497  498  499  500  501  502  503  504  505  506  507  508  509\n",
      "  510  511  512  513  514  515  516  517  518  519  520  521  522  523\n",
      "  524  525  526  527  528  529  530  531  532  533  534  535  536  537\n",
      "  538  539  540  541  542  543  544  545  546  547  548  549  550  551\n",
      "  552  553  554  555  556  557  558  559  560  561  562  563  564  565\n",
      "  566  567  568  569  570  571  572  573  574  575  576  577  578  579\n",
      "  580  581  582  583  584  585  586  587  588  589  590  591  592  593\n",
      "  594  595  596  597  598  599  600  601  602  603  604  605  606  607\n",
      "  608  609  610  611  612  613  614  615  616  617  618  619  620  621\n",
      "  622  623  624  625  626  627  628  629  630  631  632  633  634  635\n",
      "  636  637  638  639  640  641  642  643  644  645  646  647  648  649\n",
      "  650  651  652  653  654  655  656  657  658  659  660  661  662  663\n",
      "  664  665  666  667  668  669  670  671  672  673  674  675  676  677\n",
      "  678  679  680  681  682  683  684  685  686  687  688  689  690  691\n",
      "  692  693  694  695  696  697  698  699  700  701  702  703  704  705\n",
      "  706  707  708  709  710  711  712  713  714  715  716  717  718  719\n",
      "  720  721  722  723  724  725  726  727  728  729  730  731  732  733\n",
      "  734  735  736  737  738  739  740  741  742  743  744  745  746  747\n",
      "  748  749  750  751  752  753  754  755  756  757  758  759  760  761\n",
      "  762  763  764  765  766  767  768  769  770  771  772  773  774  775\n",
      "  776  777  778  779  780  781  782  783  784  785  786  787  788  789\n",
      "  790  791  792  793  794  795  796  797  798  799  800  801  802  803\n",
      "  804  805  806  807  808  809  810  811  812  813  814  815  816  817\n",
      "  818  819  820  821  822  823  824  825  826  827  828  829  830  831\n",
      "  832  833  834  835  836  837  838  839  840  841  842  843  844  845\n",
      "  846  847  848  849  850  851  852  853  854  855  856  857  858  859\n",
      "  860  861  862  863  864  865  866  867  868  869  870  871  872  873\n",
      "  874  875  876  877  878  879  880  881  882  883  884  885  886  887\n",
      "  888  889  890  891  892  893  894  895  896  897  898  899  900  901\n",
      "  902  903  904  905  906  907  908  909  910  911  912  913  914  915\n",
      "  916  917  918  919  920  921  922  923  924  925  926  927  928  929\n",
      "  930  931  932  933  934  935  936  937  938  939  940  941  942  943\n",
      "  944  945  946  947  948  949  950  951  952  953  954  955  956  957\n",
      "  958  959  960  961  962  963  964  965  966  967  968  969  970  971\n",
      "  972  973  974  975  976  977  978  979  980  981  982  983  984  985\n",
      "  986  987  988  989  990  991  992  993  994  995  996  997  998  999\n",
      " 1000 1001 1002 1003 1004 1005 1006 1007 1008 1009 1010 1011 1012 1013\n",
      " 1014 1015 1016 1017 1018 1019 1020 1021 1022 1023 1024 1025 1026 1027\n",
      " 1028 1029 1030 1031 1032 1033 1034 1035 1036 1037 1038 1039 1040 1041\n",
      " 1042 1043 1044 1045 1046 1047 1048 1049 1050 1051 1052 1053 1054 1055\n",
      " 1056 1057 1058 1059 1060 1061 1062 1063 1064 1065 1066 1067 1068 1069\n",
      " 1070 1071 1072 1073 1074 1075 1076 1077 1078 1079 1080 1081 1082 1083\n",
      " 1084 1085 1086 1087 1088 1089 1090 1091 1092 1093 1094 1095 1096 1097\n",
      " 1098 1099]\n",
      "LAMBDA_CONSTRUCTOR 0.000639\n",
      "LAMBDA_MAX 1100\n",
      "LAMBDA_MIN 300\n",
      "LAMBDA_STEP 0.2\n",
      "LIBRADTRAN_DIR \n",
      "LINEWIDTH 2\n",
      "MY_FORMAT %(asctime)-20s %(name)-10s %(funcName)-20s %(levelname)-6s %(message)s\n",
      "OBS_ALTITUDE 2.66299616375123\n",
      "OBS_CAMERA_DEC_FLIP_SIGN 1\n",
      "OBS_CAMERA_RA_FLIP_SIGN 1\n",
      "OBS_CAMERA_ROTATION 0\n",
      "OBS_DIAMETER 1.2 m\n",
      "OBS_EPOCH J2000.0\n",
      "OBS_FULL_INSTRUMENT_TRANSMISSON calexp_2020031500162-EMPTY_ronchi90lpmm-det000_auxtel_transmission.txt\n",
      "OBS_LATITUDE -30.2446389756252\n",
      "OBS_NAME AUXTEL\n",
      "OBS_OBJECT_TYPE STAR\n",
      "OBS_QUANTUM_EFFICIENCY calexp_2020031500162-EMPTY_ronchi90lpmm-det000_auxtel_transmission.txt\n",
      "OBS_SURFACE 1.1309733552923256 m2\n",
      "OBS_TELESCOPE_TRANSMISSION calexp_2020031500162-EMPTY_ronchi90lpmm-det000_auxtel_transmission.txt\n",
      "OBS_TRANSMISSION_SYSTEMATICS 0.005\n",
      "PAPER False\n",
      "PIXDIST_BACKGROUND 70\n",
      "PIXSHIFT_PRIOR 5\n",
      "PIXWIDTH_BACKGROUND 20\n",
      "PIXWIDTH_BOXSIZE 10\n",
      "PIXWIDTH_SIGNAL 20\n",
      "PLATE_CENTER_SHIFT_X -6.0\n",
      "PLATE_CENTER_SHIFT_X_ERR 2.0\n",
      "PLATE_CENTER_SHIFT_Y -8.0\n",
      "PLATE_CENTER_SHIFT_Y_ERR 2.0\n",
      "PLOT_DIR plots\n",
      "PLOT_ROT_LABEL $\\alpha$ [degrees]\n",
      "PLOT_XLABEL $x$ [pixels]\n",
      "PLOT_YLABEL $y$ [pixels]\n",
      "PSF_FIT_REG_PARAM 1\n",
      "PSF_FWHM_CLIP 2\n",
      "PSF_PIXEL_STEP_TRANSVERSE_FIT 25\n",
      "PSF_POLY_ORDER 2\n",
      "PSF_TYPE Moffat\n",
      "RG715 {'label': 'RG715', 'min': 690, 'max': 1100}\n",
      "ROT_ANGLE_MAX 10\n",
      "ROT_ANGLE_MIN -10\n",
      "ROT_ANGL_MAX 10\n",
      "ROT_ORDER 5\n",
      "ROT_PREFILTER True\n",
      "SAVE False\n",
      "SED_UNIT 1.0 erg / (cm2 nm s)\n",
      "SPECTRACTOR_COMPUTE_ROTATION_ANGLE disperser\n",
      "SPECTRACTOR_DECONVOLUTION_FFM True\n",
      "SPECTRACTOR_DECONVOLUTION_PSF2D False\n",
      "SPECTRACTOR_DECONVOLUTION_SIGMA_CLIP 100\n",
      "SPECTRACTOR_FIT_TARGET_CENTROID fit\n",
      "SPEC_ORDER 1\n",
      "THROUGHPUT_DIR /sps/lsst/groups/auxtel/softs/utils/anaconda3/lib/python3.8/site-packages/Spectractor-2.1-py3.8.egg/spectractor/simulation/AuxTelThroughput/\n",
      "TIME_UNIT 1.0 s\n",
      "VERBOSE False\n",
      "XWINDOW 50\n",
      "XWINDOW_ROT 25\n",
      "YWINDOW 50\n",
      "YWINDOW_ROT 25\n",
      "ZGUNN {'label': 'Z-Gunn', 'min': 800, 'max': 1100}\n",
      "const <module 'astropy.constants' from '/pbs/home/d/dagoret/.local/lib/python3.8/site-packages/astropy/constants/__init__.py'>\n",
      "hc 1.9864458571489286e-25 J m\n",
      "mpl <module 'matplotlib' from '/opt/conda/lib/python3.8/site-packages/matplotlib/__init__.py'>\n",
      "mypath /sps/lsst/groups/auxtel/softs/utils/anaconda3/lib/python3.8/site-packages/Spectractor-2.1-py3.8.egg/spectractor\n",
      "np <module 'numpy' from '/opt/conda/lib/python3.8/site-packages/numpy/__init__.py'>\n",
      "os <module 'os' from '/sps/lsst/groups/auxtel/softs/utils/anaconda3/lib/python3.8/os.py'>\n",
      "units <module 'astropy.units' from '/pbs/home/d/dagoret/.local/lib/python3.8/site-packages/astropy/units/__init__.py'>\n",
      "wl_dwl_unit nm2\n"
     ]
    }
   ],
   "source": [
    "dumpParameters()"
   ]
  },
  {
   "cell_type": "code",
   "execution_count": 29,
   "metadata": {},
   "outputs": [
    {
     "data": {
      "text/plain": [
       "'REBIN2FFM'"
      ]
     },
     "execution_count": 29,
     "metadata": {},
     "output_type": "execute_result"
    }
   ],
   "source": [
    "configmode = list_of_spectractorconfigfiles[config_idx].split(\"auxtel_config_holo_DECONVOLUTION_\")[-1].split(\".\") [0]\n",
    "configmode"
   ]
  },
  {
   "cell_type": "markdown",
   "metadata": {},
   "source": [
    "# Path"
   ]
  },
  {
   "cell_type": "code",
   "execution_count": 30,
   "metadata": {},
   "outputs": [],
   "source": [
    "HOSTCC=True\n",
    "LAPTOP=False"
   ]
  },
  {
   "cell_type": "code",
   "execution_count": 31,
   "metadata": {},
   "outputs": [],
   "source": [
    "# Set path depending on which computer running (according HOSTCC)\n",
    "if HOSTCC:\n",
    "    path_auxtel=\"/sps/lsst/groups/auxtel\"\n",
    "    path_spectractor=os.path.join(path_auxtel,\"softs/github/desc/Spectractor\")\n",
    "    path_spectractor_config=os.path.join(path_spectractor,\"config\")\n",
    "    path_images=os.path.join(path_auxtel,\"data/2022/\"+filterdispersername+\"/\"+DATE)\n",
    "    if configdir == \"\":\n",
    "        path_output_spectractor=os.path.join(path_auxtel,\"data/2022/OutputSpectractor/\"+imagemode+\"/\"+filterdispersername+\"/\"+DATE)\n",
    "    else:\n",
    "        path_output_spectractor=os.path.join(path_auxtel,\"data/2022/OutputSpectractor/\"+imagemode+\"/\"+filterdispersername+\"/\"+configdir+\"/\"+DATE)\n",
    "        path_topoutput_spectractor=os.path.join(path_auxtel,\"data/2022/OutputSpectractor/\"+imagemode+\"/\"+filterdispersername+\"/\"+configdir)\n",
    "        path_toptopoutput_spectractor=os.path.join(path_auxtel,\"data/2022/OutputSpectractor/\"+imagemode+\"/\"+filterdispersername)\n",
    "        path_toptoptopoutput_spectractor=os.path.join(path_auxtel,\"data/2022/OutputSpectractor/\"+imagemode)\n",
    "\n",
    "else:\n",
    "    if not LAPTOP:\n",
    "        path_auxtel=\"/Users/sylvie/DATA/AuxTelData2022\"\n",
    "        path_spectractor=os.path.join(path_auxtel,\"/Users/sylvie/MacOSX/GitHub/LSST/Spectractor\")\n",
    "        path_spectractor_config=os.path.join(path_spectractor,\"config\")\n",
    "        path_images=os.path.join(path_auxtel,\"data/2022/\"+filterdispersername+\"/\"+DATE)\n",
    "        if configdir == \"\":\n",
    "            path_output_spectractor=os.path.join(path_auxtel,\"data/2022/OutputSpectractor/\"+imagemode+\"/\"+filterdispersername+\"/\"+DATE)\n",
    "        else:\n",
    "            path_output_spectractor=os.path.join(path_auxtel,\"data/2022/OutputSpectractor/\"+imagemode+\"/\"+filterdispersername+\"/\"+configdir+\"/\"+DATE)\n",
    "            path_topoutput_spectractor=os.path.join(path_auxtel,\"data/2022/OutputSpectractor/\"+imagemode+\"/\"+filterdispersername+\"/\"+configdir)\n",
    "            path_toptopoutput_spectractor=os.path.join(path_auxtel,\"data/2022/OutputSpectractor/\"+imagemode+\"/\"+filterdispersername)\n",
    "            path_toptoptopoutput_spectractor=os.path.join(path_auxtel,\"data/2022/OutputSpectractor/\"+imagemode)\n",
    "    else:\n",
    "        path_auxtel=\"/Users/dagoret/DATA/AuxTelData2022\"\n",
    "        path_spectractor=os.path.join(path_auxtel,\"/Users/dagoret/MacOSX/GitHub/LSST/Spectractor\")\n",
    "        path_spectractor_config=os.path.join(path_spectractor,\"config\")\n",
    "        path_images=os.path.join(path_auxtel,\"data/2022/\"+filterdispersername+\"/\"+DATE)\n",
    "        if configdir == \"\":\n",
    "            path_output_spectractor=os.path.join(path_auxtel,\"data/2022/OutputSpectractor/\"+imagemode+\"/\"+filterdispersername+\"/\"+DATE)\n",
    "        else:\n",
    "            path_output_spectractor=os.path.join(path_auxtel,\"data/2022/OutputSpectractor/\"+imagemode+\"/\"+filterdispersername+\"/\"+configdir+\"/\"+DATE)\n",
    "            path_topoutput_spectractor=os.path.join(path_auxtel,\"data/2022/OutputSpectractor/\"+imagemode+\"/\"+filterdispersername+\"/\"+configdir)\n",
    "            path_toptopoutput_spectractor=os.path.join(path_auxtel,\"data/2022/OutputSpectractor/\"+imagemode+\"/\"+filterdispersername)\n",
    "            path_toptoptopoutput_spectractor=os.path.join(path_auxtel,\"data/2022/OutputSpectractor/\"+imagemode)\n",
    "                "
   ]
  },
  {
   "cell_type": "code",
   "execution_count": 32,
   "metadata": {},
   "outputs": [
    {
     "data": {
      "text/plain": [
       "'/sps/lsst/groups/auxtel/data/2022/OutputSpectractor/postISRCCD/empty~holo4_003/config_DECONVOLUTION_REBIN2FFM/20220316'"
      ]
     },
     "execution_count": 32,
     "metadata": {},
     "output_type": "execute_result"
    }
   ],
   "source": [
    "path_output_spectractor"
   ]
  },
  {
   "cell_type": "code",
   "execution_count": 33,
   "metadata": {},
   "outputs": [
    {
     "name": "stdout",
     "output_type": "stream",
     "text": [
      "total 0\n",
      "drwxr-xr-x 1 dagoret lsst 2 Jul 10 12:23 2022031600330\n",
      "drwxr-xr-x 1 dagoret lsst 2 Jul  9 15:19 2022031600337\n",
      "drwxr-xr-x 1 dagoret lsst 2 Jul  9 16:10 2022031600344\n",
      "drwxr-xr-x 1 dagoret lsst 2 Jul  9 16:40 2022031600345\n",
      "drwxr-xr-x 1 dagoret lsst 2 Jul  9 19:07 2022031600351\n",
      "drwxr-xr-x 1 dagoret lsst 2 Jul  9 20:12 2022031600352\n",
      "drwxr-xr-x 1 dagoret lsst 2 Jul  9 20:36 2022031600358\n",
      "drwxr-xr-x 1 dagoret lsst 2 Jul  9 21:58 2022031600359\n",
      "drwxr-xr-x 1 dagoret lsst 2 Jul  9 22:22 2022031600365\n"
     ]
    }
   ],
   "source": [
    "! ls -l $path_output_spectractor"
   ]
  },
  {
   "cell_type": "code",
   "execution_count": 34,
   "metadata": {},
   "outputs": [
    {
     "name": "stdout",
     "output_type": "stream",
     "text": [
      ">>>>> Spectractor configuration filename : ./config/auxtel_config_holo_DECONVOLUTION_REBIN2FFM.ini\n"
     ]
    }
   ],
   "source": [
    "# standard configuration for spectractor\n",
    "#config = os.path.join(path_spectractor_config,\"auxtel.ini\")\n",
    "#config=os.path.join(\"./config\",configfilename)\n",
    "config=configfilename\n",
    "print(f\">>>>> Spectractor configuration filename : {configfilename}\")"
   ]
  },
  {
   "cell_type": "code",
   "execution_count": 35,
   "metadata": {},
   "outputs": [],
   "source": [
    "load_config(configfilename)"
   ]
  },
  {
   "cell_type": "markdown",
   "metadata": {},
   "source": [
    "## Logbook for file selection"
   ]
  },
  {
   "cell_type": "code",
   "execution_count": 36,
   "metadata": {},
   "outputs": [],
   "source": [
    "filename_logbook='logbooks/auxtellogbook_'+filterdispersername+\"_\"+DATE+'_' + version+'.csv'"
   ]
  },
  {
   "cell_type": "code",
   "execution_count": 37,
   "metadata": {},
   "outputs": [],
   "source": [
    "df=pd.read_csv(filename_logbook,index_col=0)"
   ]
  },
  {
   "cell_type": "code",
   "execution_count": 38,
   "metadata": {},
   "outputs": [],
   "source": [
    "pd.set_option('display.max_rows', None)"
   ]
  },
  {
   "cell_type": "code",
   "execution_count": 39,
   "metadata": {},
   "outputs": [
    {
     "data": {
      "text/html": [
       "<div>\n",
       "<style scoped>\n",
       "    .dataframe tbody tr th:only-of-type {\n",
       "        vertical-align: middle;\n",
       "    }\n",
       "\n",
       "    .dataframe tbody tr th {\n",
       "        vertical-align: top;\n",
       "    }\n",
       "\n",
       "    .dataframe thead th {\n",
       "        text-align: right;\n",
       "    }\n",
       "</style>\n",
       "<table border=\"1\" class=\"dataframe\">\n",
       "  <thead>\n",
       "    <tr style=\"text-align: right;\">\n",
       "      <th></th>\n",
       "      <th>index</th>\n",
       "      <th>date</th>\n",
       "      <th>path</th>\n",
       "      <th>file</th>\n",
       "      <th>num</th>\n",
       "      <th>object</th>\n",
       "      <th>filter</th>\n",
       "      <th>disperser</th>\n",
       "      <th>airmass</th>\n",
       "      <th>exposure</th>\n",
       "      <th>...</th>\n",
       "      <th>temperature</th>\n",
       "      <th>humidity</th>\n",
       "      <th>windspd</th>\n",
       "      <th>Obj-posXpix</th>\n",
       "      <th>Obj-posYpix</th>\n",
       "      <th>Dx</th>\n",
       "      <th>Dy</th>\n",
       "      <th>skip</th>\n",
       "      <th>run</th>\n",
       "      <th>quality</th>\n",
       "    </tr>\n",
       "  </thead>\n",
       "  <tbody>\n",
       "    <tr>\n",
       "      <th>0</th>\n",
       "      <td>0</td>\n",
       "      <td>2022-03-17T01:59:37.776</td>\n",
       "      <td>/sps/lsst/groups/auxtel/data/2022/empty~holo4_...</td>\n",
       "      <td>exposure_2022031600330_postisrccd.fits</td>\n",
       "      <td>330</td>\n",
       "      <td>eta dor</td>\n",
       "      <td>empty_1</td>\n",
       "      <td>holo4_003</td>\n",
       "      <td>1.385409</td>\n",
       "      <td>20.0</td>\n",
       "      <td>...</td>\n",
       "      <td>10.6</td>\n",
       "      <td>44.0</td>\n",
       "      <td>7.2</td>\n",
       "      <td>NaN</td>\n",
       "      <td>NaN</td>\n",
       "      <td>NaN</td>\n",
       "      <td>NaN</td>\n",
       "      <td></td>\n",
       "      <td>NaN</td>\n",
       "      <td>NaN</td>\n",
       "    </tr>\n",
       "    <tr>\n",
       "      <th>1</th>\n",
       "      <td>1</td>\n",
       "      <td>2022-03-17T02:00:10.693</td>\n",
       "      <td>/sps/lsst/groups/auxtel/data/2022/empty~holo4_...</td>\n",
       "      <td>exposure_2022031600331_postisrccd.fits</td>\n",
       "      <td>331</td>\n",
       "      <td>eta dor</td>\n",
       "      <td>empty_1</td>\n",
       "      <td>holo4_003</td>\n",
       "      <td>1.386483</td>\n",
       "      <td>20.0</td>\n",
       "      <td>...</td>\n",
       "      <td>10.6</td>\n",
       "      <td>44.0</td>\n",
       "      <td>7.4</td>\n",
       "      <td>NaN</td>\n",
       "      <td>NaN</td>\n",
       "      <td>NaN</td>\n",
       "      <td>NaN</td>\n",
       "      <td></td>\n",
       "      <td>NaN</td>\n",
       "      <td>NaN</td>\n",
       "    </tr>\n",
       "    <tr>\n",
       "      <th>2</th>\n",
       "      <td>2</td>\n",
       "      <td>2022-03-17T02:03:04.275</td>\n",
       "      <td>/sps/lsst/groups/auxtel/data/2022/empty~holo4_...</td>\n",
       "      <td>exposure_2022031600337_postisrccd.fits</td>\n",
       "      <td>337</td>\n",
       "      <td>eta dor</td>\n",
       "      <td>empty_1</td>\n",
       "      <td>holo4_003</td>\n",
       "      <td>1.392269</td>\n",
       "      <td>20.0</td>\n",
       "      <td>...</td>\n",
       "      <td>10.6</td>\n",
       "      <td>43.0</td>\n",
       "      <td>7.4</td>\n",
       "      <td>NaN</td>\n",
       "      <td>NaN</td>\n",
       "      <td>NaN</td>\n",
       "      <td>NaN</td>\n",
       "      <td></td>\n",
       "      <td>NaN</td>\n",
       "      <td>NaN</td>\n",
       "    </tr>\n",
       "    <tr>\n",
       "      <th>3</th>\n",
       "      <td>3</td>\n",
       "      <td>2022-03-17T02:03:37.365</td>\n",
       "      <td>/sps/lsst/groups/auxtel/data/2022/empty~holo4_...</td>\n",
       "      <td>exposure_2022031600338_postisrccd.fits</td>\n",
       "      <td>338</td>\n",
       "      <td>eta dor</td>\n",
       "      <td>empty_1</td>\n",
       "      <td>holo4_003</td>\n",
       "      <td>1.393378</td>\n",
       "      <td>20.0</td>\n",
       "      <td>...</td>\n",
       "      <td>10.6</td>\n",
       "      <td>43.0</td>\n",
       "      <td>7.4</td>\n",
       "      <td>NaN</td>\n",
       "      <td>NaN</td>\n",
       "      <td>NaN</td>\n",
       "      <td>NaN</td>\n",
       "      <td></td>\n",
       "      <td>NaN</td>\n",
       "      <td>NaN</td>\n",
       "    </tr>\n",
       "    <tr>\n",
       "      <th>4</th>\n",
       "      <td>4</td>\n",
       "      <td>2022-03-17T02:06:31.026</td>\n",
       "      <td>/sps/lsst/groups/auxtel/data/2022/empty~holo4_...</td>\n",
       "      <td>exposure_2022031600344_postisrccd.fits</td>\n",
       "      <td>344</td>\n",
       "      <td>eta dor</td>\n",
       "      <td>empty_1</td>\n",
       "      <td>holo4_003</td>\n",
       "      <td>1.399309</td>\n",
       "      <td>20.0</td>\n",
       "      <td>...</td>\n",
       "      <td>10.5</td>\n",
       "      <td>43.0</td>\n",
       "      <td>8.2</td>\n",
       "      <td>NaN</td>\n",
       "      <td>NaN</td>\n",
       "      <td>NaN</td>\n",
       "      <td>NaN</td>\n",
       "      <td></td>\n",
       "      <td>NaN</td>\n",
       "      <td>NaN</td>\n",
       "    </tr>\n",
       "    <tr>\n",
       "      <th>5</th>\n",
       "      <td>5</td>\n",
       "      <td>2022-03-17T02:07:03.927</td>\n",
       "      <td>/sps/lsst/groups/auxtel/data/2022/empty~holo4_...</td>\n",
       "      <td>exposure_2022031600345_postisrccd.fits</td>\n",
       "      <td>345</td>\n",
       "      <td>eta dor</td>\n",
       "      <td>empty_1</td>\n",
       "      <td>holo4_003</td>\n",
       "      <td>1.400449</td>\n",
       "      <td>20.0</td>\n",
       "      <td>...</td>\n",
       "      <td>10.5</td>\n",
       "      <td>43.0</td>\n",
       "      <td>7.6</td>\n",
       "      <td>NaN</td>\n",
       "      <td>NaN</td>\n",
       "      <td>NaN</td>\n",
       "      <td>NaN</td>\n",
       "      <td></td>\n",
       "      <td>NaN</td>\n",
       "      <td>NaN</td>\n",
       "    </tr>\n",
       "    <tr>\n",
       "      <th>6</th>\n",
       "      <td>6</td>\n",
       "      <td>2022-03-17T02:11:00.681</td>\n",
       "      <td>/sps/lsst/groups/auxtel/data/2022/empty~holo4_...</td>\n",
       "      <td>exposure_2022031600351_postisrccd.fits</td>\n",
       "      <td>351</td>\n",
       "      <td>HD111980</td>\n",
       "      <td>empty_1</td>\n",
       "      <td>holo4_003</td>\n",
       "      <td>1.647734</td>\n",
       "      <td>20.0</td>\n",
       "      <td>...</td>\n",
       "      <td>10.5</td>\n",
       "      <td>43.0</td>\n",
       "      <td>13.1</td>\n",
       "      <td>300.0</td>\n",
       "      <td>1700.0</td>\n",
       "      <td>NaN</td>\n",
       "      <td>NaN</td>\n",
       "      <td></td>\n",
       "      <td>1.0</td>\n",
       "      <td>1.0</td>\n",
       "    </tr>\n",
       "    <tr>\n",
       "      <th>7</th>\n",
       "      <td>7</td>\n",
       "      <td>2022-03-17T02:11:33.581</td>\n",
       "      <td>/sps/lsst/groups/auxtel/data/2022/empty~holo4_...</td>\n",
       "      <td>exposure_2022031600352_postisrccd.fits</td>\n",
       "      <td>352</td>\n",
       "      <td>HD111980</td>\n",
       "      <td>empty_1</td>\n",
       "      <td>holo4_003</td>\n",
       "      <td>1.643280</td>\n",
       "      <td>20.0</td>\n",
       "      <td>...</td>\n",
       "      <td>10.5</td>\n",
       "      <td>43.0</td>\n",
       "      <td>13.1</td>\n",
       "      <td>NaN</td>\n",
       "      <td>NaN</td>\n",
       "      <td>NaN</td>\n",
       "      <td>NaN</td>\n",
       "      <td></td>\n",
       "      <td>NaN</td>\n",
       "      <td>NaN</td>\n",
       "    </tr>\n",
       "    <tr>\n",
       "      <th>8</th>\n",
       "      <td>8</td>\n",
       "      <td>2022-03-17T02:14:30.261</td>\n",
       "      <td>/sps/lsst/groups/auxtel/data/2022/empty~holo4_...</td>\n",
       "      <td>exposure_2022031600358_postisrccd.fits</td>\n",
       "      <td>358</td>\n",
       "      <td>HD111980</td>\n",
       "      <td>empty_1</td>\n",
       "      <td>holo4_003</td>\n",
       "      <td>1.619945</td>\n",
       "      <td>20.0</td>\n",
       "      <td>...</td>\n",
       "      <td>10.5</td>\n",
       "      <td>43.0</td>\n",
       "      <td>12.1</td>\n",
       "      <td>NaN</td>\n",
       "      <td>NaN</td>\n",
       "      <td>NaN</td>\n",
       "      <td>NaN</td>\n",
       "      <td></td>\n",
       "      <td>NaN</td>\n",
       "      <td>NaN</td>\n",
       "    </tr>\n",
       "    <tr>\n",
       "      <th>9</th>\n",
       "      <td>9</td>\n",
       "      <td>2022-03-17T02:15:03.181</td>\n",
       "      <td>/sps/lsst/groups/auxtel/data/2022/empty~holo4_...</td>\n",
       "      <td>exposure_2022031600359_postisrccd.fits</td>\n",
       "      <td>359</td>\n",
       "      <td>HD111980</td>\n",
       "      <td>empty_1</td>\n",
       "      <td>holo4_003</td>\n",
       "      <td>1.615702</td>\n",
       "      <td>20.0</td>\n",
       "      <td>...</td>\n",
       "      <td>10.5</td>\n",
       "      <td>44.0</td>\n",
       "      <td>6.9</td>\n",
       "      <td>NaN</td>\n",
       "      <td>NaN</td>\n",
       "      <td>NaN</td>\n",
       "      <td>NaN</td>\n",
       "      <td></td>\n",
       "      <td>NaN</td>\n",
       "      <td>NaN</td>\n",
       "    </tr>\n",
       "    <tr>\n",
       "      <th>10</th>\n",
       "      <td>10</td>\n",
       "      <td>2022-03-17T02:17:59.397</td>\n",
       "      <td>/sps/lsst/groups/auxtel/data/2022/empty~holo4_...</td>\n",
       "      <td>exposure_2022031600365_postisrccd.fits</td>\n",
       "      <td>365</td>\n",
       "      <td>HD111980</td>\n",
       "      <td>empty_1</td>\n",
       "      <td>holo4_003</td>\n",
       "      <td>1.593415</td>\n",
       "      <td>20.0</td>\n",
       "      <td>...</td>\n",
       "      <td>10.5</td>\n",
       "      <td>42.0</td>\n",
       "      <td>6.8</td>\n",
       "      <td>NaN</td>\n",
       "      <td>NaN</td>\n",
       "      <td>NaN</td>\n",
       "      <td>NaN</td>\n",
       "      <td></td>\n",
       "      <td>NaN</td>\n",
       "      <td>NaN</td>\n",
       "    </tr>\n",
       "    <tr>\n",
       "      <th>11</th>\n",
       "      <td>11</td>\n",
       "      <td>2022-03-17T02:18:32.481</td>\n",
       "      <td>/sps/lsst/groups/auxtel/data/2022/empty~holo4_...</td>\n",
       "      <td>exposure_2022031600366_postisrccd.fits</td>\n",
       "      <td>366</td>\n",
       "      <td>HD111980</td>\n",
       "      <td>empty_1</td>\n",
       "      <td>holo4_003</td>\n",
       "      <td>1.589327</td>\n",
       "      <td>20.0</td>\n",
       "      <td>...</td>\n",
       "      <td>10.5</td>\n",
       "      <td>42.0</td>\n",
       "      <td>6.8</td>\n",
       "      <td>NaN</td>\n",
       "      <td>NaN</td>\n",
       "      <td>NaN</td>\n",
       "      <td>NaN</td>\n",
       "      <td></td>\n",
       "      <td>NaN</td>\n",
       "      <td>NaN</td>\n",
       "    </tr>\n",
       "    <tr>\n",
       "      <th>12</th>\n",
       "      <td>12</td>\n",
       "      <td>2022-03-17T02:22:39.026</td>\n",
       "      <td>/sps/lsst/groups/auxtel/data/2022/empty~holo4_...</td>\n",
       "      <td>exposure_2022031600372_postisrccd.fits</td>\n",
       "      <td>372</td>\n",
       "      <td>eta dor</td>\n",
       "      <td>empty_1</td>\n",
       "      <td>holo4_003</td>\n",
       "      <td>1.434807</td>\n",
       "      <td>20.0</td>\n",
       "      <td>...</td>\n",
       "      <td>10.5</td>\n",
       "      <td>42.0</td>\n",
       "      <td>6.6</td>\n",
       "      <td>NaN</td>\n",
       "      <td>NaN</td>\n",
       "      <td>NaN</td>\n",
       "      <td>NaN</td>\n",
       "      <td></td>\n",
       "      <td>NaN</td>\n",
       "      <td>NaN</td>\n",
       "    </tr>\n",
       "    <tr>\n",
       "      <th>13</th>\n",
       "      <td>13</td>\n",
       "      <td>2022-03-17T02:23:12.104</td>\n",
       "      <td>/sps/lsst/groups/auxtel/data/2022/empty~holo4_...</td>\n",
       "      <td>exposure_2022031600373_postisrccd.fits</td>\n",
       "      <td>373</td>\n",
       "      <td>eta dor</td>\n",
       "      <td>empty_1</td>\n",
       "      <td>holo4_003</td>\n",
       "      <td>1.436089</td>\n",
       "      <td>20.0</td>\n",
       "      <td>...</td>\n",
       "      <td>10.4</td>\n",
       "      <td>42.0</td>\n",
       "      <td>14.9</td>\n",
       "      <td>NaN</td>\n",
       "      <td>NaN</td>\n",
       "      <td>NaN</td>\n",
       "      <td>NaN</td>\n",
       "      <td></td>\n",
       "      <td>NaN</td>\n",
       "      <td>NaN</td>\n",
       "    </tr>\n",
       "    <tr>\n",
       "      <th>14</th>\n",
       "      <td>14</td>\n",
       "      <td>2022-03-17T02:26:07.782</td>\n",
       "      <td>/sps/lsst/groups/auxtel/data/2022/empty~holo4_...</td>\n",
       "      <td>exposure_2022031600379_postisrccd.fits</td>\n",
       "      <td>379</td>\n",
       "      <td>eta dor</td>\n",
       "      <td>empty_1</td>\n",
       "      <td>holo4_003</td>\n",
       "      <td>1.443028</td>\n",
       "      <td>20.0</td>\n",
       "      <td>...</td>\n",
       "      <td>10.5</td>\n",
       "      <td>42.0</td>\n",
       "      <td>6.7</td>\n",
       "      <td>NaN</td>\n",
       "      <td>NaN</td>\n",
       "      <td>NaN</td>\n",
       "      <td>NaN</td>\n",
       "      <td></td>\n",
       "      <td>NaN</td>\n",
       "      <td>NaN</td>\n",
       "    </tr>\n",
       "    <tr>\n",
       "      <th>15</th>\n",
       "      <td>15</td>\n",
       "      <td>2022-03-17T02:26:40.735</td>\n",
       "      <td>/sps/lsst/groups/auxtel/data/2022/empty~holo4_...</td>\n",
       "      <td>exposure_2022031600380_postisrccd.fits</td>\n",
       "      <td>380</td>\n",
       "      <td>eta dor</td>\n",
       "      <td>empty_1</td>\n",
       "      <td>holo4_003</td>\n",
       "      <td>1.444342</td>\n",
       "      <td>20.0</td>\n",
       "      <td>...</td>\n",
       "      <td>10.5</td>\n",
       "      <td>42.0</td>\n",
       "      <td>6.7</td>\n",
       "      <td>NaN</td>\n",
       "      <td>NaN</td>\n",
       "      <td>NaN</td>\n",
       "      <td>NaN</td>\n",
       "      <td></td>\n",
       "      <td>NaN</td>\n",
       "      <td>NaN</td>\n",
       "    </tr>\n",
       "    <tr>\n",
       "      <th>16</th>\n",
       "      <td>16</td>\n",
       "      <td>2022-03-17T02:29:37.041</td>\n",
       "      <td>/sps/lsst/groups/auxtel/data/2022/empty~holo4_...</td>\n",
       "      <td>exposure_2022031600386_postisrccd.fits</td>\n",
       "      <td>386</td>\n",
       "      <td>eta dor</td>\n",
       "      <td>empty_1</td>\n",
       "      <td>holo4_003</td>\n",
       "      <td>1.451472</td>\n",
       "      <td>20.0</td>\n",
       "      <td>...</td>\n",
       "      <td>10.5</td>\n",
       "      <td>42.0</td>\n",
       "      <td>8.2</td>\n",
       "      <td>NaN</td>\n",
       "      <td>NaN</td>\n",
       "      <td>NaN</td>\n",
       "      <td>NaN</td>\n",
       "      <td></td>\n",
       "      <td>NaN</td>\n",
       "      <td>NaN</td>\n",
       "    </tr>\n",
       "    <tr>\n",
       "      <th>17</th>\n",
       "      <td>17</td>\n",
       "      <td>2022-03-17T02:30:10.043</td>\n",
       "      <td>/sps/lsst/groups/auxtel/data/2022/empty~holo4_...</td>\n",
       "      <td>exposure_2022031600387_postisrccd.fits</td>\n",
       "      <td>387</td>\n",
       "      <td>eta dor</td>\n",
       "      <td>empty_1</td>\n",
       "      <td>holo4_003</td>\n",
       "      <td>1.452820</td>\n",
       "      <td>20.0</td>\n",
       "      <td>...</td>\n",
       "      <td>10.5</td>\n",
       "      <td>42.0</td>\n",
       "      <td>5.5</td>\n",
       "      <td>NaN</td>\n",
       "      <td>NaN</td>\n",
       "      <td>NaN</td>\n",
       "      <td>NaN</td>\n",
       "      <td></td>\n",
       "      <td>NaN</td>\n",
       "      <td>NaN</td>\n",
       "    </tr>\n",
       "    <tr>\n",
       "      <th>18</th>\n",
       "      <td>18</td>\n",
       "      <td>2022-03-17T02:34:15.754</td>\n",
       "      <td>/sps/lsst/groups/auxtel/data/2022/empty~holo4_...</td>\n",
       "      <td>exposure_2022031600393_postisrccd.fits</td>\n",
       "      <td>393</td>\n",
       "      <td>HD111980</td>\n",
       "      <td>empty_1</td>\n",
       "      <td>holo4_003</td>\n",
       "      <td>1.483400</td>\n",
       "      <td>20.0</td>\n",
       "      <td>...</td>\n",
       "      <td>10.5</td>\n",
       "      <td>42.0</td>\n",
       "      <td>6.3</td>\n",
       "      <td>NaN</td>\n",
       "      <td>NaN</td>\n",
       "      <td>NaN</td>\n",
       "      <td>NaN</td>\n",
       "      <td></td>\n",
       "      <td>NaN</td>\n",
       "      <td>NaN</td>\n",
       "    </tr>\n",
       "    <tr>\n",
       "      <th>19</th>\n",
       "      <td>19</td>\n",
       "      <td>2022-03-17T02:34:48.848</td>\n",
       "      <td>/sps/lsst/groups/auxtel/data/2022/empty~holo4_...</td>\n",
       "      <td>exposure_2022031600394_postisrccd.fits</td>\n",
       "      <td>394</td>\n",
       "      <td>HD111980</td>\n",
       "      <td>empty_1</td>\n",
       "      <td>holo4_003</td>\n",
       "      <td>1.480042</td>\n",
       "      <td>20.0</td>\n",
       "      <td>...</td>\n",
       "      <td>10.6</td>\n",
       "      <td>42.0</td>\n",
       "      <td>6.5</td>\n",
       "      <td>NaN</td>\n",
       "      <td>NaN</td>\n",
       "      <td>NaN</td>\n",
       "      <td>NaN</td>\n",
       "      <td></td>\n",
       "      <td>NaN</td>\n",
       "      <td>NaN</td>\n",
       "    </tr>\n",
       "    <tr>\n",
       "      <th>20</th>\n",
       "      <td>20</td>\n",
       "      <td>2022-03-17T02:38:56.232</td>\n",
       "      <td>/sps/lsst/groups/auxtel/data/2022/empty~holo4_...</td>\n",
       "      <td>exposure_2022031600400_postisrccd.fits</td>\n",
       "      <td>400</td>\n",
       "      <td>eta dor</td>\n",
       "      <td>empty_1</td>\n",
       "      <td>holo4_003</td>\n",
       "      <td>1.475077</td>\n",
       "      <td>20.0</td>\n",
       "      <td>...</td>\n",
       "      <td>10.5</td>\n",
       "      <td>43.0</td>\n",
       "      <td>6.1</td>\n",
       "      <td>NaN</td>\n",
       "      <td>NaN</td>\n",
       "      <td>NaN</td>\n",
       "      <td>NaN</td>\n",
       "      <td></td>\n",
       "      <td>NaN</td>\n",
       "      <td>NaN</td>\n",
       "    </tr>\n",
       "    <tr>\n",
       "      <th>21</th>\n",
       "      <td>21</td>\n",
       "      <td>2022-03-17T02:39:29.123</td>\n",
       "      <td>/sps/lsst/groups/auxtel/data/2022/empty~holo4_...</td>\n",
       "      <td>exposure_2022031600401_postisrccd.fits</td>\n",
       "      <td>401</td>\n",
       "      <td>eta dor</td>\n",
       "      <td>empty_1</td>\n",
       "      <td>holo4_003</td>\n",
       "      <td>1.476509</td>\n",
       "      <td>20.0</td>\n",
       "      <td>...</td>\n",
       "      <td>10.5</td>\n",
       "      <td>43.0</td>\n",
       "      <td>6.1</td>\n",
       "      <td>NaN</td>\n",
       "      <td>NaN</td>\n",
       "      <td>NaN</td>\n",
       "      <td>NaN</td>\n",
       "      <td></td>\n",
       "      <td>NaN</td>\n",
       "      <td>NaN</td>\n",
       "    </tr>\n",
       "    <tr>\n",
       "      <th>22</th>\n",
       "      <td>22</td>\n",
       "      <td>2022-03-17T03:11:58.564</td>\n",
       "      <td>/sps/lsst/groups/auxtel/data/2022/empty~holo4_...</td>\n",
       "      <td>exposure_2022031600420_postisrccd.fits</td>\n",
       "      <td>420</td>\n",
       "      <td>HD111980</td>\n",
       "      <td>empty_1</td>\n",
       "      <td>holo4_003</td>\n",
       "      <td>1.295777</td>\n",
       "      <td>20.0</td>\n",
       "      <td>...</td>\n",
       "      <td>10.6</td>\n",
       "      <td>51.0</td>\n",
       "      <td>4.5</td>\n",
       "      <td>NaN</td>\n",
       "      <td>NaN</td>\n",
       "      <td>NaN</td>\n",
       "      <td>NaN</td>\n",
       "      <td></td>\n",
       "      <td>NaN</td>\n",
       "      <td>NaN</td>\n",
       "    </tr>\n",
       "    <tr>\n",
       "      <th>23</th>\n",
       "      <td>23</td>\n",
       "      <td>2022-03-17T03:12:31.562</td>\n",
       "      <td>/sps/lsst/groups/auxtel/data/2022/empty~holo4_...</td>\n",
       "      <td>exposure_2022031600421_postisrccd.fits</td>\n",
       "      <td>421</td>\n",
       "      <td>HD111980</td>\n",
       "      <td>empty_1</td>\n",
       "      <td>holo4_003</td>\n",
       "      <td>1.293586</td>\n",
       "      <td>20.0</td>\n",
       "      <td>...</td>\n",
       "      <td>10.6</td>\n",
       "      <td>51.0</td>\n",
       "      <td>4.5</td>\n",
       "      <td>NaN</td>\n",
       "      <td>NaN</td>\n",
       "      <td>NaN</td>\n",
       "      <td>NaN</td>\n",
       "      <td></td>\n",
       "      <td>NaN</td>\n",
       "      <td>NaN</td>\n",
       "    </tr>\n",
       "    <tr>\n",
       "      <th>24</th>\n",
       "      <td>24</td>\n",
       "      <td>2022-03-17T03:15:28.519</td>\n",
       "      <td>/sps/lsst/groups/auxtel/data/2022/empty~holo4_...</td>\n",
       "      <td>exposure_2022031600427_postisrccd.fits</td>\n",
       "      <td>427</td>\n",
       "      <td>HD111980</td>\n",
       "      <td>empty_1</td>\n",
       "      <td>holo4_003</td>\n",
       "      <td>1.282047</td>\n",
       "      <td>20.0</td>\n",
       "      <td>...</td>\n",
       "      <td>10.7</td>\n",
       "      <td>50.0</td>\n",
       "      <td>4.8</td>\n",
       "      <td>NaN</td>\n",
       "      <td>NaN</td>\n",
       "      <td>NaN</td>\n",
       "      <td>NaN</td>\n",
       "      <td></td>\n",
       "      <td>NaN</td>\n",
       "      <td>NaN</td>\n",
       "    </tr>\n",
       "    <tr>\n",
       "      <th>25</th>\n",
       "      <td>25</td>\n",
       "      <td>2022-03-17T03:16:01.707</td>\n",
       "      <td>/sps/lsst/groups/auxtel/data/2022/empty~holo4_...</td>\n",
       "      <td>exposure_2022031600428_postisrccd.fits</td>\n",
       "      <td>428</td>\n",
       "      <td>HD111980</td>\n",
       "      <td>empty_1</td>\n",
       "      <td>holo4_003</td>\n",
       "      <td>1.279939</td>\n",
       "      <td>20.0</td>\n",
       "      <td>...</td>\n",
       "      <td>10.7</td>\n",
       "      <td>49.0</td>\n",
       "      <td>5.1</td>\n",
       "      <td>NaN</td>\n",
       "      <td>NaN</td>\n",
       "      <td>NaN</td>\n",
       "      <td>NaN</td>\n",
       "      <td></td>\n",
       "      <td>NaN</td>\n",
       "      <td>NaN</td>\n",
       "    </tr>\n",
       "    <tr>\n",
       "      <th>26</th>\n",
       "      <td>26</td>\n",
       "      <td>2022-03-17T03:21:49.842</td>\n",
       "      <td>/sps/lsst/groups/auxtel/data/2022/empty~holo4_...</td>\n",
       "      <td>exposure_2022031600434_postisrccd.fits</td>\n",
       "      <td>434</td>\n",
       "      <td>HD111980</td>\n",
       "      <td>empty_1</td>\n",
       "      <td>holo4_003</td>\n",
       "      <td>1.258452</td>\n",
       "      <td>20.0</td>\n",
       "      <td>...</td>\n",
       "      <td>10.7</td>\n",
       "      <td>49.0</td>\n",
       "      <td>3.4</td>\n",
       "      <td>NaN</td>\n",
       "      <td>NaN</td>\n",
       "      <td>NaN</td>\n",
       "      <td>NaN</td>\n",
       "      <td></td>\n",
       "      <td>NaN</td>\n",
       "      <td>NaN</td>\n",
       "    </tr>\n",
       "    <tr>\n",
       "      <th>27</th>\n",
       "      <td>27</td>\n",
       "      <td>2022-03-17T03:22:22.856</td>\n",
       "      <td>/sps/lsst/groups/auxtel/data/2022/empty~holo4_...</td>\n",
       "      <td>exposure_2022031600435_postisrccd.fits</td>\n",
       "      <td>435</td>\n",
       "      <td>HD111980</td>\n",
       "      <td>empty_1</td>\n",
       "      <td>holo4_003</td>\n",
       "      <td>1.256483</td>\n",
       "      <td>20.0</td>\n",
       "      <td>...</td>\n",
       "      <td>10.7</td>\n",
       "      <td>49.0</td>\n",
       "      <td>3.4</td>\n",
       "      <td>NaN</td>\n",
       "      <td>NaN</td>\n",
       "      <td>NaN</td>\n",
       "      <td>NaN</td>\n",
       "      <td></td>\n",
       "      <td>NaN</td>\n",
       "      <td>NaN</td>\n",
       "    </tr>\n",
       "  </tbody>\n",
       "</table>\n",
       "<p>28 rows × 23 columns</p>\n",
       "</div>"
      ],
      "text/plain": [
       "    index                     date  \\\n",
       "0       0  2022-03-17T01:59:37.776   \n",
       "1       1  2022-03-17T02:00:10.693   \n",
       "2       2  2022-03-17T02:03:04.275   \n",
       "3       3  2022-03-17T02:03:37.365   \n",
       "4       4  2022-03-17T02:06:31.026   \n",
       "5       5  2022-03-17T02:07:03.927   \n",
       "6       6  2022-03-17T02:11:00.681   \n",
       "7       7  2022-03-17T02:11:33.581   \n",
       "8       8  2022-03-17T02:14:30.261   \n",
       "9       9  2022-03-17T02:15:03.181   \n",
       "10     10  2022-03-17T02:17:59.397   \n",
       "11     11  2022-03-17T02:18:32.481   \n",
       "12     12  2022-03-17T02:22:39.026   \n",
       "13     13  2022-03-17T02:23:12.104   \n",
       "14     14  2022-03-17T02:26:07.782   \n",
       "15     15  2022-03-17T02:26:40.735   \n",
       "16     16  2022-03-17T02:29:37.041   \n",
       "17     17  2022-03-17T02:30:10.043   \n",
       "18     18  2022-03-17T02:34:15.754   \n",
       "19     19  2022-03-17T02:34:48.848   \n",
       "20     20  2022-03-17T02:38:56.232   \n",
       "21     21  2022-03-17T02:39:29.123   \n",
       "22     22  2022-03-17T03:11:58.564   \n",
       "23     23  2022-03-17T03:12:31.562   \n",
       "24     24  2022-03-17T03:15:28.519   \n",
       "25     25  2022-03-17T03:16:01.707   \n",
       "26     26  2022-03-17T03:21:49.842   \n",
       "27     27  2022-03-17T03:22:22.856   \n",
       "\n",
       "                                                 path  \\\n",
       "0   /sps/lsst/groups/auxtel/data/2022/empty~holo4_...   \n",
       "1   /sps/lsst/groups/auxtel/data/2022/empty~holo4_...   \n",
       "2   /sps/lsst/groups/auxtel/data/2022/empty~holo4_...   \n",
       "3   /sps/lsst/groups/auxtel/data/2022/empty~holo4_...   \n",
       "4   /sps/lsst/groups/auxtel/data/2022/empty~holo4_...   \n",
       "5   /sps/lsst/groups/auxtel/data/2022/empty~holo4_...   \n",
       "6   /sps/lsst/groups/auxtel/data/2022/empty~holo4_...   \n",
       "7   /sps/lsst/groups/auxtel/data/2022/empty~holo4_...   \n",
       "8   /sps/lsst/groups/auxtel/data/2022/empty~holo4_...   \n",
       "9   /sps/lsst/groups/auxtel/data/2022/empty~holo4_...   \n",
       "10  /sps/lsst/groups/auxtel/data/2022/empty~holo4_...   \n",
       "11  /sps/lsst/groups/auxtel/data/2022/empty~holo4_...   \n",
       "12  /sps/lsst/groups/auxtel/data/2022/empty~holo4_...   \n",
       "13  /sps/lsst/groups/auxtel/data/2022/empty~holo4_...   \n",
       "14  /sps/lsst/groups/auxtel/data/2022/empty~holo4_...   \n",
       "15  /sps/lsst/groups/auxtel/data/2022/empty~holo4_...   \n",
       "16  /sps/lsst/groups/auxtel/data/2022/empty~holo4_...   \n",
       "17  /sps/lsst/groups/auxtel/data/2022/empty~holo4_...   \n",
       "18  /sps/lsst/groups/auxtel/data/2022/empty~holo4_...   \n",
       "19  /sps/lsst/groups/auxtel/data/2022/empty~holo4_...   \n",
       "20  /sps/lsst/groups/auxtel/data/2022/empty~holo4_...   \n",
       "21  /sps/lsst/groups/auxtel/data/2022/empty~holo4_...   \n",
       "22  /sps/lsst/groups/auxtel/data/2022/empty~holo4_...   \n",
       "23  /sps/lsst/groups/auxtel/data/2022/empty~holo4_...   \n",
       "24  /sps/lsst/groups/auxtel/data/2022/empty~holo4_...   \n",
       "25  /sps/lsst/groups/auxtel/data/2022/empty~holo4_...   \n",
       "26  /sps/lsst/groups/auxtel/data/2022/empty~holo4_...   \n",
       "27  /sps/lsst/groups/auxtel/data/2022/empty~holo4_...   \n",
       "\n",
       "                                      file  num    object   filter  disperser  \\\n",
       "0   exposure_2022031600330_postisrccd.fits  330   eta dor  empty_1  holo4_003   \n",
       "1   exposure_2022031600331_postisrccd.fits  331   eta dor  empty_1  holo4_003   \n",
       "2   exposure_2022031600337_postisrccd.fits  337   eta dor  empty_1  holo4_003   \n",
       "3   exposure_2022031600338_postisrccd.fits  338   eta dor  empty_1  holo4_003   \n",
       "4   exposure_2022031600344_postisrccd.fits  344   eta dor  empty_1  holo4_003   \n",
       "5   exposure_2022031600345_postisrccd.fits  345   eta dor  empty_1  holo4_003   \n",
       "6   exposure_2022031600351_postisrccd.fits  351  HD111980  empty_1  holo4_003   \n",
       "7   exposure_2022031600352_postisrccd.fits  352  HD111980  empty_1  holo4_003   \n",
       "8   exposure_2022031600358_postisrccd.fits  358  HD111980  empty_1  holo4_003   \n",
       "9   exposure_2022031600359_postisrccd.fits  359  HD111980  empty_1  holo4_003   \n",
       "10  exposure_2022031600365_postisrccd.fits  365  HD111980  empty_1  holo4_003   \n",
       "11  exposure_2022031600366_postisrccd.fits  366  HD111980  empty_1  holo4_003   \n",
       "12  exposure_2022031600372_postisrccd.fits  372   eta dor  empty_1  holo4_003   \n",
       "13  exposure_2022031600373_postisrccd.fits  373   eta dor  empty_1  holo4_003   \n",
       "14  exposure_2022031600379_postisrccd.fits  379   eta dor  empty_1  holo4_003   \n",
       "15  exposure_2022031600380_postisrccd.fits  380   eta dor  empty_1  holo4_003   \n",
       "16  exposure_2022031600386_postisrccd.fits  386   eta dor  empty_1  holo4_003   \n",
       "17  exposure_2022031600387_postisrccd.fits  387   eta dor  empty_1  holo4_003   \n",
       "18  exposure_2022031600393_postisrccd.fits  393  HD111980  empty_1  holo4_003   \n",
       "19  exposure_2022031600394_postisrccd.fits  394  HD111980  empty_1  holo4_003   \n",
       "20  exposure_2022031600400_postisrccd.fits  400   eta dor  empty_1  holo4_003   \n",
       "21  exposure_2022031600401_postisrccd.fits  401   eta dor  empty_1  holo4_003   \n",
       "22  exposure_2022031600420_postisrccd.fits  420  HD111980  empty_1  holo4_003   \n",
       "23  exposure_2022031600421_postisrccd.fits  421  HD111980  empty_1  holo4_003   \n",
       "24  exposure_2022031600427_postisrccd.fits  427  HD111980  empty_1  holo4_003   \n",
       "25  exposure_2022031600428_postisrccd.fits  428  HD111980  empty_1  holo4_003   \n",
       "26  exposure_2022031600434_postisrccd.fits  434  HD111980  empty_1  holo4_003   \n",
       "27  exposure_2022031600435_postisrccd.fits  435  HD111980  empty_1  holo4_003   \n",
       "\n",
       "     airmass  exposure  ...  temperature  humidity  windspd  Obj-posXpix  \\\n",
       "0   1.385409      20.0  ...         10.6      44.0      7.2          NaN   \n",
       "1   1.386483      20.0  ...         10.6      44.0      7.4          NaN   \n",
       "2   1.392269      20.0  ...         10.6      43.0      7.4          NaN   \n",
       "3   1.393378      20.0  ...         10.6      43.0      7.4          NaN   \n",
       "4   1.399309      20.0  ...         10.5      43.0      8.2          NaN   \n",
       "5   1.400449      20.0  ...         10.5      43.0      7.6          NaN   \n",
       "6   1.647734      20.0  ...         10.5      43.0     13.1        300.0   \n",
       "7   1.643280      20.0  ...         10.5      43.0     13.1          NaN   \n",
       "8   1.619945      20.0  ...         10.5      43.0     12.1          NaN   \n",
       "9   1.615702      20.0  ...         10.5      44.0      6.9          NaN   \n",
       "10  1.593415      20.0  ...         10.5      42.0      6.8          NaN   \n",
       "11  1.589327      20.0  ...         10.5      42.0      6.8          NaN   \n",
       "12  1.434807      20.0  ...         10.5      42.0      6.6          NaN   \n",
       "13  1.436089      20.0  ...         10.4      42.0     14.9          NaN   \n",
       "14  1.443028      20.0  ...         10.5      42.0      6.7          NaN   \n",
       "15  1.444342      20.0  ...         10.5      42.0      6.7          NaN   \n",
       "16  1.451472      20.0  ...         10.5      42.0      8.2          NaN   \n",
       "17  1.452820      20.0  ...         10.5      42.0      5.5          NaN   \n",
       "18  1.483400      20.0  ...         10.5      42.0      6.3          NaN   \n",
       "19  1.480042      20.0  ...         10.6      42.0      6.5          NaN   \n",
       "20  1.475077      20.0  ...         10.5      43.0      6.1          NaN   \n",
       "21  1.476509      20.0  ...         10.5      43.0      6.1          NaN   \n",
       "22  1.295777      20.0  ...         10.6      51.0      4.5          NaN   \n",
       "23  1.293586      20.0  ...         10.6      51.0      4.5          NaN   \n",
       "24  1.282047      20.0  ...         10.7      50.0      4.8          NaN   \n",
       "25  1.279939      20.0  ...         10.7      49.0      5.1          NaN   \n",
       "26  1.258452      20.0  ...         10.7      49.0      3.4          NaN   \n",
       "27  1.256483      20.0  ...         10.7      49.0      3.4          NaN   \n",
       "\n",
       "    Obj-posYpix  Dx  Dy  skip  run  quality  \n",
       "0           NaN NaN NaN        NaN      NaN  \n",
       "1           NaN NaN NaN        NaN      NaN  \n",
       "2           NaN NaN NaN        NaN      NaN  \n",
       "3           NaN NaN NaN        NaN      NaN  \n",
       "4           NaN NaN NaN        NaN      NaN  \n",
       "5           NaN NaN NaN        NaN      NaN  \n",
       "6        1700.0 NaN NaN        1.0      1.0  \n",
       "7           NaN NaN NaN        NaN      NaN  \n",
       "8           NaN NaN NaN        NaN      NaN  \n",
       "9           NaN NaN NaN        NaN      NaN  \n",
       "10          NaN NaN NaN        NaN      NaN  \n",
       "11          NaN NaN NaN        NaN      NaN  \n",
       "12          NaN NaN NaN        NaN      NaN  \n",
       "13          NaN NaN NaN        NaN      NaN  \n",
       "14          NaN NaN NaN        NaN      NaN  \n",
       "15          NaN NaN NaN        NaN      NaN  \n",
       "16          NaN NaN NaN        NaN      NaN  \n",
       "17          NaN NaN NaN        NaN      NaN  \n",
       "18          NaN NaN NaN        NaN      NaN  \n",
       "19          NaN NaN NaN        NaN      NaN  \n",
       "20          NaN NaN NaN        NaN      NaN  \n",
       "21          NaN NaN NaN        NaN      NaN  \n",
       "22          NaN NaN NaN        NaN      NaN  \n",
       "23          NaN NaN NaN        NaN      NaN  \n",
       "24          NaN NaN NaN        NaN      NaN  \n",
       "25          NaN NaN NaN        NaN      NaN  \n",
       "26          NaN NaN NaN        NaN      NaN  \n",
       "27          NaN NaN NaN        NaN      NaN  \n",
       "\n",
       "[28 rows x 23 columns]"
      ]
     },
     "execution_count": 39,
     "metadata": {},
     "output_type": "execute_result"
    }
   ],
   "source": [
    "df"
   ]
  },
  {
   "cell_type": "markdown",
   "metadata": {},
   "source": [
    "## Selection of input files"
   ]
  },
  {
   "cell_type": "code",
   "execution_count": 40,
   "metadata": {},
   "outputs": [],
   "source": [
    "# Do not consider flag\n",
    "#df_good=df[df[\"quality\"]==1]"
   ]
  },
  {
   "cell_type": "code",
   "execution_count": 41,
   "metadata": {},
   "outputs": [],
   "source": [
    "df_good=df\n",
    "df_good[\"quality\"] = 1"
   ]
  },
  {
   "cell_type": "code",
   "execution_count": 42,
   "metadata": {},
   "outputs": [
    {
     "name": "stdout",
     "output_type": "stream",
     "text": [
      "exposure_2022031600330_postisrccd.fits\n",
      "exposure_2022031600331_postisrccd.fits\n",
      "exposure_2022031600337_postisrccd.fits\n",
      "exposure_2022031600338_postisrccd.fits\n",
      "exposure_2022031600344_postisrccd.fits\n",
      "exposure_2022031600345_postisrccd.fits\n",
      "exposure_2022031600351_postisrccd.fits\n",
      "exposure_2022031600352_postisrccd.fits\n",
      "exposure_2022031600358_postisrccd.fits\n",
      "exposure_2022031600359_postisrccd.fits\n",
      "exposure_2022031600365_postisrccd.fits\n",
      "exposure_2022031600366_postisrccd.fits\n",
      "exposure_2022031600372_postisrccd.fits\n",
      "exposure_2022031600373_postisrccd.fits\n",
      "exposure_2022031600379_postisrccd.fits\n",
      "exposure_2022031600380_postisrccd.fits\n",
      "exposure_2022031600386_postisrccd.fits\n",
      "exposure_2022031600387_postisrccd.fits\n",
      "exposure_2022031600393_postisrccd.fits\n",
      "exposure_2022031600394_postisrccd.fits\n",
      "exposure_2022031600400_postisrccd.fits\n",
      "exposure_2022031600401_postisrccd.fits\n",
      "exposure_2022031600420_postisrccd.fits\n",
      "exposure_2022031600421_postisrccd.fits\n",
      "exposure_2022031600427_postisrccd.fits\n",
      "exposure_2022031600428_postisrccd.fits\n",
      "exposure_2022031600434_postisrccd.fits\n",
      "exposure_2022031600435_postisrccd.fits\n"
     ]
    }
   ],
   "source": [
    "for spectra_file in df_good[\"file\"]:\n",
    "    print(spectra_file)"
   ]
  },
  {
   "cell_type": "markdown",
   "metadata": {},
   "source": [
    "## Selection of Spectractor output files"
   ]
  },
  {
   "cell_type": "code",
   "execution_count": 43,
   "metadata": {},
   "outputs": [],
   "source": [
    "# total number of exposures\n",
    "NBEXP=0\n",
    "# total number of exposures without dir\n",
    "NBEXPNODIR=0\n",
    "# total number of exposures with dir\n",
    "NBEXPWTHDIR=0\n",
    "# total number of exposures with plots\n",
    "NBEXPWTHPLT=0\n",
    "# total number of exposures with spectra\n",
    "NBEXPWTHSPEC=0\n",
    "\n",
    "# list of exposures\n",
    "LISTNUM=[]\n",
    "# list of exposure without dir (not run spectraction)\n",
    "LISTNUMNODIR=[]\n",
    "# list of exposure with dir (spectraction has been run)\n",
    "LISTNUMWTHDIR=[]\n",
    "# list of exposures with plots (Spectractor has run up to some point)\n",
    "LISTNUMWTHPLOTS=[]\n",
    "# list of exposures with spectraction output (Spectractor has completed)\n",
    "LISTNUMWTHSPECTR=[]\n",
    "\n",
    "# list of selected spectra path\n",
    "List_of_spectra_path=[]"
   ]
  },
  {
   "cell_type": "code",
   "execution_count": 44,
   "metadata": {},
   "outputs": [
    {
     "name": "stdout",
     "output_type": "stream",
     "text": [
      "list of subdir found  ['2022031600330', '2022031600337', '2022031600344', '2022031600345', '2022031600351', '2022031600352', '2022031600358', '2022031600359', '2022031600365']\n",
      "00330\n",
      "---------------------------------------------\n",
      "2022031600330  \t   00330\n",
      "2022031600330 is a directory\n",
      "tagname= 00330\n",
      "dir_plots is not empty\n",
      "dir_spectration is not empty\n",
      "00337\n",
      "---------------------------------------------\n",
      "2022031600337  \t   00337\n",
      "2022031600337 is a directory\n",
      "tagname= 00337\n",
      "dir_plots is not empty\n",
      "dir_spectration is not empty\n",
      "00344\n",
      "---------------------------------------------\n",
      "2022031600344  \t   00344\n",
      "2022031600344 is a directory\n",
      "tagname= 00344\n",
      "dir_plots is not empty\n",
      "dir_spectration is not empty\n",
      "00345\n",
      "---------------------------------------------\n",
      "2022031600345  \t   00345\n",
      "2022031600345 is a directory\n",
      "tagname= 00345\n",
      "dir_plots is not empty\n",
      "dir_spectration is not empty\n",
      "00351\n",
      "---------------------------------------------\n",
      "2022031600351  \t   00351\n",
      "2022031600351 is a directory\n",
      "tagname= 00351\n",
      "dir_plots is not empty\n",
      "dir_spectration is not empty\n",
      "00352\n",
      "---------------------------------------------\n",
      "2022031600352  \t   00352\n",
      "2022031600352 is a directory\n",
      "tagname= 00352\n",
      "dir_plots is not empty\n",
      "dir_spectration is not empty\n",
      "00358\n",
      "---------------------------------------------\n",
      "2022031600358  \t   00358\n",
      "2022031600358 is a directory\n",
      "tagname= 00358\n",
      "dir_plots is not empty\n",
      "dir_spectration is not empty\n",
      "00359\n",
      "---------------------------------------------\n",
      "2022031600359  \t   00359\n",
      "2022031600359 is a directory\n",
      "tagname= 00359\n",
      "dir_plots is not empty\n",
      "dir_spectration is not empty\n",
      "00365\n",
      "---------------------------------------------\n",
      "2022031600365  \t   00365\n",
      "2022031600365 is a directory\n",
      "tagname= 00365\n",
      "dir_plots is not empty\n",
      "dir_spectration is not empty\n",
      "-----------------------------------------------------------------\n",
      "Full list of Exposures : .......................['00330', '00337', '00344', '00345', '00351', '00352', '00358', '00359', '00365']\n",
      "Full list of Exposures without output dir: .....[]\n",
      "Full list of Exposures with output dir: ....... ['00330', '00337', '00344', '00345', '00351', '00352', '00358', '00359', '00365']\n",
      "Full list of Exposures with output plots: ..... ['00330', '00337', '00344', '00345', '00351', '00352', '00358', '00359', '00365']\n",
      "Full list of Exposures with output spectra: ....['00330', '00337', '00344', '00345', '00351', '00352', '00358', '00359', '00365']\n",
      "Total number of exposures : .....................9\n",
      "Total number of exposures without dir : .........0\n",
      "Total number of exposures with dir :.............9\n",
      "Total number of exposures with plots : ..........9\n",
      "Total number of exposures with spectra: .........9\n"
     ]
    }
   ],
   "source": [
    "list_of_files=os.listdir(path_output_spectractor)\n",
    "list_of_files=sorted(list_of_files)\n",
    "\n",
    "\n",
    "print(\"list of subdir found \",list_of_files)\n",
    "\n",
    "for subdir in list_of_files:\n",
    "    \n",
    "    \n",
    "    #tag = file_tag_forsorting(subdir)\n",
    "    tag = subdir_tag_forsorting(subdir)\n",
    "    \n",
    "        \n",
    "    print(tag)    \n",
    "    #if tag is not None and int(tag)<317:\n",
    "    #    continue\n",
    "    if tag is None :\n",
    "        continue\n",
    "  \n",
    "    \n",
    "    \n",
    "    fulldir=os.path.join(path_output_spectractor,subdir)\n",
    "\n",
    "\n",
    "\n",
    "    if not os.path.isdir(fulldir):\n",
    "        \n",
    "        print(\"---------------------------------------------\")\n",
    "        print(subdir,\" \\t  \",tag)\n",
    "        print(\"{} is not a directory\".format(subdir))\n",
    "        \n",
    "\n",
    "        NBEXPNODIR+=1\n",
    "\n",
    "\n",
    "    else:\n",
    "\n",
    "        \n",
    "        print(\"---------------------------------------------\")\n",
    "        print(subdir,\" \\t  \",tag)\n",
    "        print(\"{} is a directory\".format(subdir))\n",
    "\n",
    "        tagname=subdir_tag_forsorting(subdir)\n",
    "        print(\"tagname= {}\".format(tagname))\n",
    "        #targetname=file_target(subdir)\n",
    "        #print(\"targetname= {}\".format(targetname))\n",
    "        \n",
    "\n",
    "\n",
    "\n",
    "        NBEXP += 1\n",
    "        LISTNUM.append(tagname)\n",
    "\n",
    "\n",
    "\n",
    "        dir_plots=os.path.join(fulldir,\"plots\")\n",
    "        dir_spectration = os.path.join(fulldir, \"basespec\")\n",
    "\n",
    "        flag_empty1 = True\n",
    "        flag_empty2 = True\n",
    "\n",
    "\n",
    "        if os.path.isdir(dir_plots):\n",
    "            if any(os.scandir(dir_plots)):\n",
    "                print(\"dir_plots is not empty\")\n",
    "                NBEXPWTHPLT+=1\n",
    "                LISTNUMWTHPLOTS.append(tagname)\n",
    "                flag_empty1 = False\n",
    "\n",
    "            else:\n",
    "                print(\"dir_plots is empty\")\n",
    "\n",
    "\n",
    "        if os.path.isdir(dir_spectration):\n",
    "            if any(os.scandir(dir_spectration)):\n",
    "                print(\"dir_spectration is not empty\")\n",
    "                NBEXPWTHSPEC+=1\n",
    "                LISTNUMWTHSPECTR.append(tagname)\n",
    "                flag_empty2 = False\n",
    "                List_of_spectra_path.append(dir_spectration)\n",
    "\n",
    "            else:\n",
    "                print(\"dir_spectration is empty\")\n",
    "\n",
    "        if flag_empty1 and flag_empty2 :\n",
    "            NBEXPNODIR+=1\n",
    "            LISTNUMNODIR.append(tagname)\n",
    "        else:\n",
    "            NBEXPWTHDIR += 1\n",
    "            LISTNUMWTHDIR.append(tagname)\n",
    "\n",
    "\n",
    "\n",
    "print(\"-----------------------------------------------------------------\")\n",
    "\n",
    "\n",
    "#LISTNUM=sorted(LISTNUM)\n",
    "#LISTNUMNODIR=sorted(LISTNUMNODIR)\n",
    "#LISTNUMWTHDIR=sorted(LISTNUMWTHDIR)\n",
    "#LISTNUMWTHPLOTS=sorted(LISTNUMWTHPLOTS)\n",
    "#LISTNUMWTHSPECTR=sorted(LISTNUMWTHSPECTR)\n",
    "List_of_spectra_path=sorted(List_of_spectra_path)\n",
    "\n",
    "print(\"Full list of Exposures : .......................{}\".format(LISTNUM))\n",
    "print(\"Full list of Exposures without output dir: .....{}\".format(LISTNUMNODIR))\n",
    "print(\"Full list of Exposures with output dir: ....... {}\".format(LISTNUMWTHDIR))\n",
    "print(\"Full list of Exposures with output plots: ..... {}\".format(LISTNUMWTHPLOTS))\n",
    "print(\"Full list of Exposures with output spectra: ....{}\".format(LISTNUMWTHSPECTR))\n",
    "\n",
    "\n",
    "\n",
    "\n",
    "print(\"Total number of exposures : .....................{}\".format(NBEXP))\n",
    "print(\"Total number of exposures without dir : .........{}\".format(NBEXPNODIR))\n",
    "print(\"Total number of exposures with dir :.............{}\".format(NBEXPWTHDIR))\n",
    "print(\"Total number of exposures with plots : ..........{}\".format(NBEXPWTHPLT))\n",
    "print(\"Total number of exposures with spectra: .........{}\".format(NBEXPWTHSPEC))\n"
   ]
  },
  {
   "cell_type": "code",
   "execution_count": 45,
   "metadata": {},
   "outputs": [
    {
     "name": "stdout",
     "output_type": "stream",
     "text": [
      "['/sps/lsst/groups/auxtel/data/2022/OutputSpectractor/postISRCCD/empty~holo4_003/config_DECONVOLUTION_REBIN2FFM/20220316/2022031600330/basespec', '/sps/lsst/groups/auxtel/data/2022/OutputSpectractor/postISRCCD/empty~holo4_003/config_DECONVOLUTION_REBIN2FFM/20220316/2022031600337/basespec', '/sps/lsst/groups/auxtel/data/2022/OutputSpectractor/postISRCCD/empty~holo4_003/config_DECONVOLUTION_REBIN2FFM/20220316/2022031600344/basespec', '/sps/lsst/groups/auxtel/data/2022/OutputSpectractor/postISRCCD/empty~holo4_003/config_DECONVOLUTION_REBIN2FFM/20220316/2022031600345/basespec', '/sps/lsst/groups/auxtel/data/2022/OutputSpectractor/postISRCCD/empty~holo4_003/config_DECONVOLUTION_REBIN2FFM/20220316/2022031600351/basespec', '/sps/lsst/groups/auxtel/data/2022/OutputSpectractor/postISRCCD/empty~holo4_003/config_DECONVOLUTION_REBIN2FFM/20220316/2022031600352/basespec', '/sps/lsst/groups/auxtel/data/2022/OutputSpectractor/postISRCCD/empty~holo4_003/config_DECONVOLUTION_REBIN2FFM/20220316/2022031600358/basespec', '/sps/lsst/groups/auxtel/data/2022/OutputSpectractor/postISRCCD/empty~holo4_003/config_DECONVOLUTION_REBIN2FFM/20220316/2022031600359/basespec', '/sps/lsst/groups/auxtel/data/2022/OutputSpectractor/postISRCCD/empty~holo4_003/config_DECONVOLUTION_REBIN2FFM/20220316/2022031600365/basespec']\n"
     ]
    }
   ],
   "source": [
    "#dir_spectra=\"outputs_reprocess\"\n",
    "print(List_of_spectra_path)"
   ]
  },
  {
   "cell_type": "code",
   "execution_count": 46,
   "metadata": {},
   "outputs": [
    {
     "data": {
      "text/plain": [
       "'./config/auxtel_config_holo_DECONVOLUTION_REBIN2FFM.ini'"
      ]
     },
     "execution_count": 46,
     "metadata": {},
     "output_type": "execute_result"
    }
   ],
   "source": [
    "config"
   ]
  },
  {
   "cell_type": "markdown",
   "metadata": {},
   "source": [
    "## Extraction of spectra"
   ]
  },
  {
   "cell_type": "code",
   "execution_count": 47,
   "metadata": {},
   "outputs": [],
   "source": [
    "all_files_spectra = []\n",
    "all_files_spectrogram = []\n",
    "all_files_lines = []\n",
    "all_files_table = []\n",
    "\n",
    "# loop on topdir\n",
    "for dir_spectra in List_of_spectra_path:\n",
    "    for filename in os.listdir(dir_spectra):\n",
    "        if re.search(\"_spectrum.fits$\",filename):\n",
    "            the_file_spectrum=os.path.join(dir_spectra,filename)\n",
    "            all_files_spectra.append(the_file_spectrum)\n",
    "            the_file_spectrogram=the_file_spectrum.replace(\"_spectrum\",\"_spectrogram\")\n",
    "            all_files_spectrogram.append(the_file_spectrogram)\n",
    "            the_file_lines=the_file_spectrum.replace(\"_spectrum.fits\",\"_lines.csv\")\n",
    "            all_files_lines.append(the_file_lines)\n",
    "            the_file_table=the_file_spectrum.replace(\"_spectrum.fits\",\"_table.csv\")\n",
    "            all_files_table.append(the_file_table)\n",
    "    "
   ]
  },
  {
   "cell_type": "code",
   "execution_count": 48,
   "metadata": {},
   "outputs": [
    {
     "data": {
      "text/plain": [
       "['/sps/lsst/groups/auxtel/data/2022/OutputSpectractor/postISRCCD/empty~holo4_003/config_DECONVOLUTION_REBIN2FFM/20220316/2022031600330/basespec/exposure_2022031600330_postisrccd_spectrum.fits',\n",
       " '/sps/lsst/groups/auxtel/data/2022/OutputSpectractor/postISRCCD/empty~holo4_003/config_DECONVOLUTION_REBIN2FFM/20220316/2022031600337/basespec/exposure_2022031600337_postisrccd_spectrum.fits',\n",
       " '/sps/lsst/groups/auxtel/data/2022/OutputSpectractor/postISRCCD/empty~holo4_003/config_DECONVOLUTION_REBIN2FFM/20220316/2022031600344/basespec/exposure_2022031600344_postisrccd_spectrum.fits']"
      ]
     },
     "execution_count": 48,
     "metadata": {},
     "output_type": "execute_result"
    }
   ],
   "source": [
    "all_files_spectra[:3]"
   ]
  },
  {
   "cell_type": "code",
   "execution_count": 49,
   "metadata": {},
   "outputs": [
    {
     "data": {
      "text/plain": [
       "['/sps/lsst/groups/auxtel/data/2022/OutputSpectractor/postISRCCD/empty~holo4_003/config_DECONVOLUTION_REBIN2FFM/20220316/2022031600330/basespec/exposure_2022031600330_postisrccd_spectrogram.fits',\n",
       " '/sps/lsst/groups/auxtel/data/2022/OutputSpectractor/postISRCCD/empty~holo4_003/config_DECONVOLUTION_REBIN2FFM/20220316/2022031600337/basespec/exposure_2022031600337_postisrccd_spectrogram.fits',\n",
       " '/sps/lsst/groups/auxtel/data/2022/OutputSpectractor/postISRCCD/empty~holo4_003/config_DECONVOLUTION_REBIN2FFM/20220316/2022031600344/basespec/exposure_2022031600344_postisrccd_spectrogram.fits']"
      ]
     },
     "execution_count": 49,
     "metadata": {},
     "output_type": "execute_result"
    }
   ],
   "source": [
    "all_files_spectrogram[:3]"
   ]
  },
  {
   "cell_type": "code",
   "execution_count": 50,
   "metadata": {},
   "outputs": [
    {
     "data": {
      "text/plain": [
       "['/sps/lsst/groups/auxtel/data/2022/OutputSpectractor/postISRCCD/empty~holo4_003/config_DECONVOLUTION_REBIN2FFM/20220316/2022031600330/basespec/exposure_2022031600330_postisrccd_lines.csv',\n",
       " '/sps/lsst/groups/auxtel/data/2022/OutputSpectractor/postISRCCD/empty~holo4_003/config_DECONVOLUTION_REBIN2FFM/20220316/2022031600337/basespec/exposure_2022031600337_postisrccd_lines.csv',\n",
       " '/sps/lsst/groups/auxtel/data/2022/OutputSpectractor/postISRCCD/empty~holo4_003/config_DECONVOLUTION_REBIN2FFM/20220316/2022031600344/basespec/exposure_2022031600344_postisrccd_lines.csv']"
      ]
     },
     "execution_count": 50,
     "metadata": {},
     "output_type": "execute_result"
    }
   ],
   "source": [
    "all_files_lines[:3]"
   ]
  },
  {
   "cell_type": "code",
   "execution_count": 51,
   "metadata": {},
   "outputs": [
    {
     "data": {
      "text/plain": [
       "['/sps/lsst/groups/auxtel/data/2022/OutputSpectractor/postISRCCD/empty~holo4_003/config_DECONVOLUTION_REBIN2FFM/20220316/2022031600330/basespec/exposure_2022031600330_postisrccd_table.csv',\n",
       " '/sps/lsst/groups/auxtel/data/2022/OutputSpectractor/postISRCCD/empty~holo4_003/config_DECONVOLUTION_REBIN2FFM/20220316/2022031600337/basespec/exposure_2022031600337_postisrccd_table.csv',\n",
       " '/sps/lsst/groups/auxtel/data/2022/OutputSpectractor/postISRCCD/empty~holo4_003/config_DECONVOLUTION_REBIN2FFM/20220316/2022031600344/basespec/exposure_2022031600344_postisrccd_table.csv']"
      ]
     },
     "execution_count": 51,
     "metadata": {},
     "output_type": "execute_result"
    }
   ],
   "source": [
    "all_files_table[:3] "
   ]
  },
  {
   "cell_type": "markdown",
   "metadata": {},
   "source": [
    "## Selection of good spectra"
   ]
  },
  {
   "cell_type": "code",
   "execution_count": 52,
   "metadata": {},
   "outputs": [],
   "source": [
    "all_good_spectra_spectrum_files = sorted(all_files_spectra)"
   ]
  },
  {
   "cell_type": "code",
   "execution_count": 53,
   "metadata": {},
   "outputs": [],
   "source": [
    "N=len(all_good_spectra_spectrum_files)\n",
    "\n",
    "# wavelength bin colors\n",
    "jet = plt.get_cmap('jet')\n",
    "cNorm = colors.Normalize(vmin=0, vmax=N)\n",
    "scalarMap = cmx.ScalarMappable(norm=cNorm, cmap=jet)\n",
    "all_colors = scalarMap.to_rgba(np.arange(N), alpha=1)"
   ]
  },
  {
   "cell_type": "markdown",
   "metadata": {},
   "source": [
    "## All Spectra"
   ]
  },
  {
   "cell_type": "code",
   "execution_count": 54,
   "metadata": {},
   "outputs": [],
   "source": [
    "all_num=[]\n",
    "idx=0\n",
    "for fullfilename in all_good_spectra_spectrum_files:\n",
    "    filename= os.path.basename(fullfilename)\n",
    "    tag=file_tag_forsorting(filename.split(\".\")[0])\n",
    "    all_num.append(tag)\n",
    "    idx+=1\n",
    "    \n",
    "    "
   ]
  },
  {
   "cell_type": "code",
   "execution_count": 55,
   "metadata": {},
   "outputs": [],
   "source": [
    "if False:\n",
    "    parameters.DISPLAY=True\n",
    "\n",
    "    FLAG_ORDER2 = True\n",
    "\n",
    "    infos = []\n",
    "    all_lambdas=[]\n",
    "    all_data=[]\n",
    "    all_data_err=[]\n",
    "\n",
    "    if FLAG_ORDER2:\n",
    "        all_lambdas_order2=[]\n",
    "        all_data_order2=[]\n",
    "        all_data_err_order2=[]\n",
    "\n",
    "    all_num=[]\n",
    "    all_figs = []\n",
    "\n",
    "\n",
    "    idx=0\n",
    "    for fullfilename in all_good_spectra_spectrum_files:\n",
    "    \n",
    "        filename = os.path.basename(fullfilename)\n",
    "        print(idx,\")\",filename,\" \",fullfilename)\n",
    "    \n",
    "    \n",
    "        fig=plt.figure(figsize=(16,4))\n",
    "        ax1 = fig.add_subplot(1, 2, 1)\n",
    "    \n",
    "        filename= os.path.basename(fullfilename)\n",
    "        tag=file_tag_forsorting(filename.split(\".\")[0])\n",
    "        all_num.append(tag)\n",
    "    \n",
    "   \n",
    "     \n",
    "        s=Spectrum(fullfilename, config=config,fast_load=False)\n",
    "        label=filename.split('.')[0]+\" \"\n",
    "        s.plot_spectrum(ax=ax1,force_lines=True,label=label)\n",
    "    \n",
    "        all_lambdas.append(s.lambdas)\n",
    "        all_data.append(s.data)\n",
    "        all_data_err.append(s.err)\n",
    "    \n",
    "        if FLAG_ORDER2:\n",
    "            all_lambdas_order2.append(s.lambdas_order2)\n",
    "            all_data_order2.append(s.data_order2)\n",
    "            all_data_err_order2.append(s.err_order2)\n",
    "    \n",
    "        ax2 = fig.add_subplot(1, 2, 2)\n",
    "    \n",
    "        fullfilename2=all_files_spectrogram[idx]\n",
    "    \n",
    "        s.load_spectrogram(fullfilename2)\n",
    "        s.plot_spectrogram(ax=ax2,scale=\"log\")\n",
    "    \n",
    "    \n",
    "        infos.append([idx,s.target.label,s.date_obs,s.airmass,s.temperature,s.pressure,s.humidity])\n",
    "    \n",
    "    \n",
    "        plt.show()\n",
    "        all_figs.append(fig)\n",
    "    \n",
    "        idx+=1\n",
    "    "
   ]
  },
  {
   "cell_type": "code",
   "execution_count": null,
   "metadata": {},
   "outputs": [],
   "source": []
  },
  {
   "cell_type": "markdown",
   "metadata": {},
   "source": [
    "## View one spectrum"
   ]
  },
  {
   "cell_type": "code",
   "execution_count": 60,
   "metadata": {},
   "outputs": [
    {
     "name": "stdout",
     "output_type": "stream",
     "text": [
      "0 ) exposure_2022031600330_postisrccd_spectrum.fits   /sps/lsst/groups/auxtel/data/2022/OutputSpectractor/postISRCCD/empty~holo4_003/config_DECONVOLUTION_REBIN2FFM/20220316/2022031600330/basespec/exposure_2022031600330_postisrccd_spectrum.fits\n",
      "set date_obs to 2022-03-17T01:59:23.629\n",
      "set expo to 20.0\n",
      "set airmass to 1.38578152736243\n",
      "set disperser_label to holo4_003\n",
      "set units to erg/s/cm$^2$/nm\n",
      "set rotation_angle to 0.203330252738939\n",
      "set dec to -66.0397222222222\n",
      "set hour_angle to 42.0596414253711\n",
      "set temperature to 10.6\n",
      "set pressure to 743.55\n",
      "set humidity to 44.0\n",
      "set lambda_ref to 646.884280273906\n",
      "set parallactic_angle to 56.60194005331589\n",
      "target_name = etador, Selected object name for Simbad : ETA1 DOR\n"
     ]
    },
    {
     "name": "stderr",
     "output_type": "stream",
     "text": [
      "WARNING: AstropyDeprecationWarning: \"pedantic\" was deprecated in version 5.0 and will be removed in a future version. Use argument \"verify\" instead. [astropy.io.votable.table]\n",
      "2022-09-12 11:00:22  astropy    _showwarning         WARNING AstropyDeprecationWarning: \"pedantic\" was deprecated in version 5.0 and will be removed in a future version. Use argument \"verify\" instead.\n"
     ]
    },
    {
     "name": "stdout",
     "output_type": "stream",
     "text": [
      "  MAIN_ID         RA           DEC      ... Z_VALUE_4 SCRIPT_NUMBER_ID\n",
      "               \"h:m:s\"       \"d:m:s\"    ...                           \n",
      "----------- ------------- ------------- ... --------- ----------------\n",
      "* eta01 Dor 06 06 09.3817 -66 02 22.635 ... 0.0000590                1\n"
     ]
    },
    {
     "data": {
      "image/png": "[encoded data removed]",
      "text/plain": [
       "<Figure size 864x864 with 3 Axes>"
      ]
     },
     "metadata": {
      "needs_background": "light"
     },
     "output_type": "display_data"
    }
   ],
   "source": [
    "idx=0\n",
    "\n",
    "fullfilename = all_good_spectra_spectrum_files[idx]\n",
    "    \n",
    "filename = os.path.basename(fullfilename)\n",
    "print(idx,\")\",filename,\" \",fullfilename)\n",
    "    \n",
    "    \n",
    "fig=plt.figure(figsize=(12,12))\n",
    "ax1 = fig.add_subplot(2, 1, 1)\n",
    "    \n",
    "filename= os.path.basename(fullfilename)\n",
    "tag=file_tag_forsorting(filename.split(\".\")[0])\n",
    "all_num.append(tag)\n",
    "    \n",
    "   \n",
    "     \n",
    "s=Spectrum(fullfilename, config=config,fast_load=False)\n",
    "label=filename.split('.')[0]+\" \"\n",
    "#s.plot_spectrum(ax=ax1,force_lines=True,label=label)\n",
    "s.plot_spectrum(ax=ax1,force_lines=True)\n",
    "    \n",
    "    \n",
    "ax2 = fig.add_subplot(2, 1, 2)\n",
    "    \n",
    "fullfilename2=all_files_spectrogram[idx]\n",
    "    \n",
    "s.load_spectrogram(fullfilename2)\n",
    "s.plot_spectrogram(ax=ax2,scale=\"log\")\n",
    "    \n",
    "\n",
    "plt.show()\n",
    "    "
   ]
  },
  {
   "cell_type": "code",
   "execution_count": 104,
   "metadata": {},
   "outputs": [],
   "source": [
    "from astropy.visualization import (MinMaxInterval, SqrtStretch,ImageNormalize, SinhStretch,AsinhStretch, LinearStretch)\n",
    "#from astropy.visualization.stretch import SinhStretch, LinearStretch\n",
    "\n",
    "# Create an ImageNormalize object\n",
    "norm = ImageNormalize(s.spectrogram, interval=MinMaxInterval(),stretch=AsinhStretch())"
   ]
  },
  {
   "cell_type": "code",
   "execution_count": 99,
   "metadata": {},
   "outputs": [],
   "source": [
    "vmin=s.spectrogram.min()"
   ]
  },
  {
   "cell_type": "code",
   "execution_count": 100,
   "metadata": {},
   "outputs": [],
   "source": [
    "vmax=s.spectrogram.max()"
   ]
  },
  {
   "cell_type": "code",
   "execution_count": 108,
   "metadata": {},
   "outputs": [
    {
     "data": {
      "text/plain": [
       "Text(0, 0.5, 'Y pixels')"
      ]
     },
     "execution_count": 108,
     "metadata": {},
     "output_type": "execute_result"
    },
    {
     "data": {
      "image/png": "[encoded data removed]",
      "text/plain": [
       "<Figure size 1800x720 with 1 Axes>"
      ]
     },
     "metadata": {
      "needs_background": "light"
     },
     "output_type": "display_data"
    }
   ],
   "source": [
    "\n",
    "fig = plt.figure(figsize=(25,10))\n",
    "ax=fig.add_subplot(1,1,1)\n",
    "#ax.imshow(s.spectrogram,origin=\"lower\",cmap=\"gray\",norm=LogNorm(vmin=0.001*vmin,vmax=1*vmax))\n",
    "ax.imshow(s.spectrogram[75:125,:],origin=\"lower\",cmap=\"gray\",norm=norm)\n",
    "ax.set_aspect('auto')\n",
    "ax.grid()\n",
    "ax.set_xlabel(\"X pixels\")\n",
    "ax.set_ylabel(\"Y pixels\")"
   ]
  },
  {
   "cell_type": "code",
   "execution_count": null,
   "metadata": {},
   "outputs": [],
   "source": []
  },
  {
   "cell_type": "markdown",
   "metadata": {},
   "source": [
    "# Perform FFM"
   ]
  },
  {
   "cell_type": "code",
   "execution_count": null,
   "metadata": {},
   "outputs": [],
   "source": [
    "from spectractor.simulation.adr import adr_calib, flip_and_rotate_adr_to_image_xy_coordinates"
   ]
  },
  {
   "cell_type": "code",
   "execution_count": null,
   "metadata": {},
   "outputs": [],
   "source": [
    "fig_FFMpoutputdir = \"fig_FFM_\" + configdir\n",
    "if not os.path.exists(fig_FFMpoutputdir):\n",
    "        os.makedirs(fig_FFMpoutputdir)"
   ]
  },
  {
   "cell_type": "code",
   "execution_count": null,
   "metadata": {},
   "outputs": [],
   "source": [
    "parameters.DISPLAY = True\n",
    "parameters.DEBUG = True\n",
    "parameters.VERBOSE = True\n",
    "parameters.LSST_SAVEFIGPATH = fig_FFMpoutputdir"
   ]
  },
  {
   "cell_type": "code",
   "execution_count": null,
   "metadata": {},
   "outputs": [],
   "source": [
    "# Want to plot some information\n",
    "# if 'LBDAS_T' in spec.header: plot_comparison_truth(spec, w)\n",
    "# s.header['LBDAS_T'] = True"
   ]
  },
  {
   "cell_type": "code",
   "execution_count": null,
   "metadata": {},
   "outputs": [],
   "source": [
    "w = FullForwardModelFitWorkspace(s, verbose=parameters.VERBOSE, plot=True, live_fit=True,\n",
    "                                         amplitude_priors_method=\"spectrum\")"
   ]
  },
  {
   "cell_type": "code",
   "execution_count": null,
   "metadata": {},
   "outputs": [],
   "source": [
    "dumpfitparameters(w,my_logger)"
   ]
  },
  {
   "cell_type": "code",
   "execution_count": null,
   "metadata": {},
   "outputs": [],
   "source": [
    "# increase the nulber of iteration\n",
    "spectrum = run_ffm_minimisation(w, method=\"newton\", niter=3)"
   ]
  },
  {
   "cell_type": "code",
   "execution_count": null,
   "metadata": {},
   "outputs": [],
   "source": [
    "#showfitparameter(w)\n",
    "dumpfitparameters(w,my_logger)"
   ]
  },
  {
   "cell_type": "code",
   "execution_count": null,
   "metadata": {},
   "outputs": [],
   "source": [
    "s.plot_spectrum(force_lines=True) "
   ]
  },
  {
   "cell_type": "code",
   "execution_count": null,
   "metadata": {},
   "outputs": [],
   "source": [
    "s.lambdas"
   ]
  },
  {
   "cell_type": "code",
   "execution_count": null,
   "metadata": {},
   "outputs": [],
   "source": [
    "s.data_order2"
   ]
  },
  {
   "cell_type": "code",
   "execution_count": null,
   "metadata": {},
   "outputs": [],
   "source": [
    "plt.plot(s.lambdas,s.data_order2,label=\"order 2\")\n",
    "plt.plot(2*s.lambdas,s.data_order2/2,label=\"order 2 shifted\")\n",
    "plt.xlim(300,1050)\n",
    "plt.legend()\n",
    "plt.title(\"Order 2\")"
   ]
  },
  {
   "cell_type": "code",
   "execution_count": null,
   "metadata": {},
   "outputs": [],
   "source": []
  },
  {
   "cell_type": "code",
   "execution_count": null,
   "metadata": {},
   "outputs": [],
   "source": [
    "plt.plot(s.lambdas,s.data,label=\"order 1\")\n",
    "plt.legend()\n",
    "plt.title(\"Order 1\")"
   ]
  },
  {
   "cell_type": "code",
   "execution_count": null,
   "metadata": {},
   "outputs": [],
   "source": []
  }
 ],
 "metadata": {
  "kernelspec": {
   "display_name": "anaconda3_auxtel",
   "language": "python",
   "name": "anaconda3_auxtel"
  },
  "language_info": {
   "codemirror_mode": {
    "name": "ipython",
    "version": 3
   },
   "file_extension": ".py",
   "mimetype": "text/x-python",
   "name": "python",
   "nbconvert_exporter": "python",
   "pygments_lexer": "ipython3",
   "version": "3.8.5"
  },
  "toc": {
   "base_numbering": 1,
   "nav_menu": {},
   "number_sections": true,
   "sideBar": true,
   "skip_h1_title": false,
   "title_cell": "Table of Contents",
   "title_sidebar": "Contents",
   "toc_cell": false,
   "toc_position": {},
   "toc_section_display": true,
   "toc_window_display": false
  }
 },
 "nbformat": 4,
 "nbformat_minor": 4
}
