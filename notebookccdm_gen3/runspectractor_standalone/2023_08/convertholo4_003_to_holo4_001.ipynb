{
 "cells": [
  {
   "cell_type": "markdown",
   "id": "adc33065-ea50-4603-b460-9ffe140af5fd",
   "metadata": {},
   "source": [
    "# Convert holo4_003 to holo4_001 for tests"
   ]
  },
  {
   "cell_type": "markdown",
   "id": "d6b36226-72e0-4643-aa2f-1518385abd97",
   "metadata": {},
   "source": [
    "- author : Sylvie Dagoret-Campagne\n",
    "- affiliation : IJCLab/IN2P3/CNRS DESC-LSST fullmember, behalf AuxTel Teal VERA C. Rubin observatory\n",
    "- creation date : August 29th 2023\n",
    "- last update : August 29th 2023"
   ]
  },
  {
   "cell_type": "code",
   "execution_count": 1,
   "id": "7b6a3393-2633-4a5e-8606-e4ebc33c4457",
   "metadata": {},
   "outputs": [
    {
     "data": {
      "text/plain": [
       "['/Volumes/Backup2020/MacOSX/GitHub/LSST/AuxTelComm/notebookccdm_gen3/runspectractor_standalone/2023_08',\n",
       " '/Users/dagoret/anaconda3/lib/python39.zip',\n",
       " '/Users/dagoret/anaconda3/lib/python3.9',\n",
       " '/Users/dagoret/anaconda3/lib/python3.9/lib-dynload',\n",
       " '',\n",
       " '/Users/dagoret/.local/lib/python3.9/site-packages',\n",
       " '/Users/dagoret/anaconda3/lib/python3.9/site-packages',\n",
       " '__editable__.atmosphtransmemullsst-0.0.1.finder.__path_hook__',\n",
       " '__editable__.pylick-0.2.1.dev11+ga5b2fe4.d20230630.finder.__path_hook__',\n",
       " '__editable__.rubin_sim-1.0.6.dev50+g1d649e8.finder.__path_hook__',\n",
       " '/Users/dagoret/anaconda3/lib/python3.9/site-packages/aeosa',\n",
       " '/Volumes/Backup2020/MacOSX/GitLab/pylick',\n",
       " '/Users/dagoret/anaconda3/lib/python3.9/site-packages/IPython/extensions',\n",
       " '/Users/dagoret/.ipython']"
      ]
     },
     "execution_count": 1,
     "metadata": {},
     "output_type": "execute_result"
    }
   ],
   "source": [
    "import sys\n",
    "sys.path"
   ]
  },
  {
   "cell_type": "code",
   "execution_count": 2,
   "id": "da69c889-68fa-4b5f-88c8-67a415554461",
   "metadata": {},
   "outputs": [],
   "source": [
    "import numpy as np\n",
    "import matplotlib.pyplot as plt\n",
    "%matplotlib inline\n",
    "from mpl_toolkits.axes_grid1 import make_axes_locatable\n",
    "import pandas as pd\n",
    "\n",
    "import matplotlib.ticker                         # here's where the formatter is\n",
    "import os\n",
    "import re"
   ]
  },
  {
   "cell_type": "code",
   "execution_count": 3,
   "id": "86fc4a91-bffb-4430-ad0e-8de48837c8d9",
   "metadata": {},
   "outputs": [],
   "source": [
    "from astropy.io import fits"
   ]
  },
  {
   "cell_type": "code",
   "execution_count": 4,
   "id": "6a653087-6bca-471e-b7ba-e6326130543a",
   "metadata": {},
   "outputs": [],
   "source": [
    "def GetPaths(computer_name):\n",
    "    \"\"\"\n",
    "    \"\"\"\n",
    "    \n",
    "    if computer_name == \"HOSTCC\":\n",
    "        \n",
    "        path_auxtel=\"/sps/lsst/groups/auxtel\"\n",
    "        path_spectractor=os.path.join(path_auxtel,\"softs/github/desc/Spectractor\")\n",
    "        path_spectractor_config=os.path.join(path_spectractor,\"config\")\n",
    "    \n",
    "        path_images=os.path.join(path_auxtel,\"data/hack_usdf/my_postisrccd_img_forspectractor_2023/\"+filterdispersername+\"/\"+DATE)\n",
    "        path_images_out =os.path.join(path_auxtel,\"data/hack_usdf/my_postisrccd_img_forspectractor_2023/\"+filterdispersername_out+\"/\"+DATE)\n",
    "        if configdir == \"\":\n",
    "            path_output_spectractor=os.path.join(path_auxtel,\"data/2023/OutputSpectractor/\"+imagemode+\"/\"+filterdispersername+\"/\"+DATE)\n",
    "        else:\n",
    "            path_output_spectractor=os.path.join(path_auxtel,\"data/2023/OutputSpectractor/\"+imagemode+\"/\"+filterdispersername+\"/\"+configdir+\"/\"+DATE)\n",
    "            path_topoutput_spectractor=os.path.join(path_auxtel,\"data/2023/OutputSpectractor/\"+imagemode+\"/\"+filterdispersername+\"/\"+configdir)\n",
    "            path_toptopoutput_spectractor=os.path.join(path_auxtel,\"data/2023/OutputSpectractor/\"+imagemode+\"/\"+filterdispersername)\n",
    "            path_toptoptopoutput_spectractor=os.path.join(path_auxtel,\"data/2023/OutputSpectractor/\"+imagemode)\n",
    "        \n",
    "    elif computer_name == \"LAPTOP1\":\n",
    "        path_auxtel=\"/Users/dagoret/DATA/AuxTelData2023\"\n",
    "        path_spectractor=os.path.join(path_auxtel,\"/Users/dagoret/MacOSX/GitHub/LSST/Spectractor\")\n",
    "        path_spectractor_config=os.path.join(path_spectractor,\"config\")\n",
    "        path_images=os.path.join(path_auxtel,\"data/2023/\"+filterdispersername+\"/\"+DATE)\n",
    "        path_images_out=os.path.join(path_auxtel,\"data/2023/\"+filterdispersername_out+\"/\"+DATE)\n",
    "        if configdir == \"\":\n",
    "            path_output_spectractor=os.path.join(path_auxtel,\"data/2023/OutputSpectractor/\"+imagemode+\"/\"+filterdispersername+\"/\"+DATE)\n",
    "        else:\n",
    "            path_output_spectractor=os.path.join(path_auxtel,\"data/2023/OutputSpectractor/\"+imagemode+\"/\"+filterdispersername+\"/\"+configdir+\"/\"+DATE)\n",
    "            path_topoutput_spectractor=os.path.join(path_auxtel,\"data/2023/OutputSpectractor/\"+imagemode+\"/\"+filterdispersername+\"/\"+configdir)\n",
    "            path_toptopoutput_spectractor=os.path.join(path_auxtel,\"data/2023/OutputSpectractor/\"+imagemode+\"/\"+filterdispersername)\n",
    "            path_toptoptopoutput_spectractor=os.path.join(path_auxtel,\"data/2023/OutputSpectractor/\"+imagemode)\n",
    "        \n",
    "        \n",
    "    elif computer_name == \"WORKIMAC\":\n",
    "        path_auxtel=\"/Users/sylvie/DATA/AuxTelData2023\"\n",
    "        path_spectractor=os.path.join(path_auxtel,\"/Users/sylvie/MacOSX/GitHub/LSST/Spectractor\")\n",
    "        path_spectractor_config=os.path.join(path_spectractor,\"config\")\n",
    "        path_images=os.path.join(path_auxtel,\"data/2023/\"+filterdispersername+\"/\"+DATE)\n",
    "        path_images_out=os.path.join(path_auxtel,\"data/2023/\"+filterdispersername+\"/\"+DATE)\n",
    "        if configdir == \"\":\n",
    "            path_output_spectractor=os.path.join(path_auxtel,\"data/2023/OutputSpectractor/\"+imagemode+\"/\"+filterdispersername+\"/\"+DATE)\n",
    "        else:\n",
    "            path_output_spectractor=os.path.join(path_auxtel,\"data/2023/OutputSpectractor/\"+imagemode+\"/\"+filterdispersername+\"/\"+configdir+\"/\"+DATE)\n",
    "            path_topoutput_spectractor=os.path.join(path_auxtel,\"data/2023/OutputSpectractor/\"+imagemode+\"/\"+filterdispersername+\"/\"+configdir)\n",
    "            path_toptopoutput_spectractor=os.path.join(path_auxtel,\"data/2023/OutputSpectractor/\"+imagemode+\"/\"+filterdispersername)\n",
    "            path_toptoptopoutput_spectractor=os.path.join(path_auxtel,\"data/2023/OutputSpectractor/\"+imagemode)\n",
    "            \n",
    "            \n",
    "        \n",
    "    elif computer_name == \"HOMEIMAC\":\n",
    "        path_auxtel=\"/Volumes/Backup2020/DATA\"\n",
    "        path_spectractor=os.path.join(path_auxtel,\"MacOSX/GitHub/LSST/Spectractor\")\n",
    "        path_spectractor_config=os.path.join(\".\",\"config\")\n",
    "        path_images=os.path.join(path_auxtel,\"hack_usdf/my_postisrccd_img_forspectractor_2023/\"+filterdispersername+\"/\"+DATE)\n",
    "        path_images_out=os.path.join(path_auxtel,\"hack_usdf/my_postisrccd_img_forspectractor_2023/\"+filterdispersername_out+\"/\"+DATE)\n",
    "        \n",
    "        # /Volumes/Backup2020/DATA/AuxTelDATA2023/data/2023/OutputSpectractor\n",
    "        \n",
    "        if configdir == \"\":\n",
    "            path_output_spectractor=os.path.join(path_auxtel,\"AuxTelDATA2023/data/2023/OutputSpectractor/\"+imagemode+\"/\"+filterdispersername+\"/\"+DATE)\n",
    "        else:\n",
    "            path_output_spectractor=os.path.join(path_auxtel,\"AuxTelDATA2023/data/2023/OutputSpectractor/\"+imagemode+\"/\"+filterdispersername+\"/\"+configdir+\"/\"+DATE)\n",
    "            path_topoutput_spectractor=os.path.join(path_auxtel,\"AuxTelDATA2023/data/2023/OutputSpectractor/\"+imagemode+\"/\"+filterdispersername+\"/\"+configdir)\n",
    "            path_toptopoutput_spectractor=os.path.join(path_auxtel,\"AuxTelDATA2023/data/2023/OutputSpectractor/\"+imagemode+\"/\"+filterdispersername)\n",
    "            path_toptoptopoutput_spectractor=os.path.join(path_auxtel,\"AuxTelDATA2023/data/2023/OutputSpectractor/\"+imagemode)\n",
    "            \n",
    "        \n",
    "    else:\n",
    "        print(f\"Unknown computer {computer_name}\")\n",
    "        \n",
    "              \n",
    "    return path_auxtel,path_spectractor,path_spectractor_config,path_images,path_images_out,path_toptoptopoutput_spectractor, path_toptopoutput_spectractor, path_topoutput_spectractor, path_output_spectractor\n",
    "        "
   ]
  },
  {
   "cell_type": "code",
   "execution_count": null,
   "id": "a495da25-8880-44f1-a2af-c66cd2f7c743",
   "metadata": {},
   "outputs": [],
   "source": []
  },
  {
   "cell_type": "markdown",
   "id": "90269188-171c-4e44-9d8c-e0719fc358fb",
   "metadata": {},
   "source": [
    "# Config"
   ]
  },
  {
   "cell_type": "code",
   "execution_count": 5,
   "id": "4fe79bad-db1f-4770-b2e5-328504d78d7c",
   "metadata": {},
   "outputs": [],
   "source": [
    "DATE = '20230720'\n",
    "filterdispersernames = [\"empty~holo4_003\",\"BG40~holo4_003\",\"FELH0600~holo4_003\",\"SDSSg~holo4_003\",\\\n",
    "                        \"empty~ronchi170lpmm\",\"BG40~ronchi170lpmm\",\"FELH0600~ronchi170lpmm\",\"SDSSg~ronchi170lpmm\",\\\n",
    "                       ]\n",
    "filterdispersername = filterdispersernames[0]\n",
    "filterdispersername_out = \"empty~holo4_001\""
   ]
  },
  {
   "cell_type": "markdown",
   "id": "8842f9b3-77f6-4f77-a5ff-24fc8a5c0185",
   "metadata": {},
   "source": [
    "# Start"
   ]
  },
  {
   "cell_type": "code",
   "execution_count": 6,
   "id": "3044598f-68eb-4d28-9feb-478ce74fafa7",
   "metadata": {},
   "outputs": [],
   "source": [
    "configdir = \" \"\n",
    "imagemode = \" \"\n",
    "mycomputer_name = \"HOMEIMAC\"\n",
    "path_auxtel,path_spectractor,path_spectractor_config,path_images,path_images_out,path_toptoptopoutput_spectractor, path_toptopoutput_spectractor, path_topoutput_spectractor, path_output_spectractor  = GetPaths(mycomputer_name)"
   ]
  },
  {
   "cell_type": "code",
   "execution_count": 7,
   "id": "14bf07f7-287e-4d71-907a-d3219241a33b",
   "metadata": {},
   "outputs": [
    {
     "data": {
      "text/plain": [
       "'/Volumes/Backup2020/DATA/hack_usdf/my_postisrccd_img_forspectractor_2023/empty~holo4_001/20230720'"
      ]
     },
     "execution_count": 7,
     "metadata": {},
     "output_type": "execute_result"
    }
   ],
   "source": [
    "path_images_out"
   ]
  },
  {
   "cell_type": "code",
   "execution_count": 8,
   "id": "2fb796b7-02ba-4977-a155-f89b16402ccc",
   "metadata": {},
   "outputs": [],
   "source": [
    "dir_images=path_images"
   ]
  },
  {
   "cell_type": "code",
   "execution_count": 9,
   "id": "fb114830-a462-4bb9-806e-829071d93ac9",
   "metadata": {},
   "outputs": [],
   "source": [
    "all_files=os.listdir(dir_images)"
   ]
  },
  {
   "cell_type": "code",
   "execution_count": 10,
   "id": "99c26c30-f2d5-41bd-a781-5eeb699fc688",
   "metadata": {},
   "outputs": [
    {
     "data": {
      "text/plain": [
       "['exposure_2023072000235_pseudo-postisrccd.fits',\n",
       " 'exposure_2023072000238_pseudo-postisrccd.fits',\n",
       " 'exposure_2023072000239_pseudo-postisrccd.fits',\n",
       " 'exposure_2023072000248_pseudo-postisrccd.fits',\n",
       " 'exposure_2023072000249_pseudo-postisrccd.fits',\n",
       " 'exposure_2023072000253_pseudo-postisrccd.fits',\n",
       " 'exposure_2023072000254_pseudo-postisrccd.fits',\n",
       " 'exposure_2023072000256_pseudo-postisrccd.fits',\n",
       " 'exposure_2023072000257_pseudo-postisrccd.fits',\n",
       " 'exposure_2023072000266_pseudo-postisrccd.fits',\n",
       " 'exposure_2023072000267_pseudo-postisrccd.fits',\n",
       " 'exposure_2023072000270_pseudo-postisrccd.fits',\n",
       " 'exposure_2023072000271_pseudo-postisrccd.fits',\n",
       " 'exposure_2023072000273_pseudo-postisrccd.fits',\n",
       " 'exposure_2023072000274_pseudo-postisrccd.fits',\n",
       " 'exposure_2023072000283_pseudo-postisrccd.fits',\n",
       " 'exposure_2023072000284_pseudo-postisrccd.fits',\n",
       " 'exposure_2023072000311_pseudo-postisrccd.fits',\n",
       " 'exposure_2023072000312_pseudo-postisrccd.fits',\n",
       " 'exposure_2023072000314_pseudo-postisrccd.fits',\n",
       " 'exposure_2023072000315_pseudo-postisrccd.fits']"
      ]
     },
     "execution_count": 10,
     "metadata": {},
     "output_type": "execute_result"
    }
   ],
   "source": [
    "all_files"
   ]
  },
  {
   "cell_type": "code",
   "execution_count": 11,
   "id": "1febf48e-4aed-47ed-9d5b-27f5c3bd1fb5",
   "metadata": {},
   "outputs": [],
   "source": [
    "all_selected_files = []\n",
    "for filename in all_files:\n",
    "    if re.search(\".fits$\",filename):\n",
    "        all_selected_files.append(filename)\n",
    "N=len(all_selected_files)"
   ]
  },
  {
   "cell_type": "code",
   "execution_count": 12,
   "id": "36d1742a-a4b9-4a57-af84-f91bea65b167",
   "metadata": {},
   "outputs": [],
   "source": [
    "all_selected_files=np.array(all_selected_files)"
   ]
  },
  {
   "cell_type": "code",
   "execution_count": 13,
   "id": "be9edb0c-058e-4b3e-a512-4301609194d1",
   "metadata": {},
   "outputs": [],
   "source": [
    "def file_tag_forsorting(filename):\n",
    "    #m=re.findall('^Cor_holo4_003_.*([0-9][0-9][0-9][0-9]-[0-9][0-9]-[0-9][0-9]_.*)[.]fits$',filename)\n",
    "    m=re.findall('exposure.*_(.*)_pseudo-postisrccd[.]fits$',filename)\n",
    "    \n",
    "    return m[0]"
   ]
  },
  {
   "cell_type": "code",
   "execution_count": 14,
   "id": "965809e9-f5a5-4268-86bd-6050c505d727",
   "metadata": {},
   "outputs": [
    {
     "data": {
      "text/plain": [
       "array(['2023072000235', '2023072000238', '2023072000239', '2023072000248',\n",
       "       '2023072000249', '2023072000253', '2023072000254', '2023072000256',\n",
       "       '2023072000257', '2023072000266', '2023072000267', '2023072000270',\n",
       "       '2023072000271', '2023072000273', '2023072000274', '2023072000283',\n",
       "       '2023072000284', '2023072000311', '2023072000312', '2023072000314',\n",
       "       '2023072000315'], dtype='<U13')"
      ]
     },
     "execution_count": 14,
     "metadata": {},
     "output_type": "execute_result"
    }
   ],
   "source": [
    "#all_tags = [ file_tag_forsorting(filename)[0] for filename in all_selected_files]\n",
    "all_tags = [ file_tag_forsorting(filename) for filename in all_selected_files]\n",
    "all_tags=np.array(all_tags)\n",
    "all_tags"
   ]
  },
  {
   "cell_type": "code",
   "execution_count": 15,
   "id": "13196ac5-9dba-442a-b3fe-be17fff831b0",
   "metadata": {},
   "outputs": [],
   "source": [
    "indexes=np.argsort(all_tags)"
   ]
  },
  {
   "cell_type": "code",
   "execution_count": 16,
   "id": "0049240c-f3be-42b7-9bc3-fd6fdf7c439a",
   "metadata": {},
   "outputs": [],
   "source": [
    "sorted_files=all_selected_files[indexes]"
   ]
  },
  {
   "cell_type": "code",
   "execution_count": 17,
   "id": "cee75b4a-bd2b-437c-9a53-fa64d82c9c75",
   "metadata": {},
   "outputs": [
    {
     "data": {
      "text/plain": [
       "array(['exposure_2023072000235_pseudo-postisrccd.fits',\n",
       "       'exposure_2023072000238_pseudo-postisrccd.fits',\n",
       "       'exposure_2023072000239_pseudo-postisrccd.fits',\n",
       "       'exposure_2023072000248_pseudo-postisrccd.fits',\n",
       "       'exposure_2023072000249_pseudo-postisrccd.fits',\n",
       "       'exposure_2023072000253_pseudo-postisrccd.fits',\n",
       "       'exposure_2023072000254_pseudo-postisrccd.fits',\n",
       "       'exposure_2023072000256_pseudo-postisrccd.fits',\n",
       "       'exposure_2023072000257_pseudo-postisrccd.fits',\n",
       "       'exposure_2023072000266_pseudo-postisrccd.fits',\n",
       "       'exposure_2023072000267_pseudo-postisrccd.fits',\n",
       "       'exposure_2023072000270_pseudo-postisrccd.fits',\n",
       "       'exposure_2023072000271_pseudo-postisrccd.fits',\n",
       "       'exposure_2023072000273_pseudo-postisrccd.fits',\n",
       "       'exposure_2023072000274_pseudo-postisrccd.fits',\n",
       "       'exposure_2023072000283_pseudo-postisrccd.fits',\n",
       "       'exposure_2023072000284_pseudo-postisrccd.fits',\n",
       "       'exposure_2023072000311_pseudo-postisrccd.fits',\n",
       "       'exposure_2023072000312_pseudo-postisrccd.fits',\n",
       "       'exposure_2023072000314_pseudo-postisrccd.fits',\n",
       "       'exposure_2023072000315_pseudo-postisrccd.fits'], dtype='<U45')"
      ]
     },
     "execution_count": 17,
     "metadata": {},
     "output_type": "execute_result"
    }
   ],
   "source": [
    "sorted_files"
   ]
  },
  {
   "cell_type": "code",
   "execution_count": 18,
   "id": "0774c908-58a2-4c42-b032-797af57eaba4",
   "metadata": {},
   "outputs": [],
   "source": [
    "index = 0"
   ]
  },
  {
   "cell_type": "code",
   "execution_count": 19,
   "id": "48e3b09a-49cf-489b-8200-55772ebcabe3",
   "metadata": {},
   "outputs": [],
   "source": [
    "for index in range(len(sorted_files)):\n",
    "    fullfilename = os.path.join(path_images,sorted_files[index])\n",
    "    fullfilename_out = os.path.join(path_images_out,sorted_files[index])\n",
    "    \n",
    "    hdu = fits.open(fullfilename)\n",
    "    hdr = hdu[0].header\n",
    "    hdr[\"GRATING\"] = 'holo4_001'\n",
    "    data = hdu[1].data\n",
    "    \n",
    "    primary_hdu = fits.PrimaryHDU(header=hdr)\n",
    "    image_hdu = fits.ImageHDU(data)\n",
    "    \n",
    "    hdu_list = fits.HDUList([primary_hdu, image_hdu])\n",
    "    \n",
    "    hdu_list.writeto(fullfilename_out,overwrite=True)"
   ]
  },
  {
   "cell_type": "code",
   "execution_count": null,
   "id": "8f4aa471-2a5c-494d-b8d4-9f4bfed784f7",
   "metadata": {},
   "outputs": [],
   "source": []
  }
 ],
 "metadata": {
  "kernelspec": {
   "display_name": "Python 3 (ipykernel)",
   "language": "python",
   "name": "python3"
  },
  "language_info": {
   "codemirror_mode": {
    "name": "ipython",
    "version": 3
   },
   "file_extension": ".py",
   "mimetype": "text/x-python",
   "name": "python",
   "nbconvert_exporter": "python",
   "pygments_lexer": "ipython3",
   "version": "3.9.13"
  }
 },
 "nbformat": 4,
 "nbformat_minor": 5
}
