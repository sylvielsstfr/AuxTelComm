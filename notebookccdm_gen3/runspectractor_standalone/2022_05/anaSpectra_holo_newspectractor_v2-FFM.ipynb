{
 "cells": [
  {
   "cell_type": "markdown",
   "metadata": {},
   "source": [
    "#  Analyse spectra holo at AuxTel for Configuration FFM"
   ]
  },
  {
   "cell_type": "markdown",
   "metadata": {},
   "source": [
    "- author : Sylvie Dagoret-Campagne\n",
    "- affiliation : IJCLab/IN2P3/CNES, DESC-LSST fullmember, behalf AuxTel Teal VERA C. Rubin observatory\n",
    "- \n",
    "- creation date : June 10th  2022\n",
    "- last update : June 10th 2022\n",
    "- last update : June 14th 2022\n",
    "\n",
    "\n",
    "\n",
    "- **kernel anaconda3_auxtel** at CC or **python 3** locally"
   ]
  },
  {
   "cell_type": "markdown",
   "metadata": {},
   "source": [
    "# Imports"
   ]
  },
  {
   "cell_type": "code",
   "execution_count": 1,
   "metadata": {},
   "outputs": [],
   "source": [
    "import numpy as np\n",
    "import matplotlib.pyplot as plt\n",
    "%matplotlib inline\n",
    "from mpl_toolkits.axes_grid1 import make_axes_locatable\n",
    "from matplotlib.colors import LogNorm\n",
    "import pandas as pd\n",
    "\n",
    "import matplotlib.ticker                         # here's where the formatter is\n",
    "import os\n",
    "import re\n",
    "import pandas as pd\n",
    "\n",
    "plt.rcParams[\"figure.figsize\"] = (16,4)\n",
    "plt.rcParams[\"axes.labelsize\"] = 'xx-large'\n",
    "plt.rcParams['axes.titlesize'] = 'xx-large'\n",
    "plt.rcParams['xtick.labelsize']= 'xx-large'\n",
    "plt.rcParams['ytick.labelsize']= 'xx-large'"
   ]
  },
  {
   "cell_type": "code",
   "execution_count": 2,
   "metadata": {},
   "outputs": [],
   "source": [
    "import matplotlib.colors as colors\n",
    "import matplotlib.cm as cmx\n",
    "import matplotlib.gridspec as gridspec\n",
    "from matplotlib.patches import Rectangle"
   ]
  },
  {
   "cell_type": "code",
   "execution_count": 3,
   "metadata": {},
   "outputs": [
    {
     "data": {
      "image/png": "[encoded data removed]",
      "text/plain": [
       "<Figure size 360x144 with 1 Axes>"
      ]
     },
     "metadata": {
      "needs_background": "light"
     },
     "output_type": "display_data"
    }
   ],
   "source": [
    "fig=plt.figure(figsize=(5,2))\n",
    "ax=fig.add_subplot(1,1,1)\n",
    "X=np.linspace(-10,10,50)\n",
    "Y=np.sin(X)\n",
    "ax.plot(X,Y)\n",
    "plt.show()               "
   ]
  },
  {
   "cell_type": "code",
   "execution_count": 4,
   "metadata": {},
   "outputs": [],
   "source": [
    "import matplotlib.offsetbox\n",
    "props = dict(boxstyle='round',edgecolor=\"w\",facecolor=\"w\", alpha=0.5)"
   ]
  },
  {
   "cell_type": "code",
   "execution_count": 5,
   "metadata": {},
   "outputs": [],
   "source": [
    "from datetime import datetime,date"
   ]
  },
  {
   "cell_type": "code",
   "execution_count": 6,
   "metadata": {},
   "outputs": [],
   "source": [
    "#pip install fpdf\n",
    "#from fpdf import FPDF\n",
    "\n",
    "import matplotlib.pyplot as plt\n",
    "from matplotlib.backends.backend_pdf import PdfPages"
   ]
  },
  {
   "cell_type": "code",
   "execution_count": 7,
   "metadata": {},
   "outputs": [],
   "source": [
    "today = date.today()\n",
    "string_date=today.strftime(\"%Y-%m-%d\")"
   ]
  },
  {
   "cell_type": "code",
   "execution_count": 8,
   "metadata": {},
   "outputs": [
    {
     "data": {
      "text/plain": [
       "'2022-06-14'"
      ]
     },
     "execution_count": 8,
     "metadata": {},
     "output_type": "execute_result"
    }
   ],
   "source": [
    "string_date"
   ]
  },
  {
   "cell_type": "code",
   "execution_count": 9,
   "metadata": {},
   "outputs": [],
   "source": [
    "from iminuit import Minuit\n",
    "import iminuit"
   ]
  },
  {
   "cell_type": "code",
   "execution_count": 10,
   "metadata": {},
   "outputs": [
    {
     "data": {
      "text/plain": [
       "'2.8.4'"
      ]
     },
     "execution_count": 10,
     "metadata": {},
     "output_type": "execute_result"
    }
   ],
   "source": [
    "iminuit.__version__"
   ]
  },
  {
   "cell_type": "code",
   "execution_count": 11,
   "metadata": {},
   "outputs": [],
   "source": [
    "from astropy.io import fits\n",
    "from spectractor import parameters\n",
    "from spectractor.extractor.extractor import Spectractor\n",
    "from spectractor.extractor.spectrum import Spectrum, detect_lines\n",
    "from spectractor.extractor.spectrum import *\n",
    "#from spectractor.extractor.spectroscopy import Lines, Line ,HALPHA, HBETA, O2_1, H2O_1,H2O_2\n",
    "from spectractor.extractor.spectroscopy import Lines, Line ,HALPHA, HBETA, O2_1, H2O_1, ATMOSPHERIC_LINES\n",
    "from spectractor.config import load_config\n",
    "from spectractor import parameters\n",
    "from spectractor.extractor.images import *\n",
    "from scipy import ndimage, misc\n",
    "from scipy.interpolate import interp1d"
   ]
  },
  {
   "cell_type": "code",
   "execution_count": 12,
   "metadata": {},
   "outputs": [],
   "source": [
    "H2O_2 = Line(960, atmospheric=True, label=r'$H_2 O$', label_pos=[0.007, 0.02],width_bounds=[5, 30])  # libradtran paper fig.3, broad line"
   ]
  },
  {
   "cell_type": "code",
   "execution_count": 13,
   "metadata": {},
   "outputs": [],
   "source": [
    "from time import sleep"
   ]
  },
  {
   "cell_type": "code",
   "execution_count": 14,
   "metadata": {},
   "outputs": [],
   "source": [
    "from astropy.time import Time\n",
    "import astropy.units as u"
   ]
  },
  {
   "cell_type": "code",
   "execution_count": 15,
   "metadata": {},
   "outputs": [],
   "source": [
    "import pickle"
   ]
  },
  {
   "cell_type": "markdown",
   "metadata": {},
   "source": [
    "# Function"
   ]
  },
  {
   "cell_type": "code",
   "execution_count": 16,
   "metadata": {},
   "outputs": [],
   "source": [
    "def file_tag_forsorting(filename):\n",
    "    # m=re.findall('^Cor_holo4_003_.*([0-9][0-9][0-9][0-9]-[0-9][0-9]-[0-9][0-9]_.*)[.]fits$',filename)\n",
    "    m = re.findall('^exposure_.*([0-9][0-9][0-9][0-9][0-9])_postisrccd.*', filename)\n",
    "    if len(m)>0:\n",
    "        return m[0]\n",
    "    else:\n",
    "        return None\n"
   ]
  },
  {
   "cell_type": "code",
   "execution_count": 17,
   "metadata": {},
   "outputs": [],
   "source": [
    "def subdir_tag_forsorting(subdir):\n",
    "    # m=re.findall('^Cor_holo4_003_.*([0-9][0-9][0-9][0-9]-[0-9][0-9]-[0-9][0-9]_.*)[.]fits$',filename)\n",
    "    m = re.findall('.*([0-9][0-9][0-9][0-9][0-9])$', subdir)\n",
    "    if len(m)>0:\n",
    "        return m[0]\n",
    "    else:\n",
    "        return None\n"
   ]
  },
  {
   "cell_type": "code",
   "execution_count": 18,
   "metadata": {},
   "outputs": [
    {
     "data": {
      "text/plain": [
       "'00330'"
      ]
     },
     "execution_count": 18,
     "metadata": {},
     "output_type": "execute_result"
    }
   ],
   "source": [
    "file_tag_forsorting('exposure_2022031600330_postisrccd.fits')"
   ]
  },
  {
   "cell_type": "code",
   "execution_count": 19,
   "metadata": {},
   "outputs": [
    {
     "data": {
      "text/plain": [
       "'00330'"
      ]
     },
     "execution_count": 19,
     "metadata": {},
     "output_type": "execute_result"
    }
   ],
   "source": [
    "subdir_tag_forsorting('2022031600330')"
   ]
  },
  {
   "cell_type": "markdown",
   "metadata": {},
   "source": [
    "# Config"
   ]
  },
  {
   "cell_type": "code",
   "execution_count": 20,
   "metadata": {},
   "outputs": [],
   "source": [
    "# path index for each month\n",
    "DATE=\"20220316\"\n",
    "#DATE=\"20211104\"\n",
    "filterdispersername = \"empty~holo4_003\"\n",
    "#filterdispersername = \"BG40~holo4_003\"\n",
    "imagemode = \"postISRCCD\"\n",
    "#imagemode = \"unflattened\""
   ]
  },
  {
   "cell_type": "code",
   "execution_count": 21,
   "metadata": {},
   "outputs": [],
   "source": [
    "version=\"v5.0\""
   ]
  },
  {
   "cell_type": "code",
   "execution_count": 22,
   "metadata": {},
   "outputs": [],
   "source": [
    "# Choose the config filename\n",
    "list_of_spectractorconfigfiles= ['auxtel_config_holo_DECONVOLUTION_PSF1D.ini' ,'auxtel_config_holo_DECONVOLUTION_PSF2D.ini','auxtel_config_holo_DECONVOLUTION_FFM.ini','auxtel_config_holo_DECONVOLUTION_PSF2DFFM.ini']\n",
    "config_idx = 2\n",
    "configfilename= os.path.join(\"./config\",list_of_spectractorconfigfiles[config_idx])\n",
    "#configdir = (list_of_spectractorconfigfiles[config_idx].split(\"_\")[-1]).split(\".\") [0]\n",
    "configdir = \"config_\" + (list_of_spectractorconfigfiles[config_idx].split(\"auxtel_config_holo_\")[-1]).split(\".\") [0]"
   ]
  },
  {
   "cell_type": "code",
   "execution_count": 23,
   "metadata": {},
   "outputs": [
    {
     "data": {
      "text/plain": [
       "'config_DECONVOLUTION_FFM'"
      ]
     },
     "execution_count": 23,
     "metadata": {},
     "output_type": "execute_result"
    }
   ],
   "source": [
    "configdir "
   ]
  },
  {
   "cell_type": "code",
   "execution_count": 24,
   "metadata": {},
   "outputs": [
    {
     "name": "stdout",
     "output_type": "stream",
     "text": [
      "No rebinning: parameters.REBIN is forced to 1.\n"
     ]
    }
   ],
   "source": [
    "load_config(configfilename)"
   ]
  },
  {
   "cell_type": "code",
   "execution_count": 25,
   "metadata": {},
   "outputs": [
    {
     "data": {
      "text/plain": [
       "'FFM'"
      ]
     },
     "execution_count": 25,
     "metadata": {},
     "output_type": "execute_result"
    }
   ],
   "source": [
    "configmode = list_of_spectractorconfigfiles[config_idx].split(\"auxtel_config_holo_DECONVOLUTION_\")[-1].split(\".\") [0]\n",
    "configmode"
   ]
  },
  {
   "cell_type": "markdown",
   "metadata": {},
   "source": [
    "# Path"
   ]
  },
  {
   "cell_type": "code",
   "execution_count": 26,
   "metadata": {},
   "outputs": [],
   "source": [
    "HOSTCC=True"
   ]
  },
  {
   "cell_type": "code",
   "execution_count": 27,
   "metadata": {},
   "outputs": [],
   "source": [
    "# Set path depending on which computer running (according HOSTCC)\n",
    "if HOSTCC:\n",
    "    path_auxtel=\"/sps/lsst/groups/auxtel\"\n",
    "    path_spectractor=os.path.join(path_auxtel,\"softs/github/desc/Spectractor\")\n",
    "    path_spectractor_config=os.path.join(path_spectractor,\"config\")\n",
    "    path_images=os.path.join(path_auxtel,\"data/2022/\"+filterdispersername+\"/\"+DATE)\n",
    "    if configdir == \"\":\n",
    "        path_output_spectractor=os.path.join(path_auxtel,\"data/2022/OutputSpectractor/\"+imagemode+\"/\"+filterdispersername+\"/\"+DATE)\n",
    "    else:\n",
    "        path_output_spectractor=os.path.join(path_auxtel,\"data/2022/OutputSpectractor/\"+imagemode+\"/\"+filterdispersername+\"/\"+configdir+\"/\"+DATE)\n",
    "        path_topoutput_spectractor=os.path.join(path_auxtel,\"data/2022/OutputSpectractor/\"+imagemode+\"/\"+filterdispersername+\"/\"+configdir)\n",
    "        path_toptopoutput_spectractor=os.path.join(path_auxtel,\"data/2022/OutputSpectractor/\"+imagemode+\"/\"+filterdispersername)\n",
    "        path_toptoptopoutput_spectractor=os.path.join(path_auxtel,\"data/2022/OutputSpectractor/\"+imagemode)\n",
    "\n",
    "else:\n",
    "    path_auxtel=\"/Users/sylvie/DATA/AuxTelData2022\"\n",
    "    path_spectractor=os.path.join(path_auxtel,\"/Users/sylvie/MacOSX/GitHub/LSST/Spectractor\")\n",
    "    path_spectractor_config=os.path.join(path_spectractor,\"config\")\n",
    "    path_images=os.path.join(path_auxtel,\"data/2022/\"+filterdispersername+\"/\"+DATE)\n",
    "    if configdir == \"\":\n",
    "        path_output_spectractor=os.path.join(path_auxtel,\"data/2022/OutputSpectractor/\"+imagemode+\"/\"+filterdispersername+\"/\"+DATE)\n",
    "    else:\n",
    "        path_output_spectractor=os.path.join(path_auxtel,\"data/2022/OutputSpectractor/\"+imagemode+\"/\"+filterdispersername+\"/\"+configdir+\"/\"+DATE)\n",
    "        path_topoutput_spectractor=os.path.join(path_auxtel,\"data/2022/OutputSpectractor/\"+imagemode+\"/\"+filterdispersername+\"/\"+configdir)\n",
    "        path_toptopoutput_spectractor=os.path.join(path_auxtel,\"data/2022/OutputSpectractor/\"+imagemode+\"/\"+filterdispersername)\n",
    "        path_toptoptopoutput_spectractor=os.path.join(path_auxtel,\"data/2022/OutputSpectractor/\"+imagemode)\n"
   ]
  },
  {
   "cell_type": "code",
   "execution_count": 28,
   "metadata": {},
   "outputs": [
    {
     "data": {
      "text/plain": [
       "'/sps/lsst/groups/auxtel/data/2022/OutputSpectractor/postISRCCD/empty~holo4_003/config_DECONVOLUTION_FFM/20220316'"
      ]
     },
     "execution_count": 28,
     "metadata": {},
     "output_type": "execute_result"
    }
   ],
   "source": [
    "path_output_spectractor"
   ]
  },
  {
   "cell_type": "code",
   "execution_count": 29,
   "metadata": {},
   "outputs": [
    {
     "name": "stdout",
     "output_type": "stream",
     "text": [
      "total 0\n",
      "drwxrws--- 1 dagoret lsst 2 Jun  9 22:30 2022031600330\n"
     ]
    }
   ],
   "source": [
    "! ls -l $path_output_spectractor"
   ]
  },
  {
   "cell_type": "code",
   "execution_count": 30,
   "metadata": {},
   "outputs": [
    {
     "name": "stdout",
     "output_type": "stream",
     "text": [
      ">>>>> Spectractor configuration filename : ./config/auxtel_config_holo_DECONVOLUTION_FFM.ini\n"
     ]
    }
   ],
   "source": [
    "# standard configuration for spectractor\n",
    "#config = os.path.join(path_spectractor_config,\"auxtel.ini\")\n",
    "#config=os.path.join(\"./config\",configfilename)\n",
    "config=configfilename\n",
    "print(f\">>>>> Spectractor configuration filename : {configfilename}\")"
   ]
  },
  {
   "cell_type": "code",
   "execution_count": 31,
   "metadata": {},
   "outputs": [
    {
     "name": "stdout",
     "output_type": "stream",
     "text": [
      "No rebinning: parameters.REBIN is forced to 1.\n"
     ]
    }
   ],
   "source": [
    "load_config(configfilename)"
   ]
  },
  {
   "cell_type": "markdown",
   "metadata": {},
   "source": [
    "## Logbook for file selection"
   ]
  },
  {
   "cell_type": "code",
   "execution_count": 32,
   "metadata": {},
   "outputs": [],
   "source": [
    "filename_logbook='logbooks/auxtellogbook_'+filterdispersername+\"_\"+DATE+'_' + version+'.csv'"
   ]
  },
  {
   "cell_type": "code",
   "execution_count": 33,
   "metadata": {},
   "outputs": [],
   "source": [
    "df=pd.read_csv(filename_logbook,index_col=0)"
   ]
  },
  {
   "cell_type": "code",
   "execution_count": 34,
   "metadata": {},
   "outputs": [],
   "source": [
    "pd.set_option('display.max_rows', None)"
   ]
  },
  {
   "cell_type": "code",
   "execution_count": 35,
   "metadata": {},
   "outputs": [
    {
     "data": {
      "text/html": [
       "<div>\n",
       "<style scoped>\n",
       "    .dataframe tbody tr th:only-of-type {\n",
       "        vertical-align: middle;\n",
       "    }\n",
       "\n",
       "    .dataframe tbody tr th {\n",
       "        vertical-align: top;\n",
       "    }\n",
       "\n",
       "    .dataframe thead th {\n",
       "        text-align: right;\n",
       "    }\n",
       "</style>\n",
       "<table border=\"1\" class=\"dataframe\">\n",
       "  <thead>\n",
       "    <tr style=\"text-align: right;\">\n",
       "      <th></th>\n",
       "      <th>index</th>\n",
       "      <th>date</th>\n",
       "      <th>path</th>\n",
       "      <th>file</th>\n",
       "      <th>num</th>\n",
       "      <th>object</th>\n",
       "      <th>filter</th>\n",
       "      <th>disperser</th>\n",
       "      <th>airmass</th>\n",
       "      <th>exposure</th>\n",
       "      <th>...</th>\n",
       "      <th>temperature</th>\n",
       "      <th>humidity</th>\n",
       "      <th>windspd</th>\n",
       "      <th>Obj-posXpix</th>\n",
       "      <th>Obj-posYpix</th>\n",
       "      <th>Dx</th>\n",
       "      <th>Dy</th>\n",
       "      <th>skip</th>\n",
       "      <th>run</th>\n",
       "      <th>quality</th>\n",
       "    </tr>\n",
       "  </thead>\n",
       "  <tbody>\n",
       "    <tr>\n",
       "      <th>0</th>\n",
       "      <td>0</td>\n",
       "      <td>2022-03-17T01:59:37.776</td>\n",
       "      <td>/sps/lsst/groups/auxtel/data/2022/empty~holo4_...</td>\n",
       "      <td>exposure_2022031600330_postisrccd.fits</td>\n",
       "      <td>330</td>\n",
       "      <td>eta dor</td>\n",
       "      <td>empty_1</td>\n",
       "      <td>holo4_003</td>\n",
       "      <td>1.385409</td>\n",
       "      <td>20.0</td>\n",
       "      <td>...</td>\n",
       "      <td>10.6</td>\n",
       "      <td>44.0</td>\n",
       "      <td>7.2</td>\n",
       "      <td>NaN</td>\n",
       "      <td>NaN</td>\n",
       "      <td>NaN</td>\n",
       "      <td>NaN</td>\n",
       "      <td></td>\n",
       "      <td>NaN</td>\n",
       "      <td>NaN</td>\n",
       "    </tr>\n",
       "    <tr>\n",
       "      <th>1</th>\n",
       "      <td>1</td>\n",
       "      <td>2022-03-17T02:00:10.693</td>\n",
       "      <td>/sps/lsst/groups/auxtel/data/2022/empty~holo4_...</td>\n",
       "      <td>exposure_2022031600331_postisrccd.fits</td>\n",
       "      <td>331</td>\n",
       "      <td>eta dor</td>\n",
       "      <td>empty_1</td>\n",
       "      <td>holo4_003</td>\n",
       "      <td>1.386483</td>\n",
       "      <td>20.0</td>\n",
       "      <td>...</td>\n",
       "      <td>10.6</td>\n",
       "      <td>44.0</td>\n",
       "      <td>7.4</td>\n",
       "      <td>NaN</td>\n",
       "      <td>NaN</td>\n",
       "      <td>NaN</td>\n",
       "      <td>NaN</td>\n",
       "      <td></td>\n",
       "      <td>NaN</td>\n",
       "      <td>NaN</td>\n",
       "    </tr>\n",
       "    <tr>\n",
       "      <th>2</th>\n",
       "      <td>2</td>\n",
       "      <td>2022-03-17T02:03:04.275</td>\n",
       "      <td>/sps/lsst/groups/auxtel/data/2022/empty~holo4_...</td>\n",
       "      <td>exposure_2022031600337_postisrccd.fits</td>\n",
       "      <td>337</td>\n",
       "      <td>eta dor</td>\n",
       "      <td>empty_1</td>\n",
       "      <td>holo4_003</td>\n",
       "      <td>1.392269</td>\n",
       "      <td>20.0</td>\n",
       "      <td>...</td>\n",
       "      <td>10.6</td>\n",
       "      <td>43.0</td>\n",
       "      <td>7.4</td>\n",
       "      <td>NaN</td>\n",
       "      <td>NaN</td>\n",
       "      <td>NaN</td>\n",
       "      <td>NaN</td>\n",
       "      <td></td>\n",
       "      <td>NaN</td>\n",
       "      <td>NaN</td>\n",
       "    </tr>\n",
       "    <tr>\n",
       "      <th>3</th>\n",
       "      <td>3</td>\n",
       "      <td>2022-03-17T02:03:37.365</td>\n",
       "      <td>/sps/lsst/groups/auxtel/data/2022/empty~holo4_...</td>\n",
       "      <td>exposure_2022031600338_postisrccd.fits</td>\n",
       "      <td>338</td>\n",
       "      <td>eta dor</td>\n",
       "      <td>empty_1</td>\n",
       "      <td>holo4_003</td>\n",
       "      <td>1.393378</td>\n",
       "      <td>20.0</td>\n",
       "      <td>...</td>\n",
       "      <td>10.6</td>\n",
       "      <td>43.0</td>\n",
       "      <td>7.4</td>\n",
       "      <td>NaN</td>\n",
       "      <td>NaN</td>\n",
       "      <td>NaN</td>\n",
       "      <td>NaN</td>\n",
       "      <td></td>\n",
       "      <td>NaN</td>\n",
       "      <td>NaN</td>\n",
       "    </tr>\n",
       "    <tr>\n",
       "      <th>4</th>\n",
       "      <td>4</td>\n",
       "      <td>2022-03-17T02:06:31.026</td>\n",
       "      <td>/sps/lsst/groups/auxtel/data/2022/empty~holo4_...</td>\n",
       "      <td>exposure_2022031600344_postisrccd.fits</td>\n",
       "      <td>344</td>\n",
       "      <td>eta dor</td>\n",
       "      <td>empty_1</td>\n",
       "      <td>holo4_003</td>\n",
       "      <td>1.399309</td>\n",
       "      <td>20.0</td>\n",
       "      <td>...</td>\n",
       "      <td>10.5</td>\n",
       "      <td>43.0</td>\n",
       "      <td>8.2</td>\n",
       "      <td>NaN</td>\n",
       "      <td>NaN</td>\n",
       "      <td>NaN</td>\n",
       "      <td>NaN</td>\n",
       "      <td></td>\n",
       "      <td>NaN</td>\n",
       "      <td>NaN</td>\n",
       "    </tr>\n",
       "    <tr>\n",
       "      <th>5</th>\n",
       "      <td>5</td>\n",
       "      <td>2022-03-17T02:07:03.927</td>\n",
       "      <td>/sps/lsst/groups/auxtel/data/2022/empty~holo4_...</td>\n",
       "      <td>exposure_2022031600345_postisrccd.fits</td>\n",
       "      <td>345</td>\n",
       "      <td>eta dor</td>\n",
       "      <td>empty_1</td>\n",
       "      <td>holo4_003</td>\n",
       "      <td>1.400449</td>\n",
       "      <td>20.0</td>\n",
       "      <td>...</td>\n",
       "      <td>10.5</td>\n",
       "      <td>43.0</td>\n",
       "      <td>7.6</td>\n",
       "      <td>NaN</td>\n",
       "      <td>NaN</td>\n",
       "      <td>NaN</td>\n",
       "      <td>NaN</td>\n",
       "      <td></td>\n",
       "      <td>NaN</td>\n",
       "      <td>NaN</td>\n",
       "    </tr>\n",
       "    <tr>\n",
       "      <th>6</th>\n",
       "      <td>6</td>\n",
       "      <td>2022-03-17T02:11:00.681</td>\n",
       "      <td>/sps/lsst/groups/auxtel/data/2022/empty~holo4_...</td>\n",
       "      <td>exposure_2022031600351_postisrccd.fits</td>\n",
       "      <td>351</td>\n",
       "      <td>HD111980</td>\n",
       "      <td>empty_1</td>\n",
       "      <td>holo4_003</td>\n",
       "      <td>1.647734</td>\n",
       "      <td>20.0</td>\n",
       "      <td>...</td>\n",
       "      <td>10.5</td>\n",
       "      <td>43.0</td>\n",
       "      <td>13.1</td>\n",
       "      <td>300.0</td>\n",
       "      <td>1700.0</td>\n",
       "      <td>NaN</td>\n",
       "      <td>NaN</td>\n",
       "      <td></td>\n",
       "      <td>1.0</td>\n",
       "      <td>1.0</td>\n",
       "    </tr>\n",
       "    <tr>\n",
       "      <th>7</th>\n",
       "      <td>7</td>\n",
       "      <td>2022-03-17T02:11:33.581</td>\n",
       "      <td>/sps/lsst/groups/auxtel/data/2022/empty~holo4_...</td>\n",
       "      <td>exposure_2022031600352_postisrccd.fits</td>\n",
       "      <td>352</td>\n",
       "      <td>HD111980</td>\n",
       "      <td>empty_1</td>\n",
       "      <td>holo4_003</td>\n",
       "      <td>1.643280</td>\n",
       "      <td>20.0</td>\n",
       "      <td>...</td>\n",
       "      <td>10.5</td>\n",
       "      <td>43.0</td>\n",
       "      <td>13.1</td>\n",
       "      <td>NaN</td>\n",
       "      <td>NaN</td>\n",
       "      <td>NaN</td>\n",
       "      <td>NaN</td>\n",
       "      <td></td>\n",
       "      <td>NaN</td>\n",
       "      <td>NaN</td>\n",
       "    </tr>\n",
       "    <tr>\n",
       "      <th>8</th>\n",
       "      <td>8</td>\n",
       "      <td>2022-03-17T02:14:30.261</td>\n",
       "      <td>/sps/lsst/groups/auxtel/data/2022/empty~holo4_...</td>\n",
       "      <td>exposure_2022031600358_postisrccd.fits</td>\n",
       "      <td>358</td>\n",
       "      <td>HD111980</td>\n",
       "      <td>empty_1</td>\n",
       "      <td>holo4_003</td>\n",
       "      <td>1.619945</td>\n",
       "      <td>20.0</td>\n",
       "      <td>...</td>\n",
       "      <td>10.5</td>\n",
       "      <td>43.0</td>\n",
       "      <td>12.1</td>\n",
       "      <td>NaN</td>\n",
       "      <td>NaN</td>\n",
       "      <td>NaN</td>\n",
       "      <td>NaN</td>\n",
       "      <td></td>\n",
       "      <td>NaN</td>\n",
       "      <td>NaN</td>\n",
       "    </tr>\n",
       "    <tr>\n",
       "      <th>9</th>\n",
       "      <td>9</td>\n",
       "      <td>2022-03-17T02:15:03.181</td>\n",
       "      <td>/sps/lsst/groups/auxtel/data/2022/empty~holo4_...</td>\n",
       "      <td>exposure_2022031600359_postisrccd.fits</td>\n",
       "      <td>359</td>\n",
       "      <td>HD111980</td>\n",
       "      <td>empty_1</td>\n",
       "      <td>holo4_003</td>\n",
       "      <td>1.615702</td>\n",
       "      <td>20.0</td>\n",
       "      <td>...</td>\n",
       "      <td>10.5</td>\n",
       "      <td>44.0</td>\n",
       "      <td>6.9</td>\n",
       "      <td>NaN</td>\n",
       "      <td>NaN</td>\n",
       "      <td>NaN</td>\n",
       "      <td>NaN</td>\n",
       "      <td></td>\n",
       "      <td>NaN</td>\n",
       "      <td>NaN</td>\n",
       "    </tr>\n",
       "    <tr>\n",
       "      <th>10</th>\n",
       "      <td>10</td>\n",
       "      <td>2022-03-17T02:17:59.397</td>\n",
       "      <td>/sps/lsst/groups/auxtel/data/2022/empty~holo4_...</td>\n",
       "      <td>exposure_2022031600365_postisrccd.fits</td>\n",
       "      <td>365</td>\n",
       "      <td>HD111980</td>\n",
       "      <td>empty_1</td>\n",
       "      <td>holo4_003</td>\n",
       "      <td>1.593415</td>\n",
       "      <td>20.0</td>\n",
       "      <td>...</td>\n",
       "      <td>10.5</td>\n",
       "      <td>42.0</td>\n",
       "      <td>6.8</td>\n",
       "      <td>NaN</td>\n",
       "      <td>NaN</td>\n",
       "      <td>NaN</td>\n",
       "      <td>NaN</td>\n",
       "      <td></td>\n",
       "      <td>NaN</td>\n",
       "      <td>NaN</td>\n",
       "    </tr>\n",
       "    <tr>\n",
       "      <th>11</th>\n",
       "      <td>11</td>\n",
       "      <td>2022-03-17T02:18:32.481</td>\n",
       "      <td>/sps/lsst/groups/auxtel/data/2022/empty~holo4_...</td>\n",
       "      <td>exposure_2022031600366_postisrccd.fits</td>\n",
       "      <td>366</td>\n",
       "      <td>HD111980</td>\n",
       "      <td>empty_1</td>\n",
       "      <td>holo4_003</td>\n",
       "      <td>1.589327</td>\n",
       "      <td>20.0</td>\n",
       "      <td>...</td>\n",
       "      <td>10.5</td>\n",
       "      <td>42.0</td>\n",
       "      <td>6.8</td>\n",
       "      <td>NaN</td>\n",
       "      <td>NaN</td>\n",
       "      <td>NaN</td>\n",
       "      <td>NaN</td>\n",
       "      <td></td>\n",
       "      <td>NaN</td>\n",
       "      <td>NaN</td>\n",
       "    </tr>\n",
       "    <tr>\n",
       "      <th>12</th>\n",
       "      <td>12</td>\n",
       "      <td>2022-03-17T02:22:39.026</td>\n",
       "      <td>/sps/lsst/groups/auxtel/data/2022/empty~holo4_...</td>\n",
       "      <td>exposure_2022031600372_postisrccd.fits</td>\n",
       "      <td>372</td>\n",
       "      <td>eta dor</td>\n",
       "      <td>empty_1</td>\n",
       "      <td>holo4_003</td>\n",
       "      <td>1.434807</td>\n",
       "      <td>20.0</td>\n",
       "      <td>...</td>\n",
       "      <td>10.5</td>\n",
       "      <td>42.0</td>\n",
       "      <td>6.6</td>\n",
       "      <td>NaN</td>\n",
       "      <td>NaN</td>\n",
       "      <td>NaN</td>\n",
       "      <td>NaN</td>\n",
       "      <td></td>\n",
       "      <td>NaN</td>\n",
       "      <td>NaN</td>\n",
       "    </tr>\n",
       "    <tr>\n",
       "      <th>13</th>\n",
       "      <td>13</td>\n",
       "      <td>2022-03-17T02:23:12.104</td>\n",
       "      <td>/sps/lsst/groups/auxtel/data/2022/empty~holo4_...</td>\n",
       "      <td>exposure_2022031600373_postisrccd.fits</td>\n",
       "      <td>373</td>\n",
       "      <td>eta dor</td>\n",
       "      <td>empty_1</td>\n",
       "      <td>holo4_003</td>\n",
       "      <td>1.436089</td>\n",
       "      <td>20.0</td>\n",
       "      <td>...</td>\n",
       "      <td>10.4</td>\n",
       "      <td>42.0</td>\n",
       "      <td>14.9</td>\n",
       "      <td>NaN</td>\n",
       "      <td>NaN</td>\n",
       "      <td>NaN</td>\n",
       "      <td>NaN</td>\n",
       "      <td></td>\n",
       "      <td>NaN</td>\n",
       "      <td>NaN</td>\n",
       "    </tr>\n",
       "    <tr>\n",
       "      <th>14</th>\n",
       "      <td>14</td>\n",
       "      <td>2022-03-17T02:26:07.782</td>\n",
       "      <td>/sps/lsst/groups/auxtel/data/2022/empty~holo4_...</td>\n",
       "      <td>exposure_2022031600379_postisrccd.fits</td>\n",
       "      <td>379</td>\n",
       "      <td>eta dor</td>\n",
       "      <td>empty_1</td>\n",
       "      <td>holo4_003</td>\n",
       "      <td>1.443028</td>\n",
       "      <td>20.0</td>\n",
       "      <td>...</td>\n",
       "      <td>10.5</td>\n",
       "      <td>42.0</td>\n",
       "      <td>6.7</td>\n",
       "      <td>NaN</td>\n",
       "      <td>NaN</td>\n",
       "      <td>NaN</td>\n",
       "      <td>NaN</td>\n",
       "      <td></td>\n",
       "      <td>NaN</td>\n",
       "      <td>NaN</td>\n",
       "    </tr>\n",
       "    <tr>\n",
       "      <th>15</th>\n",
       "      <td>15</td>\n",
       "      <td>2022-03-17T02:26:40.735</td>\n",
       "      <td>/sps/lsst/groups/auxtel/data/2022/empty~holo4_...</td>\n",
       "      <td>exposure_2022031600380_postisrccd.fits</td>\n",
       "      <td>380</td>\n",
       "      <td>eta dor</td>\n",
       "      <td>empty_1</td>\n",
       "      <td>holo4_003</td>\n",
       "      <td>1.444342</td>\n",
       "      <td>20.0</td>\n",
       "      <td>...</td>\n",
       "      <td>10.5</td>\n",
       "      <td>42.0</td>\n",
       "      <td>6.7</td>\n",
       "      <td>NaN</td>\n",
       "      <td>NaN</td>\n",
       "      <td>NaN</td>\n",
       "      <td>NaN</td>\n",
       "      <td></td>\n",
       "      <td>NaN</td>\n",
       "      <td>NaN</td>\n",
       "    </tr>\n",
       "    <tr>\n",
       "      <th>16</th>\n",
       "      <td>16</td>\n",
       "      <td>2022-03-17T02:29:37.041</td>\n",
       "      <td>/sps/lsst/groups/auxtel/data/2022/empty~holo4_...</td>\n",
       "      <td>exposure_2022031600386_postisrccd.fits</td>\n",
       "      <td>386</td>\n",
       "      <td>eta dor</td>\n",
       "      <td>empty_1</td>\n",
       "      <td>holo4_003</td>\n",
       "      <td>1.451472</td>\n",
       "      <td>20.0</td>\n",
       "      <td>...</td>\n",
       "      <td>10.5</td>\n",
       "      <td>42.0</td>\n",
       "      <td>8.2</td>\n",
       "      <td>NaN</td>\n",
       "      <td>NaN</td>\n",
       "      <td>NaN</td>\n",
       "      <td>NaN</td>\n",
       "      <td></td>\n",
       "      <td>NaN</td>\n",
       "      <td>NaN</td>\n",
       "    </tr>\n",
       "    <tr>\n",
       "      <th>17</th>\n",
       "      <td>17</td>\n",
       "      <td>2022-03-17T02:30:10.043</td>\n",
       "      <td>/sps/lsst/groups/auxtel/data/2022/empty~holo4_...</td>\n",
       "      <td>exposure_2022031600387_postisrccd.fits</td>\n",
       "      <td>387</td>\n",
       "      <td>eta dor</td>\n",
       "      <td>empty_1</td>\n",
       "      <td>holo4_003</td>\n",
       "      <td>1.452820</td>\n",
       "      <td>20.0</td>\n",
       "      <td>...</td>\n",
       "      <td>10.5</td>\n",
       "      <td>42.0</td>\n",
       "      <td>5.5</td>\n",
       "      <td>NaN</td>\n",
       "      <td>NaN</td>\n",
       "      <td>NaN</td>\n",
       "      <td>NaN</td>\n",
       "      <td></td>\n",
       "      <td>NaN</td>\n",
       "      <td>NaN</td>\n",
       "    </tr>\n",
       "    <tr>\n",
       "      <th>18</th>\n",
       "      <td>18</td>\n",
       "      <td>2022-03-17T02:34:15.754</td>\n",
       "      <td>/sps/lsst/groups/auxtel/data/2022/empty~holo4_...</td>\n",
       "      <td>exposure_2022031600393_postisrccd.fits</td>\n",
       "      <td>393</td>\n",
       "      <td>HD111980</td>\n",
       "      <td>empty_1</td>\n",
       "      <td>holo4_003</td>\n",
       "      <td>1.483400</td>\n",
       "      <td>20.0</td>\n",
       "      <td>...</td>\n",
       "      <td>10.5</td>\n",
       "      <td>42.0</td>\n",
       "      <td>6.3</td>\n",
       "      <td>NaN</td>\n",
       "      <td>NaN</td>\n",
       "      <td>NaN</td>\n",
       "      <td>NaN</td>\n",
       "      <td></td>\n",
       "      <td>NaN</td>\n",
       "      <td>NaN</td>\n",
       "    </tr>\n",
       "    <tr>\n",
       "      <th>19</th>\n",
       "      <td>19</td>\n",
       "      <td>2022-03-17T02:34:48.848</td>\n",
       "      <td>/sps/lsst/groups/auxtel/data/2022/empty~holo4_...</td>\n",
       "      <td>exposure_2022031600394_postisrccd.fits</td>\n",
       "      <td>394</td>\n",
       "      <td>HD111980</td>\n",
       "      <td>empty_1</td>\n",
       "      <td>holo4_003</td>\n",
       "      <td>1.480042</td>\n",
       "      <td>20.0</td>\n",
       "      <td>...</td>\n",
       "      <td>10.6</td>\n",
       "      <td>42.0</td>\n",
       "      <td>6.5</td>\n",
       "      <td>NaN</td>\n",
       "      <td>NaN</td>\n",
       "      <td>NaN</td>\n",
       "      <td>NaN</td>\n",
       "      <td></td>\n",
       "      <td>NaN</td>\n",
       "      <td>NaN</td>\n",
       "    </tr>\n",
       "    <tr>\n",
       "      <th>20</th>\n",
       "      <td>20</td>\n",
       "      <td>2022-03-17T02:38:56.232</td>\n",
       "      <td>/sps/lsst/groups/auxtel/data/2022/empty~holo4_...</td>\n",
       "      <td>exposure_2022031600400_postisrccd.fits</td>\n",
       "      <td>400</td>\n",
       "      <td>eta dor</td>\n",
       "      <td>empty_1</td>\n",
       "      <td>holo4_003</td>\n",
       "      <td>1.475077</td>\n",
       "      <td>20.0</td>\n",
       "      <td>...</td>\n",
       "      <td>10.5</td>\n",
       "      <td>43.0</td>\n",
       "      <td>6.1</td>\n",
       "      <td>NaN</td>\n",
       "      <td>NaN</td>\n",
       "      <td>NaN</td>\n",
       "      <td>NaN</td>\n",
       "      <td></td>\n",
       "      <td>NaN</td>\n",
       "      <td>NaN</td>\n",
       "    </tr>\n",
       "    <tr>\n",
       "      <th>21</th>\n",
       "      <td>21</td>\n",
       "      <td>2022-03-17T02:39:29.123</td>\n",
       "      <td>/sps/lsst/groups/auxtel/data/2022/empty~holo4_...</td>\n",
       "      <td>exposure_2022031600401_postisrccd.fits</td>\n",
       "      <td>401</td>\n",
       "      <td>eta dor</td>\n",
       "      <td>empty_1</td>\n",
       "      <td>holo4_003</td>\n",
       "      <td>1.476509</td>\n",
       "      <td>20.0</td>\n",
       "      <td>...</td>\n",
       "      <td>10.5</td>\n",
       "      <td>43.0</td>\n",
       "      <td>6.1</td>\n",
       "      <td>NaN</td>\n",
       "      <td>NaN</td>\n",
       "      <td>NaN</td>\n",
       "      <td>NaN</td>\n",
       "      <td></td>\n",
       "      <td>NaN</td>\n",
       "      <td>NaN</td>\n",
       "    </tr>\n",
       "    <tr>\n",
       "      <th>22</th>\n",
       "      <td>22</td>\n",
       "      <td>2022-03-17T03:11:58.564</td>\n",
       "      <td>/sps/lsst/groups/auxtel/data/2022/empty~holo4_...</td>\n",
       "      <td>exposure_2022031600420_postisrccd.fits</td>\n",
       "      <td>420</td>\n",
       "      <td>HD111980</td>\n",
       "      <td>empty_1</td>\n",
       "      <td>holo4_003</td>\n",
       "      <td>1.295777</td>\n",
       "      <td>20.0</td>\n",
       "      <td>...</td>\n",
       "      <td>10.6</td>\n",
       "      <td>51.0</td>\n",
       "      <td>4.5</td>\n",
       "      <td>NaN</td>\n",
       "      <td>NaN</td>\n",
       "      <td>NaN</td>\n",
       "      <td>NaN</td>\n",
       "      <td></td>\n",
       "      <td>NaN</td>\n",
       "      <td>NaN</td>\n",
       "    </tr>\n",
       "    <tr>\n",
       "      <th>23</th>\n",
       "      <td>23</td>\n",
       "      <td>2022-03-17T03:12:31.562</td>\n",
       "      <td>/sps/lsst/groups/auxtel/data/2022/empty~holo4_...</td>\n",
       "      <td>exposure_2022031600421_postisrccd.fits</td>\n",
       "      <td>421</td>\n",
       "      <td>HD111980</td>\n",
       "      <td>empty_1</td>\n",
       "      <td>holo4_003</td>\n",
       "      <td>1.293586</td>\n",
       "      <td>20.0</td>\n",
       "      <td>...</td>\n",
       "      <td>10.6</td>\n",
       "      <td>51.0</td>\n",
       "      <td>4.5</td>\n",
       "      <td>NaN</td>\n",
       "      <td>NaN</td>\n",
       "      <td>NaN</td>\n",
       "      <td>NaN</td>\n",
       "      <td></td>\n",
       "      <td>NaN</td>\n",
       "      <td>NaN</td>\n",
       "    </tr>\n",
       "    <tr>\n",
       "      <th>24</th>\n",
       "      <td>24</td>\n",
       "      <td>2022-03-17T03:15:28.519</td>\n",
       "      <td>/sps/lsst/groups/auxtel/data/2022/empty~holo4_...</td>\n",
       "      <td>exposure_2022031600427_postisrccd.fits</td>\n",
       "      <td>427</td>\n",
       "      <td>HD111980</td>\n",
       "      <td>empty_1</td>\n",
       "      <td>holo4_003</td>\n",
       "      <td>1.282047</td>\n",
       "      <td>20.0</td>\n",
       "      <td>...</td>\n",
       "      <td>10.7</td>\n",
       "      <td>50.0</td>\n",
       "      <td>4.8</td>\n",
       "      <td>NaN</td>\n",
       "      <td>NaN</td>\n",
       "      <td>NaN</td>\n",
       "      <td>NaN</td>\n",
       "      <td></td>\n",
       "      <td>NaN</td>\n",
       "      <td>NaN</td>\n",
       "    </tr>\n",
       "    <tr>\n",
       "      <th>25</th>\n",
       "      <td>25</td>\n",
       "      <td>2022-03-17T03:16:01.707</td>\n",
       "      <td>/sps/lsst/groups/auxtel/data/2022/empty~holo4_...</td>\n",
       "      <td>exposure_2022031600428_postisrccd.fits</td>\n",
       "      <td>428</td>\n",
       "      <td>HD111980</td>\n",
       "      <td>empty_1</td>\n",
       "      <td>holo4_003</td>\n",
       "      <td>1.279939</td>\n",
       "      <td>20.0</td>\n",
       "      <td>...</td>\n",
       "      <td>10.7</td>\n",
       "      <td>49.0</td>\n",
       "      <td>5.1</td>\n",
       "      <td>NaN</td>\n",
       "      <td>NaN</td>\n",
       "      <td>NaN</td>\n",
       "      <td>NaN</td>\n",
       "      <td></td>\n",
       "      <td>NaN</td>\n",
       "      <td>NaN</td>\n",
       "    </tr>\n",
       "    <tr>\n",
       "      <th>26</th>\n",
       "      <td>26</td>\n",
       "      <td>2022-03-17T03:21:49.842</td>\n",
       "      <td>/sps/lsst/groups/auxtel/data/2022/empty~holo4_...</td>\n",
       "      <td>exposure_2022031600434_postisrccd.fits</td>\n",
       "      <td>434</td>\n",
       "      <td>HD111980</td>\n",
       "      <td>empty_1</td>\n",
       "      <td>holo4_003</td>\n",
       "      <td>1.258452</td>\n",
       "      <td>20.0</td>\n",
       "      <td>...</td>\n",
       "      <td>10.7</td>\n",
       "      <td>49.0</td>\n",
       "      <td>3.4</td>\n",
       "      <td>NaN</td>\n",
       "      <td>NaN</td>\n",
       "      <td>NaN</td>\n",
       "      <td>NaN</td>\n",
       "      <td></td>\n",
       "      <td>NaN</td>\n",
       "      <td>NaN</td>\n",
       "    </tr>\n",
       "    <tr>\n",
       "      <th>27</th>\n",
       "      <td>27</td>\n",
       "      <td>2022-03-17T03:22:22.856</td>\n",
       "      <td>/sps/lsst/groups/auxtel/data/2022/empty~holo4_...</td>\n",
       "      <td>exposure_2022031600435_postisrccd.fits</td>\n",
       "      <td>435</td>\n",
       "      <td>HD111980</td>\n",
       "      <td>empty_1</td>\n",
       "      <td>holo4_003</td>\n",
       "      <td>1.256483</td>\n",
       "      <td>20.0</td>\n",
       "      <td>...</td>\n",
       "      <td>10.7</td>\n",
       "      <td>49.0</td>\n",
       "      <td>3.4</td>\n",
       "      <td>NaN</td>\n",
       "      <td>NaN</td>\n",
       "      <td>NaN</td>\n",
       "      <td>NaN</td>\n",
       "      <td></td>\n",
       "      <td>NaN</td>\n",
       "      <td>NaN</td>\n",
       "    </tr>\n",
       "  </tbody>\n",
       "</table>\n",
       "<p>28 rows × 23 columns</p>\n",
       "</div>"
      ],
      "text/plain": [
       "    index                     date  \\\n",
       "0       0  2022-03-17T01:59:37.776   \n",
       "1       1  2022-03-17T02:00:10.693   \n",
       "2       2  2022-03-17T02:03:04.275   \n",
       "3       3  2022-03-17T02:03:37.365   \n",
       "4       4  2022-03-17T02:06:31.026   \n",
       "5       5  2022-03-17T02:07:03.927   \n",
       "6       6  2022-03-17T02:11:00.681   \n",
       "7       7  2022-03-17T02:11:33.581   \n",
       "8       8  2022-03-17T02:14:30.261   \n",
       "9       9  2022-03-17T02:15:03.181   \n",
       "10     10  2022-03-17T02:17:59.397   \n",
       "11     11  2022-03-17T02:18:32.481   \n",
       "12     12  2022-03-17T02:22:39.026   \n",
       "13     13  2022-03-17T02:23:12.104   \n",
       "14     14  2022-03-17T02:26:07.782   \n",
       "15     15  2022-03-17T02:26:40.735   \n",
       "16     16  2022-03-17T02:29:37.041   \n",
       "17     17  2022-03-17T02:30:10.043   \n",
       "18     18  2022-03-17T02:34:15.754   \n",
       "19     19  2022-03-17T02:34:48.848   \n",
       "20     20  2022-03-17T02:38:56.232   \n",
       "21     21  2022-03-17T02:39:29.123   \n",
       "22     22  2022-03-17T03:11:58.564   \n",
       "23     23  2022-03-17T03:12:31.562   \n",
       "24     24  2022-03-17T03:15:28.519   \n",
       "25     25  2022-03-17T03:16:01.707   \n",
       "26     26  2022-03-17T03:21:49.842   \n",
       "27     27  2022-03-17T03:22:22.856   \n",
       "\n",
       "                                                 path  \\\n",
       "0   /sps/lsst/groups/auxtel/data/2022/empty~holo4_...   \n",
       "1   /sps/lsst/groups/auxtel/data/2022/empty~holo4_...   \n",
       "2   /sps/lsst/groups/auxtel/data/2022/empty~holo4_...   \n",
       "3   /sps/lsst/groups/auxtel/data/2022/empty~holo4_...   \n",
       "4   /sps/lsst/groups/auxtel/data/2022/empty~holo4_...   \n",
       "5   /sps/lsst/groups/auxtel/data/2022/empty~holo4_...   \n",
       "6   /sps/lsst/groups/auxtel/data/2022/empty~holo4_...   \n",
       "7   /sps/lsst/groups/auxtel/data/2022/empty~holo4_...   \n",
       "8   /sps/lsst/groups/auxtel/data/2022/empty~holo4_...   \n",
       "9   /sps/lsst/groups/auxtel/data/2022/empty~holo4_...   \n",
       "10  /sps/lsst/groups/auxtel/data/2022/empty~holo4_...   \n",
       "11  /sps/lsst/groups/auxtel/data/2022/empty~holo4_...   \n",
       "12  /sps/lsst/groups/auxtel/data/2022/empty~holo4_...   \n",
       "13  /sps/lsst/groups/auxtel/data/2022/empty~holo4_...   \n",
       "14  /sps/lsst/groups/auxtel/data/2022/empty~holo4_...   \n",
       "15  /sps/lsst/groups/auxtel/data/2022/empty~holo4_...   \n",
       "16  /sps/lsst/groups/auxtel/data/2022/empty~holo4_...   \n",
       "17  /sps/lsst/groups/auxtel/data/2022/empty~holo4_...   \n",
       "18  /sps/lsst/groups/auxtel/data/2022/empty~holo4_...   \n",
       "19  /sps/lsst/groups/auxtel/data/2022/empty~holo4_...   \n",
       "20  /sps/lsst/groups/auxtel/data/2022/empty~holo4_...   \n",
       "21  /sps/lsst/groups/auxtel/data/2022/empty~holo4_...   \n",
       "22  /sps/lsst/groups/auxtel/data/2022/empty~holo4_...   \n",
       "23  /sps/lsst/groups/auxtel/data/2022/empty~holo4_...   \n",
       "24  /sps/lsst/groups/auxtel/data/2022/empty~holo4_...   \n",
       "25  /sps/lsst/groups/auxtel/data/2022/empty~holo4_...   \n",
       "26  /sps/lsst/groups/auxtel/data/2022/empty~holo4_...   \n",
       "27  /sps/lsst/groups/auxtel/data/2022/empty~holo4_...   \n",
       "\n",
       "                                      file  num    object   filter  disperser  \\\n",
       "0   exposure_2022031600330_postisrccd.fits  330   eta dor  empty_1  holo4_003   \n",
       "1   exposure_2022031600331_postisrccd.fits  331   eta dor  empty_1  holo4_003   \n",
       "2   exposure_2022031600337_postisrccd.fits  337   eta dor  empty_1  holo4_003   \n",
       "3   exposure_2022031600338_postisrccd.fits  338   eta dor  empty_1  holo4_003   \n",
       "4   exposure_2022031600344_postisrccd.fits  344   eta dor  empty_1  holo4_003   \n",
       "5   exposure_2022031600345_postisrccd.fits  345   eta dor  empty_1  holo4_003   \n",
       "6   exposure_2022031600351_postisrccd.fits  351  HD111980  empty_1  holo4_003   \n",
       "7   exposure_2022031600352_postisrccd.fits  352  HD111980  empty_1  holo4_003   \n",
       "8   exposure_2022031600358_postisrccd.fits  358  HD111980  empty_1  holo4_003   \n",
       "9   exposure_2022031600359_postisrccd.fits  359  HD111980  empty_1  holo4_003   \n",
       "10  exposure_2022031600365_postisrccd.fits  365  HD111980  empty_1  holo4_003   \n",
       "11  exposure_2022031600366_postisrccd.fits  366  HD111980  empty_1  holo4_003   \n",
       "12  exposure_2022031600372_postisrccd.fits  372   eta dor  empty_1  holo4_003   \n",
       "13  exposure_2022031600373_postisrccd.fits  373   eta dor  empty_1  holo4_003   \n",
       "14  exposure_2022031600379_postisrccd.fits  379   eta dor  empty_1  holo4_003   \n",
       "15  exposure_2022031600380_postisrccd.fits  380   eta dor  empty_1  holo4_003   \n",
       "16  exposure_2022031600386_postisrccd.fits  386   eta dor  empty_1  holo4_003   \n",
       "17  exposure_2022031600387_postisrccd.fits  387   eta dor  empty_1  holo4_003   \n",
       "18  exposure_2022031600393_postisrccd.fits  393  HD111980  empty_1  holo4_003   \n",
       "19  exposure_2022031600394_postisrccd.fits  394  HD111980  empty_1  holo4_003   \n",
       "20  exposure_2022031600400_postisrccd.fits  400   eta dor  empty_1  holo4_003   \n",
       "21  exposure_2022031600401_postisrccd.fits  401   eta dor  empty_1  holo4_003   \n",
       "22  exposure_2022031600420_postisrccd.fits  420  HD111980  empty_1  holo4_003   \n",
       "23  exposure_2022031600421_postisrccd.fits  421  HD111980  empty_1  holo4_003   \n",
       "24  exposure_2022031600427_postisrccd.fits  427  HD111980  empty_1  holo4_003   \n",
       "25  exposure_2022031600428_postisrccd.fits  428  HD111980  empty_1  holo4_003   \n",
       "26  exposure_2022031600434_postisrccd.fits  434  HD111980  empty_1  holo4_003   \n",
       "27  exposure_2022031600435_postisrccd.fits  435  HD111980  empty_1  holo4_003   \n",
       "\n",
       "     airmass  exposure  ...  temperature  humidity  windspd  Obj-posXpix  \\\n",
       "0   1.385409      20.0  ...         10.6      44.0      7.2          NaN   \n",
       "1   1.386483      20.0  ...         10.6      44.0      7.4          NaN   \n",
       "2   1.392269      20.0  ...         10.6      43.0      7.4          NaN   \n",
       "3   1.393378      20.0  ...         10.6      43.0      7.4          NaN   \n",
       "4   1.399309      20.0  ...         10.5      43.0      8.2          NaN   \n",
       "5   1.400449      20.0  ...         10.5      43.0      7.6          NaN   \n",
       "6   1.647734      20.0  ...         10.5      43.0     13.1        300.0   \n",
       "7   1.643280      20.0  ...         10.5      43.0     13.1          NaN   \n",
       "8   1.619945      20.0  ...         10.5      43.0     12.1          NaN   \n",
       "9   1.615702      20.0  ...         10.5      44.0      6.9          NaN   \n",
       "10  1.593415      20.0  ...         10.5      42.0      6.8          NaN   \n",
       "11  1.589327      20.0  ...         10.5      42.0      6.8          NaN   \n",
       "12  1.434807      20.0  ...         10.5      42.0      6.6          NaN   \n",
       "13  1.436089      20.0  ...         10.4      42.0     14.9          NaN   \n",
       "14  1.443028      20.0  ...         10.5      42.0      6.7          NaN   \n",
       "15  1.444342      20.0  ...         10.5      42.0      6.7          NaN   \n",
       "16  1.451472      20.0  ...         10.5      42.0      8.2          NaN   \n",
       "17  1.452820      20.0  ...         10.5      42.0      5.5          NaN   \n",
       "18  1.483400      20.0  ...         10.5      42.0      6.3          NaN   \n",
       "19  1.480042      20.0  ...         10.6      42.0      6.5          NaN   \n",
       "20  1.475077      20.0  ...         10.5      43.0      6.1          NaN   \n",
       "21  1.476509      20.0  ...         10.5      43.0      6.1          NaN   \n",
       "22  1.295777      20.0  ...         10.6      51.0      4.5          NaN   \n",
       "23  1.293586      20.0  ...         10.6      51.0      4.5          NaN   \n",
       "24  1.282047      20.0  ...         10.7      50.0      4.8          NaN   \n",
       "25  1.279939      20.0  ...         10.7      49.0      5.1          NaN   \n",
       "26  1.258452      20.0  ...         10.7      49.0      3.4          NaN   \n",
       "27  1.256483      20.0  ...         10.7      49.0      3.4          NaN   \n",
       "\n",
       "    Obj-posYpix  Dx  Dy  skip  run  quality  \n",
       "0           NaN NaN NaN        NaN      NaN  \n",
       "1           NaN NaN NaN        NaN      NaN  \n",
       "2           NaN NaN NaN        NaN      NaN  \n",
       "3           NaN NaN NaN        NaN      NaN  \n",
       "4           NaN NaN NaN        NaN      NaN  \n",
       "5           NaN NaN NaN        NaN      NaN  \n",
       "6        1700.0 NaN NaN        1.0      1.0  \n",
       "7           NaN NaN NaN        NaN      NaN  \n",
       "8           NaN NaN NaN        NaN      NaN  \n",
       "9           NaN NaN NaN        NaN      NaN  \n",
       "10          NaN NaN NaN        NaN      NaN  \n",
       "11          NaN NaN NaN        NaN      NaN  \n",
       "12          NaN NaN NaN        NaN      NaN  \n",
       "13          NaN NaN NaN        NaN      NaN  \n",
       "14          NaN NaN NaN        NaN      NaN  \n",
       "15          NaN NaN NaN        NaN      NaN  \n",
       "16          NaN NaN NaN        NaN      NaN  \n",
       "17          NaN NaN NaN        NaN      NaN  \n",
       "18          NaN NaN NaN        NaN      NaN  \n",
       "19          NaN NaN NaN        NaN      NaN  \n",
       "20          NaN NaN NaN        NaN      NaN  \n",
       "21          NaN NaN NaN        NaN      NaN  \n",
       "22          NaN NaN NaN        NaN      NaN  \n",
       "23          NaN NaN NaN        NaN      NaN  \n",
       "24          NaN NaN NaN        NaN      NaN  \n",
       "25          NaN NaN NaN        NaN      NaN  \n",
       "26          NaN NaN NaN        NaN      NaN  \n",
       "27          NaN NaN NaN        NaN      NaN  \n",
       "\n",
       "[28 rows x 23 columns]"
      ]
     },
     "execution_count": 35,
     "metadata": {},
     "output_type": "execute_result"
    }
   ],
   "source": [
    "df"
   ]
  },
  {
   "cell_type": "markdown",
   "metadata": {},
   "source": [
    "## Selection of input files"
   ]
  },
  {
   "cell_type": "code",
   "execution_count": 36,
   "metadata": {},
   "outputs": [],
   "source": [
    "# Do not consider flag\n",
    "#df_good=df[df[\"quality\"]==1]"
   ]
  },
  {
   "cell_type": "code",
   "execution_count": 37,
   "metadata": {},
   "outputs": [],
   "source": [
    "df_good=df\n",
    "df_good[\"quality\"] = 1"
   ]
  },
  {
   "cell_type": "code",
   "execution_count": 38,
   "metadata": {},
   "outputs": [
    {
     "name": "stdout",
     "output_type": "stream",
     "text": [
      "exposure_2022031600330_postisrccd.fits\n",
      "exposure_2022031600331_postisrccd.fits\n",
      "exposure_2022031600337_postisrccd.fits\n",
      "exposure_2022031600338_postisrccd.fits\n",
      "exposure_2022031600344_postisrccd.fits\n",
      "exposure_2022031600345_postisrccd.fits\n",
      "exposure_2022031600351_postisrccd.fits\n",
      "exposure_2022031600352_postisrccd.fits\n",
      "exposure_2022031600358_postisrccd.fits\n",
      "exposure_2022031600359_postisrccd.fits\n",
      "exposure_2022031600365_postisrccd.fits\n",
      "exposure_2022031600366_postisrccd.fits\n",
      "exposure_2022031600372_postisrccd.fits\n",
      "exposure_2022031600373_postisrccd.fits\n",
      "exposure_2022031600379_postisrccd.fits\n",
      "exposure_2022031600380_postisrccd.fits\n",
      "exposure_2022031600386_postisrccd.fits\n",
      "exposure_2022031600387_postisrccd.fits\n",
      "exposure_2022031600393_postisrccd.fits\n",
      "exposure_2022031600394_postisrccd.fits\n",
      "exposure_2022031600400_postisrccd.fits\n",
      "exposure_2022031600401_postisrccd.fits\n",
      "exposure_2022031600420_postisrccd.fits\n",
      "exposure_2022031600421_postisrccd.fits\n",
      "exposure_2022031600427_postisrccd.fits\n",
      "exposure_2022031600428_postisrccd.fits\n",
      "exposure_2022031600434_postisrccd.fits\n",
      "exposure_2022031600435_postisrccd.fits\n"
     ]
    }
   ],
   "source": [
    "for spectra_file in df_good[\"file\"]:\n",
    "    print(spectra_file)"
   ]
  },
  {
   "cell_type": "markdown",
   "metadata": {},
   "source": [
    "## Selection of Spectractor output files"
   ]
  },
  {
   "cell_type": "code",
   "execution_count": 39,
   "metadata": {},
   "outputs": [],
   "source": [
    "# total number of exposures\n",
    "NBEXP=0\n",
    "# total number of exposures without dir\n",
    "NBEXPNODIR=0\n",
    "# total number of exposures with dir\n",
    "NBEXPWTHDIR=0\n",
    "# total number of exposures with plots\n",
    "NBEXPWTHPLT=0\n",
    "# total number of exposures with spectra\n",
    "NBEXPWTHSPEC=0\n",
    "\n",
    "# list of exposures\n",
    "LISTNUM=[]\n",
    "# list of exposure without dir (not run spectraction)\n",
    "LISTNUMNODIR=[]\n",
    "# list of exposure with dir (spectraction has been run)\n",
    "LISTNUMWTHDIR=[]\n",
    "# list of exposures with plots (Spectractor has run up to some point)\n",
    "LISTNUMWTHPLOTS=[]\n",
    "# list of exposures with spectraction output (Spectractor has completed)\n",
    "LISTNUMWTHSPECTR=[]\n",
    "\n",
    "# list of selected spectra path\n",
    "List_of_spectra_path=[]"
   ]
  },
  {
   "cell_type": "code",
   "execution_count": 40,
   "metadata": {},
   "outputs": [
    {
     "name": "stdout",
     "output_type": "stream",
     "text": [
      "list of subdir found  ['2022031600330']\n",
      "00330\n",
      "---------------------------------------------\n",
      "2022031600330  \t   00330\n",
      "2022031600330 is a directory\n",
      "tagname= 00330\n",
      "dir_plots is not empty\n",
      "dir_spectration is not empty\n",
      "-----------------------------------------------------------------\n",
      "Full list of Exposures : .......................['00330']\n",
      "Full list of Exposures without output dir: .....[]\n",
      "Full list of Exposures with output dir: ....... ['00330']\n",
      "Full list of Exposures with output plots: ..... ['00330']\n",
      "Full list of Exposures with output spectra: ....['00330']\n",
      "Total number of exposures : .....................1\n",
      "Total number of exposures without dir : .........0\n",
      "Total number of exposures with dir :.............1\n",
      "Total number of exposures with plots : ..........1\n",
      "Total number of exposures with spectra: .........1\n"
     ]
    }
   ],
   "source": [
    "list_of_files=os.listdir(path_output_spectractor)\n",
    "list_of_files=sorted(list_of_files)\n",
    "\n",
    "\n",
    "print(\"list of subdir found \",list_of_files)\n",
    "\n",
    "for subdir in list_of_files:\n",
    "    \n",
    "    \n",
    "    #tag = file_tag_forsorting(subdir)\n",
    "    tag = subdir_tag_forsorting(subdir)\n",
    "    \n",
    "        \n",
    "    print(tag)    \n",
    "    #if tag is not None and int(tag)<317:\n",
    "    #    continue\n",
    "    if tag is None :\n",
    "        continue\n",
    "  \n",
    "    \n",
    "    \n",
    "    fulldir=os.path.join(path_output_spectractor,subdir)\n",
    "\n",
    "\n",
    "\n",
    "    if not os.path.isdir(fulldir):\n",
    "        \n",
    "        print(\"---------------------------------------------\")\n",
    "        print(subdir,\" \\t  \",tag)\n",
    "        print(\"{} is not a directory\".format(subdir))\n",
    "        \n",
    "\n",
    "        NBEXPNODIR+=1\n",
    "\n",
    "\n",
    "    else:\n",
    "\n",
    "        \n",
    "        print(\"---------------------------------------------\")\n",
    "        print(subdir,\" \\t  \",tag)\n",
    "        print(\"{} is a directory\".format(subdir))\n",
    "\n",
    "        tagname=subdir_tag_forsorting(subdir)\n",
    "        print(\"tagname= {}\".format(tagname))\n",
    "        #targetname=file_target(subdir)\n",
    "        #print(\"targetname= {}\".format(targetname))\n",
    "        \n",
    "\n",
    "\n",
    "\n",
    "        NBEXP += 1\n",
    "        LISTNUM.append(tagname)\n",
    "\n",
    "\n",
    "\n",
    "        dir_plots=os.path.join(fulldir,\"plots\")\n",
    "        dir_spectration = os.path.join(fulldir, \"basespec\")\n",
    "\n",
    "        flag_empty1 = True\n",
    "        flag_empty2 = True\n",
    "\n",
    "\n",
    "        if os.path.isdir(dir_plots):\n",
    "            if any(os.scandir(dir_plots)):\n",
    "                print(\"dir_plots is not empty\")\n",
    "                NBEXPWTHPLT+=1\n",
    "                LISTNUMWTHPLOTS.append(tagname)\n",
    "                flag_empty1 = False\n",
    "\n",
    "            else:\n",
    "                print(\"dir_plots is empty\")\n",
    "\n",
    "\n",
    "        if os.path.isdir(dir_spectration):\n",
    "            if any(os.scandir(dir_spectration)):\n",
    "                print(\"dir_spectration is not empty\")\n",
    "                NBEXPWTHSPEC+=1\n",
    "                LISTNUMWTHSPECTR.append(tagname)\n",
    "                flag_empty2 = False\n",
    "                List_of_spectra_path.append(dir_spectration)\n",
    "\n",
    "            else:\n",
    "                print(\"dir_spectration is empty\")\n",
    "\n",
    "        if flag_empty1 and flag_empty2 :\n",
    "            NBEXPNODIR+=1\n",
    "            LISTNUMNODIR.append(tagname)\n",
    "        else:\n",
    "            NBEXPWTHDIR += 1\n",
    "            LISTNUMWTHDIR.append(tagname)\n",
    "\n",
    "\n",
    "\n",
    "print(\"-----------------------------------------------------------------\")\n",
    "\n",
    "\n",
    "#LISTNUM=sorted(LISTNUM)\n",
    "#LISTNUMNODIR=sorted(LISTNUMNODIR)\n",
    "#LISTNUMWTHDIR=sorted(LISTNUMWTHDIR)\n",
    "#LISTNUMWTHPLOTS=sorted(LISTNUMWTHPLOTS)\n",
    "#LISTNUMWTHSPECTR=sorted(LISTNUMWTHSPECTR)\n",
    "List_of_spectra_path=sorted(List_of_spectra_path)\n",
    "\n",
    "print(\"Full list of Exposures : .......................{}\".format(LISTNUM))\n",
    "print(\"Full list of Exposures without output dir: .....{}\".format(LISTNUMNODIR))\n",
    "print(\"Full list of Exposures with output dir: ....... {}\".format(LISTNUMWTHDIR))\n",
    "print(\"Full list of Exposures with output plots: ..... {}\".format(LISTNUMWTHPLOTS))\n",
    "print(\"Full list of Exposures with output spectra: ....{}\".format(LISTNUMWTHSPECTR))\n",
    "\n",
    "\n",
    "\n",
    "\n",
    "print(\"Total number of exposures : .....................{}\".format(NBEXP))\n",
    "print(\"Total number of exposures without dir : .........{}\".format(NBEXPNODIR))\n",
    "print(\"Total number of exposures with dir :.............{}\".format(NBEXPWTHDIR))\n",
    "print(\"Total number of exposures with plots : ..........{}\".format(NBEXPWTHPLT))\n",
    "print(\"Total number of exposures with spectra: .........{}\".format(NBEXPWTHSPEC))\n"
   ]
  },
  {
   "cell_type": "code",
   "execution_count": 41,
   "metadata": {},
   "outputs": [
    {
     "name": "stdout",
     "output_type": "stream",
     "text": [
      "['/sps/lsst/groups/auxtel/data/2022/OutputSpectractor/postISRCCD/empty~holo4_003/config_DECONVOLUTION_FFM/20220316/2022031600330/basespec']\n"
     ]
    }
   ],
   "source": [
    "#dir_spectra=\"outputs_reprocess\"\n",
    "print(List_of_spectra_path)"
   ]
  },
  {
   "cell_type": "code",
   "execution_count": 42,
   "metadata": {},
   "outputs": [
    {
     "data": {
      "text/plain": [
       "'./config/auxtel_config_holo_DECONVOLUTION_FFM.ini'"
      ]
     },
     "execution_count": 42,
     "metadata": {},
     "output_type": "execute_result"
    }
   ],
   "source": [
    "config"
   ]
  },
  {
   "cell_type": "markdown",
   "metadata": {},
   "source": [
    "## Extraction of spectra"
   ]
  },
  {
   "cell_type": "code",
   "execution_count": 43,
   "metadata": {},
   "outputs": [],
   "source": [
    "all_files_spectra = []\n",
    "all_files_spectrogram = []\n",
    "all_files_lines = []\n",
    "all_files_table = []\n",
    "\n",
    "# loop on topdir\n",
    "for dir_spectra in List_of_spectra_path:\n",
    "    for filename in os.listdir(dir_spectra):\n",
    "        if re.search(\"_spectrum.fits$\",filename):\n",
    "            the_file_spectrum=os.path.join(dir_spectra,filename)\n",
    "            all_files_spectra.append(the_file_spectrum)\n",
    "            the_file_spectrogram=the_file_spectrum.replace(\"_spectrum\",\"_spectrogram\")\n",
    "            all_files_spectrogram.append(the_file_spectrogram)\n",
    "            the_file_lines=the_file_spectrum.replace(\"_spectrum.fits\",\"_lines.csv\")\n",
    "            all_files_lines.append(the_file_lines)\n",
    "            the_file_table=the_file_spectrum.replace(\"_spectrum.fits\",\"_table.csv\")\n",
    "            all_files_table.append(the_file_table)\n",
    "    "
   ]
  },
  {
   "cell_type": "code",
   "execution_count": 44,
   "metadata": {},
   "outputs": [
    {
     "data": {
      "text/plain": [
       "['/sps/lsst/groups/auxtel/data/2022/OutputSpectractor/postISRCCD/empty~holo4_003/config_DECONVOLUTION_FFM/20220316/2022031600330/basespec/exposure_2022031600330_postisrccd_spectrum.fits']"
      ]
     },
     "execution_count": 44,
     "metadata": {},
     "output_type": "execute_result"
    }
   ],
   "source": [
    "all_files_spectra[:3]"
   ]
  },
  {
   "cell_type": "code",
   "execution_count": 45,
   "metadata": {},
   "outputs": [
    {
     "data": {
      "text/plain": [
       "['/sps/lsst/groups/auxtel/data/2022/OutputSpectractor/postISRCCD/empty~holo4_003/config_DECONVOLUTION_FFM/20220316/2022031600330/basespec/exposure_2022031600330_postisrccd_spectrogram.fits']"
      ]
     },
     "execution_count": 45,
     "metadata": {},
     "output_type": "execute_result"
    }
   ],
   "source": [
    "all_files_spectrogram[:3]"
   ]
  },
  {
   "cell_type": "code",
   "execution_count": 46,
   "metadata": {},
   "outputs": [
    {
     "data": {
      "text/plain": [
       "['/sps/lsst/groups/auxtel/data/2022/OutputSpectractor/postISRCCD/empty~holo4_003/config_DECONVOLUTION_FFM/20220316/2022031600330/basespec/exposure_2022031600330_postisrccd_lines.csv']"
      ]
     },
     "execution_count": 46,
     "metadata": {},
     "output_type": "execute_result"
    }
   ],
   "source": [
    "all_files_lines[:3]"
   ]
  },
  {
   "cell_type": "code",
   "execution_count": 47,
   "metadata": {},
   "outputs": [
    {
     "data": {
      "text/plain": [
       "['/sps/lsst/groups/auxtel/data/2022/OutputSpectractor/postISRCCD/empty~holo4_003/config_DECONVOLUTION_FFM/20220316/2022031600330/basespec/exposure_2022031600330_postisrccd_table.csv']"
      ]
     },
     "execution_count": 47,
     "metadata": {},
     "output_type": "execute_result"
    }
   ],
   "source": [
    "all_files_table[:3] "
   ]
  },
  {
   "cell_type": "markdown",
   "metadata": {},
   "source": [
    "## Selection of good spectra"
   ]
  },
  {
   "cell_type": "code",
   "execution_count": 48,
   "metadata": {},
   "outputs": [],
   "source": [
    "all_good_spectra_spectrum_files = sorted(all_files_spectra)"
   ]
  },
  {
   "cell_type": "code",
   "execution_count": 49,
   "metadata": {},
   "outputs": [],
   "source": [
    "N=len(all_good_spectra_spectrum_files)\n",
    "\n",
    "# wavelength bin colors\n",
    "jet = plt.get_cmap('jet')\n",
    "cNorm = colors.Normalize(vmin=0, vmax=N)\n",
    "scalarMap = cmx.ScalarMappable(norm=cNorm, cmap=jet)\n",
    "all_colors = scalarMap.to_rgba(np.arange(N), alpha=1)"
   ]
  },
  {
   "cell_type": "markdown",
   "metadata": {},
   "source": [
    "## All Spectra"
   ]
  },
  {
   "cell_type": "code",
   "execution_count": 50,
   "metadata": {},
   "outputs": [
    {
     "name": "stdout",
     "output_type": "stream",
     "text": [
      "0 ) exposure_2022031600330_postisrccd_spectrum.fits   /sps/lsst/groups/auxtel/data/2022/OutputSpectractor/postISRCCD/empty~holo4_003/config_DECONVOLUTION_FFM/20220316/2022031600330/basespec/exposure_2022031600330_postisrccd_spectrum.fits\n",
      "No rebinning: parameters.REBIN is forced to 1.\n",
      "set date_obs to 2022-03-17T01:59:23.629\n",
      "set expo to 20.0\n",
      "set airmass to 1.38578152736243\n",
      "set disperser_label to holo4_003\n",
      "set units to erg/s/cm$^2$/nm\n",
      "set rotation_angle to 0.154687616636231\n",
      "set dec to -66.0397222222222\n",
      "set hour_angle to 42.0596414253711\n",
      "set temperature to 10.6\n",
      "set pressure to 743.55\n",
      "set humidity to 44.0\n",
      "set lambda_ref to 617.7932165050287\n",
      "set parallactic_angle to 56.6019400533159\n",
      "target_name = etador, Selected object name for Simbad : ETA1 DOR\n",
      "  MAIN_ID         RA           DEC      ...  Z_VALUE  SCRIPT_NUMBER_ID\n",
      "               \"h:m:s\"       \"d:m:s\"    ...                           \n",
      "----------- ------------- ------------- ... --------- ----------------\n",
      "* eta01 Dor 06 06 09.3817 -66 02 22.635 ... 0.0000590                1\n"
     ]
    },
    {
     "data": {
      "image/png": "[encoded data removed]",
      "text/plain": [
       "<Figure size 1152x288 with 3 Axes>"
      ]
     },
     "metadata": {
      "needs_background": "light"
     },
     "output_type": "display_data"
    }
   ],
   "source": [
    "parameters.DISPLAY=True\n",
    "\n",
    "FLAG_ORDER2 = True\n",
    "\n",
    "infos = []\n",
    "all_lambdas=[]\n",
    "all_data=[]\n",
    "all_data_err=[]\n",
    "\n",
    "if FLAG_ORDER2:\n",
    "    all_lambdas_order2=[]\n",
    "    all_data_order2=[]\n",
    "    all_data_err_order2=[]\n",
    "\n",
    "all_num=[]\n",
    "all_figs = []\n",
    "\n",
    "\n",
    "idx=0\n",
    "for fullfilename in all_good_spectra_spectrum_files:\n",
    "    \n",
    "    filename = os.path.basename(fullfilename)\n",
    "    print(idx,\")\",filename,\" \",fullfilename)\n",
    "    \n",
    "    \n",
    "    fig=plt.figure(figsize=(16,4))\n",
    "    ax1 = fig.add_subplot(1, 2, 1)\n",
    "    \n",
    "    filename= os.path.basename(fullfilename)\n",
    "    tag=file_tag_forsorting(filename.split(\".\")[0])\n",
    "    all_num.append(tag)\n",
    "    \n",
    "   \n",
    "     \n",
    "    s=Spectrum(fullfilename, config=config,fast_load=False)\n",
    "    label=filename.split('.')[0]+\" \"\n",
    "    s.plot_spectrum(ax=ax1,force_lines=True,label=label)\n",
    "    \n",
    "    all_lambdas.append(s.lambdas)\n",
    "    all_data.append(s.data)\n",
    "    all_data_err.append(s.err)\n",
    "    \n",
    "    if FLAG_ORDER2:\n",
    "        all_lambdas_order2.append(s.lambdas_order2)\n",
    "        all_data_order2.append(s.data_order2)\n",
    "        all_data_err_order2.append(s.err_order2)\n",
    "    \n",
    "    ax2 = fig.add_subplot(1, 2, 2)\n",
    "    \n",
    "    fullfilename2=all_files_spectrogram[idx]\n",
    "    \n",
    "    s.load_spectrogram(fullfilename2)\n",
    "    s.plot_spectrogram(ax=ax2,scale=\"log\")\n",
    "    \n",
    "    \n",
    "    infos.append([idx,s.target.label,s.date_obs,s.airmass,s.temperature,s.pressure,s.humidity])\n",
    "    \n",
    "    \n",
    "    plt.show()\n",
    "    all_figs.append(fig)\n",
    "    \n",
    "    idx+=1\n",
    "    "
   ]
  },
  {
   "cell_type": "markdown",
   "metadata": {},
   "source": [
    "## Save figures in a pdf filename"
   ]
  },
  {
   "cell_type": "code",
   "execution_count": 51,
   "metadata": {},
   "outputs": [],
   "source": [
    "def SaveFigSpectraInPdf(nbspecperpage=5):\n",
    "    \n",
    "    Nspec= len(all_good_spectra_spectrum_files)\n",
    "    Nbpages = np.ceil(Nspec/nbspecperpage)\n",
    "    idx_inpage = nbspecperpage\n",
    "    idx_pagenum = 0\n",
    "    idx = 0\n",
    "    \n",
    "    all_composed_figs = []\n",
    "    \n",
    "    for fullfilename in all_good_spectra_spectrum_files:\n",
    "        \n",
    "        if idx_inpage == nbspecperpage:\n",
    "            idx_inpage = 1\n",
    "            idx_pagenum += 1\n",
    "            \n",
    "            if idx_pagenum > 1:\n",
    "                all_composed_figs.append(fig)\n",
    "            \n",
    "            # create a new figure \n",
    "            fig=plt.figure(figsize=(16,20))\n",
    "        else:\n",
    "            idx_inpage += 1   \n",
    "                             \n",
    "        idx_fig = 2*(idx_inpage-1)+1\n",
    "        \n",
    "        print(f\"\\t \\t  SaveFigSpectraInPdf >>>>>>>>  spec num = {idx}, pagenum = {idx_pagenum}/{Nbpages}, idx_inpage = {idx_inpage}, idx_fig = {idx_fig}\")        \n",
    "       \n",
    "        \n",
    "    \n",
    "        filename = os.path.basename(fullfilename)\n",
    "        \n",
    "\n",
    "        ax1 = fig.add_subplot(nbspecperpage, 2, idx_fig)\n",
    "    \n",
    "        filename= os.path.basename(fullfilename)\n",
    "        tag=file_tag_forsorting(filename.split(\".\")[0])\n",
    "     \n",
    "     \n",
    "        s=Spectrum(fullfilename, config=config,fast_load=False);\n",
    "        label=filename.split('.')[0]+\" \"\n",
    "        s.plot_spectrum(ax=ax1,force_lines=True,label=label)\n",
    "    \n",
    "    \n",
    "        ax2 = fig.add_subplot(nbspecperpage, 2, idx_fig+1)\n",
    "    \n",
    "        fullfilename2=all_files_spectrogram[idx]\n",
    "    \n",
    "        s.load_spectrogram(fullfilename2)\n",
    "        s.plot_spectrogram(ax=ax2,scale=\"log\")\n",
    "    \n",
    "        plt.show()\n",
    "                           \n",
    "        idx+=1\n",
    "                           \n",
    "        if idx == Nspec:\n",
    "             all_composed_figs.append(fig)\n",
    "                           \n",
    "    return  all_composed_figs\n",
    "    \n"
   ]
  },
  {
   "cell_type": "code",
   "execution_count": 52,
   "metadata": {},
   "outputs": [],
   "source": [
    "def SaveFigSpectraSummaryInPdf(all_wl,all_spec,all_tag,delta=0, \n",
    "                thetitle=\"Hologram, spectrum night 2022-03-16\", \n",
    "                thexlabel=\"$\\\\lambda$ (nm)\",theylabel=\"Flux (erg/cm^2/s/nm)\",figsize=(14,8)):\n",
    "    \"\"\"\n",
    "    \"\"\"\n",
    "    \n",
    "    \n",
    "    \n",
    "    \n",
    "    NN=len(all_wl)\n",
    "    \n",
    "    # wavelength bin colors\n",
    "    jet = plt.get_cmap('jet')\n",
    "    cNorm = colors.Normalize(vmin=0, vmax=NN)\n",
    "    scalarMap = cmx.ScalarMappable(norm=cNorm, cmap=jet)\n",
    "    all_colors = scalarMap.to_rgba(np.arange(NN), alpha=1)\n",
    "    \n",
    "    \n",
    "    fig=plt.figure(figsize=figsize)\n",
    "    ax=fig.add_subplot(1,1,1)\n",
    "    \n",
    "    idx=0\n",
    "    for idx in range(NN):\n",
    "        \n",
    "        label=all_tag[idx]\n",
    "        ax.plot(all_wl[idx],all_spec[idx]+delta,label=label,color=all_colors[idx])\n",
    "        if delta !=0:\n",
    "            plt.text(250.,all_spec[idx][0]+delta, f'{label}',color=all_colors[idx],fontsize=10)\n",
    "        \n",
    "    ax.set_xlabel(thexlabel)\n",
    "    ax.set_ylabel(theylabel)\n",
    "    ax.set_xlim(250.,1100)\n",
    "    ax.grid()\n",
    "    ax.legend(bbox_to_anchor=(1.04, 1), prop={'size': 10}, loc='upper left')\n",
    "    ax.set_title(thetitle)\n",
    "    plt.show()\n",
    "    return fig"
   ]
  },
  {
   "cell_type": "code",
   "execution_count": 53,
   "metadata": {},
   "outputs": [],
   "source": [
    "def SaveFigSpectraSummaryBothInPdf(all_wl,all_spec,all_tag,delta=0, \n",
    "                thetitle=\"Hologram, spectrum\", \n",
    "                thexlabel=\"$\\\\lambda$ (nm)\",theylabel=\"Flux (erg/cm^2/s/nm)\",figsize=(12,20)):\n",
    "    \"\"\"\n",
    "    \n",
    "    \"\"\"\n",
    "    \n",
    "    NN=len(all_wl)\n",
    "    \n",
    "    # wavelength bin colors\n",
    "    jet = plt.get_cmap('jet')\n",
    "    cNorm = colors.Normalize(vmin=0, vmax=NN)\n",
    "    scalarMap = cmx.ScalarMappable(norm=cNorm, cmap=jet)\n",
    "    all_colors = scalarMap.to_rgba(np.arange(NN), alpha=1)\n",
    "    \n",
    "    \n",
    "    fig=plt.figure(figsize=figsize)\n",
    "    \n",
    "    gs = gridspec.GridSpec(2, 1,height_ratios=[1, 3] ,figure=fig)\n",
    "    \n",
    "    ax=fig.add_subplot(gs[0,0])\n",
    "    \n",
    "    idx=0\n",
    "    for idx in range(NN):\n",
    "        \n",
    "        label=all_tag[idx]\n",
    "        ax.plot(all_wl[idx],all_spec[idx],label=label,color=all_colors[idx])\n",
    "        #if delta !=0:\n",
    "        #    ax.plot(all_lambdas[idx],all_data[idx]+delta,label=label,color=all_colors[idx])\n",
    "        #    plt.text(250.,all_spec[idx][0]+delta, f'{label}',color=all_colors[idx],fontsize=10)\n",
    "            \n",
    "        \n",
    "    ax.set_ylabel(theylabel)\n",
    "    ax.set_xlim(250.,1100)\n",
    "    ax.grid()\n",
    "    #ax.legend(bbox_to_anchor=(1.04, 1), prop={'size': 10}, loc='upper left')\n",
    "    ax.set_title(\"superimposed spectra\")\n",
    "    \n",
    "    #ax=fig.add_subplot(2,1,2)\n",
    "    ax=fig.add_subplot(gs[1,0])\n",
    "    \n",
    "    \n",
    "    idx=0\n",
    "    for idx in range(NN):\n",
    "        \n",
    "        deltashift=idx*delta\n",
    "        \n",
    "        label=all_tag[idx]\n",
    "        \n",
    "        if delta ==0:\n",
    "            \n",
    "            ax.plot(all_wl[idx],all_spec[idx]+deltashift,label=label,color=all_colors[idx])\n",
    "            plt.text(250.,all_spec[idx][0]+deltashift, f'{label}',color=all_colors[idx],fontsize=10)\n",
    "        elif delta !=0:\n",
    "            plt.text(250.,all_spec[idx][0]+deltashift, f'{label}',color=all_colors[idx],fontsize=10)\n",
    "            ax.plot(all_wl[idx],all_spec[idx]+deltashift,label=label,color=all_colors[idx])\n",
    "        \n",
    "    ax.set_xlabel(thexlabel)\n",
    "    ax.set_ylabel(theylabel)\n",
    "    ax.set_xlim(250.,1100)\n",
    "    ax.grid()\n",
    "    #ax.legend(bbox_to_anchor=(1.04, 1), prop={'size': 10}, loc='upper left')\n",
    "    ax.set_title(f\"shifted spectra by $\\\\delta f = $ {delta:.3e}\")\n",
    "    \n",
    "    \n",
    "    plt.suptitle(thetitle,y=0.95,fontsize=20,fontweight=\"bold\")\n",
    "    #plt.tight_layout()\n",
    "    plt.show()\n",
    "    return fig\n",
    "        \n",
    "    \n",
    "    "
   ]
  },
  {
   "cell_type": "markdown",
   "metadata": {},
   "source": [
    "### Individual spectra"
   ]
  },
  {
   "cell_type": "code",
   "execution_count": 54,
   "metadata": {},
   "outputs": [
    {
     "name": "stdout",
     "output_type": "stream",
     "text": [
      "\t \t  SaveFigSpectraInPdf >>>>>>>>  spec num = 0, pagenum = 1/1.0, idx_inpage = 1, idx_fig = 1\n",
      "No rebinning: parameters.REBIN is forced to 1.\n",
      "set date_obs to 2022-03-17T01:59:23.629\n",
      "set expo to 20.0\n",
      "set airmass to 1.38578152736243\n",
      "set disperser_label to holo4_003\n",
      "set units to erg/s/cm$^2$/nm\n",
      "set rotation_angle to 0.154687616636231\n",
      "set dec to -66.0397222222222\n",
      "set hour_angle to 42.0596414253711\n",
      "set temperature to 10.6\n",
      "set pressure to 743.55\n",
      "set humidity to 44.0\n",
      "set lambda_ref to 617.7932165050287\n",
      "set parallactic_angle to 56.6019400533159\n",
      "target_name = etador, Selected object name for Simbad : ETA1 DOR\n",
      "  MAIN_ID         RA           DEC      ... Z_VALUE_2 SCRIPT_NUMBER_ID\n",
      "               \"h:m:s\"       \"d:m:s\"    ...                           \n",
      "----------- ------------- ------------- ... --------- ----------------\n",
      "* eta01 Dor 06 06 09.3817 -66 02 22.635 ... 0.0000590                1\n"
     ]
    },
    {
     "data": {
      "image/png": "[encoded data removed]",
      "text/plain": [
       "<Figure size 1152x1440 with 3 Axes>"
      ]
     },
     "metadata": {
      "needs_background": "light"
     },
     "output_type": "display_data"
    }
   ],
   "source": [
    "all_figs = SaveFigSpectraInPdf(nbspecperpage=5)"
   ]
  },
  {
   "cell_type": "markdown",
   "metadata": {},
   "source": [
    "### Summary spectra"
   ]
  },
  {
   "cell_type": "code",
   "execution_count": 55,
   "metadata": {},
   "outputs": [
    {
     "data": {
      "image/png": "[encoded data removed]",
      "text/plain": [
       "<Figure size 1008x576 with 1 Axes>"
      ]
     },
     "metadata": {
      "needs_background": "light"
     },
     "output_type": "display_data"
    }
   ],
   "source": [
    "thetitle = f\"Superimposed hologram spectra, night{DATE} (config {configdir})\"\n",
    "sumfig = SaveFigSpectraSummaryInPdf(all_lambdas,all_data,all_num,delta=0, thetitle=thetitle)"
   ]
  },
  {
   "cell_type": "code",
   "execution_count": 56,
   "metadata": {},
   "outputs": [],
   "source": [
    "all_figs.append(sumfig)"
   ]
  },
  {
   "cell_type": "code",
   "execution_count": 57,
   "metadata": {},
   "outputs": [
    {
     "data": {
      "image/png": "[encoded data removed]",
      "text/plain": [
       "<Figure size 864x1440 with 2 Axes>"
      ]
     },
     "metadata": {
      "needs_background": "light"
     },
     "output_type": "display_data"
    }
   ],
   "source": [
    "thetitle2 = f\"Superimposed and shifted hologram spectra, night{DATE} (config {configdir})\"\n",
    "sumfig2 = SaveFigSpectraSummaryBothInPdf(all_lambdas,all_data,all_num,delta=0.1e-11,thetitle=thetitle2)"
   ]
  },
  {
   "cell_type": "code",
   "execution_count": 58,
   "metadata": {},
   "outputs": [],
   "source": [
    "all_figs.append(sumfig2)"
   ]
  },
  {
   "cell_type": "markdown",
   "metadata": {},
   "source": [
    "### Save in pdf file"
   ]
  },
  {
   "cell_type": "code",
   "execution_count": 59,
   "metadata": {},
   "outputs": [],
   "source": [
    "# Write all images in pdf files\n",
    "\n",
    "#multipage_pdf_file = f'multipage_pdf_holo_{DATE}_{configdir}.pdf'\n",
    "# gerate a multipage pdf:\n",
    "#with PdfPages(multipage_pdf_file) as pdf:\n",
    "#    for fig in all_figs:\n",
    "#        pdf.savefig(fig)\n",
    "#        plt.close()\n"
   ]
  },
  {
   "cell_type": "code",
   "execution_count": null,
   "metadata": {},
   "outputs": [],
   "source": []
  },
  {
   "cell_type": "markdown",
   "metadata": {},
   "source": [
    "## View one spectrum"
   ]
  },
  {
   "cell_type": "code",
   "execution_count": 60,
   "metadata": {},
   "outputs": [
    {
     "ename": "IndexError",
     "evalue": "list index out of range",
     "output_type": "error",
     "traceback": [
      "\u001b[0;31m---------------------------------------------------------------------------\u001b[0m",
      "\u001b[0;31mIndexError\u001b[0m                                Traceback (most recent call last)",
      "Input \u001b[0;32mIn [60]\u001b[0m, in \u001b[0;36m<cell line: 3>\u001b[0;34m()\u001b[0m\n\u001b[1;32m      1\u001b[0m idx\u001b[38;5;241m=\u001b[39m\u001b[38;5;241m3\u001b[39m\n\u001b[0;32m----> 3\u001b[0m fullfilename \u001b[38;5;241m=\u001b[39m \u001b[43mall_good_spectra_spectrum_files\u001b[49m\u001b[43m[\u001b[49m\u001b[43midx\u001b[49m\u001b[43m]\u001b[49m\n\u001b[1;32m      5\u001b[0m filename \u001b[38;5;241m=\u001b[39m os\u001b[38;5;241m.\u001b[39mpath\u001b[38;5;241m.\u001b[39mbasename(fullfilename)\n\u001b[1;32m      6\u001b[0m \u001b[38;5;28mprint\u001b[39m(idx,\u001b[38;5;124m\"\u001b[39m\u001b[38;5;124m)\u001b[39m\u001b[38;5;124m\"\u001b[39m,filename,\u001b[38;5;124m\"\u001b[39m\u001b[38;5;124m \u001b[39m\u001b[38;5;124m\"\u001b[39m,fullfilename)\n",
      "\u001b[0;31mIndexError\u001b[0m: list index out of range"
     ]
    }
   ],
   "source": [
    "idx=3\n",
    "\n",
    "fullfilename = all_good_spectra_spectrum_files[idx]\n",
    "    \n",
    "filename = os.path.basename(fullfilename)\n",
    "print(idx,\")\",filename,\" \",fullfilename)\n",
    "    \n",
    "    \n",
    "fig=plt.figure(figsize=(16,8))\n",
    "ax1 = fig.add_subplot(1, 1, 1)\n",
    "    \n",
    "filename= os.path.basename(fullfilename)\n",
    "tag=file_tag_forsorting(filename.split(\".\")[0])\n",
    "all_num.append(tag)\n",
    "    \n",
    "   \n",
    "     \n",
    "s=Spectrum(fullfilename, config=config,fast_load=False)\n",
    "label=filename.split('.')[0]+\" \"\n",
    "#s.plot_spectrum(ax=ax1,force_lines=True,label=label)\n",
    "s.plot_spectrum(ax=ax1,force_lines=True)\n",
    "    \n",
    "    \n",
    "#ax2 = fig.add_subplot(1, 2, 2)\n",
    "    \n",
    "#fullfilename2=all_files_spectrogram[idx]\n",
    "    \n",
    "#s.load_spectrogram(fullfilename2)\n",
    "#s.plot_spectrogram(ax=ax2,scale=\"log\")\n",
    "    \n",
    "\n",
    "plt.show()\n",
    "    "
   ]
  },
  {
   "cell_type": "code",
   "execution_count": null,
   "metadata": {},
   "outputs": [],
   "source": [
    "all_figs.append(fig)"
   ]
  },
  {
   "cell_type": "markdown",
   "metadata": {},
   "source": [
    "## Info"
   ]
  },
  {
   "cell_type": "code",
   "execution_count": null,
   "metadata": {},
   "outputs": [],
   "source": [
    "df_infos=pd.DataFrame(infos,columns=[\"idx\",\"object\",\"date_obs\",\"airmass\",\"temperature\",\"pressure\",\"humidity\"])"
   ]
  },
  {
   "cell_type": "code",
   "execution_count": null,
   "metadata": {},
   "outputs": [],
   "source": [
    "df_infos.set_index('idx',inplace=True)"
   ]
  },
  {
   "cell_type": "code",
   "execution_count": null,
   "metadata": {},
   "outputs": [],
   "source": [
    "all_reftime=[ (Time(tt)-Time( df_infos[\"date_obs\"].values[0])).to_value(u.hr) for tt in df_infos[\"date_obs\"].values ]"
   ]
  },
  {
   "cell_type": "code",
   "execution_count": null,
   "metadata": {},
   "outputs": [],
   "source": [
    "all_reftime=np.array(all_reftime)"
   ]
  },
  {
   "cell_type": "code",
   "execution_count": null,
   "metadata": {},
   "outputs": [],
   "source": [
    "df_infos[\"reftime\"]=all_reftime"
   ]
  },
  {
   "cell_type": "code",
   "execution_count": null,
   "metadata": {},
   "outputs": [],
   "source": [
    "NN = len(df_infos)"
   ]
  },
  {
   "cell_type": "code",
   "execution_count": null,
   "metadata": {},
   "outputs": [],
   "source": [
    "df_infos"
   ]
  },
  {
   "cell_type": "code",
   "execution_count": null,
   "metadata": {},
   "outputs": [],
   "source": [
    "summary_file = f\"summaryspectra_{DATE}_{configdir}.csv\"\n",
    "df_infos.to_csv(summary_file)"
   ]
  },
  {
   "cell_type": "code",
   "execution_count": null,
   "metadata": {},
   "outputs": [],
   "source": [
    "fig=plt.figure(figsize=(16,4))\n",
    "#plt.xticks(rotation=90)\n",
    "ax = fig.add_subplot(1, 1, 1)\n",
    "ax.plot(df_infos['date_obs'], df_infos['airmass'],linestyle='dotted', marker='.',color=\"red\",label=\"airmass\")\n",
    "#ax.set_xticks(rotation='vertical');\n",
    "ax.xaxis.set_tick_params(rotation=90)\n",
    "ax.set_ylabel(\"airmass\")\n",
    "ax.legend(loc=\"upper right\")\n",
    "\n",
    "ax2 = ax.twinx()\n",
    "ax2.plot(df_infos['date_obs'], df_infos['humidity'],linestyle='dotted', marker='.',color=\"green\",label=\"humidity\")\n",
    "ax2.set_ylabel(\"humidity\")\n",
    "ax2.legend(loc=\"upper left\")\n",
    "ax.set_title(\"airmassvs vs date\")"
   ]
  },
  {
   "cell_type": "code",
   "execution_count": null,
   "metadata": {},
   "outputs": [],
   "source": [
    "fig=plt.figure(figsize=(16,5))\n",
    "#plt.xticks(rotation=90)\n",
    "ax = fig.add_subplot(1, 1, 1)\n",
    "p1,= ax.plot(df_infos['reftime'], df_infos['airmass'],marker=\"o\",color=\"red\",label=\"airmass\")\n",
    "#ax.set_xticks(rotation='vertical');\n",
    "#ax.xaxis.set_tick_params(rotation=90)\n",
    "ax.set_xlabel(\"number of hours\")\n",
    "ax.set_xlim(0,np.ceil(df_infos['reftime'].values.max()))\n",
    "ax.set_ylabel(\"airmass\")\n",
    "ax2 = ax.twinx()\n",
    "p2, = ax2.plot(df_infos['reftime'], df_infos['humidity'],linestyle='dotted', marker='.',color=\"green\",label=\"humidity\")\n",
    "ax2.set_ylabel(\"humidity\")\n",
    "ax2.spines[\"right\"].set_position((\"axes\", 0.9))\n",
    "\n",
    "ax3 = ax.twinx()\n",
    "\n",
    "ax3.spines[\"right\"].set_position((\"axes\", 1.0))\n",
    "p3, = ax3.plot(df_infos['reftime'], df_infos['temperature'],linestyle='dotted', marker='.',color=\"blue\",label=\"temperature\")\n",
    "ax3.set_ylabel(\"temperature\")\n",
    "\n",
    "curves = [p1, p2, p3]\n",
    "ax.legend(curves, [c.get_label() for c in curves])\n",
    "\n",
    "ax.set_title(f\"airmass vs time for night {DATE}\")\n",
    "\n",
    "ax.yaxis.label.set_color(p1.get_color())\n",
    "ax2.yaxis.label.set_color(p2.get_color())\n",
    "ax3.yaxis.label.set_color(p3.get_color())\n",
    "\n",
    "ax2.spines[\"right\"].set_edgecolor(p2.get_color())\n",
    "ax3.spines[\"right\"].set_edgecolor(p3.get_color())\n",
    "\n",
    "ax.tick_params(axis='y', colors=p1.get_color())\n",
    "ax2.tick_params(axis='y', colors=p2.get_color())\n",
    "ax3.tick_params(axis='y', colors=p3.get_color())\n",
    "plt.show()\n"
   ]
  },
  {
   "cell_type": "code",
   "execution_count": null,
   "metadata": {},
   "outputs": [],
   "source": [
    "all_figs.append(fig)"
   ]
  },
  {
   "cell_type": "markdown",
   "metadata": {},
   "source": [
    "# Header info"
   ]
  },
  {
   "cell_type": "code",
   "execution_count": null,
   "metadata": {},
   "outputs": [],
   "source": [
    "NN=len(all_good_spectra_spectrum_files)\n",
    "\n",
    "all_rebin=np.zeros(NN)\n",
    "all_targetx=np.zeros(NN)\n",
    "all_targety=np.zeros(NN)\n",
    "all_rotangle=np.zeros(NN)\n",
    "all_d2ccd=np.zeros(NN)\n",
    "all_pixshift=np.zeros(NN)\n",
    "all_chi2_fit=np.zeros(NN)\n",
    "all_a2_fit=np.zeros(NN)\n",
    "all_lbda_ref=np.zeros(NN)\n",
    "all_tagnumber=np.zeros(NN)\n",
    "\n",
    "\n",
    "for idx in range(NN):\n",
    "    \n",
    "    fullfilename=all_good_spectra_spectrum_files[idx]\n",
    "    \n",
    "    filename= os.path.basename(fullfilename)\n",
    "    hdul=fits.open(fullfilename)\n",
    "    header=hdul[0].header\n",
    "    tagnum=str(all_num[idx])\n",
    "    \n",
    "    #ROTANGLE=  -0.1367006901184345 / [deg] angle of the dispersion axis             \n",
    "    #D2CCD   =    179.6778868175837 / [mm] distance between disperser and CCD        \n",
    "    #TARGETX =    315.9547462941386 / target position on X axis                      \n",
    "    #TARGETY =    75.06785960446246 / target position on Y axis                      \n",
    "    #LBDA_REF=    634.9155139280113                                                  \n",
    "    #PIXSHIFT=  -0.9996981508176748                                                  \n",
    "    #CHI2_FIT=    1.602115867259752                                                  \n",
    "    #A2_FIT  =                  1.0                                                  \n",
    "    #REBIN   =                    2 / original image rebinning factor to get spectrum\n",
    "    \n",
    "    rebin=header[\"REBIN\"]\n",
    "    targetx=header[\"TARGETX\"]*rebin\n",
    "    targety=header[\"TARGETY\"]*rebin\n",
    "    rotangle=header[\"ROTANGLE\"]\n",
    "    d2ccd=header[\"D2CCD\"]\n",
    "    pixshift=header[\"PIXSHIFT\"]\n",
    "    \n",
    "    if header.get(\"CHI2_FIT\") != None:\n",
    "        chi2_fit=header[\"CHI2_FIT\"]\n",
    "    else:\n",
    "        chi2_fit= -1\n",
    "        \n",
    "    if header.get(\"A2_FIT\") != None:\n",
    "        a2_fit=header[\"A2_FIT\"]\n",
    "    else:\n",
    "        a2_fit=-1\n",
    "    \n",
    "    \n",
    "    lbda_ref=header[\"LBDA_REF\"]\n",
    "    \n",
    "    \n",
    "    all_rebin[idx]=rebin\n",
    "    all_targetx[idx]=targetx\n",
    "    all_targety[idx]=targety\n",
    "    all_rotangle[idx]=rotangle\n",
    "    all_d2ccd[idx]=d2ccd\n",
    "    all_pixshift[idx]=pixshift\n",
    "    \n",
    "    \n",
    "    all_chi2_fit[idx]=chi2_fit\n",
    "    all_a2_fit[idx]=a2_fit\n",
    "    all_lbda_ref[idx]=lbda_ref\n",
    "    all_tagnumber[idx]=tagnum\n",
    "    "
   ]
  },
  {
   "cell_type": "code",
   "execution_count": null,
   "metadata": {},
   "outputs": [],
   "source": [
    "header"
   ]
  },
  {
   "cell_type": "code",
   "execution_count": null,
   "metadata": {},
   "outputs": [],
   "source": [
    "fig=plt.figure(figsize=(18,25))\n",
    "\n",
    "# rebin\n",
    "ax=fig.add_subplot(10,1,1)\n",
    "ax.plot(all_tagnumber,all_rebin,\"b:o\",label=\"rebin\")\n",
    "ax.legend()\n",
    "ax.grid()\n",
    "ax.set_title(\"rebin\")\n",
    "\n",
    "#targetx\n",
    "ax=fig.add_subplot(10,1,2)\n",
    "ax.plot(all_tagnumber,all_targetx,\"b:o\",label=\"targetx\")\n",
    "ax.legend()\n",
    "ax.grid()\n",
    "ax.set_title(\"targetx\")\n",
    "\n",
    "\n",
    "\n",
    "#targety\n",
    "ax=fig.add_subplot(10,1,3)\n",
    "ax.plot(all_tagnumber,all_targety,\"b:o\",label=\"targety\")\n",
    "ax.legend()\n",
    "ax.grid()\n",
    "ax.set_title(\"targety\")\n",
    "\n",
    "\n",
    "\n",
    "#rotangle\n",
    "ax=fig.add_subplot(10,1,4)\n",
    "ax.plot(all_tagnumber,all_rotangle,\"b:o\",label=\"rotangle\")\n",
    "ax.legend()\n",
    "ax.grid()\n",
    "ax.set_title(\"rotangle\")\n",
    "\n",
    "#d2ccd\n",
    "ax=fig.add_subplot(10,1,5)\n",
    "ax.plot(all_tagnumber,all_d2ccd,\"b:o\",label=\"d2ccd\")\n",
    "ax.legend()\n",
    "ax.grid()\n",
    "ax.set_title(\"d2ccd\")\n",
    "\n",
    "\n",
    "#pixshift\n",
    "ax=fig.add_subplot(10,1,6)\n",
    "ax.plot(all_tagnumber,all_pixshift,\"b:o\",label=\"pixshift\")\n",
    "ax.legend()\n",
    "ax.grid()\n",
    "ax.set_title(\"pixshift\")\n",
    "\n",
    "\n",
    "#chi2_fit\n",
    "ax=fig.add_subplot(10,1,7)\n",
    "ax.plot(all_tagnumber,all_chi2_fit,\"b:o\",label=\"chi2_fit\")\n",
    "ax.legend()\n",
    "ax.grid()\n",
    "ax.set_title(\"chi2_fit\")\n",
    "\n",
    "#a2_fit\n",
    "ax=fig.add_subplot(10,1,8)\n",
    "ax.plot(all_tagnumber,all_a2_fit,\"b:o\",label=\"a2_fit\")\n",
    "ax.legend()\n",
    "ax.grid()\n",
    "ax.set_title(\"a2_fit\")\n",
    "\n",
    "\n",
    "#all_lbda_ref\n",
    "ax=fig.add_subplot(10,1,9)\n",
    "ax.plot(all_tagnumber,all_lbda_ref,\"bo\",label=\"lbda_ref\")\n",
    "ax.legend()\n",
    "ax.grid()\n",
    "ax.set_title(\"lbda_ref\")\n",
    "\n",
    "ax.set_xlabel(\"tag number\")\n",
    "plt.tight_layout()\n",
    "plt.show()\n"
   ]
  },
  {
   "cell_type": "code",
   "execution_count": null,
   "metadata": {},
   "outputs": [],
   "source": [
    "all_figs.append(fig)"
   ]
  },
  {
   "cell_type": "markdown",
   "metadata": {},
   "source": [
    "# Write in pdf file"
   ]
  },
  {
   "cell_type": "code",
   "execution_count": null,
   "metadata": {},
   "outputs": [],
   "source": [
    "# Write all images in pdf files\n",
    "multipage_pdf_file = f'multipage_pdf_holo_{DATE}_{configmode}.pdf'\n",
    "# gerate a multipage pdf:\n",
    "with PdfPages(multipage_pdf_file) as pdf:\n",
    "    for fig in all_figs:\n",
    "        pdf.savefig(fig)\n",
    "        plt.close()"
   ]
  },
  {
   "cell_type": "markdown",
   "metadata": {},
   "source": [
    "# write in pickles files"
   ]
  },
  {
   "cell_type": "code",
   "execution_count": null,
   "metadata": {},
   "outputs": [],
   "source": [
    "all_out_data = {}\n",
    "\n",
    "for idx in range(NN):\n",
    "    if FLAG_ORDER2:\n",
    "        thedata = {'number':all_tagnumber[idx],\n",
    "               'object':df_infos.iloc[idx]['object'],\n",
    "               'dateobs':df_infos.iloc[idx]['date_obs'],\n",
    "               'refhour':df_infos.iloc[idx]['reftime'],\n",
    "               'airmass':df_infos.iloc[idx]['airmass'], \n",
    "               'pressure':df_infos.iloc[idx]['pressure'], \n",
    "               'temperature':df_infos.iloc[idx]['temperature'], \n",
    "               'humidity':df_infos.iloc[idx]['humidity'], \n",
    "               'targetx_pix':all_targetx[idx],\n",
    "               'targety_pix':all_targety[idx],\n",
    "               'rotangle':all_rotangle[idx],\n",
    "               'd2ccd':all_d2ccd[idx],\n",
    "               'all_lambdas':all_lambdas[idx],\n",
    "               'all_fluxes':all_data[idx],\n",
    "               'all_fluxes_err':all_data_err[idx],\n",
    "               'all_lambdas_order2':all_lambdas_order2[idx],\n",
    "               'all_fluxes_order2':all_data_order2[idx],\n",
    "               'all_fluxes_err_order2':all_data_err_order2[idx],\n",
    "              }\n",
    "    else:\n",
    "        thedata = {'number':all_tagnumber[idx],\n",
    "               'object':df_infos.iloc[idx]['object'],\n",
    "               'dateobs':df_infos.iloc[idx]['date_obs'],\n",
    "               'refhour':df_infos.iloc[idx]['reftime'],\n",
    "               'airmass':df_infos.iloc[idx]['airmass'],\n",
    "               'pressure':df_infos.iloc[idx]['pressure'], \n",
    "               'temperature':df_infos.iloc[idx]['temperature'], \n",
    "               'humidity':df_infos.iloc[idx]['humidity'], \n",
    "               'targetx_pix':all_targetx[idx],\n",
    "               'targety_pix':all_targety[idx],\n",
    "               'rotangle':all_rotangle[idx],\n",
    "               'd2ccd':all_d2ccd[idx],\n",
    "               'all_lambdas':all_lambdas[idx],\n",
    "               'all_fluxes':all_data[idx],\n",
    "               'all_fluxes_err':all_data_err[idx],\n",
    "            }         \n",
    "            \n",
    "    all_out_data[os.path.basename(all_good_spectra_spectrum_files[idx])]=thedata\n"
   ]
  },
  {
   "cell_type": "code",
   "execution_count": null,
   "metadata": {},
   "outputs": [],
   "source": [
    "pkl_outfilename=f'run-auxtel-holo-{DATE}-{configdir}.pickle'\n",
    "\n",
    "with open(pkl_outfilename, 'wb') as pickle_file:\n",
    "    pickle.dump(all_out_data,pickle_file)\n"
   ]
  },
  {
   "cell_type": "code",
   "execution_count": null,
   "metadata": {},
   "outputs": [],
   "source": [
    "pkl_infilename=pkl_outfilename"
   ]
  },
  {
   "cell_type": "code",
   "execution_count": null,
   "metadata": {},
   "outputs": [],
   "source": [
    "with open(pkl_infilename, 'rb') as pickle_file:\n",
    "    content = pickle.load(pickle_file)\n"
   ]
  },
  {
   "cell_type": "code",
   "execution_count": null,
   "metadata": {},
   "outputs": [],
   "source": [
    "#content"
   ]
  },
  {
   "cell_type": "code",
   "execution_count": null,
   "metadata": {},
   "outputs": [],
   "source": [
    "# Get first value of dictionary\n",
    "next(iter(content.items()))"
   ]
  },
  {
   "cell_type": "code",
   "execution_count": null,
   "metadata": {},
   "outputs": [],
   "source": []
  }
 ],
 "metadata": {
  "kernelspec": {
   "display_name": "anaconda3_auxtel",
   "language": "python",
   "name": "anaconda3_auxtel"
  },
  "language_info": {
   "codemirror_mode": {
    "name": "ipython",
    "version": 3
   },
   "file_extension": ".py",
   "mimetype": "text/x-python",
   "name": "python",
   "nbconvert_exporter": "python",
   "pygments_lexer": "ipython3",
   "version": "3.8.5"
  },
  "toc": {
   "base_numbering": 1,
   "nav_menu": {},
   "number_sections": true,
   "sideBar": true,
   "skip_h1_title": false,
   "title_cell": "Table of Contents",
   "title_sidebar": "Contents",
   "toc_cell": false,
   "toc_position": {},
   "toc_section_display": true,
   "toc_window_display": false
  }
 },
 "nbformat": 4,
 "nbformat_minor": 4
}
