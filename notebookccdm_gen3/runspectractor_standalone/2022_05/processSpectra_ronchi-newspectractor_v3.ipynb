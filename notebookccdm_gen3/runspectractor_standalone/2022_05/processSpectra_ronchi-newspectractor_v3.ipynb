{
 "cells": [
  {
   "cell_type": "markdown",
   "metadata": {},
   "source": [
    "# process spectra for AuxTel with new spectractor (May 2022) for particular config, for Ronchi"
   ]
  },
  {
   "cell_type": "markdown",
   "metadata": {},
   "source": [
    "- author : Sylvie Dagoret-Campagne\n",
    "- affiliation : IJCLab/IN2P3/CNES, DESC-LSST fullmember, behalf AuxTel Teal VERA C. Rubin observatory\n",
    "- creation date : May 20th 2022\n",
    "\n",
    "- version v3 : Work with exposure butlen gen3\n",
    "\n",
    "       \n",
    "       After pull request from Jeremy on git-branch issue-auxteltarget\n",
    "       \n",
    "       pour faire simple, je propose une pull request d'une branche qui contient mes réglages vers ta branche issue-auxteltarget :\n",
    "\n",
    "       https://github.com/LSSTDESC/Spectractor/pull/95\n",
    "       \n",
    "\n",
    "This notebook is to help for finding the position of order 0\n",
    "\n",
    "CCIN2P3:\n",
    "\n",
    "- works with kernels **anaconda3_auxtel** (with libradtran) and **anaconda3_auxtel_v2** (no libradtran)\n",
    "- works with kernel **python 3** locally \n",
    "\n",
    "\n",
    "\n",
    "\n",
    "- Last update May 26th 2022\n",
    "- Last update May 28th 2022"
   ]
  },
  {
   "cell_type": "markdown",
   "metadata": {},
   "source": [
    "# Imports"
   ]
  },
  {
   "cell_type": "code",
   "execution_count": 1,
   "metadata": {},
   "outputs": [],
   "source": [
    "%load_ext autoreload\n",
    "%autoreload 2"
   ]
  },
  {
   "cell_type": "code",
   "execution_count": 2,
   "metadata": {},
   "outputs": [
    {
     "name": "stdout",
     "output_type": "stream",
     "text": [
      "['/pbs/throng/lsst/users/dagoret/desc/AuxTelComm/notebookccdm_gen3/runspectractor_standalone/2022_05', '', '/opt/conda/lib/python3.8/site-packages', '/sps/lsst/groups/auxtel/softs/utils/anaconda3/lib/python38.zip', '/sps/lsst/groups/auxtel/softs/utils/anaconda3/lib/python3.8', '/sps/lsst/groups/auxtel/softs/utils/anaconda3/lib/python3.8/lib-dynload', '/pbs/home/d/dagoret/.local/lib/python3.8/site-packages', '/sps/lsst/groups/auxtel/softs/utils/anaconda3/lib/python3.8/site-packages', '/sps/lsst/groups/auxtel/softs/utils/anaconda3/lib/python3.8/site-packages/Deprecated-1.2.11-py3.8.egg', '/sps/lsst/groups/auxtel/softs/utils/anaconda3/lib/python3.8/site-packages/docopt-0.6.2-py3.8.egg', '/sps/lsst/groups/auxtel/softs/utils/anaconda3/lib/python3.8/site-packages/mimeparse-0.1.3-py3.8.egg', '/sps/lsst/groups/auxtel/softs/utils/anaconda3/lib/python3.8/site-packages/Spectractor-2.1-py3.8.egg', '/sps/lsst/groups/auxtel/softs/utils/anaconda3/lib/python3.8/site-packages/rail-0.1.dev0-py3.8.egg', '/sps/lsst/groups/auxtel/softs/utils/anaconda3/lib/python3.8/site-packages/pyarrow-4.0.1-py3.8-linux-x86_64.egg', '/sps/lsst/groups/auxtel/softs/utils/anaconda3/lib/python3.8/site-packages/importlib_metadata-4.11.3-py3.8.egg', '/sps/lsst/groups/auxtel/softs/utils/anaconda3/lib/python3.8/site-packages/coveralls-3.0.1-py3.8.egg', '/sps/lsst/groups/auxtel/softs/utils/anaconda3/lib/python3.8/site-packages/astroquery-0.4.2.dev0-py3.8.egg', '/sps/lsst/groups/auxtel/softs/utils/anaconda3/lib/python3.8/site-packages/pyvo-1.1-py3.8.egg', '/sps/lsst/groups/auxtel/softs/utils/anaconda3/lib/python3.8/site-packages/certifi-2020.12.5-py3.8.egg', '/sps/lsst/groups/auxtel/softs/utils/anaconda3/lib/python3.8/site-packages/delight-1.0.1-py3.8-linux-x86_64.egg']\n"
     ]
    }
   ],
   "source": [
    "import sys\n",
    "print(sys.path)"
   ]
  },
  {
   "cell_type": "code",
   "execution_count": 3,
   "metadata": {},
   "outputs": [
    {
     "name": "stdout",
     "output_type": "stream",
     "text": [
      "remove /opt/conda/lib/python3.8/site-packages from sys.path\n",
      "remove /pbs/home/d/dagoret/.local/lib/python3.8/site-packages from sys.path\n"
     ]
    }
   ],
   "source": [
    "all_paths_to_remove = ['/opt/conda/lib/python3.8/site-packages','/pbs/home/d/dagoret/.local/lib/python3.8/site-packages']\n",
    "\n",
    "for path_to_remove in all_paths_to_remove:\n",
    "    if path_to_remove in sys.path:\n",
    "        print(f\"remove {path_to_remove} from sys.path\")\n",
    "        sys.path.remove(path_to_remove)"
   ]
  },
  {
   "cell_type": "code",
   "execution_count": 4,
   "metadata": {},
   "outputs": [
    {
     "data": {
      "text/plain": [
       "['/pbs/throng/lsst/users/dagoret/desc/AuxTelComm/notebookccdm_gen3/runspectractor_standalone/2022_05',\n",
       " '',\n",
       " '/sps/lsst/groups/auxtel/softs/utils/anaconda3/lib/python38.zip',\n",
       " '/sps/lsst/groups/auxtel/softs/utils/anaconda3/lib/python3.8',\n",
       " '/sps/lsst/groups/auxtel/softs/utils/anaconda3/lib/python3.8/lib-dynload',\n",
       " '/sps/lsst/groups/auxtel/softs/utils/anaconda3/lib/python3.8/site-packages',\n",
       " '/sps/lsst/groups/auxtel/softs/utils/anaconda3/lib/python3.8/site-packages/Deprecated-1.2.11-py3.8.egg',\n",
       " '/sps/lsst/groups/auxtel/softs/utils/anaconda3/lib/python3.8/site-packages/docopt-0.6.2-py3.8.egg',\n",
       " '/sps/lsst/groups/auxtel/softs/utils/anaconda3/lib/python3.8/site-packages/mimeparse-0.1.3-py3.8.egg',\n",
       " '/sps/lsst/groups/auxtel/softs/utils/anaconda3/lib/python3.8/site-packages/Spectractor-2.1-py3.8.egg',\n",
       " '/sps/lsst/groups/auxtel/softs/utils/anaconda3/lib/python3.8/site-packages/rail-0.1.dev0-py3.8.egg',\n",
       " '/sps/lsst/groups/auxtel/softs/utils/anaconda3/lib/python3.8/site-packages/pyarrow-4.0.1-py3.8-linux-x86_64.egg',\n",
       " '/sps/lsst/groups/auxtel/softs/utils/anaconda3/lib/python3.8/site-packages/importlib_metadata-4.11.3-py3.8.egg',\n",
       " '/sps/lsst/groups/auxtel/softs/utils/anaconda3/lib/python3.8/site-packages/coveralls-3.0.1-py3.8.egg',\n",
       " '/sps/lsst/groups/auxtel/softs/utils/anaconda3/lib/python3.8/site-packages/astroquery-0.4.2.dev0-py3.8.egg',\n",
       " '/sps/lsst/groups/auxtel/softs/utils/anaconda3/lib/python3.8/site-packages/pyvo-1.1-py3.8.egg',\n",
       " '/sps/lsst/groups/auxtel/softs/utils/anaconda3/lib/python3.8/site-packages/certifi-2020.12.5-py3.8.egg',\n",
       " '/sps/lsst/groups/auxtel/softs/utils/anaconda3/lib/python3.8/site-packages/delight-1.0.1-py3.8-linux-x86_64.egg']"
      ]
     },
     "execution_count": 4,
     "metadata": {},
     "output_type": "execute_result"
    }
   ],
   "source": [
    "sys.path"
   ]
  },
  {
   "cell_type": "code",
   "execution_count": 5,
   "metadata": {},
   "outputs": [],
   "source": [
    "import numpy as np\n",
    "import matplotlib.pyplot as plt\n",
    "%matplotlib inline\n",
    "from mpl_toolkits.axes_grid1 import make_axes_locatable\n",
    "from matplotlib.colors import LogNorm\n",
    "from matplotlib import  transforms\n",
    "import pandas as pd\n",
    "\n",
    "import matplotlib.ticker                         # here's where the formatter is\n",
    "import os\n",
    "import re\n",
    "\n",
    "plt.rcParams[\"figure.figsize\"] = (12,12)\n",
    "plt.rcParams[\"axes.labelsize\"] = 'xx-large'\n",
    "plt.rcParams['axes.titlesize'] = 'xx-large'\n",
    "plt.rcParams['xtick.labelsize']= 'xx-large'\n",
    "plt.rcParams['ytick.labelsize']= 'xx-large'"
   ]
  },
  {
   "cell_type": "code",
   "execution_count": null,
   "metadata": {},
   "outputs": [],
   "source": []
  },
  {
   "cell_type": "code",
   "execution_count": 6,
   "metadata": {},
   "outputs": [
    {
     "data": {
      "text/plain": [
       "['/pbs/throng/lsst/users/dagoret/desc/AuxTelComm/notebookccdm_gen3/runspectractor_standalone/2022_05',\n",
       " '',\n",
       " '/sps/lsst/groups/auxtel/softs/utils/anaconda3/lib/python38.zip',\n",
       " '/sps/lsst/groups/auxtel/softs/utils/anaconda3/lib/python3.8',\n",
       " '/sps/lsst/groups/auxtel/softs/utils/anaconda3/lib/python3.8/lib-dynload',\n",
       " '/sps/lsst/groups/auxtel/softs/utils/anaconda3/lib/python3.8/site-packages',\n",
       " '/sps/lsst/groups/auxtel/softs/utils/anaconda3/lib/python3.8/site-packages/Deprecated-1.2.11-py3.8.egg',\n",
       " '/sps/lsst/groups/auxtel/softs/utils/anaconda3/lib/python3.8/site-packages/docopt-0.6.2-py3.8.egg',\n",
       " '/sps/lsst/groups/auxtel/softs/utils/anaconda3/lib/python3.8/site-packages/mimeparse-0.1.3-py3.8.egg',\n",
       " '/sps/lsst/groups/auxtel/softs/utils/anaconda3/lib/python3.8/site-packages/Spectractor-2.1-py3.8.egg',\n",
       " '/sps/lsst/groups/auxtel/softs/utils/anaconda3/lib/python3.8/site-packages/rail-0.1.dev0-py3.8.egg',\n",
       " '/sps/lsst/groups/auxtel/softs/utils/anaconda3/lib/python3.8/site-packages/pyarrow-4.0.1-py3.8-linux-x86_64.egg',\n",
       " '/sps/lsst/groups/auxtel/softs/utils/anaconda3/lib/python3.8/site-packages/importlib_metadata-4.11.3-py3.8.egg',\n",
       " '/sps/lsst/groups/auxtel/softs/utils/anaconda3/lib/python3.8/site-packages/coveralls-3.0.1-py3.8.egg',\n",
       " '/sps/lsst/groups/auxtel/softs/utils/anaconda3/lib/python3.8/site-packages/astroquery-0.4.2.dev0-py3.8.egg',\n",
       " '/sps/lsst/groups/auxtel/softs/utils/anaconda3/lib/python3.8/site-packages/pyvo-1.1-py3.8.egg',\n",
       " '/sps/lsst/groups/auxtel/softs/utils/anaconda3/lib/python3.8/site-packages/certifi-2020.12.5-py3.8.egg',\n",
       " '/sps/lsst/groups/auxtel/softs/utils/anaconda3/lib/python3.8/site-packages/delight-1.0.1-py3.8-linux-x86_64.egg']"
      ]
     },
     "execution_count": 6,
     "metadata": {},
     "output_type": "execute_result"
    }
   ],
   "source": [
    "sys.path"
   ]
  },
  {
   "cell_type": "code",
   "execution_count": 7,
   "metadata": {},
   "outputs": [
    {
     "name": "stdout",
     "output_type": "stream",
     "text": [
      "/sps/lsst/groups/auxtel/softs/utils/anaconda3/bin/python\n",
      "3.8.5 (default, Sep  4 2020, 07:30:14) \n",
      "[GCC 7.3.0]\n"
     ]
    }
   ],
   "source": [
    "print(sys.executable)\n",
    "print(sys.version)\n",
    "#print(sys.version_info)"
   ]
  },
  {
   "cell_type": "code",
   "execution_count": 8,
   "metadata": {},
   "outputs": [
    {
     "data": {
      "image/png": "[encoded data removed]",
      "text/plain": [
       "<Figure size 360x144 with 1 Axes>"
      ]
     },
     "metadata": {
      "needs_background": "light"
     },
     "output_type": "display_data"
    }
   ],
   "source": [
    "fig=plt.figure(figsize=(5,2))\n",
    "ax=fig.add_subplot(1,1,1)\n",
    "X=np.linspace(-10,10,50)\n",
    "Y=np.sin(X)\n",
    "ax.plot(X,Y)\n",
    "plt.show()               \n"
   ]
  },
  {
   "cell_type": "code",
   "execution_count": 9,
   "metadata": {},
   "outputs": [],
   "source": [
    "from iminuit import Minuit\n",
    "import iminuit"
   ]
  },
  {
   "cell_type": "code",
   "execution_count": 10,
   "metadata": {},
   "outputs": [
    {
     "data": {
      "text/plain": [
       "'2.8.4'"
      ]
     },
     "execution_count": 10,
     "metadata": {},
     "output_type": "execute_result"
    }
   ],
   "source": [
    "iminuit.__version__"
   ]
  },
  {
   "cell_type": "code",
   "execution_count": 11,
   "metadata": {},
   "outputs": [],
   "source": [
    "from astropy.io import fits\n",
    "from astropy.coordinates import Angle\n",
    "from astropy import units as u\n",
    "from spectractor import parameters\n",
    "from spectractor.extractor.extractor import Spectractor\n",
    "from spectractor.extractor.images import *\n",
    "from scipy import ndimage, misc"
   ]
  },
  {
   "cell_type": "code",
   "execution_count": 12,
   "metadata": {},
   "outputs": [],
   "source": [
    "from scipy.stats import kurtosis,skew\n",
    "from scipy.stats import kurtosistest,skewtest,normaltest"
   ]
  },
  {
   "cell_type": "code",
   "execution_count": 13,
   "metadata": {},
   "outputs": [],
   "source": [
    "from distutils.dir_util import copy_tree\n",
    "import shutil"
   ]
  },
  {
   "cell_type": "markdown",
   "metadata": {},
   "source": [
    "# Configuration"
   ]
  },
  {
   "cell_type": "markdown",
   "metadata": {},
   "source": [
    "## Notebook configuration"
   ]
  },
  {
   "cell_type": "code",
   "execution_count": 14,
   "metadata": {},
   "outputs": [],
   "source": [
    "version=\"v5.0\"  # version of flipping\n",
    "# create output directories if not exist and clean existing files\n",
    "FLAG_MANAGE_OUTPUT_SPECTRACTOR=True\n",
    "# allow to run reconstruction with Spectractor\n",
    "FLAG_GO_FOR_RECONSTRUCTION_WTH_SPECTRACTOR=True\n",
    "\n",
    "FLAG_REMOVE_WCS = False\n",
    "FLAG_RUNWITHEXCEPTIONS = False"
   ]
  },
  {
   "cell_type": "markdown",
   "metadata": {},
   "source": [
    "## Spectractor configuration"
   ]
  },
  {
   "cell_type": "code",
   "execution_count": 15,
   "metadata": {},
   "outputs": [
    {
     "name": "stdout",
     "output_type": "stream",
     "text": [
      "List of configuration files available :  ['.ipynb_checkpoints', 'auxtel_config_holo_DECONVOLUTION_PSF1D.ini', 'auxtel_config_ronchi_DECONVOLUTION_PSF1D.ini', 'auxtel_config_holo_DECONVOLUTION_FFM.ini', 'auxtel_config_ronchi_DECONVOLUTION_PSF2D.ini', 'auxtel_config_holo_DECONVOLUTION_PSF2D.ini']\n"
     ]
    }
   ],
   "source": [
    "print(\"List of configuration files available : \",os.listdir(\"config\"))"
   ]
  },
  {
   "cell_type": "code",
   "execution_count": 16,
   "metadata": {},
   "outputs": [],
   "source": [
    "# Choose the config filename\n",
    "list_of_spectractorconfigfiles= ['auxtel_config_ronchi_DECONVOLUTION_PSF1D.ini','auxtel_config_ronchi_DECONVOLUTION_PSF2D.ini']\n",
    "config_idx = 0\n",
    "configfilename= os.path.join(\"./config\",list_of_spectractorconfigfiles[config_idx])\n",
    "#configdir = (list_of_spectractorconfigfiles[config_idx].split(\"_\")[-1]).split(\".\") [0]\n",
    "configdir = \"config_\" + (list_of_spectractorconfigfiles[config_idx].split(\"auxtel_config_ronchi_\")[-1]).split(\".\") [0]"
   ]
  },
  {
   "cell_type": "code",
   "execution_count": 17,
   "metadata": {},
   "outputs": [
    {
     "ename": "AssertionError",
     "evalue": "",
     "output_type": "error",
     "traceback": [
      "\u001b[0;31m---------------------------------------------------------------------------\u001b[0m",
      "\u001b[0;31mAssertionError\u001b[0m                            Traceback (most recent call last)",
      "Input \u001b[0;32mIn [17]\u001b[0m, in \u001b[0;36m<cell line: 1>\u001b[0;34m()\u001b[0m\n\u001b[0;32m----> 1\u001b[0m \u001b[38;5;28;01massert\u001b[39;00m \u001b[38;5;28;01mFalse\u001b[39;00m\n",
      "\u001b[0;31mAssertionError\u001b[0m: "
     ]
    }
   ],
   "source": [
    "assert False"
   ]
  },
  {
   "cell_type": "code",
   "execution_count": null,
   "metadata": {},
   "outputs": [],
   "source": [
    "configfilename"
   ]
  },
  {
   "cell_type": "code",
   "execution_count": null,
   "metadata": {},
   "outputs": [],
   "source": [
    "configdir"
   ]
  },
  {
   "cell_type": "markdown",
   "metadata": {},
   "source": [
    "## Configuration of exposures"
   ]
  },
  {
   "cell_type": "code",
   "execution_count": null,
   "metadata": {},
   "outputs": [],
   "source": [
    "# path index for each month\n",
    "DATE=\"20220316\"\n",
    "filterdispersername = \"empty~ronchi170lpmm\"\n",
    "imagemode = \"postISRCCD\"\n",
    "#imagemode = \"unflattened\""
   ]
  },
  {
   "cell_type": "code",
   "execution_count": null,
   "metadata": {},
   "outputs": [],
   "source": [
    "disperser_label = filterdispersername.split(\"~\")[-1]"
   ]
  },
  {
   "cell_type": "markdown",
   "metadata": {},
   "source": [
    "## Paths"
   ]
  },
  {
   "cell_type": "code",
   "execution_count": null,
   "metadata": {},
   "outputs": [],
   "source": [
    "# select if we run at CC or not (locally) \n",
    "# /sps/lsst/groups/auxtel/data/2022/holo/20220317\n",
    "HOSTCC=True"
   ]
  },
  {
   "cell_type": "code",
   "execution_count": null,
   "metadata": {},
   "outputs": [],
   "source": [
    "# Set path depending on which computer running (according HOSTCC)\n",
    "if HOSTCC:\n",
    "    path_auxtel=\"/sps/lsst/groups/auxtel\"\n",
    "    path_spectractor=os.path.join(path_auxtel,\"softs/github/desc/Spectractor\")\n",
    "    path_spectractor_config=os.path.join(path_spectractor,\"config\")\n",
    "    path_images=os.path.join(path_auxtel,\"data/2022/\"+filterdispersername+\"/\"+DATE)\n",
    "    if configdir == \"\":\n",
    "        path_output_spectractor=os.path.join(path_auxtel,\"data/2022/OutputSpectractor/\"+imagemode+\"/\"+filterdispersername+\"/\"+DATE)\n",
    "    else:\n",
    "        path_output_spectractor=os.path.join(path_auxtel,\"data/2022/OutputSpectractor/\"+imagemode+\"/\"+filterdispersername+\"/\"+configdir+\"/\"+DATE)\n",
    "        path_topoutput_spectractor=os.path.join(path_auxtel,\"data/2022/OutputSpectractor/\"+imagemode+\"/\"+filterdispersername+\"/\"+configdir)\n",
    "        path_toptopoutput_spectractor=os.path.join(path_auxtel,\"data/2022/OutputSpectractor/\"+imagemode+\"/\"+filterdispersername)\n",
    "        path_toptoptopoutput_spectractor=os.path.join(path_auxtel,\"data/2022/OutputSpectractor/\"+imagemode)\n",
    "\n",
    "else:\n",
    "    path_auxtel=\"/Users/sylvie/DATA/AuxTelData2022\"\n",
    "    path_spectractor=os.path.join(path_auxtel,\"/Users/sylvie/MacOSX/GitHub/LSST/Spectractor\")\n",
    "    path_spectractor_config=os.path.join(path_spectractor,\"config\")\n",
    "    path_images=os.path.join(path_auxtel,\"data/2022/\"+filterdispersername+\"/\"+DATE)\n",
    "    if configdir == \"\":\n",
    "        path_output_spectractor=os.path.join(path_auxtel,\"data/2022/OutputSpectractor/\"+imagemode+\"/\"+filterdispersername+\"/\"+DATE)\n",
    "    else:\n",
    "        path_output_spectractor=os.path.join(path_auxtel,\"data/2022/OutputSpectractor/\"+imagemode+\"/\"+filterdispersername+\"/\"+configdir+\"/\"+DATE)\n",
    "        path_topoutput_spectractor=os.path.join(path_auxtel,\"data/2022/OutputSpectractor/\"+imagemode+\"/\"+filterdispersername+\"/\"+configdir)\n",
    "        path_toptopoutput_spectractor=os.path.join(path_auxtel,\"data/2022/OutputSpectractor/\"+imagemode+\"/\"+filterdispersername)\n",
    "        path_toptoptopoutput_spectractor=os.path.join(path_auxtel,\"data/2022/OutputSpectractor/\"+imagemode)\n"
   ]
  },
  {
   "cell_type": "code",
   "execution_count": null,
   "metadata": {},
   "outputs": [],
   "source": [
    "path_images"
   ]
  },
  {
   "cell_type": "code",
   "execution_count": null,
   "metadata": {},
   "outputs": [],
   "source": [
    "path_topoutput_spectractor"
   ]
  },
  {
   "cell_type": "code",
   "execution_count": null,
   "metadata": {},
   "outputs": [],
   "source": [
    "path_output_spectractor"
   ]
  },
  {
   "cell_type": "markdown",
   "metadata": {},
   "source": [
    "# Utility Functions"
   ]
  },
  {
   "cell_type": "code",
   "execution_count": null,
   "metadata": {},
   "outputs": [],
   "source": [
    "def is_nan(x):\n",
    "    return (x != x)"
   ]
  },
  {
   "cell_type": "markdown",
   "metadata": {},
   "source": [
    "# Logbook for input file selection\n",
    "\n",
    "- the logbook contains all input image path and possibily the order 0 position"
   ]
  },
  {
   "cell_type": "code",
   "execution_count": null,
   "metadata": {},
   "outputs": [],
   "source": [
    "filename_logbook='logbooks/auxtellogbook_'+filterdispersername+\"_\"+DATE+'_' + version+'.csv'"
   ]
  },
  {
   "cell_type": "code",
   "execution_count": null,
   "metadata": {},
   "outputs": [],
   "source": [
    "df=pd.read_csv(filename_logbook,index_col=0)"
   ]
  },
  {
   "cell_type": "code",
   "execution_count": null,
   "metadata": {},
   "outputs": [],
   "source": [
    "pd.set_option('display.max_rows', None)"
   ]
  },
  {
   "cell_type": "code",
   "execution_count": null,
   "metadata": {},
   "outputs": [],
   "source": [
    "# show the list of input files from the logbook to select the file index in the logbook\n",
    "df"
   ]
  },
  {
   "cell_type": "markdown",
   "metadata": {},
   "source": [
    "# Selection of input file\n",
    "- the input file is selected from the logbook list above"
   ]
  },
  {
   "cell_type": "code",
   "execution_count": null,
   "metadata": {},
   "outputs": [],
   "source": [
    "idx=0"
   ]
  },
  {
   "cell_type": "code",
   "execution_count": null,
   "metadata": {},
   "outputs": [],
   "source": [
    "print(df.iloc[idx]['file'])"
   ]
  },
  {
   "cell_type": "code",
   "execution_count": null,
   "metadata": {},
   "outputs": [],
   "source": [
    "print(df.iloc[idx])"
   ]
  },
  {
   "cell_type": "code",
   "execution_count": null,
   "metadata": {},
   "outputs": [],
   "source": [
    "myhome=os.getenv(\"HOME\")"
   ]
  },
  {
   "cell_type": "code",
   "execution_count": null,
   "metadata": {},
   "outputs": [],
   "source": [
    "dir_images=path_images"
   ]
  },
  {
   "cell_type": "code",
   "execution_count": null,
   "metadata": {},
   "outputs": [],
   "source": [
    "dir_images"
   ]
  },
  {
   "cell_type": "code",
   "execution_count": null,
   "metadata": {},
   "outputs": [],
   "source": [
    "filename_image=df['file'][idx]\n",
    "filename_image"
   ]
  },
  {
   "cell_type": "code",
   "execution_count": null,
   "metadata": {},
   "outputs": [],
   "source": [
    "target = df['object'][idx]\n",
    "target"
   ]
  },
  {
   "cell_type": "markdown",
   "metadata": {},
   "source": [
    "## If order 0 position exists in logbook it is selected, otherwise put it by hand"
   ]
  },
  {
   "cell_type": "code",
   "execution_count": null,
   "metadata": {},
   "outputs": [],
   "source": [
    "# ## If order 0 position exists in logbook it is selected, otherwise put it by hand\n",
    "\n",
    "x0=300\n",
    "y0=1700\n",
    "\n",
    "if 'Obj-posXpix' in df.columns and 'Obj-posYpix' in df.columns:\n",
    "    thex0 = df['Obj-posXpix'][idx]\n",
    "    if not is_nan(thex0):\n",
    "        x0=thex0\n",
    "    they0 = df['Obj-posYpix'][idx]\n",
    "    if not is_nan(they0):\n",
    "        y0=they0\n",
    "    \n",
    "if not is_nan(x0) and not is_nan(y0):\n",
    "\n",
    "    print(\"Order 0 location from logbook : ({},{})\".format(x0,y0))\n",
    "else:\n",
    "    print(\"NO Order 0 location from logbook ! \")      \n",
    "\n",
    "print(f\"guess (x0,y0) = ({x0},{y0})\")\n"
   ]
  },
  {
   "cell_type": "markdown",
   "metadata": {},
   "source": [
    "## Spectractor Configuration \n",
    "\n",
    "- Usually the Spectractor configuration file is put in local dir **./config**\n",
    "\n",
    "\n",
    "Ma suggestion, pour l'étude du centre optique via les scans des hologrammes, est de **mettre SPECTRACTOR_COMPUTE_ROTATION_ANGLE sur False** . \n",
    "\n",
    "Comme les angles ne sont pas très grands, si les marges du rectangle sont assez larges, réglables avec : \n",
    "\n",
    "    [background subtraction parameters] \n",
    "    # half transverse width of the signal rectangular window in pixels \n",
    "    PIXWIDTH_SIGNAL = 40 \n",
    "\n",
    "alors le spectrogramme devrait tenir dans une boite rectangulaire même sans rotation de l'image. **L'important est de garder SPECTRACTOR_DECONVOLUTION_FFM à True car c'est lui qui te donnera l'angle de l'axe de dispersion ajusté sur les données, dont la valeur sera dans le mot clé ROTANGLE du header de sortie**. \n"
   ]
  },
  {
   "cell_type": "code",
   "execution_count": null,
   "metadata": {},
   "outputs": [],
   "source": [
    "rootfilename = filename_image.split(\".\")[0]\n",
    "rootfilename_split =  rootfilename.split(\"_\") \n",
    "filenumberdir = rootfilename_split[1] "
   ]
  },
  {
   "cell_type": "code",
   "execution_count": null,
   "metadata": {},
   "outputs": [],
   "source": [
    "path_output_spectractor"
   ]
  },
  {
   "cell_type": "code",
   "execution_count": null,
   "metadata": {},
   "outputs": [],
   "source": [
    "configdir"
   ]
  },
  {
   "cell_type": "code",
   "execution_count": null,
   "metadata": {},
   "outputs": [],
   "source": [
    "\n",
    "# Fullfilename\n",
    "filename=os.path.join(dir_images,filename_image)\n",
    "\n",
    "\n",
    "# subdirectory\n",
    "#subdir=filename_image.split(\".\")[0]\n",
    "subdir=filenumberdir\n",
    "\n",
    "# final output directory (where results will be copied to be backed up at the end)\n",
    "finalpath_output_spectractor=os.path.join(path_output_spectractor,subdir)\n",
    "\n",
    "\n",
    "# local directories to put spectra and plots\n",
    "if configdir ==\"\":\n",
    "    output_directory=\"./outputs_process_ronchi\"\n",
    "    output_figures=\"figures_process_ronchi\"\n",
    "else:\n",
    "    output_directory = \"./outputs_process_\" + filterdispersername + \"_\" + configdir\n",
    "    output_figures   = \"./figures_process_\" + filterdispersername + \"_\" + configdir\n",
    "    \n",
    "\n",
    "guess = [300,1700]\n",
    "config=configfilename\n",
    "target=df.iloc[idx][\"object\"]"
   ]
  },
  {
   "cell_type": "code",
   "execution_count": null,
   "metadata": {},
   "outputs": [],
   "source": [
    "finalpath_output_spectractor"
   ]
  },
  {
   "cell_type": "code",
   "execution_count": null,
   "metadata": {},
   "outputs": [],
   "source": [
    "print(f\"finalpath_output_spectractor = {finalpath_output_spectractor}\")\n",
    "print(f\"output_directory = {output_directory}\")\n",
    "print(f\"output_figures = {output_figures}\")\n",
    "print(f\"config filename = {config}\")"
   ]
  },
  {
   "cell_type": "code",
   "execution_count": null,
   "metadata": {},
   "outputs": [],
   "source": [
    "def cleandir(path):\n",
    "    if os.path.isdir(path):\n",
    "        files=os.listdir(path)\n",
    "        if len(files) > 0:\n",
    "            for f in files:\n",
    "                if os.path.isdir(os.path.join(path,f)):\n",
    "                    if f==\".ipynb_checkpoints\":\n",
    "                        shutil.rmtree(os.path.join(path,f))\n",
    "                    else:\n",
    "                        print(\" Cannot remove this directory {}\".format(os.path.join(path,f)))\n",
    "                else:\n",
    "                    os.remove(os.path.join(path,f))"
   ]
  },
  {
   "cell_type": "code",
   "execution_count": null,
   "metadata": {},
   "outputs": [],
   "source": [
    "if not os.path.isdir(output_directory):\n",
    "    os.mkdir(output_directory)\n",
    "else:\n",
    "    cleandir(output_directory)\n",
    " \n",
    "# manage subdirs spectrum/ and plots/\n",
    "if not os.path.isdir(output_figures):\n",
    "    os.mkdir(output_figures)\n",
    "else:\n",
    "    cleandir(output_figures)"
   ]
  },
  {
   "cell_type": "code",
   "execution_count": null,
   "metadata": {},
   "outputs": [],
   "source": [
    "print(\"config filename\",config)"
   ]
  },
  {
   "cell_type": "markdown",
   "metadata": {},
   "source": [
    "# Configuration of the Spectractor running mode"
   ]
  },
  {
   "cell_type": "code",
   "execution_count": null,
   "metadata": {},
   "outputs": [],
   "source": [
    "parameters.debug=True\n",
    "parameters.verbose=True\n",
    "parameters.display=True\n",
    "parameters.LIVE_FIT=False"
   ]
  },
  {
   "cell_type": "code",
   "execution_count": null,
   "metadata": {},
   "outputs": [],
   "source": [
    "target"
   ]
  },
  {
   "cell_type": "markdown",
   "metadata": {},
   "source": [
    "## Load the image in the new image file with Spectractor"
   ]
  },
  {
   "cell_type": "code",
   "execution_count": null,
   "metadata": {},
   "outputs": [],
   "source": [
    "image=Image(file_name=filename, disperser_label=disperser_label, config=config)"
   ]
  },
  {
   "cell_type": "code",
   "execution_count": null,
   "metadata": {},
   "outputs": [],
   "source": [
    "image.data.shape"
   ]
  },
  {
   "cell_type": "markdown",
   "metadata": {},
   "source": [
    "## Show relevant parameters"
   ]
  },
  {
   "cell_type": "code",
   "execution_count": null,
   "metadata": {},
   "outputs": [],
   "source": [
    "print(parameters)"
   ]
  },
  {
   "cell_type": "code",
   "execution_count": null,
   "metadata": {},
   "outputs": [],
   "source": [
    "parameters.LSST_SAVEFIGPATH=True\n",
    "parameters.LSST_SAVEFIGPATH=output_figures"
   ]
  },
  {
   "cell_type": "code",
   "execution_count": null,
   "metadata": {},
   "outputs": [],
   "source": [
    "image.filter_label"
   ]
  },
  {
   "cell_type": "code",
   "execution_count": null,
   "metadata": {},
   "outputs": [],
   "source": [
    "image.header[\"FILTER\"]"
   ]
  },
  {
   "cell_type": "code",
   "execution_count": null,
   "metadata": {},
   "outputs": [],
   "source": [
    "image.header"
   ]
  },
  {
   "cell_type": "markdown",
   "metadata": {},
   "source": [
    "# Plot image and find the target position\n",
    "\n",
    "- this image plotting is used to find the order 0 location to be set in logbook\n",
    "\n",
    "- for the moment this is humanly done"
   ]
  },
  {
   "cell_type": "markdown",
   "metadata": {},
   "source": [
    "## Load the new image file with Spectractor"
   ]
  },
  {
   "cell_type": "code",
   "execution_count": null,
   "metadata": {},
   "outputs": [],
   "source": [
    "title=\"{}) {}\".format(idx,filename_image)\n",
    "image.plot_image(figsize=(12, 10),scale=\"log\",title=title)"
   ]
  },
  {
   "cell_type": "markdown",
   "metadata": {},
   "source": [
    "- note now the position are written in the make_logbook.ipynb notebook"
   ]
  },
  {
   "cell_type": "markdown",
   "metadata": {},
   "source": [
    "## Set the 0th order location to be provided to Spectractor"
   ]
  },
  {
   "cell_type": "code",
   "execution_count": null,
   "metadata": {},
   "outputs": [],
   "source": [
    "filename_image"
   ]
  },
  {
   "cell_type": "code",
   "execution_count": null,
   "metadata": {},
   "outputs": [],
   "source": [
    "print(\"Set Order 0 location from logbook : ({},{})\".format(x0,y0))\n",
    "guess = [x0,y0]"
   ]
  },
  {
   "cell_type": "markdown",
   "metadata": {},
   "source": [
    "## Let Spectractor find the location of the 0th order"
   ]
  },
  {
   "cell_type": "code",
   "execution_count": null,
   "metadata": {},
   "outputs": [],
   "source": [
    "parameters.VERBOSE = True\n",
    "parameters.DEBUG = True\n",
    "#x1, y1 = find_target(image, guess,rotated=False, use_wcs=False)\n",
    "x1, y1 = find_target(image, guess,rotated=False)"
   ]
  },
  {
   "cell_type": "code",
   "execution_count": null,
   "metadata": {},
   "outputs": [],
   "source": [
    "print(x1,y1)"
   ]
  },
  {
   "cell_type": "markdown",
   "metadata": {},
   "source": [
    "## Check the location of 0th order and Analysis of the quality of its focus"
   ]
  },
  {
   "cell_type": "code",
   "execution_count": null,
   "metadata": {},
   "outputs": [],
   "source": [
    "if x1>100:\n",
    "    WID=100\n",
    "else:\n",
    "    WID=50\n",
    "    \n",
    "\n",
    "thumbnail=np.copy(image.data[int(y1)-WID:int(y1)+WID,int(x1)-WID:int(x1)+WID])\n",
    "thumbnail_y=thumbnail.sum(axis=1)\n",
    "thumbnail_x=thumbnail.sum(axis=0)\n",
    "xx=np.linspace(int(x1)-WID,int(x1)+WID,len(thumbnail_x))\n",
    "yy=np.linspace(int(y1)-WID,int(y1)+WID,len(thumbnail_y))\n",
    "k0=kurtosis(thumbnail,axis=None,bias=True,fisher=True)\n",
    "kx=kurtosis(thumbnail_x,bias=True,fisher=True)\n",
    "ky=kurtosis(thumbnail_y,bias=True,fisher=True)\n",
    "s0=skew(thumbnail,axis=None,bias=True)\n",
    "sx=skew(thumbnail_x,bias=True)\n",
    "sy=skew(thumbnail_y,bias=True)\n",
    "        "
   ]
  },
  {
   "cell_type": "code",
   "execution_count": null,
   "metadata": {},
   "outputs": [],
   "source": [
    "shape_str='\\n'.join((\n",
    "        r'skew     : Sk0 = {:3.3f}, Skx = {:3.3f}, Sky = {:3.3f} \\n'.format(s0,sx,sy),\n",
    "        r'kurtosis : K0  = {:3.3f}, Kx  = {:3.3f},  Ky = {:3.3f}'.format(k0,kx,ky)))"
   ]
  },
  {
   "cell_type": "code",
   "execution_count": null,
   "metadata": {},
   "outputs": [],
   "source": [
    "skew_str='\\n'.join((\n",
    "        r'skew     : Sk0 = {:3.3f}'.format(s0),\n",
    "        r'             : Skx = {:3.3f}'.format(sx),\n",
    "        r'             : Sky = {:3.3f}'.format(sy)))"
   ]
  },
  {
   "cell_type": "code",
   "execution_count": null,
   "metadata": {},
   "outputs": [],
   "source": [
    "kurt_str='\\n'.join((\n",
    "        r'kurtosis : K0 = {:3.3f}'.format(k0),\n",
    "        r'             : Kx = {:3.3f}'.format(kx),\n",
    "        r'             : Ky = {:3.3f}'.format(ky)))"
   ]
  },
  {
   "cell_type": "code",
   "execution_count": null,
   "metadata": {},
   "outputs": [],
   "source": [
    "kurtosis_test_prob=kurtosistest(thumbnail,axis=None).pvalue\n",
    "skew_test_prob=skewtest(thumbnail,axis=None).pvalue\n",
    "normal_test_prob=normaltest(thumbnail,axis=None).pvalue"
   ]
  },
  {
   "cell_type": "code",
   "execution_count": null,
   "metadata": {},
   "outputs": [],
   "source": [
    "kurtosis_test_val=kurtosistest(thumbnail,axis=None).statistic\n",
    "skew_test_val=skewtest(thumbnail,axis=None).statistic\n",
    "normal_test_val=normaltest(thumbnail,axis=None).statistic"
   ]
  },
  {
   "cell_type": "code",
   "execution_count": null,
   "metadata": {},
   "outputs": [],
   "source": [
    "kurtosis_test_prob_x=kurtosistest(thumbnail_x).pvalue\n",
    "skew_test_prob_x=skewtest(thumbnail_x).pvalue\n",
    "normal_test_prob_x=normaltest(thumbnail_x).pvalue"
   ]
  },
  {
   "cell_type": "code",
   "execution_count": null,
   "metadata": {},
   "outputs": [],
   "source": [
    "kurtosis_test_prob_y=kurtosistest(thumbnail_y).pvalue\n",
    "skew_test_prob_y=skewtest(thumbnail_y).pvalue\n",
    "normal_test_prob_y=normaltest(thumbnail_y).pvalue"
   ]
  },
  {
   "cell_type": "code",
   "execution_count": null,
   "metadata": {},
   "outputs": [],
   "source": [
    "skew_str='\\n'.join((\n",
    "    r'skew     : Sk0 = {:3.3f}'.format(s0),\n",
    "    r'             : Skx = {:3.3f}'.format(sx),\n",
    "    r'             : Sky = {:3.3f}'.format(sy),\n",
    "    r'             : p_test   = {:3.3e}'.format(skew_test_prob),\n",
    "    r'             : p_test_x = {:3.3e}'.format(skew_test_prob_x),\n",
    "    r'             : p_test_y = {:3.3e}'.format(skew_test_prob_y)))"
   ]
  },
  {
   "cell_type": "code",
   "execution_count": null,
   "metadata": {},
   "outputs": [],
   "source": [
    "kurt_str='\\n'.join((\n",
    "    r'kurtosis : K0 = {:3.3f}'.format(k0),\n",
    "    r'             : Kx = {:3.3f}'.format(kx),\n",
    "    r'             : Ky = {:3.3f}'.format(ky),\n",
    "    r'             : p_test   = {:3.3e}'.format(kurtosis_test_prob),\n",
    "    r'             : p_test_x = {:3.3e}'.format(kurtosis_test_prob_x),\n",
    "    r'             : p_test_y = {:3.3e}'.format(kurtosis_test_prob_y)))"
   ]
  },
  {
   "cell_type": "code",
   "execution_count": null,
   "metadata": {},
   "outputs": [],
   "source": [
    "norm_str='\\n'.join((\n",
    "    r'normal  : p_test   = {:3.3e}'.format(normal_test_prob),\n",
    "    r'             : p_test_x = {:3.3e}'.format(normal_test_prob_x),\n",
    "    r'             : p_test_y = {:3.3e}'.format(normal_test_prob_y)))"
   ]
  },
  {
   "cell_type": "code",
   "execution_count": null,
   "metadata": {},
   "outputs": [],
   "source": [
    "props = dict(boxstyle='round',edgecolor=\"w\",facecolor=\"w\", alpha=0.5)"
   ]
  },
  {
   "cell_type": "code",
   "execution_count": null,
   "metadata": {},
   "outputs": [],
   "source": [
    "#matplotlib.pyplot.hist(x, \n",
    "#                       bins=10, \n",
    "#                       range=None, \n",
    "#                       normed=False, \n",
    "#                       weights=None, \n",
    "#                       cumulative=False, \n",
    "#                       bottom=None, \n",
    "#                       histtype=u'bar', \n",
    "#                       align=u'mid', \n",
    "#                       orientation=u'vertical', \n",
    "#                       rwidth=None, \n",
    "#                       log=False, \n",
    "#                       color=None, \n",
    "#                       label=None, \n",
    "#                       stacked=False, \n",
    "#                       hold=None, \n",
    "#                       **kwargs)"
   ]
  },
  {
   "cell_type": "code",
   "execution_count": null,
   "metadata": {},
   "outputs": [],
   "source": [
    "fig=plt.figure(figsize=(10,10))\n",
    "fig.subplots_adjust(left=0.12, right=0.95, wspace=0.3,\n",
    "                    bottom=0.15, top=0.9)\n",
    "\n",
    "ax=fig.add_subplot(222)\n",
    "ax.imshow(thumbnail,origin=\"lower\",extent=(int(x1)-WID,int(x1)+WID,int(y1)-WID,int(y1)+WID))\n",
    "ax.set_xlabel(\"X\")\n",
    "ax.set_ylabel(\"Y\")\n",
    "\n",
    "ax=fig.add_subplot(221)\n",
    "base = plt.gca().transData\n",
    "rot = transforms.Affine2D().rotate_deg(-90)\n",
    "#ax.plot(yy,thumbnail_y,\"g\",rotation=u'vertical')\n",
    "ax.plot(-yy,thumbnail_y,\"g\",transform= rot + base)\n",
    "ax.set_ylabel(\"Y\")\n",
    "\n",
    "ax=fig.add_subplot(224)\n",
    "ax.plot(xx,thumbnail_x,\"b\")\n",
    "ax.set_xlabel(\"X\")\n",
    "plt.tight_layout()\n",
    "\n",
    "ax=fig.add_subplot(223)\n",
    "ax.set_xlim(0,10)\n",
    "ax.set_ylim(0,10)\n",
    "ax.set_xticklabels([])\n",
    "ax.set_xticks([])\n",
    "ax.set_yticks([])\n",
    "\n",
    "ax.text(0.05, 0.9, skew_str, transform=ax.transAxes, fontsize=12,verticalalignment='top', bbox=props)\n",
    "ax.text(0.05, 0.55, kurt_str, transform=ax.transAxes, fontsize=12,verticalalignment='top', bbox=props)\n",
    "ax.text(0.05, 0.2, norm_str, transform=ax.transAxes, fontsize=12,verticalalignment='top', bbox=props)\n",
    "plt.suptitle(title)"
   ]
  },
  {
   "cell_type": "code",
   "execution_count": null,
   "metadata": {},
   "outputs": [],
   "source": [
    "# Usually stop here if one just want to get the 0th order location\n",
    "if not FLAG_GO_FOR_RECONSTRUCTION_WTH_SPECTRACTOR:\n",
    "    assert False\n",
    "else:\n",
    "    assert True"
   ]
  },
  {
   "cell_type": "markdown",
   "metadata": {},
   "source": [
    "# Go for spectrum reconstruction"
   ]
  },
  {
   "cell_type": "code",
   "execution_count": null,
   "metadata": {},
   "outputs": [],
   "source": [
    "parameters.DEBUG=True\n",
    "parameters.VERBOSE=True\n",
    "parameters.DISPLAY=True\n",
    "parameters.LIVE_FIT=False"
   ]
  },
  {
   "cell_type": "code",
   "execution_count": null,
   "metadata": {},
   "outputs": [],
   "source": [
    "if FLAG_RUNWITHEXCEPTIONS:\n",
    "    try:\n",
    "        spectrum = Spectractor(filename, output_directory, guess=[x1,y1], target_label=target, disperser_label=disperser_label, config=config)\n",
    "    except:\n",
    "        errtype = sys.exc_info()[0]  # E.g. <class 'PermissionError'>\n",
    "        description = sys.exc_info()[1]   # E.g. [Errno 13] Permission denied: ...\n",
    "        \n",
    "        print(\"\\t +++++++++++++++++++++ Exception occured +++++++++++++++++++++++++++++++++++++++++\")\n",
    "        print(f\"\\t >>>>>  errtype = {errtype}\")\n",
    "        print(f\"\\t >>>>>> description = {description}\")\n",
    "else:\n",
    "    spectrum = Spectractor(filename, output_directory, guess=[x1,y1], target_label=target, disperser_label=disperser_label, config=config)"
   ]
  },
  {
   "cell_type": "markdown",
   "metadata": {},
   "source": [
    "# Backup output"
   ]
  },
  {
   "cell_type": "markdown",
   "metadata": {},
   "source": [
    "- If no crash occurs, arrive here"
   ]
  },
  {
   "cell_type": "code",
   "execution_count": null,
   "metadata": {},
   "outputs": [],
   "source": [
    "# this flag must be set if one want to clean results from previous runs\n",
    "if FLAG_MANAGE_OUTPUT_SPECTRACTOR:\n",
    "    \n",
    "    # manage global output directory of spectractor\n",
    "    # Basically it has the name of the input file image\n",
    "    \n",
    "    if not os.path.isdir(path_toptoptopoutput_spectractor):\n",
    "        os.mkdir(path_toptoptopoutput_spectractor)\n",
    "    \n",
    "    if not os.path.isdir(path_toptopoutput_spectractor):\n",
    "        os.mkdir(path_toptopoutput_spectractor) \n",
    "        \n",
    "    if configdir !=\"\":\n",
    "    # top directory    \n",
    "        if not os.path.isdir(path_topoutput_spectractor):\n",
    "            os.mkdir(path_topoutput_spectractor)   \n",
    "            \n",
    "            \n",
    "        if not os.path.isdir(path_output_spectractor):\n",
    "            os.mkdir(path_output_spectractor)\n",
    "\n",
    "    \n",
    "\n",
    "    \n",
    "    if not os.path.isdir(finalpath_output_spectractor):\n",
    "        os.mkdir(finalpath_output_spectractor)\n",
    "        os.mkdir(os.path.join(finalpath_output_spectractor,\"basespec\"))\n",
    "        os.mkdir(os.path.join(finalpath_output_spectractor,\"plots\"))\n",
    "    else:\n",
    "        cleandir(os.path.join(finalpath_output_spectractor,\"basespec\"))\n",
    "        cleandir(os.path.join(finalpath_output_spectractor,\"plots\"))"
   ]
  },
  {
   "cell_type": "code",
   "execution_count": null,
   "metadata": {},
   "outputs": [],
   "source": [
    "print(\"******************************** SUCCESS ********************************************\")"
   ]
  },
  {
   "cell_type": "code",
   "execution_count": null,
   "metadata": {},
   "outputs": [],
   "source": [
    "copy_tree(output_directory,os.path.join(finalpath_output_spectractor,\"basespec\"))"
   ]
  },
  {
   "cell_type": "code",
   "execution_count": null,
   "metadata": {},
   "outputs": [],
   "source": [
    "copy_tree(output_figures,os.path.join(finalpath_output_spectractor,\"plots\"))"
   ]
  },
  {
   "cell_type": "code",
   "execution_count": null,
   "metadata": {},
   "outputs": [],
   "source": [
    "print(\"finalpath_output_spectractor = \",finalpath_output_spectractor)"
   ]
  },
  {
   "cell_type": "code",
   "execution_count": null,
   "metadata": {},
   "outputs": [],
   "source": [
    "os.listdir(os.path.join(finalpath_output_spectractor,\"basespec\"))"
   ]
  },
  {
   "cell_type": "code",
   "execution_count": null,
   "metadata": {},
   "outputs": [],
   "source": [
    "os.listdir(os.path.join(finalpath_output_spectractor,\"plots\"))"
   ]
  },
  {
   "cell_type": "code",
   "execution_count": null,
   "metadata": {},
   "outputs": [],
   "source": []
  }
 ],
 "metadata": {
  "kernelspec": {
   "display_name": "anaconda3_auxtel",
   "language": "python",
   "name": "anaconda3_auxtel"
  },
  "language_info": {
   "codemirror_mode": {
    "name": "ipython",
    "version": 3
   },
   "file_extension": ".py",
   "mimetype": "text/x-python",
   "name": "python",
   "nbconvert_exporter": "python",
   "pygments_lexer": "ipython3",
   "version": "3.8.5"
  },
  "toc": {
   "base_numbering": 1,
   "nav_menu": {},
   "number_sections": true,
   "sideBar": true,
   "skip_h1_title": false,
   "title_cell": "Table of Contents",
   "title_sidebar": "Contents",
   "toc_cell": false,
   "toc_position": {},
   "toc_section_display": true,
   "toc_window_display": false
  }
 },
 "nbformat": 4,
 "nbformat_minor": 4
}
