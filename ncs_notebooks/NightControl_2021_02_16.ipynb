{
 "cells": [
  {
   "cell_type": "markdown",
   "metadata": {},
   "source": [
    "# Observations for the night February 16th 2021\n",
    "\n",
    "https://harvard.zoom.us/rec/play/N7umVF8Rk3vWvW_O3jkaTinofB2WxW3QKz0fVai_K-qvAYLt37uMrvskOlnBiMEjduSeQVzWT7_DDYzc.IY7Pqjef82YlWmZE?continueMode=true&_x_zm_rtaid=BjQYrDaETYeYRUMw8NQgLw.1613559822570.c813d210d38e378b719cb4048493df5b&_x_zm_rhtaid=205\n",
    "\n",
    "\n",
    "- work with wl_2021_02\n",
    "- use jupyter kernel LSST\n",
    "- requires the installation https://github.com/mfisherlevine/summit\n",
    "- requires to write in file {HOME}/notebooks/.user_setups\n"
   ]
  },
  {
   "cell_type": "code",
   "execution_count": 13,
   "metadata": {},
   "outputs": [],
   "source": [
    "#!/bin/sh\n",
    "# This file is expected to be found in ${HOME}/notebooks/.user_setups\n",
    "#  It is a shell fragment that will be sourced during kernel startup\n",
    "#  when the LSST kernel is started in a JupyterLab environment.  It runs\n",
    "#  in the user context and can contain arbitrary shell code.  Exported changes\n",
    "#  in its environment will persist into the JupyterLab Python environment.\n",
    "\n",
    "#    setup -j rapid_analysis -r ${HOME}/repos/rapid_analysis\n",
    "#    setup -j atmospec       -r ${HOME}/repos/atmospec"
   ]
  },
  {
   "cell_type": "code",
   "execution_count": 14,
   "metadata": {},
   "outputs": [],
   "source": [
    "# correct for bug in stack in wl_2021_02\n",
    "%config IPCompleter.use_jedi=False"
   ]
  },
  {
   "cell_type": "markdown",
   "metadata": {},
   "source": [
    "# Import"
   ]
  },
  {
   "cell_type": "code",
   "execution_count": 15,
   "metadata": {},
   "outputs": [],
   "source": [
    "import os\n",
    "import matplotlib.pyplot as plt\n",
    "import numpy as np\n",
    "%matplotlib inline"
   ]
  },
  {
   "cell_type": "code",
   "execution_count": 16,
   "metadata": {},
   "outputs": [],
   "source": [
    "import lsst.daf.persistence as dafPersist\n",
    "import lsst.afw.display as afwDisplay\n",
    "afwDisplay.setDefaultBackend(\"lsst.display.firefly\")"
   ]
  },
  {
   "cell_type": "code",
   "execution_count": 17,
   "metadata": {},
   "outputs": [
    {
     "name": "stdout",
     "output_type": "stream",
     "text": [
      "afw                   21.0.0-18-g1421380c6+e734d31160 \tcurrent w_2021_08 setup\n",
      "alert_packet          master-g9c6f3ccb69 \tcurrent w_2021_08 setup\n",
      "ap_association        21.0.0-5-gbbacd0a+32cbda852b \tcurrent w_2021_08 setup\n",
      "ap_pipe               21.0.0-10-gf688641+dba4756f10 \tcurrent w_2021_08 setup\n",
      "ap_verify             21.0.0-9-g2057c73+054d3a3d7a \tcurrent w_2021_08 setup\n",
      "astro_metadata_translator 0.1.0-21-g05ce667+7c60f8a6ea \tcurrent w_2021_08 setup\n",
      "astshim               21.0.0-2-g45278ab+e70536a077 \tcurrent w_2021_08 setup\n",
      "atmospec              LOCAL:/home/dagoret/repos/atmospec \tsetup\n",
      "base                  21.0.0-6-g2d4f3f3+e70536a077 \tcurrent w_2021_08 setup\n",
      "cbp                   21.0.0-2-g143869c+80f14b7f4b \tcurrent w_2021_08 setup\n",
      "coadd_utils           21.0.0-2-g7f82c8f+9f32c9c056 \tcurrent w_2021_08 setup\n",
      "cp_pipe               21.0.0-10-gcf60f90+5850361f4f \tcurrent w_2021_08 setup\n",
      "ctrl_bps              21.0.0-7-g4087a9f+b1494cf4da \tcurrent w_2021_08 setup\n",
      "ctrl_execute          21.0.0-2-g3d7e797+b503960113 \tcurrent w_2021_08 setup\n",
      "ctrl_mpexec           21.0.0-19-g7b3fc0b+252ba057c7 \tcurrent w_2021_08 setup\n",
      "ctrl_orca             21.0.0-2-gfca2c14+e437ae268e \tcurrent w_2021_08 setup\n",
      "ctrl_platform_lsstvc  21.0.0-2-g181865c+14a5a7c480 \tcurrent w_2021_08 setup\n",
      "ctrl_pool             21.0.0-2-ga326454+9f32c9c056 \tcurrent w_2021_08 setup\n",
      "daf_base              21.0.0+c4f5df5339 \tcurrent w_2021_08 setup\n",
      "daf_butler            21.0.0-44-ga40c7d70+9c9a9cfcc8 \tcurrent w_2021_08 setup\n",
      "daf_persistence       21.0.0-6-gf32990f+87b8d260e6 \tcurrent w_2021_08 setup\n",
      "dax_apdb              21.0.0-2-g5242d73+80f14b7f4b \tcurrent w_2021_08 setup\n",
      "display_ds9           21.0.0-2-g1367e85+80f14b7f4b \tcurrent w_2021_08 setup\n",
      "display_firefly       21.0.0-4-g88306b8+4dc4851374 \tcurrent w_2021_08 setup\n",
      "display_matplotlib    21.0.0-2-gfc62afb+80f14b7f4b \tcurrent w_2021_08 setup\n",
      "eigen                 3.3.7.lsst2-1-g398bedf \tcurrent w_2021_08 setup\n",
      "eups                  LOCAL:/opt/lsst/software/stack/conda/miniconda3-py38_4.9.2/envs/lsst-scipipe-0.4.1/eups \tsetup\n",
      "fgcm                  lsst-dev-geab6a24725 \tcurrent w_2021_08 setup\n",
      "fgcmcal               21.0.0-6-g5ef7dad+3bf946cd40 \tcurrent w_2021_08 setup\n",
      "firefly_client        lsst-dev-g508dc7262a \tcurrent w_2021_08 setup\n",
      "geom                  21.0.0-2-g8f08a60+9c9a9cfcc8 \tcurrent w_2021_08 setup\n",
      "ip_diffim             21.0.0-9-g9eb8d17+19b8fae7db \tcurrent w_2021_08 setup\n",
      "ip_isr                21.0.0-6-g4e60332+760f7344ed \tcurrent w_2021_08 setup\n",
      "jointcal              21.0.0-7-gc8ca178+92dc76268e \tcurrent w_2021_08 setup\n",
      "jointcal_cholmod      master-gaea3fc0611+e70536a077 \tcurrent w_2021_08 setup\n",
      "kht                   lsst-dev-g14ffe67dc2+fe93bf5141 \tcurrent w_2021_08 setup\n",
      "log                   21.0.0-3-g7d9da8d+c4f5df5339 \tcurrent w_2021_08 setup\n",
      "lsst_apps             21.0.0-2-gd79de06+0b3ffd3df5 \tcurrent w_2021_08 setup\n",
      "lsst_distrib          21.0.0-1-g00ce914+38311a9037 \tcurrent w_2021_08 setup\n",
      "lsst_obs              21.0.0-2-g1d50a98+d3986ae7d2 \tcurrent w_2021_08 setup\n",
      "meas_algorithms       21.0.0-13-gc485e61d+09187b8a69 \tcurrent w_2021_08 setup\n",
      "meas_astrom           21.0.0-4-g591bb35+760f7344ed \tcurrent w_2021_08 setup\n",
      "meas_base             21.0.0-4-gc004bbf+83b91afcce \tcurrent w_2021_08 setup\n",
      "meas_deblender        21.0.0-3-g65f322c+fee20876b8 \tcurrent w_2021_08 setup\n",
      "meas_extensions_convolved 21.0.0-2-g7713827+2bb0ada9e6 \tcurrent w_2021_08 setup\n",
      "meas_extensions_photometryKron 21.0.0-3-ge02ed75+760f7344ed \tcurrent w_2021_08 setup\n",
      "meas_extensions_piff  master-gac4afde19b+760f7344ed \tcurrent w_2021_08 setup\n",
      "meas_extensions_psfex 21.0.0-3-g357aad2+afecf82514 \tcurrent w_2021_08 setup\n",
      "meas_extensions_scarlet 21.0.0-7-ge2a7b4a+db3b4e2626 \tcurrent w_2021_08 setup\n",
      "meas_extensions_shapeHSM 21.0.0-2-gf484ad7+760f7344ed \tcurrent w_2021_08 setup\n",
      "meas_extensions_simpleShape 21.0.0-2-g103fe59+261530ce9f \tcurrent w_2021_08 setup\n",
      "meas_modelfit         21.0.0-2-gecfae73+4cf19cf4bf \tcurrent w_2021_08 setup\n",
      "obs_base              21.0.0-31-g1236201+7acd6d9f81 \tcurrent w_2021_08 setup\n",
      "obs_cfht              21.0.0-5-g01a0bf7+d5ce5b2f27 \tcurrent w_2021_08 setup\n",
      "obs_decam             21.0.0-5-g7ebb681+ef31ec5dd4 \tcurrent w_2021_08 setup\n",
      "obs_decam_data        21.0.0-1-g1fa5c9e \tcurrent w_2021_08 setup\n",
      "obs_lsst              21.0.0-14-gd6c32a3+ca5ab316ea \tcurrent w_2021_08 setup\n",
      "obs_lsst_data         21.0.0-1-g7ccd743 \tcurrent w_2021_08 setup\n",
      "obs_subaru            21.0.0-17-g6bcd7e62+8ba9874f8b \tcurrent w_2021_08 setup\n",
      "obs_subaru_data       21.0.0-1-g2f68bc2 \tcurrent w_2021_08 setup\n",
      "obs_test              21.0.0-3-g21c7a62+9ac3eff2e3 \tcurrent w_2021_08 setup\n",
      "obs_test_data         21.0.0-1-g86cffb0 \tcurrent w_2021_08 setup\n",
      "pex_config            21.0.0-1-ga51b5d4+7c60f8a6ea \tcurrent w_2021_08 setup\n",
      "pex_exceptions        21.0.0-2-gde069b7+bedfc5e1fb \tcurrent w_2021_08 setup\n",
      "pipe_base             21.0.0-10-g560fb7b+5f2ca89aed \tcurrent w_2021_08 setup\n",
      "pipe_drivers          21.0.0-4-g3af6bfd+64d2251902 \tcurrent w_2021_08 setup\n",
      "pipe_tasks            21.0.0-38-g070523fc+2384b0eea2 \tcurrent w_2021_08 setup\n",
      "proxmin               lsst-dev-g79c0498783 \tcurrent w_2021_08 setup\n",
      "psfex                 21.0.0-2-g03166ea+e70536a077 \tcurrent w_2021_08 setup\n",
      "rapid_analysis        LOCAL:/home/dagoret/repos/rapid_analysis \tsetup\n",
      "scarlet               lsst-dev-g965bb5fbbf+f31336177f \tcurrent w_2021_08 setup\n",
      "scarlet_extensions    21.0.0+5de2e29f4b \tcurrent w_2021_08 setup\n",
      "sconsUtils            21.0.0-3-gb1e2629 \tcurrent w_2021_08 setup\n",
      "sdm_schemas           21.0.0-1-ge52cb69+e70536a077 \tcurrent w_2021_08 setup\n",
      "shapelet              21.0.0-3-g4be5c26+80f14b7f4b \tcurrent w_2021_08 setup\n",
      "skymap                21.0.0-3-gaa929c8+5f2ca89aed \tcurrent w_2021_08 setup\n",
      "sphgeom               21.0.0+e70536a077 \tcurrent w_2021_08 setup\n",
      "utils                 21.0.0-4-gccdca77+a5c54364a0 \tcurrent w_2021_08 setup\n",
      "validate_drp          21.0.0-3-g107f81d+614e787cb5 \tcurrent w_2021_08 setup\n",
      "verify                21.0.0-4-g427c833+4bce4401c6 \tcurrent w_2021_08 setup\n",
      "verify_metrics        21.0.0-2-gfc76737+e70536a077 \tcurrent w_2021_08 setup\n"
     ]
    }
   ],
   "source": [
    "! eups list -s"
   ]
  },
  {
   "cell_type": "markdown",
   "metadata": {},
   "source": [
    "# Butler"
   ]
  },
  {
   "cell_type": "code",
   "execution_count": 18,
   "metadata": {},
   "outputs": [
    {
     "name": "stderr",
     "output_type": "stream",
     "text": [
      "/opt/lsst/software/stack/stack/miniconda3-py38_4.9.2-0.4.1/Linux64/obs_lsst/21.0.0-14-gd6c32a3+ca5ab316ea/python/lsst/obs/lsst/lsstCamMapper.py:157: FutureWarning: Replaced by FilterLabel. Will be removed after v22.\n",
      "  for n in afwImage.Filter.getNames():\n",
      "/opt/lsst/software/stack/stack/miniconda3-py38_4.9.2-0.4.1/Linux64/obs_lsst/21.0.0-14-gd6c32a3+ca5ab316ea/python/lsst/obs/lsst/lsstCamMapper.py:157: FutureWarning: Replaced by FilterLabel. Will be removed after v22.\n",
      "  for n in afwImage.Filter.getNames():\n"
     ]
    }
   ],
   "source": [
    "butler=dafPersist.Butler(\"/project/shared/auxTel\")"
   ]
  },
  {
   "cell_type": "code",
   "execution_count": 19,
   "metadata": {},
   "outputs": [],
   "source": [
    "dayObs=\"2021-02-16\""
   ]
  },
  {
   "cell_type": "code",
   "execution_count": 20,
   "metadata": {},
   "outputs": [],
   "source": [
    "seqNum=209"
   ]
  },
  {
   "cell_type": "markdown",
   "metadata": {},
   "source": [
    "# Display"
   ]
  },
  {
   "cell_type": "code",
   "execution_count": 21,
   "metadata": {},
   "outputs": [],
   "source": [
    "display1=afwDisplay.getDisplay(frame=1,port=80,name='sylviedc_debug1_2021_02_16',url=os.environ[\"FIREFLY_URL\"])"
   ]
  },
  {
   "cell_type": "code",
   "execution_count": 22,
   "metadata": {},
   "outputs": [],
   "source": [
    "raw=butler.get('raw',dayObs=dayObs,seqNum=seqNum)"
   ]
  },
  {
   "cell_type": "code",
   "execution_count": 23,
   "metadata": {},
   "outputs": [],
   "source": [
    "display1.mtv(raw)"
   ]
  },
  {
   "cell_type": "code",
   "execution_count": 24,
   "metadata": {},
   "outputs": [
    {
     "data": {
      "text/html": [
       "Open your web browser to <a href=\"https://lsst-lsp-stable.ncsa.illinois.edu/portal/app/slate.html?__wsch=sylviedc_debug1_2021_02_16\"\" target=\"_blank\">this link</a>"
      ],
      "text/plain": [
       "<IPython.core.display.HTML object>"
      ]
     },
     "metadata": {},
     "output_type": "display_data"
    }
   ],
   "source": [
    "display1.getClient().display_url()"
   ]
  },
  {
   "cell_type": "markdown",
   "metadata": {},
   "source": [
    "# Meta Query to the Butler"
   ]
  },
  {
   "cell_type": "code",
   "execution_count": 25,
   "metadata": {},
   "outputs": [
    {
     "name": "stdout",
     "output_type": "stream",
     "text": [
      "[1, 2, 3, 5, 4, 6, 8, 7, 9, 10, 11, 12, 14, 13, 15, 16, 17, 18, 19, 20, 21, 22, 24, 23, 25, 26, 27, 28, 29, 30, 31, 32, 34, 33, 35, 37, 36, 38, 39, 40, 41, 42, 43, 45, 44, 46, 48, 47, 49, 51, 50, 52, 53, 54, 55, 56, 57, 58, 59, 60, 61, 62, 63, 64, 65, 66, 67, 68, 69, 70, 71, 72, 73, 74, 75, 76, 78, 77, 79, 80, 81, 82, 83, 84, 85, 86, 87, 89, 88, 90, 91, 92, 93, 94, 95, 96, 97, 98, 99, 100, 101, 102, 106, 104, 105, 103, 108, 110, 111, 107, 109, 115, 117, 112, 116, 114, 113, 124, 120, 119, 122, 125, 118, 123, 121, 129, 126, 131, 127, 130, 128, 135, 132, 137, 133, 134, 136, 142, 141, 139, 143, 140, 144, 138, 148, 145, 147, 146, 149, 151, 150, 152, 153, 154, 155, 156, 157, 158, 159, 160, 161, 162, 163, 164, 165, 166, 167, 168, 169, 170, 171, 172, 173, 174, 175, 176, 177, 178, 179, 180, 181, 182, 183, 184, 185, 186, 187, 188, 189, 190, 191, 192, 193, 194, 195, 196, 197, 198, 199, 200, 201, 202, 203, 204, 205, 206, 207, 208, 209, 210, 211, 212, 213, 214, 215, 216, 217, 218, 219, 220, 221, 222, 223, 224, 225, 226, 227, 228, 229, 230, 231, 232, 233, 234, 235, 236, 237, 238, 239, 240, 241, 242, 243, 244, 245, 246, 247, 248, 249, 250, 251, 252, 253, 254, 255, 256, 257, 258, 259, 260, 261, 262, 263, 264, 266, 265, 267, 268, 269, 270, 271, 272, 273, 274, 275, 276, 277, 278, 279, 280, 281, 282, 283, 284, 285, 286, 287, 288, 289, 290, 291, 292, 293, 294, 295, 296, 297, 298, 299, 300, 301, 302, 303, 304, 305, 306, 307, 308, 309, 310, 311, 312, 313, 314, 315, 316, 317, 318, 319, 320, 321, 322, 323, 324, 325, 326, 327, 328, 329, 330, 331, 332, 333, 334, 335, 336, 337, 338, 339, 340, 341, 342]\n"
     ]
    }
   ],
   "source": [
    "print(butler.queryMetadata('raw','seqNum',dayObs=dayObs))"
   ]
  },
  {
   "cell_type": "code",
   "execution_count": 26,
   "metadata": {},
   "outputs": [],
   "source": [
    "seqNums=butler.queryMetadata('raw','seqNum',dayObs=dayObs)"
   ]
  },
  {
   "cell_type": "code",
   "execution_count": 27,
   "metadata": {},
   "outputs": [],
   "source": [
    "%config IPCompleter.use_jedi=False"
   ]
  },
  {
   "cell_type": "markdown",
   "metadata": {},
   "source": [
    "# Information"
   ]
  },
  {
   "cell_type": "code",
   "execution_count": 28,
   "metadata": {},
   "outputs": [],
   "source": [
    "info=raw.getInfo()"
   ]
  },
  {
   "cell_type": "markdown",
   "metadata": {},
   "source": [
    "### The detector"
   ]
  },
  {
   "cell_type": "code",
   "execution_count": 29,
   "metadata": {},
   "outputs": [],
   "source": [
    "detector=info.getDetector()"
   ]
  },
  {
   "cell_type": "code",
   "execution_count": 30,
   "metadata": {},
   "outputs": [
    {
     "name": "stdout",
     "output_type": "stream",
     "text": [
      "C10\n",
      "C11\n",
      "C12\n",
      "C13\n",
      "C14\n",
      "C15\n",
      "C16\n",
      "C17\n",
      "C07\n",
      "C06\n",
      "C05\n",
      "C04\n",
      "C03\n",
      "C02\n",
      "C01\n",
      "C00\n"
     ]
    }
   ],
   "source": [
    "for amp in detector.getAmplifiers():\n",
    "    print(amp.getName())"
   ]
  },
  {
   "cell_type": "code",
   "execution_count": 31,
   "metadata": {},
   "outputs": [],
   "source": [
    "%config IPCompleter.use_jedi=False"
   ]
  },
  {
   "cell_type": "markdown",
   "metadata": {},
   "source": [
    "### The visits"
   ]
  },
  {
   "cell_type": "code",
   "execution_count": 32,
   "metadata": {},
   "outputs": [],
   "source": [
    "vi=info.getVisitInfo()"
   ]
  },
  {
   "cell_type": "code",
   "execution_count": 33,
   "metadata": {},
   "outputs": [
    {
     "data": {
      "text/plain": [
       "90.0"
      ]
     },
     "execution_count": 33,
     "metadata": {},
     "output_type": "execute_result"
    }
   ],
   "source": [
    "vi.getExposureTime()"
   ]
  },
  {
   "cell_type": "code",
   "execution_count": 34,
   "metadata": {},
   "outputs": [
    {
     "data": {
      "text/plain": [
       "1.93068 rad"
      ]
     },
     "execution_count": 34,
     "metadata": {},
     "output_type": "execute_result"
    }
   ],
   "source": [
    "vi.getBoresightParAngle()"
   ]
  },
  {
   "cell_type": "code",
   "execution_count": 35,
   "metadata": {},
   "outputs": [
    {
     "data": {
      "text/plain": [
       "0 rad"
      ]
     },
     "execution_count": 35,
     "metadata": {},
     "output_type": "execute_result"
    }
   ],
   "source": [
    "vi.getBoresightRotAngle()"
   ]
  },
  {
   "cell_type": "code",
   "execution_count": 36,
   "metadata": {},
   "outputs": [
    {
     "data": {
      "text/plain": [
       "Weather(nan, nan, nan)"
      ]
     },
     "execution_count": 36,
     "metadata": {},
     "output_type": "execute_result"
    }
   ],
   "source": [
    "vi.getWeather()"
   ]
  },
  {
   "cell_type": "code",
   "execution_count": 37,
   "metadata": {},
   "outputs": [],
   "source": [
    "#!ls /home/dagoret/repos/rapid_analysis/python"
   ]
  },
  {
   "cell_type": "code",
   "execution_count": 38,
   "metadata": {},
   "outputs": [],
   "source": [
    "#import sys\n",
    "#sys.path.append(\"/home/dagoret/repos/rapid_analysis\") # go to parent dir"
   ]
  },
  {
   "cell_type": "markdown",
   "metadata": {},
   "source": [
    "# Rapid Analysis\n",
    "\n",
    "Installed from https://github.com/mfisherlevine/summit"
   ]
  },
  {
   "cell_type": "code",
   "execution_count": 39,
   "metadata": {},
   "outputs": [
    {
     "ename": "ModuleNotFoundError",
     "evalue": "No module named 'spectractor'",
     "output_type": "error",
     "traceback": [
      "\u001b[0;31m---------------------------------------------------------------------------\u001b[0m",
      "\u001b[0;31mModuleNotFoundError\u001b[0m                       Traceback (most recent call last)",
      "\u001b[0;32m<ipython-input-39-af1ca3bd68a0>\u001b[0m in \u001b[0;36m<module>\u001b[0;34m\u001b[0m\n\u001b[0;32m----> 1\u001b[0;31m \u001b[0;32mfrom\u001b[0m \u001b[0mlsst\u001b[0m\u001b[0;34m.\u001b[0m\u001b[0mrapid\u001b[0m\u001b[0;34m.\u001b[0m\u001b[0manalysis\u001b[0m\u001b[0;34m.\u001b[0m\u001b[0mnightReport\u001b[0m \u001b[0;32mimport\u001b[0m \u001b[0mNightReporter\u001b[0m\u001b[0;34m\u001b[0m\u001b[0;34m\u001b[0m\u001b[0m\n\u001b[0m\u001b[1;32m      2\u001b[0m \u001b[0mrepoDir\u001b[0m\u001b[0;34m=\u001b[0m\u001b[0;34m'/project/shared/auxTel'\u001b[0m\u001b[0;34m\u001b[0m\u001b[0;34m\u001b[0m\u001b[0m\n\u001b[1;32m      3\u001b[0m \u001b[0mreporter\u001b[0m\u001b[0;34m=\u001b[0m\u001b[0mNightReporter\u001b[0m\u001b[0;34m(\u001b[0m\u001b[0mrepoDir\u001b[0m\u001b[0;34m,\u001b[0m\u001b[0;34m\"2021-02-16\"\u001b[0m\u001b[0;34m)\u001b[0m\u001b[0;34m\u001b[0m\u001b[0;34m\u001b[0m\u001b[0m\n",
      "\u001b[0;32m~/repos/rapid_analysis/python/lsst/rapid/analysis/__init__.py\u001b[0m in \u001b[0;36m<module>\u001b[0;34m\u001b[0m\n\u001b[1;32m     26\u001b[0m \u001b[0;32mfrom\u001b[0m \u001b[0;34m.\u001b[0m\u001b[0mbestEffort\u001b[0m \u001b[0;32mimport\u001b[0m \u001b[0;34m*\u001b[0m\u001b[0;34m\u001b[0m\u001b[0;34m\u001b[0m\u001b[0m\n\u001b[1;32m     27\u001b[0m \u001b[0;32mfrom\u001b[0m \u001b[0;34m.\u001b[0m\u001b[0mmonitoring\u001b[0m \u001b[0;32mimport\u001b[0m \u001b[0;34m*\u001b[0m\u001b[0;34m\u001b[0m\u001b[0;34m\u001b[0m\u001b[0m\n\u001b[0;32m---> 28\u001b[0;31m \u001b[0;32mfrom\u001b[0m \u001b[0;34m.\u001b[0m\u001b[0manimation\u001b[0m \u001b[0;32mimport\u001b[0m \u001b[0;34m*\u001b[0m\u001b[0;34m\u001b[0m\u001b[0;34m\u001b[0m\u001b[0m\n\u001b[0m\u001b[1;32m     29\u001b[0m \u001b[0;32mfrom\u001b[0m \u001b[0;34m.\u001b[0m\u001b[0mimageSorter\u001b[0m \u001b[0;32mimport\u001b[0m \u001b[0;34m*\u001b[0m\u001b[0;34m\u001b[0m\u001b[0;34m\u001b[0m\u001b[0m\n\u001b[1;32m     30\u001b[0m \u001b[0;32mfrom\u001b[0m \u001b[0;34m.\u001b[0m\u001b[0mnightReport\u001b[0m \u001b[0;32mimport\u001b[0m \u001b[0;34m*\u001b[0m\u001b[0;34m\u001b[0m\u001b[0;34m\u001b[0m\u001b[0m\n",
      "\u001b[0;32m~/repos/rapid_analysis/python/lsst/rapid/analysis/animation.py\u001b[0m in \u001b[0;36m<module>\u001b[0;34m\u001b[0m\n\u001b[1;32m      7\u001b[0m \u001b[0;32mimport\u001b[0m \u001b[0mmatplotlib\u001b[0m\u001b[0;34m.\u001b[0m\u001b[0mpyplot\u001b[0m \u001b[0;32mas\u001b[0m \u001b[0mplt\u001b[0m\u001b[0;34m\u001b[0m\u001b[0;34m\u001b[0m\u001b[0m\n\u001b[1;32m      8\u001b[0m \u001b[0;34m\u001b[0m\u001b[0m\n\u001b[0;32m----> 9\u001b[0;31m \u001b[0;32mfrom\u001b[0m \u001b[0mlsst\u001b[0m\u001b[0;34m.\u001b[0m\u001b[0matmospec\u001b[0m\u001b[0;34m.\u001b[0m\u001b[0mprocessStar\u001b[0m \u001b[0;32mimport\u001b[0m \u001b[0mgetTargetCentroidFromWcs\u001b[0m\u001b[0;34m\u001b[0m\u001b[0;34m\u001b[0m\u001b[0m\n\u001b[0m\u001b[1;32m     10\u001b[0m \u001b[0;32mimport\u001b[0m \u001b[0mlsst\u001b[0m\u001b[0;34m.\u001b[0m\u001b[0mafw\u001b[0m\u001b[0;34m.\u001b[0m\u001b[0mdisplay\u001b[0m \u001b[0;32mas\u001b[0m \u001b[0mafwDisplay\u001b[0m\u001b[0;34m\u001b[0m\u001b[0;34m\u001b[0m\u001b[0m\n\u001b[1;32m     11\u001b[0m \u001b[0;32mimport\u001b[0m \u001b[0mlsst\u001b[0m\u001b[0;34m.\u001b[0m\u001b[0mafw\u001b[0m\u001b[0;34m.\u001b[0m\u001b[0mmath\u001b[0m \u001b[0;32mas\u001b[0m \u001b[0mafwMath\u001b[0m\u001b[0;34m\u001b[0m\u001b[0;34m\u001b[0m\u001b[0m\n",
      "\u001b[0;32m~/repos/atmospec/python/lsst/atmospec/__init__.py\u001b[0m in \u001b[0;36m<module>\u001b[0;34m\u001b[0m\n\u001b[1;32m     22\u001b[0m \u001b[0;32mimport\u001b[0m \u001b[0mpkgutil\u001b[0m\u001b[0;34m\u001b[0m\u001b[0;34m\u001b[0m\u001b[0m\n\u001b[1;32m     23\u001b[0m \u001b[0;32mimport\u001b[0m \u001b[0mlsstimport\u001b[0m\u001b[0;34m\u001b[0m\u001b[0;34m\u001b[0m\u001b[0m\n\u001b[0;32m---> 24\u001b[0;31m \u001b[0;32mfrom\u001b[0m \u001b[0;34m.\u001b[0m\u001b[0mprocessStar\u001b[0m \u001b[0;32mimport\u001b[0m \u001b[0;34m*\u001b[0m\u001b[0;34m\u001b[0m\u001b[0;34m\u001b[0m\u001b[0m\n\u001b[0m\u001b[1;32m     25\u001b[0m \u001b[0;32mfrom\u001b[0m \u001b[0;34m.\u001b[0m\u001b[0mdispersion\u001b[0m \u001b[0;32mimport\u001b[0m \u001b[0;34m*\u001b[0m\u001b[0;34m\u001b[0m\u001b[0;34m\u001b[0m\u001b[0m\n\u001b[1;32m     26\u001b[0m \u001b[0;32mfrom\u001b[0m \u001b[0;34m.\u001b[0m\u001b[0mutils\u001b[0m \u001b[0;32mimport\u001b[0m \u001b[0;34m*\u001b[0m\u001b[0;34m\u001b[0m\u001b[0;34m\u001b[0m\u001b[0m\n",
      "\u001b[0;32m~/repos/atmospec/python/lsst/atmospec/processStar.py\u001b[0m in \u001b[0;36m<module>\u001b[0;34m\u001b[0m\n\u001b[1;32m     52\u001b[0m \u001b[0;32mimport\u001b[0m \u001b[0mlsst\u001b[0m\u001b[0;34m.\u001b[0m\u001b[0mafw\u001b[0m\u001b[0;34m.\u001b[0m\u001b[0mgeom\u001b[0m \u001b[0;32mas\u001b[0m \u001b[0mafwGeom\u001b[0m\u001b[0;34m\u001b[0m\u001b[0;34m\u001b[0m\u001b[0m\n\u001b[1;32m     53\u001b[0m \u001b[0;34m\u001b[0m\u001b[0m\n\u001b[0;32m---> 54\u001b[0;31m \u001b[0;32mfrom\u001b[0m \u001b[0;34m.\u001b[0m\u001b[0mspectraction\u001b[0m \u001b[0;32mimport\u001b[0m \u001b[0mSpectractorShim\u001b[0m\u001b[0;34m\u001b[0m\u001b[0;34m\u001b[0m\u001b[0m\n\u001b[0m\u001b[1;32m     55\u001b[0m \u001b[0;34m\u001b[0m\u001b[0m\n\u001b[1;32m     56\u001b[0m \u001b[0mCOMMISSIONING\u001b[0m \u001b[0;34m=\u001b[0m \u001b[0;32mFalse\u001b[0m  \u001b[0;31m# allows illegal things for on the mountain usage.\u001b[0m\u001b[0;34m\u001b[0m\u001b[0;34m\u001b[0m\u001b[0m\n",
      "\u001b[0;32m~/repos/atmospec/python/lsst/atmospec/spectraction.py\u001b[0m in \u001b[0;36m<module>\u001b[0;34m\u001b[0m\n\u001b[1;32m     25\u001b[0m \u001b[0;32mimport\u001b[0m \u001b[0mnumpy\u001b[0m \u001b[0;32mas\u001b[0m \u001b[0mnp\u001b[0m\u001b[0;34m\u001b[0m\u001b[0;34m\u001b[0m\u001b[0m\n\u001b[1;32m     26\u001b[0m \u001b[0;34m\u001b[0m\u001b[0m\n\u001b[0;32m---> 27\u001b[0;31m \u001b[0;32mfrom\u001b[0m \u001b[0mspectractor\u001b[0m \u001b[0;32mimport\u001b[0m \u001b[0mparameters\u001b[0m\u001b[0;34m\u001b[0m\u001b[0;34m\u001b[0m\u001b[0m\n\u001b[0m\u001b[1;32m     28\u001b[0m \u001b[0;32mfrom\u001b[0m \u001b[0mspectractor\u001b[0m\u001b[0;34m.\u001b[0m\u001b[0mconfig\u001b[0m \u001b[0;32mimport\u001b[0m \u001b[0mload_config\u001b[0m\u001b[0;34m\u001b[0m\u001b[0;34m\u001b[0m\u001b[0m\n\u001b[1;32m     29\u001b[0m \u001b[0;32mfrom\u001b[0m \u001b[0mspectractor\u001b[0m\u001b[0;34m.\u001b[0m\u001b[0mextractor\u001b[0m\u001b[0;34m.\u001b[0m\u001b[0mimages\u001b[0m \u001b[0;32mimport\u001b[0m \u001b[0mImage\u001b[0m\u001b[0;34m,\u001b[0m \u001b[0mfind_target\u001b[0m\u001b[0;34m,\u001b[0m \u001b[0mturn_image\u001b[0m\u001b[0;34m\u001b[0m\u001b[0;34m\u001b[0m\u001b[0m\n",
      "\u001b[0;31mModuleNotFoundError\u001b[0m: No module named 'spectractor'"
     ]
    }
   ],
   "source": [
    "from lsst.rapid.analysis.nightReport import NightReporter\n",
    "repoDir='/project/shared/auxTel'\n",
    "reporter=NightReporter(repoDir,\"2021-02-16\")"
   ]
  },
  {
   "cell_type": "markdown",
   "metadata": {},
   "source": [
    "## Query the reporter"
   ]
  },
  {
   "cell_type": "code",
   "execution_count": null,
   "metadata": {},
   "outputs": [],
   "source": [
    "reporter.getObservedObjects()"
   ]
  },
  {
   "cell_type": "markdown",
   "metadata": {},
   "source": [
    "## The logbook"
   ]
  },
  {
   "cell_type": "code",
   "execution_count": null,
   "metadata": {},
   "outputs": [],
   "source": [
    "reporter.printObsTable(tailNumber=50)"
   ]
  },
  {
   "cell_type": "code",
   "execution_count": null,
   "metadata": {},
   "outputs": [],
   "source": [
    "reporter.printObsTable()"
   ]
  },
  {
   "cell_type": "markdown",
   "metadata": {},
   "source": [
    "## Butler Query meta data"
   ]
  },
  {
   "cell_type": "code",
   "execution_count": null,
   "metadata": {},
   "outputs": [],
   "source": [
    "ids=butler.queryMetadata('raw',[\"dayObs\", \"seqNum\"],object=\"HD 50896\")"
   ]
  },
  {
   "cell_type": "code",
   "execution_count": null,
   "metadata": {},
   "outputs": [],
   "source": [
    "count=0\n",
    "for dataid in ids:\n",
    "    print(dataid)\n",
    "    count+=1\n",
    "    if count>10:\n",
    "        break"
   ]
  },
  {
   "cell_type": "markdown",
   "metadata": {},
   "source": [
    "## Some visualisation"
   ]
  },
  {
   "cell_type": "code",
   "execution_count": null,
   "metadata": {},
   "outputs": [],
   "source": [
    "%matplotlib inline"
   ]
  },
  {
   "cell_type": "code",
   "execution_count": null,
   "metadata": {},
   "outputs": [],
   "source": [
    "reporter.makePolarPlotForObjects()"
   ]
  },
  {
   "cell_type": "code",
   "execution_count": null,
   "metadata": {},
   "outputs": [],
   "source": [
    "reporter.plotPerObjectAirMass(versusMjd=False)"
   ]
  },
  {
   "cell_type": "code",
   "execution_count": null,
   "metadata": {},
   "outputs": [],
   "source": [
    "exp=butler.get('quickLookExp',dayObs=dayObs,seqNum=seqNum)"
   ]
  },
  {
   "cell_type": "code",
   "execution_count": null,
   "metadata": {},
   "outputs": [],
   "source": [
    "display1.mtv(exp)"
   ]
  },
  {
   "cell_type": "code",
   "execution_count": null,
   "metadata": {},
   "outputs": [],
   "source": [
    "fig=plt.figure(figsize=(20,5))\n",
    "ax1=fig.add_subplot(131)\n",
    "ax1.imshow(exp.image.array,origin=\"lower\",cmap=\"jet\")\n",
    "ax2=fig.add_subplot(132)\n",
    "ax2.imshow(exp.mask.array,origin=\"lower\",cmap=\"jet\")\n",
    "ax3=fig.add_subplot(133)\n",
    "ax3.imshow(exp.variance.array,origin=\"lower\",cmap=\"jet\")"
   ]
  },
  {
   "cell_type": "code",
   "execution_count": null,
   "metadata": {},
   "outputs": [],
   "source": [
    "exp.image.array.shape"
   ]
  },
  {
   "cell_type": "code",
   "execution_count": null,
   "metadata": {},
   "outputs": [],
   "source": [
    "raw.image.array.shape"
   ]
  },
  {
   "cell_type": "markdown",
   "metadata": {},
   "source": [
    "## Meta Data"
   ]
  },
  {
   "cell_type": "code",
   "execution_count": null,
   "metadata": {},
   "outputs": [],
   "source": [
    "md=butler.get(\"raw_md\",dayObs=dayObs,seqNum=seqNum)"
   ]
  },
  {
   "cell_type": "code",
   "execution_count": null,
   "metadata": {},
   "outputs": [],
   "source": [
    "md.toDict()"
   ]
  },
  {
   "cell_type": "code",
   "execution_count": null,
   "metadata": {},
   "outputs": [],
   "source": [
    "rowNum=2005"
   ]
  },
  {
   "cell_type": "code",
   "execution_count": null,
   "metadata": {},
   "outputs": [],
   "source": [
    "plt.plot(range(1700,1900),exp.image.array[rowNum,1700:1900])"
   ]
  },
  {
   "cell_type": "code",
   "execution_count": null,
   "metadata": {},
   "outputs": [],
   "source": []
  }
 ],
 "metadata": {
  "kernelspec": {
   "display_name": "LSST",
   "language": "python",
   "name": "lsst"
  },
  "language_info": {
   "codemirror_mode": {
    "name": "ipython",
    "version": 3
   },
   "file_extension": ".py",
   "mimetype": "text/x-python",
   "name": "python",
   "nbconvert_exporter": "python",
   "pygments_lexer": "ipython3",
   "version": "3.8.6"
  }
 },
 "nbformat": 4,
 "nbformat_minor": 4
}
