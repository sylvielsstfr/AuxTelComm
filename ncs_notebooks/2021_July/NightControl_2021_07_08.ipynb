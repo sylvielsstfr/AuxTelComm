{
 "cells": [
  {
   "cell_type": "markdown",
   "id": "c9f7939a",
   "metadata": {},
   "source": [
    "# Observations for the night July 08th 2021 \n",
    "\n",
    "\n",
    "https://harvard.zoom.us/rec/play/N7umVF8Rk3vWvW_O3jkaTinofB2WxW3QKz0fVai_K-qvAYLt37uMrvskOlnBiMEjduSeQVzWT7_DDYzc.IY7Pqjef82YlWmZE?continueMode=true&_x_zm_rtaid=BjQYrDaETYeYRUMw8NQgLw.1613559822570.c813d210d38e378b719cb4048493df5b&_x_zm_rhtaid=205\n",
    "\n",
    "\n",
    "- work with Weakly_2021_26\n",
    "- use jupyter kernel LSST\n",
    "- requires the installation see https://github.com/stubbslab/PCWG-AuxTel/blob/main/setup_script.md\n",
    "- requires to write in file {HOME}/notebooks/.user_setups\n"
   ]
  },
  {
   "cell_type": "code",
   "execution_count": 1,
   "id": "c01212c2",
   "metadata": {},
   "outputs": [],
   "source": [
    "#! eups list -s"
   ]
  },
  {
   "cell_type": "code",
   "execution_count": 2,
   "id": "d8fef27a",
   "metadata": {},
   "outputs": [],
   "source": [
    "import os\n",
    "import matplotlib.pyplot as plt\n",
    "import numpy as np\n",
    "%matplotlib inline\n",
    "from matplotlib.colors import LogNorm\n",
    "\n",
    "from mpl_toolkits.axes_grid1 import make_axes_locatable\n",
    "\n",
    "import matplotlib.ticker                         # here's where the formatter is\n",
    "from matplotlib.ticker import (MultipleLocator, FormatStrFormatter,\n",
    "                               AutoMinorLocator)\n",
    "\n",
    "from astropy.io import fits"
   ]
  },
  {
   "cell_type": "code",
   "execution_count": 3,
   "id": "faf5177b",
   "metadata": {},
   "outputs": [],
   "source": [
    "import lsst.daf.persistence as dafPersist\n",
    "import lsst.afw.display as afwDisplay\n",
    "afwDisplay.setDefaultBackend(\"lsst.display.firefly\")"
   ]
  },
  {
   "cell_type": "code",
   "execution_count": 4,
   "id": "02bc0117",
   "metadata": {},
   "outputs": [],
   "source": [
    "# correct for bug in stack in wl_2021_02\n",
    "%config IPCompleter.use_jedi=False"
   ]
  },
  {
   "cell_type": "code",
   "execution_count": 5,
   "id": "cc35fbb9",
   "metadata": {},
   "outputs": [],
   "source": [
    "FLAG_SAVE_IMAGE=True"
   ]
  },
  {
   "cell_type": "code",
   "execution_count": 6,
   "id": "16ee8c7c",
   "metadata": {},
   "outputs": [
    {
     "name": "stdout",
     "output_type": "stream",
     "text": [
      "calexp\ticExp  postISRCCD\t     repositoryCfg.yaml  spectractorOutput\n",
      "config\ticSrc  processStar_metadata  schema\n"
     ]
    }
   ],
   "source": [
    "!ls /project/shared/auxTel/rerun/mfl/slurmRun"
   ]
  },
  {
   "cell_type": "code",
   "execution_count": 7,
   "id": "7b2e8a9a",
   "metadata": {},
   "outputs": [
    {
     "name": "stdout",
     "output_type": "stream",
     "text": [
      "CALIB\t   CALIB-OLD\t CALIB-RHL  icSrc    _parent.old  rerun\n",
      "CALIB_OLD  calibrations  Fossil     _parent  ref_cats\n"
     ]
    }
   ],
   "source": [
    "!ls /project/shared/auxTel"
   ]
  },
  {
   "cell_type": "code",
   "execution_count": 8,
   "id": "9405f909",
   "metadata": {},
   "outputs": [
    {
     "name": "stdout",
     "output_type": "stream",
     "text": [
      "total 16\n",
      "drwxr-sr-x  3 57489 1363 4096 Mar 18  2020 adriansh\n",
      "drwxr-sr-x  9 49813 1363 4096 Apr 23  2020 calib_construction\n",
      "drwxrwsr-x 14 56749 1363 4096 Mar 17 16:59 cslage\n",
      "drwxrwsrwx  3 49813 1363 4096 Feb 24 18:00 jneveu\n",
      "drwxrwsr-x  3 49803 1363 4096 Mar 22 20:32 lauren\n",
      "lrwxrwxrwx  1 49813 1363   25 Aug  7  2020 mfl -> /project/mfl/auxTelReruns\n",
      "drwxr-sr-x  4 56509 1363 4096 Apr 24  2020 nmondrik\n",
      "drwxr-sr-x  5 49813 1363 4096 Apr 23  2020 old_calibs\n",
      "drwxr-sr-x 34 57167 1363 4096 Dec 15  2020 plazas\n",
      "drwxr-sr-x  2 49813 1363 4096 Jan 29  2020 processCcdTesting\n",
      "drwxrwsrwx  9 49813 1363 4096 May 16 20:28 quickLook\n",
      "drwxr-sr-x  2 49813 1363 4096 Jul  7 01:07 quickLookExp\n",
      "lrwxrwxrwx  1 37341 1363   25 Apr 30  2019 rhl -> /project/rhl/rerun/auxTel\n",
      "drwxr-sr-x  3 48974 1363 4096 Feb 27  2020 swinbank\n",
      "drwxr-sr-x  3 49813 1363 4096 May  5  2020 test\n",
      "drwxrwsr-x  3 37341 1363 4096 May 10  2019 XXXXX\n"
     ]
    }
   ],
   "source": [
    "!ls /project/shared/auxTel/rerun -l"
   ]
  },
  {
   "cell_type": "markdown",
   "id": "1e23bdd7",
   "metadata": {},
   "source": [
    "# Configuration"
   ]
  },
  {
   "cell_type": "markdown",
   "id": "e713df67",
   "metadata": {},
   "source": [
    "## Location and date"
   ]
  },
  {
   "cell_type": "code",
   "execution_count": 9,
   "id": "4252cc1d",
   "metadata": {},
   "outputs": [
    {
     "name": "stderr",
     "output_type": "stream",
     "text": [
      "/home/dagoret/repos/rapid_analysis/python/lsst/rapid/analysis/nightReport.py:79: FutureWarning: Gen2 Butler has been deprecated (Butler). It will be removed sometime after v23.0 but no earlier than the end of 2021.\n",
      "  self._butler = dafPersist.Butler(repoDir)\n",
      "/home/dagoret/repos/rapid_analysis/python/lsst/rapid/analysis/nightReport.py:79: FutureWarning: Gen2 Butler has been deprecated (LatissMapper). It will be removed sometime after v23.0 but no earlier than the end of 2021.\n",
      "  self._butler = dafPersist.Butler(repoDir)\n"
     ]
    },
    {
     "name": "stdout",
     "output_type": "stream",
     "text": [
      "Loaded data for seqNums 1 to 475\n"
     ]
    }
   ],
   "source": [
    "from lsst.rapid.analysis.nightReport import NightReporter\n",
    "# data exist here\n",
    "repoDir='/project/shared/auxTel'\n",
    "# recommended but wrong\n",
    "#repoDir='project/shared/auxTel/rerun/mfl/slurmRun'\n",
    "dayObs=\"2021-07-08\"\n",
    "reporter=NightReporter(repoDir,dayObs)"
   ]
  },
  {
   "cell_type": "markdown",
   "id": "ae880c3c",
   "metadata": {},
   "source": [
    "# Selection"
   ]
  },
  {
   "cell_type": "code",
   "execution_count": 10,
   "id": "06a49029",
   "metadata": {},
   "outputs": [],
   "source": [
    "DISPERSER_SEL=\"holo4_003\""
   ]
  },
  {
   "cell_type": "markdown",
   "id": "5fdc9437",
   "metadata": {},
   "source": [
    "# Information from reporter"
   ]
  },
  {
   "cell_type": "code",
   "execution_count": 11,
   "id": "2ec709e3",
   "metadata": {},
   "outputs": [
    {
     "name": "stdout",
     "output_type": "stream",
     "text": [
      "['HD 225026', 'HD 211303', 'HD 130620', 'HD 140172', 'HD 199028', 'HD 207101', 'HD 205094', 'HD 205487', 'HD 187206', 'HD 131403', 'HD 194430', 'HD 219500', 'HD 219550', 'HD 116029', 'HD 123254', 'HD 182940', 'HD 173061', 'HD 173537', 'HD 210135', 'HD 221993', 'HD 221973', 'HD 137595', 'HD 187715', 'HD 117426', 'HD 355472', 'HD 211421', 'HD 218664', 'HD 212877', 'HD 199127', 'CCDM J21506-0747AB', 'HD 214895', 'HD 214887', 'HD 193252', 'HD 181474', 'HD 207887', 'HD 211869', 'HD 201738', 'HD 1159', 'HD 214629', '22 Lib', 'HD 196529', 'HD 176325', 'HD  92136', 'HD 185276', 'HD 203037', 'HD 220761', 'HD 209107', 'HD 169847', 'HD 119350', 'HD 180194', 'HD 187079', 'HD 126273', 'HD 205620', 'HD 205175', 'HD 179516', 'HD 133716', 'HD 123073', 'HD 217893', 'V* FK Aqr', 'HD 213750', 'HD 357016', 'HD 161486', 'HD 173806', 'HD 683', 'HD 172193B', 'HD 216264', 'HD 208144']\n"
     ]
    }
   ],
   "source": [
    "print(reporter.getObservedObjects())"
   ]
  },
  {
   "cell_type": "code",
   "execution_count": 12,
   "id": "f15971b0",
   "metadata": {},
   "outputs": [],
   "source": [
    "reporter.makePolarPlotForObjects()"
   ]
  },
  {
   "cell_type": "code",
   "execution_count": 13,
   "id": "6f02a210",
   "metadata": {},
   "outputs": [],
   "source": [
    "reporter.plotPerObjectAirMass()"
   ]
  },
  {
   "cell_type": "code",
   "execution_count": 14,
   "id": "7b4425ef",
   "metadata": {},
   "outputs": [
    {
     "name": "stdout",
     "output_type": "stream",
     "text": [
      "{seqNum:4} {imageType:9} {obj:10} {timeOfDay} {filt:25} {dt.sec:6.1f}  {expTime:2.2f}\n",
      "   1 bias      Park position 21:38:35.262 RG610~empty                  0.0  0.00\n",
      "   2 bias      Park position 21:38:55.036 RG610~empty                 19.8  0.00\n",
      "   3 bias      Park position 21:38:59.530 RG610~empty                  4.5  0.00\n",
      "   4 bias      Park position 21:39:04.052 RG610~empty                  4.5  0.00\n",
      "   5 bias      Park position 21:39:08.551 RG610~empty                  4.5  0.00\n",
      "   6 bias      Park position 21:39:13.053 RG610~empty                  4.5  0.00\n",
      "   7 bias      Park position 21:39:17.551 RG610~empty                  4.5  0.00\n",
      "   8 bias      Park position 21:39:22.053 RG610~empty                  4.5  0.00\n",
      "   9 bias      Park position 21:39:26.551 RG610~empty                  4.5  0.00\n",
      "  10 bias      Park position 21:39:31.053 RG610~empty                  4.5  0.00\n",
      "  11 bias      Park position 21:39:35.549 RG610~empty                  4.5  0.00\n",
      "  12 bias      Park position 21:39:40.052 RG610~empty                  4.5  0.00\n",
      "  13 bias      Park position 21:39:44.547 RG610~empty                  4.5  0.00\n",
      "  14 bias      Park position 21:39:49.053 RG610~empty                  4.5  0.00\n",
      "  15 bias      Park position 21:39:53.558 RG610~empty                  4.5  0.00\n",
      "  16 bias      Park position 21:39:58.054 RG610~empty                  4.5  0.00\n",
      "  17 bias      Park position 21:40:02.551 RG610~empty                  4.5  0.00\n",
      "  18 bias      Park position 21:40:07.052 RG610~empty                  4.5  0.00\n",
      "  19 bias      Park position 21:40:11.550 RG610~empty                  4.5  0.00\n",
      "  20 bias      Park position 21:40:16.052 RG610~empty                  4.5  0.00\n",
      "  21 bias      Park position 21:40:20.551 RG610~empty                  4.5  0.00\n",
      "  22 bias      Park position 21:40:25.052 RG610~empty                  4.5  0.00\n",
      "  23 bias      Park position 21:40:29.562 RG610~empty                  4.5  0.00\n",
      "  24 bias      Park position 21:40:34.080 RG610~empty                  4.5  0.00\n",
      "  25 bias      Park position 21:40:38.575 RG610~empty                  4.5  0.00\n",
      "  26 bias      Park position 21:40:43.079 RG610~empty                  4.5  0.00\n",
      "  27 bias      Park position 21:40:47.575 RG610~empty                  4.5  0.00\n",
      "  28 bias      Park position 21:40:52.078 RG610~empty                  4.5  0.00\n",
      "  29 bias      Park position 21:40:56.569 RG610~empty                  4.5  0.00\n",
      "  30 bias      Park position 21:41:01.078 RG610~empty                  4.5  0.00\n",
      "  31 bias      Park position 21:41:05.575 RG610~empty                  4.5  0.00\n",
      "  32 bias      Park position 21:41:10.080 RG610~empty                  4.5  0.00\n",
      "  33 bias      Park position 21:41:14.594 RG610~empty                  4.5  0.00\n",
      "  34 bias      Park position 21:41:19.102 RG610~empty                  4.5  0.00\n",
      "  35 bias      Park position 21:41:23.596 RG610~empty                  4.5  0.00\n",
      "  36 bias      Park position 21:41:28.103 RG610~empty                  4.5  0.00\n",
      "  37 bias      Park position 21:41:32.597 RG610~empty                  4.5  0.00\n",
      "  38 bias      Park position 21:41:37.100 RG610~empty                  4.5  0.00\n",
      "  39 bias      Park position 21:41:41.599 RG610~empty                  4.5  0.00\n",
      "  40 bias      Park position 21:41:46.105 RG610~empty                  4.5  0.00\n",
      "  41 bias      Park position 21:41:50.601 RG610~empty                  4.5  0.00\n",
      "  42 bias      Park position 21:41:55.106 RG610~empty                  4.5  0.00\n",
      "  43 bias      Park position 21:41:59.603 RG610~empty                  4.5  0.00\n",
      "  44 bias      Park position 21:42:04.100 RG610~empty                  4.5  0.00\n",
      "  45 bias      Park position 21:42:08.602 RG610~empty                  4.5  0.00\n",
      "  46 bias      Park position 21:42:13.098 RG610~empty                  4.5  0.00\n",
      "  47 bias      Park position 21:42:17.604 RG610~empty                  4.5  0.00\n",
      "  48 bias      Park position 21:42:22.109 RG610~empty                  4.5  0.00\n",
      "  49 bias      Park position 21:42:26.601 RG610~empty                  4.5  0.00\n",
      "  50 bias      Park position 21:42:31.101 RG610~empty                  4.5  0.00\n",
      "  51 bias      Park position 21:42:35.600 RG610~empty                  4.5  0.00\n",
      "  52 dark      FlatField position 21:43:55.550 RG610~empty                 80.0  10.00\n",
      "  53 dark      FlatField position 21:44:08.053 RG610~empty                 12.5  10.00\n",
      "  54 dark      FlatField position 21:44:20.542 RG610~empty                 12.5  10.00\n",
      "  55 dark      FlatField position 21:44:33.032 RG610~empty                 12.5  10.00\n",
      "  56 dark      FlatField position 21:44:45.551 RG610~empty                 12.5  10.00\n",
      "  57 dark      FlatField position 21:44:58.053 RG610~empty                 12.5  10.00\n",
      "  58 dark      FlatField position 21:45:10.584 RG610~empty                 12.5  10.00\n",
      "  59 dark      FlatField position 21:45:23.081 RG610~empty                 12.5  10.00\n",
      "  60 dark      FlatField position 21:45:35.569 RG610~empty                 12.5  10.00\n",
      "  61 dark      FlatField position 21:45:48.079 RG610~empty                 12.5  10.00\n",
      "  62 flat      FlatField position 21:47:10.904 empty~empty                 82.8  2.00\n",
      "  63 flat      FlatField position 21:52:23.456 empty~empty                312.6  2.00\n",
      "  64 flat      FlatField position 21:52:28.025 empty~empty                  4.6  2.00\n",
      "  65 flat      FlatField position 21:52:32.588 empty~empty                  4.6  2.00\n",
      "  66 flat      FlatField position 21:52:37.155 empty~empty                  4.6  2.00\n",
      "  67 flat      FlatField position 21:52:41.718 empty~empty                  4.6  2.00\n",
      "  68 flat      FlatField position 21:52:46.278 empty~empty                  4.6  2.00\n",
      "  69 flat      FlatField position 21:52:50.835 empty~empty                  4.6  2.00\n",
      "  70 flat      FlatField position 21:52:55.406 empty~empty                  4.6  2.00\n",
      "  71 flat      FlatField position 21:52:59.973 empty~empty                  4.6  2.00\n",
      "  72 flat      FlatField position 21:53:04.548 empty~empty                  4.6  2.00\n",
      "  73 flat      FlatField position 21:53:28.540 RG610~empty                 24.0  2.00\n",
      "  74 flat      FlatField position 21:53:33.106 RG610~empty                  4.6  2.00\n",
      "  75 flat      FlatField position 21:53:37.674 RG610~empty                  4.6  2.00\n",
      "  76 flat      FlatField position 21:53:42.235 RG610~empty                  4.6  2.00\n",
      "  77 flat      FlatField position 21:53:46.796 RG610~empty                  4.6  2.00\n",
      "  78 flat      FlatField position 21:53:51.359 RG610~empty                  4.6  2.00\n",
      "  79 flat      FlatField position 21:53:55.917 RG610~empty                  4.6  2.00\n",
      "  80 flat      FlatField position 21:54:00.489 RG610~empty                  4.6  2.00\n",
      "  81 flat      FlatField position 21:54:05.057 RG610~empty                  4.6  2.00\n",
      "  82 flat      FlatField position 21:54:09.626 RG610~empty                  4.6  2.00\n",
      "  83 flat      FlatField position 21:54:32.437 BG40~empty                  22.8  2.00\n",
      "  84 flat      FlatField position 21:54:37.002 BG40~empty                   4.6  2.00\n",
      "  85 flat      FlatField position 21:54:41.559 BG40~empty                   4.6  2.00\n",
      "  86 flat      FlatField position 21:54:46.124 BG40~empty                   4.6  2.00\n",
      "  87 flat      FlatField position 21:54:50.680 BG40~empty                   4.6  2.00\n",
      "  88 flat      FlatField position 21:54:55.253 BG40~empty                   4.6  2.00\n",
      "  89 flat      FlatField position 21:54:59.816 BG40~empty                   4.6  2.00\n",
      "  90 flat      FlatField position 21:55:04.384 BG40~empty                   4.6  2.00\n",
      "  91 flat      FlatField position 21:55:08.950 BG40~empty                   4.6  2.00\n",
      "  92 flat      FlatField position 21:55:13.514 BG40~empty                   4.6  2.00\n",
      "  93 bias      azel_target 00:23:45.216 BG40~empty                8911.7  0.00\n",
      "  94 science   22 Lib     00:44:32.009 BG40~empty                1246.8  2.00\n",
      "  95 engtest   22 Lib     01:05:33.595 BG40~empty                1261.6  2.00\n",
      "  96 engtest   22 Lib     01:10:46.632 BG40~empty                 313.0  2.00\n",
      "  97 engtest   22 Lib     01:11:15.144 RG610~empty                 28.5  20.00\n",
      "  98 engtest   22 Lib     01:11:43.549 RG610~empty                 28.4  20.00\n",
      "  99 engtest   22 Lib     01:13:19.937 RG610~empty                 96.4  20.00\n",
      " 100 engtest   22 Lib     01:13:47.367 RG610~empty                 27.4  20.00\n",
      " 101 engtest   22 Lib     01:15:23.078 RG610~empty                 95.7  20.00\n",
      " 102 engtest   22 Lib     01:15:51.056 RG610~empty                 28.0  20.00\n",
      " 103 science   22 Lib     01:21:55.348 RG610~empty                364.3  2.00\n",
      " 104 science   22 Lib     01:22:42.908 RG610~empty                 47.6  2.00\n",
      " 105 science   22 Lib     01:24:03.760 RG610~empty                 80.9  2.00\n",
      " 106 engtest   HD 130620  01:27:55.608 RG610~empty                231.8  5.00\n",
      " 107 science   HD 126273  01:30:43.217 RG610~empty                167.6  5.00\n",
      " 108 science   HD 123254  01:31:52.183 RG610~empty                 69.0  5.00\n",
      " 109 science   HD 123254  01:32:04.962 RG610~empty                 12.8  5.00\n",
      " 110 science   HD 119350  01:34:28.238 RG610~empty                143.3  5.00\n",
      " 111 science   HD 116029  01:36:18.991 RG610~empty                110.8  5.00\n",
      " 112 science   HD  92136  01:40:37.968 RG610~empty                259.0  5.00\n",
      " 113 science   HD 133716  01:44:55.651 RG610~empty                257.7  5.00\n",
      " 114 science   HD 137595  01:46:10.053 RG610~empty                 74.4  5.00\n",
      " 115 science   HD 140172  01:47:46.396 RG610~empty                 96.3  5.00\n",
      " 116 science   HD 140172  01:53:43.931 RG610~holo4_003            357.5  0.50\n",
      " 117 science   HD 140172  01:54:17.379 RG610~holo4_003             33.4  0.50\n",
      " 118 science   HD 140172  01:54:49.366 RG610~holo4_003             32.0  0.50\n",
      " 119 science   HD 140172  01:57:21.983 RG610~ronchi170lpmm        152.6  2.00\n",
      " 120 science   HD 140172  01:58:34.135 RG610~ronchi90lpmm          72.2  2.00\n",
      " 121 science   HD 140172  01:59:48.983 RG610~ronchi90lpmm          74.8  5.00\n",
      " 122 science   HD 131403  02:08:22.643 RG610~ronchi90lpmm         513.7  5.00\n",
      " 123 science   HD 131403  02:11:51.460 RG610~empty                208.8  5.00\n",
      " 124 engtest   HD 131403  02:12:21.176 RG610~empty                 29.7  20.00\n",
      " 125 engtest   HD 131403  02:12:49.212 RG610~empty                 28.0  20.00\n",
      " 126 engtest   HD 131403  02:14:27.796 RG610~empty                 98.6  20.00\n",
      " 127 engtest   HD 131403  02:14:55.402 RG610~empty                 27.6  20.00\n",
      " 128 science   HD 131403  02:16:36.640 RG610~empty                101.2  5.00\n",
      " 129 science   HD 131403  02:21:33.715 RG610~empty                297.1  2.00\n",
      " 130 science   HD 131403  02:25:36.540 RG610~empty                242.8  2.00\n",
      " 131 science   HD 131403  02:25:41.122 RG610~empty                  4.6  20.00\n",
      " 132 engtest   HD 131403  02:26:07.787 RG610~empty                 26.7  20.00\n",
      " 133 engtest   HD 131403  02:26:35.700 RG610~empty                 27.9  20.00\n",
      " 134 science   HD 131403  02:27:02.201 RG610~empty                 26.5  2.00\n",
      " 135 science   HD 131403  02:31:21.592 RG610~empty                259.4  2.00\n",
      " 136 science   HD 131403  02:31:26.168 RG610~empty                  4.6  20.00\n",
      " 137 engtest   HD 131403  02:31:52.868 RG610~empty                 26.7  20.00\n",
      " 138 engtest   HD 131403  02:32:20.711 RG610~empty                 27.8  20.00\n",
      " 139 science   HD 131403  02:32:47.460 RG610~empty                 26.7  2.00\n",
      " 140 science   HD 131403  02:35:27.552 RG610~empty                160.1  2.00\n",
      " 141 science   HD 123073  02:36:27.222 RG610~empty                 59.7  2.00\n",
      " 142 science   HD 123073  02:36:55.756 RG610~empty                 28.5  2.00\n",
      " 143 science   HD 123073  02:37:00.380 RG610~empty                  4.6  20.00\n",
      " 144 engtest   HD 123073  02:37:27.935 RG610~empty                 27.6  20.00\n",
      " 145 engtest   HD 123073  02:37:55.883 RG610~empty                 27.9  20.00\n",
      " 146 science   HD 123073  02:38:22.540 RG610~empty                 26.7  2.00\n",
      " 147 science   HD 117426  02:40:14.643 RG610~empty                112.1  2.00\n",
      " 148 science   HD 117426  02:41:07.695 RG610~empty                 53.1  2.00\n",
      " 149 science   HD 117426  02:41:17.540 RG610~empty                  9.8  20.00\n",
      " 150 engtest   HD 117426  02:41:44.729 RG610~empty                 27.2  20.00\n",
      " 151 science   HD 117426  02:49:14.768 RG610~empty                450.0  2.00\n",
      " 152 science   HD 117426  02:52:09.798 RG610~empty                175.0  2.00\n",
      " 153 science   HD 161486  02:57:00.660 RG610~empty                290.9  2.00\n",
      " 154 science   HD 161486  02:58:34.636 RG610~empty                 94.0  2.00\n",
      " 155 science   HD 161486  02:58:39.226 RG610~empty                  4.6  20.00\n",
      " 156 engtest   HD 161486  02:59:06.427 RG610~empty                 27.2  20.00\n",
      " 157 engtest   HD 161486  02:59:33.943 RG610~empty                 27.5  20.00\n",
      " 158 science   HD 161486  03:00:00.229 RG610~empty                 26.3  2.00\n",
      " 159 science   HD 169847  03:01:42.897 RG610~empty                102.7  2.00\n",
      " 160 science   HD 169847  03:02:22.945 RG610~empty                 40.0  2.00\n",
      " 161 science   HD 169847  03:02:27.529 RG610~empty                  4.6  20.00\n",
      " 162 science   HD 169847  03:04:17.125 RG610~empty                109.6  2.00\n",
      " 163 science   HD 169847  03:04:21.711 RG610~empty                  4.6  20.00\n",
      " 164 engtest   HD 169847  03:04:48.373 RG610~empty                 26.7  20.00\n",
      " 165 engtest   HD 169847  03:05:15.861 RG610~empty                 27.5  20.00\n",
      " 166 science   HD 169847  03:05:42.232 RG610~empty                 26.4  2.00\n",
      " 167 science   HD 176325  03:07:11.144 RG610~empty                 88.9  2.00\n",
      " 168 science   HD 176325  03:07:41.258 RG610~empty                 30.1  2.00\n",
      " 169 science   HD 176325  03:07:45.845 RG610~empty                  4.6  20.00\n",
      " 170 engtest   HD 176325  03:08:12.285 RG610~empty                 26.4  20.00\n",
      " 171 engtest   HD 176325  03:08:40.156 RG610~empty                 27.9  20.00\n",
      " 172 science   HD 176325  03:09:06.548 RG610~empty                 26.4  2.00\n",
      " 173 science   HD 181474  03:11:15.590 RG610~empty                129.0  2.00\n",
      " 174 science   HD 181474  03:11:46.565 RG610~empty                 31.0  2.00\n",
      " 175 science   HD 181474  03:11:51.150 RG610~empty                  4.6  20.00\n",
      " 176 engtest   HD 181474  03:12:17.753 RG610~empty                 26.6  20.00\n",
      " 177 engtest   HD 181474  03:12:45.849 RG610~empty                 28.1  20.00\n",
      " 178 science   HD 181474  03:13:12.480 RG610~empty                 26.6  2.00\n",
      " 179 science   HD 187715  03:14:45.341 RG610~empty                 92.9  2.00\n",
      " 180 science   HD 187715  03:15:43.260 RG610~empty                 57.9  2.00\n",
      " 181 science   HD 187715  03:15:47.852 RG610~empty                  4.6  20.00\n",
      " 182 engtest   HD 187715  03:16:14.575 RG610~empty                 26.7  20.00\n",
      " 183 engtest   HD 187715  03:16:42.555 RG610~empty                 28.0  20.00\n",
      " 184 science   HD 187715  03:17:09.207 RG610~empty                 26.7  2.00\n",
      " 185 science   HD 355472  03:18:48.523 RG610~empty                 99.3  2.00\n",
      " 186 science   HD 355472  03:19:55.932 RG610~empty                 67.4  2.00\n",
      " 187 science   HD 355472  03:20:00.592 RG610~empty                  4.7  20.00\n",
      " 188 engtest   HD 355472  03:20:27.460 RG610~empty                 26.9  20.00\n",
      " 189 engtest   HD 355472  03:20:55.023 RG610~empty                 27.6  20.00\n",
      " 190 science   HD 355472  03:21:21.847 RG610~empty                 26.8  2.00\n",
      " 191 science   HD 357016  03:23:01.937 RG610~empty                100.1  2.00\n",
      " 192 science   HD 357016  03:23:26.260 RG610~empty                 24.3  2.00\n",
      " 193 science   HD 357016  03:23:30.846 RG610~empty                  4.6  20.00\n",
      " 194 engtest   HD 357016  03:23:58.342 RG610~empty                 27.5  20.00\n",
      " 195 engtest   HD 357016  03:24:26.206 RG610~empty                 27.9  20.00\n",
      " 196 science   HD 357016  03:24:52.900 RG610~empty                 26.7  2.00\n",
      " 197 science   HD 187079  03:26:41.472 RG610~empty                108.6  2.00\n",
      " 198 science   HD 187079  03:27:24.470 RG610~empty                 43.0  2.00\n",
      " 199 science   HD 187079  03:27:29.055 RG610~empty                  4.6  20.00\n",
      " 200 engtest   HD 187079  03:27:55.705 RG610~empty                 26.7  20.00\n",
      " 201 engtest   HD 187079  03:28:23.828 RG610~empty                 28.1  20.00\n",
      " 202 science   HD 187079  03:28:50.444 RG610~empty                 26.6  2.00\n",
      " 203 science   HD 182940  03:33:47.358 RG610~empty                296.9  2.00\n",
      " 204 science   HD 182940  03:34:30.022 RG610~empty                 42.7  2.00\n",
      " 205 science   HD 182940  03:34:39.784 RG610~empty                  9.8  20.00\n",
      " 206 engtest   HD 182940  03:35:06.794 RG610~empty                 27.0  20.00\n",
      " 207 engtest   HD 182940  03:35:34.125 RG610~empty                 27.3  20.00\n",
      " 208 science   HD 182940  03:36:05.537 RG610~empty                 31.4  2.00\n",
      " 209 science   HD 179516  03:37:51.970 RG610~empty                106.4  2.00\n",
      " 210 science   HD 179516  03:38:15.201 RG610~empty                 23.2  2.00\n",
      " 211 science   HD 179516  03:38:24.949 RG610~empty                  9.7  20.00\n",
      " 212 engtest   HD 179516  03:38:52.372 RG610~empty                 27.4  20.00\n",
      " 213 engtest   HD 179516  03:39:20.605 RG610~empty                 28.2  20.00\n",
      " 214 science   HD 179516  03:39:51.991 RG610~empty                 31.4  2.00\n",
      " 215 science   HD 173806  03:41:14.745 RG610~empty                 82.8  2.00\n",
      " 216 science   HD 173806  03:41:44.791 RG610~empty                 30.0  2.00\n",
      " 217 science   HD 173806  03:41:54.544 RG610~empty                  9.8  20.00\n",
      " 218 engtest   HD 173806  03:42:21.943 RG610~empty                 27.4  20.00\n",
      " 219 engtest   HD 173806  03:42:49.032 RG610~empty                 27.1  20.00\n",
      " 220 science   HD 173806  03:43:20.543 RG610~empty                 31.5  2.00\n",
      " 221 science   HD 172193B 03:45:53.147 RG610~empty                152.6  2.00\n",
      " 222 science   HD 172193B 03:47:20.196 RG610~empty                 87.0  2.00\n",
      " 223 science   HD 173061  03:48:05.665 RG610~empty                 45.5  2.00\n",
      " 224 science   HD 173537  03:49:59.962 RG610~empty                114.3  2.00\n",
      " 225 science   HD 173537  03:50:24.270 RG610~empty                 24.3  2.00\n",
      " 226 science   HD 173537  03:50:34.014 RG610~empty                  9.7  20.00\n",
      " 227 engtest   HD 173537  03:51:00.946 RG610~empty                 26.9  20.00\n",
      " 228 engtest   HD 173537  03:51:28.467 RG610~empty                 27.5  20.00\n",
      " 229 science   HD 173537  03:51:59.721 RG610~empty                 31.3  2.00\n",
      " 230 science   HD 180194  03:53:21.908 RG610~empty                 82.2  2.00\n",
      " 231 science   HD 180194  03:53:48.649 RG610~empty                 26.7  2.00\n",
      " 232 science   HD 180194  03:53:58.408 RG610~empty                  9.8  20.00\n",
      " 233 engtest   HD 180194  03:54:25.199 RG610~empty                 26.8  20.00\n",
      " 234 engtest   HD 180194  03:54:53.266 RG610~empty                 28.1  20.00\n",
      " 235 science   HD 180194  03:55:25.092 RG610~empty                 31.8  2.00\n",
      " 236 science   HD 187206  03:57:36.405 RG610~empty                131.3  2.00\n",
      " 237 science   HD 187206  03:58:07.627 RG610~empty                 31.2  2.00\n",
      " 238 science   HD 187206  03:58:17.372 RG610~empty                  9.7  20.00\n",
      " 239 engtest   HD 187206  03:58:44.266 RG610~empty                 26.9  20.00\n",
      " 240 engtest   HD 187206  03:59:12.848 RG610~empty                 28.6  20.00\n",
      " 241 science   HD 187206  03:59:43.906 RG610~empty                 31.1  2.00\n",
      " 242 science   HD 193252  04:02:55.006 RG610~empty                191.1  2.00\n",
      " 243 science   HD 185276  04:57:24.119 RG610~empty               3269.1  2.00\n",
      " 244 engtest   HD 185276  04:59:10.535 RG610~empty                106.4  20.00\n",
      " 245 engtest   HD 185276  04:59:38.618 RG610~empty                 28.1  20.00\n",
      " 246 engtest   HD 185276  05:01:16.459 RG610~empty                 97.8  20.00\n",
      " 247 engtest   HD 185276  05:01:43.960 RG610~empty                 27.5  20.00\n",
      " 248 science   HD 185276  05:03:21.029 RG610~empty                 97.1  5.00\n",
      " 249 science   HD 185276  05:06:00.863 RG610~empty                159.8  2.00\n",
      " 250 science   HD 185276  05:06:10.611 RG610~empty                  9.7  20.00\n",
      " 251 engtest   HD 185276  05:06:37.625 RG610~empty                 27.0  20.00\n",
      " 252 engtest   HD 185276  05:07:06.007 RG610~empty                 28.4  20.00\n",
      " 253 science   HD 185276  05:07:37.228 RG610~empty                 31.2  2.00\n",
      " 254 science   HD 194430  05:10:11.895 RG610~empty                154.7  2.00\n",
      " 255 science   HD 194430  05:11:17.997 RG610~empty                 66.1  2.00\n",
      " 256 science   HD 194430  05:11:27.756 RG610~empty                  9.8  20.00\n",
      " 257 engtest   HD 194430  05:11:54.715 RG610~empty                 27.0  20.00\n",
      " 258 engtest   HD 194430  05:12:22.720 RG610~empty                 28.0  20.00\n",
      " 259 science   HD 194430  05:12:53.913 RG610~empty                 31.2  2.00\n",
      " 260 science   HD 199127  05:14:33.093 RG610~empty                 99.2  2.00\n",
      " 261 science   HD 199127  05:15:08.751 RG610~empty                 35.7  2.00\n",
      " 262 science   HD 199127  05:15:18.506 RG610~empty                  9.8  20.00\n",
      " 263 engtest   HD 199127  05:15:45.805 RG610~empty                 27.3  20.00\n",
      " 264 engtest   HD 199127  05:16:14.205 RG610~empty                 28.4  20.00\n",
      " 265 science   HD 199127  05:16:45.500 RG610~empty                 31.3  2.00\n",
      " 266 science   HD 205175  05:18:08.486 RG610~empty                 83.0  2.00\n",
      " 267 science   HD 205175  05:18:35.328 RG610~empty                 26.8  2.00\n",
      " 268 science   HD 205175  05:18:45.086 RG610~empty                  9.8  20.00\n",
      " 269 engtest   HD 205175  05:19:12.210 RG610~empty                 27.1  20.00\n",
      " 270 engtest   HD 205175  05:19:40.109 RG610~empty                 27.9  20.00\n",
      " 271 science   HD 205175  05:20:11.944 RG610~empty                 31.8  2.00\n",
      " 272 science   HD 207887  05:21:48.823 RG610~empty                 96.9  2.00\n",
      " 273 science   HD 207887  05:22:14.548 RG610~empty                 25.7  2.00\n",
      " 274 science   HD 207887  05:22:24.300 RG610~empty                  9.8  20.00\n",
      " 275 engtest   HD 207887  05:22:51.294 RG610~empty                 27.0  20.00\n",
      " 276 engtest   HD 207887  05:23:19.264 RG610~empty                 28.0  20.00\n",
      " 277 science   HD 207887  05:23:50.968 RG610~empty                 31.7  2.00\n",
      " 278 science   HD 211869  05:25:04.520 RG610~empty                 73.6  2.00\n",
      " 279 science   HD 211869  05:25:26.336 RG610~empty                 21.8  2.00\n",
      " 280 science   HD 211869  05:25:36.114 RG610~empty                  9.8  20.00\n",
      " 281 engtest   HD 211869  05:26:02.494 RG610~empty                 26.4  20.00\n",
      " 282 engtest   HD 211869  05:26:30.691 RG610~empty                 28.2  20.00\n",
      " 283 science   HD 211869  05:27:02.703 RG610~empty                 32.0  2.00\n",
      " 284 science   HD 211303  05:28:30.998 RG610~empty                 88.3  2.00\n",
      " 285 science   HD 211303  05:29:21.028 RG610~empty                 50.0  2.00\n",
      " 286 science   HD 211303  05:29:30.777 RG610~empty                  9.7  20.00\n",
      " 287 engtest   HD 211303  05:29:57.683 RG610~empty                 26.9  20.00\n",
      " 288 engtest   HD 211303  05:30:24.979 RG610~empty                 27.3  20.00\n",
      " 289 science   HD 211303  05:30:56.671 RG610~empty                 31.7  2.00\n",
      " 290 science   HD 208144  05:32:18.252 RG610~empty                 81.6  2.00\n",
      " 291 science   HD 208144  05:32:41.815 RG610~empty                 23.6  2.00\n",
      " 292 science   HD 208144  05:32:51.568 RG610~empty                  9.8  20.00\n",
      " 293 engtest   HD 208144  05:33:18.877 RG610~empty                 27.3  20.00\n",
      " 294 engtest   HD 208144  05:33:47.153 RG610~empty                 28.3  20.00\n",
      " 295 science   HD 208144  05:34:19.245 RG610~empty                 32.1  2.00\n",
      " 296 science   HD 205620  05:35:32.693 RG610~empty                 73.4  2.00\n",
      " 297 science   HD 205620  05:35:53.691 RG610~empty                 21.0  2.00\n",
      " 298 science   HD 205620  05:36:03.443 RG610~empty                  9.8  20.00\n",
      " 299 engtest   HD 205620  05:36:29.973 RG610~empty                 26.5  20.00\n",
      " 300 engtest   HD 205620  05:36:58.012 RG610~empty                 28.0  20.00\n",
      " 301 science   HD 205620  05:37:29.738 RG610~empty                 31.7  2.00\n",
      " 302 science   HD 201738  05:40:20.570 RG610~empty                170.8  2.00\n",
      " 303 science   HD 201738  05:40:49.328 RG610~empty                 28.8  2.00\n",
      " 304 science   HD 201738  05:40:59.082 RG610~empty                  9.8  20.00\n",
      " 305 engtest   HD 201738  05:41:26.055 RG610~empty                 27.0  20.00\n",
      " 306 engtest   HD 201738  05:41:54.055 RG610~empty                 28.0  20.00\n",
      " 307 science   HD 201738  05:42:25.675 RG610~empty                 31.6  2.00\n",
      " 308 science   HD 199028  05:44:42.241 RG610~empty                136.6  2.00\n",
      " 309 science   HD 199028  05:45:03.380 RG610~empty                 21.1  2.00\n",
      " 310 science   HD 199028  05:45:13.118 RG610~empty                  9.7  20.00\n",
      " 311 engtest   HD 199028  05:45:40.133 RG610~empty                 27.0  20.00\n",
      " 312 engtest   HD 199028  05:46:07.670 RG610~empty                 27.5  20.00\n",
      " 313 science   HD 199028  05:46:38.959 RG610~empty                 31.3  2.00\n",
      " 314 science   HD 199028  05:47:58.611 RG610~empty                 79.7  2.00\n",
      " 315 science   HD 199028  05:48:36.374 RG610~empty                 37.8  2.00\n",
      " 316 science   HD 199028  05:48:46.130 RG610~empty                  9.8  20.00\n",
      " 317 engtest   HD 199028  05:49:12.952 RG610~empty                 26.8  20.00\n",
      " 318 engtest   HD 199028  05:49:40.491 RG610~empty                 27.5  20.00\n",
      " 319 science   HD 199028  05:50:11.750 RG610~empty                 31.3  2.00\n",
      " 320 science   HD 196529  05:51:58.936 RG610~empty                107.2  2.00\n",
      " 321 science   HD 196529  05:52:37.150 RG610~empty                 38.2  2.00\n",
      " 322 science   HD 196529  05:52:46.903 RG610~empty                  9.8  20.00\n",
      " 323 engtest   HD 196529  05:53:14.153 RG610~empty                 27.3  20.00\n",
      " 324 engtest   HD 196529  05:53:41.714 RG610~empty                 27.6  20.00\n",
      " 325 science   HD 196529  05:54:12.974 RG610~empty                 31.3  2.00\n",
      " 326 science   HD 203037  05:56:16.218 RG610~empty                123.2  2.00\n",
      " 327 science   HD 203037  05:57:04.782 RG610~empty                 48.6  2.00\n",
      " 328 science   HD 203037  05:57:14.544 RG610~empty                  9.8  20.00\n",
      " 329 engtest   HD 203037  05:57:42.130 RG610~empty                 27.6  20.00\n",
      " 330 engtest   HD 203037  05:58:09.643 RG610~empty                 27.5  20.00\n",
      " 331 science   HD 203037  05:58:40.947 RG610~empty                 31.3  2.00\n",
      " 332 science   CCDM J21506-0747AB 06:01:30.197 RG610~empty                169.2  2.00\n",
      " 333 science   CCDM J21506-0747AB 06:01:59.820 RG610~empty                 29.6  2.00\n",
      " 334 science   CCDM J21506-0747AB 06:02:09.567 RG610~empty                  9.7  20.00\n",
      " 335 engtest   CCDM J21506-0747AB 06:02:36.363 RG610~empty                 26.8  20.00\n",
      " 336 engtest   CCDM J21506-0747AB 06:03:03.937 RG610~empty                 27.6  20.00\n",
      " 337 science   CCDM J21506-0747AB 06:03:35.161 RG610~empty                 31.2  2.00\n",
      " 338 science   HD 211421  06:05:11.386 RG610~empty                 96.2  2.00\n",
      " 339 science   HD 211421  06:05:36.029 RG610~empty                 24.6  2.00\n",
      " 340 science   HD 211421  06:05:45.774 RG610~empty                  9.7  20.00\n",
      " 341 engtest   HD 211421  06:06:12.778 RG610~empty                 27.0  20.00\n",
      " 342 engtest   HD 211421  06:06:40.668 RG610~empty                 27.9  20.00\n",
      " 343 science   HD 211421  06:07:12.472 RG610~empty                 31.8  2.00\n",
      " 344 science   HD 214629  06:08:29.564 RG610~empty                 77.1  2.00\n",
      " 345 science   HD 214629  06:09:01.562 RG610~empty                 32.0  2.00\n",
      " 346 science   HD 214629  06:09:11.314 RG610~empty                  9.8  20.00\n",
      " 347 engtest   HD 214629  06:09:38.772 RG610~empty                 27.5  20.00\n",
      " 348 engtest   HD 214629  06:10:06.850 RG610~empty                 28.1  20.00\n",
      " 349 science   HD 214629  06:10:38.504 RG610~empty                 31.7  2.00\n",
      " 350 science   HD 218664  06:12:02.960 RG610~empty                 84.5  2.00\n",
      " 351 science   HD 218664  06:12:49.602 RG610~empty                 46.6  2.00\n",
      " 352 science   HD 218664  06:12:59.342 RG610~empty                  9.7  20.00\n",
      " 353 engtest   HD 218664  06:13:26.052 RG610~empty                 26.7  20.00\n",
      " 354 engtest   HD 218664  06:13:54.439 RG610~empty                 28.4  20.00\n",
      " 355 science   HD 218664  06:14:25.726 RG610~empty                 31.3  2.00\n",
      " 356 science   HD 220761  06:16:01.986 RG610~empty                 96.3  2.00\n",
      " 357 science   HD 220761  06:16:34.856 RG610~empty                 32.9  2.00\n",
      " 358 science   HD 220761  06:16:44.601 RG610~empty                  9.7  20.00\n",
      " 359 engtest   HD 220761  06:17:11.593 RG610~empty                 27.0  20.00\n",
      " 360 engtest   HD 220761  06:17:39.524 RG610~empty                 27.9  20.00\n",
      " 361 science   HD 220761  06:18:10.499 RG610~empty                 31.0  2.00\n",
      " 362 science   HD 219500  06:20:21.487 RG610~empty                131.0  2.00\n",
      " 363 science   HD 219500  06:20:48.055 RG610~empty                 26.6  2.00\n",
      " 364 science   HD 219500  06:20:57.812 RG610~empty                  9.8  20.00\n",
      " 365 engtest   HD 219500  06:21:25.276 RG610~empty                 27.5  20.00\n",
      " 366 engtest   HD 219500  06:21:53.326 RG610~empty                 28.0  20.00\n",
      " 367 science   HD 219500  06:22:25.004 RG610~empty                 31.7  2.00\n",
      " 368 science   HD 214895  06:24:15.679 RG610~empty                110.7  2.00\n",
      " 369 science   HD 214895  06:24:55.599 RG610~empty                 39.9  2.00\n",
      " 370 science   HD 214895  06:25:05.340 RG610~empty                  9.7  20.00\n",
      " 371 engtest   HD 214895  06:25:32.516 RG610~empty                 27.2  20.00\n",
      " 372 engtest   HD 214895  06:26:00.349 RG610~empty                 27.8  20.00\n",
      " 373 science   HD 214895  06:26:32.160 RG610~empty                 31.8  2.00\n",
      " 374 science   HD 213750  06:27:56.819 RG610~empty                 84.7  2.00\n",
      " 375 science   HD 213750  06:28:30.468 RG610~empty                 33.6  2.00\n",
      " 376 science   HD 213750  06:28:40.227 RG610~empty                  9.8  20.00\n",
      " 377 engtest   HD 213750  06:29:07.966 RG610~empty                 27.7  20.00\n",
      " 378 engtest   HD 213750  06:29:35.756 RG610~empty                 27.8  20.00\n",
      " 379 science   HD 213750  06:30:07.475 RG610~empty                 31.7  2.00\n",
      " 380 science   HD 209107  06:31:49.714 RG610~empty                102.2  2.00\n",
      " 381 science   HD 209107  06:32:10.522 RG610~empty                 20.8  2.00\n",
      " 382 science   HD 209107  06:32:20.265 RG610~empty                  9.7  20.00\n",
      " 383 engtest   HD 209107  06:32:47.466 RG610~empty                 27.2  20.00\n",
      " 384 engtest   HD 209107  06:33:15.508 RG610~empty                 28.0  20.00\n",
      " 385 science   HD 209107  06:33:47.216 RG610~empty                 31.7  2.00\n",
      " 386 science   HD 207101  06:36:09.815 RG610~empty                142.6  2.00\n",
      " 387 science   HD 207101  06:37:03.381 RG610~empty                 53.6  2.00\n",
      " 388 science   HD 207101  06:37:13.126 RG610~empty                  9.7  20.00\n",
      " 389 engtest   HD 207101  06:37:40.247 RG610~empty                 27.1  20.00\n",
      " 390 engtest   HD 207101  06:38:07.658 RG610~empty                 27.4  20.00\n",
      " 391 science   HD 207101  06:38:38.970 RG610~empty                 31.3  2.00\n",
      " 392 science   HD 205094  06:39:54.762 RG610~empty                 75.8  2.00\n",
      " 393 science   HD 205094  06:40:24.232 RG610~empty                 29.5  2.00\n",
      " 394 science   HD 205094  06:40:33.974 RG610~empty                  9.7  20.00\n",
      " 395 engtest   HD 205094  06:41:01.602 RG610~empty                 27.6  20.00\n",
      " 396 engtest   HD 205094  06:41:29.925 RG610~empty                 28.3  20.00\n",
      " 397 science   HD 205094  06:42:01.158 RG610~empty                 31.2  2.00\n",
      " 398 science   HD 205487  06:45:34.342 RG610~empty                213.2  2.00\n",
      " 399 science   HD 205487  06:46:11.924 RG610~empty                 37.6  2.00\n",
      " 400 science   HD 205487  06:46:21.677 RG610~empty                  9.8  20.00\n",
      " 401 engtest   HD 205487  06:46:48.786 RG610~empty                 27.1  20.00\n",
      " 402 engtest   HD 205487  06:47:16.798 RG610~empty                 28.0  20.00\n",
      " 403 science   HD 205487  06:47:47.637 RG610~empty                 30.8  2.00\n",
      " 404 science   HD 210135  06:49:13.794 RG610~empty                 86.2  2.00\n",
      " 405 science   HD 210135  06:49:34.833 RG610~empty                 21.0  2.00\n",
      " 406 science   HD 210135  06:49:44.587 RG610~empty                  9.8  20.00\n",
      " 407 engtest   HD 210135  06:50:12.017 RG610~empty                 27.4  20.00\n",
      " 408 engtest   HD 210135  06:50:40.421 RG610~empty                 28.4  20.00\n",
      " 409 science   HD 210135  06:51:11.484 RG610~empty                 31.1  2.00\n",
      " 410 science   HD 214887  06:52:44.460 RG610~empty                 93.0  2.00\n",
      " 411 science   HD 214887  06:53:04.636 RG610~empty                 20.2  2.00\n",
      " 412 science   HD 214887  06:53:14.391 RG610~empty                  9.8  20.00\n",
      " 413 engtest   HD 214887  06:53:41.462 RG610~empty                 27.1  20.00\n",
      " 414 engtest   HD 214887  06:54:09.321 RG610~empty                 27.9  20.00\n",
      " 415 science   HD 214887  06:54:40.225 RG610~empty                 30.9  2.00\n",
      " 416 science   HD 217893  06:56:03.158 RG610~empty                 82.9  2.00\n",
      " 417 science   HD 217893  06:56:29.479 RG610~empty                 26.3  2.00\n",
      " 418 science   HD 217893  06:56:39.230 RG610~empty                  9.8  20.00\n",
      " 419 engtest   HD 217893  06:57:06.402 RG610~empty                 27.2  20.00\n",
      " 420 engtest   HD 217893  06:57:34.506 RG610~empty                 28.1  20.00\n",
      " 421 science   HD 217893  06:58:06.231 RG610~empty                 31.7  2.00\n",
      " 422 science   HD 221973  06:59:30.453 RG610~empty                 84.2  2.00\n",
      " 423 science   HD 221973  06:59:57.108 RG610~empty                 26.7  2.00\n",
      " 424 science   HD 221973  07:00:06.847 RG610~empty                  9.7  20.00\n",
      " 425 engtest   HD 221973  07:00:34.053 RG610~empty                 27.2  20.00\n",
      " 426 engtest   HD 221973  07:01:01.936 RG610~empty                 27.9  20.00\n",
      " 427 science   HD 221973  07:01:33.954 RG610~empty                 32.0  2.00\n",
      " 428 science   HD 683     07:03:05.015 RG610~empty                 91.1  2.00\n",
      " 429 science   HD 683     07:04:07.925 RG610~empty                 62.9  2.00\n",
      " 430 science   HD 683     07:04:17.683 RG610~empty                  9.8  20.00\n",
      " 431 engtest   HD 683     07:04:44.259 RG610~empty                 26.6  20.00\n",
      " 432 engtest   HD 683     07:05:11.747 RG610~empty                 27.5  20.00\n",
      " 433 science   HD 683     07:05:42.986 RG610~empty                 31.2  2.00\n",
      " 434 science   HD 1159    07:06:56.939 RG610~empty                 74.0  2.00\n",
      " 435 science   HD 1159    07:07:32.284 RG610~empty                 35.3  2.00\n",
      " 436 science   HD 1159    07:07:42.056 RG610~empty                  9.8  20.00\n",
      " 437 engtest   HD 1159    07:08:08.655 RG610~empty                 26.6  20.00\n",
      " 438 engtest   HD 1159    07:08:36.147 RG610~empty                 27.5  20.00\n",
      " 439 science   HD 1159    07:09:07.451 RG610~empty                 31.3  2.00\n",
      " 440 science   HD 225026  07:11:37.401 RG610~empty                149.9  2.00\n",
      " 441 science   HD 225026  07:12:00.431 RG610~empty                 23.0  2.00\n",
      " 442 science   HD 225026  07:12:10.169 RG610~empty                  9.7  20.00\n",
      " 443 engtest   HD 225026  07:12:37.159 RG610~empty                 27.0  20.00\n",
      " 444 engtest   HD 225026  07:13:05.359 RG610~empty                 28.2  20.00\n",
      " 445 science   HD 225026  07:13:36.956 RG610~empty                 31.6  2.00\n",
      " 446 science   HD 221993  07:14:58.904 RG610~empty                 81.9  2.00\n",
      " 447 science   HD 221993  07:15:20.116 RG610~empty                 21.2  2.00\n",
      " 448 science   HD 221993  07:15:29.871 RG610~empty                  9.8  20.00\n",
      " 449 engtest   HD 221993  07:15:56.883 RG610~empty                 27.0  20.00\n",
      " 450 engtest   HD 221993  07:16:24.934 RG610~empty                 28.1  20.00\n",
      " 451 science   HD 221993  07:16:56.728 RG610~empty                 31.8  2.00\n",
      " 452 science   HD 219550  07:19:43.326 RG610~empty                166.6  2.00\n",
      " 453 science   HD 219550  07:20:09.667 RG610~empty                 26.3  2.00\n",
      " 454 science   HD 219550  07:20:19.423 RG610~empty                  9.8  20.00\n",
      " 455 engtest   HD 219550  07:20:46.550 RG610~empty                 27.1  20.00\n",
      " 456 engtest   HD 219550  07:21:14.944 RG610~empty                 28.4  20.00\n",
      " 457 science   HD 219550  07:21:46.203 RG610~empty                 31.3  2.00\n",
      " 458 science   HD 216264  07:23:40.570 RG610~empty                114.4  2.00\n",
      " 459 science   HD 216264  07:23:59.631 RG610~empty                 19.1  2.00\n",
      " 460 science   HD 216264  07:24:09.368 RG610~empty                  9.7  20.00\n",
      " 461 engtest   HD 216264  07:24:36.360 RG610~empty                 27.0  20.00\n",
      " 462 engtest   HD 216264  07:25:04.193 RG610~empty                 27.8  20.00\n",
      " 463 science   HD 216264  07:25:35.954 RG610~empty                 31.8  2.00\n",
      " 464 science   V* FK Aqr  07:27:44.473 RG610~empty                128.5  2.00\n",
      " 465 science   V* FK Aqr  07:28:07.138 RG610~empty                 22.7  2.00\n",
      " 466 science   V* FK Aqr  07:28:16.888 RG610~empty                  9.7  20.00\n",
      " 467 engtest   V* FK Aqr  07:28:44.053 RG610~empty                 27.2  20.00\n",
      " 468 engtest   V* FK Aqr  07:29:12.412 RG610~empty                 28.4  20.00\n",
      " 469 science   V* FK Aqr  07:29:43.679 RG610~empty                 31.3  2.00\n",
      " 470 science   HD 212877  07:33:03.383 RG610~empty                199.7  2.00\n",
      " 471 science   HD 212877  07:33:31.484 RG610~empty                 28.1  2.00\n",
      " 472 science   HD 212877  07:33:41.239 RG610~empty                  9.8  20.00\n",
      " 473 engtest   HD 212877  07:34:08.391 RG610~empty                 27.2  20.00\n",
      " 474 engtest   HD 212877  07:34:35.948 RG610~empty                 27.6  20.00\n",
      " 475 science   HD 212877  07:35:07.173 RG610~empty                 31.2  2.00\n"
     ]
    }
   ],
   "source": [
    "reporter.printObsTable()"
   ]
  },
  {
   "cell_type": "code",
   "execution_count": 15,
   "id": "1090c8d1",
   "metadata": {},
   "outputs": [
    {
     "ename": "SyntaxError",
     "evalue": "invalid syntax (<ipython-input-15-0039b9705ac8>, line 1)",
     "output_type": "error",
     "traceback": [
      "\u001b[0;36m  File \u001b[0;32m\"<ipython-input-15-0039b9705ac8>\"\u001b[0;36m, line \u001b[0;32m1\u001b[0m\n\u001b[0;31m    alert False\u001b[0m\n\u001b[0m          ^\u001b[0m\n\u001b[0;31mSyntaxError\u001b[0m\u001b[0;31m:\u001b[0m invalid syntax\n"
     ]
    }
   ],
   "source": [
    "alert False"
   ]
  },
  {
   "cell_type": "markdown",
   "id": "61a8fed4",
   "metadata": {},
   "source": [
    "# Butler"
   ]
  },
  {
   "cell_type": "markdown",
   "id": "5b257fe2",
   "metadata": {},
   "source": [
    "## Configuration for Butler"
   ]
  },
  {
   "cell_type": "code",
   "execution_count": null,
   "id": "68a69f18",
   "metadata": {},
   "outputs": [],
   "source": [
    "#butler=dafPersist.Butler(\"/project/shared/auxTel\")\n",
    "butler=dafPersist.Butler(repoDir)"
   ]
  },
  {
   "cell_type": "markdown",
   "id": "bd5ac81e",
   "metadata": {},
   "source": [
    "## Sequence selection"
   ]
  },
  {
   "cell_type": "code",
   "execution_count": null,
   "id": "8857a6b4",
   "metadata": {},
   "outputs": [],
   "source": [
    "all_myseq_holo=range(98,107)\n",
    "all_myseq=all_myseq_holo"
   ]
  },
  {
   "cell_type": "code",
   "execution_count": null,
   "id": "79b92385",
   "metadata": {},
   "outputs": [],
   "source": [
    "seqNum=all_myseq_holo[0]"
   ]
  },
  {
   "cell_type": "code",
   "execution_count": null,
   "id": "4b6bb3fb",
   "metadata": {},
   "outputs": [],
   "source": [
    "seqNum"
   ]
  },
  {
   "cell_type": "markdown",
   "id": "109a2ee0",
   "metadata": {},
   "source": [
    "## Display"
   ]
  },
  {
   "cell_type": "code",
   "execution_count": null,
   "id": "3aa51179",
   "metadata": {},
   "outputs": [],
   "source": [
    "display1=afwDisplay.getDisplay(frame=1,port=80,name='sylviedc_debug_2021_07_06',url=os.environ[\"FIREFLY_URL\"])"
   ]
  },
  {
   "cell_type": "code",
   "execution_count": null,
   "id": "5a8a3b52",
   "metadata": {},
   "outputs": [],
   "source": [
    "raw=butler.get('raw',dayObs=dayObs,seqNum=seqNum)"
   ]
  },
  {
   "cell_type": "code",
   "execution_count": null,
   "id": "82238a38",
   "metadata": {},
   "outputs": [],
   "source": [
    "display1.mtv(raw)"
   ]
  },
  {
   "cell_type": "code",
   "execution_count": null,
   "id": "ed0c8dd9",
   "metadata": {},
   "outputs": [],
   "source": [
    "display1.getClient().display_url()"
   ]
  },
  {
   "cell_type": "code",
   "execution_count": null,
   "id": "fe513d32",
   "metadata": {},
   "outputs": [],
   "source": [
    "print(butler.queryMetadata('raw','seqNum',dayObs=dayObs))"
   ]
  },
  {
   "cell_type": "code",
   "execution_count": null,
   "id": "8ce65b4f",
   "metadata": {},
   "outputs": [],
   "source": [
    "#exp=butler.get('quickLookExp',dayObs=dayObs,seqNum=seqNum)"
   ]
  },
  {
   "cell_type": "markdown",
   "id": "7ae7ebac",
   "metadata": {},
   "source": [
    "## Meta Data"
   ]
  },
  {
   "cell_type": "code",
   "execution_count": null,
   "id": "b84be201",
   "metadata": {},
   "outputs": [],
   "source": [
    "md=butler.get(\"raw_md\",dayObs=dayObs,seqNum=seqNum)"
   ]
  },
  {
   "cell_type": "code",
   "execution_count": null,
   "id": "7fadd8d0",
   "metadata": {},
   "outputs": [],
   "source": [
    "md.toDict()"
   ]
  },
  {
   "cell_type": "markdown",
   "id": "2f7202a4",
   "metadata": {},
   "source": [
    "# Start"
   ]
  },
  {
   "cell_type": "code",
   "execution_count": null,
   "id": "d1f9cbce",
   "metadata": {},
   "outputs": [],
   "source": [
    "plt.rcParams[\"axes.labelsize\"] = 'large'\n",
    "plt.rcParams['axes.titlesize'] = 'large'\n",
    "plt.rcParams['xtick.labelsize']= 'large'\n",
    "plt.rcParams['ytick.labelsize']= 'large'"
   ]
  },
  {
   "cell_type": "code",
   "execution_count": null,
   "id": "a4017793",
   "metadata": {},
   "outputs": [],
   "source": [
    "all_my_raw_array=[]\n",
    "all_my_header=[]\n",
    "all_my_object=[]\n",
    "all_my_seq=[]\n",
    "all_my_grating=[]\n",
    "all_my_filter=[]\n",
    "all_my_date=[]\n",
    "\n",
    "\n",
    "for seqNum in all_myseq:\n",
    "    raw=butler.get('raw',dayObs=dayObs,seqNum=seqNum)\n",
    "    md=butler.get(\"raw_md\",dayObs=dayObs,seqNum=seqNum)\n",
    "    \n",
    "    header=md.toDict()\n",
    "    \n",
    "    #decode header\n",
    "    \n",
    "    obj_name=header['OBJECT']\n",
    "    obj_name2 = ''.join(obj_name.split())\n",
    "    grating=header['GRATING']\n",
    "    obsid=header['OBSID']\n",
    "    date=obsid.replace('AT_O_','') # remove pre-tag to get date only and seqnum\n",
    "    filter_name=header['FILTER']\n",
    "    filter_name2=filter_name.split(\"_\")[0]   # cut empty_1 to empty\n",
    "    \n",
    "    # select only pre-selected disperser\n",
    "    if grating == DISPERSER_SEL: \n",
    "        all_my_raw_array.append(np.copy(raw.image.array))\n",
    "        all_my_header.append(header)\n",
    "        all_my_object.append(obj_name2)\n",
    "        all_my_seq.append(header['SEQNUM'])\n",
    "        all_my_grating.append(grating)\n",
    "        all_my_filter.append(filter_name2)\n",
    "        all_my_date.append(date)"
   ]
  },
  {
   "cell_type": "markdown",
   "id": "0e24ec20",
   "metadata": {},
   "source": [
    "## Total number of images"
   ]
  },
  {
   "cell_type": "code",
   "execution_count": null,
   "id": "5ff63180",
   "metadata": {},
   "outputs": [],
   "source": [
    "NSEL=len(all_my_raw_array)"
   ]
  },
  {
   "cell_type": "code",
   "execution_count": null,
   "id": "ef5c3c30",
   "metadata": {},
   "outputs": [],
   "source": [
    "NSEL"
   ]
  },
  {
   "cell_type": "markdown",
   "id": "da7b1616",
   "metadata": {},
   "source": [
    "# Plot"
   ]
  },
  {
   "cell_type": "code",
   "execution_count": null,
   "id": "b4dd9753",
   "metadata": {},
   "outputs": [],
   "source": [
    "idx=0"
   ]
  },
  {
   "cell_type": "code",
   "execution_count": null,
   "id": "d1deecfc",
   "metadata": {},
   "outputs": [],
   "source": [
    "fig = plt.figure(figsize=(10,10))\n",
    "ax=fig.add_subplot(111)\n",
    "ax.imshow(all_my_raw_array[idx],origin='lower',cmap=\"jet\",norm=LogNorm())\n",
    "plt.show()"
   ]
  },
  {
   "cell_type": "code",
   "execution_count": null,
   "id": "8cedee7c",
   "metadata": {},
   "outputs": [],
   "source": [
    "\n",
    "Ncol=4\n",
    "Nrow=2\n",
    "Ntot=Ncol*Nrow\n",
    "\n",
    "fig = plt.figure(figsize=(20,20))\n",
    "\n",
    "# loop on angle\n",
    "for idx in np.arange(Ntot):\n",
    "    if idx>=NSEL:\n",
    "        break\n",
    "        \n",
    "    ax=fig.add_subplot(Nrow,Ncol,idx+1)\n",
    "    ax.imshow(all_my_raw_array[idx],origin='lower',cmap=\"jet\",norm=LogNorm())\n",
    "    ax.set_title(all_myseq[idx]) \n",
    "    ax.minorticks_on()\n",
    "    ax.set_aspect(\"equal\")\n",
    "    \n",
    "    #ax2=ax.twiny()\n",
    "    #ax2.imshow(all_my_raw_array[idx],origin='lower',cmap=\"jet\",norm=LogNorm())\n",
    "    #ax2.set_xlim(ax.get_xlim())\n",
    "    #ax2.minorticks_on()\n",
    "    \n",
    "    #ax.tick_params(which='major', length=10, width=2, direction='inout')\n",
    "    #ax.tick_params(which='minor', length=5, width=2, direction='inout')\n",
    "    #ax.grid(which='both')\n",
    "\n",
    "\n",
    "\n",
    "    #ax.set_aspect('equal')\n",
    "\n",
    "    #x1, x2 = ax.get_xlim() \n",
    "    #y1, y2 = ax.get_ylim() \n",
    "plt.show()"
   ]
  },
  {
   "cell_type": "code",
   "execution_count": null,
   "id": "3dc1dc9c",
   "metadata": {},
   "outputs": [],
   "source": [
    "#all_my_raw_array=[]\n",
    "#all_my_header=[]\n",
    "#all_my_object=[]\n",
    "#all_my_seq=[]\n",
    "#all_my_grating=[]\n",
    "#all_my_filter=[]\n"
   ]
  },
  {
   "cell_type": "code",
   "execution_count": null,
   "id": "b25a7116",
   "metadata": {},
   "outputs": [],
   "source": [
    "if FLAG_SAVE_IMAGE:\n",
    "  \n",
    "    for idx in np.arange(NSEL):\n",
    "        filename=all_my_grating[idx]+\"_\"+all_my_filter[idx]+\"_\"+all_my_object[idx]+\"_\"+all_my_date[idx]+\".fits\"\n",
    "        print(filename)\n",
    "    \n",
    "        hdr = fits.Header()\n",
    "    \n",
    "        for key,value in all_my_header[idx].items():\n",
    "            hdr[str(key)]=value\n",
    "        \n",
    "        hdu = fits.PrimaryHDU(data=all_my_raw_array[idx],header=hdr)  # with headers\n",
    "        #hdu = fits.PrimaryHDU(data=all_my_raw_array[idx])\n",
    "    \n",
    "        hdul = fits.HDUList([hdu])\n",
    "    \n",
    "        hdul.writeto(filename,overwrite=True)\n",
    "    \n",
    "        "
   ]
  },
  {
   "cell_type": "code",
   "execution_count": null,
   "id": "ae118248",
   "metadata": {},
   "outputs": [],
   "source": []
  }
 ],
 "metadata": {
  "kernelspec": {
   "display_name": "LSST",
   "language": "python",
   "name": "lsst"
  },
  "language_info": {
   "codemirror_mode": {
    "name": "ipython",
    "version": 3
   },
   "file_extension": ".py",
   "mimetype": "text/x-python",
   "name": "python",
   "nbconvert_exporter": "python",
   "pygments_lexer": "ipython3",
   "version": "3.8.8"
  }
 },
 "nbformat": 4,
 "nbformat_minor": 5
}
