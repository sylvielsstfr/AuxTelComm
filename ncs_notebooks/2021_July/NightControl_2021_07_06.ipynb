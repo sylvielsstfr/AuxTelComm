{
 "cells": [
  {
   "cell_type": "markdown",
   "id": "efff7569",
   "metadata": {},
   "source": [
    "# Observations for the night July 06th 2021 \n",
    "\n",
    "\n",
    "https://harvard.zoom.us/rec/play/N7umVF8Rk3vWvW_O3jkaTinofB2WxW3QKz0fVai_K-qvAYLt37uMrvskOlnBiMEjduSeQVzWT7_DDYzc.IY7Pqjef82YlWmZE?continueMode=true&_x_zm_rtaid=BjQYrDaETYeYRUMw8NQgLw.1613559822570.c813d210d38e378b719cb4048493df5b&_x_zm_rhtaid=205\n",
    "\n",
    "\n",
    "- work with Weakly_2021_26\n",
    "- use jupyter kernel LSST\n",
    "- requires the installation see https://github.com/stubbslab/PCWG-AuxTel/blob/main/setup_script.md\n",
    "- requires to write in file {HOME}/notebooks/.user_setups\n"
   ]
  },
  {
   "cell_type": "code",
   "execution_count": 1,
   "id": "6c25a570",
   "metadata": {},
   "outputs": [],
   "source": [
    "#! eups list -s"
   ]
  },
  {
   "cell_type": "code",
   "execution_count": 2,
   "id": "9ee10e16",
   "metadata": {},
   "outputs": [],
   "source": [
    "import os\n",
    "import matplotlib.pyplot as plt\n",
    "import numpy as np\n",
    "%matplotlib inline\n",
    "from matplotlib.colors import LogNorm\n",
    "\n",
    "from mpl_toolkits.axes_grid1 import make_axes_locatable\n",
    "\n",
    "import matplotlib.ticker                         # here's where the formatter is\n",
    "from matplotlib.ticker import (MultipleLocator, FormatStrFormatter,\n",
    "                               AutoMinorLocator)\n",
    "\n",
    "from astropy.io import fits"
   ]
  },
  {
   "cell_type": "code",
   "execution_count": 3,
   "id": "d5d902fa",
   "metadata": {},
   "outputs": [],
   "source": [
    "import lsst.daf.persistence as dafPersist\n",
    "import lsst.afw.display as afwDisplay\n",
    "afwDisplay.setDefaultBackend(\"lsst.display.firefly\")"
   ]
  },
  {
   "cell_type": "code",
   "execution_count": 4,
   "id": "d6c2c2db",
   "metadata": {},
   "outputs": [],
   "source": [
    "# correct for bug in stack in wl_2021_02\n",
    "%config IPCompleter.use_jedi=False"
   ]
  },
  {
   "cell_type": "code",
   "execution_count": 5,
   "id": "ec2deaf7",
   "metadata": {},
   "outputs": [],
   "source": [
    "FLAG_SAVE_IMAGE=True"
   ]
  },
  {
   "cell_type": "code",
   "execution_count": 6,
   "id": "08ba6615",
   "metadata": {},
   "outputs": [
    {
     "name": "stdout",
     "output_type": "stream",
     "text": [
      "calexp\ticExp  postISRCCD\t     repositoryCfg.yaml  spectractorOutput\n",
      "config\ticSrc  processStar_metadata  schema\n"
     ]
    }
   ],
   "source": [
    "!ls /project/shared/auxTel/rerun/mfl/slurmRun"
   ]
  },
  {
   "cell_type": "code",
   "execution_count": 7,
   "id": "b0e88719",
   "metadata": {},
   "outputs": [
    {
     "name": "stdout",
     "output_type": "stream",
     "text": [
      "CALIB\t   CALIB-OLD\t CALIB-RHL  icSrc    _parent.old  rerun\n",
      "CALIB_OLD  calibrations  Fossil     _parent  ref_cats\n"
     ]
    }
   ],
   "source": [
    "!ls /project/shared/auxTel"
   ]
  },
  {
   "cell_type": "code",
   "execution_count": 8,
   "id": "8abe6924",
   "metadata": {},
   "outputs": [
    {
     "name": "stdout",
     "output_type": "stream",
     "text": [
      "total 16\n",
      "drwxr-sr-x  3 57489 1363 4096 Mar 18  2020 adriansh\n",
      "drwxr-sr-x  9 49813 1363 4096 Apr 23  2020 calib_construction\n",
      "drwxrwsr-x 14 56749 1363 4096 Mar 17 16:59 cslage\n",
      "drwxrwsrwx  3 49813 1363 4096 Feb 24 18:00 jneveu\n",
      "drwxrwsr-x  3 49803 1363 4096 Mar 22 20:32 lauren\n",
      "lrwxrwxrwx  1 49813 1363   25 Aug  7  2020 mfl -> /project/mfl/auxTelReruns\n",
      "drwxr-sr-x  4 56509 1363 4096 Apr 24  2020 nmondrik\n",
      "drwxr-sr-x  5 49813 1363 4096 Apr 23  2020 old_calibs\n",
      "drwxr-sr-x 34 57167 1363 4096 Dec 15  2020 plazas\n",
      "drwxr-sr-x  2 49813 1363 4096 Jan 29  2020 processCcdTesting\n",
      "drwxrwsrwx  9 49813 1363 4096 May 16 20:28 quickLook\n",
      "drwxr-sr-x  2 49813 1363 4096 Jul  7 01:07 quickLookExp\n",
      "lrwxrwxrwx  1 37341 1363   25 Apr 30  2019 rhl -> /project/rhl/rerun/auxTel\n",
      "drwxr-sr-x  3 48974 1363 4096 Feb 27  2020 swinbank\n",
      "drwxr-sr-x  3 49813 1363 4096 May  5  2020 test\n",
      "drwxrwsr-x  3 37341 1363 4096 May 10  2019 XXXXX\n"
     ]
    }
   ],
   "source": [
    "!ls /project/shared/auxTel/rerun -l"
   ]
  },
  {
   "cell_type": "markdown",
   "id": "f7033396",
   "metadata": {},
   "source": [
    "# Configuration"
   ]
  },
  {
   "cell_type": "markdown",
   "id": "44c00740",
   "metadata": {},
   "source": [
    "## Location and date"
   ]
  },
  {
   "cell_type": "code",
   "execution_count": 9,
   "id": "8d6a25fd",
   "metadata": {},
   "outputs": [
    {
     "name": "stderr",
     "output_type": "stream",
     "text": [
      "/home/dagoret/repos/rapid_analysis/python/lsst/rapid/analysis/nightReport.py:79: FutureWarning: Gen2 Butler has been deprecated (Butler). It will be removed sometime after v23.0 but no earlier than the end of 2021.\n",
      "  self._butler = dafPersist.Butler(repoDir)\n",
      "/home/dagoret/repos/rapid_analysis/python/lsst/rapid/analysis/nightReport.py:79: FutureWarning: Gen2 Butler has been deprecated (LatissMapper). It will be removed sometime after v23.0 but no earlier than the end of 2021.\n",
      "  self._butler = dafPersist.Butler(repoDir)\n"
     ]
    },
    {
     "name": "stdout",
     "output_type": "stream",
     "text": [
      "Loaded data for seqNums 2 to 294\n"
     ]
    }
   ],
   "source": [
    "from lsst.rapid.analysis.nightReport import NightReporter\n",
    "# data exist here\n",
    "repoDir='/project/shared/auxTel'\n",
    "# recommended but wrong\n",
    "#repoDir='project/shared/auxTel/rerun/mfl/slurmRun'\n",
    "dayObs=\"2021-07-06\"\n",
    "reporter=NightReporter(repoDir,dayObs)"
   ]
  },
  {
   "cell_type": "markdown",
   "id": "5e7004a9",
   "metadata": {},
   "source": [
    "# Selection"
   ]
  },
  {
   "cell_type": "code",
   "execution_count": 10,
   "id": "78bb65fb",
   "metadata": {},
   "outputs": [],
   "source": [
    "DISPERSER_SEL=\"holo4_003\""
   ]
  },
  {
   "cell_type": "markdown",
   "id": "c7674c78",
   "metadata": {},
   "source": [
    "# Information from reporter"
   ]
  },
  {
   "cell_type": "code",
   "execution_count": 11,
   "id": "7cfbb1c0",
   "metadata": {},
   "outputs": [
    {
     "name": "stdout",
     "output_type": "stream",
     "text": [
      "['HD 120144', 'HD 114584', 'HD  96442', 'HD 111406', 'HD 127346', 'HD 155099A', 'HD 167385', 'HD 132122', 'HD 135310', 'HD 114243', 'HD 118421', 'HD 146501', 'HD 151566A', '97VIR', 'HD 170149', 'V942 Cen', 'HD 112272', 'HD 129805', 'HD 158748', 'HD 159937', 'HD 105610', 'HD 148382', 'HD 142805', 'HD 139681', 'HD 116081', 'HD 115026', 'HD 123227A', 'HD 144399', 'HD 161516', 'HD 142699', 'HD 140605', 'HD 116622A', 'HD 144350', 'HD 130801', 'HD 121620', 'HD 110575', 'HD 182708', 'HD 144928', 'HD 152723', 'HD 112361A', 'HD 134313', 'HD 151966', 'HD 133716', 'HD 127785', 'HD 177455', 'HD 138810']\n"
     ]
    }
   ],
   "source": [
    "print(reporter.getObservedObjects())"
   ]
  },
  {
   "cell_type": "code",
   "execution_count": 12,
   "id": "65458f71",
   "metadata": {},
   "outputs": [],
   "source": [
    "reporter.makePolarPlotForObjects()"
   ]
  },
  {
   "cell_type": "code",
   "execution_count": 13,
   "id": "ec2d3b78",
   "metadata": {},
   "outputs": [],
   "source": [
    "reporter.plotPerObjectAirMass()"
   ]
  },
  {
   "cell_type": "code",
   "execution_count": 14,
   "id": "4a260d78",
   "metadata": {},
   "outputs": [
    {
     "name": "stdout",
     "output_type": "stream",
     "text": [
      "{seqNum:4} {imageType:9} {obj:10} {timeOfDay} {filt:25} {dt.sec:6.1f}  {expTime:2.2f}\n",
      "   2 bias      azel_target 22:54:17.803 RG610~empty                  0.0  0.00\n",
      "   3 bias      azel_target 22:54:22.300 RG610~empty                  4.5  0.00\n",
      "   4 bias      azel_target 22:54:26.798 RG610~empty                  4.5  0.00\n",
      "   5 bias      azel_target 22:54:31.293 RG610~empty                  4.5  0.00\n",
      "   6 bias      azel_target 22:54:35.793 RG610~empty                  4.5  0.00\n",
      "   7 bias      azel_target 22:54:40.291 RG610~empty                  4.5  0.00\n",
      "   8 bias      azel_target 22:54:44.807 RG610~empty                  4.5  0.00\n",
      "   9 bias      azel_target 22:54:49.309 RG610~empty                  4.5  0.00\n",
      "  10 bias      azel_target 22:54:53.812 RG610~empty                  4.5  0.00\n",
      "  11 bias      azel_target 22:54:58.307 RG610~empty                  4.5  0.00\n",
      "  12 bias      azel_target 22:55:02.804 RG610~empty                  4.5  0.00\n",
      "  13 bias      azel_target 22:55:07.299 RG610~empty                  4.5  0.00\n",
      "  14 bias      azel_target 22:55:11.797 RG610~empty                  4.5  0.00\n",
      "  15 bias      azel_target 22:55:16.294 RG610~empty                  4.5  0.00\n",
      "  16 bias      azel_target 22:55:20.792 RG610~empty                  4.5  0.00\n",
      "  17 bias      azel_target 22:55:25.289 RG610~empty                  4.5  0.00\n",
      "  18 bias      azel_target 22:55:29.790 RG610~empty                  4.5  0.00\n",
      "  19 bias      azel_target 22:55:34.291 RG610~empty                  4.5  0.00\n",
      "  20 bias      azel_target 22:55:38.787 RG610~empty                  4.5  0.00\n",
      "  21 bias      azel_target 22:55:43.306 RG610~empty                  4.5  0.00\n",
      "  22 bias      azel_target 22:55:47.805 RG610~empty                  4.5  0.00\n",
      "  23 bias      azel_target 22:55:52.305 RG610~empty                  4.5  0.00\n",
      "  24 bias      azel_target 22:55:56.804 RG610~empty                  4.5  0.00\n",
      "  25 bias      azel_target 22:56:01.315 RG610~empty                  4.5  0.00\n",
      "  26 bias      azel_target 22:56:05.815 RG610~empty                  4.5  0.00\n",
      "  27 bias      azel_target 22:56:10.321 RG610~empty                  4.5  0.00\n",
      "  28 bias      azel_target 22:56:14.823 RG610~empty                  4.5  0.00\n",
      "  29 bias      azel_target 22:56:19.323 RG610~empty                  4.5  0.00\n",
      "  30 bias      azel_target 22:56:23.825 RG610~empty                  4.5  0.00\n",
      "  31 bias      azel_target 22:56:28.319 RG610~empty                  4.5  0.00\n",
      "  32 bias      azel_target 22:56:32.817 RG610~empty                  4.5  0.00\n",
      "  33 bias      azel_target 22:56:37.315 RG610~empty                  4.5  0.00\n",
      "  34 bias      azel_target 22:56:41.810 RG610~empty                  4.5  0.00\n",
      "  35 bias      azel_target 22:56:46.308 RG610~empty                  4.5  0.00\n",
      "  36 bias      azel_target 22:56:50.811 RG610~empty                  4.5  0.00\n",
      "  37 bias      azel_target 22:56:55.313 RG610~empty                  4.5  0.00\n",
      "  38 bias      azel_target 22:56:59.808 RG610~empty                  4.5  0.00\n",
      "  39 bias      azel_target 22:57:04.307 RG610~empty                  4.5  0.00\n",
      "  40 bias      azel_target 22:57:08.804 RG610~empty                  4.5  0.00\n",
      "  41 bias      azel_target 22:57:13.308 RG610~empty                  4.5  0.00\n",
      "  42 bias      azel_target 22:57:17.827 RG610~empty                  4.5  0.00\n",
      "  43 bias      azel_target 22:57:22.331 RG610~empty                  4.5  0.00\n",
      "  44 bias      azel_target 22:57:26.839 RG610~empty                  4.5  0.00\n",
      "  45 bias      azel_target 22:57:31.337 RG610~empty                  4.5  0.00\n",
      "  46 bias      azel_target 22:57:35.837 RG610~empty                  4.5  0.00\n",
      "  47 bias      azel_target 22:57:40.333 RG610~empty                  4.5  0.00\n",
      "  48 bias      azel_target 22:57:44.831 RG610~empty                  4.5  0.00\n",
      "  49 bias      azel_target 22:57:49.326 RG610~empty                  4.5  0.00\n",
      "  50 bias      azel_target 22:57:53.824 RG610~empty                  4.5  0.00\n",
      "  51 bias      azel_target 22:57:58.323 RG610~empty                  4.5  0.00\n",
      "  52 science   HD 110575  23:21:38.826 RG610~empty               1420.5  5.00\n",
      "  53 engtest   HD 110575  23:26:10.749 RG610~empty                271.9  20.00\n",
      "  54 engtest   HD 110575  23:26:38.752 RG610~empty                 28.0  20.00\n",
      "  55 engtest   HD 110575  23:44:33.817 RG610~empty               1075.1  20.00\n",
      "  56 engtest   HD 110575  23:45:01.340 RG610~empty                 27.5  20.00\n",
      "  57 engtest   HD 110575  23:46:38.232 RG610~empty                 96.9  20.00\n",
      "  58 engtest   HD 110575  23:47:05.817 RG610~empty                 27.6  20.00\n",
      "  59 science   HD 110575  23:48:41.729 RG610~empty                 95.9  5.00\n",
      "  60 science   V942 Cen   00:07:41.260 RG610~empty               1139.5  5.00\n",
      "  61 science   HD 114243  00:10:18.256 RG610~empty                157.0  5.00\n",
      "  62 science   HD 116622A 00:13:01.954 RG610~empty                163.7  5.00\n",
      "  63 science   97VIR      00:15:21.104 RG610~empty                139.1  5.00\n",
      "  64 science   HD 130801  00:17:28.054 RG610~empty                126.9  5.00\n",
      "  65 science   HD 138810  00:19:27.516 RG610~empty                119.5  5.00\n",
      "  66 science   HD 142805  00:20:58.670 RG610~empty                 91.2  5.00\n",
      "  67 science   HD 144928  00:24:24.555 RG610~empty                205.9  5.00\n",
      "  68 science   HD 144350  00:26:32.420 RG610~empty                127.9  5.00\n",
      "  69 science   HD 135310  00:29:27.208 RG610~empty                174.8  5.00\n",
      "  70 science   HD 123227A 00:31:24.007 RG610~empty                116.8  5.00\n",
      "  71 science   HD 116081  00:33:02.253 RG610~empty                 98.2  5.00\n",
      "  72 science   HD 115026  00:34:26.151 RG610~empty                 83.9  5.00\n",
      "  73 engtest   HD 120144  00:41:33.094 RG610~empty                426.9  20.00\n",
      "  74 engtest   HD 120144  00:42:00.582 RG610~empty                 27.5  20.00\n",
      "  75 science   HD 120144  00:43:42.090 RG610~empty                101.5  5.00\n",
      "  76 science   HD 120144  00:52:12.512 RG610~ronchi170lpmm        510.4  0.50\n",
      "  77 science   HD 120144  00:52:45.628 RG610~ronchi170lpmm         33.1  0.50\n",
      "  78 science   HD 120144  00:53:17.524 RG610~ronchi170lpmm         31.9  0.50\n",
      "  79 science   HD 120144  00:53:49.377 RG610~ronchi170lpmm         31.9  0.50\n",
      "  80 science   HD 120144  00:58:03.769 RG610~ronchi170lpmm        254.4  5.00\n",
      "  81 science   HD 120144  00:58:12.885 RG610~ronchi170lpmm          9.1  5.00\n",
      "  82 science   HD 120144  00:58:22.604 RG610~ronchi170lpmm          9.7  5.00\n",
      "  83 science   HD 120144  00:58:31.827 RG610~ronchi170lpmm          9.2  5.00\n",
      "  84 science   HD 120144  00:58:41.251 RG610~ronchi170lpmm          9.4  5.00\n",
      "  85 science   HD 120144  00:58:50.359 RG610~ronchi170lpmm          9.1  5.00\n",
      "  86 science   HD 120144  00:58:59.792 RG610~ronchi170lpmm          9.4  5.00\n",
      "  87 science   HD 120144  00:59:09.262 RG610~ronchi170lpmm          9.5  5.00\n",
      "  88 science   HD 120144  00:59:18.466 RG610~ronchi170lpmm          9.2  5.00\n",
      "  89 science   HD 120144  01:01:12.997 RG610~ronchi170lpmm        114.5  20.00\n",
      "  90 science   HD 120144  01:01:37.594 RG610~ronchi170lpmm         24.6  20.00\n",
      "  91 science   HD 120144  01:02:02.016 RG610~ronchi170lpmm         24.4  20.00\n",
      "  92 science   HD 120144  01:02:26.552 RG610~ronchi170lpmm         24.5  20.00\n",
      "  93 science   HD 120144  01:02:51.052 RG610~ronchi170lpmm         24.5  20.00\n",
      "  94 science   HD 120144  01:03:15.549 RG610~ronchi170lpmm         24.5  20.00\n",
      "  95 science   HD 120144  01:03:40.031 RG610~ronchi170lpmm         24.5  20.00\n",
      "  96 science   HD 120144  01:04:04.528 RG610~ronchi170lpmm         24.5  20.00\n",
      "  97 science   HD 120144  01:04:29.007 RG610~ronchi170lpmm         24.5  20.00\n",
      "  98 science   HD 120144  01:16:33.033 RG610~holo4_003            724.0  20.00\n",
      "  99 science   HD 120144  01:17:01.054 RG610~holo4_003             28.0  20.00\n",
      " 100 science   HD 120144  01:17:25.525 RG610~holo4_003             24.5  20.00\n",
      " 101 science   HD 120144  01:17:50.010 RG610~holo4_003             24.5  20.00\n",
      " 102 science   HD 120144  01:18:14.601 RG610~holo4_003             24.6  20.00\n",
      " 103 science   HD 120144  01:18:38.991 RG610~holo4_003             24.4  20.00\n",
      " 104 science   HD 120144  01:19:03.593 RG610~holo4_003             24.6  20.00\n",
      " 105 science   HD 120144  01:19:27.983 RG610~holo4_003             24.4  20.00\n",
      " 106 science   HD 120144  01:19:52.570 RG610~holo4_003             24.6  20.00\n",
      " 107 science   HD 133716  01:35:28.303 RG610~empty                935.7  5.00\n",
      " 108 science   HD 133716  01:36:08.206 RG610~empty                 39.9  5.00\n",
      " 109 engtest   HD 133716  01:38:09.775 RG610~empty                121.6  20.00\n",
      " 110 engtest   HD 133716  01:38:37.277 RG610~empty                 27.5  20.00\n",
      " 111 science   HD 133716  01:40:15.544 RG610~empty                 98.3  5.00\n",
      " 112 science   HD 129805  01:42:47.801 RG610~empty                152.3  5.00\n",
      " 113 engtest   HD 129805  01:43:36.759 RG610~empty                 49.0  20.00\n",
      " 114 engtest   HD 129805  01:44:04.302 RG610~empty                 27.5  20.00\n",
      " 115 science   HD 129805  01:45:39.972 RG610~empty                 95.7  5.00\n",
      " 116 science   HD 120144  01:47:10.084 RG610~empty                 90.1  5.00\n",
      " 117 engtest   HD 120144  01:47:58.640 RG610~empty                 48.6  20.00\n",
      " 118 engtest   HD 120144  01:48:26.054 RG610~empty                 27.4  20.00\n",
      " 119 science   HD 120144  01:50:04.083 RG610~empty                 98.0  5.00\n",
      " 120 science   HD 114584  01:52:18.886 RG610~empty                134.8  5.00\n",
      " 121 engtest   HD 114584  01:53:06.035 RG610~empty                 47.1  20.00\n",
      " 122 engtest   HD 114584  01:53:34.022 RG610~empty                 28.0  20.00\n",
      " 123 science   HD 114584  01:55:14.297 RG610~empty                100.3  5.00\n",
      " 124 science   HD 105610  01:59:44.880 RG610~empty                270.6  5.00\n",
      " 125 science   HD 105610  02:09:16.905 RG610~empty                572.0  5.00\n",
      " 126 engtest   HD 105610  02:09:56.561 RG610~empty                 39.7  20.00\n",
      " 127 engtest   HD 105610  02:10:24.618 RG610~empty                 28.1  20.00\n",
      " 128 engtest   HD 105610  02:12:03.790 RG610~empty                 99.2  20.00\n",
      " 129 engtest   HD 105610  02:12:31.788 RG610~empty                 28.0  20.00\n",
      " 130 science   HD 105610  02:14:09.272 RG610~empty                 97.5  5.00\n",
      " 131 science   HD  96442  02:16:34.552 RG610~empty                145.3  5.00\n",
      " 132 engtest   HD  96442  02:20:46.738 RG610~empty                252.2  20.00\n",
      " 133 engtest   HD  96442  02:21:13.839 RG610~empty                 27.1  20.00\n",
      " 134 engtest   HD  96442  02:22:51.353 RG610~empty                 97.5  20.00\n",
      " 135 engtest   HD  96442  02:23:18.490 RG610~empty                 27.1  20.00\n",
      " 136 science   HD  96442  02:24:55.673 RG610~empty                 97.2  5.00\n",
      " 137 science   HD 105610  03:02:22.079 RG610~empty               2246.4  5.00\n",
      " 138 engtest   HD 105610  03:03:27.822 RG610~empty                 65.7  20.00\n",
      " 139 engtest   HD 105610  03:03:55.798 RG610~empty                 28.0  20.00\n",
      " 140 science   HD 105610  03:05:33.279 RG610~empty                 97.5  5.00\n",
      " 141 science   HD 111406  03:08:40.950 RG610~empty                187.7  5.00\n",
      " 142 engtest   HD 111406  03:10:06.348 RG610~empty                 85.4  20.00\n",
      " 143 engtest   HD 111406  03:10:33.462 RG610~empty                 27.1  20.00\n",
      " 144 engtest   HD 111406  03:12:10.079 RG610~empty                 96.6  20.00\n",
      " 145 engtest   HD 111406  03:12:37.664 RG610~empty                 27.6  20.00\n",
      " 146 science   HD 111406  03:14:16.225 RG610~empty                 98.6  5.00\n",
      " 147 science   HD 121620  03:15:53.554 RG610~empty                 97.3  5.00\n",
      " 148 science   HD 121620  03:17:12.240 RG610~empty                 78.7  5.00\n",
      " 149 engtest   HD 121620  03:19:05.764 RG610~empty                113.5  20.00\n",
      " 150 engtest   HD 121620  03:19:33.758 RG610~empty                 28.0  20.00\n",
      " 151 engtest   HD 121620  03:21:11.079 RG610~empty                 97.3  20.00\n",
      " 152 engtest   HD 121620  03:21:38.601 RG610~empty                 27.5  20.00\n",
      " 153 science   HD 121620  03:23:17.927 RG610~empty                 99.3  5.00\n",
      " 154 science   HD 132122  03:25:33.848 RG610~empty                135.9  5.00\n",
      " 155 engtest   HD 132122  03:26:17.650 RG610~empty                 43.8  20.00\n",
      " 156 engtest   HD 132122  03:26:45.564 RG610~empty                 27.9  20.00\n",
      " 157 engtest   HD 132122  03:28:23.980 RG610~empty                 98.4  20.00\n",
      " 158 engtest   HD 132122  03:28:52.083 RG610~empty                 28.1  20.00\n",
      " 159 science   HD 132122  03:30:32.266 RG610~empty                100.2  5.00\n",
      " 160 science   HD 144399  03:33:01.402 RG610~empty                149.1  5.00\n",
      " 161 engtest   HD 144399  03:33:43.311 RG610~empty                 41.9  20.00\n",
      " 162 engtest   HD 144399  03:34:10.801 RG610~empty                 27.5  20.00\n",
      " 163 engtest   HD 144399  03:35:46.733 RG610~empty                 95.9  20.00\n",
      " 164 engtest   HD 144399  03:36:14.271 RG610~empty                 27.5  20.00\n",
      " 165 science   HD 144399  03:37:51.226 RG610~empty                 97.0  5.00\n",
      " 166 science   HD 152723  03:40:30.002 RG610~empty                158.8  5.00\n",
      " 167 engtest   HD 152723  03:41:55.579 RG610~empty                 85.6  20.00\n",
      " 168 engtest   HD 152723  03:42:23.078 RG610~empty                 27.5  20.00\n",
      " 169 engtest   HD 152723  03:44:01.327 RG610~empty                 98.2  20.00\n",
      " 170 engtest   HD 152723  03:44:28.852 RG610~empty                 27.5  20.00\n",
      " 171 engtest   HD 152723  03:46:05.546 RG610~empty                 96.7  20.00\n",
      " 172 engtest   HD 152723  03:46:33.052 RG610~empty                 27.5  20.00\n",
      " 173 science   HD 152723  03:48:12.784 RG610~empty                 99.7  5.00\n",
      " 174 science   HD 159937  03:56:24.027 RG610~empty                491.2  5.00\n",
      " 175 engtest   HD 159937  03:57:37.541 RG610~empty                 73.5  20.00\n",
      " 176 engtest   HD 159937  03:58:05.078 RG610~empty                 27.5  20.00\n",
      " 177 engtest   HD 159937  03:59:44.545 RG610~empty                 99.5  20.00\n",
      " 178 engtest   HD 159937  04:00:12.052 RG610~empty                 27.5  20.00\n",
      " 179 science   HD 159937  04:01:52.975 RG610~empty                100.9  5.00\n",
      " 180 science   HD 151966  04:07:00.431 RG610~empty                307.5  5.00\n",
      " 181 engtest   HD 151966  04:07:37.309 RG610~empty                 36.9  20.00\n",
      " 182 engtest   HD 151966  04:08:04.841 RG610~empty                 27.5  20.00\n",
      " 183 engtest   HD 151966  04:09:41.761 RG610~empty                 96.9  20.00\n",
      " 184 engtest   HD 151966  04:10:09.262 RG610~empty                 27.5  20.00\n",
      " 185 science   HD 151966  04:11:50.744 RG610~empty                101.5  5.00\n",
      " 186 science   HD 146501  04:13:55.913 RG610~empty                125.2  5.00\n",
      " 187 engtest   HD 146501  04:14:31.765 RG610~empty                 35.9  20.00\n",
      " 188 engtest   HD 146501  04:14:59.231 RG610~empty                 27.5  20.00\n",
      " 189 engtest   HD 146501  04:16:38.575 RG610~empty                 99.3  20.00\n",
      " 190 engtest   HD 146501  04:17:05.979 RG610~empty                 27.4  20.00\n",
      " 191 science   HD 146501  04:18:46.576 RG610~empty                100.6  5.00\n",
      " 192 science   HD 139681  04:21:35.052 RG610~empty                168.5  5.00\n",
      " 193 engtest   HD 139681  04:23:00.537 RG610~empty                 85.5  20.00\n",
      " 194 engtest   HD 139681  04:23:28.518 RG610~empty                 28.0  20.00\n",
      " 195 engtest   HD 139681  04:25:09.260 RG610~empty                100.7  20.00\n",
      " 196 engtest   HD 139681  04:25:37.078 RG610~empty                 27.8  20.00\n",
      " 197 science   HD 139681  04:27:19.288 RG610~empty                102.2  5.00\n",
      " 198 science   HD 127346  04:29:23.633 RG610~empty                124.3  5.00\n",
      " 199 engtest   HD 127346  04:30:32.773 RG610~empty                 69.1  20.00\n",
      " 200 engtest   HD 127346  04:31:00.305 RG610~empty                 27.5  20.00\n",
      " 201 engtest   HD 127346  04:32:40.021 RG610~empty                 99.7  20.00\n",
      " 202 engtest   HD 127346  04:33:08.026 RG610~empty                 28.0  20.00\n",
      " 203 science   HD 127346  04:34:52.762 RG610~empty                104.7  5.00\n",
      " 204 science   HD 118421  04:36:23.962 RG610~empty                 91.2  5.00\n",
      " 205 engtest   HD 118421  04:37:23.802 RG610~empty                 59.8  20.00\n",
      " 206 engtest   HD 118421  04:37:51.328 RG610~empty                 27.5  20.00\n",
      " 207 engtest   HD 118421  04:39:31.327 RG610~empty                100.0  20.00\n",
      " 208 engtest   HD 118421  04:39:58.813 RG610~empty                 27.5  20.00\n",
      " 209 science   HD 118421  04:41:41.794 RG610~empty                103.0  5.00\n",
      " 210 science   HD 112361A 04:43:32.691 RG610~empty                110.9  5.00\n",
      " 211 science   HD 112361A 04:43:57.574 RG610~empty                 24.9  5.00\n",
      " 212 science   HD 112361A 04:44:45.349 RG610~empty                 47.8  5.00\n",
      " 213 science   HD 112272  04:49:52.754 RG610~empty                307.4  5.00\n",
      " 214 engtest   HD 112272  04:51:40.527 RG610~empty                107.8  20.00\n",
      " 215 engtest   HD 112272  04:52:07.623 RG610~empty                 27.1  20.00\n",
      " 216 engtest   HD 112272  04:53:42.079 RG610~empty                 94.5  20.00\n",
      " 217 engtest   HD 112272  04:54:09.169 RG610~empty                 27.1  20.00\n",
      " 218 science   HD 127785  04:56:42.883 RG610~empty                153.7  5.00\n",
      " 219 engtest   HD 127785  04:57:33.864 RG610~empty                 51.0  20.00\n",
      " 220 engtest   HD 127785  04:58:01.305 RG610~empty                 27.4  20.00\n",
      " 221 engtest   HD 127785  04:59:36.817 RG610~empty                 95.5  20.00\n",
      " 222 engtest   HD 127785  05:00:04.803 RG610~empty                 28.0  20.00\n",
      " 223 science   HD 127785  05:01:40.918 RG610~empty                 96.1  5.00\n",
      " 224 science   HD 142699  05:04:59.921 RG610~empty                199.0  5.00\n",
      " 225 engtest   HD 142699  05:05:51.573 RG610~empty                 51.7  20.00\n",
      " 226 engtest   HD 142699  05:06:19.577 RG610~empty                 28.0  20.00\n",
      " 227 engtest   HD 142699  05:07:54.978 RG610~empty                 95.4  20.00\n",
      " 228 engtest   HD 142699  05:08:23.032 RG610~empty                 28.1  20.00\n",
      " 229 science   HD 142699  05:10:00.382 RG610~empty                 97.4  5.00\n",
      " 230 science   HD 155099A 05:12:04.749 RG610~empty                124.4  5.00\n",
      " 231 engtest   HD 155099A 05:12:53.518 RG610~empty                 48.8  20.00\n",
      " 232 engtest   HD 155099A 05:13:21.588 RG610~empty                 28.1  20.00\n",
      " 233 engtest   HD 155099A 05:14:57.815 RG610~empty                 96.2  20.00\n",
      " 234 engtest   HD 155099A 05:15:25.564 RG610~empty                 27.7  20.00\n",
      " 235 engtest   HD 155099A 05:16:58.828 RG610~empty                 93.3  20.00\n",
      " 236 engtest   HD 155099A 05:17:26.569 RG610~empty                 27.7  20.00\n",
      " 237 science   HD 155099A 05:19:00.119 RG610~empty                 93.6  5.00\n",
      " 238 science   HD 167385  05:21:10.333 RG610~empty                130.2  5.00\n",
      " 239 engtest   HD 167385  05:21:55.146 RG610~empty                 44.8  20.00\n",
      " 240 engtest   HD 167385  05:22:22.538 RG610~empty                 27.4  20.00\n",
      " 241 engtest   HD 167385  05:23:56.559 RG610~empty                 94.0  20.00\n",
      " 242 engtest   HD 167385  05:24:24.056 RG610~empty                 27.5  20.00\n",
      " 243 science   HD 167385  05:26:01.530 RG610~empty                 97.5  5.00\n",
      " 244 science   HD 177455  05:28:04.190 RG610~empty                122.7  5.00\n",
      " 245 engtest   HD 177455  05:28:52.301 RG610~empty                 48.1  20.00\n",
      " 246 engtest   HD 177455  05:29:19.820 RG610~empty                 27.5  20.00\n",
      " 247 science   HD 177455  05:30:56.082 RG610~empty                 96.3  5.00\n",
      " 248 science   HD 182708  05:33:34.425 RG610~empty                158.3  5.00\n",
      " 249 engtest   HD 182708  05:34:16.035 RG610~empty                 41.6  20.00\n",
      " 250 engtest   HD 182708  05:34:43.527 RG610~empty                 27.5  20.00\n",
      " 251 science   HD 182708  05:36:19.172 RG610~empty                 95.6  5.00\n",
      " 252 science   HD 170149  05:39:19.059 RG610~empty                179.9  5.00\n",
      " 253 engtest   HD 170149  05:40:03.522 RG610~empty                 44.5  20.00\n",
      " 254 engtest   HD 170149  05:40:31.022 RG610~empty                 27.5  20.00\n",
      " 255 science   HD 170149  05:42:11.831 RG610~empty                100.8  5.00\n",
      " 256 science   HD 161516  05:44:21.817 RG610~empty                130.0  5.00\n",
      " 257 engtest   HD 161516  05:45:22.773 RG610~empty                 61.0  20.00\n",
      " 258 engtest   HD 161516  05:45:50.318 RG610~empty                 27.5  20.00\n",
      " 259 science   HD 161516  05:47:30.133 RG610~empty                 99.8  5.00\n",
      " 260 science   HD 151566A 05:50:37.780 RG610~empty                187.6  5.00\n",
      " 261 science   HD 148382  05:55:21.231 RG610~empty                283.5  5.00\n",
      " 262 science   HD 148382  05:57:26.709 RG610~empty                125.5  5.00\n",
      " 263 engtest   HD 148382  05:59:13.618 RG610~empty                106.9  20.00\n",
      " 264 engtest   HD 148382  05:59:41.321 RG610~empty                 27.7  20.00\n",
      " 265 engtest   HD 148382  06:01:21.245 RG610~empty                 99.9  20.00\n",
      " 266 engtest   HD 148382  06:01:49.271 RG610~empty                 28.0  20.00\n",
      " 267 science   HD 148382  06:03:28.036 RG610~empty                 98.8  5.00\n",
      " 268 science   HD 140605  06:08:06.510 RG610~empty                278.5  5.00\n",
      " 269 engtest   HD 140605  06:09:43.578 RG610~empty                 97.1  20.00\n",
      " 270 engtest   HD 140605  06:10:10.714 RG610~empty                 27.1  20.00\n",
      " 271 engtest   HD 140605  06:11:48.531 RG610~empty                 97.8  20.00\n",
      " 272 engtest   HD 140605  06:12:15.666 RG610~empty                 27.1  20.00\n",
      " 273 science   HD 140605  06:13:54.700 RG610~empty                 99.0  5.00\n",
      " 274 science   HD 134313  06:17:34.159 RG610~empty                219.5  5.00\n",
      " 275 engtest   HD 134313  06:18:38.313 RG610~empty                 64.2  20.00\n",
      " 276 engtest   HD 134313  06:19:05.448 RG610~empty                 27.1  20.00\n",
      " 277 engtest   HD 134313  06:20:42.890 RG610~empty                 97.4  20.00\n",
      " 278 engtest   HD 134313  06:21:10.842 RG610~empty                 28.0  20.00\n",
      " 279 science   HD 134313  06:22:50.586 RG610~empty                 99.7  5.00\n",
      " 280 science   HD 158748  06:25:19.416 RG610~empty                148.8  5.00\n",
      " 281 engtest   HD 158748  06:26:39.943 RG610~empty                 80.5  20.00\n",
      " 282 engtest   HD 158748  06:27:07.826 RG610~empty                 27.9  20.00\n",
      " 283 engtest   HD 158748  06:28:46.255 RG610~empty                 98.4  20.00\n",
      " 284 engtest   HD 158748  06:29:14.293 RG610~empty                 28.0  20.00\n",
      " 285 science   HD 158748  06:30:54.334 RG610~empty                100.0  5.00\n",
      " 286 science   HD 148382  06:33:28.200 RG610~empty                153.9  5.00\n",
      " 287 science   HD 148382  06:36:56.632 RG610~empty                208.4  5.00\n",
      " 288 science   HD 148382  06:38:44.089 RG610~empty                107.5  5.00\n",
      " 289 science   HD 148382  06:39:19.215 RG610~empty                 35.1  5.00\n",
      " 290 engtest   HD 148382  06:40:35.531 RG610~empty                 76.3  20.00\n",
      " 291 engtest   HD 148382  06:41:02.672 RG610~empty                 27.1  20.00\n",
      " 292 engtest   HD 148382  06:42:40.534 RG610~empty                 97.9  20.00\n",
      " 293 engtest   HD 148382  06:43:08.032 RG610~empty                 27.5  20.00\n",
      " 294 science   HD 148382  06:44:50.604 RG610~empty                102.6  5.00\n"
     ]
    }
   ],
   "source": [
    "reporter.printObsTable()"
   ]
  },
  {
   "cell_type": "markdown",
   "id": "20cfb34a",
   "metadata": {},
   "source": [
    "# Butler"
   ]
  },
  {
   "cell_type": "markdown",
   "id": "0596146e",
   "metadata": {},
   "source": [
    "## Configuration for Butler"
   ]
  },
  {
   "cell_type": "code",
   "execution_count": 15,
   "id": "569b46b2",
   "metadata": {},
   "outputs": [],
   "source": [
    "#butler=dafPersist.Butler(\"/project/shared/auxTel\")\n",
    "butler=dafPersist.Butler(repoDir)"
   ]
  },
  {
   "cell_type": "markdown",
   "id": "e7b92606",
   "metadata": {},
   "source": [
    "## Sequence selection"
   ]
  },
  {
   "cell_type": "code",
   "execution_count": 16,
   "id": "31a930ee",
   "metadata": {},
   "outputs": [],
   "source": [
    "all_myseq_holo=range(98,107)\n",
    "all_myseq=all_myseq_holo"
   ]
  },
  {
   "cell_type": "code",
   "execution_count": 17,
   "id": "c1cee7ba",
   "metadata": {},
   "outputs": [],
   "source": [
    "seqNum=all_myseq_holo[0]"
   ]
  },
  {
   "cell_type": "code",
   "execution_count": 18,
   "id": "bcf9b053",
   "metadata": {},
   "outputs": [
    {
     "data": {
      "text/plain": [
       "98"
      ]
     },
     "execution_count": 18,
     "metadata": {},
     "output_type": "execute_result"
    }
   ],
   "source": [
    "seqNum"
   ]
  },
  {
   "cell_type": "markdown",
   "id": "9ed77ca7",
   "metadata": {},
   "source": [
    "## Display"
   ]
  },
  {
   "cell_type": "code",
   "execution_count": 19,
   "id": "002e9f4d",
   "metadata": {},
   "outputs": [
    {
     "data": {
      "text/html": [
       "Open your web browser to <a href=\"https://lsst-lsp-stable.ncsa.illinois.edu/portal/app/slate.html?__wsch=sylviedc_debug_2021_07_06\"\" target=\"_blank\">this link</a>"
      ],
      "text/plain": [
       "<IPython.core.display.HTML object>"
      ]
     },
     "metadata": {},
     "output_type": "display_data"
    }
   ],
   "source": [
    "display1=afwDisplay.getDisplay(frame=1,port=80,name='sylviedc_debug_2021_07_06',url=os.environ[\"FIREFLY_URL\"])"
   ]
  },
  {
   "cell_type": "code",
   "execution_count": 20,
   "id": "d31698e5",
   "metadata": {},
   "outputs": [],
   "source": [
    "raw=butler.get('raw',dayObs=dayObs,seqNum=seqNum)"
   ]
  },
  {
   "cell_type": "code",
   "execution_count": 21,
   "id": "37f3ef68",
   "metadata": {},
   "outputs": [],
   "source": [
    "display1.mtv(raw)"
   ]
  },
  {
   "cell_type": "code",
   "execution_count": 22,
   "id": "b4248ea9",
   "metadata": {},
   "outputs": [
    {
     "data": {
      "text/html": [
       "Open your web browser to <a href=\"https://lsst-lsp-stable.ncsa.illinois.edu/portal/app/slate.html?__wsch=sylviedc_debug_2021_07_06\"\" target=\"_blank\">this link</a>"
      ],
      "text/plain": [
       "<IPython.core.display.HTML object>"
      ]
     },
     "metadata": {},
     "output_type": "display_data"
    }
   ],
   "source": [
    "display1.getClient().display_url()"
   ]
  },
  {
   "cell_type": "code",
   "execution_count": 23,
   "id": "119836c4",
   "metadata": {},
   "outputs": [
    {
     "name": "stdout",
     "output_type": "stream",
     "text": [
      "[2, 3, 6, 4, 5, 11, 7, 10, 9, 8, 15, 16, 14, 13, 12, 17, 21, 19, 22, 20, 18, 24, 25, 28, 27, 26, 23, 32, 31, 29, 33, 30, 39, 36, 34, 38, 37, 35, 43, 45, 40, 42, 41, 44, 50, 46, 47, 49, 48, 51, 52, 53, 54, 55, 56, 57, 58, 59, 60, 61, 62, 63, 64, 65, 66, 67, 68, 69, 70, 71, 72, 73, 74, 75, 76, 77, 78, 79, 80, 81, 82, 84, 83, 86, 85, 88, 87, 89, 90, 91, 92, 93, 94, 95, 96, 97, 98, 99, 100, 101, 102, 103, 104, 105, 106, 107, 108, 109, 110, 111, 112, 113, 114, 115, 116, 117, 118, 119, 120, 121, 122, 123, 124, 125, 126, 127, 128, 129, 130, 131, 132, 133, 134, 135, 136, 137, 138, 139, 140, 141, 142, 143, 144, 145, 146, 147, 148, 149, 150, 151, 152, 153, 154, 155, 156, 157, 158, 159, 160, 161, 162, 163, 164, 165, 166, 167, 168, 169, 170, 171, 172, 173, 174, 175, 176, 177, 178, 179, 180, 181, 182, 183, 184, 185, 186, 187, 188, 189, 190, 191, 192, 193, 194, 195, 196, 197, 198, 199, 200, 201, 202, 203, 204, 205, 206, 207, 208, 209, 210, 211, 212, 213, 214, 215, 216, 217, 218, 219, 220, 221, 222, 223, 224, 225, 226, 227, 228, 229, 230, 231, 232, 233, 234, 235, 236, 237, 238, 239, 240, 241, 242, 243, 244, 245, 246, 247, 248, 249, 250, 251, 252, 253, 254, 255, 256, 257, 258, 259, 260, 261, 262, 263, 264, 265, 266, 267, 268, 269, 270, 271, 272, 273, 274, 275, 276, 277, 278, 279, 280, 281, 282, 283, 284, 285, 286, 287, 288, 289, 290, 291, 292, 293, 294]\n"
     ]
    }
   ],
   "source": [
    "print(butler.queryMetadata('raw','seqNum',dayObs=dayObs))"
   ]
  },
  {
   "cell_type": "code",
   "execution_count": 24,
   "id": "a3bce8f1",
   "metadata": {},
   "outputs": [],
   "source": [
    "#exp=butler.get('quickLookExp',dayObs=dayObs,seqNum=seqNum)"
   ]
  },
  {
   "cell_type": "markdown",
   "id": "00f07ad4",
   "metadata": {},
   "source": [
    "## Meta Data"
   ]
  },
  {
   "cell_type": "code",
   "execution_count": 25,
   "id": "a3a8ac22",
   "metadata": {},
   "outputs": [],
   "source": [
    "md=butler.get(\"raw_md\",dayObs=dayObs,seqNum=seqNum)"
   ]
  },
  {
   "cell_type": "code",
   "execution_count": 26,
   "id": "4e8b5a14",
   "metadata": {},
   "outputs": [
    {
     "data": {
      "text/plain": [
       "{'SIMPLE': True,\n",
       " 'EXTEND': True,\n",
       " 'COMMENT': [\"  FITS (Flexible Image Transport System) format is defined in 'Astronomy\",\n",
       "  \"  and Astrophysics', volume 376, page 359; bibcode: 2001A&A...376..359H\",\n",
       "  \"= '        '\",\n",
       "  '---- Date, night and basic image information ----',\n",
       "  \"= '        '\",\n",
       "  '---- Telescope info, location, observer ----',\n",
       "  \"= '        '\",\n",
       "  '---- Pointing info, etc. ----',\n",
       "  \"= '        '\",\n",
       "  '---- TAN Projection ----',\n",
       "  \"= '        '\",\n",
       "  '---- Image-identifying used to build OBS-ID ----',\n",
       "  \"= '        '\",\n",
       "  '---- Test Stand information ----',\n",
       "  \"= '        '\",\n",
       "  '---- Information from Camera (Common block) ----',\n",
       "  \"= '        '\",\n",
       "  '---- Information from Camera ----',\n",
       "  \"= '        '\",\n",
       "  '---- Filter/grating information ----',\n",
       "  \"= '        '\",\n",
       "  '---- Exposure-related information ----',\n",
       "  \"= '        '\",\n",
       "  '---- Weather information ----',\n",
       "  \"= '        '\",\n",
       "  '---- Header information ----',\n",
       "  \"= '        '\",\n",
       "  '---- Checksums ----',\n",
       "  '---- Information from Camera per sensor ----',\n",
       "  \"= '        '\",\n",
       "  '---- Geometry from Camera ----'],\n",
       " 'ORIGIN': 'LSST DM Header Service',\n",
       " 'TIMESYS': 'TAI',\n",
       " 'DATE': '2021-07-07T01:16:18.894',\n",
       " 'DATE-OBS': '2021-07-07T01:16:33.033',\n",
       " 'DATE-BEG': '2021-07-07T01:16:33.033',\n",
       " 'DATE-END': '2021-07-07T01:16:53.265',\n",
       " 'MJD': 59402.0529964623,\n",
       " 'MJD-OBS': 59402.0531600989,\n",
       " 'MJD-BEG': 59402.0531600989,\n",
       " 'MJD-END': 59402.0533942691,\n",
       " 'OBSID': 'AT_O_20210706_000098',\n",
       " 'GROUPID': '2021-07-07T01:16:31.255',\n",
       " 'IMGTYPE': 'OBJECT',\n",
       " 'BUNIT': 'adu',\n",
       " 'FACILITY': 'Vera C. Rubin Observatory',\n",
       " 'TELESCOP': 'LSST AuxTelescope',\n",
       " 'INSTRUME': 'LATISS',\n",
       " 'OBSERVER': 'LSST',\n",
       " 'OBS-LONG': -70.749417,\n",
       " 'OBS-LAT': -30.244639,\n",
       " 'OBS-ELEV': 2663.0,\n",
       " 'OBSGEO-X': 1818938.94,\n",
       " 'OBSGEO-Y': -5208470.95,\n",
       " 'OBSGEO-Z': -3195172.08,\n",
       " 'RA': 207.165555,\n",
       " 'DEC': -46.9737172222222,\n",
       " 'RASTART': 207.130393836645,\n",
       " 'DECSTART': -46.9871545851934,\n",
       " 'RAEND': 207.123670674193,\n",
       " 'DECEND': -46.9874468439901,\n",
       " 'ROTPA': 175.402291138704,\n",
       " 'ROTCOORD': 'sky',\n",
       " 'HASTART': 1.73075578266374,\n",
       " 'ELSTART': 63.9624344392505,\n",
       " 'AZSTART': 222.545764823197,\n",
       " 'AMSTART': 1.11279219459072,\n",
       " 'HAEND': 1.73710786557746,\n",
       " 'ELEND': 63.9061281665199,\n",
       " 'AZEND': 222.621675808667,\n",
       " 'AMEND': 1.11328026088338,\n",
       " 'INSTPORT': 2,\n",
       " 'ATM3PORT': None,\n",
       " 'TRACKSYS': 'SIDEREAL',\n",
       " 'RADESYS': 'ICRS',\n",
       " 'FOCUSZ': -0.154802232980728,\n",
       " 'OBJECT': 'HD 120144',\n",
       " 'DOMEAZ': 208.75,\n",
       " 'SHUTLOWR': 0.0,\n",
       " 'SHUTUPPR': 100.0,\n",
       " 'WCSAXES': 2,\n",
       " 'CTYPE1': 'RA---TAN',\n",
       " 'CTYPE2': 'DEC--TAN',\n",
       " 'CUNIT1': 'deg',\n",
       " 'CUNIT2': 'deg',\n",
       " 'CRVAL1': 207.165555,\n",
       " 'CRVAL2': -46.9737172222222,\n",
       " 'CRPIX1': 2000.0,\n",
       " 'CRPIX2': 2036.0,\n",
       " 'CD1_1': 0.0907589919244068,\n",
       " 'CD1_2': 0.0527996722041478,\n",
       " 'CD2_1': -0.0527996722041478,\n",
       " 'CD2_2': 0.0907589919244068,\n",
       " 'EQUINOX': 2000.0,\n",
       " 'CAMCODE': 'AT',\n",
       " 'CONTRLLR': 'O',\n",
       " 'DAYOBS': '20210706',\n",
       " 'SEQNUM': 98,\n",
       " 'TESTTYPE': None,\n",
       " 'TSTAND': None,\n",
       " 'IMAGETAG': 'd5febae7a3590da2',\n",
       " 'OBSANNOT': '',\n",
       " 'TEMP_SET': -94.1500015258789,\n",
       " 'CCDTEMP': -90.3497695922852,\n",
       " 'FILTBAND': 'Empty',\n",
       " 'FILTER': 'RG610',\n",
       " 'FILTSLOT': 3,\n",
       " 'GRATING': 'holo4_003',\n",
       " 'GRATBAND': 'Empty',\n",
       " 'GRATSLOT': 3,\n",
       " 'LINSPOS': 67.0,\n",
       " 'EXPTIME': 20.0,\n",
       " 'SHUTTIME': None,\n",
       " 'DARKTIME': 20.3216862678528,\n",
       " 'AIRTEMP': 7.0,\n",
       " 'PRESSURE': 742.35,\n",
       " 'HUMIDITY': 16.0,\n",
       " 'WINDSPD': 11.6,\n",
       " 'WINDDIR': 307.0,\n",
       " 'SEEING': None,\n",
       " 'FILENAME': 'AT_O_20210706_000098.fits',\n",
       " 'HEADVER': '2.9.1',\n",
       " 'CHECKSUM': None,\n",
       " 'DATASUM': None,\n",
       " 'CCD_MANU': 'ITL',\n",
       " 'CCD_TYPE': 2,\n",
       " 'CCD_SERN': '20862',\n",
       " 'LSST_NUM': 'ITL-3800C-068',\n",
       " 'SEQCKSUM': '2552520002',\n",
       " 'SEQNAME': 'FP_ITL_2s_ir2_v25.seq',\n",
       " 'REBNAME': 'Unknown',\n",
       " 'CONTNUM': '412227310',\n",
       " 'CCDSLOT': 'S00',\n",
       " 'RAFTBAY': 'R00',\n",
       " 'OVERH': 64,\n",
       " 'OVERV': 48,\n",
       " 'PREH': 0,\n",
       " 'XTENSION': 'IMAGE',\n",
       " 'BITPIX': 32,\n",
       " 'NAXIS': 2,\n",
       " 'NAXIS1': 576,\n",
       " 'NAXIS2': 2048,\n",
       " 'PCOUNT': 0,\n",
       " 'GCOUNT': 1,\n",
       " 'INHERIT': True,\n",
       " 'EXTNAME': 'Segment10',\n",
       " 'DATASEC': '[1:509,1:2000]',\n",
       " 'DETSEC': '[509:1,1:2000]',\n",
       " 'DETSIZE': '[1:4072,1:4000]',\n",
       " 'DTV1': 510,\n",
       " 'DTV2': 0,\n",
       " 'DTM1_1': -1.0,\n",
       " 'DTM2_2': 1.0,\n",
       " 'DTM1_2': 0,\n",
       " 'DTM2_1': 0,\n",
       " 'HIERARCH ASTRO METADATA FIX MODIFIED': True,\n",
       " 'HIERARCH ASTRO METADATA FIX DATE': '2021-07-09T07:35:12.814210',\n",
       " 'HIERARCH ASTRO METADATA FIX VERSION': 'w.2021.26-2-g5c86ed8'}"
      ]
     },
     "execution_count": 26,
     "metadata": {},
     "output_type": "execute_result"
    }
   ],
   "source": [
    "md.toDict()"
   ]
  },
  {
   "cell_type": "markdown",
   "id": "9929ca5a",
   "metadata": {},
   "source": [
    "# Start"
   ]
  },
  {
   "cell_type": "code",
   "execution_count": 27,
   "id": "522da13c",
   "metadata": {},
   "outputs": [],
   "source": [
    "plt.rcParams[\"axes.labelsize\"] = 'large'\n",
    "plt.rcParams['axes.titlesize'] = 'large'\n",
    "plt.rcParams['xtick.labelsize']= 'large'\n",
    "plt.rcParams['ytick.labelsize']= 'large'"
   ]
  },
  {
   "cell_type": "code",
   "execution_count": 28,
   "id": "0eb3de9c",
   "metadata": {},
   "outputs": [],
   "source": [
    "all_my_raw_array=[]\n",
    "all_my_header=[]\n",
    "all_my_object=[]\n",
    "all_my_seq=[]\n",
    "all_my_grating=[]\n",
    "all_my_filter=[]\n",
    "all_my_date=[]\n",
    "\n",
    "\n",
    "for seqNum in all_myseq:\n",
    "    raw=butler.get('raw',dayObs=dayObs,seqNum=seqNum)\n",
    "    md=butler.get(\"raw_md\",dayObs=dayObs,seqNum=seqNum)\n",
    "    \n",
    "    header=md.toDict()\n",
    "    \n",
    "    #decode header\n",
    "    \n",
    "    obj_name=header['OBJECT']\n",
    "    obj_name2 = ''.join(obj_name.split())\n",
    "    grating=header['GRATING']\n",
    "    obsid=header['OBSID']\n",
    "    date=obsid.replace('AT_O_','') # remove pre-tag to get date only and seqnum\n",
    "    filter_name=header['FILTER']\n",
    "    filter_name2=filter_name.split(\"_\")[0]   # cut empty_1 to empty\n",
    "    \n",
    "    # select only pre-selected disperser\n",
    "    if grating == DISPERSER_SEL: \n",
    "        all_my_raw_array.append(np.copy(raw.image.array))\n",
    "        all_my_header.append(header)\n",
    "        all_my_object.append(obj_name2)\n",
    "        all_my_seq.append(header['SEQNUM'])\n",
    "        all_my_grating.append(grating)\n",
    "        all_my_filter.append(filter_name2)\n",
    "        all_my_date.append(date)"
   ]
  },
  {
   "cell_type": "markdown",
   "id": "1b006eef",
   "metadata": {},
   "source": [
    "## Total number of images"
   ]
  },
  {
   "cell_type": "code",
   "execution_count": 29,
   "id": "3b28ccbc",
   "metadata": {},
   "outputs": [],
   "source": [
    "NSEL=len(all_my_raw_array)"
   ]
  },
  {
   "cell_type": "code",
   "execution_count": 30,
   "id": "657757fb",
   "metadata": {},
   "outputs": [
    {
     "data": {
      "text/plain": [
       "9"
      ]
     },
     "execution_count": 30,
     "metadata": {},
     "output_type": "execute_result"
    }
   ],
   "source": [
    "NSEL"
   ]
  },
  {
   "cell_type": "markdown",
   "id": "b4174914",
   "metadata": {},
   "source": [
    "# Plot"
   ]
  },
  {
   "cell_type": "code",
   "execution_count": 31,
   "id": "c5dade41",
   "metadata": {},
   "outputs": [],
   "source": [
    "idx=0"
   ]
  },
  {
   "cell_type": "code",
   "execution_count": 32,
   "id": "65b7ee4e",
   "metadata": {},
   "outputs": [],
   "source": [
    "fig = plt.figure(figsize=(10,10))\n",
    "ax=fig.add_subplot(111)\n",
    "ax.imshow(all_my_raw_array[idx],origin='lower',cmap=\"jet\",norm=LogNorm())\n",
    "plt.show()"
   ]
  },
  {
   "cell_type": "code",
   "execution_count": 33,
   "id": "b427fe16",
   "metadata": {},
   "outputs": [],
   "source": [
    "\n",
    "Ncol=4\n",
    "Nrow=2\n",
    "Ntot=Ncol*Nrow\n",
    "\n",
    "fig = plt.figure(figsize=(20,20))\n",
    "\n",
    "# loop on angle\n",
    "for idx in np.arange(Ntot):\n",
    "    if idx>=NSEL:\n",
    "        break\n",
    "        \n",
    "    ax=fig.add_subplot(Nrow,Ncol,idx+1)\n",
    "    ax.imshow(all_my_raw_array[idx],origin='lower',cmap=\"jet\",norm=LogNorm())\n",
    "    ax.set_title(all_myseq[idx]) \n",
    "    ax.minorticks_on()\n",
    "    ax.set_aspect(\"equal\")\n",
    "    \n",
    "    #ax2=ax.twiny()\n",
    "    #ax2.imshow(all_my_raw_array[idx],origin='lower',cmap=\"jet\",norm=LogNorm())\n",
    "    #ax2.set_xlim(ax.get_xlim())\n",
    "    #ax2.minorticks_on()\n",
    "    \n",
    "    #ax.tick_params(which='major', length=10, width=2, direction='inout')\n",
    "    #ax.tick_params(which='minor', length=5, width=2, direction='inout')\n",
    "    #ax.grid(which='both')\n",
    "\n",
    "\n",
    "\n",
    "    #ax.set_aspect('equal')\n",
    "\n",
    "    #x1, x2 = ax.get_xlim() \n",
    "    #y1, y2 = ax.get_ylim() \n",
    "plt.show()"
   ]
  },
  {
   "cell_type": "code",
   "execution_count": 34,
   "id": "985a0d92",
   "metadata": {},
   "outputs": [],
   "source": [
    "#all_my_raw_array=[]\n",
    "#all_my_header=[]\n",
    "#all_my_object=[]\n",
    "#all_my_seq=[]\n",
    "#all_my_grating=[]\n",
    "#all_my_filter=[]\n"
   ]
  },
  {
   "cell_type": "code",
   "execution_count": 35,
   "id": "79787233",
   "metadata": {},
   "outputs": [
    {
     "name": "stdout",
     "output_type": "stream",
     "text": [
      "holo4_003_RG610_HD120144_20210706_000098.fits\n",
      "holo4_003_RG610_HD120144_20210706_000099.fits\n",
      "holo4_003_RG610_HD120144_20210706_000100.fits\n",
      "holo4_003_RG610_HD120144_20210706_000101.fits\n",
      "holo4_003_RG610_HD120144_20210706_000102.fits\n",
      "holo4_003_RG610_HD120144_20210706_000103.fits\n",
      "holo4_003_RG610_HD120144_20210706_000104.fits\n",
      "holo4_003_RG610_HD120144_20210706_000105.fits\n",
      "holo4_003_RG610_HD120144_20210706_000106.fits\n"
     ]
    }
   ],
   "source": [
    "if FLAG_SAVE_IMAGE:\n",
    "  \n",
    "    for idx in np.arange(NSEL):\n",
    "        filename=all_my_grating[idx]+\"_\"+all_my_filter[idx]+\"_\"+all_my_object[idx]+\"_\"+all_my_date[idx]+\".fits\"\n",
    "        print(filename)\n",
    "    \n",
    "        hdr = fits.Header()\n",
    "    \n",
    "        for key,value in all_my_header[idx].items():\n",
    "            hdr[str(key)]=value\n",
    "        \n",
    "        hdu = fits.PrimaryHDU(data=all_my_raw_array[idx],header=hdr)  # with headers\n",
    "        #hdu = fits.PrimaryHDU(data=all_my_raw_array[idx])\n",
    "    \n",
    "        hdul = fits.HDUList([hdu])\n",
    "    \n",
    "        hdul.writeto(filename,overwrite=True)\n",
    "    \n",
    "        "
   ]
  },
  {
   "cell_type": "code",
   "execution_count": null,
   "id": "bcd38dc1",
   "metadata": {},
   "outputs": [],
   "source": []
  }
 ],
 "metadata": {
  "kernelspec": {
   "display_name": "LSST",
   "language": "python",
   "name": "lsst"
  },
  "language_info": {
   "codemirror_mode": {
    "name": "ipython",
    "version": 3
   },
   "file_extension": ".py",
   "mimetype": "text/x-python",
   "name": "python",
   "nbconvert_exporter": "python",
   "pygments_lexer": "ipython3",
   "version": "3.8.8"
  }
 },
 "nbformat": 4,
 "nbformat_minor": 5
}
