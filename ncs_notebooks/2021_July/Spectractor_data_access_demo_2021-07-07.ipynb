{
 "cells": [
  {
   "cell_type": "markdown",
   "id": "f2e7ed48",
   "metadata": {},
   "source": [
    "# Analyse Spectractor Output\n",
    "\n",
    "- adapted from https://github.com/stubbslab/PCWG-AuxTel/blob/main/Spectractor_data_access_demo.ipynb\n",
    "\n",
    "- author : Sylvie Dagoret-campagne\n",
    "- affiliation : IJCLab/IN2P3/CNRS\n",
    "- update : September 2021 13th\n",
    "- DM-Stack version : **w_2021_36**\n",
    "- Big CPU"
   ]
  },
  {
   "cell_type": "markdown",
   "id": "f54e6daf",
   "metadata": {},
   "source": [
    "Make a butler, but we don't point it at the usual repo root, we point it at the location of best reduction of the data to date.\n",
    "For the current version of this, see setup_script.md"
   ]
  },
  {
   "cell_type": "code",
   "execution_count": 1,
   "id": "2cfa56fe",
   "metadata": {},
   "outputs": [],
   "source": [
    "import matplotlib.pyplot as plt\n",
    "#%matplotlib inline\n",
    "# correct for bug in stack in wl_2021_02\n",
    "%config IPCompleter.use_jedi=False"
   ]
  },
  {
   "cell_type": "code",
   "execution_count": 2,
   "id": "b1b1619f",
   "metadata": {},
   "outputs": [
    {
     "name": "stderr",
     "output_type": "stream",
     "text": [
      "<ipython-input-2-a8e09fe1605e>:6: FutureWarning: Gen2 Butler has been deprecated (Butler). It will be removed sometime after v23.0 but no earlier than the end of 2021.\n",
      "  butler = dafPersist.Butler(repoDir)\n",
      "<ipython-input-2-a8e09fe1605e>:6: FutureWarning: Gen2 Butler has been deprecated (LatissMapper). It will be removed sometime after v23.0 but no earlier than the end of 2021.\n",
      "  butler = dafPersist.Butler(repoDir)\n"
     ]
    }
   ],
   "source": [
    "#repoDir = '/project/shared/auxTel/rerun/mfl/slurmRun/'\n",
    "#repoDir='/project/shared/auxTel/rerun/dagoret'\n",
    "repoDir='/project/shared/auxTel/rerun/dagoret/outputspectr_scan2021_July'\n",
    "\n",
    "import lsst.daf.persistence as dafPersist\n",
    "butler = dafPersist.Butler(repoDir)"
   ]
  },
  {
   "cell_type": "markdown",
   "id": "294dd218",
   "metadata": {},
   "source": [
    "Next, we make a NightReporter object. This is just a useful little toy project (read: not well supported, but might be helpful) to will help understand (and visualise) the night's observations. Try poking it to see what it does, some it it, _e.g._ reporter.printObsTable() is quite useful for getting a quick overview of the observations of the night."
   ]
  },
  {
   "cell_type": "code",
   "execution_count": 3,
   "id": "3336c172",
   "metadata": {},
   "outputs": [
    {
     "name": "stdout",
     "output_type": "stream",
     "text": [
      "WARNING:lsst.obs.lsst.translators.lsst:AT_O_20210707_000508: Unable to determine airmass of a science observation, returning 1.\n",
      "WARNING:lsst.obs.lsst.translators.lsst:AT_O_20210707_000508: Unable to determine the filter\n",
      "WARNING:lsst.obs.lsst.translators.lsst:AT_O_20210707_000589: Unable to determine airmass of a science observation, returning 1.\n",
      "WARNING:lsst.obs.lsst.translators.lsst:AT_O_20210707_000589: Unable to determine the filter\n",
      "Loaded data for seqNums 1 to 620\n"
     ]
    }
   ],
   "source": [
    "from lsst.rapid.analysis.nightReport import NightReporter\n",
    "reporter = NightReporter(repoDir, \"2021-07-07\")"
   ]
  },
  {
   "cell_type": "code",
   "execution_count": 4,
   "id": "2603858b",
   "metadata": {},
   "outputs": [],
   "source": [
    "dayObs = '2021-07-07'"
   ]
  },
  {
   "cell_type": "markdown",
   "id": "403f1c58",
   "metadata": {},
   "source": [
    "See what objects we looked at over the course of the selected dayObs, so that we can pick one that sampled a nice range of airmasses to examine further."
   ]
  },
  {
   "cell_type": "code",
   "execution_count": 5,
   "id": "1f420d2c",
   "metadata": {},
   "outputs": [],
   "source": [
    "reporter.plotPerObjectAirMass()"
   ]
  },
  {
   "cell_type": "code",
   "execution_count": 6,
   "id": "ffc6558c",
   "metadata": {},
   "outputs": [],
   "source": [
    "objName = 'HD 160617'"
   ]
  },
  {
   "cell_type": "markdown",
   "id": "05fc9a0f",
   "metadata": {},
   "source": [
    "Here we find out from the butler which sequence numbers are observations of that star. Note that a) some will be dispersed, but some will likely be direct images or donuts, etc, and that b) of the dispersed images, some might not have run all the way through the pipeline without failure, so we're going to need to test for that."
   ]
  },
  {
   "cell_type": "code",
   "execution_count": 7,
   "id": "56daeb8d",
   "metadata": {},
   "outputs": [],
   "source": [
    "seqNums = butler.queryMetadata('raw', 'seqNum', dayObs=dayObs, object=objName)"
   ]
  },
  {
   "cell_type": "markdown",
   "id": "8a138a62",
   "metadata": {},
   "source": [
    "Here, for the seqNums, we ask the butler to check if the output of Spectractor actually exists, such that it can be retrieved."
   ]
  },
  {
   "cell_type": "code",
   "execution_count": 8,
   "id": "70c5fbb9",
   "metadata": {},
   "outputs": [],
   "source": [
    "extracted = []\n",
    "for seqNum in seqNums:\n",
    "    if butler.datasetExists('spectraction', dayObs=dayObs, seqNum=seqNum):\n",
    "        extracted.append(seqNum)"
   ]
  },
  {
   "cell_type": "code",
   "execution_count": 9,
   "id": "c5920293",
   "metadata": {},
   "outputs": [
    {
     "data": {
      "text/plain": [
       "[234,\n",
       " 235,\n",
       " 236,\n",
       " 237,\n",
       " 239,\n",
       " 238,\n",
       " 241,\n",
       " 240,\n",
       " 242,\n",
       " 243,\n",
       " 244,\n",
       " 247,\n",
       " 248,\n",
       " 249,\n",
       " 260,\n",
       " 261,\n",
       " 262,\n",
       " 263,\n",
       " 266,\n",
       " 267,\n",
       " 268,\n",
       " 269,\n",
       " 272,\n",
       " 277,\n",
       " 278,\n",
       " 279,\n",
       " 280,\n",
       " 281,\n",
       " 282,\n",
       " 283,\n",
       " 292,\n",
       " 293,\n",
       " 298,\n",
       " 299,\n",
       " 300,\n",
       " 301,\n",
       " 317,\n",
       " 318,\n",
       " 319,\n",
       " 320,\n",
       " 321,\n",
       " 322,\n",
       " 323,\n",
       " 324,\n",
       " 325,\n",
       " 326,\n",
       " 327,\n",
       " 328,\n",
       " 329,\n",
       " 330,\n",
       " 352,\n",
       " 353,\n",
       " 354,\n",
       " 355,\n",
       " 359,\n",
       " 361,\n",
       " 362,\n",
       " 365]"
      ]
     },
     "execution_count": 9,
     "metadata": {},
     "output_type": "execute_result"
    }
   ],
   "source": [
    "extracted"
   ]
  },
  {
   "cell_type": "markdown",
   "id": "d4555654",
   "metadata": {},
   "source": [
    "Grab a random single result just so we've got an object to poke at, such that we can use it to help us write the code that follows."
   ]
  },
  {
   "cell_type": "code",
   "execution_count": 10,
   "id": "bb1931cb",
   "metadata": {},
   "outputs": [],
   "source": [
    "#all_results = []\n",
    "#for seqNum in extracted:\n",
    "#    results = butler.get('spectraction', dayObs=dayObs, seqNum=seqNum)\n",
    "#    all_results.append(results)"
   ]
  },
  {
   "cell_type": "code",
   "execution_count": 11,
   "id": "490a4259",
   "metadata": {},
   "outputs": [],
   "source": [
    "idx=0"
   ]
  },
  {
   "cell_type": "code",
   "execution_count": 12,
   "id": "f31db8b1",
   "metadata": {},
   "outputs": [],
   "source": [
    "#print(all_results[idx].spectrum.lambdas)"
   ]
  },
  {
   "cell_type": "code",
   "execution_count": 13,
   "id": "994945c7",
   "metadata": {},
   "outputs": [],
   "source": [
    "#fig = plt.figure(figsize=(10,5))\n",
    "#ax=fig.add_subplot(111)\n",
    "#ax.plot(all_results[idx].spectrum.lambdas,all_results[idx].spectrum.data,'r')\n",
    "#ax.set_title(title)"
   ]
  },
  {
   "cell_type": "code",
   "execution_count": 14,
   "id": "9b5865ae",
   "metadata": {},
   "outputs": [],
   "source": [
    "#result = butler.get('spectraction', dict(dayObs=dayObs, seqNum=extracted[0]))\n",
    "result = butler.get('spectraction', dict(dayObs=dayObs, seqNum=317))"
   ]
  },
  {
   "cell_type": "code",
   "execution_count": 15,
   "id": "cb9c0407",
   "metadata": {},
   "outputs": [
    {
     "name": "stdout",
     "output_type": "stream",
     "text": [
      "WARNING:astroquery:VerifyWarning: Card is too long, comment will be truncated.\n"
     ]
    },
    {
     "name": "stderr",
     "output_type": "stream",
     "text": [
      "WARNING: VerifyWarning: Card is too long, comment will be truncated. [astropy.io.fits.card]\n"
     ]
    },
    {
     "data": {
      "text/plain": [
       "SIMPLE  =                    T                                                  \n",
       "TARGET  = 'HD 160617'          / name of the target in the image                \n",
       "REDSHIFT= '0.000335'           / redshift of the target                         \n",
       "GRATING = 'holo4_003'          / name of the disperser                          \n",
       "ROTANGLE=  -0.1669043371015121 / [deg] angle of the dispersion axis             \n",
       "D2CCD   =    178.5061134577691 / [mm] distance between disperser and CCD        \n",
       "LSHIFT  =                  0.0                                                  \n",
       "PARANGLE=    67.57804795567915 / parallactic angle in degree                    \n",
       "TARGETX =    129.3446876015798 / target position on X axis                      \n",
       "TARGETY =    490.8406546787762 / target position on Y axis                      \n",
       "THETAFIT= -0.00051922423331379 / [deg] [USED] rotation angle from the Hessian an\n",
       "THETAINT=                -0.28 / [deg] rotation angle interp from disperser scan\n",
       "PSF_REG =    57999.99999999995                                                  \n",
       "LBDA_REF=    670.0619233923761                                                  \n",
       "PIXSHIFT=   0.6331721719757315                                                  \n",
       "CHI2_FIT=    4.183816951061906                                                  \n",
       "A2_FIT  =                  1.0                                                  "
      ]
     },
     "execution_count": 15,
     "metadata": {},
     "output_type": "execute_result"
    }
   ],
   "source": [
    "result.spectrum.header"
   ]
  },
  {
   "cell_type": "code",
   "execution_count": 16,
   "id": "9320793e",
   "metadata": {},
   "outputs": [],
   "source": [
    "title=result.spectrum.header['TARGET']"
   ]
  },
  {
   "cell_type": "code",
   "execution_count": 17,
   "id": "37769cf1",
   "metadata": {},
   "outputs": [],
   "source": [
    "#result.spectrum?"
   ]
  },
  {
   "cell_type": "code",
   "execution_count": 18,
   "id": "18716e15",
   "metadata": {},
   "outputs": [],
   "source": [
    "fig = plt.figure(figsize=(10,5))\n",
    "ax=fig.add_subplot(111)\n",
    "ax.plot(result.spectrum.lambdas,result.spectrum.data,'r')\n",
    "ax.set_title(title)\n",
    "plt.show()"
   ]
  },
  {
   "cell_type": "code",
   "execution_count": 19,
   "id": "0b39ee37",
   "metadata": {},
   "outputs": [],
   "source": [
    "from spectractor.extractor.spectrum import *"
   ]
  },
  {
   "cell_type": "code",
   "execution_count": 20,
   "id": "79376860",
   "metadata": {},
   "outputs": [
    {
     "data": {
      "text/plain": [
       "Text(0.5, 1.0, 'HD 160617')"
      ]
     },
     "execution_count": 20,
     "metadata": {},
     "output_type": "execute_result"
    }
   ],
   "source": [
    "fig = plt.figure(figsize=(10,5))\n",
    "ax=fig.add_subplot(111)\n",
    "plot_spectrum_simple(plt.gca(), result.spectrum.lambdas, result.spectrum.data, result.spectrum.err)\n",
    "ax.set_title(title)"
   ]
  },
  {
   "cell_type": "markdown",
   "id": "8598cf44",
   "metadata": {},
   "source": [
    "Build a dictionary of all the results for our sequence numbers:"
   ]
  },
  {
   "cell_type": "code",
   "execution_count": 21,
   "id": "a54a9883",
   "metadata": {},
   "outputs": [
    {
     "data": {
      "text/plain": [
       "[234,\n",
       " 235,\n",
       " 236,\n",
       " 237,\n",
       " 239,\n",
       " 238,\n",
       " 241,\n",
       " 240,\n",
       " 242,\n",
       " 243,\n",
       " 244,\n",
       " 247,\n",
       " 248,\n",
       " 249,\n",
       " 260,\n",
       " 261,\n",
       " 262,\n",
       " 263,\n",
       " 266,\n",
       " 267,\n",
       " 268,\n",
       " 269,\n",
       " 272,\n",
       " 277,\n",
       " 278,\n",
       " 279,\n",
       " 280,\n",
       " 281,\n",
       " 282,\n",
       " 283,\n",
       " 292,\n",
       " 293,\n",
       " 298,\n",
       " 299,\n",
       " 300,\n",
       " 301,\n",
       " 317,\n",
       " 318,\n",
       " 319,\n",
       " 320,\n",
       " 321,\n",
       " 322,\n",
       " 323,\n",
       " 324,\n",
       " 325,\n",
       " 326,\n",
       " 327,\n",
       " 328,\n",
       " 329,\n",
       " 330,\n",
       " 352,\n",
       " 353,\n",
       " 354,\n",
       " 355,\n",
       " 359,\n",
       " 361,\n",
       " 362,\n",
       " 365]"
      ]
     },
     "execution_count": 21,
     "metadata": {},
     "output_type": "execute_result"
    }
   ],
   "source": [
    "extracted"
   ]
  },
  {
   "cell_type": "code",
   "execution_count": null,
   "id": "b8a42910",
   "metadata": {},
   "outputs": [
    {
     "name": "stdout",
     "output_type": "stream",
     "text": [
      "234\n",
      "235\n",
      "236\n",
      "237\n",
      "239\n",
      "238\n",
      "241\n",
      "240\n",
      "242\n",
      "243\n",
      "244\n",
      "247\n",
      "248\n",
      "249\n",
      "260\n",
      "261\n",
      "262\n",
      "263\n",
      "266\n",
      "267\n",
      "268\n",
      "269\n",
      "272\n",
      "277\n",
      "278\n",
      "279\n",
      "280\n",
      "281\n",
      "282\n",
      "283\n",
      "292\n",
      "293\n",
      "298\n",
      "299\n",
      "300\n",
      "301\n",
      "317\n",
      "318\n",
      "319\n",
      "320\n",
      "321\n",
      "322\n",
      "323\n",
      "324\n",
      "325\n",
      "326\n",
      "327\n",
      "328\n",
      "329\n",
      "330\n",
      "352\n",
      "353\n",
      "354\n",
      "355\n"
     ]
    }
   ],
   "source": [
    "results = {}\n",
    "for seqNum in extracted:\n",
    "    print(seqNum)\n",
    "    results[seqNum] = butler.get('spectraction', dayObs=dayObs, seqNum=seqNum)"
   ]
  },
  {
   "cell_type": "markdown",
   "id": "93925b78",
   "metadata": {},
   "source": [
    "Pick a random extraction, grab its lines, and see what their names are"
   ]
  },
  {
   "cell_type": "code",
   "execution_count": null,
   "id": "af1d0cb6",
   "metadata": {},
   "outputs": [],
   "source": [
    "for lineNum, line in enumerate(result.spectrum.lines.lines):\n",
    "    print(lineNum, line.label)"
   ]
  },
  {
   "cell_type": "markdown",
   "id": "ff9f2116",
   "metadata": {},
   "source": [
    "Now that we've poked a line to see how it quacks, lets look over all the extractions, pull the O2 line out, and plot its equivalent width against airmass"
   ]
  },
  {
   "cell_type": "code",
   "execution_count": null,
   "id": "741cbf43",
   "metadata": {},
   "outputs": [],
   "source": [
    "airmasses, eqWidths = [], []\n",
    "for seqNum in results.keys():\n",
    "    airmass = results[seqNum].spectrum.airmass\n",
    "    line = [line for line in results[seqNum].spectrum.lines.lines if line.label=='$O_2$']\n",
    "    eqWidth = line[0].fit_eqwidth_data\n",
    "    airmasses.append(airmass)\n",
    "    eqWidths.append(eqWidth)"
   ]
  },
  {
   "cell_type": "code",
   "execution_count": null,
   "id": "1367f7f6",
   "metadata": {},
   "outputs": [],
   "source": [
    "import matplotlib.pyplot as plt"
   ]
  },
  {
   "cell_type": "markdown",
   "id": "0f8ef502",
   "metadata": {},
   "source": [
    "NB: This is a garbage in, garbage out situation. The current reductions are known-bad in many places, and this is just a toy example showing how one can access data, so don't freak out that it's bad!"
   ]
  },
  {
   "cell_type": "code",
   "execution_count": null,
   "id": "7141dade",
   "metadata": {},
   "outputs": [],
   "source": [
    "fig = plt.figure(figsize=(10, 8))\n",
    "_ = plt.plot(airmasses, eqWidths, 'or', label=\"Toy reduction, don't panic!\")\n",
    "_ = plt.xlabel('Airmass')\n",
    "_ = plt.ylabel('Eq. Width O2')\n",
    "_ = plt.legend(fontsize=15)\n",
    "_ = plt.title('Garbage in, garbage out, calm down.')"
   ]
  },
  {
   "cell_type": "code",
   "execution_count": null,
   "id": "36618d89",
   "metadata": {},
   "outputs": [],
   "source": []
  },
  {
   "cell_type": "code",
   "execution_count": null,
   "id": "9c4aa521",
   "metadata": {},
   "outputs": [],
   "source": []
  }
 ],
 "metadata": {
  "kernelspec": {
   "display_name": "LSST",
   "language": "python",
   "name": "lsst"
  },
  "language_info": {
   "codemirror_mode": {
    "name": "ipython",
    "version": 3
   },
   "file_extension": ".py",
   "mimetype": "text/x-python",
   "name": "python",
   "nbconvert_exporter": "python",
   "pygments_lexer": "ipython3",
   "version": "3.8.8"
  }
 },
 "nbformat": 4,
 "nbformat_minor": 5
}
