{
 "cells": [
  {
   "cell_type": "markdown",
   "id": "13dd7e2f",
   "metadata": {},
   "source": [
    "# Observations for the night July 07th 2021 : Try to use QuickLookExp\n",
    "\n",
    "\n",
    "https://harvard.zoom.us/rec/play/N7umVF8Rk3vWvW_O3jkaTinofB2WxW3QKz0fVai_K-qvAYLt37uMrvskOlnBiMEjduSeQVzWT7_DDYzc.IY7Pqjef82YlWmZE?continueMode=true&_x_zm_rtaid=BjQYrDaETYeYRUMw8NQgLw.1613559822570.c813d210d38e378b719cb4048493df5b&_x_zm_rhtaid=205\n",
    "\n",
    "\n",
    "- work with Weakly_2021_36\n",
    "- use jupyter kernel LSST\n",
    "- requires the installation see https://github.com/stubbslab/PCWG-AuxTel/blob/main/setup_script.md\n",
    "- requires to write in file {HOME}/notebooks/.user_setups\n",
    "\n",
    "\n",
    "- author : Sylvie Dagoret-Campagne\n",
    "- affiliation : IJCLab\n",
    "- creation date : 2021/09/06\n",
    "- update : 2021/10/13 : Turn the image and split hdulist into 2 parts\n"
   ]
  },
  {
   "cell_type": "code",
   "execution_count": null,
   "id": "e3b5deb9",
   "metadata": {},
   "outputs": [],
   "source": [
    "#! eups list -s"
   ]
  },
  {
   "cell_type": "code",
   "execution_count": 2,
   "id": "94f367bc",
   "metadata": {},
   "outputs": [],
   "source": [
    "import os\n",
    "import matplotlib.pyplot as plt\n",
    "import numpy as np\n",
    "%matplotlib inline\n",
    "from matplotlib.colors import LogNorm\n",
    "\n",
    "from mpl_toolkits.axes_grid1 import make_axes_locatable\n",
    "\n",
    "import matplotlib.ticker                         # here's where the formatter is\n",
    "from matplotlib.ticker import (MultipleLocator, FormatStrFormatter,\n",
    "                               AutoMinorLocator)\n",
    "\n",
    "from astropy.io import fits"
   ]
  },
  {
   "cell_type": "code",
   "execution_count": 3,
   "id": "eaa3e0ef",
   "metadata": {},
   "outputs": [],
   "source": [
    "import lsst.daf.persistence as dafPersist\n",
    "import lsst.afw.display as afwDisplay\n",
    "afwDisplay.setDefaultBackend(\"lsst.display.firefly\")"
   ]
  },
  {
   "cell_type": "code",
   "execution_count": 4,
   "id": "bd6db31c",
   "metadata": {},
   "outputs": [],
   "source": [
    "# correct for bug in stack in wl_2021_02\n",
    "# %config IPCompleter.use_jedi=False"
   ]
  },
  {
   "cell_type": "code",
   "execution_count": 5,
   "id": "acdbf711",
   "metadata": {},
   "outputs": [],
   "source": [
    "FLAG_SAVE_IMAGE=True"
   ]
  },
  {
   "cell_type": "code",
   "execution_count": 6,
   "id": "14f14bba",
   "metadata": {},
   "outputs": [
    {
     "name": "stdout",
     "output_type": "stream",
     "text": [
      "calexp\ticExp  postISRCCD\t     repositoryCfg.yaml  spectractorOutput\n",
      "config\ticSrc  processStar_metadata  schema\n"
     ]
    }
   ],
   "source": [
    "!ls /project/shared/auxTel/rerun/mfl/slurmRun"
   ]
  },
  {
   "cell_type": "code",
   "execution_count": 7,
   "id": "c5244cbc",
   "metadata": {},
   "outputs": [
    {
     "name": "stdout",
     "output_type": "stream",
     "text": [
      "CALIB\t   CALIB-OLD\t CALIB-RHL  Fossil   _parent.old  rerun\n",
      "CALIB_OLD  calibrations  dagoret    _parent  ref_cats\n"
     ]
    }
   ],
   "source": [
    "!ls /project/shared/auxTel"
   ]
  },
  {
   "cell_type": "code",
   "execution_count": 8,
   "id": "cfff8761",
   "metadata": {},
   "outputs": [
    {
     "name": "stdout",
     "output_type": "stream",
     "text": [
      "total 71\n",
      "drwxrwsrwx  5 49813 1363  4096 Sep 30 12:50 calexp\n",
      "drwxrwsrwx  2 49813 1363  4096 Feb 21  2020 config\n",
      "drwxrwsrwx  5 49813 1363  4096 Sep 30 12:49 icExp\n",
      "drwxrwsrwx  8 49813 1363  4096 Sep 30 12:49 icSrc\n",
      "drwxrwsrwx  5 49813 1363  4096 Sep 30 12:48 postISRCCD\n",
      "drwxrwsrwx 74 49813 1363 32768 Oct 16 21:42 quickLookExp\n",
      "-rwxrwxrwx  1 49813 1363   458 Feb 21  2020 repositoryCfg.yaml\n",
      "-rwxrwxrwx  1 49813 1363   458 May 16 20:28 repositoryCfg.yaml_backup\n",
      "drwxrwsrwx  5 49813 1363  4096 Sep 30 12:50 spectractorOutput\n"
     ]
    }
   ],
   "source": [
    "!ls /project/shared/auxTel/rerun/quickLook -l"
   ]
  },
  {
   "cell_type": "markdown",
   "id": "a203283c",
   "metadata": {},
   "source": [
    "# Configuration"
   ]
  },
  {
   "cell_type": "markdown",
   "id": "e8c1eca4",
   "metadata": {},
   "source": [
    "## Location and date"
   ]
  },
  {
   "cell_type": "code",
   "execution_count": 9,
   "id": "d7167094",
   "metadata": {},
   "outputs": [],
   "source": [
    "SOFT_VERSION=\"v2\""
   ]
  },
  {
   "cell_type": "code",
   "execution_count": 10,
   "id": "d04d7b0a",
   "metadata": {},
   "outputs": [
    {
     "name": "stderr",
     "output_type": "stream",
     "text": [
      "/home/dagoret/repos/w_2021_36/rapid_analysis/python/lsst/rapid/analysis/nightReport.py:104: FutureWarning: Gen2 Butler has been deprecated (Butler). It will be removed sometime after v23.0 but no earlier than the end of 2021.\n",
      "  self._butler = dafPersist.Butler(repoDir)\n",
      "/home/dagoret/repos/w_2021_36/rapid_analysis/python/lsst/rapid/analysis/nightReport.py:104: FutureWarning: Gen2 Butler has been deprecated (LatissMapper). It will be removed sometime after v23.0 but no earlier than the end of 2021.\n",
      "  self._butler = dafPersist.Butler(repoDir)\n",
      "WARNING:lsst.obs.lsst.translators.lsst:AT_O_20210707_000508: Unable to determine airmass of a science observation, returning 1.\n",
      "WARNING:lsst.obs.lsst.translators.lsst:AT_O_20210707_000508: Unable to determine the filter\n",
      "WARNING:lsst.obs.lsst.translators.lsst:AT_O_20210707_000589: Unable to determine airmass of a science observation, returning 1.\n",
      "WARNING:lsst.obs.lsst.translators.lsst:AT_O_20210707_000589: Unable to determine the filter\n"
     ]
    },
    {
     "name": "stdout",
     "output_type": "stream",
     "text": [
      "Loaded data for seqNums 1 to 620\n"
     ]
    }
   ],
   "source": [
    "from lsst.rapid.analysis.nightReport import NightReporter\n",
    "# data exist here\n",
    "repoDir='/project/shared/auxTel/rerun/quickLook'\n",
    "# recommended but wrong\n",
    "#repoDir='project/shared/auxTel/rerun/mfl/slurmRun'\n",
    "dayObs=\"2021-07-07\"\n",
    "reporter=NightReporter(repoDir,dayObs)"
   ]
  },
  {
   "cell_type": "markdown",
   "id": "03565936",
   "metadata": {},
   "source": [
    "# Selection"
   ]
  },
  {
   "cell_type": "code",
   "execution_count": 11,
   "id": "56897479",
   "metadata": {},
   "outputs": [],
   "source": [
    "DISPERSER_SEL=\"holo4_003\""
   ]
  },
  {
   "cell_type": "code",
   "execution_count": 12,
   "id": "046f8160",
   "metadata": {},
   "outputs": [],
   "source": [
    "FLAG_FLAT_SELECTION=True"
   ]
  },
  {
   "cell_type": "markdown",
   "id": "fa2477a3",
   "metadata": {},
   "source": [
    "# Information from reporter"
   ]
  },
  {
   "cell_type": "code",
   "execution_count": 13,
   "id": "ff98f371",
   "metadata": {},
   "outputs": [
    {
     "name": "stdout",
     "output_type": "stream",
     "text": [
      "['HD 184971', '*  42 Psc', 'HD 166679', 'HD 123413', 'HD 141593', 'HD 123509', 'HD 192750', 'HD 169864', 'HD 160617', 'HD 209709', 'HD 109494', 'HD117637', 'slew_icrs', 'HD  15115', '* tau Pav', 'HD 222805', 'HD 126720', 'HD  83745', 'HD  31746', 'HD 142579', 'HD 170873', 'HD 217715', 'HD 149023', 'HD 208264', 'HD 191116', 'HD   9639', 'HD    483', 'HD 123380', 'HD 122153', 'HD 142794', 'HD 137795', 'HD 157575', 'HD 156675', 'HD 153750', 'HD   8733', 'HD 147422', 'HD 194916', '*  14 Del', 'HD   4858', 'HD 216163', 'HD 196078', 'HD 173975', 'HD  21032', 'V* CN Hyi', 'HD   1375', 'HD    242', 'HD 208110', 'HD 164073', 'HD 133601', 'HD 129165', 'HD 176865', 'V* CW Oct', 'HD 123613A', 'HD 221096', 'HD 207101', 'HD 122653', 'HD 186878', 'HD  26413', 'HD 144951', 'HD  22515', 'HR5064', '*  46 Psc', 'HD 122931', 'HD 152726', 'HD  20293', 'HD  22905', 'HD 183050', 'Spica', 'HD 180771', 'HD  29134', 'HD 122529', 'HD 222042', 'HD 181558', 'HD 198047', 'HD 123339', 'HD 189080', 'HD 132223', 'UNKNOWN', 'HD 209062', 'HD 200498', 'HD 121561', 'HD  13885', 'HD 162379', 'HD 122657', 'HD 179699', 'HD 123783', 'HD 129248', 'HD   5902', 'HD 172442', 'HD 196401', 'HD 224265']\n"
     ]
    }
   ],
   "source": [
    "print(reporter.getObservedObjects())"
   ]
  },
  {
   "cell_type": "code",
   "execution_count": 14,
   "id": "cfd43f36",
   "metadata": {},
   "outputs": [],
   "source": [
    "#reporter.makePolarPlotForObjects()"
   ]
  },
  {
   "cell_type": "code",
   "execution_count": 15,
   "id": "541b34ea",
   "metadata": {},
   "outputs": [],
   "source": [
    "reporter.plotPerObjectAirMass()"
   ]
  },
  {
   "cell_type": "code",
   "execution_count": 16,
   "id": "ad641051",
   "metadata": {},
   "outputs": [
    {
     "name": "stdout",
     "output_type": "stream",
     "text": [
      "{seqNum} {imageType} {obj} {timeOfDay} {filt} {timeSinceLastExp} {expTime}\n",
      "   1 bias      azel_target 21:36:34.162 RG610~empty                  0.0  0.00\n",
      "   2 bias      azel_target 21:36:50.001 RG610~empty                 15.8  0.00\n",
      "   3 bias      azel_target 21:36:54.499 RG610~empty                  4.5  0.00\n",
      "   4 bias      azel_target 21:36:59.001 RG610~empty                  4.5  0.00\n",
      "   5 bias      azel_target 21:37:03.500 RG610~empty                  4.5  0.00\n",
      "   6 bias      azel_target 21:37:07.998 RG610~empty                  4.5  0.00\n",
      "   7 bias      azel_target 21:37:12.501 RG610~empty                  4.5  0.00\n",
      "   8 bias      azel_target 21:37:17.010 RG610~empty                  4.5  0.00\n",
      "   9 bias      azel_target 21:37:21.518 RG610~empty                  4.5  0.00\n",
      "  10 bias      azel_target 21:37:26.018 RG610~empty                  4.5  0.00\n",
      "  11 bias      azel_target 21:37:30.513 RG610~empty                  4.5  0.00\n",
      "  12 bias      azel_target 21:37:35.011 RG610~empty                  4.5  0.00\n",
      "  13 bias      azel_target 21:37:39.504 RG610~empty                  4.5  0.00\n",
      "  14 bias      azel_target 21:37:43.999 RG610~empty                  4.5  0.00\n",
      "  15 bias      azel_target 21:37:48.491 RG610~empty                  4.5  0.00\n",
      "  16 bias      azel_target 21:37:52.983 RG610~empty                  4.5  0.00\n",
      "  17 bias      azel_target 21:37:57.480 RG610~empty                  4.5  0.00\n",
      "  18 bias      azel_target 21:38:01.978 RG610~empty                  4.5  0.00\n",
      "  19 bias      azel_target 21:38:06.486 RG610~empty                  4.5  0.00\n",
      "  20 bias      azel_target 21:38:10.979 RG610~empty                  4.5  0.00\n",
      "  21 bias      azel_target 21:38:15.474 RG610~empty                  4.5  0.00\n",
      "  22 bias      azel_target 21:38:19.979 RG610~empty                  4.5  0.00\n",
      "  23 bias      azel_target 21:38:24.477 RG610~empty                  4.5  0.00\n",
      "  24 bias      azel_target 21:38:28.970 RG610~empty                  4.5  0.00\n",
      "  25 bias      azel_target 21:38:33.475 RG610~empty                  4.5  0.00\n",
      "  26 bias      azel_target 21:38:37.972 RG610~empty                  4.5  0.00\n",
      "  27 bias      azel_target 21:38:42.467 RG610~empty                  4.5  0.00\n",
      "  28 bias      azel_target 21:38:46.967 RG610~empty                  4.5  0.00\n",
      "  29 bias      azel_target 21:38:51.463 RG610~empty                  4.5  0.00\n",
      "  30 bias      azel_target 21:38:55.961 RG610~empty                  4.5  0.00\n",
      "  31 bias      azel_target 21:39:00.458 RG610~empty                  4.5  0.00\n",
      "  32 bias      azel_target 21:39:04.962 RG610~empty                  4.5  0.00\n",
      "  33 bias      azel_target 21:39:09.479 RG610~empty                  4.5  0.00\n",
      "  34 bias      azel_target 21:39:13.980 RG610~empty                  4.5  0.00\n",
      "  35 bias      azel_target 21:39:18.475 RG610~empty                  4.5  0.00\n",
      "  36 bias      azel_target 21:39:22.972 RG610~empty                  4.5  0.00\n",
      "  37 bias      azel_target 21:39:27.472 RG610~empty                  4.5  0.00\n",
      "  38 bias      azel_target 21:39:31.989 RG610~empty                  4.5  0.00\n",
      "  39 bias      azel_target 21:39:36.492 RG610~empty                  4.5  0.00\n",
      "  40 bias      azel_target 21:39:40.983 RG610~empty                  4.5  0.00\n",
      "  41 bias      azel_target 21:39:45.481 RG610~empty                  4.5  0.00\n",
      "  42 bias      azel_target 21:39:49.976 RG610~empty                  4.5  0.00\n",
      "  43 bias      azel_target 21:39:54.479 RG610~empty                  4.5  0.00\n",
      "  44 bias      azel_target 21:39:58.978 RG610~empty                  4.5  0.00\n",
      "  45 bias      azel_target 21:40:03.478 RG610~empty                  4.5  0.00\n",
      "  46 bias      azel_target 21:40:07.974 RG610~empty                  4.5  0.00\n",
      "  47 bias      azel_target 21:40:12.465 RG610~empty                  4.5  0.00\n",
      "  48 bias      azel_target 21:40:16.966 RG610~empty                  4.5  0.00\n",
      "  49 bias      azel_target 21:40:21.461 RG610~empty                  4.5  0.00\n",
      "  50 bias      azel_target 21:40:25.959 RG610~empty                  4.5  0.00\n",
      "  51 bias      azel_target 21:40:30.453 RG610~empty                  4.5  0.00\n",
      "  52 dark      azel_target 21:40:42.052 RG610~empty                 11.6  10.00\n",
      "  53 dark      azel_target 21:40:54.540 RG610~empty                 12.5  10.00\n",
      "  54 dark      azel_target 21:41:07.033 RG610~empty                 12.5  10.00\n",
      "  55 dark      azel_target 21:41:19.524 RG610~empty                 12.5  10.00\n",
      "  56 dark      azel_target 21:41:32.021 RG610~empty                 12.5  10.00\n",
      "  57 dark      azel_target 21:41:44.508 RG610~empty                 12.5  10.00\n",
      "  58 dark      azel_target 21:41:56.999 RG610~empty                 12.5  10.00\n",
      "  59 dark      azel_target 21:42:09.500 RG610~empty                 12.5  10.00\n",
      "  60 dark      azel_target 21:42:21.998 RG610~empty                 12.5  10.00\n",
      "  61 dark      azel_target 21:42:34.488 RG610~empty                 12.5  10.00\n",
      "  62 flat      FlatField position 22:38:26.896 RG610~empty               3352.4  2.00\n",
      "  63 flat      FlatField position 22:38:42.447 RG610~empty                 15.6  2.00\n",
      "  64 flat      FlatField position 22:38:47.003 RG610~empty                  4.6  2.00\n",
      "  65 flat      FlatField position 22:38:51.566 RG610~empty                  4.6  2.00\n",
      "  66 flat      FlatField position 22:38:56.134 RG610~empty                  4.6  2.00\n",
      "  67 flat      FlatField position 22:39:00.699 RG610~empty                  4.6  2.00\n",
      "  68 flat      FlatField position 22:39:05.262 RG610~empty                  4.6  2.00\n",
      "  69 flat      FlatField position 22:39:09.827 RG610~empty                  4.6  2.00\n",
      "  70 flat      FlatField position 22:39:14.391 RG610~empty                  4.6  2.00\n",
      "  71 flat      FlatField position 22:39:18.948 RG610~empty                  4.6  2.00\n",
      "  72 flat      FlatField position 22:39:23.508 RG610~empty                  4.6  2.00\n",
      "  73 science   Spica      23:08:21.711 RG610~empty               1738.2  1.00\n",
      "  74 science   HR5064     23:12:19.336 RG610~empty                237.6  5.00\n",
      "  75 science   HR5064     23:16:14.215 RG610~empty                234.9  5.00\n",
      "  76 science   HR5064     23:18:15.054 RG610~empty                120.8  5.00\n",
      "  77 science   HR5064     23:18:53.684 RG610~empty                 38.6  5.00\n",
      "  78 science   HR5064     23:20:20.864 RG610~empty                 87.2  5.00\n",
      "  79 science   HD117637   23:25:57.452 RG610~empty                336.6  5.00\n",
      "  80 science   HD117637   23:27:14.398 RG610~empty                 76.9  5.00\n",
      "  81 engtest   HD117637   23:30:14.375 RG610~empty                180.0  20.00\n",
      "  82 engtest   HD117637   23:30:41.895 RG610~empty                 27.5  20.00\n",
      "  83 engtest   HD117637   23:32:21.226 RG610~empty                 99.3  20.00\n",
      "  84 engtest   HD117637   23:32:48.717 RG610~empty                 27.5  20.00\n",
      "  85 engtest   HD117637   23:34:05.109 RG610~empty                 76.4  20.00\n",
      "  86 science   HD117637   23:45:21.555 RG610~empty                676.4  5.00\n",
      "  87 science   HD117637   23:47:23.339 RG610~empty                121.8  5.00\n",
      "  88 science   HD117637   23:48:43.154 RG610~empty                 79.8  5.00\n",
      "  89 science   HD117637   23:49:07.052 RG610~empty                 23.9  5.00\n",
      "  90 engtest   HD117637   23:49:46.776 RG610~empty                 39.7  20.00\n",
      "  91 engtest   HD117637   23:50:14.114 RG610~empty                 27.3  20.00\n",
      "  92 engtest   HD117637   23:51:49.766 RG610~empty                 95.7  20.00\n",
      "  93 engtest   HD117637   23:52:17.266 RG610~empty                 27.5  20.00\n",
      "  94 science   HD117637   23:53:56.576 RG610~empty                 99.3  5.00\n",
      "  95 science   HD117637   23:55:43.441 RG610~empty                106.9  5.00\n",
      "  96 science   HD117637   23:59:02.719 RG610~empty                199.3  5.00\n",
      "  97 science   HD117637   00:00:07.079 RG610~empty                 64.4  5.00\n",
      "  98 science   HD117637   00:01:31.886 RG610~empty                 84.8  5.00\n",
      "  99 science   HD 123413  00:04:02.277 RG610~empty                150.4  5.00\n",
      " 100 engtest   HD 123413  00:05:20.945 RG610~empty                 78.7  20.00\n",
      " 101 engtest   HD 123413  00:05:48.425 RG610~empty                 27.5  20.00\n",
      " 102 engtest   HD 123413  00:07:25.993 RG610~empty                 97.6  20.00\n",
      " 103 engtest   HD 123413  00:07:54.369 RG610~empty                 28.4  20.00\n",
      " 104 science   HD 123413  00:09:30.776 RG610~empty                 96.4  5.00\n",
      " 105 science   HD 122931  00:10:55.570 RG610~empty                 84.8  5.00\n",
      " 106 engtest   HD 122931  00:11:16.987 RG610~empty                 21.4  20.00\n",
      " 107 engtest   HD 122931  00:11:45.386 RG610~empty                 28.4  20.00\n",
      " 108 science   HD 122931  00:13:19.731 RG610~empty                 94.3  5.00\n",
      " 109 science   HD 123380  00:15:32.350 RG610~empty                132.6  5.00\n",
      " 110 engtest   HD 123380  00:15:53.377 RG610~empty                 21.0  20.00\n",
      " 111 engtest   HD 123380  00:16:20.948 RG610~empty                 27.6  20.00\n",
      " 112 engtest   HD 123380  00:17:57.197 RG610~empty                 96.2  20.00\n",
      " 113 engtest   HD 123380  00:18:24.770 RG610~empty                 27.6  20.00\n",
      " 114 science   HD 123380  00:20:03.722 RG610~empty                 99.0  5.00\n",
      " 115 science   HD 122657  00:21:27.376 RG610~empty                 83.7  5.00\n",
      " 116 engtest   HD 122657  00:21:46.465 RG610~empty                 19.1  20.00\n",
      " 117 engtest   HD 122657  00:22:13.965 RG610~empty                 27.5  20.00\n",
      " 118 science   HD 122657  00:23:51.052 RG610~empty                 97.1  5.00\n",
      " 119 science   HD 123509  00:24:48.918 RG610~empty                 57.9  5.00\n",
      " 120 engtest   HD 123509  00:25:07.937 RG610~empty                 19.0  20.00\n",
      " 121 engtest   HD 123509  00:25:35.428 RG610~empty                 27.5  20.00\n",
      " 122 engtest   HD 123509  00:27:10.922 RG610~empty                 95.5  20.00\n",
      " 123 engtest   HD 123509  00:27:38.436 RG610~empty                 27.5  20.00\n",
      " 124 science   HD 123509  00:29:14.628 RG610~empty                 96.2  5.00\n",
      " 125 science   HD 122153  00:30:14.378 RG610~empty                 59.8  5.00\n",
      " 126 engtest   HD 122153  00:30:37.127 RG610~empty                 22.7  20.00\n",
      " 127 engtest   HD 122153  00:31:05.201 RG610~empty                 28.1  20.00\n",
      " 128 science   HD 122153  00:32:42.380 RG610~empty                 97.2  5.00\n",
      " 129 science   HD 122529  00:33:54.583 RG610~empty                 72.2  5.00\n",
      " 130 engtest   HD 122529  00:34:14.004 RG610~empty                 19.4  20.00\n",
      " 131 engtest   HD 122529  00:34:41.918 RG610~empty                 27.9  20.00\n",
      " 132 science   HD 122529  00:36:20.424 RG610~empty                 98.5  5.00\n",
      " 133 science   HD 121561  00:37:29.159 RG610~empty                 68.7  5.00\n",
      " 134 science   HD 121561  00:38:51.462 RG610~empty                 82.3  5.00\n",
      " 135 engtest   HD 121561  00:39:14.116 RG610~empty                 22.7  20.00\n",
      " 136 engtest   HD 121561  00:39:41.881 RG610~empty                 27.8  20.00\n",
      " 137 engtest   HD 121561  00:41:18.006 RG610~empty                 96.1  20.00\n",
      " 138 engtest   HD 121561  00:41:45.926 RG610~empty                 27.9  20.00\n",
      " 139 engtest   HD 121561  00:43:21.618 RG610~empty                 95.7  20.00\n",
      " 140 engtest   HD 121561  00:43:49.745 RG610~empty                 28.1  20.00\n",
      " 141 engtest   HD 121561  00:45:25.506 RG610~empty                 95.8  20.00\n",
      " 142 engtest   HD 121561  00:45:53.226 RG610~empty                 27.7  20.00\n",
      " 143 science   HD 121561  00:47:29.571 RG610~empty                 96.3  5.00\n",
      " 144 science   HD 122653  00:49:09.751 RG610~empty                100.2  5.00\n",
      " 145 science   HD 122653  00:49:49.528 RG610~empty                 39.8  5.00\n",
      " 146 engtest   HD 122653  00:50:12.625 RG610~empty                 23.1  20.00\n",
      " 147 engtest   HD 122653  00:50:40.394 RG610~empty                 27.8  20.00\n",
      " 148 engtest   HD 122653  00:52:16.399 RG610~empty                 96.0  20.00\n",
      " 149 engtest   HD 122653  00:52:43.999 RG610~empty                 27.6  20.00\n",
      " 150 science   HD 122653  00:54:20.419 RG610~empty                 96.4  5.00\n",
      " 151 science   HD 123613A 00:55:13.975 RG610~empty                 53.6  5.00\n",
      " 152 science   HD 123613A 00:55:44.529 RG610~empty                 30.6  5.00\n",
      " 153 science   HD 123339  00:58:03.869 RG610~empty                139.3  5.00\n",
      " 154 science   HD 123339  00:58:28.785 RG610~empty                 24.9  5.00\n",
      " 155 engtest   HD 123339  00:58:47.655 RG610~empty                 18.9  20.00\n",
      " 156 engtest   HD 123339  00:59:15.726 RG610~empty                 28.1  20.00\n",
      " 157 engtest   HD 123339  01:00:53.784 RG610~empty                 98.1  20.00\n",
      " 158 engtest   HD 123339  01:01:21.526 RG610~empty                 27.7  20.00\n",
      " 159 engtest   HD 123339  01:02:59.371 RG610~empty                 97.8  20.00\n",
      " 160 engtest   HD 123339  01:03:27.438 RG610~empty                 28.1  20.00\n",
      " 161 science   HD 123339  01:05:05.890 RG610~empty                 98.5  5.00\n",
      " 162 science   HD 123783  01:06:16.385 RG610~empty                 70.5  5.00\n",
      " 163 science   HD 123783  01:06:51.024 RG610~empty                 34.6  5.00\n",
      " 164 engtest   HD 123783  01:07:18.992 RG610~empty                 28.0  20.00\n",
      " 165 engtest   HD 123783  01:07:47.169 RG610~empty                 28.2  20.00\n",
      " 166 engtest   HD 123783  01:14:28.940 RG610~empty                401.8  20.00\n",
      " 167 engtest   HD 123783  01:14:56.498 RG610~empty                 27.6  20.00\n",
      " 168 engtest   HD 123783  01:16:31.928 RG610~empty                 95.4  20.00\n",
      " 169 engtest   HD 123783  01:16:59.417 RG610~empty                 27.5  20.00\n",
      " 170 science   HD 123783  01:18:34.973 RG610~empty                 95.6  5.00\n",
      " 171 science   HD 126720  01:19:51.003 RG610~empty                 76.0  5.00\n",
      " 172 science   HD 126720  01:20:21.238 RG610~empty                 30.2  5.00\n",
      " 173 engtest   HD 126720  01:21:06.871 RG610~empty                 45.6  20.00\n",
      " 174 engtest   HD 126720  01:21:33.943 RG610~empty                 27.1  20.00\n",
      " 175 engtest   HD 126720  01:23:08.328 RG610~empty                 94.4  20.00\n",
      " 176 engtest   HD 126720  01:23:35.564 RG610~empty                 27.2  20.00\n",
      " 177 science   HD 126720  01:25:13.227 RG610~empty                 97.7  5.00\n",
      " 178 science   HD 129248  01:26:15.057 RG610~empty                 61.8  5.00\n",
      " 179 engtest   HD 129248  01:26:39.707 RG610~empty                 24.7  20.00\n",
      " 180 engtest   HD 129248  01:27:07.675 RG610~empty                 28.0  20.00\n",
      " 181 engtest   HD 129248  01:28:41.941 RG610~empty                 94.3  20.00\n",
      " 182 engtest   HD 129248  01:29:10.059 RG610~empty                 28.1  20.00\n",
      " 183 engtest   HD 129248  01:30:45.192 RG610~empty                 95.1  20.00\n",
      " 184 engtest   HD 129248  01:31:13.286 RG610~empty                 28.1  20.00\n",
      " 185 science   HD 129248  01:32:49.773 RG610~empty                 96.5  5.00\n",
      " 186 science   HD 133601  01:33:57.922 RG610~empty                 68.1  5.00\n",
      " 187 engtest   HD 133601  01:34:20.774 RG610~empty                 22.9  20.00\n",
      " 188 engtest   HD 133601  01:34:48.104 RG610~empty                 27.3  20.00\n",
      " 189 engtest   HD 133601  01:36:22.713 RG610~empty                 94.6  20.00\n",
      " 190 engtest   HD 133601  01:36:50.217 RG610~empty                 27.5  20.00\n",
      " 191 engtest   HD 133601  01:38:23.832 RG610~empty                 93.6  20.00\n",
      " 192 engtest   HD 133601  01:38:52.684 RG610~empty                 28.9  20.00\n",
      " 193 science   HD 133601  01:40:29.100 RG610~empty                 96.4  5.00\n",
      " 194 science   HD 137795  01:41:56.379 RG610~empty                 87.3  5.00\n",
      " 195 engtest   HD 137795  01:42:11.425 RG610~empty                 15.0  20.00\n",
      " 196 engtest   HD 137795  01:42:38.822 RG610~empty                 27.4  20.00\n",
      " 197 engtest   HD 137795  01:44:17.517 RG610~empty                 98.7  20.00\n",
      " 198 engtest   HD 137795  01:44:46.096 RG610~empty                 28.6  20.00\n",
      " 199 science   HD 137795  01:46:23.778 RG610~empty                 97.7  5.00\n",
      " 200 science   HD 141593  01:48:17.936 RG610~empty                114.2  5.00\n",
      " 201 engtest   HD 141593  01:48:38.909 RG610~empty                 21.0  20.00\n",
      " 202 engtest   HD 141593  01:49:06.410 RG610~empty                 27.5  20.00\n",
      " 203 science   HD 141593  01:50:42.773 RG610~empty                 96.4  5.00\n",
      " 204 science   HD 142579  01:52:14.761 RG610~empty                 92.0  5.00\n",
      " 205 engtest   HD 142579  01:53:09.963 RG610~empty                 55.2  20.00\n",
      " 206 engtest   HD 142579  01:53:37.471 RG610~empty                 27.5  20.00\n",
      " 207 science   HD 142579  01:55:15.834 RG610~empty                 98.4  5.00\n",
      " 208 science   HD 160617  02:18:52.225 RG610~empty               1416.4  5.00\n",
      " 209 engtest   HD 160617  02:20:23.287 RG610~empty                 91.1  20.00\n",
      " 210 engtest   HD 160617  02:20:51.628 RG610~empty                 28.3  20.00\n",
      " 211 science   HD 160617  02:22:29.176 RG610~empty                 97.5  5.00\n",
      " 212 science   HD 160617  02:26:30.079 RG610~empty                240.9  5.00\n",
      " 213 science   HD 160617  02:27:27.527 RG610~empty                 57.4  5.00\n",
      " 214 science   HD 160617  02:27:56.808 RG610~empty                 29.3  5.00\n",
      " 215 science   HD 160617  02:30:54.261 RG610~ronchi170lpmm        177.5  5.00\n",
      " 216 science   HD 160617  02:31:04.665 RG610~ronchi170lpmm         10.4  5.00\n",
      " 217 science   HD 160617  02:31:14.137 RG610~ronchi170lpmm          9.5  5.00\n",
      " 218 science   HD 160617  02:31:23.738 RG610~ronchi170lpmm          9.6  5.00\n",
      " 219 science   HD 160617  02:31:34.252 RG610~ronchi170lpmm         10.5  5.00\n",
      " 220 science   HD 160617  02:31:44.149 RG610~ronchi170lpmm          9.9  5.00\n",
      " 221 science   HD 160617  02:31:53.659 RG610~ronchi170lpmm          9.5  5.00\n",
      " 222 science   HD 160617  02:32:02.763 RG610~ronchi170lpmm          9.1  5.00\n",
      " 223 science   HD 160617  02:32:12.441 RG610~ronchi170lpmm          9.7  5.00\n",
      " 224 science   HD 160617  02:41:13.297 RG610~ronchi90lpmm         540.9  5.00\n",
      " 225 science   HD 160617  02:43:48.486 RG610~ronchi90lpmm         155.2  5.00\n",
      " 226 science   HD 160617  02:43:58.427 RG610~ronchi90lpmm           9.9  5.00\n",
      " 227 science   HD 160617  02:44:08.003 RG610~ronchi90lpmm           9.6  5.00\n",
      " 228 science   HD 160617  02:44:18.134 RG610~ronchi90lpmm          10.1  5.00\n",
      " 229 science   HD 160617  02:44:27.661 RG610~ronchi90lpmm           9.5  5.00\n",
      " 230 science   HD 160617  02:44:36.803 RG610~ronchi90lpmm           9.1  5.00\n",
      " 231 science   HD 160617  02:44:46.489 RG610~ronchi90lpmm           9.7  5.00\n",
      " 232 science   HD 160617  02:44:56.744 RG610~ronchi90lpmm          10.3  5.00\n",
      " 233 science   HD 160617  02:45:07.134 RG610~ronchi90lpmm          10.4  5.00\n",
      " 234 science   HD 160617  02:50:31.569 RG610~holo4_003            324.4  5.00\n",
      " 235 science   HD 160617  02:51:12.101 RG610~holo4_003             40.5  5.00\n",
      " 236 science   HD 160617  02:51:21.256 RG610~holo4_003              9.2  5.00\n",
      " 237 science   HD 160617  02:51:30.934 RG610~holo4_003              9.7  5.00\n",
      " 238 science   HD 160617  02:51:40.885 RG610~holo4_003             10.0  5.00\n",
      " 239 science   HD 160617  02:51:50.381 RG610~holo4_003              9.5  5.00\n",
      " 240 science   HD 160617  02:51:59.759 RG610~holo4_003              9.4  5.00\n",
      " 241 science   HD 160617  02:52:10.113 RG610~holo4_003             10.4  5.00\n",
      " 242 science   HD 160617  02:52:19.262 RG610~holo4_003              9.1  5.00\n",
      " 243 science   HD 160617  02:52:29.022 RG610~holo4_003              9.8  5.00\n",
      " 244 science   HD 160617  03:09:18.381 RG610~holo4_003           1009.4  0.50\n",
      " 245 science   HD 160617  03:09:51.483 RG610~holo4_003             33.1  0.50\n",
      " 246 science   HD 160617  03:10:22.899 RG610~holo4_003             31.4  0.50\n",
      " 247 science   HD 160617  03:10:54.635 RG610~holo4_003             31.7  0.50\n",
      " 248 science   HD 160617  03:14:25.113 empty~holo4_003            210.5  2.00\n",
      " 249 science   HD 160617  03:18:49.728 empty~holo4_003            264.6  2.00\n",
      " 250 science   HD 160617  03:22:35.058 empty~holo4_003            225.3  2.00\n",
      " 251 science   HD 160617  03:27:28.637 empty~holo4_003            293.6  2.00\n",
      " 252 science   HD 160617  03:31:49.398 empty~holo4_003            260.8  2.00\n",
      " 253 science   HD 160617  03:33:02.383 empty~holo4_003             73.0  20.00\n",
      " 254 science   HD 160617  03:33:40.416 empty~holo4_003             38.0  20.00\n",
      " 255 science   HD 160617  03:34:18.506 empty~holo4_003             38.1  20.00\n",
      " 256 science   HD 160617  03:34:56.504 empty~holo4_003             38.0  20.00\n",
      " 257 science   HD 160617  03:35:34.622 empty~holo4_003             38.1  20.00\n",
      " 258 science   HD 160617  03:36:12.773 empty~holo4_003             38.2  20.00\n",
      " 259 science   HD 160617  03:36:51.324 empty~holo4_003             38.6  20.00\n",
      " 260 science   HD 160617  03:37:29.434 empty~holo4_003             38.1  20.00\n",
      " 261 science   HD 160617  03:38:07.561 empty~holo4_003             38.1  20.00\n",
      " 262 science   HD 160617  03:38:45.707 empty~holo4_003             38.1  20.00\n",
      " 263 science   HD 160617  03:39:23.969 empty~holo4_003             38.3  20.00\n",
      " 264 science   HD 160617  03:40:02.136 empty~holo4_003             38.2  20.00\n",
      " 265 science   HD 160617  03:40:40.864 empty~holo4_003             38.7  20.00\n",
      " 266 science   HD 160617  03:41:19.059 empty~holo4_003             38.2  20.00\n",
      " 267 science   HD 160617  03:41:57.407 empty~holo4_003             38.3  20.00\n",
      " 268 science   HD 160617  03:42:35.608 empty~holo4_003             38.2  20.00\n",
      " 269 science   HD 160617  03:43:13.804 empty~holo4_003             38.2  20.00\n",
      " 270 science   HD 160617  03:43:52.018 empty~holo4_003             38.2  20.00\n",
      " 271 science   HD 160617  03:44:30.763 empty~holo4_003             38.7  20.00\n",
      " 272 science   HD 160617  03:45:08.962 empty~holo4_003             38.2  20.00\n",
      " 273 science   HD 160617  03:45:47.206 empty~holo4_003             38.2  20.00\n",
      " 274 science   HD 160617  03:46:25.307 empty~holo4_003             38.1  20.00\n",
      " 275 science   HD 160617  03:47:03.492 empty~holo4_003             38.2  20.00\n",
      " 276 science   HD 160617  03:47:41.807 empty~holo4_003             38.3  20.00\n",
      " 277 science   HD 160617  03:48:20.795 empty~holo4_003             39.0  20.00\n",
      " 278 science   HD 160617  03:48:58.912 empty~holo4_003             38.1  20.00\n",
      " 279 science   HD 160617  03:49:37.128 empty~holo4_003             38.2  20.00\n",
      " 280 science   HD 160617  03:50:15.298 empty~holo4_003             38.2  20.00\n",
      " 281 science   HD 160617  03:50:53.476 empty~holo4_003             38.2  20.00\n",
      " 282 science   HD 160617  03:51:31.752 empty~holo4_003             38.3  20.00\n",
      " 283 science   HD 160617  03:52:10.906 empty~holo4_003             39.2  20.00\n",
      " 284 science   HD 160617  03:52:49.130 empty~holo4_003             38.2  20.00\n",
      " 285 science   HD 160617  03:53:27.487 empty~holo4_003             38.4  20.00\n",
      " 286 science   HD 160617  03:54:05.770 empty~holo4_003             38.3  20.00\n",
      " 287 science   HD 160617  03:54:44.149 empty~holo4_003             38.4  20.00\n",
      " 288 science   HD 160617  03:55:22.356 empty~holo4_003             38.2  20.00\n",
      " 289 science   HD 160617  03:57:27.244 empty~holo4_003            124.9  20.00\n",
      " 290 science   HD 160617  04:01:50.450 empty~holo4_003            263.2  2.00\n",
      " 291 science   HD 160617  04:04:12.555 empty~holo4_003            142.1  2.00\n",
      " 292 science   HD 160617  04:05:06.367 empty~holo4_003             53.8  20.00\n",
      " 293 science   HD 160617  04:05:38.880 empty~holo4_003             32.5  20.00\n",
      " 294 science   HD 160617  04:06:11.311 empty~holo4_003             32.4  20.00\n",
      " 295 science   HD 160617  04:06:43.769 empty~holo4_003             32.5  20.00\n",
      " 296 science   HD 160617  04:07:16.223 empty~holo4_003             32.5  20.00\n",
      " 297 science   HD 160617  04:07:48.665 empty~holo4_003             32.4  20.00\n",
      " 298 science   HD 160617  04:08:21.107 empty~holo4_003             32.4  20.00\n",
      " 299 science   HD 160617  04:08:54.078 empty~holo4_003             33.0  20.00\n",
      " 300 science   HD 160617  04:09:26.572 empty~holo4_003             32.5  20.00\n",
      " 301 science   HD 160617  04:09:59.052 empty~holo4_003             32.5  20.00\n",
      " 302 science   HD 160617  04:10:31.515 empty~holo4_003             32.5  20.00\n",
      " 303 science   HD 160617  04:11:03.986 empty~holo4_003             32.5  20.00\n",
      " 304 science   HD 160617  04:11:36.404 empty~holo4_003             32.4  20.00\n",
      " 305 science   HD 160617  04:12:08.868 empty~holo4_003             32.5  20.00\n",
      " 306 science   HD 160617  04:22:19.093 RG610~holo4_003            610.2  0.50\n",
      " 307 science   HD 160617  04:22:52.079 RG610~holo4_003             33.0  0.50\n",
      " 308 science   HD 160617  04:23:23.868 RG610~holo4_003             31.8  0.50\n",
      " 309 science   HD 160617  04:27:28.703 empty~holo4_003            244.8  2.00\n",
      " 310 engtest   HD 160617  04:39:07.025 empty~empty                698.3  20.00\n",
      " 311 engtest   HD 160617  04:39:35.179 empty~empty                 28.2  20.00\n",
      " 312 engtest   HD 160617  04:41:11.222 empty~empty                 96.0  20.00\n",
      " 313 engtest   HD 160617  04:41:39.758 empty~empty                 28.5  20.00\n",
      " 314 science   HD 160617  04:43:16.425 empty~empty                 96.7  5.00\n",
      " 315 science   HD 160617  04:45:17.247 empty~holo4_003            120.8  2.00\n",
      " 316 science   HD 160617  04:47:03.545 empty~holo4_003            106.3  2.00\n",
      " 317 science   HD 160617  04:49:32.013 empty~holo4_003            148.5  20.00\n",
      " 318 science   HD 160617  04:50:04.270 empty~holo4_003             32.3  20.00\n",
      " 319 science   HD 160617  04:50:36.514 empty~holo4_003             32.2  20.00\n",
      " 320 science   HD 160617  04:51:08.758 empty~holo4_003             32.2  20.00\n",
      " 321 science   HD 160617  04:51:41.005 empty~holo4_003             32.2  20.00\n",
      " 322 science   HD 160617  04:52:13.265 empty~holo4_003             32.3  20.00\n",
      " 323 science   HD 160617  04:52:45.515 empty~holo4_003             32.2  20.00\n",
      " 324 science   HD 160617  04:53:18.264 empty~holo4_003             32.7  20.00\n",
      " 325 science   HD 160617  04:53:50.521 empty~holo4_003             32.3  20.00\n",
      " 326 science   HD 160617  04:54:22.770 empty~holo4_003             32.2  20.00\n",
      " 327 science   HD 160617  04:54:55.016 empty~holo4_003             32.2  20.00\n",
      " 328 science   HD 160617  04:55:27.314 empty~holo4_003             32.3  20.00\n",
      " 329 science   HD 160617  04:55:59.559 empty~holo4_003             32.2  20.00\n",
      " 330 science   HD 160617  04:56:31.807 empty~holo4_003             32.2  20.00\n",
      " 331 science   HD 160617  04:57:04.543 empty~holo4_003             32.7  20.00\n",
      " 332 science   HD 160617  04:57:36.808 empty~holo4_003             32.3  20.00\n",
      " 333 science   HD 160617  04:58:09.080 empty~holo4_003             32.3  20.00\n",
      " 334 science   HD 160617  04:58:41.316 empty~holo4_003             32.2  20.00\n",
      " 335 science   HD 160617  04:59:13.646 empty~holo4_003             32.3  20.00\n",
      " 336 science   HD 160617  04:59:45.917 empty~holo4_003             32.3  20.00\n",
      " 337 science   HD 160617  05:00:18.159 empty~holo4_003             32.2  20.00\n",
      " 338 science   HD 160617  05:00:50.866 empty~holo4_003             32.7  20.00\n",
      " 339 science   HD 160617  05:01:23.102 empty~holo4_003             32.2  20.00\n",
      " 340 science   HD 160617  05:01:55.386 empty~holo4_003             32.3  20.00\n",
      " 341 science   HD 160617  05:02:27.623 empty~holo4_003             32.2  20.00\n",
      " 342 science   HD 160617  05:02:59.878 empty~holo4_003             32.3  20.00\n",
      " 343 science   HD 160617  05:03:32.163 empty~holo4_003             32.3  20.00\n",
      " 344 science   HD 160617  05:04:04.369 empty~holo4_003             32.2  20.00\n",
      " 345 science   HD 160617  05:04:37.125 empty~holo4_003             32.8  20.00\n",
      " 346 science   HD 160617  05:05:09.319 empty~holo4_003             32.2  20.00\n",
      " 347 science   HD 160617  05:05:41.575 empty~holo4_003             32.3  20.00\n",
      " 348 science   HD 160617  05:06:13.770 empty~holo4_003             32.2  20.00\n",
      " 349 science   HD 160617  05:06:45.993 empty~holo4_003             32.2  20.00\n",
      " 350 science   HD 160617  05:07:18.206 empty~holo4_003             32.2  20.00\n",
      " 351 science   HD 160617  05:07:50.425 empty~holo4_003             32.2  20.00\n",
      " 352 science   HD 160617  05:08:23.106 empty~holo4_003             32.7  20.00\n",
      " 353 science   HD 160617  05:08:55.321 empty~holo4_003             32.2  20.00\n",
      " 354 science   HD 160617  05:09:27.519 empty~holo4_003             32.2  20.00\n",
      " 355 science   HD 160617  05:09:59.720 empty~holo4_003             32.2  20.00\n",
      " 356 science   HD 160617  05:10:31.917 empty~holo4_003             32.2  20.00\n",
      " 357 science   HD 160617  05:11:04.125 empty~holo4_003             32.2  20.00\n",
      " 358 science   HD 160617  05:11:36.310 empty~holo4_003             32.2  20.00\n",
      " 359 science   HD 160617  05:12:09.013 empty~holo4_003             32.7  20.00\n",
      " 360 science   HD 160617  05:12:41.214 empty~holo4_003             32.2  20.00\n",
      " 361 science   HD 160617  05:13:13.419 empty~holo4_003             32.2  20.00\n",
      " 362 science   HD 160617  05:13:45.618 empty~holo4_003             32.2  20.00\n",
      " 363 science   HD 160617  05:14:17.866 empty~holo4_003             32.2  20.00\n",
      " 364 science   HD 160617  05:14:50.080 empty~holo4_003             32.2  20.00\n",
      " 365 science   HD 160617  05:15:22.270 empty~holo4_003             32.2  20.00\n",
      " 366 science   slew_icrs  05:21:38.445 empty~empty                376.2  30.00\n",
      " 367 science   slew_icrs  05:24:56.558 empty~holo4_003            198.1  60.00\n",
      " 368 science   HD 179699  05:28:46.235 RG610~empty                229.7  5.00\n",
      " 369 science   HD 179699  05:30:06.688 RG610~empty                 80.5  5.00\n",
      " 370 engtest   HD 179699  05:30:57.128 RG610~empty                 50.4  20.00\n",
      " 371 engtest   HD 179699  05:31:24.717 RG610~empty                 27.6  20.00\n",
      " 372 science   HD 179699  05:33:00.521 RG610~empty                 95.8  5.00\n",
      " 373 science   HD 172442  05:34:39.439 RG610~empty                 98.9  5.00\n",
      " 374 science   HD 172442  05:35:12.212 RG610~empty                 32.8  5.00\n",
      " 375 engtest   HD 172442  05:35:35.165 RG610~empty                 23.0  20.00\n",
      " 376 engtest   HD 172442  05:36:02.765 RG610~empty                 27.6  20.00\n",
      " 377 science   HD 172442  05:37:58.238 RG610~empty                115.5  5.00\n",
      " 378 engtest   HD 172442  05:38:24.558 RG610~empty                 26.3  20.00\n",
      " 379 engtest   HD 172442  05:38:52.842 RG610~empty                 28.3  20.00\n",
      " 380 engtest   HD 172442  05:40:28.621 RG610~empty                 95.8  20.00\n",
      " 381 engtest   HD 172442  05:40:56.124 RG610~empty                 27.5  20.00\n",
      " 382 science   HD 172442  05:42:34.602 RG610~empty                 98.5  5.00\n",
      " 383 science   HD 164073  05:43:57.370 RG610~empty                 82.8  5.00\n",
      " 384 science   HD 164073  05:44:38.235 RG610~empty                 40.9  5.00\n",
      " 385 engtest   HD 164073  05:44:58.306 RG610~empty                 20.1  20.00\n",
      " 386 engtest   HD 164073  05:45:26.805 RG610~empty                 28.5  20.00\n",
      " 387 engtest   HD 164073  05:47:02.784 RG610~empty                 96.0  20.00\n",
      " 388 engtest   HD 164073  05:47:30.235 RG610~empty                 27.5  20.00\n",
      " 389 science   HD 164073  05:49:05.829 RG610~empty                 95.6  5.00\n",
      " 390 science   HD 152726  05:50:31.218 RG610~empty                 85.4  5.00\n",
      " 391 science   HD 156675  05:52:22.082 RG610~empty                110.9  5.00\n",
      " 392 science   HD 156675  05:52:54.681 RG610~empty                 32.6  5.00\n",
      " 393 science   HD 156675  05:53:50.383 RG610~empty                 55.7  5.00\n",
      " 394 engtest   HD 156675  05:54:36.953 RG610~empty                 46.6  20.00\n",
      " 395 engtest   HD 156675  05:55:04.833 RG610~empty                 27.9  20.00\n",
      " 396 engtest   HD 156675  05:56:42.743 RG610~empty                 97.9  20.00\n",
      " 397 engtest   HD 156675  05:57:10.351 RG610~empty                 27.6  20.00\n",
      " 398 science   HD 156675  05:58:49.427 RG610~empty                 99.1  5.00\n",
      " 399 science   HD 147422  06:00:35.979 RG610~empty                106.6  5.00\n",
      " 400 science   HD 147422  06:01:20.738 RG610~empty                 44.8  5.00\n",
      " 401 science   HD 147422  06:02:47.079 RG610~empty                 86.3  5.00\n",
      " 402 engtest   HD 147422  06:03:14.175 RG610~empty                 27.1  20.00\n",
      " 403 engtest   HD 147422  06:03:42.348 RG610~empty                 28.2  20.00\n",
      " 404 engtest   HD 147422  06:05:21.640 RG610~empty                 99.3  20.00\n",
      " 405 engtest   HD 147422  06:05:49.789 RG610~empty                 28.1  20.00\n",
      " 406 science   HD 147422  06:07:26.880 RG610~empty                 97.1  5.00\n",
      " 407 science   HD 132223  06:08:53.314 RG610~empty                 86.4  5.00\n",
      " 408 science   HD 132223  06:09:23.439 RG610~empty                 30.1  5.00\n",
      " 409 science   HD 132223  06:10:01.845 RG610~empty                 38.4  5.00\n",
      " 410 engtest   HD 132223  06:10:38.524 RG610~empty                 36.7  20.00\n",
      " 411 engtest   HD 132223  06:11:05.963 RG610~empty                 27.4  20.00\n",
      " 412 engtest   HD 132223  06:12:44.455 RG610~empty                 98.5  20.00\n",
      " 413 engtest   HD 132223  06:13:12.610 RG610~empty                 28.2  20.00\n",
      " 414 science   HD 132223  06:14:48.381 RG610~empty                 95.8  5.00\n",
      " 415 science   HD 129165  06:16:17.243 RG610~empty                 88.9  5.00\n",
      " 416 science   HD 129165  06:17:02.502 RG610~empty                 45.3  5.00\n",
      " 417 engtest   HD 129165  06:17:52.900 RG610~empty                 50.4  20.00\n",
      " 418 engtest   HD 129165  06:18:20.188 RG610~empty                 27.3  20.00\n",
      " 419 engtest   HD 129165  06:19:56.628 RG610~empty                 96.4  20.00\n",
      " 420 engtest   HD 129165  06:20:23.699 RG610~empty                 27.1  20.00\n",
      " 421 science   HD 129165  06:22:01.030 RG610~empty                 97.3  5.00\n",
      " 422 science   HD 144951  06:23:05.849 RG610~empty                 64.8  5.00\n",
      " 423 science   HD 144951  06:23:38.233 RG610~empty                 32.4  5.00\n",
      " 424 engtest   HD 144951  06:24:09.349 RG610~empty                 31.1  20.00\n",
      " 425 engtest   HD 144951  06:24:37.659 RG610~empty                 28.3  20.00\n",
      " 426 engtest   HD 144951  06:26:13.944 RG610~empty                 96.3  20.00\n",
      " 427 engtest   HD 144951  06:26:41.085 RG610~empty                 27.1  20.00\n",
      " 428 science   HD 144951  06:28:16.378 RG610~empty                 95.3  5.00\n",
      " 429 science   HD 153750  06:29:32.316 RG610~empty                 75.9  5.00\n",
      " 430 science   HD 153750  06:30:03.474 RG610~empty                 31.2  5.00\n",
      " 431 engtest   HD 153750  06:30:38.163 RG610~empty                 34.7  20.00\n",
      " 432 engtest   HD 153750  06:31:06.209 RG610~empty                 28.0  20.00\n",
      " 433 engtest   HD 153750  06:32:43.749 RG610~empty                 97.5  20.00\n",
      " 434 engtest   HD 153750  06:33:11.581 RG610~empty                 27.8  20.00\n",
      " 435 science   HD 153750  06:34:52.245 RG610~empty                100.7  5.00\n",
      " 436 science   HD 166679  06:36:06.752 RG610~empty                 74.5  5.00\n",
      " 437 science   HD 166679  06:36:39.830 RG610~empty                 33.1  5.00\n",
      " 438 engtest   HD 166679  06:37:12.986 RG610~empty                 33.2  20.00\n",
      " 439 engtest   HD 166679  06:37:40.925 RG610~empty                 27.9  20.00\n",
      " 440 engtest   HD 166679  06:39:16.720 RG610~empty                 95.8  20.00\n",
      " 441 engtest   HD 166679  06:39:44.882 RG610~empty                 28.2  20.00\n",
      " 442 science   HD 166679  06:41:22.830 RG610~empty                 97.9  5.00\n",
      " 443 science   HD 183050  06:42:43.411 RG610~empty                 80.6  5.00\n",
      " 444 science   HD 183050  06:43:25.735 RG610~empty                 42.3  5.00\n",
      " 445 engtest   HD 183050  06:44:04.854 RG610~empty                 39.1  20.00\n",
      " 446 engtest   HD 183050  06:44:33.138 RG610~empty                 28.3  20.00\n",
      " 447 science   HD 183050  06:46:10.937 RG610~empty                 97.8  5.00\n",
      " 448 science   HD 191116  06:47:30.488 RG610~empty                 79.6  5.00\n",
      " 449 science   HD 191116  06:48:03.808 RG610~empty                 33.3  5.00\n",
      " 450 engtest   HD 191116  06:48:23.565 RG610~empty                 19.8  20.00\n",
      " 451 engtest   HD 191116  06:48:51.995 RG610~empty                 28.4  20.00\n",
      " 452 engtest   HD 191116  06:50:27.840 RG610~empty                 95.8  20.00\n",
      " 453 engtest   HD 191116  06:50:55.444 RG610~empty                 27.6  20.00\n",
      " 454 engtest   HD 191116  06:52:30.429 RG610~empty                 95.0  20.00\n",
      " 455 engtest   HD 191116  06:52:57.911 RG610~empty                 27.5  20.00\n",
      " 456 science   HD 191116  06:54:33.583 RG610~empty                 95.7  5.00\n",
      " 457 science   HD 198047  06:55:46.469 RG610~empty                 72.9  5.00\n",
      " 458 science   HD 198047  06:56:20.555 RG610~empty                 34.1  5.00\n",
      " 459 engtest   HD 198047  06:57:24.488 RG610~empty                 63.9  20.00\n",
      " 460 engtest   HD 198047  06:57:51.973 RG610~empty                 27.5  20.00\n",
      " 461 science   HD 198047  06:59:28.080 RG610~empty                 96.1  5.00\n",
      " 462 science   HD  83745  07:04:35.052 RG610~empty                307.0  5.00\n",
      " 463 science   HD  83745  07:05:30.865 RG610~empty                 55.8  5.00\n",
      " 464 engtest   HD  83745  07:06:29.659 RG610~empty                 58.8  20.00\n",
      " 465 engtest   HD  83745  07:06:57.626 RG610~empty                 28.0  20.00\n",
      " 466 engtest   HD  83745  07:08:32.936 RG610~empty                 95.3  20.00\n",
      " 467 engtest   HD  83745  07:09:00.078 RG610~empty                 27.1  20.00\n",
      " 468 engtest   HD  83745  07:10:35.407 RG610~empty                 95.3  20.00\n",
      " 469 engtest   HD  83745  07:11:02.508 RG610~empty                 27.1  20.00\n",
      " 470 engtest   HD  83745  07:12:37.000 RG610~empty                 94.5  20.00\n",
      " 471 engtest   HD  83745  07:13:04.096 RG610~empty                 27.1  20.00\n",
      " 472 science   HD  83745  07:14:39.581 RG610~empty                 95.5  5.00\n",
      " 473 engtest   HD  83745  07:15:12.569 RG610~empty                 33.0  20.00\n",
      " 474 engtest   HD  83745  07:15:39.714 RG610~empty                 27.1  20.00\n",
      " 475 science   HD  83745  07:17:18.880 RG610~empty                 99.2  5.00\n",
      " 476 engtest   HD  83745  07:17:34.350 RG610~empty                 15.5  20.00\n",
      " 477 engtest   HD  83745  07:18:02.277 RG610~empty                 27.9  20.00\n",
      " 478 science   HD  83745  07:19:41.394 RG610~empty                 99.1  5.00\n",
      " 479 engtest   HD  83745  07:20:14.807 RG610~empty                 33.4  20.00\n",
      " 480 engtest   HD  83745  07:20:41.903 RG610~empty                 27.1  20.00\n",
      " 481 science   HD  83745  07:22:20.053 RG610~empty                 98.2  5.00\n",
      " 482 engtest   HD  83745  07:23:07.465 RG610~empty                 47.4  20.00\n",
      " 483 engtest   HD  83745  07:23:34.591 RG610~empty                 27.1  20.00\n",
      " 484 science   HD  83745  07:25:11.721 RG610~empty                 97.1  5.00\n",
      " 485 engtest   HD  83745  07:25:44.173 RG610~empty                 32.5  20.00\n",
      " 486 engtest   HD  83745  07:26:12.105 RG610~empty                 27.9  20.00\n",
      " 487 science   HD  83745  07:27:49.340 RG610~empty                 97.2  5.00\n",
      " 488 engtest   HD  83745  07:28:19.591 RG610~empty                 30.3  20.00\n",
      " 489 engtest   HD  83745  07:28:46.779 RG610~empty                 27.2  20.00\n",
      " 490 science   HD  83745  07:30:21.223 RG610~empty                 94.4  5.00\n",
      " 491 engtest   HD  83745  07:30:42.283 RG610~empty                 21.1  20.00\n",
      " 492 engtest   HD  83745  07:31:09.367 RG610~empty                 27.1  20.00\n",
      " 493 science   HD  83745  07:32:45.521 RG610~empty                 96.2  5.00\n",
      " 494 engtest   HD  83745  07:33:03.227 RG610~empty                 17.7  20.00\n",
      " 495 engtest   HD  83745  07:33:30.728 RG610~empty                 27.5  20.00\n",
      " 496 science   HD  83745  07:35:06.567 RG610~empty                 95.8  5.00\n",
      " 497 engtest   HD  83745  07:35:22.224 RG610~empty                 15.7  20.00\n",
      " 498 engtest   HD  83745  07:35:49.773 RG610~empty                 27.5  20.00\n",
      " 499 science   HD  83745  07:37:28.530 RG610~empty                 98.8  5.00\n",
      " 500 science   HD  83745  07:47:09.518 RG610~empty                581.0  5.00\n",
      " 501 science   HD  83745  07:59:20.733 RG610~empty                731.2  5.00\n",
      " 502 engtest   HD  83745  08:00:27.405 RG610~empty                 66.7  20.00\n",
      " 503 engtest   HD  83745  08:00:55.020 RG610~empty                 27.6  20.00\n",
      " 504 engtest   HD  83745  08:02:30.123 RG610~empty                 95.1  20.00\n",
      " 505 engtest   HD  83745  08:02:57.749 RG610~empty                 27.6  20.00\n",
      " 506 science   HD  83745  08:04:33.875 RG610~empty                 96.1  5.00\n",
      " 507 engtest   HD 109494  08:06:15.585 RG610~empty                101.7  1.00\n",
      " 508 engtest   UNKNOWN    08:06:43.636 unknown~unknown             28.1  -1.00\n",
      " 509 engtest   HD 149023  08:10:16.493 RG610~empty                212.9  1.00\n",
      " 510 engtest   HD 149023  08:10:44.742 RG610~empty                 28.2  1.00\n",
      " 511 engtest   HD 186878  08:11:24.391 RG610~empty                 39.6  1.00\n",
      " 512 engtest   HD 186878  08:11:51.880 RG610~empty                 27.5  1.00\n",
      " 513 engtest   HD 157575  08:12:26.937 RG610~empty                 35.1  1.00\n",
      " 514 engtest   HD 157575  08:12:54.579 RG610~empty                 27.6  1.00\n",
      " 515 engtest   HD 208264  08:17:55.634 RG610~empty                301.1  1.00\n",
      " 516 engtest   HD 208264  08:18:23.881 RG610~empty                 28.2  1.00\n",
      " 517 engtest   HD 196401  08:19:09.689 RG610~empty                 45.8  1.00\n",
      " 518 engtest   HD 196401  08:19:37.131 RG610~empty                 27.4  1.00\n",
      " 519 engtest   HD 184971  08:20:08.130 RG610~empty                 31.0  1.00\n",
      " 520 engtest   HD 184971  08:20:35.640 RG610~empty                 27.5  1.00\n",
      " 521 engtest   HD 192750  08:21:25.550 RG610~empty                 49.9  1.00\n",
      " 522 engtest   HD 192750  08:21:51.879 RG610~empty                 26.3  1.00\n",
      " 523 engtest   HD 200498  08:22:20.615 RG610~empty                 28.7  1.00\n",
      " 524 engtest   HD 200498  08:22:48.034 RG610~empty                 27.4  1.00\n",
      " 525 engtest   HD 207101  08:23:14.390 RG610~empty                 26.4  1.00\n",
      " 526 engtest   HD 207101  08:23:42.085 RG610~empty                 27.7  1.00\n",
      " 527 engtest   HD 209062  08:24:30.582 RG610~empty                 48.5  1.00\n",
      " 528 engtest   HD 209062  08:24:58.130 RG610~empty                 27.5  1.00\n",
      " 529 engtest   HD 216163  08:25:38.185 RG610~empty                 40.1  1.00\n",
      " 530 engtest   HD 216163  08:26:05.878 RG610~empty                 27.7  1.00\n",
      " 531 engtest   HD 224265  08:26:49.937 RG610~empty                 44.1  1.00\n",
      " 532 engtest   HD 224265  08:27:17.781 RG610~empty                 27.8  1.00\n",
      " 533 engtest   HD 221096  08:28:06.281 RG610~empty                 48.5  1.00\n",
      " 534 engtest   HD 221096  08:28:33.835 RG610~empty                 27.6  1.00\n",
      " 535 engtest   HD    242  08:28:59.880 RG610~empty                 26.0  1.00\n",
      " 536 engtest   HD    242  08:29:27.687 RG610~empty                 27.8  1.00\n",
      " 537 engtest   HD   5902  08:29:55.501 RG610~empty                 27.8  1.00\n",
      " 538 engtest   HD   5902  08:30:22.053 RG610~empty                 26.6  1.00\n",
      " 539 engtest   HD   4858  08:31:16.541 RG610~empty                 54.5  1.00\n",
      " 540 engtest   HD   4858  08:31:43.476 RG610~empty                 26.9  1.00\n",
      " 541 engtest   HD 222042  08:32:17.081 RG610~empty                 33.6  1.00\n",
      " 542 engtest   HD 222042  08:32:44.379 RG610~empty                 27.3  1.00\n",
      " 543 science   HD 149023  08:37:50.988 RG610~empty                306.6  1.00\n",
      " 544 science   HD 149023  08:40:22.127 RG610~empty                151.1  1.00\n",
      " 545 engtest   HD 142794  08:43:26.635 RG610~empty                184.5  1.00\n",
      " 546 engtest   HD 142794  08:43:54.622 RG610~empty                 28.0  1.00\n",
      " 547 engtest   HD 169864  08:44:26.034 RG610~empty                 31.4  1.00\n",
      " 548 engtest   HD 169864  08:44:53.178 RG610~empty                 27.1  1.00\n",
      " 549 engtest   HD 162379  08:45:30.534 RG610~empty                 37.4  1.00\n",
      " 550 science   V* CW Oct  08:49:23.580 RG610~empty                233.0  1.00\n",
      " 551 science   V* CW Oct  08:50:21.370 RG610~empty                 57.8  1.00\n",
      " 552 science   V* CW Oct  08:51:21.082 RG610~empty                 59.7  1.00\n",
      " 553 science   HD 176865  08:53:23.136 RG610~empty                122.1  1.00\n",
      " 554 engtest   HD 149023  08:55:54.206 RG610~empty                151.1  1.00\n",
      " 555 engtest   HD 149023  08:56:22.693 RG610~empty                 28.5  1.00\n",
      " 556 engtest   HD 173975  08:56:56.831 RG610~empty                 34.1  1.00\n",
      " 557 science   V* CW Oct  09:02:31.472 RG610~empty                334.6  1.00\n",
      " 558 engtest   V* CW Oct  09:05:13.199 RG610~empty                161.7  1.00\n",
      " 559 engtest   V* CW Oct  09:05:40.893 RG610~empty                 27.7  1.00\n",
      " 560 science   V* CW Oct  09:09:34.080 RG610~empty                233.2  1.00\n",
      " 561 science   V* CW Oct  09:10:30.126 RG610~empty                 56.0  1.00\n",
      " 562 science   V* CW Oct  09:12:40.160 RG610~empty                130.0  1.00\n",
      " 563 science   V* CW Oct  09:15:50.406 RG610~empty                190.2  1.00\n",
      " 564 engtest   V* CW Oct  09:17:10.948 RG610~empty                 80.5  1.00\n",
      " 565 engtest   V* CW Oct  09:17:37.977 RG610~empty                 27.0  1.00\n",
      " 566 engtest   * tau Pav  09:18:12.234 RG610~empty                 34.3  1.00\n",
      " 567 engtest   * tau Pav  09:18:39.675 RG610~empty                 27.4  1.00\n",
      " 568 engtest   HD 170873  09:19:14.385 RG610~empty                 34.7  1.00\n",
      " 569 engtest   HD 170873  09:19:41.484 RG610~empty                 27.1  1.00\n",
      " 570 engtest   HD 189080  09:20:10.179 RG610~empty                 28.7  1.00\n",
      " 571 engtest   HD 189080  09:20:36.939 RG610~empty                 26.8  1.00\n",
      " 572 engtest   HD 180771  09:21:06.350 RG610~empty                 29.4  1.00\n",
      " 573 engtest   HD 180771  09:21:33.678 RG610~empty                 27.3  1.00\n",
      " 574 engtest   HD 181558  09:24:51.086 RG610~empty                197.4  1.00\n",
      " 575 engtest   HD 181558  09:25:17.683 RG610~empty                 26.6  1.00\n",
      " 576 engtest   HD 196078  09:25:48.280 RG610~empty                 30.6  1.00\n",
      " 577 engtest   HD 196078  09:26:15.579 RG610~empty                 27.3  1.00\n",
      " 578 engtest   HD 194916  09:26:37.789 RG610~empty                 22.2  1.00\n",
      " 579 engtest   HD 194916  09:27:05.383 RG610~empty                 27.6  1.00\n",
      " 580 engtest   *  14 Del  09:27:41.346 RG610~empty                 36.0  1.00\n",
      " 581 engtest   *  14 Del  09:28:07.532 RG610~empty                 26.2  1.00\n",
      " 582 engtest   HD 208110  09:28:36.476 RG610~empty                 28.9  1.00\n",
      " 583 engtest   HD 208110  09:29:03.485 RG610~empty                 27.0  1.00\n",
      " 584 engtest   HD 209709  09:29:27.538 RG610~empty                 24.1  1.00\n",
      " 585 engtest   HD 209709  09:29:54.375 RG610~empty                 26.8  1.00\n",
      " 586 engtest   HD 217715  09:30:28.295 RG610~empty                 33.9  1.00\n",
      " 587 engtest   HD 217715  09:30:55.180 RG610~empty                 26.9  1.00\n",
      " 588 engtest   HD    483  09:31:42.396 RG610~empty                 47.2  1.00\n",
      " 589 engtest   UNKNOWN    09:32:10.699 unknown~unknown             28.3  -1.00\n",
      " 590 engtest   HD   1375  09:35:03.031 RG610~empty                172.3  1.00\n",
      " 591 science   HD   8733  09:38:45.080 RG610~empty                222.0  1.00\n",
      " 592 science   *  46 Psc  09:44:49.316 RG610~empty                364.2  1.00\n",
      " 593 engtest   *  46 Psc  09:45:26.986 RG610~empty                 37.7  1.00\n",
      " 594 engtest   *  46 Psc  09:45:53.880 RG610~empty                 26.9  1.00\n",
      " 595 engtest   *  42 Psc  09:46:15.943 RG610~empty                 22.1  1.00\n",
      " 596 engtest   *  42 Psc  09:46:43.054 RG610~empty                 27.1  1.00\n",
      " 597 engtest   HD   9639  09:47:18.246 RG610~empty                 35.2  1.00\n",
      " 598 engtest   HD   9639  09:47:44.787 RG610~empty                 26.5  1.00\n",
      " 599 engtest   HD  15115  09:48:22.887 RG610~empty                 38.1  1.00\n",
      " 600 engtest   HD  15115  09:48:50.082 RG610~empty                 27.2  1.00\n",
      " 601 engtest   HD  13885  09:49:12.789 RG610~empty                 22.7  1.00\n",
      " 602 engtest   HD  13885  09:49:39.677 RG610~empty                 26.9  1.00\n",
      " 603 engtest   HD  21032  09:50:10.836 RG610~empty                 31.2  1.00\n",
      " 604 engtest   HD  21032  09:50:37.887 RG610~empty                 27.1  1.00\n",
      " 605 engtest   HD  22905  09:51:12.645 RG610~empty                 34.8  1.00\n",
      " 606 engtest   HD  22905  09:51:40.082 RG610~empty                 27.4  1.00\n",
      " 607 engtest   HD  20293  09:52:06.891 RG610~empty                 26.8  1.00\n",
      " 608 engtest   HD  20293  09:52:34.173 RG610~empty                 27.3  1.00\n",
      " 609 engtest   HD  29134  09:53:04.988 RG610~empty                 30.8  1.00\n",
      " 610 engtest   HD  29134  09:53:31.833 RG610~empty                 26.8  1.00\n",
      " 611 engtest   HD  26413  09:54:07.637 RG610~empty                 35.8  1.00\n",
      " 612 engtest   HD  26413  09:54:34.289 RG610~empty                 26.7  1.00\n",
      " 613 engtest   HD  22515  09:55:02.530 RG610~empty                 28.2  1.00\n",
      " 614 engtest   HD  22515  09:55:28.785 RG610~empty                 26.3  1.00\n",
      " 615 engtest   HD  31746  09:55:54.518 RG610~empty                 25.7  1.00\n",
      " 616 engtest   HD  31746  09:56:21.329 RG610~empty                 26.8  1.00\n",
      " 617 engtest   V* CN Hyi  09:56:57.191 RG610~empty                 35.9  1.00\n",
      " 618 engtest   V* CN Hyi  09:57:24.573 RG610~empty                 27.4  1.00\n",
      " 619 engtest   HD 222805  09:57:58.941 RG610~empty                 34.4  1.00\n",
      " 620 engtest   HD 222805  09:58:26.835 RG610~empty                 27.9  1.00\n"
     ]
    }
   ],
   "source": [
    "reporter.printObsTable()"
   ]
  },
  {
   "cell_type": "code",
   "execution_count": null,
   "id": "107a9b04",
   "metadata": {},
   "outputs": [],
   "source": []
  },
  {
   "cell_type": "markdown",
   "id": "1b88ee82",
   "metadata": {},
   "source": [
    "# Butler"
   ]
  },
  {
   "cell_type": "markdown",
   "id": "ca198322",
   "metadata": {},
   "source": [
    "## Configuration for Butler"
   ]
  },
  {
   "cell_type": "code",
   "execution_count": 17,
   "id": "3bdee5a0",
   "metadata": {},
   "outputs": [],
   "source": [
    "#butler=dafPersist.Butler(\"/project/shared/auxTel\")\n",
    "butler=dafPersist.Butler(repoDir)"
   ]
  },
  {
   "cell_type": "markdown",
   "id": "872c8c70",
   "metadata": {},
   "source": [
    "## Sequence selection"
   ]
  },
  {
   "cell_type": "code",
   "execution_count": 18,
   "id": "d53d7ee4",
   "metadata": {},
   "outputs": [],
   "source": [
    "# Flats\n",
    "all_myseq_flats=range(62,73)\n",
    "\n",
    "# wide scan\n",
    "# -----------\n",
    "#all_myseq_holo=range(234,310)\n",
    "# narrow scan\n",
    "#-----------\n",
    "all_myseq_holo=range(317,365)\n",
    "\n",
    "if FLAG_FLAT_SELECTION:\n",
    "    all_myseq=all_myseq_flats\n",
    "else:\n",
    "    all_myseq=all_myseq_holo"
   ]
  },
  {
   "cell_type": "code",
   "execution_count": 19,
   "id": "12b68961",
   "metadata": {},
   "outputs": [],
   "source": [
    "seqNum=all_myseq[0]"
   ]
  },
  {
   "cell_type": "code",
   "execution_count": 20,
   "id": "110c67b4",
   "metadata": {},
   "outputs": [
    {
     "data": {
      "text/plain": [
       "62"
      ]
     },
     "execution_count": 20,
     "metadata": {},
     "output_type": "execute_result"
    }
   ],
   "source": [
    "seqNum"
   ]
  },
  {
   "cell_type": "markdown",
   "id": "2b326f90",
   "metadata": {},
   "source": [
    "## Display"
   ]
  },
  {
   "cell_type": "code",
   "execution_count": 21,
   "id": "461cc9cb",
   "metadata": {},
   "outputs": [
    {
     "data": {
      "text/html": [
       "Open your web browser to <a href=\"https://lsst-lsp-stable.ncsa.illinois.edu/portal/app/slate.html?__wsch=sylviedc_debug_2021_07_07\"\" target=\"_blank\">this link</a>"
      ],
      "text/plain": [
       "<IPython.core.display.HTML object>"
      ]
     },
     "metadata": {},
     "output_type": "display_data"
    }
   ],
   "source": [
    "display1=afwDisplay.getDisplay(frame=1,port=80,name='sylviedc_debug_2021_07_07',url=os.environ[\"FIREFLY_URL\"])"
   ]
  },
  {
   "cell_type": "code",
   "execution_count": 22,
   "id": "ee60b34a",
   "metadata": {},
   "outputs": [
    {
     "name": "stderr",
     "output_type": "stream",
     "text": [
      "WARNING:obs.lsst.assembly:(minimum=(0, 0), maximum=(543, 2047)): (minimum=(0, 0), maximum=(575, 2047))\n",
      "WARNING:obs.lsst.assembly:argDict[boresightAirmass] is None; stripping\n"
     ]
    }
   ],
   "source": [
    "raw=butler.get('raw',dayObs=dayObs,seqNum=seqNum)"
   ]
  },
  {
   "cell_type": "code",
   "execution_count": 23,
   "id": "c79006a4",
   "metadata": {},
   "outputs": [],
   "source": [
    "# and this command show the image\n",
    "display1.mtv(raw)"
   ]
  },
  {
   "cell_type": "code",
   "execution_count": 24,
   "id": "57fdb334",
   "metadata": {},
   "outputs": [
    {
     "data": {
      "text/html": [
       "Open your web browser to <a href=\"https://lsst-lsp-stable.ncsa.illinois.edu/portal/app/slate.html?__wsch=sylviedc_debug_2021_07_07\"\" target=\"_blank\">this link</a>"
      ],
      "text/plain": [
       "<IPython.core.display.HTML object>"
      ]
     },
     "metadata": {},
     "output_type": "display_data"
    }
   ],
   "source": [
    "display1.getClient().display_url()"
   ]
  },
  {
   "cell_type": "markdown",
   "id": "5d1b663b",
   "metadata": {},
   "source": [
    "## Access to image sequence"
   ]
  },
  {
   "cell_type": "code",
   "execution_count": 25,
   "id": "53ddd7d8",
   "metadata": {},
   "outputs": [
    {
     "name": "stdout",
     "output_type": "stream",
     "text": [
      "[1, 2, 3, 5, 4, 6, 7, 10, 13, 9, 12, 8, 11, 16, 17, 18, 19, 14, 15, 25, 23, 22, 21, 24, 20, 28, 29, 31, 30, 26, 32, 27, 34, 39, 35, 36, 37, 38, 33, 41, 45, 43, 44, 40, 42, 50, 46, 48, 49, 47, 51, 52, 54, 53, 55, 57, 56, 58, 59, 60, 61, 62, 64, 63, 67, 68, 65, 66, 70, 69, 72, 71, 73, 74, 75, 76, 77, 78, 79, 80, 81, 82, 83, 84, 85, 86, 87, 88, 89, 90, 91, 92, 93, 94, 95, 96, 97, 98, 99, 100, 101, 102, 103, 104, 105, 106, 107, 108, 109, 110, 111, 112, 113, 114, 115, 116, 117, 118, 119, 120, 121, 122, 123, 124, 125, 126, 127, 128, 129, 130, 131, 132, 133, 134, 135, 136, 137, 138, 139, 140, 141, 142, 143, 144, 145, 146, 147, 148, 149, 150, 151, 152, 153, 154, 155, 156, 157, 158, 159, 160, 161, 162, 163, 164, 165, 166, 167, 168, 169, 170, 171, 172, 173, 174, 175, 176, 177, 178, 179, 180, 181, 182, 183, 184, 185, 186, 187, 188, 189, 190, 191, 192, 193, 194, 195, 196, 197, 198, 199, 200, 201, 202, 203, 204, 205, 206, 207, 208, 209, 210, 211, 212, 213, 214, 215, 216, 217, 219, 218, 221, 220, 223, 222, 224, 225, 226, 227, 229, 228, 230, 231, 232, 233, 234, 235, 236, 237, 239, 238, 241, 240, 242, 243, 244, 245, 246, 247, 248, 249, 250, 251, 252, 253, 254, 255, 256, 257, 258, 259, 260, 261, 262, 263, 264, 265, 266, 267, 268, 269, 270, 271, 272, 273, 274, 275, 276, 277, 278, 279, 280, 281, 282, 283, 284, 285, 286, 287, 288, 289, 290, 291, 292, 293, 294, 295, 296, 297, 298, 299, 300, 301, 302, 303, 304, 305, 306, 307, 308, 309, 310, 311, 312, 313, 314, 315, 316, 317, 318, 319, 320, 321, 322, 323, 324, 325, 326, 327, 328, 329, 330, 331, 332, 333, 334, 335, 336, 337, 338, 339, 340, 341, 342, 343, 344, 345, 346, 347, 348, 349, 350, 351, 352, 353, 354, 355, 356, 357, 358, 359, 360, 361, 362, 363, 364, 365, 366, 367, 368, 369, 370, 371, 372, 373, 374, 375, 376, 377, 378, 379, 380, 381, 382, 383, 384, 385, 386, 387, 388, 389, 390, 391, 392, 393, 394, 395, 396, 397, 398, 399, 400, 401, 402, 403, 404, 405, 406, 407, 408, 409, 410, 411, 412, 413, 414, 415, 416, 417, 418, 419, 420, 421, 422, 423, 424, 425, 426, 427, 428, 429, 430, 431, 432, 433, 434, 435, 436, 437, 438, 439, 440, 441, 442, 443, 444, 445, 446, 447, 448, 449, 450, 451, 452, 453, 454, 455, 456, 457, 458, 459, 460, 461, 462, 463, 464, 465, 466, 467, 468, 469, 470, 471, 472, 473, 474, 475, 476, 477, 478, 479, 480, 481, 482, 483, 484, 485, 486, 487, 488, 489, 490, 491, 492, 493, 494, 495, 496, 497, 498, 499, 500, 501, 502, 503, 504, 505, 506, 507, 508, 509, 510, 511, 512, 513, 514, 515, 516, 517, 518, 519, 520, 521, 522, 523, 524, 525, 526, 527, 528, 529, 530, 531, 532, 533, 534, 535, 536, 537, 538, 539, 540, 541, 542, 543, 544, 545, 546, 547, 548, 549, 550, 551, 552, 553, 554, 555, 556, 557, 558, 559, 560, 561, 562, 563, 564, 565, 566, 567, 568, 569, 570, 571, 572, 573, 574, 575, 576, 577, 578, 579, 580, 581, 582, 583, 584, 585, 586, 587, 588, 589, 590, 591, 592, 593, 594, 595, 596, 597, 598, 599, 600, 601, 602, 603, 604, 605, 606, 607, 608, 609, 610, 611, 612, 613, 614, 615, 616, 617, 618, 619, 620]\n"
     ]
    }
   ],
   "source": [
    "print(butler.queryMetadata('raw','seqNum',dayObs=dayObs))"
   ]
  },
  {
   "cell_type": "markdown",
   "id": "f75590b0",
   "metadata": {},
   "source": [
    "## Access to quickLookExp image\n",
    "\n",
    "- assembled\n",
    "- defect and bias corrected\n",
    "- not unflatfielded\n"
   ]
  },
  {
   "cell_type": "code",
   "execution_count": 26,
   "id": "469fd856",
   "metadata": {},
   "outputs": [
    {
     "name": "stderr",
     "output_type": "stream",
     "text": [
      "CRITICAL:astro_metadata_translator.headers:Ignoring translator header fixup of LATISS AT_O_20210707_000062: 'MJD-OBS not found'\n"
     ]
    }
   ],
   "source": [
    "exp=butler.get('quickLookExp',dayObs=dayObs,seqNum=seqNum)"
   ]
  },
  {
   "cell_type": "code",
   "execution_count": 27,
   "id": "c04c4324",
   "metadata": {},
   "outputs": [],
   "source": [
    "exp_image=exp.image.array"
   ]
  },
  {
   "cell_type": "code",
   "execution_count": 28,
   "id": "0434a2f3",
   "metadata": {},
   "outputs": [],
   "source": [
    "# Must flip for Spectractor reading\n",
    "flip_image=np.flip(exp_image, 0)"
   ]
  },
  {
   "cell_type": "code",
   "execution_count": 29,
   "id": "85ff0618",
   "metadata": {},
   "outputs": [],
   "source": [
    "fig = plt.figure(figsize=(20,10))\n",
    "ax=fig.add_subplot(121)\n",
    "ax.imshow(flip_image,origin='lower',cmap=\"jet\",norm=LogNorm())\n",
    "ax=fig.add_subplot(122)\n",
    "ax.imshow(flip_image,origin='lower',cmap=\"gray\",norm=LogNorm())\n",
    "plt.show()"
   ]
  },
  {
   "cell_type": "code",
   "execution_count": 30,
   "id": "86902121",
   "metadata": {},
   "outputs": [
    {
     "data": {
      "text/plain": [
       "numpy.ndarray"
      ]
     },
     "execution_count": 30,
     "metadata": {},
     "output_type": "execute_result"
    }
   ],
   "source": [
    "type(flip_image)"
   ]
  },
  {
   "cell_type": "code",
   "execution_count": 31,
   "id": "945bb7f8",
   "metadata": {},
   "outputs": [
    {
     "data": {
      "text/plain": [
       "(4000, 4072)"
      ]
     },
     "execution_count": 31,
     "metadata": {},
     "output_type": "execute_result"
    }
   ],
   "source": [
    "exp_image.shape"
   ]
  },
  {
   "cell_type": "code",
   "execution_count": 32,
   "id": "a3697725",
   "metadata": {},
   "outputs": [
    {
     "data": {
      "text/plain": [
       "<matplotlib.image.AxesImage at 0x7fefde9f50a0>"
      ]
     },
     "execution_count": 32,
     "metadata": {},
     "output_type": "execute_result"
    }
   ],
   "source": [
    "plt.imshow(flip_image)"
   ]
  },
  {
   "cell_type": "markdown",
   "id": "c94bd9ee",
   "metadata": {},
   "source": [
    "## Meta Data"
   ]
  },
  {
   "cell_type": "code",
   "execution_count": 33,
   "id": "23868ac8",
   "metadata": {},
   "outputs": [],
   "source": [
    "md=butler.get(\"raw_md\",dayObs=dayObs,seqNum=seqNum)"
   ]
  },
  {
   "cell_type": "code",
   "execution_count": 34,
   "id": "df761024",
   "metadata": {},
   "outputs": [],
   "source": [
    "del md['DATASEC']\n",
    "del md['COMMENT']\n",
    "ha = md['HASTART']\n",
    "#del md['HASTART']\n",
    "md['HA'] = ha"
   ]
  },
  {
   "cell_type": "code",
   "execution_count": null,
   "id": "fed90719",
   "metadata": {},
   "outputs": [],
   "source": []
  },
  {
   "cell_type": "code",
   "execution_count": 35,
   "id": "bd47d18c",
   "metadata": {},
   "outputs": [
    {
     "data": {
      "text/plain": [
       "{'SIMPLE': True,\n",
       " 'EXTEND': True,\n",
       " 'ORIGIN': 'LSST DM Header Service',\n",
       " 'TIMESYS': 'TAI',\n",
       " 'DATE': '2021-07-07T22:37:54.775',\n",
       " 'DATE-OBS': '2021-07-07T22:38:26.896',\n",
       " 'DATE-BEG': '2021-07-07T22:38:26.896',\n",
       " 'DATE-END': '2021-07-07T22:38:29.143',\n",
       " 'MJD': 59402.9429950767,\n",
       " 'MJD-OBS': 59402.9433668513,\n",
       " 'MJD-BEG': 59402.9433668513,\n",
       " 'MJD-END': 59402.9433928605,\n",
       " 'OBSID': 'AT_O_20210707_000062',\n",
       " 'GROUPID': '2021-07-07T22:38:26.449',\n",
       " 'IMGTYPE': 'FLAT',\n",
       " 'BUNIT': 'adu',\n",
       " 'FACILITY': 'Vera C. Rubin Observatory',\n",
       " 'TELESCOP': 'LSST AuxTelescope',\n",
       " 'INSTRUME': 'LATISS',\n",
       " 'OBSERVER': 'LSST',\n",
       " 'OBS-LONG': -70.749417,\n",
       " 'OBS-LAT': -30.244639,\n",
       " 'OBS-ELEV': 2663.0,\n",
       " 'OBSGEO-X': 1818938.94,\n",
       " 'OBSGEO-Y': -5208470.95,\n",
       " 'OBSGEO-Z': -3195172.08,\n",
       " 'RA': 0.0,\n",
       " 'DEC': 0.0,\n",
       " 'RASTART': 133.944143232871,\n",
       " 'DECSTART': -67.0430993791748,\n",
       " 'RAEND': 133.964925147196,\n",
       " 'DECEND': -67.0430730315125,\n",
       " 'ROTPA': 216.514100290483,\n",
       " 'ROTCOORD': 'sky',\n",
       " 'HASTART': 0.0,\n",
       " 'ELSTART': 38.9953171296947,\n",
       " 'AZSTART': 205.699277599095,\n",
       " 'AMSTART': 0.0,\n",
       " 'HAEND': 0.0,\n",
       " 'ELEND': 38.9953175767441,\n",
       " 'AZEND': 205.69927670504,\n",
       " 'AMEND': 0.0,\n",
       " 'INSTPORT': 2,\n",
       " 'ATM3PORT': None,\n",
       " 'TRACKSYS': 'LOCAL',\n",
       " 'RADESYS': 'ICRS',\n",
       " 'FOCUSZ': 0.0,\n",
       " 'OBJECT': 'FlatField position',\n",
       " 'DOMEAZ': 19.74,\n",
       " 'SHUTLOWR': 0.0,\n",
       " 'SHUTUPPR': 0.0,\n",
       " 'WCSAXES': 2,\n",
       " 'CTYPE1': 'RA---TAN',\n",
       " 'CTYPE2': 'DEC--TAN',\n",
       " 'CUNIT1': 'deg',\n",
       " 'CUNIT2': 'deg',\n",
       " 'CRVAL1': 0.0,\n",
       " 'CRVAL2': 0.0,\n",
       " 'CRPIX1': 2000.0,\n",
       " 'CRPIX2': 2036.0,\n",
       " 'CD1_1': -0.101583616010208,\n",
       " 'CD1_2': -0.0265663124706953,\n",
       " 'CD2_1': 0.0265663124706953,\n",
       " 'CD2_2': -0.101583616010208,\n",
       " 'EQUINOX': 2000.0,\n",
       " 'CAMCODE': 'AT',\n",
       " 'CONTRLLR': 'O',\n",
       " 'DAYOBS': '20210707',\n",
       " 'SEQNUM': 62,\n",
       " 'TESTTYPE': None,\n",
       " 'TSTAND': None,\n",
       " 'IMAGETAG': 'be3db65c0d84a58e',\n",
       " 'OBSANNOT': '',\n",
       " 'TEMP_SET': -94.1500015258789,\n",
       " 'CCDTEMP': -90.1259994506836,\n",
       " 'FILTBAND': 'Empty',\n",
       " 'FILTER': 'RG610',\n",
       " 'FILTSLOT': 3,\n",
       " 'GRATING': 'empty_1',\n",
       " 'GRATBAND': 'Empty',\n",
       " 'GRATSLOT': 0,\n",
       " 'LINSPOS': 67.0,\n",
       " 'EXPTIME': 2.0,\n",
       " 'SHUTTIME': None,\n",
       " 'DARKTIME': 2.33810353279114,\n",
       " 'AIRTEMP': 12.3,\n",
       " 'PRESSURE': 741.9,\n",
       " 'HUMIDITY': 5.0,\n",
       " 'WINDSPD': 5.3,\n",
       " 'WINDDIR': 309.0,\n",
       " 'SEEING': None,\n",
       " 'FILENAME': 'AT_O_20210707_000062.fits',\n",
       " 'HEADVER': '2.9.1',\n",
       " 'CHECKSUM': None,\n",
       " 'DATASUM': None,\n",
       " 'CCD_MANU': 'ITL',\n",
       " 'CCD_TYPE': 2,\n",
       " 'CCD_SERN': '20862',\n",
       " 'LSST_NUM': 'ITL-3800C-068',\n",
       " 'SEQCKSUM': '2552520002',\n",
       " 'SEQNAME': 'FP_ITL_2s_ir2_v25.seq',\n",
       " 'REBNAME': 'Unknown',\n",
       " 'CONTNUM': '412227310',\n",
       " 'CCDSLOT': 'S00',\n",
       " 'RAFTBAY': 'R00',\n",
       " 'OVERH': 64,\n",
       " 'OVERV': 48,\n",
       " 'PREH': 0,\n",
       " 'XTENSION': 'IMAGE',\n",
       " 'BITPIX': 32,\n",
       " 'NAXIS': 2,\n",
       " 'NAXIS1': 576,\n",
       " 'NAXIS2': 2048,\n",
       " 'PCOUNT': 0,\n",
       " 'GCOUNT': 1,\n",
       " 'INHERIT': True,\n",
       " 'EXTNAME': 'Segment10',\n",
       " 'DETSEC': '[509:1,1:2000]',\n",
       " 'DETSIZE': '[1:4072,1:4000]',\n",
       " 'DTV1': 510,\n",
       " 'DTV2': 0,\n",
       " 'DTM1_1': -1.0,\n",
       " 'DTM2_2': 1.0,\n",
       " 'DTM1_2': 0,\n",
       " 'DTM2_1': 0,\n",
       " 'HIERARCH ASTRO METADATA FIX MODIFIED': True,\n",
       " 'HIERARCH ASTRO METADATA FIX DATE': '2021-11-08T10:55:19.993976',\n",
       " 'HIERARCH ASTRO METADATA FIX VERSION': '22.0.1-35-ge12052c+3e958b174a',\n",
       " 'HA': 0.0}"
      ]
     },
     "execution_count": 35,
     "metadata": {},
     "output_type": "execute_result"
    }
   ],
   "source": [
    "md.toDict()"
   ]
  },
  {
   "cell_type": "markdown",
   "id": "70db934d",
   "metadata": {},
   "source": [
    "# Start"
   ]
  },
  {
   "cell_type": "code",
   "execution_count": 36,
   "id": "59fb5367",
   "metadata": {},
   "outputs": [],
   "source": [
    "plt.rcParams[\"axes.labelsize\"] = 'large'\n",
    "plt.rcParams['axes.titlesize'] = 'large'\n",
    "plt.rcParams['xtick.labelsize']= 'large'\n",
    "plt.rcParams['ytick.labelsize']= 'large'"
   ]
  },
  {
   "cell_type": "code",
   "execution_count": 37,
   "id": "4fc3a5cc",
   "metadata": {},
   "outputs": [
    {
     "name": "stderr",
     "output_type": "stream",
     "text": [
      "CRITICAL:astro_metadata_translator.headers:Ignoring translator header fixup of LATISS AT_O_20210707_000062: 'MJD-OBS not found'\n",
      "CRITICAL:astro_metadata_translator.headers:Ignoring translator header fixup of LATISS AT_O_20210707_000063: 'MJD-OBS not found'\n",
      "CRITICAL:astro_metadata_translator.headers:Ignoring translator header fixup of LATISS AT_O_20210707_000064: 'MJD-OBS not found'\n",
      "CRITICAL:astro_metadata_translator.headers:Ignoring translator header fixup of LATISS AT_O_20210707_000065: 'MJD-OBS not found'\n",
      "CRITICAL:astro_metadata_translator.headers:Ignoring translator header fixup of LATISS AT_O_20210707_000066: 'MJD-OBS not found'\n",
      "CRITICAL:astro_metadata_translator.headers:Ignoring translator header fixup of LATISS AT_O_20210707_000067: 'MJD-OBS not found'\n",
      "CRITICAL:astro_metadata_translator.headers:Ignoring translator header fixup of LATISS AT_O_20210707_000068: 'MJD-OBS not found'\n",
      "CRITICAL:astro_metadata_translator.headers:Ignoring translator header fixup of LATISS AT_O_20210707_000069: 'MJD-OBS not found'\n",
      "CRITICAL:astro_metadata_translator.headers:Ignoring translator header fixup of LATISS AT_O_20210707_000070: 'MJD-OBS not found'\n",
      "CRITICAL:astro_metadata_translator.headers:Ignoring translator header fixup of LATISS AT_O_20210707_000071: 'MJD-OBS not found'\n",
      "CRITICAL:astro_metadata_translator.headers:Ignoring translator header fixup of LATISS AT_O_20210707_000072: 'MJD-OBS not found'\n"
     ]
    }
   ],
   "source": [
    "all_my_exp_array=[]\n",
    "all_my_header=[]\n",
    "all_my_object=[]\n",
    "all_my_seq=[]\n",
    "all_my_grating=[]\n",
    "all_my_filter=[]\n",
    "all_my_date=[]\n",
    "\n",
    "\n",
    "for seqNum in all_myseq:\n",
    "    exp=butler.get('quickLookExp',dayObs=dayObs,seqNum=seqNum)\n",
    "    md=butler.get(\"raw_md\",dayObs=dayObs,seqNum=seqNum)\n",
    "    \n",
    "    header=md.toDict()\n",
    "    \n",
    "    #decode header\n",
    "    \n",
    "    obj_name=header['OBJECT']\n",
    "    obj_name2 = ''.join(obj_name.split())\n",
    "    grating=header['GRATING']\n",
    "    obsid=header['OBSID']\n",
    "    date=obsid.replace('AT_O_','') # remove pre-tag to get date only and seqnum\n",
    "    filter_name=header['FILTER']\n",
    "    filter_name2=filter_name.split(\"_\")[0]   # cut empty_1 to empty\n",
    "    \n",
    "    # work on header to remove bad things for ds9\n",
    "    del header['DATASEC']\n",
    "    del header['COMMENT']\n",
    "    ha = header['HASTART']\n",
    "    #del header['HASTART']\n",
    "    header['HA'] = ha\n",
    "        \n",
    "    \n",
    "    \n",
    "    # select only pre-selected disperser\n",
    "    if grating == DISPERSER_SEL and not FLAG_FLAT_SELECTION: \n",
    "        exp_image=exp.image.array\n",
    "        flip_image=np.flip(exp_image, 0)  # flip the image for Spectractor\n",
    "        all_my_exp_array.append(np.copy(flip_image))\n",
    "        all_my_header.append(header)\n",
    "        all_my_object.append(obj_name2)\n",
    "        all_my_seq.append(header['SEQNUM'])\n",
    "        all_my_grating.append(grating)\n",
    "        all_my_filter.append(filter_name2)\n",
    "        all_my_date.append(date)\n",
    "    else:  # Flats\n",
    "        exp_image=exp.image.array\n",
    "        flip_image=np.flip(exp_image, 0)  # flip the image for Spectractor\n",
    "        all_my_exp_array.append(np.copy(flip_image))\n",
    "        all_my_header.append(header)\n",
    "        all_my_object.append(obj_name2)\n",
    "        all_my_seq.append(header['SEQNUM'])\n",
    "        all_my_grating.append(grating)\n",
    "        all_my_filter.append(filter_name2)\n",
    "        all_my_date.append(date)"
   ]
  },
  {
   "cell_type": "code",
   "execution_count": 38,
   "id": "9360ef7b",
   "metadata": {},
   "outputs": [
    {
     "name": "stdout",
     "output_type": "stream",
     "text": [
      "0 ...... (4000, 4072) obj= FlatFieldposition filt= RG610 disp= empty_1\n",
      "1 ...... (4000, 4072) obj= FlatFieldposition filt= RG610 disp= empty_1\n",
      "2 ...... (4000, 4072) obj= FlatFieldposition filt= RG610 disp= empty_1\n",
      "3 ...... (4000, 4072) obj= FlatFieldposition filt= RG610 disp= empty_1\n",
      "4 ...... (4000, 4072) obj= FlatFieldposition filt= RG610 disp= empty_1\n",
      "5 ...... (4000, 4072) obj= FlatFieldposition filt= RG610 disp= empty_1\n",
      "6 ...... (4000, 4072) obj= FlatFieldposition filt= RG610 disp= empty_1\n",
      "7 ...... (4000, 4072) obj= FlatFieldposition filt= RG610 disp= empty_1\n",
      "8 ...... (4000, 4072) obj= FlatFieldposition filt= RG610 disp= empty_1\n",
      "9 ...... (4000, 4072) obj= FlatFieldposition filt= RG610 disp= empty_1\n",
      "10 ...... (4000, 4072) obj= FlatFieldposition filt= RG610 disp= empty_1\n"
     ]
    }
   ],
   "source": [
    "idx=0\n",
    "for exp_img in all_my_exp_array:\n",
    "    print(idx,\"......\" ,exp_img.shape,'obj=',all_my_object[idx],\"filt=\",all_my_filter[idx],\"disp=\",all_my_grating[idx])\n",
    "    idx+=1"
   ]
  },
  {
   "cell_type": "markdown",
   "id": "267f65ab",
   "metadata": {},
   "source": [
    "## Total number of images"
   ]
  },
  {
   "cell_type": "code",
   "execution_count": 39,
   "id": "b5f500a9",
   "metadata": {},
   "outputs": [],
   "source": [
    "NSEL=len(all_my_exp_array)"
   ]
  },
  {
   "cell_type": "code",
   "execution_count": 40,
   "id": "d13244ee",
   "metadata": {},
   "outputs": [
    {
     "data": {
      "text/plain": [
       "11"
      ]
     },
     "execution_count": 40,
     "metadata": {},
     "output_type": "execute_result"
    }
   ],
   "source": [
    "NSEL"
   ]
  },
  {
   "cell_type": "markdown",
   "id": "32e4cdb8",
   "metadata": {},
   "source": [
    "# Plot"
   ]
  },
  {
   "cell_type": "code",
   "execution_count": 41,
   "id": "290b81a9",
   "metadata": {},
   "outputs": [],
   "source": [
    "idx=0"
   ]
  },
  {
   "cell_type": "code",
   "execution_count": 42,
   "id": "4bc9fc85",
   "metadata": {},
   "outputs": [],
   "source": [
    "fig = plt.figure(figsize=(10,10))\n",
    "ax=fig.add_subplot(111)\n",
    "ax.imshow(all_my_exp_array[idx],origin='lower',cmap=\"jet\",norm=LogNorm())\n",
    "plt.show()"
   ]
  },
  {
   "cell_type": "code",
   "execution_count": 43,
   "id": "fc0cd673",
   "metadata": {},
   "outputs": [],
   "source": [
    "\n",
    "Ncol=4\n",
    "Nrow=2\n",
    "Ntot=Ncol*Nrow\n",
    "\n",
    "fig = plt.figure(figsize=(20,20))\n",
    "\n",
    "# loop on angle\n",
    "for idx in np.arange(Ntot):\n",
    "    if idx>=NSEL:\n",
    "        break\n",
    "        \n",
    "    ax=fig.add_subplot(Nrow,Ncol,idx+1)\n",
    "    ax.imshow(all_my_exp_array[idx],origin='lower',cmap=\"jet\",norm=LogNorm())\n",
    "    ax.set_title(all_myseq[idx]) \n",
    "    ax.minorticks_on()\n",
    "    ax.set_aspect(\"equal\")\n",
    "    \n",
    "    #ax2=ax.twiny()\n",
    "    #ax2.imshow(all_my_raw_array[idx],origin='lower',cmap=\"jet\",norm=LogNorm())\n",
    "    #ax2.set_xlim(ax.get_xlim())\n",
    "    #ax2.minorticks_on()\n",
    "    \n",
    "    #ax.tick_params(which='major', length=10, width=2, direction='inout')\n",
    "    #ax.tick_params(which='minor', length=5, width=2, direction='inout')\n",
    "    #ax.grid(which='both')\n",
    "\n",
    "\n",
    "\n",
    "    #ax.set_aspect('equal')\n",
    "\n",
    "    #x1, x2 = ax.get_xlim() \n",
    "    #y1, y2 = ax.get_ylim() \n",
    "plt.show()"
   ]
  },
  {
   "cell_type": "code",
   "execution_count": 44,
   "id": "50ff879c",
   "metadata": {},
   "outputs": [],
   "source": [
    "#all_my_raw_array=[]\n",
    "#all_my_header=[]\n",
    "#all_my_object=[]\n",
    "#all_my_seq=[]\n",
    "#all_my_grating=[]\n",
    "#all_my_filter=[]\n"
   ]
  },
  {
   "cell_type": "code",
   "execution_count": 45,
   "id": "d87a390e",
   "metadata": {},
   "outputs": [
    {
     "name": "stdout",
     "output_type": "stream",
     "text": [
      "empty_1_RG610_FlatFieldposition_20210707_000062_quickLookExp.fits\n",
      "empty_1_RG610_FlatFieldposition_20210707_000063_quickLookExp.fits\n",
      "empty_1_RG610_FlatFieldposition_20210707_000064_quickLookExp.fits\n",
      "empty_1_RG610_FlatFieldposition_20210707_000065_quickLookExp.fits\n",
      "empty_1_RG610_FlatFieldposition_20210707_000066_quickLookExp.fits\n",
      "empty_1_RG610_FlatFieldposition_20210707_000067_quickLookExp.fits\n",
      "empty_1_RG610_FlatFieldposition_20210707_000068_quickLookExp.fits\n",
      "empty_1_RG610_FlatFieldposition_20210707_000069_quickLookExp.fits\n",
      "empty_1_RG610_FlatFieldposition_20210707_000070_quickLookExp.fits\n",
      "empty_1_RG610_FlatFieldposition_20210707_000071_quickLookExp.fits\n",
      "empty_1_RG610_FlatFieldposition_20210707_000072_quickLookExp.fits\n"
     ]
    }
   ],
   "source": [
    "if FLAG_SAVE_IMAGE:\n",
    "  \n",
    "    for idx in np.arange(NSEL):\n",
    "        filename=all_my_grating[idx]+\"_\"+all_my_filter[idx]+\"_\"+all_my_object[idx]+\"_\"+all_my_date[idx]+\"_quickLookExp.fits\"\n",
    "        print(filename)\n",
    "    \n",
    "        hdr = fits.Header()\n",
    "    \n",
    "        for key,value in all_my_header[idx].items():\n",
    "            hdr[str(key)]=value\n",
    "        \n",
    "        #hdu = fits.PrimaryHDU(data=all_my_exp_array[idx],header=hdr)  # with headers\n",
    "        #hdul = fits.HDUList([hdu])\n",
    "        #hdul.writeto(filename,overwrite=True)\n",
    "        \n",
    "        primary_hdu = fits.PrimaryHDU(header=hdr)\n",
    "        image_hdu = fits.ImageHDU(all_my_exp_array[idx])\n",
    "        hdu_list = fits.HDUList([primary_hdu, image_hdu])\n",
    "    \n",
    "        hdu_list.writeto(filename,overwrite=True)\n",
    "    \n",
    "        "
   ]
  },
  {
   "cell_type": "code",
   "execution_count": null,
   "id": "d022b04d",
   "metadata": {},
   "outputs": [],
   "source": []
  }
 ],
 "metadata": {
  "kernelspec": {
   "display_name": "LSST",
   "language": "python",
   "name": "lsst"
  },
  "language_info": {
   "codemirror_mode": {
    "name": "ipython",
    "version": 3
   },
   "file_extension": ".py",
   "mimetype": "text/x-python",
   "name": "python",
   "nbconvert_exporter": "python",
   "pygments_lexer": "ipython3",
   "version": "3.8.8"
  }
 },
 "nbformat": 4,
 "nbformat_minor": 5
}
