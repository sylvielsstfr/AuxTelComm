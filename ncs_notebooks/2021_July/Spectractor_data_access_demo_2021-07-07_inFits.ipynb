{
 "cells": [
  {
   "cell_type": "markdown",
   "id": "b9904520",
   "metadata": {},
   "source": [
    "# Analyse Spectractor Output and put results in fits files\n",
    "\n",
    "- adapted from https://github.com/stubbslab/PCWG-AuxTel/blob/main/Spectractor_data_access_demo.ipynb\n",
    "\n",
    "- author : Sylvie Dagoret-campagne\n",
    "- affiliation : IJCLab/IN2P3/CNRS\n",
    "- update : October 2021 8th\n",
    "- DM-Stack version : **w_2021_36**\n",
    "- Big CPU"
   ]
  },
  {
   "cell_type": "markdown",
   "id": "b38d372e",
   "metadata": {},
   "source": [
    "Make a butler, but we don't point it at the usual repo root, we point it at the location of best reduction of the data to date.\n",
    "For the current version of this, see setup_script.md"
   ]
  },
  {
   "cell_type": "code",
   "execution_count": 1,
   "id": "b40384c1",
   "metadata": {},
   "outputs": [],
   "source": [
    "import matplotlib.pyplot as plt\n",
    "#%matplotlib inline\n",
    "# correct for bug in stack in wl_2021_02\n",
    "%config IPCompleter.use_jedi=False"
   ]
  },
  {
   "cell_type": "code",
   "execution_count": 2,
   "id": "b61fc637",
   "metadata": {},
   "outputs": [],
   "source": [
    "from astropy.io import fits"
   ]
  },
  {
   "cell_type": "code",
   "execution_count": 3,
   "id": "28706bab",
   "metadata": {},
   "outputs": [
    {
     "name": "stderr",
     "output_type": "stream",
     "text": [
      "<ipython-input-3-a8e09fe1605e>:6: FutureWarning: Gen2 Butler has been deprecated (Butler). It will be removed sometime after v23.0 but no earlier than the end of 2021.\n",
      "  butler = dafPersist.Butler(repoDir)\n",
      "<ipython-input-3-a8e09fe1605e>:6: FutureWarning: Gen2 Butler has been deprecated (LatissMapper). It will be removed sometime after v23.0 but no earlier than the end of 2021.\n",
      "  butler = dafPersist.Butler(repoDir)\n"
     ]
    }
   ],
   "source": [
    "#repoDir = '/project/shared/auxTel/rerun/mfl/slurmRun/'\n",
    "#repoDir='/project/shared/auxTel/rerun/dagoret'\n",
    "repoDir='/project/shared/auxTel/rerun/dagoret/outputspectr_scan2021_July'\n",
    "\n",
    "import lsst.daf.persistence as dafPersist\n",
    "butler = dafPersist.Butler(repoDir)"
   ]
  },
  {
   "cell_type": "markdown",
   "id": "28bda5ab",
   "metadata": {},
   "source": [
    "Next, we make a NightReporter object. This is just a useful little toy project (read: not well supported, but might be helpful) to will help understand (and visualise) the night's observations. Try poking it to see what it does, some it it, _e.g._ reporter.printObsTable() is quite useful for getting a quick overview of the observations of the night."
   ]
  },
  {
   "cell_type": "code",
   "execution_count": 4,
   "id": "b67d287f",
   "metadata": {},
   "outputs": [
    {
     "name": "stdout",
     "output_type": "stream",
     "text": [
      "WARNING:lsst.obs.lsst.translators.lsst:AT_O_20210707_000508: Unable to determine airmass of a science observation, returning 1.\n",
      "WARNING:lsst.obs.lsst.translators.lsst:AT_O_20210707_000508: Unable to determine the filter\n",
      "WARNING:lsst.obs.lsst.translators.lsst:AT_O_20210707_000589: Unable to determine airmass of a science observation, returning 1.\n",
      "WARNING:lsst.obs.lsst.translators.lsst:AT_O_20210707_000589: Unable to determine the filter\n",
      "Loaded data for seqNums 1 to 620\n"
     ]
    }
   ],
   "source": [
    "from lsst.rapid.analysis.nightReport import NightReporter\n",
    "reporter = NightReporter(repoDir, \"2021-07-07\")"
   ]
  },
  {
   "cell_type": "code",
   "execution_count": 5,
   "id": "370eb948",
   "metadata": {},
   "outputs": [],
   "source": [
    "dayObs = '2021-07-07'"
   ]
  },
  {
   "cell_type": "markdown",
   "id": "5cbb73bd",
   "metadata": {},
   "source": [
    "See what objects we looked at over the course of the selected dayObs, so that we can pick one that sampled a nice range of airmasses to examine further."
   ]
  },
  {
   "cell_type": "code",
   "execution_count": 6,
   "id": "8fb62723",
   "metadata": {},
   "outputs": [],
   "source": [
    "reporter.plotPerObjectAirMass()"
   ]
  },
  {
   "cell_type": "code",
   "execution_count": 7,
   "id": "ab4eef3f",
   "metadata": {},
   "outputs": [],
   "source": [
    "objName = 'HD 160617'"
   ]
  },
  {
   "cell_type": "code",
   "execution_count": 8,
   "id": "9027ceec",
   "metadata": {},
   "outputs": [],
   "source": [
    "outputfile=\"SpectractorOutputCollectorNCSA_HD160617,2021-07-07-holo.fits\""
   ]
  },
  {
   "cell_type": "markdown",
   "id": "77344bf0",
   "metadata": {},
   "source": [
    "Here we find out from the butler which sequence numbers are observations of that star. Note that a) some will be dispersed, but some will likely be direct images or donuts, etc, and that b) of the dispersed images, some might not have run all the way through the pipeline without failure, so we're going to need to test for that."
   ]
  },
  {
   "cell_type": "code",
   "execution_count": 9,
   "id": "a2ea1076",
   "metadata": {},
   "outputs": [],
   "source": [
    "seqNums = butler.queryMetadata('raw', 'seqNum', dayObs=dayObs, object=objName)"
   ]
  },
  {
   "cell_type": "markdown",
   "id": "92f86f43",
   "metadata": {},
   "source": [
    "Here, for the seqNums, we ask the butler to check if the output of Spectractor actually exists, such that it can be retrieved."
   ]
  },
  {
   "cell_type": "code",
   "execution_count": 10,
   "id": "547706e1",
   "metadata": {},
   "outputs": [],
   "source": [
    "extracted = []\n",
    "for seqNum in seqNums:\n",
    "    if butler.datasetExists('spectraction', dayObs=dayObs, seqNum=seqNum):\n",
    "        extracted.append(seqNum)"
   ]
  },
  {
   "cell_type": "code",
   "execution_count": 11,
   "id": "919233dd",
   "metadata": {},
   "outputs": [
    {
     "name": "stdout",
     "output_type": "stream",
     "text": [
      "[234, 235, 236, 237, 239, 238, 241, 240, 242, 243, 244, 247, 248, 249, 260, 261, 262, 263, 266, 267, 268, 269, 272, 277, 278, 279, 280, 281, 282, 283, 292, 293, 298, 299, 300, 301, 317, 318, 319, 320, 321, 322, 323, 324, 325, 326, 327, 328, 329, 330, 352, 353, 354, 355, 359, 361, 362, 365]\n"
     ]
    }
   ],
   "source": [
    "print(extracted)"
   ]
  },
  {
   "cell_type": "markdown",
   "id": "70c97e6d",
   "metadata": {},
   "source": [
    "Grab a random single result just so we've got an object to poke at, such that we can use it to help us write the code that follows."
   ]
  },
  {
   "cell_type": "code",
   "execution_count": 12,
   "id": "8e02d1a2",
   "metadata": {},
   "outputs": [],
   "source": [
    "#all_results = []\n",
    "#for seqNum in extracted:\n",
    "#    results = butler.get('spectraction', dayObs=dayObs, seqNum=seqNum)\n",
    "#    all_results.append(results)"
   ]
  },
  {
   "cell_type": "code",
   "execution_count": 13,
   "id": "a190e93b",
   "metadata": {},
   "outputs": [],
   "source": [
    "idx=0"
   ]
  },
  {
   "cell_type": "code",
   "execution_count": 14,
   "id": "4c78d237",
   "metadata": {},
   "outputs": [],
   "source": [
    "#print(all_results[idx].spectrum.lambdas)"
   ]
  },
  {
   "cell_type": "code",
   "execution_count": 15,
   "id": "d254e308",
   "metadata": {},
   "outputs": [],
   "source": [
    "#fig = plt.figure(figsize=(10,5))\n",
    "#ax=fig.add_subplot(111)\n",
    "#ax.plot(all_results[idx].spectrum.lambdas,all_results[idx].spectrum.data,'r')\n",
    "#ax.set_title(title)"
   ]
  },
  {
   "cell_type": "code",
   "execution_count": 16,
   "id": "22e0abec",
   "metadata": {},
   "outputs": [],
   "source": [
    "#result = butler.get('spectraction', dict(dayObs=dayObs, seqNum=extracted[0]))\n",
    "result = butler.get('spectraction', dict(dayObs=dayObs, seqNum=317))"
   ]
  },
  {
   "cell_type": "code",
   "execution_count": 17,
   "id": "b98acd81",
   "metadata": {},
   "outputs": [
    {
     "name": "stdout",
     "output_type": "stream",
     "text": [
      "WARNING:astroquery:VerifyWarning: Card is too long, comment will be truncated.\n"
     ]
    },
    {
     "name": "stderr",
     "output_type": "stream",
     "text": [
      "WARNING: VerifyWarning: Card is too long, comment will be truncated. [astropy.io.fits.card]\n"
     ]
    },
    {
     "data": {
      "text/plain": [
       "SIMPLE  =                    T                                                  \n",
       "TARGET  = 'HD 160617'          / name of the target in the image                \n",
       "REDSHIFT= '0.000335'           / redshift of the target                         \n",
       "GRATING = 'holo4_003'          / name of the disperser                          \n",
       "ROTANGLE=  -0.1669043371015121 / [deg] angle of the dispersion axis             \n",
       "D2CCD   =    178.5061134577691 / [mm] distance between disperser and CCD        \n",
       "LSHIFT  =                  0.0                                                  \n",
       "PARANGLE=    67.57804795567915 / parallactic angle in degree                    \n",
       "TARGETX =    129.3446876015798 / target position on X axis                      \n",
       "TARGETY =    490.8406546787762 / target position on Y axis                      \n",
       "THETAFIT= -0.00051922423331379 / [deg] [USED] rotation angle from the Hessian an\n",
       "THETAINT=                -0.28 / [deg] rotation angle interp from disperser scan\n",
       "PSF_REG =    57999.99999999995                                                  \n",
       "LBDA_REF=    670.0619233923761                                                  \n",
       "PIXSHIFT=   0.6331721719757315                                                  \n",
       "CHI2_FIT=    4.183816951061906                                                  \n",
       "A2_FIT  =                  1.0                                                  "
      ]
     },
     "execution_count": 17,
     "metadata": {},
     "output_type": "execute_result"
    }
   ],
   "source": [
    "result.spectrum.header"
   ]
  },
  {
   "cell_type": "code",
   "execution_count": 18,
   "id": "ba149041",
   "metadata": {},
   "outputs": [],
   "source": [
    "title=result.spectrum.header['TARGET']"
   ]
  },
  {
   "cell_type": "code",
   "execution_count": 19,
   "id": "90f3126e",
   "metadata": {},
   "outputs": [],
   "source": [
    "#result.spectrum?"
   ]
  },
  {
   "cell_type": "code",
   "execution_count": 20,
   "id": "1a33e64a",
   "metadata": {},
   "outputs": [
    {
     "data": {
      "text/plain": [
       "Text(0.5, 1.0, 'HD 160617')"
      ]
     },
     "execution_count": 20,
     "metadata": {},
     "output_type": "execute_result"
    }
   ],
   "source": [
    "fig = plt.figure(figsize=(10,5))\n",
    "ax=fig.add_subplot(111)\n",
    "ax.plot(result.spectrum.lambdas,result.spectrum.data,'r')\n",
    "ax.set_title(title)"
   ]
  },
  {
   "cell_type": "code",
   "execution_count": 21,
   "id": "222ab75e",
   "metadata": {},
   "outputs": [],
   "source": [
    "from spectractor.extractor.spectrum import *"
   ]
  },
  {
   "cell_type": "code",
   "execution_count": 22,
   "id": "1cc07724",
   "metadata": {},
   "outputs": [
    {
     "data": {
      "text/plain": [
       "Text(0.5, 1.0, 'HD 160617')"
      ]
     },
     "execution_count": 22,
     "metadata": {},
     "output_type": "execute_result"
    }
   ],
   "source": [
    "fig = plt.figure(figsize=(10,5))\n",
    "ax=fig.add_subplot(111)\n",
    "plot_spectrum_simple(plt.gca(), result.spectrum.lambdas, result.spectrum.data, result.spectrum.err)\n",
    "ax.set_title(title)"
   ]
  },
  {
   "cell_type": "code",
   "execution_count": 23,
   "id": "d016f896",
   "metadata": {},
   "outputs": [],
   "source": [
    "N=len(extracted)"
   ]
  },
  {
   "cell_type": "markdown",
   "id": "bc7f2ac5",
   "metadata": {},
   "source": [
    "Build a dictionary of all the results for our sequence numbers:"
   ]
  },
  {
   "cell_type": "code",
   "execution_count": 24,
   "id": "9f0beb25",
   "metadata": {},
   "outputs": [],
   "source": [
    "all_size=np.zeros(N)\n",
    "idx=0\n",
    "for seqNum in extracted:\n",
    "    results = butler.get('spectraction', dayObs=dayObs, seqNum=seqNum)\n",
    "    lambdas=results.spectrum.lambdas\n",
    "    data=results.spectrum.data\n",
    "    err=results.spectrum.err\n",
    "    all_size[idx]=len(lambdas)\n",
    "    idx+=1"
   ]
  },
  {
   "cell_type": "code",
   "execution_count": 25,
   "id": "b8b0a4c2",
   "metadata": {},
   "outputs": [
    {
     "data": {
      "text/plain": [
       "array([404., 404., 405., 405., 404., 404., 405., 404., 405., 405., 299.,\n",
       "       163., 458., 434., 110., 109., 107., 104., 263., 260., 259., 257.,\n",
       "       416., 187., 572., 571., 569., 569., 570., 342., 200., 204., 580.,\n",
       "       236., 236., 239., 580., 580., 579., 579., 579., 579., 579., 580.,\n",
       "       580., 579., 579., 579., 579., 580., 378., 378., 376., 376., 402.,\n",
       "       401., 400., 340.])"
      ]
     },
     "execution_count": 25,
     "metadata": {},
     "output_type": "execute_result"
    }
   ],
   "source": [
    "all_size"
   ]
  },
  {
   "cell_type": "code",
   "execution_count": 26,
   "id": "35f46100",
   "metadata": {},
   "outputs": [],
   "source": [
    "max_size=int(all_size.max())"
   ]
  },
  {
   "cell_type": "code",
   "execution_count": 27,
   "id": "26788057",
   "metadata": {},
   "outputs": [],
   "source": [
    "output_data=np.zeros((3*N,max_size+2))"
   ]
  },
  {
   "cell_type": "code",
   "execution_count": 28,
   "id": "ca897e2c",
   "metadata": {},
   "outputs": [],
   "source": [
    "idx=0\n",
    "for seqNum in extracted:\n",
    "\n",
    "    results = butler.get('spectraction', dayObs=dayObs, seqNum=seqNum)\n",
    "    lambdas=results.spectrum.lambdas\n",
    "    data=results.spectrum.data\n",
    "    err=results.spectrum.err\n",
    "    siz=len(lambdas)\n",
    "    output_data[3*idx+0,0]=seqNum\n",
    "    output_data[3*idx+1,0]=seqNum\n",
    "    output_data[3*idx+2,0]=seqNum\n",
    "    output_data[3*idx+0,1]=siz\n",
    "    output_data[3*idx+1,1]=siz\n",
    "    output_data[3*idx+2,1]=siz\n",
    "    output_data[3*idx+0,2:siz+2]=lambdas\n",
    "    output_data[3*idx+1,2:siz+2]=data\n",
    "    output_data[3*idx+2,2:siz+2]=err\n",
    "    idx+=1"
   ]
  },
  {
   "cell_type": "code",
   "execution_count": 29,
   "id": "80904510",
   "metadata": {},
   "outputs": [],
   "source": [
    "hdr = fits.Header()\n",
    "    \n",
    "#for key,value in all_my_header[idx].items():\n",
    "#    hdr[str(key)]=value\n",
    "        \n",
    "hdu = fits.PrimaryHDU(data=output_data,header=hdr)  # with headers\n",
    "#hdu = fits.PrimaryHDU(data=all_my_raw_array[idx])\n",
    "    \n",
    "hdul = fits.HDUList([hdu])\n",
    "    \n",
    "hdul.writeto(outputfile,overwrite=True)"
   ]
  },
  {
   "cell_type": "markdown",
   "id": "71b5615f",
   "metadata": {},
   "source": [
    "Pick a random extraction, grab its lines, and see what their names are"
   ]
  },
  {
   "cell_type": "code",
   "execution_count": 30,
   "id": "e348aecb",
   "metadata": {},
   "outputs": [
    {
     "data": {
      "text/plain": [
       "<matplotlib.image.AxesImage at 0x7f2891d31e50>"
      ]
     },
     "execution_count": 30,
     "metadata": {},
     "output_type": "execute_result"
    }
   ],
   "source": [
    "plt.imshow(output_data,origin=\"lower\")"
   ]
  },
  {
   "cell_type": "code",
   "execution_count": 31,
   "id": "85c09ef7",
   "metadata": {},
   "outputs": [
    {
     "data": {
      "text/plain": [
       "array([[ 2.34000000e+02,  4.04000000e+02,  5.72836554e+02, ...,\n",
       "         0.00000000e+00,  0.00000000e+00,  0.00000000e+00],\n",
       "       [ 2.34000000e+02,  4.04000000e+02,  8.38258140e-11, ...,\n",
       "         0.00000000e+00,  0.00000000e+00,  0.00000000e+00],\n",
       "       [ 2.34000000e+02,  4.04000000e+02,  4.38191038e-11, ...,\n",
       "         0.00000000e+00,  0.00000000e+00,  0.00000000e+00],\n",
       "       ...,\n",
       "       [ 3.65000000e+02,  3.40000000e+02,  3.13553711e+02, ...,\n",
       "         0.00000000e+00,  0.00000000e+00,  0.00000000e+00],\n",
       "       [ 3.65000000e+02,  3.40000000e+02, -1.37525503e-14, ...,\n",
       "         0.00000000e+00,  0.00000000e+00,  0.00000000e+00],\n",
       "       [ 3.65000000e+02,  3.40000000e+02,  1.55965691e-13, ...,\n",
       "         0.00000000e+00,  0.00000000e+00,  0.00000000e+00]])"
      ]
     },
     "execution_count": 31,
     "metadata": {},
     "output_type": "execute_result"
    }
   ],
   "source": [
    "output_data"
   ]
  },
  {
   "cell_type": "code",
   "execution_count": null,
   "id": "fbe6fdfb",
   "metadata": {},
   "outputs": [],
   "source": []
  }
 ],
 "metadata": {
  "kernelspec": {
   "display_name": "LSST",
   "language": "python",
   "name": "lsst"
  },
  "language_info": {
   "codemirror_mode": {
    "name": "ipython",
    "version": 3
   },
   "file_extension": ".py",
   "mimetype": "text/x-python",
   "name": "python",
   "nbconvert_exporter": "python",
   "pygments_lexer": "ipython3",
   "version": "3.8.8"
  }
 },
 "nbformat": 4,
 "nbformat_minor": 5
}
