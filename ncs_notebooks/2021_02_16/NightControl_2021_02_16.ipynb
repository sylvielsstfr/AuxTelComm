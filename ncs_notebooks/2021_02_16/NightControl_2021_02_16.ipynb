{
 "cells": [
  {
   "cell_type": "markdown",
   "metadata": {},
   "source": [
    "# Observations for the night February 16th 2021\n",
    "\n",
    "https://harvard.zoom.us/rec/play/N7umVF8Rk3vWvW_O3jkaTinofB2WxW3QKz0fVai_K-qvAYLt37uMrvskOlnBiMEjduSeQVzWT7_DDYzc.IY7Pqjef82YlWmZE?continueMode=true&_x_zm_rtaid=BjQYrDaETYeYRUMw8NQgLw.1613559822570.c813d210d38e378b719cb4048493df5b&_x_zm_rhtaid=205\n",
    "\n",
    "\n",
    "- work with wl_2021_02\n",
    "- use jupyter kernel LSST\n",
    "- requires the installation https://github.com/mfisherlevine/summit\n",
    "- requires to write in file {HOME}/notebooks/.user_setups\n"
   ]
  },
  {
   "cell_type": "code",
   "execution_count": 1,
   "metadata": {},
   "outputs": [],
   "source": [
    "#!/bin/sh\n",
    "# This file is expected to be found in ${HOME}/notebooks/.user_setups\n",
    "#  It is a shell fragment that will be sourced during kernel startup\n",
    "#  when the LSST kernel is started in a JupyterLab environment.  It runs\n",
    "#  in the user context and can contain arbitrary shell code.  Exported changes\n",
    "#  in its environment will persist into the JupyterLab Python environment.\n",
    "\n",
    "#    setup -j rapid_analysis -r ${HOME}/repos/rapid_analysis\n",
    "#    setup -j atmospec       -r ${HOME}/repos/atmospec"
   ]
  },
  {
   "cell_type": "code",
   "execution_count": 1,
   "metadata": {},
   "outputs": [],
   "source": [
    "# correct for bug in stack in wl_2021_02\n",
    "%config IPCompleter.use_jedi=False"
   ]
  },
  {
   "cell_type": "markdown",
   "metadata": {},
   "source": [
    "# Import"
   ]
  },
  {
   "cell_type": "code",
   "execution_count": 2,
   "metadata": {},
   "outputs": [],
   "source": [
    "import os\n",
    "import matplotlib.pyplot as plt\n",
    "import numpy as np\n",
    "%matplotlib inline"
   ]
  },
  {
   "cell_type": "code",
   "execution_count": 3,
   "metadata": {},
   "outputs": [],
   "source": [
    "import lsst.daf.persistence as dafPersist\n",
    "import lsst.afw.display as afwDisplay\n",
    "afwDisplay.setDefaultBackend(\"lsst.display.firefly\")"
   ]
  },
  {
   "cell_type": "code",
   "execution_count": 4,
   "metadata": {},
   "outputs": [
    {
     "name": "stdout",
     "output_type": "stream",
     "text": [
      "afw                   21.0.0-7-g484459ba0+ec3713772a \tcurrent w_2021_02 setup\n",
      "alert_packet          master-g9c6f3ccb69 \tcurrent w_2021_02 setup\n",
      "ap_association        21.0.0-3-g88e2395+3185591824 \tcurrent w_2021_02 setup\n",
      "ap_pipe               21.0.0-8-ga29d378+1e78883ff8 \tcurrent w_2021_02 setup\n",
      "ap_verify             21.0.0-8-ge08b8c0+00a3cd4381 \tcurrent w_2021_02 setup\n",
      "astro_metadata_translator 0.1.0-18-g39729a3+2c88556dba \tcurrent w_2021_02 setup\n",
      "astshim               21.0.0-2-g45278ab+1b62c9342b \tcurrent w_2021_02 setup\n",
      "atmospec              LOCAL:/home/dagoret/repos/atmospec \tsetup\n",
      "base                  21.0.0-3-g5051ac2+1b62c9342b \tcurrent w_2021_02 setup\n",
      "cbp                   21.0.0-2-g143869c+68734f91bf \tcurrent w_2021_02 setup\n",
      "coadd_utils           21.0.0-2-g7f82c8f+0fa6211a2a \tcurrent w_2021_02 setup\n",
      "cp_pipe               21.0.0-5-gb7080ec+be549261b9 \tcurrent w_2021_02 setup\n",
      "ctrl_bps              21.0.0-6-g55737e1+9538d236c5 \tcurrent w_2021_02 setup\n",
      "ctrl_execute          21.0.0-2-g3d7e797+d6fe5bc27d \tcurrent w_2021_02 setup\n",
      "ctrl_mpexec           21.0.0-14-g834ab33+a13561ece8 \tcurrent w_2021_02 setup\n",
      "ctrl_orca             21.0.0-2-gfca2c14+59e272c9e0 \tcurrent w_2021_02 setup\n",
      "ctrl_platform_lsstvc  21.0.0-2-g181865c+6a3411a030 \tcurrent w_2021_02 setup\n",
      "ctrl_pool             21.0.0-2-ga326454+0fa6211a2a \tcurrent w_2021_02 setup\n",
      "daf_base              21.0.0+4a36882ba2 \tcurrent w_2021_02 setup\n",
      "daf_butler            21.0.0-23-g491dce9c+05ed0ab9e4 \tcurrent w_2021_02 setup\n",
      "daf_persistence       21.0.0-2-ga885a99+4aa8b35973 \tcurrent w_2021_02 setup\n",
      "dax_apdb              21.0.0-2-g5242d73+68734f91bf \tcurrent w_2021_02 setup\n",
      "display_ds9           21.0.0-2-g1367e85+68734f91bf \tcurrent w_2021_02 setup\n",
      "display_firefly       21.0.0-2-g8dde007+38856ba921 \tcurrent w_2021_02 setup\n",
      "display_matplotlib    21.0.0-2-gfc62afb+68734f91bf \tcurrent w_2021_02 setup\n",
      "eigen                 3.3.7.lsst2-1-g398bedf \tcurrent w_2021_02 setup\n",
      "fgcm                  lsst-dev-geab6a24725 \tcurrent w_2021_02 setup\n",
      "fgcmcal               21.0.0-4-g8a80011+74311aebad \tcurrent w_2021_02 setup\n",
      "firefly_client        lsst-dev-g508dc7262a \tcurrent w_2021_02 setup\n",
      "geom                  21.0.0-2-g8f08a60+05ed0ab9e4 \tcurrent w_2021_02 setup\n",
      "ip_diffim             21.0.0-2-g973f35b+f47790aff8 \tcurrent w_2021_02 setup\n",
      "ip_isr                21.0.0-1-g763706f+208f2a4a9f \tcurrent w_2021_02 setup\n",
      "jointcal              21.0.0-5-gcff38f6+b65dafa625 \tcurrent w_2021_02 setup\n",
      "jointcal_cholmod      master-gaea3fc0611+1b62c9342b \tcurrent w_2021_02 setup\n",
      "kht                   lsst-dev-g85ae2b9583+fe93bf5141 \tcurrent w_2021_02 setup\n",
      "log                   21.0.0-2-g2909d54+4a36882ba2 \tcurrent w_2021_02 setup\n",
      "lsst_apps             21.0.0-1-ge4b456e+585237544f \tcurrent w_2021_02 setup\n",
      "lsst_distrib          21.0.0-1-g00ce914+d6245ebd2e \tcurrent w_2021_02 setup\n",
      "lsst_obs              21.0.0-2-g1d50a98+bc1f23a3fd \tcurrent w_2021_02 setup\n",
      "meas_algorithms       21.0.0-6-g2b8c1f54+6e06838a0f \tcurrent w_2021_02 setup\n",
      "meas_astrom           21.0.0-2-g35ce6d5+208f2a4a9f \tcurrent w_2021_02 setup\n",
      "meas_base             21.0.0-3-g4c5b185+ac3e4e795c \tcurrent w_2021_02 setup\n",
      "meas_deblender        21.0.0-2-gc738bc1+8a19e45a34 \tcurrent w_2021_02 setup\n",
      "meas_extensions_convolved 21.0.0-2-g7713827+f807012f6a \tcurrent w_2021_02 setup\n",
      "meas_extensions_photometryKron 21.0.0-2-g66bcc37+208f2a4a9f \tcurrent w_2021_02 setup\n",
      "meas_extensions_psfex 21.0.0-2-ge712728+70cd99b747 \tcurrent w_2021_02 setup\n",
      "meas_extensions_scarlet 21.0.0-3-g5fe0b64+7f2b107c6d \tcurrent w_2021_02 setup\n",
      "meas_extensions_shapeHSM 21.0.0-2-gf484ad7+208f2a4a9f \tcurrent w_2021_02 setup\n",
      "meas_extensions_simpleShape 21.0.0-2-g103fe59+2bc87ea2bc \tcurrent w_2021_02 setup\n",
      "meas_modelfit         21.0.0-2-gecfae73+761aeb991c \tcurrent w_2021_02 setup\n",
      "obs_base              21.0.0-13-ge9a044d+c2b517099a \tcurrent w_2021_02 setup\n",
      "obs_cfht              21.0.0-3-g77dfe11+74a1446280 \tcurrent w_2021_02 setup\n",
      "obs_decam             21.0.0-2-g54e2caa+9f891e6da2 \tcurrent w_2021_02 setup\n",
      "obs_decam_data        21.0.0-1-g1fa5c9e \tcurrent w_2021_02 setup\n",
      "obs_lsst              LOCAL:/home/dagoret/repos/obs_lsst \tsetup\n",
      "obs_lsst_data         21.0.0-1-g7ccd743 \tcurrent w_2021_02 setup\n",
      "obs_subaru            21.0.0-8-gb1908a40+887cc32eba \tcurrent w_2021_02 setup\n",
      "obs_subaru_data       21.0.0-1-g2f68bc2 \tcurrent w_2021_02 setup\n",
      "obs_test              21.0.0-2-g4bc9b9f+c9c0b05420 \tcurrent w_2021_02 setup\n",
      "obs_test_data         21.0.0-1-g86cffb0 \tcurrent w_2021_02 setup\n",
      "pex_config            21.0.0-1-ga51b5d4+2c88556dba \tcurrent w_2021_02 setup\n",
      "pex_exceptions        21.0.0-2-gde069b7+d0bdec52a8 \tcurrent w_2021_02 setup\n",
      "pipe_base             21.0.0-6-gd3283ba+e447110da9 \tcurrent w_2021_02 setup\n",
      "pipe_drivers          21.0.0-2-ga63a54e+10477bcf77 \tcurrent w_2021_02 setup\n",
      "pipe_tasks            21.0.0-20-g55224fe4+fb58a89680 \tcurrent w_2021_02 setup\n",
      "proxmin               lsst-dev-g79c0498783 \tcurrent w_2021_02 setup\n",
      "psfex                 21.0.0-2-g03166ea+1b62c9342b \tcurrent w_2021_02 setup\n",
      "rapid_analysis        LOCAL:/home/dagoret/repos/rapid_analysis \tsetup\n",
      "scarlet               lsst-dev-gaccceaf1d0+f31336177f \tcurrent w_2021_02 setup\n",
      "scarlet_extensions    21.0.0+2809726f89 \tcurrent w_2021_02 setup\n",
      "sconsUtils            21.0.0-2-gf03364c \tcurrent w_2021_02 setup\n",
      "sdm_schemas           21.0.0-1-ge52cb69+1b62c9342b \tcurrent w_2021_02 setup\n",
      "shapelet              21.0.0-2-ge17e5af+68734f91bf \tcurrent w_2021_02 setup\n",
      "skymap                21.0.0-3-gaa929c8+e447110da9 \tcurrent w_2021_02 setup\n",
      "sphgeom               21.0.0+1b62c9342b \tcurrent w_2021_02 setup\n",
      "utils                 21.0.0-3-gd222c45+21ef063859 \tcurrent w_2021_02 setup\n",
      "validate_drp          21.0.0-2-g8f39060+a43240b7c1 \tcurrent w_2021_02 setup\n",
      "verify                21.0.0-2-g557ca81+59617fe31d \tcurrent w_2021_02 setup\n",
      "verify_metrics        21.0.0-2-gfc76737+1b62c9342b \tcurrent w_2021_02 setup\n"
     ]
    }
   ],
   "source": [
    "! eups list -s"
   ]
  },
  {
   "cell_type": "markdown",
   "metadata": {},
   "source": [
    "# Butler"
   ]
  },
  {
   "cell_type": "code",
   "execution_count": 5,
   "metadata": {},
   "outputs": [],
   "source": [
    "butler=dafPersist.Butler(\"/project/shared/auxTel\")"
   ]
  },
  {
   "cell_type": "code",
   "execution_count": 6,
   "metadata": {},
   "outputs": [],
   "source": [
    "dayObs=\"2021-02-16\""
   ]
  },
  {
   "cell_type": "code",
   "execution_count": 7,
   "metadata": {},
   "outputs": [],
   "source": [
    "seqNum=209"
   ]
  },
  {
   "cell_type": "markdown",
   "metadata": {},
   "source": [
    "# Display"
   ]
  },
  {
   "cell_type": "code",
   "execution_count": 8,
   "metadata": {},
   "outputs": [
    {
     "data": {
      "text/html": [
       "Open your web browser to <a href=\"https://lsst-lsp-stable.ncsa.illinois.edu/portal/app/slate.html?__wsch=sylviedc_debug1_2021_02_16\"\" target=\"_blank\">this link</a>"
      ],
      "text/plain": [
       "<IPython.core.display.HTML object>"
      ]
     },
     "metadata": {},
     "output_type": "display_data"
    }
   ],
   "source": [
    "display1=afwDisplay.getDisplay(frame=1,port=80,name='sylviedc_debug1_2021_02_16',url=os.environ[\"FIREFLY_URL\"])"
   ]
  },
  {
   "cell_type": "code",
   "execution_count": 9,
   "metadata": {},
   "outputs": [],
   "source": [
    "raw=butler.get('raw',dayObs=dayObs,seqNum=seqNum)"
   ]
  },
  {
   "cell_type": "code",
   "execution_count": 10,
   "metadata": {},
   "outputs": [],
   "source": [
    "display1.mtv(raw)"
   ]
  },
  {
   "cell_type": "code",
   "execution_count": 11,
   "metadata": {},
   "outputs": [
    {
     "data": {
      "text/html": [
       "Open your web browser to <a href=\"https://lsst-lsp-stable.ncsa.illinois.edu/portal/app/slate.html?__wsch=sylviedc_debug1_2021_02_16\"\" target=\"_blank\">this link</a>"
      ],
      "text/plain": [
       "<IPython.core.display.HTML object>"
      ]
     },
     "metadata": {},
     "output_type": "display_data"
    }
   ],
   "source": [
    "display1.getClient().display_url()"
   ]
  },
  {
   "cell_type": "markdown",
   "metadata": {},
   "source": [
    "# Meta Query to the Butler"
   ]
  },
  {
   "cell_type": "code",
   "execution_count": 12,
   "metadata": {},
   "outputs": [
    {
     "name": "stdout",
     "output_type": "stream",
     "text": [
      "[1, 2, 3, 5, 4, 6, 8, 7, 9, 10, 11, 12, 14, 13, 15, 16, 17, 18, 19, 20, 21, 22, 24, 23, 25, 26, 27, 28, 29, 30, 31, 32, 34, 33, 35, 37, 36, 38, 39, 40, 41, 42, 43, 45, 44, 46, 48, 47, 49, 51, 50, 52, 53, 54, 55, 56, 57, 58, 59, 60, 61, 62, 63, 64, 65, 66, 67, 68, 69, 70, 71, 72, 73, 74, 75, 76, 78, 77, 79, 80, 81, 82, 83, 84, 85, 86, 87, 89, 88, 90, 91, 92, 93, 94, 95, 96, 97, 98, 99, 100, 101, 102, 106, 104, 105, 103, 108, 110, 111, 107, 109, 115, 117, 112, 116, 114, 113, 124, 120, 119, 122, 125, 118, 123, 121, 129, 126, 131, 127, 130, 128, 135, 132, 137, 133, 134, 136, 142, 141, 139, 143, 140, 144, 138, 148, 145, 147, 146, 149, 151, 150, 152, 153, 154, 155, 156, 157, 158, 159, 160, 161, 162, 163, 164, 165, 166, 167, 168, 169, 170, 171, 172, 173, 174, 175, 176, 177, 178, 179, 180, 181, 182, 183, 184, 185, 186, 187, 188, 189, 190, 191, 192, 193, 194, 195, 196, 197, 198, 199, 200, 201, 202, 203, 204, 205, 206, 207, 208, 209, 210, 211, 212, 213, 214, 215, 216, 217, 218, 219, 220, 221, 222, 223, 224, 225, 226, 227, 228, 229, 230, 231, 232, 233, 234, 235, 236, 237, 238, 239, 240, 241, 242, 243, 244, 245, 246, 247, 248, 249, 250, 251, 252, 253, 254, 255, 256, 257, 258, 259, 260, 261, 262, 263, 264, 266, 265, 267, 268, 269, 270, 271, 272, 273, 274, 275, 276, 277, 278, 279, 280, 281, 282, 283, 284, 285, 286, 287, 288, 289, 290, 291, 292, 293, 294, 295, 296, 297, 298, 299, 300, 301, 302, 303, 304, 305, 306, 307, 308, 309, 310, 311, 312, 313, 314, 315, 316, 317, 318, 319, 320, 321, 322, 323, 324, 325, 326, 327, 328, 329, 330, 331, 332, 333, 334, 335, 336, 337, 338, 339, 340, 341, 342]\n"
     ]
    }
   ],
   "source": [
    "print(butler.queryMetadata('raw','seqNum',dayObs=dayObs))"
   ]
  },
  {
   "cell_type": "code",
   "execution_count": 13,
   "metadata": {},
   "outputs": [],
   "source": [
    "seqNums=butler.queryMetadata('raw','seqNum',dayObs=dayObs)"
   ]
  },
  {
   "cell_type": "code",
   "execution_count": 14,
   "metadata": {},
   "outputs": [],
   "source": [
    "%config IPCompleter.use_jedi=False"
   ]
  },
  {
   "cell_type": "markdown",
   "metadata": {},
   "source": [
    "# Information"
   ]
  },
  {
   "cell_type": "code",
   "execution_count": 15,
   "metadata": {},
   "outputs": [],
   "source": [
    "info=raw.getInfo()"
   ]
  },
  {
   "cell_type": "markdown",
   "metadata": {},
   "source": [
    "### The detector"
   ]
  },
  {
   "cell_type": "code",
   "execution_count": 16,
   "metadata": {},
   "outputs": [],
   "source": [
    "detector=info.getDetector()"
   ]
  },
  {
   "cell_type": "code",
   "execution_count": 17,
   "metadata": {},
   "outputs": [
    {
     "name": "stdout",
     "output_type": "stream",
     "text": [
      "C10\n",
      "C11\n",
      "C12\n",
      "C13\n",
      "C14\n",
      "C15\n",
      "C16\n",
      "C17\n",
      "C07\n",
      "C06\n",
      "C05\n",
      "C04\n",
      "C03\n",
      "C02\n",
      "C01\n",
      "C00\n"
     ]
    }
   ],
   "source": [
    "for amp in detector.getAmplifiers():\n",
    "    print(amp.getName())"
   ]
  },
  {
   "cell_type": "code",
   "execution_count": 18,
   "metadata": {},
   "outputs": [],
   "source": [
    "%config IPCompleter.use_jedi=False"
   ]
  },
  {
   "cell_type": "markdown",
   "metadata": {},
   "source": [
    "### The visits"
   ]
  },
  {
   "cell_type": "code",
   "execution_count": 19,
   "metadata": {},
   "outputs": [],
   "source": [
    "vi=info.getVisitInfo()"
   ]
  },
  {
   "cell_type": "code",
   "execution_count": 20,
   "metadata": {},
   "outputs": [
    {
     "data": {
      "text/plain": [
       "90.0"
      ]
     },
     "execution_count": 20,
     "metadata": {},
     "output_type": "execute_result"
    }
   ],
   "source": [
    "vi.getExposureTime()"
   ]
  },
  {
   "cell_type": "code",
   "execution_count": 21,
   "metadata": {},
   "outputs": [
    {
     "data": {
      "text/plain": [
       "1.92913 rad"
      ]
     },
     "execution_count": 21,
     "metadata": {},
     "output_type": "execute_result"
    }
   ],
   "source": [
    "vi.getBoresightParAngle()"
   ]
  },
  {
   "cell_type": "code",
   "execution_count": 22,
   "metadata": {},
   "outputs": [
    {
     "data": {
      "text/plain": [
       "0 rad"
      ]
     },
     "execution_count": 22,
     "metadata": {},
     "output_type": "execute_result"
    }
   ],
   "source": [
    "vi.getBoresightRotAngle()"
   ]
  },
  {
   "cell_type": "code",
   "execution_count": 23,
   "metadata": {},
   "outputs": [
    {
     "data": {
      "text/plain": [
       "Weather(nan, nan, nan)"
      ]
     },
     "execution_count": 23,
     "metadata": {},
     "output_type": "execute_result"
    }
   ],
   "source": [
    "vi.getWeather()"
   ]
  },
  {
   "cell_type": "code",
   "execution_count": 24,
   "metadata": {},
   "outputs": [],
   "source": [
    "#!ls /home/dagoret/repos/rapid_analysis/python"
   ]
  },
  {
   "cell_type": "code",
   "execution_count": 25,
   "metadata": {},
   "outputs": [],
   "source": [
    "#import sys\n",
    "#sys.path.append(\"/home/dagoret/repos/rapid_analysis\") # go to parent dir"
   ]
  },
  {
   "cell_type": "markdown",
   "metadata": {},
   "source": [
    "# Rapid Analysis\n",
    "\n",
    "Installed from https://github.com/mfisherlevine/summit"
   ]
  },
  {
   "cell_type": "code",
   "execution_count": 26,
   "metadata": {},
   "outputs": [
    {
     "name": "stdout",
     "output_type": "stream",
     "text": [
      "Loaded data for seqNums 1 to 342\n"
     ]
    }
   ],
   "source": [
    "from lsst.rapid.analysis.nightReport import NightReporter\n",
    "repoDir='/project/shared/auxTel'\n",
    "reporter=NightReporter(repoDir,\"2021-02-16\")"
   ]
  },
  {
   "cell_type": "markdown",
   "metadata": {},
   "source": [
    "## Query the reporter"
   ]
  },
  {
   "cell_type": "code",
   "execution_count": 27,
   "metadata": {},
   "outputs": [
    {
     "data": {
      "text/plain": [
       "['HD 85552', 'HD 74000', 'HD 50896', 'HD 185975', '35 Tau']"
      ]
     },
     "execution_count": 27,
     "metadata": {},
     "output_type": "execute_result"
    }
   ],
   "source": [
    "reporter.getObservedObjects()"
   ]
  },
  {
   "cell_type": "markdown",
   "metadata": {},
   "source": [
    "## The logbook"
   ]
  },
  {
   "cell_type": "code",
   "execution_count": 28,
   "metadata": {},
   "outputs": [
    {
     "name": "stdout",
     "output_type": "stream",
     "text": [
      "{seqNum:4} {imageType:9} {obj:10} {timeOfDay} {filt:25} {dt.sec:6.1f}  {expTime:2.2f}\n",
      " 293 engtest   HD 74000   07:38:33.419 RG610~empty                 74.9  20.00\n",
      " 294 engtest   HD 74000   07:39:01.073 RG610~empty                 27.7  20.00\n",
      " 295 science   HD 74000   07:46:09.109 RG610~empty                428.0  3.00\n",
      " 296 science   HD 74000   07:46:37.016 RG610~empty                 27.9  3.00\n",
      " 297 science   HD 74000   07:47:03.011 RG610~empty                 26.0  3.00\n",
      " 298 engtest   HD 74000   07:48:03.905 RG610~empty                 60.9  20.00\n",
      " 299 engtest   HD 74000   07:48:31.101 RG610~empty                 27.2  20.00\n",
      " 300 engtest   HD 74000   07:49:47.974 RG610~empty                 76.9  20.00\n",
      " 301 engtest   HD 74000   07:50:15.301 RG610~empty                 27.3  20.00\n",
      " 302 engtest   HD 74000   07:51:32.243 RG610~empty                 76.9  20.00\n",
      " 303 engtest   HD 74000   07:51:59.513 RG610~empty                 27.3  20.00\n",
      " 304 engtest   HD 74000   07:53:13.843 RG610~empty                 74.3  20.00\n",
      " 305 engtest   HD 74000   07:53:41.346 RG610~empty                 27.5  20.00\n",
      " 306 engtest   HD 74000   07:54:56.349 RG610~empty                 75.0  20.00\n",
      " 307 engtest   HD 74000   07:55:23.565 RG610~empty                 27.2  20.00\n",
      " 308 engtest   HD 74000   08:02:58.020 RG610~empty                454.5  20.00\n",
      " 309 engtest   HD 74000   08:03:25.533 RG610~empty                 27.5  20.00\n",
      " 310 engtest   HD 74000   08:04:39.561 RG610~empty                 74.0  20.00\n",
      " 311 engtest   HD 74000   08:05:06.772 RG610~empty                 27.2  20.00\n",
      " 312 engtest   HD 74000   08:06:19.746 RG610~empty                 73.0  20.00\n",
      " 313 science   HD 74000   08:11:02.015 RG610~empty                282.3  3.00\n",
      " 314 science   HD 74000   08:11:30.302 RG610~empty                 28.3  3.00\n",
      " 315 science   HD 74000   08:11:57.963 RG610~empty                 27.7  3.00\n",
      " 316 engtest   HD 74000   08:14:39.706 RG610~empty                161.7  3.00\n",
      " 317 science   HD 74000   08:16:46.710 RG610~empty                127.0  3.00\n",
      " 318 science   HD 74000   08:17:13.857 RG610~empty                 27.1  3.00\n",
      " 319 science   HD 74000   08:17:40.560 RG610~empty                 26.7  3.00\n",
      " 320 engtest   HD 74000   08:20:36.701 RG610~empty                176.1  20.00\n",
      " 321 engtest   HD 74000   08:21:04.004 RG610~empty                 27.3  20.00\n",
      " 322 science   HD 85552   08:25:21.560 RG610~empty                257.6  3.00\n",
      " 323 science   HD 85552   08:25:49.255 RG610~empty                 27.7  3.00\n",
      " 324 science   HD 85552   08:26:14.872 RG610~empty                 25.6  3.00\n",
      " 325 engtest   HD 85552   08:28:40.875 RG610~empty                146.0  20.00\n",
      " 326 engtest   HD 85552   08:29:08.347 RG610~empty                 27.5  20.00\n",
      " 327 engtest   HD 85552   08:30:13.652 RG610~empty                 65.3  20.00\n",
      " 328 engtest   HD 85552   08:30:41.132 RG610~empty                 27.5  20.00\n",
      " 329 engtest   HD 85552   08:31:50.075 RG610~empty                 68.9  20.00\n",
      " 330 engtest   HD 85552   08:32:17.569 RG610~empty                 27.5  20.00\n",
      " 331 engtest   HD 85552   08:36:34.629 RG610~empty                257.1  20.00\n",
      " 332 engtest   HD 85552   08:37:02.065 RG610~empty                 27.4  20.00\n",
      " 333 engtest   HD 85552   08:38:43.411 RG610~empty                101.3  3.00\n",
      " 334 science   HD 85552   08:43:17.810 RG610~empty                274.4  3.00\n",
      " 335 science   HD 85552   08:43:46.055 RG610~empty                 28.2  3.00\n",
      " 336 science   HD 85552   08:44:11.814 RG610~empty                 25.8  3.00\n",
      " 337 engtest   HD 85552   08:46:40.533 RG610~empty                148.7  20.00\n",
      " 338 engtest   HD 85552   08:47:07.762 RG610~empty                 27.2  20.00\n",
      " 339 engtest   HD 85552   08:48:16.909 RG610~empty                 69.1  20.00\n",
      " 340 engtest   HD 85552   08:48:44.182 RG610~empty                 27.3  20.00\n",
      " 341 engtest   HD 85552   08:50:00.329 RG610~empty                 76.1  20.00\n",
      " 342 engtest   HD 85552   08:50:27.565 RG610~empty                 27.2  20.00\n"
     ]
    }
   ],
   "source": [
    "reporter.printObsTable(tailNumber=50)"
   ]
  },
  {
   "cell_type": "code",
   "execution_count": 29,
   "metadata": {},
   "outputs": [
    {
     "name": "stdout",
     "output_type": "stream",
     "text": [
      "{seqNum:4} {imageType:9} {obj:10} {timeOfDay} {filt:25} {dt.sec:6.1f}  {expTime:2.2f}\n",
      "   1 bias      azel_target 19:50:22.184 empty~empty                  0.0  0.00\n",
      "   2 bias      azel_target 20:18:03.588 empty~empty               1661.4  0.00\n",
      "   3 bias      azel_target 20:18:16.563 empty~empty                 13.0  0.00\n",
      "   4 bias      azel_target 20:18:29.581 empty~empty                 13.0  0.00\n",
      "   5 bias      azel_target 20:18:42.546 empty~empty                 13.0  0.00\n",
      "   6 bias      azel_target 20:18:55.559 empty~empty                 13.0  0.00\n",
      "   7 bias      azel_target 20:19:08.591 empty~empty                 13.0  0.00\n",
      "   8 bias      azel_target 20:19:21.577 empty~empty                 13.0  0.00\n",
      "   9 bias      azel_target 20:19:33.582 empty~empty                 12.0  0.00\n",
      "  10 bias      azel_target 20:19:46.572 empty~empty                 13.0  0.00\n",
      "  11 bias      azel_target 20:19:59.572 empty~empty                 13.0  0.00\n",
      "  12 bias      azel_target 20:20:12.574 empty~empty                 13.0  0.00\n",
      "  13 bias      azel_target 20:20:25.566 empty~empty                 13.0  0.00\n",
      "  14 bias      azel_target 20:20:38.551 empty~empty                 13.0  0.00\n",
      "  15 bias      azel_target 20:20:51.569 empty~empty                 13.0  0.00\n",
      "  16 bias      azel_target 20:21:04.567 empty~empty                 13.0  0.00\n",
      "  17 bias      azel_target 20:21:17.535 empty~empty                 13.0  0.00\n",
      "  18 bias      azel_target 20:21:30.550 empty~empty                 13.0  0.00\n",
      "  19 bias      azel_target 20:21:42.553 empty~empty                 12.0  0.00\n",
      "  20 bias      azel_target 20:21:54.575 empty~empty                 12.0  0.00\n",
      "  21 bias      azel_target 20:22:07.588 empty~empty                 13.0  0.00\n",
      "  22 bias      azel_target 20:22:20.610 empty~empty                 13.0  0.00\n",
      "  23 bias      azel_target 20:22:33.554 empty~empty                 12.9  0.00\n",
      "  24 bias      azel_target 20:22:46.552 empty~empty                 13.0  0.00\n",
      "  25 bias      azel_target 20:22:59.576 empty~empty                 13.0  0.00\n",
      "  26 bias      azel_target 20:23:12.574 empty~empty                 13.0  0.00\n",
      "  27 bias      azel_target 20:23:25.555 empty~empty                 13.0  0.00\n",
      "  28 bias      azel_target 20:23:37.569 empty~empty                 12.0  0.00\n",
      "  29 bias      azel_target 20:23:50.568 empty~empty                 13.0  0.00\n",
      "  30 bias      azel_target 20:24:03.545 empty~empty                 13.0  0.00\n",
      "  31 bias      azel_target 20:24:15.544 empty~empty                 12.0  0.00\n",
      "  32 bias      azel_target 20:24:28.579 empty~empty                 13.0  0.00\n",
      "  33 bias      azel_target 20:24:41.564 empty~empty                 13.0  0.00\n",
      "  34 bias      azel_target 20:24:54.556 empty~empty                 13.0  0.00\n",
      "  35 bias      azel_target 20:25:07.568 empty~empty                 13.0  0.00\n",
      "  36 bias      azel_target 20:25:20.575 empty~empty                 13.0  0.00\n",
      "  37 bias      azel_target 20:25:33.578 empty~empty                 13.0  0.00\n",
      "  38 bias      azel_target 20:25:46.566 empty~empty                 13.0  0.00\n",
      "  39 bias      azel_target 20:25:59.598 empty~empty                 13.0  0.00\n",
      "  40 bias      azel_target 20:26:12.551 empty~empty                 13.0  0.00\n",
      "  41 bias      azel_target 20:26:25.542 empty~empty                 13.0  0.00\n",
      "  42 bias      azel_target 20:26:38.683 empty~empty                 13.1  0.00\n",
      "  43 bias      azel_target 20:26:51.564 empty~empty                 12.9  0.00\n",
      "  44 bias      azel_target 20:27:04.618 empty~empty                 13.1  0.00\n",
      "  45 bias      azel_target 20:27:17.588 empty~empty                 13.0  0.00\n",
      "  46 bias      azel_target 20:27:30.565 empty~empty                 13.0  0.00\n",
      "  47 bias      azel_target 20:27:43.540 empty~empty                 13.0  0.00\n",
      "  48 bias      azel_target 20:27:56.566 empty~empty                 13.0  0.00\n",
      "  49 bias      azel_target 20:28:09.552 empty~empty                 13.0  0.00\n",
      "  50 bias      azel_target 20:28:21.571 empty~empty                 12.0  0.00\n",
      "  51 bias      azel_target 20:28:34.577 empty~empty                 13.0  0.00\n",
      "  52 bias      azel_target 20:33:54.964 empty~empty                320.4  0.00\n",
      "  53 bias      azel_target 20:34:13.582 empty~empty                 18.6  0.00\n",
      "  54 bias      azel_target 20:34:32.549 empty~empty                 19.0  0.00\n",
      "  55 bias      azel_target 20:34:50.583 empty~empty                 18.0  0.00\n",
      "  56 bias      azel_target 20:35:09.553 empty~empty                 19.0  0.00\n",
      "  57 bias      azel_target 20:35:27.611 empty~empty                 18.1  0.00\n",
      "  58 bias      azel_target 20:35:45.601 empty~empty                 18.0  0.00\n",
      "  59 bias      azel_target 20:36:04.584 empty~empty                 19.0  0.00\n",
      "  60 bias      azel_target 20:36:24.559 empty~empty                 20.0  0.00\n",
      "  61 bias      azel_target 20:36:42.541 empty~empty                 18.0  0.00\n",
      "  62 bias      azel_target 20:37:01.549 empty~empty                 19.0  0.00\n",
      "  63 bias      azel_target 20:37:20.581 empty~empty                 19.0  0.00\n",
      "  64 bias      azel_target 20:37:39.589 empty~empty                 19.0  0.00\n",
      "  65 bias      azel_target 20:37:58.573 empty~empty                 19.0  0.00\n",
      "  66 bias      azel_target 20:38:17.569 empty~empty                 19.0  0.00\n",
      "  67 bias      azel_target 20:38:36.567 empty~empty                 19.0  0.00\n",
      "  68 bias      azel_target 20:38:54.546 empty~empty                 18.0  0.00\n",
      "  69 bias      azel_target 20:39:12.587 empty~empty                 18.0  0.00\n",
      "  70 bias      azel_target 20:39:31.587 empty~empty                 19.0  0.00\n",
      "  71 bias      azel_target 20:39:50.566 empty~empty                 19.0  0.00\n",
      "  72 bias      azel_target 20:40:08.584 empty~empty                 18.0  0.00\n",
      "  73 bias      azel_target 20:40:28.513 empty~empty                 19.9  0.00\n",
      "  74 bias      azel_target 20:40:47.569 empty~empty                 19.1  0.00\n",
      "  75 bias      azel_target 20:41:05.564 empty~empty                 18.0  0.00\n",
      "  76 bias      azel_target 20:41:23.541 empty~empty                 18.0  0.00\n",
      "  77 bias      azel_target 20:41:42.568 empty~empty                 19.0  0.00\n",
      "  78 bias      azel_target 20:42:00.584 empty~empty                 18.0  0.00\n",
      "  79 bias      azel_target 20:42:19.589 empty~empty                 19.0  0.00\n",
      "  80 bias      azel_target 20:42:38.554 empty~empty                 19.0  0.00\n",
      "  81 bias      azel_target 20:42:56.546 empty~empty                 18.0  0.00\n",
      "  82 bias      azel_target 20:43:15.559 empty~empty                 19.0  0.00\n",
      "  83 bias      azel_target 20:43:34.554 empty~empty                 19.0  0.00\n",
      "  84 bias      azel_target 20:43:52.546 empty~empty                 18.0  0.00\n",
      "  85 bias      azel_target 20:44:11.567 empty~empty                 19.0  0.00\n",
      "  86 bias      azel_target 20:44:30.597 empty~empty                 19.0  0.00\n",
      "  87 bias      azel_target 20:44:48.557 empty~empty                 18.0  0.00\n",
      "  88 bias      azel_target 20:45:08.533 empty~empty                 20.0  0.00\n",
      "  89 bias      azel_target 20:45:26.547 empty~empty                 18.0  0.00\n",
      "  90 bias      azel_target 20:45:45.578 empty~empty                 19.0  0.00\n",
      "  91 bias      azel_target 20:46:04.540 empty~empty                 19.0  0.00\n",
      "  92 bias      azel_target 20:46:23.576 empty~empty                 19.0  0.00\n",
      "  93 bias      azel_target 20:46:42.559 empty~empty                 19.0  0.00\n",
      "  94 bias      azel_target 20:47:00.566 empty~empty                 18.0  0.00\n",
      "  95 bias      azel_target 20:47:20.508 empty~empty                 19.9  0.00\n",
      "  96 bias      azel_target 20:47:38.583 empty~empty                 18.1  0.00\n",
      "  97 bias      azel_target 20:47:56.566 empty~empty                 18.0  0.00\n",
      "  98 bias      azel_target 20:48:15.585 empty~empty                 19.0  0.00\n",
      "  99 bias      azel_target 20:48:34.559 empty~empty                 19.0  0.00\n",
      " 100 bias      azel_target 20:48:53.544 empty~empty                 19.0  0.00\n",
      " 101 bias      azel_target 20:49:11.587 empty~empty                 18.0  0.00\n",
      " 102 flat      FlatField position 21:03:45.207 RG610~empty                873.6  2.00\n",
      " 103 flat      FlatField position 21:03:49.790 RG610~empty                  4.6  2.00\n",
      " 104 flat      FlatField position 21:03:54.374 RG610~empty                  4.6  2.00\n",
      " 105 flat      FlatField position 21:03:58.958 RG610~empty                  4.6  2.00\n",
      " 106 flat      FlatField position 21:04:03.527 RG610~empty                  4.6  2.00\n",
      " 107 flat      FlatField position 21:04:08.104 RG610~empty                  4.6  2.00\n",
      " 108 flat      FlatField position 21:04:12.662 RG610~empty                  4.6  2.00\n",
      " 109 flat      FlatField position 21:04:17.229 RG610~empty                  4.6  2.00\n",
      " 110 flat      FlatField position 21:04:21.799 RG610~empty                  4.6  2.00\n",
      " 111 flat      FlatField position 21:04:26.374 RG610~empty                  4.6  2.00\n",
      " 112 flat      FlatField position 21:04:39.442 empty~empty                 13.1  0.20\n",
      " 113 flat      FlatField position 21:04:42.218 empty~empty                  2.8  0.20\n",
      " 114 flat      FlatField position 21:04:46.664 empty~empty                  4.4  0.40\n",
      " 115 flat      FlatField position 21:04:49.632 empty~empty                  3.0  0.40\n",
      " 116 flat      FlatField position 21:04:52.700 empty~empty                  3.1  0.60\n",
      " 117 flat      FlatField position 21:04:55.870 empty~empty                  3.2  0.60\n",
      " 118 flat      FlatField position 21:04:59.132 empty~empty                  3.3  0.80\n",
      " 119 flat      FlatField position 21:05:02.492 empty~empty                  3.4  0.80\n",
      " 120 flat      FlatField position 21:05:05.999 empty~empty                  3.5  1.00\n",
      " 121 flat      FlatField position 21:05:09.564 empty~empty                  3.6  1.00\n",
      " 122 flat      FlatField position 21:05:13.297 empty~empty                  3.7  1.20\n",
      " 123 flat      FlatField position 21:05:17.071 empty~empty                  3.8  1.20\n",
      " 124 flat      FlatField position 21:05:20.937 empty~empty                  3.9  1.40\n",
      " 125 flat      FlatField position 21:05:24.916 empty~empty                  4.0  1.40\n",
      " 126 flat      FlatField position 21:05:28.976 empty~empty                  4.1  1.60\n",
      " 127 flat      FlatField position 21:05:33.139 empty~empty                  4.2  1.60\n",
      " 128 flat      FlatField position 21:05:37.403 empty~empty                  4.3  1.80\n",
      " 129 flat      FlatField position 21:05:41.791 empty~empty                  4.4  1.80\n",
      " 130 flat      FlatField position 21:05:46.295 empty~empty                  4.5  2.00\n",
      " 131 flat      FlatField position 21:05:50.868 empty~empty                  4.6  2.00\n",
      " 132 flat      FlatField position 21:05:55.529 empty~empty                  4.7  2.20\n",
      " 133 flat      FlatField position 21:06:00.300 empty~empty                  4.8  2.20\n",
      " 134 flat      FlatField position 21:06:05.170 empty~empty                  4.9  2.40\n",
      " 135 flat      FlatField position 21:06:10.141 empty~empty                  5.0  2.40\n",
      " 136 flat      FlatField position 21:06:15.200 empty~empty                  5.1  2.60\n",
      " 137 flat      FlatField position 21:06:20.378 empty~empty                  5.2  2.60\n",
      " 138 flat      FlatField position 21:06:25.636 empty~empty                  5.3  2.80\n",
      " 139 flat      FlatField position 21:06:31.018 empty~empty                  5.4  2.80\n",
      " 140 flat      FlatField position 21:06:36.511 empty~empty                  5.5  3.00\n",
      " 141 flat      FlatField position 21:06:42.099 empty~empty                  5.6  3.00\n",
      " 142 flat      FlatField position 21:06:47.776 empty~empty                  5.7  3.20\n",
      " 143 flat      FlatField position 21:06:53.552 empty~empty                  5.8  3.20\n",
      " 144 flat      FlatField position 21:06:59.422 empty~empty                  5.9  3.40\n",
      " 145 flat      FlatField position 21:07:05.405 empty~empty                  6.0  3.40\n",
      " 146 flat      FlatField position 21:07:11.476 empty~empty                  6.1  3.60\n",
      " 147 flat      FlatField position 21:07:17.646 empty~empty                  6.2  3.60\n",
      " 148 flat      FlatField position 21:07:23.905 empty~empty                  6.3  3.80\n",
      " 149 flat      FlatField position 21:07:30.280 empty~empty                  6.4  3.80\n",
      " 150 flat      FlatField position 21:07:36.747 empty~empty                  6.5  4.00\n",
      " 151 flat      FlatField position 21:07:43.317 empty~empty                  6.6  4.00\n",
      " 152 science   35 Tau     22:13:20.699 empty~empty               3937.4  2.00\n",
      " 153 science   35 Tau     22:13:41.844 empty~empty                 21.1  2.00\n",
      " 154 science   35 Tau     22:16:33.913 empty~empty                172.1  2.00\n",
      " 155 science   35 Tau     22:16:52.177 RG610~holo4_003             18.3  1.00\n",
      " 156 engtest   azel_target 23:01:12.864 empty~empty               2660.7  1.00\n",
      " 157 flat      Park position 00:01:10.415 empty~holo4_003           3597.6  1.00\n",
      " 158 flat      Park position 00:02:50.885 empty~holo4_003            100.5  20.00\n",
      " 159 flat      Park position 00:05:16.055 empty~holo4_003            145.2  20.00\n",
      " 160 science   HD 50896   00:21:50.923 RG610~empty                994.9  3.00\n",
      " 161 science   HD 50896   00:22:19.315 RG610~empty                 28.4  3.00\n",
      " 162 science   HD 50896   00:49:48.322 RG610~empty               1649.0  3.00\n",
      " 163 science   HD 50896   00:50:15.704 RG610~empty                 27.4  3.00\n",
      " 164 science   HD 50896   00:50:41.607 RG610~empty                 25.9  3.00\n",
      " 165 engtest   HD 50896   00:56:08.710 RG610~empty                327.1  20.00\n",
      " 166 engtest   HD 50896   00:56:35.802 RG610~empty                 27.1  20.00\n",
      " 167 engtest   HD 50896   00:57:44.378 RG610~empty                 68.6  20.00\n",
      " 168 engtest   HD 50896   00:58:11.838 RG610~empty                 27.5  20.00\n",
      " 169 engtest   HD 50896   00:59:21.599 RG610~empty                 69.8  20.00\n",
      " 170 engtest   HD 50896   00:59:49.129 RG610~empty                 27.5  20.00\n",
      " 171 science   HD 50896   01:10:33.508 RG610~empty                644.4  20.00\n",
      " 172 science   HD 50896   01:19:51.035 RG610~empty                557.5  20.00\n",
      " 173 science   HD 50896   01:21:19.483 RG610~empty                 88.4  2.00\n",
      " 174 science   HD 50896   01:26:02.311 empty~ronchi90lpmm         282.8  20.00\n",
      " 175 science   HD 50896   01:29:39.023 RG610~ronchi90lpmm         216.7  20.00\n",
      " 176 science   HD 50896   01:31:52.822 quadnotch1~ronchi90lpmm    133.8  20.00\n",
      " 177 science   HD 50896   01:34:13.267 BG40~empty                 140.4  2.00\n",
      " 178 science   HD 50896   01:35:35.770 RG610~empty                 82.5  20.00\n",
      " 179 science   HD 50896   01:36:16.343 RG610~empty                 40.6  2.00\n",
      " 180 science   HD 50896   01:42:42.744 RG610~empty                386.4  2.00\n",
      " 181 science   HD 50896   01:45:09.091 RG610~holo4_003            146.3  90.00\n",
      " 182 science   HD 50896   01:56:24.864 empty~empty                675.8  2.00\n",
      " 183 science   HD 50896   01:59:20.335 empty~ronchi90lpmm         175.5  20.00\n",
      " 184 science   HD 50896   02:00:49.398 empty~ronchi90lpmm          89.1  20.00\n",
      " 185 science   HD 50896   02:12:22.426 empty~empty                693.0  2.00\n",
      " 186 science   HD 50896   02:12:30.078 empty~ronchi90lpmm           7.7  20.00\n",
      " 187 science   HD 50896   02:19:01.051 empty~empty                391.0  2.00\n",
      " 188 science   HD 50896   02:20:21.813 empty~empty                 80.8  2.00\n",
      " 189 science   HD 50896   02:26:52.666 empty~empty                390.9  2.00\n",
      " 190 science   HD 50896   02:34:00.367 empty~empty                427.7  2.00\n",
      " 191 science   HD 50896   02:39:22.402 empty~ronchi90lpmm         322.0  20.00\n",
      " 192 science   HD 50896   02:46:29.192 empty~empty                426.8  2.00\n",
      " 193 science   HD 50896   02:47:28.119 empty~ronchi90lpmm          58.9  20.00\n",
      " 194 science   HD 50896   02:52:07.133 empty~ronchi90lpmm         279.0  20.00\n",
      " 195 science   HD 50896   03:01:58.333 empty~empty                591.2  2.00\n",
      " 196 science   HD 50896   03:02:07.997 empty~ronchi90lpmm           9.7  20.00\n",
      " 197 science   HD 50896   03:14:54.542 empty~empty                766.5  2.00\n",
      " 198 science   HD 50896   03:15:18.401 empty~ronchi90lpmm          23.9  20.00\n",
      " 199 science   HD 50896   03:19:09.367 empty~empty                231.0  2.00\n",
      " 200 science   HD 50896   03:20:11.880 empty~empty                 62.5  2.00\n",
      " 201 science   HD 50896   03:20:55.242 empty~ronchi90lpmm          43.4  20.00\n",
      " 202 science   HD 50896   03:24:06.330 empty~empty                191.1  2.00\n",
      " 203 science   HD 50896   03:24:43.264 empty~ronchi90lpmm          36.9  20.00\n",
      " 204 science   HD 50896   03:29:14.816 empty~empty                271.6  2.00\n",
      " 205 science   HD 50896   03:29:40.126 empty~ronchi90lpmm          25.3  20.00\n",
      " 206 science   HD 50896   03:33:49.671 empty~empty                249.5  2.00\n",
      " 207 science   HD 50896   03:34:54.241 empty~empty                 64.6  2.00\n",
      " 208 science   HD 50896   03:35:45.295 empty~empty                 51.1  2.00\n",
      " 209 science   HD 50896   03:37:12.647 empty~holo4_003             87.4  90.00\n",
      " 210 science   HD 74000   04:08:45.642 RG610~ronchi90lpmm        1893.0  30.00\n",
      " 211 science   HD 74000   04:12:17.338 RG610~ronchi90lpmm         211.7  30.00\n",
      " 212 science   HD 74000   04:13:36.127 RG610~ronchi90lpmm          78.8  30.00\n",
      " 213 science   HD 74000   04:14:26.458 RG610~ronchi90lpmm          50.3  30.00\n",
      " 214 science   HD 74000   04:15:06.646 RG610~ronchi90lpmm          40.2  30.00\n",
      " 215 science   HD 74000   04:15:42.037 RG610~ronchi90lpmm          35.4  30.00\n",
      " 216 science   HD 74000   04:16:22.099 RG610~ronchi90lpmm          40.1  30.00\n",
      " 217 science   HD 74000   04:16:58.546 RG610~ronchi90lpmm          36.4  30.00\n",
      " 218 science   HD 74000   04:17:34.370 RG610~ronchi90lpmm          35.8  30.00\n",
      " 219 science   HD 74000   04:18:09.940 RG610~ronchi90lpmm          35.6  30.00\n",
      " 220 science   HD 74000   04:18:45.037 RG610~ronchi90lpmm          35.1  30.00\n",
      " 221 science   HD 74000   04:19:17.651 RG610~ronchi90lpmm          32.6  30.00\n",
      " 222 science   HD 74000   04:19:50.234 RG610~ronchi90lpmm          32.6  30.00\n",
      " 223 science   HD 74000   04:20:22.821 RG610~ronchi90lpmm          32.6  30.00\n",
      " 224 science   HD 74000   04:20:55.399 RG610~ronchi90lpmm          32.6  30.00\n",
      " 225 science   HD 74000   04:21:52.436 RG610~ronchi90lpmm          57.0  30.00\n",
      " 226 science   HD 74000   04:22:25.006 RG610~ronchi90lpmm          32.6  30.00\n",
      " 227 science   HD 74000   04:22:57.578 RG610~ronchi90lpmm          32.6  30.00\n",
      " 228 science   HD 74000   04:23:30.138 RG610~ronchi90lpmm          32.6  30.00\n",
      " 229 science   HD 74000   04:24:02.721 RG610~ronchi90lpmm          32.6  30.00\n",
      " 230 science   HD 74000   04:24:39.168 RG610~ronchi90lpmm          36.4  30.00\n",
      " 231 science   HD 74000   04:25:11.752 RG610~ronchi90lpmm          32.6  30.00\n",
      " 232 science   HD 74000   04:25:44.321 RG610~ronchi90lpmm          32.6  30.00\n",
      " 233 science   HD 74000   04:26:16.900 RG610~ronchi90lpmm          32.6  30.00\n",
      " 234 science   HD 74000   04:26:49.478 RG610~ronchi90lpmm          32.6  30.00\n",
      " 235 science   HD 74000   04:27:26.631 RG610~ronchi90lpmm          37.2  30.00\n",
      " 236 science   HD 74000   04:27:59.197 RG610~ronchi90lpmm          32.6  30.00\n",
      " 237 science   HD 74000   04:28:31.765 RG610~ronchi90lpmm          32.6  30.00\n",
      " 238 science   HD 74000   04:29:04.334 RG610~ronchi90lpmm          32.6  30.00\n",
      " 239 science   HD 74000   04:29:36.906 RG610~ronchi90lpmm          32.6  30.00\n",
      " 240 science   HD 74000   04:30:18.418 RG610~ronchi90lpmm          41.5  30.00\n",
      " 241 science   HD 74000   04:30:51.003 RG610~ronchi90lpmm          32.6  30.00\n",
      " 242 science   HD 74000   04:31:23.570 RG610~ronchi90lpmm          32.6  30.00\n",
      " 243 science   HD 74000   04:31:56.131 RG610~ronchi90lpmm          32.6  30.00\n",
      " 244 science   HD 74000   04:32:28.717 RG610~ronchi90lpmm          32.6  30.00\n",
      " 245 science   HD 74000   04:33:09.842 RG610~ronchi90lpmm          41.1  30.00\n",
      " 246 science   HD 74000   04:33:42.414 RG610~ronchi90lpmm          32.6  30.00\n",
      " 247 science   HD 74000   04:34:14.990 RG610~ronchi90lpmm          32.6  30.00\n",
      " 248 science   HD 74000   04:34:47.563 RG610~ronchi90lpmm          32.6  30.00\n",
      " 249 science   HD 74000   04:35:20.145 RG610~ronchi90lpmm          32.6  30.00\n",
      " 250 science   HD 74000   06:00:40.931 RG610~empty               5120.8  3.00\n",
      " 251 science   HD 74000   06:01:08.361 RG610~empty                 27.4  3.00\n",
      " 252 science   HD 74000   06:01:34.313 RG610~empty                 26.0  3.00\n",
      " 253 science   HD 74000   06:08:53.672 RG610~empty                439.4  3.00\n",
      " 254 science   HD 74000   06:09:20.315 RG610~empty                 26.6  3.00\n",
      " 255 engtest   HD 74000   06:13:11.684 RG610~empty                231.4  20.00\n",
      " 256 engtest   HD 74000   06:13:38.782 RG610~empty                 27.1  20.00\n",
      " 257 engtest   HD 74000   06:14:47.081 RG610~empty                 68.3  20.00\n",
      " 258 engtest   HD 74000   06:15:14.177 RG610~empty                 27.1  20.00\n",
      " 259 engtest   HD 74000   06:16:22.484 RG610~empty                 68.3  20.00\n",
      " 260 engtest   HD 74000   06:16:49.585 RG610~empty                 27.1  20.00\n",
      " 261 science   HD 74000   06:19:58.689 RG610~empty                189.1  20.00\n",
      " 262 science   HD 74000   06:20:31.467 empty~ronchi90lpmm          32.8  10.00\n",
      " 263 science   HD 74000   06:20:49.674 RG610~ronchi90lpmm          18.2  10.00\n",
      " 264 science   HD 74000   06:21:08.855 quadnotch1~ronchi90lpmm     19.2  2.00\n",
      " 265 science   HD 74000   06:21:23.578 BG40~empty                  14.7  2.00\n",
      " 266 science   HD 74000   06:21:33.720 RG610~empty                 10.1  2.00\n",
      " 267 science   HD 185975  06:32:13.393 empty~empty                639.7  2.00\n",
      " 268 science   HD 185975  06:33:10.611 empty~empty                 57.2  2.00\n",
      " 269 science   HD 185975  06:35:40.010 empty~empty                149.4  2.00\n",
      " 270 science   HD 85552   06:40:20.029 empty~empty                280.0  2.00\n",
      " 271 science   HD 85552   06:41:05.658 empty~empty                 45.6  2.00\n",
      " 272 engtest   HD 85552   06:48:25.556 RG610~empty                439.9  20.00\n",
      " 273 engtest   HD 85552   06:48:53.039 RG610~empty                 27.5  20.00\n",
      " 274 engtest   HD 85552   06:50:02.188 RG610~empty                 69.1  20.00\n",
      " 275 engtest   HD 85552   06:50:29.591 RG610~empty                 27.4  20.00\n",
      " 276 science   HD 85552   07:04:44.458 RG610~empty                854.9  3.00\n",
      " 277 engtest   HD 85552   07:07:55.335 RG610~empty                190.9  20.00\n",
      " 278 engtest   HD 85552   07:08:22.882 RG610~empty                 27.5  20.00\n",
      " 279 science   HD 74000   07:16:41.056 RG610~empty                498.2  3.00\n",
      " 280 engtest   HD 74000   07:22:49.690 RG610~empty                368.6  2.00\n",
      " 281 science   HD 74000   07:24:24.719 RG610~empty                 95.0  3.00\n",
      " 282 science   HD 74000   07:28:23.704 RG610~empty                239.0  3.00\n",
      " 283 science   HD 74000   07:28:50.255 RG610~empty                 26.6  3.00\n",
      " 284 science   HD 74000   07:29:15.533 RG610~empty                 25.3  3.00\n",
      " 285 engtest   HD 74000   07:32:01.137 RG610~empty                165.6  20.00\n",
      " 286 engtest   HD 74000   07:32:28.405 RG610~empty                 27.3  20.00\n",
      " 287 engtest   HD 74000   07:33:36.689 RG610~empty                 68.3  20.00\n",
      " 288 engtest   HD 74000   07:34:04.966 RG610~empty                 28.3  20.00\n",
      " 289 engtest   HD 74000   07:35:14.813 RG610~empty                 69.8  20.00\n",
      " 290 engtest   HD 74000   07:35:42.091 RG610~empty                 27.3  20.00\n",
      " 291 engtest   HD 74000   07:36:51.245 RG610~empty                 69.2  20.00\n",
      " 292 engtest   HD 74000   07:37:18.533 RG610~empty                 27.3  20.00\n",
      " 293 engtest   HD 74000   07:38:33.419 RG610~empty                 74.9  20.00\n",
      " 294 engtest   HD 74000   07:39:01.073 RG610~empty                 27.7  20.00\n",
      " 295 science   HD 74000   07:46:09.109 RG610~empty                428.0  3.00\n",
      " 296 science   HD 74000   07:46:37.016 RG610~empty                 27.9  3.00\n",
      " 297 science   HD 74000   07:47:03.011 RG610~empty                 26.0  3.00\n",
      " 298 engtest   HD 74000   07:48:03.905 RG610~empty                 60.9  20.00\n",
      " 299 engtest   HD 74000   07:48:31.101 RG610~empty                 27.2  20.00\n",
      " 300 engtest   HD 74000   07:49:47.974 RG610~empty                 76.9  20.00\n",
      " 301 engtest   HD 74000   07:50:15.301 RG610~empty                 27.3  20.00\n",
      " 302 engtest   HD 74000   07:51:32.243 RG610~empty                 76.9  20.00\n",
      " 303 engtest   HD 74000   07:51:59.513 RG610~empty                 27.3  20.00\n",
      " 304 engtest   HD 74000   07:53:13.843 RG610~empty                 74.3  20.00\n",
      " 305 engtest   HD 74000   07:53:41.346 RG610~empty                 27.5  20.00\n",
      " 306 engtest   HD 74000   07:54:56.349 RG610~empty                 75.0  20.00\n",
      " 307 engtest   HD 74000   07:55:23.565 RG610~empty                 27.2  20.00\n",
      " 308 engtest   HD 74000   08:02:58.020 RG610~empty                454.5  20.00\n",
      " 309 engtest   HD 74000   08:03:25.533 RG610~empty                 27.5  20.00\n",
      " 310 engtest   HD 74000   08:04:39.561 RG610~empty                 74.0  20.00\n",
      " 311 engtest   HD 74000   08:05:06.772 RG610~empty                 27.2  20.00\n",
      " 312 engtest   HD 74000   08:06:19.746 RG610~empty                 73.0  20.00\n",
      " 313 science   HD 74000   08:11:02.015 RG610~empty                282.3  3.00\n",
      " 314 science   HD 74000   08:11:30.302 RG610~empty                 28.3  3.00\n",
      " 315 science   HD 74000   08:11:57.963 RG610~empty                 27.7  3.00\n",
      " 316 engtest   HD 74000   08:14:39.706 RG610~empty                161.7  3.00\n",
      " 317 science   HD 74000   08:16:46.710 RG610~empty                127.0  3.00\n",
      " 318 science   HD 74000   08:17:13.857 RG610~empty                 27.1  3.00\n",
      " 319 science   HD 74000   08:17:40.560 RG610~empty                 26.7  3.00\n",
      " 320 engtest   HD 74000   08:20:36.701 RG610~empty                176.1  20.00\n",
      " 321 engtest   HD 74000   08:21:04.004 RG610~empty                 27.3  20.00\n",
      " 322 science   HD 85552   08:25:21.560 RG610~empty                257.6  3.00\n",
      " 323 science   HD 85552   08:25:49.255 RG610~empty                 27.7  3.00\n",
      " 324 science   HD 85552   08:26:14.872 RG610~empty                 25.6  3.00\n",
      " 325 engtest   HD 85552   08:28:40.875 RG610~empty                146.0  20.00\n",
      " 326 engtest   HD 85552   08:29:08.347 RG610~empty                 27.5  20.00\n",
      " 327 engtest   HD 85552   08:30:13.652 RG610~empty                 65.3  20.00\n",
      " 328 engtest   HD 85552   08:30:41.132 RG610~empty                 27.5  20.00\n",
      " 329 engtest   HD 85552   08:31:50.075 RG610~empty                 68.9  20.00\n",
      " 330 engtest   HD 85552   08:32:17.569 RG610~empty                 27.5  20.00\n",
      " 331 engtest   HD 85552   08:36:34.629 RG610~empty                257.1  20.00\n",
      " 332 engtest   HD 85552   08:37:02.065 RG610~empty                 27.4  20.00\n",
      " 333 engtest   HD 85552   08:38:43.411 RG610~empty                101.3  3.00\n",
      " 334 science   HD 85552   08:43:17.810 RG610~empty                274.4  3.00\n",
      " 335 science   HD 85552   08:43:46.055 RG610~empty                 28.2  3.00\n",
      " 336 science   HD 85552   08:44:11.814 RG610~empty                 25.8  3.00\n",
      " 337 engtest   HD 85552   08:46:40.533 RG610~empty                148.7  20.00\n",
      " 338 engtest   HD 85552   08:47:07.762 RG610~empty                 27.2  20.00\n",
      " 339 engtest   HD 85552   08:48:16.909 RG610~empty                 69.1  20.00\n",
      " 340 engtest   HD 85552   08:48:44.182 RG610~empty                 27.3  20.00\n",
      " 341 engtest   HD 85552   08:50:00.329 RG610~empty                 76.1  20.00\n",
      " 342 engtest   HD 85552   08:50:27.565 RG610~empty                 27.2  20.00\n"
     ]
    }
   ],
   "source": [
    "reporter.printObsTable()"
   ]
  },
  {
   "cell_type": "markdown",
   "metadata": {},
   "source": [
    "## Butler Query meta data"
   ]
  },
  {
   "cell_type": "code",
   "execution_count": 30,
   "metadata": {},
   "outputs": [],
   "source": [
    "ids=butler.queryMetadata('raw',[\"dayObs\", \"seqNum\"],object=\"HD 50896\")"
   ]
  },
  {
   "cell_type": "code",
   "execution_count": 31,
   "metadata": {},
   "outputs": [
    {
     "name": "stdout",
     "output_type": "stream",
     "text": [
      "('2021-02-16', 160)\n",
      "('2021-02-16', 161)\n",
      "('2021-02-16', 162)\n",
      "('2021-02-16', 163)\n",
      "('2021-02-16', 164)\n",
      "('2021-02-16', 165)\n",
      "('2021-02-16', 166)\n",
      "('2021-02-16', 167)\n",
      "('2021-02-16', 168)\n",
      "('2021-02-16', 169)\n",
      "('2021-02-16', 170)\n"
     ]
    }
   ],
   "source": [
    "count=0\n",
    "for dataid in ids:\n",
    "    print(dataid)\n",
    "    count+=1\n",
    "    if count>10:\n",
    "        break"
   ]
  },
  {
   "cell_type": "markdown",
   "metadata": {},
   "source": [
    "## Some visualisation"
   ]
  },
  {
   "cell_type": "code",
   "execution_count": 32,
   "metadata": {},
   "outputs": [],
   "source": [
    "%matplotlib inline"
   ]
  },
  {
   "cell_type": "code",
   "execution_count": 33,
   "metadata": {},
   "outputs": [
    {
     "name": "stderr",
     "output_type": "stream",
     "text": [
      "/home/dagoret/repos/rapid_analysis/python/lsst/rapid/analysis/nightReport.py:135: MatplotlibDeprecationWarning: Adding an axes using the same arguments as a previous axes currently reuses the earlier instance.  In a future version, a new instance will always be created and returned.  Meanwhile, this warning can be suppressed, and the future behavior ensured, by passing a unique label to each axes instance.\n",
      "  ax = plt.subplot(111, polar=True)\n"
     ]
    },
    {
     "data": {
      "image/png": "[encoded data removed]",
      "text/plain": [
       "<Figure size 720x720 with 1 Axes>"
      ]
     },
     "metadata": {
      "needs_background": "light"
     },
     "output_type": "display_data"
    }
   ],
   "source": [
    "reporter.makePolarPlotForObjects()"
   ]
  },
  {
   "cell_type": "code",
   "execution_count": 34,
   "metadata": {},
   "outputs": [
    {
     "data": {
      "image/png": "[encoded data removed]",
      "text/plain": [
       "<Figure size 720x432 with 1 Axes>"
      ]
     },
     "metadata": {
      "needs_background": "light"
     },
     "output_type": "display_data"
    }
   ],
   "source": [
    "reporter.plotPerObjectAirMass(versusMjd=False)"
   ]
  },
  {
   "cell_type": "code",
   "execution_count": 35,
   "metadata": {},
   "outputs": [
    {
     "ename": "NoResults",
     "evalue": "No locations for get: datasetType:quickLookExp dataId:DataId(initialdata={'dayObs': '2021-02-16', 'seqNum': 209}, tag=set())",
     "output_type": "error",
     "traceback": [
      "\u001b[0;31m---------------------------------------------------------------------------\u001b[0m",
      "\u001b[0;31mNoResults\u001b[0m                                 Traceback (most recent call last)",
      "\u001b[0;32m<ipython-input-35-779b28142859>\u001b[0m in \u001b[0;36m<module>\u001b[0;34m\u001b[0m\n\u001b[0;32m----> 1\u001b[0;31m \u001b[0mexp\u001b[0m\u001b[0;34m=\u001b[0m\u001b[0mbutler\u001b[0m\u001b[0;34m.\u001b[0m\u001b[0mget\u001b[0m\u001b[0;34m(\u001b[0m\u001b[0;34m'quickLookExp'\u001b[0m\u001b[0;34m,\u001b[0m\u001b[0mdayObs\u001b[0m\u001b[0;34m=\u001b[0m\u001b[0mdayObs\u001b[0m\u001b[0;34m,\u001b[0m\u001b[0mseqNum\u001b[0m\u001b[0;34m=\u001b[0m\u001b[0mseqNum\u001b[0m\u001b[0;34m)\u001b[0m\u001b[0;34m\u001b[0m\u001b[0;34m\u001b[0m\u001b[0m\n\u001b[0m",
      "\u001b[0;32m/opt/lsst/software/stack/stack/miniconda3-py37_4.8.2-cb4e2dc/Linux64/daf_persistence/21.0.0-2-ga885a99+4aa8b35973/python/lsst/daf/persistence/butler.py\u001b[0m in \u001b[0;36mget\u001b[0;34m(self, datasetType, dataId, immediate, **rest)\u001b[0m\n\u001b[1;32m   1397\u001b[0m         \u001b[0mlocation\u001b[0m \u001b[0;34m=\u001b[0m \u001b[0mself\u001b[0m\u001b[0;34m.\u001b[0m\u001b[0m_locate\u001b[0m\u001b[0;34m(\u001b[0m\u001b[0mdatasetType\u001b[0m\u001b[0;34m,\u001b[0m \u001b[0mdataId\u001b[0m\u001b[0;34m,\u001b[0m \u001b[0mwrite\u001b[0m\u001b[0;34m=\u001b[0m\u001b[0;32mFalse\u001b[0m\u001b[0;34m)\u001b[0m\u001b[0;34m\u001b[0m\u001b[0;34m\u001b[0m\u001b[0m\n\u001b[1;32m   1398\u001b[0m         \u001b[0;32mif\u001b[0m \u001b[0mlocation\u001b[0m \u001b[0;32mis\u001b[0m \u001b[0;32mNone\u001b[0m\u001b[0;34m:\u001b[0m\u001b[0;34m\u001b[0m\u001b[0;34m\u001b[0m\u001b[0m\n\u001b[0;32m-> 1399\u001b[0;31m             \u001b[0;32mraise\u001b[0m \u001b[0mNoResults\u001b[0m\u001b[0;34m(\u001b[0m\u001b[0;34m\"No locations for get:\"\u001b[0m\u001b[0;34m,\u001b[0m \u001b[0mdatasetType\u001b[0m\u001b[0;34m,\u001b[0m \u001b[0mdataId\u001b[0m\u001b[0;34m)\u001b[0m\u001b[0;34m\u001b[0m\u001b[0;34m\u001b[0m\u001b[0m\n\u001b[0m\u001b[1;32m   1400\u001b[0m         \u001b[0mself\u001b[0m\u001b[0;34m.\u001b[0m\u001b[0mlog\u001b[0m\u001b[0;34m.\u001b[0m\u001b[0mdebug\u001b[0m\u001b[0;34m(\u001b[0m\u001b[0;34m\"Get type=%s keys=%s from %s\"\u001b[0m\u001b[0;34m,\u001b[0m \u001b[0mdatasetType\u001b[0m\u001b[0;34m,\u001b[0m \u001b[0mdataId\u001b[0m\u001b[0;34m,\u001b[0m \u001b[0mstr\u001b[0m\u001b[0;34m(\u001b[0m\u001b[0mlocation\u001b[0m\u001b[0;34m)\u001b[0m\u001b[0;34m)\u001b[0m\u001b[0;34m\u001b[0m\u001b[0;34m\u001b[0m\u001b[0m\n\u001b[1;32m   1401\u001b[0m \u001b[0;34m\u001b[0m\u001b[0m\n",
      "\u001b[0;31mNoResults\u001b[0m: No locations for get: datasetType:quickLookExp dataId:DataId(initialdata={'dayObs': '2021-02-16', 'seqNum': 209}, tag=set())"
     ]
    }
   ],
   "source": [
    "exp=butler.get('quickLookExp',dayObs=dayObs,seqNum=seqNum)"
   ]
  },
  {
   "cell_type": "code",
   "execution_count": 36,
   "metadata": {},
   "outputs": [
    {
     "ename": "NameError",
     "evalue": "name 'exp' is not defined",
     "output_type": "error",
     "traceback": [
      "\u001b[0;31m---------------------------------------------------------------------------\u001b[0m",
      "\u001b[0;31mNameError\u001b[0m                                 Traceback (most recent call last)",
      "\u001b[0;32m<ipython-input-36-d2f032e1f3f4>\u001b[0m in \u001b[0;36m<module>\u001b[0;34m\u001b[0m\n\u001b[0;32m----> 1\u001b[0;31m \u001b[0mdisplay1\u001b[0m\u001b[0;34m.\u001b[0m\u001b[0mmtv\u001b[0m\u001b[0;34m(\u001b[0m\u001b[0mexp\u001b[0m\u001b[0;34m)\u001b[0m\u001b[0;34m\u001b[0m\u001b[0;34m\u001b[0m\u001b[0m\n\u001b[0m",
      "\u001b[0;31mNameError\u001b[0m: name 'exp' is not defined"
     ]
    }
   ],
   "source": [
    "display1.mtv(exp)"
   ]
  },
  {
   "cell_type": "code",
   "execution_count": null,
   "metadata": {},
   "outputs": [],
   "source": [
    "fig=plt.figure(figsize=(20,5))\n",
    "ax1=fig.add_subplot(131)\n",
    "ax1.imshow(exp.image.array,origin=\"lower\",cmap=\"jet\")\n",
    "ax2=fig.add_subplot(132)\n",
    "ax2.imshow(exp.mask.array,origin=\"lower\",cmap=\"jet\")\n",
    "ax3=fig.add_subplot(133)\n",
    "ax3.imshow(exp.variance.array,origin=\"lower\",cmap=\"jet\")"
   ]
  },
  {
   "cell_type": "code",
   "execution_count": null,
   "metadata": {},
   "outputs": [],
   "source": [
    "exp.image.array.shape"
   ]
  },
  {
   "cell_type": "code",
   "execution_count": null,
   "metadata": {},
   "outputs": [],
   "source": [
    "raw.image.array.shape"
   ]
  },
  {
   "cell_type": "markdown",
   "metadata": {},
   "source": [
    "## Meta Data"
   ]
  },
  {
   "cell_type": "code",
   "execution_count": null,
   "metadata": {},
   "outputs": [],
   "source": [
    "md=butler.get(\"raw_md\",dayObs=dayObs,seqNum=seqNum)"
   ]
  },
  {
   "cell_type": "code",
   "execution_count": null,
   "metadata": {},
   "outputs": [],
   "source": [
    "md.toDict()"
   ]
  },
  {
   "cell_type": "code",
   "execution_count": null,
   "metadata": {},
   "outputs": [],
   "source": [
    "rowNum=2005"
   ]
  },
  {
   "cell_type": "code",
   "execution_count": null,
   "metadata": {},
   "outputs": [],
   "source": [
    "plt.plot(range(1700,1900),exp.image.array[rowNum,1700:1900])"
   ]
  },
  {
   "cell_type": "code",
   "execution_count": null,
   "metadata": {},
   "outputs": [],
   "source": []
  }
 ],
 "metadata": {
  "kernelspec": {
   "display_name": "LSST",
   "language": "python",
   "name": "lsst"
  },
  "language_info": {
   "codemirror_mode": {
    "name": "ipython",
    "version": 3
   },
   "file_extension": ".py",
   "mimetype": "text/x-python",
   "name": "python",
   "nbconvert_exporter": "python",
   "pygments_lexer": "ipython3",
   "version": "3.7.8"
  }
 },
 "nbformat": 4,
 "nbformat_minor": 4
}
