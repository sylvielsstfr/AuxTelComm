{
 "cells": [
  {
   "cell_type": "markdown",
   "id": "c6dd0438",
   "metadata": {},
   "source": [
    "# Observations for the night June 10th 2021 \n",
    "\n",
    "\n",
    "https://harvard.zoom.us/rec/play/N7umVF8Rk3vWvW_O3jkaTinofB2WxW3QKz0fVai_K-qvAYLt37uMrvskOlnBiMEjduSeQVzWT7_DDYzc.IY7Pqjef82YlWmZE?continueMode=true&_x_zm_rtaid=BjQYrDaETYeYRUMw8NQgLw.1613559822570.c813d210d38e378b719cb4048493df5b&_x_zm_rhtaid=205\n",
    "\n",
    "\n",
    "- work with Weakly_2021_21\n",
    "- use jupyter kernel LSST\n",
    "- requires the installation see https://github.com/stubbslab/PCWG-AuxTel/blob/main/setup_script.md\n",
    "- requires to write in file {HOME}/notebooks/.user_setups\n"
   ]
  },
  {
   "cell_type": "code",
   "execution_count": 1,
   "id": "914d611c",
   "metadata": {},
   "outputs": [],
   "source": [
    "# ! eups list -s"
   ]
  },
  {
   "cell_type": "code",
   "execution_count": 2,
   "id": "9faf0e90",
   "metadata": {},
   "outputs": [],
   "source": [
    "import os\n",
    "import matplotlib.pyplot as plt\n",
    "import numpy as np\n",
    "%matplotlib inline\n",
    "from matplotlib.colors import LogNorm\n",
    "\n",
    "from mpl_toolkits.axes_grid1 import make_axes_locatable\n",
    "\n",
    "import matplotlib.ticker                         # here's where the formatter is\n",
    "from matplotlib.ticker import (MultipleLocator, FormatStrFormatter,\n",
    "                               AutoMinorLocator)\n",
    "\n",
    "from astropy.io import fits"
   ]
  },
  {
   "cell_type": "code",
   "execution_count": 3,
   "id": "fc853de3",
   "metadata": {},
   "outputs": [],
   "source": [
    "import lsst.daf.persistence as dafPersist\n",
    "import lsst.afw.display as afwDisplay\n",
    "afwDisplay.setDefaultBackend(\"lsst.display.firefly\")"
   ]
  },
  {
   "cell_type": "code",
   "execution_count": 4,
   "id": "1ed3c4e9",
   "metadata": {},
   "outputs": [],
   "source": [
    "# correct for bug in stack in wl_2021_02\n",
    "%config IPCompleter.use_jedi=False"
   ]
  },
  {
   "cell_type": "code",
   "execution_count": 5,
   "id": "3a9d250a",
   "metadata": {},
   "outputs": [],
   "source": [
    "FLAG_SAVE_IMAGE=True\n",
    "FLAG_SAVE_IMAGE=True"
   ]
  },
  {
   "cell_type": "code",
   "execution_count": 6,
   "id": "679c20dc",
   "metadata": {},
   "outputs": [
    {
     "name": "stdout",
     "output_type": "stream",
     "text": [
      "calexp\ticExp  postISRCCD\t     repositoryCfg.yaml  spectractorOutput\n",
      "config\ticSrc  processStar_metadata  schema\n"
     ]
    }
   ],
   "source": [
    "!ls /project/shared/auxTel/rerun/mfl/slurmRun"
   ]
  },
  {
   "cell_type": "code",
   "execution_count": 7,
   "id": "77f52560",
   "metadata": {},
   "outputs": [
    {
     "name": "stdout",
     "output_type": "stream",
     "text": [
      "CALIB\t   CALIB-OLD\t CALIB-RHL  _parent\t ref_cats\n",
      "CALIB_OLD  calibrations  Fossil     _parent.old  rerun\n"
     ]
    }
   ],
   "source": [
    "!ls /project/shared/auxTel"
   ]
  },
  {
   "cell_type": "markdown",
   "id": "b63f1e10",
   "metadata": {},
   "source": [
    "# Configuration"
   ]
  },
  {
   "cell_type": "markdown",
   "id": "b2cb8c1f",
   "metadata": {},
   "source": [
    "## Location and date"
   ]
  },
  {
   "cell_type": "code",
   "execution_count": 8,
   "id": "faa8fd39",
   "metadata": {},
   "outputs": [
    {
     "name": "stderr",
     "output_type": "stream",
     "text": [
      "/home/dagoret/repos/rapid_analysis/python/lsst/rapid/analysis/nightReport.py:79: FutureWarning: Gen2 Butler has been deprecated (Butler). It will be removed sometime after v23.0 but no earlier than the end of 2021.\n",
      "  self._butler = dafPersist.Butler(repoDir)\n",
      "/home/dagoret/repos/rapid_analysis/python/lsst/rapid/analysis/nightReport.py:79: FutureWarning: Gen2 Butler has been deprecated (LatissMapper). It will be removed sometime after v23.0 but no earlier than the end of 2021.\n",
      "  self._butler = dafPersist.Butler(repoDir)\n"
     ]
    },
    {
     "name": "stdout",
     "output_type": "stream",
     "text": [
      "Loaded data for seqNums 1 to 327\n"
     ]
    }
   ],
   "source": [
    "from lsst.rapid.analysis.nightReport import NightReporter\n",
    "# data exist here\n",
    "repoDir='/project/shared/auxTel'\n",
    "# recommended but wrong\n",
    "#repoDir='project/shared/auxTel/rerun/mfl/slurmRun'\n",
    "dayObs=\"2021-06-10\"\n",
    "reporter=NightReporter(repoDir,dayObs)"
   ]
  },
  {
   "cell_type": "markdown",
   "id": "8a843dbf",
   "metadata": {},
   "source": [
    "# Selection"
   ]
  },
  {
   "cell_type": "code",
   "execution_count": 9,
   "id": "4c6b4284",
   "metadata": {},
   "outputs": [],
   "source": [
    "DISPERSER_SEL=\"holo4_003\""
   ]
  },
  {
   "cell_type": "markdown",
   "id": "9d6a33e2",
   "metadata": {},
   "source": [
    "# Information from reporter"
   ]
  },
  {
   "cell_type": "code",
   "execution_count": 10,
   "id": "cf7bcc49",
   "metadata": {},
   "outputs": [
    {
     "name": "stdout",
     "output_type": "stream",
     "text": [
      "['HD 123763', 'HD  99214', 'HD 98611', 'HD  82358', 'HD 105484', 'HD 109513', 'HD 105296', 'HD115169', 'HD  76140', 'HD 132659', 'HD 103854', 'HD 167060', 'HD 108882', 'HD  62884', 'HD  78636', 'HD 115557', 'HD 115169', 'HD  98856', 'HD 68450', 'HD  29880', 'HD 112574A', 'HD 185078', 'HD 109129', 'HD  94294', 'HD 117820', 'HD 145358', 'HD  49216', 'HD  94350', 'HD 102810', 'HD 102333', 'HD  94948', 'HD 105836', 'HD 123991', 'HD  92270', 'HD 142598', 'HD 131011', 'HD 108352']\n"
     ]
    }
   ],
   "source": [
    "print(reporter.getObservedObjects())"
   ]
  },
  {
   "cell_type": "code",
   "execution_count": 11,
   "id": "50be463f",
   "metadata": {},
   "outputs": [],
   "source": [
    "reporter.makePolarPlotForObjects()"
   ]
  },
  {
   "cell_type": "code",
   "execution_count": 12,
   "id": "b4c9ba24",
   "metadata": {},
   "outputs": [],
   "source": [
    "reporter.plotPerObjectAirMass()"
   ]
  },
  {
   "cell_type": "code",
   "execution_count": 13,
   "id": "4154ef66",
   "metadata": {},
   "outputs": [
    {
     "name": "stdout",
     "output_type": "stream",
     "text": [
      "{seqNum:4} {imageType:9} {obj:10} {timeOfDay} {filt:25} {dt.sec:6.1f}  {expTime:2.2f}\n",
      "   1 bias      azel_target 21:31:29.196 RG610~empty                  0.0  0.00\n",
      "   2 bias      azel_target 21:31:49.342 RG610~empty                 20.1  0.00\n",
      "   3 bias      azel_target 21:31:53.837 RG610~empty                  4.5  0.00\n",
      "   4 bias      azel_target 21:31:58.331 RG610~empty                  4.5  0.00\n",
      "   5 bias      azel_target 21:32:02.826 RG610~empty                  4.5  0.00\n",
      "   6 bias      azel_target 21:32:07.323 RG610~empty                  4.5  0.00\n",
      "   7 bias      azel_target 21:32:11.819 RG610~empty                  4.5  0.00\n",
      "   8 bias      azel_target 21:32:16.315 RG610~empty                  4.5  0.00\n",
      "   9 bias      azel_target 21:32:20.810 RG610~empty                  4.5  0.00\n",
      "  10 bias      azel_target 21:32:25.307 RG610~empty                  4.5  0.00\n",
      "  11 bias      azel_target 21:32:29.802 RG610~empty                  4.5  0.00\n",
      "  12 bias      azel_target 21:32:34.459 RG610~empty                  4.7  0.00\n",
      "  13 bias      azel_target 21:32:38.968 RG610~empty                  4.5  0.00\n",
      "  14 bias      azel_target 21:32:43.467 RG610~empty                  4.5  0.00\n",
      "  15 bias      azel_target 21:32:47.964 RG610~empty                  4.5  0.00\n",
      "  16 bias      azel_target 21:32:52.458 RG610~empty                  4.5  0.00\n",
      "  17 bias      azel_target 21:32:56.955 RG610~empty                  4.5  0.00\n",
      "  18 bias      azel_target 21:33:01.449 RG610~empty                  4.5  0.00\n",
      "  19 bias      azel_target 21:33:05.954 RG610~empty                  4.5  0.00\n",
      "  20 bias      azel_target 21:33:10.451 RG610~empty                  4.5  0.00\n",
      "  21 bias      azel_target 21:33:14.954 RG610~empty                  4.5  0.00\n",
      "  22 bias      azel_target 21:33:19.454 RG610~empty                  4.5  0.00\n",
      "  23 bias      azel_target 21:33:23.947 RG610~empty                  4.5  0.00\n",
      "  24 bias      azel_target 21:33:28.441 RG610~empty                  4.5  0.00\n",
      "  25 bias      azel_target 21:33:32.946 RG610~empty                  4.5  0.00\n",
      "  26 bias      azel_target 21:33:37.442 RG610~empty                  4.5  0.00\n",
      "  27 bias      azel_target 21:33:41.937 RG610~empty                  4.5  0.00\n",
      "  28 bias      azel_target 21:33:46.440 RG610~empty                  4.5  0.00\n",
      "  29 bias      azel_target 21:33:50.948 RG610~empty                  4.5  0.00\n",
      "  30 bias      azel_target 21:33:55.444 RG610~empty                  4.5  0.00\n",
      "  31 bias      azel_target 21:33:59.939 RG610~empty                  4.5  0.00\n",
      "  32 bias      azel_target 21:34:04.431 RG610~empty                  4.5  0.00\n",
      "  33 bias      azel_target 21:34:08.936 RG610~empty                  4.5  0.00\n",
      "  34 bias      azel_target 21:34:13.430 RG610~empty                  4.5  0.00\n",
      "  35 bias      azel_target 21:34:17.927 RG610~empty                  4.5  0.00\n",
      "  36 bias      azel_target 21:34:22.426 RG610~empty                  4.5  0.00\n",
      "  37 bias      azel_target 21:34:26.925 RG610~empty                  4.5  0.00\n",
      "  38 bias      azel_target 21:34:31.418 RG610~empty                  4.5  0.00\n",
      "  39 bias      azel_target 21:34:35.913 RG610~empty                  4.5  0.00\n",
      "  40 bias      azel_target 21:34:40.413 RG610~empty                  4.5  0.00\n",
      "  41 bias      azel_target 21:34:44.918 RG610~empty                  4.5  0.00\n",
      "  42 bias      azel_target 21:34:49.418 RG610~empty                  4.5  0.00\n",
      "  43 bias      azel_target 21:34:53.916 RG610~empty                  4.5  0.00\n",
      "  44 bias      azel_target 21:34:58.411 RG610~empty                  4.5  0.00\n",
      "  45 bias      azel_target 21:35:02.906 RG610~empty                  4.5  0.00\n",
      "  46 bias      azel_target 21:35:07.424 RG610~empty                  4.5  0.00\n",
      "  47 bias      azel_target 21:35:11.910 RG610~empty                  4.5  0.00\n",
      "  48 bias      azel_target 21:35:16.413 RG610~empty                  4.5  0.00\n",
      "  49 bias      azel_target 21:35:20.908 RG610~empty                  4.5  0.00\n",
      "  50 bias      azel_target 21:35:25.415 RG610~empty                  4.5  0.00\n",
      "  51 bias      azel_target 21:35:29.910 RG610~empty                  4.5  0.00\n",
      "  52 dark      azel_target 21:35:48.814 RG610~empty                 18.9  10.00\n",
      "  53 dark      azel_target 21:36:01.303 RG610~empty                 12.5  10.00\n",
      "  54 dark      azel_target 21:36:13.792 RG610~empty                 12.5  10.00\n",
      "  55 dark      azel_target 21:36:26.285 RG610~empty                 12.5  10.00\n",
      "  56 dark      azel_target 21:36:38.774 RG610~empty                 12.5  10.00\n",
      "  57 dark      azel_target 21:36:51.263 RG610~empty                 12.5  10.00\n",
      "  58 dark      azel_target 21:37:03.761 RG610~empty                 12.5  10.00\n",
      "  59 dark      azel_target 21:37:16.252 RG610~empty                 12.5  10.00\n",
      "  60 dark      azel_target 21:37:28.744 RG610~empty                 12.5  10.00\n",
      "  61 dark      azel_target 21:37:41.242 RG610~empty                 12.5  10.00\n",
      "  62 engtest   azel_target 23:04:47.404 RG610~empty               5226.2  1.00\n",
      "  63 engtest   HD 103854  23:10:54.015 RG610~empty                366.6  1.00\n",
      "  64 engtest   HD 103854  23:14:45.402 RG610~empty                231.4  1.00\n",
      "  65 engtest   HD 103854  23:15:03.005 RG610~empty                 17.6  1.00\n",
      "  66 engtest   HD 103854  23:16:54.158 RG610~empty                111.2  1.00\n",
      "  67 engtest   HD 105836  23:18:00.156 RG610~empty                 66.0  1.00\n",
      "  68 engtest   HD 105836  23:19:16.866 RG610~empty                 76.7  1.00\n",
      "  69 engtest   HD 108352  23:20:39.811 RG610~empty                 82.9  1.00\n",
      "  70 engtest   HD 108352  23:21:06.890 RG610~empty                 27.1  1.00\n",
      "  71 engtest   HD  99214  23:22:00.765 RG610~empty                 53.9  1.00\n",
      "  72 engtest   HD  99214  23:22:28.101 RG610~empty                 27.3  1.00\n",
      "  73 engtest   HD  94294  23:25:20.784 RG610~empty                172.7  1.00\n",
      "  74 engtest   HD  94294  23:25:47.089 RG610~empty                 26.3  1.00\n",
      "  75 engtest   HD 102333  23:26:46.144 RG610~empty                 59.1  1.00\n",
      "  76 engtest   HD 102333  23:27:12.649 RG610~empty                 26.5  1.00\n",
      "  77 engtest   HD 102810  23:27:33.148 RG610~empty                 20.5  1.00\n",
      "  78 engtest   HD 102810  23:27:59.143 RG610~empty                 26.0  1.00\n",
      "  79 engtest   HD 108882  23:28:53.353 RG610~empty                 54.2  1.00\n",
      "  80 engtest   HD 108882  23:29:19.502 RG610~empty                 26.1  1.00\n",
      "  81 engtest   HD 109513  23:30:14.902 RG610~empty                 55.4  1.00\n",
      "  82 engtest   HD 109513  23:30:41.700 RG610~empty                 26.8  1.00\n",
      "  83 engtest   HD 105296  23:31:49.498 RG610~empty                 67.8  1.00\n",
      "  84 engtest   HD 105296  23:32:15.578 RG610~empty                 26.1  1.00\n",
      "  85 engtest   HD 185078  23:36:53.824 RG610~empty                278.2  1.00\n",
      "  86 engtest   HD 185078  23:37:20.297 RG610~empty                 26.5  1.00\n",
      "  87 engtest   HD  29880  23:38:08.753 RG610~empty                 48.5  1.00\n",
      "  88 engtest   HD  29880  23:38:34.503 RG610~empty                 25.8  1.00\n",
      "  89 engtest   HD  49216  23:39:20.834 RG610~empty                 46.3  1.00\n",
      "  90 engtest   HD  49216  23:39:49.245 RG610~empty                 28.4  1.00\n",
      "  91 engtest   HD  62884  23:43:01.845 RG610~empty                192.6  1.00\n",
      "  92 engtest   HD  62884  23:43:27.893 RG610~empty                 26.0  1.00\n",
      "  93 engtest   HD  78636  23:44:12.884 RG610~empty                 45.0  1.00\n",
      "  94 engtest   HD  78636  23:44:39.792 RG610~empty                 26.9  1.00\n",
      "  95 engtest   HD  94948  23:45:25.551 RG610~empty                 45.8  1.00\n",
      "  96 engtest   HD  94948  23:45:51.154 RG610~empty                 25.6  1.00\n",
      "  97 engtest   HD 115557  23:46:39.197 RG610~empty                 48.0  1.00\n",
      "  98 engtest   HD 115557  23:47:04.789 RG610~empty                 25.6  1.00\n",
      "  99 engtest   HD 132659  23:47:51.764 RG610~empty                 47.0  1.00\n",
      " 100 engtest   HD 132659  23:48:18.201 RG610~empty                 26.4  1.00\n",
      " 101 engtest   HD 142598  23:49:04.565 RG610~empty                 46.4  1.00\n",
      " 102 engtest   HD 142598  23:49:30.245 RG610~empty                 25.7  1.00\n",
      " 103 engtest   HD 145358  23:50:20.202 RG610~empty                 50.0  1.00\n",
      " 104 engtest   HD 145358  23:50:46.196 RG610~empty                 26.0  1.00\n",
      " 105 engtest   HD 105484  23:51:42.013 RG610~empty                 55.8  1.00\n",
      " 106 engtest   HD 105484  23:52:08.848 RG610~empty                 26.8  1.00\n",
      " 107 engtest   HD  76140  23:53:00.078 RG610~empty                 51.2  1.00\n",
      " 108 engtest   HD  76140  23:53:25.591 RG610~empty                 25.5  1.00\n",
      " 109 engtest   HD  82358  23:56:30.562 RG610~empty                185.0  1.00\n",
      " 110 engtest   HD  82358  23:56:55.393 RG610~empty                 24.8  1.00\n",
      " 111 engtest   HD  94350  23:57:49.096 RG610~empty                 53.7  1.00\n",
      " 112 engtest   HD  94350  23:58:14.597 RG610~empty                 25.5  1.00\n",
      " 113 engtest   HD 109129  23:59:03.301 RG610~empty                 48.7  1.00\n",
      " 114 engtest   HD 109129  23:59:28.744 RG610~empty                 25.4  1.00\n",
      " 115 engtest   HD 123763  00:00:23.255 RG610~empty                 54.5  1.00\n",
      " 116 engtest   HD 123763  00:00:48.354 RG610~empty                 25.1  1.00\n",
      " 117 engtest   HD 131011  00:01:38.394 RG610~empty                 50.0  1.00\n",
      " 118 engtest   HD 131011  00:02:04.641 RG610~empty                 26.2  1.00\n",
      " 119 engtest   HD 123991  00:02:56.149 RG610~empty                 51.5  1.00\n",
      " 120 engtest   HD 123991  00:03:21.950 RG610~empty                 25.8  1.00\n",
      " 121 engtest   HD  92270  00:04:37.848 RG610~empty                 75.9  1.00\n",
      " 122 engtest   HD  92270  00:05:04.286 RG610~empty                 26.4  1.00\n",
      " 123 engtest   HD  98856  00:07:56.805 RG610~empty                172.5  1.00\n",
      " 124 engtest   HD  98856  00:08:21.947 RG610~empty                 25.1  1.00\n",
      " 125 engtest   HD 112574A 00:09:24.455 RG610~empty                 62.5  1.00\n",
      " 126 engtest   HD 112574A 00:09:50.638 RG610~empty                 26.2  1.00\n",
      " 127 engtest   HD 117820  00:10:57.028 RG610~empty                 66.4  1.00\n",
      " 128 engtest   HD 117820  00:11:22.651 RG610~empty                 25.6  1.00\n",
      " 129 science   HD 117820  00:16:01.172 RG610~empty                278.5  2.00\n",
      " 130 engtest   HD 117820  00:17:16.952 RG610~empty                 75.8  20.00\n",
      " 131 engtest   HD 117820  00:17:44.911 RG610~empty                 28.0  20.00\n",
      " 132 science   HD 117820  00:19:25.648 RG610~empty                100.7  2.00\n",
      " 133 science   HD 117820  00:20:37.731 RG610~empty                 72.1  20.00\n",
      " 134 science   HD 117820  00:25:04.784 RG610~empty                267.1  5.00\n",
      " 135 science   HD 117820  00:25:12.347 RG610~empty                  7.6  5.00\n",
      " 136 science   HD 117820  00:25:19.912 RG610~empty                  7.6  5.00\n",
      " 137 science   HD 117820  00:25:27.474 RG610~empty                  7.6  5.00\n",
      " 138 science   HD 117820  00:25:35.046 RG610~empty                  7.6  5.00\n",
      " 139 science   HD 117820  00:25:42.611 RG610~empty                  7.6  5.00\n",
      " 140 science   HD 117820  00:25:50.162 RG610~empty                  7.6  5.00\n",
      " 141 science   HD 117820  00:25:57.732 RG610~empty                  7.6  5.00\n",
      " 142 science   HD 117820  00:26:05.292 RG610~empty                  7.6  5.00\n",
      " 143 science   HD 117820  00:26:12.850 RG610~empty                  7.6  5.00\n",
      " 144 science   HD 117820  00:26:20.415 RG610~empty                  7.6  5.00\n",
      " 145 science   HD 117820  00:26:27.989 RG610~empty                  7.6  5.00\n",
      " 146 science   HD 117820  00:26:35.553 RG610~empty                  7.6  5.00\n",
      " 147 science   HD 117820  00:26:43.147 RG610~empty                  7.6  5.00\n",
      " 148 science   HD 117820  00:26:50.708 RG610~empty                  7.6  5.00\n",
      " 149 science   HD 117820  00:26:58.276 RG610~empty                  7.6  5.00\n",
      " 150 science   HD 117820  00:27:05.835 RG610~empty                  7.6  5.00\n",
      " 151 science   HD 117820  00:27:13.407 RG610~empty                  7.6  5.00\n",
      " 152 science   HD 117820  00:27:20.972 RG610~empty                  7.6  5.00\n",
      " 153 science   HD 117820  00:27:28.549 RG610~empty                  7.6  5.00\n",
      " 154 science   HD 117820  00:27:36.122 RG610~empty                  7.6  5.00\n",
      " 155 science   HD 117820  00:27:43.726 RG610~empty                  7.6  5.00\n",
      " 156 science   HD 117820  00:27:51.291 RG610~empty                  7.6  5.00\n",
      " 157 science   HD 117820  00:27:58.863 RG610~empty                  7.6  5.00\n",
      " 158 science   HD 117820  00:28:06.429 RG610~empty                  7.6  5.00\n",
      " 159 science   HD 117820  00:28:13.983 RG610~empty                  7.6  5.00\n",
      " 160 science   HD 117820  00:28:21.555 RG610~empty                  7.6  5.00\n",
      " 161 science   HD 117820  00:28:29.111 RG610~empty                  7.6  5.00\n",
      " 162 science   HD 117820  00:28:36.675 RG610~empty                  7.6  5.00\n",
      " 163 science   HD 117820  00:28:44.234 RG610~empty                  7.6  5.00\n",
      " 164 science   HD 117820  00:33:05.657 RG610~empty                261.4  5.00\n",
      " 165 science   HD 117820  00:34:05.757 RG610~empty                 60.1  5.00\n",
      " 166 science   HD 117820  00:36:34.674 RG610~empty                148.9  5.00\n",
      " 167 science   HD 117820  00:38:14.539 RG610~empty                 99.9  5.00\n",
      " 168 science   HD 117820  00:40:21.846 RG610~empty                127.3  5.00\n",
      " 169 science   HD 117820  00:42:16.550 RG610~empty                114.7  5.00\n",
      " 170 science   HD 117820  00:43:09.218 RG610~empty                 52.7  5.00\n",
      " 171 science   HD 98611   00:50:18.630 RG610~empty                429.4  2.00\n",
      " 172 science   HD 98611   00:52:09.447 RG610~empty                110.8  5.00\n",
      " 173 science   HD 98611   00:53:35.298 RG610~empty                 85.9  5.00\n",
      " 174 science   HD 98611   00:58:50.522 RG610~empty                315.2  2.00\n",
      " 175 science   HD 98611   00:59:53.568 RG610~empty                 63.0  5.00\n",
      " 176 science   HD 98611   01:01:21.295 RG610~empty                 87.7  5.00\n",
      " 177 science   HD 98611   01:05:43.269 RG610~empty                262.0  5.00\n",
      " 178 science   HD 98611   01:06:10.863 RG610~empty                 27.6  5.00\n",
      " 179 engtest   HD 98611   01:08:49.365 RG610~empty                158.5  20.00\n",
      " 180 engtest   HD 98611   01:09:16.863 RG610~empty                 27.5  20.00\n",
      " 181 engtest   HD 98611   01:10:54.527 RG610~empty                 97.7  20.00\n",
      " 182 engtest   HD 98611   01:11:22.198 RG610~empty                 27.7  20.00\n",
      " 183 science   HD 98611   01:13:01.839 RG610~empty                 99.6  2.00\n",
      " 184 science   HD 68450   01:21:52.930 RG610~empty                531.1  2.00\n",
      " 185 science   HD 68450   01:27:04.913 RG610~empty                312.0  5.00\n",
      " 186 science   HD 167060  01:32:37.268 RG610~empty                332.4  2.00\n",
      " 187 science   HD 167060  01:36:02.329 RG610~empty                205.1  2.00\n",
      " 188 science   HD 167060  01:38:03.259 RG610~empty                120.9  2.00\n",
      " 189 engtest   HD 167060  01:38:37.803 RG610~empty                 34.5  20.00\n",
      " 190 engtest   HD 167060  01:39:05.364 RG610~empty                 27.6  20.00\n",
      " 191 engtest   HD 167060  01:40:45.852 RG610~empty                100.5  20.00\n",
      " 192 engtest   HD 167060  01:41:13.864 RG610~empty                 28.0  20.00\n",
      " 193 engtest   HD 167060  01:42:54.101 RG610~empty                100.2  20.00\n",
      " 194 engtest   HD 167060  01:43:21.592 RG610~empty                 27.5  20.00\n",
      " 195 engtest   HD 167060  01:45:02.089 RG610~empty                100.5  20.00\n",
      " 196 engtest   HD 167060  01:45:29.887 RG610~empty                 27.8  20.00\n",
      " 197 engtest   HD 167060  01:47:08.700 RG610~empty                 98.8  20.00\n",
      " 198 engtest   HD 167060  01:47:36.138 RG610~empty                 27.4  20.00\n",
      " 199 science   HD 167060  01:49:15.338 RG610~empty                 99.2  2.00\n",
      " 200 science   HD 167060  01:52:30.426 RG610~empty                195.1  2.00\n",
      " 201 science   HD 167060  01:52:56.635 RG610~empty                 26.2  5.00\n",
      " 202 science   HD 167060  01:53:16.771 RG610~empty                 20.1  10.00\n",
      " 203 science   HD 167060  01:54:48.391 RG610~empty                 91.6  2.00\n",
      " 204 science   HD 167060  01:55:22.140 RG610~empty                 33.7  2.00\n",
      " 205 science   HD 167060  01:57:04.713 RG610~empty                102.6  2.00\n",
      " 206 science   HD 167060  01:59:17.096 RG610~empty                132.4  2.00\n",
      " 207 science   HD 167060  02:00:36.319 RG610~empty                 79.2  2.00\n",
      " 208 science   HD 167060  02:01:43.824 RG610~empty                 67.5  2.00\n",
      " 209 science   HD 167060  02:03:05.581 RG610~empty                 81.8  2.00\n",
      " 210 science   HD 167060  02:04:45.919 RG610~empty                100.3  2.00\n",
      " 211 science   HD 167060  02:06:19.331 RG610~empty                 93.4  2.00\n",
      " 212 science   HD 167060  02:07:20.602 RG610~empty                 61.3  2.00\n",
      " 213 science   HD 167060  02:09:08.499 RG610~empty                107.9  2.00\n",
      " 214 science   HD 167060  02:11:26.401 RG610~empty                137.9  2.00\n",
      " 215 science   HD 167060  02:12:38.019 RG610~empty                 71.6  2.00\n",
      " 216 science   HD115169   02:20:11.052 RG610~holo4_003            453.0  0.50\n",
      " 217 science   HD115169   02:20:43.482 RG610~holo4_003             32.4  0.50\n",
      " 218 science   HD115169   02:21:16.237 RG610~holo4_003             32.8  0.50\n",
      " 219 science   HD115169   02:23:53.864 empty~holo4_003            157.6  2.00\n",
      " 220 science   HD115169   02:25:16.754 empty~holo4_003             82.9  2.00\n",
      " 221 science   HD115169   02:29:48.250 empty~holo4_003            271.5  2.00\n",
      " 222 science   HD115169   02:31:57.778 empty~holo4_003            129.5  20.00\n",
      " 223 science   HD115169   02:32:30.008 empty~holo4_003             32.2  20.00\n",
      " 224 science   HD115169   02:33:02.177 empty~holo4_003             32.2  20.00\n",
      " 225 science   HD115169   02:33:34.387 empty~holo4_003             32.2  20.00\n",
      " 226 science   HD115169   02:34:06.594 empty~holo4_003             32.2  20.00\n",
      " 227 science   HD115169   02:34:38.786 empty~holo4_003             32.2  20.00\n",
      " 228 science   HD115169   02:35:11.328 empty~holo4_003             32.5  20.00\n",
      " 229 science   HD115169   02:35:43.533 empty~holo4_003             32.2  20.00\n",
      " 230 science   HD115169   02:36:15.785 empty~holo4_003             32.3  20.00\n",
      " 231 science   HD115169   02:36:47.972 empty~holo4_003             32.2  20.00\n",
      " 232 science   HD115169   02:37:20.177 empty~holo4_003             32.2  20.00\n",
      " 233 science   HD115169   02:37:52.335 empty~holo4_003             32.2  20.00\n",
      " 234 science   HD115169   02:38:24.878 empty~holo4_003             32.5  20.00\n",
      " 235 science   HD115169   02:38:57.028 empty~holo4_003             32.2  20.00\n",
      " 236 science   HD115169   02:39:29.235 empty~holo4_003             32.2  20.00\n",
      " 237 science   HD115169   02:40:01.416 empty~holo4_003             32.2  20.00\n",
      " 238 science   HD115169   02:40:33.593 empty~holo4_003             32.2  20.00\n",
      " 239 science   HD115169   02:41:05.718 empty~holo4_003             32.1  20.00\n",
      " 240 science   HD115169   02:41:38.231 empty~holo4_003             32.5  20.00\n",
      " 241 science   HD115169   02:42:10.385 empty~holo4_003             32.2  20.00\n",
      " 242 science   HD115169   02:42:42.525 empty~holo4_003             32.1  20.00\n",
      " 243 science   HD115169   02:43:14.680 empty~holo4_003             32.2  20.00\n",
      " 244 science   HD115169   02:43:46.878 empty~holo4_003             32.2  20.00\n",
      " 245 science   HD115169   02:44:19.029 empty~holo4_003             32.2  20.00\n",
      " 246 science   HD115169   02:44:51.624 empty~holo4_003             32.6  20.00\n",
      " 247 science   HD115169   02:45:23.795 empty~holo4_003             32.2  20.00\n",
      " 248 science   HD115169   02:45:55.923 empty~holo4_003             32.1  20.00\n",
      " 249 science   HD115169   02:46:28.078 empty~holo4_003             32.2  20.00\n",
      " 250 science   HD115169   02:47:00.227 empty~holo4_003             32.1  20.00\n",
      " 251 science   HD115169   02:47:32.378 empty~holo4_003             32.2  20.00\n",
      " 252 science   HD115169   02:48:04.931 empty~holo4_003             32.6  20.00\n",
      " 253 science   HD115169   02:48:37.078 empty~holo4_003             32.1  20.00\n",
      " 254 science   HD115169   02:49:09.226 empty~holo4_003             32.1  20.00\n",
      " 255 science   HD115169   02:49:41.394 empty~holo4_003             32.2  20.00\n",
      " 256 science   HD115169   02:50:13.561 empty~holo4_003             32.2  20.00\n",
      " 257 science   HD115169   02:50:45.723 empty~holo4_003             32.2  20.00\n",
      " 258 science   HD115169   02:53:21.383 empty~holo4_003            155.7  20.00\n",
      " 259 science   HD115169   02:53:53.580 empty~holo4_003             32.2  20.00\n",
      " 260 science   HD115169   02:54:25.727 empty~holo4_003             32.1  20.00\n",
      " 261 science   HD115169   02:54:57.924 empty~holo4_003             32.2  20.00\n",
      " 262 science   HD115169   02:55:30.081 empty~holo4_003             32.2  20.00\n",
      " 263 science   HD115169   02:56:02.257 empty~holo4_003             32.2  20.00\n",
      " 264 science   HD115169   02:56:34.813 empty~holo4_003             32.6  20.00\n",
      " 265 science   HD115169   02:57:06.970 empty~holo4_003             32.2  20.00\n",
      " 266 science   HD115169   02:57:39.123 empty~holo4_003             32.2  20.00\n",
      " 267 science   HD115169   02:58:11.274 empty~holo4_003             32.2  20.00\n",
      " 268 science   HD115169   02:58:43.428 empty~holo4_003             32.2  20.00\n",
      " 269 science   HD115169   02:59:15.570 empty~holo4_003             32.1  20.00\n",
      " 270 science   HD115169   02:59:48.126 empty~holo4_003             32.6  20.00\n",
      " 271 science   HD115169   03:00:20.268 empty~holo4_003             32.1  20.00\n",
      " 272 science   HD115169   03:00:52.371 empty~holo4_003             32.1  20.00\n",
      " 273 science   HD115169   03:01:24.530 empty~holo4_003             32.2  20.00\n",
      " 274 science   HD115169   03:01:56.737 empty~holo4_003             32.2  20.00\n",
      " 275 science   HD115169   03:02:28.873 empty~holo4_003             32.1  20.00\n",
      " 276 science   HD115169   03:03:42.190 RG610~empty                 73.3  2.00\n",
      " 277 science   HD115169   03:04:36.091 RG610~empty                 53.9  2.00\n",
      " 278 engtest   HD115169   03:09:23.358 RG610~empty                287.3  20.00\n",
      " 279 engtest   HD115169   03:09:51.367 RG610~empty                 28.0  20.00\n",
      " 280 science   HD115169   03:15:34.382 RG610~empty                343.0  2.00\n",
      " 281 engtest   HD115169   03:16:07.863 RG610~empty                 33.5  20.00\n",
      " 282 engtest   HD115169   03:16:35.867 RG610~empty                 28.0  20.00\n",
      " 283 engtest   HD115169   03:22:58.585 RG610~empty                382.7  20.00\n",
      " 284 science   HD115169   03:23:50.185 RG610~empty                 51.6  2.00\n",
      " 285 engtest   HD115169   03:24:28.631 RG610~empty                 38.4  20.00\n",
      " 286 engtest   HD115169   03:24:56.643 RG610~empty                 28.0  20.00\n",
      " 287 engtest   HD115169   03:26:38.303 RG610~empty                101.7  20.00\n",
      " 288 engtest   HD115169   03:27:06.309 RG610~empty                 28.0  20.00\n",
      " 289 science   HD115169   03:28:45.285 RG610~empty                 99.0  2.00\n",
      " 290 science   HD115169   03:33:48.333 RG610~empty                303.0  2.00\n",
      " 291 engtest   HD115169   03:36:13.969 RG610~empty                145.6  20.00\n",
      " 292 engtest   HD115169   03:36:41.628 RG610~empty                 27.7  20.00\n",
      " 293 engtest   HD115169   03:38:20.798 RG610~empty                 99.2  20.00\n",
      " 294 engtest   HD115169   03:38:48.387 RG610~empty                 27.6  20.00\n",
      " 295 science   HD115169   03:40:28.805 RG610~empty                100.4  2.00\n",
      " 296 engtest   HD115169   03:44:33.905 RG610~empty                245.1  20.00\n",
      " 297 science   HD115169   03:48:08.602 RG610~empty                214.7  2.00\n",
      " 298 engtest   HD115169   03:48:59.019 RG610~empty                 50.4  20.00\n",
      " 299 engtest   HD115169   03:49:26.146 RG610~empty                 27.1  20.00\n",
      " 300 engtest   HD115169   03:51:06.064 RG610~empty                 99.9  20.00\n",
      " 301 engtest   HD115169   03:51:33.554 RG610~empty                 27.5  20.00\n",
      " 302 engtest   HD115169   03:53:13.103 RG610~empty                 99.5  20.00\n",
      " 303 engtest   HD115169   03:53:40.642 RG610~empty                 27.5  20.00\n",
      " 304 engtest   HD115169   03:55:18.318 RG610~empty                 97.7  20.00\n",
      " 305 engtest   HD115169   03:55:45.943 RG610~empty                 27.6  20.00\n",
      " 306 science   HD115169   03:57:25.350 RG610~empty                 99.4  2.00\n",
      " 307 science   HD115169   04:00:50.701 RG610~empty                205.4  2.00\n",
      " 308 science   HD115169   04:02:01.626 RG610~empty                 70.9  2.00\n",
      " 309 science   HD115169   04:02:51.569 RG610~empty                 49.9  2.00\n",
      " 310 science   HD115169   04:05:41.193 RG610~empty                169.6  2.00\n",
      " 311 science   HD115169   04:07:16.824 RG610~empty                 95.6  2.00\n",
      " 312 science   HD115169   04:11:23.023 RG610~empty                246.2  2.00\n",
      " 313 science   HD115169   04:12:49.101 RG610~empty                 86.1  2.00\n",
      " 314 science   HD115169   04:13:49.484 RG610~empty                 60.4  2.00\n",
      " 315 science   HD 115169  04:20:23.332 RG610~empty                393.8  2.00\n",
      " 316 science   HD 115169  04:22:09.270 RG610~empty                105.9  2.00\n",
      " 317 science   HD 115169  04:22:51.930 RG610~empty                 42.7  2.00\n",
      " 318 science   HD 115169  04:24:42.109 RG610~empty                110.2  2.00\n",
      " 319 engtest   HD 115169  04:25:12.412 RG610~empty                 30.3  20.00\n",
      " 320 engtest   HD 115169  04:25:40.296 RG610~empty                 27.9  20.00\n",
      " 321 engtest   HD 115169  04:27:20.335 RG610~empty                100.0  20.00\n",
      " 322 engtest   HD 115169  04:27:47.478 RG610~empty                 27.1  20.00\n",
      " 323 engtest   HD 115169  04:29:28.370 RG610~empty                100.9  20.00\n",
      " 324 engtest   HD 115169  04:29:56.363 RG610~empty                 28.0  20.00\n",
      " 325 engtest   HD 115169  04:31:35.089 RG610~empty                 98.7  20.00\n",
      " 326 engtest   HD 115169  04:32:02.250 RG610~empty                 27.2  20.00\n",
      " 327 science   HD 115169  04:33:40.487 RG610~empty                 98.2  2.00\n"
     ]
    }
   ],
   "source": [
    "reporter.printObsTable()"
   ]
  },
  {
   "cell_type": "markdown",
   "id": "47af0d05",
   "metadata": {},
   "source": [
    "# Butler"
   ]
  },
  {
   "cell_type": "markdown",
   "id": "134b674c",
   "metadata": {},
   "source": [
    "## Configuration for Butler"
   ]
  },
  {
   "cell_type": "code",
   "execution_count": 14,
   "id": "04e9d465",
   "metadata": {},
   "outputs": [],
   "source": [
    "#butler=dafPersist.Butler(\"/project/shared/auxTel\")\n",
    "butler=dafPersist.Butler(repoDir)"
   ]
  },
  {
   "cell_type": "markdown",
   "id": "b3dc48ef",
   "metadata": {},
   "source": [
    "## Sequence selection"
   ]
  },
  {
   "cell_type": "code",
   "execution_count": 15,
   "id": "877a9a38",
   "metadata": {},
   "outputs": [],
   "source": [
    "all_myseq_holo=range(216,276)\n",
    "all_myseq=all_myseq_holo"
   ]
  },
  {
   "cell_type": "code",
   "execution_count": 16,
   "id": "0ab9fc23",
   "metadata": {},
   "outputs": [],
   "source": [
    "seqNum=all_myseq_holo[0]"
   ]
  },
  {
   "cell_type": "code",
   "execution_count": 17,
   "id": "4c7f2343",
   "metadata": {},
   "outputs": [
    {
     "data": {
      "text/plain": [
       "216"
      ]
     },
     "execution_count": 17,
     "metadata": {},
     "output_type": "execute_result"
    }
   ],
   "source": [
    "seqNum"
   ]
  },
  {
   "cell_type": "markdown",
   "id": "7dcee259",
   "metadata": {},
   "source": [
    "## Display"
   ]
  },
  {
   "cell_type": "code",
   "execution_count": 18,
   "id": "5bd3dcf1",
   "metadata": {},
   "outputs": [
    {
     "data": {
      "text/html": [
       "Open your web browser to <a href=\"https://lsst-lsp-stable.ncsa.illinois.edu/portal/app/slate.html?__wsch=sylviedc_debug_2021_06_10\"\" target=\"_blank\">this link</a>"
      ],
      "text/plain": [
       "<IPython.core.display.HTML object>"
      ]
     },
     "metadata": {},
     "output_type": "display_data"
    }
   ],
   "source": [
    "display1=afwDisplay.getDisplay(frame=1,port=80,name='sylviedc_debug_2021_06_10',url=os.environ[\"FIREFLY_URL\"])"
   ]
  },
  {
   "cell_type": "code",
   "execution_count": 19,
   "id": "a6786b19",
   "metadata": {},
   "outputs": [],
   "source": [
    "raw=butler.get('raw',dayObs=dayObs,seqNum=seqNum)"
   ]
  },
  {
   "cell_type": "code",
   "execution_count": 20,
   "id": "b07f650a",
   "metadata": {},
   "outputs": [],
   "source": [
    "display1.mtv(raw)"
   ]
  },
  {
   "cell_type": "code",
   "execution_count": 21,
   "id": "5f209abc",
   "metadata": {},
   "outputs": [
    {
     "data": {
      "text/html": [
       "Open your web browser to <a href=\"https://lsst-lsp-stable.ncsa.illinois.edu/portal/app/slate.html?__wsch=sylviedc_debug_2021_06_10\"\" target=\"_blank\">this link</a>"
      ],
      "text/plain": [
       "<IPython.core.display.HTML object>"
      ]
     },
     "metadata": {},
     "output_type": "display_data"
    }
   ],
   "source": [
    "display1.getClient().display_url()"
   ]
  },
  {
   "cell_type": "code",
   "execution_count": 22,
   "id": "4e515940",
   "metadata": {},
   "outputs": [
    {
     "name": "stdout",
     "output_type": "stream",
     "text": [
      "[1, 2, 4, 3, 5, 6, 7, 11, 10, 9, 8, 17, 14, 15, 16, 12, 13, 18, 20, 22, 21, 19, 28, 27, 23, 24, 25, 26, 33, 31, 32, 29, 30, 34, 39, 35, 37, 38, 36, 40, 43, 44, 42, 41, 45, 49, 46, 48, 47, 50, 51, 52, 53, 54, 55, 56, 57, 58, 59, 60, 61, 62, 63, 64, 65, 66, 67, 68, 69, 70, 71, 72, 73, 74, 75, 76, 77, 78, 79, 80, 81, 82, 83, 84, 85, 86, 87, 88, 89, 90, 91, 92, 93, 94, 95, 96, 97, 98, 99, 100, 101, 102, 103, 104, 105, 106, 107, 108, 109, 110, 111, 112, 113, 114, 115, 116, 117, 118, 119, 120, 121, 122, 123, 124, 125, 126, 127, 128, 129, 130, 131, 132, 133, 134, 135, 136, 137, 138, 139, 140, 141, 142, 143, 144, 145, 146, 148, 147, 149, 150, 151, 153, 152, 154, 156, 155, 159, 157, 158, 162, 161, 160, 163, 164, 165, 166, 167, 168, 169, 170, 171, 172, 173, 174, 175, 176, 177, 178, 179, 180, 181, 182, 183, 184, 185, 186, 187, 188, 189, 190, 191, 192, 193, 194, 195, 196, 197, 198, 199, 200, 201, 202, 203, 204, 205, 206, 207, 208, 209, 210, 211, 212, 213, 214, 215, 216, 217, 218, 219, 220, 221, 222, 223, 224, 225, 226, 227, 228, 229, 230, 231, 232, 233, 234, 235, 236, 237, 238, 239, 240, 241, 242, 243, 244, 245, 246, 247, 248, 249, 250, 251, 252, 253, 254, 255, 256, 257, 258, 259, 260, 261, 262, 263, 264, 265, 266, 267, 268, 269, 270, 271, 272, 273, 274, 275, 276, 277, 278, 279, 280, 281, 282, 283, 284, 285, 286, 287, 288, 289, 290, 291, 292, 293, 294, 295, 296, 297, 298, 299, 300, 301, 302, 303, 304, 305, 306, 307, 308, 309, 310, 311, 312, 313, 314, 315, 316, 317, 318, 319, 320, 321, 322, 323, 324, 325, 326, 327]\n"
     ]
    }
   ],
   "source": [
    "print(butler.queryMetadata('raw','seqNum',dayObs=dayObs))"
   ]
  },
  {
   "cell_type": "code",
   "execution_count": 23,
   "id": "24adef81",
   "metadata": {},
   "outputs": [],
   "source": [
    "#exp=butler.get('quickLookExp',dayObs=dayObs,seqNum=seqNum)"
   ]
  },
  {
   "cell_type": "markdown",
   "id": "f258a28f",
   "metadata": {},
   "source": [
    "## Meta Data"
   ]
  },
  {
   "cell_type": "code",
   "execution_count": 24,
   "id": "7f3704ba",
   "metadata": {},
   "outputs": [],
   "source": [
    "md=butler.get(\"raw_md\",dayObs=dayObs,seqNum=seqNum)"
   ]
  },
  {
   "cell_type": "code",
   "execution_count": 25,
   "id": "22066485",
   "metadata": {},
   "outputs": [
    {
     "data": {
      "text/plain": [
       "{'SIMPLE': True,\n",
       " 'EXTEND': True,\n",
       " 'COMMENT': [\"  FITS (Flexible Image Transport System) format is defined in 'Astronomy\",\n",
       "  \"  and Astrophysics', volume 376, page 359; bibcode: 2001A&A...376..359H\",\n",
       "  \"= '        '\",\n",
       "  '---- Date, night and basic image information ----',\n",
       "  \"= '        '\",\n",
       "  '---- Telescope info, location, observer ----',\n",
       "  \"= '        '\",\n",
       "  '---- Pointing info, etc. ----',\n",
       "  \"= '        '\",\n",
       "  '---- TAN Projection ----',\n",
       "  \"= '        '\",\n",
       "  '---- Image-identifying used to build OBS-ID ----',\n",
       "  \"= '        '\",\n",
       "  '---- Test Stand information ----',\n",
       "  \"= '        '\",\n",
       "  '---- Information from Camera (Common block) ----',\n",
       "  \"= '        '\",\n",
       "  '---- Information from Camera ----',\n",
       "  \"= '        '\",\n",
       "  '---- Filter/grating information ----',\n",
       "  \"= '        '\",\n",
       "  '---- Exposure-related information ----',\n",
       "  \"= '        '\",\n",
       "  '---- Weather information ----',\n",
       "  \"= '        '\",\n",
       "  '---- Header information ----',\n",
       "  \"= '        '\",\n",
       "  '---- Checksums ----',\n",
       "  '---- Information from Camera per sensor ----',\n",
       "  \"= '        '\",\n",
       "  '---- Geometry from Camera ----'],\n",
       " 'ORIGIN': 'LSST DM Header Service',\n",
       " 'TIMESYS': 'TAI',\n",
       " 'DATE': '2021-06-11T02:19:37.413',\n",
       " 'DATE-OBS': '2021-06-11T02:20:11.052',\n",
       " 'DATE-BEG': '2021-06-11T02:20:11.052',\n",
       " 'DATE-END': '2021-06-11T02:20:11.783',\n",
       " 'MJD': 59376.0969607935,\n",
       " 'MJD-OBS': 59376.097350143,\n",
       " 'MJD-BEG': 59376.097350143,\n",
       " 'MJD-END': 59376.097358595,\n",
       " 'OBSID': 'AT_O_20210610_000216',\n",
       " 'GROUPID': '2021-06-11T02:20:05.848',\n",
       " 'IMGTYPE': 'OBJECT',\n",
       " 'BUNIT': 'adu',\n",
       " 'FACILITY': 'Vera C. Rubin Observatory',\n",
       " 'TELESCOP': 'LSST AuxTelescope',\n",
       " 'INSTRUME': 'LATISS',\n",
       " 'OBSERVER': 'LSST',\n",
       " 'OBS-LONG': -70.749417,\n",
       " 'OBS-LAT': -30.244639,\n",
       " 'OBS-ELEV': 2663.0,\n",
       " 'OBSGEO-X': 1818938.94,\n",
       " 'OBSGEO-Y': -5208470.95,\n",
       " 'OBSGEO-Z': -3195172.08,\n",
       " 'RA': 198.94745125,\n",
       " 'DEC': -29.5058844444444,\n",
       " 'RASTART': 198.947633608727,\n",
       " 'DECSTART': -29.5057734391141,\n",
       " 'RAEND': 198.947646468792,\n",
       " 'DECEND': -29.505774189844,\n",
       " 'ROTPA': 188.085730934332,\n",
       " 'ROTCOORD': 'sky',\n",
       " 'HASTART': 1.63655788055867,\n",
       " 'ELSTART': 68.8864882870548,\n",
       " 'AZSTART': -94.5330620521854,\n",
       " 'AMSTART': 1.07190254222084,\n",
       " 'HAEND': 1.6375068278621,\n",
       " 'ELEND': 68.8757035716408,\n",
       " 'AZEND': -94.5372069591831,\n",
       " 'AMEND': 1.07199100776549,\n",
       " 'INSTPORT': 2,\n",
       " 'ATM3PORT': 2,\n",
       " 'TRACKSYS': 'SIDEREAL',\n",
       " 'RADESYS': 'ICRS',\n",
       " 'FOCUSZ': 0.0,\n",
       " 'OBJECT': 'HD115169',\n",
       " 'DOMEAZ': 268.63,\n",
       " 'SHUTLOWR': 100.0,\n",
       " 'SHUTUPPR': 100.0,\n",
       " 'WCSAXES': 2,\n",
       " 'CTYPE1': 'RA---TAN',\n",
       " 'CTYPE2': 'DEC--TAN',\n",
       " 'CUNIT1': 'deg',\n",
       " 'CUNIT2': 'deg',\n",
       " 'CRVAL1': 198.94745125,\n",
       " 'CRVAL2': -29.5058844444444,\n",
       " 'CRPIX1': 2000.0,\n",
       " 'CRPIX2': 2036.0,\n",
       " 'CD1_1': 0.096304872097072,\n",
       " 'CD1_2': 0.041837442684354,\n",
       " 'CD2_1': -0.041837442684354,\n",
       " 'CD2_2': 0.096304872097072,\n",
       " 'EQUINOX': 2000.0,\n",
       " 'CAMCODE': 'AT',\n",
       " 'CONTRLLR': 'O',\n",
       " 'DAYOBS': '20210610',\n",
       " 'SEQNUM': 216,\n",
       " 'TESTTYPE': None,\n",
       " 'TSTAND': None,\n",
       " 'IMAGETAG': 'ef7525327aa2a5d0',\n",
       " 'OBSANNOT': '',\n",
       " 'TEMP_SET': -94.1500015258789,\n",
       " 'CCDTEMP': -90.3003540039062,\n",
       " 'FILTBAND': 'Empty',\n",
       " 'FILTER': 'RG610',\n",
       " 'FILTSLOT': 3,\n",
       " 'GRATING': 'holo4_003',\n",
       " 'GRATBAND': 'Empty',\n",
       " 'GRATSLOT': 3,\n",
       " 'LINSPOS': -324.403015136719,\n",
       " 'EXPTIME': 0.5,\n",
       " 'SHUTTIME': None,\n",
       " 'DARKTIME': 0.818364858627319,\n",
       " 'AIRTEMP': 8.7,\n",
       " 'PRESSURE': 746.3,\n",
       " 'HUMIDITY': 19.0,\n",
       " 'WINDSPD': 3.5,\n",
       " 'WINDDIR': 325.0,\n",
       " 'SEEING': None,\n",
       " 'FILENAME': 'AT_O_20210610_000216.fits',\n",
       " 'HEADVER': '2.9.1',\n",
       " 'CHECKSUM': None,\n",
       " 'DATASUM': None,\n",
       " 'CCD_MANU': 'ITL',\n",
       " 'CCD_TYPE': 2,\n",
       " 'CCD_SERN': '20862',\n",
       " 'LSST_NUM': 'ITL-3800C-068',\n",
       " 'SEQCKSUM': '2552520002',\n",
       " 'SEQNAME': 'FP_ITL_2s_ir2_v25.seq',\n",
       " 'REBNAME': 'Unknown',\n",
       " 'CONTNUM': '412227310',\n",
       " 'CCDSLOT': 'S00',\n",
       " 'RAFTBAY': 'R00',\n",
       " 'OVERH': 64,\n",
       " 'OVERV': 48,\n",
       " 'PREH': 0,\n",
       " 'XTENSION': 'IMAGE',\n",
       " 'BITPIX': 32,\n",
       " 'NAXIS': 2,\n",
       " 'NAXIS1': 576,\n",
       " 'NAXIS2': 2048,\n",
       " 'PCOUNT': 0,\n",
       " 'GCOUNT': 1,\n",
       " 'INHERIT': True,\n",
       " 'EXTNAME': 'Segment10',\n",
       " 'DATASEC': '[1:509,1:2000]',\n",
       " 'DETSEC': '[509:1,1:2000]',\n",
       " 'DETSIZE': '[1:4072,1:4000]',\n",
       " 'DTV1': 510,\n",
       " 'DTV2': 0,\n",
       " 'DTM1_1': -1.0,\n",
       " 'DTM2_2': 1.0,\n",
       " 'DTM1_2': 0,\n",
       " 'DTM2_1': 0,\n",
       " 'HIERARCH ASTRO METADATA FIX MODIFIED': True,\n",
       " 'HIERARCH ASTRO METADATA FIX DATE': '2021-06-14T12:55:06.944935',\n",
       " 'HIERARCH ASTRO METADATA FIX VERSION': 'w.2021.21-1-g951e521'}"
      ]
     },
     "execution_count": 25,
     "metadata": {},
     "output_type": "execute_result"
    }
   ],
   "source": [
    "md.toDict()"
   ]
  },
  {
   "cell_type": "markdown",
   "id": "c96b2ee7",
   "metadata": {},
   "source": [
    "# Start"
   ]
  },
  {
   "cell_type": "code",
   "execution_count": 26,
   "id": "73af64de",
   "metadata": {},
   "outputs": [],
   "source": [
    "plt.rcParams[\"axes.labelsize\"] = 'large'\n",
    "plt.rcParams['axes.titlesize'] = 'large'\n",
    "plt.rcParams['xtick.labelsize']= 'large'\n",
    "plt.rcParams['ytick.labelsize']= 'large'"
   ]
  },
  {
   "cell_type": "code",
   "execution_count": 27,
   "id": "a45ca36f",
   "metadata": {},
   "outputs": [],
   "source": [
    "all_my_raw_array=[]\n",
    "all_my_header=[]\n",
    "all_my_object=[]\n",
    "all_my_seq=[]\n",
    "all_my_grating=[]\n",
    "all_my_filter=[]\n",
    "all_my_date=[]\n",
    "\n",
    "\n",
    "for seqNum in all_myseq:\n",
    "    raw=butler.get('raw',dayObs=dayObs,seqNum=seqNum)\n",
    "    md=butler.get(\"raw_md\",dayObs=dayObs,seqNum=seqNum)\n",
    "    \n",
    "    header=md.toDict()\n",
    "    \n",
    "    #decode header\n",
    "    \n",
    "    obj_name=header['OBJECT']\n",
    "    obj_name2 = ''.join(obj_name.split())\n",
    "    grating=header['GRATING']\n",
    "    obsid=header['OBSID']\n",
    "    date=obsid.replace('AT_O_','') # remove pre-tag to get date only and seqnum\n",
    "    filter_name=header['FILTER']\n",
    "    filter_name2=filter_name.split(\"_\")[0]   # cut empty_1 to empty\n",
    "    \n",
    "    # select only pre-selected disperser\n",
    "    if grating == DISPERSER_SEL: \n",
    "        all_my_raw_array.append(np.copy(raw.image.array))\n",
    "        all_my_header.append(header)\n",
    "        all_my_object.append(obj_name2)\n",
    "        all_my_seq.append(header['SEQNUM'])\n",
    "        all_my_grating.append(grating)\n",
    "        all_my_filter.append(filter_name2)\n",
    "        all_my_date.append(date)"
   ]
  },
  {
   "cell_type": "markdown",
   "id": "9bc886ef",
   "metadata": {},
   "source": [
    "## Total number of images"
   ]
  },
  {
   "cell_type": "code",
   "execution_count": 28,
   "id": "c61ee8fb",
   "metadata": {},
   "outputs": [],
   "source": [
    "NSEL=len(all_my_raw_array)"
   ]
  },
  {
   "cell_type": "code",
   "execution_count": 29,
   "id": "1c945709",
   "metadata": {},
   "outputs": [
    {
     "data": {
      "text/plain": [
       "60"
      ]
     },
     "execution_count": 29,
     "metadata": {},
     "output_type": "execute_result"
    }
   ],
   "source": [
    "NSEL"
   ]
  },
  {
   "cell_type": "markdown",
   "id": "7922bd29",
   "metadata": {},
   "source": [
    "# Plot"
   ]
  },
  {
   "cell_type": "code",
   "execution_count": 30,
   "id": "e79f38c8",
   "metadata": {},
   "outputs": [],
   "source": [
    "idx=0"
   ]
  },
  {
   "cell_type": "code",
   "execution_count": 31,
   "id": "357122f9",
   "metadata": {},
   "outputs": [],
   "source": [
    "fig = plt.figure(figsize=(10,10))\n",
    "ax=fig.add_subplot(111)\n",
    "ax.imshow(all_my_raw_array[idx],origin='lower',cmap=\"jet\",norm=LogNorm())\n",
    "plt.show()"
   ]
  },
  {
   "cell_type": "code",
   "execution_count": 32,
   "id": "f292cafe",
   "metadata": {},
   "outputs": [],
   "source": [
    "\n",
    "Ncol=4\n",
    "Nrow=2\n",
    "Ntot=Ncol*Nrow\n",
    "\n",
    "fig = plt.figure(figsize=(20,20))\n",
    "\n",
    "# loop on angle\n",
    "for idx in np.arange(Ntot):\n",
    "    if idx>=NSEL:\n",
    "        break\n",
    "        \n",
    "    ax=fig.add_subplot(Nrow,Ncol,idx+1)\n",
    "    ax.imshow(all_my_raw_array[idx],origin='lower',cmap=\"jet\",norm=LogNorm())\n",
    "    ax.set_title(all_myseq[idx]) \n",
    "    ax.minorticks_on()\n",
    "    ax.set_aspect(\"equal\")\n",
    "    \n",
    "    #ax2=ax.twiny()\n",
    "    #ax2.imshow(all_my_raw_array[idx],origin='lower',cmap=\"jet\",norm=LogNorm())\n",
    "    #ax2.set_xlim(ax.get_xlim())\n",
    "    #ax2.minorticks_on()\n",
    "    \n",
    "    #ax.tick_params(which='major', length=10, width=2, direction='inout')\n",
    "    #ax.tick_params(which='minor', length=5, width=2, direction='inout')\n",
    "    #ax.grid(which='both')\n",
    "\n",
    "\n",
    "\n",
    "    #ax.set_aspect('equal')\n",
    "\n",
    "    #x1, x2 = ax.get_xlim() \n",
    "    #y1, y2 = ax.get_ylim() \n",
    "plt.show()"
   ]
  },
  {
   "cell_type": "code",
   "execution_count": 33,
   "id": "718aaca7",
   "metadata": {},
   "outputs": [],
   "source": [
    "#all_my_raw_array=[]\n",
    "#all_my_header=[]\n",
    "#all_my_object=[]\n",
    "#all_my_seq=[]\n",
    "#all_my_grating=[]\n",
    "#all_my_filter=[]\n"
   ]
  },
  {
   "cell_type": "code",
   "execution_count": 34,
   "id": "540f4ddb",
   "metadata": {},
   "outputs": [
    {
     "name": "stdout",
     "output_type": "stream",
     "text": [
      "holo4_003_RG610_HD115169_20210610_000216.fits\n",
      "holo4_003_RG610_HD115169_20210610_000217.fits\n",
      "holo4_003_RG610_HD115169_20210610_000218.fits\n",
      "holo4_003_empty_HD115169_20210610_000219.fits\n",
      "holo4_003_empty_HD115169_20210610_000220.fits\n",
      "holo4_003_empty_HD115169_20210610_000221.fits\n",
      "holo4_003_empty_HD115169_20210610_000222.fits\n",
      "holo4_003_empty_HD115169_20210610_000223.fits\n",
      "holo4_003_empty_HD115169_20210610_000224.fits\n",
      "holo4_003_empty_HD115169_20210610_000225.fits\n",
      "holo4_003_empty_HD115169_20210610_000226.fits\n",
      "holo4_003_empty_HD115169_20210610_000227.fits\n",
      "holo4_003_empty_HD115169_20210610_000228.fits\n",
      "holo4_003_empty_HD115169_20210610_000229.fits\n",
      "holo4_003_empty_HD115169_20210610_000230.fits\n",
      "holo4_003_empty_HD115169_20210610_000231.fits\n",
      "holo4_003_empty_HD115169_20210610_000232.fits\n",
      "holo4_003_empty_HD115169_20210610_000233.fits\n",
      "holo4_003_empty_HD115169_20210610_000234.fits\n",
      "holo4_003_empty_HD115169_20210610_000235.fits\n",
      "holo4_003_empty_HD115169_20210610_000236.fits\n",
      "holo4_003_empty_HD115169_20210610_000237.fits\n",
      "holo4_003_empty_HD115169_20210610_000238.fits\n",
      "holo4_003_empty_HD115169_20210610_000239.fits\n",
      "holo4_003_empty_HD115169_20210610_000240.fits\n",
      "holo4_003_empty_HD115169_20210610_000241.fits\n",
      "holo4_003_empty_HD115169_20210610_000242.fits\n",
      "holo4_003_empty_HD115169_20210610_000243.fits\n",
      "holo4_003_empty_HD115169_20210610_000244.fits\n",
      "holo4_003_empty_HD115169_20210610_000245.fits\n",
      "holo4_003_empty_HD115169_20210610_000246.fits\n",
      "holo4_003_empty_HD115169_20210610_000247.fits\n",
      "holo4_003_empty_HD115169_20210610_000248.fits\n",
      "holo4_003_empty_HD115169_20210610_000249.fits\n",
      "holo4_003_empty_HD115169_20210610_000250.fits\n",
      "holo4_003_empty_HD115169_20210610_000251.fits\n",
      "holo4_003_empty_HD115169_20210610_000252.fits\n",
      "holo4_003_empty_HD115169_20210610_000253.fits\n",
      "holo4_003_empty_HD115169_20210610_000254.fits\n",
      "holo4_003_empty_HD115169_20210610_000255.fits\n",
      "holo4_003_empty_HD115169_20210610_000256.fits\n",
      "holo4_003_empty_HD115169_20210610_000257.fits\n",
      "holo4_003_empty_HD115169_20210610_000258.fits\n",
      "holo4_003_empty_HD115169_20210610_000259.fits\n",
      "holo4_003_empty_HD115169_20210610_000260.fits\n",
      "holo4_003_empty_HD115169_20210610_000261.fits\n",
      "holo4_003_empty_HD115169_20210610_000262.fits\n",
      "holo4_003_empty_HD115169_20210610_000263.fits\n",
      "holo4_003_empty_HD115169_20210610_000264.fits\n",
      "holo4_003_empty_HD115169_20210610_000265.fits\n",
      "holo4_003_empty_HD115169_20210610_000266.fits\n",
      "holo4_003_empty_HD115169_20210610_000267.fits\n",
      "holo4_003_empty_HD115169_20210610_000268.fits\n",
      "holo4_003_empty_HD115169_20210610_000269.fits\n",
      "holo4_003_empty_HD115169_20210610_000270.fits\n",
      "holo4_003_empty_HD115169_20210610_000271.fits\n",
      "holo4_003_empty_HD115169_20210610_000272.fits\n",
      "holo4_003_empty_HD115169_20210610_000273.fits\n",
      "holo4_003_empty_HD115169_20210610_000274.fits\n",
      "holo4_003_empty_HD115169_20210610_000275.fits\n"
     ]
    }
   ],
   "source": [
    "if FLAG_SAVE_IMAGE:\n",
    "  \n",
    "    for idx in np.arange(NSEL):\n",
    "        filename=all_my_grating[idx]+\"_\"+all_my_filter[idx]+\"_\"+all_my_object[idx]+\"_\"+all_my_date[idx]+\".fits\"\n",
    "        print(filename)\n",
    "    \n",
    "        hdr = fits.Header()\n",
    "    \n",
    "        for key,value in all_my_header[idx].items():\n",
    "            hdr[str(key)]=value\n",
    "        \n",
    "        hdu = fits.PrimaryHDU(data=all_my_raw_array[idx],header=hdr)  # with headers\n",
    "        #hdu = fits.PrimaryHDU(data=all_my_raw_array[idx])\n",
    "    \n",
    "        hdul = fits.HDUList([hdu])\n",
    "    \n",
    "        hdul.writeto(filename,overwrite=True)\n",
    "    \n",
    "        "
   ]
  },
  {
   "cell_type": "code",
   "execution_count": null,
   "id": "ae074db0",
   "metadata": {},
   "outputs": [],
   "source": []
  }
 ],
 "metadata": {
  "kernelspec": {
   "display_name": "LSST",
   "language": "python",
   "name": "lsst"
  },
  "language_info": {
   "codemirror_mode": {
    "name": "ipython",
    "version": 3
   },
   "file_extension": ".py",
   "mimetype": "text/x-python",
   "name": "python",
   "nbconvert_exporter": "python",
   "pygments_lexer": "ipython3",
   "version": "3.8.8"
  }
 },
 "nbformat": 4,
 "nbformat_minor": 5
}
