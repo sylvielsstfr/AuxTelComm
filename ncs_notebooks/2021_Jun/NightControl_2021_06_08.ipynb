{
 "cells": [
  {
   "cell_type": "markdown",
   "id": "96c5de16",
   "metadata": {},
   "source": [
    "# Observations for the night June 08th 2021 \n",
    "\n",
    "\n",
    "https://harvard.zoom.us/rec/play/N7umVF8Rk3vWvW_O3jkaTinofB2WxW3QKz0fVai_K-qvAYLt37uMrvskOlnBiMEjduSeQVzWT7_DDYzc.IY7Pqjef82YlWmZE?continueMode=true&_x_zm_rtaid=BjQYrDaETYeYRUMw8NQgLw.1613559822570.c813d210d38e378b719cb4048493df5b&_x_zm_rhtaid=205\n",
    "\n",
    "\n",
    "- work with Weakly_2021_21\n",
    "- use jupyter kernel LSST\n",
    "- requires the installation see https://github.com/stubbslab/PCWG-AuxTel/blob/main/setup_script.md\n",
    "- requires to write in file {HOME}/notebooks/.user_setups\n"
   ]
  },
  {
   "cell_type": "code",
   "execution_count": 1,
   "id": "8f9d9c11",
   "metadata": {},
   "outputs": [],
   "source": [
    "# ! eups list -s"
   ]
  },
  {
   "cell_type": "code",
   "execution_count": 2,
   "id": "a2d27707",
   "metadata": {},
   "outputs": [],
   "source": [
    "import os\n",
    "import matplotlib.pyplot as plt\n",
    "import numpy as np\n",
    "%matplotlib inline\n",
    "from matplotlib.colors import LogNorm\n",
    "\n",
    "from mpl_toolkits.axes_grid1 import make_axes_locatable\n",
    "\n",
    "import matplotlib.ticker                         # here's where the formatter is\n",
    "from matplotlib.ticker import (MultipleLocator, FormatStrFormatter,\n",
    "                               AutoMinorLocator)\n",
    "\n",
    "from astropy.io import fits"
   ]
  },
  {
   "cell_type": "code",
   "execution_count": 3,
   "id": "1db22492",
   "metadata": {},
   "outputs": [],
   "source": [
    "import lsst.daf.persistence as dafPersist\n",
    "import lsst.afw.display as afwDisplay\n",
    "afwDisplay.setDefaultBackend(\"lsst.display.firefly\")"
   ]
  },
  {
   "cell_type": "code",
   "execution_count": 4,
   "id": "55f0aadf",
   "metadata": {},
   "outputs": [],
   "source": [
    "# correct for bug in stack in wl_2021_02\n",
    "%config IPCompleter.use_jedi=False"
   ]
  },
  {
   "cell_type": "code",
   "execution_count": 5,
   "id": "1a9df65a",
   "metadata": {},
   "outputs": [],
   "source": [
    "FLAG_SAVE_IMAGE=True\n",
    "FLAG_SAVE_IMAGE=True"
   ]
  },
  {
   "cell_type": "code",
   "execution_count": 6,
   "id": "a96e9aa6",
   "metadata": {},
   "outputs": [
    {
     "name": "stdout",
     "output_type": "stream",
     "text": [
      "calexp\ticExp  postISRCCD\t     repositoryCfg.yaml  spectractorOutput\n",
      "config\ticSrc  processStar_metadata  schema\n"
     ]
    }
   ],
   "source": [
    "!ls /project/shared/auxTel/rerun/mfl/slurmRun"
   ]
  },
  {
   "cell_type": "code",
   "execution_count": 7,
   "id": "e345f7f1",
   "metadata": {},
   "outputs": [
    {
     "name": "stdout",
     "output_type": "stream",
     "text": [
      "CALIB\t   CALIB-OLD\t CALIB-RHL  _parent\t ref_cats\n",
      "CALIB_OLD  calibrations  Fossil     _parent.old  rerun\n"
     ]
    }
   ],
   "source": [
    "!ls /project/shared/auxTel"
   ]
  },
  {
   "cell_type": "markdown",
   "id": "122d3660",
   "metadata": {},
   "source": [
    "# Configuration"
   ]
  },
  {
   "cell_type": "markdown",
   "id": "0c84f966",
   "metadata": {},
   "source": [
    "## Location and date"
   ]
  },
  {
   "cell_type": "code",
   "execution_count": 8,
   "id": "41916152",
   "metadata": {},
   "outputs": [
    {
     "name": "stderr",
     "output_type": "stream",
     "text": [
      "/home/dagoret/repos/rapid_analysis/python/lsst/rapid/analysis/nightReport.py:79: FutureWarning: Gen2 Butler has been deprecated (Butler). It will be removed sometime after v23.0 but no earlier than the end of 2021.\n",
      "  self._butler = dafPersist.Butler(repoDir)\n",
      "/home/dagoret/repos/rapid_analysis/python/lsst/rapid/analysis/nightReport.py:79: FutureWarning: Gen2 Butler has been deprecated (LatissMapper). It will be removed sometime after v23.0 but no earlier than the end of 2021.\n",
      "  self._butler = dafPersist.Butler(repoDir)\n"
     ]
    },
    {
     "name": "stdout",
     "output_type": "stream",
     "text": [
      "Loaded data for seqNums 1 to 511\n"
     ]
    }
   ],
   "source": [
    "from lsst.rapid.analysis.nightReport import NightReporter\n",
    "# data exist here\n",
    "repoDir='/project/shared/auxTel'\n",
    "# recommended but wrong\n",
    "#repoDir='project/shared/auxTel/rerun/mfl/slurmRun'\n",
    "dayObs=\"2021-06-08\"\n",
    "reporter=NightReporter(repoDir,dayObs)"
   ]
  },
  {
   "cell_type": "markdown",
   "id": "205fee5a",
   "metadata": {},
   "source": [
    "# Selection"
   ]
  },
  {
   "cell_type": "code",
   "execution_count": 28,
   "id": "204a7a9c",
   "metadata": {},
   "outputs": [],
   "source": [
    "DISPERSER_SEL=\"holo4_003\"\n",
    "#DISPERSER_SEL=None"
   ]
  },
  {
   "cell_type": "markdown",
   "id": "6502e83f",
   "metadata": {},
   "source": [
    "# Information from reporter"
   ]
  },
  {
   "cell_type": "code",
   "execution_count": 10,
   "id": "7f75ddbb",
   "metadata": {},
   "outputs": [
    {
     "name": "stdout",
     "output_type": "stream",
     "text": [
      "['HD  40390', 'HD 105547', 'HD 142660', 'HD 175622', 'HD 158718', 'HD    266', 'HD 347328', 'HD 120312', 'HD105070', 'HD 112578', 'HD160617', 'HD  89986', 'HD 177858', 'HD  90622', 'HD 158510', 'HD 181902', 'HD 111225', 'HD 126602', 'HD 187101', 'HD  94220', 'HD 105070', 'HD115169', 'HD 108428', 'HD 200502', 'HD  75595', 'V* XZ Men', 'HD    824', 'HD 132568', 'HD 347822', 'HD 217272', 'HD 134714', 'HD 162392', 'HD 152004', 'HD 216464', 'HD 110209', 'HD  98641', 'HD  56268', 'HD 106971', 'HD 141889', 'HD  61894', 'HD 100257', 'HD 129503', 'HD 141391', 'HD 121195', 'HD 136379', 'HD  63905', 'HD 155994', 'HD  77022', 'HD  75942', 'HD 201175', 'HD  49576', 'HD 196188', 'HD 191306', 'HR 4963', 'HD 158465', 'HD  60152', 'slew_icrs']\n"
     ]
    }
   ],
   "source": [
    "print(reporter.getObservedObjects())"
   ]
  },
  {
   "cell_type": "code",
   "execution_count": 11,
   "id": "0ccb507e",
   "metadata": {},
   "outputs": [],
   "source": [
    "reporter.makePolarPlotForObjects()"
   ]
  },
  {
   "cell_type": "code",
   "execution_count": 12,
   "id": "c855e4e6",
   "metadata": {},
   "outputs": [],
   "source": [
    "reporter.plotPerObjectAirMass()"
   ]
  },
  {
   "cell_type": "code",
   "execution_count": 13,
   "id": "27d619e1",
   "metadata": {},
   "outputs": [
    {
     "name": "stdout",
     "output_type": "stream",
     "text": [
      "{seqNum:4} {imageType:9} {obj:10} {timeOfDay} {filt:25} {dt.sec:6.1f}  {expTime:2.2f}\n",
      "   1 bias      azel_target 20:23:00.082 RG610~holo4_003              0.0  0.00\n",
      "   2 bias      azel_target 20:23:55.021 RG610~holo4_003             54.9  0.00\n",
      "   3 bias      azel_target 20:23:59.516 RG610~holo4_003              4.5  0.00\n",
      "   4 bias      azel_target 20:24:04.019 RG610~holo4_003              4.5  0.00\n",
      "   5 bias      azel_target 20:24:08.527 RG610~holo4_003              4.5  0.00\n",
      "   6 bias      azel_target 20:24:13.027 RG610~holo4_003              4.5  0.00\n",
      "   7 bias      azel_target 20:24:17.525 RG610~holo4_003              4.5  0.00\n",
      "   8 bias      azel_target 20:24:22.020 RG610~holo4_003              4.5  0.00\n",
      "   9 bias      azel_target 20:24:26.515 RG610~holo4_003              4.5  0.00\n",
      "  10 bias      azel_target 20:24:31.015 RG610~holo4_003              4.5  0.00\n",
      "  11 bias      azel_target 20:24:35.510 RG610~holo4_003              4.5  0.00\n",
      "  12 bias      azel_target 20:24:40.008 RG610~holo4_003              4.5  0.00\n",
      "  13 bias      azel_target 20:24:44.501 RG610~holo4_003              4.5  0.00\n",
      "  14 bias      azel_target 20:24:48.996 RG610~holo4_003              4.5  0.00\n",
      "  15 bias      azel_target 20:24:53.492 RG610~holo4_003              4.5  0.00\n",
      "  16 bias      azel_target 20:24:57.986 RG610~holo4_003              4.5  0.00\n",
      "  17 bias      azel_target 20:25:02.482 RG610~holo4_003              4.5  0.00\n",
      "  18 bias      azel_target 20:25:06.981 RG610~holo4_003              4.5  0.00\n",
      "  19 bias      azel_target 20:25:11.485 RG610~holo4_003              4.5  0.00\n",
      "  20 bias      azel_target 20:25:15.983 RG610~holo4_003              4.5  0.00\n",
      "  21 bias      azel_target 20:25:20.476 RG610~holo4_003              4.5  0.00\n",
      "  22 bias      azel_target 20:25:24.972 RG610~holo4_003              4.5  0.00\n",
      "  23 bias      azel_target 20:25:29.469 RG610~holo4_003              4.5  0.00\n",
      "  24 bias      azel_target 20:25:33.962 RG610~holo4_003              4.5  0.00\n",
      "  25 bias      azel_target 20:25:38.461 RG610~holo4_003              4.5  0.00\n",
      "  26 bias      azel_target 20:25:42.956 RG610~holo4_003              4.5  0.00\n",
      "  27 bias      azel_target 20:25:47.455 RG610~holo4_003              4.5  0.00\n",
      "  28 bias      azel_target 20:25:51.949 RG610~holo4_003              4.5  0.00\n",
      "  29 bias      azel_target 20:25:56.444 RG610~holo4_003              4.5  0.00\n",
      "  30 bias      azel_target 20:26:00.952 RG610~holo4_003              4.5  0.00\n",
      "  31 bias      azel_target 20:26:05.447 RG610~holo4_003              4.5  0.00\n",
      "  32 bias      azel_target 20:26:09.962 RG610~holo4_003              4.5  0.00\n",
      "  33 bias      azel_target 20:26:14.456 RG610~holo4_003              4.5  0.00\n",
      "  34 bias      azel_target 20:26:18.964 RG610~holo4_003              4.5  0.00\n",
      "  35 bias      azel_target 20:26:23.462 RG610~holo4_003              4.5  0.00\n",
      "  36 bias      azel_target 20:26:27.967 RG610~holo4_003              4.5  0.00\n",
      "  37 bias      azel_target 20:26:32.464 RG610~holo4_003              4.5  0.00\n",
      "  38 bias      azel_target 20:26:36.958 RG610~holo4_003              4.5  0.00\n",
      "  39 bias      azel_target 20:26:41.453 RG610~holo4_003              4.5  0.00\n",
      "  40 bias      azel_target 20:26:45.962 RG610~holo4_003              4.5  0.00\n",
      "  41 bias      azel_target 20:26:50.455 RG610~holo4_003              4.5  0.00\n",
      "  42 bias      azel_target 20:26:54.952 RG610~holo4_003              4.5  0.00\n",
      "  43 bias      azel_target 20:26:59.455 RG610~holo4_003              4.5  0.00\n",
      "  44 bias      azel_target 20:27:03.949 RG610~holo4_003              4.5  0.00\n",
      "  45 bias      azel_target 20:27:08.447 RG610~holo4_003              4.5  0.00\n",
      "  46 bias      azel_target 20:27:12.944 RG610~holo4_003              4.5  0.00\n",
      "  47 bias      azel_target 20:27:17.441 RG610~holo4_003              4.5  0.00\n",
      "  48 bias      azel_target 20:27:21.946 RG610~holo4_003              4.5  0.00\n",
      "  49 bias      azel_target 20:27:26.440 RG610~holo4_003              4.5  0.00\n",
      "  50 bias      azel_target 20:27:30.937 RG610~holo4_003              4.5  0.00\n",
      "  51 bias      azel_target 20:27:35.441 RG610~holo4_003              4.5  0.00\n",
      "  52 dark      azel_target 20:29:48.530 RG610~holo4_003            133.1  10.00\n",
      "  53 dark      azel_target 20:30:01.028 RG610~holo4_003             12.5  10.00\n",
      "  54 dark      azel_target 20:30:13.526 RG610~holo4_003             12.5  10.00\n",
      "  55 dark      azel_target 20:30:26.016 RG610~holo4_003             12.5  10.00\n",
      "  56 dark      azel_target 20:30:38.506 RG610~holo4_003             12.5  10.00\n",
      "  57 dark      azel_target 20:30:50.993 RG610~holo4_003             12.5  10.00\n",
      "  58 dark      azel_target 20:31:03.482 RG610~holo4_003             12.5  10.00\n",
      "  59 dark      azel_target 20:31:15.970 RG610~holo4_003             12.5  10.00\n",
      "  60 dark      azel_target 20:31:28.468 RG610~holo4_003             12.5  10.00\n",
      "  61 dark      azel_target 20:31:40.955 RG610~holo4_003             12.5  10.00\n",
      "  62 flat      FlatField position 20:37:22.769 RG610~empty                341.8  2.00\n",
      "  63 flat      FlatField position 20:38:17.378 RG610~empty                 54.6  10.00\n",
      "  64 flat      FlatField position 20:47:45.775 RG610~empty                568.4  2.00\n",
      "  65 flat      FlatField position 20:48:13.054 RG610~empty                 27.3  10.00\n",
      "  66 flat      FlatField position 20:49:15.514 RG610~empty                 62.5  10.00\n",
      "  67 flat      FlatField position 20:53:30.555 RG610~empty                255.0  10.00\n",
      "  68 flat      FlatField position 20:54:53.780 RG610~empty                 83.2  10.00\n",
      "  69 flat      FlatField position 21:07:20.500 RG610~empty                746.7  10.00\n",
      "  70 flat      FlatField position 21:22:48.597 RG610~empty                928.1  10.00\n",
      "  71 flat      FlatField position 21:23:15.416 RG610~empty                 26.8  2.00\n",
      "  72 flat      FlatField position 21:24:10.476 RG610~empty                 55.1  2.00\n",
      "  73 flat      FlatField position 21:24:15.026 RG610~empty                  4.6  2.00\n",
      "  74 flat      FlatField position 21:24:19.583 RG610~empty                  4.6  2.00\n",
      "  75 flat      FlatField position 21:24:24.143 RG610~empty                  4.6  2.00\n",
      "  76 flat      FlatField position 21:24:28.706 RG610~empty                  4.6  2.00\n",
      "  77 flat      FlatField position 21:24:33.269 RG610~empty                  4.6  2.00\n",
      "  78 flat      FlatField position 21:24:37.836 RG610~empty                  4.6  2.00\n",
      "  79 flat      FlatField position 21:24:42.395 RG610~empty                  4.6  2.00\n",
      "  80 flat      FlatField position 21:24:46.967 RG610~empty                  4.6  2.00\n",
      "  81 flat      FlatField position 21:24:51.539 RG610~empty                  4.6  2.00\n",
      "  82 flat      FlatField position 21:25:20.090 RG610~empty                 28.6  0.20\n",
      "  83 flat      FlatField position 21:25:25.245 RG610~empty                  5.2  0.20\n",
      "  84 flat      FlatField position 21:25:28.104 RG610~empty                  2.9  0.40\n",
      "  85 flat      FlatField position 21:25:33.359 RG610~empty                  5.3  0.40\n",
      "  86 flat      FlatField position 21:25:36.554 RG610~empty                  3.2  0.60\n",
      "  87 flat      FlatField position 21:25:41.969 RG610~empty                  5.4  0.60\n",
      "  88 flat      FlatField position 21:25:45.228 RG610~empty                  3.3  0.80\n",
      "  89 flat      FlatField position 21:25:50.833 RG610~empty                  5.6  0.80\n",
      "  90 flat      FlatField position 21:25:54.300 RG610~empty                  3.5  1.00\n",
      "  91 flat      FlatField position 21:26:00.120 RG610~empty                  5.8  1.00\n",
      "  92 flat      FlatField position 21:26:03.788 RG610~empty                  3.7  1.20\n",
      "  93 flat      FlatField position 21:26:09.818 RG610~empty                  6.0  1.20\n",
      "  94 flat      FlatField position 21:26:13.689 RG610~empty                  3.9  1.40\n",
      "  95 flat      FlatField position 21:26:19.900 RG610~empty                  6.2  1.40\n",
      "  96 flat      FlatField position 21:26:23.988 RG610~empty                  4.1  1.60\n",
      "  97 flat      FlatField position 21:26:30.415 RG610~empty                  6.4  1.60\n",
      "  98 flat      FlatField position 21:26:34.696 RG610~empty                  4.3  1.80\n",
      "  99 flat      FlatField position 21:26:41.309 RG610~empty                  6.6  1.80\n",
      " 100 flat      FlatField position 21:26:45.760 RG610~empty                  4.5  2.00\n",
      " 101 flat      FlatField position 21:26:50.435 RG610~empty                  4.7  2.00\n",
      " 102 flat      FlatField position 21:26:55.217 RG610~empty                  4.8  2.20\n",
      " 103 flat      FlatField position 21:27:00.073 RG610~empty                  4.9  2.20\n",
      " 104 flat      FlatField position 21:27:04.930 RG610~empty                  4.9  2.40\n",
      " 105 flat      FlatField position 21:27:10.002 RG610~empty                  5.1  2.40\n",
      " 106 flat      FlatField position 21:27:15.221 RG610~empty                  5.2  2.60\n",
      " 107 flat      FlatField position 21:27:20.482 RG610~empty                  5.3  2.60\n",
      " 108 flat      FlatField position 21:27:25.739 RG610~empty                  5.3  2.80\n",
      " 109 flat      FlatField position 21:27:31.202 RG610~empty                  5.5  2.80\n",
      " 110 flat      FlatField position 21:27:36.660 RG610~empty                  5.5  3.00\n",
      " 111 flat      FlatField position 21:27:42.450 RG610~empty                  5.8  3.00\n",
      " 112 flat      FlatField position 21:27:48.105 RG610~empty                  5.7  3.20\n",
      " 113 flat      FlatField position 21:27:54.008 RG610~empty                  5.9  3.20\n",
      " 114 flat      FlatField position 21:27:59.881 RG610~empty                  5.9  3.40\n",
      " 115 flat      FlatField position 21:28:05.945 RG610~empty                  6.1  3.40\n",
      " 116 flat      FlatField position 21:28:12.013 RG610~empty                  6.1  3.60\n",
      " 117 flat      FlatField position 21:28:18.265 RG610~empty                  6.3  3.60\n",
      " 118 flat      FlatField position 21:28:24.551 RG610~empty                  6.3  3.80\n",
      " 119 flat      FlatField position 21:28:31.024 RG610~empty                  6.5  3.80\n",
      " 120 flat      FlatField position 21:28:37.485 RG610~empty                  6.5  4.00\n",
      " 121 flat      FlatField position 21:28:44.214 RG610~empty                  6.7  4.00\n",
      " 122 flat      FlatField position 21:28:50.876 RG610~empty                  6.7  4.20\n",
      " 123 flat      FlatField position 21:28:57.793 RG610~empty                  6.9  4.20\n",
      " 124 flat      FlatField position 21:29:04.664 RG610~empty                  6.9  4.40\n",
      " 125 flat      FlatField position 21:29:11.716 RG610~empty                  7.1  4.40\n",
      " 126 flat      FlatField position 21:29:18.779 RG610~empty                  7.1  4.60\n",
      " 127 flat      FlatField position 21:29:26.034 RG610~empty                  7.3  4.60\n",
      " 128 flat      FlatField position 21:29:33.371 RG610~empty                  7.3  4.80\n",
      " 129 flat      FlatField position 21:29:40.947 RG610~empty                  7.6  4.80\n",
      " 130 flat      FlatField position 21:29:48.402 RG610~empty                  7.5  5.00\n",
      " 131 flat      FlatField position 21:29:56.059 RG610~empty                  7.7  5.00\n",
      " 132 flat      FlatField position 21:30:03.724 RG610~empty                  7.7  5.20\n",
      " 133 flat      FlatField position 21:30:11.585 RG610~empty                  7.9  5.20\n",
      " 134 flat      FlatField position 21:30:19.443 RG610~empty                  7.9  5.40\n",
      " 135 flat      FlatField position 21:30:27.497 RG610~empty                  8.1  5.40\n",
      " 136 flat      FlatField position 21:30:35.556 RG610~empty                  8.1  5.60\n",
      " 137 flat      FlatField position 21:30:43.817 RG610~empty                  8.3  5.60\n",
      " 138 flat      FlatField position 21:30:52.080 RG610~empty                  8.3  5.80\n",
      " 139 flat      FlatField position 21:31:00.532 RG610~empty                  8.5  5.80\n",
      " 140 flat      FlatField position 21:31:09.007 RG610~empty                  8.5  6.00\n",
      " 141 flat      FlatField position 21:31:17.668 RG610~empty                  8.7  6.00\n",
      " 142 flat      FlatField position 21:32:13.375 RG610~empty                 55.7  2.00\n",
      " 143 science   HR 4963    22:28:23.470 RG610~empty               3370.1  1.00\n",
      " 144 science   HR 4963    22:33:36.700 RG610~empty                313.2  1.00\n",
      " 145 science   HR 4963    22:36:02.479 RG610~empty                145.8  1.00\n",
      " 146 science   HR 4963    22:38:22.984 RG610~empty                140.5  1.00\n",
      " 147 science   HR 4963    22:41:04.168 RG610~ronchi90lpmm         161.2  1.00\n",
      " 148 science   HD  98641  22:52:17.255 RG610~empty                673.1  1.00\n",
      " 149 science   HD 105547  22:55:21.027 RG610~empty                183.8  1.00\n",
      " 150 science   HD  98641  22:57:29.424 RG610~empty                128.4  1.00\n",
      " 151 science   HD 106971  22:58:07.523 RG610~empty                 38.1  1.00\n",
      " 152 science   HD 110209  22:58:44.388 RG610~empty                 36.9  1.00\n",
      " 153 science   HD 111225  22:59:25.752 RG610~empty                 41.4  1.00\n",
      " 154 science   HD 108428  23:00:07.304 RG610~empty                 41.6  1.00\n",
      " 155 science   HD 134714  23:01:10.747 RG610~empty                 63.4  1.00\n",
      " 156 science   HD 136379  23:01:52.427 RG610~empty                 41.7  1.00\n",
      " 157 science   HD 132568  23:02:29.052 RG610~empty                 36.6  1.00\n",
      " 158 science   HD 126602  23:03:06.306 RG610~empty                 37.3  1.00\n",
      " 159 science   HD 112578  23:03:50.855 RG610~empty                 44.5  1.00\n",
      " 160 science   HD 155994  23:04:58.604 RG610~empty                 67.7  1.00\n",
      " 161 science   HD 152004  23:05:36.641 RG610~empty                 38.0  1.00\n",
      " 162 science   HD 141889  23:06:14.455 RG610~empty                 37.8  1.00\n",
      " 163 science   HD 121195  23:06:57.449 RG610~empty                 43.0  1.00\n",
      " 164 science   HD 105070  23:07:42.156 RG610~empty                 44.7  1.00\n",
      " 165 science   HD 216464  23:08:44.499 RG610~empty                 62.3  1.00\n",
      " 166 science   V* XZ Men  23:09:19.629 RG610~empty                 35.1  1.00\n",
      " 167 science   HD  56268  23:09:56.345 RG610~empty                 36.7  1.00\n",
      " 168 science   HD  77022  23:10:38.656 RG610~empty                 42.3  1.00\n",
      " 169 science   HD  89986  23:11:23.558 RG610~empty                 44.9  1.00\n",
      " 170 science   HD  40390  23:12:27.300 RG610~empty                 63.7  1.00\n",
      " 171 science   HD  49576  23:13:05.304 RG610~empty                 38.0  1.00\n",
      " 172 science   HD  61894  23:13:43.955 RG610~empty                 38.7  1.00\n",
      " 173 science   HD  75942  23:17:14.656 RG610~empty                210.7  1.00\n",
      " 174 science   HD  90622  23:18:01.649 RG610~empty                 47.0  1.00\n",
      " 175 science   HD  63905  23:19:06.305 RG610~empty                 64.7  1.00\n",
      " 176 science   HD  75595  23:19:46.503 RG610~empty                 40.2  1.00\n",
      " 177 science   HD  94220  23:20:40.145 RG610~empty                 53.6  1.00\n",
      " 178 science   HD 100257  23:21:23.252 RG610~empty                 43.1  1.00\n",
      " 179 science   HD 100257  23:37:32.752 RG610~empty                969.5  5.00\n",
      " 180 engtest   HD 100257  23:39:58.202 RG610~empty                145.4  20.00\n",
      " 181 engtest   HD 100257  23:40:25.270 RG610~empty                 27.1  20.00\n",
      " 182 engtest   HD 100257  23:42:01.700 RG610~empty                 96.4  20.00\n",
      " 183 engtest   HD 100257  23:42:28.805 RG610~empty                 27.1  20.00\n",
      " 184 engtest   HD 100257  23:44:05.210 RG610~empty                 96.4  20.00\n",
      " 185 engtest   HD 100257  23:44:32.708 RG610~empty                 27.5  20.00\n",
      " 186 science   HD 100257  23:46:10.851 RG610~empty                 98.1  2.00\n",
      " 187 science   HD 100257  23:47:50.000 RG610~empty                 99.1  2.00\n",
      " 188 science   HD 100257  23:51:49.707 RG610~empty                239.7  10.00\n",
      " 189 science   HD 100257  23:54:57.742 RG610~empty                188.0  2.00\n",
      " 190 science   HD 100257  23:55:02.301 RG610~empty                  4.6  2.00\n",
      " 191 science   HD 100257  23:55:06.867 RG610~empty                  4.6  2.00\n",
      " 192 science   HD 100257  23:55:11.435 RG610~empty                  4.6  2.00\n",
      " 193 science   HD 100257  23:55:16.006 RG610~empty                  4.6  2.00\n",
      " 194 science   HD 100257  23:55:20.579 RG610~empty                  4.6  2.00\n",
      " 195 science   HD 100257  23:55:25.147 RG610~empty                  4.6  2.00\n",
      " 196 science   HD 100257  23:55:29.714 RG610~empty                  4.6  2.00\n",
      " 197 science   HD 100257  23:55:34.275 RG610~empty                  4.6  2.00\n",
      " 198 science   HD 100257  23:55:38.833 RG610~empty                  4.6  2.00\n",
      " 199 engtest   azel_target 00:09:15.923 RG610~empty                817.1  5.00\n",
      " 200 engtest   azel_target 00:13:05.324 RG610~empty                229.4  5.00\n",
      " 201 engtest   HD 105070  00:23:10.859 RG610~empty                605.5  5.00\n",
      " 202 science   HD 105070  00:31:56.289 RG610~empty                525.4  5.00\n",
      " 203 science   HD 105070  00:35:35.439 RG610~empty                219.2  5.00\n",
      " 204 science   HD 105070  00:37:10.627 RG610~ronchi90lpmm          95.2  5.00\n",
      " 205 science   HD 105070  00:40:38.107 empty~ronchi90lpmm         207.5  5.00\n",
      " 206 science   HD 105070  00:42:47.134 RG610~ronchi170lpmm        129.0  10.00\n",
      " 207 science   HD 105070  00:45:13.491 RG610~holo4_003            146.4  10.00\n",
      " 208 science   HD 105070  00:46:37.790 RG610~holo4_003             84.3  10.00\n",
      " 209 science   HD 105070  00:49:33.390 RG610~ronchi170lpmm        175.6  10.00\n",
      " 210 engtest   HD 105070  00:56:17.354 empty~empty                404.0  20.00\n",
      " 211 engtest   HD 105070  00:56:44.628 empty~empty                 27.3  20.00\n",
      " 212 engtest   HD 105070  00:58:23.886 empty~empty                 99.3  20.00\n",
      " 213 engtest   HD 105070  00:58:51.485 empty~empty                 27.6  20.00\n",
      " 214 engtest   HD 105070  01:01:36.662 empty~empty                165.2  20.00\n",
      " 215 engtest   HD 105070  01:02:04.153 empty~empty                 27.5  20.00\n",
      " 216 science   HD 105070  01:04:19.661 RG610~empty                135.5  5.00\n",
      " 217 engtest   HD 105070  01:05:13.138 empty~empty                 53.5  20.00\n",
      " 218 engtest   HD 105070  01:05:40.737 empty~empty                 27.6  20.00\n",
      " 219 science   HD 105070  01:07:20.500 empty~empty                 99.8  5.00\n",
      " 220 science   HD 105070  01:09:22.983 empty~ronchi90lpmm         122.5  5.00\n",
      " 221 science   HD 105070  01:10:20.823 RG610~ronchi90lpmm          57.8  5.00\n",
      " 222 science   HD 105070  01:10:54.295 RG610~ronchi170lpmm         33.5  10.00\n",
      " 223 science   HD 105070  01:11:31.591 RG610~holo4_003             37.3  10.00\n",
      " 224 science   HD 105070  01:15:20.004 RG610~empty                228.4  5.00\n",
      " 225 science   HD 105070  01:16:28.767 RG610~holo4_003             68.8  10.00\n",
      " 226 science   HD 105070  01:18:54.623 RG610~empty                145.9  5.00\n",
      " 227 science   HD 105070  01:19:36.176 RG610~holo4_003             41.6  10.00\n",
      " 228 engtest   HD 105070  01:21:40.143 RG610~holo4_003            124.0  20.00\n",
      " 229 engtest   HD 105070  01:22:07.634 RG610~holo4_003             27.5  20.00\n",
      " 230 engtest   HD 105070  01:23:47.670 RG610~holo4_003            100.0  20.00\n",
      " 231 engtest   HD 105070  01:24:15.186 RG610~holo4_003             27.5  20.00\n",
      " 232 science   HD 105070  01:25:56.648 RG610~holo4_003            101.5  5.00\n",
      " 233 science   HD 105070  01:27:02.737 RG610~holo4_003             66.1  10.00\n",
      " 234 science   HD105070   01:43:22.680 RG610~holo4_003            979.9  0.50\n",
      " 235 science   HD105070   01:43:54.575 RG610~holo4_003             31.9  0.50\n",
      " 236 science   HD105070   01:44:34.252 empty~empty                 39.7  2.00\n",
      " 237 science   HD105070   01:45:30.343 RG610~holo4_003             56.1  0.50\n",
      " 238 science   HD105070   01:46:04.216 RG610~holo4_003             33.9  0.50\n",
      " 239 science   HD105070   01:46:43.054 empty~empty                 38.8  2.00\n",
      " 240 science   HD115169   02:04:46.966 RG610~holo4_003           1083.9  0.50\n",
      " 241 science   HD115169   02:05:19.301 RG610~holo4_003             32.3  0.50\n",
      " 242 science   HD115169   02:05:58.568 empty~empty                 39.3  2.00\n",
      " 243 science   HD115169   02:08:20.883 empty~empty                142.3  10.00\n",
      " 244 engtest   HD115169   02:10:27.596 RG610~holo4_003            126.7  20.00\n",
      " 245 engtest   HD115169   02:10:58.430 RG610~holo4_003             30.8  20.00\n",
      " 246 engtest   HD115169   02:12:37.100 RG610~holo4_003             98.7  20.00\n",
      " 247 engtest   HD115169   02:13:04.695 RG610~holo4_003             27.6  20.00\n",
      " 248 engtest   HD115169   02:14:42.752 RG610~holo4_003             98.1  20.00\n",
      " 249 engtest   HD115169   02:15:10.115 RG610~holo4_003             27.4  20.00\n",
      " 250 science   HD115169   02:16:49.442 RG610~holo4_003             99.3  5.00\n",
      " 251 science   HD115169   02:18:38.945 RG610~holo4_003            109.5  5.00\n",
      " 252 science   HD115169   02:18:48.387 RG610~holo4_003              9.4  5.00\n",
      " 253 science   HD115169   02:18:57.497 RG610~holo4_003              9.1  5.00\n",
      " 254 science   HD115169   02:19:06.917 RG610~holo4_003              9.4  5.00\n",
      " 255 science   HD115169   02:19:16.493 RG610~holo4_003              9.6  5.00\n",
      " 256 science   HD115169   02:19:25.699 RG610~holo4_003              9.2  5.00\n",
      " 257 science   HD115169   02:19:35.127 RG610~holo4_003              9.4  5.00\n",
      " 258 science   HD115169   02:19:44.239 RG610~holo4_003              9.1  5.00\n",
      " 259 science   HD115169   02:19:53.750 RG610~holo4_003              9.5  5.00\n",
      " 260 science   HD115169   02:28:43.055 empty~holo4_003            529.3  20.00\n",
      " 261 science   HD115169   02:29:20.731 empty~holo4_003             37.7  20.00\n",
      " 262 science   HD115169   02:29:58.437 empty~holo4_003             37.7  20.00\n",
      " 263 science   HD115169   02:30:36.133 empty~holo4_003             37.7  20.00\n",
      " 264 science   HD115169   02:31:13.848 empty~holo4_003             37.7  20.00\n",
      " 265 science   HD115169   02:31:51.547 empty~holo4_003             37.7  20.00\n",
      " 266 science   HD115169   02:32:29.996 empty~holo4_003             38.4  20.00\n",
      " 267 science   HD115169   02:33:07.682 empty~holo4_003             37.7  20.00\n",
      " 268 science   HD115169   02:35:34.087 empty~holo4_003            146.4  20.00\n",
      " 269 science   HD115169   02:36:11.779 empty~holo4_003             37.7  20.00\n",
      " 270 science   HD115169   02:36:49.491 empty~holo4_003             37.7  20.00\n",
      " 271 science   HD115169   02:37:27.200 empty~holo4_003             37.7  20.00\n",
      " 272 science   HD115169   02:38:04.893 empty~holo4_003             37.7  20.00\n",
      " 273 science   HD115169   02:38:42.582 empty~holo4_003             37.7  20.00\n",
      " 274 science   HD115169   02:39:20.978 empty~holo4_003             38.4  20.00\n",
      " 275 science   HD115169   02:39:58.694 empty~holo4_003             37.7  20.00\n",
      " 276 science   HD115169   02:40:36.400 empty~holo4_003             37.7  20.00\n",
      " 277 science   HD115169   02:41:14.079 empty~holo4_003             37.7  20.00\n",
      " 278 science   HD115169   02:41:51.789 empty~holo4_003             37.7  20.00\n",
      " 279 science   HD115169   02:42:29.478 empty~holo4_003             37.7  20.00\n",
      " 280 science   HD115169   02:43:07.940 empty~holo4_003             38.5  20.00\n",
      " 281 science   HD115169   02:43:45.596 empty~holo4_003             37.7  20.00\n",
      " 282 science   HD115169   02:44:23.275 empty~holo4_003             37.7  20.00\n",
      " 283 science   HD115169   02:45:00.988 empty~holo4_003             37.7  20.00\n",
      " 284 science   HD115169   02:45:38.684 empty~holo4_003             37.7  20.00\n",
      " 285 science   HD115169   02:46:16.337 empty~holo4_003             37.7  20.00\n",
      " 286 science   HD115169   02:46:54.778 empty~holo4_003             38.4  20.00\n",
      " 287 science   HD115169   02:47:32.481 empty~holo4_003             37.7  20.00\n",
      " 288 science   HD115169   02:48:10.190 empty~holo4_003             37.7  20.00\n",
      " 289 science   HD115169   02:48:47.890 empty~holo4_003             37.7  20.00\n",
      " 290 science   HD115169   02:49:25.593 empty~holo4_003             37.7  20.00\n",
      " 291 science   HD115169   02:50:03.281 empty~holo4_003             37.7  20.00\n",
      " 292 science   HD115169   02:50:41.633 empty~holo4_003             38.4  20.00\n",
      " 293 science   HD115169   02:51:19.336 empty~holo4_003             37.7  20.00\n",
      " 294 science   HD115169   02:51:57.052 empty~holo4_003             37.7  20.00\n",
      " 295 science   HD115169   02:52:34.739 empty~holo4_003             37.7  20.00\n",
      " 296 science   HD115169   02:53:12.438 empty~holo4_003             37.7  20.00\n",
      " 297 science   HD115169   02:53:50.146 empty~holo4_003             37.7  20.00\n",
      " 298 science   HD115169   02:54:28.545 empty~holo4_003             38.4  20.00\n",
      " 299 science   HD115169   02:55:06.245 empty~holo4_003             37.7  20.00\n",
      " 300 science   HD115169   02:55:43.942 empty~holo4_003             37.7  20.00\n",
      " 301 science   HD115169   02:56:21.643 empty~holo4_003             37.7  20.00\n",
      " 302 science   HD115169   02:56:59.379 empty~holo4_003             37.7  20.00\n",
      " 303 science   HD115169   02:57:37.088 empty~holo4_003             37.7  20.00\n",
      " 304 science   HD115169   03:00:29.739 empty~holo4_003            172.7  20.00\n",
      " 305 science   HD115169   03:01:01.889 empty~holo4_003             32.1  20.00\n",
      " 306 science   HD115169   03:01:34.086 empty~holo4_003             32.2  20.00\n",
      " 307 science   HD115169   03:02:06.228 empty~holo4_003             32.1  20.00\n",
      " 308 science   HD115169   03:02:38.393 empty~holo4_003             32.2  20.00\n",
      " 309 science   HD115169   03:03:10.542 empty~holo4_003             32.1  20.00\n",
      " 310 science   HD115169   03:03:42.679 empty~holo4_003             32.1  20.00\n",
      " 311 science   HD115169   03:04:15.187 empty~holo4_003             32.5  20.00\n",
      " 312 science   HD115169   03:04:47.335 empty~holo4_003             32.1  20.00\n",
      " 313 science   HD115169   03:05:19.543 empty~holo4_003             32.2  20.00\n",
      " 314 science   HD115169   03:05:51.748 empty~holo4_003             32.2  20.00\n",
      " 315 science   HD115169   03:06:23.884 empty~holo4_003             32.1  20.00\n",
      " 316 science   HD115169   03:06:55.995 empty~holo4_003             32.1  20.00\n",
      " 317 science   HD115169   03:07:28.146 empty~holo4_003             32.2  20.00\n",
      " 318 science   HD115169   03:08:00.739 empty~holo4_003             32.6  20.00\n",
      " 319 science   HD115169   03:08:32.887 empty~holo4_003             32.1  20.00\n",
      " 320 science   HD115169   03:09:05.129 empty~holo4_003             32.2  20.00\n",
      " 321 science   HD115169   03:09:37.292 empty~holo4_003             32.2  20.00\n",
      " 322 science   HD115169   03:10:09.434 empty~holo4_003             32.1  20.00\n",
      " 323 science   HD115169   03:10:41.542 empty~holo4_003             32.1  20.00\n",
      " 324 science   HD115169   03:11:13.680 empty~holo4_003             32.1  20.00\n",
      " 325 science   HD115169   03:11:46.238 empty~holo4_003             32.6  20.00\n",
      " 326 science   HD115169   03:12:18.438 empty~holo4_003             32.2  20.00\n",
      " 327 science   HD115169   03:12:50.588 empty~holo4_003             32.1  20.00\n",
      " 328 science   HD115169   03:13:22.738 empty~holo4_003             32.2  20.00\n",
      " 329 science   HD115169   03:13:54.887 empty~holo4_003             32.1  20.00\n",
      " 330 science   HD115169   03:14:27.028 empty~holo4_003             32.1  20.00\n",
      " 331 science   HD115169   03:14:59.196 empty~holo4_003             32.2  20.00\n",
      " 332 science   HD115169   03:15:31.733 empty~holo4_003             32.5  20.00\n",
      " 333 science   HD115169   03:16:03.852 empty~holo4_003             32.1  20.00\n",
      " 334 science   HD115169   03:16:35.981 empty~holo4_003             32.1  20.00\n",
      " 335 science   HD115169   03:17:08.157 empty~holo4_003             32.2  20.00\n",
      " 336 science   HD115169   03:17:40.280 empty~holo4_003             32.1  20.00\n",
      " 337 science   HD115169   03:18:12.445 empty~holo4_003             32.2  20.00\n",
      " 338 science   HD115169   03:18:44.601 empty~holo4_003             32.2  20.00\n",
      " 339 science   HD115169   03:19:17.144 empty~holo4_003             32.5  20.00\n",
      " 340 science   HD115169   03:19:49.337 empty~holo4_003             32.2  20.00\n",
      " 341 science   HD115169   03:20:21.485 empty~holo4_003             32.1  20.00\n",
      " 342 science   HD115169   03:20:53.581 empty~holo4_003             32.1  20.00\n",
      " 343 science   HD115169   03:21:25.749 empty~holo4_003             32.2  20.00\n",
      " 344 science   HD115169   03:21:57.889 empty~holo4_003             32.1  20.00\n",
      " 345 science   HD115169   03:22:30.052 empty~holo4_003             32.2  20.00\n",
      " 346 science   HD160617   03:25:17.834 empty~holo4_003            167.8  1.00\n",
      " 347 science   HD160617   03:25:51.293 empty~holo4_003             33.5  1.00\n",
      " 348 engtest   HD160617   03:27:18.925 RG610~holo4_003             87.6  20.00\n",
      " 349 engtest   HD160617   03:27:46.472 RG610~holo4_003             27.5  20.00\n",
      " 350 science   HD160617   03:29:27.881 RG610~holo4_003            101.4  5.00\n",
      " 351 science   HD160617   03:32:48.498 RG610~holo4_003            200.6  15.00\n",
      " 352 science   HD160617   03:35:47.370 RG610~holo4_003            178.9  20.00\n",
      " 353 science   HD160617   03:36:20.228 RG610~holo4_003             32.9  20.00\n",
      " 354 science   HD160617   03:36:53.078 RG610~holo4_003             32.9  20.00\n",
      " 355 science   HD160617   03:37:27.374 BG40~holo4_003              34.3  20.00\n",
      " 356 science   HD160617   03:38:00.373 BG40~holo4_003              33.0  20.00\n",
      " 357 science   HD160617   03:38:33.218 BG40~holo4_003              32.8  20.00\n",
      " 358 science   HD160617   03:39:09.052 empty~holo4_003             35.8  20.00\n",
      " 359 science   HD160617   03:39:41.903 empty~holo4_003             32.9  20.00\n",
      " 360 science   HD160617   03:40:14.760 empty~holo4_003             32.9  20.00\n",
      " 361 science   slew_icrs  03:46:00.124 BG40~empty                 345.4  2.00\n",
      " 362 science   slew_icrs  03:46:35.253 BG40~empty                  35.1  2.00\n",
      " 363 science   slew_icrs  03:47:08.850 BG40~empty                  33.6  2.00\n",
      " 364 science   slew_icrs  03:51:26.704 empty~empty                257.9  60.00\n",
      " 365 science   slew_icrs  03:54:15.725 RG610~holo4_003            169.0  60.00\n",
      " 366 science   slew_icrs  03:55:28.585 RG610~holo4_003             72.9  60.00\n",
      " 367 science   slew_icrs  03:56:41.422 RG610~holo4_003             72.8  60.00\n",
      " 368 science   slew_icrs  03:57:55.778 BG40~holo4_003              74.4  60.00\n",
      " 369 science   slew_icrs  03:59:08.619 BG40~holo4_003              72.8  60.00\n",
      " 370 science   slew_icrs  04:00:21.494 BG40~holo4_003              72.9  60.00\n",
      " 371 science   slew_icrs  04:01:37.366 empty~holo4_003             75.9  60.00\n",
      " 372 science   slew_icrs  04:02:50.230 empty~holo4_003             72.9  60.00\n",
      " 373 science   slew_icrs  04:04:03.109 empty~holo4_003             72.9  60.00\n",
      " 374 science   HD 347822  04:12:54.809 RG610~empty                531.7  1.00\n",
      " 375 science   HD 347822  04:14:37.165 RG610~empty                102.4  1.00\n",
      " 376 science   HD 158465  04:16:36.534 RG610~empty                119.4  1.00\n",
      " 377 science   HD 158465  04:17:44.669 RG610~empty                 68.1  1.00\n",
      " 378 science   HD 158465  04:18:41.966 RG610~empty                 57.3  1.00\n",
      " 379 science   HD 158465  04:19:45.758 RG610~empty                 63.8  1.00\n",
      " 380 engtest   HD 158465  04:22:27.916 RG610~empty                162.2  1.00\n",
      " 381 science   HD 158510  04:29:17.342 RG610~empty                409.4  5.00\n",
      " 382 science   HD 187101  04:34:42.596 RG610~empty                325.3  5.00\n",
      " 383 science   HD 187101  04:36:41.061 RG610~empty                118.5  5.00\n",
      " 384 science   HD 187101  04:37:31.939 RG610~empty                 50.9  5.00\n",
      " 385 engtest   HD 187101  04:38:19.517 RG610~empty                 47.6  20.00\n",
      " 386 engtest   HD 187101  04:38:47.464 RG610~empty                 27.9  20.00\n",
      " 387 engtest   HD 187101  04:40:27.415 RG610~empty                100.0  20.00\n",
      " 388 engtest   HD 187101  04:40:55.412 RG610~empty                 28.0  20.00\n",
      " 389 science   HD 187101  04:42:35.121 RG610~empty                 99.7  5.00\n",
      " 390 science   HD 187101  04:43:30.968 RG610~empty                 55.8  30.00\n",
      " 391 science   HD 187101  04:58:18.827 RG610~empty                887.9  5.00\n",
      " 392 science   HD 187101  05:00:44.969 RG610~empty                146.1  5.00\n",
      " 393 science   HD 187101  05:01:21.965 RG610~empty                 37.0  30.00\n",
      " 394 engtest   HD 187101  05:03:00.465 RG610~empty                 98.5  20.00\n",
      " 395 engtest   HD 187101  05:03:27.977 RG610~empty                 27.5  20.00\n",
      " 396 science   HD 187101  05:04:50.052 RG610~empty                 82.1  30.00\n",
      " 397 engtest   HD 187101  05:06:11.664 RG610~empty                 81.6  20.00\n",
      " 398 engtest   HD 187101  05:06:39.619 RG610~empty                 28.0  20.00\n",
      " 399 science   HD 187101  05:07:42.695 RG610~empty                 63.1  30.00\n",
      " 400 engtest   HD 187101  05:08:44.153 RG610~empty                 61.5  20.00\n",
      " 401 engtest   HD 187101  05:09:11.281 RG610~empty                 27.1  20.00\n",
      " 402 science   HD 187101  05:10:40.160 RG610~empty                 88.9  30.00\n",
      " 403 science   HD 187101  05:13:58.802 RG610~empty                198.6  30.00\n",
      " 404 engtest   HD 187101  05:15:11.052 RG610~empty                 72.3  20.00\n",
      " 405 engtest   HD 187101  05:15:38.442 RG610~empty                 27.4  20.00\n",
      " 406 science   HD 187101  05:16:43.371 RG610~empty                 64.9  30.00\n",
      " 407 engtest   HD 187101  05:17:45.036 RG610~empty                 61.7  20.00\n",
      " 408 engtest   HD 187101  05:18:12.181 RG610~empty                 27.1  20.00\n",
      " 409 science   HD 187101  05:19:11.890 RG610~empty                 59.7  30.00\n",
      " 410 science   HD 187101  05:22:46.947 RG610~empty                215.1  30.00\n",
      " 411 science   HD 187101  05:23:50.175 RG610~empty                 63.2  30.00\n",
      " 412 engtest   HD 187101  05:24:45.242 RG610~empty                 55.1  20.00\n",
      " 413 engtest   HD 187101  05:25:12.684 RG610~empty                 27.4  20.00\n",
      " 414 science   HD 187101  05:26:07.078 RG610~empty                 54.4  30.00\n",
      " 415 engtest   HD 187101  05:26:59.691 RG610~empty                 52.6  20.00\n",
      " 416 engtest   HD 187101  05:27:26.844 RG610~empty                 27.2  20.00\n",
      " 417 science   HD 187101  05:28:16.879 RG610~empty                 50.0  30.00\n",
      " 418 engtest   HD 187101  05:29:07.610 RG610~empty                 50.7  20.00\n",
      " 419 engtest   HD 187101  05:29:34.737 RG610~empty                 27.1  20.00\n",
      " 420 science   HD 187101  05:30:27.753 RG610~empty                 53.0  30.00\n",
      " 421 science   HD 187101  05:31:33.981 RG610~empty                 66.2  30.00\n",
      " 422 engtest   HD 187101  05:32:23.715 RG610~empty                 49.7  20.00\n",
      " 423 engtest   HD 187101  05:32:51.179 RG610~empty                 27.5  20.00\n",
      " 424 science   HD 187101  05:33:41.080 RG610~empty                 49.9  30.00\n",
      " 425 engtest   HD 187101  05:34:37.498 RG610~empty                 56.4  20.00\n",
      " 426 engtest   HD 187101  05:35:04.601 RG610~empty                 27.1  20.00\n",
      " 427 science   HD 187101  05:35:54.632 RG610~empty                 50.0  30.00\n",
      " 428 science   HD 200502  05:42:07.370 RG610~empty                372.7  2.00\n",
      " 429 science   HD 200502  05:43:06.706 RG610~empty                 59.3  2.00\n",
      " 430 science   HD 200502  05:44:04.571 RG610~empty                 57.9  2.00\n",
      " 431 science   HD 200502  05:45:16.592 RG610~empty                 72.0  2.00\n",
      " 432 science   HD 200502  05:45:58.871 RG610~empty                 42.3  2.00\n",
      " 433 science   HD 200502  05:47:20.621 RG610~empty                 81.7  30.00\n",
      " 434 engtest   HD 200502  05:48:13.631 RG610~empty                 53.0  20.00\n",
      " 435 engtest   HD 200502  05:48:40.777 RG610~empty                 27.1  20.00\n",
      " 436 science   HD 200502  05:49:52.013 RG610~empty                 71.2  30.00\n",
      " 437 engtest   HD 200502  05:50:42.707 RG610~empty                 50.7  20.00\n",
      " 438 engtest   HD 200502  05:51:10.970 RG610~empty                 28.3  20.00\n",
      " 439 science   HD 200502  05:52:07.726 RG610~empty                 56.8  30.00\n",
      " 440 engtest   HD 200502  05:53:00.472 RG610~empty                 52.7  20.00\n",
      " 441 engtest   HD 200502  05:53:27.882 RG610~empty                 27.4  20.00\n",
      " 442 science   HD 200502  05:54:32.151 RG610~empty                 64.3  30.00\n",
      " 443 science   HD 200502  05:55:37.932 RG610~empty                 65.8  30.00\n",
      " 444 engtest   HD 200502  05:56:25.176 RG610~empty                 47.2  20.00\n",
      " 445 engtest   HD 200502  05:56:53.174 RG610~empty                 28.0  20.00\n",
      " 446 science   HD 200502  05:57:46.250 RG610~empty                 53.1  30.00\n",
      " 447 engtest   HD 200502  05:58:35.503 RG610~empty                 49.3  20.00\n",
      " 448 engtest   HD 200502  05:59:02.946 RG610~empty                 27.4  20.00\n",
      " 449 science   HD 200502  05:59:55.604 RG610~empty                 52.7  30.00\n",
      " 450 engtest   HD 200502  06:00:44.915 RG610~empty                 49.3  20.00\n",
      " 451 engtest   HD 200502  06:01:12.001 RG610~empty                 27.1  20.00\n",
      " 452 science   HD 200502  06:02:11.413 RG610~empty                 59.4  30.00\n",
      " 453 science   HD 200502  06:03:26.585 RG610~empty                 75.2  30.00\n",
      " 454 engtest   HD 200502  06:04:27.252 RG610~empty                 60.7  20.00\n",
      " 455 engtest   HD 200502  06:04:55.224 RG610~empty                 28.0  20.00\n",
      " 456 science   HD 200502  06:05:51.379 RG610~empty                 56.2  30.00\n",
      " 457 engtest   HD 200502  06:06:41.216 RG610~empty                 49.8  20.00\n",
      " 458 engtest   HD 200502  06:07:08.977 RG610~empty                 27.8  20.00\n",
      " 459 science   HD 200502  06:08:03.885 RG610~empty                 54.9  30.00\n",
      " 460 engtest   HD 200502  06:08:57.960 RG610~empty                 54.1  20.00\n",
      " 461 engtest   HD 200502  06:09:25.898 RG610~empty                 27.9  20.00\n",
      " 462 science   HD 200502  06:10:27.530 RG610~empty                 61.6  30.00\n",
      " 463 engtest   HD 200502  06:11:24.450 RG610~empty                 56.9  20.00\n",
      " 464 engtest   HD 200502  06:11:51.945 RG610~empty                 27.5  20.00\n",
      " 465 science   HD 200502  06:12:53.537 RG610~empty                 61.6  30.00\n",
      " 466 science   HD 200502  06:14:12.950 RG610~empty                 79.4  30.00\n",
      " 467 engtest   HD 200502  06:15:03.939 RG610~empty                 51.0  20.00\n",
      " 468 engtest   HD 200502  06:15:31.860 RG610~empty                 27.9  20.00\n",
      " 469 science   HD 200502  06:16:19.558 RG610~empty                 47.7  30.00\n",
      " 470 engtest   HD 200502  06:17:14.642 RG610~empty                 55.1  20.00\n",
      " 471 engtest   HD 200502  06:17:41.717 RG610~empty                 27.1  20.00\n",
      " 472 science   HD 200502  06:18:40.355 RG610~empty                 58.6  2.00\n",
      " 473 engtest   HD 200502  06:19:02.633 RG610~empty                 22.3  20.00\n",
      " 474 engtest   HD 200502  06:19:29.902 RG610~empty                 27.3  20.00\n",
      " 475 engtest   HD 200502  06:24:31.487 RG610~empty                301.6  1.00\n",
      " 476 engtest   HD 200502  06:25:51.634 RG610~empty                 80.1  1.00\n",
      " 477 engtest   HD 200502  06:30:10.902 RG610~empty                259.3  1.00\n",
      " 478 science   HD 200502  06:40:55.214 RG610~empty                644.3  1.00\n",
      " 479 science   HD 177858  06:44:52.027 RG610~empty                236.8  1.00\n",
      " 480 engtest   HD 181902  06:48:20.005 RG610~empty                208.0  1.00\n",
      " 481 science   HD 181902  06:48:50.055 RG610~empty                 30.0  1.00\n",
      " 482 engtest   HD 347328  06:49:32.004 RG610~empty                 41.9  1.00\n",
      " 483 science   HD 347328  06:50:02.156 RG610~empty                 30.2  1.00\n",
      " 484 engtest   HD 201175  06:50:36.080 RG610~empty                 33.9  1.00\n",
      " 485 science   HD 201175  06:51:05.999 RG610~empty                 29.9  1.00\n",
      " 486 engtest   HD 196188  06:51:49.941 RG610~empty                 43.9  1.00\n",
      " 487 science   HD 196188  06:52:20.659 RG610~empty                 30.7  1.00\n",
      " 488 engtest   HD    266  06:53:13.370 RG610~empty                 52.7  1.00\n",
      " 489 science   HD    266  06:53:44.000 RG610~empty                 30.6  1.00\n",
      " 490 engtest   HD    824  06:54:21.033 RG610~empty                 37.0  1.00\n",
      " 491 science   HD    824  06:54:51.206 RG610~empty                 30.2  1.00\n",
      " 492 engtest   HD 217272  06:55:27.978 RG610~empty                 36.8  1.00\n",
      " 493 science   HD 217272  06:55:57.462 RG610~empty                 29.5  1.00\n",
      " 494 engtest   HD 191306  06:56:38.915 RG610~empty                 41.5  1.00\n",
      " 495 science   HD 191306  06:57:08.012 RG610~empty                 29.1  1.00\n",
      " 496 engtest   HD  60152  06:57:59.976 RG610~empty                 52.0  1.00\n",
      " 497 science   HD  60152  06:58:30.259 RG610~empty                 30.3  1.00\n",
      " 498 engtest   HD 120312  06:59:07.119 RG610~empty                 36.9  1.00\n",
      " 499 science   HD 120312  06:59:37.661 RG610~empty                 30.5  1.00\n",
      " 500 engtest   HD 141391  07:00:15.107 RG610~empty                 37.4  1.00\n",
      " 501 science   HD 141391  07:00:45.101 RG610~empty                 30.0  1.00\n",
      " 502 engtest   HD 162392  07:01:44.257 RG610~empty                 59.2  1.00\n",
      " 503 science   HD 162392  07:02:14.804 RG610~empty                 30.5  1.00\n",
      " 504 engtest   HD 129503  07:05:31.963 RG610~empty                197.2  1.00\n",
      " 505 science   HD 129503  07:06:02.569 RG610~empty                 30.6  1.00\n",
      " 506 engtest   HD 142660  07:06:39.982 RG610~empty                 37.4  1.00\n",
      " 507 science   HD 142660  07:07:09.914 RG610~empty                 29.9  1.00\n",
      " 508 engtest   HD 158718  07:07:45.302 RG610~empty                 35.4  1.00\n",
      " 509 science   HD 158718  07:08:16.503 RG610~empty                 31.2  1.00\n",
      " 510 engtest   HD 175622  07:08:56.513 RG610~empty                 40.0  1.00\n",
      " 511 science   HD 175622  07:09:26.604 RG610~empty                 30.1  1.00\n"
     ]
    }
   ],
   "source": [
    "reporter.printObsTable()"
   ]
  },
  {
   "cell_type": "markdown",
   "id": "5bf36db5",
   "metadata": {},
   "source": [
    "# Butler"
   ]
  },
  {
   "cell_type": "markdown",
   "id": "80428419",
   "metadata": {},
   "source": [
    "## Configuration for Butler"
   ]
  },
  {
   "cell_type": "code",
   "execution_count": 14,
   "id": "d555e1b5",
   "metadata": {},
   "outputs": [],
   "source": [
    "#butler=dafPersist.Butler(\"/project/shared/auxTel\")\n",
    "butler=dafPersist.Butler(repoDir)"
   ]
  },
  {
   "cell_type": "markdown",
   "id": "61fa0f8a",
   "metadata": {},
   "source": [
    "## Sequence selection"
   ]
  },
  {
   "cell_type": "code",
   "execution_count": 15,
   "id": "3a02f64c",
   "metadata": {},
   "outputs": [],
   "source": [
    "all_myseq_holo=range(223,374)\n",
    "all_myseq_pn=range(361,374)\n",
    "#all_myseq=all_myseq_holo\n",
    "all_myseq=all_myseq_pn"
   ]
  },
  {
   "cell_type": "code",
   "execution_count": 16,
   "id": "cfcc9381",
   "metadata": {},
   "outputs": [],
   "source": [
    "seqNum=all_myseq_holo[0]"
   ]
  },
  {
   "cell_type": "code",
   "execution_count": 17,
   "id": "1af92d1b",
   "metadata": {},
   "outputs": [
    {
     "data": {
      "text/plain": [
       "223"
      ]
     },
     "execution_count": 17,
     "metadata": {},
     "output_type": "execute_result"
    }
   ],
   "source": [
    "seqNum"
   ]
  },
  {
   "cell_type": "markdown",
   "id": "cb79950a",
   "metadata": {},
   "source": [
    "## Display"
   ]
  },
  {
   "cell_type": "code",
   "execution_count": 18,
   "id": "b212dbf6",
   "metadata": {},
   "outputs": [
    {
     "data": {
      "text/html": [
       "Open your web browser to <a href=\"https://lsst-lsp-stable.ncsa.illinois.edu/portal/app/slate.html?__wsch=sylviedc_debug_2021_06_08\"\" target=\"_blank\">this link</a>"
      ],
      "text/plain": [
       "<IPython.core.display.HTML object>"
      ]
     },
     "metadata": {},
     "output_type": "display_data"
    }
   ],
   "source": [
    "display1=afwDisplay.getDisplay(frame=1,port=80,name='sylviedc_debug_2021_06_08',url=os.environ[\"FIREFLY_URL\"])"
   ]
  },
  {
   "cell_type": "code",
   "execution_count": 19,
   "id": "0adde6b6",
   "metadata": {},
   "outputs": [],
   "source": [
    "raw=butler.get('raw',dayObs=dayObs,seqNum=seqNum)"
   ]
  },
  {
   "cell_type": "code",
   "execution_count": 20,
   "id": "3e287bff",
   "metadata": {},
   "outputs": [],
   "source": [
    "display1.mtv(raw)"
   ]
  },
  {
   "cell_type": "code",
   "execution_count": 21,
   "id": "25db5264",
   "metadata": {},
   "outputs": [
    {
     "data": {
      "text/html": [
       "Open your web browser to <a href=\"https://lsst-lsp-stable.ncsa.illinois.edu/portal/app/slate.html?__wsch=sylviedc_debug_2021_06_08\"\" target=\"_blank\">this link</a>"
      ],
      "text/plain": [
       "<IPython.core.display.HTML object>"
      ]
     },
     "metadata": {},
     "output_type": "display_data"
    }
   ],
   "source": [
    "display1.getClient().display_url()"
   ]
  },
  {
   "cell_type": "code",
   "execution_count": 22,
   "id": "11d8aa05",
   "metadata": {},
   "outputs": [
    {
     "name": "stdout",
     "output_type": "stream",
     "text": [
      "[1, 2, 5, 3, 6, 4, 8, 10, 7, 9, 11, 13, 18, 16, 12, 17, 14, 15, 23, 21, 20, 22, 19, 24, 30, 27, 28, 29, 26, 25, 37, 38, 35, 31, 34, 33, 32, 36, 44, 41, 43, 40, 42, 39, 46, 45, 49, 50, 48, 47, 51, 52, 53, 54, 55, 56, 58, 57, 60, 59, 61, 62, 63, 64, 65, 66, 67, 68, 69, 70, 71, 72, 75, 76, 73, 74, 79, 78, 80, 81, 77, 82, 85, 84, 83, 86, 93, 92, 94, 88, 90, 89, 91, 87, 98, 97, 99, 96, 95, 100, 103, 104, 105, 102, 101, 108, 110, 106, 107, 109, 114, 111, 115, 113, 112, 117, 118, 119, 116, 121, 120, 122, 125, 126, 124, 123, 127, 128, 129, 131, 132, 130, 134, 133, 137, 136, 135, 140, 139, 138, 141, 142, 143, 144, 145, 146, 147, 148, 149, 150, 151, 152, 153, 154, 155, 156, 157, 158, 159, 160, 161, 162, 163, 164, 165, 166, 167, 168, 169, 170, 171, 172, 173, 174, 175, 176, 177, 178, 179, 180, 181, 182, 183, 184, 185, 186, 187, 188, 189, 192, 191, 190, 193, 197, 198, 196, 195, 194, 199, 200, 201, 202, 203, 204, 205, 206, 207, 208, 209, 210, 211, 212, 213, 214, 215, 216, 217, 218, 219, 220, 221, 222, 223, 224, 225, 226, 227, 228, 229, 230, 231, 232, 233, 234, 235, 236, 237, 238, 239, 240, 241, 242, 243, 244, 245, 246, 247, 248, 249, 250, 251, 252, 253, 254, 255, 258, 256, 257, 259, 260, 261, 262, 263, 264, 265, 266, 267, 268, 269, 270, 271, 272, 273, 274, 275, 276, 277, 278, 279, 280, 281, 282, 283, 284, 285, 286, 287, 288, 289, 290, 291, 292, 293, 294, 295, 296, 297, 298, 299, 300, 301, 302, 303, 304, 305, 306, 307, 308, 309, 310, 311, 312, 313, 314, 315, 316, 317, 318, 319, 320, 321, 322, 323, 324, 325, 326, 327, 328, 329, 330, 331, 332, 333, 334, 335, 336, 337, 338, 339, 340, 341, 342, 343, 344, 345, 346, 347, 348, 349, 350, 351, 352, 353, 354, 355, 356, 357, 358, 359, 360, 361, 362, 363, 364, 365, 366, 367, 368, 369, 370, 371, 372, 373, 374, 375, 376, 377, 378, 379, 380, 407, 408, 410, 401, 409, 405, 404, 403, 406, 402, 416, 413, 419, 417, 412, 414, 418, 411, 415, 420, 429, 427, 426, 424, 422, 421, 425, 423, 430, 428, 437, 439, 433, 436, 440, 438, 432, 431, 434, 435, 449, 441, 448, 445, 444, 443, 446, 442, 450, 447, 451, 455, 452, 460, 459, 458, 456, 454, 457, 453, 461, 467, 469, 466, 462, 470, 464, 468, 465, 463, 472, 473, 475, 477, 478, 476, 474, 479, 471, 480, 483, 484, 490, 489, 486, 487, 481, 482, 488, 485, 493, 495, 500, 491, 494, 492, 497, 496, 499, 498, 502, 505, 504, 509, 501, 507, 510, 506, 503, 508, 511, 388, 385, 382, 386, 390, 383, 389, 381, 387, 384, 394, 395, 396, 391, 397, 399, 400, 398, 392, 393]\n"
     ]
    }
   ],
   "source": [
    "print(butler.queryMetadata('raw','seqNum',dayObs=dayObs))"
   ]
  },
  {
   "cell_type": "code",
   "execution_count": 23,
   "id": "d5ebf613",
   "metadata": {},
   "outputs": [],
   "source": [
    "#exp=butler.get('quickLookExp',dayObs=dayObs,seqNum=seqNum)"
   ]
  },
  {
   "cell_type": "markdown",
   "id": "81d7c1a6",
   "metadata": {},
   "source": [
    "## Meta Data"
   ]
  },
  {
   "cell_type": "code",
   "execution_count": 24,
   "id": "6ebb122a",
   "metadata": {},
   "outputs": [],
   "source": [
    "md=butler.get(\"raw_md\",dayObs=dayObs,seqNum=seqNum)"
   ]
  },
  {
   "cell_type": "code",
   "execution_count": 25,
   "id": "90602ca5",
   "metadata": {},
   "outputs": [
    {
     "data": {
      "text/plain": [
       "{'SIMPLE': True,\n",
       " 'EXTEND': True,\n",
       " 'COMMENT': [\"  FITS (Flexible Image Transport System) format is defined in 'Astronomy\",\n",
       "  \"  and Astrophysics', volume 376, page 359; bibcode: 2001A&A...376..359H\",\n",
       "  \"= '        '\",\n",
       "  '---- Date, night and basic image information ----',\n",
       "  \"= '        '\",\n",
       "  '---- Telescope info, location, observer ----',\n",
       "  \"= '        '\",\n",
       "  '---- Pointing info, etc. ----',\n",
       "  \"= '        '\",\n",
       "  '---- TAN Projection ----',\n",
       "  \"= '        '\",\n",
       "  '---- Image-identifying used to build OBS-ID ----',\n",
       "  \"= '        '\",\n",
       "  '---- Test Stand information ----',\n",
       "  \"= '        '\",\n",
       "  '---- Information from Camera (Common block) ----',\n",
       "  \"= '        '\",\n",
       "  '---- Information from Camera ----',\n",
       "  \"= '        '\",\n",
       "  '---- Filter/grating information ----',\n",
       "  \"= '        '\",\n",
       "  '---- Exposure-related information ----',\n",
       "  \"= '        '\",\n",
       "  '---- Weather information ----',\n",
       "  \"= '        '\",\n",
       "  '---- Header information ----',\n",
       "  \"= '        '\",\n",
       "  '---- Checksums ----',\n",
       "  '---- Information from Camera per sensor ----',\n",
       "  \"= '        '\",\n",
       "  '---- Geometry from Camera ----'],\n",
       " 'ORIGIN': 'LSST DM Header Service',\n",
       " 'TIMESYS': 'TAI',\n",
       " 'DATE': '2021-06-09T01:11:07.453',\n",
       " 'DATE-OBS': '2021-06-09T01:11:31.591',\n",
       " 'DATE-BEG': '2021-06-09T01:11:31.591',\n",
       " 'DATE-END': '2021-06-09T01:11:41.822',\n",
       " 'MJD': 59374.0493918193,\n",
       " 'MJD-OBS': 59374.0496711949,\n",
       " 'MJD-BEG': 59374.0496711949,\n",
       " 'MJD-END': 59374.0497896115,\n",
       " 'OBSID': 'AT_O_20210608_000223',\n",
       " 'GROUPID': '2021-06-09T01:11:21.281',\n",
       " 'IMGTYPE': 'OBJECT',\n",
       " 'BUNIT': 'adu',\n",
       " 'FACILITY': 'Vera C. Rubin Observatory',\n",
       " 'TELESCOP': 'LSST AuxTelescope',\n",
       " 'INSTRUME': 'LATISS',\n",
       " 'OBSERVER': 'LSST',\n",
       " 'OBS-LONG': -70.749417,\n",
       " 'OBS-LAT': -30.244639,\n",
       " 'OBS-ELEV': 2663.0,\n",
       " 'OBSGEO-X': 1818938.94,\n",
       " 'OBSGEO-Y': -5208470.95,\n",
       " 'OBSGEO-Z': -3195172.08,\n",
       " 'RA': 181.447840833333,\n",
       " 'DEC': -51.0033519444444,\n",
       " 'RASTART': 181.423648728328,\n",
       " 'DECSTART': -51.0017475766424,\n",
       " 'RAEND': 181.423693028052,\n",
       " 'DECEND': -51.0017564017024,\n",
       " 'ROTPA': 0.00906584298734822,\n",
       " 'ROTCOORD': 'sky',\n",
       " 'HASTART': 1.52713673154147,\n",
       " 'ELSTART': 63.1617020650738,\n",
       " 'AZSTART': -147.512922208058,\n",
       " 'AMSTART': 1.12050892561052,\n",
       " 'HAEND': 1.53069731380618,\n",
       " 'ELEND': 63.1364226921287,\n",
       " 'AZEND': -147.462559263455,\n",
       " 'AMEND': 1.12075472082335,\n",
       " 'INSTPORT': 2,\n",
       " 'ATM3PORT': 2,\n",
       " 'TRACKSYS': 'SIDEREAL',\n",
       " 'RADESYS': 'ICRS',\n",
       " 'FOCUSZ': 0.0233464650809765,\n",
       " 'OBJECT': 'HD 105070',\n",
       " 'DOMEAZ': 207.7,\n",
       " 'SHUTLOWR': 100.0,\n",
       " 'SHUTUPPR': 100.0,\n",
       " 'WCSAXES': 2,\n",
       " 'CTYPE1': 'RA---TAN',\n",
       " 'CTYPE2': 'DEC--TAN',\n",
       " 'CUNIT1': 'deg',\n",
       " 'CUNIT2': 'deg',\n",
       " 'CRVAL1': 181.447840833333,\n",
       " 'CRVAL2': -51.0033519444444,\n",
       " 'CRPIX1': 2000.0,\n",
       " 'CRPIX2': 2036.0,\n",
       " 'CD1_1': 0.104995685080327,\n",
       " 'CD1_2': -0.000951900474174421,\n",
       " 'CD2_1': 0.000951900474174421,\n",
       " 'CD2_2': 0.104995685080327,\n",
       " 'EQUINOX': 2000.0,\n",
       " 'CAMCODE': 'AT',\n",
       " 'CONTRLLR': 'O',\n",
       " 'DAYOBS': '20210608',\n",
       " 'SEQNUM': 223,\n",
       " 'TESTTYPE': None,\n",
       " 'TSTAND': None,\n",
       " 'IMAGETAG': '9a258afa64576035',\n",
       " 'OBSANNOT': '',\n",
       " 'TEMP_SET': -94.1500015258789,\n",
       " 'CCDTEMP': -90.2096939086914,\n",
       " 'FILTBAND': 'Empty',\n",
       " 'FILTER': 'RG610',\n",
       " 'FILTSLOT': 3,\n",
       " 'GRATING': 'holo4_003',\n",
       " 'GRATBAND': 'Empty',\n",
       " 'GRATSLOT': 3,\n",
       " 'LINSPOS': -324.403015136719,\n",
       " 'EXPTIME': 10.0,\n",
       " 'SHUTTIME': None,\n",
       " 'DARKTIME': 10.3191492557526,\n",
       " 'AIRTEMP': 8.0,\n",
       " 'PRESSURE': 742.35,\n",
       " 'HUMIDITY': 20.0,\n",
       " 'WINDSPD': 7.9,\n",
       " 'WINDDIR': 325.0,\n",
       " 'SEEING': None,\n",
       " 'FILENAME': 'AT_O_20210608_000223.fits',\n",
       " 'HEADVER': '2.9.1',\n",
       " 'CHECKSUM': None,\n",
       " 'DATASUM': None,\n",
       " 'CCD_MANU': 'ITL',\n",
       " 'CCD_TYPE': 2,\n",
       " 'CCD_SERN': '20862',\n",
       " 'LSST_NUM': 'ITL-3800C-068',\n",
       " 'SEQCKSUM': '2552520002',\n",
       " 'SEQNAME': 'FP_ITL_2s_ir2_v25.seq',\n",
       " 'REBNAME': 'Unknown',\n",
       " 'CONTNUM': '412227310',\n",
       " 'CCDSLOT': 'S00',\n",
       " 'RAFTBAY': 'R00',\n",
       " 'OVERH': 64,\n",
       " 'OVERV': 48,\n",
       " 'PREH': 0,\n",
       " 'XTENSION': 'IMAGE',\n",
       " 'BITPIX': 32,\n",
       " 'NAXIS': 2,\n",
       " 'NAXIS1': 576,\n",
       " 'NAXIS2': 2048,\n",
       " 'PCOUNT': 0,\n",
       " 'GCOUNT': 1,\n",
       " 'INHERIT': True,\n",
       " 'EXTNAME': 'Segment10',\n",
       " 'DATASEC': '[1:509,1:2000]',\n",
       " 'DETSEC': '[509:1,1:2000]',\n",
       " 'DETSIZE': '[1:4072,1:4000]',\n",
       " 'DTV1': 510,\n",
       " 'DTV2': 0,\n",
       " 'DTM1_1': -1.0,\n",
       " 'DTM2_2': 1.0,\n",
       " 'DTM1_2': 0,\n",
       " 'DTM2_1': 0,\n",
       " 'HIERARCH ASTRO METADATA FIX MODIFIED': True,\n",
       " 'HIERARCH ASTRO METADATA FIX DATE': '2021-06-14T13:49:01.811684',\n",
       " 'HIERARCH ASTRO METADATA FIX VERSION': 'w.2021.21-1-g951e521'}"
      ]
     },
     "execution_count": 25,
     "metadata": {},
     "output_type": "execute_result"
    }
   ],
   "source": [
    "md.toDict()"
   ]
  },
  {
   "cell_type": "markdown",
   "id": "76d020e5",
   "metadata": {},
   "source": [
    "# Start"
   ]
  },
  {
   "cell_type": "code",
   "execution_count": 26,
   "id": "a9f0a317",
   "metadata": {},
   "outputs": [],
   "source": [
    "plt.rcParams[\"axes.labelsize\"] = 'large'\n",
    "plt.rcParams['axes.titlesize'] = 'large'\n",
    "plt.rcParams['xtick.labelsize']= 'large'\n",
    "plt.rcParams['ytick.labelsize']= 'large'"
   ]
  },
  {
   "cell_type": "code",
   "execution_count": 29,
   "id": "55676cf6",
   "metadata": {},
   "outputs": [],
   "source": [
    "all_my_raw_array=[]\n",
    "all_my_header=[]\n",
    "all_my_object=[]\n",
    "all_my_seq=[]\n",
    "all_my_grating=[]\n",
    "all_my_filter=[]\n",
    "all_my_date=[]\n",
    "\n",
    "\n",
    "for seqNum in all_myseq:\n",
    "    raw=butler.get('raw',dayObs=dayObs,seqNum=seqNum)\n",
    "    md=butler.get(\"raw_md\",dayObs=dayObs,seqNum=seqNum)\n",
    "    \n",
    "    header=md.toDict()\n",
    "    \n",
    "    #decode header\n",
    "    \n",
    "    obj_name=header['OBJECT']\n",
    "    obj_name2 = ''.join(obj_name.split())\n",
    "    grating=header['GRATING']\n",
    "    obsid=header['OBSID']\n",
    "    date=obsid.replace('AT_O_','') # remove pre-tag to get date only and seqnum\n",
    "    filter_name=header['FILTER']\n",
    "    filter_name2=filter_name.split(\"_\")[0]   # cut empty_1 to empty\n",
    "    \n",
    "    # select only pre-selected disperser\n",
    "    if DISPERSER_SEL != None and grating == DISPERSER_SEL: \n",
    "        all_my_raw_array.append(np.copy(raw.image.array))\n",
    "        all_my_header.append(header)\n",
    "        all_my_object.append(obj_name2)\n",
    "        all_my_seq.append(header['SEQNUM'])\n",
    "        all_my_grating.append(grating)\n",
    "        all_my_filter.append(filter_name2)\n",
    "        all_my_date.append(date)\n",
    "    else:\n",
    "        all_my_raw_array.append(np.copy(raw.image.array))\n",
    "        all_my_header.append(header)\n",
    "        all_my_object.append(obj_name2)\n",
    "        all_my_seq.append(header['SEQNUM'])\n",
    "        all_my_grating.append(grating)\n",
    "        all_my_filter.append(filter_name2)\n",
    "        all_my_date.append(date)"
   ]
  },
  {
   "cell_type": "markdown",
   "id": "e2305a50",
   "metadata": {},
   "source": [
    "## Total number of images"
   ]
  },
  {
   "cell_type": "code",
   "execution_count": 30,
   "id": "a23e14aa",
   "metadata": {},
   "outputs": [],
   "source": [
    "NSEL=len(all_my_raw_array)"
   ]
  },
  {
   "cell_type": "code",
   "execution_count": 31,
   "id": "866015d0",
   "metadata": {},
   "outputs": [
    {
     "data": {
      "text/plain": [
       "13"
      ]
     },
     "execution_count": 31,
     "metadata": {},
     "output_type": "execute_result"
    }
   ],
   "source": [
    "NSEL"
   ]
  },
  {
   "cell_type": "markdown",
   "id": "6dc2d230",
   "metadata": {},
   "source": [
    "# Plot"
   ]
  },
  {
   "cell_type": "code",
   "execution_count": 32,
   "id": "38d17736",
   "metadata": {},
   "outputs": [],
   "source": [
    "idx=0"
   ]
  },
  {
   "cell_type": "code",
   "execution_count": 33,
   "id": "6328f66b",
   "metadata": {},
   "outputs": [],
   "source": [
    "fig = plt.figure(figsize=(10,10))\n",
    "ax=fig.add_subplot(111)\n",
    "ax.imshow(all_my_raw_array[idx],origin='lower',cmap=\"jet\",norm=LogNorm())\n",
    "plt.show()"
   ]
  },
  {
   "cell_type": "code",
   "execution_count": 34,
   "id": "5dde65f9",
   "metadata": {},
   "outputs": [],
   "source": [
    "\n",
    "Ncol=4\n",
    "Nrow=2\n",
    "Ntot=Ncol*Nrow\n",
    "\n",
    "fig = plt.figure(figsize=(20,20))\n",
    "\n",
    "# loop on angle\n",
    "for idx in np.arange(Ntot):\n",
    "    if idx>=NSEL:\n",
    "        break\n",
    "        \n",
    "    ax=fig.add_subplot(Nrow,Ncol,idx+1)\n",
    "    ax.imshow(all_my_raw_array[idx],origin='lower',cmap=\"jet\",norm=LogNorm())\n",
    "    ax.set_title(all_myseq[idx]) \n",
    "    ax.minorticks_on()\n",
    "    ax.set_aspect(\"equal\")\n",
    "    \n",
    "    #ax2=ax.twiny()\n",
    "    #ax2.imshow(all_my_raw_array[idx],origin='lower',cmap=\"jet\",norm=LogNorm())\n",
    "    #ax2.set_xlim(ax.get_xlim())\n",
    "    #ax2.minorticks_on()\n",
    "    \n",
    "    #ax.tick_params(which='major', length=10, width=2, direction='inout')\n",
    "    #ax.tick_params(which='minor', length=5, width=2, direction='inout')\n",
    "    #ax.grid(which='both')\n",
    "\n",
    "\n",
    "\n",
    "    #ax.set_aspect('equal')\n",
    "\n",
    "    #x1, x2 = ax.get_xlim() \n",
    "    #y1, y2 = ax.get_ylim() \n",
    "plt.show()"
   ]
  },
  {
   "cell_type": "code",
   "execution_count": 35,
   "id": "493f2105",
   "metadata": {},
   "outputs": [],
   "source": [
    "#all_my_raw_array=[]\n",
    "#all_my_header=[]\n",
    "#all_my_object=[]\n",
    "#all_my_seq=[]\n",
    "#all_my_grating=[]\n",
    "#all_my_filter=[]\n"
   ]
  },
  {
   "cell_type": "code",
   "execution_count": 36,
   "id": "cf1eb4ae",
   "metadata": {},
   "outputs": [
    {
     "name": "stdout",
     "output_type": "stream",
     "text": [
      "empty_1_BG40_slew_icrs_20210608_000361.fits\n",
      "empty_1_BG40_slew_icrs_20210608_000362.fits\n",
      "empty_1_BG40_slew_icrs_20210608_000363.fits\n",
      "empty_1_empty_slew_icrs_20210608_000364.fits\n",
      "holo4_003_RG610_slew_icrs_20210608_000365.fits\n",
      "holo4_003_RG610_slew_icrs_20210608_000366.fits\n",
      "holo4_003_RG610_slew_icrs_20210608_000367.fits\n",
      "holo4_003_BG40_slew_icrs_20210608_000368.fits\n",
      "holo4_003_BG40_slew_icrs_20210608_000369.fits\n",
      "holo4_003_BG40_slew_icrs_20210608_000370.fits\n",
      "holo4_003_empty_slew_icrs_20210608_000371.fits\n",
      "holo4_003_empty_slew_icrs_20210608_000372.fits\n",
      "holo4_003_empty_slew_icrs_20210608_000373.fits\n"
     ]
    }
   ],
   "source": [
    "if FLAG_SAVE_IMAGE:\n",
    "  \n",
    "    for idx in np.arange(NSEL):\n",
    "        filename=all_my_grating[idx]+\"_\"+all_my_filter[idx]+\"_\"+all_my_object[idx]+\"_\"+all_my_date[idx]+\".fits\"\n",
    "        print(filename)\n",
    "    \n",
    "        hdr = fits.Header()\n",
    "    \n",
    "        for key,value in all_my_header[idx].items():\n",
    "            hdr[str(key)]=value\n",
    "        \n",
    "        hdu = fits.PrimaryHDU(data=all_my_raw_array[idx],header=hdr)  # with headers\n",
    "        #hdu = fits.PrimaryHDU(data=all_my_raw_array[idx])\n",
    "    \n",
    "        hdul = fits.HDUList([hdu])\n",
    "    \n",
    "        hdul.writeto(filename,overwrite=True)\n",
    "    \n",
    "        "
   ]
  },
  {
   "cell_type": "code",
   "execution_count": null,
   "id": "35a01d4e",
   "metadata": {},
   "outputs": [],
   "source": []
  }
 ],
 "metadata": {
  "kernelspec": {
   "display_name": "LSST",
   "language": "python",
   "name": "lsst"
  },
  "language_info": {
   "codemirror_mode": {
    "name": "ipython",
    "version": 3
   },
   "file_extension": ".py",
   "mimetype": "text/x-python",
   "name": "python",
   "nbconvert_exporter": "python",
   "pygments_lexer": "ipython3",
   "version": "3.8.8"
  }
 },
 "nbformat": 4,
 "nbformat_minor": 5
}
