{
 "cells": [
  {
   "cell_type": "markdown",
   "id": "d8c167b9",
   "metadata": {},
   "source": [
    "# Observations for the night June 09th 2021 \n",
    "\n",
    "\n",
    "https://harvard.zoom.us/rec/play/N7umVF8Rk3vWvW_O3jkaTinofB2WxW3QKz0fVai_K-qvAYLt37uMrvskOlnBiMEjduSeQVzWT7_DDYzc.IY7Pqjef82YlWmZE?continueMode=true&_x_zm_rtaid=BjQYrDaETYeYRUMw8NQgLw.1613559822570.c813d210d38e378b719cb4048493df5b&_x_zm_rhtaid=205\n",
    "\n",
    "\n",
    "- work with Weakly_2021_21\n",
    "- use jupyter kernel LSST\n",
    "- requires the installation see https://github.com/stubbslab/PCWG-AuxTel/blob/main/setup_script.md\n",
    "- requires to write in file {HOME}/notebooks/.user_setups\n"
   ]
  },
  {
   "cell_type": "code",
   "execution_count": 1,
   "id": "b6f291e0",
   "metadata": {},
   "outputs": [],
   "source": [
    "# ! eups list -s"
   ]
  },
  {
   "cell_type": "code",
   "execution_count": 2,
   "id": "477d5d83",
   "metadata": {},
   "outputs": [],
   "source": [
    "import os\n",
    "import matplotlib.pyplot as plt\n",
    "import numpy as np\n",
    "%matplotlib inline\n",
    "from matplotlib.colors import LogNorm\n",
    "\n",
    "from mpl_toolkits.axes_grid1 import make_axes_locatable\n",
    "\n",
    "import matplotlib.ticker                         # here's where the formatter is\n",
    "from matplotlib.ticker import (MultipleLocator, FormatStrFormatter,\n",
    "                               AutoMinorLocator)\n",
    "\n",
    "from astropy.io import fits"
   ]
  },
  {
   "cell_type": "code",
   "execution_count": 3,
   "id": "f52421d8",
   "metadata": {},
   "outputs": [],
   "source": [
    "import lsst.daf.persistence as dafPersist\n",
    "import lsst.afw.display as afwDisplay\n",
    "afwDisplay.setDefaultBackend(\"lsst.display.firefly\")"
   ]
  },
  {
   "cell_type": "code",
   "execution_count": 4,
   "id": "54c1acf9",
   "metadata": {},
   "outputs": [],
   "source": [
    "# correct for bug in stack in wl_2021_02\n",
    "%config IPCompleter.use_jedi=False"
   ]
  },
  {
   "cell_type": "code",
   "execution_count": 5,
   "id": "d7a83d14",
   "metadata": {},
   "outputs": [],
   "source": [
    "FLAG_SAVE_IMAGE=True\n",
    "FLAG_SAVE_IMAGE=True"
   ]
  },
  {
   "cell_type": "code",
   "execution_count": 6,
   "id": "dcdbce5d",
   "metadata": {},
   "outputs": [
    {
     "name": "stdout",
     "output_type": "stream",
     "text": [
      "calexp\ticExp  postISRCCD\t     repositoryCfg.yaml  spectractorOutput\n",
      "config\ticSrc  processStar_metadata  schema\n"
     ]
    }
   ],
   "source": [
    "!ls /project/shared/auxTel/rerun/mfl/slurmRun"
   ]
  },
  {
   "cell_type": "code",
   "execution_count": 7,
   "id": "07a5aaf4",
   "metadata": {},
   "outputs": [
    {
     "name": "stdout",
     "output_type": "stream",
     "text": [
      "CALIB\t   CALIB-OLD\t CALIB-RHL  _parent\t ref_cats\n",
      "CALIB_OLD  calibrations  Fossil     _parent.old  rerun\n"
     ]
    }
   ],
   "source": [
    "!ls /project/shared/auxTel"
   ]
  },
  {
   "cell_type": "markdown",
   "id": "0aec8428",
   "metadata": {},
   "source": [
    "# Configuration"
   ]
  },
  {
   "cell_type": "markdown",
   "id": "2a206c82",
   "metadata": {},
   "source": [
    "## Location and date"
   ]
  },
  {
   "cell_type": "code",
   "execution_count": 8,
   "id": "5eb79e25",
   "metadata": {},
   "outputs": [
    {
     "name": "stderr",
     "output_type": "stream",
     "text": [
      "/home/dagoret/repos/rapid_analysis/python/lsst/rapid/analysis/nightReport.py:79: FutureWarning: Gen2 Butler has been deprecated (Butler). It will be removed sometime after v23.0 but no earlier than the end of 2021.\n",
      "  self._butler = dafPersist.Butler(repoDir)\n",
      "/home/dagoret/repos/rapid_analysis/python/lsst/rapid/analysis/nightReport.py:79: FutureWarning: Gen2 Butler has been deprecated (LatissMapper). It will be removed sometime after v23.0 but no earlier than the end of 2021.\n",
      "  self._butler = dafPersist.Butler(repoDir)\n"
     ]
    },
    {
     "name": "stdout",
     "output_type": "stream",
     "text": [
      "Loaded data for seqNums 1 to 448\n"
     ]
    }
   ],
   "source": [
    "from lsst.rapid.analysis.nightReport import NightReporter\n",
    "# data exist here\n",
    "repoDir='/project/shared/auxTel'\n",
    "# recommended but wrong\n",
    "#repoDir='project/shared/auxTel/rerun/mfl/slurmRun'\n",
    "dayObs=\"2021-06-09\"\n",
    "reporter=NightReporter(repoDir,dayObs)"
   ]
  },
  {
   "cell_type": "markdown",
   "id": "6b56843e",
   "metadata": {},
   "source": [
    "# Selection"
   ]
  },
  {
   "cell_type": "code",
   "execution_count": 9,
   "id": "d742df1f",
   "metadata": {},
   "outputs": [],
   "source": [
    "DISPERSER_SEL=\"holo4_003\""
   ]
  },
  {
   "cell_type": "markdown",
   "id": "0f1ea317",
   "metadata": {},
   "source": [
    "# Information from reporter"
   ]
  },
  {
   "cell_type": "code",
   "execution_count": 10,
   "id": "87ff11f9",
   "metadata": {},
   "outputs": [
    {
     "name": "stdout",
     "output_type": "stream",
     "text": [
      "['HD 149163', 'HD120278', 'HD  51017', 'HD  79514', 'HD 121971', 'HD 139861', 'HD75942', 'HD 132682', 'HD 150599', 'HD 162392', 'HD163142', 'HD  83978', 'HD  48504', 'HD 158568', 'HD61791', 'HD77558', 'TYC5502-224-1', 'HD 162633', 'HD 115433', 'HD 144527', 'HD  69829', 'HD 154190', 'HD 120721', 'HD 163647', 'HD  76299', 'HD 111976', 'HD 105260', 'HD 108766', 'HD 135126', 'HD 118778', 'HD 119118', 'HD  96944', 'HD 157888', 'HD  44179', 'HD 161486', 'HD 128096', 'HD 145878', 'HD 138969', 'HD 131010', 'HD 154769', 'HD  63388', 'HD 126923', 'HD  91558', 'HD 148009', 'HD100257', 'HD 151076', 'HD 112568', 'HD  92605', 'HD  91013', 'HD 163142', 'HD  95755', 'HD  83634', 'HD 150368', 'HD 296854', 'HD 127008', 'HD 188814', 'HD 133420', 'HD 131366', 'HD  78636', 'HD  96871', 'HD 152751', 'HD 129776', 'HD  86130', 'HD 161882', 'HD 103076A', 'HD 311268', 'HD  71717', 'HD 118858', 'HD 144666', 'HD  89749', 'HD119118', 'HD 146832', 'HD 130990', 'HD 149422', 'HD 176516', 'HD 114402', 'HD 110535', 'HD  63910', 'HD 136964', 'HD 117982', 'CCDM J18146-1113AB', 'HD 153232', 'HD  53190', 'HD 152455', 'HD175944', 'HD63924', 'HD 165223', 'HD 148646', 'HD  90933']\n"
     ]
    }
   ],
   "source": [
    "print(reporter.getObservedObjects())"
   ]
  },
  {
   "cell_type": "code",
   "execution_count": 11,
   "id": "311915db",
   "metadata": {},
   "outputs": [],
   "source": [
    "reporter.makePolarPlotForObjects()"
   ]
  },
  {
   "cell_type": "code",
   "execution_count": 12,
   "id": "d3c2588d",
   "metadata": {},
   "outputs": [],
   "source": [
    "reporter.plotPerObjectAirMass()"
   ]
  },
  {
   "cell_type": "code",
   "execution_count": 13,
   "id": "020169ae",
   "metadata": {},
   "outputs": [
    {
     "name": "stdout",
     "output_type": "stream",
     "text": [
      "{seqNum:4} {imageType:9} {obj:10} {timeOfDay} {filt:25} {dt.sec:6.1f}  {expTime:2.2f}\n",
      "   1 bias      Park position 20:49:30.266 RG610~empty                  0.0  0.00\n",
      "   2 dark      Park position 20:55:22.492 RG610~empty                352.2  10.00\n",
      "   4 dark      Park position 20:56:18.245 RG610~empty                 55.8  5.00\n",
      "   5 dark      Park position 20:59:39.920 RG610~empty                201.7  10.00\n",
      "   7 dark      Park position 21:01:37.230 RG610~empty                117.3  5.00\n",
      "   8 bias      Park position 21:05:28.763 RG610~empty                231.5  0.00\n",
      "   9 bias      Park position 21:05:31.097 RG610~empty                  2.3  0.00\n",
      "  10 bias      Park position 21:05:33.586 RG610~empty                  2.5  0.00\n",
      "  11 bias      Park position 21:05:35.922 RG610~empty                  2.3  0.00\n",
      "  12 bias      Park position 21:06:11.371 RG610~empty                 35.4  0.00\n",
      "  13 bias      Park position 21:06:15.866 RG610~empty                  4.5  0.00\n",
      "  14 bias      Park position 21:06:20.359 RG610~empty                  4.5  0.00\n",
      "  15 bias      Park position 21:06:24.857 RG610~empty                  4.5  0.00\n",
      "  16 bias      Park position 21:06:29.353 RG610~empty                  4.5  0.00\n",
      "  17 bias      Park position 21:06:33.849 RG610~empty                  4.5  0.00\n",
      "  18 bias      Park position 21:06:38.345 RG610~empty                  4.5  0.00\n",
      "  19 bias      Park position 21:06:42.846 RG610~empty                  4.5  0.00\n",
      "  20 bias      Park position 21:06:47.340 RG610~empty                  4.5  0.00\n",
      "  21 bias      Park position 21:06:51.834 RG610~empty                  4.5  0.00\n",
      "  22 bias      Park position 21:06:56.345 RG610~empty                  4.5  0.00\n",
      "  23 bias      Park position 21:07:00.849 RG610~empty                  4.5  0.00\n",
      "  24 bias      Park position 21:07:05.344 RG610~empty                  4.5  0.00\n",
      "  25 bias      Park position 21:07:09.838 RG610~empty                  4.5  0.00\n",
      "  26 bias      Park position 21:07:14.331 RG610~empty                  4.5  0.00\n",
      "  27 bias      Park position 21:07:18.828 RG610~empty                  4.5  0.00\n",
      "  28 bias      Park position 21:07:23.322 RG610~empty                  4.5  0.00\n",
      "  29 bias      Park position 21:07:27.819 RG610~empty                  4.5  0.00\n",
      "  30 bias      Park position 21:07:32.313 RG610~empty                  4.5  0.00\n",
      "  31 bias      Park position 21:07:36.811 RG610~empty                  4.5  0.00\n",
      "  32 bias      Park position 21:07:41.309 RG610~empty                  4.5  0.00\n",
      "  33 bias      Park position 21:07:45.804 RG610~empty                  4.5  0.00\n",
      "  34 bias      Park position 21:07:50.297 RG610~empty                  4.5  0.00\n",
      "  35 bias      Park position 21:07:54.793 RG610~empty                  4.5  0.00\n",
      "  36 bias      Park position 21:07:59.288 RG610~empty                  4.5  0.00\n",
      "  37 bias      Park position 21:08:03.785 RG610~empty                  4.5  0.00\n",
      "  38 bias      Park position 21:08:08.281 RG610~empty                  4.5  0.00\n",
      "  39 bias      Park position 21:08:12.777 RG610~empty                  4.5  0.00\n",
      "  40 bias      Park position 21:08:17.271 RG610~empty                  4.5  0.00\n",
      "  41 bias      Park position 21:08:21.765 RG610~empty                  4.5  0.00\n",
      "  42 bias      Park position 21:08:26.268 RG610~empty                  4.5  0.00\n",
      "  43 bias      Park position 21:08:30.761 RG610~empty                  4.5  0.00\n",
      "  44 bias      Park position 21:08:35.258 RG610~empty                  4.5  0.00\n",
      "  45 bias      Park position 21:08:39.753 RG610~empty                  4.5  0.00\n",
      "  46 bias      Park position 21:08:44.246 RG610~empty                  4.5  0.00\n",
      "  47 bias      Park position 21:08:48.743 RG610~empty                  4.5  0.00\n",
      "  48 bias      Park position 21:08:53.236 RG610~empty                  4.5  0.00\n",
      "  49 bias      Park position 21:08:57.736 RG610~empty                  4.5  0.00\n",
      "  50 bias      Park position 21:09:02.238 RG610~empty                  4.5  0.00\n",
      "  51 bias      Park position 21:09:06.734 RG610~empty                  4.5  0.00\n",
      "  52 bias      Park position 21:09:11.266 RG610~empty                  4.5  0.00\n",
      "  53 bias      Park position 21:09:15.761 RG610~empty                  4.5  0.00\n",
      "  54 bias      Park position 21:09:20.257 RG610~empty                  4.5  0.00\n",
      "  55 bias      Park position 21:09:24.751 RG610~empty                  4.5  0.00\n",
      "  56 bias      Park position 21:09:29.246 RG610~empty                  4.5  0.00\n",
      "  57 bias      Park position 21:09:33.741 RG610~empty                  4.5  0.00\n",
      "  58 bias      Park position 21:09:38.255 RG610~empty                  4.5  0.00\n",
      "  59 bias      Park position 21:09:42.751 RG610~empty                  4.5  0.00\n",
      "  60 bias      Park position 21:09:47.246 RG610~empty                  4.5  0.00\n",
      "  61 bias      Park position 21:09:51.745 RG610~empty                  4.5  0.00\n",
      "  62 dark      Park position 21:11:08.085 RG610~empty                 76.3  10.00\n",
      "  63 dark      Park position 21:11:20.574 RG610~empty                 12.5  10.00\n",
      "  64 dark      Park position 21:11:33.081 RG610~empty                 12.5  10.00\n",
      "  65 dark      Park position 21:11:45.568 RG610~empty                 12.5  10.00\n",
      "  66 dark      Park position 21:11:58.079 RG610~empty                 12.5  10.00\n",
      "  67 dark      Park position 21:12:10.572 RG610~empty                 12.5  10.00\n",
      "  68 dark      Park position 21:12:23.079 RG610~empty                 12.5  10.00\n",
      "  69 dark      Park position 21:12:35.569 RG610~empty                 12.5  10.00\n",
      "  70 dark      Park position 21:12:48.078 RG610~empty                 12.5  10.00\n",
      "  71 dark      Park position 21:13:00.567 RG610~empty                 12.5  10.00\n",
      "  72 flat      FlatField position 21:48:01.682 RG610~empty               2101.1  2.00\n",
      "  73 flat      FlatField position 21:48:06.235 RG610~empty                  4.6  2.00\n",
      "  74 flat      FlatField position 21:48:10.791 RG610~empty                  4.6  2.00\n",
      "  75 flat      FlatField position 21:48:15.359 RG610~empty                  4.6  2.00\n",
      "  76 flat      FlatField position 21:48:19.946 RG610~empty                  4.6  2.00\n",
      "  77 flat      FlatField position 21:48:24.500 RG610~empty                  4.6  2.00\n",
      "  78 flat      FlatField position 21:48:29.068 RG610~empty                  4.6  2.00\n",
      "  79 flat      FlatField position 21:48:33.624 RG610~empty                  4.6  2.00\n",
      "  80 flat      FlatField position 21:48:38.187 RG610~empty                  4.6  2.00\n",
      "  81 flat      FlatField position 21:48:42.741 RG610~empty                  4.6  2.00\n",
      "  82 flat      FlatField position 21:49:32.351 RG610~empty                 49.6  0.20\n",
      "  83 flat      FlatField position 21:49:37.492 RG610~empty                  5.1  0.20\n",
      "  84 flat      FlatField position 21:49:40.465 RG610~empty                  3.0  0.40\n",
      "  85 flat      FlatField position 21:49:45.712 RG610~empty                  5.2  0.40\n",
      "  86 flat      FlatField position 21:49:48.811 RG610~empty                  3.1  0.60\n",
      "  87 flat      FlatField position 21:49:54.234 RG610~empty                  5.4  0.60\n",
      "  88 flat      FlatField position 21:49:57.532 RG610~empty                  3.3  0.80\n",
      "  89 flat      FlatField position 21:50:03.168 RG610~empty                  5.6  0.80\n",
      "  90 flat      FlatField position 21:50:06.624 RG610~empty                  3.5  1.00\n",
      "  91 flat      FlatField position 21:50:12.433 RG610~empty                  5.8  1.00\n",
      "  92 flat      FlatField position 21:50:16.097 RG610~empty                  3.7  1.20\n",
      "  93 flat      FlatField position 21:50:22.108 RG610~empty                  6.0  1.20\n",
      "  94 flat      FlatField position 21:50:25.989 RG610~empty                  3.9  1.40\n",
      "  95 flat      FlatField position 21:50:32.303 RG610~empty                  6.3  1.40\n",
      "  96 flat      FlatField position 21:50:36.402 RG610~empty                  4.1  1.60\n",
      "  97 flat      FlatField position 21:50:42.850 RG610~empty                  6.4  1.60\n",
      "  98 flat      FlatField position 21:50:47.123 RG610~empty                  4.3  1.80\n",
      "  99 flat      FlatField position 21:50:53.728 RG610~empty                  6.6  1.80\n",
      " 100 flat      FlatField position 21:50:58.192 RG610~empty                  4.5  2.00\n",
      " 101 flat      FlatField position 21:51:02.902 RG610~empty                  4.7  2.00\n",
      " 102 flat      FlatField position 21:51:07.582 RG610~empty                  4.7  2.20\n",
      " 103 flat      FlatField position 21:51:12.437 RG610~empty                  4.9  2.20\n",
      " 104 flat      FlatField position 21:51:17.301 RG610~empty                  4.9  2.40\n",
      " 105 flat      FlatField position 21:51:22.353 RG610~empty                  5.1  2.40\n",
      " 106 flat      FlatField position 21:51:27.413 RG610~empty                  5.1  2.60\n",
      " 107 flat      FlatField position 21:51:32.671 RG610~empty                  5.3  2.60\n",
      " 108 flat      FlatField position 21:51:37.928 RG610~empty                  5.3  2.80\n",
      " 109 flat      FlatField position 21:51:43.389 RG610~empty                  5.5  2.80\n",
      " 110 flat      FlatField position 21:51:48.846 RG610~empty                  5.5  3.00\n",
      " 111 flat      FlatField position 21:51:54.501 RG610~empty                  5.7  3.00\n",
      " 112 flat      FlatField position 21:52:00.168 RG610~empty                  5.7  3.20\n",
      " 113 flat      FlatField position 21:52:06.059 RG610~empty                  5.9  3.20\n",
      " 114 flat      FlatField position 21:52:11.963 RG610~empty                  5.9  3.40\n",
      " 115 flat      FlatField position 21:52:18.030 RG610~empty                  6.1  3.40\n",
      " 116 flat      FlatField position 21:52:24.110 RG610~empty                  6.1  3.60\n",
      " 117 flat      FlatField position 21:52:30.368 RG610~empty                  6.3  3.60\n",
      " 118 flat      FlatField position 21:52:36.623 RG610~empty                  6.3  3.80\n",
      " 119 flat      FlatField position 21:52:43.087 RG610~empty                  6.5  3.80\n",
      " 120 flat      FlatField position 21:52:49.554 RG610~empty                  6.5  4.00\n",
      " 121 flat      FlatField position 21:52:56.203 RG610~empty                  6.6  4.00\n",
      " 122 dark      FlatField position 22:02:51.908 RG610~empty                595.7  10.00\n",
      " 124 engtest   HD  44179  22:47:35.218 RG610~empty               2683.3  1.00\n",
      " 125 science   HD  44179  22:48:06.417 RG610~empty                 31.2  1.00\n",
      " 126 engtest   HD  63388  22:51:20.340 RG610~empty                193.9  1.00\n",
      " 127 science   HD  63388  22:51:52.355 RG610~empty                 32.0  1.00\n",
      " 128 engtest   HD  86130  22:52:36.486 RG610~empty                 44.1  1.00\n",
      " 129 science   HD  86130  22:53:07.361 RG610~empty                 30.9  1.00\n",
      " 130 engtest   HD 110535  22:53:53.460 RG610~empty                 46.1  1.00\n",
      " 131 science   HD 110535  22:54:25.418 RG610~empty                 32.0  1.00\n",
      " 132 engtest   HD 128096  22:55:10.730 RG610~empty                 45.3  1.00\n",
      " 133 science   HD 128096  22:55:42.504 RG610~empty                 31.8  1.00\n",
      " 134 engtest   HD 138969  22:56:28.056 RG610~empty                 45.6  1.00\n",
      " 135 science   HD 138969  22:57:00.513 RG610~empty                 32.5  1.00\n",
      " 136 engtest   HD 148646  22:57:50.332 RG610~empty                 49.8  1.00\n",
      " 137 science   HD 148646  22:58:21.507 RG610~empty                 31.2  1.00\n",
      " 138 engtest   HD 150599  22:59:06.503 RG610~empty                 45.0  1.00\n",
      " 139 science   HD 150599  22:59:38.167 RG610~empty                 31.7  1.00\n",
      " 140 engtest   HD  51017  23:00:24.354 RG610~empty                 46.2  1.00\n",
      " 141 science   HD  51017  23:00:56.120 RG610~empty                 31.8  1.00\n",
      " 142 engtest   HD  53190  23:01:42.078 RG610~empty                 46.0  1.00\n",
      " 143 science   HD  53190  23:02:13.405 RG610~empty                 31.3  1.00\n",
      " 144 engtest   HD  69829  23:05:12.309 RG610~empty                178.9  1.00\n",
      " 145 science   HD  69829  23:05:44.268 RG610~empty                 32.0  1.00\n",
      " 146 engtest   HD 105260  23:06:54.374 RG610~empty                 70.1  1.00\n",
      " 147 science   HD 105260  23:07:25.510 RG610~empty                 31.1  1.00\n",
      " 148 engtest   HD 120721  23:08:15.105 RG610~empty                 49.6  1.00\n",
      " 149 science   HD 120721  23:08:46.056 RG610~empty                 31.0  1.00\n",
      " 150 engtest   HD 131010  23:09:35.807 RG610~empty                 49.8  1.00\n",
      " 151 science   HD 131010  23:10:06.708 RG610~empty                 30.9  1.00\n",
      " 152 engtest   HD 133420  23:10:53.327 RG610~empty                 46.6  1.00\n",
      " 153 science   HD 133420  23:11:23.910 RG610~empty                 30.6  1.00\n",
      " 154 engtest   HD 112568  23:12:13.330 RG610~empty                 49.4  1.00\n",
      " 155 science   HD 112568  23:12:44.456 RG610~empty                 31.1  1.00\n",
      " 156 engtest   HD  79514  23:13:29.323 RG610~empty                 44.9  1.00\n",
      " 157 science   HD  79514  23:14:00.408 RG610~empty                 31.1  1.00\n",
      " 158 engtest   HD  76299  23:14:50.467 RG610~empty                 50.1  1.00\n",
      " 159 science   HD  76299  23:15:21.053 RG610~empty                 30.6  1.00\n",
      " 160 engtest   HD  90933  23:18:10.863 RG610~empty                169.8  1.00\n",
      " 161 science   HD  90933  23:18:41.662 RG610~empty                 30.8  1.00\n",
      " 162 engtest   HD 111976  23:19:42.361 RG610~empty                 60.7  1.00\n",
      " 163 science   HD 111976  23:20:12.161 RG610~empty                 29.8  1.00\n",
      " 164 engtest   HD 121971  23:21:08.435 RG610~empty                 56.3  1.00\n",
      " 165 science   HD 121971  23:21:38.959 RG610~empty                 30.5  1.00\n",
      " 166 engtest   HD 115433  23:22:39.483 RG610~empty                 60.5  1.00\n",
      " 167 science   HD 115433  23:23:11.866 RG610~empty                 32.4  1.00\n",
      " 168 engtest   HD  92605  23:24:07.177 RG610~empty                 55.3  1.00\n",
      " 169 science   HD  92605  23:24:39.053 RG610~empty                 31.9  1.00\n",
      " 170 engtest   HD  89749  23:25:55.256 RG610~empty                 76.2  1.00\n",
      " 171 science   HD  89749  23:26:26.058 RG610~empty                 30.8  1.00\n",
      " 172 engtest   HD100257   23:40:53.898 RG610~empty                867.8  20.00\n",
      " 173 engtest   HD100257   23:41:21.270 RG610~empty                 27.4  20.00\n",
      " 174 engtest   HD100257   23:42:59.609 RG610~empty                 98.3  20.00\n",
      " 175 engtest   HD100257   23:43:27.155 RG610~empty                 27.5  20.00\n",
      " 176 science   HD100257   23:45:07.712 RG610~empty                100.6  5.00\n",
      " 177 science   HD100257   23:52:45.446 RG610~empty                457.7  5.00\n",
      " 178 science   HD100257   23:52:54.927 RG610~empty                  9.5  5.00\n",
      " 179 science   HD100257   23:53:04.401 RG610~empty                  9.5  5.00\n",
      " 180 science   HD100257   23:53:13.882 RG610~empty                  9.5  5.00\n",
      " 181 science   HD100257   23:53:23.008 RG610~empty                  9.1  5.00\n",
      " 182 science   HD100257   23:53:32.428 RG610~empty                  9.4  5.00\n",
      " 183 science   HD100257   23:53:41.898 RG610~empty                  9.5  5.00\n",
      " 184 science   HD100257   23:53:51.013 RG610~empty                  9.1  5.00\n",
      " 185 science   HD100257   23:54:00.660 RG610~empty                  9.6  5.00\n",
      " 186 engtest   HD61791    00:04:12.178 RG610~empty                611.5  1.00\n",
      " 187 engtest   HD77558    00:06:16.744 RG610~empty                124.6  1.00\n",
      " 188 engtest   HD77558    00:08:02.272 RG610~empty                105.5  1.00\n",
      " 189 engtest   HD77558    00:09:49.920 RG610~empty                107.6  1.00\n",
      " 190 engtest   HD120278   00:12:30.064 RG610~empty                160.1  1.00\n",
      " 191 engtest   HD  48504  00:18:01.021 RG610~empty                331.0  1.00\n",
      " 192 science   HD  48504  00:18:32.406 RG610~empty                 31.4  1.00\n",
      " 193 engtest   HD  71717  00:19:05.194 RG610~empty                 32.8  1.00\n",
      " 194 science   HD  71717  00:19:36.707 RG610~empty                 31.5  1.00\n",
      " 195 engtest   HD  63910  00:20:09.242 RG610~empty                 32.5  1.00\n",
      " 196 science   HD  63910  00:20:40.263 RG610~empty                 31.0  1.00\n",
      " 197 engtest   HD  91013  00:23:52.366 RG610~empty                192.1  1.00\n",
      " 198 science   HD  91013  00:24:24.213 RG610~empty                 31.8  1.00\n",
      " 199 engtest   HD  83634  00:24:53.561 RG610~empty                 29.3  1.00\n",
      " 200 science   HD  83634  00:25:25.168 RG610~empty                 31.6  1.00\n",
      " 201 engtest   HD  78636  00:25:56.291 RG610~empty                 31.1  1.00\n",
      " 202 science   HD  78636  00:26:27.252 RG610~empty                 31.0  1.00\n",
      " 203 engtest   HD  96871  00:27:08.201 RG610~empty                 40.9  1.00\n",
      " 204 science   HD  96871  00:27:38.608 RG610~empty                 30.4  1.00\n",
      " 205 engtest   HD  95755  00:28:10.109 RG610~empty                 31.5  1.00\n",
      " 206 science   HD  95755  00:28:40.805 RG610~empty                 30.7  1.00\n",
      " 207 engtest   HD 108766  00:29:26.917 RG610~empty                 46.1  1.00\n",
      " 208 science   HD 108766  00:29:58.653 RG610~empty                 31.7  1.00\n",
      " 209 engtest   HD 114402  00:30:30.265 RG610~empty                 31.6  1.00\n",
      " 210 science   HD 114402  00:31:02.266 RG610~empty                 32.0  1.00\n",
      " 211 engtest   HD 117982  00:31:34.660 RG610~empty                 32.4  1.00\n",
      " 212 science   HD 117982  00:32:05.816 RG610~empty                 31.2  1.00\n",
      " 213 engtest   HD 127008  00:32:53.012 RG610~empty                 47.2  1.00\n",
      " 214 science   HD 127008  00:33:23.931 RG610~empty                 30.9  1.00\n",
      " 215 engtest   HD 139861  00:34:07.970 RG610~empty                 44.0  1.00\n",
      " 216 science   HD 139861  00:34:39.807 RG610~empty                 31.8  1.00\n",
      " 217 engtest   HD 132682  00:35:10.911 RG610~empty                 31.1  1.00\n",
      " 218 science   HD 132682  00:35:41.407 RG610~empty                 30.5  1.00\n",
      " 219 engtest   HD 152751  00:36:27.266 RG610~empty                 45.9  1.00\n",
      " 220 science   HD 152751  00:36:59.360 RG610~empty                 32.1  1.00\n",
      " 221 engtest   HD 145878  00:37:28.150 RG610~empty                 28.8  1.00\n",
      " 222 science   HD 145878  00:37:59.305 RG610~empty                 31.2  1.00\n",
      " 223 engtest   HD 135126  00:38:34.313 RG610~empty                 35.0  1.00\n",
      " 224 science   HD 135126  00:39:05.053 RG610~empty                 30.7  1.00\n",
      " 225 engtest   HD 162633  00:39:59.186 RG610~empty                 54.1  1.00\n",
      " 226 science   HD 162633  00:40:30.554 RG610~empty                 31.4  1.00\n",
      " 227 engtest   HD 148009  00:41:05.811 RG610~empty                 35.3  1.00\n",
      " 228 science   HD 148009  00:41:36.511 RG610~empty                 30.7  1.00\n",
      " 229 engtest   HD 161882  00:42:15.313 RG610~empty                 38.8  1.00\n",
      " 230 science   HD 161882  00:42:46.402 RG610~empty                 31.1  1.00\n",
      " 231 engtest   HD 118858  00:43:32.216 RG610~empty                 45.8  1.00\n",
      " 232 science   HD 118858  00:44:03.561 RG610~empty                 31.3  1.00\n",
      " 233 engtest   HD 129776  00:44:36.812 RG610~empty                 33.3  1.00\n",
      " 234 science   HD 129776  00:45:07.759 RG610~empty                 30.9  1.00\n",
      " 235 engtest   HD  83978  00:45:44.185 RG610~empty                 36.4  1.00\n",
      " 236 science   HD  83978  00:46:18.221 RG610~empty                 34.0  1.00\n",
      " 237 engtest   HD  96944  00:47:03.958 RG610~empty                 45.7  1.00\n",
      " 238 science   HD  96944  00:47:36.863 RG610~empty                 32.9  1.00\n",
      " 239 engtest   HD 103076A 00:48:07.254 RG610~empty                 30.4  1.00\n",
      " 240 science   HD 103076A 00:48:38.210 RG610~empty                 31.0  1.00\n",
      " 241 science   HD 118778  00:59:45.681 RG610~empty                667.5  5.00\n",
      " 242 science   HD 118778  01:02:12.295 RG610~empty                146.6  5.00\n",
      " 243 science   HD 119118  01:07:44.664 RG610~empty                332.4  5.00\n",
      " 244 science   HD 119118  01:08:34.816 RG610~empty                 50.2  5.00\n",
      " 245 science   HD 119118  01:09:05.900 RG610~empty                 31.1  5.00\n",
      " 246 science   HD 119118  01:09:43.735 RG610~empty                 37.8  5.00\n",
      " 247 science   HD 119118  01:10:21.549 RG610~empty                 37.8  5.00\n",
      " 248 science   HD 119118  01:10:59.376 RG610~empty                 37.8  5.00\n",
      " 249 science   HD 119118  01:11:37.202 RG610~empty                 37.8  5.00\n",
      " 250 science   HD 119118  01:12:15.029 RG610~empty                 37.8  5.00\n",
      " 251 science   HD 119118  01:12:52.879 RG610~empty                 37.9  5.00\n",
      " 252 science   HD 119118  01:13:30.830 RG610~empty                 38.0  5.00\n",
      " 253 science   HD 119118  01:14:08.683 RG610~empty                 37.9  5.00\n",
      " 254 science   HD 119118  01:14:46.509 RG610~empty                 37.8  5.00\n",
      " 255 science   HD 119118  01:15:24.327 RG610~empty                 37.8  5.00\n",
      " 256 science   HD 119118  01:16:02.142 RG610~empty                 37.8  5.00\n",
      " 257 science   HD 119118  01:16:39.956 RG610~empty                 37.8  5.00\n",
      " 258 science   HD 119118  01:17:17.860 RG610~empty                 37.9  5.00\n",
      " 259 science   HD 119118  01:17:55.688 RG610~empty                 37.8  5.00\n",
      " 260 science   HD 119118  01:18:33.513 RG610~empty                 37.8  5.00\n",
      " 261 science   HD 119118  01:19:11.337 RG610~empty                 37.8  5.00\n",
      " 262 science   HD 119118  01:19:49.187 RG610~empty                 37.8  5.00\n",
      " 263 science   HD 119118  01:20:27.052 RG610~empty                 37.9  5.00\n",
      " 264 science   HD 119118  01:21:04.969 RG610~empty                 37.9  5.00\n",
      " 265 engtest   HD63924    01:32:39.272 RG610~empty                694.3  1.00\n",
      " 266 engtest   HD75942    01:34:34.281 RG610~empty                115.0  1.00\n",
      " 267 engtest   HD119118   01:37:50.134 RG610~empty                195.9  1.00\n",
      " 268 science   HD119118   01:39:35.668 RG610~empty                105.5  5.00\n",
      " 269 science   HD119118   01:40:13.485 RG610~empty                 37.8  5.00\n",
      " 270 science   HD119118   01:40:51.307 RG610~empty                 37.8  5.00\n",
      " 271 science   HD119118   01:41:29.127 RG610~empty                 37.8  5.00\n",
      " 272 science   HD119118   01:42:06.988 RG610~empty                 37.9  5.00\n",
      " 273 science   HD119118   01:42:44.810 RG610~empty                 37.8  5.00\n",
      " 274 science   HD119118   01:43:22.636 RG610~empty                 37.8  5.00\n",
      " 275 science   HD119118   01:44:00.460 RG610~empty                 37.8  5.00\n",
      " 276 science   HD119118   01:44:38.288 RG610~empty                 37.8  5.00\n",
      " 277 science   HD119118   01:45:16.140 RG610~empty                 37.9  5.00\n",
      " 278 science   HD119118   01:45:54.001 RG610~empty                 37.9  5.00\n",
      " 279 science   HD119118   01:46:31.824 RG610~empty                 37.8  5.00\n",
      " 280 science   HD119118   01:47:09.657 RG610~empty                 37.8  5.00\n",
      " 281 science   HD119118   01:47:47.473 RG610~empty                 37.8  5.00\n",
      " 282 science   HD119118   01:48:25.288 RG610~empty                 37.8  5.00\n",
      " 283 science   HD119118   01:49:03.158 RG610~empty                 37.9  5.00\n",
      " 284 science   HD119118   01:49:40.985 RG610~empty                 37.8  5.00\n",
      " 285 science   HD119118   01:50:18.801 RG610~empty                 37.8  5.00\n",
      " 286 science   HD119118   01:50:56.626 RG610~empty                 37.8  5.00\n",
      " 287 science   HD119118   01:51:34.483 RG610~empty                 37.9  5.00\n",
      " 288 science   HD 188814  01:59:48.622 RG610~empty                494.1  5.00\n",
      " 289 science   HD 188814  02:00:39.575 RG610~empty                 51.0  5.00\n",
      " 290 science   HD 188814  02:01:17.402 RG610~empty                 37.8  5.00\n",
      " 291 science   HD 188814  02:01:55.205 RG610~empty                 37.8  5.00\n",
      " 292 science   HD 188814  02:02:33.032 RG610~empty                 37.8  5.00\n",
      " 293 science   HD 188814  02:03:10.859 RG610~empty                 37.8  5.00\n",
      " 294 science   HD 188814  02:03:48.760 RG610~empty                 37.9  5.00\n",
      " 295 science   HD 188814  02:04:26.587 RG610~empty                 37.8  5.00\n",
      " 296 science   HD 188814  02:05:04.417 RG610~empty                 37.8  5.00\n",
      " 297 science   HD 188814  02:05:42.225 RG610~empty                 37.8  5.00\n",
      " 298 science   HD 188814  02:06:20.153 RG610~empty                 37.9  5.00\n",
      " 299 science   HD 188814  02:06:57.975 RG610~empty                 37.8  5.00\n",
      " 300 science   HD 188814  02:07:35.799 RG610~empty                 37.8  5.00\n",
      " 301 science   HD 188814  02:08:13.607 RG610~empty                 37.8  5.00\n",
      " 302 science   HD 188814  02:08:51.424 RG610~empty                 37.8  5.00\n",
      " 303 science   HD 188814  02:09:29.369 RG610~empty                 37.9  5.00\n",
      " 304 science   HD 188814  02:10:07.199 RG610~empty                 37.8  5.00\n",
      " 305 science   HD 188814  02:10:45.019 RG610~empty                 37.8  5.00\n",
      " 306 science   HD 188814  02:11:22.848 RG610~empty                 37.8  5.00\n",
      " 307 science   HD 188814  02:12:00.671 RG610~empty                 37.8  5.00\n",
      " 308 science   HD 188814  02:12:38.528 RG610~empty                 37.9  5.00\n",
      " 309 science   HD 296854  02:16:14.480 RG610~empty                216.0  5.00\n",
      " 310 science   HD 296854  02:16:43.750 RG610~empty                 29.3  5.00\n",
      " 311 science   HD 296854  02:17:21.684 RG610~empty                 37.9  5.00\n",
      " 312 science   HD 296854  02:17:59.530 RG610~empty                 37.8  5.00\n",
      " 313 science   HD 296854  02:18:37.366 RG610~empty                 37.8  5.00\n",
      " 314 science   HD 296854  02:19:15.192 RG610~empty                 37.8  5.00\n",
      " 315 science   HD 296854  02:19:53.112 RG610~empty                 37.9  5.00\n",
      " 316 science   HD 296854  02:20:30.925 RG610~empty                 37.8  5.00\n",
      " 317 science   HD 296854  02:21:08.740 RG610~empty                 37.8  5.00\n",
      " 318 science   HD 296854  02:21:46.551 RG610~empty                 37.8  5.00\n",
      " 319 science   HD 296854  02:22:24.361 RG610~empty                 37.8  5.00\n",
      " 320 science   HD 296854  02:23:02.234 RG610~empty                 37.9  5.00\n",
      " 321 science   HD 296854  02:23:40.053 RG610~empty                 37.8  5.00\n",
      " 322 science   HD 296854  02:24:17.879 RG610~empty                 37.8  5.00\n",
      " 323 science   HD 296854  02:24:55.700 RG610~empty                 37.8  5.00\n",
      " 324 science   HD 296854  02:25:33.521 RG610~empty                 37.8  5.00\n",
      " 325 science   HD 296854  02:26:11.426 RG610~empty                 37.9  5.00\n",
      " 326 science   HD 296854  02:26:49.294 RG610~empty                 37.9  5.00\n",
      " 327 science   HD 296854  02:27:27.118 RG610~empty                 37.8  5.00\n",
      " 328 science   HD 296854  02:28:04.935 RG610~empty                 37.8  5.00\n",
      " 329 science   HD 296854  02:28:42.790 RG610~empty                 37.9  5.00\n",
      " 330 science   TYC5502-224-1 02:33:59.983 RG610~empty                317.2  5.00\n",
      " 331 science   TYC5502-224-1 02:35:22.676 RG610~empty                 82.7  5.00\n",
      " 332 science   TYC5502-224-1 02:36:00.594 RG610~empty                 37.9  5.00\n",
      " 333 science   TYC5502-224-1 02:36:38.400 RG610~empty                 37.8  5.00\n",
      " 334 science   TYC5502-224-1 02:37:16.220 RG610~empty                 37.8  5.00\n",
      " 335 science   TYC5502-224-1 02:37:54.052 RG610~empty                 37.8  5.00\n",
      " 336 science   TYC5502-224-1 02:38:31.919 RG610~empty                 37.9  5.00\n",
      " 337 science   TYC5502-224-1 02:39:09.741 RG610~empty                 37.8  5.00\n",
      " 338 science   TYC5502-224-1 02:39:47.563 RG610~empty                 37.8  5.00\n",
      " 339 science   TYC5502-224-1 02:40:25.379 RG610~empty                 37.8  5.00\n",
      " 340 science   TYC5502-224-1 02:41:03.204 RG610~empty                 37.8  5.00\n",
      " 341 science   TYC5502-224-1 02:41:41.006 RG610~empty                 37.8  5.00\n",
      " 342 science   TYC5502-224-1 02:42:18.884 RG610~empty                 37.9  5.00\n",
      " 343 science   TYC5502-224-1 02:42:56.706 RG610~empty                 37.8  5.00\n",
      " 344 science   TYC5502-224-1 02:43:34.522 RG610~empty                 37.8  5.00\n",
      " 345 science   TYC5502-224-1 02:44:12.337 RG610~empty                 37.8  5.00\n",
      " 346 science   TYC5502-224-1 02:44:50.169 RG610~empty                 37.8  5.00\n",
      " 347 science   TYC5502-224-1 02:45:28.060 RG610~empty                 37.9  5.00\n",
      " 348 science   TYC5502-224-1 02:46:05.881 RG610~empty                 37.8  5.00\n",
      " 349 science   TYC5502-224-1 02:46:43.707 RG610~empty                 37.8  5.00\n",
      " 350 science   TYC5502-224-1 02:47:21.529 RG610~empty                 37.8  5.00\n",
      " 351 science   HD175944   02:50:54.089 RG610~empty                212.6  5.00\n",
      " 352 science   HD175944   02:53:37.835 RG610~empty                163.7  5.00\n",
      " 353 science   HD175944   02:54:15.662 RG610~empty                 37.8  5.00\n",
      " 354 science   HD175944   02:54:53.485 RG610~empty                 37.8  5.00\n",
      " 355 science   HD175944   02:55:31.423 RG610~empty                 37.9  5.00\n",
      " 356 science   HD175944   02:56:09.238 RG610~empty                 37.8  5.00\n",
      " 357 science   HD175944   02:56:47.052 RG610~empty                 37.8  5.00\n",
      " 358 science   HD175944   02:57:24.870 RG610~empty                 37.8  5.00\n",
      " 359 science   HD175944   02:58:02.685 RG610~empty                 37.8  5.00\n",
      " 360 science   HD175944   02:58:40.593 RG610~empty                 37.9  5.00\n",
      " 361 science   HD175944   02:59:18.399 RG610~empty                 37.8  5.00\n",
      " 362 science   HD175944   02:59:56.223 RG610~empty                 37.8  5.00\n",
      " 363 science   HD175944   03:00:34.052 RG610~empty                 37.8  5.00\n",
      " 364 science   HD175944   03:01:11.879 RG610~empty                 37.8  5.00\n",
      " 365 science   HD175944   03:01:49.743 RG610~empty                 37.9  5.00\n",
      " 366 science   HD175944   03:02:27.566 RG610~empty                 37.8  5.00\n",
      " 367 science   HD175944   03:03:05.384 RG610~empty                 37.8  5.00\n",
      " 368 science   HD175944   03:03:43.198 RG610~empty                 37.8  5.00\n",
      " 369 science   HD175944   03:04:21.008 RG610~empty                 37.8  5.00\n",
      " 370 science   HD175944   03:04:58.872 RG610~empty                 37.9  5.00\n",
      " 371 science   HD175944   03:05:36.734 RG610~empty                 37.9  5.00\n",
      " 372 science   HD175944   03:08:23.685 empty~ronchi90lpmm         167.0  10.00\n",
      " 373 science   HD163142   03:12:08.866 RG610~empty                225.2  5.00\n",
      " 374 science   HD163142   03:14:29.917 RG610~empty                141.1  5.00\n",
      " 375 engtest   HD 163142  03:21:13.406 RG610~empty                403.5  5.00\n",
      " 376 engtest   HD 153232  03:21:32.614 RG610~empty                 19.2  5.00\n",
      " 377 engtest   HD 163142  03:23:48.608 RG610~empty                136.0  5.00\n",
      " 378 engtest   HD 153232  03:24:10.825 RG610~empty                 22.2  5.00\n",
      " 379 engtest   HD 163142  03:25:13.459 RG610~empty                 62.6  5.00\n",
      " 380 engtest   HD 153232  03:25:35.657 RG610~empty                 22.2  5.00\n",
      " 381 engtest   HD 163142  03:25:57.812 RG610~empty                 22.2  5.00\n",
      " 382 engtest   HD 153232  03:26:19.805 RG610~empty                 22.0  5.00\n",
      " 383 engtest   HD 163142  03:26:41.705 RG610~empty                 21.9  5.00\n",
      " 384 engtest   HD 153232  03:27:03.828 RG610~empty                 22.1  5.00\n",
      " 385 engtest   HD 163142  03:27:25.702 RG610~empty                 21.9  5.00\n",
      " 386 engtest   HD 153232  03:27:47.737 RG610~empty                 22.0  5.00\n",
      " 387 engtest   HD 163142  03:28:09.852 RG610~empty                 22.1  5.00\n",
      " 388 engtest   HD 153232  03:28:31.993 RG610~empty                 22.1  5.00\n",
      " 389 engtest   HD 163142  03:28:54.106 RG610~empty                 22.1  5.00\n",
      " 390 engtest   HD 153232  03:29:16.308 RG610~empty                 22.2  5.00\n",
      " 391 engtest   HD 163142  03:29:38.406 RG610~empty                 22.1  5.00\n",
      " 392 engtest   HD 153232  03:30:00.559 RG610~empty                 22.2  5.00\n",
      " 393 engtest   HD 163142  03:30:22.654 RG610~empty                 22.1  5.00\n",
      " 394 engtest   HD 153232  03:30:44.807 RG610~empty                 22.2  5.00\n",
      " 395 engtest   HD 163142  03:31:06.941 RG610~empty                 22.1  5.00\n",
      " 396 engtest   HD 153232  03:31:28.650 RG610~empty                 21.7  5.00\n",
      " 397 engtest   HD 163142  03:31:50.748 RG610~empty                 22.1  5.00\n",
      " 398 engtest   HD 153232  03:32:12.803 RG610~empty                 22.1  5.00\n",
      " 399 engtest   HD 149422  03:39:42.060 RG610~empty                449.3  5.00\n",
      " 400 engtest   HD 311268  03:40:52.791 RG610~empty                 70.7  5.00\n",
      " 401 engtest   HD 311268  03:43:43.456 RG610~empty                170.7  5.00\n",
      " 402 engtest   HD 151076  04:01:07.858 RG610~empty               1044.4  5.00\n",
      " 403 engtest   HD  91558  04:02:03.789 RG610~empty                 55.9  5.00\n",
      " 404 engtest   HD 151076  04:03:58.838 RG610~empty                115.0  5.00\n",
      " 405 engtest   HD  91558  04:04:54.159 RG610~empty                 55.3  5.00\n",
      " 406 engtest   HD 151076  04:05:48.211 RG610~empty                 54.1  5.00\n",
      " 407 engtest   HD  91558  04:06:43.406 RG610~empty                 55.2  5.00\n",
      " 408 engtest   HD 126923  04:09:26.564 RG610~empty                163.2  1.00\n",
      " 409 science   HD 126923  04:09:58.310 RG610~empty                 31.7  1.00\n",
      " 410 engtest   HD 131366  04:18:13.538 RG610~empty                495.2  1.00\n",
      " 411 engtest   HD 130990  04:21:15.639 RG610~empty                182.1  1.00\n",
      " 412 science   HD 130990  04:21:46.606 RG610~empty                 31.0  1.00\n",
      " 413 engtest   HD 146832  04:22:37.610 RG610~empty                 51.0  1.00\n",
      " 414 science   HD 146832  04:23:08.312 RG610~empty                 30.7  1.00\n",
      " 415 engtest   HD 149163  04:23:38.060 RG610~empty                 29.7  1.00\n",
      " 416 science   HD 149163  04:24:09.205 RG610~empty                 31.1  1.00\n",
      " 417 engtest   CCDM J18146-1113AB 04:25:06.667 RG610~empty                 57.5  1.00\n",
      " 418 science   CCDM J18146-1113AB 04:25:37.206 RG610~empty                 30.5  1.00\n",
      " 419 engtest   HD 161486  04:26:09.858 RG610~empty                 32.7  1.00\n",
      " 420 science   HD 161486  04:26:41.060 RG610~empty                 31.2  1.00\n",
      " 421 engtest   HD 165223  04:27:17.078 RG610~empty                 36.0  1.00\n",
      " 422 science   HD 165223  04:27:47.522 RG610~empty                 30.4  1.00\n",
      " 423 engtest   HD 176516  04:28:35.710 RG610~empty                 48.2  1.00\n",
      " 424 science   HD 176516  04:29:05.969 RG610~empty                 30.3  1.00\n",
      " 425 engtest   HD 157888  04:29:59.666 RG610~empty                 53.7  1.00\n",
      " 426 science   HD 157888  04:30:30.656 RG610~empty                 31.0  1.00\n",
      " 427 engtest   HD 158568  04:30:56.366 RG610~empty                 25.7  1.00\n",
      " 428 science   HD 158568  04:31:26.861 RG610~empty                 30.5  1.00\n",
      " 429 engtest   HD 154769  04:32:07.219 RG610~empty                 40.4  1.00\n",
      " 430 science   HD 154769  04:32:38.765 RG610~empty                 31.5  1.00\n",
      " 431 engtest   HD 136964  04:33:37.717 RG610~empty                 59.0  1.00\n",
      " 432 science   HD 136964  04:34:09.511 RG610~empty                 31.8  1.00\n",
      " 433 engtest   HD 144666  04:34:36.256 RG610~empty                 26.7  1.00\n",
      " 434 science   HD 144666  04:35:07.904 RG610~empty                 31.6  1.00\n",
      " 435 engtest   HD 150368  04:38:21.424 RG610~empty                193.5  1.00\n",
      " 436 science   HD 150368  04:38:53.908 RG610~empty                 32.5  1.00\n",
      " 437 engtest   HD 144527  04:43:04.699 RG610~empty                250.8  1.00\n",
      " 438 science   HD 144527  04:43:36.650 RG610~empty                 32.0  1.00\n",
      " 439 engtest   HD 154190  04:44:43.574 RG610~empty                 66.9  1.00\n",
      " 440 science   HD 154190  04:45:15.357 RG610~empty                 31.8  1.00\n",
      " 441 engtest   HD 163647  04:46:30.163 RG610~empty                 74.8  1.00\n",
      " 442 science   HD 163647  04:47:02.057 RG610~empty                 31.9  1.00\n",
      " 443 engtest   HD 162392  04:48:13.860 RG610~empty                 71.8  1.00\n",
      " 444 science   HD 162392  04:48:47.252 RG610~empty                 33.4  1.00\n",
      " 445 engtest   HD 153232  04:49:59.729 RG610~empty                 72.5  1.00\n",
      " 446 science   HD 153232  04:50:31.865 RG610~empty                 32.1  1.00\n",
      " 447 engtest   HD 152455  04:53:24.258 RG610~empty                172.4  1.00\n",
      " 448 science   HD 152455  04:53:57.327 RG610~empty                 33.1  1.00\n"
     ]
    }
   ],
   "source": [
    "reporter.printObsTable()"
   ]
  },
  {
   "cell_type": "markdown",
   "id": "54b97ed5",
   "metadata": {},
   "source": [
    "# Butler"
   ]
  },
  {
   "cell_type": "markdown",
   "id": "718fcc62",
   "metadata": {},
   "source": [
    "## Configuration for Butler"
   ]
  },
  {
   "cell_type": "code",
   "execution_count": 14,
   "id": "d776596c",
   "metadata": {},
   "outputs": [],
   "source": [
    "#butler=dafPersist.Butler(\"/project/shared/auxTel\")\n",
    "butler=dafPersist.Butler(repoDir)"
   ]
  },
  {
   "cell_type": "markdown",
   "id": "3d35c2fc",
   "metadata": {},
   "source": [
    "## Sequence selection"
   ]
  },
  {
   "cell_type": "code",
   "execution_count": 15,
   "id": "a008ce65",
   "metadata": {},
   "outputs": [],
   "source": [
    "all_myseq_holo=range(223,373)\n",
    "all_myseq=all_myseq_holo"
   ]
  },
  {
   "cell_type": "code",
   "execution_count": 16,
   "id": "b35b8019",
   "metadata": {},
   "outputs": [],
   "source": [
    "seqNum=all_myseq_holo[0]"
   ]
  },
  {
   "cell_type": "code",
   "execution_count": 17,
   "id": "56b76137",
   "metadata": {},
   "outputs": [
    {
     "data": {
      "text/plain": [
       "223"
      ]
     },
     "execution_count": 17,
     "metadata": {},
     "output_type": "execute_result"
    }
   ],
   "source": [
    "seqNum"
   ]
  },
  {
   "cell_type": "markdown",
   "id": "35515e98",
   "metadata": {},
   "source": [
    "## Display"
   ]
  },
  {
   "cell_type": "code",
   "execution_count": 18,
   "id": "07834abf",
   "metadata": {},
   "outputs": [
    {
     "data": {
      "text/html": [
       "Open your web browser to <a href=\"https://lsst-lsp-stable.ncsa.illinois.edu/portal/app/slate.html?__wsch=sylviedc_debug_2021_06_08\"\" target=\"_blank\">this link</a>"
      ],
      "text/plain": [
       "<IPython.core.display.HTML object>"
      ]
     },
     "metadata": {},
     "output_type": "display_data"
    }
   ],
   "source": [
    "display1=afwDisplay.getDisplay(frame=1,port=80,name='sylviedc_debug_2021_06_08',url=os.environ[\"FIREFLY_URL\"])"
   ]
  },
  {
   "cell_type": "code",
   "execution_count": 19,
   "id": "78c9f01b",
   "metadata": {},
   "outputs": [],
   "source": [
    "raw=butler.get('raw',dayObs=dayObs,seqNum=seqNum)"
   ]
  },
  {
   "cell_type": "code",
   "execution_count": 20,
   "id": "32dedfad",
   "metadata": {},
   "outputs": [],
   "source": [
    "display1.mtv(raw)"
   ]
  },
  {
   "cell_type": "code",
   "execution_count": 21,
   "id": "f3f00e2b",
   "metadata": {},
   "outputs": [
    {
     "data": {
      "text/html": [
       "Open your web browser to <a href=\"https://lsst-lsp-stable.ncsa.illinois.edu/portal/app/slate.html?__wsch=sylviedc_debug_2021_06_08\"\" target=\"_blank\">this link</a>"
      ],
      "text/plain": [
       "<IPython.core.display.HTML object>"
      ]
     },
     "metadata": {},
     "output_type": "display_data"
    }
   ],
   "source": [
    "display1.getClient().display_url()"
   ]
  },
  {
   "cell_type": "code",
   "execution_count": 22,
   "id": "9a1b0d1a",
   "metadata": {},
   "outputs": [
    {
     "name": "stdout",
     "output_type": "stream",
     "text": [
      "[1, 2, 4, 5, 7, 8, 10, 11, 9, 12, 15, 16, 13, 14, 21, 20, 18, 19, 17, 24, 22, 25, 23, 26, 28, 27, 31, 30, 32, 29, 34, 36, 37, 35, 33, 45, 42, 40, 38, 41, 44, 39, 43, 49, 50, 48, 47, 51, 46, 53, 57, 55, 54, 56, 52, 59, 60, 58, 61, 62, 63, 65, 64, 66, 67, 68, 69, 71, 70, 72, 74, 73, 76, 75, 78, 79, 80, 81, 77, 82, 83, 85, 84, 86, 88, 87, 90, 91, 89, 97, 96, 92, 93, 94, 95, 98, 99, 101, 102, 100, 103, 106, 107, 108, 104, 105, 109, 113, 112, 111, 114, 110, 115, 118, 117, 116, 121, 119, 120, 122, 124, 125, 126, 127, 128, 129, 130, 131, 132, 133, 134, 135, 136, 137, 138, 139, 140, 141, 142, 143, 144, 145, 146, 147, 148, 149, 150, 151, 152, 153, 154, 155, 156, 157, 158, 159, 160, 161, 162, 163, 164, 165, 166, 167, 168, 169, 170, 171, 172, 173, 174, 175, 176, 177, 179, 178, 181, 180, 183, 182, 185, 184, 186, 187, 188, 189, 190, 191, 192, 193, 194, 195, 196, 197, 198, 199, 200, 201, 202, 203, 204, 205, 206, 207, 208, 209, 210, 211, 212, 213, 214, 215, 216, 217, 218, 219, 220, 221, 222, 223, 224, 225, 226, 227, 228, 229, 230, 231, 232, 233, 234, 235, 236, 237, 238, 239, 240, 241, 242, 243, 244, 245, 246, 247, 248, 249, 250, 251, 252, 253, 254, 255, 256, 257, 258, 259, 260, 261, 262, 263, 264, 265, 266, 267, 268, 269, 270, 271, 272, 273, 274, 275, 276, 277, 278, 279, 280, 281, 282, 283, 284, 285, 286, 287, 288, 289, 290, 291, 292, 293, 294, 295, 296, 297, 298, 299, 300, 301, 302, 303, 304, 305, 306, 307, 308, 309, 310, 311, 312, 313, 314, 315, 316, 317, 318, 319, 320, 321, 322, 323, 324, 325, 326, 327, 328, 329, 330, 331, 332, 333, 334, 335, 336, 337, 338, 339, 340, 341, 342, 343, 344, 345, 346, 347, 348, 349, 350, 351, 352, 353, 354, 355, 356, 357, 358, 359, 360, 361, 362, 363, 364, 365, 366, 367, 368, 369, 370, 371, 372, 373, 374, 375, 376, 377, 378, 379, 380, 381, 382, 383, 384, 385, 386, 387, 388, 389, 390, 391, 392, 393, 394, 395, 396, 397, 398, 399, 400, 401, 402, 403, 404, 405, 406, 407, 408, 409, 410, 411, 412, 413, 414, 415, 416, 417, 418, 419, 420, 421, 422, 423, 424, 425, 426, 427, 428, 429, 430, 431, 432, 433, 434, 435, 436, 437, 438, 439, 440, 441, 442, 443, 444, 445, 446, 447, 448]\n"
     ]
    }
   ],
   "source": [
    "print(butler.queryMetadata('raw','seqNum',dayObs=dayObs))"
   ]
  },
  {
   "cell_type": "code",
   "execution_count": 23,
   "id": "c7694c31",
   "metadata": {},
   "outputs": [],
   "source": [
    "#exp=butler.get('quickLookExp',dayObs=dayObs,seqNum=seqNum)"
   ]
  },
  {
   "cell_type": "markdown",
   "id": "d26e2808",
   "metadata": {},
   "source": [
    "## Meta Data"
   ]
  },
  {
   "cell_type": "code",
   "execution_count": 24,
   "id": "a1e3b807",
   "metadata": {},
   "outputs": [],
   "source": [
    "md=butler.get(\"raw_md\",dayObs=dayObs,seqNum=seqNum)"
   ]
  },
  {
   "cell_type": "code",
   "execution_count": 25,
   "id": "1e970cde",
   "metadata": {},
   "outputs": [
    {
     "data": {
      "text/plain": [
       "{'SIMPLE': True,\n",
       " 'EXTEND': True,\n",
       " 'COMMENT': [\"  FITS (Flexible Image Transport System) format is defined in 'Astronomy\",\n",
       "  \"  and Astrophysics', volume 376, page 359; bibcode: 2001A&A...376..359H\",\n",
       "  \"= '        '\",\n",
       "  '---- Date, night and basic image information ----',\n",
       "  \"= '        '\",\n",
       "  '---- Telescope info, location, observer ----',\n",
       "  \"= '        '\",\n",
       "  '---- Pointing info, etc. ----',\n",
       "  \"= '        '\",\n",
       "  '---- TAN Projection ----',\n",
       "  \"= '        '\",\n",
       "  '---- Image-identifying used to build OBS-ID ----',\n",
       "  \"= '        '\",\n",
       "  '---- Test Stand information ----',\n",
       "  \"= '        '\",\n",
       "  '---- Information from Camera (Common block) ----',\n",
       "  \"= '        '\",\n",
       "  '---- Information from Camera ----',\n",
       "  \"= '        '\",\n",
       "  '---- Filter/grating information ----',\n",
       "  \"= '        '\",\n",
       "  '---- Exposure-related information ----',\n",
       "  \"= '        '\",\n",
       "  '---- Weather information ----',\n",
       "  \"= '        '\",\n",
       "  '---- Header information ----',\n",
       "  \"= '        '\",\n",
       "  '---- Checksums ----',\n",
       "  '---- Information from Camera per sensor ----',\n",
       "  \"= '        '\",\n",
       "  '---- Geometry from Camera ----'],\n",
       " 'ORIGIN': 'LSST DM Header Service',\n",
       " 'TIMESYS': 'TAI',\n",
       " 'DATE': '2021-06-10T00:38:01.173',\n",
       " 'DATE-OBS': '2021-06-10T00:38:34.313',\n",
       " 'DATE-BEG': '2021-06-10T00:38:34.313',\n",
       " 'DATE-END': '2021-06-10T00:38:35.543',\n",
       " 'MJD': 59375.0264024612,\n",
       " 'MJD-OBS': 59375.0267860286,\n",
       " 'MJD-BEG': 59375.0267860286,\n",
       " 'MJD-END': 59375.0268002635,\n",
       " 'OBSID': 'AT_O_20210609_000223',\n",
       " 'GROUPID': '2021-06-10T00:38:34.144',\n",
       " 'IMGTYPE': 'ENGTEST',\n",
       " 'BUNIT': 'adu',\n",
       " 'FACILITY': 'Vera C. Rubin Observatory',\n",
       " 'TELESCOP': 'LSST AuxTelescope',\n",
       " 'INSTRUME': 'LATISS',\n",
       " 'OBSERVER': 'LSST',\n",
       " 'OBS-LONG': -70.749417,\n",
       " 'OBS-LAT': -30.244639,\n",
       " 'OBS-ELEV': 2663.0,\n",
       " 'OBSGEO-X': 1818938.94,\n",
       " 'OBSGEO-Y': -5208470.95,\n",
       " 'OBSGEO-Z': -3195172.08,\n",
       " 'RA': 228.6791925,\n",
       " 'DEC': -33.8999172222222,\n",
       " 'RASTART': 228.679439407377,\n",
       " 'DECSTART': -33.8999989754254,\n",
       " 'RAEND': 228.679390924816,\n",
       " 'DECEND': -33.9000575878557,\n",
       " 'ROTPA': 359.100103056873,\n",
       " 'ROTCOORD': 'sky',\n",
       " 'HASTART': -2.11215954590292,\n",
       " 'ELSTART': 63.0720429702633,\n",
       " 'AZSTART': 106.20822377922,\n",
       " 'AMSTART': 1.1212469061701,\n",
       " 'HAEND': -2.11104312878452,\n",
       " 'ELEND': 63.0859135671344,\n",
       " 'AZEND': 106.207908172626,\n",
       " 'AMEND': 1.12110958463852,\n",
       " 'INSTPORT': 2,\n",
       " 'ATM3PORT': 2,\n",
       " 'TRACKSYS': 'SIDEREAL',\n",
       " 'RADESYS': 'ICRS',\n",
       " 'FOCUSZ': 0.0678316727280617,\n",
       " 'OBJECT': 'HD 135126',\n",
       " 'DOMEAZ': 106.96,\n",
       " 'SHUTLOWR': 100.0,\n",
       " 'SHUTUPPR': 100.0,\n",
       " 'WCSAXES': 2,\n",
       " 'CTYPE1': 'RA---TAN',\n",
       " 'CTYPE2': 'DEC--TAN',\n",
       " 'CUNIT1': 'deg',\n",
       " 'CUNIT2': 'deg',\n",
       " 'CRVAL1': 228.6791925,\n",
       " 'CRVAL2': -33.8999172222222,\n",
       " 'CRPIX1': 2000.0,\n",
       " 'CRPIX2': 2036.0,\n",
       " 'CD1_1': 0.0603450693215858,\n",
       " 'CD1_2': -0.0859271354612326,\n",
       " 'CD2_1': 0.0859271354612326,\n",
       " 'CD2_2': 0.0603450693215858,\n",
       " 'EQUINOX': 2000.0,\n",
       " 'CAMCODE': 'AT',\n",
       " 'CONTRLLR': 'O',\n",
       " 'DAYOBS': '20210609',\n",
       " 'SEQNUM': 223,\n",
       " 'TESTTYPE': None,\n",
       " 'TSTAND': None,\n",
       " 'IMAGETAG': '832adc859da13005',\n",
       " 'OBSANNOT': '',\n",
       " 'TEMP_SET': -94.1500015258789,\n",
       " 'CCDTEMP': -90.2735137939453,\n",
       " 'FILTBAND': 'Empty',\n",
       " 'FILTER': 'RG610',\n",
       " 'FILTSLOT': 3,\n",
       " 'GRATING': 'empty_1',\n",
       " 'GRATBAND': 'Empty',\n",
       " 'GRATSLOT': 0,\n",
       " 'LINSPOS': -324.403015136719,\n",
       " 'EXPTIME': 1.0,\n",
       " 'SHUTTIME': None,\n",
       " 'DARKTIME': 1.31878471374512,\n",
       " 'AIRTEMP': 5.8,\n",
       " 'PRESSURE': 745.15,\n",
       " 'HUMIDITY': 16.0,\n",
       " 'WINDSPD': 7.1,\n",
       " 'WINDDIR': 317.0,\n",
       " 'SEEING': None,\n",
       " 'FILENAME': 'AT_O_20210609_000223.fits',\n",
       " 'HEADVER': '2.9.1',\n",
       " 'CHECKSUM': None,\n",
       " 'DATASUM': None,\n",
       " 'CCD_MANU': 'ITL',\n",
       " 'CCD_TYPE': 2,\n",
       " 'CCD_SERN': '20862',\n",
       " 'LSST_NUM': 'ITL-3800C-068',\n",
       " 'SEQCKSUM': '2552520002',\n",
       " 'SEQNAME': 'FP_ITL_2s_ir2_v25.seq',\n",
       " 'REBNAME': 'Unknown',\n",
       " 'CONTNUM': '412227310',\n",
       " 'CCDSLOT': 'S00',\n",
       " 'RAFTBAY': 'R00',\n",
       " 'OVERH': 64,\n",
       " 'OVERV': 48,\n",
       " 'PREH': 0,\n",
       " 'XTENSION': 'IMAGE',\n",
       " 'BITPIX': 32,\n",
       " 'NAXIS': 2,\n",
       " 'NAXIS1': 576,\n",
       " 'NAXIS2': 2048,\n",
       " 'PCOUNT': 0,\n",
       " 'GCOUNT': 1,\n",
       " 'INHERIT': True,\n",
       " 'EXTNAME': 'Segment10',\n",
       " 'DATASEC': '[1:509,1:2000]',\n",
       " 'DETSEC': '[509:1,1:2000]',\n",
       " 'DETSIZE': '[1:4072,1:4000]',\n",
       " 'DTV1': 510,\n",
       " 'DTV2': 0,\n",
       " 'DTM1_1': -1.0,\n",
       " 'DTM2_2': 1.0,\n",
       " 'DTM1_2': 0,\n",
       " 'DTM2_1': 0,\n",
       " 'HIERARCH ASTRO METADATA FIX MODIFIED': True,\n",
       " 'HIERARCH ASTRO METADATA FIX DATE': '2021-06-11T12:24:49.723598',\n",
       " 'HIERARCH ASTRO METADATA FIX VERSION': 'w.2021.21-1-g951e521'}"
      ]
     },
     "execution_count": 25,
     "metadata": {},
     "output_type": "execute_result"
    }
   ],
   "source": [
    "md.toDict()"
   ]
  },
  {
   "cell_type": "markdown",
   "id": "5aa7c114",
   "metadata": {},
   "source": [
    "# Start"
   ]
  },
  {
   "cell_type": "code",
   "execution_count": 26,
   "id": "e0d17b69",
   "metadata": {},
   "outputs": [],
   "source": [
    "plt.rcParams[\"axes.labelsize\"] = 'large'\n",
    "plt.rcParams['axes.titlesize'] = 'large'\n",
    "plt.rcParams['xtick.labelsize']= 'large'\n",
    "plt.rcParams['ytick.labelsize']= 'large'"
   ]
  },
  {
   "cell_type": "code",
   "execution_count": 27,
   "id": "8513d182",
   "metadata": {},
   "outputs": [],
   "source": [
    "all_my_raw_array=[]\n",
    "all_my_header=[]\n",
    "all_my_object=[]\n",
    "all_my_seq=[]\n",
    "all_my_grating=[]\n",
    "all_my_filter=[]\n",
    "all_my_date=[]\n",
    "\n",
    "\n",
    "for seqNum in all_myseq:\n",
    "    raw=butler.get('raw',dayObs=dayObs,seqNum=seqNum)\n",
    "    md=butler.get(\"raw_md\",dayObs=dayObs,seqNum=seqNum)\n",
    "    \n",
    "    header=md.toDict()\n",
    "    \n",
    "    #decode header\n",
    "    \n",
    "    obj_name=header['OBJECT']\n",
    "    obj_name2 = ''.join(obj_name.split())\n",
    "    grating=header['GRATING']\n",
    "    obsid=header['OBSID']\n",
    "    date=obsid.replace('AT_O_','') # remove pre-tag to get date only and seqnum\n",
    "    filter_name=header['FILTER']\n",
    "    filter_name2=filter_name.split(\"_\")[0]   # cut empty_1 to empty\n",
    "    \n",
    "    # select only pre-selected disperser\n",
    "    if grating == DISPERSER_SEL: \n",
    "        all_my_raw_array.append(np.copy(raw.image.array))\n",
    "        all_my_header.append(header)\n",
    "        all_my_object.append(obj_name2)\n",
    "        all_my_seq.append(header['SEQNUM'])\n",
    "        all_my_grating.append(grating)\n",
    "        all_my_filter.append(filter_name2)\n",
    "        all_my_date.append(date)"
   ]
  },
  {
   "cell_type": "markdown",
   "id": "ba665b08",
   "metadata": {},
   "source": [
    "## Total number of images"
   ]
  },
  {
   "cell_type": "code",
   "execution_count": 28,
   "id": "1166191a",
   "metadata": {},
   "outputs": [],
   "source": [
    "NSEL=len(all_my_raw_array)"
   ]
  },
  {
   "cell_type": "code",
   "execution_count": 29,
   "id": "0511a032",
   "metadata": {},
   "outputs": [
    {
     "data": {
      "text/plain": [
       "0"
      ]
     },
     "execution_count": 29,
     "metadata": {},
     "output_type": "execute_result"
    }
   ],
   "source": [
    "NSEL"
   ]
  },
  {
   "cell_type": "markdown",
   "id": "2c31de33",
   "metadata": {},
   "source": [
    "# Plot"
   ]
  },
  {
   "cell_type": "code",
   "execution_count": 30,
   "id": "d104ce60",
   "metadata": {},
   "outputs": [],
   "source": [
    "idx=0"
   ]
  },
  {
   "cell_type": "code",
   "execution_count": 31,
   "id": "52f70a14",
   "metadata": {},
   "outputs": [
    {
     "ename": "IndexError",
     "evalue": "list index out of range",
     "output_type": "error",
     "traceback": [
      "\u001b[0;31m---------------------------------------------------------------------------\u001b[0m",
      "\u001b[0;31mIndexError\u001b[0m                                Traceback (most recent call last)",
      "\u001b[0;32m<ipython-input-31-32e9fa684b70>\u001b[0m in \u001b[0;36m<module>\u001b[0;34m\u001b[0m\n\u001b[1;32m      1\u001b[0m \u001b[0mfig\u001b[0m \u001b[0;34m=\u001b[0m \u001b[0mplt\u001b[0m\u001b[0;34m.\u001b[0m\u001b[0mfigure\u001b[0m\u001b[0;34m(\u001b[0m\u001b[0mfigsize\u001b[0m\u001b[0;34m=\u001b[0m\u001b[0;34m(\u001b[0m\u001b[0;36m10\u001b[0m\u001b[0;34m,\u001b[0m\u001b[0;36m10\u001b[0m\u001b[0;34m)\u001b[0m\u001b[0;34m)\u001b[0m\u001b[0;34m\u001b[0m\u001b[0;34m\u001b[0m\u001b[0m\n\u001b[1;32m      2\u001b[0m \u001b[0max\u001b[0m\u001b[0;34m=\u001b[0m\u001b[0mfig\u001b[0m\u001b[0;34m.\u001b[0m\u001b[0madd_subplot\u001b[0m\u001b[0;34m(\u001b[0m\u001b[0;36m111\u001b[0m\u001b[0;34m)\u001b[0m\u001b[0;34m\u001b[0m\u001b[0;34m\u001b[0m\u001b[0m\n\u001b[0;32m----> 3\u001b[0;31m \u001b[0max\u001b[0m\u001b[0;34m.\u001b[0m\u001b[0mimshow\u001b[0m\u001b[0;34m(\u001b[0m\u001b[0mall_my_raw_array\u001b[0m\u001b[0;34m[\u001b[0m\u001b[0midx\u001b[0m\u001b[0;34m]\u001b[0m\u001b[0;34m,\u001b[0m\u001b[0morigin\u001b[0m\u001b[0;34m=\u001b[0m\u001b[0;34m'lower'\u001b[0m\u001b[0;34m,\u001b[0m\u001b[0mcmap\u001b[0m\u001b[0;34m=\u001b[0m\u001b[0;34m\"jet\"\u001b[0m\u001b[0;34m,\u001b[0m\u001b[0mnorm\u001b[0m\u001b[0;34m=\u001b[0m\u001b[0mLogNorm\u001b[0m\u001b[0;34m(\u001b[0m\u001b[0;34m)\u001b[0m\u001b[0;34m)\u001b[0m\u001b[0;34m\u001b[0m\u001b[0;34m\u001b[0m\u001b[0m\n\u001b[0m\u001b[1;32m      4\u001b[0m \u001b[0mplt\u001b[0m\u001b[0;34m.\u001b[0m\u001b[0mshow\u001b[0m\u001b[0;34m(\u001b[0m\u001b[0;34m)\u001b[0m\u001b[0;34m\u001b[0m\u001b[0;34m\u001b[0m\u001b[0m\n",
      "\u001b[0;31mIndexError\u001b[0m: list index out of range"
     ]
    }
   ],
   "source": [
    "fig = plt.figure(figsize=(10,10))\n",
    "ax=fig.add_subplot(111)\n",
    "ax.imshow(all_my_raw_array[idx],origin='lower',cmap=\"jet\",norm=LogNorm())\n",
    "plt.show()"
   ]
  },
  {
   "cell_type": "code",
   "execution_count": null,
   "id": "28b14444",
   "metadata": {},
   "outputs": [],
   "source": [
    "\n",
    "Ncol=4\n",
    "Nrow=2\n",
    "Ntot=Ncol*Nrow\n",
    "\n",
    "fig = plt.figure(figsize=(20,20))\n",
    "\n",
    "# loop on angle\n",
    "for idx in np.arange(Ntot):\n",
    "    if idx>=NSEL:\n",
    "        break\n",
    "        \n",
    "    ax=fig.add_subplot(Nrow,Ncol,idx+1)\n",
    "    ax.imshow(all_my_raw_array[idx],origin='lower',cmap=\"jet\",norm=LogNorm())\n",
    "    ax.set_title(all_myseq[idx]) \n",
    "    ax.minorticks_on()\n",
    "    ax.set_aspect(\"equal\")\n",
    "    \n",
    "    #ax2=ax.twiny()\n",
    "    #ax2.imshow(all_my_raw_array[idx],origin='lower',cmap=\"jet\",norm=LogNorm())\n",
    "    #ax2.set_xlim(ax.get_xlim())\n",
    "    #ax2.minorticks_on()\n",
    "    \n",
    "    #ax.tick_params(which='major', length=10, width=2, direction='inout')\n",
    "    #ax.tick_params(which='minor', length=5, width=2, direction='inout')\n",
    "    #ax.grid(which='both')\n",
    "\n",
    "\n",
    "\n",
    "    #ax.set_aspect('equal')\n",
    "\n",
    "    #x1, x2 = ax.get_xlim() \n",
    "    #y1, y2 = ax.get_ylim() \n",
    "plt.show()"
   ]
  },
  {
   "cell_type": "code",
   "execution_count": null,
   "id": "cd908bf8",
   "metadata": {},
   "outputs": [],
   "source": [
    "#all_my_raw_array=[]\n",
    "#all_my_header=[]\n",
    "#all_my_object=[]\n",
    "#all_my_seq=[]\n",
    "#all_my_grating=[]\n",
    "#all_my_filter=[]\n"
   ]
  },
  {
   "cell_type": "code",
   "execution_count": null,
   "id": "702ff3ed",
   "metadata": {},
   "outputs": [],
   "source": [
    "if FLAG_SAVE_IMAGE:\n",
    "  \n",
    "    for idx in np.arange(NSEL):\n",
    "        filename=all_my_grating[idx]+\"_\"+all_my_filter[idx]+\"_\"+all_my_object[idx]+\"_\"+all_my_date[idx]+\".fits\"\n",
    "        print(filename)\n",
    "    \n",
    "        hdr = fits.Header()\n",
    "    \n",
    "        for key,value in all_my_header[idx].items():\n",
    "            hdr[str(key)]=value\n",
    "        \n",
    "        hdu = fits.PrimaryHDU(data=all_my_raw_array[idx],header=hdr)  # with headers\n",
    "        #hdu = fits.PrimaryHDU(data=all_my_raw_array[idx])\n",
    "    \n",
    "        hdul = fits.HDUList([hdu])\n",
    "    \n",
    "        hdul.writeto(filename,overwrite=True)\n",
    "    \n",
    "        "
   ]
  },
  {
   "cell_type": "code",
   "execution_count": null,
   "id": "92ae11bc",
   "metadata": {},
   "outputs": [],
   "source": []
  }
 ],
 "metadata": {
  "kernelspec": {
   "display_name": "LSST",
   "language": "python",
   "name": "lsst"
  },
  "language_info": {
   "codemirror_mode": {
    "name": "ipython",
    "version": 3
   },
   "file_extension": ".py",
   "mimetype": "text/x-python",
   "name": "python",
   "nbconvert_exporter": "python",
   "pygments_lexer": "ipython3",
   "version": "3.8.8"
  }
 },
 "nbformat": 4,
 "nbformat_minor": 5
}
