{
 "cells": [
  {
   "cell_type": "markdown",
   "metadata": {},
   "source": [
    "# Transcript of the Merlin tutorial February 17th 2021\n",
    "\n",
    "https://harvard.zoom.us/rec/play/N7umVF8Rk3vWvW_O3jkaTinofB2WxW3QKz0fVai_K-qvAYLt37uMrvskOlnBiMEjduSeQVzWT7_DDYzc.IY7Pqjef82YlWmZE?continueMode=true&_x_zm_rtaid=BjQYrDaETYeYRUMw8NQgLw.1613559822570.c813d210d38e378b719cb4048493df5b&_x_zm_rhtaid=205\n",
    "\n",
    "\n",
    "- work with wl_2021_02\n",
    "- use jupyter kernel LSST\n",
    "- requires the installation https://github.com/mfisherlevine/summit\n",
    "- requires to write in file {HOME}/notebooks/.user_setups\n"
   ]
  },
  {
   "cell_type": "code",
   "execution_count": 1,
   "metadata": {},
   "outputs": [],
   "source": [
    "#!/bin/sh\n",
    "# This file is expected to be found in ${HOME}/notebooks/.user_setups\n",
    "#  It is a shell fragment that will be sourced during kernel startup\n",
    "#  when the LSST kernel is started in a JupyterLab environment.  It runs\n",
    "#  in the user context and can contain arbitrary shell code.  Exported changes\n",
    "#  in its environment will persist into the JupyterLab Python environment.\n",
    "\n",
    "#    setup -j rapid_analysis -r ${HOME}/repos/rapid_analysis\n",
    "#    setup -j atmospec       -r ${HOME}/repos/atmospec"
   ]
  },
  {
   "cell_type": "code",
   "execution_count": 2,
   "metadata": {},
   "outputs": [],
   "source": [
    "# correct for bug in stack in wl_2021_02\n",
    "%config IPCompleter.use_jedi=False"
   ]
  },
  {
   "cell_type": "markdown",
   "metadata": {},
   "source": [
    "# Import"
   ]
  },
  {
   "cell_type": "code",
   "execution_count": 3,
   "metadata": {},
   "outputs": [],
   "source": [
    "import os\n",
    "import matplotlib.pyplot as plt\n",
    "import numpy as np\n",
    "%matplotlib inline"
   ]
  },
  {
   "cell_type": "code",
   "execution_count": 4,
   "metadata": {},
   "outputs": [],
   "source": [
    "import lsst.daf.persistence as dafPersist\n",
    "import lsst.afw.display as afwDisplay\n",
    "afwDisplay.setDefaultBackend(\"lsst.display.firefly\")"
   ]
  },
  {
   "cell_type": "markdown",
   "metadata": {},
   "source": [
    "# Butler"
   ]
  },
  {
   "cell_type": "code",
   "execution_count": 5,
   "metadata": {},
   "outputs": [],
   "source": [
    "butler=dafPersist.Butler(\"/project/shared/auxTel\")"
   ]
  },
  {
   "cell_type": "code",
   "execution_count": 6,
   "metadata": {},
   "outputs": [],
   "source": [
    "dayObs=\"2020-03-15\""
   ]
  },
  {
   "cell_type": "code",
   "execution_count": 7,
   "metadata": {},
   "outputs": [],
   "source": [
    "seqNum=162"
   ]
  },
  {
   "cell_type": "markdown",
   "metadata": {},
   "source": [
    "# Display"
   ]
  },
  {
   "cell_type": "code",
   "execution_count": 8,
   "metadata": {},
   "outputs": [
    {
     "data": {
      "text/html": [
       "Open your web browser to <a href=\"https://lsst-lsp-stable.ncsa.illinois.edu/portal/app/slate.html?__wsch=sylviedc_debug1\"\" target=\"_blank\">this link</a>"
      ],
      "text/plain": [
       "<IPython.core.display.HTML object>"
      ]
     },
     "metadata": {},
     "output_type": "display_data"
    }
   ],
   "source": [
    "display1=afwDisplay.getDisplay(frame=1,port=80,name='sylviedc_debug1',url=os.environ[\"FIREFLY_URL\"])"
   ]
  },
  {
   "cell_type": "code",
   "execution_count": 9,
   "metadata": {},
   "outputs": [
    {
     "name": "stderr",
     "output_type": "stream",
     "text": [
      "AT_O_20200315_000162: Dark time less than exposure time. Setting dark time to the exposure time.\n",
      "AT_O_20200315_000162: Dark time less than exposure time. Setting dark time to the exposure time.\n"
     ]
    }
   ],
   "source": [
    "raw=butler.get('raw',dayObs=dayObs,seqNum=seqNum)"
   ]
  },
  {
   "cell_type": "code",
   "execution_count": 10,
   "metadata": {},
   "outputs": [],
   "source": [
    "display1.mtv(raw)"
   ]
  },
  {
   "cell_type": "code",
   "execution_count": 11,
   "metadata": {},
   "outputs": [
    {
     "data": {
      "text/html": [
       "Open your web browser to <a href=\"https://lsst-lsp-stable.ncsa.illinois.edu/portal/app/slate.html?__wsch=sylviedc_debug1\"\" target=\"_blank\">this link</a>"
      ],
      "text/plain": [
       "<IPython.core.display.HTML object>"
      ]
     },
     "metadata": {},
     "output_type": "display_data"
    }
   ],
   "source": [
    "display1.getClient().display_url()"
   ]
  },
  {
   "cell_type": "markdown",
   "metadata": {},
   "source": [
    "# Meta Query to the Butler"
   ]
  },
  {
   "cell_type": "code",
   "execution_count": 12,
   "metadata": {},
   "outputs": [
    {
     "name": "stdout",
     "output_type": "stream",
     "text": [
      "[1, 2, 3, 4, 5, 6, 7, 8, 9, 10, 11, 12, 13, 14, 15, 16, 17, 18, 19, 20, 21, 22, 24, 25, 26, 27, 28, 29, 30, 31, 32, 33, 34, 35, 36, 37, 38, 39, 40, 41, 42, 43, 44, 45, 46, 47, 48, 49, 50, 51, 52, 53, 54, 55, 56, 57, 58, 59, 60, 61, 62, 63, 64, 65, 66, 67, 68, 69, 70, 71, 72, 73, 74, 75, 76, 77, 78, 79, 80, 81, 82, 83, 84, 85, 86, 87, 88, 89, 90, 91, 92, 93, 94, 95, 96, 97, 98, 99, 100, 101, 102, 103, 104, 105, 106, 107, 108, 109, 110, 111, 112, 113, 114, 115, 116, 117, 118, 119, 120, 121, 122, 123, 124, 125, 126, 127, 128, 129, 130, 131, 132, 133, 134, 135, 136, 137, 138, 139, 140, 141, 142, 143, 144, 145, 146, 147, 148, 149, 150, 151, 152, 153, 154, 155, 156, 157, 158, 159, 160, 161, 162, 163, 164, 165, 166, 167, 168, 169, 170, 171, 172, 173, 174, 175, 176, 177, 178, 179, 180, 181, 182, 183, 184, 185, 186, 187, 188, 189, 190, 191, 192, 193, 194, 195, 196, 197, 198, 199, 200, 201, 202, 203, 204, 205, 206, 207, 208, 209, 210, 211, 212, 213, 214, 215, 216, 217, 218, 219, 220, 221, 222, 223, 224, 225, 226, 227, 228, 229, 230, 231, 232, 233, 234, 235, 236, 237, 238, 239, 240, 241, 242, 243, 244, 245, 246, 247, 248, 249, 250, 251, 252, 253, 254, 255, 256, 257, 258, 259, 260, 261, 262, 263, 264, 265, 266, 267, 268, 269, 270, 271, 272, 273, 274, 275, 276, 277, 278, 279, 280, 281, 282, 283, 284, 285, 286, 287, 288, 289, 290, 291, 292, 293, 294, 295, 296, 297, 298, 299, 300, 301, 302, 303, 304, 305, 306, 307, 308, 309, 310, 311, 312, 313, 314, 315, 316, 317, 318, 319, 320, 321, 322, 323, 324, 325, 326, 327, 328, 329, 330, 331, 332, 333, 334, 335, 336, 337, 338, 339, 340, 341, 342, 343]\n"
     ]
    }
   ],
   "source": [
    "print(butler.queryMetadata('raw','seqNum',dayObs=dayObs))"
   ]
  },
  {
   "cell_type": "code",
   "execution_count": 13,
   "metadata": {},
   "outputs": [],
   "source": [
    "seqNums=butler.queryMetadata('raw','seqNum',dayObs=dayObs)"
   ]
  },
  {
   "cell_type": "code",
   "execution_count": 14,
   "metadata": {},
   "outputs": [],
   "source": [
    "%config IPCompleter.use_jedi=False"
   ]
  },
  {
   "cell_type": "markdown",
   "metadata": {},
   "source": [
    "# Information"
   ]
  },
  {
   "cell_type": "code",
   "execution_count": 15,
   "metadata": {},
   "outputs": [],
   "source": [
    "info=raw.getInfo()"
   ]
  },
  {
   "cell_type": "markdown",
   "metadata": {},
   "source": [
    "### The detector"
   ]
  },
  {
   "cell_type": "code",
   "execution_count": 16,
   "metadata": {},
   "outputs": [],
   "source": [
    "detector=info.getDetector()"
   ]
  },
  {
   "cell_type": "code",
   "execution_count": 17,
   "metadata": {},
   "outputs": [
    {
     "name": "stdout",
     "output_type": "stream",
     "text": [
      "C10\n",
      "C11\n",
      "C12\n",
      "C13\n",
      "C14\n",
      "C15\n",
      "C16\n",
      "C17\n",
      "C07\n",
      "C06\n",
      "C05\n",
      "C04\n",
      "C03\n",
      "C02\n",
      "C01\n",
      "C00\n"
     ]
    }
   ],
   "source": [
    "for amp in detector.getAmplifiers():\n",
    "    print(amp.getName())"
   ]
  },
  {
   "cell_type": "code",
   "execution_count": 18,
   "metadata": {},
   "outputs": [],
   "source": [
    "%config IPCompleter.use_jedi=False"
   ]
  },
  {
   "cell_type": "markdown",
   "metadata": {},
   "source": [
    "### The visits"
   ]
  },
  {
   "cell_type": "code",
   "execution_count": 19,
   "metadata": {},
   "outputs": [],
   "source": [
    "vi=info.getVisitInfo()"
   ]
  },
  {
   "cell_type": "code",
   "execution_count": 20,
   "metadata": {},
   "outputs": [
    {
     "data": {
      "text/plain": [
       "15.0"
      ]
     },
     "execution_count": 20,
     "metadata": {},
     "output_type": "execute_result"
    }
   ],
   "source": [
    "vi.getExposureTime()"
   ]
  },
  {
   "cell_type": "code",
   "execution_count": 21,
   "metadata": {},
   "outputs": [
    {
     "data": {
      "text/plain": [
       "-1.07474 rad"
      ]
     },
     "execution_count": 21,
     "metadata": {},
     "output_type": "execute_result"
    }
   ],
   "source": [
    "vi.getBoresightParAngle()"
   ]
  },
  {
   "cell_type": "code",
   "execution_count": 22,
   "metadata": {},
   "outputs": [
    {
     "data": {
      "text/plain": [
       "-1.94749 rad"
      ]
     },
     "execution_count": 22,
     "metadata": {},
     "output_type": "execute_result"
    }
   ],
   "source": [
    "vi.getBoresightRotAngle()"
   ]
  },
  {
   "cell_type": "code",
   "execution_count": 23,
   "metadata": {},
   "outputs": [
    {
     "data": {
      "text/plain": [
       "Weather(nan, nan, nan)"
      ]
     },
     "execution_count": 23,
     "metadata": {},
     "output_type": "execute_result"
    }
   ],
   "source": [
    "vi.getWeather()"
   ]
  },
  {
   "cell_type": "code",
   "execution_count": 24,
   "metadata": {},
   "outputs": [],
   "source": [
    "#!ls /home/dagoret/repos/rapid_analysis/python"
   ]
  },
  {
   "cell_type": "code",
   "execution_count": 25,
   "metadata": {},
   "outputs": [],
   "source": [
    "#import sys\n",
    "#sys.path.append(\"/home/dagoret/repos/rapid_analysis\") # go to parent dir"
   ]
  },
  {
   "cell_type": "markdown",
   "metadata": {},
   "source": [
    "# Rapid Analysis\n",
    "\n",
    "Installed from https://github.com/mfisherlevine/summit"
   ]
  },
  {
   "cell_type": "code",
   "execution_count": 26,
   "metadata": {},
   "outputs": [
    {
     "name": "stdout",
     "output_type": "stream",
     "text": [
      "Loaded data for seqNums 1 to 343\n"
     ]
    }
   ],
   "source": [
    "from lsst.rapid.analysis.nightReport import NightReporter\n",
    "repoDir='/project/shared/auxTel'\n",
    "reporter=NightReporter(repoDir,\"2020-03-15\")"
   ]
  },
  {
   "cell_type": "markdown",
   "metadata": {},
   "source": [
    "## Query the reporter"
   ]
  },
  {
   "cell_type": "code",
   "execution_count": 27,
   "metadata": {},
   "outputs": [
    {
     "data": {
      "text/plain": [
       "['HD 107696',\n",
       " 'WD 1327-083',\n",
       " 'HD 146233',\n",
       " 'HD 74576',\n",
       " 'HD 167060',\n",
       " 'slew_icrs',\n",
       " 'HD 164461']"
      ]
     },
     "execution_count": 27,
     "metadata": {},
     "output_type": "execute_result"
    }
   ],
   "source": [
    "reporter.getObservedObjects()"
   ]
  },
  {
   "cell_type": "markdown",
   "metadata": {},
   "source": [
    "## The logbook"
   ]
  },
  {
   "cell_type": "code",
   "execution_count": 28,
   "metadata": {},
   "outputs": [
    {
     "name": "stdout",
     "output_type": "stream",
     "text": [
      "{seqNum:4} {imageType:9} {obj:10} {timeOfDay} {filt:25} {dt.sec:6.1f}  {expTime:2.2f}\n",
      " 294 science   WD 1327-083 09:30:47.295 empty~ronchi90lpmm          19.5  15.00\n",
      " 295 science   WD 1327-083 09:31:06.774 RG610~empty                 19.5  15.00\n",
      " 296 science   WD 1327-083 09:31:26.833 empty~ronchi90lpmm          20.1  15.00\n",
      " 297 science   WD 1327-083 09:31:46.546 RG610~empty                 19.7  15.00\n",
      " 298 science   WD 1327-083 09:32:06.119 empty~ronchi90lpmm          19.6  15.00\n",
      " 299 science   WD 1327-083 09:32:25.643 RG610~empty                 19.5  15.00\n",
      " 300 science   WD 1327-083 09:32:45.731 empty~ronchi90lpmm          20.1  15.00\n",
      " 301 science   WD 1327-083 09:33:05.258 RG610~empty                 19.5  15.00\n",
      " 302 science   WD 1327-083 09:33:24.852 empty~ronchi90lpmm          19.6  15.00\n",
      " 303 science   WD 1327-083 09:33:44.855 RG610~empty                 20.0  15.00\n",
      " 304 science   WD 1327-083 09:34:04.459 empty~ronchi90lpmm          19.6  15.00\n",
      " 305 science   WD 1327-083 09:34:24.564 RG610~empty                 20.1  15.00\n",
      " 306 science   WD 1327-083 09:34:44.147 empty~ronchi90lpmm          19.6  15.00\n",
      " 307 science   WD 1327-083 09:35:03.669 RG610~empty                 19.5  15.00\n",
      " 308 science   WD 1327-083 09:35:23.228 empty~ronchi90lpmm          19.6  15.00\n",
      " 309 science   WD 1327-083 09:35:42.808 RG610~empty                 19.6  15.00\n",
      " 310 science   WD 1327-083 09:36:02.876 empty~ronchi90lpmm          20.1  15.00\n",
      " 311 science   WD 1327-083 09:36:22.434 RG610~empty                 19.6  15.00\n",
      " 312 science   WD 1327-083 09:36:41.976 empty~ronchi90lpmm          19.5  15.00\n",
      " 313 science   WD 1327-083 09:37:02.056 RG610~empty                 20.1  15.00\n",
      " 314 science   WD 1327-083 09:37:21.642 empty~ronchi90lpmm          19.6  15.00\n",
      " 315 science   WD 1327-083 09:37:41.218 RG610~empty                 19.6  15.00\n",
      " 316 science   WD 1327-083 09:38:00.764 empty~ronchi90lpmm          19.5  15.00\n",
      " 317 science   WD 1327-083 09:38:20.356 RG610~empty                 19.6  15.00\n",
      " 318 science   WD 1327-083 09:38:40.436 empty~ronchi90lpmm          20.1  15.00\n",
      " 319 science   WD 1327-083 09:39:00.016 RG610~empty                 19.6  15.00\n",
      " 320 science   WD 1327-083 09:39:19.562 empty~ronchi90lpmm          19.5  15.00\n",
      " 321 science   WD 1327-083 09:39:39.149 RG610~empty                 19.6  15.00\n",
      " 322 science   WD 1327-083 09:39:58.685 empty~ronchi90lpmm          19.5  15.00\n",
      " 323 science   WD 1327-083 09:40:18.756 RG610~empty                 20.1  15.00\n",
      " 324 science   WD 1327-083 09:40:38.288 empty~ronchi90lpmm          19.5  15.00\n",
      " 325 science   WD 1327-083 09:40:57.806 RG610~empty                 19.5  15.00\n",
      " 326 science   WD 1327-083 09:41:17.494 empty~ronchi90lpmm          19.7  15.00\n",
      " 327 science   WD 1327-083 09:41:36.996 RG610~empty                 19.5  15.00\n",
      " 328 science   WD 1327-083 09:41:56.550 empty~ronchi90lpmm          19.6  15.00\n",
      " 329 science   WD 1327-083 09:42:16.567 RG610~empty                 20.0  15.00\n",
      " 330 science   WD 1327-083 09:42:36.133 empty~ronchi90lpmm          19.6  15.00\n",
      " 331 science   WD 1327-083 09:42:55.651 RG610~empty                 19.5  15.00\n",
      " 332 science   WD 1327-083 09:43:15.272 empty~ronchi90lpmm          19.6  15.00\n",
      " 333 science   WD 1327-083 09:43:34.776 RG610~empty                 19.5  15.00\n",
      " 334 science   WD 1327-083 09:43:54.357 empty~ronchi90lpmm          19.6  15.00\n",
      " 335 science   WD 1327-083 09:44:13.853 RG610~empty                 19.5  15.00\n",
      " 336 science   WD 1327-083 09:44:33.955 empty~ronchi90lpmm          20.1  15.00\n",
      " 337 science   WD 1327-083 09:44:53.524 RG610~empty                 19.6  15.00\n",
      " 338 science   WD 1327-083 09:45:11.313 empty~ronchi90lpmm          17.8  15.00\n",
      " 339 science   WD 1327-083 09:45:32.773 RG610~empty                 21.5  15.00\n",
      " 340 science   WD 1327-083 09:45:52.338 empty~ronchi90lpmm          19.6  15.00\n",
      " 341 science   WD 1327-083 09:46:11.851 RG610~empty                 19.5  15.00\n",
      " 342 science   WD 1327-083 09:46:31.444 empty~ronchi90lpmm          19.6  15.00\n",
      " 343 science   WD 1327-083 09:46:51.469 RG610~empty                 20.0  15.00\n"
     ]
    }
   ],
   "source": [
    "reporter.printObsTable(tailNumber=50)"
   ]
  },
  {
   "cell_type": "code",
   "execution_count": 29,
   "metadata": {},
   "outputs": [
    {
     "name": "stdout",
     "output_type": "stream",
     "text": [
      "{seqNum:4} {imageType:9} {obj:10} {timeOfDay} {filt:25} {dt.sec:6.1f}  {expTime:2.2f}\n",
      "   1 bias      Park position 17:17:09.157 RG610~empty                  0.0  0.00\n",
      "   2 bias      Park position 17:17:12.026 RG610~empty                  2.9  0.00\n",
      "   3 bias      Park position 17:17:18.433 RG610~empty                  6.4  0.00\n",
      "   4 bias      Park position 17:17:24.347 RG610~empty                  5.9  0.00\n",
      "   5 bias      Park position 17:17:27.153 RG610~empty                  2.8  0.00\n",
      "   6 bias      Park position 17:17:29.956 RG610~empty                  2.8  0.00\n",
      "   7 bias      Park position 17:17:32.750 RG610~empty                  2.8  0.00\n",
      "   8 bias      Park position 17:17:37.194 RG610~empty                  4.4  0.00\n",
      "   9 bias      Park position 17:17:44.501 RG610~empty                  7.3  0.00\n",
      "  10 bias      Park position 17:17:44.501 RG610~empty                  0.0  0.00\n",
      "  11 science   Park position 19:57:26.750 empty~ronchi90lpmm        9582.2  45.00\n",
      "  12 science   Park position 19:58:20.930 quadnotch1~ronchi90lpmm     54.2  45.00\n",
      "  13 science   Park position 19:59:15.047 BG40~ronchi90lpmm           54.1  45.00\n",
      "  14 science   Park position 20:00:09.127 BG40~ronchi90lpmm           54.1  45.00\n",
      "  15 science   Park position 20:01:03.232 RG610~empty                 54.1  3.00\n",
      "  16 science   Park position 20:01:15.282 RG610~empty                 12.1  20.00\n",
      "  17 science   Park position 20:09:18.006 empty~ronchi90lpmm         482.7  45.00\n",
      "  18 science   Park position 20:10:12.109 quadnotch1~ronchi90lpmm     54.1  45.00\n",
      "  19 science   Park position 20:11:06.171 BG40~ronchi90lpmm           54.1  45.00\n",
      "  20 science   Park position 20:12:00.312 BG40~ronchi90lpmm           54.1  45.00\n",
      "  21 science   Park position 20:12:54.340 RG610~empty                 54.0  3.00\n",
      "  22 science   Park position 20:13:06.404 RG610~empty                 12.1  20.00\n",
      "  24 bias      Park position 03:46:46.633 BG40~empty                27220.2  0.00\n",
      "  25 bias      Park position 03:46:59.190 BG40~empty                  12.6  0.00\n",
      "  26 bias      Park position 03:47:02.064 BG40~empty                   2.9  0.00\n",
      "  27 bias      Park position 03:47:05.810 BG40~empty                   3.7  0.00\n",
      "  28 bias      Park position 03:47:08.742 BG40~empty                   2.9  0.00\n",
      "  29 bias      Park position 03:47:08.742 BG40~empty                   0.0  0.00\n",
      "  30 science   HD 74576   03:52:41.571 BG40~empty                 332.8  2.00\n",
      "  31 science   HD 74576   03:54:09.295 BG40~empty                  87.7  2.00\n",
      "  32 science   HD 74576   03:54:48.824 empty~ronchi90lpmm          39.5  4.00\n",
      "  33 science   HD 74576   03:55:01.803 quadnotch1~ronchi90lpmm     13.0  4.00\n",
      "  34 science   HD 74576   03:55:14.760 BG40~ronchi90lpmm           13.0  4.00\n",
      "  35 science   HD 74576   03:55:27.783 BG40~ronchi90lpmm           13.0  4.00\n",
      "  36 science   HD 74576   03:55:40.809 RG610~empty                 13.0  1.00\n",
      "  37 science   HD 74576   03:55:50.796 RG610~empty                 10.0  2.00\n",
      "  38 science   HD 74576   04:02:30.591 RG610~empty                399.8  5.00\n",
      "  39 engtest   HD 74576   04:06:01.645 BG40~empty                 211.1  30.00\n",
      "  40 engtest   HD 74576   04:06:39.651 BG40~empty                  38.0  30.00\n",
      "  41 engtest   HD 74576   04:12:46.876 BG40~empty                 367.2  30.00\n",
      "  42 engtest   HD 74576   04:13:25.937 BG40~empty                  39.1  30.00\n",
      "  43 bias      HD 74576   04:41:21.583 BG40~empty                1675.6  0.00\n",
      "  44 science   HD 74576   04:47:39.056 BG40~empty                 377.5  2.00\n",
      "  45 science   HD 74576   04:48:03.824 BG40~empty                  24.8  2.00\n",
      "  46 science   HD 74576   04:54:47.242 BG40~empty                 403.4  2.00\n",
      "  47 science   HD 74576   04:55:12.822 BG40~empty                  25.6  2.00\n",
      "  48 science   HD 74576   04:59:08.342 BG40~empty                 235.5  2.00\n",
      "  49 science   HD 74576   04:59:34.339 BG40~empty                  26.0  2.00\n",
      "  50 science   HD 74576   05:00:05.827 empty~ronchi90lpmm          31.5  4.00\n",
      "  51 science   HD 74576   05:00:18.772 quadnotch1~ronchi90lpmm     12.9  4.00\n",
      "  52 science   HD 74576   05:00:31.737 BG40~ronchi90lpmm           13.0  4.00\n",
      "  53 science   HD 74576   05:00:44.717 BG40~ronchi90lpmm           13.0  4.00\n",
      "  54 science   HD 74576   05:00:57.738 RG610~empty                 13.0  1.00\n",
      "  55 science   HD 74576   05:01:07.705 RG610~empty                 10.0  2.00\n",
      "  56 science   HD 74576   05:26:20.362 BG40~empty                1512.7  2.00\n",
      "  57 bias      HD 74576   05:30:08.640 BG40~empty                 228.3  0.00\n",
      "  58 bias      HD 74576   05:32:36.658 BG40~empty                 148.0  0.00\n",
      "  59 science   HD 74576   05:33:43.346 BG40~empty                  66.7  2.00\n",
      "  60 science   HD 74576   05:34:08.828 BG40~empty                  25.5  2.00\n",
      "  61 science   HD 74576   05:34:40.895 empty~ronchi90lpmm          32.1  4.00\n",
      "  62 science   HD 74576   05:34:53.876 quadnotch1~ronchi90lpmm     13.0  4.00\n",
      "  63 science   HD 74576   05:35:06.883 BG40~ronchi90lpmm           13.0  4.00\n",
      "  64 science   HD 74576   05:35:19.853 BG40~ronchi90lpmm           13.0  4.00\n",
      "  65 science   HD 74576   05:35:33.021 RG610~empty                 13.2  1.00\n",
      "  66 science   HD 74576   05:35:43.013 RG610~empty                 10.0  2.00\n",
      "  67 science   HD 74576   05:48:20.015 empty~ronchi90lpmm         757.0  4.00\n",
      "  68 science   HD 74576   05:48:32.985 quadnotch1~ronchi90lpmm     13.0  4.00\n",
      "  69 science   HD 74576   05:48:45.964 BG40~ronchi90lpmm           13.0  4.00\n",
      "  70 science   HD 74576   05:48:58.930 BG40~ronchi90lpmm           13.0  4.00\n",
      "  71 science   HD 74576   05:49:11.887 RG610~empty                 13.0  1.00\n",
      "  72 science   HD 74576   05:49:21.853 RG610~empty                 10.0  2.00\n",
      "  73 science   HD 74576   05:51:00.675 empty~ronchi90lpmm          98.8  4.00\n",
      "  74 science   HD 74576   05:51:13.636 quadnotch1~ronchi90lpmm     13.0  4.00\n",
      "  75 science   HD 74576   05:51:26.603 BG40~ronchi90lpmm           13.0  4.00\n",
      "  76 science   HD 74576   05:51:39.579 BG40~ronchi90lpmm           13.0  4.00\n",
      "  77 science   HD 74576   05:51:51.817 RG610~empty                 12.2  1.00\n",
      "  78 science   HD 74576   05:52:01.756 RG610~empty                  9.9  2.00\n",
      "  79 science   HD 107696  06:07:10.978 empty~ronchi90lpmm         909.2  4.00\n",
      "  80 science   HD 107696  06:07:23.955 quadnotch1~ronchi90lpmm     13.0  4.00\n",
      "  81 science   HD 107696  06:07:36.930 BG40~ronchi90lpmm           13.0  4.00\n",
      "  82 science   HD 107696  06:07:50.045 BG40~ronchi90lpmm           13.1  4.00\n",
      "  83 science   HD 107696  06:08:03.005 RG610~empty                 13.0  1.00\n",
      "  84 science   HD 107696  06:08:12.930 RG610~empty                  9.9  2.00\n",
      "  85 engtest   slew_icrs  06:33:15.256 RG610~empty               1502.3  1.00\n",
      "  86 engtest   slew_icrs  06:33:27.651 RG610~empty                 12.4  1.00\n",
      "  87 engtest   slew_icrs  06:36:32.850 RG610~empty                185.2  1.00\n",
      "  88 engtest   slew_icrs  06:36:48.860 RG610~empty                 16.0  1.00\n",
      "  89 engtest   slew_icrs  06:38:48.955 RG610~empty                120.1  1.00\n",
      "  90 engtest   slew_icrs  06:38:54.876 RG610~empty                  5.9  1.00\n",
      "  91 science   HD 107696  06:41:22.930 empty~ronchi90lpmm         148.1  4.00\n",
      "  92 science   HD 107696  06:41:35.859 quadnotch1~ronchi90lpmm     12.9  4.00\n",
      "  93 science   HD 107696  06:41:48.830 BG40~ronchi90lpmm           13.0  4.00\n",
      "  94 science   HD 107696  06:42:01.856 BG40~ronchi90lpmm           13.0  4.00\n",
      "  95 science   HD 107696  06:42:14.811 RG610~empty                 13.0  1.00\n",
      "  96 science   HD 107696  06:42:24.740 RG610~empty                  9.9  2.00\n",
      "  97 engtest   slew_icrs  06:52:48.831 RG610~empty                624.1  1.00\n",
      "  98 engtest   slew_icrs  06:53:05.811 RG610~empty                 17.0  1.00\n",
      "  99 engtest   slew_icrs  06:55:02.834 RG610~empty                117.0  1.00\n",
      " 100 engtest   slew_icrs  06:55:19.830 RG610~empty                 17.0  1.00\n",
      " 101 science   HD 107696  07:01:25.876 empty~ronchi90lpmm         366.0  4.00\n",
      " 102 science   HD 107696  07:01:38.787 quadnotch1~ronchi90lpmm     12.9  4.00\n",
      " 103 science   HD 107696  07:01:51.756 BG40~ronchi90lpmm           13.0  4.00\n",
      " 104 science   HD 107696  07:02:04.726 BG40~ronchi90lpmm           13.0  4.00\n",
      " 105 science   HD 107696  07:02:17.654 RG610~empty                 12.9  1.00\n",
      " 106 science   HD 107696  07:02:27.730 RG610~empty                 10.1  2.00\n",
      " 107 engtest   HD 107696  07:05:37.331 BG40~empty                 189.6  30.00\n",
      " 108 engtest   HD 107696  07:06:15.160 BG40~empty                  37.8  30.00\n",
      " 109 engtest   HD 107696  07:08:54.644 BG40~empty                 159.5  30.00\n",
      " 110 engtest   HD 107696  07:09:32.713 BG40~empty                  38.1  30.00\n",
      " 111 science   HD 107696  07:12:01.069 BG40~empty                 148.4  5.00\n",
      " 112 science   HD 107696  07:13:41.876 empty~ronchi90lpmm         100.8  4.00\n",
      " 113 science   HD 107696  07:13:54.853 quadnotch1~ronchi90lpmm     13.0  4.00\n",
      " 114 science   HD 107696  07:14:07.878 BG40~ronchi90lpmm           13.0  4.00\n",
      " 115 science   HD 107696  07:14:20.851 BG40~ronchi90lpmm           13.0  4.00\n",
      " 116 science   HD 107696  07:14:33.813 RG610~empty                 13.0  1.00\n",
      " 117 science   HD 107696  07:14:43.772 RG610~empty                 10.0  2.00\n",
      " 118 science   HD 107696  07:19:08.149 BG40~empty                 264.4  2.00\n",
      " 119 science   HD 107696  07:23:04.504 empty~ronchi90lpmm         236.4  45.00\n",
      " 120 science   HD 107696  07:23:58.446 quadnotch1~ronchi90lpmm     53.9  45.00\n",
      " 121 science   HD 107696  07:24:52.438 BG40~ronchi90lpmm           54.0  45.00\n",
      " 122 science   HD 107696  07:25:46.375 BG40~ronchi90lpmm           53.9  45.00\n",
      " 123 science   HD 107696  07:26:39.804 RG610~empty                 53.4  3.00\n",
      " 124 science   HD 107696  07:26:51.779 RG610~empty                 12.0  20.00\n",
      " 125 science   HD 164461  07:28:44.457 empty~ronchi90lpmm         112.7  45.00\n",
      " 126 science   HD 164461  07:29:38.375 quadnotch1~ronchi90lpmm     53.9  45.00\n",
      " 127 science   HD 164461  07:30:32.374 BG40~ronchi90lpmm           54.0  45.00\n",
      " 128 science   HD 164461  07:31:26.302 BG40~ronchi90lpmm           53.9  45.00\n",
      " 129 science   HD 164461  07:32:19.814 RG610~empty                 53.5  3.00\n",
      " 130 science   HD 164461  07:32:31.808 RG610~empty                 12.0  20.00\n",
      " 131 science   HD 146233  07:35:18.823 empty~ronchi90lpmm         167.0  45.00\n",
      " 132 science   HD 146233  07:36:12.728 quadnotch1~ronchi90lpmm     53.9  45.00\n",
      " 133 science   HD 146233  07:37:06.730 BG40~ronchi90lpmm           54.0  45.00\n",
      " 134 science   HD 146233  07:38:00.754 BG40~ronchi90lpmm           54.0  45.00\n",
      " 135 science   HD 146233  07:38:54.731 RG610~empty                 54.0  3.00\n",
      " 136 science   HD 146233  07:39:06.764 RG610~empty                 12.0  20.00\n",
      " 137 engtest   slew_icrs  07:48:51.367 RG610~empty                584.6  1.00\n",
      " 138 engtest   slew_icrs  07:49:54.820 RG610~empty                 63.5  1.00\n",
      " 139 science   HD 107696  07:54:45.876 empty~ronchi90lpmm         291.1  45.00\n",
      " 140 science   HD 107696  07:55:39.811 quadnotch1~ronchi90lpmm     53.9  45.00\n",
      " 141 science   HD 107696  07:56:33.795 BG40~ronchi90lpmm           54.0  45.00\n",
      " 142 science   HD 107696  07:57:27.719 BG40~ronchi90lpmm           53.9  45.00\n",
      " 143 science   HD 107696  07:58:21.712 RG610~empty                 54.0  3.00\n",
      " 144 science   HD 107696  07:58:33.633 RG610~empty                 11.9  20.00\n",
      " 145 science   HD 164461  08:00:30.806 empty~ronchi90lpmm         117.2  45.00\n",
      " 146 science   HD 164461  08:01:24.756 quadnotch1~ronchi90lpmm     54.0  45.00\n",
      " 147 science   HD 164461  08:02:18.702 BG40~ronchi90lpmm           53.9  45.00\n",
      " 148 science   HD 164461  08:03:12.732 BG40~ronchi90lpmm           54.0  45.00\n",
      " 149 science   HD 164461  08:04:06.722 RG610~empty                 54.0  3.00\n",
      " 150 science   HD 164461  08:04:18.655 RG610~empty                 11.9  20.00\n",
      " 151 science   HD 146233  08:08:05.876 empty~ronchi90lpmm         227.2  45.00\n",
      " 152 science   HD 146233  08:08:59.808 quadnotch1~ronchi90lpmm     53.9  45.00\n",
      " 153 science   HD 146233  08:09:53.974 BG40~ronchi90lpmm           54.2  45.00\n",
      " 154 science   HD 146233  08:10:47.834 BG40~ronchi90lpmm           53.9  45.00\n",
      " 155 science   HD 146233  08:11:41.876 RG610~empty                 54.0  3.00\n",
      " 156 science   HD 146233  08:11:53.793 RG610~empty                 11.9  20.00\n",
      " 157 engtest   HD 146233  08:19:18.635 empty~ronchi90lpmm         444.8  15.00\n",
      " 158 engtest   HD 146233  08:20:26.721 empty~ronchi90lpmm          68.1  2.00\n",
      " 159 engtest   HD 146233  08:20:57.528 RG610~empty                 30.8  2.00\n",
      " 160 science   HD 167060  08:30:47.250 RG610~empty                589.7  15.00\n",
      " 161 science   HD 167060  08:31:49.636 RG610~empty                 62.4  15.00\n",
      " 162 science   HD 167060  08:32:40.770 empty~ronchi90lpmm          51.1  15.00\n",
      " 163 science   HD 167060  08:34:39.033 RG610~empty                118.3  15.00\n",
      " 164 science   HD 167060  08:34:58.686 empty~ronchi90lpmm          19.7  15.00\n",
      " 165 science   HD 167060  08:35:18.198 RG610~empty                 19.5  15.00\n",
      " 166 science   HD 167060  08:35:37.801 empty~ronchi90lpmm          19.6  15.00\n",
      " 167 science   HD 167060  08:35:57.325 RG610~empty                 19.5  15.00\n",
      " 168 science   HD 167060  08:36:16.905 empty~ronchi90lpmm          19.6  15.00\n",
      " 169 science   HD 167060  08:36:36.479 RG610~empty                 19.6  15.00\n",
      " 170 science   HD 167060  08:36:56.032 empty~ronchi90lpmm          19.6  15.00\n",
      " 171 science   HD 167060  08:37:15.616 RG610~empty                 19.6  15.00\n",
      " 172 science   HD 167060  08:37:35.118 empty~ronchi90lpmm          19.5  15.00\n",
      " 173 science   HD 167060  08:37:54.636 RG610~empty                 19.5  15.00\n",
      " 174 science   HD 167060  08:38:14.733 empty~ronchi90lpmm          20.1  15.00\n",
      " 175 science   HD 167060  08:38:34.318 RG610~empty                 19.6  15.00\n",
      " 176 science   HD 167060  08:38:53.876 empty~ronchi90lpmm          19.6  15.00\n",
      " 177 science   HD 167060  08:39:13.881 RG610~empty                 20.0  15.00\n",
      " 178 science   HD 167060  08:39:33.587 empty~ronchi90lpmm          19.7  15.00\n",
      " 179 science   HD 167060  08:39:53.164 RG610~empty                 19.6  15.00\n",
      " 180 science   HD 167060  08:40:12.721 empty~ronchi90lpmm          19.6  15.00\n",
      " 181 science   HD 167060  08:40:32.758 RG610~empty                 20.0  15.00\n",
      " 182 science   HD 167060  08:40:52.326 empty~ronchi90lpmm          19.6  15.00\n",
      " 183 science   HD 167060  08:41:11.887 RG610~empty                 19.6  15.00\n",
      " 184 science   HD 167060  08:41:31.458 empty~ronchi90lpmm          19.6  15.00\n",
      " 185 science   HD 167060  08:41:51.029 RG610~empty                 19.6  15.00\n",
      " 186 science   HD 167060  08:42:11.070 empty~ronchi90lpmm          20.0  15.00\n",
      " 187 science   HD 167060  08:42:30.590 RG610~empty                 19.5  15.00\n",
      " 188 science   HD 167060  08:42:50.162 empty~ronchi90lpmm          19.6  15.00\n",
      " 189 science   HD 167060  08:43:09.676 RG610~empty                 19.5  15.00\n",
      " 190 science   HD 167060  08:43:29.273 empty~ronchi90lpmm          19.6  15.00\n",
      " 191 science   HD 167060  08:43:48.850 RG610~empty                 19.6  15.00\n",
      " 192 science   HD 167060  08:44:08.894 empty~ronchi90lpmm          20.0  15.00\n",
      " 193 science   HD 167060  08:44:28.418 RG610~empty                 19.5  15.00\n",
      " 194 science   HD 167060  08:44:47.981 empty~ronchi90lpmm          19.6  15.00\n",
      " 195 science   HD 167060  08:45:07.552 RG610~empty                 19.6  15.00\n",
      " 196 science   HD 167060  08:45:27.099 empty~ronchi90lpmm          19.5  15.00\n",
      " 197 science   HD 167060  08:45:44.964 RG610~empty                 17.9  15.00\n",
      " 198 science   HD 167060  08:46:07.269 empty~ronchi90lpmm          22.3  15.00\n",
      " 199 science   HD 167060  08:46:26.796 RG610~empty                 19.5  15.00\n",
      " 200 science   HD 167060  08:46:46.396 empty~ronchi90lpmm          19.6  15.00\n",
      " 201 science   HD 167060  08:47:05.900 RG610~empty                 19.5  15.00\n",
      " 202 science   HD 167060  08:47:25.487 empty~ronchi90lpmm          19.6  15.00\n",
      " 203 science   HD 167060  08:47:45.515 RG610~empty                 20.0  15.00\n",
      " 204 science   HD 167060  08:48:05.055 empty~ronchi90lpmm          19.5  15.00\n",
      " 205 science   HD 167060  08:48:24.579 RG610~empty                 19.5  15.00\n",
      " 206 science   HD 167060  08:48:44.176 empty~ronchi90lpmm          19.6  15.00\n",
      " 207 science   HD 167060  08:49:03.747 RG610~empty                 19.6  15.00\n",
      " 208 science   HD 167060  08:49:23.825 empty~ronchi90lpmm          20.1  15.00\n",
      " 209 science   WD 1327-083 08:53:51.349 RG610~empty                267.5  15.00\n",
      " 210 science   WD 1327-083 08:56:20.353 RG610~empty                149.0  15.00\n",
      " 211 science   WD 1327-083 08:56:39.929 empty~ronchi90lpmm          19.6  15.00\n",
      " 212 science   WD 1327-083 08:56:59.957 RG610~empty                 20.0  15.00\n",
      " 213 science   WD 1327-083 08:57:19.517 empty~ronchi90lpmm          19.6  15.00\n",
      " 214 science   WD 1327-083 08:57:39.041 RG610~empty                 19.5  15.00\n",
      " 215 science   WD 1327-083 08:57:58.632 empty~ronchi90lpmm          19.6  15.00\n",
      " 216 science   WD 1327-083 08:58:18.119 RG610~empty                 19.5  15.00\n",
      " 217 science   WD 1327-083 08:58:37.673 empty~ronchi90lpmm          19.6  15.00\n",
      " 218 science   WD 1327-083 08:58:57.203 RG610~empty                 19.5  15.00\n",
      " 219 science   WD 1327-083 08:59:16.789 empty~ronchi90lpmm          19.6  15.00\n",
      " 220 science   WD 1327-083 08:59:36.374 RG610~empty                 19.6  15.00\n",
      " 221 science   WD 1327-083 08:59:55.909 empty~ronchi90lpmm          19.5  15.00\n",
      " 222 science   WD 1327-083 09:00:15.984 RG610~empty                 20.1  15.00\n",
      " 223 science   WD 1327-083 09:00:35.510 empty~ronchi90lpmm          19.5  15.00\n",
      " 224 science   WD 1327-083 09:00:55.093 RG610~empty                 19.6  15.00\n",
      " 225 science   WD 1327-083 09:01:15.151 empty~ronchi90lpmm          20.1  15.00\n",
      " 226 science   WD 1327-083 09:01:35.511 RG610~empty                 20.4  15.00\n",
      " 227 science   WD 1327-083 09:01:55.042 empty~ronchi90lpmm          19.5  15.00\n",
      " 228 science   WD 1327-083 09:02:14.572 RG610~empty                 19.5  15.00\n",
      " 229 science   WD 1327-083 09:02:34.156 empty~ronchi90lpmm          19.6  15.00\n",
      " 230 science   WD 1327-083 09:02:53.734 RG610~empty                 19.6  15.00\n",
      " 231 science   WD 1327-083 09:03:13.256 empty~ronchi90lpmm          19.5  15.00\n",
      " 232 science   WD 1327-083 09:03:32.813 RG610~empty                 19.6  15.00\n",
      " 233 science   WD 1327-083 09:03:52.335 empty~ronchi90lpmm          19.5  15.00\n",
      " 234 science   WD 1327-083 09:04:11.930 RG610~empty                 19.6  15.00\n",
      " 235 science   WD 1327-083 09:04:31.462 empty~ronchi90lpmm          19.5  15.00\n",
      " 236 science   WD 1327-083 09:04:51.528 RG610~empty                 20.1  15.00\n",
      " 237 science   WD 1327-083 09:05:11.030 empty~ronchi90lpmm          19.5  15.00\n",
      " 238 science   WD 1327-083 09:05:30.611 RG610~empty                 19.6  15.00\n",
      " 239 science   WD 1327-083 09:05:50.113 empty~ronchi90lpmm          19.5  15.00\n",
      " 240 science   WD 1327-083 09:06:09.708 RG610~empty                 19.6  15.00\n",
      " 241 science   WD 1327-083 09:06:29.241 empty~ronchi90lpmm          19.5  15.00\n",
      " 242 science   WD 1327-083 09:06:48.791 RG610~empty                 19.5  15.00\n",
      " 243 science   WD 1327-083 09:07:08.373 empty~ronchi90lpmm          19.6  15.00\n",
      " 244 science   WD 1327-083 09:07:28.434 RG610~empty                 20.1  15.00\n",
      " 245 science   WD 1327-083 09:07:48.441 empty~ronchi90lpmm          20.0  15.00\n",
      " 246 science   WD 1327-083 09:08:07.998 RG610~empty                 19.6  15.00\n",
      " 247 science   WD 1327-083 09:08:27.484 empty~ronchi90lpmm          19.5  15.00\n",
      " 248 science   WD 1327-083 09:08:47.010 RG610~empty                 19.5  15.00\n",
      " 249 science   WD 1327-083 09:09:06.543 empty~ronchi90lpmm          19.5  15.00\n",
      " 250 science   WD 1327-083 09:09:26.046 RG610~empty                 19.5  15.00\n",
      " 251 science   WD 1327-083 09:09:45.637 empty~ronchi90lpmm          19.6  15.00\n",
      " 252 science   WD 1327-083 09:10:05.652 RG610~empty                 20.0  15.00\n",
      " 253 science   WD 1327-083 09:10:25.238 empty~ronchi90lpmm          19.6  15.00\n",
      " 254 science   WD 1327-083 09:10:45.338 RG610~empty                 20.1  15.00\n",
      " 255 science   WD 1327-083 09:11:04.930 empty~ronchi90lpmm          19.6  15.00\n",
      " 256 science   WD 1327-083 09:11:24.423 RG610~empty                 19.5  15.00\n",
      " 257 science   WD 1327-083 09:11:43.964 empty~ronchi90lpmm          19.5  15.00\n",
      " 258 science   WD 1327-083 09:12:03.473 RG610~empty                 19.5  15.00\n",
      " 259 science   WD 1327-083 09:12:23.085 empty~ronchi90lpmm          19.6  15.00\n",
      " 260 science   WD 1327-083 09:12:43.110 RG610~empty                 20.0  15.00\n",
      " 261 science   WD 1327-083 09:13:02.725 empty~ronchi90lpmm          19.6  15.00\n",
      " 262 science   WD 1327-083 09:13:22.244 RG610~empty                 19.5  15.00\n",
      " 263 science   WD 1327-083 09:13:41.936 empty~ronchi90lpmm          19.7  15.00\n",
      " 264 science   WD 1327-083 09:14:01.971 RG610~empty                 20.0  15.00\n",
      " 265 science   WD 1327-083 09:14:21.550 empty~ronchi90lpmm          19.6  15.00\n",
      " 266 science   WD 1327-083 09:14:41.054 RG610~empty                 19.5  15.00\n",
      " 267 science   WD 1327-083 09:15:00.615 empty~ronchi90lpmm          19.6  15.00\n",
      " 268 science   WD 1327-083 09:15:20.412 RG610~empty                 19.8  15.00\n",
      " 269 science   WD 1327-083 09:15:39.932 empty~ronchi90lpmm          19.5  15.00\n",
      " 270 science   WD 1327-083 09:15:59.985 RG610~empty                 20.1  15.00\n",
      " 271 science   WD 1327-083 09:16:19.505 empty~ronchi90lpmm          19.5  15.00\n",
      " 272 science   WD 1327-083 09:16:39.095 RG610~empty                 19.6  15.00\n",
      " 273 science   WD 1327-083 09:16:59.135 empty~ronchi90lpmm          20.0  15.00\n",
      " 274 science   WD 1327-083 09:17:18.765 RG610~empty                 19.6  15.00\n",
      " 275 science   WD 1327-083 09:17:38.400 empty~ronchi90lpmm          19.6  15.00\n",
      " 276 science   WD 1327-083 09:17:57.960 RG610~empty                 19.6  15.00\n",
      " 277 science   WD 1327-083 09:18:17.975 empty~ronchi90lpmm          20.0  15.00\n",
      " 278 science   WD 1327-083 09:18:37.633 RG610~empty                 19.7  15.00\n",
      " 279 science   WD 1327-083 09:18:57.062 empty~ronchi90lpmm          19.4  15.00\n",
      " 280 science   WD 1327-083 09:19:16.649 RG610~empty                 19.6  15.00\n",
      " 281 science   WD 1327-083 09:19:36.167 empty~ronchi90lpmm          19.5  15.00\n",
      " 282 science   WD 1327-083 09:19:56.248 RG610~empty                 20.1  15.00\n",
      " 283 science   WD 1327-083 09:20:16.266 empty~ronchi90lpmm          20.0  15.00\n",
      " 284 science   WD 1327-083 09:20:35.833 RG610~empty                 19.6  15.00\n",
      " 285 science   WD 1327-083 09:20:55.317 empty~ronchi90lpmm          19.5  15.00\n",
      " 286 science   WD 1327-083 09:21:15.429 RG610~empty                 20.1  15.00\n",
      " 287 science   WD 1327-083 09:28:29.850 RG610~empty                434.4  15.00\n",
      " 288 science   WD 1327-083 09:28:49.326 empty~ronchi90lpmm          19.5  15.00\n",
      " 289 science   WD 1327-083 09:29:09.327 RG610~empty                 20.0  15.00\n",
      " 290 science   WD 1327-083 09:29:29.043 empty~ronchi90lpmm          19.7  15.00\n",
      " 291 science   WD 1327-083 09:29:48.557 RG610~empty                 19.5  15.00\n",
      " 292 science   WD 1327-083 09:30:08.174 empty~ronchi90lpmm          19.6  15.00\n",
      " 293 science   WD 1327-083 09:30:27.751 RG610~empty                 19.6  15.00\n",
      " 294 science   WD 1327-083 09:30:47.295 empty~ronchi90lpmm          19.5  15.00\n",
      " 295 science   WD 1327-083 09:31:06.774 RG610~empty                 19.5  15.00\n",
      " 296 science   WD 1327-083 09:31:26.833 empty~ronchi90lpmm          20.1  15.00\n",
      " 297 science   WD 1327-083 09:31:46.546 RG610~empty                 19.7  15.00\n",
      " 298 science   WD 1327-083 09:32:06.119 empty~ronchi90lpmm          19.6  15.00\n",
      " 299 science   WD 1327-083 09:32:25.643 RG610~empty                 19.5  15.00\n",
      " 300 science   WD 1327-083 09:32:45.731 empty~ronchi90lpmm          20.1  15.00\n",
      " 301 science   WD 1327-083 09:33:05.258 RG610~empty                 19.5  15.00\n",
      " 302 science   WD 1327-083 09:33:24.852 empty~ronchi90lpmm          19.6  15.00\n",
      " 303 science   WD 1327-083 09:33:44.855 RG610~empty                 20.0  15.00\n",
      " 304 science   WD 1327-083 09:34:04.459 empty~ronchi90lpmm          19.6  15.00\n",
      " 305 science   WD 1327-083 09:34:24.564 RG610~empty                 20.1  15.00\n",
      " 306 science   WD 1327-083 09:34:44.147 empty~ronchi90lpmm          19.6  15.00\n",
      " 307 science   WD 1327-083 09:35:03.669 RG610~empty                 19.5  15.00\n",
      " 308 science   WD 1327-083 09:35:23.228 empty~ronchi90lpmm          19.6  15.00\n",
      " 309 science   WD 1327-083 09:35:42.808 RG610~empty                 19.6  15.00\n",
      " 310 science   WD 1327-083 09:36:02.876 empty~ronchi90lpmm          20.1  15.00\n",
      " 311 science   WD 1327-083 09:36:22.434 RG610~empty                 19.6  15.00\n",
      " 312 science   WD 1327-083 09:36:41.976 empty~ronchi90lpmm          19.5  15.00\n",
      " 313 science   WD 1327-083 09:37:02.056 RG610~empty                 20.1  15.00\n",
      " 314 science   WD 1327-083 09:37:21.642 empty~ronchi90lpmm          19.6  15.00\n",
      " 315 science   WD 1327-083 09:37:41.218 RG610~empty                 19.6  15.00\n",
      " 316 science   WD 1327-083 09:38:00.764 empty~ronchi90lpmm          19.5  15.00\n",
      " 317 science   WD 1327-083 09:38:20.356 RG610~empty                 19.6  15.00\n",
      " 318 science   WD 1327-083 09:38:40.436 empty~ronchi90lpmm          20.1  15.00\n",
      " 319 science   WD 1327-083 09:39:00.016 RG610~empty                 19.6  15.00\n",
      " 320 science   WD 1327-083 09:39:19.562 empty~ronchi90lpmm          19.5  15.00\n",
      " 321 science   WD 1327-083 09:39:39.149 RG610~empty                 19.6  15.00\n",
      " 322 science   WD 1327-083 09:39:58.685 empty~ronchi90lpmm          19.5  15.00\n",
      " 323 science   WD 1327-083 09:40:18.756 RG610~empty                 20.1  15.00\n",
      " 324 science   WD 1327-083 09:40:38.288 empty~ronchi90lpmm          19.5  15.00\n",
      " 325 science   WD 1327-083 09:40:57.806 RG610~empty                 19.5  15.00\n",
      " 326 science   WD 1327-083 09:41:17.494 empty~ronchi90lpmm          19.7  15.00\n",
      " 327 science   WD 1327-083 09:41:36.996 RG610~empty                 19.5  15.00\n",
      " 328 science   WD 1327-083 09:41:56.550 empty~ronchi90lpmm          19.6  15.00\n",
      " 329 science   WD 1327-083 09:42:16.567 RG610~empty                 20.0  15.00\n",
      " 330 science   WD 1327-083 09:42:36.133 empty~ronchi90lpmm          19.6  15.00\n",
      " 331 science   WD 1327-083 09:42:55.651 RG610~empty                 19.5  15.00\n",
      " 332 science   WD 1327-083 09:43:15.272 empty~ronchi90lpmm          19.6  15.00\n",
      " 333 science   WD 1327-083 09:43:34.776 RG610~empty                 19.5  15.00\n",
      " 334 science   WD 1327-083 09:43:54.357 empty~ronchi90lpmm          19.6  15.00\n",
      " 335 science   WD 1327-083 09:44:13.853 RG610~empty                 19.5  15.00\n",
      " 336 science   WD 1327-083 09:44:33.955 empty~ronchi90lpmm          20.1  15.00\n",
      " 337 science   WD 1327-083 09:44:53.524 RG610~empty                 19.6  15.00\n",
      " 338 science   WD 1327-083 09:45:11.313 empty~ronchi90lpmm          17.8  15.00\n",
      " 339 science   WD 1327-083 09:45:32.773 RG610~empty                 21.5  15.00\n",
      " 340 science   WD 1327-083 09:45:52.338 empty~ronchi90lpmm          19.6  15.00\n",
      " 341 science   WD 1327-083 09:46:11.851 RG610~empty                 19.5  15.00\n",
      " 342 science   WD 1327-083 09:46:31.444 empty~ronchi90lpmm          19.6  15.00\n",
      " 343 science   WD 1327-083 09:46:51.469 RG610~empty                 20.0  15.00\n"
     ]
    }
   ],
   "source": [
    "reporter.printObsTable()"
   ]
  },
  {
   "cell_type": "markdown",
   "metadata": {},
   "source": [
    "## Butler Query meta data"
   ]
  },
  {
   "cell_type": "code",
   "execution_count": 30,
   "metadata": {},
   "outputs": [],
   "source": [
    "ids=butler.queryMetadata('raw',[\"dayObs\", \"seqNum\"],object=\"HD 185975\")"
   ]
  },
  {
   "cell_type": "code",
   "execution_count": 31,
   "metadata": {},
   "outputs": [
    {
     "name": "stdout",
     "output_type": "stream",
     "text": [
      "('2020-02-17', 252)\n",
      "('2020-02-17', 253)\n",
      "('2020-02-17', 262)\n",
      "('2020-02-17', 263)\n",
      "('2020-02-17', 264)\n",
      "('2020-02-17', 265)\n",
      "('2020-02-17', 266)\n",
      "('2020-02-17', 267)\n",
      "('2020-02-17', 268)\n",
      "('2020-02-17', 269)\n",
      "('2020-02-17', 270)\n"
     ]
    }
   ],
   "source": [
    "count=0\n",
    "for dataid in ids:\n",
    "    print(dataid)\n",
    "    count+=1\n",
    "    if count>10:\n",
    "        break"
   ]
  },
  {
   "cell_type": "markdown",
   "metadata": {},
   "source": [
    "## Some visualisation"
   ]
  },
  {
   "cell_type": "code",
   "execution_count": 32,
   "metadata": {},
   "outputs": [],
   "source": [
    "%matplotlib inline"
   ]
  },
  {
   "cell_type": "code",
   "execution_count": 33,
   "metadata": {},
   "outputs": [
    {
     "name": "stderr",
     "output_type": "stream",
     "text": [
      "/home/dagoret/repos/rapid_analysis/python/lsst/rapid/analysis/nightReport.py:135: MatplotlibDeprecationWarning: Adding an axes using the same arguments as a previous axes currently reuses the earlier instance.  In a future version, a new instance will always be created and returned.  Meanwhile, this warning can be suppressed, and the future behavior ensured, by passing a unique label to each axes instance.\n",
      "  ax = plt.subplot(111, polar=True)\n"
     ]
    },
    {
     "data": {
      "image/png": "[encoded data removed]",
      "text/plain": [
       "<Figure size 720x720 with 1 Axes>"
      ]
     },
     "metadata": {
      "needs_background": "light"
     },
     "output_type": "display_data"
    }
   ],
   "source": [
    "reporter.makePolarPlotForObjects()"
   ]
  },
  {
   "cell_type": "code",
   "execution_count": 34,
   "metadata": {},
   "outputs": [
    {
     "data": {
      "image/png": "[encoded data removed]",
      "text/plain": [
       "<Figure size 720x432 with 1 Axes>"
      ]
     },
     "metadata": {
      "needs_background": "light"
     },
     "output_type": "display_data"
    }
   ],
   "source": [
    "reporter.plotPerObjectAirMass(versusMjd=False)"
   ]
  },
  {
   "cell_type": "code",
   "execution_count": 35,
   "metadata": {},
   "outputs": [
    {
     "name": "stderr",
     "output_type": "stream",
     "text": [
      "2021-02-18 12:54:53  astro_metadata_translator.headers fix_header           CRITICAL Ignoring translator header fixup of LATISS AT_O_20200315_000162: 'MJD-OBS not found'\n"
     ]
    }
   ],
   "source": [
    "exp=butler.get('quickLookExp',dayObs=dayObs,seqNum=seqNum)"
   ]
  },
  {
   "cell_type": "code",
   "execution_count": 36,
   "metadata": {},
   "outputs": [],
   "source": [
    "display1.mtv(exp)"
   ]
  },
  {
   "cell_type": "code",
   "execution_count": 37,
   "metadata": {},
   "outputs": [
    {
     "data": {
      "text/plain": [
       "<matplotlib.image.AxesImage at 0x7f68e12bce10>"
      ]
     },
     "execution_count": 37,
     "metadata": {},
     "output_type": "execute_result"
    },
    {
     "data": {
      "image/png": "[encoded data removed]",
      "text/plain": [
       "<Figure size 1440x360 with 3 Axes>"
      ]
     },
     "metadata": {
      "needs_background": "light"
     },
     "output_type": "display_data"
    }
   ],
   "source": [
    "fig=plt.figure(figsize=(20,5))\n",
    "ax1=fig.add_subplot(131)\n",
    "ax1.imshow(exp.image.array,origin=\"lower\",cmap=\"jet\")\n",
    "ax2=fig.add_subplot(132)\n",
    "ax2.imshow(exp.mask.array,origin=\"lower\",cmap=\"jet\")\n",
    "ax3=fig.add_subplot(133)\n",
    "ax3.imshow(exp.variance.array,origin=\"lower\",cmap=\"jet\")"
   ]
  },
  {
   "cell_type": "code",
   "execution_count": 38,
   "metadata": {},
   "outputs": [
    {
     "data": {
      "text/plain": [
       "(4000, 4072)"
      ]
     },
     "execution_count": 38,
     "metadata": {},
     "output_type": "execute_result"
    }
   ],
   "source": [
    "exp.image.array.shape"
   ]
  },
  {
   "cell_type": "code",
   "execution_count": 39,
   "metadata": {},
   "outputs": [
    {
     "data": {
      "text/plain": [
       "(4096, 4608)"
      ]
     },
     "execution_count": 39,
     "metadata": {},
     "output_type": "execute_result"
    }
   ],
   "source": [
    "raw.image.array.shape"
   ]
  },
  {
   "cell_type": "markdown",
   "metadata": {},
   "source": [
    "## Meta Data"
   ]
  },
  {
   "cell_type": "code",
   "execution_count": 40,
   "metadata": {},
   "outputs": [],
   "source": [
    "md=butler.get(\"raw_md\",dayObs=dayObs,seqNum=seqNum)"
   ]
  },
  {
   "cell_type": "code",
   "execution_count": 41,
   "metadata": {},
   "outputs": [
    {
     "data": {
      "text/plain": [
       "{'SIMPLE': True,\n",
       " 'EXTEND': True,\n",
       " 'COMMENT': [\"  FITS (Flexible Image Transport System) format is defined in 'Astronomy\",\n",
       "  \"  and Astrophysics', volume 376, page 359; bibcode: 2001A&A...376..359H\",\n",
       "  \"  FITS (Flexible Image Transport System) format is defined in 'Astronomy\",\n",
       "  \"  and Astrophysics', volume 376, page 359; bibcode: 2001A&A...376..359H\",\n",
       "  '---- Date, night and basic image information ----',\n",
       "  '---- Telescope info, location, observer ----',\n",
       "  '---- Pointing info, etc. ----',\n",
       "  '---- TAN Projection ----',\n",
       "  '---- Image-identifying used to build OBS-ID ----',\n",
       "  '---- Information from Camera ----',\n",
       "  '---- Geometry from Camera ----',\n",
       "  '---- Filter/grating information ----',\n",
       "  '---- Exposure-related information ----',\n",
       "  '---- Header information ----',\n",
       "  '---- Checksums ----'],\n",
       " 'ORIGIN': 'LSST DM Header Service',\n",
       " 'TIMESYS': 'TAI',\n",
       " 'DATE': '2020-03-16T08:32:58.938',\n",
       " 'DATE-OBS': '2020-03-16T08:32:40.770',\n",
       " 'DATE-BEG': '2020-03-16T08:32:40.770',\n",
       " 'DATE-END': '2020-03-16T08:33:35.621',\n",
       " 'MJD': 58924.3562377053,\n",
       " 'MJD-OBS': 58924.3560274306,\n",
       " 'MJD-BEG': 58924.3560274306,\n",
       " 'MJD-END': 58924.3566622773,\n",
       " 'OBSID': 'AT_O_20200315_000162',\n",
       " 'GROUPID': '2020-03-16T08:32:38.552',\n",
       " 'IMGTYPE': 'OBJECT',\n",
       " 'BUNIT': 'adu',\n",
       " 'FACILITY': 'Vera C. Rubin Observatory',\n",
       " 'TELESCOP': 'LSST AuxTelescope',\n",
       " 'INSTRUME': 'LATISS',\n",
       " 'OBSERVER': 'LSST',\n",
       " 'OBS-LONG': -70.749417,\n",
       " 'OBS-LAT': -30.244639,\n",
       " 'OBS-ELEV': 2663.0,\n",
       " 'OBSGEO-X': 1818938.94,\n",
       " 'OBSGEO-Y': -5208470.95,\n",
       " 'OBSGEO-Z': -3195172.08,\n",
       " 'RA': 274.433929166667,\n",
       " 'DEC': -61.7087838888889,\n",
       " 'RASTART': None,\n",
       " 'DECSTART': None,\n",
       " 'RAEND': None,\n",
       " 'DECEND': None,\n",
       " 'ROTPA': -111.583003,\n",
       " 'ROTCOORD': 'sky',\n",
       " 'HASTART': None,\n",
       " 'ELSTART': 47.9643294795387,\n",
       " 'AZSTART': 150.925315995191,\n",
       " 'AMSTART': None,\n",
       " 'HAEND': None,\n",
       " 'ELEND': 47.9958123548859,\n",
       " 'AZEND': 150.950275738214,\n",
       " 'AMEND': None,\n",
       " 'INSTPORT': 2,\n",
       " 'ATM3PORT': None,\n",
       " 'TRACKSYS': 'SIDEREAL',\n",
       " 'RADESYS': 'ICRS',\n",
       " 'FOCUSZ': 0.341553627388,\n",
       " 'OBJECT': 'HD 167060',\n",
       " 'WCSAXES': 2,\n",
       " 'CTYPE1': 'RA---TAN',\n",
       " 'CTYPE2': 'DEC--TAN',\n",
       " 'CUNIT1': 'deg',\n",
       " 'CUNIT2': 'deg',\n",
       " 'CRVAL1': 274.433929166667,\n",
       " 'CRVAL2': -61.7087838888889,\n",
       " 'CRPIX1': 2000.0,\n",
       " 'CRPIX2': 2036.0,\n",
       " 'CD1_1': -0.104638705012656,\n",
       " 'CD1_2': 0.008702954284286,\n",
       " 'CD2_1': -0.008702954284286,\n",
       " 'CD2_2': -0.104638705012656,\n",
       " 'EQUINOX': 2000.0,\n",
       " 'TELCODE': 'AT',\n",
       " 'CONTRLLR': 'O',\n",
       " 'DAYOBS': '20200315',\n",
       " 'SEQNUM': 162,\n",
       " 'CCD_MANU': '',\n",
       " 'CCD_TYPE': '',\n",
       " 'CCD_SERN': '',\n",
       " 'LSST_NUM': 'ITL-3800C-068',\n",
       " 'SEQCKSUM': 2,\n",
       " 'SEQNAME': 'PathFinder',\n",
       " 'REBNAME': '',\n",
       " 'CONTNUM': '',\n",
       " 'IMAGETAG': '',\n",
       " 'TEMP_SET': -104.150001525879,\n",
       " 'CCDTEMP': -100.936485290527,\n",
       " 'OVERH': None,\n",
       " 'OVERV': None,\n",
       " 'PREH': None,\n",
       " 'FILTER': 'empty_1',\n",
       " 'FILTPOS': 1,\n",
       " 'GRATING': 'ronchi90lpmm',\n",
       " 'GRATPOS': 2,\n",
       " 'LINSPOS': 59.9970016479492,\n",
       " 'EXPTIME': 15.0,\n",
       " 'SHUTTIME': None,\n",
       " 'DARKTIME': 0.0,\n",
       " 'FILENAME': 'AT_O_20200315_000162.fits',\n",
       " 'HEADVER': '1.4.0',\n",
       " 'XTENSION': 'IMAGE',\n",
       " 'BITPIX': 32,\n",
       " 'NAXIS': 2,\n",
       " 'NAXIS1': 576,\n",
       " 'NAXIS2': 2048,\n",
       " 'PCOUNT': 0,\n",
       " 'GCOUNT': 1,\n",
       " 'EXTNAME': 'Segment10',\n",
       " 'INHERIT': True,\n",
       " 'DATASEC': '[4:512,1:2000]',\n",
       " 'DETSEC': '[509:1,1:2000]',\n",
       " 'DETSIZE': '[1:4072,1:4000]',\n",
       " 'DTV1': 513,\n",
       " 'DTV2': 0,\n",
       " 'DTM1_1': -1.0,\n",
       " 'DTM2_2': 1.0,\n",
       " 'DTM1_2': 0,\n",
       " 'DTM2_1': 0}"
      ]
     },
     "execution_count": 41,
     "metadata": {},
     "output_type": "execute_result"
    }
   ],
   "source": [
    "md.toDict()"
   ]
  },
  {
   "cell_type": "code",
   "execution_count": 42,
   "metadata": {},
   "outputs": [],
   "source": [
    "rowNum=2005"
   ]
  },
  {
   "cell_type": "code",
   "execution_count": 43,
   "metadata": {},
   "outputs": [
    {
     "data": {
      "text/plain": [
       "[<matplotlib.lines.Line2D at 0x7f68e122d410>]"
      ]
     },
     "execution_count": 43,
     "metadata": {},
     "output_type": "execute_result"
    },
    {
     "data": {
      "image/png": "[encoded data removed]",
      "text/plain": [
       "<Figure size 432x288 with 1 Axes>"
      ]
     },
     "metadata": {
      "needs_background": "light"
     },
     "output_type": "display_data"
    }
   ],
   "source": [
    "plt.plot(range(1700,1900),exp.image.array[rowNum,1700:1900])"
   ]
  },
  {
   "cell_type": "code",
   "execution_count": null,
   "metadata": {},
   "outputs": [],
   "source": []
  }
 ],
 "metadata": {
  "kernelspec": {
   "display_name": "LSST",
   "language": "python",
   "name": "lsst"
  },
  "language_info": {
   "codemirror_mode": {
    "name": "ipython",
    "version": 3
   },
   "file_extension": ".py",
   "mimetype": "text/x-python",
   "name": "python",
   "nbconvert_exporter": "python",
   "pygments_lexer": "ipython3",
   "version": "3.7.8"
  }
 },
 "nbformat": 4,
 "nbformat_minor": 4
}
