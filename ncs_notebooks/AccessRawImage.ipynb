{
 "cells": [
  {
   "cell_type": "markdown",
   "metadata": {},
   "source": [
    "# First study for AuxTel"
   ]
  },
  {
   "cell_type": "code",
   "execution_count": 10,
   "metadata": {},
   "outputs": [],
   "source": [
    "# ! pip install pyds9 --user\n",
    "# !pip list -v"
   ]
  },
  {
   "cell_type": "code",
   "execution_count": 11,
   "metadata": {},
   "outputs": [],
   "source": [
    "import sys\n",
    "sys.path.append(\"/home/dagoret/.local/lib/python3.8/site-packages\") # go to parent dir"
   ]
  },
  {
   "cell_type": "code",
   "execution_count": 34,
   "metadata": {},
   "outputs": [],
   "source": [
    "import matplotlib.pyplot as plt\n",
    "%matplotlib inline"
   ]
  },
  {
   "cell_type": "code",
   "execution_count": 13,
   "metadata": {},
   "outputs": [
    {
     "name": "stdout",
     "output_type": "stream",
     "text": [
      "libxpa.so  __pycache__\tpyds9-1.8.1.dist-info  pyds9.py  xpans\txpa.py\n"
     ]
    }
   ],
   "source": [
    "!ls /home/dagoret/.local/lib/python3.8/site-packages"
   ]
  },
  {
   "cell_type": "code",
   "execution_count": 12,
   "metadata": {},
   "outputs": [
    {
     "name": "stderr",
     "output_type": "stream",
     "text": [
      "/home/dagoret/.local/lib/python3.8/site-packages/pyds9.py:94: UserWarning: Can't locate DS9 executable. Please add the DS9 directory to your PATH and try again.\n",
      "  warnings.warn(ds9_warning)\n"
     ]
    }
   ],
   "source": [
    "import pyds9"
   ]
  },
  {
   "cell_type": "code",
   "execution_count": 16,
   "metadata": {},
   "outputs": [
    {
     "name": "stdout",
     "output_type": "stream",
     "text": [
      "\u001b[0m\u001b[01;34m2020-03-25\u001b[0m/  \u001b[01;34m2020-03-27\u001b[0m/  \u001b[01;34m2020-04-07\u001b[0m/  \u001b[01;34m2020-04-10\u001b[0m/\n"
     ]
    }
   ],
   "source": [
    "ls /lsstdata/offline/teststand/NCSA_auxTel/storage"
   ]
  },
  {
   "cell_type": "code",
   "execution_count": 24,
   "metadata": {},
   "outputs": [],
   "source": [
    "fits_image_filename=\"/lsstdata/offline/teststand/NCSA_auxTel/storage/2020-04-10/AT_O_20200410_000001--R00S00.fits\""
   ]
  },
  {
   "cell_type": "code",
   "execution_count": 18,
   "metadata": {},
   "outputs": [],
   "source": [
    "#from pyds9 import *"
   ]
  },
  {
   "cell_type": "code",
   "execution_count": 19,
   "metadata": {},
   "outputs": [
    {
     "name": "stdout",
     "output_type": "stream",
     "text": [
      "None\n"
     ]
    }
   ],
   "source": [
    "#print(ds9_targets())\n",
    "#d = ds9('/lsstdata/offline/teststand/NCSA_auxTel/storage/2020-04-10/AT_O_20200410_000001--R00S00.fits')"
   ]
  },
  {
   "cell_type": "code",
   "execution_count": null,
   "metadata": {},
   "outputs": [],
   "source": []
  },
  {
   "cell_type": "code",
   "execution_count": 25,
   "metadata": {},
   "outputs": [],
   "source": [
    "from astropy.io import fits"
   ]
  },
  {
   "cell_type": "code",
   "execution_count": 26,
   "metadata": {},
   "outputs": [],
   "source": [
    "hdul = fits.open(fits_image_filename)"
   ]
  },
  {
   "cell_type": "code",
   "execution_count": 27,
   "metadata": {},
   "outputs": [
    {
     "name": "stdout",
     "output_type": "stream",
     "text": [
      "Filename: /lsstdata/offline/teststand/NCSA_auxTel/storage/2020-04-10/AT_O_20200410_000001--R00S00.fits\n",
      "No.    Name      Ver    Type      Cards   Dimensions   Format\n",
      "  0  PRIMARY       1 PrimaryHDU     121   ()      \n",
      "  1  Segment10     1 ImageHDU        18   (576, 2048)   int32   \n",
      "  2  Segment11     1 ImageHDU        18   (576, 2048)   int32   \n",
      "  3  Segment12     1 ImageHDU        18   (576, 2048)   int32   \n",
      "  4  Segment13     1 ImageHDU        18   (576, 2048)   int32   \n",
      "  5  Segment14     1 ImageHDU        18   (576, 2048)   int32   \n",
      "  6  Segment15     1 ImageHDU        18   (576, 2048)   int32   \n",
      "  7  Segment16     1 ImageHDU        18   (576, 2048)   int32   \n",
      "  8  Segment17     1 ImageHDU        18   (576, 2048)   int32   \n",
      "  9  Segment07     1 ImageHDU        18   (576, 2048)   int32   \n",
      " 10  Segment06     1 ImageHDU        18   (576, 2048)   int32   \n",
      " 11  Segment05     1 ImageHDU        18   (576, 2048)   int32   \n",
      " 12  Segment04     1 ImageHDU        18   (576, 2048)   int32   \n",
      " 13  Segment03     1 ImageHDU        18   (576, 2048)   int32   \n",
      " 14  Segment02     1 ImageHDU        18   (576, 2048)   int32   \n",
      " 15  Segment01     1 ImageHDU        18   (576, 2048)   int32   \n",
      " 16  Segment00     1 ImageHDU        18   (576, 2048)   int32   \n"
     ]
    }
   ],
   "source": [
    "hdul.info()"
   ]
  },
  {
   "cell_type": "code",
   "execution_count": 30,
   "metadata": {},
   "outputs": [
    {
     "data": {
      "text/plain": [
       "array([[110630, 114499, 117596, ..., 132371, 132288, 132287],\n",
       "       [132329, 132289, 132307, ..., 132278, 132261, 132280],\n",
       "       [132306, 132279, 132315, ..., 132270, 132300, 132252],\n",
       "       ...,\n",
       "       [132306, 132261, 132336, ..., 132315, 132253, 132304],\n",
       "       [132332, 132319, 132277, ..., 132338, 132285, 132298],\n",
       "       [132340, 132267, 132306, ..., 132341, 132279, 132294]], dtype=int32)"
      ]
     },
     "execution_count": 30,
     "metadata": {},
     "output_type": "execute_result"
    }
   ],
   "source": [
    "hdul[1].data"
   ]
  },
  {
   "cell_type": "code",
   "execution_count": 36,
   "metadata": {},
   "outputs": [
    {
     "data": {
      "text/plain": [
       "<matplotlib.image.AxesImage at 0x7fbec941a550>"
      ]
     },
     "execution_count": 36,
     "metadata": {},
     "output_type": "execute_result"
    },
    {
     "data": {
      "image/png": "[encoded data removed]",
      "text/plain": [
       "<Figure size 432x288 with 1 Axes>"
      ]
     },
     "metadata": {
      "needs_background": "light"
     },
     "output_type": "display_data"
    }
   ],
   "source": [
    "plt.imshow(hdul[2].data,origin=\"lower\")"
   ]
  },
  {
   "cell_type": "code",
   "execution_count": null,
   "metadata": {},
   "outputs": [],
   "source": []
  }
 ],
 "metadata": {
  "kernelspec": {
   "display_name": "LSST",
   "language": "python",
   "name": "lsst"
  },
  "language_info": {
   "codemirror_mode": {
    "name": "ipython",
    "version": 3
   },
   "file_extension": ".py",
   "mimetype": "text/x-python",
   "name": "python",
   "nbconvert_exporter": "python",
   "pygments_lexer": "ipython3",
   "version": "3.8.8"
  }
 },
 "nbformat": 4,
 "nbformat_minor": 4
}
