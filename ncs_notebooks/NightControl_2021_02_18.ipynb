{
 "cells": [
  {
   "cell_type": "markdown",
   "metadata": {},
   "source": [
    "# Observations for the night February 18th 2021\n",
    "\n",
    "https://harvard.zoom.us/rec/play/N7umVF8Rk3vWvW_O3jkaTinofB2WxW3QKz0fVai_K-qvAYLt37uMrvskOlnBiMEjduSeQVzWT7_DDYzc.IY7Pqjef82YlWmZE?continueMode=true&_x_zm_rtaid=BjQYrDaETYeYRUMw8NQgLw.1613559822570.c813d210d38e378b719cb4048493df5b&_x_zm_rhtaid=205\n",
    "\n",
    "\n",
    "- work with wl_2021_02\n",
    "- use jupyter kernel LSST\n",
    "- requires the installation https://github.com/mfisherlevine/summit\n",
    "- requires to write in file {HOME}/notebooks/.user_setups\n"
   ]
  },
  {
   "cell_type": "code",
   "execution_count": 1,
   "metadata": {},
   "outputs": [],
   "source": [
    "#!/bin/sh\n",
    "# This file is expected to be found in ${HOME}/notebooks/.user_setups\n",
    "#  It is a shell fragment that will be sourced during kernel startup\n",
    "#  when the LSST kernel is started in a JupyterLab environment.  It runs\n",
    "#  in the user context and can contain arbitrary shell code.  Exported changes\n",
    "#  in its environment will persist into the JupyterLab Python environment.\n",
    "\n",
    "#    setup -j rapid_analysis -r ${HOME}/repos/rapid_analysis\n",
    "#    setup -j atmospec       -r ${HOME}/repos/atmospec"
   ]
  },
  {
   "cell_type": "code",
   "execution_count": 2,
   "metadata": {},
   "outputs": [
    {
     "name": "stdout",
     "output_type": "stream",
     "text": [
      "afw                   21.0.0-7-g484459ba0+ec3713772a \tcurrent w_2021_02 setup\n",
      "alert_packet          master-g9c6f3ccb69 \tcurrent w_2021_02 setup\n",
      "ap_association        21.0.0-3-g88e2395+3185591824 \tcurrent w_2021_02 setup\n",
      "ap_pipe               21.0.0-8-ga29d378+1e78883ff8 \tcurrent w_2021_02 setup\n",
      "ap_verify             21.0.0-8-ge08b8c0+00a3cd4381 \tcurrent w_2021_02 setup\n",
      "astro_metadata_translator 0.1.0-18-g39729a3+2c88556dba \tcurrent w_2021_02 setup\n",
      "astshim               21.0.0-2-g45278ab+1b62c9342b \tcurrent w_2021_02 setup\n",
      "atmospec              LOCAL:/home/dagoret/repos/atmospec \tsetup\n",
      "base                  21.0.0-3-g5051ac2+1b62c9342b \tcurrent w_2021_02 setup\n",
      "cbp                   21.0.0-2-g143869c+68734f91bf \tcurrent w_2021_02 setup\n",
      "coadd_utils           21.0.0-2-g7f82c8f+0fa6211a2a \tcurrent w_2021_02 setup\n",
      "cp_pipe               21.0.0-5-gb7080ec+be549261b9 \tcurrent w_2021_02 setup\n",
      "ctrl_bps              21.0.0-6-g55737e1+9538d236c5 \tcurrent w_2021_02 setup\n",
      "ctrl_execute          21.0.0-2-g3d7e797+d6fe5bc27d \tcurrent w_2021_02 setup\n",
      "ctrl_mpexec           21.0.0-14-g834ab33+a13561ece8 \tcurrent w_2021_02 setup\n",
      "ctrl_orca             21.0.0-2-gfca2c14+59e272c9e0 \tcurrent w_2021_02 setup\n",
      "ctrl_platform_lsstvc  21.0.0-2-g181865c+6a3411a030 \tcurrent w_2021_02 setup\n",
      "ctrl_pool             21.0.0-2-ga326454+0fa6211a2a \tcurrent w_2021_02 setup\n",
      "daf_base              21.0.0+4a36882ba2 \tcurrent w_2021_02 setup\n",
      "daf_butler            21.0.0-23-g491dce9c+05ed0ab9e4 \tcurrent w_2021_02 setup\n",
      "daf_persistence       21.0.0-2-ga885a99+4aa8b35973 \tcurrent w_2021_02 setup\n",
      "dax_apdb              21.0.0-2-g5242d73+68734f91bf \tcurrent w_2021_02 setup\n",
      "display_ds9           21.0.0-2-g1367e85+68734f91bf \tcurrent w_2021_02 setup\n",
      "display_firefly       21.0.0-2-g8dde007+38856ba921 \tcurrent w_2021_02 setup\n",
      "display_matplotlib    21.0.0-2-gfc62afb+68734f91bf \tcurrent w_2021_02 setup\n",
      "eigen                 3.3.7.lsst2-1-g398bedf \tcurrent w_2021_02 setup\n",
      "fgcm                  lsst-dev-geab6a24725 \tcurrent w_2021_02 setup\n",
      "fgcmcal               21.0.0-4-g8a80011+74311aebad \tcurrent w_2021_02 setup\n",
      "firefly_client        lsst-dev-g508dc7262a \tcurrent w_2021_02 setup\n",
      "geom                  21.0.0-2-g8f08a60+05ed0ab9e4 \tcurrent w_2021_02 setup\n",
      "ip_diffim             21.0.0-2-g973f35b+f47790aff8 \tcurrent w_2021_02 setup\n",
      "ip_isr                21.0.0-1-g763706f+208f2a4a9f \tcurrent w_2021_02 setup\n",
      "jointcal              21.0.0-5-gcff38f6+b65dafa625 \tcurrent w_2021_02 setup\n",
      "jointcal_cholmod      master-gaea3fc0611+1b62c9342b \tcurrent w_2021_02 setup\n",
      "kht                   lsst-dev-g85ae2b9583+fe93bf5141 \tcurrent w_2021_02 setup\n",
      "log                   21.0.0-2-g2909d54+4a36882ba2 \tcurrent w_2021_02 setup\n",
      "lsst_apps             21.0.0-1-ge4b456e+585237544f \tcurrent w_2021_02 setup\n",
      "lsst_distrib          21.0.0-1-g00ce914+d6245ebd2e \tcurrent w_2021_02 setup\n",
      "lsst_obs              21.0.0-2-g1d50a98+bc1f23a3fd \tcurrent w_2021_02 setup\n",
      "meas_algorithms       21.0.0-6-g2b8c1f54+6e06838a0f \tcurrent w_2021_02 setup\n",
      "meas_astrom           21.0.0-2-g35ce6d5+208f2a4a9f \tcurrent w_2021_02 setup\n",
      "meas_base             21.0.0-3-g4c5b185+ac3e4e795c \tcurrent w_2021_02 setup\n",
      "meas_deblender        21.0.0-2-gc738bc1+8a19e45a34 \tcurrent w_2021_02 setup\n",
      "meas_extensions_convolved 21.0.0-2-g7713827+f807012f6a \tcurrent w_2021_02 setup\n",
      "meas_extensions_photometryKron 21.0.0-2-g66bcc37+208f2a4a9f \tcurrent w_2021_02 setup\n",
      "meas_extensions_psfex 21.0.0-2-ge712728+70cd99b747 \tcurrent w_2021_02 setup\n",
      "meas_extensions_scarlet 21.0.0-3-g5fe0b64+7f2b107c6d \tcurrent w_2021_02 setup\n",
      "meas_extensions_shapeHSM 21.0.0-2-gf484ad7+208f2a4a9f \tcurrent w_2021_02 setup\n",
      "meas_extensions_simpleShape 21.0.0-2-g103fe59+2bc87ea2bc \tcurrent w_2021_02 setup\n",
      "meas_modelfit         21.0.0-2-gecfae73+761aeb991c \tcurrent w_2021_02 setup\n",
      "obs_base              21.0.0-13-ge9a044d+c2b517099a \tcurrent w_2021_02 setup\n",
      "obs_cfht              21.0.0-3-g77dfe11+74a1446280 \tcurrent w_2021_02 setup\n",
      "obs_decam             21.0.0-2-g54e2caa+9f891e6da2 \tcurrent w_2021_02 setup\n",
      "obs_decam_data        21.0.0-1-g1fa5c9e \tcurrent w_2021_02 setup\n",
      "obs_lsst              LOCAL:/home/dagoret/repos/obs_lsst \tsetup\n",
      "obs_lsst_data         21.0.0-1-g7ccd743 \tcurrent w_2021_02 setup\n",
      "obs_subaru            21.0.0-8-gb1908a40+887cc32eba \tcurrent w_2021_02 setup\n",
      "obs_subaru_data       21.0.0-1-g2f68bc2 \tcurrent w_2021_02 setup\n",
      "obs_test              21.0.0-2-g4bc9b9f+c9c0b05420 \tcurrent w_2021_02 setup\n",
      "obs_test_data         21.0.0-1-g86cffb0 \tcurrent w_2021_02 setup\n",
      "pex_config            21.0.0-1-ga51b5d4+2c88556dba \tcurrent w_2021_02 setup\n",
      "pex_exceptions        21.0.0-2-gde069b7+d0bdec52a8 \tcurrent w_2021_02 setup\n",
      "pipe_base             21.0.0-6-gd3283ba+e447110da9 \tcurrent w_2021_02 setup\n",
      "pipe_drivers          21.0.0-2-ga63a54e+10477bcf77 \tcurrent w_2021_02 setup\n",
      "pipe_tasks            21.0.0-20-g55224fe4+fb58a89680 \tcurrent w_2021_02 setup\n",
      "proxmin               lsst-dev-g79c0498783 \tcurrent w_2021_02 setup\n",
      "psfex                 21.0.0-2-g03166ea+1b62c9342b \tcurrent w_2021_02 setup\n",
      "rapid_analysis        LOCAL:/home/dagoret/repos/rapid_analysis \tsetup\n",
      "scarlet               lsst-dev-gaccceaf1d0+f31336177f \tcurrent w_2021_02 setup\n",
      "scarlet_extensions    21.0.0+2809726f89 \tcurrent w_2021_02 setup\n",
      "sconsUtils            21.0.0-2-gf03364c \tcurrent w_2021_02 setup\n",
      "sdm_schemas           21.0.0-1-ge52cb69+1b62c9342b \tcurrent w_2021_02 setup\n",
      "shapelet              21.0.0-2-ge17e5af+68734f91bf \tcurrent w_2021_02 setup\n",
      "skymap                21.0.0-3-gaa929c8+e447110da9 \tcurrent w_2021_02 setup\n",
      "sphgeom               21.0.0+1b62c9342b \tcurrent w_2021_02 setup\n",
      "utils                 21.0.0-3-gd222c45+21ef063859 \tcurrent w_2021_02 setup\n",
      "validate_drp          21.0.0-2-g8f39060+a43240b7c1 \tcurrent w_2021_02 setup\n",
      "verify                21.0.0-2-g557ca81+59617fe31d \tcurrent w_2021_02 setup\n",
      "verify_metrics        21.0.0-2-gfc76737+1b62c9342b \tcurrent w_2021_02 setup\n"
     ]
    }
   ],
   "source": [
    "! eups list -s"
   ]
  },
  {
   "cell_type": "code",
   "execution_count": 3,
   "metadata": {},
   "outputs": [],
   "source": [
    "# correct for bug in stack in wl_2021_02\n",
    "%config IPCompleter.use_jedi=False"
   ]
  },
  {
   "cell_type": "markdown",
   "metadata": {},
   "source": [
    "# Import"
   ]
  },
  {
   "cell_type": "code",
   "execution_count": 4,
   "metadata": {},
   "outputs": [],
   "source": [
    "import os\n",
    "import matplotlib.pyplot as plt\n",
    "import numpy as np\n",
    "%matplotlib inline\n",
    "from matplotlib.colors import LogNorm\n",
    "\n",
    "from mpl_toolkits.axes_grid1 import make_axes_locatable\n",
    "\n",
    "import matplotlib.ticker                         # here's where the formatter is\n",
    "from matplotlib.ticker import (MultipleLocator, FormatStrFormatter,\n",
    "                               AutoMinorLocator)"
   ]
  },
  {
   "cell_type": "code",
   "execution_count": 5,
   "metadata": {},
   "outputs": [],
   "source": [
    "import lsst.daf.persistence as dafPersist\n",
    "import lsst.afw.display as afwDisplay\n",
    "afwDisplay.setDefaultBackend(\"lsst.display.firefly\")"
   ]
  },
  {
   "cell_type": "markdown",
   "metadata": {},
   "source": [
    "# Logbook with rapid analysis"
   ]
  },
  {
   "cell_type": "code",
   "execution_count": 6,
   "metadata": {},
   "outputs": [
    {
     "name": "stdout",
     "output_type": "stream",
     "text": [
      "Loaded data for seqNums 3 to 707\n"
     ]
    }
   ],
   "source": [
    "from lsst.rapid.analysis.nightReport import NightReporter\n",
    "repoDir='/project/shared/auxTel'\n",
    "reporter=NightReporter(repoDir,\"2021-02-18\")"
   ]
  },
  {
   "cell_type": "code",
   "execution_count": 7,
   "metadata": {},
   "outputs": [
    {
     "data": {
      "text/plain": [
       "['HD 93521',\n",
       " 'HD 114449',\n",
       " 'HD 101341',\n",
       " 'HD 14943',\n",
       " 'HR 4963',\n",
       " 'HD 185975',\n",
       " 'HR1996',\n",
       " 'HD 164461',\n",
       " 'HD 34816',\n",
       " 'HD 14556',\n",
       " 'HD 116009',\n",
       " 'HD 60753',\n",
       " 'HD 38553',\n",
       " 'HD 38666',\n",
       " 'HD 60517',\n",
       " 'HR 4468',\n",
       " 'HD 63214',\n",
       " 'HD 63077',\n",
       " 'HD 34950',\n",
       " 'HD164461']"
      ]
     },
     "execution_count": 7,
     "metadata": {},
     "output_type": "execute_result"
    }
   ],
   "source": [
    "reporter.getObservedObjects()"
   ]
  },
  {
   "cell_type": "code",
   "execution_count": 8,
   "metadata": {},
   "outputs": [
    {
     "name": "stderr",
     "output_type": "stream",
     "text": [
      "/home/dagoret/repos/rapid_analysis/python/lsst/rapid/analysis/nightReport.py:135: MatplotlibDeprecationWarning: Adding an axes using the same arguments as a previous axes currently reuses the earlier instance.  In a future version, a new instance will always be created and returned.  Meanwhile, this warning can be suppressed, and the future behavior ensured, by passing a unique label to each axes instance.\n",
      "  ax = plt.subplot(111, polar=True)\n"
     ]
    }
   ],
   "source": [
    "reporter.makePolarPlotForObjects()"
   ]
  },
  {
   "cell_type": "code",
   "execution_count": 9,
   "metadata": {},
   "outputs": [],
   "source": [
    "reporter.plotPerObjectAirMass(versusMjd=False)"
   ]
  },
  {
   "cell_type": "code",
   "execution_count": 10,
   "metadata": {},
   "outputs": [
    {
     "name": "stdout",
     "output_type": "stream",
     "text": [
      "{seqNum:4} {imageType:9} {obj:10} {timeOfDay} {filt:25} {dt.sec:6.1f}  {expTime:2.2f}\n",
      "   3 bias      FlatField position 21:31:47.794 RG610~empty                  0.0  0.00\n",
      "   4 bias      FlatField position 21:33:22.490 RG610~empty                 94.7  0.00\n",
      "   5 bias      FlatField position 21:33:24.835 RG610~empty                  2.3  0.00\n",
      "   6 bias      azel_target 22:00:38.288 RG610~empty               1633.5  0.00\n",
      "   7 bias      azel_target 22:01:16.704 RG610~empty                 38.4  0.00\n",
      "   8 bias      azel_target 22:01:21.199 RG610~empty                  4.5  0.00\n",
      "   9 bias      azel_target 22:01:25.700 RG610~empty                  4.5  0.00\n",
      "  10 bias      azel_target 22:01:30.226 RG610~empty                  4.5  0.00\n",
      "  11 bias      azel_target 22:01:34.726 RG610~empty                  4.5  0.00\n",
      "  12 bias      azel_target 22:01:39.217 RG610~empty                  4.5  0.00\n",
      "  13 bias      azel_target 22:01:43.713 RG610~empty                  4.5  0.00\n",
      "  14 bias      azel_target 22:01:48.214 RG610~empty                  4.5  0.00\n",
      "  15 bias      azel_target 22:01:52.711 RG610~empty                  4.5  0.00\n",
      "  16 bias      azel_target 22:01:57.212 RG610~empty                  4.5  0.00\n",
      "  17 bias      azel_target 22:02:01.707 RG610~empty                  4.5  0.00\n",
      "  18 bias      azel_target 22:02:06.202 RG610~empty                  4.5  0.00\n",
      "  19 bias      azel_target 22:02:10.700 RG610~empty                  4.5  0.00\n",
      "  20 bias      azel_target 22:02:15.196 RG610~empty                  4.5  0.00\n",
      "  21 bias      azel_target 22:02:19.692 RG610~empty                  4.5  0.00\n",
      "  22 bias      azel_target 22:02:24.190 RG610~empty                  4.5  0.00\n",
      "  23 bias      azel_target 22:02:28.692 RG610~empty                  4.5  0.00\n",
      "  24 bias      azel_target 22:02:33.188 RG610~empty                  4.5  0.00\n",
      "  25 bias      azel_target 22:02:37.686 RG610~empty                  4.5  0.00\n",
      "  26 bias      azel_target 22:02:42.183 RG610~empty                  4.5  0.00\n",
      "  27 bias      azel_target 22:02:46.687 RG610~empty                  4.5  0.00\n",
      "  28 bias      azel_target 22:02:51.181 RG610~empty                  4.5  0.00\n",
      "  29 bias      azel_target 22:02:55.680 RG610~empty                  4.5  0.00\n",
      "  30 bias      azel_target 22:03:00.177 RG610~empty                  4.5  0.00\n",
      "  31 bias      azel_target 22:03:04.672 RG610~empty                  4.5  0.00\n",
      "  32 bias      azel_target 22:03:09.168 RG610~empty                  4.5  0.00\n",
      "  33 bias      azel_target 22:03:13.666 RG610~empty                  4.5  0.00\n",
      "  34 bias      azel_target 22:03:18.167 RG610~empty                  4.5  0.00\n",
      "  35 bias      azel_target 22:03:22.663 RG610~empty                  4.5  0.00\n",
      "  36 bias      azel_target 22:03:27.165 RG610~empty                  4.5  0.00\n",
      "  37 bias      azel_target 22:03:31.662 RG610~empty                  4.5  0.00\n",
      "  38 bias      azel_target 22:03:36.159 RG610~empty                  4.5  0.00\n",
      "  39 bias      azel_target 22:03:40.658 RG610~empty                  4.5  0.00\n",
      "  40 bias      azel_target 22:03:45.168 RG610~empty                  4.5  0.00\n",
      "  41 bias      azel_target 22:03:49.664 RG610~empty                  4.5  0.00\n",
      "  42 bias      azel_target 22:03:54.160 RG610~empty                  4.5  0.00\n",
      "  43 bias      azel_target 22:03:58.657 RG610~empty                  4.5  0.00\n",
      "  44 bias      azel_target 22:04:03.158 RG610~empty                  4.5  0.00\n",
      "  45 bias      azel_target 22:04:07.691 RG610~empty                  4.5  0.00\n",
      "  46 bias      azel_target 22:04:12.189 RG610~empty                  4.5  0.00\n",
      "  47 bias      azel_target 22:04:16.686 RG610~empty                  4.5  0.00\n",
      "  48 bias      azel_target 22:04:21.186 RG610~empty                  4.5  0.00\n",
      "  49 bias      azel_target 22:04:25.682 RG610~empty                  4.5  0.00\n",
      "  50 bias      azel_target 22:04:30.180 RG610~empty                  4.5  0.00\n",
      "  51 bias      azel_target 22:04:34.679 RG610~empty                  4.5  0.00\n",
      "  52 bias      azel_target 22:04:39.180 RG610~empty                  4.5  0.00\n",
      "  53 bias      azel_target 22:04:43.677 RG610~empty                  4.5  0.00\n",
      "  54 bias      azel_target 22:04:48.178 RG610~empty                  4.5  0.00\n",
      "  55 bias      azel_target 22:04:53.181 RG610~empty                  5.0  0.00\n",
      "  56 bias      azel_target 22:04:57.678 RG610~empty                  4.5  0.00\n",
      "  57 dark      azel_target 22:05:27.626 RG610~empty                 29.9  10.00\n",
      "  58 dark      azel_target 22:05:40.116 RG610~empty                 12.5  10.00\n",
      "  59 dark      azel_target 22:05:52.617 RG610~empty                 12.5  10.00\n",
      "  60 dark      azel_target 22:06:05.117 RG610~empty                 12.5  10.00\n",
      "  61 dark      azel_target 22:06:17.607 RG610~empty                 12.5  10.00\n",
      "  62 dark      azel_target 22:06:30.106 RG610~empty                 12.5  10.00\n",
      "  63 dark      azel_target 22:06:42.606 RG610~empty                 12.5  10.00\n",
      "  64 dark      azel_target 22:06:55.109 RG610~empty                 12.5  10.00\n",
      "  65 dark      azel_target 22:07:07.600 RG610~empty                 12.5  10.00\n",
      "  66 dark      azel_target 22:07:20.091 RG610~empty                 12.5  10.00\n",
      "  67 flat      azel_target 22:07:49.991 RG610~empty                 29.9  2.00\n",
      "  68 flat      azel_target 22:07:54.567 RG610~empty                  4.6  2.00\n",
      "  69 flat      azel_target 22:07:59.147 RG610~empty                  4.6  2.00\n",
      "  70 flat      azel_target 22:08:03.741 RG610~empty                  4.6  2.00\n",
      "  71 flat      azel_target 22:08:08.309 RG610~empty                  4.6  2.00\n",
      "  72 flat      azel_target 22:08:12.869 RG610~empty                  4.6  2.00\n",
      "  73 flat      azel_target 22:08:17.449 RG610~empty                  4.6  2.00\n",
      "  74 flat      azel_target 22:08:22.014 RG610~empty                  4.6  2.00\n",
      "  75 flat      azel_target 22:08:26.589 RG610~empty                  4.6  2.00\n",
      "  76 flat      azel_target 22:08:31.152 RG610~empty                  4.6  2.00\n",
      "  77 flat      azel_target 22:08:57.604 empty~empty                 26.5  0.20\n",
      "  78 flat      azel_target 22:09:02.686 empty~empty                  5.1  0.20\n",
      "  79 flat      azel_target 22:09:05.656 empty~empty                  3.0  0.40\n",
      "  80 flat      azel_target 22:09:10.925 empty~empty                  5.3  0.40\n",
      "  81 flat      azel_target 22:09:14.025 empty~empty                  3.1  0.60\n",
      "  82 flat      azel_target 22:09:19.435 empty~empty                  5.4  0.60\n",
      "  83 flat      azel_target 22:09:22.738 empty~empty                  3.3  0.80\n",
      "  84 flat      azel_target 22:09:28.353 empty~empty                  5.6  0.80\n",
      "  85 flat      azel_target 22:09:31.823 empty~empty                  3.5  1.00\n",
      "  86 flat      azel_target 22:09:37.648 empty~empty                  5.8  1.00\n",
      "  87 flat      azel_target 22:09:41.312 empty~empty                  3.7  1.20\n",
      "  88 flat      azel_target 22:09:47.324 empty~empty                  6.0  1.20\n",
      "  89 flat      azel_target 22:09:51.190 empty~empty                  3.9  1.40\n",
      "  90 flat      azel_target 22:09:57.413 empty~empty                  6.2  1.40\n",
      "  91 flat      azel_target 22:10:01.491 empty~empty                  4.1  1.60\n",
      "  92 flat      azel_target 22:10:07.903 empty~empty                  6.4  1.60\n",
      "  93 flat      azel_target 22:10:12.161 empty~empty                  4.3  1.80\n",
      "  94 flat      azel_target 22:10:18.784 empty~empty                  6.6  1.80\n",
      "  95 flat      azel_target 22:10:23.311 empty~empty                  4.5  2.00\n",
      "  96 flat      azel_target 22:10:27.971 empty~empty                  4.7  2.00\n",
      "  97 flat      azel_target 22:10:32.708 empty~empty                  4.7  2.20\n",
      "  98 flat      azel_target 22:10:37.569 empty~empty                  4.9  2.20\n",
      "  99 flat      azel_target 22:10:42.431 empty~empty                  4.9  2.40\n",
      " 100 flat      azel_target 22:10:47.492 empty~empty                  5.1  2.40\n",
      " 101 flat      azel_target 22:10:52.566 empty~empty                  5.1  2.60\n",
      " 102 flat      azel_target 22:10:57.839 empty~empty                  5.3  2.60\n",
      " 103 flat      azel_target 22:11:03.118 empty~empty                  5.3  2.80\n",
      " 104 flat      azel_target 22:11:08.584 empty~empty                  5.5  2.80\n",
      " 105 flat      azel_target 22:11:14.062 empty~empty                  5.5  3.00\n",
      " 106 flat      azel_target 22:11:19.736 empty~empty                  5.7  3.00\n",
      " 107 flat      azel_target 22:11:25.402 empty~empty                  5.7  3.20\n",
      " 108 flat      azel_target 22:11:31.265 empty~empty                  5.9  3.20\n",
      " 109 flat      azel_target 22:11:37.130 empty~empty                  5.9  3.40\n",
      " 110 flat      azel_target 22:11:43.187 empty~empty                  6.1  3.40\n",
      " 111 flat      azel_target 22:11:49.245 empty~empty                  6.1  3.60\n",
      " 112 flat      azel_target 22:11:55.508 empty~empty                  6.3  3.60\n",
      " 113 flat      azel_target 22:12:01.771 empty~empty                  6.3  3.80\n",
      " 114 flat      azel_target 22:12:08.231 empty~empty                  6.5  3.80\n",
      " 115 flat      azel_target 22:12:14.696 empty~empty                  6.5  4.00\n",
      " 116 flat      azel_target 22:12:21.363 empty~empty                  6.7  4.00\n",
      " 117 flat      azel_target 23:09:51.149 RG610~empty               3449.8  1.00\n",
      " 118 flat      azel_target 23:10:30.141 RG610~empty                 39.0  0.20\n",
      " 119 flat      azel_target 23:14:03.378 empty~empty                213.2  0.20\n",
      " 120 flat      azel_target 23:14:39.629 empty~empty                 36.3  0.10\n",
      " 121 flat      azel_target 23:15:50.820 RG610~empty                 71.2  0.20\n",
      " 122 flat      azel_target 23:16:00.302 empty~empty                  9.5  0.10\n",
      " 123 flat      azel_target 23:17:04.695 RG610~empty                 64.4  0.20\n",
      " 124 flat      azel_target 23:17:14.189 empty~empty                  9.5  0.10\n",
      " 125 flat      azel_target 23:18:18.615 RG610~empty                 64.4  0.20\n",
      " 126 flat      azel_target 23:18:28.092 empty~empty                  9.5  0.10\n",
      " 127 flat      azel_target 23:19:32.507 RG610~empty                 64.4  0.20\n",
      " 128 flat      azel_target 23:19:42.092 empty~empty                  9.6  0.10\n",
      " 129 flat      azel_target 23:20:46.449 RG610~empty                 64.4  0.20\n",
      " 130 flat      azel_target 23:20:55.927 empty~empty                  9.5  0.10\n",
      " 131 flat      azel_target 23:25:01.326 RG610~empty                245.4  0.20\n",
      " 132 flat      azel_target 23:25:10.802 empty~empty                  9.5  0.10\n",
      " 133 flat      azel_target 23:26:15.203 RG610~empty                 64.4  0.20\n",
      " 134 flat      azel_target 23:26:24.777 empty~empty                  9.6  0.10\n",
      " 135 flat      azel_target 23:27:29.176 RG610~empty                 64.4  0.20\n",
      " 136 flat      azel_target 23:27:38.670 empty~empty                  9.5  0.10\n",
      " 137 flat      azel_target 23:28:43.069 RG610~empty                 64.4  0.20\n",
      " 138 flat      azel_target 23:28:52.562 empty~empty                  9.5  0.10\n",
      " 139 flat      azel_target 23:29:57.001 RG610~empty                 64.4  0.20\n",
      " 140 flat      azel_target 23:30:06.490 empty~empty                  9.5  0.10\n",
      " 141 flat      azel_target 23:31:34.265 RG610~empty                 87.8  0.20\n",
      " 142 flat      azel_target 23:31:43.722 empty~empty                  9.5  0.10\n",
      " 143 flat      azel_target 23:32:48.191 RG610~empty                 64.5  0.20\n",
      " 144 flat      azel_target 23:32:57.690 empty~empty                  9.5  0.10\n",
      " 145 flat      azel_target 23:34:02.088 RG610~empty                 64.4  0.20\n",
      " 146 flat      azel_target 23:34:11.654 empty~empty                  9.6  0.10\n",
      " 147 flat      azel_target 23:35:16.053 RG610~empty                 64.4  0.20\n",
      " 148 flat      azel_target 23:35:25.545 empty~empty                  9.5  0.10\n",
      " 149 flat      azel_target 23:36:29.946 RG610~empty                 64.4  0.20\n",
      " 150 flat      azel_target 23:36:39.431 empty~empty                  9.5  0.10\n",
      " 151 flat      azel_target 23:38:07.271 RG610~empty                 87.8  0.40\n",
      " 152 flat      azel_target 23:38:16.958 empty~empty                  9.7  0.20\n",
      " 153 flat      azel_target 23:39:21.549 RG610~empty                 64.6  0.40\n",
      " 154 flat      azel_target 23:39:31.248 empty~empty                  9.7  0.20\n",
      " 155 flat      azel_target 23:40:35.743 RG610~empty                 64.5  0.40\n",
      " 156 flat      azel_target 23:40:45.420 empty~empty                  9.7  0.20\n",
      " 157 flat      azel_target 23:41:49.869 RG610~empty                 64.4  0.40\n",
      " 158 flat      azel_target 23:41:59.550 empty~empty                  9.7  0.20\n",
      " 159 flat      azel_target 23:43:04.044 RG610~empty                 64.5  0.40\n",
      " 160 flat      azel_target 23:43:13.731 empty~empty                  9.7  0.20\n",
      " 161 flat      azel_target 23:44:29.143 RG610~empty                 75.4  2.00\n",
      " 162 flat      azel_target 23:44:40.424 empty~empty                 11.3  1.00\n",
      " 163 flat      azel_target 23:45:45.735 RG610~empty                 65.3  2.00\n",
      " 164 flat      azel_target 23:45:57.021 empty~empty                 11.3  1.00\n",
      " 165 flat      azel_target 23:47:02.315 RG610~empty                 65.3  2.00\n",
      " 166 flat      azel_target 23:47:13.559 empty~empty                 11.2  1.00\n",
      " 167 flat      azel_target 23:48:18.862 RG610~empty                 65.3  2.00\n",
      " 168 flat      azel_target 23:48:30.259 empty~empty                 11.4  1.00\n",
      " 169 flat      azel_target 23:49:35.567 RG610~empty                 65.3  2.00\n",
      " 170 flat      azel_target 23:49:46.914 empty~empty                 11.3  1.00\n",
      " 171 flat      azel_target 23:51:11.971 RG610~empty                 85.1  8.00\n",
      " 172 flat      azel_target 23:51:29.251 empty~empty                 17.3  4.00\n",
      " 173 flat      azel_target 23:52:37.560 RG610~empty                 68.3  8.00\n",
      " 174 flat      azel_target 23:52:54.838 empty~empty                 17.3  4.00\n",
      " 175 flat      azel_target 23:54:03.126 RG610~empty                 68.3  8.00\n",
      " 176 flat      azel_target 23:54:20.425 empty~empty                 17.3  4.00\n",
      " 177 flat      azel_target 23:55:28.710 RG610~empty                 68.3  8.00\n",
      " 178 flat      azel_target 23:55:45.998 empty~empty                 17.3  4.00\n",
      " 179 flat      azel_target 23:56:54.308 RG610~empty                 68.3  8.00\n",
      " 180 flat      azel_target 23:57:11.622 empty~empty                 17.3  4.00\n",
      " 181 flat      azel_target 23:59:28.250 RG610~empty                136.6  40.00\n",
      " 182 flat      azel_target 00:00:17.585 empty~empty                 49.3  20.00\n",
      " 183 flat      azel_target 00:01:41.886 RG610~empty                 84.3  40.00\n",
      " 184 flat      azel_target 00:02:31.236 empty~empty                 49.3  20.00\n",
      " 185 science   HD 38553   00:07:57.775 RG610~empty                326.5  1.00\n",
      " 186 engtest   HD 38553   00:09:01.021 RG610~empty                 63.2  20.00\n",
      " 187 engtest   HD 38553   00:09:28.244 RG610~empty                 27.2  20.00\n",
      " 188 engtest   HD 38553   00:13:05.237 RG610~empty                217.0  20.00\n",
      " 189 engtest   HD 38553   00:13:32.456 RG610~empty                 27.2  20.00\n",
      " 190 science   HD 34950   00:23:33.563 RG610~empty                601.1  1.00\n",
      " 191 engtest   HD 34950   00:24:28.890 RG610~empty                 55.3  20.00\n",
      " 192 engtest   HD 34950   00:24:57.587 RG610~empty                 28.7  20.00\n",
      " 193 engtest   HD 34950   00:26:11.103 RG610~empty                 73.5  20.00\n",
      " 194 engtest   HD 34950   00:26:38.575 RG610~empty                 27.5  20.00\n",
      " 195 engtest   HD 34950   00:27:53.795 RG610~empty                 75.2  20.00\n",
      " 196 engtest   HD 34950   00:28:21.022 RG610~empty                 27.2  20.00\n",
      " 197 engtest   HD 34950   00:29:36.815 RG610~empty                 75.8  20.00\n",
      " 198 engtest   HD 34950   00:30:04.328 RG610~empty                 27.5  20.00\n",
      " 199 science   HD 164461  00:47:13.822 RG610~empty               1029.5  0.40\n",
      " 200 science   HD 164461  00:47:38.880 RG610~empty                 25.1  0.40\n",
      " 201 science   HD 164461  00:49:33.419 RG610~ronchi90lpmm         114.5  11.91\n",
      " 202 science   HD 164461  00:49:47.917 RG610~ronchi90lpmm          14.5  11.91\n",
      " 203 science   HD 164461  00:50:02.424 RG610~ronchi90lpmm          14.5  11.91\n",
      " 204 science   HD 164461  00:50:16.917 RG610~ronchi90lpmm          14.5  11.91\n",
      " 205 science   HD 164461  00:50:31.414 RG610~ronchi90lpmm          14.5  11.91\n",
      " 206 science   HD 164461  00:50:55.981 empty~empty                 24.6  11.91\n",
      " 207 science   HD 164461  00:51:10.484 empty~empty                 14.5  11.91\n",
      " 208 science   HD 164461  00:51:29.957 RG610~empty                 19.5  1.00\n",
      " 209 science   HD 164461  00:54:38.570 RG610~ronchi90lpmm         188.6  11.91\n",
      " 210 science   HD 164461  00:54:53.050 RG610~ronchi90lpmm          14.5  11.91\n",
      " 211 science   HD 164461  00:55:07.543 RG610~ronchi90lpmm          14.5  11.91\n",
      " 212 science   HD 164461  00:55:22.035 RG610~ronchi90lpmm          14.5  11.91\n",
      " 213 science   HD 164461  00:55:36.527 RG610~ronchi90lpmm          14.5  11.91\n",
      " 214 science   HD 164461  00:56:00.783 empty~empty                 24.3  11.91\n",
      " 215 science   HD 164461  00:56:15.296 empty~empty                 14.5  11.91\n",
      " 216 science   HD 164461  00:56:35.073 RG610~empty                 19.8  1.00\n",
      " 217 engtest   HD 164461  00:57:43.081 empty~empty                 68.0  5.00\n",
      " 218 engtest   HD164461   01:01:14.914 empty~empty                211.8  2.00\n",
      " 219 engtest   HR1996     01:06:57.203 empty~empty                342.3  5.00\n",
      " 220 science   HD 38553   01:11:52.545 RG610~empty                295.3  1.00\n",
      " 221 engtest   HD 38553   01:13:18.823 RG610~empty                 86.3  20.00\n",
      " 222 engtest   HD 38553   01:13:46.319 RG610~empty                 27.5  20.00\n",
      " 223 engtest   HD 38553   01:15:00.340 RG610~empty                 74.0  20.00\n",
      " 224 engtest   HD 38553   01:15:28.827 RG610~empty                 28.5  20.00\n",
      " 225 science   HD 38553   01:16:40.461 RG610~empty                 71.6  5.00\n",
      " 226 science   HD 38666   01:18:45.154 RG610~empty                124.7  0.40\n",
      " 227 science   HD 38666   01:19:10.413 RG610~empty                 25.3  0.40\n",
      " 228 science   HD 38666   01:19:34.405 RG610~empty                 24.0  0.40\n",
      " 229 science   HD 38666   01:20:02.429 RG610~ronchi90lpmm          28.0  11.91\n",
      " 230 science   HD 38666   01:20:16.912 RG610~ronchi90lpmm          14.5  11.91\n",
      " 231 science   HD 38666   01:20:31.406 RG610~ronchi90lpmm          14.5  11.91\n",
      " 232 science   HD 38666   01:20:45.897 RG610~ronchi90lpmm          14.5  11.91\n",
      " 233 science   HD 38666   01:21:00.433 RG610~ronchi90lpmm          14.5  11.91\n",
      " 234 science   HD 38666   01:21:24.757 empty~empty                 24.3  11.91\n",
      " 235 science   HD 38666   01:21:39.253 empty~empty                 14.5  11.91\n",
      " 236 science   HD 38666   01:21:58.624 RG610~empty                 19.4  1.00\n",
      " 237 science   HD 60517   01:25:29.855 RG610~empty                211.2  1.00\n",
      " 238 engtest   HD 60517   01:26:03.654 RG610~empty                 33.8  20.00\n",
      " 239 engtest   HD 60517   01:26:30.821 RG610~empty                 27.2  20.00\n",
      " 240 science   HD 60517   01:27:39.861 RG610~empty                 69.0  5.00\n",
      " 241 science   HD 60753   01:30:34.962 RG610~empty                175.1  0.40\n",
      " 242 science   HD 60753   01:31:02.758 RG610~empty                 27.8  0.40\n",
      " 243 science   HD 60753   01:31:24.787 RG610~empty                 22.0  0.40\n",
      " 244 science   HD 60753   01:34:27.320 RG610~ronchi90lpmm         182.5  15.00\n",
      " 245 science   HD 60753   01:34:44.904 RG610~ronchi90lpmm          17.6  15.00\n",
      " 246 science   HD 60753   01:35:02.483 RG610~ronchi90lpmm          17.6  15.00\n",
      " 247 science   HD 60753   01:35:20.061 RG610~ronchi90lpmm          17.6  15.00\n",
      " 248 science   HD 60753   01:35:37.637 RG610~ronchi90lpmm          17.6  15.00\n",
      " 249 science   HD 63214   01:39:00.397 RG610~empty                202.8  1.00\n",
      " 250 engtest   HD 63214   01:39:51.532 RG610~empty                 51.1  20.00\n",
      " 251 engtest   HD 63214   01:40:18.751 RG610~empty                 27.2  20.00\n",
      " 252 science   HD 63214   01:41:30.359 RG610~empty                 71.6  5.00\n",
      " 253 science   HD 63077   01:44:25.712 RG610~empty                175.4  0.40\n",
      " 254 science   HD 63077   01:44:53.760 RG610~empty                 28.0  0.40\n",
      " 255 science   HD 63077   01:45:16.263 RG610~empty                 22.5  0.40\n",
      " 256 science   HD 63077   01:45:29.328 RG610~ronchi90lpmm          13.1  15.00\n",
      " 257 science   HD 63077   01:45:46.908 RG610~ronchi90lpmm          17.6  15.00\n",
      " 258 science   HD 63077   01:46:04.481 RG610~ronchi90lpmm          17.6  15.00\n",
      " 259 science   HD 63077   01:46:22.065 RG610~ronchi90lpmm          17.6  15.00\n",
      " 260 science   HD 63077   01:46:39.644 RG610~ronchi90lpmm          17.6  15.00\n",
      " 261 science   HD 63077   01:47:07.082 empty~empty                 27.4  15.00\n",
      " 262 science   HD 63077   01:47:24.667 empty~empty                 17.6  15.00\n",
      " 263 science   HD 63077   01:47:47.414 RG610~empty                 22.7  1.00\n",
      " 264 science   HD 185975  01:48:57.510 RG610~empty                 70.1  1.00\n",
      " 265 engtest   HD 185975  01:49:30.783 RG610~empty                 33.3  20.00\n",
      " 266 engtest   HD 185975  01:49:58.059 RG610~empty                 27.3  20.00\n",
      " 267 engtest   HD 185975  01:51:12.903 RG610~empty                 74.8  20.00\n",
      " 268 engtest   HD 185975  01:51:40.140 RG610~empty                 27.2  20.00\n",
      " 269 science   HD 185975  01:52:49.351 RG610~empty                 69.2  5.00\n",
      " 270 science   HD 164461  01:54:14.325 RG610~empty                 85.0  0.40\n",
      " 271 science   HD 164461  01:54:42.309 RG610~empty                 28.0  0.40\n",
      " 272 science   HD 164461  01:55:09.508 RG610~empty                 27.2  0.40\n",
      " 273 science   HD 164461  01:55:32.376 RG610~empty                 22.9  0.40\n",
      " 274 science   HD 164461  01:55:45.212 RG610~ronchi90lpmm          12.8  15.00\n",
      " 275 science   HD 164461  01:56:02.794 RG610~ronchi90lpmm          17.6  15.00\n",
      " 276 science   HD 164461  02:01:47.006 RG610~ronchi90lpmm         344.2  5.00\n",
      " 277 science   HD 164461  02:03:02.381 RG610~empty                 75.4  0.40\n",
      " 278 science   HD 164461  02:03:30.358 RG610~empty                 28.0  0.40\n",
      " 279 science   HD 164461  02:03:57.266 RG610~empty                 26.9  0.40\n",
      " 280 science   HD 164461  02:04:19.512 RG610~empty                 22.2  0.40\n",
      " 281 science   HD 164461  02:04:32.133 RG610~ronchi90lpmm          12.6  15.00\n",
      " 282 science   HD 164461  02:04:49.724 RG610~ronchi90lpmm          17.6  15.00\n",
      " 283 science   HD 164461  02:05:07.327 RG610~ronchi90lpmm          17.6  15.00\n",
      " 284 science   HD 164461  02:05:24.902 RG610~ronchi90lpmm          17.6  15.00\n",
      " 285 science   HD 164461  02:05:42.478 RG610~ronchi90lpmm          17.6  15.00\n",
      " 286 science   HD 164461  02:06:09.438 empty~empty                 27.0  15.00\n",
      " 287 science   HD 164461  02:06:27.008 empty~empty                 17.6  15.00\n",
      " 288 science   HD 164461  02:06:49.780 RG610~empty                 22.8  1.00\n",
      " 289 science   HD 34950   02:12:08.157 RG610~empty                318.4  1.00\n",
      " 290 science   HD 34950   02:15:00.175 RG610~empty                172.0  1.00\n",
      " 291 engtest   HD 34950   02:15:21.302 RG610~empty                 21.1  20.00\n",
      " 292 engtest   HD 34950   02:15:48.929 RG610~empty                 27.6  20.00\n",
      " 293 engtest   HD 34950   02:17:05.147 RG610~empty                 76.2  20.00\n",
      " 294 engtest   HD 34950   02:17:33.308 RG610~empty                 28.2  20.00\n",
      " 295 engtest   HD 34950   02:18:49.247 RG610~empty                 75.9  20.00\n",
      " 296 engtest   HD 34950   02:19:16.508 RG610~empty                 27.3  20.00\n",
      " 297 science   HD 34950   02:20:26.057 RG610~empty                 69.5  5.00\n",
      " 298 science   HD 34816   02:21:53.314 RG610~empty                 87.3  0.40\n",
      " 299 science   HD 34816   02:22:20.545 RG610~empty                 27.2  0.40\n",
      " 300 science   HD 34816   02:22:46.775 RG610~empty                 26.2  0.40\n",
      " 301 science   HD 34816   02:28:05.799 RG610~ronchi90lpmm         319.0  15.00\n",
      " 302 science   HD 34816   02:28:23.375 RG610~ronchi90lpmm          17.6  15.00\n",
      " 303 science   HD 34816   02:28:40.962 RG610~ronchi90lpmm          17.6  15.00\n",
      " 304 science   HD 34816   02:28:58.533 RG610~ronchi90lpmm          17.6  15.00\n",
      " 305 science   HD 34816   02:29:16.162 RG610~ronchi90lpmm          17.6  15.00\n",
      " 306 science   HD 34816   02:35:10.251 RG610~empty                354.1  0.40\n",
      " 307 science   HD 34816   02:35:38.113 RG610~empty                 27.9  0.40\n",
      " 308 science   HD 34816   02:36:04.176 RG610~empty                 26.1  0.40\n",
      " 309 science   HD 34816   02:36:26.207 RG610~empty                 22.0  0.40\n",
      " 310 science   HD 34816   02:36:38.936 RG610~ronchi90lpmm          12.7  15.00\n",
      " 311 science   HD 34816   02:36:56.521 RG610~ronchi90lpmm          17.6  15.00\n",
      " 312 science   HD 34816   02:37:14.123 RG610~ronchi90lpmm          17.6  15.00\n",
      " 313 science   HD 34816   02:37:31.720 RG610~ronchi90lpmm          17.6  15.00\n",
      " 314 science   HD 34816   02:37:49.296 RG610~ronchi90lpmm          17.6  15.00\n",
      " 315 science   HD 34816   02:38:16.852 empty~empty                 27.6  15.00\n",
      " 316 science   HD 34816   02:38:34.426 empty~empty                 17.6  15.00\n",
      " 317 science   HD 34816   02:38:57.733 RG610~empty                 23.3  1.00\n",
      " 318 science   HD 14556   02:43:02.729 RG610~empty                245.0  1.00\n",
      " 319 engtest   HD 14556   02:43:22.984 RG610~empty                 20.3  20.00\n",
      " 320 engtest   HD 14556   02:43:50.240 RG610~empty                 27.3  20.00\n",
      " 321 science   HD 14556   02:45:02.559 RG610~empty                 72.3  5.00\n",
      " 322 science   HD 14943   02:48:11.298 RG610~empty                188.7  0.40\n",
      " 323 science   HD 14943   02:52:20.274 RG610~empty                249.0  0.40\n",
      " 324 science   HD 14943   02:52:47.767 RG610~empty                 27.5  0.40\n",
      " 325 science   HD 14943   02:53:14.772 RG610~empty                 27.0  0.40\n",
      " 326 science   HD 14943   02:58:50.019 RG610~ronchi90lpmm         335.2  15.00\n",
      " 327 science   HD 14943   02:59:07.607 RG610~ronchi90lpmm          17.6  15.00\n",
      " 328 science   HD 14943   02:59:25.196 RG610~ronchi90lpmm          17.6  15.00\n",
      " 329 science   HD 14943   02:59:42.808 RG610~ronchi90lpmm          17.6  15.00\n",
      " 330 science   HD 14943   03:00:00.379 RG610~ronchi90lpmm          17.6  15.00\n",
      " 331 science   HD 14943   03:00:22.961 empty~ronchi90lpmm          22.6  15.00\n",
      " 332 science   HD 14943   03:00:40.534 empty~ronchi90lpmm          17.6  15.00\n",
      " 333 science   HD 14943   03:01:07.937 RG610~empty                 27.4  1.00\n",
      " 334 science   HD 38553   03:03:40.074 RG610~empty                152.1  1.00\n",
      " 335 engtest   HD 38553   03:03:59.000 RG610~empty                 18.9  20.00\n",
      " 336 engtest   HD 38553   03:04:27.050 RG610~empty                 28.0  20.00\n",
      " 337 science   HD 38553   03:05:35.713 RG610~empty                 68.7  5.00\n",
      " 338 science   HD 38666   03:07:31.319 RG610~empty                115.6  0.40\n",
      " 339 science   HD 38666   03:07:59.377 RG610~empty                 28.1  0.40\n",
      " 340 science   HD 38666   03:08:26.469 RG610~empty                 27.1  0.40\n",
      " 341 science   HD 38666   03:08:49.534 RG610~empty                 23.1  0.40\n",
      " 342 science   HD 38666   03:09:01.570 RG610~ronchi90lpmm          12.0  15.00\n",
      " 343 science   HD 38666   03:09:19.155 RG610~ronchi90lpmm          17.6  15.00\n",
      " 344 science   HD 38666   03:09:36.734 RG610~ronchi90lpmm          17.6  15.00\n",
      " 345 science   HD 38666   03:09:54.309 RG610~ronchi90lpmm          17.6  15.00\n",
      " 346 science   HD 38666   03:10:11.883 RG610~ronchi90lpmm          17.6  15.00\n",
      " 347 science   HD 38666   03:10:35.208 empty~ronchi90lpmm          23.3  15.00\n",
      " 348 science   HD 38666   03:10:52.786 empty~ronchi90lpmm          17.6  15.00\n",
      " 349 science   HD 38666   03:11:20.177 RG610~empty                 27.4  1.00\n",
      " 350 science   HD 60517   03:13:42.815 RG610~empty                142.6  1.00\n",
      " 351 engtest   HD 60517   03:14:03.607 RG610~empty                 20.8  20.00\n",
      " 352 engtest   HD 60517   03:14:30.838 RG610~empty                 27.2  20.00\n",
      " 353 science   HD 60517   03:15:40.974 RG610~empty                 70.1  5.00\n",
      " 354 science   HD 60753   03:17:28.115 RG610~empty                107.1  0.40\n",
      " 355 science   HD 60753   03:17:55.618 RG610~empty                 27.5  0.40\n",
      " 356 science   HD 60753   03:18:17.723 RG610~empty                 22.1  0.40\n",
      " 357 science   HD 60753   03:18:30.430 RG610~ronchi90lpmm          12.7  15.00\n",
      " 358 science   HD 60753   03:18:48.030 RG610~ronchi90lpmm          17.6  15.00\n",
      " 359 science   HD 60753   03:19:05.617 RG610~ronchi90lpmm          17.6  15.00\n",
      " 360 science   HD 60753   03:19:23.200 RG610~ronchi90lpmm          17.6  15.00\n",
      " 361 science   HD 60753   03:19:40.776 RG610~ronchi90lpmm          17.6  15.00\n",
      " 362 science   HD 60753   03:20:03.840 empty~ronchi90lpmm          23.1  15.00\n",
      " 363 science   HD 60753   03:20:21.413 empty~ronchi90lpmm          17.6  15.00\n",
      " 364 science   HD 60753   03:20:49.401 RG610~empty                 28.0  1.00\n",
      " 365 science   HD 63214   03:22:39.718 RG610~empty                110.3  1.00\n",
      " 366 engtest   HD 63214   03:23:02.238 RG610~empty                 22.5  20.00\n",
      " 367 engtest   HD 63214   03:23:29.467 RG610~empty                 27.2  20.00\n",
      " 368 science   HD 63214   03:24:40.720 RG610~empty                 71.3  5.00\n",
      " 369 science   HD 63077   03:26:25.261 RG610~empty                104.5  0.40\n",
      " 370 science   HD 63077   03:26:53.763 RG610~empty                 28.5  0.40\n",
      " 371 science   HD 63077   03:27:20.268 RG610~empty                 26.5  0.40\n",
      " 372 science   HD 63077   03:27:42.717 RG610~empty                 22.4  0.40\n",
      " 373 science   HD 63077   03:27:54.964 RG610~ronchi90lpmm          12.2  15.00\n",
      " 374 science   HD 63077   03:28:12.546 RG610~ronchi90lpmm          17.6  15.00\n",
      " 375 science   HD 63077   03:28:30.122 RG610~ronchi90lpmm          17.6  15.00\n",
      " 376 science   HD 63077   03:28:47.701 RG610~ronchi90lpmm          17.6  15.00\n",
      " 377 science   HD 63077   03:29:05.277 RG610~ronchi90lpmm          17.6  15.00\n",
      " 378 science   HD 63077   03:29:27.748 empty~ronchi90lpmm          22.5  15.00\n",
      " 379 science   HD 63077   03:29:45.330 empty~ronchi90lpmm          17.6  15.00\n",
      " 380 science   HD 63077   03:30:12.629 RG610~empty                 27.3  1.00\n",
      " 381 science   HD 185975  03:32:14.329 RG610~empty                121.7  1.00\n",
      " 383 science   HD 185975  03:39:30.534 RG610~empty                436.2  1.00\n",
      " 384 engtest   HD 185975  03:39:57.533 RG610~empty                 27.0  20.00\n",
      " 385 engtest   HD 185975  03:40:24.778 RG610~empty                 27.2  20.00\n",
      " 386 science   HD 185975  03:41:35.813 RG610~empty                 71.0  5.00\n",
      " 387 science   HD 164461  03:45:17.398 RG610~empty                221.6  5.00\n",
      " 388 science   HD 164461  03:46:55.163 RG610~empty                 97.8  0.40\n",
      " 389 science   HD 164461  03:47:23.313 RG610~empty                 28.1  0.40\n",
      " 390 science   HD 164461  03:47:50.220 RG610~empty                 26.9  0.40\n",
      " 391 science   HD 164461  03:48:13.154 RG610~empty                 22.9  0.40\n",
      " 392 science   HD 164461  03:48:25.533 RG610~ronchi90lpmm          12.4  15.00\n",
      " 393 science   HD 164461  03:48:43.109 RG610~ronchi90lpmm          17.6  15.00\n",
      " 394 science   HD 164461  03:49:00.698 RG610~ronchi90lpmm          17.6  15.00\n",
      " 395 science   HD 164461  03:49:18.269 RG610~ronchi90lpmm          17.6  15.00\n",
      " 396 science   HD 164461  03:49:35.860 RG610~ronchi90lpmm          17.6  15.00\n",
      " 397 science   HD 164461  03:49:59.730 empty~ronchi90lpmm          23.9  15.00\n",
      " 398 science   HD 164461  03:50:17.309 empty~ronchi90lpmm          17.6  15.00\n",
      " 399 science   HD 164461  03:50:44.691 RG610~empty                 27.4  1.00\n",
      " 400 science   HD 101341  03:53:18.420 RG610~empty                153.7  1.00\n",
      " 401 engtest   HD 101341  03:53:38.574 RG610~empty                 20.2  20.00\n",
      " 402 engtest   HD 101341  03:54:06.596 RG610~empty                 28.0  20.00\n",
      " 403 science   HD 101341  03:55:16.811 RG610~empty                 70.2  5.00\n",
      " 404 science   HR 4468    03:57:47.821 RG610~empty                151.0  0.40\n",
      " 405 science   HR 4468    03:58:15.268 RG610~empty                 27.4  0.40\n",
      " 406 science   HR 4468    03:58:37.944 RG610~empty                 22.7  0.40\n",
      " 407 science   HR 4468    03:58:51.816 RG610~ronchi90lpmm          13.9  15.00\n",
      " 408 science   HR 4468    03:59:09.398 RG610~ronchi90lpmm          17.6  15.00\n",
      " 409 science   HR 4468    03:59:26.969 RG610~ronchi90lpmm          17.6  15.00\n",
      " 410 science   HR 4468    03:59:44.545 RG610~ronchi90lpmm          17.6  15.00\n",
      " 411 science   HR 4468    04:00:02.122 RG610~ronchi90lpmm          17.6  15.00\n",
      " 412 science   HR 4468    04:00:25.232 empty~ronchi90lpmm          23.1  15.00\n",
      " 413 science   HR 4468    04:00:42.807 empty~ronchi90lpmm          17.6  15.00\n",
      " 414 science   HD 114449  04:03:30.088 RG610~empty                167.3  1.00\n",
      " 415 engtest   HD 114449  04:04:08.570 RG610~empty                 38.5  20.00\n",
      " 416 engtest   HD 114449  04:04:35.829 RG610~empty                 27.3  20.00\n",
      " 417 science   HD 114449  04:05:47.103 RG610~empty                 71.3  5.00\n",
      " 418 science   HR 4963    04:11:36.164 RG610~empty                349.1  0.40\n",
      " 419 science   HR 4963    04:12:03.624 RG610~empty                 27.5  0.40\n",
      " 420 science   HR 4963    04:12:30.348 RG610~empty                 26.7  0.40\n",
      " 421 science   HR 4963    04:12:52.416 RG610~empty                 22.1  0.40\n",
      " 422 science   HR 4963    04:13:06.128 RG610~ronchi90lpmm          13.7  15.00\n",
      " 423 science   HR 4963    04:13:23.716 RG610~ronchi90lpmm          17.6  15.00\n",
      " 424 science   HR 4963    04:13:41.288 RG610~ronchi90lpmm          17.6  15.00\n",
      " 425 science   HR 4963    04:13:58.854 RG610~ronchi90lpmm          17.6  15.00\n",
      " 426 science   HR 4963    04:14:16.442 RG610~ronchi90lpmm          17.6  15.00\n",
      " 427 science   HR 4963    04:14:39.977 empty~ronchi90lpmm          23.5  15.00\n",
      " 428 science   HR 4963    04:14:57.562 empty~ronchi90lpmm          17.6  15.00\n",
      " 429 science   HR 4963    04:15:26.773 RG610~empty                 29.2  1.00\n",
      " 430 science   HD 34950   04:18:16.139 RG610~empty                169.4  1.00\n",
      " 431 engtest   HD 34950   04:18:35.552 RG610~empty                 19.4  20.00\n",
      " 432 engtest   HD 34950   04:19:03.326 RG610~empty                 27.8  20.00\n",
      " 433 science   HD 34950   04:20:12.535 RG610~empty                 69.2  5.00\n",
      " 434 science   HD 34816   04:21:50.512 RG610~empty                 98.0  0.40\n",
      " 435 science   HD 34816   04:22:17.533 RG610~empty                 27.0  0.40\n",
      " 436 science   HD 34816   04:22:40.467 RG610~empty                 22.9  0.40\n",
      " 437 science   HD 34816   04:22:53.738 RG610~ronchi90lpmm          13.3  15.00\n",
      " 438 science   HD 34816   04:23:11.314 RG610~ronchi90lpmm          17.6  15.00\n",
      " 439 science   HD 34816   04:23:28.885 RG610~ronchi90lpmm          17.6  15.00\n",
      " 440 science   HD 34816   04:23:46.477 RG610~ronchi90lpmm          17.6  15.00\n",
      " 441 science   HD 34816   04:24:04.054 RG610~ronchi90lpmm          17.6  15.00\n",
      " 442 science   HD 34816   04:24:26.919 empty~ronchi90lpmm          22.9  15.00\n",
      " 443 science   HD 34816   04:24:44.484 empty~ronchi90lpmm          17.6  15.00\n",
      " 444 science   HD 34816   04:25:12.223 RG610~empty                 27.7  1.00\n",
      " 445 science   HD 38553   04:30:48.454 RG610~empty                336.2  1.00\n",
      " 446 engtest   HD 38553   04:31:10.109 RG610~empty                 21.7  20.00\n",
      " 447 engtest   HD 38553   04:31:37.323 RG610~empty                 27.2  20.00\n",
      " 448 engtest   HD 38553   04:32:52.101 RG610~empty                 74.8  20.00\n",
      " 449 engtest   HD 38553   04:33:19.415 RG610~empty                 27.3  20.00\n",
      " 450 science   HD 38553   04:34:29.062 RG610~empty                 69.6  5.00\n",
      " 451 science   HD 38666   04:36:14.586 RG610~empty                105.5  0.40\n",
      " 452 science   HD 38666   04:36:37.845 RG610~empty                 23.3  0.40\n",
      " 453 science   HD 38666   04:36:51.580 RG610~ronchi90lpmm          13.7  15.00\n",
      " 454 science   HD 38666   04:37:09.162 RG610~ronchi90lpmm          17.6  15.00\n",
      " 455 science   HD 38666   04:37:26.744 RG610~ronchi90lpmm          17.6  15.00\n",
      " 456 science   HD 38666   04:37:44.327 RG610~ronchi90lpmm          17.6  15.00\n",
      " 457 science   HD 38666   04:38:01.905 RG610~ronchi90lpmm          17.6  15.00\n",
      " 458 science   HD 38666   04:38:25.543 empty~ronchi90lpmm          23.6  15.00\n",
      " 459 science   HD 38666   04:38:43.122 empty~ronchi90lpmm          17.6  15.00\n",
      " 460 science   HD 38666   04:39:12.614 RG610~empty                 29.5  1.00\n",
      " 461 science   HD 60517   04:40:47.621 RG610~empty                 95.0  1.00\n",
      " 462 engtest   HD 60517   04:41:05.380 RG610~empty                 17.8  20.00\n",
      " 463 engtest   HD 60517   04:41:33.121 RG610~empty                 27.7  20.00\n",
      " 464 engtest   HD 60517   04:42:46.842 RG610~empty                 73.7  20.00\n",
      " 465 engtest   HD 60517   04:43:14.822 RG610~empty                 28.0  20.00\n",
      " 466 science   HD 60517   04:44:25.706 RG610~empty                 70.9  5.00\n",
      " 467 science   HD 60753   04:46:03.852 RG610~empty                 98.1  0.40\n",
      " 468 science   HD 60753   04:46:32.220 RG610~empty                 28.4  0.40\n",
      " 469 science   HD 60753   04:47:00.073 RG610~empty                 27.9  0.40\n",
      " 470 science   HD 60753   04:47:23.331 RG610~empty                 23.3  0.40\n",
      " 471 science   HD 60753   04:47:36.128 RG610~ronchi90lpmm          12.8  15.00\n",
      " 472 science   HD 60753   04:47:53.716 RG610~ronchi90lpmm          17.6  15.00\n",
      " 473 science   HD 60753   04:48:11.312 RG610~ronchi90lpmm          17.6  15.00\n",
      " 474 science   HD 60753   04:48:28.886 RG610~ronchi90lpmm          17.6  15.00\n",
      " 475 science   HD 60753   04:48:46.461 RG610~ronchi90lpmm          17.6  15.00\n",
      " 476 science   HD 60753   04:49:09.760 empty~ronchi90lpmm          23.3  15.00\n",
      " 477 science   HD 60753   04:49:27.341 empty~ronchi90lpmm          17.6  15.00\n",
      " 478 science   HD 60753   04:49:55.050 RG610~empty                 27.7  1.00\n",
      " 479 science   HD 63214   04:51:56.670 RG610~empty                121.6  1.00\n",
      " 480 engtest   HD 63214   04:52:17.855 RG610~empty                 21.2  20.00\n",
      " 481 engtest   HD 63214   04:52:45.104 RG610~empty                 27.2  20.00\n",
      " 482 science   HD 63214   04:53:54.507 RG610~empty                 69.4  5.00\n",
      " 483 science   HD 63077   04:57:29.862 RG610~empty                215.4  0.40\n",
      " 484 science   HD 63077   04:57:58.463 RG610~empty                 28.6  0.40\n",
      " 485 science   HD 63077   04:58:21.040 RG610~empty                 22.6  0.40\n",
      " 486 science   HD 63077   04:58:34.130 RG610~ronchi90lpmm          13.1  15.00\n",
      " 487 science   HD 63077   04:58:51.717 RG610~ronchi90lpmm          17.6  15.00\n",
      " 488 science   HD 63077   04:59:09.299 RG610~ronchi90lpmm          17.6  15.00\n",
      " 489 science   HD 63077   04:59:26.870 RG610~ronchi90lpmm          17.6  15.00\n",
      " 490 science   HD 63077   04:59:44.445 RG610~ronchi90lpmm          17.6  15.00\n",
      " 491 science   HD 63077   05:00:07.855 empty~ronchi90lpmm          23.4  15.00\n",
      " 492 science   HD 63077   05:00:25.441 empty~ronchi90lpmm          17.6  15.00\n",
      " 493 science   HD 63077   05:00:52.589 RG610~empty                 27.1  1.00\n",
      " 494 science   HD 34950   05:02:19.879 RG610~empty                 87.3  1.00\n",
      " 495 engtest   HD 34950   05:02:40.560 RG610~empty                 20.7  20.00\n",
      " 496 engtest   HD 34950   05:03:07.843 RG610~empty                 27.3  20.00\n",
      " 497 engtest   HD 34950   05:04:22.918 RG610~empty                 75.1  20.00\n",
      " 498 engtest   HD 34950   05:04:50.206 RG610~empty                 27.3  20.00\n",
      " 499 science   HD 34950   05:06:36.228 RG610~empty                106.0  10.00\n",
      " 500 science   HD 185975  05:09:11.191 RG610~empty                155.0  1.00\n",
      " 501 engtest   HD 185975  05:09:37.564 RG610~empty                 26.4  20.00\n",
      " 502 engtest   HD 185975  05:10:04.745 RG610~empty                 27.2  20.00\n",
      " 503 engtest   HD 185975  05:11:19.903 RG610~empty                 75.2  20.00\n",
      " 504 engtest   HD 185975  05:11:47.137 RG610~empty                 27.2  20.00\n",
      " 505 science   HD 185975  05:12:57.107 RG610~empty                 70.0  5.00\n",
      " 506 science   HD 164461  05:14:44.015 RG610~empty                106.9  0.40\n",
      " 507 science   HD 164461  05:15:12.561 RG610~empty                 28.5  0.40\n",
      " 508 science   HD 164461  05:15:40.820 RG610~empty                 28.3  0.40\n",
      " 509 science   HD 164461  05:16:08.170 RG610~empty                 27.3  0.40\n",
      " 510 science   HD 164461  05:16:31.458 RG610~empty                 23.3  0.40\n",
      " 511 science   HD 164461  05:16:43.920 RG610~ronchi90lpmm          12.5  15.00\n",
      " 512 science   HD 164461  05:17:01.504 RG610~ronchi90lpmm          17.6  15.00\n",
      " 513 science   HD 164461  05:17:19.076 RG610~ronchi90lpmm          17.6  15.00\n",
      " 514 science   HD 164461  05:17:36.645 RG610~ronchi90lpmm          17.6  15.00\n",
      " 515 science   HD 164461  05:17:54.225 RG610~ronchi90lpmm          17.6  15.00\n",
      " 516 science   HD 164461  05:18:16.615 empty~ronchi90lpmm          22.4  15.00\n",
      " 517 science   HD 164461  05:18:34.189 empty~ronchi90lpmm          17.6  15.00\n",
      " 518 science   HD 164461  05:19:01.546 RG610~empty                 27.4  1.00\n",
      " 519 science   HD 93521   05:24:18.300 RG610~empty                316.8  1.00\n",
      " 520 science   HD 93521   05:25:51.181 RG610~empty                 92.9  1.00\n",
      " 521 science   HD 93521   05:27:08.366 RG610~empty                 77.2  1.00\n",
      " 522 science   HD 93521   05:27:50.845 RG610~empty                 42.5  1.00\n",
      " 523 science   HD 38553   05:31:18.253 RG610~empty                207.4  1.00\n",
      " 524 engtest   HD 38553   05:31:44.027 RG610~empty                 25.8  20.00\n",
      " 525 engtest   HD 38553   05:32:11.310 RG610~empty                 27.3  20.00\n",
      " 526 science   HD 38553   05:33:20.407 RG610~empty                 69.1  5.00\n",
      " 527 science   HD 38666   05:36:04.859 RG610~empty                164.5  0.40\n",
      " 528 science   HD 38666   05:36:33.168 RG610~empty                 28.3  0.40\n",
      " 529 science   HD 38666   05:37:00.127 RG610~empty                 27.0  0.40\n",
      " 530 science   HD 38666   05:37:22.239 RG610~empty                 22.1  0.40\n",
      " 531 science   HD 38666   05:37:35.871 RG610~ronchi90lpmm          13.6  15.00\n",
      " 532 science   HD 38666   05:37:53.451 RG610~ronchi90lpmm          17.6  15.00\n",
      " 533 science   HD 38666   05:38:11.023 RG610~ronchi90lpmm          17.6  15.00\n",
      " 534 science   HD 38666   05:38:28.607 RG610~ronchi90lpmm          17.6  15.00\n",
      " 535 science   HD 38666   05:38:46.177 RG610~ronchi90lpmm          17.6  15.00\n",
      " 536 science   HD 38666   05:39:09.151 empty~ronchi90lpmm          23.0  15.00\n",
      " 537 science   HD 38666   05:39:26.734 empty~ronchi90lpmm          17.6  15.00\n",
      " 538 science   HD 38666   05:39:54.136 RG610~empty                 27.4  1.00\n",
      " 539 science   HD 60517   05:41:32.319 RG610~empty                 98.2  1.00\n",
      " 540 engtest   HD 60517   05:41:48.920 RG610~empty                 16.6  20.00\n",
      " 541 engtest   HD 60517   05:42:16.232 RG610~empty                 27.3  20.00\n",
      " 542 science   HD 60517   05:43:24.903 RG610~empty                 68.7  5.00\n",
      " 543 science   HD 60753   05:45:07.759 RG610~empty                102.9  0.40\n",
      " 544 science   HD 60753   05:45:36.022 RG610~empty                 28.3  0.40\n",
      " 545 science   HD 60753   05:46:03.666 RG610~empty                 27.6  0.40\n",
      " 546 science   HD 60753   05:46:26.755 RG610~empty                 23.1  0.40\n",
      " 547 science   HD 60753   05:46:39.537 RG610~ronchi90lpmm          12.8  15.00\n",
      " 548 science   HD 60753   05:46:57.109 RG610~ronchi90lpmm          17.6  15.00\n",
      " 549 science   HD 60753   05:47:14.688 RG610~ronchi90lpmm          17.6  15.00\n",
      " 550 science   HD 60753   05:47:32.278 RG610~ronchi90lpmm          17.6  15.00\n",
      " 551 science   HD 60753   05:47:49.850 RG610~ronchi90lpmm          17.6  15.00\n",
      " 552 science   HD 60753   05:48:12.250 empty~ronchi90lpmm          22.4  15.00\n",
      " 553 science   HD 60753   05:48:29.827 empty~ronchi90lpmm          17.6  15.00\n",
      " 554 science   HD 60753   05:48:57.741 RG610~empty                 27.9  1.00\n",
      " 555 science   HD 60753   05:50:42.190 RG610~empty                104.4  1.00\n",
      " 556 science   HD 60753   05:53:27.926 RG610~holo4_003            165.7  5.00\n",
      " 557 engtest   HD 60753   05:55:59.153 RG610~holo4_003            151.2  20.00\n",
      " 558 engtest   HD 60753   05:56:26.421 RG610~holo4_003             27.3  20.00\n",
      " 559 science   HD 60753   05:59:48.510 RG610~holo4_003            202.1  5.00\n",
      " 560 science   HD 60753   06:02:10.932 RG610~holo4_003            142.4  5.00\n",
      " 561 science   HD 60753   06:03:07.565 RG610~holo4_003             56.6  10.00\n",
      " 562 science   HD 60753   06:03:51.105 RG610~holo4_003             43.5  15.00\n",
      " 563 science   HD 60753   06:04:27.300 RG610~holo4_003             36.2  20.00\n",
      " 564 science   HD 60753   06:05:05.010 RG610~holo4_003             37.7  25.00\n",
      " 565 science   HD 60753   06:05:35.449 RG610~holo4_003             30.4  30.00\n",
      " 566 science   HD 60753   06:06:29.575 empty~holo4_003             54.1  5.00\n",
      " 567 science   HD 60753   06:06:53.561 empty~holo4_003             24.0  10.00\n",
      " 568 science   HD 60753   06:07:09.034 empty~holo4_003             15.5  15.00\n",
      " 569 science   HD 60753   06:07:49.989 empty~holo4_003             41.0  20.00\n",
      " 570 science   HD 60753   06:09:04.533 empty~holo4_003             74.5  25.00\n",
      " 571 science   HD 60753   06:09:36.863 empty~holo4_003             32.3  30.00\n",
      " 572 science   HD 60753   06:11:51.450 empty~holo4_003            134.6  5.00\n",
      " 573 science   HD 60753   06:12:39.359 empty~holo4_003             47.9  2.00\n",
      " 574 science   HD 60753   06:13:21.360 empty~holo4_003             42.0  2.00\n",
      " 575 science   HD 60753   06:13:36.394 empty~holo4_003             15.0  2.00\n",
      " 576 science   HD 60753   06:13:43.043 empty~holo4_003              6.6  2.00\n",
      " 577 science   HD 60753   06:13:50.035 empty~holo4_003              7.0  2.00\n",
      " 578 science   HD 60753   06:13:57.849 empty~holo4_003              7.8  2.00\n",
      " 579 science   HD 60753   06:14:06.963 empty~holo4_003              9.1  2.00\n",
      " 580 science   HD 60753   06:14:16.655 empty~holo4_003              9.7  2.00\n",
      " 581 science   HD 60753   06:14:25.695 empty~holo4_003              9.0  2.00\n",
      " 582 science   HD 60753   06:14:35.269 empty~holo4_003              9.6  2.00\n",
      " 583 science   HD 60753   06:15:14.640 empty~holo4_003             39.4  5.00\n",
      " 584 science   HD 60753   06:15:29.988 empty~holo4_003             15.3  5.00\n",
      " 585 science   HD 60753   06:15:42.966 empty~holo4_003             13.0  5.00\n",
      " 586 science   HD 60753   06:16:00.336 empty~holo4_003             17.4  5.00\n",
      " 587 science   HD 60753   06:16:42.390 empty~holo4_003             42.1  5.00\n",
      " 588 engtest   HD 60753   06:18:37.431 RG610~holo4_003            115.0  20.00\n",
      " 589 engtest   HD 60753   06:19:04.689 RG610~holo4_003             27.3  20.00\n",
      " 590 science   HD 114449  06:25:48.342 RG610~empty                403.7  1.00\n",
      " 591 engtest   HD 114449  06:26:07.604 RG610~holo4_003             19.3  20.00\n",
      " 592 engtest   HD 114449  06:26:35.551 RG610~holo4_003             27.9  20.00\n",
      " 593 engtest   HD 114449  06:28:33.570 RG610~holo4_003            118.0  20.00\n",
      " 594 engtest   HD 114449  06:29:01.054 RG610~holo4_003             27.5  20.00\n",
      " 595 science   HD 114449  06:30:28.408 RG610~empty                 87.4  1.00\n",
      " 596 engtest   HD 114449  06:31:00.095 RG610~empty                 31.7  20.00\n",
      " 597 engtest   HD 114449  06:31:29.093 RG610~empty                 29.0  20.00\n",
      " 598 engtest   HD 114449  06:32:46.384 RG610~empty                 77.3  20.00\n",
      " 599 engtest   HD 114449  06:33:13.588 RG610~empty                 27.2  20.00\n",
      " 600 engtest   HD 114449  06:34:31.120 RG610~empty                 77.5  20.00\n",
      " 601 engtest   HD 114449  06:34:59.586 RG610~empty                 28.5  20.00\n",
      " 602 science   HD 114449  06:36:10.162 RG610~empty                 70.6  5.00\n",
      " 603 science   HR 4963    06:51:25.767 RG610~empty                915.6  0.40\n",
      " 604 science   HR 4963    06:55:34.568 RG610~ronchi90lpmm         248.8  15.00\n",
      " 605 science   HR 4963    06:55:52.147 RG610~ronchi90lpmm          17.6  15.00\n",
      " 606 science   HR 4963    06:56:09.728 RG610~ronchi90lpmm          17.6  15.00\n",
      " 607 science   HR 4963    06:56:27.303 RG610~ronchi90lpmm          17.6  15.00\n",
      " 608 science   HR 4963    06:56:44.874 RG610~ronchi90lpmm          17.6  15.00\n",
      " 609 science   HR 4963    06:57:07.762 empty~ronchi90lpmm          22.9  15.00\n",
      " 610 science   HR 4963    06:57:25.340 empty~ronchi90lpmm          17.6  15.00\n",
      " 611 science   HR 4963    06:57:53.447 RG610~empty                 28.1  1.00\n",
      " 612 science   HD 63214   07:03:15.481 RG610~empty                322.0  1.00\n",
      " 613 engtest   HD 63214   07:04:02.190 RG610~empty                 46.7  20.00\n",
      " 614 engtest   HD 63214   07:04:29.466 RG610~empty                 27.3  20.00\n",
      " 615 science   HD 63214   07:05:39.566 RG610~empty                 70.1  5.00\n",
      " 616 science   HD 63077   07:08:56.120 RG610~empty                196.6  0.40\n",
      " 617 science   HD 63077   07:09:24.534 RG610~empty                 28.4  0.40\n",
      " 618 science   HD 63077   07:09:51.309 RG610~empty                 26.8  0.40\n",
      " 619 science   HD 63077   07:10:19.261 RG610~empty                 28.0  0.40\n",
      " 620 science   HD 63077   07:10:43.352 RG610~empty                 24.1  0.40\n",
      " 621 science   HD 63077   07:10:55.617 RG610~ronchi90lpmm          12.3  15.00\n",
      " 622 science   HD 63077   07:11:13.204 RG610~ronchi90lpmm          17.6  15.00\n",
      " 623 science   HD 63077   07:11:30.785 RG610~ronchi90lpmm          17.6  15.00\n",
      " 624 science   HD 63077   07:11:48.375 RG610~ronchi90lpmm          17.6  15.00\n",
      " 625 science   HD 63077   07:12:05.952 RG610~ronchi90lpmm          17.6  15.00\n",
      " 626 science   HD 63077   07:12:28.601 empty~ronchi90lpmm          22.6  15.00\n",
      " 627 science   HD 63077   07:12:46.185 empty~ronchi90lpmm          17.6  15.00\n",
      " 628 science   HD 63077   07:13:14.188 RG610~empty                 28.0  1.00\n",
      " 629 science   HD 114449  07:16:05.264 RG610~empty                171.1  1.00\n",
      " 630 engtest   HD 114449  07:16:25.959 RG610~empty                 20.7  20.00\n",
      " 631 engtest   HD 114449  07:16:53.611 RG610~empty                 27.7  20.00\n",
      " 632 science   HD 114449  07:18:03.513 RG610~empty                 69.9  5.00\n",
      " 633 science   HR 4963    07:42:46.759 RG610~empty               1483.2  0.40\n",
      " 634 science   HR 4963    07:48:20.976 RG610~ronchi90lpmm         334.2  15.00\n",
      " 635 science   HR 4963    07:48:38.551 RG610~ronchi90lpmm          17.6  15.00\n",
      " 636 science   HR 4963    07:48:56.129 RG610~ronchi90lpmm          17.6  15.00\n",
      " 637 science   HR 4963    07:49:13.732 RG610~ronchi90lpmm          17.6  15.00\n",
      " 638 science   HR 4963    07:49:31.314 RG610~ronchi90lpmm          17.6  15.00\n",
      " 639 science   HR 4963    07:49:55.001 empty~ronchi90lpmm          23.7  15.00\n",
      " 640 science   HR 4963    07:50:12.576 empty~ronchi90lpmm          17.6  15.00\n",
      " 641 science   HR 4963    07:50:40.277 RG610~empty                 27.7  1.00\n",
      " 642 science   HD 116009  07:54:01.847 RG610~empty                201.6  1.00\n",
      " 643 engtest   HD 116009  07:54:19.865 RG610~empty                 18.0  20.00\n",
      " 644 engtest   HD 116009  07:54:47.000 RG610~empty                 27.1  20.00\n",
      " 645 engtest   HD 116009  07:56:00.849 RG610~empty                 73.8  20.00\n",
      " 646 engtest   HD 116009  07:56:28.336 RG610~empty                 27.5  20.00\n",
      " 647 science   HD 116009  07:57:35.956 RG610~empty                 67.6  5.00\n",
      " 648 science   HD 60517   08:01:00.585 RG610~empty                204.6  1.00\n",
      " 649 engtest   HD 60517   08:01:20.508 RG610~empty                 19.9  20.00\n",
      " 650 engtest   HD 60517   08:01:47.789 RG610~empty                 27.3  20.00\n",
      " 651 engtest   HD 60517   08:02:59.732 RG610~empty                 71.9  20.00\n",
      " 652 engtest   HD 60517   08:03:26.961 RG610~empty                 27.2  20.00\n",
      " 653 science   HD 60517   08:04:35.108 RG610~empty                 68.1  5.00\n",
      " 654 science   HD 60517   08:06:51.066 RG610~ronchi90lpmm         136.0  15.00\n",
      " 655 science   HD 60517   08:07:08.641 RG610~ronchi90lpmm          17.6  15.00\n",
      " 656 science   HD 60517   08:07:26.216 RG610~ronchi90lpmm          17.6  15.00\n",
      " 657 science   HD 60517   08:07:43.785 RG610~ronchi90lpmm          17.6  15.00\n",
      " 658 science   HD 60753   08:09:40.826 RG610~empty                117.0  0.40\n",
      " 659 science   HD 60753   08:10:08.460 RG610~empty                 27.6  0.40\n",
      " 660 science   HD 60753   08:10:35.181 RG610~empty                 26.7  0.40\n",
      " 661 science   HD 60753   08:10:57.160 RG610~empty                 22.0  0.40\n",
      " 662 science   HD 60753   08:11:09.883 RG610~ronchi90lpmm          12.7  15.00\n",
      " 663 science   HD 60753   08:11:27.446 RG610~ronchi90lpmm          17.6  15.00\n",
      " 664 science   HD 60753   08:11:45.046 RG610~ronchi90lpmm          17.6  15.00\n",
      " 665 science   HD 60753   08:12:02.628 RG610~ronchi90lpmm          17.6  15.00\n",
      " 666 science   HD 60753   08:12:20.210 RG610~ronchi90lpmm          17.6  15.00\n",
      " 667 science   HD 60753   08:12:42.820 empty~ronchi90lpmm          22.6  15.00\n",
      " 668 science   HD 60753   08:13:00.400 empty~ronchi90lpmm          17.6  15.00\n",
      " 669 science   HD 60753   08:13:27.864 RG610~empty                 27.5  1.00\n",
      " 670 science   HD 63214   08:16:45.082 RG610~empty                197.2  1.00\n",
      " 671 engtest   HD 63214   08:17:08.081 RG610~empty                 23.0  20.00\n",
      " 672 engtest   HD 63214   08:17:35.363 RG610~empty                 27.3  20.00\n",
      " 673 engtest   HD 63214   08:18:47.419 RG610~empty                 72.1  20.00\n",
      " 674 engtest   HD 63214   08:19:14.716 RG610~empty                 27.3  20.00\n",
      " 675 science   HD 63214   08:20:25.985 RG610~empty                 71.3  5.00\n",
      " 676 science   HD 63077   08:24:16.320 RG610~empty                230.3  0.40\n",
      " 677 science   HD 63077   08:24:44.112 RG610~empty                 27.8  0.40\n",
      " 678 science   HD 63077   08:25:10.618 RG610~empty                 26.5  0.40\n",
      " 679 science   HD 63077   08:25:37.970 RG610~empty                 27.4  0.40\n",
      " 680 science   HD 63077   08:26:05.578 RG610~empty                 27.6  0.40\n",
      " 681 science   HD 63077   08:30:28.618 RG610~ronchi90lpmm         263.0  15.00\n",
      " 682 science   HD 63077   08:30:46.199 RG610~ronchi90lpmm          17.6  15.00\n",
      " 683 science   HD 63077   08:31:03.778 RG610~ronchi90lpmm          17.6  15.00\n",
      " 684 science   HD 63077   08:31:21.374 RG610~ronchi90lpmm          17.6  15.00\n",
      " 685 science   HD 63077   08:31:38.951 RG610~ronchi90lpmm          17.6  15.00\n",
      " 686 science   HD 63077   08:32:01.592 empty~ronchi90lpmm          22.6  15.00\n",
      " 687 science   HD 63077   08:32:19.160 empty~ronchi90lpmm          17.6  15.00\n",
      " 688 science   HR 4963    08:35:41.330 RG610~empty                202.2  1.00\n",
      " 689 science   HR 4963    08:37:20.424 RG610~empty                 99.1  2.00\n",
      " 690 science   HR 4963    08:39:40.803 RG610~empty                140.4  2.00\n",
      " 691 science   HR 4963    08:43:39.332 RG610~empty                238.5  2.00\n",
      " 692 science   HR 4963    08:43:49.147 RG610~empty                  9.8  2.00\n",
      " 693 science   HR 4963    08:43:58.990 RG610~empty                  9.8  2.00\n",
      " 694 science   HR 4963    08:44:08.796 RG610~empty                  9.8  2.00\n",
      " 695 science   HR 4963    08:44:18.688 RG610~empty                  9.9  2.00\n",
      " 696 science   HR 4963    08:44:28.509 RG610~empty                  9.8  2.00\n",
      " 697 science   HR 4963    08:44:38.292 RG610~empty                  9.8  2.00\n",
      " 698 science   HR 4963    08:44:48.151 RG610~empty                  9.9  2.00\n",
      " 699 science   HR 4963    08:46:23.643 RG610~empty                 95.5  2.00\n",
      " 700 science   HR 4963    08:46:33.538 RG610~empty                  9.9  2.00\n",
      " 701 science   HR 4963    08:46:43.338 RG610~empty                  9.8  2.00\n",
      " 702 science   HR 4963    08:46:53.146 RG610~empty                  9.8  2.00\n",
      " 703 science   HR 4963    08:47:02.935 RG610~empty                  9.8  2.00\n",
      " 704 science   HR 4963    08:47:12.749 RG610~empty                  9.8  2.00\n",
      " 705 science   HR 4963    08:47:22.634 RG610~empty                  9.9  2.00\n",
      " 706 science   HR 4963    08:47:32.442 RG610~empty                  9.8  2.00\n",
      " 707 science   HR 4963    08:49:01.752 RG610~empty                 89.3  2.00\n"
     ]
    }
   ],
   "source": [
    "reporter.printObsTable()"
   ]
  },
  {
   "cell_type": "markdown",
   "metadata": {},
   "source": [
    "# Butler"
   ]
  },
  {
   "cell_type": "code",
   "execution_count": 11,
   "metadata": {},
   "outputs": [],
   "source": [
    "butler=dafPersist.Butler(\"/project/shared/auxTel\")"
   ]
  },
  {
   "cell_type": "code",
   "execution_count": 12,
   "metadata": {},
   "outputs": [],
   "source": [
    "dayObs=\"2021-02-18\""
   ]
  },
  {
   "cell_type": "code",
   "execution_count": 13,
   "metadata": {},
   "outputs": [],
   "source": [
    "imageName=\"HD60753\"\n",
    "filt1=\"RG610\"\n",
    "filt2=\"empty\""
   ]
  },
  {
   "cell_type": "code",
   "execution_count": 14,
   "metadata": {},
   "outputs": [],
   "source": [
    "all_myseq_RG610_holo4_003=range(556,565)\n",
    "all_myseq_empty_holo4_003=range(566,589)"
   ]
  },
  {
   "cell_type": "code",
   "execution_count": 15,
   "metadata": {},
   "outputs": [],
   "source": [
    "all_myseq=all_myseq_RG610_holo4_003"
   ]
  },
  {
   "cell_type": "code",
   "execution_count": null,
   "metadata": {},
   "outputs": [],
   "source": []
  },
  {
   "cell_type": "code",
   "execution_count": 16,
   "metadata": {},
   "outputs": [],
   "source": [
    "seqNum=all_myseq[0]"
   ]
  },
  {
   "cell_type": "markdown",
   "metadata": {},
   "source": [
    "# Display"
   ]
  },
  {
   "cell_type": "code",
   "execution_count": 17,
   "metadata": {},
   "outputs": [],
   "source": [
    "display1=afwDisplay.getDisplay(frame=1,port=80,name='sylviedc_debug1_2021_02_18',url=os.environ[\"FIREFLY_URL\"])"
   ]
  },
  {
   "cell_type": "code",
   "execution_count": 18,
   "metadata": {},
   "outputs": [],
   "source": [
    "raw=butler.get('raw',dayObs=dayObs,seqNum=seqNum)"
   ]
  },
  {
   "cell_type": "code",
   "execution_count": 19,
   "metadata": {},
   "outputs": [],
   "source": [
    "display1.mtv(raw)"
   ]
  },
  {
   "cell_type": "code",
   "execution_count": 20,
   "metadata": {},
   "outputs": [
    {
     "data": {
      "text/html": [
       "Open your web browser to <a href=\"https://lsst-lsp-stable.ncsa.illinois.edu/portal/app/slate.html?__wsch=sylviedc_debug1_2021_02_18\"\" target=\"_blank\">this link</a>"
      ],
      "text/plain": [
       "<IPython.core.display.HTML object>"
      ]
     },
     "metadata": {},
     "output_type": "display_data"
    }
   ],
   "source": [
    "display1.getClient().display_url()"
   ]
  },
  {
   "cell_type": "markdown",
   "metadata": {},
   "source": [
    "# Meta Query to the Butler"
   ]
  },
  {
   "cell_type": "code",
   "execution_count": 21,
   "metadata": {},
   "outputs": [
    {
     "name": "stdout",
     "output_type": "stream",
     "text": [
      "[3, 4, 5, 6, 7, 10, 11, 9, 8, 14, 15, 12, 16, 13, 19, 17, 21, 20, 18, 22, 28, 24, 23, 26, 27, 25, 31, 32, 29, 33, 34, 30, 35, 41, 36, 39, 38, 37, 40, 46, 42, 47, 45, 43, 44, 48, 52, 51, 50, 53, 54, 49, 56, 55, 57, 59, 58, 60, 61, 62, 64, 63, 65, 66, 67, 70, 68, 69, 76, 71, 73, 72, 74, 75, 77, 81, 82, 79, 80, 78, 86, 87, 83, 84, 85, 91, 88, 92, 90, 89, 97, 96, 98, 94, 93, 95, 100, 106, 99, 105, 101, 107, 102, 103, 104, 108, 109, 110, 111, 113, 112, 116, 115, 114, 117, 118, 119, 120, 121, 122, 123, 124, 125, 126, 127, 128, 129, 130, 131, 132, 133, 134, 135, 136, 137, 138, 139, 140, 141, 142, 143, 144, 145, 146, 147, 148, 149, 150, 151, 152, 153, 154, 155, 156, 157, 158, 159, 160, 161, 162, 163, 164, 165, 166, 167, 168, 169, 170, 171, 172, 173, 174, 175, 176, 177, 178, 179, 180, 181, 182, 183, 184, 185, 186, 187, 188, 189, 190, 191, 192, 193, 194, 195, 196, 197, 198, 199, 200, 201, 202, 203, 204, 205, 206, 207, 208, 209, 210, 211, 212, 213, 214, 215, 216, 217, 218, 219, 220, 221, 222, 223, 224, 225, 226, 227, 228, 229, 230, 231, 232, 233, 234, 235, 236, 237, 238, 239, 240, 241, 242, 243, 244, 245, 246, 247, 248, 249, 250, 251, 252, 253, 254, 255, 256, 257, 258, 259, 260, 261, 262, 263, 264, 265, 266, 267, 268, 269, 270, 271, 272, 273, 274, 275, 276, 277, 278, 279, 280, 281, 282, 283, 284, 285, 286, 287, 288, 289, 290, 291, 292, 293, 294, 295, 296, 297, 298, 299, 300, 301, 302, 303, 304, 305, 306, 307, 308, 309, 310, 311, 312, 313, 314, 315, 316, 317, 318, 319, 320, 321, 322, 323, 324, 325, 326, 327, 328, 329, 330, 331, 332, 333, 334, 335, 336, 337, 338, 339, 340, 341, 342, 343, 344, 345, 346, 347, 348, 349, 350, 351, 352, 353, 354, 355, 356, 357, 358, 359, 360, 361, 362, 363, 364, 365, 366, 367, 368, 369, 370, 371, 372, 373, 374, 375, 376, 377, 378, 379, 380, 381, 383, 384, 385, 386, 387, 388, 389, 390, 391, 392, 393, 394, 395, 396, 397, 398, 399, 400, 401, 402, 403, 404, 405, 406, 407, 408, 409, 410, 411, 412, 413, 414, 415, 416, 417, 418, 419, 420, 421, 422, 423, 424, 425, 426, 427, 428, 429, 430, 431, 432, 433, 434, 435, 436, 437, 438, 439, 440, 441, 442, 443, 444, 445, 446, 447, 448, 449, 450, 451, 452, 453, 454, 455, 456, 457, 458, 459, 460, 461, 462, 463, 464, 465, 466, 467, 468, 469, 470, 471, 472, 473, 474, 475, 476, 477, 478, 479, 480, 481, 482, 483, 484, 485, 486, 487, 488, 489, 490, 491, 492, 493, 494, 495, 496, 497, 498, 499, 500, 501, 502, 503, 504, 505, 506, 507, 508, 509, 510, 511, 512, 513, 514, 515, 516, 517, 518, 519, 520, 521, 522, 523, 524, 525, 526, 527, 528, 529, 530, 531, 532, 533, 534, 535, 536, 537, 538, 539, 540, 541, 542, 543, 544, 545, 546, 547, 548, 549, 550, 551, 552, 553, 554, 555, 556, 557, 558, 559, 560, 561, 562, 563, 564, 565, 566, 567, 568, 569, 570, 571, 572, 573, 574, 575, 576, 577, 578, 581, 580, 579, 582, 583, 584, 585, 586, 587, 588, 589, 590, 591, 592, 593, 594, 595, 596, 597, 598, 599, 600, 601, 602, 603, 604, 605, 606, 607, 608, 609, 610, 611, 612, 613, 614, 615, 616, 617, 618, 619, 620, 621, 622, 623, 624, 625, 626, 627, 628, 629, 630, 631, 632, 633, 634, 635, 636, 637, 638, 639, 640, 641, 642, 643, 644, 645, 646, 647, 648, 649, 650, 651, 652, 653, 654, 655, 656, 657, 658, 659, 660, 661, 662, 663, 664, 665, 666, 667, 669, 668, 670, 671, 672, 673, 674, 675, 676, 677, 678, 679, 680, 681, 682, 683, 684, 685, 686, 687, 688, 689, 690, 691, 692, 693, 694, 695, 697, 696, 698, 699, 700, 701, 702, 703, 704, 705, 706, 707]\n"
     ]
    }
   ],
   "source": [
    "print(butler.queryMetadata('raw','seqNum',dayObs=dayObs))"
   ]
  },
  {
   "cell_type": "code",
   "execution_count": 22,
   "metadata": {},
   "outputs": [],
   "source": [
    "seqNums=butler.queryMetadata('raw','seqNum',dayObs=dayObs)"
   ]
  },
  {
   "cell_type": "code",
   "execution_count": 23,
   "metadata": {},
   "outputs": [],
   "source": [
    "%config IPCompleter.use_jedi=False"
   ]
  },
  {
   "cell_type": "markdown",
   "metadata": {},
   "source": [
    "## Butler Query meta data"
   ]
  },
  {
   "cell_type": "code",
   "execution_count": 24,
   "metadata": {},
   "outputs": [],
   "source": [
    "ids=butler.queryMetadata('raw',[\"dayObs\", \"seqNum\"],object='HD 60753')"
   ]
  },
  {
   "cell_type": "code",
   "execution_count": 25,
   "metadata": {},
   "outputs": [
    {
     "name": "stdout",
     "output_type": "stream",
     "text": [
      "('2021-02-17', 241)\n",
      "('2021-02-17', 242)\n",
      "('2021-02-17', 243)\n",
      "('2021-02-17', 244)\n",
      "('2021-02-17', 245)\n",
      "('2021-02-17', 246)\n"
     ]
    }
   ],
   "source": [
    "count=0\n",
    "for dataid in ids:\n",
    "    print(dataid)\n",
    "    count+=1\n",
    "    if count > 5:\n",
    "        break"
   ]
  },
  {
   "cell_type": "markdown",
   "metadata": {},
   "source": [
    "# Exp "
   ]
  },
  {
   "cell_type": "code",
   "execution_count": 26,
   "metadata": {},
   "outputs": [],
   "source": [
    "#exp=butler.get('quickLookExp',dayObs=dayObs,seqNum=seqNum)"
   ]
  },
  {
   "cell_type": "code",
   "execution_count": 27,
   "metadata": {},
   "outputs": [],
   "source": [
    "#display1.mtv(exp)"
   ]
  },
  {
   "cell_type": "code",
   "execution_count": 28,
   "metadata": {},
   "outputs": [],
   "source": [
    "#fig=plt.figure(figsize=(20,5))\n",
    "#ax1=fig.add_subplot(131)\n",
    "#ax1.imshow(exp.image.array,origin=\"lower\",cmap=\"jet\")\n",
    "#ax2=fig.add_subplot(132)\n",
    "#ax2.imshow(exp.mask.array,origin=\"lower\",cmap=\"jet\")\n",
    "#ax3=fig.add_subplot(133)\n",
    "#ax3.imshow(exp.variance.array,origin=\"lower\",cmap=\"jet\")"
   ]
  },
  {
   "cell_type": "code",
   "execution_count": 29,
   "metadata": {},
   "outputs": [],
   "source": [
    "#exp.image.array.shape"
   ]
  },
  {
   "cell_type": "code",
   "execution_count": 30,
   "metadata": {},
   "outputs": [],
   "source": [
    "#raw.image.array.shape"
   ]
  },
  {
   "cell_type": "markdown",
   "metadata": {},
   "source": [
    "## Meta Data"
   ]
  },
  {
   "cell_type": "code",
   "execution_count": 31,
   "metadata": {},
   "outputs": [],
   "source": [
    "md=butler.get(\"raw_md\",dayObs=dayObs,seqNum=seqNum)"
   ]
  },
  {
   "cell_type": "code",
   "execution_count": 32,
   "metadata": {},
   "outputs": [
    {
     "data": {
      "text/plain": [
       "{'SIMPLE': True,\n",
       " 'EXTEND': True,\n",
       " 'COMMENT': [\"  FITS (Flexible Image Transport System) format is defined in 'Astronomy\",\n",
       "  \"  and Astrophysics', volume 376, page 359; bibcode: 2001A&A...376..359H\",\n",
       "  \"= '        '\",\n",
       "  '---- Date, night and basic image information ----',\n",
       "  \"= '        '\",\n",
       "  '---- Telescope info, location, observer ----',\n",
       "  \"= '        '\",\n",
       "  '---- Pointing info, etc. ----',\n",
       "  \"= '        '\",\n",
       "  '---- TAN Projection ----',\n",
       "  \"= '        '\",\n",
       "  '---- Image-identifying used to build OBS-ID ----',\n",
       "  \"= '        '\",\n",
       "  '---- Test Stand information ----',\n",
       "  \"= '        '\",\n",
       "  '---- Information from Camera (Common block) ----',\n",
       "  \"= '        '\",\n",
       "  '---- Information from Camera ----',\n",
       "  \"= '        '\",\n",
       "  '---- Filter/grating information ----',\n",
       "  \"= '        '\",\n",
       "  '---- Exposure-related information ----',\n",
       "  \"= '        '\",\n",
       "  '---- Weather information ----',\n",
       "  \"= '        '\",\n",
       "  '---- Header information ----',\n",
       "  \"= '        '\",\n",
       "  '---- Checksums ----',\n",
       "  '---- Information from Camera per sensor ----',\n",
       "  \"= '        '\",\n",
       "  '---- Geometry from Camera ----'],\n",
       " 'ORIGIN': 'LSST DM Header Service',\n",
       " 'TIMESYS': 'TAI',\n",
       " 'DATE': '2021-02-19T05:52:58.800',\n",
       " 'DATE-OBS': '2021-02-19T05:53:27.926',\n",
       " 'DATE-BEG': '2021-02-19T05:53:27.926',\n",
       " 'DATE-END': '2021-02-19T05:53:33.167',\n",
       " 'MJD': 59264.2451250005,\n",
       " 'MJD-OBS': 59264.2454621109,\n",
       " 'MJD-BEG': 59264.2454621109,\n",
       " 'MJD-END': 59264.2455227691,\n",
       " 'OBSID': 'AT_O_20210218_000556',\n",
       " 'GROUPID': '2021-02-19T05:53:27.660',\n",
       " 'IMGTYPE': 'OBJECT',\n",
       " 'BUNIT': 'adu',\n",
       " 'FACILITY': 'Vera C. Rubin Observatory',\n",
       " 'TELESCOP': 'LSST AuxTelescope',\n",
       " 'INSTRUME': 'LATISS',\n",
       " 'OBSERVER': 'LSST',\n",
       " 'OBS-LONG': -70.749417,\n",
       " 'OBS-LAT': -30.244639,\n",
       " 'OBS-ELEV': 2663.0,\n",
       " 'OBSGEO-X': 1818938.94,\n",
       " 'OBSGEO-Y': -5208470.95,\n",
       " 'OBSGEO-Z': -3195172.08,\n",
       " 'RA': 113.363829166667,\n",
       " 'DEC': -50.5842530555556,\n",
       " 'RASTART': 113.200302700021,\n",
       " 'DECSTART': -50.5438070990524,\n",
       " 'RAEND': 113.200470873183,\n",
       " 'DECEND': -50.5438027935393,\n",
       " 'ROTPA': -188.364914062268,\n",
       " 'ROTCOORD': 'sky',\n",
       " 'HASTART': 3.55763911277132,\n",
       " 'ELSTART': 45.8590587063663,\n",
       " 'AZSTART': 226.802980829714,\n",
       " 'AMSTART': 1.39235915189649,\n",
       " 'HAEND': 3.55981610176233,\n",
       " 'ELEND': 45.8380923255318,\n",
       " 'AZEND': 226.806415398358,\n",
       " 'AMEND': 1.39284326688591,\n",
       " 'INSTPORT': 2,\n",
       " 'ATM3PORT': None,\n",
       " 'TRACKSYS': 'SIDEREAL',\n",
       " 'RADESYS': 'ICRS',\n",
       " 'FOCUSZ': -0.0262973979115486,\n",
       " 'OBJECT': 'HD 60753',\n",
       " 'DOMEAZ': 227.72,\n",
       " 'SHUTLOWR': 100.0,\n",
       " 'SHUTUPPR': 100.0,\n",
       " 'WCSAXES': 2,\n",
       " 'CTYPE1': 'RA---TAN',\n",
       " 'CTYPE2': 'DEC--TAN',\n",
       " 'CUNIT1': 'deg',\n",
       " 'CUNIT2': 'deg',\n",
       " 'CRVAL1': 113.363829166667,\n",
       " 'CRVAL2': -50.5842530555556,\n",
       " 'CRPIX1': 2000.0,\n",
       " 'CRPIX2': 2036.0,\n",
       " 'CD1_1': 0.104105195616855,\n",
       " 'CD1_2': -0.0136787516088368,\n",
       " 'CD2_1': 0.0136787516088368,\n",
       " 'CD2_2': 0.104105195616855,\n",
       " 'EQUINOX': 2000.0,\n",
       " 'CAMCODE': 'AT',\n",
       " 'CONTRLLR': 'O',\n",
       " 'DAYOBS': '20210218',\n",
       " 'SEQNUM': 556,\n",
       " 'TESTTYPE': None,\n",
       " 'TSTAND': None,\n",
       " 'IMAGETAG': 'b3a03296043978b2',\n",
       " 'OBSANNOT': '',\n",
       " 'TEMP_SET': -94.1500015258789,\n",
       " 'CCDTEMP': -90.1475524902344,\n",
       " 'FILTBAND': 'Empty',\n",
       " 'FILTER': 'RG610',\n",
       " 'FILTSLOT': 3,\n",
       " 'GRATING': 'holo4_003',\n",
       " 'GRATBAND': 'Empty',\n",
       " 'GRATSLOT': 3,\n",
       " 'LINSPOS': 59.9980010986328,\n",
       " 'EXPTIME': 5.0,\n",
       " 'SHUTTIME': None,\n",
       " 'DARKTIME': 5.33060312271118,\n",
       " 'AIRTEMP': 9.9,\n",
       " 'PRESSURE': 743.35,\n",
       " 'HUMIDITY': 41.0,\n",
       " 'WINDSPD': 8.2,\n",
       " 'WINDDIR': 323.0,\n",
       " 'SEEING': None,\n",
       " 'FILENAME': 'AT_O_20210218_000556.fits',\n",
       " 'HEADVER': '2.8.1',\n",
       " 'CHECKSUM': None,\n",
       " 'DATASUM': None,\n",
       " 'CCD_MANU': 'ITL',\n",
       " 'CCD_TYPE': 2,\n",
       " 'CCD_SERN': '20862',\n",
       " 'LSST_NUM': 'ITL-3800C-068',\n",
       " 'SEQCKSUM': '2552520002',\n",
       " 'SEQNAME': 'FP_ITL_2s_ir2_v25.seq',\n",
       " 'REBNAME': 'Unknown',\n",
       " 'CONTNUM': '412227310',\n",
       " 'CCDSLOT': 'S00',\n",
       " 'RAFTBAY': 'R00',\n",
       " 'OVERH': 64,\n",
       " 'OVERV': 48,\n",
       " 'PREH': 0,\n",
       " 'XTENSION': 'IMAGE',\n",
       " 'BITPIX': 32,\n",
       " 'NAXIS': 2,\n",
       " 'NAXIS1': 576,\n",
       " 'NAXIS2': 2048,\n",
       " 'PCOUNT': 0,\n",
       " 'GCOUNT': 1,\n",
       " 'INHERIT': True,\n",
       " 'EXTNAME': 'Segment10',\n",
       " 'DATASEC': '[1:509,1:2000]',\n",
       " 'DETSEC': '[509:1,1:2000]',\n",
       " 'DETSIZE': '[1:4072,1:4000]',\n",
       " 'DTV1': 510,\n",
       " 'DTV2': 0,\n",
       " 'DTM1_1': -1.0,\n",
       " 'DTM2_2': 1.0,\n",
       " 'DTM1_2': 0,\n",
       " 'DTM2_1': 0}"
      ]
     },
     "execution_count": 32,
     "metadata": {},
     "output_type": "execute_result"
    }
   ],
   "source": [
    "md.toDict()"
   ]
  },
  {
   "cell_type": "markdown",
   "metadata": {},
   "source": [
    "# Start to work on raw images with Red filter"
   ]
  },
  {
   "cell_type": "code",
   "execution_count": 33,
   "metadata": {},
   "outputs": [],
   "source": [
    "plt.rcParams[\"axes.labelsize\"] = 'large'\n",
    "plt.rcParams['axes.titlesize'] = 'large'\n",
    "plt.rcParams['xtick.labelsize']= 'large'\n",
    "plt.rcParams['ytick.labelsize']= 'large'"
   ]
  },
  {
   "cell_type": "code",
   "execution_count": 34,
   "metadata": {},
   "outputs": [],
   "source": [
    "all_myseq=all_myseq_RG610_holo4_003"
   ]
  },
  {
   "cell_type": "code",
   "execution_count": 35,
   "metadata": {},
   "outputs": [
    {
     "data": {
      "text/plain": [
       "9"
      ]
     },
     "execution_count": 35,
     "metadata": {},
     "output_type": "execute_result"
    }
   ],
   "source": [
    "len(all_myseq)"
   ]
  },
  {
   "cell_type": "code",
   "execution_count": 36,
   "metadata": {},
   "outputs": [],
   "source": [
    "all_my_raw_array=[]\n",
    "all_my_header=[]\n",
    "for seqNum in all_myseq:\n",
    "    raw=butler.get('raw',dayObs=dayObs,seqNum=seqNum)\n",
    "    md=butler.get(\"raw_md\",dayObs=dayObs,seqNum=seqNum)\n",
    "    all_my_raw_array.append(np.copy(raw.image.array))\n",
    "    all_my_header.append(md.toDict())"
   ]
  },
  {
   "cell_type": "code",
   "execution_count": 37,
   "metadata": {},
   "outputs": [],
   "source": [
    "Ncol=3\n",
    "Nrow=3\n",
    "Ntot=Ncol*Nrow"
   ]
  },
  {
   "cell_type": "code",
   "execution_count": 38,
   "metadata": {},
   "outputs": [],
   "source": [
    "fig = plt.figure(figsize=(20,20))\n",
    "ax=fig.add_subplot(111)\n",
    "# loop on angle\n",
    "for idx in np.arange(Ntot):\n",
    "    ax=fig.add_subplot(Nrow,Ncol,idx+1)\n",
    "    ax.imshow(all_my_raw_array[idx],origin='lower',cmap=\"jet\",norm=LogNorm())\n",
    "    ax.set_title(all_myseq[idx])\n",
    "    \n",
    "    ax.minorticks_on()\n",
    "    \n",
    "    ax2=ax.twiny()\n",
    "    ax2.imshow(all_my_raw_array[idx],origin='lower',cmap=\"jet\",norm=LogNorm())\n",
    "    ax2.set_xlim(ax.get_xlim())\n",
    "    ax2.minorticks_on()\n",
    "    \n",
    "    #ax.tick_params(which='major', length=10, width=2, direction='inout')\n",
    "    #ax.tick_params(which='minor', length=5, width=2, direction='inout')\n",
    "    #ax.grid(which='both')\n",
    "\n",
    "\n",
    "\n",
    "    #ax.set_aspect('equal')\n",
    "\n",
    "    #x1, x2 = ax.get_xlim() \n",
    "    #y1, y2 = ax.get_ylim() \n"
   ]
  },
  {
   "cell_type": "code",
   "execution_count": 39,
   "metadata": {},
   "outputs": [],
   "source": [
    "img_cut1=all_my_raw_array[0][0:2000,:]\n",
    "img_cut2=all_my_raw_array[0][2001:2097,:]\n",
    "img_cut3=all_my_raw_array[0][2097:,:]"
   ]
  },
  {
   "cell_type": "code",
   "execution_count": 40,
   "metadata": {},
   "outputs": [],
   "source": [
    "\n",
    "fig=plt.figure(figsize=(20,26))\n",
    "ax1=fig.add_subplot(311)\n",
    "ax1.imshow(img_cut3,origin='lower',cmap=\"jet\",norm=LogNorm())\n",
    "ax1.minorticks_on()\n",
    "ax1.set_title(\"img_cut3\")\n",
    "ax11=ax1.twiny()\n",
    "ax11.imshow(img_cut3,origin='lower',cmap=\"jet\",norm=LogNorm())\n",
    "ax11.set_xlim(ax1.get_xlim())\n",
    "ax11.minorticks_on()\n",
    "\n",
    "ax2=fig.add_subplot(312)\n",
    "ax2.imshow(img_cut2,origin='lower',cmap=\"jet\",norm=LogNorm())\n",
    "ax2.minorticks_on()\n",
    "ax2.set_title(\"img_cut2\")\n",
    "ax22=ax2.twiny()\n",
    "ax22.imshow(img_cut2,origin='lower',cmap=\"jet\",norm=LogNorm())\n",
    "ax22.set_xlim(ax2.get_xlim())\n",
    "ax22.minorticks_on()\n",
    "\n",
    "ax3=fig.add_subplot(313)\n",
    "ax3.imshow(img_cut1,origin='lower',cmap=\"jet\",norm=LogNorm())\n",
    "ax3.minorticks_on()\n",
    "ax3.set_title(\"img_cut1\")\n",
    "\n",
    "ax33=ax3.twiny()\n",
    "ax33.imshow(img_cut1,origin='lower',cmap=\"jet\",norm=LogNorm())\n",
    "ax33.set_xlim(ax3.get_xlim())\n",
    "ax33.minorticks_on()\n",
    "\n",
    "plt.tight_layout()"
   ]
  },
  {
   "cell_type": "code",
   "execution_count": 41,
   "metadata": {},
   "outputs": [],
   "source": [
    "Y_profile=np.sum(img_cut1,axis=1)\n",
    "X_profile=np.sum(all_my_raw_array[0],axis=1)"
   ]
  },
  {
   "cell_type": "code",
   "execution_count": 42,
   "metadata": {},
   "outputs": [],
   "source": [
    "from matplotlib.ticker import (MultipleLocator, FormatStrFormatter,\n",
    "                               AutoMinorLocator)\n",
    "fig=plt.figure(figsize=(20,5))\n",
    "ax=fig.add_subplot(111)\n",
    "\n",
    "ax.xaxis.set_minor_locator(AutoMinorLocator())\n",
    "\n",
    "ax.tick_params(which='both', width=2)\n",
    "ax.tick_params(which='major', length=7)\n",
    "ax.tick_params(which='minor', length=4, color='r')\n",
    "\n",
    "ax.plot(Y_profile)\n",
    "ax.grid()\n"
   ]
  },
  {
   "cell_type": "code",
   "execution_count": 43,
   "metadata": {},
   "outputs": [],
   "source": [
    "from matplotlib.ticker import (MultipleLocator, FormatStrFormatter,\n",
    "                               AutoMinorLocator)\n",
    "fig=plt.figure(figsize=(20,5))\n",
    "ax=fig.add_subplot(111)\n",
    "\n",
    "ax.plot(Y_profile[2000:2100])\n",
    "ax.xaxis.set_minor_locator(AutoMinorLocator())\n",
    "\n",
    "ax.tick_params(which='both', width=2)\n",
    "ax.tick_params(which='major', length=7)\n",
    "ax.tick_params(which='minor', length=4, color='r')\n",
    "\n",
    "ax.grid()"
   ]
  },
  {
   "cell_type": "code",
   "execution_count": 44,
   "metadata": {},
   "outputs": [],
   "source": [
    "img_cut1=all_my_raw_array[0][0:2001,:]\n",
    "img_cut2=all_my_raw_array[0][2001:2096,:]\n",
    "img_cut3=all_my_raw_array[0][2097:,:]"
   ]
  },
  {
   "cell_type": "code",
   "execution_count": 45,
   "metadata": {},
   "outputs": [],
   "source": [
    "cut_image = []\n",
    "for image in all_my_raw_array:\n",
    "    img_cut1=image[0:2001,:]\n",
    "    img_cut2=image[2001:2096,:]\n",
    "    img_cut3=image[2097:,:]\n",
    "    \n",
    "    stack=np.vstack((img_cut1,img_cut3))\n",
    "    \n",
    "    cut_image.append(stack) \n",
    "    \n",
    "    "
   ]
  },
  {
   "cell_type": "code",
   "execution_count": 46,
   "metadata": {},
   "outputs": [
    {
     "data": {
      "text/plain": [
       "Text(0.5, 1.0, 'raw image cut')"
      ]
     },
     "execution_count": 46,
     "metadata": {},
     "output_type": "execute_result"
    }
   ],
   "source": [
    "fig=plt.figure(figsize=(20,10))\n",
    "ax1=fig.add_subplot(121)\n",
    "ax1.minorticks_on()\n",
    "ax1.imshow(all_my_raw_array[0],origin='lower',cmap=\"jet\",norm=LogNorm())\n",
    "ax1.set_title(\"original raw image\")\n",
    "ax2=fig.add_subplot(122)\n",
    "ax2.imshow(cut_image[0],origin='lower',cmap=\"jet\",norm=LogNorm())\n",
    "ax2.minorticks_on()\n",
    "ax2.set_title(\"raw image cut\")"
   ]
  },
  {
   "cell_type": "code",
   "execution_count": 47,
   "metadata": {},
   "outputs": [
    {
     "data": {
      "text/plain": [
       "Text(0.5, 0.98, 'cut raw images')"
      ]
     },
     "execution_count": 47,
     "metadata": {},
     "output_type": "execute_result"
    }
   ],
   "source": [
    "fig = plt.figure(figsize=(20,20))\n",
    "\n",
    "# loop on total number of images\n",
    "for idx in np.arange(Ntot):\n",
    "    ax=fig.add_subplot(Nrow,Ncol,idx+1)\n",
    "    ax.imshow(cut_image[idx],origin='lower',cmap=\"jet\",norm=LogNorm())\n",
    "    ax.set_title(all_myseq[idx])\n",
    "    ax.minorticks_on()\n",
    "    \n",
    "plt.suptitle(\"cut raw images\")"
   ]
  },
  {
   "cell_type": "code",
   "execution_count": 48,
   "metadata": {},
   "outputs": [],
   "source": [
    "from astropy.io import fits"
   ]
  },
  {
   "cell_type": "code",
   "execution_count": null,
   "metadata": {},
   "outputs": [],
   "source": []
  },
  {
   "cell_type": "code",
   "execution_count": 49,
   "metadata": {},
   "outputs": [
    {
     "name": "stdout",
     "output_type": "stream",
     "text": [
      "holo4_003_RG610_HD60753_2021-02-18_556_noheader.fits\n",
      "holo4_003_RG610_HD60753_2021-02-18_557_noheader.fits\n",
      "holo4_003_RG610_HD60753_2021-02-18_558_noheader.fits\n",
      "holo4_003_RG610_HD60753_2021-02-18_559_noheader.fits\n",
      "holo4_003_RG610_HD60753_2021-02-18_560_noheader.fits\n",
      "holo4_003_RG610_HD60753_2021-02-18_561_noheader.fits\n",
      "holo4_003_RG610_HD60753_2021-02-18_562_noheader.fits\n",
      "holo4_003_RG610_HD60753_2021-02-18_563_noheader.fits\n",
      "holo4_003_RG610_HD60753_2021-02-18_564_noheader.fits\n"
     ]
    }
   ],
   "source": [
    "idx=0\n",
    "for seqNum in all_myseq:\n",
    "    filename=\"holo4_003\"+\"_\"+filt1+\"_\"+imageName+\"_\"+dayObs+\"_\"+str(seqNum)+\"_noheader.fits\"\n",
    "    print(filename)\n",
    "    \n",
    "    hdr = fits.Header()\n",
    "    \n",
    "    for key,value in all_my_header[idx].items():\n",
    "        hdr[str(key)]=value\n",
    "        \n",
    "    #hdu = fits.PrimaryHDU(data=all_my_raw_array[idx],header=hdr)  # with headers\n",
    "    hdu = fits.PrimaryHDU(data=all_my_raw_array[idx])\n",
    "    \n",
    "    hdul = fits.HDUList([hdu])\n",
    "    \n",
    "    hdul.writeto(filename,overwrite=True)\n",
    "    \n",
    "    idx+=1"
   ]
  },
  {
   "cell_type": "code",
   "execution_count": 50,
   "metadata": {},
   "outputs": [
    {
     "name": "stdout",
     "output_type": "stream",
     "text": [
      "holo4_003_RG610_HD60753_2021-02-18_556_noheader_cut.fits\n",
      "holo4_003_RG610_HD60753_2021-02-18_557_noheader_cut.fits\n",
      "holo4_003_RG610_HD60753_2021-02-18_558_noheader_cut.fits\n",
      "holo4_003_RG610_HD60753_2021-02-18_559_noheader_cut.fits\n",
      "holo4_003_RG610_HD60753_2021-02-18_560_noheader_cut.fits\n",
      "holo4_003_RG610_HD60753_2021-02-18_561_noheader_cut.fits\n",
      "holo4_003_RG610_HD60753_2021-02-18_562_noheader_cut.fits\n",
      "holo4_003_RG610_HD60753_2021-02-18_563_noheader_cut.fits\n",
      "holo4_003_RG610_HD60753_2021-02-18_564_noheader_cut.fits\n"
     ]
    }
   ],
   "source": [
    "idx=0\n",
    "for seqNum in all_myseq:\n",
    "    \n",
    "    filename=\"holo4_003\"+\"_\"+filt1+\"_\"+imageName+\"_\"+dayObs+\"_\"+str(seqNum)+\"_noheader_cut.fits\"\n",
    "    print(filename)\n",
    "    \n",
    "    hdr = fits.Header()\n",
    "    \n",
    "    for key,value in all_my_header[idx].items():\n",
    "        hdr[str(key)]=value\n",
    "        \n",
    "    #hdu = fits.PrimaryHDU(data=all_my_raw_array[idx],header=hdr)\n",
    "    hdu = fits.PrimaryHDU(data=cut_image[idx])\n",
    "    \n",
    "    hdul = fits.HDUList([hdu])\n",
    "    \n",
    "    hdul.writeto(filename,overwrite=True)\n",
    "    \n",
    "    idx+=1"
   ]
  },
  {
   "cell_type": "markdown",
   "metadata": {},
   "source": [
    "# No filter"
   ]
  },
  {
   "cell_type": "code",
   "execution_count": 51,
   "metadata": {},
   "outputs": [],
   "source": [
    "all_myseq=all_myseq_empty_holo4_003"
   ]
  },
  {
   "cell_type": "code",
   "execution_count": 52,
   "metadata": {},
   "outputs": [
    {
     "data": {
      "text/plain": [
       "range(566, 589)"
      ]
     },
     "execution_count": 52,
     "metadata": {},
     "output_type": "execute_result"
    }
   ],
   "source": [
    "all_myseq"
   ]
  },
  {
   "cell_type": "code",
   "execution_count": 53,
   "metadata": {},
   "outputs": [
    {
     "data": {
      "text/plain": [
       "23"
      ]
     },
     "execution_count": 53,
     "metadata": {},
     "output_type": "execute_result"
    }
   ],
   "source": [
    "len(all_myseq)"
   ]
  },
  {
   "cell_type": "code",
   "execution_count": 54,
   "metadata": {},
   "outputs": [],
   "source": [
    "all_my_raw_array=[]\n",
    "all_my_header=[]\n",
    "for seqNum in all_myseq:\n",
    "    raw=butler.get('raw',dayObs=dayObs,seqNum=seqNum)\n",
    "    md=butler.get(\"raw_md\",dayObs=dayObs,seqNum=seqNum)\n",
    "    all_my_raw_array.append(np.copy(raw.image.array))\n",
    "    all_my_header.append(md.toDict())"
   ]
  },
  {
   "cell_type": "code",
   "execution_count": 55,
   "metadata": {},
   "outputs": [],
   "source": [
    "Ncol=5\n",
    "Nrow=5\n",
    "Ntot=Ncol*Nrow"
   ]
  },
  {
   "cell_type": "code",
   "execution_count": 56,
   "metadata": {},
   "outputs": [],
   "source": [
    "fig = plt.figure(figsize=(20,20))\n",
    "ax=fig.add_subplot(111)\n",
    "# loop on angle\n",
    "for idx in np.arange(Ntot):\n",
    "    if idx>=len(all_myseq):\n",
    "        break\n",
    "    ax=fig.add_subplot(Nrow,Ncol,idx+1)\n",
    "    ax.imshow(all_my_raw_array[idx],origin='lower',cmap=\"jet\",norm=LogNorm())\n",
    "    ax.set_title(all_myseq[idx])\n",
    "    \n",
    "    ax.minorticks_on()\n",
    "    \n",
    "    ax2=ax.twiny()\n",
    "    ax2.imshow(all_my_raw_array[idx],origin='lower',cmap=\"jet\",norm=LogNorm())\n",
    "    ax2.set_xlim(ax.get_xlim())\n",
    "    ax2.minorticks_on()\n",
    "    \n",
    "plt.show()\n",
    "    "
   ]
  },
  {
   "cell_type": "code",
   "execution_count": 57,
   "metadata": {},
   "outputs": [],
   "source": [
    "cut_image = []\n",
    "for image in all_my_raw_array:\n",
    "    img_cut1=image[0:2001,:]\n",
    "    img_cut2=image[2001:2096,:]\n",
    "    img_cut3=image[2097:,:]\n",
    "    \n",
    "    stack=np.vstack((img_cut1,img_cut3))\n",
    "    \n",
    "    cut_image.append(stack) \n",
    "    "
   ]
  },
  {
   "cell_type": "code",
   "execution_count": 58,
   "metadata": {},
   "outputs": [
    {
     "data": {
      "text/plain": [
       "Text(0.5, 0.98, 'cut raw images')"
      ]
     },
     "execution_count": 58,
     "metadata": {},
     "output_type": "execute_result"
    }
   ],
   "source": [
    "fig = plt.figure(figsize=(20,20))\n",
    "\n",
    "# loop on total number of images\n",
    "for idx in np.arange(Ntot):\n",
    "    if idx>=len(all_myseq):\n",
    "        break\n",
    "    ax=fig.add_subplot(Nrow,Ncol,idx+1)\n",
    "    ax.imshow(cut_image[idx],origin='lower',cmap=\"jet\",norm=LogNorm())\n",
    "    ax.set_title(all_myseq[idx])\n",
    "    ax.minorticks_on()\n",
    "    \n",
    "plt.suptitle(\"cut raw images\")"
   ]
  },
  {
   "cell_type": "code",
   "execution_count": 59,
   "metadata": {},
   "outputs": [
    {
     "name": "stdout",
     "output_type": "stream",
     "text": [
      "holo4_003_empty_HD60753_2021-02-18_566_noheader.fits\n",
      "holo4_003_empty_HD60753_2021-02-18_567_noheader.fits\n",
      "holo4_003_empty_HD60753_2021-02-18_568_noheader.fits\n",
      "holo4_003_empty_HD60753_2021-02-18_569_noheader.fits\n",
      "holo4_003_empty_HD60753_2021-02-18_570_noheader.fits\n",
      "holo4_003_empty_HD60753_2021-02-18_571_noheader.fits\n",
      "holo4_003_empty_HD60753_2021-02-18_572_noheader.fits\n",
      "holo4_003_empty_HD60753_2021-02-18_573_noheader.fits\n",
      "holo4_003_empty_HD60753_2021-02-18_574_noheader.fits\n",
      "holo4_003_empty_HD60753_2021-02-18_575_noheader.fits\n",
      "holo4_003_empty_HD60753_2021-02-18_576_noheader.fits\n",
      "holo4_003_empty_HD60753_2021-02-18_577_noheader.fits\n",
      "holo4_003_empty_HD60753_2021-02-18_578_noheader.fits\n",
      "holo4_003_empty_HD60753_2021-02-18_579_noheader.fits\n",
      "holo4_003_empty_HD60753_2021-02-18_580_noheader.fits\n",
      "holo4_003_empty_HD60753_2021-02-18_581_noheader.fits\n",
      "holo4_003_empty_HD60753_2021-02-18_582_noheader.fits\n",
      "holo4_003_empty_HD60753_2021-02-18_583_noheader.fits\n",
      "holo4_003_empty_HD60753_2021-02-18_584_noheader.fits\n",
      "holo4_003_empty_HD60753_2021-02-18_585_noheader.fits\n",
      "holo4_003_empty_HD60753_2021-02-18_586_noheader.fits\n",
      "holo4_003_empty_HD60753_2021-02-18_587_noheader.fits\n",
      "holo4_003_empty_HD60753_2021-02-18_588_noheader.fits\n"
     ]
    }
   ],
   "source": [
    "idx=0\n",
    "for seqNum in all_myseq:\n",
    "    filename=\"holo4_003\"+\"_\"+filt2+\"_\"+imageName+\"_\"+dayObs+\"_\"+str(seqNum)+\"_noheader.fits\"\n",
    "    print(filename)\n",
    "    \n",
    "    hdr = fits.Header()\n",
    "    \n",
    "    for key,value in all_my_header[idx].items():\n",
    "        hdr[str(key)]=value\n",
    "        \n",
    "    #hdu = fits.PrimaryHDU(data=all_my_raw_array[idx],header=hdr)  # with headers\n",
    "    hdu = fits.PrimaryHDU(data=all_my_raw_array[idx])\n",
    "    \n",
    "    hdul = fits.HDUList([hdu])\n",
    "    \n",
    "    hdul.writeto(filename,overwrite=True)\n",
    "    \n",
    "    idx+=1"
   ]
  },
  {
   "cell_type": "code",
   "execution_count": 60,
   "metadata": {},
   "outputs": [
    {
     "name": "stdout",
     "output_type": "stream",
     "text": [
      "holo4_003_empty_HD60753_2021-02-18_566_noheader_cut.fits\n",
      "holo4_003_empty_HD60753_2021-02-18_567_noheader_cut.fits\n",
      "holo4_003_empty_HD60753_2021-02-18_568_noheader_cut.fits\n",
      "holo4_003_empty_HD60753_2021-02-18_569_noheader_cut.fits\n",
      "holo4_003_empty_HD60753_2021-02-18_570_noheader_cut.fits\n",
      "holo4_003_empty_HD60753_2021-02-18_571_noheader_cut.fits\n",
      "holo4_003_empty_HD60753_2021-02-18_572_noheader_cut.fits\n",
      "holo4_003_empty_HD60753_2021-02-18_573_noheader_cut.fits\n",
      "holo4_003_empty_HD60753_2021-02-18_574_noheader_cut.fits\n",
      "holo4_003_empty_HD60753_2021-02-18_575_noheader_cut.fits\n",
      "holo4_003_empty_HD60753_2021-02-18_576_noheader_cut.fits\n",
      "holo4_003_empty_HD60753_2021-02-18_577_noheader_cut.fits\n",
      "holo4_003_empty_HD60753_2021-02-18_578_noheader_cut.fits\n",
      "holo4_003_empty_HD60753_2021-02-18_579_noheader_cut.fits\n",
      "holo4_003_empty_HD60753_2021-02-18_580_noheader_cut.fits\n",
      "holo4_003_empty_HD60753_2021-02-18_581_noheader_cut.fits\n",
      "holo4_003_empty_HD60753_2021-02-18_582_noheader_cut.fits\n",
      "holo4_003_empty_HD60753_2021-02-18_583_noheader_cut.fits\n",
      "holo4_003_empty_HD60753_2021-02-18_584_noheader_cut.fits\n",
      "holo4_003_empty_HD60753_2021-02-18_585_noheader_cut.fits\n",
      "holo4_003_empty_HD60753_2021-02-18_586_noheader_cut.fits\n",
      "holo4_003_empty_HD60753_2021-02-18_587_noheader_cut.fits\n",
      "holo4_003_empty_HD60753_2021-02-18_588_noheader_cut.fits\n"
     ]
    }
   ],
   "source": [
    "idx=0\n",
    "for seqNum in all_myseq:\n",
    "    \n",
    "    filename=\"holo4_003\"+\"_\"+filt2+\"_\"+imageName+\"_\"+dayObs+\"_\"+str(seqNum)+\"_noheader_cut.fits\"\n",
    "    print(filename)\n",
    "    \n",
    "    hdr = fits.Header()\n",
    "    \n",
    "    for key,value in all_my_header[idx].items():\n",
    "        hdr[str(key)]=value\n",
    "        \n",
    "    #hdu = fits.PrimaryHDU(data=all_my_raw_array[idx],header=hdr)\n",
    "    hdu = fits.PrimaryHDU(data=cut_image[idx])\n",
    "    \n",
    "    hdul = fits.HDUList([hdu])\n",
    "    \n",
    "    hdul.writeto(filename,overwrite=True)\n",
    "    \n",
    "    idx+=1"
   ]
  }
 ],
 "metadata": {
  "kernelspec": {
   "display_name": "LSST",
   "language": "python",
   "name": "lsst"
  },
  "language_info": {
   "codemirror_mode": {
    "name": "ipython",
    "version": 3
   },
   "file_extension": ".py",
   "mimetype": "text/x-python",
   "name": "python",
   "nbconvert_exporter": "python",
   "pygments_lexer": "ipython3",
   "version": "3.7.8"
  }
 },
 "nbformat": 4,
 "nbformat_minor": 4
}
