{
 "cells": [
  {
   "cell_type": "markdown",
   "id": "73576d51",
   "metadata": {},
   "source": [
    "# Observations for the night October 07th 2021 \n",
    "\n",
    "\n",
    "https://harvard.zoom.us/rec/play/N7umVF8Rk3vWvW_O3jkaTinofB2WxW3QKz0fVai_K-qvAYLt37uMrvskOlnBiMEjduSeQVzWT7_DDYzc.IY7Pqjef82YlWmZE?continueMode=true&_x_zm_rtaid=BjQYrDaETYeYRUMw8NQgLw.1613559822570.c813d210d38e378b719cb4048493df5b&_x_zm_rhtaid=205\n",
    "\n",
    "\n",
    "- work with Weakly_2021_26\n",
    "- use jupyter kernel LSST\n",
    "- requires the installation see https://github.com/stubbslab/PCWG-AuxTel/blob/main/setup_script.md\n",
    "- requires to write in file {HOME}/notebooks/.user_setups\n"
   ]
  },
  {
   "cell_type": "code",
   "execution_count": null,
   "id": "25b12271",
   "metadata": {},
   "outputs": [],
   "source": [
    "#! eups list -s"
   ]
  },
  {
   "cell_type": "code",
   "execution_count": 2,
   "id": "1c60cd9c",
   "metadata": {},
   "outputs": [],
   "source": [
    "import os\n",
    "import matplotlib.pyplot as plt\n",
    "import numpy as np\n",
    "%matplotlib inline\n",
    "from matplotlib.colors import LogNorm\n",
    "\n",
    "from mpl_toolkits.axes_grid1 import make_axes_locatable\n",
    "\n",
    "import matplotlib.ticker                         # here's where the formatter is\n",
    "from matplotlib.ticker import (MultipleLocator, FormatStrFormatter,\n",
    "                               AutoMinorLocator)\n",
    "\n",
    "from astropy.io import fits"
   ]
  },
  {
   "cell_type": "code",
   "execution_count": 3,
   "id": "d00eda95",
   "metadata": {},
   "outputs": [],
   "source": [
    "import lsst.daf.persistence as dafPersist\n",
    "import lsst.afw.display as afwDisplay\n",
    "afwDisplay.setDefaultBackend(\"lsst.display.firefly\")"
   ]
  },
  {
   "cell_type": "code",
   "execution_count": 4,
   "id": "20843e9f",
   "metadata": {},
   "outputs": [],
   "source": [
    "# correct for bug in stack in wl_2021_02\n",
    "%config IPCompleter.use_jedi=False"
   ]
  },
  {
   "cell_type": "code",
   "execution_count": 5,
   "id": "4cff9dc6",
   "metadata": {},
   "outputs": [],
   "source": [
    "FLAG_SAVE_IMAGE=True"
   ]
  },
  {
   "cell_type": "code",
   "execution_count": 6,
   "id": "3a08fafa",
   "metadata": {},
   "outputs": [
    {
     "name": "stdout",
     "output_type": "stream",
     "text": [
      "calexp\ticExp  postISRCCD\t     repositoryCfg.yaml  spectractorOutput\n",
      "config\ticSrc  processStar_metadata  schema\n"
     ]
    }
   ],
   "source": [
    "!ls /project/shared/auxTel/rerun/mfl/slurmRun"
   ]
  },
  {
   "cell_type": "code",
   "execution_count": 7,
   "id": "4f230709",
   "metadata": {},
   "outputs": [
    {
     "name": "stdout",
     "output_type": "stream",
     "text": [
      "CALIB\t   CALIB-OLD\t CALIB-RHL  Fossil   _parent.old  rerun\n",
      "CALIB_OLD  calibrations  dagoret    _parent  ref_cats\n"
     ]
    }
   ],
   "source": [
    "!ls /project/shared/auxTel"
   ]
  },
  {
   "cell_type": "code",
   "execution_count": 8,
   "id": "b10335b5",
   "metadata": {},
   "outputs": [
    {
     "name": "stdout",
     "output_type": "stream",
     "text": [
      "total 16\n",
      "drwxr-sr-x  3 57489 1363 4096 Mar 18  2020 adriansh\n",
      "drwxr-sr-x  9 49813 1363 4096 Apr 23  2020 calib_construction\n",
      "drwxrwsr-x 14 56749 1363 4096 Mar 17  2021 cslage\n",
      "drwxrwsrwx  9 49813 1363 4096 Sep 13 08:01 dagoret\n",
      "drwxrwsrwx  3 49813 1363 4096 Feb 24  2021 jneveu\n",
      "drwxrwsr-x  3 49803 1363 4096 Aug 18 01:11 lauren\n",
      "lrwxrwxrwx  1 49813 1363   25 Aug  7  2020 mfl -> /project/mfl/auxTelReruns\n",
      "drwxr-sr-x  4 56509 1363 4096 Apr 24  2020 nmondrik\n",
      "drwxr-sr-x  5 49813 1363 4096 Apr 23  2020 old_calibs\n",
      "drwxr-sr-x 34 57167 1363 4096 Dec 15  2020 plazas\n",
      "drwxr-sr-x  2 49813 1363 4096 Jan 29  2020 processCcdTesting\n",
      "drwxrwsrwx  9 49813 1363 4096 May 16 20:28 quickLook\n",
      "lrwxrwxrwx  1 37341 1363   25 Apr 30  2019 rhl -> /project/rhl/rerun/auxTel\n",
      "drwxr-sr-x  3 48974 1363 4096 Feb 27  2020 swinbank\n",
      "drwxr-sr-x  3 49813 1363 4096 Sep  9 15:28 test\n",
      "drwxrwsr-x  3 37341 1363 4096 May 10  2019 XXXXX\n"
     ]
    }
   ],
   "source": [
    "!ls /project/shared/auxTel/rerun -l"
   ]
  },
  {
   "cell_type": "markdown",
   "id": "69924bb1",
   "metadata": {},
   "source": [
    "# Configuration"
   ]
  },
  {
   "cell_type": "markdown",
   "id": "532be62a",
   "metadata": {},
   "source": [
    "## Location and date"
   ]
  },
  {
   "cell_type": "code",
   "execution_count": 9,
   "id": "c867524d",
   "metadata": {},
   "outputs": [
    {
     "name": "stderr",
     "output_type": "stream",
     "text": [
      "/home/dagoret/repos/rapid_analysis/python/lsst/rapid/analysis/nightReport.py:104: FutureWarning: Gen2 Butler has been deprecated (Butler). It will be removed sometime after v23.0 but no earlier than the end of 2021.\n",
      "  self._butler = dafPersist.Butler(repoDir)\n",
      "/home/dagoret/repos/rapid_analysis/python/lsst/rapid/analysis/nightReport.py:104: FutureWarning: Gen2 Butler has been deprecated (LatissMapper). It will be removed sometime after v23.0 but no earlier than the end of 2021.\n",
      "  self._butler = dafPersist.Butler(repoDir)\n"
     ]
    },
    {
     "name": "stdout",
     "output_type": "stream",
     "text": [
      "Loaded data for seqNums 1 to 131\n"
     ]
    }
   ],
   "source": [
    "from lsst.rapid.analysis.nightReport import NightReporter\n",
    "# data exist here\n",
    "repoDir='/project/shared/auxTel'\n",
    "# recommended but wrong\n",
    "#repoDir='project/shared/auxTel/rerun/mfl/slurmRun'\n",
    "dayObs=\"2021-10-07\"\n",
    "reporter=NightReporter(repoDir,dayObs)"
   ]
  },
  {
   "cell_type": "markdown",
   "id": "20d53a10",
   "metadata": {},
   "source": [
    "# Selection"
   ]
  },
  {
   "cell_type": "code",
   "execution_count": 10,
   "id": "0a22016a",
   "metadata": {},
   "outputs": [],
   "source": [
    "DISPERSER_SEL=\"holo4_003\""
   ]
  },
  {
   "cell_type": "markdown",
   "id": "a558fda7",
   "metadata": {},
   "source": [
    "# Information from reporter"
   ]
  },
  {
   "cell_type": "code",
   "execution_count": 11,
   "id": "1c1c09ef",
   "metadata": {},
   "outputs": [
    {
     "name": "stdout",
     "output_type": "stream",
     "text": [
      "['slew_icrs']\n"
     ]
    }
   ],
   "source": [
    "print(reporter.getObservedObjects())"
   ]
  },
  {
   "cell_type": "code",
   "execution_count": 12,
   "id": "362d6185",
   "metadata": {},
   "outputs": [],
   "source": [
    "reporter.makePolarPlotForObjects()"
   ]
  },
  {
   "cell_type": "code",
   "execution_count": 13,
   "id": "6ed1dfdd",
   "metadata": {},
   "outputs": [],
   "source": [
    "reporter.plotPerObjectAirMass()"
   ]
  },
  {
   "cell_type": "code",
   "execution_count": 14,
   "id": "bd6150fd",
   "metadata": {},
   "outputs": [
    {
     "name": "stdout",
     "output_type": "stream",
     "text": [
      "{seqNum} {imageType} {obj} {timeOfDay} {filt} {timeSinceLastExp} {expTime}\n",
      "   1 bias      Park position 17:41:20.396 SDSSg~empty                  0.0  0.00\n",
      "   2 engtest   Park position 17:42:22.864 FELH0600~holo4_003          62.5  2.00\n",
      "   3 bias      FlatField position 18:09:55.111 FELH0600~holo4_003        1652.2  0.00\n",
      "   4 bias      FlatField position 18:09:59.668 FELH0600~holo4_003           4.6  0.00\n",
      "   5 bias      FlatField position 18:10:04.230 FELH0600~holo4_003           4.6  0.00\n",
      "   6 bias      FlatField position 18:10:08.784 FELH0600~holo4_003           4.6  0.00\n",
      "   7 bias      FlatField position 18:10:13.383 FELH0600~holo4_003           4.6  0.00\n",
      "   8 bias      FlatField position 18:10:17.938 FELH0600~holo4_003           4.6  0.00\n",
      "   9 bias      FlatField position 18:10:22.516 FELH0600~holo4_003           4.6  0.00\n",
      "  10 bias      FlatField position 18:10:27.084 FELH0600~holo4_003           4.6  0.00\n",
      "  11 bias      FlatField position 18:10:31.652 FELH0600~holo4_003           4.6  0.00\n",
      "  12 bias      FlatField position 18:10:36.220 FELH0600~holo4_003           4.6  0.00\n",
      "  13 bias      FlatField position 18:10:40.780 FELH0600~holo4_003           4.6  0.00\n",
      "  14 bias      FlatField position 18:10:45.340 FELH0600~holo4_003           4.6  0.00\n",
      "  15 bias      FlatField position 18:10:49.906 FELH0600~holo4_003           4.6  0.00\n",
      "  16 bias      FlatField position 18:10:54.465 FELH0600~holo4_003           4.6  0.00\n",
      "  17 bias      FlatField position 18:10:59.020 FELH0600~holo4_003           4.6  0.00\n",
      "  18 bias      FlatField position 18:11:03.581 FELH0600~holo4_003           4.6  0.00\n",
      "  19 bias      FlatField position 18:11:08.145 FELH0600~holo4_003           4.6  0.00\n",
      "  20 bias      FlatField position 18:11:12.709 FELH0600~holo4_003           4.6  0.00\n",
      "  21 bias      FlatField position 18:11:17.267 FELH0600~holo4_003           4.6  0.00\n",
      "  22 bias      FlatField position 18:11:21.825 FELH0600~holo4_003           4.6  0.00\n",
      "  23 bias      FlatField position 18:11:26.382 FELH0600~holo4_003           4.6  0.00\n",
      "  24 bias      FlatField position 18:11:30.938 FELH0600~holo4_003           4.6  0.00\n",
      "  25 bias      FlatField position 18:11:35.498 FELH0600~holo4_003           4.6  0.00\n",
      "  26 bias      FlatField position 18:11:40.052 FELH0600~holo4_003           4.6  0.00\n",
      "  27 bias      FlatField position 18:11:44.626 FELH0600~holo4_003           4.6  0.00\n",
      "  28 bias      FlatField position 18:11:49.176 FELH0600~holo4_003           4.5  0.00\n",
      "  29 bias      FlatField position 18:11:53.712 FELH0600~holo4_003           4.5  0.00\n",
      "  30 bias      FlatField position 18:11:58.269 FELH0600~holo4_003           4.6  0.00\n",
      "  31 bias      FlatField position 18:12:02.824 FELH0600~holo4_003           4.6  0.00\n",
      "  32 bias      FlatField position 18:12:07.388 FELH0600~holo4_003           4.6  0.00\n",
      "  33 bias      FlatField position 18:12:11.943 FELH0600~holo4_003           4.6  0.00\n",
      "  34 bias      FlatField position 18:12:16.498 FELH0600~holo4_003           4.6  0.00\n",
      "  35 bias      FlatField position 18:12:21.058 FELH0600~holo4_003           4.6  0.00\n",
      "  36 bias      FlatField position 18:12:25.626 FELH0600~holo4_003           4.6  0.00\n",
      "  37 bias      FlatField position 18:12:30.180 FELH0600~holo4_003           4.6  0.00\n",
      "  38 bias      FlatField position 18:12:34.753 FELH0600~holo4_003           4.6  0.00\n",
      "  39 bias      FlatField position 18:12:39.306 FELH0600~holo4_003           4.6  0.00\n",
      "  40 bias      FlatField position 18:12:43.862 FELH0600~holo4_003           4.6  0.00\n",
      "  41 bias      FlatField position 18:12:48.416 FELH0600~holo4_003           4.6  0.00\n",
      "  42 bias      FlatField position 18:12:52.965 FELH0600~holo4_003           4.5  0.00\n",
      "  43 bias      FlatField position 18:12:57.521 FELH0600~holo4_003           4.6  0.00\n",
      "  44 bias      FlatField position 18:13:02.085 FELH0600~holo4_003           4.6  0.00\n",
      "  45 bias      FlatField position 18:13:06.653 FELH0600~holo4_003           4.6  0.00\n",
      "  46 bias      FlatField position 18:13:11.211 FELH0600~holo4_003           4.6  0.00\n",
      "  47 bias      FlatField position 18:13:15.776 FELH0600~holo4_003           4.6  0.00\n",
      "  48 bias      FlatField position 18:13:20.329 FELH0600~holo4_003           4.6  0.00\n",
      "  49 bias      FlatField position 18:13:24.891 FELH0600~holo4_003           4.6  0.00\n",
      "  50 bias      FlatField position 18:13:29.448 FELH0600~holo4_003           4.6  0.00\n",
      "  51 bias      FlatField position 18:13:34.005 FELH0600~holo4_003           4.6  0.00\n",
      "  52 bias      FlatField position 18:13:38.568 FELH0600~holo4_003           4.6  0.00\n",
      "  53 dark      FlatField position 18:14:55.441 FELH0600~holo4_003          76.9  10.00\n",
      "  54 dark      FlatField position 18:15:07.998 FELH0600~holo4_003          12.6  10.00\n",
      "  55 dark      FlatField position 18:15:20.544 FELH0600~holo4_003          12.5  10.00\n",
      "  56 dark      FlatField position 18:15:33.098 FELH0600~holo4_003          12.6  10.00\n",
      "  57 dark      FlatField position 18:15:45.653 FELH0600~holo4_003          12.6  10.00\n",
      "  58 dark      FlatField position 18:15:58.202 FELH0600~holo4_003          12.5  10.00\n",
      "  59 dark      FlatField position 18:16:10.761 FELH0600~holo4_003          12.6  10.00\n",
      "  60 dark      FlatField position 18:16:23.318 FELH0600~holo4_003          12.6  10.00\n",
      "  61 dark      FlatField position 18:16:35.866 FELH0600~holo4_003          12.5  10.00\n",
      "  62 dark      FlatField position 18:16:48.417 FELH0600~holo4_003          12.6  10.00\n",
      "  63 flat      FlatField position 18:17:26.055 FELH0600~empty              37.6  2.00\n",
      "  64 flat      FlatField position 18:17:30.677 FELH0600~empty               4.6  2.00\n",
      "  65 flat      FlatField position 18:17:35.308 FELH0600~empty               4.6  2.00\n",
      "  66 flat      FlatField position 18:17:39.931 FELH0600~empty               4.6  2.00\n",
      "  67 flat      FlatField position 18:17:44.559 FELH0600~empty               4.6  2.00\n",
      "  68 flat      FlatField position 18:17:49.182 FELH0600~empty               4.6  2.00\n",
      "  69 flat      FlatField position 18:17:53.812 FELH0600~empty               4.6  2.00\n",
      "  70 flat      FlatField position 18:17:58.439 FELH0600~empty               4.6  2.00\n",
      "  71 flat      FlatField position 18:18:03.073 FELH0600~empty               4.6  2.00\n",
      "  72 flat      FlatField position 18:18:07.696 FELH0600~empty               4.6  2.00\n",
      "  73 flat      FlatField position 18:18:57.673 FELH0600~empty              50.0  0.20\n",
      "  74 flat      FlatField position 18:19:02.881 FELH0600~empty               5.2  0.20\n",
      "  75 flat      FlatField position 18:19:06.088 FELH0600~empty               3.2  0.40\n",
      "  76 flat      FlatField position 18:19:11.490 FELH0600~empty               5.4  0.40\n",
      "  77 flat      FlatField position 18:19:14.729 FELH0600~empty               3.2  0.60\n",
      "  78 flat      FlatField position 18:19:20.394 FELH0600~empty               5.7  0.60\n",
      "  79 flat      FlatField position 18:19:23.991 FELH0600~empty               3.6  0.80\n",
      "  80 flat      FlatField position 18:19:29.872 FELH0600~empty               5.9  0.80\n",
      "  81 flat      FlatField position 18:19:33.663 FELH0600~empty               3.8  1.00\n",
      "  82 flat      FlatField position 18:19:39.825 FELH0600~empty               6.2  1.00\n",
      "  83 flat      FlatField position 18:19:43.807 FELH0600~empty               4.0  1.20\n",
      "  84 flat      FlatField position 18:19:50.114 FELH0600~empty               6.3  1.20\n",
      "  85 flat      FlatField position 18:19:54.112 FELH0600~empty               4.0  1.40\n",
      "  86 flat      FlatField position 18:20:00.558 FELH0600~empty               6.4  1.40\n",
      "  87 flat      FlatField position 18:20:04.808 FELH0600~empty               4.3  1.60\n",
      "  88 flat      FlatField position 18:20:11.568 FELH0600~empty               6.8  1.60\n",
      "  89 flat      FlatField position 18:20:16.121 FELH0600~empty               4.6  1.80\n",
      "  90 flat      FlatField position 18:20:22.969 FELH0600~empty               6.8  1.80\n",
      "  91 flat      FlatField position 18:20:27.692 FELH0600~empty               4.7  2.00\n",
      "  92 flat      FlatField position 18:20:32.688 FELH0600~empty               5.0  2.00\n",
      "  93 flat      FlatField position 18:20:37.703 FELH0600~empty               5.0  2.20\n",
      "  94 flat      FlatField position 18:20:42.820 FELH0600~empty               5.1  2.20\n",
      "  95 flat      FlatField position 18:20:47.850 FELH0600~empty               5.0  2.40\n",
      "  96 flat      FlatField position 18:20:53.189 FELH0600~empty               5.3  2.40\n",
      "  97 flat      FlatField position 18:20:58.433 FELH0600~empty               5.2  2.60\n",
      "  98 flat      FlatField position 18:21:04.110 FELH0600~empty               5.7  2.60\n",
      "  99 flat      FlatField position 18:21:09.630 FELH0600~empty               5.5  2.80\n",
      " 100 flat      FlatField position 18:21:15.251 FELH0600~empty               5.6  2.80\n",
      " 101 flat      FlatField position 18:21:20.972 FELH0600~empty               5.7  3.00\n",
      " 102 flat      FlatField position 18:21:26.786 FELH0600~empty               5.8  3.00\n",
      " 103 flat      FlatField position 18:21:32.611 FELH0600~empty               5.8  3.20\n",
      " 104 flat      FlatField position 18:21:38.640 FELH0600~empty               6.0  3.20\n",
      " 105 flat      FlatField position 18:21:44.717 FELH0600~empty               6.1  3.40\n",
      " 106 flat      FlatField position 18:21:51.056 FELH0600~empty               6.3  3.40\n",
      " 107 flat      FlatField position 18:21:57.369 FELH0600~empty               6.3  3.60\n",
      " 108 flat      FlatField position 18:22:03.971 FELH0600~empty               6.6  3.60\n",
      " 109 flat      FlatField position 18:22:10.459 FELH0600~empty               6.5  3.80\n",
      " 110 flat      FlatField position 18:22:17.191 FELH0600~empty               6.7  3.80\n",
      " 111 flat      FlatField position 18:22:23.975 FELH0600~empty               6.8  4.00\n",
      " 112 flat      FlatField position 18:22:30.811 FELH0600~empty               6.8  4.00\n",
      " 113 flat      azel_target 18:27:54.013 FELH0600~empty             323.2  2.00\n",
      " 114 flat      azel_target 18:29:23.766 FELH0600~empty              89.8  2.00\n",
      " 115 flat      azel_target 18:32:39.214 FELH0600~empty             195.4  2.00\n",
      " 116 bias      azel_target 18:36:38.583 FELH0600~empty             239.4  0.00\n",
      " 117 bias      azel_target 18:37:54.258 FELH0600~empty              75.7  0.00\n",
      " 118 bias      azel_target 18:38:46.563 FELH0600~empty              52.3  0.00\n",
      " 119 engtest   azel_target 18:39:49.149 FELH0600~empty              62.6  0.00\n",
      " 120 engtest   azel_target 18:43:39.690 FELH0600~empty             230.5  0.00\n",
      " 121 bias      azel_target 18:45:12.277 FELH0600~empty              92.6  0.00\n",
      " 122 engtest   azel_target 18:46:55.389 FELH0600~empty             103.1  0.00\n",
      " 123 engtest   azel_target 18:49:33.445 FELH0600~empty             158.1  0.00\n",
      " 124 engtest   azel_target 18:53:05.375 FELH0600~empty             211.9  0.00\n",
      " 125 bias      azel_target 18:54:50.299 FELH0600~empty             104.9  0.00\n",
      " 126 engtest   slew_icrs  22:23:15.280 FELH0600~empty            12505.0  20.00\n",
      " 127 engtest   slew_icrs  22:24:26.119 FELH0600~empty              70.8  20.00\n",
      " 128 engtest   slew_icrs  22:25:40.371 FELH0600~empty              74.3  20.00\n",
      " 129 engtest   slew_icrs  22:26:13.579 FELH0600~empty              33.2  20.00\n",
      " 130 engtest   slew_icrs  22:27:27.223 FELH0600~empty              73.6  20.00\n",
      " 131 engtest   slew_icrs  22:28:00.375 FELH0600~empty              33.2  20.00\n"
     ]
    }
   ],
   "source": [
    "reporter.printObsTable()"
   ]
  },
  {
   "cell_type": "code",
   "execution_count": 15,
   "id": "7eb3797f",
   "metadata": {},
   "outputs": [
    {
     "ename": "SyntaxError",
     "evalue": "invalid syntax (<ipython-input-15-0039b9705ac8>, line 1)",
     "output_type": "error",
     "traceback": [
      "\u001b[0;36m  File \u001b[0;32m\"<ipython-input-15-0039b9705ac8>\"\u001b[0;36m, line \u001b[0;32m1\u001b[0m\n\u001b[0;31m    alert False\u001b[0m\n\u001b[0m          ^\u001b[0m\n\u001b[0;31mSyntaxError\u001b[0m\u001b[0;31m:\u001b[0m invalid syntax\n"
     ]
    }
   ],
   "source": [
    "alert False"
   ]
  },
  {
   "cell_type": "markdown",
   "id": "d2d29ee0",
   "metadata": {},
   "source": [
    "# Butler"
   ]
  },
  {
   "cell_type": "markdown",
   "id": "96d688b0",
   "metadata": {},
   "source": [
    "## Configuration for Butler"
   ]
  },
  {
   "cell_type": "code",
   "execution_count": null,
   "id": "814c0ac8",
   "metadata": {},
   "outputs": [],
   "source": [
    "#butler=dafPersist.Butler(\"/project/shared/auxTel\")\n",
    "butler=dafPersist.Butler(repoDir)"
   ]
  },
  {
   "cell_type": "markdown",
   "id": "de21fb70",
   "metadata": {},
   "source": [
    "## Sequence selection"
   ]
  },
  {
   "cell_type": "code",
   "execution_count": null,
   "id": "6688dadd",
   "metadata": {},
   "outputs": [],
   "source": [
    "all_myseq_holo=range(98,107)\n",
    "all_myseq=all_myseq_holo"
   ]
  },
  {
   "cell_type": "code",
   "execution_count": null,
   "id": "c49830c6",
   "metadata": {},
   "outputs": [],
   "source": [
    "seqNum=all_myseq_holo[0]"
   ]
  },
  {
   "cell_type": "code",
   "execution_count": null,
   "id": "cb4b7d90",
   "metadata": {},
   "outputs": [],
   "source": [
    "seqNum"
   ]
  },
  {
   "cell_type": "markdown",
   "id": "caf9a570",
   "metadata": {},
   "source": [
    "## Display"
   ]
  },
  {
   "cell_type": "code",
   "execution_count": null,
   "id": "0ddb169f",
   "metadata": {},
   "outputs": [],
   "source": [
    "display1=afwDisplay.getDisplay(frame=1,port=80,name='sylviedc_debug_2021_10_05',url=os.environ[\"FIREFLY_URL\"])"
   ]
  },
  {
   "cell_type": "code",
   "execution_count": null,
   "id": "455e01bb",
   "metadata": {},
   "outputs": [],
   "source": [
    "raw=butler.get('raw',dayObs=dayObs,seqNum=seqNum)"
   ]
  },
  {
   "cell_type": "code",
   "execution_count": null,
   "id": "c26656ae",
   "metadata": {},
   "outputs": [],
   "source": [
    "display1.mtv(raw)"
   ]
  },
  {
   "cell_type": "code",
   "execution_count": null,
   "id": "1092ccd6",
   "metadata": {},
   "outputs": [],
   "source": [
    "display1.getClient().display_url()"
   ]
  },
  {
   "cell_type": "code",
   "execution_count": null,
   "id": "341081ae",
   "metadata": {},
   "outputs": [],
   "source": [
    "print(butler.queryMetadata('raw','seqNum',dayObs=dayObs))"
   ]
  },
  {
   "cell_type": "code",
   "execution_count": null,
   "id": "fe2a1699",
   "metadata": {},
   "outputs": [],
   "source": [
    "#exp=butler.get('quickLookExp',dayObs=dayObs,seqNum=seqNum)"
   ]
  },
  {
   "cell_type": "markdown",
   "id": "5ffe15ae",
   "metadata": {},
   "source": [
    "## Meta Data"
   ]
  },
  {
   "cell_type": "code",
   "execution_count": null,
   "id": "15842132",
   "metadata": {},
   "outputs": [],
   "source": [
    "md=butler.get(\"raw_md\",dayObs=dayObs,seqNum=seqNum)"
   ]
  },
  {
   "cell_type": "code",
   "execution_count": null,
   "id": "490f1fb9",
   "metadata": {},
   "outputs": [],
   "source": [
    "md.toDict()"
   ]
  },
  {
   "cell_type": "markdown",
   "id": "78628e29",
   "metadata": {},
   "source": [
    "# Start"
   ]
  },
  {
   "cell_type": "code",
   "execution_count": null,
   "id": "28532c96",
   "metadata": {},
   "outputs": [],
   "source": [
    "plt.rcParams[\"axes.labelsize\"] = 'large'\n",
    "plt.rcParams['axes.titlesize'] = 'large'\n",
    "plt.rcParams['xtick.labelsize']= 'large'\n",
    "plt.rcParams['ytick.labelsize']= 'large'"
   ]
  },
  {
   "cell_type": "code",
   "execution_count": null,
   "id": "ba48e32d",
   "metadata": {},
   "outputs": [],
   "source": [
    "all_my_raw_array=[]\n",
    "all_my_header=[]\n",
    "all_my_object=[]\n",
    "all_my_seq=[]\n",
    "all_my_grating=[]\n",
    "all_my_filter=[]\n",
    "all_my_date=[]\n",
    "\n",
    "\n",
    "for seqNum in all_myseq:\n",
    "    raw=butler.get('raw',dayObs=dayObs,seqNum=seqNum)\n",
    "    md=butler.get(\"raw_md\",dayObs=dayObs,seqNum=seqNum)\n",
    "    \n",
    "    header=md.toDict()\n",
    "    \n",
    "    #decode header\n",
    "    \n",
    "    obj_name=header['OBJECT']\n",
    "    obj_name2 = ''.join(obj_name.split())\n",
    "    grating=header['GRATING']\n",
    "    obsid=header['OBSID']\n",
    "    date=obsid.replace('AT_O_','') # remove pre-tag to get date only and seqnum\n",
    "    filter_name=header['FILTER']\n",
    "    filter_name2=filter_name.split(\"_\")[0]   # cut empty_1 to empty\n",
    "    \n",
    "    # select only pre-selected disperser\n",
    "    if grating == DISPERSER_SEL: \n",
    "        all_my_raw_array.append(np.copy(raw.image.array))\n",
    "        all_my_header.append(header)\n",
    "        all_my_object.append(obj_name2)\n",
    "        all_my_seq.append(header['SEQNUM'])\n",
    "        all_my_grating.append(grating)\n",
    "        all_my_filter.append(filter_name2)\n",
    "        all_my_date.append(date)"
   ]
  },
  {
   "cell_type": "markdown",
   "id": "cedb95a8",
   "metadata": {},
   "source": [
    "## Total number of images"
   ]
  },
  {
   "cell_type": "code",
   "execution_count": null,
   "id": "2785caf0",
   "metadata": {},
   "outputs": [],
   "source": [
    "NSEL=len(all_my_raw_array)"
   ]
  },
  {
   "cell_type": "code",
   "execution_count": null,
   "id": "92773102",
   "metadata": {},
   "outputs": [],
   "source": [
    "NSEL"
   ]
  },
  {
   "cell_type": "markdown",
   "id": "d78bc6b1",
   "metadata": {},
   "source": [
    "# Plot"
   ]
  },
  {
   "cell_type": "code",
   "execution_count": null,
   "id": "1f41f06f",
   "metadata": {},
   "outputs": [],
   "source": [
    "idx=0"
   ]
  },
  {
   "cell_type": "code",
   "execution_count": null,
   "id": "132a9ca8",
   "metadata": {},
   "outputs": [],
   "source": [
    "fig = plt.figure(figsize=(10,10))\n",
    "ax=fig.add_subplot(111)\n",
    "ax.imshow(all_my_raw_array[idx],origin='lower',cmap=\"jet\",norm=LogNorm())\n",
    "plt.show()"
   ]
  },
  {
   "cell_type": "code",
   "execution_count": null,
   "id": "13e0fb22",
   "metadata": {},
   "outputs": [],
   "source": [
    "\n",
    "Ncol=4\n",
    "Nrow=2\n",
    "Ntot=Ncol*Nrow\n",
    "\n",
    "fig = plt.figure(figsize=(20,20))\n",
    "\n",
    "# loop on angle\n",
    "for idx in np.arange(Ntot):\n",
    "    if idx>=NSEL:\n",
    "        break\n",
    "        \n",
    "    ax=fig.add_subplot(Nrow,Ncol,idx+1)\n",
    "    ax.imshow(all_my_raw_array[idx],origin='lower',cmap=\"jet\",norm=LogNorm())\n",
    "    ax.set_title(all_myseq[idx]) \n",
    "    ax.minorticks_on()\n",
    "    ax.set_aspect(\"equal\")\n",
    "    \n",
    "    #ax2=ax.twiny()\n",
    "    #ax2.imshow(all_my_raw_array[idx],origin='lower',cmap=\"jet\",norm=LogNorm())\n",
    "    #ax2.set_xlim(ax.get_xlim())\n",
    "    #ax2.minorticks_on()\n",
    "    \n",
    "    #ax.tick_params(which='major', length=10, width=2, direction='inout')\n",
    "    #ax.tick_params(which='minor', length=5, width=2, direction='inout')\n",
    "    #ax.grid(which='both')\n",
    "\n",
    "\n",
    "\n",
    "    #ax.set_aspect('equal')\n",
    "\n",
    "    #x1, x2 = ax.get_xlim() \n",
    "    #y1, y2 = ax.get_ylim() \n",
    "plt.show()"
   ]
  },
  {
   "cell_type": "code",
   "execution_count": null,
   "id": "d945fd53",
   "metadata": {},
   "outputs": [],
   "source": [
    "#all_my_raw_array=[]\n",
    "#all_my_header=[]\n",
    "#all_my_object=[]\n",
    "#all_my_seq=[]\n",
    "#all_my_grating=[]\n",
    "#all_my_filter=[]\n"
   ]
  },
  {
   "cell_type": "code",
   "execution_count": null,
   "id": "ea032281",
   "metadata": {},
   "outputs": [],
   "source": [
    "if FLAG_SAVE_IMAGE:\n",
    "  \n",
    "    for idx in np.arange(NSEL):\n",
    "        filename=all_my_grating[idx]+\"_\"+all_my_filter[idx]+\"_\"+all_my_object[idx]+\"_\"+all_my_date[idx]+\".fits\"\n",
    "        print(filename)\n",
    "    \n",
    "        hdr = fits.Header()\n",
    "    \n",
    "        for key,value in all_my_header[idx].items():\n",
    "            hdr[str(key)]=value\n",
    "        \n",
    "        hdu = fits.PrimaryHDU(data=all_my_raw_array[idx],header=hdr)  # with headers\n",
    "        #hdu = fits.PrimaryHDU(data=all_my_raw_array[idx])\n",
    "    \n",
    "        hdul = fits.HDUList([hdu])\n",
    "    \n",
    "        hdul.writeto(filename,overwrite=True)\n",
    "    \n",
    "        "
   ]
  },
  {
   "cell_type": "code",
   "execution_count": null,
   "id": "2c5643e7",
   "metadata": {},
   "outputs": [],
   "source": []
  }
 ],
 "metadata": {
  "kernelspec": {
   "display_name": "LSST",
   "language": "python",
   "name": "lsst"
  },
  "language_info": {
   "codemirror_mode": {
    "name": "ipython",
    "version": 3
   },
   "file_extension": ".py",
   "mimetype": "text/x-python",
   "name": "python",
   "nbconvert_exporter": "python",
   "pygments_lexer": "ipython3",
   "version": "3.8.8"
  }
 },
 "nbformat": 4,
 "nbformat_minor": 5
}
