{
 "cells": [
  {
   "cell_type": "markdown",
   "id": "63f3e8f7",
   "metadata": {},
   "source": [
    "# Observations for the night February 16th 2022: Try to use QuickLookExp\n",
    "\n",
    "\n",
    "https://harvard.zoom.us/rec/play/N7umVF8Rk3vWvW_O3jkaTinofB2WxW3QKz0fVai_K-qvAYLt37uMrvskOlnBiMEjduSeQVzWT7_DDYzc.IY7Pqjef82YlWmZE?continueMode=true&_x_zm_rtaid=BjQYrDaETYeYRUMw8NQgLw.1613559822570.c813d210d38e378b719cb4048493df5b&_x_zm_rhtaid=205\n",
    "\n",
    "\n",
    "- work with Weakly_2021_36\n",
    "- use jupyter kernel LSST\n",
    "- requires the installation see https://github.com/stubbslab/PCWG-AuxTel/blob/main/setup_script.md\n",
    "- requires to write in file {HOME}/notebooks/.user_setups\n",
    "\n",
    "\n",
    "- author : Sylvie Dagoret-Campagne\n",
    "- affiliation : IJCLab\n",
    "- creation date : 2022/02/24\n",
    "- update : "
   ]
  },
  {
   "cell_type": "code",
   "execution_count": 1,
   "id": "b189c5b1",
   "metadata": {},
   "outputs": [],
   "source": [
    "#! eups list -s"
   ]
  },
  {
   "cell_type": "code",
   "execution_count": 2,
   "id": "3e7bfc0a",
   "metadata": {},
   "outputs": [],
   "source": [
    "import os\n",
    "import matplotlib.pyplot as plt\n",
    "import numpy as np\n",
    "%matplotlib inline\n",
    "from matplotlib.colors import LogNorm\n",
    "\n",
    "from mpl_toolkits.axes_grid1 import make_axes_locatable\n",
    "\n",
    "import matplotlib.ticker                         # here's where the formatter is\n",
    "from matplotlib.ticker import (MultipleLocator, FormatStrFormatter,\n",
    "                               AutoMinorLocator)\n",
    "\n",
    "from astropy.io import fits"
   ]
  },
  {
   "cell_type": "code",
   "execution_count": 3,
   "id": "a94f445b",
   "metadata": {},
   "outputs": [],
   "source": [
    "import lsst.daf.persistence as dafPersist\n",
    "import lsst.afw.display as afwDisplay\n",
    "afwDisplay.setDefaultBackend(\"lsst.display.firefly\")"
   ]
  },
  {
   "cell_type": "code",
   "execution_count": 4,
   "id": "9bd64657",
   "metadata": {},
   "outputs": [],
   "source": [
    "# correct for bug in stack in wl_2021_02\n",
    "# %config IPCompleter.use_jedi=False"
   ]
  },
  {
   "cell_type": "code",
   "execution_count": 5,
   "id": "4a2868f1",
   "metadata": {},
   "outputs": [],
   "source": [
    "FLAG_SAVE_IMAGE=False"
   ]
  },
  {
   "cell_type": "code",
   "execution_count": 6,
   "id": "c33b42d5",
   "metadata": {},
   "outputs": [
    {
     "name": "stdout",
     "output_type": "stream",
     "text": [
      "calexp\ticExp  postISRCCD\t     repositoryCfg.yaml  spectractorOutput\n",
      "config\ticSrc  processStar_metadata  schema\n"
     ]
    }
   ],
   "source": [
    "!ls /project/shared/auxTel/rerun/mfl/slurmRun"
   ]
  },
  {
   "cell_type": "code",
   "execution_count": 7,
   "id": "101abde9",
   "metadata": {},
   "outputs": [
    {
     "name": "stdout",
     "output_type": "stream",
     "text": [
      "CALIB\t   CALIB-OLD\t CALIB-RHL  Fossil   _parent.old  rerun\n",
      "CALIB_OLD  calibrations  dagoret    _parent  ref_cats\n"
     ]
    }
   ],
   "source": [
    "!ls /project/shared/auxTel"
   ]
  },
  {
   "cell_type": "code",
   "execution_count": 8,
   "id": "14d1ae41",
   "metadata": {},
   "outputs": [
    {
     "name": "stdout",
     "output_type": "stream",
     "text": [
      "total 71\n",
      "drwxrwsrwx  5 49813 1363  4096 Sep 30 12:50 calexp\n",
      "drwxrwsrwx  2 49813 1363  4096 Feb 21  2020 config\n",
      "drwxrwsrwx  5 49813 1363  4096 Sep 30 12:49 icExp\n",
      "drwxrwsrwx  8 49813 1363  4096 Sep 30 12:49 icSrc\n",
      "drwxrwsrwx  5 49813 1363  4096 Sep 30 12:48 postISRCCD\n",
      "drwxrwsrwx 74 49813 1363 32768 Oct 16 21:42 quickLookExp\n",
      "-rwxrwxrwx  1 49813 1363   458 Feb 21  2020 repositoryCfg.yaml\n",
      "-rwxrwxrwx  1 49813 1363   458 May 16  2021 repositoryCfg.yaml_backup\n",
      "drwxrwsrwx  5 49813 1363  4096 Sep 30 12:50 spectractorOutput\n"
     ]
    }
   ],
   "source": [
    "!ls /project/shared/auxTel/rerun/quickLook -l"
   ]
  },
  {
   "cell_type": "code",
   "execution_count": 39,
   "id": "8a8ba5f7",
   "metadata": {},
   "outputs": [
    {
     "name": "stdout",
     "output_type": "stream",
     "text": [
      "-rw-r--r--  1 49813 202  458 Feb 28  2020 /project/shared/auxTel/rerun/mfl/repositoryCfg.yaml\n",
      "\n",
      "/project/shared/auxTel/rerun/mfl/all_dispersed:\n",
      "total 901\n",
      "drwxr-xr-x    9 49813 202   4096 Nov  7  2020 calexp\n",
      "drwxr-xr-x    2 49813 202   4096 Nov 10  2020 config\n",
      "drwxr-xr-x 1257 49813 202 131072 Nov  7  2020 icExp\n",
      "drwxr-xr-x 1257 49813 202 131072 Nov  7  2020 icSrc\n",
      "drwxr-xr-x   12 49813 202   4096 Nov  7  2020 postISRCCD\n",
      "drwxr-xr-x    2 49813 202 131072 Nov 10  2020 processStar_metadata\n",
      "-rw-r--r--    1 49813 202    458 Nov  7  2020 repositoryCfg.yaml\n",
      "drwxr-xr-x    2 49813 202   4096 Nov 10  2020 schema\n",
      "drwxr-xr-x 1256 49813 202  65536 Nov  7  2020 spectractorOutput\n",
      "\n",
      "/project/shared/auxTel/rerun/mfl/binning4:\n",
      "total 774\n",
      "drwxr-xr-x   22 49813 202   4096 Apr 28  2021 calexp\n",
      "drwxr-xr-x    2 49813 202   4096 Apr 27  2021 config\n",
      "drwxr-xr-x 1901 49813 202 131072 Apr 28  2021 icExp\n",
      "drwxr-xr-x 1901 49813 202 131072 Apr 28  2021 icSrc\n",
      "drwxr-xr-x   27 49813 202   4096 Apr 28  2021 postISRCCD\n",
      "drwxr-xr-x    2 49813 202 131072 Apr 28  2021 processStar_metadata\n",
      "-rw-r--r--    1 49813 202    458 Apr 27  2021 repositoryCfg.yaml\n",
      "drwxr-xr-x    2 49813 202   4096 Apr 27  2021 schema\n",
      "drwxr-xr-x   22 49813 202   4096 Apr 28  2021 spectractorOutput\n",
      "\n",
      "/project/shared/auxTel/rerun/mfl/dispersedAstrometryTesting:\n",
      "total 4\n",
      "drwxr-xr-x  3 49813 202 4096 Jun 18  2020 calexp\n",
      "drwxr-xr-x  2 49813 202 4096 Jun 18  2020 config\n",
      "drwxr-xr-x 26 49813 202 4096 Jun 18  2020 icSrc\n",
      "-rw-r--r--  1 49813 202  458 Jun 18  2020 repositoryCfg.yaml\n",
      "\n",
      "/project/shared/auxTel/rerun/mfl/quickLook:\n",
      "total 0\n",
      "\n",
      "/project/shared/auxTel/rerun/mfl/scratch:\n",
      "total 8\n",
      "drwxr-xr-x 7 49813 202 4096 Nov 23 12:56 calexp\n",
      "drwxr-xr-x 2 49813 202 4096 Nov 23 17:41 config\n",
      "drwxr-xr-x 5 49813 202 4096 Nov 23 12:55 icSrc\n",
      "drwxr-xr-x 6 49813 202 4096 Nov 23 12:56 processCcd_metadata\n",
      "-rw-r--r-- 1 49813 202  448 Oct 18 23:25 repositoryCfg.yaml\n",
      "drwxr-xr-x 2 49813 202 4096 Nov 23 17:41 schema\n",
      "drwxr-xr-x 5 49813 202 4096 Nov 23 12:56 src\n",
      "drwxr-xr-x 5 49813 202 4096 Nov 23 12:56 srcMatch\n",
      "\n",
      "/project/shared/auxTel/rerun/mfl/slurmRun:\n",
      "total 774\n",
      "drwxrwxrwx   14 49813 202   4096 Sep  9 09:15 calexp\n",
      "drwxrwxrwx    2 49813 202   4096 Jun  8  2021 config\n",
      "drwxrwxrwx 1121 49813 202 131072 Sep  9 09:14 icExp\n",
      "drwxrwxrwx 1121 49813 202 131072 Sep  9 09:14 icSrc\n",
      "drwxrwxrwx   14 49813 202   4096 Sep  9 09:14 postISRCCD\n",
      "drwxrwxrwx    2 49813 202 131072 Jun  8  2021 processStar_metadata\n",
      "-rwxrwxrwx    1 49813 202    458 Jun  8  2021 repositoryCfg.yaml\n",
      "drwxrwxrwx    2 49813 202   4096 Jun  8  2021 schema\n",
      "drwxrwxrwx   14 49813 202   4096 Sep  9 09:15 spectractorOutput\n",
      "\n",
      "/project/shared/auxTel/rerun/mfl/slurmRunBig:\n",
      "total 1731\n",
      "drwxr-xr-x   30 49813 202   4096 Aug 12  2021 calexp\n",
      "drwxr-xr-x    2 49813 202  32768 Aug 12  2021 config\n",
      "drwxr-xr-x 2536 49813 202 262144 Aug 12  2021 icExp\n",
      "drwxr-xr-x 2536 49813 202 262144 Aug 12  2021 icSrc\n",
      "drwxr-xr-x   36 49813 202  32768 Aug 12  2021 postISRCCD\n",
      "drwxr-xr-x    2 49813 202 262144 Aug 12  2021 processStar_metadata\n",
      "-rw-r--r--    1 49813 202    448 Aug 12  2021 repositoryCfg.yaml\n",
      "-rw-r--r--    1 49813 202    458 Aug 12  2021 repositoryCfg.yaml_backup\n",
      "drwxr-xr-x    2 49813 202  32768 Aug 12  2021 schema\n",
      "drwxr-xr-x   30 49813 202   4096 Aug 12  2021 spectractorOutput\n",
      "\n",
      "/project/shared/auxTel/rerun/mfl/spectractorDemo:\n",
      "total 393\n",
      "drwxr-xr-x  3 49813 202   4096 Jun  3  2021 calexp\n",
      "drwxr-xr-x  2 49813 202   4096 Jun  3  2021 config\n",
      "drwxr-xr-x 29 49813 202   4096 Jun  3  2021 icExp\n",
      "drwxr-xr-x 29 49813 202   4096 Jun  3  2021 icSrc\n",
      "-rw-r--r--  1 49813 202  28518 Jun  3  2021 logfile.log\n",
      "-rw-r--r--  1 49813 202 157647 Jun  3  2021 logfile.log_firstrun\n",
      "drwxr-xr-x  3 49813 202   4096 Jun  3  2021 postISRCCD\n",
      "drwxr-xr-x  2 49813 202   4096 Jun  3  2021 processStar_metadata\n",
      "-rw-r--r--  1 49813 202    458 Jun  3  2021 repositoryCfg.yaml\n",
      "drwxr-xr-x  2 49813 202   4096 Jun  3  2021 schema\n",
      "drwxr-xr-x  3 49813 202   4096 Jun  3  2021 spectractorOutput\n"
     ]
    }
   ],
   "source": [
    "! ls -l /project/shared/auxTel/rerun/mfl/*"
   ]
  },
  {
   "cell_type": "markdown",
   "id": "ee03938c",
   "metadata": {},
   "source": [
    "# Configuration"
   ]
  },
  {
   "cell_type": "markdown",
   "id": "ed3a7c05",
   "metadata": {},
   "source": [
    "## Location and date"
   ]
  },
  {
   "cell_type": "code",
   "execution_count": 9,
   "id": "f04cd162",
   "metadata": {},
   "outputs": [],
   "source": [
    "SOFT_VERSION=\"v2\""
   ]
  },
  {
   "cell_type": "code",
   "execution_count": 10,
   "id": "f22b4c22",
   "metadata": {},
   "outputs": [
    {
     "name": "stderr",
     "output_type": "stream",
     "text": [
      "/home/dagoret/repos/w_2021_36/rapid_analysis/python/lsst/rapid/analysis/nightReport.py:104: FutureWarning: Gen2 Butler has been deprecated (Butler). It will be removed sometime after v23.0 but no earlier than the end of 2021.\n",
      "  self._butler = dafPersist.Butler(repoDir)\n",
      "/home/dagoret/repos/w_2021_36/rapid_analysis/python/lsst/rapid/analysis/nightReport.py:104: FutureWarning: Gen2 Butler has been deprecated (LatissMapper). It will be removed sometime after v23.0 but no earlier than the end of 2021.\n",
      "  self._butler = dafPersist.Butler(repoDir)\n"
     ]
    },
    {
     "name": "stdout",
     "output_type": "stream",
     "text": [
      "Loaded data for seqNums 1 to 774\n"
     ]
    }
   ],
   "source": [
    "from lsst.rapid.analysis.nightReport import NightReporter\n",
    "# data exist here\n",
    "repoDir='/project/shared/auxTel/rerun/quickLook'\n",
    "# recommended but wrong\n",
    "#repoDir='project/shared/auxTel/rerun/mfl/slurmRun'\n",
    "dayObs=\"2022-02-16\"\n",
    "reporter=NightReporter(repoDir,dayObs)"
   ]
  },
  {
   "cell_type": "markdown",
   "id": "3493e878",
   "metadata": {},
   "source": [
    "# Selection"
   ]
  },
  {
   "cell_type": "code",
   "execution_count": 11,
   "id": "7f4593db",
   "metadata": {},
   "outputs": [],
   "source": [
    "DISPERSER_SEL = \"holo4_003\""
   ]
  },
  {
   "cell_type": "code",
   "execution_count": 12,
   "id": "b1ad9632",
   "metadata": {},
   "outputs": [],
   "source": [
    "FLAG_FLAT_SELECTION = False"
   ]
  },
  {
   "cell_type": "markdown",
   "id": "5c81b78d",
   "metadata": {},
   "source": [
    "# Information from reporter"
   ]
  },
  {
   "cell_type": "code",
   "execution_count": 13,
   "id": "28051d63",
   "metadata": {},
   "outputs": [
    {
     "name": "stdout",
     "output_type": "stream",
     "text": [
      "['LATISS_MD02_00000046', 'LATISS_MD02_00000052', 'LATISS_MD02_00000070', 'LATISS_E6A_00000040', 'slew_icrs', 'LATISS_MD02_00000008', 'HD  70536', 'LATISS_MD02_00000005', 'spec:HD37962', 'LATISS_MD02_00000059', 'LATISS_MD02_00000012', 'LATISS_MD02_00000024', 'LATISS_MD02_00000021', 'LATISS_MD02_00000062', 'LATISS_MD02_00000020', 'LATISS_MD02_00000033', 'spec:MUCOL', 'spec:HD38949', 'LATISS_MD02_00000053', 'LATISS_MD02_00000047', 'spec:ETA1DOR', 'LATISS_MD02_00000036', 'LATISS_MD02_00000025', 'LATISS_MD02_00000011', 'LATISS_MD02_00000006', 'LATISS_MD02_00000043', 'LATISS_MD02_00000034', 'spec:HD167060', 'LATISS_MD02_00000004', 'LATISS_MD02_00000044', 'HD  22412', 'spec:HD160617', 'LATISS_MD02_00000003', 'LATISS_MD02_00000068', 'HD 128576', 'LATISS_MD02_00000065', 'HD  21920', 'LATISS_MD02_00000019', 'LATISS_MD02_00000069', 'LATISS_E6A_00000009', 'LATISS_MD02_00000028', 'LATISS_MD02_00000016', 'LATISS_MD02_00000064', 'spec:HD111980', 'LATISS_MD02_00000009', 'LATISS_MD02_00000045', 'LATISS_MD02_00000018', 'LATISS_MD02_00000054', 'LATISS_MD02_00000007', 'LATISS_MD02_00000055', 'HD  20668', 'HD  73416', 'LATISS_MD02_00000015', 'LATISS_MD02_00000061', 'LATISS_MD02_00000010', 'LATISS_MD02_00000017', 'spec:BD11_3759', 'LATISS_MD02_00000066', 'LATISS_MD02_00000071', 'LATISS_MD02_00000026', 'LATISS_MD02_00000013', 'HD 109349', 'HD 110780', 'spec:HD074000', 'LATISS_MD02_00000022', 'LATISS_MD02_00000063', 'HD 126615', 'LATISS_MD02_00000002', 'spec:LAMLEP', 'LATISS_E6A_00000010', 'LATISS_MD02_00000056', 'LATISS_MD02_00000035', 'LATISS_MD02_00000014', 'HD  39116', 'HD  21968', 'HD 185975', 'LATISS_MD02_00000060', 'LATISS_MD02_00000023', 'spec:HD185975', 'LATISS_MD02_00000051', 'LATISS_MD02_00000027', 'LATISS_MD02_00000042', 'LATISS_MD02_00000037', 'spec:18Sco', 'LATISS_MD02_00000001', 'spec:HD60753', 'HD  32266', 'spec:HD031128']\n"
     ]
    }
   ],
   "source": [
    "print(reporter.getObservedObjects())"
   ]
  },
  {
   "cell_type": "code",
   "execution_count": 14,
   "id": "fb6c48d2",
   "metadata": {},
   "outputs": [],
   "source": [
    "reporter.makePolarPlotForObjects()"
   ]
  },
  {
   "cell_type": "code",
   "execution_count": 15,
   "id": "b05fcb85",
   "metadata": {},
   "outputs": [],
   "source": [
    "reporter.plotPerObjectAirMass()"
   ]
  },
  {
   "cell_type": "code",
   "execution_count": 16,
   "id": "ca9d08b9",
   "metadata": {},
   "outputs": [
    {
     "name": "stdout",
     "output_type": "stream",
     "text": [
      "{seqNum} {imageType} {obj} {timeOfDay} {filt} {timeSinceLastExp} {expTime}\n",
      "   1 bias      Park position 19:33:18.572 empty~holo4_003              0.0  0.00\n",
      "   2 engtest   Park position 19:34:35.902 empty~holo4_003             77.3  2.00\n",
      "   3 engtest   slew_icrs  19:47:38.806 SDSSr~holo4_003            782.9  2.00\n",
      "   4 engtest   slew_icrs  19:48:56.529 empty~empty                 77.7  2.00\n",
      "   5 bias      FlatField position 20:25:47.377 SDSSr~empty               2210.8  0.00\n",
      "   6 bias      FlatField position 20:25:49.768 SDSSr~empty                  2.4  0.00\n",
      "   7 bias      FlatField position 20:25:52.298 SDSSr~empty                  2.5  0.00\n",
      "   8 bias      FlatField position 20:25:54.694 SDSSr~empty                  2.4  0.00\n",
      "   9 bias      FlatField position 20:25:57.223 SDSSr~empty                  2.5  0.00\n",
      "  10 bias      FlatField position 20:25:59.639 SDSSr~empty                  2.4  0.00\n",
      "  11 bias      FlatField position 20:26:02.165 SDSSr~empty                  2.5  0.00\n",
      "  12 bias      FlatField position 20:26:04.559 SDSSr~empty                  2.4  0.00\n",
      "  13 bias      FlatField position 20:26:07.100 SDSSr~empty                  2.5  0.00\n",
      "  14 bias      FlatField position 20:26:09.493 SDSSr~empty                  2.4  0.00\n",
      "  15 bias      FlatField position 20:26:12.020 SDSSr~empty                  2.5  0.00\n",
      "  16 bias      FlatField position 20:26:14.418 SDSSr~empty                  2.4  0.00\n",
      "  17 bias      FlatField position 20:26:16.945 SDSSr~empty                  2.5  0.00\n",
      "  18 bias      FlatField position 20:26:19.339 SDSSr~empty                  2.4  0.00\n",
      "  19 bias      FlatField position 20:26:21.884 SDSSr~empty                  2.5  0.00\n",
      "  20 bias      FlatField position 20:26:24.280 SDSSr~empty                  2.4  0.00\n",
      "  21 bias      FlatField position 20:26:26.809 SDSSr~empty                  2.5  0.00\n",
      "  22 bias      FlatField position 20:26:29.209 SDSSr~empty                  2.4  0.00\n",
      "  23 bias      FlatField position 20:26:31.747 SDSSr~empty                  2.5  0.00\n",
      "  24 bias      FlatField position 20:26:34.143 SDSSr~empty                  2.4  0.00\n",
      "  25 dark      FlatField position 20:32:40.807 SDSSr~empty                366.7  10.00\n",
      "  26 dark      FlatField position 20:32:53.362 SDSSr~empty                 12.6  10.00\n",
      "  27 dark      FlatField position 20:33:05.909 SDSSr~empty                 12.5  10.00\n",
      "  28 dark      FlatField position 20:33:18.461 SDSSr~empty                 12.6  10.00\n",
      "  29 dark      FlatField position 20:33:31.016 SDSSr~empty                 12.6  10.00\n",
      "  30 dark      FlatField position 20:33:43.562 SDSSr~empty                 12.5  10.00\n",
      "  31 dark      FlatField position 20:33:56.121 SDSSr~empty                 12.6  10.00\n",
      "  32 dark      FlatField position 20:34:08.678 SDSSr~empty                 12.6  10.00\n",
      "  33 dark      FlatField position 20:34:21.227 SDSSr~empty                 12.5  10.00\n",
      "  34 dark      FlatField position 20:34:33.787 SDSSr~empty                 12.6  10.00\n",
      "  35 dark      FlatField position 20:34:46.338 SDSSr~empty                 12.6  10.00\n",
      "  36 dark      FlatField position 20:34:58.887 SDSSr~empty                 12.5  10.00\n",
      "  37 dark      FlatField position 20:35:11.439 SDSSr~empty                 12.6  10.00\n",
      "  38 dark      FlatField position 20:35:23.986 SDSSr~empty                 12.5  10.00\n",
      "  39 dark      FlatField position 20:35:36.535 SDSSr~empty                 12.5  10.00\n",
      "  40 dark      FlatField position 20:35:49.095 SDSSr~empty                 12.6  10.00\n",
      "  41 dark      FlatField position 20:36:01.647 SDSSr~empty                 12.6  10.00\n",
      "  42 dark      FlatField position 20:36:14.199 SDSSr~empty                 12.6  10.00\n",
      "  43 dark      FlatField position 20:36:26.752 SDSSr~empty                 12.6  10.00\n",
      "  44 dark      FlatField position 20:36:39.306 SDSSr~empty                 12.6  10.00\n",
      "  45 flat      FlatField position 20:42:03.809 SDSSr~empty                324.5  1.00\n",
      "  46 flat      FlatField position 20:42:07.429 SDSSr~empty                  3.6  1.00\n",
      "  47 flat      FlatField position 20:42:11.039 SDSSr~empty                  3.6  1.00\n",
      "  48 flat      FlatField position 20:42:14.650 SDSSr~empty                  3.6  1.00\n",
      "  49 flat      FlatField position 20:42:18.276 SDSSr~empty                  3.6  1.00\n",
      "  50 flat      FlatField position 20:42:21.900 SDSSr~empty                  3.6  1.00\n",
      "  51 flat      FlatField position 20:42:25.523 SDSSr~empty                  3.6  1.00\n",
      "  52 flat      FlatField position 20:42:29.137 SDSSr~empty                  3.6  1.00\n",
      "  53 flat      FlatField position 20:42:32.762 SDSSr~empty                  3.6  1.00\n",
      "  54 flat      FlatField position 20:42:36.385 SDSSr~empty                  3.6  1.00\n",
      "  55 flat      FlatField position 20:42:40.017 SDSSr~empty                  3.6  1.00\n",
      "  56 flat      FlatField position 20:42:43.626 SDSSr~empty                  3.6  1.00\n",
      "  57 flat      FlatField position 20:42:47.254 SDSSr~empty                  3.6  1.00\n",
      "  58 flat      FlatField position 20:42:50.872 SDSSr~empty                  3.6  1.00\n",
      "  59 flat      FlatField position 20:42:54.486 SDSSr~empty                  3.6  1.00\n",
      "  60 flat      FlatField position 20:42:58.101 SDSSr~empty                  3.6  1.00\n",
      "  61 flat      FlatField position 20:43:01.707 SDSSr~empty                  3.6  1.00\n",
      "  62 flat      FlatField position 20:43:05.321 SDSSr~empty                  3.6  1.00\n",
      "  63 flat      FlatField position 20:43:08.939 SDSSr~empty                  3.6  1.00\n",
      "  64 flat      FlatField position 20:43:12.553 SDSSr~empty                  3.6  1.00\n",
      "  66 engtest   HD  39116  00:35:41.705 SDSSg~empty               13949.2  30.00\n",
      "  67 engtest   HD  21968  00:38:32.471 SDSSg~empty                170.8  30.00\n",
      "  68 engtest   HD  21968  00:39:10.298 SDSSg~empty                 37.8  30.00\n",
      "  69 engtest   HD  21968  00:40:26.430 SDSSg~empty                 76.1  30.00\n",
      "  70 engtest   HD  21968  00:41:04.353 SDSSg~empty                 37.9  30.00\n",
      "  71 science   LATISS_MD02_00000033 00:43:00.584 SDSSr~empty                116.2  30.00\n",
      "  72 science   LATISS_MD02_00000033 00:43:33.607 SDSSr~empty                 33.0  30.00\n",
      "  73 science   LATISS_MD02_00000033 00:44:11.829 SDSSg~empty                 38.2  30.00\n",
      "  74 science   LATISS_MD02_00000033 00:44:44.786 SDSSg~empty                 33.0  30.00\n",
      "  75 engtest   HD  22412  00:50:30.298 empty~empty                345.5  30.00\n",
      "  76 engtest   HD  22412  00:51:08.618 empty~empty                 38.3  30.00\n",
      "  77 engtest   HD  22412  00:52:21.515 empty~empty                 72.9  30.00\n",
      "  78 engtest   HD  22412  00:52:59.296 empty~empty                 37.8  30.00\n",
      "  79 engtest   HD  22412  00:54:14.127 empty~empty                 74.8  30.00\n",
      "  80 engtest   HD  22412  00:54:51.936 empty~empty                 37.8  30.00\n",
      "  81 science   HD  22412  00:56:07.450 empty~empty                 75.5  5.00\n",
      "  82 engtest   HD  21920  00:56:27.923 SDSSg~empty                 20.5  30.00\n",
      "  83 engtest   HD  21920  00:57:06.276 SDSSg~empty                 38.4  30.00\n",
      "  84 engtest   HD  21920  00:58:22.111 SDSSg~empty                 75.8  30.00\n",
      "  85 engtest   HD  21920  00:58:59.994 SDSSg~empty                 37.9  30.00\n",
      "  86 science   HD  21920  01:00:15.406 SDSSg~empty                 75.4  5.00\n",
      "  87 science   LATISS_MD02_00000009 01:00:53.339 SDSSr~empty                 37.9  30.00\n",
      "  88 science   LATISS_MD02_00000009 01:01:26.150 SDSSr~empty                 32.8  30.00\n",
      "  89 science   LATISS_MD02_00000009 01:02:04.346 SDSSg~empty                 38.2  30.00\n",
      "  90 science   LATISS_MD02_00000009 01:02:37.148 SDSSg~empty                 32.8  30.00\n",
      "  91 science   LATISS_MD02_00000008 01:03:14.894 SDSSg~empty                 37.7  30.00\n",
      "  92 science   LATISS_MD02_00000008 01:03:47.786 SDSSg~empty                 32.9  30.00\n",
      "  93 science   LATISS_MD02_00000008 01:04:25.908 SDSSr~empty                 38.1  30.00\n",
      "  94 science   LATISS_MD02_00000008 01:04:58.746 SDSSr~empty                 32.8  30.00\n",
      "  95 science   LATISS_MD02_00000017 01:05:36.705 SDSSr~empty                 38.0  30.00\n",
      "  96 science   LATISS_MD02_00000017 01:06:09.656 SDSSr~empty                 33.0  30.00\n",
      "  97 science   LATISS_MD02_00000018 01:06:47.830 SDSSr~empty                 38.2  30.00\n",
      "  98 science   LATISS_MD02_00000018 01:07:20.815 SDSSr~empty                 33.0  30.00\n",
      "  99 science   LATISS_MD02_00000018 01:07:58.969 SDSSg~empty                 38.2  30.00\n",
      " 100 science   LATISS_MD02_00000018 01:08:31.934 SDSSg~empty                 33.0  30.00\n",
      " 101 science   LATISS_MD02_00000019 01:09:09.883 SDSSg~empty                 37.9  30.00\n",
      " 102 science   LATISS_MD02_00000019 01:09:42.792 SDSSg~empty                 32.9  30.00\n",
      " 103 science   LATISS_MD02_00000026 01:10:21.044 SDSSg~empty                 38.3  30.00\n",
      " 104 science   LATISS_MD02_00000026 01:10:54.067 SDSSg~empty                 33.0  30.00\n",
      " 105 science   LATISS_MD02_00000026 01:11:32.124 SDSSr~empty                 38.1  30.00\n",
      " 106 science   LATISS_MD02_00000026 01:12:04.993 SDSSr~empty                 32.9  30.00\n",
      " 107 science   LATISS_MD02_00000027 01:12:43.135 SDSSr~empty                 38.1  30.00\n",
      " 108 science   LATISS_MD02_00000027 01:13:15.967 SDSSr~empty                 32.8  30.00\n",
      " 109 science   LATISS_MD02_00000028 01:13:53.687 SDSSr~empty                 37.7  30.00\n",
      " 110 science   LATISS_MD02_00000028 01:14:26.590 SDSSr~empty                 32.9  30.00\n",
      " 111 science   LATISS_MD02_00000028 01:15:04.881 SDSSg~empty                 38.3  30.00\n",
      " 112 science   LATISS_MD02_00000028 01:15:37.819 SDSSg~empty                 32.9  30.00\n",
      " 113 science   LATISS_MD02_00000033 01:16:21.143 SDSSg~empty                 43.3  30.00\n",
      " 114 science   LATISS_MD02_00000033 01:16:54.055 SDSSg~empty                 32.9  30.00\n",
      " 115 science   LATISS_MD02_00000034 01:17:36.598 SDSSg~empty                 42.5  30.00\n",
      " 116 science   LATISS_MD02_00000034 01:18:09.498 SDSSg~empty                 32.9  30.00\n",
      " 117 science   LATISS_MD02_00000034 01:18:52.707 SDSSr~empty                 43.2  30.00\n",
      " 118 science   LATISS_MD02_00000034 01:19:25.547 SDSSr~empty                 32.8  30.00\n",
      " 119 science   LATISS_MD02_00000035 01:20:08.772 SDSSr~empty                 43.2  30.00\n",
      " 120 science   LATISS_MD02_00000035 01:20:41.587 SDSSr~empty                 32.8  30.00\n",
      " 121 science   LATISS_MD02_00000001 01:21:25.538 SDSSr~empty                 44.0  30.00\n",
      " 122 science   LATISS_MD02_00000001 01:21:58.348 SDSSr~empty                 32.8  30.00\n",
      " 123 science   LATISS_MD02_00000001 01:22:41.613 SDSSg~empty                 43.3  30.00\n",
      " 124 science   LATISS_MD02_00000001 01:23:14.419 SDSSg~empty                 32.8  30.00\n",
      " 125 science   LATISS_MD02_00000002 01:23:57.438 SDSSg~empty                 43.0  30.00\n",
      " 126 science   LATISS_MD02_00000002 01:24:30.515 SDSSg~empty                 33.1  30.00\n",
      " 127 science   LATISS_MD02_00000036 01:25:14.389 SDSSg~empty                 43.9  30.00\n",
      " 128 science   LATISS_MD02_00000036 01:25:47.302 SDSSg~empty                 32.9  30.00\n",
      " 129 science   LATISS_MD02_00000036 01:26:30.705 SDSSr~empty                 43.4  30.00\n",
      " 130 science   LATISS_MD02_00000036 01:27:03.607 SDSSr~empty                 32.9  30.00\n",
      " 131 science   LATISS_MD02_00000037 01:27:47.008 SDSSr~empty                 43.4  30.00\n",
      " 132 science   LATISS_MD02_00000037 01:28:20.060 SDSSr~empty                 33.1  30.00\n",
      " 133 science   LATISS_MD02_00000042 01:29:03.590 SDSSr~empty                 43.5  30.00\n",
      " 134 science   LATISS_MD02_00000042 01:29:36.405 SDSSr~empty                 32.8  30.00\n",
      " 135 science   LATISS_MD02_00000042 01:30:19.675 SDSSg~empty                 43.3  30.00\n",
      " 136 science   LATISS_MD02_00000042 01:30:52.469 SDSSg~empty                 32.8  30.00\n",
      " 137 science   LATISS_MD02_00000043 01:31:35.680 SDSSg~empty                 43.2  30.00\n",
      " 138 science   LATISS_MD02_00000043 01:32:08.584 SDSSg~empty                 32.9  30.00\n",
      " 139 science   LATISS_MD02_00000003 01:32:52.237 SDSSg~empty                 43.7  30.00\n",
      " 140 science   LATISS_MD02_00000003 01:33:25.129 SDSSg~empty                 32.9  30.00\n",
      " 141 science   LATISS_MD02_00000003 01:34:08.874 SDSSr~empty                 43.7  30.00\n",
      " 142 science   LATISS_MD02_00000003 01:34:41.854 SDSSr~empty                 33.0  30.00\n",
      " 143 science   LATISS_MD02_00000004 01:35:25.038 SDSSr~empty                 43.2  30.00\n",
      " 144 science   LATISS_MD02_00000004 01:35:57.946 SDSSr~empty                 32.9  30.00\n",
      " 145 science   LATISS_MD02_00000044 01:36:41.485 SDSSr~empty                 43.5  30.00\n",
      " 146 science   LATISS_MD02_00000044 01:37:14.286 SDSSr~empty                 32.8  30.00\n",
      " 147 science   LATISS_MD02_00000044 01:37:57.557 SDSSg~empty                 43.3  30.00\n",
      " 148 science   LATISS_MD02_00000044 01:38:30.465 SDSSg~empty                 32.9  30.00\n",
      " 149 science   LATISS_MD02_00000045 01:39:13.593 SDSSg~empty                 43.1  30.00\n",
      " 150 science   LATISS_MD02_00000045 01:39:46.474 SDSSg~empty                 32.9  30.00\n",
      " 151 science   LATISS_MD02_00000046 01:40:29.212 SDSSg~empty                 42.7  30.00\n",
      " 152 science   LATISS_MD02_00000046 01:41:02.126 SDSSg~empty                 32.9  30.00\n",
      " 153 science   LATISS_MD02_00000046 01:41:45.657 SDSSr~empty                 43.5  30.00\n",
      " 154 science   LATISS_MD02_00000046 01:42:18.694 SDSSr~empty                 33.0  30.00\n",
      " 155 science   LATISS_MD02_00000047 01:43:01.787 SDSSr~empty                 43.1  30.00\n",
      " 156 science   LATISS_MD02_00000047 01:43:34.693 SDSSr~empty                 32.9  30.00\n",
      " 157 science   LATISS_MD02_00000051 01:44:18.295 SDSSr~empty                 43.6  30.00\n",
      " 158 science   LATISS_MD02_00000051 01:44:51.211 SDSSr~empty                 32.9  30.00\n",
      " 159 science   LATISS_MD02_00000051 01:45:34.606 SDSSg~empty                 43.4  30.00\n",
      " 160 science   LATISS_MD02_00000051 01:46:07.494 SDSSg~empty                 32.9  30.00\n",
      " 161 science   LATISS_MD02_00000052 01:46:50.623 SDSSg~empty                 43.1  30.00\n",
      " 162 science   LATISS_MD02_00000052 01:47:23.462 SDSSg~empty                 32.8  30.00\n",
      " 163 science   LATISS_MD02_00000005 01:48:07.378 SDSSg~empty                 43.9  30.00\n",
      " 164 science   LATISS_MD02_00000005 01:48:40.327 SDSSg~empty                 32.9  30.00\n",
      " 165 science   LATISS_MD02_00000005 01:49:23.712 SDSSr~empty                 43.4  30.00\n",
      " 166 science   LATISS_MD02_00000005 01:49:56.560 SDSSr~empty                 32.8  30.00\n",
      " 167 science   LATISS_MD02_00000006 01:50:39.745 SDSSr~empty                 43.2  30.00\n",
      " 168 science   LATISS_MD02_00000006 01:51:12.553 SDSSr~empty                 32.8  30.00\n",
      " 169 science   LATISS_MD02_00000007 01:51:55.429 SDSSr~empty                 42.9  30.00\n",
      " 170 science   LATISS_MD02_00000007 01:52:28.498 SDSSr~empty                 33.1  30.00\n",
      " 171 science   LATISS_MD02_00000007 01:53:12.144 SDSSg~empty                 43.6  30.00\n",
      " 172 science   LATISS_MD02_00000007 01:53:45.049 SDSSg~empty                 32.9  30.00\n",
      " 173 science   LATISS_MD02_00000010 01:54:28.949 SDSSg~empty                 43.9  30.00\n",
      " 174 science   LATISS_MD02_00000010 01:55:01.853 SDSSg~empty                 32.9  30.00\n",
      " 175 science   LATISS_MD02_00000011 01:55:44.385 SDSSg~empty                 42.5  30.00\n",
      " 176 science   LATISS_MD02_00000011 01:56:17.366 SDSSg~empty                 33.0  30.00\n",
      " 177 science   LATISS_MD02_00000011 01:57:00.349 SDSSr~empty                 43.0  30.00\n",
      " 178 science   LATISS_MD02_00000011 01:57:33.365 SDSSr~empty                 33.0  30.00\n",
      " 179 science   LATISS_MD02_00000012 02:01:25.824 SDSSr~empty                232.5  30.00\n",
      " 180 science   LATISS_MD02_00000012 02:01:58.805 SDSSr~empty                 33.0  30.00\n",
      " 181 science   LATISS_MD02_00000053 02:02:42.430 SDSSr~empty                 43.6  30.00\n",
      " 182 science   LATISS_MD02_00000053 02:03:15.236 SDSSr~empty                 32.8  30.00\n",
      " 183 science   LATISS_MD02_00000053 02:03:58.457 SDSSg~empty                 43.2  30.00\n",
      " 184 science   LATISS_MD02_00000053 02:04:31.278 SDSSg~empty                 32.8  30.00\n",
      " 185 science   LATISS_MD02_00000054 02:05:14.536 SDSSg~empty                 43.3  30.00\n",
      " 186 science   LATISS_MD02_00000054 02:05:47.412 SDSSg~empty                 32.9  30.00\n",
      " 187 science   LATISS_MD02_00000013 02:06:31.051 SDSSg~empty                 43.6  30.00\n",
      " 188 science   LATISS_MD02_00000013 02:07:03.941 SDSSg~empty                 32.9  30.00\n",
      " 189 science   LATISS_MD02_00000013 02:07:47.155 SDSSr~empty                 43.2  30.00\n",
      " 190 science   LATISS_MD02_00000013 02:08:19.972 SDSSr~empty                 32.8  30.00\n",
      " 191 science   LATISS_MD02_00000014 02:09:03.191 SDSSr~empty                 43.2  30.00\n",
      " 192 science   LATISS_MD02_00000014 02:09:35.994 SDSSr~empty                 32.8  30.00\n",
      " 193 science   LATISS_MD02_00000055 02:10:19.791 SDSSr~empty                 43.8  30.00\n",
      " 194 science   LATISS_MD02_00000055 02:10:52.710 SDSSr~empty                 32.9  30.00\n",
      " 195 science   LATISS_MD02_00000055 02:11:36.062 SDSSg~empty                 43.4  30.00\n",
      " 196 science   LATISS_MD02_00000055 02:12:08.969 SDSSg~empty                 32.9  30.00\n",
      " 197 science   LATISS_MD02_00000056 02:12:52.343 SDSSg~empty                 43.4  30.00\n",
      " 198 science   LATISS_MD02_00000056 02:13:25.258 SDSSg~empty                 32.9  30.00\n",
      " 199 science   LATISS_MD02_00000059 02:14:09.187 SDSSg~empty                 43.9  30.00\n",
      " 200 science   LATISS_MD02_00000059 02:14:42.133 SDSSg~empty                 32.9  30.00\n",
      " 201 science   LATISS_MD02_00000059 02:15:25.494 SDSSr~empty                 43.4  30.00\n",
      " 202 science   LATISS_MD02_00000059 02:15:58.339 SDSSr~empty                 32.8  30.00\n",
      " 203 science   LATISS_MD02_00000060 02:16:41.536 SDSSr~empty                 43.2  30.00\n",
      " 204 science   LATISS_MD02_00000060 02:17:14.335 SDSSr~empty                 32.8  30.00\n",
      " 205 science   LATISS_MD02_00000061 02:17:57.194 SDSSr~empty                 42.9  30.00\n",
      " 206 science   LATISS_MD02_00000061 02:18:30.239 SDSSr~empty                 33.0  30.00\n",
      " 207 science   LATISS_MD02_00000061 02:19:13.608 SDSSg~empty                 43.4  30.00\n",
      " 208 science   LATISS_MD02_00000061 02:19:46.516 SDSSg~empty                 32.9  30.00\n",
      " 209 science   LATISS_MD02_00000062 02:20:29.711 SDSSg~empty                 43.2  30.00\n",
      " 210 science   LATISS_MD02_00000062 02:21:02.549 SDSSg~empty                 32.8  30.00\n",
      " 211 science   LATISS_MD02_00000063 02:21:45.126 SDSSg~empty                 42.6  30.00\n",
      " 212 science   LATISS_MD02_00000063 02:22:18.002 SDSSg~empty                 32.9  30.00\n",
      " 213 science   LATISS_MD02_00000063 02:23:01.182 SDSSr~empty                 43.2  30.00\n",
      " 214 science   LATISS_MD02_00000063 02:23:34.005 SDSSr~empty                 32.8  30.00\n",
      " 215 science   LATISS_MD02_00000064 02:24:17.430 SDSSr~empty                 43.4  30.00\n",
      " 216 science   LATISS_MD02_00000064 02:24:50.270 SDSSr~empty                 32.8  30.00\n",
      " 217 science   LATISS_MD02_00000015 02:25:33.997 SDSSr~empty                 43.7  30.00\n",
      " 218 science   LATISS_MD02_00000015 02:26:06.819 SDSSr~empty                 32.8  30.00\n",
      " 219 science   LATISS_MD02_00000015 02:26:50.120 SDSSg~empty                 43.3  30.00\n",
      " 220 science   LATISS_MD02_00000015 02:27:23.021 SDSSg~empty                 32.9  30.00\n",
      " 221 science   LATISS_MD02_00000016 02:28:06.190 SDSSg~empty                 43.2  30.00\n",
      " 222 science   LATISS_MD02_00000016 02:28:39.042 SDSSg~empty                 32.9  30.00\n",
      " 223 science   LATISS_MD02_00000065 02:29:22.705 SDSSg~empty                 43.7  30.00\n",
      " 224 science   LATISS_MD02_00000065 02:29:55.592 SDSSg~empty                 32.9  30.00\n",
      " 225 science   LATISS_MD02_00000065 02:30:38.788 SDSSr~empty                 43.2  30.00\n",
      " 226 science   LATISS_MD02_00000065 02:31:11.608 SDSSr~empty                 32.8  30.00\n",
      " 227 science   LATISS_MD02_00000066 02:31:53.529 SDSSr~empty                 41.9  30.00\n",
      " 228 science   LATISS_MD02_00000066 02:32:26.339 SDSSr~empty                 32.8  30.00\n",
      " 229 science   LATISS_MD02_00000020 02:33:10.551 SDSSr~empty                 44.2  30.00\n",
      " 230 science   LATISS_MD02_00000020 02:33:43.355 SDSSr~empty                 32.8  30.00\n",
      " 231 science   LATISS_MD02_00000020 02:34:26.587 SDSSg~empty                 43.2  30.00\n",
      " 232 science   LATISS_MD02_00000020 02:34:59.492 SDSSg~empty                 32.9  30.00\n",
      " 233 science   LATISS_MD02_00000021 02:35:42.792 SDSSg~empty                 43.3  30.00\n",
      " 234 science   LATISS_MD02_00000021 02:36:15.599 SDSSg~empty                 32.8  30.00\n",
      " 235 science   LATISS_MD02_00000022 02:36:58.355 SDSSg~empty                 42.8  30.00\n",
      " 236 science   LATISS_MD02_00000022 02:37:31.254 SDSSg~empty                 32.9  30.00\n",
      " 237 science   LATISS_MD02_00000022 02:38:15.007 SDSSr~empty                 43.8  30.00\n",
      " 238 science   LATISS_MD02_00000022 02:38:47.821 SDSSr~empty                 32.8  30.00\n",
      " 239 science   LATISS_MD02_00000023 02:39:31.264 SDSSr~empty                 43.4  30.00\n",
      " 240 science   LATISS_MD02_00000023 02:40:04.095 SDSSr~empty                 32.8  30.00\n",
      " 241 science   LATISS_MD02_00000068 02:40:48.064 SDSSr~empty                 44.0  30.00\n",
      " 242 science   LATISS_MD02_00000068 02:41:20.914 SDSSr~empty                 32.8  30.00\n",
      " 243 science   LATISS_MD02_00000068 02:42:04.211 SDSSg~empty                 43.3  30.00\n",
      " 244 science   LATISS_MD02_00000068 02:42:37.226 SDSSg~empty                 33.0  30.00\n",
      " 245 science   LATISS_MD02_00000069 02:43:20.486 SDSSg~empty                 43.3  30.00\n",
      " 246 science   LATISS_MD02_00000069 02:43:53.469 SDSSg~empty                 33.0  30.00\n",
      " 247 science   LATISS_MD02_00000070 02:44:36.191 SDSSg~empty                 42.7  30.00\n",
      " 248 science   LATISS_MD02_00000070 02:45:09.003 SDSSg~empty                 32.8  30.00\n",
      " 249 science   LATISS_MD02_00000070 02:45:52.889 SDSSr~empty                 43.9  30.00\n",
      " 250 science   LATISS_MD02_00000070 02:46:25.939 SDSSr~empty                 33.1  30.00\n",
      " 251 science   LATISS_MD02_00000071 02:47:09.228 SDSSr~empty                 43.3  30.00\n",
      " 252 science   LATISS_MD02_00000071 02:47:42.061 SDSSr~empty                 32.8  30.00\n",
      " 253 science   LATISS_MD02_00000024 02:48:25.821 SDSSr~empty                 43.8  30.00\n",
      " 254 science   LATISS_MD02_00000024 02:48:58.616 SDSSr~empty                 32.8  30.00\n",
      " 255 science   LATISS_MD02_00000024 02:49:42.217 SDSSg~empty                 43.6  30.00\n",
      " 256 science   LATISS_MD02_00000024 02:50:15.187 SDSSg~empty                 33.0  30.00\n",
      " 257 engtest   HD  20668  02:51:31.587 SDSSg~empty                 76.4  30.00\n",
      " 258 engtest   HD  20668  02:52:09.508 SDSSg~empty                 37.9  30.00\n",
      " 259 engtest   HD  20668  02:53:25.756 SDSSg~empty                 76.2  30.00\n",
      " 260 engtest   HD  20668  02:54:03.305 SDSSg~empty                 37.5  30.00\n",
      " 261 science   HD  20668  02:55:21.853 SDSSg~empty                 78.5  5.00\n",
      " 262 science   LATISS_MD02_00000025 02:56:15.462 SDSSr~empty                 53.6  30.00\n",
      " 263 science   LATISS_MD02_00000025 02:56:48.273 SDSSr~empty                 32.8  30.00\n",
      " 264 science   LATISS_MD02_00000025 02:57:31.611 SDSSg~empty                 43.3  30.00\n",
      " 265 science   LATISS_MD02_00000025 02:58:04.515 SDSSg~empty                 32.9  30.00\n",
      " 266 engtest   HD 128576  03:01:53.396 SDSSg~empty                228.9  30.00\n",
      " 267 engtest   HD 128576  03:02:30.923 SDSSg~empty                 37.5  30.00\n",
      " 268 engtest   HD 128576  03:03:48.800 SDSSg~empty                 77.9  30.00\n",
      " 269 engtest   HD 128576  03:04:26.614 SDSSg~empty                 37.8  30.00\n",
      " 270 science   HD 128576  03:05:46.163 SDSSg~empty                 79.5  5.00\n",
      " 271 engtest   HD  73416  03:07:29.028 SDSSg~empty                102.9  30.00\n",
      " 272 engtest   HD  73416  03:08:07.387 SDSSg~empty                 38.4  30.00\n",
      " 273 engtest   HD  73416  03:09:24.705 SDSSg~empty                 77.3  30.00\n",
      " 274 engtest   HD  73416  03:10:03.102 SDSSg~empty                 38.4  30.00\n",
      " 275 science   HD  73416  03:11:17.955 SDSSg~empty                 74.9  5.00\n",
      " 276 science   spec:HD074000 03:13:06.003 empty~ronchi170lpmm        108.0  2.00\n",
      " 277 science   spec:HD074000 03:13:32.898 empty~ronchi170lpmm         26.9  2.00\n",
      " 278 science   spec:HD074000 03:13:53.766 empty~ronchi170lpmm         20.9  2.00\n",
      " 279 science   spec:HD074000 03:14:08.741 empty~ronchi170lpmm         15.0  20.00\n",
      " 280 science   spec:HD074000 03:14:41.787 empty~ronchi170lpmm         33.0  20.00\n",
      " 281 science   spec:HD074000 03:15:21.525 empty~holo4_003             39.7  20.00\n",
      " 282 science   spec:HD074000 03:15:54.572 empty~holo4_003             33.0  20.00\n",
      " 283 science   spec:HD38949 03:17:32.347 empty~ronchi170lpmm         97.8  2.00\n",
      " 284 science   spec:HD031128 03:20:20.059 empty~ronchi170lpmm        167.7  2.00\n",
      " 285 science   spec:HD031128 03:20:46.803 empty~ronchi170lpmm         26.7  2.00\n",
      " 286 science   spec:HD031128 03:21:07.705 empty~ronchi170lpmm         20.9  2.00\n",
      " 287 science   spec:HD031128 03:21:22.808 empty~ronchi170lpmm         15.1  20.00\n",
      " 288 science   spec:HD031128 03:21:55.865 empty~ronchi170lpmm         33.1  20.00\n",
      " 289 science   spec:HD031128 03:22:34.842 empty~holo4_003             39.0  20.00\n",
      " 290 science   spec:HD031128 03:23:07.917 empty~holo4_003             33.1  20.00\n",
      " 291 science   spec:HD111980 03:25:28.498 empty~ronchi170lpmm        140.6  2.00\n",
      " 292 science   spec:HD111980 03:25:55.246 empty~ronchi170lpmm         26.7  2.00\n",
      " 293 science   spec:HD111980 03:26:16.130 empty~ronchi170lpmm         20.9  2.00\n",
      " 294 science   spec:HD111980 03:26:31.271 empty~ronchi170lpmm         15.1  20.00\n",
      " 295 science   spec:HD111980 03:27:04.264 empty~ronchi170lpmm         33.0  20.00\n",
      " 296 science   spec:HD111980 03:27:44.069 empty~holo4_003             39.8  20.00\n",
      " 297 science   spec:HD111980 03:28:17.102 empty~holo4_003             33.0  20.00\n",
      " 298 science   spec:ETA1DOR 03:29:53.001 empty~ronchi170lpmm         95.9  2.00\n",
      " 299 science   spec:ETA1DOR 03:30:19.558 empty~ronchi170lpmm         26.6  2.00\n",
      " 300 science   spec:ETA1DOR 03:30:47.270 empty~ronchi170lpmm         27.7  2.00\n",
      " 301 science   spec:ETA1DOR 03:31:02.292 empty~ronchi170lpmm         15.0  20.00\n",
      " 302 science   spec:ETA1DOR 03:31:35.351 empty~ronchi170lpmm         33.1  20.00\n",
      " 303 science   spec:ETA1DOR 03:32:14.602 empty~holo4_003             39.3  20.00\n",
      " 304 science   spec:ETA1DOR 03:32:47.754 empty~holo4_003             33.2  20.00\n",
      " 305 science   spec:HD074000 03:35:10.102 empty~ronchi170lpmm        142.3  2.00\n",
      " 306 science   spec:HD074000 03:35:37.652 empty~ronchi170lpmm         27.6  2.00\n",
      " 307 science   spec:HD074000 03:35:59.011 empty~ronchi170lpmm         21.4  2.00\n",
      " 308 science   spec:HD074000 03:36:13.962 empty~ronchi170lpmm         15.0  20.00\n",
      " 309 science   spec:HD074000 03:36:47.059 empty~ronchi170lpmm         33.1  20.00\n",
      " 310 science   spec:HD074000 03:37:26.738 empty~holo4_003             39.7  20.00\n",
      " 311 science   spec:HD074000 03:37:59.887 empty~holo4_003             33.1  20.00\n",
      " 312 science   spec:HD60753 03:39:58.053 empty~ronchi170lpmm        118.2  2.00\n",
      " 313 science   spec:HD60753 03:40:25.958 empty~ronchi170lpmm         27.9  2.00\n",
      " 314 science   spec:HD60753 03:40:46.843 empty~ronchi170lpmm         20.9  2.00\n",
      " 315 science   spec:HD60753 03:41:01.908 empty~ronchi170lpmm         15.1  20.00\n",
      " 316 science   spec:HD60753 03:41:34.961 empty~ronchi170lpmm         33.1  20.00\n",
      " 317 science   spec:HD60753 03:42:13.967 empty~holo4_003             39.0  20.00\n",
      " 318 science   spec:HD60753 03:42:47.002 empty~holo4_003             33.0  20.00\n",
      " 319 science   spec:HD38949 03:43:58.905 empty~ronchi170lpmm         71.9  2.00\n",
      " 320 science   spec:HD38949 03:44:25.706 empty~ronchi170lpmm         26.8  2.00\n",
      " 321 science   spec:HD38949 03:44:46.755 empty~ronchi170lpmm         21.0  2.00\n",
      " 322 science   spec:HD38949 03:45:01.795 empty~ronchi170lpmm         15.0  20.00\n",
      " 323 science   spec:HD38949 03:45:34.837 empty~ronchi170lpmm         33.0  20.00\n",
      " 324 science   spec:HD38949 03:46:14.705 empty~holo4_003             39.9  20.00\n",
      " 325 science   spec:HD38949 03:46:47.705 empty~holo4_003             33.0  20.00\n",
      " 326 science   spec:LAMLEP 03:47:29.252 empty~ronchi170lpmm         41.5  2.00\n",
      " 327 science   spec:LAMLEP 03:47:56.150 empty~ronchi170lpmm         26.9  2.00\n",
      " 328 science   spec:LAMLEP 03:48:17.975 empty~ronchi170lpmm         21.8  2.00\n",
      " 329 science   spec:LAMLEP 03:48:33.074 empty~ronchi170lpmm         15.1  20.00\n",
      " 330 science   spec:LAMLEP 03:49:06.136 empty~ronchi170lpmm         33.1  20.00\n",
      " 331 science   spec:LAMLEP 03:49:45.253 empty~holo4_003             39.1  20.00\n",
      " 332 science   spec:LAMLEP 03:50:18.219 empty~holo4_003             33.0  20.00\n",
      " 333 science   spec:HD111980 03:52:28.752 empty~ronchi170lpmm        130.5  2.00\n",
      " 334 science   spec:HD111980 03:52:55.298 empty~ronchi170lpmm         26.5  2.00\n",
      " 335 science   spec:HD111980 03:53:16.182 empty~ronchi170lpmm         20.9  2.00\n",
      " 336 science   spec:HD111980 03:53:31.151 empty~ronchi170lpmm         15.0  20.00\n",
      " 337 science   spec:HD111980 03:54:04.214 empty~ronchi170lpmm         33.1  20.00\n",
      " 338 science   spec:HD111980 03:54:43.963 empty~holo4_003             39.7  20.00\n",
      " 339 science   spec:HD111980 03:55:17.027 empty~holo4_003             33.1  20.00\n",
      " 340 science   spec:MUCOL 03:57:20.956 empty~ronchi170lpmm        123.9  2.00\n",
      " 341 science   spec:MUCOL 03:57:47.548 empty~ronchi170lpmm         26.6  2.00\n",
      " 342 science   spec:MUCOL 03:58:08.706 empty~ronchi170lpmm         21.2  2.00\n",
      " 343 science   spec:MUCOL 03:58:23.681 empty~ronchi170lpmm         15.0  20.00\n",
      " 344 science   spec:MUCOL 03:58:56.757 empty~ronchi170lpmm         33.1  20.00\n",
      " 345 science   spec:MUCOL 03:59:36.514 empty~holo4_003             39.8  20.00\n",
      " 346 science   spec:MUCOL 04:00:09.552 empty~holo4_003             33.0  20.00\n",
      " 347 science   spec:ETA1DOR 04:01:17.251 empty~ronchi170lpmm         67.7  2.00\n",
      " 348 science   spec:ETA1DOR 04:01:43.651 empty~ronchi170lpmm         26.4  2.00\n",
      " 349 science   spec:ETA1DOR 04:02:07.215 empty~ronchi170lpmm         23.6  2.00\n",
      " 350 science   spec:ETA1DOR 04:02:22.172 empty~ronchi170lpmm         15.0  20.00\n",
      " 351 science   spec:ETA1DOR 04:02:55.246 empty~ronchi170lpmm         33.1  20.00\n",
      " 352 science   spec:ETA1DOR 04:03:34.478 empty~holo4_003             39.2  20.00\n",
      " 353 science   spec:ETA1DOR 04:04:07.540 empty~holo4_003             33.1  20.00\n",
      " 354 science   spec:HD37962 04:05:15.602 empty~ronchi170lpmm         68.1  2.00\n",
      " 355 science   spec:HD37962 04:05:43.004 empty~ronchi170lpmm         27.4  2.00\n",
      " 356 science   spec:HD37962 04:06:04.095 empty~ronchi170lpmm         21.1  2.00\n",
      " 357 science   spec:HD37962 04:06:19.074 empty~ronchi170lpmm         15.0  20.00\n",
      " 358 science   spec:HD37962 04:06:52.170 empty~ronchi170lpmm         33.1  20.00\n",
      " 359 science   spec:HD37962 04:07:31.387 empty~holo4_003             39.2  20.00\n",
      " 360 science   spec:HD37962 04:08:04.444 empty~holo4_003             33.1  20.00\n",
      " 361 science   spec:HD031128 04:08:46.508 empty~ronchi170lpmm         42.1  2.00\n",
      " 362 science   spec:HD031128 04:09:13.210 empty~ronchi170lpmm         26.7  2.00\n",
      " 363 science   spec:HD031128 04:09:34.297 empty~ronchi170lpmm         21.1  2.00\n",
      " 364 science   spec:HD031128 04:09:49.294 empty~ronchi170lpmm         15.0  20.00\n",
      " 365 science   spec:HD031128 04:10:22.343 empty~ronchi170lpmm         33.0  20.00\n",
      " 366 science   spec:HD031128 04:11:01.587 empty~holo4_003             39.2  20.00\n",
      " 367 science   spec:HD031128 04:11:34.648 empty~holo4_003             33.1  20.00\n",
      " 368 engtest   HD  70536  04:14:47.760 SDSSg~empty                193.1  30.00\n",
      " 369 engtest   HD  70536  04:15:28.306 SDSSg~empty                 40.5  30.00\n",
      " 370 science   HD  70536  04:16:45.705 SDSSg~empty                 77.4  5.00\n",
      " 371 science   spec:HD074000 04:18:34.451 empty~ronchi170lpmm        108.7  2.00\n",
      " 372 science   spec:HD074000 04:19:01.553 empty~ronchi170lpmm         27.1  2.00\n",
      " 373 science   spec:HD074000 04:19:28.295 empty~ronchi170lpmm         26.7  2.00\n",
      " 374 science   spec:HD074000 04:19:43.330 empty~ronchi170lpmm         15.0  20.00\n",
      " 375 science   spec:HD074000 04:20:16.385 empty~ronchi170lpmm         33.1  20.00\n",
      " 376 science   spec:HD074000 04:20:55.617 empty~holo4_003             39.2  20.00\n",
      " 377 science   spec:HD074000 04:21:28.765 empty~holo4_003             33.1  20.00\n",
      " 378 engtest   HD  32266  04:23:33.798 SDSSg~empty                125.0  30.00\n",
      " 379 engtest   HD  32266  04:24:11.329 SDSSg~empty                 37.5  30.00\n",
      " 380 engtest   HD  32266  04:25:29.749 SDSSg~empty                 78.4  30.00\n",
      " 381 engtest   HD  32266  04:26:06.862 SDSSg~empty                 37.1  30.00\n",
      " 382 science   spec:LAMLEP 04:29:21.195 empty~ronchi170lpmm        194.3  2.00\n",
      " 383 science   spec:LAMLEP 04:29:48.155 empty~ronchi170lpmm         27.0  2.00\n",
      " 384 science   spec:LAMLEP 04:30:09.404 empty~ronchi170lpmm         21.2  2.00\n",
      " 385 science   spec:LAMLEP 04:30:24.470 empty~ronchi170lpmm         15.1  20.00\n",
      " 386 science   spec:LAMLEP 04:30:57.532 empty~ronchi170lpmm         33.1  20.00\n",
      " 387 science   spec:LAMLEP 04:31:36.523 empty~holo4_003             39.0  20.00\n",
      " 388 science   spec:LAMLEP 04:32:09.605 empty~holo4_003             33.1  20.00\n",
      " 389 science   spec:HD111980 04:34:20.353 empty~ronchi170lpmm        130.7  2.00\n",
      " 390 science   spec:HD111980 04:34:47.250 empty~ronchi170lpmm         26.9  2.00\n",
      " 391 science   spec:HD111980 04:35:08.428 empty~ronchi170lpmm         21.2  2.00\n",
      " 392 science   spec:HD111980 04:35:23.654 empty~ronchi170lpmm         15.2  20.00\n",
      " 393 science   spec:HD111980 04:35:56.734 empty~ronchi170lpmm         33.1  20.00\n",
      " 394 science   spec:HD111980 04:36:35.747 empty~holo4_003             39.0  20.00\n",
      " 395 science   spec:HD111980 04:37:08.809 empty~holo4_003             33.1  20.00\n",
      " 396 science   spec:ETA1DOR 04:38:51.462 empty~ronchi170lpmm        102.7  2.00\n",
      " 397 science   spec:ETA1DOR 04:39:18.705 empty~ronchi170lpmm         27.2  2.00\n",
      " 398 science   spec:ETA1DOR 04:39:39.684 empty~ronchi170lpmm         21.0  2.00\n",
      " 399 science   spec:ETA1DOR 04:39:54.647 empty~ronchi170lpmm         15.0  20.00\n",
      " 400 science   spec:ETA1DOR 04:40:27.706 empty~ronchi170lpmm         33.1  20.00\n",
      " 401 science   spec:ETA1DOR 04:41:06.631 empty~holo4_003             38.9  20.00\n",
      " 402 science   spec:ETA1DOR 04:41:39.772 empty~holo4_003             33.1  20.00\n",
      " 403 science   spec:HD60753 04:42:27.898 empty~ronchi170lpmm         48.1  2.00\n",
      " 404 science   spec:HD60753 04:42:55.156 empty~ronchi170lpmm         27.3  2.00\n",
      " 405 science   spec:HD60753 04:43:16.732 empty~ronchi170lpmm         21.6  2.00\n",
      " 406 science   spec:HD60753 04:43:31.978 empty~ronchi170lpmm         15.2  20.00\n",
      " 407 science   spec:HD60753 04:44:05.036 empty~ronchi170lpmm         33.1  20.00\n",
      " 408 science   spec:HD60753 04:44:44.035 empty~holo4_003             39.0  20.00\n",
      " 409 science   spec:HD60753 04:45:17.087 empty~holo4_003             33.1  20.00\n",
      " 410 science   spec:MUCOL 04:46:15.452 empty~ronchi170lpmm         58.4  2.00\n",
      " 411 science   spec:MUCOL 04:46:42.349 empty~ronchi170lpmm         26.9  2.00\n",
      " 412 science   spec:MUCOL 04:47:04.121 empty~ronchi170lpmm         21.8  2.00\n",
      " 413 science   spec:MUCOL 04:47:19.256 empty~ronchi170lpmm         15.1  20.00\n",
      " 414 science   spec:MUCOL 04:47:52.266 empty~ronchi170lpmm         33.0  20.00\n",
      " 415 science   spec:MUCOL 04:48:31.396 empty~holo4_003             39.1  20.00\n",
      " 416 science   spec:MUCOL 04:49:04.357 empty~holo4_003             33.0  20.00\n",
      " 417 science   spec:HD37962 04:49:44.654 empty~ronchi170lpmm         40.3  2.00\n",
      " 418 science   spec:HD37962 04:50:11.904 empty~ronchi170lpmm         27.3  2.00\n",
      " 419 science   spec:HD37962 04:50:33.803 empty~ronchi170lpmm         21.9  2.00\n",
      " 420 science   spec:HD37962 04:50:48.889 empty~ronchi170lpmm         15.1  20.00\n",
      " 421 science   spec:HD37962 04:51:21.906 empty~ronchi170lpmm         33.0  20.00\n",
      " 422 science   spec:HD37962 04:52:01.122 empty~holo4_003             39.2  20.00\n",
      " 423 science   spec:HD37962 04:52:34.186 empty~holo4_003             33.1  20.00\n",
      " 424 engtest   HD  70536  04:55:53.471 SDSSg~empty                199.3  30.00\n",
      " 425 engtest   HD  70536  04:56:36.844 SDSSg~empty                 43.4  30.00\n",
      " 426 engtest   HD  70536  04:57:53.647 SDSSg~empty                 76.8  30.00\n",
      " 427 engtest   HD  70536  04:58:31.398 SDSSg~empty                 37.8  30.00\n",
      " 428 engtest   HD  70536  04:59:45.513 SDSSg~empty                 74.1  30.00\n",
      " 429 engtest   HD  70536  05:00:23.470 SDSSg~empty                 38.0  30.00\n",
      " 430 science   HD  70536  05:01:40.581 SDSSg~empty                 77.1  5.00\n",
      " 431 science   spec:HD074000 05:03:25.989 empty~ronchi170lpmm        105.4  2.00\n",
      " 432 science   spec:HD074000 05:03:52.749 empty~ronchi170lpmm         26.8  2.00\n",
      " 433 science   spec:HD074000 05:04:13.884 empty~ronchi170lpmm         21.1  2.00\n",
      " 434 science   spec:HD074000 05:04:28.849 empty~ronchi170lpmm         15.0  20.00\n",
      " 435 science   spec:HD074000 05:05:01.904 empty~ronchi170lpmm         33.1  20.00\n",
      " 436 science   spec:HD074000 05:05:40.875 empty~holo4_003             39.0  20.00\n",
      " 437 science   spec:HD074000 05:06:14.009 empty~holo4_003             33.1  20.00\n",
      " 438 engtest   HD 185975  05:08:15.589 SDSSg~empty                121.6  30.00\n",
      " 439 engtest   HD 185975  05:08:58.260 SDSSg~empty                 42.7  30.00\n",
      " 440 engtest   HD 185975  05:10:14.367 SDSSg~empty                 76.1  30.00\n",
      " 441 engtest   HD 185975  05:10:52.341 SDSSg~empty                 38.0  30.00\n",
      " 442 engtest   HD 185975  05:12:08.537 SDSSg~empty                 76.2  30.00\n",
      " 443 engtest   HD 185975  05:12:45.786 SDSSg~empty                 37.2  30.00\n",
      " 444 science   HD 185975  05:14:03.094 SDSSg~empty                 77.3  5.00\n",
      " 445 science   spec:HD185975 05:15:31.706 empty~ronchi170lpmm         88.6  2.00\n",
      " 446 science   spec:HD185975 05:15:59.659 empty~ronchi170lpmm         28.0  2.00\n",
      " 447 science   spec:HD185975 05:16:20.862 empty~ronchi170lpmm         21.2  2.00\n",
      " 448 science   spec:HD185975 05:16:35.914 empty~ronchi170lpmm         15.1  20.00\n",
      " 449 science   spec:HD185975 05:17:08.977 empty~ronchi170lpmm         33.1  20.00\n",
      " 450 science   spec:HD185975 05:17:47.987 empty~holo4_003             39.0  20.00\n",
      " 451 science   spec:HD185975 05:18:21.045 empty~holo4_003             33.1  20.00\n",
      " 452 science   spec:ETA1DOR 05:19:19.351 empty~ronchi170lpmm         58.3  2.00\n",
      " 453 science   spec:ETA1DOR 05:19:47.103 empty~ronchi170lpmm         27.8  2.00\n",
      " 454 science   spec:ETA1DOR 05:20:08.275 empty~ronchi170lpmm         21.2  2.00\n",
      " 455 science   spec:ETA1DOR 05:20:23.337 empty~ronchi170lpmm         15.1  20.00\n",
      " 456 science   spec:ETA1DOR 05:20:56.488 empty~ronchi170lpmm         33.2  20.00\n",
      " 457 science   spec:ETA1DOR 05:21:35.705 empty~holo4_003             39.2  20.00\n",
      " 458 science   spec:ETA1DOR 05:22:08.744 empty~holo4_003             33.0  20.00\n",
      " 459 science   spec:HD111980 05:24:47.202 empty~ronchi170lpmm        158.5  2.00\n",
      " 460 science   spec:HD111980 05:25:13.901 empty~ronchi170lpmm         26.7  2.00\n",
      " 461 science   spec:HD111980 05:25:35.550 empty~ronchi170lpmm         21.6  2.00\n",
      " 462 science   spec:HD111980 05:25:50.502 empty~ronchi170lpmm         15.0  20.00\n",
      " 463 science   spec:HD111980 05:26:23.641 empty~ronchi170lpmm         33.1  20.00\n",
      " 464 science   spec:HD111980 05:27:02.757 empty~holo4_003             39.1  20.00\n",
      " 465 science   spec:HD111980 05:27:35.718 empty~holo4_003             33.0  20.00\n",
      " 466 science   spec:BD11_3759 05:28:30.204 empty~ronchi170lpmm         54.5  2.00\n",
      " 467 science   spec:BD11_3759 05:29:02.855 empty~ronchi170lpmm         32.7  2.00\n",
      " 468 science   spec:BD11_3759 05:29:24.340 empty~ronchi170lpmm         21.5  2.00\n",
      " 469 science   spec:BD11_3759 05:29:39.307 empty~ronchi170lpmm         15.0  20.00\n",
      " 470 science   spec:BD11_3759 05:30:12.412 empty~ronchi170lpmm         33.1  20.00\n",
      " 471 science   spec:BD11_3759 05:30:51.580 empty~holo4_003             39.2  20.00\n",
      " 472 science   spec:BD11_3759 05:31:24.638 empty~holo4_003             33.1  20.00\n",
      " 473 science   spec:HD60753 05:33:16.991 empty~ronchi170lpmm        112.4  2.00\n",
      " 474 science   spec:HD60753 05:33:43.798 empty~ronchi170lpmm         26.8  2.00\n",
      " 475 science   spec:HD60753 05:34:05.815 empty~ronchi170lpmm         22.0  2.00\n",
      " 476 science   spec:HD60753 05:34:20.776 empty~ronchi170lpmm         15.0  20.00\n",
      " 477 science   spec:HD60753 05:34:53.768 empty~ronchi170lpmm         33.0  20.00\n",
      " 478 science   spec:HD60753 05:35:32.706 empty~holo4_003             38.9  20.00\n",
      " 479 science   spec:HD60753 05:36:05.842 empty~holo4_003             33.1  20.00\n",
      " 480 science   spec:HD074000 05:39:16.751 empty~ronchi170lpmm        190.9  2.00\n",
      " 481 science   spec:HD074000 05:39:43.759 empty~ronchi170lpmm         27.0  2.00\n",
      " 482 science   spec:HD074000 05:40:04.632 empty~ronchi170lpmm         20.9  2.00\n",
      " 483 science   spec:HD074000 05:40:19.685 empty~ronchi170lpmm         15.1  20.00\n",
      " 484 science   spec:HD074000 05:40:52.820 empty~ronchi170lpmm         33.1  20.00\n",
      " 485 science   spec:HD074000 05:41:32.487 empty~holo4_003             39.7  20.00\n",
      " 486 science   spec:HD074000 05:42:05.607 empty~holo4_003             33.1  20.00\n",
      " 487 science   spec:HD185975 05:43:43.451 empty~ronchi170lpmm         97.8  2.00\n",
      " 488 science   spec:HD185975 05:44:11.366 empty~ronchi170lpmm         27.9  2.00\n",
      " 489 science   spec:HD185975 05:44:32.481 empty~ronchi170lpmm         21.1  2.00\n",
      " 490 science   spec:HD185975 05:44:47.625 empty~ronchi170lpmm         15.1  20.00\n",
      " 491 science   spec:HD185975 05:45:20.652 empty~ronchi170lpmm         33.0  20.00\n",
      " 492 science   spec:HD185975 05:45:59.690 empty~holo4_003             39.0  20.00\n",
      " 493 science   spec:HD185975 05:46:32.731 empty~holo4_003             33.0  20.00\n",
      " 494 science   spec:ETA1DOR 05:47:31.151 empty~ronchi170lpmm         58.4  2.00\n",
      " 495 science   spec:ETA1DOR 05:47:58.501 empty~ronchi170lpmm         27.4  2.00\n",
      " 496 science   spec:ETA1DOR 05:48:19.914 empty~ronchi170lpmm         21.4  2.00\n",
      " 497 science   spec:ETA1DOR 05:48:35.047 empty~ronchi170lpmm         15.1  20.00\n",
      " 498 science   spec:ETA1DOR 05:49:08.103 empty~ronchi170lpmm         33.1  20.00\n",
      " 499 science   spec:ETA1DOR 05:49:47.095 empty~holo4_003             39.0  20.00\n",
      " 500 science   spec:ETA1DOR 05:50:20.191 empty~holo4_003             33.1  20.00\n",
      " 501 science   LATISS_E6A_00000009 05:51:44.893 SDSSr~empty                 84.7  30.00\n",
      " 502 science   LATISS_E6A_00000009 05:52:17.788 SDSSr~empty                 32.9  30.00\n",
      " 503 science   LATISS_E6A_00000009 05:53:01.542 SDSSg~empty                 43.8  30.00\n",
      " 504 science   LATISS_E6A_00000009 05:53:34.520 SDSSg~empty                 33.0  30.00\n",
      " 505 science   LATISS_E6A_00000009 05:54:18.246 SDSSi~empty                 43.7  30.00\n",
      " 506 science   LATISS_E6A_00000009 05:54:51.086 SDSSi~empty                 32.8  30.00\n",
      " 507 science   spec:HD111980 05:58:16.646 empty~ronchi170lpmm        205.6  2.00\n",
      " 508 science   spec:HD111980 05:58:43.802 empty~ronchi170lpmm         27.2  2.00\n",
      " 509 science   spec:HD111980 05:59:04.832 empty~ronchi170lpmm         21.0  2.00\n",
      " 510 science   spec:HD111980 05:59:19.777 empty~ronchi170lpmm         14.9  20.00\n",
      " 511 science   spec:HD111980 05:59:52.832 empty~ronchi170lpmm         33.1  20.00\n",
      " 512 science   spec:HD111980 06:00:32.028 empty~holo4_003             39.2  20.00\n",
      " 513 science   spec:HD111980 06:01:05.172 empty~holo4_003             33.1  20.00\n",
      " 514 science   spec:BD11_3759 06:01:59.759 empty~ronchi170lpmm         54.6  2.00\n",
      " 515 science   spec:BD11_3759 06:02:26.651 empty~ronchi170lpmm         26.9  2.00\n",
      " 516 science   spec:BD11_3759 06:02:48.185 empty~ronchi170lpmm         21.5  2.00\n",
      " 517 science   spec:BD11_3759 06:03:03.299 empty~ronchi170lpmm         15.1  20.00\n",
      " 518 science   spec:BD11_3759 06:03:36.348 empty~ronchi170lpmm         33.0  20.00\n",
      " 519 science   spec:BD11_3759 06:04:15.574 empty~holo4_003             39.2  20.00\n",
      " 520 science   spec:BD11_3759 06:04:48.631 empty~holo4_003             33.1  20.00\n",
      " 521 science   spec:HD60753 06:06:44.347 empty~ronchi170lpmm        115.7  2.00\n",
      " 522 science   spec:HD60753 06:07:18.100 empty~ronchi170lpmm         33.8  2.00\n",
      " 523 science   spec:HD60753 06:07:39.402 empty~ronchi170lpmm         21.3  2.00\n",
      " 524 science   spec:HD60753 06:07:54.470 empty~ronchi170lpmm         15.1  20.00\n",
      " 525 science   spec:HD60753 06:08:27.554 empty~ronchi170lpmm         33.1  20.00\n",
      " 526 science   spec:HD60753 06:09:06.527 empty~holo4_003             39.0  20.00\n",
      " 527 science   spec:HD60753 06:09:39.599 empty~holo4_003             33.1  20.00\n",
      " 528 science   spec:HD074000 06:12:54.905 empty~ronchi170lpmm        195.3  2.00\n",
      " 529 science   spec:HD074000 06:13:21.954 empty~ronchi170lpmm         27.0  2.00\n",
      " 530 science   spec:HD074000 06:13:42.870 empty~ronchi170lpmm         20.9  2.00\n",
      " 531 science   spec:HD074000 06:13:57.985 empty~ronchi170lpmm         15.1  20.00\n",
      " 532 science   spec:HD074000 06:14:31.042 empty~ronchi170lpmm         33.1  20.00\n",
      " 533 science   spec:HD074000 06:15:10.081 empty~holo4_003             39.0  20.00\n",
      " 534 science   spec:HD074000 06:15:43.127 empty~holo4_003             33.0  20.00\n",
      " 535 science   spec:HD185975 06:17:17.653 empty~ronchi170lpmm         94.5  2.00\n",
      " 536 science   spec:HD185975 06:17:46.047 empty~ronchi170lpmm         28.4  2.00\n",
      " 537 science   spec:HD185975 06:18:07.673 empty~ronchi170lpmm         21.6  2.00\n",
      " 538 science   spec:HD185975 06:18:22.626 empty~ronchi170lpmm         15.0  20.00\n",
      " 539 science   spec:HD185975 06:18:55.672 empty~ronchi170lpmm         33.0  20.00\n",
      " 540 science   spec:HD185975 06:19:34.791 empty~holo4_003             39.1  20.00\n",
      " 541 science   spec:HD185975 06:20:07.857 empty~holo4_003             33.1  20.00\n",
      " 542 science   spec:ETA1DOR 06:21:06.248 empty~ronchi170lpmm         58.4  2.00\n",
      " 543 science   spec:ETA1DOR 06:21:33.401 empty~ronchi170lpmm         27.2  2.00\n",
      " 544 science   spec:ETA1DOR 06:21:54.427 empty~ronchi170lpmm         21.0  2.00\n",
      " 545 science   spec:ETA1DOR 06:22:09.567 empty~ronchi170lpmm         15.1  20.00\n",
      " 546 science   spec:ETA1DOR 06:22:42.579 empty~ronchi170lpmm         33.0  20.00\n",
      " 547 science   spec:ETA1DOR 06:23:21.809 empty~holo4_003             39.2  20.00\n",
      " 548 science   spec:ETA1DOR 06:23:54.872 empty~holo4_003             33.1  20.00\n",
      " 549 science   LATISS_E6A_00000040 06:25:19.265 SDSSr~empty                 84.4  30.00\n",
      " 550 science   LATISS_E6A_00000040 06:25:52.072 SDSSr~empty                 32.8  30.00\n",
      " 551 science   LATISS_E6A_00000040 06:26:35.395 SDSSg~empty                 43.3  30.00\n",
      " 552 science   LATISS_E6A_00000040 06:27:08.381 SDSSg~empty                 33.0  30.00\n",
      " 553 science   LATISS_E6A_00000040 06:27:50.646 SDSSi~empty                 42.3  30.00\n",
      " 554 science   LATISS_E6A_00000040 06:28:23.446 SDSSi~empty                 32.8  30.00\n",
      " 555 science   spec:HD111980 06:31:43.495 empty~ronchi170lpmm        200.0  2.00\n",
      " 556 science   spec:HD111980 06:32:10.600 empty~ronchi170lpmm         27.1  2.00\n",
      " 557 science   spec:HD111980 06:32:31.752 empty~ronchi170lpmm         21.2  2.00\n",
      " 558 science   spec:HD111980 06:32:46.891 empty~ronchi170lpmm         15.1  20.00\n",
      " 559 science   spec:HD111980 06:33:19.895 empty~ronchi170lpmm         33.0  20.00\n",
      " 560 science   spec:HD111980 06:33:58.969 empty~holo4_003             39.1  20.00\n",
      " 561 science   spec:HD111980 06:34:31.996 empty~holo4_003             33.0  20.00\n",
      " 562 science   spec:BD11_3759 06:35:26.797 empty~ronchi170lpmm         54.8  2.00\n",
      " 563 science   spec:BD11_3759 06:35:53.848 empty~ronchi170lpmm         27.1  2.00\n",
      " 564 science   spec:BD11_3759 06:36:15.544 empty~ronchi170lpmm         21.7  2.00\n",
      " 565 science   spec:BD11_3759 06:36:30.603 empty~ronchi170lpmm         15.1  20.00\n",
      " 566 science   spec:BD11_3759 06:37:03.572 empty~ronchi170lpmm         33.0  20.00\n",
      " 567 science   spec:BD11_3759 06:37:42.634 empty~holo4_003             39.1  20.00\n",
      " 568 science   spec:BD11_3759 06:38:15.684 empty~holo4_003             33.0  20.00\n",
      " 569 science   spec:HD60753 06:40:14.404 empty~ronchi170lpmm        118.7  2.00\n",
      " 570 science   spec:HD60753 06:40:42.458 empty~ronchi170lpmm         28.1  2.00\n",
      " 571 science   spec:HD60753 06:41:04.385 empty~ronchi170lpmm         21.9  2.00\n",
      " 572 science   spec:HD60753 06:41:19.338 empty~ronchi170lpmm         15.0  20.00\n",
      " 573 science   spec:HD60753 06:41:52.387 empty~ronchi170lpmm         33.0  20.00\n",
      " 574 science   spec:HD60753 06:42:31.481 empty~holo4_003             39.1  20.00\n",
      " 575 science   spec:HD60753 06:43:04.561 empty~holo4_003             33.1  20.00\n",
      " 576 science   spec:HD074000 06:46:22.553 empty~ronchi170lpmm        198.0  2.00\n",
      " 577 science   spec:HD074000 06:46:49.153 empty~ronchi170lpmm         26.6  2.00\n",
      " 578 science   spec:HD074000 06:47:10.510 empty~ronchi170lpmm         21.4  2.00\n",
      " 579 science   spec:HD074000 06:47:25.595 empty~ronchi170lpmm         15.1  20.00\n",
      " 580 science   spec:HD074000 06:47:58.553 empty~ronchi170lpmm         33.0  20.00\n",
      " 581 science   spec:HD074000 06:48:37.660 empty~holo4_003             39.1  20.00\n",
      " 582 science   spec:HD074000 06:49:10.686 empty~holo4_003             33.0  20.00\n",
      " 583 science   spec:HD185975 06:50:42.645 empty~ronchi170lpmm         92.0  2.00\n",
      " 584 science   spec:HD185975 06:51:11.157 empty~ronchi170lpmm         28.5  2.00\n",
      " 585 science   spec:HD185975 06:51:32.458 empty~ronchi170lpmm         21.3  2.00\n",
      " 586 science   spec:HD185975 06:51:47.530 empty~ronchi170lpmm         15.1  20.00\n",
      " 587 science   spec:HD185975 06:52:20.503 empty~ronchi170lpmm         33.0  20.00\n",
      " 588 science   spec:HD185975 06:52:59.572 empty~holo4_003             39.1  20.00\n",
      " 589 science   spec:HD185975 06:53:32.586 empty~holo4_003             33.0  20.00\n",
      " 590 science   spec:18Sco 06:56:28.454 empty~ronchi170lpmm        175.9  2.00\n",
      " 591 science   spec:18Sco 06:56:56.148 empty~ronchi170lpmm         27.7  2.00\n",
      " 592 science   spec:18Sco 06:57:17.613 empty~ronchi170lpmm         21.5  2.00\n",
      " 593 science   spec:18Sco 06:57:32.682 empty~ronchi170lpmm         15.1  20.00\n",
      " 594 science   spec:18Sco 06:58:05.705 empty~ronchi170lpmm         33.0  20.00\n",
      " 595 science   spec:18Sco 06:58:44.733 empty~holo4_003             39.0  20.00\n",
      " 596 science   spec:18Sco 06:59:17.790 empty~holo4_003             33.1  20.00\n",
      " 597 science   LATISS_E6A_00000010 07:00:22.140 SDSSr~empty                 64.3  30.00\n",
      " 598 science   LATISS_E6A_00000010 07:00:54.941 SDSSr~empty                 32.8  30.00\n",
      " 599 science   LATISS_E6A_00000010 07:01:38.392 SDSSg~empty                 43.5  30.00\n",
      " 600 science   LATISS_E6A_00000010 07:02:11.193 SDSSg~empty                 32.8  30.00\n",
      " 601 science   LATISS_E6A_00000010 07:02:53.409 SDSSi~empty                 42.2  30.00\n",
      " 602 science   LATISS_E6A_00000010 07:03:26.383 SDSSi~empty                 33.0  30.00\n",
      " 603 science   spec:HD111980 07:04:59.999 empty~ronchi170lpmm         93.6  2.00\n",
      " 604 science   spec:HD111980 07:05:27.598 empty~ronchi170lpmm         27.6  2.00\n",
      " 605 science   spec:HD111980 07:05:48.963 empty~ronchi170lpmm         21.4  2.00\n",
      " 606 science   spec:HD111980 07:06:03.935 empty~ronchi170lpmm         15.0  20.00\n",
      " 607 science   spec:HD111980 07:06:37.053 empty~ronchi170lpmm         33.1  20.00\n",
      " 608 science   spec:HD111980 07:07:16.187 empty~holo4_003             39.1  20.00\n",
      " 609 science   spec:HD111980 07:07:49.249 empty~holo4_003             33.1  20.00\n",
      " 610 engtest   HD 110780  07:09:55.290 SDSSg~empty                126.0  30.00\n",
      " 611 engtest   HD 110780  07:10:35.841 SDSSg~empty                 40.6  30.00\n",
      " 612 science   HD 110780  07:11:54.054 SDSSg~empty                 78.2  5.00\n",
      " 613 science   spec:BD11_3759 07:13:31.950 empty~ronchi170lpmm         97.9  2.00\n",
      " 614 science   spec:BD11_3759 07:13:59.048 empty~ronchi170lpmm         27.1  2.00\n",
      " 615 science   spec:BD11_3759 07:14:29.360 empty~ronchi170lpmm         30.3  2.00\n",
      " 616 science   spec:BD11_3759 07:14:44.316 empty~ronchi170lpmm         15.0  20.00\n",
      " 617 science   spec:BD11_3759 07:15:17.279 empty~ronchi170lpmm         33.0  20.00\n",
      " 618 science   spec:BD11_3759 07:15:56.972 empty~holo4_003             39.7  20.00\n",
      " 619 science   spec:BD11_3759 07:16:29.939 empty~holo4_003             33.0  20.00\n",
      " 620 science   spec:HD167060 07:17:52.955 empty~ronchi170lpmm         83.0  2.00\n",
      " 621 science   spec:HD167060 07:18:19.548 empty~ronchi170lpmm         26.6  2.00\n",
      " 622 science   spec:HD167060 07:18:40.715 empty~ronchi170lpmm         21.2  2.00\n",
      " 623 science   spec:HD167060 07:18:55.792 empty~ronchi170lpmm         15.1  20.00\n",
      " 624 science   spec:HD167060 07:19:28.805 empty~ronchi170lpmm         33.0  20.00\n",
      " 625 science   spec:HD167060 07:20:07.863 empty~holo4_003             39.1  20.00\n",
      " 626 science   spec:HD167060 07:20:40.878 empty~holo4_003             33.0  20.00\n",
      " 627 science   spec:HD160617 07:21:35.350 empty~ronchi170lpmm         54.5  2.00\n",
      " 628 science   spec:HD160617 07:22:02.553 empty~ronchi170lpmm         27.2  2.00\n",
      " 629 science   spec:HD160617 07:22:23.731 empty~ronchi170lpmm         21.2  2.00\n",
      " 630 science   spec:HD160617 07:22:38.688 empty~ronchi170lpmm         15.0  20.00\n",
      " 631 science   spec:HD160617 07:23:11.663 empty~ronchi170lpmm         33.0  20.00\n",
      " 632 science   spec:HD160617 07:23:50.683 empty~holo4_003             39.0  20.00\n",
      " 633 science   spec:HD160617 07:24:23.706 empty~holo4_003             33.0  20.00\n",
      " 634 science   spec:HD185975 07:25:33.795 empty~ronchi170lpmm         70.1  2.00\n",
      " 635 science   spec:HD185975 07:26:05.705 empty~ronchi170lpmm         31.9  2.00\n",
      " 636 science   spec:HD185975 07:26:27.145 empty~ronchi170lpmm         21.4  2.00\n",
      " 637 science   spec:HD185975 07:26:42.247 empty~ronchi170lpmm         15.1  20.00\n",
      " 638 science   spec:HD185975 07:27:15.248 empty~ronchi170lpmm         33.0  20.00\n",
      " 639 science   spec:HD185975 07:27:54.281 empty~holo4_003             39.0  20.00\n",
      " 640 science   spec:HD185975 07:28:27.304 empty~holo4_003             33.0  20.00\n",
      " 641 science   spec:HD074000 07:31:23.549 empty~ronchi170lpmm        176.2  2.00\n",
      " 642 science   spec:HD074000 07:31:59.756 empty~ronchi170lpmm         36.2  2.00\n",
      " 643 science   spec:HD074000 07:32:21.400 empty~ronchi170lpmm         21.6  2.00\n",
      " 644 science   spec:HD074000 07:32:36.504 empty~ronchi170lpmm         15.1  20.00\n",
      " 645 science   spec:HD074000 07:33:09.548 empty~ronchi170lpmm         33.0  20.00\n",
      " 646 science   spec:HD074000 07:33:49.148 empty~holo4_003             39.6  20.00\n",
      " 647 science   spec:HD074000 07:34:22.225 empty~holo4_003             33.1  20.00\n",
      " 648 science   spec:18Sco 07:36:29.003 empty~ronchi170lpmm        126.8  2.00\n",
      " 649 science   spec:18Sco 07:36:56.105 empty~ronchi170lpmm         27.1  2.00\n",
      " 650 science   spec:18Sco 07:37:17.242 empty~ronchi170lpmm         21.1  2.00\n",
      " 651 science   spec:18Sco 07:37:32.240 empty~ronchi170lpmm         15.0  20.00\n",
      " 652 science   spec:18Sco 07:38:05.246 empty~ronchi170lpmm         33.0  20.00\n",
      " 653 science   spec:18Sco 07:38:45.110 empty~holo4_003             39.9  20.00\n",
      " 654 science   spec:18Sco 07:39:18.067 empty~holo4_003             33.0  20.00\n",
      " 655 science   spec:HD167060 07:40:35.753 empty~ronchi170lpmm         77.7  2.00\n",
      " 656 science   spec:HD167060 07:41:02.754 empty~ronchi170lpmm         27.0  2.00\n",
      " 657 science   spec:HD167060 07:41:23.923 empty~ronchi170lpmm         21.2  2.00\n",
      " 658 science   spec:HD167060 07:41:39.059 empty~ronchi170lpmm         15.1  20.00\n",
      " 659 science   spec:HD167060 07:42:12.070 empty~ronchi170lpmm         33.0  20.00\n",
      " 660 science   spec:HD167060 07:42:51.099 empty~holo4_003             39.0  20.00\n",
      " 661 science   spec:HD167060 07:43:24.165 empty~holo4_003             33.1  20.00\n",
      " 662 engtest   HD 109349  07:45:29.020 SDSSg~empty                124.9  30.00\n",
      " 663 engtest   HD 109349  07:46:09.479 SDSSg~empty                 40.5  30.00\n",
      " 664 science   HD 109349  07:47:25.653 SDSSg~empty                 76.2  5.00\n",
      " 665 science   spec:HD111980 07:49:16.050 empty~ronchi170lpmm        110.4  2.00\n",
      " 666 science   spec:HD111980 07:49:44.055 empty~ronchi170lpmm         28.0  2.00\n",
      " 667 science   spec:HD111980 07:50:05.245 empty~ronchi170lpmm         21.2  2.00\n",
      " 668 science   spec:HD111980 07:50:20.271 empty~ronchi170lpmm         15.0  20.00\n",
      " 669 engtest   HD 185975  07:54:33.571 SDSSg~empty                253.3  30.00\n",
      " 670 engtest   HD 185975  07:55:14.840 SDSSg~empty                 41.3  30.00\n",
      " 671 science   spec:HD185975 07:59:04.447 empty~ronchi170lpmm        229.6  2.00\n",
      " 672 science   spec:HD185975 07:59:31.847 empty~ronchi170lpmm         27.4  2.00\n",
      " 673 science   spec:HD185975 07:59:53.111 empty~ronchi170lpmm         21.3  2.00\n",
      " 674 science   spec:HD185975 08:00:08.369 empty~ronchi170lpmm         15.3  20.00\n",
      " 675 science   spec:HD185975 08:00:41.481 empty~ronchi170lpmm         33.1  20.00\n",
      " 676 science   spec:HD185975 08:01:20.556 empty~holo4_003             39.1  20.00\n",
      " 677 science   spec:HD185975 08:01:53.538 empty~holo4_003             33.0  20.00\n",
      " 678 science   spec:HD160617 08:03:04.604 empty~ronchi170lpmm         71.1  2.00\n",
      " 679 science   spec:HD160617 08:03:31.498 empty~ronchi170lpmm         26.9  2.00\n",
      " 680 science   spec:HD160617 08:03:53.147 empty~ronchi170lpmm         21.6  2.00\n",
      " 681 science   spec:HD160617 08:04:08.112 empty~ronchi170lpmm         15.0  20.00\n",
      " 682 science   spec:HD160617 08:04:41.263 empty~ronchi170lpmm         33.2  20.00\n",
      " 683 science   spec:HD160617 08:05:20.449 empty~holo4_003             39.2  20.00\n",
      " 684 science   spec:HD160617 08:05:53.645 empty~holo4_003             33.2  20.00\n",
      " 685 science   spec:18Sco 08:07:00.102 empty~ronchi170lpmm         66.5  2.00\n",
      " 686 science   spec:18Sco 08:07:27.201 empty~ronchi170lpmm         27.1  2.00\n",
      " 687 science   spec:18Sco 08:07:48.781 empty~ronchi170lpmm         21.6  2.00\n",
      " 688 science   spec:18Sco 08:08:03.865 empty~ronchi170lpmm         15.1  20.00\n",
      " 689 science   spec:18Sco 08:08:37.040 empty~ronchi170lpmm         33.2  20.00\n",
      " 690 science   spec:18Sco 08:09:16.060 empty~holo4_003             39.0  20.00\n",
      " 691 science   spec:18Sco 08:09:49.189 empty~holo4_003             33.1  20.00\n",
      " 692 science   spec:BD11_3759 08:10:41.304 empty~ronchi170lpmm         52.1  2.00\n",
      " 693 science   spec:BD11_3759 08:11:08.602 empty~ronchi170lpmm         27.3  2.00\n",
      " 694 science   spec:BD11_3759 08:11:30.085 empty~ronchi170lpmm         21.5  2.00\n",
      " 695 science   spec:BD11_3759 08:11:45.049 empty~ronchi170lpmm         15.0  20.00\n",
      " 696 science   spec:BD11_3759 08:12:18.006 empty~ronchi170lpmm         33.0  20.00\n",
      " 697 science   spec:BD11_3759 08:12:57.108 empty~holo4_003             39.1  20.00\n",
      " 698 science   spec:BD11_3759 08:13:30.209 empty~holo4_003             33.1  20.00\n",
      " 699 science   spec:HD111980 08:14:51.504 empty~ronchi170lpmm         81.3  2.00\n",
      " 700 science   spec:HD111980 08:15:19.007 empty~ronchi170lpmm         27.5  2.00\n",
      " 701 science   spec:HD111980 08:15:40.368 empty~ronchi170lpmm         21.4  2.00\n",
      " 702 science   spec:HD111980 08:15:55.372 empty~ronchi170lpmm         15.0  20.00\n",
      " 703 science   spec:HD111980 08:16:28.443 empty~ronchi170lpmm         33.1  20.00\n",
      " 704 science   spec:HD111980 08:17:07.731 empty~holo4_003             39.3  20.00\n",
      " 705 science   spec:HD111980 08:17:40.792 empty~holo4_003             33.1  20.00\n",
      " 706 science   spec:HD167060 08:19:54.457 empty~ronchi170lpmm        133.7  2.00\n",
      " 707 science   spec:HD167060 08:20:21.709 empty~ronchi170lpmm         27.3  2.00\n",
      " 708 science   spec:HD167060 08:20:42.783 empty~ronchi170lpmm         21.1  2.00\n",
      " 709 science   spec:HD167060 08:20:57.800 empty~ronchi170lpmm         15.0  20.00\n",
      " 710 science   spec:HD167060 08:21:30.765 empty~ronchi170lpmm         33.0  20.00\n",
      " 711 science   spec:HD167060 08:22:09.845 empty~holo4_003             39.1  20.00\n",
      " 712 science   spec:HD167060 08:22:42.870 empty~holo4_003             33.0  20.00\n",
      " 713 science   spec:HD185975 08:23:41.198 empty~ronchi170lpmm         58.3  2.00\n",
      " 714 science   spec:HD185975 08:24:07.908 empty~ronchi170lpmm         26.7  2.00\n",
      " 715 science   spec:HD185975 08:24:29.479 empty~ronchi170lpmm         21.6  2.00\n",
      " 716 science   spec:HD185975 08:24:44.480 empty~ronchi170lpmm         15.0  20.00\n",
      " 717 science   spec:HD185975 08:25:17.552 empty~ronchi170lpmm         33.1  20.00\n",
      " 718 science   spec:HD185975 08:25:56.670 empty~holo4_003             39.1  20.00\n",
      " 719 science   spec:HD185975 08:26:29.713 empty~holo4_003             33.0  20.00\n",
      " 720 science   spec:HD160617 08:27:41.249 empty~ronchi170lpmm         71.5  2.00\n",
      " 721 science   spec:HD160617 08:28:08.447 empty~ronchi170lpmm         27.2  2.00\n",
      " 722 science   spec:HD160617 08:28:38.865 empty~ronchi170lpmm         30.4  2.00\n",
      " 723 science   spec:HD160617 08:28:53.837 empty~ronchi170lpmm         15.0  20.00\n",
      " 724 science   spec:HD160617 08:29:27.014 empty~ronchi170lpmm         33.2  20.00\n",
      " 725 science   spec:HD160617 08:30:06.091 empty~holo4_003             39.1  20.00\n",
      " 726 science   spec:HD160617 08:30:39.221 empty~holo4_003             33.1  20.00\n",
      " 727 engtest   HD 126615  08:46:18.204 SDSSg~empty                939.0  30.00\n",
      " 728 engtest   HD 126615  08:46:59.659 SDSSg~empty                 41.5  30.00\n",
      " 729 engtest   HD 126615  08:48:16.901 SDSSg~empty                 77.2  30.00\n",
      " 730 engtest   HD 126615  08:48:55.302 SDSSg~empty                 38.4  30.00\n",
      " 731 science   HD 126615  08:50:12.117 SDSSg~empty                 76.8  5.00\n",
      " 732 science   spec:BD11_3759 08:51:57.748 empty~ronchi170lpmm        105.6  2.00\n",
      " 733 science   spec:BD11_3759 08:52:24.551 empty~ronchi170lpmm         26.8  2.00\n",
      " 734 science   spec:BD11_3759 08:52:45.618 empty~ronchi170lpmm         21.1  2.00\n",
      " 735 science   spec:BD11_3759 08:53:00.681 empty~ronchi170lpmm         15.1  20.00\n",
      " 736 science   spec:BD11_3759 08:53:33.670 empty~ronchi170lpmm         33.0  20.00\n",
      " 737 science   spec:BD11_3759 08:54:12.748 empty~holo4_003             39.1  20.00\n",
      " 738 science   spec:BD11_3759 08:54:45.734 empty~holo4_003             33.0  20.00\n",
      " 739 science   spec:18Sco 08:55:46.506 empty~ronchi170lpmm         60.8  2.00\n",
      " 740 science   spec:18Sco 08:56:14.053 empty~ronchi170lpmm         27.5  2.00\n",
      " 741 science   spec:18Sco 08:56:35.875 empty~ronchi170lpmm         21.8  2.00\n",
      " 742 science   spec:18Sco 08:56:50.847 empty~ronchi170lpmm         15.0  20.00\n",
      " 743 science   spec:18Sco 08:57:23.907 empty~ronchi170lpmm         33.1  20.00\n",
      " 744 science   spec:18Sco 08:58:03.605 empty~holo4_003             39.7  20.00\n",
      " 745 science   spec:18Sco 08:58:36.685 empty~holo4_003             33.1  20.00\n",
      " 746 science   spec:HD111980 09:00:19.404 empty~ronchi170lpmm        102.7  2.00\n",
      " 747 science   spec:HD111980 09:00:46.807 empty~ronchi170lpmm         27.4  2.00\n",
      " 748 science   spec:HD111980 09:01:08.083 empty~ronchi170lpmm         21.3  2.00\n",
      " 749 science   spec:HD111980 09:01:23.065 empty~ronchi170lpmm         15.0  20.00\n",
      " 750 science   spec:HD111980 09:01:56.228 empty~ronchi170lpmm         33.2  20.00\n",
      " 751 science   spec:HD111980 09:02:35.902 empty~holo4_003             39.7  20.00\n",
      " 752 science   spec:HD111980 09:03:08.865 empty~holo4_003             33.0  20.00\n",
      " 753 science   spec:HD160617 09:05:22.454 empty~ronchi170lpmm        133.6  2.00\n",
      " 754 science   spec:HD160617 09:05:50.112 empty~ronchi170lpmm         27.7  2.00\n",
      " 755 science   spec:HD160617 09:06:11.595 empty~ronchi170lpmm         21.5  2.00\n",
      " 756 science   spec:HD160617 09:06:26.628 empty~ronchi170lpmm         15.0  20.00\n",
      " 757 science   spec:HD160617 09:06:59.790 empty~ronchi170lpmm         33.2  20.00\n",
      " 758 science   spec:HD160617 09:07:38.844 empty~holo4_003             39.1  20.00\n",
      " 759 science   spec:HD160617 09:08:11.949 empty~holo4_003             33.1  20.00\n",
      " 760 science   spec:HD167060 09:09:10.294 empty~ronchi170lpmm         58.3  2.00\n",
      " 761 science   spec:HD167060 09:09:37.157 empty~ronchi170lpmm         26.9  2.00\n",
      " 762 science   spec:HD167060 09:09:58.620 empty~ronchi170lpmm         21.5  2.00\n",
      " 763 science   spec:HD167060 09:10:13.705 empty~ronchi170lpmm         15.1  20.00\n",
      " 764 science   spec:HD167060 09:10:46.663 empty~ronchi170lpmm         33.0  20.00\n",
      " 765 science   spec:HD167060 09:11:25.735 empty~holo4_003             39.1  20.00\n",
      " 766 science   spec:HD167060 09:11:58.853 empty~holo4_003             33.1  20.00\n",
      " 767 science   spec:HD185975 09:12:57.196 empty~ronchi170lpmm         58.3  2.00\n",
      " 768 science   spec:HD185975 09:13:24.807 empty~ronchi170lpmm         27.6  2.00\n",
      " 769 science   spec:HD185975 09:13:55.005 empty~ronchi170lpmm         30.2  2.00\n",
      " 770 science   spec:HD185975 09:14:16.757 empty~ronchi170lpmm         21.8  2.00\n",
      " 771 science   spec:HD185975 09:14:31.733 empty~ronchi170lpmm         15.0  20.00\n",
      " 772 science   spec:HD185975 09:15:04.705 empty~ronchi170lpmm         33.0  20.00\n",
      " 773 science   spec:HD185975 09:15:43.829 empty~holo4_003             39.1  20.00\n",
      " 774 science   spec:HD185975 09:16:16.806 empty~holo4_003             33.0  20.00\n"
     ]
    }
   ],
   "source": [
    "reporter.printObsTable()"
   ]
  },
  {
   "cell_type": "code",
   "execution_count": 17,
   "id": "dd292ba4",
   "metadata": {},
   "outputs": [
    {
     "data": {
      "text/plain": [
       "['LATISS_MD02_00000046',\n",
       " 'LATISS_MD02_00000052',\n",
       " 'LATISS_MD02_00000070',\n",
       " 'LATISS_E6A_00000040',\n",
       " 'slew_icrs']"
      ]
     },
     "execution_count": 17,
     "metadata": {},
     "output_type": "execute_result"
    }
   ],
   "source": [
    "reporter.getObservedObjects()[:5]"
   ]
  },
  {
   "cell_type": "code",
   "execution_count": 19,
   "id": "927afdb6",
   "metadata": {},
   "outputs": [],
   "source": [
    "logbookdata = reporter.data"
   ]
  },
  {
   "cell_type": "code",
   "execution_count": 20,
   "id": "043cb63f",
   "metadata": {},
   "outputs": [],
   "source": [
    "def GetSequenceFromDisperserName(logbook,dispname):\n",
    "    \"\"\"\n",
    "    \n",
    "    - logbook : Dictionnary of sequences\n",
    "    - dispname : Disperser name\n",
    "    \n",
    "    \"\"\"\n",
    "    \n",
    "    all_seqnum = []\n",
    "    \n",
    "    for idx in logbook.keys():\n",
    "        seqnum=logbook[idx]['SEQNUM']\n",
    "        grating=logbook[idx]['GRATING']\n",
    "        if grating == dispname:\n",
    "            all_seqnum.append(seqnum)\n",
    "            \n",
    "    return all_seqnum\n",
    "        "
   ]
  },
  {
   "cell_type": "code",
   "execution_count": 21,
   "id": "eb8fabef",
   "metadata": {},
   "outputs": [],
   "source": [
    "my_seqnum_selected = GetSequenceFromDisperserName(logbookdata,DISPERSER_SEL)"
   ]
  },
  {
   "cell_type": "code",
   "execution_count": 22,
   "id": "580ef15d",
   "metadata": {},
   "outputs": [],
   "source": [
    "my_seqnum_selected.sort()"
   ]
  },
  {
   "cell_type": "code",
   "execution_count": 23,
   "id": "b12f4de1",
   "metadata": {},
   "outputs": [
    {
     "name": "stdout",
     "output_type": "stream",
     "text": [
      "[1, 2, 3, 281, 282, 289, 290, 296, 297, 303, 304, 310, 311, 317, 318, 324, 325, 331, 332, 338, 339, 345, 346, 352, 353, 359, 360, 366, 367, 376, 377, 387, 388, 394, 395, 401, 402, 408, 409, 415, 416, 422, 423, 436, 437, 450, 451, 457, 458, 464, 465, 471, 472, 478, 479, 485, 486, 492, 493, 499, 500, 512, 513, 519, 520, 526, 527, 533, 534, 540, 541, 547, 548, 560, 561, 567, 568, 574, 575, 581, 582, 588, 589, 595, 596, 608, 609, 618, 619, 625, 626, 632, 633, 639, 640, 646, 647, 653, 654, 660, 661, 676, 677, 683, 684, 690, 691, 697, 698, 704, 705, 711, 712, 718, 719, 725, 726, 737, 738, 744, 745, 751, 752, 758, 759, 765, 766, 773, 774]\n"
     ]
    }
   ],
   "source": [
    "print(my_seqnum_selected)"
   ]
  },
  {
   "cell_type": "markdown",
   "id": "db21cd1e",
   "metadata": {},
   "source": [
    "# Butler"
   ]
  },
  {
   "cell_type": "markdown",
   "id": "e1e9a2d6",
   "metadata": {},
   "source": [
    "## Configuration for Butler"
   ]
  },
  {
   "cell_type": "code",
   "execution_count": 24,
   "id": "81e65681",
   "metadata": {},
   "outputs": [],
   "source": [
    "#butler=dafPersist.Butler(\"/project/shared/auxTel\")\n",
    "butler=dafPersist.Butler(repoDir)"
   ]
  },
  {
   "cell_type": "markdown",
   "id": "c8c4cb29",
   "metadata": {},
   "source": [
    "## Sequence selection"
   ]
  },
  {
   "cell_type": "code",
   "execution_count": 26,
   "id": "8e89852b",
   "metadata": {},
   "outputs": [],
   "source": [
    "# Flats\n",
    "#all_myseq_flats=range(62,73)\n",
    "\n",
    "# wide scan\n",
    "# -----------\n",
    "#all_myseq_holo=range(234,310)\n",
    "# narrow scan\n",
    "#-----------\n",
    "all_myseq_holo = my_seqnum_selected \n",
    "\n",
    "if FLAG_FLAT_SELECTION:\n",
    "    all_myseq=all_myseq_flats\n",
    "else:\n",
    "    all_myseq=all_myseq_holo"
   ]
  },
  {
   "cell_type": "code",
   "execution_count": 27,
   "id": "e22ef71f",
   "metadata": {},
   "outputs": [],
   "source": [
    "seqNum=all_myseq[0]"
   ]
  },
  {
   "cell_type": "code",
   "execution_count": 28,
   "id": "9442098b",
   "metadata": {},
   "outputs": [
    {
     "data": {
      "text/plain": [
       "1"
      ]
     },
     "execution_count": 28,
     "metadata": {},
     "output_type": "execute_result"
    }
   ],
   "source": [
    "seqNum"
   ]
  },
  {
   "cell_type": "markdown",
   "id": "ddaf2926",
   "metadata": {},
   "source": [
    "## Display"
   ]
  },
  {
   "cell_type": "code",
   "execution_count": 29,
   "id": "af5e3b28",
   "metadata": {},
   "outputs": [
    {
     "data": {
      "text/html": [
       "Open your web browser to <a href=\"https://lsst-lsp-stable.ncsa.illinois.edu/portal/app/slate.html?__wsch=sylviedc_debug_2021_07_07\"\" target=\"_blank\">this link</a>"
      ],
      "text/plain": [
       "<IPython.core.display.HTML object>"
      ]
     },
     "metadata": {},
     "output_type": "display_data"
    }
   ],
   "source": [
    "display1=afwDisplay.getDisplay(frame=1,port=80,name='sylviedc_debug_2021_07_07',url=os.environ[\"FIREFLY_URL\"])"
   ]
  },
  {
   "cell_type": "code",
   "execution_count": 30,
   "id": "34578f2f",
   "metadata": {},
   "outputs": [
    {
     "name": "stderr",
     "output_type": "stream",
     "text": [
      "WARNING:obs.lsst.assembly:(minimum=(0, 0), maximum=(543, 2047)): (minimum=(0, 0), maximum=(575, 2047))\n",
      "WARNING:obs.lsst.assembly:argDict[boresightAirmass] is None; stripping\n"
     ]
    }
   ],
   "source": [
    "raw=butler.get('raw',dayObs=dayObs,seqNum=seqNum)"
   ]
  },
  {
   "cell_type": "code",
   "execution_count": 31,
   "id": "a5a1d581",
   "metadata": {},
   "outputs": [],
   "source": [
    "# and this command show the image\n",
    "display1.mtv(raw)"
   ]
  },
  {
   "cell_type": "code",
   "execution_count": 32,
   "id": "aad8f29a",
   "metadata": {},
   "outputs": [
    {
     "data": {
      "text/html": [
       "Open your web browser to <a href=\"https://lsst-lsp-stable.ncsa.illinois.edu/portal/app/slate.html?__wsch=sylviedc_debug_2021_07_07\"\" target=\"_blank\">this link</a>"
      ],
      "text/plain": [
       "<IPython.core.display.HTML object>"
      ]
     },
     "metadata": {},
     "output_type": "display_data"
    }
   ],
   "source": [
    "display1.getClient().display_url()"
   ]
  },
  {
   "cell_type": "markdown",
   "id": "988d9ba7",
   "metadata": {},
   "source": [
    "## Access to image sequence"
   ]
  },
  {
   "cell_type": "code",
   "execution_count": 33,
   "id": "249736ab",
   "metadata": {},
   "outputs": [
    {
     "name": "stdout",
     "output_type": "stream",
     "text": [
      "[1, 2, 3, 4, 5, 10, 11, 7, 6, 9, 8, 14, 20, 19, 15, 17, 13, 18, 12, 16, 23, 22, 24, 21, 25, 26, 27, 28, 29, 30, 31, 32, 33, 34, 35, 36, 37, 38, 39, 40, 41, 42, 43, 44, 45, 49, 50, 47, 46, 48, 51, 52, 54, 55, 53, 59, 56, 58, 57, 61, 60, 64, 63, 62, 66, 67, 68, 69, 70, 71, 72, 73, 74, 75, 76, 77, 78, 79, 80, 81, 82, 83, 84, 85, 86, 87, 88, 89, 90, 91, 92, 93, 94, 95, 96, 97, 98, 99, 100, 101, 102, 103, 104, 105, 106, 107, 108, 109, 110, 111, 112, 113, 114, 115, 116, 117, 118, 119, 120, 121, 122, 123, 124, 125, 126, 127, 128, 129, 130, 131, 132, 133, 134, 135, 136, 137, 138, 139, 140, 141, 142, 143, 144, 145, 146, 147, 148, 149, 150, 151, 152, 153, 154, 155, 156, 157, 158, 159, 160, 161, 162, 163, 164, 165, 166, 167, 168, 169, 170, 171, 172, 173, 174, 175, 176, 177, 178, 179, 180, 181, 182, 183, 184, 185, 186, 187, 188, 189, 190, 191, 192, 193, 194, 195, 196, 197, 198, 199, 200, 201, 202, 203, 204, 205, 206, 207, 208, 209, 210, 211, 212, 213, 214, 215, 216, 217, 218, 219, 220, 221, 222, 223, 224, 225, 226, 227, 228, 229, 230, 231, 232, 233, 234, 235, 236, 237, 238, 239, 240, 241, 242, 243, 244, 245, 246, 247, 248, 249, 250, 251, 252, 253, 254, 255, 256, 257, 258, 259, 260, 261, 262, 263, 264, 265, 266, 267, 268, 269, 270, 271, 272, 273, 274, 275, 276, 277, 278, 279, 280, 281, 282, 283, 284, 285, 286, 287, 288, 289, 290, 291, 292, 293, 294, 295, 296, 297, 298, 299, 300, 301, 302, 303, 304, 305, 306, 307, 308, 309, 310, 311, 312, 313, 314, 315, 316, 317, 318, 319, 320, 321, 322, 323, 324, 325, 326, 327, 328, 329, 330, 331, 332, 333, 334, 335, 336, 337, 338, 339, 340, 341, 342, 343, 344, 345, 346, 347, 348, 349, 350, 351, 352, 353, 354, 355, 356, 357, 358, 359, 360, 361, 362, 363, 364, 365, 366, 367, 368, 369, 370, 371, 372, 373, 374, 375, 376, 377, 378, 379, 380, 381, 382, 383, 384, 385, 386, 387, 388, 389, 390, 391, 392, 393, 394, 395, 396, 397, 398, 399, 400, 401, 402, 403, 404, 405, 406, 407, 408, 409, 410, 411, 412, 413, 414, 415, 416, 417, 418, 419, 420, 421, 422, 423, 424, 425, 426, 427, 428, 429, 430, 431, 432, 433, 434, 435, 436, 437, 438, 439, 440, 441, 442, 443, 444, 445, 446, 447, 448, 449, 450, 451, 452, 453, 454, 455, 456, 457, 458, 459, 460, 461, 462, 463, 464, 465, 466, 467, 468, 469, 470, 471, 472, 473, 474, 475, 476, 477, 478, 479, 480, 481, 482, 483, 484, 485, 486, 487, 488, 489, 490, 491, 492, 493, 494, 495, 496, 497, 498, 499, 500, 501, 502, 503, 504, 505, 506, 507, 508, 509, 510, 511, 512, 513, 514, 515, 516, 517, 518, 519, 520, 521, 522, 523, 524, 525, 526, 527, 528, 529, 530, 531, 532, 533, 534, 535, 536, 537, 538, 539, 540, 541, 542, 543, 544, 545, 546, 547, 548, 549, 550, 551, 552, 553, 554, 555, 556, 557, 558, 559, 560, 561, 562, 563, 564, 565, 566, 567, 568, 569, 570, 571, 572, 573, 574, 575, 576, 577, 578, 579, 580, 581, 582, 583, 584, 585, 586, 587, 588, 589, 590, 591, 592, 593, 594, 595, 596, 597, 598, 599, 600, 601, 602, 603, 604, 605, 606, 607, 608, 609, 610, 611, 612, 613, 614, 615, 616, 617, 618, 619, 620, 621, 622, 623, 624, 625, 626, 627, 628, 629, 630, 631, 632, 633, 634, 635, 636, 637, 638, 639, 640, 641, 642, 643, 644, 645, 646, 647, 648, 649, 650, 651, 652, 653, 654, 655, 656, 657, 658, 659, 660, 661, 662, 663, 664, 665, 666, 667, 668, 669, 670, 671, 672, 673, 674, 675, 676, 677, 678, 679, 680, 681, 682, 683, 684, 685, 686, 687, 688, 689, 690, 691, 692, 693, 694, 695, 696, 697, 698, 699, 700, 701, 702, 703, 704, 705, 706, 707, 708, 709, 710, 711, 712, 713, 714, 715, 716, 717, 718, 719, 720, 721, 722, 723, 724, 725, 726, 727, 728, 729, 730, 731, 732, 733, 734, 735, 736, 737, 738, 739, 740, 741, 742, 743, 744, 745, 746, 747, 748, 749, 750, 751, 752, 753, 754, 755, 756, 757, 758, 759, 760, 761, 762, 763, 764, 765, 766, 767, 768, 769, 770, 771, 772, 773, 774]\n"
     ]
    }
   ],
   "source": [
    "print(butler.queryMetadata('raw','seqNum',dayObs=dayObs))"
   ]
  },
  {
   "cell_type": "markdown",
   "id": "bc20518a",
   "metadata": {},
   "source": [
    "## Access to quickLookExp image\n",
    "\n",
    "- assembled\n",
    "- defect and bias corrected\n",
    "- not unflatfielded\n"
   ]
  },
  {
   "cell_type": "code",
   "execution_count": 35,
   "id": "2fe1377b",
   "metadata": {},
   "outputs": [
    {
     "ename": "NoResults",
     "evalue": "No locations for get: datasetType:quickLookExp dataId:DataId(initialdata={'dayObs': '2022-02-16', 'seqNum': 281}, tag=set())",
     "output_type": "error",
     "traceback": [
      "\u001b[0;31m---------------------------------------------------------------------------\u001b[0m",
      "\u001b[0;31mNoResults\u001b[0m                                 Traceback (most recent call last)",
      "\u001b[0;32m<ipython-input-35-a19bf77beb73>\u001b[0m in \u001b[0;36m<module>\u001b[0;34m\u001b[0m\n\u001b[0;32m----> 1\u001b[0;31m \u001b[0mexp\u001b[0m\u001b[0;34m=\u001b[0m\u001b[0mbutler\u001b[0m\u001b[0;34m.\u001b[0m\u001b[0mget\u001b[0m\u001b[0;34m(\u001b[0m\u001b[0;34m'quickLookExp'\u001b[0m\u001b[0;34m,\u001b[0m\u001b[0mdayObs\u001b[0m\u001b[0;34m=\u001b[0m\u001b[0mdayObs\u001b[0m\u001b[0;34m,\u001b[0m\u001b[0mseqNum\u001b[0m\u001b[0;34m=\u001b[0m\u001b[0;36m281\u001b[0m\u001b[0;34m)\u001b[0m\u001b[0;34m\u001b[0m\u001b[0;34m\u001b[0m\u001b[0m\n\u001b[0m",
      "\u001b[0;32m/opt/lsst/software/stack/stack/miniconda3-py38_4.9.2-0.7.0/Linux64/daf_persistence/22.0.1-2-g6cc2200+a441c9b5a1/python/lsst/daf/persistence/butler.py\u001b[0m in \u001b[0;36mget\u001b[0;34m(self, datasetType, dataId, immediate, **rest)\u001b[0m\n\u001b[1;32m   1399\u001b[0m         \u001b[0mlocation\u001b[0m \u001b[0;34m=\u001b[0m \u001b[0mself\u001b[0m\u001b[0;34m.\u001b[0m\u001b[0m_locate\u001b[0m\u001b[0;34m(\u001b[0m\u001b[0mdatasetType\u001b[0m\u001b[0;34m,\u001b[0m \u001b[0mdataId\u001b[0m\u001b[0;34m,\u001b[0m \u001b[0mwrite\u001b[0m\u001b[0;34m=\u001b[0m\u001b[0;32mFalse\u001b[0m\u001b[0;34m)\u001b[0m\u001b[0;34m\u001b[0m\u001b[0;34m\u001b[0m\u001b[0m\n\u001b[1;32m   1400\u001b[0m         \u001b[0;32mif\u001b[0m \u001b[0mlocation\u001b[0m \u001b[0;32mis\u001b[0m \u001b[0;32mNone\u001b[0m\u001b[0;34m:\u001b[0m\u001b[0;34m\u001b[0m\u001b[0;34m\u001b[0m\u001b[0m\n\u001b[0;32m-> 1401\u001b[0;31m             \u001b[0;32mraise\u001b[0m \u001b[0mNoResults\u001b[0m\u001b[0;34m(\u001b[0m\u001b[0;34m\"No locations for get:\"\u001b[0m\u001b[0;34m,\u001b[0m \u001b[0mdatasetType\u001b[0m\u001b[0;34m,\u001b[0m \u001b[0mdataId\u001b[0m\u001b[0;34m)\u001b[0m\u001b[0;34m\u001b[0m\u001b[0;34m\u001b[0m\u001b[0m\n\u001b[0m\u001b[1;32m   1402\u001b[0m         \u001b[0mself\u001b[0m\u001b[0;34m.\u001b[0m\u001b[0mlog\u001b[0m\u001b[0;34m.\u001b[0m\u001b[0mdebug\u001b[0m\u001b[0;34m(\u001b[0m\u001b[0;34m\"Get type=%s keys=%s from %s\"\u001b[0m\u001b[0;34m,\u001b[0m \u001b[0mdatasetType\u001b[0m\u001b[0;34m,\u001b[0m \u001b[0mdataId\u001b[0m\u001b[0;34m,\u001b[0m \u001b[0mstr\u001b[0m\u001b[0;34m(\u001b[0m\u001b[0mlocation\u001b[0m\u001b[0;34m)\u001b[0m\u001b[0;34m)\u001b[0m\u001b[0;34m\u001b[0m\u001b[0;34m\u001b[0m\u001b[0m\n\u001b[1;32m   1403\u001b[0m \u001b[0;34m\u001b[0m\u001b[0m\n",
      "\u001b[0;31mNoResults\u001b[0m: No locations for get: datasetType:quickLookExp dataId:DataId(initialdata={'dayObs': '2022-02-16', 'seqNum': 281}, tag=set())"
     ]
    }
   ],
   "source": [
    "exp=butler.get('quickLookExp',dayObs=dayObs,seqNum=281)"
   ]
  },
  {
   "cell_type": "code",
   "execution_count": null,
   "id": "48ec37fa",
   "metadata": {},
   "outputs": [],
   "source": [
    "exp_image=exp.image.array"
   ]
  },
  {
   "cell_type": "code",
   "execution_count": null,
   "id": "519e2369",
   "metadata": {},
   "outputs": [],
   "source": [
    "# Must flip for Spectractor reading\n",
    "flip_image=np.flip(exp_image, 0)"
   ]
  },
  {
   "cell_type": "code",
   "execution_count": null,
   "id": "da1d10bd",
   "metadata": {},
   "outputs": [],
   "source": [
    "fig = plt.figure(figsize=(20,10))\n",
    "ax=fig.add_subplot(121)\n",
    "ax.imshow(flip_image,origin='lower',cmap=\"jet\",norm=LogNorm())\n",
    "ax=fig.add_subplot(122)\n",
    "ax.imshow(flip_image,origin='lower',cmap=\"gray\",norm=LogNorm())\n",
    "plt.show()"
   ]
  },
  {
   "cell_type": "code",
   "execution_count": null,
   "id": "7f066be5",
   "metadata": {},
   "outputs": [],
   "source": [
    "type(flip_image)"
   ]
  },
  {
   "cell_type": "code",
   "execution_count": null,
   "id": "77899d72",
   "metadata": {},
   "outputs": [],
   "source": [
    "exp_image.shape"
   ]
  },
  {
   "cell_type": "code",
   "execution_count": null,
   "id": "5fa32f7a",
   "metadata": {},
   "outputs": [],
   "source": [
    "plt.imshow(flip_image)"
   ]
  },
  {
   "cell_type": "markdown",
   "id": "0b929cd7",
   "metadata": {},
   "source": [
    "## Meta Data"
   ]
  },
  {
   "cell_type": "code",
   "execution_count": null,
   "id": "01478874",
   "metadata": {},
   "outputs": [],
   "source": [
    "md=butler.get(\"raw_md\",dayObs=dayObs,seqNum=seqNum)"
   ]
  },
  {
   "cell_type": "code",
   "execution_count": null,
   "id": "690e0ba2",
   "metadata": {},
   "outputs": [],
   "source": [
    "del md['DATASEC']\n",
    "del md['COMMENT']\n",
    "ha = md['HASTART']\n",
    "#del md['HASTART']\n",
    "md['HA'] = ha"
   ]
  },
  {
   "cell_type": "code",
   "execution_count": null,
   "id": "209a2273",
   "metadata": {},
   "outputs": [],
   "source": []
  },
  {
   "cell_type": "code",
   "execution_count": null,
   "id": "3141cffe",
   "metadata": {},
   "outputs": [],
   "source": [
    "md.toDict()"
   ]
  },
  {
   "cell_type": "markdown",
   "id": "fed5bdc1",
   "metadata": {},
   "source": [
    "# Start"
   ]
  },
  {
   "cell_type": "code",
   "execution_count": null,
   "id": "48cb526c",
   "metadata": {},
   "outputs": [],
   "source": [
    "plt.rcParams[\"axes.labelsize\"] = 'large'\n",
    "plt.rcParams['axes.titlesize'] = 'large'\n",
    "plt.rcParams['xtick.labelsize']= 'large'\n",
    "plt.rcParams['ytick.labelsize']= 'large'"
   ]
  },
  {
   "cell_type": "code",
   "execution_count": null,
   "id": "15643bf8",
   "metadata": {},
   "outputs": [],
   "source": [
    "all_my_exp_array=[]\n",
    "all_my_header=[]\n",
    "all_my_object=[]\n",
    "all_my_seq=[]\n",
    "all_my_grating=[]\n",
    "all_my_filter=[]\n",
    "all_my_date=[]\n",
    "\n",
    "\n",
    "for seqNum in all_myseq:\n",
    "    exp=butler.get('quickLookExp',dayObs=dayObs,seqNum=seqNum)\n",
    "    md=butler.get(\"raw_md\",dayObs=dayObs,seqNum=seqNum)\n",
    "    \n",
    "    header=md.toDict()\n",
    "    \n",
    "    #decode header\n",
    "    \n",
    "    obj_name=header['OBJECT']\n",
    "    obj_name2 = ''.join(obj_name.split())\n",
    "    grating=header['GRATING']\n",
    "    obsid=header['OBSID']\n",
    "    date=obsid.replace('AT_O_','') # remove pre-tag to get date only and seqnum\n",
    "    filter_name=header['FILTER']\n",
    "    filter_name2=filter_name.split(\"_\")[0]   # cut empty_1 to empty\n",
    "    \n",
    "    # work on header to remove bad things for ds9\n",
    "    del header['DATASEC']\n",
    "    del header['COMMENT']\n",
    "    ha = header['HASTART']\n",
    "    #del header['HASTART']\n",
    "    header['HA'] = ha\n",
    "        \n",
    "    \n",
    "    \n",
    "    # select only pre-selected disperser\n",
    "    if grating == DISPERSER_SEL and not FLAG_FLAT_SELECTION: \n",
    "        exp_image=exp.image.array\n",
    "        flip_image=np.flip(exp_image, 0)  # flip the image for Spectractor\n",
    "        all_my_exp_array.append(np.copy(flip_image))\n",
    "        all_my_header.append(header)\n",
    "        all_my_object.append(obj_name2)\n",
    "        all_my_seq.append(header['SEQNUM'])\n",
    "        all_my_grating.append(grating)\n",
    "        all_my_filter.append(filter_name2)\n",
    "        all_my_date.append(date)\n",
    "    else:  # Flats\n",
    "        exp_image=exp.image.array\n",
    "        flip_image=np.flip(exp_image, 0)  # flip the image for Spectractor\n",
    "        all_my_exp_array.append(np.copy(flip_image))\n",
    "        all_my_header.append(header)\n",
    "        all_my_object.append(obj_name2)\n",
    "        all_my_seq.append(header['SEQNUM'])\n",
    "        all_my_grating.append(grating)\n",
    "        all_my_filter.append(filter_name2)\n",
    "        all_my_date.append(date)"
   ]
  },
  {
   "cell_type": "code",
   "execution_count": null,
   "id": "d5e2a7f1",
   "metadata": {},
   "outputs": [],
   "source": [
    "idx=0\n",
    "for exp_img in all_my_exp_array:\n",
    "    print(idx,\"......\" ,exp_img.shape,'obj=',all_my_object[idx],\"filt=\",all_my_filter[idx],\"disp=\",all_my_grating[idx])\n",
    "    idx+=1"
   ]
  },
  {
   "cell_type": "markdown",
   "id": "04d8ecb7",
   "metadata": {},
   "source": [
    "## Total number of images"
   ]
  },
  {
   "cell_type": "code",
   "execution_count": null,
   "id": "6852b486",
   "metadata": {},
   "outputs": [],
   "source": [
    "NSEL=len(all_my_exp_array)"
   ]
  },
  {
   "cell_type": "code",
   "execution_count": null,
   "id": "fc3cb856",
   "metadata": {},
   "outputs": [],
   "source": [
    "NSEL"
   ]
  },
  {
   "cell_type": "markdown",
   "id": "3e916d81",
   "metadata": {},
   "source": [
    "# Plot"
   ]
  },
  {
   "cell_type": "code",
   "execution_count": null,
   "id": "f5857f65",
   "metadata": {},
   "outputs": [],
   "source": [
    "idx=0"
   ]
  },
  {
   "cell_type": "code",
   "execution_count": null,
   "id": "cf06da2b",
   "metadata": {},
   "outputs": [],
   "source": [
    "fig = plt.figure(figsize=(10,10))\n",
    "ax=fig.add_subplot(111)\n",
    "ax.imshow(all_my_exp_array[idx],origin='lower',cmap=\"jet\",norm=LogNorm())\n",
    "plt.show()"
   ]
  },
  {
   "cell_type": "code",
   "execution_count": null,
   "id": "229e2d70",
   "metadata": {},
   "outputs": [],
   "source": [
    "\n",
    "Ncol=4\n",
    "Nrow=2\n",
    "Ntot=Ncol*Nrow\n",
    "\n",
    "fig = plt.figure(figsize=(20,20))\n",
    "\n",
    "# loop on angle\n",
    "for idx in np.arange(Ntot):\n",
    "    if idx>=NSEL:\n",
    "        break\n",
    "        \n",
    "    ax=fig.add_subplot(Nrow,Ncol,idx+1)\n",
    "    ax.imshow(all_my_exp_array[idx],origin='lower',cmap=\"jet\",norm=LogNorm())\n",
    "    ax.set_title(all_myseq[idx]) \n",
    "    ax.minorticks_on()\n",
    "    ax.set_aspect(\"equal\")\n",
    "    \n",
    "    #ax2=ax.twiny()\n",
    "    #ax2.imshow(all_my_raw_array[idx],origin='lower',cmap=\"jet\",norm=LogNorm())\n",
    "    #ax2.set_xlim(ax.get_xlim())\n",
    "    #ax2.minorticks_on()\n",
    "    \n",
    "    #ax.tick_params(which='major', length=10, width=2, direction='inout')\n",
    "    #ax.tick_params(which='minor', length=5, width=2, direction='inout')\n",
    "    #ax.grid(which='both')\n",
    "\n",
    "\n",
    "\n",
    "    #ax.set_aspect('equal')\n",
    "\n",
    "    #x1, x2 = ax.get_xlim() \n",
    "    #y1, y2 = ax.get_ylim() \n",
    "plt.show()"
   ]
  },
  {
   "cell_type": "code",
   "execution_count": null,
   "id": "42d93ce4",
   "metadata": {},
   "outputs": [],
   "source": [
    "#all_my_raw_array=[]\n",
    "#all_my_header=[]\n",
    "#all_my_object=[]\n",
    "#all_my_seq=[]\n",
    "#all_my_grating=[]\n",
    "#all_my_filter=[]\n"
   ]
  },
  {
   "cell_type": "code",
   "execution_count": null,
   "id": "5101ab8b",
   "metadata": {},
   "outputs": [],
   "source": [
    "if FLAG_SAVE_IMAGE:\n",
    "  \n",
    "    for idx in np.arange(NSEL):\n",
    "        filename=all_my_grating[idx]+\"_\"+all_my_filter[idx]+\"_\"+all_my_object[idx]+\"_\"+all_my_date[idx]+\"_quickLookExp.fits\"\n",
    "        print(filename)\n",
    "    \n",
    "        hdr = fits.Header()\n",
    "    \n",
    "        for key,value in all_my_header[idx].items():\n",
    "            hdr[str(key)]=value\n",
    "        \n",
    "        #hdu = fits.PrimaryHDU(data=all_my_exp_array[idx],header=hdr)  # with headers\n",
    "        #hdul = fits.HDUList([hdu])\n",
    "        #hdul.writeto(filename,overwrite=True)\n",
    "        \n",
    "        primary_hdu = fits.PrimaryHDU(header=hdr)\n",
    "        image_hdu = fits.ImageHDU(all_my_exp_array[idx])\n",
    "        hdu_list = fits.HDUList([primary_hdu, image_hdu])\n",
    "    \n",
    "        hdu_list.writeto(filename,overwrite=True)\n",
    "    \n",
    "        "
   ]
  },
  {
   "cell_type": "code",
   "execution_count": null,
   "id": "31195651",
   "metadata": {},
   "outputs": [],
   "source": []
  }
 ],
 "metadata": {
  "kernelspec": {
   "display_name": "LSST",
   "language": "python",
   "name": "lsst"
  },
  "language_info": {
   "codemirror_mode": {
    "name": "ipython",
    "version": 3
   },
   "file_extension": ".py",
   "mimetype": "text/x-python",
   "name": "python",
   "nbconvert_exporter": "python",
   "pygments_lexer": "ipython3",
   "version": "3.8.8"
  }
 },
 "nbformat": 4,
 "nbformat_minor": 5
}
