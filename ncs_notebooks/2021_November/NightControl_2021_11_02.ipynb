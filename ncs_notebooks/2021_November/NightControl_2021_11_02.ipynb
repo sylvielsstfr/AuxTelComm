{
 "cells": [
  {
   "cell_type": "markdown",
   "id": "de203669",
   "metadata": {},
   "source": [
    "# Observations for the night November 02th 2021 \n",
    "\n",
    "\n",
    "https://harvard.zoom.us/rec/play/N7umVF8Rk3vWvW_O3jkaTinofB2WxW3QKz0fVai_K-qvAYLt37uMrvskOlnBiMEjduSeQVzWT7_DDYzc.IY7Pqjef82YlWmZE?continueMode=true&_x_zm_rtaid=BjQYrDaETYeYRUMw8NQgLw.1613559822570.c813d210d38e378b719cb4048493df5b&_x_zm_rhtaid=205\n",
    "\n",
    "\n",
    "- work with Weakly_2021_36 (w_2021_44 not working for me)\n",
    "- use jupyter kernel LSST\n",
    "- requires the installation see https://github.com/stubbslab/PCWG-AuxTel/blob/main/setup_script.md\n",
    "- requires to write in file {HOME}/notebooks/.user_setups\n"
   ]
  },
  {
   "cell_type": "markdown",
   "id": "bb9899b6",
   "metadata": {},
   "source": [
    "          DM : w_2021_36\n",
    "          atmospec : tickets/DM-32247\n",
    "          rapid_analysis : tickets/DM-31522\n",
    "          Spectractor : tickets/DM-29598\n",
    "          daf_ butler : master"
   ]
  },
  {
   "cell_type": "code",
   "execution_count": 1,
   "id": "b6afcc40",
   "metadata": {},
   "outputs": [
    {
     "name": "stdout",
     "output_type": "stream",
     "text": [
      "atmospec              LOCAL:/home/dagoret/repos/w_2021_36/atmospec \tsetup\n",
      "daf_butler            LOCAL:/home/dagoret/repos/w_2021_36/daf_butler \tsetup\n",
      "eups                  LOCAL:/opt/lsst/software/stack/conda/miniconda3-py38_4.9.2/envs/lsst-scipipe-0.7.0/eups \tsetup\n",
      "rapid_analysis        LOCAL:/home/dagoret/repos/w_2021_36/rapid_analysis \tsetup\n"
     ]
    }
   ],
   "source": [
    "! eups list -s | grep LOCAL"
   ]
  },
  {
   "cell_type": "code",
   "execution_count": 2,
   "id": "1f43315f",
   "metadata": {},
   "outputs": [],
   "source": [
    "import os\n",
    "import matplotlib.pyplot as plt\n",
    "import numpy as np\n",
    "%matplotlib inline\n",
    "from matplotlib.colors import LogNorm\n",
    "\n",
    "from mpl_toolkits.axes_grid1 import make_axes_locatable\n",
    "\n",
    "import matplotlib.ticker                         # here's where the formatter is\n",
    "from matplotlib.ticker import (MultipleLocator, FormatStrFormatter,\n",
    "                               AutoMinorLocator)\n",
    "\n",
    "from astropy.io import fits"
   ]
  },
  {
   "cell_type": "code",
   "execution_count": 3,
   "id": "ae102bf6",
   "metadata": {},
   "outputs": [],
   "source": [
    "import lsst.daf.persistence as dafPersist\n",
    "import lsst.afw.display as afwDisplay\n",
    "afwDisplay.setDefaultBackend(\"lsst.display.firefly\")"
   ]
  },
  {
   "cell_type": "code",
   "execution_count": 4,
   "id": "53e07f5a",
   "metadata": {},
   "outputs": [],
   "source": [
    "# correct for bug in stack in wl_2021_02\n",
    "%config IPCompleter.use_jedi=False"
   ]
  },
  {
   "cell_type": "code",
   "execution_count": 5,
   "id": "6c541550",
   "metadata": {},
   "outputs": [],
   "source": [
    "FLAG_SAVE_IMAGE=True"
   ]
  },
  {
   "cell_type": "code",
   "execution_count": 6,
   "id": "bbdf8671",
   "metadata": {},
   "outputs": [
    {
     "name": "stdout",
     "output_type": "stream",
     "text": [
      "calexp\ticExp  postISRCCD\t     repositoryCfg.yaml  spectractorOutput\n",
      "config\ticSrc  processStar_metadata  schema\n"
     ]
    }
   ],
   "source": [
    "!ls /project/shared/auxTel/rerun/mfl/slurmRun"
   ]
  },
  {
   "cell_type": "code",
   "execution_count": 7,
   "id": "fd05d54d",
   "metadata": {},
   "outputs": [
    {
     "name": "stdout",
     "output_type": "stream",
     "text": [
      "CALIB\t   CALIB-OLD\t CALIB-RHL  Fossil   _parent.old  rerun\n",
      "CALIB_OLD  calibrations  dagoret    _parent  ref_cats\n"
     ]
    }
   ],
   "source": [
    "!ls /project/shared/auxTel"
   ]
  },
  {
   "cell_type": "code",
   "execution_count": 8,
   "id": "e5a434c2",
   "metadata": {},
   "outputs": [
    {
     "name": "stdout",
     "output_type": "stream",
     "text": [
      "total 16\n",
      "drwxr-sr-x  3 57489 1363 4096 Mar 18  2020 adriansh\n",
      "drwxr-sr-x  9 49813 1363 4096 Apr 23  2020 calib_construction\n",
      "drwxrwsr-x 14 56749 1363 4096 Mar 17  2021 cslage\n",
      "drwxrwsrwx  9 49813 1363 4096 Sep 13 08:01 dagoret\n",
      "drwxrwsrwx  3 49813 1363 4096 Feb 24  2021 jneveu\n",
      "drwxrwsr-x  3 49803 1363 4096 Aug 18 01:11 lauren\n",
      "lrwxrwxrwx  1 49813 1363   25 Aug  7  2020 mfl -> /project/mfl/auxTelReruns\n",
      "drwxr-sr-x  4 56509 1363 4096 Apr 24  2020 nmondrik\n",
      "drwxr-sr-x  5 49813 1363 4096 Apr 23  2020 old_calibs\n",
      "drwxr-sr-x 34 57167 1363 4096 Dec 15  2020 plazas\n",
      "drwxr-sr-x  2 49813 1363 4096 Jan 29  2020 processCcdTesting\n",
      "drwxrwsrwx  9 49813 1363 4096 May 16 20:28 quickLook\n",
      "lrwxrwxrwx  1 37341 1363   25 Apr 30  2019 rhl -> /project/rhl/rerun/auxTel\n",
      "drwxr-sr-x  3 48974 1363 4096 Feb 27  2020 swinbank\n",
      "drwxr-sr-x  3 49813 1363 4096 Sep  9 15:28 test\n",
      "drwxrwsr-x  3 37341 1363 4096 May 10  2019 XXXXX\n"
     ]
    }
   ],
   "source": [
    "!ls /project/shared/auxTel/rerun -l"
   ]
  },
  {
   "cell_type": "markdown",
   "id": "97f145d4",
   "metadata": {},
   "source": [
    "# Configuration"
   ]
  },
  {
   "cell_type": "markdown",
   "id": "3c9fa87a",
   "metadata": {},
   "source": [
    "## Location and date"
   ]
  },
  {
   "cell_type": "code",
   "execution_count": 9,
   "id": "3978bc14",
   "metadata": {},
   "outputs": [
    {
     "name": "stderr",
     "output_type": "stream",
     "text": [
      "/home/dagoret/repos/w_2021_36/rapid_analysis/python/lsst/rapid/analysis/nightReport.py:104: FutureWarning: Gen2 Butler has been deprecated (Butler). It will be removed sometime after v23.0 but no earlier than the end of 2021.\n",
      "  self._butler = dafPersist.Butler(repoDir)\n",
      "/home/dagoret/repos/w_2021_36/rapid_analysis/python/lsst/rapid/analysis/nightReport.py:104: FutureWarning: Gen2 Butler has been deprecated (LatissMapper). It will be removed sometime after v23.0 but no earlier than the end of 2021.\n",
      "  self._butler = dafPersist.Butler(repoDir)\n"
     ]
    },
    {
     "name": "stdout",
     "output_type": "stream",
     "text": [
      "Loaded data for seqNums 1 to 586\n"
     ]
    }
   ],
   "source": [
    "from lsst.rapid.analysis.nightReport import NightReporter\n",
    "# data exist here\n",
    "repoDir='/project/shared/auxTel'\n",
    "# recommended but wrong\n",
    "#repoDir='project/shared/auxTel/rerun/mfl/slurmRun'\n",
    "dayObs=\"2021-11-02\"\n",
    "reporter=NightReporter(repoDir,dayObs)"
   ]
  },
  {
   "cell_type": "markdown",
   "id": "fcd725aa",
   "metadata": {},
   "source": [
    "# Selection"
   ]
  },
  {
   "cell_type": "code",
   "execution_count": 10,
   "id": "9328deff",
   "metadata": {},
   "outputs": [],
   "source": [
    "DISPERSER_SEL=\"holo4_003\""
   ]
  },
  {
   "cell_type": "markdown",
   "id": "93135700",
   "metadata": {},
   "source": [
    "# Information from reporter"
   ]
  },
  {
   "cell_type": "code",
   "execution_count": 11,
   "id": "852326fb",
   "metadata": {},
   "outputs": [
    {
     "name": "stdout",
     "output_type": "stream",
     "text": [
      "['spec:HD009051', 'LATISS_00000020', 'LATISS_00000039', 'LATISS_00000098', 'HD   6280', 'LATISS_00000037', 'LATISS_00000053', 'HD  43225', 'LATISS_00000050', 'LATISS_00000026', 'LATISS_00000024', 'LATISS_00000056', 'LATISS_00000055', 'LATISS_00000089', 'LATISS_00000003', 'HD 185975', 'LATISS_00000091', 'LATISS_00000032', 'LATISS_00000085', 'spec:HD031128', 'LATISS_00000011', 'LATISS_00000046', 'LATISS_00000017', 'LATISS_00000094', 'LATISS_00000022', 'LATISS_00000077', 'LATISS_00000080', 'LATISS_00000013', 'HD 218636', 'spec:ETA1DOR', 'LATISS_00000014', 'LATISS_00000075', 'LATISS_00000063', 'LATISS_00000076', 'HD  29810', 'LATISS_00000086', 'LATISS_00000099', 'LATISS_00000006', 'LATISS_00000040', 'HD  29083', 'LATISS_00000016', 'HD 216313', 'LATISS_00000002', 'LATISS_00000101', 'HD  37167', 'LATISS_00000096', 'LATISS_00000057', 'slew_icrs', 'spec:HD2811', 'LATISS_00000018', 'LATISS_00000059', 'LATISS_00000060', 'LATISS_00000038', 'LATISS_00000034', 'LATISS_00000044', 'LATISS_00000078', 'LATISS_00000033', 'LATISS_00000064', 'LATISS_00000023', 'LATISS_00000065', 'LATISS_00000100', 'LATISS_00000004', 'LATISS_00000062', 'LATISS_00000067', 'LATISS_00000088', 'LATISS_00000035', 'LATISS_00000102', 'LATISS_00000027', 'LATISS_00000079', 'LATISS_00000029', 'LATISS_00000043', 'LATISS_00000069', 'HD 172854', 'HD   1798', 'LATISS_00000070', 'LATISS_00000084', 'LATISS_00000081', 'LATISS_00000021', 'LATISS_00000042', 'HD    869', 'spec:HD205905', 'LATISS_00000061', 'LATISS_00000083', 'LATISS_00000005', 'LATISS_00000015', 'spec:HD14943', 'LATISS_00000028', 'LATISS_00000082', 'LATISS_00000051', 'spec:HD200654', 'LATISS_00000007', 'HD  29153', 'LATISS_00000074', 'LATISS_00000010', 'LATISS_00000087', 'LATISS_00000071', 'LATISS_00000025', 'HD 219860', 'LATISS_00000031', 'LATISS_00000012', 'LATISS_00000090', 'LATISS_00000093', 'LATISS_00000092', 'LATISS_00000073', 'LATISS_00000052', 'LATISS_00000008', 'LATISS_00000095', 'LATISS_00000009', 'spec:HD185975', 'LATISS_00000019', 'LATISS_00000097', 'LATISS_00000030', 'spec:HD38949', 'LATISS_00000072', 'LATISS_00000066', 'LATISS_00000041', 'LATISS_00000048', 'LATISS_00000058', 'LATISS_00000047', 'LATISS_00000036', 'LATISS_00000068', 'HR2934', 'LATISS_00000049', 'HD58591', 'LATISS_00000045', 'LATISS_00000054', 'LATISS_00000001']\n"
     ]
    }
   ],
   "source": [
    "print(reporter.getObservedObjects())"
   ]
  },
  {
   "cell_type": "code",
   "execution_count": 12,
   "id": "caab269f",
   "metadata": {},
   "outputs": [],
   "source": [
    "reporter.makePolarPlotForObjects()"
   ]
  },
  {
   "cell_type": "code",
   "execution_count": 13,
   "id": "01423daf",
   "metadata": {},
   "outputs": [],
   "source": [
    "reporter.plotPerObjectAirMass()"
   ]
  },
  {
   "cell_type": "code",
   "execution_count": 14,
   "id": "90a0be19",
   "metadata": {},
   "outputs": [
    {
     "name": "stdout",
     "output_type": "stream",
     "text": [
      "{seqNum} {imageType} {obj} {timeOfDay} {filt} {timeSinceLastExp} {expTime}\n",
      "   1 bias      azel_target 18:53:00.888 quadnotch1~empty             0.0  0.00\n",
      "   2 engtest   azel_target 18:55:02.490 FELH0600~holo4_003         121.6  2.00\n",
      "   3 engtest   slew_icrs  19:19:25.631 FELH0600~holo4_003        1463.1  2.00\n",
      "   4 engtest   slew_icrs  19:20:44.757 empty~empty                 79.1  2.00\n",
      "   5 bias      azel_target 20:46:28.017 empty~empty               5143.3  0.00\n",
      "   6 bias      azel_target 20:54:28.765 empty~empty                480.7  0.00\n",
      "   7 bias      azel_target 20:54:33.335 empty~empty                  4.6  0.00\n",
      "   8 bias      azel_target 20:54:37.914 empty~empty                  4.6  0.00\n",
      "   9 bias      azel_target 20:54:42.494 empty~empty                  4.6  0.00\n",
      "  10 bias      azel_target 20:54:47.065 empty~empty                  4.6  0.00\n",
      "  11 bias      azel_target 20:54:51.634 empty~empty                  4.6  0.00\n",
      "  12 bias      azel_target 20:54:56.207 empty~empty                  4.6  0.00\n",
      "  13 bias      azel_target 20:55:00.802 empty~empty                  4.6  0.00\n",
      "  14 bias      azel_target 20:55:05.348 empty~empty                  4.5  0.00\n",
      "  15 bias      azel_target 20:55:09.896 empty~empty                  4.5  0.00\n",
      "  16 bias      azel_target 20:55:14.467 empty~empty                  4.6  0.00\n",
      "  17 bias      azel_target 20:55:19.024 empty~empty                  4.6  0.00\n",
      "  18 bias      azel_target 20:55:23.587 empty~empty                  4.6  0.00\n",
      "  19 bias      azel_target 20:55:28.162 empty~empty                  4.6  0.00\n",
      "  20 bias      azel_target 20:55:33.292 empty~empty                  5.1  0.00\n",
      "  21 bias      azel_target 20:55:37.868 empty~empty                  4.6  0.00\n",
      "  22 bias      azel_target 20:55:42.476 empty~empty                  4.6  0.00\n",
      "  23 bias      azel_target 20:55:47.050 empty~empty                  4.6  0.00\n",
      "  24 bias      azel_target 20:55:51.626 empty~empty                  4.6  0.00\n",
      "  25 bias      azel_target 20:55:56.199 empty~empty                  4.6  0.00\n",
      "  26 bias      azel_target 20:56:00.765 empty~empty                  4.6  0.00\n",
      "  27 bias      azel_target 20:56:05.339 empty~empty                  4.6  0.00\n",
      "  28 bias      azel_target 20:56:09.908 empty~empty                  4.6  0.00\n",
      "  29 bias      azel_target 20:56:14.475 empty~empty                  4.6  0.00\n",
      "  30 bias      azel_target 20:56:19.060 empty~empty                  4.6  0.00\n",
      "  31 bias      azel_target 20:56:23.635 empty~empty                  4.6  0.00\n",
      "  32 bias      azel_target 20:56:28.201 empty~empty                  4.6  0.00\n",
      "  33 bias      azel_target 20:56:32.772 empty~empty                  4.6  0.00\n",
      "  34 bias      azel_target 20:56:37.350 empty~empty                  4.6  0.00\n",
      "  35 bias      azel_target 20:56:41.924 empty~empty                  4.6  0.00\n",
      "  36 bias      azel_target 20:56:46.491 empty~empty                  4.6  0.00\n",
      "  37 bias      azel_target 20:56:51.060 empty~empty                  4.6  0.00\n",
      "  38 bias      azel_target 20:56:55.626 empty~empty                  4.6  0.00\n",
      "  39 bias      azel_target 20:57:00.196 empty~empty                  4.6  0.00\n",
      "  40 bias      azel_target 20:57:04.765 empty~empty                  4.6  0.00\n",
      "  41 bias      azel_target 20:57:09.335 empty~empty                  4.6  0.00\n",
      "  42 bias      azel_target 20:57:13.900 empty~empty                  4.6  0.00\n",
      "  43 bias      azel_target 20:57:18.473 empty~empty                  4.6  0.00\n",
      "  44 bias      azel_target 20:57:23.043 empty~empty                  4.6  0.00\n",
      "  45 bias      azel_target 20:57:27.626 empty~empty                  4.6  0.00\n",
      "  46 bias      azel_target 20:57:32.211 empty~empty                  4.6  0.00\n",
      "  47 bias      azel_target 20:57:36.777 empty~empty                  4.6  0.00\n",
      "  48 bias      azel_target 20:57:41.347 empty~empty                  4.6  0.00\n",
      "  49 bias      azel_target 20:57:45.921 empty~empty                  4.6  0.00\n",
      "  50 bias      azel_target 20:57:50.491 empty~empty                  4.6  0.00\n",
      "  51 bias      azel_target 20:57:55.065 empty~empty                  4.6  0.00\n",
      "  52 bias      azel_target 20:57:59.652 empty~empty                  4.6  0.00\n",
      "  53 bias      azel_target 20:58:04.215 empty~empty                  4.6  0.00\n",
      "  54 bias      azel_target 20:58:08.782 empty~empty                  4.6  0.00\n",
      "  55 bias      azel_target 20:58:13.363 empty~empty                  4.6  0.00\n",
      "  56 dark      azel_target 20:58:15.791 empty~empty                  2.4  10.00\n",
      "  57 dark      azel_target 20:58:28.350 empty~empty                 12.6  10.00\n",
      "  58 dark      azel_target 20:58:40.908 empty~empty                 12.6  10.00\n",
      "  59 dark      azel_target 20:58:53.468 empty~empty                 12.6  10.00\n",
      "  60 dark      azel_target 20:59:06.035 empty~empty                 12.6  10.00\n",
      "  61 dark      azel_target 20:59:18.601 empty~empty                 12.6  10.00\n",
      "  62 dark      azel_target 20:59:31.165 empty~empty                 12.6  10.00\n",
      "  63 dark      azel_target 20:59:43.724 empty~empty                 12.6  10.00\n",
      "  64 dark      azel_target 20:59:56.278 empty~empty                 12.6  10.00\n",
      "  65 dark      azel_target 21:00:08.839 empty~empty                 12.6  10.00\n",
      "  66 flat      FlatField position 21:55:08.979 SDSSg~empty               3300.1  10.00\n",
      "  67 flat      FlatField position 21:56:20.154 SDSSg~empty                 71.2  2.00\n",
      "  68 flat      FlatField position 21:57:02.881 SDSSg~empty                 42.7  2.00\n",
      "  69 flat      FlatField position 21:57:07.522 SDSSg~empty                  4.6  2.00\n",
      "  70 flat      FlatField position 21:57:12.147 SDSSg~empty                  4.6  2.00\n",
      "  71 flat      FlatField position 21:57:18.674 SDSSg~empty                  6.5  2.00\n",
      "  72 flat      FlatField position 21:57:23.304 SDSSg~empty                  4.6  2.00\n",
      "  73 flat      FlatField position 21:57:27.942 SDSSg~empty                  4.6  2.00\n",
      "  74 flat      FlatField position 21:57:32.580 SDSSg~empty                  4.6  2.00\n",
      "  75 flat      FlatField position 21:57:37.215 SDSSg~empty                  4.6  2.00\n",
      "  76 flat      FlatField position 21:57:41.841 SDSSg~empty                  4.6  2.00\n",
      "  77 flat      FlatField position 21:57:46.481 SDSSg~empty                  4.6  2.00\n",
      "  78 science   HD 216313  23:22:32.629 FELH0600~empty            5086.1  5.00\n",
      "  79 engtest   HD 216313  23:25:34.096 FELH0600~empty             181.5  30.00\n",
      "  80 engtest   HD 216313  23:26:11.598 FELH0600~empty              37.5  30.00\n",
      "  81 science   HD 216313  23:38:13.454 FELH0600~empty             721.9  30.00\n",
      "  82 engtest   HD 216313  23:41:30.600 FELH0600~empty             197.1  30.00\n",
      "  83 engtest   HD 216313  23:42:08.518 FELH0600~empty              37.9  30.00\n",
      "  84 engtest   HD 216313  23:43:51.056 FELH0600~empty             102.5  30.00\n",
      "  85 engtest   HD 216313  23:56:58.118 FELH0600~empty             787.1  30.00\n",
      "  86 engtest   HD 216313  23:57:36.403 FELH0600~empty              38.3  30.00\n",
      "  87 engtest   HD 216313  23:59:21.783 FELH0600~empty             105.4  30.00\n",
      "  88 engtest   HD 216313  23:59:59.923 FELH0600~empty              38.1  30.00\n",
      "  89 engtest   HD 216313  00:01:42.218 FELH0600~empty             102.3  30.00\n",
      "  90 engtest   HD 216313  00:02:20.793 FELH0600~empty              38.6  30.00\n",
      "  91 engtest   HD 216313  00:04:05.052 FELH0600~empty             104.3  30.00\n",
      "  92 engtest   HD 216313  00:04:42.286 FELH0600~empty              37.2  30.00\n",
      "  93 science   HD 216313  00:06:26.048 FELH0600~empty             103.8  5.00\n",
      "  94 engtest   HD 218636  00:11:59.068 FELH0600~empty             333.0  30.00\n",
      "  95 engtest   HD 218636  00:12:37.370 FELH0600~empty              38.3  30.00\n",
      "  96 engtest   HD 218636  00:14:21.901 FELH0600~empty             104.5  30.00\n",
      "  97 engtest   HD 218636  00:14:59.460 FELH0600~empty              37.6  30.00\n",
      "  98 science   HD 218636  00:16:47.180 FELH0600~empty             107.7  5.00\n",
      "  99 science   HD 172854  00:47:55.330 FELH0600~empty            1868.1  5.00\n",
      " 100 science   HD 172854  00:49:45.852 SDSSg~empty                110.5  5.00\n",
      " 101 science   HD 172854  00:50:17.591 SDSSg~empty                 31.7  30.00\n",
      " 102 science   HD 172854  00:55:00.467 SDSSg~empty                282.9  300.00\n",
      " 103 science   HD 219860  01:04:41.827 SDSSg~empty                581.4  5.00\n",
      " 104 science   HD 219860  01:05:51.350 SDSSg~empty                 69.5  300.00\n",
      " 105 science   HD 219860  01:12:15.951 SDSSg~empty                384.6  300.00\n",
      " 106 engtest   HD   6280  01:19:42.443 FELH0600~empty             446.5  30.00\n",
      " 107 engtest   HD   6280  01:20:20.204 FELH0600~empty              37.8  30.00\n",
      " 108 science   HD   6280  01:22:04.188 FELH0600~empty             104.0  5.00\n",
      " 109 science   spec:HD2811 01:25:04.076 BG40~ronchi170lpmm         179.9  2.00\n",
      " 110 science   spec:HD2811 01:25:38.823 BG40~ronchi170lpmm          34.7  2.00\n",
      " 111 science   spec:HD2811 01:26:05.021 BG40~ronchi170lpmm          26.2  2.00\n",
      " 112 science   spec:HD2811 01:26:22.831 empty~ronchi170lpmm         17.8  20.00\n",
      " 113 science   spec:HD2811 01:26:57.491 SDSSg~ronchi170lpmm         34.7  20.00\n",
      " 114 science   spec:HD2811 01:27:32.373 BG40~ronchi170lpmm          34.9  20.00\n",
      " 115 science   spec:HD2811 01:28:07.189 FELH0600~ronchi170lpmm      34.8  20.00\n",
      " 116 science   spec:HD2811 01:28:44.936 empty~holo4_003             37.7  20.00\n",
      " 117 science   spec:HD2811 01:29:19.706 SDSSg~holo4_003             34.8  20.00\n",
      " 118 science   spec:HD2811 01:29:54.543 BG40~holo4_003              34.8  20.00\n",
      " 119 science   spec:HD2811 01:30:29.391 FELH0600~holo4_003          34.8  20.00\n",
      " 120 science   spec:HD14943 01:31:29.851 BG40~ronchi170lpmm          60.5  2.00\n",
      " 121 science   spec:HD14943 01:32:02.432 BG40~ronchi170lpmm          32.6  2.00\n",
      " 122 science   spec:HD14943 01:32:31.545 BG40~ronchi170lpmm          29.1  2.00\n",
      " 123 science   spec:HD14943 01:32:49.943 empty~ronchi170lpmm         18.4  20.00\n",
      " 124 science   spec:HD14943 01:33:24.479 SDSSg~ronchi170lpmm         34.5  20.00\n",
      " 125 science   spec:HD14943 01:33:59.290 BG40~ronchi170lpmm          34.8  20.00\n",
      " 126 science   spec:HD14943 01:34:34.110 FELH0600~ronchi170lpmm      34.8  20.00\n",
      " 127 science   spec:HD14943 01:35:13.719 empty~holo4_003             39.6  20.00\n",
      " 128 science   spec:HD14943 01:35:48.652 SDSSg~holo4_003             34.9  20.00\n",
      " 129 science   spec:HD14943 01:36:23.412 BG40~holo4_003              34.8  20.00\n",
      " 130 science   spec:HD14943 01:36:58.014 FELH0600~holo4_003          34.6  20.00\n",
      " 131 science   spec:HD009051 01:40:22.735 BG40~ronchi170lpmm         204.7  2.00\n",
      " 132 science   spec:HD009051 01:40:54.025 BG40~ronchi170lpmm          31.3  2.00\n",
      " 133 science   spec:HD009051 01:41:24.434 BG40~ronchi170lpmm          30.4  2.00\n",
      " 134 science   spec:HD205905 01:47:02.772 BG40~ronchi170lpmm         338.3  2.00\n",
      " 135 science   spec:HD205905 01:47:35.039 BG40~ronchi170lpmm          32.3  2.00\n",
      " 136 science   spec:HD205905 01:48:00.944 BG40~ronchi170lpmm          25.9  2.00\n",
      " 137 science   spec:HD205905 01:48:18.938 empty~ronchi170lpmm         18.0  20.00\n",
      " 138 science   spec:HD205905 01:48:53.531 SDSSg~ronchi170lpmm         34.6  20.00\n",
      " 139 science   spec:HD205905 01:49:28.207 BG40~ronchi170lpmm          34.7  20.00\n",
      " 140 science   spec:HD205905 01:50:02.968 FELH0600~ronchi170lpmm      34.8  20.00\n",
      " 141 science   spec:HD205905 01:50:42.652 empty~holo4_003             39.7  20.00\n",
      " 142 science   spec:HD205905 01:51:17.261 SDSSg~holo4_003             34.6  20.00\n",
      " 143 science   spec:HD205905 01:51:52.127 BG40~holo4_003              34.9  20.00\n",
      " 144 science   spec:HD205905 01:52:26.953 FELH0600~holo4_003          34.8  20.00\n",
      " 145 science   spec:HD200654 01:53:39.831 BG40~ronchi170lpmm          72.9  2.00\n",
      " 146 science   spec:HD200654 01:54:12.577 BG40~ronchi170lpmm          32.7  2.00\n",
      " 147 science   spec:HD200654 01:54:39.110 BG40~ronchi170lpmm          26.5  2.00\n",
      " 148 science   spec:HD200654 01:54:57.021 empty~ronchi170lpmm         17.9  20.00\n",
      " 149 science   spec:HD200654 01:55:31.889 SDSSg~ronchi170lpmm         34.9  20.00\n",
      " 150 science   spec:HD200654 01:56:07.588 BG40~ronchi170lpmm          35.7  20.00\n",
      " 151 science   spec:HD200654 01:56:42.140 FELH0600~ronchi170lpmm      34.6  20.00\n",
      " 152 science   spec:HD200654 01:57:21.751 empty~holo4_003             39.6  20.00\n",
      " 153 science   spec:HD200654 01:57:56.354 SDSSg~holo4_003             34.6  20.00\n",
      " 154 science   spec:HD200654 01:58:31.198 BG40~holo4_003              34.8  20.00\n",
      " 155 science   spec:HD200654 01:59:05.988 FELH0600~holo4_003          34.8  20.00\n",
      " 156 engtest   HD 185975  02:01:08.853 FELH0600~empty             122.9  30.00\n",
      " 157 engtest   HD 185975  02:01:46.383 FELH0600~empty              37.5  30.00\n",
      " 158 engtest   HD 185975  02:03:28.874 FELH0600~empty             102.5  30.00\n",
      " 159 engtest   HD 185975  02:04:07.030 FELH0600~empty              38.2  30.00\n",
      " 160 science   HD 185975  02:05:56.010 FELH0600~empty             109.0  5.00\n",
      " 161 science   spec:HD185975 02:07:36.626 BG40~ronchi170lpmm         100.6  2.00\n",
      " 162 science   spec:HD185975 02:08:10.679 BG40~ronchi170lpmm          34.1  2.00\n",
      " 163 science   spec:HD185975 02:08:39.003 BG40~ronchi170lpmm          28.3  2.00\n",
      " 164 science   spec:HD185975 02:08:56.800 empty~ronchi170lpmm         17.8  20.00\n",
      " 165 science   spec:HD185975 02:09:31.447 SDSSg~ronchi170lpmm         34.6  20.00\n",
      " 166 science   spec:HD185975 02:10:06.271 BG40~ronchi170lpmm          34.8  20.00\n",
      " 167 science   spec:HD185975 02:10:40.832 FELH0600~ronchi170lpmm      34.6  20.00\n",
      " 168 science   spec:HD185975 02:11:20.684 empty~holo4_003             39.9  20.00\n",
      " 169 science   spec:HD185975 02:11:55.522 SDSSg~holo4_003             34.8  20.00\n",
      " 170 science   spec:HD185975 02:12:30.950 BG40~holo4_003              35.4  20.00\n",
      " 171 science   spec:HD185975 02:13:05.493 FELH0600~holo4_003          34.5  20.00\n",
      " 172 engtest   HD   1798  02:14:59.352 FELH0600~empty             113.9  30.00\n",
      " 173 engtest   HD   1798  02:15:39.994 FELH0600~empty              40.6  30.00\n",
      " 174 engtest   HD   1798  02:17:25.295 FELH0600~empty             105.3  30.00\n",
      " 175 engtest   HD   1798  02:18:02.458 FELH0600~empty              37.2  30.00\n",
      " 176 science   HD   1798  02:19:48.031 FELH0600~empty             105.6  5.00\n",
      " 177 science   spec:HD2811 02:21:52.795 BG40~ronchi170lpmm         124.8  2.00\n",
      " 178 science   spec:HD2811 02:22:23.849 BG40~ronchi170lpmm          31.1  2.00\n",
      " 179 science   spec:HD2811 02:22:50.586 BG40~ronchi170lpmm          26.7  2.00\n",
      " 180 science   spec:HD2811 02:23:08.437 empty~ronchi170lpmm         17.9  20.00\n",
      " 181 science   spec:HD2811 02:23:41.531 empty~ronchi170lpmm         33.1  20.00\n",
      " 182 science   spec:HD2811 02:24:17.343 BG40~ronchi170lpmm          35.8  20.00\n",
      " 183 science   spec:HD2811 02:24:51.921 FELH0600~ronchi170lpmm      34.6  20.00\n",
      " 184 science   spec:HD2811 02:25:31.553 empty~holo4_003             39.6  20.00\n",
      " 185 science   spec:HD2811 02:26:04.629 empty~holo4_003             33.1  20.00\n",
      " 186 science   spec:HD2811 02:26:40.910 BG40~holo4_003              36.3  20.00\n",
      " 187 science   spec:HD2811 02:27:15.517 FELH0600~holo4_003          34.6  20.00\n",
      " 188 engtest   HD 185975  02:29:29.155 FELH0600~empty             133.6  30.00\n",
      " 189 engtest   HD 185975  02:30:11.202 FELH0600~empty              42.0  30.00\n",
      " 190 engtest   HD 185975  02:31:54.629 FELH0600~empty             103.4  30.00\n",
      " 191 engtest   HD 185975  02:32:32.704 FELH0600~empty              38.1  30.00\n",
      " 192 engtest   HD 185975  02:34:15.041 FELH0600~empty             102.3  30.00\n",
      " 193 engtest   HD 185975  02:34:52.279 FELH0600~empty              37.2  30.00\n",
      " 194 engtest   HD 185975  02:36:37.655 FELH0600~empty             105.4  30.00\n",
      " 195 engtest   HD 185975  02:37:15.680 FELH0600~empty              38.0  30.00\n",
      " 196 engtest   HD 185975  02:39:03.218 FELH0600~empty             107.5  30.00\n",
      " 197 engtest   HD 185975  02:39:41.370 FELH0600~empty              38.2  30.00\n",
      " 198 science   HD 185975  02:41:24.737 FELH0600~empty             103.4  5.00\n",
      " 199 engtest   HD 185975  02:41:53.682 FELH0600~empty              28.9  30.00\n",
      " 200 engtest   HD 185975  02:42:30.847 FELH0600~empty              37.2  30.00\n",
      " 201 science   HD 185975  02:44:16.956 FELH0600~empty             106.1  5.00\n",
      " 202 science   spec:HD185975 02:45:56.988 BG40~ronchi170lpmm         100.0  2.00\n",
      " 203 science   spec:HD205905 02:47:54.950 BG40~ronchi170lpmm         118.0  2.00\n",
      " 204 science   spec:HD205905 02:48:26.605 BG40~ronchi170lpmm          31.7  2.00\n",
      " 205 science   spec:HD205905 02:48:53.504 BG40~ronchi170lpmm          26.9  2.00\n",
      " 206 science   spec:HD205905 02:49:11.528 empty~ronchi170lpmm         18.0  20.00\n",
      " 207 science   spec:HD205905 02:49:44.529 empty~ronchi170lpmm         33.0  20.00\n",
      " 208 science   spec:HD205905 02:50:20.467 BG40~ronchi170lpmm          35.9  20.00\n",
      " 209 science   spec:HD205905 02:50:55.349 FELH0600~ronchi170lpmm      34.9  20.00\n",
      " 210 science   spec:HD205905 02:51:35.267 empty~holo4_003             39.9  20.00\n",
      " 211 science   spec:HD205905 02:52:08.293 empty~holo4_003             33.0  20.00\n",
      " 212 science   spec:HD205905 02:52:44.636 BG40~holo4_003              36.3  20.00\n",
      " 213 science   spec:HD205905 02:53:19.190 FELH0600~holo4_003          34.6  20.00\n",
      " 214 science   spec:HD031128 02:55:50.803 BG40~ronchi170lpmm         151.6  2.00\n",
      " 215 science   LATISS_00000001 02:57:17.700 SDSSg~empty                 86.9  30.00\n",
      " 216 science   LATISS_00000001 02:57:50.333 SDSSg~empty                 32.6  30.00\n",
      " 217 science   LATISS_00000002 02:58:34.718 SDSSg~empty                 44.4  30.00\n",
      " 218 science   LATISS_00000002 02:59:07.356 SDSSg~empty                 32.6  30.00\n",
      " 219 science   LATISS_00000003 02:59:53.733 SDSSg~empty                 46.4  30.00\n",
      " 220 science   LATISS_00000003 03:00:26.358 SDSSg~empty                 32.6  30.00\n",
      " 221 science   LATISS_00000008 03:01:11.744 SDSSg~empty                 45.4  30.00\n",
      " 222 science   LATISS_00000008 03:01:44.366 SDSSg~empty                 32.6  30.00\n",
      " 223 science   LATISS_00000017 03:02:29.746 SDSSg~empty                 45.4  30.00\n",
      " 224 science   LATISS_00000017 03:03:02.388 SDSSg~empty                 32.6  30.00\n",
      " 225 science   LATISS_00000018 03:03:47.851 SDSSg~empty                 45.5  30.00\n",
      " 226 science   LATISS_00000018 03:04:20.468 SDSSg~empty                 32.6  30.00\n",
      " 227 science   LATISS_00000019 03:05:05.133 SDSSg~empty                 44.7  30.00\n",
      " 228 science   LATISS_00000019 03:05:37.757 SDSSg~empty                 32.6  30.00\n",
      " 229 science   LATISS_00000026 03:06:23.205 SDSSg~empty                 45.4  30.00\n",
      " 230 science   LATISS_00000026 03:06:55.818 SDSSg~empty                 32.6  30.00\n",
      " 231 science   LATISS_00000027 03:07:41.225 SDSSg~empty                 45.4  30.00\n",
      " 232 science   LATISS_00000027 03:08:13.853 SDSSg~empty                 32.6  30.00\n",
      " 233 science   LATISS_00000028 03:08:59.068 SDSSg~empty                 45.2  30.00\n",
      " 234 science   LATISS_00000028 03:09:31.694 SDSSg~empty                 32.6  30.00\n",
      " 235 science   LATISS_00000033 03:10:17.116 SDSSg~empty                 45.4  30.00\n",
      " 236 science   LATISS_00000033 03:10:49.746 SDSSg~empty                 32.6  30.00\n",
      " 237 science   LATISS_00000034 03:11:35.071 SDSSg~empty                 45.3  30.00\n",
      " 238 science   LATISS_00000034 03:12:07.698 SDSSg~empty                 32.6  30.00\n",
      " 239 science   LATISS_00000004 03:12:54.109 SDSSg~empty                 46.4  30.00\n",
      " 240 science   LATISS_00000004 03:13:26.735 SDSSg~empty                 32.6  30.00\n",
      " 241 science   LATISS_00000005 03:14:12.176 SDSSg~empty                 45.4  30.00\n",
      " 242 science   LATISS_00000005 03:14:44.804 SDSSg~empty                 32.6  30.00\n",
      " 243 science   LATISS_00000006 03:15:30.083 SDSSg~empty                 45.3  30.00\n",
      " 244 science   LATISS_00000006 03:16:02.707 SDSSg~empty                 32.6  30.00\n",
      " 245 science   LATISS_00000007 03:16:49.089 SDSSg~empty                 46.4  30.00\n",
      " 246 science   LATISS_00000007 03:17:21.719 SDSSg~empty                 32.6  30.00\n",
      " 247 science   LATISS_00000010 03:18:07.165 SDSSg~empty                 45.4  30.00\n",
      " 248 science   LATISS_00000010 03:18:39.788 SDSSg~empty                 32.6  30.00\n",
      " 249 science   LATISS_00000011 03:19:25.065 SDSSg~empty                 45.3  30.00\n",
      " 250 science   LATISS_00000011 03:19:57.692 SDSSg~empty                 32.6  30.00\n",
      " 251 science   LATISS_00000012 03:20:44.082 SDSSg~empty                 46.4  30.00\n",
      " 252 science   LATISS_00000012 03:21:16.718 SDSSg~empty                 32.6  30.00\n",
      " 253 science   LATISS_00000013 03:22:03.215 SDSSg~empty                 46.5  30.00\n",
      " 254 science   LATISS_00000013 03:22:35.849 SDSSg~empty                 32.6  30.00\n",
      " 255 science   LATISS_00000014 03:23:22.837 SDSSg~empty                 47.0  30.00\n",
      " 256 science   LATISS_00000014 03:23:55.461 SDSSg~empty                 32.6  30.00\n",
      " 257 science   LATISS_00000015 03:24:42.388 SDSSg~empty                 46.9  30.00\n",
      " 258 science   LATISS_00000015 03:25:15.015 SDSSg~empty                 32.6  30.00\n",
      " 259 science   LATISS_00000016 03:26:00.199 SDSSg~empty                 45.2  30.00\n",
      " 260 science   LATISS_00000016 03:26:32.835 SDSSg~empty                 32.6  30.00\n",
      " 261 science   LATISS_00000020 03:27:19.167 SDSSg~empty                 46.3  30.00\n",
      " 262 science   LATISS_00000020 03:27:51.787 SDSSg~empty                 32.6  30.00\n",
      " 263 science   LATISS_00000021 03:28:37.068 SDSSg~empty                 45.3  30.00\n",
      " 264 science   LATISS_00000021 03:29:09.689 SDSSg~empty                 32.6  30.00\n",
      " 265 science   LATISS_00000022 03:29:55.135 SDSSg~empty                 45.4  30.00\n",
      " 266 science   LATISS_00000022 03:30:27.763 SDSSg~empty                 32.6  30.00\n",
      " 267 science   LATISS_00000023 03:31:12.083 SDSSg~empty                 44.3  30.00\n",
      " 268 science   LATISS_00000023 03:31:44.701 SDSSg~empty                 32.6  30.00\n",
      " 269 science   LATISS_00000024 03:41:22.829 SDSSg~empty                578.1  30.00\n",
      " 270 science   LATISS_00000024 03:41:55.468 SDSSg~empty                 32.6  30.00\n",
      " 271 science   LATISS_00000025 03:42:41.983 SDSSg~empty                 46.5  30.00\n",
      " 272 science   LATISS_00000025 03:43:14.603 SDSSg~empty                 32.6  30.00\n",
      " 273 science   LATISS_00000029 03:44:02.277 SDSSg~empty                 47.7  30.00\n",
      " 274 science   LATISS_00000029 03:44:34.909 SDSSg~empty                 32.6  30.00\n",
      " 275 science   LATISS_00000030 03:45:21.731 SDSSg~empty                 46.8  30.00\n",
      " 276 science   LATISS_00000030 03:45:54.364 SDSSg~empty                 32.6  30.00\n",
      " 277 science   LATISS_00000031 03:46:39.508 SDSSg~empty                 45.1  30.00\n",
      " 278 science   LATISS_00000031 03:47:12.129 SDSSg~empty                 32.6  30.00\n",
      " 279 science   LATISS_00000032 03:47:58.944 SDSSg~empty                 46.8  30.00\n",
      " 280 science   LATISS_00000032 03:48:31.557 SDSSg~empty                 32.6  30.00\n",
      " 281 science   LATISS_00000038 03:49:18.354 SDSSg~empty                 46.8  30.00\n",
      " 282 science   LATISS_00000038 03:49:50.984 SDSSg~empty                 32.6  30.00\n",
      " 283 science   LATISS_00000039 03:50:35.327 SDSSg~empty                 44.3  30.00\n",
      " 284 science   LATISS_00000039 03:51:07.954 SDSSg~empty                 32.6  30.00\n",
      " 285 science   LATISS_00000040 03:51:54.748 SDSSg~empty                 46.8  30.00\n",
      " 286 science   LATISS_00000040 03:52:27.373 SDSSg~empty                 32.6  30.00\n",
      " 287 science   LATISS_00000035 03:53:12.452 SDSSg~empty                 45.1  30.00\n",
      " 288 science   LATISS_00000035 03:53:45.073 SDSSg~empty                 32.6  30.00\n",
      " 289 science   LATISS_00000036 03:54:31.993 SDSSg~empty                 46.9  30.00\n",
      " 290 science   LATISS_00000036 03:55:04.616 SDSSg~empty                 32.6  30.00\n",
      " 291 science   LATISS_00000037 03:55:51.441 SDSSg~empty                 46.8  30.00\n",
      " 292 science   LATISS_00000037 03:56:24.066 SDSSg~empty                 32.6  30.00\n",
      " 293 science   LATISS_00000041 03:57:10.505 SDSSg~empty                 46.4  30.00\n",
      " 294 science   LATISS_00000041 03:57:43.142 SDSSg~empty                 32.6  30.00\n",
      " 295 science   LATISS_00000048 03:58:30.488 SDSSg~empty                 47.3  30.00\n",
      " 296 science   LATISS_00000048 03:59:03.122 SDSSg~empty                 32.6  30.00\n",
      " 297 science   LATISS_00000049 03:59:48.501 SDSSg~empty                 45.4  30.00\n",
      " 298 science   LATISS_00000049 04:00:21.130 SDSSg~empty                 32.6  30.00\n",
      " 299 science   LATISS_00000042 04:01:07.610 SDSSg~empty                 46.5  30.00\n",
      " 300 science   LATISS_00000042 04:01:40.234 SDSSg~empty                 32.6  30.00\n",
      " 301 science   LATISS_00000043 04:02:25.859 SDSSg~empty                 45.6  30.00\n",
      " 302 science   LATISS_00000043 04:02:58.490 SDSSg~empty                 32.6  30.00\n",
      " 303 science   LATISS_00000044 04:03:45.185 SDSSg~empty                 46.7  30.00\n",
      " 304 science   LATISS_00000044 04:04:17.826 SDSSg~empty                 32.6  30.00\n",
      " 305 science   LATISS_00000045 04:05:02.972 SDSSg~empty                 45.1  30.00\n",
      " 306 science   LATISS_00000045 04:05:35.634 SDSSg~empty                 32.7  30.00\n",
      " 307 science   LATISS_00000046 04:06:21.083 SDSSg~empty                 45.4  30.00\n",
      " 308 science   LATISS_00000046 04:06:53.707 SDSSg~empty                 32.6  30.00\n",
      " 309 science   LATISS_00000047 04:07:40.592 SDSSg~empty                 46.9  30.00\n",
      " 310 science   LATISS_00000047 04:08:13.220 SDSSg~empty                 32.6  30.00\n",
      " 311 science   LATISS_00000051 04:09:01.183 SDSSg~empty                 48.0  30.00\n",
      " 312 science   LATISS_00000051 04:09:33.807 SDSSg~empty                 32.6  30.00\n",
      " 313 science   LATISS_00000052 04:10:20.540 SDSSg~empty                 46.7  30.00\n",
      " 314 science   LATISS_00000052 04:10:53.164 SDSSg~empty                 32.6  30.00\n",
      " 315 science   LATISS_00000053 04:11:37.931 SDSSg~empty                 44.8  30.00\n",
      " 316 science   LATISS_00000053 04:12:10.568 SDSSg~empty                 32.6  30.00\n",
      " 317 science   LATISS_00000050 04:12:54.869 SDSSg~empty                 44.3  30.00\n",
      " 318 science   LATISS_00000050 04:13:27.485 SDSSg~empty                 32.6  30.00\n",
      " 319 science   LATISS_00000057 04:14:13.042 SDSSg~empty                 45.6  30.00\n",
      " 320 science   LATISS_00000057 04:14:45.669 SDSSg~empty                 32.6  30.00\n",
      " 321 science   LATISS_00000058 04:15:31.051 SDSSg~empty                 45.4  30.00\n",
      " 322 science   LATISS_00000058 04:16:03.675 SDSSg~empty                 32.6  30.00\n",
      " 323 science   LATISS_00000054 04:16:50.109 SDSSg~empty                 46.4  30.00\n",
      " 324 science   LATISS_00000054 04:17:22.736 SDSSg~empty                 32.6  30.00\n",
      " 325 science   LATISS_00000055 04:18:07.995 SDSSg~empty                 45.3  30.00\n",
      " 326 science   LATISS_00000055 04:18:40.622 SDSSg~empty                 32.6  30.00\n",
      " 327 science   LATISS_00000056 04:19:27.399 SDSSg~empty                 46.8  30.00\n",
      " 328 science   LATISS_00000056 04:20:00.038 SDSSg~empty                 32.6  30.00\n",
      " 329 engtest   HD  29810  04:22:22.432 FELH0600~empty             142.4  30.00\n",
      " 330 engtest   HD  29810  04:22:59.959 FELH0600~empty              37.5  30.00\n",
      " 331 engtest   HD  29810  04:24:46.120 FELH0600~empty             106.2  30.00\n",
      " 332 engtest   HD  29810  04:25:23.805 FELH0600~empty              37.7  30.00\n",
      " 333 science   HD  29810  04:27:09.899 FELH0600~empty             106.1  5.00\n",
      " 334 science   LATISS_00000067 04:29:00.956 SDSSg~empty                111.1  30.00\n",
      " 335 science   LATISS_00000067 04:29:33.586 SDSSg~empty                 32.6  30.00\n",
      " 336 science   LATISS_00000009 04:30:22.885 SDSSg~empty                 49.3  30.00\n",
      " 337 science   LATISS_00000009 04:30:55.511 SDSSg~empty                 32.6  30.00\n",
      " 338 science   LATISS_00000059 04:31:44.785 SDSSg~empty                 49.3  30.00\n",
      " 339 science   LATISS_00000059 04:32:17.423 SDSSg~empty                 32.6  30.00\n",
      " 340 science   LATISS_00000060 04:33:04.428 SDSSg~empty                 47.0  30.00\n",
      " 341 science   LATISS_00000060 04:33:37.052 SDSSg~empty                 32.6  30.00\n",
      " 342 science   LATISS_00000061 04:34:22.052 SDSSg~empty                 45.0  30.00\n",
      " 343 science   LATISS_00000061 04:34:54.690 SDSSg~empty                 32.6  30.00\n",
      " 344 engtest   HD 185975  04:37:18.420 FELH0600~empty             143.7  30.00\n",
      " 345 engtest   HD 185975  04:37:56.223 FELH0600~empty              37.8  30.00\n",
      " 346 science   HD 185975  04:39:42.433 FELH0600~empty             106.2  5.00\n",
      " 347 engtest   HD 185975  04:40:10.567 FELH0600~empty              28.1  30.00\n",
      " 348 engtest   HD 185975  04:40:47.850 FELH0600~empty              37.3  30.00\n",
      " 349 engtest   HD 185975  04:42:29.239 FELH0600~empty             101.4  30.00\n",
      " 350 engtest   HD 185975  04:43:07.133 FELH0600~empty              37.9  30.00\n",
      " 351 science   HD 185975  04:44:49.706 FELH0600~empty             102.6  5.00\n",
      " 352 science   spec:HD185975 04:46:29.185 BG40~ronchi170lpmm          99.5  2.00\n",
      " 353 science   spec:ETA1DOR 04:49:12.338 BG40~ronchi170lpmm         163.2  2.00\n",
      " 354 science   spec:HD14943 04:51:43.540 BG40~ronchi170lpmm         151.2  2.00\n",
      " 355 science   spec:HD14943 04:52:16.691 BG40~ronchi170lpmm          33.2  2.00\n",
      " 356 science   spec:HD14943 04:52:47.440 BG40~ronchi170lpmm          30.7  2.00\n",
      " 357 science   spec:HD14943 04:53:13.346 BG40~ronchi170lpmm          25.9  2.00\n",
      " 358 science   spec:HD14943 04:53:31.705 empty~ronchi170lpmm         18.4  20.00\n",
      " 359 science   spec:HD14943 04:54:04.988 empty~ronchi170lpmm         33.3  20.00\n",
      " 360 science   spec:HD14943 04:54:40.822 BG40~ronchi170lpmm          35.8  20.00\n",
      " 361 science   spec:HD14943 04:55:15.667 FELH0600~ronchi170lpmm      34.8  20.00\n",
      " 362 science   spec:HD14943 04:55:55.395 empty~holo4_003             39.7  20.00\n",
      " 363 science   spec:HD14943 04:56:28.428 empty~holo4_003             33.0  20.00\n",
      " 364 science   spec:HD14943 04:57:04.691 BG40~holo4_003              36.3  20.00\n",
      " 365 science   spec:HD14943 04:57:39.708 FELH0600~holo4_003          35.0  20.00\n",
      " 366 science   spec:HD031128 04:59:26.140 BG40~ronchi170lpmm         106.4  2.00\n",
      " 367 science   spec:HD38949 05:00:55.985 BG40~ronchi170lpmm          89.8  2.00\n",
      " 368 engtest   HD 185975  05:04:58.304 FELH0600~empty             242.3  30.00\n",
      " 369 engtest   HD 185975  05:05:38.762 FELH0600~empty              40.5  30.00\n",
      " 370 engtest   HD 185975  05:14:11.237 FELH0600~empty             512.5  30.00\n",
      " 371 engtest   HD 185975  05:14:48.500 FELH0600~empty              37.3  30.00\n",
      " 372 engtest   HD 185975  05:16:34.816 FELH0600~empty             106.3  30.00\n",
      " 373 engtest   HD 185975  05:17:12.935 FELH0600~empty              38.1  30.00\n",
      " 374 science   HD 185975  05:19:01.086 FELH0600~empty             108.2  5.00\n",
      " 375 engtest   HD 185975  05:19:28.653 FELH0600~empty              27.6  30.00\n",
      " 376 engtest   HD 185975  05:20:06.470 FELH0600~empty              37.8  30.00\n",
      " 377 science   HD 185975  05:21:52.674 FELH0600~empty             106.2  5.00\n",
      " 378 science   spec:HD185975 05:23:31.498 BG40~ronchi170lpmm          98.8  2.00\n",
      " 379 engtest   HD  29083  05:28:07.082 FELH0600~empty             275.6  30.00\n",
      " 380 engtest   HD  29083  05:28:48.536 FELH0600~empty              41.5  30.00\n",
      " 381 engtest   HD  29153  05:30:23.885 FELH0600~empty              95.3  30.00\n",
      " 382 engtest   HD  29153  05:31:01.589 FELH0600~empty              37.7  30.00\n",
      " 383 science   HD  29153  05:32:45.100 FELH0600~empty             103.5  5.00\n",
      " 384 science   spec:HD031128 05:34:42.082 BG40~ronchi170lpmm         117.0  2.00\n",
      " 385 science   spec:HD031128 05:35:14.135 BG40~ronchi170lpmm          32.1  2.00\n",
      " 386 science   spec:HD031128 05:35:40.073 BG40~ronchi170lpmm          25.9  2.00\n",
      " 387 science   spec:HD031128 05:35:58.445 empty~ronchi170lpmm         18.4  20.00\n",
      " 388 science   spec:HD031128 05:36:31.553 empty~ronchi170lpmm         33.1  20.00\n",
      " 389 science   spec:HD031128 05:37:07.357 BG40~ronchi170lpmm          35.8  20.00\n",
      " 390 science   spec:HD031128 05:37:42.214 FELH0600~ronchi170lpmm      34.9  20.00\n",
      " 391 science   spec:HD031128 05:38:21.854 empty~holo4_003             39.6  20.00\n",
      " 392 science   spec:HD031128 05:38:54.883 empty~holo4_003             33.0  20.00\n",
      " 393 science   spec:HD031128 05:39:31.466 BG40~holo4_003              36.6  20.00\n",
      " 394 science   spec:HD031128 05:40:06.339 FELH0600~holo4_003          34.9  20.00\n",
      " 395 engtest   HD  43225  05:46:43.029 FELH0600~empty             396.7  30.00\n",
      " 396 engtest   HD  43225  05:47:25.207 FELH0600~empty              42.2  30.00\n",
      " 397 engtest   HD  43225  05:49:11.611 FELH0600~empty             106.4  30.00\n",
      " 398 engtest   HD  43225  05:49:50.323 FELH0600~empty              38.7  30.00\n",
      " 399 science   HD  43225  05:51:34.986 FELH0600~empty             104.7  5.00\n",
      " 400 science   spec:ETA1DOR 05:53:21.062 BG40~ronchi170lpmm         106.1  2.00\n",
      " 401 science   spec:ETA1DOR 05:53:53.537 BG40~ronchi170lpmm          32.5  2.00\n",
      " 402 science   LATISS_00000062 05:56:35.046 SDSSg~empty                161.5  30.00\n",
      " 403 science   LATISS_00000062 05:57:07.685 SDSSg~empty                 32.6  30.00\n",
      " 404 science   LATISS_00000063 05:57:57.656 SDSSg~empty                 50.0  30.00\n",
      " 405 science   LATISS_00000063 05:58:30.278 SDSSg~empty                 32.6  30.00\n",
      " 406 science   LATISS_00000064 05:59:15.151 SDSSg~empty                 44.9  30.00\n",
      " 407 science   LATISS_00000064 05:59:47.780 SDSSg~empty                 32.6  30.00\n",
      " 408 science   LATISS_00000065 06:00:35.091 SDSSg~empty                 47.3  30.00\n",
      " 409 science   LATISS_00000065 06:01:07.711 SDSSg~empty                 32.6  30.00\n",
      " 410 science   LATISS_00000066 06:01:54.834 SDSSg~empty                 47.1  30.00\n",
      " 411 science   LATISS_00000066 06:02:27.464 SDSSg~empty                 32.6  30.00\n",
      " 412 science   LATISS_00000068 06:03:16.416 SDSSg~empty                 49.0  30.00\n",
      " 413 science   LATISS_00000068 06:03:49.055 SDSSg~empty                 32.6  30.00\n",
      " 414 science   LATISS_00000069 06:04:36.490 SDSSg~empty                 47.4  30.00\n",
      " 415 science   LATISS_00000069 06:05:09.134 SDSSg~empty                 32.6  30.00\n",
      " 416 science   LATISS_00000070 06:05:54.537 SDSSg~empty                 45.4  30.00\n",
      " 417 science   LATISS_00000070 06:06:27.170 SDSSg~empty                 32.6  30.00\n",
      " 418 science   LATISS_00000071 06:07:12.368 SDSSg~empty                 45.2  30.00\n",
      " 419 science   LATISS_00000071 06:07:44.994 SDSSg~empty                 32.6  30.00\n",
      " 420 science   LATISS_00000072 06:08:31.313 SDSSg~empty                 46.3  30.00\n",
      " 421 science   LATISS_00000072 06:09:03.949 SDSSg~empty                 32.6  30.00\n",
      " 422 science   LATISS_00000073 06:09:50.413 SDSSg~empty                 46.5  30.00\n",
      " 423 science   LATISS_00000073 06:10:23.039 SDSSg~empty                 32.6  30.00\n",
      " 424 science   LATISS_00000074 06:11:09.895 SDSSg~empty                 46.9  30.00\n",
      " 425 science   LATISS_00000074 06:11:42.525 SDSSg~empty                 32.6  30.00\n",
      " 426 science   LATISS_00000075 06:12:27.420 SDSSg~empty                 44.9  30.00\n",
      " 427 science   LATISS_00000075 06:13:00.065 SDSSg~empty                 32.6  30.00\n",
      " 428 science   LATISS_00000076 06:13:46.403 SDSSg~empty                 46.3  30.00\n",
      " 429 science   LATISS_00000076 06:14:19.028 SDSSg~empty                 32.6  30.00\n",
      " 430 science   LATISS_00000077 06:15:06.042 SDSSg~empty                 47.0  30.00\n",
      " 431 science   LATISS_00000077 06:15:38.663 SDSSg~empty                 32.6  30.00\n",
      " 432 science   LATISS_00000078 06:16:23.283 SDSSg~empty                 44.6  30.00\n",
      " 433 science   LATISS_00000078 06:16:55.901 SDSSg~empty                 32.6  30.00\n",
      " 434 science   LATISS_00000079 06:17:40.507 SDSSg~empty                 44.6  30.00\n",
      " 435 science   LATISS_00000079 06:18:13.138 SDSSg~empty                 32.6  30.00\n",
      " 436 science   LATISS_00000080 06:19:00.254 SDSSg~empty                 47.1  30.00\n",
      " 437 science   LATISS_00000080 06:19:32.895 SDSSg~empty                 32.6  30.00\n",
      " 438 science   LATISS_00000081 06:20:17.383 SDSSg~empty                 44.5  30.00\n",
      " 439 science   LATISS_00000081 06:20:50.020 SDSSg~empty                 32.6  30.00\n",
      " 440 science   LATISS_00000082 06:21:36.877 SDSSg~empty                 46.9  30.00\n",
      " 441 science   LATISS_00000082 06:22:09.509 SDSSg~empty                 32.6  30.00\n",
      " 442 science   LATISS_00000083 06:22:56.132 SDSSg~empty                 46.6  30.00\n",
      " 443 science   LATISS_00000083 06:23:28.766 SDSSg~empty                 32.6  30.00\n",
      " 444 science   LATISS_00000084 06:24:15.485 SDSSg~empty                 46.7  30.00\n",
      " 445 science   LATISS_00000084 06:24:48.132 SDSSg~empty                 32.6  30.00\n",
      " 446 science   LATISS_00000085 06:25:34.380 SDSSg~empty                 46.2  30.00\n",
      " 447 science   LATISS_00000085 06:26:07.015 SDSSg~empty                 32.6  30.00\n",
      " 448 science   LATISS_00000086 06:26:53.889 SDSSg~empty                 46.9  30.00\n",
      " 449 science   LATISS_00000086 06:27:26.520 SDSSg~empty                 32.6  30.00\n",
      " 450 science   LATISS_00000087 06:28:11.376 SDSSg~empty                 44.9  30.00\n",
      " 451 science   LATISS_00000087 06:28:44.001 SDSSg~empty                 32.6  30.00\n",
      " 452 science   LATISS_00000088 06:29:30.458 SDSSg~empty                 46.5  30.00\n",
      " 453 science   LATISS_00000088 06:30:03.092 SDSSg~empty                 32.6  30.00\n",
      " 454 science   LATISS_00000089 06:30:49.793 SDSSg~empty                 46.7  30.00\n",
      " 455 science   LATISS_00000089 06:31:22.421 SDSSg~empty                 32.6  30.00\n",
      " 456 science   LATISS_00000090 06:32:08.571 SDSSg~empty                 46.1  30.00\n",
      " 457 science   LATISS_00000090 06:32:41.200 SDSSg~empty                 32.6  30.00\n",
      " 458 science   LATISS_00000091 06:33:26.518 SDSSg~empty                 45.3  30.00\n",
      " 459 science   LATISS_00000091 06:33:59.151 SDSSg~empty                 32.6  30.00\n",
      " 460 science   LATISS_00000092 06:34:44.542 SDSSg~empty                 45.4  30.00\n",
      " 461 science   LATISS_00000092 06:35:17.168 SDSSg~empty                 32.6  30.00\n",
      " 462 science   LATISS_00000093 06:36:03.944 SDSSg~empty                 46.8  30.00\n",
      " 463 science   LATISS_00000093 06:36:36.580 SDSSg~empty                 32.6  30.00\n",
      " 464 science   LATISS_00000094 06:37:23.521 SDSSg~empty                 46.9  30.00\n",
      " 465 science   LATISS_00000094 06:37:56.147 SDSSg~empty                 32.6  30.00\n",
      " 466 science   LATISS_00000095 06:38:41.582 SDSSg~empty                 45.4  30.00\n",
      " 467 science   LATISS_00000095 06:39:14.205 SDSSg~empty                 32.6  30.00\n",
      " 468 science   LATISS_00000096 06:39:58.588 SDSSg~empty                 44.4  30.00\n",
      " 469 science   LATISS_00000096 06:40:31.218 SDSSg~empty                 32.6  30.00\n",
      " 470 science   LATISS_00000097 06:41:16.629 SDSSg~empty                 45.4  30.00\n",
      " 471 science   LATISS_00000097 06:41:49.255 SDSSg~empty                 32.6  30.00\n",
      " 472 science   LATISS_00000098 06:42:34.595 SDSSg~empty                 45.3  30.00\n",
      " 473 science   LATISS_00000098 06:43:07.226 SDSSg~empty                 32.6  30.00\n",
      " 474 science   LATISS_00000099 06:43:52.569 SDSSg~empty                 45.3  30.00\n",
      " 475 science   LATISS_00000099 06:44:25.195 SDSSg~empty                 32.6  30.00\n",
      " 476 science   LATISS_00000100 06:45:10.590 SDSSg~empty                 45.4  30.00\n",
      " 477 science   LATISS_00000100 06:45:43.222 SDSSg~empty                 32.6  30.00\n",
      " 478 science   LATISS_00000101 06:46:29.427 SDSSg~empty                 46.2  30.00\n",
      " 479 science   LATISS_00000101 06:47:02.046 SDSSg~empty                 32.6  30.00\n",
      " 480 science   LATISS_00000102 06:47:47.532 SDSSg~empty                 45.5  30.00\n",
      " 481 science   LATISS_00000102 06:48:20.156 SDSSg~empty                 32.6  30.00\n",
      " 482 engtest   HD    869  06:49:42.527 FELH0600~empty              82.4  30.00\n",
      " 483 engtest   HD    869  06:50:20.527 FELH0600~empty              38.0  30.00\n",
      " 484 engtest   HD    869  06:52:05.937 FELH0600~empty             105.4  30.00\n",
      " 485 engtest   HD    869  06:52:43.086 FELH0600~empty              37.1  30.00\n",
      " 486 science   HD    869  06:54:26.632 FELH0600~empty             103.5  5.00\n",
      " 487 engtest   HD    869  06:54:53.806 FELH0600~empty              27.2  30.00\n",
      " 488 engtest   HD    869  06:55:31.894 FELH0600~empty              38.1  30.00\n",
      " 489 science   HD    869  06:57:19.386 FELH0600~empty             107.5  5.00\n",
      " 490 science   spec:HD2811 06:59:00.152 BG40~ronchi170lpmm         100.8  2.00\n",
      " 491 science   HD  37167  07:25:26.735 FELH0600~empty            1586.6  2.00\n",
      " 492 engtest   HD  37167  07:46:10.408 FELH0600~empty            1243.7  20.00\n",
      " 493 engtest   HD  37167  07:46:38.810 FELH0600~empty              28.4  20.00\n",
      " 494 engtest   HD  37167  07:48:06.785 FELH0600~empty              88.0  20.00\n",
      " 495 engtest   HD  37167  07:48:34.964 FELH0600~empty              28.2  20.00\n",
      " 496 engtest   HD  37167  07:50:01.366 FELH0600~empty              86.4  20.00\n",
      " 497 engtest   HD  37167  07:50:29.251 FELH0600~empty              27.9  20.00\n",
      " 498 science   HD  37167  07:52:03.288 FELH0600~empty              94.0  5.00\n",
      " 499 engtest   HD  37167  07:54:03.501 FELH0600~empty             120.2  30.00\n",
      " 500 engtest   HR2934     08:03:29.268 FELH0600~empty             565.8  30.00\n",
      " 501 engtest   HR2934     08:05:01.629 FELH0600~empty              92.4  30.00\n",
      " 502 engtest   HR2934     08:05:34.257 FELH0600~empty              32.6  30.00\n",
      " 503 engtest   HR2934     08:06:06.887 FELH0600~empty              32.6  30.00\n",
      " 504 engtest   HR2934     08:06:57.735 FELH0600~empty              50.8  30.00\n",
      " 505 engtest   HR2934     08:07:30.356 FELH0600~empty              32.6  30.00\n",
      " 506 engtest   HR2934     08:08:02.974 FELH0600~empty              32.6  30.00\n",
      " 507 engtest   HR2934     08:08:47.931 FELH0600~empty              45.0  30.00\n",
      " 508 engtest   HR2934     08:09:20.550 FELH0600~empty              32.6  30.00\n",
      " 509 engtest   HR2934     08:09:53.191 FELH0600~empty              32.6  30.00\n",
      " 510 engtest   HR2934     08:10:35.929 FELH0600~empty              42.7  30.00\n",
      " 511 engtest   HR2934     08:11:08.552 FELH0600~empty              32.6  30.00\n",
      " 512 engtest   HR2934     08:11:41.165 FELH0600~empty              32.6  30.00\n",
      " 513 engtest   HR2934     08:12:26.228 FELH0600~empty              45.1  30.00\n",
      " 514 engtest   HR2934     08:12:58.862 FELH0600~empty              32.6  30.00\n",
      " 515 engtest   HR2934     08:13:31.485 FELH0600~empty              32.6  30.00\n",
      " 516 engtest   HR2934     08:14:20.950 FELH0600~empty              49.5  30.00\n",
      " 517 engtest   HR2934     08:14:53.571 FELH0600~empty              32.6  30.00\n",
      " 518 engtest   HR2934     08:15:26.187 FELH0600~empty              32.6  30.00\n",
      " 519 engtest   HR2934     08:16:17.664 FELH0600~empty              51.5  30.00\n",
      " 520 engtest   HR2934     08:16:50.291 FELH0600~empty              32.6  30.00\n",
      " 521 engtest   HR2934     08:17:22.922 FELH0600~empty              32.6  30.00\n",
      " 522 engtest   HR2934     08:18:12.518 FELH0600~empty              49.6  30.00\n",
      " 523 engtest   HR2934     08:18:45.142 FELH0600~empty              32.6  30.00\n",
      " 524 engtest   HR2934     08:19:17.758 FELH0600~empty              32.6  30.00\n",
      " 525 engtest   HR2934     08:20:03.722 FELH0600~empty              46.0  30.00\n",
      " 526 engtest   HR2934     08:20:36.340 FELH0600~empty              32.6  30.00\n",
      " 527 engtest   HR2934     08:21:08.962 FELH0600~empty              32.6  30.00\n",
      " 528 engtest   HR2934     08:21:54.382 FELH0600~empty              45.4  30.00\n",
      " 529 engtest   HR2934     08:22:27.008 FELH0600~empty              32.6  30.00\n",
      " 530 engtest   HR2934     08:22:59.628 FELH0600~empty              32.6  30.00\n",
      " 531 engtest   HR2934     08:23:46.029 FELH0600~empty              46.4  30.00\n",
      " 532 engtest   HR2934     08:24:18.646 FELH0600~empty              32.6  30.00\n",
      " 533 engtest   HR2934     08:24:51.284 FELH0600~empty              32.6  30.00\n",
      " 534 engtest   HR2934     08:25:40.965 FELH0600~empty              49.7  30.00\n",
      " 535 engtest   HR2934     08:26:13.580 FELH0600~empty              32.6  30.00\n",
      " 536 engtest   HR2934     08:26:46.209 FELH0600~empty              32.6  30.00\n",
      " 537 engtest   HR2934     08:27:45.195 FELH0600~empty              59.0  30.00\n",
      " 538 engtest   HR2934     08:28:17.813 FELH0600~empty              32.6  30.00\n",
      " 539 engtest   HR2934     08:28:50.449 FELH0600~empty              32.6  30.00\n",
      " 540 engtest   HR2934     08:29:49.864 FELH0600~empty              59.4  30.00\n",
      " 541 engtest   HR2934     08:30:22.490 FELH0600~empty              32.6  30.00\n",
      " 542 engtest   HR2934     08:30:55.134 FELH0600~empty              32.6  30.00\n",
      " 543 engtest   HR2934     08:31:46.751 FELH0600~empty              51.6  30.00\n",
      " 544 engtest   HR2934     08:32:19.392 FELH0600~empty              32.6  30.00\n",
      " 545 engtest   HR2934     08:32:52.015 FELH0600~empty              32.6  30.00\n",
      " 546 engtest   HR2934     08:33:40.503 FELH0600~empty              48.5  30.00\n",
      " 547 engtest   HR2934     08:34:13.129 FELH0600~empty              32.6  30.00\n",
      " 548 engtest   HR2934     08:34:45.753 FELH0600~empty              32.6  30.00\n",
      " 549 engtest   HR2934     08:35:37.813 FELH0600~empty              52.1  30.00\n",
      " 550 engtest   HR2934     08:36:10.429 FELH0600~empty              32.6  30.00\n",
      " 551 engtest   HR2934     08:36:43.052 FELH0600~empty              32.6  30.00\n",
      " 552 engtest   HR2934     08:37:42.967 FELH0600~empty              59.9  30.00\n",
      " 553 engtest   HR2934     08:38:15.597 FELH0600~empty              32.6  30.00\n",
      " 554 engtest   HR2934     08:38:48.226 FELH0600~empty              32.6  30.00\n",
      " 555 engtest   HR2934     08:40:15.897 FELH0600~empty              87.7  20.00\n",
      " 556 engtest   HR2934     08:40:44.509 FELH0600~empty              28.6  20.00\n",
      " 557 engtest   HR2934     08:42:13.250 FELH0600~empty              88.7  20.00\n",
      " 558 engtest   HR2934     08:42:41.383 FELH0600~empty              28.1  20.00\n",
      " 559 engtest   HR2934     08:44:07.398 FELH0600~empty              86.0  20.00\n",
      " 560 engtest   HR2934     08:44:35.683 FELH0600~empty              28.3  20.00\n",
      " 561 engtest   HR2934     08:46:03.062 FELH0600~empty              87.4  20.00\n",
      " 562 engtest   HR2934     08:46:30.283 FELH0600~empty              27.2  20.00\n",
      " 563 engtest   HD58591    08:50:20.497 FELH0600~empty             230.2  20.00\n",
      " 564 engtest   HD58591    08:50:48.683 FELH0600~empty              28.2  20.00\n",
      " 565 engtest   HD58591    08:52:17.084 FELH0600~empty              88.4  20.00\n",
      " 566 engtest   HD58591    08:52:44.284 FELH0600~empty              27.2  20.00\n",
      " 567 science   HD58591    08:54:12.099 FELH0600~empty              87.8  5.00\n",
      " 568 engtest   HD58591    08:54:58.263 FELH0600~empty              46.2  2.00\n",
      " 569 engtest   HD58591    08:55:43.956 FELH0600~empty              45.7  20.00\n",
      " 570 engtest   HD58591    08:56:25.490 FELH0600~empty              41.5  20.00\n",
      " 571 engtest   HD58591    08:57:00.528 FELH0600~empty              35.0  20.00\n",
      " 572 engtest   HD58591    08:57:32.575 FELH0600~empty              32.0  20.00\n",
      " 573 engtest   HD58591    08:58:08.060 FELH0600~empty              35.5  20.00\n",
      " 574 engtest   HD58591    08:58:48.298 FELH0600~empty              40.2  20.00\n",
      " 575 engtest   HD58591    08:59:30.770 FELH0600~empty              42.5  20.00\n",
      " 576 engtest   HD58591    09:00:09.938 FELH0600~empty              39.2  20.00\n",
      " 577 engtest   HD58591    09:00:46.528 FELH0600~empty              36.6  20.00\n",
      " 578 engtest   HD58591    09:01:21.843 FELH0600~empty              35.3  20.00\n",
      " 579 engtest   HD58591    09:01:58.285 FELH0600~empty              36.4  20.00\n",
      " 580 engtest   HD58591    09:02:37.953 FELH0600~empty              39.7  20.00\n",
      " 581 engtest   HD58591    09:03:26.570 FELH0600~empty              48.6  20.00\n",
      " 582 engtest   HD58591    09:04:15.825 FELH0600~empty              49.3  20.00\n",
      " 583 engtest   HD58591    09:04:57.822 FELH0600~empty              42.0  20.00\n",
      " 584 engtest   HD58591    09:05:36.411 FELH0600~empty              38.6  20.00\n",
      " 585 engtest   HD58591    09:06:17.890 FELH0600~empty              41.5  20.00\n",
      " 586 engtest   HD58591    09:07:08.480 FELH0600~empty              50.6  20.00\n"
     ]
    }
   ],
   "source": [
    "reporter.printObsTable()"
   ]
  },
  {
   "cell_type": "code",
   "execution_count": 15,
   "id": "2eeef96f",
   "metadata": {},
   "outputs": [
    {
     "ename": "SyntaxError",
     "evalue": "invalid syntax (<ipython-input-15-0039b9705ac8>, line 1)",
     "output_type": "error",
     "traceback": [
      "\u001b[0;36m  File \u001b[0;32m\"<ipython-input-15-0039b9705ac8>\"\u001b[0;36m, line \u001b[0;32m1\u001b[0m\n\u001b[0;31m    alert False\u001b[0m\n\u001b[0m          ^\u001b[0m\n\u001b[0;31mSyntaxError\u001b[0m\u001b[0;31m:\u001b[0m invalid syntax\n"
     ]
    }
   ],
   "source": [
    "alert False"
   ]
  },
  {
   "cell_type": "markdown",
   "id": "b9cca6eb",
   "metadata": {},
   "source": [
    "# Butler"
   ]
  },
  {
   "cell_type": "markdown",
   "id": "781cd016",
   "metadata": {},
   "source": [
    "## Configuration for Butler"
   ]
  },
  {
   "cell_type": "code",
   "execution_count": 15,
   "id": "57124628",
   "metadata": {},
   "outputs": [],
   "source": [
    "#butler=dafPersist.Butler(\"/project/shared/auxTel\")\n",
    "butler=dafPersist.Butler(repoDir)"
   ]
  },
  {
   "cell_type": "markdown",
   "id": "3c49a52e",
   "metadata": {},
   "source": [
    "## Sequence selection"
   ]
  },
  {
   "cell_type": "code",
   "execution_count": null,
   "id": "12777977",
   "metadata": {},
   "outputs": [],
   "source": [
    "all_myseq_holo=range(98,107)\n",
    "all_myseq=all_myseq_holo"
   ]
  },
  {
   "cell_type": "code",
   "execution_count": null,
   "id": "3ed997fb",
   "metadata": {},
   "outputs": [],
   "source": [
    "seqNum=all_myseq_holo[0]"
   ]
  },
  {
   "cell_type": "code",
   "execution_count": null,
   "id": "81ff6910",
   "metadata": {},
   "outputs": [],
   "source": [
    "seqNum"
   ]
  },
  {
   "cell_type": "markdown",
   "id": "548fee48",
   "metadata": {},
   "source": [
    "## Display"
   ]
  },
  {
   "cell_type": "code",
   "execution_count": null,
   "id": "b400ac5e",
   "metadata": {},
   "outputs": [],
   "source": [
    "display1=afwDisplay.getDisplay(frame=1,port=80,name='sylviedc_debug_2021_10_05',url=os.environ[\"FIREFLY_URL\"])"
   ]
  },
  {
   "cell_type": "code",
   "execution_count": null,
   "id": "91489937",
   "metadata": {},
   "outputs": [],
   "source": [
    "raw=butler.get('raw',dayObs=dayObs,seqNum=seqNum)"
   ]
  },
  {
   "cell_type": "code",
   "execution_count": null,
   "id": "35bd9827",
   "metadata": {},
   "outputs": [],
   "source": [
    "display1.mtv(raw)"
   ]
  },
  {
   "cell_type": "code",
   "execution_count": null,
   "id": "bc2d4da4",
   "metadata": {},
   "outputs": [],
   "source": [
    "display1.getClient().display_url()"
   ]
  },
  {
   "cell_type": "code",
   "execution_count": null,
   "id": "a1b53cf7",
   "metadata": {},
   "outputs": [],
   "source": [
    "print(butler.queryMetadata('raw','seqNum',dayObs=dayObs))"
   ]
  },
  {
   "cell_type": "code",
   "execution_count": null,
   "id": "96f5ca0b",
   "metadata": {},
   "outputs": [],
   "source": [
    "#exp=butler.get('quickLookExp',dayObs=dayObs,seqNum=seqNum)"
   ]
  },
  {
   "cell_type": "markdown",
   "id": "8dc2441d",
   "metadata": {},
   "source": [
    "## Meta Data"
   ]
  },
  {
   "cell_type": "code",
   "execution_count": null,
   "id": "7a2b3e21",
   "metadata": {},
   "outputs": [],
   "source": [
    "md=butler.get(\"raw_md\",dayObs=dayObs,seqNum=seqNum)"
   ]
  },
  {
   "cell_type": "code",
   "execution_count": null,
   "id": "437471d9",
   "metadata": {},
   "outputs": [],
   "source": [
    "md.toDict()"
   ]
  },
  {
   "cell_type": "markdown",
   "id": "08ef6e91",
   "metadata": {},
   "source": [
    "# Start"
   ]
  },
  {
   "cell_type": "code",
   "execution_count": null,
   "id": "ac53e166",
   "metadata": {},
   "outputs": [],
   "source": [
    "plt.rcParams[\"axes.labelsize\"] = 'large'\n",
    "plt.rcParams['axes.titlesize'] = 'large'\n",
    "plt.rcParams['xtick.labelsize']= 'large'\n",
    "plt.rcParams['ytick.labelsize']= 'large'"
   ]
  },
  {
   "cell_type": "code",
   "execution_count": null,
   "id": "bd201488",
   "metadata": {},
   "outputs": [],
   "source": [
    "all_my_raw_array=[]\n",
    "all_my_header=[]\n",
    "all_my_object=[]\n",
    "all_my_seq=[]\n",
    "all_my_grating=[]\n",
    "all_my_filter=[]\n",
    "all_my_date=[]\n",
    "\n",
    "\n",
    "for seqNum in all_myseq:\n",
    "    raw=butler.get('raw',dayObs=dayObs,seqNum=seqNum)\n",
    "    md=butler.get(\"raw_md\",dayObs=dayObs,seqNum=seqNum)\n",
    "    \n",
    "    header=md.toDict()\n",
    "    \n",
    "    #decode header\n",
    "    \n",
    "    obj_name=header['OBJECT']\n",
    "    obj_name2 = ''.join(obj_name.split())\n",
    "    grating=header['GRATING']\n",
    "    obsid=header['OBSID']\n",
    "    date=obsid.replace('AT_O_','') # remove pre-tag to get date only and seqnum\n",
    "    filter_name=header['FILTER']\n",
    "    filter_name2=filter_name.split(\"_\")[0]   # cut empty_1 to empty\n",
    "    \n",
    "    # select only pre-selected disperser\n",
    "    if grating == DISPERSER_SEL: \n",
    "        all_my_raw_array.append(np.copy(raw.image.array))\n",
    "        all_my_header.append(header)\n",
    "        all_my_object.append(obj_name2)\n",
    "        all_my_seq.append(header['SEQNUM'])\n",
    "        all_my_grating.append(grating)\n",
    "        all_my_filter.append(filter_name2)\n",
    "        all_my_date.append(date)"
   ]
  },
  {
   "cell_type": "markdown",
   "id": "a0776af7",
   "metadata": {},
   "source": [
    "## Total number of images"
   ]
  },
  {
   "cell_type": "code",
   "execution_count": null,
   "id": "7b0a2f2e",
   "metadata": {},
   "outputs": [],
   "source": [
    "NSEL=len(all_my_raw_array)"
   ]
  },
  {
   "cell_type": "code",
   "execution_count": null,
   "id": "8c2564ef",
   "metadata": {},
   "outputs": [],
   "source": [
    "NSEL"
   ]
  },
  {
   "cell_type": "markdown",
   "id": "79519a00",
   "metadata": {},
   "source": [
    "# Plot"
   ]
  },
  {
   "cell_type": "code",
   "execution_count": null,
   "id": "305dd5f9",
   "metadata": {},
   "outputs": [],
   "source": [
    "idx=0"
   ]
  },
  {
   "cell_type": "code",
   "execution_count": null,
   "id": "0ecb11d0",
   "metadata": {},
   "outputs": [],
   "source": [
    "fig = plt.figure(figsize=(10,10))\n",
    "ax=fig.add_subplot(111)\n",
    "ax.imshow(all_my_raw_array[idx],origin='lower',cmap=\"jet\",norm=LogNorm())\n",
    "plt.show()"
   ]
  },
  {
   "cell_type": "code",
   "execution_count": null,
   "id": "9989ab2f",
   "metadata": {},
   "outputs": [],
   "source": [
    "\n",
    "Ncol=4\n",
    "Nrow=2\n",
    "Ntot=Ncol*Nrow\n",
    "\n",
    "fig = plt.figure(figsize=(20,20))\n",
    "\n",
    "# loop on angle\n",
    "for idx in np.arange(Ntot):\n",
    "    if idx>=NSEL:\n",
    "        break\n",
    "        \n",
    "    ax=fig.add_subplot(Nrow,Ncol,idx+1)\n",
    "    ax.imshow(all_my_raw_array[idx],origin='lower',cmap=\"jet\",norm=LogNorm())\n",
    "    ax.set_title(all_myseq[idx]) \n",
    "    ax.minorticks_on()\n",
    "    ax.set_aspect(\"equal\")\n",
    "    \n",
    "    #ax2=ax.twiny()\n",
    "    #ax2.imshow(all_my_raw_array[idx],origin='lower',cmap=\"jet\",norm=LogNorm())\n",
    "    #ax2.set_xlim(ax.get_xlim())\n",
    "    #ax2.minorticks_on()\n",
    "    \n",
    "    #ax.tick_params(which='major', length=10, width=2, direction='inout')\n",
    "    #ax.tick_params(which='minor', length=5, width=2, direction='inout')\n",
    "    #ax.grid(which='both')\n",
    "\n",
    "\n",
    "\n",
    "    #ax.set_aspect('equal')\n",
    "\n",
    "    #x1, x2 = ax.get_xlim() \n",
    "    #y1, y2 = ax.get_ylim() \n",
    "plt.show()"
   ]
  },
  {
   "cell_type": "code",
   "execution_count": null,
   "id": "c17f2524",
   "metadata": {},
   "outputs": [],
   "source": [
    "#all_my_raw_array=[]\n",
    "#all_my_header=[]\n",
    "#all_my_object=[]\n",
    "#all_my_seq=[]\n",
    "#all_my_grating=[]\n",
    "#all_my_filter=[]\n"
   ]
  },
  {
   "cell_type": "code",
   "execution_count": null,
   "id": "d3da9c04",
   "metadata": {},
   "outputs": [],
   "source": [
    "if FLAG_SAVE_IMAGE:\n",
    "  \n",
    "    for idx in np.arange(NSEL):\n",
    "        filename=all_my_grating[idx]+\"_\"+all_my_filter[idx]+\"_\"+all_my_object[idx]+\"_\"+all_my_date[idx]+\".fits\"\n",
    "        print(filename)\n",
    "    \n",
    "        hdr = fits.Header()\n",
    "    \n",
    "        for key,value in all_my_header[idx].items():\n",
    "            hdr[str(key)]=value\n",
    "        \n",
    "        hdu = fits.PrimaryHDU(data=all_my_raw_array[idx],header=hdr)  # with headers\n",
    "        #hdu = fits.PrimaryHDU(data=all_my_raw_array[idx])\n",
    "    \n",
    "        hdul = fits.HDUList([hdu])\n",
    "    \n",
    "        hdul.writeto(filename,overwrite=True)\n",
    "    \n",
    "        "
   ]
  },
  {
   "cell_type": "code",
   "execution_count": null,
   "id": "136dc2ea",
   "metadata": {},
   "outputs": [],
   "source": []
  }
 ],
 "metadata": {
  "kernelspec": {
   "display_name": "LSST",
   "language": "python",
   "name": "lsst"
  },
  "language_info": {
   "codemirror_mode": {
    "name": "ipython",
    "version": 3
   },
   "file_extension": ".py",
   "mimetype": "text/x-python",
   "name": "python",
   "nbconvert_exporter": "python",
   "pygments_lexer": "ipython3",
   "version": "3.8.8"
  }
 },
 "nbformat": 4,
 "nbformat_minor": 5
}
