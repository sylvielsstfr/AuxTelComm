{
 "cells": [
  {
   "cell_type": "markdown",
   "metadata": {},
   "source": [
    "# Flatten observations for the night February 17th 2021\n",
    "\n",
    "https://harvard.zoom.us/rec/play/N7umVF8Rk3vWvW_O3jkaTinofB2WxW3QKz0fVai_K-qvAYLt37uMrvskOlnBiMEjduSeQVzWT7_DDYzc.IY7Pqjef82YlWmZE?continueMode=true&_x_zm_rtaid=BjQYrDaETYeYRUMw8NQgLw.1613559822570.c813d210d38e378b719cb4048493df5b&_x_zm_rhtaid=205\n",
    "\n",
    "\n",
    "- work with wl_2021_02\n",
    "- use jupyter kernel LSST\n",
    "- requires the installation https://github.com/mfisherlevine/summit\n",
    "- requires to write in file {HOME}/notebooks/.user_setups\n"
   ]
  },
  {
   "cell_type": "code",
   "execution_count": 2,
   "metadata": {},
   "outputs": [],
   "source": [
    "#!/bin/sh\n",
    "# This file is expected to be found in ${HOME}/notebooks/.user_setups\n",
    "#  It is a shell fragment that will be sourced during kernel startup\n",
    "#  when the LSST kernel is started in a JupyterLab environment.  It runs\n",
    "#  in the user context and can contain arbitrary shell code.  Exported changes\n",
    "#  in its environment will persist into the JupyterLab Python environment.\n",
    "\n",
    "#    setup -j rapid_analysis -r ${HOME}/repos/rapid_analysis\n",
    "#    setup -j atmospec       -r ${HOME}/repos/atmospec"
   ]
  },
  {
   "cell_type": "code",
   "execution_count": 2,
   "metadata": {},
   "outputs": [
    {
     "name": "stdout",
     "output_type": "stream",
     "text": [
      "afw                   21.0.0-7-g484459ba0+ec3713772a \tcurrent w_2021_02 setup\n",
      "alert_packet          master-g9c6f3ccb69 \tcurrent w_2021_02 setup\n",
      "ap_association        21.0.0-3-g88e2395+3185591824 \tcurrent w_2021_02 setup\n",
      "ap_pipe               21.0.0-8-ga29d378+1e78883ff8 \tcurrent w_2021_02 setup\n",
      "ap_verify             21.0.0-8-ge08b8c0+00a3cd4381 \tcurrent w_2021_02 setup\n",
      "astro_metadata_translator 0.1.0-18-g39729a3+2c88556dba \tcurrent w_2021_02 setup\n",
      "astshim               21.0.0-2-g45278ab+1b62c9342b \tcurrent w_2021_02 setup\n",
      "atmospec              LOCAL:/home/dagoret/repos/atmospec \tsetup\n",
      "base                  21.0.0-3-g5051ac2+1b62c9342b \tcurrent w_2021_02 setup\n",
      "cbp                   21.0.0-2-g143869c+68734f91bf \tcurrent w_2021_02 setup\n",
      "coadd_utils           21.0.0-2-g7f82c8f+0fa6211a2a \tcurrent w_2021_02 setup\n",
      "cp_pipe               21.0.0-5-gb7080ec+be549261b9 \tcurrent w_2021_02 setup\n",
      "ctrl_bps              21.0.0-6-g55737e1+9538d236c5 \tcurrent w_2021_02 setup\n",
      "ctrl_execute          21.0.0-2-g3d7e797+d6fe5bc27d \tcurrent w_2021_02 setup\n",
      "ctrl_mpexec           21.0.0-14-g834ab33+a13561ece8 \tcurrent w_2021_02 setup\n",
      "ctrl_orca             21.0.0-2-gfca2c14+59e272c9e0 \tcurrent w_2021_02 setup\n",
      "ctrl_platform_lsstvc  21.0.0-2-g181865c+6a3411a030 \tcurrent w_2021_02 setup\n",
      "ctrl_pool             21.0.0-2-ga326454+0fa6211a2a \tcurrent w_2021_02 setup\n",
      "daf_base              21.0.0+4a36882ba2 \tcurrent w_2021_02 setup\n",
      "daf_butler            21.0.0-23-g491dce9c+05ed0ab9e4 \tcurrent w_2021_02 setup\n",
      "daf_persistence       21.0.0-2-ga885a99+4aa8b35973 \tcurrent w_2021_02 setup\n",
      "dax_apdb              21.0.0-2-g5242d73+68734f91bf \tcurrent w_2021_02 setup\n",
      "display_ds9           21.0.0-2-g1367e85+68734f91bf \tcurrent w_2021_02 setup\n",
      "display_firefly       21.0.0-2-g8dde007+38856ba921 \tcurrent w_2021_02 setup\n",
      "display_matplotlib    21.0.0-2-gfc62afb+68734f91bf \tcurrent w_2021_02 setup\n",
      "eigen                 3.3.7.lsst2-1-g398bedf \tcurrent w_2021_02 setup\n",
      "fgcm                  lsst-dev-geab6a24725 \tcurrent w_2021_02 setup\n",
      "fgcmcal               21.0.0-4-g8a80011+74311aebad \tcurrent w_2021_02 setup\n",
      "firefly_client        lsst-dev-g508dc7262a \tcurrent w_2021_02 setup\n",
      "geom                  21.0.0-2-g8f08a60+05ed0ab9e4 \tcurrent w_2021_02 setup\n",
      "ip_diffim             21.0.0-2-g973f35b+f47790aff8 \tcurrent w_2021_02 setup\n",
      "ip_isr                21.0.0-1-g763706f+208f2a4a9f \tcurrent w_2021_02 setup\n",
      "jointcal              21.0.0-5-gcff38f6+b65dafa625 \tcurrent w_2021_02 setup\n",
      "jointcal_cholmod      master-gaea3fc0611+1b62c9342b \tcurrent w_2021_02 setup\n",
      "kht                   lsst-dev-g85ae2b9583+fe93bf5141 \tcurrent w_2021_02 setup\n",
      "log                   21.0.0-2-g2909d54+4a36882ba2 \tcurrent w_2021_02 setup\n",
      "lsst_apps             21.0.0-1-ge4b456e+585237544f \tcurrent w_2021_02 setup\n",
      "lsst_distrib          21.0.0-1-g00ce914+d6245ebd2e \tcurrent w_2021_02 setup\n",
      "lsst_obs              21.0.0-2-g1d50a98+bc1f23a3fd \tcurrent w_2021_02 setup\n",
      "meas_algorithms       21.0.0-6-g2b8c1f54+6e06838a0f \tcurrent w_2021_02 setup\n",
      "meas_astrom           21.0.0-2-g35ce6d5+208f2a4a9f \tcurrent w_2021_02 setup\n",
      "meas_base             21.0.0-3-g4c5b185+ac3e4e795c \tcurrent w_2021_02 setup\n",
      "meas_deblender        21.0.0-2-gc738bc1+8a19e45a34 \tcurrent w_2021_02 setup\n",
      "meas_extensions_convolved 21.0.0-2-g7713827+f807012f6a \tcurrent w_2021_02 setup\n",
      "meas_extensions_photometryKron 21.0.0-2-g66bcc37+208f2a4a9f \tcurrent w_2021_02 setup\n",
      "meas_extensions_psfex 21.0.0-2-ge712728+70cd99b747 \tcurrent w_2021_02 setup\n",
      "meas_extensions_scarlet 21.0.0-3-g5fe0b64+7f2b107c6d \tcurrent w_2021_02 setup\n",
      "meas_extensions_shapeHSM 21.0.0-2-gf484ad7+208f2a4a9f \tcurrent w_2021_02 setup\n",
      "meas_extensions_simpleShape 21.0.0-2-g103fe59+2bc87ea2bc \tcurrent w_2021_02 setup\n",
      "meas_modelfit         21.0.0-2-gecfae73+761aeb991c \tcurrent w_2021_02 setup\n",
      "obs_base              21.0.0-13-ge9a044d+c2b517099a \tcurrent w_2021_02 setup\n",
      "obs_cfht              21.0.0-3-g77dfe11+74a1446280 \tcurrent w_2021_02 setup\n",
      "obs_decam             21.0.0-2-g54e2caa+9f891e6da2 \tcurrent w_2021_02 setup\n",
      "obs_decam_data        21.0.0-1-g1fa5c9e \tcurrent w_2021_02 setup\n",
      "obs_lsst              21.0.0-8-g85d4038+160bc46fd9 \tcurrent w_2021_02 setup\n",
      "obs_lsst_data         21.0.0-1-g7ccd743 \tcurrent w_2021_02 setup\n",
      "obs_subaru            21.0.0-8-gb1908a40+887cc32eba \tcurrent w_2021_02 setup\n",
      "obs_subaru_data       21.0.0-1-g2f68bc2 \tcurrent w_2021_02 setup\n",
      "obs_test              21.0.0-2-g4bc9b9f+c9c0b05420 \tcurrent w_2021_02 setup\n",
      "obs_test_data         21.0.0-1-g86cffb0 \tcurrent w_2021_02 setup\n",
      "pex_config            21.0.0-1-ga51b5d4+2c88556dba \tcurrent w_2021_02 setup\n",
      "pex_exceptions        21.0.0-2-gde069b7+d0bdec52a8 \tcurrent w_2021_02 setup\n",
      "pipe_base             21.0.0-6-gd3283ba+e447110da9 \tcurrent w_2021_02 setup\n",
      "pipe_drivers          21.0.0-2-ga63a54e+10477bcf77 \tcurrent w_2021_02 setup\n",
      "pipe_tasks            21.0.0-20-g55224fe4+fb58a89680 \tcurrent w_2021_02 setup\n",
      "proxmin               lsst-dev-g79c0498783 \tcurrent w_2021_02 setup\n",
      "psfex                 21.0.0-2-g03166ea+1b62c9342b \tcurrent w_2021_02 setup\n",
      "rapid_analysis        LOCAL:/home/dagoret/repos/rapid_analysis \tsetup\n",
      "scarlet               lsst-dev-gaccceaf1d0+f31336177f \tcurrent w_2021_02 setup\n",
      "scarlet_extensions    21.0.0+2809726f89 \tcurrent w_2021_02 setup\n",
      "sconsUtils            21.0.0-2-gf03364c \tcurrent w_2021_02 setup\n",
      "sdm_schemas           21.0.0-1-ge52cb69+1b62c9342b \tcurrent w_2021_02 setup\n",
      "shapelet              21.0.0-2-ge17e5af+68734f91bf \tcurrent w_2021_02 setup\n",
      "skymap                21.0.0-3-gaa929c8+e447110da9 \tcurrent w_2021_02 setup\n",
      "sphgeom               21.0.0+1b62c9342b \tcurrent w_2021_02 setup\n",
      "utils                 21.0.0-3-gd222c45+21ef063859 \tcurrent w_2021_02 setup\n",
      "validate_drp          21.0.0-2-g8f39060+a43240b7c1 \tcurrent w_2021_02 setup\n",
      "verify                21.0.0-2-g557ca81+59617fe31d \tcurrent w_2021_02 setup\n",
      "verify_metrics        21.0.0-2-gfc76737+1b62c9342b \tcurrent w_2021_02 setup\n"
     ]
    }
   ],
   "source": [
    "! eups list -s"
   ]
  },
  {
   "cell_type": "code",
   "execution_count": 25,
   "metadata": {},
   "outputs": [],
   "source": [
    "# correct for bug in stack in wl_2021_02\n",
    "%config IPCompleter.use_jedi=False"
   ]
  },
  {
   "cell_type": "markdown",
   "metadata": {},
   "source": [
    "# Import"
   ]
  },
  {
   "cell_type": "code",
   "execution_count": 26,
   "metadata": {},
   "outputs": [],
   "source": [
    "import os\n",
    "import matplotlib.pyplot as plt\n",
    "import numpy as np\n",
    "%matplotlib inline"
   ]
  },
  {
   "cell_type": "code",
   "execution_count": 5,
   "metadata": {},
   "outputs": [],
   "source": [
    "import lsst.daf.persistence as dafPersist\n",
    "import lsst.afw.display as afwDisplay\n",
    "afwDisplay.setDefaultBackend(\"lsst.display.firefly\")"
   ]
  },
  {
   "cell_type": "markdown",
   "metadata": {},
   "source": [
    "# Logbook with rapid analysis"
   ]
  },
  {
   "cell_type": "code",
   "execution_count": 6,
   "metadata": {},
   "outputs": [
    {
     "name": "stdout",
     "output_type": "stream",
     "text": [
      "Loaded data for seqNums 1 to 475\n"
     ]
    }
   ],
   "source": [
    "from lsst.rapid.analysis.nightReport import NightReporter\n",
    "repoDir='/project/shared/auxTel'\n",
    "reporter=NightReporter(repoDir,\"2021-02-17\")"
   ]
  },
  {
   "cell_type": "code",
   "execution_count": 7,
   "metadata": {},
   "outputs": [
    {
     "data": {
      "text/plain": [
       "['HD 60753',\n",
       " 'HD 149609',\n",
       " 'HD 185975',\n",
       " 'HR 5862',\n",
       " 'HD 164461',\n",
       " 'HD 60517',\n",
       " 'NGC 4755']"
      ]
     },
     "execution_count": 7,
     "metadata": {},
     "output_type": "execute_result"
    }
   ],
   "source": [
    "reporter.getObservedObjects()"
   ]
  },
  {
   "cell_type": "code",
   "execution_count": 8,
   "metadata": {},
   "outputs": [
    {
     "name": "stderr",
     "output_type": "stream",
     "text": [
      "/home/dagoret/repos/rapid_analysis/python/lsst/rapid/analysis/nightReport.py:135: MatplotlibDeprecationWarning: Adding an axes using the same arguments as a previous axes currently reuses the earlier instance.  In a future version, a new instance will always be created and returned.  Meanwhile, this warning can be suppressed, and the future behavior ensured, by passing a unique label to each axes instance.\n",
      "  ax = plt.subplot(111, polar=True)\n"
     ]
    }
   ],
   "source": [
    "reporter.makePolarPlotForObjects()"
   ]
  },
  {
   "cell_type": "code",
   "execution_count": 10,
   "metadata": {},
   "outputs": [],
   "source": [
    "reporter.plotPerObjectAirMass(versusMjd=False)"
   ]
  },
  {
   "cell_type": "code",
   "execution_count": 9,
   "metadata": {},
   "outputs": [
    {
     "name": "stdout",
     "output_type": "stream",
     "text": [
      "{seqNum:4} {imageType:9} {obj:10} {timeOfDay} {filt:25} {dt.sec:6.1f}  {expTime:2.2f}\n",
      "   1 bias      azel_target 19:52:33.537 RG610~empty                  0.0  0.00\n",
      "   2 bias      azel_target 20:06:14.971 RG610~empty                821.4  0.00\n",
      "   3 bias      azel_target 20:07:00.047 RG610~empty                 45.1  0.00\n",
      "   4 bias      azel_target 20:07:43.977 RG610~empty                 43.9  0.00\n",
      "   5 bias      azel_target 20:08:27.986 RG610~empty                 44.0  0.00\n",
      "   6 bias      azel_target 20:09:11.965 RG610~empty                 44.0  0.00\n",
      "   7 bias      azel_target 20:09:56.018 RG610~empty                 44.1  0.00\n",
      "   8 bias      azel_target 20:10:39.990 RG610~empty                 44.0  0.00\n",
      "   9 bias      azel_target 20:11:22.975 RG610~empty                 43.0  0.00\n",
      "  10 bias      azel_target 20:12:07.035 RG610~empty                 44.1  0.00\n",
      "  11 bias      azel_target 20:12:50.020 RG610~empty                 43.0  0.00\n",
      "  12 bias      azel_target 20:13:34.015 RG610~empty                 44.0  0.00\n",
      "  13 bias      azel_target 20:14:17.071 RG610~empty                 43.1  0.00\n",
      "  14 bias      azel_target 20:15:01.037 RG610~empty                 44.0  0.00\n",
      "  15 bias      azel_target 20:15:44.043 RG610~empty                 43.0  0.00\n",
      "  16 bias      azel_target 20:23:00.964 RG610~empty                436.9  0.00\n",
      "  17 bias      azel_target 20:23:45.001 RG610~empty                 44.0  0.00\n",
      "  18 bias      azel_target 20:24:29.014 RG610~empty                 44.0  0.00\n",
      "  19 bias      azel_target 20:25:12.029 RG610~empty                 43.0  0.00\n",
      "  20 bias      azel_target 20:25:55.987 RG610~empty                 44.0  0.00\n",
      "  21 bias      azel_target 20:26:38.988 RG610~empty                 43.0  0.00\n",
      "  22 bias      azel_target 20:28:45.067 RG610~empty                126.1  0.00\n",
      "  23 bias      azel_target 20:29:37.773 RG610~empty                 52.7  0.00\n",
      "  24 bias      azel_target 20:31:21.407 RG610~empty                103.6  0.00\n",
      "  25 bias      FlatField position 20:51:10.359 RG610~empty               1189.0  0.00\n",
      "  26 bias      FlatField position 20:52:13.927 RG610~empty                 63.6  0.00\n",
      "  27 bias      FlatField position 20:52:16.276 RG610~empty                  2.3  0.00\n",
      "  28 bias      FlatField position 20:52:18.767 RG610~empty                  2.5  0.00\n",
      "  29 bias      FlatField position 20:52:21.148 RG610~empty                  2.4  0.00\n",
      "  30 bias      FlatField position 20:52:23.646 RG610~empty                  2.5  0.00\n",
      "  31 bias      FlatField position 20:52:25.984 RG610~empty                  2.3  0.00\n",
      "  32 bias      FlatField position 20:52:28.478 RG610~empty                  2.5  0.00\n",
      "  33 bias      FlatField position 20:52:30.816 RG610~empty                  2.3  0.00\n",
      "  34 bias      FlatField position 20:52:33.306 RG610~empty                  2.5  0.00\n",
      "  35 bias      FlatField position 20:52:35.664 RG610~empty                  2.4  0.00\n",
      "  36 bias      FlatField position 20:52:38.156 RG610~empty                  2.5  0.00\n",
      "  37 bias      FlatField position 20:52:40.491 RG610~empty                  2.3  0.00\n",
      "  38 bias      FlatField position 20:52:42.988 RG610~empty                  2.5  0.00\n",
      "  39 bias      FlatField position 20:52:45.337 RG610~empty                  2.3  0.00\n",
      "  40 bias      FlatField position 20:52:47.840 RG610~empty                  2.5  0.00\n",
      "  41 bias      FlatField position 20:52:50.180 RG610~empty                  2.3  0.00\n",
      "  42 bias      FlatField position 20:52:52.673 RG610~empty                  2.5  0.00\n",
      "  43 bias      FlatField position 20:52:55.010 RG610~empty                  2.3  0.00\n",
      "  44 bias      FlatField position 20:52:57.508 RG610~empty                  2.5  0.00\n",
      "  45 bias      FlatField position 20:52:59.854 RG610~empty                  2.3  0.00\n",
      "  46 bias      FlatField position 20:53:02.345 RG610~empty                  2.5  0.00\n",
      "  47 bias      FlatField position 20:53:04.686 RG610~empty                  2.3  0.00\n",
      "  48 bias      FlatField position 20:53:07.178 RG610~empty                  2.5  0.00\n",
      "  49 bias      FlatField position 20:53:09.516 RG610~empty                  2.3  0.00\n",
      "  50 bias      FlatField position 20:53:12.016 RG610~empty                  2.5  0.00\n",
      "  51 bias      FlatField position 20:53:14.373 RG610~empty                  2.4  0.00\n",
      "  52 bias      FlatField position 20:53:16.867 RG610~empty                  2.5  0.00\n",
      "  53 bias      FlatField position 20:53:19.207 RG610~empty                  2.3  0.00\n",
      "  54 bias      FlatField position 20:53:21.710 RG610~empty                  2.5  0.00\n",
      "  55 bias      FlatField position 20:53:24.045 RG610~empty                  2.3  0.00\n",
      "  56 bias      FlatField position 20:53:26.545 RG610~empty                  2.5  0.00\n",
      "  57 bias      FlatField position 20:53:28.883 RG610~empty                  2.3  0.00\n",
      "  58 bias      FlatField position 20:53:31.379 RG610~empty                  2.5  0.00\n",
      "  59 bias      FlatField position 20:53:33.718 RG610~empty                  2.3  0.00\n",
      "  60 bias      FlatField position 20:53:36.220 RG610~empty                  2.5  0.00\n",
      "  61 bias      FlatField position 20:53:38.555 RG610~empty                  2.3  0.00\n",
      "  62 bias      FlatField position 20:53:41.047 RG610~empty                  2.5  0.00\n",
      "  63 bias      FlatField position 20:53:43.393 RG610~empty                  2.3  0.00\n",
      "  64 bias      FlatField position 20:53:45.886 RG610~empty                  2.5  0.00\n",
      "  65 bias      FlatField position 20:53:48.223 RG610~empty                  2.3  0.00\n",
      "  66 bias      FlatField position 20:53:50.712 RG610~empty                  2.5  0.00\n",
      "  67 bias      FlatField position 20:53:53.048 RG610~empty                  2.3  0.00\n",
      "  68 bias      FlatField position 20:53:55.546 RG610~empty                  2.5  0.00\n",
      "  69 bias      FlatField position 20:53:57.886 RG610~empty                  2.3  0.00\n",
      "  70 bias      FlatField position 20:54:00.376 RG610~empty                  2.5  0.00\n",
      "  71 bias      FlatField position 20:54:02.714 RG610~empty                  2.3  0.00\n",
      "  72 bias      FlatField position 20:54:05.213 RG610~empty                  2.5  0.00\n",
      "  73 bias      FlatField position 20:54:07.558 RG610~empty                  2.3  0.00\n",
      "  74 bias      FlatField position 20:54:10.059 RG610~empty                  2.5  0.00\n",
      "  75 bias      FlatField position 20:54:12.397 RG610~empty                  2.3  0.00\n",
      "  76 dark      FlatField position 20:55:17.653 RG610~empty                 65.3  10.00\n",
      "  77 dark      FlatField position 20:55:30.145 RG610~empty                 12.5  10.00\n",
      "  78 dark      FlatField position 20:55:42.637 RG610~empty                 12.5  10.00\n",
      "  79 dark      FlatField position 20:55:55.126 RG610~empty                 12.5  10.00\n",
      "  80 dark      FlatField position 20:56:07.617 RG610~empty                 12.5  10.00\n",
      "  81 dark      FlatField position 20:56:20.122 RG610~empty                 12.5  10.00\n",
      "  82 dark      FlatField position 20:56:32.612 RG610~empty                 12.5  10.00\n",
      "  83 dark      FlatField position 20:56:45.106 RG610~empty                 12.5  10.00\n",
      "  84 dark      FlatField position 20:56:57.600 RG610~empty                 12.5  10.00\n",
      "  85 dark      FlatField position 20:57:10.093 RG610~empty                 12.5  10.00\n",
      "  86 flat      FlatField position 20:59:55.082 RG610~empty                165.0  2.00\n",
      "  87 flat      FlatField position 20:59:59.653 RG610~empty                  4.6  2.00\n",
      "  88 flat      FlatField position 21:00:04.223 RG610~empty                  4.6  2.00\n",
      "  89 flat      FlatField position 21:00:08.791 RG610~empty                  4.6  2.00\n",
      "  90 flat      FlatField position 21:00:13.376 RG610~empty                  4.6  2.00\n",
      "  91 flat      FlatField position 21:00:17.970 RG610~empty                  4.6  2.00\n",
      "  92 flat      FlatField position 21:00:22.548 RG610~empty                  4.6  2.00\n",
      "  93 flat      FlatField position 21:00:27.118 RG610~empty                  4.6  2.00\n",
      "  94 flat      FlatField position 21:00:31.680 RG610~empty                  4.6  2.00\n",
      "  95 flat      FlatField position 21:00:36.250 RG610~empty                  4.6  2.00\n",
      "  96 flat      FlatField position 21:02:30.010 empty~empty                113.8  0.20\n",
      "  97 flat      FlatField position 21:02:32.784 empty~empty                  2.8  0.20\n",
      "  98 flat      FlatField position 21:02:35.641 empty~empty                  2.9  0.40\n",
      "  99 flat      FlatField position 21:02:38.614 empty~empty                  3.0  0.40\n",
      " 100 flat      FlatField position 21:02:41.694 empty~empty                  3.1  0.60\n",
      " 101 flat      FlatField position 21:02:44.852 empty~empty                  3.2  0.60\n",
      " 102 flat      FlatField position 21:02:48.120 empty~empty                  3.3  0.80\n",
      " 103 flat      FlatField position 21:02:51.485 empty~empty                  3.4  0.80\n",
      " 104 flat      FlatField position 21:02:54.944 empty~empty                  3.5  1.00\n",
      " 105 flat      FlatField position 21:02:58.505 empty~empty                  3.6  1.00\n",
      " 106 flat      FlatField position 21:03:02.162 empty~empty                  3.7  1.20\n",
      " 107 flat      FlatField position 21:03:05.937 empty~empty                  3.8  1.20\n",
      " 108 flat      FlatField position 21:03:09.810 empty~empty                  3.9  1.40\n",
      " 109 flat      FlatField position 21:03:13.776 empty~empty                  4.0  1.40\n",
      " 110 flat      FlatField position 21:03:17.844 empty~empty                  4.1  1.60\n",
      " 111 flat      FlatField position 21:03:22.014 empty~empty                  4.2  1.60\n",
      " 112 flat      FlatField position 21:03:26.276 empty~empty                  4.3  1.80\n",
      " 113 flat      FlatField position 21:03:30.630 empty~empty                  4.4  1.80\n",
      " 114 flat      FlatField position 21:03:35.092 empty~empty                  4.5  2.00\n",
      " 115 flat      FlatField position 21:03:39.651 empty~empty                  4.6  2.00\n",
      " 116 flat      FlatField position 21:03:44.315 empty~empty                  4.7  2.20\n",
      " 117 flat      FlatField position 21:03:49.080 empty~empty                  4.8  2.20\n",
      " 118 flat      FlatField position 21:03:53.975 empty~empty                  4.9  2.40\n",
      " 119 flat      FlatField position 21:03:58.939 empty~empty                  5.0  2.40\n",
      " 120 flat      FlatField position 21:04:04.014 empty~empty                  5.1  2.60\n",
      " 121 flat      FlatField position 21:04:09.187 empty~empty                  5.2  2.60\n",
      " 122 flat      FlatField position 21:04:14.463 empty~empty                  5.3  2.80\n",
      " 123 flat      FlatField position 21:04:19.827 empty~empty                  5.4  2.80\n",
      " 124 flat      FlatField position 21:04:25.307 empty~empty                  5.5  3.00\n",
      " 125 flat      FlatField position 21:04:30.888 empty~empty                  5.6  3.00\n",
      " 126 flat      FlatField position 21:04:36.558 empty~empty                  5.7  3.20\n",
      " 127 flat      FlatField position 21:04:42.320 empty~empty                  5.8  3.20\n",
      " 128 flat      FlatField position 21:04:48.184 empty~empty                  5.9  3.40\n",
      " 129 flat      FlatField position 21:04:54.140 empty~empty                  6.0  3.40\n",
      " 130 flat      FlatField position 21:05:00.214 empty~empty                  6.1  3.60\n",
      " 131 flat      FlatField position 21:05:06.429 empty~empty                  6.2  3.60\n",
      " 132 flat      FlatField position 21:05:12.713 empty~empty                  6.3  3.80\n",
      " 133 flat      FlatField position 21:05:19.093 empty~empty                  6.4  3.80\n",
      " 134 flat      FlatField position 21:05:25.558 empty~empty                  6.5  4.00\n",
      " 135 flat      FlatField position 21:05:32.126 empty~empty                  6.6  4.00\n",
      " 136 science   HD 164461  00:54:46.099 RG610~empty               13754.0  2.00\n",
      " 137 science   HD 164461  00:57:39.161 RG610~empty                173.1  2.00\n",
      " 138 science   HD 164461  01:04:58.736 RG610~empty                439.6  2.00\n",
      " 139 science   HD 164461  01:06:24.167 RG610~empty                 85.4  2.00\n",
      " 140 engtest   HD 164461  01:08:01.975 RG610~empty                 97.8  20.00\n",
      " 141 engtest   HD 164461  01:08:29.080 RG610~empty                 27.1  20.00\n",
      " 142 science   HD 164461  01:15:39.842 RG610~empty                430.8  2.00\n",
      " 143 engtest   HD 164461  01:18:33.207 RG610~empty                173.4  4.00\n",
      " 144 engtest   HD 164461  01:18:44.281 RG610~empty                 11.1  4.00\n",
      " 145 engtest   HD 164461  01:21:56.086 RG610~empty                191.8  6.00\n",
      " 146 engtest   HD 164461  01:22:09.115 RG610~empty                 13.0  6.00\n",
      " 147 engtest   HD 164461  01:26:41.147 RG610~empty                272.0  6.00\n",
      " 148 engtest   HD 164461  01:26:54.218 RG610~empty                 13.1  6.00\n",
      " 149 science   HD 164461  01:29:29.451 RG610~empty                155.2  2.00\n",
      " 150 science   HD 164461  01:31:00.877 RG610~empty                 91.4  2.00\n",
      " 151 science   HD 164461  01:34:33.387 RG610~empty                212.5  2.00\n",
      " 152 engtest   HD 164461  01:36:31.384 RG610~empty                118.0  6.00\n",
      " 153 engtest   HD 164461  01:36:44.466 RG610~empty                 13.1  6.00\n",
      " 154 science   HD 164461  01:43:51.207 RG610~empty                426.7  2.00\n",
      " 155 engtest   HD 164461  01:45:16.653 RG610~empty                 85.4  6.00\n",
      " 156 engtest   HD 164461  01:45:29.732 RG610~empty                 13.1  6.00\n",
      " 157 science   HD 164461  01:48:36.861 RG610~empty                187.1  2.00\n",
      " 158 science   HD 164461  01:49:45.879 RG610~empty                 69.0  2.00\n",
      " 159 science   HD 164461  01:50:51.330 RG610~empty                 65.5  2.00\n",
      " 160 engtest   HD 164461  02:06:01.097 RG610~empty                909.8  6.00\n",
      " 161 engtest   HD 164461  02:06:14.152 RG610~empty                 13.1  6.00\n",
      " 162 engtest   HD 164461  02:20:56.267 RG610~empty                882.1  6.00\n",
      " 163 engtest   HD 164461  02:21:09.345 RG610~empty                 13.1  6.00\n",
      " 164 engtest   HD 164461  02:27:35.780 RG610~empty                386.4  6.00\n",
      " 165 engtest   HD 164461  02:27:48.861 RG610~empty                 13.1  6.00\n",
      " 166 science   HD 164461  02:29:09.575 RG610~empty                 80.7  2.00\n",
      " 167 engtest   HD 164461  02:38:05.075 RG610~empty                535.5  6.00\n",
      " 168 engtest   HD 164461  02:38:18.179 RG610~empty                 13.1  6.00\n",
      " 169 engtest   HD 164461  02:42:12.108 RG610~empty                233.9  6.00\n",
      " 170 engtest   HD 164461  02:42:25.142 RG610~empty                 13.0  6.00\n",
      " 171 engtest   HD 164461  02:46:02.002 RG610~empty                216.9  6.00\n",
      " 172 engtest   HD 164461  02:46:15.174 RG610~empty                 13.2  6.00\n",
      " 173 engtest   HD 164461  03:03:57.859 RG610~empty               1062.7  6.00\n",
      " 174 engtest   HD 164461  03:04:10.923 RG610~empty                 13.1  6.00\n",
      " 175 engtest   HD 164461  03:08:41.991 RG610~empty                271.1  6.00\n",
      " 176 engtest   HD 164461  03:08:55.028 RG610~empty                 13.0  6.00\n",
      " 177 engtest   HD 164461  03:12:16.874 RG610~empty                201.8  6.00\n",
      " 178 engtest   HD 164461  03:12:29.907 RG610~empty                 13.0  6.00\n",
      " 179 science   HD 185975  03:18:29.534 RG610~empty                359.6  10.00\n",
      " 180 engtest   HD 185975  03:20:46.747 RG610~empty                137.2  20.00\n",
      " 181 engtest   HD 185975  03:21:13.851 RG610~empty                 27.1  20.00\n",
      " 182 engtest   HD 185975  03:23:35.418 RG610~empty                141.6  20.00\n",
      " 183 engtest   HD 185975  03:24:02.532 RG610~empty                 27.1  20.00\n",
      " 184 science   HD 185975  03:28:01.328 RG610~empty                238.8  10.00\n",
      " 185 science   HD 185975  03:29:35.985 RG610~empty                 94.7  10.00\n",
      " 186 engtest   HD 185975  03:31:48.186 RG610~empty                132.2  20.00\n",
      " 187 engtest   HD 185975  03:32:15.606 RG610~empty                 27.4  20.00\n",
      " 188 engtest   HD 185975  03:36:24.478 RG610~empty                248.9  20.00\n",
      " 189 engtest   HD 185975  03:36:51.576 RG610~empty                 27.1  20.00\n",
      " 190 science   HD 185975  03:42:34.642 RG610~empty                343.1  10.00\n",
      " 191 engtest   HD 185975  03:44:48.240 RG610~empty                133.6  20.00\n",
      " 192 engtest   HD 185975  03:45:15.342 RG610~empty                 27.1  20.00\n",
      " 193 science   HD 185975  03:47:22.243 RG610~empty                126.9  10.00\n",
      " 194 science   HD 185975  03:48:56.745 RG610~empty                 94.5  10.00\n",
      " 195 science   HD 185975  03:50:16.006 RG610~empty                 79.3  10.00\n",
      " 196 engtest   HD 185975  03:51:35.764 RG610~empty                 79.8  20.00\n",
      " 197 engtest   HD 185975  03:52:02.857 RG610~empty                 27.1  20.00\n",
      " 198 engtest   HD 185975  03:55:37.746 RG610~empty                214.9  20.00\n",
      " 199 engtest   HD 185975  03:56:04.869 RG610~empty                 27.1  20.00\n",
      " 200 science   HD 185975  03:59:23.599 RG610~empty                198.7  10.00\n",
      " 201 science   HD 185975  04:01:08.434 RG610~empty                104.8  10.00\n",
      " 202 engtest   HD 185975  04:01:56.490 RG610~empty                 48.1  20.00\n",
      " 203 engtest   HD 185975  04:02:23.603 RG610~empty                 27.1  20.00\n",
      " 204 engtest   HD 185975  04:03:35.925 RG610~empty                 72.3  20.00\n",
      " 205 engtest   HD 185975  04:04:03.037 RG610~empty                 27.1  20.00\n",
      " 206 engtest   HD 185975  04:04:52.716 RG610~empty                 49.7  20.00\n",
      " 207 engtest   HD 185975  04:05:19.865 RG610~empty                 27.1  20.00\n",
      " 208 engtest   HD 185975  04:06:23.106 RG610~empty                 63.2  20.00\n",
      " 209 engtest   HD 185975  04:06:50.210 RG610~empty                 27.1  20.00\n",
      " 210 science   HD 185975  04:08:56.853 RG610~empty                126.6  10.00\n",
      " 211 science   HD 185975  04:11:04.179 RG610~empty                127.3  10.00\n",
      " 212 science   HD 185975  04:12:28.105 RG610~empty                 83.9  10.00\n",
      " 213 engtest   HD 185975  04:13:14.560 RG610~empty                 46.5  20.00\n",
      " 214 engtest   HD 185975  04:13:41.658 RG610~empty                 27.1  20.00\n",
      " 215 engtest   HD 185975  04:14:55.996 RG610~empty                 74.3  20.00\n",
      " 216 engtest   HD 185975  04:15:23.100 RG610~empty                 27.1  20.00\n",
      " 217 science   HD 185975  04:17:57.231 RG610~empty                154.1  10.00\n",
      " 218 science   HD 185975  04:19:28.162 RG610~empty                 90.9  10.00\n",
      " 219 science   HD 185975  04:20:53.535 RG610~empty                 85.4  10.00\n",
      " 220 science   HD 185975  04:21:58.223 RG610~empty                 64.7  10.00\n",
      " 221 science   HD 185975  04:23:14.052 RG610~empty                 75.8  10.00\n",
      " 222 science   HD 185975  04:24:41.666 RG610~empty                 87.6  10.00\n",
      " 223 engtest   HD 185975  04:25:51.328 RG610~empty                 69.7  20.00\n",
      " 224 engtest   HD 185975  04:26:18.434 RG610~empty                 27.1  20.00\n",
      " 225 engtest   HD 185975  04:28:15.958 RG610~empty                117.5  20.00\n",
      " 226 engtest   HD 185975  04:28:43.049 RG610~empty                 27.1  20.00\n",
      " 227 engtest   HD 185975  04:30:51.532 RG610~empty                128.5  20.00\n",
      " 228 engtest   HD 185975  04:31:18.636 RG610~empty                 27.1  20.00\n",
      " 229 science   HD 164461  04:38:29.761 RG610~empty                431.1  1.00\n",
      " 230 science   HD 164461  04:40:54.064 RG610~empty                144.3  1.00\n",
      " 231 science   HD 164461  04:41:59.304 RG610~empty                 65.2  3.00\n",
      " 232 science   HD 164461  04:42:27.714 RG610~empty                 28.4  3.00\n",
      " 233 science   HD 164461  04:42:54.708 RG610~empty                 27.0  3.00\n",
      " 234 science   HD 164461  04:45:38.757 RG610~empty                164.0  0.40\n",
      " 235 science   HD 164461  04:46:03.509 RG610~empty                 24.8  0.40\n",
      " 236 science   HD 164461  04:49:48.938 RG610~ronchi90lpmm         225.4  15.00\n",
      " 237 science   HD 164461  04:50:06.516 RG610~ronchi90lpmm          17.6  15.00\n",
      " 238 science   HD 164461  04:50:24.097 RG610~ronchi90lpmm          17.6  15.00\n",
      " 239 science   HD 164461  04:50:41.667 RG610~ronchi90lpmm          17.6  15.00\n",
      " 240 science   HD 164461  04:50:59.239 RG610~ronchi90lpmm          17.6  15.00\n",
      " 241 science   HD 60753   04:56:28.963 RG610~empty                329.7  0.40\n",
      " 242 science   HD 60753   04:56:55.121 RG610~empty                 26.2  0.40\n",
      " 243 science   HD 60753   05:00:29.331 RG610~empty                214.2  1.00\n",
      " 244 science   HD 60753   05:01:49.032 empty~empty                 79.7  2.00\n",
      " 245 science   HD 60753   05:06:21.976 RG610~empty                272.9  0.40\n",
      " 246 science   HD 60753   05:06:47.233 RG610~empty                 25.3  0.40\n",
      " 247 science   HD 60753   05:08:47.339 RG610~ronchi90lpmm         120.1  15.00\n",
      " 248 science   HD 60753   05:09:04.916 RG610~ronchi90lpmm          17.6  15.00\n",
      " 249 science   HD 60753   05:09:22.507 RG610~ronchi90lpmm          17.6  15.00\n",
      " 250 science   HD 60753   05:09:40.096 RG610~ronchi90lpmm          17.6  15.00\n",
      " 251 science   HD 60753   05:09:57.704 RG610~ronchi90lpmm          17.6  15.00\n",
      " 252 science   HD 60517   05:13:50.439 RG610~empty                232.7  10.00\n",
      " 253 engtest   HD 60517   05:16:05.202 RG610~empty                134.8  20.00\n",
      " 254 engtest   HD 60517   05:16:32.429 RG610~empty                 27.2  20.00\n",
      " 255 science   HD 60753   05:23:54.507 RG610~empty                442.1  0.40\n",
      " 256 science   HD 60753   05:26:45.831 RG610~ronchi90lpmm         171.3  15.00\n",
      " 257 science   HD 60753   05:27:03.413 RG610~ronchi90lpmm          17.6  15.00\n",
      " 258 science   HD 60753   05:27:21.004 RG610~ronchi90lpmm          17.6  15.00\n",
      " 259 science   HD 60753   05:27:38.579 RG610~ronchi90lpmm          17.6  15.00\n",
      " 260 science   HD 60753   05:27:56.158 RG610~ronchi90lpmm          17.6  15.00\n",
      " 261 science   HD 60517   05:31:14.203 RG610~empty                198.0  10.00\n",
      " 262 science   HD 60517   05:32:17.704 RG610~empty                 63.5  10.00\n",
      " 263 science   HD 60517   05:33:23.076 RG610~empty                 65.4  10.00\n",
      " 264 engtest   HD 60517   05:34:32.606 RG610~empty                 69.5  20.00\n",
      " 265 engtest   HD 60517   05:34:59.868 RG610~empty                 27.3  20.00\n",
      " 266 engtest   HD 60517   05:36:57.565 RG610~empty                117.7  20.00\n",
      " 267 engtest   HD 60517   05:37:24.798 RG610~empty                 27.2  20.00\n",
      " 268 science   HD 60753   05:40:49.608 RG610~empty                204.8  0.40\n",
      " 269 science   HD 60753   05:43:40.471 RG610~ronchi90lpmm         170.9  30.00\n",
      " 270 science   HD 60753   05:44:13.058 RG610~ronchi90lpmm          32.6  30.00\n",
      " 271 science   HD 60753   05:44:45.655 RG610~ronchi90lpmm          32.6  30.00\n",
      " 272 science   HD 60753   05:45:18.234 RG610~ronchi90lpmm          32.6  30.00\n",
      " 273 science   HD 60753   05:45:50.803 RG610~ronchi90lpmm          32.6  30.00\n",
      " 274 science   HD 60753   05:46:32.366 RG610~empty                 41.6  1.00\n",
      " 275 science   HD 60517   05:48:51.868 RG610~empty                139.5  10.00\n",
      " 276 engtest   HD 60517   05:49:58.029 RG610~empty                 66.2  20.00\n",
      " 277 engtest   HD 60517   05:50:25.262 RG610~empty                 27.2  20.00\n",
      " 278 science   HD 60753   05:54:10.267 RG610~empty                225.0  0.40\n",
      " 279 science   HD 60753   05:55:38.465 RG610~ronchi90lpmm          88.2  30.00\n",
      " 280 science   HD 60753   05:56:11.047 RG610~ronchi90lpmm          32.6  30.00\n",
      " 281 science   HD 60753   05:56:43.614 RG610~ronchi90lpmm          32.6  30.00\n",
      " 282 science   HD 60753   05:57:16.202 RG610~ronchi90lpmm          32.6  30.00\n",
      " 283 science   HD 60753   05:57:48.778 RG610~ronchi90lpmm          32.6  30.00\n",
      " 284 science   HD 60753   05:58:30.318 RG610~empty                 41.5  1.00\n",
      " 285 science   HD 185975  06:00:49.369 RG610~empty                139.1  1.00\n",
      " 286 science   HD 185975  06:03:36.599 RG610~empty                167.2  10.00\n",
      " 287 science   HD 185975  06:08:50.284 RG610~empty                313.7  10.00\n",
      " 288 science   HD 185975  06:10:36.109 RG610~empty                105.8  10.00\n",
      " 289 engtest   HD 185975  06:11:09.590 RG610~empty                 33.5  20.00\n",
      " 290 engtest   HD 185975  06:11:36.821 RG610~empty                 27.2  20.00\n",
      " 291 science   HD 164461  06:15:38.814 RG610~empty                242.0  0.40\n",
      " 292 science   HD 164461  06:17:02.466 RG610~ronchi90lpmm          83.7  30.00\n",
      " 293 science   HD 164461  06:17:35.039 RG610~ronchi90lpmm          32.6  30.00\n",
      " 294 science   HD 164461  06:18:07.619 RG610~ronchi90lpmm          32.6  30.00\n",
      " 295 science   HD 164461  06:18:40.203 RG610~ronchi90lpmm          32.6  30.00\n",
      " 296 science   HD 164461  06:19:12.786 RG610~ronchi90lpmm          32.6  30.00\n",
      " 297 science   HD 164461  06:19:55.262 RG610~empty                 42.5  1.00\n",
      " 298 science   HD 60517   06:23:02.913 RG610~empty                187.7  10.00\n",
      " 299 engtest   HD 60517   06:24:10.207 RG610~empty                 67.3  20.00\n",
      " 300 engtest   HD 60517   06:24:37.459 RG610~empty                 27.3  20.00\n",
      " 301 engtest   HD 60517   06:26:37.758 RG610~empty                120.3  20.00\n",
      " 302 engtest   HD 60517   06:27:05.370 RG610~empty                 27.6  20.00\n",
      " 303 science   HD 60753   06:30:25.905 RG610~empty                200.5  0.40\n",
      " 304 science   HD 60753   06:31:35.952 RG610~ronchi90lpmm          70.0  30.00\n",
      " 305 science   HD 60753   06:32:08.529 RG610~ronchi90lpmm          32.6  30.00\n",
      " 306 science   HD 60753   06:32:41.115 RG610~ronchi90lpmm          32.6  30.00\n",
      " 307 science   HD 60753   06:33:13.691 RG610~ronchi90lpmm          32.6  30.00\n",
      " 308 science   HD 60753   06:33:46.271 RG610~ronchi90lpmm          32.6  30.00\n",
      " 309 science   HD 60753   06:34:28.317 RG610~empty                 42.0  1.00\n",
      " 310 science   HD 60517   06:37:10.002 RG610~empty                161.7  10.00\n",
      " 311 engtest   HD 60517   06:38:20.657 RG610~empty                 70.7  20.00\n",
      " 312 engtest   HD 60517   06:38:47.948 RG610~empty                 27.3  20.00\n",
      " 313 engtest   HD 60517   06:40:46.292 RG610~empty                118.3  20.00\n",
      " 314 engtest   HD 60517   06:41:13.539 RG610~empty                 27.2  20.00\n",
      " 315 science   HD 60753   06:44:24.665 RG610~empty                191.1  0.40\n",
      " 316 science   HD 60753   06:45:31.552 RG610~ronchi90lpmm          66.9  30.00\n",
      " 317 science   HD 60753   06:46:04.137 RG610~ronchi90lpmm          32.6  30.00\n",
      " 318 science   HD 60753   06:46:36.716 RG610~ronchi90lpmm          32.6  30.00\n",
      " 319 science   HD 60753   06:47:09.286 RG610~ronchi90lpmm          32.6  30.00\n",
      " 320 science   HD 60753   06:47:41.869 RG610~ronchi90lpmm          32.6  30.00\n",
      " 321 science   HD 60753   06:48:23.860 RG610~empty                 42.0  1.00\n",
      " 322 science   HD 60517   06:50:51.262 RG610~empty                147.4  10.00\n",
      " 323 engtest   HD 60517   06:52:00.261 RG610~empty                 69.0  20.00\n",
      " 324 engtest   HD 60517   06:52:27.492 RG610~empty                 27.2  20.00\n",
      " 325 science   HD 60753   06:56:18.644 RG610~empty                231.2  0.40\n",
      " 326 science   HD 60753   06:56:42.568 RG610~empty                 23.9  0.40\n",
      " 327 science   HD 60753   06:57:05.610 RG610~empty                 23.0  0.40\n",
      " 328 science   HD 60753   06:58:01.580 RG610~ronchi90lpmm          56.0  30.00\n",
      " 329 science   HD 60753   06:58:34.173 RG610~ronchi90lpmm          32.6  30.00\n",
      " 330 science   HD 60753   06:59:06.745 RG610~ronchi90lpmm          32.6  30.00\n",
      " 331 science   HD 60753   06:59:39.316 RG610~ronchi90lpmm          32.6  30.00\n",
      " 332 science   HD 60753   07:00:11.908 RG610~ronchi90lpmm          32.6  30.00\n",
      " 333 science   HD 60753   07:00:54.012 RG610~empty                 42.1  1.00\n",
      " 334 science   HD 60517   07:04:07.276 RG610~empty                193.3  10.00\n",
      " 335 engtest   HD 60517   07:04:55.418 RG610~empty                 48.1  20.00\n",
      " 336 engtest   HD 60517   07:05:22.668 RG610~empty                 27.3  20.00\n",
      " 337 engtest   HD 60517   07:07:53.626 RG610~empty                151.0  20.00\n",
      " 338 engtest   HD 60517   07:08:20.806 RG610~empty                 27.2  20.00\n",
      " 339 science   HD 60753   07:11:57.361 RG610~empty                216.6  0.40\n",
      " 340 science   HD 60753   07:12:21.068 RG610~empty                 23.7  0.40\n",
      " 341 science   HD 60753   07:14:06.825 RG610~ronchi90lpmm         105.8  30.00\n",
      " 342 science   HD 60753   07:14:39.410 RG610~ronchi90lpmm          32.6  30.00\n",
      " 343 science   HD 60753   07:15:11.997 RG610~ronchi90lpmm          32.6  30.00\n",
      " 344 science   HD 60753   07:15:44.570 RG610~ronchi90lpmm          32.6  30.00\n",
      " 345 science   HD 60753   07:16:17.157 RG610~ronchi90lpmm          32.6  30.00\n",
      " 346 science   HD 60753   07:16:59.374 RG610~empty                 42.2  1.00\n",
      " 347 science   NGC 4755   07:18:53.021 empty~empty                113.6  60.00\n",
      " 348 science   NGC 4755   07:22:42.410 empty~empty                229.4  6.00\n",
      " 349 science   NGC 4755   07:23:28.994 empty~empty                 46.6  60.00\n",
      " 350 science   NGC 4755   07:25:02.387 empty~holo4_003             93.4  6.00\n",
      " 351 science   NGC 4755   07:25:46.560 empty~holo4_003             44.2  6.00\n",
      " 352 science   NGC 4755   07:26:07.146 empty~holo4_003             20.6  6.00\n",
      " 353 science   NGC 4755   07:26:18.957 empty~holo4_003             11.8  6.00\n",
      " 354 science   NGC 4755   07:26:43.049 empty~holo4_003             24.1  6.00\n",
      " 355 science   NGC 4755   07:26:51.615 empty~holo4_003              8.6  6.00\n",
      " 356 science   NGC 4755   07:27:00.190 empty~holo4_003              8.6  6.00\n",
      " 357 science   NGC 4755   07:27:53.863 empty~holo4_003             53.7  6.00\n",
      " 358 science   NGC 4755   07:29:41.903 empty~holo4_003            108.0  6.00\n",
      " 359 science   NGC 4755   07:30:08.063 empty~empty                 26.2  60.00\n",
      " 360 science   HD 60517   07:34:04.845 RG610~empty                236.8  10.00\n",
      " 361 science   HD 60517   07:39:18.105 RG610~empty                313.3  10.00\n",
      " 362 engtest   HD 60517   07:40:35.949 RG610~empty                 77.8  20.00\n",
      " 363 engtest   HD 60517   07:41:03.319 RG610~empty                 27.4  20.00\n",
      " 364 engtest   HD 60517   07:42:15.070 RG610~empty                 71.8  20.00\n",
      " 365 engtest   HD 60517   07:42:42.389 RG610~empty                 27.3  20.00\n",
      " 366 engtest   HD 60517   07:43:14.733 RG610~empty                 32.3  20.00\n",
      " 367 engtest   HD 60517   07:43:42.058 RG610~empty                 27.3  20.00\n",
      " 368 science   HD 60753   07:46:05.305 RG610~empty                143.2  0.40\n",
      " 369 science   HD 60753   07:46:28.953 RG610~empty                 23.6  0.40\n",
      " 370 science   HD 60753   07:47:06.558 RG610~ronchi90lpmm          37.6  30.00\n",
      " 371 science   HD 60753   07:47:39.142 RG610~ronchi90lpmm          32.6  30.00\n",
      " 372 science   HD 60753   07:48:11.726 RG610~ronchi90lpmm          32.6  30.00\n",
      " 373 science   HD 60753   07:48:44.306 RG610~ronchi90lpmm          32.6  30.00\n",
      " 374 science   HD 60753   07:49:16.906 RG610~ronchi90lpmm          32.6  30.00\n",
      " 375 science   HD 60753   07:49:58.692 RG610~empty                 41.8  1.00\n",
      " 376 science   HD 60517   07:51:30.233 RG610~empty                 91.5  10.00\n",
      " 377 engtest   HD 60517   07:52:26.242 RG610~empty                 56.0  20.00\n",
      " 378 engtest   HD 60517   07:52:53.809 RG610~empty                 27.6  20.00\n",
      " 379 engtest   HD 60517   07:54:45.334 RG610~empty                111.5  20.00\n",
      " 380 engtest   HD 60517   07:55:12.628 RG610~empty                 27.3  20.00\n",
      " 381 science   HD 60753   07:57:37.159 RG610~empty                144.5  0.40\n",
      " 382 science   HD 60753   07:58:01.033 RG610~empty                 23.9  0.40\n",
      " 383 science   HD 60753   07:58:36.073 RG610~ronchi90lpmm          35.0  30.00\n",
      " 384 science   HD 60753   07:59:08.645 RG610~ronchi90lpmm          32.6  30.00\n",
      " 385 science   HD 60753   07:59:41.210 RG610~ronchi90lpmm          32.6  30.00\n",
      " 386 science   HD 60753   08:00:13.826 RG610~ronchi90lpmm          32.6  30.00\n",
      " 387 science   HD 60753   08:00:46.421 RG610~ronchi90lpmm          32.6  30.00\n",
      " 388 science   HD 60753   08:01:29.168 RG610~empty                 42.7  1.00\n",
      " 389 science   HD 60517   08:03:27.416 RG610~empty                118.2  10.00\n",
      " 390 engtest   HD 60517   08:04:27.698 RG610~empty                 60.3  20.00\n",
      " 391 engtest   HD 60517   08:04:55.091 RG610~empty                 27.4  20.00\n",
      " 392 engtest   HD 60517   08:08:30.566 RG610~empty                215.5  20.00\n",
      " 393 engtest   HD 60517   08:08:57.846 RG610~empty                 27.3  20.00\n",
      " 394 engtest   HD 60517   08:10:47.356 RG610~empty                109.5  20.00\n",
      " 395 engtest   HD 60517   08:11:14.652 RG610~empty                 27.3  20.00\n",
      " 396 science   HD 60753   08:14:01.210 RG610~empty                166.6  0.40\n",
      " 397 science   HD 60753   08:14:25.122 RG610~empty                 23.9  0.40\n",
      " 398 science   HD 60753   08:15:14.768 RG610~ronchi90lpmm          49.6  30.00\n",
      " 399 science   HD 60753   08:15:47.356 RG610~ronchi90lpmm          32.6  30.00\n",
      " 400 science   HD 60753   08:16:19.931 RG610~ronchi90lpmm          32.6  30.00\n",
      " 401 science   HD 60753   08:16:52.545 RG610~ronchi90lpmm          32.6  30.00\n",
      " 402 science   HD 60753   08:17:25.119 RG610~ronchi90lpmm          32.6  30.00\n",
      " 403 science   HD 60753   08:18:07.818 RG610~empty                 42.7  1.00\n",
      " 404 science   HD 60517   08:19:48.914 RG610~empty                101.1  10.00\n",
      " 405 engtest   HD 60517   08:20:38.851 RG610~empty                 49.9  20.00\n",
      " 406 engtest   HD 60517   08:21:06.383 RG610~empty                 27.5  20.00\n",
      " 407 science   HD 60753   08:23:43.715 RG610~empty                157.3  0.40\n",
      " 408 science   HD 60753   08:24:05.616 RG610~ronchi90lpmm          21.9  30.00\n",
      " 409 science   HD 60753   08:24:38.200 RG610~ronchi90lpmm          32.6  30.00\n",
      " 410 science   HD 60753   08:25:10.771 RG610~ronchi90lpmm          32.6  30.00\n",
      " 411 science   HD 60753   08:25:43.344 RG610~ronchi90lpmm          32.6  30.00\n",
      " 412 science   HD 60753   08:26:15.921 RG610~ronchi90lpmm          32.6  30.00\n",
      " 413 science   HD 60753   08:26:57.724 RG610~empty                 41.8  1.00\n",
      " 414 science   HD 60517   08:28:48.457 RG610~empty                110.7  10.00\n",
      " 415 engtest   HD 60517   08:29:36.693 RG610~empty                 48.2  20.00\n",
      " 416 engtest   HD 60517   08:30:04.054 RG610~empty                 27.4  20.00\n",
      " 417 science   HD 60753   08:33:00.004 RG610~empty                175.9  0.40\n",
      " 418 science   HD 60753   08:33:24.455 RG610~empty                 24.5  0.40\n",
      " 419 science   HD 60753   08:34:00.787 RG610~ronchi90lpmm          36.3  30.00\n",
      " 420 science   HD 60753   08:34:33.377 RG610~ronchi90lpmm          32.6  30.00\n",
      " 421 science   HD 60753   08:35:05.953 RG610~ronchi90lpmm          32.6  30.00\n",
      " 422 science   HD 60753   08:35:38.552 RG610~ronchi90lpmm          32.6  30.00\n",
      " 423 science   HD 60753   08:36:11.123 RG610~ronchi90lpmm          32.6  30.00\n",
      " 424 science   HD 60753   08:36:53.057 RG610~empty                 41.9  1.00\n",
      " 425 science   HD 60517   08:38:21.353 RG610~empty                 88.3  10.00\n",
      " 426 engtest   HD 60517   08:39:21.132 RG610~empty                 59.8  20.00\n",
      " 427 engtest   HD 60517   08:39:48.309 RG610~empty                 27.2  20.00\n",
      " 428 engtest   HD 60517   08:41:36.059 RG610~empty                107.7  20.00\n",
      " 429 engtest   HD 60517   08:42:03.359 RG610~empty                 27.3  20.00\n",
      " 430 science   HD 60753   08:44:44.716 RG610~empty                161.4  0.40\n",
      " 431 science   HD 60753   08:45:28.414 RG610~ronchi90lpmm          43.7  30.00\n",
      " 432 science   HD 60753   08:46:00.999 RG610~ronchi90lpmm          32.6  30.00\n",
      " 433 science   HD 60753   08:46:33.579 RG610~ronchi90lpmm          32.6  30.00\n",
      " 434 science   HD 60753   08:47:06.160 RG610~ronchi90lpmm          32.6  30.00\n",
      " 435 science   HD 60753   08:47:38.727 RG610~ronchi90lpmm          32.6  30.00\n",
      " 436 science   HD 60753   08:48:20.532 RG610~empty                 41.8  1.00\n",
      " 437 science   HD 60517   08:50:42.932 RG610~empty                142.4  10.00\n",
      " 438 engtest   HD 60517   08:51:38.736 RG610~empty                 55.8  20.00\n",
      " 439 engtest   HD 60517   08:52:05.936 RG610~empty                 27.2  20.00\n",
      " 440 engtest   HD 60517   08:54:26.954 RG610~empty                141.0  20.00\n",
      " 441 engtest   HD 60517   08:54:54.265 RG610~empty                 27.3  20.00\n",
      " 442 engtest   HD 60517   08:56:42.383 RG610~empty                108.1  20.00\n",
      " 443 engtest   HD 60517   08:57:09.713 RG610~empty                 27.3  20.00\n",
      " 444 engtest   HD 60517   08:59:13.182 RG610~empty                123.5  20.00\n",
      " 445 engtest   HD 60517   08:59:40.487 RG610~empty                 27.3  20.00\n",
      " 446 science   HD 60753   09:02:16.464 RG610~empty                156.0  0.40\n",
      " 447 science   HD 60753   09:03:05.823 RG610~ronchi90lpmm          49.4  30.00\n",
      " 448 science   HD 60753   09:03:38.403 RG610~ronchi90lpmm          32.6  30.00\n",
      " 449 science   HD 60753   09:04:10.980 RG610~ronchi90lpmm          32.6  30.00\n",
      " 450 science   HD 60753   09:04:43.567 RG610~ronchi90lpmm          32.6  30.00\n",
      " 451 science   HD 60753   09:05:16.128 RG610~ronchi90lpmm          32.6  30.00\n",
      " 452 science   HD 60753   09:05:58.972 RG610~empty                 42.8  1.00\n",
      " 453 science   HD 185975  09:07:55.348 RG610~empty                116.4  10.00\n",
      " 454 science   HD 185975  09:10:02.627 RG610~empty                127.3  10.00\n",
      " 455 science   HD 185975  09:11:50.626 RG610~empty                108.0  10.00\n",
      " 456 engtest   HD 185975  09:12:43.276 RG610~empty                 52.7  20.00\n",
      " 457 engtest   HD 185975  09:13:10.883 RG610~empty                 27.6  20.00\n",
      " 458 science   HD 164461  09:16:10.513 RG610~empty                179.6  0.40\n",
      " 459 science   HD 164461  09:16:34.810 RG610~empty                 24.3  0.40\n",
      " 460 science   HD 164461  09:16:57.860 RG610~empty                 23.1  0.40\n",
      " 461 science   HD 164461  09:17:59.125 RG610~ronchi90lpmm          61.3  30.00\n",
      " 462 science   HD 164461  09:18:31.717 RG610~ronchi90lpmm          32.6  30.00\n",
      " 463 science   HD 164461  09:19:04.290 RG610~ronchi90lpmm          32.6  30.00\n",
      " 464 science   HD 164461  09:19:36.871 RG610~ronchi90lpmm          32.6  30.00\n",
      " 465 science   HD 164461  09:20:09.445 RG610~ronchi90lpmm          32.6  30.00\n",
      " 466 science   HD 164461  09:20:51.866 RG610~empty                 42.4  1.00\n",
      " 467 science   HR 5862    09:26:10.534 RG610~empty                318.7  5.00\n",
      " 468 science   HR 5862    09:27:18.611 RG610~empty                 68.1  5.00\n",
      " 469 engtest   HR 5862    09:28:32.849 RG610~empty                 74.2  20.00\n",
      " 470 engtest   HR 5862    09:29:00.322 RG610~empty                 27.5  20.00\n",
      " 471 engtest   HR 5862    09:30:46.431 RG610~empty                106.1  20.00\n",
      " 472 engtest   HR 5862    09:31:13.654 RG610~empty                 27.2  20.00\n",
      " 473 science   HD 149609  09:35:00.795 RG610~empty                227.1  5.00\n",
      " 474 engtest   HD 149609  09:35:52.401 RG610~empty                 51.6  20.00\n",
      " 475 engtest   HD 149609  09:36:19.629 RG610~empty                 27.2  20.00\n"
     ]
    }
   ],
   "source": [
    "reporter.printObsTable()"
   ]
  },
  {
   "cell_type": "markdown",
   "metadata": {},
   "source": [
    "# flats"
   ]
  },
  {
   "cell_type": "code",
   "execution_count": 10,
   "metadata": {},
   "outputs": [],
   "source": [
    "butler=dafPersist.Butler(\"/project/shared/auxTel\")\n",
    "dayObs=\"2021-02-17\""
   ]
  },
  {
   "cell_type": "code",
   "execution_count": 11,
   "metadata": {},
   "outputs": [],
   "source": [
    "flats_Nums=np.arange(96,136)"
   ]
  },
  {
   "cell_type": "code",
   "execution_count": 30,
   "metadata": {},
   "outputs": [
    {
     "data": {
      "text/plain": [
       "96"
      ]
     },
     "execution_count": 30,
     "metadata": {},
     "output_type": "execute_result"
    }
   ],
   "source": [
    "flats_Nums[0]"
   ]
  },
  {
   "cell_type": "code",
   "execution_count": 35,
   "metadata": {},
   "outputs": [],
   "source": [
    "all_images=[]\n",
    "\n",
    "raw=butler.get('raw',dayObs=dayObs,seqNum=96)\n",
    "all_images.append(raw.image.array)\n",
    "raw=butler.get('raw',dayObs=dayObs,seqNum=97)\n",
    "all_images.append(raw.image.array)\n",
    "raw=butler.get('raw',dayObs=dayObs,seqNum=98)\n",
    "all_images.append(raw.image.array)\n",
    "raw=butler.get('raw',dayObs=dayObs,seqNum=99)\n",
    "all_images.append(raw.image.array)"
   ]
  },
  {
   "cell_type": "code",
   "execution_count": 36,
   "metadata": {},
   "outputs": [],
   "source": [
    "flats=np.zeros(raw.image.array.shape)"
   ]
  },
  {
   "cell_type": "code",
   "execution_count": 37,
   "metadata": {},
   "outputs": [],
   "source": [
    "for image in all_images:\n",
    "    flats+=image\n",
    "    "
   ]
  },
  {
   "cell_type": "code",
   "execution_count": 39,
   "metadata": {},
   "outputs": [
    {
     "data": {
      "text/plain": [
       "<matplotlib.image.AxesImage at 0x7ff671347510>"
      ]
     },
     "execution_count": 39,
     "metadata": {},
     "output_type": "execute_result"
    },
    {
     "data": {
      "image/png": "[encoded data removed]",
      "text/plain": [
       "<Figure size 432x288 with 1 Axes>"
      ]
     },
     "metadata": {
      "needs_background": "light"
     },
     "output_type": "display_data"
    }
   ],
   "source": [
    "plt.imshow(flats)"
   ]
  },
  {
   "cell_type": "code",
   "execution_count": 28,
   "metadata": {},
   "outputs": [
    {
     "name": "stdout",
     "output_type": "stream",
     "text": [
      "97\n"
     ]
    },
    {
     "ename": "NoResults",
     "evalue": "No locations for get: datasetType:raw_hdu dataId:DataId(initialdata={'dayObs': '2021-02-17', 'seqNum': 97}, tag=set())",
     "output_type": "error",
     "traceback": [
      "\u001b[0;31m---------------------------------------------------------------------------\u001b[0m",
      "\u001b[0;31mNoResults\u001b[0m                                 Traceback (most recent call last)",
      "\u001b[0;32m<ipython-input-28-7c856add71cc>\u001b[0m in \u001b[0;36m<module>\u001b[0;34m\u001b[0m\n\u001b[1;32m      1\u001b[0m \u001b[0;32mfor\u001b[0m \u001b[0midx\u001b[0m \u001b[0;32min\u001b[0m \u001b[0mnp\u001b[0m\u001b[0;34m.\u001b[0m\u001b[0marange\u001b[0m\u001b[0;34m(\u001b[0m\u001b[0;36m97\u001b[0m\u001b[0;34m,\u001b[0m\u001b[0;36m135\u001b[0m\u001b[0;34m)\u001b[0m\u001b[0;34m:\u001b[0m\u001b[0;34m\u001b[0m\u001b[0;34m\u001b[0m\u001b[0m\n\u001b[1;32m      2\u001b[0m     \u001b[0mprint\u001b[0m\u001b[0;34m(\u001b[0m\u001b[0midx\u001b[0m\u001b[0;34m)\u001b[0m\u001b[0;34m\u001b[0m\u001b[0;34m\u001b[0m\u001b[0m\n\u001b[0;32m----> 3\u001b[0;31m     \u001b[0mraw\u001b[0m\u001b[0;34m=\u001b[0m\u001b[0mbutler\u001b[0m\u001b[0;34m.\u001b[0m\u001b[0mget\u001b[0m\u001b[0;34m(\u001b[0m\u001b[0;34m'raw'\u001b[0m\u001b[0;34m,\u001b[0m\u001b[0mdayObs\u001b[0m\u001b[0;34m=\u001b[0m\u001b[0mdayObs\u001b[0m\u001b[0;34m,\u001b[0m\u001b[0mseqNum\u001b[0m\u001b[0;34m=\u001b[0m\u001b[0midx\u001b[0m\u001b[0;34m)\u001b[0m\u001b[0;34m\u001b[0m\u001b[0;34m\u001b[0m\u001b[0m\n\u001b[0m\u001b[1;32m      4\u001b[0m     \u001b[0mflats\u001b[0m\u001b[0;34m+=\u001b[0m\u001b[0mraw\u001b[0m\u001b[0;34m.\u001b[0m\u001b[0mimage\u001b[0m\u001b[0;34m.\u001b[0m\u001b[0marray\u001b[0m\u001b[0;34m\u001b[0m\u001b[0;34m\u001b[0m\u001b[0m\n",
      "\u001b[0;32m/opt/lsst/software/stack/stack/miniconda3-py37_4.8.2-cb4e2dc/Linux64/daf_persistence/21.0.0-2-ga885a99+4aa8b35973/python/lsst/daf/persistence/butler.py\u001b[0m in \u001b[0;36mget\u001b[0;34m(self, datasetType, dataId, immediate, **rest)\u001b[0m\n\u001b[1;32m   1413\u001b[0m                 \u001b[0;32mreturn\u001b[0m \u001b[0mlocation\u001b[0m\u001b[0;34m.\u001b[0m\u001b[0mmapper\u001b[0m\u001b[0;34m.\u001b[0m\u001b[0mstandardize\u001b[0m\u001b[0;34m(\u001b[0m\u001b[0mlocation\u001b[0m\u001b[0;34m.\u001b[0m\u001b[0mdatasetType\u001b[0m\u001b[0;34m,\u001b[0m \u001b[0minnerCallback\u001b[0m\u001b[0;34m(\u001b[0m\u001b[0;34m)\u001b[0m\u001b[0;34m,\u001b[0m \u001b[0mdataId\u001b[0m\u001b[0;34m)\u001b[0m\u001b[0;34m\u001b[0m\u001b[0;34m\u001b[0m\u001b[0m\n\u001b[1;32m   1414\u001b[0m         \u001b[0;32mif\u001b[0m \u001b[0mimmediate\u001b[0m\u001b[0;34m:\u001b[0m\u001b[0;34m\u001b[0m\u001b[0;34m\u001b[0m\u001b[0m\n\u001b[0;32m-> 1415\u001b[0;31m             \u001b[0;32mreturn\u001b[0m \u001b[0mcallback\u001b[0m\u001b[0;34m(\u001b[0m\u001b[0;34m)\u001b[0m\u001b[0;34m\u001b[0m\u001b[0;34m\u001b[0m\u001b[0m\n\u001b[0m\u001b[1;32m   1416\u001b[0m         \u001b[0;32mreturn\u001b[0m \u001b[0mReadProxy\u001b[0m\u001b[0;34m(\u001b[0m\u001b[0mcallback\u001b[0m\u001b[0;34m)\u001b[0m\u001b[0;34m\u001b[0m\u001b[0;34m\u001b[0m\u001b[0m\n\u001b[1;32m   1417\u001b[0m \u001b[0;34m\u001b[0m\u001b[0m\n",
      "\u001b[0;32m/opt/lsst/software/stack/stack/miniconda3-py37_4.8.2-cb4e2dc/Linux64/daf_persistence/21.0.0-2-ga885a99+4aa8b35973/python/lsst/daf/persistence/butler.py\u001b[0m in \u001b[0;36mcallback\u001b[0;34m()\u001b[0m\n\u001b[1;32m   1411\u001b[0m \u001b[0;34m\u001b[0m\u001b[0m\n\u001b[1;32m   1412\u001b[0m             \u001b[0;32mdef\u001b[0m \u001b[0mcallback\u001b[0m\u001b[0;34m(\u001b[0m\u001b[0;34m)\u001b[0m\u001b[0;34m:\u001b[0m\u001b[0;34m\u001b[0m\u001b[0;34m\u001b[0m\u001b[0m\n\u001b[0;32m-> 1413\u001b[0;31m                 \u001b[0;32mreturn\u001b[0m \u001b[0mlocation\u001b[0m\u001b[0;34m.\u001b[0m\u001b[0mmapper\u001b[0m\u001b[0;34m.\u001b[0m\u001b[0mstandardize\u001b[0m\u001b[0;34m(\u001b[0m\u001b[0mlocation\u001b[0m\u001b[0;34m.\u001b[0m\u001b[0mdatasetType\u001b[0m\u001b[0;34m,\u001b[0m \u001b[0minnerCallback\u001b[0m\u001b[0;34m(\u001b[0m\u001b[0;34m)\u001b[0m\u001b[0;34m,\u001b[0m \u001b[0mdataId\u001b[0m\u001b[0;34m)\u001b[0m\u001b[0;34m\u001b[0m\u001b[0;34m\u001b[0m\u001b[0m\n\u001b[0m\u001b[1;32m   1414\u001b[0m         \u001b[0;32mif\u001b[0m \u001b[0mimmediate\u001b[0m\u001b[0;34m:\u001b[0m\u001b[0;34m\u001b[0m\u001b[0;34m\u001b[0m\u001b[0m\n\u001b[1;32m   1415\u001b[0m             \u001b[0;32mreturn\u001b[0m \u001b[0mcallback\u001b[0m\u001b[0;34m(\u001b[0m\u001b[0;34m)\u001b[0m\u001b[0;34m\u001b[0m\u001b[0;34m\u001b[0m\u001b[0m\n",
      "\u001b[0;32m/opt/lsst/software/stack/stack/miniconda3-py37_4.8.2-cb4e2dc/Linux64/daf_persistence/21.0.0-2-ga885a99+4aa8b35973/python/lsst/daf/persistence/butler.py\u001b[0m in \u001b[0;36mcallback\u001b[0;34m()\u001b[0m\n\u001b[1;32m   1406\u001b[0m         \u001b[0;32melse\u001b[0m\u001b[0;34m:\u001b[0m\u001b[0;34m\u001b[0m\u001b[0;34m\u001b[0m\u001b[0m\n\u001b[1;32m   1407\u001b[0m             \u001b[0;32mdef\u001b[0m \u001b[0mcallback\u001b[0m\u001b[0;34m(\u001b[0m\u001b[0;34m)\u001b[0m\u001b[0;34m:\u001b[0m\u001b[0;34m\u001b[0m\u001b[0;34m\u001b[0m\u001b[0m\n\u001b[0;32m-> 1408\u001b[0;31m                 \u001b[0;32mreturn\u001b[0m \u001b[0mself\u001b[0m\u001b[0;34m.\u001b[0m\u001b[0m_read\u001b[0m\u001b[0;34m(\u001b[0m\u001b[0mlocation\u001b[0m\u001b[0;34m)\u001b[0m\u001b[0;34m\u001b[0m\u001b[0;34m\u001b[0m\u001b[0m\n\u001b[0m\u001b[1;32m   1409\u001b[0m         \u001b[0;32mif\u001b[0m \u001b[0mlocation\u001b[0m\u001b[0;34m.\u001b[0m\u001b[0mmapper\u001b[0m\u001b[0;34m.\u001b[0m\u001b[0mcanStandardize\u001b[0m\u001b[0;34m(\u001b[0m\u001b[0mlocation\u001b[0m\u001b[0;34m.\u001b[0m\u001b[0mdatasetType\u001b[0m\u001b[0;34m)\u001b[0m\u001b[0;34m:\u001b[0m\u001b[0;34m\u001b[0m\u001b[0;34m\u001b[0m\u001b[0m\n\u001b[1;32m   1410\u001b[0m             \u001b[0minnerCallback\u001b[0m \u001b[0;34m=\u001b[0m \u001b[0mcallback\u001b[0m\u001b[0;34m\u001b[0m\u001b[0;34m\u001b[0m\u001b[0m\n",
      "\u001b[0;32m/opt/lsst/software/stack/stack/miniconda3-py37_4.8.2-cb4e2dc/Linux64/daf_persistence/21.0.0-2-ga885a99+4aa8b35973/python/lsst/daf/persistence/butler.py\u001b[0m in \u001b[0;36m_read\u001b[0;34m(self, location)\u001b[0m\n\u001b[1;32m   1600\u001b[0m                     \u001b[0mcomponentInfo\u001b[0m\u001b[0;34m.\u001b[0m\u001b[0mobj\u001b[0m \u001b[0;34m=\u001b[0m \u001b[0;34m[\u001b[0m\u001b[0mobj\u001b[0m\u001b[0;34m.\u001b[0m\u001b[0mget\u001b[0m\u001b[0;34m(\u001b[0m\u001b[0;34m)\u001b[0m \u001b[0;32mfor\u001b[0m \u001b[0mobj\u001b[0m \u001b[0;32min\u001b[0m \u001b[0msubset\u001b[0m\u001b[0;34m]\u001b[0m\u001b[0;34m\u001b[0m\u001b[0;34m\u001b[0m\u001b[0m\n\u001b[1;32m   1601\u001b[0m                 \u001b[0;32melse\u001b[0m\u001b[0;34m:\u001b[0m\u001b[0;34m\u001b[0m\u001b[0;34m\u001b[0m\u001b[0m\n\u001b[0;32m-> 1602\u001b[0;31m                     \u001b[0mobj\u001b[0m \u001b[0;34m=\u001b[0m \u001b[0mself\u001b[0m\u001b[0;34m.\u001b[0m\u001b[0mget\u001b[0m\u001b[0;34m(\u001b[0m\u001b[0mcomponentInfo\u001b[0m\u001b[0;34m.\u001b[0m\u001b[0mdatasetType\u001b[0m\u001b[0;34m,\u001b[0m \u001b[0mlocation\u001b[0m\u001b[0;34m.\u001b[0m\u001b[0mdataId\u001b[0m\u001b[0;34m,\u001b[0m \u001b[0mimmediate\u001b[0m\u001b[0;34m=\u001b[0m\u001b[0;32mTrue\u001b[0m\u001b[0;34m)\u001b[0m\u001b[0;34m\u001b[0m\u001b[0;34m\u001b[0m\u001b[0m\n\u001b[0m\u001b[1;32m   1603\u001b[0m                     \u001b[0mcomponentInfo\u001b[0m\u001b[0;34m.\u001b[0m\u001b[0mobj\u001b[0m \u001b[0;34m=\u001b[0m \u001b[0mobj\u001b[0m\u001b[0;34m\u001b[0m\u001b[0;34m\u001b[0m\u001b[0m\n\u001b[1;32m   1604\u001b[0m                 \u001b[0massembler\u001b[0m \u001b[0;34m=\u001b[0m \u001b[0mlocation\u001b[0m\u001b[0;34m.\u001b[0m\u001b[0massembler\u001b[0m \u001b[0;32mor\u001b[0m \u001b[0mgenericAssembler\u001b[0m\u001b[0;34m\u001b[0m\u001b[0;34m\u001b[0m\u001b[0m\n",
      "\u001b[0;32m/opt/lsst/software/stack/stack/miniconda3-py37_4.8.2-cb4e2dc/Linux64/daf_persistence/21.0.0-2-ga885a99+4aa8b35973/python/lsst/daf/persistence/butler.py\u001b[0m in \u001b[0;36mget\u001b[0;34m(self, datasetType, dataId, immediate, **rest)\u001b[0m\n\u001b[1;32m   1397\u001b[0m         \u001b[0mlocation\u001b[0m \u001b[0;34m=\u001b[0m \u001b[0mself\u001b[0m\u001b[0;34m.\u001b[0m\u001b[0m_locate\u001b[0m\u001b[0;34m(\u001b[0m\u001b[0mdatasetType\u001b[0m\u001b[0;34m,\u001b[0m \u001b[0mdataId\u001b[0m\u001b[0;34m,\u001b[0m \u001b[0mwrite\u001b[0m\u001b[0;34m=\u001b[0m\u001b[0;32mFalse\u001b[0m\u001b[0;34m)\u001b[0m\u001b[0;34m\u001b[0m\u001b[0;34m\u001b[0m\u001b[0m\n\u001b[1;32m   1398\u001b[0m         \u001b[0;32mif\u001b[0m \u001b[0mlocation\u001b[0m \u001b[0;32mis\u001b[0m \u001b[0;32mNone\u001b[0m\u001b[0;34m:\u001b[0m\u001b[0;34m\u001b[0m\u001b[0;34m\u001b[0m\u001b[0m\n\u001b[0;32m-> 1399\u001b[0;31m             \u001b[0;32mraise\u001b[0m \u001b[0mNoResults\u001b[0m\u001b[0;34m(\u001b[0m\u001b[0;34m\"No locations for get:\"\u001b[0m\u001b[0;34m,\u001b[0m \u001b[0mdatasetType\u001b[0m\u001b[0;34m,\u001b[0m \u001b[0mdataId\u001b[0m\u001b[0;34m)\u001b[0m\u001b[0;34m\u001b[0m\u001b[0;34m\u001b[0m\u001b[0m\n\u001b[0m\u001b[1;32m   1400\u001b[0m         \u001b[0mself\u001b[0m\u001b[0;34m.\u001b[0m\u001b[0mlog\u001b[0m\u001b[0;34m.\u001b[0m\u001b[0mdebug\u001b[0m\u001b[0;34m(\u001b[0m\u001b[0;34m\"Get type=%s keys=%s from %s\"\u001b[0m\u001b[0;34m,\u001b[0m \u001b[0mdatasetType\u001b[0m\u001b[0;34m,\u001b[0m \u001b[0mdataId\u001b[0m\u001b[0;34m,\u001b[0m \u001b[0mstr\u001b[0m\u001b[0;34m(\u001b[0m\u001b[0mlocation\u001b[0m\u001b[0;34m)\u001b[0m\u001b[0;34m)\u001b[0m\u001b[0;34m\u001b[0m\u001b[0;34m\u001b[0m\u001b[0m\n\u001b[1;32m   1401\u001b[0m \u001b[0;34m\u001b[0m\u001b[0m\n",
      "\u001b[0;31mNoResults\u001b[0m: No locations for get: datasetType:raw_hdu dataId:DataId(initialdata={'dayObs': '2021-02-17', 'seqNum': 97}, tag=set())"
     ]
    }
   ],
   "source": [
    "for idx in np.arange(97,135):\n",
    "    print(idx)\n",
    "    raw=butler.get('raw',dayObs=dayObs,seqNum=idx)\n",
    "    flats+=raw.image.array"
   ]
  },
  {
   "cell_type": "code",
   "execution_count": null,
   "metadata": {},
   "outputs": [],
   "source": [
    "plt.imshow(flats,origin=\"lower\")"
   ]
  },
  {
   "cell_type": "code",
   "execution_count": null,
   "metadata": {},
   "outputs": [],
   "source": [
    "alert False"
   ]
  },
  {
   "cell_type": "markdown",
   "metadata": {},
   "source": [
    "# Butler"
   ]
  },
  {
   "cell_type": "code",
   "execution_count": null,
   "metadata": {},
   "outputs": [],
   "source": [
    "butler=dafPersist.Butler(\"/project/shared/auxTel\")"
   ]
  },
  {
   "cell_type": "code",
   "execution_count": null,
   "metadata": {},
   "outputs": [],
   "source": [
    "dayObs=\"2021-02-17\""
   ]
  },
  {
   "cell_type": "code",
   "execution_count": null,
   "metadata": {},
   "outputs": [],
   "source": [
    "all_myseq=[350,351,352,353,354,355,356,357,358]"
   ]
  },
  {
   "cell_type": "code",
   "execution_count": null,
   "metadata": {},
   "outputs": [],
   "source": [
    "seqNum=all_myseq[1]"
   ]
  },
  {
   "cell_type": "markdown",
   "metadata": {},
   "source": [
    "# Display"
   ]
  },
  {
   "cell_type": "code",
   "execution_count": null,
   "metadata": {},
   "outputs": [],
   "source": [
    "display1=afwDisplay.getDisplay(frame=1,port=80,name='sylviedc_debug1_2021_02_17',url=os.environ[\"FIREFLY_URL\"])"
   ]
  },
  {
   "cell_type": "code",
   "execution_count": null,
   "metadata": {},
   "outputs": [],
   "source": [
    "raw=butler.get('raw',dayObs=dayObs,seqNum=seqNum)"
   ]
  },
  {
   "cell_type": "code",
   "execution_count": null,
   "metadata": {},
   "outputs": [],
   "source": [
    "display1.mtv(raw)"
   ]
  },
  {
   "cell_type": "code",
   "execution_count": null,
   "metadata": {},
   "outputs": [],
   "source": [
    "display1.getClient().display_url()"
   ]
  },
  {
   "cell_type": "markdown",
   "metadata": {},
   "source": [
    "# Meta Query to the Butler"
   ]
  },
  {
   "cell_type": "code",
   "execution_count": null,
   "metadata": {},
   "outputs": [],
   "source": [
    "print(butler.queryMetadata('raw','seqNum',dayObs=dayObs))"
   ]
  },
  {
   "cell_type": "code",
   "execution_count": null,
   "metadata": {},
   "outputs": [],
   "source": [
    "seqNums=butler.queryMetadata('raw','seqNum',dayObs=dayObs)"
   ]
  },
  {
   "cell_type": "code",
   "execution_count": null,
   "metadata": {},
   "outputs": [],
   "source": [
    "%config IPCompleter.use_jedi=False"
   ]
  },
  {
   "cell_type": "markdown",
   "metadata": {},
   "source": [
    "## Butler Query meta data"
   ]
  },
  {
   "cell_type": "code",
   "execution_count": null,
   "metadata": {},
   "outputs": [],
   "source": [
    "ids=butler.queryMetadata('raw',[\"dayObs\", \"seqNum\"],object='NGC 4755')"
   ]
  },
  {
   "cell_type": "code",
   "execution_count": null,
   "metadata": {},
   "outputs": [],
   "source": [
    "count=0\n",
    "for dataid in ids:\n",
    "    print(dataid)\n",
    "    count+=1"
   ]
  },
  {
   "cell_type": "markdown",
   "metadata": {},
   "source": [
    "# Exp "
   ]
  },
  {
   "cell_type": "code",
   "execution_count": null,
   "metadata": {},
   "outputs": [],
   "source": [
    "exp=butler.get('quickLookExp',dayObs=dayObs,seqNum=seqNum)"
   ]
  },
  {
   "cell_type": "code",
   "execution_count": null,
   "metadata": {},
   "outputs": [],
   "source": [
    "display1.mtv(exp)"
   ]
  },
  {
   "cell_type": "code",
   "execution_count": null,
   "metadata": {},
   "outputs": [],
   "source": [
    "fig=plt.figure(figsize=(20,5))\n",
    "ax1=fig.add_subplot(131)\n",
    "ax1.imshow(exp.image.array,origin=\"lower\",cmap=\"jet\")\n",
    "ax2=fig.add_subplot(132)\n",
    "ax2.imshow(exp.mask.array,origin=\"lower\",cmap=\"jet\")\n",
    "ax3=fig.add_subplot(133)\n",
    "ax3.imshow(exp.variance.array,origin=\"lower\",cmap=\"jet\")"
   ]
  },
  {
   "cell_type": "code",
   "execution_count": null,
   "metadata": {},
   "outputs": [],
   "source": [
    "exp.image.array.shape"
   ]
  },
  {
   "cell_type": "code",
   "execution_count": null,
   "metadata": {},
   "outputs": [],
   "source": [
    "raw.image.array.shape"
   ]
  },
  {
   "cell_type": "markdown",
   "metadata": {},
   "source": [
    "## Meta Data"
   ]
  },
  {
   "cell_type": "code",
   "execution_count": null,
   "metadata": {},
   "outputs": [],
   "source": [
    "md=butler.get(\"raw_md\",dayObs=dayObs,seqNum=seqNum)"
   ]
  },
  {
   "cell_type": "code",
   "execution_count": null,
   "metadata": {},
   "outputs": [],
   "source": [
    "md.toDict()"
   ]
  },
  {
   "cell_type": "markdown",
   "metadata": {},
   "source": [
    "# Start to work on raw images"
   ]
  },
  {
   "cell_type": "code",
   "execution_count": null,
   "metadata": {},
   "outputs": [],
   "source": [
    "plt.rcParams[\"axes.labelsize\"] = 'large'\n",
    "plt.rcParams['axes.titlesize'] = 'large'\n",
    "plt.rcParams['xtick.labelsize']= 'large'\n",
    "plt.rcParams['ytick.labelsize']= 'large'"
   ]
  },
  {
   "cell_type": "code",
   "execution_count": null,
   "metadata": {},
   "outputs": [],
   "source": [
    "all_myseq=[350,351,352,353,354,355,356,357,358]"
   ]
  },
  {
   "cell_type": "code",
   "execution_count": null,
   "metadata": {},
   "outputs": [],
   "source": [
    "Ncol=3\n",
    "Nrow=3"
   ]
  },
  {
   "cell_type": "code",
   "execution_count": null,
   "metadata": {},
   "outputs": [],
   "source": [
    "all_my_raw_array=[]\n",
    "all_my_header=[]\n",
    "for seqNum in all_myseq:\n",
    "    raw=butler.get('raw',dayObs=dayObs,seqNum=seqNum)\n",
    "    md=butler.get(\"raw_md\",dayObs=dayObs,seqNum=seqNum)\n",
    "    all_my_raw_array.append(np.copy(raw.image.array))\n",
    "    all_my_header.append(md.toDict())"
   ]
  },
  {
   "cell_type": "code",
   "execution_count": null,
   "metadata": {},
   "outputs": [],
   "source": [
    "Ncol=3\n",
    "Nrow=3\n",
    "Ntot=Ncol*Nrow"
   ]
  },
  {
   "cell_type": "code",
   "execution_count": null,
   "metadata": {},
   "outputs": [],
   "source": [
    "fig = plt.figure(figsize=(16,16))\n",
    "\n",
    "# loop on angle\n",
    "for idx in np.arange(Ntot):\n",
    "    ax=fig.add_subplot(Nrow,Ncol,idx+1)\n",
    "    ax.imshow(all_my_raw_array[idx],origin='lower',cmap=\"jet\")\n",
    "    ax.set_title(all_myseq[idx])"
   ]
  },
  {
   "cell_type": "code",
   "execution_count": null,
   "metadata": {},
   "outputs": [],
   "source": [
    "from astropy.io import fits"
   ]
  },
  {
   "cell_type": "code",
   "execution_count": null,
   "metadata": {},
   "outputs": [],
   "source": [
    "idx=0\n",
    "for seqNum in all_myseq:\n",
    "    filename=\"holo4_003_NGC4755_\"+dayObs+\"_\"+str(seqNum)+\"_noheader.fits\"\n",
    "    print(filename)\n",
    "    \n",
    "    hdr = fits.Header()\n",
    "    \n",
    "    for key,value in all_my_header[idx].items():\n",
    "        hdr[str(key)]=value\n",
    "        \n",
    "    hdu = fits.PrimaryHDU(data=all_my_raw_array[idx],header=hdr)\n",
    "    hdu = fits.PrimaryHDU(data=all_my_raw_array[idx])\n",
    "    \n",
    "    hdul = fits.HDUList([hdu])\n",
    "    \n",
    "    hdul.writeto(filename,overwrite=True)\n",
    "    \n",
    "    idx+=1"
   ]
  },
  {
   "cell_type": "code",
   "execution_count": null,
   "metadata": {},
   "outputs": [],
   "source": []
  }
 ],
 "metadata": {
  "kernelspec": {
   "display_name": "LSST",
   "language": "python",
   "name": "lsst"
  },
  "language_info": {
   "codemirror_mode": {
    "name": "ipython",
    "version": 3
   },
   "file_extension": ".py",
   "mimetype": "text/x-python",
   "name": "python",
   "nbconvert_exporter": "python",
   "pygments_lexer": "ipython3",
   "version": "3.7.8"
  }
 },
 "nbformat": 4,
 "nbformat_minor": 4
}
