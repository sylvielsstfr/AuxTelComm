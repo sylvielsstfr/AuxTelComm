{
 "cells": [
  {
   "cell_type": "markdown",
   "id": "8bb663b1",
   "metadata": {},
   "source": [
    "# Run Spectractor from notebooks\n",
    "\n",
    "- adapted from https://github.com/stubbslab/PCWG-AuxTel/blob/main/Run_Spectractor_example.ipynb\n",
    "\n",
    "- author : Sylvie Dagoret-campagne\n",
    "- affiliation : IJCLab/IN2P3/CNRS\n",
    "- update : September 2021 13th\n",
    "- DM-Stack version : **w_2021_36**\n",
    "- Big CPU"
   ]
  },
  {
   "cell_type": "code",
   "execution_count": 19,
   "id": "765b93ad",
   "metadata": {},
   "outputs": [],
   "source": [
    "# wide scan : HD 160617 \n",
    "all_myseq_holo=range(234,310)\n",
    "# narrow scan :  HD 160617 \n",
    "#all_myseq_holo=range(317,365)\n",
    "all_myseq=all_myseq_holo\n",
    "\n",
    "ExpoNum=308"
   ]
  },
  {
   "cell_type": "code",
   "execution_count": 20,
   "id": "78e38376",
   "metadata": {},
   "outputs": [
    {
     "name": "stdout",
     "output_type": "stream",
     "text": [
      "You are running current of lsst_distrib\n"
     ]
    }
   ],
   "source": [
    "#Check your stack container version matches the setup instructions!\n",
    "version = ! eups list -s lsst_distrib\n",
    "print(f'You are running {version[0].split()[1]} of lsst_distrib')"
   ]
  },
  {
   "cell_type": "markdown",
   "id": "0515b803",
   "metadata": {},
   "source": [
    "Check your packages are setup, as per the setup instructions. Each of the ones setup should appear here. If they don't, you've missed the line in your .user_setups file"
   ]
  },
  {
   "cell_type": "code",
   "execution_count": 21,
   "id": "f289376f",
   "metadata": {},
   "outputs": [
    {
     "name": "stdout",
     "output_type": "stream",
     "text": [
      "atmospec              LOCAL:/home/dagoret/repos/atmospec \tsetup\n",
      "daf_butler            LOCAL:/home/dagoret/repos/daf_butler \tsetup\n",
      "eups                  LOCAL:/opt/lsst/software/stack/conda/miniconda3-py38_4.9.2/envs/lsst-scipipe-0.7.0/eups \tsetup\n",
      "rapid_analysis        LOCAL:/home/dagoret/repos/rapid_analysis \tsetup\n"
     ]
    }
   ],
   "source": [
    "! eups list -s | grep LOCAL"
   ]
  },
  {
   "cell_type": "markdown",
   "id": "6b36260d",
   "metadata": {},
   "source": [
    "Redirect the logger outputs (stack and Spectractor) to the notebook:"
   ]
  },
  {
   "cell_type": "code",
   "execution_count": 22,
   "id": "e372d971",
   "metadata": {},
   "outputs": [],
   "source": [
    "from lsst.log.utils import enable_notebook_logging\n",
    "enable_notebook_logging()"
   ]
  },
  {
   "cell_type": "markdown",
   "id": "81364e86",
   "metadata": {},
   "source": [
    "Make a bulter, pick an image, and make a data reference to it:"
   ]
  },
  {
   "cell_type": "code",
   "execution_count": 23,
   "id": "b803f9b9",
   "metadata": {},
   "outputs": [
    {
     "name": "stderr",
     "output_type": "stream",
     "text": [
      "LsstCamMapper WARN: Unable to find valid calib root directory\n",
      "CameraMapper INFO: Loading exposure registry from /lsstdata/offline/instrument/LATISS/gen2repo/registry.sqlite3\n",
      "CameraMapper INFO: Loading calib registry from /project/shared/auxTel/CALIB/calibRegistry.sqlite3\n",
      "CameraMapper INFO: Loading calib registry from /project/shared/auxTel/CALIB/calibRegistry.sqlite3\n"
     ]
    }
   ],
   "source": [
    "import lsst.daf.persistence as dafPersist\n",
    "\n",
    "#After mfl created /project/shared/auxTel/rerun/dagoret (2021/09/09):\n",
    "#repoDir='/project/shared/auxTel/rerun/dagoret/output'\n",
    "#repoDir='/project/shared/auxTel/rerun/dagoret'\n",
    "repoDir='/project/shared/auxTel/rerun/dagoret/outputspectr_scan2021_July'\n",
    "butler=  dafPersist.Butler(repoDir)\n",
    "\n",
    "dataId = {'dayObs': '2021-07-07', 'seqNum': ExpoNum}\n",
    "# good\n",
    "#dataId = {'dayObs': '2021-07-07', 'seqNum': 330}\n",
    "dataRef = butler.dataRef('raw', **dataId)"
   ]
  },
  {
   "cell_type": "code",
   "execution_count": 24,
   "id": "2e54619c",
   "metadata": {},
   "outputs": [
    {
     "data": {
      "text/plain": [
       "dict"
      ]
     },
     "execution_count": 24,
     "metadata": {},
     "output_type": "execute_result"
    }
   ],
   "source": [
    "type(dataId)"
   ]
  },
  {
   "cell_type": "markdown",
   "id": "88768114",
   "metadata": {},
   "source": [
    "Instantiate the task, set our config options"
   ]
  },
  {
   "cell_type": "code",
   "execution_count": 25,
   "id": "fe01a636",
   "metadata": {},
   "outputs": [],
   "source": [
    "from lsst.atmospec import ProcessStarTask\n",
    "\n",
    "config = ProcessStarTask.ConfigClass()\n",
    "config.doDisplayPlots = True  # show the plots in the notebook\n",
    "config.spectractorDebugMode = True  # make all the debug plots along the way\n",
    "config.binning = 4\n",
    "\n",
    "# pretty minimal ISR because some things we don't have the calib products available for\n",
    "# most of this would be picked up automatically if running from the command line from config files\n",
    "config.isr.doLinearize = False\n",
    "config.isr.doDark = False\n",
    "config.isr.doFlat = False\n",
    "config.isr.doFringe = False\n",
    "config.isr.doDefect = True\n",
    "config.isr.doCrosstalk = False\n",
    "config.isr.doSaturationInterpolation = False\n",
    "\n",
    "task = ProcessStarTask(config=config)"
   ]
  },
  {
   "cell_type": "markdown",
   "id": "278ddc8d",
   "metadata": {},
   "source": [
    "Set this so that the plots pop up in the notebook"
   ]
  },
  {
   "cell_type": "code",
   "execution_count": 26,
   "id": "e60feeb2",
   "metadata": {},
   "outputs": [],
   "source": [
    "%matplotlib inline"
   ]
  },
  {
   "cell_type": "markdown",
   "id": "fefc0ccf",
   "metadata": {},
   "source": [
    "Run, and watch the debug plots roll in. If you've selected a writable rerun above, the result will also be butler.put() in there so you can butler.get() it later, but we can also catch the result as it's returned by the runDataRef() method"
   ]
  },
  {
   "cell_type": "code",
   "execution_count": 27,
   "id": "67b0ef78",
   "metadata": {},
   "outputs": [
    {
     "name": "stderr",
     "output_type": "stream",
     "text": [
      "2021-09-14 16:37:05,309 obs.lsst.assembly logCmd               WARNING (minimum=(0, 0), maximum=(543, 2047)): (minimum=(0, 0), maximum=(575, 2047))\n",
      "2021-09-14 16:37:06,630 astro_metadata_translator.headers fix_header           CRITICAL Ignoring translator header fixup of LATISS None: 'MJD-OBS not found'\n",
      "2021-09-14 16:37:10,784 processStar.isr roughZeroPoint       WARNING No rough magnitude zero point defined for filter RG610~holo4_003.\n",
      "2021-09-14 16:37:13,657 LsstLatissMapper _computeCcdExposureId WARNING Controller unknown, using 'C'\n",
      "2021-09-14 16:38:04,797 processStar runAstrometry        WARNING Failed to find an acceptable match\n"
     ]
    },
    {
     "ename": "IndexError",
     "evalue": "list index out of range",
     "output_type": "error",
     "traceback": [
      "\u001b[0;31m---------------------------------------------------------------------------\u001b[0m",
      "\u001b[0;31mIndexError\u001b[0m                                Traceback (most recent call last)",
      "\u001b[0;32m<ipython-input-27-27eaa444fa6b>\u001b[0m in \u001b[0;36m<module>\u001b[0;34m\u001b[0m\n\u001b[0;32m----> 1\u001b[0;31m \u001b[0mresult\u001b[0m \u001b[0;34m=\u001b[0m \u001b[0mtask\u001b[0m\u001b[0;34m.\u001b[0m\u001b[0mrunDataRef\u001b[0m\u001b[0;34m(\u001b[0m\u001b[0mdataRef\u001b[0m\u001b[0;34m)\u001b[0m\u001b[0;34m\u001b[0m\u001b[0;34m\u001b[0m\u001b[0m\n\u001b[0m",
      "\u001b[0;32m~/repos/atmospec/python/lsst/atmospec/processStar.py\u001b[0m in \u001b[0;36mrunDataRef\u001b[0;34m(self, dataRef)\u001b[0m\n\u001b[1;32m    585\u001b[0m                 \u001b[0msourceCentroid\u001b[0m \u001b[0;34m=\u001b[0m \u001b[0mgetTargetCentroidFromWcs\u001b[0m\u001b[0;34m(\u001b[0m\u001b[0mexposure\u001b[0m\u001b[0;34m,\u001b[0m \u001b[0mtarget\u001b[0m\u001b[0;34m,\u001b[0m \u001b[0mlogger\u001b[0m\u001b[0;34m=\u001b[0m\u001b[0mself\u001b[0m\u001b[0;34m.\u001b[0m\u001b[0mlog\u001b[0m\u001b[0;34m)\u001b[0m\u001b[0;34m\u001b[0m\u001b[0;34m\u001b[0m\u001b[0m\n\u001b[1;32m    586\u001b[0m             \u001b[0;32melse\u001b[0m\u001b[0;34m:\u001b[0m\u001b[0;34m\u001b[0m\u001b[0;34m\u001b[0m\u001b[0m\n\u001b[0;32m--> 587\u001b[0;31m                 \u001b[0msourceCentroid\u001b[0m \u001b[0;34m=\u001b[0m \u001b[0mself\u001b[0m\u001b[0;34m.\u001b[0m\u001b[0mfindMainSource\u001b[0m\u001b[0;34m(\u001b[0m\u001b[0mexposure\u001b[0m\u001b[0;34m)\u001b[0m\u001b[0;34m\u001b[0m\u001b[0;34m\u001b[0m\u001b[0m\n\u001b[0m\u001b[1;32m    588\u001b[0m                 \u001b[0mself\u001b[0m\u001b[0;34m.\u001b[0m\u001b[0mlog\u001b[0m\u001b[0;34m.\u001b[0m\u001b[0mwarn\u001b[0m\u001b[0;34m(\u001b[0m\u001b[0;34m\"Astrometric fit failed, failing over to source-finding centroid\"\u001b[0m\u001b[0;34m)\u001b[0m\u001b[0;34m\u001b[0m\u001b[0;34m\u001b[0m\u001b[0m\n\u001b[1;32m    589\u001b[0m                 \u001b[0mself\u001b[0m\u001b[0;34m.\u001b[0m\u001b[0mlog\u001b[0m\u001b[0;34m.\u001b[0m\u001b[0minfo\u001b[0m\u001b[0;34m(\u001b[0m\u001b[0;34mf\"Centroid of main star at: {sourceCentroid!r}\"\u001b[0m\u001b[0;34m)\u001b[0m\u001b[0;34m\u001b[0m\u001b[0;34m\u001b[0m\u001b[0m\n",
      "\u001b[0;32m~/repos/atmospec/python/lsst/atmospec/processStar.py\u001b[0m in \u001b[0;36mfindMainSource\u001b[0;34m(self, exp)\u001b[0m\n\u001b[1;32m    435\u001b[0m             \u001b[0msource\u001b[0m \u001b[0;34m=\u001b[0m \u001b[0mself\u001b[0m\u001b[0;34m.\u001b[0m\u001b[0mgetRoundestObject\u001b[0m\u001b[0;34m(\u001b[0m\u001b[0mfpSet\u001b[0m\u001b[0;34m,\u001b[0m \u001b[0mexp\u001b[0m\u001b[0;34m,\u001b[0m \u001b[0mfluxCut\u001b[0m\u001b[0;34m=\u001b[0m\u001b[0mself\u001b[0m\u001b[0;34m.\u001b[0m\u001b[0mconfig\u001b[0m\u001b[0;34m.\u001b[0m\u001b[0mmainStarFluxCut\u001b[0m\u001b[0;34m)\u001b[0m\u001b[0;34m\u001b[0m\u001b[0;34m\u001b[0m\u001b[0m\n\u001b[1;32m    436\u001b[0m         \u001b[0;32melif\u001b[0m \u001b[0mself\u001b[0m\u001b[0;34m.\u001b[0m\u001b[0mconfig\u001b[0m\u001b[0;34m.\u001b[0m\u001b[0mmainSourceFindingMethod\u001b[0m \u001b[0;34m==\u001b[0m \u001b[0;34m'BRIGHTEST'\u001b[0m\u001b[0;34m:\u001b[0m\u001b[0;34m\u001b[0m\u001b[0;34m\u001b[0m\u001b[0m\n\u001b[0;32m--> 437\u001b[0;31m             source = self.getBrightestObject(fpSet, exp,\n\u001b[0m\u001b[1;32m    438\u001b[0m                                              roundnessCut=self.config.mainStarRoundnessCut)\n\u001b[1;32m    439\u001b[0m         \u001b[0;32melse\u001b[0m\u001b[0;34m:\u001b[0m\u001b[0;34m\u001b[0m\u001b[0;34m\u001b[0m\u001b[0m\n",
      "\u001b[0;32m~/repos/atmospec/python/lsst/atmospec/processStar.py\u001b[0m in \u001b[0;36mgetBrightestObject\u001b[0;34m(self, footPrintSet, parentExp, roundnessCut)\u001b[0m\n\u001b[1;32m    396\u001b[0m                 \u001b[0msourceDict\u001b[0m\u001b[0;34m[\u001b[0m\u001b[0mflux\u001b[0m\u001b[0;34m]\u001b[0m \u001b[0;34m=\u001b[0m \u001b[0mfp\u001b[0m\u001b[0;34m\u001b[0m\u001b[0;34m\u001b[0m\u001b[0m\n\u001b[1;32m    397\u001b[0m \u001b[0;34m\u001b[0m\u001b[0m\n\u001b[0;32m--> 398\u001b[0;31m         \u001b[0;32mreturn\u001b[0m \u001b[0msourceDict\u001b[0m\u001b[0;34m[\u001b[0m\u001b[0msorted\u001b[0m\u001b[0;34m(\u001b[0m\u001b[0msourceDict\u001b[0m\u001b[0;34m.\u001b[0m\u001b[0mkeys\u001b[0m\u001b[0;34m(\u001b[0m\u001b[0;34m)\u001b[0m\u001b[0;34m)\u001b[0m\u001b[0;34m[\u001b[0m\u001b[0;34m-\u001b[0m\u001b[0;36m1\u001b[0m\u001b[0;34m]\u001b[0m\u001b[0;34m]\u001b[0m\u001b[0;34m\u001b[0m\u001b[0;34m\u001b[0m\u001b[0m\n\u001b[0m\u001b[1;32m    399\u001b[0m \u001b[0;34m\u001b[0m\u001b[0m\n\u001b[1;32m    400\u001b[0m     \u001b[0;32mdef\u001b[0m \u001b[0mfindMainSource\u001b[0m\u001b[0;34m(\u001b[0m\u001b[0mself\u001b[0m\u001b[0;34m,\u001b[0m \u001b[0mexp\u001b[0m\u001b[0;34m)\u001b[0m\u001b[0;34m:\u001b[0m\u001b[0;34m\u001b[0m\u001b[0;34m\u001b[0m\u001b[0m\n",
      "\u001b[0;31mIndexError\u001b[0m: list index out of range"
     ]
    }
   ],
   "source": [
    "result = task.runDataRef(dataRef)"
   ]
  },
  {
   "cell_type": "code",
   "execution_count": null,
   "id": "78fcc431",
   "metadata": {},
   "outputs": [],
   "source": [
    "print(\"hello\")"
   ]
  },
  {
   "cell_type": "code",
   "execution_count": null,
   "id": "453c42be",
   "metadata": {},
   "outputs": [],
   "source": [
    "print(result)"
   ]
  },
  {
   "cell_type": "code",
   "execution_count": null,
   "id": "2bdada9d",
   "metadata": {},
   "outputs": [],
   "source": [
    "ExpoNum"
   ]
  },
  {
   "cell_type": "code",
   "execution_count": null,
   "id": "2f29f51b",
   "metadata": {},
   "outputs": [],
   "source": []
  }
 ],
 "metadata": {
  "kernelspec": {
   "display_name": "LSST",
   "language": "python",
   "name": "lsst"
  },
  "language_info": {
   "codemirror_mode": {
    "name": "ipython",
    "version": 3
   },
   "file_extension": ".py",
   "mimetype": "text/x-python",
   "name": "python",
   "nbconvert_exporter": "python",
   "pygments_lexer": "ipython3",
   "version": "3.8.8"
  }
 },
 "nbformat": 4,
 "nbformat_minor": 5
}
