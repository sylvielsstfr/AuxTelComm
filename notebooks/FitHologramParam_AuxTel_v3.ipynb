{
 "cells": [
  {
   "cell_type": "markdown",
   "metadata": {},
   "source": [
    "# Fit Hologram parameters For AuxTel"
   ]
  },
  {
   "cell_type": "markdown",
   "metadata": {},
   "source": [
    "- author : Sylvie Dagoret-Campagne\n",
    "- affiliation : IJCLab/IN2P3/CNES, DESC-LSST fullmember, behalf AuxTel Teal VERA C. Rubin observatory\n",
    "- creation date : March 1st 2021\n",
    "- version 3"
   ]
  },
  {
   "cell_type": "markdown",
   "metadata": {},
   "source": [
    "# Imports"
   ]
  },
  {
   "cell_type": "code",
   "execution_count": 4,
   "metadata": {},
   "outputs": [],
   "source": [
    "import numpy as np\n",
    "import matplotlib.pyplot as plt\n",
    "%matplotlib inline\n",
    "from mpl_toolkits.axes_grid1 import make_axes_locatable\n",
    "import pandas as pd\n",
    "\n",
    "import matplotlib.ticker                         # here's where the formatter is\n",
    "\n",
    "\n",
    "plt.rcParams[\"figure.figsize\"] = (16,4)\n",
    "plt.rcParams[\"axes.labelsize\"] = 'xx-large'\n",
    "plt.rcParams['axes.titlesize'] = 'xx-large'\n",
    "plt.rcParams['xtick.labelsize']= 'xx-large'\n",
    "plt.rcParams['ytick.labelsize']= 'xx-large'"
   ]
  },
  {
   "cell_type": "code",
   "execution_count": null,
   "metadata": {},
   "outputs": [],
   "source": []
  },
  {
   "cell_type": "markdown",
   "metadata": {},
   "source": [
    "# constants\n",
    "\n",
    "- all transverse physical coordinates are in mm and relative to beam optical center (at CCD center)"
   ]
  },
  {
   "cell_type": "code",
   "execution_count": 5,
   "metadata": {},
   "outputs": [],
   "source": [
    "# conversion in good inits\n",
    "u_radtodeg=180.0/np.pi\n",
    "u_degtorad=np.pi/180.\n",
    "u_mtomm=1e3"
   ]
  },
  {
   "cell_type": "markdown",
   "metadata": {},
   "source": [
    "- all constants are refered as $c\\_$"
   ]
  },
  {
   "cell_type": "code",
   "execution_count": 6,
   "metadata": {},
   "outputs": [],
   "source": [
    "c_F=18.0*1.2*u_mtomm # Auxtel Focla length # ou 13.7m"
   ]
  },
  {
   "cell_type": "code",
   "execution_count": 7,
   "metadata": {},
   "outputs": [
    {
     "data": {
      "text/plain": [
       "21599.999999999996"
      ]
     },
     "execution_count": 7,
     "metadata": {},
     "output_type": "execute_result"
    }
   ],
   "source": [
    "c_F"
   ]
  },
  {
   "cell_type": "code",
   "execution_count": 8,
   "metadata": {},
   "outputs": [],
   "source": [
    "c_Z1=200. # mm, distance between hologram and source plane during holo recording\n",
    "c_Z0=178. # mm, distance between hologram and CCD plane for observations "
   ]
  },
  {
   "cell_type": "code",
   "execution_count": 9,
   "metadata": {},
   "outputs": [],
   "source": [
    "c_d1=20.0 # mm, disntance between the sources during recording "
   ]
  },
  {
   "cell_type": "code",
   "execution_count": 10,
   "metadata": {},
   "outputs": [],
   "source": [
    "c_x1_0=7  # mm , x-coordinates of the hologram optical center in the CCD ref frame\n",
    "c_y1_0=5 # mm , y-coordinate of the hologram optical center in the CCD ref frame"
   ]
  },
  {
   "cell_type": "code",
   "execution_count": 30,
   "metadata": {},
   "outputs": [],
   "source": [
    "c_beta0=10 #degree , angle of rotation of hologram source axis wrt CCD  "
   ]
  },
  {
   "cell_type": "markdown",
   "metadata": {},
   "source": [
    "# Functions\n",
    "\n",
    "- $(X,Y)$ : coordinates in CCD frame with telecope optical center as the origin\n",
    "- $(x,y)$ : coordinates in hologram frame with telecope optical center as the origin the same reference axis as the CCD\n",
    "- $(x_1,y_1)$ : coordinates in hologram reference frame, with telecope optical center as the origin, such the two sources A $(x_1(A),y_1(A))$ and B $(x_1(B),y_1(B))$ have coordinates:\n",
    "$$\n",
    "x_1(A)= x_1 (0)-d_1/2 \n",
    "$$\n",
    "$$\n",
    "y_1(A)= y_1(0)\n",
    "$$\n",
    "$$\n",
    "x_1(B)= x_1 (0)+d_1/2 \n",
    "$$\n",
    "$$\n",
    "y_1(B)= y_1(0)\n",
    "$$"
   ]
  },
  {
   "cell_type": "code",
   "execution_count": 12,
   "metadata": {},
   "outputs": [],
   "source": [
    "def XYtoxy(XY,Z):\n",
    "    \"\"\"\n",
    "    XYtoxy(XY,Z): convert coordinates in CCD plane (R) to the CCD plane projected at hologram plane.\n",
    "    The origin of the coordinates is always the optical center of the telescope.\n",
    "    \n",
    "    The coordinates undergo an homothetie.\n",
    "    \n",
    "    \n",
    "    \n",
    "    input parameters\n",
    "    - XY : numpy array of the 2-coordinates in CCD in mm\n",
    "    - Z : distance between hologram and CCD in mm (positive)\n",
    "    \n",
    "    output parameter \n",
    "    - xy : numpy array of the 2-coordinates in  in mm at hologram position\n",
    "    \"\"\"\n",
    "    XY=np.array(XY)\n",
    "    xy=(1-Z/c_F)*XY  #small contraction\n",
    "    \n",
    "    return xy  "
   ]
  },
  {
   "cell_type": "code",
   "execution_count": 13,
   "metadata": {},
   "outputs": [],
   "source": [
    "def xytoXY(xy,Z):\n",
    "    \"\"\"\n",
    "    xytoXY(xy,Z): convert coordinates in hologram plane to CCD plane.\n",
    "    The origin of the coordinates is always the optical center of the telescope.\n",
    "    \n",
    "    input parameters\n",
    "    - xy : numpy array of the 2-coordinates in  in mm\n",
    "    - Z : distance between hologram and CCD in mm (positive)\n",
    "    \n",
    "    output parameter \n",
    "    - XY : numpy array of the 2-coordinates in CCD in mm\n",
    "    \n",
    "    \"\"\"\n",
    "    xy=np.array(xy)\n",
    "    XY=1./(1-Z/c_F)*xy #small dilatation\n",
    "    \n",
    "    return XY  "
   ]
  },
  {
   "cell_type": "code",
   "execution_count": 14,
   "metadata": {},
   "outputs": [],
   "source": [
    "def xytox1y1(xy,beta,x0,y0):\n",
    "    \"\"\"\n",
    "    xytox1y1(xy,alpha): convert coordinates in hologram plane (same ref axis as CCD) with origin at O, the optical center\n",
    "    of the telescope the instrinsic hologram frame with origin Oh, the optical center of the hologram.\n",
    "    \n",
    "    Both system are rotated by an angle beta such the Oh-x1 axis is parallel to sources A,B)\n",
    "    \n",
    "    input parameters\n",
    "    - xy : numpy array of the 2-coordinates in hologram which ref axis are those of CCD and origin is O\n",
    "    - beta : angle in degree\n",
    "    \n",
    "    - (x0,y0) : coordinate of hologram geometrical Oh (projected at hologram plane)\n",
    "    \n",
    "    output parameter \n",
    "    - x1y1 : mm, numpy array of the 2-coordinates in the intrinsic hologram frame\n",
    "    \n",
    "    \"\"\"\n",
    "    \n",
    "    cos_beta=np.cos(beta*u_degtorad)\n",
    "    sin_beta=np.sin(beta*u_degtorad)\n",
    "    x=xy[0]-x0\n",
    "    y=xy[1]-y0   \n",
    "    x1y1=np.array([cos_beta*x+sin_beta*y,-sin_beta*x+cos_beta*y])\n",
    "    \n",
    " "
   ]
  },
  {
   "cell_type": "code",
   "execution_count": 15,
   "metadata": {},
   "outputs": [],
   "source": [
    "def xytox1y1_2D(x,y,beta,x0,y0):\n",
    "    \"\"\"\n",
    "    \n",
    "    2D version of function xytox1y1()\n",
    "    \n",
    "    convert coordinates in hologram plane (same ref axis as CCD) with origin at O, the optical center\n",
    "    of the telescope the instrinsic hologram frame with origin Oh, the optical center of the hologram.\n",
    "    \n",
    "    Both system are rotated by an angle beta such the Oh-x1 axis is parallel to sources A,B)\n",
    "     \n",
    "    \n",
    "    input parameters\n",
    "    - x,y : 2D-numpy array of the 2-coordinates in hologram plane which ref axis are those of CCD and origin is O\n",
    "    - alpha : angle in degree\n",
    "    \n",
    "    - (x0,y0) : coordinate of hologram geometrical Oh in CCD axis frame projected at hologram plane\n",
    "    Usually x0,y0 are 2D arrays representing \n",
    "    the various hypothesis on Oh position when computing a Chi2 \n",
    "    \n",
    "    output parameter \n",
    "    - x1,y1 : mm, 2D-numpy array of the 2-coordinates in the intrinsic hologram frame\n",
    "    \n",
    "    \"\"\"\n",
    "    \n",
    "    cos_beta=np.cos(beta*u_degtorad)\n",
    "    sin_beta=np.sin(beta*u_degtorad)\n",
    "    \n",
    "    x=x-x0\n",
    "    y=y-y0\n",
    "    \n",
    "    x1=cos_beta*x+sin_beta*y\n",
    "    y1=-sin_beta*x+cos_beta*y\n",
    "    \n",
    "    \n",
    "    \n",
    "    return x1,y1"
   ]
  },
  {
   "cell_type": "code",
   "execution_count": 16,
   "metadata": {},
   "outputs": [],
   "source": [
    "def x1y1toxy(x1y1,beta,x0,y0):\n",
    "    \"\"\"\n",
    "    x1y1toxy(x1y1,beta,x0,y0): convert coordinates in the intrinsic hologram frame R1h to the hologram frame Rh\n",
    "    with same axis as CCD , both frame being rotated by a relative angle beta\n",
    "    \n",
    "    input parameters\n",
    "    - x1y1 : mm, numpy array of the 2-coordinates in the intrinsic hologram frame  R1h\n",
    "    - beta : angle in degree\n",
    "    - (x0,y0) : coordinate of hologram geometrical Oh in CCD axis frame but projected at hologram plane\n",
    "    \n",
    "    output parameter \n",
    "     - xy : numpy array of the 2-coordinates in hologram which ref axis are those of CCD mm\n",
    "   \n",
    "    \n",
    "    \"\"\"\n",
    "    \n",
    "    cos_beta=np.cos(beta*u_degtorad)\n",
    "    sin_beta=np.sin(beta*u_degtorad)\n",
    "    \n",
    "    x1=x1y1[0]\n",
    "    y1=x1y1[1]\n",
    "    \n",
    "    # note the coordinate are shifted wrt Oh point coordinates in CCD \n",
    "    xy=np.array([cos_beta*x1-sin_beta*y1+x0,sin_beta*x1+cos_beta*y1+y0])\n",
    "    return xy"
   ]
  },
  {
   "cell_type": "code",
   "execution_count": 17,
   "metadata": {},
   "outputs": [],
   "source": [
    "def x1y1toxy_2D(x1,y1,beta,x0,y0):\n",
    "    \"\"\"\n",
    "    \n",
    "    2D version of x1y1toxy(x1y1,beta,x0,y0):\n",
    "    x1y1toxy_2D(x1,y1,alpha): convert coordinates in the intrinsic hologram frame  to the hologram frame \n",
    "    with same axis as CCD by an angle beta \n",
    "    \n",
    "    input parameters\n",
    "    - x1,y1 : mm, 2D numpy array of the 2-coordinates in the intrinsic hologram frame  \n",
    "    - alpha : angle in degree\n",
    "    - (x0,y0) : coordinate of hologram geometrical Oh in CCD axis frame but projected at hologram plane\n",
    "    \n",
    "    output parameter \n",
    "     - x,y : 2D numpy array of the 2-coordinates in hologram which ref axis are those of CCD mm\n",
    "   \n",
    "    \n",
    "    \"\"\"\n",
    "    \n",
    "    cos_beta=np.cos(beta*u_degtorad)\n",
    "    sin_beta=np.sin(beta*u_degtorad)\n",
    "    \n",
    "    \n",
    "    x=cos_beta*x1-sin_beta*y1+x0\n",
    "    y=sin_beta*x1+cos_beta*y1+y0\n",
    "    return x,y"
   ]
  },
  {
   "cell_type": "code",
   "execution_count": 18,
   "metadata": {},
   "outputs": [],
   "source": [
    "def dist1_to_source(xy,xy_s):\n",
    "    \"\"\"\n",
    "    dist1_to_source(xy,xy_s) : distance between a point M(x,y) to a source S(x_S,y_s) at hologram recording phase\n",
    "    \n",
    "    The alpha hologram rotation angle is not important provided both point M and source S have the same reference axis\n",
    "    \n",
    "     input parameters\n",
    "    - xy   : mm, 1D-numpy array of the 2-coordinates of point M in the  hologram frame  \n",
    "    - xy_s : mm, 1D-numpy array of the 2-coordinates of the source in the  hologram frame  \n",
    "    \n",
    "    \n",
    "    output parameter:\n",
    "    return the 3d distance \n",
    "    \n",
    "    \"\"\"\n",
    "    \n",
    "    return np.sqrt(c_Z1**2+ (xy[0]-xy_s[0])**2+ (xy[1]-xy_s[1])**2)"
   ]
  },
  {
   "cell_type": "code",
   "execution_count": 19,
   "metadata": {},
   "outputs": [],
   "source": [
    "def ddist1_to_source(x,y,x_s,y_s):\n",
    "    \"\"\"\n",
    "    ddist1_to_source(xy,xy_s) : distance between a point M(x,y) to a source S(x_S,y_s) at hologram recording phase\n",
    "    \n",
    "    more efficient than dist1_to_source(xy,xy_s) because x,y are 2D numpy arrays.\n",
    "    \n",
    "    The alpha hologram rotation angle is not important provided both point M and source S have the same reference axis\n",
    "    \n",
    "     input parameters\n",
    "    - x,y   : mm, 2D-numpy array of the 2-coordinates of point M in the  hologram frame  \n",
    "    - x,y_s : mm, scalar the 2-coordinates of the source in the  hologram frame  \n",
    "    \n",
    "    \n",
    "    output parameter:\n",
    "    return the distance in 3D in a 2D numpy array\n",
    "    \n",
    "    Note : Either (x,y) are 2 2D-numpy array and (x_s,y_s) are 2 scalars \n",
    "           Or  (x,y) are 2 scalars and (x_s,y_s) are 2 2D-numpy arrays\n",
    "    \n",
    "    \"\"\"\n",
    "    \n",
    "    return np.sqrt(c_Z1**2 + (x-x_s)**2+ (y-y_s)**2)"
   ]
  },
  {
   "cell_type": "code",
   "execution_count": 20,
   "metadata": {},
   "outputs": [],
   "source": [
    "def d_phi(x1y1):\n",
    "    \"\"\"  \n",
    "    d_phi(x1y1) : phase difference (distance difference at point(x1y1) )\n",
    "    \n",
    "    input parameters\n",
    "    - x1y1   : mm, numpy array of the 2-coordinates of point M in the  intrinsic hologram frame  \n",
    "         \n",
    "    output parameter:\n",
    "    return the angle d_alpha in degree\n",
    "    \n",
    "    \"\"\"\n",
    "    \n",
    "    \n",
    "    x1y1_A=np.array([-c_d1/2, 0]) # coordinate of source A\n",
    "    x1y1_B=np.array([+c_d1/2, 0]) # coordinate of source B\n",
    "    \n",
    "    d1_A=dist1_to_source(x1y1,x1y1_A)  # distance to source A\n",
    "    d1_B=dist1_to_source(x1y1,x1y1_B)  # distance to source B\n",
    "    \n",
    "    d_phi=d1_A-d1_B\n",
    "   \n",
    "    \n",
    "    return d_phi"
   ]
  },
  {
   "cell_type": "code",
   "execution_count": 21,
   "metadata": {},
   "outputs": [],
   "source": [
    "def dd_phi(x1,y1):\n",
    "    \"\"\"\n",
    "    dd_alpha(x1,y1) : angle d_alpha of hologram dispersion axis un hologram intrinsic reference frame\n",
    "    \n",
    "    more efficient than d_alpha(x1y1,x1y1_0) because x1,y1 are a 2D numpy array\n",
    "    \n",
    "    input parameters are 2D numpy array\n",
    "    - x1,y1   : mm, 2D numpy array of the 2-coordinates of point M in the  intrinsic hologram frame  \n",
    "     \n",
    "    \n",
    "    output parameter:\n",
    "    return the angle d_alpha in degree in a 2D numpy array\n",
    "    \n",
    "    \n",
    "    Notes :\n",
    "     - Either (x1,y1) may be 2 2D-numpy arrays and x1_0,y1_0 two scalars : to get the d_alpha(x1,y1)\n",
    "     - Or fix (x1,y1) as two scalars where the angle is measured and (x1_0,y1_0) are 2 2D numpy arrays\n",
    "     for scanning in chi2 function the best position for parameters (x1_0,y1_0) \n",
    "    \n",
    "    \"\"\"\n",
    "    \n",
    "    \n",
    "    x1_A=-c_d1/2 # coordinate of source A\n",
    "    y1_A=0.        # coordinate of source A\n",
    "    \n",
    "    x1_B=c_d1/2 # coordinate of source B\n",
    "    y1_B=0        # coordinate of source B\n",
    "    \n",
    "    dd1_A=ddist1_to_source(x1,y1,x1_A,y1_A)  # distance to source A in a 2D numpy array\n",
    "    dd1_B=ddist1_to_source(x1,y1,x1_B,y1_B)  # distance to source B\n",
    "    \n",
    "    \n",
    "    dd_phi=dd1_A-dd1_B\n",
    "    \n",
    "    return dd_phi # in a 2D numpy array"
   ]
  },
  {
   "cell_type": "code",
   "execution_count": 22,
   "metadata": {},
   "outputs": [],
   "source": [
    "def d_alpha(x1y1):\n",
    "    \"\"\"\n",
    "    d_alpha(x1y1) : angle d_alpha of hologram dispersion axis un hologram intrinsic reference frame\n",
    "    \n",
    "    \n",
    "    input parameters\n",
    "    - x1y1   : mm, numpy array of the 2-coordinates of point M in the  intrinsic hologram frame  \n",
    "    \n",
    "     \n",
    "    output parameter:\n",
    "    return the angle d_alpha in degree\n",
    "    \n",
    "    \"\"\"\n",
    "    \n",
    "    \n",
    "    x1y1_A=np.array([-c_d1/2, 0]) # coordinate of source A\n",
    "    x1y1_B=np.array([+c_d1/2, 0]) # coordinate of source B\n",
    "    \n",
    "    d1_A=dist1_to_source(x1y1,x1y1_A)  # distance to source A\n",
    "    d1_B=dist1_to_source(x1y1,x1y1_B)  # distance to source B\n",
    "    \n",
    "    \n",
    "    num_tan_dalpha= d1_B*(x1y1[1]-x1y1_A[1])-d1_A*(x1y1[1]-x1y1_B[1])\n",
    "    den_tan_dalpha= d1_B*(x1y1[0]-x1y1_A[0])-d1_A*(x1y1[0]-x1y1_B[0])\n",
    "    \n",
    "    #tan_dalpha=- num_tan_dalpha/den_tan_dalpha\n",
    "    tan_dalpha= num_tan_dalpha/den_tan_dalpha\n",
    "    \n",
    "    d_alpha=u_radtodeg*np.arctan(tan_dalpha)\n",
    "    \n",
    "    return d_alpha"
   ]
  },
  {
   "cell_type": "code",
   "execution_count": 23,
   "metadata": {},
   "outputs": [],
   "source": [
    "def dd_alpha(x1,y1):\n",
    "    \"\"\"\n",
    "    dd_alpha(x1,y1) : angle d_alpha of hologram dispersion axis un hologram intrinsic reference frame\n",
    "    \n",
    "    more efficient than d_alpha(x1y1,x1y1_0) because x1,y1 are a 2D numpy array\n",
    "    \n",
    "    input parameters are 2D numpy array\n",
    "    - x1,y1   : mm, 2D numpy array of the 2-coordinates of point M in the  intrinsic hologram frame  \n",
    "     \n",
    "    \n",
    "    output parameter:\n",
    "    return the angle d_alpha in degree in a 2D numpy array\n",
    "    \n",
    "    \n",
    "    Notes :\n",
    "     - Either (x1,y1) may be 2 2D-numpy arrays and x1_0,y1_0 two scalars : to get the d_alpha(x1,y1)\n",
    "     - Or fix (x1,y1) as two scalars where the angle is measured and (x1_0,y1_0) are 2 2D numpy arrays\n",
    "     for scanning in chi2 function the best position for parameters (x1_0,y1_0) \n",
    "    \n",
    "    \"\"\"\n",
    "    \n",
    "    \n",
    "    x1_A=-c_d1/2 # coordinate of source A\n",
    "    y1_A=0.        # coordinate of source A\n",
    "    \n",
    "    x1_B=c_d1/2 # coordinate of source B\n",
    "    y1_B=0        # coordinate of source B\n",
    "    \n",
    "    dd1_A=ddist1_to_source(x1,y1,x1_A,y1_A)  # distance to source A in a 2D numpy array\n",
    "    dd1_B=ddist1_to_source(x1,y1,x1_B,y1_B)  # distance to source B\n",
    "    \n",
    "    \n",
    "    num_tan_dalpha= dd1_B*(y1-y1_A)-dd1_A*(y1-y1_B)\n",
    "    den_tan_dalpha= dd1_B*(x1-x1_A)-dd1_A*(x1-x1_B)\n",
    "    \n",
    "    #tan_dalpha=- num_tan_dalpha/den_tan_dalpha\n",
    "    tan_dalpha= num_tan_dalpha/den_tan_dalpha   \n",
    "    #d_alpha=u_radtodeg*np.arctan(tan_dalpha)\n",
    "    \n",
    "    d_alpha=u_radtodeg*np.arctan2(num_tan_dalpha,den_tan_dalpha)\n",
    "    \n",
    "    return d_alpha # in a 2D numpy array"
   ]
  },
  {
   "cell_type": "markdown",
   "metadata": {},
   "source": [
    "# Check formula"
   ]
  },
  {
   "cell_type": "code",
   "execution_count": 24,
   "metadata": {},
   "outputs": [],
   "source": [
    "XMIN=-40\n",
    "XMAX=40\n",
    "YMIN=-40\n",
    "YMAX=40\n",
    "NPIX=1000"
   ]
  },
  {
   "cell_type": "code",
   "execution_count": 25,
   "metadata": {},
   "outputs": [],
   "source": [
    "X = np.linspace(XMIN, XMAX, NPIX)\n",
    "Y = np.linspace(YMIN, YMAX, NPIX)\n",
    "XX, YY = np.meshgrid(X, Y, sparse=False)"
   ]
  },
  {
   "cell_type": "markdown",
   "metadata": {},
   "source": [
    "### Constant relative phase or 3D- distance to sources "
   ]
  },
  {
   "cell_type": "code",
   "execution_count": 26,
   "metadata": {},
   "outputs": [],
   "source": [
    "Z_Phi_holo=dd_phi(XX,YY)"
   ]
  },
  {
   "cell_type": "code",
   "execution_count": 27,
   "metadata": {},
   "outputs": [],
   "source": [
    "X_ccd = np.linspace(XMIN, XMAX, NPIX)\n",
    "Y_ccd = np.linspace(YMIN, YMAX, NPIX)\n",
    "XX_ccd, YY_ccd = np.meshgrid(X_ccd, Y_ccd, sparse=False)\n",
    "\n",
    "# homothetie toward hologram plane\n",
    "zoom=1.\n",
    "xx_holo=XYtoxy(XX_ccd,c_Z0*zoom) \n",
    "yy_holo=XYtoxy(YY_ccd,c_Z0*zoom) \n",
    "\n",
    "# rotation from CCD orientation toward hologram \n",
    "(xx1_holo,yy1_holo)=xytox1y1_2D(xx_holo,yy_holo,c_beta0,c_x1_0,c_y1_0)\n",
    "Z_Phi_ccd=dd_phi(xx1_holo,yy1_holo) # compute dispersion angle inside hologram frame"
   ]
  },
  {
   "cell_type": "code",
   "execution_count": 28,
   "metadata": {},
   "outputs": [
    {
     "data": {
      "image/png": "[encoded data removed]",
      "text/plain": [
       "<Figure size 1296x576 with 4 Axes>"
      ]
     },
     "metadata": {
      "needs_background": "light"
     },
     "output_type": "display_data"
    }
   ],
   "source": [
    "fig = plt.figure(figsize=(18,8))\n",
    "\n",
    "\n",
    "# relative phase in hologram frame\n",
    "ax1 = fig.add_subplot(121)\n",
    "\n",
    "divider = make_axes_locatable(ax1)\n",
    "cax1 = divider.append_axes('right', size='5%', pad=0.05)\n",
    "\n",
    "\n",
    "im1=ax1.imshow(Z_Phi_holo,origin=\"lower\",cmap=\"seismic\",extent=(XMIN,XMAX,YMIN,YMAX))\n",
    "h1 = ax1.contour(X,Y,Z_Phi_holo,levels=50,colors='k')\n",
    "cbar1=fig.colorbar(im1,cax=cax1)\n",
    "\n",
    "cbar1.ax.get_yaxis().labelpad = 10\n",
    "cbar1.ax.set_ylabel('$\\\\theta$ (degree)', rotation=90)\n",
    "\n",
    "xy1_A=np.array([-c_d1/2,0])\n",
    "xy1_B=np.array([c_d1/2,0])\n",
    "\n",
    "ax1.scatter(xy1_A[0],xy1_A[1],marker=\"o\",color=\"k\",s=50)\n",
    "ax1.scatter(xy1_B[0],xy1_B[1],marker=\"o\",color=\"k\",s=50)\n",
    "\n",
    "ax1.set_xlabel(\"X (mm)\")\n",
    "ax1.set_ylabel(\"Y (mm)\")\n",
    "ax1.set_title(\"phase difference in holo frame\",fontweight=\"bold\",fontsize=25)\n",
    "\n",
    "\n",
    "# relative phase difference in CCD frame when hologram is rotated by an angle beta\n",
    "ax2 = fig.add_subplot(122)\n",
    "\n",
    "divider = make_axes_locatable(ax2)\n",
    "cax2 = divider.append_axes('right', size='5%', pad=0.05)\n",
    "maxPhi=np.max(np.abs(Z_Phi_ccd))\n",
    "\n",
    "im2=ax2.imshow(Z_Phi_ccd,origin=\"lower\",cmap=\"seismic\",extent=(XMIN,XMAX,YMIN,YMAX),vmin=-maxPhi,vmax=maxPhi)\n",
    "h2 = ax2.contour(X_ccd,Y_ccd,Z_Phi_ccd,levels=50,colors='k')\n",
    "cbar2=fig.colorbar(im2,cax=cax2)\n",
    "\n",
    "cbar2.ax.get_yaxis().labelpad = 10\n",
    "cbar2.ax.set_ylabel('$\\\\theta$ (degree)', rotation=90)\n",
    "\n",
    "\n",
    "\n",
    "xy_A = x1y1toxy(xy1_A,c_alpha0,c_x1_0,c_y1_0)\n",
    "xy_B = x1y1toxy(xy1_B,c_alpha0,c_x1_0,c_y1_0)\n",
    "\n",
    "\n",
    "XY_A = xytoXY(xy_A,c_Z1*zoom)\n",
    "XY_B = xytoXY(xy_B,c_Z1*zoom)\n",
    "\n",
    "ax2.scatter(XY_A[0],XY_A[1],marker=\"o\",color=\"k\",s=50)\n",
    "ax2.scatter(XY_B[0],XY_B[1],marker=\"o\",color=\"k\",s=50)\n",
    "\n",
    "\n",
    "ax2.set_xlabel(\"X (mm)\")\n",
    "ax2.set_ylabel(\"Y (mm)\")\n",
    "ax2.set_title(\"phase difference in CCD frame\",fontweight=\"bold\",fontsize=25)\n",
    "\n",
    "plt.suptitle(\"Simulation of phase shift\")\n",
    "plt.tight_layout()"
   ]
  },
  {
   "cell_type": "markdown",
   "metadata": {},
   "source": [
    "### dispersion angle Alpha"
   ]
  },
  {
   "cell_type": "code",
   "execution_count": null,
   "metadata": {},
   "outputs": [],
   "source": [
    "Z_Ang_holo=dd_alpha(XX,YY)"
   ]
  },
  {
   "cell_type": "code",
   "execution_count": null,
   "metadata": {},
   "outputs": [],
   "source": [
    "X_ccd = np.linspace(XMIN, XMAX, NPIX)\n",
    "Y_ccd = np.linspace(YMIN, YMAX, NPIX)\n",
    "XX_ccd, YY_ccd = np.meshgrid(X_ccd, Y_ccd, sparse=False)\n",
    "\n",
    "# homothecy\n",
    "zoom=1.5\n",
    "xx_holo=XYtoxy(XX_ccd,c_Z1*zoom) \n",
    "yy_holo=XYtoxy(YY_ccd,c_Z1*zoom) \n",
    "\n",
    "# rotation\n",
    "(xx1_holo,yy1_holo)=xytox1y1_2D(xx_holo,yy_holo,c_alpha0,c_x1_0,c_y1_0)\n",
    "Z_Ang_ccd=dd_alpha(xx1_holo,yy1_holo)"
   ]
  },
  {
   "cell_type": "code",
   "execution_count": null,
   "metadata": {},
   "outputs": [],
   "source": [
    "fig = plt.figure(figsize=(18,8))\n",
    "ax1 = fig.add_subplot(121)\n",
    "\n",
    "divider = make_axes_locatable(ax1)\n",
    "cax1 = divider.append_axes('right', size='5%', pad=0.05)\n",
    "\n",
    "\n",
    "im1=ax1.imshow(Z_Ang_holo,origin=\"lower\",cmap=\"seismic\",extent=(XMIN,XMAX,YMIN,YMAX))\n",
    "h1 = ax1.contour(X,Y,Z_Ang_holo,levels=50,colors='k')\n",
    "cbar1=fig.colorbar(im1,cax=cax1)\n",
    "\n",
    "cbar1.ax.get_yaxis().labelpad = 10\n",
    "cbar1.ax.set_ylabel('$\\\\theta$ (degree)', rotation=90)\n",
    "\n",
    "xy1_A=np.array([-c_d1/2,0])\n",
    "xy1_B=np.array([c_d1/2,0])\n",
    "\n",
    "ax1.scatter(xy1_A[0],xy1_A[1],marker=\"o\",color=\"k\",s=50)\n",
    "ax1.scatter(xy1_B[0],xy1_B[1],marker=\"o\",color=\"k\",s=50)\n",
    "\n",
    "ax1.set_xlabel(\"X (mm)\")\n",
    "ax1.set_ylabel(\"Y (mm)\")\n",
    "ax1.set_title(\"disp axis Angle in holo frame\",fontweight=\"bold\",fontsize=25)\n",
    "\n",
    "\n",
    "ax2 = fig.add_subplot(122)\n",
    "\n",
    "divider = make_axes_locatable(ax2)\n",
    "cax2 = divider.append_axes('right', size='5%', pad=0.05)\n",
    "\n",
    "maxAng=np.max(np.abs(Z_Ang_ccd))\n",
    "im2=ax2.imshow(Z_Ang_ccd,origin=\"lower\",cmap=\"seismic\",extent=(XMIN,XMAX,YMIN,YMAX),vmin=-maxAng,vmax=maxAng)\n",
    "h2 = ax2.contour(X_ccd,Y_ccd,Z_Ang_ccd,levels=50,colors='k')\n",
    "cbar2=fig.colorbar(im2,cax=cax2)\n",
    "\n",
    "cbar2.ax.get_yaxis().labelpad = 10\n",
    "cbar2.ax.set_ylabel('$\\\\theta$ (degree)', rotation=90)\n",
    "\n",
    "\n",
    "\n",
    "xy_A = x1y1toxy(xy1_A,c_alpha0,c_x1_0,c_y1_0)\n",
    "xy_B = x1y1toxy(xy1_B,c_alpha0,c_x1_0,c_y1_0)\n",
    "\n",
    "\n",
    "XY_A = xytoXY(xy_A,c_Z1*zoom)\n",
    "XY_B = xytoXY(xy_B,c_Z1*zoom)\n",
    "\n",
    "ax2.scatter(XY_A[0],XY_A[1],marker=\"o\",color=\"k\",s=50)\n",
    "ax2.scatter(XY_B[0],XY_B[1],marker=\"o\",color=\"k\",s=50)\n",
    "\n",
    "\n",
    "ax2.set_xlabel(\"X (mm)\")\n",
    "ax2.set_ylabel(\"Y (mm)\")\n",
    "ax2.set_title(\"disp axis Angle in CCD frame\",fontweight=\"bold\",fontsize=25)\n",
    "\n",
    "\n",
    "plt.tight_layout()"
   ]
  },
  {
   "cell_type": "markdown",
   "metadata": {},
   "source": [
    "# Estimation of hologram parameters"
   ]
  },
  {
   "cell_type": "markdown",
   "metadata": {},
   "source": [
    "## Random points"
   ]
  },
  {
   "cell_type": "code",
   "execution_count": null,
   "metadata": {},
   "outputs": [],
   "source": [
    "NumberofPoints=50\n",
    "Nxsim=np.random.randint(NPIX, size=(NumberofPoints))\n",
    "Nysim=np.random.randint(NPIX, size=(NumberofPoints))\n",
    "Xsim=X_ccd[Nxsim]\n",
    "Ysim=Y_ccd[Nysim]"
   ]
  },
  {
   "cell_type": "markdown",
   "metadata": {},
   "source": [
    "## Simulated Measurement"
   ]
  },
  {
   "cell_type": "code",
   "execution_count": null,
   "metadata": {},
   "outputs": [],
   "source": [
    "sigma_alpha=0.01 # measurement error on angle in degree"
   ]
  },
  {
   "cell_type": "code",
   "execution_count": null,
   "metadata": {},
   "outputs": [],
   "source": [
    "# group the data points\n",
    "XYsim=np.array(list(zip(Xsim,Ysim)))"
   ]
  },
  {
   "cell_type": "code",
   "execution_count": null,
   "metadata": {},
   "outputs": [],
   "source": [
    "# convert coordinates in hologram frame (same orientation as CCD)\n",
    "xysim=XYtoxy(XYsim,c_Z1*zoom)"
   ]
  },
  {
   "cell_type": "code",
   "execution_count": null,
   "metadata": {},
   "outputs": [],
   "source": [
    "# apply true rotation to have coordinates in intrisic hologram frame\n",
    "x1y1sim=np.zeros(xysim.shape)\n",
    "for idx in np.arange(NumberofPoints):\n",
    "    x1y1sim[idx,:]=xytox1y1(xysim[idx],c_alpha0,c_x1_0,c_y1_0)"
   ]
  },
  {
   "cell_type": "code",
   "execution_count": null,
   "metadata": {},
   "outputs": [],
   "source": [
    "# calculate d_alpha for the data (in intrinsic hologram ref frame) in degree\n",
    "d_alpha=dd_alpha(x1y1sim[:,0],x1y1sim[:,1])"
   ]
  },
  {
   "cell_type": "code",
   "execution_count": null,
   "metadata": {},
   "outputs": [],
   "source": [
    "# simulate measurement of angle in CCD frame\n",
    "Zsim=c_alpha0+d_alpha+np.random.normal(loc=0,scale=sigma_alpha)"
   ]
  },
  {
   "cell_type": "code",
   "execution_count": null,
   "metadata": {},
   "outputs": [],
   "source": [
    "Zerrsim=np.full(NumberofPoints,sigma_alpha)"
   ]
  },
  {
   "cell_type": "markdown",
   "metadata": {},
   "source": [
    "## Plot simulated points"
   ]
  },
  {
   "cell_type": "code",
   "execution_count": null,
   "metadata": {},
   "outputs": [],
   "source": [
    "fig = plt.figure(figsize=(8,8))\n",
    "\n",
    "ax2 = fig.add_subplot(111)\n",
    "\n",
    "divider = make_axes_locatable(ax2)\n",
    "cax2 = divider.append_axes('right', size='5%', pad=0.05)\n",
    "\n",
    "maxAng=np.max(np.abs(Z_Ang_ccd))\n",
    "im2=ax2.imshow(Z_Ang_ccd,origin=\"lower\",cmap=\"seismic\",extent=(XMIN,XMAX,YMIN,YMAX),vmin=-maxAng,vmax=maxAng)\n",
    "h2 = ax2.contour(X_ccd,Y_ccd,Z_Ang_ccd,levels=100,colors='k')\n",
    "cbar2=fig.colorbar(im2,cax=cax2)\n",
    "\n",
    "cbar2.ax.get_yaxis().labelpad = 10\n",
    "cbar2.ax.set_ylabel('$\\\\theta$ (degree)', rotation=90)\n",
    "\n",
    "xy1_A=np.array([-c_d1/2,0])\n",
    "xy1_B=np.array([c_d1/2,0])\n",
    "\n",
    "xy_A = x1y1toxy(xy1_A,c_alpha0,c_x1_0,c_y1_0)\n",
    "xy_B = x1y1toxy(xy1_B,c_alpha0,c_x1_0,c_y1_0)\n",
    "\n",
    "XY_A = xytoXY(xy_A,c_Z1*zoom)\n",
    "XY_B = xytoXY(xy_B,c_Z1*zoom)\n",
    "\n",
    "ax2.scatter(XY_A[0],XY_A[1],marker=\"o\",color=\"g\",s=100)\n",
    "ax2.scatter(XY_B[0],XY_B[1],marker=\"o\",color=\"g\",s=100)\n",
    "\n",
    "ax2.scatter(X[Nxsim],Y[Nysim],marker=\"o\",color=\"k\")\n",
    "\n",
    "ax2.set_xlabel(\"X (mm)\")\n",
    "ax2.set_ylabel(\"Y (mm)\")\n",
    "ax2.set_title(\"Simulation in CCD frame\",fontweight=\"bold\",fontsize=25)\n",
    "\n"
   ]
  },
  {
   "cell_type": "markdown",
   "metadata": {},
   "source": [
    "# Chi2 function"
   ]
  },
  {
   "cell_type": "code",
   "execution_count": null,
   "metadata": {},
   "outputs": [],
   "source": [
    "def chi2func(Xdata,Ydata,Zdata,Zerrdata,X0,Y0,alpha,Z,Npar=2):\n",
    "    \"\"\"\n",
    "    Total Chi2, do not divide by the number of data points \n",
    "    \n",
    "    - input parameters\n",
    "      - Xdata,Ydata,Zdata :three 1D-numpy array: Xdata,Ydata coordinates of order zero, Zdata angle measured\n",
    "      - X0,Y0 2 2D numpy arrays of unknown parameters to fit (optical center of hologram in CCD frame)\n",
    "      - alpha,Z other parameters\n",
    "      - sig : experimental error on angle\n",
    "      - Npar : number of parameter to use in degrees of freedom\n",
    "      \n",
    "    - ouput\n",
    "     - 2D numpy array of chi2 representing the chi2\n",
    "     \n",
    "    \"\"\"\n",
    "    \n",
    "   \n",
    "    N=len(Xdata)\n",
    "    chi2=0\n",
    " \n",
    "    # loop on data\n",
    "    for idx in np.arange(N):\n",
    "        \n",
    "        X=Xdata[idx] # scalar\n",
    "        Y=Ydata[idx]\n",
    "        \n",
    "        XY=np.array([X,Y])\n",
    "        \n",
    "        # homothecie according the Z assumption\n",
    "        xy=XYtoxy(XY,Z)\n",
    "    \n",
    "        # rotation according the alpha assumption\n",
    "        x1y1=xytox1y1(xy,alpha,X0,Y0)\n",
    "        \n",
    "        d_alpha=dd_alpha(x1y1[0],x1y1[1])\n",
    "        \n",
    "        # angle in the model in CCD frame\n",
    "        angle_mod=alpha+d_alpha\n",
    "        \n",
    "        #angle measured in CCD frame\n",
    "        angle_mes=Zdata[idx]\n",
    "    \n",
    "        sig=Zerrdata[idx]\n",
    "    \n",
    "        if sig!=0:\n",
    "            chi2+=(angle_mod-angle_mes)**2/sig**2\n",
    "        \n",
    "        \n",
    "    return chi2 "
   ]
  },
  {
   "cell_type": "markdown",
   "metadata": {},
   "source": [
    "# Quantiles"
   ]
  },
  {
   "cell_type": "code",
   "execution_count": null,
   "metadata": {},
   "outputs": [],
   "source": [
    "from scipy.stats import chi2"
   ]
  },
  {
   "cell_type": "code",
   "execution_count": null,
   "metadata": {},
   "outputs": [],
   "source": [
    "CL=np.array([0.683,0.9,0.95,0.99])\n",
    "Qcolors=[\"r\",\"m\",\"orange\",\"yellow\"]"
   ]
  },
  {
   "cell_type": "code",
   "execution_count": null,
   "metadata": {},
   "outputs": [],
   "source": [
    "NDF=2"
   ]
  },
  {
   "cell_type": "code",
   "execution_count": null,
   "metadata": {},
   "outputs": [],
   "source": [
    "Q=chi2.ppf(CL,df=NDF)"
   ]
  },
  {
   "cell_type": "code",
   "execution_count": null,
   "metadata": {},
   "outputs": [],
   "source": [
    "Q"
   ]
  },
  {
   "cell_type": "code",
   "execution_count": null,
   "metadata": {},
   "outputs": [],
   "source": [
    "fig = plt.figure(figsize=(8,5))\n",
    "ax=fig.add_subplot(111)\n",
    "ax.hist(Zsim,bins=50,facecolor=\"b\");\n",
    "ax.set_xlabel(\"$\\\\alpha$ (deg)\")\n",
    "ax.set_title(\"distrib of holo angle\")"
   ]
  },
  {
   "cell_type": "markdown",
   "metadata": {},
   "source": [
    "## Calculation of chi2"
   ]
  },
  {
   "cell_type": "code",
   "execution_count": null,
   "metadata": {},
   "outputs": [],
   "source": [
    "#def chi2(Xdata,Ydata,Zdata,X0,Y0,alpha,Z,sig,Npar=2)\n",
    "#def chi2(Xdata,Ydata,Zdata,X0,Y0,alpha,Z,sig,Npar)\n",
    "the_chi2=chi2func(Xsim,Ysim,Zsim,Zerrsim,XX_ccd,YY_ccd,c_alpha0,c_Z1*zoom,Npar=2)"
   ]
  },
  {
   "cell_type": "markdown",
   "metadata": {},
   "source": [
    "## Plot"
   ]
  },
  {
   "cell_type": "code",
   "execution_count": null,
   "metadata": {},
   "outputs": [],
   "source": [
    "import matplotlib.ticker                         # here's where the formatter is\n",
    "cbformat = matplotlib.ticker.ScalarFormatter()   # create the formatter\n",
    "cbformat.set_powerlimits((-1,1)) "
   ]
  },
  {
   "cell_type": "code",
   "execution_count": null,
   "metadata": {},
   "outputs": [],
   "source": [
    "fig = plt.figure(figsize=(20,10))\n",
    "\n",
    "\n",
    "ax1 = fig.add_subplot(121)\n",
    "divider = make_axes_locatable(ax1)\n",
    "cax1 = divider.append_axes('right', size='5%', pad=0.05)\n",
    "\n",
    "the_chi2min=the_chi2.min()\n",
    "the_levels= the_chi2min + Q\n",
    "\n",
    "im1=ax1.imshow(the_chi2,origin=\"lower\",cmap=\"jet\",extent=(XMIN,XMAX,YMIN,YMAX))\n",
    "h1 = ax1.contour(X_ccd,Y_ccd,the_chi2,levels=100,colors='w')\n",
    "#h1b = ax1.contour(X_ccd,Y_ccd,the_chi2,levels=[2.30+the_chi2.min()],colors='r',linewidths=2)\n",
    "h1b = ax1.contour(X_ccd,Y_ccd,the_chi2,levels=the_levels,colors=Qcolors,linewidths=2)\n",
    "cbar1=fig.colorbar(im1,cax=cax1,format=cbformat)\n",
    "cbar1.ax.get_yaxis().labelpad = 10\n",
    "cbar1.ax.set_ylabel('$\\\\chi^2$', rotation=90)\n",
    "ax1.set_xlabel(\"X (mm)\")\n",
    "ax1.set_ylabel(\"Y (mm)\")\n",
    "ax1.set_title(\"chi2\",fontweight=\"bold\",fontsize=25)\n",
    "ax1.grid(color=\"w\")\n",
    "\n",
    "\n",
    "\n",
    "idx_y_chi2min,idx_x_chi2min=np.where(the_chi2==the_chi2min)\n",
    "\n",
    "x_chi2min=X_ccd[idx_x_chi2min][0]\n",
    "y_chi2min=Y_ccd[idx_y_chi2min][0]\n",
    "\n",
    "ax2 = fig.add_subplot(122)\n",
    "xmin=x_chi2min-5\n",
    "xmax=x_chi2min+5\n",
    "ymin=y_chi2min-5\n",
    "ymax=y_chi2min+5\n",
    "\n",
    "ibinx=np.where(np.logical_and(X_ccd>=xmin,X_ccd<=xmax))[0]\n",
    "ibiny=np.where(np.logical_and(Y_ccd>=ymin,X_ccd<=ymax))[0]\n",
    "chi2_cut=the_chi2[ibiny.min():ibiny.max(), ibinx.min():ibinx.max()]\n",
    "X_cut=X[ibinx.min():ibinx.max()]\n",
    "Y_cut=X[ibiny.min():ibiny.max()]\n",
    "\n",
    "\n",
    "divider = make_axes_locatable(ax2)\n",
    "cax2 = divider.append_axes('right', size='5%', pad=0.05)\n",
    "im2=ax2.imshow(chi2_cut,origin=\"lower\",cmap=\"jet\",extent=(xmin,xmax,ymin,ymax))\n",
    "h2 = ax2.contour(X_cut,Y_cut,chi2_cut,levels=100,colors='w')\n",
    "#h2b = ax2.contour(X_cut,Y_cut,chi2_cut,levels=[2.30+chi2_cut.min()],colors='r',linewidths=2)\n",
    "h2b = ax2.contour(X_cut,Y_cut,chi2_cut,levels=the_levels,colors=Qcolors,linewidths=2)\n",
    "cbar2=fig.colorbar(im2,cax=cax2,format=cbformat)\n",
    "cbar2.ax.get_yaxis().labelpad = 10\n",
    "cbar2.ax.set_ylabel('$\\\\chi^2$', rotation=90)\n",
    "#cbformat = matplotlib.ticker.ScalarFormatter()   # create the formatter\n",
    "#cbformat.set_powerlimits((-2,4))   \n",
    "ax2.set_xlabel(\"X (mm)\")\n",
    "ax2.set_ylabel(\"Y (mm)\")\n",
    "ax2.set_title(\"chi2 cut\",fontweight=\"bold\",fontsize=25)\n",
    "ax2.grid(color=\"w\")\n",
    "\n",
    "plt.tight_layout()\n",
    "plt.show()"
   ]
  },
  {
   "cell_type": "markdown",
   "metadata": {},
   "source": [
    "# Parameter Grid"
   ]
  },
  {
   "cell_type": "code",
   "execution_count": null,
   "metadata": {},
   "outputs": [],
   "source": [
    "plt.rcParams[\"axes.labelsize\"] = 'large'\n",
    "plt.rcParams['axes.titlesize'] = 'large'\n",
    "plt.rcParams['xtick.labelsize']= 'large'\n",
    "plt.rcParams['ytick.labelsize']= 'large'"
   ]
  },
  {
   "cell_type": "code",
   "execution_count": null,
   "metadata": {},
   "outputs": [],
   "source": [
    "Ncol=4\n",
    "Nrow=4\n",
    "Nalpha=Nrow*Ncol\n",
    "alpha_range=5\n",
    "alpha_min=c_alpha0-alpha_range\n",
    "alpha_max=c_alpha0+alpha_range\n",
    "alpha_step=(alpha_max-alpha_min)/Nalpha\n",
    "alpha_values=np.linspace(alpha_min,alpha_max,Nalpha)"
   ]
  },
  {
   "cell_type": "code",
   "execution_count": null,
   "metadata": {},
   "outputs": [],
   "source": [
    "fig = plt.figure(figsize=(16,16))\n",
    "the_chi2min=np.zeros(Nalpha)\n",
    "the_locchi2min = []\n",
    "# loop on angle\n",
    "for idx in np.arange(Nalpha):\n",
    "    ax1=fig.add_subplot(Nrow,Ncol,idx+1)\n",
    "    the_chi2=chi2func(Xsim,Ysim,Zsim,Zerrsim,XX_ccd,YY_ccd,alpha_values[idx],c_Z1*zoom,Npar=2)\n",
    "    the_chi2min[idx]=the_chi2.min()  # value of chi2min\n",
    "    the_levels= the_chi2min[idx] + Q\n",
    "    the_locchi2min.append(np.where(the_chi2==the_chi2.min())) # location of chi2min \n",
    "    \n",
    "    divider = make_axes_locatable(ax1)\n",
    "    cax1 = divider.append_axes('right', size='5%', pad=0.05)\n",
    "    \n",
    "    \n",
    "    im1=ax1.imshow(the_chi2,origin=\"lower\",cmap=\"jet\",extent=(XMIN,XMAX,YMIN,YMAX))\n",
    "    h1 = ax1.contour(X_ccd,Y_ccd,the_chi2,levels=100,colors='w')\n",
    "    #h1b = ax1.contour(X_ccd,Y_ccd,the_chi2,levels=[2.30+the_chi2.min()],colors='r',linewidths=2)\n",
    "    h1b = ax1.contour(X_ccd,Y_ccd,the_chi2,levels=the_levels,colors=Qcolors,linewidths=2)\n",
    "    cbar1=fig.colorbar(im1,cax=cax1,format=cbformat)\n",
    "    cbar1.ax.get_yaxis().labelpad = 10\n",
    "    cbar1.ax.set_ylabel('$\\\\chi^2$', rotation=90)\n",
    "    ax1.set_xlabel(\"X (mm)\")\n",
    "    ax1.set_ylabel(\"Y (mm)\")\n",
    "    title=\"$\\\\alpha$ = {:3.2f}\".format(alpha_values[idx])\n",
    "    ax1.set_title(title,fontweight=\"bold\")\n",
    "    ax1.grid(color=\"w\")\n",
    "    \n",
    "plt.suptitle(\"Simulation : hologram parameter search\",y=1)\n",
    "#plt.tight_layout()\n"
   ]
  },
  {
   "cell_type": "code",
   "execution_count": null,
   "metadata": {},
   "outputs": [],
   "source": [
    "plt.rcParams[\"axes.labelsize\"] = 'xx-large'\n",
    "plt.rcParams['axes.titlesize'] = 'xx-large'\n",
    "plt.rcParams['xtick.labelsize']= 'xx-large'\n",
    "plt.rcParams['ytick.labelsize']= 'xx-large'"
   ]
  },
  {
   "cell_type": "code",
   "execution_count": null,
   "metadata": {},
   "outputs": [],
   "source": [
    "the_chi2min = the_chi2min/NumberofPoints"
   ]
  },
  {
   "cell_type": "code",
   "execution_count": null,
   "metadata": {},
   "outputs": [],
   "source": [
    "fig = plt.figure(figsize=(10,5))\n",
    "ax=fig.add_subplot(111)\n",
    "ax.plot(alpha_values,the_chi2min,'bo-')\n",
    "ax.set_xlabel(\"$\\\\alpha$ (deg)\")\n",
    "ax.set_ylabel(\"$\\\\chi^2(\\\\alpha)/NDF$\")\n",
    "ax.set_title(\"$simulation : \\chi^2$ per degree of freedom vs holo angle $\\\\alpha$\")"
   ]
  },
  {
   "cell_type": "markdown",
   "metadata": {},
   "source": [
    "### Find where we have the chi2 min"
   ]
  },
  {
   "cell_type": "code",
   "execution_count": null,
   "metadata": {},
   "outputs": [],
   "source": [
    "the_chi2min.min()"
   ]
  },
  {
   "cell_type": "code",
   "execution_count": null,
   "metadata": {},
   "outputs": [],
   "source": [
    "idx_min=np.where(the_chi2min==the_chi2min.min())[0][0]\n",
    "idx_min"
   ]
  },
  {
   "cell_type": "code",
   "execution_count": null,
   "metadata": {},
   "outputs": [],
   "source": [
    "found_angle_1=alpha_values[idx_min]\n",
    "found_angle_1"
   ]
  },
  {
   "cell_type": "code",
   "execution_count": null,
   "metadata": {},
   "outputs": [],
   "source": [
    "idx_chi2min_y,idx_chi2min_x=the_locchi2min[idx_min]"
   ]
  },
  {
   "cell_type": "code",
   "execution_count": null,
   "metadata": {},
   "outputs": [],
   "source": [
    "X_ccd[idx_chi2min_x][0]"
   ]
  },
  {
   "cell_type": "code",
   "execution_count": null,
   "metadata": {},
   "outputs": [],
   "source": [
    "Y_ccd[idx_chi2min_y][0]"
   ]
  },
  {
   "cell_type": "markdown",
   "metadata": {},
   "source": [
    "# With AuxTel data"
   ]
  },
  {
   "cell_type": "code",
   "execution_count": null,
   "metadata": {},
   "outputs": [],
   "source": [
    "from IPython.display import Image\n",
    "#Image(filename='figures/amas_ouvert.png') "
   ]
  },
  {
   "cell_type": "code",
   "execution_count": null,
   "metadata": {},
   "outputs": [],
   "source": [
    "#Image(filename='figures/AmasOuvert_holophilines.png')"
   ]
  },
  {
   "cell_type": "markdown",
   "metadata": {},
   "source": [
    "## read excel file"
   ]
  },
  {
   "cell_type": "code",
   "execution_count": null,
   "metadata": {},
   "outputs": [],
   "source": [
    "GOOGLE_COLAB = False"
   ]
  },
  {
   "cell_type": "code",
   "execution_count": null,
   "metadata": {},
   "outputs": [],
   "source": [
    "if GOOGLE_COLAB:\n",
    "    from google.colab import files\n",
    "\n",
    "    uploaded = files.upload()\n",
    "\n",
    "    for fn in uploaded.keys():\n",
    "        print('User uploaded file \"{name}\" with length {length} bytes'.format(name=fn, length=len(uploaded[fn])))\n",
    "\n",
    "    filedata=\"orientations-holo_auxtel_v6.xlsx\"\n",
    "    df=pd.read_excel(filedata,index_col=None,header=42)\n",
    "\n",
    "else:\n",
    "\n",
    "    version=\"v7\"\n",
    "    if version==\"v3\":\n",
    "        filedata=\"../data/orientations/orientations-holo_auxtel_v3.xlsx\"\n",
    "        df=pd.read_excel(filedata,index_col=None,header=17)\n",
    "        df=df[df.index>24]\n",
    "    elif version==\"v5\":\n",
    "        filedata=\"../data/orientations/orientations-holo_auxtel_v5.xlsx\"\n",
    "        df=pd.read_excel(filedata,index_col=None,header=42)\n",
    "    elif version==\"v6\":\n",
    "        filedata=\"../data/orientations/orientations-holo_auxtel_v6.xlsx\"\n",
    "        df=pd.read_excel(filedata,index_col=None,header=42)    \n",
    "    elif version==\"v7\":\n",
    "        filedata=\"../data/orientations/orientations-holo_auxtel_v7.xlsx\"\n",
    "        df=pd.read_excel(filedata,index_col=None,header=42)    \n",
    "    else:\n",
    "        df=pd.read_excel(filedata,index_col=None,header=17)"
   ]
  },
  {
   "cell_type": "code",
   "execution_count": null,
   "metadata": {},
   "outputs": [],
   "source": [
    "df"
   ]
  },
  {
   "cell_type": "code",
   "execution_count": null,
   "metadata": {},
   "outputs": [],
   "source": [
    "filedata"
   ]
  },
  {
   "cell_type": "code",
   "execution_count": null,
   "metadata": {},
   "outputs": [],
   "source": [
    "df.index"
   ]
  },
  {
   "cell_type": "code",
   "execution_count": null,
   "metadata": {},
   "outputs": [],
   "source": [
    "df.columns"
   ]
  },
  {
   "cell_type": "markdown",
   "metadata": {},
   "source": [
    "## Erreur expérimentale"
   ]
  },
  {
   "cell_type": "code",
   "execution_count": null,
   "metadata": {},
   "outputs": [],
   "source": [
    "#sigma_alpha_exp=0.04 # error on angles\n",
    "sigma_alpha_exp=0.16 # error on angles"
   ]
  },
  {
   "cell_type": "markdown",
   "metadata": {},
   "source": [
    "### Show columns"
   ]
  },
  {
   "cell_type": "code",
   "execution_count": null,
   "metadata": {},
   "outputs": [],
   "source": [
    "df.columns"
   ]
  },
  {
   "cell_type": "markdown",
   "metadata": {},
   "source": [
    "### Extract good columns"
   ]
  },
  {
   "cell_type": "code",
   "execution_count": null,
   "metadata": {},
   "outputs": [],
   "source": [
    "if version==\"v6\" or version == \"v7\":\n",
    "    df=df[['X(mm)', 'Y(mm)','degré','dalpha']]\n",
    "else:\n",
    "    df=df[['X(mm)', 'Y(mm)','degré']]"
   ]
  },
  {
   "cell_type": "code",
   "execution_count": null,
   "metadata": {},
   "outputs": [],
   "source": [
    "df.columns"
   ]
  },
  {
   "cell_type": "markdown",
   "metadata": {},
   "source": [
    "### Describe"
   ]
  },
  {
   "cell_type": "code",
   "execution_count": null,
   "metadata": {},
   "outputs": [],
   "source": [
    "df.describe()"
   ]
  },
  {
   "cell_type": "markdown",
   "metadata": {},
   "source": [
    "## Extract data"
   ]
  },
  {
   "cell_type": "code",
   "execution_count": null,
   "metadata": {},
   "outputs": [],
   "source": [
    "NumberofPointsData=len(df)\n",
    "\n",
    "Xdata=df[\"X(mm)\"].values\n",
    "Ydata=df[\"Y(mm)\"].values\n",
    "alphadata=df[\"degré\"].values\n",
    "if version == \"v6\" or version == \"v7\" :\n",
    "    alphaerrdata=df[\"dalpha\"].values\n",
    "else:\n",
    "    alphaerrdata=np.full(NumberofPointsData,sigma_alpha_exp)"
   ]
  },
  {
   "cell_type": "code",
   "execution_count": null,
   "metadata": {},
   "outputs": [],
   "source": [
    "fig=plt.figure(figsize=(6,4))\n",
    "ax=fig.add_subplot(111)\n",
    "ax.hist(alphadata,bins=50,facecolor=\"b\");\n",
    "ax.set_xlabel('$\\\\alpha$ (deg)')"
   ]
  },
  {
   "cell_type": "code",
   "execution_count": null,
   "metadata": {},
   "outputs": [],
   "source": [
    "slope_mag=1\n",
    "fig=plt.figure(figsize=(8,8))\n",
    "ax=fig.add_subplot(111)\n",
    "for idx in np.arange(NumberofPointsData):\n",
    "    x_i=Xdata[idx]\n",
    "    y_i=Ydata[idx]\n",
    "    slope=np.tan(alphadata[idx]*u_degtorad)\n",
    "    \n",
    "    slope*=slope_mag\n",
    "    \n",
    "    ax.scatter(x_i,y_i,marker=\"o\",color=\"r\")\n",
    "    x_1=-20\n",
    "    x_2=20\n",
    "    y_1=(x_1-x_i)*slope+y_i\n",
    "    y_2=(x_2-x_i)*slope+y_i\n",
    "    ax.plot([x_1,x_2],[y_1,y_2])\n",
    "    \n",
    "ax.set_xlim(-20,20)\n",
    "ax.set_ylim(-20,20)\n",
    "\n",
    "ax.set_xlabel(\"X (mm)\")\n",
    "ax.set_ylabel(\"Y (mm)\")\n",
    "title=\"data\"\n",
    "ax.set_title(title,fontweight=\"bold\")\n",
    "ax.grid(color=\"grey\")\n",
    "     "
   ]
  },
  {
   "cell_type": "markdown",
   "metadata": {},
   "source": [
    "## Keep first hypothesis on rotation angle from data\n",
    "\n",
    "- keep the average angle"
   ]
  },
  {
   "cell_type": "code",
   "execution_count": null,
   "metadata": {},
   "outputs": [],
   "source": [
    "assummed_angle_0=df.mean()[\"degré\"]\n",
    "assummed_angle_0"
   ]
  },
  {
   "cell_type": "markdown",
   "metadata": {},
   "source": [
    "## Parameter grid for parameter search"
   ]
  },
  {
   "cell_type": "code",
   "execution_count": null,
   "metadata": {},
   "outputs": [],
   "source": [
    "plt.rcParams[\"axes.labelsize\"] = 'large'\n",
    "plt.rcParams['axes.titlesize'] = 'large'\n",
    "plt.rcParams['xtick.labelsize']= 'large'\n",
    "plt.rcParams['ytick.labelsize']= 'large'"
   ]
  },
  {
   "cell_type": "markdown",
   "metadata": {},
   "source": [
    "### Step 1\n",
    "\n",
    "#### prior region on angle search"
   ]
  },
  {
   "cell_type": "code",
   "execution_count": null,
   "metadata": {},
   "outputs": [],
   "source": [
    "Ncol=5\n",
    "Nrow=5\n",
    "Nalpha=Nrow*Ncol\n",
    "alpha_range=10\n",
    "alpha_min=assummed_angle_0-alpha_range\n",
    "alpha_max=assummed_angle_0+alpha_range\n",
    "alpha_step=(alpha_max-alpha_min)/Nalpha\n",
    "alpha_values=np.linspace(alpha_min,alpha_max,Nalpha)\n",
    "zoom=1"
   ]
  },
  {
   "cell_type": "markdown",
   "metadata": {},
   "source": [
    "#### Plot the grid for minimum seach"
   ]
  },
  {
   "cell_type": "code",
   "execution_count": null,
   "metadata": {},
   "outputs": [],
   "source": [
    "fig = plt.figure(figsize=(16,16))\n",
    "the_chi2min=np.zeros(Nalpha) # minimum value\n",
    "the_locchi2min=[] # location of minimum\n",
    "# loop on angle\n",
    "for idx in np.arange(Nalpha):\n",
    "    ax1=fig.add_subplot(Nrow,Ncol,idx+1)\n",
    "    the_chi2=chi2func(Xdata,Ydata,alphadata,alphaerrdata,XX_ccd,YY_ccd,alpha_values[idx],c_Z1*zoom,Npar=2)\n",
    "    the_chi2min[idx]=the_chi2.min()    # the minimum of chi2\n",
    "    the_levels= the_chi2min[idx] + Q\n",
    "    the_locchi2min.append(np.where(the_chi2==the_chi2.min())) # location of chi2min \n",
    "    \n",
    "    divider = make_axes_locatable(ax1)\n",
    "    cax1 = divider.append_axes('right', size='5%', pad=0.05)\n",
    "    im1=ax1.imshow(the_chi2,origin=\"lower\",cmap=\"jet\",extent=(XMIN,XMAX,YMIN,YMAX))\n",
    "    h1 = ax1.contour(X_ccd,Y_ccd,the_chi2,levels=100,colors='w')\n",
    "    #h1b = ax1.contour(X_ccd,Y_ccd,the_chi2,levels=[2.30+the_chi2.min()],colors='r',linewidths=2)\n",
    "    h1b = ax1.contour(X_ccd,Y_ccd,the_chi2,levels=the_levels,colors=Qcolors,linewidths=2)\n",
    "    cbar1=fig.colorbar(im1,cax=cax1,format=cbformat)\n",
    "    cbar1.ax.get_yaxis().labelpad = 10\n",
    "    cbar1.ax.set_ylabel('$\\\\chi^2$', rotation=90)\n",
    "    ax1.set_xlabel(\"X (mm)\")\n",
    "    ax1.set_ylabel(\"Y (mm)\")\n",
    "    title=\"$\\\\alpha$ = {:3.2f}\".format(alpha_values[idx])\n",
    "    ax1.set_title(title,fontweight=\"bold\")\n",
    "    ax1.grid(color=\"w\")\n",
    "    \n",
    "plt.suptitle(\"AuxTel Data : hologram parameters search, step 1\",y=1,fontsize=15)\n",
    "    \n",
    "#plt.tight_layout()\n"
   ]
  },
  {
   "cell_type": "code",
   "execution_count": null,
   "metadata": {},
   "outputs": [],
   "source": [
    "the_chi2min=the_chi2min/NumberofPointsData"
   ]
  },
  {
   "cell_type": "code",
   "execution_count": null,
   "metadata": {},
   "outputs": [],
   "source": [
    "plt.rcParams[\"axes.labelsize\"] = 'xx-large'\n",
    "plt.rcParams['axes.titlesize'] = 'xx-large'\n",
    "plt.rcParams['xtick.labelsize']= 'xx-large'\n",
    "plt.rcParams['ytick.labelsize']= 'xx-large'"
   ]
  },
  {
   "cell_type": "code",
   "execution_count": null,
   "metadata": {},
   "outputs": [],
   "source": [
    "fig = plt.figure(figsize=(10,5))\n",
    "ax=fig.add_subplot(111)\n",
    "ax.plot(alpha_values,the_chi2min,'bo-')\n",
    "ax.set_xlabel(\"$\\\\alpha$ (deg)\")\n",
    "ax.set_ylabel(\"$\\\\chi^2(\\\\alpha)$\")\n",
    "ax.set_title(\"Auxtel data, step 1 : $\\chi^2$ vs holo angle $\\\\alpha$\")"
   ]
  },
  {
   "cell_type": "code",
   "execution_count": null,
   "metadata": {},
   "outputs": [],
   "source": [
    "the_chi2min.min()"
   ]
  },
  {
   "cell_type": "code",
   "execution_count": null,
   "metadata": {},
   "outputs": [],
   "source": [
    "idx_min=np.where(the_chi2min==the_chi2min.min())[0][0]"
   ]
  },
  {
   "cell_type": "code",
   "execution_count": null,
   "metadata": {},
   "outputs": [],
   "source": [
    "found_angle_1=alpha_values[idx_min]\n",
    "found_angle_1"
   ]
  },
  {
   "cell_type": "code",
   "execution_count": null,
   "metadata": {},
   "outputs": [],
   "source": [
    "idx_chi2min_y,idx_chi2min_x=the_locchi2min[idx_min]"
   ]
  },
  {
   "cell_type": "code",
   "execution_count": null,
   "metadata": {},
   "outputs": [],
   "source": [
    "X0_found_1=X_ccd[idx_chi2min_x][0]\n",
    "X0_found_1"
   ]
  },
  {
   "cell_type": "code",
   "execution_count": null,
   "metadata": {},
   "outputs": [],
   "source": [
    "Y0_found_1=Y_ccd[idx_chi2min_y][0]\n",
    "Y0_found_1"
   ]
  },
  {
   "cell_type": "markdown",
   "metadata": {},
   "source": [
    "### Step 1 : Calcul du chi2"
   ]
  },
  {
   "cell_type": "code",
   "execution_count": null,
   "metadata": {},
   "outputs": [],
   "source": [
    "the_chi2=chi2func(Xdata,Ydata,alphadata,alphaerrdata,XX_ccd,YY_ccd,found_angle_1,c_Z1*zoom,Npar=2)"
   ]
  },
  {
   "cell_type": "markdown",
   "metadata": {},
   "source": [
    "#### Plot the result of step 1"
   ]
  },
  {
   "cell_type": "code",
   "execution_count": null,
   "metadata": {},
   "outputs": [],
   "source": [
    "fig = plt.figure(figsize=(10,10))\n",
    "\n",
    "\n",
    "ax1 = fig.add_subplot(111)\n",
    "divider = make_axes_locatable(ax1)\n",
    "cax1 = divider.append_axes('right', size='5%', pad=0.05)\n",
    "\n",
    "the_chi2min=the_chi2.min()    # the minimum of chi2\n",
    "the_levels= the_chi2min + Q\n",
    "    \n",
    "im1=ax1.imshow(the_chi2,origin=\"lower\",cmap=\"jet\",extent=(XMIN,XMAX,YMIN,YMAX))\n",
    "h1 = ax1.contour(X_ccd,Y_ccd,the_chi2,levels=100,colors='w')\n",
    "#h1b = ax1.contour(X_ccd,Y_ccd,the_chi2,levels=[2.30+the_chi2.min()],colors='r',linewidths=2)\n",
    "h1b = ax1.contour(X_ccd,Y_ccd,the_chi2,levels=the_levels,colors=Qcolors,linewidths=2)\n",
    "\n",
    "cbar1=fig.colorbar(im1,cax=cax1,format=cbformat)\n",
    "cbar1.ax.get_yaxis().labelpad = 10\n",
    "cbar1.ax.set_ylabel('$\\\\chi^2$', rotation=90)\n",
    "ax1.set_xlabel(\"X (mm)\")\n",
    "ax1.set_ylabel(\"Y (mm)\")\n",
    "ax1.set_title(\"chi2, step 1\",fontweight=\"bold\",fontsize=25)\n",
    "ax1.grid(color=\"w\")\n",
    "\n",
    "\n",
    "#xy1_A=np.array([X0_found_1-c_d1/2,Y0_found_1])\n",
    "#xy1_B=np.array([X0_found_1+c_d1/2,Y0_found_1])\n",
    "\n",
    "#xy_A = x1y1toxy(xy1_A,c_alpha0)\n",
    "#xy_B = x1y1toxy(xy1_B,c_alpha0)\n",
    "\n",
    "#XY_A = xytoXY(xy_A,c_Z1*zoom)\n",
    "#XY_B = xytoXY(xy_B,c_Z1*zoom)\n",
    "\n",
    "ax1.scatter(X0_found_1,Y0_found_1,marker=\"o\",color=\"y\",s=100)\n",
    "#ax1.scatter(XY_A[0],XY_A[1],marker=\"o\",color=\"g\",s=100)\n",
    "#ax1.scatter(XY_B[0],XY_B[1],marker=\"o\",color=\"g\",s=100)\n",
    "\n",
    "ax1.scatter(Xdata,Ydata,marker=\"o\",color=\"gray\")\n"
   ]
  },
  {
   "cell_type": "code",
   "execution_count": null,
   "metadata": {},
   "outputs": [],
   "source": [
    "#Image(filename='figures/amas_ouvert.png') "
   ]
  },
  {
   "cell_type": "markdown",
   "metadata": {},
   "source": [
    "### Step 2"
   ]
  },
  {
   "cell_type": "code",
   "execution_count": null,
   "metadata": {},
   "outputs": [],
   "source": [
    "plt.rcParams[\"axes.labelsize\"] = 'large'\n",
    "plt.rcParams['axes.titlesize'] = 'large'\n",
    "plt.rcParams['xtick.labelsize']= 'large'\n",
    "plt.rcParams['ytick.labelsize']= 'large'"
   ]
  },
  {
   "cell_type": "code",
   "execution_count": null,
   "metadata": {},
   "outputs": [],
   "source": [
    "Ncol=5\n",
    "Nrow=5\n",
    "Nalpha=Nrow*Ncol\n",
    "alpha_range=1\n",
    "alpha_min=found_angle_1-alpha_range\n",
    "alpha_max=found_angle_1+alpha_range\n",
    "alpha_step=(alpha_max-alpha_min)/Nalpha\n",
    "alpha_values=np.linspace(alpha_min,alpha_max,Nalpha)\n",
    "zoom=1"
   ]
  },
  {
   "cell_type": "code",
   "execution_count": null,
   "metadata": {},
   "outputs": [],
   "source": [
    "fig = plt.figure(figsize=(16,16))\n",
    "the_chi2min=np.zeros(Nalpha)\n",
    "the_locchi2min=[]\n",
    "\n",
    "# loop on angle\n",
    "for idx in np.arange(Nalpha):\n",
    "    ax1=fig.add_subplot(Nrow,Ncol,idx+1)\n",
    "    the_chi2=chi2func(Xdata,Ydata,alphadata,alphaerrdata,XX_ccd,YY_ccd,alpha_values[idx],c_Z1*zoom,Npar=2)\n",
    "    the_chi2min[idx]=the_chi2.min()\n",
    "    the_levels= the_chi2min[idx] + Q\n",
    "    \n",
    "    the_locchi2min.append(np.where(the_chi2==the_chi2.min())) # location of chi2min \n",
    "    \n",
    "    divider = make_axes_locatable(ax1)\n",
    "    cax1 = divider.append_axes('right', size='5%', pad=0.05)\n",
    "    im1=ax1.imshow(the_chi2,origin=\"lower\",cmap=\"jet\",extent=(XMIN,XMAX,YMIN,YMAX))\n",
    "    h1 = ax1.contour(X_ccd,Y_ccd,the_chi2,levels=100,colors='w')\n",
    "    #h1b = ax1.contour(X_ccd,Y_ccd,the_chi2,levels=[2.30+the_chi2.min()],colors='r',linewidths=2)\n",
    "    h1b = ax1.contour(X_ccd,Y_ccd,the_chi2,levels=the_levels,colors=Qcolors,linewidths=2)\n",
    "    cbar1=fig.colorbar(im1,cax=cax1,format=cbformat)\n",
    "    cbar1.ax.get_yaxis().labelpad = 10\n",
    "    cbar1.ax.set_ylabel('$\\\\chi^2$', rotation=90)\n",
    "    ax1.set_xlabel(\"X (mm)\")\n",
    "    ax1.set_ylabel(\"Y (mm)\")\n",
    "    title=\"$\\\\alpha$ = {:3.2f}\".format(alpha_values[idx])\n",
    "    ax1.set_title(title,fontweight=\"bold\")\n",
    "    ax1.grid(color=\"w\")\n",
    "    \n",
    "plt.suptitle(\"Auxtel Data : hologram parameters search, step 2\",y=1,fontsize=25)\n",
    "#plt.tight_layout()\n"
   ]
  },
  {
   "cell_type": "code",
   "execution_count": null,
   "metadata": {},
   "outputs": [],
   "source": [
    "plt.rcParams[\"axes.labelsize\"] = 'xx-large'\n",
    "plt.rcParams['axes.titlesize'] = 'xx-large'\n",
    "plt.rcParams['xtick.labelsize']= 'xx-large'\n",
    "plt.rcParams['ytick.labelsize']= 'xx-large'"
   ]
  },
  {
   "cell_type": "code",
   "execution_count": null,
   "metadata": {},
   "outputs": [],
   "source": [
    "the_chi2min=the_chi2min/NumberofPointsData"
   ]
  },
  {
   "cell_type": "code",
   "execution_count": null,
   "metadata": {},
   "outputs": [],
   "source": [
    "fig = plt.figure(figsize=(10,5))\n",
    "ax=fig.add_subplot(111)\n",
    "ax.plot(alpha_values,the_chi2min,'bo-')\n",
    "ax.set_xlabel(\"$\\\\alpha$ (deg)\")\n",
    "ax.set_ylabel(\"$\\\\chi^2(\\\\alpha)/NDF$\")\n",
    "ax.set_title(\"Auxtel data  step 2 : $\\chi^2/NDF$ vs holo angle $\\\\alpha$\")"
   ]
  },
  {
   "cell_type": "code",
   "execution_count": null,
   "metadata": {},
   "outputs": [],
   "source": [
    "the_chi2min.min()"
   ]
  },
  {
   "cell_type": "code",
   "execution_count": null,
   "metadata": {},
   "outputs": [],
   "source": [
    "idx_min=np.where(the_chi2min==the_chi2min.min())[0][0]"
   ]
  },
  {
   "cell_type": "code",
   "execution_count": null,
   "metadata": {},
   "outputs": [],
   "source": [
    "found_angle_2=alpha_values[idx_min]\n",
    "found_angle_2"
   ]
  },
  {
   "cell_type": "code",
   "execution_count": null,
   "metadata": {},
   "outputs": [],
   "source": [
    "idx_chi2min_y,idx_chi2min_x=the_locchi2min[idx_min]"
   ]
  },
  {
   "cell_type": "code",
   "execution_count": null,
   "metadata": {},
   "outputs": [],
   "source": [
    "X0_found_2=X_ccd[idx_chi2min_x][0]\n",
    "X0_found_2"
   ]
  },
  {
   "cell_type": "code",
   "execution_count": null,
   "metadata": {},
   "outputs": [],
   "source": [
    "Y0_found_2=Y_ccd[idx_chi2min_y][0]\n",
    "Y0_found_2"
   ]
  },
  {
   "cell_type": "markdown",
   "metadata": {},
   "source": [
    "### step 2 :  chi2 map"
   ]
  },
  {
   "cell_type": "code",
   "execution_count": null,
   "metadata": {},
   "outputs": [],
   "source": [
    "the_chi2=chi2func(Xdata,Ydata,alphadata,alphaerrdata,XX_ccd,YY_ccd,found_angle_2,c_Z1*zoom,Npar=2)"
   ]
  },
  {
   "cell_type": "code",
   "execution_count": null,
   "metadata": {},
   "outputs": [],
   "source": [
    "fig = plt.figure(figsize=(10,10))\n",
    "\n",
    "\n",
    "ax1 = fig.add_subplot(111)\n",
    "divider = make_axes_locatable(ax1)\n",
    "cax1 = divider.append_axes('right', size='5%', pad=0.05)\n",
    "\n",
    "the_chi2min=the_chi2.min()    # the minimum of chi2\n",
    "the_levels= the_chi2min + Q\n",
    "    \n",
    "im1=ax1.imshow(the_chi2,origin=\"lower\",cmap=\"jet\",extent=(XMIN,XMAX,YMIN,YMAX))\n",
    "h1 = ax1.contour(X_ccd,Y_ccd,the_chi2,levels=100,colors='w')\n",
    "#h1b = ax1.contour(X_ccd,Y_ccd,the_chi2,levels=[2.30+the_chi2.min()],colors='r',linewidths=2)\n",
    "h1b = ax1.contour(X_ccd,Y_ccd,the_chi2,levels=the_levels,colors=Qcolors,linewidths=2)\n",
    "\n",
    "cbar1=fig.colorbar(im1,cax=cax1,format=cbformat)\n",
    "cbar1.ax.get_yaxis().labelpad = 10\n",
    "cbar1.ax.set_ylabel('$\\\\chi^2$', rotation=90)\n",
    "ax1.set_xlabel(\"X (mm)\")\n",
    "ax1.set_ylabel(\"Y (mm)\")\n",
    "ax1.set_title(\"chi2, step 2\",fontweight=\"bold\",fontsize=25)\n",
    "ax1.grid(color=\"w\")\n",
    "\n",
    "\n",
    "#xy1_A=np.array([X0_found_1-c_d1/2,Y0_found_1])\n",
    "#xy1_B=np.array([X0_found_1+c_d1/2,Y0_found_1])\n",
    "\n",
    "#xy_A = x1y1toxy(xy1_A,c_alpha0)\n",
    "#xy_B = x1y1toxy(xy1_B,c_alpha0)\n",
    "\n",
    "#XY_A = xytoXY(xy_A,c_Z1*zoom)\n",
    "#XY_B = xytoXY(xy_B,c_Z1*zoom)\n",
    "\n",
    "ax1.scatter(X0_found_1,Y0_found_1,marker=\"o\",color=\"y\",s=100)\n",
    "#ax1.scatter(XY_A[0],XY_A[1],marker=\"o\",color=\"g\",s=100)\n",
    "#ax1.scatter(XY_B[0],XY_B[1],marker=\"o\",color=\"g\",s=100)\n",
    "\n",
    "ax1.scatter(Xdata,Ydata,marker=\"o\",color=\"gray\")\n"
   ]
  },
  {
   "cell_type": "code",
   "execution_count": null,
   "metadata": {},
   "outputs": [],
   "source": [
    "# homothecy\n",
    "zoom=1.\n",
    "xx_holo=XYtoxy(XX_ccd,c_Z1*zoom) \n",
    "yy_holo=XYtoxy(YY_ccd,c_Z1*zoom) \n",
    "\n",
    "# rotation\n",
    "(xx1_holo,yy1_holo)=xytox1y1_2D(xx_holo,yy_holo,found_angle_2,X0_found_2,Y0_found_2)\n",
    "Z_Phi_ccd_2=dd_phi(xx1_holo,yy1_holo)\n",
    "\n",
    "maxZ_Phi_2=np.max(np.abs(Z_Phi_ccd_2))"
   ]
  },
  {
   "cell_type": "code",
   "execution_count": null,
   "metadata": {},
   "outputs": [],
   "source": [
    "fig=plt.figure(figsize=(10,10))\n",
    "ax=fig.add_subplot(111)\n",
    "for idx in np.arange(NumberofPointsData):\n",
    "    x_i=Xdata[idx]\n",
    "    y_i=Ydata[idx]\n",
    "    slope=np.tan(alphadata[idx]*u_degtorad)\n",
    "    ax.scatter(x_i,y_i,marker=\"o\",color=\"r\")\n",
    "    x_1=-20\n",
    "    x_2=20\n",
    "    y_1=(x_1-x_i)*slope+y_i\n",
    "    y_2=(x_2-x_i)*slope+y_i\n",
    "    ax.plot([x_1,x_2],[y_1,y_2],lw=3)\n",
    "    \n",
    "    \n",
    "im=ax.imshow(Z_Phi_ccd_2,origin=\"lower\",cmap=\"seismic\",extent=(XMIN,XMAX,YMIN,YMAX),alpha=0.5,vmin=-maxZ_Phi_2,vmax=maxZ_Phi_2)\n",
    "h = ax.contour(X_ccd,Y_ccd,Z_Phi_ccd_2,levels=50,colors='k')\n",
    "\n",
    "xy_A = x1y1toxy(xy1_A,found_angle_2,X0_found_2,Y0_found_2)\n",
    "xy_B = x1y1toxy(xy1_B,found_angle_2,X0_found_2,Y0_found_2)\n",
    "\n",
    "\n",
    "XY_A = xytoXY(xy_A,c_Z1*zoom)\n",
    "XY_B = xytoXY(xy_B,c_Z1*zoom)\n",
    "\n",
    "ax.scatter(XY_A[0],XY_A[1],marker=\"o\",color=\"k\",s=100)\n",
    "ax.scatter(XY_B[0],XY_B[1],marker=\"o\",color=\"k\",s=100)\n",
    "\n",
    "\n",
    "    \n",
    "ax.set_xlim(-25,25)\n",
    "ax.set_ylim(-25,25)\n",
    "\n",
    "ax.set_xlabel(\"X (mm)\")\n",
    "ax.set_ylabel(\"Y (mm)\")\n",
    "title=\"fit data : alpha= {:3.2f} deg , (X0,Y0)= ({:3.2f},{:3.2f})\".format(found_angle_2,X0_found_2,Y0_found_2)\n",
    "ax.set_title(title,fontweight=\"bold\")\n",
    "ax.grid(color=\"w\")\n",
    "    "
   ]
  },
  {
   "cell_type": "markdown",
   "metadata": {},
   "source": [
    "### Step 3"
   ]
  },
  {
   "cell_type": "code",
   "execution_count": null,
   "metadata": {},
   "outputs": [],
   "source": [
    "plt.rcParams[\"axes.labelsize\"] = 'large'\n",
    "plt.rcParams['axes.titlesize'] = 'large'\n",
    "plt.rcParams['xtick.labelsize']= 'large'\n",
    "plt.rcParams['ytick.labelsize']= 'large'"
   ]
  },
  {
   "cell_type": "code",
   "execution_count": null,
   "metadata": {},
   "outputs": [],
   "source": [
    "Ncol=5\n",
    "Nrow=5\n",
    "Nalpha=Nrow*Ncol\n",
    "alpha_range=0.2\n",
    "alpha_min=found_angle_2-alpha_range\n",
    "alpha_max=found_angle_2+alpha_range\n",
    "alpha_step=(alpha_max-alpha_min)/Nalpha\n",
    "alpha_values=np.linspace(alpha_min,alpha_max,Nalpha)\n",
    "zoom=1"
   ]
  },
  {
   "cell_type": "code",
   "execution_count": null,
   "metadata": {},
   "outputs": [],
   "source": [
    "fig = plt.figure(figsize=(16,16))\n",
    "the_chi2min=np.zeros(Nalpha)\n",
    "the_locchi2min=[]\n",
    "\n",
    "# loop on angle\n",
    "for idx in np.arange(Nalpha):\n",
    "    ax1=fig.add_subplot(Nrow,Ncol,idx+1)\n",
    "    the_chi2=chi2func(Xdata,Ydata,alphadata,alphaerrdata,XX_ccd,YY_ccd,alpha_values[idx],c_Z1*zoom,Npar=2)\n",
    "    the_chi2min[idx]=the_chi2.min()\n",
    "    the_levels= the_chi2min[idx] + Q\n",
    "    \n",
    "    the_locchi2min.append(np.where(the_chi2==the_chi2.min())) # location of chi2min \n",
    "    \n",
    "    divider = make_axes_locatable(ax1)\n",
    "    cax1 = divider.append_axes('right', size='5%', pad=0.05)\n",
    "    im1=ax1.imshow(the_chi2,origin=\"lower\",cmap=\"jet\",extent=(XMIN,XMAX,YMIN,YMAX))\n",
    "    h1 = ax1.contour(X_ccd,Y_ccd,the_chi2,levels=100,colors='w')\n",
    "    #h1b = ax1.contour(X_ccd,Y_ccd,the_chi2,levels=[2.30+the_chi2.min()],colors='r',linewidths=2)\n",
    "    h1b = ax1.contour(X_ccd,Y_ccd,the_chi2,levels=the_levels,colors=Qcolors,linewidths=2)\n",
    "    cbar1=fig.colorbar(im1,cax=cax1,format=cbformat)\n",
    "    cbar1.ax.get_yaxis().labelpad = 10\n",
    "    cbar1.ax.set_ylabel('$\\\\chi^2$', rotation=90)\n",
    "    ax1.set_xlabel(\"X (mm)\")\n",
    "    ax1.set_ylabel(\"Y (mm)\")\n",
    "    title=\"$\\\\alpha$ = {:3.2f}\".format(alpha_values[idx])\n",
    "    ax1.set_title(title,fontweight=\"bold\")\n",
    "    ax1.grid(color=\"w\")\n",
    "    \n",
    "plt.suptitle(\"Auxtel Data : hologram parameters search, step 3\",y=1)\n",
    "#plt.tight_layout()\n"
   ]
  },
  {
   "cell_type": "code",
   "execution_count": null,
   "metadata": {},
   "outputs": [],
   "source": [
    "the_chi2min=the_chi2min/NumberofPointsData"
   ]
  },
  {
   "cell_type": "code",
   "execution_count": null,
   "metadata": {},
   "outputs": [],
   "source": [
    "plt.rcParams[\"axes.labelsize\"] = 'xx-large'\n",
    "plt.rcParams['axes.titlesize'] = 'xx-large'\n",
    "plt.rcParams['xtick.labelsize']= 'xx-large'\n",
    "plt.rcParams['ytick.labelsize']= 'xx-large'"
   ]
  },
  {
   "cell_type": "code",
   "execution_count": null,
   "metadata": {},
   "outputs": [],
   "source": [
    "fig = plt.figure(figsize=(10,5))\n",
    "ax=fig.add_subplot(111)\n",
    "ax.plot(alpha_values,the_chi2min,'bo-')\n",
    "ax.set_xlabel(\"$\\\\alpha$ (deg)\")\n",
    "ax.set_ylabel(\"$\\\\chi^2(\\\\alpha)$\")\n",
    "ax.set_title(\"AuxTel data step 3 : $\\chi^2$ vs holo angle $\\\\alpha$\")"
   ]
  },
  {
   "cell_type": "code",
   "execution_count": null,
   "metadata": {},
   "outputs": [],
   "source": [
    "the_chi2min.min()"
   ]
  },
  {
   "cell_type": "code",
   "execution_count": null,
   "metadata": {},
   "outputs": [],
   "source": [
    "idx_min=np.where(the_chi2min==the_chi2min.min())[0][0]"
   ]
  },
  {
   "cell_type": "code",
   "execution_count": null,
   "metadata": {},
   "outputs": [],
   "source": [
    "found_angle_3=alpha_values[idx_min]\n",
    "found_angle_3"
   ]
  },
  {
   "cell_type": "code",
   "execution_count": null,
   "metadata": {},
   "outputs": [],
   "source": [
    "idx_chi2min_y,idx_chi2min_x=the_locchi2min[idx_min]"
   ]
  },
  {
   "cell_type": "code",
   "execution_count": null,
   "metadata": {},
   "outputs": [],
   "source": [
    "X0_found_3=X_ccd[idx_chi2min_x][0]\n",
    "X0_found_3"
   ]
  },
  {
   "cell_type": "code",
   "execution_count": null,
   "metadata": {},
   "outputs": [],
   "source": [
    "Y0_found_3=Y_ccd[idx_chi2min_y][0]\n",
    "Y0_found_3"
   ]
  },
  {
   "cell_type": "markdown",
   "metadata": {},
   "source": [
    "### step 3 : chi2 map"
   ]
  },
  {
   "cell_type": "code",
   "execution_count": null,
   "metadata": {},
   "outputs": [],
   "source": [
    "the_chi2=chi2func(Xdata,Ydata,alphadata,alphaerrdata,XX_ccd,YY_ccd,found_angle_3,c_Z1*zoom,Npar=2)"
   ]
  },
  {
   "cell_type": "code",
   "execution_count": null,
   "metadata": {},
   "outputs": [],
   "source": [
    "fig = plt.figure(figsize=(10,10))\n",
    "\n",
    "\n",
    "ax1 = fig.add_subplot(111)\n",
    "divider = make_axes_locatable(ax1)\n",
    "cax1 = divider.append_axes('right', size='5%', pad=0.05)\n",
    "\n",
    "the_chi2min=the_chi2.min()    # the minimum of chi2\n",
    "the_levels= the_chi2min + Q\n",
    "    \n",
    "im1=ax1.imshow(the_chi2,origin=\"lower\",cmap=\"jet\",extent=(XMIN,XMAX,YMIN,YMAX))\n",
    "h1 = ax1.contour(X_ccd,Y_ccd,the_chi2,levels=100,colors='w')\n",
    "#h1b = ax1.contour(X_ccd,Y_ccd,the_chi2,levels=[2.30+the_chi2.min()],colors='r',linewidths=2)\n",
    "h1b = ax1.contour(X_ccd,Y_ccd,the_chi2,levels=the_levels,colors=Qcolors,linewidths=2)\n",
    "\n",
    "cbar1=fig.colorbar(im1,cax=cax1,format=cbformat)\n",
    "cbar1.ax.get_yaxis().labelpad = 10\n",
    "cbar1.ax.set_ylabel('$\\\\chi^2$', rotation=90)\n",
    "ax1.set_xlabel(\"X (mm)\")\n",
    "ax1.set_ylabel(\"Y (mm)\")\n",
    "ax1.set_title(\"chi2, step 3\",fontweight=\"bold\",fontsize=25)\n",
    "ax1.grid(color=\"w\")\n",
    "\n",
    "\n",
    "#xy1_A=np.array([X0_found_1-c_d1/2,Y0_found_1])\n",
    "#xy1_B=np.array([X0_found_1+c_d1/2,Y0_found_1])\n",
    "\n",
    "#xy_A = x1y1toxy(xy1_A,c_alpha0)\n",
    "#xy_B = x1y1toxy(xy1_B,c_alpha0)\n",
    "\n",
    "#XY_A = xytoXY(xy_A,c_Z1*zoom)\n",
    "#XY_B = xytoXY(xy_B,c_Z1*zoom)\n",
    "\n",
    "ax1.scatter(X0_found_1,Y0_found_1,marker=\"o\",color=\"y\",s=100)\n",
    "#ax1.scatter(XY_A[0],XY_A[1],marker=\"o\",color=\"g\",s=100)\n",
    "#ax1.scatter(XY_B[0],XY_B[1],marker=\"o\",color=\"g\",s=100)\n",
    "\n",
    "ax1.scatter(Xdata,Ydata,marker=\"o\",color=\"gray\")\n"
   ]
  },
  {
   "cell_type": "code",
   "execution_count": null,
   "metadata": {},
   "outputs": [],
   "source": [
    "# homothecy\n",
    "zoom=1.\n",
    "xx_holo=XYtoxy(XX_ccd,c_Z1*zoom) \n",
    "yy_holo=XYtoxy(YY_ccd,c_Z1*zoom) \n",
    "\n",
    "# rotation\n",
    "(xx1_holo,yy1_holo)=xytox1y1_2D(xx_holo,yy_holo,found_angle_3,X0_found_3,Y0_found_3)\n",
    "Z_Phi_ccd_3=dd_phi(xx1_holo,yy1_holo)\n",
    "\n",
    "maxZ_Phi_3=np.max(np.abs(Z_Phi_ccd_3))"
   ]
  },
  {
   "cell_type": "code",
   "execution_count": null,
   "metadata": {},
   "outputs": [],
   "source": [
    "fig=plt.figure(figsize=(10,10))\n",
    "ax=fig.add_subplot(111)\n",
    "for idx in np.arange(NumberofPointsData):\n",
    "    x_i=Xdata[idx]\n",
    "    y_i=Ydata[idx]\n",
    "    slope=np.tan(alphadata[idx]*u_degtorad)\n",
    "    ax.scatter(x_i,y_i,marker=\"o\",color=\"r\")\n",
    "    x_1=-20\n",
    "    x_2=20\n",
    "    y_1=(x_1-x_i)*slope+y_i\n",
    "    y_2=(x_2-x_i)*slope+y_i\n",
    "    ax.plot([x_1,x_2],[y_1,y_2],lw=3)\n",
    "    \n",
    "    \n",
    "im=ax.imshow(Z_Phi_ccd_3,origin=\"lower\",cmap=\"seismic\",extent=(XMIN,XMAX,YMIN,YMAX),alpha=0.5,vmin=-maxZ_Phi_3,vmax=maxZ_Phi_3)\n",
    "h = ax.contour(X_ccd,Y_ccd,Z_Phi_ccd_3,levels=50,colors='k')\n",
    "\n",
    "xy_A = x1y1toxy(xy1_A,found_angle_3,X0_found_3,Y0_found_3)\n",
    "xy_B = x1y1toxy(xy1_B,found_angle_3,X0_found_3,Y0_found_3)\n",
    "\n",
    "\n",
    "XY_A = xytoXY(xy_A,c_Z1*zoom)\n",
    "XY_B = xytoXY(xy_B,c_Z1*zoom)\n",
    "\n",
    "ax.scatter(XY_A[0],XY_A[1],marker=\"o\",color=\"k\",s=100)\n",
    "ax.scatter(XY_B[0],XY_B[1],marker=\"o\",color=\"k\",s=100)\n",
    "\n",
    "\n",
    "    \n",
    "ax.set_xlim(-25,25)\n",
    "ax.set_ylim(-25,25)\n",
    "\n",
    "ax.set_xlabel(\"X (mm)\")\n",
    "ax.set_ylabel(\"Y (mm)\")\n",
    "title=\"fit data step 3 : alpha= {:3.2f} deg , (X0,Y0)= ({:3.2f},{:3.2f})\".format(found_angle_3,X0_found_3,Y0_found_3)\n",
    "ax.set_title(title,fontweight=\"bold\")\n",
    "ax.grid(color=\"w\")\n",
    "    "
   ]
  },
  {
   "cell_type": "markdown",
   "metadata": {},
   "source": [
    "# Final Fit with iMinuit\n",
    "\n",
    "https://nbviewer.jupyter.org/github/scikit-hep/iminuit/blob/master/tutorial/basic_tutorial.ipynb"
   ]
  },
  {
   "cell_type": "code",
   "execution_count": null,
   "metadata": {},
   "outputs": [],
   "source": [
    "if GOOGLE_COLAB:\n",
    "    !pip install iminuit"
   ]
  },
  {
   "cell_type": "code",
   "execution_count": null,
   "metadata": {},
   "outputs": [],
   "source": [
    "# everything in iminuit is done through the Minuit object, so we import it\n",
    "from iminuit import Minuit\n",
    "\n",
    "# we also need a cost function to fit and import the LeastSquares function\n",
    "from iminuit.cost import LeastSquares"
   ]
  },
  {
   "cell_type": "code",
   "execution_count": null,
   "metadata": {},
   "outputs": [],
   "source": [
    "def chi2_angle(X0,Y0,alpha0):\n",
    "    \"\"\"\n",
    "    - input x,y : model X0,Y0 in  CCD frame\n",
    "    - alpha     : finite angle\n",
    "    \n",
    "    \"\"\"\n",
    "    \n",
    "    N=len(Xdata)\n",
    "    chi2=0\n",
    " \n",
    "    # loop on data\n",
    "    for idx in np.arange(N):\n",
    "               \n",
    "        X=Xdata[idx] # scalar\n",
    "        Y=Ydata[idx]\n",
    "        \n",
    "        XY=np.array([X,Y])\n",
    "        \n",
    "        # homothecie according the Z assumption\n",
    "        xy=XYtoxy(XY,c_Z0)\n",
    "    \n",
    "        # rotation according the alpha assumption\n",
    "        x1y1=xytox1y1(xy,alpha0,X0,Y0)\n",
    "        \n",
    "        d_alpha=dd_alpha(x1y1[0],x1y1[1])\n",
    "        \n",
    "        \n",
    "        # angle in the model\n",
    "        angle_mod=alpha0+d_alpha\n",
    "        \n",
    "        #angle measured\n",
    "        angle_mes=alphadata[idx]\n",
    "    \n",
    "        sig=alphaerrdata[idx]\n",
    "        \n",
    "        if sig>0:\n",
    "            chi2+=(angle_mod-angle_mes)**2/sig**2\n",
    "        \n",
    "    return chi2"
   ]
  },
  {
   "cell_type": "code",
   "execution_count": null,
   "metadata": {},
   "outputs": [],
   "source": [
    "X0_found_3"
   ]
  },
  {
   "cell_type": "code",
   "execution_count": null,
   "metadata": {},
   "outputs": [],
   "source": [
    "Y0_found_3"
   ]
  },
  {
   "cell_type": "code",
   "execution_count": null,
   "metadata": {},
   "outputs": [],
   "source": [
    "found_angle_3"
   ]
  },
  {
   "cell_type": "code",
   "execution_count": null,
   "metadata": {},
   "outputs": [],
   "source": [
    "#chi2_angle.errordef=Minuit.LEAST_SQUARES  # == 1"
   ]
  },
  {
   "cell_type": "code",
   "execution_count": null,
   "metadata": {},
   "outputs": [],
   "source": [
    "X0_th=-7.0\n",
    "Y0_th=+2.5\n",
    "alpha_th=0"
   ]
  },
  {
   "cell_type": "code",
   "execution_count": null,
   "metadata": {},
   "outputs": [],
   "source": [
    "#m = Minuit(chi2_angle, X0=X0_found_3, Y0=Y0_found_3, alpha0=found_angle_3)  # starting values\n",
    "m = Minuit(chi2_angle, X0=X0_th, Y0=Y0_th, alpha0=alpha_th)  # starting values"
   ]
  },
  {
   "cell_type": "code",
   "execution_count": null,
   "metadata": {},
   "outputs": [],
   "source": [
    "m.errordef=1"
   ]
  },
  {
   "cell_type": "code",
   "execution_count": null,
   "metadata": {},
   "outputs": [],
   "source": [
    "#m.limits = [(-20, 20), (-20, 10),(alpha_min,alpha_max)]"
   ]
  },
  {
   "cell_type": "code",
   "execution_count": null,
   "metadata": {},
   "outputs": [],
   "source": [
    "m.migrad()  # finds minimum of least_squares function"
   ]
  },
  {
   "cell_type": "code",
   "execution_count": null,
   "metadata": {},
   "outputs": [],
   "source": [
    "m.hesse()   # accurately computes uncertainties"
   ]
  },
  {
   "cell_type": "code",
   "execution_count": null,
   "metadata": {},
   "outputs": [],
   "source": [
    "m.params"
   ]
  },
  {
   "cell_type": "code",
   "execution_count": null,
   "metadata": {},
   "outputs": [],
   "source": [
    "m.covariance"
   ]
  },
  {
   "cell_type": "code",
   "execution_count": null,
   "metadata": {},
   "outputs": [],
   "source": [
    "plt.figure(figsize=(5,5))\n",
    "m.draw_mncontour(\"X0\", \"Y0\")\n",
    "plt.grid()"
   ]
  },
  {
   "cell_type": "code",
   "execution_count": null,
   "metadata": {},
   "outputs": [],
   "source": [
    "plt.figure(figsize=(6,5))\n",
    "m.draw_mnprofile(\"X0\");"
   ]
  },
  {
   "cell_type": "code",
   "execution_count": null,
   "metadata": {},
   "outputs": [],
   "source": [
    "plt.figure(figsize=(6,5))\n",
    "m.draw_mnprofile(\"Y0\");"
   ]
  },
  {
   "cell_type": "code",
   "execution_count": null,
   "metadata": {},
   "outputs": [],
   "source": [
    "plt.figure(figsize=(6,5))\n",
    "m.draw_mnprofile(\"alpha0\");"
   ]
  },
  {
   "cell_type": "code",
   "execution_count": null,
   "metadata": {},
   "outputs": [],
   "source": [
    "m.fval / (len(Xdata) - m.nfit)  # reduced chi2"
   ]
  },
  {
   "cell_type": "code",
   "execution_count": null,
   "metadata": {},
   "outputs": [],
   "source": [
    "found_angle_minuit=m.params[2].value\n",
    "X0_found_minuit=m.params[0].value\n",
    "Y0_found_minuit=m.params[1].value"
   ]
  },
  {
   "cell_type": "code",
   "execution_count": null,
   "metadata": {},
   "outputs": [],
   "source": [
    "the_chi2=chi2func(Xdata,Ydata,alphadata,alphaerrdata,XX_ccd,YY_ccd,found_angle_minuit,c_Z1*zoom,Npar=2)"
   ]
  },
  {
   "cell_type": "code",
   "execution_count": null,
   "metadata": {},
   "outputs": [],
   "source": [
    "fig = plt.figure(figsize=(10,10))\n",
    "\n",
    "ax1 = fig.add_subplot(111)\n",
    "divider = make_axes_locatable(ax1)\n",
    "cax1 = divider.append_axes('right', size='5%', pad=0.05)\n",
    "\n",
    "the_chi2min=the_chi2.min()    # the minimum of chi2\n",
    "the_levels= the_chi2min + Q\n",
    "    \n",
    "im1=ax1.imshow(the_chi2,origin=\"lower\",cmap=\"jet\",extent=(XMIN,XMAX,YMIN,YMAX))\n",
    "h1 = ax1.contour(X_ccd,Y_ccd,the_chi2,levels=100,colors='w')\n",
    "#h1b = ax1.contour(X_ccd,Y_ccd,the_chi2,levels=[2.30+the_chi2.min()],colors='r',linewidths=2)\n",
    "h1b = ax1.contour(X_ccd,Y_ccd,the_chi2,levels=the_levels,colors=Qcolors,linewidths=2)\n",
    "\n",
    "cs = ax1.contour(X_ccd,Y_ccd,the_chi2,levels=[the_levels[0]],colors=Qcolors[0],linewidths=2)\n",
    "\n",
    "p = cs.collections[0].get_paths()[0]\n",
    "v = p.vertices\n",
    "xcont = v[:,0]\n",
    "ycont = v[:,1]\n",
    "\n",
    "\n",
    "cbar1=fig.colorbar(im1,cax=cax1,format=cbformat)\n",
    "cbar1.ax.get_yaxis().labelpad = 10\n",
    "cbar1.ax.set_ylabel('$\\\\chi^2$', rotation=90)\n",
    "ax1.set_xlabel(\"X (mm)\")\n",
    "ax1.set_ylabel(\"Y (mm)\")\n",
    "ax1.set_title(\"chi2, step 3\",fontweight=\"bold\",fontsize=25)\n",
    "ax1.grid(color=\"w\")\n",
    "\n",
    "\n",
    "#xy1_A=np.array([X0_found_1-c_d1/2,Y0_found_1])\n",
    "#xy1_B=np.array([X0_found_1+c_d1/2,Y0_found_1])\n",
    "\n",
    "#xy_A = x1y1toxy(xy1_A,c_alpha0)\n",
    "#xy_B = x1y1toxy(xy1_B,c_alpha0)\n",
    "\n",
    "#XY_A = xytoXY(xy_A,c_Z1*zoom)\n",
    "#XY_B = xytoXY(xy_B,c_Z1*zoom)\n",
    "\n",
    "ax1.scatter(X0_found_1,Y0_found_1,marker=\"o\",color=\"y\",s=100)\n",
    "#ax1.scatter(XY_A[0],XY_A[1],marker=\"o\",color=\"g\",s=100)\n",
    "#ax1.scatter(XY_B[0],XY_B[1],marker=\"o\",color=\"g\",s=100)\n",
    "\n",
    "ax1.scatter(Xdata,Ydata,marker=\"o\",color=\"gray\")\n",
    "\n",
    "ax1.set_title(\"Minuit result : $\\chi2$ minimisation\")\n"
   ]
  },
  {
   "cell_type": "code",
   "execution_count": null,
   "metadata": {},
   "outputs": [],
   "source": [
    "# homothecy\n",
    "zoom=1.\n",
    "xx_holo=XYtoxy(XX_ccd,c_Z1*zoom) \n",
    "yy_holo=XYtoxy(YY_ccd,c_Z1*zoom) \n",
    "\n",
    "# rotation\n",
    "(xx1_holo,yy1_holo)=xytox1y1_2D(xx_holo,yy_holo,found_angle_minuit,X0_found_minuit,Y0_found_minuit)\n",
    "Z_Phi_ccd_minuit=dd_phi(xx1_holo,yy1_holo)\n",
    "\n",
    "maxZ_Phi_minuit=np.max(np.abs(Z_Phi_ccd_minuit))"
   ]
  },
  {
   "cell_type": "code",
   "execution_count": null,
   "metadata": {},
   "outputs": [],
   "source": [
    "fig=plt.figure(figsize=(10,10))\n",
    "ax=fig.add_subplot(111)\n",
    "for idx in np.arange(NumberofPointsData):\n",
    "    x_i=Xdata[idx]\n",
    "    y_i=Ydata[idx]\n",
    "    slope=np.tan(alphadata[idx]*u_degtorad)\n",
    "    ax.scatter(x_i,y_i,marker=\"o\",color=\"g\")\n",
    "    x_1=-20\n",
    "    x_2=20\n",
    "    y_1=(x_1-x_i)*slope+y_i\n",
    "    y_2=(x_2-x_i)*slope+y_i\n",
    "    ax.plot([x_1,x_2],[y_1,y_2],color=\"g\",lw=1)\n",
    "    \n",
    "    \n",
    "#im=ax.imshow(Z_Phi_ccd_3,origin=\"lower\",cmap=\"seismic\",extent=(XMIN,XMAX,YMIN,YMAX),alpha=0.5,vmin=-maxZ_Phi_minuit,vmax=maxZ_Phi_minuit)\n",
    "h = ax.contour(X_ccd,Y_ccd,Z_Phi_ccd_minuit,levels=50,colors='orange',linewidth=6)\n",
    "\n",
    "xy_A = x1y1toxy(xy1_A,found_angle_minuit,X0_found_minuit,Y0_found_minuit)\n",
    "xy_B = x1y1toxy(xy1_B,found_angle_minuit,X0_found_minuit,Y0_found_minuit)\n",
    "\n",
    "\n",
    "XY_A = xytoXY(xy_A,c_Z1*zoom)\n",
    "XY_B = xytoXY(xy_B,c_Z1*zoom)\n",
    "\n",
    "ax.scatter(XY_A[0],XY_A[1],marker=\"o\",color=\"k\",s=100)\n",
    "ax.scatter(XY_B[0],XY_B[1],marker=\"o\",color=\"k\",s=100)\n",
    "\n",
    "ax.scatter(X0_found_minuit,Y0_found_minuit,marker=\"+\",color=\"b\",s=5000,lw=2)\n",
    "\n",
    "# center contour line\n",
    "ax.plot(xcont,ycont,'r-')\n",
    "\n",
    "# CCD border\n",
    "ax.plot([-20,-20],[-20,20],color=\"grey\",lw=5)\n",
    "ax.plot([20,20],[-20,20],color=\"grey\",lw=5)\n",
    "ax.plot([-20,20],[-20,-20],color=\"grey\",lw=5)\n",
    "ax.plot([-20,20],[20,20],color=\"grey\",lw=5)\n",
    "    \n",
    "ax.set_xlim(-30,30)\n",
    "ax.set_ylim(-30,30)\n",
    "\n",
    "ax.set_xlabel(\"X (mm)\")\n",
    "ax.set_ylabel(\"Y (mm)\")\n",
    "title=\"Final fit with Minuit  : alpha= {:3.2f} deg , (X0,Y0)= ({:3.2f},{:3.2f})\".format(found_angle_minuit,X0_found_minuit,Y0_found_minuit)\n",
    "ax.set_title(title,fontweight=\"bold\")\n",
    "ax.grid(color=\"w\")\n",
    "    "
   ]
  },
  {
   "cell_type": "code",
   "execution_count": null,
   "metadata": {},
   "outputs": [],
   "source": []
  }
 ],
 "metadata": {
  "kernelspec": {
   "display_name": "Python 3",
   "language": "python",
   "name": "python3"
  },
  "language_info": {
   "codemirror_mode": {
    "name": "ipython",
    "version": 3
   },
   "file_extension": ".py",
   "mimetype": "text/x-python",
   "name": "python",
   "nbconvert_exporter": "python",
   "pygments_lexer": "ipython3",
   "version": "3.8.5"
  },
  "toc": {
   "base_numbering": 1,
   "nav_menu": {},
   "number_sections": true,
   "sideBar": true,
   "skip_h1_title": false,
   "title_cell": "Table of Contents",
   "title_sidebar": "Contents",
   "toc_cell": false,
   "toc_position": {},
   "toc_section_display": true,
   "toc_window_display": false
  }
 },
 "nbformat": 4,
 "nbformat_minor": 4
}
