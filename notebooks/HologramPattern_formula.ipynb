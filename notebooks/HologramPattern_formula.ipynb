{
 "cells": [
  {
   "cell_type": "markdown",
   "metadata": {},
   "source": [
    "# TOOLS for Hologram reconstruction\n",
    "\n",
    "- author : Sylvie Dagoret-Campagne\n",
    "- affiliation : IJCLab/IN2P3/CNES, DESC-LSST fullmember, behalf AuxTel Teal VERA C. Rubin observatory\n",
    "- creation date : February 8th 2021\n",
    "\n",
    "\n",
    "Develop analytical formula using sympy"
   ]
  },
  {
   "cell_type": "code",
   "execution_count": 37,
   "metadata": {},
   "outputs": [],
   "source": [
    "import ipywidgets as widgets\n",
    "import sympy\n",
    "import numpy as np\n",
    "import matplotlib.pyplot as plt\n",
    "%matplotlib inline\n",
    "plt.rcParams[\"figure.figsize\"] = (16,4)"
   ]
  },
  {
   "cell_type": "markdown",
   "metadata": {},
   "source": [
    "# Constants"
   ]
  },
  {
   "cell_type": "markdown",
   "metadata": {},
   "source": [
    "## Hologram recording "
   ]
  },
  {
   "cell_type": "code",
   "execution_count": 38,
   "metadata": {},
   "outputs": [],
   "source": [
    "Z=200 # mm, distance between hologram and source plane"
   ]
  },
  {
   "cell_type": "code",
   "execution_count": 39,
   "metadata": {},
   "outputs": [],
   "source": [
    "x_A=0 # mm, position of the source A\n",
    "y_A=0 # mm, "
   ]
  },
  {
   "cell_type": "code",
   "execution_count": 40,
   "metadata": {},
   "outputs": [],
   "source": [
    "x_B=20 ## mm, position of the source B that will become the first order\n",
    "y_B=0 ## mm"
   ]
  },
  {
   "cell_type": "code",
   "execution_count": 41,
   "metadata": {},
   "outputs": [],
   "source": [
    "wl0=0.639e-3 ## recording wavelength in mm"
   ]
  },
  {
   "cell_type": "code",
   "execution_count": 42,
   "metadata": {},
   "outputs": [],
   "source": [
    "XMIN=-0.1\n",
    "XMAX=0.1\n",
    "YMIN=-0.1\n",
    "YMAX=0.1\n",
    "NPIX=5000"
   ]
  },
  {
   "cell_type": "markdown",
   "metadata": {},
   "source": [
    "# Sympy"
   ]
  },
  {
   "cell_type": "code",
   "execution_count": 43,
   "metadata": {},
   "outputs": [],
   "source": [
    "from sympy import *"
   ]
  },
  {
   "cell_type": "markdown",
   "metadata": {},
   "source": [
    "## Symbols"
   ]
  },
  {
   "cell_type": "code",
   "execution_count": 44,
   "metadata": {},
   "outputs": [],
   "source": [
    "x, y, Z, xA,yA,xB,yB = symbols('x y Z x_A,y_A,x_B,y_B')"
   ]
  },
  {
   "cell_type": "code",
   "execution_count": 45,
   "metadata": {},
   "outputs": [],
   "source": [
    "wl0 = symbols(r'\\lambda_0')"
   ]
  },
  {
   "cell_type": "code",
   "execution_count": 46,
   "metadata": {},
   "outputs": [
    {
     "data": {
      "text/latex": [
       "$\\displaystyle \\lambda_0$"
      ],
      "text/plain": [
       "\\lambda_0"
      ]
     },
     "execution_count": 46,
     "metadata": {},
     "output_type": "execute_result"
    }
   ],
   "source": [
    "wl0"
   ]
  },
  {
   "cell_type": "code",
   "execution_count": 47,
   "metadata": {},
   "outputs": [],
   "source": [
    "dA,dB,dPhi,I=symbols('dA dB d\\Phi I')"
   ]
  },
  {
   "cell_type": "code",
   "execution_count": 48,
   "metadata": {},
   "outputs": [],
   "source": [
    "dIdx,dIdy=symbols('dIdx dIdy')"
   ]
  },
  {
   "cell_type": "markdown",
   "metadata": {},
   "source": [
    "## Expression"
   ]
  },
  {
   "cell_type": "code",
   "execution_count": 49,
   "metadata": {},
   "outputs": [],
   "source": [
    "dA=sqrt( (x-xA)**2+(y-yA)**2+Z**2)"
   ]
  },
  {
   "cell_type": "code",
   "execution_count": 50,
   "metadata": {},
   "outputs": [],
   "source": [
    "dB=sqrt( (x-xB)**2+(y-yB)**2+Z**2)"
   ]
  },
  {
   "cell_type": "code",
   "execution_count": 51,
   "metadata": {},
   "outputs": [],
   "source": [
    "dPhi=2*pi/wl0*(dA-dB)"
   ]
  },
  {
   "cell_type": "code",
   "execution_count": 52,
   "metadata": {},
   "outputs": [
    {
     "data": {
      "text/latex": [
       "$\\displaystyle \\frac{2 \\pi \\left(\\sqrt{Z^{2} + \\left(x - x_{A}\\right)^{2} + \\left(y - y_{A}\\right)^{2}} - \\sqrt{Z^{2} + \\left(x - x_{B}\\right)^{2} + \\left(y - y_{B}\\right)^{2}}\\right)}{\\lambda_0}$"
      ],
      "text/plain": [
       "2*pi*(sqrt(Z**2 + (x - x_A)**2 + (y - y_A)**2) - sqrt(Z**2 + (x - x_B)**2 + (y - y_B)**2))/\\lambda_0"
      ]
     },
     "execution_count": 52,
     "metadata": {},
     "output_type": "execute_result"
    }
   ],
   "source": [
    "dPhi"
   ]
  },
  {
   "cell_type": "code",
   "execution_count": 53,
   "metadata": {},
   "outputs": [
    {
     "data": {
      "text/latex": [
       "$\\displaystyle \\sqrt{Z^{2} + \\left(x - x_{A}\\right)^{2} + \\left(y - y_{A}\\right)^{2}} - \\sqrt{Z^{2} + \\left(x - x_{B}\\right)^{2} + \\left(y - y_{B}\\right)^{2}}$"
      ],
      "text/plain": [
       "sqrt(Z**2 + (x - x_A)**2 + (y - y_A)**2) - sqrt(Z**2 + (x - x_B)**2 + (y - y_B)**2)"
      ]
     },
     "execution_count": 53,
     "metadata": {},
     "output_type": "execute_result"
    }
   ],
   "source": [
    "dA-dB"
   ]
  },
  {
   "cell_type": "code",
   "execution_count": 54,
   "metadata": {},
   "outputs": [
    {
     "data": {
      "text/latex": [
       "$\\displaystyle \\sqrt{Z^{2} + \\left(x - x_{A}\\right)^{2} + \\left(y - y_{A}\\right)^{2}}$"
      ],
      "text/plain": [
       "sqrt(Z**2 + (x - x_A)**2 + (y - y_A)**2)"
      ]
     },
     "execution_count": 54,
     "metadata": {},
     "output_type": "execute_result"
    }
   ],
   "source": [
    "dA"
   ]
  },
  {
   "cell_type": "code",
   "execution_count": 55,
   "metadata": {},
   "outputs": [
    {
     "data": {
      "text/latex": [
       "$\\displaystyle \\sqrt{Z^{2} + \\left(x - x_{B}\\right)^{2} + \\left(y - y_{B}\\right)^{2}}$"
      ],
      "text/plain": [
       "sqrt(Z**2 + (x - x_B)**2 + (y - y_B)**2)"
      ]
     },
     "execution_count": 55,
     "metadata": {},
     "output_type": "execute_result"
    }
   ],
   "source": [
    "dB"
   ]
  },
  {
   "cell_type": "code",
   "execution_count": 56,
   "metadata": {},
   "outputs": [],
   "source": [
    "I= 0.5*(cos(dPhi)+1)"
   ]
  },
  {
   "cell_type": "code",
   "execution_count": 57,
   "metadata": {},
   "outputs": [
    {
     "data": {
      "text/latex": [
       "$\\displaystyle 0.5 \\cos{\\left(\\frac{2 \\pi \\left(\\sqrt{Z^{2} + \\left(x - x_{A}\\right)^{2} + \\left(y - y_{A}\\right)^{2}} - \\sqrt{Z^{2} + \\left(x - x_{B}\\right)^{2} + \\left(y - y_{B}\\right)^{2}}\\right)}{\\lambda_0} \\right)} + 0.5$"
      ],
      "text/plain": [
       "0.5*cos(2*pi*(sqrt(Z**2 + (x - x_A)**2 + (y - y_A)**2) - sqrt(Z**2 + (x - x_B)**2 + (y - y_B)**2))/\\lambda_0) + 0.5"
      ]
     },
     "execution_count": 57,
     "metadata": {},
     "output_type": "execute_result"
    }
   ],
   "source": [
    "I"
   ]
  },
  {
   "cell_type": "code",
   "execution_count": 58,
   "metadata": {},
   "outputs": [
    {
     "data": {
      "text/latex": [
       "$\\displaystyle - \\frac{1.0 \\pi \\left(\\frac{x - x_{A}}{\\sqrt{Z^{2} + \\left(x - x_{A}\\right)^{2} + \\left(y - y_{A}\\right)^{2}}} - \\frac{x - x_{B}}{\\sqrt{Z^{2} + \\left(x - x_{B}\\right)^{2} + \\left(y - y_{B}\\right)^{2}}}\\right) \\sin{\\left(\\frac{2 \\pi \\left(\\sqrt{Z^{2} + \\left(x - x_{A}\\right)^{2} + \\left(y - y_{A}\\right)^{2}} - \\sqrt{Z^{2} + \\left(x - x_{B}\\right)^{2} + \\left(y - y_{B}\\right)^{2}}\\right)}{\\lambda_0} \\right)}}{\\lambda_0}$"
      ],
      "text/plain": [
       "-1.0*pi*((x - x_A)/sqrt(Z**2 + (x - x_A)**2 + (y - y_A)**2) - (x - x_B)/sqrt(Z**2 + (x - x_B)**2 + (y - y_B)**2))*sin(2*pi*(sqrt(Z**2 + (x - x_A)**2 + (y - y_A)**2) - sqrt(Z**2 + (x - x_B)**2 + (y - y_B)**2))/\\lambda_0)/\\lambda_0"
      ]
     },
     "execution_count": 58,
     "metadata": {},
     "output_type": "execute_result"
    }
   ],
   "source": [
    "dIdx=diff(I,x)\n",
    "dIdx"
   ]
  },
  {
   "cell_type": "code",
   "execution_count": 59,
   "metadata": {},
   "outputs": [
    {
     "data": {
      "text/latex": [
       "$\\displaystyle - \\frac{1.0 \\pi \\left(\\frac{y - y_{A}}{\\sqrt{Z^{2} + \\left(x - x_{A}\\right)^{2} + \\left(y - y_{A}\\right)^{2}}} - \\frac{y - y_{B}}{\\sqrt{Z^{2} + \\left(x - x_{B}\\right)^{2} + \\left(y - y_{B}\\right)^{2}}}\\right) \\sin{\\left(\\frac{2 \\pi \\left(\\sqrt{Z^{2} + \\left(x - x_{A}\\right)^{2} + \\left(y - y_{A}\\right)^{2}} - \\sqrt{Z^{2} + \\left(x - x_{B}\\right)^{2} + \\left(y - y_{B}\\right)^{2}}\\right)}{\\lambda_0} \\right)}}{\\lambda_0}$"
      ],
      "text/plain": [
       "-1.0*pi*((y - y_A)/sqrt(Z**2 + (x - x_A)**2 + (y - y_A)**2) - (y - y_B)/sqrt(Z**2 + (x - x_B)**2 + (y - y_B)**2))*sin(2*pi*(sqrt(Z**2 + (x - x_A)**2 + (y - y_A)**2) - sqrt(Z**2 + (x - x_B)**2 + (y - y_B)**2))/\\lambda_0)/\\lambda_0"
      ]
     },
     "execution_count": 59,
     "metadata": {},
     "output_type": "execute_result"
    }
   ],
   "source": [
    "dIdy=diff(I,y)\n",
    "dIdy"
   ]
  },
  {
   "cell_type": "code",
   "execution_count": 60,
   "metadata": {},
   "outputs": [
    {
     "data": {
      "text/latex": [
       "$\\displaystyle - \\frac{1.0 \\pi \\left(\\frac{\\left(- x + x_{A}\\right) \\left(x - x_{A}\\right)}{\\left(Z^{2} + \\left(x - x_{A}\\right)^{2} + \\left(y - y_{A}\\right)^{2}\\right)^{\\frac{3}{2}}} - \\frac{\\left(- x + x_{B}\\right) \\left(x - x_{B}\\right)}{\\left(Z^{2} + \\left(x - x_{B}\\right)^{2} + \\left(y - y_{B}\\right)^{2}\\right)^{\\frac{3}{2}}} - \\frac{1}{\\sqrt{Z^{2} + \\left(x - x_{B}\\right)^{2} + \\left(y - y_{B}\\right)^{2}}} + \\frac{1}{\\sqrt{Z^{2} + \\left(x - x_{A}\\right)^{2} + \\left(y - y_{A}\\right)^{2}}}\\right) \\sin{\\left(\\frac{2 \\pi \\left(\\sqrt{Z^{2} + \\left(x - x_{A}\\right)^{2} + \\left(y - y_{A}\\right)^{2}} - \\sqrt{Z^{2} + \\left(x - x_{B}\\right)^{2} + \\left(y - y_{B}\\right)^{2}}\\right)}{\\lambda_0} \\right)}}{\\lambda_0} - \\frac{2.0 \\pi^{2} \\left(\\frac{x - x_{A}}{\\sqrt{Z^{2} + \\left(x - x_{A}\\right)^{2} + \\left(y - y_{A}\\right)^{2}}} - \\frac{x - x_{B}}{\\sqrt{Z^{2} + \\left(x - x_{B}\\right)^{2} + \\left(y - y_{B}\\right)^{2}}}\\right)^{2} \\cos{\\left(\\frac{2 \\pi \\left(\\sqrt{Z^{2} + \\left(x - x_{A}\\right)^{2} + \\left(y - y_{A}\\right)^{2}} - \\sqrt{Z^{2} + \\left(x - x_{B}\\right)^{2} + \\left(y - y_{B}\\right)^{2}}\\right)}{\\lambda_0} \\right)}}{\\lambda_0^{2}}$"
      ],
      "text/plain": [
       "-1.0*pi*((-x + x_A)*(x - x_A)/(Z**2 + (x - x_A)**2 + (y - y_A)**2)**(3/2) - (-x + x_B)*(x - x_B)/(Z**2 + (x - x_B)**2 + (y - y_B)**2)**(3/2) - 1/sqrt(Z**2 + (x - x_B)**2 + (y - y_B)**2) + 1/sqrt(Z**2 + (x - x_A)**2 + (y - y_A)**2))*sin(2*pi*(sqrt(Z**2 + (x - x_A)**2 + (y - y_A)**2) - sqrt(Z**2 + (x - x_B)**2 + (y - y_B)**2))/\\lambda_0)/\\lambda_0 - 2.0*pi**2*((x - x_A)/sqrt(Z**2 + (x - x_A)**2 + (y - y_A)**2) - (x - x_B)/sqrt(Z**2 + (x - x_B)**2 + (y - y_B)**2))**2*cos(2*pi*(sqrt(Z**2 + (x - x_A)**2 + (y - y_A)**2) - sqrt(Z**2 + (x - x_B)**2 + (y - y_B)**2))/\\lambda_0)/\\lambda_0**2"
      ]
     },
     "execution_count": 60,
     "metadata": {},
     "output_type": "execute_result"
    }
   ],
   "source": [
    "diff(dIdx,x)"
   ]
  },
  {
   "cell_type": "code",
   "execution_count": 61,
   "metadata": {},
   "outputs": [
    {
     "data": {
      "text/latex": [
       "$\\displaystyle - \\frac{1.0 \\pi \\left(\\frac{\\left(- y + y_{A}\\right) \\left(y - y_{A}\\right)}{\\left(Z^{2} + \\left(x - x_{A}\\right)^{2} + \\left(y - y_{A}\\right)^{2}\\right)^{\\frac{3}{2}}} - \\frac{\\left(- y + y_{B}\\right) \\left(y - y_{B}\\right)}{\\left(Z^{2} + \\left(x - x_{B}\\right)^{2} + \\left(y - y_{B}\\right)^{2}\\right)^{\\frac{3}{2}}} - \\frac{1}{\\sqrt{Z^{2} + \\left(x - x_{B}\\right)^{2} + \\left(y - y_{B}\\right)^{2}}} + \\frac{1}{\\sqrt{Z^{2} + \\left(x - x_{A}\\right)^{2} + \\left(y - y_{A}\\right)^{2}}}\\right) \\sin{\\left(\\frac{2 \\pi \\left(\\sqrt{Z^{2} + \\left(x - x_{A}\\right)^{2} + \\left(y - y_{A}\\right)^{2}} - \\sqrt{Z^{2} + \\left(x - x_{B}\\right)^{2} + \\left(y - y_{B}\\right)^{2}}\\right)}{\\lambda_0} \\right)}}{\\lambda_0} - \\frac{2.0 \\pi^{2} \\left(\\frac{y - y_{A}}{\\sqrt{Z^{2} + \\left(x - x_{A}\\right)^{2} + \\left(y - y_{A}\\right)^{2}}} - \\frac{y - y_{B}}{\\sqrt{Z^{2} + \\left(x - x_{B}\\right)^{2} + \\left(y - y_{B}\\right)^{2}}}\\right)^{2} \\cos{\\left(\\frac{2 \\pi \\left(\\sqrt{Z^{2} + \\left(x - x_{A}\\right)^{2} + \\left(y - y_{A}\\right)^{2}} - \\sqrt{Z^{2} + \\left(x - x_{B}\\right)^{2} + \\left(y - y_{B}\\right)^{2}}\\right)}{\\lambda_0} \\right)}}{\\lambda_0^{2}}$"
      ],
      "text/plain": [
       "-1.0*pi*((-y + y_A)*(y - y_A)/(Z**2 + (x - x_A)**2 + (y - y_A)**2)**(3/2) - (-y + y_B)*(y - y_B)/(Z**2 + (x - x_B)**2 + (y - y_B)**2)**(3/2) - 1/sqrt(Z**2 + (x - x_B)**2 + (y - y_B)**2) + 1/sqrt(Z**2 + (x - x_A)**2 + (y - y_A)**2))*sin(2*pi*(sqrt(Z**2 + (x - x_A)**2 + (y - y_A)**2) - sqrt(Z**2 + (x - x_B)**2 + (y - y_B)**2))/\\lambda_0)/\\lambda_0 - 2.0*pi**2*((y - y_A)/sqrt(Z**2 + (x - x_A)**2 + (y - y_A)**2) - (y - y_B)/sqrt(Z**2 + (x - x_B)**2 + (y - y_B)**2))**2*cos(2*pi*(sqrt(Z**2 + (x - x_A)**2 + (y - y_A)**2) - sqrt(Z**2 + (x - x_B)**2 + (y - y_B)**2))/\\lambda_0)/\\lambda_0**2"
      ]
     },
     "execution_count": 61,
     "metadata": {},
     "output_type": "execute_result"
    }
   ],
   "source": [
    "diff(dIdy,y)"
   ]
  },
  {
   "cell_type": "markdown",
   "metadata": {},
   "source": [
    "# Simplification"
   ]
  },
  {
   "cell_type": "code",
   "execution_count": 70,
   "metadata": {},
   "outputs": [],
   "source": [
    "dA=sqrt( (x)**2+(y)**2+Z**2)\n",
    "dB=sqrt( (x-xB)**2+(y)**2+Z**2)\n",
    "dPhi=2*pi/wl0*(dA-dB)\n",
    "I= 1/2*(cos(dPhi)+1)"
   ]
  },
  {
   "cell_type": "code",
   "execution_count": 71,
   "metadata": {},
   "outputs": [
    {
     "data": {
      "text/latex": [
       "$\\displaystyle \\frac{2 \\pi \\left(\\sqrt{Z^{2} + x^{2} + y^{2}} - \\sqrt{Z^{2} + y^{2} + \\left(x - x_{B}\\right)^{2}}\\right)}{\\lambda_0}$"
      ],
      "text/plain": [
       "2*pi*(sqrt(Z**2 + x**2 + y**2) - sqrt(Z**2 + y**2 + (x - x_B)**2))/\\lambda_0"
      ]
     },
     "execution_count": 71,
     "metadata": {},
     "output_type": "execute_result"
    }
   ],
   "source": [
    "dPhi"
   ]
  },
  {
   "cell_type": "code",
   "execution_count": 72,
   "metadata": {},
   "outputs": [
    {
     "data": {
      "text/latex": [
       "$\\displaystyle 0.5 \\cos{\\left(\\frac{2 \\pi \\left(\\sqrt{Z^{2} + x^{2} + y^{2}} - \\sqrt{Z^{2} + y^{2} + \\left(x - x_{B}\\right)^{2}}\\right)}{\\lambda_0} \\right)} + 0.5$"
      ],
      "text/plain": [
       "0.5*cos(2*pi*(sqrt(Z**2 + x**2 + y**2) - sqrt(Z**2 + y**2 + (x - x_B)**2))/\\lambda_0) + 0.5"
      ]
     },
     "execution_count": 72,
     "metadata": {},
     "output_type": "execute_result"
    }
   ],
   "source": [
    "I"
   ]
  },
  {
   "cell_type": "code",
   "execution_count": 73,
   "metadata": {},
   "outputs": [
    {
     "data": {
      "text/latex": [
       "$\\displaystyle - \\frac{1.0 \\pi \\left(\\frac{x}{\\sqrt{Z^{2} + x^{2} + y^{2}}} - \\frac{x - x_{B}}{\\sqrt{Z^{2} + y^{2} + \\left(x - x_{B}\\right)^{2}}}\\right) \\sin{\\left(\\frac{2 \\pi \\left(\\sqrt{Z^{2} + x^{2} + y^{2}} - \\sqrt{Z^{2} + y^{2} + \\left(x - x_{B}\\right)^{2}}\\right)}{\\lambda_0} \\right)}}{\\lambda_0}$"
      ],
      "text/plain": [
       "-1.0*pi*(x/sqrt(Z**2 + x**2 + y**2) - (x - x_B)/sqrt(Z**2 + y**2 + (x - x_B)**2))*sin(2*pi*(sqrt(Z**2 + x**2 + y**2) - sqrt(Z**2 + y**2 + (x - x_B)**2))/\\lambda_0)/\\lambda_0"
      ]
     },
     "execution_count": 73,
     "metadata": {},
     "output_type": "execute_result"
    }
   ],
   "source": [
    "dIdx=diff(I,x)\n",
    "dIdx"
   ]
  },
  {
   "cell_type": "code",
   "execution_count": 66,
   "metadata": {},
   "outputs": [
    {
     "data": {
      "text/latex": [
       "$\\displaystyle - \\frac{1.0 \\pi \\left(- \\frac{y}{\\sqrt{Z^{2} + y^{2} + \\left(x - x_{B}\\right)^{2}}} + \\frac{y}{\\sqrt{Z^{2} + x^{2} + y^{2}}}\\right) \\sin{\\left(\\frac{2 \\pi \\left(\\sqrt{Z^{2} + x^{2} + y^{2}} - \\sqrt{Z^{2} + y^{2} + \\left(x - x_{B}\\right)^{2}}\\right)}{\\lambda_0} \\right)}}{\\lambda_0}$"
      ],
      "text/plain": [
       "-1.0*pi*(-y/sqrt(Z**2 + y**2 + (x - x_B)**2) + y/sqrt(Z**2 + x**2 + y**2))*sin(2*pi*(sqrt(Z**2 + x**2 + y**2) - sqrt(Z**2 + y**2 + (x - x_B)**2))/\\lambda_0)/\\lambda_0"
      ]
     },
     "execution_count": 66,
     "metadata": {},
     "output_type": "execute_result"
    }
   ],
   "source": [
    "dIdy=diff(I,y)\n",
    "dIdy"
   ]
  },
  {
   "cell_type": "markdown",
   "metadata": {},
   "source": [
    "# Taylor expansion"
   ]
  },
  {
   "cell_type": "code",
   "execution_count": 67,
   "metadata": {},
   "outputs": [],
   "source": [
    "x, y, Z = symbols('x y Z')"
   ]
  },
  {
   "cell_type": "code",
   "execution_count": 68,
   "metadata": {},
   "outputs": [],
   "source": [
    "xA,yA,xB,yB= symbols(r'x_A y_A x_B y_B')"
   ]
  },
  {
   "cell_type": "code",
   "execution_count": 74,
   "metadata": {},
   "outputs": [],
   "source": [
    "dA,dB=symbols(r'd_A d_B')"
   ]
  },
  {
   "cell_type": "code",
   "execution_count": 78,
   "metadata": {},
   "outputs": [],
   "source": [
    "dA=Z*sqrt(1+(x-xA)**2/Z**2 +(y-yA)**2/Z**2)\n",
    "dB=Z*sqrt(1+(x-xA)**2/Z**2 +(y-yA)**2/Z**2)"
   ]
  },
  {
   "cell_type": "code",
   "execution_count": 79,
   "metadata": {},
   "outputs": [
    {
     "data": {
      "text/latex": [
       "$\\displaystyle Z \\sqrt{1 + \\frac{\\left(x - x_{A}\\right)^{2}}{Z^{2}} + \\frac{\\left(y - y_{A}\\right)^{2}}{Z^{2}}}$"
      ],
      "text/plain": [
       "Z*sqrt(1 + (x - x_A)**2/Z**2 + (y - y_A)**2/Z**2)"
      ]
     },
     "execution_count": 79,
     "metadata": {},
     "output_type": "execute_result"
    }
   ],
   "source": [
    "dA"
   ]
  },
  {
   "cell_type": "code",
   "execution_count": 80,
   "metadata": {},
   "outputs": [
    {
     "data": {
      "text/latex": [
       "$\\displaystyle Z \\sqrt{1 + \\frac{\\left(x - x_{A}\\right)^{2}}{Z^{2}} + \\frac{\\left(y - y_{A}\\right)^{2}}{Z^{2}}}$"
      ],
      "text/plain": [
       "Z*sqrt(1 + (x - x_A)**2/Z**2 + (y - y_A)**2/Z**2)"
      ]
     },
     "execution_count": 80,
     "metadata": {},
     "output_type": "execute_result"
    }
   ],
   "source": [
    "dB"
   ]
  },
  {
   "cell_type": "code",
   "execution_count": 106,
   "metadata": {},
   "outputs": [
    {
     "data": {
      "text/latex": [
       "$\\displaystyle 1 + \\frac{x}{2} - \\frac{x^{2}}{8} + O\\left(x^{3}\\right)$"
      ],
      "text/plain": [
       "1 + x/2 - x**2/8 + O(x**3)"
      ]
     },
     "execution_count": 106,
     "metadata": {},
     "output_type": "execute_result"
    }
   ],
   "source": [
    "series(sqrt(1+x),x,0,3)"
   ]
  },
  {
   "cell_type": "code",
   "execution_count": 105,
   "metadata": {},
   "outputs": [],
   "source": [
    "dA=Z*( 1+0.5*((x-xA)**2/Z**2 + (y-yA)**2/Z**2) -0.25*( (x-xA)**2/Z**2 + (y-yA)**2/Z**2)**2)\n",
    "dB=Z*( 1+0.5*((x-xB)**2/Z**2 + (y-yB)**2/Z**2) -0.25*( (x-xB)**2/Z**2 + (y-yB)**2/Z**2)**2)"
   ]
  },
  {
   "cell_type": "code",
   "execution_count": 103,
   "metadata": {},
   "outputs": [
    {
     "data": {
      "text/latex": [
       "$\\displaystyle Z \\left(- 0.25 \\left(\\frac{\\left(x - x_{A}\\right)^{2}}{Z^{2}} + \\frac{\\left(y - y_{A}\\right)^{2}}{Z^{2}}\\right)^{2} + 1 + \\frac{0.5 \\left(x - x_{A}\\right)^{2}}{Z^{2}} + \\frac{0.5 \\left(y - y_{A}\\right)^{2}}{Z^{2}}\\right)$"
      ],
      "text/plain": [
       "Z*(-0.25*((x - x_A)**2/Z**2 + (y - y_A)**2/Z**2)**2 + 1 + 0.5*(x - x_A)**2/Z**2 + 0.5*(y - y_A)**2/Z**2)"
      ]
     },
     "execution_count": 103,
     "metadata": {},
     "output_type": "execute_result"
    }
   ],
   "source": [
    "dA"
   ]
  },
  {
   "cell_type": "code",
   "execution_count": 107,
   "metadata": {},
   "outputs": [
    {
     "data": {
      "text/latex": [
       "$\\displaystyle Z \\left(- 0.25 \\left(\\frac{\\left(x - x_{B}\\right)^{2}}{Z^{2}} + \\frac{\\left(y - y_{B}\\right)^{2}}{Z^{2}}\\right)^{2} + 1 + \\frac{0.5 \\left(x - x_{B}\\right)^{2}}{Z^{2}} + \\frac{0.5 \\left(y - y_{B}\\right)^{2}}{Z^{2}}\\right)$"
      ],
      "text/plain": [
       "Z*(-0.25*((x - x_B)**2/Z**2 + (y - y_B)**2/Z**2)**2 + 1 + 0.5*(x - x_B)**2/Z**2 + 0.5*(y - y_B)**2/Z**2)"
      ]
     },
     "execution_count": 107,
     "metadata": {},
     "output_type": "execute_result"
    }
   ],
   "source": [
    "dB"
   ]
  },
  {
   "cell_type": "code",
   "execution_count": 108,
   "metadata": {},
   "outputs": [
    {
     "data": {
      "text/latex": [
       "$\\displaystyle Z \\left(- 0.25 \\left(\\frac{\\left(x - x_{A}\\right)^{2}}{Z^{2}} + \\frac{\\left(y - y_{A}\\right)^{2}}{Z^{2}}\\right)^{2} + 1 + \\frac{0.5 \\left(x - x_{A}\\right)^{2}}{Z^{2}} + \\frac{0.5 \\left(y - y_{A}\\right)^{2}}{Z^{2}}\\right) - Z \\left(- 0.25 \\left(\\frac{\\left(x - x_{B}\\right)^{2}}{Z^{2}} + \\frac{\\left(y - y_{B}\\right)^{2}}{Z^{2}}\\right)^{2} + 1 + \\frac{0.5 \\left(x - x_{B}\\right)^{2}}{Z^{2}} + \\frac{0.5 \\left(y - y_{B}\\right)^{2}}{Z^{2}}\\right)$"
      ],
      "text/plain": [
       "Z*(-0.25*((x - x_A)**2/Z**2 + (y - y_A)**2/Z**2)**2 + 1 + 0.5*(x - x_A)**2/Z**2 + 0.5*(y - y_A)**2/Z**2) - Z*(-0.25*((x - x_B)**2/Z**2 + (y - y_B)**2/Z**2)**2 + 1 + 0.5*(x - x_B)**2/Z**2 + 0.5*(y - y_B)**2/Z**2)"
      ]
     },
     "execution_count": 108,
     "metadata": {},
     "output_type": "execute_result"
    }
   ],
   "source": [
    "dA-dB"
   ]
  },
  {
   "cell_type": "code",
   "execution_count": null,
   "metadata": {},
   "outputs": [],
   "source": []
  }
 ],
 "metadata": {
  "kernelspec": {
   "display_name": "Python 3",
   "language": "python",
   "name": "python3"
  },
  "language_info": {
   "codemirror_mode": {
    "name": "ipython",
    "version": 3
   },
   "file_extension": ".py",
   "mimetype": "text/x-python",
   "name": "python",
   "nbconvert_exporter": "python",
   "pygments_lexer": "ipython3",
   "version": "3.7.7"
  },
  "toc": {
   "base_numbering": 1,
   "nav_menu": {},
   "number_sections": true,
   "sideBar": true,
   "skip_h1_title": false,
   "title_cell": "Table of Contents",
   "title_sidebar": "Contents",
   "toc_cell": false,
   "toc_position": {},
   "toc_section_display": true,
   "toc_window_display": false
  }
 },
 "nbformat": 4,
 "nbformat_minor": 4
}
