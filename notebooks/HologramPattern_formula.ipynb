{
 "cells": [
  {
   "cell_type": "markdown",
   "metadata": {},
   "source": [
    "# TOOLS for Hologram reconstruction\n",
    "\n",
    "- author : Sylvie Dagoret-Campagne\n",
    "- affiliation : IJCLab/IN2P3/CNES, DESC-LSST fullmember, behalf AuxTel Teal VERA C. Rubin observatory\n",
    "- creation date : February 8th 2021"
   ]
  },
  {
   "cell_type": "code",
   "execution_count": 1,
   "metadata": {},
   "outputs": [],
   "source": [
    "import ipywidgets as widgets\n",
    "import sympy\n",
    "import numpy as np\n",
    "import matplotlib.pyplot as plt\n",
    "%matplotlib inline\n",
    "plt.rcParams[\"figure.figsize\"] = (16,4)"
   ]
  },
  {
   "cell_type": "markdown",
   "metadata": {},
   "source": [
    "# Constants"
   ]
  },
  {
   "cell_type": "markdown",
   "metadata": {},
   "source": [
    "## Hologram recording "
   ]
  },
  {
   "cell_type": "code",
   "execution_count": 2,
   "metadata": {},
   "outputs": [],
   "source": [
    "Z=200 # mm, distance between hologram and source plane"
   ]
  },
  {
   "cell_type": "code",
   "execution_count": 3,
   "metadata": {},
   "outputs": [],
   "source": [
    "x_A=0 # mm, position of the source A\n",
    "y_A=0 # mm, "
   ]
  },
  {
   "cell_type": "code",
   "execution_count": 4,
   "metadata": {},
   "outputs": [],
   "source": [
    "x_B=20 ## mm, position of the source B that will become the first order\n",
    "y_B=0 ## mm"
   ]
  },
  {
   "cell_type": "code",
   "execution_count": 5,
   "metadata": {},
   "outputs": [],
   "source": [
    "wl0=0.639e-3 ## recording wavelength in mm"
   ]
  },
  {
   "cell_type": "code",
   "execution_count": 6,
   "metadata": {},
   "outputs": [],
   "source": [
    "XMIN=-0.1\n",
    "XMAX=0.1\n",
    "YMIN=-0.1\n",
    "YMAX=0.1\n",
    "NPIX=5000"
   ]
  },
  {
   "cell_type": "markdown",
   "metadata": {},
   "source": [
    "# Sympy"
   ]
  },
  {
   "cell_type": "code",
   "execution_count": 7,
   "metadata": {},
   "outputs": [],
   "source": [
    "from sympy import *"
   ]
  },
  {
   "cell_type": "code",
   "execution_count": 8,
   "metadata": {},
   "outputs": [],
   "source": [
    "x, y, Z, xA,yA,xB,yB = symbols('x y Z xA,yA,xB,yB')"
   ]
  },
  {
   "cell_type": "code",
   "execution_count": 9,
   "metadata": {},
   "outputs": [],
   "source": [
    "wl0 = symbols(r'\\lambda_0')"
   ]
  },
  {
   "cell_type": "code",
   "execution_count": 10,
   "metadata": {},
   "outputs": [
    {
     "data": {
      "text/latex": [
       "$\\displaystyle \\lambda_0$"
      ],
      "text/plain": [
       "\\lambda_0"
      ]
     },
     "execution_count": 10,
     "metadata": {},
     "output_type": "execute_result"
    }
   ],
   "source": [
    "wl0"
   ]
  },
  {
   "cell_type": "code",
   "execution_count": 11,
   "metadata": {},
   "outputs": [],
   "source": [
    "dA,dB,dPhi,I=symbols('dA dB dPhi I')"
   ]
  },
  {
   "cell_type": "code",
   "execution_count": 12,
   "metadata": {},
   "outputs": [],
   "source": [
    "dIdx,dIdy=symbols('dIdx dIdy')"
   ]
  },
  {
   "cell_type": "code",
   "execution_count": 13,
   "metadata": {},
   "outputs": [],
   "source": [
    "dA=sqrt( (x-xA)**2+(y-yA)**2+Z**2)"
   ]
  },
  {
   "cell_type": "code",
   "execution_count": 14,
   "metadata": {},
   "outputs": [],
   "source": [
    "dB=sqrt( (x-xB)**2+(y-yB)**2+Z**2)"
   ]
  },
  {
   "cell_type": "code",
   "execution_count": 15,
   "metadata": {},
   "outputs": [],
   "source": [
    "dPhi=2*pi/wl0*(dA-dB)"
   ]
  },
  {
   "cell_type": "code",
   "execution_count": 16,
   "metadata": {},
   "outputs": [
    {
     "data": {
      "text/latex": [
       "$\\displaystyle \\frac{2 \\pi \\left(\\sqrt{Z^{2} + \\left(x - xA\\right)^{2} + \\left(y - yA\\right)^{2}} - \\sqrt{Z^{2} + \\left(x - xB\\right)^{2} + \\left(y - yB\\right)^{2}}\\right)}{\\lambda_0}$"
      ],
      "text/plain": [
       "2*pi*(sqrt(Z**2 + (x - xA)**2 + (y - yA)**2) - sqrt(Z**2 + (x - xB)**2 + (y - yB)**2))/\\lambda_0"
      ]
     },
     "execution_count": 16,
     "metadata": {},
     "output_type": "execute_result"
    }
   ],
   "source": [
    "dPhi"
   ]
  },
  {
   "cell_type": "code",
   "execution_count": 17,
   "metadata": {},
   "outputs": [
    {
     "data": {
      "text/latex": [
       "$\\displaystyle \\sqrt{Z^{2} + \\left(x - xA\\right)^{2} + \\left(y - yA\\right)^{2}} - \\sqrt{Z^{2} + \\left(x - xB\\right)^{2} + \\left(y - yB\\right)^{2}}$"
      ],
      "text/plain": [
       "sqrt(Z**2 + (x - xA)**2 + (y - yA)**2) - sqrt(Z**2 + (x - xB)**2 + (y - yB)**2)"
      ]
     },
     "execution_count": 17,
     "metadata": {},
     "output_type": "execute_result"
    }
   ],
   "source": [
    "dA-dB"
   ]
  },
  {
   "cell_type": "code",
   "execution_count": 18,
   "metadata": {},
   "outputs": [
    {
     "data": {
      "text/latex": [
       "$\\displaystyle \\sqrt{Z^{2} + \\left(x - xA\\right)^{2} + \\left(y - yA\\right)^{2}}$"
      ],
      "text/plain": [
       "sqrt(Z**2 + (x - xA)**2 + (y - yA)**2)"
      ]
     },
     "execution_count": 18,
     "metadata": {},
     "output_type": "execute_result"
    }
   ],
   "source": [
    "dA"
   ]
  },
  {
   "cell_type": "code",
   "execution_count": 19,
   "metadata": {},
   "outputs": [
    {
     "data": {
      "text/latex": [
       "$\\displaystyle \\sqrt{Z^{2} + \\left(x - xB\\right)^{2} + \\left(y - yB\\right)^{2}}$"
      ],
      "text/plain": [
       "sqrt(Z**2 + (x - xB)**2 + (y - yB)**2)"
      ]
     },
     "execution_count": 19,
     "metadata": {},
     "output_type": "execute_result"
    }
   ],
   "source": [
    "dB"
   ]
  },
  {
   "cell_type": "code",
   "execution_count": 20,
   "metadata": {},
   "outputs": [],
   "source": [
    "I= 0.5*(cos(dPhi)+1)"
   ]
  },
  {
   "cell_type": "code",
   "execution_count": 21,
   "metadata": {},
   "outputs": [
    {
     "data": {
      "text/latex": [
       "$\\displaystyle 0.5 \\cos{\\left(\\frac{2 \\pi \\left(\\sqrt{Z^{2} + \\left(x - xA\\right)^{2} + \\left(y - yA\\right)^{2}} - \\sqrt{Z^{2} + \\left(x - xB\\right)^{2} + \\left(y - yB\\right)^{2}}\\right)}{\\lambda_0} \\right)} + 0.5$"
      ],
      "text/plain": [
       "0.5*cos(2*pi*(sqrt(Z**2 + (x - xA)**2 + (y - yA)**2) - sqrt(Z**2 + (x - xB)**2 + (y - yB)**2))/\\lambda_0) + 0.5"
      ]
     },
     "execution_count": 21,
     "metadata": {},
     "output_type": "execute_result"
    }
   ],
   "source": [
    "I"
   ]
  },
  {
   "cell_type": "code",
   "execution_count": 22,
   "metadata": {},
   "outputs": [
    {
     "data": {
      "text/latex": [
       "$\\displaystyle - \\frac{1.0 \\pi \\left(\\frac{x - xA}{\\sqrt{Z^{2} + \\left(x - xA\\right)^{2} + \\left(y - yA\\right)^{2}}} - \\frac{x - xB}{\\sqrt{Z^{2} + \\left(x - xB\\right)^{2} + \\left(y - yB\\right)^{2}}}\\right) \\sin{\\left(\\frac{2 \\pi \\left(\\sqrt{Z^{2} + \\left(x - xA\\right)^{2} + \\left(y - yA\\right)^{2}} - \\sqrt{Z^{2} + \\left(x - xB\\right)^{2} + \\left(y - yB\\right)^{2}}\\right)}{\\lambda_0} \\right)}}{\\lambda_0}$"
      ],
      "text/plain": [
       "-1.0*pi*((x - xA)/sqrt(Z**2 + (x - xA)**2 + (y - yA)**2) - (x - xB)/sqrt(Z**2 + (x - xB)**2 + (y - yB)**2))*sin(2*pi*(sqrt(Z**2 + (x - xA)**2 + (y - yA)**2) - sqrt(Z**2 + (x - xB)**2 + (y - yB)**2))/\\lambda_0)/\\lambda_0"
      ]
     },
     "execution_count": 22,
     "metadata": {},
     "output_type": "execute_result"
    }
   ],
   "source": [
    "dIdx=diff(I,x)\n",
    "dIdx"
   ]
  },
  {
   "cell_type": "code",
   "execution_count": 23,
   "metadata": {},
   "outputs": [
    {
     "data": {
      "text/latex": [
       "$\\displaystyle - \\frac{1.0 \\pi \\left(\\frac{y - yA}{\\sqrt{Z^{2} + \\left(x - xA\\right)^{2} + \\left(y - yA\\right)^{2}}} - \\frac{y - yB}{\\sqrt{Z^{2} + \\left(x - xB\\right)^{2} + \\left(y - yB\\right)^{2}}}\\right) \\sin{\\left(\\frac{2 \\pi \\left(\\sqrt{Z^{2} + \\left(x - xA\\right)^{2} + \\left(y - yA\\right)^{2}} - \\sqrt{Z^{2} + \\left(x - xB\\right)^{2} + \\left(y - yB\\right)^{2}}\\right)}{\\lambda_0} \\right)}}{\\lambda_0}$"
      ],
      "text/plain": [
       "-1.0*pi*((y - yA)/sqrt(Z**2 + (x - xA)**2 + (y - yA)**2) - (y - yB)/sqrt(Z**2 + (x - xB)**2 + (y - yB)**2))*sin(2*pi*(sqrt(Z**2 + (x - xA)**2 + (y - yA)**2) - sqrt(Z**2 + (x - xB)**2 + (y - yB)**2))/\\lambda_0)/\\lambda_0"
      ]
     },
     "execution_count": 23,
     "metadata": {},
     "output_type": "execute_result"
    }
   ],
   "source": [
    "dIdy=diff(I,y)\n",
    "dIdy"
   ]
  },
  {
   "cell_type": "code",
   "execution_count": 24,
   "metadata": {},
   "outputs": [
    {
     "data": {
      "text/latex": [
       "$\\displaystyle - \\frac{1.0 \\pi \\left(\\frac{\\left(- x + xA\\right) \\left(x - xA\\right)}{\\left(Z^{2} + \\left(x - xA\\right)^{2} + \\left(y - yA\\right)^{2}\\right)^{\\frac{3}{2}}} - \\frac{\\left(- x + xB\\right) \\left(x - xB\\right)}{\\left(Z^{2} + \\left(x - xB\\right)^{2} + \\left(y - yB\\right)^{2}\\right)^{\\frac{3}{2}}} - \\frac{1}{\\sqrt{Z^{2} + \\left(x - xB\\right)^{2} + \\left(y - yB\\right)^{2}}} + \\frac{1}{\\sqrt{Z^{2} + \\left(x - xA\\right)^{2} + \\left(y - yA\\right)^{2}}}\\right) \\sin{\\left(\\frac{2 \\pi \\left(\\sqrt{Z^{2} + \\left(x - xA\\right)^{2} + \\left(y - yA\\right)^{2}} - \\sqrt{Z^{2} + \\left(x - xB\\right)^{2} + \\left(y - yB\\right)^{2}}\\right)}{\\lambda_0} \\right)}}{\\lambda_0} - \\frac{2.0 \\pi^{2} \\left(\\frac{x - xA}{\\sqrt{Z^{2} + \\left(x - xA\\right)^{2} + \\left(y - yA\\right)^{2}}} - \\frac{x - xB}{\\sqrt{Z^{2} + \\left(x - xB\\right)^{2} + \\left(y - yB\\right)^{2}}}\\right)^{2} \\cos{\\left(\\frac{2 \\pi \\left(\\sqrt{Z^{2} + \\left(x - xA\\right)^{2} + \\left(y - yA\\right)^{2}} - \\sqrt{Z^{2} + \\left(x - xB\\right)^{2} + \\left(y - yB\\right)^{2}}\\right)}{\\lambda_0} \\right)}}{\\lambda_0^{2}}$"
      ],
      "text/plain": [
       "-1.0*pi*((-x + xA)*(x - xA)/(Z**2 + (x - xA)**2 + (y - yA)**2)**(3/2) - (-x + xB)*(x - xB)/(Z**2 + (x - xB)**2 + (y - yB)**2)**(3/2) - 1/sqrt(Z**2 + (x - xB)**2 + (y - yB)**2) + 1/sqrt(Z**2 + (x - xA)**2 + (y - yA)**2))*sin(2*pi*(sqrt(Z**2 + (x - xA)**2 + (y - yA)**2) - sqrt(Z**2 + (x - xB)**2 + (y - yB)**2))/\\lambda_0)/\\lambda_0 - 2.0*pi**2*((x - xA)/sqrt(Z**2 + (x - xA)**2 + (y - yA)**2) - (x - xB)/sqrt(Z**2 + (x - xB)**2 + (y - yB)**2))**2*cos(2*pi*(sqrt(Z**2 + (x - xA)**2 + (y - yA)**2) - sqrt(Z**2 + (x - xB)**2 + (y - yB)**2))/\\lambda_0)/\\lambda_0**2"
      ]
     },
     "execution_count": 24,
     "metadata": {},
     "output_type": "execute_result"
    }
   ],
   "source": [
    "diff(dIdx,x)"
   ]
  },
  {
   "cell_type": "code",
   "execution_count": 25,
   "metadata": {},
   "outputs": [
    {
     "data": {
      "text/latex": [
       "$\\displaystyle - \\frac{1.0 \\pi \\left(\\frac{\\left(- y + yA\\right) \\left(y - yA\\right)}{\\left(Z^{2} + \\left(x - xA\\right)^{2} + \\left(y - yA\\right)^{2}\\right)^{\\frac{3}{2}}} - \\frac{\\left(- y + yB\\right) \\left(y - yB\\right)}{\\left(Z^{2} + \\left(x - xB\\right)^{2} + \\left(y - yB\\right)^{2}\\right)^{\\frac{3}{2}}} - \\frac{1}{\\sqrt{Z^{2} + \\left(x - xB\\right)^{2} + \\left(y - yB\\right)^{2}}} + \\frac{1}{\\sqrt{Z^{2} + \\left(x - xA\\right)^{2} + \\left(y - yA\\right)^{2}}}\\right) \\sin{\\left(\\frac{2 \\pi \\left(\\sqrt{Z^{2} + \\left(x - xA\\right)^{2} + \\left(y - yA\\right)^{2}} - \\sqrt{Z^{2} + \\left(x - xB\\right)^{2} + \\left(y - yB\\right)^{2}}\\right)}{\\lambda_0} \\right)}}{\\lambda_0} - \\frac{2.0 \\pi^{2} \\left(\\frac{y - yA}{\\sqrt{Z^{2} + \\left(x - xA\\right)^{2} + \\left(y - yA\\right)^{2}}} - \\frac{y - yB}{\\sqrt{Z^{2} + \\left(x - xB\\right)^{2} + \\left(y - yB\\right)^{2}}}\\right)^{2} \\cos{\\left(\\frac{2 \\pi \\left(\\sqrt{Z^{2} + \\left(x - xA\\right)^{2} + \\left(y - yA\\right)^{2}} - \\sqrt{Z^{2} + \\left(x - xB\\right)^{2} + \\left(y - yB\\right)^{2}}\\right)}{\\lambda_0} \\right)}}{\\lambda_0^{2}}$"
      ],
      "text/plain": [
       "-1.0*pi*((-y + yA)*(y - yA)/(Z**2 + (x - xA)**2 + (y - yA)**2)**(3/2) - (-y + yB)*(y - yB)/(Z**2 + (x - xB)**2 + (y - yB)**2)**(3/2) - 1/sqrt(Z**2 + (x - xB)**2 + (y - yB)**2) + 1/sqrt(Z**2 + (x - xA)**2 + (y - yA)**2))*sin(2*pi*(sqrt(Z**2 + (x - xA)**2 + (y - yA)**2) - sqrt(Z**2 + (x - xB)**2 + (y - yB)**2))/\\lambda_0)/\\lambda_0 - 2.0*pi**2*((y - yA)/sqrt(Z**2 + (x - xA)**2 + (y - yA)**2) - (y - yB)/sqrt(Z**2 + (x - xB)**2 + (y - yB)**2))**2*cos(2*pi*(sqrt(Z**2 + (x - xA)**2 + (y - yA)**2) - sqrt(Z**2 + (x - xB)**2 + (y - yB)**2))/\\lambda_0)/\\lambda_0**2"
      ]
     },
     "execution_count": 25,
     "metadata": {},
     "output_type": "execute_result"
    }
   ],
   "source": [
    "diff(dIdy,y)"
   ]
  },
  {
   "cell_type": "markdown",
   "metadata": {},
   "source": [
    "# Simplification"
   ]
  },
  {
   "cell_type": "code",
   "execution_count": 26,
   "metadata": {},
   "outputs": [],
   "source": [
    "dA=sqrt( (x)**2+(y)**2+Z**2)\n",
    "dB=sqrt( (x-xB)**2+(y)**2+Z**2)\n",
    "dPhi=2*pi/wl0*(dA-dB)\n",
    "I= 0.5*(cos(dPhi)+1)"
   ]
  },
  {
   "cell_type": "code",
   "execution_count": 27,
   "metadata": {},
   "outputs": [
    {
     "data": {
      "text/latex": [
       "$\\displaystyle \\frac{2 \\pi \\left(\\sqrt{Z^{2} + x^{2} + y^{2}} - \\sqrt{Z^{2} + y^{2} + \\left(x - xB\\right)^{2}}\\right)}{\\lambda_0}$"
      ],
      "text/plain": [
       "2*pi*(sqrt(Z**2 + x**2 + y**2) - sqrt(Z**2 + y**2 + (x - xB)**2))/\\lambda_0"
      ]
     },
     "execution_count": 27,
     "metadata": {},
     "output_type": "execute_result"
    }
   ],
   "source": [
    "dPhi"
   ]
  },
  {
   "cell_type": "code",
   "execution_count": 28,
   "metadata": {},
   "outputs": [
    {
     "data": {
      "text/latex": [
       "$\\displaystyle 0.5 \\cos{\\left(\\frac{2 \\pi \\left(\\sqrt{Z^{2} + x^{2} + y^{2}} - \\sqrt{Z^{2} + y^{2} + \\left(x - xB\\right)^{2}}\\right)}{\\lambda_0} \\right)} + 0.5$"
      ],
      "text/plain": [
       "0.5*cos(2*pi*(sqrt(Z**2 + x**2 + y**2) - sqrt(Z**2 + y**2 + (x - xB)**2))/\\lambda_0) + 0.5"
      ]
     },
     "execution_count": 28,
     "metadata": {},
     "output_type": "execute_result"
    }
   ],
   "source": [
    "I"
   ]
  },
  {
   "cell_type": "code",
   "execution_count": 29,
   "metadata": {},
   "outputs": [
    {
     "data": {
      "text/latex": [
       "$\\displaystyle - \\frac{1.0 \\pi \\left(\\frac{x}{\\sqrt{Z^{2} + x^{2} + y^{2}}} - \\frac{x - xB}{\\sqrt{Z^{2} + y^{2} + \\left(x - xB\\right)^{2}}}\\right) \\sin{\\left(\\frac{2 \\pi \\left(\\sqrt{Z^{2} + x^{2} + y^{2}} - \\sqrt{Z^{2} + y^{2} + \\left(x - xB\\right)^{2}}\\right)}{\\lambda_0} \\right)}}{\\lambda_0}$"
      ],
      "text/plain": [
       "-1.0*pi*(x/sqrt(Z**2 + x**2 + y**2) - (x - xB)/sqrt(Z**2 + y**2 + (x - xB)**2))*sin(2*pi*(sqrt(Z**2 + x**2 + y**2) - sqrt(Z**2 + y**2 + (x - xB)**2))/\\lambda_0)/\\lambda_0"
      ]
     },
     "execution_count": 29,
     "metadata": {},
     "output_type": "execute_result"
    }
   ],
   "source": [
    "dIdx=diff(I,x)\n",
    "dIdx"
   ]
  },
  {
   "cell_type": "code",
   "execution_count": 30,
   "metadata": {},
   "outputs": [
    {
     "data": {
      "text/latex": [
       "$\\displaystyle - \\frac{1.0 \\pi \\left(- \\frac{y}{\\sqrt{Z^{2} + y^{2} + \\left(x - xB\\right)^{2}}} + \\frac{y}{\\sqrt{Z^{2} + x^{2} + y^{2}}}\\right) \\sin{\\left(\\frac{2 \\pi \\left(\\sqrt{Z^{2} + x^{2} + y^{2}} - \\sqrt{Z^{2} + y^{2} + \\left(x - xB\\right)^{2}}\\right)}{\\lambda_0} \\right)}}{\\lambda_0}$"
      ],
      "text/plain": [
       "-1.0*pi*(-y/sqrt(Z**2 + y**2 + (x - xB)**2) + y/sqrt(Z**2 + x**2 + y**2))*sin(2*pi*(sqrt(Z**2 + x**2 + y**2) - sqrt(Z**2 + y**2 + (x - xB)**2))/\\lambda_0)/\\lambda_0"
      ]
     },
     "execution_count": 30,
     "metadata": {},
     "output_type": "execute_result"
    }
   ],
   "source": [
    "dIdy=diff(I,y)\n",
    "dIdy"
   ]
  },
  {
   "cell_type": "code",
   "execution_count": null,
   "metadata": {},
   "outputs": [],
   "source": []
  }
 ],
 "metadata": {
  "kernelspec": {
   "display_name": "Python 3",
   "language": "python",
   "name": "python3"
  },
  "language_info": {
   "codemirror_mode": {
    "name": "ipython",
    "version": 3
   },
   "file_extension": ".py",
   "mimetype": "text/x-python",
   "name": "python",
   "nbconvert_exporter": "python",
   "pygments_lexer": "ipython3",
   "version": "3.7.7"
  },
  "toc": {
   "base_numbering": 1,
   "nav_menu": {},
   "number_sections": true,
   "sideBar": true,
   "skip_h1_title": false,
   "title_cell": "Table of Contents",
   "title_sidebar": "Contents",
   "toc_cell": false,
   "toc_position": {},
   "toc_section_display": true,
   "toc_window_display": false
  }
 },
 "nbformat": 4,
 "nbformat_minor": 4
}
