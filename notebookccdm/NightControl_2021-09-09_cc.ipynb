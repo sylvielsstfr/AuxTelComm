{
 "cells": [
  {
   "cell_type": "markdown",
   "id": "392211c7-551e-4cfb-a6e5-f0eacb410083",
   "metadata": {},
   "source": [
    "# Observations for the night July 09th 2021 : Try to use QuickLookExp v2\n",
    "\n",
    "\n",
    "https://harvard.zoom.us/rec/play/N7umVF8Rk3vWvW_O3jkaTinofB2WxW3QKz0fVai_K-qvAYLt37uMrvskOlnBiMEjduSeQVzWT7_DDYzc.IY7Pqjef82YlWmZE?continueMode=true&_x_zm_rtaid=BjQYrDaETYeYRUMw8NQgLw.1613559822570.c813d210d38e378b719cb4048493df5b&_x_zm_rhtaid=205\n",
    "\n",
    "\n",
    "- work with Weakly_2021_44\n",
    "- use jupyter kernel LSST\n",
    "- requires the installation see https://github.com/stubbslab/PCWG-AuxTel/blob/main/setup_script.md\n",
    "- requires to write in file {HOME}/notebooks/.user_setups\n",
    "\n",
    "\n",
    "- author : Sylvie Dagoret-Campagne\n",
    "- affiliation : IJCLab\n",
    "- creation date : 2021/11/22\n",
    "- update : \n"
   ]
  },
  {
   "cell_type": "code",
   "execution_count": 1,
   "id": "58544238-8ad9-4df1-ab26-cbccf05429b8",
   "metadata": {},
   "outputs": [],
   "source": [
    "#! eups list -s"
   ]
  },
  {
   "cell_type": "code",
   "execution_count": 2,
   "id": "7a554a49-290d-4531-a889-7c52b8ad13e9",
   "metadata": {},
   "outputs": [
    {
     "name": "stdout",
     "output_type": "stream",
     "text": [
      "atmospec              LOCAL:/sps/lsst/groups/auxtel/softs/shared/auxteldm/repos/w_2021_44/atmospec \tsetup\n",
      "eups                  LOCAL:/cvmfs/sw.lsst.eu/linux-x86_64/lsst_distrib/w_2021_44/conda/miniconda3-py38_4.9.2/envs/lsst-scipipe-0.7.0-ext/eups \tsetup\n",
      "obs_lsst              LOCAL:/sps/lsst/groups/auxtel/softs/shared/auxteldm/repos/w_2021_44/obs_lsst \tsetup\n",
      "rapid_analysis        LOCAL:/sps/lsst/groups/auxtel/softs/shared/auxteldm/repos/w_2021_44/rapid_analysis \tsetup\n"
     ]
    }
   ],
   "source": [
    "! eups list -s | grep LOCAL"
   ]
  },
  {
   "cell_type": "code",
   "execution_count": 3,
   "id": "da1c0273-90f8-447a-b671-97482dfcc036",
   "metadata": {},
   "outputs": [],
   "source": [
    "import os\n",
    "import matplotlib.pyplot as plt\n",
    "import numpy as np\n",
    "%matplotlib inline\n",
    "from matplotlib.colors import LogNorm\n",
    "\n",
    "from mpl_toolkits.axes_grid1 import make_axes_locatable\n",
    "\n",
    "import matplotlib.ticker                         # here's where the formatter is\n",
    "from matplotlib.ticker import (MultipleLocator, FormatStrFormatter,\n",
    "                               AutoMinorLocator)\n",
    "\n",
    "from astropy.io import fits"
   ]
  },
  {
   "cell_type": "code",
   "execution_count": 4,
   "id": "3e2d2e94-6403-4748-aaf3-8d53d608da19",
   "metadata": {},
   "outputs": [],
   "source": [
    "import lsst.daf.persistence as dafPersist\n",
    "import lsst.afw.display as afwDisplay\n",
    "afwDisplay.setDefaultBackend(\"lsst.display.firefly\")\n"
   ]
  },
  {
   "cell_type": "code",
   "execution_count": 5,
   "id": "b1f81f09-7a39-4013-b74a-2ea6d6dfc98b",
   "metadata": {},
   "outputs": [],
   "source": [
    "FLAG_SAVE_IMAGE=True"
   ]
  },
  {
   "cell_type": "code",
   "execution_count": 6,
   "id": "e3c7a071-1046-47cb-b045-e9a373250b0e",
   "metadata": {},
   "outputs": [
    {
     "name": "stderr",
     "output_type": "stream",
     "text": [
      "/sps/lsst/groups/auxtel/softs/shared/auxteldm/repos/w_2021_44/rapid_analysis/python/lsst/rapid/analysis/visitCheck.py:132: FutureWarning: Call to deprecated function (or staticmethod) timeMethod. (timeMethod has been replaced by lsst.utils.timer.timeMethod. Will be removed after v25.) -- Deprecated since version v24.\n",
      "  def runDataRef(self, dataRef):\n"
     ]
    },
    {
     "ename": "RuntimeError",
     "evalue": "Default butler location only supported for ['NCSA', 'NTS', 'summit'], got /sps/lsst/groups/auxtel/data/raw_ncsa",
     "output_type": "error",
     "traceback": [
      "\u001b[0;31m---------------------------------------------------------------------------\u001b[0m",
      "\u001b[0;31mRuntimeError\u001b[0m                              Traceback (most recent call last)",
      "\u001b[0;32m/tmp/ipykernel_4520/1268200950.py\u001b[0m in \u001b[0;36m<module>\u001b[0;34m\u001b[0m\n\u001b[1;32m      6\u001b[0m \u001b[0;31m#repoDir='project/shared/auxTel/rerun/mfl/slurmRun'\u001b[0m\u001b[0;34m\u001b[0m\u001b[0;34m\u001b[0m\u001b[0;34m\u001b[0m\u001b[0m\n\u001b[1;32m      7\u001b[0m \u001b[0mdayObs\u001b[0m\u001b[0;34m=\u001b[0m\u001b[0;34m\"2021-09-09\"\u001b[0m\u001b[0;34m\u001b[0m\u001b[0;34m\u001b[0m\u001b[0m\n\u001b[0;32m----> 8\u001b[0;31m \u001b[0mreporter\u001b[0m\u001b[0;34m=\u001b[0m\u001b[0mNightReporter\u001b[0m\u001b[0;34m(\u001b[0m\u001b[0mrepoDir\u001b[0m\u001b[0;34m,\u001b[0m\u001b[0mdayObs\u001b[0m\u001b[0;34m)\u001b[0m\u001b[0;34m\u001b[0m\u001b[0;34m\u001b[0m\u001b[0m\n\u001b[0m\u001b[1;32m      9\u001b[0m \u001b[0;31m#reporter=NightReporter('NCSA',dayObs)\u001b[0m\u001b[0;34m\u001b[0m\u001b[0;34m\u001b[0m\u001b[0;34m\u001b[0m\u001b[0m\n",
      "\u001b[0;32m/sps/lsst/groups/auxtel/softs/shared/auxteldm/repos/w_2021_44/rapid_analysis/python/lsst/rapid/analysis/nightReport.py\u001b[0m in \u001b[0;36m__init__\u001b[0;34m(self, location, dayObs, deferLoadingData)\u001b[0m\n\u001b[1;32m    102\u001b[0m         \u001b[0mself\u001b[0m\u001b[0;34m.\u001b[0m\u001b[0m_supressAstroMetadataTranslatorWarnings\u001b[0m\u001b[0;34m(\u001b[0m\u001b[0;34m)\u001b[0m  \u001b[0;31m# call early\u001b[0m\u001b[0;34m\u001b[0m\u001b[0;34m\u001b[0m\u001b[0m\n\u001b[1;32m    103\u001b[0m \u001b[0;34m\u001b[0m\u001b[0m\n\u001b[0;32m--> 104\u001b[0;31m         \u001b[0mself\u001b[0m\u001b[0;34m.\u001b[0m\u001b[0mbutler\u001b[0m \u001b[0;34m=\u001b[0m \u001b[0mmakeDefaultLatissButler\u001b[0m\u001b[0;34m(\u001b[0m\u001b[0mlocation\u001b[0m\u001b[0;34m)\u001b[0m\u001b[0;34m\u001b[0m\u001b[0;34m\u001b[0m\u001b[0m\n\u001b[0m\u001b[1;32m    105\u001b[0m         \u001b[0;32mif\u001b[0m \u001b[0misinstance\u001b[0m\u001b[0;34m(\u001b[0m\u001b[0mdayObs\u001b[0m\u001b[0;34m,\u001b[0m \u001b[0mstr\u001b[0m\u001b[0;34m)\u001b[0m\u001b[0;34m:\u001b[0m\u001b[0;34m\u001b[0m\u001b[0;34m\u001b[0m\u001b[0m\n\u001b[1;32m    106\u001b[0m             \u001b[0mdayObs\u001b[0m \u001b[0;34m=\u001b[0m \u001b[0msanitize_day_obs\u001b[0m\u001b[0;34m(\u001b[0m\u001b[0mdayObs\u001b[0m\u001b[0;34m)\u001b[0m\u001b[0;34m\u001b[0m\u001b[0;34m\u001b[0m\u001b[0m\n",
      "\u001b[0;32m/sps/lsst/groups/auxtel/softs/shared/auxteldm/repos/w_2021_44/rapid_analysis/python/lsst/rapid/analysis/butlerUtils.py\u001b[0m in \u001b[0;36mmakeDefaultLatissButler\u001b[0;34m(location, writeable)\u001b[0m\n\u001b[1;32m     91\u001b[0m     \u001b[0;31m# TODO: Add logging to which collections are going in\u001b[0m\u001b[0;34m\u001b[0m\u001b[0;34m\u001b[0m\u001b[0;34m\u001b[0m\u001b[0m\n\u001b[1;32m     92\u001b[0m     \u001b[0;32mif\u001b[0m \u001b[0mlocation\u001b[0m \u001b[0;32mnot\u001b[0m \u001b[0;32min\u001b[0m \u001b[0m_LOCATIONS\u001b[0m\u001b[0;34m:\u001b[0m\u001b[0;34m\u001b[0m\u001b[0;34m\u001b[0m\u001b[0m\n\u001b[0;32m---> 93\u001b[0;31m         \u001b[0;32mraise\u001b[0m \u001b[0mRuntimeError\u001b[0m\u001b[0;34m(\u001b[0m\u001b[0;34mf'Default butler location only supported for {_LOCATIONS}, got {location}'\u001b[0m\u001b[0;34m)\u001b[0m\u001b[0;34m\u001b[0m\u001b[0;34m\u001b[0m\u001b[0m\n\u001b[0m\u001b[1;32m     94\u001b[0m     \u001b[0mrepodir\u001b[0m \u001b[0;34m=\u001b[0m \u001b[0mLATISS_REPO_LOCATION_MAP\u001b[0m\u001b[0;34m[\u001b[0m\u001b[0mlocation\u001b[0m\u001b[0;34m]\u001b[0m\u001b[0;34m\u001b[0m\u001b[0;34m\u001b[0m\u001b[0m\n\u001b[1;32m     95\u001b[0m     \u001b[0mLSC\u001b[0m \u001b[0;34m=\u001b[0m \u001b[0mLATISS_SUPPLEMENTAL_COLLECTIONS\u001b[0m  \u001b[0;31m# grrr, line lengths\u001b[0m\u001b[0;34m\u001b[0m\u001b[0;34m\u001b[0m\u001b[0m\n",
      "\u001b[0;31mRuntimeError\u001b[0m: Default butler location only supported for ['NCSA', 'NTS', 'summit'], got /sps/lsst/groups/auxtel/data/raw_ncsa"
     ]
    }
   ],
   "source": [
    "from lsst.rapid.analysis.nightReport import NightReporter\n",
    "# data exist here\n",
    "#repoDir='/project/shared/auxTel/rerun/quickLook'\n",
    "repoDir='/sps/lsst/groups/auxtel/data/raw_ncsa'\n",
    "# recommended but wrong\n",
    "#repoDir='project/shared/auxTel/rerun/mfl/slurmRun'\n",
    "dayObs=\"2021-09-09\"\n",
    "reporter=NightReporter(repoDir,dayObs)\n",
    "#reporter=NightReporter('NCSA',dayObs)"
   ]
  },
  {
   "cell_type": "code",
   "execution_count": 7,
   "id": "2d8b2b5a-d574-4c99-be0f-6cd33a9d7cec",
   "metadata": {},
   "outputs": [],
   "source": [
    "DISPERSER_SEL=\"ronchi170lpmm\""
   ]
  },
  {
   "cell_type": "code",
   "execution_count": 8,
   "id": "f04d7c9b-de72-4dd1-888b-6dd7b6c437a4",
   "metadata": {},
   "outputs": [],
   "source": [
    "FLAG_FLAT_SELECTION=False"
   ]
  },
  {
   "cell_type": "code",
   "execution_count": null,
   "id": "d2a4b83d-538c-47a0-92d0-7d7b0a53b9cb",
   "metadata": {},
   "outputs": [],
   "source": [
    "print(reporter.getObservedObjects())"
   ]
  },
  {
   "cell_type": "code",
   "execution_count": null,
   "id": "f61416df-cd80-49c3-81fa-24f6bd5d32ef",
   "metadata": {},
   "outputs": [],
   "source": [
    "reporter.makePolarPlotForObjects()"
   ]
  },
  {
   "cell_type": "code",
   "execution_count": null,
   "id": "ac4d2a62-7c7c-4bca-ac95-dbbe4187bc7d",
   "metadata": {},
   "outputs": [],
   "source": [
    "reporter.plotPerObjectAirMass()"
   ]
  },
  {
   "cell_type": "code",
   "execution_count": null,
   "id": "3de9d2a3-408a-428d-8e5b-f5845f76b992",
   "metadata": {},
   "outputs": [],
   "source": [
    "reporter.printObsTable()"
   ]
  },
  {
   "cell_type": "code",
   "execution_count": 9,
   "id": "dfcb1fd5-2566-4e99-acc5-d77a8613b2b8",
   "metadata": {},
   "outputs": [
    {
     "name": "stderr",
     "output_type": "stream",
     "text": [
      "/tmp/ipykernel_4520/4213594043.py:4: FutureWarning: Gen2 Butler has been deprecated (Butler). It will be removed sometime after v23.0 but no earlier than the end of 2021.\n",
      "  butler=dafPersist.Butler(repoDir)\n",
      "/tmp/ipykernel_4520/4213594043.py:4: FutureWarning: Gen2 Butler has been deprecated (LatissMapper). It will be removed sometime after v23.0 but no earlier than the end of 2021.\n",
      "  butler=dafPersist.Butler(repoDir)\n"
     ]
    },
    {
     "name": "stdout",
     "output_type": "stream",
     "text": [
      "CameraMapper INFO: Loading exposure registry from /sps/lsst/groups/auxtel/data/2021/ncsa_auxtel/registry.sqlite3\n",
      "CameraMapper INFO: Loading calib registry from /sps/lsst/groups/auxtel/data/2021/ncsa_auxtel/CALIB/calibRegistry.sqlite3\n"
     ]
    }
   ],
   "source": [
    "repoDir='/sps/lsst/groups/auxtel/data/2021/ncsa_auxtel'\n",
    "#repoDir='/sps/lsst/users/boutigny/AuxTel'\n",
    "#butler=dafPersist.Butler(\"/project/shared/auxTel\")\n",
    "butler=dafPersist.Butler(repoDir)"
   ]
  },
  {
   "cell_type": "code",
   "execution_count": 10,
   "id": "6c017889-675d-4bcf-9663-e658522385b1",
   "metadata": {},
   "outputs": [
    {
     "name": "stdout",
     "output_type": "stream",
     "text": [
      "CALIB  _mapper\traw  ref_cats  registry.sqlite3  rerun\n"
     ]
    }
   ],
   "source": [
    "! ls $repoDir"
   ]
  },
  {
   "cell_type": "code",
   "execution_count": 11,
   "id": "c13147fc-a7c0-46a0-b8f5-bc76a8ff69b4",
   "metadata": {},
   "outputs": [
    {
     "name": "stdout",
     "output_type": "stream",
     "text": [
      "calexp\t\t\t     icExp\t registry.sqlite3\n",
      "CALIB\t\t\t     icSrc\t repos\n",
      "calib_construction\t     _mapper\t repos-2\n",
      "calib_construction_20210119  postISRCCD  spectractorOutput\n",
      "calib_construction_20210120  raw\n",
      "config.log\t\t     ref_cats\n"
     ]
    }
   ],
   "source": [
    "! ls '/sps/lsst/users/boutigny/AuxTel'"
   ]
  },
  {
   "cell_type": "code",
   "execution_count": 12,
   "id": "e3ce6f0b-6dd3-44b0-bd7d-e382a3bb2f53",
   "metadata": {},
   "outputs": [
    {
     "name": "stdout",
     "output_type": "stream",
     "text": [
      "atmospec  obs_lsst  rapid_analysis  Spectractor\n"
     ]
    }
   ],
   "source": [
    "! ls '/sps/lsst/users/boutigny/AuxTel/repos'"
   ]
  },
  {
   "cell_type": "code",
   "execution_count": null,
   "id": "ae5b6a85-6051-4f4b-87a1-590c022e0a43",
   "metadata": {},
   "outputs": [],
   "source": [
    "! ls /sps/lsst/users/boutigny/AuxTel/postISRCCD/2021-07-07"
   ]
  },
  {
   "cell_type": "code",
   "execution_count": 13,
   "id": "12f8cdb2-c9ae-4ab1-9b30-391365296083",
   "metadata": {},
   "outputs": [],
   "source": [
    "seqNum=600\n",
    "dayObs='2021-09-09'"
   ]
  },
  {
   "cell_type": "code",
   "execution_count": 14,
   "id": "87991385-213c-4ff0-b983-cb435b1c9f37",
   "metadata": {},
   "outputs": [
    {
     "name": "stdout",
     "output_type": "stream",
     "text": [
      "WARNING:lsst.obs.lsst.assembly:DataId(initialdata={'dayObs': '2021-09-09', 'seqNum': 600}, tag=set()): outAmp.getRawBBox() != data.getBBox(); patching. ((minimum=(0, 0), maximum=(543, 2047)) v. (minimum=(0, 0), maximum=(575, 2047)))\n"
     ]
    }
   ],
   "source": [
    "raw=butler.get('raw',dayObs=dayObs,seqNum=seqNum)"
   ]
  },
  {
   "cell_type": "code",
   "execution_count": 15,
   "id": "8ff2e893-55b9-4d8e-8458-9743fa783d6a",
   "metadata": {},
   "outputs": [],
   "source": [
    "md=butler.get(\"raw_md\",dayObs=dayObs,seqNum=seqNum)"
   ]
  },
  {
   "cell_type": "code",
   "execution_count": 16,
   "id": "3e6045e7-8ea4-431e-a0e5-a66c10a06584",
   "metadata": {},
   "outputs": [
    {
     "ename": "KeyError",
     "evalue": "'FIREFLY_URL'",
     "output_type": "error",
     "traceback": [
      "\u001b[0;31m---------------------------------------------------------------------------\u001b[0m",
      "\u001b[0;31mKeyError\u001b[0m                                  Traceback (most recent call last)",
      "\u001b[0;32m/tmp/ipykernel_4520/1490135192.py\u001b[0m in \u001b[0;36m<module>\u001b[0;34m\u001b[0m\n\u001b[0;32m----> 1\u001b[0;31m \u001b[0mdisplay1\u001b[0m\u001b[0;34m=\u001b[0m\u001b[0mafwDisplay\u001b[0m\u001b[0;34m.\u001b[0m\u001b[0mgetDisplay\u001b[0m\u001b[0;34m(\u001b[0m\u001b[0mframe\u001b[0m\u001b[0;34m=\u001b[0m\u001b[0;36m1\u001b[0m\u001b[0;34m,\u001b[0m\u001b[0mport\u001b[0m\u001b[0;34m=\u001b[0m\u001b[0;36m80\u001b[0m\u001b[0;34m,\u001b[0m\u001b[0mname\u001b[0m\u001b[0;34m=\u001b[0m\u001b[0;34m'sylviedc_debug_2021_09_09'\u001b[0m\u001b[0;34m,\u001b[0m\u001b[0murl\u001b[0m\u001b[0;34m=\u001b[0m\u001b[0mos\u001b[0m\u001b[0;34m.\u001b[0m\u001b[0menviron\u001b[0m\u001b[0;34m[\u001b[0m\u001b[0;34m\"FIREFLY_URL\"\u001b[0m\u001b[0;34m]\u001b[0m\u001b[0;34m)\u001b[0m\u001b[0;34m\u001b[0m\u001b[0;34m\u001b[0m\u001b[0m\n\u001b[0m",
      "\u001b[0;32m/cvmfs/sw.lsst.eu/linux-x86_64/lsst_distrib/w_2021_44/conda/miniconda3-py38_4.9.2/envs/lsst-scipipe-0.7.0-ext/lib/python3.8/os.py\u001b[0m in \u001b[0;36m__getitem__\u001b[0;34m(self, key)\u001b[0m\n\u001b[1;32m    673\u001b[0m         \u001b[0;32mexcept\u001b[0m \u001b[0mKeyError\u001b[0m\u001b[0;34m:\u001b[0m\u001b[0;34m\u001b[0m\u001b[0;34m\u001b[0m\u001b[0m\n\u001b[1;32m    674\u001b[0m             \u001b[0;31m# raise KeyError with the original key value\u001b[0m\u001b[0;34m\u001b[0m\u001b[0;34m\u001b[0m\u001b[0;34m\u001b[0m\u001b[0m\n\u001b[0;32m--> 675\u001b[0;31m             \u001b[0;32mraise\u001b[0m \u001b[0mKeyError\u001b[0m\u001b[0;34m(\u001b[0m\u001b[0mkey\u001b[0m\u001b[0;34m)\u001b[0m \u001b[0;32mfrom\u001b[0m \u001b[0;32mNone\u001b[0m\u001b[0;34m\u001b[0m\u001b[0;34m\u001b[0m\u001b[0m\n\u001b[0m\u001b[1;32m    676\u001b[0m         \u001b[0;32mreturn\u001b[0m \u001b[0mself\u001b[0m\u001b[0;34m.\u001b[0m\u001b[0mdecodevalue\u001b[0m\u001b[0;34m(\u001b[0m\u001b[0mvalue\u001b[0m\u001b[0;34m)\u001b[0m\u001b[0;34m\u001b[0m\u001b[0;34m\u001b[0m\u001b[0m\n\u001b[1;32m    677\u001b[0m \u001b[0;34m\u001b[0m\u001b[0m\n",
      "\u001b[0;31mKeyError\u001b[0m: 'FIREFLY_URL'"
     ]
    }
   ],
   "source": [
    "display1=afwDisplay.getDisplay(frame=1,port=80,name='sylviedc_debug_2021_09_09',url=os.environ[\"FIREFLY_URL\"])"
   ]
  },
  {
   "cell_type": "code",
   "execution_count": 18,
   "id": "18db4085-0da2-492f-9cdc-4176d7858ff5",
   "metadata": {},
   "outputs": [
    {
     "ename": "AttributeError",
     "evalue": "'lsst.afw.image.exposure._exposure.ExposureF' object has no attribute 'array'",
     "output_type": "error",
     "traceback": [
      "\u001b[0;31m---------------------------------------------------------------------------\u001b[0m",
      "\u001b[0;31mAttributeError\u001b[0m                            Traceback (most recent call last)",
      "\u001b[0;32m/tmp/ipykernel_4520/2413162697.py\u001b[0m in \u001b[0;36m<module>\u001b[0;34m\u001b[0m\n\u001b[0;32m----> 1\u001b[0;31m \u001b[0mplt\u001b[0m\u001b[0;34m.\u001b[0m\u001b[0mimshow\u001b[0m\u001b[0;34m(\u001b[0m\u001b[0mraw\u001b[0m\u001b[0;34m.\u001b[0m\u001b[0marray\u001b[0m\u001b[0;34m)\u001b[0m\u001b[0;34m\u001b[0m\u001b[0;34m\u001b[0m\u001b[0m\n\u001b[0m",
      "\u001b[0;31mAttributeError\u001b[0m: 'lsst.afw.image.exposure._exposure.ExposureF' object has no attribute 'array'"
     ]
    }
   ],
   "source": [
    "plt.imshow(raw.array)"
   ]
  },
  {
   "cell_type": "code",
   "execution_count": null,
   "id": "67d37eb7-0322-4b9f-b9e1-01e1778a00a6",
   "metadata": {},
   "outputs": [],
   "source": [
    "display1.mtv(raw)"
   ]
  },
  {
   "cell_type": "code",
   "execution_count": 19,
   "id": "b2cfeb52-e6bc-4863-8408-b3200c4b245e",
   "metadata": {},
   "outputs": [
    {
     "data": {
      "text/plain": [
       "{'SIMPLE': True,\n",
       " 'EXTEND': True,\n",
       " 'COMMENT': [\"  FITS (Flexible Image Transport System) format is defined in 'Astronomy\",\n",
       "  \"  and Astrophysics', volume 376, page 359; bibcode: 2001A&A...376..359H\",\n",
       "  \"= '        '\",\n",
       "  '---- Date, night and basic image information ----',\n",
       "  \"= '        '\",\n",
       "  '---- Telescope info, location, observer ----',\n",
       "  \"= '        '\",\n",
       "  '---- Pointing info, etc. ----',\n",
       "  \"= '        '\",\n",
       "  '---- TAN Projection ----',\n",
       "  \"= '        '\",\n",
       "  '---- Image-identifying used to build OBS-ID ----',\n",
       "  \"= '        '\",\n",
       "  '---- Test Stand information ----',\n",
       "  \"= '        '\",\n",
       "  '---- Information from Camera (Common block) ----',\n",
       "  \"= '        '\",\n",
       "  '---- Information from Camera ----',\n",
       "  \"= '        '\",\n",
       "  '---- Filter/grating information ----',\n",
       "  \"= '        '\",\n",
       "  '---- Exposure-related information ----',\n",
       "  \"= '        '\",\n",
       "  '---- Weather information ----',\n",
       "  \"= '        '\",\n",
       "  '---- Header information ----',\n",
       "  \"= '        '\",\n",
       "  '---- Checksums ----',\n",
       "  '---- Information from Camera per sensor ----',\n",
       "  \"= '        '\",\n",
       "  '---- Geometry from Camera ----'],\n",
       " 'ORIGIN': 'LSST DM Header Service',\n",
       " 'TIMESYS': 'TAI',\n",
       " 'DATE': '2021-09-10T06:14:57.431',\n",
       " 'DATE-OBS': '2021-09-10T06:15:30.580',\n",
       " 'DATE-BEG': '2021-09-10T06:15:30.580',\n",
       " 'DATE-END': '2021-09-10T06:15:31.809',\n",
       " 'MJD': 59467.2603869294,\n",
       " 'MJD-OBS': 59467.2607706072,\n",
       " 'MJD-BEG': 59467.2607706072,\n",
       " 'MJD-END': 59467.2607848236,\n",
       " 'OBSID': 'AT_O_20210909_000600',\n",
       " 'GROUPID': '2021-09-10T06:15:13.907',\n",
       " 'IMGTYPE': 'OBJECT',\n",
       " 'BUNIT': 'adu',\n",
       " 'FACILITY': 'Vera C. Rubin Observatory',\n",
       " 'TELESCOP': 'LSST AuxTelescope',\n",
       " 'INSTRUME': 'LATISS',\n",
       " 'OBSERVER': 'LSST',\n",
       " 'OBS-LONG': -70.749417,\n",
       " 'OBS-LAT': -30.244639,\n",
       " 'OBS-ELEV': 2663.0,\n",
       " 'OBSGEO-X': 1818938.94,\n",
       " 'OBSGEO-Y': -5208470.95,\n",
       " 'OBSGEO-Z': -3195172.08,\n",
       " 'RA': 7.82704125,\n",
       " 'DEC': -43.6063888888889,\n",
       " 'RASTART': 7.80715033584355,\n",
       " 'DECSTART': -43.6319950821744,\n",
       " 'RAEND': 7.8070246880268,\n",
       " 'DECEND': -43.6321329722749,\n",
       " 'ROTPA': -60.016760899812994,\n",
       " 'ROTCOORD': 'sky',\n",
       " 'HASTART': 0.29233749648168,\n",
       " 'ELSTART': 76.3589612229553,\n",
       " 'AZSTART': 193.652163524879,\n",
       " 'AMSTART': 1.0289825016691,\n",
       " 'HAEND': 0.293398101979991,\n",
       " 'ELEND': 76.3562785669055,\n",
       " 'AZEND': 193.689119447721,\n",
       " 'AMEND': 1.02899665842979,\n",
       " 'INSTPORT': 2,\n",
       " 'ATM3PORT': 2,\n",
       " 'TRACKSYS': 'SIDEREAL',\n",
       " 'RADESYS': 'ICRS',\n",
       " 'FOCUSZ': 0.0,\n",
       " 'OBJECT': 'HD 2811',\n",
       " 'DOMEAZ': 185.22,\n",
       " 'SHUTLOWR': 0.0,\n",
       " 'SHUTUPPR': 100.0,\n",
       " 'WCSAXES': 2,\n",
       " 'CTYPE1': 'RA---TAN',\n",
       " 'CTYPE2': 'DEC--TAN',\n",
       " 'CUNIT1': 'deg',\n",
       " 'CUNIT2': 'deg',\n",
       " 'CRVAL1': 7.82704125,\n",
       " 'CRVAL2': -43.6063888888889,\n",
       " 'CRPIX1': 2000.0,\n",
       " 'CRPIX2': 2036.0,\n",
       " 'CD1_1': 0.086498760645742,\n",
       " 'CD1_2': -0.0595228057701469,\n",
       " 'CD2_1': 0.0595228057701469,\n",
       " 'CD2_2': 0.086498760645742,\n",
       " 'EQUINOX': 2000.0,\n",
       " 'CAMCODE': 'AT',\n",
       " 'CONTRLLR': 'O',\n",
       " 'DAYOBS': '20210909',\n",
       " 'SEQNUM': 600,\n",
       " 'TESTTYPE': None,\n",
       " 'TSTAND': None,\n",
       " 'IMAGETAG': '4f49f624c2a644e6',\n",
       " 'OBSANNOT': '',\n",
       " 'TEMP_SET': -94.1500015258789,\n",
       " 'CCDTEMP': -90.2744369506836,\n",
       " 'FILTBAND': 'Empty',\n",
       " 'FILTER': 'empty_1',\n",
       " 'FILTSLOT': 0,\n",
       " 'GRATING': 'ronchi170lpmm',\n",
       " 'GRATBAND': 'Empty',\n",
       " 'GRATSLOT': 2,\n",
       " 'LINSPOS': 67.0,\n",
       " 'EXPTIME': 1.0,\n",
       " 'SHUTTIME': None,\n",
       " 'DARKTIME': 1.3188784122467,\n",
       " 'AIRTEMP': 9.0,\n",
       " 'PRESSURE': 741.0,\n",
       " 'HUMIDITY': 18.0,\n",
       " 'WINDSPD': 9.1,\n",
       " 'WINDDIR': 292.0,\n",
       " 'SEEING': 0.673308789730072,\n",
       " 'FILENAME': 'AT_O_20210909_000600.fits',\n",
       " 'HEADVER': '2.9.1',\n",
       " 'CHECKSUM': None,\n",
       " 'DATASUM': None,\n",
       " 'CCD_MANU': 'ITL',\n",
       " 'CCD_TYPE': 2,\n",
       " 'CCD_SERN': '20862',\n",
       " 'LSST_NUM': 'ITL-3800C-068',\n",
       " 'SEQCKSUM': '2552520002',\n",
       " 'SEQNAME': 'FP_ITL_2s_ir2_v25.seq',\n",
       " 'REBNAME': 'Unknown',\n",
       " 'CONTNUM': '412227310',\n",
       " 'CCDSLOT': 'S00',\n",
       " 'RAFTBAY': 'R00',\n",
       " 'OVERH': 64,\n",
       " 'OVERV': 48,\n",
       " 'PREH': 0,\n",
       " 'XTENSION': 'IMAGE',\n",
       " 'BITPIX': 32,\n",
       " 'NAXIS': 2,\n",
       " 'NAXIS1': 576,\n",
       " 'NAXIS2': 2048,\n",
       " 'PCOUNT': 0,\n",
       " 'GCOUNT': 1,\n",
       " 'INHERIT': True,\n",
       " 'EXTNAME': 'Segment10',\n",
       " 'DATASEC': '[1:509,1:2000]',\n",
       " 'DETSEC': '[509:1,1:2000]',\n",
       " 'DETSIZE': '[1:4072,1:4000]',\n",
       " 'DTV1': 510,\n",
       " 'DTV2': 0,\n",
       " 'DTM1_1': -1.0,\n",
       " 'DTM2_2': 1.0,\n",
       " 'DTM1_2': 0,\n",
       " 'DTM2_1': 0,\n",
       " 'HIERARCH ASTRO METADATA FIX MODIFIED': True,\n",
       " 'HIERARCH ASTRO METADATA FIX DATE': '2021-11-23T16:29:49.354004',\n",
       " 'HIERARCH ASTRO METADATA FIX VERSION': 'w.2021.47-2-g8fa89ad'}"
      ]
     },
     "execution_count": 19,
     "metadata": {},
     "output_type": "execute_result"
    }
   ],
   "source": [
    "md.toDict()"
   ]
  },
  {
   "cell_type": "code",
   "execution_count": null,
   "id": "a6a593b9-c372-406e-8e09-40ebd5ea548c",
   "metadata": {},
   "outputs": [],
   "source": []
  }
 ],
 "metadata": {
  "kernelspec": {
   "display_name": "lsst_distrib_w_2021_44",
   "language": "python",
   "name": "lsst_distrib0"
  },
  "language_info": {
   "codemirror_mode": {
    "name": "ipython",
    "version": 3
   },
   "file_extension": ".py",
   "mimetype": "text/x-python",
   "name": "python",
   "nbconvert_exporter": "python",
   "pygments_lexer": "ipython3",
   "version": "3.8.8"
  }
 },
 "nbformat": 4,
 "nbformat_minor": 5
}
