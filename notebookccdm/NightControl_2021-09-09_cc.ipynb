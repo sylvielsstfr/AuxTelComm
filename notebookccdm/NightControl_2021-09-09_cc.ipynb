{
 "cells": [
  {
   "cell_type": "markdown",
   "id": "392211c7-551e-4cfb-a6e5-f0eacb410083",
   "metadata": {},
   "source": [
    "# Observations for the night July 09th 2021 : Try to use QuickLookExp v2\n",
    "\n",
    "\n",
    "https://harvard.zoom.us/rec/play/N7umVF8Rk3vWvW_O3jkaTinofB2WxW3QKz0fVai_K-qvAYLt37uMrvskOlnBiMEjduSeQVzWT7_DDYzc.IY7Pqjef82YlWmZE?continueMode=true&_x_zm_rtaid=BjQYrDaETYeYRUMw8NQgLw.1613559822570.c813d210d38e378b719cb4048493df5b&_x_zm_rhtaid=205\n",
    "\n",
    "\n",
    "- work with Weakly_2021_44\n",
    "- use jupyter kernel LSST\n",
    "- requires the installation see https://github.com/stubbslab/PCWG-AuxTel/blob/main/setup_script.md\n",
    "- requires to write in file {HOME}/notebooks/.user_setups\n",
    "\n",
    "\n",
    "- author : Sylvie Dagoret-Campagne\n",
    "- affiliation : IJCLab\n",
    "- creation date : 2021/11/22\n",
    "- update : \n"
   ]
  },
  {
   "cell_type": "code",
   "execution_count": 2,
   "id": "58544238-8ad9-4df1-ab26-cbccf05429b8",
   "metadata": {},
   "outputs": [],
   "source": [
    "#! eups list -s"
   ]
  },
  {
   "cell_type": "code",
   "execution_count": 3,
   "id": "da1c0273-90f8-447a-b671-97482dfcc036",
   "metadata": {},
   "outputs": [],
   "source": [
    "import os\n",
    "import matplotlib.pyplot as plt\n",
    "import numpy as np\n",
    "%matplotlib inline\n",
    "from matplotlib.colors import LogNorm\n",
    "\n",
    "from mpl_toolkits.axes_grid1 import make_axes_locatable\n",
    "\n",
    "import matplotlib.ticker                         # here's where the formatter is\n",
    "from matplotlib.ticker import (MultipleLocator, FormatStrFormatter,\n",
    "                               AutoMinorLocator)\n",
    "\n",
    "from astropy.io import fits"
   ]
  },
  {
   "cell_type": "code",
   "execution_count": 4,
   "id": "3e2d2e94-6403-4748-aaf3-8d53d608da19",
   "metadata": {},
   "outputs": [],
   "source": [
    "import lsst.daf.persistence as dafPersist\n",
    "import lsst.afw.display as afwDisplay\n",
    "afwDisplay.setDefaultBackend(\"lsst.display.firefly\")"
   ]
  },
  {
   "cell_type": "code",
   "execution_count": 5,
   "id": "b1f81f09-7a39-4013-b74a-2ea6d6dfc98b",
   "metadata": {},
   "outputs": [],
   "source": [
    "FLAG_SAVE_IMAGE=True"
   ]
  },
  {
   "cell_type": "code",
   "execution_count": 12,
   "id": "e3c7a071-1046-47cb-b045-e9a373250b0e",
   "metadata": {},
   "outputs": [
    {
     "ename": "ModuleNotFoundError",
     "evalue": "No module named 'lsst.rapid'",
     "output_type": "error",
     "traceback": [
      "\u001b[0;31m---------------------------------------------------------------------------\u001b[0m",
      "\u001b[0;31mModuleNotFoundError\u001b[0m                       Traceback (most recent call last)",
      "\u001b[0;32m/tmp/ipykernel_1713/2333582243.py\u001b[0m in \u001b[0;36m<module>\u001b[0;34m\u001b[0m\n\u001b[0;32m----> 1\u001b[0;31m \u001b[0;32mfrom\u001b[0m \u001b[0mlsst\u001b[0m\u001b[0;34m.\u001b[0m\u001b[0mrapid\u001b[0m\u001b[0;34m.\u001b[0m\u001b[0manalysis\u001b[0m\u001b[0;34m.\u001b[0m\u001b[0mnightReport\u001b[0m \u001b[0;32mimport\u001b[0m \u001b[0mNightReporter\u001b[0m\u001b[0;34m\u001b[0m\u001b[0;34m\u001b[0m\u001b[0m\n\u001b[0m\u001b[1;32m      2\u001b[0m \u001b[0;31m# data exist here\u001b[0m\u001b[0;34m\u001b[0m\u001b[0;34m\u001b[0m\u001b[0;34m\u001b[0m\u001b[0m\n\u001b[1;32m      3\u001b[0m \u001b[0;31m#repoDir='/project/shared/auxTel/rerun/quickLook'\u001b[0m\u001b[0;34m\u001b[0m\u001b[0;34m\u001b[0m\u001b[0;34m\u001b[0m\u001b[0m\n\u001b[1;32m      4\u001b[0m \u001b[0mrepoDir\u001b[0m\u001b[0;34m=\u001b[0m\u001b[0;34m'/sps/lsst/groups/auxtel/data/raw_ncsa'\u001b[0m\u001b[0;34m\u001b[0m\u001b[0;34m\u001b[0m\u001b[0m\n\u001b[1;32m      5\u001b[0m \u001b[0;31m# recommended but wrong\u001b[0m\u001b[0;34m\u001b[0m\u001b[0;34m\u001b[0m\u001b[0;34m\u001b[0m\u001b[0m\n",
      "\u001b[0;31mModuleNotFoundError\u001b[0m: No module named 'lsst.rapid'"
     ]
    }
   ],
   "source": [
    "from lsst.rapid.analysis.nightReport import NightReporter\n",
    "# data exist here\n",
    "#repoDir='/project/shared/auxTel/rerun/quickLook'\n",
    "repoDir='/sps/lsst/groups/auxtel/data/raw_ncsa'\n",
    "# recommended but wrong\n",
    "#repoDir='project/shared/auxTel/rerun/mfl/slurmRun'\n",
    "dayObs=\"2021-09-09\"\n",
    "reporter=NightReporter(repoDir,dayObs)"
   ]
  },
  {
   "cell_type": "code",
   "execution_count": 7,
   "id": "2d8b2b5a-d574-4c99-be0f-6cd33a9d7cec",
   "metadata": {},
   "outputs": [],
   "source": [
    "DISPERSER_SEL=\"ronchi170lpmm\""
   ]
  },
  {
   "cell_type": "code",
   "execution_count": 8,
   "id": "f04d7c9b-de72-4dd1-888b-6dd7b6c437a4",
   "metadata": {},
   "outputs": [],
   "source": [
    "FLAG_FLAT_SELECTION=False"
   ]
  },
  {
   "cell_type": "code",
   "execution_count": 9,
   "id": "d2a4b83d-538c-47a0-92d0-7d7b0a53b9cb",
   "metadata": {},
   "outputs": [
    {
     "ename": "NameError",
     "evalue": "name 'reporter' is not defined",
     "output_type": "error",
     "traceback": [
      "\u001b[0;31m---------------------------------------------------------------------------\u001b[0m",
      "\u001b[0;31mNameError\u001b[0m                                 Traceback (most recent call last)",
      "\u001b[0;32m/tmp/ipykernel_1713/2719510759.py\u001b[0m in \u001b[0;36m<module>\u001b[0;34m\u001b[0m\n\u001b[0;32m----> 1\u001b[0;31m \u001b[0mprint\u001b[0m\u001b[0;34m(\u001b[0m\u001b[0mreporter\u001b[0m\u001b[0;34m.\u001b[0m\u001b[0mgetObservedObjects\u001b[0m\u001b[0;34m(\u001b[0m\u001b[0;34m)\u001b[0m\u001b[0;34m)\u001b[0m\u001b[0;34m\u001b[0m\u001b[0;34m\u001b[0m\u001b[0m\n\u001b[0m",
      "\u001b[0;31mNameError\u001b[0m: name 'reporter' is not defined"
     ]
    }
   ],
   "source": [
    "print(reporter.getObservedObjects())"
   ]
  },
  {
   "cell_type": "code",
   "execution_count": null,
   "id": "f61416df-cd80-49c3-81fa-24f6bd5d32ef",
   "metadata": {},
   "outputs": [],
   "source": [
    "reporter.makePolarPlotForObjects()"
   ]
  },
  {
   "cell_type": "code",
   "execution_count": 10,
   "id": "ac4d2a62-7c7c-4bca-ac95-dbbe4187bc7d",
   "metadata": {},
   "outputs": [
    {
     "ename": "NameError",
     "evalue": "name 'reporter' is not defined",
     "output_type": "error",
     "traceback": [
      "\u001b[0;31m---------------------------------------------------------------------------\u001b[0m",
      "\u001b[0;31mNameError\u001b[0m                                 Traceback (most recent call last)",
      "\u001b[0;32m/tmp/ipykernel_1713/4220604512.py\u001b[0m in \u001b[0;36m<module>\u001b[0;34m\u001b[0m\n\u001b[0;32m----> 1\u001b[0;31m \u001b[0mreporter\u001b[0m\u001b[0;34m.\u001b[0m\u001b[0mplotPerObjectAirMass\u001b[0m\u001b[0;34m(\u001b[0m\u001b[0;34m)\u001b[0m\u001b[0;34m\u001b[0m\u001b[0;34m\u001b[0m\u001b[0m\n\u001b[0m",
      "\u001b[0;31mNameError\u001b[0m: name 'reporter' is not defined"
     ]
    }
   ],
   "source": [
    "reporter.plotPerObjectAirMass()"
   ]
  },
  {
   "cell_type": "code",
   "execution_count": null,
   "id": "3de9d2a3-408a-428d-8e5b-f5845f76b992",
   "metadata": {},
   "outputs": [],
   "source": [
    "reporter.printObsTable()"
   ]
  },
  {
   "cell_type": "code",
   "execution_count": 18,
   "id": "dfcb1fd5-2566-4e99-acc5-d77a8613b2b8",
   "metadata": {},
   "outputs": [
    {
     "name": "stdout",
     "output_type": "stream",
     "text": [
      "CameraMapper INFO: Loading exposure registry from /sps/lsst/groups/auxtel/data/2021/ncsa_auxtel/registry.sqlite3\n",
      "CameraMapper INFO: Loading calib registry from /sps/lsst/groups/auxtel/data/2021/ncsa_auxtel/CALIB/calibRegistry.sqlite3\n"
     ]
    }
   ],
   "source": [
    "repoDir='/sps/lsst/groups/auxtel/data/2021/ncsa_auxtel'\n",
    "#repoDir='/sps/lsst/users/boutigny/AuxTel'\n",
    "#butler=dafPersist.Butler(\"/project/shared/auxTel\")\n",
    "butler=dafPersist.Butler(repoDir)"
   ]
  },
  {
   "cell_type": "code",
   "execution_count": 20,
   "id": "6c017889-675d-4bcf-9663-e658522385b1",
   "metadata": {},
   "outputs": [
    {
     "name": "stdout",
     "output_type": "stream",
     "text": [
      "CALIB  _mapper\traw  ref_cats  registry.sqlite3  rerun\n"
     ]
    }
   ],
   "source": [
    "! ls $repoDir"
   ]
  },
  {
   "cell_type": "code",
   "execution_count": 22,
   "id": "c13147fc-a7c0-46a0-b8f5-bc76a8ff69b4",
   "metadata": {},
   "outputs": [
    {
     "name": "stdout",
     "output_type": "stream",
     "text": [
      "calexp\t\t\t     config.log  raw\n",
      "CALIB\t\t\t     icExp\t ref_cats\n",
      "calib_construction\t     icSrc\t registry.sqlite3\n",
      "calib_construction_20210119  _mapper\t repos\n",
      "calib_construction_20210120  postISRCCD  spectractorOutput\n"
     ]
    }
   ],
   "source": [
    "! ls '/sps/lsst/users/boutigny/AuxTel'"
   ]
  },
  {
   "cell_type": "code",
   "execution_count": 23,
   "id": "e3ce6f0b-6dd3-44b0-bd7d-e382a3bb2f53",
   "metadata": {},
   "outputs": [
    {
     "name": "stdout",
     "output_type": "stream",
     "text": [
      "atmospec  obs_lsst  rapid_analysis  Spectractor\n"
     ]
    }
   ],
   "source": [
    "! ls '/sps/lsst/users/boutigny/AuxTel/repos'"
   ]
  },
  {
   "cell_type": "code",
   "execution_count": 26,
   "id": "ae5b6a85-6051-4f4b-87a1-590c022e0a43",
   "metadata": {},
   "outputs": [
    {
     "name": "stdout",
     "output_type": "stream",
     "text": [
      "postISRCCD_2021070700330-empty~holo4_003-det000-2.axy\n",
      "postISRCCD_2021070700330-empty~holo4_003-det000-2.corr\n",
      "postISRCCD_2021070700330-empty~holo4_003-det000-2.fits\n",
      "postISRCCD_2021070700330-empty~holo4_003-det000-2-indx.xyls\n",
      "postISRCCD_2021070700330-empty~holo4_003-det000-2.jpg\n",
      "postISRCCD_2021070700330-empty~holo4_003-det000-2.match\n",
      "postISRCCD_2021070700330-empty~holo4_003-det000-2-objs.png\n",
      "postISRCCD_2021070700330-empty~holo4_003-det000-2.rdls\n",
      "postISRCCD_2021070700330-empty~holo4_003-det000-2.solved\n",
      "postISRCCD_2021070700330-empty~holo4_003-det000-2.wcs\n",
      "postISRCCD_2021070700330-empty~holo4_003-det000-2.WCS.fits\n",
      "postISRCCD_2021070700330-empty~holo4_003-det000.fits\n"
     ]
    }
   ],
   "source": [
    "! ls /sps/lsst/users/boutigny/AuxTel/postISRCCD/2021-07-07"
   ]
  },
  {
   "cell_type": "code",
   "execution_count": null,
   "id": "8ff2e893-55b9-4d8e-8458-9743fa783d6a",
   "metadata": {},
   "outputs": [],
   "source": []
  }
 ],
 "metadata": {
  "kernelspec": {
   "display_name": "lsst_distrib_w_2021_44",
   "language": "python",
   "name": "lsst_distrib0"
  },
  "language_info": {
   "codemirror_mode": {
    "name": "ipython",
    "version": 3
   },
   "file_extension": ".py",
   "mimetype": "text/x-python",
   "name": "python",
   "nbconvert_exporter": "python",
   "pygments_lexer": "ipython3",
   "version": "3.8.8"
  }
 },
 "nbformat": 4,
 "nbformat_minor": 5
}
