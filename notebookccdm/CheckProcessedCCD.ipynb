{
 "cells": [
  {
   "cell_type": "markdown",
   "id": "e58f8551-fd5f-4228-bcfe-d1bf5edb2dcb",
   "metadata": {},
   "source": [
    "# Check processing DM at CC"
   ]
  },
  {
   "cell_type": "code",
   "execution_count": 3,
   "id": "05f89ef1-0980-4339-b983-42742ef6c605",
   "metadata": {},
   "outputs": [],
   "source": [
    "import os\n",
    "import matplotlib.pyplot as plt\n",
    "import numpy as np\n",
    "%matplotlib inline\n",
    "from matplotlib.colors import LogNorm\n",
    "\n",
    "from mpl_toolkits.axes_grid1 import make_axes_locatable\n",
    "\n",
    "import matplotlib.ticker                         # here's where the formatter is\n",
    "from matplotlib.ticker import (MultipleLocator, FormatStrFormatter,\n",
    "                               AutoMinorLocator)\n",
    "\n",
    "from astropy.io import fits"
   ]
  },
  {
   "cell_type": "code",
   "execution_count": 19,
   "id": "3d5a7b05-e97b-4c75-b026-dbae2dd026a2",
   "metadata": {},
   "outputs": [],
   "source": [
    "path_postISRCCD=\"/sps/lsst/groups/auxtel/softs/shared/auxteldm/rerun/dagoret/postISRCCD/2021-07-07\""
   ]
  },
  {
   "cell_type": "code",
   "execution_count": 20,
   "id": "ebed3318-8ed0-4b97-a2db-551ee2f7cb27",
   "metadata": {},
   "outputs": [],
   "source": [
    "path_calexp=\"/sps/lsst/groups/auxtel/softs/shared/auxteldm/rerun/dagoret/calexp/2021-07-07\""
   ]
  },
  {
   "cell_type": "code",
   "execution_count": 21,
   "id": "e69f2ea9-20b3-4386-afe8-ca5c7c212b3f",
   "metadata": {},
   "outputs": [
    {
     "data": {
      "text/plain": [
       "['calexp_2021070700320-empty~holo4_003-det000.fits',\n",
       " 'calexp_2021070700318-empty~holo4_003-det000.fits',\n",
       " 'calexp_2021070700330-empty~holo4_003-det000.fits',\n",
       " 'calexp_2021070700332-empty~holo4_003-det000.fits',\n",
       " 'calexp_2021070700319-empty~holo4_003-det000.fits',\n",
       " 'calexp_2021070700331-empty~holo4_003-det000.fits',\n",
       " 'calexp_2021070700317-empty~holo4_003-det000.fits',\n",
       " 'calexp_2021070700321-empty~holo4_003-det000.fits']"
      ]
     },
     "execution_count": 21,
     "metadata": {},
     "output_type": "execute_result"
    }
   ],
   "source": [
    "os.listdir(path_calexp)"
   ]
  },
  {
   "cell_type": "code",
   "execution_count": null,
   "id": "6f333b3b-1834-4f26-874b-d42720de8d49",
   "metadata": {},
   "outputs": [],
   "source": []
  }
 ],
 "metadata": {
  "kernelspec": {
   "display_name": "lsst_distrib_w_2021_44",
   "language": "python",
   "name": "lsst_distrib0"
  },
  "language_info": {
   "codemirror_mode": {
    "name": "ipython",
    "version": 3
   },
   "file_extension": ".py",
   "mimetype": "text/x-python",
   "name": "python",
   "nbconvert_exporter": "python",
   "pygments_lexer": "ipython3",
   "version": "3.8.8"
  }
 },
 "nbformat": 4,
 "nbformat_minor": 5
}
