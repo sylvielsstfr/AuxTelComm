{
 "cells": [
  {
   "cell_type": "markdown",
   "id": "1e729441-2089-413f-9313-fd7d52944a24",
   "metadata": {},
   "source": [
    "# Check Observations for the night February 15th 2022 \n",
    "\n",
    "\n",
    "https://harvard.zoom.us/rec/play/N7umVF8Rk3vWvW_O3jkaTinofB2WxW3QKz0fVai_K-qvAYLt37uMrvskOlnBiMEjduSeQVzWT7_DDYzc.IY7Pqjef82YlWmZE?continueMode=true&_x_zm_rtaid=BjQYrDaETYeYRUMw8NQgLw.1613559822570.c813d210d38e378b719cb4048493df5b&_x_zm_rhtaid=205\n",
    "\n",
    "\n",
    "- work with **Weakly_2021_44** : this is because I have holoviw with this version\n",
    "\n",
    "\n",
    "- author : Sylvie Dagoret-Campagne\n",
    "- affiliation : IJCLab\n",
    "- creation date : 2022/02/25\n",
    "- update : 22/02/26\n"
   ]
  },
  {
   "cell_type": "code",
   "execution_count": null,
   "id": "9832c2a9-87b4-4dc2-b2f2-b64e73c1ce0c",
   "metadata": {},
   "outputs": [],
   "source": [
    "! eups list -s | grep LOCAL"
   ]
  },
  {
   "cell_type": "code",
   "execution_count": null,
   "id": "0df635dd-abb4-44f2-86d0-3968d3cb27e8",
   "metadata": {},
   "outputs": [],
   "source": [
    "import os,sys\n",
    "import matplotlib.pyplot as plt\n",
    "import numpy as np\n",
    "%matplotlib inline\n",
    "from matplotlib.colors import LogNorm\n",
    "\n",
    "from mpl_toolkits.axes_grid1 import make_axes_locatable\n",
    "\n",
    "import matplotlib.ticker                         # here's where the formatter is\n",
    "from matplotlib.ticker import (MultipleLocator, FormatStrFormatter,\n",
    "                               AutoMinorLocator)\n",
    "\n",
    "from astropy.visualization import (MinMaxInterval, SqrtStretch,ZScaleInterval,PercentileInterval,\n",
    "                                   ImageNormalize,imshow_norm)\n",
    "from astropy.visualization.stretch import SinhStretch, LinearStretch,AsinhStretch,LogStretch\n",
    "\n",
    "from astropy.io import fits"
   ]
  },
  {
   "cell_type": "code",
   "execution_count": null,
   "id": "6eb489fa-d5a7-4e99-bd63-b085eacf911a",
   "metadata": {},
   "outputs": [],
   "source": [
    "# Bokeh for interactive visualization\n",
    "import bokeh\n",
    "from bokeh.io import output_file, output_notebook, show\n",
    "from bokeh.layouts import gridplot\n",
    "from bokeh.models import ColumnDataSource, CDSView, GroupFilter, HoverTool\n",
    "from bokeh.plotting import figure\n",
    "from bokeh.transform import factor_cmap\n",
    "\n",
    "import holoviews as hv\n",
    "from holoviews import streams, opts\n",
    "from holoviews.operation.datashader import rasterize\n",
    "from holoviews.operation.datashader import datashade, dynspread\n",
    "from holoviews.plotting.util import process_cmap\n",
    "\n",
    "\n",
    "import datashader as dsh"
   ]
  },
  {
   "cell_type": "code",
   "execution_count": null,
   "id": "f4089db8-0395-4dfc-ade4-1d9fb02c984c",
   "metadata": {},
   "outputs": [],
   "source": [
    "#! pip install holoview"
   ]
  },
  {
   "cell_type": "code",
   "execution_count": null,
   "id": "23bb5ce2-8e5b-484c-a848-684f08d820f6",
   "metadata": {},
   "outputs": [],
   "source": [
    "# Set the holoviews plotting library to be bokeh\n",
    "# You will see the holoviews + bokeh icons displayed when the library is loaded successfully\n",
    "#hv.extension('bokeh')\n",
    "hv.extension('bokeh', 'matplotlib')\n",
    "\n",
    "# Display bokeh plots inline in the notebook\n",
    "output_notebook()"
   ]
  },
  {
   "cell_type": "markdown",
   "id": "980be324-3ab6-4abb-a05e-c613620e0961",
   "metadata": {},
   "source": [
    "# Check executable"
   ]
  },
  {
   "cell_type": "code",
   "execution_count": null,
   "id": "04a5e2b2-bc08-4481-9888-4c2a94c7d2f8",
   "metadata": {},
   "outputs": [],
   "source": [
    "print(sys.executable)\n",
    "print(sys.version)\n",
    "#print(sys.version_info)"
   ]
  },
  {
   "cell_type": "markdown",
   "id": "40e63515-3d48-4e18-bfbf-4e23218b303a",
   "metadata": {},
   "source": [
    "# Configuration"
   ]
  },
  {
   "cell_type": "markdown",
   "id": "19723c83-98f5-4648-b693-0deec6a41cb0",
   "metadata": {},
   "source": [
    "## Selection Flag"
   ]
  },
  {
   "cell_type": "code",
   "execution_count": null,
   "id": "3181ff4b-f546-49f1-89c0-e51616ae10ab",
   "metadata": {},
   "outputs": [],
   "source": [
    "FLAG_ROTATE_IMG = True\n",
    "FLAG_TRANSFORM = True"
   ]
  },
  {
   "cell_type": "markdown",
   "id": "9bc19812-c10d-4767-b619-aa7a8b21d31c",
   "metadata": {},
   "source": [
    "## Range of values"
   ]
  },
  {
   "cell_type": "code",
   "execution_count": null,
   "id": "7db03e6b-fbf7-43d8-b6be-82a2000d0cfe",
   "metadata": {},
   "outputs": [],
   "source": [
    "VMIN = -10\n",
    "VMAX = 60"
   ]
  },
  {
   "cell_type": "markdown",
   "id": "fca53e20-b204-43db-8ea5-4cc28a66b93b",
   "metadata": {},
   "source": [
    "## transformation of the image\n",
    "\n",
    "https://docs.astropy.org/en/stable/visualization/index.html"
   ]
  },
  {
   "cell_type": "code",
   "execution_count": null,
   "id": "153cb409-e6aa-473b-b5e7-fdf006ae94e1",
   "metadata": {},
   "outputs": [],
   "source": [
    "#transform = AsinhStretch() + PercentileInterval(99.)\n",
    "transform = ZScaleInterval(contrast=0.5)\n",
    "#transform = PercentileInterval(99.)"
   ]
  },
  {
   "cell_type": "markdown",
   "id": "593a4f10-e537-49b5-b144-d572a2908af4",
   "metadata": {},
   "source": [
    "## Histograms"
   ]
  },
  {
   "cell_type": "code",
   "execution_count": null,
   "id": "d8ef1503-1954-4291-891a-bc72c8b417e3",
   "metadata": {},
   "outputs": [],
   "source": [
    "NBINS_HISTO = 200"
   ]
  },
  {
   "cell_type": "markdown",
   "id": "5ce90680-f6cf-4d3b-9685-e9736dadbb58",
   "metadata": {},
   "source": [
    "## Holoview Elements config"
   ]
  },
  {
   "cell_type": "markdown",
   "id": "4785ef0a-0b21-45af-8eb1-74e3d54f99f3",
   "metadata": {},
   "source": [
    "### Histogram config"
   ]
  },
  {
   "cell_type": "code",
   "execution_count": null,
   "id": "ca8bcd75-6112-4e33-8bf1-7020bd3aef10",
   "metadata": {},
   "outputs": [],
   "source": [
    "HV_HISTO_SINGLE_WIDTH  = 400\n",
    "HV_HISTO_SINGLE_HEIGHT = 350\n",
    "HV_HISTO_MULTI_WIDTH  = 350\n",
    "HV_HISTO_MULTI_HEIGHT = 300\n",
    "HV_HISTO_MULTI_COLS   = 4"
   ]
  },
  {
   "cell_type": "markdown",
   "id": "6da664c0-486a-48a1-8ed2-f247485b960e",
   "metadata": {},
   "source": [
    "### Image config"
   ]
  },
  {
   "cell_type": "code",
   "execution_count": null,
   "id": "8cf5a815-6c10-4b4d-b7cd-c76bf209b7fb",
   "metadata": {},
   "outputs": [],
   "source": [
    "HV_IMAGE_SINGLE_WIDTH  = 800\n",
    "HV_IMAGE_SINGLE_HEIGHT = 800\n",
    "HV_IMAGE_SINGLE_FRAME_WIDTH = 800\n",
    "HV_IMAGE_MULTI_WIDTH  = 300\n",
    "HV_IMAGE_MULTI_HEIGHT = 300\n",
    "HV_IMAGE_MULTI_FRAME_WIDTH = 300\n",
    "HV_IMAGE_MULTI_COLS   = 4"
   ]
  },
  {
   "cell_type": "markdown",
   "id": "5681d46c-a306-4a4a-9b01-3658608c6170",
   "metadata": {},
   "source": [
    "# Path of the image"
   ]
  },
  {
   "cell_type": "code",
   "execution_count": null,
   "id": "854be612-e5d2-4623-8334-e001502d3d8b",
   "metadata": {},
   "outputs": [],
   "source": [
    "MYDATE=\"2022-02-15\""
   ]
  },
  {
   "cell_type": "code",
   "execution_count": null,
   "id": "2b732b49-558e-4cd9-8e94-b41d2ab4bd57",
   "metadata": {},
   "outputs": [],
   "source": [
    "path_postISRCCD=\"/sps/lsst/groups/auxtel/softs/shared/auxteldm/rerun/dagoret_testfordispersers2022_03/postISRCCD/\" + MYDATE"
   ]
  },
  {
   "cell_type": "code",
   "execution_count": null,
   "id": "b05b2b8c-a939-4e9b-8517-900d41913536",
   "metadata": {},
   "outputs": [],
   "source": [
    "list_of_files_postisrccd=os.listdir(path_postISRCCD)"
   ]
  },
  {
   "cell_type": "code",
   "execution_count": null,
   "id": "b01520fc-7094-493e-90a8-fdea83f8c205",
   "metadata": {},
   "outputs": [],
   "source": [
    "list_of_files_postisrccd = sorted(list_of_files_postisrccd)\n",
    "list_of_files_postisrccd"
   ]
  },
  {
   "cell_type": "markdown",
   "id": "7e6ecf27-0bcd-4afe-a294-b0109f4fbe86",
   "metadata": {},
   "source": [
    "# Select the image"
   ]
  },
  {
   "cell_type": "code",
   "execution_count": null,
   "id": "1bde4352-2b54-4a74-89b8-45a070d42769",
   "metadata": {},
   "outputs": [],
   "source": [
    "index=6"
   ]
  },
  {
   "cell_type": "code",
   "execution_count": null,
   "id": "d526f31b-9d9d-4e0e-96c4-55cad8eb4386",
   "metadata": {},
   "outputs": [],
   "source": [
    "filename_postisrccd = list_of_files_postisrccd[index]\n",
    "fullfilename_postisrccd=os.path.join(path_postISRCCD,filename_postisrccd)\n",
    "hdul_postisrccd = fits.open(fullfilename_postisrccd)"
   ]
  },
  {
   "cell_type": "code",
   "execution_count": null,
   "id": "2f7ea689-1885-4e4d-9bdd-ce23c70b60c7",
   "metadata": {},
   "outputs": [],
   "source": [
    "filename_name = filename_postisrccd "
   ]
  },
  {
   "cell_type": "code",
   "execution_count": null,
   "id": "725a076a-a0b2-40c6-8cf9-6fba19be153d",
   "metadata": {},
   "outputs": [],
   "source": [
    "hdul_postisrccd.info()"
   ]
  },
  {
   "cell_type": "markdown",
   "id": "ac28421d-0a39-4c6a-b0a1-55543d559e26",
   "metadata": {},
   "source": [
    "# Process the image"
   ]
  },
  {
   "cell_type": "code",
   "execution_count": null,
   "id": "534cb7d5-d121-4337-b11d-3ec0cee78b03",
   "metadata": {},
   "outputs": [],
   "source": [
    "image=hdul_postisrccd[1].data"
   ]
  },
  {
   "cell_type": "code",
   "execution_count": null,
   "id": "5e81a290-1626-4b5d-bf0c-b927a06b8cc5",
   "metadata": {},
   "outputs": [],
   "source": [
    "if FLAG_TRANSFORM: \n",
    "    scaledImage = transform(image)\n",
    "else:\n",
    "    scaledImage = image"
   ]
  },
  {
   "cell_type": "code",
   "execution_count": null,
   "id": "deab3520-07d2-40a7-8b84-a0722f8f58e5",
   "metadata": {},
   "outputs": [],
   "source": [
    "if FLAG_ROTATE_IMG:\n",
    "    rotscaledImage=np.rot90(scaledImage)\n",
    "else:\n",
    "    rotscaledImage = scaledImage"
   ]
  },
  {
   "cell_type": "code",
   "execution_count": null,
   "id": "3e6d5cfa-32a2-4cad-aaf7-1b6980aca74b",
   "metadata": {},
   "outputs": [],
   "source": [
    "#from holoviews import streams\n",
    "from holoviews.streams import Stream, param\n",
    "listing = ', '.join(sorted([str(s.name) for s in param.descendents(streams.LinkedStream)]))\n",
    "print('The linked stream classes supported by HoloViews are:\\n\\n{listing}'.format(listing=listing))"
   ]
  },
  {
   "cell_type": "code",
   "execution_count": null,
   "id": "75a2d53c-73c1-44de-a427-c0e307fbaab3",
   "metadata": {},
   "outputs": [],
   "source": [
    "TOOLTIPS = [\n",
    "    ('name', \"$name\"),\n",
    "    ('index', \"$index\"),\n",
    "    ('pattern', '@pattern'),\n",
    "    (\"x\", \"$x\"),\n",
    "    (\"y\", \"$y\"),\n",
    "    (\"value\", \"@image\"),\n",
    "    ('squared', '@squared')\n",
    "]\n",
    "\n",
    "TOOLTIPS = [\n",
    "    (\"(x,y)\", \"($x, $y)\"),\n",
    "]\n",
    "\n",
    "hover = HoverTool(description='Custom Tooltip', tooltips=[('x', '@x'), ('y', '@y')])\n",
    "\n",
    "\n",
    "# Custom hover tool for the source detections\n",
    "myhover = HoverTool(\n",
    "    tooltips=[\n",
    "        ( 'x', '@x{0.2f}'),\n",
    "        ( 'y', '@y{0.2f}'),\n",
    "    ],\n",
    "    formatters={\n",
    "        'x' : 'printf',\n",
    "        'y' : 'printf',\n",
    "    },\n",
    "    \n",
    ")"
   ]
  },
  {
   "cell_type": "code",
   "execution_count": null,
   "id": "ae113eef-029b-467c-9ac1-cb09dab44756",
   "metadata": {},
   "outputs": [],
   "source": [
    "# Define some default plot options for the Image\n",
    "img_opts = dict(\n",
    "                #height=600, width=700, \n",
    "                xaxis=\"bottom\", \n",
    "                padding = 0.0, fontsize={'title': '8pt'},\n",
    "                colorbar=True, toolbar='right', show_grid=True,\n",
    "                aspect='equal',\n",
    "                frame_width=HV_IMAGE_SINGLE_FRAME_WIDTH\n",
    "               )   "
   ]
  },
  {
   "cell_type": "code",
   "execution_count": null,
   "id": "6284a021-a881-4fa5-a1bd-d0768d7ae3ac",
   "metadata": {},
   "outputs": [],
   "source": [
    "# Create the Image element.\n",
    "bounds_img=(0,0,rotscaledImage.shape[1],rotscaledImage.shape[0])\n",
    "img = hv.Image(rotscaledImage, bounds=bounds_img,\n",
    "               kdims=['x', 'y']).opts(\n",
    "    cmap = \"Greys_r\",  xlabel = 'x', ylabel ='y',\n",
    "#    clim=(VMIN,VMAX),\n",
    "    title = filename_name,\n",
    "    **img_opts)"
   ]
  },
  {
   "cell_type": "code",
   "execution_count": null,
   "id": "1e09d2db-d0a8-44dd-a12d-dff4a5b15bc8",
   "metadata": {},
   "outputs": [],
   "source": [
    "rasterize(img)"
   ]
  },
  {
   "cell_type": "code",
   "execution_count": null,
   "id": "ace9d0d8-9674-4b47-b49e-c876ebdde320",
   "metadata": {},
   "outputs": [],
   "source": []
  }
 ],
 "metadata": {
  "kernelspec": {
   "display_name": "lsst_distrib_w_2021_44",
   "language": "python",
   "name": "lsst_distrib_w_2021_44"
  },
  "language_info": {
   "codemirror_mode": {
    "name": "ipython",
    "version": 3
   },
   "file_extension": ".py",
   "mimetype": "text/x-python",
   "name": "python",
   "nbconvert_exporter": "python",
   "pygments_lexer": "ipython3",
   "version": "3.8.8"
  }
 },
 "nbformat": 4,
 "nbformat_minor": 5
}
