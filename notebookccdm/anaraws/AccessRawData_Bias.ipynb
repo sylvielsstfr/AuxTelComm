{
 "cells": [
  {
   "cell_type": "markdown",
   "id": "c813ed6a",
   "metadata": {
    "tags": []
   },
   "source": [
    "# Example of accessing raw data at CCIN2P3\n",
    "\n",
    "\n",
    "- work with Weakly_2021_36\n",
    "- use jupyter kernel LSST\n",
    "\n",
    "\n",
    "\n",
    "- author : Sylvie Dagoret-Campagne\n",
    "- affiliation : IJCLab\n",
    "- creation date : 2022/03/02\n",
    "\n"
   ]
  },
  {
   "cell_type": "code",
   "execution_count": 4,
   "id": "2e1f28b1",
   "metadata": {},
   "outputs": [],
   "source": [
    "! eups list -s | grep local"
   ]
  },
  {
   "cell_type": "code",
   "execution_count": 5,
   "id": "ea83b669",
   "metadata": {},
   "outputs": [],
   "source": [
    "import os\n",
    "import matplotlib.pyplot as plt\n",
    "import numpy as np\n",
    "import pandas as pd\n",
    "%matplotlib inline\n",
    "from matplotlib.colors import LogNorm\n",
    "\n",
    "from mpl_toolkits.axes_grid1 import make_axes_locatable\n",
    "\n",
    "import matplotlib.ticker                         # here's where the formatter is\n",
    "from matplotlib.ticker import (MultipleLocator, FormatStrFormatter,\n",
    "                               AutoMinorLocator)\n",
    "\n",
    "from astropy.io import fits\n",
    "import sqlite3"
   ]
  },
  {
   "cell_type": "code",
   "execution_count": 6,
   "id": "5286df73-db86-469a-8c60-c8f8ae36f2d6",
   "metadata": {},
   "outputs": [],
   "source": [
    "def read_sqlite(dbfile):\n",
    "    import sqlite3\n",
    "    from pandas import read_sql_query, read_sql_table\n",
    "\n",
    "    with sqlite3.connect(dbfile) as dbcon:\n",
    "        tables = list(read_sql_query(\"SELECT name FROM sqlite_master WHERE type='table';\", dbcon)['name'])\n",
    "        out = {tbl : read_sql_query(f\"SELECT * from {tbl}\", dbcon) for tbl in tables}\n",
    "\n",
    "    return out"
   ]
  },
  {
   "cell_type": "code",
   "execution_count": 7,
   "id": "7a36f8cd",
   "metadata": {},
   "outputs": [],
   "source": [
    "import lsst.daf.persistence as dafPersist\n",
    "import lsst.afw.display as afwDisplay\n",
    "afwDisplay.setDefaultBackend(\"lsst.display.firefly\")"
   ]
  },
  {
   "cell_type": "code",
   "execution_count": 8,
   "id": "243f94e4",
   "metadata": {},
   "outputs": [],
   "source": [
    "FLAG_SAVE_IMAGE=False"
   ]
  },
  {
   "cell_type": "code",
   "execution_count": 9,
   "id": "695997c7",
   "metadata": {},
   "outputs": [
    {
     "name": "stdout",
     "output_type": "stream",
     "text": [
      "all_visits\t       _mapper\t\t\trun_ingestmasterbias.py~\n",
      "all_visitsbias\t       _mapper~\t\t\trun_masterbiasing.sh\n",
      "all_visitsdispersers   processConfig.py\t\trun_masterbiasing.sh~\n",
      "all_visitsflats        raw\t\t\trun_masterflatting.sh\n",
      "biasConfig.py\t       README.md\t\trun_processstar.sh\n",
      "CALIB\t\t       README.md~\t\trun_processstar_v2.sh\n",
      "flatConfig.py\t       ref_cats\t\t\trun_processstar_v2.sh~\n",
      "flat.list\t       registry.sqlite3\t\trun_processstar_v3.sh\n",
      "launchflats.sh\t       repos\t\t\trun_processstar_v3.sh~\n",
      "launchprocessstar.sh   rerun\t\t\tvisit.list\n",
      "launchprocessstar.sh~  run_ingestmasterbias.py\n"
     ]
    }
   ],
   "source": [
    "!ls /sps/lsst/groups/auxtel/softs/shared/auxteldm"
   ]
  },
  {
   "cell_type": "markdown",
   "id": "a87cdba1",
   "metadata": {},
   "source": [
    "# Configuration"
   ]
  },
  {
   "cell_type": "markdown",
   "id": "65a2d40b",
   "metadata": {},
   "source": [
    "## Location and date"
   ]
  },
  {
   "cell_type": "code",
   "execution_count": 10,
   "id": "d62cae34",
   "metadata": {},
   "outputs": [],
   "source": [
    "SOFT_VERSION=\"v0\""
   ]
  },
  {
   "cell_type": "code",
   "execution_count": 11,
   "id": "7ad789d7",
   "metadata": {},
   "outputs": [],
   "source": [
    "#from lsst.rapid.analysis.nightReport import NightReporter\n",
    "# data exist here\n",
    "repoDir='/sps/lsst/groups/auxtel/softs/shared/auxteldm'\n",
    "registryfile=os.path.join(repoDir,'registry.sqlite3')\n",
    "# recommended but wrong\n",
    "#repoDir='project/shared/auxTel/rerun/mfl/slurmRun'\n",
    "dayObs=\"2021-02-16\"\n",
    "#reporter=NightReporter(repoDir,dayObs)"
   ]
  },
  {
   "cell_type": "markdown",
   "id": "c43df84a",
   "metadata": {},
   "source": [
    "# Selection"
   ]
  },
  {
   "cell_type": "code",
   "execution_count": 12,
   "id": "0c188e99",
   "metadata": {},
   "outputs": [],
   "source": [
    "DISPERSER_SEL=\"holo4_003\""
   ]
  },
  {
   "cell_type": "code",
   "execution_count": 13,
   "id": "0d029648",
   "metadata": {},
   "outputs": [],
   "source": [
    "FLAG_BIAS_SELECTION=True"
   ]
  },
  {
   "cell_type": "markdown",
   "id": "ba688f28",
   "metadata": {},
   "source": [
    "# Information from reporter"
   ]
  },
  {
   "cell_type": "code",
   "execution_count": 14,
   "id": "28d689cb",
   "metadata": {},
   "outputs": [],
   "source": [
    "#print(reporter.getObservedObjects())"
   ]
  },
  {
   "cell_type": "code",
   "execution_count": 15,
   "id": "4acd49bc",
   "metadata": {},
   "outputs": [],
   "source": [
    "#reporter.makePolarPlotForObjects()"
   ]
  },
  {
   "cell_type": "code",
   "execution_count": 16,
   "id": "daaf2f72",
   "metadata": {},
   "outputs": [],
   "source": [
    "#reporter.plotPerObjectAirMass()"
   ]
  },
  {
   "cell_type": "code",
   "execution_count": 17,
   "id": "91a71416",
   "metadata": {},
   "outputs": [],
   "source": [
    "#reporter.printObsTable()"
   ]
  },
  {
   "cell_type": "markdown",
   "id": "760cf568-6b40-4a3c-b48c-d58da7f6c22b",
   "metadata": {},
   "source": [
    "# Information from registry file"
   ]
  },
  {
   "cell_type": "code",
   "execution_count": 18,
   "id": "8cb6d657-8a06-4d72-b72a-265c1eb05e9c",
   "metadata": {},
   "outputs": [],
   "source": [
    "dict_db = read_sqlite(registryfile)"
   ]
  },
  {
   "cell_type": "code",
   "execution_count": 19,
   "id": "21a154de-e18f-4873-a386-c204bb29d0b2",
   "metadata": {},
   "outputs": [
    {
     "data": {
      "text/plain": [
       "dict_keys(['raw', 'sqlite_sequence', 'raw_visit'])"
      ]
     },
     "execution_count": 19,
     "metadata": {},
     "output_type": "execute_result"
    }
   ],
   "source": [
    "dict_db.keys()"
   ]
  },
  {
   "cell_type": "code",
   "execution_count": 20,
   "id": "b294b1ff-3f01-4c6d-a4d2-0c8f4ef45484",
   "metadata": {},
   "outputs": [],
   "source": [
    "dat = sqlite3.connect(registryfile)"
   ]
  },
  {
   "cell_type": "code",
   "execution_count": 21,
   "id": "5c67481f-07bd-4d0c-8382-1006ddaed1e9",
   "metadata": {},
   "outputs": [],
   "source": [
    "query = dat.execute(\"SELECT * From raw\")"
   ]
  },
  {
   "cell_type": "code",
   "execution_count": 22,
   "id": "9e337d71-76f6-4cf0-bdee-b6ef48d81585",
   "metadata": {},
   "outputs": [],
   "source": [
    "cols = [column[0] for column in query.description]"
   ]
  },
  {
   "cell_type": "code",
   "execution_count": 23,
   "id": "13ce0a5e-966c-474b-b6c6-3f004b451625",
   "metadata": {},
   "outputs": [],
   "source": [
    "results= pd.DataFrame.from_records(data = query.fetchall(), columns = cols)"
   ]
  },
  {
   "cell_type": "code",
   "execution_count": 24,
   "id": "0e67e6e0-50e7-4a66-839e-4bf148891c15",
   "metadata": {},
   "outputs": [
    {
     "data": {
      "text/html": [
       "<div>\n",
       "<style scoped>\n",
       "    .dataframe tbody tr th:only-of-type {\n",
       "        vertical-align: middle;\n",
       "    }\n",
       "\n",
       "    .dataframe tbody tr th {\n",
       "        vertical-align: top;\n",
       "    }\n",
       "\n",
       "    .dataframe thead th {\n",
       "        text-align: right;\n",
       "    }\n",
       "</style>\n",
       "<table border=\"1\" class=\"dataframe\">\n",
       "  <thead>\n",
       "    <tr style=\"text-align: right;\">\n",
       "      <th></th>\n",
       "      <th>id</th>\n",
       "      <th>dayObs</th>\n",
       "      <th>seqNum</th>\n",
       "      <th>visit</th>\n",
       "      <th>detector</th>\n",
       "      <th>detectorName</th>\n",
       "      <th>filter</th>\n",
       "      <th>dateObs</th>\n",
       "      <th>date</th>\n",
       "      <th>expTime</th>\n",
       "      <th>object</th>\n",
       "      <th>imageType</th>\n",
       "      <th>wavelength</th>\n",
       "      <th>expGroup</th>\n",
       "      <th>obsid</th>\n",
       "      <th>expId</th>\n",
       "    </tr>\n",
       "  </thead>\n",
       "  <tbody>\n",
       "    <tr>\n",
       "      <th>0</th>\n",
       "      <td>1</td>\n",
       "      <td>2021-06-08</td>\n",
       "      <td>1</td>\n",
       "      <td>2031133798900000</td>\n",
       "      <td>0</td>\n",
       "      <td>S00</td>\n",
       "      <td>RG610~holo4_003</td>\n",
       "      <td>2021-06-08T20:23:00.082</td>\n",
       "      <td>2021-06-08T20:23:00.082</td>\n",
       "      <td>0.0</td>\n",
       "      <td>azel_target</td>\n",
       "      <td>BIAS</td>\n",
       "      <td>-666</td>\n",
       "      <td>2021-06-08T20:22:59.890</td>\n",
       "      <td>AT_O_20210608_000001</td>\n",
       "      <td>2021060800001</td>\n",
       "    </tr>\n",
       "    <tr>\n",
       "      <th>1</th>\n",
       "      <td>2</td>\n",
       "      <td>2021-06-08</td>\n",
       "      <td>2</td>\n",
       "      <td>2031134348450000</td>\n",
       "      <td>0</td>\n",
       "      <td>S00</td>\n",
       "      <td>RG610~holo4_003</td>\n",
       "      <td>2021-06-08T20:23:55.021</td>\n",
       "      <td>2021-06-08T20:23:55.021</td>\n",
       "      <td>0.0</td>\n",
       "      <td>azel_target</td>\n",
       "      <td>BIAS</td>\n",
       "      <td>-666</td>\n",
       "      <td>2021-06-08T20:23:54.845</td>\n",
       "      <td>AT_O_20210608_000002</td>\n",
       "      <td>2021060800002</td>\n",
       "    </tr>\n",
       "    <tr>\n",
       "      <th>2</th>\n",
       "      <td>3</td>\n",
       "      <td>2021-06-08</td>\n",
       "      <td>3</td>\n",
       "      <td>2031134393460000</td>\n",
       "      <td>0</td>\n",
       "      <td>S00</td>\n",
       "      <td>RG610~holo4_003</td>\n",
       "      <td>2021-06-08T20:23:59.516</td>\n",
       "      <td>2021-06-08T20:23:59.516</td>\n",
       "      <td>0.0</td>\n",
       "      <td>azel_target</td>\n",
       "      <td>BIAS</td>\n",
       "      <td>-666</td>\n",
       "      <td>2021-06-08T20:23:59.346</td>\n",
       "      <td>AT_O_20210608_000003</td>\n",
       "      <td>2021060800003</td>\n",
       "    </tr>\n",
       "    <tr>\n",
       "      <th>3</th>\n",
       "      <td>4</td>\n",
       "      <td>2021-06-08</td>\n",
       "      <td>4</td>\n",
       "      <td>2031134438450000</td>\n",
       "      <td>0</td>\n",
       "      <td>S00</td>\n",
       "      <td>RG610~holo4_003</td>\n",
       "      <td>2021-06-08T20:24:04.019</td>\n",
       "      <td>2021-06-08T20:24:04.019</td>\n",
       "      <td>0.0</td>\n",
       "      <td>azel_target</td>\n",
       "      <td>BIAS</td>\n",
       "      <td>-666</td>\n",
       "      <td>2021-06-08T20:24:03.845</td>\n",
       "      <td>AT_O_20210608_000004</td>\n",
       "      <td>2021060800004</td>\n",
       "    </tr>\n",
       "    <tr>\n",
       "      <th>4</th>\n",
       "      <td>5</td>\n",
       "      <td>2021-06-08</td>\n",
       "      <td>5</td>\n",
       "      <td>2031134483610000</td>\n",
       "      <td>0</td>\n",
       "      <td>S00</td>\n",
       "      <td>RG610~holo4_003</td>\n",
       "      <td>2021-06-08T20:24:08.527</td>\n",
       "      <td>2021-06-08T20:24:08.527</td>\n",
       "      <td>0.0</td>\n",
       "      <td>azel_target</td>\n",
       "      <td>BIAS</td>\n",
       "      <td>-666</td>\n",
       "      <td>2021-06-08T20:24:08.361</td>\n",
       "      <td>AT_O_20210608_000005</td>\n",
       "      <td>2021060800005</td>\n",
       "    </tr>\n",
       "    <tr>\n",
       "      <th>...</th>\n",
       "      <td>...</td>\n",
       "      <td>...</td>\n",
       "      <td>...</td>\n",
       "      <td>...</td>\n",
       "      <td>...</td>\n",
       "      <td>...</td>\n",
       "      <td>...</td>\n",
       "      <td>...</td>\n",
       "      <td>...</td>\n",
       "      <td>...</td>\n",
       "      <td>...</td>\n",
       "      <td>...</td>\n",
       "      <td>...</td>\n",
       "      <td>...</td>\n",
       "      <td>...</td>\n",
       "      <td>...</td>\n",
       "    </tr>\n",
       "    <tr>\n",
       "      <th>12755</th>\n",
       "      <td>12756</td>\n",
       "      <td>2022-02-17</td>\n",
       "      <td>765</td>\n",
       "      <td>2251058140450000</td>\n",
       "      <td>0</td>\n",
       "      <td>S00</td>\n",
       "      <td>SDSSg~empty</td>\n",
       "      <td>2022-02-18T09:25:53.560</td>\n",
       "      <td>2022-02-18T09:25:53.560</td>\n",
       "      <td>30.0</td>\n",
       "      <td>LATISS_E6A_00000034</td>\n",
       "      <td>SKYEXP</td>\n",
       "      <td>-666</td>\n",
       "      <td>2022-02-18T09:23:34.045</td>\n",
       "      <td>AT_O_20220217_000765</td>\n",
       "      <td>2022021700765</td>\n",
       "    </tr>\n",
       "    <tr>\n",
       "      <th>12756</th>\n",
       "      <td>12757</td>\n",
       "      <td>2022-02-17</td>\n",
       "      <td>766</td>\n",
       "      <td>2251059032260000</td>\n",
       "      <td>0</td>\n",
       "      <td>S00</td>\n",
       "      <td>SDSSi~empty</td>\n",
       "      <td>2022-02-18T09:26:52.861</td>\n",
       "      <td>2022-02-18T09:26:52.861</td>\n",
       "      <td>30.0</td>\n",
       "      <td>LATISS_E6A_00000034</td>\n",
       "      <td>SKYEXP</td>\n",
       "      <td>-666</td>\n",
       "      <td>2022-02-18T09:25:03.226</td>\n",
       "      <td>AT_O_20220217_000766</td>\n",
       "      <td>2022021700766</td>\n",
       "    </tr>\n",
       "    <tr>\n",
       "      <th>12757</th>\n",
       "      <td>12758</td>\n",
       "      <td>2022-02-17</td>\n",
       "      <td>767</td>\n",
       "      <td>2251059032260000</td>\n",
       "      <td>0</td>\n",
       "      <td>S00</td>\n",
       "      <td>SDSSi~empty</td>\n",
       "      <td>2022-02-18T09:27:25.852</td>\n",
       "      <td>2022-02-18T09:27:25.852</td>\n",
       "      <td>30.0</td>\n",
       "      <td>LATISS_E6A_00000034</td>\n",
       "      <td>SKYEXP</td>\n",
       "      <td>-666</td>\n",
       "      <td>2022-02-18T09:25:03.226</td>\n",
       "      <td>AT_O_20220217_000767</td>\n",
       "      <td>2022021700767</td>\n",
       "    </tr>\n",
       "    <tr>\n",
       "      <th>12758</th>\n",
       "      <td>12759</td>\n",
       "      <td>2022-02-17</td>\n",
       "      <td>768</td>\n",
       "      <td>2251059905630000</td>\n",
       "      <td>0</td>\n",
       "      <td>S00</td>\n",
       "      <td>SDSSr~empty</td>\n",
       "      <td>2022-02-18T09:28:22.143</td>\n",
       "      <td>2022-02-18T09:28:22.143</td>\n",
       "      <td>30.0</td>\n",
       "      <td>LATISS_E6A_00000034</td>\n",
       "      <td>SKYEXP</td>\n",
       "      <td>-666</td>\n",
       "      <td>2022-02-18T09:26:30.563</td>\n",
       "      <td>AT_O_20220217_000768</td>\n",
       "      <td>2022021700768</td>\n",
       "    </tr>\n",
       "    <tr>\n",
       "      <th>12759</th>\n",
       "      <td>12760</td>\n",
       "      <td>2022-02-17</td>\n",
       "      <td>769</td>\n",
       "      <td>2251059905630000</td>\n",
       "      <td>0</td>\n",
       "      <td>S00</td>\n",
       "      <td>SDSSr~empty</td>\n",
       "      <td>2022-02-18T09:28:55.127</td>\n",
       "      <td>2022-02-18T09:28:55.127</td>\n",
       "      <td>30.0</td>\n",
       "      <td>LATISS_E6A_00000034</td>\n",
       "      <td>SKYEXP</td>\n",
       "      <td>-666</td>\n",
       "      <td>2022-02-18T09:26:30.563</td>\n",
       "      <td>AT_O_20220217_000769</td>\n",
       "      <td>2022021700769</td>\n",
       "    </tr>\n",
       "  </tbody>\n",
       "</table>\n",
       "<p>12760 rows × 16 columns</p>\n",
       "</div>"
      ],
      "text/plain": [
       "          id      dayObs  seqNum             visit  detector detectorName  \\\n",
       "0          1  2021-06-08       1  2031133798900000         0          S00   \n",
       "1          2  2021-06-08       2  2031134348450000         0          S00   \n",
       "2          3  2021-06-08       3  2031134393460000         0          S00   \n",
       "3          4  2021-06-08       4  2031134438450000         0          S00   \n",
       "4          5  2021-06-08       5  2031134483610000         0          S00   \n",
       "...      ...         ...     ...               ...       ...          ...   \n",
       "12755  12756  2022-02-17     765  2251058140450000         0          S00   \n",
       "12756  12757  2022-02-17     766  2251059032260000         0          S00   \n",
       "12757  12758  2022-02-17     767  2251059032260000         0          S00   \n",
       "12758  12759  2022-02-17     768  2251059905630000         0          S00   \n",
       "12759  12760  2022-02-17     769  2251059905630000         0          S00   \n",
       "\n",
       "                filter                  dateObs                     date  \\\n",
       "0      RG610~holo4_003  2021-06-08T20:23:00.082  2021-06-08T20:23:00.082   \n",
       "1      RG610~holo4_003  2021-06-08T20:23:55.021  2021-06-08T20:23:55.021   \n",
       "2      RG610~holo4_003  2021-06-08T20:23:59.516  2021-06-08T20:23:59.516   \n",
       "3      RG610~holo4_003  2021-06-08T20:24:04.019  2021-06-08T20:24:04.019   \n",
       "4      RG610~holo4_003  2021-06-08T20:24:08.527  2021-06-08T20:24:08.527   \n",
       "...                ...                      ...                      ...   \n",
       "12755      SDSSg~empty  2022-02-18T09:25:53.560  2022-02-18T09:25:53.560   \n",
       "12756      SDSSi~empty  2022-02-18T09:26:52.861  2022-02-18T09:26:52.861   \n",
       "12757      SDSSi~empty  2022-02-18T09:27:25.852  2022-02-18T09:27:25.852   \n",
       "12758      SDSSr~empty  2022-02-18T09:28:22.143  2022-02-18T09:28:22.143   \n",
       "12759      SDSSr~empty  2022-02-18T09:28:55.127  2022-02-18T09:28:55.127   \n",
       "\n",
       "       expTime               object imageType  wavelength  \\\n",
       "0          0.0          azel_target      BIAS        -666   \n",
       "1          0.0          azel_target      BIAS        -666   \n",
       "2          0.0          azel_target      BIAS        -666   \n",
       "3          0.0          azel_target      BIAS        -666   \n",
       "4          0.0          azel_target      BIAS        -666   \n",
       "...        ...                  ...       ...         ...   \n",
       "12755     30.0  LATISS_E6A_00000034    SKYEXP        -666   \n",
       "12756     30.0  LATISS_E6A_00000034    SKYEXP        -666   \n",
       "12757     30.0  LATISS_E6A_00000034    SKYEXP        -666   \n",
       "12758     30.0  LATISS_E6A_00000034    SKYEXP        -666   \n",
       "12759     30.0  LATISS_E6A_00000034    SKYEXP        -666   \n",
       "\n",
       "                      expGroup                 obsid          expId  \n",
       "0      2021-06-08T20:22:59.890  AT_O_20210608_000001  2021060800001  \n",
       "1      2021-06-08T20:23:54.845  AT_O_20210608_000002  2021060800002  \n",
       "2      2021-06-08T20:23:59.346  AT_O_20210608_000003  2021060800003  \n",
       "3      2021-06-08T20:24:03.845  AT_O_20210608_000004  2021060800004  \n",
       "4      2021-06-08T20:24:08.361  AT_O_20210608_000005  2021060800005  \n",
       "...                        ...                   ...            ...  \n",
       "12755  2022-02-18T09:23:34.045  AT_O_20220217_000765  2022021700765  \n",
       "12756  2022-02-18T09:25:03.226  AT_O_20220217_000766  2022021700766  \n",
       "12757  2022-02-18T09:25:03.226  AT_O_20220217_000767  2022021700767  \n",
       "12758  2022-02-18T09:26:30.563  AT_O_20220217_000768  2022021700768  \n",
       "12759  2022-02-18T09:26:30.563  AT_O_20220217_000769  2022021700769  \n",
       "\n",
       "[12760 rows x 16 columns]"
      ]
     },
     "execution_count": 24,
     "metadata": {},
     "output_type": "execute_result"
    }
   ],
   "source": [
    "results"
   ]
  },
  {
   "cell_type": "code",
   "execution_count": 25,
   "id": "f2630341-a3ef-4c55-9692-dd3896e8df1e",
   "metadata": {},
   "outputs": [],
   "source": [
    "results_sorted = results.sort_values([\"dayObs\", \"seqNum\"], ascending=True)"
   ]
  },
  {
   "cell_type": "code",
   "execution_count": 26,
   "id": "37a5c44a-f501-4f49-a456-7dae98d07b7d",
   "metadata": {},
   "outputs": [
    {
     "data": {
      "text/html": [
       "<div>\n",
       "<style scoped>\n",
       "    .dataframe tbody tr th:only-of-type {\n",
       "        vertical-align: middle;\n",
       "    }\n",
       "\n",
       "    .dataframe tbody tr th {\n",
       "        vertical-align: top;\n",
       "    }\n",
       "\n",
       "    .dataframe thead th {\n",
       "        text-align: right;\n",
       "    }\n",
       "</style>\n",
       "<table border=\"1\" class=\"dataframe\">\n",
       "  <thead>\n",
       "    <tr style=\"text-align: right;\">\n",
       "      <th></th>\n",
       "      <th>id</th>\n",
       "      <th>dayObs</th>\n",
       "      <th>seqNum</th>\n",
       "      <th>visit</th>\n",
       "      <th>detector</th>\n",
       "      <th>detectorName</th>\n",
       "      <th>filter</th>\n",
       "      <th>dateObs</th>\n",
       "      <th>date</th>\n",
       "      <th>expTime</th>\n",
       "      <th>object</th>\n",
       "      <th>imageType</th>\n",
       "      <th>wavelength</th>\n",
       "      <th>expGroup</th>\n",
       "      <th>obsid</th>\n",
       "      <th>expId</th>\n",
       "    </tr>\n",
       "  </thead>\n",
       "  <tbody>\n",
       "    <tr>\n",
       "      <th>8687</th>\n",
       "      <td>8688</td>\n",
       "      <td>2021-02-16</td>\n",
       "      <td>1</td>\n",
       "      <td>1934346219930000</td>\n",
       "      <td>0</td>\n",
       "      <td>S00</td>\n",
       "      <td>empty~empty</td>\n",
       "      <td>2021-02-16T19:50:22.184</td>\n",
       "      <td>2021-02-16T19:50:22.184</td>\n",
       "      <td>0.0</td>\n",
       "      <td>azel_target</td>\n",
       "      <td>BIAS</td>\n",
       "      <td>-666</td>\n",
       "      <td>2021-02-16T19:50:21.993</td>\n",
       "      <td>AT_O_20210216_000001</td>\n",
       "      <td>2021021600001</td>\n",
       "    </tr>\n",
       "    <tr>\n",
       "      <th>8688</th>\n",
       "      <td>8689</td>\n",
       "      <td>2021-02-16</td>\n",
       "      <td>2</td>\n",
       "      <td>1934362834080000</td>\n",
       "      <td>0</td>\n",
       "      <td>S00</td>\n",
       "      <td>empty~empty</td>\n",
       "      <td>2021-02-16T20:18:03.588</td>\n",
       "      <td>2021-02-16T20:18:03.588</td>\n",
       "      <td>0.0</td>\n",
       "      <td>azel_target</td>\n",
       "      <td>BIAS</td>\n",
       "      <td>-666</td>\n",
       "      <td>2021-02-16T20:18:03.408</td>\n",
       "      <td>AT_O_20210216_000002</td>\n",
       "      <td>2021021600002</td>\n",
       "    </tr>\n",
       "    <tr>\n",
       "      <th>8689</th>\n",
       "      <td>8690</td>\n",
       "      <td>2021-02-16</td>\n",
       "      <td>3</td>\n",
       "      <td>1934362963860000</td>\n",
       "      <td>0</td>\n",
       "      <td>S00</td>\n",
       "      <td>empty~empty</td>\n",
       "      <td>2021-02-16T20:18:16.563</td>\n",
       "      <td>2021-02-16T20:18:16.563</td>\n",
       "      <td>0.0</td>\n",
       "      <td>azel_target</td>\n",
       "      <td>BIAS</td>\n",
       "      <td>-666</td>\n",
       "      <td>2021-02-16T20:18:16.386</td>\n",
       "      <td>AT_O_20210216_000003</td>\n",
       "      <td>2021021600003</td>\n",
       "    </tr>\n",
       "    <tr>\n",
       "      <th>8690</th>\n",
       "      <td>8691</td>\n",
       "      <td>2021-02-16</td>\n",
       "      <td>4</td>\n",
       "      <td>1934363094110000</td>\n",
       "      <td>0</td>\n",
       "      <td>S00</td>\n",
       "      <td>empty~empty</td>\n",
       "      <td>2021-02-16T20:18:29.581</td>\n",
       "      <td>2021-02-16T20:18:29.581</td>\n",
       "      <td>0.0</td>\n",
       "      <td>azel_target</td>\n",
       "      <td>BIAS</td>\n",
       "      <td>-666</td>\n",
       "      <td>2021-02-16T20:18:29.411</td>\n",
       "      <td>AT_O_20210216_000004</td>\n",
       "      <td>2021021600004</td>\n",
       "    </tr>\n",
       "    <tr>\n",
       "      <th>8691</th>\n",
       "      <td>8692</td>\n",
       "      <td>2021-02-16</td>\n",
       "      <td>5</td>\n",
       "      <td>1934363223760000</td>\n",
       "      <td>0</td>\n",
       "      <td>S00</td>\n",
       "      <td>empty~empty</td>\n",
       "      <td>2021-02-16T20:18:42.546</td>\n",
       "      <td>2021-02-16T20:18:42.546</td>\n",
       "      <td>0.0</td>\n",
       "      <td>azel_target</td>\n",
       "      <td>BIAS</td>\n",
       "      <td>-666</td>\n",
       "      <td>2021-02-16T20:18:42.376</td>\n",
       "      <td>AT_O_20210216_000005</td>\n",
       "      <td>2021021600005</td>\n",
       "    </tr>\n",
       "    <tr>\n",
       "      <th>...</th>\n",
       "      <td>...</td>\n",
       "      <td>...</td>\n",
       "      <td>...</td>\n",
       "      <td>...</td>\n",
       "      <td>...</td>\n",
       "      <td>...</td>\n",
       "      <td>...</td>\n",
       "      <td>...</td>\n",
       "      <td>...</td>\n",
       "      <td>...</td>\n",
       "      <td>...</td>\n",
       "      <td>...</td>\n",
       "      <td>...</td>\n",
       "      <td>...</td>\n",
       "      <td>...</td>\n",
       "      <td>...</td>\n",
       "    </tr>\n",
       "    <tr>\n",
       "      <th>12755</th>\n",
       "      <td>12756</td>\n",
       "      <td>2022-02-17</td>\n",
       "      <td>765</td>\n",
       "      <td>2251058140450000</td>\n",
       "      <td>0</td>\n",
       "      <td>S00</td>\n",
       "      <td>SDSSg~empty</td>\n",
       "      <td>2022-02-18T09:25:53.560</td>\n",
       "      <td>2022-02-18T09:25:53.560</td>\n",
       "      <td>30.0</td>\n",
       "      <td>LATISS_E6A_00000034</td>\n",
       "      <td>SKYEXP</td>\n",
       "      <td>-666</td>\n",
       "      <td>2022-02-18T09:23:34.045</td>\n",
       "      <td>AT_O_20220217_000765</td>\n",
       "      <td>2022021700765</td>\n",
       "    </tr>\n",
       "    <tr>\n",
       "      <th>12756</th>\n",
       "      <td>12757</td>\n",
       "      <td>2022-02-17</td>\n",
       "      <td>766</td>\n",
       "      <td>2251059032260000</td>\n",
       "      <td>0</td>\n",
       "      <td>S00</td>\n",
       "      <td>SDSSi~empty</td>\n",
       "      <td>2022-02-18T09:26:52.861</td>\n",
       "      <td>2022-02-18T09:26:52.861</td>\n",
       "      <td>30.0</td>\n",
       "      <td>LATISS_E6A_00000034</td>\n",
       "      <td>SKYEXP</td>\n",
       "      <td>-666</td>\n",
       "      <td>2022-02-18T09:25:03.226</td>\n",
       "      <td>AT_O_20220217_000766</td>\n",
       "      <td>2022021700766</td>\n",
       "    </tr>\n",
       "    <tr>\n",
       "      <th>12757</th>\n",
       "      <td>12758</td>\n",
       "      <td>2022-02-17</td>\n",
       "      <td>767</td>\n",
       "      <td>2251059032260000</td>\n",
       "      <td>0</td>\n",
       "      <td>S00</td>\n",
       "      <td>SDSSi~empty</td>\n",
       "      <td>2022-02-18T09:27:25.852</td>\n",
       "      <td>2022-02-18T09:27:25.852</td>\n",
       "      <td>30.0</td>\n",
       "      <td>LATISS_E6A_00000034</td>\n",
       "      <td>SKYEXP</td>\n",
       "      <td>-666</td>\n",
       "      <td>2022-02-18T09:25:03.226</td>\n",
       "      <td>AT_O_20220217_000767</td>\n",
       "      <td>2022021700767</td>\n",
       "    </tr>\n",
       "    <tr>\n",
       "      <th>12758</th>\n",
       "      <td>12759</td>\n",
       "      <td>2022-02-17</td>\n",
       "      <td>768</td>\n",
       "      <td>2251059905630000</td>\n",
       "      <td>0</td>\n",
       "      <td>S00</td>\n",
       "      <td>SDSSr~empty</td>\n",
       "      <td>2022-02-18T09:28:22.143</td>\n",
       "      <td>2022-02-18T09:28:22.143</td>\n",
       "      <td>30.0</td>\n",
       "      <td>LATISS_E6A_00000034</td>\n",
       "      <td>SKYEXP</td>\n",
       "      <td>-666</td>\n",
       "      <td>2022-02-18T09:26:30.563</td>\n",
       "      <td>AT_O_20220217_000768</td>\n",
       "      <td>2022021700768</td>\n",
       "    </tr>\n",
       "    <tr>\n",
       "      <th>12759</th>\n",
       "      <td>12760</td>\n",
       "      <td>2022-02-17</td>\n",
       "      <td>769</td>\n",
       "      <td>2251059905630000</td>\n",
       "      <td>0</td>\n",
       "      <td>S00</td>\n",
       "      <td>SDSSr~empty</td>\n",
       "      <td>2022-02-18T09:28:55.127</td>\n",
       "      <td>2022-02-18T09:28:55.127</td>\n",
       "      <td>30.0</td>\n",
       "      <td>LATISS_E6A_00000034</td>\n",
       "      <td>SKYEXP</td>\n",
       "      <td>-666</td>\n",
       "      <td>2022-02-18T09:26:30.563</td>\n",
       "      <td>AT_O_20220217_000769</td>\n",
       "      <td>2022021700769</td>\n",
       "    </tr>\n",
       "  </tbody>\n",
       "</table>\n",
       "<p>12760 rows × 16 columns</p>\n",
       "</div>"
      ],
      "text/plain": [
       "          id      dayObs  seqNum             visit  detector detectorName  \\\n",
       "8687    8688  2021-02-16       1  1934346219930000         0          S00   \n",
       "8688    8689  2021-02-16       2  1934362834080000         0          S00   \n",
       "8689    8690  2021-02-16       3  1934362963860000         0          S00   \n",
       "8690    8691  2021-02-16       4  1934363094110000         0          S00   \n",
       "8691    8692  2021-02-16       5  1934363223760000         0          S00   \n",
       "...      ...         ...     ...               ...       ...          ...   \n",
       "12755  12756  2022-02-17     765  2251058140450000         0          S00   \n",
       "12756  12757  2022-02-17     766  2251059032260000         0          S00   \n",
       "12757  12758  2022-02-17     767  2251059032260000         0          S00   \n",
       "12758  12759  2022-02-17     768  2251059905630000         0          S00   \n",
       "12759  12760  2022-02-17     769  2251059905630000         0          S00   \n",
       "\n",
       "            filter                  dateObs                     date  expTime  \\\n",
       "8687   empty~empty  2021-02-16T19:50:22.184  2021-02-16T19:50:22.184      0.0   \n",
       "8688   empty~empty  2021-02-16T20:18:03.588  2021-02-16T20:18:03.588      0.0   \n",
       "8689   empty~empty  2021-02-16T20:18:16.563  2021-02-16T20:18:16.563      0.0   \n",
       "8690   empty~empty  2021-02-16T20:18:29.581  2021-02-16T20:18:29.581      0.0   \n",
       "8691   empty~empty  2021-02-16T20:18:42.546  2021-02-16T20:18:42.546      0.0   \n",
       "...            ...                      ...                      ...      ...   \n",
       "12755  SDSSg~empty  2022-02-18T09:25:53.560  2022-02-18T09:25:53.560     30.0   \n",
       "12756  SDSSi~empty  2022-02-18T09:26:52.861  2022-02-18T09:26:52.861     30.0   \n",
       "12757  SDSSi~empty  2022-02-18T09:27:25.852  2022-02-18T09:27:25.852     30.0   \n",
       "12758  SDSSr~empty  2022-02-18T09:28:22.143  2022-02-18T09:28:22.143     30.0   \n",
       "12759  SDSSr~empty  2022-02-18T09:28:55.127  2022-02-18T09:28:55.127     30.0   \n",
       "\n",
       "                    object imageType  wavelength                 expGroup  \\\n",
       "8687           azel_target      BIAS        -666  2021-02-16T19:50:21.993   \n",
       "8688           azel_target      BIAS        -666  2021-02-16T20:18:03.408   \n",
       "8689           azel_target      BIAS        -666  2021-02-16T20:18:16.386   \n",
       "8690           azel_target      BIAS        -666  2021-02-16T20:18:29.411   \n",
       "8691           azel_target      BIAS        -666  2021-02-16T20:18:42.376   \n",
       "...                    ...       ...         ...                      ...   \n",
       "12755  LATISS_E6A_00000034    SKYEXP        -666  2022-02-18T09:23:34.045   \n",
       "12756  LATISS_E6A_00000034    SKYEXP        -666  2022-02-18T09:25:03.226   \n",
       "12757  LATISS_E6A_00000034    SKYEXP        -666  2022-02-18T09:25:03.226   \n",
       "12758  LATISS_E6A_00000034    SKYEXP        -666  2022-02-18T09:26:30.563   \n",
       "12759  LATISS_E6A_00000034    SKYEXP        -666  2022-02-18T09:26:30.563   \n",
       "\n",
       "                      obsid          expId  \n",
       "8687   AT_O_20210216_000001  2021021600001  \n",
       "8688   AT_O_20210216_000002  2021021600002  \n",
       "8689   AT_O_20210216_000003  2021021600003  \n",
       "8690   AT_O_20210216_000004  2021021600004  \n",
       "8691   AT_O_20210216_000005  2021021600005  \n",
       "...                     ...            ...  \n",
       "12755  AT_O_20220217_000765  2022021700765  \n",
       "12756  AT_O_20220217_000766  2022021700766  \n",
       "12757  AT_O_20220217_000767  2022021700767  \n",
       "12758  AT_O_20220217_000768  2022021700768  \n",
       "12759  AT_O_20220217_000769  2022021700769  \n",
       "\n",
       "[12760 rows x 16 columns]"
      ]
     },
     "execution_count": 26,
     "metadata": {},
     "output_type": "execute_result"
    }
   ],
   "source": [
    "results_sorted"
   ]
  },
  {
   "cell_type": "code",
   "execution_count": 27,
   "id": "163923cb-ebc3-41af-9f3a-3a11f23a89a6",
   "metadata": {},
   "outputs": [
    {
     "data": {
      "text/plain": [
       "array(['BIAS', 'FLAT', 'SKYEXP', 'ENGTEST', 'DARK'], dtype=object)"
      ]
     },
     "execution_count": 27,
     "metadata": {},
     "output_type": "execute_result"
    }
   ],
   "source": [
    "list_of_imgtype = results_sorted['imageType'].unique()\n",
    "list_of_imgtype "
   ]
  },
  {
   "cell_type": "code",
   "execution_count": 28,
   "id": "d3e07d83-f941-4feb-a8be-9026c059d0f0",
   "metadata": {},
   "outputs": [
    {
     "data": {
      "text/plain": [
       "array(['empty~empty', 'RG610~empty', 'RG610~holo4_003', 'empty~holo4_003',\n",
       "       'empty~ronchi90lpmm', 'RG610~ronchi90lpmm',\n",
       "       'quadnotch1~ronchi90lpmm', 'BG40~empty', 'BG40~ronchi90lpmm',\n",
       "       'RG610~ronchi170lpmm', 'BG40~holo4_003', 'unknown~unknown',\n",
       "       'FELH0600~holo4_003', 'FELH0600~empty', 'FELH0600~ronchi170lpmm',\n",
       "       'empty~ronchi170lpmm', 'quadnotch1~ronchi170lpmm',\n",
       "       'BG40~ronchi170lpmm', 'quadnotch1~holo4_003',\n",
       "       'FELH0600~ronchi90lpmm', 'SDSSg~empty', 'SDSSg~ronchi170lpmm',\n",
       "       'SDSSg~holo4_003', 'quadnotch1~empty', 'SDSSr~empty',\n",
       "       'SDSSi~empty', 'SDSSr~holo4_003'], dtype=object)"
      ]
     },
     "execution_count": 28,
     "metadata": {},
     "output_type": "execute_result"
    }
   ],
   "source": [
    "list_of_filters = results_sorted['filter'].unique()\n",
    "list_of_filters"
   ]
  },
  {
   "cell_type": "code",
   "execution_count": 29,
   "id": "1aefe4e2-43f5-4b96-b00d-cf8a2c92bef2",
   "metadata": {},
   "outputs": [
    {
     "data": {
      "text/plain": [
       "array(['RG610~holo4_003', 'empty~holo4_003', 'empty~ronchi90lpmm',\n",
       "       'RG610~ronchi90lpmm', 'quadnotch1~ronchi90lpmm',\n",
       "       'BG40~ronchi90lpmm', 'RG610~ronchi170lpmm', 'BG40~holo4_003',\n",
       "       'FELH0600~holo4_003', 'FELH0600~ronchi170lpmm',\n",
       "       'empty~ronchi170lpmm', 'quadnotch1~ronchi170lpmm',\n",
       "       'BG40~ronchi170lpmm', 'quadnotch1~holo4_003',\n",
       "       'FELH0600~ronchi90lpmm', 'SDSSg~ronchi170lpmm', 'SDSSg~holo4_003',\n",
       "       'SDSSr~holo4_003'], dtype='<U24')"
      ]
     },
     "execution_count": 29,
     "metadata": {},
     "output_type": "execute_result"
    }
   ],
   "source": [
    "selected_filters = []\n",
    "for filt in list_of_filters:\n",
    "    flag_sel = (filt.find('holo4') != -1) or (filt.find('ronchi90lpmm') != -1) or (filt.find('ronchi170lpmm') != -1)\n",
    "    if flag_sel:\n",
    "        selected_filters.append(filt) \n",
    "selected_filters = np.array(selected_filters)\n",
    "selected_filters       "
   ]
  },
  {
   "cell_type": "code",
   "execution_count": 30,
   "id": "a8563342-75be-4511-ba7b-9ced7cd1bd91",
   "metadata": {},
   "outputs": [],
   "source": [
    "def isbias(row):\n",
    "    #print(row[\"filter\"])\n",
    "    if str(row[\"imageType\"]) == \"BIAS\":\n",
    "        return True\n",
    "    \n",
    "    else:\n",
    "        return False "
   ]
  },
  {
   "cell_type": "code",
   "execution_count": 31,
   "id": "21b5a280-83e1-4958-a4dc-7d25a595bc72",
   "metadata": {},
   "outputs": [],
   "source": [
    "def isflat(row):\n",
    "    #print(row[\"filter\"])\n",
    "    if str(row[\"imageType\"]) == \"FLAT\":\n",
    "        return True\n",
    "    \n",
    "    else:\n",
    "        return False "
   ]
  },
  {
   "cell_type": "code",
   "execution_count": 32,
   "id": "d58a4ea5-0c79-4475-ac8f-dea9380482b0",
   "metadata": {},
   "outputs": [],
   "source": [
    "def isdisperser(row):\n",
    "    #print(row[\"filter\"])\n",
    "    if str(row[\"filter\"]) in selected_filters:\n",
    "        return True\n",
    "    \n",
    "    else:\n",
    "        return False    "
   ]
  },
  {
   "cell_type": "markdown",
   "id": "4fd9357f-f4df-4bf6-9e8d-4f8017770a20",
   "metadata": {},
   "source": [
    "## Select Bias"
   ]
  },
  {
   "cell_type": "code",
   "execution_count": 33,
   "id": "268e5a7c-1733-423b-8bc4-f9be517ee97c",
   "metadata": {},
   "outputs": [],
   "source": [
    "results_sorted[\"selected\"] = results_sorted.apply(isbias,axis=1)"
   ]
  },
  {
   "cell_type": "code",
   "execution_count": 34,
   "id": "d398a6a0-9d53-4ab4-97e0-094079b93965",
   "metadata": {},
   "outputs": [],
   "source": [
    "results_selected = results_sorted[results_sorted[\"selected\"]==1]"
   ]
  },
  {
   "cell_type": "code",
   "execution_count": 35,
   "id": "86e32e7d-923b-4dd5-a02b-313a1f1f1ec4",
   "metadata": {},
   "outputs": [
    {
     "data": {
      "text/plain": [
       "array(['2021-02-16', '2021-02-17', '2021-02-18', '2021-03-11',\n",
       "       '2021-06-08', '2021-06-09', '2021-06-10', '2021-07-06',\n",
       "       '2021-07-07', '2021-07-08', '2021-09-07', '2021-09-08',\n",
       "       '2021-09-09', '2021-10-05', '2021-10-06', '2021-10-07',\n",
       "       '2021-11-02', '2021-11-03', '2021-11-04', '2022-02-15',\n",
       "       '2022-02-16', '2022-02-17'], dtype=object)"
      ]
     },
     "execution_count": 35,
     "metadata": {},
     "output_type": "execute_result"
    }
   ],
   "source": [
    "list_of_dates_bias = results_selected['dayObs'].unique() \n",
    "list_of_dates_bias"
   ]
  },
  {
   "cell_type": "code",
   "execution_count": 36,
   "id": "b6bbcd5a-07aa-4be9-a400-fd95841c1125",
   "metadata": {},
   "outputs": [],
   "source": [
    "night_sel='2021-02-16'"
   ]
  },
  {
   "cell_type": "code",
   "execution_count": 37,
   "id": "90f5a5b5-31c1-4787-85ab-a4a90df5cd15",
   "metadata": {},
   "outputs": [],
   "source": [
    "cut = results_selected['dayObs'] == night_sel "
   ]
  },
  {
   "cell_type": "code",
   "execution_count": 38,
   "id": "6be18a0f-cfe1-4ae8-b6a2-fa25d7fa47fa",
   "metadata": {},
   "outputs": [],
   "source": [
    "df = results_selected[cut]"
   ]
  },
  {
   "cell_type": "code",
   "execution_count": 39,
   "id": "84ed644a-1898-4d45-8180-1f0dfd186da7",
   "metadata": {},
   "outputs": [
    {
     "data": {
      "text/html": [
       "<div>\n",
       "<style scoped>\n",
       "    .dataframe tbody tr th:only-of-type {\n",
       "        vertical-align: middle;\n",
       "    }\n",
       "\n",
       "    .dataframe tbody tr th {\n",
       "        vertical-align: top;\n",
       "    }\n",
       "\n",
       "    .dataframe thead th {\n",
       "        text-align: right;\n",
       "    }\n",
       "</style>\n",
       "<table border=\"1\" class=\"dataframe\">\n",
       "  <thead>\n",
       "    <tr style=\"text-align: right;\">\n",
       "      <th></th>\n",
       "      <th>id</th>\n",
       "      <th>dayObs</th>\n",
       "      <th>seqNum</th>\n",
       "      <th>visit</th>\n",
       "      <th>detector</th>\n",
       "      <th>detectorName</th>\n",
       "      <th>filter</th>\n",
       "      <th>dateObs</th>\n",
       "      <th>date</th>\n",
       "      <th>expTime</th>\n",
       "      <th>object</th>\n",
       "      <th>imageType</th>\n",
       "      <th>wavelength</th>\n",
       "      <th>expGroup</th>\n",
       "      <th>obsid</th>\n",
       "      <th>expId</th>\n",
       "      <th>selected</th>\n",
       "    </tr>\n",
       "  </thead>\n",
       "  <tbody>\n",
       "    <tr>\n",
       "      <th>8687</th>\n",
       "      <td>8688</td>\n",
       "      <td>2021-02-16</td>\n",
       "      <td>1</td>\n",
       "      <td>1934346219930000</td>\n",
       "      <td>0</td>\n",
       "      <td>S00</td>\n",
       "      <td>empty~empty</td>\n",
       "      <td>2021-02-16T19:50:22.184</td>\n",
       "      <td>2021-02-16T19:50:22.184</td>\n",
       "      <td>0.0</td>\n",
       "      <td>azel_target</td>\n",
       "      <td>BIAS</td>\n",
       "      <td>-666</td>\n",
       "      <td>2021-02-16T19:50:21.993</td>\n",
       "      <td>AT_O_20210216_000001</td>\n",
       "      <td>2021021600001</td>\n",
       "      <td>True</td>\n",
       "    </tr>\n",
       "    <tr>\n",
       "      <th>8688</th>\n",
       "      <td>8689</td>\n",
       "      <td>2021-02-16</td>\n",
       "      <td>2</td>\n",
       "      <td>1934362834080000</td>\n",
       "      <td>0</td>\n",
       "      <td>S00</td>\n",
       "      <td>empty~empty</td>\n",
       "      <td>2021-02-16T20:18:03.588</td>\n",
       "      <td>2021-02-16T20:18:03.588</td>\n",
       "      <td>0.0</td>\n",
       "      <td>azel_target</td>\n",
       "      <td>BIAS</td>\n",
       "      <td>-666</td>\n",
       "      <td>2021-02-16T20:18:03.408</td>\n",
       "      <td>AT_O_20210216_000002</td>\n",
       "      <td>2021021600002</td>\n",
       "      <td>True</td>\n",
       "    </tr>\n",
       "    <tr>\n",
       "      <th>8689</th>\n",
       "      <td>8690</td>\n",
       "      <td>2021-02-16</td>\n",
       "      <td>3</td>\n",
       "      <td>1934362963860000</td>\n",
       "      <td>0</td>\n",
       "      <td>S00</td>\n",
       "      <td>empty~empty</td>\n",
       "      <td>2021-02-16T20:18:16.563</td>\n",
       "      <td>2021-02-16T20:18:16.563</td>\n",
       "      <td>0.0</td>\n",
       "      <td>azel_target</td>\n",
       "      <td>BIAS</td>\n",
       "      <td>-666</td>\n",
       "      <td>2021-02-16T20:18:16.386</td>\n",
       "      <td>AT_O_20210216_000003</td>\n",
       "      <td>2021021600003</td>\n",
       "      <td>True</td>\n",
       "    </tr>\n",
       "    <tr>\n",
       "      <th>8690</th>\n",
       "      <td>8691</td>\n",
       "      <td>2021-02-16</td>\n",
       "      <td>4</td>\n",
       "      <td>1934363094110000</td>\n",
       "      <td>0</td>\n",
       "      <td>S00</td>\n",
       "      <td>empty~empty</td>\n",
       "      <td>2021-02-16T20:18:29.581</td>\n",
       "      <td>2021-02-16T20:18:29.581</td>\n",
       "      <td>0.0</td>\n",
       "      <td>azel_target</td>\n",
       "      <td>BIAS</td>\n",
       "      <td>-666</td>\n",
       "      <td>2021-02-16T20:18:29.411</td>\n",
       "      <td>AT_O_20210216_000004</td>\n",
       "      <td>2021021600004</td>\n",
       "      <td>True</td>\n",
       "    </tr>\n",
       "    <tr>\n",
       "      <th>8691</th>\n",
       "      <td>8692</td>\n",
       "      <td>2021-02-16</td>\n",
       "      <td>5</td>\n",
       "      <td>1934363223760000</td>\n",
       "      <td>0</td>\n",
       "      <td>S00</td>\n",
       "      <td>empty~empty</td>\n",
       "      <td>2021-02-16T20:18:42.546</td>\n",
       "      <td>2021-02-16T20:18:42.546</td>\n",
       "      <td>0.0</td>\n",
       "      <td>azel_target</td>\n",
       "      <td>BIAS</td>\n",
       "      <td>-666</td>\n",
       "      <td>2021-02-16T20:18:42.376</td>\n",
       "      <td>AT_O_20210216_000005</td>\n",
       "      <td>2021021600005</td>\n",
       "      <td>True</td>\n",
       "    </tr>\n",
       "    <tr>\n",
       "      <th>...</th>\n",
       "      <td>...</td>\n",
       "      <td>...</td>\n",
       "      <td>...</td>\n",
       "      <td>...</td>\n",
       "      <td>...</td>\n",
       "      <td>...</td>\n",
       "      <td>...</td>\n",
       "      <td>...</td>\n",
       "      <td>...</td>\n",
       "      <td>...</td>\n",
       "      <td>...</td>\n",
       "      <td>...</td>\n",
       "      <td>...</td>\n",
       "      <td>...</td>\n",
       "      <td>...</td>\n",
       "      <td>...</td>\n",
       "      <td>...</td>\n",
       "    </tr>\n",
       "    <tr>\n",
       "      <th>8783</th>\n",
       "      <td>8784</td>\n",
       "      <td>2021-02-16</td>\n",
       "      <td>97</td>\n",
       "      <td>1934380764000000</td>\n",
       "      <td>0</td>\n",
       "      <td>S00</td>\n",
       "      <td>empty~empty</td>\n",
       "      <td>2021-02-16T20:47:56.566</td>\n",
       "      <td>2021-02-16T20:47:56.566</td>\n",
       "      <td>0.0</td>\n",
       "      <td>azel_target</td>\n",
       "      <td>BIAS</td>\n",
       "      <td>-666</td>\n",
       "      <td>2021-02-16T20:47:56.400</td>\n",
       "      <td>AT_O_20210216_000097</td>\n",
       "      <td>2021021600097</td>\n",
       "      <td>True</td>\n",
       "    </tr>\n",
       "    <tr>\n",
       "      <th>8784</th>\n",
       "      <td>8785</td>\n",
       "      <td>2021-02-16</td>\n",
       "      <td>98</td>\n",
       "      <td>1934380954150000</td>\n",
       "      <td>0</td>\n",
       "      <td>S00</td>\n",
       "      <td>empty~empty</td>\n",
       "      <td>2021-02-16T20:48:15.585</td>\n",
       "      <td>2021-02-16T20:48:15.585</td>\n",
       "      <td>0.0</td>\n",
       "      <td>azel_target</td>\n",
       "      <td>BIAS</td>\n",
       "      <td>-666</td>\n",
       "      <td>2021-02-16T20:48:15.415</td>\n",
       "      <td>AT_O_20210216_000098</td>\n",
       "      <td>2021021600098</td>\n",
       "      <td>True</td>\n",
       "    </tr>\n",
       "    <tr>\n",
       "      <th>8785</th>\n",
       "      <td>8786</td>\n",
       "      <td>2021-02-16</td>\n",
       "      <td>99</td>\n",
       "      <td>1934381143870000</td>\n",
       "      <td>0</td>\n",
       "      <td>S00</td>\n",
       "      <td>empty~empty</td>\n",
       "      <td>2021-02-16T20:48:34.559</td>\n",
       "      <td>2021-02-16T20:48:34.559</td>\n",
       "      <td>0.0</td>\n",
       "      <td>azel_target</td>\n",
       "      <td>BIAS</td>\n",
       "      <td>-666</td>\n",
       "      <td>2021-02-16T20:48:34.387</td>\n",
       "      <td>AT_O_20210216_000099</td>\n",
       "      <td>2021021600099</td>\n",
       "      <td>True</td>\n",
       "    </tr>\n",
       "    <tr>\n",
       "      <th>8786</th>\n",
       "      <td>8787</td>\n",
       "      <td>2021-02-16</td>\n",
       "      <td>100</td>\n",
       "      <td>1934381333690000</td>\n",
       "      <td>0</td>\n",
       "      <td>S00</td>\n",
       "      <td>empty~empty</td>\n",
       "      <td>2021-02-16T20:48:53.544</td>\n",
       "      <td>2021-02-16T20:48:53.544</td>\n",
       "      <td>0.0</td>\n",
       "      <td>azel_target</td>\n",
       "      <td>BIAS</td>\n",
       "      <td>-666</td>\n",
       "      <td>2021-02-16T20:48:53.369</td>\n",
       "      <td>AT_O_20210216_000100</td>\n",
       "      <td>2021021600100</td>\n",
       "      <td>True</td>\n",
       "    </tr>\n",
       "    <tr>\n",
       "      <th>8787</th>\n",
       "      <td>8788</td>\n",
       "      <td>2021-02-16</td>\n",
       "      <td>101</td>\n",
       "      <td>1934381514170000</td>\n",
       "      <td>0</td>\n",
       "      <td>S00</td>\n",
       "      <td>empty~empty</td>\n",
       "      <td>2021-02-16T20:49:11.587</td>\n",
       "      <td>2021-02-16T20:49:11.587</td>\n",
       "      <td>0.0</td>\n",
       "      <td>azel_target</td>\n",
       "      <td>BIAS</td>\n",
       "      <td>-666</td>\n",
       "      <td>2021-02-16T20:49:11.417</td>\n",
       "      <td>AT_O_20210216_000101</td>\n",
       "      <td>2021021600101</td>\n",
       "      <td>True</td>\n",
       "    </tr>\n",
       "  </tbody>\n",
       "</table>\n",
       "<p>101 rows × 17 columns</p>\n",
       "</div>"
      ],
      "text/plain": [
       "        id      dayObs  seqNum             visit  detector detectorName  \\\n",
       "8687  8688  2021-02-16       1  1934346219930000         0          S00   \n",
       "8688  8689  2021-02-16       2  1934362834080000         0          S00   \n",
       "8689  8690  2021-02-16       3  1934362963860000         0          S00   \n",
       "8690  8691  2021-02-16       4  1934363094110000         0          S00   \n",
       "8691  8692  2021-02-16       5  1934363223760000         0          S00   \n",
       "...    ...         ...     ...               ...       ...          ...   \n",
       "8783  8784  2021-02-16      97  1934380764000000         0          S00   \n",
       "8784  8785  2021-02-16      98  1934380954150000         0          S00   \n",
       "8785  8786  2021-02-16      99  1934381143870000         0          S00   \n",
       "8786  8787  2021-02-16     100  1934381333690000         0          S00   \n",
       "8787  8788  2021-02-16     101  1934381514170000         0          S00   \n",
       "\n",
       "           filter                  dateObs                     date  expTime  \\\n",
       "8687  empty~empty  2021-02-16T19:50:22.184  2021-02-16T19:50:22.184      0.0   \n",
       "8688  empty~empty  2021-02-16T20:18:03.588  2021-02-16T20:18:03.588      0.0   \n",
       "8689  empty~empty  2021-02-16T20:18:16.563  2021-02-16T20:18:16.563      0.0   \n",
       "8690  empty~empty  2021-02-16T20:18:29.581  2021-02-16T20:18:29.581      0.0   \n",
       "8691  empty~empty  2021-02-16T20:18:42.546  2021-02-16T20:18:42.546      0.0   \n",
       "...           ...                      ...                      ...      ...   \n",
       "8783  empty~empty  2021-02-16T20:47:56.566  2021-02-16T20:47:56.566      0.0   \n",
       "8784  empty~empty  2021-02-16T20:48:15.585  2021-02-16T20:48:15.585      0.0   \n",
       "8785  empty~empty  2021-02-16T20:48:34.559  2021-02-16T20:48:34.559      0.0   \n",
       "8786  empty~empty  2021-02-16T20:48:53.544  2021-02-16T20:48:53.544      0.0   \n",
       "8787  empty~empty  2021-02-16T20:49:11.587  2021-02-16T20:49:11.587      0.0   \n",
       "\n",
       "           object imageType  wavelength                 expGroup  \\\n",
       "8687  azel_target      BIAS        -666  2021-02-16T19:50:21.993   \n",
       "8688  azel_target      BIAS        -666  2021-02-16T20:18:03.408   \n",
       "8689  azel_target      BIAS        -666  2021-02-16T20:18:16.386   \n",
       "8690  azel_target      BIAS        -666  2021-02-16T20:18:29.411   \n",
       "8691  azel_target      BIAS        -666  2021-02-16T20:18:42.376   \n",
       "...           ...       ...         ...                      ...   \n",
       "8783  azel_target      BIAS        -666  2021-02-16T20:47:56.400   \n",
       "8784  azel_target      BIAS        -666  2021-02-16T20:48:15.415   \n",
       "8785  azel_target      BIAS        -666  2021-02-16T20:48:34.387   \n",
       "8786  azel_target      BIAS        -666  2021-02-16T20:48:53.369   \n",
       "8787  azel_target      BIAS        -666  2021-02-16T20:49:11.417   \n",
       "\n",
       "                     obsid          expId  selected  \n",
       "8687  AT_O_20210216_000001  2021021600001      True  \n",
       "8688  AT_O_20210216_000002  2021021600002      True  \n",
       "8689  AT_O_20210216_000003  2021021600003      True  \n",
       "8690  AT_O_20210216_000004  2021021600004      True  \n",
       "8691  AT_O_20210216_000005  2021021600005      True  \n",
       "...                    ...            ...       ...  \n",
       "8783  AT_O_20210216_000097  2021021600097      True  \n",
       "8784  AT_O_20210216_000098  2021021600098      True  \n",
       "8785  AT_O_20210216_000099  2021021600099      True  \n",
       "8786  AT_O_20210216_000100  2021021600100      True  \n",
       "8787  AT_O_20210216_000101  2021021600101      True  \n",
       "\n",
       "[101 rows x 17 columns]"
      ]
     },
     "execution_count": 39,
     "metadata": {},
     "output_type": "execute_result"
    }
   ],
   "source": [
    "df"
   ]
  },
  {
   "cell_type": "markdown",
   "id": "cb24fb24",
   "metadata": {},
   "source": [
    "# Butler"
   ]
  },
  {
   "cell_type": "markdown",
   "id": "71115739",
   "metadata": {},
   "source": [
    "## Configuration for Butler"
   ]
  },
  {
   "cell_type": "code",
   "execution_count": 40,
   "id": "14e64262",
   "metadata": {},
   "outputs": [
    {
     "name": "stderr",
     "output_type": "stream",
     "text": [
      "/tmp/ipykernel_146/1045256464.py:2: FutureWarning: Gen2 Butler has been deprecated (Butler). It will be removed sometime after v23.0 but no earlier than the end of 2021.\n",
      "  butler=dafPersist.Butler(repoDir)\n",
      "/tmp/ipykernel_146/1045256464.py:2: FutureWarning: Gen2 Butler has been deprecated (LatissMapper). It will be removed sometime after v23.0 but no earlier than the end of 2021.\n",
      "  butler=dafPersist.Butler(repoDir)\n"
     ]
    },
    {
     "name": "stdout",
     "output_type": "stream",
     "text": [
      "CameraMapper INFO: Loading exposure registry from /sps/lsst/groups/auxtel/softs/shared/auxteldm/registry.sqlite3\n",
      "CameraMapper INFO: Loading calib registry from /sps/lsst/groups/auxtel/softs/shared/auxteldm/CALIB/calibRegistry.sqlite3\n"
     ]
    }
   ],
   "source": [
    "#butler=dafPersist.Butler(\"/project/shared/auxTel\")\n",
    "butler=dafPersist.Butler(repoDir)"
   ]
  },
  {
   "cell_type": "markdown",
   "id": "67e1f472",
   "metadata": {},
   "source": [
    "## Sequence selection"
   ]
  },
  {
   "cell_type": "code",
   "execution_count": 41,
   "id": "aafdfefd",
   "metadata": {},
   "outputs": [],
   "source": [
    "# Flats\n",
    "all_myseq_bias=range(1,5)\n",
    "\n",
    "# wide scan\n",
    "# -----------\n",
    "#all_myseq_holo=range(234,310)\n",
    "# narrow scan\n",
    "#-----------\n",
    "all_myseq_holo=range(317,365)\n",
    "\n",
    "if FLAG_BIAS_SELECTION:\n",
    "    all_myseq=all_myseq_bias\n",
    "else:\n",
    "    all_myseq=all_myseq_holo"
   ]
  },
  {
   "cell_type": "code",
   "execution_count": 42,
   "id": "f9ed9560",
   "metadata": {},
   "outputs": [],
   "source": [
    "seqNum=all_myseq[0]"
   ]
  },
  {
   "cell_type": "code",
   "execution_count": 43,
   "id": "70cb4e91",
   "metadata": {},
   "outputs": [
    {
     "data": {
      "text/plain": [
       "1"
      ]
     },
     "execution_count": 43,
     "metadata": {},
     "output_type": "execute_result"
    }
   ],
   "source": [
    "seqNum"
   ]
  },
  {
   "cell_type": "markdown",
   "id": "2c495951",
   "metadata": {},
   "source": [
    "## Display"
   ]
  },
  {
   "cell_type": "code",
   "execution_count": 44,
   "id": "df37f8a5",
   "metadata": {},
   "outputs": [],
   "source": [
    "#display1=afwDisplay.getDisplay(frame=1,port=80,name='sylviedc_debug_2021_07_07',url=os.environ[\"FIREFLY_URL\"])"
   ]
  },
  {
   "cell_type": "code",
   "execution_count": 45,
   "id": "aa2d8955-b955-48f8-be9c-1514f7083430",
   "metadata": {},
   "outputs": [
    {
     "name": "stdout",
     "output_type": "stream",
     "text": [
      "[1, 2, 3, 4, 5, 6, 7, 8, 9, 10, 11, 12, 13, 14, 15, 16, 17, 18, 19, 20, 21, 22, 23, 24, 25, 26, 27, 28, 29, 30, 31, 32, 33, 34, 35, 36, 37, 38, 39, 40, 41, 42, 43, 44, 45, 46, 47, 48, 49, 50, 51, 52, 53, 54, 55, 56, 57, 58, 59, 60, 61, 62, 63, 64, 65, 66, 67, 68, 69, 70, 71, 72, 73, 74, 75, 76, 77, 78, 79, 80, 81, 82, 83, 84, 85, 86, 87, 88, 89, 90, 91, 92, 93, 94, 95, 96, 97, 98, 99, 100, 101, 102, 103, 104, 105, 106, 107, 108, 109, 110, 111, 112, 113, 114, 115, 116, 117, 118, 119, 120, 121, 122, 123, 124, 125, 126, 127, 128, 129, 130, 131, 132, 133, 134, 135, 136, 137, 138, 139, 140, 141, 142, 143, 144, 145, 146, 147, 148, 149, 150, 151, 152, 153, 154, 155, 156, 157, 158, 159, 160, 161, 162, 163, 164, 165, 166, 167, 168, 169, 170, 171, 172, 173, 174, 175, 176, 177, 178, 179, 180, 181, 182, 183, 184, 185, 186, 187, 188, 189, 190, 191, 192, 193, 194, 195, 196, 197, 198, 199, 200, 201, 202, 203, 204, 205, 206, 207, 208, 209, 210, 211, 212, 213, 214, 215, 216, 217, 218, 219, 220, 221, 222, 223, 224, 225, 226, 227, 228, 229, 230, 231, 232, 233, 234, 235, 236, 237, 238, 239, 240, 241, 242, 243, 244, 245, 246, 247, 248, 249, 250, 251, 252, 253, 254, 255, 256, 257, 258, 259, 260, 261, 262, 263, 264, 265, 266, 267, 268, 269, 270, 271, 272, 273, 274, 275, 276, 277, 278, 279, 280, 281, 282, 283, 284, 285, 286, 287, 288, 289, 290, 291, 292, 293, 294, 295, 296, 297, 298, 299, 300, 301, 302, 303, 304, 305, 306, 307, 308, 309, 310, 311, 312, 313, 314, 315, 316, 317, 318, 319, 320, 321, 322, 323, 324, 325, 326, 327, 328, 329, 330, 331, 332, 333, 334, 335, 336, 337, 338, 339, 340, 341, 342]\n"
     ]
    }
   ],
   "source": [
    "print(butler.queryMetadata('raw','seqNum',dayObs=dayObs))"
   ]
  },
  {
   "cell_type": "code",
   "execution_count": 46,
   "id": "059a6a2c",
   "metadata": {},
   "outputs": [
    {
     "name": "stderr",
     "output_type": "stream",
     "text": [
      "(minimum=(0, 0), maximum=(543, 2047)): (minimum=(0, 0), maximum=(575, 2047))\n",
      "argDict[boresightAirmass] is None; stripping\n"
     ]
    },
    {
     "name": "stdout",
     "output_type": "stream",
     "text": [
      "CameraMapper WARN: Cannot create SkyWcs using VisitInfo and Detector, using metadata-based SkyWcs: Cannot create SkyWcs from camera geometry: rotator angle defined using RotType=RotType.UNKNOWN instead of SKY.\n"
     ]
    }
   ],
   "source": [
    "raw=butler.get('raw',dayObs=dayObs,seqNum=seqNum)\n",
    "md=butler.get(\"raw_md\",dayObs=dayObs,seqNum=seqNum)"
   ]
  },
  {
   "cell_type": "markdown",
   "id": "87fe1c04-efda-42a6-9b5c-b2693bc295ad",
   "metadata": {},
   "source": [
    "## meta data"
   ]
  },
  {
   "cell_type": "code",
   "execution_count": 47,
   "id": "4a57a8c5-326e-44f7-befe-a96cb8804f82",
   "metadata": {},
   "outputs": [
    {
     "data": {
      "text/plain": [
       "{'SIMPLE': True,\n",
       " 'EXTEND': True,\n",
       " 'COMMENT': [\"  FITS (Flexible Image Transport System) format is defined in 'Astronomy\",\n",
       "  \"  and Astrophysics', volume 376, page 359; bibcode: 2001A&A...376..359H\",\n",
       "  \"= '        '\",\n",
       "  '---- Date, night and basic image information ----',\n",
       "  \"= '        '\",\n",
       "  '---- Telescope info, location, observer ----',\n",
       "  \"= '        '\",\n",
       "  '---- Pointing info, etc. ----',\n",
       "  \"= '        '\",\n",
       "  '---- TAN Projection ----',\n",
       "  \"= '        '\",\n",
       "  '---- Image-identifying used to build OBS-ID ----',\n",
       "  \"= '        '\",\n",
       "  '---- Test Stand information ----',\n",
       "  \"= '        '\",\n",
       "  '---- Information from Camera (Common block) ----',\n",
       "  \"= '        '\",\n",
       "  '---- Information from Camera ----',\n",
       "  \"= '        '\",\n",
       "  '---- Filter/grating information ----',\n",
       "  \"= '        '\",\n",
       "  '---- Exposure-related information ----',\n",
       "  \"= '        '\",\n",
       "  '---- Weather information ----',\n",
       "  \"= '        '\",\n",
       "  '---- Header information ----',\n",
       "  \"= '        '\",\n",
       "  '---- Checksums ----',\n",
       "  '---- Information from Camera per sensor ----',\n",
       "  \"= '        '\",\n",
       "  '---- Geometry from Camera ----'],\n",
       " 'ORIGIN': 'LSST DM Header Service',\n",
       " 'TIMESYS': 'TAI',\n",
       " 'DATE': '2021-02-16T19:49:47.820',\n",
       " 'DATE-OBS': '2021-02-16T19:50:22.184',\n",
       " 'DATE-BEG': '2021-02-16T19:50:22.184',\n",
       " 'DATE-END': '2021-02-16T19:50:22.190',\n",
       " 'MJD': 59261.8262479126,\n",
       " 'MJD-OBS': 59261.8266456493,\n",
       " 'MJD-BEG': 59261.8266456493,\n",
       " 'MJD-END': 59261.8266457131,\n",
       " 'OBSID': 'AT_O_20210216_000001',\n",
       " 'GROUPID': '2021-02-16T19:50:21.993',\n",
       " 'IMGTYPE': 'BIAS',\n",
       " 'BUNIT': 'adu',\n",
       " 'FACILITY': 'Vera C. Rubin Observatory',\n",
       " 'TELESCOP': 'LSST AuxTelescope',\n",
       " 'INSTRUME': 'LATISS',\n",
       " 'OBSERVER': 'LSST',\n",
       " 'OBS-LONG': -70.749417,\n",
       " 'OBS-LAT': -30.244639,\n",
       " 'OBS-ELEV': 2663.0,\n",
       " 'OBSGEO-X': 1818938.94,\n",
       " 'OBSGEO-Y': -5208470.95,\n",
       " 'OBSGEO-Z': -3195172.08,\n",
       " 'RA': 0.0,\n",
       " 'DEC': 0.0,\n",
       " 'RASTART': 13.3373419610732,\n",
       " 'DECSTART': 44.7486594213582,\n",
       " 'RAEND': 13.3456725774135,\n",
       " 'DECEND': 44.7486652431457,\n",
       " 'ROTPA': 0.0,\n",
       " 'ROTCOORD': 'sky',\n",
       " 'HASTART': 0.0,\n",
       " 'ELSTART': 15.0000012501405,\n",
       " 'AZSTART': 6.63446553517133e-06,\n",
       " 'AMSTART': 0.0,\n",
       " 'HAEND': 0.0,\n",
       " 'ELEND': 14.9999990149663,\n",
       " 'AZEND': -7.1042450144887e-08,\n",
       " 'AMEND': 0.0,\n",
       " 'INSTPORT': 2,\n",
       " 'ATM3PORT': None,\n",
       " 'TRACKSYS': 'LOCAL',\n",
       " 'RADESYS': 'ICRS',\n",
       " 'FOCUSZ': 0.0,\n",
       " 'OBJECT': 'azel_target',\n",
       " 'DOMEAZ': 3.0,\n",
       " 'SHUTLOWR': 0.0,\n",
       " 'SHUTUPPR': 0.0,\n",
       " 'WCSAXES': 2,\n",
       " 'CTYPE1': 'RA---TAN',\n",
       " 'CTYPE2': 'DEC--TAN',\n",
       " 'CUNIT1': 'deg',\n",
       " 'CUNIT2': 'deg',\n",
       " 'CRVAL1': 0.0,\n",
       " 'CRVAL2': 0.0,\n",
       " 'CRPIX1': 2000.0,\n",
       " 'CRPIX2': 2036.0,\n",
       " 'CD1_1': 0.105,\n",
       " 'CD1_2': -0.0,\n",
       " 'CD2_1': 0.0,\n",
       " 'CD2_2': 0.105,\n",
       " 'EQUINOX': 2000.0,\n",
       " 'CAMCODE': 'AT',\n",
       " 'CONTRLLR': 'O',\n",
       " 'DAYOBS': '20210216',\n",
       " 'SEQNUM': 1,\n",
       " 'TESTTYPE': None,\n",
       " 'TSTAND': None,\n",
       " 'IMAGETAG': '911a965d651eaece',\n",
       " 'OBSANNOT': '',\n",
       " 'TEMP_SET': -94.1500015258789,\n",
       " 'CCDTEMP': -90.1534957885742,\n",
       " 'FILTBAND': 'Empty',\n",
       " 'FILTER': 'empty_1',\n",
       " 'FILTSLOT': 0,\n",
       " 'GRATING': 'empty_1',\n",
       " 'GRATBAND': 'Empty',\n",
       " 'GRATSLOT': 0,\n",
       " 'LINSPOS': 59.9980010986328,\n",
       " 'EXPTIME': 0.0,\n",
       " 'SHUTTIME': None,\n",
       " 'DARKTIME': 0.0993173122406006,\n",
       " 'AIRTEMP': 10.4,\n",
       " 'PRESSURE': 742.95,\n",
       " 'HUMIDITY': 43.0,\n",
       " 'WINDSPD': 11.6,\n",
       " 'WINDDIR': 294.0,\n",
       " 'SEEING': None,\n",
       " 'FILENAME': 'AT_O_20210216_000001.fits',\n",
       " 'HEADVER': '2.8.1',\n",
       " 'CHECKSUM': None,\n",
       " 'DATASUM': None,\n",
       " 'CCD_MANU': 'ITL',\n",
       " 'CCD_TYPE': 2,\n",
       " 'CCD_SERN': '20862',\n",
       " 'LSST_NUM': 'ITL-3800C-068',\n",
       " 'SEQCKSUM': '2552520002',\n",
       " 'SEQNAME': 'FP_ITL_2s_ir2_v25.seq',\n",
       " 'REBNAME': 'Unknown',\n",
       " 'CONTNUM': '412227310',\n",
       " 'CCDSLOT': 'S00',\n",
       " 'RAFTBAY': 'R00',\n",
       " 'OVERH': 64,\n",
       " 'OVERV': 48,\n",
       " 'PREH': 0,\n",
       " 'XTENSION': 'IMAGE',\n",
       " 'BITPIX': 32,\n",
       " 'NAXIS': 2,\n",
       " 'NAXIS1': 576,\n",
       " 'NAXIS2': 2048,\n",
       " 'PCOUNT': 0,\n",
       " 'GCOUNT': 1,\n",
       " 'INHERIT': True,\n",
       " 'EXTNAME': 'Segment10',\n",
       " 'DATASEC': '[1:509,1:2000]',\n",
       " 'DETSEC': '[509:1,1:2000]',\n",
       " 'DETSIZE': '[1:4072,1:4000]',\n",
       " 'DTV1': 510,\n",
       " 'DTV2': 0,\n",
       " 'DTM1_1': -1.0,\n",
       " 'DTM2_2': 1.0,\n",
       " 'DTM1_2': 0,\n",
       " 'DTM2_1': 0,\n",
       " 'HIERARCH ASTRO METADATA FIX MODIFIED': True,\n",
       " 'HIERARCH ASTRO METADATA FIX DATE': '2022-03-04T14:02:26.734253',\n",
       " 'HIERARCH ASTRO METADATA FIX VERSION': '22.0.1-35-ge12052c+3e958b174a'}"
      ]
     },
     "execution_count": 47,
     "metadata": {},
     "output_type": "execute_result"
    }
   ],
   "source": [
    "md.toDict()"
   ]
  },
  {
   "cell_type": "markdown",
   "id": "5de40fad-8be4-467f-8883-fceb3207d8a4",
   "metadata": {},
   "source": [
    "## Image"
   ]
  },
  {
   "cell_type": "code",
   "execution_count": 71,
   "id": "ff175a96-3282-474e-a636-e7f13eb33d7b",
   "metadata": {},
   "outputs": [
    {
     "data": {
      "text/plain": [
       "(4096, 4608)"
      ]
     },
     "execution_count": 71,
     "metadata": {},
     "output_type": "execute_result"
    }
   ],
   "source": [
    "raw_image=raw.image.array\n",
    "raw_image.shape"
   ]
  },
  {
   "cell_type": "code",
   "execution_count": 49,
   "id": "53554aa3",
   "metadata": {},
   "outputs": [],
   "source": [
    "# Must flip for Spectractor reading\n",
    "flip_image=np.flip(raw_image, 0)"
   ]
  },
  {
   "cell_type": "code",
   "execution_count": 72,
   "id": "833177cd",
   "metadata": {},
   "outputs": [
    {
     "data": {
      "image/png": "[encoded data removed]",
      "text/plain": [
       "<Figure size 1440x720 with 2 Axes>"
      ]
     },
     "metadata": {
      "needs_background": "light"
     },
     "output_type": "display_data"
    }
   ],
   "source": [
    "fig = plt.figure(figsize=(20,10))\n",
    "ax=fig.add_subplot(121)\n",
    "ax.imshow(flip_image,origin='lower',cmap=\"jet\",norm=LogNorm())\n",
    "ax=fig.add_subplot(122)\n",
    "ax.imshow(flip_image,origin='lower',cmap=\"gray\",norm=LogNorm())\n",
    "plt.show()"
   ]
  },
  {
   "cell_type": "markdown",
   "id": "ea14707f-5e33-42e5-9265-8675e5ea7902",
   "metadata": {},
   "source": [
    "# Supress overscan"
   ]
  },
  {
   "cell_type": "code",
   "execution_count": 73,
   "id": "0cbd3881-b8e2-4e58-aa50-49a7e321c68a",
   "metadata": {},
   "outputs": [],
   "source": [
    "profile_x=raw_image.sum(axis=0)\n",
    "profile_y=raw_image.sum(axis=1)"
   ]
  },
  {
   "cell_type": "code",
   "execution_count": 74,
   "id": "77a81ae5-21dd-4331-bc9e-a5752ef414db",
   "metadata": {},
   "outputs": [],
   "source": [
    "diff_profile_x=np.diff(profile_x,prepend=0,append=0)\n",
    "diff_profile_y=np.diff(profile_y,prepend=0,append=0)"
   ]
  },
  {
   "cell_type": "code",
   "execution_count": 75,
   "id": "a7aa352c-b263-435a-a081-28259b32582b",
   "metadata": {},
   "outputs": [
    {
     "data": {
      "text/plain": [
       "Text(0.5, 0, 'y')"
      ]
     },
     "execution_count": 75,
     "metadata": {},
     "output_type": "execute_result"
    },
    {
     "data": {
      "image/png": "[encoded data removed]",
      "text/plain": [
       "<Figure size 1440x576 with 4 Axes>"
      ]
     },
     "metadata": {
      "needs_background": "light"
     },
     "output_type": "display_data"
    }
   ],
   "source": [
    "fig=plt.figure(figsize=(20,8))\n",
    "ax=fig.add_subplot(2,1,1)           \n",
    "ax.plot(profile_x,'b-')\n",
    "ax.grid()\n",
    "ax2=ax.twinx()\n",
    "ax2.plot(diff_profile_x,'r-')\n",
    "\n",
    "ax.set_xlabel('x')\n",
    "ax=fig.add_subplot(2,1,2)     \n",
    "ax.grid()\n",
    "ax.plot(profile_y)\n",
    "ax2=ax.twinx()\n",
    "ax2.plot(diff_profile_y,'r-')\n",
    "ax.set_xlabel('y')"
   ]
  },
  {
   "cell_type": "code",
   "execution_count": 54,
   "id": "d1e56973-b973-4d42-91e7-5cefbbf1b5e9",
   "metadata": {},
   "outputs": [
    {
     "data": {
      "text/plain": [
       "array([   2,    5,    7, ..., 4606, 4607, 4608])"
      ]
     },
     "execution_count": 54,
     "metadata": {},
     "output_type": "execute_result"
    }
   ],
   "source": [
    "np.where(diff_profile_x<-2e-8)[0]"
   ]
  },
  {
   "cell_type": "code",
   "execution_count": 55,
   "id": "c487e8f4-4657-4f98-9142-eee8799b7388",
   "metadata": {},
   "outputs": [
    {
     "data": {
      "text/plain": [
       "array([   0,    1,    3, ..., 4599, 4602, 4604])"
      ]
     },
     "execution_count": 55,
     "metadata": {},
     "output_type": "execute_result"
    }
   ],
   "source": [
    "np.where(diff_profile_x>2e-8)[0]"
   ]
  },
  {
   "cell_type": "code",
   "execution_count": 56,
   "id": "74315a12-24d5-43ee-961e-358547798ef9",
   "metadata": {},
   "outputs": [
    {
     "data": {
      "text/plain": [
       "array([   1,    2,    3, ..., 4085, 4091, 4096])"
      ]
     },
     "execution_count": 56,
     "metadata": {},
     "output_type": "execute_result"
    }
   ],
   "source": [
    "np.where(diff_profile_y<-2e-8)[0]"
   ]
  },
  {
   "cell_type": "code",
   "execution_count": 57,
   "id": "3bdd1e27-ff23-41bc-87c7-31e942736e57",
   "metadata": {},
   "outputs": [
    {
     "data": {
      "text/plain": [
       "array([   0,   11,   12, ..., 4093, 4094, 4095])"
      ]
     },
     "execution_count": 57,
     "metadata": {},
     "output_type": "execute_result"
    }
   ],
   "source": [
    "np.where(diff_profile_y>2e-8)[0]"
   ]
  },
  {
   "cell_type": "code",
   "execution_count": 58,
   "id": "f8590137-9aea-4633-bdd1-1b61ab700de0",
   "metadata": {},
   "outputs": [],
   "source": [
    "# load indexes generated from flat file\n",
    "indexes_x_set0=np.loadtxt('data/indexes_x_set0.txt',delimiter=',').astype(int)\n",
    "indexes_y_set0=np.loadtxt('data/indexes_y_set0.txt',delimiter=',').astype(int)"
   ]
  },
  {
   "cell_type": "code",
   "execution_count": 59,
   "id": "c55f4003-3181-4463-a3d8-63ec9cf6f7ed",
   "metadata": {},
   "outputs": [
    {
     "data": {
      "text/plain": [
       "array([   0,    1,    2,    3,    4,    5,    6,    7,    8,    9,   10,\n",
       "         11,   12,   13,   14,   15,   16,   17,   18,   19,   20,   21,\n",
       "         22,   23,   24,   25,   26,   27,   28,   29,   30,   31,   32,\n",
       "         33,   34,   35,   36,   37,   38,   39,   40,   41,   42,   43,\n",
       "         44,   45,   46,   47,   48,   49,   50,   51,   52,   53,   54,\n",
       "         55,   56,   57,   58,   59,   60,   61,   62,   63,  573,  574,\n",
       "        575,  576,  577,  578,  579,  580,  581,  582,  583,  584,  585,\n",
       "        586,  587,  588,  589,  590,  591,  592,  593,  594,  595,  596,\n",
       "        597,  598,  599,  600,  601,  602,  603,  604,  605,  606,  607,\n",
       "        608,  609,  610,  611,  612,  613,  614,  615,  616,  617,  618,\n",
       "        619,  620,  621,  622,  623,  624,  625,  626,  627,  628,  629,\n",
       "        630,  631,  632,  633,  634,  635,  636,  637,  638,  639, 1149,\n",
       "       1150, 1151, 1152, 1153, 1154, 1155, 1156, 1157, 1158, 1159, 1160,\n",
       "       1161, 1162, 1163, 1164, 1165, 1166, 1167, 1168, 1169, 1170, 1171,\n",
       "       1172, 1173, 1174, 1175, 1176, 1177, 1178, 1179, 1180, 1181, 1182,\n",
       "       1183, 1184, 1185, 1186, 1187, 1188, 1189, 1190, 1191, 1192, 1193,\n",
       "       1194, 1195, 1196, 1197, 1198, 1199, 1200, 1201, 1202, 1203, 1204,\n",
       "       1205, 1206, 1207, 1208, 1209, 1210, 1211, 1212, 1213, 1214, 1215,\n",
       "       1725, 1726, 1727, 1728, 1729, 1730, 1731, 1732, 1733, 1734, 1735,\n",
       "       1736, 1737, 1738, 1739, 1740, 1741, 1742, 1743, 1744, 1745, 1746,\n",
       "       1747, 1748, 1749, 1750, 1751, 1752, 1753, 1754, 1755, 1756, 1757,\n",
       "       1758, 1759, 1760, 1761, 1762, 1763, 1764, 1765, 1766, 1767, 1768,\n",
       "       1769, 1770, 1771, 1772, 1773, 1774, 1775, 1776, 1777, 1778, 1779,\n",
       "       1780, 1781, 1782, 1783, 1784, 1785, 1786, 1787, 1788, 1789, 1790,\n",
       "       1791, 2301, 2302, 2303, 2304, 2305, 2306, 2307, 2308, 2309, 2310,\n",
       "       2311, 2312, 2313, 2314, 2315, 2316, 2317, 2318, 2319, 2320, 2321,\n",
       "       2322, 2323, 2324, 2325, 2326, 2327, 2328, 2329, 2330, 2331, 2332,\n",
       "       2333, 2334, 2335, 2336, 2337, 2338, 2339, 2340, 2341, 2342, 2343,\n",
       "       2344, 2345, 2346, 2347, 2348, 2349, 2350, 2351, 2352, 2353, 2354,\n",
       "       2355, 2356, 2357, 2358, 2359, 2360, 2361, 2362, 2363, 2364, 2365,\n",
       "       2366, 2367, 2877, 2878, 2879, 2880, 2881, 2882, 2883, 2884, 2885,\n",
       "       2886, 2887, 2888, 2889, 2890, 2891, 2892, 2893, 2894, 2895, 2896,\n",
       "       2897, 2898, 2899, 2900, 2901, 2902, 2903, 2904, 2905, 2906, 2907,\n",
       "       2908, 2909, 2910, 2911, 2912, 2913, 2914, 2915, 2916, 2917, 2918,\n",
       "       2919, 2920, 2921, 2922, 2923, 2924, 2925, 2926, 2927, 2928, 2929,\n",
       "       2930, 2931, 2932, 2933, 2934, 2935, 2936, 2937, 2938, 2939, 2940,\n",
       "       2941, 2942, 2943, 3453, 3454, 3455, 3456, 3457, 3458, 3459, 3460,\n",
       "       3461, 3462, 3463, 3464, 3465, 3466, 3467, 3468, 3469, 3470, 3471,\n",
       "       3472, 3473, 3474, 3475, 3476, 3477, 3478, 3479, 3480, 3481, 3482,\n",
       "       3483, 3484, 3485, 3486, 3487, 3488, 3489, 3490, 3491, 3492, 3493,\n",
       "       3494, 3495, 3496, 3497, 3498, 3499, 3500, 3501, 3502, 3503, 3504,\n",
       "       3505, 3506, 3507, 3508, 3509, 3510, 3511, 3512, 3513, 3514, 3515,\n",
       "       3516, 3517, 3518, 3519, 4029, 4030, 4031, 4032, 4033, 4034, 4035,\n",
       "       4036, 4037, 4038, 4039, 4040, 4041, 4042, 4043, 4044, 4045, 4046,\n",
       "       4047, 4048, 4049, 4050, 4051, 4052, 4053, 4054, 4055, 4056, 4057,\n",
       "       4058, 4059, 4060, 4061, 4062, 4063, 4064, 4065, 4066, 4067, 4068,\n",
       "       4069, 4070, 4071, 4072, 4073, 4074, 4075, 4076, 4077, 4078, 4079,\n",
       "       4080, 4081, 4082, 4083, 4084, 4085, 4086, 4087, 4088, 4089, 4090,\n",
       "       4091, 4092, 4093, 4094, 4095, 4605, 4606, 4607])"
      ]
     },
     "execution_count": 59,
     "metadata": {},
     "output_type": "execute_result"
    }
   ],
   "source": [
    "#indexes_x_set0=np.where(profile_x<1e8)[0]\n",
    "indexes_x_set0"
   ]
  },
  {
   "cell_type": "code",
   "execution_count": 60,
   "id": "f32adbd6-9400-46f8-ae29-0925ea4f9aa8",
   "metadata": {},
   "outputs": [
    {
     "data": {
      "text/plain": [
       "array([2000, 2001, 2002, 2003, 2004, 2005, 2006, 2007, 2008, 2009, 2010,\n",
       "       2011, 2012, 2013, 2014, 2015, 2016, 2017, 2018, 2019, 2020, 2021,\n",
       "       2022, 2023, 2024, 2025, 2026, 2027, 2028, 2029, 2030, 2031, 2032,\n",
       "       2033, 2034, 2035, 2036, 2037, 2038, 2039, 2040, 2041, 2042, 2043,\n",
       "       2044, 2045, 2046, 2047, 2048, 2049, 2050, 2051, 2052, 2053, 2054,\n",
       "       2055, 2056, 2057, 2058, 2059, 2060, 2061, 2062, 2063, 2064, 2065,\n",
       "       2066, 2067, 2068, 2069, 2070, 2071, 2072, 2073, 2074, 2075, 2076,\n",
       "       2077, 2078, 2079, 2080, 2081, 2082, 2083, 2084, 2085, 2086, 2087,\n",
       "       2088, 2089, 2090, 2091, 2092, 2093, 2094, 2095])"
      ]
     },
     "execution_count": 60,
     "metadata": {},
     "output_type": "execute_result"
    }
   ],
   "source": [
    "#indexes_y_set0=np.where(profile_y<1e8)[0]\n",
    "indexes_y_set0"
   ]
  },
  {
   "cell_type": "code",
   "execution_count": 61,
   "id": "ff9bbf86-419d-48cb-8b08-55b2337e5495",
   "metadata": {},
   "outputs": [],
   "source": [
    "raw_image[:,indexes_x_set0]=0\n",
    "raw_image[indexes_y_set0,:]=0"
   ]
  },
  {
   "cell_type": "code",
   "execution_count": 62,
   "id": "0fbc3acf-b173-4917-9fc7-925ec5300e24",
   "metadata": {},
   "outputs": [
    {
     "data": {
      "text/plain": [
       "182571.0"
      ]
     },
     "execution_count": 62,
     "metadata": {},
     "output_type": "execute_result"
    }
   ],
   "source": [
    "raw_image.max()"
   ]
  },
  {
   "cell_type": "code",
   "execution_count": 63,
   "id": "67a38409-b796-4964-a018-a841210a5169",
   "metadata": {},
   "outputs": [
    {
     "data": {
      "image/png": "[encoded data removed]",
      "text/plain": [
       "<Figure size 720x720 with 1 Axes>"
      ]
     },
     "metadata": {
      "needs_background": "light"
     },
     "output_type": "display_data"
    }
   ],
   "source": [
    "fig = plt.figure(figsize=(10,10))\n",
    "ax=fig.add_subplot(111)\n",
    "\n",
    "ax.imshow(raw_image,origin='lower',cmap=\"gray\")\n",
    "plt.show()"
   ]
  },
  {
   "cell_type": "code",
   "execution_count": 64,
   "id": "c3da8d01-aca4-4c27-a4f8-313d14d9b28e",
   "metadata": {},
   "outputs": [],
   "source": [
    "data_noemptycolumn = raw_image[:,~np.all(raw_image == 0, axis=0)]"
   ]
  },
  {
   "cell_type": "code",
   "execution_count": 65,
   "id": "c14721a7-77a3-4864-b78f-909f565dffe3",
   "metadata": {},
   "outputs": [
    {
     "data": {
      "text/plain": [
       "<matplotlib.image.AxesImage at 0x7f1e99245c70>"
      ]
     },
     "execution_count": 65,
     "metadata": {},
     "output_type": "execute_result"
    },
    {
     "data": {
      "image/png": "[encoded data removed]",
      "text/plain": [
       "<Figure size 720x720 with 1 Axes>"
      ]
     },
     "metadata": {
      "needs_background": "light"
     },
     "output_type": "display_data"
    }
   ],
   "source": [
    "fig = plt.figure(figsize=(10,10))\n",
    "ax=fig.add_subplot(111)\n",
    "plt.imshow(data_noemptycolumn,origin='lower',cmap=\"gray\",norm=LogNorm())"
   ]
  },
  {
   "cell_type": "code",
   "execution_count": 66,
   "id": "3c4d6bdd-728a-465a-890d-da2cc9177350",
   "metadata": {},
   "outputs": [],
   "source": [
    "data_noemptyrow = data_noemptycolumn[~np.all(raw_image == 0, axis=1),:]"
   ]
  },
  {
   "cell_type": "code",
   "execution_count": 67,
   "id": "b9514164-1ef8-46e9-8738-2b63d93cfe0e",
   "metadata": {},
   "outputs": [
    {
     "data": {
      "text/plain": [
       "<matplotlib.image.AxesImage at 0x7f1e991be670>"
      ]
     },
     "execution_count": 67,
     "metadata": {},
     "output_type": "execute_result"
    },
    {
     "data": {
      "image/png": "[encoded data removed]",
      "text/plain": [
       "<Figure size 720x720 with 1 Axes>"
      ]
     },
     "metadata": {
      "needs_background": "light"
     },
     "output_type": "display_data"
    }
   ],
   "source": [
    "fig = plt.figure(figsize=(10,10))\n",
    "ax=fig.add_subplot(111)\n",
    "plt.imshow(data_noemptyrow,origin='lower',cmap=\"gray\",norm=LogNorm())\n",
    "#plt.imshow(data_noemptyrow,origin='lower',cmap=\"gray\")"
   ]
  },
  {
   "cell_type": "code",
   "execution_count": 68,
   "id": "6857cc6a-946b-407b-b1c1-57e4e27dc230",
   "metadata": {},
   "outputs": [],
   "source": [
    "data=data_noemptyrow"
   ]
  },
  {
   "cell_type": "code",
   "execution_count": 69,
   "id": "8dacfe75-a975-499f-bf51-6a7e4bdb7c74",
   "metadata": {},
   "outputs": [
    {
     "data": {
      "image/png": "[encoded data removed]",
      "text/plain": [
       "<Figure size 576x432 with 1 Axes>"
      ]
     },
     "metadata": {
      "needs_background": "light"
     },
     "output_type": "display_data"
    }
   ],
   "source": [
    "fig = plt.figure(figsize=(8,6))\n",
    "ax=fig.add_subplot(111)\n",
    "flat_array=np.ravel(data)\n",
    "ax.hist(flat_array,bins=100,range=(0,100000));\n",
    "ax.set_yscale('log')"
   ]
  },
  {
   "cell_type": "code",
   "execution_count": 70,
   "id": "363941bb-83d8-4877-9cb0-4898e284e12a",
   "metadata": {},
   "outputs": [
    {
     "data": {
      "text/plain": [
       "(4000, 4072)"
      ]
     },
     "execution_count": 70,
     "metadata": {},
     "output_type": "execute_result"
    }
   ],
   "source": [
    "data.shape"
   ]
  },
  {
   "cell_type": "code",
   "execution_count": null,
   "id": "e7d2a28c-0179-4d96-8dcd-7bc070f4a640",
   "metadata": {},
   "outputs": [],
   "source": []
  }
 ],
 "metadata": {
  "kernelspec": {
   "display_name": "lsst_distrib_w_2021_36",
   "language": "python",
   "name": "lsst_distrib_w_2021_36"
  },
  "language_info": {
   "codemirror_mode": {
    "name": "ipython",
    "version": 3
   },
   "file_extension": ".py",
   "mimetype": "text/x-python",
   "name": "python",
   "nbconvert_exporter": "python",
   "pygments_lexer": "ipython3",
   "version": "3.8.8"
  }
 },
 "nbformat": 4,
 "nbformat_minor": 5
}
