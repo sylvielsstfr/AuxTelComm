{
 "cells": [
  {
   "cell_type": "markdown",
   "id": "c813ed6a",
   "metadata": {
    "tags": []
   },
   "source": [
    "# Example of accessing raw data at CCIN2P3, example with Flats\n",
    "\n",
    "This example allow to show where is the overscan\n",
    "\n",
    "\n",
    "- work with Weakly_2021_36\n",
    "- use jupyter kernel LSST\n",
    "\n",
    "\n",
    "\n",
    "- author : Sylvie Dagoret-Campagne\n",
    "- affiliation : IJCLab\n",
    "- creation date : 2022/03/04\n",
    "\n"
   ]
  },
  {
   "cell_type": "code",
   "execution_count": 60,
   "id": "2e1f28b1",
   "metadata": {},
   "outputs": [],
   "source": [
    "! eups list -s | grep local"
   ]
  },
  {
   "cell_type": "code",
   "execution_count": 61,
   "id": "ea83b669",
   "metadata": {},
   "outputs": [],
   "source": [
    "import os\n",
    "import matplotlib.pyplot as plt\n",
    "import numpy as np\n",
    "import pandas as pd\n",
    "%matplotlib inline\n",
    "from matplotlib.colors import LogNorm\n",
    "\n",
    "from mpl_toolkits.axes_grid1 import make_axes_locatable\n",
    "\n",
    "import matplotlib.ticker                         # here's where the formatter is\n",
    "from matplotlib.ticker import (MultipleLocator, FormatStrFormatter,\n",
    "                               AutoMinorLocator)\n",
    "\n",
    "from astropy.io import fits\n",
    "import sqlite3"
   ]
  },
  {
   "cell_type": "code",
   "execution_count": 62,
   "id": "5286df73-db86-469a-8c60-c8f8ae36f2d6",
   "metadata": {},
   "outputs": [],
   "source": [
    "def read_sqlite(dbfile):\n",
    "    import sqlite3\n",
    "    from pandas import read_sql_query, read_sql_table\n",
    "\n",
    "    with sqlite3.connect(dbfile) as dbcon:\n",
    "        tables = list(read_sql_query(\"SELECT name FROM sqlite_master WHERE type='table';\", dbcon)['name'])\n",
    "        out = {tbl : read_sql_query(f\"SELECT * from {tbl}\", dbcon) for tbl in tables}\n",
    "\n",
    "    return out"
   ]
  },
  {
   "cell_type": "code",
   "execution_count": 63,
   "id": "7a36f8cd",
   "metadata": {},
   "outputs": [],
   "source": [
    "import lsst.daf.persistence as dafPersist\n",
    "import lsst.afw.display as afwDisplay\n",
    "afwDisplay.setDefaultBackend(\"lsst.display.firefly\")"
   ]
  },
  {
   "cell_type": "code",
   "execution_count": 64,
   "id": "243f94e4",
   "metadata": {},
   "outputs": [],
   "source": [
    "FLAG_SAVE_IMAGE=False"
   ]
  },
  {
   "cell_type": "code",
   "execution_count": 65,
   "id": "695997c7",
   "metadata": {},
   "outputs": [
    {
     "name": "stdout",
     "output_type": "stream",
     "text": [
      "all_visits\t       _mapper\t\t\trun_ingestmasterbias.py~\n",
      "all_visitsbias\t       _mapper~\t\t\trun_masterbiasing.sh\n",
      "all_visitsdispersers   processConfig.py\t\trun_masterbiasing.sh~\n",
      "all_visitsflats        raw\t\t\trun_masterflatting.sh\n",
      "biasConfig.py\t       README.md\t\trun_processstar.sh\n",
      "CALIB\t\t       README.md~\t\trun_processstar_v2.sh\n",
      "flatConfig.py\t       ref_cats\t\t\trun_processstar_v2.sh~\n",
      "flat.list\t       registry.sqlite3\t\trun_processstar_v3.sh\n",
      "launchflats.sh\t       repos\t\t\trun_processstar_v3.sh~\n",
      "launchprocessstar.sh   rerun\t\t\tvisit.list\n",
      "launchprocessstar.sh~  run_ingestmasterbias.py\n"
     ]
    }
   ],
   "source": [
    "!ls /sps/lsst/groups/auxtel/softs/shared/auxteldm"
   ]
  },
  {
   "cell_type": "markdown",
   "id": "a87cdba1",
   "metadata": {},
   "source": [
    "# Configuration"
   ]
  },
  {
   "cell_type": "markdown",
   "id": "65a2d40b",
   "metadata": {},
   "source": [
    "## Location and date"
   ]
  },
  {
   "cell_type": "code",
   "execution_count": 66,
   "id": "d62cae34",
   "metadata": {},
   "outputs": [],
   "source": [
    "SOFT_VERSION=\"v0\""
   ]
  },
  {
   "cell_type": "code",
   "execution_count": 67,
   "id": "7ad789d7",
   "metadata": {},
   "outputs": [],
   "source": [
    "#from lsst.rapid.analysis.nightReport import NightReporter\n",
    "# data exist here\n",
    "repoDir='/sps/lsst/groups/auxtel/softs/shared/auxteldm'\n",
    "registryfile=os.path.join(repoDir,'registry.sqlite3')\n",
    "# recommended but wrong\n",
    "#repoDir='project/shared/auxTel/rerun/mfl/slurmRun'\n",
    "dayObs=\"2021-02-16\"\n",
    "#reporter=NightReporter(repoDir,dayObs)"
   ]
  },
  {
   "cell_type": "markdown",
   "id": "c43df84a",
   "metadata": {},
   "source": [
    "# Selection"
   ]
  },
  {
   "cell_type": "code",
   "execution_count": 68,
   "id": "0c188e99",
   "metadata": {},
   "outputs": [],
   "source": [
    "DISPERSER_SEL=\"holo4_003\""
   ]
  },
  {
   "cell_type": "code",
   "execution_count": 69,
   "id": "0d029648",
   "metadata": {},
   "outputs": [],
   "source": [
    "FLAG_FLAT_SELECTION=True"
   ]
  },
  {
   "cell_type": "markdown",
   "id": "ba688f28",
   "metadata": {},
   "source": [
    "# Information from reporter"
   ]
  },
  {
   "cell_type": "code",
   "execution_count": 70,
   "id": "28d689cb",
   "metadata": {},
   "outputs": [],
   "source": [
    "#print(reporter.getObservedObjects())"
   ]
  },
  {
   "cell_type": "code",
   "execution_count": 71,
   "id": "4acd49bc",
   "metadata": {},
   "outputs": [],
   "source": [
    "#reporter.makePolarPlotForObjects()"
   ]
  },
  {
   "cell_type": "code",
   "execution_count": 72,
   "id": "daaf2f72",
   "metadata": {},
   "outputs": [],
   "source": [
    "#reporter.plotPerObjectAirMass()"
   ]
  },
  {
   "cell_type": "code",
   "execution_count": 73,
   "id": "91a71416",
   "metadata": {},
   "outputs": [],
   "source": [
    "#reporter.printObsTable()"
   ]
  },
  {
   "cell_type": "markdown",
   "id": "760cf568-6b40-4a3c-b48c-d58da7f6c22b",
   "metadata": {},
   "source": [
    "# Information from registry file"
   ]
  },
  {
   "cell_type": "code",
   "execution_count": 74,
   "id": "8cb6d657-8a06-4d72-b72a-265c1eb05e9c",
   "metadata": {},
   "outputs": [],
   "source": [
    "dict_db = read_sqlite(registryfile)"
   ]
  },
  {
   "cell_type": "code",
   "execution_count": 75,
   "id": "21a154de-e18f-4873-a386-c204bb29d0b2",
   "metadata": {},
   "outputs": [
    {
     "data": {
      "text/plain": [
       "dict_keys(['raw', 'sqlite_sequence', 'raw_visit'])"
      ]
     },
     "execution_count": 75,
     "metadata": {},
     "output_type": "execute_result"
    }
   ],
   "source": [
    "dict_db.keys()"
   ]
  },
  {
   "cell_type": "code",
   "execution_count": 76,
   "id": "b294b1ff-3f01-4c6d-a4d2-0c8f4ef45484",
   "metadata": {},
   "outputs": [],
   "source": [
    "dat = sqlite3.connect(registryfile)"
   ]
  },
  {
   "cell_type": "code",
   "execution_count": 77,
   "id": "5c67481f-07bd-4d0c-8382-1006ddaed1e9",
   "metadata": {},
   "outputs": [],
   "source": [
    "query = dat.execute(\"SELECT * From raw\")"
   ]
  },
  {
   "cell_type": "code",
   "execution_count": 78,
   "id": "9e337d71-76f6-4cf0-bdee-b6ef48d81585",
   "metadata": {},
   "outputs": [],
   "source": [
    "cols = [column[0] for column in query.description]"
   ]
  },
  {
   "cell_type": "code",
   "execution_count": 79,
   "id": "13ce0a5e-966c-474b-b6c6-3f004b451625",
   "metadata": {},
   "outputs": [],
   "source": [
    "results= pd.DataFrame.from_records(data = query.fetchall(), columns = cols)"
   ]
  },
  {
   "cell_type": "code",
   "execution_count": 80,
   "id": "0e67e6e0-50e7-4a66-839e-4bf148891c15",
   "metadata": {},
   "outputs": [
    {
     "data": {
      "text/html": [
       "<div>\n",
       "<style scoped>\n",
       "    .dataframe tbody tr th:only-of-type {\n",
       "        vertical-align: middle;\n",
       "    }\n",
       "\n",
       "    .dataframe tbody tr th {\n",
       "        vertical-align: top;\n",
       "    }\n",
       "\n",
       "    .dataframe thead th {\n",
       "        text-align: right;\n",
       "    }\n",
       "</style>\n",
       "<table border=\"1\" class=\"dataframe\">\n",
       "  <thead>\n",
       "    <tr style=\"text-align: right;\">\n",
       "      <th></th>\n",
       "      <th>id</th>\n",
       "      <th>dayObs</th>\n",
       "      <th>seqNum</th>\n",
       "      <th>visit</th>\n",
       "      <th>detector</th>\n",
       "      <th>detectorName</th>\n",
       "      <th>filter</th>\n",
       "      <th>dateObs</th>\n",
       "      <th>date</th>\n",
       "      <th>expTime</th>\n",
       "      <th>object</th>\n",
       "      <th>imageType</th>\n",
       "      <th>wavelength</th>\n",
       "      <th>expGroup</th>\n",
       "      <th>obsid</th>\n",
       "      <th>expId</th>\n",
       "    </tr>\n",
       "  </thead>\n",
       "  <tbody>\n",
       "    <tr>\n",
       "      <th>0</th>\n",
       "      <td>1</td>\n",
       "      <td>2021-06-08</td>\n",
       "      <td>1</td>\n",
       "      <td>2031133798900000</td>\n",
       "      <td>0</td>\n",
       "      <td>S00</td>\n",
       "      <td>RG610~holo4_003</td>\n",
       "      <td>2021-06-08T20:23:00.082</td>\n",
       "      <td>2021-06-08T20:23:00.082</td>\n",
       "      <td>0.0</td>\n",
       "      <td>azel_target</td>\n",
       "      <td>BIAS</td>\n",
       "      <td>-666</td>\n",
       "      <td>2021-06-08T20:22:59.890</td>\n",
       "      <td>AT_O_20210608_000001</td>\n",
       "      <td>2021060800001</td>\n",
       "    </tr>\n",
       "    <tr>\n",
       "      <th>1</th>\n",
       "      <td>2</td>\n",
       "      <td>2021-06-08</td>\n",
       "      <td>2</td>\n",
       "      <td>2031134348450000</td>\n",
       "      <td>0</td>\n",
       "      <td>S00</td>\n",
       "      <td>RG610~holo4_003</td>\n",
       "      <td>2021-06-08T20:23:55.021</td>\n",
       "      <td>2021-06-08T20:23:55.021</td>\n",
       "      <td>0.0</td>\n",
       "      <td>azel_target</td>\n",
       "      <td>BIAS</td>\n",
       "      <td>-666</td>\n",
       "      <td>2021-06-08T20:23:54.845</td>\n",
       "      <td>AT_O_20210608_000002</td>\n",
       "      <td>2021060800002</td>\n",
       "    </tr>\n",
       "    <tr>\n",
       "      <th>2</th>\n",
       "      <td>3</td>\n",
       "      <td>2021-06-08</td>\n",
       "      <td>3</td>\n",
       "      <td>2031134393460000</td>\n",
       "      <td>0</td>\n",
       "      <td>S00</td>\n",
       "      <td>RG610~holo4_003</td>\n",
       "      <td>2021-06-08T20:23:59.516</td>\n",
       "      <td>2021-06-08T20:23:59.516</td>\n",
       "      <td>0.0</td>\n",
       "      <td>azel_target</td>\n",
       "      <td>BIAS</td>\n",
       "      <td>-666</td>\n",
       "      <td>2021-06-08T20:23:59.346</td>\n",
       "      <td>AT_O_20210608_000003</td>\n",
       "      <td>2021060800003</td>\n",
       "    </tr>\n",
       "    <tr>\n",
       "      <th>3</th>\n",
       "      <td>4</td>\n",
       "      <td>2021-06-08</td>\n",
       "      <td>4</td>\n",
       "      <td>2031134438450000</td>\n",
       "      <td>0</td>\n",
       "      <td>S00</td>\n",
       "      <td>RG610~holo4_003</td>\n",
       "      <td>2021-06-08T20:24:04.019</td>\n",
       "      <td>2021-06-08T20:24:04.019</td>\n",
       "      <td>0.0</td>\n",
       "      <td>azel_target</td>\n",
       "      <td>BIAS</td>\n",
       "      <td>-666</td>\n",
       "      <td>2021-06-08T20:24:03.845</td>\n",
       "      <td>AT_O_20210608_000004</td>\n",
       "      <td>2021060800004</td>\n",
       "    </tr>\n",
       "    <tr>\n",
       "      <th>4</th>\n",
       "      <td>5</td>\n",
       "      <td>2021-06-08</td>\n",
       "      <td>5</td>\n",
       "      <td>2031134483610000</td>\n",
       "      <td>0</td>\n",
       "      <td>S00</td>\n",
       "      <td>RG610~holo4_003</td>\n",
       "      <td>2021-06-08T20:24:08.527</td>\n",
       "      <td>2021-06-08T20:24:08.527</td>\n",
       "      <td>0.0</td>\n",
       "      <td>azel_target</td>\n",
       "      <td>BIAS</td>\n",
       "      <td>-666</td>\n",
       "      <td>2021-06-08T20:24:08.361</td>\n",
       "      <td>AT_O_20210608_000005</td>\n",
       "      <td>2021060800005</td>\n",
       "    </tr>\n",
       "    <tr>\n",
       "      <th>...</th>\n",
       "      <td>...</td>\n",
       "      <td>...</td>\n",
       "      <td>...</td>\n",
       "      <td>...</td>\n",
       "      <td>...</td>\n",
       "      <td>...</td>\n",
       "      <td>...</td>\n",
       "      <td>...</td>\n",
       "      <td>...</td>\n",
       "      <td>...</td>\n",
       "      <td>...</td>\n",
       "      <td>...</td>\n",
       "      <td>...</td>\n",
       "      <td>...</td>\n",
       "      <td>...</td>\n",
       "      <td>...</td>\n",
       "    </tr>\n",
       "    <tr>\n",
       "      <th>12755</th>\n",
       "      <td>12756</td>\n",
       "      <td>2022-02-17</td>\n",
       "      <td>765</td>\n",
       "      <td>2251058140450000</td>\n",
       "      <td>0</td>\n",
       "      <td>S00</td>\n",
       "      <td>SDSSg~empty</td>\n",
       "      <td>2022-02-18T09:25:53.560</td>\n",
       "      <td>2022-02-18T09:25:53.560</td>\n",
       "      <td>30.0</td>\n",
       "      <td>LATISS_E6A_00000034</td>\n",
       "      <td>SKYEXP</td>\n",
       "      <td>-666</td>\n",
       "      <td>2022-02-18T09:23:34.045</td>\n",
       "      <td>AT_O_20220217_000765</td>\n",
       "      <td>2022021700765</td>\n",
       "    </tr>\n",
       "    <tr>\n",
       "      <th>12756</th>\n",
       "      <td>12757</td>\n",
       "      <td>2022-02-17</td>\n",
       "      <td>766</td>\n",
       "      <td>2251059032260000</td>\n",
       "      <td>0</td>\n",
       "      <td>S00</td>\n",
       "      <td>SDSSi~empty</td>\n",
       "      <td>2022-02-18T09:26:52.861</td>\n",
       "      <td>2022-02-18T09:26:52.861</td>\n",
       "      <td>30.0</td>\n",
       "      <td>LATISS_E6A_00000034</td>\n",
       "      <td>SKYEXP</td>\n",
       "      <td>-666</td>\n",
       "      <td>2022-02-18T09:25:03.226</td>\n",
       "      <td>AT_O_20220217_000766</td>\n",
       "      <td>2022021700766</td>\n",
       "    </tr>\n",
       "    <tr>\n",
       "      <th>12757</th>\n",
       "      <td>12758</td>\n",
       "      <td>2022-02-17</td>\n",
       "      <td>767</td>\n",
       "      <td>2251059032260000</td>\n",
       "      <td>0</td>\n",
       "      <td>S00</td>\n",
       "      <td>SDSSi~empty</td>\n",
       "      <td>2022-02-18T09:27:25.852</td>\n",
       "      <td>2022-02-18T09:27:25.852</td>\n",
       "      <td>30.0</td>\n",
       "      <td>LATISS_E6A_00000034</td>\n",
       "      <td>SKYEXP</td>\n",
       "      <td>-666</td>\n",
       "      <td>2022-02-18T09:25:03.226</td>\n",
       "      <td>AT_O_20220217_000767</td>\n",
       "      <td>2022021700767</td>\n",
       "    </tr>\n",
       "    <tr>\n",
       "      <th>12758</th>\n",
       "      <td>12759</td>\n",
       "      <td>2022-02-17</td>\n",
       "      <td>768</td>\n",
       "      <td>2251059905630000</td>\n",
       "      <td>0</td>\n",
       "      <td>S00</td>\n",
       "      <td>SDSSr~empty</td>\n",
       "      <td>2022-02-18T09:28:22.143</td>\n",
       "      <td>2022-02-18T09:28:22.143</td>\n",
       "      <td>30.0</td>\n",
       "      <td>LATISS_E6A_00000034</td>\n",
       "      <td>SKYEXP</td>\n",
       "      <td>-666</td>\n",
       "      <td>2022-02-18T09:26:30.563</td>\n",
       "      <td>AT_O_20220217_000768</td>\n",
       "      <td>2022021700768</td>\n",
       "    </tr>\n",
       "    <tr>\n",
       "      <th>12759</th>\n",
       "      <td>12760</td>\n",
       "      <td>2022-02-17</td>\n",
       "      <td>769</td>\n",
       "      <td>2251059905630000</td>\n",
       "      <td>0</td>\n",
       "      <td>S00</td>\n",
       "      <td>SDSSr~empty</td>\n",
       "      <td>2022-02-18T09:28:55.127</td>\n",
       "      <td>2022-02-18T09:28:55.127</td>\n",
       "      <td>30.0</td>\n",
       "      <td>LATISS_E6A_00000034</td>\n",
       "      <td>SKYEXP</td>\n",
       "      <td>-666</td>\n",
       "      <td>2022-02-18T09:26:30.563</td>\n",
       "      <td>AT_O_20220217_000769</td>\n",
       "      <td>2022021700769</td>\n",
       "    </tr>\n",
       "  </tbody>\n",
       "</table>\n",
       "<p>12760 rows × 16 columns</p>\n",
       "</div>"
      ],
      "text/plain": [
       "          id      dayObs  seqNum             visit  detector detectorName  \\\n",
       "0          1  2021-06-08       1  2031133798900000         0          S00   \n",
       "1          2  2021-06-08       2  2031134348450000         0          S00   \n",
       "2          3  2021-06-08       3  2031134393460000         0          S00   \n",
       "3          4  2021-06-08       4  2031134438450000         0          S00   \n",
       "4          5  2021-06-08       5  2031134483610000         0          S00   \n",
       "...      ...         ...     ...               ...       ...          ...   \n",
       "12755  12756  2022-02-17     765  2251058140450000         0          S00   \n",
       "12756  12757  2022-02-17     766  2251059032260000         0          S00   \n",
       "12757  12758  2022-02-17     767  2251059032260000         0          S00   \n",
       "12758  12759  2022-02-17     768  2251059905630000         0          S00   \n",
       "12759  12760  2022-02-17     769  2251059905630000         0          S00   \n",
       "\n",
       "                filter                  dateObs                     date  \\\n",
       "0      RG610~holo4_003  2021-06-08T20:23:00.082  2021-06-08T20:23:00.082   \n",
       "1      RG610~holo4_003  2021-06-08T20:23:55.021  2021-06-08T20:23:55.021   \n",
       "2      RG610~holo4_003  2021-06-08T20:23:59.516  2021-06-08T20:23:59.516   \n",
       "3      RG610~holo4_003  2021-06-08T20:24:04.019  2021-06-08T20:24:04.019   \n",
       "4      RG610~holo4_003  2021-06-08T20:24:08.527  2021-06-08T20:24:08.527   \n",
       "...                ...                      ...                      ...   \n",
       "12755      SDSSg~empty  2022-02-18T09:25:53.560  2022-02-18T09:25:53.560   \n",
       "12756      SDSSi~empty  2022-02-18T09:26:52.861  2022-02-18T09:26:52.861   \n",
       "12757      SDSSi~empty  2022-02-18T09:27:25.852  2022-02-18T09:27:25.852   \n",
       "12758      SDSSr~empty  2022-02-18T09:28:22.143  2022-02-18T09:28:22.143   \n",
       "12759      SDSSr~empty  2022-02-18T09:28:55.127  2022-02-18T09:28:55.127   \n",
       "\n",
       "       expTime               object imageType  wavelength  \\\n",
       "0          0.0          azel_target      BIAS        -666   \n",
       "1          0.0          azel_target      BIAS        -666   \n",
       "2          0.0          azel_target      BIAS        -666   \n",
       "3          0.0          azel_target      BIAS        -666   \n",
       "4          0.0          azel_target      BIAS        -666   \n",
       "...        ...                  ...       ...         ...   \n",
       "12755     30.0  LATISS_E6A_00000034    SKYEXP        -666   \n",
       "12756     30.0  LATISS_E6A_00000034    SKYEXP        -666   \n",
       "12757     30.0  LATISS_E6A_00000034    SKYEXP        -666   \n",
       "12758     30.0  LATISS_E6A_00000034    SKYEXP        -666   \n",
       "12759     30.0  LATISS_E6A_00000034    SKYEXP        -666   \n",
       "\n",
       "                      expGroup                 obsid          expId  \n",
       "0      2021-06-08T20:22:59.890  AT_O_20210608_000001  2021060800001  \n",
       "1      2021-06-08T20:23:54.845  AT_O_20210608_000002  2021060800002  \n",
       "2      2021-06-08T20:23:59.346  AT_O_20210608_000003  2021060800003  \n",
       "3      2021-06-08T20:24:03.845  AT_O_20210608_000004  2021060800004  \n",
       "4      2021-06-08T20:24:08.361  AT_O_20210608_000005  2021060800005  \n",
       "...                        ...                   ...            ...  \n",
       "12755  2022-02-18T09:23:34.045  AT_O_20220217_000765  2022021700765  \n",
       "12756  2022-02-18T09:25:03.226  AT_O_20220217_000766  2022021700766  \n",
       "12757  2022-02-18T09:25:03.226  AT_O_20220217_000767  2022021700767  \n",
       "12758  2022-02-18T09:26:30.563  AT_O_20220217_000768  2022021700768  \n",
       "12759  2022-02-18T09:26:30.563  AT_O_20220217_000769  2022021700769  \n",
       "\n",
       "[12760 rows x 16 columns]"
      ]
     },
     "execution_count": 80,
     "metadata": {},
     "output_type": "execute_result"
    }
   ],
   "source": [
    "results"
   ]
  },
  {
   "cell_type": "code",
   "execution_count": 81,
   "id": "f2630341-a3ef-4c55-9692-dd3896e8df1e",
   "metadata": {},
   "outputs": [],
   "source": [
    "results_sorted = results.sort_values([\"dayObs\", \"seqNum\"], ascending=True)"
   ]
  },
  {
   "cell_type": "code",
   "execution_count": 82,
   "id": "37a5c44a-f501-4f49-a456-7dae98d07b7d",
   "metadata": {},
   "outputs": [
    {
     "data": {
      "text/html": [
       "<div>\n",
       "<style scoped>\n",
       "    .dataframe tbody tr th:only-of-type {\n",
       "        vertical-align: middle;\n",
       "    }\n",
       "\n",
       "    .dataframe tbody tr th {\n",
       "        vertical-align: top;\n",
       "    }\n",
       "\n",
       "    .dataframe thead th {\n",
       "        text-align: right;\n",
       "    }\n",
       "</style>\n",
       "<table border=\"1\" class=\"dataframe\">\n",
       "  <thead>\n",
       "    <tr style=\"text-align: right;\">\n",
       "      <th></th>\n",
       "      <th>id</th>\n",
       "      <th>dayObs</th>\n",
       "      <th>seqNum</th>\n",
       "      <th>visit</th>\n",
       "      <th>detector</th>\n",
       "      <th>detectorName</th>\n",
       "      <th>filter</th>\n",
       "      <th>dateObs</th>\n",
       "      <th>date</th>\n",
       "      <th>expTime</th>\n",
       "      <th>object</th>\n",
       "      <th>imageType</th>\n",
       "      <th>wavelength</th>\n",
       "      <th>expGroup</th>\n",
       "      <th>obsid</th>\n",
       "      <th>expId</th>\n",
       "    </tr>\n",
       "  </thead>\n",
       "  <tbody>\n",
       "    <tr>\n",
       "      <th>8687</th>\n",
       "      <td>8688</td>\n",
       "      <td>2021-02-16</td>\n",
       "      <td>1</td>\n",
       "      <td>1934346219930000</td>\n",
       "      <td>0</td>\n",
       "      <td>S00</td>\n",
       "      <td>empty~empty</td>\n",
       "      <td>2021-02-16T19:50:22.184</td>\n",
       "      <td>2021-02-16T19:50:22.184</td>\n",
       "      <td>0.0</td>\n",
       "      <td>azel_target</td>\n",
       "      <td>BIAS</td>\n",
       "      <td>-666</td>\n",
       "      <td>2021-02-16T19:50:21.993</td>\n",
       "      <td>AT_O_20210216_000001</td>\n",
       "      <td>2021021600001</td>\n",
       "    </tr>\n",
       "    <tr>\n",
       "      <th>8688</th>\n",
       "      <td>8689</td>\n",
       "      <td>2021-02-16</td>\n",
       "      <td>2</td>\n",
       "      <td>1934362834080000</td>\n",
       "      <td>0</td>\n",
       "      <td>S00</td>\n",
       "      <td>empty~empty</td>\n",
       "      <td>2021-02-16T20:18:03.588</td>\n",
       "      <td>2021-02-16T20:18:03.588</td>\n",
       "      <td>0.0</td>\n",
       "      <td>azel_target</td>\n",
       "      <td>BIAS</td>\n",
       "      <td>-666</td>\n",
       "      <td>2021-02-16T20:18:03.408</td>\n",
       "      <td>AT_O_20210216_000002</td>\n",
       "      <td>2021021600002</td>\n",
       "    </tr>\n",
       "    <tr>\n",
       "      <th>8689</th>\n",
       "      <td>8690</td>\n",
       "      <td>2021-02-16</td>\n",
       "      <td>3</td>\n",
       "      <td>1934362963860000</td>\n",
       "      <td>0</td>\n",
       "      <td>S00</td>\n",
       "      <td>empty~empty</td>\n",
       "      <td>2021-02-16T20:18:16.563</td>\n",
       "      <td>2021-02-16T20:18:16.563</td>\n",
       "      <td>0.0</td>\n",
       "      <td>azel_target</td>\n",
       "      <td>BIAS</td>\n",
       "      <td>-666</td>\n",
       "      <td>2021-02-16T20:18:16.386</td>\n",
       "      <td>AT_O_20210216_000003</td>\n",
       "      <td>2021021600003</td>\n",
       "    </tr>\n",
       "    <tr>\n",
       "      <th>8690</th>\n",
       "      <td>8691</td>\n",
       "      <td>2021-02-16</td>\n",
       "      <td>4</td>\n",
       "      <td>1934363094110000</td>\n",
       "      <td>0</td>\n",
       "      <td>S00</td>\n",
       "      <td>empty~empty</td>\n",
       "      <td>2021-02-16T20:18:29.581</td>\n",
       "      <td>2021-02-16T20:18:29.581</td>\n",
       "      <td>0.0</td>\n",
       "      <td>azel_target</td>\n",
       "      <td>BIAS</td>\n",
       "      <td>-666</td>\n",
       "      <td>2021-02-16T20:18:29.411</td>\n",
       "      <td>AT_O_20210216_000004</td>\n",
       "      <td>2021021600004</td>\n",
       "    </tr>\n",
       "    <tr>\n",
       "      <th>8691</th>\n",
       "      <td>8692</td>\n",
       "      <td>2021-02-16</td>\n",
       "      <td>5</td>\n",
       "      <td>1934363223760000</td>\n",
       "      <td>0</td>\n",
       "      <td>S00</td>\n",
       "      <td>empty~empty</td>\n",
       "      <td>2021-02-16T20:18:42.546</td>\n",
       "      <td>2021-02-16T20:18:42.546</td>\n",
       "      <td>0.0</td>\n",
       "      <td>azel_target</td>\n",
       "      <td>BIAS</td>\n",
       "      <td>-666</td>\n",
       "      <td>2021-02-16T20:18:42.376</td>\n",
       "      <td>AT_O_20210216_000005</td>\n",
       "      <td>2021021600005</td>\n",
       "    </tr>\n",
       "    <tr>\n",
       "      <th>...</th>\n",
       "      <td>...</td>\n",
       "      <td>...</td>\n",
       "      <td>...</td>\n",
       "      <td>...</td>\n",
       "      <td>...</td>\n",
       "      <td>...</td>\n",
       "      <td>...</td>\n",
       "      <td>...</td>\n",
       "      <td>...</td>\n",
       "      <td>...</td>\n",
       "      <td>...</td>\n",
       "      <td>...</td>\n",
       "      <td>...</td>\n",
       "      <td>...</td>\n",
       "      <td>...</td>\n",
       "      <td>...</td>\n",
       "    </tr>\n",
       "    <tr>\n",
       "      <th>12755</th>\n",
       "      <td>12756</td>\n",
       "      <td>2022-02-17</td>\n",
       "      <td>765</td>\n",
       "      <td>2251058140450000</td>\n",
       "      <td>0</td>\n",
       "      <td>S00</td>\n",
       "      <td>SDSSg~empty</td>\n",
       "      <td>2022-02-18T09:25:53.560</td>\n",
       "      <td>2022-02-18T09:25:53.560</td>\n",
       "      <td>30.0</td>\n",
       "      <td>LATISS_E6A_00000034</td>\n",
       "      <td>SKYEXP</td>\n",
       "      <td>-666</td>\n",
       "      <td>2022-02-18T09:23:34.045</td>\n",
       "      <td>AT_O_20220217_000765</td>\n",
       "      <td>2022021700765</td>\n",
       "    </tr>\n",
       "    <tr>\n",
       "      <th>12756</th>\n",
       "      <td>12757</td>\n",
       "      <td>2022-02-17</td>\n",
       "      <td>766</td>\n",
       "      <td>2251059032260000</td>\n",
       "      <td>0</td>\n",
       "      <td>S00</td>\n",
       "      <td>SDSSi~empty</td>\n",
       "      <td>2022-02-18T09:26:52.861</td>\n",
       "      <td>2022-02-18T09:26:52.861</td>\n",
       "      <td>30.0</td>\n",
       "      <td>LATISS_E6A_00000034</td>\n",
       "      <td>SKYEXP</td>\n",
       "      <td>-666</td>\n",
       "      <td>2022-02-18T09:25:03.226</td>\n",
       "      <td>AT_O_20220217_000766</td>\n",
       "      <td>2022021700766</td>\n",
       "    </tr>\n",
       "    <tr>\n",
       "      <th>12757</th>\n",
       "      <td>12758</td>\n",
       "      <td>2022-02-17</td>\n",
       "      <td>767</td>\n",
       "      <td>2251059032260000</td>\n",
       "      <td>0</td>\n",
       "      <td>S00</td>\n",
       "      <td>SDSSi~empty</td>\n",
       "      <td>2022-02-18T09:27:25.852</td>\n",
       "      <td>2022-02-18T09:27:25.852</td>\n",
       "      <td>30.0</td>\n",
       "      <td>LATISS_E6A_00000034</td>\n",
       "      <td>SKYEXP</td>\n",
       "      <td>-666</td>\n",
       "      <td>2022-02-18T09:25:03.226</td>\n",
       "      <td>AT_O_20220217_000767</td>\n",
       "      <td>2022021700767</td>\n",
       "    </tr>\n",
       "    <tr>\n",
       "      <th>12758</th>\n",
       "      <td>12759</td>\n",
       "      <td>2022-02-17</td>\n",
       "      <td>768</td>\n",
       "      <td>2251059905630000</td>\n",
       "      <td>0</td>\n",
       "      <td>S00</td>\n",
       "      <td>SDSSr~empty</td>\n",
       "      <td>2022-02-18T09:28:22.143</td>\n",
       "      <td>2022-02-18T09:28:22.143</td>\n",
       "      <td>30.0</td>\n",
       "      <td>LATISS_E6A_00000034</td>\n",
       "      <td>SKYEXP</td>\n",
       "      <td>-666</td>\n",
       "      <td>2022-02-18T09:26:30.563</td>\n",
       "      <td>AT_O_20220217_000768</td>\n",
       "      <td>2022021700768</td>\n",
       "    </tr>\n",
       "    <tr>\n",
       "      <th>12759</th>\n",
       "      <td>12760</td>\n",
       "      <td>2022-02-17</td>\n",
       "      <td>769</td>\n",
       "      <td>2251059905630000</td>\n",
       "      <td>0</td>\n",
       "      <td>S00</td>\n",
       "      <td>SDSSr~empty</td>\n",
       "      <td>2022-02-18T09:28:55.127</td>\n",
       "      <td>2022-02-18T09:28:55.127</td>\n",
       "      <td>30.0</td>\n",
       "      <td>LATISS_E6A_00000034</td>\n",
       "      <td>SKYEXP</td>\n",
       "      <td>-666</td>\n",
       "      <td>2022-02-18T09:26:30.563</td>\n",
       "      <td>AT_O_20220217_000769</td>\n",
       "      <td>2022021700769</td>\n",
       "    </tr>\n",
       "  </tbody>\n",
       "</table>\n",
       "<p>12760 rows × 16 columns</p>\n",
       "</div>"
      ],
      "text/plain": [
       "          id      dayObs  seqNum             visit  detector detectorName  \\\n",
       "8687    8688  2021-02-16       1  1934346219930000         0          S00   \n",
       "8688    8689  2021-02-16       2  1934362834080000         0          S00   \n",
       "8689    8690  2021-02-16       3  1934362963860000         0          S00   \n",
       "8690    8691  2021-02-16       4  1934363094110000         0          S00   \n",
       "8691    8692  2021-02-16       5  1934363223760000         0          S00   \n",
       "...      ...         ...     ...               ...       ...          ...   \n",
       "12755  12756  2022-02-17     765  2251058140450000         0          S00   \n",
       "12756  12757  2022-02-17     766  2251059032260000         0          S00   \n",
       "12757  12758  2022-02-17     767  2251059032260000         0          S00   \n",
       "12758  12759  2022-02-17     768  2251059905630000         0          S00   \n",
       "12759  12760  2022-02-17     769  2251059905630000         0          S00   \n",
       "\n",
       "            filter                  dateObs                     date  expTime  \\\n",
       "8687   empty~empty  2021-02-16T19:50:22.184  2021-02-16T19:50:22.184      0.0   \n",
       "8688   empty~empty  2021-02-16T20:18:03.588  2021-02-16T20:18:03.588      0.0   \n",
       "8689   empty~empty  2021-02-16T20:18:16.563  2021-02-16T20:18:16.563      0.0   \n",
       "8690   empty~empty  2021-02-16T20:18:29.581  2021-02-16T20:18:29.581      0.0   \n",
       "8691   empty~empty  2021-02-16T20:18:42.546  2021-02-16T20:18:42.546      0.0   \n",
       "...            ...                      ...                      ...      ...   \n",
       "12755  SDSSg~empty  2022-02-18T09:25:53.560  2022-02-18T09:25:53.560     30.0   \n",
       "12756  SDSSi~empty  2022-02-18T09:26:52.861  2022-02-18T09:26:52.861     30.0   \n",
       "12757  SDSSi~empty  2022-02-18T09:27:25.852  2022-02-18T09:27:25.852     30.0   \n",
       "12758  SDSSr~empty  2022-02-18T09:28:22.143  2022-02-18T09:28:22.143     30.0   \n",
       "12759  SDSSr~empty  2022-02-18T09:28:55.127  2022-02-18T09:28:55.127     30.0   \n",
       "\n",
       "                    object imageType  wavelength                 expGroup  \\\n",
       "8687           azel_target      BIAS        -666  2021-02-16T19:50:21.993   \n",
       "8688           azel_target      BIAS        -666  2021-02-16T20:18:03.408   \n",
       "8689           azel_target      BIAS        -666  2021-02-16T20:18:16.386   \n",
       "8690           azel_target      BIAS        -666  2021-02-16T20:18:29.411   \n",
       "8691           azel_target      BIAS        -666  2021-02-16T20:18:42.376   \n",
       "...                    ...       ...         ...                      ...   \n",
       "12755  LATISS_E6A_00000034    SKYEXP        -666  2022-02-18T09:23:34.045   \n",
       "12756  LATISS_E6A_00000034    SKYEXP        -666  2022-02-18T09:25:03.226   \n",
       "12757  LATISS_E6A_00000034    SKYEXP        -666  2022-02-18T09:25:03.226   \n",
       "12758  LATISS_E6A_00000034    SKYEXP        -666  2022-02-18T09:26:30.563   \n",
       "12759  LATISS_E6A_00000034    SKYEXP        -666  2022-02-18T09:26:30.563   \n",
       "\n",
       "                      obsid          expId  \n",
       "8687   AT_O_20210216_000001  2021021600001  \n",
       "8688   AT_O_20210216_000002  2021021600002  \n",
       "8689   AT_O_20210216_000003  2021021600003  \n",
       "8690   AT_O_20210216_000004  2021021600004  \n",
       "8691   AT_O_20210216_000005  2021021600005  \n",
       "...                     ...            ...  \n",
       "12755  AT_O_20220217_000765  2022021700765  \n",
       "12756  AT_O_20220217_000766  2022021700766  \n",
       "12757  AT_O_20220217_000767  2022021700767  \n",
       "12758  AT_O_20220217_000768  2022021700768  \n",
       "12759  AT_O_20220217_000769  2022021700769  \n",
       "\n",
       "[12760 rows x 16 columns]"
      ]
     },
     "execution_count": 82,
     "metadata": {},
     "output_type": "execute_result"
    }
   ],
   "source": [
    "results_sorted"
   ]
  },
  {
   "cell_type": "code",
   "execution_count": 83,
   "id": "163923cb-ebc3-41af-9f3a-3a11f23a89a6",
   "metadata": {},
   "outputs": [
    {
     "data": {
      "text/plain": [
       "array(['BIAS', 'FLAT', 'SKYEXP', 'ENGTEST', 'DARK'], dtype=object)"
      ]
     },
     "execution_count": 83,
     "metadata": {},
     "output_type": "execute_result"
    }
   ],
   "source": [
    "list_of_imgtype = results_sorted['imageType'].unique()\n",
    "list_of_imgtype "
   ]
  },
  {
   "cell_type": "code",
   "execution_count": 84,
   "id": "d3e07d83-f941-4feb-a8be-9026c059d0f0",
   "metadata": {},
   "outputs": [
    {
     "data": {
      "text/plain": [
       "array(['empty~empty', 'RG610~empty', 'RG610~holo4_003', 'empty~holo4_003',\n",
       "       'empty~ronchi90lpmm', 'RG610~ronchi90lpmm',\n",
       "       'quadnotch1~ronchi90lpmm', 'BG40~empty', 'BG40~ronchi90lpmm',\n",
       "       'RG610~ronchi170lpmm', 'BG40~holo4_003', 'unknown~unknown',\n",
       "       'FELH0600~holo4_003', 'FELH0600~empty', 'FELH0600~ronchi170lpmm',\n",
       "       'empty~ronchi170lpmm', 'quadnotch1~ronchi170lpmm',\n",
       "       'BG40~ronchi170lpmm', 'quadnotch1~holo4_003',\n",
       "       'FELH0600~ronchi90lpmm', 'SDSSg~empty', 'SDSSg~ronchi170lpmm',\n",
       "       'SDSSg~holo4_003', 'quadnotch1~empty', 'SDSSr~empty',\n",
       "       'SDSSi~empty', 'SDSSr~holo4_003'], dtype=object)"
      ]
     },
     "execution_count": 84,
     "metadata": {},
     "output_type": "execute_result"
    }
   ],
   "source": [
    "list_of_filters = results_sorted['filter'].unique()\n",
    "list_of_filters"
   ]
  },
  {
   "cell_type": "code",
   "execution_count": 85,
   "id": "1aefe4e2-43f5-4b96-b00d-cf8a2c92bef2",
   "metadata": {},
   "outputs": [
    {
     "data": {
      "text/plain": [
       "array(['RG610~holo4_003', 'empty~holo4_003', 'empty~ronchi90lpmm',\n",
       "       'RG610~ronchi90lpmm', 'quadnotch1~ronchi90lpmm',\n",
       "       'BG40~ronchi90lpmm', 'RG610~ronchi170lpmm', 'BG40~holo4_003',\n",
       "       'FELH0600~holo4_003', 'FELH0600~ronchi170lpmm',\n",
       "       'empty~ronchi170lpmm', 'quadnotch1~ronchi170lpmm',\n",
       "       'BG40~ronchi170lpmm', 'quadnotch1~holo4_003',\n",
       "       'FELH0600~ronchi90lpmm', 'SDSSg~ronchi170lpmm', 'SDSSg~holo4_003',\n",
       "       'SDSSr~holo4_003'], dtype='<U24')"
      ]
     },
     "execution_count": 85,
     "metadata": {},
     "output_type": "execute_result"
    }
   ],
   "source": [
    "selected_filters = []\n",
    "for filt in list_of_filters:\n",
    "    flag_sel = (filt.find('holo4') != -1) or (filt.find('ronchi90lpmm') != -1) or (filt.find('ronchi170lpmm') != -1)\n",
    "    if flag_sel:\n",
    "        selected_filters.append(filt) \n",
    "selected_filters = np.array(selected_filters)\n",
    "selected_filters       "
   ]
  },
  {
   "cell_type": "code",
   "execution_count": 86,
   "id": "a8563342-75be-4511-ba7b-9ced7cd1bd91",
   "metadata": {},
   "outputs": [],
   "source": [
    "def isbias(row):\n",
    "    #print(row[\"filter\"])\n",
    "    if str(row[\"imageType\"]) == \"BIAS\":\n",
    "        return True\n",
    "    \n",
    "    else:\n",
    "        return False "
   ]
  },
  {
   "cell_type": "code",
   "execution_count": 87,
   "id": "21b5a280-83e1-4958-a4dc-7d25a595bc72",
   "metadata": {},
   "outputs": [],
   "source": [
    "def isflat(row):\n",
    "    #print(row[\"filter\"])\n",
    "    if str(row[\"imageType\"]) == \"FLAT\":\n",
    "        return True\n",
    "    \n",
    "    else:\n",
    "        return False "
   ]
  },
  {
   "cell_type": "code",
   "execution_count": 88,
   "id": "d58a4ea5-0c79-4475-ac8f-dea9380482b0",
   "metadata": {},
   "outputs": [],
   "source": [
    "def isdisperser(row):\n",
    "    #print(row[\"filter\"])\n",
    "    if str(row[\"filter\"]) in selected_filters:\n",
    "        return True\n",
    "    \n",
    "    else:\n",
    "        return False    "
   ]
  },
  {
   "cell_type": "markdown",
   "id": "4fd9357f-f4df-4bf6-9e8d-4f8017770a20",
   "metadata": {},
   "source": [
    "## Select flats"
   ]
  },
  {
   "cell_type": "code",
   "execution_count": 89,
   "id": "268e5a7c-1733-423b-8bc4-f9be517ee97c",
   "metadata": {},
   "outputs": [],
   "source": [
    "results_sorted[\"selected\"] = results_sorted.apply(isflat,axis=1)"
   ]
  },
  {
   "cell_type": "code",
   "execution_count": 90,
   "id": "d398a6a0-9d53-4ab4-97e0-094079b93965",
   "metadata": {},
   "outputs": [],
   "source": [
    "results_selected = results_sorted[results_sorted[\"selected\"]==1]"
   ]
  },
  {
   "cell_type": "code",
   "execution_count": 91,
   "id": "86e32e7d-923b-4dd5-a02b-313a1f1f1ec4",
   "metadata": {},
   "outputs": [
    {
     "data": {
      "text/plain": [
       "array(['2021-02-16', '2021-02-17', '2021-02-18', '2021-03-11',\n",
       "       '2021-06-08', '2021-06-09', '2021-07-07', '2021-07-08',\n",
       "       '2021-09-07', '2021-09-08', '2021-09-09', '2021-10-05',\n",
       "       '2021-10-06', '2021-10-07', '2021-11-02', '2021-11-04',\n",
       "       '2022-02-15', '2022-02-16', '2022-02-17'], dtype=object)"
      ]
     },
     "execution_count": 91,
     "metadata": {},
     "output_type": "execute_result"
    }
   ],
   "source": [
    "list_of_dates_flats = results_selected['dayObs'].unique() \n",
    "list_of_dates_flats"
   ]
  },
  {
   "cell_type": "code",
   "execution_count": 92,
   "id": "b6bbcd5a-07aa-4be9-a400-fd95841c1125",
   "metadata": {},
   "outputs": [],
   "source": [
    "night_sel='2022-02-16'"
   ]
  },
  {
   "cell_type": "code",
   "execution_count": 93,
   "id": "90f5a5b5-31c1-4787-85ab-a4a90df5cd15",
   "metadata": {},
   "outputs": [],
   "source": [
    "cut = results_selected['dayObs'] == night_sel "
   ]
  },
  {
   "cell_type": "code",
   "execution_count": 94,
   "id": "6be18a0f-cfe1-4ae8-b6a2-fa25d7fa47fa",
   "metadata": {},
   "outputs": [],
   "source": [
    "df = results_selected[cut]"
   ]
  },
  {
   "cell_type": "code",
   "execution_count": 95,
   "id": "84ed644a-1898-4d45-8180-1f0dfd186da7",
   "metadata": {},
   "outputs": [
    {
     "data": {
      "text/html": [
       "<div>\n",
       "<style scoped>\n",
       "    .dataframe tbody tr th:only-of-type {\n",
       "        vertical-align: middle;\n",
       "    }\n",
       "\n",
       "    .dataframe tbody tr th {\n",
       "        vertical-align: top;\n",
       "    }\n",
       "\n",
       "    .dataframe thead th {\n",
       "        text-align: right;\n",
       "    }\n",
       "</style>\n",
       "<table border=\"1\" class=\"dataframe\">\n",
       "  <thead>\n",
       "    <tr style=\"text-align: right;\">\n",
       "      <th></th>\n",
       "      <th>id</th>\n",
       "      <th>dayObs</th>\n",
       "      <th>seqNum</th>\n",
       "      <th>visit</th>\n",
       "      <th>detector</th>\n",
       "      <th>detectorName</th>\n",
       "      <th>filter</th>\n",
       "      <th>dateObs</th>\n",
       "      <th>date</th>\n",
       "      <th>expTime</th>\n",
       "      <th>object</th>\n",
       "      <th>imageType</th>\n",
       "      <th>wavelength</th>\n",
       "      <th>expGroup</th>\n",
       "      <th>obsid</th>\n",
       "      <th>expId</th>\n",
       "      <th>selected</th>\n",
       "    </tr>\n",
       "  </thead>\n",
       "  <tbody>\n",
       "    <tr>\n",
       "      <th>11262</th>\n",
       "      <td>11263</td>\n",
       "      <td>2022-02-16</td>\n",
       "      <td>45</td>\n",
       "      <td>2249737236410000</td>\n",
       "      <td>0</td>\n",
       "      <td>S00</td>\n",
       "      <td>SDSSr~empty</td>\n",
       "      <td>2022-02-16T20:42:03.809</td>\n",
       "      <td>2022-02-16T20:42:03.809</td>\n",
       "      <td>1.0</td>\n",
       "      <td>FlatField position</td>\n",
       "      <td>FLAT</td>\n",
       "      <td>-666</td>\n",
       "      <td>2022-02-16T20:42:03.641</td>\n",
       "      <td>AT_O_20220216_000045</td>\n",
       "      <td>2022021600045</td>\n",
       "      <td>True</td>\n",
       "    </tr>\n",
       "    <tr>\n",
       "      <th>11263</th>\n",
       "      <td>11264</td>\n",
       "      <td>2022-02-16</td>\n",
       "      <td>46</td>\n",
       "      <td>2249737274190000</td>\n",
       "      <td>0</td>\n",
       "      <td>S00</td>\n",
       "      <td>SDSSr~empty</td>\n",
       "      <td>2022-02-16T20:42:07.429</td>\n",
       "      <td>2022-02-16T20:42:07.429</td>\n",
       "      <td>1.0</td>\n",
       "      <td>FlatField position</td>\n",
       "      <td>FLAT</td>\n",
       "      <td>-666</td>\n",
       "      <td>2022-02-16T20:42:07.419</td>\n",
       "      <td>AT_O_20220216_000046</td>\n",
       "      <td>2022021600046</td>\n",
       "      <td>True</td>\n",
       "    </tr>\n",
       "    <tr>\n",
       "      <th>11264</th>\n",
       "      <td>11265</td>\n",
       "      <td>2022-02-16</td>\n",
       "      <td>47</td>\n",
       "      <td>2249737310310000</td>\n",
       "      <td>0</td>\n",
       "      <td>S00</td>\n",
       "      <td>SDSSr~empty</td>\n",
       "      <td>2022-02-16T20:42:11.039</td>\n",
       "      <td>2022-02-16T20:42:11.039</td>\n",
       "      <td>1.0</td>\n",
       "      <td>FlatField position</td>\n",
       "      <td>FLAT</td>\n",
       "      <td>-666</td>\n",
       "      <td>2022-02-16T20:42:11.031</td>\n",
       "      <td>AT_O_20220216_000047</td>\n",
       "      <td>2022021600047</td>\n",
       "      <td>True</td>\n",
       "    </tr>\n",
       "    <tr>\n",
       "      <th>11265</th>\n",
       "      <td>11266</td>\n",
       "      <td>2022-02-16</td>\n",
       "      <td>48</td>\n",
       "      <td>2249737346420000</td>\n",
       "      <td>0</td>\n",
       "      <td>S00</td>\n",
       "      <td>SDSSr~empty</td>\n",
       "      <td>2022-02-16T20:42:14.650</td>\n",
       "      <td>2022-02-16T20:42:14.650</td>\n",
       "      <td>1.0</td>\n",
       "      <td>FlatField position</td>\n",
       "      <td>FLAT</td>\n",
       "      <td>-666</td>\n",
       "      <td>2022-02-16T20:42:14.642</td>\n",
       "      <td>AT_O_20220216_000048</td>\n",
       "      <td>2022021600048</td>\n",
       "      <td>True</td>\n",
       "    </tr>\n",
       "    <tr>\n",
       "      <th>11266</th>\n",
       "      <td>11267</td>\n",
       "      <td>2022-02-16</td>\n",
       "      <td>49</td>\n",
       "      <td>2249737382620000</td>\n",
       "      <td>0</td>\n",
       "      <td>S00</td>\n",
       "      <td>SDSSr~empty</td>\n",
       "      <td>2022-02-16T20:42:18.276</td>\n",
       "      <td>2022-02-16T20:42:18.276</td>\n",
       "      <td>1.0</td>\n",
       "      <td>FlatField position</td>\n",
       "      <td>FLAT</td>\n",
       "      <td>-666</td>\n",
       "      <td>2022-02-16T20:42:18.262</td>\n",
       "      <td>AT_O_20220216_000049</td>\n",
       "      <td>2022021600049</td>\n",
       "      <td>True</td>\n",
       "    </tr>\n",
       "    <tr>\n",
       "      <th>11267</th>\n",
       "      <td>11268</td>\n",
       "      <td>2022-02-16</td>\n",
       "      <td>50</td>\n",
       "      <td>2249737418840000</td>\n",
       "      <td>0</td>\n",
       "      <td>S00</td>\n",
       "      <td>SDSSr~empty</td>\n",
       "      <td>2022-02-16T20:42:21.900</td>\n",
       "      <td>2022-02-16T20:42:21.900</td>\n",
       "      <td>1.0</td>\n",
       "      <td>FlatField position</td>\n",
       "      <td>FLAT</td>\n",
       "      <td>-666</td>\n",
       "      <td>2022-02-16T20:42:21.884</td>\n",
       "      <td>AT_O_20220216_000050</td>\n",
       "      <td>2022021600050</td>\n",
       "      <td>True</td>\n",
       "    </tr>\n",
       "    <tr>\n",
       "      <th>11268</th>\n",
       "      <td>11269</td>\n",
       "      <td>2022-02-16</td>\n",
       "      <td>51</td>\n",
       "      <td>2249737455090000</td>\n",
       "      <td>0</td>\n",
       "      <td>S00</td>\n",
       "      <td>SDSSr~empty</td>\n",
       "      <td>2022-02-16T20:42:25.523</td>\n",
       "      <td>2022-02-16T20:42:25.523</td>\n",
       "      <td>1.0</td>\n",
       "      <td>FlatField position</td>\n",
       "      <td>FLAT</td>\n",
       "      <td>-666</td>\n",
       "      <td>2022-02-16T20:42:25.509</td>\n",
       "      <td>AT_O_20220216_000051</td>\n",
       "      <td>2022021600051</td>\n",
       "      <td>True</td>\n",
       "    </tr>\n",
       "    <tr>\n",
       "      <th>11269</th>\n",
       "      <td>11270</td>\n",
       "      <td>2022-02-16</td>\n",
       "      <td>52</td>\n",
       "      <td>2249737491240000</td>\n",
       "      <td>0</td>\n",
       "      <td>S00</td>\n",
       "      <td>SDSSr~empty</td>\n",
       "      <td>2022-02-16T20:42:29.137</td>\n",
       "      <td>2022-02-16T20:42:29.137</td>\n",
       "      <td>1.0</td>\n",
       "      <td>FlatField position</td>\n",
       "      <td>FLAT</td>\n",
       "      <td>-666</td>\n",
       "      <td>2022-02-16T20:42:29.124</td>\n",
       "      <td>AT_O_20220216_000052</td>\n",
       "      <td>2022021600052</td>\n",
       "      <td>True</td>\n",
       "    </tr>\n",
       "    <tr>\n",
       "      <th>11270</th>\n",
       "      <td>11271</td>\n",
       "      <td>2022-02-16</td>\n",
       "      <td>53</td>\n",
       "      <td>2249737527550000</td>\n",
       "      <td>0</td>\n",
       "      <td>S00</td>\n",
       "      <td>SDSSr~empty</td>\n",
       "      <td>2022-02-16T20:42:32.762</td>\n",
       "      <td>2022-02-16T20:42:32.762</td>\n",
       "      <td>1.0</td>\n",
       "      <td>FlatField position</td>\n",
       "      <td>FLAT</td>\n",
       "      <td>-666</td>\n",
       "      <td>2022-02-16T20:42:32.755</td>\n",
       "      <td>AT_O_20220216_000053</td>\n",
       "      <td>2022021600053</td>\n",
       "      <td>True</td>\n",
       "    </tr>\n",
       "    <tr>\n",
       "      <th>11271</th>\n",
       "      <td>11272</td>\n",
       "      <td>2022-02-16</td>\n",
       "      <td>54</td>\n",
       "      <td>2249737563730000</td>\n",
       "      <td>0</td>\n",
       "      <td>S00</td>\n",
       "      <td>SDSSr~empty</td>\n",
       "      <td>2022-02-16T20:42:36.385</td>\n",
       "      <td>2022-02-16T20:42:36.385</td>\n",
       "      <td>1.0</td>\n",
       "      <td>FlatField position</td>\n",
       "      <td>FLAT</td>\n",
       "      <td>-666</td>\n",
       "      <td>2022-02-16T20:42:36.373</td>\n",
       "      <td>AT_O_20220216_000054</td>\n",
       "      <td>2022021600054</td>\n",
       "      <td>True</td>\n",
       "    </tr>\n",
       "    <tr>\n",
       "      <th>11272</th>\n",
       "      <td>11273</td>\n",
       "      <td>2022-02-16</td>\n",
       "      <td>55</td>\n",
       "      <td>2249737600060000</td>\n",
       "      <td>0</td>\n",
       "      <td>S00</td>\n",
       "      <td>SDSSr~empty</td>\n",
       "      <td>2022-02-16T20:42:40.017</td>\n",
       "      <td>2022-02-16T20:42:40.017</td>\n",
       "      <td>1.0</td>\n",
       "      <td>FlatField position</td>\n",
       "      <td>FLAT</td>\n",
       "      <td>-666</td>\n",
       "      <td>2022-02-16T20:42:40.006</td>\n",
       "      <td>AT_O_20220216_000055</td>\n",
       "      <td>2022021600055</td>\n",
       "      <td>True</td>\n",
       "    </tr>\n",
       "    <tr>\n",
       "      <th>11273</th>\n",
       "      <td>11274</td>\n",
       "      <td>2022-02-16</td>\n",
       "      <td>56</td>\n",
       "      <td>2249737636180000</td>\n",
       "      <td>0</td>\n",
       "      <td>S00</td>\n",
       "      <td>SDSSr~empty</td>\n",
       "      <td>2022-02-16T20:42:43.626</td>\n",
       "      <td>2022-02-16T20:42:43.626</td>\n",
       "      <td>1.0</td>\n",
       "      <td>FlatField position</td>\n",
       "      <td>FLAT</td>\n",
       "      <td>-666</td>\n",
       "      <td>2022-02-16T20:42:43.618</td>\n",
       "      <td>AT_O_20220216_000056</td>\n",
       "      <td>2022021600056</td>\n",
       "      <td>True</td>\n",
       "    </tr>\n",
       "    <tr>\n",
       "      <th>11274</th>\n",
       "      <td>11275</td>\n",
       "      <td>2022-02-16</td>\n",
       "      <td>57</td>\n",
       "      <td>2249737672400000</td>\n",
       "      <td>0</td>\n",
       "      <td>S00</td>\n",
       "      <td>SDSSr~empty</td>\n",
       "      <td>2022-02-16T20:42:47.254</td>\n",
       "      <td>2022-02-16T20:42:47.254</td>\n",
       "      <td>1.0</td>\n",
       "      <td>FlatField position</td>\n",
       "      <td>FLAT</td>\n",
       "      <td>-666</td>\n",
       "      <td>2022-02-16T20:42:47.240</td>\n",
       "      <td>AT_O_20220216_000057</td>\n",
       "      <td>2022021600057</td>\n",
       "      <td>True</td>\n",
       "    </tr>\n",
       "    <tr>\n",
       "      <th>11275</th>\n",
       "      <td>11276</td>\n",
       "      <td>2022-02-16</td>\n",
       "      <td>58</td>\n",
       "      <td>2249737708570000</td>\n",
       "      <td>0</td>\n",
       "      <td>S00</td>\n",
       "      <td>SDSSr~empty</td>\n",
       "      <td>2022-02-16T20:42:50.872</td>\n",
       "      <td>2022-02-16T20:42:50.872</td>\n",
       "      <td>1.0</td>\n",
       "      <td>FlatField position</td>\n",
       "      <td>FLAT</td>\n",
       "      <td>-666</td>\n",
       "      <td>2022-02-16T20:42:50.857</td>\n",
       "      <td>AT_O_20220216_000058</td>\n",
       "      <td>2022021600058</td>\n",
       "      <td>True</td>\n",
       "    </tr>\n",
       "    <tr>\n",
       "      <th>11276</th>\n",
       "      <td>11277</td>\n",
       "      <td>2022-02-16</td>\n",
       "      <td>59</td>\n",
       "      <td>2249737744720000</td>\n",
       "      <td>0</td>\n",
       "      <td>S00</td>\n",
       "      <td>SDSSr~empty</td>\n",
       "      <td>2022-02-16T20:42:54.486</td>\n",
       "      <td>2022-02-16T20:42:54.486</td>\n",
       "      <td>1.0</td>\n",
       "      <td>FlatField position</td>\n",
       "      <td>FLAT</td>\n",
       "      <td>-666</td>\n",
       "      <td>2022-02-16T20:42:54.472</td>\n",
       "      <td>AT_O_20220216_000059</td>\n",
       "      <td>2022021600059</td>\n",
       "      <td>True</td>\n",
       "    </tr>\n",
       "    <tr>\n",
       "      <th>11277</th>\n",
       "      <td>11278</td>\n",
       "      <td>2022-02-16</td>\n",
       "      <td>60</td>\n",
       "      <td>2249737780920000</td>\n",
       "      <td>0</td>\n",
       "      <td>S00</td>\n",
       "      <td>SDSSr~empty</td>\n",
       "      <td>2022-02-16T20:42:58.101</td>\n",
       "      <td>2022-02-16T20:42:58.101</td>\n",
       "      <td>1.0</td>\n",
       "      <td>FlatField position</td>\n",
       "      <td>FLAT</td>\n",
       "      <td>-666</td>\n",
       "      <td>2022-02-16T20:42:58.092</td>\n",
       "      <td>AT_O_20220216_000060</td>\n",
       "      <td>2022021600060</td>\n",
       "      <td>True</td>\n",
       "    </tr>\n",
       "    <tr>\n",
       "      <th>11278</th>\n",
       "      <td>11279</td>\n",
       "      <td>2022-02-16</td>\n",
       "      <td>61</td>\n",
       "      <td>2249737817010000</td>\n",
       "      <td>0</td>\n",
       "      <td>S00</td>\n",
       "      <td>SDSSr~empty</td>\n",
       "      <td>2022-02-16T20:43:01.707</td>\n",
       "      <td>2022-02-16T20:43:01.707</td>\n",
       "      <td>1.0</td>\n",
       "      <td>FlatField position</td>\n",
       "      <td>FLAT</td>\n",
       "      <td>-666</td>\n",
       "      <td>2022-02-16T20:43:01.701</td>\n",
       "      <td>AT_O_20220216_000061</td>\n",
       "      <td>2022021600061</td>\n",
       "      <td>True</td>\n",
       "    </tr>\n",
       "    <tr>\n",
       "      <th>11279</th>\n",
       "      <td>11280</td>\n",
       "      <td>2022-02-16</td>\n",
       "      <td>62</td>\n",
       "      <td>2249737853070000</td>\n",
       "      <td>0</td>\n",
       "      <td>S00</td>\n",
       "      <td>SDSSr~empty</td>\n",
       "      <td>2022-02-16T20:43:05.321</td>\n",
       "      <td>2022-02-16T20:43:05.321</td>\n",
       "      <td>1.0</td>\n",
       "      <td>FlatField position</td>\n",
       "      <td>FLAT</td>\n",
       "      <td>-666</td>\n",
       "      <td>2022-02-16T20:43:05.307</td>\n",
       "      <td>AT_O_20220216_000062</td>\n",
       "      <td>2022021600062</td>\n",
       "      <td>True</td>\n",
       "    </tr>\n",
       "    <tr>\n",
       "      <th>11280</th>\n",
       "      <td>11281</td>\n",
       "      <td>2022-02-16</td>\n",
       "      <td>63</td>\n",
       "      <td>2249737889270000</td>\n",
       "      <td>0</td>\n",
       "      <td>S00</td>\n",
       "      <td>SDSSr~empty</td>\n",
       "      <td>2022-02-16T20:43:08.939</td>\n",
       "      <td>2022-02-16T20:43:08.939</td>\n",
       "      <td>1.0</td>\n",
       "      <td>FlatField position</td>\n",
       "      <td>FLAT</td>\n",
       "      <td>-666</td>\n",
       "      <td>2022-02-16T20:43:08.927</td>\n",
       "      <td>AT_O_20220216_000063</td>\n",
       "      <td>2022021600063</td>\n",
       "      <td>True</td>\n",
       "    </tr>\n",
       "    <tr>\n",
       "      <th>11281</th>\n",
       "      <td>11282</td>\n",
       "      <td>2022-02-16</td>\n",
       "      <td>64</td>\n",
       "      <td>2249737925400000</td>\n",
       "      <td>0</td>\n",
       "      <td>S00</td>\n",
       "      <td>SDSSr~empty</td>\n",
       "      <td>2022-02-16T20:43:12.553</td>\n",
       "      <td>2022-02-16T20:43:12.553</td>\n",
       "      <td>1.0</td>\n",
       "      <td>FlatField position</td>\n",
       "      <td>FLAT</td>\n",
       "      <td>-666</td>\n",
       "      <td>2022-02-16T20:43:12.540</td>\n",
       "      <td>AT_O_20220216_000064</td>\n",
       "      <td>2022021600064</td>\n",
       "      <td>True</td>\n",
       "    </tr>\n",
       "  </tbody>\n",
       "</table>\n",
       "</div>"
      ],
      "text/plain": [
       "          id      dayObs  seqNum             visit  detector detectorName  \\\n",
       "11262  11263  2022-02-16      45  2249737236410000         0          S00   \n",
       "11263  11264  2022-02-16      46  2249737274190000         0          S00   \n",
       "11264  11265  2022-02-16      47  2249737310310000         0          S00   \n",
       "11265  11266  2022-02-16      48  2249737346420000         0          S00   \n",
       "11266  11267  2022-02-16      49  2249737382620000         0          S00   \n",
       "11267  11268  2022-02-16      50  2249737418840000         0          S00   \n",
       "11268  11269  2022-02-16      51  2249737455090000         0          S00   \n",
       "11269  11270  2022-02-16      52  2249737491240000         0          S00   \n",
       "11270  11271  2022-02-16      53  2249737527550000         0          S00   \n",
       "11271  11272  2022-02-16      54  2249737563730000         0          S00   \n",
       "11272  11273  2022-02-16      55  2249737600060000         0          S00   \n",
       "11273  11274  2022-02-16      56  2249737636180000         0          S00   \n",
       "11274  11275  2022-02-16      57  2249737672400000         0          S00   \n",
       "11275  11276  2022-02-16      58  2249737708570000         0          S00   \n",
       "11276  11277  2022-02-16      59  2249737744720000         0          S00   \n",
       "11277  11278  2022-02-16      60  2249737780920000         0          S00   \n",
       "11278  11279  2022-02-16      61  2249737817010000         0          S00   \n",
       "11279  11280  2022-02-16      62  2249737853070000         0          S00   \n",
       "11280  11281  2022-02-16      63  2249737889270000         0          S00   \n",
       "11281  11282  2022-02-16      64  2249737925400000         0          S00   \n",
       "\n",
       "            filter                  dateObs                     date  expTime  \\\n",
       "11262  SDSSr~empty  2022-02-16T20:42:03.809  2022-02-16T20:42:03.809      1.0   \n",
       "11263  SDSSr~empty  2022-02-16T20:42:07.429  2022-02-16T20:42:07.429      1.0   \n",
       "11264  SDSSr~empty  2022-02-16T20:42:11.039  2022-02-16T20:42:11.039      1.0   \n",
       "11265  SDSSr~empty  2022-02-16T20:42:14.650  2022-02-16T20:42:14.650      1.0   \n",
       "11266  SDSSr~empty  2022-02-16T20:42:18.276  2022-02-16T20:42:18.276      1.0   \n",
       "11267  SDSSr~empty  2022-02-16T20:42:21.900  2022-02-16T20:42:21.900      1.0   \n",
       "11268  SDSSr~empty  2022-02-16T20:42:25.523  2022-02-16T20:42:25.523      1.0   \n",
       "11269  SDSSr~empty  2022-02-16T20:42:29.137  2022-02-16T20:42:29.137      1.0   \n",
       "11270  SDSSr~empty  2022-02-16T20:42:32.762  2022-02-16T20:42:32.762      1.0   \n",
       "11271  SDSSr~empty  2022-02-16T20:42:36.385  2022-02-16T20:42:36.385      1.0   \n",
       "11272  SDSSr~empty  2022-02-16T20:42:40.017  2022-02-16T20:42:40.017      1.0   \n",
       "11273  SDSSr~empty  2022-02-16T20:42:43.626  2022-02-16T20:42:43.626      1.0   \n",
       "11274  SDSSr~empty  2022-02-16T20:42:47.254  2022-02-16T20:42:47.254      1.0   \n",
       "11275  SDSSr~empty  2022-02-16T20:42:50.872  2022-02-16T20:42:50.872      1.0   \n",
       "11276  SDSSr~empty  2022-02-16T20:42:54.486  2022-02-16T20:42:54.486      1.0   \n",
       "11277  SDSSr~empty  2022-02-16T20:42:58.101  2022-02-16T20:42:58.101      1.0   \n",
       "11278  SDSSr~empty  2022-02-16T20:43:01.707  2022-02-16T20:43:01.707      1.0   \n",
       "11279  SDSSr~empty  2022-02-16T20:43:05.321  2022-02-16T20:43:05.321      1.0   \n",
       "11280  SDSSr~empty  2022-02-16T20:43:08.939  2022-02-16T20:43:08.939      1.0   \n",
       "11281  SDSSr~empty  2022-02-16T20:43:12.553  2022-02-16T20:43:12.553      1.0   \n",
       "\n",
       "                   object imageType  wavelength                 expGroup  \\\n",
       "11262  FlatField position      FLAT        -666  2022-02-16T20:42:03.641   \n",
       "11263  FlatField position      FLAT        -666  2022-02-16T20:42:07.419   \n",
       "11264  FlatField position      FLAT        -666  2022-02-16T20:42:11.031   \n",
       "11265  FlatField position      FLAT        -666  2022-02-16T20:42:14.642   \n",
       "11266  FlatField position      FLAT        -666  2022-02-16T20:42:18.262   \n",
       "11267  FlatField position      FLAT        -666  2022-02-16T20:42:21.884   \n",
       "11268  FlatField position      FLAT        -666  2022-02-16T20:42:25.509   \n",
       "11269  FlatField position      FLAT        -666  2022-02-16T20:42:29.124   \n",
       "11270  FlatField position      FLAT        -666  2022-02-16T20:42:32.755   \n",
       "11271  FlatField position      FLAT        -666  2022-02-16T20:42:36.373   \n",
       "11272  FlatField position      FLAT        -666  2022-02-16T20:42:40.006   \n",
       "11273  FlatField position      FLAT        -666  2022-02-16T20:42:43.618   \n",
       "11274  FlatField position      FLAT        -666  2022-02-16T20:42:47.240   \n",
       "11275  FlatField position      FLAT        -666  2022-02-16T20:42:50.857   \n",
       "11276  FlatField position      FLAT        -666  2022-02-16T20:42:54.472   \n",
       "11277  FlatField position      FLAT        -666  2022-02-16T20:42:58.092   \n",
       "11278  FlatField position      FLAT        -666  2022-02-16T20:43:01.701   \n",
       "11279  FlatField position      FLAT        -666  2022-02-16T20:43:05.307   \n",
       "11280  FlatField position      FLAT        -666  2022-02-16T20:43:08.927   \n",
       "11281  FlatField position      FLAT        -666  2022-02-16T20:43:12.540   \n",
       "\n",
       "                      obsid          expId  selected  \n",
       "11262  AT_O_20220216_000045  2022021600045      True  \n",
       "11263  AT_O_20220216_000046  2022021600046      True  \n",
       "11264  AT_O_20220216_000047  2022021600047      True  \n",
       "11265  AT_O_20220216_000048  2022021600048      True  \n",
       "11266  AT_O_20220216_000049  2022021600049      True  \n",
       "11267  AT_O_20220216_000050  2022021600050      True  \n",
       "11268  AT_O_20220216_000051  2022021600051      True  \n",
       "11269  AT_O_20220216_000052  2022021600052      True  \n",
       "11270  AT_O_20220216_000053  2022021600053      True  \n",
       "11271  AT_O_20220216_000054  2022021600054      True  \n",
       "11272  AT_O_20220216_000055  2022021600055      True  \n",
       "11273  AT_O_20220216_000056  2022021600056      True  \n",
       "11274  AT_O_20220216_000057  2022021600057      True  \n",
       "11275  AT_O_20220216_000058  2022021600058      True  \n",
       "11276  AT_O_20220216_000059  2022021600059      True  \n",
       "11277  AT_O_20220216_000060  2022021600060      True  \n",
       "11278  AT_O_20220216_000061  2022021600061      True  \n",
       "11279  AT_O_20220216_000062  2022021600062      True  \n",
       "11280  AT_O_20220216_000063  2022021600063      True  \n",
       "11281  AT_O_20220216_000064  2022021600064      True  "
      ]
     },
     "execution_count": 95,
     "metadata": {},
     "output_type": "execute_result"
    }
   ],
   "source": [
    "df"
   ]
  },
  {
   "cell_type": "markdown",
   "id": "cb24fb24",
   "metadata": {},
   "source": [
    "# Butler"
   ]
  },
  {
   "cell_type": "markdown",
   "id": "71115739",
   "metadata": {},
   "source": [
    "## Configuration for Butler"
   ]
  },
  {
   "cell_type": "code",
   "execution_count": 96,
   "id": "14e64262",
   "metadata": {},
   "outputs": [
    {
     "name": "stdout",
     "output_type": "stream",
     "text": [
      "CameraMapper INFO: Loading exposure registry from /sps/lsst/groups/auxtel/softs/shared/auxteldm/registry.sqlite3\n",
      "CameraMapper INFO: Loading calib registry from /sps/lsst/groups/auxtel/softs/shared/auxteldm/CALIB/calibRegistry.sqlite3\n"
     ]
    }
   ],
   "source": [
    "#butler=dafPersist.Butler(\"/project/shared/auxTel\")\n",
    "butler=dafPersist.Butler(repoDir)"
   ]
  },
  {
   "cell_type": "markdown",
   "id": "67e1f472",
   "metadata": {},
   "source": [
    "## Sequence selection"
   ]
  },
  {
   "cell_type": "code",
   "execution_count": 131,
   "id": "aafdfefd",
   "metadata": {},
   "outputs": [],
   "source": [
    "# Flats\n",
    "all_myseq_flats=range(45,65)\n",
    "\n",
    "# wide scan\n",
    "# -----------\n",
    "#all_myseq_holo=range(234,310)\n",
    "# narrow scan\n",
    "#-----------\n",
    "all_myseq_holo=range(317,365)\n",
    "\n",
    "if FLAG_FLAT_SELECTION:\n",
    "    all_myseq=all_myseq_flats\n",
    "else:\n",
    "    all_myseq=all_myseq_holo"
   ]
  },
  {
   "cell_type": "code",
   "execution_count": 132,
   "id": "f9ed9560",
   "metadata": {},
   "outputs": [],
   "source": [
    "seqNum=all_myseq[-1]"
   ]
  },
  {
   "cell_type": "code",
   "execution_count": 133,
   "id": "70cb4e91",
   "metadata": {},
   "outputs": [
    {
     "data": {
      "text/plain": [
       "64"
      ]
     },
     "execution_count": 133,
     "metadata": {},
     "output_type": "execute_result"
    }
   ],
   "source": [
    "seqNum"
   ]
  },
  {
   "cell_type": "markdown",
   "id": "2c495951",
   "metadata": {},
   "source": [
    "## Display"
   ]
  },
  {
   "cell_type": "code",
   "execution_count": 134,
   "id": "df37f8a5",
   "metadata": {},
   "outputs": [],
   "source": [
    "#display1=afwDisplay.getDisplay(frame=1,port=80,name='sylviedc_debug_2021_07_07',url=os.environ[\"FIREFLY_URL\"])"
   ]
  },
  {
   "cell_type": "code",
   "execution_count": 135,
   "id": "aa2d8955-b955-48f8-be9c-1514f7083430",
   "metadata": {},
   "outputs": [
    {
     "name": "stdout",
     "output_type": "stream",
     "text": [
      "[1, 2, 3, 4, 5, 6, 7, 8, 9, 10, 11, 12, 13, 14, 15, 16, 17, 18, 19, 20, 21, 22, 23, 24, 25, 26, 27, 28, 29, 30, 31, 32, 33, 34, 35, 36, 37, 38, 39, 40, 41, 42, 43, 44, 45, 46, 47, 48, 49, 50, 51, 52, 53, 54, 55, 56, 57, 58, 59, 60, 61, 62, 63, 64, 65, 66, 67, 68, 69, 70, 71, 72, 73, 74, 75, 76, 77, 78, 79, 80, 81, 82, 83, 84, 85, 86, 87, 88, 89, 90, 91, 92, 93, 94, 95, 96, 97, 98, 99, 100, 101, 102, 103, 104, 105, 106, 107, 108, 109, 110, 111, 112, 113, 114, 115, 116, 117, 118, 119, 120, 121, 122, 123, 124, 125, 126, 127, 128, 129, 130, 131, 132, 133, 134, 135, 136, 137, 138, 139, 140, 141, 142, 143, 144, 145, 146, 147, 148, 149, 150, 151, 152, 153, 154, 155, 156, 157, 158, 159, 160, 161, 162, 163, 164, 165, 166, 167, 168, 169, 170, 171, 172, 173, 174, 175, 176, 177, 178, 179, 180, 181, 182, 183, 184, 185, 186, 187, 188, 189, 190, 191, 192, 193, 194, 195, 196, 197, 198, 199, 200, 201, 202, 203, 204, 205, 206, 207, 208, 209, 210, 211, 212, 213, 214, 215, 216, 217, 218, 219, 220, 221, 222, 223, 224, 225, 226, 227, 228, 229, 230, 231, 232, 233, 234, 235, 236, 237, 238, 239, 240, 241, 242, 243, 244, 245, 246, 247, 248, 249, 250, 251, 252, 253, 254, 255, 256, 257, 258, 259, 260, 261, 262, 263, 264, 265, 266, 267, 268, 269, 270, 271, 272, 273, 274, 275, 276, 277, 278, 279, 280, 281, 282, 283, 284, 285, 286, 287, 288, 289, 290, 291, 292, 293, 294, 295, 296, 297, 298, 299, 300, 301, 302, 303, 304, 305, 306, 307, 308, 309, 310, 311, 312, 313, 314, 315, 316, 317, 318, 319, 320, 321, 322, 323, 324, 325, 326, 327, 328, 329, 330, 331, 332, 333, 334, 335, 336, 337, 338, 339, 340, 341, 342]\n"
     ]
    }
   ],
   "source": [
    "print(butler.queryMetadata('raw','seqNum',dayObs=dayObs))"
   ]
  },
  {
   "cell_type": "code",
   "execution_count": 136,
   "id": "059a6a2c",
   "metadata": {},
   "outputs": [
    {
     "name": "stderr",
     "output_type": "stream",
     "text": [
      "(minimum=(0, 0), maximum=(543, 2047)): (minimum=(0, 0), maximum=(575, 2047))\n",
      "argDict[boresightAirmass] is None; stripping\n"
     ]
    },
    {
     "name": "stdout",
     "output_type": "stream",
     "text": [
      "CameraMapper WARN: Cannot create SkyWcs using VisitInfo and Detector, using metadata-based SkyWcs: Cannot create SkyWcs from camera geometry: rotator angle defined using RotType=RotType.UNKNOWN instead of SKY.\n"
     ]
    }
   ],
   "source": [
    "raw=butler.get('raw',dayObs=dayObs,seqNum=seqNum)\n",
    "md=butler.get(\"raw_md\",dayObs=dayObs,seqNum=seqNum)"
   ]
  },
  {
   "cell_type": "markdown",
   "id": "87fe1c04-efda-42a6-9b5c-b2693bc295ad",
   "metadata": {},
   "source": [
    "## meta data"
   ]
  },
  {
   "cell_type": "code",
   "execution_count": 137,
   "id": "4a57a8c5-326e-44f7-befe-a96cb8804f82",
   "metadata": {},
   "outputs": [
    {
     "data": {
      "text/plain": [
       "{'SIMPLE': True,\n",
       " 'EXTEND': True,\n",
       " 'COMMENT': [\"  FITS (Flexible Image Transport System) format is defined in 'Astronomy\",\n",
       "  \"  and Astrophysics', volume 376, page 359; bibcode: 2001A&A...376..359H\",\n",
       "  \"= '        '\",\n",
       "  '---- Date, night and basic image information ----',\n",
       "  \"= '        '\",\n",
       "  '---- Telescope info, location, observer ----',\n",
       "  \"= '        '\",\n",
       "  '---- Pointing info, etc. ----',\n",
       "  \"= '        '\",\n",
       "  '---- TAN Projection ----',\n",
       "  \"= '        '\",\n",
       "  '---- Image-identifying used to build OBS-ID ----',\n",
       "  \"= '        '\",\n",
       "  '---- Test Stand information ----',\n",
       "  \"= '        '\",\n",
       "  '---- Information from Camera (Common block) ----',\n",
       "  \"= '        '\",\n",
       "  '---- Information from Camera ----',\n",
       "  \"= '        '\",\n",
       "  '---- Filter/grating information ----',\n",
       "  \"= '        '\",\n",
       "  '---- Exposure-related information ----',\n",
       "  \"= '        '\",\n",
       "  '---- Weather information ----',\n",
       "  \"= '        '\",\n",
       "  '---- Header information ----',\n",
       "  \"= '        '\",\n",
       "  '---- Checksums ----',\n",
       "  '---- Information from Camera per sensor ----',\n",
       "  \"= '        '\",\n",
       "  '---- Geometry from Camera ----'],\n",
       " 'ORIGIN': 'LSST DM Header Service',\n",
       " 'TIMESYS': 'TAI',\n",
       " 'DATE': '2021-02-16T20:37:05.225',\n",
       " 'DATE-OBS': '2021-02-16T20:37:39.589',\n",
       " 'DATE-BEG': '2021-02-16T20:37:39.589',\n",
       " 'DATE-END': '2021-02-16T20:37:39.594',\n",
       " 'MJD': 59261.859088251,\n",
       " 'MJD-OBS': 59261.8594859807,\n",
       " 'MJD-BEG': 59261.8594859807,\n",
       " 'MJD-END': 59261.859486038,\n",
       " 'OBSID': 'AT_O_20210216_000064',\n",
       " 'GROUPID': '2021-02-16T20:37:39.414',\n",
       " 'IMGTYPE': 'BIAS',\n",
       " 'BUNIT': 'adu',\n",
       " 'FACILITY': 'Vera C. Rubin Observatory',\n",
       " 'TELESCOP': 'LSST AuxTelescope',\n",
       " 'INSTRUME': 'LATISS',\n",
       " 'OBSERVER': 'LSST',\n",
       " 'OBS-LONG': -70.749417,\n",
       " 'OBS-LAT': -30.244639,\n",
       " 'OBS-ELEV': 2663.0,\n",
       " 'OBSGEO-X': 1818938.94,\n",
       " 'OBSGEO-Y': -5208470.95,\n",
       " 'OBSGEO-Z': -3195172.08,\n",
       " 'RA': 0.0,\n",
       " 'DEC': 0.0,\n",
       " 'RASTART': 25.1155096193709,\n",
       " 'DECSTART': -40.4109022045335,\n",
       " 'RAEND': 25.1238681610446,\n",
       " 'DECEND': -40.4108984816176,\n",
       " 'ROTPA': 72.0,\n",
       " 'ROTCOORD': 'sky',\n",
       " 'HASTART': 0.0,\n",
       " 'ELSTART': 80.0000152571884,\n",
       " 'AZSTART': 179.999903370088,\n",
       " 'AMSTART': 0.0,\n",
       " 'HAEND': 0.0,\n",
       " 'ELEND': 80.0000116809097,\n",
       " 'AZEND': 179.999947626551,\n",
       " 'AMEND': 0.0,\n",
       " 'INSTPORT': 2,\n",
       " 'ATM3PORT': None,\n",
       " 'TRACKSYS': 'LOCAL',\n",
       " 'RADESYS': 'ICRS',\n",
       " 'FOCUSZ': 0.0,\n",
       " 'OBJECT': 'azel_target',\n",
       " 'DOMEAZ': 3.0,\n",
       " 'SHUTLOWR': 0.0,\n",
       " 'SHUTUPPR': 0.0,\n",
       " 'WCSAXES': 2,\n",
       " 'CTYPE1': 'RA---TAN',\n",
       " 'CTYPE2': 'DEC--TAN',\n",
       " 'CUNIT1': 'deg',\n",
       " 'CUNIT2': 'deg',\n",
       " 'CRVAL1': 0.0,\n",
       " 'CRVAL2': 0.0,\n",
       " 'CRPIX1': 2000.0,\n",
       " 'CRPIX2': 2036.0,\n",
       " 'CD1_1': -0.101561311768758,\n",
       " 'CD1_2': -0.0266514530900138,\n",
       " 'CD2_1': 0.0266514530900138,\n",
       " 'CD2_2': -0.101561311768758,\n",
       " 'EQUINOX': 2000.0,\n",
       " 'CAMCODE': 'AT',\n",
       " 'CONTRLLR': 'O',\n",
       " 'DAYOBS': '20210216',\n",
       " 'SEQNUM': 64,\n",
       " 'TESTTYPE': None,\n",
       " 'TSTAND': None,\n",
       " 'IMAGETAG': '577769406cbc0714',\n",
       " 'OBSANNOT': '',\n",
       " 'TEMP_SET': -94.1500015258789,\n",
       " 'CCDTEMP': -90.1158752441406,\n",
       " 'FILTBAND': 'Empty',\n",
       " 'FILTER': 'empty_1',\n",
       " 'FILTSLOT': 0,\n",
       " 'GRATING': 'empty_1',\n",
       " 'GRATBAND': 'Empty',\n",
       " 'GRATSLOT': 0,\n",
       " 'LINSPOS': 59.9980010986328,\n",
       " 'EXPTIME': 0.0,\n",
       " 'SHUTTIME': None,\n",
       " 'DARKTIME': 0.097196102142334,\n",
       " 'AIRTEMP': 10.5,\n",
       " 'PRESSURE': 743.1,\n",
       " 'HUMIDITY': 48.0,\n",
       " 'WINDSPD': 6.7,\n",
       " 'WINDDIR': 291.0,\n",
       " 'SEEING': None,\n",
       " 'FILENAME': 'AT_O_20210216_000064.fits',\n",
       " 'HEADVER': '2.8.1',\n",
       " 'CHECKSUM': None,\n",
       " 'DATASUM': None,\n",
       " 'CCD_MANU': 'ITL',\n",
       " 'CCD_TYPE': 2,\n",
       " 'CCD_SERN': '20862',\n",
       " 'LSST_NUM': 'ITL-3800C-068',\n",
       " 'SEQCKSUM': '2552520002',\n",
       " 'SEQNAME': 'FP_ITL_2s_ir2_v25.seq',\n",
       " 'REBNAME': 'Unknown',\n",
       " 'CONTNUM': '412227310',\n",
       " 'CCDSLOT': 'S00',\n",
       " 'RAFTBAY': 'R00',\n",
       " 'OVERH': 64,\n",
       " 'OVERV': 48,\n",
       " 'PREH': 0,\n",
       " 'XTENSION': 'IMAGE',\n",
       " 'BITPIX': 32,\n",
       " 'NAXIS': 2,\n",
       " 'NAXIS1': 576,\n",
       " 'NAXIS2': 2048,\n",
       " 'PCOUNT': 0,\n",
       " 'GCOUNT': 1,\n",
       " 'INHERIT': True,\n",
       " 'EXTNAME': 'Segment10',\n",
       " 'DATASEC': '[1:509,1:2000]',\n",
       " 'DETSEC': '[509:1,1:2000]',\n",
       " 'DETSIZE': '[1:4072,1:4000]',\n",
       " 'DTV1': 510,\n",
       " 'DTV2': 0,\n",
       " 'DTM1_1': -1.0,\n",
       " 'DTM2_2': 1.0,\n",
       " 'DTM1_2': 0,\n",
       " 'DTM2_1': 0,\n",
       " 'HIERARCH ASTRO METADATA FIX MODIFIED': True,\n",
       " 'HIERARCH ASTRO METADATA FIX DATE': '2022-03-04T14:17:12.124081',\n",
       " 'HIERARCH ASTRO METADATA FIX VERSION': '22.0.1-35-ge12052c+3e958b174a'}"
      ]
     },
     "execution_count": 137,
     "metadata": {},
     "output_type": "execute_result"
    }
   ],
   "source": [
    "md.toDict()"
   ]
  },
  {
   "cell_type": "markdown",
   "id": "5de40fad-8be4-467f-8883-fceb3207d8a4",
   "metadata": {},
   "source": [
    "## Image"
   ]
  },
  {
   "cell_type": "code",
   "execution_count": 138,
   "id": "ff175a96-3282-474e-a636-e7f13eb33d7b",
   "metadata": {},
   "outputs": [],
   "source": [
    "raw_image=raw.image.array"
   ]
  },
  {
   "cell_type": "code",
   "execution_count": 139,
   "id": "81438063-9bb2-4ced-8cd8-9104013e8910",
   "metadata": {},
   "outputs": [
    {
     "data": {
      "text/plain": [
       "(4096, 4608)"
      ]
     },
     "execution_count": 139,
     "metadata": {},
     "output_type": "execute_result"
    }
   ],
   "source": [
    "raw_image.shape"
   ]
  },
  {
   "cell_type": "code",
   "execution_count": 140,
   "id": "53554aa3",
   "metadata": {},
   "outputs": [],
   "source": [
    "# Must flip for Spectractor reading\n",
    "flip_image=np.flip(raw_image, 0)"
   ]
  },
  {
   "cell_type": "code",
   "execution_count": 141,
   "id": "833177cd",
   "metadata": {},
   "outputs": [
    {
     "data": {
      "image/png": "[encoded data removed]",
      "text/plain": [
       "<Figure size 1440x720 with 2 Axes>"
      ]
     },
     "metadata": {
      "needs_background": "light"
     },
     "output_type": "display_data"
    }
   ],
   "source": [
    "fig = plt.figure(figsize=(20,10))\n",
    "ax=fig.add_subplot(121)\n",
    "ax.imshow(flip_image,origin='lower',cmap=\"jet\",norm=LogNorm())\n",
    "ax=fig.add_subplot(122)\n",
    "ax.imshow(flip_image,origin='lower',cmap=\"gray\",norm=LogNorm())\n",
    "plt.show()"
   ]
  },
  {
   "cell_type": "markdown",
   "id": "ea14707f-5e33-42e5-9265-8675e5ea7902",
   "metadata": {},
   "source": [
    "# Supress overscan"
   ]
  },
  {
   "cell_type": "code",
   "execution_count": 142,
   "id": "0cbd3881-b8e2-4e58-aa50-49a7e321c68a",
   "metadata": {},
   "outputs": [],
   "source": [
    "profile_x=raw_image.sum(axis=0)\n",
    "profile_y=raw_image.sum(axis=1)"
   ]
  },
  {
   "cell_type": "code",
   "execution_count": 143,
   "id": "77a81ae5-21dd-4331-bc9e-a5752ef414db",
   "metadata": {},
   "outputs": [],
   "source": [
    "diff_profile_x=np.diff(profile_x,prepend=0,append=0)\n",
    "diff_profile_y=np.diff(profile_y,prepend=0,append=0)"
   ]
  },
  {
   "cell_type": "code",
   "execution_count": 144,
   "id": "a7aa352c-b263-435a-a081-28259b32582b",
   "metadata": {},
   "outputs": [
    {
     "data": {
      "text/plain": [
       "Text(0.5, 0, 'y')"
      ]
     },
     "execution_count": 144,
     "metadata": {},
     "output_type": "execute_result"
    },
    {
     "data": {
      "image/png": "[encoded data removed]",
      "text/plain": [
       "<Figure size 1440x576 with 4 Axes>"
      ]
     },
     "metadata": {
      "needs_background": "light"
     },
     "output_type": "display_data"
    }
   ],
   "source": [
    "fig=plt.figure(figsize=(20,8))\n",
    "ax=fig.add_subplot(2,1,1)           \n",
    "ax.plot(profile_x,'b-')\n",
    "ax.grid()\n",
    "ax2=ax.twinx()\n",
    "ax2.plot(diff_profile_x,'r-')\n",
    "\n",
    "ax.set_xlabel('x')\n",
    "ax=fig.add_subplot(2,1,2)     \n",
    "ax.grid()\n",
    "ax.plot(profile_y)\n",
    "ax2=ax.twinx()\n",
    "ax2.plot(diff_profile_y,'r-')\n",
    "ax.set_xlabel('y')"
   ]
  },
  {
   "cell_type": "code",
   "execution_count": 145,
   "id": "d1e56973-b973-4d42-91e7-5cefbbf1b5e9",
   "metadata": {},
   "outputs": [
    {
     "data": {
      "text/plain": [
       "array([   3,    5,    7, ..., 4606, 4607, 4608])"
      ]
     },
     "execution_count": 145,
     "metadata": {},
     "output_type": "execute_result"
    }
   ],
   "source": [
    "np.where(diff_profile_x<-2e-8)[0]"
   ]
  },
  {
   "cell_type": "code",
   "execution_count": 146,
   "id": "c487e8f4-4657-4f98-9142-eee8799b7388",
   "metadata": {},
   "outputs": [
    {
     "data": {
      "text/plain": [
       "array([   0,    1,    2, ..., 4599, 4602, 4604])"
      ]
     },
     "execution_count": 146,
     "metadata": {},
     "output_type": "execute_result"
    }
   ],
   "source": [
    "np.where(diff_profile_x>2e-8)[0]"
   ]
  },
  {
   "cell_type": "code",
   "execution_count": 147,
   "id": "74315a12-24d5-43ee-961e-358547798ef9",
   "metadata": {},
   "outputs": [
    {
     "data": {
      "text/plain": [
       "array([   1,    2,    4, ..., 4091, 4093, 4096])"
      ]
     },
     "execution_count": 147,
     "metadata": {},
     "output_type": "execute_result"
    }
   ],
   "source": [
    "np.where(diff_profile_y<-2e-8)[0]"
   ]
  },
  {
   "cell_type": "code",
   "execution_count": 148,
   "id": "3bdd1e27-ff23-41bc-87c7-31e942736e57",
   "metadata": {},
   "outputs": [
    {
     "data": {
      "text/plain": [
       "array([   0,    3,    5, ..., 4092, 4094, 4095])"
      ]
     },
     "execution_count": 148,
     "metadata": {},
     "output_type": "execute_result"
    }
   ],
   "source": [
    "np.where(diff_profile_y>2e-8)[0]"
   ]
  },
  {
   "cell_type": "code",
   "execution_count": 149,
   "id": "c55f4003-3181-4463-a3d8-63ec9cf6f7ed",
   "metadata": {},
   "outputs": [
    {
     "data": {
      "text/plain": [
       "array([   0,    1,    2, ..., 4605, 4606, 4607])"
      ]
     },
     "execution_count": 149,
     "metadata": {},
     "output_type": "execute_result"
    }
   ],
   "source": [
    "indexes_x_set0=np.where(profile_x<1e8)[0]\n",
    "indexes_x_set0"
   ]
  },
  {
   "cell_type": "code",
   "execution_count": 150,
   "id": "f32adbd6-9400-46f8-ae29-0925ea4f9aa8",
   "metadata": {},
   "outputs": [
    {
     "data": {
      "text/plain": [
       "array([   0,    1,    2, ..., 4092, 4093, 4094])"
      ]
     },
     "execution_count": 150,
     "metadata": {},
     "output_type": "execute_result"
    }
   ],
   "source": [
    "indexes_y_set0=np.where(profile_y<1e8)[0]\n",
    "indexes_y_set0"
   ]
  },
  {
   "cell_type": "code",
   "execution_count": 151,
   "id": "f5da2718-e430-4359-849d-e6f19e44c452",
   "metadata": {},
   "outputs": [],
   "source": [
    "#np.savetxt('indexes_x_set0.txt', indexes_x_set0, delimiter=',')  \n",
    "#np.savetxt('indexes_y_set0.txt', indexes_y_set0, delimiter=',')  \n",
    "# load indexes generated from flat file\n",
    "indexes_x_set0=np.loadtxt('data/indexes_x_set0.txt',delimiter=',').astype(int)\n",
    "indexes_y_set0=np.loadtxt('data/indexes_y_set0.txt',delimiter=',').astype(int)"
   ]
  },
  {
   "cell_type": "code",
   "execution_count": 152,
   "id": "ff9bbf86-419d-48cb-8b08-55b2337e5495",
   "metadata": {},
   "outputs": [],
   "source": [
    "raw_image[:,indexes_x_set0]=0\n",
    "raw_image[indexes_y_set0,:]=0"
   ]
  },
  {
   "cell_type": "code",
   "execution_count": 153,
   "id": "67a38409-b796-4964-a018-a841210a5169",
   "metadata": {},
   "outputs": [
    {
     "data": {
      "image/png": "[encoded data removed]",
      "text/plain": [
       "<Figure size 720x720 with 1 Axes>"
      ]
     },
     "metadata": {
      "needs_background": "light"
     },
     "output_type": "display_data"
    }
   ],
   "source": [
    "fig = plt.figure(figsize=(10,10))\n",
    "ax=fig.add_subplot(111)\n",
    "\n",
    "ax.imshow(raw_image,origin='lower',cmap=\"gray\",norm=LogNorm())\n",
    "plt.show()"
   ]
  },
  {
   "cell_type": "code",
   "execution_count": 154,
   "id": "c3da8d01-aca4-4c27-a4f8-313d14d9b28e",
   "metadata": {},
   "outputs": [],
   "source": [
    "data_noemptycolumn = raw_image[:,~np.all(raw_image == 0, axis=0)]"
   ]
  },
  {
   "cell_type": "code",
   "execution_count": 155,
   "id": "c14721a7-77a3-4864-b78f-909f565dffe3",
   "metadata": {},
   "outputs": [
    {
     "data": {
      "text/plain": [
       "<matplotlib.image.AxesImage at 0x7f8340130f40>"
      ]
     },
     "execution_count": 155,
     "metadata": {},
     "output_type": "execute_result"
    },
    {
     "data": {
      "image/png": "[encoded data removed]",
      "text/plain": [
       "<Figure size 720x720 with 1 Axes>"
      ]
     },
     "metadata": {
      "needs_background": "light"
     },
     "output_type": "display_data"
    }
   ],
   "source": [
    "fig = plt.figure(figsize=(10,10))\n",
    "ax=fig.add_subplot(111)\n",
    "plt.imshow(data_noemptycolumn,origin='lower',cmap=\"gray\",norm=LogNorm())"
   ]
  },
  {
   "cell_type": "code",
   "execution_count": 156,
   "id": "3c4d6bdd-728a-465a-890d-da2cc9177350",
   "metadata": {},
   "outputs": [],
   "source": [
    "data_noemptyrow = data_noemptycolumn[~np.all(raw_image == 0, axis=1),:]"
   ]
  },
  {
   "cell_type": "code",
   "execution_count": 157,
   "id": "b9514164-1ef8-46e9-8738-2b63d93cfe0e",
   "metadata": {},
   "outputs": [
    {
     "data": {
      "text/plain": [
       "<matplotlib.image.AxesImage at 0x7f8340039280>"
      ]
     },
     "execution_count": 157,
     "metadata": {},
     "output_type": "execute_result"
    },
    {
     "data": {
      "image/png": "[encoded data removed]",
      "text/plain": [
       "<Figure size 720x720 with 1 Axes>"
      ]
     },
     "metadata": {
      "needs_background": "light"
     },
     "output_type": "display_data"
    }
   ],
   "source": [
    "fig = plt.figure(figsize=(10,10))\n",
    "ax=fig.add_subplot(111)\n",
    "#plt.imshow(data_noemptyrow,origin='lower',cmap=\"gray\",norm=LogNorm())\n",
    "plt.imshow(data_noemptyrow,origin='lower',cmap=\"gray\")"
   ]
  },
  {
   "cell_type": "code",
   "execution_count": 158,
   "id": "6857cc6a-946b-407b-b1c1-57e4e27dc230",
   "metadata": {},
   "outputs": [],
   "source": [
    "data=data_noemptyrow"
   ]
  },
  {
   "cell_type": "code",
   "execution_count": 159,
   "id": "8dacfe75-a975-499f-bf51-6a7e4bdb7c74",
   "metadata": {},
   "outputs": [
    {
     "data": {
      "image/png": "[encoded data removed]",
      "text/plain": [
       "<Figure size 576x432 with 1 Axes>"
      ]
     },
     "metadata": {
      "needs_background": "light"
     },
     "output_type": "display_data"
    }
   ],
   "source": [
    "fig = plt.figure(figsize=(8,6))\n",
    "ax=fig.add_subplot(111)\n",
    "flat_array=np.ravel(data)\n",
    "ax.hist(flat_array,bins=100);\n",
    "ax.set_yscale('log')"
   ]
  },
  {
   "cell_type": "code",
   "execution_count": 160,
   "id": "363941bb-83d8-4877-9cb0-4898e284e12a",
   "metadata": {},
   "outputs": [
    {
     "data": {
      "text/plain": [
       "(4000, 4072)"
      ]
     },
     "execution_count": 160,
     "metadata": {},
     "output_type": "execute_result"
    }
   ],
   "source": [
    "data.shape"
   ]
  },
  {
   "cell_type": "code",
   "execution_count": null,
   "id": "e7d2a28c-0179-4d96-8dcd-7bc070f4a640",
   "metadata": {},
   "outputs": [],
   "source": []
  }
 ],
 "metadata": {
  "kernelspec": {
   "display_name": "lsst_distrib_w_2021_36",
   "language": "python",
   "name": "lsst_distrib_w_2021_36"
  },
  "language_info": {
   "codemirror_mode": {
    "name": "ipython",
    "version": 3
   },
   "file_extension": ".py",
   "mimetype": "text/x-python",
   "name": "python",
   "nbconvert_exporter": "python",
   "pygments_lexer": "ipython3",
   "version": "3.8.8"
  }
 },
 "nbformat": 4,
 "nbformat_minor": 5
}
