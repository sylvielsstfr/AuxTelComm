{
 "cells": [
  {
   "cell_type": "markdown",
   "id": "b9be9ae4-f449-46c0-b961-ca3e3c530df1",
   "metadata": {},
   "source": [
    "# Run the pipeline from the notebook"
   ]
  },
  {
   "cell_type": "markdown",
   "id": "5bbb17b9-59cf-4f1c-9fd7-550e01f7a298",
   "metadata": {},
   "source": [
    "\n",
    "- work with Weakly_2022_39\n",
    "- use jupyter kernel LSST\n",
    "\n",
    "- author : Sylvie Dagoret-Campagne\n",
    "- affiliation : IJCLab\n",
    "- creation date : 2022/09/20\n"
   ]
  },
  {
   "cell_type": "code",
   "execution_count": 1,
   "id": "14308bbb-de8f-423b-b04e-522714fe6689",
   "metadata": {},
   "outputs": [
    {
     "name": "stdout",
     "output_type": "stream",
     "text": [
      "atmospec              LOCAL:/home/d/dagoret/repos/repos_w_2022_39/atmospec \tsetup\n",
      "drp_pipe              LOCAL:/home/d/dagoret/repos/repos_w_2022_39/drp_pipe \tsetup\n",
      "eups                  LOCAL:/opt/lsst/software/stack/conda/miniconda3-py38_4.9.2/envs/lsst-scipipe-4.1.0/eups \tsetup\n"
     ]
    }
   ],
   "source": [
    "! eups list -s | grep LOCAL"
   ]
  },
  {
   "cell_type": "code",
   "execution_count": 2,
   "id": "2bc0c3e1-b1ae-46a9-b476-3fdcf4b945a3",
   "metadata": {},
   "outputs": [],
   "source": [
    "# Basic imports\n",
    "import numpy as np\n",
    "\n",
    "import matplotlib as mpl\n",
    "import matplotlib.pyplot as plt\n",
    "\n",
    "from pprint import pprint"
   ]
  },
  {
   "cell_type": "code",
   "execution_count": 3,
   "id": "43ccd2b5-5112-4aad-bd35-3c196a1c464c",
   "metadata": {},
   "outputs": [],
   "source": [
    "from lsst.ctrl.mpexec import SimplePipelineExecutor\n",
    "from lsst.pipe.base import Pipeline"
   ]
  },
  {
   "cell_type": "code",
   "execution_count": 4,
   "id": "96a4f599-d3b6-478d-a66f-2fc81ef19ed1",
   "metadata": {},
   "outputs": [],
   "source": [
    "from lsst.daf.butler import Butler\n",
    "\n",
    "repo = \"/sdf/group/rubin/repo/main\"\n",
    "\n",
    "butler = Butler(repo)\n",
    "registry = butler.registry"
   ]
  },
  {
   "cell_type": "markdown",
   "id": "ddc8ed6a-fd8c-4701-b117-b124b974fba0",
   "metadata": {},
   "source": [
    "### DRP pipeline for Latiss\n",
    "https://github.com/lsst/drp_pipe/tree/main/pipelines/LATISS"
   ]
  },
  {
   "cell_type": "code",
   "execution_count": 5,
   "id": "0e1ab5ae-a2b5-49cf-beb2-3b9f7f6c1465",
   "metadata": {},
   "outputs": [],
   "source": [
    "# set up an output collection with your username\n",
    "#outputCollection = \"u/nate2/analysisToolsExample\"\n",
    "inputCollections = [\"LATISS/raw/all\",\"refcats\",\"LATISS/calib\"]\n",
    "outputCollection = \"u/dagoret/test_latiss_drp\"\n",
    "\n",
    "# this can be skipped if you already have a read writable butler setup (above is read only)\n",
    "butlerRW = SimplePipelineExecutor.prep_butler(repo, inputs = inputCollections,output=outputCollection)\n",
    "\n",
    "# load in the pipeline to run\n",
    "#pipeline = Pipeline.from_uri(\"$ANALYSIS_TOOLS_DIR/pipelines/coaddQualityCore.yaml\")\n",
    "\n",
    "\n",
    "pipeline = Pipeline.from_uri(\"$DRP_PIPE_DIR/pipelines/LATISS/DRP.yaml\")"
   ]
  },
  {
   "cell_type": "code",
   "execution_count": 6,
   "id": "bbe0df13-1843-4871-9e9c-f2ba4a94004f",
   "metadata": {},
   "outputs": [
    {
     "name": "stdout",
     "output_type": "stream",
     "text": [
      "Overriding default configuration file with /opt/lsst/software/stack/stack/miniconda3-py38_4.9.2-4.1.0/Linux64/dustmaps_cachedata/g41a3ec361e+62d12e78cb/config/.dustmapsrc\n"
     ]
    },
    {
     "ename": "FileNotFoundError",
     "evalue": "Not enough datasets (0) found for non-optional connection isr.flat (flat) with minimum=1 for quantum data ID {instrument: 'LATISS', detector: 0, exposure: 2022063000045, ...}.",
     "output_type": "error",
     "traceback": [
      "\u001b[0;31m---------------------------------------------------------------------------\u001b[0m",
      "\u001b[0;31mFileNotFoundError\u001b[0m                         Traceback (most recent call last)",
      "Input \u001b[0;32mIn [6]\u001b[0m, in \u001b[0;36m<cell line: 18>\u001b[0;34m()\u001b[0m\n\u001b[1;32m     15\u001b[0m backend_ \u001b[38;5;241m=\u001b[39m  mpl\u001b[38;5;241m.\u001b[39mget_backend() \n\u001b[1;32m     16\u001b[0m mpl\u001b[38;5;241m.\u001b[39muse(\u001b[38;5;124m\"\u001b[39m\u001b[38;5;124mAgg\u001b[39m\u001b[38;5;124m\"\u001b[39m)\n\u001b[0;32m---> 18\u001b[0m executor \u001b[38;5;241m=\u001b[39m \u001b[43mSimplePipelineExecutor\u001b[49m\u001b[38;5;241;43m.\u001b[39;49m\u001b[43mfrom_pipeline\u001b[49m\u001b[43m(\u001b[49m\u001b[43mpipeline\u001b[49m\u001b[43m,\u001b[49m\u001b[43m \u001b[49m\u001b[43mwhere\u001b[49m\u001b[38;5;241;43m=\u001b[39;49m\u001b[43mwhereString\u001b[49m\u001b[43m,\u001b[49m\u001b[43m \u001b[49m\u001b[43mbutler\u001b[49m\u001b[38;5;241;43m=\u001b[39;49m\u001b[43mbutlerRW\u001b[49m\u001b[43m)\u001b[49m\n\u001b[1;32m     19\u001b[0m quanta \u001b[38;5;241m=\u001b[39m executor\u001b[38;5;241m.\u001b[39mrun(\u001b[38;5;28;01mTrue\u001b[39;00m)\n\u001b[1;32m     21\u001b[0m \u001b[38;5;66;03m# Restore the ability for plots to be put into the notebook\u001b[39;00m\n",
      "File \u001b[0;32m/opt/lsst/software/stack/stack/miniconda3-py38_4.9.2-4.1.0/Linux64/ctrl_mpexec/g5106228df7+8f386c43b7/python/lsst/ctrl/mpexec/simple_pipeline_executor.py:222\u001b[0m, in \u001b[0;36mSimplePipelineExecutor.from_pipeline\u001b[0;34m(cls, pipeline, where, butler, **kwargs)\u001b[0m\n\u001b[1;32m    220\u001b[0m     pipeline \u001b[38;5;241m=\u001b[39m \u001b[38;5;28mlist\u001b[39m(pipeline)\n\u001b[1;32m    221\u001b[0m graph_builder \u001b[38;5;241m=\u001b[39m GraphBuilder(butler\u001b[38;5;241m.\u001b[39mregistry)\n\u001b[0;32m--> 222\u001b[0m quantum_graph \u001b[38;5;241m=\u001b[39m \u001b[43mgraph_builder\u001b[49m\u001b[38;5;241;43m.\u001b[39;49m\u001b[43mmakeGraph\u001b[49m\u001b[43m(\u001b[49m\n\u001b[1;32m    223\u001b[0m \u001b[43m    \u001b[49m\u001b[43mpipeline\u001b[49m\u001b[43m,\u001b[49m\u001b[43m \u001b[49m\u001b[43mcollections\u001b[49m\u001b[38;5;241;43m=\u001b[39;49m\u001b[43mbutler\u001b[49m\u001b[38;5;241;43m.\u001b[39;49m\u001b[43mcollections\u001b[49m\u001b[43m,\u001b[49m\u001b[43m \u001b[49m\u001b[43mrun\u001b[49m\u001b[38;5;241;43m=\u001b[39;49m\u001b[43mbutler\u001b[49m\u001b[38;5;241;43m.\u001b[39;49m\u001b[43mrun\u001b[49m\u001b[43m,\u001b[49m\u001b[43m \u001b[49m\u001b[43muserQuery\u001b[49m\u001b[38;5;241;43m=\u001b[39;49m\u001b[43mwhere\u001b[49m\n\u001b[1;32m    224\u001b[0m \u001b[43m\u001b[49m\u001b[43m)\u001b[49m\n\u001b[1;32m    225\u001b[0m \u001b[38;5;28;01mreturn\u001b[39;00m \u001b[38;5;28mcls\u001b[39m(quantum_graph\u001b[38;5;241m=\u001b[39mquantum_graph, butler\u001b[38;5;241m=\u001b[39mbutler)\n",
      "File \u001b[0;32m/opt/lsst/software/stack/stack/miniconda3-py38_4.9.2-4.1.0/Linux64/pipe_base/g646899f3d4+9b4274c3ef/python/lsst/pipe/base/graphBuilder.py:1304\u001b[0m, in \u001b[0;36mGraphBuilder.makeGraph\u001b[0;34m(self, pipeline, collections, run, userQuery, datasetQueryConstraint, metadata, resolveRefs)\u001b[0m\n\u001b[1;32m   1293\u001b[0m     condition \u001b[38;5;241m=\u001b[39m datasetQueryConstraint \u001b[38;5;241m==\u001b[39m DatasetQueryConstraintVariant\u001b[38;5;241m.\u001b[39mALL\n\u001b[1;32m   1294\u001b[0m     scaffolding\u001b[38;5;241m.\u001b[39mresolveDatasetRefs(\n\u001b[1;32m   1295\u001b[0m         \u001b[38;5;28mself\u001b[39m\u001b[38;5;241m.\u001b[39mregistry,\n\u001b[1;32m   1296\u001b[0m         collections,\n\u001b[0;32m   (...)\u001b[0m\n\u001b[1;32m   1302\u001b[0m         resolveRefs\u001b[38;5;241m=\u001b[39mresolveRefs,\n\u001b[1;32m   1303\u001b[0m     )\n\u001b[0;32m-> 1304\u001b[0m \u001b[38;5;28;01mreturn\u001b[39;00m \u001b[43mscaffolding\u001b[49m\u001b[38;5;241;43m.\u001b[39;49m\u001b[43mmakeQuantumGraph\u001b[49m\u001b[43m(\u001b[49m\u001b[43mmetadata\u001b[49m\u001b[38;5;241;43m=\u001b[39;49m\u001b[43mmetadata\u001b[49m\u001b[43m,\u001b[49m\u001b[43m \u001b[49m\u001b[43mdatastore\u001b[49m\u001b[38;5;241;43m=\u001b[39;49m\u001b[38;5;28;43mself\u001b[39;49m\u001b[38;5;241;43m.\u001b[39;49m\u001b[43mdatastore\u001b[49m\u001b[43m)\u001b[49m\n",
      "File \u001b[0;32m/opt/lsst/software/stack/stack/miniconda3-py38_4.9.2-4.1.0/Linux64/pipe_base/g646899f3d4+9b4274c3ef/python/lsst/pipe/base/graphBuilder.py:1147\u001b[0m, in \u001b[0;36m_PipelineScaffolding.makeQuantumGraph\u001b[0;34m(self, metadata, datastore)\u001b[0m\n\u001b[1;32m   1145\u001b[0m graphInput: Dict[TaskDef, Set[Quantum]] \u001b[38;5;241m=\u001b[39m {}\n\u001b[1;32m   1146\u001b[0m \u001b[38;5;28;01mfor\u001b[39;00m task \u001b[38;5;129;01min\u001b[39;00m \u001b[38;5;28mself\u001b[39m\u001b[38;5;241m.\u001b[39mtasks:\n\u001b[0;32m-> 1147\u001b[0m     qset \u001b[38;5;241m=\u001b[39m \u001b[43mtask\u001b[49m\u001b[38;5;241;43m.\u001b[39;49m\u001b[43mmakeQuantumSet\u001b[49m\u001b[43m(\u001b[49m\u001b[43munresolvedRefs\u001b[49m\u001b[38;5;241;43m=\u001b[39;49m\u001b[38;5;28;43mself\u001b[39;49m\u001b[38;5;241;43m.\u001b[39;49m\u001b[43munfoundRefs\u001b[49m\u001b[43m,\u001b[49m\u001b[43m \u001b[49m\u001b[43mdatastore_records\u001b[49m\u001b[38;5;241;43m=\u001b[39;49m\u001b[43mdatastore_records\u001b[49m\u001b[43m)\u001b[49m\n\u001b[1;32m   1148\u001b[0m     graphInput[task\u001b[38;5;241m.\u001b[39mtaskDef] \u001b[38;5;241m=\u001b[39m qset\n\u001b[1;32m   1150\u001b[0m taskInitInputs \u001b[38;5;241m=\u001b[39m {task\u001b[38;5;241m.\u001b[39mtaskDef: task\u001b[38;5;241m.\u001b[39minitInputs\u001b[38;5;241m.\u001b[39munpackSingleRefs()\u001b[38;5;241m.\u001b[39mvalues() \u001b[38;5;28;01mfor\u001b[39;00m task \u001b[38;5;129;01min\u001b[39;00m \u001b[38;5;28mself\u001b[39m\u001b[38;5;241m.\u001b[39mtasks}\n",
      "File \u001b[0;32m/opt/lsst/software/stack/stack/miniconda3-py38_4.9.2-4.1.0/Linux64/pipe_base/g646899f3d4+9b4274c3ef/python/lsst/pipe/base/graphBuilder.py:485\u001b[0m, in \u001b[0;36m_TaskScaffolding.makeQuantumSet\u001b[0;34m(self, unresolvedRefs, datastore_records)\u001b[0m\n\u001b[1;32m    483\u001b[0m             outputs\u001b[38;5;241m.\u001b[39madd(tmpQuantum)\n\u001b[1;32m    484\u001b[0m         \u001b[38;5;28;01melse\u001b[39;00m:\n\u001b[0;32m--> 485\u001b[0m             \u001b[38;5;28;01mraise\u001b[39;00m exc\n\u001b[1;32m    486\u001b[0m \u001b[38;5;28;01mreturn\u001b[39;00m outputs\n",
      "File \u001b[0;32m/opt/lsst/software/stack/stack/miniconda3-py38_4.9.2-4.1.0/Linux64/pipe_base/g646899f3d4+9b4274c3ef/python/lsst/pipe/base/graphBuilder.py:463\u001b[0m, in \u001b[0;36m_TaskScaffolding.makeQuantumSet\u001b[0;34m(self, unresolvedRefs, datastore_records)\u001b[0m\n\u001b[1;32m    461\u001b[0m \u001b[38;5;28;01mfor\u001b[39;00m q \u001b[38;5;129;01min\u001b[39;00m \u001b[38;5;28mself\u001b[39m\u001b[38;5;241m.\u001b[39mquanta\u001b[38;5;241m.\u001b[39mvalues():\n\u001b[1;32m    462\u001b[0m     \u001b[38;5;28;01mtry\u001b[39;00m:\n\u001b[0;32m--> 463\u001b[0m         tmpQuanta \u001b[38;5;241m=\u001b[39m \u001b[43mq\u001b[49m\u001b[38;5;241;43m.\u001b[39;49m\u001b[43mmakeQuantum\u001b[49m\u001b[43m(\u001b[49m\u001b[43mdatastore_records\u001b[49m\u001b[43m)\u001b[49m\n\u001b[1;32m    464\u001b[0m         outputs\u001b[38;5;241m.\u001b[39madd(tmpQuanta)\n\u001b[1;32m    465\u001b[0m     \u001b[38;5;28;01mexcept\u001b[39;00m (NoWorkFound, \u001b[38;5;167;01mFileNotFoundError\u001b[39;00m) \u001b[38;5;28;01mas\u001b[39;00m exc:\n",
      "File \u001b[0;32m/opt/lsst/software/stack/stack/miniconda3-py38_4.9.2-4.1.0/Linux64/pipe_base/g646899f3d4+9b4274c3ef/python/lsst/pipe/base/graphBuilder.py:333\u001b[0m, in \u001b[0;36m_QuantumScaffolding.makeQuantum\u001b[0;34m(self, datastore_records)\u001b[0m\n\u001b[1;32m    323\u001b[0m \u001b[38;5;66;03m# Give the task's Connections class an opportunity to remove some\u001b[39;00m\n\u001b[1;32m    324\u001b[0m \u001b[38;5;66;03m# inputs, or complain if they are unacceptable.\u001b[39;00m\n\u001b[1;32m    325\u001b[0m \u001b[38;5;66;03m# This will raise if one of the check conditions is not met, which is\u001b[39;00m\n\u001b[0;32m   (...)\u001b[0m\n\u001b[1;32m    330\u001b[0m \u001b[38;5;66;03m# NoWorkFound if a regular input is missing, and it shouldn't be\u001b[39;00m\n\u001b[1;32m    331\u001b[0m \u001b[38;5;66;03m# possible for us to have generated ``self`` if that's true.\u001b[39;00m\n\u001b[1;32m    332\u001b[0m helper \u001b[38;5;241m=\u001b[39m AdjustQuantumHelper(inputs\u001b[38;5;241m=\u001b[39mallInputs, outputs\u001b[38;5;241m=\u001b[39m\u001b[38;5;28mself\u001b[39m\u001b[38;5;241m.\u001b[39moutputs\u001b[38;5;241m.\u001b[39munpackMultiRefs())\n\u001b[0;32m--> 333\u001b[0m \u001b[43mhelper\u001b[49m\u001b[38;5;241;43m.\u001b[39;49m\u001b[43madjust_in_place\u001b[49m\u001b[43m(\u001b[49m\u001b[38;5;28;43mself\u001b[39;49m\u001b[38;5;241;43m.\u001b[39;49m\u001b[43mtask\u001b[49m\u001b[38;5;241;43m.\u001b[39;49m\u001b[43mtaskDef\u001b[49m\u001b[38;5;241;43m.\u001b[39;49m\u001b[43mconnections\u001b[49m\u001b[43m,\u001b[49m\u001b[43m \u001b[49m\u001b[38;5;28;43mself\u001b[39;49m\u001b[38;5;241;43m.\u001b[39;49m\u001b[43mtask\u001b[49m\u001b[38;5;241;43m.\u001b[39;49m\u001b[43mtaskDef\u001b[49m\u001b[38;5;241;43m.\u001b[39;49m\u001b[43mlabel\u001b[49m\u001b[43m,\u001b[49m\u001b[43m \u001b[49m\u001b[38;5;28;43mself\u001b[39;49m\u001b[38;5;241;43m.\u001b[39;49m\u001b[43mdataId\u001b[49m\u001b[43m)\u001b[49m\n\u001b[1;32m    334\u001b[0m initInputs \u001b[38;5;241m=\u001b[39m \u001b[38;5;28mself\u001b[39m\u001b[38;5;241m.\u001b[39mtask\u001b[38;5;241m.\u001b[39minitInputs\u001b[38;5;241m.\u001b[39munpackSingleRefs()\n\u001b[1;32m    335\u001b[0m quantum_records: Optional[Mapping[\u001b[38;5;28mstr\u001b[39m, DatastoreRecordData]] \u001b[38;5;241m=\u001b[39m \u001b[38;5;28;01mNone\u001b[39;00m\n",
      "File \u001b[0;32m/opt/lsst/software/stack/stack/miniconda3-py38_4.9.2-4.1.0/Linux64/pipe_base/g646899f3d4+9b4274c3ef/python/lsst/pipe/base/connections.py:750\u001b[0m, in \u001b[0;36mAdjustQuantumHelper.adjust_in_place\u001b[0;34m(self, connections, label, data_id)\u001b[0m\n\u001b[1;32m    744\u001b[0m     outputs_by_connection[name] \u001b[38;5;241m=\u001b[39m (connection, \u001b[38;5;28mtuple\u001b[39m(\u001b[38;5;28mself\u001b[39m\u001b[38;5;241m.\u001b[39moutputs\u001b[38;5;241m.\u001b[39mget(dataset_type_name, ())))\n\u001b[1;32m    745\u001b[0m \u001b[38;5;66;03m# Actually call adjustQuantum.\u001b[39;00m\n\u001b[1;32m    746\u001b[0m \u001b[38;5;66;03m# MyPy correctly complains that this call is not quite legal, but the\u001b[39;00m\n\u001b[1;32m    747\u001b[0m \u001b[38;5;66;03m# method docs explain exactly what's expected and it's the behavior we\u001b[39;00m\n\u001b[1;32m    748\u001b[0m \u001b[38;5;66;03m# want.  It'd be nice to avoid this if we ever have to change the\u001b[39;00m\n\u001b[1;32m    749\u001b[0m \u001b[38;5;66;03m# interface anyway, but not an immediate problem.\u001b[39;00m\n\u001b[0;32m--> 750\u001b[0m adjusted_inputs_by_connection, adjusted_outputs_by_connection \u001b[38;5;241m=\u001b[39m \u001b[43mconnections\u001b[49m\u001b[38;5;241;43m.\u001b[39;49m\u001b[43madjustQuantum\u001b[49m\u001b[43m(\u001b[49m\n\u001b[1;32m    751\u001b[0m \u001b[43m    \u001b[49m\u001b[43minputs_by_connection\u001b[49m\u001b[43m,\u001b[49m\u001b[43m  \u001b[49m\u001b[38;5;66;43;03m# type: ignore\u001b[39;49;00m\n\u001b[1;32m    752\u001b[0m \u001b[43m    \u001b[49m\u001b[43moutputs_by_connection\u001b[49m\u001b[43m,\u001b[49m\u001b[43m  \u001b[49m\u001b[38;5;66;43;03m# type: ignore\u001b[39;49;00m\n\u001b[1;32m    753\u001b[0m \u001b[43m    \u001b[49m\u001b[43mlabel\u001b[49m\u001b[43m,\u001b[49m\n\u001b[1;32m    754\u001b[0m \u001b[43m    \u001b[49m\u001b[43mdata_id\u001b[49m\u001b[43m,\u001b[49m\n\u001b[1;32m    755\u001b[0m \u001b[43m\u001b[49m\u001b[43m)\u001b[49m\n\u001b[1;32m    756\u001b[0m \u001b[38;5;66;03m# Translate adjustments to DatasetType-keyed, Quantum-oriented form,\u001b[39;00m\n\u001b[1;32m    757\u001b[0m \u001b[38;5;66;03m# installing new mappings in self if necessary.\u001b[39;00m\n\u001b[1;32m    758\u001b[0m \u001b[38;5;28;01mif\u001b[39;00m adjusted_inputs_by_connection:\n",
      "File \u001b[0;32m/opt/lsst/software/stack/stack/miniconda3-py38_4.9.2-4.1.0/Linux64/pipe_base/g646899f3d4+9b4274c3ef/python/lsst/pipe/base/connections.py:634\u001b[0m, in \u001b[0;36mPipelineTaskConnections.adjustQuantum\u001b[0;34m(self, inputs, outputs, label, data_id)\u001b[0m\n\u001b[1;32m    629\u001b[0m \u001b[38;5;28;01mif\u001b[39;00m \u001b[38;5;28mlen\u001b[39m(refs) \u001b[38;5;241m<\u001b[39m input_connection\u001b[38;5;241m.\u001b[39mminimum:\n\u001b[1;32m    630\u001b[0m     \u001b[38;5;28;01mif\u001b[39;00m \u001b[38;5;28misinstance\u001b[39m(input_connection, PrerequisiteInput):\n\u001b[1;32m    631\u001b[0m         \u001b[38;5;66;03m# This branch should only be possible during QG generation,\u001b[39;00m\n\u001b[1;32m    632\u001b[0m         \u001b[38;5;66;03m# or if someone deleted the dataset between making the QG\u001b[39;00m\n\u001b[1;32m    633\u001b[0m         \u001b[38;5;66;03m# and trying to run it.  Either one should be a hard error.\u001b[39;00m\n\u001b[0;32m--> 634\u001b[0m         \u001b[38;5;28;01mraise\u001b[39;00m \u001b[38;5;167;01mFileNotFoundError\u001b[39;00m(\n\u001b[1;32m    635\u001b[0m             \u001b[38;5;124mf\u001b[39m\u001b[38;5;124m\"\u001b[39m\u001b[38;5;124mNot enough datasets (\u001b[39m\u001b[38;5;132;01m{\u001b[39;00m\u001b[38;5;28mlen\u001b[39m(refs)\u001b[38;5;132;01m}\u001b[39;00m\u001b[38;5;124m) found for non-optional connection \u001b[39m\u001b[38;5;132;01m{\u001b[39;00mlabel\u001b[38;5;132;01m}\u001b[39;00m\u001b[38;5;124m.\u001b[39m\u001b[38;5;132;01m{\u001b[39;00mname\u001b[38;5;132;01m}\u001b[39;00m\u001b[38;5;124m \u001b[39m\u001b[38;5;124m\"\u001b[39m\n\u001b[1;32m    636\u001b[0m             \u001b[38;5;124mf\u001b[39m\u001b[38;5;124m\"\u001b[39m\u001b[38;5;124m(\u001b[39m\u001b[38;5;132;01m{\u001b[39;00mdataset_type_name\u001b[38;5;132;01m}\u001b[39;00m\u001b[38;5;124m) with minimum=\u001b[39m\u001b[38;5;132;01m{\u001b[39;00minput_connection\u001b[38;5;241m.\u001b[39mminimum\u001b[38;5;132;01m}\u001b[39;00m\u001b[38;5;124m for quantum data ID \u001b[39m\u001b[38;5;124m\"\u001b[39m\n\u001b[1;32m    637\u001b[0m             \u001b[38;5;124mf\u001b[39m\u001b[38;5;124m\"\u001b[39m\u001b[38;5;132;01m{\u001b[39;00mdata_id\u001b[38;5;132;01m}\u001b[39;00m\u001b[38;5;124m.\u001b[39m\u001b[38;5;124m\"\u001b[39m\n\u001b[1;32m    638\u001b[0m         )\n\u001b[1;32m    639\u001b[0m     \u001b[38;5;28;01melse\u001b[39;00m:\n\u001b[1;32m    640\u001b[0m         \u001b[38;5;66;03m# This branch should be impossible during QG generation,\u001b[39;00m\n\u001b[1;32m    641\u001b[0m         \u001b[38;5;66;03m# because that algorithm can only make quanta whose inputs\u001b[39;00m\n\u001b[0;32m   (...)\u001b[0m\n\u001b[1;32m    644\u001b[0m         \u001b[38;5;66;03m# wasn't actually created by an upstream task in the same\u001b[39;00m\n\u001b[1;32m    645\u001b[0m         \u001b[38;5;66;03m# graph.\u001b[39;00m\n\u001b[1;32m    646\u001b[0m         \u001b[38;5;28;01mraise\u001b[39;00m NoWorkFound(label, name, input_connection)\n",
      "\u001b[0;31mFileNotFoundError\u001b[0m: Not enough datasets (0) found for non-optional connection isr.flat (flat) with minimum=1 for quantum data ID {instrument: 'LATISS', detector: 0, exposure: 2022063000045, ...}."
     ]
    }
   ],
   "source": [
    "# override a configuration within a certain AnalysisTool\n",
    "#configKey = \"plots.shapeSizeFractionalDiffScatter.prep.selectors.snSelector.threshold\"\n",
    "#pipeline.addConfigOverride(\"analyzeObjectTableCore\", configKey, 400)\n",
    "\n",
    "#bands = ['g', 'r', 'i', 'z']\n",
    "#pipeline.addConfigOverride(\"analyzeObjectTableCore\", \"bands\", bands)\n",
    "#pipeline.addConfigOverride(\"catalogMatchTract\", \"bands\", bands)\n",
    "#pipeline.addConfigOverride(\"refCatObjectTract\", \"bands\", bands)\n",
    "\n",
    "# restrict processing to the same dataId used above\n",
    "#whereString = \"tract = 9813 AND skymap = 'hsc_rings_v1'\"\n",
    "whereString = \"exposure.day_obs={} and exposure.seq_num={} and instrument='LATISS'\".format(\"20220630\",\"45\") \n",
    "\n",
    "# Prevent the executor from dumping plots into the notebook\n",
    "backend_ =  mpl.get_backend() \n",
    "mpl.use(\"Agg\")\n",
    "\n",
    "executor = SimplePipelineExecutor.from_pipeline(pipeline, where=whereString, butler=butlerRW)\n",
    "quanta = executor.run(True)\n",
    "\n",
    "# Restore the ability for plots to be put into the notebook\n",
    "mpl.use(backend_)\n",
    "\n",
    "# If you only want to run one plot in a task in the pipeline do the following prior to execution\n",
    "# pipeline.addConfigOverride(\"analyzeObjectTableCore\", \"plots\", None)\n",
    "# pipeline.addConfigOverride(\"analyzeObjectTableCore\", \"plots\", ShapeSizeFractionalDiffScatterPlot)"
   ]
  },
  {
   "cell_type": "code",
   "execution_count": null,
   "id": "ff9d9c95-36ed-45d2-bbf4-c7408eae2eab",
   "metadata": {},
   "outputs": [],
   "source": [
    "datasetRefs = registry.queryDatasets(datasetType='postISRCCD', collections = outputCollection , where= \"instrument='LATISS'\")"
   ]
  },
  {
   "cell_type": "code",
   "execution_count": null,
   "id": "75791304-4e0d-4235-8028-41812682bd82",
   "metadata": {},
   "outputs": [],
   "source": []
  }
 ],
 "metadata": {
  "kernelspec": {
   "display_name": "LSST",
   "language": "python",
   "name": "lsst"
  },
  "language_info": {
   "codemirror_mode": {
    "name": "ipython",
    "version": 3
   },
   "file_extension": ".py",
   "mimetype": "text/x-python",
   "name": "python",
   "nbconvert_exporter": "python",
   "pygments_lexer": "ipython3",
   "version": "3.10.5"
  }
 },
 "nbformat": 4,
 "nbformat_minor": 5
}
