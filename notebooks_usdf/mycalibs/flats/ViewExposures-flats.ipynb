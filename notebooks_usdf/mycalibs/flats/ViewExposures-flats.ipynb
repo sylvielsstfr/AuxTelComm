{
 "cells": [
  {
   "cell_type": "markdown",
   "id": "c813ed6a",
   "metadata": {
    "tags": []
   },
   "source": [
    "# View of Exposures Flats\n",
    "\n",
    "\n",
    "- work with Weakly_2023_01\n",
    "- use jupyter kernel LSST\n",
    "\n",
    "\n",
    "\n",
    "- author : Sylvie Dagoret-Campagne\n",
    "- affiliation : IJCLab\n",
    "- creation date : 2023/03/27\n",
    "\n"
   ]
  },
  {
   "cell_type": "code",
   "execution_count": null,
   "id": "2e1f28b1",
   "metadata": {},
   "outputs": [],
   "source": [
    "! eups list -s | grep LOCAL"
   ]
  },
  {
   "cell_type": "code",
   "execution_count": null,
   "id": "8d301387-7065-4c85-897e-9e91b477c2b0",
   "metadata": {},
   "outputs": [],
   "source": [
    "! echo $IMAGE_DESCRIPTION\n",
    "! eups list -s lsst_distrib"
   ]
  },
  {
   "cell_type": "code",
   "execution_count": null,
   "id": "ea83b669",
   "metadata": {},
   "outputs": [],
   "source": [
    "import os\n",
    "import matplotlib.pyplot as plt\n",
    "\n",
    "import numpy as np\n",
    "import pandas as pd\n",
    "%matplotlib inline\n",
    "from matplotlib.colors import LogNorm\n",
    "\n",
    "from mpl_toolkits.axes_grid1 import make_axes_locatable\n",
    "\n",
    "import matplotlib.ticker                         # here's where the formatter is\n",
    "from matplotlib.ticker import (MultipleLocator, FormatStrFormatter,\n",
    "                               AutoMinorLocator)\n",
    "\n",
    "from astropy.io import fits\n",
    "from astropy.time import Time"
   ]
  },
  {
   "cell_type": "code",
   "execution_count": null,
   "id": "d7c8c61f-5cfa-4c25-9a5a-97c2eb50fa29",
   "metadata": {},
   "outputs": [],
   "source": [
    "# LSST Display\n",
    "import lsst.afw.display as afwDisplay\n",
    "afwDisplay.setDefaultBackend('matplotlib')"
   ]
  },
  {
   "cell_type": "code",
   "execution_count": null,
   "id": "7a36f8cd",
   "metadata": {},
   "outputs": [],
   "source": [
    "# Butler\n",
    "import lsst.daf.butler as dafButler"
   ]
  },
  {
   "cell_type": "code",
   "execution_count": null,
   "id": "7c5944d1-0cbb-42bc-9ea9-a7ff39e25a01",
   "metadata": {},
   "outputs": [],
   "source": [
    "#repo = \"/sdf/group/rubin/repo/main\"\n",
    "repo=\"/sdf/group/rubin/repo/oga/\"\n",
    "butler = dafButler.Butler(repo)\n",
    "registry = butler.registry"
   ]
  },
  {
   "cell_type": "code",
   "execution_count": null,
   "id": "e68ef2a0-a34e-4394-b146-e7f8e1fdb63b",
   "metadata": {},
   "outputs": [],
   "source": [
    "# Assembly task\n",
    "# https://github.com/lsst/ip_isr/blob/main/python/lsst/ip/isr/isrTask.py\n",
    "\n",
    "from lsst.ip.isr.assembleCcdTask import (AssembleCcdConfig, AssembleCcdTask)\n",
    "from lsst.ip.isr.isrTask import (IsrTask, IsrTaskConfig)"
   ]
  },
  {
   "cell_type": "markdown",
   "id": "7f19fb5d-52b7-4819-8544-d2af41bc62ee",
   "metadata": {},
   "source": [
    "## List of Exposures from raw"
   ]
  },
  {
   "cell_type": "code",
   "execution_count": null,
   "id": "74eedc9c-0c58-4147-90bc-ae5f4826fae5",
   "metadata": {},
   "outputs": [],
   "source": [
    "df_exposure = pd.DataFrame(columns=['id', 'obs_id','day_obs', 'seq_num','time_start','time_end' ,'type', 'target','filter','zenith_angle','expos','ra','dec','skyangle','science_program','jd','mjd'])"
   ]
  },
  {
   "cell_type": "code",
   "execution_count": null,
   "id": "21511621-0c1f-4ada-9134-47e1fb3081c0",
   "metadata": {},
   "outputs": [],
   "source": [
    "for count, info in enumerate(registry.queryDimensionRecords('exposure',where= \"instrument='LATISS'\")):\n",
    "    \n",
    "    df_exposure.loc[count] = [info.id, info.obs_id, info.day_obs, info.seq_num,pd.to_datetime(info.timespan.begin.to_string()),pd.to_datetime(info.timespan.end.to_string()) ,info.observation_type, info.target_name, info.physical_filter, info.zenith_angle, \\\n",
    "                             info.exposure_time,info.tracking_ra, info.tracking_dec, info.sky_angle, info.science_program,\n",
    "                             info.timespan.begin.jd,info.timespan.begin.mjd ]\n",
    "    \n",
    "    if count < 2:\n",
    "        print(\"-----------------------------------------------------\",count,\"---------------------------------------------------------\")\n",
    "        print(info)\n",
    "        print(\"\\t id:                  \",info.id)\n",
    "        print(\"\\t day_obs:             \",info.day_obs)\n",
    "        print(\"\\t seq_num:             \",info.seq_num)\n",
    "        print(\"\\t type-of-observation: \",info.observation_type)\n",
    "        print(\"\\t target:              \",info.target_name)\n",
    "        \n",
    "        mjd = Time(info.timespan.begin.to_string()).mjd\n",
    "        jd = Time(info.timespan.begin.to_string()).jd\n",
    "        print(mjd,jd)\n",
    "    "
   ]
  },
  {
   "cell_type": "code",
   "execution_count": null,
   "id": "09347e6d-92ca-40f4-b223-a95f02f3f484",
   "metadata": {},
   "outputs": [],
   "source": [
    "df_exposure"
   ]
  },
  {
   "cell_type": "markdown",
   "id": "323b7c09-00c3-46c7-b542-9651b4de493d",
   "metadata": {},
   "source": [
    "## Selection of flats raw-exposures"
   ]
  },
  {
   "cell_type": "code",
   "execution_count": null,
   "id": "74fd2466-f031-465e-b36c-9680532fe9b3",
   "metadata": {},
   "outputs": [],
   "source": [
    "df_flat = df_exposure[df_exposure.type == 'flat']"
   ]
  },
  {
   "cell_type": "code",
   "execution_count": null,
   "id": "eea99dca-791a-43d2-85ec-e8d098526141",
   "metadata": {},
   "outputs": [],
   "source": [
    "df_flat = df_flat.sort_values(by=\"day_obs\",ascending=True)"
   ]
  },
  {
   "cell_type": "code",
   "execution_count": null,
   "id": "9211a892-867c-4fc4-a546-fc96db89ca79",
   "metadata": {},
   "outputs": [],
   "source": [
    "df_flat.tail(50)"
   ]
  },
  {
   "cell_type": "markdown",
   "id": "6f8c44aa-62aa-4226-9d23-b219712542e9",
   "metadata": {},
   "source": [
    "# List of dates"
   ]
  },
  {
   "cell_type": "code",
   "execution_count": null,
   "id": "d1b0dc9b-d8f5-4d3b-b2e8-159b09998bb7",
   "metadata": {},
   "outputs": [],
   "source": [
    "list_of_dates_flats = df_flat['day_obs'].unique() \n",
    "list_of_dates_flats"
   ]
  },
  {
   "cell_type": "markdown",
   "id": "06348b5b-779d-4eed-8059-ac9375f56f4c",
   "metadata": {},
   "source": [
    "# List of filters"
   ]
  },
  {
   "cell_type": "code",
   "execution_count": null,
   "id": "341ce701-0914-48f9-8f34-91ca7bdf0f15",
   "metadata": {},
   "outputs": [],
   "source": [
    "list_of_filters = df_flat['filter'].unique()\n",
    "list_of_filters"
   ]
  },
  {
   "cell_type": "markdown",
   "id": "74af1a59-e22a-4d4c-9bc7-b8ff6719acce",
   "metadata": {},
   "source": [
    "# Selection of the filter"
   ]
  },
  {
   "cell_type": "code",
   "execution_count": null,
   "id": "5df27ea4-797a-4fcf-b9ad-6c09b60f9e6f",
   "metadata": {
    "tags": []
   },
   "outputs": [],
   "source": [
    "cut_filter = df_flat['filter'] == 'empty~empty'"
   ]
  },
  {
   "cell_type": "code",
   "execution_count": null,
   "id": "9f7e33ee-ab2f-4f1d-879c-93865f00d15c",
   "metadata": {
    "tags": []
   },
   "outputs": [],
   "source": [
    "for the_date in list_of_dates_flats:\n",
    "    cut_date = df_flat['day_obs'] == the_date\n",
    "    cut_combined = cut_date & cut_filter\n",
    "    \n",
    "    df_flat_this_date = df_flat[cut_combined]\n",
    "    \n",
    "    N = len(df_flat_this_date) \n",
    "    if N >0:\n",
    "        print(\"=======================================================================\")   \n",
    "        print(f\"{the_date} :: N={N}\")\n",
    "        print(df_flat_this_date.id.values)\n",
    "    "
   ]
  },
  {
   "cell_type": "markdown",
   "id": "dc3157ff-8f5c-4bb6-b524-64e636e1eecb",
   "metadata": {},
   "source": [
    "# View"
   ]
  },
  {
   "cell_type": "code",
   "execution_count": null,
   "id": "4dd940b9-3fc7-4c38-bed7-7d6cc26085cd",
   "metadata": {
    "tags": []
   },
   "outputs": [],
   "source": [
    "cut_date = df_flat['day_obs'] == 20230214\n",
    "cut_combined = cut_date & cut_filter"
   ]
  },
  {
   "cell_type": "code",
   "execution_count": null,
   "id": "f45aadf1-f157-4c79-919d-9e3a2650b24f",
   "metadata": {
    "tags": []
   },
   "outputs": [],
   "source": [
    "df_flat_this_date = df_flat[cut_combined]"
   ]
  },
  {
   "cell_type": "code",
   "execution_count": null,
   "id": "537f7d18-b810-44bf-ae3e-be7e2cb1d8d7",
   "metadata": {
    "tags": []
   },
   "outputs": [],
   "source": [
    "N = len(df_flat_this_date)\n",
    "df_flat_this_date = df_flat_this_date.sort_values(by=\"id\").reset_index()"
   ]
  },
  {
   "cell_type": "code",
   "execution_count": null,
   "id": "78ad7833-deae-4af7-8aa0-cebee6864db0",
   "metadata": {
    "tags": []
   },
   "outputs": [],
   "source": [
    "df_flat_this_date "
   ]
  },
  {
   "cell_type": "code",
   "execution_count": null,
   "id": "40849df5-ed67-49a9-8fea-9baadb0c8eba",
   "metadata": {
    "tags": []
   },
   "outputs": [],
   "source": [
    "collection='LATISS/raw/all'\n",
    "\n",
    "# loop on exposures\n",
    "for idx in range(N):\n",
    "    exposure_selected=df_flat_this_date.iloc[idx].id \n",
    "    \n",
    "   \n",
    "    raw_img = butler.get('raw', dataId={'exposure': exposure_selected, 'instrument': 'LATISS', 'detector': 0}, collections = collection)\n",
    "\n",
    "    fig = plt.figure(figsize=(12,10))\n",
    "    afw_display = afwDisplay.Display(frame=fig)\n",
    "    afw_display.scale('linear', 'zscale',None)\n",
    "    title = f\"raw flat : {exposure_selected}\"\n",
    "    afw_display.mtv(raw_img.image,title=title)\n",
    "    #plt.gca().axis('off')\n",
    "    "
   ]
  },
  {
   "cell_type": "markdown",
   "id": "ca3cadf5-000e-447b-a3b8-b3623b30ae91",
   "metadata": {},
   "source": [
    "## Assembly task\n",
    "- examples here : \n",
    "https://github.com/lsst/ip_isr/blob/main/tests/test_assembleCcd.py"
   ]
  },
  {
   "cell_type": "code",
   "execution_count": null,
   "id": "f540477c-9740-445e-b2ba-bfdf58e20469",
   "metadata": {
    "tags": []
   },
   "outputs": [],
   "source": [
    "ass_config = AssembleCcdConfig(doTrim=True,keysToRemove=['SHEEP', 'MONKEYS', 'ZSHEEP'])\n",
    "ass_task = AssembleCcdTask(config=ass_config)"
   ]
  },
  {
   "cell_type": "code",
   "execution_count": null,
   "id": "24a378a9-336b-4253-9d81-1a9eafa2be02",
   "metadata": {
    "tags": []
   },
   "outputs": [],
   "source": [
    "collection='LATISS/raw/all'\n",
    "\n",
    "# loop on exposures\n",
    "for idx in range(N):\n",
    "    exposure_selected=df_flat_this_date.iloc[idx].id \n",
    "    \n",
    "   \n",
    "    raw_img = butler.get('raw', dataId={'exposure': exposure_selected, 'instrument': 'LATISS', 'detector': 0}, collections = collection)\n",
    "    ass_img = ass_task.assembleCcd(raw_img)\n",
    "\n",
    "    fig = plt.figure(figsize=(12,10))\n",
    "    afw_display = afwDisplay.Display(frame=fig)\n",
    "    afw_display.scale('linear', 'zscale',None)\n",
    "    title = f\"raw flat : {exposure_selected}\"\n",
    "    afw_display.mtv(ass_img.image,title=title)\n",
    "    #plt.gca().axis('off')\n",
    "    "
   ]
  },
  {
   "cell_type": "markdown",
   "id": "c616270e-8a9c-4c4f-9cce-52622c6ec4dd",
   "metadata": {},
   "source": [
    "# Select One Flat\n",
    "\n",
    "https://github.com/lsst/cp_pipe/blob/main/python/lsst/cp/pipe/cpFlatNormTask.py"
   ]
  },
  {
   "cell_type": "code",
   "execution_count": null,
   "id": "cafbf09b-0e3a-472d-82b0-0d31347ee80a",
   "metadata": {
    "tags": []
   },
   "outputs": [],
   "source": [
    "idx_sel= 0\n",
    "exposure_selected=df_flat_this_date.iloc[idx_sel].id     \n",
    "raw_img = butler.get('raw', dataId={'exposure': exposure_selected, 'instrument': 'LATISS', 'detector': 0}, collections = collection)\n",
    "ass_img = ass_task.assembleCcd(raw_img)"
   ]
  },
  {
   "cell_type": "code",
   "execution_count": null,
   "id": "33b2526d-e105-4666-9130-547856d6422d",
   "metadata": {
    "tags": []
   },
   "outputs": [],
   "source": [
    "for ampIdx, amp in enumerate(ass_img.getDetector()):\n",
    "    ampName = amp.getName()\n",
    "    # This can work only on postISRCCD\n",
    "    ampExp = ass_img.Factory(ass_img, amp.getBBox())\n",
    "    \n",
    "    fig = plt.figure(figsize=(5,10))\n",
    "    afw_display = afwDisplay.Display(frame=fig)\n",
    "    afw_display.scale('linear', 'zscale',None)\n",
    "    title = f\"raw flat : {exposure_selected}, ampl = {ampName}\"\n",
    "    afw_display.mtv(ampExp.image,title=title)"
   ]
  },
  {
   "cell_type": "markdown",
   "id": "e6d1a696-b6da-4915-8110-1d450b167658",
   "metadata": {},
   "source": [
    "# Perform ISR on the Flat Exposure\n",
    "\n",
    "- overscan\n",
    "- defect\n",
    "- bias"
   ]
  },
  {
   "cell_type": "code",
   "execution_count": null,
   "id": "66e3d5b0-912b-4dbb-a569-d15acb03e1ba",
   "metadata": {},
   "outputs": [],
   "source": [
    "for c in sorted(registry.queryCollections()):\n",
    "    if \"calib\" in c:\n",
    "        print(c)"
   ]
  },
  {
   "cell_type": "code",
   "execution_count": null,
   "id": "62a58c67-3bef-4c27-8e4d-899f5ea7869e",
   "metadata": {
    "tags": []
   },
   "outputs": [],
   "source": [
    "# configuration\n",
    "isr_config =  IsrTaskConfig()"
   ]
  },
  {
   "cell_type": "code",
   "execution_count": null,
   "id": "05f2cc82-84d5-46ea-bb7f-0e9658cb9749",
   "metadata": {
    "tags": []
   },
   "outputs": [],
   "source": [
    "isr_config.doDark = False\n",
    "isr_config.doFlat =  False\n",
    "isr_config.doFringe = False\n",
    "isr_config.doDefect = True\n",
    "isr_config.doLinearize = False\n",
    "isr_config.doCrosstalk =  False\n",
    "isr_config.doSaturationInterpolation = False\n",
    "isr_config.overscan.fitType: 'MEDIAN_PER_ROW'\n",
    "isr_config.doBias: True"
   ]
  },
  {
   "cell_type": "code",
   "execution_count": null,
   "id": "3c111bb2-d7ae-4dcc-a4c9-ffb66f575375",
   "metadata": {
    "tags": []
   },
   "outputs": [],
   "source": [
    "isr_task = IsrTask(config=isr_config)"
   ]
  },
  {
   "cell_type": "code",
   "execution_count": null,
   "id": "e1c94781-e902-4736-af2f-e45bbd1805d9",
   "metadata": {
    "tags": []
   },
   "outputs": [],
   "source": [
    "calibType = 'bias'\n",
    "physical_filter = 'empty~empty'\n",
    "cameraName = 'LATISS'\n",
    "# Collection name containing the verification outputs.\n",
    "calibCollections = ['LATISS/calib','LATISS/raw/all',\\\n",
    "'LATISS/calib/DM-28636',\\\n",
    "'LATISS/calib/DM-28636/curated/19700101T000000Z',\\\n",
    "'LATISS/calib/DM-28636/curated/20180101T000000Z',\\\n",
    "'LATISS/calib/DM-28636/unbounded',\\\n",
    "'LATISS/calib/DM-33875',\\\n",
    "'LATISS/calib/DM-36484/bias.20221005a',\\\n",
    "'LATISS/calib/DM-36484/biasGen.20221005a',\\\n",
    "'LATISS/calib/DM-36484/biasGen.20221005a/20221006T000101Z',\\\n",
    "'LATISS/calib/DM-36484/dark.20221006a',\\\n",
    "'LATISS/calib/DM-36484/darkGen.20221005a',\\\n",
    "'LATISS/calib/DM-36484/darkGen.20221005a/20221006T222501Z',\\\n",
    "'LATISS/calib/DM-36484/darkGen.20221006a',\\\n",
    "'LATISS/calib/DM-36484/darkGen.20221006a/20221006T222921Z',\\\n",
    "'LATISS/calib/DM-36484/flat-SDSSg.20221006a',\\\n",
    "'LATISS/calib/DM-36484/flat-SDSSi.20221006a',\\\n",
    "'LATISS/calib/DM-36484/flat-SDSSr.20221006a',\\\n",
    "'LATISS/calib/DM-36484/flatGen-SDSSg.20221006a',\\\n",
    "'LATISS/calib/DM-36484/flatGen-SDSSg.20221006a/20221007T002703Z',\\\n",
    "'LATISS/calib/DM-36484/flatGen-SDSSi.20221006a',\\\n",
    "'LATISS/calib/DM-36484/flatGen-SDSSi.20221006a/20221007T003732Z',\\\n",
    "'LATISS/calib/DM-36484/flatGen-SDSSiD.20221006a',\\\n",
    "'LATISS/calib/DM-36484/flatGen-SDSSiD.20221006a/20221007T004708Z',\\\n",
    "'LATISS/calib/DM-36484/flatGen-SDSSr.20221006a',\\\n",
    "'LATISS/calib/DM-36484/flatGen-SDSSr.20221006a/20221006T233657Z',\\\n",
    "'LATISS/calib/DM-36484/verifyBias.20221005a',\\\n",
    "'LATISS/calib/DM-36484/verifyBias.20221005a/20221006T000747Z',\\\n",
    "'LATISS/calib/DM-36484/verifyBias.20221005a/20221006T213237Z',\\\n",
    "'LATISS/calib/DM-36484/verifyBias.20221005b',\\\n",
    "'LATISS/calib/DM-36484/verifyBias.20221005b/20221019T205236Z',\\\n",
    "'LATISS/calib/DM-36484/verifyDark.20221006a',\\\n",
    "'LATISS/calib/DM-36484/verifyDark.20221006a/20221006T224403Z',\\\n",
    "'LATISS/calib/DM-36484/verifyFlat-SDSSg.20221006a',\\\n",
    "'LATISS/calib/DM-36484/verifyFlat-SDSSg.20221006a/20221007T003418Z',\\\n",
    "'LATISS/calib/DM-36484/verifyFlat-SDSSi.20221006a',\\\n",
    "'LATISS/calib/DM-36484/verifyFlat-SDSSi.20221006a/20221007T004423Z',\\\n",
    "'LATISS/calib/DM-36484/verifyFlat-SDSSr.20221006a',\\\n",
    "'LATISS/calib/DM-36484/verifyFlat-SDSSr.20221006a/20221006T234341Z',\\\n",
    "'LATISS/calib/DM-36719',\\\n",
    "'LATISS/calib/DM-36719/bias.20221107',\\\n",
    "'LATISS/calib/DM-36719/biasGen.20221107a',\\\n",
    "'LATISS/calib/DM-36719/biasGen.20221107a/20221107T205127Z',\\\n",
    "'LATISS/calib/DM-36719/biasGen.20221107b',\\\n",
    "'LATISS/calib/DM-36719/biasGen.20221107b/20221107T213306Z',\\\n",
    "'LATISS/calib/DM-36719/dark.20221107',\\\n",
    "'LATISS/calib/DM-36719/darkGen.20221107a',\\\n",
    "'LATISS/calib/DM-36719/darkGen.20221107a/20221107T223409Z',\\\n",
    "'LATISS/calib/DM-36719/flat-SDSSg.20221107',\\\n",
    "'LATISS/calib/DM-36719/flat-SDSSi.20221107',\\\n",
    "'LATISS/calib/DM-36719/flat-SDSSr.20221107',\\\n",
    "'LATISS/calib/DM-36719/flatGen-SDSSg.20221107a',\\\n",
    "'LATISS/calib/DM-36719/flatGen-SDSSg.20221107a/20221108T002737Z',\\\n",
    "'LATISS/calib/DM-36719/flatGen-SDSSi.20221107a',\\\n",
    "'LATISS/calib/DM-36719/flatGen-SDSSi.20221107a/20221108T005202Z',\\\n",
    "'LATISS/calib/DM-36719/flatGen-SDSSr.20221107a',\\\n",
    "'LATISS/calib/DM-36719/flatGen-SDSSr.20221107a/20221107T235401Z',\\\n",
    "'LATISS/calib/DM-36719/ptcGen-SDSSr.20221107a',\\\n",
    "'LATISS/calib/DM-36719/ptcGen-SDSSr.20221107a/20221108T180421Z',\\\n",
    "'LATISS/calib/DM-36719/verifyBias.20221107b',\\\n",
    "'LATISS/calib/DM-36719/verifyBias.20221107b/20221107T220410Z',\\\n",
    "'LATISS/calib/DM-36719/verifyDark.20221107a',\\\n",
    "'LATISS/calib/DM-36719/verifyDark.20221107a/20221107T232823Z',\\\n",
    "'LATISS/calib/DM-36719/verifyFlat-SDSSg.20221107a',\\\n",
    "'LATISS/calib/DM-36719/verifyFlat-SDSSg.20221107a/20221108T004225Z',\\\n",
    "'LATISS/calib/DM-36719/verifyFlat-SDSSi.20221107a',\\\n",
    "'LATISS/calib/DM-36719/verifyFlat-SDSSi.20221107a/20221108T012110Z',\\\n",
    "'LATISS/calib/DM-36719/verifyFlat-SDSSi.20221107a/20221108T014950Z',\\\n",
    "'LATISS/calib/DM-36719/verifyFlat-SDSSr.20221107a',\\\n",
    "'LATISS/calib/DM-36719/verifyFlat-SDSSr.20221107a/20221108T000940Z',\\\n",
    "'LATISS/calib/DM-37587/flat-BG40.20230113a',\\\n",
    "'LATISS/calib/DM-37587/flat-OG550.20230113a',\\\n",
    "'LATISS/calib/DM-37587/flat-SDSSr.20230113a',\\\n",
    "'LATISS/calib/DM-37587/flatGen-BG40.20230113a',\\\n",
    "'LATISS/calib/DM-37587/flatGen-BG40.20230113a/20230113T211456Z',\\\n",
    "'LATISS/calib/DM-37587/flatGen-OG550.20230113b',\\\n",
    "'LATISS/calib/DM-37587/flatGen-OG550.20230113b/20230113T213305Z',\\\n",
    "'LATISS/calib/DM-37587/flatGen-SDSSr.20230113c',\\\n",
    "'LATISS/calib/DM-37587/flatGen-SDSSr.20230113c/20230113T214159Z',\\\n",
    "'LATISS/calib/DM-37587/verifyFlat-BG40.20230113a',\\\n",
    "'LATISS/calib/DM-37587/verifyFlat-BG40.20230113a/20230113T212641Z',\\\n",
    "'LATISS/calib/DM-37587/verifyFlat-OG550.20230113b',\\\n",
    "'LATISS/calib/DM-37587/verifyFlat-OG550.20230113b/20230113T213804Z',\\\n",
    "'LATISS/calib/DM-37587/verifyFlat-SDSSr.20230113c',\\\n",
    "'LATISS/calib/DM-37587/verifyFlat-SDSSr.20230113c/20230113T220628Z',\\\n",
    "'LATISS/calib/unbounded',\\\n",
    "'LSSTCam/calib/DM-36442/bias.20221026a',\\\n",
    "'LSSTCam/calib/DM-36442/bias.20221026b',\\\n",
    "'LSSTCam/calib/DM-36442/dark.20221026a',\\\n",
    "'LSSTCam/calib/DM-36442/dark.20221026b',\\\n",
    "'LSSTCam/calib/DM-36442/defects.20221026a',\\\n",
    "'LSSTCam/calib/DM-36442/defects.20221026b',\\\n",
    "'LSSTCam/calib/DM-36442/flat.20221026a',\\\n",
    "'LSSTCam/calib/DM-36442/flat.20221026b',\\\n",
    "'LSSTCam/calib/DM-36442/linearity.20221026a',\\\n",
    "'LSSTCam/calib/DM-36442/linearity.20221026b',\\\n",
    "'LSSTComCam/calib',\\\n",
    "'LSSTComCam/calib/DM-28636',\\\n",
    "'LSSTComCam/calib/DM-28636/unbounded',\\\n",
    "'LSSTComCam/calib/DM-33657',\\\n",
    "'LSSTComCam/calib/unbounded',\\\n",
    "'u/calib/DM-32209-20211013a-felh',\\\n",
    "'u/calib/DM-32209-20211013a-g',\\\n",
    "'u/czw/DM-28920/calib/bias.20210720',\\\n",
    "'u/czw/DM-28920/calib/dark.20210720a',\\\n",
    "'u/czw/DM-28920/calib/defect.20210720a',\\\n",
    "'u/czw/DM-28920/calib/flat.20210720',\\\n",
    "'u/czw/DM-37811/parOStest.20230201a/calib',\\\n",
    "'u/czw/DM-37811/parOStest.20230201a/calib/bias.20230201a',\\\n",
    "'u/czw/DM-37811/parOStest.20230201a/calib/dark.20230201b',\\\n",
    "'u/czw/DM-37811/parOStest.20230201a/calib/flat-SDSSi.20230201c',\\\n",
    "'u/czw/DM-37811/parOStest.20230202a/calib',\\\n",
    "'u/czw/DM-37811/parOStest.20230202a/calib/bias.20230202a',\\\n",
    "'u/czw/DM-37811/parOStest.20230202a/calib/dark.20230202a',\\\n",
    "'u/czw/DM-37811/parOStest.20230202a/calib/flat-BG40.20230207a',\\\n",
    "'u/czw/DM-37811/parOStest.20230202a/calib/flat-OG550.20230207a',\\\n",
    "'u/czw/DM-37811/parOStest.20230202a/calib/flat-SDSSg.20230203a',\\\n",
    "'u/czw/DM-37811/parOStest.20230202a/calib/flat-SDSSi.20230202a',\\\n",
    "'u/czw/DM-37811/parOStest.20230202a/calib/flat-SDSSr.20230203a',\\\n",
    "'u/czw/DM-38434/linearized/calib',\\\n",
    "'u/czw/DM-38434/linearized/calib/bias.20230324a',\\\n",
    "'u/czw/DM-38434/linearized/calib/dark.20230324a',\\\n",
    "'u/czw/DM-38434/linearized/calib/flat-SDSSr.20230324a',\\\n",
    "'u/czw/DM-38434/linearized/calib/linearity.',\\\n",
    "'u/czw/calibX.20220608']"
   ]
  },
  {
   "cell_type": "code",
   "execution_count": null,
   "id": "f2704b1b-d880-4049-a51b-bf1ec0641783",
   "metadata": {
    "tags": []
   },
   "outputs": [],
   "source": [
    "butler = dafButler.Butler(repo, collections=calibCollections)\n",
    "camera = butler.get('camera', instrument=cameraName)\n",
    "bias = butler.get('bias',instrument=cameraName,detector=0)\n",
    "defects = butler.get('defects',instrument=cameraName,detector=0)"
   ]
  },
  {
   "cell_type": "code",
   "execution_count": null,
   "id": "2a5a706b-29ad-4f58-80ca-65a7f0428d6a",
   "metadata": {
    "tags": []
   },
   "outputs": [],
   "source": [
    "fig = plt.figure(figsize=(12,10))\n",
    "afw_display = afwDisplay.Display(frame=fig)\n",
    "afw_display.scale('linear', 'zscale',None)\n",
    "title = f\"Master bias \"\n",
    "afw_display.mtv(bias.image,title=title)"
   ]
  },
  {
   "cell_type": "markdown",
   "id": "1ab5a16c-9810-4ad2-9e97-7d1769512a85",
   "metadata": {},
   "source": [
    "### Perform  ISR on one raw Flat exposure"
   ]
  },
  {
   "cell_type": "code",
   "execution_count": null,
   "id": "7b35098c-6838-424c-9818-34868ec1ee85",
   "metadata": {
    "tags": []
   },
   "outputs": [],
   "source": [
    "isr_img = isr_task.run(raw_img,bias=bias,defects=defects)"
   ]
  },
  {
   "cell_type": "code",
   "execution_count": null,
   "id": "a1e45cb3-21b9-4e3e-b0ff-d8277be921cc",
   "metadata": {
    "tags": []
   },
   "outputs": [],
   "source": [
    "fig = plt.figure(figsize=(12,10))\n",
    "afw_display = afwDisplay.Display(frame=fig)\n",
    "afw_display.scale('linear', 'zscale',None)\n",
    "title = f\"unbiased flat : {exposure_selected}\"\n",
    "afw_display.mtv(isr_img.exposure.image,title=title)"
   ]
  },
  {
   "cell_type": "markdown",
   "id": "83eefb64-0ed9-4acf-a1e5-e4346e2cd6ca",
   "metadata": {},
   "source": [
    "### View each individual exposures"
   ]
  },
  {
   "cell_type": "code",
   "execution_count": null,
   "id": "d44199a1-f66d-4316-9ce3-2c38fc5c1f6d",
   "metadata": {
    "tags": []
   },
   "outputs": [],
   "source": [
    "for ampIdx, amp in enumerate(isr_img.exposure.getDetector()):\n",
    "    ampName = amp.getName()\n",
    "    # This can work only on postISRCCD\n",
    "    ampExp = isr_img.exposure.Factory(isr_img.exposure, amp.getBBox())\n",
    "    \n",
    "    fig = plt.figure(figsize=(5,10))\n",
    "    afw_display = afwDisplay.Display(frame=fig)\n",
    "    afw_display.scale('linear', 'zscale',None)\n",
    "    title = f\"unbiased flat : {exposure_selected}, ampl = {ampName}\"\n",
    "    afw_display.mtv(ampExp.image,title=title)"
   ]
  },
  {
   "cell_type": "code",
   "execution_count": null,
   "id": "244b3448-03e5-4504-bf80-9818bf397004",
   "metadata": {},
   "outputs": [],
   "source": []
  }
 ],
 "metadata": {
  "kernelspec": {
   "display_name": "LSST",
   "language": "python",
   "name": "lsst"
  },
  "language_info": {
   "codemirror_mode": {
    "name": "ipython",
    "version": 3
   },
   "file_extension": ".py",
   "mimetype": "text/x-python",
   "name": "python",
   "nbconvert_exporter": "python",
   "pygments_lexer": "ipython3",
   "version": "3.10.9"
  }
 },
 "nbformat": 4,
 "nbformat_minor": 5
}
