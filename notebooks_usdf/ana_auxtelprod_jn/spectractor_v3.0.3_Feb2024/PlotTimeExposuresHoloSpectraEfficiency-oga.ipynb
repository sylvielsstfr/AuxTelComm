{
 "cells": [
  {
   "cell_type": "markdown",
   "id": "de6ce8d1-1d11-47b4-889c-556e47ad83ff",
   "metadata": {
    "execution": {
     "iopub.execute_input": "2023-11-27T15:03:21.584340Z",
     "iopub.status.busy": "2023-11-27T15:03:21.583969Z",
     "iopub.status.idle": "2023-11-27T15:03:21.587270Z",
     "shell.execute_reply": "2023-11-27T15:03:21.586902Z",
     "shell.execute_reply.started": "2023-11-27T15:03:21.584327Z"
    },
    "tags": []
   },
   "source": [
    "# Compare the number of hologram expsure with the number of spectra\n",
    "\n",
    "- Author : Sylvie Dagoret-Campagne\n",
    "- creation date : 2024-02-19\n",
    "- last update : 2024-02-19\n",
    "- affiliation : IJCLab/IN2P3/CNRS\n",
    "- Work with w_2024_07\n",
    "\n",
    "The goal is to check the number of data available, their date."
   ]
  },
  {
   "cell_type": "markdown",
   "id": "c334e0f8-0f4b-4afa-b0d8-0924368b2177",
   "metadata": {},
   "source": [
    "## Imports"
   ]
  },
  {
   "cell_type": "code",
   "execution_count": 1,
   "id": "245c853f-f3f1-42ac-a0c2-91c714df4561",
   "metadata": {
    "execution": {
     "iopub.execute_input": "2024-02-19T16:31:00.733107Z",
     "iopub.status.busy": "2024-02-19T16:31:00.732979Z",
     "iopub.status.idle": "2024-02-19T16:31:02.081483Z",
     "shell.execute_reply": "2024-02-19T16:31:02.081007Z",
     "shell.execute_reply.started": "2024-02-19T16:31:00.733093Z"
    }
   },
   "outputs": [],
   "source": [
    "import matplotlib.pyplot as plt\n",
    "import matplotlib as mpl\n",
    "import numpy as np\n",
    "import pandas as pd\n",
    "import matplotlib.gridspec as gridspec\n",
    "from spectractor.tools import from_lambda_to_colormap, wavelength_to_rgb\n",
    "#%matplotlib widget \n",
    "import h5py\n",
    "from scipy import interpolate\n",
    "from astropy.time import Time"
   ]
  },
  {
   "cell_type": "code",
   "execution_count": 2,
   "id": "04b5b9da-1c64-4e0b-a1a0-d623ceca59be",
   "metadata": {
    "execution": {
     "iopub.execute_input": "2024-02-19T16:31:02.083032Z",
     "iopub.status.busy": "2024-02-19T16:31:02.082741Z",
     "iopub.status.idle": "2024-02-19T16:31:02.087656Z",
     "shell.execute_reply": "2024-02-19T16:31:02.087324Z",
     "shell.execute_reply.started": "2024-02-19T16:31:02.083018Z"
    }
   },
   "outputs": [],
   "source": [
    "import matplotlib.ticker\n",
    "%matplotlib inline"
   ]
  },
  {
   "cell_type": "code",
   "execution_count": 3,
   "id": "7f285fb8-916c-4011-8243-0646d12341a8",
   "metadata": {
    "execution": {
     "iopub.execute_input": "2024-02-19T16:31:02.088268Z",
     "iopub.status.busy": "2024-02-19T16:31:02.088145Z",
     "iopub.status.idle": "2024-02-19T16:31:02.093873Z",
     "shell.execute_reply": "2024-02-19T16:31:02.093540Z",
     "shell.execute_reply.started": "2024-02-19T16:31:02.088256Z"
    }
   },
   "outputs": [],
   "source": [
    "import spectractor\n",
    "from spectractor.simulation.throughput import load_transmission,plot_transmission_simple,TelescopeTransmission\n",
    "from spectractor import parameters\n",
    "from spectractor.extractor import dispersers\n",
    "from spectractor.config import load_config,set_logger\n",
    "import os,sys"
   ]
  },
  {
   "cell_type": "code",
   "execution_count": 4,
   "id": "66b63b47-9d63-487f-beee-157f95ee0af4",
   "metadata": {
    "execution": {
     "iopub.execute_input": "2024-02-19T16:31:02.094444Z",
     "iopub.status.busy": "2024-02-19T16:31:02.094317Z",
     "iopub.status.idle": "2024-02-19T16:31:02.096743Z",
     "shell.execute_reply": "2024-02-19T16:31:02.096427Z",
     "shell.execute_reply.started": "2024-02-19T16:31:02.094432Z"
    }
   },
   "outputs": [],
   "source": [
    "plt.rcParams[\"figure.figsize\"] = (8,8)\n",
    "plt.rcParams[\"axes.labelsize\"] = 'xx-large'\n",
    "plt.rcParams['axes.titlesize'] = 'xx-large'\n",
    "plt.rcParams['xtick.labelsize']= 'xx-large'\n",
    "plt.rcParams['ytick.labelsize']= 'xx-large'\n",
    "plt.rcParams['legend.fontsize']=  12\n",
    "plt.rcParams['font.size'] = 12"
   ]
  },
  {
   "cell_type": "code",
   "execution_count": 5,
   "id": "53dfcc69-f7b0-49b3-8131-0df1c5ca7120",
   "metadata": {
    "execution": {
     "iopub.execute_input": "2024-02-19T16:31:02.097341Z",
     "iopub.status.busy": "2024-02-19T16:31:02.097200Z",
     "iopub.status.idle": "2024-02-19T16:31:03.371302Z",
     "shell.execute_reply": "2024-02-19T16:31:03.370921Z",
     "shell.execute_reply.started": "2024-02-19T16:31:02.097327Z"
    },
    "tags": []
   },
   "outputs": [
    {
     "name": "stdout",
     "output_type": "stream",
     "text": [
      "u/dagoret/auxtel_atmo_202101_v3.0.3_doGainsPTC_rebin2_231208\n",
      "u/dagoret/auxtel_atmo_202101_v3.0.3_doGainsPTC_rebin2_231208/20231220T142452Z\n",
      "u/dagoret/auxtel_atmo_202209_v3.0.3_doGainsPTC_rebin2_231221\n",
      "u/dagoret/auxtel_atmo_202209_v3.0.3_doGainsPTC_rebin2_231221/20231221T125249Z\n",
      "u/dagoret/auxtel_atmo_202301_v3.0.3_doGainsNOPTC_rebin2_231208\n",
      "u/dagoret/auxtel_atmo_202301_v3.0.3_doGainsNOPTC_rebin2_231208/20231208T215202Z\n",
      "u/dagoret/auxtel_atmo_202301_v3.0.3_doGainsPTC_rebin2_231208\n",
      "u/dagoret/auxtel_atmo_202301_v3.0.3_doGainsPTC_rebin2_231208/20231208T211104Z\n",
      "u/dagoret/auxtel_atmo_202401_v3.0.3_doGainsNOPTC_rebin2_240201\n",
      "u/dagoret/auxtel_atmo_202401_v3.0.3_doGainsNOPTC_rebin2_240201/20240201T144534Z\n",
      "u/dagoret/auxtel_atmo_202401_v3.0.3_doGainsNOPTC_rebin2_240215_N149.5\n",
      "u/dagoret/auxtel_atmo_202401_v3.0.3_doGainsNOPTC_rebin2_240215_N149.5/20240215T190316Z\n",
      "u/dagoret/auxtel_atmo_202401_v3.0.3_doGainsNOPTC_rebin2_240215_N150\n",
      "u/dagoret/auxtel_atmo_202401_v3.0.3_doGainsNOPTC_rebin2_240215_N150/20240215T230239Z\n",
      "u/dagoret/auxtel_atmo_202401_v3.0.3_doGainsNOPTC_rebin2_240218_N149.5\n",
      "u/dagoret/auxtel_atmo_202401_v3.0.3_doGainsNOPTC_rebin2_240218_N149.5/20240218T220827Z\n",
      "u/dagoret/auxtel_atmo_202401_v3.0.3_doGainsNOPTC_rebin2_240218_N150\n",
      "u/dagoret/auxtel_atmo_202401_v3.0.3_doGainsNOPTC_rebin2_240218_N150/20240218T164355Z\n",
      "u/dagoret/auxtel_atmo_202401_v3.0.3_doGainsPTC_rebin2_240201\n",
      "u/dagoret/auxtel_atmo_202401_v3.0.3_doGainsPTC_rebin2_240201/20240201T144125Z\n",
      "u/dagoret/auxtel_atmo_202401_v3.0.3_doGainsPTC_rebin2_240215_N149.5\n",
      "u/dagoret/auxtel_atmo_202401_v3.0.3_doGainsPTC_rebin2_240215_N149.5/20240215T190209Z\n",
      "u/dagoret/auxtel_atmo_202401_v3.0.3_doGainsPTC_rebin2_240215_N150\n",
      "u/dagoret/auxtel_atmo_202401_v3.0.3_doGainsPTC_rebin2_240215_N150/20240215T230618Z\n",
      "u/dagoret/auxtel_atmo_202401_v3.0.3_doGainsPTC_rebin2_240218_N149.5\n",
      "u/dagoret/auxtel_atmo_202401_v3.0.3_doGainsPTC_rebin2_240218_N149.5/20240218T220917Z\n",
      "u/dagoret/auxtel_atmo_202401_v3.0.3_doGainsPTC_rebin2_240218_N150\n",
      "u/dagoret/auxtel_atmo_202401_v3.0.3_doGainsPTC_rebin2_240218_N150/20240218T164245Z\n",
      "u/dagoret/auxtel_atmosphere_202301_v3.0.3_doGainsPTC_rebin2\n",
      "u/dagoret/auxtel_atmosphere_202301_v3.0.3_doGainsPTC_rebin2/20231208T100936Z\n",
      "u/dagoret/auxtel_atmosphere_202301_v3.0.3_doGainsPTC_rebin2/20231208T130352Z\n"
     ]
    }
   ],
   "source": [
    "import lsst.daf.butler as dafButler\n",
    "\n",
    "repo = \"/repo/main\"\n",
    "repo = \"/repo/embargo\"\n",
    "# repo = \"LATISS\"\n",
    "butler = dafButler.Butler(repo)\n",
    "registry = butler.registry\n",
    "\n",
    "for c in sorted(registry.queryCollections()):\n",
    "    #if \"u/jneveu\" in c and \"auxtel_atmo\" in c:\n",
    "    #if \"u/dagoret\" in c:\n",
    "    if \"u/dagoret\" in c and \"auxtel_atmo\" in c:\n",
    "        print(c)"
   ]
  },
  {
   "cell_type": "markdown",
   "id": "3fa4b1b2-f357-4d0e-a71d-16e9bd59e59c",
   "metadata": {},
   "source": [
    "## Config"
   ]
  },
  {
   "cell_type": "code",
   "execution_count": 6,
   "id": "e4edeb2d-4ee9-41f9-84c7-13f022a0d889",
   "metadata": {
    "execution": {
     "iopub.execute_input": "2024-02-19T16:31:03.372087Z",
     "iopub.status.busy": "2024-02-19T16:31:03.371953Z",
     "iopub.status.idle": "2024-02-19T16:31:03.374189Z",
     "shell.execute_reply": "2024-02-19T16:31:03.373897Z",
     "shell.execute_reply.started": "2024-02-19T16:31:03.372074Z"
    }
   },
   "outputs": [],
   "source": [
    "file_specstats =\"spec_series_repo_embargo_29jan-15feb2024.csv\"\n",
    "file_exposstats =\"exposuresholo_series_repo_embargo_29jan-15feb2024.csv\""
   ]
  },
  {
   "cell_type": "markdown",
   "id": "9e03c322-3d16-4673-a81a-f772ca5fad5b",
   "metadata": {},
   "source": [
    "## Read file"
   ]
  },
  {
   "cell_type": "code",
   "execution_count": 7,
   "id": "1f31d75d-ad2d-476f-9920-579e28c825b4",
   "metadata": {
    "execution": {
     "iopub.execute_input": "2024-02-19T16:31:03.374804Z",
     "iopub.status.busy": "2024-02-19T16:31:03.374577Z",
     "iopub.status.idle": "2024-02-19T16:31:03.381755Z",
     "shell.execute_reply": "2024-02-19T16:31:03.381481Z",
     "shell.execute_reply.started": "2024-02-19T16:31:03.374791Z"
    }
   },
   "outputs": [],
   "source": [
    "df_exp = pd.read_csv(file_exposstats)\n",
    "df_spec = pd.read_csv(file_specstats)"
   ]
  },
  {
   "cell_type": "code",
   "execution_count": 9,
   "id": "cf98dc54-5da7-4e08-a84f-bbfffde8a037",
   "metadata": {
    "execution": {
     "iopub.execute_input": "2024-02-19T16:31:17.183781Z",
     "iopub.status.busy": "2024-02-19T16:31:17.183475Z",
     "iopub.status.idle": "2024-02-19T16:31:17.190028Z",
     "shell.execute_reply": "2024-02-19T16:31:17.189688Z",
     "shell.execute_reply.started": "2024-02-19T16:31:17.183767Z"
    }
   },
   "outputs": [
    {
     "data": {
      "text/html": [
       "<div>\n",
       "<style scoped>\n",
       "    .dataframe tbody tr th:only-of-type {\n",
       "        vertical-align: middle;\n",
       "    }\n",
       "\n",
       "    .dataframe tbody tr th {\n",
       "        vertical-align: top;\n",
       "    }\n",
       "\n",
       "    .dataframe thead th {\n",
       "        text-align: right;\n",
       "    }\n",
       "</style>\n",
       "<table border=\"1\" class=\"dataframe\">\n",
       "  <thead>\n",
       "    <tr style=\"text-align: right;\">\n",
       "      <th></th>\n",
       "      <th>day_obs</th>\n",
       "      <th>countVisitperBandperNight</th>\n",
       "    </tr>\n",
       "  </thead>\n",
       "  <tbody>\n",
       "    <tr>\n",
       "      <th>0</th>\n",
       "      <td>20240129</td>\n",
       "      <td>10</td>\n",
       "    </tr>\n",
       "    <tr>\n",
       "      <th>1</th>\n",
       "      <td>20240130</td>\n",
       "      <td>10</td>\n",
       "    </tr>\n",
       "    <tr>\n",
       "      <th>2</th>\n",
       "      <td>20240131</td>\n",
       "      <td>2</td>\n",
       "    </tr>\n",
       "    <tr>\n",
       "      <th>3</th>\n",
       "      <td>20240205</td>\n",
       "      <td>8</td>\n",
       "    </tr>\n",
       "    <tr>\n",
       "      <th>4</th>\n",
       "      <td>20240206</td>\n",
       "      <td>46</td>\n",
       "    </tr>\n",
       "    <tr>\n",
       "      <th>5</th>\n",
       "      <td>20240207</td>\n",
       "      <td>12</td>\n",
       "    </tr>\n",
       "    <tr>\n",
       "      <th>6</th>\n",
       "      <td>20240212</td>\n",
       "      <td>20</td>\n",
       "    </tr>\n",
       "    <tr>\n",
       "      <th>7</th>\n",
       "      <td>20240213</td>\n",
       "      <td>38</td>\n",
       "    </tr>\n",
       "    <tr>\n",
       "      <th>8</th>\n",
       "      <td>20240214</td>\n",
       "      <td>20</td>\n",
       "    </tr>\n",
       "    <tr>\n",
       "      <th>9</th>\n",
       "      <td>20240215</td>\n",
       "      <td>15</td>\n",
       "    </tr>\n",
       "  </tbody>\n",
       "</table>\n",
       "</div>"
      ],
      "text/plain": [
       "    day_obs  countVisitperBandperNight\n",
       "0  20240129                         10\n",
       "1  20240130                         10\n",
       "2  20240131                          2\n",
       "3  20240205                          8\n",
       "4  20240206                         46\n",
       "5  20240207                         12\n",
       "6  20240212                         20\n",
       "7  20240213                         38\n",
       "8  20240214                         20\n",
       "9  20240215                         15"
      ]
     },
     "execution_count": 9,
     "metadata": {},
     "output_type": "execute_result"
    }
   ],
   "source": [
    "df_exp"
   ]
  },
  {
   "cell_type": "code",
   "execution_count": 10,
   "id": "c7fc688a-3728-4dfb-ac79-967496267ee3",
   "metadata": {
    "execution": {
     "iopub.execute_input": "2024-02-19T16:31:41.486522Z",
     "iopub.status.busy": "2024-02-19T16:31:41.486322Z",
     "iopub.status.idle": "2024-02-19T16:31:41.491351Z",
     "shell.execute_reply": "2024-02-19T16:31:41.491012Z",
     "shell.execute_reply.started": "2024-02-19T16:31:41.486509Z"
    }
   },
   "outputs": [
    {
     "data": {
      "text/html": [
       "<div>\n",
       "<style scoped>\n",
       "    .dataframe tbody tr th:only-of-type {\n",
       "        vertical-align: middle;\n",
       "    }\n",
       "\n",
       "    .dataframe tbody tr th {\n",
       "        vertical-align: top;\n",
       "    }\n",
       "\n",
       "    .dataframe thead th {\n",
       "        text-align: right;\n",
       "    }\n",
       "</style>\n",
       "<table border=\"1\" class=\"dataframe\">\n",
       "  <thead>\n",
       "    <tr style=\"text-align: right;\">\n",
       "      <th></th>\n",
       "      <th>day_obs</th>\n",
       "      <th>countVisitperBandperNight</th>\n",
       "    </tr>\n",
       "  </thead>\n",
       "  <tbody>\n",
       "    <tr>\n",
       "      <th>0</th>\n",
       "      <td>20240129</td>\n",
       "      <td>5</td>\n",
       "    </tr>\n",
       "    <tr>\n",
       "      <th>1</th>\n",
       "      <td>20240130</td>\n",
       "      <td>5</td>\n",
       "    </tr>\n",
       "    <tr>\n",
       "      <th>2</th>\n",
       "      <td>20240131</td>\n",
       "      <td>2</td>\n",
       "    </tr>\n",
       "    <tr>\n",
       "      <th>3</th>\n",
       "      <td>20240205</td>\n",
       "      <td>3</td>\n",
       "    </tr>\n",
       "    <tr>\n",
       "      <th>4</th>\n",
       "      <td>20240206</td>\n",
       "      <td>14</td>\n",
       "    </tr>\n",
       "    <tr>\n",
       "      <th>5</th>\n",
       "      <td>20240207</td>\n",
       "      <td>4</td>\n",
       "    </tr>\n",
       "    <tr>\n",
       "      <th>6</th>\n",
       "      <td>20240212</td>\n",
       "      <td>12</td>\n",
       "    </tr>\n",
       "    <tr>\n",
       "      <th>7</th>\n",
       "      <td>20240213</td>\n",
       "      <td>16</td>\n",
       "    </tr>\n",
       "    <tr>\n",
       "      <th>8</th>\n",
       "      <td>20240214</td>\n",
       "      <td>13</td>\n",
       "    </tr>\n",
       "    <tr>\n",
       "      <th>9</th>\n",
       "      <td>20240215</td>\n",
       "      <td>6</td>\n",
       "    </tr>\n",
       "  </tbody>\n",
       "</table>\n",
       "</div>"
      ],
      "text/plain": [
       "    day_obs  countVisitperBandperNight\n",
       "0  20240129                          5\n",
       "1  20240130                          5\n",
       "2  20240131                          2\n",
       "3  20240205                          3\n",
       "4  20240206                         14\n",
       "5  20240207                          4\n",
       "6  20240212                         12\n",
       "7  20240213                         16\n",
       "8  20240214                         13\n",
       "9  20240215                          6"
      ]
     },
     "execution_count": 10,
     "metadata": {},
     "output_type": "execute_result"
    }
   ],
   "source": [
    "df_spec"
   ]
  },
  {
   "cell_type": "code",
   "execution_count": 14,
   "id": "88d190d8-dba8-431c-b8d2-9ae8272b786f",
   "metadata": {
    "execution": {
     "iopub.execute_input": "2024-02-19T16:36:23.950466Z",
     "iopub.status.busy": "2024-02-19T16:36:23.950163Z",
     "iopub.status.idle": "2024-02-19T16:36:23.956619Z",
     "shell.execute_reply": "2024-02-19T16:36:23.956270Z",
     "shell.execute_reply.started": "2024-02-19T16:36:23.950452Z"
    }
   },
   "outputs": [
    {
     "data": {
      "text/html": [
       "<div>\n",
       "<style scoped>\n",
       "    .dataframe tbody tr th:only-of-type {\n",
       "        vertical-align: middle;\n",
       "    }\n",
       "\n",
       "    .dataframe tbody tr th {\n",
       "        vertical-align: top;\n",
       "    }\n",
       "\n",
       "    .dataframe thead th {\n",
       "        text-align: right;\n",
       "    }\n",
       "</style>\n",
       "<table border=\"1\" class=\"dataframe\">\n",
       "  <thead>\n",
       "    <tr style=\"text-align: right;\">\n",
       "      <th></th>\n",
       "      <th>day_obs</th>\n",
       "      <th>countVisitperBandperNight_exp</th>\n",
       "      <th>countVisitperBandperNight_spec</th>\n",
       "    </tr>\n",
       "  </thead>\n",
       "  <tbody>\n",
       "    <tr>\n",
       "      <th>0</th>\n",
       "      <td>20240129</td>\n",
       "      <td>10</td>\n",
       "      <td>5</td>\n",
       "    </tr>\n",
       "    <tr>\n",
       "      <th>1</th>\n",
       "      <td>20240130</td>\n",
       "      <td>10</td>\n",
       "      <td>5</td>\n",
       "    </tr>\n",
       "    <tr>\n",
       "      <th>2</th>\n",
       "      <td>20240131</td>\n",
       "      <td>2</td>\n",
       "      <td>2</td>\n",
       "    </tr>\n",
       "    <tr>\n",
       "      <th>3</th>\n",
       "      <td>20240205</td>\n",
       "      <td>8</td>\n",
       "      <td>3</td>\n",
       "    </tr>\n",
       "    <tr>\n",
       "      <th>4</th>\n",
       "      <td>20240206</td>\n",
       "      <td>46</td>\n",
       "      <td>14</td>\n",
       "    </tr>\n",
       "    <tr>\n",
       "      <th>5</th>\n",
       "      <td>20240207</td>\n",
       "      <td>12</td>\n",
       "      <td>4</td>\n",
       "    </tr>\n",
       "    <tr>\n",
       "      <th>6</th>\n",
       "      <td>20240212</td>\n",
       "      <td>20</td>\n",
       "      <td>12</td>\n",
       "    </tr>\n",
       "    <tr>\n",
       "      <th>7</th>\n",
       "      <td>20240213</td>\n",
       "      <td>38</td>\n",
       "      <td>16</td>\n",
       "    </tr>\n",
       "    <tr>\n",
       "      <th>8</th>\n",
       "      <td>20240214</td>\n",
       "      <td>20</td>\n",
       "      <td>13</td>\n",
       "    </tr>\n",
       "    <tr>\n",
       "      <th>9</th>\n",
       "      <td>20240215</td>\n",
       "      <td>15</td>\n",
       "      <td>6</td>\n",
       "    </tr>\n",
       "  </tbody>\n",
       "</table>\n",
       "</div>"
      ],
      "text/plain": [
       "    day_obs  countVisitperBandperNight_exp  countVisitperBandperNight_spec\n",
       "0  20240129                             10                               5\n",
       "1  20240130                             10                               5\n",
       "2  20240131                              2                               2\n",
       "3  20240205                              8                               3\n",
       "4  20240206                             46                              14\n",
       "5  20240207                             12                               4\n",
       "6  20240212                             20                              12\n",
       "7  20240213                             38                              16\n",
       "8  20240214                             20                              13\n",
       "9  20240215                             15                               6"
      ]
     },
     "execution_count": 14,
     "metadata": {},
     "output_type": "execute_result"
    }
   ],
   "source": [
    "df = df_exp.merge(df_spec, on=\"day_obs\" ,suffixes=('_exp', '_spec'))\n",
    "df"
   ]
  },
  {
   "cell_type": "code",
   "execution_count": 19,
   "id": "6d8d35ec-74ce-46e0-8f62-bd58a2519fd8",
   "metadata": {
    "execution": {
     "iopub.execute_input": "2024-02-19T16:45:50.895356Z",
     "iopub.status.busy": "2024-02-19T16:45:50.894811Z",
     "iopub.status.idle": "2024-02-19T16:45:51.092160Z",
     "shell.execute_reply": "2024-02-19T16:45:51.091770Z",
     "shell.execute_reply.started": "2024-02-19T16:45:50.895340Z"
    }
   },
   "outputs": [
    {
     "data": {
      "text/plain": [
       "Text(0.5, 1.0, 'Auxtel Spectro Year 2024 nexpo = 181 nspec = 80 ndays = 10 (/repo/embargo)')"
      ]
     },
     "execution_count": 19,
     "metadata": {},
     "output_type": "execute_result"
    },
    {
     "data": {
      "image/png": "[encoded data removed]",
      "text/plain": [
       "<Figure size 2000x800 with 1 Axes>"
      ]
     },
     "metadata": {},
     "output_type": "display_data"
    }
   ],
   "source": [
    "nspec = df[\"countVisitperBandperNight_spec\"].sum()\n",
    "nexpo = df[\"countVisitperBandperNight_exp\"].sum()\n",
    "ndays = len(df)\n",
    "suptitle = f\"Auxtel Spectro Year 2024 nexpo = {nexpo} nspec = {nspec} ndays = {ndays} (/repo/embargo)\"\n",
    "fig,ax = plt.subplots(1,1,figsize=(20,8))\n",
    "df.plot(x='day_obs',kind=\"bar\",ax=ax,grid=True,color=[\"red\",\"blue\"])\n",
    "ax.set_title(suptitle)"
   ]
  },
  {
   "cell_type": "code",
   "execution_count": 20,
   "id": "722b4cb3-ec35-445c-9909-0b7f84ea4567",
   "metadata": {
    "execution": {
     "iopub.execute_input": "2024-02-19T16:49:09.972841Z",
     "iopub.status.busy": "2024-02-19T16:49:09.972636Z",
     "iopub.status.idle": "2024-02-19T16:49:09.975872Z",
     "shell.execute_reply": "2024-02-19T16:49:09.975449Z",
     "shell.execute_reply.started": "2024-02-19T16:49:09.972827Z"
    }
   },
   "outputs": [
    {
     "data": {
      "text/plain": [
       "0.4419889502762431"
      ]
     },
     "execution_count": 20,
     "metadata": {},
     "output_type": "execute_result"
    }
   ],
   "source": [
    "nspec/nexpo"
   ]
  }
 ],
 "metadata": {
  "kernelspec": {
   "display_name": "LSST",
   "language": "python",
   "name": "lsst"
  },
  "language_info": {
   "codemirror_mode": {
    "name": "ipython",
    "version": 3
   },
   "file_extension": ".py",
   "mimetype": "text/x-python",
   "name": "python",
   "nbconvert_exporter": "python",
   "pygments_lexer": "ipython3",
   "version": "3.11.7"
  }
 },
 "nbformat": 4,
 "nbformat_minor": 5
}
