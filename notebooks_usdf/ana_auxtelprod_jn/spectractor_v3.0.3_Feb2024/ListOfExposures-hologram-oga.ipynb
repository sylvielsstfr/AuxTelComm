{
 "cells": [
  {
   "cell_type": "markdown",
   "id": "34464a75",
   "metadata": {
    "tags": []
   },
   "source": [
    "# List of Exposures  at USDF in OGA\n",
    "\n",
    "\n",
    "- work with Weakly_2024_07\n",
    "- use jupyter kernel LSST\n",
    "\n",
    "\n",
    "- author : Sylvie Dagoret-Campagne\n",
    "- affiliation : IJCLab\n",
    "- creation date : 2024/02/19\n",
    "- last update : 2024/02/19\n",
    "\n"
   ]
  },
  {
   "cell_type": "code",
   "execution_count": 1,
   "id": "5e6ddc9d",
   "metadata": {
    "execution": {
     "iopub.execute_input": "2024-05-02T10:37:07.020480Z",
     "iopub.status.busy": "2024-05-02T10:37:07.020362Z",
     "iopub.status.idle": "2024-05-02T10:37:07.022959Z",
     "shell.execute_reply": "2024-05-02T10:37:07.022595Z",
     "shell.execute_reply.started": "2024-05-02T10:37:07.020468Z"
    },
    "tags": []
   },
   "outputs": [
    {
     "name": "stdout",
     "output_type": "stream",
     "text": [
      "/opt/lsst/software/stack/conda/miniconda3-py38_4.9.2/envs/lsst-scipipe-8.0.0/bin/python3\n"
     ]
    }
   ],
   "source": [
    "import sys\n",
    "print(sys.executable)"
   ]
  },
  {
   "cell_type": "code",
   "execution_count": 2,
   "id": "6d6367f0",
   "metadata": {
    "execution": {
     "iopub.execute_input": "2024-05-02T10:37:09.742859Z",
     "iopub.status.busy": "2024-05-02T10:37:09.742271Z",
     "iopub.status.idle": "2024-05-02T10:37:09.745402Z",
     "shell.execute_reply": "2024-05-02T10:37:09.745040Z",
     "shell.execute_reply.started": "2024-05-02T10:37:09.742842Z"
    },
    "tags": []
   },
   "outputs": [
    {
     "name": "stdout",
     "output_type": "stream",
     "text": [
      "['/sdf/data/rubin/user/dagoret/AuxTelComm/notebooks_usdf/ana_auxtelprod_jn/spectractor_v3.0.3_Feb2024', '/home/d/dagoret/repos/repos_w_2024_17/Spectractor/lib/python', '/home/d/dagoret/repos/repos_w_2024_17/atmospec/python', '/opt/lsst/software/stack/stack/miniconda3-py38_4.9.2-8.0.0/Linux64/ctrl_mpexec/g1ce94f1343+be9d896925/python', '/opt/lsst/software/stack/stack/miniconda3-py38_4.9.2-8.0.0/Linux64/obs_lsst/g6a5d9a68d7+5e75ca21e1/python', '/opt/lsst/software/stack/stack/miniconda3-py38_4.9.2-8.0.0/Linux64/pipe_tasks/g1d79ad6392+2741334ac4/python', '/opt/lsst/software/stack/stack/miniconda3-py38_4.9.2-8.0.0/Linux64/shapelet/ge79ae78c31+127bebbd38/python', '/opt/lsst/software/stack/stack/miniconda3-py38_4.9.2-8.0.0/Linux64/meas_modelfit/gd162630629+b1d075038c/python', '/opt/lsst/software/stack/stack/miniconda3-py38_4.9.2-8.0.0/Linux64/scarlet_lite/gee10cc3b42+772f6ae910/python', '/opt/lsst/software/stack/stack/miniconda3-py38_4.9.2-8.0.0/Linux64/proxmin/g33b4157f25/lib/python', '/opt/lsst/software/stack/stack/miniconda3-py38_4.9.2-8.0.0/Linux64/scarlet/g87a95b57b9+4083830bf8/lib/python', '/opt/lsst/software/stack/stack/miniconda3-py38_4.9.2-8.0.0/Linux64/meas_extensions_scarlet/gb176f90f3b+b2c71bc2b3/python', '/opt/lsst/software/stack/stack/miniconda3-py38_4.9.2-8.0.0/Linux64/meas_extensions_psfex/gbeb006f7da+9c84a0b236/python', '/opt/lsst/software/stack/stack/miniconda3-py38_4.9.2-8.0.0/Linux64/meas_extensions_piff/gc86a011abf+5576485465/python', '/opt/lsst/software/stack/stack/miniconda3-py38_4.9.2-8.0.0/Linux64/meas_extensions_gaap/gaf2e528c11+3074d8ed18/python', '/opt/lsst/software/stack/stack/miniconda3-py38_4.9.2-8.0.0/Linux64/meas_extensions_photometryKron/g858d7b2824+5576485465/python', '/opt/lsst/software/stack/stack/miniconda3-py38_4.9.2-8.0.0/Linux64/meas_extensions_convolved/g42fff21dfb+8774687b3b/python', '/opt/lsst/software/stack/stack/miniconda3-py38_4.9.2-8.0.0/Linux64/kht/gafcb7142de/cpp/build', '/opt/lsst/software/stack/stack/miniconda3-py38_4.9.2-8.0.0/Linux64/ip_isr/g8c67aea780+5576485465/python', '/opt/lsst/software/stack/stack/miniconda3-py38_4.9.2-8.0.0/Linux64/verify_metrics/g5010790eb6+772f6ae910/python', '/opt/lsst/software/stack/stack/miniconda3-py38_4.9.2-8.0.0/Linux64/felis/gcdce801c10+772f6ae910/python', '/opt/lsst/software/stack/stack/miniconda3-py38_4.9.2-8.0.0/Linux64/dax_apdb/gcc2b57d3bf+068e8ec461/python', '/opt/lsst/software/stack/stack/miniconda3-py38_4.9.2-8.0.0/Linux64/verify/g46d7d7fcd2+e276a757da/python', '/opt/lsst/software/stack/stack/miniconda3-py38_4.9.2-8.0.0/Linux64/meas_deblender/g99cad8db69+d3ac663a09/python', '/opt/lsst/software/stack/stack/miniconda3-py38_4.9.2-8.0.0/Linux64/meas_extensions_shapeHSM/g46d310ee33+5576485465/python', '/opt/lsst/software/stack/stack/miniconda3-py38_4.9.2-8.0.0/Linux64/meas_extensions_trailedSources/g3ddfee87b4+2739543799/python', '/opt/lsst/software/stack/stack/miniconda3-py38_4.9.2-8.0.0/Linux64/ip_diffim/g4a458ce6a7+b1b11fd906/python', '/opt/lsst/software/stack/stack/miniconda3-py38_4.9.2-8.0.0/Linux64/dustmaps_cachedata/gbb0a0c949e+772f6ae910/python', '/opt/lsst/software/stack/stack/miniconda3-py38_4.9.2-8.0.0/Linux64/coadd_utils/g337abbeb29+127bebbd38/python', '/opt/lsst/software/stack/stack/miniconda3-py38_4.9.2-8.0.0/Linux64/meas_astrom/gf1cff7945b+5576485465/python', '/opt/lsst/software/stack/stack/miniconda3-py38_4.9.2-8.0.0/Linux64/meas_algorithms/gab1f63e0c6+2739543799/python', '/opt/lsst/software/stack/stack/miniconda3-py38_4.9.2-8.0.0/Linux64/astro_metadata_translator/g4c337b966e+f93da96cdf/python', '/opt/lsst/software/stack/stack/miniconda3-py38_4.9.2-8.0.0/Linux64/obs_base/gdb2fd59d06+0ff4c1f92a/python', '/opt/lsst/software/stack/stack/miniconda3-py38_4.9.2-8.0.0/Linux64/pipe_base/gec6dfec268+cdca88b19b/python', '/opt/lsst/software/stack/stack/miniconda3-py38_4.9.2-8.0.0/Linux64/daf_relation/gb0a325e57d+5c891c76b9/python', '/opt/lsst/software/stack/stack/miniconda3-py38_4.9.2-8.0.0/Linux64/resources/gcda7a56ed0+5c891c76b9/python', '/opt/lsst/software/stack/stack/miniconda3-py38_4.9.2-8.0.0/Linux64/daf_butler/g34b0c278cd+ef6a92534d/python', '/opt/lsst/software/stack/stack/miniconda3-py38_4.9.2-8.0.0/Linux64/skymap/ga8c6da7877+9e19bcbf48/python', '/opt/lsst/software/stack/stack/miniconda3-py38_4.9.2-8.0.0/Linux64/meas_base/g4cf46543a9+939706ae3f/python', '/opt/lsst/software/stack/stack/miniconda3-py38_4.9.2-8.0.0/Linux64/log/g2079a07aa2+5c891c76b9/python', '/opt/lsst/software/stack/stack/miniconda3-py38_4.9.2-8.0.0/Linux64/pex_config/gba4ed39666+f93da96cdf/python', '/opt/lsst/software/stack/stack/miniconda3-py38_4.9.2-8.0.0/Linux64/afw/g4183b1c57e+a4e7b00328/python', '/opt/lsst/software/stack/stack/miniconda3-py38_4.9.2-8.0.0/Linux64/sphgeom/g8a8a8dda67+772f6ae910/python', '/opt/lsst/software/stack/stack/miniconda3-py38_4.9.2-8.0.0/Linux64/geom/ga1e77700b3+13422f01d9/python', '/opt/lsst/software/stack/stack/miniconda3-py38_4.9.2-8.0.0/Linux64/daf_base/gb0e22166c9+b2f8f39b47/python', '/opt/lsst/software/stack/stack/miniconda3-py38_4.9.2-8.0.0/Linux64/pex_exceptions/gdaeeff99f8+5f98ece796/python', '/opt/lsst/software/stack/stack/miniconda3-py38_4.9.2-8.0.0/Linux64/base/g52b1c1532d+772f6ae910/python', '/opt/lsst/software/stack/stack/miniconda3-py38_4.9.2-8.0.0/Linux64/cpputils/g9ddcbc5298+b8d67c2d24/python', '/opt/lsst/software/stack/stack/miniconda3-py38_4.9.2-8.0.0/Linux64/astshim/g50ff169b8f+68893e6fdc/python', '/home/d/dagoret/repos/repos_w_2024_17/analysis_tools/python', '/opt/lsst/software/stack/stack/miniconda3-py38_4.9.2-8.0.0/Linux64/cp_pipe/gd905e29411+5596093d59/python', '/opt/lsst/software/stack/stack/miniconda3-py38_4.9.2-8.0.0/Linux64/display_firefly/gae46bcf261+127bebbd38/python', '/opt/lsst/software/stack/stack/miniconda3-py38_4.9.2-8.0.0/Linux64/display_astrowidgets/g2bbee38e9b+127bebbd38/python', '/opt/lsst/software/stack/stack/miniconda3-py38_4.9.2-8.0.0/Linux64/cell_coadds/g70d828b1c0+5596093d59/python', '/opt/lsst/software/stack/stack/miniconda3-py38_4.9.2-8.0.0/Linux64/gbdes/g73f919205b+5ca2f7dfa3/build/pydir', '/opt/lsst/software/stack/stack/miniconda3-py38_4.9.2-8.0.0/Linux64/drp_tasks/g27379dfe6c+13944e0449/python', '/opt/lsst/software/stack/stack/miniconda3-py38_4.9.2-8.0.0/Linux64/analysis_drp/gefe92d13dd+5596093d59/python', '/opt/lsst/software/stack/stack/miniconda3-py38_4.9.2-8.0.0/Linux64/drp_pipe/g8df5466e58+af8d0d101f/python', '/opt/lsst/software/stack/stack/miniconda3-py38_4.9.2-8.0.0/Linux64/cp_verify/g18aaeacaf5+05789112b3/python', '/opt/lsst/software/stack/stack/miniconda3-py38_4.9.2-8.0.0/Linux64/faro/g08f8b81572+be30285bec/python', '/opt/lsst/software/stack/stack/miniconda3-py38_4.9.2-8.0.0/Linux64/fgcm/gc8e0ade2ee/lib/python', '/opt/lsst/software/stack/stack/miniconda3-py38_4.9.2-8.0.0/Linux64/fgcmcal/g5ec818987f+4ea614f49a/python', '/opt/lsst/software/stack/stack/miniconda3-py38_4.9.2-8.0.0/Linux64/display_matplotlib/g0265f82a02+127bebbd38/python', '/opt/lsst/software/stack/stack/miniconda3-py38_4.9.2-8.0.0/Linux64/ap_verify/g3679153acf+f37b4af014/python', '/opt/lsst/software/stack/stack/miniconda3-py38_4.9.2-8.0.0/Linux64/jointcal/gbb8dafda3b+5a55ffe8d4/python', '/opt/lsst/software/stack/stack/miniconda3-py38_4.9.2-8.0.0/Linux64/cbp/ga32fcf49c8+127bebbd38/python', '/opt/lsst/software/stack/stack/miniconda3-py38_4.9.2-8.0.0/Linux64/obs_fiberspectrograph/geb5f2e1a85+ed0a55dd7b/python', '/opt/lsst/software/stack/stack/miniconda3-py38_4.9.2-8.0.0/Linux64/obs_rubinGenericCamera/g2de8c5dfb3+ed0a55dd7b/python', '/opt/lsst/software/stack/stack/miniconda3-py38_4.9.2-8.0.0/Linux64/obs_decam/gb3f2274832+0bbbaa77a3/python', '/opt/lsst/software/stack/stack/miniconda3-py38_4.9.2-8.0.0/Linux64/obs_cfht/g7368d4d87c+518d8cbcd7/python', '/opt/lsst/software/stack/stack/miniconda3-py38_4.9.2-8.0.0/Linux64/ctrl_bps_parsl/g145af14111+12ac171945/python', '/opt/lsst/software/stack/stack/miniconda3-py38_4.9.2-8.0.0/Linux64/ctrl_bps_panda/gb5f2746c61+12ac171945/python', '/opt/lsst/software/stack/stack/miniconda3-py38_4.9.2-8.0.0/Linux64/lsst_bps_plugins/g3a590c521e+bd19d92929/python', '/opt/lsst/software/stack/stack/miniconda3-py38_4.9.2-8.0.0/Linux64/ctrl_platform_s3df/ge038d2af86+ded273ce73/python', '/opt/lsst/software/stack/stack/miniconda3-py38_4.9.2-8.0.0/Linux64/ctrl_bps/g8a6235f32d+99ebe01a1d/python', '/opt/lsst/software/stack/stack/miniconda3-py38_4.9.2-8.0.0/Linux64/ctrl_bps_htcondor/g03e6e06fd6+12ac171945/python', '/opt/lsst/software/stack/stack/miniconda3-py38_4.9.2-8.0.0/Linux64/ctrl_execute/g79284396a4+132ebb9540/python', '/opt/lsst/software/stack/stack/miniconda3-py38_4.9.2-8.0.0/Linux64/obs_subaru/g3e0d9211c3+aec7df5d24/python', '/opt/lsst/software/stack/stack/miniconda3-py38_4.9.2-8.0.0/Linux64/source_injection/ga9cb4f5605+e389fa2cf9/python', '/opt/lsst/software/stack/stack/miniconda3-py38_4.9.2-8.0.0/Linux64/display_ds9/g16a3bce237+127bebbd38/python', '/opt/lsst/software/stack/stack/miniconda3-py38_4.9.2-8.0.0/Linux64/meas_extensions_simpleShape/gcf0d15dbbd+2739543799/python', '/opt/lsst/software/stack/stack/miniconda3-py38_4.9.2-8.0.0/Linux64/meas_transiNet/g85ff0b98a8+2739543799/python', '/opt/lsst/software/stack/stack/miniconda3-py38_4.9.2-8.0.0/Linux64/alert_packet/gff3e9f2553/python', '/opt/lsst/software/stack/stack/miniconda3-py38_4.9.2-8.0.0/Linux64/ap_association/g61a7c33816+1c22487054/python', '/opt/lsst/software/stack/stack/miniconda3-py38_4.9.2-8.0.0/Linux64/ap_pipe/g5616cd54e6+7d1080f46a/python', '/opt/lsst/software/stack/conda/miniconda3-py38_4.9.2/envs/lsst-scipipe-8.0.0/eups/python', '/opt/lsst/software/stack/conda/miniconda3-py38_4.9.2/envs/lsst-scipipe-8.0.0/lib/python311.zip', '/opt/lsst/software/stack/conda/miniconda3-py38_4.9.2/envs/lsst-scipipe-8.0.0/lib/python3.11', '/opt/lsst/software/stack/conda/miniconda3-py38_4.9.2/envs/lsst-scipipe-8.0.0/lib/python3.11/lib-dynload', '', '/home/d/dagoret/.local/lib/python3.11/site-packages', '/home/d/dagoret/.local/lib/python3.11/site-packages/getObsAtmo-0.1.1-py3.11.egg', '/opt/lsst/software/stack/conda/miniconda3-py38_4.9.2/envs/lsst-scipipe-8.0.0/lib/python3.11/site-packages']\n"
     ]
    }
   ],
   "source": [
    "print(sys.path)"
   ]
  },
  {
   "cell_type": "code",
   "execution_count": 3,
   "id": "89ee6f80",
   "metadata": {
    "execution": {
     "iopub.execute_input": "2024-05-02T10:37:10.439474Z",
     "iopub.status.busy": "2024-05-02T10:37:10.439243Z",
     "iopub.status.idle": "2024-05-02T10:37:10.833212Z",
     "shell.execute_reply": "2024-05-02T10:37:10.832561Z",
     "shell.execute_reply.started": "2024-05-02T10:37:10.439456Z"
    },
    "tags": []
   },
   "outputs": [
    {
     "name": "stdout",
     "output_type": "stream",
     "text": [
      "analysis_tools        LOCAL:/home/d/dagoret/repos/repos_w_2024_17/analysis_tools \tsetup\n",
      "atmospec              LOCAL:/home/d/dagoret/repos/repos_w_2024_17/atmospec \tsetup\n",
      "eups                  LOCAL:/opt/lsst/software/stack/conda/miniconda3-py38_4.9.2/envs/lsst-scipipe-8.0.0/eups \tsetup\n",
      "spectractor           LOCAL:/home/d/dagoret/repos/repos_w_2024_17/Spectractor \tsetup\n"
     ]
    }
   ],
   "source": [
    "! eups list -s | grep LOCAL"
   ]
  },
  {
   "cell_type": "code",
   "execution_count": 4,
   "id": "ab8d7eda",
   "metadata": {
    "execution": {
     "iopub.execute_input": "2024-05-02T10:37:11.286080Z",
     "iopub.status.busy": "2024-05-02T10:37:11.285930Z",
     "iopub.status.idle": "2024-05-02T10:37:11.843057Z",
     "shell.execute_reply": "2024-05-02T10:37:11.842459Z",
     "shell.execute_reply.started": "2024-05-02T10:37:11.286068Z"
    },
    "tags": []
   },
   "outputs": [
    {
     "name": "stdout",
     "output_type": "stream",
     "text": [
      "Weekly 2024_10\n",
      "   g4213664e8e+399544b0f1 \tcurrent w_2024_10 setup\n"
     ]
    }
   ],
   "source": [
    "! echo $IMAGE_DESCRIPTION\n",
    "! eups list -s lsst_distrib"
   ]
  },
  {
   "cell_type": "code",
   "execution_count": 5,
   "id": "08b3556a",
   "metadata": {
    "execution": {
     "iopub.execute_input": "2024-05-02T10:37:12.989278Z",
     "iopub.status.busy": "2024-05-02T10:37:12.989055Z",
     "iopub.status.idle": "2024-05-02T10:37:13.201601Z",
     "shell.execute_reply": "2024-05-02T10:37:13.201141Z",
     "shell.execute_reply.started": "2024-05-02T10:37:12.989262Z"
    },
    "tags": []
   },
   "outputs": [],
   "source": [
    "import os\n",
    "import matplotlib.pyplot as plt\n",
    "import numpy as np\n",
    "import pandas as pd\n",
    "%matplotlib inline\n",
    "from matplotlib.colors import LogNorm\n",
    "\n",
    "from mpl_toolkits.axes_grid1 import make_axes_locatable\n",
    "\n",
    "import matplotlib.ticker                         # here's where the formatter is\n",
    "from matplotlib.ticker import (MultipleLocator, FormatStrFormatter,\n",
    "                               AutoMinorLocator)\n",
    "\n",
    "from astropy.io import fits\n",
    "from astropy.time import Time"
   ]
  },
  {
   "cell_type": "code",
   "execution_count": 6,
   "id": "e49ab956",
   "metadata": {
    "execution": {
     "iopub.execute_input": "2024-05-02T10:37:14.022505Z",
     "iopub.status.busy": "2024-05-02T10:37:14.021985Z",
     "iopub.status.idle": "2024-05-02T10:37:14.024632Z",
     "shell.execute_reply": "2024-05-02T10:37:14.024285Z",
     "shell.execute_reply.started": "2024-05-02T10:37:14.022489Z"
    },
    "tags": []
   },
   "outputs": [],
   "source": [
    "from IPython.display import display, HTML"
   ]
  },
  {
   "cell_type": "code",
   "execution_count": 7,
   "id": "8cc6d352-4967-4e22-be82-3d608cb163a9",
   "metadata": {
    "execution": {
     "iopub.execute_input": "2024-05-02T10:37:15.310763Z",
     "iopub.status.busy": "2024-05-02T10:37:15.310576Z",
     "iopub.status.idle": "2024-05-02T10:37:15.406207Z",
     "shell.execute_reply": "2024-05-02T10:37:15.405683Z",
     "shell.execute_reply.started": "2024-05-02T10:37:15.310751Z"
    }
   },
   "outputs": [
    {
     "ename": "ModuleNotFoundError",
     "evalue": "No module named 'lsst.utils'",
     "output_type": "error",
     "traceback": [
      "\u001b[0;31m---------------------------------------------------------------------------\u001b[0m",
      "\u001b[0;31mModuleNotFoundError\u001b[0m                       Traceback (most recent call last)",
      "Cell \u001b[0;32mIn[7], line 1\u001b[0m\n\u001b[0;32m----> 1\u001b[0m \u001b[38;5;28;01mimport\u001b[39;00m \u001b[38;5;21;01mlsst\u001b[39;00m\u001b[38;5;21;01m.\u001b[39;00m\u001b[38;5;21;01mutils\u001b[39;00m\n",
      "\u001b[0;31mModuleNotFoundError\u001b[0m: No module named 'lsst.utils'"
     ]
    }
   ],
   "source": [
    "import lsst.utils"
   ]
  },
  {
   "cell_type": "code",
   "execution_count": 8,
   "id": "07168a2e",
   "metadata": {
    "execution": {
     "iopub.execute_input": "2024-05-02T10:37:21.043513Z",
     "iopub.status.busy": "2024-05-02T10:37:21.042820Z",
     "iopub.status.idle": "2024-05-02T10:37:21.063543Z",
     "shell.execute_reply": "2024-05-02T10:37:21.063064Z",
     "shell.execute_reply.started": "2024-05-02T10:37:21.043497Z"
    },
    "tags": []
   },
   "outputs": [
    {
     "ename": "ModuleNotFoundError",
     "evalue": "No module named 'lsst.utils'",
     "output_type": "error",
     "traceback": [
      "\u001b[0;31m---------------------------------------------------------------------------\u001b[0m",
      "\u001b[0;31mModuleNotFoundError\u001b[0m                       Traceback (most recent call last)",
      "Cell \u001b[0;32mIn[8], line 1\u001b[0m\n\u001b[0;32m----> 1\u001b[0m \u001b[38;5;28;01mimport\u001b[39;00m \u001b[38;5;21;01mlsst\u001b[39;00m\u001b[38;5;21;01m.\u001b[39;00m\u001b[38;5;21;01mafw\u001b[39;00m\u001b[38;5;21;01m.\u001b[39;00m\u001b[38;5;21;01mdisplay\u001b[39;00m \u001b[38;5;28;01mas\u001b[39;00m \u001b[38;5;21;01mafwDisplay\u001b[39;00m\n\u001b[1;32m      2\u001b[0m afwDisplay\u001b[38;5;241m.\u001b[39msetDefaultBackend(\u001b[38;5;124m'\u001b[39m\u001b[38;5;124mmatplotlib\u001b[39m\u001b[38;5;124m'\u001b[39m)\n",
      "File \u001b[0;32m/opt/lsst/software/stack/stack/miniconda3-py38_4.9.2-8.0.0/Linux64/afw/g4183b1c57e+a4e7b00328/python/lsst/afw/__init__.py:24\u001b[0m\n\u001b[1;32m      1\u001b[0m \u001b[38;5;66;03m#\u001b[39;00m\n\u001b[1;32m      2\u001b[0m \u001b[38;5;66;03m# LSST Data Management System\u001b[39;00m\n\u001b[1;32m      3\u001b[0m \u001b[38;5;66;03m# Copyright 2008, 2009, 2010 LSST Corporation.\u001b[39;00m\n\u001b[0;32m   (...)\u001b[0m\n\u001b[1;32m     20\u001b[0m \u001b[38;5;66;03m# see <http://www.lsstcorp.org/LegalNotices/>.\u001b[39;00m\n\u001b[1;32m     21\u001b[0m \u001b[38;5;66;03m#\u001b[39;00m\n\u001b[1;32m     23\u001b[0m \u001b[38;5;28;01mimport\u001b[39;00m \u001b[38;5;21;01mlsst\u001b[39;00m\u001b[38;5;21;01m.\u001b[39;00m\u001b[38;5;21;01mbase\u001b[39;00m\u001b[38;5;21;01m.\u001b[39;00m\u001b[38;5;21;01mcppimport\u001b[39;00m\n\u001b[0;32m---> 24\u001b[0m \u001b[38;5;28;01mimport\u001b[39;00m \u001b[38;5;21;01mlsst\u001b[39;00m\u001b[38;5;21;01m.\u001b[39;00m\u001b[38;5;21;01mutils\u001b[39;00m\n\u001b[1;32m     25\u001b[0m \u001b[38;5;28;01mfrom\u001b[39;00m \u001b[38;5;21;01m.\u001b[39;00m\u001b[38;5;21;01mversion\u001b[39;00m \u001b[38;5;28;01mimport\u001b[39;00m \u001b[38;5;241m*\u001b[39m\n",
      "\u001b[0;31mModuleNotFoundError\u001b[0m: No module named 'lsst.utils'"
     ]
    }
   ],
   "source": [
    "import lsst.afw.display as afwDisplay\n",
    "afwDisplay.setDefaultBackend('matplotlib')"
   ]
  },
  {
   "cell_type": "code",
   "execution_count": 8,
   "id": "437a1418",
   "metadata": {
    "execution": {
     "iopub.execute_input": "2024-05-02T10:32:47.935812Z",
     "iopub.status.busy": "2024-05-02T10:32:47.935602Z",
     "iopub.status.idle": "2024-05-02T10:32:48.100330Z",
     "shell.execute_reply": "2024-05-02T10:32:48.099900Z",
     "shell.execute_reply.started": "2024-05-02T10:32:47.935798Z"
    },
    "tags": []
   },
   "outputs": [
    {
     "ename": "ModuleNotFoundError",
     "evalue": "No module named 'lsst.utils'",
     "output_type": "error",
     "traceback": [
      "\u001b[0;31m---------------------------------------------------------------------------\u001b[0m",
      "\u001b[0;31mModuleNotFoundError\u001b[0m                       Traceback (most recent call last)",
      "Cell \u001b[0;32mIn[8], line 1\u001b[0m\n\u001b[0;32m----> 1\u001b[0m \u001b[38;5;28;01mimport\u001b[39;00m \u001b[38;5;21;01mlsst\u001b[39;00m\u001b[38;5;21;01m.\u001b[39;00m\u001b[38;5;21;01mdaf\u001b[39;00m\u001b[38;5;21;01m.\u001b[39;00m\u001b[38;5;21;01mbutler\u001b[39;00m \u001b[38;5;28;01mas\u001b[39;00m \u001b[38;5;21;01mdafButler\u001b[39;00m\n",
      "File \u001b[0;32m/opt/lsst/software/stack/stack/miniconda3-py38_4.9.2-8.0.0/Linux64/daf_butler/g1223572531+2e42ab5048/python/lsst/daf/butler/__init__.py:35\u001b[0m\n\u001b[1;32m     28\u001b[0m \u001b[38;5;124;03m\"\"\"\u001b[39;00m\n\u001b[1;32m     29\u001b[0m \u001b[38;5;124;03mData Access Butler\u001b[39;00m\n\u001b[1;32m     30\u001b[0m \u001b[38;5;124;03m\"\"\"\u001b[39;00m\n\u001b[1;32m     32\u001b[0m \u001b[38;5;66;03m# Some components are not auto-imported since they can have additional runtime\u001b[39;00m\n\u001b[1;32m     33\u001b[0m \u001b[38;5;66;03m# dependencies.\u001b[39;00m\n\u001b[0;32m---> 35\u001b[0m \u001b[38;5;28;01mfrom\u001b[39;00m \u001b[38;5;21;01m.\u001b[39;00m \u001b[38;5;28;01mimport\u001b[39;00m logging  \u001b[38;5;66;03m# most symbols are helpers only\u001b[39;00m\n\u001b[1;32m     36\u001b[0m \u001b[38;5;28;01mfrom\u001b[39;00m \u001b[38;5;21;01m.\u001b[39;00m \u001b[38;5;28;01mimport\u001b[39;00m progress  \u001b[38;5;66;03m# most symbols are only used by handler implementors\u001b[39;00m\n\u001b[1;32m     37\u001b[0m \u001b[38;5;28;01mfrom\u001b[39;00m \u001b[38;5;21;01m.\u001b[39;00m \u001b[38;5;28;01mimport\u001b[39;00m ddl, time_utils\n",
      "File \u001b[0;32m/opt/lsst/software/stack/stack/miniconda3-py38_4.9.2-8.0.0/Linux64/daf_butler/g1223572531+2e42ab5048/python/lsst/daf/butler/logging.py:40\u001b[0m\n\u001b[1;32m     37\u001b[0m \u001b[38;5;28;01mfrom\u001b[39;00m \u001b[38;5;21;01mlogging\u001b[39;00m \u001b[38;5;28;01mimport\u001b[39;00m Formatter, LogRecord, StreamHandler\n\u001b[1;32m     38\u001b[0m \u001b[38;5;28;01mfrom\u001b[39;00m \u001b[38;5;21;01mtyping\u001b[39;00m \u001b[38;5;28;01mimport\u001b[39;00m IO, Any, ClassVar, overload\n\u001b[0;32m---> 40\u001b[0m \u001b[38;5;28;01mfrom\u001b[39;00m \u001b[38;5;21;01mlsst\u001b[39;00m\u001b[38;5;21;01m.\u001b[39;00m\u001b[38;5;21;01mutils\u001b[39;00m\u001b[38;5;21;01m.\u001b[39;00m\u001b[38;5;21;01mintrospection\u001b[39;00m \u001b[38;5;28;01mimport\u001b[39;00m get_full_type_name\n\u001b[1;32m     41\u001b[0m \u001b[38;5;28;01mfrom\u001b[39;00m \u001b[38;5;21;01mlsst\u001b[39;00m\u001b[38;5;21;01m.\u001b[39;00m\u001b[38;5;21;01mutils\u001b[39;00m\u001b[38;5;21;01m.\u001b[39;00m\u001b[38;5;21;01miteration\u001b[39;00m \u001b[38;5;28;01mimport\u001b[39;00m isplit\n\u001b[1;32m     42\u001b[0m \u001b[38;5;28;01mfrom\u001b[39;00m \u001b[38;5;21;01mpydantic\u001b[39;00m \u001b[38;5;28;01mimport\u001b[39;00m BaseModel, ConfigDict, PrivateAttr, RootModel\n",
      "\u001b[0;31mModuleNotFoundError\u001b[0m: No module named 'lsst.utils'"
     ]
    }
   ],
   "source": [
    "import lsst.daf.butler as dafButler"
   ]
  },
  {
   "cell_type": "code",
   "execution_count": null,
   "id": "6e21fce6",
   "metadata": {
    "execution": {
     "iopub.status.busy": "2024-05-02T10:27:14.289544Z",
     "iopub.status.idle": "2024-05-02T10:27:14.289855Z",
     "shell.execute_reply": "2024-05-02T10:27:14.289774Z",
     "shell.execute_reply.started": "2024-05-02T10:27:14.289765Z"
    },
    "tags": []
   },
   "outputs": [],
   "source": [
    "#repo = \"/sdf/group/rubin/repo/main\"\n",
    "repo=\"/sdf/group/rubin/repo/oga/\"\n",
    "butler = dafButler.Butler(repo)\n",
    "registry = butler.registry"
   ]
  },
  {
   "cell_type": "code",
   "execution_count": null,
   "id": "c6f26349",
   "metadata": {
    "execution": {
     "iopub.status.busy": "2024-05-02T10:27:14.290260Z",
     "iopub.status.idle": "2024-05-02T10:27:14.290572Z",
     "shell.execute_reply": "2024-05-02T10:27:14.290490Z",
     "shell.execute_reply.started": "2024-05-02T10:27:14.290478Z"
    },
    "tags": []
   },
   "outputs": [],
   "source": [
    "collection='LATISS/raw/all'"
   ]
  },
  {
   "cell_type": "markdown",
   "id": "3a7b35c7",
   "metadata": {},
   "source": [
    "## List of Exposures"
   ]
  },
  {
   "cell_type": "code",
   "execution_count": null,
   "id": "473cdd14",
   "metadata": {
    "execution": {
     "iopub.status.busy": "2024-05-02T10:27:14.290973Z",
     "iopub.status.idle": "2024-05-02T10:27:14.291130Z",
     "shell.execute_reply": "2024-05-02T10:27:14.291056Z",
     "shell.execute_reply.started": "2024-05-02T10:27:14.291049Z"
    },
    "tags": []
   },
   "outputs": [],
   "source": [
    "df_exposure = pd.DataFrame(columns=['id', 'obs_id','day_obs', 'seq_num','time_start','time_end' ,'type', 'target','filter','zenith_angle','expos','ra','dec','skyangle','azimuth','zenith','science_program','jd','mjd'])"
   ]
  },
  {
   "cell_type": "code",
   "execution_count": null,
   "id": "0b34e4fd",
   "metadata": {
    "execution": {
     "iopub.status.busy": "2024-05-02T10:27:14.291697Z",
     "iopub.status.idle": "2024-05-02T10:27:14.291849Z",
     "shell.execute_reply": "2024-05-02T10:27:14.291781Z",
     "shell.execute_reply.started": "2024-05-02T10:27:14.291774Z"
    },
    "tags": []
   },
   "outputs": [],
   "source": [
    "print(butler.registry.dimensions[\"exposure\"].RecordClass.fields)"
   ]
  },
  {
   "cell_type": "code",
   "execution_count": null,
   "id": "f2c9f07f",
   "metadata": {
    "execution": {
     "iopub.status.busy": "2024-05-02T10:27:14.292384Z",
     "iopub.status.idle": "2024-05-02T10:27:14.292688Z",
     "shell.execute_reply": "2024-05-02T10:27:14.292610Z",
     "shell.execute_reply.started": "2024-05-02T10:27:14.292603Z"
    },
    "tags": []
   },
   "outputs": [],
   "source": [
    "for count, info in enumerate(registry.queryDimensionRecords('exposure',where= \"instrument='LATISS'\")):\n",
    "    \n",
    "    \n",
    "    try:\n",
    "        df_exposure.loc[count] = [info.id, info.obs_id, info.day_obs, info.seq_num,pd.to_datetime(info.timespan.begin.to_string()),pd.to_datetime(info.timespan.end.to_string()) ,info.observation_type, info.target_name, info.physical_filter, info.zenith_angle, \\\n",
    "                             info.exposure_time,info.tracking_ra, info.tracking_dec, info.sky_angle,info.azimuth ,info.zenith_angle, info.science_program,\n",
    "                             info.timespan.begin.jd,info.timespan.begin.mjd ]\n",
    "    except:\n",
    "        print(\">>>   Unexpected error:\", sys.exc_info()[0])\n",
    "        info_timespan_begin_to_string = \"2021-01-01 00:00:00.00\"\n",
    "        info_timespan_end_to_string = \"2051-01-01 00:00:00.00\"\n",
    "        info_timespan_begin_jd = 0\n",
    "        info_timespan_begin_mjd = 0\n",
    "        df_exposure.loc[count] = [info.id, info.obs_id, info.day_obs, info.seq_num,\n",
    "                                  pd.to_datetime(info_timespan_begin_to_string),\n",
    "                                  pd.to_datetime(info_timespan_end_to_string) ,\n",
    "                                  info.observation_type, info.target_name, \n",
    "                                  info.physical_filter, info.zenith_angle, \\\n",
    "                             info.exposure_time,info.tracking_ra, info.tracking_dec, info.sky_angle,info.azimuth ,info.zenith_angle, info.science_program,\n",
    "                             info_timespan_begin_jd, info_timespan_begin_mjd  ]\n",
    " \n",
    "    \n",
    "    if count < 5:\n",
    "        print(\"-----------------------------------------------------\",count,\"---------------------------------------------------------\")\n",
    "        print(info)\n",
    "        print(\"\\t id:                  \",info.id)\n",
    "        print(\"\\t day_obs:             \",info.day_obs)\n",
    "        print(\"\\t seq_num:             \",info.seq_num)\n",
    "        print(\"\\t type-of-observation: \",info.observation_type)\n",
    "        print(\"\\t target:              \",info.target_name)\n",
    "        \n",
    "        mjd = Time(info.timespan.begin.to_string()).mjd\n",
    "        jd = Time(info.timespan.begin.to_string()).jd\n",
    "        print(mjd,jd)\n",
    "    "
   ]
  },
  {
   "cell_type": "code",
   "execution_count": null,
   "id": "acce44bb",
   "metadata": {
    "execution": {
     "iopub.status.busy": "2024-05-02T10:27:14.293079Z",
     "iopub.status.idle": "2024-05-02T10:27:14.293230Z",
     "shell.execute_reply": "2024-05-02T10:27:14.293159Z",
     "shell.execute_reply.started": "2024-05-02T10:27:14.293153Z"
    },
    "tags": []
   },
   "outputs": [],
   "source": [
    "info"
   ]
  },
  {
   "cell_type": "code",
   "execution_count": null,
   "id": "f6a8ba08",
   "metadata": {
    "tags": []
   },
   "outputs": [],
   "source": []
  },
  {
   "cell_type": "code",
   "execution_count": null,
   "id": "ae0cf52c",
   "metadata": {
    "execution": {
     "iopub.status.busy": "2024-05-02T10:27:14.293783Z",
     "iopub.status.idle": "2024-05-02T10:27:14.294086Z",
     "shell.execute_reply": "2024-05-02T10:27:14.294009Z",
     "shell.execute_reply.started": "2024-05-02T10:27:14.294002Z"
    },
    "tags": []
   },
   "outputs": [],
   "source": [
    "df_exposure"
   ]
  },
  {
   "cell_type": "code",
   "execution_count": null,
   "id": "591c59d1",
   "metadata": {
    "execution": {
     "iopub.status.busy": "2024-05-02T10:27:14.294460Z",
     "iopub.status.idle": "2024-05-02T10:27:14.294610Z",
     "shell.execute_reply": "2024-05-02T10:27:14.294543Z",
     "shell.execute_reply.started": "2024-05-02T10:27:14.294536Z"
    },
    "tags": []
   },
   "outputs": [],
   "source": [
    "df_exposure = df_exposure.astype({\"id\": int,'day_obs': int,'seq_num':int})"
   ]
  },
  {
   "cell_type": "code",
   "execution_count": null,
   "id": "4b19cfd8",
   "metadata": {
    "execution": {
     "iopub.status.busy": "2024-05-02T10:27:14.295298Z",
     "iopub.status.idle": "2024-05-02T10:27:14.295455Z",
     "shell.execute_reply": "2024-05-02T10:27:14.295378Z",
     "shell.execute_reply.started": "2024-05-02T10:27:14.295371Z"
    },
    "tags": []
   },
   "outputs": [],
   "source": [
    "df_exposure"
   ]
  },
  {
   "cell_type": "markdown",
   "id": "649bd87e",
   "metadata": {},
   "source": [
    "## Selection of science"
   ]
  },
  {
   "cell_type": "code",
   "execution_count": null,
   "id": "34b80523",
   "metadata": {
    "execution": {
     "iopub.status.busy": "2024-05-02T10:27:14.295900Z",
     "iopub.status.idle": "2024-05-02T10:27:14.296067Z",
     "shell.execute_reply": "2024-05-02T10:27:14.295994Z",
     "shell.execute_reply.started": "2024-05-02T10:27:14.295988Z"
    },
    "tags": []
   },
   "outputs": [],
   "source": [
    "df_science = df_exposure[df_exposure.type == 'science']"
   ]
  },
  {
   "cell_type": "code",
   "execution_count": null,
   "id": "67fa201d",
   "metadata": {
    "execution": {
     "iopub.status.busy": "2024-05-02T10:27:14.296498Z",
     "iopub.status.idle": "2024-05-02T10:27:14.296676Z",
     "shell.execute_reply": "2024-05-02T10:27:14.296587Z",
     "shell.execute_reply.started": "2024-05-02T10:27:14.296580Z"
    },
    "tags": []
   },
   "outputs": [],
   "source": [
    "df_science.sort_values(by=\"id\",ascending=True,inplace=True)"
   ]
  },
  {
   "cell_type": "code",
   "execution_count": null,
   "id": "4cca897e-37ff-40ad-a88c-cee67f94a308",
   "metadata": {
    "execution": {
     "iopub.status.busy": "2024-05-02T10:27:14.297144Z",
     "iopub.status.idle": "2024-05-02T10:27:14.297286Z",
     "shell.execute_reply": "2024-05-02T10:27:14.297220Z",
     "shell.execute_reply.started": "2024-05-02T10:27:14.297214Z"
    }
   },
   "outputs": [],
   "source": [
    "df_science.head(60)"
   ]
  },
  {
   "cell_type": "code",
   "execution_count": null,
   "id": "fd7524c2",
   "metadata": {
    "execution": {
     "iopub.status.busy": "2024-05-02T10:27:14.297852Z",
     "iopub.status.idle": "2024-05-02T10:27:14.298052Z",
     "shell.execute_reply": "2024-05-02T10:27:14.297978Z",
     "shell.execute_reply.started": "2024-05-02T10:27:14.297971Z"
    },
    "tags": []
   },
   "outputs": [],
   "source": [
    "df_science.tail(60)"
   ]
  },
  {
   "cell_type": "code",
   "execution_count": null,
   "id": "046606bd",
   "metadata": {
    "execution": {
     "iopub.status.busy": "2024-05-02T10:27:14.298462Z",
     "iopub.status.idle": "2024-05-02T10:27:14.298638Z",
     "shell.execute_reply": "2024-05-02T10:27:14.298570Z",
     "shell.execute_reply.started": "2024-05-02T10:27:14.298563Z"
    },
    "tags": []
   },
   "outputs": [],
   "source": [
    "df_science.day_obs.unique()"
   ]
  },
  {
   "cell_type": "markdown",
   "id": "78155629",
   "metadata": {},
   "source": [
    "## Save file"
   ]
  },
  {
   "cell_type": "code",
   "execution_count": null,
   "id": "945b288b-4885-42e0-ae21-43e639da0832",
   "metadata": {
    "execution": {
     "iopub.status.busy": "2024-05-02T10:27:14.299240Z",
     "iopub.status.idle": "2024-05-02T10:27:14.299484Z",
     "shell.execute_reply": "2024-05-02T10:27:14.299413Z",
     "shell.execute_reply.started": "2024-05-02T10:27:14.299406Z"
    }
   },
   "outputs": [],
   "source": [
    "file_listexposures_out_csv = \"holo_list_exposures_oga.csv\""
   ]
  },
  {
   "cell_type": "code",
   "execution_count": null,
   "id": "f3ab7973-7dfd-40e9-b107-422bec7f0693",
   "metadata": {
    "execution": {
     "iopub.status.busy": "2024-05-02T10:27:14.299910Z",
     "iopub.status.idle": "2024-05-02T10:27:14.300071Z",
     "shell.execute_reply": "2024-05-02T10:27:14.299996Z",
     "shell.execute_reply.started": "2024-05-02T10:27:14.299989Z"
    }
   },
   "outputs": [],
   "source": [
    "df_science.to_csv(file_listexposures_out_csv)"
   ]
  },
  {
   "cell_type": "code",
   "execution_count": null,
   "id": "16ae4fd8",
   "metadata": {},
   "outputs": [],
   "source": []
  }
 ],
 "metadata": {
  "kernelspec": {
   "display_name": "LSST",
   "language": "python",
   "name": "lsst"
  },
  "language_info": {
   "codemirror_mode": {
    "name": "ipython",
    "version": 3
   },
   "file_extension": ".py",
   "mimetype": "text/x-python",
   "name": "python",
   "nbconvert_exporter": "python",
   "pygments_lexer": "ipython3",
   "version": "3.11.7"
  }
 },
 "nbformat": 4,
 "nbformat_minor": 5
}
