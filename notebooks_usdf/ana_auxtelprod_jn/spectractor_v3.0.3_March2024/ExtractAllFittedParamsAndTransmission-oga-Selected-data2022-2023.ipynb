{
 "cells": [
  {
   "cell_type": "markdown",
   "id": "de6ce8d1-1d11-47b4-889c-556e47ad83ff",
   "metadata": {
    "execution": {
     "iopub.execute_input": "2023-11-27T15:03:21.584340Z",
     "iopub.status.busy": "2023-11-27T15:03:21.583969Z",
     "iopub.status.idle": "2023-11-27T15:03:21.587270Z",
     "shell.execute_reply": "2023-11-27T15:03:21.586902Z",
     "shell.execute_reply.started": "2023-11-27T15:03:21.584327Z"
    },
    "tags": []
   },
   "source": [
    "# Extract all fitted params from many dates in OGA butler in 2023\n",
    "\n",
    "- Author : Sylvie Dagoret-Campagne\n",
    "- creation date : 2024-03-18\n",
    "- last update : 2024-03-26\n",
    "- affiliation : IJCLab/IN2P3/CNRS\n",
    "- w_2024_10\n",
    "- Spectractor v3.0.3"
   ]
  },
  {
   "cell_type": "markdown",
   "id": "c334e0f8-0f4b-4afa-b0d8-0924368b2177",
   "metadata": {},
   "source": [
    "## Imports"
   ]
  },
  {
   "cell_type": "code",
   "execution_count": 1,
   "id": "245c853f-f3f1-42ac-a0c2-91c714df4561",
   "metadata": {
    "execution": {
     "iopub.execute_input": "2024-03-26T13:48:04.104066Z",
     "iopub.status.busy": "2024-03-26T13:48:04.103941Z",
     "iopub.status.idle": "2024-03-26T13:48:05.399716Z",
     "shell.execute_reply": "2024-03-26T13:48:05.399238Z",
     "shell.execute_reply.started": "2024-03-26T13:48:04.104053Z"
    }
   },
   "outputs": [],
   "source": [
    "import matplotlib.pyplot as plt\n",
    "import matplotlib as mpl\n",
    "\n",
    "import matplotlib.colors as mcolors\n",
    "import matplotlib.cm as cm\n",
    "\n",
    "import numpy as np\n",
    "import pandas as pd\n",
    "import matplotlib.gridspec as gridspec\n",
    "from spectractor.tools import from_lambda_to_colormap, wavelength_to_rgb\n",
    "#%matplotlib widget \n",
    "import h5py\n",
    "from scipy import interpolate\n",
    "from astropy.time import Time"
   ]
  },
  {
   "cell_type": "code",
   "execution_count": 2,
   "id": "7f285fb8-916c-4011-8243-0646d12341a8",
   "metadata": {
    "execution": {
     "iopub.execute_input": "2024-03-26T13:48:05.400785Z",
     "iopub.status.busy": "2024-03-26T13:48:05.400400Z",
     "iopub.status.idle": "2024-03-26T13:48:05.407366Z",
     "shell.execute_reply": "2024-03-26T13:48:05.406998Z",
     "shell.execute_reply.started": "2024-03-26T13:48:05.400771Z"
    }
   },
   "outputs": [],
   "source": [
    "import spectractor\n",
    "from spectractor.simulation.throughput import load_transmission,plot_transmission_simple,TelescopeTransmission\n",
    "from spectractor import parameters\n",
    "from spectractor.extractor import dispersers\n",
    "from spectractor.config import load_config,set_logger\n",
    "import os,sys"
   ]
  },
  {
   "cell_type": "code",
   "execution_count": 3,
   "id": "66b63b47-9d63-487f-beee-157f95ee0af4",
   "metadata": {
    "execution": {
     "iopub.execute_input": "2024-03-26T13:48:05.408033Z",
     "iopub.status.busy": "2024-03-26T13:48:05.407900Z",
     "iopub.status.idle": "2024-03-26T13:48:05.410659Z",
     "shell.execute_reply": "2024-03-26T13:48:05.410294Z",
     "shell.execute_reply.started": "2024-03-26T13:48:05.408021Z"
    }
   },
   "outputs": [],
   "source": [
    "plt.rcParams[\"figure.figsize\"] = (8,8)\n",
    "plt.rcParams[\"axes.labelsize\"] = 'xx-large'\n",
    "plt.rcParams['axes.titlesize'] = 'xx-large'\n",
    "plt.rcParams['xtick.labelsize']= 'xx-large'\n",
    "plt.rcParams['ytick.labelsize']= 'xx-large'\n",
    "plt.rcParams['legend.fontsize']=  12\n",
    "plt.rcParams['font.size'] = 12"
   ]
  },
  {
   "cell_type": "code",
   "execution_count": 4,
   "id": "a08091f0-b612-42bb-a2c1-af86e71bb4ff",
   "metadata": {
    "execution": {
     "iopub.execute_input": "2024-03-26T13:48:05.412169Z",
     "iopub.status.busy": "2024-03-26T13:48:05.412041Z",
     "iopub.status.idle": "2024-03-26T13:48:05.414385Z",
     "shell.execute_reply": "2024-03-26T13:48:05.414032Z",
     "shell.execute_reply.started": "2024-03-26T13:48:05.412157Z"
    }
   },
   "outputs": [],
   "source": [
    "import warnings\n",
    "warnings.filterwarnings(\"ignore\")"
   ]
  },
  {
   "cell_type": "code",
   "execution_count": 5,
   "id": "58be29d4-8929-4c3a-a91d-de24bfef8a0b",
   "metadata": {
    "execution": {
     "iopub.execute_input": "2024-03-26T13:48:05.415121Z",
     "iopub.status.busy": "2024-03-26T13:48:05.414991Z",
     "iopub.status.idle": "2024-03-26T13:48:05.420514Z",
     "shell.execute_reply": "2024-03-26T13:48:05.420088Z",
     "shell.execute_reply.started": "2024-03-26T13:48:05.415110Z"
    }
   },
   "outputs": [
    {
     "name": "stdout",
     "output_type": "stream",
     "text": [
      "dagoret-nb\n",
      "Set environement for Rubin Platform at  USDF\n"
     ]
    }
   ],
   "source": [
    "machine_name = os.uname().nodename\n",
    "print(machine_name)\n",
    "if 'sdf' in machine_name:\n",
    "    #machine_name_usdf = 'sdfrome001'\n",
    "    #machine_name_notebook platform = 'dagoret-nb'\n",
    "    print(\"Set environement for USDF\")\n",
    "    newpythonpath = os.path.join(os.getenv(\"HOME\"),\"repos/repos_w_2024_07/rubinsimphot/src\")\n",
    "    sys.path.append(newpythonpath)\n",
    "    newpythonpath = os.path.join(os.getenv(\"HOME\"),\"rubin-user/RubinLSSTPhotometricCorrTuto/notebooks/lib\")\n",
    "    sys.path.append(newpythonpath)   \n",
    "elif \"dagoret-nb\" in machine_name:\n",
    "    print(\"Set environement for Rubin Platform at  USDF\")\n",
    "    newpythonpath = os.path.join(os.getenv(\"HOME\"),\"repos/repos_w_2024_07/rubinsimphot/src\")\n",
    "    sys.path.append(newpythonpath)\n",
    "    newpythonpath = os.path.join(os.getenv(\"HOME\"),\"rubin-user/RubinLSSTPhotometricCorrTuto/notebooks/lib\")\n",
    "    sys.path.append(newpythonpath)\n",
    "elif 'mac' in machine_name:\n",
    "    print(\"Be sure to run this notebook in conda environnement named conda_py310\")\n",
    "else:\n",
    "    print(\"Your current machine name is {machine_name}. Check your python environment\")"
   ]
  },
  {
   "cell_type": "code",
   "execution_count": 6,
   "id": "ecbc3aca-0c89-4621-b547-9f9940568f8c",
   "metadata": {
    "execution": {
     "iopub.execute_input": "2024-03-26T13:48:05.421152Z",
     "iopub.status.busy": "2024-03-26T13:48:05.421029Z",
     "iopub.status.idle": "2024-03-26T13:48:05.425372Z",
     "shell.execute_reply": "2024-03-26T13:48:05.424994Z",
     "shell.execute_reply.started": "2024-03-26T13:48:05.421141Z"
    }
   },
   "outputs": [
    {
     "name": "stdout",
     "output_type": "stream",
     "text": [
      "dagoret-nb\n",
      "Set environement for Rubin Platform at  USDF\n"
     ]
    }
   ],
   "source": [
    "dm_version=\"w_2024_10\" \n",
    "machine_name = os.uname().nodename\n",
    "print(machine_name)\n",
    "if 'sdf' in machine_name:\n",
    "    #machine_name_usdf = 'sdfrome001'\n",
    "    #machine_name_notebook platform = 'dagoret-nb'\n",
    "    print(\"Set environement for USDF\")\n",
    "    newpythonpath = os.path.join(os.getenv(\"HOME\"),f\"repos/{dm_version}/rubinsimphot/src\")\n",
    "    sys.path.append(newpythonpath)\n",
    "    newpythonpath = os.path.join(os.getenv(\"HOME\"),\"rubin-user/RubinLSSTPhotometricCorrTuto/notebooks/lib\")\n",
    "    sys.path.append(newpythonpath)   \n",
    "elif \"dagoret-nb\" in machine_name:\n",
    "    print(\"Set environement for Rubin Platform at  USDF\")\n",
    "    newpythonpath = os.path.join(os.getenv(\"HOME\"),f\"repos/{dm_version}/rubinsimphot/src\")\n",
    "    sys.path.append(newpythonpath)\n",
    "    newpythonpath = os.path.join(os.getenv(\"HOME\"),\"rubin-user/RubinLSSTPhotometricCorrTuto/notebooks/lib\")\n",
    "    sys.path.append(newpythonpath)\n",
    "elif 'mac' in machine_name:\n",
    "    print(\"Be sure to run this notebook in conda environnement named conda_py310\")\n",
    "else:\n",
    "    print(\"Your current machine name is {machine_name}. Check your python environment\")"
   ]
  },
  {
   "cell_type": "code",
   "execution_count": 7,
   "id": "1020c992-fd92-4248-87f8-9285d320cd59",
   "metadata": {
    "execution": {
     "iopub.execute_input": "2024-03-26T13:48:05.425997Z",
     "iopub.status.busy": "2024-03-26T13:48:05.425868Z",
     "iopub.status.idle": "2024-03-26T13:48:06.046017Z",
     "shell.execute_reply": "2024-03-26T13:48:06.045580Z",
     "shell.execute_reply.started": "2024-03-26T13:48:05.425986Z"
    }
   },
   "outputs": [],
   "source": [
    "sys.path.append(\"../lib\")\n",
    "from libanaspectra import *\n",
    "from config_spectractor import *"
   ]
  },
  {
   "cell_type": "code",
   "execution_count": 8,
   "id": "75591adc-21a3-4b81-a9ec-f244ca5bf610",
   "metadata": {
    "execution": {
     "iopub.execute_input": "2024-03-26T13:48:06.046733Z",
     "iopub.status.busy": "2024-03-26T13:48:06.046597Z",
     "iopub.status.idle": "2024-03-26T13:48:06.057988Z",
     "shell.execute_reply": "2024-03-26T13:48:06.057626Z",
     "shell.execute_reply.started": "2024-03-26T13:48:06.046719Z"
    }
   },
   "outputs": [],
   "source": [
    "from rubinsimphot.phot_utils import Bandpass, Sed\n",
    "from rubinsimphot.data.data_sets import  get_data_dir\n",
    "\n",
    "#README.md        darksky.dat      filter_r.dat     hardware_g.dat   hardware_y.dat   lens3.dat        total_g.dat      total_y.dat\n",
    "#README_SOURCE.md detector.dat     filter_u.dat     hardware_i.dat   hardware_z.dat   m1.dat           total_i.dat      total_z.dat\n",
    "#atmos_10.dat     filter_g.dat     filter_y.dat     hardware_r.dat   lens1.dat        m2.dat           total_r.dat      version_info\n",
    "#atmos_std.dat    filter_i.dat     filter_z.dat     hardware_u.dat   lens2.dat        m3.dat           total_u.dat\n",
    "hardware_filenames = [\"hardware_u.dat\",\"hardware_g.dat\",\"hardware_r.dat\",\"hardware_i.dat\",\"hardware_z.dat\",\"hardware_y.dat\"] \n",
    "filter_filenames = [\"filter_u.dat\",\"filter_g.dat\",\"filter_r.dat\",\"filter_i.dat\",\"filter_z.dat\",\"filter_y.dat\" ]\n",
    "total_filenames = [\"total_u.dat\",\"total_g.dat\",\"total_r.dat\",\"total_i.dat\",\"total_z.dat\",\"total_y.dat\" ]\n",
    "filter_tagnames = [\"u\",\"g\",\"r\",\"i\",\"z\",\"y\"]\n",
    "Filter_tagnames = [\"U\",\"G\",\"R\",\"I\",\"Z\",\"Y\"]\n",
    "filtercolor_tagnames = [\"u-g\",\"g-r\",\"r-i\",\"i-z\",\"z-y\"]\n",
    "Filtercolor_tagnames = [\"U-G\",\"G-R\",\"R-I\",\"I-Y\",\"Z-Y\"]\n",
    "filter_color = [\"b\",\"g\",\"r\",\"orange\",\"grey\",\"k\"]\n",
    "NFILT=len(filter_filenames)\n",
    "\n",
    "WLMIN=300.\n",
    "WLMAX=1100.\n",
    "WLBIN=1.\n",
    "NWLBIN=int((WLMAX-WLMIN)/WLBIN)\n",
    "WL=np.linspace(WLMIN,WLMAX,NWLBIN)"
   ]
  },
  {
   "cell_type": "code",
   "execution_count": 9,
   "id": "62b1f80e-f742-49bf-b1db-cd199b059d89",
   "metadata": {
    "execution": {
     "iopub.execute_input": "2024-03-26T13:48:06.058618Z",
     "iopub.status.busy": "2024-03-26T13:48:06.058492Z",
     "iopub.status.idle": "2024-03-26T13:48:06.062294Z",
     "shell.execute_reply": "2024-03-26T13:48:06.061950Z",
     "shell.execute_reply.started": "2024-03-26T13:48:06.058606Z"
    }
   },
   "outputs": [],
   "source": [
    "#FILTERWL: precalculated array containing center, boundaries and width of each filter.\n",
    "#index 0 : minimum wavelength of filter border\n",
    "#index 1 : minimum wavelength of filter border\n",
    "#index 2 : center wavelength of filter\n",
    "#index 3 : filter width\n",
    "\n",
    "\n",
    "FILTERWL = np.array([[ 324.03003755,  402.12765957,  363.59690349,   78.09762203],\n",
    "       [ 392.11514393,  561.32665832,  473.54069923,  169.21151439],\n",
    "       [ 542.3028786 ,  700.50062578,  619.49926767,  158.19774718],\n",
    "       [ 681.47684606,  827.65957447,  752.01084117,  146.18272841],\n",
    "       [ 808.63579474,  932.79098874,  868.488419  ,  124.15519399],\n",
    "       [ 914.76846058, 1044.93116395,  969.10570859,  130.16270338]])\n",
    "\n",
    "FILTERWL_auxtel = np.array([[ 352.7 ,  395.9 ,  374.3 ,   43.2 ],\n",
    "                     [ 387.6 ,  566.2 ,  476.9 ,  178.6 ],\n",
    "                     [ 541.4 ,  715.5 ,  628.45,  174.1 ],\n",
    "                     [ 673.3 ,  870.9 ,  772.1 ,  197.6 ],\n",
    "                     [ 805.6 , 1090.7 ,  948.15,  285.1 ]])\n",
    "\n",
    "\n",
    "F0 = 3631.0 # Jy 1, Jy = 10^{-23} erg.cm^{-2}.s^{-1}.Hz^{-1}\n",
    "Jy_to_ergcmm2sm1hzm1 = 1e-23\n",
    "DT = 30.0 # seconds\n",
    "gel = 1.1\n",
    "#hP = 6.62607015E-34 # J⋅Hz−1\n",
    "hP = 6.626196E-27\n",
    "A  = np.pi*642.3**2 # cm2  Reff=6.423 m\n",
    "A_auxtel  = 9636.0 # cm2\n",
    "\n",
    "#ZPT_cont =  2.5 \\log_{10} \\left(\\frac{F_0 A \\Delta T}{g_{el} h} \\right)\n",
    "ZPTconst = 2.5*np.log10(F0*Jy_to_ergcmm2sm1hzm1*A*DT/gel/hP)"
   ]
  },
  {
   "cell_type": "code",
   "execution_count": 10,
   "id": "47ecc115-56b8-47f8-99b4-641a55d6ef1f",
   "metadata": {
    "execution": {
     "iopub.execute_input": "2024-03-26T13:48:06.062890Z",
     "iopub.status.busy": "2024-03-26T13:48:06.062767Z",
     "iopub.status.idle": "2024-03-26T13:48:06.084510Z",
     "shell.execute_reply": "2024-03-26T13:48:06.084154Z",
     "shell.execute_reply.started": "2024-03-26T13:48:06.062879Z"
    }
   },
   "outputs": [],
   "source": [
    "fdir = get_data_dir()\n",
    "bandpass_inst = {}\n",
    "path_rubin_sim_throughput = os.path.join(fdir, 'throughputs', 'baseline')\n",
    "for index,filename in enumerate(hardware_filenames):\n",
    "    fullfilename=os.path.join(path_rubin_sim_throughput,filename)\n",
    "    arr= np.loadtxt(fullfilename)\n",
    "    # interpolate  filter transmission\n",
    "    ff = interpolate.interp1d(x=arr[:,0], y=arr[:,1],fill_value=\"extrapolate\")\n",
    "    fname = filter_tagnames[index]\n",
    "    bandpass_inst[fname] = Bandpass(wavelen=WL,sb=ff(WL))"
   ]
  },
  {
   "cell_type": "code",
   "execution_count": 11,
   "id": "17b5675b-9828-4e41-98bb-079b0a391c98",
   "metadata": {
    "execution": {
     "iopub.execute_input": "2024-03-26T13:48:06.085121Z",
     "iopub.status.busy": "2024-03-26T13:48:06.084994Z",
     "iopub.status.idle": "2024-03-26T13:48:06.205372Z",
     "shell.execute_reply": "2024-03-26T13:48:06.204974Z",
     "shell.execute_reply.started": "2024-03-26T13:48:06.085110Z"
    }
   },
   "outputs": [
    {
     "data": {
      "text/plain": [
       "Text(0.5, 1.0, 'Total Rubin-LSST filter throughput')"
      ]
     },
     "execution_count": 11,
     "metadata": {},
     "output_type": "execute_result"
    }
   ],
   "source": [
    "fig, axs = plt.subplots(1,1,figsize=(6,4))\n",
    "# loop on filter\n",
    "for index,f in enumerate(filter_tagnames):\n",
    "    \n",
    "    axs.plot(WL,bandpass_inst[f].sb,color=filter_color[index]) \n",
    "    axs.fill_between(WL,bandpass_inst[f].sb,color=filter_color[index],alpha=0.2) \n",
    "    axs.axvline(FILTERWL[index,2],color=filter_color[index],linestyle=\"-.\")\n",
    "    \n",
    "axs.set_xlabel(\"$\\\\lambda$ (nm)\")\n",
    "axs.set_title(\"Total Rubin-LSST filter throughput\")"
   ]
  },
  {
   "cell_type": "code",
   "execution_count": 12,
   "id": "cf4975b5-966e-45d4-8624-66172e2c776c",
   "metadata": {
    "execution": {
     "iopub.execute_input": "2024-03-26T13:48:06.206074Z",
     "iopub.status.busy": "2024-03-26T13:48:06.205941Z",
     "iopub.status.idle": "2024-03-26T13:48:06.207989Z",
     "shell.execute_reply": "2024-03-26T13:48:06.207613Z",
     "shell.execute_reply.started": "2024-03-26T13:48:06.206062Z"
    },
    "tags": []
   },
   "outputs": [],
   "source": [
    "#from lsst.summit.utils.utils import checkStackSetup\n",
    "#checkStackSetup()"
   ]
  },
  {
   "cell_type": "code",
   "execution_count": 13,
   "id": "53dfcc69-f7b0-49b3-8131-0df1c5ca7120",
   "metadata": {
    "execution": {
     "iopub.execute_input": "2024-03-26T13:48:06.208598Z",
     "iopub.status.busy": "2024-03-26T13:48:06.208476Z",
     "iopub.status.idle": "2024-03-26T13:48:06.848730Z",
     "shell.execute_reply": "2024-03-26T13:48:06.848209Z",
     "shell.execute_reply.started": "2024-03-26T13:48:06.208587Z"
    },
    "tags": []
   },
   "outputs": [
    {
     "name": "stdout",
     "output_type": "stream",
     "text": [
      "u/dagoret/auxtel_atmo_202101_v3.0.3_doGainsPTC_rebin2_231208\n",
      "u/dagoret/auxtel_atmo_202101_v3.0.3_doGainsPTC_rebin2_231208/20231220T142452Z\n",
      "u/dagoret/auxtel_atmo_202209_v3.0.3_doGainsPTC_rebin2_231221\n",
      "u/dagoret/auxtel_atmo_202209_v3.0.3_doGainsPTC_rebin2_231221/20231221T125249Z\n",
      "u/dagoret/auxtel_atmo_202301_v3.0.3_doGainsNOPTC_rebin2_231208\n",
      "u/dagoret/auxtel_atmo_202301_v3.0.3_doGainsNOPTC_rebin2_231208/20231208T215202Z\n",
      "u/dagoret/auxtel_atmo_202301_v3.0.3_doGainsPTC_rebin2_231208\n",
      "u/dagoret/auxtel_atmo_202301_v3.0.3_doGainsPTC_rebin2_231208/20231208T211104Z\n",
      "u/dagoret/auxtel_atmo_202401_v3.0.3_doGainsNOPTC_rebin2_240201\n",
      "u/dagoret/auxtel_atmo_202401_v3.0.3_doGainsNOPTC_rebin2_240201/20240201T144534Z\n",
      "u/dagoret/auxtel_atmo_202401_v3.0.3_doGainsNOPTC_rebin2_240215_N149.5\n",
      "u/dagoret/auxtel_atmo_202401_v3.0.3_doGainsNOPTC_rebin2_240215_N149.5/20240215T190316Z\n",
      "u/dagoret/auxtel_atmo_202401_v3.0.3_doGainsNOPTC_rebin2_240215_N150\n",
      "u/dagoret/auxtel_atmo_202401_v3.0.3_doGainsNOPTC_rebin2_240215_N150/20240215T230239Z\n",
      "u/dagoret/auxtel_atmo_202401_v3.0.3_doGainsNOPTC_rebin2_240218_N149.5\n",
      "u/dagoret/auxtel_atmo_202401_v3.0.3_doGainsNOPTC_rebin2_240218_N149.5/20240218T220827Z\n",
      "u/dagoret/auxtel_atmo_202401_v3.0.3_doGainsNOPTC_rebin2_240218_N149.5/20240222T172206Z\n",
      "u/dagoret/auxtel_atmo_202401_v3.0.3_doGainsNOPTC_rebin2_240218_N150\n",
      "u/dagoret/auxtel_atmo_202401_v3.0.3_doGainsNOPTC_rebin2_240218_N150/20240218T164355Z\n",
      "u/dagoret/auxtel_atmo_202401_v3.0.3_doGainsPTC_rebin2_240201\n",
      "u/dagoret/auxtel_atmo_202401_v3.0.3_doGainsPTC_rebin2_240201/20240201T144125Z\n",
      "u/dagoret/auxtel_atmo_202401_v3.0.3_doGainsPTC_rebin2_240215_N149.5\n",
      "u/dagoret/auxtel_atmo_202401_v3.0.3_doGainsPTC_rebin2_240215_N149.5/20240215T190209Z\n",
      "u/dagoret/auxtel_atmo_202401_v3.0.3_doGainsPTC_rebin2_240215_N150\n",
      "u/dagoret/auxtel_atmo_202401_v3.0.3_doGainsPTC_rebin2_240215_N150/20240215T230618Z\n",
      "u/dagoret/auxtel_atmo_202401_v3.0.3_doGainsPTC_rebin2_240218_N149.5\n",
      "u/dagoret/auxtel_atmo_202401_v3.0.3_doGainsPTC_rebin2_240218_N149.5/20240218T220917Z\n",
      "u/dagoret/auxtel_atmo_202401_v3.0.3_doGainsPTC_rebin2_240218_N150\n",
      "u/dagoret/auxtel_atmo_202401_v3.0.3_doGainsPTC_rebin2_240218_N150/20240218T164245Z\n",
      "u/dagoret/auxtel_atmo_202401_v3.0.3_doGainsPTC_rebin2_240222_N149.85\n",
      "u/dagoret/auxtel_atmo_202401_v3.0.3_doGainsPTC_rebin2_240222_N149.85/20240222T172535Z\n",
      "u/dagoret/auxtel_atmosphere_202301_v3.0.3_doGainsPTC_rebin2\n",
      "u/dagoret/auxtel_atmosphere_202301_v3.0.3_doGainsPTC_rebin2/20231208T100936Z\n",
      "u/dagoret/auxtel_atmosphere_202301_v3.0.3_doGainsPTC_rebin2/20231208T130352Z\n"
     ]
    }
   ],
   "source": [
    "import lsst.daf.butler as dafButler\n",
    "\n",
    "repo = \"/repo/main\"\n",
    "repo = \"/repo/embargo\"\n",
    "# repo = \"LATISS\"\n",
    "butler = dafButler.Butler(repo)\n",
    "registry = butler.registry\n",
    "\n",
    "for c in sorted(registry.queryCollections()):\n",
    "    #if \"u/jneveu\" in c and \"auxtel_atmo\" in c:\n",
    "    #if \"u/dagoret\" in c:\n",
    "    if \"u/dagoret\" in c and \"auxtel_atmo\" in c:\n",
    "        print(c)"
   ]
  },
  {
   "cell_type": "markdown",
   "id": "3fa4b1b2-f357-4d0e-a71d-16e9bd59e59c",
   "metadata": {},
   "source": [
    "## Config"
   ]
  },
  {
   "cell_type": "markdown",
   "id": "1c0393b1-60be-4f69-b3d4-5f609d0c38d3",
   "metadata": {},
   "source": [
    "### Config collection"
   ]
  },
  {
   "cell_type": "code",
   "execution_count": 14,
   "id": "340e31dd-ac40-4941-ba9c-39b634fd1966",
   "metadata": {
    "execution": {
     "iopub.execute_input": "2024-03-26T13:48:06.849501Z",
     "iopub.status.busy": "2024-03-26T13:48:06.849362Z",
     "iopub.status.idle": "2024-03-26T13:48:06.851770Z",
     "shell.execute_reply": "2024-03-26T13:48:06.851390Z",
     "shell.execute_reply.started": "2024-03-26T13:48:06.849489Z"
    }
   },
   "outputs": [],
   "source": [
    "#my_collection = \"u/dagoret/auxtel_atmo_202301_v3.0.3_doGainsPTC_rebin2_231208\"\n",
    "#my_collection = \"u/dagoret/auxtel_atmo_202301_v3.0.3_doGainsNOPTC_rebin2_231208\"\n",
    "\n",
    "# all spectra from September 2022 to december 2023\n",
    "#the reconstruction done by  LambdaMin = 350.0 and spectractor v3.0.3 in 2023/12/21\n",
    "\n",
    "#my_collection = \"u/dagoret/auxtel_atmo_202209_v3.0.3_doGainsPTC_rebin2_231221\"\n",
    "#my_collection = \"u/dagoret/auxtel_atmo_202301_v3.0.3_doGainsNOPTC_rebin2_231208\"\n",
    "my_collection = \"u/jneveu/auxtel_atmosphere_202301_v3.1.0_doSensorFlat_rebin2_testWithMaskedEdges_newBoundaries_newPolysRescaled_newFitBounds_adjustA1_lockedOrder2_removeThroughputTails/20240313T174059Z\" "
   ]
  },
  {
   "cell_type": "markdown",
   "id": "a827f927-5321-4c58-86e6-8fa67fa27680",
   "metadata": {},
   "source": [
    "### Config Auxtel"
   ]
  },
  {
   "cell_type": "code",
   "execution_count": 15,
   "id": "b830c58b-b024-43fa-b4a6-38140491a0cc",
   "metadata": {
    "execution": {
     "iopub.execute_input": "2024-03-26T13:48:06.852368Z",
     "iopub.status.busy": "2024-03-26T13:48:06.852244Z",
     "iopub.status.idle": "2024-03-26T13:48:06.857012Z",
     "shell.execute_reply": "2024-03-26T13:48:06.856657Z",
     "shell.execute_reply.started": "2024-03-26T13:48:06.852357Z"
    }
   },
   "outputs": [
    {
     "data": {
      "text/plain": [
       "'/home/d/dagoret/repos/repos_w_2024_07/Spectractor/lib/python/spectractor'"
      ]
     },
     "execution_count": 15,
     "metadata": {},
     "output_type": "execute_result"
    }
   ],
   "source": [
    "spectractor.__path__[0]"
   ]
  },
  {
   "cell_type": "code",
   "execution_count": 16,
   "id": "fad2ee01-896a-4410-8aef-9d6c8752716f",
   "metadata": {
    "execution": {
     "iopub.execute_input": "2024-03-26T13:48:06.857598Z",
     "iopub.status.busy": "2024-03-26T13:48:06.857478Z",
     "iopub.status.idle": "2024-03-26T13:48:06.861550Z",
     "shell.execute_reply": "2024-03-26T13:48:06.861177Z",
     "shell.execute_reply.started": "2024-03-26T13:48:06.857587Z"
    }
   },
   "outputs": [],
   "source": [
    "#config_path = \"~/repos/repos_w_2023_44/Spectractor/config/auxtel.ini\"\n",
    "#config_path = \"/home/d/dagoret/repos/repos_w_2023_44/Spectractor/config/auxtel.ini\"\n",
    "config_fullpath = os.path.join(spectractor.__path__[0],\"../config/auxtel.ini\")\n",
    "throughput_filename=\"multispectra_holo4_003_HD142331_20230802_AuxTel_doGainsPTC_v3.0.3_throughput.txt\""
   ]
  },
  {
   "cell_type": "code",
   "execution_count": 17,
   "id": "1cc3e177-e184-4487-a557-95cfb6693f90",
   "metadata": {
    "execution": {
     "iopub.execute_input": "2024-03-26T13:48:06.862125Z",
     "iopub.status.busy": "2024-03-26T13:48:06.862007Z",
     "iopub.status.idle": "2024-03-26T13:48:06.865760Z",
     "shell.execute_reply": "2024-03-26T13:48:06.865406Z",
     "shell.execute_reply.started": "2024-03-26T13:48:06.862113Z"
    }
   },
   "outputs": [
    {
     "name": "stdout",
     "output_type": "stream",
     "text": [
      "/home/d/dagoret/repos/repos_w_2024_07/Spectractor/lib/python/spectractor/../config/auxtel.ini\n"
     ]
    }
   ],
   "source": [
    "print(config_fullpath)"
   ]
  },
  {
   "cell_type": "code",
   "execution_count": 18,
   "id": "e4edeb2d-4ee9-41f9-84c7-13f022a0d889",
   "metadata": {
    "execution": {
     "iopub.execute_input": "2024-03-26T13:48:06.866336Z",
     "iopub.status.busy": "2024-03-26T13:48:06.866216Z",
     "iopub.status.idle": "2024-03-26T13:48:06.874726Z",
     "shell.execute_reply": "2024-03-26T13:48:06.874348Z",
     "shell.execute_reply.started": "2024-03-26T13:48:06.866324Z"
    }
   },
   "outputs": [
    {
     "name": "stdout",
     "output_type": "stream",
     "text": [
      "parameters.SPECTRACTOR_ATMOSPHERE_SIM =  getobstamo\n"
     ]
    }
   ],
   "source": [
    "# in w_2023_44 I had to load explicitely\n",
    "# in w_2024_07 Apparently the parameters is well loaded and explicit call to load_config fails\n",
    "load_config_local(config_fullpath)"
   ]
  },
  {
   "cell_type": "markdown",
   "id": "3df10208-da9d-4846-9505-2582e6582cdc",
   "metadata": {},
   "source": [
    "### Config Telescope Throughtput"
   ]
  },
  {
   "cell_type": "code",
   "execution_count": 19,
   "id": "5206b957-c80e-4cf5-b1f7-9d61a544b46c",
   "metadata": {
    "execution": {
     "iopub.execute_input": "2024-03-26T13:48:06.877496Z",
     "iopub.status.busy": "2024-03-26T13:48:06.877366Z",
     "iopub.status.idle": "2024-03-26T13:48:06.879580Z",
     "shell.execute_reply": "2024-03-26T13:48:06.879223Z",
     "shell.execute_reply.started": "2024-03-26T13:48:06.877485Z"
    }
   },
   "outputs": [],
   "source": [
    "throughput_fullpath = os.path.join(spectractor.__path__[0],parameters.THROUGHPUT_DIR)\n",
    "throughput_fullfilename = os.path.join(throughput_fullpath,throughput_filename)"
   ]
  },
  {
   "cell_type": "code",
   "execution_count": 20,
   "id": "ce4b52ab-83ea-4c22-92c4-e8d78eee5782",
   "metadata": {
    "execution": {
     "iopub.execute_input": "2024-03-26T13:48:06.880156Z",
     "iopub.status.busy": "2024-03-26T13:48:06.880035Z",
     "iopub.status.idle": "2024-03-26T13:48:06.884804Z",
     "shell.execute_reply": "2024-03-26T13:48:06.884448Z",
     "shell.execute_reply.started": "2024-03-26T13:48:06.880145Z"
    }
   },
   "outputs": [],
   "source": [
    "tel_lambdas, tel_thr, tel_errthr = load_transmission(throughput_fullfilename) "
   ]
  },
  {
   "cell_type": "code",
   "execution_count": 21,
   "id": "9b9eb933-ee6d-4128-9589-0c8ac342a27d",
   "metadata": {
    "execution": {
     "iopub.execute_input": "2024-03-26T13:48:06.885399Z",
     "iopub.status.busy": "2024-03-26T13:48:06.885275Z",
     "iopub.status.idle": "2024-03-26T13:48:06.887908Z",
     "shell.execute_reply": "2024-03-26T13:48:06.887525Z",
     "shell.execute_reply.started": "2024-03-26T13:48:06.885388Z"
    }
   },
   "outputs": [
    {
     "name": "stdout",
     "output_type": "stream",
     "text": [
      "/home/d/dagoret/repos/repos_w_2024_07/Spectractor/lib/python/spectractor/simulation/AuxTelThroughput/\n",
      "multispectra_holo4_003_HD142331_20230802_AuxTel_doGainsPTC_v3.0.3_throughput.txt\n"
     ]
    }
   ],
   "source": [
    "parameters.THROUGHPUT_DIR = throughput_fullpath \n",
    "parameters.OBS_FULL_INSTRUMENT_TRANSMISSON = throughput_filename\n",
    "print(parameters.THROUGHPUT_DIR )\n",
    "print(parameters.OBS_FULL_INSTRUMENT_TRANSMISSON)"
   ]
  },
  {
   "cell_type": "code",
   "execution_count": 22,
   "id": "8a4abdb4-62d7-4fd9-8087-24c94a98a414",
   "metadata": {
    "execution": {
     "iopub.execute_input": "2024-03-26T13:48:06.888504Z",
     "iopub.status.busy": "2024-03-26T13:48:06.888381Z",
     "iopub.status.idle": "2024-03-26T13:48:07.035955Z",
     "shell.execute_reply": "2024-03-26T13:48:07.035521Z",
     "shell.execute_reply.started": "2024-03-26T13:48:06.888493Z"
    }
   },
   "outputs": [],
   "source": [
    "%matplotlib inline\n",
    "tel = TelescopeTransmission()\n",
    "tel.plot_transmission()"
   ]
  },
  {
   "cell_type": "code",
   "execution_count": 23,
   "id": "9cd0e3cf-dfa5-4e15-acca-b311ecfc74af",
   "metadata": {
    "execution": {
     "iopub.execute_input": "2024-03-26T13:48:07.036641Z",
     "iopub.status.busy": "2024-03-26T13:48:07.036508Z",
     "iopub.status.idle": "2024-03-26T13:48:07.111029Z",
     "shell.execute_reply": "2024-03-26T13:48:07.110646Z",
     "shell.execute_reply.started": "2024-03-26T13:48:07.036629Z"
    }
   },
   "outputs": [
    {
     "data": {
      "text/plain": [
       "[<matplotlib.lines.Line2D at 0x7f3e3375a690>]"
      ]
     },
     "execution_count": 23,
     "metadata": {},
     "output_type": "execute_result"
    },
    {
     "data": {
      "image/png": "[encoded data removed]",
      "text/plain": [
       "<Figure size 600x300 with 1 Axes>"
      ]
     },
     "metadata": {},
     "output_type": "display_data"
    }
   ],
   "source": [
    "%matplotlib inline\n",
    "fig = plt.figure(figsize=(6,3))\n",
    "ax = fig.add_subplot()\n",
    "ax.plot(tel_lambdas,tel.transmission(tel_lambdas))"
   ]
  },
  {
   "cell_type": "markdown",
   "id": "b94d0de3-0438-4d90-a782-a6ddc43e043a",
   "metadata": {},
   "source": [
    "### Config disperser"
   ]
  },
  {
   "cell_type": "code",
   "execution_count": 24,
   "id": "7b244e82-6738-4817-87d0-6429a3e87ffb",
   "metadata": {
    "execution": {
     "iopub.execute_input": "2024-03-26T13:48:07.111712Z",
     "iopub.status.busy": "2024-03-26T13:48:07.111581Z",
     "iopub.status.idle": "2024-03-26T13:48:07.119681Z",
     "shell.execute_reply": "2024-03-26T13:48:07.119308Z",
     "shell.execute_reply.started": "2024-03-26T13:48:07.111701Z"
    }
   },
   "outputs": [],
   "source": [
    "disp = dispersers.Hologram(\"holo4_003\")"
   ]
  },
  {
   "cell_type": "markdown",
   "id": "cb7edb87-9c6c-4dbb-98ed-7b8724dad8d9",
   "metadata": {},
   "source": [
    "## Load config filename for Auxtel"
   ]
  },
  {
   "cell_type": "code",
   "execution_count": 25,
   "id": "196be3c7-f923-4c07-a85f-7772caf842d3",
   "metadata": {
    "execution": {
     "iopub.execute_input": "2024-03-26T13:48:07.120316Z",
     "iopub.status.busy": "2024-03-26T13:48:07.120189Z",
     "iopub.status.idle": "2024-03-26T13:48:07.122132Z",
     "shell.execute_reply": "2024-03-26T13:48:07.121766Z",
     "shell.execute_reply.started": "2024-03-26T13:48:07.120304Z"
    }
   },
   "outputs": [],
   "source": [
    "#load_config(config_fullpath)"
   ]
  },
  {
   "cell_type": "code",
   "execution_count": 26,
   "id": "a22c35da-d480-48ea-ab7c-48eff9f12423",
   "metadata": {
    "execution": {
     "iopub.execute_input": "2024-03-26T13:48:07.122839Z",
     "iopub.status.busy": "2024-03-26T13:48:07.122601Z",
     "iopub.status.idle": "2024-03-26T13:48:07.286977Z",
     "shell.execute_reply": "2024-03-26T13:48:07.286594Z",
     "shell.execute_reply.started": "2024-03-26T13:48:07.122827Z"
    }
   },
   "outputs": [
    {
     "data": {
      "image/png": "[encoded data removed]",
      "text/plain": [
       "<Figure size 800x800 with 1 Axes>"
      ]
     },
     "metadata": {},
     "output_type": "display_data"
    }
   ],
   "source": [
    "disp.plot_transmission()"
   ]
  },
  {
   "cell_type": "code",
   "execution_count": 27,
   "id": "4c18b50f-b5b0-4d0b-86d2-e46ce561ebc6",
   "metadata": {
    "execution": {
     "iopub.execute_input": "2024-03-26T13:48:07.287596Z",
     "iopub.status.busy": "2024-03-26T13:48:07.287470Z",
     "iopub.status.idle": "2024-03-26T13:48:07.347633Z",
     "shell.execute_reply": "2024-03-26T13:48:07.347271Z",
     "shell.execute_reply.started": "2024-03-26T13:48:07.287585Z"
    }
   },
   "outputs": [
    {
     "data": {
      "text/plain": [
       "[<matplotlib.lines.Line2D at 0x7f3e343b5e10>]"
      ]
     },
     "execution_count": 27,
     "metadata": {},
     "output_type": "execute_result"
    },
    {
     "data": {
      "image/png": "[encoded data removed]",
      "text/plain": [
       "<Figure size 400x300 with 1 Axes>"
      ]
     },
     "metadata": {},
     "output_type": "display_data"
    }
   ],
   "source": [
    "fig = plt.figure(figsize=(4,3))\n",
    "ax = fig.add_subplot()\n",
    "ax.plot(tel_lambdas,disp.transmission(tel_lambdas))"
   ]
  },
  {
   "cell_type": "markdown",
   "id": "27531e09-1499-4049-870f-cbd3a2063d51",
   "metadata": {},
   "source": [
    "## Check the presence of the spectra\n",
    "\n",
    "### select the date of observation in 2022 and 2023"
   ]
  },
  {
   "cell_type": "code",
   "execution_count": 28,
   "id": "aa2e772a-94a2-4f98-a4df-8353298f15d4",
   "metadata": {
    "execution": {
     "iopub.execute_input": "2024-03-26T13:48:07.348262Z",
     "iopub.status.busy": "2024-03-26T13:48:07.348137Z",
     "iopub.status.idle": "2024-03-26T13:48:07.351404Z",
     "shell.execute_reply": "2024-03-26T13:48:07.351044Z",
     "shell.execute_reply.started": "2024-03-26T13:48:07.348251Z"
    }
   },
   "outputs": [],
   "source": [
    "ALL_DATEOBS = np.array([20230117, 20230118, 20230119, 20230131, 20230201, 20230202,\n",
    "       20230214, 20230215, 20230216, 20230228, 20230301, 20230302,\n",
    "       20230314, 20230315, 20230316, 20230509, 20230510, 20230511,\n",
    "       20230523, 20230524, 20230525, 20230718, 20230720, 20230801,\n",
    "       20230802, 20230815, 20230817, 20230829, 20230912, 20230913,\n",
    "       20230914, 20230926, 20230927, 20230928, 20231010, 20231107,\n",
    "       20231108, 20231113, 20231114, 20231115, 20231116, 20231120,\n",
    "       20231127, 20231128, 20231129, 20231130, 20231204, 20231205,\n",
    "       20231206, 20231207, 20231211, 20231212, 20231214, 20231215,\n",
    "       20231219, 20231220])\n",
    "\n",
    "file_out_allfittedparams = \"out_allfittedparams.csv\""
   ]
  },
  {
   "cell_type": "markdown",
   "id": "571a3e0d-4de6-4dd4-9d8b-f203af58f2a9",
   "metadata": {},
   "source": [
    "- Split in 4 parts because too many files open"
   ]
  },
  {
   "cell_type": "code",
   "execution_count": 29,
   "id": "58b7cb23-5e0c-4f1d-9ca7-5b71deac7da9",
   "metadata": {
    "execution": {
     "iopub.execute_input": "2024-03-26T13:48:07.352049Z",
     "iopub.status.busy": "2024-03-26T13:48:07.351924Z",
     "iopub.status.idle": "2024-03-26T13:48:07.355619Z",
     "shell.execute_reply": "2024-03-26T13:48:07.355249Z",
     "shell.execute_reply.started": "2024-03-26T13:48:07.352038Z"
    }
   },
   "outputs": [],
   "source": [
    "\n",
    "#ALL_DATEOBS = np.array([20220913, 20220914, 20220927, 20220928, 20220929, 20221011,\n",
    "#       20221012, 20221025, 20221026, 20221027, 20221109, 20221110,\n",
    "#       20221123, 20221207, 20221208, 20221209, 20221210, 20221212])\n",
    "#file_out_allfittedparams = \"out_allfittedparams_2022_3_3.csv\"\n",
    "\n",
    "\n",
    "#ALL_DATEOBS = np.array([20230117, 20230118, 20230119, 20230131, 20230201, 20230202,\n",
    "#       20230214, 20230215, 20230216, 20230228, 20230301, 20230302,\n",
    "#       20230314, 20230315, 20230316]) \n",
    "#file_out_allfittedparams = \"out_allfittedparams_2023_1_4.csv\"\n",
    "                        \n",
    "#ALL_DATEOBS = np.array([20230509, 20230510, 20230511,\n",
    "#       20230523, 20230524, 20230525, 20230718, 20230720, 20230801,\n",
    "#       20230802, 20230815, 20230817, 20230829]) \n",
    "#file_out_allfittedparams = \"out_allfittedparams_2023_2_4.csv\"                        \n",
    "                        \n",
    "#ALL_DATEOBS = np.array([20230912, 20230913,\n",
    "#       20230914, 20230926, 20230927, 20230928, 20231010, 20231107,\n",
    "#       20231108, 20231113, 20231114, 20231115, 20231116]) \n",
    "#file_out_allfittedparams = \"out_allfittedparams_2023_3_4.csv\"\n",
    "\n",
    "\n",
    "#ALL_DATEOBS = np.array([20231120,\n",
    "#       20231127, 20231128, 20231129, 20231130, 20231204, 20231205,\n",
    "#       20231206, 20231207, 20231211, 20231212, 20231214, 20231215,\n",
    "#       20231219, 20231220])\n",
    "#file_out_allfittedparams = \"out_allfittedparams_2023_4_4.csv\""
   ]
  },
  {
   "cell_type": "code",
   "execution_count": 30,
   "id": "37068b64-c130-42dc-af48-ae89080f6327",
   "metadata": {
    "execution": {
     "iopub.execute_input": "2024-03-26T13:48:07.356214Z",
     "iopub.status.busy": "2024-03-26T13:48:07.356094Z",
     "iopub.status.idle": "2024-03-26T13:48:07.360936Z",
     "shell.execute_reply": "2024-03-26T13:48:07.360569Z",
     "shell.execute_reply.started": "2024-03-26T13:48:07.356204Z"
    }
   },
   "outputs": [],
   "source": [
    "#DATEOBS = 20231207 # studied 2023/12/12\n",
    "#DATEOBS = 20231206 # studied 2023/12/18\n",
    "#DATEOBS = 20231205 # studied 2023/12/18\n",
    "#DATEOBS = 20231204 # studied 2023/12/18\n",
    "#DATEOBS = 20231130 # studied 2023/12/18\n",
    "#DATEOBS = 20231129 # studied 2023/12/18\n",
    "#DATEOBS = 20231128 # studied 2023/12/18\n",
    "#DATEOBS = 20231127 # studied 2023/12/18\n",
    "\n",
    "#DATEOBS = 20231120 # studied 2024/01/11 , not too bad\n",
    "#DATEOBS = 20231116 # studied 2024/01/11 , not too bad\n",
    "#DATEOBS = 20231115 # studied 2024/01/11 , not too bad, too short\n",
    "#DATEOBS = 20231114 # studied 2024/01/11 , not too bad, too short\n",
    "#DATEOBS = 20231113 # studied 2024/01/11 , not too bad, too short\n",
    "\n",
    "\n",
    "# year 2022      \n",
    "#ALL_DATEOBS = np.array([20220913, 20220914, 20220927, 20220928, 20220929, 20221011,\n",
    "#       20221012, 20221025, 20221026, 20221027, 20221109, 20221110,\n",
    "#       20221123, 20221207, 20221208, 20221209, 20221210, 20221212])\n",
    "#file_out_allfittedparams = \"out_allfittedparams_selected_13sept-12dec2022.csv\"\n",
    "                       \n",
    "# beginning of year 2023                       \n",
    "#ALL_DATEOBS = np.array([20230117, 20230118, 20230119, 20230131, 20230201, 20230202,\n",
    "#                        20230214, 20230215, 20230216, 20230228])                       \n",
    "#file_out_allfittedparams = \"out_allfittedparams_selected_1jan-28feb2023.csv\"\n",
    "#file_out_zp = \"zp_selected_1jan-28feb2023.csv\"\n",
    "\n",
    "# Middle of the year 2023\n",
    "#ALL_DATEOBS = np.array([\n",
    "#       20230301, 20230302,\n",
    "#       20230314, 20230315, 20230316,20230509, 20230510, 20230511,\n",
    "#       20230523, 20230524, \n",
    "#       20230525, \n",
    "#       20230718, 20230720, \n",
    "       #20230801, # only one bad file\n",
    "#       20230802, 20230815, 20230817, 20230829, 20230912, 20230913,\n",
    "#       20230914])\n",
    "#file_out_allfittedparams = \"out_allfittedparams_selected_1march-14sept2023.csv\"\n",
    "#file_out_zp = \"zp_selected_1march-14sept2023.csv\"\n",
    "\n",
    "\n",
    "# End of year 2023\n",
    "ALL_DATEOBS = np.array([#20230926, \n",
    "                        20230927, 20230928, \n",
    "                        20231010, \n",
    "                        20231107,20231108,\n",
    "                        20231113,20231114,20231115,20231116,20231120,20231127,20231128,20231129,\n",
    "                        20231130,20231204,20231205,20231206,20231207]) \n",
    "\n",
    "file_out_allfittedparams = \"out_allfittedparams_selected_27sept-07dec2023.csv\"\n",
    "file_out_zp = \"zp_selected_27sept-07dec2023.csv\""
   ]
  },
  {
   "cell_type": "code",
   "execution_count": 31,
   "id": "d7de003d-ae70-4c4b-8aea-d4bdc1785537",
   "metadata": {
    "execution": {
     "iopub.execute_input": "2024-03-26T13:48:07.361555Z",
     "iopub.status.busy": "2024-03-26T13:48:07.361432Z",
     "iopub.status.idle": "2024-03-26T13:48:07.364718Z",
     "shell.execute_reply": "2024-03-26T13:48:07.364378Z",
     "shell.execute_reply.started": "2024-03-26T13:48:07.361543Z"
    }
   },
   "outputs": [
    {
     "data": {
      "text/plain": [
       "18"
      ]
     },
     "execution_count": 31,
     "metadata": {},
     "output_type": "execute_result"
    }
   ],
   "source": [
    "len(ALL_DATEOBS)"
   ]
  },
  {
   "cell_type": "markdown",
   "id": "c8c173f7-fb14-4b19-bd8c-070f563aa1e2",
   "metadata": {},
   "source": [
    "## Access to spectra using the butler"
   ]
  },
  {
   "cell_type": "code",
   "execution_count": 32,
   "id": "46d36542-654d-4779-90f8-50c5424fc5c7",
   "metadata": {
    "execution": {
     "iopub.execute_input": "2024-03-26T13:48:07.365290Z",
     "iopub.status.busy": "2024-03-26T13:48:07.365174Z",
     "iopub.status.idle": "2024-03-26T13:48:07.894261Z",
     "shell.execute_reply": "2024-03-26T13:48:07.893833Z",
     "shell.execute_reply.started": "2024-03-26T13:48:07.365279Z"
    }
   },
   "outputs": [
    {
     "name": "stdout",
     "output_type": "stream",
     "text": [
      ">>> 20230927 :  Number of records :  46  /  46\n",
      ">>> 20230928 :  Number of records :  44  /  90\n",
      ">>> 20231010 :  Number of records :  56  /  146\n",
      ">>> 20231107 :  Number of records :  30  /  176\n",
      ">>> 20231108 :  Number of records :  8  /  184\n",
      ">>> 20231113 :  Number of records :  13  /  197\n",
      ">>> 20231114 :  Number of records :  21  /  218\n",
      ">>> 20231115 :  Number of records :  28  /  246\n",
      ">>> 20231116 :  Number of records :  24  /  270\n",
      ">>> 20231120 :  Number of records :  34  /  304\n",
      ">>> 20231127 :  Number of records :  29  /  333\n",
      ">>> 20231128 :  Number of records :  36  /  369\n",
      ">>> 20231129 :  Number of records :  24  /  393\n",
      ">>> 20231130 :  Number of records :  24  /  417\n",
      ">>> 20231204 :  Number of records :  24  /  441\n",
      ">>> 20231205 :  Number of records :  19  /  460\n",
      ">>> 20231206 :  Number of records :  14  /  474\n",
      ">>> 20231207 :  Number of records :  18  /  492\n"
     ]
    }
   ],
   "source": [
    "all_records = []\n",
    "count = 0\n",
    "for DATEOBS in ALL_DATEOBS:\n",
    "    where = f\"instrument='LATISS' and visit.day_obs={DATEOBS}\" \n",
    "    records = list(butler.registry.queryDimensionRecords('visit', datasets='spectractorSpectrum', where=where,  collections=my_collection))\n",
    "    all_records.append(records)\n",
    "    count += len(records)\n",
    "    print(f\">>> {DATEOBS} :  Number of records : \",len(records),\" / \", count)\n",
    "    "
   ]
  },
  {
   "cell_type": "code",
   "execution_count": 33,
   "id": "52014521-f686-4245-8ea1-0252d15f018a",
   "metadata": {
    "execution": {
     "iopub.execute_input": "2024-03-26T13:48:07.894926Z",
     "iopub.status.busy": "2024-03-26T13:48:07.894796Z",
     "iopub.status.idle": "2024-03-26T13:48:07.897530Z",
     "shell.execute_reply": "2024-03-26T13:48:07.897188Z",
     "shell.execute_reply.started": "2024-03-26T13:48:07.894914Z"
    }
   },
   "outputs": [
    {
     "data": {
      "text/plain": [
       "18"
      ]
     },
     "execution_count": 33,
     "metadata": {},
     "output_type": "execute_result"
    }
   ],
   "source": [
    "len(all_records)"
   ]
  },
  {
   "cell_type": "markdown",
   "id": "1e235494-0fd1-4e20-b89f-99e01fe95125",
   "metadata": {},
   "source": [
    "## Get params, times, headers and Spectra"
   ]
  },
  {
   "cell_type": "code",
   "execution_count": null,
   "id": "c5d748d7-32d4-4338-82e4-cf5c4e250fb6",
   "metadata": {
    "execution": {
     "iopub.execute_input": "2024-03-26T13:48:07.898077Z",
     "iopub.status.busy": "2024-03-26T13:48:07.897959Z"
    }
   },
   "outputs": [
    {
     "name": "stdout",
     "output_type": "stream",
     "text": [
      "0 20230927 46\n"
     ]
    }
   ],
   "source": [
    "all_params_spectrum = []\n",
    "all_params_spectrogram = []\n",
    "all_times = []\n",
    "all_headers = []\n",
    "all_spectra = []\n",
    "\n",
    "for idx,DATEOBS in enumerate(ALL_DATEOBS):\n",
    "\n",
    "    records = all_records[idx]\n",
    "    print(idx,DATEOBS,len(records))\n",
    "    params_spectrum = []\n",
    "    params_spectrogram = []\n",
    "    times = []\n",
    "    headers = []\n",
    "    spectra = []\n",
    "\n",
    "    for i, r in enumerate(records):\n",
    "        try:\n",
    "            times.append(r.day_obs)\n",
    "            spec =  butler.get('spectractorSpectrum', visit=r.id, collections=my_collection, detector=0, instrument='LATISS')\n",
    "            headers.append(spec.header)\n",
    "            spectra.append(spec)\n",
    "            p = butler.get('spectrumLibradtranFitParameters', visit=r.id, collections=my_collection, detector=0, instrument='LATISS')\n",
    "            params_spectrum.append(p)\n",
    "            p = butler.get('spectrogramLibradtranFitParameters', visit=r.id, collections=my_collection, detector=0, instrument='LATISS')\n",
    "            params_spectrogram.append(p)\n",
    "    #except ValueError:\n",
    "        except Exception as inst:\n",
    "            except_type = type(inst)\n",
    "            except_args = inst.args\n",
    "            print(\"catch exception \", inst, \"type =\",except_type, \"args = \",except_args) \n",
    "            print(\"\\t >>>>> Skip record \", r.id)\n",
    "            continue\n",
    "\n",
    "    all_params_spectrum.append(params_spectrum)\n",
    "    all_params_spectrogram.append(params_spectrogram)\n",
    "    all_times.append(times)\n",
    "    all_headers.append(headers)\n",
    "    all_spectra.append(spectra)"
   ]
  },
  {
   "cell_type": "markdown",
   "id": "788a29e7-9f4d-4fdf-8395-6b99c5f2765d",
   "metadata": {},
   "source": [
    "## Filtering data"
   ]
  },
  {
   "cell_type": "code",
   "execution_count": null,
   "id": "0340e861-caac-4d23-a011-761a907cee05",
   "metadata": {},
   "outputs": [],
   "source": [
    "all_filtered_spectra = []\n",
    "\n",
    "count = 0\n",
    "for idx,DATEOBS in enumerate(ALL_DATEOBS):\n",
    "    records = all_records[idx]\n",
    "    spectra_filtered = filter_data(butler,my_collection,DATEOBS,records)\n",
    "    count += len(spectra_filtered)\n",
    "    all_filtered_spectra.append(spectra_filtered)\n",
    "    print(idx,DATEOBS,len(records),len(spectra_filtered),count)\n",
    "    "
   ]
  },
  {
   "cell_type": "markdown",
   "id": "8d25e6ae-14cd-499e-9ea4-81ca11d63842",
   "metadata": {},
   "source": [
    "## Information from atmospheric fits"
   ]
  },
  {
   "cell_type": "code",
   "execution_count": null,
   "id": "44a4ebb6-c4c4-448b-9a84-bf0ad5b8ca64",
   "metadata": {},
   "outputs": [],
   "source": [
    "headers = all_headers[0]"
   ]
  },
  {
   "cell_type": "code",
   "execution_count": null,
   "id": "76d75c9d-7370-4f5d-a845-8dc8d747f59c",
   "metadata": {},
   "outputs": [],
   "source": [
    "columns_spectrum = [\"id\"]\n",
    "\n",
    "for h in headers[0]:\n",
    "    if \"COMMENT\" in h or \"EXTNAME\" in h: continue\n",
    "    if \"LBDAS_T\" in h or \"PSF_P_T\" in h or \"AMPLIS_T\" in h: continue\n",
    "    if \"UNIT\" in h: continue\n",
    "    if \"SIMPLE\" in h: continue\n",
    "    columns_spectrum.append(h)\n",
    " \n",
    "columns_spectrogram_bestfit = []\n",
    "for key in params_spectrogram[0].labels:\n",
    "    columns_spectrogram_bestfit.append(key)\n",
    "    columns_spectrogram_bestfit.append(key+\"_err\")\n",
    "\n",
    "columns_spectrum_bestfit = []\n",
    "for key in params_spectrum[0].labels:\n",
    "    columns_spectrum_bestfit.append(key)\n",
    "    columns_spectrum_bestfit.append(key+\"_err\")"
   ]
  },
  {
   "cell_type": "code",
   "execution_count": null,
   "id": "8c266d30-9dec-43ab-abb2-70953119eaac",
   "metadata": {},
   "outputs": [],
   "source": [
    "print(columns_spectrum)"
   ]
  },
  {
   "cell_type": "code",
   "execution_count": null,
   "id": "15e86e74-7dc7-4df4-aca2-4297c83d3c9c",
   "metadata": {},
   "outputs": [],
   "source": [
    "print(columns_spectrogram_bestfit)"
   ]
  },
  {
   "cell_type": "code",
   "execution_count": null,
   "id": "f84ed534-22aa-4453-9491-b95159c26992",
   "metadata": {},
   "outputs": [],
   "source": [
    "print(columns_spectrum_bestfit)"
   ]
  },
  {
   "cell_type": "markdown",
   "id": "cc992576-24f8-485e-9295-1e038d646a67",
   "metadata": {},
   "source": [
    "## Merge dataframes of general parameters and fitted params"
   ]
  },
  {
   "cell_type": "code",
   "execution_count": null,
   "id": "a1771663-5bae-44d5-84f0-7ab74a9e3b81",
   "metadata": {},
   "outputs": [],
   "source": [
    "all_df = []\n",
    "\n",
    "for idx,DATEOBS in enumerate(ALL_DATEOBS):\n",
    "  \n",
    "    records = all_records[idx]\n",
    "    headers = all_headers[idx]\n",
    "    params_spectrogram = all_params_spectrogram[idx]\n",
    "    params_spectrum = all_params_spectrum[idx]\n",
    "   \n",
    "    min_index = 0\n",
    "    max_index = np.inf\n",
    "\n",
    "    # General parameters\n",
    "    df1 = pd.DataFrame(columns=columns_spectrum)\n",
    "    for k, header in enumerate(headers):\n",
    "        # if k > 40: break\n",
    "        n = records[k].id\n",
    "        if n < min_index or n > max_index: continue\n",
    "        row = {\"id\": n}\n",
    "        for h in header:\n",
    "            if h in columns_spectrum:\n",
    "                row[h] = header[h]\n",
    "        df1.loc[len(df1)] = row\n",
    "\n",
    "\n",
    "    # fitted parameters in Spectrogram\n",
    "    df2 = pd.DataFrame(columns=columns_spectrogram_bestfit)\n",
    "    for k, p in enumerate(params_spectrogram):\n",
    "        n = records[k].id\n",
    "        if n < min_index or n > max_index: continue\n",
    "        row = {\"id\": n}\n",
    "        for i, key in enumerate(p.labels):\n",
    "            row[key] = p.values[i]\n",
    "            row[key+\"_err\"] = p.err[i]\n",
    "        df2.loc[len(df2)] = row\n",
    "\n",
    "    # fitted parameters in Spectrum\n",
    "    df3 = pd.DataFrame(columns=columns_spectrum_bestfit)\n",
    "    for k, p in enumerate(params_spectrum):\n",
    "        n = records[k].id\n",
    "        if n < min_index or n > max_index: continue\n",
    "        row = {\"id\": n}\n",
    "        for i, key in enumerate(p.labels):\n",
    "            row[key] = p.values[i]\n",
    "            row[key+\"_err\"] = p.err[i]\n",
    "        df3.loc[len(df3)] = row\n",
    "\n",
    "    df = pd.merge(df1, df2, left_index=True, right_index=True)\n",
    "    df = pd.merge(df, df3, left_index=True, right_index=True)\n",
    "    df.set_index('DATE-OBS', inplace=True)\n",
    "    #df.index = pd.to_datetime(df.index, format=\"ISO8601\") #['DATE-OBS'])\n",
    "    df.index = pd.to_datetime(df.index) #['DATE-OBS'])\n",
    "    df.sort_index(inplace=True)\n",
    "\n",
    "    all_df.append(df)\n",
    "            "
   ]
  },
  {
   "cell_type": "code",
   "execution_count": null,
   "id": "53221815-f31b-4135-bce7-bd82433d6f38",
   "metadata": {},
   "outputs": [],
   "source": [
    "all_df[0].head()"
   ]
  },
  {
   "cell_type": "code",
   "execution_count": null,
   "id": "90644192-f5a4-40c4-876a-36005b839175",
   "metadata": {},
   "outputs": [],
   "source": [
    "all_df[1].head()"
   ]
  },
  {
   "cell_type": "code",
   "execution_count": null,
   "id": "a7d03eff-a7ae-47b4-ab6a-749db3e92d41",
   "metadata": {},
   "outputs": [],
   "source": [
    "df =  pd.concat(all_df)"
   ]
  },
  {
   "cell_type": "code",
   "execution_count": null,
   "id": "7fd4559f-29b5-4f0e-863b-42b1c267443d",
   "metadata": {},
   "outputs": [],
   "source": [
    "df_collist = list(df.columns)\n",
    "for idx,col in enumerate(df_collist):\n",
    "    print(idx,col)"
   ]
  },
  {
   "cell_type": "markdown",
   "id": "6afd34d6-972f-4ec4-a8d8-4dbee635134c",
   "metadata": {},
   "source": [
    "## Write csv file"
   ]
  },
  {
   "cell_type": "code",
   "execution_count": null,
   "id": "5974c935-3714-47b9-b9c2-5b9807668a7a",
   "metadata": {},
   "outputs": [],
   "source": [
    "# convert pandas to numpy rec array\n",
    "rec = df.to_records()"
   ]
  },
  {
   "cell_type": "code",
   "execution_count": null,
   "id": "fef5638d-352e-44c1-ad51-be80a80297c7",
   "metadata": {},
   "outputs": [],
   "source": [
    "filtered = (rec[\"CHI2_FIT\"] < 100) & (rec[\"PSF_REG\"] > 1e-2) & (rec[\"D2CCD\"] > 186)  & (rec[\"D2CCD\"] < 188)  # & (np.abs(rec[\"PIXSHIFT\"]) < 0.5) \n",
    "print(np.sum(filtered))\n",
    "filtered = filtered & (rec[\"PWV [mm]_err_x\"] > 0) & (rec[\"PWV [mm]_err_x\"] < 5) & (rec[\"A1_err_y\"] > 0) & (rec[\"A1_err_y\"] < 5) & (rec[\"PWV [mm]_err_y\"] > 0) & (rec[\"PWV [mm]_err_y\"] < 5)\n",
    "print(np.sum(filtered))\n",
    "#filtered = filtered & (rec[\"reso [pix]\"] < 3)\n",
    "filtered = filtered & (rec[\"reso [nm]\"] < 3)\n",
    "print(np.sum(filtered))\n",
    "filtered = filtered & (rec[\"ozone [db]_err_y\"] > 0) & (rec[\"ozone [db]_err_y\"] < 100)\n",
    "print(np.sum(filtered))\n",
    "filtered = filtered & (rec[\"A1_x\"] > 0.1) & (rec[\"A1_x\"] < 1.5)\n",
    "print(np.sum(filtered))\n",
    "filtered = filtered & (np.abs(rec[\"gamma_0_2\"]) < 30) & (np.abs(rec[\"alpha_0_2\"]) < 10)\n",
    "print(np.sum(filtered))"
   ]
  },
  {
   "cell_type": "markdown",
   "id": "316db49d-f9f8-445a-b1ad-ee18b52b74c2",
   "metadata": {},
   "source": [
    "## Save filtering"
   ]
  },
  {
   "cell_type": "code",
   "execution_count": null,
   "id": "69e6e9f3-8670-4236-a113-44023d335199",
   "metadata": {},
   "outputs": [],
   "source": [
    "df[\"filtered\"] =filtered"
   ]
  },
  {
   "cell_type": "markdown",
   "id": "8f10d7cb-004c-452a-8cbb-2c2477db6ba0",
   "metadata": {},
   "source": [
    "## Save atmospheric parameters and filters"
   ]
  },
  {
   "cell_type": "code",
   "execution_count": null,
   "id": "f53bfd99-b23f-41cb-9363-d652091b46ea",
   "metadata": {},
   "outputs": [],
   "source": [
    "df.to_csv(file_out_allfittedparams) "
   ]
  },
  {
   "cell_type": "markdown",
   "id": "b4108909-1085-40ba-a75f-60000a457e4b",
   "metadata": {},
   "source": [
    "## Plot fitted parameters"
   ]
  },
  {
   "cell_type": "code",
   "execution_count": null,
   "id": "3461fcc6-3911-4363-b605-7e9237856ae8",
   "metadata": {},
   "outputs": [],
   "source": [
    "stars = np.unique(rec[\"TARGET\"])\n",
    "stars"
   ]
  },
  {
   "cell_type": "code",
   "execution_count": null,
   "id": "2dfaff70-3f56-42d0-bbad-48bab1015637",
   "metadata": {},
   "outputs": [],
   "source": [
    "filters = np.unique(rec[\"FILTER\"])\n",
    "filters"
   ]
  },
  {
   "cell_type": "code",
   "execution_count": null,
   "id": "c0a22a04-2a92-4ddd-a899-76585cbde797",
   "metadata": {},
   "outputs": [],
   "source": [
    "ATMMINMAX = {}\n",
    "ATMMINMAX[\"A1_y\"] = [0.1,1.9]\n",
    "ATMMINMAX[\"chi2_y\"] = [0.,500.]\n",
    "ATMMINMAX[\"ozone [db]_y\"] = [0.,600.]\n",
    "ATMMINMAX[\"PWV [mm]_y\"] = [0.,12.]\n",
    "ATMMINMAX[\"VAOD_y\"] = [0.,0.5]\n",
    "ATMMINMAX[\"A2_y\"] = [0.7,1.3]\n",
    "\n",
    "ATMMINMAX[\"A1_x\"] = [0.1,1.9]\n",
    "ATMMINMAX[\"chi2_x\"] = [0.,500.]\n",
    "ATMMINMAX[\"ozone [db]_x\"] = [0.,600.]\n",
    "ATMMINMAX[\"PWV [mm]_x\"] = [0.,12.]\n",
    "ATMMINMAX[\"VAOD_x\"] = [0.,0.2]\n",
    "ATMMINMAX[\"A2_x\"] = [0.7,1.3]\n",
    "ATMMINMAX[\"angstrom_exp_x\"] = [0.,4.]"
   ]
  },
  {
   "cell_type": "markdown",
   "id": "ef948ad1-8a67-4785-be15-fb3b58b55007",
   "metadata": {},
   "source": [
    "## Plot fitted parameters"
   ]
  },
  {
   "cell_type": "code",
   "execution_count": null,
   "id": "5723521a-5069-40a7-9294-c3da3370645a",
   "metadata": {},
   "outputs": [],
   "source": [
    "#for col in [\"A1_x\", \"ozone [db]_x\", \"PWV [mm]_x\", \"VAOD_x\", \"D_CCD [mm]_x\", \"gamma_0_1\", \"gamma_0_2\", \"alpha_0_1\", \"alpha_0_2\", \"y_c_0_1\", \"y_c_0_2\" ]:\n",
    "for col in [\"A1_x\", \"ozone [db]_x\", \"PWV [mm]_x\", \"VAOD_x\",\"angstrom_exp_x\"]:\n",
    "    if len(col.split('_')) > 1:\n",
    "        col_err = '_'.join(col.split('_')[:-1])+\"_err_\"+col.split('_')[-1]\n",
    "    else:\n",
    "        col_err = col+\"_err\"\n",
    "    #fig = plt.figure(figsize=(8,5))\n",
    "    fig = plt.figure(figsize=(12,5))\n",
    "\n",
    "    index = filtered  & (rec[\"FILTER\"]==\"empty\")\n",
    "    all_values = rec[col][index]\n",
    "    \n",
    "    mu = all_values.mean()\n",
    "    sig =all_values.std()\n",
    "    textstr = '\\n'.join((col,\n",
    "    r'$\\mu=%.3f$' % (mu, ),\n",
    "    r'$\\sigma=%.3f$' % (sig, )))\n",
    "\n",
    "\n",
    "\n",
    "    for star in stars:\n",
    "        index = filtered & (rec[\"TARGET\"] == star) & (rec[\"FILTER\"]==\"empty\")\n",
    "        if col_err in df.columns:\n",
    "            plt.errorbar(rec[\"AIRMASS\"][index], rec[col][index], yerr=rec[col_err][index], linestyle=\"none\", marker=\"+\",ms=10,lw=3 ,label=star)\n",
    "        else:\n",
    "            plt.plot(rec[\"AIRMASS\"][index], rec[col][index], linestyle=\"none\", marker=\"+\",ms=10,lw=3 )\n",
    "    plt.ylim((0.9*np.min(rec[col][filtered]), 1.1*np.max(rec[col][filtered])))\n",
    "    if col in list(ATMMINMAX.keys()):\n",
    "        plt.ylim(ATMMINMAX[col][0],ATMMINMAX[col][1])\n",
    "\n",
    "    props = dict(boxstyle='round', facecolor='wheat', alpha=0.5)\n",
    "    ax = plt.gca()\n",
    "    # place a text box in upper left in axes coords\n",
    "    ax.text(0.05, 0.95, textstr, transform=ax.transAxes, fontsize=14, verticalalignment='top', bbox=props)\n",
    "    \n",
    "    plt.grid()\n",
    "    plt.title(col)\n",
    "    plt.legend(bbox_to_anchor=(1,1), loc=\"upper left\")\n",
    "    #plt.gcf().autofmt_xdate()\n",
    "    suptitle = f\"Observations : {DATEOBS} \\n collection = {my_collection}\"\n",
    "    plt.suptitle(suptitle,fontsize=10,y=1.0)\n",
    "    plt.tight_layout()\n",
    "    plt.show()\n"
   ]
  },
  {
   "cell_type": "code",
   "execution_count": null,
   "id": "fe12f131-a2a8-471b-9caa-f58ba66986f9",
   "metadata": {},
   "outputs": [],
   "source": [
    "for col in [\"A1_x\", \"ozone [db]_x\", \"PWV [mm]_x\", \"VAOD_x\",\"angstrom_exp_x\"]:\n",
    "    if len(col.split('_')) > 1:\n",
    "        col_err = '_'.join(col.split('_')[:-1])+\"_err_\"+col.split('_')[-1]\n",
    "    else:\n",
    "        col_err = col+\"_err\"\n",
    "\n",
    "    index = filtered  & (rec[\"FILTER\"]==\"empty\")\n",
    "    all_values = rec[col][index]\n",
    "    mu = all_values.mean()\n",
    "    sig =all_values.std()\n",
    "    textstr = '\\n'.join((col,\n",
    "    r'$\\mu=%.3f$' % (mu, ),\n",
    "    r'$\\sigma=%.3f$' % (sig, )))\n",
    "\n",
    "    fig = plt.figure(figsize=(12,5))\n",
    "    for star in stars:\n",
    "        index = filtered & (rec[\"TARGET\"] == star)\n",
    "        if col_err in df.columns:\n",
    "            plt.errorbar(rec[\"DATE-OBS\"][index], rec[col][index], yerr=rec[col_err][index], linestyle=\"none\", marker=\"+\",ms=19,lw=3 ,label=star)\n",
    "        else:\n",
    "            plt.plot(rec[\"DATE-OBS\"][index], rec[col][index], linestyle=\"none\", marker=\"+\",ms=10,lw=3)\n",
    "    plt.ylim((0.9*np.min(rec[col][filtered]), 1.1*np.max(rec[col][filtered])))\n",
    "    if col in list(ATMMINMAX.keys()):\n",
    "        plt.ylim(ATMMINMAX[col][0],ATMMINMAX[col][1])\n",
    "\n",
    "    props = dict(boxstyle='round', facecolor='wheat', alpha=0.5)\n",
    "    ax = plt.gca()\n",
    "    # place a text box in upper left in axes coords\n",
    "    ax.text(0.05, 0.95, textstr, transform=ax.transAxes, fontsize=14, verticalalignment='top', bbox=props)\n",
    "\n",
    "\n",
    "    plt.grid()\n",
    "    plt.title(col)\n",
    "    plt.legend(bbox_to_anchor=(1,1), loc=\"upper left\")\n",
    "    plt.gcf().autofmt_xdate()\n",
    "    suptitle = f\"Observations : {DATEOBS} \\n collection = {my_collection}\"\n",
    "    plt.suptitle(suptitle,fontsize=10,y=1.0)\n",
    "    plt.tight_layout()\n",
    "    plt.show()"
   ]
  },
  {
   "cell_type": "code",
   "execution_count": null,
   "id": "d3eb4806-fcc8-4085-bc42-5a46afeb65e6",
   "metadata": {},
   "outputs": [],
   "source": [
    "len(filtered)"
   ]
  },
  {
   "cell_type": "code",
   "execution_count": null,
   "id": "f00510dd-ca86-4e64-987e-69cd97b66f7d",
   "metadata": {},
   "outputs": [],
   "source": [
    "print(filtered)"
   ]
  },
  {
   "cell_type": "code",
   "execution_count": null,
   "id": "8e3aa7be-528c-4c5f-83f6-7ad0a934e67c",
   "metadata": {},
   "outputs": [],
   "source": [
    "df.head()"
   ]
  },
  {
   "cell_type": "code",
   "execution_count": null,
   "id": "2f6a24dd-9bc4-4c0b-a83b-51e1ac92bf31",
   "metadata": {},
   "outputs": [],
   "source": [
    "count = 0\n",
    "all_lists_of_targets = []\n",
    "for idx,filtered_spectra in enumerate(all_filtered_spectra):\n",
    "    DATEOBS = ALL_DATEOBS[idx]\n",
    "    N = len(filtered_spectra)\n",
    "    count += N\n",
    "    print(idx,DATEOBS,len(filtered_spectra),count) \n",
    "    list_of_targets = np.unique([spec.target.label for spec in filtered_spectra])\n",
    "    print(\">>> List of targets \",list_of_targets)\n",
    "    all_lists_of_targets.append(list_of_targets)\n",
    "   \n",
    "    # selection of fitted parameters\n",
    "    selected_ids = [spec.dataId for spec in filtered_spectra]\n",
    "    cut = (df.id == selected_ids[0])\n",
    "    N = len(selected_ids)\n",
    "    for idx in range(1,N):\n",
    "        cut = cut | (df.id == selected_ids[idx])\n",
    "    df_sel = df[cut][[\"id\",\"TARGET\",\"A1_x\", \"ozone [db]_x\", \"PWV [mm]_x\", \"VAOD_x\",\"filtered\"]]\n",
    "    \n",
    "    print(\">>> ID.     : \",DATEOBS, selected_ids)\n",
    "    print(\">>> AIRMASS : \",DATEOBS, [spec.airmass for spec in filtered_spectra])\n",
    "    #print(df_sel)\n",
    "    \n",
    "    if N>1:\n",
    "        fig = plot_spectra(filtered_spectra, [spec.airmass for spec in filtered_spectra],collection=my_collection,dateobs=DATEOBS)\n",
    "    else:\n",
    "        id = filtered_spectra[0].dataId\n",
    "        print(f\" \\n /////// SKIPP {id} \\n\")"
   ]
  },
  {
   "cell_type": "markdown",
   "id": "2b3df6b4-3a9c-43b3-a65c-dfd82934beec",
   "metadata": {},
   "source": [
    "## Make SED dictionnary"
   ]
  },
  {
   "cell_type": "code",
   "execution_count": null,
   "id": "f3bca128-9182-4fc6-8738-07ca3b0555d2",
   "metadata": {},
   "outputs": [],
   "source": [
    "list_of_all_targets = np.unique(np.concatenate(all_lists_of_targets))"
   ]
  },
  {
   "cell_type": "code",
   "execution_count": null,
   "id": "ed8aaceb-29aa-4c7c-ad03-433513865c67",
   "metadata": {},
   "outputs": [],
   "source": [
    "import getCalspec.getCalspec as gcal\n",
    "all_calspecs = {}\n",
    "for target_name in list_of_all_targets:\n",
    "    c =  gcal.Calspec(target_name) \n",
    "    all_calspecs[target_name] = c.get_spectrum_numpy() "
   ]
  },
  {
   "cell_type": "code",
   "execution_count": null,
   "id": "fa0b8bd6-d7a9-4b3f-86fd-17f6064c1657",
   "metadata": {},
   "outputs": [],
   "source": [
    "all_calspecs_sm = {}\n",
    "fig = plt.figure(figsize=(16,10))\n",
    "ax = fig.add_subplot()\n",
    "span = 3\n",
    "for target_name in list_of_all_targets:\n",
    "    c_dict = all_calspecs[target_name]\n",
    "    wls = c_dict[\"WAVELENGTH\"].value\n",
    "    sed = c_dict[\"FLUX\"].value\n",
    "    ax.plot(wls,sed,label=target_name)\n",
    "    \n",
    "    sedm = smooth_data_np_convolve(sed,span)\n",
    "    c_dict_sm = {\"WAVELENGTH\":wls,\"FLUX\":sedm}\n",
    "    all_calspecs_sm[target_name] = c_dict_sm\n",
    "    ax.plot(wls,sedm,label=\"smooth \" +target_name)\n",
    "ax.legend()\n",
    "ax.set_xlim(3000.,10000.)   \n",
    "ax.set_ylim(0.,0.5e-10)"
   ]
  },
  {
   "cell_type": "code",
   "execution_count": null,
   "id": "6e73cc99-93e0-44e8-a2c2-cab1efa5e7f3",
   "metadata": {},
   "outputs": [],
   "source": [
    "all_calspecs_sm"
   ]
  },
  {
   "cell_type": "markdown",
   "id": "4a77634f-fb16-4bce-a141-e0714b38e7bd",
   "metadata": {},
   "source": [
    "## Plot atmospheric transmissions"
   ]
  },
  {
   "cell_type": "code",
   "execution_count": null,
   "id": "a0803651-85f7-4c46-b2e7-8e1404c8b3d7",
   "metadata": {},
   "outputs": [],
   "source": [
    "count = 0\n",
    "for idx,filtered_spectra in enumerate(all_filtered_spectra):\n",
    "    DATEOBS = ALL_DATEOBS[idx]\n",
    "\n",
    "    # selection of fitted parameters\n",
    "    selected_ids = [spec.dataId for spec in filtered_spectra]\n",
    "    cut = (df.id == selected_ids[0])\n",
    "    N = len(selected_ids)\n",
    "    for idx in range(1,N):\n",
    "        cut = cut | (df.id == selected_ids[idx])\n",
    "    df_sel = df[cut][[\"id\",\"TARGET\",\"A1_x\", \"ozone [db]_x\", \"PWV [mm]_x\", \"VAOD_x\",\"filtered\"]]\n",
    "    \n",
    "    print(\">>> ID.     : \",DATEOBS, selected_ids)\n",
    "    print(\">>> AIRMASS : \",DATEOBS, [spec.airmass for spec in filtered_spectra])\n",
    "    #print(df_sel)\n",
    "    \n",
    "    if N > 1:\n",
    "        plot_atmtransmission(filtered_spectra, [spec.airmass for spec in filtered_spectra],all_calspecs_sm,tel,disp,collection=my_collection,dateobs=DATEOBS)\n",
    "    else:\n",
    "        id = filtered_spectra[0].dataId\n",
    "        print(f\" \\n /////// SKIPP {id} \\n\")\n"
   ]
  },
  {
   "cell_type": "markdown",
   "id": "73fa58fe-8b87-47e3-9b8d-63c0738ec59f",
   "metadata": {},
   "source": [
    "## Plot atmospheric transmissions for airmass = 1\n",
    "\n",
    "$$\n",
    "T(z_{pred}) = \\frac{ \\left( T(z_{meas}) \\right)^\\left( \\frac{z_{pred}}{z_{meas}}\\right)}{(T^{grey}_{z_{meas}})^{z_{pred}}}\n",
    "$$"
   ]
  },
  {
   "cell_type": "code",
   "execution_count": null,
   "id": "83e11e70-1df2-42fa-a48d-8f634e1877db",
   "metadata": {},
   "outputs": [],
   "source": [
    "for idx,filtered_spectra in enumerate(all_filtered_spectra):\n",
    "    DATEOBS = ALL_DATEOBS[idx]\n",
    "\n",
    "    # selection of fitted parameters\n",
    "    selected_ids = [spec.dataId for spec in filtered_spectra]\n",
    "    cut = (df.id == selected_ids[0])\n",
    "    N = len(selected_ids)\n",
    "    for idx in range(1,N):\n",
    "        cut = cut | (df.id == selected_ids[idx])\n",
    "    df_sel = df[cut][[\"id\",\"TARGET\",\"A1_x\", \"ozone [db]_x\", \"PWV [mm]_x\", \"VAOD_x\",\"filtered\"]]\n",
    "    \n",
    "    print(\">>> ID.     : \",DATEOBS, selected_ids)\n",
    "    print(\">>> AIRMASS : \",DATEOBS, [spec.airmass for spec in filtered_spectra])\n",
    "    #print(df_sel)\n",
    "    \n",
    "\n",
    "    if N > 1:\n",
    "        plot_atmtransmission_zcorr(filtered_spectra, [ spec.airmass for spec in filtered_spectra ],all_calspecs_sm,tel,disp,collection=my_collection,dateobs=DATEOBS )\n",
    "    else:\n",
    "        id = filtered_spectra[0].dataId\n",
    "        print(f\" \\n /////// SKIPP {id} \\n\")    "
   ]
  },
  {
   "cell_type": "markdown",
   "id": "476dd501-259d-4421-82c8-9820cf46ee03",
   "metadata": {},
   "source": [
    "## Show with simulation"
   ]
  },
  {
   "cell_type": "code",
   "execution_count": null,
   "id": "1c4baffa-4551-4a7d-a4bb-742d7e3069cd",
   "metadata": {},
   "outputs": [],
   "source": [
    "for idx,filtered_spectra in enumerate(all_filtered_spectra):\n",
    "    DATEOBS = ALL_DATEOBS[idx]\n",
    "    \n",
    "    # selection of fitted parameters\n",
    "    selected_ids = [spec.dataId for spec in filtered_spectra]\n",
    "    cut = (df.id == selected_ids[0])\n",
    "    N = len(selected_ids)\n",
    "    for idx in range(1,N):\n",
    "        cut = cut | (df.id == selected_ids[idx])\n",
    "    df_sel = df[cut][[\"id\",\"TARGET\",\"A1_x\", \"ozone [db]_x\", \"PWV [mm]_x\", \"VAOD_x\",\"filtered\"]]\n",
    "    \n",
    "    print(\">>> ID.     : \",DATEOBS, selected_ids)\n",
    "    print(\">>> AIRMASS : \",DATEOBS, [spec.airmass for spec in filtered_spectra])\n",
    "\n",
    "    break\n",
    "    "
   ]
  },
  {
   "cell_type": "code",
   "execution_count": null,
   "id": "b5836394-cc49-4d70-bf4d-cfd24ef0ceb4",
   "metadata": {},
   "outputs": [],
   "source": [
    "df_good = df_sel[df_sel.filtered].drop([\"id\",\"filtered\"],axis=1)\n",
    "m_A1 , m_ozone, m_PWV, m_VAOD = df_good.mean().values\n",
    "print(m_A1 , m_ozone, m_PWV, m_VAOD)"
   ]
  },
  {
   "cell_type": "code",
   "execution_count": null,
   "id": "666cf4ff-404e-4be1-89d0-91f3f1609279",
   "metadata": {},
   "outputs": [],
   "source": [
    "for spec in filtered_spectra:\n",
    "    row = df_sel[df_sel.id == spec.dataId]\n",
    "    (s_id, s_target, s_A1, s_ozone, s_PWV, s_VAOD, s_flag) = row.values[0]\n",
    "    if s_flag:\n",
    "        pwv=s_PWV\n",
    "        oz=s_ozone\n",
    "        vaod=s_VAOD\n",
    "        grey=s_A1\n",
    "    else:\n",
    "        pwv=m_PWV\n",
    "        oz=m_ozone\n",
    "        vaod=m_VAOD\n",
    "        grey=m_A1"
   ]
  },
  {
   "cell_type": "code",
   "execution_count": null,
   "id": "b1c1a188-31dc-4183-aa27-a2db0841109c",
   "metadata": {},
   "outputs": [],
   "source": [
    "allall_meas_atmtransmissions_z1 = []\n",
    "for idx,filtered_spectra in enumerate(all_filtered_spectra):\n",
    "    DATEOBS = ALL_DATEOBS[idx]\n",
    "    \n",
    "    # selection of fitted parameters\n",
    "    selected_ids = [spec.dataId for spec in filtered_spectra]\n",
    "    cut = (df.id == selected_ids[0])\n",
    "    N = len(selected_ids)\n",
    "    for idx in range(1,N):\n",
    "        cut = cut | (df.id == selected_ids[idx])\n",
    "    df_sel = df[cut][[\"id\",\"TARGET\",\"A1_x\", \"ozone [db]_x\", \"PWV [mm]_x\", \"VAOD_x\",\"filtered\"]]\n",
    "    \n",
    "    print(\">>> ID.     : \",DATEOBS, selected_ids)\n",
    "    print(\">>> AIRMASS : \",DATEOBS, [spec.airmass for spec in filtered_spectra])\n",
    "    #print(df_sel)\n",
    "    \n",
    "    if N> 1:\n",
    "    #plot_atmtransmission_zcorr(filtered_spectra, [ spec.airmass for spec in spectra_filtered ],all_calspecs_sm,tel,disp,collection=my_collection,dateobs=DATEOBS )\n",
    "        try:\n",
    "            all_meas_atmtransmissions_z1 = plot_atmtransmission_zcorr_antatmsim(filtered_spectra, [ spec.airmass for spec in filtered_spectra ],all_calspecs_sm,tel,disp,collection=my_collection,dateobs=DATEOBS,df_atm = df_sel)\n",
    "            allall_meas_atmtransmissions_z1.append(all_meas_atmtransmissions_z1)\n",
    "        except Exception as inst:\n",
    "            print(type(inst))    # the exception type\n",
    "            print(inst.args)     # arguments stored in .args\n",
    "            print(inst)          # __str__ allows args to be printed directly,\n",
    "                                 # but may be overridden in exception subclasses\n",
    "            id0 = filtered_spectra[0].dataId\n",
    "            id1 = filtered_spectra[-1].dataId\n",
    "            print(f\" \\n >>>>>>>> EXCEPTION SKIPP {id0} - {id1} \\n\")\n",
    "            allall_meas_atmtransmissions_z1.append([])\n",
    "    else:\n",
    "        id = filtered_spectra[0].dataId\n",
    "        print(f\" \\n /////// SKIPP {id} \\n\")\n",
    "        allall_meas_atmtransmissions_z1.append([])\n",
    "    "
   ]
  },
  {
   "cell_type": "code",
   "execution_count": null,
   "id": "eb188dd4-d153-469d-8662-2644543acdeb",
   "metadata": {},
   "outputs": [],
   "source": [
    "for idx,filtered_spectra in enumerate(all_filtered_spectra):\n",
    "    DATEOBS = ALL_DATEOBS[idx]\n",
    "\n",
    "    # selection of fitted parameters\n",
    "    selected_ids = [spec.dataId for spec in filtered_spectra]\n",
    "    cut = (df.id == selected_ids[0])\n",
    "    N = len(selected_ids)\n",
    "    for idx in range(1,N):\n",
    "        cut = cut | (df.id == selected_ids[idx])\n",
    "    df_sel = df[cut][[\"id\",\"TARGET\",\"A1_x\", \"ozone [db]_x\", \"PWV [mm]_x\", \"VAOD_x\",\"filtered\"]]\n",
    "    \n",
    "    print(\">>> ID.     : \",DATEOBS, selected_ids)\n",
    "    print(\">>> AIRMASS : \",DATEOBS, [spec.airmass for spec in filtered_spectra])\n",
    "    #print(df_sel)\n",
    "    \n",
    "\n",
    "    if N> 1:   \n",
    "        plot_atmtransmission_zcorr_antatmsim_ratio(filtered_spectra, [spec.airmass for spec in filtered_spectra],\n",
    "                                                    all_calspecs_sm,tel,disp,collection = my_collection,dateobs=DATEOBS, df_atm = df_sel )\n",
    "    else:\n",
    "        id = filtered_spectra[0].dataId\n",
    "        print(f\" \\n /////// SKIPP {id} \\n\")            "
   ]
  },
  {
   "cell_type": "markdown",
   "id": "f7f474e5-88b7-41c4-819b-95befeb926c3",
   "metadata": {},
   "source": [
    "## Save in HDF5"
   ]
  },
  {
   "cell_type": "code",
   "execution_count": null,
   "id": "6d561969-7ffc-4db2-913e-2b3e909dc77e",
   "metadata": {},
   "outputs": [],
   "source": [
    "for idx,filtered_spectra in enumerate(all_filtered_spectra):\n",
    "    DATEOBS = ALL_DATEOBS[idx]\n",
    "\n",
    "    # selection of fitted parameters\n",
    "    selected_ids = [spec.dataId for spec in filtered_spectra]\n",
    "    cut = (df.id == selected_ids[0])\n",
    "    N = len(selected_ids)\n",
    "    for idx in range(1,N):\n",
    "        cut = cut | (df.id == selected_ids[idx])\n",
    "    df_sel = df[cut][[\"id\",\"TARGET\",\"A1_x\", \"ozone [db]_x\", \"PWV [mm]_x\", \"VAOD_x\",\"filtered\"]]\n",
    "    \n",
    "    print(\">>> ID.     : \",DATEOBS, selected_ids)\n",
    "    print(\">>> AIRMASS : \",DATEOBS, [spec.airmass for spec in filtered_spectra])\n",
    "    #print(df_sel)\n",
    "    \n",
    "\n",
    "    if N> 1:   \n",
    "        savehdf5_atmtransmission_zcorr_antatmsim_ratio(filtered_spectra, [spec.airmass for spec in filtered_spectra],\n",
    "                                                    all_calspecs_sm,tel,disp,collection = my_collection,dateobs=DATEOBS, df_atm = df_sel)\n",
    "        #plot_atmtransmission_zcorr_antatmsim_ratio(filtered_spectra, [spec.airmass for spec in filtered_spectra],\n",
    "        #                                            all_calspecs_sm,tel,disp,collection = my_collection,dateobs=DATEOBS, df_atm = df_sel )\n",
    "    else:\n",
    "        id = filtered_spectra[0].dataId\n",
    "        print(f\" \\n /////// SKIPP {id} \\n\")    "
   ]
  },
  {
   "cell_type": "markdown",
   "id": "7b6038f0-7bb0-4113-8dcb-b2dad764b398",
   "metadata": {},
   "source": [
    "# Total transmission and zero points"
   ]
  },
  {
   "cell_type": "code",
   "execution_count": null,
   "id": "0daf533b-9ea2-4471-9efd-25a3857e5ba2",
   "metadata": {},
   "outputs": [],
   "source": [
    "def compute_total_transm(filter,meas_atmtransm):\n",
    "    \"\"\"\n",
    "    \"\"\"\n",
    "    N = len(meas_atmtransm)\n",
    "    bd = bandpass_inst[filter]\n",
    "    func = interpolate.interp1d(x=bd.wavelen, y=bd.sb ,fill_value=\"extrapolate\")\n",
    "    all_total_transm = []\n",
    "    for idx in range(N):\n",
    "        the_wl = meas_atmtransm[idx][0]\n",
    "        the_atm = meas_atmtransm[idx][1]\n",
    "        the_totaltrans = the_atm * func(the_wl)\n",
    "        all_total_transm.append((the_wl,the_totaltrans))\n",
    "    return all_total_transm"
   ]
  },
  {
   "cell_type": "code",
   "execution_count": null,
   "id": "140f4f86-cc36-46cf-baef-ab175a7492ce",
   "metadata": {},
   "outputs": [],
   "source": [
    "all_all_total_transm = []\n",
    "all_selectednights = []\n",
    "\n",
    "# loop on all transmission of a given night\n",
    "for idx,  all_meas_atmtransmissions_z1 in enumerate(allall_meas_atmtransmissions_z1): \n",
    "    DATEOBS = ALL_DATEOBS[idx]\n",
    "\n",
    "    if len(all_meas_atmtransmissions_z1)>1:\n",
    "        all_selectednights.append(True) \n",
    "        all_total_transm = {} \n",
    "        # loop on filters\n",
    "        for index,f in enumerate(filter_tagnames):\n",
    "            all_total_transm[f] = compute_total_transm(f,all_meas_atmtransmissions_z1)\n",
    "        \n",
    "        all_all_total_transm.append(all_total_transm )\n",
    "    else:\n",
    "        all_all_total_transm.append({})\n",
    "        all_selectednights.append(False) \n",
    "        "
   ]
  },
  {
   "cell_type": "code",
   "execution_count": null,
   "id": "77587631-16e4-4a91-b691-5d1935cd5a8f",
   "metadata": {},
   "outputs": [],
   "source": [
    "for idx0,all_total_transm in enumerate(all_all_total_transm):\n",
    "    \n",
    "    DATEOBS = ALL_DATEOBS[idx0]\n",
    "    if all_selectednights[idx0]:\n",
    "    \n",
    "\n",
    "        fig, axs = plt.subplots(1,1,figsize=(10,4))\n",
    "        for index,f in enumerate(filter_tagnames):\n",
    "    \n",
    "            N = len(all_total_transm[f])\n",
    "            for idx in range(N):\n",
    "                the_wl = all_total_transm[f][idx][0] \n",
    "                the_tottransm = all_total_transm[f][idx][1] \n",
    "                if index==0 or index==5:\n",
    "                    axs.plot(the_wl,the_tottransm ,color=filter_color[index],alpha=0.1) \n",
    "                else:\n",
    "                    axs.plot(the_wl,the_tottransm ,color=filter_color[index]) \n",
    "            axs.axvline(FILTERWL[index,2],color=filter_color[index],linestyle=\"-.\")\n",
    "    \n",
    "        axs.set_xlabel(\"$\\\\lambda$ (nm)\")\n",
    "        axs.set_title(\"Measured total Rubin-LSST filter throughput\",fontsize=14)\n",
    "        axs.set_ylim(0,0.6)\n",
    "        suptitle = f\"obs : {DATEOBS} , nspec = {N}\\n coll = {my_collection}\"\n",
    "        plt.suptitle(suptitle,fontsize=10,y=1.0)\n",
    "        plt.tight_layout()\n",
    "        plt.show()    "
   ]
  },
  {
   "cell_type": "markdown",
   "id": "5186b0e2-9520-408c-9791-e82b2551b7b9",
   "metadata": {},
   "source": [
    "### Compute integrals"
   ]
  },
  {
   "cell_type": "code",
   "execution_count": null,
   "id": "f0fcaab7-6866-4a9a-a1e1-b1d4869e9938",
   "metadata": {},
   "outputs": [],
   "source": [
    "all_all_total_II0 = []\n",
    "#all_all_total_II0_mjd = []\n",
    "\n",
    "\n",
    "# loop on dates\n",
    "for idx0,all_total_transm in enumerate(all_all_total_transm):\n",
    "    \n",
    "    DATEOBS = ALL_DATEOBS[idx0]\n",
    "    if all_selectednights[idx0]:\n",
    "        \n",
    "        all_total_II0 = {} \n",
    "   \n",
    "        for index,f in enumerate(filter_tagnames):\n",
    "    \n",
    "            N = len(all_total_transm[f])\n",
    "            all_II0 = np.zeros(N)\n",
    "                \n",
    "            for idx in range(N):\n",
    "                the_wl = all_total_transm[f][idx][0] \n",
    "                the_tottransm = all_total_transm[f][idx][1] \n",
    "                #print( DATEOBS,f,idx,N,len(the_wl),the_tottransm.min(),the_tottransm.max())\n",
    "                \n",
    "                try:    \n",
    "                    all_II0[idx] = fII0(the_wl,the_tottransm)\n",
    "                except Exception as inst:\n",
    "                    print(f\">>>> Exception in {DATEOBS}, filter {f} , idx = {idx}/{N}\")\n",
    "                    print(type(inst))    # the exception type\n",
    "                    print(inst.args)     # arguments stored in .args\n",
    "                    print(inst)          # __str__ allows args to be printed directly,\n",
    "                    # if calculation fails, put a NaN\n",
    "                    all_II0[idx] = np.nan\n",
    "\n",
    "            # remove NaN\n",
    "            all_total_II0[f] = all_II0[~np.isnan(all_II0)]\n",
    "            \n",
    "        all_all_total_II0.append(all_total_II0)\n",
    "         \n",
    "    else:\n",
    "        all_all_total_II0.append({})\n",
    "       \n",
    "        \n",
    "        "
   ]
  },
  {
   "cell_type": "code",
   "execution_count": null,
   "id": "3f8f826a-af8a-42e1-81a5-2687f66b405a",
   "metadata": {},
   "outputs": [],
   "source": [
    "np.nan"
   ]
  },
  {
   "cell_type": "code",
   "execution_count": null,
   "id": "2250112d-0041-4d76-8cb8-5b6339a2360b",
   "metadata": {},
   "outputs": [],
   "source": [
    "all_zp = []\n",
    "\n",
    "for idx0, all_total_II0 in enumerate(all_all_total_II0):\n",
    "    \n",
    "    DATEOBS = ALL_DATEOBS[idx0]\n",
    "    if all_selectednights[idx0]:\n",
    "        zp = {}\n",
    "        for index,f in enumerate(filter_tagnames):\n",
    "            zp[f] = 2.5*np.log10(all_total_II0[f]) \n",
    "        \n",
    "        all_zp.append(zp)\n",
    "    else:\n",
    "        all_zp.append({})"
   ]
  },
  {
   "cell_type": "code",
   "execution_count": null,
   "id": "6d24c654-07ec-409b-a891-29ed4bad5937",
   "metadata": {},
   "outputs": [],
   "source": [
    "for idx0, zp in enumerate(all_zp):\n",
    "    DATEOBS = ALL_DATEOBS[idx0]\n",
    "    if all_selectednights[idx0]:\n",
    "\n",
    "        fig, axs = plt.subplots(1,4,figsize=(18,4))\n",
    "        for index,f in enumerate(filter_tagnames):\n",
    "            if index==0 or index==5:\n",
    "                continue\n",
    "            X = (zp[f] - np.median(zp[f]))*1000.\n",
    "            N = len(X)\n",
    "            X = X[np.where(np.abs(X)<50)]\n",
    "            std = np.std(X)\n",
    "            label = f\"$\\sigma$({f})={std:.1f} mmag\"\n",
    "            axs[index-1].hist(X,bins=30,range=(-50,50),color=filter_color[index],alpha=0.5,label=label)\n",
    "            axs[index-1].grid()\n",
    "            #axs.legend(loc='center left', bbox_to_anchor=(1, 0.5))\n",
    "            axs[index-1].legend(loc='upper left')\n",
    "            axs[index-1].set_xlabel(\"ZP resolution (mmag)\",fontsize=12)\n",
    "        suptitle = f\"obs : {DATEOBS} , nspec = {N}\\n coll = {my_collection}\"\n",
    "        plt.suptitle(suptitle,fontsize=10,y=1.0)\n",
    "        plt.tight_layout()\n",
    "        plt.show()"
   ]
  },
  {
   "cell_type": "markdown",
   "id": "a6e454ce-903c-4300-8469-863029adadd1",
   "metadata": {},
   "source": [
    "### Summary for zero point repeatability "
   ]
  },
  {
   "cell_type": "code",
   "execution_count": null,
   "id": "b9b52975-983e-4715-97d4-4ecd4cf5f584",
   "metadata": {},
   "outputs": [],
   "source": [
    "df_zp = pd.DataFrame(columns= [\"dateobs\",\"dZp_u\",\"dZp_g\",\"dZp_r\",\"dZp_i\",\"dZp_z\",\"dZp_y\"]) \n",
    "icount = 0\n",
    "for idx0, zp in enumerate(all_zp):\n",
    "    DATEOBS = ALL_DATEOBS[idx0]\n",
    "    data = []\n",
    "    \n",
    "    if all_selectednights[idx0]:\n",
    "        data.append(int(DATEOBS))\n",
    "        for index,f in enumerate(filter_tagnames): \n",
    "            X = (zp[f] - np.median(zp[f]))*1000.\n",
    "            N = len(X)\n",
    "            X = X[np.where(np.abs(X)<50)]\n",
    "            std = np.std(X)\n",
    "            data.append(std)\n",
    "\n",
    "        df_zp.loc[icount] = data\n",
    "        icount +=1\n",
    "            \n",
    "           "
   ]
  },
  {
   "cell_type": "code",
   "execution_count": null,
   "id": "6b9359c5-e102-462f-916b-84e9f0dfda4b",
   "metadata": {},
   "outputs": [],
   "source": [
    "df_zp"
   ]
  },
  {
   "cell_type": "code",
   "execution_count": null,
   "id": "94a00ff1-5c9c-41e4-80b3-bb25f7c999ff",
   "metadata": {},
   "outputs": [],
   "source": [
    "df_zp.to_csv(file_out_zp)"
   ]
  },
  {
   "cell_type": "code",
   "execution_count": null,
   "id": "275a16ea-9587-46ec-8591-8a366fe511c0",
   "metadata": {},
   "outputs": [],
   "source": [
    "def convertNumToDatestr(num):\n",
    "    num = int(num)\n",
    "    year = num//10_000\n",
    "    month= (num-year*10_000)//100\n",
    "    day = (num-year*10_000-month*100)\n",
    "\n",
    "    year_str = str(year).zfill(4)\n",
    "    month_str = str(month).zfill(2)\n",
    "    day_str = str(day).zfill(2)\n",
    "    \n",
    "    datestr = f\"{year_str}-{month_str}-{day_str}\"\n",
    "    return pd.to_datetime(datestr)"
   ]
  },
  {
   "cell_type": "code",
   "execution_count": null,
   "id": "56d637fe-be49-453f-a6fa-8de5fb7950a9",
   "metadata": {},
   "outputs": [],
   "source": [
    "df_zp[\"dateobsstr\"] = df_zp[\"dateobs\"].apply(convertNumToDatestr)"
   ]
  },
  {
   "cell_type": "code",
   "execution_count": null,
   "id": "c6daaeb1-57f6-4087-8ca4-42d043783c4f",
   "metadata": {},
   "outputs": [],
   "source": [
    "df_zp[\"datetime\"] = pd.to_datetime(df_zp[\"dateobsstr\"])"
   ]
  },
  {
   "cell_type": "code",
   "execution_count": null,
   "id": "2282ab7d-3f44-493e-8979-1c63ecb5ebc1",
   "metadata": {},
   "outputs": [],
   "source": [
    "import matplotlib.dates as mdates\n",
    "month_locator = mdates.MonthLocator(interval=1)\n",
    "day_locator = mdates.DayLocator(interval=4)\n",
    "hour_locator = mdates.HourLocator(interval=6)\n",
    "\n",
    "fmt = '%D %H:%M:'\n",
    "#year_month_formatter = mdates.DateFormatter(fmt) \n",
    "year_month_formatter = mdates.DateFormatter(\"%Y-%m-%d\") \n",
    "\n",
    "fig, ax = plt.subplots(1,1,figsize=(18, 6))\n",
    "\n",
    "ax.plot(df_zp[\"datetime\"],df_zp[\"dZp_g\"],marker=\"o\",ms=15,color=\"g\",lw=0.5,label=\"g filter\")\n",
    "ax.plot(df_zp[\"datetime\"],df_zp[\"dZp_r\"],marker=\"o\",ms=15,color=\"r\",lw=0.5,label=\"r filter\")\n",
    "ax.plot(df_zp[\"datetime\"],df_zp[\"dZp_i\"],marker=\"o\",ms=15,color=\"orange\",lw=0.5,label=\"i filter\")\n",
    "ax.plot(df_zp[\"datetime\"],df_zp[\"dZp_z\"],marker=\"o\",ms=15,color=\"grey\",lw=0.5,label=\"z filter\")\n",
    "ax.legend()\n",
    "#ax.xaxis.set_major_locator(month_locator) # Locator for major axis only.\n",
    "ax.xaxis.set_major_locator(day_locator)\n",
    "ax.xaxis.set_minor_locator(hour_locator)\n",
    "ax.xaxis.set_major_formatter(year_month_formatter)\n",
    "ax.set_xticks(ax.get_xticks(), ax.get_xticklabels(), rotation=30, ha='right')\n",
    "ax.grid()\n",
    "ax.set_ylim(0.,20.)\n",
    "ax.axhline(5,color=\"k\")\n",
    "ax.set_xlabel(\"date observation\")\n",
    "ax.set_ylabel(\"$\\Delta Z_p$ (mmag)\")\n",
    "ax.set_title(\"Repeatability of Zero point predicted by Auxtel Spectroscopy\")"
   ]
  },
  {
   "cell_type": "code",
   "execution_count": null,
   "id": "caa83b1c-5f79-4f4b-922f-5e7e00acc308",
   "metadata": {},
   "outputs": [],
   "source": []
  },
  {
   "cell_type": "code",
   "execution_count": null,
   "id": "0328a8f3-09b5-4c24-872d-1d011145f0df",
   "metadata": {},
   "outputs": [],
   "source": []
  },
  {
   "cell_type": "code",
   "execution_count": null,
   "id": "c6445a74-3584-4da8-bc78-05e343f4b040",
   "metadata": {},
   "outputs": [],
   "source": []
  }
 ],
 "metadata": {
  "kernelspec": {
   "display_name": "LSST",
   "language": "python",
   "name": "lsst"
  },
  "language_info": {
   "codemirror_mode": {
    "name": "ipython",
    "version": 3
   },
   "file_extension": ".py",
   "mimetype": "text/x-python",
   "name": "python",
   "nbconvert_exporter": "python",
   "pygments_lexer": "ipython3",
   "version": "3.11.7"
  }
 },
 "nbformat": 4,
 "nbformat_minor": 5
}
