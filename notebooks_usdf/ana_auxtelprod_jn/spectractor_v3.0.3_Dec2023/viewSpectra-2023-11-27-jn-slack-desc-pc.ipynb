{
 "cells": [
  {
   "cell_type": "code",
   "execution_count": 1,
   "id": "1242c8f1-db05-4428-82af-3e208ec1320f",
   "metadata": {
    "execution": {
     "iopub.execute_input": "2023-12-08T12:31:23.263675Z",
     "iopub.status.busy": "2023-12-08T12:31:23.263558Z",
     "iopub.status.idle": "2023-12-08T12:31:24.571547Z",
     "shell.execute_reply": "2023-12-08T12:31:24.571085Z",
     "shell.execute_reply.started": "2023-12-08T12:31:23.263662Z"
    },
    "tags": []
   },
   "outputs": [],
   "source": [
    "import matplotlib.pyplot as plt\n",
    "import numpy as np\n",
    "import pandas as pd\n",
    "\n",
    "from spectractor.tools import from_lambda_to_colormap, wavelength_to_rgb\n",
    "%matplotlib widget \n"
   ]
  },
  {
   "cell_type": "code",
   "execution_count": 2,
   "id": "cf4975b5-966e-45d4-8624-66172e2c776c",
   "metadata": {
    "execution": {
     "iopub.execute_input": "2023-12-08T12:31:24.572970Z",
     "iopub.status.busy": "2023-12-08T12:31:24.572655Z",
     "iopub.status.idle": "2023-12-08T12:31:24.575445Z",
     "shell.execute_reply": "2023-12-08T12:31:24.574807Z",
     "shell.execute_reply.started": "2023-12-08T12:31:24.572955Z"
    },
    "tags": []
   },
   "outputs": [],
   "source": [
    "#from lsst.summit.utils.utils import checkStackSetup\n",
    "#checkStackSetup()"
   ]
  },
  {
   "cell_type": "code",
   "execution_count": 3,
   "id": "53dfcc69-f7b0-49b3-8131-0df1c5ca7120",
   "metadata": {
    "execution": {
     "iopub.execute_input": "2023-12-08T12:31:24.576292Z",
     "iopub.status.busy": "2023-12-08T12:31:24.576156Z",
     "iopub.status.idle": "2023-12-08T12:31:27.766766Z",
     "shell.execute_reply": "2023-12-08T12:31:27.766385Z",
     "shell.execute_reply.started": "2023-12-08T12:31:24.576277Z"
    },
    "tags": []
   },
   "outputs": [
    {
     "name": "stdout",
     "output_type": "stream",
     "text": [
      "u/jneveu/auxtel_atmosphere_202301_test\n",
      "u/jneveu/auxtel_atmosphere_202301_test/20231018T104932Z\n",
      "u/jneveu/auxtel_atmosphere_202301_v3.0.1_doGainsPTC_rebin2\n",
      "u/jneveu/auxtel_atmosphere_202301_v3.0.1_doGainsPTC_rebin2/20231010T200421Z\n",
      "u/jneveu/auxtel_atmosphere_202301_v3.0.1_doGainsPTC_rebin2/20231011T203316Z\n",
      "u/jneveu/auxtel_atmosphere_202301_v3.0.2_doGainsPTC_rebin2\n",
      "u/jneveu/auxtel_atmosphere_202301_v3.0.2_doGainsPTC_rebin2/20231015T082001Z\n",
      "u/jneveu/auxtel_atmosphere_202301_v3.0.2_doGainsPTC_rebin2/20231016T150910Z\n",
      "u/jneveu/auxtel_atmosphere_202301_v3.0.2_doGainsPTC_rebin2/20231018T112741Z\n",
      "u/jneveu/auxtel_atmosphere_202301_v3.0.2_doGainsPTC_rebin2_testPressure\n",
      "u/jneveu/auxtel_atmosphere_202301_v3.0.2_doGainsPTC_rebin2_testPressure/20231112T090905Z\n",
      "u/jneveu/auxtel_atmosphere_202301_v3.0.2_doGainsPTC_rebin2_testPressure/20231116T135513Z\n",
      "u/jneveu/auxtel_atmosphere_202301_v3.0.2_doGainsPTC_rebin2_testPressure_noAtmFit\n",
      "u/jneveu/auxtel_atmosphere_202301_v3.0.2_doGainsPTC_rebin2_testPressure_noAtmFit/20231121T142237Z\n",
      "u/jneveu/auxtel_atmosphere_202301_v3.0.2_doGains_rebin2\n",
      "u/jneveu/auxtel_atmosphere_202301_v3.0.2_doGains_rebin2/20231027T100158Z\n",
      "u/jneveu/auxtel_atmosphere_202301_v3.0.3_doGainsPTC_rebin2\n",
      "u/jneveu/auxtel_atmosphere_202301_v3.0.3_doGainsPTC_rebin2/20231123T151958Z\n",
      "u/jneveu/auxtel_atmosphere_202301_v3.0.3_doGainsPTC_rebin2/20231124T080841Z\n",
      "u/jneveu/auxtel_atmosphere_202301_v3.0.3_doGainsPTC_rebin2/20231124T081722Z\n",
      "u/jneveu/auxtel_atmosphere_202301_v3.0.3_doGainsPTC_rebin2/20231124T084237Z\n",
      "u/jneveu/auxtel_atmosphere_202301_v3.0.3_doGainsPTC_rebin2/20231124T090737Z\n",
      "u/jneveu/auxtel_atmosphere_testing\n",
      "u/jneveu/auxtel_atmosphere_testing/20231011T070349Z\n"
     ]
    }
   ],
   "source": [
    "import lsst.daf.butler as dafButler\n",
    "\n",
    "repo = \"/repo/main\"\n",
    "repo = \"/repo/embargo\"\n",
    "# repo = \"LATISS\"\n",
    "butler = dafButler.Butler(repo)\n",
    "registry = butler.registry\n",
    "\n",
    "for c in sorted(registry.queryCollections()):\n",
    "    if \"u/jneveu\" in c and \"auxtel_atmo\" in c:\n",
    "        print(c)"
   ]
  },
  {
   "cell_type": "markdown",
   "id": "27531e09-1499-4049-870f-cbd3a2063d51",
   "metadata": {},
   "source": [
    "## Check the presence of the spectra"
   ]
  },
  {
   "cell_type": "code",
   "execution_count": 4,
   "id": "40579354-fa78-4628-b817-32d171fe5a4d",
   "metadata": {
    "execution": {
     "iopub.execute_input": "2023-12-08T12:31:27.767379Z",
     "iopub.status.busy": "2023-12-08T12:31:27.767250Z",
     "iopub.status.idle": "2023-12-08T12:31:27.920066Z",
     "shell.execute_reply": "2023-12-08T12:31:27.918499Z",
     "shell.execute_reply.started": "2023-12-08T12:31:27.767366Z"
    },
    "tags": []
   },
   "outputs": [
    {
     "ename": "NameError",
     "evalue": "name 'my_collection' is not defined",
     "output_type": "error",
     "traceback": [
      "\u001b[0;31m---------------------------------------------------------------------------\u001b[0m",
      "\u001b[0;31mNameError\u001b[0m                                 Traceback (most recent call last)",
      "Cell \u001b[0;32mIn[4], line 2\u001b[0m\n\u001b[1;32m      1\u001b[0m where \u001b[38;5;241m=\u001b[39m \u001b[38;5;124m\"\u001b[39m\u001b[38;5;124minstrument=\u001b[39m\u001b[38;5;124m'\u001b[39m\u001b[38;5;124mLATISS\u001b[39m\u001b[38;5;124m'\u001b[39m\u001b[38;5;124m and visit.day_obs=20231120\u001b[39m\u001b[38;5;124m\"\u001b[39m \n\u001b[0;32m----> 2\u001b[0m records \u001b[38;5;241m=\u001b[39m \u001b[38;5;28mlist\u001b[39m(butler\u001b[38;5;241m.\u001b[39mregistry\u001b[38;5;241m.\u001b[39mqueryDimensionRecords(\u001b[38;5;124m'\u001b[39m\u001b[38;5;124mvisit\u001b[39m\u001b[38;5;124m'\u001b[39m, datasets\u001b[38;5;241m=\u001b[39m\u001b[38;5;124m'\u001b[39m\u001b[38;5;124mspectractorSpectrum\u001b[39m\u001b[38;5;124m'\u001b[39m, where\u001b[38;5;241m=\u001b[39mwhere,  collections\u001b[38;5;241m=\u001b[39m\u001b[43mmy_collection\u001b[49m))\n\u001b[1;32m      3\u001b[0m \u001b[38;5;66;03m# records = list(butler.registry.queryDimensionRecords('visit', datasets='raw', where=where))\u001b[39;00m\n",
      "\u001b[0;31mNameError\u001b[0m: name 'my_collection' is not defined"
     ]
    }
   ],
   "source": [
    "where = \"instrument='LATISS' and visit.day_obs=20231120\" \n",
    "records = list(butler.registry.queryDimensionRecords('visit', datasets='spectractorSpectrum', where=where,  collections=my_collection))\n",
    "# records = list(butler.registry.queryDimensionRecords('visit', datasets='raw', where=where))"
   ]
  },
  {
   "cell_type": "code",
   "execution_count": null,
   "id": "ba00f590-7978-42cb-96c5-d72c3ae2f0a5",
   "metadata": {
    "execution": {
     "iopub.status.busy": "2023-12-08T12:31:27.920436Z",
     "iopub.status.idle": "2023-12-08T12:31:27.920596Z",
     "shell.execute_reply": "2023-12-08T12:31:27.920525Z",
     "shell.execute_reply.started": "2023-12-08T12:31:27.920517Z"
    },
    "tags": []
   },
   "outputs": [],
   "source": [
    "print(len(records))\n",
    "records[-1]"
   ]
  },
  {
   "cell_type": "code",
   "execution_count": null,
   "id": "2825f46a-2c9b-414b-b4a3-7c2e3699adc9",
   "metadata": {
    "execution": {
     "iopub.status.busy": "2023-12-08T12:31:27.921301Z",
     "iopub.status.idle": "2023-12-08T12:31:27.921456Z",
     "shell.execute_reply": "2023-12-08T12:31:27.921384Z",
     "shell.execute_reply.started": "2023-12-08T12:31:27.921376Z"
    },
    "tags": []
   },
   "outputs": [],
   "source": [
    "for i, r in enumerate(records):\n",
    "\n",
    "    print(f\"============= ({i}) ============datasetType = spectraction ============================================\")\n",
    "    print(\"fullId..................:\",r.id)\n",
    "    print(\"day_obs..................:\",r.day_obs)\n",
    "    print(\"target..................:\",r.target_name)\n",
    "    print(\"filt+disp..................:\",r.physical_filter)\n",
    "\n",
    "    # spec = butler.get('spectractorSpectrum', visit=r.id, detector=0, collections=my_collection, instrument='LATISS')\n",
    "    \n",
    "    if i>5:\n",
    "        break"
   ]
  },
  {
   "cell_type": "code",
   "execution_count": null,
   "id": "65440eab-5d50-44ba-95f7-62d68f10bec6",
   "metadata": {
    "execution": {
     "iopub.status.busy": "2023-12-08T12:31:27.921970Z",
     "iopub.status.idle": "2023-12-08T12:31:27.922134Z",
     "shell.execute_reply": "2023-12-08T12:31:27.922064Z",
     "shell.execute_reply.started": "2023-12-08T12:31:27.922058Z"
    },
    "tags": []
   },
   "outputs": [],
   "source": [
    "# delete a collection\n",
    "# butler.pruneDatasets(datasetRefs, disassociate=True, unstore=True, purge=True)"
   ]
  },
  {
   "cell_type": "markdown",
   "id": "d61972a3-74c3-4d2b-ae96-86e61c549383",
   "metadata": {},
   "source": [
    "## Load one spectrum"
   ]
  },
  {
   "cell_type": "code",
   "execution_count": null,
   "id": "a28cb73d-2b5e-4438-b5b1-9d13df264926",
   "metadata": {
    "execution": {
     "iopub.status.busy": "2023-12-08T12:31:27.922685Z",
     "iopub.status.idle": "2023-12-08T12:31:27.922873Z",
     "shell.execute_reply": "2023-12-08T12:31:27.922788Z",
     "shell.execute_reply.started": "2023-12-08T12:31:27.922781Z"
    },
    "tags": []
   },
   "outputs": [],
   "source": [
    "dataId = {\"day_obs\": 20231115, \"seq_num\": 346, 'instrument':'LATISS',\"detector\": 0}\n",
    "spec= butler.get('spectractorSpectrum',dataId,collections=my_collection)\n",
    "p = butler.get('spectrumLibradtranFitParameters',dataId,collections=my_collection)\n",
    "p"
   ]
  },
  {
   "cell_type": "code",
   "execution_count": null,
   "id": "76819dc5-5cf3-4653-bf48-90e429c1f716",
   "metadata": {
    "execution": {
     "iopub.status.busy": "2023-12-08T12:31:27.923240Z",
     "iopub.status.idle": "2023-12-08T12:31:27.923394Z",
     "shell.execute_reply": "2023-12-08T12:31:27.923326Z",
     "shell.execute_reply.started": "2023-12-08T12:31:27.923319Z"
    },
    "tags": []
   },
   "outputs": [],
   "source": [
    "_ = spec.plot_spectrum()"
   ]
  },
  {
   "cell_type": "markdown",
   "id": "5959b2e4-ca7c-4f99-87a4-81b83b322054",
   "metadata": {},
   "source": [
    "## Load all Libradtran parameters"
   ]
  },
  {
   "cell_type": "code",
   "execution_count": null,
   "id": "8c82dd44-9f9a-4e17-ab17-1e2422c2841b",
   "metadata": {
    "execution": {
     "iopub.status.busy": "2023-12-08T12:31:27.923959Z",
     "iopub.status.idle": "2023-12-08T12:31:27.924150Z",
     "shell.execute_reply": "2023-12-08T12:31:27.924082Z",
     "shell.execute_reply.started": "2023-12-08T12:31:27.924075Z"
    },
    "tags": []
   },
   "outputs": [],
   "source": [
    "params_spectrum = []\n",
    "params_spectrogram = []\n",
    "times = []\n",
    "headers = []\n",
    "spectra = []\n",
    "\n",
    "for i, r in enumerate(records):\n",
    "    try:\n",
    "        times.append(r.day_obs)\n",
    "        spec =  butler.get('spectractorSpectrum', visit=r.id, collections=my_collection, detector=0, instrument='LATISS')\n",
    "        headers.append(spec.header)\n",
    "        spectra.append(spec)\n",
    "        p = butler.get('spectrumLibradtranFitParameters', visit=r.id, collections=my_collection, detector=0, instrument='LATISS')\n",
    "        params_spectrum.append(p)\n",
    "        p = butler.get('spectrogramLibradtranFitParameters', visit=r.id, collections=my_collection, detector=0, instrument='LATISS')\n",
    "        params_spectrogram.append(p)\n",
    "    except ValueError:\n",
    "        print(\"Skip\", r.id)\n",
    "        continue"
   ]
  },
  {
   "cell_type": "code",
   "execution_count": null,
   "id": "cef20cc5-a55f-471d-9060-86592f31412a",
   "metadata": {
    "execution": {
     "iopub.status.busy": "2023-12-08T12:31:27.924618Z",
     "iopub.status.idle": "2023-12-08T12:31:27.924916Z",
     "shell.execute_reply": "2023-12-08T12:31:27.924839Z",
     "shell.execute_reply.started": "2023-12-08T12:31:27.924828Z"
    },
    "tags": []
   },
   "outputs": [],
   "source": [
    "len(params_spectrogram)"
   ]
  },
  {
   "cell_type": "code",
   "execution_count": null,
   "id": "98b68467-008b-492c-bf7a-e37db0da21bc",
   "metadata": {
    "execution": {
     "iopub.status.busy": "2023-12-08T12:31:27.925296Z",
     "iopub.status.idle": "2023-12-08T12:31:27.925441Z",
     "shell.execute_reply": "2023-12-08T12:31:27.925376Z",
     "shell.execute_reply.started": "2023-12-08T12:31:27.925369Z"
    }
   },
   "outputs": [],
   "source": [
    "def select_files(collection, where):\n",
    "    # datasetRefs = registry.queryDatasets(datasetType='spectractorSpectrum', collections=my_collection, where=where)\n",
    "    #records = list(butler.registry.queryDimensionRecords('exposure', where=where))\n",
    "    records = list(butler.registry.queryDimensionRecords('exposure', datasets='spectractorSpectrum', where=where,  collections=collection))\n",
    "    records = sorted(records, key=lambda x: x.id, reverse=False)\n",
    "    return records\n",
    "\n",
    "def filter_data(records, sigma_clip=3):  # pragma: no cover\n",
    "    from scipy.stats import median_abs_deviation\n",
    "    D = []\n",
    "    chi2 = []\n",
    "    dx = []\n",
    "    amplitude = []\n",
    "    regs = []\n",
    "    times = []\n",
    "    specs = []\n",
    "    alpha_0_2 = []\n",
    "    #parameters.VERBOSE = False\n",
    "    #parameters.DEBUG = False\n",
    "    for i, r in enumerate(records):\n",
    "        times.append(r.day_obs)\n",
    "        spec = butler.get('spectractorSpectrum', visit=r.id, collections=my_collection, detector=0, instrument='LATISS')\n",
    "        spec.dataId = r.id\n",
    "        if spec.x0[0] > 500: \n",
    "            continue\n",
    "        D.append(spec.header[\"D2CCD\"])\n",
    "        dx.append(spec.header[\"PIXSHIFT\"])\n",
    "        regs.append(np.log10(spec.header[\"PSF_REG\"]))\n",
    "        amplitude.append(np.sum(np.abs(spec.data[300:])))\n",
    "        # if \"CHI2_FIT\" in header:\n",
    "        chi2.append(spec.header[\"CHI2_FIT\"])\n",
    "        specs.append(spec)\n",
    "        p = butler.get('spectrumForwardModelFitParameters', visit=r.id, collections=my_collection, detector=0, instrument='LATISS')\n",
    "        alpha_0_2.append(p.values[p.get_index(\"alpha_0_2\")])\n",
    "        #except:\n",
    "        #    new_file_names.remove(name)\n",
    "        #    print(f\"fail to open {name}. len(file_names)={len(new_file_names)}\")\n",
    "    params = {'D2CCD': np.array(D),\n",
    "              'dx': np.array(dx),\n",
    "              'regs': np.array(regs),\n",
    "              'chi2': np.array(chi2),\n",
    "              'amplitude': np.array(amplitude),\n",
    "              'alpha_0_2': np.array(alpha_0_2)\n",
    "             }\n",
    "    k = np.arange(len(D))\n",
    "    filter_indices = np.ones_like(k, dtype=bool)\n",
    "    for par in params.keys():\n",
    "        if par in ['amplitude']: #, 'alpha_0_2']:\n",
    "            continue\n",
    "        filter_indices *= np.logical_and(params[par] > np.median(params[par]) - sigma_clip * median_abs_deviation(params[par]),\n",
    "                                         params[par] < np.median(params[par]) + sigma_clip * median_abs_deviation(params[par]))\n",
    "    for par in params.keys():\n",
    "        fig = plt.figure()\n",
    "        plt.plot(k, params[par])\n",
    "        plt.plot(k[filter_indices], params[par][filter_indices], \"ko\")\n",
    "        plt.grid()\n",
    "        plt.title(par)\n",
    "        plt.show()\n",
    "    return [s for i,s in enumerate(specs) if filter_indices[i]]\n",
    "\n",
    "\n",
    "def plot_spectra(spectra, colorparams):\n",
    "\n",
    "    import matplotlib.colors as mcolors\n",
    "    import matplotlib.cm as cm\n",
    "    colormap = cm.Reds\n",
    "    #colormap = cm.jet \n",
    "\n",
    "    normalize = mcolors.Normalize(vmin=np.min(colorparams), vmax=np.max(colorparams))\n",
    "\n",
    "\n",
    "    fig  = plt.figure(figsize=(7,3))\n",
    "    for spec in spectra:\n",
    "        plt.plot(spec.lambdas, spec.data, color = colormap(normalize(spec.airmass)))\n",
    "    plt.grid()\n",
    "    plt.xlabel(\"$\\lambda$ [nm]\")\n",
    "    plt.ylabel(f\"Flux [{spec.units}]\")\n",
    "    \n",
    "    # Colorbar setup\n",
    "    s_map = cm.ScalarMappable(norm=normalize, cmap=colormap)\n",
    "    s_map.set_array(colorparams)\n",
    "\n",
    "    # If color parameters is a linspace, we can set boundaries in this way\n",
    "    halfdist = (colorparams[1] - colorparams[0])/2.0\n",
    "    boundaries = np.linspace(colorparams[0] - halfdist, colorparams[-1] + halfdist, len(colorparams) + 1)\n",
    "\n",
    "    # Use this to emphasize the discrete color values\n",
    "    cbar = fig.colorbar(s_map) #, spacing='proportional', ticks=colorparams, boundaries=boundaries, format='%2.2g') # format='%2i' for integer\n",
    "\n",
    "    # Use this to show a continuous colorbar\n",
    "    #cbar = fig.colorbar(s_map, spacing='proportional', ticks=colorparams, format='%2i')\n",
    "    cbar.set_label(\"Airmass $z$\")\n",
    "    plt.show()\n",
    "    return fig\n",
    "\n"
   ]
  },
  {
   "cell_type": "code",
   "execution_count": null,
   "id": "0340e861-caac-4d23-a011-761a907cee05",
   "metadata": {
    "execution": {
     "iopub.status.busy": "2023-12-08T12:31:27.925933Z",
     "iopub.status.idle": "2023-12-08T12:31:27.926139Z",
     "shell.execute_reply": "2023-12-08T12:31:27.926070Z",
     "shell.execute_reply.started": "2023-12-08T12:31:27.926063Z"
    }
   },
   "outputs": [],
   "source": [
    "spectra_filtered = filter_data(records)"
   ]
  },
  {
   "cell_type": "code",
   "execution_count": null,
   "id": "165a1806-13fd-4723-9caa-d622e5fd276e",
   "metadata": {
    "execution": {
     "iopub.status.busy": "2023-12-08T12:31:27.926512Z",
     "iopub.status.idle": "2023-12-08T12:31:27.926781Z",
     "shell.execute_reply": "2023-12-08T12:31:27.926709Z",
     "shell.execute_reply.started": "2023-12-08T12:31:27.926702Z"
    }
   },
   "outputs": [],
   "source": [
    "fig = plot_spectra(spectra_filtered, [spec.airmass for spec in spectra_filtered])"
   ]
  },
  {
   "cell_type": "code",
   "execution_count": null,
   "id": "e2ba982f-dcbd-4fb9-af1e-ad446c63a884",
   "metadata": {
    "execution": {
     "iopub.status.busy": "2023-12-08T12:31:27.927153Z",
     "iopub.status.idle": "2023-12-08T12:31:27.927294Z",
     "shell.execute_reply": "2023-12-08T12:31:27.927228Z",
     "shell.execute_reply.started": "2023-12-08T12:31:27.927222Z"
    }
   },
   "outputs": [],
   "source": [
    "np.unique([spec.target.label for spec in spectra_filtered])"
   ]
  },
  {
   "cell_type": "code",
   "execution_count": null,
   "id": "9966785d-ce27-4b7d-b301-7cb30ba30e39",
   "metadata": {
    "execution": {
     "iopub.status.busy": "2023-12-08T12:31:27.927738Z",
     "iopub.status.idle": "2023-12-08T12:31:27.927896Z",
     "shell.execute_reply": "2023-12-08T12:31:27.927822Z",
     "shell.execute_reply.started": "2023-12-08T12:31:27.927815Z"
    }
   },
   "outputs": [],
   "source": [
    "target_label = 'HD2811'\n",
    "wls = np.arange(370, 1000, 1)\n",
    "cmap = from_lambda_to_colormap(lambdas)\n",
    "pvals = []\n",
    "\n",
    "fig = plt.figure()\n",
    "for wl in wls:\n",
    "    zs = [spec.airmass for spec in spectra_filtered if spec.target.label == target_label]\n",
    "    mag = -2.5*np.log10([np.interp(wl, spec.lambdas, spec.data) for spec in spectra_filtered if spec.target.label == target_label])\n",
    "    regr = np.polyfit(zs, mag, deg=1)\n",
    "    pvals.append(regr)\n",
    "    p = plt.plot(zs, mag, '+', label=wl, color=wavelength_to_rgb(wl))\n",
    "    plt.plot(zs, np.polyval(regr, zs), color=p[0].get_color())\n",
    "plt.grid()\n",
    "#plt.legend()\n",
    "plt.show()"
   ]
  },
  {
   "cell_type": "code",
   "execution_count": null,
   "id": "8a6c8607-2b20-4052-bc24-bf3aa2a54303",
   "metadata": {
    "execution": {
     "iopub.status.busy": "2023-12-08T12:31:27.928399Z",
     "iopub.status.idle": "2023-12-08T12:31:27.928593Z",
     "shell.execute_reply": "2023-12-08T12:31:27.928524Z",
     "shell.execute_reply.started": "2023-12-08T12:31:27.928518Z"
    }
   },
   "outputs": [],
   "source": [
    "fig = plt.figure()\n",
    "for wl in wls:\n",
    "    zs = [spec.airmass for spec in spectra_filtered if spec.target.label == target_label]\n",
    "    mag = -2.5*np.log10([np.interp(wl, spec.lambdas, spec.data) for spec in spectra_filtered if spec.target.label == target_label])\n",
    "    regr = np.polyfit(zs, mag, deg=1)\n",
    "    plt.plot(zs, mag - np.polyval(regr, zs), '+', color=wavelength_to_rgb(wl))\n",
    "plt.grid()\n",
    "plt.legend()\n",
    "plt.show()"
   ]
  },
  {
   "cell_type": "code",
   "execution_count": null,
   "id": "aec0e82a-ef61-460d-ab2d-da7eb7388090",
   "metadata": {
    "execution": {
     "iopub.status.busy": "2023-12-08T12:31:27.928935Z",
     "iopub.status.idle": "2023-12-08T12:31:27.929233Z",
     "shell.execute_reply": "2023-12-08T12:31:27.929163Z",
     "shell.execute_reply.started": "2023-12-08T12:31:27.929157Z"
    }
   },
   "outputs": [],
   "source": [
    "fig = plt.figure()\n",
    "plt.plot(wls, [p[0] for p in pvals], \"r+\")\n",
    "plt.xlabel(\"$\\lambda$ [nm]\")\n",
    "plt.ylabel(\"$k$ [mag/airmass]\")\n",
    "plt.show()"
   ]
  },
  {
   "cell_type": "code",
   "execution_count": null,
   "id": "d0564d94-24b8-46bc-b091-ccbe2b7bac3b",
   "metadata": {},
   "outputs": [],
   "source": []
  },
  {
   "cell_type": "code",
   "execution_count": null,
   "id": "808aafc2-e686-49aa-8cfb-b734318994ac",
   "metadata": {},
   "outputs": [],
   "source": []
  },
  {
   "cell_type": "code",
   "execution_count": null,
   "id": "cfb8d2b6-4bb0-4cb7-85d8-b3bed2c0879d",
   "metadata": {
    "execution": {
     "iopub.status.busy": "2023-12-08T12:31:27.929555Z",
     "iopub.status.idle": "2023-12-08T12:31:27.929701Z",
     "shell.execute_reply": "2023-12-08T12:31:27.929636Z",
     "shell.execute_reply.started": "2023-12-08T12:31:27.929629Z"
    },
    "tags": []
   },
   "outputs": [],
   "source": [
    "import matplotlib\n",
    "matplotlib.pyplot.close()"
   ]
  },
  {
   "cell_type": "code",
   "execution_count": null,
   "id": "2c4677f0-f79e-4dc9-b6f6-49b044d3d1b1",
   "metadata": {
    "execution": {
     "iopub.status.busy": "2023-12-08T12:31:27.930275Z",
     "iopub.status.idle": "2023-12-08T12:31:27.930540Z",
     "shell.execute_reply": "2023-12-08T12:31:27.930468Z",
     "shell.execute_reply.started": "2023-12-08T12:31:27.930461Z"
    },
    "tags": []
   },
   "outputs": [],
   "source": [
    "columns_spectrum = [\"id\"]\n",
    "\n",
    "for h in headers[0]:\n",
    "    if \"COMMENT\" in h or \"EXTNAME\" in h: continue\n",
    "    if \"LBDAS_T\" in h or \"PSF_P_T\" in h or \"AMPLIS_T\" in h: continue\n",
    "    if \"UNIT\" in h: continue\n",
    "    if \"SIMPLE\" in h: continue\n",
    "    columns_spectrum.append(h)\n",
    " \n",
    "columns_spectrogram_bestfit = []\n",
    "for key in params_spectrogram[0].labels:\n",
    "    columns_spectrogram_bestfit.append(key)\n",
    "    columns_spectrogram_bestfit.append(key+\"_err\")\n",
    "\n",
    "columns_spectrum_bestfit = []\n",
    "for key in params_spectrum[0].labels:\n",
    "    columns_spectrum_bestfit.append(key)\n",
    "    columns_spectrum_bestfit.append(key+\"_err\")"
   ]
  },
  {
   "cell_type": "code",
   "execution_count": null,
   "id": "e1967b62-90ba-462c-a2ba-11f8829f1e7f",
   "metadata": {
    "execution": {
     "iopub.status.busy": "2023-12-08T12:31:27.930919Z",
     "iopub.status.idle": "2023-12-08T12:31:27.931061Z",
     "shell.execute_reply": "2023-12-08T12:31:27.930994Z",
     "shell.execute_reply.started": "2023-12-08T12:31:27.930988Z"
    },
    "tags": []
   },
   "outputs": [],
   "source": [
    "min_index = 0\n",
    "max_index = np.inf\n",
    "\n",
    "df1 = pd.DataFrame(columns=columns_spectrum)\n",
    "\n",
    "for k, header in enumerate(headers):\n",
    "    # if k > 40: break\n",
    "    n = records[k].id\n",
    "    if n < min_index or n > max_index: continue\n",
    "    row = {\"id\": n}\n",
    "    for h in header:\n",
    "        if h in columns_spectrum:\n",
    "            row[h] = header[h]\n",
    "    df1.loc[len(df1)] = row\n",
    "            \n",
    "df2 = pd.DataFrame(columns=columns_spectrogram_bestfit)\n",
    "\n",
    "for k, p in enumerate(params_spectrogram):\n",
    "    n = records[k].id\n",
    "    if n < min_index or n > max_index: continue\n",
    "    row = {\"id\": n}\n",
    "    for i, key in enumerate(p.labels):\n",
    "        row[key] = p.values[i]\n",
    "        row[key+\"_err\"] = p.err[i]\n",
    "    df2.loc[len(df2)] = row\n",
    "            \n",
    "df3 = pd.DataFrame(columns=columns_spectrum_bestfit)\n",
    "\n",
    "for k, p in enumerate(params_spectrum):\n",
    "    n = records[k].id\n",
    "    if n < min_index or n > max_index: continue\n",
    "    row = {\"id\": n}\n",
    "    for i, key in enumerate(p.labels):\n",
    "        row[key] = p.values[i]\n",
    "        row[key+\"_err\"] = p.err[i]\n",
    "    df3.loc[len(df3)] = row\n",
    "            \n"
   ]
  },
  {
   "cell_type": "code",
   "execution_count": null,
   "id": "467a3ace-b586-43ff-ae7d-10237d2b1afd",
   "metadata": {
    "execution": {
     "iopub.status.busy": "2023-12-08T12:31:27.931560Z",
     "iopub.status.idle": "2023-12-08T12:31:27.931801Z",
     "shell.execute_reply": "2023-12-08T12:31:27.931731Z",
     "shell.execute_reply.started": "2023-12-08T12:31:27.931724Z"
    },
    "tags": []
   },
   "outputs": [],
   "source": [
    "df3"
   ]
  },
  {
   "cell_type": "code",
   "execution_count": null,
   "id": "2e5128af-878c-4747-a6d7-745ec66d612d",
   "metadata": {
    "execution": {
     "iopub.status.busy": "2023-12-08T12:31:27.932227Z",
     "iopub.status.idle": "2023-12-08T12:31:27.932490Z",
     "shell.execute_reply": "2023-12-08T12:31:27.932419Z",
     "shell.execute_reply.started": "2023-12-08T12:31:27.932413Z"
    },
    "tags": []
   },
   "outputs": [],
   "source": [
    "df = pd.merge(df1, df2, left_index=True, right_index=True)\n",
    "df = pd.merge(df, df3, left_index=True, right_index=True)\n",
    "df.set_index('DATE-OBS', inplace=True)\n",
    "df.index = pd.to_datetime(df.index, format=\"ISO8601\") #['DATE-OBS'])\n",
    "df.sort_index(inplace=True)\n",
    "df"
   ]
  },
  {
   "cell_type": "code",
   "execution_count": null,
   "id": "53598495-5a1e-4212-9f69-719f2acdf9fb",
   "metadata": {
    "execution": {
     "iopub.status.busy": "2023-12-08T12:31:27.932854Z",
     "iopub.status.idle": "2023-12-08T12:31:27.932994Z",
     "shell.execute_reply": "2023-12-08T12:31:27.932930Z",
     "shell.execute_reply.started": "2023-12-08T12:31:27.932924Z"
    },
    "tags": []
   },
   "outputs": [],
   "source": [
    "pd.set_option('display.max_columns', None)\n",
    "df"
   ]
  },
  {
   "cell_type": "code",
   "execution_count": null,
   "id": "3ec32aca-f3cb-4072-b0ef-d1f86eb59e0b",
   "metadata": {
    "execution": {
     "iopub.status.busy": "2023-12-08T12:31:27.933482Z",
     "iopub.status.idle": "2023-12-08T12:31:27.933621Z",
     "shell.execute_reply": "2023-12-08T12:31:27.933556Z",
     "shell.execute_reply.started": "2023-12-08T12:31:27.933550Z"
    },
    "tags": []
   },
   "outputs": [],
   "source": [
    "rec = df.to_records()"
   ]
  },
  {
   "cell_type": "code",
   "execution_count": null,
   "id": "2c96935d-24cf-4430-ad12-811ac5e36a36",
   "metadata": {
    "execution": {
     "iopub.status.busy": "2023-12-08T12:31:27.934064Z",
     "iopub.status.idle": "2023-12-08T12:31:27.934212Z",
     "shell.execute_reply": "2023-12-08T12:31:27.934145Z",
     "shell.execute_reply.started": "2023-12-08T12:31:27.934139Z"
    },
    "tags": []
   },
   "outputs": [],
   "source": [
    "#np.save(\"auxtel_libradtran_202301_v3.0.3_doGainsPTC.npy\", rec)"
   ]
  },
  {
   "cell_type": "code",
   "execution_count": null,
   "id": "450003bc-5a85-4a4d-b2d9-06abdd5cb0ec",
   "metadata": {
    "execution": {
     "iopub.status.busy": "2023-12-08T12:31:27.934754Z",
     "iopub.status.idle": "2023-12-08T12:31:27.935048Z",
     "shell.execute_reply": "2023-12-08T12:31:27.934975Z",
     "shell.execute_reply.started": "2023-12-08T12:31:27.934968Z"
    },
    "tags": []
   },
   "outputs": [],
   "source": [
    "#rec = np.load(\"auxtel_libradtran_202301_v3.0.3_doGainsPTC.npy\", allow_pickle=True)\n",
    "#df = pd.DataFrame(rec)"
   ]
  },
  {
   "cell_type": "code",
   "execution_count": null,
   "id": "6a04b901-4240-4552-8cf0-88fb909bba46",
   "metadata": {
    "execution": {
     "iopub.status.busy": "2023-12-08T12:31:27.935398Z",
     "iopub.status.idle": "2023-12-08T12:31:27.935535Z",
     "shell.execute_reply": "2023-12-08T12:31:27.935472Z",
     "shell.execute_reply.started": "2023-12-08T12:31:27.935466Z"
    },
    "tags": []
   },
   "outputs": [],
   "source": [
    "for col in [\"D2CCD\", \"PIXSHIFT\", \"PSF_REG\", \"CHI2_FIT\", \"OUTPRESS\", \"OUTTEMP\", \"alpha_0_2\"]:\n",
    "    if col not in df.columns: continue\n",
    "    if len(col.split('_')) > 1:\n",
    "        col_err = '_'.join(col.split('_')[:-1])+\"_err_\"+col.split('_')[-1]\n",
    "    else:\n",
    "        col_err = col+\"_err\"\n",
    "    fig = plt.figure()\n",
    "    if col_err in df.columns:\n",
    "        plt.errorbar(rec[\"DATE-OBS\"], rec[col], yerr=rec[col_err], linestyle=\"none\", marker=\"+\")\n",
    "    else:\n",
    "        plt.plot(rec[\"DATE-OBS\"], rec[col], linestyle=\"none\", marker=\"+\")\n",
    "    plt.ylim((0.9*np.min(rec[col]), 1.1*np.max(rec[col])))\n",
    "    if \"PSF_REG\" in col:\n",
    "        plt.yscale(\"log\")\n",
    "    plt.grid()\n",
    "    plt.title(col)\n",
    "    plt.legend()\n",
    "    plt.gcf().autofmt_xdate()\n",
    "    plt.show()"
   ]
  },
  {
   "cell_type": "code",
   "execution_count": null,
   "id": "d879b0a3-98da-466d-8558-11a039058a85",
   "metadata": {
    "execution": {
     "iopub.status.busy": "2023-12-08T12:31:27.936039Z",
     "iopub.status.idle": "2023-12-08T12:31:27.936178Z",
     "shell.execute_reply": "2023-12-08T12:31:27.936110Z",
     "shell.execute_reply.started": "2023-12-08T12:31:27.936104Z"
    },
    "tags": []
   },
   "outputs": [],
   "source": [
    "filtered = (rec[\"CHI2_FIT\"] < 100) & (rec[\"PSF_REG\"] > 1e-2) & (rec[\"D2CCD\"] > 186)  & (rec[\"D2CCD\"] < 188)  # & (np.abs(rec[\"PIXSHIFT\"]) < 0.5) \n",
    "print(np.sum(filtered))\n",
    "filtered = filtered & (rec[\"PWV [mm]_err_x\"] > 0) & (rec[\"PWV [mm]_err_x\"] < 5) & (rec[\"A1_err_y\"] > 0) & (rec[\"A1_err_y\"] < 5) & (rec[\"PWV [mm]_err_y\"] > 0) & (rec[\"PWV [mm]_err_y\"] < 5)\n",
    "print(np.sum(filtered))\n",
    "filtered = filtered & (rec[\"reso [pix]\"] < 3)\n",
    "print(np.sum(filtered))\n",
    "filtered = filtered & (rec[\"ozone [db]_err_y\"] > 0) & (rec[\"ozone [db]_err_y\"] < 100)\n",
    "print(np.sum(filtered))\n",
    "filtered = filtered & (rec[\"A1_x\"] > 0.1) & (rec[\"A1_x\"] < 1.5)\n",
    "print(np.sum(filtered))\n",
    "filtered = filtered & (np.abs(rec[\"gamma_0_2\"]) < 30) & (np.abs(rec[\"alpha_0_2\"]) < 10)\n",
    "print(np.sum(filtered))"
   ]
  },
  {
   "cell_type": "code",
   "execution_count": null,
   "id": "6fbc5bda-456b-40e5-b78f-eada7bac41af",
   "metadata": {
    "execution": {
     "iopub.status.busy": "2023-12-08T12:31:27.936563Z",
     "iopub.status.idle": "2023-12-08T12:31:27.936697Z",
     "shell.execute_reply": "2023-12-08T12:31:27.936634Z",
     "shell.execute_reply.started": "2023-12-08T12:31:27.936628Z"
    },
    "tags": []
   },
   "outputs": [],
   "source": [
    "len(filtered)"
   ]
  },
  {
   "cell_type": "code",
   "execution_count": null,
   "id": "eff29c78-1918-452a-a555-f722cdb08dc9",
   "metadata": {
    "execution": {
     "iopub.status.busy": "2023-12-08T12:31:27.937281Z",
     "iopub.status.idle": "2023-12-08T12:31:27.937418Z",
     "shell.execute_reply": "2023-12-08T12:31:27.937353Z",
     "shell.execute_reply.started": "2023-12-08T12:31:27.937347Z"
    },
    "tags": []
   },
   "outputs": [],
   "source": [
    "np.sum(filtered)"
   ]
  },
  {
   "cell_type": "markdown",
   "id": "abe87397-9b18-4393-82f8-7c4dc757ab27",
   "metadata": {},
   "source": [
    "### Spectrum fits"
   ]
  },
  {
   "cell_type": "code",
   "execution_count": null,
   "id": "69afbf44-a613-47d3-81af-1848c8e7a997",
   "metadata": {
    "execution": {
     "iopub.status.busy": "2023-12-08T12:31:27.937812Z",
     "iopub.status.idle": "2023-12-08T12:31:27.937986Z",
     "shell.execute_reply": "2023-12-08T12:31:27.937913Z",
     "shell.execute_reply.started": "2023-12-08T12:31:27.937907Z"
    },
    "tags": []
   },
   "outputs": [],
   "source": [
    "for col in [\"A1_y\", \"chi2_y\", \"ozone [db]_y\", \"PWV [mm]_y\", \"VAOD_y\", \"A1_y\", \"A2_y\", \"D_CCD [mm]_y\", \"alpha_pix [pix]\", \"reso [pix]\", \"B_y\"]:\n",
    "    if col not in df.columns: \n",
    "        continue\n",
    "    if len(col.split('_')) > 1:\n",
    "        col_err = '_'.join(col.split('_')[:-1])+\"_err_\"+col.split('_')[-1]\n",
    "    else:\n",
    "        col_err = col+\"_err\"\n",
    "    fig = plt.figure(figsize=(8,5))\n",
    "    if col_err in df.columns:\n",
    "        plt.errorbar(rec[\"DATE-OBS\"][filtered], rec[col][filtered], yerr=rec[col_err][filtered], linestyle=\"none\", marker=\"+\")\n",
    "    else:\n",
    "        plt.plot(rec[\"DATE-OBS\"][filtered], rec[col][filtered], linestyle=\"none\", marker=\"+\")\n",
    "    #plt.ylim((0.9*np.min(rec[col][filtered]), 1.1*np.max(rec[col][filtered])))\n",
    "    plt.grid()\n",
    "    plt.title(col)\n",
    "    plt.legend()\n",
    "    plt.gcf().autofmt_xdate()\n",
    "    plt.show()"
   ]
  },
  {
   "cell_type": "code",
   "execution_count": null,
   "id": "aae610c5-ebd4-41a5-ba55-ab95580226c4",
   "metadata": {
    "execution": {
     "iopub.status.busy": "2023-12-08T12:31:27.938399Z",
     "iopub.status.idle": "2023-12-08T12:31:27.938616Z",
     "shell.execute_reply": "2023-12-08T12:31:27.938541Z",
     "shell.execute_reply.started": "2023-12-08T12:31:27.938535Z"
    },
    "tags": []
   },
   "outputs": [],
   "source": [
    "filters = np.unique(rec[\"FILTER\"])\n",
    "filters"
   ]
  },
  {
   "cell_type": "code",
   "execution_count": null,
   "id": "27410b11-f923-46a9-974b-39e68690cc0d",
   "metadata": {
    "execution": {
     "iopub.status.busy": "2023-12-08T12:31:27.938988Z",
     "iopub.status.idle": "2023-12-08T12:31:27.939151Z",
     "shell.execute_reply": "2023-12-08T12:31:27.939085Z",
     "shell.execute_reply.started": "2023-12-08T12:31:27.939079Z"
    },
    "tags": []
   },
   "outputs": [],
   "source": [
    "for col in [\"A1_y\", \"chi2_y\", \"ozone [db]_y\", \"PWV [mm]_y\", \"VAOD_y\", \"A1_y\", \"A2_y\", \"D_CCD [mm]_y\", \"alpha_pix [pix]\", \"reso [pix]\", \"B_y\"]:\n",
    "    if col not in df.columns: \n",
    "        continue\n",
    "    if len(col.split('_')) > 1:\n",
    "        col_err = '_'.join(col.split('_')[:-1])+\"_err_\"+col.split('_')[-1]\n",
    "    else:\n",
    "        col_err = col+\"_err\"\n",
    "    fig = plt.figure(figsize=(8,5))\n",
    "    for filt in filters:\n",
    "        if filt in [\"HD60753\", \"HD37962\"]:\n",
    "            continue\n",
    "        index = filtered & (rec[\"FILTER\"] == filt)\n",
    "        if col_err in df.columns:\n",
    "            plt.errorbar(rec[\"DATE-OBS\"][index], rec[col][index], yerr=rec[col_err][index], linestyle=\"none\", marker=\"+\", label=filt)\n",
    "        else:\n",
    "            plt.plot(rec[\"DATE-OBS\"][index], rec[col][index], linestyle=\"none\", marker=\"+\")\n",
    "    plt.ylim((0.9*np.min(rec[col][filtered]), 1.1*np.max(rec[col][filtered])))\n",
    "    plt.grid()\n",
    "    plt.title(col)\n",
    "    plt.legend()\n",
    "    plt.gcf().autofmt_xdate()\n",
    "    plt.show()"
   ]
  },
  {
   "cell_type": "code",
   "execution_count": null,
   "id": "2a7465b5-4713-4ca4-8aed-3316f57210a9",
   "metadata": {
    "execution": {
     "iopub.status.busy": "2023-12-08T12:31:27.939601Z",
     "iopub.status.idle": "2023-12-08T12:31:27.939735Z",
     "shell.execute_reply": "2023-12-08T12:31:27.939671Z",
     "shell.execute_reply.started": "2023-12-08T12:31:27.939666Z"
    },
    "tags": []
   },
   "outputs": [],
   "source": [
    "stars = np.unique(rec[\"TARGET\"])\n",
    "stars"
   ]
  },
  {
   "cell_type": "code",
   "execution_count": null,
   "id": "de5cadc8-fe8f-407c-8494-a7276d245756",
   "metadata": {
    "execution": {
     "iopub.status.busy": "2023-12-08T12:31:27.940332Z",
     "iopub.status.idle": "2023-12-08T12:31:27.940481Z",
     "shell.execute_reply": "2023-12-08T12:31:27.940415Z",
     "shell.execute_reply.started": "2023-12-08T12:31:27.940409Z"
    },
    "tags": []
   },
   "outputs": [],
   "source": [
    "for col in [\"A1_y\", \"chi2_y\", \"ozone [db]_y\", \"PWV [mm]_y\", \"VAOD_y\", \"A2_y\", \"D_CCD [mm]_y\", \"alpha_pix [pix]\", \"reso [pix]\", \"B_y\", \"alpha_0_2\", \"alpha_0_1\", \"gamma_0_2\", \"gamma_0_1\", \"y_c_0_2\", \"y_c_0_1\"]:\n",
    "    if col not in df.columns: \n",
    "        continue\n",
    "    if len(col.split('_')) > 1:\n",
    "        col_err = '_'.join(col.split('_')[:-1])+\"_err_\"+col.split('_')[-1]\n",
    "    else:\n",
    "        col_err = col+\"_err\"\n",
    "    fig = plt.figure(figsize=(8,5))\n",
    "    for star in stars:\n",
    "        #if star not in [\"HD185975\"]:\n",
    "        #    continue\n",
    "        index = filtered & (rec[\"TARGET\"] == star)\n",
    "        if col_err in df.columns:\n",
    "            plt.errorbar(rec[\"DATE-OBS\"][index], rec[col][index], yerr=rec[col_err][index], linestyle=\"none\", marker=\"+\", label=star)\n",
    "        else:\n",
    "            plt.plot(rec[\"DATE-OBS\"][index], rec[col][index], linestyle=\"none\", marker=\"+\")\n",
    "    plt.ylim((0.9*np.min(rec[col][filtered]), 1.1*np.max(rec[col][filtered])))\n",
    "    plt.grid()\n",
    "    plt.title(col)\n",
    "    plt.legend()\n",
    "    plt.gcf().autofmt_xdate()\n",
    "    plt.show()"
   ]
  },
  {
   "cell_type": "code",
   "execution_count": null,
   "id": "3c41e9ae-2cd2-4a03-9489-eeebe898111b",
   "metadata": {
    "execution": {
     "iopub.status.busy": "2023-12-08T12:31:27.941009Z",
     "iopub.status.idle": "2023-12-08T12:31:27.941147Z",
     "shell.execute_reply": "2023-12-08T12:31:27.941082Z",
     "shell.execute_reply.started": "2023-12-08T12:31:27.941076Z"
    },
    "tags": []
   },
   "outputs": [],
   "source": [
    "for col in [\"A1_y\", \"chi2_y\", \"ozone [db]_y\", \"PWV [mm]_y\", \"VAOD_y\", \"A2_y\", \"D_CCD [mm]_y\", \"alpha_pix [pix]\", \"reso [pix]\", \"B_y\", \"alpha_0_2\", \"alpha_0_1\", \"gamma_0_2\", \"gamma_0_1\", \"y_c_0_2\", \"y_c_0_1\"]:\n",
    "    if col not in df.columns: \n",
    "        continue\n",
    "    if len(col.split('_')) > 1:\n",
    "        col_err = '_'.join(col.split('_')[:-1])+\"_err_\"+col.split('_')[-1]\n",
    "    else:\n",
    "        col_err = col+\"_err\"\n",
    "    fig = plt.figure(figsize=(8,5))\n",
    "    for star in stars:\n",
    "        #if star not in [\"HD185975\"]:\n",
    "        #    continue\n",
    "        index = filtered & (rec[\"TARGET\"] == star)\n",
    "        if col_err in df.columns:\n",
    "            plt.errorbar(rec[\"DATE-OBS\"][index], rec[col][index], yerr=rec[col_err][index], linestyle=\"none\", marker=\"+\", label=star)\n",
    "        else:\n",
    "            plt.plot(rec[\"DATE-OBS\"][index], rec[col][index], linestyle=\"none\", marker=\"+\")\n",
    "    plt.ylim((0.9*np.min(rec[col][filtered]), 1.1*np.max(rec[col][filtered])))\n",
    "    plt.grid()\n",
    "    plt.title(col)\n",
    "    plt.legend()\n",
    "    plt.gcf().autofmt_xdate()\n",
    "    plt.show()"
   ]
  },
  {
   "cell_type": "markdown",
   "id": "1bf6d8bb-ab0b-4254-a229-67393ab4d97f",
   "metadata": {},
   "source": [
    "### Spectrogram forward model fits"
   ]
  },
  {
   "cell_type": "code",
   "execution_count": null,
   "id": "0f6d17fb-78c6-49a6-a0aa-196ca554a10c",
   "metadata": {
    "execution": {
     "iopub.status.busy": "2023-12-08T12:31:27.941597Z",
     "iopub.status.idle": "2023-12-08T12:31:27.941858Z",
     "shell.execute_reply": "2023-12-08T12:31:27.941779Z",
     "shell.execute_reply.started": "2023-12-08T12:31:27.941772Z"
    },
    "tags": []
   },
   "outputs": [],
   "source": [
    "filters = np.unique(rec[\"FILTER\"])\n",
    "filters"
   ]
  },
  {
   "cell_type": "code",
   "execution_count": null,
   "id": "7a9c3be9-8e29-4101-ab63-8cb5e0ad091e",
   "metadata": {
    "execution": {
     "iopub.status.busy": "2023-12-08T12:31:27.942303Z",
     "iopub.status.idle": "2023-12-08T12:31:27.942445Z",
     "shell.execute_reply": "2023-12-08T12:31:27.942376Z",
     "shell.execute_reply.started": "2023-12-08T12:31:27.942370Z"
    },
    "tags": []
   },
   "outputs": [],
   "source": [
    "for col in [\"A1_x\", \"ozone [db]_x\", \"PWV [mm]_x\", \"VAOD_x\", \"D_CCD [mm]_x\"]: #, \"gamma_0\", \"alpha_0\"]:\n",
    "    if len(col.split('_')) > 1:\n",
    "        col_err = '_'.join(col.split('_')[:-1])+\"_err_\"+col.split('_')[-1]\n",
    "    else:\n",
    "        col_err = col+\"_err\"\n",
    "    fig = plt.figure(figsize=(8,5))\n",
    "    for filt in filters:\n",
    "        index = filtered & (rec[\"FILTER\"] == filt)\n",
    "        if col_err in df.columns:\n",
    "            plt.errorbar(rec[\"DATE-OBS\"][index], rec[col][index], yerr=rec[col_err][index], linestyle=\"none\", marker=\"+\")\n",
    "        else:\n",
    "            plt.plot(rec[\"DATE-OBS\"][index], rec[col][index], linestyle=\"none\", marker=\"+\")\n",
    "    plt.ylim((0.9*np.min(rec[col][filtered]), 1.1*np.max(rec[col][filtered])))\n",
    "    plt.grid()\n",
    "    plt.title(col)\n",
    "    plt.legend()\n",
    "    plt.gcf().autofmt_xdate()\n",
    "    plt.show()"
   ]
  },
  {
   "cell_type": "code",
   "execution_count": null,
   "id": "a169b627-7eaf-4cd0-8cfa-8263f874ee22",
   "metadata": {
    "execution": {
     "iopub.status.busy": "2023-12-08T12:31:27.942882Z",
     "iopub.status.idle": "2023-12-08T12:31:27.943032Z",
     "shell.execute_reply": "2023-12-08T12:31:27.942966Z",
     "shell.execute_reply.started": "2023-12-08T12:31:27.942960Z"
    },
    "tags": []
   },
   "outputs": [],
   "source": [
    "import matplotlib\n",
    "matplotlib.pyplot.close()"
   ]
  },
  {
   "cell_type": "code",
   "execution_count": null,
   "id": "ae4e754c-c13c-4f34-aa0b-2031c7ac45d2",
   "metadata": {
    "execution": {
     "iopub.status.busy": "2023-12-08T12:31:27.943498Z",
     "iopub.status.idle": "2023-12-08T12:31:27.943633Z",
     "shell.execute_reply": "2023-12-08T12:31:27.943571Z",
     "shell.execute_reply.started": "2023-12-08T12:31:27.943564Z"
    },
    "tags": []
   },
   "outputs": [],
   "source": [
    "stars = np.unique(rec[\"TARGET\"])\n",
    "stars"
   ]
  },
  {
   "cell_type": "code",
   "execution_count": null,
   "id": "715bc47b-f0ff-4c08-89b2-7f867b9efde9",
   "metadata": {
    "execution": {
     "iopub.status.busy": "2023-12-08T12:31:27.944205Z",
     "iopub.status.idle": "2023-12-08T12:31:27.944340Z",
     "shell.execute_reply": "2023-12-08T12:31:27.944276Z",
     "shell.execute_reply.started": "2023-12-08T12:31:27.944270Z"
    },
    "tags": []
   },
   "outputs": [],
   "source": [
    "for col in [\"A1_x\", \"ozone [db]_x\", \"PWV [mm]_x\", \"VAOD_x\", \"D_CCD [mm]_x\", \"gamma_0_2\", \"alpha_0_2\"]:\n",
    "    if len(col.split('_')) > 1:\n",
    "        col_err = '_'.join(col.split('_')[:-1])+\"_err_\"+col.split('_')[-1]\n",
    "    else:\n",
    "        col_err = col+\"_err\"\n",
    "    fig = plt.figure(figsize=(8,5))\n",
    "    for star in stars : #['HD185975']: #stars:\n",
    "        index = filtered & (rec[\"TARGET\"] == star)\n",
    "        if col_err in df.columns:\n",
    "            plt.errorbar(rec[\"DATE-OBS\"][index], rec[col][index], yerr=rec[col_err][index], linestyle=\"none\", marker=\"+\", label=star)\n",
    "        else:\n",
    "            plt.plot(rec[\"DATE-OBS\"][index], rec[col][index], linestyle=\"none\", marker=\"+\")\n",
    "    plt.ylim((0.9*np.min(rec[col][filtered]), 1.1*np.max(rec[col][filtered])))\n",
    "    plt.grid()\n",
    "    plt.title(col)\n",
    "    plt.legend(bbox_to_anchor=(1,1), loc=\"upper left\")\n",
    "    plt.gcf().autofmt_xdate()\n",
    "    plt.tight_layout()\n",
    "    plt.show()"
   ]
  },
  {
   "cell_type": "code",
   "execution_count": null,
   "id": "adee2a36-bbf5-4645-9810-addb64e6f547",
   "metadata": {
    "execution": {
     "iopub.status.busy": "2023-12-08T12:31:27.944909Z",
     "iopub.status.idle": "2023-12-08T12:31:27.945047Z",
     "shell.execute_reply": "2023-12-08T12:31:27.944983Z",
     "shell.execute_reply.started": "2023-12-08T12:31:27.944977Z"
    },
    "tags": []
   },
   "outputs": [],
   "source": [
    "for col in [\"A1_x\", \"ozone [db]_x\", \"PWV [mm]_x\", \"VAOD_x\", \"D_CCD [mm]_x\", \"y_c_0_1\"]:\n",
    "    if len(col.split('_')) > 1:\n",
    "        col_err = '_'.join(col.split('_')[:-1])+\"_err_\"+col.split('_')[-1]\n",
    "    else:\n",
    "        col_err = col+\"_err\"\n",
    "    fig = plt.figure(figsize=(8,5))\n",
    "    for star in stars:\n",
    "        index = filtered & (rec[\"TARGET\"] == star)\n",
    "        if col_err in df.columns:\n",
    "            plt.errorbar(rec[\"DATE-OBS\"][index], rec[col][index], yerr=rec[col_err][index], linestyle=\"none\", marker=\"+\", label=star)\n",
    "        else:\n",
    "            plt.plot(rec[\"DATE-OBS\"][index], rec[col][index], linestyle=\"none\", marker=\"+\")\n",
    "    plt.ylim((0.9*np.min(rec[col][filtered]), 1.1*np.max(rec[col][filtered])))\n",
    "    plt.grid()\n",
    "    plt.title(col)\n",
    "    plt.legend(bbox_to_anchor=(1,1), loc=\"upper left\")\n",
    "    plt.gcf().autofmt_xdate()\n",
    "    plt.tight_layout()\n",
    "    plt.show()"
   ]
  },
  {
   "cell_type": "code",
   "execution_count": null,
   "id": "013c477d-3372-4f32-869b-61ae60f06440",
   "metadata": {
    "execution": {
     "iopub.status.busy": "2023-12-08T12:31:27.945531Z",
     "iopub.status.idle": "2023-12-08T12:31:27.945666Z",
     "shell.execute_reply": "2023-12-08T12:31:27.945603Z",
     "shell.execute_reply.started": "2023-12-08T12:31:27.945597Z"
    },
    "tags": []
   },
   "outputs": [],
   "source": [
    "for col in [\"A1_x\", \"ozone [db]_x\", \"PWV [mm]_x\", \"VAOD_x\", \"D_CCD [mm]_x\", \"gamma_0_1\", \"gamma_0_2\", \"alpha_0_1\", \"alpha_0_2\", \"y_c_0_1\", \"y_c_0_2\" ]:\n",
    "    if len(col.split('_')) > 1:\n",
    "        col_err = '_'.join(col.split('_')[:-1])+\"_err_\"+col.split('_')[-1]\n",
    "    else:\n",
    "        col_err = col+\"_err\"\n",
    "    fig = plt.figure(figsize=(8,5))\n",
    "    for star in stars:\n",
    "        index = filtered & (rec[\"TARGET\"] == star) & (rec[\"FILTER\"]==\"empty\")\n",
    "        if col_err in df.columns:\n",
    "            plt.errorbar(rec[\"AIRMASS\"][index], rec[col][index], yerr=rec[col_err][index], linestyle=\"none\", marker=\"+\", label=star)\n",
    "        else:\n",
    "            plt.plot(rec[\"AIRMASS\"][index], rec[col][index], linestyle=\"none\", marker=\"+\")\n",
    "    plt.ylim((0.9*np.min(rec[col][filtered]), 1.1*np.max(rec[col][filtered])))\n",
    "    plt.grid()\n",
    "    plt.title(col)\n",
    "    plt.legend(bbox_to_anchor=(1,1), loc=\"upper left\")\n",
    "    #plt.gcf().autofmt_xdate()\n",
    "    plt.tight_layout()\n",
    "    plt.show()"
   ]
  },
  {
   "cell_type": "code",
   "execution_count": null,
   "id": "43a4c154-887d-4bf6-bb34-864a497a5a7d",
   "metadata": {},
   "outputs": [],
   "source": []
  },
  {
   "cell_type": "code",
   "execution_count": null,
   "id": "6b801571-3919-49fb-af67-4bc809071012",
   "metadata": {},
   "outputs": [],
   "source": []
  },
  {
   "cell_type": "code",
   "execution_count": null,
   "id": "82501659-458e-482f-8c01-a377d6d09ce2",
   "metadata": {},
   "outputs": [],
   "source": []
  },
  {
   "cell_type": "code",
   "execution_count": null,
   "id": "98b44795-afd5-43fc-9d8d-1d6f1899e170",
   "metadata": {},
   "outputs": [],
   "source": []
  },
  {
   "cell_type": "code",
   "execution_count": null,
   "id": "e559cead-76bc-4ab4-8757-78b0b4cc27d1",
   "metadata": {},
   "outputs": [],
   "source": []
  },
  {
   "cell_type": "code",
   "execution_count": null,
   "id": "237c612c-b0fc-4fa0-9565-0a0fcca546b6",
   "metadata": {},
   "outputs": [],
   "source": []
  },
  {
   "cell_type": "code",
   "execution_count": null,
   "id": "c62ea7cb-d491-4f79-a3b8-7f9c84aab771",
   "metadata": {},
   "outputs": [],
   "source": []
  },
  {
   "cell_type": "code",
   "execution_count": null,
   "id": "7e64e83a-49ba-49ee-9ead-aeb88e7d0768",
   "metadata": {},
   "outputs": [],
   "source": []
  },
  {
   "cell_type": "code",
   "execution_count": null,
   "id": "e5a6bba8-4ac8-48ae-84b8-651820815561",
   "metadata": {},
   "outputs": [],
   "source": []
  },
  {
   "cell_type": "code",
   "execution_count": null,
   "id": "e53e04c7-9672-41fe-8c4c-36a18622b66e",
   "metadata": {},
   "outputs": [],
   "source": []
  }
 ],
 "metadata": {
  "kernelspec": {
   "display_name": "LSST",
   "language": "python",
   "name": "lsst"
  },
  "language_info": {
   "codemirror_mode": {
    "name": "ipython",
    "version": 3
   },
   "file_extension": ".py",
   "mimetype": "text/x-python",
   "name": "python",
   "nbconvert_exporter": "python",
   "pygments_lexer": "ipython3",
   "version": "3.11.4"
  }
 },
 "nbformat": 4,
 "nbformat_minor": 5
}
