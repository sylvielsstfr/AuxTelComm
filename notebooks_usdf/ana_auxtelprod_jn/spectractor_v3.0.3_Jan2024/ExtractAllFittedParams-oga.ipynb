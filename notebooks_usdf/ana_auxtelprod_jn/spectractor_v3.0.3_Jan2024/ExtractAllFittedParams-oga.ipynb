{
 "cells": [
  {
   "cell_type": "markdown",
   "id": "de6ce8d1-1d11-47b4-889c-556e47ad83ff",
   "metadata": {
    "execution": {
     "iopub.execute_input": "2023-11-27T15:03:21.584340Z",
     "iopub.status.busy": "2023-11-27T15:03:21.583969Z",
     "iopub.status.idle": "2023-11-27T15:03:21.587270Z",
     "shell.execute_reply": "2023-11-27T15:03:21.586902Z",
     "shell.execute_reply.started": "2023-11-27T15:03:21.584327Z"
    },
    "tags": []
   },
   "source": [
    "# Extract all fitted params from many dates in OGA butler\n",
    "\n",
    "- Author : Sylvie Dagoret-Campagne\n",
    "- creation date : 2024-01-14\n",
    "- last update : 2024-01-14\n",
    "- affiliation : IJCLab/IN2P3/CNRS\n"
   ]
  },
  {
   "cell_type": "markdown",
   "id": "c334e0f8-0f4b-4afa-b0d8-0924368b2177",
   "metadata": {},
   "source": [
    "## Imports"
   ]
  },
  {
   "cell_type": "code",
   "execution_count": 1,
   "id": "245c853f-f3f1-42ac-a0c2-91c714df4561",
   "metadata": {
    "execution": {
     "iopub.execute_input": "2024-01-15T14:55:42.870795Z",
     "iopub.status.busy": "2024-01-15T14:55:42.870673Z",
     "iopub.status.idle": "2024-01-15T14:55:44.097056Z",
     "shell.execute_reply": "2024-01-15T14:55:44.096630Z",
     "shell.execute_reply.started": "2024-01-15T14:55:42.870781Z"
    }
   },
   "outputs": [],
   "source": [
    "import matplotlib.pyplot as plt\n",
    "import matplotlib as mpl\n",
    "import numpy as np\n",
    "import pandas as pd\n",
    "import matplotlib.gridspec as gridspec\n",
    "from spectractor.tools import from_lambda_to_colormap, wavelength_to_rgb\n",
    "#%matplotlib widget \n",
    "import h5py\n",
    "from scipy import interpolate\n",
    "from astropy.time import Time"
   ]
  },
  {
   "cell_type": "code",
   "execution_count": 2,
   "id": "7f285fb8-916c-4011-8243-0646d12341a8",
   "metadata": {
    "execution": {
     "iopub.execute_input": "2024-01-15T14:55:44.098232Z",
     "iopub.status.busy": "2024-01-15T14:55:44.097947Z",
     "iopub.status.idle": "2024-01-15T14:55:44.104475Z",
     "shell.execute_reply": "2024-01-15T14:55:44.104105Z",
     "shell.execute_reply.started": "2024-01-15T14:55:44.098217Z"
    }
   },
   "outputs": [],
   "source": [
    "import spectractor\n",
    "from spectractor.simulation.throughput import load_transmission,plot_transmission_simple,TelescopeTransmission\n",
    "from spectractor import parameters\n",
    "from spectractor.extractor import dispersers\n",
    "from spectractor.config import load_config,set_logger\n",
    "import os,sys"
   ]
  },
  {
   "cell_type": "code",
   "execution_count": 3,
   "id": "66b63b47-9d63-487f-beee-157f95ee0af4",
   "metadata": {
    "execution": {
     "iopub.execute_input": "2024-01-15T14:55:44.105086Z",
     "iopub.status.busy": "2024-01-15T14:55:44.104964Z",
     "iopub.status.idle": "2024-01-15T14:55:44.107504Z",
     "shell.execute_reply": "2024-01-15T14:55:44.107159Z",
     "shell.execute_reply.started": "2024-01-15T14:55:44.105075Z"
    }
   },
   "outputs": [],
   "source": [
    "plt.rcParams[\"figure.figsize\"] = (8,8)\n",
    "plt.rcParams[\"axes.labelsize\"] = 'xx-large'\n",
    "plt.rcParams['axes.titlesize'] = 'xx-large'\n",
    "plt.rcParams['xtick.labelsize']= 'xx-large'\n",
    "plt.rcParams['ytick.labelsize']= 'xx-large'\n",
    "plt.rcParams['legend.fontsize']=  12\n",
    "plt.rcParams['font.size'] = 12"
   ]
  },
  {
   "cell_type": "code",
   "execution_count": 4,
   "id": "a08091f0-b612-42bb-a2c1-af86e71bb4ff",
   "metadata": {
    "execution": {
     "iopub.execute_input": "2024-01-15T14:55:44.108079Z",
     "iopub.status.busy": "2024-01-15T14:55:44.107962Z",
     "iopub.status.idle": "2024-01-15T14:55:44.111644Z",
     "shell.execute_reply": "2024-01-15T14:55:44.111288Z",
     "shell.execute_reply.started": "2024-01-15T14:55:44.108068Z"
    }
   },
   "outputs": [],
   "source": [
    "import warnings\n",
    "warnings.filterwarnings(\"ignore\")"
   ]
  },
  {
   "cell_type": "code",
   "execution_count": 5,
   "id": "e2fcf6d7-ad2d-4213-aa11-2229ee020ec7",
   "metadata": {
    "execution": {
     "iopub.execute_input": "2024-01-15T14:55:44.112818Z",
     "iopub.status.busy": "2024-01-15T14:55:44.112695Z",
     "iopub.status.idle": "2024-01-15T14:55:44.118237Z",
     "shell.execute_reply": "2024-01-15T14:55:44.117869Z",
     "shell.execute_reply.started": "2024-01-15T14:55:44.112806Z"
    }
   },
   "outputs": [
    {
     "name": "stdout",
     "output_type": "stream",
     "text": [
      "dagoret-nb\n",
      "Set environement for Rubin Platform at  USDF\n"
     ]
    }
   ],
   "source": [
    "machine_name = os.uname().nodename\n",
    "print(machine_name)\n",
    "if 'sdf' in machine_name:\n",
    "    #machine_name_usdf = 'sdfrome001'\n",
    "    #machine_name_notebook platform = 'dagoret-nb'\n",
    "    print(\"Set environement for USDF\")\n",
    "    newpythonpath = os.path.join(os.getenv(\"HOME\"),\"repos/repos_w_2023_44/rubinsimphot/src\")\n",
    "    sys.path.append(newpythonpath)\n",
    "    newpythonpath = os.path.join(os.getenv(\"HOME\"),\"rubin-user/RubinLSSTPhotometricCorrTuto/notebooks/lib\")\n",
    "    sys.path.append(newpythonpath)   \n",
    "elif \"dagoret-nb\" in machine_name:\n",
    "    print(\"Set environement for Rubin Platform at  USDF\")\n",
    "    newpythonpath = os.path.join(os.getenv(\"HOME\"),\"repos/repos_w_2023_44/rubinsimphot/src\")\n",
    "    sys.path.append(newpythonpath)\n",
    "    newpythonpath = os.path.join(os.getenv(\"HOME\"),\"rubin-user/RubinLSSTPhotometricCorrTuto/notebooks/lib\")\n",
    "    sys.path.append(newpythonpath)\n",
    "elif 'mac' in machine_name:\n",
    "    print(\"Be sure to run this notebook in conda environnement named conda_py310\")\n",
    "else:\n",
    "    print(\"Your current machine name is {machine_name}. Check your python environment\")"
   ]
  },
  {
   "cell_type": "code",
   "execution_count": 6,
   "id": "1020c992-fd92-4248-87f8-9285d320cd59",
   "metadata": {
    "execution": {
     "iopub.execute_input": "2024-01-15T14:55:44.118830Z",
     "iopub.status.busy": "2024-01-15T14:55:44.118709Z",
     "iopub.status.idle": "2024-01-15T14:55:44.611435Z",
     "shell.execute_reply": "2024-01-15T14:55:44.610966Z",
     "shell.execute_reply.started": "2024-01-15T14:55:44.118819Z"
    }
   },
   "outputs": [],
   "source": [
    "sys.path.append(\"../lib\")\n",
    "from libanaspectra import *"
   ]
  },
  {
   "cell_type": "code",
   "execution_count": 7,
   "id": "75591adc-21a3-4b81-a9ec-f244ca5bf610",
   "metadata": {
    "execution": {
     "iopub.execute_input": "2024-01-15T14:55:44.612218Z",
     "iopub.status.busy": "2024-01-15T14:55:44.612081Z",
     "iopub.status.idle": "2024-01-15T14:55:44.624100Z",
     "shell.execute_reply": "2024-01-15T14:55:44.623697Z",
     "shell.execute_reply.started": "2024-01-15T14:55:44.612204Z"
    }
   },
   "outputs": [],
   "source": [
    "from rubinsimphot.phot_utils import Bandpass, Sed\n",
    "from rubinsimphot.data.data_sets import  get_data_dir\n",
    "\n",
    "#README.md        darksky.dat      filter_r.dat     hardware_g.dat   hardware_y.dat   lens3.dat        total_g.dat      total_y.dat\n",
    "#README_SOURCE.md detector.dat     filter_u.dat     hardware_i.dat   hardware_z.dat   m1.dat           total_i.dat      total_z.dat\n",
    "#atmos_10.dat     filter_g.dat     filter_y.dat     hardware_r.dat   lens1.dat        m2.dat           total_r.dat      version_info\n",
    "#atmos_std.dat    filter_i.dat     filter_z.dat     hardware_u.dat   lens2.dat        m3.dat           total_u.dat\n",
    "hardware_filenames = [\"hardware_u.dat\",\"hardware_g.dat\",\"hardware_r.dat\",\"hardware_i.dat\",\"hardware_z.dat\",\"hardware_y.dat\"] \n",
    "filter_filenames = [\"filter_u.dat\",\"filter_g.dat\",\"filter_r.dat\",\"filter_i.dat\",\"filter_z.dat\",\"filter_y.dat\" ]\n",
    "total_filenames = [\"total_u.dat\",\"total_g.dat\",\"total_r.dat\",\"total_i.dat\",\"total_z.dat\",\"total_y.dat\" ]\n",
    "filter_tagnames = [\"u\",\"g\",\"r\",\"i\",\"z\",\"y\"]\n",
    "Filter_tagnames = [\"U\",\"G\",\"R\",\"I\",\"Z\",\"Y\"]\n",
    "filtercolor_tagnames = [\"u-g\",\"g-r\",\"r-i\",\"i-z\",\"z-y\"]\n",
    "Filtercolor_tagnames = [\"U-G\",\"G-R\",\"R-I\",\"I-Y\",\"Z-Y\"]\n",
    "filter_color = [\"b\",\"g\",\"r\",\"orange\",\"grey\",\"k\"]\n",
    "NFILT=len(filter_filenames)\n",
    "\n",
    "WLMIN=300.\n",
    "WLMAX=1100.\n",
    "WLBIN=1.\n",
    "NWLBIN=int((WLMAX-WLMIN)/WLBIN)\n",
    "WL=np.linspace(WLMIN,WLMAX,NWLBIN)"
   ]
  },
  {
   "cell_type": "code",
   "execution_count": 8,
   "id": "62b1f80e-f742-49bf-b1db-cd199b059d89",
   "metadata": {
    "execution": {
     "iopub.execute_input": "2024-01-15T14:55:44.624768Z",
     "iopub.status.busy": "2024-01-15T14:55:44.624642Z",
     "iopub.status.idle": "2024-01-15T14:55:44.628509Z",
     "shell.execute_reply": "2024-01-15T14:55:44.628154Z",
     "shell.execute_reply.started": "2024-01-15T14:55:44.624756Z"
    }
   },
   "outputs": [],
   "source": [
    "#FILTERWL: precalculated array containing center, boundaries and width of each filter.\n",
    "#index 0 : minimum wavelength of filter border\n",
    "#index 1 : minimum wavelength of filter border\n",
    "#index 2 : center wavelength of filter\n",
    "#index 3 : filter width\n",
    "\n",
    "\n",
    "FILTERWL = np.array([[ 324.03003755,  402.12765957,  363.59690349,   78.09762203],\n",
    "       [ 392.11514393,  561.32665832,  473.54069923,  169.21151439],\n",
    "       [ 542.3028786 ,  700.50062578,  619.49926767,  158.19774718],\n",
    "       [ 681.47684606,  827.65957447,  752.01084117,  146.18272841],\n",
    "       [ 808.63579474,  932.79098874,  868.488419  ,  124.15519399],\n",
    "       [ 914.76846058, 1044.93116395,  969.10570859,  130.16270338]])\n",
    "\n",
    "FILTERWL_auxtel = np.array([[ 352.7 ,  395.9 ,  374.3 ,   43.2 ],\n",
    "                     [ 387.6 ,  566.2 ,  476.9 ,  178.6 ],\n",
    "                     [ 541.4 ,  715.5 ,  628.45,  174.1 ],\n",
    "                     [ 673.3 ,  870.9 ,  772.1 ,  197.6 ],\n",
    "                     [ 805.6 , 1090.7 ,  948.15,  285.1 ]])\n",
    "\n",
    "\n",
    "F0 = 3631.0 # Jy 1, Jy = 10^{-23} erg.cm^{-2}.s^{-1}.Hz^{-1}\n",
    "Jy_to_ergcmm2sm1hzm1 = 1e-23\n",
    "DT = 30.0 # seconds\n",
    "gel = 1.1\n",
    "#hP = 6.62607015E-34 # J⋅Hz−1\n",
    "hP = 6.626196E-27\n",
    "A  = np.pi*642.3**2 # cm2  Reff=6.423 m\n",
    "A_auxtel  = 9636.0 # cm2\n",
    "\n",
    "#ZPT_cont =  2.5 \\log_{10} \\left(\\frac{F_0 A \\Delta T}{g_{el} h} \\right)\n",
    "ZPTconst = 2.5*np.log10(F0*Jy_to_ergcmm2sm1hzm1*A*DT/gel/hP)"
   ]
  },
  {
   "cell_type": "code",
   "execution_count": 9,
   "id": "47ecc115-56b8-47f8-99b4-641a55d6ef1f",
   "metadata": {
    "execution": {
     "iopub.execute_input": "2024-01-15T14:55:44.629115Z",
     "iopub.status.busy": "2024-01-15T14:55:44.628999Z",
     "iopub.status.idle": "2024-01-15T14:55:44.652009Z",
     "shell.execute_reply": "2024-01-15T14:55:44.651596Z",
     "shell.execute_reply.started": "2024-01-15T14:55:44.629104Z"
    }
   },
   "outputs": [],
   "source": [
    "fdir = get_data_dir()\n",
    "bandpass_inst = {}\n",
    "path_rubin_sim_throughput = os.path.join(fdir, 'throughputs', 'baseline')\n",
    "for index,filename in enumerate(hardware_filenames):\n",
    "    fullfilename=os.path.join(path_rubin_sim_throughput,filename)\n",
    "    arr= np.loadtxt(fullfilename)\n",
    "    # interpolate  filter transmission\n",
    "    ff = interpolate.interp1d(x=arr[:,0], y=arr[:,1],fill_value=\"extrapolate\")\n",
    "    fname = filter_tagnames[index]\n",
    "    bandpass_inst[fname] = Bandpass(wavelen=WL,sb=ff(WL))"
   ]
  },
  {
   "cell_type": "code",
   "execution_count": 10,
   "id": "17b5675b-9828-4e41-98bb-079b0a391c98",
   "metadata": {
    "execution": {
     "iopub.execute_input": "2024-01-15T14:55:44.652634Z",
     "iopub.status.busy": "2024-01-15T14:55:44.652513Z",
     "iopub.status.idle": "2024-01-15T14:55:44.679340Z",
     "shell.execute_reply": "2024-01-15T14:55:44.678974Z",
     "shell.execute_reply.started": "2024-01-15T14:55:44.652623Z"
    }
   },
   "outputs": [
    {
     "data": {
      "text/plain": [
       "Text(0.5, 1.0, 'Total Rubin-LSST filter throughput')"
      ]
     },
     "execution_count": 10,
     "metadata": {},
     "output_type": "execute_result"
    }
   ],
   "source": [
    "fig, axs = plt.subplots(1,1,figsize=(6,4))\n",
    "# loop on filter\n",
    "for index,f in enumerate(filter_tagnames):\n",
    "    \n",
    "    axs.plot(WL,bandpass_inst[f].sb,color=filter_color[index]) \n",
    "    axs.fill_between(WL,bandpass_inst[f].sb,color=filter_color[index],alpha=0.2) \n",
    "    axs.axvline(FILTERWL[index,2],color=filter_color[index],linestyle=\"-.\")\n",
    "    \n",
    "axs.set_xlabel(\"$\\\\lambda$ (nm)\")\n",
    "axs.set_title(\"Total Rubin-LSST filter throughput\")"
   ]
  },
  {
   "cell_type": "code",
   "execution_count": 11,
   "id": "cf4975b5-966e-45d4-8624-66172e2c776c",
   "metadata": {
    "execution": {
     "iopub.execute_input": "2024-01-15T14:55:44.679953Z",
     "iopub.status.busy": "2024-01-15T14:55:44.679831Z",
     "iopub.status.idle": "2024-01-15T14:55:44.681755Z",
     "shell.execute_reply": "2024-01-15T14:55:44.681378Z",
     "shell.execute_reply.started": "2024-01-15T14:55:44.679942Z"
    },
    "tags": []
   },
   "outputs": [],
   "source": [
    "#from lsst.summit.utils.utils import checkStackSetup\n",
    "#checkStackSetup()"
   ]
  },
  {
   "cell_type": "code",
   "execution_count": 12,
   "id": "53dfcc69-f7b0-49b3-8131-0df1c5ca7120",
   "metadata": {
    "execution": {
     "iopub.execute_input": "2024-01-15T14:55:44.682391Z",
     "iopub.status.busy": "2024-01-15T14:55:44.682273Z",
     "iopub.status.idle": "2024-01-15T14:55:47.385324Z",
     "shell.execute_reply": "2024-01-15T14:55:47.384800Z",
     "shell.execute_reply.started": "2024-01-15T14:55:44.682380Z"
    },
    "tags": []
   },
   "outputs": [
    {
     "name": "stdout",
     "output_type": "stream",
     "text": [
      "u/dagoret/auxtel_atmo_202101_v3.0.3_doGainsPTC_rebin2_231208\n",
      "u/dagoret/auxtel_atmo_202101_v3.0.3_doGainsPTC_rebin2_231208/20231220T142452Z\n",
      "u/dagoret/auxtel_atmo_202209_v3.0.3_doGainsPTC_rebin2_231221\n",
      "u/dagoret/auxtel_atmo_202209_v3.0.3_doGainsPTC_rebin2_231221/20231221T125249Z\n",
      "u/dagoret/auxtel_atmo_202301_v3.0.3_doGainsNOPTC_rebin2_231208\n",
      "u/dagoret/auxtel_atmo_202301_v3.0.3_doGainsNOPTC_rebin2_231208/20231208T215202Z\n",
      "u/dagoret/auxtel_atmo_202301_v3.0.3_doGainsPTC_rebin2_231208\n",
      "u/dagoret/auxtel_atmo_202301_v3.0.3_doGainsPTC_rebin2_231208/20231208T211104Z\n",
      "u/dagoret/auxtel_atmosphere_202301_v3.0.3_doGainsPTC_rebin2\n",
      "u/dagoret/auxtel_atmosphere_202301_v3.0.3_doGainsPTC_rebin2/20231208T100936Z\n",
      "u/dagoret/auxtel_atmosphere_202301_v3.0.3_doGainsPTC_rebin2/20231208T130352Z\n"
     ]
    }
   ],
   "source": [
    "import lsst.daf.butler as dafButler\n",
    "\n",
    "repo = \"/repo/main\"\n",
    "repo = \"/repo/embargo\"\n",
    "# repo = \"LATISS\"\n",
    "butler = dafButler.Butler(repo)\n",
    "registry = butler.registry\n",
    "\n",
    "for c in sorted(registry.queryCollections()):\n",
    "    #if \"u/jneveu\" in c and \"auxtel_atmo\" in c:\n",
    "    #if \"u/dagoret\" in c:\n",
    "    if \"u/dagoret\" in c and \"auxtel_atmo\" in c:\n",
    "        print(c)"
   ]
  },
  {
   "cell_type": "markdown",
   "id": "3fa4b1b2-f357-4d0e-a71d-16e9bd59e59c",
   "metadata": {},
   "source": [
    "## Config"
   ]
  },
  {
   "cell_type": "markdown",
   "id": "1c0393b1-60be-4f69-b3d4-5f609d0c38d3",
   "metadata": {},
   "source": [
    "### Config collection"
   ]
  },
  {
   "cell_type": "code",
   "execution_count": 13,
   "id": "340e31dd-ac40-4941-ba9c-39b634fd1966",
   "metadata": {
    "execution": {
     "iopub.execute_input": "2024-01-15T14:55:47.386113Z",
     "iopub.status.busy": "2024-01-15T14:55:47.385975Z",
     "iopub.status.idle": "2024-01-15T14:55:47.388282Z",
     "shell.execute_reply": "2024-01-15T14:55:47.387934Z",
     "shell.execute_reply.started": "2024-01-15T14:55:47.386100Z"
    }
   },
   "outputs": [],
   "source": [
    "#my_collection = \"u/dagoret/auxtel_atmo_202301_v3.0.3_doGainsPTC_rebin2_231208\"\n",
    "#my_collection = \"u/dagoret/auxtel_atmo_202301_v3.0.3_doGainsNOPTC_rebin2_231208\"\n",
    "\n",
    "# all spectra from September 2022 to december 2023\n",
    "#the reconstruction done by  LambdaMin = 350.0 and spectractor v3.0.3 in 2023/12/21\n",
    "\n",
    "my_collection = \"u/dagoret/auxtel_atmo_202209_v3.0.3_doGainsPTC_rebin2_231221\"\n",
    "#my_collection = \"u/dagoret/auxtel_atmo_202301_v3.0.3_doGainsNOPTC_rebin2_231208\""
   ]
  },
  {
   "cell_type": "markdown",
   "id": "a827f927-5321-4c58-86e6-8fa67fa27680",
   "metadata": {},
   "source": [
    "### Config Auxtel"
   ]
  },
  {
   "cell_type": "code",
   "execution_count": 14,
   "id": "fad2ee01-896a-4410-8aef-9d6c8752716f",
   "metadata": {
    "execution": {
     "iopub.execute_input": "2024-01-15T14:55:47.390366Z",
     "iopub.status.busy": "2024-01-15T14:55:47.390239Z",
     "iopub.status.idle": "2024-01-15T14:55:47.392590Z",
     "shell.execute_reply": "2024-01-15T14:55:47.392246Z",
     "shell.execute_reply.started": "2024-01-15T14:55:47.390355Z"
    }
   },
   "outputs": [],
   "source": [
    "#config_path = \"~/repos/repos_w_2023_44/Spectractor/config/auxtel.ini\"\n",
    "#config_path = \"/home/d/dagoret/repos/repos_w_2023_44/Spectractor/config/auxtel.ini\"\n",
    "config_fullpath = os.path.join(spectractor.__path__[0],\"../config/auxtel.ini\")\n",
    "throughput_filename=\"multispectra_holo4_003_HD142331_20230802_AuxTel_doGainsPTC_v3.0.3_throughput.txt\""
   ]
  },
  {
   "cell_type": "code",
   "execution_count": 15,
   "id": "e4edeb2d-4ee9-41f9-84c7-13f022a0d889",
   "metadata": {
    "execution": {
     "iopub.execute_input": "2024-01-15T14:55:47.393189Z",
     "iopub.status.busy": "2024-01-15T14:55:47.393072Z",
     "iopub.status.idle": "2024-01-15T14:55:47.400561Z",
     "shell.execute_reply": "2024-01-15T14:55:47.400208Z",
     "shell.execute_reply.started": "2024-01-15T14:55:47.393178Z"
    }
   },
   "outputs": [],
   "source": [
    "load_config(config_fullpath)"
   ]
  },
  {
   "cell_type": "markdown",
   "id": "3df10208-da9d-4846-9505-2582e6582cdc",
   "metadata": {},
   "source": [
    "### Config Telescope Throughtput"
   ]
  },
  {
   "cell_type": "code",
   "execution_count": 16,
   "id": "5206b957-c80e-4cf5-b1f7-9d61a544b46c",
   "metadata": {
    "execution": {
     "iopub.execute_input": "2024-01-15T14:55:47.401144Z",
     "iopub.status.busy": "2024-01-15T14:55:47.401027Z",
     "iopub.status.idle": "2024-01-15T14:55:47.403465Z",
     "shell.execute_reply": "2024-01-15T14:55:47.403118Z",
     "shell.execute_reply.started": "2024-01-15T14:55:47.401133Z"
    }
   },
   "outputs": [],
   "source": [
    "throughput_fullpath = os.path.join(spectractor.__path__[0],parameters.THROUGHPUT_DIR)\n",
    "throughput_fullfilename = os.path.join(throughput_fullpath,throughput_filename)"
   ]
  },
  {
   "cell_type": "code",
   "execution_count": 17,
   "id": "ce4b52ab-83ea-4c22-92c4-e8d78eee5782",
   "metadata": {
    "execution": {
     "iopub.execute_input": "2024-01-15T14:55:47.404064Z",
     "iopub.status.busy": "2024-01-15T14:55:47.403942Z",
     "iopub.status.idle": "2024-01-15T14:55:47.409038Z",
     "shell.execute_reply": "2024-01-15T14:55:47.408659Z",
     "shell.execute_reply.started": "2024-01-15T14:55:47.404052Z"
    }
   },
   "outputs": [],
   "source": [
    "tel_lambdas, tel_thr, tel_errthr = load_transmission(throughput_fullfilename) "
   ]
  },
  {
   "cell_type": "code",
   "execution_count": 18,
   "id": "9b9eb933-ee6d-4128-9589-0c8ac342a27d",
   "metadata": {
    "execution": {
     "iopub.execute_input": "2024-01-15T14:55:47.409608Z",
     "iopub.status.busy": "2024-01-15T14:55:47.409482Z",
     "iopub.status.idle": "2024-01-15T14:55:47.412451Z",
     "shell.execute_reply": "2024-01-15T14:55:47.412094Z",
     "shell.execute_reply.started": "2024-01-15T14:55:47.409596Z"
    }
   },
   "outputs": [
    {
     "name": "stdout",
     "output_type": "stream",
     "text": [
      "/home/d/dagoret/repos/repos_w_2023_44/Spectractor/lib/python/spectractor/simulation/AuxTelThroughput/\n",
      "multispectra_holo4_003_HD142331_20230802_AuxTel_doGainsPTC_v3.0.3_throughput.txt\n"
     ]
    }
   ],
   "source": [
    "parameters.THROUGHPUT_DIR = throughput_fullpath \n",
    "parameters.OBS_FULL_INSTRUMENT_TRANSMISSON = throughput_filename\n",
    "print(parameters.THROUGHPUT_DIR )\n",
    "print(parameters.OBS_FULL_INSTRUMENT_TRANSMISSON)"
   ]
  },
  {
   "cell_type": "code",
   "execution_count": 19,
   "id": "8a4abdb4-62d7-4fd9-8087-24c94a98a414",
   "metadata": {
    "execution": {
     "iopub.execute_input": "2024-01-15T14:55:47.413091Z",
     "iopub.status.busy": "2024-01-15T14:55:47.412971Z",
     "iopub.status.idle": "2024-01-15T14:55:47.443065Z",
     "shell.execute_reply": "2024-01-15T14:55:47.442636Z",
     "shell.execute_reply.started": "2024-01-15T14:55:47.413080Z"
    }
   },
   "outputs": [],
   "source": [
    "%matplotlib inline\n",
    "tel = TelescopeTransmission()\n",
    "tel.plot_transmission()"
   ]
  },
  {
   "cell_type": "code",
   "execution_count": 20,
   "id": "9cd0e3cf-dfa5-4e15-acca-b311ecfc74af",
   "metadata": {
    "execution": {
     "iopub.execute_input": "2024-01-15T14:55:47.443673Z",
     "iopub.status.busy": "2024-01-15T14:55:47.443547Z",
     "iopub.status.idle": "2024-01-15T14:55:47.524427Z",
     "shell.execute_reply": "2024-01-15T14:55:47.524080Z",
     "shell.execute_reply.started": "2024-01-15T14:55:47.443662Z"
    }
   },
   "outputs": [
    {
     "data": {
      "text/plain": [
       "[<matplotlib.lines.Line2D at 0x7f964d95abd0>]"
      ]
     },
     "execution_count": 20,
     "metadata": {},
     "output_type": "execute_result"
    },
    {
     "data": {
      "image/png": "[encoded data removed]",
      "text/plain": [
       "<Figure size 600x300 with 1 Axes>"
      ]
     },
     "metadata": {},
     "output_type": "display_data"
    }
   ],
   "source": [
    "%matplotlib inline\n",
    "fig = plt.figure(figsize=(6,3))\n",
    "ax = fig.add_subplot()\n",
    "ax.plot(tel_lambdas,tel.transmission(tel_lambdas))"
   ]
  },
  {
   "cell_type": "markdown",
   "id": "b94d0de3-0438-4d90-a782-a6ddc43e043a",
   "metadata": {},
   "source": [
    "### Config disperser"
   ]
  },
  {
   "cell_type": "code",
   "execution_count": 21,
   "id": "7b244e82-6738-4817-87d0-6429a3e87ffb",
   "metadata": {
    "execution": {
     "iopub.execute_input": "2024-01-15T14:55:47.525038Z",
     "iopub.status.busy": "2024-01-15T14:55:47.524915Z",
     "iopub.status.idle": "2024-01-15T14:55:47.532577Z",
     "shell.execute_reply": "2024-01-15T14:55:47.532226Z",
     "shell.execute_reply.started": "2024-01-15T14:55:47.525027Z"
    }
   },
   "outputs": [],
   "source": [
    "disp = dispersers.Hologram(\"holo4_003\")"
   ]
  },
  {
   "cell_type": "markdown",
   "id": "cb7edb87-9c6c-4dbb-98ed-7b8724dad8d9",
   "metadata": {},
   "source": [
    "## Load config filename for Auxtel"
   ]
  },
  {
   "cell_type": "code",
   "execution_count": 22,
   "id": "196be3c7-f923-4c07-a85f-7772caf842d3",
   "metadata": {
    "execution": {
     "iopub.execute_input": "2024-01-15T14:55:47.533198Z",
     "iopub.status.busy": "2024-01-15T14:55:47.533075Z",
     "iopub.status.idle": "2024-01-15T14:55:47.536869Z",
     "shell.execute_reply": "2024-01-15T14:55:47.536527Z",
     "shell.execute_reply.started": "2024-01-15T14:55:47.533187Z"
    }
   },
   "outputs": [],
   "source": [
    "load_config(config_fullpath)"
   ]
  },
  {
   "cell_type": "code",
   "execution_count": 23,
   "id": "a22c35da-d480-48ea-ab7c-48eff9f12423",
   "metadata": {
    "execution": {
     "iopub.execute_input": "2024-01-15T14:55:47.537590Z",
     "iopub.status.busy": "2024-01-15T14:55:47.537463Z",
     "iopub.status.idle": "2024-01-15T14:55:47.703147Z",
     "shell.execute_reply": "2024-01-15T14:55:47.702800Z",
     "shell.execute_reply.started": "2024-01-15T14:55:47.537579Z"
    }
   },
   "outputs": [
    {
     "data": {
      "image/png": "[encoded data removed]",
      "text/plain": [
       "<Figure size 800x800 with 1 Axes>"
      ]
     },
     "metadata": {},
     "output_type": "display_data"
    }
   ],
   "source": [
    "disp.plot_transmission()"
   ]
  },
  {
   "cell_type": "code",
   "execution_count": 24,
   "id": "4c18b50f-b5b0-4d0b-86d2-e46ce561ebc6",
   "metadata": {
    "execution": {
     "iopub.execute_input": "2024-01-15T14:55:47.703790Z",
     "iopub.status.busy": "2024-01-15T14:55:47.703666Z",
     "iopub.status.idle": "2024-01-15T14:55:47.771587Z",
     "shell.execute_reply": "2024-01-15T14:55:47.771204Z",
     "shell.execute_reply.started": "2024-01-15T14:55:47.703778Z"
    }
   },
   "outputs": [
    {
     "data": {
      "text/plain": [
       "[<matplotlib.lines.Line2D at 0x7f964d8c8a10>]"
      ]
     },
     "execution_count": 24,
     "metadata": {},
     "output_type": "execute_result"
    },
    {
     "data": {
      "image/png": "[encoded data removed]",
      "text/plain": [
       "<Figure size 400x300 with 1 Axes>"
      ]
     },
     "metadata": {},
     "output_type": "display_data"
    }
   ],
   "source": [
    "fig = plt.figure(figsize=(4,3))\n",
    "ax = fig.add_subplot()\n",
    "ax.plot(tel_lambdas,disp.transmission(tel_lambdas))"
   ]
  },
  {
   "cell_type": "markdown",
   "id": "27531e09-1499-4049-870f-cbd3a2063d51",
   "metadata": {},
   "source": [
    "## Check the presence of the spectra\n",
    "\n",
    "### select the date of observation in 2023"
   ]
  },
  {
   "cell_type": "code",
   "execution_count": 25,
   "id": "aa2e772a-94a2-4f98-a4df-8353298f15d4",
   "metadata": {
    "execution": {
     "iopub.execute_input": "2024-01-15T14:55:47.772161Z",
     "iopub.status.busy": "2024-01-15T14:55:47.772042Z",
     "iopub.status.idle": "2024-01-15T14:55:47.775254Z",
     "shell.execute_reply": "2024-01-15T14:55:47.774867Z",
     "shell.execute_reply.started": "2024-01-15T14:55:47.772150Z"
    }
   },
   "outputs": [],
   "source": [
    "ALL_DATEOBS = np.array([20230117, 20230118, 20230119, 20230131, 20230201, 20230202,\n",
    "       20230214, 20230215, 20230216, 20230228, 20230301, 20230302,\n",
    "       20230314, 20230315, 20230316, 20230509, 20230510, 20230511,\n",
    "       20230523, 20230524, 20230525, 20230718, 20230720, 20230801,\n",
    "       20230802, 20230815, 20230817, 20230829, 20230912, 20230913,\n",
    "       20230914, 20230926, 20230927, 20230928, 20231010, 20231107,\n",
    "       20231108, 20231113, 20231114, 20231115, 20231116, 20231120,\n",
    "       20231127, 20231128, 20231129, 20231130, 20231204, 20231205,\n",
    "       20231206, 20231207, 20231211, 20231212, 20231214, 20231215,\n",
    "       20231219, 20231220])\n",
    "\n",
    "file_out_allfittedparams = \"out_allfittedparams.csv\""
   ]
  },
  {
   "cell_type": "markdown",
   "id": "571a3e0d-4de6-4dd4-9d8b-f203af58f2a9",
   "metadata": {},
   "source": [
    "- Split in 4 parts because too many files open"
   ]
  },
  {
   "cell_type": "code",
   "execution_count": 26,
   "id": "58b7cb23-5e0c-4f1d-9ca7-5b71deac7da9",
   "metadata": {
    "execution": {
     "iopub.execute_input": "2024-01-15T14:55:47.775832Z",
     "iopub.status.busy": "2024-01-15T14:55:47.775712Z",
     "iopub.status.idle": "2024-01-15T14:55:47.779843Z",
     "shell.execute_reply": "2024-01-15T14:55:47.779522Z",
     "shell.execute_reply.started": "2024-01-15T14:55:47.775820Z"
    }
   },
   "outputs": [],
   "source": [
    "#ALL_DATEOBS = np.array([20230117, 20230118, 20230119, 20230131, 20230201, 20230202,\n",
    "#       20230214, 20230215, 20230216, 20230228, 20230301, 20230302,\n",
    "#       20230314, 20230315, 20230316]) \n",
    "#file_out_allfittedparams = \"out_allfittedparams_1_4.csv\"\n",
    "                        \n",
    "#ALL_DATEOBS = np.array([20230509, 20230510, 20230511,\n",
    "#       20230523, 20230524, 20230525, 20230718, 20230720, 20230801,\n",
    "#       20230802, 20230815, 20230817, 20230829]) \n",
    "#file_out_allfittedparams = \"out_allfittedparams_2_4.csv\"                        \n",
    "                        \n",
    "#ALL_DATEOBS = np.array([20230912, 20230913,\n",
    "#       20230914, 20230926, 20230927, 20230928, 20231010, 20231107,\n",
    "#       20231108, 20231113, 20231114, 20231115, 20231116]) \n",
    "#file_out_allfittedparams = \"out_allfittedparams_3_4.csv\"\n",
    "\n",
    "\n",
    "ALL_DATEOBS = np.array([20231120,\n",
    "       20231127, 20231128, 20231129, 20231130, 20231204, 20231205,\n",
    "       20231206, 20231207, 20231211, 20231212, 20231214, 20231215,\n",
    "       20231219, 20231220])\n",
    "file_out_allfittedparams = \"out_allfittedparams_4_4.csv\""
   ]
  },
  {
   "cell_type": "code",
   "execution_count": 27,
   "id": "d7de003d-ae70-4c4b-8aea-d4bdc1785537",
   "metadata": {
    "execution": {
     "iopub.execute_input": "2024-01-15T14:55:47.780366Z",
     "iopub.status.busy": "2024-01-15T14:55:47.780252Z",
     "iopub.status.idle": "2024-01-15T14:55:47.793365Z",
     "shell.execute_reply": "2024-01-15T14:55:47.793037Z",
     "shell.execute_reply.started": "2024-01-15T14:55:47.780355Z"
    }
   },
   "outputs": [
    {
     "data": {
      "text/plain": [
       "15"
      ]
     },
     "execution_count": 27,
     "metadata": {},
     "output_type": "execute_result"
    }
   ],
   "source": [
    "len(ALL_DATEOBS)"
   ]
  },
  {
   "cell_type": "markdown",
   "id": "c8c173f7-fb14-4b19-bd8c-070f563aa1e2",
   "metadata": {},
   "source": [
    "## Access to spectra using the butler"
   ]
  },
  {
   "cell_type": "code",
   "execution_count": 28,
   "id": "46d36542-654d-4779-90f8-50c5424fc5c7",
   "metadata": {
    "execution": {
     "iopub.execute_input": "2024-01-15T14:55:47.793945Z",
     "iopub.status.busy": "2024-01-15T14:55:47.793827Z",
     "iopub.status.idle": "2024-01-15T14:55:48.143708Z",
     "shell.execute_reply": "2024-01-15T14:55:48.143307Z",
     "shell.execute_reply.started": "2024-01-15T14:55:47.793934Z"
    }
   },
   "outputs": [
    {
     "name": "stdout",
     "output_type": "stream",
     "text": [
      ">>> 20231120 :  Number of records :  46\n",
      ">>> 20231127 :  Number of records :  36\n",
      ">>> 20231128 :  Number of records :  33\n",
      ">>> 20231129 :  Number of records :  32\n",
      ">>> 20231130 :  Number of records :  30\n",
      ">>> 20231204 :  Number of records :  41\n",
      ">>> 20231205 :  Number of records :  26\n",
      ">>> 20231206 :  Number of records :  19\n",
      ">>> 20231207 :  Number of records :  20\n",
      ">>> 20231211 :  Number of records :  36\n",
      ">>> 20231212 :  Number of records :  21\n",
      ">>> 20231214 :  Number of records :  40\n",
      ">>> 20231215 :  Number of records :  19\n",
      ">>> 20231219 :  Number of records :  21\n",
      ">>> 20231220 :  Number of records :  34\n"
     ]
    }
   ],
   "source": [
    "all_records = []\n",
    "for DATEOBS in ALL_DATEOBS:\n",
    "    where = f\"instrument='LATISS' and visit.day_obs={DATEOBS}\" \n",
    "    records = list(butler.registry.queryDimensionRecords('visit', datasets='spectractorSpectrum', where=where,  collections=my_collection))\n",
    "    all_records.append(records)\n",
    "    print(f\">>> {DATEOBS} :  Number of records : \",len(records))\n",
    "    "
   ]
  },
  {
   "cell_type": "code",
   "execution_count": 29,
   "id": "52014521-f686-4245-8ea1-0252d15f018a",
   "metadata": {
    "execution": {
     "iopub.execute_input": "2024-01-15T14:55:48.144322Z",
     "iopub.status.busy": "2024-01-15T14:55:48.144199Z",
     "iopub.status.idle": "2024-01-15T14:55:48.146864Z",
     "shell.execute_reply": "2024-01-15T14:55:48.146525Z",
     "shell.execute_reply.started": "2024-01-15T14:55:48.144310Z"
    }
   },
   "outputs": [
    {
     "data": {
      "text/plain": [
       "15"
      ]
     },
     "execution_count": 29,
     "metadata": {},
     "output_type": "execute_result"
    }
   ],
   "source": [
    "len(all_records)"
   ]
  },
  {
   "cell_type": "markdown",
   "id": "1e235494-0fd1-4e20-b89f-99e01fe95125",
   "metadata": {},
   "source": [
    "## Get params, times, headers and Spectra"
   ]
  },
  {
   "cell_type": "code",
   "execution_count": 30,
   "id": "c5d748d7-32d4-4338-82e4-cf5c4e250fb6",
   "metadata": {
    "execution": {
     "iopub.execute_input": "2024-01-15T14:55:48.147448Z",
     "iopub.status.busy": "2024-01-15T14:55:48.147334Z",
     "iopub.status.idle": "2024-01-15T14:58:42.511452Z",
     "shell.execute_reply": "2024-01-15T14:58:42.510988Z",
     "shell.execute_reply.started": "2024-01-15T14:55:48.147438Z"
    }
   },
   "outputs": [
    {
     "name": "stdout",
     "output_type": "stream",
     "text": [
      "0 20231120\n",
      "************ getObsAtmo imported ************* \n",
      "/home/d/dagoret/.local/lib/python3.11/site-packages/getObsAtmo\n",
      ">>>> _getPackageDir /home/d/dagoret/.local/lib/python3.11/site-packages/getObsAtmo\n",
      ">>>> getObsSiteDataFrame      altitude   pressure\n",
      "LSST    2.663  731.50433\n",
      "CTIO    2.207   774.6052\n",
      "OHP      0.65  937.22595\n",
      "PDM    2.8905  710.90637\n",
      "OMK     4.205  600.17224\n",
      "OSL       0.0     1013.0\n"
     ]
    },
    {
     "data": {
      "text/html": [
       "<pre style=\"margin: 0.1em;\n",
       "padding-left: 0.25em;\n",
       "border-left-style: solid;\n",
       "font-family: var(--jp-code-font-family);\n",
       "font-size: var(--jp-code-font-size);\n",
       "line-height: var(--jp-code-line-height);\n",
       "\"><span style=\"color: var(--jp-warn-color2)\">Spectrum</span> <span style=\"color: var(--jp-warn-color0)\">WARNING</span>: \n",
       "\tFailed to set spectrum attribute humidity using header OUTHUM</pre>"
      ],
      "text/plain": [
       "<IPython.core.display.HTML object>"
      ]
     },
     "metadata": {},
     "output_type": "display_data"
    },
    {
     "name": "stderr",
     "output_type": "stream",
     "text": [
      "2024-01-15 14:55:54  Spectrum   load_spectrum_latest WARNING \n",
      "\tFailed to set spectrum attribute humidity using header OUTHUM\n"
     ]
    },
    {
     "data": {
      "text/html": [
       "<pre style=\"margin: 0.1em;\n",
       "padding-left: 0.25em;\n",
       "border-left-style: solid;\n",
       "font-family: var(--jp-code-font-family);\n",
       "font-size: var(--jp-code-font-size);\n",
       "line-height: var(--jp-code-line-height);\n",
       "\"><span style=\"color: var(--jp-warn-color2)\">Spectrum</span> <span style=\"color: var(--jp-warn-color0)\">WARNING</span>: \n",
       "\tFailed to set spectrum attribute humidity using header OUTHUM</pre>"
      ],
      "text/plain": [
       "<IPython.core.display.HTML object>"
      ]
     },
     "metadata": {},
     "output_type": "display_data"
    },
    {
     "name": "stderr",
     "output_type": "stream",
     "text": [
      "2024-01-15 14:55:54  Spectrum   load_spectrum_latest WARNING \n",
      "\tFailed to set spectrum attribute humidity using header OUTHUM\n"
     ]
    },
    {
     "data": {
      "text/html": [
       "<pre style=\"margin: 0.1em;\n",
       "padding-left: 0.25em;\n",
       "border-left-style: solid;\n",
       "font-family: var(--jp-code-font-family);\n",
       "font-size: var(--jp-code-font-size);\n",
       "line-height: var(--jp-code-line-height);\n",
       "\"><span style=\"color: var(--jp-warn-color2)\">Spectrum</span> <span style=\"color: var(--jp-warn-color0)\">WARNING</span>: \n",
       "\tFailed to set spectrum attribute humidity using header OUTHUM</pre>"
      ],
      "text/plain": [
       "<IPython.core.display.HTML object>"
      ]
     },
     "metadata": {},
     "output_type": "display_data"
    },
    {
     "name": "stderr",
     "output_type": "stream",
     "text": [
      "2024-01-15 14:55:55  Spectrum   load_spectrum_latest WARNING \n",
      "\tFailed to set spectrum attribute humidity using header OUTHUM\n"
     ]
    },
    {
     "data": {
      "text/html": [
       "<pre style=\"margin: 0.1em;\n",
       "padding-left: 0.25em;\n",
       "border-left-style: solid;\n",
       "font-family: var(--jp-code-font-family);\n",
       "font-size: var(--jp-code-font-size);\n",
       "line-height: var(--jp-code-line-height);\n",
       "\"><span style=\"color: var(--jp-warn-color2)\">Spectrum</span> <span style=\"color: var(--jp-warn-color0)\">WARNING</span>: \n",
       "\tFailed to set spectrum attribute humidity using header OUTHUM</pre>"
      ],
      "text/plain": [
       "<IPython.core.display.HTML object>"
      ]
     },
     "metadata": {},
     "output_type": "display_data"
    },
    {
     "name": "stderr",
     "output_type": "stream",
     "text": [
      "2024-01-15 14:55:55  Spectrum   load_spectrum_latest WARNING \n",
      "\tFailed to set spectrum attribute humidity using header OUTHUM\n"
     ]
    },
    {
     "data": {
      "text/html": [
       "<pre style=\"margin: 0.1em;\n",
       "padding-left: 0.25em;\n",
       "border-left-style: solid;\n",
       "font-family: var(--jp-code-font-family);\n",
       "font-size: var(--jp-code-font-size);\n",
       "line-height: var(--jp-code-line-height);\n",
       "\"><span style=\"color: var(--jp-warn-color2)\">Spectrum</span> <span style=\"color: var(--jp-warn-color0)\">WARNING</span>: \n",
       "\tFailed to set spectrum attribute humidity using header OUTHUM</pre>"
      ],
      "text/plain": [
       "<IPython.core.display.HTML object>"
      ]
     },
     "metadata": {},
     "output_type": "display_data"
    },
    {
     "name": "stderr",
     "output_type": "stream",
     "text": [
      "2024-01-15 14:55:55  Spectrum   load_spectrum_latest WARNING \n",
      "\tFailed to set spectrum attribute humidity using header OUTHUM\n"
     ]
    },
    {
     "data": {
      "text/html": [
       "<pre style=\"margin: 0.1em;\n",
       "padding-left: 0.25em;\n",
       "border-left-style: solid;\n",
       "font-family: var(--jp-code-font-family);\n",
       "font-size: var(--jp-code-font-size);\n",
       "line-height: var(--jp-code-line-height);\n",
       "\"><span style=\"color: var(--jp-warn-color2)\">Spectrum</span> <span style=\"color: var(--jp-warn-color0)\">WARNING</span>: \n",
       "\tFailed to set spectrum attribute humidity using header OUTHUM</pre>"
      ],
      "text/plain": [
       "<IPython.core.display.HTML object>"
      ]
     },
     "metadata": {},
     "output_type": "display_data"
    },
    {
     "name": "stderr",
     "output_type": "stream",
     "text": [
      "2024-01-15 14:55:56  Spectrum   load_spectrum_latest WARNING \n",
      "\tFailed to set spectrum attribute humidity using header OUTHUM\n"
     ]
    },
    {
     "data": {
      "text/html": [
       "<pre style=\"margin: 0.1em;\n",
       "padding-left: 0.25em;\n",
       "border-left-style: solid;\n",
       "font-family: var(--jp-code-font-family);\n",
       "font-size: var(--jp-code-font-size);\n",
       "line-height: var(--jp-code-line-height);\n",
       "\"><span style=\"color: var(--jp-warn-color2)\">Spectrum</span> <span style=\"color: var(--jp-warn-color0)\">WARNING</span>: \n",
       "\tFailed to set spectrum attribute humidity using header OUTHUM</pre>"
      ],
      "text/plain": [
       "<IPython.core.display.HTML object>"
      ]
     },
     "metadata": {},
     "output_type": "display_data"
    },
    {
     "name": "stderr",
     "output_type": "stream",
     "text": [
      "2024-01-15 14:55:56  Spectrum   load_spectrum_latest WARNING \n",
      "\tFailed to set spectrum attribute humidity using header OUTHUM\n"
     ]
    },
    {
     "data": {
      "text/html": [
       "<pre style=\"margin: 0.1em;\n",
       "padding-left: 0.25em;\n",
       "border-left-style: solid;\n",
       "font-family: var(--jp-code-font-family);\n",
       "font-size: var(--jp-code-font-size);\n",
       "line-height: var(--jp-code-line-height);\n",
       "\"><span style=\"color: var(--jp-warn-color2)\">Spectrum</span> <span style=\"color: var(--jp-warn-color0)\">WARNING</span>: \n",
       "\tFailed to set spectrum attribute humidity using header OUTHUM</pre>"
      ],
      "text/plain": [
       "<IPython.core.display.HTML object>"
      ]
     },
     "metadata": {},
     "output_type": "display_data"
    },
    {
     "name": "stderr",
     "output_type": "stream",
     "text": [
      "2024-01-15 14:55:56  Spectrum   load_spectrum_latest WARNING \n",
      "\tFailed to set spectrum attribute humidity using header OUTHUM\n"
     ]
    },
    {
     "data": {
      "text/html": [
       "<pre style=\"margin: 0.1em;\n",
       "padding-left: 0.25em;\n",
       "border-left-style: solid;\n",
       "font-family: var(--jp-code-font-family);\n",
       "font-size: var(--jp-code-font-size);\n",
       "line-height: var(--jp-code-line-height);\n",
       "\"><span style=\"color: var(--jp-warn-color2)\">Spectrum</span> <span style=\"color: var(--jp-warn-color0)\">WARNING</span>: \n",
       "\tFailed to set spectrum attribute humidity using header OUTHUM</pre>"
      ],
      "text/plain": [
       "<IPython.core.display.HTML object>"
      ]
     },
     "metadata": {},
     "output_type": "display_data"
    },
    {
     "name": "stderr",
     "output_type": "stream",
     "text": [
      "2024-01-15 14:55:57  Spectrum   load_spectrum_latest WARNING \n",
      "\tFailed to set spectrum attribute humidity using header OUTHUM\n"
     ]
    },
    {
     "data": {
      "text/html": [
       "<pre style=\"margin: 0.1em;\n",
       "padding-left: 0.25em;\n",
       "border-left-style: solid;\n",
       "font-family: var(--jp-code-font-family);\n",
       "font-size: var(--jp-code-font-size);\n",
       "line-height: var(--jp-code-line-height);\n",
       "\"><span style=\"color: var(--jp-warn-color2)\">Spectrum</span> <span style=\"color: var(--jp-warn-color0)\">WARNING</span>: \n",
       "\tFailed to set spectrum attribute humidity using header OUTHUM</pre>"
      ],
      "text/plain": [
       "<IPython.core.display.HTML object>"
      ]
     },
     "metadata": {},
     "output_type": "display_data"
    },
    {
     "name": "stderr",
     "output_type": "stream",
     "text": [
      "2024-01-15 14:55:57  Spectrum   load_spectrum_latest WARNING \n",
      "\tFailed to set spectrum attribute humidity using header OUTHUM\n"
     ]
    },
    {
     "data": {
      "text/html": [
       "<pre style=\"margin: 0.1em;\n",
       "padding-left: 0.25em;\n",
       "border-left-style: solid;\n",
       "font-family: var(--jp-code-font-family);\n",
       "font-size: var(--jp-code-font-size);\n",
       "line-height: var(--jp-code-line-height);\n",
       "\"><span style=\"color: var(--jp-warn-color2)\">Spectrum</span> <span style=\"color: var(--jp-warn-color0)\">WARNING</span>: \n",
       "\tFailed to set spectrum attribute humidity using header OUTHUM</pre>"
      ],
      "text/plain": [
       "<IPython.core.display.HTML object>"
      ]
     },
     "metadata": {},
     "output_type": "display_data"
    },
    {
     "name": "stderr",
     "output_type": "stream",
     "text": [
      "2024-01-15 14:55:57  Spectrum   load_spectrum_latest WARNING \n",
      "\tFailed to set spectrum attribute humidity using header OUTHUM\n"
     ]
    },
    {
     "data": {
      "text/html": [
       "<pre style=\"margin: 0.1em;\n",
       "padding-left: 0.25em;\n",
       "border-left-style: solid;\n",
       "font-family: var(--jp-code-font-family);\n",
       "font-size: var(--jp-code-font-size);\n",
       "line-height: var(--jp-code-line-height);\n",
       "\"><span style=\"color: var(--jp-warn-color2)\">Spectrum</span> <span style=\"color: var(--jp-warn-color0)\">WARNING</span>: \n",
       "\tFailed to set spectrum attribute humidity using header OUTHUM</pre>"
      ],
      "text/plain": [
       "<IPython.core.display.HTML object>"
      ]
     },
     "metadata": {},
     "output_type": "display_data"
    },
    {
     "name": "stderr",
     "output_type": "stream",
     "text": [
      "2024-01-15 14:55:58  Spectrum   load_spectrum_latest WARNING \n",
      "\tFailed to set spectrum attribute humidity using header OUTHUM\n"
     ]
    },
    {
     "data": {
      "text/html": [
       "<pre style=\"margin: 0.1em;\n",
       "padding-left: 0.25em;\n",
       "border-left-style: solid;\n",
       "font-family: var(--jp-code-font-family);\n",
       "font-size: var(--jp-code-font-size);\n",
       "line-height: var(--jp-code-line-height);\n",
       "\"><span style=\"color: var(--jp-warn-color2)\">Spectrum</span> <span style=\"color: var(--jp-warn-color0)\">WARNING</span>: \n",
       "\tFailed to set spectrum attribute humidity using header OUTHUM</pre>"
      ],
      "text/plain": [
       "<IPython.core.display.HTML object>"
      ]
     },
     "metadata": {},
     "output_type": "display_data"
    },
    {
     "name": "stderr",
     "output_type": "stream",
     "text": [
      "2024-01-15 14:55:58  Spectrum   load_spectrum_latest WARNING \n",
      "\tFailed to set spectrum attribute humidity using header OUTHUM\n"
     ]
    },
    {
     "data": {
      "text/html": [
       "<pre style=\"margin: 0.1em;\n",
       "padding-left: 0.25em;\n",
       "border-left-style: solid;\n",
       "font-family: var(--jp-code-font-family);\n",
       "font-size: var(--jp-code-font-size);\n",
       "line-height: var(--jp-code-line-height);\n",
       "\"><span style=\"color: var(--jp-warn-color2)\">Spectrum</span> <span style=\"color: var(--jp-warn-color0)\">WARNING</span>: \n",
       "\tFailed to set spectrum attribute humidity using header OUTHUM</pre>"
      ],
      "text/plain": [
       "<IPython.core.display.HTML object>"
      ]
     },
     "metadata": {},
     "output_type": "display_data"
    },
    {
     "name": "stderr",
     "output_type": "stream",
     "text": [
      "2024-01-15 14:55:59  Spectrum   load_spectrum_latest WARNING \n",
      "\tFailed to set spectrum attribute humidity using header OUTHUM\n"
     ]
    },
    {
     "data": {
      "text/html": [
       "<pre style=\"margin: 0.1em;\n",
       "padding-left: 0.25em;\n",
       "border-left-style: solid;\n",
       "font-family: var(--jp-code-font-family);\n",
       "font-size: var(--jp-code-font-size);\n",
       "line-height: var(--jp-code-line-height);\n",
       "\"><span style=\"color: var(--jp-warn-color2)\">Spectrum</span> <span style=\"color: var(--jp-warn-color0)\">WARNING</span>: \n",
       "\tFailed to set spectrum attribute humidity using header OUTHUM</pre>"
      ],
      "text/plain": [
       "<IPython.core.display.HTML object>"
      ]
     },
     "metadata": {},
     "output_type": "display_data"
    },
    {
     "name": "stderr",
     "output_type": "stream",
     "text": [
      "2024-01-15 14:55:59  Spectrum   load_spectrum_latest WARNING \n",
      "\tFailed to set spectrum attribute humidity using header OUTHUM\n"
     ]
    },
    {
     "data": {
      "text/html": [
       "<pre style=\"margin: 0.1em;\n",
       "padding-left: 0.25em;\n",
       "border-left-style: solid;\n",
       "font-family: var(--jp-code-font-family);\n",
       "font-size: var(--jp-code-font-size);\n",
       "line-height: var(--jp-code-line-height);\n",
       "\"><span style=\"color: var(--jp-warn-color2)\">Spectrum</span> <span style=\"color: var(--jp-warn-color0)\">WARNING</span>: \n",
       "\tFailed to set spectrum attribute humidity using header OUTHUM</pre>"
      ],
      "text/plain": [
       "<IPython.core.display.HTML object>"
      ]
     },
     "metadata": {},
     "output_type": "display_data"
    },
    {
     "name": "stderr",
     "output_type": "stream",
     "text": [
      "2024-01-15 14:55:59  Spectrum   load_spectrum_latest WARNING \n",
      "\tFailed to set spectrum attribute humidity using header OUTHUM\n"
     ]
    },
    {
     "data": {
      "text/html": [
       "<pre style=\"margin: 0.1em;\n",
       "padding-left: 0.25em;\n",
       "border-left-style: solid;\n",
       "font-family: var(--jp-code-font-family);\n",
       "font-size: var(--jp-code-font-size);\n",
       "line-height: var(--jp-code-line-height);\n",
       "\"><span style=\"color: var(--jp-warn-color2)\">Spectrum</span> <span style=\"color: var(--jp-warn-color0)\">WARNING</span>: \n",
       "\tFailed to set spectrum attribute humidity using header OUTHUM</pre>"
      ],
      "text/plain": [
       "<IPython.core.display.HTML object>"
      ]
     },
     "metadata": {},
     "output_type": "display_data"
    },
    {
     "name": "stderr",
     "output_type": "stream",
     "text": [
      "2024-01-15 14:56:00  Spectrum   load_spectrum_latest WARNING \n",
      "\tFailed to set spectrum attribute humidity using header OUTHUM\n"
     ]
    },
    {
     "data": {
      "text/html": [
       "<pre style=\"margin: 0.1em;\n",
       "padding-left: 0.25em;\n",
       "border-left-style: solid;\n",
       "font-family: var(--jp-code-font-family);\n",
       "font-size: var(--jp-code-font-size);\n",
       "line-height: var(--jp-code-line-height);\n",
       "\"><span style=\"color: var(--jp-warn-color2)\">Spectrum</span> <span style=\"color: var(--jp-warn-color0)\">WARNING</span>: \n",
       "\tFailed to set spectrum attribute humidity using header OUTHUM</pre>"
      ],
      "text/plain": [
       "<IPython.core.display.HTML object>"
      ]
     },
     "metadata": {},
     "output_type": "display_data"
    },
    {
     "name": "stderr",
     "output_type": "stream",
     "text": [
      "2024-01-15 14:56:00  Spectrum   load_spectrum_latest WARNING \n",
      "\tFailed to set spectrum attribute humidity using header OUTHUM\n"
     ]
    },
    {
     "data": {
      "text/html": [
       "<pre style=\"margin: 0.1em;\n",
       "padding-left: 0.25em;\n",
       "border-left-style: solid;\n",
       "font-family: var(--jp-code-font-family);\n",
       "font-size: var(--jp-code-font-size);\n",
       "line-height: var(--jp-code-line-height);\n",
       "\"><span style=\"color: var(--jp-warn-color2)\">Spectrum</span> <span style=\"color: var(--jp-warn-color0)\">WARNING</span>: \n",
       "\tFailed to set spectrum attribute humidity using header OUTHUM</pre>"
      ],
      "text/plain": [
       "<IPython.core.display.HTML object>"
      ]
     },
     "metadata": {},
     "output_type": "display_data"
    },
    {
     "name": "stderr",
     "output_type": "stream",
     "text": [
      "2024-01-15 14:56:00  Spectrum   load_spectrum_latest WARNING \n",
      "\tFailed to set spectrum attribute humidity using header OUTHUM\n"
     ]
    },
    {
     "data": {
      "text/html": [
       "<pre style=\"margin: 0.1em;\n",
       "padding-left: 0.25em;\n",
       "border-left-style: solid;\n",
       "font-family: var(--jp-code-font-family);\n",
       "font-size: var(--jp-code-font-size);\n",
       "line-height: var(--jp-code-line-height);\n",
       "\"><span style=\"color: var(--jp-warn-color2)\">Spectrum</span> <span style=\"color: var(--jp-warn-color0)\">WARNING</span>: \n",
       "\tFailed to set spectrum attribute humidity using header OUTHUM</pre>"
      ],
      "text/plain": [
       "<IPython.core.display.HTML object>"
      ]
     },
     "metadata": {},
     "output_type": "display_data"
    },
    {
     "name": "stderr",
     "output_type": "stream",
     "text": [
      "2024-01-15 14:56:01  Spectrum   load_spectrum_latest WARNING \n",
      "\tFailed to set spectrum attribute humidity using header OUTHUM\n"
     ]
    },
    {
     "data": {
      "text/html": [
       "<pre style=\"margin: 0.1em;\n",
       "padding-left: 0.25em;\n",
       "border-left-style: solid;\n",
       "font-family: var(--jp-code-font-family);\n",
       "font-size: var(--jp-code-font-size);\n",
       "line-height: var(--jp-code-line-height);\n",
       "\"><span style=\"color: var(--jp-warn-color2)\">Spectrum</span> <span style=\"color: var(--jp-warn-color0)\">WARNING</span>: \n",
       "\tFailed to set spectrum attribute humidity using header OUTHUM</pre>"
      ],
      "text/plain": [
       "<IPython.core.display.HTML object>"
      ]
     },
     "metadata": {},
     "output_type": "display_data"
    },
    {
     "name": "stderr",
     "output_type": "stream",
     "text": [
      "2024-01-15 14:56:01  Spectrum   load_spectrum_latest WARNING \n",
      "\tFailed to set spectrum attribute humidity using header OUTHUM\n"
     ]
    },
    {
     "data": {
      "text/html": [
       "<pre style=\"margin: 0.1em;\n",
       "padding-left: 0.25em;\n",
       "border-left-style: solid;\n",
       "font-family: var(--jp-code-font-family);\n",
       "font-size: var(--jp-code-font-size);\n",
       "line-height: var(--jp-code-line-height);\n",
       "\"><span style=\"color: var(--jp-warn-color2)\">Spectrum</span> <span style=\"color: var(--jp-warn-color0)\">WARNING</span>: \n",
       "\tFailed to set spectrum attribute humidity using header OUTHUM</pre>"
      ],
      "text/plain": [
       "<IPython.core.display.HTML object>"
      ]
     },
     "metadata": {},
     "output_type": "display_data"
    },
    {
     "name": "stderr",
     "output_type": "stream",
     "text": [
      "2024-01-15 14:56:01  Spectrum   load_spectrum_latest WARNING \n",
      "\tFailed to set spectrum attribute humidity using header OUTHUM\n"
     ]
    },
    {
     "data": {
      "text/html": [
       "<pre style=\"margin: 0.1em;\n",
       "padding-left: 0.25em;\n",
       "border-left-style: solid;\n",
       "font-family: var(--jp-code-font-family);\n",
       "font-size: var(--jp-code-font-size);\n",
       "line-height: var(--jp-code-line-height);\n",
       "\"><span style=\"color: var(--jp-warn-color2)\">Spectrum</span> <span style=\"color: var(--jp-warn-color0)\">WARNING</span>: \n",
       "\tFailed to set spectrum attribute humidity using header OUTHUM</pre>"
      ],
      "text/plain": [
       "<IPython.core.display.HTML object>"
      ]
     },
     "metadata": {},
     "output_type": "display_data"
    },
    {
     "name": "stderr",
     "output_type": "stream",
     "text": [
      "2024-01-15 14:56:02  Spectrum   load_spectrum_latest WARNING \n",
      "\tFailed to set spectrum attribute humidity using header OUTHUM\n"
     ]
    },
    {
     "data": {
      "text/html": [
       "<pre style=\"margin: 0.1em;\n",
       "padding-left: 0.25em;\n",
       "border-left-style: solid;\n",
       "font-family: var(--jp-code-font-family);\n",
       "font-size: var(--jp-code-font-size);\n",
       "line-height: var(--jp-code-line-height);\n",
       "\"><span style=\"color: var(--jp-warn-color2)\">Spectrum</span> <span style=\"color: var(--jp-warn-color0)\">WARNING</span>: \n",
       "\tFailed to set spectrum attribute humidity using header OUTHUM</pre>"
      ],
      "text/plain": [
       "<IPython.core.display.HTML object>"
      ]
     },
     "metadata": {},
     "output_type": "display_data"
    },
    {
     "name": "stderr",
     "output_type": "stream",
     "text": [
      "2024-01-15 14:56:02  Spectrum   load_spectrum_latest WARNING \n",
      "\tFailed to set spectrum attribute humidity using header OUTHUM\n"
     ]
    },
    {
     "data": {
      "text/html": [
       "<pre style=\"margin: 0.1em;\n",
       "padding-left: 0.25em;\n",
       "border-left-style: solid;\n",
       "font-family: var(--jp-code-font-family);\n",
       "font-size: var(--jp-code-font-size);\n",
       "line-height: var(--jp-code-line-height);\n",
       "\"><span style=\"color: var(--jp-warn-color2)\">Spectrum</span> <span style=\"color: var(--jp-warn-color0)\">WARNING</span>: \n",
       "\tFailed to set spectrum attribute humidity using header OUTHUM</pre>"
      ],
      "text/plain": [
       "<IPython.core.display.HTML object>"
      ]
     },
     "metadata": {},
     "output_type": "display_data"
    },
    {
     "name": "stderr",
     "output_type": "stream",
     "text": [
      "2024-01-15 14:56:02  Spectrum   load_spectrum_latest WARNING \n",
      "\tFailed to set spectrum attribute humidity using header OUTHUM\n"
     ]
    },
    {
     "data": {
      "text/html": [
       "<pre style=\"margin: 0.1em;\n",
       "padding-left: 0.25em;\n",
       "border-left-style: solid;\n",
       "font-family: var(--jp-code-font-family);\n",
       "font-size: var(--jp-code-font-size);\n",
       "line-height: var(--jp-code-line-height);\n",
       "\"><span style=\"color: var(--jp-warn-color2)\">Spectrum</span> <span style=\"color: var(--jp-warn-color0)\">WARNING</span>: \n",
       "\tFailed to set spectrum attribute humidity using header OUTHUM</pre>"
      ],
      "text/plain": [
       "<IPython.core.display.HTML object>"
      ]
     },
     "metadata": {},
     "output_type": "display_data"
    },
    {
     "name": "stderr",
     "output_type": "stream",
     "text": [
      "2024-01-15 14:56:03  Spectrum   load_spectrum_latest WARNING \n",
      "\tFailed to set spectrum attribute humidity using header OUTHUM\n"
     ]
    },
    {
     "data": {
      "text/html": [
       "<pre style=\"margin: 0.1em;\n",
       "padding-left: 0.25em;\n",
       "border-left-style: solid;\n",
       "font-family: var(--jp-code-font-family);\n",
       "font-size: var(--jp-code-font-size);\n",
       "line-height: var(--jp-code-line-height);\n",
       "\"><span style=\"color: var(--jp-warn-color2)\">Spectrum</span> <span style=\"color: var(--jp-warn-color0)\">WARNING</span>: \n",
       "\tFailed to set spectrum attribute humidity using header OUTHUM</pre>"
      ],
      "text/plain": [
       "<IPython.core.display.HTML object>"
      ]
     },
     "metadata": {},
     "output_type": "display_data"
    },
    {
     "name": "stderr",
     "output_type": "stream",
     "text": [
      "2024-01-15 14:56:03  Spectrum   load_spectrum_latest WARNING \n",
      "\tFailed to set spectrum attribute humidity using header OUTHUM\n"
     ]
    },
    {
     "data": {
      "text/html": [
       "<pre style=\"margin: 0.1em;\n",
       "padding-left: 0.25em;\n",
       "border-left-style: solid;\n",
       "font-family: var(--jp-code-font-family);\n",
       "font-size: var(--jp-code-font-size);\n",
       "line-height: var(--jp-code-line-height);\n",
       "\"><span style=\"color: var(--jp-warn-color2)\">Spectrum</span> <span style=\"color: var(--jp-warn-color0)\">WARNING</span>: \n",
       "\tFailed to set spectrum attribute humidity using header OUTHUM</pre>"
      ],
      "text/plain": [
       "<IPython.core.display.HTML object>"
      ]
     },
     "metadata": {},
     "output_type": "display_data"
    },
    {
     "name": "stderr",
     "output_type": "stream",
     "text": [
      "2024-01-15 14:56:04  Spectrum   load_spectrum_latest WARNING \n",
      "\tFailed to set spectrum attribute humidity using header OUTHUM\n"
     ]
    },
    {
     "data": {
      "text/html": [
       "<pre style=\"margin: 0.1em;\n",
       "padding-left: 0.25em;\n",
       "border-left-style: solid;\n",
       "font-family: var(--jp-code-font-family);\n",
       "font-size: var(--jp-code-font-size);\n",
       "line-height: var(--jp-code-line-height);\n",
       "\"><span style=\"color: var(--jp-warn-color2)\">Spectrum</span> <span style=\"color: var(--jp-warn-color0)\">WARNING</span>: \n",
       "\tFailed to set spectrum attribute humidity using header OUTHUM</pre>"
      ],
      "text/plain": [
       "<IPython.core.display.HTML object>"
      ]
     },
     "metadata": {},
     "output_type": "display_data"
    },
    {
     "name": "stderr",
     "output_type": "stream",
     "text": [
      "2024-01-15 14:56:04  Spectrum   load_spectrum_latest WARNING \n",
      "\tFailed to set spectrum attribute humidity using header OUTHUM\n"
     ]
    },
    {
     "data": {
      "text/html": [
       "<pre style=\"margin: 0.1em;\n",
       "padding-left: 0.25em;\n",
       "border-left-style: solid;\n",
       "font-family: var(--jp-code-font-family);\n",
       "font-size: var(--jp-code-font-size);\n",
       "line-height: var(--jp-code-line-height);\n",
       "\"><span style=\"color: var(--jp-warn-color2)\">Spectrum</span> <span style=\"color: var(--jp-warn-color0)\">WARNING</span>: \n",
       "\tFailed to set spectrum attribute humidity using header OUTHUM</pre>"
      ],
      "text/plain": [
       "<IPython.core.display.HTML object>"
      ]
     },
     "metadata": {},
     "output_type": "display_data"
    },
    {
     "name": "stderr",
     "output_type": "stream",
     "text": [
      "2024-01-15 14:56:04  Spectrum   load_spectrum_latest WARNING \n",
      "\tFailed to set spectrum attribute humidity using header OUTHUM\n"
     ]
    },
    {
     "data": {
      "text/html": [
       "<pre style=\"margin: 0.1em;\n",
       "padding-left: 0.25em;\n",
       "border-left-style: solid;\n",
       "font-family: var(--jp-code-font-family);\n",
       "font-size: var(--jp-code-font-size);\n",
       "line-height: var(--jp-code-line-height);\n",
       "\"><span style=\"color: var(--jp-warn-color2)\">Spectrum</span> <span style=\"color: var(--jp-warn-color0)\">WARNING</span>: \n",
       "\tFailed to set spectrum attribute humidity using header OUTHUM</pre>"
      ],
      "text/plain": [
       "<IPython.core.display.HTML object>"
      ]
     },
     "metadata": {},
     "output_type": "display_data"
    },
    {
     "name": "stderr",
     "output_type": "stream",
     "text": [
      "2024-01-15 14:56:05  Spectrum   load_spectrum_latest WARNING \n",
      "\tFailed to set spectrum attribute humidity using header OUTHUM\n"
     ]
    },
    {
     "data": {
      "text/html": [
       "<pre style=\"margin: 0.1em;\n",
       "padding-left: 0.25em;\n",
       "border-left-style: solid;\n",
       "font-family: var(--jp-code-font-family);\n",
       "font-size: var(--jp-code-font-size);\n",
       "line-height: var(--jp-code-line-height);\n",
       "\"><span style=\"color: var(--jp-warn-color2)\">Spectrum</span> <span style=\"color: var(--jp-warn-color0)\">WARNING</span>: \n",
       "\tFailed to set spectrum attribute humidity using header OUTHUM</pre>"
      ],
      "text/plain": [
       "<IPython.core.display.HTML object>"
      ]
     },
     "metadata": {},
     "output_type": "display_data"
    },
    {
     "name": "stderr",
     "output_type": "stream",
     "text": [
      "2024-01-15 14:56:05  Spectrum   load_spectrum_latest WARNING \n",
      "\tFailed to set spectrum attribute humidity using header OUTHUM\n"
     ]
    },
    {
     "data": {
      "text/html": [
       "<pre style=\"margin: 0.1em;\n",
       "padding-left: 0.25em;\n",
       "border-left-style: solid;\n",
       "font-family: var(--jp-code-font-family);\n",
       "font-size: var(--jp-code-font-size);\n",
       "line-height: var(--jp-code-line-height);\n",
       "\"><span style=\"color: var(--jp-warn-color2)\">Spectrum</span> <span style=\"color: var(--jp-warn-color0)\">WARNING</span>: \n",
       "\tFailed to set spectrum attribute humidity using header OUTHUM</pre>"
      ],
      "text/plain": [
       "<IPython.core.display.HTML object>"
      ]
     },
     "metadata": {},
     "output_type": "display_data"
    },
    {
     "name": "stderr",
     "output_type": "stream",
     "text": [
      "2024-01-15 14:56:05  Spectrum   load_spectrum_latest WARNING \n",
      "\tFailed to set spectrum attribute humidity using header OUTHUM\n"
     ]
    },
    {
     "data": {
      "text/html": [
       "<pre style=\"margin: 0.1em;\n",
       "padding-left: 0.25em;\n",
       "border-left-style: solid;\n",
       "font-family: var(--jp-code-font-family);\n",
       "font-size: var(--jp-code-font-size);\n",
       "line-height: var(--jp-code-line-height);\n",
       "\"><span style=\"color: var(--jp-warn-color2)\">Spectrum</span> <span style=\"color: var(--jp-warn-color0)\">WARNING</span>: \n",
       "\tFailed to set spectrum attribute humidity using header OUTHUM</pre>"
      ],
      "text/plain": [
       "<IPython.core.display.HTML object>"
      ]
     },
     "metadata": {},
     "output_type": "display_data"
    },
    {
     "name": "stderr",
     "output_type": "stream",
     "text": [
      "2024-01-15 14:56:06  Spectrum   load_spectrum_latest WARNING \n",
      "\tFailed to set spectrum attribute humidity using header OUTHUM\n"
     ]
    },
    {
     "data": {
      "text/html": [
       "<pre style=\"margin: 0.1em;\n",
       "padding-left: 0.25em;\n",
       "border-left-style: solid;\n",
       "font-family: var(--jp-code-font-family);\n",
       "font-size: var(--jp-code-font-size);\n",
       "line-height: var(--jp-code-line-height);\n",
       "\"><span style=\"color: var(--jp-warn-color2)\">Spectrum</span> <span style=\"color: var(--jp-warn-color0)\">WARNING</span>: \n",
       "\tFailed to set spectrum attribute humidity using header OUTHUM</pre>"
      ],
      "text/plain": [
       "<IPython.core.display.HTML object>"
      ]
     },
     "metadata": {},
     "output_type": "display_data"
    },
    {
     "name": "stderr",
     "output_type": "stream",
     "text": [
      "2024-01-15 14:56:06  Spectrum   load_spectrum_latest WARNING \n",
      "\tFailed to set spectrum attribute humidity using header OUTHUM\n"
     ]
    },
    {
     "data": {
      "text/html": [
       "<pre style=\"margin: 0.1em;\n",
       "padding-left: 0.25em;\n",
       "border-left-style: solid;\n",
       "font-family: var(--jp-code-font-family);\n",
       "font-size: var(--jp-code-font-size);\n",
       "line-height: var(--jp-code-line-height);\n",
       "\"><span style=\"color: var(--jp-warn-color2)\">Spectrum</span> <span style=\"color: var(--jp-warn-color0)\">WARNING</span>: \n",
       "\tFailed to set spectrum attribute humidity using header OUTHUM</pre>"
      ],
      "text/plain": [
       "<IPython.core.display.HTML object>"
      ]
     },
     "metadata": {},
     "output_type": "display_data"
    },
    {
     "name": "stderr",
     "output_type": "stream",
     "text": [
      "2024-01-15 14:56:06  Spectrum   load_spectrum_latest WARNING \n",
      "\tFailed to set spectrum attribute humidity using header OUTHUM\n"
     ]
    },
    {
     "data": {
      "text/html": [
       "<pre style=\"margin: 0.1em;\n",
       "padding-left: 0.25em;\n",
       "border-left-style: solid;\n",
       "font-family: var(--jp-code-font-family);\n",
       "font-size: var(--jp-code-font-size);\n",
       "line-height: var(--jp-code-line-height);\n",
       "\"><span style=\"color: var(--jp-warn-color2)\">Spectrum</span> <span style=\"color: var(--jp-warn-color0)\">WARNING</span>: \n",
       "\tFailed to set spectrum attribute humidity using header OUTHUM</pre>"
      ],
      "text/plain": [
       "<IPython.core.display.HTML object>"
      ]
     },
     "metadata": {},
     "output_type": "display_data"
    },
    {
     "name": "stderr",
     "output_type": "stream",
     "text": [
      "2024-01-15 14:56:07  Spectrum   load_spectrum_latest WARNING \n",
      "\tFailed to set spectrum attribute humidity using header OUTHUM\n"
     ]
    },
    {
     "data": {
      "text/html": [
       "<pre style=\"margin: 0.1em;\n",
       "padding-left: 0.25em;\n",
       "border-left-style: solid;\n",
       "font-family: var(--jp-code-font-family);\n",
       "font-size: var(--jp-code-font-size);\n",
       "line-height: var(--jp-code-line-height);\n",
       "\"><span style=\"color: var(--jp-warn-color2)\">Spectrum</span> <span style=\"color: var(--jp-warn-color0)\">WARNING</span>: \n",
       "\tFailed to set spectrum attribute humidity using header OUTHUM</pre>"
      ],
      "text/plain": [
       "<IPython.core.display.HTML object>"
      ]
     },
     "metadata": {},
     "output_type": "display_data"
    },
    {
     "name": "stderr",
     "output_type": "stream",
     "text": [
      "2024-01-15 14:56:07  Spectrum   load_spectrum_latest WARNING \n",
      "\tFailed to set spectrum attribute humidity using header OUTHUM\n"
     ]
    },
    {
     "data": {
      "text/html": [
       "<pre style=\"margin: 0.1em;\n",
       "padding-left: 0.25em;\n",
       "border-left-style: solid;\n",
       "font-family: var(--jp-code-font-family);\n",
       "font-size: var(--jp-code-font-size);\n",
       "line-height: var(--jp-code-line-height);\n",
       "\"><span style=\"color: var(--jp-warn-color2)\">Spectrum</span> <span style=\"color: var(--jp-warn-color0)\">WARNING</span>: \n",
       "\tFailed to set spectrum attribute humidity using header OUTHUM</pre>"
      ],
      "text/plain": [
       "<IPython.core.display.HTML object>"
      ]
     },
     "metadata": {},
     "output_type": "display_data"
    },
    {
     "name": "stderr",
     "output_type": "stream",
     "text": [
      "2024-01-15 14:56:07  Spectrum   load_spectrum_latest WARNING \n",
      "\tFailed to set spectrum attribute humidity using header OUTHUM\n"
     ]
    },
    {
     "data": {
      "text/html": [
       "<pre style=\"margin: 0.1em;\n",
       "padding-left: 0.25em;\n",
       "border-left-style: solid;\n",
       "font-family: var(--jp-code-font-family);\n",
       "font-size: var(--jp-code-font-size);\n",
       "line-height: var(--jp-code-line-height);\n",
       "\"><span style=\"color: var(--jp-warn-color2)\">Spectrum</span> <span style=\"color: var(--jp-warn-color0)\">WARNING</span>: \n",
       "\tFailed to set spectrum attribute humidity using header OUTHUM</pre>"
      ],
      "text/plain": [
       "<IPython.core.display.HTML object>"
      ]
     },
     "metadata": {},
     "output_type": "display_data"
    },
    {
     "name": "stderr",
     "output_type": "stream",
     "text": [
      "2024-01-15 14:56:08  Spectrum   load_spectrum_latest WARNING \n",
      "\tFailed to set spectrum attribute humidity using header OUTHUM\n"
     ]
    },
    {
     "data": {
      "text/html": [
       "<pre style=\"margin: 0.1em;\n",
       "padding-left: 0.25em;\n",
       "border-left-style: solid;\n",
       "font-family: var(--jp-code-font-family);\n",
       "font-size: var(--jp-code-font-size);\n",
       "line-height: var(--jp-code-line-height);\n",
       "\"><span style=\"color: var(--jp-warn-color2)\">Spectrum</span> <span style=\"color: var(--jp-warn-color0)\">WARNING</span>: \n",
       "\tFailed to set spectrum attribute humidity using header OUTHUM</pre>"
      ],
      "text/plain": [
       "<IPython.core.display.HTML object>"
      ]
     },
     "metadata": {},
     "output_type": "display_data"
    },
    {
     "name": "stderr",
     "output_type": "stream",
     "text": [
      "2024-01-15 14:56:08  Spectrum   load_spectrum_latest WARNING \n",
      "\tFailed to set spectrum attribute humidity using header OUTHUM\n"
     ]
    },
    {
     "data": {
      "text/html": [
       "<pre style=\"margin: 0.1em;\n",
       "padding-left: 0.25em;\n",
       "border-left-style: solid;\n",
       "font-family: var(--jp-code-font-family);\n",
       "font-size: var(--jp-code-font-size);\n",
       "line-height: var(--jp-code-line-height);\n",
       "\"><span style=\"color: var(--jp-warn-color2)\">Spectrum</span> <span style=\"color: var(--jp-warn-color0)\">WARNING</span>: \n",
       "\tFailed to set spectrum attribute humidity using header OUTHUM</pre>"
      ],
      "text/plain": [
       "<IPython.core.display.HTML object>"
      ]
     },
     "metadata": {},
     "output_type": "display_data"
    },
    {
     "name": "stderr",
     "output_type": "stream",
     "text": [
      "2024-01-15 14:56:08  Spectrum   load_spectrum_latest WARNING \n",
      "\tFailed to set spectrum attribute humidity using header OUTHUM\n"
     ]
    },
    {
     "data": {
      "text/html": [
       "<pre style=\"margin: 0.1em;\n",
       "padding-left: 0.25em;\n",
       "border-left-style: solid;\n",
       "font-family: var(--jp-code-font-family);\n",
       "font-size: var(--jp-code-font-size);\n",
       "line-height: var(--jp-code-line-height);\n",
       "\"><span style=\"color: var(--jp-warn-color2)\">Spectrum</span> <span style=\"color: var(--jp-warn-color0)\">WARNING</span>: \n",
       "\tFailed to set spectrum attribute humidity using header OUTHUM</pre>"
      ],
      "text/plain": [
       "<IPython.core.display.HTML object>"
      ]
     },
     "metadata": {},
     "output_type": "display_data"
    },
    {
     "name": "stderr",
     "output_type": "stream",
     "text": [
      "2024-01-15 14:56:09  Spectrum   load_spectrum_latest WARNING \n",
      "\tFailed to set spectrum attribute humidity using header OUTHUM\n"
     ]
    },
    {
     "data": {
      "text/html": [
       "<pre style=\"margin: 0.1em;\n",
       "padding-left: 0.25em;\n",
       "border-left-style: solid;\n",
       "font-family: var(--jp-code-font-family);\n",
       "font-size: var(--jp-code-font-size);\n",
       "line-height: var(--jp-code-line-height);\n",
       "\"><span style=\"color: var(--jp-warn-color2)\">Spectrum</span> <span style=\"color: var(--jp-warn-color0)\">WARNING</span>: \n",
       "\tFailed to set spectrum attribute humidity using header OUTHUM</pre>"
      ],
      "text/plain": [
       "<IPython.core.display.HTML object>"
      ]
     },
     "metadata": {},
     "output_type": "display_data"
    },
    {
     "name": "stderr",
     "output_type": "stream",
     "text": [
      "2024-01-15 14:56:09  Spectrum   load_spectrum_latest WARNING \n",
      "\tFailed to set spectrum attribute humidity using header OUTHUM\n"
     ]
    },
    {
     "data": {
      "text/html": [
       "<pre style=\"margin: 0.1em;\n",
       "padding-left: 0.25em;\n",
       "border-left-style: solid;\n",
       "font-family: var(--jp-code-font-family);\n",
       "font-size: var(--jp-code-font-size);\n",
       "line-height: var(--jp-code-line-height);\n",
       "\"><span style=\"color: var(--jp-warn-color2)\">Spectrum</span> <span style=\"color: var(--jp-warn-color0)\">WARNING</span>: \n",
       "\tFailed to set spectrum attribute humidity using header OUTHUM</pre>"
      ],
      "text/plain": [
       "<IPython.core.display.HTML object>"
      ]
     },
     "metadata": {},
     "output_type": "display_data"
    },
    {
     "name": "stderr",
     "output_type": "stream",
     "text": [
      "2024-01-15 14:56:10  Spectrum   load_spectrum_latest WARNING \n",
      "\tFailed to set spectrum attribute humidity using header OUTHUM\n"
     ]
    },
    {
     "data": {
      "text/html": [
       "<pre style=\"margin: 0.1em;\n",
       "padding-left: 0.25em;\n",
       "border-left-style: solid;\n",
       "font-family: var(--jp-code-font-family);\n",
       "font-size: var(--jp-code-font-size);\n",
       "line-height: var(--jp-code-line-height);\n",
       "\"><span style=\"color: var(--jp-warn-color2)\">Spectrum</span> <span style=\"color: var(--jp-warn-color0)\">WARNING</span>: \n",
       "\tFailed to set spectrum attribute humidity using header OUTHUM</pre>"
      ],
      "text/plain": [
       "<IPython.core.display.HTML object>"
      ]
     },
     "metadata": {},
     "output_type": "display_data"
    },
    {
     "name": "stderr",
     "output_type": "stream",
     "text": [
      "2024-01-15 14:56:10  Spectrum   load_spectrum_latest WARNING \n",
      "\tFailed to set spectrum attribute humidity using header OUTHUM\n"
     ]
    },
    {
     "name": "stdout",
     "output_type": "stream",
     "text": [
      "1 20231127\n"
     ]
    },
    {
     "data": {
      "text/html": [
       "<pre style=\"margin: 0.1em;\n",
       "padding-left: 0.25em;\n",
       "border-left-style: solid;\n",
       "font-family: var(--jp-code-font-family);\n",
       "font-size: var(--jp-code-font-size);\n",
       "line-height: var(--jp-code-line-height);\n",
       "\"><span style=\"color: var(--jp-warn-color2)\">Spectrum</span> <span style=\"color: var(--jp-warn-color0)\">WARNING</span>: \n",
       "\tFailed to set spectrum attribute humidity using header OUTHUM</pre>"
      ],
      "text/plain": [
       "<IPython.core.display.HTML object>"
      ]
     },
     "metadata": {},
     "output_type": "display_data"
    },
    {
     "name": "stderr",
     "output_type": "stream",
     "text": [
      "2024-01-15 14:56:11  Spectrum   load_spectrum_latest WARNING \n",
      "\tFailed to set spectrum attribute humidity using header OUTHUM\n"
     ]
    },
    {
     "data": {
      "text/html": [
       "<pre style=\"margin: 0.1em;\n",
       "padding-left: 0.25em;\n",
       "border-left-style: solid;\n",
       "font-family: var(--jp-code-font-family);\n",
       "font-size: var(--jp-code-font-size);\n",
       "line-height: var(--jp-code-line-height);\n",
       "\"><span style=\"color: var(--jp-warn-color2)\">Spectrum</span> <span style=\"color: var(--jp-warn-color0)\">WARNING</span>: \n",
       "\tFailed to set spectrum attribute humidity using header OUTHUM</pre>"
      ],
      "text/plain": [
       "<IPython.core.display.HTML object>"
      ]
     },
     "metadata": {},
     "output_type": "display_data"
    },
    {
     "name": "stderr",
     "output_type": "stream",
     "text": [
      "2024-01-15 14:56:11  Spectrum   load_spectrum_latest WARNING \n",
      "\tFailed to set spectrum attribute humidity using header OUTHUM\n"
     ]
    },
    {
     "data": {
      "text/html": [
       "<pre style=\"margin: 0.1em;\n",
       "padding-left: 0.25em;\n",
       "border-left-style: solid;\n",
       "font-family: var(--jp-code-font-family);\n",
       "font-size: var(--jp-code-font-size);\n",
       "line-height: var(--jp-code-line-height);\n",
       "\"><span style=\"color: var(--jp-warn-color2)\">Spectrum</span> <span style=\"color: var(--jp-warn-color0)\">WARNING</span>: \n",
       "\tFailed to set spectrum attribute humidity using header OUTHUM</pre>"
      ],
      "text/plain": [
       "<IPython.core.display.HTML object>"
      ]
     },
     "metadata": {},
     "output_type": "display_data"
    },
    {
     "name": "stderr",
     "output_type": "stream",
     "text": [
      "2024-01-15 14:56:11  Spectrum   load_spectrum_latest WARNING \n",
      "\tFailed to set spectrum attribute humidity using header OUTHUM\n"
     ]
    },
    {
     "data": {
      "text/html": [
       "<pre style=\"margin: 0.1em;\n",
       "padding-left: 0.25em;\n",
       "border-left-style: solid;\n",
       "font-family: var(--jp-code-font-family);\n",
       "font-size: var(--jp-code-font-size);\n",
       "line-height: var(--jp-code-line-height);\n",
       "\"><span style=\"color: var(--jp-warn-color2)\">Spectrum</span> <span style=\"color: var(--jp-warn-color0)\">WARNING</span>: \n",
       "\tFailed to set spectrum attribute humidity using header OUTHUM</pre>"
      ],
      "text/plain": [
       "<IPython.core.display.HTML object>"
      ]
     },
     "metadata": {},
     "output_type": "display_data"
    },
    {
     "name": "stderr",
     "output_type": "stream",
     "text": [
      "2024-01-15 14:56:12  Spectrum   load_spectrum_latest WARNING \n",
      "\tFailed to set spectrum attribute humidity using header OUTHUM\n"
     ]
    },
    {
     "data": {
      "text/html": [
       "<pre style=\"margin: 0.1em;\n",
       "padding-left: 0.25em;\n",
       "border-left-style: solid;\n",
       "font-family: var(--jp-code-font-family);\n",
       "font-size: var(--jp-code-font-size);\n",
       "line-height: var(--jp-code-line-height);\n",
       "\"><span style=\"color: var(--jp-warn-color2)\">Spectrum</span> <span style=\"color: var(--jp-warn-color0)\">WARNING</span>: \n",
       "\tFailed to set spectrum attribute humidity using header OUTHUM</pre>"
      ],
      "text/plain": [
       "<IPython.core.display.HTML object>"
      ]
     },
     "metadata": {},
     "output_type": "display_data"
    },
    {
     "name": "stderr",
     "output_type": "stream",
     "text": [
      "2024-01-15 14:56:12  Spectrum   load_spectrum_latest WARNING \n",
      "\tFailed to set spectrum attribute humidity using header OUTHUM\n"
     ]
    },
    {
     "data": {
      "text/html": [
       "<pre style=\"margin: 0.1em;\n",
       "padding-left: 0.25em;\n",
       "border-left-style: solid;\n",
       "font-family: var(--jp-code-font-family);\n",
       "font-size: var(--jp-code-font-size);\n",
       "line-height: var(--jp-code-line-height);\n",
       "\"><span style=\"color: var(--jp-warn-color2)\">Spectrum</span> <span style=\"color: var(--jp-warn-color0)\">WARNING</span>: \n",
       "\tFailed to set spectrum attribute humidity using header OUTHUM</pre>"
      ],
      "text/plain": [
       "<IPython.core.display.HTML object>"
      ]
     },
     "metadata": {},
     "output_type": "display_data"
    },
    {
     "name": "stderr",
     "output_type": "stream",
     "text": [
      "2024-01-15 14:56:12  Spectrum   load_spectrum_latest WARNING \n",
      "\tFailed to set spectrum attribute humidity using header OUTHUM\n"
     ]
    },
    {
     "data": {
      "text/html": [
       "<pre style=\"margin: 0.1em;\n",
       "padding-left: 0.25em;\n",
       "border-left-style: solid;\n",
       "font-family: var(--jp-code-font-family);\n",
       "font-size: var(--jp-code-font-size);\n",
       "line-height: var(--jp-code-line-height);\n",
       "\"><span style=\"color: var(--jp-warn-color2)\">Spectrum</span> <span style=\"color: var(--jp-warn-color0)\">WARNING</span>: \n",
       "\tFailed to set spectrum attribute humidity using header OUTHUM</pre>"
      ],
      "text/plain": [
       "<IPython.core.display.HTML object>"
      ]
     },
     "metadata": {},
     "output_type": "display_data"
    },
    {
     "name": "stderr",
     "output_type": "stream",
     "text": [
      "2024-01-15 14:56:13  Spectrum   load_spectrum_latest WARNING \n",
      "\tFailed to set spectrum attribute humidity using header OUTHUM\n"
     ]
    },
    {
     "data": {
      "text/html": [
       "<pre style=\"margin: 0.1em;\n",
       "padding-left: 0.25em;\n",
       "border-left-style: solid;\n",
       "font-family: var(--jp-code-font-family);\n",
       "font-size: var(--jp-code-font-size);\n",
       "line-height: var(--jp-code-line-height);\n",
       "\"><span style=\"color: var(--jp-warn-color2)\">Spectrum</span> <span style=\"color: var(--jp-warn-color0)\">WARNING</span>: \n",
       "\tFailed to set spectrum attribute humidity using header OUTHUM</pre>"
      ],
      "text/plain": [
       "<IPython.core.display.HTML object>"
      ]
     },
     "metadata": {},
     "output_type": "display_data"
    },
    {
     "name": "stderr",
     "output_type": "stream",
     "text": [
      "2024-01-15 14:56:13  Spectrum   load_spectrum_latest WARNING \n",
      "\tFailed to set spectrum attribute humidity using header OUTHUM\n"
     ]
    },
    {
     "data": {
      "text/html": [
       "<pre style=\"margin: 0.1em;\n",
       "padding-left: 0.25em;\n",
       "border-left-style: solid;\n",
       "font-family: var(--jp-code-font-family);\n",
       "font-size: var(--jp-code-font-size);\n",
       "line-height: var(--jp-code-line-height);\n",
       "\"><span style=\"color: var(--jp-warn-color2)\">Spectrum</span> <span style=\"color: var(--jp-warn-color0)\">WARNING</span>: \n",
       "\tFailed to set spectrum attribute humidity using header OUTHUM</pre>"
      ],
      "text/plain": [
       "<IPython.core.display.HTML object>"
      ]
     },
     "metadata": {},
     "output_type": "display_data"
    },
    {
     "name": "stderr",
     "output_type": "stream",
     "text": [
      "2024-01-15 14:56:13  Spectrum   load_spectrum_latest WARNING \n",
      "\tFailed to set spectrum attribute humidity using header OUTHUM\n"
     ]
    },
    {
     "data": {
      "text/html": [
       "<pre style=\"margin: 0.1em;\n",
       "padding-left: 0.25em;\n",
       "border-left-style: solid;\n",
       "font-family: var(--jp-code-font-family);\n",
       "font-size: var(--jp-code-font-size);\n",
       "line-height: var(--jp-code-line-height);\n",
       "\"><span style=\"color: var(--jp-warn-color2)\">Spectrum</span> <span style=\"color: var(--jp-warn-color0)\">WARNING</span>: \n",
       "\tFailed to set spectrum attribute humidity using header OUTHUM</pre>"
      ],
      "text/plain": [
       "<IPython.core.display.HTML object>"
      ]
     },
     "metadata": {},
     "output_type": "display_data"
    },
    {
     "name": "stderr",
     "output_type": "stream",
     "text": [
      "2024-01-15 14:56:14  Spectrum   load_spectrum_latest WARNING \n",
      "\tFailed to set spectrum attribute humidity using header OUTHUM\n"
     ]
    },
    {
     "data": {
      "text/html": [
       "<pre style=\"margin: 0.1em;\n",
       "padding-left: 0.25em;\n",
       "border-left-style: solid;\n",
       "font-family: var(--jp-code-font-family);\n",
       "font-size: var(--jp-code-font-size);\n",
       "line-height: var(--jp-code-line-height);\n",
       "\"><span style=\"color: var(--jp-warn-color2)\">Spectrum</span> <span style=\"color: var(--jp-warn-color0)\">WARNING</span>: \n",
       "\tFailed to set spectrum attribute humidity using header OUTHUM</pre>"
      ],
      "text/plain": [
       "<IPython.core.display.HTML object>"
      ]
     },
     "metadata": {},
     "output_type": "display_data"
    },
    {
     "name": "stderr",
     "output_type": "stream",
     "text": [
      "2024-01-15 14:56:14  Spectrum   load_spectrum_latest WARNING \n",
      "\tFailed to set spectrum attribute humidity using header OUTHUM\n"
     ]
    },
    {
     "data": {
      "text/html": [
       "<pre style=\"margin: 0.1em;\n",
       "padding-left: 0.25em;\n",
       "border-left-style: solid;\n",
       "font-family: var(--jp-code-font-family);\n",
       "font-size: var(--jp-code-font-size);\n",
       "line-height: var(--jp-code-line-height);\n",
       "\"><span style=\"color: var(--jp-warn-color2)\">Spectrum</span> <span style=\"color: var(--jp-warn-color0)\">WARNING</span>: \n",
       "\tFailed to set spectrum attribute humidity using header OUTHUM</pre>"
      ],
      "text/plain": [
       "<IPython.core.display.HTML object>"
      ]
     },
     "metadata": {},
     "output_type": "display_data"
    },
    {
     "name": "stderr",
     "output_type": "stream",
     "text": [
      "2024-01-15 14:56:15  Spectrum   load_spectrum_latest WARNING \n",
      "\tFailed to set spectrum attribute humidity using header OUTHUM\n"
     ]
    },
    {
     "data": {
      "text/html": [
       "<pre style=\"margin: 0.1em;\n",
       "padding-left: 0.25em;\n",
       "border-left-style: solid;\n",
       "font-family: var(--jp-code-font-family);\n",
       "font-size: var(--jp-code-font-size);\n",
       "line-height: var(--jp-code-line-height);\n",
       "\"><span style=\"color: var(--jp-warn-color2)\">Spectrum</span> <span style=\"color: var(--jp-warn-color0)\">WARNING</span>: \n",
       "\tFailed to set spectrum attribute humidity using header OUTHUM</pre>"
      ],
      "text/plain": [
       "<IPython.core.display.HTML object>"
      ]
     },
     "metadata": {},
     "output_type": "display_data"
    },
    {
     "name": "stderr",
     "output_type": "stream",
     "text": [
      "2024-01-15 14:56:15  Spectrum   load_spectrum_latest WARNING \n",
      "\tFailed to set spectrum attribute humidity using header OUTHUM\n"
     ]
    },
    {
     "data": {
      "text/html": [
       "<pre style=\"margin: 0.1em;\n",
       "padding-left: 0.25em;\n",
       "border-left-style: solid;\n",
       "font-family: var(--jp-code-font-family);\n",
       "font-size: var(--jp-code-font-size);\n",
       "line-height: var(--jp-code-line-height);\n",
       "\"><span style=\"color: var(--jp-warn-color2)\">Spectrum</span> <span style=\"color: var(--jp-warn-color0)\">WARNING</span>: \n",
       "\tFailed to set spectrum attribute humidity using header OUTHUM</pre>"
      ],
      "text/plain": [
       "<IPython.core.display.HTML object>"
      ]
     },
     "metadata": {},
     "output_type": "display_data"
    },
    {
     "name": "stderr",
     "output_type": "stream",
     "text": [
      "2024-01-15 14:56:16  Spectrum   load_spectrum_latest WARNING \n",
      "\tFailed to set spectrum attribute humidity using header OUTHUM\n"
     ]
    },
    {
     "data": {
      "text/html": [
       "<pre style=\"margin: 0.1em;\n",
       "padding-left: 0.25em;\n",
       "border-left-style: solid;\n",
       "font-family: var(--jp-code-font-family);\n",
       "font-size: var(--jp-code-font-size);\n",
       "line-height: var(--jp-code-line-height);\n",
       "\"><span style=\"color: var(--jp-warn-color2)\">Spectrum</span> <span style=\"color: var(--jp-warn-color0)\">WARNING</span>: \n",
       "\tFailed to set spectrum attribute humidity using header OUTHUM</pre>"
      ],
      "text/plain": [
       "<IPython.core.display.HTML object>"
      ]
     },
     "metadata": {},
     "output_type": "display_data"
    },
    {
     "name": "stderr",
     "output_type": "stream",
     "text": [
      "2024-01-15 14:56:16  Spectrum   load_spectrum_latest WARNING \n",
      "\tFailed to set spectrum attribute humidity using header OUTHUM\n"
     ]
    },
    {
     "data": {
      "text/html": [
       "<pre style=\"margin: 0.1em;\n",
       "padding-left: 0.25em;\n",
       "border-left-style: solid;\n",
       "font-family: var(--jp-code-font-family);\n",
       "font-size: var(--jp-code-font-size);\n",
       "line-height: var(--jp-code-line-height);\n",
       "\"><span style=\"color: var(--jp-warn-color2)\">Spectrum</span> <span style=\"color: var(--jp-warn-color0)\">WARNING</span>: \n",
       "\tFailed to set spectrum attribute humidity using header OUTHUM</pre>"
      ],
      "text/plain": [
       "<IPython.core.display.HTML object>"
      ]
     },
     "metadata": {},
     "output_type": "display_data"
    },
    {
     "name": "stderr",
     "output_type": "stream",
     "text": [
      "2024-01-15 14:56:17  Spectrum   load_spectrum_latest WARNING \n",
      "\tFailed to set spectrum attribute humidity using header OUTHUM\n"
     ]
    },
    {
     "data": {
      "text/html": [
       "<pre style=\"margin: 0.1em;\n",
       "padding-left: 0.25em;\n",
       "border-left-style: solid;\n",
       "font-family: var(--jp-code-font-family);\n",
       "font-size: var(--jp-code-font-size);\n",
       "line-height: var(--jp-code-line-height);\n",
       "\"><span style=\"color: var(--jp-warn-color2)\">Spectrum</span> <span style=\"color: var(--jp-warn-color0)\">WARNING</span>: \n",
       "\tFailed to set spectrum attribute humidity using header OUTHUM</pre>"
      ],
      "text/plain": [
       "<IPython.core.display.HTML object>"
      ]
     },
     "metadata": {},
     "output_type": "display_data"
    },
    {
     "name": "stderr",
     "output_type": "stream",
     "text": [
      "2024-01-15 14:56:17  Spectrum   load_spectrum_latest WARNING \n",
      "\tFailed to set spectrum attribute humidity using header OUTHUM\n"
     ]
    },
    {
     "data": {
      "text/html": [
       "<pre style=\"margin: 0.1em;\n",
       "padding-left: 0.25em;\n",
       "border-left-style: solid;\n",
       "font-family: var(--jp-code-font-family);\n",
       "font-size: var(--jp-code-font-size);\n",
       "line-height: var(--jp-code-line-height);\n",
       "\"><span style=\"color: var(--jp-warn-color2)\">Spectrum</span> <span style=\"color: var(--jp-warn-color0)\">WARNING</span>: \n",
       "\tFailed to set spectrum attribute humidity using header OUTHUM</pre>"
      ],
      "text/plain": [
       "<IPython.core.display.HTML object>"
      ]
     },
     "metadata": {},
     "output_type": "display_data"
    },
    {
     "name": "stderr",
     "output_type": "stream",
     "text": [
      "2024-01-15 14:56:17  Spectrum   load_spectrum_latest WARNING \n",
      "\tFailed to set spectrum attribute humidity using header OUTHUM\n"
     ]
    },
    {
     "data": {
      "text/html": [
       "<pre style=\"margin: 0.1em;\n",
       "padding-left: 0.25em;\n",
       "border-left-style: solid;\n",
       "font-family: var(--jp-code-font-family);\n",
       "font-size: var(--jp-code-font-size);\n",
       "line-height: var(--jp-code-line-height);\n",
       "\"><span style=\"color: var(--jp-warn-color2)\">Spectrum</span> <span style=\"color: var(--jp-warn-color0)\">WARNING</span>: \n",
       "\tFailed to set spectrum attribute humidity using header OUTHUM</pre>"
      ],
      "text/plain": [
       "<IPython.core.display.HTML object>"
      ]
     },
     "metadata": {},
     "output_type": "display_data"
    },
    {
     "name": "stderr",
     "output_type": "stream",
     "text": [
      "2024-01-15 14:56:18  Spectrum   load_spectrum_latest WARNING \n",
      "\tFailed to set spectrum attribute humidity using header OUTHUM\n"
     ]
    },
    {
     "data": {
      "text/html": [
       "<pre style=\"margin: 0.1em;\n",
       "padding-left: 0.25em;\n",
       "border-left-style: solid;\n",
       "font-family: var(--jp-code-font-family);\n",
       "font-size: var(--jp-code-font-size);\n",
       "line-height: var(--jp-code-line-height);\n",
       "\"><span style=\"color: var(--jp-warn-color2)\">Spectrum</span> <span style=\"color: var(--jp-warn-color0)\">WARNING</span>: \n",
       "\tFailed to set spectrum attribute humidity using header OUTHUM</pre>"
      ],
      "text/plain": [
       "<IPython.core.display.HTML object>"
      ]
     },
     "metadata": {},
     "output_type": "display_data"
    },
    {
     "name": "stderr",
     "output_type": "stream",
     "text": [
      "2024-01-15 14:56:18  Spectrum   load_spectrum_latest WARNING \n",
      "\tFailed to set spectrum attribute humidity using header OUTHUM\n"
     ]
    },
    {
     "data": {
      "text/html": [
       "<pre style=\"margin: 0.1em;\n",
       "padding-left: 0.25em;\n",
       "border-left-style: solid;\n",
       "font-family: var(--jp-code-font-family);\n",
       "font-size: var(--jp-code-font-size);\n",
       "line-height: var(--jp-code-line-height);\n",
       "\"><span style=\"color: var(--jp-warn-color2)\">Spectrum</span> <span style=\"color: var(--jp-warn-color0)\">WARNING</span>: \n",
       "\tFailed to set spectrum attribute humidity using header OUTHUM</pre>"
      ],
      "text/plain": [
       "<IPython.core.display.HTML object>"
      ]
     },
     "metadata": {},
     "output_type": "display_data"
    },
    {
     "name": "stderr",
     "output_type": "stream",
     "text": [
      "2024-01-15 14:56:18  Spectrum   load_spectrum_latest WARNING \n",
      "\tFailed to set spectrum attribute humidity using header OUTHUM\n"
     ]
    },
    {
     "data": {
      "text/html": [
       "<pre style=\"margin: 0.1em;\n",
       "padding-left: 0.25em;\n",
       "border-left-style: solid;\n",
       "font-family: var(--jp-code-font-family);\n",
       "font-size: var(--jp-code-font-size);\n",
       "line-height: var(--jp-code-line-height);\n",
       "\"><span style=\"color: var(--jp-warn-color2)\">Spectrum</span> <span style=\"color: var(--jp-warn-color0)\">WARNING</span>: \n",
       "\tFailed to set spectrum attribute humidity using header OUTHUM</pre>"
      ],
      "text/plain": [
       "<IPython.core.display.HTML object>"
      ]
     },
     "metadata": {},
     "output_type": "display_data"
    },
    {
     "name": "stderr",
     "output_type": "stream",
     "text": [
      "2024-01-15 14:56:19  Spectrum   load_spectrum_latest WARNING \n",
      "\tFailed to set spectrum attribute humidity using header OUTHUM\n"
     ]
    },
    {
     "data": {
      "text/html": [
       "<pre style=\"margin: 0.1em;\n",
       "padding-left: 0.25em;\n",
       "border-left-style: solid;\n",
       "font-family: var(--jp-code-font-family);\n",
       "font-size: var(--jp-code-font-size);\n",
       "line-height: var(--jp-code-line-height);\n",
       "\"><span style=\"color: var(--jp-warn-color2)\">Spectrum</span> <span style=\"color: var(--jp-warn-color0)\">WARNING</span>: \n",
       "\tFailed to set spectrum attribute humidity using header OUTHUM</pre>"
      ],
      "text/plain": [
       "<IPython.core.display.HTML object>"
      ]
     },
     "metadata": {},
     "output_type": "display_data"
    },
    {
     "name": "stderr",
     "output_type": "stream",
     "text": [
      "2024-01-15 14:56:19  Spectrum   load_spectrum_latest WARNING \n",
      "\tFailed to set spectrum attribute humidity using header OUTHUM\n"
     ]
    },
    {
     "data": {
      "text/html": [
       "<pre style=\"margin: 0.1em;\n",
       "padding-left: 0.25em;\n",
       "border-left-style: solid;\n",
       "font-family: var(--jp-code-font-family);\n",
       "font-size: var(--jp-code-font-size);\n",
       "line-height: var(--jp-code-line-height);\n",
       "\"><span style=\"color: var(--jp-warn-color2)\">Spectrum</span> <span style=\"color: var(--jp-warn-color0)\">WARNING</span>: \n",
       "\tFailed to set spectrum attribute humidity using header OUTHUM</pre>"
      ],
      "text/plain": [
       "<IPython.core.display.HTML object>"
      ]
     },
     "metadata": {},
     "output_type": "display_data"
    },
    {
     "name": "stderr",
     "output_type": "stream",
     "text": [
      "2024-01-15 14:56:19  Spectrum   load_spectrum_latest WARNING \n",
      "\tFailed to set spectrum attribute humidity using header OUTHUM\n"
     ]
    },
    {
     "data": {
      "text/html": [
       "<pre style=\"margin: 0.1em;\n",
       "padding-left: 0.25em;\n",
       "border-left-style: solid;\n",
       "font-family: var(--jp-code-font-family);\n",
       "font-size: var(--jp-code-font-size);\n",
       "line-height: var(--jp-code-line-height);\n",
       "\"><span style=\"color: var(--jp-warn-color2)\">Spectrum</span> <span style=\"color: var(--jp-warn-color0)\">WARNING</span>: \n",
       "\tFailed to set spectrum attribute humidity using header OUTHUM</pre>"
      ],
      "text/plain": [
       "<IPython.core.display.HTML object>"
      ]
     },
     "metadata": {},
     "output_type": "display_data"
    },
    {
     "name": "stderr",
     "output_type": "stream",
     "text": [
      "2024-01-15 14:56:20  Spectrum   load_spectrum_latest WARNING \n",
      "\tFailed to set spectrum attribute humidity using header OUTHUM\n"
     ]
    },
    {
     "data": {
      "text/html": [
       "<pre style=\"margin: 0.1em;\n",
       "padding-left: 0.25em;\n",
       "border-left-style: solid;\n",
       "font-family: var(--jp-code-font-family);\n",
       "font-size: var(--jp-code-font-size);\n",
       "line-height: var(--jp-code-line-height);\n",
       "\"><span style=\"color: var(--jp-warn-color2)\">Spectrum</span> <span style=\"color: var(--jp-warn-color0)\">WARNING</span>: \n",
       "\tFailed to set spectrum attribute humidity using header OUTHUM</pre>"
      ],
      "text/plain": [
       "<IPython.core.display.HTML object>"
      ]
     },
     "metadata": {},
     "output_type": "display_data"
    },
    {
     "name": "stderr",
     "output_type": "stream",
     "text": [
      "2024-01-15 14:56:20  Spectrum   load_spectrum_latest WARNING \n",
      "\tFailed to set spectrum attribute humidity using header OUTHUM\n"
     ]
    },
    {
     "data": {
      "text/html": [
       "<pre style=\"margin: 0.1em;\n",
       "padding-left: 0.25em;\n",
       "border-left-style: solid;\n",
       "font-family: var(--jp-code-font-family);\n",
       "font-size: var(--jp-code-font-size);\n",
       "line-height: var(--jp-code-line-height);\n",
       "\"><span style=\"color: var(--jp-warn-color2)\">Spectrum</span> <span style=\"color: var(--jp-warn-color0)\">WARNING</span>: \n",
       "\tFailed to set spectrum attribute humidity using header OUTHUM</pre>"
      ],
      "text/plain": [
       "<IPython.core.display.HTML object>"
      ]
     },
     "metadata": {},
     "output_type": "display_data"
    },
    {
     "name": "stderr",
     "output_type": "stream",
     "text": [
      "2024-01-15 14:56:20  Spectrum   load_spectrum_latest WARNING \n",
      "\tFailed to set spectrum attribute humidity using header OUTHUM\n"
     ]
    },
    {
     "data": {
      "text/html": [
       "<pre style=\"margin: 0.1em;\n",
       "padding-left: 0.25em;\n",
       "border-left-style: solid;\n",
       "font-family: var(--jp-code-font-family);\n",
       "font-size: var(--jp-code-font-size);\n",
       "line-height: var(--jp-code-line-height);\n",
       "\"><span style=\"color: var(--jp-warn-color2)\">Spectrum</span> <span style=\"color: var(--jp-warn-color0)\">WARNING</span>: \n",
       "\tFailed to set spectrum attribute humidity using header OUTHUM</pre>"
      ],
      "text/plain": [
       "<IPython.core.display.HTML object>"
      ]
     },
     "metadata": {},
     "output_type": "display_data"
    },
    {
     "name": "stderr",
     "output_type": "stream",
     "text": [
      "2024-01-15 14:56:21  Spectrum   load_spectrum_latest WARNING \n",
      "\tFailed to set spectrum attribute humidity using header OUTHUM\n"
     ]
    },
    {
     "data": {
      "text/html": [
       "<pre style=\"margin: 0.1em;\n",
       "padding-left: 0.25em;\n",
       "border-left-style: solid;\n",
       "font-family: var(--jp-code-font-family);\n",
       "font-size: var(--jp-code-font-size);\n",
       "line-height: var(--jp-code-line-height);\n",
       "\"><span style=\"color: var(--jp-warn-color2)\">Spectrum</span> <span style=\"color: var(--jp-warn-color0)\">WARNING</span>: \n",
       "\tFailed to set spectrum attribute humidity using header OUTHUM</pre>"
      ],
      "text/plain": [
       "<IPython.core.display.HTML object>"
      ]
     },
     "metadata": {},
     "output_type": "display_data"
    },
    {
     "name": "stderr",
     "output_type": "stream",
     "text": [
      "2024-01-15 14:56:21  Spectrum   load_spectrum_latest WARNING \n",
      "\tFailed to set spectrum attribute humidity using header OUTHUM\n"
     ]
    },
    {
     "data": {
      "text/html": [
       "<pre style=\"margin: 0.1em;\n",
       "padding-left: 0.25em;\n",
       "border-left-style: solid;\n",
       "font-family: var(--jp-code-font-family);\n",
       "font-size: var(--jp-code-font-size);\n",
       "line-height: var(--jp-code-line-height);\n",
       "\"><span style=\"color: var(--jp-warn-color2)\">Spectrum</span> <span style=\"color: var(--jp-warn-color0)\">WARNING</span>: \n",
       "\tFailed to set spectrum attribute humidity using header OUTHUM</pre>"
      ],
      "text/plain": [
       "<IPython.core.display.HTML object>"
      ]
     },
     "metadata": {},
     "output_type": "display_data"
    },
    {
     "name": "stderr",
     "output_type": "stream",
     "text": [
      "2024-01-15 14:56:21  Spectrum   load_spectrum_latest WARNING \n",
      "\tFailed to set spectrum attribute humidity using header OUTHUM\n"
     ]
    },
    {
     "data": {
      "text/html": [
       "<pre style=\"margin: 0.1em;\n",
       "padding-left: 0.25em;\n",
       "border-left-style: solid;\n",
       "font-family: var(--jp-code-font-family);\n",
       "font-size: var(--jp-code-font-size);\n",
       "line-height: var(--jp-code-line-height);\n",
       "\"><span style=\"color: var(--jp-warn-color2)\">Spectrum</span> <span style=\"color: var(--jp-warn-color0)\">WARNING</span>: \n",
       "\tFailed to set spectrum attribute humidity using header OUTHUM</pre>"
      ],
      "text/plain": [
       "<IPython.core.display.HTML object>"
      ]
     },
     "metadata": {},
     "output_type": "display_data"
    },
    {
     "name": "stderr",
     "output_type": "stream",
     "text": [
      "2024-01-15 14:56:22  Spectrum   load_spectrum_latest WARNING \n",
      "\tFailed to set spectrum attribute humidity using header OUTHUM\n"
     ]
    },
    {
     "data": {
      "text/html": [
       "<pre style=\"margin: 0.1em;\n",
       "padding-left: 0.25em;\n",
       "border-left-style: solid;\n",
       "font-family: var(--jp-code-font-family);\n",
       "font-size: var(--jp-code-font-size);\n",
       "line-height: var(--jp-code-line-height);\n",
       "\"><span style=\"color: var(--jp-warn-color2)\">Spectrum</span> <span style=\"color: var(--jp-warn-color0)\">WARNING</span>: \n",
       "\tFailed to set spectrum attribute humidity using header OUTHUM</pre>"
      ],
      "text/plain": [
       "<IPython.core.display.HTML object>"
      ]
     },
     "metadata": {},
     "output_type": "display_data"
    },
    {
     "name": "stderr",
     "output_type": "stream",
     "text": [
      "2024-01-15 14:56:22  Spectrum   load_spectrum_latest WARNING \n",
      "\tFailed to set spectrum attribute humidity using header OUTHUM\n"
     ]
    },
    {
     "data": {
      "text/html": [
       "<pre style=\"margin: 0.1em;\n",
       "padding-left: 0.25em;\n",
       "border-left-style: solid;\n",
       "font-family: var(--jp-code-font-family);\n",
       "font-size: var(--jp-code-font-size);\n",
       "line-height: var(--jp-code-line-height);\n",
       "\"><span style=\"color: var(--jp-warn-color2)\">Spectrum</span> <span style=\"color: var(--jp-warn-color0)\">WARNING</span>: \n",
       "\tFailed to set spectrum attribute humidity using header OUTHUM</pre>"
      ],
      "text/plain": [
       "<IPython.core.display.HTML object>"
      ]
     },
     "metadata": {},
     "output_type": "display_data"
    },
    {
     "name": "stderr",
     "output_type": "stream",
     "text": [
      "2024-01-15 14:56:22  Spectrum   load_spectrum_latest WARNING \n",
      "\tFailed to set spectrum attribute humidity using header OUTHUM\n"
     ]
    },
    {
     "data": {
      "text/html": [
       "<pre style=\"margin: 0.1em;\n",
       "padding-left: 0.25em;\n",
       "border-left-style: solid;\n",
       "font-family: var(--jp-code-font-family);\n",
       "font-size: var(--jp-code-font-size);\n",
       "line-height: var(--jp-code-line-height);\n",
       "\"><span style=\"color: var(--jp-warn-color2)\">Spectrum</span> <span style=\"color: var(--jp-warn-color0)\">WARNING</span>: \n",
       "\tFailed to set spectrum attribute humidity using header OUTHUM</pre>"
      ],
      "text/plain": [
       "<IPython.core.display.HTML object>"
      ]
     },
     "metadata": {},
     "output_type": "display_data"
    },
    {
     "name": "stderr",
     "output_type": "stream",
     "text": [
      "2024-01-15 14:56:23  Spectrum   load_spectrum_latest WARNING \n",
      "\tFailed to set spectrum attribute humidity using header OUTHUM\n"
     ]
    },
    {
     "data": {
      "text/html": [
       "<pre style=\"margin: 0.1em;\n",
       "padding-left: 0.25em;\n",
       "border-left-style: solid;\n",
       "font-family: var(--jp-code-font-family);\n",
       "font-size: var(--jp-code-font-size);\n",
       "line-height: var(--jp-code-line-height);\n",
       "\"><span style=\"color: var(--jp-warn-color2)\">Spectrum</span> <span style=\"color: var(--jp-warn-color0)\">WARNING</span>: \n",
       "\tFailed to set spectrum attribute humidity using header OUTHUM</pre>"
      ],
      "text/plain": [
       "<IPython.core.display.HTML object>"
      ]
     },
     "metadata": {},
     "output_type": "display_data"
    },
    {
     "name": "stderr",
     "output_type": "stream",
     "text": [
      "2024-01-15 14:56:24  Spectrum   load_spectrum_latest WARNING \n",
      "\tFailed to set spectrum attribute humidity using header OUTHUM\n"
     ]
    },
    {
     "data": {
      "text/html": [
       "<pre style=\"margin: 0.1em;\n",
       "padding-left: 0.25em;\n",
       "border-left-style: solid;\n",
       "font-family: var(--jp-code-font-family);\n",
       "font-size: var(--jp-code-font-size);\n",
       "line-height: var(--jp-code-line-height);\n",
       "\"><span style=\"color: var(--jp-warn-color2)\">Spectrum</span> <span style=\"color: var(--jp-warn-color0)\">WARNING</span>: \n",
       "\tFailed to set spectrum attribute humidity using header OUTHUM</pre>"
      ],
      "text/plain": [
       "<IPython.core.display.HTML object>"
      ]
     },
     "metadata": {},
     "output_type": "display_data"
    },
    {
     "name": "stderr",
     "output_type": "stream",
     "text": [
      "2024-01-15 14:56:24  Spectrum   load_spectrum_latest WARNING \n",
      "\tFailed to set spectrum attribute humidity using header OUTHUM\n"
     ]
    },
    {
     "name": "stdout",
     "output_type": "stream",
     "text": [
      "2 20231128\n",
      "3 20231129\n",
      "4 20231130\n",
      "5 20231204\n",
      "6 20231205\n",
      "7 20231206\n",
      "8 20231207\n",
      "9 20231211\n",
      "10 20231212\n",
      "11 20231214\n",
      "12 20231215\n",
      "13 20231219\n",
      "14 20231220\n"
     ]
    }
   ],
   "source": [
    "all_params_spectrum = []\n",
    "all_params_spectrogram = []\n",
    "all_times = []\n",
    "all_headers = []\n",
    "#all_spectra = []\n",
    "\n",
    "for idx,DATEOBS in enumerate(ALL_DATEOBS):\n",
    "    print(idx,DATEOBS)\n",
    "    records = all_records[idx]\n",
    "\n",
    "\n",
    "    params_spectrum = []\n",
    "    params_spectrogram = []\n",
    "    times = []\n",
    "    headers = []\n",
    "    spectra = []\n",
    "\n",
    "    for i, r in enumerate(records):\n",
    "        try:\n",
    "            times.append(r.day_obs)\n",
    "            spec =  butler.get('spectractorSpectrum', visit=r.id, collections=my_collection, detector=0, instrument='LATISS')\n",
    "            headers.append(spec.header)\n",
    "            spectra.append(spec)\n",
    "            p = butler.get('spectrumLibradtranFitParameters', visit=r.id, collections=my_collection, detector=0, instrument='LATISS')\n",
    "            params_spectrum.append(p)\n",
    "            p = butler.get('spectrogramLibradtranFitParameters', visit=r.id, collections=my_collection, detector=0, instrument='LATISS')\n",
    "            params_spectrogram.append(p)\n",
    "    #except ValueError:\n",
    "        except Exception as inst:\n",
    "            except_type = type(inst)\n",
    "            except_args = inst.args\n",
    "            print(\"catch exception \", inst, \"type =\",except_type, \"args = \",except_args) \n",
    "            print(\"\\t >>>>> Skip record \", r.id)\n",
    "            continue\n",
    "\n",
    "    all_params_spectrum.append(params_spectrum)\n",
    "    all_params_spectrogram.append(params_spectrogram)\n",
    "    all_times.append(times)\n",
    "    all_headers.append(headers)\n",
    "    #all_spectra.append(spectra)"
   ]
  },
  {
   "cell_type": "markdown",
   "id": "788a29e7-9f4d-4fdf-8395-6b99c5f2765d",
   "metadata": {},
   "source": [
    "## Filtering data"
   ]
  },
  {
   "cell_type": "code",
   "execution_count": 31,
   "id": "0340e861-caac-4d23-a011-761a907cee05",
   "metadata": {
    "execution": {
     "iopub.execute_input": "2024-01-15T14:58:42.512215Z",
     "iopub.status.busy": "2024-01-15T14:58:42.512075Z",
     "iopub.status.idle": "2024-01-15T15:00:33.714625Z",
     "shell.execute_reply": "2024-01-15T15:00:33.714146Z",
     "shell.execute_reply.started": "2024-01-15T14:58:42.512202Z"
    }
   },
   "outputs": [
    {
     "data": {
      "text/html": [
       "<pre style=\"margin: 0.1em;\n",
       "padding-left: 0.25em;\n",
       "border-left-style: solid;\n",
       "font-family: var(--jp-code-font-family);\n",
       "font-size: var(--jp-code-font-size);\n",
       "line-height: var(--jp-code-line-height);\n",
       "\"><span style=\"color: var(--jp-warn-color2)\">Spectrum</span> <span style=\"color: var(--jp-warn-color0)\">WARNING</span>: \n",
       "\tFailed to set spectrum attribute humidity using header OUTHUM</pre>"
      ],
      "text/plain": [
       "<IPython.core.display.HTML object>"
      ]
     },
     "metadata": {},
     "output_type": "display_data"
    },
    {
     "name": "stderr",
     "output_type": "stream",
     "text": [
      "2024-01-15 14:58:42  Spectrum   load_spectrum_latest WARNING \n",
      "\tFailed to set spectrum attribute humidity using header OUTHUM\n"
     ]
    },
    {
     "data": {
      "text/html": [
       "<pre style=\"margin: 0.1em;\n",
       "padding-left: 0.25em;\n",
       "border-left-style: solid;\n",
       "font-family: var(--jp-code-font-family);\n",
       "font-size: var(--jp-code-font-size);\n",
       "line-height: var(--jp-code-line-height);\n",
       "\"><span style=\"color: var(--jp-warn-color2)\">Spectrum</span> <span style=\"color: var(--jp-warn-color0)\">WARNING</span>: \n",
       "\tFailed to set spectrum attribute humidity using header OUTHUM</pre>"
      ],
      "text/plain": [
       "<IPython.core.display.HTML object>"
      ]
     },
     "metadata": {},
     "output_type": "display_data"
    },
    {
     "name": "stderr",
     "output_type": "stream",
     "text": [
      "2024-01-15 14:58:42  Spectrum   load_spectrum_latest WARNING \n",
      "\tFailed to set spectrum attribute humidity using header OUTHUM\n"
     ]
    },
    {
     "data": {
      "text/html": [
       "<pre style=\"margin: 0.1em;\n",
       "padding-left: 0.25em;\n",
       "border-left-style: solid;\n",
       "font-family: var(--jp-code-font-family);\n",
       "font-size: var(--jp-code-font-size);\n",
       "line-height: var(--jp-code-line-height);\n",
       "\"><span style=\"color: var(--jp-warn-color2)\">Spectrum</span> <span style=\"color: var(--jp-warn-color0)\">WARNING</span>: \n",
       "\tFailed to set spectrum attribute humidity using header OUTHUM</pre>"
      ],
      "text/plain": [
       "<IPython.core.display.HTML object>"
      ]
     },
     "metadata": {},
     "output_type": "display_data"
    },
    {
     "name": "stderr",
     "output_type": "stream",
     "text": [
      "2024-01-15 14:58:43  Spectrum   load_spectrum_latest WARNING \n",
      "\tFailed to set spectrum attribute humidity using header OUTHUM\n"
     ]
    },
    {
     "data": {
      "text/html": [
       "<pre style=\"margin: 0.1em;\n",
       "padding-left: 0.25em;\n",
       "border-left-style: solid;\n",
       "font-family: var(--jp-code-font-family);\n",
       "font-size: var(--jp-code-font-size);\n",
       "line-height: var(--jp-code-line-height);\n",
       "\"><span style=\"color: var(--jp-warn-color2)\">Spectrum</span> <span style=\"color: var(--jp-warn-color0)\">WARNING</span>: \n",
       "\tFailed to set spectrum attribute humidity using header OUTHUM</pre>"
      ],
      "text/plain": [
       "<IPython.core.display.HTML object>"
      ]
     },
     "metadata": {},
     "output_type": "display_data"
    },
    {
     "name": "stderr",
     "output_type": "stream",
     "text": [
      "2024-01-15 14:58:43  Spectrum   load_spectrum_latest WARNING \n",
      "\tFailed to set spectrum attribute humidity using header OUTHUM\n"
     ]
    },
    {
     "data": {
      "text/html": [
       "<pre style=\"margin: 0.1em;\n",
       "padding-left: 0.25em;\n",
       "border-left-style: solid;\n",
       "font-family: var(--jp-code-font-family);\n",
       "font-size: var(--jp-code-font-size);\n",
       "line-height: var(--jp-code-line-height);\n",
       "\"><span style=\"color: var(--jp-warn-color2)\">Spectrum</span> <span style=\"color: var(--jp-warn-color0)\">WARNING</span>: \n",
       "\tFailed to set spectrum attribute humidity using header OUTHUM</pre>"
      ],
      "text/plain": [
       "<IPython.core.display.HTML object>"
      ]
     },
     "metadata": {},
     "output_type": "display_data"
    },
    {
     "name": "stderr",
     "output_type": "stream",
     "text": [
      "2024-01-15 14:58:43  Spectrum   load_spectrum_latest WARNING \n",
      "\tFailed to set spectrum attribute humidity using header OUTHUM\n"
     ]
    },
    {
     "data": {
      "text/html": [
       "<pre style=\"margin: 0.1em;\n",
       "padding-left: 0.25em;\n",
       "border-left-style: solid;\n",
       "font-family: var(--jp-code-font-family);\n",
       "font-size: var(--jp-code-font-size);\n",
       "line-height: var(--jp-code-line-height);\n",
       "\"><span style=\"color: var(--jp-warn-color2)\">Spectrum</span> <span style=\"color: var(--jp-warn-color0)\">WARNING</span>: \n",
       "\tFailed to set spectrum attribute humidity using header OUTHUM</pre>"
      ],
      "text/plain": [
       "<IPython.core.display.HTML object>"
      ]
     },
     "metadata": {},
     "output_type": "display_data"
    },
    {
     "name": "stderr",
     "output_type": "stream",
     "text": [
      "2024-01-15 14:58:43  Spectrum   load_spectrum_latest WARNING \n",
      "\tFailed to set spectrum attribute humidity using header OUTHUM\n"
     ]
    },
    {
     "data": {
      "text/html": [
       "<pre style=\"margin: 0.1em;\n",
       "padding-left: 0.25em;\n",
       "border-left-style: solid;\n",
       "font-family: var(--jp-code-font-family);\n",
       "font-size: var(--jp-code-font-size);\n",
       "line-height: var(--jp-code-line-height);\n",
       "\"><span style=\"color: var(--jp-warn-color2)\">Spectrum</span> <span style=\"color: var(--jp-warn-color0)\">WARNING</span>: \n",
       "\tFailed to set spectrum attribute humidity using header OUTHUM</pre>"
      ],
      "text/plain": [
       "<IPython.core.display.HTML object>"
      ]
     },
     "metadata": {},
     "output_type": "display_data"
    },
    {
     "name": "stderr",
     "output_type": "stream",
     "text": [
      "2024-01-15 14:58:43  Spectrum   load_spectrum_latest WARNING \n",
      "\tFailed to set spectrum attribute humidity using header OUTHUM\n"
     ]
    },
    {
     "data": {
      "text/html": [
       "<pre style=\"margin: 0.1em;\n",
       "padding-left: 0.25em;\n",
       "border-left-style: solid;\n",
       "font-family: var(--jp-code-font-family);\n",
       "font-size: var(--jp-code-font-size);\n",
       "line-height: var(--jp-code-line-height);\n",
       "\"><span style=\"color: var(--jp-warn-color2)\">Spectrum</span> <span style=\"color: var(--jp-warn-color0)\">WARNING</span>: \n",
       "\tFailed to set spectrum attribute humidity using header OUTHUM</pre>"
      ],
      "text/plain": [
       "<IPython.core.display.HTML object>"
      ]
     },
     "metadata": {},
     "output_type": "display_data"
    },
    {
     "name": "stderr",
     "output_type": "stream",
     "text": [
      "2024-01-15 14:58:44  Spectrum   load_spectrum_latest WARNING \n",
      "\tFailed to set spectrum attribute humidity using header OUTHUM\n"
     ]
    },
    {
     "data": {
      "text/html": [
       "<pre style=\"margin: 0.1em;\n",
       "padding-left: 0.25em;\n",
       "border-left-style: solid;\n",
       "font-family: var(--jp-code-font-family);\n",
       "font-size: var(--jp-code-font-size);\n",
       "line-height: var(--jp-code-line-height);\n",
       "\"><span style=\"color: var(--jp-warn-color2)\">Spectrum</span> <span style=\"color: var(--jp-warn-color0)\">WARNING</span>: \n",
       "\tFailed to set spectrum attribute humidity using header OUTHUM</pre>"
      ],
      "text/plain": [
       "<IPython.core.display.HTML object>"
      ]
     },
     "metadata": {},
     "output_type": "display_data"
    },
    {
     "name": "stderr",
     "output_type": "stream",
     "text": [
      "2024-01-15 14:58:44  Spectrum   load_spectrum_latest WARNING \n",
      "\tFailed to set spectrum attribute humidity using header OUTHUM\n"
     ]
    },
    {
     "data": {
      "text/html": [
       "<pre style=\"margin: 0.1em;\n",
       "padding-left: 0.25em;\n",
       "border-left-style: solid;\n",
       "font-family: var(--jp-code-font-family);\n",
       "font-size: var(--jp-code-font-size);\n",
       "line-height: var(--jp-code-line-height);\n",
       "\"><span style=\"color: var(--jp-warn-color2)\">Spectrum</span> <span style=\"color: var(--jp-warn-color0)\">WARNING</span>: \n",
       "\tFailed to set spectrum attribute humidity using header OUTHUM</pre>"
      ],
      "text/plain": [
       "<IPython.core.display.HTML object>"
      ]
     },
     "metadata": {},
     "output_type": "display_data"
    },
    {
     "name": "stderr",
     "output_type": "stream",
     "text": [
      "2024-01-15 14:58:44  Spectrum   load_spectrum_latest WARNING \n",
      "\tFailed to set spectrum attribute humidity using header OUTHUM\n"
     ]
    },
    {
     "data": {
      "text/html": [
       "<pre style=\"margin: 0.1em;\n",
       "padding-left: 0.25em;\n",
       "border-left-style: solid;\n",
       "font-family: var(--jp-code-font-family);\n",
       "font-size: var(--jp-code-font-size);\n",
       "line-height: var(--jp-code-line-height);\n",
       "\"><span style=\"color: var(--jp-warn-color2)\">Spectrum</span> <span style=\"color: var(--jp-warn-color0)\">WARNING</span>: \n",
       "\tFailed to set spectrum attribute humidity using header OUTHUM</pre>"
      ],
      "text/plain": [
       "<IPython.core.display.HTML object>"
      ]
     },
     "metadata": {},
     "output_type": "display_data"
    },
    {
     "name": "stderr",
     "output_type": "stream",
     "text": [
      "2024-01-15 14:58:44  Spectrum   load_spectrum_latest WARNING \n",
      "\tFailed to set spectrum attribute humidity using header OUTHUM\n"
     ]
    },
    {
     "data": {
      "text/html": [
       "<pre style=\"margin: 0.1em;\n",
       "padding-left: 0.25em;\n",
       "border-left-style: solid;\n",
       "font-family: var(--jp-code-font-family);\n",
       "font-size: var(--jp-code-font-size);\n",
       "line-height: var(--jp-code-line-height);\n",
       "\"><span style=\"color: var(--jp-warn-color2)\">Spectrum</span> <span style=\"color: var(--jp-warn-color0)\">WARNING</span>: \n",
       "\tFailed to set spectrum attribute humidity using header OUTHUM</pre>"
      ],
      "text/plain": [
       "<IPython.core.display.HTML object>"
      ]
     },
     "metadata": {},
     "output_type": "display_data"
    },
    {
     "name": "stderr",
     "output_type": "stream",
     "text": [
      "2024-01-15 14:58:44  Spectrum   load_spectrum_latest WARNING \n",
      "\tFailed to set spectrum attribute humidity using header OUTHUM\n"
     ]
    },
    {
     "data": {
      "text/html": [
       "<pre style=\"margin: 0.1em;\n",
       "padding-left: 0.25em;\n",
       "border-left-style: solid;\n",
       "font-family: var(--jp-code-font-family);\n",
       "font-size: var(--jp-code-font-size);\n",
       "line-height: var(--jp-code-line-height);\n",
       "\"><span style=\"color: var(--jp-warn-color2)\">Spectrum</span> <span style=\"color: var(--jp-warn-color0)\">WARNING</span>: \n",
       "\tFailed to set spectrum attribute humidity using header OUTHUM</pre>"
      ],
      "text/plain": [
       "<IPython.core.display.HTML object>"
      ]
     },
     "metadata": {},
     "output_type": "display_data"
    },
    {
     "name": "stderr",
     "output_type": "stream",
     "text": [
      "2024-01-15 14:58:45  Spectrum   load_spectrum_latest WARNING \n",
      "\tFailed to set spectrum attribute humidity using header OUTHUM\n"
     ]
    },
    {
     "data": {
      "text/html": [
       "<pre style=\"margin: 0.1em;\n",
       "padding-left: 0.25em;\n",
       "border-left-style: solid;\n",
       "font-family: var(--jp-code-font-family);\n",
       "font-size: var(--jp-code-font-size);\n",
       "line-height: var(--jp-code-line-height);\n",
       "\"><span style=\"color: var(--jp-warn-color2)\">Spectrum</span> <span style=\"color: var(--jp-warn-color0)\">WARNING</span>: \n",
       "\tFailed to set spectrum attribute humidity using header OUTHUM</pre>"
      ],
      "text/plain": [
       "<IPython.core.display.HTML object>"
      ]
     },
     "metadata": {},
     "output_type": "display_data"
    },
    {
     "name": "stderr",
     "output_type": "stream",
     "text": [
      "2024-01-15 14:58:45  Spectrum   load_spectrum_latest WARNING \n",
      "\tFailed to set spectrum attribute humidity using header OUTHUM\n"
     ]
    },
    {
     "data": {
      "text/html": [
       "<pre style=\"margin: 0.1em;\n",
       "padding-left: 0.25em;\n",
       "border-left-style: solid;\n",
       "font-family: var(--jp-code-font-family);\n",
       "font-size: var(--jp-code-font-size);\n",
       "line-height: var(--jp-code-line-height);\n",
       "\"><span style=\"color: var(--jp-warn-color2)\">Spectrum</span> <span style=\"color: var(--jp-warn-color0)\">WARNING</span>: \n",
       "\tFailed to set spectrum attribute humidity using header OUTHUM</pre>"
      ],
      "text/plain": [
       "<IPython.core.display.HTML object>"
      ]
     },
     "metadata": {},
     "output_type": "display_data"
    },
    {
     "name": "stderr",
     "output_type": "stream",
     "text": [
      "2024-01-15 14:58:45  Spectrum   load_spectrum_latest WARNING \n",
      "\tFailed to set spectrum attribute humidity using header OUTHUM\n"
     ]
    },
    {
     "data": {
      "text/html": [
       "<pre style=\"margin: 0.1em;\n",
       "padding-left: 0.25em;\n",
       "border-left-style: solid;\n",
       "font-family: var(--jp-code-font-family);\n",
       "font-size: var(--jp-code-font-size);\n",
       "line-height: var(--jp-code-line-height);\n",
       "\"><span style=\"color: var(--jp-warn-color2)\">Spectrum</span> <span style=\"color: var(--jp-warn-color0)\">WARNING</span>: \n",
       "\tFailed to set spectrum attribute humidity using header OUTHUM</pre>"
      ],
      "text/plain": [
       "<IPython.core.display.HTML object>"
      ]
     },
     "metadata": {},
     "output_type": "display_data"
    },
    {
     "name": "stderr",
     "output_type": "stream",
     "text": [
      "2024-01-15 14:58:45  Spectrum   load_spectrum_latest WARNING \n",
      "\tFailed to set spectrum attribute humidity using header OUTHUM\n"
     ]
    },
    {
     "data": {
      "text/html": [
       "<pre style=\"margin: 0.1em;\n",
       "padding-left: 0.25em;\n",
       "border-left-style: solid;\n",
       "font-family: var(--jp-code-font-family);\n",
       "font-size: var(--jp-code-font-size);\n",
       "line-height: var(--jp-code-line-height);\n",
       "\"><span style=\"color: var(--jp-warn-color2)\">Spectrum</span> <span style=\"color: var(--jp-warn-color0)\">WARNING</span>: \n",
       "\tFailed to set spectrum attribute humidity using header OUTHUM</pre>"
      ],
      "text/plain": [
       "<IPython.core.display.HTML object>"
      ]
     },
     "metadata": {},
     "output_type": "display_data"
    },
    {
     "name": "stderr",
     "output_type": "stream",
     "text": [
      "2024-01-15 14:58:46  Spectrum   load_spectrum_latest WARNING \n",
      "\tFailed to set spectrum attribute humidity using header OUTHUM\n"
     ]
    },
    {
     "data": {
      "text/html": [
       "<pre style=\"margin: 0.1em;\n",
       "padding-left: 0.25em;\n",
       "border-left-style: solid;\n",
       "font-family: var(--jp-code-font-family);\n",
       "font-size: var(--jp-code-font-size);\n",
       "line-height: var(--jp-code-line-height);\n",
       "\"><span style=\"color: var(--jp-warn-color2)\">Spectrum</span> <span style=\"color: var(--jp-warn-color0)\">WARNING</span>: \n",
       "\tFailed to set spectrum attribute humidity using header OUTHUM</pre>"
      ],
      "text/plain": [
       "<IPython.core.display.HTML object>"
      ]
     },
     "metadata": {},
     "output_type": "display_data"
    },
    {
     "name": "stderr",
     "output_type": "stream",
     "text": [
      "2024-01-15 14:58:46  Spectrum   load_spectrum_latest WARNING \n",
      "\tFailed to set spectrum attribute humidity using header OUTHUM\n"
     ]
    },
    {
     "data": {
      "text/html": [
       "<pre style=\"margin: 0.1em;\n",
       "padding-left: 0.25em;\n",
       "border-left-style: solid;\n",
       "font-family: var(--jp-code-font-family);\n",
       "font-size: var(--jp-code-font-size);\n",
       "line-height: var(--jp-code-line-height);\n",
       "\"><span style=\"color: var(--jp-warn-color2)\">Spectrum</span> <span style=\"color: var(--jp-warn-color0)\">WARNING</span>: \n",
       "\tFailed to set spectrum attribute humidity using header OUTHUM</pre>"
      ],
      "text/plain": [
       "<IPython.core.display.HTML object>"
      ]
     },
     "metadata": {},
     "output_type": "display_data"
    },
    {
     "name": "stderr",
     "output_type": "stream",
     "text": [
      "2024-01-15 14:58:46  Spectrum   load_spectrum_latest WARNING \n",
      "\tFailed to set spectrum attribute humidity using header OUTHUM\n"
     ]
    },
    {
     "data": {
      "text/html": [
       "<pre style=\"margin: 0.1em;\n",
       "padding-left: 0.25em;\n",
       "border-left-style: solid;\n",
       "font-family: var(--jp-code-font-family);\n",
       "font-size: var(--jp-code-font-size);\n",
       "line-height: var(--jp-code-line-height);\n",
       "\"><span style=\"color: var(--jp-warn-color2)\">Spectrum</span> <span style=\"color: var(--jp-warn-color0)\">WARNING</span>: \n",
       "\tFailed to set spectrum attribute humidity using header OUTHUM</pre>"
      ],
      "text/plain": [
       "<IPython.core.display.HTML object>"
      ]
     },
     "metadata": {},
     "output_type": "display_data"
    },
    {
     "name": "stderr",
     "output_type": "stream",
     "text": [
      "2024-01-15 14:58:46  Spectrum   load_spectrum_latest WARNING \n",
      "\tFailed to set spectrum attribute humidity using header OUTHUM\n"
     ]
    },
    {
     "data": {
      "text/html": [
       "<pre style=\"margin: 0.1em;\n",
       "padding-left: 0.25em;\n",
       "border-left-style: solid;\n",
       "font-family: var(--jp-code-font-family);\n",
       "font-size: var(--jp-code-font-size);\n",
       "line-height: var(--jp-code-line-height);\n",
       "\"><span style=\"color: var(--jp-warn-color2)\">Spectrum</span> <span style=\"color: var(--jp-warn-color0)\">WARNING</span>: \n",
       "\tFailed to set spectrum attribute humidity using header OUTHUM</pre>"
      ],
      "text/plain": [
       "<IPython.core.display.HTML object>"
      ]
     },
     "metadata": {},
     "output_type": "display_data"
    },
    {
     "name": "stderr",
     "output_type": "stream",
     "text": [
      "2024-01-15 14:58:46  Spectrum   load_spectrum_latest WARNING \n",
      "\tFailed to set spectrum attribute humidity using header OUTHUM\n"
     ]
    },
    {
     "data": {
      "text/html": [
       "<pre style=\"margin: 0.1em;\n",
       "padding-left: 0.25em;\n",
       "border-left-style: solid;\n",
       "font-family: var(--jp-code-font-family);\n",
       "font-size: var(--jp-code-font-size);\n",
       "line-height: var(--jp-code-line-height);\n",
       "\"><span style=\"color: var(--jp-warn-color2)\">Spectrum</span> <span style=\"color: var(--jp-warn-color0)\">WARNING</span>: \n",
       "\tFailed to set spectrum attribute humidity using header OUTHUM</pre>"
      ],
      "text/plain": [
       "<IPython.core.display.HTML object>"
      ]
     },
     "metadata": {},
     "output_type": "display_data"
    },
    {
     "name": "stderr",
     "output_type": "stream",
     "text": [
      "2024-01-15 14:58:47  Spectrum   load_spectrum_latest WARNING \n",
      "\tFailed to set spectrum attribute humidity using header OUTHUM\n"
     ]
    },
    {
     "data": {
      "text/html": [
       "<pre style=\"margin: 0.1em;\n",
       "padding-left: 0.25em;\n",
       "border-left-style: solid;\n",
       "font-family: var(--jp-code-font-family);\n",
       "font-size: var(--jp-code-font-size);\n",
       "line-height: var(--jp-code-line-height);\n",
       "\"><span style=\"color: var(--jp-warn-color2)\">Spectrum</span> <span style=\"color: var(--jp-warn-color0)\">WARNING</span>: \n",
       "\tFailed to set spectrum attribute humidity using header OUTHUM</pre>"
      ],
      "text/plain": [
       "<IPython.core.display.HTML object>"
      ]
     },
     "metadata": {},
     "output_type": "display_data"
    },
    {
     "name": "stderr",
     "output_type": "stream",
     "text": [
      "2024-01-15 14:58:47  Spectrum   load_spectrum_latest WARNING \n",
      "\tFailed to set spectrum attribute humidity using header OUTHUM\n"
     ]
    },
    {
     "data": {
      "text/html": [
       "<pre style=\"margin: 0.1em;\n",
       "padding-left: 0.25em;\n",
       "border-left-style: solid;\n",
       "font-family: var(--jp-code-font-family);\n",
       "font-size: var(--jp-code-font-size);\n",
       "line-height: var(--jp-code-line-height);\n",
       "\"><span style=\"color: var(--jp-warn-color2)\">Spectrum</span> <span style=\"color: var(--jp-warn-color0)\">WARNING</span>: \n",
       "\tFailed to set spectrum attribute humidity using header OUTHUM</pre>"
      ],
      "text/plain": [
       "<IPython.core.display.HTML object>"
      ]
     },
     "metadata": {},
     "output_type": "display_data"
    },
    {
     "name": "stderr",
     "output_type": "stream",
     "text": [
      "2024-01-15 14:58:47  Spectrum   load_spectrum_latest WARNING \n",
      "\tFailed to set spectrum attribute humidity using header OUTHUM\n"
     ]
    },
    {
     "data": {
      "text/html": [
       "<pre style=\"margin: 0.1em;\n",
       "padding-left: 0.25em;\n",
       "border-left-style: solid;\n",
       "font-family: var(--jp-code-font-family);\n",
       "font-size: var(--jp-code-font-size);\n",
       "line-height: var(--jp-code-line-height);\n",
       "\"><span style=\"color: var(--jp-warn-color2)\">Spectrum</span> <span style=\"color: var(--jp-warn-color0)\">WARNING</span>: \n",
       "\tFailed to set spectrum attribute humidity using header OUTHUM</pre>"
      ],
      "text/plain": [
       "<IPython.core.display.HTML object>"
      ]
     },
     "metadata": {},
     "output_type": "display_data"
    },
    {
     "name": "stderr",
     "output_type": "stream",
     "text": [
      "2024-01-15 14:58:47  Spectrum   load_spectrum_latest WARNING \n",
      "\tFailed to set spectrum attribute humidity using header OUTHUM\n"
     ]
    },
    {
     "data": {
      "text/html": [
       "<pre style=\"margin: 0.1em;\n",
       "padding-left: 0.25em;\n",
       "border-left-style: solid;\n",
       "font-family: var(--jp-code-font-family);\n",
       "font-size: var(--jp-code-font-size);\n",
       "line-height: var(--jp-code-line-height);\n",
       "\"><span style=\"color: var(--jp-warn-color2)\">Spectrum</span> <span style=\"color: var(--jp-warn-color0)\">WARNING</span>: \n",
       "\tFailed to set spectrum attribute humidity using header OUTHUM</pre>"
      ],
      "text/plain": [
       "<IPython.core.display.HTML object>"
      ]
     },
     "metadata": {},
     "output_type": "display_data"
    },
    {
     "name": "stderr",
     "output_type": "stream",
     "text": [
      "2024-01-15 14:58:48  Spectrum   load_spectrum_latest WARNING \n",
      "\tFailed to set spectrum attribute humidity using header OUTHUM\n"
     ]
    },
    {
     "data": {
      "text/html": [
       "<pre style=\"margin: 0.1em;\n",
       "padding-left: 0.25em;\n",
       "border-left-style: solid;\n",
       "font-family: var(--jp-code-font-family);\n",
       "font-size: var(--jp-code-font-size);\n",
       "line-height: var(--jp-code-line-height);\n",
       "\"><span style=\"color: var(--jp-warn-color2)\">Spectrum</span> <span style=\"color: var(--jp-warn-color0)\">WARNING</span>: \n",
       "\tFailed to set spectrum attribute humidity using header OUTHUM</pre>"
      ],
      "text/plain": [
       "<IPython.core.display.HTML object>"
      ]
     },
     "metadata": {},
     "output_type": "display_data"
    },
    {
     "name": "stderr",
     "output_type": "stream",
     "text": [
      "2024-01-15 14:58:48  Spectrum   load_spectrum_latest WARNING \n",
      "\tFailed to set spectrum attribute humidity using header OUTHUM\n"
     ]
    },
    {
     "data": {
      "text/html": [
       "<pre style=\"margin: 0.1em;\n",
       "padding-left: 0.25em;\n",
       "border-left-style: solid;\n",
       "font-family: var(--jp-code-font-family);\n",
       "font-size: var(--jp-code-font-size);\n",
       "line-height: var(--jp-code-line-height);\n",
       "\"><span style=\"color: var(--jp-warn-color2)\">Spectrum</span> <span style=\"color: var(--jp-warn-color0)\">WARNING</span>: \n",
       "\tFailed to set spectrum attribute humidity using header OUTHUM</pre>"
      ],
      "text/plain": [
       "<IPython.core.display.HTML object>"
      ]
     },
     "metadata": {},
     "output_type": "display_data"
    },
    {
     "name": "stderr",
     "output_type": "stream",
     "text": [
      "2024-01-15 14:58:48  Spectrum   load_spectrum_latest WARNING \n",
      "\tFailed to set spectrum attribute humidity using header OUTHUM\n"
     ]
    },
    {
     "data": {
      "text/html": [
       "<pre style=\"margin: 0.1em;\n",
       "padding-left: 0.25em;\n",
       "border-left-style: solid;\n",
       "font-family: var(--jp-code-font-family);\n",
       "font-size: var(--jp-code-font-size);\n",
       "line-height: var(--jp-code-line-height);\n",
       "\"><span style=\"color: var(--jp-warn-color2)\">Spectrum</span> <span style=\"color: var(--jp-warn-color0)\">WARNING</span>: \n",
       "\tFailed to set spectrum attribute humidity using header OUTHUM</pre>"
      ],
      "text/plain": [
       "<IPython.core.display.HTML object>"
      ]
     },
     "metadata": {},
     "output_type": "display_data"
    },
    {
     "name": "stderr",
     "output_type": "stream",
     "text": [
      "2024-01-15 14:58:48  Spectrum   load_spectrum_latest WARNING \n",
      "\tFailed to set spectrum attribute humidity using header OUTHUM\n"
     ]
    },
    {
     "data": {
      "text/html": [
       "<pre style=\"margin: 0.1em;\n",
       "padding-left: 0.25em;\n",
       "border-left-style: solid;\n",
       "font-family: var(--jp-code-font-family);\n",
       "font-size: var(--jp-code-font-size);\n",
       "line-height: var(--jp-code-line-height);\n",
       "\"><span style=\"color: var(--jp-warn-color2)\">Spectrum</span> <span style=\"color: var(--jp-warn-color0)\">WARNING</span>: \n",
       "\tFailed to set spectrum attribute humidity using header OUTHUM</pre>"
      ],
      "text/plain": [
       "<IPython.core.display.HTML object>"
      ]
     },
     "metadata": {},
     "output_type": "display_data"
    },
    {
     "name": "stderr",
     "output_type": "stream",
     "text": [
      "2024-01-15 14:58:49  Spectrum   load_spectrum_latest WARNING \n",
      "\tFailed to set spectrum attribute humidity using header OUTHUM\n"
     ]
    },
    {
     "data": {
      "text/html": [
       "<pre style=\"margin: 0.1em;\n",
       "padding-left: 0.25em;\n",
       "border-left-style: solid;\n",
       "font-family: var(--jp-code-font-family);\n",
       "font-size: var(--jp-code-font-size);\n",
       "line-height: var(--jp-code-line-height);\n",
       "\"><span style=\"color: var(--jp-warn-color2)\">Spectrum</span> <span style=\"color: var(--jp-warn-color0)\">WARNING</span>: \n",
       "\tFailed to set spectrum attribute humidity using header OUTHUM</pre>"
      ],
      "text/plain": [
       "<IPython.core.display.HTML object>"
      ]
     },
     "metadata": {},
     "output_type": "display_data"
    },
    {
     "name": "stderr",
     "output_type": "stream",
     "text": [
      "2024-01-15 14:58:49  Spectrum   load_spectrum_latest WARNING \n",
      "\tFailed to set spectrum attribute humidity using header OUTHUM\n"
     ]
    },
    {
     "data": {
      "text/html": [
       "<pre style=\"margin: 0.1em;\n",
       "padding-left: 0.25em;\n",
       "border-left-style: solid;\n",
       "font-family: var(--jp-code-font-family);\n",
       "font-size: var(--jp-code-font-size);\n",
       "line-height: var(--jp-code-line-height);\n",
       "\"><span style=\"color: var(--jp-warn-color2)\">Spectrum</span> <span style=\"color: var(--jp-warn-color0)\">WARNING</span>: \n",
       "\tFailed to set spectrum attribute humidity using header OUTHUM</pre>"
      ],
      "text/plain": [
       "<IPython.core.display.HTML object>"
      ]
     },
     "metadata": {},
     "output_type": "display_data"
    },
    {
     "name": "stderr",
     "output_type": "stream",
     "text": [
      "2024-01-15 14:58:49  Spectrum   load_spectrum_latest WARNING \n",
      "\tFailed to set spectrum attribute humidity using header OUTHUM\n"
     ]
    },
    {
     "data": {
      "text/html": [
       "<pre style=\"margin: 0.1em;\n",
       "padding-left: 0.25em;\n",
       "border-left-style: solid;\n",
       "font-family: var(--jp-code-font-family);\n",
       "font-size: var(--jp-code-font-size);\n",
       "line-height: var(--jp-code-line-height);\n",
       "\"><span style=\"color: var(--jp-warn-color2)\">Spectrum</span> <span style=\"color: var(--jp-warn-color0)\">WARNING</span>: \n",
       "\tFailed to set spectrum attribute humidity using header OUTHUM</pre>"
      ],
      "text/plain": [
       "<IPython.core.display.HTML object>"
      ]
     },
     "metadata": {},
     "output_type": "display_data"
    },
    {
     "name": "stderr",
     "output_type": "stream",
     "text": [
      "2024-01-15 14:58:50  Spectrum   load_spectrum_latest WARNING \n",
      "\tFailed to set spectrum attribute humidity using header OUTHUM\n"
     ]
    },
    {
     "data": {
      "text/html": [
       "<pre style=\"margin: 0.1em;\n",
       "padding-left: 0.25em;\n",
       "border-left-style: solid;\n",
       "font-family: var(--jp-code-font-family);\n",
       "font-size: var(--jp-code-font-size);\n",
       "line-height: var(--jp-code-line-height);\n",
       "\"><span style=\"color: var(--jp-warn-color2)\">Spectrum</span> <span style=\"color: var(--jp-warn-color0)\">WARNING</span>: \n",
       "\tFailed to set spectrum attribute humidity using header OUTHUM</pre>"
      ],
      "text/plain": [
       "<IPython.core.display.HTML object>"
      ]
     },
     "metadata": {},
     "output_type": "display_data"
    },
    {
     "name": "stderr",
     "output_type": "stream",
     "text": [
      "2024-01-15 14:58:50  Spectrum   load_spectrum_latest WARNING \n",
      "\tFailed to set spectrum attribute humidity using header OUTHUM\n"
     ]
    },
    {
     "data": {
      "text/html": [
       "<pre style=\"margin: 0.1em;\n",
       "padding-left: 0.25em;\n",
       "border-left-style: solid;\n",
       "font-family: var(--jp-code-font-family);\n",
       "font-size: var(--jp-code-font-size);\n",
       "line-height: var(--jp-code-line-height);\n",
       "\"><span style=\"color: var(--jp-warn-color2)\">Spectrum</span> <span style=\"color: var(--jp-warn-color0)\">WARNING</span>: \n",
       "\tFailed to set spectrum attribute humidity using header OUTHUM</pre>"
      ],
      "text/plain": [
       "<IPython.core.display.HTML object>"
      ]
     },
     "metadata": {},
     "output_type": "display_data"
    },
    {
     "name": "stderr",
     "output_type": "stream",
     "text": [
      "2024-01-15 14:58:50  Spectrum   load_spectrum_latest WARNING \n",
      "\tFailed to set spectrum attribute humidity using header OUTHUM\n"
     ]
    },
    {
     "data": {
      "text/html": [
       "<pre style=\"margin: 0.1em;\n",
       "padding-left: 0.25em;\n",
       "border-left-style: solid;\n",
       "font-family: var(--jp-code-font-family);\n",
       "font-size: var(--jp-code-font-size);\n",
       "line-height: var(--jp-code-line-height);\n",
       "\"><span style=\"color: var(--jp-warn-color2)\">Spectrum</span> <span style=\"color: var(--jp-warn-color0)\">WARNING</span>: \n",
       "\tFailed to set spectrum attribute humidity using header OUTHUM</pre>"
      ],
      "text/plain": [
       "<IPython.core.display.HTML object>"
      ]
     },
     "metadata": {},
     "output_type": "display_data"
    },
    {
     "name": "stderr",
     "output_type": "stream",
     "text": [
      "2024-01-15 14:58:50  Spectrum   load_spectrum_latest WARNING \n",
      "\tFailed to set spectrum attribute humidity using header OUTHUM\n"
     ]
    },
    {
     "data": {
      "text/html": [
       "<pre style=\"margin: 0.1em;\n",
       "padding-left: 0.25em;\n",
       "border-left-style: solid;\n",
       "font-family: var(--jp-code-font-family);\n",
       "font-size: var(--jp-code-font-size);\n",
       "line-height: var(--jp-code-line-height);\n",
       "\"><span style=\"color: var(--jp-warn-color2)\">Spectrum</span> <span style=\"color: var(--jp-warn-color0)\">WARNING</span>: \n",
       "\tFailed to set spectrum attribute humidity using header OUTHUM</pre>"
      ],
      "text/plain": [
       "<IPython.core.display.HTML object>"
      ]
     },
     "metadata": {},
     "output_type": "display_data"
    },
    {
     "name": "stderr",
     "output_type": "stream",
     "text": [
      "2024-01-15 14:58:51  Spectrum   load_spectrum_latest WARNING \n",
      "\tFailed to set spectrum attribute humidity using header OUTHUM\n"
     ]
    },
    {
     "data": {
      "text/html": [
       "<pre style=\"margin: 0.1em;\n",
       "padding-left: 0.25em;\n",
       "border-left-style: solid;\n",
       "font-family: var(--jp-code-font-family);\n",
       "font-size: var(--jp-code-font-size);\n",
       "line-height: var(--jp-code-line-height);\n",
       "\"><span style=\"color: var(--jp-warn-color2)\">Spectrum</span> <span style=\"color: var(--jp-warn-color0)\">WARNING</span>: \n",
       "\tFailed to set spectrum attribute humidity using header OUTHUM</pre>"
      ],
      "text/plain": [
       "<IPython.core.display.HTML object>"
      ]
     },
     "metadata": {},
     "output_type": "display_data"
    },
    {
     "name": "stderr",
     "output_type": "stream",
     "text": [
      "2024-01-15 14:58:51  Spectrum   load_spectrum_latest WARNING \n",
      "\tFailed to set spectrum attribute humidity using header OUTHUM\n"
     ]
    },
    {
     "data": {
      "text/html": [
       "<pre style=\"margin: 0.1em;\n",
       "padding-left: 0.25em;\n",
       "border-left-style: solid;\n",
       "font-family: var(--jp-code-font-family);\n",
       "font-size: var(--jp-code-font-size);\n",
       "line-height: var(--jp-code-line-height);\n",
       "\"><span style=\"color: var(--jp-warn-color2)\">Spectrum</span> <span style=\"color: var(--jp-warn-color0)\">WARNING</span>: \n",
       "\tFailed to set spectrum attribute humidity using header OUTHUM</pre>"
      ],
      "text/plain": [
       "<IPython.core.display.HTML object>"
      ]
     },
     "metadata": {},
     "output_type": "display_data"
    },
    {
     "name": "stderr",
     "output_type": "stream",
     "text": [
      "2024-01-15 14:58:51  Spectrum   load_spectrum_latest WARNING \n",
      "\tFailed to set spectrum attribute humidity using header OUTHUM\n"
     ]
    },
    {
     "data": {
      "text/html": [
       "<pre style=\"margin: 0.1em;\n",
       "padding-left: 0.25em;\n",
       "border-left-style: solid;\n",
       "font-family: var(--jp-code-font-family);\n",
       "font-size: var(--jp-code-font-size);\n",
       "line-height: var(--jp-code-line-height);\n",
       "\"><span style=\"color: var(--jp-warn-color2)\">Spectrum</span> <span style=\"color: var(--jp-warn-color0)\">WARNING</span>: \n",
       "\tFailed to set spectrum attribute humidity using header OUTHUM</pre>"
      ],
      "text/plain": [
       "<IPython.core.display.HTML object>"
      ]
     },
     "metadata": {},
     "output_type": "display_data"
    },
    {
     "name": "stderr",
     "output_type": "stream",
     "text": [
      "2024-01-15 14:58:51  Spectrum   load_spectrum_latest WARNING \n",
      "\tFailed to set spectrum attribute humidity using header OUTHUM\n"
     ]
    },
    {
     "data": {
      "text/html": [
       "<pre style=\"margin: 0.1em;\n",
       "padding-left: 0.25em;\n",
       "border-left-style: solid;\n",
       "font-family: var(--jp-code-font-family);\n",
       "font-size: var(--jp-code-font-size);\n",
       "line-height: var(--jp-code-line-height);\n",
       "\"><span style=\"color: var(--jp-warn-color2)\">Spectrum</span> <span style=\"color: var(--jp-warn-color0)\">WARNING</span>: \n",
       "\tFailed to set spectrum attribute humidity using header OUTHUM</pre>"
      ],
      "text/plain": [
       "<IPython.core.display.HTML object>"
      ]
     },
     "metadata": {},
     "output_type": "display_data"
    },
    {
     "name": "stderr",
     "output_type": "stream",
     "text": [
      "2024-01-15 14:58:52  Spectrum   load_spectrum_latest WARNING \n",
      "\tFailed to set spectrum attribute humidity using header OUTHUM\n"
     ]
    },
    {
     "data": {
      "text/html": [
       "<pre style=\"margin: 0.1em;\n",
       "padding-left: 0.25em;\n",
       "border-left-style: solid;\n",
       "font-family: var(--jp-code-font-family);\n",
       "font-size: var(--jp-code-font-size);\n",
       "line-height: var(--jp-code-line-height);\n",
       "\"><span style=\"color: var(--jp-warn-color2)\">Spectrum</span> <span style=\"color: var(--jp-warn-color0)\">WARNING</span>: \n",
       "\tFailed to set spectrum attribute humidity using header OUTHUM</pre>"
      ],
      "text/plain": [
       "<IPython.core.display.HTML object>"
      ]
     },
     "metadata": {},
     "output_type": "display_data"
    },
    {
     "name": "stderr",
     "output_type": "stream",
     "text": [
      "2024-01-15 14:58:52  Spectrum   load_spectrum_latest WARNING \n",
      "\tFailed to set spectrum attribute humidity using header OUTHUM\n"
     ]
    },
    {
     "data": {
      "text/html": [
       "<pre style=\"margin: 0.1em;\n",
       "padding-left: 0.25em;\n",
       "border-left-style: solid;\n",
       "font-family: var(--jp-code-font-family);\n",
       "font-size: var(--jp-code-font-size);\n",
       "line-height: var(--jp-code-line-height);\n",
       "\"><span style=\"color: var(--jp-warn-color2)\">Spectrum</span> <span style=\"color: var(--jp-warn-color0)\">WARNING</span>: \n",
       "\tFailed to set spectrum attribute humidity using header OUTHUM</pre>"
      ],
      "text/plain": [
       "<IPython.core.display.HTML object>"
      ]
     },
     "metadata": {},
     "output_type": "display_data"
    },
    {
     "name": "stderr",
     "output_type": "stream",
     "text": [
      "2024-01-15 14:58:52  Spectrum   load_spectrum_latest WARNING \n",
      "\tFailed to set spectrum attribute humidity using header OUTHUM\n"
     ]
    },
    {
     "data": {
      "text/html": [
       "<pre style=\"margin: 0.1em;\n",
       "padding-left: 0.25em;\n",
       "border-left-style: solid;\n",
       "font-family: var(--jp-code-font-family);\n",
       "font-size: var(--jp-code-font-size);\n",
       "line-height: var(--jp-code-line-height);\n",
       "\"><span style=\"color: var(--jp-warn-color2)\">Spectrum</span> <span style=\"color: var(--jp-warn-color0)\">WARNING</span>: \n",
       "\tFailed to set spectrum attribute humidity using header OUTHUM</pre>"
      ],
      "text/plain": [
       "<IPython.core.display.HTML object>"
      ]
     },
     "metadata": {},
     "output_type": "display_data"
    },
    {
     "name": "stderr",
     "output_type": "stream",
     "text": [
      "2024-01-15 14:58:52  Spectrum   load_spectrum_latest WARNING \n",
      "\tFailed to set spectrum attribute humidity using header OUTHUM\n"
     ]
    },
    {
     "data": {
      "text/html": [
       "<pre style=\"margin: 0.1em;\n",
       "padding-left: 0.25em;\n",
       "border-left-style: solid;\n",
       "font-family: var(--jp-code-font-family);\n",
       "font-size: var(--jp-code-font-size);\n",
       "line-height: var(--jp-code-line-height);\n",
       "\"><span style=\"color: var(--jp-warn-color2)\">Spectrum</span> <span style=\"color: var(--jp-warn-color0)\">WARNING</span>: \n",
       "\tFailed to set spectrum attribute humidity using header OUTHUM</pre>"
      ],
      "text/plain": [
       "<IPython.core.display.HTML object>"
      ]
     },
     "metadata": {},
     "output_type": "display_data"
    },
    {
     "name": "stderr",
     "output_type": "stream",
     "text": [
      "2024-01-15 14:58:53  Spectrum   load_spectrum_latest WARNING \n",
      "\tFailed to set spectrum attribute humidity using header OUTHUM\n"
     ]
    },
    {
     "data": {
      "text/html": [
       "<pre style=\"margin: 0.1em;\n",
       "padding-left: 0.25em;\n",
       "border-left-style: solid;\n",
       "font-family: var(--jp-code-font-family);\n",
       "font-size: var(--jp-code-font-size);\n",
       "line-height: var(--jp-code-line-height);\n",
       "\"><span style=\"color: var(--jp-warn-color2)\">Spectrum</span> <span style=\"color: var(--jp-warn-color0)\">WARNING</span>: \n",
       "\tFailed to set spectrum attribute humidity using header OUTHUM</pre>"
      ],
      "text/plain": [
       "<IPython.core.display.HTML object>"
      ]
     },
     "metadata": {},
     "output_type": "display_data"
    },
    {
     "name": "stderr",
     "output_type": "stream",
     "text": [
      "2024-01-15 14:58:53  Spectrum   load_spectrum_latest WARNING \n",
      "\tFailed to set spectrum attribute humidity using header OUTHUM\n"
     ]
    },
    {
     "data": {
      "text/html": [
       "<pre style=\"margin: 0.1em;\n",
       "padding-left: 0.25em;\n",
       "border-left-style: solid;\n",
       "font-family: var(--jp-code-font-family);\n",
       "font-size: var(--jp-code-font-size);\n",
       "line-height: var(--jp-code-line-height);\n",
       "\"><span style=\"color: var(--jp-warn-color2)\">Spectrum</span> <span style=\"color: var(--jp-warn-color0)\">WARNING</span>: \n",
       "\tFailed to set spectrum attribute humidity using header OUTHUM</pre>"
      ],
      "text/plain": [
       "<IPython.core.display.HTML object>"
      ]
     },
     "metadata": {},
     "output_type": "display_data"
    },
    {
     "name": "stderr",
     "output_type": "stream",
     "text": [
      "2024-01-15 14:58:53  Spectrum   load_spectrum_latest WARNING \n",
      "\tFailed to set spectrum attribute humidity using header OUTHUM\n"
     ]
    },
    {
     "data": {
      "text/html": [
       "<pre style=\"margin: 0.1em;\n",
       "padding-left: 0.25em;\n",
       "border-left-style: solid;\n",
       "font-family: var(--jp-code-font-family);\n",
       "font-size: var(--jp-code-font-size);\n",
       "line-height: var(--jp-code-line-height);\n",
       "\"><span style=\"color: var(--jp-warn-color2)\">Spectrum</span> <span style=\"color: var(--jp-warn-color0)\">WARNING</span>: \n",
       "\tFailed to set spectrum attribute humidity using header OUTHUM</pre>"
      ],
      "text/plain": [
       "<IPython.core.display.HTML object>"
      ]
     },
     "metadata": {},
     "output_type": "display_data"
    },
    {
     "name": "stderr",
     "output_type": "stream",
     "text": [
      "2024-01-15 14:58:53  Spectrum   load_spectrum_latest WARNING \n",
      "\tFailed to set spectrum attribute humidity using header OUTHUM\n"
     ]
    },
    {
     "data": {
      "text/html": [
       "<pre style=\"margin: 0.1em;\n",
       "padding-left: 0.25em;\n",
       "border-left-style: solid;\n",
       "font-family: var(--jp-code-font-family);\n",
       "font-size: var(--jp-code-font-size);\n",
       "line-height: var(--jp-code-line-height);\n",
       "\"><span style=\"color: var(--jp-warn-color2)\">Spectrum</span> <span style=\"color: var(--jp-warn-color0)\">WARNING</span>: \n",
       "\tFailed to set spectrum attribute humidity using header OUTHUM</pre>"
      ],
      "text/plain": [
       "<IPython.core.display.HTML object>"
      ]
     },
     "metadata": {},
     "output_type": "display_data"
    },
    {
     "name": "stderr",
     "output_type": "stream",
     "text": [
      "2024-01-15 14:58:53  Spectrum   load_spectrum_latest WARNING \n",
      "\tFailed to set spectrum attribute humidity using header OUTHUM\n"
     ]
    },
    {
     "data": {
      "text/html": [
       "<pre style=\"margin: 0.1em;\n",
       "padding-left: 0.25em;\n",
       "border-left-style: solid;\n",
       "font-family: var(--jp-code-font-family);\n",
       "font-size: var(--jp-code-font-size);\n",
       "line-height: var(--jp-code-line-height);\n",
       "\"><span style=\"color: var(--jp-warn-color2)\">Spectrum</span> <span style=\"color: var(--jp-warn-color0)\">WARNING</span>: \n",
       "\tFailed to set spectrum attribute humidity using header OUTHUM</pre>"
      ],
      "text/plain": [
       "<IPython.core.display.HTML object>"
      ]
     },
     "metadata": {},
     "output_type": "display_data"
    },
    {
     "name": "stderr",
     "output_type": "stream",
     "text": [
      "2024-01-15 14:58:54  Spectrum   load_spectrum_latest WARNING \n",
      "\tFailed to set spectrum attribute humidity using header OUTHUM\n"
     ]
    },
    {
     "data": {
      "text/html": [
       "<pre style=\"margin: 0.1em;\n",
       "padding-left: 0.25em;\n",
       "border-left-style: solid;\n",
       "font-family: var(--jp-code-font-family);\n",
       "font-size: var(--jp-code-font-size);\n",
       "line-height: var(--jp-code-line-height);\n",
       "\"><span style=\"color: var(--jp-warn-color2)\">Spectrum</span> <span style=\"color: var(--jp-warn-color0)\">WARNING</span>: \n",
       "\tFailed to set spectrum attribute humidity using header OUTHUM</pre>"
      ],
      "text/plain": [
       "<IPython.core.display.HTML object>"
      ]
     },
     "metadata": {},
     "output_type": "display_data"
    },
    {
     "name": "stderr",
     "output_type": "stream",
     "text": [
      "2024-01-15 14:58:54  Spectrum   load_spectrum_latest WARNING \n",
      "\tFailed to set spectrum attribute humidity using header OUTHUM\n"
     ]
    },
    {
     "data": {
      "text/html": [
       "<pre style=\"margin: 0.1em;\n",
       "padding-left: 0.25em;\n",
       "border-left-style: solid;\n",
       "font-family: var(--jp-code-font-family);\n",
       "font-size: var(--jp-code-font-size);\n",
       "line-height: var(--jp-code-line-height);\n",
       "\"><span style=\"color: var(--jp-warn-color2)\">Spectrum</span> <span style=\"color: var(--jp-warn-color0)\">WARNING</span>: \n",
       "\tFailed to set spectrum attribute humidity using header OUTHUM</pre>"
      ],
      "text/plain": [
       "<IPython.core.display.HTML object>"
      ]
     },
     "metadata": {},
     "output_type": "display_data"
    },
    {
     "name": "stderr",
     "output_type": "stream",
     "text": [
      "2024-01-15 14:58:54  Spectrum   load_spectrum_latest WARNING \n",
      "\tFailed to set spectrum attribute humidity using header OUTHUM\n"
     ]
    },
    {
     "data": {
      "text/html": [
       "<pre style=\"margin: 0.1em;\n",
       "padding-left: 0.25em;\n",
       "border-left-style: solid;\n",
       "font-family: var(--jp-code-font-family);\n",
       "font-size: var(--jp-code-font-size);\n",
       "line-height: var(--jp-code-line-height);\n",
       "\"><span style=\"color: var(--jp-warn-color2)\">Spectrum</span> <span style=\"color: var(--jp-warn-color0)\">WARNING</span>: \n",
       "\tFailed to set spectrum attribute humidity using header OUTHUM</pre>"
      ],
      "text/plain": [
       "<IPython.core.display.HTML object>"
      ]
     },
     "metadata": {},
     "output_type": "display_data"
    },
    {
     "name": "stderr",
     "output_type": "stream",
     "text": [
      "2024-01-15 14:58:54  Spectrum   load_spectrum_latest WARNING \n",
      "\tFailed to set spectrum attribute humidity using header OUTHUM\n"
     ]
    },
    {
     "data": {
      "text/html": [
       "<pre style=\"margin: 0.1em;\n",
       "padding-left: 0.25em;\n",
       "border-left-style: solid;\n",
       "font-family: var(--jp-code-font-family);\n",
       "font-size: var(--jp-code-font-size);\n",
       "line-height: var(--jp-code-line-height);\n",
       "\"><span style=\"color: var(--jp-warn-color2)\">Spectrum</span> <span style=\"color: var(--jp-warn-color0)\">WARNING</span>: \n",
       "\tFailed to set spectrum attribute humidity using header OUTHUM</pre>"
      ],
      "text/plain": [
       "<IPython.core.display.HTML object>"
      ]
     },
     "metadata": {},
     "output_type": "display_data"
    },
    {
     "name": "stderr",
     "output_type": "stream",
     "text": [
      "2024-01-15 14:58:55  Spectrum   load_spectrum_latest WARNING \n",
      "\tFailed to set spectrum attribute humidity using header OUTHUM\n"
     ]
    },
    {
     "data": {
      "text/html": [
       "<pre style=\"margin: 0.1em;\n",
       "padding-left: 0.25em;\n",
       "border-left-style: solid;\n",
       "font-family: var(--jp-code-font-family);\n",
       "font-size: var(--jp-code-font-size);\n",
       "line-height: var(--jp-code-line-height);\n",
       "\"><span style=\"color: var(--jp-warn-color2)\">Spectrum</span> <span style=\"color: var(--jp-warn-color0)\">WARNING</span>: \n",
       "\tFailed to set spectrum attribute humidity using header OUTHUM</pre>"
      ],
      "text/plain": [
       "<IPython.core.display.HTML object>"
      ]
     },
     "metadata": {},
     "output_type": "display_data"
    },
    {
     "name": "stderr",
     "output_type": "stream",
     "text": [
      "2024-01-15 14:58:55  Spectrum   load_spectrum_latest WARNING \n",
      "\tFailed to set spectrum attribute humidity using header OUTHUM\n"
     ]
    },
    {
     "data": {
      "text/html": [
       "<pre style=\"margin: 0.1em;\n",
       "padding-left: 0.25em;\n",
       "border-left-style: solid;\n",
       "font-family: var(--jp-code-font-family);\n",
       "font-size: var(--jp-code-font-size);\n",
       "line-height: var(--jp-code-line-height);\n",
       "\"><span style=\"color: var(--jp-warn-color2)\">Spectrum</span> <span style=\"color: var(--jp-warn-color0)\">WARNING</span>: \n",
       "\tFailed to set spectrum attribute humidity using header OUTHUM</pre>"
      ],
      "text/plain": [
       "<IPython.core.display.HTML object>"
      ]
     },
     "metadata": {},
     "output_type": "display_data"
    },
    {
     "name": "stderr",
     "output_type": "stream",
     "text": [
      "2024-01-15 14:58:55  Spectrum   load_spectrum_latest WARNING \n",
      "\tFailed to set spectrum attribute humidity using header OUTHUM\n"
     ]
    },
    {
     "data": {
      "text/html": [
       "<pre style=\"margin: 0.1em;\n",
       "padding-left: 0.25em;\n",
       "border-left-style: solid;\n",
       "font-family: var(--jp-code-font-family);\n",
       "font-size: var(--jp-code-font-size);\n",
       "line-height: var(--jp-code-line-height);\n",
       "\"><span style=\"color: var(--jp-warn-color2)\">Spectrum</span> <span style=\"color: var(--jp-warn-color0)\">WARNING</span>: \n",
       "\tFailed to set spectrum attribute humidity using header OUTHUM</pre>"
      ],
      "text/plain": [
       "<IPython.core.display.HTML object>"
      ]
     },
     "metadata": {},
     "output_type": "display_data"
    },
    {
     "name": "stderr",
     "output_type": "stream",
     "text": [
      "2024-01-15 14:58:55  Spectrum   load_spectrum_latest WARNING \n",
      "\tFailed to set spectrum attribute humidity using header OUTHUM\n"
     ]
    },
    {
     "data": {
      "text/html": [
       "<pre style=\"margin: 0.1em;\n",
       "padding-left: 0.25em;\n",
       "border-left-style: solid;\n",
       "font-family: var(--jp-code-font-family);\n",
       "font-size: var(--jp-code-font-size);\n",
       "line-height: var(--jp-code-line-height);\n",
       "\"><span style=\"color: var(--jp-warn-color2)\">Spectrum</span> <span style=\"color: var(--jp-warn-color0)\">WARNING</span>: \n",
       "\tFailed to set spectrum attribute humidity using header OUTHUM</pre>"
      ],
      "text/plain": [
       "<IPython.core.display.HTML object>"
      ]
     },
     "metadata": {},
     "output_type": "display_data"
    },
    {
     "name": "stderr",
     "output_type": "stream",
     "text": [
      "2024-01-15 14:58:55  Spectrum   load_spectrum_latest WARNING \n",
      "\tFailed to set spectrum attribute humidity using header OUTHUM\n"
     ]
    },
    {
     "data": {
      "text/html": [
       "<pre style=\"margin: 0.1em;\n",
       "padding-left: 0.25em;\n",
       "border-left-style: solid;\n",
       "font-family: var(--jp-code-font-family);\n",
       "font-size: var(--jp-code-font-size);\n",
       "line-height: var(--jp-code-line-height);\n",
       "\"><span style=\"color: var(--jp-warn-color2)\">Spectrum</span> <span style=\"color: var(--jp-warn-color0)\">WARNING</span>: \n",
       "\tFailed to set spectrum attribute humidity using header OUTHUM</pre>"
      ],
      "text/plain": [
       "<IPython.core.display.HTML object>"
      ]
     },
     "metadata": {},
     "output_type": "display_data"
    },
    {
     "name": "stderr",
     "output_type": "stream",
     "text": [
      "2024-01-15 14:58:56  Spectrum   load_spectrum_latest WARNING \n",
      "\tFailed to set spectrum attribute humidity using header OUTHUM\n"
     ]
    },
    {
     "data": {
      "text/html": [
       "<pre style=\"margin: 0.1em;\n",
       "padding-left: 0.25em;\n",
       "border-left-style: solid;\n",
       "font-family: var(--jp-code-font-family);\n",
       "font-size: var(--jp-code-font-size);\n",
       "line-height: var(--jp-code-line-height);\n",
       "\"><span style=\"color: var(--jp-warn-color2)\">Spectrum</span> <span style=\"color: var(--jp-warn-color0)\">WARNING</span>: \n",
       "\tFailed to set spectrum attribute humidity using header OUTHUM</pre>"
      ],
      "text/plain": [
       "<IPython.core.display.HTML object>"
      ]
     },
     "metadata": {},
     "output_type": "display_data"
    },
    {
     "name": "stderr",
     "output_type": "stream",
     "text": [
      "2024-01-15 14:58:56  Spectrum   load_spectrum_latest WARNING \n",
      "\tFailed to set spectrum attribute humidity using header OUTHUM\n"
     ]
    },
    {
     "data": {
      "text/html": [
       "<pre style=\"margin: 0.1em;\n",
       "padding-left: 0.25em;\n",
       "border-left-style: solid;\n",
       "font-family: var(--jp-code-font-family);\n",
       "font-size: var(--jp-code-font-size);\n",
       "line-height: var(--jp-code-line-height);\n",
       "\"><span style=\"color: var(--jp-warn-color2)\">Spectrum</span> <span style=\"color: var(--jp-warn-color0)\">WARNING</span>: \n",
       "\tFailed to set spectrum attribute humidity using header OUTHUM</pre>"
      ],
      "text/plain": [
       "<IPython.core.display.HTML object>"
      ]
     },
     "metadata": {},
     "output_type": "display_data"
    },
    {
     "name": "stderr",
     "output_type": "stream",
     "text": [
      "2024-01-15 14:58:56  Spectrum   load_spectrum_latest WARNING \n",
      "\tFailed to set spectrum attribute humidity using header OUTHUM\n"
     ]
    },
    {
     "data": {
      "text/html": [
       "<pre style=\"margin: 0.1em;\n",
       "padding-left: 0.25em;\n",
       "border-left-style: solid;\n",
       "font-family: var(--jp-code-font-family);\n",
       "font-size: var(--jp-code-font-size);\n",
       "line-height: var(--jp-code-line-height);\n",
       "\"><span style=\"color: var(--jp-warn-color2)\">Spectrum</span> <span style=\"color: var(--jp-warn-color0)\">WARNING</span>: \n",
       "\tFailed to set spectrum attribute humidity using header OUTHUM</pre>"
      ],
      "text/plain": [
       "<IPython.core.display.HTML object>"
      ]
     },
     "metadata": {},
     "output_type": "display_data"
    },
    {
     "name": "stderr",
     "output_type": "stream",
     "text": [
      "2024-01-15 14:58:56  Spectrum   load_spectrum_latest WARNING \n",
      "\tFailed to set spectrum attribute humidity using header OUTHUM\n"
     ]
    },
    {
     "data": {
      "text/html": [
       "<pre style=\"margin: 0.1em;\n",
       "padding-left: 0.25em;\n",
       "border-left-style: solid;\n",
       "font-family: var(--jp-code-font-family);\n",
       "font-size: var(--jp-code-font-size);\n",
       "line-height: var(--jp-code-line-height);\n",
       "\"><span style=\"color: var(--jp-warn-color2)\">Spectrum</span> <span style=\"color: var(--jp-warn-color0)\">WARNING</span>: \n",
       "\tFailed to set spectrum attribute humidity using header OUTHUM</pre>"
      ],
      "text/plain": [
       "<IPython.core.display.HTML object>"
      ]
     },
     "metadata": {},
     "output_type": "display_data"
    },
    {
     "name": "stderr",
     "output_type": "stream",
     "text": [
      "2024-01-15 14:58:57  Spectrum   load_spectrum_latest WARNING \n",
      "\tFailed to set spectrum attribute humidity using header OUTHUM\n"
     ]
    },
    {
     "data": {
      "text/html": [
       "<pre style=\"margin: 0.1em;\n",
       "padding-left: 0.25em;\n",
       "border-left-style: solid;\n",
       "font-family: var(--jp-code-font-family);\n",
       "font-size: var(--jp-code-font-size);\n",
       "line-height: var(--jp-code-line-height);\n",
       "\"><span style=\"color: var(--jp-warn-color2)\">Spectrum</span> <span style=\"color: var(--jp-warn-color0)\">WARNING</span>: \n",
       "\tFailed to set spectrum attribute humidity using header OUTHUM</pre>"
      ],
      "text/plain": [
       "<IPython.core.display.HTML object>"
      ]
     },
     "metadata": {},
     "output_type": "display_data"
    },
    {
     "name": "stderr",
     "output_type": "stream",
     "text": [
      "2024-01-15 14:58:57  Spectrum   load_spectrum_latest WARNING \n",
      "\tFailed to set spectrum attribute humidity using header OUTHUM\n"
     ]
    },
    {
     "data": {
      "text/html": [
       "<pre style=\"margin: 0.1em;\n",
       "padding-left: 0.25em;\n",
       "border-left-style: solid;\n",
       "font-family: var(--jp-code-font-family);\n",
       "font-size: var(--jp-code-font-size);\n",
       "line-height: var(--jp-code-line-height);\n",
       "\"><span style=\"color: var(--jp-warn-color2)\">Spectrum</span> <span style=\"color: var(--jp-warn-color0)\">WARNING</span>: \n",
       "\tFailed to set spectrum attribute humidity using header OUTHUM</pre>"
      ],
      "text/plain": [
       "<IPython.core.display.HTML object>"
      ]
     },
     "metadata": {},
     "output_type": "display_data"
    },
    {
     "name": "stderr",
     "output_type": "stream",
     "text": [
      "2024-01-15 14:58:57  Spectrum   load_spectrum_latest WARNING \n",
      "\tFailed to set spectrum attribute humidity using header OUTHUM\n"
     ]
    },
    {
     "data": {
      "text/html": [
       "<pre style=\"margin: 0.1em;\n",
       "padding-left: 0.25em;\n",
       "border-left-style: solid;\n",
       "font-family: var(--jp-code-font-family);\n",
       "font-size: var(--jp-code-font-size);\n",
       "line-height: var(--jp-code-line-height);\n",
       "\"><span style=\"color: var(--jp-warn-color2)\">Spectrum</span> <span style=\"color: var(--jp-warn-color0)\">WARNING</span>: \n",
       "\tFailed to set spectrum attribute humidity using header OUTHUM</pre>"
      ],
      "text/plain": [
       "<IPython.core.display.HTML object>"
      ]
     },
     "metadata": {},
     "output_type": "display_data"
    },
    {
     "name": "stderr",
     "output_type": "stream",
     "text": [
      "2024-01-15 14:58:58  Spectrum   load_spectrum_latest WARNING \n",
      "\tFailed to set spectrum attribute humidity using header OUTHUM\n"
     ]
    },
    {
     "data": {
      "text/html": [
       "<pre style=\"margin: 0.1em;\n",
       "padding-left: 0.25em;\n",
       "border-left-style: solid;\n",
       "font-family: var(--jp-code-font-family);\n",
       "font-size: var(--jp-code-font-size);\n",
       "line-height: var(--jp-code-line-height);\n",
       "\"><span style=\"color: var(--jp-warn-color2)\">Spectrum</span> <span style=\"color: var(--jp-warn-color0)\">WARNING</span>: \n",
       "\tFailed to set spectrum attribute humidity using header OUTHUM</pre>"
      ],
      "text/plain": [
       "<IPython.core.display.HTML object>"
      ]
     },
     "metadata": {},
     "output_type": "display_data"
    },
    {
     "name": "stderr",
     "output_type": "stream",
     "text": [
      "2024-01-15 14:58:58  Spectrum   load_spectrum_latest WARNING \n",
      "\tFailed to set spectrum attribute humidity using header OUTHUM\n"
     ]
    },
    {
     "data": {
      "text/html": [
       "<pre style=\"margin: 0.1em;\n",
       "padding-left: 0.25em;\n",
       "border-left-style: solid;\n",
       "font-family: var(--jp-code-font-family);\n",
       "font-size: var(--jp-code-font-size);\n",
       "line-height: var(--jp-code-line-height);\n",
       "\"><span style=\"color: var(--jp-warn-color2)\">Spectrum</span> <span style=\"color: var(--jp-warn-color0)\">WARNING</span>: \n",
       "\tFailed to set spectrum attribute humidity using header OUTHUM</pre>"
      ],
      "text/plain": [
       "<IPython.core.display.HTML object>"
      ]
     },
     "metadata": {},
     "output_type": "display_data"
    },
    {
     "name": "stderr",
     "output_type": "stream",
     "text": [
      "2024-01-15 14:58:58  Spectrum   load_spectrum_latest WARNING \n",
      "\tFailed to set spectrum attribute humidity using header OUTHUM\n"
     ]
    },
    {
     "data": {
      "text/html": [
       "<pre style=\"margin: 0.1em;\n",
       "padding-left: 0.25em;\n",
       "border-left-style: solid;\n",
       "font-family: var(--jp-code-font-family);\n",
       "font-size: var(--jp-code-font-size);\n",
       "line-height: var(--jp-code-line-height);\n",
       "\"><span style=\"color: var(--jp-warn-color2)\">Spectrum</span> <span style=\"color: var(--jp-warn-color0)\">WARNING</span>: \n",
       "\tFailed to set spectrum attribute humidity using header OUTHUM</pre>"
      ],
      "text/plain": [
       "<IPython.core.display.HTML object>"
      ]
     },
     "metadata": {},
     "output_type": "display_data"
    },
    {
     "name": "stderr",
     "output_type": "stream",
     "text": [
      "2024-01-15 14:58:58  Spectrum   load_spectrum_latest WARNING \n",
      "\tFailed to set spectrum attribute humidity using header OUTHUM\n"
     ]
    },
    {
     "data": {
      "text/html": [
       "<pre style=\"margin: 0.1em;\n",
       "padding-left: 0.25em;\n",
       "border-left-style: solid;\n",
       "font-family: var(--jp-code-font-family);\n",
       "font-size: var(--jp-code-font-size);\n",
       "line-height: var(--jp-code-line-height);\n",
       "\"><span style=\"color: var(--jp-warn-color2)\">Spectrum</span> <span style=\"color: var(--jp-warn-color0)\">WARNING</span>: \n",
       "\tFailed to set spectrum attribute humidity using header OUTHUM</pre>"
      ],
      "text/plain": [
       "<IPython.core.display.HTML object>"
      ]
     },
     "metadata": {},
     "output_type": "display_data"
    },
    {
     "name": "stderr",
     "output_type": "stream",
     "text": [
      "2024-01-15 14:58:59  Spectrum   load_spectrum_latest WARNING \n",
      "\tFailed to set spectrum attribute humidity using header OUTHUM\n"
     ]
    },
    {
     "data": {
      "text/html": [
       "<pre style=\"margin: 0.1em;\n",
       "padding-left: 0.25em;\n",
       "border-left-style: solid;\n",
       "font-family: var(--jp-code-font-family);\n",
       "font-size: var(--jp-code-font-size);\n",
       "line-height: var(--jp-code-line-height);\n",
       "\"><span style=\"color: var(--jp-warn-color2)\">Spectrum</span> <span style=\"color: var(--jp-warn-color0)\">WARNING</span>: \n",
       "\tFailed to set spectrum attribute humidity using header OUTHUM</pre>"
      ],
      "text/plain": [
       "<IPython.core.display.HTML object>"
      ]
     },
     "metadata": {},
     "output_type": "display_data"
    },
    {
     "name": "stderr",
     "output_type": "stream",
     "text": [
      "2024-01-15 14:58:59  Spectrum   load_spectrum_latest WARNING \n",
      "\tFailed to set spectrum attribute humidity using header OUTHUM\n"
     ]
    },
    {
     "data": {
      "text/html": [
       "<pre style=\"margin: 0.1em;\n",
       "padding-left: 0.25em;\n",
       "border-left-style: solid;\n",
       "font-family: var(--jp-code-font-family);\n",
       "font-size: var(--jp-code-font-size);\n",
       "line-height: var(--jp-code-line-height);\n",
       "\"><span style=\"color: var(--jp-warn-color2)\">Spectrum</span> <span style=\"color: var(--jp-warn-color0)\">WARNING</span>: \n",
       "\tFailed to set spectrum attribute humidity using header OUTHUM</pre>"
      ],
      "text/plain": [
       "<IPython.core.display.HTML object>"
      ]
     },
     "metadata": {},
     "output_type": "display_data"
    },
    {
     "name": "stderr",
     "output_type": "stream",
     "text": [
      "2024-01-15 14:58:59  Spectrum   load_spectrum_latest WARNING \n",
      "\tFailed to set spectrum attribute humidity using header OUTHUM\n"
     ]
    },
    {
     "data": {
      "text/html": [
       "<pre style=\"margin: 0.1em;\n",
       "padding-left: 0.25em;\n",
       "border-left-style: solid;\n",
       "font-family: var(--jp-code-font-family);\n",
       "font-size: var(--jp-code-font-size);\n",
       "line-height: var(--jp-code-line-height);\n",
       "\"><span style=\"color: var(--jp-warn-color2)\">Spectrum</span> <span style=\"color: var(--jp-warn-color0)\">WARNING</span>: \n",
       "\tFailed to set spectrum attribute humidity using header OUTHUM</pre>"
      ],
      "text/plain": [
       "<IPython.core.display.HTML object>"
      ]
     },
     "metadata": {},
     "output_type": "display_data"
    },
    {
     "name": "stderr",
     "output_type": "stream",
     "text": [
      "2024-01-15 14:58:59  Spectrum   load_spectrum_latest WARNING \n",
      "\tFailed to set spectrum attribute humidity using header OUTHUM\n"
     ]
    },
    {
     "data": {
      "text/html": [
       "<pre style=\"margin: 0.1em;\n",
       "padding-left: 0.25em;\n",
       "border-left-style: solid;\n",
       "font-family: var(--jp-code-font-family);\n",
       "font-size: var(--jp-code-font-size);\n",
       "line-height: var(--jp-code-line-height);\n",
       "\"><span style=\"color: var(--jp-warn-color2)\">Spectrum</span> <span style=\"color: var(--jp-warn-color0)\">WARNING</span>: \n",
       "\tFailed to set spectrum attribute humidity using header OUTHUM</pre>"
      ],
      "text/plain": [
       "<IPython.core.display.HTML object>"
      ]
     },
     "metadata": {},
     "output_type": "display_data"
    },
    {
     "name": "stderr",
     "output_type": "stream",
     "text": [
      "2024-01-15 14:59:00  Spectrum   load_spectrum_latest WARNING \n",
      "\tFailed to set spectrum attribute humidity using header OUTHUM\n"
     ]
    },
    {
     "data": {
      "text/html": [
       "<pre style=\"margin: 0.1em;\n",
       "padding-left: 0.25em;\n",
       "border-left-style: solid;\n",
       "font-family: var(--jp-code-font-family);\n",
       "font-size: var(--jp-code-font-size);\n",
       "line-height: var(--jp-code-line-height);\n",
       "\"><span style=\"color: var(--jp-warn-color2)\">Spectrum</span> <span style=\"color: var(--jp-warn-color0)\">WARNING</span>: \n",
       "\tFailed to set spectrum attribute humidity using header OUTHUM</pre>"
      ],
      "text/plain": [
       "<IPython.core.display.HTML object>"
      ]
     },
     "metadata": {},
     "output_type": "display_data"
    },
    {
     "name": "stderr",
     "output_type": "stream",
     "text": [
      "2024-01-15 14:59:00  Spectrum   load_spectrum_latest WARNING \n",
      "\tFailed to set spectrum attribute humidity using header OUTHUM\n"
     ]
    },
    {
     "data": {
      "text/html": [
       "<pre style=\"margin: 0.1em;\n",
       "padding-left: 0.25em;\n",
       "border-left-style: solid;\n",
       "font-family: var(--jp-code-font-family);\n",
       "font-size: var(--jp-code-font-size);\n",
       "line-height: var(--jp-code-line-height);\n",
       "\"><span style=\"color: var(--jp-warn-color2)\">Spectrum</span> <span style=\"color: var(--jp-warn-color0)\">WARNING</span>: \n",
       "\tFailed to set spectrum attribute humidity using header OUTHUM</pre>"
      ],
      "text/plain": [
       "<IPython.core.display.HTML object>"
      ]
     },
     "metadata": {},
     "output_type": "display_data"
    },
    {
     "name": "stderr",
     "output_type": "stream",
     "text": [
      "2024-01-15 14:59:00  Spectrum   load_spectrum_latest WARNING \n",
      "\tFailed to set spectrum attribute humidity using header OUTHUM\n"
     ]
    },
    {
     "data": {
      "text/html": [
       "<pre style=\"margin: 0.1em;\n",
       "padding-left: 0.25em;\n",
       "border-left-style: solid;\n",
       "font-family: var(--jp-code-font-family);\n",
       "font-size: var(--jp-code-font-size);\n",
       "line-height: var(--jp-code-line-height);\n",
       "\"><span style=\"color: var(--jp-warn-color2)\">Spectrum</span> <span style=\"color: var(--jp-warn-color0)\">WARNING</span>: \n",
       "\tFailed to set spectrum attribute humidity using header OUTHUM</pre>"
      ],
      "text/plain": [
       "<IPython.core.display.HTML object>"
      ]
     },
     "metadata": {},
     "output_type": "display_data"
    },
    {
     "name": "stderr",
     "output_type": "stream",
     "text": [
      "2024-01-15 14:59:00  Spectrum   load_spectrum_latest WARNING \n",
      "\tFailed to set spectrum attribute humidity using header OUTHUM\n"
     ]
    },
    {
     "data": {
      "text/html": [
       "<pre style=\"margin: 0.1em;\n",
       "padding-left: 0.25em;\n",
       "border-left-style: solid;\n",
       "font-family: var(--jp-code-font-family);\n",
       "font-size: var(--jp-code-font-size);\n",
       "line-height: var(--jp-code-line-height);\n",
       "\"><span style=\"color: var(--jp-warn-color2)\">Spectrum</span> <span style=\"color: var(--jp-warn-color0)\">WARNING</span>: \n",
       "\tFailed to set spectrum attribute humidity using header OUTHUM</pre>"
      ],
      "text/plain": [
       "<IPython.core.display.HTML object>"
      ]
     },
     "metadata": {},
     "output_type": "display_data"
    },
    {
     "name": "stderr",
     "output_type": "stream",
     "text": [
      "2024-01-15 14:59:01  Spectrum   load_spectrum_latest WARNING \n",
      "\tFailed to set spectrum attribute humidity using header OUTHUM\n"
     ]
    },
    {
     "data": {
      "text/html": [
       "<pre style=\"margin: 0.1em;\n",
       "padding-left: 0.25em;\n",
       "border-left-style: solid;\n",
       "font-family: var(--jp-code-font-family);\n",
       "font-size: var(--jp-code-font-size);\n",
       "line-height: var(--jp-code-line-height);\n",
       "\"><span style=\"color: var(--jp-warn-color2)\">Spectrum</span> <span style=\"color: var(--jp-warn-color0)\">WARNING</span>: \n",
       "\tFailed to set spectrum attribute humidity using header OUTHUM</pre>"
      ],
      "text/plain": [
       "<IPython.core.display.HTML object>"
      ]
     },
     "metadata": {},
     "output_type": "display_data"
    },
    {
     "name": "stderr",
     "output_type": "stream",
     "text": [
      "2024-01-15 14:59:01  Spectrum   load_spectrum_latest WARNING \n",
      "\tFailed to set spectrum attribute humidity using header OUTHUM\n"
     ]
    },
    {
     "data": {
      "text/html": [
       "<pre style=\"margin: 0.1em;\n",
       "padding-left: 0.25em;\n",
       "border-left-style: solid;\n",
       "font-family: var(--jp-code-font-family);\n",
       "font-size: var(--jp-code-font-size);\n",
       "line-height: var(--jp-code-line-height);\n",
       "\"><span style=\"color: var(--jp-warn-color2)\">Spectrum</span> <span style=\"color: var(--jp-warn-color0)\">WARNING</span>: \n",
       "\tFailed to set spectrum attribute humidity using header OUTHUM</pre>"
      ],
      "text/plain": [
       "<IPython.core.display.HTML object>"
      ]
     },
     "metadata": {},
     "output_type": "display_data"
    },
    {
     "name": "stderr",
     "output_type": "stream",
     "text": [
      "2024-01-15 14:59:01  Spectrum   load_spectrum_latest WARNING \n",
      "\tFailed to set spectrum attribute humidity using header OUTHUM\n"
     ]
    },
    {
     "data": {
      "text/html": [
       "<pre style=\"margin: 0.1em;\n",
       "padding-left: 0.25em;\n",
       "border-left-style: solid;\n",
       "font-family: var(--jp-code-font-family);\n",
       "font-size: var(--jp-code-font-size);\n",
       "line-height: var(--jp-code-line-height);\n",
       "\"><span style=\"color: var(--jp-warn-color2)\">Spectrum</span> <span style=\"color: var(--jp-warn-color0)\">WARNING</span>: \n",
       "\tFailed to set spectrum attribute humidity using header OUTHUM</pre>"
      ],
      "text/plain": [
       "<IPython.core.display.HTML object>"
      ]
     },
     "metadata": {},
     "output_type": "display_data"
    },
    {
     "name": "stderr",
     "output_type": "stream",
     "text": [
      "2024-01-15 14:59:01  Spectrum   load_spectrum_latest WARNING \n",
      "\tFailed to set spectrum attribute humidity using header OUTHUM\n"
     ]
    },
    {
     "data": {
      "text/html": [
       "<pre style=\"margin: 0.1em;\n",
       "padding-left: 0.25em;\n",
       "border-left-style: solid;\n",
       "font-family: var(--jp-code-font-family);\n",
       "font-size: var(--jp-code-font-size);\n",
       "line-height: var(--jp-code-line-height);\n",
       "\"><span style=\"color: var(--jp-warn-color2)\">Spectrum</span> <span style=\"color: var(--jp-warn-color0)\">WARNING</span>: \n",
       "\tFailed to set spectrum attribute humidity using header OUTHUM</pre>"
      ],
      "text/plain": [
       "<IPython.core.display.HTML object>"
      ]
     },
     "metadata": {},
     "output_type": "display_data"
    },
    {
     "name": "stderr",
     "output_type": "stream",
     "text": [
      "2024-01-15 14:59:02  Spectrum   load_spectrum_latest WARNING \n",
      "\tFailed to set spectrum attribute humidity using header OUTHUM\n"
     ]
    }
   ],
   "source": [
    "all_filtered_spectra = []\n",
    "\n",
    "for idx,DATEOBS in enumerate(ALL_DATEOBS):\n",
    "    records = all_records[idx]\n",
    "    spectra_filtered = filter_data(butler,my_collection,DATEOBS,records)\n",
    "    all_filtered_spectra.append(spectra_filtered)\n",
    "    "
   ]
  },
  {
   "cell_type": "markdown",
   "id": "8d25e6ae-14cd-499e-9ea4-81ca11d63842",
   "metadata": {},
   "source": [
    "## Information from atmospheric fits"
   ]
  },
  {
   "cell_type": "code",
   "execution_count": 32,
   "id": "44a4ebb6-c4c4-448b-9a84-bf0ad5b8ca64",
   "metadata": {
    "execution": {
     "iopub.execute_input": "2024-01-15T15:00:33.715292Z",
     "iopub.status.busy": "2024-01-15T15:00:33.715157Z",
     "iopub.status.idle": "2024-01-15T15:00:33.717554Z",
     "shell.execute_reply": "2024-01-15T15:00:33.717156Z",
     "shell.execute_reply.started": "2024-01-15T15:00:33.715279Z"
    }
   },
   "outputs": [],
   "source": [
    "headers = all_headers[0]"
   ]
  },
  {
   "cell_type": "code",
   "execution_count": 33,
   "id": "76d75c9d-7370-4f5d-a845-8dc8d747f59c",
   "metadata": {
    "execution": {
     "iopub.execute_input": "2024-01-15T15:00:33.718245Z",
     "iopub.status.busy": "2024-01-15T15:00:33.718108Z",
     "iopub.status.idle": "2024-01-15T15:00:33.723375Z",
     "shell.execute_reply": "2024-01-15T15:00:33.723028Z",
     "shell.execute_reply.started": "2024-01-15T15:00:33.718233Z"
    }
   },
   "outputs": [],
   "source": [
    "columns_spectrum = [\"id\"]\n",
    "\n",
    "for h in headers[0]:\n",
    "    if \"COMMENT\" in h or \"EXTNAME\" in h: continue\n",
    "    if \"LBDAS_T\" in h or \"PSF_P_T\" in h or \"AMPLIS_T\" in h: continue\n",
    "    if \"UNIT\" in h: continue\n",
    "    if \"SIMPLE\" in h: continue\n",
    "    columns_spectrum.append(h)\n",
    " \n",
    "columns_spectrogram_bestfit = []\n",
    "for key in params_spectrogram[0].labels:\n",
    "    columns_spectrogram_bestfit.append(key)\n",
    "    columns_spectrogram_bestfit.append(key+\"_err\")\n",
    "\n",
    "columns_spectrum_bestfit = []\n",
    "for key in params_spectrum[0].labels:\n",
    "    columns_spectrum_bestfit.append(key)\n",
    "    columns_spectrum_bestfit.append(key+\"_err\")"
   ]
  },
  {
   "cell_type": "code",
   "execution_count": 34,
   "id": "8c266d30-9dec-43ab-abb2-70953119eaac",
   "metadata": {
    "execution": {
     "iopub.execute_input": "2024-01-15T15:00:33.723911Z",
     "iopub.status.busy": "2024-01-15T15:00:33.723795Z",
     "iopub.status.idle": "2024-01-15T15:00:33.728370Z",
     "shell.execute_reply": "2024-01-15T15:00:33.728017Z",
     "shell.execute_reply.started": "2024-01-15T15:00:33.723900Z"
    }
   },
   "outputs": [
    {
     "name": "stdout",
     "output_type": "stream",
     "text": [
      "['id', 'BITPIX', 'NAXIS', 'NAXIS1', 'NAXIS2', 'EXTEND', 'TARGET', 'REDSHIFT', 'GRATING', 'ROTANGLE', 'D2CCD', 'LSHIFT', 'PARANGLE', 'TARGETX', 'TARGETY', 'LBDA_REF', 'PSF_REG', 'TRACE_R', 'MEANFWHM', 'PIXSHIFT', 'CHI2_FIT', 'A2_FIT', 'AM_FIT', 'VERSION', 'REBIN', 'CONFIG', 'DATE-OBS', 'EXPTIME', 'AIRMASS', 'DEC', 'HA', 'OUTTEMP', 'OUTPRESS', 'OUTHUM', 'FILTER', 'CAM_ROT', 'S_X0', 'S_Y0', 'S_XMIN', 'S_XMAX', 'S_YMIN', 'S_YMAX', 'S_NX', 'S_NY', 'S_DEG', 'S_SAT', 'S_ORDER']\n"
     ]
    }
   ],
   "source": [
    "print(columns_spectrum)"
   ]
  },
  {
   "cell_type": "code",
   "execution_count": 35,
   "id": "15e86e74-7dc7-4df4-aca2-4297c83d3c9c",
   "metadata": {
    "execution": {
     "iopub.execute_input": "2024-01-15T15:00:33.728905Z",
     "iopub.status.busy": "2024-01-15T15:00:33.728792Z",
     "iopub.status.idle": "2024-01-15T15:00:33.732854Z",
     "shell.execute_reply": "2024-01-15T15:00:33.732493Z",
     "shell.execute_reply.started": "2024-01-15T15:00:33.728894Z"
    }
   },
   "outputs": [
    {
     "name": "stdout",
     "output_type": "stream",
     "text": [
      "['A1', 'A1_err', 'A2', 'A2_err', 'A3', 'A3_err', 'VAOD', 'VAOD_err', 'angstrom_exp', 'angstrom_exp_err', 'ozone [db]', 'ozone [db]_err', 'PWV [mm]', 'PWV [mm]_err', 'D_CCD [mm]', 'D_CCD [mm]_err', 'shift_x [pix]', 'shift_x [pix]_err', 'shift_y [pix]', 'shift_y [pix]_err', 'angle [deg]', 'angle [deg]_err', 'B', 'B_err', 'x_c_0_1', 'x_c_0_1_err', 'x_c_1_1', 'x_c_1_1_err', 'x_c_2_1', 'x_c_2_1_err', 'y_c_0_1', 'y_c_0_1_err', 'y_c_1_1', 'y_c_1_1_err', 'y_c_2_1', 'y_c_2_1_err', 'gamma_0_1', 'gamma_0_1_err', 'gamma_1_1', 'gamma_1_1_err', 'gamma_2_1', 'gamma_2_1_err', 'alpha_0_1', 'alpha_0_1_err', 'alpha_1_1', 'alpha_1_1_err', 'alpha_2_1', 'alpha_2_1_err', 'saturation_0_1', 'saturation_0_1_err', 'x_c_0_2', 'x_c_0_2_err', 'x_c_1_2', 'x_c_1_2_err', 'x_c_2_2', 'x_c_2_2_err', 'y_c_0_2', 'y_c_0_2_err', 'y_c_1_2', 'y_c_1_2_err', 'y_c_2_2', 'y_c_2_2_err', 'gamma_0_2', 'gamma_0_2_err', 'gamma_1_2', 'gamma_1_2_err', 'gamma_2_2', 'gamma_2_2_err', 'alpha_0_2', 'alpha_0_2_err', 'alpha_1_2', 'alpha_1_2_err', 'alpha_2_2', 'alpha_2_2_err', 'saturation_0_2', 'saturation_0_2_err', 'x_c_0_3', 'x_c_0_3_err', 'x_c_1_3', 'x_c_1_3_err', 'x_c_2_3', 'x_c_2_3_err', 'y_c_0_3', 'y_c_0_3_err', 'y_c_1_3', 'y_c_1_3_err', 'y_c_2_3', 'y_c_2_3_err', 'gamma_0_3', 'gamma_0_3_err', 'gamma_1_3', 'gamma_1_3_err', 'gamma_2_3', 'gamma_2_3_err', 'alpha_0_3', 'alpha_0_3_err', 'alpha_1_3', 'alpha_1_3_err', 'alpha_2_3', 'alpha_2_3_err', 'saturation_0_3', 'saturation_0_3_err']\n"
     ]
    }
   ],
   "source": [
    "print(columns_spectrogram_bestfit)"
   ]
  },
  {
   "cell_type": "code",
   "execution_count": 36,
   "id": "f84ed534-22aa-4453-9491-b95159c26992",
   "metadata": {
    "execution": {
     "iopub.execute_input": "2024-01-15T15:00:33.733411Z",
     "iopub.status.busy": "2024-01-15T15:00:33.733295Z",
     "iopub.status.idle": "2024-01-15T15:00:33.735670Z",
     "shell.execute_reply": "2024-01-15T15:00:33.735327Z",
     "shell.execute_reply.started": "2024-01-15T15:00:33.733400Z"
    }
   },
   "outputs": [
    {
     "name": "stdout",
     "output_type": "stream",
     "text": [
      "['A1', 'A1_err', 'A2', 'A2_err', 'VAOD', 'VAOD_err', 'angstrom_exp', 'angstrom_exp_err', 'ozone [db]', 'ozone [db]_err', 'PWV [mm]', 'PWV [mm]_err', 'reso [pix]', 'reso [pix]_err', 'D_CCD [mm]', 'D_CCD [mm]_err', 'alpha_pix [pix]', 'alpha_pix [pix]_err', 'B', 'B_err']\n"
     ]
    }
   ],
   "source": [
    "print(columns_spectrum_bestfit)"
   ]
  },
  {
   "cell_type": "markdown",
   "id": "cc992576-24f8-485e-9295-1e038d646a67",
   "metadata": {},
   "source": [
    "## Merge dataframes of general paramters and fitted params"
   ]
  },
  {
   "cell_type": "code",
   "execution_count": 37,
   "id": "a1771663-5bae-44d5-84f0-7ab74a9e3b81",
   "metadata": {
    "execution": {
     "iopub.execute_input": "2024-01-15T15:00:33.736201Z",
     "iopub.status.busy": "2024-01-15T15:00:33.736091Z",
     "iopub.status.idle": "2024-01-15T15:00:39.291435Z",
     "shell.execute_reply": "2024-01-15T15:00:39.291022Z",
     "shell.execute_reply.started": "2024-01-15T15:00:33.736191Z"
    }
   },
   "outputs": [],
   "source": [
    "all_df = []\n",
    "\n",
    "for idx,DATEOBS in enumerate(ALL_DATEOBS):\n",
    "  \n",
    "    records = all_records[idx]\n",
    "    headers = all_headers[idx]\n",
    "    params_spectrogram = all_params_spectrogram[idx]\n",
    "    params_spectrum = all_params_spectrum[idx]\n",
    "   \n",
    "    min_index = 0\n",
    "    max_index = np.inf\n",
    "\n",
    "    # General parameters\n",
    "    df1 = pd.DataFrame(columns=columns_spectrum)\n",
    "    for k, header in enumerate(headers):\n",
    "        # if k > 40: break\n",
    "        n = records[k].id\n",
    "        if n < min_index or n > max_index: continue\n",
    "        row = {\"id\": n}\n",
    "        for h in header:\n",
    "            if h in columns_spectrum:\n",
    "                row[h] = header[h]\n",
    "        df1.loc[len(df1)] = row\n",
    "\n",
    "\n",
    "    # fitted parameters in Spectrogram\n",
    "    df2 = pd.DataFrame(columns=columns_spectrogram_bestfit)\n",
    "    for k, p in enumerate(params_spectrogram):\n",
    "        n = records[k].id\n",
    "        if n < min_index or n > max_index: continue\n",
    "        row = {\"id\": n}\n",
    "        for i, key in enumerate(p.labels):\n",
    "            row[key] = p.values[i]\n",
    "            row[key+\"_err\"] = p.err[i]\n",
    "        df2.loc[len(df2)] = row\n",
    "\n",
    "    # fitted parameters in Spectrum\n",
    "    df3 = pd.DataFrame(columns=columns_spectrum_bestfit)\n",
    "    for k, p in enumerate(params_spectrum):\n",
    "        n = records[k].id\n",
    "        if n < min_index or n > max_index: continue\n",
    "        row = {\"id\": n}\n",
    "        for i, key in enumerate(p.labels):\n",
    "            row[key] = p.values[i]\n",
    "            row[key+\"_err\"] = p.err[i]\n",
    "        df3.loc[len(df3)] = row\n",
    "\n",
    "    df = pd.merge(df1, df2, left_index=True, right_index=True)\n",
    "    df = pd.merge(df, df3, left_index=True, right_index=True)\n",
    "    df.set_index('DATE-OBS', inplace=True)\n",
    "    #df.index = pd.to_datetime(df.index, format=\"ISO8601\") #['DATE-OBS'])\n",
    "    df.index = pd.to_datetime(df.index) #['DATE-OBS'])\n",
    "    df.sort_index(inplace=True)\n",
    "\n",
    "    all_df.append(df)\n",
    "            "
   ]
  },
  {
   "cell_type": "code",
   "execution_count": 38,
   "id": "53221815-f31b-4135-bce7-bd82433d6f38",
   "metadata": {
    "execution": {
     "iopub.execute_input": "2024-01-15T15:00:39.292146Z",
     "iopub.status.busy": "2024-01-15T15:00:39.292018Z",
     "iopub.status.idle": "2024-01-15T15:00:39.307212Z",
     "shell.execute_reply": "2024-01-15T15:00:39.306868Z",
     "shell.execute_reply.started": "2024-01-15T15:00:39.292134Z"
    }
   },
   "outputs": [
    {
     "data": {
      "text/html": [
       "<div>\n",
       "<style scoped>\n",
       "    .dataframe tbody tr th:only-of-type {\n",
       "        vertical-align: middle;\n",
       "    }\n",
       "\n",
       "    .dataframe tbody tr th {\n",
       "        vertical-align: top;\n",
       "    }\n",
       "\n",
       "    .dataframe thead th {\n",
       "        text-align: right;\n",
       "    }\n",
       "</style>\n",
       "<table border=\"1\" class=\"dataframe\">\n",
       "  <thead>\n",
       "    <tr style=\"text-align: right;\">\n",
       "      <th></th>\n",
       "      <th>id</th>\n",
       "      <th>BITPIX</th>\n",
       "      <th>NAXIS</th>\n",
       "      <th>NAXIS1</th>\n",
       "      <th>NAXIS2</th>\n",
       "      <th>EXTEND</th>\n",
       "      <th>TARGET</th>\n",
       "      <th>REDSHIFT</th>\n",
       "      <th>GRATING</th>\n",
       "      <th>ROTANGLE</th>\n",
       "      <th>...</th>\n",
       "      <th>PWV [mm]_y</th>\n",
       "      <th>PWV [mm]_err_y</th>\n",
       "      <th>reso [pix]</th>\n",
       "      <th>reso [pix]_err</th>\n",
       "      <th>D_CCD [mm]_y</th>\n",
       "      <th>D_CCD [mm]_err_y</th>\n",
       "      <th>alpha_pix [pix]</th>\n",
       "      <th>alpha_pix [pix]_err</th>\n",
       "      <th>B_y</th>\n",
       "      <th>B_err_y</th>\n",
       "    </tr>\n",
       "    <tr>\n",
       "      <th>DATE-OBS</th>\n",
       "      <th></th>\n",
       "      <th></th>\n",
       "      <th></th>\n",
       "      <th></th>\n",
       "      <th></th>\n",
       "      <th></th>\n",
       "      <th></th>\n",
       "      <th></th>\n",
       "      <th></th>\n",
       "      <th></th>\n",
       "      <th></th>\n",
       "      <th></th>\n",
       "      <th></th>\n",
       "      <th></th>\n",
       "      <th></th>\n",
       "      <th></th>\n",
       "      <th></th>\n",
       "      <th></th>\n",
       "      <th></th>\n",
       "      <th></th>\n",
       "      <th></th>\n",
       "    </tr>\n",
       "  </thead>\n",
       "  <tbody>\n",
       "    <tr>\n",
       "      <th>2023-11-21 01:37:13.904502514+00:00</th>\n",
       "      <td>2023112000082</td>\n",
       "      <td>-64</td>\n",
       "      <td>2</td>\n",
       "      <td>1067</td>\n",
       "      <td>3</td>\n",
       "      <td>True</td>\n",
       "      <td>HD2811</td>\n",
       "      <td>0.000000</td>\n",
       "      <td>holo4_003</td>\n",
       "      <td>0.179791</td>\n",
       "      <td>...</td>\n",
       "      <td>2.698822</td>\n",
       "      <td>0.044086</td>\n",
       "      <td>2.663446</td>\n",
       "      <td>0.036957</td>\n",
       "      <td>186.994145</td>\n",
       "      <td>0.008052</td>\n",
       "      <td>0.898345</td>\n",
       "      <td>0.0</td>\n",
       "      <td>0.0</td>\n",
       "      <td>0.0</td>\n",
       "    </tr>\n",
       "    <tr>\n",
       "      <th>2023-11-21 01:38:26.888507769+00:00</th>\n",
       "      <td>2023112000083</td>\n",
       "      <td>-64</td>\n",
       "      <td>2</td>\n",
       "      <td>1067</td>\n",
       "      <td>3</td>\n",
       "      <td>True</td>\n",
       "      <td>HD2811</td>\n",
       "      <td>0.000000</td>\n",
       "      <td>holo4_003</td>\n",
       "      <td>0.181668</td>\n",
       "      <td>...</td>\n",
       "      <td>4.950558</td>\n",
       "      <td>0.549198</td>\n",
       "      <td>1.017169</td>\n",
       "      <td>0.056849</td>\n",
       "      <td>187.039905</td>\n",
       "      <td>0.010219</td>\n",
       "      <td>1.049769</td>\n",
       "      <td>0.0</td>\n",
       "      <td>0.0</td>\n",
       "      <td>0.0</td>\n",
       "    </tr>\n",
       "    <tr>\n",
       "      <th>2023-11-21 01:46:31.731505173+00:00</th>\n",
       "      <td>2023112000089</td>\n",
       "      <td>-64</td>\n",
       "      <td>2</td>\n",
       "      <td>1066</td>\n",
       "      <td>3</td>\n",
       "      <td>True</td>\n",
       "      <td>HD38666</td>\n",
       "      <td>0.000364</td>\n",
       "      <td>holo4_003</td>\n",
       "      <td>0.173481</td>\n",
       "      <td>...</td>\n",
       "      <td>0.099627</td>\n",
       "      <td>0.301614</td>\n",
       "      <td>10.000000</td>\n",
       "      <td>2.180105</td>\n",
       "      <td>185.875346</td>\n",
       "      <td>0.265974</td>\n",
       "      <td>-2.000000</td>\n",
       "      <td>0.0</td>\n",
       "      <td>0.0</td>\n",
       "      <td>0.0</td>\n",
       "    </tr>\n",
       "    <tr>\n",
       "      <th>2023-11-21 01:47:44.749509211+00:00</th>\n",
       "      <td>2023112000090</td>\n",
       "      <td>-64</td>\n",
       "      <td>2</td>\n",
       "      <td>1067</td>\n",
       "      <td>3</td>\n",
       "      <td>True</td>\n",
       "      <td>HD38666</td>\n",
       "      <td>0.000364</td>\n",
       "      <td>holo4_003</td>\n",
       "      <td>0.171289</td>\n",
       "      <td>...</td>\n",
       "      <td>0.000000</td>\n",
       "      <td>0.036376</td>\n",
       "      <td>10.000000</td>\n",
       "      <td>1.092192</td>\n",
       "      <td>186.110921</td>\n",
       "      <td>0.145626</td>\n",
       "      <td>1.599098</td>\n",
       "      <td>0.0</td>\n",
       "      <td>0.0</td>\n",
       "      <td>0.0</td>\n",
       "    </tr>\n",
       "    <tr>\n",
       "      <th>2023-11-21 01:55:44.517499862+00:00</th>\n",
       "      <td>2023112000096</td>\n",
       "      <td>-64</td>\n",
       "      <td>2</td>\n",
       "      <td>1067</td>\n",
       "      <td>3</td>\n",
       "      <td>True</td>\n",
       "      <td>HD2811</td>\n",
       "      <td>0.000000</td>\n",
       "      <td>holo4_003</td>\n",
       "      <td>0.183508</td>\n",
       "      <td>...</td>\n",
       "      <td>4.883876</td>\n",
       "      <td>0.057466</td>\n",
       "      <td>1.059523</td>\n",
       "      <td>0.030222</td>\n",
       "      <td>187.704861</td>\n",
       "      <td>0.004979</td>\n",
       "      <td>-1.507848</td>\n",
       "      <td>0.0</td>\n",
       "      <td>0.0</td>\n",
       "      <td>0.0</td>\n",
       "    </tr>\n",
       "  </tbody>\n",
       "</table>\n",
       "<p>5 rows × 168 columns</p>\n",
       "</div>"
      ],
      "text/plain": [
       "                                                id  BITPIX  NAXIS  NAXIS1  \\\n",
       "DATE-OBS                                                                    \n",
       "2023-11-21 01:37:13.904502514+00:00  2023112000082     -64      2    1067   \n",
       "2023-11-21 01:38:26.888507769+00:00  2023112000083     -64      2    1067   \n",
       "2023-11-21 01:46:31.731505173+00:00  2023112000089     -64      2    1066   \n",
       "2023-11-21 01:47:44.749509211+00:00  2023112000090     -64      2    1067   \n",
       "2023-11-21 01:55:44.517499862+00:00  2023112000096     -64      2    1067   \n",
       "\n",
       "                                     NAXIS2  EXTEND   TARGET  REDSHIFT  \\\n",
       "DATE-OBS                                                                 \n",
       "2023-11-21 01:37:13.904502514+00:00       3    True   HD2811  0.000000   \n",
       "2023-11-21 01:38:26.888507769+00:00       3    True   HD2811  0.000000   \n",
       "2023-11-21 01:46:31.731505173+00:00       3    True  HD38666  0.000364   \n",
       "2023-11-21 01:47:44.749509211+00:00       3    True  HD38666  0.000364   \n",
       "2023-11-21 01:55:44.517499862+00:00       3    True   HD2811  0.000000   \n",
       "\n",
       "                                       GRATING  ROTANGLE  ...  PWV [mm]_y  \\\n",
       "DATE-OBS                                                  ...               \n",
       "2023-11-21 01:37:13.904502514+00:00  holo4_003  0.179791  ...    2.698822   \n",
       "2023-11-21 01:38:26.888507769+00:00  holo4_003  0.181668  ...    4.950558   \n",
       "2023-11-21 01:46:31.731505173+00:00  holo4_003  0.173481  ...    0.099627   \n",
       "2023-11-21 01:47:44.749509211+00:00  holo4_003  0.171289  ...    0.000000   \n",
       "2023-11-21 01:55:44.517499862+00:00  holo4_003  0.183508  ...    4.883876   \n",
       "\n",
       "                                     PWV [mm]_err_y  reso [pix]  \\\n",
       "DATE-OBS                                                          \n",
       "2023-11-21 01:37:13.904502514+00:00        0.044086    2.663446   \n",
       "2023-11-21 01:38:26.888507769+00:00        0.549198    1.017169   \n",
       "2023-11-21 01:46:31.731505173+00:00        0.301614   10.000000   \n",
       "2023-11-21 01:47:44.749509211+00:00        0.036376   10.000000   \n",
       "2023-11-21 01:55:44.517499862+00:00        0.057466    1.059523   \n",
       "\n",
       "                                     reso [pix]_err  D_CCD [mm]_y  \\\n",
       "DATE-OBS                                                            \n",
       "2023-11-21 01:37:13.904502514+00:00        0.036957    186.994145   \n",
       "2023-11-21 01:38:26.888507769+00:00        0.056849    187.039905   \n",
       "2023-11-21 01:46:31.731505173+00:00        2.180105    185.875346   \n",
       "2023-11-21 01:47:44.749509211+00:00        1.092192    186.110921   \n",
       "2023-11-21 01:55:44.517499862+00:00        0.030222    187.704861   \n",
       "\n",
       "                                     D_CCD [mm]_err_y  alpha_pix [pix]  \\\n",
       "DATE-OBS                                                                 \n",
       "2023-11-21 01:37:13.904502514+00:00          0.008052         0.898345   \n",
       "2023-11-21 01:38:26.888507769+00:00          0.010219         1.049769   \n",
       "2023-11-21 01:46:31.731505173+00:00          0.265974        -2.000000   \n",
       "2023-11-21 01:47:44.749509211+00:00          0.145626         1.599098   \n",
       "2023-11-21 01:55:44.517499862+00:00          0.004979        -1.507848   \n",
       "\n",
       "                                     alpha_pix [pix]_err  B_y  B_err_y  \n",
       "DATE-OBS                                                                \n",
       "2023-11-21 01:37:13.904502514+00:00                  0.0  0.0      0.0  \n",
       "2023-11-21 01:38:26.888507769+00:00                  0.0  0.0      0.0  \n",
       "2023-11-21 01:46:31.731505173+00:00                  0.0  0.0      0.0  \n",
       "2023-11-21 01:47:44.749509211+00:00                  0.0  0.0      0.0  \n",
       "2023-11-21 01:55:44.517499862+00:00                  0.0  0.0      0.0  \n",
       "\n",
       "[5 rows x 168 columns]"
      ]
     },
     "execution_count": 38,
     "metadata": {},
     "output_type": "execute_result"
    }
   ],
   "source": [
    "all_df[0].head()"
   ]
  },
  {
   "cell_type": "code",
   "execution_count": 39,
   "id": "90644192-f5a4-40c4-876a-36005b839175",
   "metadata": {
    "execution": {
     "iopub.execute_input": "2024-01-15T15:00:39.307765Z",
     "iopub.status.busy": "2024-01-15T15:00:39.307649Z",
     "iopub.status.idle": "2024-01-15T15:00:39.319325Z",
     "shell.execute_reply": "2024-01-15T15:00:39.318970Z",
     "shell.execute_reply.started": "2024-01-15T15:00:39.307754Z"
    }
   },
   "outputs": [
    {
     "data": {
      "text/html": [
       "<div>\n",
       "<style scoped>\n",
       "    .dataframe tbody tr th:only-of-type {\n",
       "        vertical-align: middle;\n",
       "    }\n",
       "\n",
       "    .dataframe tbody tr th {\n",
       "        vertical-align: top;\n",
       "    }\n",
       "\n",
       "    .dataframe thead th {\n",
       "        text-align: right;\n",
       "    }\n",
       "</style>\n",
       "<table border=\"1\" class=\"dataframe\">\n",
       "  <thead>\n",
       "    <tr style=\"text-align: right;\">\n",
       "      <th></th>\n",
       "      <th>id</th>\n",
       "      <th>BITPIX</th>\n",
       "      <th>NAXIS</th>\n",
       "      <th>NAXIS1</th>\n",
       "      <th>NAXIS2</th>\n",
       "      <th>EXTEND</th>\n",
       "      <th>TARGET</th>\n",
       "      <th>REDSHIFT</th>\n",
       "      <th>GRATING</th>\n",
       "      <th>ROTANGLE</th>\n",
       "      <th>...</th>\n",
       "      <th>PWV [mm]_y</th>\n",
       "      <th>PWV [mm]_err_y</th>\n",
       "      <th>reso [pix]</th>\n",
       "      <th>reso [pix]_err</th>\n",
       "      <th>D_CCD [mm]_y</th>\n",
       "      <th>D_CCD [mm]_err_y</th>\n",
       "      <th>alpha_pix [pix]</th>\n",
       "      <th>alpha_pix [pix]_err</th>\n",
       "      <th>B_y</th>\n",
       "      <th>B_err_y</th>\n",
       "    </tr>\n",
       "    <tr>\n",
       "      <th>DATE-OBS</th>\n",
       "      <th></th>\n",
       "      <th></th>\n",
       "      <th></th>\n",
       "      <th></th>\n",
       "      <th></th>\n",
       "      <th></th>\n",
       "      <th></th>\n",
       "      <th></th>\n",
       "      <th></th>\n",
       "      <th></th>\n",
       "      <th></th>\n",
       "      <th></th>\n",
       "      <th></th>\n",
       "      <th></th>\n",
       "      <th></th>\n",
       "      <th></th>\n",
       "      <th></th>\n",
       "      <th></th>\n",
       "      <th></th>\n",
       "      <th></th>\n",
       "      <th></th>\n",
       "    </tr>\n",
       "  </thead>\n",
       "  <tbody>\n",
       "    <tr>\n",
       "      <th>2023-11-28 01:15:40.665007708+00:00</th>\n",
       "      <td>2023112700067</td>\n",
       "      <td>-64</td>\n",
       "      <td>2</td>\n",
       "      <td>1066</td>\n",
       "      <td>3</td>\n",
       "      <td>True</td>\n",
       "      <td>HD205905</td>\n",
       "      <td>-0.000057</td>\n",
       "      <td>holo4_003</td>\n",
       "      <td>0.161836</td>\n",
       "      <td>...</td>\n",
       "      <td>3.147480</td>\n",
       "      <td>0.035349</td>\n",
       "      <td>1.683841</td>\n",
       "      <td>0.030199</td>\n",
       "      <td>186.692632</td>\n",
       "      <td>0.004804</td>\n",
       "      <td>1.010454</td>\n",
       "      <td>0.0</td>\n",
       "      <td>0.0</td>\n",
       "      <td>0.0</td>\n",
       "    </tr>\n",
       "    <tr>\n",
       "      <th>2023-11-28 01:24:21.031494380+00:00</th>\n",
       "      <td>2023112700073</td>\n",
       "      <td>-64</td>\n",
       "      <td>2</td>\n",
       "      <td>1067</td>\n",
       "      <td>3</td>\n",
       "      <td>True</td>\n",
       "      <td>HD185975</td>\n",
       "      <td>-0.000065</td>\n",
       "      <td>holo4_003</td>\n",
       "      <td>0.138269</td>\n",
       "      <td>...</td>\n",
       "      <td>3.609773</td>\n",
       "      <td>0.030592</td>\n",
       "      <td>1.979449</td>\n",
       "      <td>0.031211</td>\n",
       "      <td>186.772089</td>\n",
       "      <td>0.004684</td>\n",
       "      <td>0.991637</td>\n",
       "      <td>0.0</td>\n",
       "      <td>0.0</td>\n",
       "      <td>0.0</td>\n",
       "    </tr>\n",
       "    <tr>\n",
       "      <th>2023-11-28 01:25:34.043492589+00:00</th>\n",
       "      <td>2023112700074</td>\n",
       "      <td>-64</td>\n",
       "      <td>2</td>\n",
       "      <td>1067</td>\n",
       "      <td>3</td>\n",
       "      <td>True</td>\n",
       "      <td>HD185975</td>\n",
       "      <td>-0.000065</td>\n",
       "      <td>holo4_003</td>\n",
       "      <td>0.138196</td>\n",
       "      <td>...</td>\n",
       "      <td>3.460507</td>\n",
       "      <td>0.030876</td>\n",
       "      <td>1.981538</td>\n",
       "      <td>0.029245</td>\n",
       "      <td>186.835406</td>\n",
       "      <td>0.004817</td>\n",
       "      <td>0.935911</td>\n",
       "      <td>0.0</td>\n",
       "      <td>0.0</td>\n",
       "      <td>0.0</td>\n",
       "    </tr>\n",
       "    <tr>\n",
       "      <th>2023-11-28 01:42:38.707509696+00:00</th>\n",
       "      <td>2023112700087</td>\n",
       "      <td>-64</td>\n",
       "      <td>2</td>\n",
       "      <td>1067</td>\n",
       "      <td>3</td>\n",
       "      <td>True</td>\n",
       "      <td>HD38666</td>\n",
       "      <td>0.000364</td>\n",
       "      <td>holo4_003</td>\n",
       "      <td>0.184611</td>\n",
       "      <td>...</td>\n",
       "      <td>0.023087</td>\n",
       "      <td>0.025934</td>\n",
       "      <td>0.100000</td>\n",
       "      <td>0.000000</td>\n",
       "      <td>186.774454</td>\n",
       "      <td>0.012580</td>\n",
       "      <td>0.686460</td>\n",
       "      <td>0.0</td>\n",
       "      <td>0.0</td>\n",
       "      <td>0.0</td>\n",
       "    </tr>\n",
       "    <tr>\n",
       "      <th>2023-11-28 01:52:26.393991518+00:00</th>\n",
       "      <td>2023112700094</td>\n",
       "      <td>-64</td>\n",
       "      <td>2</td>\n",
       "      <td>1066</td>\n",
       "      <td>3</td>\n",
       "      <td>True</td>\n",
       "      <td>HD205905</td>\n",
       "      <td>-0.000057</td>\n",
       "      <td>holo4_003</td>\n",
       "      <td>0.150394</td>\n",
       "      <td>...</td>\n",
       "      <td>3.211562</td>\n",
       "      <td>0.031871</td>\n",
       "      <td>1.616163</td>\n",
       "      <td>0.030339</td>\n",
       "      <td>186.726608</td>\n",
       "      <td>0.004376</td>\n",
       "      <td>0.980229</td>\n",
       "      <td>0.0</td>\n",
       "      <td>0.0</td>\n",
       "      <td>0.0</td>\n",
       "    </tr>\n",
       "  </tbody>\n",
       "</table>\n",
       "<p>5 rows × 168 columns</p>\n",
       "</div>"
      ],
      "text/plain": [
       "                                                id  BITPIX  NAXIS  NAXIS1  \\\n",
       "DATE-OBS                                                                    \n",
       "2023-11-28 01:15:40.665007708+00:00  2023112700067     -64      2    1066   \n",
       "2023-11-28 01:24:21.031494380+00:00  2023112700073     -64      2    1067   \n",
       "2023-11-28 01:25:34.043492589+00:00  2023112700074     -64      2    1067   \n",
       "2023-11-28 01:42:38.707509696+00:00  2023112700087     -64      2    1067   \n",
       "2023-11-28 01:52:26.393991518+00:00  2023112700094     -64      2    1066   \n",
       "\n",
       "                                     NAXIS2  EXTEND    TARGET  REDSHIFT  \\\n",
       "DATE-OBS                                                                  \n",
       "2023-11-28 01:15:40.665007708+00:00       3    True  HD205905 -0.000057   \n",
       "2023-11-28 01:24:21.031494380+00:00       3    True  HD185975 -0.000065   \n",
       "2023-11-28 01:25:34.043492589+00:00       3    True  HD185975 -0.000065   \n",
       "2023-11-28 01:42:38.707509696+00:00       3    True   HD38666  0.000364   \n",
       "2023-11-28 01:52:26.393991518+00:00       3    True  HD205905 -0.000057   \n",
       "\n",
       "                                       GRATING  ROTANGLE  ...  PWV [mm]_y  \\\n",
       "DATE-OBS                                                  ...               \n",
       "2023-11-28 01:15:40.665007708+00:00  holo4_003  0.161836  ...    3.147480   \n",
       "2023-11-28 01:24:21.031494380+00:00  holo4_003  0.138269  ...    3.609773   \n",
       "2023-11-28 01:25:34.043492589+00:00  holo4_003  0.138196  ...    3.460507   \n",
       "2023-11-28 01:42:38.707509696+00:00  holo4_003  0.184611  ...    0.023087   \n",
       "2023-11-28 01:52:26.393991518+00:00  holo4_003  0.150394  ...    3.211562   \n",
       "\n",
       "                                     PWV [mm]_err_y  reso [pix]  \\\n",
       "DATE-OBS                                                          \n",
       "2023-11-28 01:15:40.665007708+00:00        0.035349    1.683841   \n",
       "2023-11-28 01:24:21.031494380+00:00        0.030592    1.979449   \n",
       "2023-11-28 01:25:34.043492589+00:00        0.030876    1.981538   \n",
       "2023-11-28 01:42:38.707509696+00:00        0.025934    0.100000   \n",
       "2023-11-28 01:52:26.393991518+00:00        0.031871    1.616163   \n",
       "\n",
       "                                     reso [pix]_err  D_CCD [mm]_y  \\\n",
       "DATE-OBS                                                            \n",
       "2023-11-28 01:15:40.665007708+00:00        0.030199    186.692632   \n",
       "2023-11-28 01:24:21.031494380+00:00        0.031211    186.772089   \n",
       "2023-11-28 01:25:34.043492589+00:00        0.029245    186.835406   \n",
       "2023-11-28 01:42:38.707509696+00:00        0.000000    186.774454   \n",
       "2023-11-28 01:52:26.393991518+00:00        0.030339    186.726608   \n",
       "\n",
       "                                     D_CCD [mm]_err_y  alpha_pix [pix]  \\\n",
       "DATE-OBS                                                                 \n",
       "2023-11-28 01:15:40.665007708+00:00          0.004804         1.010454   \n",
       "2023-11-28 01:24:21.031494380+00:00          0.004684         0.991637   \n",
       "2023-11-28 01:25:34.043492589+00:00          0.004817         0.935911   \n",
       "2023-11-28 01:42:38.707509696+00:00          0.012580         0.686460   \n",
       "2023-11-28 01:52:26.393991518+00:00          0.004376         0.980229   \n",
       "\n",
       "                                     alpha_pix [pix]_err  B_y  B_err_y  \n",
       "DATE-OBS                                                                \n",
       "2023-11-28 01:15:40.665007708+00:00                  0.0  0.0      0.0  \n",
       "2023-11-28 01:24:21.031494380+00:00                  0.0  0.0      0.0  \n",
       "2023-11-28 01:25:34.043492589+00:00                  0.0  0.0      0.0  \n",
       "2023-11-28 01:42:38.707509696+00:00                  0.0  0.0      0.0  \n",
       "2023-11-28 01:52:26.393991518+00:00                  0.0  0.0      0.0  \n",
       "\n",
       "[5 rows x 168 columns]"
      ]
     },
     "execution_count": 39,
     "metadata": {},
     "output_type": "execute_result"
    }
   ],
   "source": [
    "all_df[1].head()"
   ]
  },
  {
   "cell_type": "code",
   "execution_count": 40,
   "id": "a7d03eff-a7ae-47b4-ab6a-749db3e92d41",
   "metadata": {
    "execution": {
     "iopub.execute_input": "2024-01-15T15:00:39.319898Z",
     "iopub.status.busy": "2024-01-15T15:00:39.319779Z",
     "iopub.status.idle": "2024-01-15T15:00:39.339681Z",
     "shell.execute_reply": "2024-01-15T15:00:39.339326Z",
     "shell.execute_reply.started": "2024-01-15T15:00:39.319887Z"
    }
   },
   "outputs": [],
   "source": [
    "df =  pd.concat(all_df)"
   ]
  },
  {
   "cell_type": "markdown",
   "id": "6afd34d6-972f-4ec4-a8d8-4dbee635134c",
   "metadata": {},
   "source": [
    "## Write csv file"
   ]
  },
  {
   "cell_type": "code",
   "execution_count": 41,
   "id": "5e47ae33-6188-4f20-be3a-26a455ff58ed",
   "metadata": {
    "execution": {
     "iopub.execute_input": "2024-01-15T15:00:39.343038Z",
     "iopub.status.busy": "2024-01-15T15:00:39.342884Z",
     "iopub.status.idle": "2024-01-15T15:00:39.401109Z",
     "shell.execute_reply": "2024-01-15T15:00:39.400718Z",
     "shell.execute_reply.started": "2024-01-15T15:00:39.343026Z"
    }
   },
   "outputs": [],
   "source": [
    "df.to_csv(file_out_allfittedparams) "
   ]
  },
  {
   "cell_type": "code",
   "execution_count": 42,
   "id": "5974c935-3714-47b9-b9c2-5b9807668a7a",
   "metadata": {
    "execution": {
     "iopub.execute_input": "2024-01-15T15:00:39.401742Z",
     "iopub.status.busy": "2024-01-15T15:00:39.401613Z",
     "iopub.status.idle": "2024-01-15T15:00:39.411891Z",
     "shell.execute_reply": "2024-01-15T15:00:39.411528Z",
     "shell.execute_reply.started": "2024-01-15T15:00:39.401727Z"
    }
   },
   "outputs": [],
   "source": [
    "# convert pandas to numpy rec array\n",
    "rec = df.to_records()"
   ]
  },
  {
   "cell_type": "code",
   "execution_count": 43,
   "id": "fef5638d-352e-44c1-ad51-be80a80297c7",
   "metadata": {
    "execution": {
     "iopub.execute_input": "2024-01-15T15:00:39.412494Z",
     "iopub.status.busy": "2024-01-15T15:00:39.412369Z",
     "iopub.status.idle": "2024-01-15T15:00:39.417064Z",
     "shell.execute_reply": "2024-01-15T15:00:39.416599Z",
     "shell.execute_reply.started": "2024-01-15T15:00:39.412479Z"
    }
   },
   "outputs": [
    {
     "name": "stdout",
     "output_type": "stream",
     "text": [
      "293\n",
      "290\n",
      "283\n",
      "259\n",
      "259\n",
      "228\n"
     ]
    }
   ],
   "source": [
    "filtered = (rec[\"CHI2_FIT\"] < 100) & (rec[\"PSF_REG\"] > 1e-2) & (rec[\"D2CCD\"] > 186)  & (rec[\"D2CCD\"] < 188)  # & (np.abs(rec[\"PIXSHIFT\"]) < 0.5) \n",
    "print(np.sum(filtered))\n",
    "filtered = filtered & (rec[\"PWV [mm]_err_x\"] > 0) & (rec[\"PWV [mm]_err_x\"] < 5) & (rec[\"A1_err_y\"] > 0) & (rec[\"A1_err_y\"] < 5) & (rec[\"PWV [mm]_err_y\"] > 0) & (rec[\"PWV [mm]_err_y\"] < 5)\n",
    "print(np.sum(filtered))\n",
    "filtered = filtered & (rec[\"reso [pix]\"] < 3)\n",
    "print(np.sum(filtered))\n",
    "filtered = filtered & (rec[\"ozone [db]_err_y\"] > 0) & (rec[\"ozone [db]_err_y\"] < 100)\n",
    "print(np.sum(filtered))\n",
    "filtered = filtered & (rec[\"A1_x\"] > 0.1) & (rec[\"A1_x\"] < 1.5)\n",
    "print(np.sum(filtered))\n",
    "filtered = filtered & (np.abs(rec[\"gamma_0_2\"]) < 30) & (np.abs(rec[\"alpha_0_2\"]) < 10)\n",
    "print(np.sum(filtered))"
   ]
  },
  {
   "cell_type": "code",
   "execution_count": 44,
   "id": "3461fcc6-3911-4363-b605-7e9237856ae8",
   "metadata": {
    "execution": {
     "iopub.execute_input": "2024-01-15T15:00:39.417544Z",
     "iopub.status.busy": "2024-01-15T15:00:39.417425Z",
     "iopub.status.idle": "2024-01-15T15:00:39.421944Z",
     "shell.execute_reply": "2024-01-15T15:00:39.421595Z",
     "shell.execute_reply.started": "2024-01-15T15:00:39.417534Z"
    }
   },
   "outputs": [
    {
     "data": {
      "text/plain": [
       "array(['HD185975', 'HD205905', 'HD2811', 'HD38666'], dtype=object)"
      ]
     },
     "execution_count": 44,
     "metadata": {},
     "output_type": "execute_result"
    }
   ],
   "source": [
    "stars = np.unique(rec[\"TARGET\"])\n",
    "stars"
   ]
  },
  {
   "cell_type": "code",
   "execution_count": 45,
   "id": "2dfaff70-3f56-42d0-bbad-48bab1015637",
   "metadata": {
    "execution": {
     "iopub.execute_input": "2024-01-15T15:00:39.422477Z",
     "iopub.status.busy": "2024-01-15T15:00:39.422363Z",
     "iopub.status.idle": "2024-01-15T15:00:39.426869Z",
     "shell.execute_reply": "2024-01-15T15:00:39.426524Z",
     "shell.execute_reply.started": "2024-01-15T15:00:39.422465Z"
    }
   },
   "outputs": [
    {
     "data": {
      "text/plain": [
       "array(['empty'], dtype=object)"
      ]
     },
     "execution_count": 45,
     "metadata": {},
     "output_type": "execute_result"
    }
   ],
   "source": [
    "filters = np.unique(rec[\"FILTER\"])\n",
    "filters"
   ]
  },
  {
   "cell_type": "code",
   "execution_count": 46,
   "id": "c0a22a04-2a92-4ddd-a899-76585cbde797",
   "metadata": {
    "execution": {
     "iopub.execute_input": "2024-01-15T15:00:39.427424Z",
     "iopub.status.busy": "2024-01-15T15:00:39.427311Z",
     "iopub.status.idle": "2024-01-15T15:00:39.430427Z",
     "shell.execute_reply": "2024-01-15T15:00:39.430083Z",
     "shell.execute_reply.started": "2024-01-15T15:00:39.427413Z"
    }
   },
   "outputs": [],
   "source": [
    "ATMMINMAX = {}\n",
    "ATMMINMAX[\"A1_y\"] = [0.1,1.9]\n",
    "ATMMINMAX[\"chi2_y\"] = [0.,500.]\n",
    "ATMMINMAX[\"ozone [db]_y\"] = [0.,600.]\n",
    "ATMMINMAX[\"PWV [mm]_y\"] = [0.,12.]\n",
    "ATMMINMAX[\"VAOD_y\"] = [0.,0.5]\n",
    "ATMMINMAX[\"A2_y\"] = [0.7,1.3]\n",
    "\n",
    "ATMMINMAX[\"A1_x\"] = [0.1,1.9]\n",
    "ATMMINMAX[\"chi2_x\"] = [0.,500.]\n",
    "ATMMINMAX[\"ozone [db]_x\"] = [0.,600.]\n",
    "ATMMINMAX[\"PWV [mm]_x\"] = [0.,12.]\n",
    "ATMMINMAX[\"VAOD_x\"] = [0.,0.5]\n",
    "ATMMINMAX[\"A2_x\"] = [0.7,1.3]"
   ]
  },
  {
   "cell_type": "markdown",
   "id": "ef948ad1-8a67-4785-be15-fb3b58b55007",
   "metadata": {},
   "source": [
    "## Plot fitted parameters"
   ]
  },
  {
   "cell_type": "code",
   "execution_count": 47,
   "id": "5723521a-5069-40a7-9294-c3da3370645a",
   "metadata": {
    "execution": {
     "iopub.execute_input": "2024-01-15T15:00:39.431094Z",
     "iopub.status.busy": "2024-01-15T15:00:39.430897Z",
     "iopub.status.idle": "2024-01-15T15:00:40.110270Z",
     "shell.execute_reply": "2024-01-15T15:00:40.109831Z",
     "shell.execute_reply.started": "2024-01-15T15:00:39.431084Z"
    }
   },
   "outputs": [
    {
     "data": {
      "image/png": "[encoded data removed]",
      "text/plain": [
       "<Figure size 800x500 with 1 Axes>"
      ]
     },
     "metadata": {},
     "output_type": "display_data"
    },
    {
     "data": {
      "image/png": "[encoded data removed]",
      "text/plain": [
       "<Figure size 800x500 with 1 Axes>"
      ]
     },
     "metadata": {},
     "output_type": "display_data"
    },
    {
     "data": {
      "image/png": "[encoded data removed]",
      "text/plain": [
       "<Figure size 800x500 with 1 Axes>"
      ]
     },
     "metadata": {},
     "output_type": "display_data"
    },
    {
     "data": {
      "image/png": "[encoded data removed]",
      "text/plain": [
       "<Figure size 800x500 with 1 Axes>"
      ]
     },
     "metadata": {},
     "output_type": "display_data"
    }
   ],
   "source": [
    "#for col in [\"A1_x\", \"ozone [db]_x\", \"PWV [mm]_x\", \"VAOD_x\", \"D_CCD [mm]_x\", \"gamma_0_1\", \"gamma_0_2\", \"alpha_0_1\", \"alpha_0_2\", \"y_c_0_1\", \"y_c_0_2\" ]:\n",
    "for col in [\"A1_x\", \"ozone [db]_x\", \"PWV [mm]_x\", \"VAOD_x\"]:\n",
    "    if len(col.split('_')) > 1:\n",
    "        col_err = '_'.join(col.split('_')[:-1])+\"_err_\"+col.split('_')[-1]\n",
    "    else:\n",
    "        col_err = col+\"_err\"\n",
    "    fig = plt.figure(figsize=(8,5))\n",
    "\n",
    "    index = filtered  & (rec[\"FILTER\"]==\"empty\")\n",
    "    all_values = rec[col][index]\n",
    "    \n",
    "    mu = all_values.mean()\n",
    "    sig =all_values.std()\n",
    "    textstr = '\\n'.join((col,\n",
    "    r'$\\mu=%.3f$' % (mu, ),\n",
    "    r'$\\sigma=%.3f$' % (sig, )))\n",
    "\n",
    "\n",
    "\n",
    "    for star in stars:\n",
    "        index = filtered & (rec[\"TARGET\"] == star) & (rec[\"FILTER\"]==\"empty\")\n",
    "        if col_err in df.columns:\n",
    "            plt.errorbar(rec[\"AIRMASS\"][index], rec[col][index], yerr=rec[col_err][index], linestyle=\"none\", marker=\"+\",ms=10,lw=3 ,label=star)\n",
    "        else:\n",
    "            plt.plot(rec[\"AIRMASS\"][index], rec[col][index], linestyle=\"none\", marker=\"+\",ms=10,lw=3 )\n",
    "    plt.ylim((0.9*np.min(rec[col][filtered]), 1.1*np.max(rec[col][filtered])))\n",
    "    if col in list(ATMMINMAX.keys()):\n",
    "        plt.ylim(ATMMINMAX[col][0],ATMMINMAX[col][1])\n",
    "\n",
    "    props = dict(boxstyle='round', facecolor='wheat', alpha=0.5)\n",
    "    ax = plt.gca()\n",
    "    # place a text box in upper left in axes coords\n",
    "    ax.text(0.05, 0.95, textstr, transform=ax.transAxes, fontsize=14, verticalalignment='top', bbox=props)\n",
    "    \n",
    "    plt.grid()\n",
    "    plt.title(col)\n",
    "    plt.legend(bbox_to_anchor=(1,1), loc=\"upper left\")\n",
    "    #plt.gcf().autofmt_xdate()\n",
    "    suptitle = f\"Observations : {DATEOBS} \\n collection = {my_collection}\"\n",
    "    plt.suptitle(suptitle,fontsize=10,y=1.0)\n",
    "    plt.tight_layout()\n",
    "    plt.show()\n"
   ]
  },
  {
   "cell_type": "code",
   "execution_count": 48,
   "id": "fe12f131-a2a8-471b-9caa-f58ba66986f9",
   "metadata": {
    "execution": {
     "iopub.execute_input": "2024-01-15T15:00:40.111196Z",
     "iopub.status.busy": "2024-01-15T15:00:40.110966Z",
     "iopub.status.idle": "2024-01-15T15:00:40.917780Z",
     "shell.execute_reply": "2024-01-15T15:00:40.917240Z",
     "shell.execute_reply.started": "2024-01-15T15:00:40.111177Z"
    }
   },
   "outputs": [
    {
     "data": {
      "image/png": "[encoded data removed]",
      "text/plain": [
       "<Figure size 800x500 with 1 Axes>"
      ]
     },
     "metadata": {},
     "output_type": "display_data"
    },
    {
     "data": {
      "image/png": "[encoded data removed]",
      "text/plain": [
       "<Figure size 800x500 with 1 Axes>"
      ]
     },
     "metadata": {},
     "output_type": "display_data"
    },
    {
     "data": {
      "image/png": "[encoded data removed]",
      "text/plain": [
       "<Figure size 800x500 with 1 Axes>"
      ]
     },
     "metadata": {},
     "output_type": "display_data"
    },
    {
     "data": {
      "image/png": "[encoded data removed]",
      "text/plain": [
       "<Figure size 800x500 with 1 Axes>"
      ]
     },
     "metadata": {},
     "output_type": "display_data"
    }
   ],
   "source": [
    "for col in [\"A1_x\", \"ozone [db]_x\", \"PWV [mm]_x\", \"VAOD_x\"]:\n",
    "    if len(col.split('_')) > 1:\n",
    "        col_err = '_'.join(col.split('_')[:-1])+\"_err_\"+col.split('_')[-1]\n",
    "    else:\n",
    "        col_err = col+\"_err\"\n",
    "\n",
    "    index = filtered  & (rec[\"FILTER\"]==\"empty\")\n",
    "    all_values = rec[col][index]\n",
    "    mu = all_values.mean()\n",
    "    sig =all_values.std()\n",
    "    textstr = '\\n'.join((col,\n",
    "    r'$\\mu=%.3f$' % (mu, ),\n",
    "    r'$\\sigma=%.3f$' % (sig, )))\n",
    "\n",
    "    fig = plt.figure(figsize=(8,5))\n",
    "    for star in stars:\n",
    "        index = filtered & (rec[\"TARGET\"] == star)\n",
    "        if col_err in df.columns:\n",
    "            plt.errorbar(rec[\"DATE-OBS\"][index], rec[col][index], yerr=rec[col_err][index], linestyle=\"none\", marker=\"+\",ms=19,lw=3 ,label=star)\n",
    "        else:\n",
    "            plt.plot(rec[\"DATE-OBS\"][index], rec[col][index], linestyle=\"none\", marker=\"+\",ms=10,lw=3)\n",
    "    plt.ylim((0.9*np.min(rec[col][filtered]), 1.1*np.max(rec[col][filtered])))\n",
    "    if col in list(ATMMINMAX.keys()):\n",
    "        plt.ylim(ATMMINMAX[col][0],ATMMINMAX[col][1])\n",
    "\n",
    "    props = dict(boxstyle='round', facecolor='wheat', alpha=0.5)\n",
    "    ax = plt.gca()\n",
    "    # place a text box in upper left in axes coords\n",
    "    ax.text(0.05, 0.95, textstr, transform=ax.transAxes, fontsize=14, verticalalignment='top', bbox=props)\n",
    "\n",
    "\n",
    "    plt.grid()\n",
    "    plt.title(col)\n",
    "    plt.legend(bbox_to_anchor=(1,1), loc=\"upper left\")\n",
    "    plt.gcf().autofmt_xdate()\n",
    "    suptitle = f\"Observations : {DATEOBS} \\n collection = {my_collection}\"\n",
    "    plt.suptitle(suptitle,fontsize=10,y=1.0)\n",
    "    plt.tight_layout()\n",
    "    plt.show()"
   ]
  }
 ],
 "metadata": {
  "kernelspec": {
   "display_name": "LSST",
   "language": "python",
   "name": "lsst"
  },
  "language_info": {
   "codemirror_mode": {
    "name": "ipython",
    "version": 3
   },
   "file_extension": ".py",
   "mimetype": "text/x-python",
   "name": "python",
   "nbconvert_exporter": "python",
   "pygments_lexer": "ipython3",
   "version": "3.11.4"
  }
 },
 "nbformat": 4,
 "nbformat_minor": 5
}
