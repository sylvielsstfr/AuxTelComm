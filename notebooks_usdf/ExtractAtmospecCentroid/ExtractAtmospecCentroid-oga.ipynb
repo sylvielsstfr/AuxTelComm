{
 "cells": [
  {
   "cell_type": "markdown",
   "id": "0b8c2138-5194-4d03-8b77-be24e2cc8ee3",
   "metadata": {},
   "source": [
    "# Extract Atmospec Centroid information in OGA"
   ]
  },
  {
   "cell_type": "markdown",
   "id": "740e34fb-3fef-45a8-941b-c229742ab016",
   "metadata": {},
   "source": [
    " work with Weakly_2022_39\n",
    "- use jupyter kernel LSST\n",
    "\n",
    "\n",
    "- author : Sylvie Dagoret-Campagne\n",
    "- affiliation : IJCLab\n",
    "- creation date : 2022/11/02\n",
    "- update : 2022/11/02\n"
   ]
  },
  {
   "cell_type": "code",
   "execution_count": 1,
   "id": "ed2c3410-fe83-432e-ab87-9f4513fa8d8b",
   "metadata": {},
   "outputs": [
    {
     "name": "stdout",
     "output_type": "stream",
     "text": [
      "atmospec              LOCAL:/home/d/dagoret/repos/repos_w_2023_01/atmospec \tsetup\n",
      "eups                  LOCAL:/opt/lsst/software/stack/conda/miniconda3-py38_4.9.2/envs/lsst-scipipe-4.1.0/eups \tsetup\n",
      "summit_utils          LOCAL:/home/d/dagoret/repos/repos_w_2023_01/summit_utils \tsetup\n"
     ]
    }
   ],
   "source": [
    "! eups list -s | grep LOCAL"
   ]
  },
  {
   "cell_type": "code",
   "execution_count": 2,
   "id": "70918d81-0cf6-4b0a-8f61-f5e5bec5b0e7",
   "metadata": {},
   "outputs": [
    {
     "name": "stdout",
     "output_type": "stream",
     "text": [
      "   g0b29ad24fb+a10408d0bf \tcurrent w_2022_39 setup\n"
     ]
    }
   ],
   "source": [
    "! eups list -s lsst_distrib"
   ]
  },
  {
   "cell_type": "code",
   "execution_count": 3,
   "id": "f8d9cfca-5881-48c1-b2cb-0f794a2e4091",
   "metadata": {},
   "outputs": [],
   "source": [
    "import lsst.daf.butler as dafButler\n",
    "import lsst.summit.utils.butlerUtils as butlerUtils\n",
    "import lsst.daf.base as dafBase"
   ]
  },
  {
   "cell_type": "code",
   "execution_count": 4,
   "id": "1ceacda9-20b0-4d77-a0d2-572c957ce273",
   "metadata": {},
   "outputs": [],
   "source": [
    "import numpy as np\n",
    "import matplotlib.pyplot as plt\n",
    "%matplotlib inline\n",
    "from mpl_toolkits.axes_grid1 import make_axes_locatable\n",
    "from matplotlib.colors import LogNorm\n",
    "import pandas as pd\n",
    "\n",
    "import matplotlib.ticker                         # here's where the formatter is\n",
    "import os\n",
    "import re\n",
    "import pandas as pd\n",
    "\n",
    "plt.rcParams[\"figure.figsize\"] = (4,3)\n",
    "plt.rcParams[\"axes.labelsize\"] = 'xx-large'\n",
    "plt.rcParams['axes.titlesize'] = 'xx-large'\n",
    "plt.rcParams['xtick.labelsize']= 'xx-large'\n",
    "plt.rcParams['ytick.labelsize']= 'xx-large'"
   ]
  },
  {
   "cell_type": "code",
   "execution_count": 5,
   "id": "3c373d2d-e7e7-4b70-9290-56208884f154",
   "metadata": {},
   "outputs": [],
   "source": [
    "import lsst.afw.image as afwImage\n",
    "import lsst.afw.display as afwDisplay\n",
    "import lsst.afw.table as afwTable\n",
    "import lsst.geom as geom\n",
    "\n",
    "# Pipeline tasks from DP0.2\n",
    "#from lsst.pipe.tasks.characterizeImage import CharacterizeImageTask\n",
    "#from lsst.meas.algorithms.detection import SourceDetectionTask\n",
    "#from lsst.meas.deblender import SourceDeblendTask\n",
    "#from lsst.meas.base import SingleFrameMeasurementTask\n",
    "\n",
    "# fromm StackClub on Britter-Fatter\n",
    "from lsst.pipe.tasks.characterizeImage import CharacterizeImageTask, CharacterizeImageConfig\n",
    "import lsst.meas.extensions.shapeHSM\n",
    "from lsst.pipe.tasks.calibrate import CalibrateTask, CalibrateConfig"
   ]
  },
  {
   "cell_type": "code",
   "execution_count": 6,
   "id": "149a62b7-f35f-40ab-9d2f-e6587ea61053",
   "metadata": {},
   "outputs": [],
   "source": [
    "#Set the matplotlib plot color table.\n",
    "plt.style.use('tableau-colorblind10')"
   ]
  },
  {
   "cell_type": "code",
   "execution_count": 7,
   "id": "1b28c925-fab1-426f-9aee-d75df0647362",
   "metadata": {},
   "outputs": [],
   "source": [
    "# Let us also set `lsst.afw.display` to use the `matplotlib` backend:\n",
    "afwDisplay.setDefaultBackend('matplotlib')\n",
    "plt.rcParams['figure.figsize'] = (6.0, 6.0)"
   ]
  },
  {
   "cell_type": "code",
   "execution_count": 8,
   "id": "1c81d99a-5e91-4ba1-ba4a-c66b37905b98",
   "metadata": {},
   "outputs": [],
   "source": [
    "#repo =  \"/sdf/group/rubin/repo/main\"\n",
    "repo = \"/sdf/group/rubin/repo/oga/\"\n",
    "butler = dafButler.Butler(repo)\n",
    "registry = butler.registry"
   ]
  },
  {
   "cell_type": "markdown",
   "id": "20dbb8da-3a08-4b4f-9437-4bf7f28c1782",
   "metadata": {},
   "source": [
    "## Give the collection"
   ]
  },
  {
   "cell_type": "code",
   "execution_count": 9,
   "id": "9629ea29-8ab4-4062-aed1-e16d62dc90c4",
   "metadata": {},
   "outputs": [],
   "source": [
    "my_collection = \"u/dagoret/spectro/noflat/empty~holo4/20220912\"\n",
    "my_collection = \"u/dagoret/BPS_testspectro\""
   ]
  },
  {
   "cell_type": "code",
   "execution_count": 10,
   "id": "2f008879-ecc4-4b86-9b24-0641fb4301cd",
   "metadata": {},
   "outputs": [],
   "source": [
    "#butler = butlerUtils.makeDefaultLatissButler(extraCollections=[my_collection])"
   ]
  },
  {
   "cell_type": "markdown",
   "id": "a7587b10-c178-4537-9c34-60867b69fa01",
   "metadata": {},
   "source": [
    "## Config"
   ]
  },
  {
   "cell_type": "code",
   "execution_count": 11,
   "id": "4ca03168-c597-497b-a271-675d5e519550",
   "metadata": {},
   "outputs": [],
   "source": [
    "# path index for each month\n",
    "DATE=\"20220912\"\n",
    "filterdispersername = \"empty~holo4_003\"\n",
    "#filterdispersername = \"BG40~holo4_003\"\n",
    "#filterdispersername = \"FELH0600~holo4_003\""
   ]
  },
  {
   "cell_type": "markdown",
   "id": "432e82a4-5617-48b3-a5bb-1f2c550c8525",
   "metadata": {},
   "source": [
    "## Select the atmospecCentroid"
   ]
  },
  {
   "cell_type": "code",
   "execution_count": 12,
   "id": "38349d38-ae86-48c9-8037-370a62cd522d",
   "metadata": {},
   "outputs": [],
   "source": [
    "datasetRefs = registry.queryDatasets(datasetType='atmospecCentroid', collections=my_collection, where= \"instrument='LATISS'\")"
   ]
  },
  {
   "cell_type": "code",
   "execution_count": 13,
   "id": "b62be7a7-73bf-4e4e-a4f8-99e1105dee22",
   "metadata": {},
   "outputs": [
    {
     "name": "stdout",
     "output_type": "stream",
     "text": [
      "========(0)================datasetType = atmospecCentroid ============================================\n",
      "fullId..................: {band: 'white', instrument: 'LATISS', detector: 0, physical_filter: 'empty~empty', visit: 2022121000043}\n",
      "visit................: 2022121000043\n",
      "band....................: white\n",
      "physical filter.........: empty~empty\n",
      "run.....................: u/dagoret/BPS_testspectro/20230105T131542Z\n",
      "{'day_obs': 20221210, 'seq_num': 43, 'detector': 0}\n",
      "========(1)================datasetType = atmospecCentroid ============================================\n",
      "fullId..................: {band: 'r', instrument: 'LATISS', detector: 0, physical_filter: 'SDSSr_65mm~empty', visit: 2022121300043}\n",
      "visit................: 2022121300043\n",
      "band....................: r\n",
      "physical filter.........: SDSSr_65mm~empty\n",
      "run.....................: u/dagoret/BPS_testspectro/20230105T131542Z\n",
      "{'day_obs': 20221213, 'seq_num': 43, 'detector': 0}\n",
      "========(2)================datasetType = atmospecCentroid ============================================\n",
      "fullId..................: {band: 'white', instrument: 'LATISS', detector: 0, physical_filter: 'empty~empty', visit: 2022121000043}\n",
      "visit................: 2022121000043\n",
      "band....................: white\n",
      "physical filter.........: empty~empty\n",
      "run.....................: u/dagoret/BPS_testspectro/20230105T142947Z\n",
      "{'day_obs': 20221210, 'seq_num': 43, 'detector': 0}\n",
      "========(3)================datasetType = atmospecCentroid ============================================\n",
      "fullId..................: {band: 'r', instrument: 'LATISS', detector: 0, physical_filter: 'SDSSr_65mm~empty', visit: 2022121300043}\n",
      "visit................: 2022121300043\n",
      "band....................: r\n",
      "physical filter.........: SDSSr_65mm~empty\n",
      "run.....................: u/dagoret/BPS_testspectro/20230105T142947Z\n",
      "{'day_obs': 20221213, 'seq_num': 43, 'detector': 0}\n"
     ]
    }
   ],
   "source": [
    "all_dataId = []\n",
    "all_atmcentroid  = []\n",
    "all_exposures = []\n",
    "\n",
    "\n",
    "\n",
    "for i, ref in enumerate(datasetRefs):\n",
    "   \n",
    "    print(f\"========({i})================datasetType = atmospecCentroid ============================================\")\n",
    "    print(\"fullId..................:\",ref.dataId.full)\n",
    "    print(\"visit................:\",ref.dataId[\"visit\"])\n",
    "    print(\"band....................:\",ref.dataId[\"band\"])\n",
    "    print(\"physical filter.........:\",ref.dataId[\"physical_filter\"])\n",
    "    print(\"run.....................:\",ref.run)\n",
    "    the_exposure = ref.dataId[\"visit\"]\n",
    "    the_day_obs = ref.dataId[\"visit\"]//100_000\n",
    "    the_seq_num = ref.dataId[\"visit\"]- the_day_obs*100_000    \n",
    "    the_dataId = {'day_obs': the_day_obs,'seq_num':the_seq_num,'detector':0}\n",
    "    print(the_dataId)\n",
    "    #spec       = butler.get('spectraction',the_dataId)\n",
    "    atmcentroid = butler.get('atmospecCentroid', visit=the_exposure, detector=0, collections=my_collection, instrument='LATISS')\n",
    "    all_dataId.append(the_dataId) \n",
    "    all_exposures.append(the_exposure)\n",
    "    all_atmcentroid.append(atmcentroid)\n",
    "    #if i >= 0:\n",
    "    #    break"
   ]
  },
  {
   "cell_type": "code",
   "execution_count": 14,
   "id": "22f355f7-b571-45ca-a0b8-ebe174546fc0",
   "metadata": {},
   "outputs": [
    {
     "data": {
      "text/plain": [
       "[2022121000043, 2022121300043, 2022121000043, 2022121300043]"
      ]
     },
     "execution_count": 14,
     "metadata": {},
     "output_type": "execute_result"
    }
   ],
   "source": [
    "all_exposures"
   ]
  },
  {
   "cell_type": "code",
   "execution_count": 15,
   "id": "bd506ee0-0121-48a5-99be-1e16d87da552",
   "metadata": {},
   "outputs": [
    {
     "data": {
      "text/plain": [
       "[{'astrometricMatch': False,\n",
       "  'centroid': [1997.6443701130315, 2058.2882327280267]},\n",
       " {'astrometricMatch': False,\n",
       "  'centroid': [1861.1703845822192, 2048.91475495512]},\n",
       " {'astrometricMatch': False,\n",
       "  'centroid': [1997.6443701130315, 2058.2882327280267]},\n",
       " {'astrometricMatch': False,\n",
       "  'centroid': [1861.1703845822192, 2048.91475495512]}]"
      ]
     },
     "execution_count": 15,
     "metadata": {},
     "output_type": "execute_result"
    }
   ],
   "source": [
    "all_atmcentroid "
   ]
  },
  {
   "cell_type": "code",
   "execution_count": null,
   "id": "98749fff-3f72-4e85-ab9a-6bfe0b0f73bf",
   "metadata": {},
   "outputs": [],
   "source": []
  }
 ],
 "metadata": {
  "kernelspec": {
   "display_name": "LSST",
   "language": "python",
   "name": "lsst"
  },
  "language_info": {
   "codemirror_mode": {
    "name": "ipython",
    "version": 3
   },
   "file_extension": ".py",
   "mimetype": "text/x-python",
   "name": "python",
   "nbconvert_exporter": "python",
   "pygments_lexer": "ipython3",
   "version": "3.10.5"
  }
 },
 "nbformat": 4,
 "nbformat_minor": 5
}
