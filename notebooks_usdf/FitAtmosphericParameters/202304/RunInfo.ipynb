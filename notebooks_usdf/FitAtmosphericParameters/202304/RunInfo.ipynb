{
 "cells": [
  {
   "cell_type": "code",
   "execution_count": 1,
   "id": "6c93df45-80cd-41d8-8fb4-967d3d63ec56",
   "metadata": {
    "tags": []
   },
   "outputs": [],
   "source": [
    "DateToRuncollection = {\n",
    " # september 2022\n",
    " 20220912 :  \"u/dagoret/BPS_manyspectro_v60\", # Missing collection\n",
    " 20220913 :  \"u/dagoret/BPS_manyspectro_v61\", # Missing collection\n",
    " 20220914 :  \"u/dagoret/BPS_manyspectro_v62\", # Missing collection\n",
    " 20220927 :  \"u/dagoret/BPS_manyspectro_v63\", # Mount errors available, mitigé\n",
    " 20220928 :  \"u/dagoret/BPS_manyspectro_v64\", # Mount errors available, very nice spectra\n",
    " 20220929 :  \"u/dagoret/BPS_manyspectro_v65\", # Mount errors available, very nice spectra\n",
    " # october 2022\n",
    " 20221012 :  \"u/dagoret/BPS_manyspectro_v56\", # mount errors , nice, all good\n",
    " 20221025 :  \"u/dagoret/BPS_manyspectro_v57\", # mount errors, very very bad spectra, run not selected\n",
    " 20221026 :  \"u/dagoret/BPS_manyspectro_v58\", # mount errors,  very nice spectra, all good\n",
    " 20221027 :  \"u/dagoret/BPS_manyspectro_v59\", # mount errors,  nice spectra, all good\n",
    " # november 2022\n",
    " 20221109 :  \"u/dagoret/BPS_manyspectro_v53\", # mount errors, nice spectra, few bad labelled as good\n",
    " 20221110 :  \"u/dagoret/BPS_manyspectro_v54\", # mount errors available, many bad rec spectra, few bad labelled as good, versy strange\n",
    " 20221123 :  \"u/dagoret/BPS_manyspectro_v55\", # mount errors , nice\n",
    " # december 2022\n",
    " 20221207 :  \"u/dagoret/BPS_manyspectro_v48\", # No mount error, nice spectra\n",
    " 20221208 :  \"u/dagoret/BPS_manyspectro_v49\", # No mount error, nice spectra, one bad labelled as good\n",
    " 20221209 :  \"u/dagoret/BPS_manyspectro_v50\", # No mount error, spectra at distance from optical center, very interesting\n",
    " 20221210 :  \"u/dagoret/BPS_manyspectro_v51\", # No mount error, bof\n",
    " 20221212 :  \"u/dagoret/BPS_manyspectro_v52\", # No mount error, very bad gains and instability\n",
    " #January 2023\n",
    " 20230117 :  \"u/dagoret/BPS_manyspectro_v79\", # no mount errors, some mucol spectra that looks good are rejected on DCCD\n",
    " 20230118 :  \"u/dagoret/BPS_manyspectro_v80\", # no mount error, some mucol looking good are rejected, many bad centroid calculation\n",
    " 20230119 :  \"u/dagoret/BPS_manyspectro_v77\", # no mount errors, many blurred spectra probably due to strong tracking error\n",
    " 20230131 :  \"u/dagoret/BPS_manyspectro_v78\", # missing for moment\n",
    " #february 2023\n",
    " 20230214 :  \"u/dagoret/BPS_manyspectro_v42\", # no mount errors, nothing special\n",
    " 20230215 :  \"u/dagoret/BPS_manyspectro_v43\", # mount errors, OK\n",
    " 20230216 :  \"u/dagoret/BPS_manyspectro_v44\", # mount errors, OK, nice spectra\n",
    " 20230228 :  \"u/dagoret/BPS_manyspectro_v70\", # No mount error,OK nice spectra\n",
    " #march 2023\n",
    " 20230301 :  \"u/dagoret/BPS_manyspectro_v71\", # no mount errors, OK many spectra\n",
    " 20230302 :  \"u/dagoret/BPS_manyspectro_v72\", # no mount error, sometime bad subtraction of order2 on HD38666 (mucol)\n",
    " 20230315 :  \"u/dagoret/BPS_manyspectro_v73\", # mount errors\n",
    " 20230316 :  \"u/dagoret/BPS_manyspectro_v74\", # mount errors\n",
    "}"
   ]
  },
  {
   "cell_type": "code",
   "execution_count": null,
   "id": "3a9182c6-7c27-4314-9f35-c6ccab1cddf8",
   "metadata": {},
   "outputs": [],
   "source": []
  }
 ],
 "metadata": {
  "kernelspec": {
   "display_name": "Python 3 (ipykernel)",
   "language": "python",
   "name": "python3"
  },
  "language_info": {
   "codemirror_mode": {
    "name": "ipython",
    "version": 3
   },
   "file_extension": ".py",
   "mimetype": "text/x-python",
   "name": "python",
   "nbconvert_exporter": "python",
   "pygments_lexer": "ipython3",
   "version": "3.10.9"
  }
 },
 "nbformat": 4,
 "nbformat_minor": 5
}
