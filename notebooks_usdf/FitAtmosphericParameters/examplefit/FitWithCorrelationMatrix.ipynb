{
 "cells": [
  {
   "cell_type": "markdown",
   "id": "c256a9d8-05cc-44a7-ac0b-14924af384ad",
   "metadata": {},
   "source": [
    "# Example of fit with Correlation Matrix on Data "
   ]
  },
  {
   "cell_type": "markdown",
   "id": "c341696c-4ec9-44e9-9545-2febb8f0913d",
   "metadata": {},
   "source": [
    "https://stackoverflow.com/questions/44810437/problems-with-curve-fit-fitting-highly-correlated-data"
   ]
  },
  {
   "cell_type": "code",
   "execution_count": 1,
   "id": "469ea482-7689-4d0d-aa3b-ea3aff617ea1",
   "metadata": {},
   "outputs": [],
   "source": [
    "import numpy as np\n",
    "from scipy.optimize import curve_fit\n",
    "import matplotlib.pyplot as plt"
   ]
  },
  {
   "cell_type": "code",
   "execution_count": 2,
   "id": "7de55f9f-ad83-40b1-b862-855e94fe688e",
   "metadata": {},
   "outputs": [],
   "source": [
    "def f(x, a, b):\n",
    "    return a + b*x"
   ]
  },
  {
   "cell_type": "code",
   "execution_count": 3,
   "id": "785eeff6-3a86-485b-b882-61c367704817",
   "metadata": {},
   "outputs": [],
   "source": [
    "x = np.array([1, 2, 3])\n",
    "y = np.array([2, 0.75, 0])\n",
    "sig = np.array([[2.0, 1.3, 0.0],\n",
    "                [1.3, 2.0, 1.3],\n",
    "                [0.0, 1.3, 2.0]])"
   ]
  },
  {
   "cell_type": "code",
   "execution_count": 4,
   "id": "0835e586-6e0b-42eb-999b-6f075c79b114",
   "metadata": {},
   "outputs": [],
   "source": [
    "params, pcov = curve_fit(f, x, y, sigma=sig)"
   ]
  },
  {
   "cell_type": "code",
   "execution_count": 5,
   "id": "4e029941-edfe-4752-b037-92e8557f17aa",
   "metadata": {},
   "outputs": [],
   "source": [
    "y_errors = f(x, *params) - y"
   ]
  },
  {
   "cell_type": "code",
   "execution_count": 7,
   "id": "6c655c69-5627-42c6-9875-e2bd599d9bd6",
   "metadata": {},
   "outputs": [
    {
     "data": {
      "image/png": "[encoded data removed]",
      "text/plain": [
       "<Figure size 640x480 with 1 Axes>"
      ]
     },
     "metadata": {},
     "output_type": "display_data"
    }
   ],
   "source": [
    "plt.plot(x, y, 'ko', label=\"data\")\n",
    "plt.plot(x, f(x, *params), linewidth=2.5, label=\"fitted curve\")\n",
    "plt.vlines(x, y, f(x, *params), 'r')\n",
    "\n",
    "for k in range(3):\n",
    "    plt.annotate(text=r\"$e_{%d}$\" % (k+1), xy=(x[k]-0.05, y[k]+0.5*y_errors[k]), ha='right')\n",
    "\n",
    "plt.xlabel('x')\n",
    "plt.ylabel('y')\n",
    "plt.axis('equal')\n",
    "plt.grid()\n",
    "plt.legend(framealpha=1, shadow=True)\n",
    "plt.show()"
   ]
  },
  {
   "cell_type": "markdown",
   "id": "2a4b7b34-c6a8-46a5-8613-3a72c7788c1a",
   "metadata": {},
   "source": [
    "https://docs.scipy.org/doc/scipy/reference/generated/scipy.optimize.curve_fit.html\n",
    "\n",
    "    chisq = r.T @ inv(sigma) @ r.\n"
   ]
  },
  {
   "cell_type": "code",
   "execution_count": 8,
   "id": "cd03c83c-a037-428a-a657-6369b445ba75",
   "metadata": {},
   "outputs": [],
   "source": [
    "r = y - f(x, *params)"
   ]
  },
  {
   "cell_type": "code",
   "execution_count": 9,
   "id": "2da6605f-3957-456b-b0e0-ebdd76af2094",
   "metadata": {},
   "outputs": [
    {
     "data": {
      "text/plain": [
       "array([-0.1875, -0.4375, -0.1875])"
      ]
     },
     "execution_count": 9,
     "metadata": {},
     "output_type": "execute_result"
    }
   ],
   "source": [
    "r"
   ]
  },
  {
   "cell_type": "code",
   "execution_count": 14,
   "id": "b13a0623-0e64-4dbf-b249-dc6fcccc4d4c",
   "metadata": {},
   "outputs": [
    {
     "data": {
      "text/plain": [
       "array([[ 1.86290323, -2.09677419,  1.36290323],\n",
       "       [-2.09677419,  3.22580645, -2.09677419],\n",
       "       [ 1.36290323, -2.09677419,  1.86290323]])"
      ]
     },
     "execution_count": 14,
     "metadata": {},
     "output_type": "execute_result"
    }
   ],
   "source": [
    "np.linalg.inv(sig)"
   ]
  },
  {
   "cell_type": "code",
   "execution_count": 15,
   "id": "cf162a86-2402-49f0-b546-364d504199b1",
   "metadata": {},
   "outputs": [
    {
     "data": {
      "text/plain": [
       "array([-0.1875, -0.4375, -0.1875])"
      ]
     },
     "execution_count": 15,
     "metadata": {},
     "output_type": "execute_result"
    }
   ],
   "source": [
    "r.T"
   ]
  },
  {
   "cell_type": "code",
   "execution_count": 18,
   "id": "b5e441d6-8ac6-40c7-80f6-0d1c8225e5a6",
   "metadata": {},
   "outputs": [
    {
     "data": {
      "text/plain": [
       "array([-0.1875, -0.4375, -0.1875])"
      ]
     },
     "execution_count": 18,
     "metadata": {},
     "output_type": "execute_result"
    }
   ],
   "source": [
    "r.T"
   ]
  },
  {
   "cell_type": "code",
   "execution_count": 20,
   "id": "642c77cd-f728-483c-a716-2b7f38434ebb",
   "metadata": {},
   "outputs": [
    {
     "data": {
      "text/plain": [
       "0.15625000000000022"
      ]
     },
     "execution_count": 20,
     "metadata": {},
     "output_type": "execute_result"
    }
   ],
   "source": [
    "r @ np.linalg.inv(sig) @ r"
   ]
  },
  {
   "cell_type": "markdown",
   "id": "2c0abda2-d987-400f-ac83-afa5e95aa3e1",
   "metadata": {},
   "source": [
    "# To fit with errors on X and Y"
   ]
  },
  {
   "cell_type": "markdown",
   "id": "0c9ae463-b253-4e89-8734-2657c125b0be",
   "metadata": {},
   "source": [
    "https://scicomp.stackexchange.com/questions/33166/what-is-a-good-library-in-python-for-correlated-fits-in-both-the-x-and-y-dat"
   ]
  },
  {
   "cell_type": "code",
   "execution_count": 21,
   "id": "d6d7b81a-45c5-42e7-b60e-0e662d6e56a7",
   "metadata": {},
   "outputs": [],
   "source": [
    "import numpy as np\n",
    "from scipy.optimize import least_squares\n",
    "\n",
    "\n",
    "\n",
    "class Fitter(object):\n",
    "    \"\"\"\n",
    "    Orthogonal distance regression (ODR) fitter object.\n",
    "    \"\"\"\n",
    "\n",
    "    def __init__(self,):\n",
    "        pass\n",
    "\n",
    "    def Model(self, function):\n",
    "        \"\"\"\n",
    "        Set the model to fit to.\n",
    "        \"\"\"\n",
    "        self.model = function\n",
    "\n",
    "    def Beta0(self, init_beta):\n",
    "        \"\"\"\n",
    "        Set the initial parameters.\n",
    "        \"\"\"\n",
    "        self.beta0 = np.array(init_beta)\n",
    "        self.bs = len(init_beta)\n",
    "\n",
    "    def Data(self, xdata, ydata, sigmax=None, sigmay=None, covx=None, covy=None):\n",
    "        \"\"\"\n",
    "        Input the x and y data, as well as the errors if they exist.\n",
    "        \"\"\"\n",
    "        if (len(xdata) != len(ydata)):\n",
    "            raise ValueError(\"x and y data must have same shape\")\n",
    "        self.x = xdata\n",
    "        self.y = ydata\n",
    "        self.xs = len(xdata)\n",
    "        self.ys = len(ydata)\n",
    "        self.delta = np.zeros(shape=(self.xs,))\n",
    "        if (sigmax is not None) and (sigmay is not None):\n",
    "            Omega = np.block([[np.diag(1./sigmay**2), np.zeros((self.ys, self.ys))],\n",
    "                              [np.zeros((self.xs, self.xs)), np.diag(1./sigmax**2)]])\n",
    "        elif (sigmax is not None) and (sigmay is None):\n",
    "            Omega = np.block([[np.eye(self.xs), np.zeros((self.ys, self.ys))],\n",
    "                              [np.zeros((self.xs, self.xs)), np.diag(1./sigmax**2)]])\n",
    "        elif (sigmax is None) and (sigmay is not None):\n",
    "            Omega = np.block([[np.diag(1./sigmay**2), np.zeros((self.ys, self.ys))],\n",
    "                              [np.zeros((self.xs, self.xs)), np.eye(self.xs)]])\n",
    "        elif (covx is not None) and (covy is not None):\n",
    "            Omega = np.block([[np.linalg.inv(covy), np.zeros((self.ys, self.ys))],\n",
    "                              [np.zeros((self.xs, self.xs)), np.linalg.inv(covx)]])\n",
    "        elif (covx is None) and (covy is not None):\n",
    "            Omega = np.block([[np.linalg.inv(covy), np.zeros((self.ys, self.ys))],\n",
    "                              [np.zeros((self.xs, self.xs)), np.eye(self.xs)]])\n",
    "        elif (covx is not None) and (covy is None):\n",
    "            Omega = np.block([[np.eye(self.xs), np.zeros((self.ys, self.ys))],\n",
    "                              [np.zeros((self.xs, self.xs)), np.linalg.inv(covx)]])\n",
    "        else:\n",
    "            Omega = np.eye(2*self.xs)\n",
    "\n",
    "        self.L = np.linalg.cholesky(Omega)\n",
    "        assert np.allclose(Omega, self.L.dot(self.L.transpose()))\n",
    "\n",
    "\n",
    "    def Residuals(self, z):\n",
    "        \"\"\"\n",
    "        Calculates the sum of residuals for ODR.\n",
    "        \"\"\"\n",
    "        para = z[:self.bs]\n",
    "        arguments = z[self.bs:]\n",
    "\n",
    "        rx = arguments\n",
    "        ry = (self.model(self.x + rx, *para) - self.y)\n",
    "        r = np.hstack((ry, rx))\n",
    "\n",
    "        return np.dot(r, self.L)\n",
    "\n",
    "    def Run(self,):\n",
    "        \"\"\"\n",
    "        Runs the fitter.\n",
    "        \"\"\"\n",
    "        self.whole = np.append(self.beta0, self.delta)\n",
    "        self.out = least_squares(self.Residuals, self.whole, method='lm')\n",
    "        self.chi2 = np.sum(self.out.fun**2) / float(len(self.x)-len(self.beta0))"
   ]
  },
  {
   "cell_type": "code",
   "execution_count": null,
   "id": "7e204869-a22c-49ca-9ebc-a1165f0f7ddb",
   "metadata": {},
   "outputs": [],
   "source": []
  }
 ],
 "metadata": {
  "kernelspec": {
   "display_name": "Python 3 (ipykernel)",
   "language": "python",
   "name": "python3"
  },
  "language_info": {
   "codemirror_mode": {
    "name": "ipython",
    "version": 3
   },
   "file_extension": ".py",
   "mimetype": "text/x-python",
   "name": "python",
   "nbconvert_exporter": "python",
   "pygments_lexer": "ipython3",
   "version": "3.9.13"
  }
 },
 "nbformat": 4,
 "nbformat_minor": 5
}
