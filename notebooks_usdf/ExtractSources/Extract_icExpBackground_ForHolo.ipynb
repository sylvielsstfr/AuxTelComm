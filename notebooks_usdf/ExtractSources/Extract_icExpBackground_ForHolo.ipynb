{
 "cells": [
  {
   "cell_type": "markdown",
   "id": "0b8c2138-5194-4d03-8b77-be24e2cc8ee3",
   "metadata": {},
   "source": [
    "# Extract icExpBackground  in  OGA for Holograms"
   ]
  },
  {
   "cell_type": "markdown",
   "id": "740e34fb-3fef-45a8-941b-c229742ab016",
   "metadata": {},
   "source": [
    " work with Weakly_2023_01\n",
    "- use jupyter kernel LSST\n",
    "\n",
    "\n",
    "- author : Sylvie Dagoret-Campagne\n",
    "- affiliation : IJCLab\n",
    "- creation date : 2023/02/04\n",
    "- update : 2023/02/04\n"
   ]
  },
  {
   "cell_type": "code",
   "execution_count": 1,
   "id": "ed2c3410-fe83-432e-ab87-9f4513fa8d8b",
   "metadata": {
    "execution": {
     "iopub.execute_input": "2023-02-04T14:58:39.768050Z",
     "iopub.status.busy": "2023-02-04T14:58:39.767725Z",
     "iopub.status.idle": "2023-02-04T14:58:40.221386Z",
     "shell.execute_reply": "2023-02-04T14:58:40.220682Z",
     "shell.execute_reply.started": "2023-02-04T14:58:39.768032Z"
    }
   },
   "outputs": [
    {
     "name": "stdout",
     "output_type": "stream",
     "text": [
      "atmospec              LOCAL:/home/d/dagoret/repos/repos_w_2023_01/atmospec \tsetup\n",
      "eups                  LOCAL:/opt/lsst/software/stack/conda/miniconda3-py38_4.9.2/envs/lsst-scipipe-5.1.0/eups \tsetup\n",
      "spectractor           LOCAL:/home/d/dagoret/repos/repos_w_2023_01/Spectractor \tsetup\n"
     ]
    }
   ],
   "source": [
    "! eups list -s | grep LOCAL"
   ]
  },
  {
   "cell_type": "code",
   "execution_count": 2,
   "id": "70918d81-0cf6-4b0a-8f61-f5e5bec5b0e7",
   "metadata": {
    "execution": {
     "iopub.execute_input": "2023-02-04T14:58:40.222422Z",
     "iopub.status.busy": "2023-02-04T14:58:40.222241Z",
     "iopub.status.idle": "2023-02-04T14:58:40.660093Z",
     "shell.execute_reply": "2023-02-04T14:58:40.659439Z",
     "shell.execute_reply.started": "2023-02-04T14:58:40.222403Z"
    }
   },
   "outputs": [
    {
     "name": "stdout",
     "output_type": "stream",
     "text": [
      "   g754a7f0350+935911ccad \tcurrent w_2023_01 setup\n"
     ]
    }
   ],
   "source": [
    "! eups list -s lsst_distrib"
   ]
  },
  {
   "cell_type": "code",
   "execution_count": 3,
   "id": "f8d9cfca-5881-48c1-b2cb-0f794a2e4091",
   "metadata": {
    "execution": {
     "iopub.execute_input": "2023-02-04T14:58:40.661207Z",
     "iopub.status.busy": "2023-02-04T14:58:40.660954Z",
     "iopub.status.idle": "2023-02-04T14:58:41.016233Z",
     "shell.execute_reply": "2023-02-04T14:58:41.015553Z",
     "shell.execute_reply.started": "2023-02-04T14:58:40.661190Z"
    },
    "tags": []
   },
   "outputs": [],
   "source": [
    "import lsst.daf.butler as dafButler\n",
    "#import lsst.summit.utils.butlerUtils as butlerUtils"
   ]
  },
  {
   "cell_type": "code",
   "execution_count": 4,
   "id": "1ceacda9-20b0-4d77-a0d2-572c957ce273",
   "metadata": {
    "execution": {
     "iopub.execute_input": "2023-02-04T14:58:41.017319Z",
     "iopub.status.busy": "2023-02-04T14:58:41.017066Z",
     "iopub.status.idle": "2023-02-04T14:58:41.405689Z",
     "shell.execute_reply": "2023-02-04T14:58:41.405062Z",
     "shell.execute_reply.started": "2023-02-04T14:58:41.017300Z"
    },
    "tags": []
   },
   "outputs": [],
   "source": [
    "import numpy as np\n",
    "import matplotlib.pyplot as plt\n",
    "%matplotlib inline\n",
    "from mpl_toolkits.axes_grid1 import make_axes_locatable\n",
    "from matplotlib.colors import LogNorm,SymLogNorm\n",
    "\n",
    "\n",
    "import matplotlib.ticker                         # here's where the formatter is\n",
    "from matplotlib.ticker import (MultipleLocator, FormatStrFormatter,\n",
    "                               AutoMinorLocator)\n",
    "\n",
    "from astropy.visualization import (MinMaxInterval, SqrtStretch,ZScaleInterval,PercentileInterval,\n",
    "                                   ImageNormalize,imshow_norm)\n",
    "from astropy.visualization.stretch import SinhStretch, LinearStretch,AsinhStretch,LogStretch\n",
    "\n",
    "from astropy.io import fits\n",
    "\n",
    "import pandas as pd\n",
    "\n",
    "import matplotlib.ticker                         # here's where the formatter is\n",
    "import os\n",
    "import re\n",
    "import pandas as pd\n",
    "\n",
    "plt.rcParams[\"figure.figsize\"] = (4,3)\n",
    "plt.rcParams[\"axes.labelsize\"] = 'xx-large'\n",
    "plt.rcParams['axes.titlesize'] = 'xx-large'\n",
    "plt.rcParams['xtick.labelsize']= 'xx-large'\n",
    "plt.rcParams['ytick.labelsize']= 'xx-large'"
   ]
  },
  {
   "cell_type": "code",
   "execution_count": 5,
   "id": "34c92544-f2fd-4287-b852-e2ccb9a3b510",
   "metadata": {
    "execution": {
     "iopub.execute_input": "2023-02-04T14:58:41.407043Z",
     "iopub.status.busy": "2023-02-04T14:58:41.406563Z",
     "iopub.status.idle": "2023-02-04T14:58:41.410531Z",
     "shell.execute_reply": "2023-02-04T14:58:41.410028Z",
     "shell.execute_reply.started": "2023-02-04T14:58:41.407022Z"
    },
    "tags": []
   },
   "outputs": [],
   "source": [
    "from matplotlib.ticker import (MultipleLocator, FormatStrFormatter,\n",
    "                               AutoMinorLocator)\n",
    "\n",
    "from astropy.visualization import (MinMaxInterval, SqrtStretch,ZScaleInterval,PercentileInterval,\n",
    "                                   ImageNormalize,imshow_norm)\n",
    "from astropy.visualization.stretch import SinhStretch, LinearStretch,AsinhStretch,LogStretch\n",
    "\n",
    "from astropy.time import Time\n"
   ]
  },
  {
   "cell_type": "code",
   "execution_count": 6,
   "id": "77aa5733-0a46-49eb-b26e-d3bb6195cc3d",
   "metadata": {
    "execution": {
     "iopub.execute_input": "2023-02-04T14:58:41.411370Z",
     "iopub.status.busy": "2023-02-04T14:58:41.411202Z",
     "iopub.status.idle": "2023-02-04T14:58:41.760522Z",
     "shell.execute_reply": "2023-02-04T14:58:41.759869Z",
     "shell.execute_reply.started": "2023-02-04T14:58:41.411355Z"
    },
    "tags": []
   },
   "outputs": [],
   "source": [
    "# LSST Display\n",
    "import lsst.afw.display as afwDisplay\n",
    "afwDisplay.setDefaultBackend('matplotlib')"
   ]
  },
  {
   "cell_type": "code",
   "execution_count": 7,
   "id": "b7cea198-6f3c-4a87-8877-fdf8e4d73c26",
   "metadata": {
    "execution": {
     "iopub.execute_input": "2023-02-04T14:58:41.761972Z",
     "iopub.status.busy": "2023-02-04T14:58:41.761397Z",
     "iopub.status.idle": "2023-02-04T14:58:41.764972Z",
     "shell.execute_reply": "2023-02-04T14:58:41.764433Z",
     "shell.execute_reply.started": "2023-02-04T14:58:41.761951Z"
    },
    "tags": []
   },
   "outputs": [],
   "source": [
    "transform = AsinhStretch() + PercentileInterval(99.)"
   ]
  },
  {
   "cell_type": "code",
   "execution_count": 8,
   "id": "c8b31810-780c-43f2-92a1-af05fddd65e1",
   "metadata": {
    "execution": {
     "iopub.execute_input": "2023-02-04T14:58:41.766138Z",
     "iopub.status.busy": "2023-02-04T14:58:41.765685Z",
     "iopub.status.idle": "2023-02-04T14:58:41.771176Z",
     "shell.execute_reply": "2023-02-04T14:58:41.770628Z",
     "shell.execute_reply.started": "2023-02-04T14:58:41.766119Z"
    }
   },
   "outputs": [],
   "source": [
    "pd.options.display.max_columns = None\n",
    "#pd.options.display.max_rows = None\n",
    "\n"
   ]
  },
  {
   "cell_type": "markdown",
   "id": "17f98db2-2ea8-4546-87a9-f2cd11d67ec7",
   "metadata": {},
   "source": [
    "## Configuration"
   ]
  },
  {
   "cell_type": "code",
   "execution_count": 9,
   "id": "1c81d99a-5e91-4ba1-ba4a-c66b37905b98",
   "metadata": {
    "execution": {
     "iopub.execute_input": "2023-02-04T14:58:41.772238Z",
     "iopub.status.busy": "2023-02-04T14:58:41.771888Z",
     "iopub.status.idle": "2023-02-04T14:58:42.884902Z",
     "shell.execute_reply": "2023-02-04T14:58:42.884270Z",
     "shell.execute_reply.started": "2023-02-04T14:58:41.772219Z"
    },
    "tags": []
   },
   "outputs": [],
   "source": [
    "#repo =  \"/sdf/group/rubin/repo/main\"\n",
    "repo = \"/sdf/group/rubin/repo/oga/\"\n",
    "butler = dafButler.Butler(repo)\n",
    "registry = butler.registry"
   ]
  },
  {
   "cell_type": "markdown",
   "id": "20dbb8da-3a08-4b4f-9437-4bf7f28c1782",
   "metadata": {},
   "source": [
    "## Give the collection"
   ]
  },
  {
   "cell_type": "code",
   "execution_count": 10,
   "id": "9629ea29-8ab4-4062-aed1-e16d62dc90c4",
   "metadata": {
    "execution": {
     "iopub.execute_input": "2023-02-04T14:58:42.886081Z",
     "iopub.status.busy": "2023-02-04T14:58:42.885815Z",
     "iopub.status.idle": "2023-02-04T14:58:42.889795Z",
     "shell.execute_reply": "2023-02-04T14:58:42.889263Z",
     "shell.execute_reply.started": "2023-02-04T14:58:42.886061Z"
    },
    "tags": []
   },
   "outputs": [],
   "source": [
    "#my_collection = \"u/dagoret/BPS_test\"\n",
    "my_collection = \"u/dagoret/BPS_photimaging_202301\"\n",
    "\n",
    "#my_collection = \"u/dagoret/BPS_test\"\n",
    "#my_collection = \"u/dagoret/BPS_photimaging_202301\"\n",
    "\n",
    "\n",
    "#my_collection = \"u/dagoret/BPS_manyspectro_v7\" # january 20th 2023 (2023/01/17)\n",
    "#my_collection = \"u/dagoret/BPS_manyspectro_v8\" # january 23th 2023 (2023/01/18)\n",
    "#my_collection = \"u/dagoret/BPS_manyspectro_v9\" # january 23th 2023 (2023/01/19)\n",
    "#my_collection = \"u/dagoret/BPS_manyspectro_v10\" # january 27th 2023 (2023/01/18), output with the _b, rebin=2\n",
    "#my_collection = \"u/dagoret/BPS_manyspectro_v11\" # january 26th 2023 (2023/01/17), output with the _b, rebin=2\n",
    "#my_collection = \"u/dagoret/BPS_manyspectro_v12\" # january 26th 2023 (2023/01/19), output with the _b, rebin=2,\n",
    "#my_collection = \"u/dagoret/BPS_manyspectro_v13\" # january 31th 2023 (2023/01/18), rebin=1,\n",
    "#my_collection = \"u/dagoret/BPS_manyspectro_v14\" # january 31th 2023 (2023/01/17), rebin=1,\n",
    "my_collection = \"u/dagoret/BPS_manyspectro_v15\" # january 31th 2023 (2023/01/18), rebin=1,\n",
    "#my_collection = \"u/dagoret/BPS_manyspectro_v16\" # february 1st 2023 (2023/02/03), rebin=1,"
   ]
  },
  {
   "cell_type": "code",
   "execution_count": 11,
   "id": "2f008879-ecc4-4b86-9b24-0641fb4301cd",
   "metadata": {
    "execution": {
     "iopub.execute_input": "2023-02-04T14:58:42.890672Z",
     "iopub.status.busy": "2023-02-04T14:58:42.890501Z",
     "iopub.status.idle": "2023-02-04T14:58:42.894463Z",
     "shell.execute_reply": "2023-02-04T14:58:42.893953Z",
     "shell.execute_reply.started": "2023-02-04T14:58:42.890657Z"
    },
    "tags": []
   },
   "outputs": [],
   "source": [
    "file_icBgd_out = \"icExpBackground_2023-01-31.csv\""
   ]
  },
  {
   "cell_type": "markdown",
   "id": "a7587b10-c178-4537-9c34-60867b69fa01",
   "metadata": {},
   "source": [
    "## Config"
   ]
  },
  {
   "cell_type": "code",
   "execution_count": 12,
   "id": "4ca03168-c597-497b-a271-675d5e519550",
   "metadata": {
    "execution": {
     "iopub.execute_input": "2023-02-04T14:58:42.895277Z",
     "iopub.status.busy": "2023-02-04T14:58:42.895115Z",
     "iopub.status.idle": "2023-02-04T14:58:42.899078Z",
     "shell.execute_reply": "2023-02-04T14:58:42.898532Z",
     "shell.execute_reply.started": "2023-02-04T14:58:42.895262Z"
    },
    "tags": []
   },
   "outputs": [],
   "source": [
    "# path index for each month\n",
    "#DATE=\"20211103\"\n",
    "#filterdispersername = \"empty~holo4_003\"\n",
    "#filterdispersername = \"BG40~holo4_003\"\n",
    "#filterdispersername = \"FELH0600~holo4_003\""
   ]
  },
  {
   "cell_type": "markdown",
   "id": "a72c2c07-ff40-49d9-a36d-5277cbbc5cec",
   "metadata": {},
   "source": [
    "# icExpBackground"
   ]
  },
  {
   "cell_type": "code",
   "execution_count": 13,
   "id": "c2bca87f-8b3a-44ee-afa5-5b8e0b8f9b9d",
   "metadata": {
    "execution": {
     "iopub.execute_input": "2023-02-04T14:58:42.900011Z",
     "iopub.status.busy": "2023-02-04T14:58:42.899815Z",
     "iopub.status.idle": "2023-02-04T14:58:42.927003Z",
     "shell.execute_reply": "2023-02-04T14:58:42.926466Z",
     "shell.execute_reply.started": "2023-02-04T14:58:42.899994Z"
    },
    "tags": []
   },
   "outputs": [],
   "source": [
    "datasetRefs = butler.registry.queryDatasets(datasetType='icExpBackground', collections=my_collection, where= \"instrument='LATISS'\")"
   ]
  },
  {
   "cell_type": "code",
   "execution_count": 15,
   "id": "a01bb1b1-a2fe-4060-85ff-fb9e9c5dbb74",
   "metadata": {
    "execution": {
     "iopub.execute_input": "2023-02-04T15:00:03.902631Z",
     "iopub.status.busy": "2023-02-04T15:00:03.902233Z",
     "iopub.status.idle": "2023-02-04T15:00:28.910776Z",
     "shell.execute_reply": "2023-02-04T15:00:28.910130Z",
     "shell.execute_reply.started": "2023-02-04T15:00:03.902611Z"
    },
    "tags": []
   },
   "outputs": [
    {
     "name": "stdout",
     "output_type": "stream",
     "text": [
      "========================datasetType = icExpBackground ============================================\n",
      "fullId..................: {band: 'white', instrument: 'LATISS', detector: 0, physical_filter: 'empty~holo4_003', visit: 2023011900392}\n",
      "visit...................: 2023011900392\n",
      "band....................: white\n",
      "physical filter.........: empty~holo4_003\n",
      "run.....................: u/dagoret/BPS_manyspectro_v15/20230130T220742Z\n",
      "{'day_obs': 20230119, 'seq_num': 392, 'detector': 0}\n",
      "========================datasetType = icExpBackground ============================================\n",
      "fullId..................: {band: 'white', instrument: 'LATISS', detector: 0, physical_filter: 'empty~holo4_003', visit: 2023011900354}\n",
      "visit...................: 2023011900354\n",
      "band....................: white\n",
      "physical filter.........: empty~holo4_003\n",
      "run.....................: u/dagoret/BPS_manyspectro_v15/20230130T220742Z\n",
      "{'day_obs': 20230119, 'seq_num': 354, 'detector': 0}\n",
      "========================datasetType = icExpBackground ============================================\n",
      "fullId..................: {band: 'white', instrument: 'LATISS', detector: 0, physical_filter: 'empty~holo4_003', visit: 2023011900198}\n",
      "visit...................: 2023011900198\n",
      "band....................: white\n",
      "physical filter.........: empty~holo4_003\n",
      "run.....................: u/dagoret/BPS_manyspectro_v15/20230130T220742Z\n",
      "{'day_obs': 20230119, 'seq_num': 198, 'detector': 0}\n",
      "========================datasetType = icExpBackground ============================================\n",
      "fullId..................: {band: 'white', instrument: 'LATISS', detector: 0, physical_filter: 'empty~holo4_003', visit: 2023011900190}\n",
      "visit...................: 2023011900190\n",
      "band....................: white\n",
      "physical filter.........: empty~holo4_003\n",
      "run.....................: u/dagoret/BPS_manyspectro_v15/20230130T220742Z\n",
      "{'day_obs': 20230119, 'seq_num': 190, 'detector': 0}\n",
      "========================datasetType = icExpBackground ============================================\n",
      "fullId..................: {band: 'white', instrument: 'LATISS', detector: 0, physical_filter: 'empty~holo4_003', visit: 2023011900305}\n",
      "visit...................: 2023011900305\n",
      "band....................: white\n",
      "physical filter.........: empty~holo4_003\n",
      "run.....................: u/dagoret/BPS_manyspectro_v15/20230130T220742Z\n",
      "{'day_obs': 20230119, 'seq_num': 305, 'detector': 0}\n",
      "========================datasetType = icExpBackground ============================================\n",
      "fullId..................: {band: 'white', instrument: 'LATISS', detector: 0, physical_filter: 'empty~holo4_003', visit: 2023011900362}\n",
      "visit...................: 2023011900362\n",
      "band....................: white\n",
      "physical filter.........: empty~holo4_003\n",
      "run.....................: u/dagoret/BPS_manyspectro_v15/20230130T220742Z\n",
      "{'day_obs': 20230119, 'seq_num': 362, 'detector': 0}\n",
      "========================datasetType = icExpBackground ============================================\n",
      "fullId..................: {band: 'white', instrument: 'LATISS', detector: 0, physical_filter: 'empty~holo4_003', visit: 2023011900335}\n",
      "visit...................: 2023011900335\n",
      "band....................: white\n",
      "physical filter.........: empty~holo4_003\n",
      "run.....................: u/dagoret/BPS_manyspectro_v15/20230130T220742Z\n",
      "{'day_obs': 20230119, 'seq_num': 335, 'detector': 0}\n",
      "========================datasetType = icExpBackground ============================================\n",
      "fullId..................: {band: 'white', instrument: 'LATISS', detector: 0, physical_filter: 'empty~holo4_003', visit: 2023011900353}\n",
      "visit...................: 2023011900353\n",
      "band....................: white\n",
      "physical filter.........: empty~holo4_003\n",
      "run.....................: u/dagoret/BPS_manyspectro_v15/20230130T220742Z\n",
      "{'day_obs': 20230119, 'seq_num': 353, 'detector': 0}\n",
      "========================datasetType = icExpBackground ============================================\n",
      "fullId..................: {band: 'white', instrument: 'LATISS', detector: 0, physical_filter: 'empty~holo4_003', visit: 2023011900383}\n",
      "visit...................: 2023011900383\n",
      "band....................: white\n",
      "physical filter.........: empty~holo4_003\n",
      "run.....................: u/dagoret/BPS_manyspectro_v15/20230130T220742Z\n",
      "{'day_obs': 20230119, 'seq_num': 383, 'detector': 0}\n",
      "========================datasetType = icExpBackground ============================================\n",
      "fullId..................: {band: 'white', instrument: 'LATISS', detector: 0, physical_filter: 'empty~holo4_003', visit: 2023011900254}\n",
      "visit...................: 2023011900254\n",
      "band....................: white\n",
      "physical filter.........: empty~holo4_003\n",
      "run.....................: u/dagoret/BPS_manyspectro_v15/20230130T220742Z\n",
      "{'day_obs': 20230119, 'seq_num': 254, 'detector': 0}\n",
      "========================datasetType = icExpBackground ============================================\n",
      "fullId..................: {band: 'white', instrument: 'LATISS', detector: 0, physical_filter: 'empty~holo4_003', visit: 2023011900374}\n",
      "visit...................: 2023011900374\n",
      "band....................: white\n",
      "physical filter.........: empty~holo4_003\n",
      "run.....................: u/dagoret/BPS_manyspectro_v15/20230130T220742Z\n",
      "{'day_obs': 20230119, 'seq_num': 374, 'detector': 0}\n",
      "========================datasetType = icExpBackground ============================================\n",
      "fullId..................: {band: 'white', instrument: 'LATISS', detector: 0, physical_filter: 'empty~holo4_003', visit: 2023011900375}\n",
      "visit...................: 2023011900375\n",
      "band....................: white\n",
      "physical filter.........: empty~holo4_003\n",
      "run.....................: u/dagoret/BPS_manyspectro_v15/20230130T220742Z\n",
      "{'day_obs': 20230119, 'seq_num': 375, 'detector': 0}\n",
      "========================datasetType = icExpBackground ============================================\n",
      "fullId..................: {band: 'white', instrument: 'LATISS', detector: 0, physical_filter: 'empty~holo4_003', visit: 2023011900181}\n",
      "visit...................: 2023011900181\n",
      "band....................: white\n",
      "physical filter.........: empty~holo4_003\n",
      "run.....................: u/dagoret/BPS_manyspectro_v15/20230130T220742Z\n",
      "{'day_obs': 20230119, 'seq_num': 181, 'detector': 0}\n",
      "========================datasetType = icExpBackground ============================================\n",
      "fullId..................: {band: 'white', instrument: 'LATISS', detector: 0, physical_filter: 'empty~holo4_003', visit: 2023011900314}\n",
      "visit...................: 2023011900314\n",
      "band....................: white\n",
      "physical filter.........: empty~holo4_003\n",
      "run.....................: u/dagoret/BPS_manyspectro_v15/20230130T220742Z\n",
      "{'day_obs': 20230119, 'seq_num': 314, 'detector': 0}\n",
      "========================datasetType = icExpBackground ============================================\n",
      "fullId..................: {band: 'white', instrument: 'LATISS', detector: 0, physical_filter: 'empty~holo4_003', visit: 2023011900270}\n",
      "visit...................: 2023011900270\n",
      "band....................: white\n",
      "physical filter.........: empty~holo4_003\n",
      "run.....................: u/dagoret/BPS_manyspectro_v15/20230130T220742Z\n",
      "{'day_obs': 20230119, 'seq_num': 270, 'detector': 0}\n",
      "========================datasetType = icExpBackground ============================================\n",
      "fullId..................: {band: 'white', instrument: 'LATISS', detector: 0, physical_filter: 'empty~holo4_003', visit: 2023011900363}\n",
      "visit...................: 2023011900363\n",
      "band....................: white\n",
      "physical filter.........: empty~holo4_003\n",
      "run.....................: u/dagoret/BPS_manyspectro_v15/20230130T220742Z\n",
      "{'day_obs': 20230119, 'seq_num': 363, 'detector': 0}\n",
      "========================datasetType = icExpBackground ============================================\n",
      "fullId..................: {band: 'white', instrument: 'LATISS', detector: 0, physical_filter: 'empty~holo4_003', visit: 2023011900218}\n",
      "visit...................: 2023011900218\n",
      "band....................: white\n",
      "physical filter.........: empty~holo4_003\n",
      "run.....................: u/dagoret/BPS_manyspectro_v15/20230130T220742Z\n",
      "{'day_obs': 20230119, 'seq_num': 218, 'detector': 0}\n",
      "========================datasetType = icExpBackground ============================================\n",
      "fullId..................: {band: 'white', instrument: 'LATISS', detector: 0, physical_filter: 'empty~holo4_003', visit: 2023011900402}\n",
      "visit...................: 2023011900402\n",
      "band....................: white\n",
      "physical filter.........: empty~holo4_003\n",
      "run.....................: u/dagoret/BPS_manyspectro_v15/20230130T220742Z\n",
      "{'day_obs': 20230119, 'seq_num': 402, 'detector': 0}\n",
      "========================datasetType = icExpBackground ============================================\n",
      "fullId..................: {band: 'white', instrument: 'LATISS', detector: 0, physical_filter: 'empty~holo4_003', visit: 2023011900180}\n",
      "visit...................: 2023011900180\n",
      "band....................: white\n",
      "physical filter.........: empty~holo4_003\n",
      "run.....................: u/dagoret/BPS_manyspectro_v15/20230130T220742Z\n",
      "{'day_obs': 20230119, 'seq_num': 180, 'detector': 0}\n",
      "========================datasetType = icExpBackground ============================================\n",
      "fullId..................: {band: 'white', instrument: 'LATISS', detector: 0, physical_filter: 'empty~holo4_003', visit: 2023011900345}\n",
      "visit...................: 2023011900345\n",
      "band....................: white\n",
      "physical filter.........: empty~holo4_003\n",
      "run.....................: u/dagoret/BPS_manyspectro_v15/20230130T220742Z\n",
      "{'day_obs': 20230119, 'seq_num': 345, 'detector': 0}\n",
      "========================datasetType = icExpBackground ============================================\n",
      "fullId..................: {band: 'white', instrument: 'LATISS', detector: 0, physical_filter: 'empty~holo4_003', visit: 2023011900279}\n",
      "visit...................: 2023011900279\n",
      "band....................: white\n",
      "physical filter.........: empty~holo4_003\n",
      "run.....................: u/dagoret/BPS_manyspectro_v15/20230130T220742Z\n",
      "{'day_obs': 20230119, 'seq_num': 279, 'detector': 0}\n",
      "========================datasetType = icExpBackground ============================================\n",
      "fullId..................: {band: 'white', instrument: 'LATISS', detector: 0, physical_filter: 'empty~holo4_003', visit: 2023011900217}\n",
      "visit...................: 2023011900217\n",
      "band....................: white\n",
      "physical filter.........: empty~holo4_003\n",
      "run.....................: u/dagoret/BPS_manyspectro_v15/20230130T220742Z\n",
      "{'day_obs': 20230119, 'seq_num': 217, 'detector': 0}\n",
      "========================datasetType = icExpBackground ============================================\n",
      "fullId..................: {band: 'white', instrument: 'LATISS', detector: 0, physical_filter: 'empty~holo4_003', visit: 2023011900226}\n",
      "visit...................: 2023011900226\n",
      "band....................: white\n",
      "physical filter.........: empty~holo4_003\n",
      "run.....................: u/dagoret/BPS_manyspectro_v15/20230130T220742Z\n",
      "{'day_obs': 20230119, 'seq_num': 226, 'detector': 0}\n",
      "========================datasetType = icExpBackground ============================================\n",
      "fullId..................: {band: 'white', instrument: 'LATISS', detector: 0, physical_filter: 'empty~holo4_003', visit: 2023011900189}\n",
      "visit...................: 2023011900189\n",
      "band....................: white\n",
      "physical filter.........: empty~holo4_003\n",
      "run.....................: u/dagoret/BPS_manyspectro_v15/20230130T220742Z\n",
      "{'day_obs': 20230119, 'seq_num': 189, 'detector': 0}\n",
      "========================datasetType = icExpBackground ============================================\n",
      "fullId..................: {band: 'white', instrument: 'LATISS', detector: 0, physical_filter: 'empty~holo4_003', visit: 2023011900401}\n",
      "visit...................: 2023011900401\n",
      "band....................: white\n",
      "physical filter.........: empty~holo4_003\n",
      "run.....................: u/dagoret/BPS_manyspectro_v15/20230130T220742Z\n",
      "{'day_obs': 20230119, 'seq_num': 401, 'detector': 0}\n",
      "========================datasetType = icExpBackground ============================================\n",
      "fullId..................: {band: 'white', instrument: 'LATISS', detector: 0, physical_filter: 'empty~holo4_003', visit: 2023011900296}\n",
      "visit...................: 2023011900296\n",
      "band....................: white\n",
      "physical filter.........: empty~holo4_003\n",
      "run.....................: u/dagoret/BPS_manyspectro_v15/20230130T220742Z\n",
      "{'day_obs': 20230119, 'seq_num': 296, 'detector': 0}\n",
      "========================datasetType = icExpBackground ============================================\n",
      "fullId..................: {band: 'white', instrument: 'LATISS', detector: 0, physical_filter: 'empty~holo4_003', visit: 2023011900269}\n",
      "visit...................: 2023011900269\n",
      "band....................: white\n",
      "physical filter.........: empty~holo4_003\n",
      "run.....................: u/dagoret/BPS_manyspectro_v15/20230130T220742Z\n",
      "{'day_obs': 20230119, 'seq_num': 269, 'detector': 0}\n",
      "========================datasetType = icExpBackground ============================================\n",
      "fullId..................: {band: 'white', instrument: 'LATISS', detector: 0, physical_filter: 'empty~holo4_003', visit: 2023011900278}\n",
      "visit...................: 2023011900278\n",
      "band....................: white\n",
      "physical filter.........: empty~holo4_003\n",
      "run.....................: u/dagoret/BPS_manyspectro_v15/20230130T220742Z\n",
      "{'day_obs': 20230119, 'seq_num': 278, 'detector': 0}\n",
      "========================datasetType = icExpBackground ============================================\n",
      "fullId..................: {band: 'white', instrument: 'LATISS', detector: 0, physical_filter: 'empty~holo4_003', visit: 2023011900288}\n",
      "visit...................: 2023011900288\n",
      "band....................: white\n",
      "physical filter.........: empty~holo4_003\n",
      "run.....................: u/dagoret/BPS_manyspectro_v15/20230130T220742Z\n",
      "{'day_obs': 20230119, 'seq_num': 288, 'detector': 0}\n",
      "========================datasetType = icExpBackground ============================================\n",
      "fullId..................: {band: 'white', instrument: 'LATISS', detector: 0, physical_filter: 'empty~holo4_003', visit: 2023011900315}\n",
      "visit...................: 2023011900315\n",
      "band....................: white\n",
      "physical filter.........: empty~holo4_003\n",
      "run.....................: u/dagoret/BPS_manyspectro_v15/20230130T220742Z\n",
      "{'day_obs': 20230119, 'seq_num': 315, 'detector': 0}\n",
      "========================datasetType = icExpBackground ============================================\n",
      "fullId..................: {band: 'white', instrument: 'LATISS', detector: 0, physical_filter: 'empty~holo4_003', visit: 2023011900384}\n",
      "visit...................: 2023011900384\n",
      "band....................: white\n",
      "physical filter.........: empty~holo4_003\n",
      "run.....................: u/dagoret/BPS_manyspectro_v15/20230130T220742Z\n",
      "{'day_obs': 20230119, 'seq_num': 384, 'detector': 0}\n",
      "========================datasetType = icExpBackground ============================================\n",
      "fullId..................: {band: 'white', instrument: 'LATISS', detector: 0, physical_filter: 'empty~holo4_003', visit: 2023011900227}\n",
      "visit...................: 2023011900227\n",
      "band....................: white\n",
      "physical filter.........: empty~holo4_003\n",
      "run.....................: u/dagoret/BPS_manyspectro_v15/20230130T220742Z\n",
      "{'day_obs': 20230119, 'seq_num': 227, 'detector': 0}\n",
      "========================datasetType = icExpBackground ============================================\n",
      "fullId..................: {band: 'white', instrument: 'LATISS', detector: 0, physical_filter: 'empty~holo4_003', visit: 2023011900344}\n",
      "visit...................: 2023011900344\n",
      "band....................: white\n",
      "physical filter.........: empty~holo4_003\n",
      "run.....................: u/dagoret/BPS_manyspectro_v15/20230130T220742Z\n",
      "{'day_obs': 20230119, 'seq_num': 344, 'detector': 0}\n",
      "========================datasetType = icExpBackground ============================================\n",
      "fullId..................: {band: 'white', instrument: 'LATISS', detector: 0, physical_filter: 'empty~holo4_003', visit: 2023011900255}\n",
      "visit...................: 2023011900255\n",
      "band....................: white\n",
      "physical filter.........: empty~holo4_003\n",
      "run.....................: u/dagoret/BPS_manyspectro_v15/20230130T220742Z\n",
      "{'day_obs': 20230119, 'seq_num': 255, 'detector': 0}\n",
      "========================datasetType = icExpBackground ============================================\n",
      "fullId..................: {band: 'white', instrument: 'LATISS', detector: 0, physical_filter: 'empty~holo4_003', visit: 2023011900336}\n",
      "visit...................: 2023011900336\n",
      "band....................: white\n",
      "physical filter.........: empty~holo4_003\n",
      "run.....................: u/dagoret/BPS_manyspectro_v15/20230130T220742Z\n",
      "{'day_obs': 20230119, 'seq_num': 336, 'detector': 0}\n",
      "========================datasetType = icExpBackground ============================================\n",
      "fullId..................: {band: 'white', instrument: 'LATISS', detector: 0, physical_filter: 'empty~holo4_003', visit: 2023011900162}\n",
      "visit...................: 2023011900162\n",
      "band....................: white\n",
      "physical filter.........: empty~holo4_003\n",
      "run.....................: u/dagoret/BPS_manyspectro_v15/20230130T220742Z\n",
      "{'day_obs': 20230119, 'seq_num': 162, 'detector': 0}\n",
      "========================datasetType = icExpBackground ============================================\n",
      "fullId..................: {band: 'white', instrument: 'LATISS', detector: 0, physical_filter: 'empty~holo4_003', visit: 2023011900326}\n",
      "visit...................: 2023011900326\n",
      "band....................: white\n",
      "physical filter.........: empty~holo4_003\n",
      "run.....................: u/dagoret/BPS_manyspectro_v15/20230130T220742Z\n",
      "{'day_obs': 20230119, 'seq_num': 326, 'detector': 0}\n",
      "========================datasetType = icExpBackground ============================================\n",
      "fullId..................: {band: 'white', instrument: 'LATISS', detector: 0, physical_filter: 'empty~holo4_003', visit: 2023011900297}\n",
      "visit...................: 2023011900297\n",
      "band....................: white\n",
      "physical filter.........: empty~holo4_003\n",
      "run.....................: u/dagoret/BPS_manyspectro_v15/20230130T220742Z\n",
      "{'day_obs': 20230119, 'seq_num': 297, 'detector': 0}\n",
      "========================datasetType = icExpBackground ============================================\n",
      "fullId..................: {band: 'white', instrument: 'LATISS', detector: 0, physical_filter: 'empty~holo4_003', visit: 2023011900327}\n",
      "visit...................: 2023011900327\n",
      "band....................: white\n",
      "physical filter.........: empty~holo4_003\n",
      "run.....................: u/dagoret/BPS_manyspectro_v15/20230130T220742Z\n",
      "{'day_obs': 20230119, 'seq_num': 327, 'detector': 0}\n",
      "========================datasetType = icExpBackground ============================================\n",
      "fullId..................: {band: 'white', instrument: 'LATISS', detector: 0, physical_filter: 'empty~holo4_003', visit: 2023011900199}\n",
      "visit...................: 2023011900199\n",
      "band....................: white\n",
      "physical filter.........: empty~holo4_003\n",
      "run.....................: u/dagoret/BPS_manyspectro_v15/20230130T220742Z\n",
      "{'day_obs': 20230119, 'seq_num': 199, 'detector': 0}\n",
      "========================datasetType = icExpBackground ============================================\n",
      "fullId..................: {band: 'white', instrument: 'LATISS', detector: 0, physical_filter: 'empty~holo4_003', visit: 2023011900306}\n",
      "visit...................: 2023011900306\n",
      "band....................: white\n",
      "physical filter.........: empty~holo4_003\n",
      "run.....................: u/dagoret/BPS_manyspectro_v15/20230130T220742Z\n",
      "{'day_obs': 20230119, 'seq_num': 306, 'detector': 0}\n",
      "========================datasetType = icExpBackground ============================================\n",
      "fullId..................: {band: 'white', instrument: 'LATISS', detector: 0, physical_filter: 'empty~holo4_003', visit: 2023011900393}\n",
      "visit...................: 2023011900393\n",
      "band....................: white\n",
      "physical filter.........: empty~holo4_003\n",
      "run.....................: u/dagoret/BPS_manyspectro_v15/20230130T220742Z\n",
      "{'day_obs': 20230119, 'seq_num': 393, 'detector': 0}\n",
      "========================datasetType = icExpBackground ============================================\n",
      "fullId..................: {band: 'white', instrument: 'LATISS', detector: 0, physical_filter: 'empty~holo4_003', visit: 2023011900163}\n",
      "visit...................: 2023011900163\n",
      "band....................: white\n",
      "physical filter.........: empty~holo4_003\n",
      "run.....................: u/dagoret/BPS_manyspectro_v15/20230130T220742Z\n",
      "{'day_obs': 20230119, 'seq_num': 163, 'detector': 0}\n",
      "========================datasetType = icExpBackground ============================================\n",
      "fullId..................: {band: 'white', instrument: 'LATISS', detector: 0, physical_filter: 'empty~holo4_003', visit: 2023011900287}\n",
      "visit...................: 2023011900287\n",
      "band....................: white\n",
      "physical filter.........: empty~holo4_003\n",
      "run.....................: u/dagoret/BPS_manyspectro_v15/20230130T220742Z\n",
      "{'day_obs': 20230119, 'seq_num': 287, 'detector': 0}\n"
     ]
    }
   ],
   "source": [
    "all_ref_for_icExpBg  = []\n",
    "all_dataId = []\n",
    "all_exposures = []\n",
    "all_icExpBg  = []\n",
    "all_dateobs = []\n",
    "all_mjd = []\n",
    "\n",
    "for i, ref in enumerate(datasetRefs):\n",
    "    print(\"========================datasetType = icExpBackground ============================================\")\n",
    "    print(\"fullId..................:\",ref.dataId.full)\n",
    "    print(\"visit...................:\",ref.dataId[\"visit\"])\n",
    "    print(\"band....................:\",ref.dataId[\"band\"])\n",
    "    print(\"physical filter.........:\",ref.dataId[\"physical_filter\"])\n",
    "    print(\"run.....................:\",ref.run)\n",
    "    the_visit = ref.dataId[\"visit\"]\n",
    "    the_exposure = the_visit\n",
    "    the_day_obs = ref.dataId[\"visit\"]//100_000\n",
    "    the_seq_num = ref.dataId[\"visit\"]- the_day_obs*100_000    \n",
    "    the_dataId = {'day_obs': the_day_obs,'seq_num':the_seq_num,'detector':0,}\n",
    "    \n",
    "    # extract time\n",
    "    raw_img= butler.get('raw', dataId={'exposure': the_visit, 'instrument': 'LATISS', 'detector': 0}, collections = 'LATISS/raw/all')\n",
    "    meta = raw_img.getMetadata()\n",
    "    md = meta.toDict()\n",
    "    date_obs = md['DATE-OBS']\n",
    "    \n",
    "    print(the_dataId)\n",
    "    \n",
    "    icExpBg = butler.get('icExpBackground', visit=the_exposure, detector=0, collections=my_collection, instrument='LATISS')\n",
    "    all_ref_for_icExpBg.append(ref) \n",
    "    all_dataId.append(the_dataId) \n",
    "    all_exposures.append(the_exposure)\n",
    "    all_icExpBg.append(icExpBg)\n",
    "    \n",
    "\n",
    "    the_visid_idx = i\n",
    "    the_dateobs = pd.to_datetime(date_obs)\n",
    "    the_mjd = Time(date_obs).mjd\n",
    "    \n",
    "    all_dataId.append(the_dataId) \n",
    "    all_dateobs.append(date_obs)\n",
    "    all_mjd.append(the_mjd)\n",
    "    \n",
    "    \n",
    "    \n",
    "    #registry_query = f\"instrument='LATISS' and instrument=0 and visit={the_visit}]\"\n",
    "    #print(f\"registry_query = {registry_query}\")\n",
    "    #info = registry.queryDimensionRecords('exposure',where = registry_query)\n",
    "    \n",
    "    #if i > 1:\n",
    "    #    break"
   ]
  },
  {
   "cell_type": "code",
   "execution_count": 18,
   "id": "0f3b8830-40ce-47fa-8f61-dc4477240dbe",
   "metadata": {
    "execution": {
     "iopub.execute_input": "2023-02-04T15:02:40.453555Z",
     "iopub.status.busy": "2023-02-04T15:02:40.452882Z",
     "iopub.status.idle": "2023-02-04T15:02:40.706682Z",
     "shell.execute_reply": "2023-02-04T15:02:40.706237Z",
     "shell.execute_reply.started": "2023-02-04T15:02:40.453530Z"
    },
    "tags": []
   },
   "outputs": [
    {
     "data": {
      "text/plain": [
       "lsst.afw.image.image.ImageF=[[33.265255  33.255775  33.246323  ...  7.586915   7.514786   7.44249  ]\n",
       " [33.262848  33.25338   33.243935  ...  7.5879607  7.515844   7.44356  ]\n",
       " [33.26045   33.250984  33.241554  ...  7.5890217  7.516917   7.444646 ]\n",
       " ...\n",
       " [ 7.5013566  7.5099707  7.5185504 ...  3.087335   3.0676563  3.0479023]\n",
       " [ 7.507048   7.5156684  7.524254  ...  3.1257448  3.1061244  3.086429 ]\n",
       " [ 7.512909   7.521535   7.5301266 ...  3.1643586  3.144797   3.1251607]], bbox=(minimum=(0, 0), maximum=(4071, 3999))"
      ]
     },
     "execution_count": 18,
     "metadata": {},
     "output_type": "execute_result"
    }
   ],
   "source": [
    "all_icExpBg[0].getImage()"
   ]
  },
  {
   "cell_type": "code",
   "execution_count": null,
   "id": "a4afe23a-71ae-4c4e-abd7-591bc9d939c8",
   "metadata": {
    "execution": {
     "iopub.status.busy": "2023-02-04T14:58:43.064912Z",
     "iopub.status.idle": "2023-02-04T14:58:43.065303Z",
     "shell.execute_reply": "2023-02-04T14:58:43.065192Z",
     "shell.execute_reply.started": "2023-02-04T14:58:43.065181Z"
    },
    "tags": []
   },
   "outputs": [],
   "source": [
    "df.to_csv(file_Bgd_out)"
   ]
  },
  {
   "cell_type": "code",
   "execution_count": null,
   "id": "dbf845eb-7c07-4344-a440-f7af1bffd08a",
   "metadata": {
    "execution": {
     "iopub.status.busy": "2023-02-04T14:58:43.065917Z",
     "iopub.status.idle": "2023-02-04T14:58:43.066321Z",
     "shell.execute_reply": "2023-02-04T14:58:43.066212Z",
     "shell.execute_reply.started": "2023-02-04T14:58:43.066202Z"
    },
    "tags": []
   },
   "outputs": [],
   "source": [
    "print(df.columns.tolist())"
   ]
  },
  {
   "cell_type": "code",
   "execution_count": 19,
   "id": "e211cb27-8fce-4f75-b5f8-2cc966675158",
   "metadata": {
    "execution": {
     "iopub.execute_input": "2023-02-04T15:03:31.492459Z",
     "iopub.status.busy": "2023-02-04T15:03:31.491801Z",
     "iopub.status.idle": "2023-02-04T15:03:31.504403Z",
     "shell.execute_reply": "2023-02-04T15:03:31.503813Z",
     "shell.execute_reply.started": "2023-02-04T15:03:31.492436Z"
    },
    "tags": []
   },
   "outputs": [
    {
     "ename": "NameError",
     "evalue": "name 'df' is not defined",
     "output_type": "error",
     "traceback": [
      "\u001b[0;31m---------------------------------------------------------------------------\u001b[0m",
      "\u001b[0;31mNameError\u001b[0m                                 Traceback (most recent call last)",
      "Input \u001b[0;32mIn [19]\u001b[0m, in \u001b[0;36m<cell line: 1>\u001b[0;34m()\u001b[0m\n\u001b[0;32m----> 1\u001b[0m \u001b[43mdf\u001b[49m[\u001b[38;5;124m'\u001b[39m\u001b[38;5;124mdateobs\u001b[39m\u001b[38;5;124m'\u001b[39m]\u001b[38;5;241m.\u001b[39munique()\n",
      "\u001b[0;31mNameError\u001b[0m: name 'df' is not defined"
     ]
    }
   ],
   "source": [
    "df['dateobs'].unique()"
   ]
  },
  {
   "cell_type": "code",
   "execution_count": null,
   "id": "1bce5125-e40f-419c-9d00-a8ac1f2a78c7",
   "metadata": {},
   "outputs": [],
   "source": []
  }
 ],
 "metadata": {
  "kernelspec": {
   "display_name": "LSST",
   "language": "python",
   "name": "lsst"
  },
  "language_info": {
   "codemirror_mode": {
    "name": "ipython",
    "version": 3
   },
   "file_extension": ".py",
   "mimetype": "text/x-python",
   "name": "python",
   "nbconvert_exporter": "python",
   "pygments_lexer": "ipython3",
   "version": "3.10.8"
  }
 },
 "nbformat": 4,
 "nbformat_minor": 5
}
