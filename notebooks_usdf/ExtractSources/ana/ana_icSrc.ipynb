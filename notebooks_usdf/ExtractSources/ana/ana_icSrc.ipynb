{
 "cells": [
  {
   "cell_type": "markdown",
   "id": "6dad5de5-fa9d-4891-a4a0-ae81e8ae1ea4",
   "metadata": {},
   "source": [
    "# Analyse Sources icSrc\n",
    "\n",
    "\n",
    "- author : Sylvie Dagoret-Campagne\n",
    "- affiliation : IJCLab\n",
    "- creation date : 2023/02/04\n",
    "- update : 2023/02/06\n"
   ]
  },
  {
   "cell_type": "code",
   "execution_count": 1,
   "id": "b87e5929-4e52-4271-8c90-a14b7f2bede2",
   "metadata": {},
   "outputs": [],
   "source": [
    "# Import some generally useful packages\n",
    "\n",
    "import os\n",
    "import numpy as np\n",
    "import matplotlib.pyplot as plt\n",
    "import matplotlib.colors as colors\n",
    "import matplotlib.cm as cmx\n",
    "%matplotlib inline\n",
    "import pandas as pd\n",
    "from itertools import cycle, islice"
   ]
  },
  {
   "cell_type": "code",
   "execution_count": 2,
   "id": "27fea21b-cae4-493e-b65a-322a30e95cf7",
   "metadata": {},
   "outputs": [],
   "source": [
    "import matplotlib.dates as mdates"
   ]
  },
  {
   "cell_type": "code",
   "execution_count": 3,
   "id": "16d101a4-5f9c-459c-a835-39510ba2d3d6",
   "metadata": {},
   "outputs": [],
   "source": [
    "from collections import OrderedDict"
   ]
  },
  {
   "cell_type": "code",
   "execution_count": 4,
   "id": "8d5e5544-5ffa-4d01-8b1a-9cfd591ad470",
   "metadata": {},
   "outputs": [],
   "source": [
    "import matplotlib.offsetbox\n",
    "props = dict(boxstyle='round',edgecolor=\"w\",facecolor=\"w\", alpha=0.5)"
   ]
  },
  {
   "cell_type": "code",
   "execution_count": 5,
   "id": "0b23ac15-d2db-4873-9b67-dee9db8fc3c0",
   "metadata": {},
   "outputs": [],
   "source": [
    "# to enlarge the sizes\n",
    "params = {'legend.fontsize': 'large',\n",
    "          'figure.figsize': (10, 6),\n",
    "         'axes.labelsize': 'xx-large',\n",
    "         'axes.titlesize':'xx-large',\n",
    "         'xtick.labelsize':'xx-large',\n",
    "         'ytick.labelsize':'xx-large'}\n",
    "plt.rcParams.update(params)\n"
   ]
  },
  {
   "cell_type": "markdown",
   "id": "e9033d09-8675-4145-993f-a91b318372d8",
   "metadata": {},
   "source": [
    "# Config"
   ]
  },
  {
   "cell_type": "code",
   "execution_count": 6,
   "id": "741d3836-8c26-4a91-9322-122747cc1094",
   "metadata": {},
   "outputs": [
    {
     "name": "stdout",
     "output_type": "stream",
     "text": [
      "Table_icExpBackground_20230117.csv Table_icSrc_20230117.csv\n",
      "Table_icExpBackground_20230118.csv Table_icSrc_20230118.csv\n",
      "Table_icExpBackground_20230119.csv Table_icSrc_20230119.csv\n",
      "Table_icExpBackground_20230131.csv Table_icSrc_20230131.csv\n",
      "Table_icExpBackground_20230201.csv Table_icSrc_20230201.csv\n",
      "Table_icExpBackground_20230202.csv Table_icSrc_20230202.csv\n"
     ]
    }
   ],
   "source": [
    "!ls ../data_Tables"
   ]
  },
  {
   "cell_type": "code",
   "execution_count": 7,
   "id": "aba0a422-6a6a-4e47-bf09-a26c3ff441ea",
   "metadata": {},
   "outputs": [],
   "source": [
    "path = \"../data_Tables\""
   ]
  },
  {
   "cell_type": "code",
   "execution_count": 8,
   "id": "6f36894c-959c-408f-8872-492fa5ffa286",
   "metadata": {},
   "outputs": [],
   "source": [
    "date_to_file = OrderedDict( {\n",
    "    20230117 :\"Table_icExpBackground_20230117.csv\",\n",
    "    20230118 :\"Table_icExpBackground_20230118.csv\",\n",
    "    20230119 :\"Table_icExpBackground_20230119.csv\",\n",
    "    20230131 :\"Table_icExpBackground_20230131.csv\",\n",
    "    20230201 :\"Table_icExpBackground_20230201.csv\",\n",
    "    20230202 :\"Table_icExpBackground_20230202.csv\",\n",
    "})"
   ]
  },
  {
   "cell_type": "code",
   "execution_count": 9,
   "id": "f8e3c831-985d-4bc4-8d08-ec1d7f914ecd",
   "metadata": {},
   "outputs": [],
   "source": [
    "date_sel = 20230202"
   ]
  },
  {
   "cell_type": "code",
   "execution_count": 10,
   "id": "1e958657-e40c-448e-b8d8-1e283724558e",
   "metadata": {},
   "outputs": [],
   "source": [
    "filename = date_to_file[date_sel]"
   ]
  },
  {
   "cell_type": "code",
   "execution_count": 11,
   "id": "24886793-c03c-4cf9-8755-f2815873d52d",
   "metadata": {},
   "outputs": [],
   "source": [
    "fullfilename = os.path.join(path,filename)"
   ]
  },
  {
   "cell_type": "markdown",
   "id": "743f0c9d-adc0-4740-8539-e2e0c8f13d40",
   "metadata": {},
   "source": [
    "# Read"
   ]
  },
  {
   "cell_type": "code",
   "execution_count": 12,
   "id": "2b8cb216-d8c5-4dc1-b633-79d33dd05fea",
   "metadata": {},
   "outputs": [],
   "source": [
    "df= pd.read_csv(fullfilename)"
   ]
  },
  {
   "cell_type": "code",
   "execution_count": 13,
   "id": "7a9ce695-0d53-4309-b2f7-e5e568a1884d",
   "metadata": {},
   "outputs": [
    {
     "data": {
      "text/html": [
       "<div>\n",
       "<style scoped>\n",
       "    .dataframe tbody tr th:only-of-type {\n",
       "        vertical-align: middle;\n",
       "    }\n",
       "\n",
       "    .dataframe tbody tr th {\n",
       "        vertical-align: top;\n",
       "    }\n",
       "\n",
       "    .dataframe thead th {\n",
       "        text-align: right;\n",
       "    }\n",
       "</style>\n",
       "<table border=\"1\" class=\"dataframe\">\n",
       "  <thead>\n",
       "    <tr style=\"text-align: right;\">\n",
       "      <th></th>\n",
       "      <th>Unnamed: 0</th>\n",
       "      <th>id</th>\n",
       "      <th>day_obs</th>\n",
       "      <th>seq_num</th>\n",
       "      <th>exposure</th>\n",
       "      <th>mjd</th>\n",
       "      <th>time</th>\n",
       "      <th>med</th>\n",
       "      <th>sig</th>\n",
       "      <th>N</th>\n",
       "      <th>band</th>\n",
       "      <th>physical_filter</th>\n",
       "    </tr>\n",
       "  </thead>\n",
       "  <tbody>\n",
       "    <tr>\n",
       "      <th>0</th>\n",
       "      <td>0</td>\n",
       "      <td>0</td>\n",
       "      <td>20230201</td>\n",
       "      <td>632</td>\n",
       "      <td>2023020100632</td>\n",
       "      <td>59977.219134</td>\n",
       "      <td>2023-02-02 05:15:33.172</td>\n",
       "      <td>65.734464</td>\n",
       "      <td>13.000997</td>\n",
       "      <td>16288000.0</td>\n",
       "      <td>white</td>\n",
       "      <td>empty~holo4_003</td>\n",
       "    </tr>\n",
       "    <tr>\n",
       "      <th>1</th>\n",
       "      <td>1</td>\n",
       "      <td>1</td>\n",
       "      <td>20230201</td>\n",
       "      <td>578</td>\n",
       "      <td>2023020100578</td>\n",
       "      <td>59977.192610</td>\n",
       "      <td>2023-02-02 04:37:21.526</td>\n",
       "      <td>82.450613</td>\n",
       "      <td>14.454371</td>\n",
       "      <td>16288000.0</td>\n",
       "      <td>white</td>\n",
       "      <td>empty~holo4_003</td>\n",
       "    </tr>\n",
       "    <tr>\n",
       "      <th>2</th>\n",
       "      <td>2</td>\n",
       "      <td>2</td>\n",
       "      <td>20230201</td>\n",
       "      <td>472</td>\n",
       "      <td>2023020100472</td>\n",
       "      <td>59977.138642</td>\n",
       "      <td>2023-02-02 03:19:38.681</td>\n",
       "      <td>46.162452</td>\n",
       "      <td>11.794052</td>\n",
       "      <td>16288000.0</td>\n",
       "      <td>white</td>\n",
       "      <td>empty~holo4_003</td>\n",
       "    </tr>\n",
       "    <tr>\n",
       "      <th>3</th>\n",
       "      <td>3</td>\n",
       "      <td>3</td>\n",
       "      <td>20230201</td>\n",
       "      <td>530</td>\n",
       "      <td>2023020100530</td>\n",
       "      <td>59977.168927</td>\n",
       "      <td>2023-02-02 04:03:15.271</td>\n",
       "      <td>82.068171</td>\n",
       "      <td>15.673638</td>\n",
       "      <td>16288000.0</td>\n",
       "      <td>white</td>\n",
       "      <td>empty~holo4_003</td>\n",
       "    </tr>\n",
       "    <tr>\n",
       "      <th>4</th>\n",
       "      <td>4</td>\n",
       "      <td>4</td>\n",
       "      <td>20230201</td>\n",
       "      <td>623</td>\n",
       "      <td>2023020100623</td>\n",
       "      <td>59977.214692</td>\n",
       "      <td>2023-02-02 05:09:09.431</td>\n",
       "      <td>86.455249</td>\n",
       "      <td>17.319804</td>\n",
       "      <td>16288000.0</td>\n",
       "      <td>white</td>\n",
       "      <td>empty~holo4_003</td>\n",
       "    </tr>\n",
       "    <tr>\n",
       "      <th>...</th>\n",
       "      <td>...</td>\n",
       "      <td>...</td>\n",
       "      <td>...</td>\n",
       "      <td>...</td>\n",
       "      <td>...</td>\n",
       "      <td>...</td>\n",
       "      <td>...</td>\n",
       "      <td>...</td>\n",
       "      <td>...</td>\n",
       "      <td>...</td>\n",
       "      <td>...</td>\n",
       "      <td>...</td>\n",
       "    </tr>\n",
       "    <tr>\n",
       "      <th>63</th>\n",
       "      <td>63</td>\n",
       "      <td>63</td>\n",
       "      <td>20230201</td>\n",
       "      <td>597</td>\n",
       "      <td>2023020100597</td>\n",
       "      <td>59977.200799</td>\n",
       "      <td>2023-02-02 04:49:09.076</td>\n",
       "      <td>77.584937</td>\n",
       "      <td>13.910326</td>\n",
       "      <td>16288000.0</td>\n",
       "      <td>white</td>\n",
       "      <td>empty~holo4_003</td>\n",
       "    </tr>\n",
       "    <tr>\n",
       "      <th>64</th>\n",
       "      <td>64</td>\n",
       "      <td>64</td>\n",
       "      <td>20230201</td>\n",
       "      <td>405</td>\n",
       "      <td>2023020100405</td>\n",
       "      <td>59977.106865</td>\n",
       "      <td>2023-02-02 02:33:53.163</td>\n",
       "      <td>52.422197</td>\n",
       "      <td>9.797952</td>\n",
       "      <td>16288000.0</td>\n",
       "      <td>white</td>\n",
       "      <td>empty~holo4_003</td>\n",
       "    </tr>\n",
       "    <tr>\n",
       "      <th>65</th>\n",
       "      <td>65</td>\n",
       "      <td>65</td>\n",
       "      <td>20230201</td>\n",
       "      <td>508</td>\n",
       "      <td>2023020100508</td>\n",
       "      <td>59977.157309</td>\n",
       "      <td>2023-02-02 03:46:31.492</td>\n",
       "      <td>54.023033</td>\n",
       "      <td>14.383790</td>\n",
       "      <td>16288000.0</td>\n",
       "      <td>white</td>\n",
       "      <td>empty~holo4_003</td>\n",
       "    </tr>\n",
       "    <tr>\n",
       "      <th>66</th>\n",
       "      <td>66</td>\n",
       "      <td>66</td>\n",
       "      <td>20230201</td>\n",
       "      <td>471</td>\n",
       "      <td>2023020100471</td>\n",
       "      <td>59977.138147</td>\n",
       "      <td>2023-02-02 03:18:55.864</td>\n",
       "      <td>46.294366</td>\n",
       "      <td>11.824970</td>\n",
       "      <td>16288000.0</td>\n",
       "      <td>white</td>\n",
       "      <td>empty~holo4_003</td>\n",
       "    </tr>\n",
       "    <tr>\n",
       "      <th>67</th>\n",
       "      <td>67</td>\n",
       "      <td>67</td>\n",
       "      <td>20230201</td>\n",
       "      <td>696</td>\n",
       "      <td>2023020100696</td>\n",
       "      <td>59977.248120</td>\n",
       "      <td>2023-02-02 05:57:17.537</td>\n",
       "      <td>50.609860</td>\n",
       "      <td>10.445298</td>\n",
       "      <td>16288000.0</td>\n",
       "      <td>white</td>\n",
       "      <td>empty~holo4_003</td>\n",
       "    </tr>\n",
       "  </tbody>\n",
       "</table>\n",
       "<p>68 rows × 12 columns</p>\n",
       "</div>"
      ],
      "text/plain": [
       "    Unnamed: 0  id   day_obs  seq_num       exposure           mjd  \\\n",
       "0            0   0  20230201      632  2023020100632  59977.219134   \n",
       "1            1   1  20230201      578  2023020100578  59977.192610   \n",
       "2            2   2  20230201      472  2023020100472  59977.138642   \n",
       "3            3   3  20230201      530  2023020100530  59977.168927   \n",
       "4            4   4  20230201      623  2023020100623  59977.214692   \n",
       "..         ...  ..       ...      ...            ...           ...   \n",
       "63          63  63  20230201      597  2023020100597  59977.200799   \n",
       "64          64  64  20230201      405  2023020100405  59977.106865   \n",
       "65          65  65  20230201      508  2023020100508  59977.157309   \n",
       "66          66  66  20230201      471  2023020100471  59977.138147   \n",
       "67          67  67  20230201      696  2023020100696  59977.248120   \n",
       "\n",
       "                       time        med        sig           N   band  \\\n",
       "0   2023-02-02 05:15:33.172  65.734464  13.000997  16288000.0  white   \n",
       "1   2023-02-02 04:37:21.526  82.450613  14.454371  16288000.0  white   \n",
       "2   2023-02-02 03:19:38.681  46.162452  11.794052  16288000.0  white   \n",
       "3   2023-02-02 04:03:15.271  82.068171  15.673638  16288000.0  white   \n",
       "4   2023-02-02 05:09:09.431  86.455249  17.319804  16288000.0  white   \n",
       "..                      ...        ...        ...         ...    ...   \n",
       "63  2023-02-02 04:49:09.076  77.584937  13.910326  16288000.0  white   \n",
       "64  2023-02-02 02:33:53.163  52.422197   9.797952  16288000.0  white   \n",
       "65  2023-02-02 03:46:31.492  54.023033  14.383790  16288000.0  white   \n",
       "66  2023-02-02 03:18:55.864  46.294366  11.824970  16288000.0  white   \n",
       "67  2023-02-02 05:57:17.537  50.609860  10.445298  16288000.0  white   \n",
       "\n",
       "    physical_filter  \n",
       "0   empty~holo4_003  \n",
       "1   empty~holo4_003  \n",
       "2   empty~holo4_003  \n",
       "3   empty~holo4_003  \n",
       "4   empty~holo4_003  \n",
       "..              ...  \n",
       "63  empty~holo4_003  \n",
       "64  empty~holo4_003  \n",
       "65  empty~holo4_003  \n",
       "66  empty~holo4_003  \n",
       "67  empty~holo4_003  \n",
       "\n",
       "[68 rows x 12 columns]"
      ]
     },
     "execution_count": 13,
     "metadata": {},
     "output_type": "execute_result"
    }
   ],
   "source": [
    "df"
   ]
  },
  {
   "cell_type": "code",
   "execution_count": 14,
   "id": "7c0063c0-3d8b-49a3-bc93-b2608e067894",
   "metadata": {},
   "outputs": [
    {
     "data": {
      "image/png": "[encoded data removed]",
      "text/plain": [
       "<Figure size 1000x600 with 1 Axes>"
      ]
     },
     "metadata": {},
     "output_type": "display_data"
    }
   ],
   "source": [
    "fig=plt.figure()\n",
    "ax=fig.add_subplot(1,1,1)\n",
    "the_x = pd.to_datetime(df.time)\n",
    "ax.plot(the_x,df.med,'o',color=\"b\")\n",
    "ax.errorbar(the_x,df.med,yerr=df.sig,fmt='o',color=\"b\",ecolor=\"r\")\n",
    "ax.xaxis.set_major_locator(plt.MaxNLocator(5))\n",
    "ax.grid()\n",
    "#ax.set_xticklabels(ax.get_xticks(), rotation = 45)\n",
    "the_title = f\"median exposure background (icExpBackground) on image night {date_sel}\"\n",
    "ax.set_title(the_title)\n",
    "ax.set_xlabel(\"time\")\n",
    "ax.set_ylabel(\"median icExpBackground\")\n",
    "\n",
    "plt.gcf().autofmt_xdate()\n",
    "myFmt = mdates.DateFormatter('%H:%M:%S')\n",
    "plt.gca().xaxis.set_major_formatter(myFmt)\n",
    "plt.xticks(rotation=45)\n",
    "plt.locator_params(axis='x', nbins=6)\n",
    "figfilename=f\"fig_icExpBackground_{date_sel}.png\"\n",
    "plt.tight_layout()\n",
    "plt.savefig(figfilename)\n",
    "plt.show()"
   ]
  },
  {
   "cell_type": "code",
   "execution_count": null,
   "id": "aca55494-ed8c-41fe-8740-514130d0c071",
   "metadata": {},
   "outputs": [],
   "source": []
  }
 ],
 "metadata": {
  "kernelspec": {
   "display_name": "LSST",
   "language": "python",
   "name": "lsst"
  },
  "language_info": {
   "codemirror_mode": {
    "name": "ipython",
    "version": 3
   },
   "file_extension": ".py",
   "mimetype": "text/x-python",
   "name": "python",
   "nbconvert_exporter": "python",
   "pygments_lexer": "ipython3",
   "version": "3.10.8"
  }
 },
 "nbformat": 4,
 "nbformat_minor": 5
}
