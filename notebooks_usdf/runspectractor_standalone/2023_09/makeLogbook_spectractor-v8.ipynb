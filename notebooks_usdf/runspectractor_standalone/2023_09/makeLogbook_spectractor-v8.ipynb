{
 "cells": [
  {
   "cell_type": "markdown",
   "metadata": {},
   "source": [
    "# Build the logbook for Hologram with any type of filter, in any mode (postisrccd and flatfielded)"
   ]
  },
  {
   "cell_type": "markdown",
   "metadata": {},
   "source": [
    "- author : Sylvie Dagoret-Campagne\n",
    "- affiliation : IJCLab/IN2P3/CNES, DESC-LSST fullmember, behalf AuxTel Teal VERA C. Rubin observatory\n",
    "- creation date : September 21th 2023\n",
    "- last update : September 21th 2023\n",
    "\n",
    "\n",
    "Works directory per directory (day by day)\n",
    "\n",
    "For USDF"
   ]
  },
  {
   "cell_type": "code",
   "execution_count": 1,
   "metadata": {
    "execution": {
     "iopub.execute_input": "2023-09-21T13:52:39.114213Z",
     "iopub.status.busy": "2023-09-21T13:52:39.114092Z",
     "iopub.status.idle": "2023-09-21T13:52:39.117224Z",
     "shell.execute_reply": "2023-09-21T13:52:39.116890Z",
     "shell.execute_reply.started": "2023-09-21T13:52:39.114201Z"
    },
    "tags": []
   },
   "outputs": [
    {
     "data": {
      "text/plain": [
       "['/sdf/data/rubin/user/dagoret/AuxTel_summit_tests_2023/runspectractor_standalone/2023_09',\n",
       " '/home/d/dagoret/repos/repos_w_2023_35/analysis_tools/python',\n",
       " '/opt/lsst/software/stack/stack/miniconda3-py38_4.9.2-7.0.1/Linux64/cp_pipe/g857a3418e4+7df23b908a/python',\n",
       " '/opt/lsst/software/stack/stack/miniconda3-py38_4.9.2-7.0.1/Linux64/shapelet/g44018dc512+ea6441928c/python',\n",
       " '/opt/lsst/software/stack/stack/miniconda3-py38_4.9.2-7.0.1/Linux64/meas_modelfit/g93c4d6e787+79b822255a/python',\n",
       " '/opt/lsst/software/stack/stack/miniconda3-py38_4.9.2-7.0.1/Linux64/scarlet_extensions/g9d18589735+d445b4966c/lib/python',\n",
       " '/opt/lsst/software/stack/stack/miniconda3-py38_4.9.2-7.0.1/Linux64/proxmin/g33b4157f25/lib/python',\n",
       " '/opt/lsst/software/stack/stack/miniconda3-py38_4.9.2-7.0.1/Linux64/scarlet/g63ff1f842d+4083830bf8/lib/python',\n",
       " '/opt/lsst/software/stack/stack/miniconda3-py38_4.9.2-7.0.1/Linux64/meas_extensions_scarlet/g943cb464a2+f79590064d/python',\n",
       " '/opt/lsst/software/stack/stack/miniconda3-py38_4.9.2-7.0.1/Linux64/psfex/gc054bea089+81bc2a20b4/python',\n",
       " '/opt/lsst/software/stack/stack/miniconda3-py38_4.9.2-7.0.1/Linux64/meas_extensions_psfex/g58be5f913a+32f1932512/python',\n",
       " '/opt/lsst/software/stack/stack/miniconda3-py38_4.9.2-7.0.1/Linux64/meas_extensions_piff/gc86a011abf+9acc3d8d25/python',\n",
       " '/opt/lsst/software/stack/stack/miniconda3-py38_4.9.2-7.0.1/Linux64/meas_extensions_gaap/g8dd6597355+dceeeb951c/python',\n",
       " '/opt/lsst/software/stack/stack/miniconda3-py38_4.9.2-7.0.1/Linux64/meas_extensions_photometryKron/gb2715bf1a1+9acc3d8d25/python',\n",
       " '/opt/lsst/software/stack/stack/miniconda3-py38_4.9.2-7.0.1/Linux64/meas_extensions_convolved/g42fff21dfb+94f62ec815/python',\n",
       " '/opt/lsst/software/stack/stack/miniconda3-py38_4.9.2-7.0.1/Linux64/kht/gafcb7142de/cpp/build',\n",
       " '/opt/lsst/software/stack/stack/miniconda3-py38_4.9.2-7.0.1/Linux64/verify_metrics/gd129bed42c+81bc2a20b4/python',\n",
       " '/opt/lsst/software/stack/stack/miniconda3-py38_4.9.2-7.0.1/Linux64/felis/g56b87fd2ae+81bc2a20b4/python',\n",
       " '/opt/lsst/software/stack/stack/miniconda3-py38_4.9.2-7.0.1/Linux64/dax_apdb/g4c90b7bd52+fc57afb704/python',\n",
       " '/opt/lsst/software/stack/stack/miniconda3-py38_4.9.2-7.0.1/Linux64/verify/gffb8816710+02c788d496/python',\n",
       " '/opt/lsst/software/stack/stack/miniconda3-py38_4.9.2-7.0.1/Linux64/meas_deblender/g2cc88a2952+6327360372/python',\n",
       " '/opt/lsst/software/stack/stack/miniconda3-py38_4.9.2-7.0.1/Linux64/meas_extensions_shapeHSM/g571dde35ae+9acc3d8d25/python',\n",
       " '/opt/lsst/software/stack/stack/miniconda3-py38_4.9.2-7.0.1/Linux64/meas_extensions_trailedSources/g47da3c6c86+f7136a40d1/python',\n",
       " '/opt/lsst/software/stack/stack/miniconda3-py38_4.9.2-7.0.1/Linux64/meas_astrom/g0a0026dc87+9acc3d8d25/python',\n",
       " '/opt/lsst/software/stack/stack/miniconda3-py38_4.9.2-7.0.1/Linux64/ip_diffim/g07994bdeae+16b1756208/python',\n",
       " '/opt/lsst/software/stack/stack/miniconda3-py38_4.9.2-7.0.1/Linux64/dustmaps_cachedata/gbb0a0c949e+81bc2a20b4/python',\n",
       " '/opt/lsst/software/stack/stack/miniconda3-py38_4.9.2-7.0.1/Linux64/coadd_utils/g337abbeb29+ea6441928c/python',\n",
       " '/opt/lsst/software/stack/stack/miniconda3-py38_4.9.2-7.0.1/Linux64/pipe_tasks/g68a3911fdd+6ad9f154ac/python',\n",
       " '/opt/lsst/software/stack/stack/miniconda3-py38_4.9.2-7.0.1/Linux64/astro_metadata_translator/g0978aabd1f+2a7d2c9fe3/python',\n",
       " '/opt/lsst/software/stack/stack/miniconda3-py38_4.9.2-7.0.1/Linux64/obs_base/gcc620a9fd9+e9a6d3d3e6/python',\n",
       " '/opt/lsst/software/stack/stack/miniconda3-py38_4.9.2-7.0.1/Linux64/skymap/g37c6e7c3d5+905c2c68d7/python',\n",
       " '/opt/lsst/software/stack/stack/miniconda3-py38_4.9.2-7.0.1/Linux64/meas_base/g67924a670a+edc5793283/python',\n",
       " '/opt/lsst/software/stack/stack/miniconda3-py38_4.9.2-7.0.1/Linux64/meas_algorithms/g6f40f426a6+f7136a40d1/python',\n",
       " '/opt/lsst/software/stack/stack/miniconda3-py38_4.9.2-7.0.1/Linux64/ip_isr/gba31a79951+9acc3d8d25/python',\n",
       " '/opt/lsst/software/stack/stack/miniconda3-py38_4.9.2-7.0.1/Linux64/daf_relation/g8a20fa5453+e358f92434/python',\n",
       " '/opt/lsst/software/stack/stack/miniconda3-py38_4.9.2-7.0.1/Linux64/resources/g9e435448e7+e358f92434/python',\n",
       " '/opt/lsst/software/stack/stack/miniconda3-py38_4.9.2-7.0.1/Linux64/daf_butler/g11710eee44+2396472d69/python',\n",
       " '/opt/lsst/software/stack/stack/miniconda3-py38_4.9.2-7.0.1/Linux64/pipe_base/g6bb983e87d+fa056e98be/python',\n",
       " '/opt/lsst/software/stack/stack/miniconda3-py38_4.9.2-7.0.1/Linux64/afw/g5b0a815229+07073039e0/python',\n",
       " '/opt/lsst/software/stack/stack/miniconda3-py38_4.9.2-7.0.1/Linux64/astshim/g3273194fdb+f6908454ef/python',\n",
       " '/opt/lsst/software/stack/stack/miniconda3-py38_4.9.2-7.0.1/Linux64/log/g1e7d6db67d+e358f92434/python',\n",
       " '/opt/lsst/software/stack/stack/miniconda3-py38_4.9.2-7.0.1/Linux64/sphgeom/g6ae5381d9b+81bc2a20b4/python',\n",
       " '/opt/lsst/software/stack/stack/miniconda3-py38_4.9.2-7.0.1/Linux64/geom/ga1e77700b3+1440987d3f/python',\n",
       " '/opt/lsst/software/stack/stack/miniconda3-py38_4.9.2-7.0.1/Linux64/pex_config/g22560d942e+2a7d2c9fe3/python',\n",
       " '/opt/lsst/software/stack/stack/miniconda3-py38_4.9.2-7.0.1/Linux64/pex_exceptions/gdaeeff99f8+0d8dbea60f/python',\n",
       " '/opt/lsst/software/stack/stack/miniconda3-py38_4.9.2-7.0.1/Linux64/base/g98ffbb4407+81bc2a20b4/python',\n",
       " '/opt/lsst/software/stack/stack/miniconda3-py38_4.9.2-7.0.1/Linux64/cpputils/g9ddcbc5298+7f7571301f/python',\n",
       " '/opt/lsst/software/stack/stack/miniconda3-py38_4.9.2-7.0.1/Linux64/sconsUtils/g80c3e6a29f/python',\n",
       " '/opt/lsst/software/stack/stack/miniconda3-py38_4.9.2-7.0.1/Linux64/utils/gf0e1c1abb1+81bc2a20b4/python',\n",
       " '/opt/lsst/software/stack/stack/miniconda3-py38_4.9.2-7.0.1/Linux64/daf_base/gf041782ebf+2691319615/python',\n",
       " '/home/d/dagoret/repos/repos_w_2023_35/Spectractor/lib/python',\n",
       " '/home/d/dagoret/repos/repos_w_2023_35/atmospec/python',\n",
       " '/opt/lsst/software/stack/stack/miniconda3-py38_4.9.2-7.0.1/Linux64/ctrl_mpexec/g183f8e0c68+0b5ff14b26/python',\n",
       " '/opt/lsst/software/stack/stack/miniconda3-py38_4.9.2-7.0.1/Linux64/obs_lsst/g18ae76373f+3c91ea642d/python',\n",
       " '/opt/lsst/software/stack/stack/miniconda3-py38_4.9.2-7.0.1/Linux64/display_firefly/gae46bcf261+ea6441928c/python',\n",
       " '/opt/lsst/software/stack/stack/miniconda3-py38_4.9.2-7.0.1/Linux64/display_astrowidgets/g2bbee38e9b+ea6441928c/python',\n",
       " '/opt/lsst/software/stack/stack/miniconda3-py38_4.9.2-7.0.1/Linux64/gbdes/gc329cc8a54/build/pydir',\n",
       " '/opt/lsst/software/stack/stack/miniconda3-py38_4.9.2-7.0.1/Linux64/drp_tasks/geb290cab21+7b56d25c6a/python',\n",
       " '/opt/lsst/software/stack/stack/miniconda3-py38_4.9.2-7.0.1/Linux64/analysis_drp/gfadca26dcd+7df23b908a/python',\n",
       " '/opt/lsst/software/stack/stack/miniconda3-py38_4.9.2-7.0.1/Linux64/drp_pipe/g62dbaf9afa+539581bbb4/python',\n",
       " '/opt/lsst/software/stack/stack/miniconda3-py38_4.9.2-7.0.1/Linux64/cp_verify/ge14ceffff4+12c68b5962/python',\n",
       " '/opt/lsst/software/stack/stack/miniconda3-py38_4.9.2-7.0.1/Linux64/faro/ge8614a52ae+e4940fcbf0/python',\n",
       " '/opt/lsst/software/stack/stack/miniconda3-py38_4.9.2-7.0.1/Linux64/fgcm/g8d9a5b0805/lib/python',\n",
       " '/opt/lsst/software/stack/stack/miniconda3-py38_4.9.2-7.0.1/Linux64/fgcmcal/g023b260a0e+25821a5130/python',\n",
       " '/opt/lsst/software/stack/stack/miniconda3-py38_4.9.2-7.0.1/Linux64/display_matplotlib/g0265f82a02+ea6441928c/python',\n",
       " '/opt/lsst/software/stack/stack/miniconda3-py38_4.9.2-7.0.1/Linux64/ap_verify/g3bba7c13bf+c1b85e1378/python',\n",
       " '/opt/lsst/software/stack/stack/miniconda3-py38_4.9.2-7.0.1/Linux64/jointcal/g3c689f2686+4a33454177/python',\n",
       " '/opt/lsst/software/stack/stack/miniconda3-py38_4.9.2-7.0.1/Linux64/cbp/ga32fcf49c8+ea6441928c/python',\n",
       " '/opt/lsst/software/stack/stack/miniconda3-py38_4.9.2-7.0.1/Linux64/obs_subaru/g65833fab06+f9c311f76a/python',\n",
       " '/opt/lsst/software/stack/stack/miniconda3-py38_4.9.2-7.0.1/Linux64/obs_decam/gcd84e84c5d+9bde498c3c/python',\n",
       " '/opt/lsst/software/stack/stack/miniconda3-py38_4.9.2-7.0.1/Linux64/obs_cfht/g98ea1558ea+7a1fade221/python',\n",
       " '/opt/lsst/software/stack/stack/miniconda3-py38_4.9.2-7.0.1/Linux64/ctrl_bps_parsl/gfe186b85dc+6e30524a5b/python',\n",
       " '/opt/lsst/software/stack/stack/miniconda3-py38_4.9.2-7.0.1/Linux64/ctrl_bps_panda/g72cefa85e0+6e30524a5b/python',\n",
       " '/opt/lsst/software/stack/stack/miniconda3-py38_4.9.2-7.0.1/Linux64/ctrl_bps_htcondor/g4bda180e2e+6e30524a5b/python',\n",
       " '/opt/lsst/software/stack/stack/miniconda3-py38_4.9.2-7.0.1/Linux64/lsst_bps_plugins/g3a590c521e+29bb66eb6d/python',\n",
       " '/opt/lsst/software/stack/stack/miniconda3-py38_4.9.2-7.0.1/Linux64/ctrl_bps/gf871a26735+9b83f7e51d/python',\n",
       " '/opt/lsst/software/stack/stack/miniconda3-py38_4.9.2-7.0.1/Linux64/ctrl_platform_s3df/g3be6bbf6ee+b8e28c3ebe/python',\n",
       " '/opt/lsst/software/stack/stack/miniconda3-py38_4.9.2-7.0.1/Linux64/ctrl_execute/g3288a415c1+d78986aaf7/python',\n",
       " '/opt/lsst/software/stack/stack/miniconda3-py38_4.9.2-7.0.1/Linux64/display_ds9/gdb4ec4c597+ea6441928c/python',\n",
       " '/opt/lsst/software/stack/stack/miniconda3-py38_4.9.2-7.0.1/Linux64/meas_extensions_simpleShape/gcf0d15dbbd+f7136a40d1/python',\n",
       " '/opt/lsst/software/stack/stack/miniconda3-py38_4.9.2-7.0.1/Linux64/meas_transiNet/g2ca692352a+f7136a40d1/python',\n",
       " '/opt/lsst/software/stack/stack/miniconda3-py38_4.9.2-7.0.1/Linux64/alert_packet/gc1f99d08cb/python',\n",
       " '/opt/lsst/software/stack/stack/miniconda3-py38_4.9.2-7.0.1/Linux64/ap_association/g6758148a95+cc00875cc0/python',\n",
       " '/opt/lsst/software/stack/stack/miniconda3-py38_4.9.2-7.0.1/Linux64/ap_pipe/g06c608b3b8+b6810408d8/python',\n",
       " '/opt/lsst/software/stack/conda/miniconda3-py38_4.9.2/envs/lsst-scipipe-7.0.1/eups/python',\n",
       " '/opt/lsst/software/stack/conda/miniconda3-py38_4.9.2/envs/lsst-scipipe-7.0.1/lib/python311.zip',\n",
       " '/opt/lsst/software/stack/conda/miniconda3-py38_4.9.2/envs/lsst-scipipe-7.0.1/lib/python3.11',\n",
       " '/opt/lsst/software/stack/conda/miniconda3-py38_4.9.2/envs/lsst-scipipe-7.0.1/lib/python3.11/lib-dynload',\n",
       " '',\n",
       " '/home/d/dagoret/.local/lib/python3.11/site-packages',\n",
       " '/opt/lsst/software/stack/conda/miniconda3-py38_4.9.2/envs/lsst-scipipe-7.0.1/lib/python3.11/site-packages']"
      ]
     },
     "execution_count": 1,
     "metadata": {},
     "output_type": "execute_result"
    }
   ],
   "source": [
    "import sys\n",
    "sys.path"
   ]
  },
  {
   "cell_type": "code",
   "execution_count": 2,
   "metadata": {
    "execution": {
     "iopub.execute_input": "2023-09-21T13:52:39.118162Z",
     "iopub.status.busy": "2023-09-21T13:52:39.118043Z",
     "iopub.status.idle": "2023-09-21T13:52:39.329123Z",
     "shell.execute_reply": "2023-09-21T13:52:39.328582Z",
     "shell.execute_reply.started": "2023-09-21T13:52:39.118152Z"
    },
    "tags": []
   },
   "outputs": [
    {
     "name": "stdout",
     "output_type": "stream",
     "text": [
      "20230117  20230131  20230705  20230720\t20230815  20230913\n",
      "20230118  20230202  20230706  20230801\t20230817  20230914\n",
      "20230119  20230704  20230718  20230802\t20230912\n"
     ]
    }
   ],
   "source": [
    "!ls /home/d/dagoret/rubin-user/DATA/AuxtelData2023/my_postisrccd_img_forspectractor_2023/empty~holo4_003\n"
   ]
  },
  {
   "cell_type": "markdown",
   "metadata": {},
   "source": [
    "# Select the combination DATE, FILTER, DISPERSER"
   ]
  },
  {
   "cell_type": "code",
   "execution_count": 3,
   "metadata": {
    "execution": {
     "iopub.execute_input": "2023-09-21T13:52:39.330044Z",
     "iopub.status.busy": "2023-09-21T13:52:39.329905Z",
     "iopub.status.idle": "2023-09-21T13:52:39.332698Z",
     "shell.execute_reply": "2023-09-21T13:52:39.332329Z",
     "shell.execute_reply.started": "2023-09-21T13:52:39.330029Z"
    },
    "tags": []
   },
   "outputs": [],
   "source": [
    "DATE = '20230117'\n",
    "filterdispersernames = [\"empty~holo4_001\",\\\n",
    "                        \"empty~holo4_003\",\\\n",
    "                        \"collimator~holo4_003\",\\\n",
    "                        \"cyl_lens~holo4_001\",\\\n",
    "                        \"cyl_lens~holo4_003\",\\\n",
    "                       ]\n",
    "filterdispersername = filterdispersernames[1]\n",
    "version=\"v8.0\"  # (can process any imagemode)\n",
    "\n",
    "# imagemode : myflatfielding or mypostisrccd or dmpostisrccd\n",
    "imagemode = \"myflatfielding\""
   ]
  },
  {
   "cell_type": "markdown",
   "metadata": {},
   "source": [
    "# If position need to be specified add it in this dictionnary"
   ]
  },
  {
   "cell_type": "code",
   "execution_count": 4,
   "metadata": {
    "execution": {
     "iopub.execute_input": "2023-09-21T13:52:39.333568Z",
     "iopub.status.busy": "2023-09-21T13:52:39.333192Z",
     "iopub.status.idle": "2023-09-21T13:52:39.336577Z",
     "shell.execute_reply": "2023-09-21T13:52:39.336219Z",
     "shell.execute_reply.started": "2023-09-21T13:52:39.333554Z"
    },
    "tags": []
   },
   "outputs": [],
   "source": [
    "# reconstructed / good /xpos /ypos\n",
    "\n",
    "if version == \"v8.0\":\n",
    "    info={\\\n",
    "\n",
    "          # with red filter\n",
    "          'exposure_2023031600351_postisrccd.fits':(1,1,300.,1700),\\\n",
    "         }\n",
    "        "
   ]
  },
  {
   "cell_type": "markdown",
   "metadata": {},
   "source": [
    "# Imports"
   ]
  },
  {
   "cell_type": "code",
   "execution_count": 5,
   "metadata": {
    "execution": {
     "iopub.execute_input": "2023-09-21T13:52:39.337197Z",
     "iopub.status.busy": "2023-09-21T13:52:39.337061Z",
     "iopub.status.idle": "2023-09-21T13:52:39.811736Z",
     "shell.execute_reply": "2023-09-21T13:52:39.811222Z",
     "shell.execute_reply.started": "2023-09-21T13:52:39.337186Z"
    },
    "tags": []
   },
   "outputs": [],
   "source": [
    "import numpy as np\n",
    "import matplotlib.pyplot as plt\n",
    "%matplotlib inline\n",
    "from mpl_toolkits.axes_grid1 import make_axes_locatable\n",
    "import pandas as pd\n",
    "\n",
    "import matplotlib.ticker                         # here's where the formatter is\n",
    "import os\n",
    "import re\n",
    "\n",
    "plt.rcParams[\"figure.figsize\"] = (16,4)\n",
    "plt.rcParams[\"axes.labelsize\"] = 'xx-large'\n",
    "plt.rcParams['axes.titlesize'] = 'xx-large'\n",
    "plt.rcParams['xtick.labelsize']= 'xx-large'\n",
    "plt.rcParams['ytick.labelsize']= 'xx-large'"
   ]
  },
  {
   "cell_type": "code",
   "execution_count": 6,
   "metadata": {
    "execution": {
     "iopub.execute_input": "2023-09-21T13:52:39.812675Z",
     "iopub.status.busy": "2023-09-21T13:52:39.812387Z",
     "iopub.status.idle": "2023-09-21T13:52:39.814862Z",
     "shell.execute_reply": "2023-09-21T13:52:39.814493Z",
     "shell.execute_reply.started": "2023-09-21T13:52:39.812661Z"
    },
    "tags": []
   },
   "outputs": [],
   "source": [
    "from astropy.io import fits"
   ]
  },
  {
   "cell_type": "code",
   "execution_count": 7,
   "metadata": {
    "execution": {
     "iopub.execute_input": "2023-09-21T13:52:39.816320Z",
     "iopub.status.busy": "2023-09-21T13:52:39.816199Z",
     "iopub.status.idle": "2023-09-21T13:52:39.819941Z",
     "shell.execute_reply": "2023-09-21T13:52:39.819568Z",
     "shell.execute_reply.started": "2023-09-21T13:52:39.816308Z"
    },
    "tags": []
   },
   "outputs": [
    {
     "name": "stderr",
     "output_type": "stream",
     "text": [
      "/tmp/ipykernel_43002/3547059130.py:1: DeprecationWarning: the imp module is deprecated in favour of importlib and slated for removal in Python 3.12; see the module's documentation for alternative uses\n",
      "  import imp\n"
     ]
    }
   ],
   "source": [
    "import imp\n",
    "MODULE_EXTENSIONS = ('.py', '.pyc', '.pyo')"
   ]
  },
  {
   "cell_type": "code",
   "execution_count": 8,
   "metadata": {
    "execution": {
     "iopub.execute_input": "2023-09-21T13:52:39.820626Z",
     "iopub.status.busy": "2023-09-21T13:52:39.820515Z",
     "iopub.status.idle": "2023-09-21T13:52:39.824877Z",
     "shell.execute_reply": "2023-09-21T13:52:39.824524Z",
     "shell.execute_reply.started": "2023-09-21T13:52:39.820614Z"
    },
    "tags": []
   },
   "outputs": [],
   "source": [
    "def package_contents(package_name):\n",
    "    file, pathname, description = imp.find_module(package_name)\n",
    "    if file:\n",
    "        raise ImportError('Not a package: %r', package_name)\n",
    "    # Use a set because some may be both source and compiled.\n",
    "    return set([os.path.splitext(module)[0]\n",
    "        for module in os.listdir(pathname)\n",
    "        if module.endswith(MODULE_EXTENSIONS)])"
   ]
  },
  {
   "cell_type": "code",
   "execution_count": 9,
   "metadata": {
    "execution": {
     "iopub.execute_input": "2023-09-21T13:52:39.825540Z",
     "iopub.status.busy": "2023-09-21T13:52:39.825400Z",
     "iopub.status.idle": "2023-09-21T13:52:39.832679Z",
     "shell.execute_reply": "2023-09-21T13:52:39.832322Z",
     "shell.execute_reply.started": "2023-09-21T13:52:39.825529Z"
    },
    "tags": []
   },
   "outputs": [
    {
     "data": {
      "text/plain": [
       "{'__init__',\n",
       " '_version',\n",
       " 'astrometry',\n",
       " 'config',\n",
       " 'logbook',\n",
       " 'parameters',\n",
       " 'tools'}"
      ]
     },
     "execution_count": 9,
     "metadata": {},
     "output_type": "execute_result"
    }
   ],
   "source": [
    "package_contents(\"spectractor\")"
   ]
  },
  {
   "cell_type": "code",
   "execution_count": 10,
   "metadata": {
    "execution": {
     "iopub.execute_input": "2023-09-21T13:52:39.833326Z",
     "iopub.status.busy": "2023-09-21T13:52:39.833210Z",
     "iopub.status.idle": "2023-09-21T13:52:39.838009Z",
     "shell.execute_reply": "2023-09-21T13:52:39.837652Z",
     "shell.execute_reply.started": "2023-09-21T13:52:39.833315Z"
    },
    "tags": []
   },
   "outputs": [
    {
     "data": {
      "text/plain": [
       "{'__init__',\n",
       " 'background',\n",
       " 'chromaticpsf',\n",
       " 'dispersers',\n",
       " 'extractor',\n",
       " 'images',\n",
       " 'psf',\n",
       " 'spectroscopy',\n",
       " 'spectrum',\n",
       " 'targets'}"
      ]
     },
     "execution_count": 10,
     "metadata": {},
     "output_type": "execute_result"
    }
   ],
   "source": [
    "package_contents(\"spectractor/extractor\")"
   ]
  },
  {
   "cell_type": "markdown",
   "metadata": {},
   "source": [
    "# Initialisation"
   ]
  },
  {
   "cell_type": "code",
   "execution_count": 11,
   "metadata": {
    "execution": {
     "iopub.execute_input": "2023-09-21T13:52:39.838613Z",
     "iopub.status.busy": "2023-09-21T13:52:39.838491Z",
     "iopub.status.idle": "2023-09-21T13:52:39.840450Z",
     "shell.execute_reply": "2023-09-21T13:52:39.840099Z",
     "shell.execute_reply.started": "2023-09-21T13:52:39.838602Z"
    },
    "tags": []
   },
   "outputs": [],
   "source": [
    "dir_logbooks=\"logbooks\""
   ]
  },
  {
   "cell_type": "code",
   "execution_count": 12,
   "metadata": {
    "execution": {
     "iopub.execute_input": "2023-09-21T13:52:39.841070Z",
     "iopub.status.busy": "2023-09-21T13:52:39.840958Z",
     "iopub.status.idle": "2023-09-21T13:52:39.843512Z",
     "shell.execute_reply": "2023-09-21T13:52:39.843164Z",
     "shell.execute_reply.started": "2023-09-21T13:52:39.841060Z"
    },
    "tags": []
   },
   "outputs": [],
   "source": [
    "import os\n",
    "if not os.path.exists(dir_logbooks):\n",
    "    os.makedirs(dir_logbooks)"
   ]
  },
  {
   "cell_type": "markdown",
   "metadata": {},
   "source": [
    "## Get inputs files and sort them according date and number"
   ]
  },
  {
   "cell_type": "code",
   "execution_count": 13,
   "metadata": {
    "execution": {
     "iopub.execute_input": "2023-09-21T13:52:39.844110Z",
     "iopub.status.busy": "2023-09-21T13:52:39.843996Z",
     "iopub.status.idle": "2023-09-21T13:52:39.848090Z",
     "shell.execute_reply": "2023-09-21T13:52:39.847741Z",
     "shell.execute_reply.started": "2023-09-21T13:52:39.844100Z"
    },
    "tags": []
   },
   "outputs": [],
   "source": [
    "home=os.getenv(\"HOME\")"
   ]
  },
  {
   "cell_type": "code",
   "execution_count": 14,
   "metadata": {
    "execution": {
     "iopub.execute_input": "2023-09-21T13:52:39.848679Z",
     "iopub.status.busy": "2023-09-21T13:52:39.848566Z",
     "iopub.status.idle": "2023-09-21T13:52:39.851824Z",
     "shell.execute_reply": "2023-09-21T13:52:39.851484Z",
     "shell.execute_reply.started": "2023-09-21T13:52:39.848668Z"
    },
    "tags": []
   },
   "outputs": [],
   "source": [
    "#logbook filename depends on image mode\n",
    "# image mode myflatfielding or mypostisrccd or dmpostisrccd"
   ]
  },
  {
   "cell_type": "code",
   "execution_count": 15,
   "metadata": {
    "execution": {
     "iopub.execute_input": "2023-09-21T13:52:39.852422Z",
     "iopub.status.busy": "2023-09-21T13:52:39.852309Z",
     "iopub.status.idle": "2023-09-21T13:52:39.856630Z",
     "shell.execute_reply": "2023-09-21T13:52:39.856282Z",
     "shell.execute_reply.started": "2023-09-21T13:52:39.852412Z"
    }
   },
   "outputs": [],
   "source": [
    "image_path=filterdispersername\n",
    "logbook_csv=os.path.join(dir_logbooks,\"auxtellogbook_\" + imagemode +\"_\" + filterdispersername + \"_\"+ DATE +\"_\" + version + \".csv\")\n",
    "logbook_xlsx=os.path.join(dir_logbooks,\"auxtellogbook_\" + imagemode +\"_\" + filterdispersername + \"_\" +DATE +\"_\" + version + \".xlsx\")"
   ]
  },
  {
   "cell_type": "markdown",
   "metadata": {},
   "source": [
    "# Path"
   ]
  },
  {
   "cell_type": "code",
   "execution_count": 16,
   "metadata": {
    "execution": {
     "iopub.execute_input": "2023-09-21T13:52:39.857265Z",
     "iopub.status.busy": "2023-09-21T13:52:39.857140Z",
     "iopub.status.idle": "2023-09-21T13:52:39.867112Z",
     "shell.execute_reply": "2023-09-21T13:52:39.866754Z",
     "shell.execute_reply.started": "2023-09-21T13:52:39.857254Z"
    }
   },
   "outputs": [],
   "source": [
    "def GetPaths(computer_name):\n",
    "    \"\"\"\n",
    "    \"\"\"\n",
    "    \n",
    "    if computer_name == \"HOSTCC\":\n",
    "        \n",
    "        path_auxtel=\"/sps/lsst/groups/auxtel\"\n",
    "        path_spectractor=os.path.join(path_auxtel,\"softs/github/desc/Spectractor\")\n",
    "        path_spectractor_config=os.path.join(path_spectractor,\"config\")\n",
    "    \n",
    "        path_images=os.path.join(path_auxtel,\"data/hack_usdf/my_postisrccd_img_forspectractor_2023/\"+filterdispersername+\"/\"+DATE)\n",
    "        if configdir == \"\":\n",
    "            path_output_spectractor=os.path.join(path_auxtel,\"data/2023/OutputSpectractor/\"+imagemode+\"/\"+filterdispersername+\"/\"+DATE)\n",
    "        else:\n",
    "            path_output_spectractor=os.path.join(path_auxtel,\"data/2023/OutputSpectractor/\"+imagemode+\"/\"+filterdispersername+\"/\"+configdir+\"/\"+DATE)\n",
    "            path_topoutput_spectractor=os.path.join(path_auxtel,\"data/2023/OutputSpectractor/\"+imagemode+\"/\"+filterdispersername+\"/\"+configdir)\n",
    "            path_toptopoutput_spectractor=os.path.join(path_auxtel,\"data/2023/OutputSpectractor/\"+imagemode+\"/\"+filterdispersername)\n",
    "            path_toptoptopoutput_spectractor=os.path.join(path_auxtel,\"data/2023/OutputSpectractor/\"+imagemode)\n",
    "        \n",
    "    elif computer_name == \"LAPTOP1\":\n",
    "        path_auxtel=\"/Users/dagoret/DATA/AuxTelData2023\"\n",
    "        path_spectractor=os.path.join(path_auxtel,\"/Users/dagoret/MacOSX/GitHub/LSST/Spectractor\")\n",
    "        path_spectractor_config=os.path.join(path_spectractor,\"config\")\n",
    "        path_images=os.path.join(path_auxtel,\"data/2023/\"+filterdispersername+\"/\"+DATE)\n",
    "        if configdir == \"\":\n",
    "            path_output_spectractor=os.path.join(path_auxtel,\"data/2023/OutputSpectractor/\"+imagemode+\"/\"+filterdispersername+\"/\"+DATE)\n",
    "        else:\n",
    "            path_output_spectractor=os.path.join(path_auxtel,\"data/2023/OutputSpectractor/\"+imagemode+\"/\"+filterdispersername+\"/\"+configdir+\"/\"+DATE)\n",
    "            path_topoutput_spectractor=os.path.join(path_auxtel,\"data/2023/OutputSpectractor/\"+imagemode+\"/\"+filterdispersername+\"/\"+configdir)\n",
    "            path_toptopoutput_spectractor=os.path.join(path_auxtel,\"data/2023/OutputSpectractor/\"+imagemode+\"/\"+filterdispersername)\n",
    "            path_toptoptopoutput_spectractor=os.path.join(path_auxtel,\"data/2023/OutputSpectractor/\"+imagemode)\n",
    "        \n",
    "        \n",
    "    elif computer_name == \"WORKIMAC\":\n",
    "        path_auxtel=\"/Users/sylvie/DATA/AuxTelData2023\"\n",
    "        path_spectractor=os.path.join(path_auxtel,\"/Users/sylvie/MacOSX/GitHub/LSST/Spectractor\")\n",
    "        path_spectractor_config=os.path.join(path_spectractor,\"config\")\n",
    "        path_images=os.path.join(path_auxtel,\"data/2023/\"+filterdispersername+\"/\"+DATE)\n",
    "        if configdir == \"\":\n",
    "            path_output_spectractor=os.path.join(path_auxtel,\"data/2023/OutputSpectractor/\"+imagemode+\"/\"+filterdispersername+\"/\"+DATE)\n",
    "        else:\n",
    "            path_output_spectractor=os.path.join(path_auxtel,\"data/2023/OutputSpectractor/\"+imagemode+\"/\"+filterdispersername+\"/\"+configdir+\"/\"+DATE)\n",
    "            path_topoutput_spectractor=os.path.join(path_auxtel,\"data/2023/OutputSpectractor/\"+imagemode+\"/\"+filterdispersername+\"/\"+configdir)\n",
    "            path_toptopoutput_spectractor=os.path.join(path_auxtel,\"data/2023/OutputSpectractor/\"+imagemode+\"/\"+filterdispersername)\n",
    "            path_toptoptopoutput_spectractor=os.path.join(path_auxtel,\"data/2023/OutputSpectractor/\"+imagemode)\n",
    "            \n",
    "            \n",
    "        \n",
    "    elif computer_name == \"HOMEIMAC\":\n",
    "        path_auxtel=\"/Volumes/Backup2020/DATA\"\n",
    "        path_spectractor=os.path.join(path_auxtel,\"MacOSX/GitHub/LSST/Spectractor\")\n",
    "        path_spectractor_config=os.path.join(\".\",\"config\")\n",
    "        path_images=os.path.join(path_auxtel,\"hack_usdf/my_postisrccd_img_forspectractor_2023/\"+filterdispersername+\"/\"+DATE)\n",
    "        \n",
    "        # /Volumes/Backup2020/DATA/AuxTelDATA2023/data/2023/OutputSpectractor\n",
    "        \n",
    "        if configdir == \"\":\n",
    "            path_output_spectractor=os.path.join(path_auxtel,\"AuxTelDATA2023/data/2023/OutputSpectractor/\"+imagemode+\"/\"+filterdispersername+\"/\"+DATE)\n",
    "        else:\n",
    "            path_output_spectractor=os.path.join(path_auxtel,\"AuxTelDATA2023/data/2023/OutputSpectractor/\"+imagemode+\"/\"+filterdispersername+\"/\"+configdir+\"/\"+DATE)\n",
    "            path_topoutput_spectractor=os.path.join(path_auxtel,\"AuxTelDATA2023/data/2023/OutputSpectractor/\"+imagemode+\"/\"+filterdispersername+\"/\"+configdir)\n",
    "            path_toptopoutput_spectractor=os.path.join(path_auxtel,\"AuxTelDATA2023/data/2023/OutputSpectractor/\"+imagemode+\"/\"+filterdispersername)\n",
    "            path_toptoptopoutput_spectractor=os.path.join(path_auxtel,\"AuxTelDATA2023/data/2023/OutputSpectractor/\"+imagemode)\n",
    "    # /home/d/dagoret/rubin-user/DATA/AuxtelData2023/my_postisrccd_img_forspectractor_2023/empty~holo4_003\n",
    "    elif computer_name == \"USDF\":\n",
    "        path_auxtel=\"/home/d/dagoret/rubin-user/DATA\"\n",
    "        path_spectractor=os.path.join(\"/home/d/dagoret\",\"repos/repos_w_2023_35/Spectractor\")\n",
    "        path_spectractor_config=os.path.join(\".\",\"config\")\n",
    "        # image mode myflatfielding or mypostisrccd or dmpostisrccd\n",
    "        if imagemode == \"mypostisrccd\":\n",
    "            path_images=os.path.join(path_auxtel,\"AuxtelData2023/my_postisrccd_img_forspectractor_2023/\"+filterdispersername+\"/\"+DATE)\n",
    "        elif imagemode == \"dmpostisrccd\":\n",
    "            path_images=os.path.join(path_auxtel,\"AuxtelData2023/dm_postisrccd_img_forspectractor_2023/\"+filterdispersername+\"/\"+DATE)\n",
    "        elif imagemode == \"myflatfielding\":\n",
    "            path_images=os.path.join(path_auxtel,\"AuxtelData2023/my_flatfield_img_forspectractor_2023/\"+filterdispersername+\"/\"+DATE)\n",
    "        else:\n",
    "            msg = f\"ERROR : imagemode = {imagemode} Not found\"\n",
    "            print(msg)\n",
    "        \n",
    "        # /Volumes/Backup2020/DATA/AuxTelDATA2023/data/2023/OutputSpectractor\n",
    "        \n",
    "        if configdir == \"\":\n",
    "            path_output_spectractor=os.path.join(path_auxtel,\"AuxtelData2023/OutputSpectractor/\"+imagemode+\"/\"+filterdispersername+\"/\"+DATE)\n",
    "        else:\n",
    "            path_output_spectractor=os.path.join(path_auxtel,\"AuxTelData2023/OutputSpectractor/\"+imagemode+\"/\"+filterdispersername+\"/\"+configdir+\"/\"+DATE)\n",
    "            path_topoutput_spectractor=os.path.join(path_auxtel,\"AuxtelData2023/OutputSpectractor/\"+imagemode+\"/\"+filterdispersername+\"/\"+configdir)\n",
    "            path_toptopoutput_spectractor=os.path.join(path_auxtel,\"AuxtelData2023/OutputSpectractor/\"+imagemode+\"/\"+filterdispersername)\n",
    "            path_toptoptopoutput_spectractor=os.path.join(path_auxtel,\"AuxtelData2023/OutputSpectractor/\"+imagemode)\n",
    "        \n",
    "        \n",
    "        \n",
    "    else:\n",
    "        print(f\"Unknown computer {computer_name}\")\n",
    "        \n",
    "              \n",
    "    return path_auxtel,path_spectractor,path_spectractor_config,path_images,path_toptoptopoutput_spectractor, path_toptopoutput_spectractor, path_topoutput_spectractor, path_output_spectractor\n",
    "        "
   ]
  },
  {
   "cell_type": "code",
   "execution_count": 17,
   "metadata": {
    "execution": {
     "iopub.execute_input": "2023-09-21T13:52:39.867807Z",
     "iopub.status.busy": "2023-09-21T13:52:39.867689Z",
     "iopub.status.idle": "2023-09-21T13:52:39.870358Z",
     "shell.execute_reply": "2023-09-21T13:52:39.870017Z",
     "shell.execute_reply.started": "2023-09-21T13:52:39.867796Z"
    }
   },
   "outputs": [],
   "source": [
    "configdir = \" \"\n",
    "mycomputer_name = \"USDF\"\n",
    "path_auxtel,path_spectractor,path_spectractor_config,path_images,path_toptoptopoutput_spectractor, path_toptopoutput_spectractor, path_topoutput_spectractor, path_output_spectractor  = GetPaths(mycomputer_name)"
   ]
  },
  {
   "cell_type": "code",
   "execution_count": 18,
   "metadata": {
    "execution": {
     "iopub.execute_input": "2023-09-21T13:52:39.870932Z",
     "iopub.status.busy": "2023-09-21T13:52:39.870819Z",
     "iopub.status.idle": "2023-09-21T13:52:39.875596Z",
     "shell.execute_reply": "2023-09-21T13:52:39.875233Z",
     "shell.execute_reply.started": "2023-09-21T13:52:39.870921Z"
    },
    "tags": []
   },
   "outputs": [
    {
     "data": {
      "text/plain": [
       "'/home/d/dagoret/rubin-user/DATA'"
      ]
     },
     "execution_count": 18,
     "metadata": {},
     "output_type": "execute_result"
    }
   ],
   "source": [
    "path_auxtel"
   ]
  },
  {
   "cell_type": "code",
   "execution_count": 19,
   "metadata": {
    "execution": {
     "iopub.execute_input": "2023-09-21T13:52:39.876180Z",
     "iopub.status.busy": "2023-09-21T13:52:39.876066Z",
     "iopub.status.idle": "2023-09-21T13:52:39.878974Z",
     "shell.execute_reply": "2023-09-21T13:52:39.878636Z",
     "shell.execute_reply.started": "2023-09-21T13:52:39.876169Z"
    },
    "tags": []
   },
   "outputs": [
    {
     "data": {
      "text/plain": [
       "'/home/d/dagoret/rubin-user/DATA/AuxtelData2023/my_flatfield_img_forspectractor_2023/empty~holo4_003/20230117'"
      ]
     },
     "execution_count": 19,
     "metadata": {},
     "output_type": "execute_result"
    }
   ],
   "source": [
    "#  /home/d/dagoret/rubin-user/DATA/AuxtelData2023/my_postisrccd_img_forspectractor_2023/empty~holo4_003\n",
    "path_images"
   ]
  },
  {
   "cell_type": "code",
   "execution_count": 20,
   "metadata": {
    "execution": {
     "iopub.execute_input": "2023-09-21T13:52:39.879556Z",
     "iopub.status.busy": "2023-09-21T13:52:39.879438Z",
     "iopub.status.idle": "2023-09-21T13:52:40.091339Z",
     "shell.execute_reply": "2023-09-21T13:52:40.090805Z",
     "shell.execute_reply.started": "2023-09-21T13:52:39.879546Z"
    }
   },
   "outputs": [
    {
     "name": "stdout",
     "output_type": "stream",
     "text": [
      "anaSpectra_holo_spectractor_v5-FFMv_REBIN2_Janv2023.ipynb\n",
      "config\n",
      "convertholo4_003_to_holo4_001.ipynb\n",
      "figures_process_20230912_collimator~holo4_003_config_DECONVOLUTION_FFMv_REBIN2_Janv2023_nb_6\n",
      "figures_process_20230914_collimator~holo4_003_config_DECONVOLUTION_FFMv_REBIN2_Janv2023_nb_1\n",
      "figures_process_20230914_collimator~holo4_003_config_DECONVOLUTION_FFMv_REBIN2_Janv2023_nb_2\n",
      "figures_process_20230914_collimator~holo4_003_config_DECONVOLUTION_FFMv_REBIN2_Janv2023_nb_25\n",
      "figures_process_20230914_collimator~holo4_003_config_DECONVOLUTION_FFMv_REBIN2_Janv2023_nb_26\n",
      "figures_process_20230914_collimator~holo4_003_config_DECONVOLUTION_FFMv_REBIN2_Janv2023_nb_27\n",
      "figures_process_20230914_collimator~holo4_003_config_DECONVOLUTION_FFMv_REBIN2_Janv2023_nb_28\n",
      "figures_process_20230914_collimator~holo4_003_config_DECONVOLUTION_FFMv_REBIN2_Janv2023_nb_3\n",
      "figures_process_20230914_collimator~holo4_003_config_DECONVOLUTION_FFMv_REBIN2_Janv2023_nb_4\n",
      "logbooks\n",
      "makeLogbook_spectractor-v7.ipynb\n",
      "makeLogbook_spectractor-v8.ipynb\n",
      "outputs_process_20230912_collimator~holo4_003_config_DECONVOLUTION_FFMv_REBIN2_Janv2023_nb_6\n",
      "outputs_process_20230914_collimator~holo4_003_config_DECONVOLUTION_FFMv_REBIN2_Janv2023_nb_1\n",
      "outputs_process_20230914_collimator~holo4_003_config_DECONVOLUTION_FFMv_REBIN2_Janv2023_nb_2\n",
      "outputs_process_20230914_collimator~holo4_003_config_DECONVOLUTION_FFMv_REBIN2_Janv2023_nb_25\n",
      "outputs_process_20230914_collimator~holo4_003_config_DECONVOLUTION_FFMv_REBIN2_Janv2023_nb_26\n",
      "outputs_process_20230914_collimator~holo4_003_config_DECONVOLUTION_FFMv_REBIN2_Janv2023_nb_27\n",
      "outputs_process_20230914_collimator~holo4_003_config_DECONVOLUTION_FFMv_REBIN2_Janv2023_nb_28\n",
      "outputs_process_20230914_collimator~holo4_003_config_DECONVOLUTION_FFMv_REBIN2_Janv2023_nb_3\n",
      "outputs_process_20230914_collimator~holo4_003_config_DECONVOLUTION_FFMv_REBIN2_Janv2023_nb_4\n",
      "processSpectra_holo-spectractor_v7.ipynb\n",
      "processSpectra_holo-spectractor_v7.py\n",
      "processSpectra_holo-spectractor_v8.ipynb\n",
      "README.md\n"
     ]
    }
   ],
   "source": [
    "!ls "
   ]
  },
  {
   "cell_type": "markdown",
   "metadata": {},
   "source": [
    "# Check the images exists"
   ]
  },
  {
   "cell_type": "code",
   "execution_count": 21,
   "metadata": {
    "execution": {
     "iopub.execute_input": "2023-09-21T13:52:40.092252Z",
     "iopub.status.busy": "2023-09-21T13:52:40.092108Z",
     "iopub.status.idle": "2023-09-21T13:52:40.094481Z",
     "shell.execute_reply": "2023-09-21T13:52:40.094137Z",
     "shell.execute_reply.started": "2023-09-21T13:52:40.092237Z"
    },
    "tags": []
   },
   "outputs": [],
   "source": [
    "dir_images=path_images"
   ]
  },
  {
   "cell_type": "code",
   "execution_count": 22,
   "metadata": {
    "execution": {
     "iopub.execute_input": "2023-09-21T13:52:40.097546Z",
     "iopub.status.busy": "2023-09-21T13:52:40.097415Z",
     "iopub.status.idle": "2023-09-21T13:52:40.100360Z",
     "shell.execute_reply": "2023-09-21T13:52:40.099999Z",
     "shell.execute_reply.started": "2023-09-21T13:52:40.097535Z"
    },
    "tags": []
   },
   "outputs": [
    {
     "data": {
      "text/plain": [
       "'/home/d/dagoret/rubin-user/DATA/AuxtelData2023/my_flatfield_img_forspectractor_2023/empty~holo4_003/20230117'"
      ]
     },
     "execution_count": 22,
     "metadata": {},
     "output_type": "execute_result"
    }
   ],
   "source": [
    "dir_images"
   ]
  },
  {
   "cell_type": "code",
   "execution_count": 23,
   "metadata": {
    "execution": {
     "iopub.execute_input": "2023-09-21T13:52:40.101049Z",
     "iopub.status.busy": "2023-09-21T13:52:40.100938Z",
     "iopub.status.idle": "2023-09-21T13:52:40.311026Z",
     "shell.execute_reply": "2023-09-21T13:52:40.310407Z",
     "shell.execute_reply.started": "2023-09-21T13:52:40.101039Z"
    },
    "tags": []
   },
   "outputs": [
    {
     "name": "stdout",
     "output_type": "stream",
     "text": [
      "collimator~holo4_003  cyl_lens~holo4_003  empty~holo4_003\n",
      "cyl_lens~holo4_001    empty~holo4_001\t  transmitdata.sh\n"
     ]
    }
   ],
   "source": [
    "!ls /home/d/dagoret/rubin-user/DATA/AuxtelData2023/my_postisrccd_img_forspectractor_2023"
   ]
  },
  {
   "cell_type": "code",
   "execution_count": 24,
   "metadata": {
    "execution": {
     "iopub.execute_input": "2023-09-21T13:52:40.312033Z",
     "iopub.status.busy": "2023-09-21T13:52:40.311879Z",
     "iopub.status.idle": "2023-09-21T13:52:40.519652Z",
     "shell.execute_reply": "2023-09-21T13:52:40.519095Z",
     "shell.execute_reply.started": "2023-09-21T13:52:40.312018Z"
    },
    "tags": []
   },
   "outputs": [
    {
     "name": "stdout",
     "output_type": "stream",
     "text": [
      "dm_postisrccd_img_forspectractor_2023  my_postisrccd_img_forspectractor_2023\n",
      "ExtractedSpectra\t\t       OutputSpectractor\n",
      "my_flatfield_img_forspectractor_2023\n"
     ]
    }
   ],
   "source": [
    "! ls /home/d/dagoret/rubin-user/DATA/AuxtelData2023/"
   ]
  },
  {
   "cell_type": "code",
   "execution_count": 25,
   "metadata": {
    "execution": {
     "iopub.execute_input": "2023-09-21T13:52:40.520611Z",
     "iopub.status.busy": "2023-09-21T13:52:40.520443Z",
     "iopub.status.idle": "2023-09-21T13:52:40.524406Z",
     "shell.execute_reply": "2023-09-21T13:52:40.524035Z",
     "shell.execute_reply.started": "2023-09-21T13:52:40.520595Z"
    }
   },
   "outputs": [],
   "source": [
    "all_files=os.listdir(dir_images)"
   ]
  },
  {
   "cell_type": "code",
   "execution_count": 26,
   "metadata": {
    "execution": {
     "iopub.execute_input": "2023-09-21T13:52:40.525084Z",
     "iopub.status.busy": "2023-09-21T13:52:40.524952Z",
     "iopub.status.idle": "2023-09-21T13:52:40.528009Z",
     "shell.execute_reply": "2023-09-21T13:52:40.527641Z",
     "shell.execute_reply.started": "2023-09-21T13:52:40.525072Z"
    }
   },
   "outputs": [
    {
     "data": {
      "text/plain": [
       "['exposure_2023011700669_flatten_v4.fits',\n",
       " 'exposure_2023011700669_flatten_v1.fits',\n",
       " 'exposure_2023011700669_flatten_v3.fits',\n",
       " 'exposure_2023011700669_flatten_v2.fits']"
      ]
     },
     "execution_count": 26,
     "metadata": {},
     "output_type": "execute_result"
    }
   ],
   "source": [
    "all_files"
   ]
  },
  {
   "cell_type": "code",
   "execution_count": 27,
   "metadata": {
    "execution": {
     "iopub.execute_input": "2023-09-21T13:52:40.528665Z",
     "iopub.status.busy": "2023-09-21T13:52:40.528530Z",
     "iopub.status.idle": "2023-09-21T13:52:40.532881Z",
     "shell.execute_reply": "2023-09-21T13:52:40.532511Z",
     "shell.execute_reply.started": "2023-09-21T13:52:40.528653Z"
    }
   },
   "outputs": [],
   "source": [
    "all_selected_files = []\n",
    "for filename in all_files:\n",
    "    if re.search(\".fits$\",filename):\n",
    "        all_selected_files.append(filename)\n",
    "N=len(all_selected_files)"
   ]
  },
  {
   "cell_type": "code",
   "execution_count": 28,
   "metadata": {
    "execution": {
     "iopub.execute_input": "2023-09-21T13:52:40.533643Z",
     "iopub.status.busy": "2023-09-21T13:52:40.533420Z",
     "iopub.status.idle": "2023-09-21T13:52:40.536787Z",
     "shell.execute_reply": "2023-09-21T13:52:40.536403Z",
     "shell.execute_reply.started": "2023-09-21T13:52:40.533630Z"
    }
   },
   "outputs": [],
   "source": [
    "all_selected_files=np.array(all_selected_files)"
   ]
  },
  {
   "cell_type": "markdown",
   "metadata": {},
   "source": [
    "### Sort files"
   ]
  },
  {
   "cell_type": "code",
   "execution_count": 29,
   "metadata": {
    "execution": {
     "iopub.execute_input": "2023-09-21T13:52:40.537433Z",
     "iopub.status.busy": "2023-09-21T13:52:40.537304Z",
     "iopub.status.idle": "2023-09-21T13:52:40.541411Z",
     "shell.execute_reply": "2023-09-21T13:52:40.541050Z",
     "shell.execute_reply.started": "2023-09-21T13:52:40.537421Z"
    },
    "tags": []
   },
   "outputs": [],
   "source": [
    "def file_tag_forsorting_old(filename):\n",
    "    #m=re.findall('exposure.*_(.*)_pseudo-postisrccd[.]fits$',filename)\n",
    "    m=re.findall('exposure.*_(.*)_.+[.]fits$',filename)\n",
    "    \n",
    "    return m[0]"
   ]
  },
  {
   "cell_type": "code",
   "execution_count": 30,
   "metadata": {
    "execution": {
     "iopub.execute_input": "2023-09-21T13:52:40.542258Z",
     "iopub.status.busy": "2023-09-21T13:52:40.541962Z",
     "iopub.status.idle": "2023-09-21T13:52:40.545163Z",
     "shell.execute_reply": "2023-09-21T13:52:40.544790Z",
     "shell.execute_reply.started": "2023-09-21T13:52:40.542245Z"
    },
    "tags": []
   },
   "outputs": [],
   "source": [
    "def file_tag_forsorting(filename):\n",
    "    sentence = filename.split(\".fits\")[0]\n",
    "    words = sentence.split(\"_\")\n",
    "    if len(words) == 3:\n",
    "        return words[1]\n",
    "    elif words[2] == 'flatten' and len(words) == 4:\n",
    "        return words[1]+words[-1]"
   ]
  },
  {
   "cell_type": "code",
   "execution_count": 31,
   "metadata": {
    "execution": {
     "iopub.execute_input": "2023-09-21T13:52:40.545843Z",
     "iopub.status.busy": "2023-09-21T13:52:40.545715Z",
     "iopub.status.idle": "2023-09-21T13:52:40.553386Z",
     "shell.execute_reply": "2023-09-21T13:52:40.553000Z",
     "shell.execute_reply.started": "2023-09-21T13:52:40.545832Z"
    },
    "tags": []
   },
   "outputs": [
    {
     "data": {
      "text/plain": [
       "'2022031700310'"
      ]
     },
     "execution_count": 31,
     "metadata": {},
     "output_type": "execute_result"
    }
   ],
   "source": [
    "file_tag_forsorting('exposure_2022031700310_pseudo-postisrccd.fits')"
   ]
  },
  {
   "cell_type": "code",
   "execution_count": 32,
   "metadata": {
    "execution": {
     "iopub.execute_input": "2023-09-21T13:52:40.554054Z",
     "iopub.status.busy": "2023-09-21T13:52:40.553919Z",
     "iopub.status.idle": "2023-09-21T13:52:40.558408Z",
     "shell.execute_reply": "2023-09-21T13:52:40.558020Z",
     "shell.execute_reply.started": "2023-09-21T13:52:40.554039Z"
    },
    "tags": []
   },
   "outputs": [
    {
     "data": {
      "text/plain": [
       "'2023091400182v3'"
      ]
     },
     "execution_count": 32,
     "metadata": {},
     "output_type": "execute_result"
    }
   ],
   "source": [
    "file_tag_forsorting('exposure_2023091400182_flatten_v3.fits')"
   ]
  },
  {
   "cell_type": "code",
   "execution_count": 33,
   "metadata": {
    "execution": {
     "iopub.execute_input": "2023-09-21T13:52:40.559082Z",
     "iopub.status.busy": "2023-09-21T13:52:40.558954Z",
     "iopub.status.idle": "2023-09-21T13:52:40.562670Z",
     "shell.execute_reply": "2023-09-21T13:52:40.562282Z",
     "shell.execute_reply.started": "2023-09-21T13:52:40.559071Z"
    },
    "tags": []
   },
   "outputs": [
    {
     "data": {
      "text/plain": [
       "array(['2023011700669v4', '2023011700669v1', '2023011700669v3',\n",
       "       '2023011700669v2'], dtype='<U15')"
      ]
     },
     "execution_count": 33,
     "metadata": {},
     "output_type": "execute_result"
    }
   ],
   "source": [
    "#all_tags = [ file_tag_forsorting(filename)[0] for filename in all_selected_files]\n",
    "all_tags = [ file_tag_forsorting(filename) for filename in all_selected_files]\n",
    "all_tags=np.array(all_tags)\n",
    "all_tags"
   ]
  },
  {
   "cell_type": "code",
   "execution_count": 34,
   "metadata": {
    "execution": {
     "iopub.execute_input": "2023-09-21T13:52:40.563337Z",
     "iopub.status.busy": "2023-09-21T13:52:40.563209Z",
     "iopub.status.idle": "2023-09-21T13:52:40.565917Z",
     "shell.execute_reply": "2023-09-21T13:52:40.565517Z",
     "shell.execute_reply.started": "2023-09-21T13:52:40.563325Z"
    },
    "tags": []
   },
   "outputs": [],
   "source": [
    "indexes=np.argsort(all_tags)"
   ]
  },
  {
   "cell_type": "code",
   "execution_count": 35,
   "metadata": {
    "execution": {
     "iopub.execute_input": "2023-09-21T13:52:40.566611Z",
     "iopub.status.busy": "2023-09-21T13:52:40.566456Z",
     "iopub.status.idle": "2023-09-21T13:52:40.569443Z",
     "shell.execute_reply": "2023-09-21T13:52:40.569069Z",
     "shell.execute_reply.started": "2023-09-21T13:52:40.566598Z"
    },
    "tags": []
   },
   "outputs": [],
   "source": [
    "sorted_files=all_selected_files[indexes]"
   ]
  },
  {
   "cell_type": "code",
   "execution_count": 36,
   "metadata": {
    "execution": {
     "iopub.execute_input": "2023-09-21T13:52:40.570122Z",
     "iopub.status.busy": "2023-09-21T13:52:40.569984Z",
     "iopub.status.idle": "2023-09-21T13:52:40.574427Z",
     "shell.execute_reply": "2023-09-21T13:52:40.574045Z",
     "shell.execute_reply.started": "2023-09-21T13:52:40.570110Z"
    },
    "tags": []
   },
   "outputs": [
    {
     "data": {
      "text/plain": [
       "array(['exposure_2023011700669_flatten_v1.fits',\n",
       "       'exposure_2023011700669_flatten_v2.fits',\n",
       "       'exposure_2023011700669_flatten_v3.fits',\n",
       "       'exposure_2023011700669_flatten_v4.fits'], dtype='<U38')"
      ]
     },
     "execution_count": 36,
     "metadata": {},
     "output_type": "execute_result"
    }
   ],
   "source": [
    "sorted_files"
   ]
  },
  {
   "cell_type": "code",
   "execution_count": 37,
   "metadata": {
    "execution": {
     "iopub.execute_input": "2023-09-21T13:52:40.575134Z",
     "iopub.status.busy": "2023-09-21T13:52:40.574990Z",
     "iopub.status.idle": "2023-09-21T13:52:40.577305Z",
     "shell.execute_reply": "2023-09-21T13:52:40.576895Z",
     "shell.execute_reply.started": "2023-09-21T13:52:40.575122Z"
    },
    "tags": []
   },
   "outputs": [],
   "source": [
    "N=len(sorted_files)"
   ]
  },
  {
   "cell_type": "markdown",
   "metadata": {},
   "source": [
    "# Build the logbook from the headers"
   ]
  },
  {
   "cell_type": "code",
   "execution_count": 38,
   "metadata": {
    "execution": {
     "iopub.execute_input": "2023-09-21T13:52:40.577982Z",
     "iopub.status.busy": "2023-09-21T13:52:40.577843Z",
     "iopub.status.idle": "2023-09-21T13:52:40.614464Z",
     "shell.execute_reply": "2023-09-21T13:52:40.614115Z",
     "shell.execute_reply.started": "2023-09-21T13:52:40.577967Z"
    },
    "tags": []
   },
   "outputs": [],
   "source": [
    "idx=0\n",
    "#ccdir='/sps/lsst/groups/auxtel/data/2021/holo/FlipCleans'\n",
    "ccdir=dir_images\n",
    "all_dates=[]\n",
    "all_files=[]\n",
    "all_seqnum=[]\n",
    "all_subdir=[]\n",
    "all_indexes=[]\n",
    "all_targets=[]\n",
    "all_filters=[]\n",
    "all_disperser=[]\n",
    "all_airmass=[]\n",
    "all_exposures=[]\n",
    "all_focus=[]\n",
    "all_seeing=[]\n",
    "all_P=[]\n",
    "all_T=[]\n",
    "all_H=[]\n",
    "all_W=[]\n",
    "for filename in sorted_files:\n",
    "    fullfilename=os.path.join(dir_images,filename)\n",
    "    hdu = fits.open(fullfilename)\n",
    "    hdu0=hdu[0]\n",
    "    hdr0=hdu0.header \n",
    "    all_indexes.append(idx)\n",
    "    all_seqnum.append(hdr0['SEQNUM'])\n",
    "    all_files.append(filename)\n",
    "    all_subdir.append(ccdir)\n",
    "    targetname=hdr0['OBJECT']\n",
    "    all_targets.append(targetname)\n",
    "    all_dates.append(hdr0['DATE-OBS'])\n",
    "    all_airmass.append(hdr0['AMSTART'])\n",
    "    all_filters.append(hdr0['FILTER'])\n",
    "    all_disperser.append(hdr0['GRATING'])\n",
    "    all_exposures.append(hdr0['EXPTIME'])\n",
    "    all_focus.append(hdr0['FOCUSZ'])\n",
    "    all_seeing.append(hdr0['SEEING'])\n",
    "    all_P.append(hdr0['PRESSURE'])\n",
    "    all_T.append(hdr0['AIRTEMP'])\n",
    "    all_H.append(hdr0['HUMIDITY'])\n",
    "    all_W.append(hdr0['WINDSPD'])\n",
    "       \n",
    "    \n",
    "    idx+=1\n",
    "    "
   ]
  },
  {
   "cell_type": "markdown",
   "metadata": {},
   "source": [
    "# Make pandas dataframe"
   ]
  },
  {
   "cell_type": "markdown",
   "metadata": {},
   "source": [
    "## Create pandas dataframe"
   ]
  },
  {
   "cell_type": "code",
   "execution_count": 39,
   "metadata": {
    "execution": {
     "iopub.execute_input": "2023-09-21T13:52:40.615063Z",
     "iopub.status.busy": "2023-09-21T13:52:40.614948Z",
     "iopub.status.idle": "2023-09-21T13:52:40.617889Z",
     "shell.execute_reply": "2023-09-21T13:52:40.617518Z",
     "shell.execute_reply.started": "2023-09-21T13:52:40.615052Z"
    },
    "tags": []
   },
   "outputs": [],
   "source": [
    "df=pd.DataFrame()"
   ]
  },
  {
   "cell_type": "code",
   "execution_count": 40,
   "metadata": {
    "execution": {
     "iopub.execute_input": "2023-09-21T13:52:40.618485Z",
     "iopub.status.busy": "2023-09-21T13:52:40.618351Z",
     "iopub.status.idle": "2023-09-21T13:52:40.622571Z",
     "shell.execute_reply": "2023-09-21T13:52:40.622211Z",
     "shell.execute_reply.started": "2023-09-21T13:52:40.618474Z"
    },
    "tags": []
   },
   "outputs": [
    {
     "data": {
      "text/plain": [
       "4"
      ]
     },
     "execution_count": 40,
     "metadata": {},
     "output_type": "execute_result"
    }
   ],
   "source": [
    "len(all_airmass)"
   ]
  },
  {
   "cell_type": "code",
   "execution_count": 41,
   "metadata": {
    "execution": {
     "iopub.execute_input": "2023-09-21T13:52:40.623181Z",
     "iopub.status.busy": "2023-09-21T13:52:40.623058Z",
     "iopub.status.idle": "2023-09-21T13:52:40.626988Z",
     "shell.execute_reply": "2023-09-21T13:52:40.626641Z",
     "shell.execute_reply.started": "2023-09-21T13:52:40.623171Z"
    },
    "tags": []
   },
   "outputs": [],
   "source": [
    "N=len(all_indexes)"
   ]
  },
  {
   "cell_type": "markdown",
   "metadata": {},
   "source": [
    "## Fill with container info"
   ]
  },
  {
   "cell_type": "code",
   "execution_count": 42,
   "metadata": {
    "execution": {
     "iopub.execute_input": "2023-09-21T13:52:40.627577Z",
     "iopub.status.busy": "2023-09-21T13:52:40.627455Z",
     "iopub.status.idle": "2023-09-21T13:52:40.635311Z",
     "shell.execute_reply": "2023-09-21T13:52:40.634945Z",
     "shell.execute_reply.started": "2023-09-21T13:52:40.627566Z"
    },
    "tags": []
   },
   "outputs": [],
   "source": [
    "df['index']=all_indexes\n",
    "df['date']=all_dates\n",
    "df['path']=all_subdir\n",
    "df['file']=all_files\n",
    "df['num']=all_seqnum\n",
    "df['object']=all_targets\n",
    "df['filter']=all_filters\n",
    "df['disperser']=all_disperser\n",
    "df['airmass']=all_airmass\n",
    "df['exposure']=all_exposures\n",
    "df['focus']=all_focus\n",
    "df['seeing']=all_seeing\n",
    "df['pressure']=all_P\n",
    "df['temperature']=all_T\n",
    "df['humidity']=all_H\n",
    "df['windspd']=all_W"
   ]
  },
  {
   "cell_type": "code",
   "execution_count": 43,
   "metadata": {
    "execution": {
     "iopub.execute_input": "2023-09-21T13:52:40.635907Z",
     "iopub.status.busy": "2023-09-21T13:52:40.635787Z",
     "iopub.status.idle": "2023-09-21T13:52:40.648005Z",
     "shell.execute_reply": "2023-09-21T13:52:40.647670Z",
     "shell.execute_reply.started": "2023-09-21T13:52:40.635896Z"
    },
    "tags": []
   },
   "outputs": [
    {
     "data": {
      "text/html": [
       "<div>\n",
       "<style scoped>\n",
       "    .dataframe tbody tr th:only-of-type {\n",
       "        vertical-align: middle;\n",
       "    }\n",
       "\n",
       "    .dataframe tbody tr th {\n",
       "        vertical-align: top;\n",
       "    }\n",
       "\n",
       "    .dataframe thead th {\n",
       "        text-align: right;\n",
       "    }\n",
       "</style>\n",
       "<table border=\"1\" class=\"dataframe\">\n",
       "  <thead>\n",
       "    <tr style=\"text-align: right;\">\n",
       "      <th></th>\n",
       "      <th>index</th>\n",
       "      <th>date</th>\n",
       "      <th>path</th>\n",
       "      <th>file</th>\n",
       "      <th>num</th>\n",
       "      <th>object</th>\n",
       "      <th>filter</th>\n",
       "      <th>disperser</th>\n",
       "      <th>airmass</th>\n",
       "      <th>exposure</th>\n",
       "      <th>focus</th>\n",
       "      <th>seeing</th>\n",
       "      <th>pressure</th>\n",
       "      <th>temperature</th>\n",
       "      <th>humidity</th>\n",
       "      <th>windspd</th>\n",
       "    </tr>\n",
       "  </thead>\n",
       "  <tbody>\n",
       "    <tr>\n",
       "      <th>0</th>\n",
       "      <td>0</td>\n",
       "      <td>2023-01-18T08:36:18.416</td>\n",
       "      <td>/home/d/dagoret/rubin-user/DATA/AuxtelData2023...</td>\n",
       "      <td>exposure_2023011700669_flatten_v1.fits</td>\n",
       "      <td>669</td>\n",
       "      <td>HD111980</td>\n",
       "      <td>empty_1</td>\n",
       "      <td>holo4_003</td>\n",
       "      <td>1.063697</td>\n",
       "      <td>30.0</td>\n",
       "      <td>0.017501</td>\n",
       "      <td>1.15</td>\n",
       "      <td>744.0</td>\n",
       "      <td>10.0</td>\n",
       "      <td>50.0</td>\n",
       "      <td>5.0</td>\n",
       "    </tr>\n",
       "    <tr>\n",
       "      <th>1</th>\n",
       "      <td>1</td>\n",
       "      <td>2023-01-18T08:36:18.416</td>\n",
       "      <td>/home/d/dagoret/rubin-user/DATA/AuxtelData2023...</td>\n",
       "      <td>exposure_2023011700669_flatten_v2.fits</td>\n",
       "      <td>669</td>\n",
       "      <td>HD111980</td>\n",
       "      <td>empty_1</td>\n",
       "      <td>holo4_003</td>\n",
       "      <td>1.063697</td>\n",
       "      <td>30.0</td>\n",
       "      <td>0.017501</td>\n",
       "      <td>1.15</td>\n",
       "      <td>744.0</td>\n",
       "      <td>10.0</td>\n",
       "      <td>50.0</td>\n",
       "      <td>5.0</td>\n",
       "    </tr>\n",
       "    <tr>\n",
       "      <th>2</th>\n",
       "      <td>2</td>\n",
       "      <td>2023-01-18T08:36:18.416</td>\n",
       "      <td>/home/d/dagoret/rubin-user/DATA/AuxtelData2023...</td>\n",
       "      <td>exposure_2023011700669_flatten_v3.fits</td>\n",
       "      <td>669</td>\n",
       "      <td>HD111980</td>\n",
       "      <td>empty_1</td>\n",
       "      <td>holo4_003</td>\n",
       "      <td>1.063697</td>\n",
       "      <td>30.0</td>\n",
       "      <td>0.017501</td>\n",
       "      <td>1.15</td>\n",
       "      <td>744.0</td>\n",
       "      <td>10.0</td>\n",
       "      <td>50.0</td>\n",
       "      <td>5.0</td>\n",
       "    </tr>\n",
       "    <tr>\n",
       "      <th>3</th>\n",
       "      <td>3</td>\n",
       "      <td>2023-01-18T08:36:18.416</td>\n",
       "      <td>/home/d/dagoret/rubin-user/DATA/AuxtelData2023...</td>\n",
       "      <td>exposure_2023011700669_flatten_v4.fits</td>\n",
       "      <td>669</td>\n",
       "      <td>HD111980</td>\n",
       "      <td>empty_1</td>\n",
       "      <td>holo4_003</td>\n",
       "      <td>1.063697</td>\n",
       "      <td>30.0</td>\n",
       "      <td>0.017501</td>\n",
       "      <td>1.15</td>\n",
       "      <td>744.0</td>\n",
       "      <td>10.0</td>\n",
       "      <td>50.0</td>\n",
       "      <td>5.0</td>\n",
       "    </tr>\n",
       "  </tbody>\n",
       "</table>\n",
       "</div>"
      ],
      "text/plain": [
       "   index                     date  \\\n",
       "0      0  2023-01-18T08:36:18.416   \n",
       "1      1  2023-01-18T08:36:18.416   \n",
       "2      2  2023-01-18T08:36:18.416   \n",
       "3      3  2023-01-18T08:36:18.416   \n",
       "\n",
       "                                                path  \\\n",
       "0  /home/d/dagoret/rubin-user/DATA/AuxtelData2023...   \n",
       "1  /home/d/dagoret/rubin-user/DATA/AuxtelData2023...   \n",
       "2  /home/d/dagoret/rubin-user/DATA/AuxtelData2023...   \n",
       "3  /home/d/dagoret/rubin-user/DATA/AuxtelData2023...   \n",
       "\n",
       "                                     file  num    object   filter  disperser  \\\n",
       "0  exposure_2023011700669_flatten_v1.fits  669  HD111980  empty_1  holo4_003   \n",
       "1  exposure_2023011700669_flatten_v2.fits  669  HD111980  empty_1  holo4_003   \n",
       "2  exposure_2023011700669_flatten_v3.fits  669  HD111980  empty_1  holo4_003   \n",
       "3  exposure_2023011700669_flatten_v4.fits  669  HD111980  empty_1  holo4_003   \n",
       "\n",
       "    airmass  exposure     focus  seeing  pressure  temperature  humidity  \\\n",
       "0  1.063697      30.0  0.017501    1.15     744.0         10.0      50.0   \n",
       "1  1.063697      30.0  0.017501    1.15     744.0         10.0      50.0   \n",
       "2  1.063697      30.0  0.017501    1.15     744.0         10.0      50.0   \n",
       "3  1.063697      30.0  0.017501    1.15     744.0         10.0      50.0   \n",
       "\n",
       "   windspd  \n",
       "0      5.0  \n",
       "1      5.0  \n",
       "2      5.0  \n",
       "3      5.0  "
      ]
     },
     "execution_count": 43,
     "metadata": {},
     "output_type": "execute_result"
    }
   ],
   "source": [
    "df"
   ]
  },
  {
   "cell_type": "markdown",
   "metadata": {},
   "source": [
    "## Add dictionnary info"
   ]
  },
  {
   "cell_type": "markdown",
   "metadata": {},
   "source": [
    "### Initialise new columns"
   ]
  },
  {
   "cell_type": "code",
   "execution_count": 44,
   "metadata": {
    "execution": {
     "iopub.execute_input": "2023-09-21T13:52:40.648573Z",
     "iopub.status.busy": "2023-09-21T13:52:40.648449Z",
     "iopub.status.idle": "2023-09-21T13:52:40.651054Z",
     "shell.execute_reply": "2023-09-21T13:52:40.650678Z",
     "shell.execute_reply.started": "2023-09-21T13:52:40.648562Z"
    },
    "tags": []
   },
   "outputs": [],
   "source": [
    "Obj_posXpix=np.full(N,np.nan)\n",
    "Obj_posYpix=np.full(N,np.nan)\n",
    "Dx=np.full(N,np.nan)\n",
    "Dy=np.full(N,np.nan)\n",
    "run=np.full(N,np.nan)\n",
    "quality=np.full(N,np.nan)\n",
    "skip=np.full(N,\"    \")"
   ]
  },
  {
   "cell_type": "markdown",
   "metadata": {},
   "source": [
    "### Fill dictionnary info"
   ]
  },
  {
   "cell_type": "code",
   "execution_count": 45,
   "metadata": {
    "execution": {
     "iopub.execute_input": "2023-09-21T13:52:40.651685Z",
     "iopub.status.busy": "2023-09-21T13:52:40.651566Z",
     "iopub.status.idle": "2023-09-21T13:52:40.654556Z",
     "shell.execute_reply": "2023-09-21T13:52:40.654166Z",
     "shell.execute_reply.started": "2023-09-21T13:52:40.651675Z"
    },
    "tags": []
   },
   "outputs": [],
   "source": [
    "# loop on rows index\n",
    "for idx in np.arange(N):\n",
    "    filename=all_files[idx]\n",
    "    # check if filename is in dictionnary\n",
    "    if filename in info.keys():\n",
    "        (run_flag,quality_flag,xpos,ypos)=info[filename]\n",
    "        Obj_posXpix[idx]=int(xpos)\n",
    "        Obj_posYpix[idx]=int(ypos)\n",
    "        run[idx]=run_flag\n",
    "        if quality_flag==1:\n",
    "            skip[idx] = \"    \"\n",
    "            quality[idx]=1\n",
    "        else:\n",
    "            skip[idx] = \"skip\"\n",
    "            quality[idx]=0"
   ]
  },
  {
   "cell_type": "code",
   "execution_count": 46,
   "metadata": {
    "execution": {
     "iopub.execute_input": "2023-09-21T13:52:40.655160Z",
     "iopub.status.busy": "2023-09-21T13:52:40.655032Z",
     "iopub.status.idle": "2023-09-21T13:52:40.660480Z",
     "shell.execute_reply": "2023-09-21T13:52:40.660129Z",
     "shell.execute_reply.started": "2023-09-21T13:52:40.655149Z"
    },
    "tags": []
   },
   "outputs": [],
   "source": [
    "df['Obj-posXpix']=Obj_posXpix\n",
    "df['Obj-posYpix']=Obj_posYpix\n",
    "df['Dx']=Dx\n",
    "df['Dy']=Dy\n",
    "df['skip']=skip\n",
    "df['run']=run\n",
    "df['quality']=quality"
   ]
  },
  {
   "cell_type": "code",
   "execution_count": 47,
   "metadata": {
    "execution": {
     "iopub.execute_input": "2023-09-21T13:52:40.661070Z",
     "iopub.status.busy": "2023-09-21T13:52:40.660958Z",
     "iopub.status.idle": "2023-09-21T13:52:40.664433Z",
     "shell.execute_reply": "2023-09-21T13:52:40.664105Z",
     "shell.execute_reply.started": "2023-09-21T13:52:40.661059Z"
    },
    "tags": []
   },
   "outputs": [],
   "source": [
    "pd.set_option('display.max_rows', None)"
   ]
  },
  {
   "cell_type": "code",
   "execution_count": 48,
   "metadata": {
    "execution": {
     "iopub.execute_input": "2023-09-21T13:52:40.664985Z",
     "iopub.status.busy": "2023-09-21T13:52:40.664876Z",
     "iopub.status.idle": "2023-09-21T13:52:40.678105Z",
     "shell.execute_reply": "2023-09-21T13:52:40.677750Z",
     "shell.execute_reply.started": "2023-09-21T13:52:40.664976Z"
    },
    "tags": []
   },
   "outputs": [
    {
     "data": {
      "text/html": [
       "<div>\n",
       "<style scoped>\n",
       "    .dataframe tbody tr th:only-of-type {\n",
       "        vertical-align: middle;\n",
       "    }\n",
       "\n",
       "    .dataframe tbody tr th {\n",
       "        vertical-align: top;\n",
       "    }\n",
       "\n",
       "    .dataframe thead th {\n",
       "        text-align: right;\n",
       "    }\n",
       "</style>\n",
       "<table border=\"1\" class=\"dataframe\">\n",
       "  <thead>\n",
       "    <tr style=\"text-align: right;\">\n",
       "      <th></th>\n",
       "      <th>index</th>\n",
       "      <th>date</th>\n",
       "      <th>path</th>\n",
       "      <th>file</th>\n",
       "      <th>num</th>\n",
       "      <th>object</th>\n",
       "      <th>filter</th>\n",
       "      <th>disperser</th>\n",
       "      <th>airmass</th>\n",
       "      <th>exposure</th>\n",
       "      <th>...</th>\n",
       "      <th>temperature</th>\n",
       "      <th>humidity</th>\n",
       "      <th>windspd</th>\n",
       "      <th>Obj-posXpix</th>\n",
       "      <th>Obj-posYpix</th>\n",
       "      <th>Dx</th>\n",
       "      <th>Dy</th>\n",
       "      <th>skip</th>\n",
       "      <th>run</th>\n",
       "      <th>quality</th>\n",
       "    </tr>\n",
       "  </thead>\n",
       "  <tbody>\n",
       "    <tr>\n",
       "      <th>0</th>\n",
       "      <td>0</td>\n",
       "      <td>2023-01-18T08:36:18.416</td>\n",
       "      <td>/home/d/dagoret/rubin-user/DATA/AuxtelData2023...</td>\n",
       "      <td>exposure_2023011700669_flatten_v1.fits</td>\n",
       "      <td>669</td>\n",
       "      <td>HD111980</td>\n",
       "      <td>empty_1</td>\n",
       "      <td>holo4_003</td>\n",
       "      <td>1.063697</td>\n",
       "      <td>30.0</td>\n",
       "      <td>...</td>\n",
       "      <td>10.0</td>\n",
       "      <td>50.0</td>\n",
       "      <td>5.0</td>\n",
       "      <td>NaN</td>\n",
       "      <td>NaN</td>\n",
       "      <td>NaN</td>\n",
       "      <td>NaN</td>\n",
       "      <td></td>\n",
       "      <td>NaN</td>\n",
       "      <td>NaN</td>\n",
       "    </tr>\n",
       "    <tr>\n",
       "      <th>1</th>\n",
       "      <td>1</td>\n",
       "      <td>2023-01-18T08:36:18.416</td>\n",
       "      <td>/home/d/dagoret/rubin-user/DATA/AuxtelData2023...</td>\n",
       "      <td>exposure_2023011700669_flatten_v2.fits</td>\n",
       "      <td>669</td>\n",
       "      <td>HD111980</td>\n",
       "      <td>empty_1</td>\n",
       "      <td>holo4_003</td>\n",
       "      <td>1.063697</td>\n",
       "      <td>30.0</td>\n",
       "      <td>...</td>\n",
       "      <td>10.0</td>\n",
       "      <td>50.0</td>\n",
       "      <td>5.0</td>\n",
       "      <td>NaN</td>\n",
       "      <td>NaN</td>\n",
       "      <td>NaN</td>\n",
       "      <td>NaN</td>\n",
       "      <td></td>\n",
       "      <td>NaN</td>\n",
       "      <td>NaN</td>\n",
       "    </tr>\n",
       "    <tr>\n",
       "      <th>2</th>\n",
       "      <td>2</td>\n",
       "      <td>2023-01-18T08:36:18.416</td>\n",
       "      <td>/home/d/dagoret/rubin-user/DATA/AuxtelData2023...</td>\n",
       "      <td>exposure_2023011700669_flatten_v3.fits</td>\n",
       "      <td>669</td>\n",
       "      <td>HD111980</td>\n",
       "      <td>empty_1</td>\n",
       "      <td>holo4_003</td>\n",
       "      <td>1.063697</td>\n",
       "      <td>30.0</td>\n",
       "      <td>...</td>\n",
       "      <td>10.0</td>\n",
       "      <td>50.0</td>\n",
       "      <td>5.0</td>\n",
       "      <td>NaN</td>\n",
       "      <td>NaN</td>\n",
       "      <td>NaN</td>\n",
       "      <td>NaN</td>\n",
       "      <td></td>\n",
       "      <td>NaN</td>\n",
       "      <td>NaN</td>\n",
       "    </tr>\n",
       "    <tr>\n",
       "      <th>3</th>\n",
       "      <td>3</td>\n",
       "      <td>2023-01-18T08:36:18.416</td>\n",
       "      <td>/home/d/dagoret/rubin-user/DATA/AuxtelData2023...</td>\n",
       "      <td>exposure_2023011700669_flatten_v4.fits</td>\n",
       "      <td>669</td>\n",
       "      <td>HD111980</td>\n",
       "      <td>empty_1</td>\n",
       "      <td>holo4_003</td>\n",
       "      <td>1.063697</td>\n",
       "      <td>30.0</td>\n",
       "      <td>...</td>\n",
       "      <td>10.0</td>\n",
       "      <td>50.0</td>\n",
       "      <td>5.0</td>\n",
       "      <td>NaN</td>\n",
       "      <td>NaN</td>\n",
       "      <td>NaN</td>\n",
       "      <td>NaN</td>\n",
       "      <td></td>\n",
       "      <td>NaN</td>\n",
       "      <td>NaN</td>\n",
       "    </tr>\n",
       "  </tbody>\n",
       "</table>\n",
       "<p>4 rows × 23 columns</p>\n",
       "</div>"
      ],
      "text/plain": [
       "   index                     date  \\\n",
       "0      0  2023-01-18T08:36:18.416   \n",
       "1      1  2023-01-18T08:36:18.416   \n",
       "2      2  2023-01-18T08:36:18.416   \n",
       "3      3  2023-01-18T08:36:18.416   \n",
       "\n",
       "                                                path  \\\n",
       "0  /home/d/dagoret/rubin-user/DATA/AuxtelData2023...   \n",
       "1  /home/d/dagoret/rubin-user/DATA/AuxtelData2023...   \n",
       "2  /home/d/dagoret/rubin-user/DATA/AuxtelData2023...   \n",
       "3  /home/d/dagoret/rubin-user/DATA/AuxtelData2023...   \n",
       "\n",
       "                                     file  num    object   filter  disperser  \\\n",
       "0  exposure_2023011700669_flatten_v1.fits  669  HD111980  empty_1  holo4_003   \n",
       "1  exposure_2023011700669_flatten_v2.fits  669  HD111980  empty_1  holo4_003   \n",
       "2  exposure_2023011700669_flatten_v3.fits  669  HD111980  empty_1  holo4_003   \n",
       "3  exposure_2023011700669_flatten_v4.fits  669  HD111980  empty_1  holo4_003   \n",
       "\n",
       "    airmass  exposure  ...  temperature  humidity  windspd  Obj-posXpix  \\\n",
       "0  1.063697      30.0  ...         10.0      50.0      5.0          NaN   \n",
       "1  1.063697      30.0  ...         10.0      50.0      5.0          NaN   \n",
       "2  1.063697      30.0  ...         10.0      50.0      5.0          NaN   \n",
       "3  1.063697      30.0  ...         10.0      50.0      5.0          NaN   \n",
       "\n",
       "   Obj-posYpix  Dx  Dy  skip  run  quality  \n",
       "0          NaN NaN NaN        NaN      NaN  \n",
       "1          NaN NaN NaN        NaN      NaN  \n",
       "2          NaN NaN NaN        NaN      NaN  \n",
       "3          NaN NaN NaN        NaN      NaN  \n",
       "\n",
       "[4 rows x 23 columns]"
      ]
     },
     "execution_count": 48,
     "metadata": {},
     "output_type": "execute_result"
    }
   ],
   "source": [
    "df"
   ]
  },
  {
   "cell_type": "markdown",
   "metadata": {},
   "source": [
    "# Make logbook\n"
   ]
  },
  {
   "cell_type": "code",
   "execution_count": 49,
   "metadata": {
    "execution": {
     "iopub.execute_input": "2023-09-21T13:52:40.678681Z",
     "iopub.status.busy": "2023-09-21T13:52:40.678568Z",
     "iopub.status.idle": "2023-09-21T13:52:40.681413Z",
     "shell.execute_reply": "2023-09-21T13:52:40.681082Z",
     "shell.execute_reply.started": "2023-09-21T13:52:40.678671Z"
    },
    "tags": []
   },
   "outputs": [
    {
     "data": {
      "text/plain": [
       "4"
      ]
     },
     "execution_count": 49,
     "metadata": {},
     "output_type": "execute_result"
    }
   ],
   "source": [
    "N=len(df)\n",
    "N"
   ]
  },
  {
   "cell_type": "code",
   "execution_count": 50,
   "metadata": {
    "execution": {
     "iopub.execute_input": "2023-09-21T13:52:40.681967Z",
     "iopub.status.busy": "2023-09-21T13:52:40.681857Z",
     "iopub.status.idle": "2023-09-21T13:52:40.689007Z",
     "shell.execute_reply": "2023-09-21T13:52:40.688678Z",
     "shell.execute_reply.started": "2023-09-21T13:52:40.681957Z"
    },
    "tags": []
   },
   "outputs": [],
   "source": [
    "if N>0:\n",
    "#    df.to_excel(logbook_xlsx)\n",
    "    df.to_csv(logbook_csv)"
   ]
  },
  {
   "cell_type": "code",
   "execution_count": 51,
   "metadata": {
    "execution": {
     "iopub.execute_input": "2023-09-21T13:52:40.689574Z",
     "iopub.status.busy": "2023-09-21T13:52:40.689454Z",
     "iopub.status.idle": "2023-09-21T13:52:40.691836Z",
     "shell.execute_reply": "2023-09-21T13:52:40.691511Z",
     "shell.execute_reply.started": "2023-09-21T13:52:40.689564Z"
    },
    "tags": []
   },
   "outputs": [
    {
     "data": {
      "text/plain": [
       "'logbooks/auxtellogbook_myflatfielding_empty~holo4_003_20230117_v8.0.csv'"
      ]
     },
     "execution_count": 51,
     "metadata": {},
     "output_type": "execute_result"
    }
   ],
   "source": [
    "logbook_csv"
   ]
  },
  {
   "cell_type": "code",
   "execution_count": null,
   "metadata": {},
   "outputs": [],
   "source": []
  },
  {
   "cell_type": "code",
   "execution_count": null,
   "metadata": {},
   "outputs": [],
   "source": []
  },
  {
   "cell_type": "code",
   "execution_count": null,
   "metadata": {},
   "outputs": [],
   "source": []
  },
  {
   "cell_type": "code",
   "execution_count": null,
   "metadata": {},
   "outputs": [],
   "source": []
  }
 ],
 "metadata": {
  "kernelspec": {
   "display_name": "LSST",
   "language": "python",
   "name": "lsst"
  },
  "language_info": {
   "codemirror_mode": {
    "name": "ipython",
    "version": 3
   },
   "file_extension": ".py",
   "mimetype": "text/x-python",
   "name": "python",
   "nbconvert_exporter": "python",
   "pygments_lexer": "ipython3",
   "version": "3.11.4"
  },
  "toc": {
   "base_numbering": 1,
   "nav_menu": {},
   "number_sections": true,
   "sideBar": true,
   "skip_h1_title": false,
   "title_cell": "Table of Contents",
   "title_sidebar": "Contents",
   "toc_cell": false,
   "toc_position": {},
   "toc_section_display": true,
   "toc_window_display": false
  }
 },
 "nbformat": 4,
 "nbformat_minor": 4
}
