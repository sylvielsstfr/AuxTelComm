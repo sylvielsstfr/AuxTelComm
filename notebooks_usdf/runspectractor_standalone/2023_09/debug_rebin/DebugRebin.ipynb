{
 "cells": [
  {
   "cell_type": "markdown",
   "id": "79bff622-7f0a-4aa9-ae98-ede01bf95fa9",
   "metadata": {
    "execution": {
     "iopub.execute_input": "2023-09-07T20:48:43.469945Z",
     "iopub.status.busy": "2023-09-07T20:48:43.469818Z",
     "iopub.status.idle": "2023-09-07T20:48:44.391017Z",
     "shell.execute_reply": "2023-09-07T20:48:44.390597Z",
     "shell.execute_reply.started": "2023-09-07T20:48:43.469932Z"
    },
    "tags": []
   },
   "source": [
    "# Debug Rebin\n",
    "\n",
    "- Sylvie Dagoret-Campagne\n",
    "- creation date September 2023-09-07\n"
   ]
  },
  {
   "cell_type": "code",
   "execution_count": 17,
   "id": "531e3214-7704-48f8-892e-8efaef0beaa7",
   "metadata": {
    "execution": {
     "iopub.execute_input": "2023-09-08T13:03:33.980272Z",
     "iopub.status.busy": "2023-09-08T13:03:33.979862Z",
     "iopub.status.idle": "2023-09-08T13:03:33.982667Z",
     "shell.execute_reply": "2023-09-08T13:03:33.982374Z",
     "shell.execute_reply.started": "2023-09-08T13:03:33.980254Z"
    },
    "tags": []
   },
   "outputs": [],
   "source": [
    "from spectractor.tools import (plot_image_simple, save_fits, load_fits, fit_poly1d, plot_compass_simple,\n",
    "                               fit_poly1d_outlier_removal, weighted_avg_and_std,\n",
    "                               fit_poly2d_outlier_removal, hessian_and_theta,\n",
    "                               set_wcs_file_name, load_wcs_from_file, imgslice, rebin)\n",
    "from spectractor import parameters\n",
    "import numpy as np"
   ]
  },
  {
   "cell_type": "code",
   "execution_count": 2,
   "id": "9e55ad99-3e87-427d-8408-3c4c6b9b4555",
   "metadata": {
    "execution": {
     "iopub.execute_input": "2023-09-08T12:59:16.802208Z",
     "iopub.status.busy": "2023-09-08T12:59:16.801883Z",
     "iopub.status.idle": "2023-09-08T12:59:16.804806Z",
     "shell.execute_reply": "2023-09-08T12:59:16.804422Z",
     "shell.execute_reply.started": "2023-09-08T12:59:16.802191Z"
    },
    "tags": []
   },
   "outputs": [],
   "source": [
    "#a = 4 * np.ones((10, 10))\n",
    "a = np.arange(100).reshape((10,10))"
   ]
  },
  {
   "cell_type": "code",
   "execution_count": 3,
   "id": "b631eb58-ebc1-4c70-96a1-0751984601cb",
   "metadata": {
    "execution": {
     "iopub.execute_input": "2023-09-08T12:59:20.667877Z",
     "iopub.status.busy": "2023-09-08T12:59:20.667690Z",
     "iopub.status.idle": "2023-09-08T12:59:20.671097Z",
     "shell.execute_reply": "2023-09-08T12:59:20.670766Z",
     "shell.execute_reply.started": "2023-09-08T12:59:20.667863Z"
    },
    "tags": []
   },
   "outputs": [
    {
     "data": {
      "text/plain": [
       "array([[ 0,  1,  2,  3,  4,  5,  6,  7,  8,  9],\n",
       "       [10, 11, 12, 13, 14, 15, 16, 17, 18, 19],\n",
       "       [20, 21, 22, 23, 24, 25, 26, 27, 28, 29],\n",
       "       [30, 31, 32, 33, 34, 35, 36, 37, 38, 39],\n",
       "       [40, 41, 42, 43, 44, 45, 46, 47, 48, 49],\n",
       "       [50, 51, 52, 53, 54, 55, 56, 57, 58, 59],\n",
       "       [60, 61, 62, 63, 64, 65, 66, 67, 68, 69],\n",
       "       [70, 71, 72, 73, 74, 75, 76, 77, 78, 79],\n",
       "       [80, 81, 82, 83, 84, 85, 86, 87, 88, 89],\n",
       "       [90, 91, 92, 93, 94, 95, 96, 97, 98, 99]])"
      ]
     },
     "execution_count": 3,
     "metadata": {},
     "output_type": "execute_result"
    }
   ],
   "source": [
    "a"
   ]
  },
  {
   "cell_type": "code",
   "execution_count": 4,
   "id": "daffa5f9-3010-4626-96ec-fc6c7886bfbd",
   "metadata": {
    "execution": {
     "iopub.execute_input": "2023-09-08T12:59:27.129512Z",
     "iopub.status.busy": "2023-09-08T12:59:27.129211Z",
     "iopub.status.idle": "2023-09-08T12:59:27.132782Z",
     "shell.execute_reply": "2023-09-08T12:59:27.132419Z",
     "shell.execute_reply.started": "2023-09-08T12:59:27.129497Z"
    },
    "tags": []
   },
   "outputs": [
    {
     "data": {
      "text/plain": [
       "array([10, 10])"
      ]
     },
     "execution_count": 4,
     "metadata": {},
     "output_type": "execute_result"
    }
   ],
   "source": [
    "np.asarray(a.shape)"
   ]
  },
  {
   "cell_type": "code",
   "execution_count": 19,
   "id": "f3c52684-b41f-4d6e-8359-dbcbcfcc0839",
   "metadata": {
    "execution": {
     "iopub.execute_input": "2023-09-08T13:03:41.496970Z",
     "iopub.status.busy": "2023-09-08T13:03:41.496598Z",
     "iopub.status.idle": "2023-09-08T13:03:41.498869Z",
     "shell.execute_reply": "2023-09-08T13:03:41.498580Z",
     "shell.execute_reply.started": "2023-09-08T13:03:41.496956Z"
    },
    "tags": []
   },
   "outputs": [],
   "source": [
    "REBIN = 2\n",
    "parameters.CCD_REBIN = REBIN"
   ]
  },
  {
   "cell_type": "code",
   "execution_count": 6,
   "id": "0ceac532-9461-4abf-b62c-bac8a14ce248",
   "metadata": {
    "execution": {
     "iopub.execute_input": "2023-09-08T12:59:33.422485Z",
     "iopub.status.busy": "2023-09-08T12:59:33.422282Z",
     "iopub.status.idle": "2023-09-08T12:59:33.425993Z",
     "shell.execute_reply": "2023-09-08T12:59:33.425644Z",
     "shell.execute_reply.started": "2023-09-08T12:59:33.422472Z"
    },
    "tags": []
   },
   "outputs": [
    {
     "data": {
      "text/plain": [
       "array([5, 5])"
      ]
     },
     "execution_count": 6,
     "metadata": {},
     "output_type": "execute_result"
    }
   ],
   "source": [
    "new_shape = (a.shape[0]//REBIN,a.shape[1]//REBIN)\n",
    "new_shape = np.asarray(new_shape)\n",
    "new_shape"
   ]
  },
  {
   "cell_type": "code",
   "execution_count": 7,
   "id": "8f651ef3-8e81-4e41-aff4-3fe0ee9d6873",
   "metadata": {
    "execution": {
     "iopub.execute_input": "2023-09-08T12:59:40.966252Z",
     "iopub.status.busy": "2023-09-08T12:59:40.966059Z",
     "iopub.status.idle": "2023-09-08T12:59:40.969254Z",
     "shell.execute_reply": "2023-09-08T12:59:40.968876Z",
     "shell.execute_reply.started": "2023-09-08T12:59:40.966240Z"
    },
    "tags": []
   },
   "outputs": [],
   "source": [
    "if np.any(new_shape * REBIN != a.shape):\n",
    "    shape_cropped = new_shape * REBIN\n",
    "    margins = np.asarray(a.shape) - shape_cropped\n",
    "    print(\"margins = \",margins)\n",
    "    a = a[:-margins[0], :-margins[1]]\n"
   ]
  },
  {
   "cell_type": "code",
   "execution_count": 8,
   "id": "3231f6c6-fa8e-4bad-8709-78c02dac1175",
   "metadata": {
    "execution": {
     "iopub.execute_input": "2023-09-08T12:59:48.575841Z",
     "iopub.status.busy": "2023-09-08T12:59:48.575575Z",
     "iopub.status.idle": "2023-09-08T12:59:48.578960Z",
     "shell.execute_reply": "2023-09-08T12:59:48.578574Z",
     "shell.execute_reply.started": "2023-09-08T12:59:48.575827Z"
    },
    "tags": []
   },
   "outputs": [
    {
     "data": {
      "text/plain": [
       "array([[ 0,  1,  2,  3,  4,  5,  6,  7,  8,  9],\n",
       "       [10, 11, 12, 13, 14, 15, 16, 17, 18, 19],\n",
       "       [20, 21, 22, 23, 24, 25, 26, 27, 28, 29],\n",
       "       [30, 31, 32, 33, 34, 35, 36, 37, 38, 39],\n",
       "       [40, 41, 42, 43, 44, 45, 46, 47, 48, 49],\n",
       "       [50, 51, 52, 53, 54, 55, 56, 57, 58, 59],\n",
       "       [60, 61, 62, 63, 64, 65, 66, 67, 68, 69],\n",
       "       [70, 71, 72, 73, 74, 75, 76, 77, 78, 79],\n",
       "       [80, 81, 82, 83, 84, 85, 86, 87, 88, 89],\n",
       "       [90, 91, 92, 93, 94, 95, 96, 97, 98, 99]])"
      ]
     },
     "execution_count": 8,
     "metadata": {},
     "output_type": "execute_result"
    }
   ],
   "source": [
    "a"
   ]
  },
  {
   "cell_type": "code",
   "execution_count": 9,
   "id": "aa2cbf67-5307-4f0e-9f9e-9ac8eea75214",
   "metadata": {
    "execution": {
     "iopub.execute_input": "2023-09-08T12:59:53.412852Z",
     "iopub.status.busy": "2023-09-08T12:59:53.412645Z",
     "iopub.status.idle": "2023-09-08T12:59:53.415336Z",
     "shell.execute_reply": "2023-09-08T12:59:53.415030Z",
     "shell.execute_reply.started": "2023-09-08T12:59:53.412838Z"
    },
    "tags": []
   },
   "outputs": [],
   "source": [
    "shape = (new_shape[0], a.shape[0] // new_shape[0],new_shape[1], a.shape[1] // new_shape[1])"
   ]
  },
  {
   "cell_type": "code",
   "execution_count": 10,
   "id": "1628cc7b-35c1-4328-9499-b38642121406",
   "metadata": {
    "execution": {
     "iopub.execute_input": "2023-09-08T12:59:56.273070Z",
     "iopub.status.busy": "2023-09-08T12:59:56.272866Z",
     "iopub.status.idle": "2023-09-08T12:59:56.275927Z",
     "shell.execute_reply": "2023-09-08T12:59:56.275615Z",
     "shell.execute_reply.started": "2023-09-08T12:59:56.273055Z"
    },
    "tags": []
   },
   "outputs": [
    {
     "data": {
      "text/plain": [
       "(5, 2, 5, 2)"
      ]
     },
     "execution_count": 10,
     "metadata": {},
     "output_type": "execute_result"
    }
   ],
   "source": [
    "shape"
   ]
  },
  {
   "cell_type": "code",
   "execution_count": 11,
   "id": "e1b0bb2c-5ea3-4bbb-b044-5c154471fec6",
   "metadata": {
    "execution": {
     "iopub.execute_input": "2023-09-08T13:00:06.634061Z",
     "iopub.status.busy": "2023-09-08T13:00:06.633750Z",
     "iopub.status.idle": "2023-09-08T13:00:06.637391Z",
     "shell.execute_reply": "2023-09-08T13:00:06.637091Z",
     "shell.execute_reply.started": "2023-09-08T13:00:06.634046Z"
    },
    "tags": []
   },
   "outputs": [
    {
     "data": {
      "text/plain": [
       "array([[ 22,  30,  38,  46,  54],\n",
       "       [102, 110, 118, 126, 134],\n",
       "       [182, 190, 198, 206, 214],\n",
       "       [262, 270, 278, 286, 294],\n",
       "       [342, 350, 358, 366, 374]])"
      ]
     },
     "execution_count": 11,
     "metadata": {},
     "output_type": "execute_result"
    }
   ],
   "source": [
    "a.reshape(shape).sum(-1).sum(1)"
   ]
  },
  {
   "cell_type": "code",
   "execution_count": 12,
   "id": "504a4fe2-dab8-436f-84d1-ad49b2d5096b",
   "metadata": {
    "execution": {
     "iopub.execute_input": "2023-09-08T13:00:16.718023Z",
     "iopub.status.busy": "2023-09-08T13:00:16.717660Z",
     "iopub.status.idle": "2023-09-08T13:00:16.720585Z",
     "shell.execute_reply": "2023-09-08T13:00:16.720297Z",
     "shell.execute_reply.started": "2023-09-08T13:00:16.718010Z"
    },
    "tags": []
   },
   "outputs": [
    {
     "data": {
      "text/plain": [
       "array([[ 0,  1,  2,  3,  4,  5,  6,  7,  8,  9],\n",
       "       [10, 11, 12, 13, 14, 15, 16, 17, 18, 19],\n",
       "       [20, 21, 22, 23, 24, 25, 26, 27, 28, 29],\n",
       "       [30, 31, 32, 33, 34, 35, 36, 37, 38, 39],\n",
       "       [40, 41, 42, 43, 44, 45, 46, 47, 48, 49],\n",
       "       [50, 51, 52, 53, 54, 55, 56, 57, 58, 59],\n",
       "       [60, 61, 62, 63, 64, 65, 66, 67, 68, 69],\n",
       "       [70, 71, 72, 73, 74, 75, 76, 77, 78, 79],\n",
       "       [80, 81, 82, 83, 84, 85, 86, 87, 88, 89],\n",
       "       [90, 91, 92, 93, 94, 95, 96, 97, 98, 99]])"
      ]
     },
     "execution_count": 12,
     "metadata": {},
     "output_type": "execute_result"
    }
   ],
   "source": [
    "a"
   ]
  },
  {
   "cell_type": "code",
   "execution_count": 13,
   "id": "a0e3be9d-5785-440e-bf0e-3c65d406b135",
   "metadata": {
    "execution": {
     "iopub.execute_input": "2023-09-07T20:48:44.438617Z",
     "iopub.status.busy": "2023-09-07T20:48:44.438503Z",
     "iopub.status.idle": "2023-09-07T20:48:44.443416Z",
     "shell.execute_reply": "2023-09-07T20:48:44.443072Z",
     "shell.execute_reply.started": "2023-09-07T20:48:44.438607Z"
    },
    "tags": []
   },
   "outputs": [
    {
     "data": {
      "text/plain": [
       "array([[ 5.5,  7.5,  9.5, 11.5, 13.5],\n",
       "       [25.5, 27.5, 29.5, 31.5, 33.5],\n",
       "       [45.5, 47.5, 49.5, 51.5, 53.5],\n",
       "       [65.5, 67.5, 69.5, 71.5, 73.5],\n",
       "       [85.5, 87.5, 89.5, 91.5, 93.5]])"
      ]
     },
     "execution_count": 13,
     "metadata": {},
     "output_type": "execute_result"
    }
   ],
   "source": [
    "a.reshape(shape).mean(-1).mean(1)"
   ]
  },
  {
   "cell_type": "code",
   "execution_count": 14,
   "id": "656da7bb-3949-44f1-a126-2522648dae36",
   "metadata": {
    "execution": {
     "iopub.execute_input": "2023-09-07T20:48:44.444008Z",
     "iopub.status.busy": "2023-09-07T20:48:44.443883Z",
     "iopub.status.idle": "2023-09-07T20:48:44.447293Z",
     "shell.execute_reply": "2023-09-07T20:48:44.446950Z",
     "shell.execute_reply.started": "2023-09-07T20:48:44.443996Z"
    },
    "tags": []
   },
   "outputs": [
    {
     "data": {
      "text/plain": [
       "array([[ 5.5,  7.5,  9.5, 11.5, 13.5],\n",
       "       [25.5, 27.5, 29.5, 31.5, 33.5],\n",
       "       [45.5, 47.5, 49.5, 51.5, 53.5],\n",
       "       [65.5, 67.5, 69.5, 71.5, 73.5],\n",
       "       [85.5, 87.5, 89.5, 91.5, 93.5]])"
      ]
     },
     "execution_count": 14,
     "metadata": {},
     "output_type": "execute_result"
    }
   ],
   "source": [
    "a.reshape(shape).sum(-1).sum(1)/4."
   ]
  },
  {
   "cell_type": "code",
   "execution_count": 20,
   "id": "12da3640-1058-4e5c-9ea0-9a485e01e481",
   "metadata": {
    "execution": {
     "iopub.execute_input": "2023-09-08T13:03:46.873476Z",
     "iopub.status.busy": "2023-09-08T13:03:46.873123Z",
     "iopub.status.idle": "2023-09-08T13:03:46.875824Z",
     "shell.execute_reply": "2023-09-08T13:03:46.875508Z",
     "shell.execute_reply.started": "2023-09-08T13:03:46.873460Z"
    },
    "tags": []
   },
   "outputs": [
    {
     "name": "stdout",
     "output_type": "stream",
     "text": [
      "REBIN DO MAKESUM\n"
     ]
    }
   ],
   "source": [
    "b = rebin(a, new_shape,FLAG_MAKESUM=True)"
   ]
  },
  {
   "cell_type": "code",
   "execution_count": 21,
   "id": "da321cab-0047-46f5-bc31-994c74f949f9",
   "metadata": {
    "execution": {
     "iopub.execute_input": "2023-09-08T13:03:49.502397Z",
     "iopub.status.busy": "2023-09-08T13:03:49.502015Z",
     "iopub.status.idle": "2023-09-08T13:03:49.505007Z",
     "shell.execute_reply": "2023-09-08T13:03:49.504720Z",
     "shell.execute_reply.started": "2023-09-08T13:03:49.502383Z"
    },
    "tags": []
   },
   "outputs": [
    {
     "data": {
      "text/plain": [
       "array([[ 22,  30,  38,  46,  54],\n",
       "       [102, 110, 118, 126, 134],\n",
       "       [182, 190, 198, 206, 214],\n",
       "       [262, 270, 278, 286, 294],\n",
       "       [342, 350, 358, 366, 374]])"
      ]
     },
     "execution_count": 21,
     "metadata": {},
     "output_type": "execute_result"
    }
   ],
   "source": [
    "b"
   ]
  },
  {
   "cell_type": "code",
   "execution_count": 17,
   "id": "a80b0863-3350-4a31-93c4-3374704684b1",
   "metadata": {
    "execution": {
     "iopub.execute_input": "2023-09-07T20:48:44.456550Z",
     "iopub.status.busy": "2023-09-07T20:48:44.456415Z",
     "iopub.status.idle": "2023-09-07T20:48:44.459322Z",
     "shell.execute_reply": "2023-09-07T20:48:44.458966Z",
     "shell.execute_reply.started": "2023-09-07T20:48:44.456539Z"
    },
    "tags": []
   },
   "outputs": [
    {
     "name": "stdout",
     "output_type": "stream",
     "text": [
      "REBIN DO MAKEMEAN\n"
     ]
    }
   ],
   "source": [
    "b = rebin(a, new_shape,FLAG_MAKESUM=False)"
   ]
  },
  {
   "cell_type": "code",
   "execution_count": 18,
   "id": "dfee31a1-46bb-458c-839b-3d77b0f6031c",
   "metadata": {
    "execution": {
     "iopub.execute_input": "2023-09-07T20:48:44.459904Z",
     "iopub.status.busy": "2023-09-07T20:48:44.459793Z",
     "iopub.status.idle": "2023-09-07T20:48:44.464022Z",
     "shell.execute_reply": "2023-09-07T20:48:44.463694Z",
     "shell.execute_reply.started": "2023-09-07T20:48:44.459895Z"
    },
    "tags": []
   },
   "outputs": [
    {
     "data": {
      "text/plain": [
       "array([[ 0.,  1.,  2.,  3.,  4.],\n",
       "       [10., 11., 12., 13., 14.],\n",
       "       [20., 21., 22., 23., 24.],\n",
       "       [30., 31., 32., 33., 34.],\n",
       "       [40., 41., 42., 43., 44.]])"
      ]
     },
     "execution_count": 18,
     "metadata": {},
     "output_type": "execute_result"
    }
   ],
   "source": [
    "b"
   ]
  },
  {
   "cell_type": "code",
   "execution_count": null,
   "id": "38a58daa-6db6-47dc-87d8-fdf41e4f40d0",
   "metadata": {},
   "outputs": [],
   "source": []
  }
 ],
 "metadata": {
  "kernelspec": {
   "display_name": "LSST",
   "language": "python",
   "name": "lsst"
  },
  "language_info": {
   "codemirror_mode": {
    "name": "ipython",
    "version": 3
   },
   "file_extension": ".py",
   "mimetype": "text/x-python",
   "name": "python",
   "nbconvert_exporter": "python",
   "pygments_lexer": "ipython3",
   "version": "3.11.4"
  }
 },
 "nbformat": 4,
 "nbformat_minor": 5
}
