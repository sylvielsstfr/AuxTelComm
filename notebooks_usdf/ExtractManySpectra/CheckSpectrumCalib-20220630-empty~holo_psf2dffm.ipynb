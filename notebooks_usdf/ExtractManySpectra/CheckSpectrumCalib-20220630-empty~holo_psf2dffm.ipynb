{
 "cells": [
  {
   "cell_type": "markdown",
   "metadata": {},
   "source": [
    "# Check Spectrum for No Filter date 2022/06/30, Spectractor mode PSF2DFFM"
   ]
  },
  {
   "cell_type": "markdown",
   "metadata": {},
   "source": [
    "\n",
    "- author Sylvie Dagoret-Campagne\n",
    "- affiliation : IJCLab/IN2P3/CNRS\n",
    "- creation date : November 2nd 2022\n",
    "- update : November 2nd 2022\n"
   ]
  },
  {
   "cell_type": "markdown",
   "metadata": {},
   "source": [
    "# Import"
   ]
  },
  {
   "cell_type": "code",
   "execution_count": 1,
   "metadata": {},
   "outputs": [],
   "source": [
    "import pandas as pd\n",
    "import matplotlib as mpl\n",
    "import matplotlib.cm as cm \n",
    "import matplotlib.pyplot as plt\n",
    "import matplotlib.dates as mdates\n",
    "\n",
    "import numpy as np\n",
    "from mpl_toolkits.axes_grid1 import host_subplot\n",
    "import mpl_toolkits.axisartist as AA\n",
    "import os,sys,re\n",
    "\n",
    "from astropy.io import fits\n",
    "import matplotlib.colors as colors\n",
    "import matplotlib.cm as cmx\n",
    "import matplotlib.dates as mdates\n",
    "from matplotlib import gridspec\n",
    "%matplotlib inline\n",
    "import pickle"
   ]
  },
  {
   "cell_type": "code",
   "execution_count": 2,
   "metadata": {},
   "outputs": [],
   "source": [
    "import matplotlib.offsetbox\n",
    "props = dict(boxstyle='round',edgecolor=\"w\",facecolor=\"w\", alpha=0.5)"
   ]
  },
  {
   "cell_type": "code",
   "execution_count": 3,
   "metadata": {},
   "outputs": [],
   "source": [
    "# to enlarge the sizes\n",
    "params = {'legend.fontsize': 'x-large',\n",
    "          'figure.figsize': (10, 6),\n",
    "         'axes.labelsize': 'xx-large',\n",
    "         'axes.titlesize':'xx-large',\n",
    "         'xtick.labelsize':'xx-large',\n",
    "         'ytick.labelsize':'xx-large'}\n",
    "plt.rcParams.update(params)"
   ]
  },
  {
   "cell_type": "code",
   "execution_count": 4,
   "metadata": {},
   "outputs": [],
   "source": [
    "#pysynphot_root_path=os.environ['PYSYN_CDBS']\n",
    "#path_sed_calspec=os.path.join(pysynphot_root_path,'calspec')\n",
    "# pysynphot\n",
    "#import pysynphot as S\n",
    "#S.refs.setref(area=1)\n",
    "#S.refs.getref()"
   ]
  },
  {
   "cell_type": "code",
   "execution_count": 5,
   "metadata": {},
   "outputs": [],
   "source": [
    "import time\n",
    "from datetime import datetime,date\n",
    "from astropy.time import Time\n",
    "import dateutil.parser\n",
    "import pytz\n",
    "\n",
    "import argparse\n",
    "\n",
    "import logging\n",
    "import coloredlogs\n",
    "import configparser\n"
   ]
  },
  {
   "cell_type": "code",
   "execution_count": 6,
   "metadata": {},
   "outputs": [],
   "source": [
    "from scipy import interpolate\n",
    "from scipy.interpolate import interp1d\n",
    "from scipy.signal import savgol_filter\n",
    "from scipy import fftpack"
   ]
  },
  {
   "cell_type": "code",
   "execution_count": 7,
   "metadata": {},
   "outputs": [
    {
     "name": "stdout",
     "output_type": "stream",
     "text": [
      "data\t\tnotebookccdm\t   notebookscc\t   README.md\n",
      "DMBootcamp2022\tnotebookccdm_gen3  notebooks_usdf  simulation\n",
      "ncs_notebooks\tnotebooks\t   notes\t   spectra\n"
     ]
    }
   ],
   "source": [
    "!ls ../../"
   ]
  },
  {
   "cell_type": "code",
   "execution_count": 10,
   "metadata": {},
   "outputs": [],
   "source": [
    "# import libradtran\n",
    "#sys.path.append('../../simulation/atmsim/libradtran')\n",
    "#import libsimulateVisible"
   ]
  },
  {
   "cell_type": "code",
   "execution_count": 11,
   "metadata": {},
   "outputs": [],
   "source": [
    "from spectractor.extractor.spectroscopy import Lines, Line ,HALPHA, HBETA, O2_1, H2O_1, ATMOSPHERIC_LINES"
   ]
  },
  {
   "cell_type": "code",
   "execution_count": 12,
   "metadata": {},
   "outputs": [],
   "source": [
    "HALPHA = Line(656.3, atmospheric=False, label='$H\\\\alpha$', label_pos=[-0.01, 0.02], use_for_calibration=True)\n",
    "HBETA = Line(486.3, atmospheric=False, label='$H\\\\beta$', label_pos=[0.001, 0.02], use_for_calibration=True)\n",
    "HGAMMA = Line(434.0, atmospheric=False, label='$H\\\\gamma$', label_pos=[0.001, 0.02], use_for_calibration=True)\n",
    "HDELTA = Line(410.2, atmospheric=False, label='$H\\\\delta$', label_pos=[0.001, 0.02], use_for_calibration=True)\n",
    "HEPSILON = Line(397.0, atmospheric=False, label='$H\\\\epsilon$', label_pos=[0.001, 0.02], use_for_calibration=True)\n",
    "\n",
    "HZETA = Line(388.9064, atmospheric=False, label='$H\\\\zeta$', label_pos=[0.001, 0.02], use_for_calibration=False)\n",
    "HETA = Line(383.5397, atmospheric=False, label='$H\\\\eta$', label_pos=[0.001, 0.02], use_for_calibration=False)\n",
    "\n",
    "HBETA2 = Line(486.3*2, atmospheric=False, label='$H\\\\beta$2', label_pos=[0.001, 0.02], use_for_calibration=True)\n",
    "HGAMMA2 = Line(434.0*2, atmospheric=False, label='$H\\\\gamma$2', label_pos=[0.001, 0.02], use_for_calibration=True)\n",
    "HDELTA2 = Line(410.2*2, atmospheric=False, label='$H\\\\delta$2', label_pos=[0.001, 0.02], use_for_calibration=True)\n",
    "HEPSILON2 = Line(397.0*2, atmospheric=False, label='$H\\\\epsilon$2', label_pos=[0.001, 0.02], use_for_calibration=True)\n",
    "HZETA2 = Line(388.9064*2, atmospheric=False, label='$H\\\\zeta$2', label_pos=[0.001, 0.02], use_for_calibration=False)\n",
    "HETA2 = Line(383.5397*2, atmospheric=False, label='$H\\\\eta$2', label_pos=[0.001, 0.02], use_for_calibration=False)\n",
    "\n",
    "O2_1 = Line(760.3, atmospheric=True, label='$O_2$',label_pos=[0.001, 0.02], use_for_calibration=True)  # libradtran paper fig.3\n",
    "O2_2 = Line(763.1, atmospheric=True, label='$O_2$',label_pos=[0.001, 0.02], use_for_calibration=True)  # libradtran paper fig.3\n",
    "\n",
    "O2B = Line(687.472, atmospheric=True, label=r'$O_2(B)$',  # 687.472 is a weighted average of the O2B line simulated by Libradtran\n",
    "           label_pos=[0.001, 0.02], use_for_calibration=True)  # https://en.wikipedia.org/wiki/Fraunhofer_lines\n",
    "O2Y = Line(898.765, atmospheric=True, label=r'$O_2(Y)$',\n",
    "           label_pos=[0.001, 0.02])  # https://en.wikipedia.org/wiki/Fraunhofer_lines\n",
    "O2Z = Line(822.696, atmospheric=True, label=r'$O_2(Z)$',\n",
    "           label_pos=[0.001, 0.02])  # https://en.wikipedia.org/wiki/Fraunhofer_lines\n",
    "# H2O = Line( 960,atmospheric=True,label='$H_2 O$',label_pos=[0.007,0.02],width_bounds=(1,50))  #\n",
    "H2O_1 = Line(935, atmospheric=True, label=r'$H_2 O$', label_pos=[0.001, 0.02],  # MFL: don't these need different labels?\n",
    "             width_bounds=[5, 30])  # libradtran paper fig.3, broad line\n",
    "H2O_2 = Line(960, atmospheric=True, label=r'$H_2 O$', label_pos=[0.001, 0.02],  # MFL: don't these need different labels?\n",
    "              width_bounds=[5, 30])  # libradtran paper fig.3, broad line\n",
    "ATMOSPHERIC_LINES = [O2_1, O2_2, O2B, O2Y, O2Z, H2O_1]\n",
    "\n",
    "\n",
    "H2O_1 = Line(935, atmospheric=True, label=r'$H_2 O$', label_pos=[0.001, 0.02],  # MFL: don't these need different labels?\n",
    "             width_bounds=[5, 30])  # libradtran paper fig.3, broad line\n",
    "H2O_2 = Line(960, atmospheric=True, label=r'$H_2 O$', label_pos=[0.007, 0.02],width_bounds=[5, 30])  # libradtran paper fig.3, broad line\n",
    "\n",
    "my_calib_lines_etador = Lines([HALPHA,HBETA,HGAMMA,HDELTA,HEPSILON,HBETA2,HGAMMA2,HDELTA2,HEPSILON2,HZETA2,O2_1,O2_2],hydrogen_only=True,atmospheric_lines=True, redshift=0, emission_spectrum=False)\n",
    "hydrogen_lines_order1 =  Lines([HALPHA,HBETA,HGAMMA,HDELTA,HEPSILON])\n",
    "hydrogen_lines_order2 =  Lines([HBETA2,HGAMMA2,HDELTA2,HEPSILON2,HZETA2,HETA2])\n",
    "oxygen_lines_order1 = Lines([O2_1,O2_2])"
   ]
  },
  {
   "cell_type": "code",
   "execution_count": 13,
   "metadata": {},
   "outputs": [],
   "source": [
    "#ax.plot([x_O2_1,x_O2_1],[72,100],'b-',lw=3)\n",
    "#ax.annotate(O2_1.label, xy=(x_O2_1, 80), color='b',fontsize=20,fontweight='bold')"
   ]
  },
  {
   "cell_type": "markdown",
   "metadata": {},
   "source": [
    "# Functions"
   ]
  },
  {
   "cell_type": "markdown",
   "metadata": {},
   "source": [
    "- Filtering here\n",
    "https://stackoverflow.com/questions/20618804/how-to-smooth-a-curve-in-the-right-way"
   ]
  },
  {
   "cell_type": "code",
   "execution_count": 14,
   "metadata": {},
   "outputs": [],
   "source": [
    "def smooth_data_convolve_my_average(arr, span):\n",
    "    re = np.convolve(arr, np.ones(span * 2 + 1) / (span * 2 + 1), mode=\"same\")\n",
    "\n",
    "    # The \"my_average\" part: shrinks the averaging window on the side that \n",
    "    # reaches beyond the data, keeps the other side the same size as given \n",
    "    # by \"span\"\n",
    "    re[0] = np.average(arr[:span])\n",
    "    for i in range(1, span + 1):\n",
    "        re[i] = np.average(arr[:i + span])\n",
    "        re[-i] = np.average(arr[-i - span:])\n",
    "    return re\n",
    "\n",
    "def smooth_data_np_average(arr, span):  # my original, naive approach\n",
    "    return [np.average(arr[val - span:val + span + 1]) for val in range(len(arr))]\n",
    "\n",
    "def smooth_data_np_convolve(arr, span):\n",
    "    return np.convolve(arr, np.ones(span * 2 + 1) / (span * 2 + 1), mode=\"same\")\n",
    "\n",
    "def smooth_data_np_cumsum_my_average(arr, span):\n",
    "    cumsum_vec = np.cumsum(arr)\n",
    "    moving_average = (cumsum_vec[2 * span:] - cumsum_vec[:-2 * span]) / (2 * span)\n",
    "\n",
    "    # The \"my_average\" part again. Slightly different to before, because the\n",
    "    # moving average from cumsum is shorter than the input and needs to be padded\n",
    "    front, back = [np.average(arr[:span])], []\n",
    "    for i in range(1, span):\n",
    "        front.append(np.average(arr[:i + span]))\n",
    "        back.insert(0, np.average(arr[-i - span:]))\n",
    "    back.insert(0, np.average(arr[-2 * span:]))\n",
    "    return np.concatenate((front, moving_average, back))\n",
    "\n",
    "def smooth_data_lowess(arr, span):\n",
    "    x = np.linspace(0, 1, len(arr))\n",
    "    return sm.nonparametric.lowess(arr, x, frac=(5*span / len(arr)), return_sorted=False)\n",
    "\n",
    "def smooth_data_kernel_regression(arr, span):\n",
    "    # \"span\" smoothing parameter is ignored. If you know how to \n",
    "    # incorporate that with kernel regression, please comment below.\n",
    "    kr = KernelReg(arr, np.linspace(0, 1, len(arr)), 'c')\n",
    "    return kr.fit()[0]\n",
    "\n",
    "def smooth_data_savgol_0(arr, span):  \n",
    "    return savgol_filter(arr, span * 2 + 1, 0)\n",
    "\n",
    "def smooth_data_savgol_1(arr, span):  \n",
    "    return savgol_filter(arr, span * 2 + 1, 1)\n",
    "\n",
    "def smooth_data_savgol_2(arr, span):  \n",
    "    return savgol_filter(arr, span * 2 + 1, 2)\n",
    "\n",
    "def smooth_data_fft(arr, span):  # the scaling of \"span\" is open to suggestions\n",
    "    w = fftpack.rfft(arr)\n",
    "    spectrum = w ** 2\n",
    "    cutoff_idx = spectrum < (spectrum.max() * (1 - np.exp(-span / 2000)))\n",
    "    w[cutoff_idx] = 0\n",
    "    return fftpack.irfft(w)"
   ]
  },
  {
   "cell_type": "code",
   "execution_count": 15,
   "metadata": {},
   "outputs": [],
   "source": [
    "def atmpatt_Dataf_to_np(df):\n",
    "    \"\"\"\n",
    "    \n",
    "    atmpatt_Dataf_to_np : convert pandas dtaframe on abs pattern into numpy array\n",
    "    \n",
    "    \"\"\"\n",
    "    o2_cols = []\n",
    "    for tabcol in df.columns:\n",
    "        if 'o2_' in tabcol and 'no2_' not in tabcol:\n",
    "            o2_cols.append(tabcol)\n",
    "            \n",
    "    no2_cols = []\n",
    "    for tabcol in df.columns:\n",
    "        if 'no2_' in tabcol:\n",
    "            no2_cols.append(tabcol)\n",
    "            \n",
    "            \n",
    "    h2o_cols = []\n",
    "    for tabcol in df.columns:\n",
    "        if 'h2o_' in tabcol:\n",
    "            h2o_cols.append(tabcol)\n",
    "            \n",
    "            \n",
    "    o3_cols = []\n",
    "    for tabcol in df.columns:\n",
    "        if 'o3_' in  tabcol:\n",
    "            o3_cols.append(tabcol)\n",
    "            \n",
    "            \n",
    "    data_wl = df[\"wl\"].to_numpy()\n",
    "    data_o2 = df[o2_cols].to_numpy()\n",
    "    data_o3 = df[o3_cols].to_numpy()\n",
    "    data_h2o = df[h2o_cols].to_numpy()\n",
    "    data_no2 = df[no2_cols].to_numpy()\n",
    "    \n",
    "    \n",
    "    return data_wl, data_o2, data_o3, data_h2o, data_no2\n",
    "    "
   ]
  },
  {
   "cell_type": "code",
   "execution_count": 16,
   "metadata": {},
   "outputs": [],
   "source": [
    "def find_nearest(a, a0):\n",
    "    \"Element in nd array `a` closest to the scalar value `a0`\"\n",
    "    idx = np.abs(a - a0).argmin()\n",
    "    return a.flat[idx],int(idx)"
   ]
  },
  {
   "cell_type": "code",
   "execution_count": 17,
   "metadata": {},
   "outputs": [],
   "source": [
    "def GetSpectra(dict_spectra):\n",
    "    \"\"\"\n",
    "    GetSpectra(dict_spectra)\n",
    "    \n",
    "    input:\n",
    "      - dict_spectra : dictionnary of input spectra\n",
    "      \n",
    "      \n",
    "      {'number': 238.0, 'object': 'mu. Col', 'dateobs': '2022-03-18T00:51:22.049', 'refhour': 0.0, 'airmass': 1.11557476948966, 'pressure': 743.45, 'temperature': 8.9, \n",
    "      'humidity': 48.0, 'targetx_pix': 312.7442668572934, 'targety_pix': 1738.0006619324693, 'rotangle': 0.1753951396614214, 'd2ccd': 181.0974436798836, \n",
    "      'all_lambdas': array([ 302.20970512,  302.91544585,  303.62117594, ..., 1108.67461764,\n",
    "       1109.35162338, 1110.02859124]), 'all_fluxes': array([1.04110833e-13, 9.83856109e-14, 8.99209206e-14, ...,\n",
    "       5.34113538e-13, 5.36905940e-13, 5.53127394e-13]), 'all_fluxes_err': array([3.51303583e-15, 3.10100695e-15, 2.58677333e-15, ...,\n",
    "       3.34568263e-15, 4.01784054e-15, 4.54242555e-15]), 'all_lambdas_order2': array([ 302.24857475,  302.9543149 ,  303.66004442, ..., 1108.71192607,\n",
    "       1109.38892974, 1110.06589555]), 'all_fluxes_order2': array([420.23653349, 386.95227531, 344.90384603, ...,  60.47440612,\n",
    "        60.74615545,  62.53491353]), 'all_fluxes_err_order2': array([14.15542468, 12.17674916,  9.90751987, ...,  0.37846535,\n",
    "        0.45415764,  0.51307916])}\n",
    "      \n",
    "    \n",
    "    return\n",
    "      - list of dataframes\n",
    "    \"\"\"\n",
    "    \n",
    "    #correction_area = 1.06/1.13\n",
    "    correction_area = 1\n",
    "    \n",
    "    list_of_columns = [\"number\",\"object\",'dateobs','refhour','airmass','pressure','temperature','humidity','filename','targetx_pix', 'targety_pix','rotangle', 'd2ccd']   \n",
    "\n",
    "    all_df = []  # container for spectra\n",
    "    \n",
    "    df_info = pd.DataFrame(columns=list_of_columns)\n",
    "    \n",
    "    idx=0\n",
    "    for key, value in dict_spectra.items():\n",
    "        \n",
    "        df_info.loc[idx] = [int(value[\"number\"]),value[\"object\"],value[\"dateobs\"],value[\"refhour\"],value[\"airmass\"],value[\"pressure\"],value[\"temperature\"],value[\"humidity\"],key,value['targetx_pix'],value['targety_pix'],value['rotangle'], value['d2ccd']]\n",
    "         \n",
    "        df = pd.DataFrame()\n",
    "        df[\"all_lambdas\"] = value[\"all_lambdas\"]\n",
    "        df[\"all_fluxes\"] = value[\"all_fluxes\"]/ correction_area \n",
    "        df[\"all_fluxes_err\"] = value[\"all_fluxes_err\"]\n",
    "        \n",
    "        if 'all_lambdas_order2' in value.keys():\n",
    "            df[\"all_lambdas_order2\"] = value[\"all_lambdas_order2\"]\n",
    "            df[\"all_fluxes_order2\"] = value[\"all_fluxes_order2\"]/ correction_area \n",
    "            df[\"all_fluxes_err_order2\"] = value[\"all_fluxes_err_order2\"]\n",
    "            \n",
    "        \n",
    "        all_df.append(df)\n",
    "        \n",
    "        \n",
    "        idx+=1\n",
    "        \n",
    "    return df_info , all_df"
   ]
  },
  {
   "cell_type": "code",
   "execution_count": 18,
   "metadata": {},
   "outputs": [],
   "source": [
    "def GetSpectraFiltered(dict_spectra,list_of_bad_spectra):\n",
    "    \"\"\"\n",
    "    GetSpectraFiltered(inputdir,inputfiles)\n",
    "    \n",
    "    input:\n",
    "      - dict_spectra\n",
    "      - ist_of_bad_spectra\n",
    "    \n",
    "    return\n",
    "      - filtered infos, filtered spectra\n",
    "    \"\"\"\n",
    "    \n",
    "    # factor to correct fluxes (over estimated collection surface)\n",
    "    #correction_area = 1.06/1.13\n",
    "    correction_area = 1\n",
    "    \n",
    "    \n",
    "    \n",
    "    list_of_columns = [\"number\",\"object\",'dateobs','refhour','airmass','pressure','temperature','humidity','filename','targetx_pix', 'targety_pix','rotangle', 'd2ccd']   \n",
    "        \n",
    "\n",
    "    all_df = []  # container for spectra\n",
    "    \n",
    "    df_info = pd.DataFrame(columns=list_of_columns)\n",
    "    \n",
    "    idx=0       # counter on input spectra\n",
    "    idx_out = 0 # counter on save spectra\n",
    "    for key, value in dict_spectra.items():\n",
    "        \n",
    "        \n",
    "        if int(value[\"number\"]) not in list_of_bad_spectra:\n",
    "        \n",
    "            \n",
    "            df_info.loc[idx] = [int(value[\"number\"]),value[\"object\"],value[\"dateobs\"],value[\"refhour\"],value[\"airmass\"],value[\"pressure\"],value[\"temperature\"],value[\"humidity\"],key,value['targetx_pix'],value['targety_pix'],value['rotangle'], value['d2ccd']] \n",
    "        \n",
    "            df = pd.DataFrame()\n",
    "            df[\"all_lambdas\"] = value[\"all_lambdas\"]\n",
    "            df[\"all_fluxes\"] = value[\"all_fluxes\"]/correction_area\n",
    "            df[\"all_fluxes_err\"] = value[\"all_fluxes_err\"]\n",
    "        \n",
    "            if 'all_lambdas_order2' in value.keys():\n",
    "                df[\"all_lambdas_order2\"] = value[\"all_lambdas_order2\"]\n",
    "                df[\"all_fluxes_order2\"] = value[\"all_fluxes_order2\"]/correction_area\n",
    "                df[\"all_fluxes_err_order2\"] = value[\"all_fluxes_err_order2\"]\n",
    "               \n",
    "            all_df.append(df)\n",
    "            idx_out+=1  # increase count on saved spectra\n",
    "            \n",
    "        else:\n",
    "            num = int(value[\"number\"])\n",
    "            msg = f\"Remove spectrum {idx} for exposure {num}\"\n",
    "            print(msg)\n",
    "            \n",
    "        idx+=1\n",
    "            \n",
    "\n",
    "        \n",
    "    return df_info,all_df"
   ]
  },
  {
   "cell_type": "code",
   "execution_count": 19,
   "metadata": {},
   "outputs": [],
   "source": [
    "def FindPairOfExposures(df):\n",
    "    \"\"\"\n",
    "    \n",
    "    Find pair of exposures at similar airmass, one before culmination, the other one after the exposure\n",
    "    \n",
    "    - input : pandas dataframe with infos\n",
    "    - output : pandas dataframe with pairs\n",
    "    \n",
    "    \"\"\"\n",
    "    \n",
    "    \n",
    " \n",
    "    # the culmination  \n",
    "    idx_zmin = df[\"airmass\"].idxmin()\n",
    "    \n",
    "    # split this dataframe into 2\n",
    "    \n",
    "    # df before culmination\n",
    "    df1 = df.iloc[0:idx_zmin]\n",
    "    \n",
    "    # df after culmination\n",
    "    df2 = df.iloc[idx_zmin+1:-1]\n",
    "    \n",
    "    #print(df1)\n",
    "    \n",
    "    #print(df2)\n",
    "    \n",
    "    # loop on exposure before culmination\n",
    "    #for irow in range(0,idx_zmin):\n",
    "        # print(irow,df1.iloc[irow][[\"number\",\"airmass\"]])\n",
    "        \n",
    "    dist = np.abs(df1[\"airmass\"][np.newaxis, :] - df2[\"airmass\"][:, np.newaxis])\n",
    "    #print(dist)\n",
    "    closest_idx = np.argmin(dist, axis=0)\n",
    "    closest_id = df2.iloc[closest_idx][\"number\"].to_numpy()\n",
    "    df_output = pd.DataFrame({\"idx1\": np.arange(0,idx_zmin), \n",
    "                              \"idx2\": closest_idx+idx_zmin+1,\n",
    "                              \"num1\":df1[\"number\"],\n",
    "                              \"num2\":closest_id,\n",
    "                              \"z1\":df1[\"airmass\"].values,\n",
    "                              \"z2\":df2.iloc[closest_idx][\"airmass\"].to_numpy()})\n",
    "\n",
    "    df_output[\"zdiff\"] =  df_output[\"z2\"]-df_output[\"z1\"]\n",
    "    df_output[\"dtime\"] = df2.iloc[closest_idx][\"refhour\"].to_numpy()- df1[\"refhour\"] \n",
    "    return df_output\n",
    "    "
   ]
  },
  {
   "cell_type": "markdown",
   "metadata": {},
   "source": [
    "# Constants"
   ]
  },
  {
   "cell_type": "markdown",
   "metadata": {},
   "source": [
    "# Initialisation"
   ]
  },
  {
   "cell_type": "code",
   "execution_count": 20,
   "metadata": {},
   "outputs": [],
   "source": [
    "# start with logs\n",
    "#-----------------\n",
    "logging.basicConfig()\n",
    "logging.root.setLevel(logging.NOTSET)\n",
    "\n",
    "handle = __name__\n",
    "\n",
    "logger = logging.getLogger(handle)\n",
    "# logging.getLogger().setLevel(logging.INFO)\n",
    "logger.setLevel(logging.DEBUG)\n",
    "\n",
    "# If you don't want to see log messages from libraries, you can pass a\n",
    "# specific logger object to the install() function. In this case only log\n",
    "# messages originating from that logger will show up on the terminal.\n",
    "coloredlogs.install(level='DEBUG', logger=logger)\n",
    "coloredlogs.install(fmt='%(asctime)s,%(msecs)03d %(hostname)s %(name)s[%(process)d] %(levelname)s %(message)s')"
   ]
  },
  {
   "cell_type": "code",
   "execution_count": 21,
   "metadata": {},
   "outputs": [
    {
     "name": "stderr",
     "output_type": "stream",
     "text": [
      "2022-11-02 13:55:26,359 nb-dagoret __main__[28494] INFO LA time:06:55:26\n",
      "2022-11-02 13:55:26,360 nb-dagoret __main__[28494] INFO NY time:09:55:26\n",
      "2022-11-02 13:55:26,362 nb-dagoret __main__[28494] INFO London time:13:55:26\n",
      "2022-11-02 13:55:26,363 nb-dagoret __main__[28494] INFO Paris time:14:55:26\n",
      "2022-11-02 13:55:26,363 nb-dagoret __main__[28494] INFO ************************ START *********************\n"
     ]
    }
   ],
   "source": [
    "# set time\n",
    "# date\n",
    "today = date.today()\n",
    "string_date = today.strftime(\"%Y-%m-%d\")\n",
    "\n",
    "# time\n",
    "now = datetime.now()\n",
    "current_time = now.strftime(\"%H:%M:%S\")\n",
    "\n",
    "tim = time.localtime()\n",
    "current_time = time.strftime(\"%H:%M:%S\", tim)\n",
    "\n",
    "# timezones\n",
    "tz_LA = pytz.timezone('America/Los_Angeles')\n",
    "datetime_LA = datetime.now(tz_LA)\n",
    "msg=\"LA time:\"+  datetime_LA.strftime(\"%H:%M:%S\")\n",
    "logger.info(msg)\n",
    "\n",
    "tz_NY = pytz.timezone('America/New_York')\n",
    "datetime_NY = datetime.now(tz_NY)\n",
    "msg=\"NY time:\"+ datetime_NY.strftime(\"%H:%M:%S\")\n",
    "logger.info(msg)\n",
    "\n",
    "tz_London = pytz.timezone('Europe/London')\n",
    "datetime_London = datetime.now(tz_London)\n",
    "msg=\"London time:\"+ datetime_London.strftime(\"%H:%M:%S\")\n",
    "logger.info(msg)\n",
    "\n",
    "tz_Paris = pytz.timezone('Europe/Paris')\n",
    "datetime_Paris = datetime.now(tz_Paris)\n",
    "msg=\"Paris time:\"+ datetime_Paris.strftime(\"%H:%M:%S\")\n",
    "logger.info(msg)\n",
    "\n",
    "msg=\"************************ START *********************\"\n",
    "logger.info(msg)\n"
   ]
  },
  {
   "cell_type": "code",
   "execution_count": 22,
   "metadata": {},
   "outputs": [],
   "source": [
    "# arguments\n",
    "#----------\n",
    "\n",
    "parser = argparse.ArgumentParser()\n",
    "parser.add_argument(\"--config\",action=\"store\", dest=\"configfile\",help=f\" run generate -config configfilename, with by ex configfilename = default.ini\")\n",
    "#results_args = parser.parse_args()\n",
    "\n",
    "results_args=\"\"\n"
   ]
  },
  {
   "cell_type": "markdown",
   "metadata": {},
   "source": [
    "# Configuration"
   ]
  },
  {
   "cell_type": "code",
   "execution_count": 23,
   "metadata": {},
   "outputs": [
    {
     "name": "stderr",
     "output_type": "stream",
     "text": [
      "2022-11-02 13:55:41,528 nb-dagoret __main__[28494] INFO Configuration file : config/confprog_run-auxtel-holo-20220630-configPSF2DFFM_empty.ini\n"
     ]
    }
   ],
   "source": [
    "# config file\n",
    "# --------------\n",
    "#configfile = \"config/default.ini\"\n",
    "configfile = \"config/confprog_run-auxtel-holo-20220630-configPSF2DFFM_empty.ini\"\n",
    "#config_filename = results_args.configfile\n",
    "config_filename = configfile\n",
    "msg = f\"Configuration file : {config_filename}\"\n",
    "logger.info(msg)\n"
   ]
  },
  {
   "cell_type": "code",
   "execution_count": 24,
   "metadata": {},
   "outputs": [
    {
     "name": "stderr",
     "output_type": "stream",
     "text": [
      "2022-11-02 13:55:45,539 nb-dagoret __main__[28494] INFO 1) Configuration\n"
     ]
    }
   ],
   "source": [
    "# 1) CONFIGURATION\n",
    "#------------------\n",
    "logger.info('1) Configuration')\n",
    "\n",
    "config = configparser.ConfigParser()\n",
    "\n",
    "if os.path.exists(config_filename):\n",
    "    config.read(config_filename)\n",
    "else:\n",
    "    msg = f\"config file {config_filename} does not exist !\"\n",
    "    logger.error(msg)"
   ]
  },
  {
   "cell_type": "code",
   "execution_count": 25,
   "metadata": {},
   "outputs": [],
   "source": [
    "config_section = config.sections()"
   ]
  },
  {
   "cell_type": "code",
   "execution_count": 26,
   "metadata": {},
   "outputs": [],
   "source": [
    "if len(config_section) == 0:\n",
    "    msg = f\"empty config file {config_filename} !\"\n",
    "    logger.error(msg)"
   ]
  },
  {
   "cell_type": "code",
   "execution_count": 28,
   "metadata": {},
   "outputs": [],
   "source": [
    "if 'GENERAL' in config_section:\n",
    "\n",
    "    FLAG_DEBUG = bool(int(config['GENERAL']['FLAG_DEBUG']))\n",
    "    FLAG_VERBOSE = bool(int(config['GENERAL']['FLAG_VERBOSE']))\n",
    "    FLAG_PLOT   = bool(int(config['GENERAL']['FLAG_PLOT']))\n",
    "    FLAG_PRINT  = bool(int(config['GENERAL']['FLAG_PRINT']))\n",
    "    \n",
    "    SITE          = config['GENERAL']['SITE']\n",
    "    DATE          = config['GENERAL']['DATE']\n",
    "    \n",
    "    inputdir    = config['GENERAL']['inputdir']\n",
    "    inputfile   = config['GENERAL']['inputfile']\n",
    "    filterdisperser =  config['GENERAL']['filterdisperser']\n",
    "    \n",
    "    \n",
    "    target      = config['GENERAL']['object']\n",
    "    sedfilename = config['GENERAL']['sedfilename']\n",
    "    \n",
    "    filename_auxtelthroughput = config['GENERAL']['filename_auxtelthroughput']\n",
    "    #filename_redfilter        = config['GENERAL']['filename_redfilter']\n",
    "    \n",
    "    spectractormode = config['GENERAL']['spectractormode']\n",
    "    \n",
    "   \n",
    "    normalisationfactor = float(config['GENERAL']['normalisationfactor'])\n",
    "    WLMINSEL      = float(config['GENERAL']['WLMINSEL'])\n",
    "    WLMAXSEL      = float(config['GENERAL']['WLMAXSEL'])\n",
    "    \n",
    "    \n",
    "    MAGLIMMIN     = float(config['GENERAL']['MAGLIMMIN'])\n",
    "    MAGLIMMAX     = float(config['GENERAL']['MAGLIMMAX'])\n",
    "    FLUXLIMMIN    = float(config['GENERAL']['FLUXLIMMIN'])\n",
    "    FLUXLIMMAX    = float(config['GENERAL']['FLUXLIMMAX'])    \n",
    "    \n",
    "    NPOINTSVIEW       =    int(config['GENERAL']['NPOINTSVIEW']) \n",
    "    NPOINTSSAVE       =    int(config['GENERAL']['NPOINTSSAVE']) \n",
    "    inputfile_linearfit =  config['GENERAL']['outputfile_linearfit']\n",
    "    inputfile_gp        =  config['GENERAL']['outputfile_gp']\n",
    "    \n",
    "    BADEXPOS = config['GENERAL']['BADEXPOS']\n",
    "    \n",
    "\n",
    "else:\n",
    "    msg = f\"Configuration file : empty section GENERAL in config file {config_filename} !\"   \n",
    "    logger.error(msg)"
   ]
  },
  {
   "cell_type": "code",
   "execution_count": 29,
   "metadata": {},
   "outputs": [
    {
     "name": "stderr",
     "output_type": "stream",
     "text": [
      "2022-11-02 13:56:10,360 nb-dagoret __main__[28494] INFO  Object observed HD142331 at AUXTEL/Rubin Obs (2022-06-30)\n"
     ]
    }
   ],
   "source": [
    "msg=f\" Object observed {target} at {SITE} ({DATE})\"\n",
    "logger.info(msg)"
   ]
  },
  {
   "cell_type": "code",
   "execution_count": 30,
   "metadata": {},
   "outputs": [],
   "source": [
    "input_file_split=inputfile.split(\".\")    \n",
    "basefilename=input_file_split[0]\n",
    "extendfilename=input_file_split[1]"
   ]
  },
  {
   "cell_type": "code",
   "execution_count": 31,
   "metadata": {},
   "outputs": [
    {
     "data": {
      "text/plain": [
       "[368]"
      ]
     },
     "execution_count": 31,
     "metadata": {},
     "output_type": "execute_result"
    }
   ],
   "source": [
    "list_of_badnums1 = [int(nn)  for nn in BADEXPOS.split()]\n",
    "list_of_badnums1"
   ]
  },
  {
   "cell_type": "code",
   "execution_count": 32,
   "metadata": {},
   "outputs": [],
   "source": [
    "WL= np.arange(WLMINSEL,WLMAXSEL)"
   ]
  },
  {
   "cell_type": "markdown",
   "metadata": {},
   "source": [
    "# input files"
   ]
  },
  {
   "cell_type": "markdown",
   "metadata": {},
   "source": [
    "## Get Calspec SED"
   ]
  },
  {
   "cell_type": "markdown",
   "metadata": {},
   "source": [
    "- Notice we use a relative normalisation factor"
   ]
  },
  {
   "cell_type": "code",
   "execution_count": 33,
   "metadata": {},
   "outputs": [
    {
     "ename": "NameError",
     "evalue": "name 'S' is not defined",
     "output_type": "error",
     "traceback": [
      "\u001b[0;31m---------------------------------------------------------------------------\u001b[0m",
      "\u001b[0;31mNameError\u001b[0m                                 Traceback (most recent call last)",
      "Input \u001b[0;32mIn [33]\u001b[0m, in \u001b[0;36m<cell line: 1>\u001b[0;34m()\u001b[0m\n\u001b[0;32m----> 1\u001b[0m s0\u001b[38;5;241m=\u001b[39m\u001b[43mS\u001b[49m\u001b[38;5;241m.\u001b[39mFileSpectrum(os\u001b[38;5;241m.\u001b[39mpath\u001b[38;5;241m.\u001b[39mjoin(path_sed_calspec,sedfilename))\n",
      "\u001b[0;31mNameError\u001b[0m: name 'S' is not defined"
     ]
    }
   ],
   "source": [
    "#s0=S.FileSpectrum(os.path.join(path_sed_calspec,sedfilename))"
   ]
  },
  {
   "cell_type": "code",
   "execution_count": null,
   "metadata": {},
   "outputs": [],
   "source": [
    "#sed_w=s0.wave/10\n",
    "#sed_f=s0.flux*10*normalisationfactor\n",
    "#sed_idx=np.where(np.logical_and(sed_w>350,sed_w<1100))[0]\n",
    "#sed_w=sed_w[sed_idx]\n",
    "#sed_f=sed_f[sed_idx]"
   ]
  },
  {
   "cell_type": "code",
   "execution_count": null,
   "metadata": {},
   "outputs": [],
   "source": [
    "# interpolation function\n",
    "#f_sed = interpolate.interp1d(sed_w,sed_f,bounds_error=False,fill_value=\"extrapolate\")"
   ]
  },
  {
   "cell_type": "code",
   "execution_count": null,
   "metadata": {},
   "outputs": [],
   "source": [
    "#targetname = s0.fheader['TARGETID']"
   ]
  },
  {
   "cell_type": "code",
   "execution_count": null,
   "metadata": {},
   "outputs": [],
   "source": [
    "#sed_m=-2.5*np.log10(sed_f)"
   ]
  },
  {
   "cell_type": "code",
   "execution_count": 34,
   "metadata": {},
   "outputs": [],
   "source": [
    "#fig=plt.figure(figsize=(8,4))\n",
    "#ax=fig.add_subplot(1,1,1)\n",
    "#ax.plot(sed_w,sed_f,'b')\n",
    "#ax.set_xlabel(\"$\\\\lambda (nm)$\")\n",
    "#ax.set_ylabel(\"flux $(erg/cm^2/s/nm)$\")\n",
    "#ax.set_title(targetname + \" SED\")\n",
    "#ax2=ax.twinx()\n",
    "#ax2.plot(sed_w,sed_m,'r-')\n",
    "#ax2.set_ylabel(\"mag\")"
   ]
  },
  {
   "cell_type": "markdown",
   "metadata": {},
   "source": [
    "# Simulate the atmosphere"
   ]
  },
  {
   "cell_type": "code",
   "execution_count": null,
   "metadata": {},
   "outputs": [],
   "source": [
    "am       = 1.2\n",
    "pressure = 0. # use default value\n",
    "pwv      = 4.0\n",
    "aer      = 0.1\n",
    "ozone    = 300.\n",
    "cloudext = 0"
   ]
  },
  {
   "cell_type": "code",
   "execution_count": null,
   "metadata": {},
   "outputs": [],
   "source": [
    "path,thefile=libsimulateVisible.ProcessSimulation(am,pwv,ozone,pressure,prof_str='us',proc_str='sa',cloudext=cloudext)\n",
    "data = np.loadtxt(os.path.join(path,thefile))\n",
    "wlsim = data[:,0]\n",
    "atmsim = data[:,1] "
   ]
  },
  {
   "cell_type": "code",
   "execution_count": null,
   "metadata": {},
   "outputs": [],
   "source": [
    "NBINSIM=len(wlsim)\n",
    "NBINSIM"
   ]
  },
  {
   "cell_type": "code",
   "execution_count": null,
   "metadata": {},
   "outputs": [],
   "source": [
    "fig=plt.figure(figsize=(6,4))\n",
    "ax=fig.add_subplot(111)\n",
    "ax.plot(wlsim,atmsim,\"b-\")\n",
    "ax.set_xlabel(\"$\\\\lambda$ (nm)\")\n",
    "ax.set_ylabel(\"transmission\")\n",
    "ax.set_title(\"atmospheric transmission\")"
   ]
  },
  {
   "cell_type": "code",
   "execution_count": null,
   "metadata": {},
   "outputs": [],
   "source": [
    "f_atm = interpolate.interp1d(wlsim,atmsim,bounds_error=False,fill_value=\"extrapolate\")"
   ]
  },
  {
   "cell_type": "markdown",
   "metadata": {},
   "source": [
    "# Throughputs"
   ]
  },
  {
   "cell_type": "markdown",
   "metadata": {},
   "source": [
    "## Auxtel throughput and  telescope throughput"
   ]
  },
  {
   "cell_type": "code",
   "execution_count": 35,
   "metadata": {},
   "outputs": [
    {
     "ename": "OSError",
     "evalue": "../../../simulation/throughputs/AuxTel-throughput_extended.txt not found.",
     "output_type": "error",
     "traceback": [
      "\u001b[0;31m---------------------------------------------------------------------------\u001b[0m",
      "\u001b[0;31mOSError\u001b[0m                                   Traceback (most recent call last)",
      "Input \u001b[0;32mIn [35]\u001b[0m, in \u001b[0;36m<cell line: 1>\u001b[0;34m()\u001b[0m\n\u001b[0;32m----> 1\u001b[0m array \u001b[38;5;241m=\u001b[39m \u001b[43mnp\u001b[49m\u001b[38;5;241;43m.\u001b[39;49m\u001b[43mloadtxt\u001b[49m\u001b[43m(\u001b[49m\u001b[43mfilename_auxtelthroughput\u001b[49m\u001b[43m)\u001b[49m\n\u001b[1;32m      2\u001b[0m dft \u001b[38;5;241m=\u001b[39m pd\u001b[38;5;241m.\u001b[39mDataFrame(data\u001b[38;5;241m=\u001b[39marray,columns\u001b[38;5;241m=\u001b[39m[\u001b[38;5;124m\"\u001b[39m\u001b[38;5;124mlambda\u001b[39m\u001b[38;5;124m\"\u001b[39m,\u001b[38;5;124m\"\u001b[39m\u001b[38;5;124mthroughput\u001b[39m\u001b[38;5;124m\"\u001b[39m])\n",
      "File \u001b[0;32m/opt/lsst/software/stack/conda/miniconda3-py38_4.9.2/envs/lsst-scipipe-4.1.0/lib/python3.10/site-packages/numpy/lib/npyio.py:1067\u001b[0m, in \u001b[0;36mloadtxt\u001b[0;34m(fname, dtype, comments, delimiter, converters, skiprows, usecols, unpack, ndmin, encoding, max_rows, like)\u001b[0m\n\u001b[1;32m   1065\u001b[0m     fname \u001b[38;5;241m=\u001b[39m os_fspath(fname)\n\u001b[1;32m   1066\u001b[0m \u001b[38;5;28;01mif\u001b[39;00m _is_string_like(fname):\n\u001b[0;32m-> 1067\u001b[0m     fh \u001b[38;5;241m=\u001b[39m \u001b[43mnp\u001b[49m\u001b[38;5;241;43m.\u001b[39;49m\u001b[43mlib\u001b[49m\u001b[38;5;241;43m.\u001b[39;49m\u001b[43m_datasource\u001b[49m\u001b[38;5;241;43m.\u001b[39;49m\u001b[43mopen\u001b[49m\u001b[43m(\u001b[49m\u001b[43mfname\u001b[49m\u001b[43m,\u001b[49m\u001b[43m \u001b[49m\u001b[38;5;124;43m'\u001b[39;49m\u001b[38;5;124;43mrt\u001b[39;49m\u001b[38;5;124;43m'\u001b[39;49m\u001b[43m,\u001b[49m\u001b[43m \u001b[49m\u001b[43mencoding\u001b[49m\u001b[38;5;241;43m=\u001b[39;49m\u001b[43mencoding\u001b[49m\u001b[43m)\u001b[49m\n\u001b[1;32m   1068\u001b[0m     fencoding \u001b[38;5;241m=\u001b[39m \u001b[38;5;28mgetattr\u001b[39m(fh, \u001b[38;5;124m'\u001b[39m\u001b[38;5;124mencoding\u001b[39m\u001b[38;5;124m'\u001b[39m, \u001b[38;5;124m'\u001b[39m\u001b[38;5;124mlatin1\u001b[39m\u001b[38;5;124m'\u001b[39m)\n\u001b[1;32m   1069\u001b[0m     fh \u001b[38;5;241m=\u001b[39m \u001b[38;5;28miter\u001b[39m(fh)\n",
      "File \u001b[0;32m/opt/lsst/software/stack/conda/miniconda3-py38_4.9.2/envs/lsst-scipipe-4.1.0/lib/python3.10/site-packages/numpy/lib/_datasource.py:193\u001b[0m, in \u001b[0;36mopen\u001b[0;34m(path, mode, destpath, encoding, newline)\u001b[0m\n\u001b[1;32m    156\u001b[0m \u001b[38;5;124;03m\"\"\"\u001b[39;00m\n\u001b[1;32m    157\u001b[0m \u001b[38;5;124;03mOpen `path` with `mode` and return the file object.\u001b[39;00m\n\u001b[1;32m    158\u001b[0m \n\u001b[0;32m   (...)\u001b[0m\n\u001b[1;32m    189\u001b[0m \n\u001b[1;32m    190\u001b[0m \u001b[38;5;124;03m\"\"\"\u001b[39;00m\n\u001b[1;32m    192\u001b[0m ds \u001b[38;5;241m=\u001b[39m DataSource(destpath)\n\u001b[0;32m--> 193\u001b[0m \u001b[38;5;28;01mreturn\u001b[39;00m \u001b[43mds\u001b[49m\u001b[38;5;241;43m.\u001b[39;49m\u001b[43mopen\u001b[49m\u001b[43m(\u001b[49m\u001b[43mpath\u001b[49m\u001b[43m,\u001b[49m\u001b[43m \u001b[49m\u001b[43mmode\u001b[49m\u001b[43m,\u001b[49m\u001b[43m \u001b[49m\u001b[43mencoding\u001b[49m\u001b[38;5;241;43m=\u001b[39;49m\u001b[43mencoding\u001b[49m\u001b[43m,\u001b[49m\u001b[43m \u001b[49m\u001b[43mnewline\u001b[49m\u001b[38;5;241;43m=\u001b[39;49m\u001b[43mnewline\u001b[49m\u001b[43m)\u001b[49m\n",
      "File \u001b[0;32m/opt/lsst/software/stack/conda/miniconda3-py38_4.9.2/envs/lsst-scipipe-4.1.0/lib/python3.10/site-packages/numpy/lib/_datasource.py:533\u001b[0m, in \u001b[0;36mDataSource.open\u001b[0;34m(self, path, mode, encoding, newline)\u001b[0m\n\u001b[1;32m    530\u001b[0m     \u001b[38;5;28;01mreturn\u001b[39;00m _file_openers[ext](found, mode\u001b[38;5;241m=\u001b[39mmode,\n\u001b[1;32m    531\u001b[0m                               encoding\u001b[38;5;241m=\u001b[39mencoding, newline\u001b[38;5;241m=\u001b[39mnewline)\n\u001b[1;32m    532\u001b[0m \u001b[38;5;28;01melse\u001b[39;00m:\n\u001b[0;32m--> 533\u001b[0m     \u001b[38;5;28;01mraise\u001b[39;00m \u001b[38;5;167;01mIOError\u001b[39;00m(\u001b[38;5;124m\"\u001b[39m\u001b[38;5;132;01m%s\u001b[39;00m\u001b[38;5;124m not found.\u001b[39m\u001b[38;5;124m\"\u001b[39m \u001b[38;5;241m%\u001b[39m path)\n",
      "\u001b[0;31mOSError\u001b[0m: ../../../simulation/throughputs/AuxTel-throughput_extended.txt not found."
     ]
    }
   ],
   "source": [
    "array = np.loadtxt(filename_auxtelthroughput)\n",
    "dft = pd.DataFrame(data=array,columns=[\"lambda\",\"throughput\"])"
   ]
  },
  {
   "cell_type": "code",
   "execution_count": null,
   "metadata": {},
   "outputs": [],
   "source": [
    "#dft = pd.read_excel(filename_auxtelthroughput,header=1,index_col=0)\n",
    "dft.reset_index(inplace=True)\n",
    "dft['index'] = dft.reset_index().index\n",
    "dft.set_index('index')\n",
    "dft.rename(columns={'lambda':'lambdas'},inplace = True)"
   ]
  },
  {
   "cell_type": "code",
   "execution_count": null,
   "metadata": {},
   "outputs": [],
   "source": [
    "fig=plt.figure(figsize=(6,4))\n",
    "ax=fig.add_subplot(111)\n",
    "ax.plot(dft.lambdas,dft.throughput,\"b-\")\n",
    "ax.set_xlabel(\"$\\\\lambda$ (nm)\")\n",
    "ax.set_ylabel(\"throughput\")\n",
    "ax.set_title(\"auxtel throughput\")"
   ]
  },
  {
   "cell_type": "code",
   "execution_count": null,
   "metadata": {},
   "outputs": [],
   "source": [
    "# interpolation function\n",
    "f_thr = interpolate.interp1d(dft.lambdas,dft.throughput,bounds_error=False,fill_value=\"extrapolate\")"
   ]
  },
  {
   "cell_type": "markdown",
   "metadata": {},
   "source": [
    "## Filter"
   ]
  },
  {
   "cell_type": "code",
   "execution_count": null,
   "metadata": {},
   "outputs": [],
   "source": [
    "arr =  np.loadtxt(filename_redfilter)"
   ]
  },
  {
   "cell_type": "code",
   "execution_count": null,
   "metadata": {},
   "outputs": [],
   "source": [
    "fig=plt.figure(figsize=(6,4))\n",
    "ax=fig.add_subplot(111)\n",
    "ax.plot(arr[:,0],arr[:,1],\"b-\")\n",
    "ax.set_xlabel(\"$\\\\lambda$ (nm)\")\n",
    "ax.set_ylabel(\"throughput\")\n",
    "ax.set_title(\"auxtel FELH600 throughput\")"
   ]
  },
  {
   "cell_type": "code",
   "execution_count": null,
   "metadata": {},
   "outputs": [],
   "source": [
    "f_filter_thr = interpolate.interp1d(arr[:,0],arr[:,1],bounds_error=False,fill_value=\"extrapolate\")"
   ]
  },
  {
   "cell_type": "markdown",
   "metadata": {},
   "source": [
    "## spectrum data"
   ]
  },
  {
   "cell_type": "code",
   "execution_count": null,
   "metadata": {},
   "outputs": [],
   "source": [
    "fullfilename=os.path.join(inputdir,inputfile)"
   ]
  },
  {
   "cell_type": "code",
   "execution_count": null,
   "metadata": {},
   "outputs": [],
   "source": [
    "with open(fullfilename, 'rb') as f:\n",
    "    summary_content = pickle.load(f)"
   ]
  },
  {
   "cell_type": "code",
   "execution_count": null,
   "metadata": {},
   "outputs": [],
   "source": [
    "NBSPECTRA=len(summary_content)"
   ]
  },
  {
   "cell_type": "code",
   "execution_count": null,
   "metadata": {},
   "outputs": [],
   "source": [
    "msg=f\" Number of selected files is {NBSPECTRA}\"\n",
    "logger.info(msg)"
   ]
  },
  {
   "cell_type": "code",
   "execution_count": null,
   "metadata": {},
   "outputs": [],
   "source": [
    "# wavelength bin colors\n",
    "jet = plt.get_cmap('jet')\n",
    "cNorm = colors.Normalize(vmin=0, vmax=NBSPECTRA)\n",
    "scalarMap = cmx.ScalarMappable(norm=cNorm, cmap=jet)\n",
    "all_colors = scalarMap.to_rgba(np.arange(NBSPECTRA), alpha=1)"
   ]
  },
  {
   "cell_type": "markdown",
   "metadata": {},
   "source": [
    "### Read all files"
   ]
  },
  {
   "cell_type": "code",
   "execution_count": null,
   "metadata": {},
   "outputs": [],
   "source": [
    "infos, all_spectra = GetSpectra(summary_content)"
   ]
  },
  {
   "cell_type": "code",
   "execution_count": null,
   "metadata": {},
   "outputs": [],
   "source": [
    "infos"
   ]
  },
  {
   "cell_type": "code",
   "execution_count": null,
   "metadata": {},
   "outputs": [],
   "source": [
    "N=len(infos)"
   ]
  },
  {
   "cell_type": "code",
   "execution_count": null,
   "metadata": {},
   "outputs": [],
   "source": [
    "NX=4\n",
    "NY=N/NX"
   ]
  },
  {
   "cell_type": "code",
   "execution_count": null,
   "metadata": {},
   "outputs": [],
   "source": [
    "if NY != int(NY):\n",
    "    NY= int(NY)+1\n",
    "else:\n",
    "    NY=int(NY)"
   ]
  },
  {
   "cell_type": "code",
   "execution_count": null,
   "metadata": {},
   "outputs": [],
   "source": [
    "fig = plt.figure(figsize=(20,NY*3))\n",
    "\n",
    "ny=0\n",
    "nx=0\n",
    "\n",
    "for idx in range(N):\n",
    "    iy = idx//NX\n",
    "    ix = (idx-iy*NX)\n",
    "    \n",
    "    ax=fig.add_subplot(NY,NX,idx+1)\n",
    "    \n",
    "    \n",
    "    \n",
    "    the_df=all_spectra[idx]\n",
    "    \n",
    "    airmassvalue = infos.iloc[idx][\"airmass\"]\n",
    "    num = infos.iloc[idx][\"number\"]\n",
    "    label_airmass = f\" z = {airmassvalue:.2f} ({num})\"\n",
    "    the_target = infos.iloc[idx][\"object\"]\n",
    "    \n",
    "    #ax.plot(the_df.wavelength,the_df.flux,color=all_colors[ifile])\n",
    "    if num in list_of_badnums1:\n",
    "        thecolor=\"r\"\n",
    "    else:\n",
    "        thecolor=\"b\"\n",
    "        \n",
    "    # O2 line\n",
    "    ax.axvline(O2_1.wavelength,linestyle=\"--\",color=\"k\")\n",
    "    #ax.annotate(O2_1.label, xy=(O2_1.wavelength-5, FLUXLIMMAX/2), color='blue',fontsize=20,fontweight='bold')\n",
    "\n",
    "    ax.axvline(O2_2.wavelength,linestyle=\"--\",color=\"k\")\n",
    "    #ax.annotate(O2_2.label, xy=(O2_2.wavelength, ypos), color='blue',fontsize=20,fontweight='bold')\n",
    "    \n",
    "    ax.errorbar(the_df[\"all_lambdas\"],the_df['all_fluxes'],yerr=the_df[\"all_fluxes_err\"], fmt = '-', color=thecolor,capsize = 0.01, ecolor=\"k\", elinewidth = .01,label=the_target)\n",
    "    ax.set_title(label_airmass)\n",
    "    ax.legend()\n",
    "    \n",
    "plt.tight_layout()"
   ]
  },
  {
   "cell_type": "markdown",
   "metadata": {},
   "source": [
    "# Remove bad Spectra"
   ]
  },
  {
   "cell_type": "code",
   "execution_count": null,
   "metadata": {},
   "outputs": [],
   "source": [
    "fig = plt.figure(figsize=(8,4))\n",
    "ax=fig.add_subplot(1,1,1)\n",
    "ax.hist(infos.object);"
   ]
  },
  {
   "cell_type": "code",
   "execution_count": null,
   "metadata": {},
   "outputs": [],
   "source": [
    "fig = plt.figure(figsize=(20,4))\n",
    "ax=fig.add_subplot(1,3,1)\n",
    "ax.hist(infos.d2ccd,bins=20,range=(170,200));\n",
    "ax.set_xlabel(\"dccd\")\n",
    "ax=fig.add_subplot(1,3,2)\n",
    "ax.hist(infos.targetx_pix,bins=50,range=(0,500));\n",
    "ax.set_xlabel(\"targetx_pix\")\n",
    "ax=fig.add_subplot(1,3,3)\n",
    "ax.hist(infos.targety_pix,bins=50,range=(1500,2000));\n",
    "ax.set_xlabel(\"targety_pix\")\n",
    "plt.suptitle(\"Variables to apply selection\")"
   ]
  },
  {
   "cell_type": "markdown",
   "metadata": {},
   "source": [
    "## Define selection cut"
   ]
  },
  {
   "cell_type": "code",
   "execution_count": null,
   "metadata": {},
   "outputs": [],
   "source": [
    "selection_cut = ((infos.d2ccd > 178) & (infos.d2ccd < 182)) & (infos.object == target)\n",
    "bad_cut = ~selection_cut"
   ]
  },
  {
   "cell_type": "code",
   "execution_count": null,
   "metadata": {},
   "outputs": [],
   "source": [
    "list_of_badnums2 = infos[bad_cut][\"number\"].values\n",
    "list_of_badnums2 "
   ]
  },
  {
   "cell_type": "markdown",
   "metadata": {},
   "source": [
    "# Union of badnums"
   ]
  },
  {
   "cell_type": "code",
   "execution_count": null,
   "metadata": {},
   "outputs": [],
   "source": [
    "list_of_badnums = np.union1d(list_of_badnums1,list_of_badnums2)\n",
    "list_of_badnums=np.unique(list_of_badnums)"
   ]
  },
  {
   "cell_type": "markdown",
   "metadata": {},
   "source": [
    "# Filtered spectra : remove bad spectra"
   ]
  },
  {
   "cell_type": "code",
   "execution_count": null,
   "metadata": {},
   "outputs": [],
   "source": [
    "list_of_badnums"
   ]
  },
  {
   "cell_type": "code",
   "execution_count": null,
   "metadata": {},
   "outputs": [],
   "source": [
    "infos, all_spectra = GetSpectraFiltered(summary_content,list_of_bad_spectra=list_of_badnums)"
   ]
  },
  {
   "cell_type": "code",
   "execution_count": null,
   "metadata": {},
   "outputs": [],
   "source": [
    "print(\"Number of spectra : \",len(all_spectra))"
   ]
  },
  {
   "cell_type": "code",
   "execution_count": null,
   "metadata": {},
   "outputs": [],
   "source": [
    "infos.reset_index(drop=True, inplace=True)"
   ]
  },
  {
   "cell_type": "code",
   "execution_count": null,
   "metadata": {},
   "outputs": [],
   "source": [
    "infos"
   ]
  },
  {
   "cell_type": "markdown",
   "metadata": {},
   "source": [
    "# Plot Spectra"
   ]
  },
  {
   "cell_type": "code",
   "execution_count": null,
   "metadata": {},
   "outputs": [],
   "source": [
    "NBSPECTRA=len(all_spectra)"
   ]
  },
  {
   "cell_type": "code",
   "execution_count": null,
   "metadata": {},
   "outputs": [],
   "source": [
    "assert NBSPECTRA == len(infos)"
   ]
  },
  {
   "cell_type": "code",
   "execution_count": null,
   "metadata": {},
   "outputs": [],
   "source": [
    "# wavelength bin colors\n",
    "jet = plt.get_cmap('jet')\n",
    "cNorm = colors.Normalize(vmin=0, vmax=NBSPECTRA)\n",
    "scalarMap = cmx.ScalarMappable(norm=cNorm, cmap=jet)\n",
    "all_colors = scalarMap.to_rgba(np.arange(NBSPECTRA), alpha=1)"
   ]
  },
  {
   "cell_type": "code",
   "execution_count": null,
   "metadata": {},
   "outputs": [],
   "source": [
    "msg=f\" Number of good spectra is {NBSPECTRA}\"\n",
    "logger.info(msg)"
   ]
  },
  {
   "cell_type": "markdown",
   "metadata": {},
   "source": [
    "### load absorption pattern"
   ]
  },
  {
   "cell_type": "code",
   "execution_count": null,
   "metadata": {},
   "outputs": [],
   "source": [
    "df = pd.read_csv(\"data/absorption_pattern.csv\")\n",
    "wlpt,o2,o3,h2o,no2 = atmpatt_Dataf_to_np(df)"
   ]
  },
  {
   "cell_type": "code",
   "execution_count": null,
   "metadata": {},
   "outputs": [],
   "source": [
    "def plotlines(ax,ypos):\n",
    "    ax.axvline(HALPHA.wavelength,color='orange')\n",
    "    ax.annotate(HALPHA.label, xy=(HALPHA.wavelength, ypos), color='orange',fontsize=20,fontweight='bold')\n",
    "\n",
    "    ax.axvline(O2B.wavelength,color=\"blue\")\n",
    "    ax.annotate(O2B.label, xy=(O2B.wavelength, ypos), color='blue',fontsize=20,fontweight='bold')\n",
    "\n",
    "    ax.axvline(O2_1.wavelength,color=\"blue\")\n",
    "    #ax.annotate(O2_1.label, xy=(O2_1.wavelength-5, FLUXLIMMAX/2), color='blue',fontsize=20,fontweight='bold')\n",
    "\n",
    "    ax.axvline(O2_2.wavelength,color=\"blue\")\n",
    "    ax.annotate(O2_2.label, xy=(O2_2.wavelength, ypos), color='blue',fontsize=20,fontweight='bold')\n",
    "\n",
    "    ax.axvline(H2O_1.wavelength,color=\"blue\")\n",
    "    ax.annotate(H2O_1.label, xy=(H2O_1.wavelength, ypos), color='blue',fontsize=20,fontweight='bold')\n",
    "    \n",
    "    ax.axvline(H2O_2.wavelength,color=\"blue\")\n",
    "    ax.annotate(H2O_2.label, xy=(H2O_2.wavelength, ypos), color='blue',fontsize=20,fontweight='bold')\n",
    "    "
   ]
  },
  {
   "cell_type": "code",
   "execution_count": null,
   "metadata": {},
   "outputs": [],
   "source": [
    "figsize=(16,16)\n",
    "\n",
    "NOBS = o2.shape[1]\n",
    "# wavelength bin colors\n",
    "jet = plt.get_cmap('jet')\n",
    "cNorm = colors.Normalize(vmin=0, vmax=NOBS)\n",
    "scalarMap = cmx.ScalarMappable(norm=cNorm, cmap=jet)\n",
    "all_colors = scalarMap.to_rgba(np.arange(NOBS), alpha=1)\n",
    "\n",
    "props = dict(boxstyle='round', facecolor='wheat', alpha=0.5)\n",
    "\n",
    "fig=plt.figure(figsize=figsize)\n",
    "title =f\"Spectra (hologram) {SITE} ({DATE})\"\n",
    "\n",
    "\n",
    "gs = gridspec.GridSpec(5, 1,height_ratios=[0.5,0.5,0.5,0.5,3] ,figure=fig)\n",
    "\n",
    "# NO2    \n",
    "ax=fig.add_subplot(gs[0,0])\n",
    "for index in np.arange(NOBS):   \n",
    "    ax.plot(wlpt,no2[:,index],'-',color=all_colors[index])\n",
    "ax.set_ylim(0.8,1)\n",
    "ax.set_xlim(WLMINSEL,WLMAXSEL)\n",
    "ax.grid()\n",
    "textstr = \"NO2 abs lines\"\n",
    "# place a text box in upper left in axes coords\n",
    "ax.text(0.01, 0.90, textstr, transform=ax.transAxes, fontsize=14,\n",
    "        verticalalignment='top', bbox=props)\n",
    "ax.set_title(title,fontsize=20,fontweight='bold')\n",
    "main_ax = ax\n",
    "\n",
    "\n",
    "\n",
    "# O2    \n",
    "ax=fig.add_subplot(gs[1,0], sharex=main_ax)\n",
    "for index in np.arange(NOBS):   \n",
    "    ax.plot(wlpt,o2[:,index],'-',color=all_colors[index])\n",
    "ax.set_ylim(0.8,1)\n",
    "ax.set_xlim(WLMINSEL,WLMAXSEL)\n",
    "ax.grid()\n",
    "textstr = \"O2 abs lines\"\n",
    "# place a text box in upper left in axes coords\n",
    "ax.text(0.01, 0.90, textstr, transform=ax.transAxes, fontsize=14,\n",
    "        verticalalignment='top', bbox=props)\n",
    "#ax.set_title(title)\n",
    "\n",
    "\n",
    "# Ozone\n",
    "ax=fig.add_subplot(gs[2,0], sharex=main_ax)\n",
    "for index in np.arange(NOBS):   \n",
    "    ax.plot(wlpt,o3[:,index],'-',color=all_colors[index])\n",
    "ax.set_ylim(0.8,1)\n",
    "ax.set_xlim(WLMINSEL,WLMAXSEL)\n",
    "ax.grid()\n",
    "textstr = \"O3 abs lines\"\n",
    "# place a text box in upper left in axes coords\n",
    "ax.text(0.01, 0.90, textstr, transform=ax.transAxes, fontsize=14,\n",
    "        verticalalignment='top', bbox=props)\n",
    "\n",
    "\n",
    "# H2O\n",
    "ax=fig.add_subplot(gs[3,0], sharex=main_ax)\n",
    "\n",
    "for index in np.arange(NOBS):   \n",
    "    ax.plot(wlpt,h2o[:,index],'-',color=all_colors[index])\n",
    "ax.set_ylim(0.8,1)\n",
    "ax.grid()\n",
    "textstr = \"H2O abs lines\"\n",
    "# place a text box in upper left in axes coords\n",
    "ax.text(0.01, 0.90, textstr, transform=ax.transAxes, fontsize=14,\n",
    "        verticalalignment='top', bbox=props)\n",
    "\n",
    "\n",
    "# spectrum\n",
    "ax=fig.add_subplot(gs[4,0], sharex=main_ax)\n",
    "\n",
    "# wavelength bin colors\n",
    "jet = plt.get_cmap('jet')\n",
    "cNorm = colors.Normalize(vmin=0, vmax=NBSPECTRA)\n",
    "scalarMap = cmx.ScalarMappable(norm=cNorm, cmap=jet)\n",
    "all_colors = scalarMap.to_rgba(np.arange(NBSPECTRA), alpha=1)\n",
    "for ifile in np.arange(NBSPECTRA):\n",
    "    the_df=all_spectra[ifile]\n",
    "    \n",
    "    airmassvalue = infos.iloc[ifile][\"airmass\"]\n",
    "    label_airmass = f\" z = {airmassvalue:.2f}\"\n",
    "\n",
    "    #ax.plot(the_df.wavelength,the_df.flux,color=all_colors[ifile])\n",
    "    ax.errorbar(the_df[\"all_lambdas\"],the_df['all_fluxes'],yerr=the_df[\"all_fluxes_err\"], fmt = '.', color=all_colors[ifile],capsize = 0.01, ecolor=all_colors[ifile], elinewidth = .01,label=label_airmass)\n",
    "ax.grid()\n",
    "ax.set_xlabel(\"$\\lambda$ (nm)\")\n",
    "ax.set_ylabel(\"flux (erg/sec/m$^2$/nm)\")\n",
    "title=f\"Selected Spectra of {target} observed at {SITE} ({DATE})\"\n",
    "ax.set_title(title,fontsize=20,fontweight='bold')\n",
    "ax.plot(sed_w,sed_f,'k-')\n",
    "#ax.set_xlim(350,1000)\n",
    "#ax.set_ylim(1e-14,1e-10)\n",
    "ax.set_ylim(FLUXLIMMIN,FLUXLIMMAX)\n",
    "ax.set_yscale(\"log\")\n",
    "ax.legend(loc=\"lower left\",ncol=5)\n",
    "\n",
    "# draw abs lines\n",
    "plotlines(ax,ypos=FLUXLIMMAX/2)\n",
    "\n",
    "\n",
    "\n",
    "\n",
    "plt.tight_layout()\n"
   ]
  },
  {
   "cell_type": "code",
   "execution_count": null,
   "metadata": {},
   "outputs": [],
   "source": [
    "fig=plt.figure(figsize=(16,10))\n",
    "ax=fig.add_subplot(111)\n",
    "for ifile in np.arange(NBSPECTRA):\n",
    "    the_df=all_spectra[ifile]\n",
    "    \n",
    "    airmassvalue = infos.iloc[ifile][\"airmass\"]\n",
    "    label_airmass = f\" z = {airmassvalue:.2f}\"\n",
    "\n",
    "    #ax.plot(the_df.wavelength,the_df.flux,color=all_colors[ifile])\n",
    "    ax.errorbar(the_df[\"all_lambdas\"],the_df['all_fluxes'],yerr=the_df[\"all_fluxes_err\"], fmt = '.', color=all_colors[ifile],capsize = 0.01, ecolor=all_colors[ifile], elinewidth = .01,label=label_airmass)\n",
    "ax.grid()\n",
    "ax.set_xlabel(\"$\\lambda$ (nm)\")\n",
    "ax.set_ylabel(\"flux (erg/sec/m$^2$/nm)\")\n",
    "title=f\"Selected Spectra of {target} observed at {SITE} ({DATE})\"\n",
    "ax.set_title(title,fontsize=20,fontweight='bold')\n",
    "ax.plot(sed_w,sed_f,'k-')\n",
    "ax.set_xlim( WLMINSEL  , WLMAXSEL  )\n",
    "ax.set_ylim(FLUXLIMMIN,FLUXLIMMAX)\n",
    "ax.set_yscale(\"log\")\n",
    "ax.legend(loc=\"lower left\",ncol=4)\n",
    "#ax.legend(bbox_to_anchor=(1.02, 0.5))\n",
    "\n",
    "# draw abs lines\n",
    "plotlines(ax,ypos=FLUXLIMMAX/2)\n"
   ]
  },
  {
   "cell_type": "code",
   "execution_count": null,
   "metadata": {},
   "outputs": [],
   "source": [
    "fig=plt.figure(figsize=(16,10))\n",
    "ax=fig.add_subplot(111)\n",
    "for ifile in np.arange(NBSPECTRA):\n",
    "    the_df=the_df=all_spectra[ifile]\n",
    "\n",
    "    airmassvalue = infos.iloc[ifile][\"airmass\"]\n",
    "    num = infos.iloc[ifile][\"number\"]\n",
    "    label_airmass = f\" z = {airmassvalue:.2f} ({num})\"\n",
    "    \n",
    "    #ax.plot(the_df.wavelength,the_df.mag,color=all_colors[ifile])\n",
    "    mag = -2.5*np.log10(the_df[\"all_fluxes\"])\n",
    "    errmag = 2.5/np.log(10)*the_df[\"all_fluxes_err\"]/(the_df[\"all_fluxes\"])\n",
    "    ax.errorbar(the_df[\"all_lambdas\"],mag,yerr=errmag, fmt = '.', color=all_colors[ifile],capsize = 0.01, ecolor=all_colors[ifile], elinewidth = .01,label=label_airmass)\n",
    "ax.grid()\n",
    "ax.set_xlabel(\"$\\lambda$ (nm)\")\n",
    "ax.set_ylabel(\"magnitude \")\n",
    "title=f\"Spectra of {target} observed at {SITE} ({DATE})\"\n",
    "ax.set_title(title,fontsize=20,fontweight='bold')\n",
    "ax.plot(sed_w,sed_m,'k-')\n",
    "ax.set_xlim( WLMINSEL  , WLMAXSEL  )\n",
    "ax.set_ylim(MAGLIMMIN,MAGLIMMAX)\n",
    "ax.invert_yaxis()\n",
    "ax.legend(loc=\"upper right\",ncol=4)\n",
    "#ax.legend(bbox_to_anchor=(1.02, 0))\n",
    "\n",
    "# draw abs lines\n",
    "plotlines(ax,ypos=MAGLIMMAX-0.5)\n"
   ]
  },
  {
   "cell_type": "code",
   "execution_count": null,
   "metadata": {},
   "outputs": [],
   "source": [
    "fig=plt.figure(figsize=(16,10))\n",
    "ax=fig.add_subplot(111)\n",
    "for ifile in np.arange(NBSPECTRA):\n",
    "    the_df=the_df=all_spectra[ifile]\n",
    "\n",
    "    airmassvalue = infos.iloc[ifile][\"airmass\"]\n",
    "    label_airmass = f\" z = {airmassvalue:.2f}\"\n",
    "    \n",
    "    #ax.plot(the_df.wavelength,the_df.mag,color=all_colors[ifile])\n",
    "    mag = -2.5*np.log10(the_df[\"all_fluxes\"])\n",
    "    errmag = 2.5/np.log(10)*the_df[\"all_fluxes_err\"]/(the_df[\"all_fluxes\"])\n",
    "    ax.errorbar(the_df[\"all_lambdas\"],mag,yerr=errmag, fmt = '.', color=all_colors[ifile],capsize = 0.01, ecolor=all_colors[ifile], elinewidth = .01,label=label_airmass)\n",
    "ax.grid()\n",
    "ax.set_xlabel(\"$\\lambda$ (nm)\")\n",
    "ax.set_ylabel(\"magnitude \")\n",
    "title=f\"Spectra of {target} observed at {SITE} ({DATE})\"\n",
    "ax.set_title(title,fontsize=20,fontweight='bold')\n",
    "ax.plot(sed_w,sed_m,'k-')\n",
    "ax.set_xlim( WLMINSEL  , WLMAXSEL  )\n",
    "ax.set_ylim(MAGLIMMIN,MAGLIMMAX)\n",
    "ax.invert_yaxis()\n",
    "ax.legend(loc=\"upper right\",ncol=5)\n",
    "#ax.legend(bbox_to_anchor=(1.02, 0))\n",
    "# draw abs lines\n",
    "plotlines(ax,ypos=MAGLIMMAX-0.5)"
   ]
  },
  {
   "cell_type": "markdown",
   "metadata": {},
   "source": [
    "# Multiply SED by all throughput"
   ]
  },
  {
   "cell_type": "code",
   "execution_count": null,
   "metadata": {},
   "outputs": [],
   "source": [
    "correction_area = 1.06/1.13"
   ]
  },
  {
   "cell_type": "code",
   "execution_count": null,
   "metadata": {},
   "outputs": [],
   "source": [
    "sed_predicted_f = f_sed(WL) * f_thr(WL) * f_atm(WL) * f_filter_thr(WL)\n",
    "sed_predicted_m = -2.5*np.log10(sed_predicted_f) "
   ]
  },
  {
   "cell_type": "code",
   "execution_count": null,
   "metadata": {},
   "outputs": [],
   "source": [
    "fig=plt.figure(figsize=(16,10))\n",
    "ax=fig.add_subplot(111)\n",
    "for ifile in np.arange(NBSPECTRA):\n",
    "    the_df=all_spectra[ifile]\n",
    "    \n",
    "    airmassvalue = infos.iloc[ifile][\"airmass\"]\n",
    "    label_airmass = f\" z = {airmassvalue:.2f}\"\n",
    "\n",
    "    #ax.plot(the_df.wavelength,the_df.flux,color=all_colors[ifile])\n",
    "    ax.errorbar(the_df[\"all_lambdas\"],the_df['all_fluxes']/correction_area,yerr=the_df[\"all_fluxes_err\"], fmt = '.', color=all_colors[ifile],capsize = 0.01, ecolor=all_colors[ifile], elinewidth = .01,label=label_airmass)\n",
    "ax.grid()\n",
    "ax.set_xlabel(\"$\\lambda$ (nm)\")\n",
    "ax.set_ylabel(\"flux (erg/sec/m$^2$/nm)\")\n",
    "title=f\"Obs Spectr and pred spectr (tot throu+ atm z=1.2) : {target} at {SITE} ({DATE})\"\n",
    "ax.set_title(title,fontsize=20,fontweight='bold')\n",
    "ax.plot(sed_w,sed_f,'k-',label=\"SED\")\n",
    "ax.plot(WL,sed_predicted_f,color='darkviolet',lw=4,label = \"predicted flux\")\n",
    "ax.set_xlim( WLMINSEL  , WLMAXSEL  )\n",
    "ax.set_ylim(FLUXLIMMIN,FLUXLIMMAX/10.)\n",
    "#ax.set_yscale(\"log\")\n",
    "ax.legend(loc=\"upper right\",ncol=6)\n",
    "\n",
    "\n",
    "# draw abs lines\n",
    "plotlines(ax,ypos=FLUXLIMMAX/30)\n",
    "\n"
   ]
  },
  {
   "cell_type": "code",
   "execution_count": null,
   "metadata": {},
   "outputs": [],
   "source": [
    "fig=plt.figure(figsize=(16,10))\n",
    "ax=fig.add_subplot(111)\n",
    "for ifile in np.arange(NBSPECTRA):\n",
    "    the_df=all_spectra[ifile]\n",
    "    \n",
    "    airmassvalue = infos.iloc[ifile][\"airmass\"]\n",
    "    label_airmass = f\" z = {airmassvalue:.2f}\"\n",
    "\n",
    "    #ax.plot(the_df.wavelength,the_df.flux,color=all_colors[ifile])\n",
    "    ax.errorbar(the_df[\"all_lambdas\"],the_df['all_fluxes']/correction_area,yerr=the_df[\"all_fluxes_err\"], fmt = '.', color=all_colors[ifile],capsize = 0.01, ecolor=all_colors[ifile], elinewidth = .01,label=label_airmass)\n",
    "ax.grid()\n",
    "ax.set_xlabel(\"$\\lambda$ (nm)\")\n",
    "ax.set_ylabel(\"flux (erg/sec/m$^2$/nm)\")\n",
    "title=f\"Obs Spectr and pred spectr (tot throu+ atm z=1.2) : {target} at {SITE} ({DATE})\"\n",
    "ax.set_title(title,fontsize=20,fontweight='bold')\n",
    "ax.plot(sed_w,sed_f,'k-',label=\"SED\")\n",
    "ax.plot(WL,sed_predicted_f,color='darkviolet',lw=4,label = \"predicted flux\")\n",
    "ax.set_xlim( WLMINSEL  , WLMAXSEL  )\n",
    "ax.set_ylim(FLUXLIMMIN,FLUXLIMMAX)\n",
    "ax.set_yscale(\"log\")\n",
    "ax.legend(loc=\"upper right\",ncol=6)\n",
    "\n",
    "# draw abs lines\n",
    "plotlines(ax,ypos=FLUXLIMMAX/3000)"
   ]
  },
  {
   "cell_type": "code",
   "execution_count": null,
   "metadata": {},
   "outputs": [],
   "source": [
    "fig=plt.figure(figsize=(16,10))\n",
    "ax=fig.add_subplot(111)\n",
    "for ifile in np.arange(NBSPECTRA):\n",
    "    the_df=the_df=all_spectra[ifile]\n",
    "\n",
    "    airmassvalue = infos.iloc[ifile][\"airmass\"]\n",
    "    label_airmass = f\" z = {airmassvalue:.2f}\"\n",
    "    \n",
    "    #ax.plot(the_df.wavelength,the_df.mag,color=all_colors[ifile])\n",
    "    mag = -2.5*np.log10(the_df[\"all_fluxes\"]/correction_area)\n",
    "    errmag = 2.5/np.log(10)*the_df[\"all_fluxes_err\"]/(the_df[\"all_fluxes\"])\n",
    "    ax.errorbar(the_df[\"all_lambdas\"],mag,yerr=errmag, fmt = '.', color=all_colors[ifile],capsize = 0.01, ecolor=all_colors[ifile], elinewidth = .01,label=label_airmass)\n",
    "ax.grid()\n",
    "ax.set_xlabel(\"$\\lambda$ (nm)\")\n",
    "ax.set_ylabel(\"magnitude \")\n",
    "title=f\"Obs Spectr and pred spectr (tot throu + atm z=1.2) : {target} at {SITE} ({DATE})\"\n",
    "ax.set_title(title,fontsize=20,fontweight='bold')\n",
    "ax.plot(sed_w,sed_m,'k-',label = 'SED')\n",
    "ax.plot(WL,sed_predicted_m,color='darkviolet',lw=4,label = \"predicted Flux\")\n",
    "\n",
    "ax.set_ylim(MAGLIMMIN,MAGLIMMAX)\n",
    "ax.set_xlim( WLMINSEL  , WLMAXSEL  )\n",
    "\n",
    "ax.invert_yaxis()\n",
    "\n",
    "ax.legend(loc=\"upper right\",ncol=5)\n",
    "\n",
    "# draw abs lines\n",
    "plotlines(ax,ypos=MAGLIMMAX-0.5)"
   ]
  },
  {
   "cell_type": "markdown",
   "metadata": {},
   "source": [
    "# Filtering a line"
   ]
  },
  {
   "cell_type": "code",
   "execution_count": null,
   "metadata": {},
   "outputs": [],
   "source": [
    "fig=plt.figure(figsize=(16,10))\n",
    "ax=fig.add_subplot(111)\n",
    "ax.grid()\n",
    "ax.set_xlabel(\"$\\lambda$ (nm)\")\n",
    "ax.set_ylabel(\"flux (erg/sec/m$^2$/nm)\")\n",
    "title=f\"Pred spectr (tot throu+ atm z=1.2) : {target} at {SITE} ({DATE})\"\n",
    "ax.set_title(title,fontsize=20,fontweight='bold')\n",
    "ax.plot(sed_w,sed_f,'k-',label=\"SED\")\n",
    "ax.plot(WL,sed_predicted_f,color='darkviolet',lw=4,label = \"predicted flux\")\n",
    "ax.set_xlim( WLMINSEL  , WLMAXSEL  )\n",
    "ax.set_ylim(FLUXLIMMIN,FLUXLIMMAX)\n",
    "\n",
    "# filtered flux\n",
    "span = 3\n",
    "sed_predicted_f_filtered = smooth_data_np_convolve(sed_predicted_f, span)\n",
    "ax.plot(WL,sed_predicted_f_filtered/2,\"-.\",color='darkviolet',lw=4,label = \"predicted flux filtered/2\")\n",
    "\n",
    "\n",
    "ax.set_yscale(\"log\")\n",
    "ax.legend(loc=\"upper right\")\n",
    "\n",
    "\n",
    "# draw abs lines\n",
    "plotlines(ax,ypos=FLUXLIMMAX/2000)"
   ]
  },
  {
   "cell_type": "markdown",
   "metadata": {},
   "source": [
    "## Look at lines"
   ]
  },
  {
   "cell_type": "code",
   "execution_count": null,
   "metadata": {},
   "outputs": [],
   "source": [
    "def ShowIndividualLine(lambdamin,lambdamax,fluxmin,fluxmax,thetitle):\n",
    "    \n",
    "    fig=plt.figure(figsize=(18,10))\n",
    "    ax=fig.add_subplot(111)\n",
    "    for ifile in np.arange(NBSPECTRA):\n",
    "        the_df=all_spectra[ifile]\n",
    "    \n",
    "        airmassvalue = infos.iloc[ifile][\"airmass\"]\n",
    "        \n",
    "        num = infos.iloc[ifile][\"number\"]\n",
    "        label_airmass = f\" z = {airmassvalue:.2f} ({num})\"\n",
    "\n",
    "        #ax.plot(the_df.wavelength,the_df.flux,color=all_colors[ifile])\n",
    "        ax.errorbar(the_df[\"all_lambdas\"],the_df['all_fluxes']/correction_area,yerr=the_df[\"all_fluxes_err\"], fmt = '-', color=all_colors[ifile],capsize = 0.01, ecolor=all_colors[ifile], elinewidth = .01,label=label_airmass)\n",
    "    ax.grid()\n",
    "    ax.set_xlabel(\"$\\lambda$ (nm)\")\n",
    "    ax.set_ylabel(\"flux (erg/sec/m$^2$/nm)\")\n",
    "    title=\"line \" + thetitle + f\" :{target} at {SITE}({DATE})\"\n",
    "    ax.set_title(title,fontsize=20,fontweight='bold')\n",
    "    #ax.plot(sed_w,sed_f,'k-',label=\"SED\")\n",
    "    ax.plot(WL,sed_predicted_f,color='darkviolet',lw=4,label = \"predicted flux\")\n",
    "    ax.plot(WL,sed_predicted_f_filtered,\"-\",color='darkblue',lw=4,label = \"predicted flux filtered\")\n",
    "    #ax.set_xlim(WLlineMIN  , WLlineMAX  )\n",
    "    #ax.set_ylim(FLUXLIMMIN*10,FLUXLIMMAX/50)\n",
    "    \n",
    "    ax.set_xlim(lambdamin  , lambdamax  )\n",
    "    ax.set_ylim(fluxmin,fluxmax)\n",
    "    \n",
    "    #ax.set_yscale(\"log\")\n",
    "    ax.legend(loc=\"upper right\",ncol=6)\n",
    "\n",
    "    # draw abs lines\n",
    "    #plotlines(ax,ypos=FLUXLIMMAX/3000)"
   ]
  },
  {
   "cell_type": "markdown",
   "metadata": {},
   "source": [
    "## O2"
   ]
  },
  {
   "cell_type": "code",
   "execution_count": null,
   "metadata": {},
   "outputs": [],
   "source": [
    "WLlineMIN = O2_1.wavelength-20\n",
    "WLlineMAX = O2_1.wavelength+20"
   ]
  },
  {
   "cell_type": "code",
   "execution_count": null,
   "metadata": {},
   "outputs": [],
   "source": [
    "ShowIndividualLine(lambdamin=WLlineMIN ,lambdamax=WLlineMAX,fluxmin=FLUXLIMMIN*30,fluxmax=FLUXLIMMAX/60,thetitle=O2_1.label)"
   ]
  },
  {
   "cell_type": "markdown",
   "metadata": {},
   "source": [
    "## O2B"
   ]
  },
  {
   "cell_type": "code",
   "execution_count": null,
   "metadata": {},
   "outputs": [],
   "source": [
    "WLlineMIN = O2B.wavelength-20\n",
    "WLlineMAX = O2B.wavelength+20"
   ]
  },
  {
   "cell_type": "code",
   "execution_count": null,
   "metadata": {},
   "outputs": [],
   "source": [
    "ShowIndividualLine(lambdamin=WLlineMIN ,lambdamax=WLlineMAX,fluxmin=FLUXLIMMIN*80,fluxmax=FLUXLIMMAX/45,thetitle=O2B.label)"
   ]
  },
  {
   "cell_type": "markdown",
   "metadata": {},
   "source": [
    "## H2O"
   ]
  },
  {
   "cell_type": "code",
   "execution_count": null,
   "metadata": {},
   "outputs": [],
   "source": [
    "WLlineMIN = H2O_1.wavelength-50\n",
    "WLlineMAX = H2O_2.wavelength+50"
   ]
  },
  {
   "cell_type": "code",
   "execution_count": null,
   "metadata": {},
   "outputs": [],
   "source": [
    "ShowIndividualLine(lambdamin=WLlineMIN ,lambdamax=WLlineMAX,fluxmin=FLUXLIMMIN,fluxmax=FLUXLIMMAX/100,thetitle=H2O_2.label)"
   ]
  },
  {
   "cell_type": "markdown",
   "metadata": {},
   "source": [
    "## H2O"
   ]
  },
  {
   "cell_type": "code",
   "execution_count": null,
   "metadata": {},
   "outputs": [],
   "source": [
    "WLlineMIN = 700\n",
    "WLlineMAX = 750"
   ]
  },
  {
   "cell_type": "code",
   "execution_count": null,
   "metadata": {},
   "outputs": [],
   "source": [
    "ShowIndividualLine(lambdamin=WLlineMIN ,lambdamax=WLlineMAX,fluxmin=FLUXLIMMIN*50,fluxmax=FLUXLIMMAX/50,thetitle=H2O_2.label)"
   ]
  },
  {
   "cell_type": "markdown",
   "metadata": {},
   "source": [
    "## H2O"
   ]
  },
  {
   "cell_type": "code",
   "execution_count": null,
   "metadata": {},
   "outputs": [],
   "source": [
    "WLlineMIN = 800\n",
    "WLlineMAX = 850"
   ]
  },
  {
   "cell_type": "code",
   "execution_count": null,
   "metadata": {},
   "outputs": [],
   "source": [
    "ShowIndividualLine(lambdamin=WLlineMIN ,lambdamax=WLlineMAX,fluxmin=FLUXLIMMIN*50,fluxmax=FLUXLIMMAX/80,thetitle=H2O_2.label)"
   ]
  },
  {
   "cell_type": "markdown",
   "metadata": {},
   "source": [
    "# Ratio"
   ]
  },
  {
   "cell_type": "code",
   "execution_count": null,
   "metadata": {},
   "outputs": [],
   "source": [
    "fig=plt.figure(figsize=(16,10))\n",
    "ax=fig.add_subplot(111)\n",
    "for ifile in np.arange(NBSPECTRA):\n",
    "    the_df=the_df=all_spectra[ifile]\n",
    "\n",
    "    airmassvalue = infos.iloc[ifile][\"airmass\"]\n",
    "    label_airmass = f\" z = {airmassvalue:.2f}\"\n",
    "    num = infos.iloc[ifile][\"number\"]\n",
    "    label_airmass = f\" z = {airmassvalue:.2f} ({num})\"\n",
    "    \n",
    "    \n",
    "    x=the_df[\"all_lambdas\"]\n",
    "    y=the_df['all_fluxes']/correction_area, \n",
    "    yerr=the_df[\"all_fluxes_err\"]\n",
    "    \n",
    "    \n",
    "    f = interpolate.interp1d(x, y)\n",
    "    fe = interpolate.interp1d(x, yerr)\n",
    "    y_interp =f(WL)[0]\n",
    "    ey_interp = fe(WL)[0]\n",
    "    \n",
    "    \n",
    "    ratio = y_interp/sed_predicted_f_filtered\n",
    "    eratio = ey_interp/sed_predicted_f_filtered\n",
    "    \n",
    "\n",
    "    #if num == 87 or num == 330 or num == 331:\n",
    "    ax.errorbar(WL,ratio,yerr=eratio, fmt = '-', color=all_colors[ifile],capsize = 0.01, ecolor=all_colors[ifile], elinewidth = .01,label=label_airmass)\n",
    "\n",
    "ax.grid()\n",
    "ax.set_xlabel(\"$\\lambda$ (nm)\")\n",
    "ax.set_ylabel(\"ratio\")\n",
    "title=f\"Ratio Obs Spectr and pred spectr (tot throu + atm z=1.2) : {target} at {SITE} ({DATE})\"\n",
    "ax.set_title(title,fontsize=20,fontweight='bold')\n",
    "#ax.plot(sed_w,sed_m,'k-',label = 'SED')\n",
    "#ax.plot(WL,sed_predicted_m,color='darkviolet',lw=4,label = \"predicted Flux\")\n",
    "\n",
    "#ax.set_ylim(MAGLIMMIN,MAGLIMMAX)\n",
    "ax.set_xlim(WLMINSEL  , WLMAXSEL  )\n",
    "\n",
    "#ax.invert_yaxis()\n",
    "ax.set_ylim(0.5,1.5)\n",
    "ax.legend(loc=\"upper right\",ncol=5)"
   ]
  },
  {
   "cell_type": "markdown",
   "metadata": {},
   "source": [
    "# Make Simulation with true airmass & pressure"
   ]
  },
  {
   "cell_type": "code",
   "execution_count": null,
   "metadata": {},
   "outputs": [],
   "source": [
    "infos"
   ]
  },
  {
   "cell_type": "markdown",
   "metadata": {},
   "source": [
    "### Define version "
   ]
  },
  {
   "cell_type": "code",
   "execution_count": null,
   "metadata": {},
   "outputs": [],
   "source": [
    "#ATM_VERSION = \"v01\"\n",
    "#ATM_VERSION = \"v02\"\n",
    "ATM_VERSION = \"v03\""
   ]
  },
  {
   "cell_type": "markdown",
   "metadata": {},
   "source": [
    "## Define PWV"
   ]
  },
  {
   "cell_type": "code",
   "execution_count": null,
   "metadata": {},
   "outputs": [],
   "source": [
    "if ATM_VERSION == \"v01\":\n",
    "    all_pwv = np.arange(0.,10.5,0.5)\n",
    "elif ATM_VERSION == \"v02\":\n",
    "    all_pwv = np.arange(3.,6.,0.1)\n",
    "else:\n",
    "    all_pwv = np.arange(2.,6.,0.1)\n",
    "NPWV = len(all_pwv)"
   ]
  },
  {
   "cell_type": "markdown",
   "metadata": {},
   "source": [
    "### Header\n",
    "\n",
    "- 0 : index of simulation\n",
    "- 1 : index of spectra\n",
    "- 2 : spectrum number\n",
    "- 3 : airmass value\n",
    "- 4 : pressure\n",
    "- 5 : pwv\n",
    "- 6 : aer\n",
    "- 7 : ozone\n",
    "- 8 : cloud extinction\n",
    "- 9 : humidity\n",
    "- 10 : start of sim"
   ]
  },
  {
   "cell_type": "code",
   "execution_count": null,
   "metadata": {},
   "outputs": [],
   "source": [
    "IDX_SIM_IDX = 0\n",
    "IDX_SPEC_IDX = 1\n",
    "IDX_SPEC_NUM = 2\n",
    "IDX_SPEC_AM = 3\n",
    "IDX_WEATH_PRES = 4\n",
    "IDX_WEATH_PWV = 5\n",
    "IDX_WEATH_AER = 6\n",
    "IDX_WEATH_OZON = 7\n",
    "IDX_WEATH_CLD = 8\n",
    "IDX_WEATH_HUM = 9\n",
    "IDX_SIM_START = 10"
   ]
  },
  {
   "cell_type": "code",
   "execution_count": null,
   "metadata": {},
   "outputs": [],
   "source": [
    "atmosphere_type=\"us\""
   ]
  },
  {
   "cell_type": "code",
   "execution_count": null,
   "metadata": {},
   "outputs": [],
   "source": [
    "#atmsimfilename = f\"atmsim-{DATE}-{filterdisperser}-{atmosphere_type}-{ATM_VERSION}.npy\"\n",
    "atmsimfilename = f\"atmsim-{DATE}-{filterdisperser}-{atmosphere_type}-{target}-{spectractormode}-{ATM_VERSION}.npy\"\n",
    "atmsimfilename "
   ]
  },
  {
   "cell_type": "code",
   "execution_count": null,
   "metadata": {},
   "outputs": [],
   "source": [
    "FLAG_ATMSIMFILE = False\n",
    "if os.path.isfile(atmsimfilename):\n",
    "    FLAG_ATMSIMFILE = True    "
   ]
  },
  {
   "cell_type": "code",
   "execution_count": null,
   "metadata": {},
   "outputs": [],
   "source": [
    "if not FLAG_ATMSIMFILE:\n",
    "    atmsim = np.zeros((NBSPECTRA*NPWV+1,IDX_SIM_START + NBINSIM))\n",
    "    atmsim[0, IDX_SIM_START:] = wlsim\n",
    "    \n",
    "    \n",
    "    # loop on spectra\n",
    "\n",
    "    idx_sim = 0\n",
    "\n",
    "    for idx_spec in range(NBSPECTRA):\n",
    "    \n",
    "        print(f\"atmospheric simulation for spectrum index : {idx_spec}\")\n",
    "    \n",
    "        num = infos.iloc[idx_spec][\"number\"]\n",
    "        # loop on pwv\n",
    "        for pwv in all_pwv:\n",
    "            am       = infos.iloc[idx_spec][\"airmass\"]\n",
    "            pressure = infos.iloc[idx_spec][\"pressure\"]\n",
    "            hum      = infos.iloc[idx_spec][\"humidity\"]\n",
    "            aer      = 0\n",
    "            ozone    = 300.\n",
    "            cloudext = 0\n",
    "    \n",
    "    \n",
    "            path,thefile=libsimulateVisible.ProcessSimulation(am,pwv,ozone,pressure,prof_str='us',proc_str='sa',cloudext=cloudext)\n",
    "            data = np.loadtxt(os.path.join(path,thefile))\n",
    "            wlsim = data[:,0]\n",
    "            tratmsim = data[:,1]\n",
    "        \n",
    "        \n",
    "            # counter on simulation from 1 to NBSPECTRA*NPWV\n",
    "            idx_sim += 1\n",
    "        \n",
    "            ## fill array\n",
    "            atmsim[idx_sim,IDX_SIM_IDX]    = idx_sim\n",
    "            atmsim[idx_sim,IDX_SPEC_IDX]   = idx_spec\n",
    "            atmsim[idx_sim,IDX_SPEC_NUM]   = num \n",
    "            atmsim[idx_sim,IDX_SPEC_AM]    = am\n",
    "            atmsim[idx_sim,IDX_WEATH_PRES] = pressure\n",
    "            atmsim[idx_sim,IDX_WEATH_PWV]  = pwv\n",
    "            atmsim[idx_sim,IDX_WEATH_AER]  = aer\n",
    "            atmsim[idx_sim,IDX_WEATH_OZON] = ozone\n",
    "            atmsim[idx_sim,IDX_WEATH_CLD]  = cloudext\n",
    "            atmsim[idx_sim,IDX_WEATH_HUM]  = hum\n",
    "            atmsim[idx_sim,IDX_SIM_START:] = tratmsim\n",
    "            \n",
    "else:\n",
    "    print(f\"Load file {atmsimfilename}\")\n",
    "    atmsim = np.load(atmsimfilename)\n",
    "    print(atmsim.shape)\n",
    "        \n",
    "        \n",
    "    "
   ]
  },
  {
   "cell_type": "code",
   "execution_count": null,
   "metadata": {},
   "outputs": [],
   "source": [
    "if not FLAG_ATMSIMFILE:\n",
    "    np.save(atmsimfilename,atmsim)\n",
    "    FLAG_ATMSIMFILE = True"
   ]
  },
  {
   "cell_type": "code",
   "execution_count": null,
   "metadata": {},
   "outputs": [],
   "source": [
    "plt.imshow(atmsim[1:,IDX_SIM_START:],origin=\"lower\", aspect='auto', extent = [ atmsim[0,IDX_SIM_START],atmsim[0,-1],0,NBSPECTRA*NPWV ])"
   ]
  },
  {
   "cell_type": "markdown",
   "metadata": {},
   "source": [
    "# Compute ratio"
   ]
  },
  {
   "cell_type": "code",
   "execution_count": null,
   "metadata": {},
   "outputs": [],
   "source": [
    "fig=plt.figure(figsize=(16,10))\n",
    "ax=fig.add_subplot(111)\n",
    "all_ratio = []\n",
    "all_spectra_interp = []\n",
    "\n",
    "for ifile in np.arange(NBSPECTRA):\n",
    "    the_df=the_df=all_spectra[ifile]\n",
    "\n",
    "    airmassvalue = infos.iloc[ifile][\"airmass\"]\n",
    "    label_airmass = f\" z = {airmassvalue:.2f}\"\n",
    "    num = infos.iloc[ifile][\"number\"]\n",
    "    label_airmass = f\" z = {airmassvalue:.2f} ({num})\"\n",
    "    \n",
    "    \n",
    "    # data\n",
    "    x=the_df[\"all_lambdas\"]\n",
    "    y=the_df['all_fluxes']/correction_area\n",
    "    yerr=the_df[\"all_fluxes_err\"]/correction_area\n",
    "    \n",
    "    \n",
    "    f = interpolate.interp1d(x, y)\n",
    "    fe = interpolate.interp1d(x, yerr)\n",
    "    y_interp =f(WL)\n",
    "    ey_interp = fe(WL)\n",
    "    \n",
    "    # atmsim\n",
    "    x0 = atmsim[0, IDX_SIM_START:]\n",
    "    y0 = atmsim[ifile*NPWV+1 + 2  ,IDX_SIM_START:]\n",
    "    #y0 = atmsim[ifile*NPWV+1 + 0  ,IDX_SIM_START:] # pas pwd\n",
    "    f0_atm = interpolate.interp1d(x0,y0,bounds_error=False,fill_value=\"extrapolate\")\n",
    "    flux_predicted_f = f_sed(WL) * f_thr(WL) * f0_atm(WL) * f_filter_thr(WL)\n",
    "    span = 3\n",
    "    flux_predicted_f_filtered = smooth_data_np_convolve(flux_predicted_f, span)\n",
    "    \n",
    "    \n",
    "    ratio = y_interp/flux_predicted_f_filtered\n",
    "    eratio = ey_interp/flux_predicted_f_filtered\n",
    "    \n",
    "    all_ratio.append(ratio)\n",
    "    all_spectra_interp.append(y_interp)\n",
    "    \n",
    "\n",
    "    #if num == 87 or num == 330 or num == 331:\n",
    "    ax.errorbar(WL,ratio,yerr=eratio, fmt = '-', color=all_colors[ifile],capsize = 0.01, ecolor=all_colors[ifile], elinewidth = .01,label=label_airmass)\n",
    "\n",
    "ax.grid()\n",
    "ax.set_xlabel(\"$\\lambda$ (nm)\")\n",
    "ax.set_ylabel(\"ratio\")\n",
    "title=f\"Ratio Obs Spectr and pred spectr at airmass: {target} at {SITE} ({DATE})\"\n",
    "ax.set_title(title,fontsize=20,fontweight='bold')\n",
    "#ax.plot(sed_w,sed_m,'k-',label = 'SED')\n",
    "#ax.plot(WL,sed_predicted_m,color='darkviolet',lw=4,label = \"predicted Flux\")\n",
    "\n",
    "#ax.set_ylim(MAGLIMMIN,MAGLIMMAX)\n",
    "ax.set_xlim(WLMINSEL  , WLMAXSEL  )\n",
    "\n",
    "#ax.invert_yaxis()\n",
    "ax.set_ylim(0.3,1.4)\n",
    "ax.legend(loc=\"upper right\",ncol=5)\n",
    "\n",
    "plotlines(ax,ypos=0.35)\n",
    "\n",
    "rect=mpl.patches.Rectangle((780,0.3),115,1.4,color ='yellow',alpha=0.3)\n",
    "ax.add_patch(rect)"
   ]
  },
  {
   "cell_type": "markdown",
   "metadata": {},
   "source": [
    "# Find the upper curve for the ratio and calculate ratio of ratio to get grey attenuation"
   ]
  },
  {
   "cell_type": "code",
   "execution_count": null,
   "metadata": {},
   "outputs": [],
   "source": [
    "indexes=np.where(np.logical_and(WL> 780,WL<895))[0]  "
   ]
  },
  {
   "cell_type": "code",
   "execution_count": null,
   "metadata": {},
   "outputs": [],
   "source": [
    "average_ratio = np.array([ np.mean(ratio[indexes]) for ratio in  all_ratio])"
   ]
  },
  {
   "cell_type": "code",
   "execution_count": null,
   "metadata": {},
   "outputs": [],
   "source": [
    "idx_max = np.where(average_ratio == average_ratio.max())[0][0]\n",
    "ratio_max= all_ratio[idx_max]\n",
    "\n",
    "airmassvalue = infos.iloc[idx_max][\"airmass\"]\n",
    "num = infos.iloc[idx_max][\"number\"]\n",
    "label_airmass = f\" z = {airmassvalue:.2f} ({num})\"\n",
    "\n",
    "label_ratio_max = label_airmass"
   ]
  },
  {
   "cell_type": "code",
   "execution_count": null,
   "metadata": {},
   "outputs": [],
   "source": [
    "idx_min = np.where(average_ratio == average_ratio.min())[0][0]\n",
    "ratio_min= all_ratio[idx_min]\n",
    "\n",
    "airmassvalue = infos.iloc[idx_min][\"airmass\"]\n",
    "num = infos.iloc[idx_min][\"number\"]\n",
    "label_airmass = f\" z = {airmassvalue:.2f} ({num})\"\n",
    "\n",
    "label_ratio_min = label_airmass"
   ]
  },
  {
   "cell_type": "code",
   "execution_count": null,
   "metadata": {},
   "outputs": [],
   "source": [
    "idx_zmin = np.where(infos[\"airmass\"].values == infos[\"airmass\"].values.min())[0][0]\n",
    "ratio_zmin= all_ratio[idx_zmin]\n",
    "\n",
    "airmassvalue = infos.iloc[idx_zmin][\"airmass\"]\n",
    "num = infos.iloc[idx_zmin][\"number\"]\n",
    "label_airmass = f\" z = {airmassvalue:.2f} ({num})\"\n",
    "\n",
    "label_ratio_zmin = label_airmass"
   ]
  },
  {
   "cell_type": "code",
   "execution_count": null,
   "metadata": {},
   "outputs": [],
   "source": [
    "fig=plt.figure(figsize=(10,6))\n",
    "ax=fig.add_subplot(111)\n",
    "ax.plot(WL,ratio_max,'b-',label=label_ratio_max)\n",
    "ax.plot(WL,ratio_min,'g-',label=label_ratio_min)\n",
    "ax.plot(WL,all_ratio[idx_zmin],'k-',label=label_ratio_zmin)\n",
    "ax.grid()\n",
    "ax.set_xlabel(\"$\\lambda$ (nm)\")\n",
    "ax.set_ylabel(\"ratio\")\n",
    "ax.set_xlim( WLMINSEL  , WLMAXSEL  )\n",
    "\n",
    "#ax.invert_yaxis()\n",
    "ax.set_ylim(0.3,1.4)\n",
    "ax.legend(loc=\"upper right\",ncol=2)"
   ]
  },
  {
   "cell_type": "code",
   "execution_count": null,
   "metadata": {},
   "outputs": [],
   "source": [
    "ratio_spectra = all_spectra_interp[3]/np.roll(all_spectra_interp[14],0)\n",
    "span=15\n",
    "ratio_spectra_smoo = smooth_data_np_convolve(ratio_spectra, span)\n",
    "plt.plot(WL,ratio_spectra)\n",
    "plt.plot(WL,ratio_spectra_smoo,'r',lw=3)\n",
    "plt.ylim(0.9,1.2)\n",
    "plt.xlim(600,1000)"
   ]
  },
  {
   "cell_type": "code",
   "execution_count": null,
   "metadata": {},
   "outputs": [],
   "source": [
    "fig=plt.figure(figsize=(16,10))\n",
    "ax=fig.add_subplot(111)\n",
    "\n",
    "all_ratioofratio = []\n",
    "\n",
    "for ifile in np.arange(NBSPECTRA):\n",
    " \n",
    "    airmassvalue = infos.iloc[ifile][\"airmass\"]\n",
    "    label_airmass = f\" z = {airmassvalue:.2f}\"\n",
    "    num = infos.iloc[ifile][\"number\"]\n",
    "    label_airmass = f\" z = {airmassvalue:.2f} ({num})\"\n",
    "    \n",
    "     \n",
    "    ratio = all_ratio[ifile]/ratio_max\n",
    "    all_ratioofratio.append(ratio)\n",
    "      \n",
    "    ax.plot(WL,ratio, '-', color=all_colors[ifile],label=label_airmass)\n",
    "\n",
    "  \n",
    "ax.grid()\n",
    "ax.set_xlabel(\"$\\lambda$ (nm)\")\n",
    "ax.set_ylabel(\"ratio\")\n",
    "title=f\"Ratio of ratio Obs Spectr and pred spectr at airmass: {target} at {SITE} ({DATE})\"\n",
    "ax.set_title(title,fontsize=20,fontweight='bold')\n",
    "#ax.plot(sed_w,sed_m,'k-',label = 'SED')\n",
    "#ax.plot(WL,sed_predicted_m,color='darkviolet',lw=4,label = \"predicted Flux\")\n",
    "\n",
    "#ax.set_ylim(MAGLIMMIN,MAGLIMMAX)\n",
    "ax.set_xlim( WLMINSEL  , WLMAXSEL  )\n",
    "\n",
    "#ax.invert_yaxis()\n",
    "ax.set_ylim(0.3,1.4)\n",
    "ax.legend(loc=\"upper right\",ncol=5)\n",
    "\n",
    "plotlines(ax,ypos=0.35)"
   ]
  },
  {
   "cell_type": "code",
   "execution_count": null,
   "metadata": {},
   "outputs": [],
   "source": [
    "grey_attenuation =  np.array([ np.mean(ratio[indexes]) for ratio in  all_ratioofratio])"
   ]
  },
  {
   "cell_type": "code",
   "execution_count": null,
   "metadata": {},
   "outputs": [],
   "source": [
    "grey_attenuation"
   ]
  },
  {
   "cell_type": "code",
   "execution_count": null,
   "metadata": {},
   "outputs": [],
   "source": [
    "plt.hist(1-grey_attenuation,bins=50,range=(0,0.5));\n",
    "plt.xlabel(\"grey attenuation\")"
   ]
  },
  {
   "cell_type": "code",
   "execution_count": null,
   "metadata": {},
   "outputs": [],
   "source": [
    "filterdisperser"
   ]
  },
  {
   "cell_type": "code",
   "execution_count": null,
   "metadata": {},
   "outputs": [],
   "source": [
    "all_datetime = [ Time(str_time).to_datetime() for str_time in infos['dateobs'] ]\n",
    "myFmt = mdates.DateFormatter('%H:%M')\n",
    "ax.xaxis.set_major_formatter(myFmt)\n",
    "\n",
    "fig=plt.figure(figsize=(20,5))\n",
    "ax=fig.add_subplot(111)\n",
    "ax.plot(all_datetime,grey_attenuation,'bo:')\n",
    "ax.grid()\n",
    "#plt.gcf().autofmt_xdate()\n",
    "ax.xaxis.set_major_formatter(myFmt)\n",
    "ax.xaxis.set_tick_params(rotation=45)\n",
    "ax.set_xlabel(\"time (UTC)\")\n",
    "ax.set_title(f\"Grey attenuation : {DATE}  ({filterdisperser})\")\n",
    "ax.set_ylabel(\"attenuation\")\n",
    "ax2 = ax.twinx() \n",
    "ax2.plot(all_datetime,infos[\"airmass\"].values,'r:')\n",
    "ax2.xaxis.set_major_formatter(myFmt)\n",
    "ax2.xaxis.set_tick_params(rotation=45)\n",
    "ax2.set_xlabel(\"time (UTC)\")\n",
    "ax2.set_ylabel(\"airmass\")\n",
    "ax2.invert_yaxis()"
   ]
  },
  {
   "cell_type": "code",
   "execution_count": null,
   "metadata": {},
   "outputs": [],
   "source": [
    "fig=plt.figure(figsize=(16,10))\n",
    "ax=fig.add_subplot(111)\n",
    "\n",
    "all_ratio_nogreyatt = []\n",
    "all_airmass = []\n",
    "\n",
    "\n",
    "for ifile in np.arange(NBSPECTRA):\n",
    "    \n",
    "    airmassvalue = infos.iloc[ifile][\"airmass\"]\n",
    "    label_airmass = f\" z = {airmassvalue:.2f}\"\n",
    "    num = infos.iloc[ifile][\"number\"]\n",
    "    label_airmass = f\" z = {airmassvalue:.2f} ({num})\"\n",
    "    all_airmass.append(airmassvalue)\n",
    "    \n",
    "    ratio = all_ratio[ifile]/grey_attenuation[ifile]\n",
    "    \n",
    "    \n",
    "\n",
    "    #if num == 87 or num == 330 or num == 331:\n",
    "    ax.plot(WL,ratio,'-', color=all_colors[ifile],label=label_airmass)\n",
    "\n",
    "    all_ratio_nogreyatt.append(ratio)\n",
    "    \n",
    "ax.grid()\n",
    "ax.set_xlabel(\"$\\lambda$ (nm)\")\n",
    "ax.set_ylabel(\"ratio\")\n",
    "title=f\"Ratio Obs Spectr and pred spectr at airmass corr grey att: {target} at {SITE} ({DATE})\"\n",
    "ax.set_title(title,fontsize=20,fontweight='bold')\n",
    "#ax.plot(sed_w,sed_m,'k-',label = 'SED')\n",
    "#ax.plot(WL,sed_predicted_m,color='darkviolet',lw=4,label = \"predicted Flux\")\n",
    "\n",
    "#ax.set_ylim(MAGLIMMIN,MAGLIMMAX)\n",
    "ax.set_xlim( WLMINSEL  , WLMAXSEL  )\n",
    "\n",
    "#ax.invert_yaxis()\n",
    "ax.set_ylim(0.3,1.4)\n",
    "ax.legend(loc=\"upper right\",ncol=5)\n",
    "\n",
    "rect=mpl.patches.Rectangle((410,0.3),15,1.4,color ='yellow',alpha=0.3)\n",
    "ax.add_patch(rect)\n",
    "\n",
    "plotlines(ax,ypos=0.35)"
   ]
  },
  {
   "cell_type": "markdown",
   "metadata": {},
   "source": [
    "# Data / Simulation"
   ]
  },
  {
   "cell_type": "code",
   "execution_count": null,
   "metadata": {},
   "outputs": [],
   "source": [
    "fig=plt.figure(figsize=(16,10))\n",
    "ax=fig.add_subplot(111)\n",
    "\n",
    "ifile = 9\n",
    "\n",
    "the_df=the_df=all_spectra[ifile]\n",
    "\n",
    "airmassvalue = infos.iloc[ifile][\"airmass\"]\n",
    "label_airmass = f\" z = {airmassvalue:.2f}\"\n",
    "num = infos.iloc[ifile][\"number\"]\n",
    "label_airmass = f\" z = {airmassvalue:.2f} ({num})\"\n",
    "    \n",
    "    \n",
    "# data\n",
    "x=the_df[\"all_lambdas\"]\n",
    "y=the_df['all_fluxes']/correction_area\n",
    "yerr=the_df[\"all_fluxes_err\"]/correction_area\n",
    "    \n",
    "    \n",
    "f = interpolate.interp1d(x, y)\n",
    "fe = interpolate.interp1d(x, yerr)\n",
    "y_interp =f(WL)\n",
    "ey_interp = fe(WL)\n",
    "\n",
    "\n",
    "#all_pwv = np.arange(0.,10.5,0.5)\n",
    "#NPWV = len(all_pwv)\n",
    "\n",
    "# wavelength bin colors\n",
    "jet = plt.get_cmap('jet')\n",
    "cNorm = colors.Normalize(vmin=0, vmax=NPWV)\n",
    "scalarMap = cmx.ScalarMappable(norm=cNorm, cmap=jet)\n",
    "all_colors = scalarMap.to_rgba(np.arange(NPWV), alpha=1)\n",
    "\n",
    "\n",
    "for ipwv in range(NPWV):\n",
    "    pwv=all_pwv[ipwv]\n",
    "    label_pwv = f\"pwv = {pwv:.1f} mm\"\n",
    "    \n",
    "    # atmsim\n",
    "    x0 = atmsim[0, IDX_SIM_START:]\n",
    "    y0 = atmsim[ifile*NPWV+1 + ipwv  ,IDX_SIM_START:]\n",
    "    \n",
    "    f0_atm = interpolate.interp1d(x0,y0,bounds_error=False,fill_value=\"extrapolate\")\n",
    "    flux_predicted_f = f_sed(WL) * f_thr(WL) * f0_atm(WL) * f_filter_thr(WL)\n",
    "    span = 3\n",
    "    flux_predicted_f_filtered = smooth_data_np_convolve(flux_predicted_f, span)\n",
    "    \n",
    "    \n",
    "    ratio = y_interp/flux_predicted_f_filtered\n",
    "    eratio = ey_interp/flux_predicted_f_filtered\n",
    "    \n",
    "    if ipwv%2 == 0:\n",
    "        ax.errorbar(WL,ratio,yerr=eratio, fmt = '-', color=all_colors[ipwv],capsize = 0.01, ecolor=all_colors[ifile], elinewidth = .01,label=label_pwv)\n",
    "\n",
    "ax.grid()\n",
    "ax.set_xlabel(\"$\\lambda$ (nm)\")\n",
    "ax.set_ylabel(\"flux ratio measured/ simulated\")\n",
    "title=f\"Ratio {target} at {SITE} ({DATE}) \" + label_airmass\n",
    "ax.set_title(title,fontsize=20,fontweight='bold')\n",
    "#ax.plot(sed_w,sed_m,'k-',label = 'SED')\n",
    "#ax.plot(WL,sed_predicted_m,color='darkviolet',lw=4,label = \"predicted Flux\")\n",
    "\n",
    "#ax.set_ylim(MAGLIMMIN,MAGLIMMAX)\n",
    "ax.set_xlim(WLMINSEL  , WLMAXSEL  )\n",
    "ax.set_xlim(600,1050)\n",
    "#ax.invert_yaxis()\n",
    "ymin=0.4\n",
    "ymax=1.4\n",
    "ax.set_ylim(ymin,ymax)\n",
    "ax.legend(loc=\"upper right\",ncol=3)\n",
    "\n",
    "plotlines(ax,ypos=ymin)\n",
    "\n",
    "rect=mpl.patches.Rectangle((WLMINSEL,ymin),600-WLMINSEL,ymax,color ='grey',alpha=1)\n",
    "ax.add_patch(rect)"
   ]
  },
  {
   "cell_type": "code",
   "execution_count": null,
   "metadata": {},
   "outputs": [],
   "source": [
    "fig=plt.figure(figsize=(16,10))\n",
    "ax=fig.add_subplot(111)\n",
    "\n",
    "ifile = 0\n",
    "\n",
    "the_df=all_spectra[ifile]\n",
    "\n",
    "airmassvalue = infos.iloc[ifile][\"airmass\"]\n",
    "label_airmass = f\" z = {airmassvalue:.2f}\"\n",
    "num = infos.iloc[ifile][\"number\"]\n",
    "label_airmass = f\" z = {airmassvalue:.2f} ({num})\"\n",
    "    \n",
    "    \n",
    "# data\n",
    "x=the_df[\"all_lambdas\"]\n",
    "y=the_df['all_fluxes']/correction_area\n",
    "yerr=the_df[\"all_fluxes_err\"]/correction_area\n",
    "    \n",
    "    \n",
    "f = interpolate.interp1d(x, y)\n",
    "fe = interpolate.interp1d(x, yerr)\n",
    "y_interp =f(WL)\n",
    "ey_interp = fe(WL)\n",
    "\n",
    "\n",
    "#all_pwv = np.arange(0.,10.5,0.5)\n",
    "#NPWV = len(all_pwv)\n",
    "\n",
    "# wavelength bin colors\n",
    "jet = plt.get_cmap('jet')\n",
    "cNorm = colors.Normalize(vmin=0, vmax=NPWV)\n",
    "scalarMap = cmx.ScalarMappable(norm=cNorm, cmap=jet)\n",
    "all_colors = scalarMap.to_rgba(np.arange(NPWV), alpha=1)\n",
    "\n",
    "\n",
    "for ipwv in range(NPWV):\n",
    "    pwv=all_pwv[ipwv]\n",
    "    label_pwv = f\"pwv = {pwv:.1f} mm\"\n",
    "    \n",
    "    # atmsim\n",
    "    x0 = atmsim[0, IDX_SIM_START:]\n",
    "    y0 = atmsim[ifile*NPWV+1 + ipwv  ,IDX_SIM_START:]\n",
    "    \n",
    "    f0_atm = interpolate.interp1d(x0,y0,bounds_error=False,fill_value=\"extrapolate\")\n",
    "    flux_predicted_f = f_sed(WL) * f_thr(WL) * f0_atm(WL) * f_filter_thr(WL)\n",
    "    span = 3\n",
    "    flux_predicted_f_filtered = smooth_data_np_convolve(flux_predicted_f, span)\n",
    "    \n",
    "    \n",
    "    ratio = y_interp/flux_predicted_f_filtered\n",
    "    eratio = ey_interp/flux_predicted_f_filtered\n",
    "    \n",
    "    if ipwv%2 == 0:\n",
    "        ax.errorbar(WL,ratio,yerr=eratio, fmt = '-', color=all_colors[ipwv],capsize = 0.01, ecolor=all_colors[ifile], elinewidth = .01,label=label_pwv)\n",
    "\n",
    "        \n",
    "        \n",
    "ax.grid()\n",
    "ax.set_xlabel(\"$\\lambda$ (nm)\")\n",
    "ax.set_ylabel(\"flux ratio measured/ simulated\")\n",
    "title=f\"Ratio {target} at {SITE} ({DATE}) \" + label_airmass\n",
    "ax.set_title(title,fontsize=20,fontweight='bold')\n",
    "#ax.plot(sed_w,sed_m,'k-',label = 'SED')\n",
    "#ax.plot(WL,sed_predicted_m,color='darkviolet',lw=4,label = \"predicted Flux\")\n",
    "\n",
    "#ax.set_ylim(MAGLIMMIN,MAGLIMMAX)\n",
    "ax.set_xlim(WLMINSEL  , WLMAXSEL  )\n",
    "ax.set_xlim(600,1050)\n",
    "#ax.invert_yaxis()\n",
    "ymin=0.4\n",
    "ymax=1.4\n",
    "ax.set_ylim(ymin,ymax)\n",
    "ax.legend(loc=\"upper right\",ncol=5)\n",
    "\n",
    "plotlines(ax,ypos=ymin)\n",
    "\n",
    "rect=mpl.patches.Rectangle((WLMINSEL,ymin),600-WLMINSEL,ymax,color ='grey',alpha=1)\n",
    "ax.add_patch(rect)\n",
    "\n",
    "# Water vapor band\n",
    "rect=mpl.patches.Rectangle((712,ymin),25,ymax,color ='yellow',alpha=0.2)\n",
    "ax.add_patch(rect)\n",
    "\n",
    "rect=mpl.patches.Rectangle((810,ymin),28,ymax,color ='yellow',alpha=0.2)\n",
    "ax.add_patch(rect)\n",
    "\n",
    "rect=mpl.patches.Rectangle((890,ymin),95,ymax,color ='yellow',alpha=0.2)\n",
    "ax.add_patch(rect)\n",
    "\n",
    "# baseline\n",
    "rect=mpl.patches.Rectangle((660,ymin),18,ymax,color ='green',alpha=0.2)\n",
    "ax.add_patch(rect)\n",
    "\n",
    "rect=mpl.patches.Rectangle((860,ymin),28,ymax,color ='green',alpha=0.2)\n",
    "ax.add_patch(rect)\n",
    "\n",
    "idx_b1   = np.where(np.logical_and(WL>=712,WL<=737))[0]\n",
    "idx_b2   = np.where(np.logical_and(WL>=810,WL<=838))[0]\n",
    "idx_b3  = np.where(np.logical_and(WL>=890,WL<=985))[0]\n",
    "\n",
    "idx_b1b2b3 = np.concatenate((idx_b1, idx_b2,idx_b3), axis=None)\n",
    "\n",
    "# baseline\n",
    "idx_b4   = np.where(np.logical_and(WL>=660,WL<=678))[0]\n",
    "idx_b5   = np.where(np.logical_and(WL>=860,WL<=888))[0]\n",
    "idx_b4b5 = np.union1d(idx_b1,idx_b2)\n",
    "\n",
    "factor = np.median(ratio[idx_b4b5])\n"
   ]
  },
  {
   "cell_type": "code",
   "execution_count": null,
   "metadata": {},
   "outputs": [],
   "source": [
    "def chi2(ifile_data,ipwv):\n",
    "    \"\"\"\n",
    "    Calculate the chi2\n",
    "    \n",
    "    input argument :\n",
    "    \n",
    "    - ifile_data:\n",
    "    - ipwv:\n",
    "     \n",
    "    \n",
    "    \"\"\"\n",
    "    \n",
    "    # extract the data\n",
    "    the_df_data=all_spectra[ifile_data]\n",
    "    \n",
    "    wl_data = the_df_data[\"all_lambdas\"]\n",
    "    fl_data = the_df_data['all_fluxes']/correction_area\n",
    "    efl_data = the_df_data[\"all_fluxes_err\"]/correction_area\n",
    "    \n",
    "    \n",
    "    # atmsim\n",
    "    x0 = atmsim[0, IDX_SIM_START:]\n",
    "    y0 = atmsim[ifile_data*NPWV+1 + ipwv  ,IDX_SIM_START:]\n",
    "    \n",
    "    f0_atm = interpolate.interp1d(x0,y0,bounds_error=False,fill_value=\"extrapolate\")\n",
    "    flux_predicted_f = f_sed(WL) * f_thr(WL) * f0_atm(WL) * f_filter_thr(WL)\n",
    "    span = 3\n",
    "    flux_predicted_f_filtered = smooth_data_np_convolve(flux_predicted_f, span)\n",
    "    \n",
    "    func_sim = interpolate.interp1d(WL,flux_predicted_f_filtered,bounds_error=False,fill_value=\"extrapolate\")\n",
    "    \n",
    "    flux_sim=func_sim(wl_data)\n",
    "    \n",
    "    \n",
    "    ratio = fl_data/flux_sim\n",
    "    eratio = efl_data/flux_sim\n",
    "    \n",
    "    # baseline\n",
    "    idx_b4   = np.where(np.logical_and(wl_data>=660,wl_data<=678))[0]\n",
    "    idx_b5   = np.where(np.logical_and(wl_data>=860,wl_data<=888))[0]\n",
    "    idx_b4b5 = np.union1d(idx_b4,idx_b5)\n",
    "       \n",
    "    factor = np.median(ratio[idx_b4b5])\n",
    "    \n",
    "    idx_b1   = np.where(np.logical_and(wl_data>=712,wl_data<=737))[0]\n",
    "    idx_b2   = np.where(np.logical_and(wl_data>=810,wl_data<=838))[0]\n",
    "    idx_b3   = np.where(np.logical_and(wl_data>=890,wl_data<=985))[0]\n",
    "\n",
    "    idx_b1b2b3 = np.concatenate((idx_b1, idx_b2,idx_b3), axis=None)\n",
    "    \n",
    "    \n",
    "    residuals = ((fl_data -factor*flux_sim)/efl_data)[idx_b1b2b3]\n",
    "    squares = residuals**2\n",
    "    chi2=squares.sum()/(len(squares)-1)\n",
    "    return chi2,residuals\n",
    "    "
   ]
  },
  {
   "cell_type": "code",
   "execution_count": null,
   "metadata": {},
   "outputs": [],
   "source": [
    "all_chi2 = np.zeros(NPWV)\n",
    "all_residuals = []\n",
    "\n",
    "for ipwv in range(NPWV):\n",
    "    results=chi2(ifile,ipwv)\n",
    "    all_chi2[ipwv]=results[0]\n",
    "    all_residuals.append(results[1])\n",
    "    "
   ]
  },
  {
   "cell_type": "code",
   "execution_count": null,
   "metadata": {},
   "outputs": [],
   "source": [
    "plt.plot(all_pwv,all_chi2,'b-o')\n",
    "#plt.xlim(2,6)\n",
    "#plt.ylim(0,20)\n",
    "plt.xlabel(\"pwv (mm)\")\n",
    "plt.ylabel(\"$\\chi^2/NDF$\")\n",
    "title = f\"{ifile}\"\n",
    "plt.title(title)\n",
    "plt.grid()"
   ]
  },
  {
   "cell_type": "code",
   "execution_count": null,
   "metadata": {},
   "outputs": [],
   "source": [
    "ii=0\n",
    "for res in all_residuals:  \n",
    "    plt.plot(res,'+',color=all_colors[ii])\n",
    "    ii+=1\n",
    "plt.grid()"
   ]
  },
  {
   "cell_type": "code",
   "execution_count": null,
   "metadata": {},
   "outputs": [],
   "source": [
    "# wavelength bin colors\n",
    "jet = plt.get_cmap('jet')\n",
    "cNorm = colors.Normalize(vmin=0, vmax=NBSPECTRA)\n",
    "scalarMap = cmx.ScalarMappable(norm=cNorm, cmap=jet)\n",
    "all_colors = scalarMap.to_rgba(np.arange(NBSPECTRA), alpha=1)\n",
    "\n",
    "all_chi2_curves = []\n",
    "all_pwvfitted = []\n",
    "\n",
    "for ifile in range(NBSPECTRA):\n",
    "    chi2_curve = np.zeros(NPWV)\n",
    "  \n",
    "    for ipwv in range(NPWV):\n",
    "        results=chi2(ifile,ipwv)\n",
    "        chi2_curve[ipwv]=results[0]\n",
    "     \n",
    "    idx_chi2min = np.where(chi2_curve == chi2_curve.min())[0][0]    \n",
    "    all_chi2_curves.append(chi2_curve)\n",
    "    all_pwvfitted.append(all_pwv[idx_chi2min])\n",
    "        "
   ]
  },
  {
   "cell_type": "code",
   "execution_count": null,
   "metadata": {},
   "outputs": [],
   "source": [
    "fig=plt.figure(figsize=(16,10))\n",
    "ax=fig.add_subplot(111)\n",
    "\n",
    "for ifile in range(NBSPECTRA):\n",
    "    ax.plot(all_pwv,all_chi2_curves[ifile],'o-',color=all_colors[ifile])\n",
    "    #plt.xlim(2,6)\n",
    "    #plt.ylim(0,20)\n",
    "ax.set_xlabel(\"pwv (mm)\")\n",
    "ax.set_ylabel(\"$\\chi^2/NDF$\")\n",
    "ax.set_ylim(0,30)\n",
    "ax.grid()"
   ]
  },
  {
   "cell_type": "code",
   "execution_count": null,
   "metadata": {},
   "outputs": [],
   "source": [
    "all_datetime = [ Time(str_time).to_datetime() for str_time in infos['dateobs'] ]\n",
    "myFmt = mdates.DateFormatter('%H:%M')\n",
    "ax.xaxis.set_major_formatter(myFmt)\n",
    "\n",
    "fig=plt.figure(figsize=(20,5))\n",
    "ax=fig.add_subplot(111)\n",
    "ax.plot(all_datetime,all_pwvfitted,'bo:')\n",
    "ax.grid()\n",
    "#plt.gcf().autofmt_xdate()\n",
    "ax.xaxis.set_major_formatter(myFmt)\n",
    "ax.xaxis.set_tick_params(rotation=45)\n",
    "ax.set_xlabel(\"time (UTC)\")\n",
    "ax.set_title(f\"Fitted Precipitable Water Vapor  : {DATE}  ({filterdisperser})\")\n",
    "ax.set_ylabel(\"pwv (mm)\")\n",
    "ax2 = ax.twinx() \n",
    "ax2.plot(all_datetime,infos[\"airmass\"].values,'r:')\n",
    "ax2.xaxis.set_major_formatter(myFmt)\n",
    "ax2.xaxis.set_tick_params(rotation=45)\n",
    "ax2.set_xlabel(\"time (UTC)\")\n",
    "ax2.set_ylabel(\"airmass\")\n",
    "ax2.invert_yaxis()"
   ]
  },
  {
   "cell_type": "markdown",
   "metadata": {},
   "source": [
    "# Pair of exposures"
   ]
  },
  {
   "cell_type": "code",
   "execution_count": null,
   "metadata": {},
   "outputs": [],
   "source": [
    "dfpair = FindPairOfExposures(infos)\n",
    "dfpair"
   ]
  },
  {
   "cell_type": "code",
   "execution_count": null,
   "metadata": {},
   "outputs": [],
   "source": [
    "rank=0\n",
    "idx1_pair = int(dfpair.iloc[rank][\"idx1\"])\n",
    "idx2_pair = int(dfpair.iloc[rank][\"idx2\"])\n",
    "spec_pair_1  = all_spectra_interp[idx1_pair]\n",
    "spec_pair_2  = all_spectra_interp[idx2_pair]\n",
    "num1 = int(dfpair.iloc[rank][\"num1\"])\n",
    "num2 = int(dfpair.iloc[rank][\"num2\"])\n",
    "z1 = dfpair.iloc[rank][\"z1\"]\n",
    "z2 = dfpair.iloc[rank][\"z2\"]\n",
    "dt = dfpair.iloc[rank][\"dtime\"]\n",
    "dz = dfpair.iloc[rank][\"zdiff\"]"
   ]
  },
  {
   "cell_type": "code",
   "execution_count": null,
   "metadata": {},
   "outputs": [],
   "source": [
    "ratio_spectra=spec_pair_2/spec_pair_1\n",
    "span=15\n",
    "ratio_spectra_smoo = smooth_data_np_convolve(ratio_spectra, span)\n",
    "label = f\"flux ratio : (#{num2}, z2={z2:.2f})/(#{num1}, z1={z1:.2f}), dt={dt:.1f} hours\""
   ]
  },
  {
   "cell_type": "code",
   "execution_count": null,
   "metadata": {},
   "outputs": [],
   "source": [
    "fig=plt.figure(figsize=(12,6))\n",
    "ax=fig.add_subplot(111)\n",
    "\n",
    "\n",
    "ax.plot(WL,ratio_spectra,\"-\",color=\"grey\",alpha=0)\n",
    "\n",
    "ax.plot(WL,ratio_spectra_smoo,\"r-\",lw=3,label=label) \n",
    "ax.grid()\n",
    "ymin=0.88\n",
    "ymax=1.15\n",
    "ax.set_ylim(ymin,ymax)\n",
    "ax.set_xlim(600,1050)\n",
    "\n",
    "ax.set_xlabel(\"$\\lambda$ (nm)\")\n",
    "ax.set_ylabel(\"ratio\")\n",
    "title=f\"Ratio Spectr end-night/start-night : {target} at {SITE} ({DATE})\"\n",
    "ax.set_title(title)\n",
    "ax.legend(loc='upper right')\n",
    "\n",
    "rect=mpl.patches.Rectangle((600,ymin),20,ymax,color ='grey',alpha=1)\n",
    "ax.add_patch(rect)\n",
    "\n",
    "rect=mpl.patches.Rectangle((1020,ymin),50,ymax,color ='grey',alpha=1)\n",
    "ax.add_patch(rect)\n",
    "\n",
    "# draw abs lines\n",
    "plotlines(ax,ypos=0.9)"
   ]
  },
  {
   "cell_type": "code",
   "execution_count": null,
   "metadata": {},
   "outputs": [],
   "source": [
    "rank=1\n",
    "idx1_pair = int(dfpair.iloc[rank][\"idx1\"])\n",
    "idx2_pair = int(dfpair.iloc[rank][\"idx2\"])\n",
    "spec_pair_1  = all_spectra_interp[idx1_pair]/average_ratio[idx1_pair]\n",
    "spec_pair_2  = all_spectra_interp[idx2_pair]/average_ratio[idx2_pair]\n",
    "\n",
    "#specsim_pair_1 = all_spectra_sim_interp[idx1_pair]\n",
    "#specsim_pair_2 = all_spectra_sim_interp[idx2_pair]\n",
    "\n",
    "z1 = dfpair.iloc[rank][\"z1\"]\n",
    "z2 = dfpair.iloc[rank][\"z2\"]\n",
    "dt = dfpair.iloc[rank][\"dtime\"]\n",
    "dz = dfpair.iloc[rank][\"zdiff\"]\n",
    "num1 = int(dfpair.iloc[rank][\"num1\"])\n",
    "num2 = int(dfpair.iloc[rank][\"num2\"])"
   ]
  },
  {
   "cell_type": "code",
   "execution_count": null,
   "metadata": {},
   "outputs": [],
   "source": [
    "ratio_spectra=spec_pair_2/spec_pair_1\n",
    "#ratio_spectrasim=specsim_pair_2/specsim_pair_1\n",
    "span=15\n",
    "ratio_spectra_smoo = smooth_data_np_convolve(ratio_spectra, span)\n",
    "#ratio_spectrasim_smoo = smooth_data_np_convolve(ratio_spectrasim, span)\n",
    "\n",
    "ax=None\n",
    "fig=plt.figure(figsize=(10,6))\n",
    "plt.plot(WL,ratio_spectra,color=\"grey\",alpha=0)\n",
    "\n",
    "plt.plot(WL,ratio_spectra_smoo,\"r-\",lw=3,label=\"smoothed spectr data\") \n",
    "#plt.plot(WL,ratio_spectrasim_smoo,\"b-\",lw=3,label=\"smoothed spec sim\") \n",
    "plt.grid()\n",
    "plt.legend(loc=\"lower center\")\n",
    "ymin=0.8\n",
    "ymax=1.2\n",
    "plt.ylim(ymin,ymax)\n",
    "plt.xlim(WLMINSEL+span,WLMAXSEL-span)\n",
    "#title = f\"z1={z1:.2f}, z2={z2:.2f}, dt={dt:.1f}\"\n",
    "title=f\"Ratio Obs Spectr different airmasses: {target} at {SITE} ({DATE})\"\n",
    "\n",
    "plt.title(title)\n",
    "\n",
    "textstr = '\\n'.join((\n",
    "    r'$z_1=%.2f$ - (#%.d)' % (z1,num1 ),\n",
    "    r'$z_2=%.2f$ - (#%.d)' % (z2,num2 ),\n",
    "    r'$\\Delta t=%.2f$ hours' % (dt, )))\n",
    "\n",
    "props = dict(boxstyle='round', facecolor='wheat', alpha=0.5)\n",
    "if not ax:\n",
    "    ax = plt.gca()\n",
    "ax.text(0.1, 0.9, textstr, transform=ax.transAxes, fontsize=14,\n",
    "        verticalalignment='top', bbox=props)\n",
    "plotlines(ax,ypos=0.88)\n",
    "\n",
    "rect=mpl.patches.Rectangle((600,ymin),20,ymax,color ='grey',alpha=1)\n",
    "ax.add_patch(rect)\n",
    "\n",
    "rect=mpl.patches.Rectangle((1020,ymin),50,ymax,color ='grey',alpha=1)\n",
    "ax.add_patch(rect)"
   ]
  },
  {
   "cell_type": "code",
   "execution_count": null,
   "metadata": {},
   "outputs": [],
   "source": [
    "all_smoothed_ratios_data = []\n",
    "#all_smoothed_ratios_sim = []\n",
    "all_dt = []\n",
    "all_labels=[]\n",
    "\n",
    "\n",
    "\n",
    "for irank in range(len(dfpair)):\n",
    "    fig=plt.figure(figsize=(12,8))\n",
    "    ax=fig.add_subplot(111)\n",
    "    \n",
    "    idx1_pair = int(dfpair.iloc[irank][\"idx1\"])\n",
    "    idx2_pair = int(dfpair.iloc[irank][\"idx2\"])\n",
    "    spec_pair_1  = all_spectra_interp[idx1_pair]/average_ratio[idx1_pair]\n",
    "    spec_pair_2  = all_spectra_interp[idx2_pair]/average_ratio[idx2_pair]\n",
    "    #specsim_pair_1 = all_spectra_sim_interp[idx1_pair]\n",
    "    #specsim_pair_2 = all_spectra_sim_interp[idx2_pair]\n",
    "    z1 = dfpair.iloc[irank][\"z1\"]\n",
    "    z2 = dfpair.iloc[irank][\"z2\"]\n",
    "    dt = dfpair.iloc[irank][\"dtime\"]\n",
    "    num1 = int(dfpair.iloc[irank][\"num1\"])\n",
    "    num2 = int(dfpair.iloc[irank][\"num2\"])\n",
    "    \n",
    "    ratio_spectra=spec_pair_2/spec_pair_1\n",
    "    #ratio_spectrasim=specsim_pair_2/specsim_pair_1\n",
    "    span=15\n",
    "    ratio_spectra_smoo = smooth_data_np_convolve(ratio_spectra, span)\n",
    "    all_smoothed_ratios_data.append(ratio_spectra_smoo)\n",
    "    all_dt.append(dt) \n",
    "    \n",
    "    #ratio_spectrasim_smoo = smooth_data_np_convolve(ratio_spectrasim, span)\n",
    "    ax.plot(WL,ratio_spectra,color=\"grey\",alpha=0)\n",
    "    ax.plot(WL,ratio_spectra_smoo,\"r-\",lw=3,label=\"smoothed spectr-ratio data : spec2/spec1\") \n",
    "    #ax.plot(WL,ratio_spectrasim_smoo,\"b-\",lw=3,label=\"smoothed spectr-ratio sim (no aerosol)\") \n",
    "    ax.grid()\n",
    "    ax.legend(loc='lower center')\n",
    "    ymin=0.85\n",
    "    ymax=1.15\n",
    "    yscale=ymax-ymin\n",
    "    ax.set_ylim(ymin,ymax)\n",
    "    ax.set_xlim(WLMINSEL+span,WLMAXSEL-span)\n",
    "    title = f\"z1={z1:.2f}, z2={z2:.2f}, dt={dt:.1f}\"\n",
    "    title=f\"Ratio Obs Spectr different airmasses: {target} at {SITE} ({DATE})\"\n",
    "    \n",
    "    textstr = '\\n'.join((\n",
    "    r'$z_1=%.2f$ - (#%.d)' % (z1,num1 ),\n",
    "    r'$z_2=%.2f$ - (#%.d)' % (z2,num2 ),\n",
    "    r'$\\Delta t=%.2f$ hours' % (dt, )))\n",
    "    \n",
    "    label = f\"$z_2$={z2:.2f} / $z_1$={z1:.2f} $\\delta$t={dt:.2f}h\"\n",
    "    all_labels.append(label)\n",
    "    \n",
    "    ax.set_title(title)\n",
    "    props = dict(boxstyle='round', facecolor='wheat', alpha=0.5)\n",
    "    ax.text(0.1, 0.9, textstr, transform=ax.transAxes, fontsize=14,\n",
    "        verticalalignment='top', bbox=props)\n",
    "    \n",
    "    plotlines(ax,ypos=ymin+yscale/8)\n",
    "    \n",
    "    rect=mpl.patches.Rectangle((WLMINSEL,ymin),100,ymax,color ='grey',alpha=1)\n",
    "    ax.add_patch(rect)\n",
    "\n",
    "    rect=mpl.patches.Rectangle((1000,ymin),WLMAXSEL-1000,ymax,color ='grey',alpha=1)\n",
    "    ax.add_patch(rect)\n",
    "    \n",
    "    ax.set_xlim(600,1050)\n",
    "    ax.set_xlabel(\"$\\lambda$ (nm)\")\n",
    "    ax.set_ylabel(\"ratio\")\n",
    "    \n",
    "    plt.show()\n",
    "    \n",
    "    "
   ]
  },
  {
   "cell_type": "code",
   "execution_count": null,
   "metadata": {},
   "outputs": [],
   "source": [
    "#all_smoothed_ratios_data \n",
    "#all_smoothed_ratios_sim \n",
    "all_dt=np.array(all_dt)\n",
    "N=len(all_dt)\n",
    "\n",
    "# wavelength bin colors\n",
    "jet = plt.get_cmap('jet')\n",
    "cNorm = colors.Normalize(vmin=all_dt.min(), vmax=all_dt.max())\n",
    "scalarMap = cmx.ScalarMappable(norm=cNorm, cmap=jet)\n",
    "#all_colors = scalarMap.to_rgba(np.arange(N), alpha=1)\n",
    "\n",
    "fig=plt.figure(figsize=(16,8))\n",
    "ax=fig.add_subplot(111)\n",
    "\n",
    "for idx in range(N):\n",
    "    the_color = scalarMap.to_rgba(all_dt[idx], alpha=1)\n",
    "    dt=all_dt[idx]\n",
    "    ax.plot(WL,all_smoothed_ratios_data[idx],\"-\",color=the_color,lw=3,label=all_labels[idx]) \n",
    "    #ax.plot(WL,all_smoothed_ratios_sim[idx] ,\"-\",color=the_color) \n",
    "ax.grid()\n",
    "ax.set_ylim(ymin,ymax)\n",
    "ax.set_xlim(600,1000)\n",
    "ax.set_xlabel(\"$\\lambda$ (nm)\")\n",
    "ax.set_ylabel(\"ratio\")\n",
    "ax.legend(ncol=3)\n",
    "\n",
    "rect=mpl.patches.Rectangle((WLMINSEL,ymin),100,ymax,color ='grey',alpha=1)\n",
    "ax.add_patch(rect)\n",
    "\n",
    "rect=mpl.patches.Rectangle((1000,ymin),WLMAXSEL-1000,ymax,color ='grey',alpha=1)\n",
    "ax.add_patch(rect)\n",
    "\n",
    "plotlines(ax,ypos=ymin+yscale/8)\n",
    "title=f\"Ratio : {target} at {SITE} ({DATE}), {filterdisperser}, spectractor:{spectractormode}\"\n",
    "ax.set_title(title)"
   ]
  },
  {
   "cell_type": "code",
   "execution_count": null,
   "metadata": {},
   "outputs": [],
   "source": []
  }
 ],
 "metadata": {
  "kernelspec": {
   "display_name": "LSST",
   "language": "python",
   "name": "lsst"
  },
  "language_info": {
   "codemirror_mode": {
    "name": "ipython",
    "version": 3
   },
   "file_extension": ".py",
   "mimetype": "text/x-python",
   "name": "python",
   "nbconvert_exporter": "python",
   "pygments_lexer": "ipython3",
   "version": "3.10.8"
  },
  "toc": {
   "base_numbering": 1,
   "nav_menu": {},
   "number_sections": true,
   "sideBar": true,
   "skip_h1_title": false,
   "title_cell": "Table of Contents",
   "title_sidebar": "Contents",
   "toc_cell": false,
   "toc_position": {},
   "toc_section_display": true,
   "toc_window_display": false
  }
 },
 "nbformat": 4,
 "nbformat_minor": 4
}
