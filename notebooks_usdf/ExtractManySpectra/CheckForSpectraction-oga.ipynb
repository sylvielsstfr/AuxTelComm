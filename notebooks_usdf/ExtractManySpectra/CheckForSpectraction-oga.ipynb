{
 "cells": [
  {
   "cell_type": "markdown",
   "id": "0b8c2138-5194-4d03-8b77-be24e2cc8ee3",
   "metadata": {},
   "source": [
    "# Query for Spectraction Results in OGA"
   ]
  },
  {
   "cell_type": "markdown",
   "id": "740e34fb-3fef-45a8-941b-c229742ab016",
   "metadata": {},
   "source": [
    " work with Weakly_2023_01\n",
    "- use jupyter kernel LSST\n",
    "\n",
    "\n",
    "- author : Sylvie Dagoret-Campagne\n",
    "- affiliation : IJCLab\n",
    "- creation date : 2022/10/31\n",
    "- last update : 2023/01/12\n"
   ]
  },
  {
   "cell_type": "code",
   "execution_count": 1,
   "id": "ed2c3410-fe83-432e-ab87-9f4513fa8d8b",
   "metadata": {
    "execution": {
     "iopub.execute_input": "2023-01-12T12:55:55.597288Z",
     "iopub.status.busy": "2023-01-12T12:55:55.597105Z",
     "iopub.status.idle": "2023-01-12T12:55:56.060875Z",
     "shell.execute_reply": "2023-01-12T12:55:56.060093Z",
     "shell.execute_reply.started": "2023-01-12T12:55:55.597271Z"
    }
   },
   "outputs": [
    {
     "name": "stdout",
     "output_type": "stream",
     "text": [
      "atmospec              LOCAL:/home/d/dagoret/repos/repos_w_2023_01/atmospec \tsetup\n",
      "eups                  LOCAL:/opt/lsst/software/stack/conda/miniconda3-py38_4.9.2/envs/lsst-scipipe-5.1.0/eups \tsetup\n",
      "spectractor           LOCAL:/home/d/dagoret/repos/repos_w_2023_01/Spectractor \tsetup\n"
     ]
    }
   ],
   "source": [
    "! eups list -s | grep LOCAL"
   ]
  },
  {
   "cell_type": "code",
   "execution_count": 2,
   "id": "70918d81-0cf6-4b0a-8f61-f5e5bec5b0e7",
   "metadata": {
    "execution": {
     "iopub.execute_input": "2023-01-12T12:55:56.062056Z",
     "iopub.status.busy": "2023-01-12T12:55:56.061850Z",
     "iopub.status.idle": "2023-01-12T12:55:56.502236Z",
     "shell.execute_reply": "2023-01-12T12:55:56.501459Z",
     "shell.execute_reply.started": "2023-01-12T12:55:56.062036Z"
    }
   },
   "outputs": [
    {
     "name": "stdout",
     "output_type": "stream",
     "text": [
      "   g754a7f0350+935911ccad \tcurrent w_2023_01 setup\n"
     ]
    }
   ],
   "source": [
    "! eups list -s lsst_distrib"
   ]
  },
  {
   "cell_type": "code",
   "execution_count": 3,
   "id": "f8d9cfca-5881-48c1-b2cb-0f794a2e4091",
   "metadata": {
    "execution": {
     "iopub.execute_input": "2023-01-12T12:55:56.503467Z",
     "iopub.status.busy": "2023-01-12T12:55:56.503214Z",
     "iopub.status.idle": "2023-01-12T12:55:56.856501Z",
     "shell.execute_reply": "2023-01-12T12:55:56.855898Z",
     "shell.execute_reply.started": "2023-01-12T12:55:56.503448Z"
    }
   },
   "outputs": [],
   "source": [
    "import lsst.daf.butler as dafButler\n",
    "#import lsst.summit.utils.butlerUtils as butlerUtils"
   ]
  },
  {
   "cell_type": "code",
   "execution_count": 4,
   "id": "1ceacda9-20b0-4d77-a0d2-572c957ce273",
   "metadata": {
    "execution": {
     "iopub.execute_input": "2023-01-12T12:55:56.857670Z",
     "iopub.status.busy": "2023-01-12T12:55:56.857341Z",
     "iopub.status.idle": "2023-01-12T12:55:57.220556Z",
     "shell.execute_reply": "2023-01-12T12:55:57.219964Z",
     "shell.execute_reply.started": "2023-01-12T12:55:56.857651Z"
    }
   },
   "outputs": [],
   "source": [
    "import numpy as np\n",
    "import matplotlib.pyplot as plt\n",
    "%matplotlib inline\n",
    "from mpl_toolkits.axes_grid1 import make_axes_locatable\n",
    "from matplotlib.colors import LogNorm\n",
    "import pandas as pd\n",
    "\n",
    "import matplotlib.ticker                         # here's where the formatter is\n",
    "import os\n",
    "import re\n",
    "import pandas as pd\n",
    "\n",
    "plt.rcParams[\"figure.figsize\"] = (4,3)\n",
    "plt.rcParams[\"axes.labelsize\"] = 'xx-large'\n",
    "plt.rcParams['axes.titlesize'] = 'xx-large'\n",
    "plt.rcParams['xtick.labelsize']= 'xx-large'\n",
    "plt.rcParams['ytick.labelsize']= 'xx-large'"
   ]
  },
  {
   "cell_type": "code",
   "execution_count": 5,
   "id": "769e12e6-917d-4722-8c1e-f965f13a8c64",
   "metadata": {
    "execution": {
     "iopub.execute_input": "2023-01-12T12:55:57.221811Z",
     "iopub.status.busy": "2023-01-12T12:55:57.221374Z",
     "iopub.status.idle": "2023-01-12T12:55:57.224481Z",
     "shell.execute_reply": "2023-01-12T12:55:57.223975Z",
     "shell.execute_reply.started": "2023-01-12T12:55:57.221792Z"
    }
   },
   "outputs": [],
   "source": [
    "import pickle"
   ]
  },
  {
   "cell_type": "code",
   "execution_count": 6,
   "id": "75e20c79-7729-459b-a5e0-78d8de0c4d71",
   "metadata": {
    "execution": {
     "iopub.execute_input": "2023-01-12T12:55:57.225398Z",
     "iopub.status.busy": "2023-01-12T12:55:57.225148Z",
     "iopub.status.idle": "2023-01-12T12:55:57.230299Z",
     "shell.execute_reply": "2023-01-12T12:55:57.229823Z",
     "shell.execute_reply.started": "2023-01-12T12:55:57.225381Z"
    }
   },
   "outputs": [],
   "source": [
    "from astropy.time import Time\n",
    "import astropy.units as u"
   ]
  },
  {
   "cell_type": "markdown",
   "id": "c7e637b3-244b-4df3-9db2-3819e6321141",
   "metadata": {},
   "source": [
    "## Config"
   ]
  },
  {
   "cell_type": "markdown",
   "id": "f311bc61-5eb2-40b2-ab20-8241ea599037",
   "metadata": {},
   "source": [
    "### Butler"
   ]
  },
  {
   "cell_type": "code",
   "execution_count": 7,
   "id": "1c81d99a-5e91-4ba1-ba4a-c66b37905b98",
   "metadata": {
    "execution": {
     "iopub.execute_input": "2023-01-12T12:55:57.231114Z",
     "iopub.status.busy": "2023-01-12T12:55:57.230923Z",
     "iopub.status.idle": "2023-01-12T12:55:58.190901Z",
     "shell.execute_reply": "2023-01-12T12:55:58.190278Z",
     "shell.execute_reply.started": "2023-01-12T12:55:57.231098Z"
    }
   },
   "outputs": [],
   "source": [
    "#repo =  \"/sdf/group/rubin/repo/main\"\n",
    "repo = \"/sdf/group/rubin/repo/oga/\"\n",
    "butler = dafButler.Butler(repo)\n",
    "registry = butler.registry"
   ]
  },
  {
   "cell_type": "markdown",
   "id": "7fa31e20-40fb-498d-ad80-90ee20f619cd",
   "metadata": {},
   "source": [
    "### Date & Filter & Disperser"
   ]
  },
  {
   "cell_type": "code",
   "execution_count": 8,
   "id": "c1ffbd47-4cc9-4ef1-ab1c-6f477b8139bb",
   "metadata": {
    "execution": {
     "iopub.execute_input": "2023-01-12T12:55:58.191921Z",
     "iopub.status.busy": "2023-01-12T12:55:58.191694Z",
     "iopub.status.idle": "2023-01-12T12:55:58.194569Z",
     "shell.execute_reply": "2023-01-12T12:55:58.194094Z",
     "shell.execute_reply.started": "2023-01-12T12:55:58.191902Z"
    }
   },
   "outputs": [],
   "source": [
    "# path index for each month\n",
    "#DATE=\"20220912\"\n",
    "#DATE=\"20220913\"\n",
    "DATE=\"20221207\"\n",
    "filterdispersername = \"empty~holo4_003\"\n",
    "#filterdispersername = \"BG40~holo4_003\"\n",
    "#filterdispersername = \"FELH0600~holo4_003\""
   ]
  },
  {
   "cell_type": "markdown",
   "id": "c30cd39d-0677-43f7-b043-c0b9ae126c73",
   "metadata": {},
   "source": [
    "### Spectractor"
   ]
  },
  {
   "cell_type": "code",
   "execution_count": 9,
   "id": "1dc181f4-d44a-48c4-8e8a-86c35c0dcc98",
   "metadata": {
    "execution": {
     "iopub.execute_input": "2023-01-12T12:55:58.195412Z",
     "iopub.status.busy": "2023-01-12T12:55:58.195216Z",
     "iopub.status.idle": "2023-01-12T12:55:58.200338Z",
     "shell.execute_reply": "2023-01-12T12:55:58.199873Z",
     "shell.execute_reply.started": "2023-01-12T12:55:58.195397Z"
    }
   },
   "outputs": [],
   "source": [
    "configmode = \"PSF2DFFM\""
   ]
  },
  {
   "cell_type": "markdown",
   "id": "20dbb8da-3a08-4b4f-9437-4bf7f28c1782",
   "metadata": {},
   "source": [
    "### The collection"
   ]
  },
  {
   "cell_type": "code",
   "execution_count": 10,
   "id": "9629ea29-8ab4-4062-aed1-e16d62dc90c4",
   "metadata": {
    "execution": {
     "iopub.execute_input": "2023-01-12T12:55:58.201147Z",
     "iopub.status.busy": "2023-01-12T12:55:58.200954Z",
     "iopub.status.idle": "2023-01-12T12:55:58.229428Z",
     "shell.execute_reply": "2023-01-12T12:55:58.228922Z",
     "shell.execute_reply.started": "2023-01-12T12:55:58.201132Z"
    }
   },
   "outputs": [],
   "source": [
    "#my_collection = \"u/dagoret/spectro/noflat/empty~holo4/\"+str(DATE)\n",
    "my_collection = \"u/dagoret/BPS_manyspectro_v0\" # january 12th 2023\n",
    "datasetRefs = registry.queryDatasets(datasetType='spectraction', collections=my_collection, where= \"instrument='LATISS'\")"
   ]
  },
  {
   "cell_type": "code",
   "execution_count": 11,
   "id": "2f008879-ecc4-4b86-9b24-0641fb4301cd",
   "metadata": {
    "execution": {
     "iopub.execute_input": "2023-01-12T12:55:58.230358Z",
     "iopub.status.busy": "2023-01-12T12:55:58.230135Z",
     "iopub.status.idle": "2023-01-12T12:55:58.232711Z",
     "shell.execute_reply": "2023-01-12T12:55:58.232237Z",
     "shell.execute_reply.started": "2023-01-12T12:55:58.230340Z"
    }
   },
   "outputs": [],
   "source": [
    "# following line not possible in OGA\n",
    "#butler = butlerUtils.makeDefaultLatissButler(extraCollections=[my_collection])"
   ]
  },
  {
   "cell_type": "markdown",
   "id": "432e82a4-5617-48b3-a5bb-1f2c550c8525",
   "metadata": {},
   "source": [
    "## Loop on exposures"
   ]
  },
  {
   "cell_type": "code",
   "execution_count": 12,
   "id": "979b03d5-e54c-4d21-a848-98b820df1d16",
   "metadata": {
    "execution": {
     "iopub.execute_input": "2023-01-12T12:55:58.233605Z",
     "iopub.status.busy": "2023-01-12T12:55:58.233349Z",
     "iopub.status.idle": "2023-01-12T12:56:14.500529Z",
     "shell.execute_reply": "2023-01-12T12:56:14.499999Z",
     "shell.execute_reply.started": "2023-01-12T12:55:58.233589Z"
    }
   },
   "outputs": [
    {
     "name": "stdout",
     "output_type": "stream",
     "text": [
      "============= (0) ============datasetType = spectraction ============================================\n",
      "fullId..................: {band: 'white', instrument: 'LATISS', detector: 0, physical_filter: 'empty~holo4_003', visit: 2022120800269}\n",
      "visit...................: 2022120800269\n",
      "band....................: white\n",
      "physical filter.........: empty~holo4_003\n",
      "run.....................: u/dagoret/BPS_manyspectro_v0/20230112T090722Z\n",
      "{'day_obs': 20221208, 'seq_num': 269, 'detector': 0}\n",
      "============= (1) ============datasetType = spectraction ============================================\n",
      "fullId..................: {band: 'white', instrument: 'LATISS', detector: 0, physical_filter: 'empty~holo4_003', visit: 2022120800116}\n",
      "visit...................: 2022120800116\n",
      "band....................: white\n",
      "physical filter.........: empty~holo4_003\n",
      "run.....................: u/dagoret/BPS_manyspectro_v0/20230112T090722Z\n",
      "{'day_obs': 20221208, 'seq_num': 116, 'detector': 0}\n",
      "============= (2) ============datasetType = spectraction ============================================\n",
      "fullId..................: {band: 'white', instrument: 'LATISS', detector: 0, physical_filter: 'empty~holo4_003', visit: 2022120800224}\n",
      "visit...................: 2022120800224\n",
      "band....................: white\n",
      "physical filter.........: empty~holo4_003\n",
      "run.....................: u/dagoret/BPS_manyspectro_v0/20230112T090722Z\n",
      "{'day_obs': 20221208, 'seq_num': 224, 'detector': 0}\n",
      "============= (3) ============datasetType = spectraction ============================================\n",
      "fullId..................: {band: 'white', instrument: 'LATISS', detector: 0, physical_filter: 'empty~holo4_003', visit: 2022120800042}\n",
      "visit...................: 2022120800042\n",
      "band....................: white\n",
      "physical filter.........: empty~holo4_003\n",
      "run.....................: u/dagoret/BPS_manyspectro_v0/20230112T090722Z\n",
      "{'day_obs': 20221208, 'seq_num': 42, 'detector': 0}\n",
      "============= (4) ============datasetType = spectraction ============================================\n",
      "fullId..................: {band: 'white', instrument: 'LATISS', detector: 0, physical_filter: 'empty~holo4_003', visit: 2022120800158}\n",
      "visit...................: 2022120800158\n",
      "band....................: white\n",
      "physical filter.........: empty~holo4_003\n",
      "run.....................: u/dagoret/BPS_manyspectro_v0/20230112T090722Z\n",
      "{'day_obs': 20221208, 'seq_num': 158, 'detector': 0}\n",
      "============= (5) ============datasetType = spectraction ============================================\n",
      "fullId..................: {band: 'white', instrument: 'LATISS', detector: 0, physical_filter: 'empty~holo4_003', visit: 2022120800168}\n",
      "visit...................: 2022120800168\n",
      "band....................: white\n",
      "physical filter.........: empty~holo4_003\n",
      "run.....................: u/dagoret/BPS_manyspectro_v0/20230112T090722Z\n",
      "{'day_obs': 20221208, 'seq_num': 168, 'detector': 0}\n",
      "============= (6) ============datasetType = spectraction ============================================\n",
      "fullId..................: {band: 'white', instrument: 'LATISS', detector: 0, physical_filter: 'empty~holo4_003', visit: 2022120800268}\n",
      "visit...................: 2022120800268\n",
      "band....................: white\n",
      "physical filter.........: empty~holo4_003\n",
      "run.....................: u/dagoret/BPS_manyspectro_v0/20230112T090722Z\n",
      "{'day_obs': 20221208, 'seq_num': 268, 'detector': 0}\n",
      "============= (7) ============datasetType = spectraction ============================================\n",
      "fullId..................: {band: 'white', instrument: 'LATISS', detector: 0, physical_filter: 'empty~holo4_003', visit: 2022120800049}\n",
      "visit...................: 2022120800049\n",
      "band....................: white\n",
      "physical filter.........: empty~holo4_003\n",
      "run.....................: u/dagoret/BPS_manyspectro_v0/20230112T090722Z\n",
      "{'day_obs': 20221208, 'seq_num': 49, 'detector': 0}\n",
      "============= (8) ============datasetType = spectraction ============================================\n",
      "fullId..................: {band: 'white', instrument: 'LATISS', detector: 0, physical_filter: 'empty~holo4_003', visit: 2022120800141}\n",
      "visit...................: 2022120800141\n",
      "band....................: white\n",
      "physical filter.........: empty~holo4_003\n",
      "run.....................: u/dagoret/BPS_manyspectro_v0/20230112T090722Z\n",
      "{'day_obs': 20221208, 'seq_num': 141, 'detector': 0}\n",
      "============= (9) ============datasetType = spectraction ============================================\n",
      "fullId..................: {band: 'white', instrument: 'LATISS', detector: 0, physical_filter: 'empty~holo4_003', visit: 2022120800105}\n",
      "visit...................: 2022120800105\n",
      "band....................: white\n",
      "physical filter.........: empty~holo4_003\n",
      "run.....................: u/dagoret/BPS_manyspectro_v0/20230112T090722Z\n",
      "{'day_obs': 20221208, 'seq_num': 105, 'detector': 0}\n",
      "============= (10) ============datasetType = spectraction ============================================\n",
      "fullId..................: {band: 'white', instrument: 'LATISS', detector: 0, physical_filter: 'empty~holo4_003', visit: 2022120800167}\n",
      "visit...................: 2022120800167\n",
      "band....................: white\n",
      "physical filter.........: empty~holo4_003\n",
      "run.....................: u/dagoret/BPS_manyspectro_v0/20230112T090722Z\n",
      "{'day_obs': 20221208, 'seq_num': 167, 'detector': 0}\n",
      "============= (11) ============datasetType = spectraction ============================================\n",
      "fullId..................: {band: 'white', instrument: 'LATISS', detector: 0, physical_filter: 'empty~holo4_003', visit: 2022120800215}\n",
      "visit...................: 2022120800215\n",
      "band....................: white\n",
      "physical filter.........: empty~holo4_003\n",
      "run.....................: u/dagoret/BPS_manyspectro_v0/20230112T090722Z\n",
      "{'day_obs': 20221208, 'seq_num': 215, 'detector': 0}\n"
     ]
    }
   ],
   "source": [
    "all_dataId = []     # full data id\n",
    "all_spec = []       # spectra\n",
    "all_exposures = []  # exposure number\n",
    "all_num = []        # sequence numbers\n",
    "\n",
    "\n",
    "\n",
    "for i, ref in enumerate(datasetRefs):\n",
    "\n",
    "    print(f\"============= ({i}) ============datasetType = spectraction ============================================\")\n",
    "    print(\"fullId..................:\",ref.dataId.full)\n",
    "    print(\"visit...................:\",ref.dataId[\"visit\"])\n",
    "    print(\"band....................:\",ref.dataId[\"band\"])\n",
    "    print(\"physical filter.........:\",ref.dataId[\"physical_filter\"])\n",
    "    print(\"run.....................:\",ref.run)\n",
    "    the_exposure = ref.dataId[\"visit\"]\n",
    "    the_day_obs = ref.dataId[\"visit\"]//100_000\n",
    "    the_seq_num = ref.dataId[\"visit\"]- the_day_obs*100_000    \n",
    "    the_dataId = {'day_obs': the_day_obs,'seq_num':the_seq_num,'detector':0}\n",
    "    print(the_dataId)\n",
    "    \n",
    "    # retrieve the spectrum from Butler\n",
    "    #spec       = butler.get('spectraction',the_dataId)\n",
    "    spec = butler.get('spectraction', visit=the_exposure, detector=0, collections=my_collection, instrument='LATISS')\n",
    "    \n",
    "    # save in collection lists\n",
    "    all_dataId.append(the_dataId) \n",
    "    all_exposures.append(the_exposure)\n",
    "    all_spec.append(spec)\n",
    "    all_num.append(the_seq_num)\n",
    "    if i > 10:\n",
    "        break"
   ]
  },
  {
   "cell_type": "markdown",
   "id": "f26b3f62-34f7-4cbd-bad4-c48be4e07ed9",
   "metadata": {},
   "source": [
    "## Plot"
   ]
  },
  {
   "cell_type": "code",
   "execution_count": 13,
   "id": "4fea39ba-2f11-4a8a-9248-c37ce3e7c0f4",
   "metadata": {
    "execution": {
     "iopub.execute_input": "2023-01-12T12:56:14.501512Z",
     "iopub.status.busy": "2023-01-12T12:56:14.501331Z",
     "iopub.status.idle": "2023-01-12T12:56:19.265616Z",
     "shell.execute_reply": "2023-01-12T12:56:19.265094Z",
     "shell.execute_reply.started": "2023-01-12T12:56:14.501494Z"
    },
    "tags": []
   },
   "outputs": [],
   "source": [
    "FLAG_ORDER2 = False\n",
    "\n",
    "infos = []\n",
    "all_lambdas=[]\n",
    "all_data=[]\n",
    "all_data_err=[]\n",
    "\n",
    "if FLAG_ORDER2:\n",
    "    all_lambdas_order2=[]\n",
    "    all_data_order2=[]\n",
    "    all_data_err_order2=[]\n",
    "\n",
    "\n",
    "idx=0\n",
    "for spec in all_spec:\n",
    "    \n",
    "    fig=plt.figure(figsize=(16,4))\n",
    "    \n",
    "    s=spec.spectrum\n",
    "    label = str(idx) +\"):\" + str(all_exposures[idx])\n",
    "    \n",
    "    ax1 = fig.add_subplot(1, 2, 1)\n",
    "    s.plot_spectrum(ax=ax1,force_lines=True,label=label)\n",
    "    \n",
    "    ax2 = fig.add_subplot(1, 2, 2)\n",
    "    s.plot_spectrogram(ax=ax2,scale=\"log\")\n",
    "    \n",
    "    all_lambdas.append(s.lambdas)\n",
    "    all_data.append(s.data)\n",
    "    all_data_err.append(s.err)\n",
    "    \n",
    "    if FLAG_ORDER2:\n",
    "        all_lambdas_order2.append(s.lambdas_order2)\n",
    "        all_data_order2.append(s.data_order2)\n",
    "        all_data_err_order2.append(s.err_order2)\n",
    "        \n",
    "    infos.append([idx,s.target.label,s.date_obs,s.airmass,s.temperature,s.pressure,s.humidity])\n",
    "    idx+=1"
   ]
  },
  {
   "cell_type": "code",
   "execution_count": 14,
   "id": "01d312e1-40ae-460b-aaa2-110bdf5b6386",
   "metadata": {
    "execution": {
     "iopub.execute_input": "2023-01-12T12:56:19.266663Z",
     "iopub.status.busy": "2023-01-12T12:56:19.266342Z",
     "iopub.status.idle": "2023-01-12T12:56:19.272132Z",
     "shell.execute_reply": "2023-01-12T12:56:19.271711Z",
     "shell.execute_reply.started": "2023-01-12T12:56:19.266644Z"
    },
    "tags": []
   },
   "outputs": [
    {
     "data": {
      "text/plain": [
       "[[0, 'HD031128', '2022-12-09T03:49:54.625008542Z', 1.01045495027533, 0, 0, 0],\n",
       " [1, 'HD37962', '2022-12-09T02:01:33.588500419Z', 1.32181931435589, 0, 0, 0],\n",
       " [2, 'HD37962', '2022-12-09T03:15:34.256996353Z', 1.10551273278627, 0, 0, 0],\n",
       " [3, 'HD185975', '2022-12-09T01:04:11.342996723Z', 1.93628245609964, 0, 0, 0],\n",
       " [4, 'HD009051', '2022-12-09T02:33:16.154991888Z', 1.07192473453497, 0, 0, 0],\n",
       " [5, 'HD009051', '2022-12-09T02:39:19.663005039Z', 1.08159458366226, 0, 0, 0],\n",
       " [6, 'HD031128', '2022-12-09T03:49:24.033004707Z', 1.01061332768353, 0, 0, 0],\n",
       " [7, 'HD200654', '2022-12-09T01:08:23.281998723Z', 1.65427284634811, 0, 0, 0],\n",
       " [8, 'HD185975', '2022-12-09T02:20:24.959498190Z', 1.98539823658165, 0, 0, 0],\n",
       " [9, 'HD38949', '2022-12-09T01:56:02.339505700Z', 1.42536181453182, 0, 0, 0],\n",
       " [10, 'HD009051', '2022-12-09T02:39:01.845495311Z', 1.08110246037752, 0, 0, 0],\n",
       " [11, 'HD38949', '2022-12-09T03:10:58.078502228Z', 1.14680972479329, 0, 0, 0]]"
      ]
     },
     "execution_count": 14,
     "metadata": {},
     "output_type": "execute_result"
    }
   ],
   "source": [
    "infos"
   ]
  },
  {
   "cell_type": "code",
   "execution_count": 15,
   "id": "fa57e6ad-6c17-491e-b120-cf1da3fce9e4",
   "metadata": {
    "execution": {
     "iopub.execute_input": "2023-01-12T12:56:19.272999Z",
     "iopub.status.busy": "2023-01-12T12:56:19.272719Z",
     "iopub.status.idle": "2023-01-12T12:56:19.280454Z",
     "shell.execute_reply": "2023-01-12T12:56:19.280057Z",
     "shell.execute_reply.started": "2023-01-12T12:56:19.272981Z"
    },
    "tags": []
   },
   "outputs": [
    {
     "data": {
      "text/plain": [
       "[array([ 299.23624112,  299.9462698 ,  300.65628776, ..., 1096.80411941,\n",
       "        1097.48563411, 1098.16711066]),\n",
       " array([ 299.50212437,  300.21213808,  300.92214047, ..., 1096.98297554,\n",
       "        1097.66440448, 1098.34579528]),\n",
       " array([ 299.30875183,  300.01881597,  300.72886895, ..., 1097.54791186,\n",
       "        1098.22937216, 1098.91079428]),\n",
       " array([ 299.16979844,  299.88003779,  300.59026435, ..., 1097.42127788,\n",
       "        1098.10272528, 1098.7841345 ]),\n",
       " array([ 299.39499506,  300.10519245,  300.81537884, ..., 1097.79753971,\n",
       "        1098.47913423, 1099.16069055]),\n",
       " array([ 298.85177232,  299.56203334,  300.27228338, ..., 1096.65262817,\n",
       "        1097.33433755, 1098.01600876]),\n",
       " array([ 298.62977364,  299.3405441 ,  300.05130397, ..., 1097.04028909,\n",
       "        1097.7225092 , 1098.40469106]),\n",
       " array([ 298.96535432,  299.67565296,  300.38593865, ..., 1097.26853503,\n",
       "        1097.95002642, 1098.63147964]),\n",
       " array([ 298.97856632,  299.68925585,  300.39992981, ..., 1097.41950221,\n",
       "        1098.10106444, 1098.78258848]),\n",
       " array([ 299.33290154,  300.04289983,  300.75288639, ..., 1096.75243845,\n",
       "        1097.43381372, 1098.11515084]),\n",
       " array([ 298.95140403,  299.66159242,  300.37176978, ..., 1097.34757303,\n",
       "        1098.02917072, 1098.71073024]),\n",
       " array([ 299.33729118,  300.04736315,  300.75742402, ..., 1097.59089536,\n",
       "        1098.27236782, 1098.9538021 ])]"
      ]
     },
     "execution_count": 15,
     "metadata": {},
     "output_type": "execute_result"
    }
   ],
   "source": [
    "all_lambdas"
   ]
  },
  {
   "cell_type": "code",
   "execution_count": 16,
   "id": "d23a7558-0d75-4bbe-be69-0abebd8108d8",
   "metadata": {
    "execution": {
     "iopub.execute_input": "2023-01-12T12:56:19.281310Z",
     "iopub.status.busy": "2023-01-12T12:56:19.281024Z",
     "iopub.status.idle": "2023-01-12T12:56:20.969641Z",
     "shell.execute_reply": "2023-01-12T12:56:20.969129Z",
     "shell.execute_reply.started": "2023-01-12T12:56:19.281294Z"
    },
    "tags": []
   },
   "outputs": [
    {
     "data": {
      "text/plain": [
       "<matplotlib.image.AxesImage at 0x7fb2b8b16890>"
      ]
     },
     "execution_count": 16,
     "metadata": {},
     "output_type": "execute_result"
    }
   ],
   "source": [
    "plt.imshow(spec.image.data,origin=\"lower\")"
   ]
  },
  {
   "cell_type": "code",
   "execution_count": 17,
   "id": "268381d5-df2a-44e8-9736-d2df5ae7dc3f",
   "metadata": {
    "execution": {
     "iopub.execute_input": "2023-01-12T12:56:20.970673Z",
     "iopub.status.busy": "2023-01-12T12:56:20.970353Z",
     "iopub.status.idle": "2023-01-12T12:56:23.370899Z",
     "shell.execute_reply": "2023-01-12T12:56:23.370356Z",
     "shell.execute_reply.started": "2023-01-12T12:56:20.970653Z"
    },
    "tags": []
   },
   "outputs": [
    {
     "data": {
      "text/plain": [
       "<matplotlib.image.AxesImage at 0x7fb4af97e9e0>"
      ]
     },
     "execution_count": 17,
     "metadata": {},
     "output_type": "execute_result"
    }
   ],
   "source": [
    "plt.imshow(spec.image.data-spec.image.data.min(),origin=\"lower\",norm=LogNorm(vmin=1,vmax=1000))"
   ]
  },
  {
   "cell_type": "markdown",
   "id": "dcf6921d-adfb-4569-b31c-b28e8df46bc3",
   "metadata": {},
   "source": [
    "# Generate info"
   ]
  },
  {
   "cell_type": "code",
   "execution_count": 18,
   "id": "d154b5b7-8123-47c5-8bf1-b917933dd850",
   "metadata": {
    "execution": {
     "iopub.execute_input": "2023-01-12T12:56:23.371827Z",
     "iopub.status.busy": "2023-01-12T12:56:23.371641Z",
     "iopub.status.idle": "2023-01-12T12:56:23.375881Z",
     "shell.execute_reply": "2023-01-12T12:56:23.375436Z",
     "shell.execute_reply.started": "2023-01-12T12:56:23.371809Z"
    }
   },
   "outputs": [],
   "source": [
    "df_infos=pd.DataFrame(infos,columns=[\"idx\",\"object\",\"date_obs\",\"airmass\",\"temperature\",\"pressure\",\"humidity\"])"
   ]
  },
  {
   "cell_type": "code",
   "execution_count": 19,
   "id": "8dbc9436-abfd-46a8-87df-fee873578de1",
   "metadata": {
    "execution": {
     "iopub.execute_input": "2023-01-12T12:56:23.376828Z",
     "iopub.status.busy": "2023-01-12T12:56:23.376510Z",
     "iopub.status.idle": "2023-01-12T12:56:23.382115Z",
     "shell.execute_reply": "2023-01-12T12:56:23.381714Z",
     "shell.execute_reply.started": "2023-01-12T12:56:23.376810Z"
    }
   },
   "outputs": [],
   "source": [
    "df_infos.set_index('idx',inplace=True)"
   ]
  },
  {
   "cell_type": "code",
   "execution_count": 20,
   "id": "f0680b42-944a-41e0-8e0f-23bce235d317",
   "metadata": {
    "execution": {
     "iopub.execute_input": "2023-01-12T12:56:23.382948Z",
     "iopub.status.busy": "2023-01-12T12:56:23.382682Z",
     "iopub.status.idle": "2023-01-12T12:56:23.405678Z",
     "shell.execute_reply": "2023-01-12T12:56:23.405238Z",
     "shell.execute_reply.started": "2023-01-12T12:56:23.382931Z"
    }
   },
   "outputs": [],
   "source": [
    "all_reftime=[ (Time(tt)-Time( df_infos[\"date_obs\"].values[0])).to_value(u.hr) for tt in df_infos[\"date_obs\"].values ]"
   ]
  },
  {
   "cell_type": "code",
   "execution_count": 21,
   "id": "8dc390a3-c06a-4ff0-b637-66b33355356e",
   "metadata": {
    "execution": {
     "iopub.execute_input": "2023-01-12T12:56:23.406599Z",
     "iopub.status.busy": "2023-01-12T12:56:23.406272Z",
     "iopub.status.idle": "2023-01-12T12:56:23.408851Z",
     "shell.execute_reply": "2023-01-12T12:56:23.408447Z",
     "shell.execute_reply.started": "2023-01-12T12:56:23.406583Z"
    }
   },
   "outputs": [],
   "source": [
    "all_reftime=np.array(all_reftime)"
   ]
  },
  {
   "cell_type": "code",
   "execution_count": 22,
   "id": "de824a62-e759-4797-b840-363cb35bd63c",
   "metadata": {
    "execution": {
     "iopub.execute_input": "2023-01-12T12:56:23.409585Z",
     "iopub.status.busy": "2023-01-12T12:56:23.409427Z",
     "iopub.status.idle": "2023-01-12T12:56:23.414460Z",
     "shell.execute_reply": "2023-01-12T12:56:23.414041Z",
     "shell.execute_reply.started": "2023-01-12T12:56:23.409570Z"
    }
   },
   "outputs": [],
   "source": [
    "df_infos[\"reftime\"]=all_reftime"
   ]
  },
  {
   "cell_type": "code",
   "execution_count": 23,
   "id": "110419ff-4d95-40b8-8436-4293014a4fd8",
   "metadata": {
    "execution": {
     "iopub.execute_input": "2023-01-12T12:56:23.415191Z",
     "iopub.status.busy": "2023-01-12T12:56:23.415035Z",
     "iopub.status.idle": "2023-01-12T12:56:23.419648Z",
     "shell.execute_reply": "2023-01-12T12:56:23.419245Z",
     "shell.execute_reply.started": "2023-01-12T12:56:23.415176Z"
    }
   },
   "outputs": [],
   "source": [
    "NN = len(df_infos)"
   ]
  },
  {
   "cell_type": "code",
   "execution_count": 24,
   "id": "99b6a222-de0e-4aa7-81ce-c3d6a889c04a",
   "metadata": {
    "execution": {
     "iopub.execute_input": "2023-01-12T12:56:23.424086Z",
     "iopub.status.busy": "2023-01-12T12:56:23.423941Z",
     "iopub.status.idle": "2023-01-12T12:56:23.433824Z",
     "shell.execute_reply": "2023-01-12T12:56:23.433393Z",
     "shell.execute_reply.started": "2023-01-12T12:56:23.424073Z"
    }
   },
   "outputs": [
    {
     "data": {
      "text/html": [
       "<div>\n",
       "<style scoped>\n",
       "    .dataframe tbody tr th:only-of-type {\n",
       "        vertical-align: middle;\n",
       "    }\n",
       "\n",
       "    .dataframe tbody tr th {\n",
       "        vertical-align: top;\n",
       "    }\n",
       "\n",
       "    .dataframe thead th {\n",
       "        text-align: right;\n",
       "    }\n",
       "</style>\n",
       "<table border=\"1\" class=\"dataframe\">\n",
       "  <thead>\n",
       "    <tr style=\"text-align: right;\">\n",
       "      <th></th>\n",
       "      <th>object</th>\n",
       "      <th>date_obs</th>\n",
       "      <th>airmass</th>\n",
       "      <th>temperature</th>\n",
       "      <th>pressure</th>\n",
       "      <th>humidity</th>\n",
       "      <th>reftime</th>\n",
       "    </tr>\n",
       "    <tr>\n",
       "      <th>idx</th>\n",
       "      <th></th>\n",
       "      <th></th>\n",
       "      <th></th>\n",
       "      <th></th>\n",
       "      <th></th>\n",
       "      <th></th>\n",
       "      <th></th>\n",
       "    </tr>\n",
       "  </thead>\n",
       "  <tbody>\n",
       "    <tr>\n",
       "      <th>0</th>\n",
       "      <td>HD031128</td>\n",
       "      <td>2022-12-09T03:49:54.625008542Z</td>\n",
       "      <td>1.010455</td>\n",
       "      <td>0</td>\n",
       "      <td>0</td>\n",
       "      <td>0</td>\n",
       "      <td>0.000000</td>\n",
       "    </tr>\n",
       "    <tr>\n",
       "      <th>1</th>\n",
       "      <td>HD37962</td>\n",
       "      <td>2022-12-09T02:01:33.588500419Z</td>\n",
       "      <td>1.321819</td>\n",
       "      <td>0</td>\n",
       "      <td>0</td>\n",
       "      <td>0</td>\n",
       "      <td>-1.805843</td>\n",
       "    </tr>\n",
       "    <tr>\n",
       "      <th>2</th>\n",
       "      <td>HD37962</td>\n",
       "      <td>2022-12-09T03:15:34.256996353Z</td>\n",
       "      <td>1.105513</td>\n",
       "      <td>0</td>\n",
       "      <td>0</td>\n",
       "      <td>0</td>\n",
       "      <td>-0.572324</td>\n",
       "    </tr>\n",
       "    <tr>\n",
       "      <th>3</th>\n",
       "      <td>HD185975</td>\n",
       "      <td>2022-12-09T01:04:11.342996723Z</td>\n",
       "      <td>1.936282</td>\n",
       "      <td>0</td>\n",
       "      <td>0</td>\n",
       "      <td>0</td>\n",
       "      <td>-2.762023</td>\n",
       "    </tr>\n",
       "    <tr>\n",
       "      <th>4</th>\n",
       "      <td>HD009051</td>\n",
       "      <td>2022-12-09T02:33:16.154991888Z</td>\n",
       "      <td>1.071925</td>\n",
       "      <td>0</td>\n",
       "      <td>0</td>\n",
       "      <td>0</td>\n",
       "      <td>-1.277353</td>\n",
       "    </tr>\n",
       "    <tr>\n",
       "      <th>5</th>\n",
       "      <td>HD009051</td>\n",
       "      <td>2022-12-09T02:39:19.663005039Z</td>\n",
       "      <td>1.081595</td>\n",
       "      <td>0</td>\n",
       "      <td>0</td>\n",
       "      <td>0</td>\n",
       "      <td>-1.176378</td>\n",
       "    </tr>\n",
       "    <tr>\n",
       "      <th>6</th>\n",
       "      <td>HD031128</td>\n",
       "      <td>2022-12-09T03:49:24.033004707Z</td>\n",
       "      <td>1.010613</td>\n",
       "      <td>0</td>\n",
       "      <td>0</td>\n",
       "      <td>0</td>\n",
       "      <td>-0.008498</td>\n",
       "    </tr>\n",
       "    <tr>\n",
       "      <th>7</th>\n",
       "      <td>HD200654</td>\n",
       "      <td>2022-12-09T01:08:23.281998723Z</td>\n",
       "      <td>1.654273</td>\n",
       "      <td>0</td>\n",
       "      <td>0</td>\n",
       "      <td>0</td>\n",
       "      <td>-2.692040</td>\n",
       "    </tr>\n",
       "    <tr>\n",
       "      <th>8</th>\n",
       "      <td>HD185975</td>\n",
       "      <td>2022-12-09T02:20:24.959498190Z</td>\n",
       "      <td>1.985398</td>\n",
       "      <td>0</td>\n",
       "      <td>0</td>\n",
       "      <td>0</td>\n",
       "      <td>-1.491574</td>\n",
       "    </tr>\n",
       "    <tr>\n",
       "      <th>9</th>\n",
       "      <td>HD38949</td>\n",
       "      <td>2022-12-09T01:56:02.339505700Z</td>\n",
       "      <td>1.425362</td>\n",
       "      <td>0</td>\n",
       "      <td>0</td>\n",
       "      <td>0</td>\n",
       "      <td>-1.897857</td>\n",
       "    </tr>\n",
       "    <tr>\n",
       "      <th>10</th>\n",
       "      <td>HD009051</td>\n",
       "      <td>2022-12-09T02:39:01.845495311Z</td>\n",
       "      <td>1.081102</td>\n",
       "      <td>0</td>\n",
       "      <td>0</td>\n",
       "      <td>0</td>\n",
       "      <td>-1.181328</td>\n",
       "    </tr>\n",
       "    <tr>\n",
       "      <th>11</th>\n",
       "      <td>HD38949</td>\n",
       "      <td>2022-12-09T03:10:58.078502228Z</td>\n",
       "      <td>1.146810</td>\n",
       "      <td>0</td>\n",
       "      <td>0</td>\n",
       "      <td>0</td>\n",
       "      <td>-0.649041</td>\n",
       "    </tr>\n",
       "  </tbody>\n",
       "</table>\n",
       "</div>"
      ],
      "text/plain": [
       "       object                        date_obs   airmass  temperature  \\\n",
       "idx                                                                    \n",
       "0    HD031128  2022-12-09T03:49:54.625008542Z  1.010455            0   \n",
       "1     HD37962  2022-12-09T02:01:33.588500419Z  1.321819            0   \n",
       "2     HD37962  2022-12-09T03:15:34.256996353Z  1.105513            0   \n",
       "3    HD185975  2022-12-09T01:04:11.342996723Z  1.936282            0   \n",
       "4    HD009051  2022-12-09T02:33:16.154991888Z  1.071925            0   \n",
       "5    HD009051  2022-12-09T02:39:19.663005039Z  1.081595            0   \n",
       "6    HD031128  2022-12-09T03:49:24.033004707Z  1.010613            0   \n",
       "7    HD200654  2022-12-09T01:08:23.281998723Z  1.654273            0   \n",
       "8    HD185975  2022-12-09T02:20:24.959498190Z  1.985398            0   \n",
       "9     HD38949  2022-12-09T01:56:02.339505700Z  1.425362            0   \n",
       "10   HD009051  2022-12-09T02:39:01.845495311Z  1.081102            0   \n",
       "11    HD38949  2022-12-09T03:10:58.078502228Z  1.146810            0   \n",
       "\n",
       "     pressure  humidity   reftime  \n",
       "idx                                \n",
       "0           0         0  0.000000  \n",
       "1           0         0 -1.805843  \n",
       "2           0         0 -0.572324  \n",
       "3           0         0 -2.762023  \n",
       "4           0         0 -1.277353  \n",
       "5           0         0 -1.176378  \n",
       "6           0         0 -0.008498  \n",
       "7           0         0 -2.692040  \n",
       "8           0         0 -1.491574  \n",
       "9           0         0 -1.897857  \n",
       "10          0         0 -1.181328  \n",
       "11          0         0 -0.649041  "
      ]
     },
     "execution_count": 24,
     "metadata": {},
     "output_type": "execute_result"
    }
   ],
   "source": [
    "df_infos"
   ]
  },
  {
   "cell_type": "markdown",
   "id": "dc731281-48ed-4328-8ce6-42dab4332d59",
   "metadata": {},
   "source": [
    "### Save info file"
   ]
  },
  {
   "cell_type": "code",
   "execution_count": 25,
   "id": "932ca0ec-507d-4022-8325-55d689ac0eb2",
   "metadata": {
    "execution": {
     "iopub.execute_input": "2023-01-12T12:56:23.434552Z",
     "iopub.status.busy": "2023-01-12T12:56:23.434392Z",
     "iopub.status.idle": "2023-01-12T12:56:23.440333Z",
     "shell.execute_reply": "2023-01-12T12:56:23.439841Z",
     "shell.execute_reply.started": "2023-01-12T12:56:23.434537Z"
    }
   },
   "outputs": [],
   "source": [
    "summary_file = f\"summaryspectra_{DATE}-{filterdispersername}-{configmode}-oga.csv\"\n",
    "df_infos.to_csv(summary_file)"
   ]
  },
  {
   "cell_type": "markdown",
   "id": "c994b86c-bc35-455b-b363-a3dcc64fb406",
   "metadata": {},
   "source": [
    "## Main pickle file"
   ]
  },
  {
   "cell_type": "code",
   "execution_count": 26,
   "id": "db6f01f6-e140-4604-9fed-176f964a7c22",
   "metadata": {
    "execution": {
     "iopub.execute_input": "2023-01-12T12:56:23.441275Z",
     "iopub.status.busy": "2023-01-12T12:56:23.440906Z",
     "iopub.status.idle": "2023-01-12T12:56:23.443261Z",
     "shell.execute_reply": "2023-01-12T12:56:23.442875Z",
     "shell.execute_reply.started": "2023-01-12T12:56:23.441259Z"
    }
   },
   "outputs": [],
   "source": [
    "#spec.image.target_pixcoords"
   ]
  },
  {
   "cell_type": "code",
   "execution_count": 27,
   "id": "072a5a1c-8313-4767-b81c-b87a48c5b270",
   "metadata": {
    "execution": {
     "iopub.execute_input": "2023-01-12T12:56:23.443941Z",
     "iopub.status.busy": "2023-01-12T12:56:23.443792Z",
     "iopub.status.idle": "2023-01-12T12:56:23.449716Z",
     "shell.execute_reply": "2023-01-12T12:56:23.449352Z",
     "shell.execute_reply.started": "2023-01-12T12:56:23.443927Z"
    }
   },
   "outputs": [
    {
     "data": {
      "text/plain": [
       "SIMPLE  =                    T                                                  \n",
       "TARGET  = 'HD38949 '           / name of the target in the image                \n",
       "REDSHIFT=              1.1E-05 / redshift of the target                         \n",
       "GRATING = 'holo4_003'          / name of the disperser                          \n",
       "ROTANGLE=   0.2553919315012746 / [deg] angle of the dispersion axis             \n",
       "D2CCD   =    179.9887449571588 / [mm] distance between disperser and CCD        \n",
       "LSHIFT  =                  0.0                                                  \n",
       "PARANGLE=   -108.7181757494001 / parallactic angle in degree                    \n",
       "TARGETX =    148.5874422025884 / target position on X axis                      \n",
       "TARGETY =    863.9178161975632 / target position on Y axis                      \n",
       "LBDA_REF=    620.8053713364757                                                  \n",
       "PIXSHIFT=  0.07321092752572178                                                  \n",
       "PSF_REG =    7.276750761397635                                                  \n",
       "TRACE_R =    175.1259668317798                                                  \n",
       "CHI2_FIT=    1.617426639545654                                                  \n",
       "A2_FIT  =                  1.0                                                  \n",
       "AM_FIT  =     1.14680972479329                                                  \n",
       "MEANFWHM=    3.760606363666685                                                  "
      ]
     },
     "execution_count": 27,
     "metadata": {},
     "output_type": "execute_result"
    }
   ],
   "source": [
    "header = spec.spectrum.header\n",
    "header"
   ]
  },
  {
   "cell_type": "code",
   "execution_count": 28,
   "id": "75ea215c-2276-48f6-a847-54141ee55127",
   "metadata": {
    "execution": {
     "iopub.execute_input": "2023-01-12T12:56:23.450628Z",
     "iopub.status.busy": "2023-01-12T12:56:23.450395Z",
     "iopub.status.idle": "2023-01-12T12:56:23.459214Z",
     "shell.execute_reply": "2023-01-12T12:56:23.458842Z",
     "shell.execute_reply.started": "2023-01-12T12:56:23.450613Z"
    }
   },
   "outputs": [
    {
     "name": "stdout",
     "output_type": "stream",
     "text": [
      "KeyError exception for spec 2: \"Keyword 'REBIN' not found.\" ! ==> force rebin = 2\n",
      "KeyError exception for spec 3: \"Keyword 'REBIN' not found.\" ! ==> force rebin = 2\n",
      "KeyError exception for spec 6: \"Keyword 'REBIN' not found.\" ! ==> force rebin = 2\n",
      "KeyError exception for spec 7: \"Keyword 'REBIN' not found.\" ! ==> force rebin = 2\n",
      "KeyError exception for spec 11: \"Keyword 'REBIN' not found.\" ! ==> force rebin = 2\n"
     ]
    }
   ],
   "source": [
    "\n",
    "\n",
    "all_rebin=np.zeros(NN)\n",
    "all_targetx=np.zeros(NN)\n",
    "all_targety=np.zeros(NN)\n",
    "all_rotangle=np.zeros(NN)\n",
    "all_d2ccd=np.zeros(NN)\n",
    "all_pixshift=np.zeros(NN)\n",
    "all_chi2_fit=np.zeros(NN)\n",
    "all_a2_fit=np.zeros(NN)\n",
    "all_lbda_ref=np.zeros(NN)\n",
    "all_tagnumber=np.zeros(NN)\n",
    "all_errors=np.zeros(NN)\n",
    "\n",
    "\n",
    "for idx in range(NN):\n",
    "    \n",
    "    header = all_spec[idx].spectrum.header\n",
    "    tagnum=str(all_num[idx])\n",
    "    \n",
    "    #ROTANGLE=  -0.1367006901184345 / [deg] angle of the dispersion axis             \n",
    "    #D2CCD   =    179.6778868175837 / [mm] distance between disperser and CCD        \n",
    "    #TARGETX =    315.9547462941386 / target position on X axis                      \n",
    "    #TARGETY =    75.06785960446246 / target position on Y axis                      \n",
    "    #LBDA_REF=    634.9155139280113                                                  \n",
    "    #PIXSHIFT=  -0.9996981508176748                                                  \n",
    "    #CHI2_FIT=    1.602115867259752                                                  \n",
    "    #A2_FIT  =                  1.0                                                  \n",
    "    #REBIN   =                    2 / original image rebinning factor to get spectrum\n",
    "    \n",
    "    try :\n",
    "        rebin=header[\"REBIN\"]\n",
    "    except KeyError as e:\n",
    "        rebin=2\n",
    "        all_errors[idx]=1\n",
    "        print(f\"KeyError exception for spec {idx}: \" + str(e) + f\" ! ==> force rebin = {rebin}\")\n",
    "        \n",
    "        \n",
    "        \n",
    "    targetx=header[\"TARGETX\"]*rebin\n",
    "    targety=header[\"TARGETY\"]*rebin\n",
    "    rotangle=header[\"ROTANGLE\"]\n",
    "    d2ccd=header[\"D2CCD\"]\n",
    "    pixshift=header[\"PIXSHIFT\"]\n",
    "    \n",
    "    if header.get(\"CHI2_FIT\") != None:\n",
    "        chi2_fit=header[\"CHI2_FIT\"]\n",
    "    else:\n",
    "        chi2_fit= -1\n",
    "        \n",
    "    if header.get(\"A2_FIT\") != None:\n",
    "        a2_fit=header[\"A2_FIT\"]\n",
    "    else:\n",
    "        a2_fit=-1\n",
    "    \n",
    "    \n",
    "    lbda_ref=header[\"LBDA_REF\"]\n",
    "    \n",
    "    \n",
    "    all_rebin[idx]=rebin\n",
    "    all_targetx[idx]=targetx\n",
    "    all_targety[idx]=targety\n",
    "    all_rotangle[idx]=rotangle\n",
    "    all_d2ccd[idx]=d2ccd\n",
    "    all_pixshift[idx]=pixshift\n",
    "    \n",
    "    \n",
    "    all_chi2_fit[idx]=chi2_fit\n",
    "    all_a2_fit[idx]=a2_fit\n",
    "    all_lbda_ref[idx]=lbda_ref\n",
    "    all_tagnumber[idx]=tagnum\n",
    "    \n"
   ]
  },
  {
   "cell_type": "markdown",
   "id": "31b93d2e-edef-495e-b43d-6e9261f71a4c",
   "metadata": {},
   "source": [
    "## Write pickle file"
   ]
  },
  {
   "cell_type": "code",
   "execution_count": 29,
   "id": "51558757-4ecb-4f46-b7ba-3e388767c991",
   "metadata": {
    "execution": {
     "iopub.execute_input": "2023-01-12T12:56:23.460228Z",
     "iopub.status.busy": "2023-01-12T12:56:23.459737Z",
     "iopub.status.idle": "2023-01-12T12:56:23.471517Z",
     "shell.execute_reply": "2023-01-12T12:56:23.471148Z",
     "shell.execute_reply.started": "2023-01-12T12:56:23.460213Z"
    }
   },
   "outputs": [],
   "source": [
    "all_out_data = {}\n",
    "\n",
    "for idx in range(NN):\n",
    "    if FLAG_ORDER2:\n",
    "        thedata = {'number':all_tagnumber[idx],\n",
    "               'object':df_infos.iloc[idx]['object'],\n",
    "               'dateobs':df_infos.iloc[idx]['date_obs'],\n",
    "               'refhour':df_infos.iloc[idx]['reftime'],\n",
    "               'airmass':df_infos.iloc[idx]['airmass'], \n",
    "               'pressure':df_infos.iloc[idx]['pressure'], \n",
    "               'temperature':df_infos.iloc[idx]['temperature'], \n",
    "               'humidity':df_infos.iloc[idx]['humidity'], \n",
    "               'targetx_pix':all_targetx[idx],\n",
    "               'targety_pix':all_targety[idx],\n",
    "               'rotangle':all_rotangle[idx],\n",
    "               'd2ccd':all_d2ccd[idx],\n",
    "               'error':all_errors[idx],    \n",
    "               'all_lambdas':all_lambdas[idx],\n",
    "               'all_fluxes':all_data[idx],\n",
    "               'all_fluxes_err':all_data_err[idx],\n",
    "               'all_lambdas_order2':all_lambdas_order2[idx],\n",
    "               'all_fluxes_order2':all_data_order2[idx],\n",
    "               'all_fluxes_err_order2':all_data_err_order2[idx],\n",
    "              }\n",
    "    else:\n",
    "        thedata = {'number':all_tagnumber[idx],\n",
    "               'object':df_infos.iloc[idx]['object'],\n",
    "               'dateobs':df_infos.iloc[idx]['date_obs'],\n",
    "               'refhour':df_infos.iloc[idx]['reftime'],\n",
    "               'airmass':df_infos.iloc[idx]['airmass'],\n",
    "               'pressure':df_infos.iloc[idx]['pressure'], \n",
    "               'temperature':df_infos.iloc[idx]['temperature'], \n",
    "               'humidity':df_infos.iloc[idx]['humidity'], \n",
    "               'targetx_pix':all_targetx[idx],\n",
    "               'targety_pix':all_targety[idx],\n",
    "               'rotangle':all_rotangle[idx],\n",
    "               'd2ccd':all_d2ccd[idx],\n",
    "               'error':all_errors[idx],  \n",
    "               'all_lambdas':all_lambdas[idx],\n",
    "               'all_fluxes':all_data[idx],\n",
    "               'all_fluxes_err':all_data_err[idx],\n",
    "            }         \n",
    "            \n",
    "    all_out_data[all_exposures[idx]]=thedata\n"
   ]
  },
  {
   "cell_type": "code",
   "execution_count": 30,
   "id": "6554139c-3fd6-46df-a867-fdc74edb6007",
   "metadata": {
    "execution": {
     "iopub.execute_input": "2023-01-12T12:56:23.472161Z",
     "iopub.status.busy": "2023-01-12T12:56:23.472023Z",
     "iopub.status.idle": "2023-01-12T12:56:23.474361Z",
     "shell.execute_reply": "2023-01-12T12:56:23.473968Z",
     "shell.execute_reply.started": "2023-01-12T12:56:23.472148Z"
    }
   },
   "outputs": [],
   "source": [
    "#all_out_data"
   ]
  },
  {
   "cell_type": "code",
   "execution_count": 31,
   "id": "017deca5-7504-4170-a320-5eea39ec0984",
   "metadata": {
    "execution": {
     "iopub.execute_input": "2023-01-12T12:56:23.475030Z",
     "iopub.status.busy": "2023-01-12T12:56:23.474879Z",
     "iopub.status.idle": "2023-01-12T12:56:23.479342Z",
     "shell.execute_reply": "2023-01-12T12:56:23.478973Z",
     "shell.execute_reply.started": "2023-01-12T12:56:23.475016Z"
    }
   },
   "outputs": [],
   "source": [
    "pkl_outfilename=f'run-auxtel-holo-{DATE}-{filterdispersername}-{configmode}-oga.pickle'"
   ]
  },
  {
   "cell_type": "code",
   "execution_count": 32,
   "id": "84227b63-780b-4b43-b66f-4a6386960a07",
   "metadata": {
    "execution": {
     "iopub.execute_input": "2023-01-12T12:56:23.480316Z",
     "iopub.status.busy": "2023-01-12T12:56:23.479862Z",
     "iopub.status.idle": "2023-01-12T12:56:23.487276Z",
     "shell.execute_reply": "2023-01-12T12:56:23.486892Z",
     "shell.execute_reply.started": "2023-01-12T12:56:23.480300Z"
    }
   },
   "outputs": [],
   "source": [
    "with open(pkl_outfilename, 'wb') as pickle_file:\n",
    "    pickle.dump(all_out_data,pickle_file)"
   ]
  },
  {
   "cell_type": "code",
   "execution_count": 33,
   "id": "f11b354d-8734-443f-b66e-dab3701c6885",
   "metadata": {
    "execution": {
     "iopub.execute_input": "2023-01-12T12:56:23.488312Z",
     "iopub.status.busy": "2023-01-12T12:56:23.487867Z",
     "iopub.status.idle": "2023-01-12T12:56:23.490231Z",
     "shell.execute_reply": "2023-01-12T12:56:23.489854Z",
     "shell.execute_reply.started": "2023-01-12T12:56:23.488297Z"
    }
   },
   "outputs": [],
   "source": [
    "pkl_infilename=pkl_outfilename"
   ]
  },
  {
   "cell_type": "code",
   "execution_count": 34,
   "id": "40465317-be99-4c75-8fa3-137c886f86be",
   "metadata": {
    "execution": {
     "iopub.execute_input": "2023-01-12T12:56:23.491101Z",
     "iopub.status.busy": "2023-01-12T12:56:23.490747Z",
     "iopub.status.idle": "2023-01-12T12:56:23.496616Z",
     "shell.execute_reply": "2023-01-12T12:56:23.496217Z",
     "shell.execute_reply.started": "2023-01-12T12:56:23.491085Z"
    }
   },
   "outputs": [],
   "source": [
    "with open(pkl_infilename, 'rb') as pickle_file:\n",
    "    content = pickle.load(pickle_file)"
   ]
  },
  {
   "cell_type": "code",
   "execution_count": 35,
   "id": "8827da1c-520f-47fe-9e40-3892944eb3df",
   "metadata": {
    "execution": {
     "iopub.execute_input": "2023-01-12T12:56:23.497277Z",
     "iopub.status.busy": "2023-01-12T12:56:23.497134Z",
     "iopub.status.idle": "2023-01-12T12:56:23.501739Z",
     "shell.execute_reply": "2023-01-12T12:56:23.501370Z",
     "shell.execute_reply.started": "2023-01-12T12:56:23.497264Z"
    }
   },
   "outputs": [
    {
     "data": {
      "text/plain": [
       "(2022120800269,\n",
       " {'number': 269.0,\n",
       "  'object': 'HD031128',\n",
       "  'dateobs': '2022-12-09T03:49:54.625008542Z',\n",
       "  'refhour': 0.0,\n",
       "  'airmass': 1.01045495027533,\n",
       "  'pressure': 0,\n",
       "  'temperature': 0,\n",
       "  'humidity': 0,\n",
       "  'targetx_pix': 305.07352344410083,\n",
       "  'targety_pix': 1736.167883571813,\n",
       "  'rotangle': 0.15463995674873335,\n",
       "  'd2ccd': 179.98755875722466,\n",
       "  'error': 0.0,\n",
       "  'all_lambdas': array([ 299.23624112,  299.9462698 ,  300.65628776, ..., 1096.80411941,\n",
       "         1097.48563411, 1098.16711066]),\n",
       "  'all_fluxes': array([-1.66300221e-16, -1.56832781e-15, -2.14033656e-15, ...,\n",
       "          1.92043894e-14,  1.94140775e-14,  2.06009674e-14]),\n",
       "  'all_fluxes_err': array([3.00964145e-15, 2.50408894e-15, 1.98306053e-15, ...,\n",
       "         5.46568929e-16, 6.93739711e-16, 8.64746847e-16])})"
      ]
     },
     "execution_count": 35,
     "metadata": {},
     "output_type": "execute_result"
    }
   ],
   "source": [
    "# Get first value of dictionary\n",
    "next(iter(content.items()))"
   ]
  },
  {
   "cell_type": "code",
   "execution_count": null,
   "id": "7f5b23ab-1880-493a-9c3c-ff33e537764c",
   "metadata": {},
   "outputs": [],
   "source": []
  }
 ],
 "metadata": {
  "kernelspec": {
   "display_name": "LSST",
   "language": "python",
   "name": "lsst"
  },
  "language_info": {
   "codemirror_mode": {
    "name": "ipython",
    "version": 3
   },
   "file_extension": ".py",
   "mimetype": "text/x-python",
   "name": "python",
   "nbconvert_exporter": "python",
   "pygments_lexer": "ipython3",
   "version": "3.10.8"
  }
 },
 "nbformat": 4,
 "nbformat_minor": 5
}
