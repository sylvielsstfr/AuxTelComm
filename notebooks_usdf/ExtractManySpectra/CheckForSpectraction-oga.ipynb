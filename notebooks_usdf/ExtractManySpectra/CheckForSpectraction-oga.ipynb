{
 "cells": [
  {
   "cell_type": "markdown",
   "id": "0b8c2138-5194-4d03-8b77-be24e2cc8ee3",
   "metadata": {},
   "source": [
    "# Query for Spectraction Results in OGA"
   ]
  },
  {
   "cell_type": "markdown",
   "id": "740e34fb-3fef-45a8-941b-c229742ab016",
   "metadata": {},
   "source": [
    " work with Weakly_2023_01\n",
    "- use jupyter kernel LSST\n",
    "\n",
    "\n",
    "- author : Sylvie Dagoret-Campagne\n",
    "- affiliation : IJCLab\n",
    "- creation date : 2022/10/31\n",
    "- last update : 2023/01/31\n"
   ]
  },
  {
   "cell_type": "code",
   "execution_count": 1,
   "id": "ed2c3410-fe83-432e-ab87-9f4513fa8d8b",
   "metadata": {
    "execution": {
     "iopub.execute_input": "2023-01-31T14:06:20.667046Z",
     "iopub.status.busy": "2023-01-31T14:06:20.666684Z",
     "iopub.status.idle": "2023-01-31T14:06:21.124832Z",
     "shell.execute_reply": "2023-01-31T14:06:21.124180Z",
     "shell.execute_reply.started": "2023-01-31T14:06:20.667030Z"
    }
   },
   "outputs": [
    {
     "name": "stdout",
     "output_type": "stream",
     "text": [
      "atmospec              LOCAL:/home/d/dagoret/repos/repos_w_2023_01/atmospec \tsetup\n",
      "eups                  LOCAL:/opt/lsst/software/stack/conda/miniconda3-py38_4.9.2/envs/lsst-scipipe-5.1.0/eups \tsetup\n",
      "spectractor           LOCAL:/home/d/dagoret/repos/repos_w_2023_01/Spectractor \tsetup\n"
     ]
    }
   ],
   "source": [
    "! eups list -s | grep LOCAL"
   ]
  },
  {
   "cell_type": "code",
   "execution_count": 2,
   "id": "70918d81-0cf6-4b0a-8f61-f5e5bec5b0e7",
   "metadata": {
    "execution": {
     "iopub.execute_input": "2023-01-31T14:06:21.125893Z",
     "iopub.status.busy": "2023-01-31T14:06:21.125674Z",
     "iopub.status.idle": "2023-01-31T14:06:21.564342Z",
     "shell.execute_reply": "2023-01-31T14:06:21.563581Z",
     "shell.execute_reply.started": "2023-01-31T14:06:21.125875Z"
    }
   },
   "outputs": [
    {
     "name": "stdout",
     "output_type": "stream",
     "text": [
      "   g754a7f0350+935911ccad \tcurrent w_2023_01 setup\n"
     ]
    }
   ],
   "source": [
    "! eups list -s lsst_distrib"
   ]
  },
  {
   "cell_type": "code",
   "execution_count": 3,
   "id": "f8d9cfca-5881-48c1-b2cb-0f794a2e4091",
   "metadata": {
    "execution": {
     "iopub.execute_input": "2023-01-31T14:06:21.565605Z",
     "iopub.status.busy": "2023-01-31T14:06:21.565347Z",
     "iopub.status.idle": "2023-01-31T14:06:21.922636Z",
     "shell.execute_reply": "2023-01-31T14:06:21.922143Z",
     "shell.execute_reply.started": "2023-01-31T14:06:21.565585Z"
    }
   },
   "outputs": [],
   "source": [
    "import lsst.daf.butler as dafButler\n",
    "#import lsst.summit.utils.butlerUtils as butlerUtils"
   ]
  },
  {
   "cell_type": "code",
   "execution_count": 4,
   "id": "1ceacda9-20b0-4d77-a0d2-572c957ce273",
   "metadata": {
    "execution": {
     "iopub.execute_input": "2023-01-31T14:06:21.923489Z",
     "iopub.status.busy": "2023-01-31T14:06:21.923313Z",
     "iopub.status.idle": "2023-01-31T14:06:22.296261Z",
     "shell.execute_reply": "2023-01-31T14:06:22.295731Z",
     "shell.execute_reply.started": "2023-01-31T14:06:21.923473Z"
    },
    "tags": []
   },
   "outputs": [],
   "source": [
    "import numpy as np\n",
    "import matplotlib.pyplot as plt\n",
    "%matplotlib inline\n",
    "from mpl_toolkits.axes_grid1 import make_axes_locatable\n",
    "from matplotlib.colors import LogNorm\n",
    "import pandas as pd\n",
    "\n",
    "import matplotlib.ticker                         # here's where the formatter is\n",
    "import os\n",
    "import re\n",
    "import pandas as pd\n",
    "\n",
    "plt.rcParams[\"figure.figsize\"] = (4,3)\n",
    "plt.rcParams[\"axes.labelsize\"] = 'xx-large'\n",
    "plt.rcParams['axes.titlesize'] = 'xx-large'\n",
    "plt.rcParams['xtick.labelsize']= 'xx-large'\n",
    "plt.rcParams['ytick.labelsize']= 'xx-large'"
   ]
  },
  {
   "cell_type": "code",
   "execution_count": 5,
   "id": "769e12e6-917d-4722-8c1e-f965f13a8c64",
   "metadata": {
    "execution": {
     "iopub.execute_input": "2023-01-31T14:06:22.297396Z",
     "iopub.status.busy": "2023-01-31T14:06:22.296995Z",
     "iopub.status.idle": "2023-01-31T14:06:22.300155Z",
     "shell.execute_reply": "2023-01-31T14:06:22.299700Z",
     "shell.execute_reply.started": "2023-01-31T14:06:22.297377Z"
    }
   },
   "outputs": [],
   "source": [
    "import pickle"
   ]
  },
  {
   "cell_type": "code",
   "execution_count": 6,
   "id": "75e20c79-7729-459b-a5e0-78d8de0c4d71",
   "metadata": {
    "execution": {
     "iopub.execute_input": "2023-01-31T14:06:22.301019Z",
     "iopub.status.busy": "2023-01-31T14:06:22.300828Z",
     "iopub.status.idle": "2023-01-31T14:06:22.306616Z",
     "shell.execute_reply": "2023-01-31T14:06:22.306211Z",
     "shell.execute_reply.started": "2023-01-31T14:06:22.301002Z"
    }
   },
   "outputs": [],
   "source": [
    "from astropy.time import Time\n",
    "import astropy.units as u"
   ]
  },
  {
   "cell_type": "markdown",
   "id": "c7e637b3-244b-4df3-9db2-3819e6321141",
   "metadata": {},
   "source": [
    "## Config"
   ]
  },
  {
   "cell_type": "markdown",
   "id": "f311bc61-5eb2-40b2-ab20-8241ea599037",
   "metadata": {},
   "source": [
    "### Butler"
   ]
  },
  {
   "cell_type": "code",
   "execution_count": 7,
   "id": "1c81d99a-5e91-4ba1-ba4a-c66b37905b98",
   "metadata": {
    "execution": {
     "iopub.execute_input": "2023-01-31T14:06:22.307342Z",
     "iopub.status.busy": "2023-01-31T14:06:22.307177Z",
     "iopub.status.idle": "2023-01-31T14:06:23.363286Z",
     "shell.execute_reply": "2023-01-31T14:06:23.362768Z",
     "shell.execute_reply.started": "2023-01-31T14:06:22.307324Z"
    }
   },
   "outputs": [],
   "source": [
    "#repo =  \"/sdf/group/rubin/repo/main\"\n",
    "repo = \"/sdf/group/rubin/repo/oga/\"\n",
    "butler = dafButler.Butler(repo)\n",
    "registry = butler.registry"
   ]
  },
  {
   "cell_type": "markdown",
   "id": "7fa31e20-40fb-498d-ad80-90ee20f619cd",
   "metadata": {},
   "source": [
    "### Date & Filter & Disperser"
   ]
  },
  {
   "cell_type": "code",
   "execution_count": 8,
   "id": "c1ffbd47-4cc9-4ef1-ab1c-6f477b8139bb",
   "metadata": {
    "execution": {
     "iopub.execute_input": "2023-01-31T14:06:23.364177Z",
     "iopub.status.busy": "2023-01-31T14:06:23.364002Z",
     "iopub.status.idle": "2023-01-31T14:06:23.367103Z",
     "shell.execute_reply": "2023-01-31T14:06:23.366693Z",
     "shell.execute_reply.started": "2023-01-31T14:06:23.364160Z"
    }
   },
   "outputs": [],
   "source": [
    "# path index for each month\n",
    "#DATE=\"20220912\"\n",
    "#DATE=\"20220913\"\n",
    "\n",
    "DATE=\"20230117\" # with \"u/dagoret/BPS_manyspectro_v7 or v11\", rebin=2 or v14 with rebin=1\n",
    "#DATE=\"20230118\" # with \"u/dagoret/BPS_manyspectro_v8 or v10\", rebin=2  or v13 with rebin=1\n",
    "#DATE=\"20230119\" # with \"u/dagoret/BPS_manyspectro_v9 or v12\",rebin=2\n",
    "\n",
    "\n",
    "\n",
    "filterdispersername = \"empty~holo4_003\"\n",
    "#filterdispersername = \"BG40~holo4_003\"\n",
    "#filterdispersername = \"FELH0600~holo4_003\""
   ]
  },
  {
   "cell_type": "markdown",
   "id": "c30cd39d-0677-43f7-b043-c0b9ae126c73",
   "metadata": {},
   "source": [
    "### Spectractor"
   ]
  },
  {
   "cell_type": "code",
   "execution_count": 9,
   "id": "1dc181f4-d44a-48c4-8e8a-86c35c0dcc98",
   "metadata": {
    "execution": {
     "iopub.execute_input": "2023-01-31T14:06:23.368123Z",
     "iopub.status.busy": "2023-01-31T14:06:23.367652Z",
     "iopub.status.idle": "2023-01-31T14:06:23.373821Z",
     "shell.execute_reply": "2023-01-31T14:06:23.373399Z",
     "shell.execute_reply.started": "2023-01-31T14:06:23.368083Z"
    }
   },
   "outputs": [],
   "source": [
    "#configmode = \"PSF2DFFM_REBIN2\"\n",
    "configmode = \"PSF2DFFM_REBIN1\"\n",
    "#ext=\"_b\"\n",
    "ext=\"\""
   ]
  },
  {
   "cell_type": "markdown",
   "id": "20dbb8da-3a08-4b4f-9437-4bf7f28c1782",
   "metadata": {},
   "source": [
    "### The collection"
   ]
  },
  {
   "cell_type": "code",
   "execution_count": 10,
   "id": "9629ea29-8ab4-4062-aed1-e16d62dc90c4",
   "metadata": {
    "execution": {
     "iopub.execute_input": "2023-01-31T14:06:23.374561Z",
     "iopub.status.busy": "2023-01-31T14:06:23.374406Z",
     "iopub.status.idle": "2023-01-31T14:06:23.403792Z",
     "shell.execute_reply": "2023-01-31T14:06:23.403267Z",
     "shell.execute_reply.started": "2023-01-31T14:06:23.374546Z"
    },
    "tags": []
   },
   "outputs": [],
   "source": [
    "#my_collection = \"u/dagoret/spectro/noflat/empty~holo4/\"+str(DATE)\n",
    "#my_collection = \"u/dagoret/BPS_manyspectro_v0\" # january 12th 2023\n",
    "\n",
    "\n",
    "#my_collection = \"u/dagoret/BPS_manyspectro_v7\" # january 20th 2023 (2023/01/17)\n",
    "#my_collection = \"u/dagoret/BPS_manyspectro_v8\" # january 23th 2023 (2023/01/18)\n",
    "#my_collection = \"u/dagoret/BPS_manyspectro_v9\" # january 23th 2023 (2023/01/19)\n",
    "#my_collection = \"u/dagoret/BPS_manyspectro_v10\" # january 27th 2023 (2023/01/18), output with the _b\n",
    "#my_collection = \"u/dagoret/BPS_manyspectro_v11\" # january 26th 2023 (2023/01/17), output with the _b\n",
    "#my_collection = \"u/dagoret/BPS_manyspectro_v12\" # january 26th 2023 (2023/01/19), output with the _b\n",
    "#my_collection = \"u/dagoret/BPS_manyspectro_v13\" # january 31th 2023 (2023/01/18), rebin=1,\n",
    "my_collection = \"u/dagoret/BPS_manyspectro_v14\" # january 31th 2023 (2023/01/17), rebin=1,\n",
    "\n",
    "datasetRefs = registry.queryDatasets(datasetType='spectraction', collections=my_collection, where= \"instrument='LATISS'\")"
   ]
  },
  {
   "cell_type": "code",
   "execution_count": 11,
   "id": "2f008879-ecc4-4b86-9b24-0641fb4301cd",
   "metadata": {
    "execution": {
     "iopub.execute_input": "2023-01-31T14:06:23.405007Z",
     "iopub.status.busy": "2023-01-31T14:06:23.404520Z",
     "iopub.status.idle": "2023-01-31T14:06:23.407030Z",
     "shell.execute_reply": "2023-01-31T14:06:23.406638Z",
     "shell.execute_reply.started": "2023-01-31T14:06:23.404987Z"
    }
   },
   "outputs": [],
   "source": [
    "# following line not possible in OGA\n",
    "#butler = butlerUtils.makeDefaultLatissButler(extraCollections=[my_collection])"
   ]
  },
  {
   "cell_type": "markdown",
   "id": "432e82a4-5617-48b3-a5bb-1f2c550c8525",
   "metadata": {},
   "source": [
    "## Loop on exposures"
   ]
  },
  {
   "cell_type": "code",
   "execution_count": 12,
   "id": "979b03d5-e54c-4d21-a848-98b820df1d16",
   "metadata": {
    "execution": {
     "iopub.execute_input": "2023-01-31T14:06:23.408024Z",
     "iopub.status.busy": "2023-01-31T14:06:23.407603Z",
     "iopub.status.idle": "2023-01-31T14:06:36.594190Z",
     "shell.execute_reply": "2023-01-31T14:06:36.592101Z",
     "shell.execute_reply.started": "2023-01-31T14:06:23.408006Z"
    },
    "tags": []
   },
   "outputs": [
    {
     "name": "stdout",
     "output_type": "stream",
     "text": [
      "============= (0) ============datasetType = spectraction ============================================\n",
      "fullId..................: {band: 'white', instrument: 'LATISS', detector: 0, physical_filter: 'empty~holo4_003', visit: 2023011800444}\n",
      "visit...................: 2023011800444\n",
      "band....................: white\n",
      "physical filter.........: empty~holo4_003\n",
      "run.....................: u/dagoret/BPS_manyspectro_v13/20230130T211013Z\n",
      "{'day_obs': 20230118, 'seq_num': 444, 'detector': 0}\n",
      "============= (1) ============datasetType = spectraction ============================================\n",
      "fullId..................: {band: 'white', instrument: 'LATISS', detector: 0, physical_filter: 'empty~holo4_003', visit: 2023011800554}\n",
      "visit...................: 2023011800554\n",
      "band....................: white\n",
      "physical filter.........: empty~holo4_003\n",
      "run.....................: u/dagoret/BPS_manyspectro_v13/20230130T211013Z\n",
      "{'day_obs': 20230118, 'seq_num': 554, 'detector': 0}\n"
     ]
    },
    {
     "data": {
      "text/html": [
       "<pre style=\"margin: 0.1em;\n",
       "padding-left: 0.25em;\n",
       "border-left-style: solid;\n",
       "font-family: var(--jp-code-font-family);\n",
       "font-size: var(--jp-code-font-size);\n",
       "line-height: var(--jp-code-line-height);\n",
       "\"><span style=\"color: var(--jp-warn-color2)\">timer.lsst.resources.s3</span> <span style=\"color: var(--jp-error-color2)\">ERROR</span>: Downloading s3://rubin-summit-users/u/dagoret/BPS_manyspectro_v13/20230130T211013Z/spectraction/20230118/white/empty~holo4_003/2023011800554/spectraction_LATISS_white_empty~holo4_003_2023011800554_RXX_S00_u_dagoret_BPS_manyspectro_v13_20230130T211013Z.pickle to local file: Took 4.5932 seconds</pre>"
      ],
      "text/plain": [
       "<IPython.core.display.HTML object>"
      ]
     },
     "metadata": {},
     "output_type": "display_data"
    },
    {
     "ename": "OSError",
     "evalue": "[Errno 28] No space left on device",
     "output_type": "error",
     "traceback": [
      "\u001b[0;31m---------------------------------------------------------------------------\u001b[0m",
      "\u001b[0;31mOSError\u001b[0m                                   Traceback (most recent call last)",
      "Input \u001b[0;32mIn [12]\u001b[0m, in \u001b[0;36m<cell line: 8>\u001b[0;34m()\u001b[0m\n\u001b[1;32m     20\u001b[0m \u001b[38;5;28mprint\u001b[39m(the_dataId)\n\u001b[1;32m     22\u001b[0m \u001b[38;5;66;03m# retrieve the spectrum from Butler\u001b[39;00m\n\u001b[1;32m     23\u001b[0m \u001b[38;5;66;03m#spec       = butler.get('spectraction',the_dataId)\u001b[39;00m\n\u001b[0;32m---> 24\u001b[0m spec \u001b[38;5;241m=\u001b[39m \u001b[43mbutler\u001b[49m\u001b[38;5;241;43m.\u001b[39;49m\u001b[43mget\u001b[49m\u001b[43m(\u001b[49m\u001b[38;5;124;43m'\u001b[39;49m\u001b[38;5;124;43mspectraction\u001b[39;49m\u001b[38;5;124;43m'\u001b[39;49m\u001b[43m,\u001b[49m\u001b[43m \u001b[49m\u001b[43mvisit\u001b[49m\u001b[38;5;241;43m=\u001b[39;49m\u001b[43mthe_exposure\u001b[49m\u001b[43m,\u001b[49m\u001b[43m \u001b[49m\u001b[43mdetector\u001b[49m\u001b[38;5;241;43m=\u001b[39;49m\u001b[38;5;241;43m0\u001b[39;49m\u001b[43m,\u001b[49m\u001b[43m \u001b[49m\u001b[43mcollections\u001b[49m\u001b[38;5;241;43m=\u001b[39;49m\u001b[43mmy_collection\u001b[49m\u001b[43m,\u001b[49m\u001b[43m \u001b[49m\u001b[43minstrument\u001b[49m\u001b[38;5;241;43m=\u001b[39;49m\u001b[38;5;124;43m'\u001b[39;49m\u001b[38;5;124;43mLATISS\u001b[39;49m\u001b[38;5;124;43m'\u001b[39;49m\u001b[43m)\u001b[49m\n\u001b[1;32m     26\u001b[0m \u001b[38;5;66;03m# save in collection lists\u001b[39;00m\n\u001b[1;32m     27\u001b[0m all_dataId\u001b[38;5;241m.\u001b[39mappend(the_dataId) \n",
      "File \u001b[0;32m/opt/lsst/software/stack/stack/miniconda3-py38_4.9.2-5.1.0/Linux64/daf_butler/g03715f143a+54def6c379/python/lsst/daf/butler/_butler.py:1431\u001b[0m, in \u001b[0;36mButler.get\u001b[0;34m(self, datasetRefOrType, dataId, parameters, collections, storageClass, **kwargs)\u001b[0m\n\u001b[1;32m   1429\u001b[0m log\u001b[38;5;241m.\u001b[39mdebug(\u001b[38;5;124m\"\u001b[39m\u001b[38;5;124mButler get: \u001b[39m\u001b[38;5;132;01m%s\u001b[39;00m\u001b[38;5;124m, dataId=\u001b[39m\u001b[38;5;132;01m%s\u001b[39;00m\u001b[38;5;124m, parameters=\u001b[39m\u001b[38;5;132;01m%s\u001b[39;00m\u001b[38;5;124m\"\u001b[39m, datasetRefOrType, dataId, parameters)\n\u001b[1;32m   1430\u001b[0m ref \u001b[38;5;241m=\u001b[39m \u001b[38;5;28mself\u001b[39m\u001b[38;5;241m.\u001b[39m_findDatasetRef(datasetRefOrType, dataId, collections\u001b[38;5;241m=\u001b[39mcollections, \u001b[38;5;241m*\u001b[39m\u001b[38;5;241m*\u001b[39mkwargs)\n\u001b[0;32m-> 1431\u001b[0m \u001b[38;5;28;01mreturn\u001b[39;00m \u001b[38;5;28;43mself\u001b[39;49m\u001b[38;5;241;43m.\u001b[39;49m\u001b[43mgetDirect\u001b[49m\u001b[43m(\u001b[49m\u001b[43mref\u001b[49m\u001b[43m,\u001b[49m\u001b[43m \u001b[49m\u001b[43mparameters\u001b[49m\u001b[38;5;241;43m=\u001b[39;49m\u001b[43mparameters\u001b[49m\u001b[43m,\u001b[49m\u001b[43m \u001b[49m\u001b[43mstorageClass\u001b[49m\u001b[38;5;241;43m=\u001b[39;49m\u001b[43mstorageClass\u001b[49m\u001b[43m)\u001b[49m\n",
      "File \u001b[0;32m/opt/lsst/software/stack/stack/miniconda3-py38_4.9.2-5.1.0/Linux64/daf_butler/g03715f143a+54def6c379/python/lsst/daf/butler/_butler.py:1265\u001b[0m, in \u001b[0;36mButler.getDirect\u001b[0;34m(self, ref, parameters, storageClass)\u001b[0m\n\u001b[1;32m   1233\u001b[0m \u001b[38;5;28;01mdef\u001b[39;00m \u001b[38;5;21mgetDirect\u001b[39m(\n\u001b[1;32m   1234\u001b[0m     \u001b[38;5;28mself\u001b[39m,\n\u001b[1;32m   1235\u001b[0m     ref: DatasetRef,\n\u001b[0;32m   (...)\u001b[0m\n\u001b[1;32m   1238\u001b[0m     storageClass: Optional[Union[StorageClass, \u001b[38;5;28mstr\u001b[39m]] \u001b[38;5;241m=\u001b[39m \u001b[38;5;28;01mNone\u001b[39;00m,\n\u001b[1;32m   1239\u001b[0m ) \u001b[38;5;241m-\u001b[39m\u001b[38;5;241m>\u001b[39m Any:\n\u001b[1;32m   1240\u001b[0m     \u001b[38;5;124;03m\"\"\"Retrieve a stored dataset.\u001b[39;00m\n\u001b[1;32m   1241\u001b[0m \n\u001b[1;32m   1242\u001b[0m \u001b[38;5;124;03m    Unlike `Butler.get`, this method allows datasets outside the Butler's\u001b[39;00m\n\u001b[0;32m   (...)\u001b[0m\n\u001b[1;32m   1263\u001b[0m \u001b[38;5;124;03m        The dataset.\u001b[39;00m\n\u001b[1;32m   1264\u001b[0m \u001b[38;5;124;03m    \"\"\"\u001b[39;00m\n\u001b[0;32m-> 1265\u001b[0m     \u001b[38;5;28;01mreturn\u001b[39;00m \u001b[38;5;28;43mself\u001b[39;49m\u001b[38;5;241;43m.\u001b[39;49m\u001b[43mdatastore\u001b[49m\u001b[38;5;241;43m.\u001b[39;49m\u001b[43mget\u001b[49m\u001b[43m(\u001b[49m\u001b[43mref\u001b[49m\u001b[43m,\u001b[49m\u001b[43m \u001b[49m\u001b[43mparameters\u001b[49m\u001b[38;5;241;43m=\u001b[39;49m\u001b[43mparameters\u001b[49m\u001b[43m,\u001b[49m\u001b[43m \u001b[49m\u001b[43mstorageClass\u001b[49m\u001b[38;5;241;43m=\u001b[39;49m\u001b[43mstorageClass\u001b[49m\u001b[43m)\u001b[49m\n",
      "File \u001b[0;32m/opt/lsst/software/stack/stack/miniconda3-py38_4.9.2-5.1.0/Linux64/daf_butler/g03715f143a+54def6c379/python/lsst/daf/butler/datastores/fileDatastore.py:2200\u001b[0m, in \u001b[0;36mFileDatastore.get\u001b[0;34m(self, ref, parameters, storageClass)\u001b[0m\n\u001b[1;32m   2193\u001b[0m \u001b[38;5;28;01melse\u001b[39;00m:\n\u001b[1;32m   2194\u001b[0m     \u001b[38;5;66;03m# For an assembled composite this could be a derived\u001b[39;00m\n\u001b[1;32m   2195\u001b[0m     \u001b[38;5;66;03m# component derived from a real component. The validity\u001b[39;00m\n\u001b[1;32m   2196\u001b[0m     \u001b[38;5;66;03m# of the parameters is not clear. For now validate against\u001b[39;00m\n\u001b[1;32m   2197\u001b[0m     \u001b[38;5;66;03m# the composite storage class\u001b[39;00m\n\u001b[1;32m   2198\u001b[0m     getInfo\u001b[38;5;241m.\u001b[39mformatter\u001b[38;5;241m.\u001b[39mfileDescriptor\u001b[38;5;241m.\u001b[39mstorageClass\u001b[38;5;241m.\u001b[39mvalidateParameters(parameters)\n\u001b[0;32m-> 2200\u001b[0m \u001b[38;5;28;01mreturn\u001b[39;00m \u001b[38;5;28;43mself\u001b[39;49m\u001b[38;5;241;43m.\u001b[39;49m\u001b[43m_read_artifact_into_memory\u001b[49m\u001b[43m(\u001b[49m\u001b[43mgetInfo\u001b[49m\u001b[43m,\u001b[49m\u001b[43m \u001b[49m\u001b[43mref\u001b[49m\u001b[43m,\u001b[49m\u001b[43m \u001b[49m\u001b[43misComponent\u001b[49m\u001b[38;5;241;43m=\u001b[39;49m\u001b[43misComponent\u001b[49m\u001b[43m,\u001b[49m\u001b[43m \u001b[49m\u001b[43mcache_ref\u001b[49m\u001b[38;5;241;43m=\u001b[39;49m\u001b[43mcache_ref\u001b[49m\u001b[43m)\u001b[49m\n",
      "File \u001b[0;32m/opt/lsst/software/stack/stack/miniconda3-py38_4.9.2-5.1.0/Linux64/daf_butler/g03715f143a+54def6c379/python/lsst/daf/butler/datastores/fileDatastore.py:1296\u001b[0m, in \u001b[0;36mFileDatastore._read_artifact_into_memory\u001b[0;34m(self, getInfo, ref, isComponent, cache_ref)\u001b[0m\n\u001b[1;32m   1293\u001b[0m     uri \u001b[38;5;241m=\u001b[39m cached_file\n\u001b[1;32m   1294\u001b[0m     location_updated \u001b[38;5;241m=\u001b[39m \u001b[38;5;28;01mTrue\u001b[39;00m\n\u001b[0;32m-> 1296\u001b[0m \u001b[38;5;28;01mwith\u001b[39;00m uri\u001b[38;5;241m.\u001b[39mas_local() \u001b[38;5;28;01mas\u001b[39;00m local_uri:\n\u001b[1;32m   1298\u001b[0m     can_be_cached \u001b[38;5;241m=\u001b[39m \u001b[38;5;28;01mFalse\u001b[39;00m\n\u001b[1;32m   1299\u001b[0m     \u001b[38;5;28;01mif\u001b[39;00m uri \u001b[38;5;241m!=\u001b[39m local_uri:\n\u001b[1;32m   1300\u001b[0m         \u001b[38;5;66;03m# URI was remote and file was downloaded\u001b[39;00m\n",
      "File \u001b[0;32m/opt/lsst/software/stack/conda/miniconda3-py38_4.9.2/envs/lsst-scipipe-5.1.0/lib/python3.10/contextlib.py:135\u001b[0m, in \u001b[0;36m_GeneratorContextManager.__enter__\u001b[0;34m(self)\u001b[0m\n\u001b[1;32m    133\u001b[0m \u001b[38;5;28;01mdel\u001b[39;00m \u001b[38;5;28mself\u001b[39m\u001b[38;5;241m.\u001b[39margs, \u001b[38;5;28mself\u001b[39m\u001b[38;5;241m.\u001b[39mkwds, \u001b[38;5;28mself\u001b[39m\u001b[38;5;241m.\u001b[39mfunc\n\u001b[1;32m    134\u001b[0m \u001b[38;5;28;01mtry\u001b[39;00m:\n\u001b[0;32m--> 135\u001b[0m     \u001b[38;5;28;01mreturn\u001b[39;00m \u001b[38;5;28;43mnext\u001b[39;49m\u001b[43m(\u001b[49m\u001b[38;5;28;43mself\u001b[39;49m\u001b[38;5;241;43m.\u001b[39;49m\u001b[43mgen\u001b[49m\u001b[43m)\u001b[49m\n\u001b[1;32m    136\u001b[0m \u001b[38;5;28;01mexcept\u001b[39;00m \u001b[38;5;167;01mStopIteration\u001b[39;00m:\n\u001b[1;32m    137\u001b[0m     \u001b[38;5;28;01mraise\u001b[39;00m \u001b[38;5;167;01mRuntimeError\u001b[39;00m(\u001b[38;5;124m\"\u001b[39m\u001b[38;5;124mgenerator didn\u001b[39m\u001b[38;5;124m'\u001b[39m\u001b[38;5;124mt yield\u001b[39m\u001b[38;5;124m\"\u001b[39m) \u001b[38;5;28;01mfrom\u001b[39;00m \u001b[38;5;28mNone\u001b[39m\n",
      "File \u001b[0;32m/opt/lsst/software/stack/stack/miniconda3-py38_4.9.2-5.1.0/Linux64/resources/g7f03f9c3c1+b7b07ddc7e/python/lsst/resources/_resourcePath.py:822\u001b[0m, in \u001b[0;36mResourcePath.as_local\u001b[0;34m(self)\u001b[0m\n\u001b[1;32m    820\u001b[0m \u001b[38;5;28;01mif\u001b[39;00m \u001b[38;5;28mself\u001b[39m\u001b[38;5;241m.\u001b[39mdirLike:\n\u001b[1;32m    821\u001b[0m     \u001b[38;5;28;01mraise\u001b[39;00m \u001b[38;5;167;01mIsADirectoryError\u001b[39;00m(\u001b[38;5;124mf\u001b[39m\u001b[38;5;124m\"\u001b[39m\u001b[38;5;124mDirectory-like URI \u001b[39m\u001b[38;5;132;01m{\u001b[39;00m\u001b[38;5;28mself\u001b[39m\u001b[38;5;132;01m}\u001b[39;00m\u001b[38;5;124m cannot be fetched as local.\u001b[39m\u001b[38;5;124m\"\u001b[39m)\n\u001b[0;32m--> 822\u001b[0m local_src, is_temporary \u001b[38;5;241m=\u001b[39m \u001b[38;5;28;43mself\u001b[39;49m\u001b[38;5;241;43m.\u001b[39;49m\u001b[43m_as_local\u001b[49m\u001b[43m(\u001b[49m\u001b[43m)\u001b[49m\n\u001b[1;32m    823\u001b[0m local_uri \u001b[38;5;241m=\u001b[39m ResourcePath(local_src, isTemporary\u001b[38;5;241m=\u001b[39mis_temporary)\n\u001b[1;32m    825\u001b[0m \u001b[38;5;28;01mtry\u001b[39;00m:\n",
      "File \u001b[0;32m/opt/lsst/software/stack/stack/miniconda3-py38_4.9.2-5.1.0/Linux64/resources/g7f03f9c3c1+b7b07ddc7e/python/lsst/resources/s3.py:269\u001b[0m, in \u001b[0;36mS3ResourcePath._as_local\u001b[0;34m(self)\u001b[0m\n\u001b[1;32m    263\u001b[0m     \u001b[38;5;28;01mwith\u001b[39;00m time_this(log, msg\u001b[38;5;241m=\u001b[39m\u001b[38;5;124m\"\u001b[39m\u001b[38;5;124mDownloading \u001b[39m\u001b[38;5;132;01m%s\u001b[39;00m\u001b[38;5;124m to local file\u001b[39m\u001b[38;5;124m\"\u001b[39m, args\u001b[38;5;241m=\u001b[39m(\u001b[38;5;28mself\u001b[39m,)):\n\u001b[1;32m    264\u001b[0m         progress \u001b[38;5;241m=\u001b[39m (\n\u001b[1;32m    265\u001b[0m             ProgressPercentage(\u001b[38;5;28mself\u001b[39m, msg\u001b[38;5;241m=\u001b[39m\u001b[38;5;124m\"\u001b[39m\u001b[38;5;124mDownloading:\u001b[39m\u001b[38;5;124m\"\u001b[39m)\n\u001b[1;32m    266\u001b[0m             \u001b[38;5;28;01mif\u001b[39;00m log\u001b[38;5;241m.\u001b[39misEnabledFor(ProgressPercentage\u001b[38;5;241m.\u001b[39mlog_level)\n\u001b[1;32m    267\u001b[0m             \u001b[38;5;28;01melse\u001b[39;00m \u001b[38;5;28;01mNone\u001b[39;00m\n\u001b[1;32m    268\u001b[0m         )\n\u001b[0;32m--> 269\u001b[0m         \u001b[38;5;28;43mself\u001b[39;49m\u001b[38;5;241;43m.\u001b[39;49m\u001b[43m_download_file\u001b[49m\u001b[43m(\u001b[49m\u001b[43mtmpFile\u001b[49m\u001b[43m,\u001b[49m\u001b[43m \u001b[49m\u001b[43mprogress\u001b[49m\u001b[43m)\u001b[49m\n\u001b[1;32m    270\u001b[0m \u001b[38;5;28;01mreturn\u001b[39;00m tmpFile\u001b[38;5;241m.\u001b[39mname, \u001b[38;5;28;01mTrue\u001b[39;00m\n",
      "File \u001b[0;32m/opt/lsst/software/stack/conda/miniconda3-py38_4.9.2/envs/lsst-scipipe-5.1.0/lib/python3.10/site-packages/backoff/_sync.py:105\u001b[0m, in \u001b[0;36mretry_exception.<locals>.retry\u001b[0;34m(*args, **kwargs)\u001b[0m\n\u001b[1;32m     96\u001b[0m details \u001b[38;5;241m=\u001b[39m {\n\u001b[1;32m     97\u001b[0m     \u001b[38;5;124m\"\u001b[39m\u001b[38;5;124mtarget\u001b[39m\u001b[38;5;124m\"\u001b[39m: target,\n\u001b[1;32m     98\u001b[0m     \u001b[38;5;124m\"\u001b[39m\u001b[38;5;124margs\u001b[39m\u001b[38;5;124m\"\u001b[39m: args,\n\u001b[0;32m   (...)\u001b[0m\n\u001b[1;32m    101\u001b[0m     \u001b[38;5;124m\"\u001b[39m\u001b[38;5;124melapsed\u001b[39m\u001b[38;5;124m\"\u001b[39m: elapsed,\n\u001b[1;32m    102\u001b[0m }\n\u001b[1;32m    104\u001b[0m \u001b[38;5;28;01mtry\u001b[39;00m:\n\u001b[0;32m--> 105\u001b[0m     ret \u001b[38;5;241m=\u001b[39m \u001b[43mtarget\u001b[49m\u001b[43m(\u001b[49m\u001b[38;5;241;43m*\u001b[39;49m\u001b[43margs\u001b[49m\u001b[43m,\u001b[49m\u001b[43m \u001b[49m\u001b[38;5;241;43m*\u001b[39;49m\u001b[38;5;241;43m*\u001b[39;49m\u001b[43mkwargs\u001b[49m\u001b[43m)\u001b[49m\n\u001b[1;32m    106\u001b[0m \u001b[38;5;28;01mexcept\u001b[39;00m exception \u001b[38;5;28;01mas\u001b[39;00m e:\n\u001b[1;32m    107\u001b[0m     max_tries_exceeded \u001b[38;5;241m=\u001b[39m (tries \u001b[38;5;241m==\u001b[39m max_tries_value)\n",
      "File \u001b[0;32m/opt/lsst/software/stack/stack/miniconda3-py38_4.9.2-5.1.0/Linux64/resources/g7f03f9c3c1+b7b07ddc7e/python/lsst/resources/s3.py:242\u001b[0m, in \u001b[0;36mS3ResourcePath._download_file\u001b[0;34m(self, local_file, progress)\u001b[0m\n\u001b[1;32m    236\u001b[0m \u001b[38;5;124;03m\"\"\"Download the remote resource to a local file.\u001b[39;00m\n\u001b[1;32m    237\u001b[0m \n\u001b[1;32m    238\u001b[0m \u001b[38;5;124;03mHelper routine for _as_local to allow backoff without regenerating\u001b[39;00m\n\u001b[1;32m    239\u001b[0m \u001b[38;5;124;03mthe temporary file.\u001b[39;00m\n\u001b[1;32m    240\u001b[0m \u001b[38;5;124;03m\"\"\"\u001b[39;00m\n\u001b[1;32m    241\u001b[0m \u001b[38;5;28;01mtry\u001b[39;00m:\n\u001b[0;32m--> 242\u001b[0m     \u001b[38;5;28;43mself\u001b[39;49m\u001b[38;5;241;43m.\u001b[39;49m\u001b[43mclient\u001b[49m\u001b[38;5;241;43m.\u001b[39;49m\u001b[43mdownload_fileobj\u001b[49m\u001b[43m(\u001b[49m\u001b[38;5;28;43mself\u001b[39;49m\u001b[38;5;241;43m.\u001b[39;49m\u001b[43mnetloc\u001b[49m\u001b[43m,\u001b[49m\u001b[43m \u001b[49m\u001b[38;5;28;43mself\u001b[39;49m\u001b[38;5;241;43m.\u001b[39;49m\u001b[43mrelativeToPathRoot\u001b[49m\u001b[43m,\u001b[49m\u001b[43m \u001b[49m\u001b[43mlocal_file\u001b[49m\u001b[43m,\u001b[49m\u001b[43m \u001b[49m\u001b[43mCallback\u001b[49m\u001b[38;5;241;43m=\u001b[39;49m\u001b[43mprogress\u001b[49m\u001b[43m)\u001b[49m\n\u001b[1;32m    243\u001b[0m \u001b[38;5;28;01mexcept\u001b[39;00m (\n\u001b[1;32m    244\u001b[0m     \u001b[38;5;28mself\u001b[39m\u001b[38;5;241m.\u001b[39mclient\u001b[38;5;241m.\u001b[39mexceptions\u001b[38;5;241m.\u001b[39mNoSuchKey,\n\u001b[1;32m    245\u001b[0m     \u001b[38;5;28mself\u001b[39m\u001b[38;5;241m.\u001b[39mclient\u001b[38;5;241m.\u001b[39mexceptions\u001b[38;5;241m.\u001b[39mNoSuchBucket,\n\u001b[1;32m    246\u001b[0m ) \u001b[38;5;28;01mas\u001b[39;00m err:\n\u001b[1;32m    247\u001b[0m     \u001b[38;5;28;01mraise\u001b[39;00m \u001b[38;5;167;01mFileNotFoundError\u001b[39;00m(\u001b[38;5;124mf\u001b[39m\u001b[38;5;124m\"\u001b[39m\u001b[38;5;124mNo such resource: \u001b[39m\u001b[38;5;132;01m{\u001b[39;00m\u001b[38;5;28mself\u001b[39m\u001b[38;5;132;01m}\u001b[39;00m\u001b[38;5;124m\"\u001b[39m) \u001b[38;5;28;01mfrom\u001b[39;00m \u001b[38;5;21;01merr\u001b[39;00m\n",
      "File \u001b[0;32m/opt/lsst/software/stack/conda/miniconda3-py38_4.9.2/envs/lsst-scipipe-5.1.0/lib/python3.10/site-packages/boto3/s3/inject.py:795\u001b[0m, in \u001b[0;36mdownload_fileobj\u001b[0;34m(self, Bucket, Key, Fileobj, ExtraArgs, Callback, Config)\u001b[0m\n\u001b[1;32m    787\u001b[0m \u001b[38;5;28;01mwith\u001b[39;00m create_transfer_manager(\u001b[38;5;28mself\u001b[39m, config) \u001b[38;5;28;01mas\u001b[39;00m manager:\n\u001b[1;32m    788\u001b[0m     future \u001b[38;5;241m=\u001b[39m manager\u001b[38;5;241m.\u001b[39mdownload(\n\u001b[1;32m    789\u001b[0m         bucket\u001b[38;5;241m=\u001b[39mBucket,\n\u001b[1;32m    790\u001b[0m         key\u001b[38;5;241m=\u001b[39mKey,\n\u001b[0;32m   (...)\u001b[0m\n\u001b[1;32m    793\u001b[0m         subscribers\u001b[38;5;241m=\u001b[39msubscribers,\n\u001b[1;32m    794\u001b[0m     )\n\u001b[0;32m--> 795\u001b[0m     \u001b[38;5;28;01mreturn\u001b[39;00m \u001b[43mfuture\u001b[49m\u001b[38;5;241;43m.\u001b[39;49m\u001b[43mresult\u001b[49m\u001b[43m(\u001b[49m\u001b[43m)\u001b[49m\n",
      "File \u001b[0;32m/opt/lsst/software/stack/conda/miniconda3-py38_4.9.2/envs/lsst-scipipe-5.1.0/lib/python3.10/site-packages/s3transfer/futures.py:103\u001b[0m, in \u001b[0;36mTransferFuture.result\u001b[0;34m(self)\u001b[0m\n\u001b[1;32m     98\u001b[0m \u001b[38;5;28;01mdef\u001b[39;00m \u001b[38;5;21mresult\u001b[39m(\u001b[38;5;28mself\u001b[39m):\n\u001b[1;32m     99\u001b[0m     \u001b[38;5;28;01mtry\u001b[39;00m:\n\u001b[1;32m    100\u001b[0m         \u001b[38;5;66;03m# Usually the result() method blocks until the transfer is done,\u001b[39;00m\n\u001b[1;32m    101\u001b[0m         \u001b[38;5;66;03m# however if a KeyboardInterrupt is raised we want want to exit\u001b[39;00m\n\u001b[1;32m    102\u001b[0m         \u001b[38;5;66;03m# out of this and propagate the exception.\u001b[39;00m\n\u001b[0;32m--> 103\u001b[0m         \u001b[38;5;28;01mreturn\u001b[39;00m \u001b[38;5;28;43mself\u001b[39;49m\u001b[38;5;241;43m.\u001b[39;49m\u001b[43m_coordinator\u001b[49m\u001b[38;5;241;43m.\u001b[39;49m\u001b[43mresult\u001b[49m\u001b[43m(\u001b[49m\u001b[43m)\u001b[49m\n\u001b[1;32m    104\u001b[0m     \u001b[38;5;28;01mexcept\u001b[39;00m \u001b[38;5;167;01mKeyboardInterrupt\u001b[39;00m \u001b[38;5;28;01mas\u001b[39;00m e:\n\u001b[1;32m    105\u001b[0m         \u001b[38;5;28mself\u001b[39m\u001b[38;5;241m.\u001b[39mcancel()\n",
      "File \u001b[0;32m/opt/lsst/software/stack/conda/miniconda3-py38_4.9.2/envs/lsst-scipipe-5.1.0/lib/python3.10/site-packages/s3transfer/futures.py:266\u001b[0m, in \u001b[0;36mTransferCoordinator.result\u001b[0;34m(self)\u001b[0m\n\u001b[1;32m    263\u001b[0m \u001b[38;5;66;03m# Once done waiting, raise an exception if present or return the\u001b[39;00m\n\u001b[1;32m    264\u001b[0m \u001b[38;5;66;03m# final result.\u001b[39;00m\n\u001b[1;32m    265\u001b[0m \u001b[38;5;28;01mif\u001b[39;00m \u001b[38;5;28mself\u001b[39m\u001b[38;5;241m.\u001b[39m_exception:\n\u001b[0;32m--> 266\u001b[0m     \u001b[38;5;28;01mraise\u001b[39;00m \u001b[38;5;28mself\u001b[39m\u001b[38;5;241m.\u001b[39m_exception\n\u001b[1;32m    267\u001b[0m \u001b[38;5;28;01mreturn\u001b[39;00m \u001b[38;5;28mself\u001b[39m\u001b[38;5;241m.\u001b[39m_result\n",
      "File \u001b[0;32m/opt/lsst/software/stack/conda/miniconda3-py38_4.9.2/envs/lsst-scipipe-5.1.0/lib/python3.10/site-packages/s3transfer/tasks.py:139\u001b[0m, in \u001b[0;36mTask.__call__\u001b[0;34m(self)\u001b[0m\n\u001b[1;32m    135\u001b[0m     \u001b[38;5;66;03m# If the task is not done (really only if some other related\u001b[39;00m\n\u001b[1;32m    136\u001b[0m     \u001b[38;5;66;03m# task to the TransferFuture had failed) then execute the task's\u001b[39;00m\n\u001b[1;32m    137\u001b[0m     \u001b[38;5;66;03m# main() method.\u001b[39;00m\n\u001b[1;32m    138\u001b[0m     \u001b[38;5;28;01mif\u001b[39;00m \u001b[38;5;129;01mnot\u001b[39;00m \u001b[38;5;28mself\u001b[39m\u001b[38;5;241m.\u001b[39m_transfer_coordinator\u001b[38;5;241m.\u001b[39mdone():\n\u001b[0;32m--> 139\u001b[0m         \u001b[38;5;28;01mreturn\u001b[39;00m \u001b[38;5;28;43mself\u001b[39;49m\u001b[38;5;241;43m.\u001b[39;49m\u001b[43m_execute_main\u001b[49m\u001b[43m(\u001b[49m\u001b[43mkwargs\u001b[49m\u001b[43m)\u001b[49m\n\u001b[1;32m    140\u001b[0m \u001b[38;5;28;01mexcept\u001b[39;00m \u001b[38;5;167;01mException\u001b[39;00m \u001b[38;5;28;01mas\u001b[39;00m e:\n\u001b[1;32m    141\u001b[0m     \u001b[38;5;28mself\u001b[39m\u001b[38;5;241m.\u001b[39m_log_and_set_exception(e)\n",
      "File \u001b[0;32m/opt/lsst/software/stack/conda/miniconda3-py38_4.9.2/envs/lsst-scipipe-5.1.0/lib/python3.10/site-packages/s3transfer/tasks.py:162\u001b[0m, in \u001b[0;36mTask._execute_main\u001b[0;34m(self, kwargs)\u001b[0m\n\u001b[1;32m    159\u001b[0m \u001b[38;5;66;03m# Log what is about to be executed.\u001b[39;00m\n\u001b[1;32m    160\u001b[0m logger\u001b[38;5;241m.\u001b[39mdebug(\u001b[38;5;124mf\u001b[39m\u001b[38;5;124m\"\u001b[39m\u001b[38;5;124mExecuting task \u001b[39m\u001b[38;5;132;01m{\u001b[39;00m\u001b[38;5;28mself\u001b[39m\u001b[38;5;132;01m}\u001b[39;00m\u001b[38;5;124m with kwargs \u001b[39m\u001b[38;5;132;01m{\u001b[39;00mkwargs_to_display\u001b[38;5;132;01m}\u001b[39;00m\u001b[38;5;124m\"\u001b[39m)\n\u001b[0;32m--> 162\u001b[0m return_value \u001b[38;5;241m=\u001b[39m \u001b[38;5;28;43mself\u001b[39;49m\u001b[38;5;241;43m.\u001b[39;49m\u001b[43m_main\u001b[49m\u001b[43m(\u001b[49m\u001b[38;5;241;43m*\u001b[39;49m\u001b[38;5;241;43m*\u001b[39;49m\u001b[43mkwargs\u001b[49m\u001b[43m)\u001b[49m\n\u001b[1;32m    163\u001b[0m \u001b[38;5;66;03m# If the task is the final task, then set the TransferFuture's\u001b[39;00m\n\u001b[1;32m    164\u001b[0m \u001b[38;5;66;03m# value to the return value from main().\u001b[39;00m\n\u001b[1;32m    165\u001b[0m \u001b[38;5;28;01mif\u001b[39;00m \u001b[38;5;28mself\u001b[39m\u001b[38;5;241m.\u001b[39m_is_final:\n",
      "File \u001b[0;32m/opt/lsst/software/stack/conda/miniconda3-py38_4.9.2/envs/lsst-scipipe-5.1.0/lib/python3.10/site-packages/s3transfer/download.py:643\u001b[0m, in \u001b[0;36mIOWriteTask._main\u001b[0;34m(self, fileobj, data, offset)\u001b[0m\n\u001b[1;32m    636\u001b[0m \u001b[38;5;124;03m\"\"\"Pulls off an io queue to write contents to a file\u001b[39;00m\n\u001b[1;32m    637\u001b[0m \n\u001b[1;32m    638\u001b[0m \u001b[38;5;124;03m:param fileobj: The file handle to write content to\u001b[39;00m\n\u001b[1;32m    639\u001b[0m \u001b[38;5;124;03m:param data: The data to write\u001b[39;00m\n\u001b[1;32m    640\u001b[0m \u001b[38;5;124;03m:param offset: The offset to write the data to.\u001b[39;00m\n\u001b[1;32m    641\u001b[0m \u001b[38;5;124;03m\"\"\"\u001b[39;00m\n\u001b[1;32m    642\u001b[0m fileobj\u001b[38;5;241m.\u001b[39mseek(offset)\n\u001b[0;32m--> 643\u001b[0m \u001b[43mfileobj\u001b[49m\u001b[38;5;241;43m.\u001b[39;49m\u001b[43mwrite\u001b[49m\u001b[43m(\u001b[49m\u001b[43mdata\u001b[49m\u001b[43m)\u001b[49m\n",
      "File \u001b[0;32m/opt/lsst/software/stack/conda/miniconda3-py38_4.9.2/envs/lsst-scipipe-5.1.0/lib/python3.10/tempfile.py:483\u001b[0m, in \u001b[0;36m_TemporaryFileWrapper.__getattr__.<locals>.func_wrapper\u001b[0;34m(*args, **kwargs)\u001b[0m\n\u001b[1;32m    481\u001b[0m \u001b[38;5;129m@_functools\u001b[39m\u001b[38;5;241m.\u001b[39mwraps(func)\n\u001b[1;32m    482\u001b[0m \u001b[38;5;28;01mdef\u001b[39;00m \u001b[38;5;21mfunc_wrapper\u001b[39m(\u001b[38;5;241m*\u001b[39margs, \u001b[38;5;241m*\u001b[39m\u001b[38;5;241m*\u001b[39mkwargs):\n\u001b[0;32m--> 483\u001b[0m     \u001b[38;5;28;01mreturn\u001b[39;00m \u001b[43mfunc\u001b[49m\u001b[43m(\u001b[49m\u001b[38;5;241;43m*\u001b[39;49m\u001b[43margs\u001b[49m\u001b[43m,\u001b[49m\u001b[43m \u001b[49m\u001b[38;5;241;43m*\u001b[39;49m\u001b[38;5;241;43m*\u001b[39;49m\u001b[43mkwargs\u001b[49m\u001b[43m)\u001b[49m\n",
      "\u001b[0;31mOSError\u001b[0m: [Errno 28] No space left on device"
     ]
    }
   ],
   "source": [
    "all_dataId = []     # full data id\n",
    "all_spec = []       # spectra\n",
    "all_exposures = []  # exposure number\n",
    "all_num = []        # sequence numbers\n",
    "\n",
    "\n",
    "\n",
    "for i, ref in enumerate(datasetRefs):\n",
    "\n",
    "    print(f\"============= ({i}) ============datasetType = spectraction ============================================\")\n",
    "    print(\"fullId..................:\",ref.dataId.full)\n",
    "    print(\"visit...................:\",ref.dataId[\"visit\"])\n",
    "    print(\"band....................:\",ref.dataId[\"band\"])\n",
    "    print(\"physical filter.........:\",ref.dataId[\"physical_filter\"])\n",
    "    print(\"run.....................:\",ref.run)\n",
    "    the_exposure = ref.dataId[\"visit\"]\n",
    "    the_day_obs = ref.dataId[\"visit\"]//100_000\n",
    "    the_seq_num = ref.dataId[\"visit\"]- the_day_obs*100_000    \n",
    "    the_dataId = {'day_obs': the_day_obs,'seq_num':the_seq_num,'detector':0}\n",
    "    print(the_dataId)\n",
    "    \n",
    "    # retrieve the spectrum from Butler\n",
    "    #spec       = butler.get('spectraction',the_dataId)\n",
    "    spec = butler.get('spectraction', visit=the_exposure, detector=0, collections=my_collection, instrument='LATISS')\n",
    "    \n",
    "    # save in collection lists\n",
    "    all_dataId.append(the_dataId) \n",
    "    all_exposures.append(the_exposure)\n",
    "    all_spec.append(spec)\n",
    "    all_num.append(the_seq_num)\n",
    "    \n",
    "    if i>12:\n",
    "        break\n",
    "          \n"
   ]
  },
  {
   "cell_type": "markdown",
   "id": "f26b3f62-34f7-4cbd-bad4-c48be4e07ed9",
   "metadata": {},
   "source": [
    "## Plot"
   ]
  },
  {
   "cell_type": "code",
   "execution_count": null,
   "id": "4fea39ba-2f11-4a8a-9248-c37ce3e7c0f4",
   "metadata": {
    "execution": {
     "iopub.status.busy": "2023-01-31T14:06:36.594697Z",
     "iopub.status.idle": "2023-01-31T14:06:36.594902Z",
     "shell.execute_reply": "2023-01-31T14:06:36.594804Z",
     "shell.execute_reply.started": "2023-01-31T14:06:36.594794Z"
    },
    "tags": []
   },
   "outputs": [],
   "source": [
    "%matplotlib inline\n",
    "\n",
    "FLAG_ORDER2 = False\n",
    "\n",
    "infos = []\n",
    "all_lambdas=[]\n",
    "all_data=[]\n",
    "all_data_err=[]\n",
    "\n",
    "if FLAG_ORDER2:\n",
    "    all_lambdas_order2=[]\n",
    "    all_data_order2=[]\n",
    "    all_data_err_order2=[]\n",
    "\n",
    "\n",
    "idx=0\n",
    "for spec in all_spec:\n",
    "    \n",
    "    \n",
    "    s=spec.spectrum\n",
    "    label = str(idx) +\"):\" + str(all_exposures[idx])\n",
    "    \n",
    "    try:\n",
    "        fig=plt.figure(figsize=(16,4))\n",
    "    \n",
    "        ax1 = fig.add_subplot(1, 2, 1)\n",
    "        s.plot_spectrum(ax=ax1,force_lines=True,label=label)\n",
    "    \n",
    "        ax2 = fig.add_subplot(1, 2, 2)\n",
    "        s.plot_spectrogram(ax=ax2,scale=\"log\")\n",
    "    \n",
    "        all_lambdas.append(s.lambdas)\n",
    "        all_data.append(s.data)\n",
    "        all_data_err.append(s.err)\n",
    "    \n",
    "        if FLAG_ORDER2:\n",
    "            all_lambdas_order2.append(s.lambdas_order2)\n",
    "            all_data_order2.append(s.data_order2)\n",
    "            all_data_err_order2.append(s.err_order2)\n",
    "            \n",
    "        #save info    \n",
    "        infos.append([idx,s.target.label,s.date_obs,s.airmass,s.temperature,s.pressure,s.humidity])\n",
    "            \n",
    "    except Exception as inst:\n",
    "        print(\" >>> Exception catched for \"+ label )\n",
    "        print(type(inst))    # the exception instance\n",
    "        print(inst.args)     # arguments stored in .args\n",
    "\n",
    "    \n",
    "        \n",
    "    #infos.append([idx,s.target.label,s.date_obs,s.airmass,s.temperature,s.pressure,s.humidity])\n",
    "    idx+=1"
   ]
  },
  {
   "cell_type": "code",
   "execution_count": null,
   "id": "268381d5-df2a-44e8-9736-d2df5ae7dc3f",
   "metadata": {
    "execution": {
     "iopub.status.busy": "2023-01-31T14:06:36.595890Z",
     "iopub.status.idle": "2023-01-31T14:06:36.596086Z",
     "shell.execute_reply": "2023-01-31T14:06:36.595993Z",
     "shell.execute_reply.started": "2023-01-31T14:06:36.595984Z"
    },
    "tags": []
   },
   "outputs": [],
   "source": [
    "plt.imshow(spec.image.data-spec.image.data.min(),origin=\"lower\",norm=LogNorm(vmin=1,vmax=1000))"
   ]
  },
  {
   "cell_type": "markdown",
   "id": "dcf6921d-adfb-4569-b31c-b28e8df46bc3",
   "metadata": {},
   "source": [
    "# Generate info"
   ]
  },
  {
   "cell_type": "code",
   "execution_count": null,
   "id": "d154b5b7-8123-47c5-8bf1-b917933dd850",
   "metadata": {
    "execution": {
     "iopub.status.busy": "2023-01-31T14:06:36.596830Z",
     "iopub.status.idle": "2023-01-31T14:06:36.597033Z",
     "shell.execute_reply": "2023-01-31T14:06:36.596938Z",
     "shell.execute_reply.started": "2023-01-31T14:06:36.596929Z"
    },
    "tags": []
   },
   "outputs": [],
   "source": [
    "df_infos=pd.DataFrame(infos,columns=[\"idx\",\"object\",\"date_obs\",\"airmass\",\"temperature\",\"pressure\",\"humidity\"])"
   ]
  },
  {
   "cell_type": "code",
   "execution_count": null,
   "id": "8dbc9436-abfd-46a8-87df-fee873578de1",
   "metadata": {
    "execution": {
     "iopub.status.busy": "2023-01-31T14:06:36.597717Z",
     "iopub.status.idle": "2023-01-31T14:06:36.597911Z",
     "shell.execute_reply": "2023-01-31T14:06:36.597815Z",
     "shell.execute_reply.started": "2023-01-31T14:06:36.597806Z"
    },
    "tags": []
   },
   "outputs": [],
   "source": [
    "df_infos.set_index('idx',inplace=True)"
   ]
  },
  {
   "cell_type": "code",
   "execution_count": null,
   "id": "f0680b42-944a-41e0-8e0f-23bce235d317",
   "metadata": {
    "execution": {
     "iopub.status.busy": "2023-01-31T14:06:36.598956Z",
     "iopub.status.idle": "2023-01-31T14:06:36.599155Z",
     "shell.execute_reply": "2023-01-31T14:06:36.599061Z",
     "shell.execute_reply.started": "2023-01-31T14:06:36.599050Z"
    },
    "tags": []
   },
   "outputs": [],
   "source": [
    "all_reftime=[ (Time(tt)-Time( df_infos[\"date_obs\"].values[0])).to_value(u.hr) for tt in df_infos[\"date_obs\"].values ]"
   ]
  },
  {
   "cell_type": "code",
   "execution_count": null,
   "id": "8dc390a3-c06a-4ff0-b637-66b33355356e",
   "metadata": {
    "execution": {
     "iopub.status.busy": "2023-01-31T14:06:36.599786Z",
     "iopub.status.idle": "2023-01-31T14:06:36.600004Z",
     "shell.execute_reply": "2023-01-31T14:06:36.599904Z",
     "shell.execute_reply.started": "2023-01-31T14:06:36.599894Z"
    },
    "tags": []
   },
   "outputs": [],
   "source": [
    "all_reftime=np.array(all_reftime)"
   ]
  },
  {
   "cell_type": "code",
   "execution_count": null,
   "id": "de824a62-e759-4797-b840-363cb35bd63c",
   "metadata": {
    "execution": {
     "iopub.status.busy": "2023-01-31T14:06:36.600665Z",
     "iopub.status.idle": "2023-01-31T14:06:36.600860Z",
     "shell.execute_reply": "2023-01-31T14:06:36.600763Z",
     "shell.execute_reply.started": "2023-01-31T14:06:36.600754Z"
    },
    "tags": []
   },
   "outputs": [],
   "source": [
    "df_infos[\"reftime\"]=all_reftime"
   ]
  },
  {
   "cell_type": "code",
   "execution_count": null,
   "id": "110419ff-4d95-40b8-8436-4293014a4fd8",
   "metadata": {
    "execution": {
     "iopub.status.busy": "2023-01-31T14:06:36.601712Z",
     "iopub.status.idle": "2023-01-31T14:06:36.602185Z",
     "shell.execute_reply": "2023-01-31T14:06:36.602085Z",
     "shell.execute_reply.started": "2023-01-31T14:06:36.602075Z"
    }
   },
   "outputs": [],
   "source": [
    "NN = len(df_infos)"
   ]
  },
  {
   "cell_type": "code",
   "execution_count": null,
   "id": "99b6a222-de0e-4aa7-81ce-c3d6a889c04a",
   "metadata": {
    "execution": {
     "iopub.status.busy": "2023-01-31T14:06:36.602676Z",
     "iopub.status.idle": "2023-01-31T14:06:36.603149Z",
     "shell.execute_reply": "2023-01-31T14:06:36.603046Z",
     "shell.execute_reply.started": "2023-01-31T14:06:36.603036Z"
    }
   },
   "outputs": [],
   "source": [
    "df_infos"
   ]
  },
  {
   "cell_type": "markdown",
   "id": "dc731281-48ed-4328-8ce6-42dab4332d59",
   "metadata": {},
   "source": [
    "### Save info file"
   ]
  },
  {
   "cell_type": "code",
   "execution_count": null,
   "id": "932ca0ec-507d-4022-8325-55d689ac0eb2",
   "metadata": {
    "execution": {
     "iopub.status.busy": "2023-01-31T14:06:36.603623Z",
     "iopub.status.idle": "2023-01-31T14:06:36.604084Z",
     "shell.execute_reply": "2023-01-31T14:06:36.603982Z",
     "shell.execute_reply.started": "2023-01-31T14:06:36.603972Z"
    }
   },
   "outputs": [],
   "source": [
    "#summary_file = f\"summaryspectra_{DATE}-{filterdispersername}-{configmode}-oga.csv\"\n",
    "summary_file = f\"summaryspectra_{DATE}-{filterdispersername}-{configmode}{ext}-oga.csv\"\n",
    "df_infos.to_csv(summary_file)"
   ]
  },
  {
   "cell_type": "markdown",
   "id": "c994b86c-bc35-455b-b363-a3dcc64fb406",
   "metadata": {},
   "source": [
    "## Main pickle file"
   ]
  },
  {
   "cell_type": "code",
   "execution_count": null,
   "id": "db6f01f6-e140-4604-9fed-176f964a7c22",
   "metadata": {
    "execution": {
     "iopub.status.busy": "2023-01-31T14:06:36.604562Z",
     "iopub.status.idle": "2023-01-31T14:06:36.605011Z",
     "shell.execute_reply": "2023-01-31T14:06:36.604907Z",
     "shell.execute_reply.started": "2023-01-31T14:06:36.604896Z"
    }
   },
   "outputs": [],
   "source": [
    "#spec.image.target_pixcoords"
   ]
  },
  {
   "cell_type": "code",
   "execution_count": null,
   "id": "072a5a1c-8313-4767-b81c-b87a48c5b270",
   "metadata": {
    "execution": {
     "iopub.status.busy": "2023-01-31T14:06:36.605515Z",
     "iopub.status.idle": "2023-01-31T14:06:36.606006Z",
     "shell.execute_reply": "2023-01-31T14:06:36.605906Z",
     "shell.execute_reply.started": "2023-01-31T14:06:36.605896Z"
    }
   },
   "outputs": [],
   "source": [
    "header = spec.spectrum.header\n",
    "header"
   ]
  },
  {
   "cell_type": "code",
   "execution_count": null,
   "id": "75ea215c-2276-48f6-a847-54141ee55127",
   "metadata": {
    "execution": {
     "iopub.status.busy": "2023-01-31T14:06:36.606489Z",
     "iopub.status.idle": "2023-01-31T14:06:36.606975Z",
     "shell.execute_reply": "2023-01-31T14:06:36.606876Z",
     "shell.execute_reply.started": "2023-01-31T14:06:36.606863Z"
    }
   },
   "outputs": [],
   "source": [
    "\n",
    "\n",
    "all_rebin=np.zeros(NN)\n",
    "all_targetx=np.zeros(NN)\n",
    "all_targety=np.zeros(NN)\n",
    "all_rotangle=np.zeros(NN)\n",
    "all_d2ccd=np.zeros(NN)\n",
    "all_pixshift=np.zeros(NN)\n",
    "all_chi2_fit=np.zeros(NN)\n",
    "all_a2_fit=np.zeros(NN)\n",
    "all_lbda_ref=np.zeros(NN)\n",
    "all_tagnumber=np.zeros(NN)\n",
    "all_errors=np.zeros(NN)\n",
    "\n",
    "\n",
    "for idx in range(NN):\n",
    "    \n",
    "    header = all_spec[idx].spectrum.header\n",
    "    tagnum=str(all_num[idx])\n",
    "    \n",
    "    #ROTANGLE=  -0.1367006901184345 / [deg] angle of the dispersion axis             \n",
    "    #D2CCD   =    179.6778868175837 / [mm] distance between disperser and CCD        \n",
    "    #TARGETX =    315.9547462941386 / target position on X axis                      \n",
    "    #TARGETY =    75.06785960446246 / target position on Y axis                      \n",
    "    #LBDA_REF=    634.9155139280113                                                  \n",
    "    #PIXSHIFT=  -0.9996981508176748                                                  \n",
    "    #CHI2_FIT=    1.602115867259752                                                  \n",
    "    #A2_FIT  =                  1.0                                                  \n",
    "    #REBIN   =                    2 / original image rebinning factor to get spectrum\n",
    "    \n",
    "    try :\n",
    "        rebin=header[\"REBIN\"]\n",
    "    except KeyError as e:\n",
    "        rebin=2\n",
    "        all_errors[idx]=1\n",
    "        print(f\"KeyError exception for spec {idx}: \" + str(e) + f\" ! ==> force rebin = {rebin}\")\n",
    "        \n",
    "        \n",
    "        \n",
    "    targetx=header[\"TARGETX\"]*rebin\n",
    "    targety=header[\"TARGETY\"]*rebin\n",
    "    rotangle=header[\"ROTANGLE\"]\n",
    "    d2ccd=header[\"D2CCD\"]\n",
    "    pixshift=header[\"PIXSHIFT\"]\n",
    "    \n",
    "    if header.get(\"CHI2_FIT\") != None:\n",
    "        chi2_fit=header[\"CHI2_FIT\"]\n",
    "    else:\n",
    "        chi2_fit= -1\n",
    "        \n",
    "    if header.get(\"A2_FIT\") != None:\n",
    "        a2_fit=header[\"A2_FIT\"]\n",
    "    else:\n",
    "        a2_fit=-1\n",
    "    \n",
    "    \n",
    "    lbda_ref=header[\"LBDA_REF\"]\n",
    "    \n",
    "    \n",
    "    all_rebin[idx]=rebin\n",
    "    all_targetx[idx]=targetx\n",
    "    all_targety[idx]=targety\n",
    "    all_rotangle[idx]=rotangle\n",
    "    all_d2ccd[idx]=d2ccd\n",
    "    all_pixshift[idx]=pixshift\n",
    "    \n",
    "    \n",
    "    all_chi2_fit[idx]=chi2_fit\n",
    "    all_a2_fit[idx]=a2_fit\n",
    "    all_lbda_ref[idx]=lbda_ref\n",
    "    all_tagnumber[idx]=tagnum\n",
    "    \n"
   ]
  },
  {
   "cell_type": "markdown",
   "id": "31b93d2e-edef-495e-b43d-6e9261f71a4c",
   "metadata": {},
   "source": [
    "## Write pickle file"
   ]
  },
  {
   "cell_type": "code",
   "execution_count": null,
   "id": "51558757-4ecb-4f46-b7ba-3e388767c991",
   "metadata": {
    "execution": {
     "iopub.status.busy": "2023-01-31T14:06:36.607588Z",
     "iopub.status.idle": "2023-01-31T14:06:36.607903Z",
     "shell.execute_reply": "2023-01-31T14:06:36.607798Z",
     "shell.execute_reply.started": "2023-01-31T14:06:36.607789Z"
    }
   },
   "outputs": [],
   "source": [
    "all_out_data = {}\n",
    "\n",
    "for idx in range(NN):\n",
    "    if FLAG_ORDER2:\n",
    "        thedata = {'number':all_tagnumber[idx],\n",
    "               'object':df_infos.iloc[idx]['object'],\n",
    "               'dateobs':df_infos.iloc[idx]['date_obs'],\n",
    "               'refhour':df_infos.iloc[idx]['reftime'],\n",
    "               'airmass':df_infos.iloc[idx]['airmass'], \n",
    "               'pressure':df_infos.iloc[idx]['pressure'], \n",
    "               'temperature':df_infos.iloc[idx]['temperature'], \n",
    "               'humidity':df_infos.iloc[idx]['humidity'], \n",
    "               'targetx_pix':all_targetx[idx],\n",
    "               'targety_pix':all_targety[idx],\n",
    "               'rotangle':all_rotangle[idx],\n",
    "               'd2ccd':all_d2ccd[idx],\n",
    "               'error':all_errors[idx],    \n",
    "               'all_lambdas':all_lambdas[idx],\n",
    "               'all_fluxes':all_data[idx],\n",
    "               'all_fluxes_err':all_data_err[idx],\n",
    "               'all_lambdas_order2':all_lambdas_order2[idx],\n",
    "               'all_fluxes_order2':all_data_order2[idx],\n",
    "               'all_fluxes_err_order2':all_data_err_order2[idx],\n",
    "              }\n",
    "    else:\n",
    "        thedata = {'number':all_tagnumber[idx],\n",
    "               'object':df_infos.iloc[idx]['object'],\n",
    "               'dateobs':df_infos.iloc[idx]['date_obs'],\n",
    "               'refhour':df_infos.iloc[idx]['reftime'],\n",
    "               'airmass':df_infos.iloc[idx]['airmass'],\n",
    "               'pressure':df_infos.iloc[idx]['pressure'], \n",
    "               'temperature':df_infos.iloc[idx]['temperature'], \n",
    "               'humidity':df_infos.iloc[idx]['humidity'], \n",
    "               'targetx_pix':all_targetx[idx],\n",
    "               'targety_pix':all_targety[idx],\n",
    "               'rotangle':all_rotangle[idx],\n",
    "               'd2ccd':all_d2ccd[idx],\n",
    "               'error':all_errors[idx],  \n",
    "               'all_lambdas':all_lambdas[idx],\n",
    "               'all_fluxes':all_data[idx],\n",
    "               'all_fluxes_err':all_data_err[idx],\n",
    "            }         \n",
    "            \n",
    "    all_out_data[all_exposures[idx]]=thedata\n"
   ]
  },
  {
   "cell_type": "code",
   "execution_count": null,
   "id": "6554139c-3fd6-46df-a867-fdc74edb6007",
   "metadata": {
    "execution": {
     "iopub.status.busy": "2023-01-31T14:06:36.608543Z",
     "iopub.status.idle": "2023-01-31T14:06:36.608851Z",
     "shell.execute_reply": "2023-01-31T14:06:36.608748Z",
     "shell.execute_reply.started": "2023-01-31T14:06:36.608738Z"
    }
   },
   "outputs": [],
   "source": [
    "#all_out_data"
   ]
  },
  {
   "cell_type": "code",
   "execution_count": null,
   "id": "017deca5-7504-4170-a320-5eea39ec0984",
   "metadata": {
    "execution": {
     "iopub.status.busy": "2023-01-31T14:06:36.609377Z",
     "iopub.status.idle": "2023-01-31T14:06:36.609826Z",
     "shell.execute_reply": "2023-01-31T14:06:36.609729Z",
     "shell.execute_reply.started": "2023-01-31T14:06:36.609719Z"
    }
   },
   "outputs": [],
   "source": [
    "#pkl_outfilename=f'run-auxtel-holo-{DATE}-{filterdispersername}-{configmode}-oga_b.pickle'\n",
    "pkl_outfilename=f'run-auxtel-holo-{DATE}-{filterdispersername}-{configmode}-oga{ext}.pickle'"
   ]
  },
  {
   "cell_type": "code",
   "execution_count": null,
   "id": "84227b63-780b-4b43-b66f-4a6386960a07",
   "metadata": {
    "execution": {
     "iopub.status.busy": "2023-01-31T14:06:36.610299Z",
     "iopub.status.idle": "2023-01-31T14:06:36.610687Z",
     "shell.execute_reply": "2023-01-31T14:06:36.610593Z",
     "shell.execute_reply.started": "2023-01-31T14:06:36.610584Z"
    }
   },
   "outputs": [],
   "source": [
    "with open(pkl_outfilename, 'wb') as pickle_file:\n",
    "    pickle.dump(all_out_data,pickle_file)"
   ]
  },
  {
   "cell_type": "code",
   "execution_count": null,
   "id": "f11b354d-8734-443f-b66e-dab3701c6885",
   "metadata": {
    "execution": {
     "iopub.status.busy": "2023-01-31T14:06:36.611218Z",
     "iopub.status.idle": "2023-01-31T14:06:36.611846Z",
     "shell.execute_reply": "2023-01-31T14:06:36.611738Z",
     "shell.execute_reply.started": "2023-01-31T14:06:36.611727Z"
    }
   },
   "outputs": [],
   "source": [
    "pkl_infilename=pkl_outfilename"
   ]
  },
  {
   "cell_type": "code",
   "execution_count": null,
   "id": "40465317-be99-4c75-8fa3-137c886f86be",
   "metadata": {
    "execution": {
     "iopub.status.busy": "2023-01-31T14:06:36.612401Z",
     "iopub.status.idle": "2023-01-31T14:06:36.612787Z",
     "shell.execute_reply": "2023-01-31T14:06:36.612684Z",
     "shell.execute_reply.started": "2023-01-31T14:06:36.612674Z"
    }
   },
   "outputs": [],
   "source": [
    "with open(pkl_infilename, 'rb') as pickle_file:\n",
    "    content = pickle.load(pickle_file)"
   ]
  },
  {
   "cell_type": "code",
   "execution_count": null,
   "id": "8827da1c-520f-47fe-9e40-3892944eb3df",
   "metadata": {
    "execution": {
     "iopub.status.busy": "2023-01-31T14:06:36.613373Z",
     "iopub.status.idle": "2023-01-31T14:06:36.613806Z",
     "shell.execute_reply": "2023-01-31T14:06:36.613703Z",
     "shell.execute_reply.started": "2023-01-31T14:06:36.613693Z"
    }
   },
   "outputs": [],
   "source": [
    "# Get first value of dictionary\n",
    "next(iter(content.items()))"
   ]
  },
  {
   "cell_type": "code",
   "execution_count": null,
   "id": "7f5b23ab-1880-493a-9c3c-ff33e537764c",
   "metadata": {},
   "outputs": [],
   "source": []
  }
 ],
 "metadata": {
  "kernelspec": {
   "display_name": "LSST",
   "language": "python",
   "name": "lsst"
  },
  "language_info": {
   "codemirror_mode": {
    "name": "ipython",
    "version": 3
   },
   "file_extension": ".py",
   "mimetype": "text/x-python",
   "name": "python",
   "nbconvert_exporter": "python",
   "pygments_lexer": "ipython3",
   "version": "3.10.8"
  }
 },
 "nbformat": 4,
 "nbformat_minor": 5
}
