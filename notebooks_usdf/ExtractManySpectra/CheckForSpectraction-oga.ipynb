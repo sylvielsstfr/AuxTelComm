{
 "cells": [
  {
   "cell_type": "markdown",
   "id": "0b8c2138-5194-4d03-8b77-be24e2cc8ee3",
   "metadata": {},
   "source": [
    "# Query for Spectraction Results in OGA"
   ]
  },
  {
   "cell_type": "markdown",
   "id": "740e34fb-3fef-45a8-941b-c229742ab016",
   "metadata": {},
   "source": [
    " work with Weakly_2023_01\n",
    "- use jupyter kernel LSST\n",
    "\n",
    "\n",
    "- author : Sylvie Dagoret-Campagne\n",
    "- affiliation : IJCLab\n",
    "- creation date : 2022/10/31\n",
    "- last update : 2023/01/20\n"
   ]
  },
  {
   "cell_type": "code",
   "execution_count": 1,
   "id": "ed2c3410-fe83-432e-ab87-9f4513fa8d8b",
   "metadata": {
    "execution": {
     "iopub.execute_input": "2023-01-23T17:18:22.965402Z",
     "iopub.status.busy": "2023-01-23T17:18:22.965239Z",
     "iopub.status.idle": "2023-01-23T17:18:23.427203Z",
     "shell.execute_reply": "2023-01-23T17:18:23.426602Z",
     "shell.execute_reply.started": "2023-01-23T17:18:22.965384Z"
    }
   },
   "outputs": [
    {
     "name": "stdout",
     "output_type": "stream",
     "text": [
      "atmospec              LOCAL:/home/d/dagoret/repos/repos_w_2023_01/atmospec \tsetup\n",
      "eups                  LOCAL:/opt/lsst/software/stack/conda/miniconda3-py38_4.9.2/envs/lsst-scipipe-5.1.0/eups \tsetup\n",
      "spectractor           LOCAL:/home/d/dagoret/repos/repos_w_2023_01/Spectractor \tsetup\n"
     ]
    }
   ],
   "source": [
    "! eups list -s | grep LOCAL"
   ]
  },
  {
   "cell_type": "code",
   "execution_count": 2,
   "id": "70918d81-0cf6-4b0a-8f61-f5e5bec5b0e7",
   "metadata": {
    "execution": {
     "iopub.execute_input": "2023-01-23T17:18:23.428324Z",
     "iopub.status.busy": "2023-01-23T17:18:23.428003Z",
     "iopub.status.idle": "2023-01-23T17:18:23.865474Z",
     "shell.execute_reply": "2023-01-23T17:18:23.864837Z",
     "shell.execute_reply.started": "2023-01-23T17:18:23.428304Z"
    }
   },
   "outputs": [
    {
     "name": "stdout",
     "output_type": "stream",
     "text": [
      "   g754a7f0350+935911ccad \tcurrent w_2023_01 setup\n"
     ]
    }
   ],
   "source": [
    "! eups list -s lsst_distrib"
   ]
  },
  {
   "cell_type": "code",
   "execution_count": 3,
   "id": "f8d9cfca-5881-48c1-b2cb-0f794a2e4091",
   "metadata": {
    "execution": {
     "iopub.execute_input": "2023-01-23T17:18:23.866673Z",
     "iopub.status.busy": "2023-01-23T17:18:23.866352Z",
     "iopub.status.idle": "2023-01-23T17:18:24.280582Z",
     "shell.execute_reply": "2023-01-23T17:18:24.280059Z",
     "shell.execute_reply.started": "2023-01-23T17:18:23.866653Z"
    }
   },
   "outputs": [],
   "source": [
    "import lsst.daf.butler as dafButler\n",
    "#import lsst.summit.utils.butlerUtils as butlerUtils"
   ]
  },
  {
   "cell_type": "code",
   "execution_count": 4,
   "id": "1ceacda9-20b0-4d77-a0d2-572c957ce273",
   "metadata": {
    "execution": {
     "iopub.execute_input": "2023-01-23T17:18:24.281606Z",
     "iopub.status.busy": "2023-01-23T17:18:24.281314Z",
     "iopub.status.idle": "2023-01-23T17:18:24.677303Z",
     "shell.execute_reply": "2023-01-23T17:18:24.676747Z",
     "shell.execute_reply.started": "2023-01-23T17:18:24.281586Z"
    },
    "tags": []
   },
   "outputs": [],
   "source": [
    "import numpy as np\n",
    "import matplotlib.pyplot as plt\n",
    "%matplotlib inline\n",
    "from mpl_toolkits.axes_grid1 import make_axes_locatable\n",
    "from matplotlib.colors import LogNorm\n",
    "import pandas as pd\n",
    "\n",
    "import matplotlib.ticker                         # here's where the formatter is\n",
    "import os\n",
    "import re\n",
    "import pandas as pd\n",
    "\n",
    "plt.rcParams[\"figure.figsize\"] = (4,3)\n",
    "plt.rcParams[\"axes.labelsize\"] = 'xx-large'\n",
    "plt.rcParams['axes.titlesize'] = 'xx-large'\n",
    "plt.rcParams['xtick.labelsize']= 'xx-large'\n",
    "plt.rcParams['ytick.labelsize']= 'xx-large'"
   ]
  },
  {
   "cell_type": "code",
   "execution_count": 5,
   "id": "769e12e6-917d-4722-8c1e-f965f13a8c64",
   "metadata": {
    "execution": {
     "iopub.execute_input": "2023-01-23T17:18:24.678532Z",
     "iopub.status.busy": "2023-01-23T17:18:24.678036Z",
     "iopub.status.idle": "2023-01-23T17:18:24.681170Z",
     "shell.execute_reply": "2023-01-23T17:18:24.680746Z",
     "shell.execute_reply.started": "2023-01-23T17:18:24.678512Z"
    }
   },
   "outputs": [],
   "source": [
    "import pickle"
   ]
  },
  {
   "cell_type": "code",
   "execution_count": 6,
   "id": "75e20c79-7729-459b-a5e0-78d8de0c4d71",
   "metadata": {
    "execution": {
     "iopub.execute_input": "2023-01-23T17:18:24.682224Z",
     "iopub.status.busy": "2023-01-23T17:18:24.681782Z",
     "iopub.status.idle": "2023-01-23T17:18:24.686892Z",
     "shell.execute_reply": "2023-01-23T17:18:24.686472Z",
     "shell.execute_reply.started": "2023-01-23T17:18:24.682206Z"
    }
   },
   "outputs": [],
   "source": [
    "from astropy.time import Time\n",
    "import astropy.units as u"
   ]
  },
  {
   "cell_type": "markdown",
   "id": "c7e637b3-244b-4df3-9db2-3819e6321141",
   "metadata": {},
   "source": [
    "## Config"
   ]
  },
  {
   "cell_type": "markdown",
   "id": "f311bc61-5eb2-40b2-ab20-8241ea599037",
   "metadata": {},
   "source": [
    "### Butler"
   ]
  },
  {
   "cell_type": "code",
   "execution_count": 7,
   "id": "1c81d99a-5e91-4ba1-ba4a-c66b37905b98",
   "metadata": {
    "execution": {
     "iopub.execute_input": "2023-01-23T17:18:24.687761Z",
     "iopub.status.busy": "2023-01-23T17:18:24.687472Z",
     "iopub.status.idle": "2023-01-23T17:18:25.739640Z",
     "shell.execute_reply": "2023-01-23T17:18:25.739068Z",
     "shell.execute_reply.started": "2023-01-23T17:18:24.687742Z"
    }
   },
   "outputs": [],
   "source": [
    "#repo =  \"/sdf/group/rubin/repo/main\"\n",
    "repo = \"/sdf/group/rubin/repo/oga/\"\n",
    "butler = dafButler.Butler(repo)\n",
    "registry = butler.registry"
   ]
  },
  {
   "cell_type": "markdown",
   "id": "7fa31e20-40fb-498d-ad80-90ee20f619cd",
   "metadata": {},
   "source": [
    "### Date & Filter & Disperser"
   ]
  },
  {
   "cell_type": "code",
   "execution_count": 8,
   "id": "c1ffbd47-4cc9-4ef1-ab1c-6f477b8139bb",
   "metadata": {
    "execution": {
     "iopub.execute_input": "2023-01-23T17:18:25.740744Z",
     "iopub.status.busy": "2023-01-23T17:18:25.740428Z",
     "iopub.status.idle": "2023-01-23T17:18:25.743596Z",
     "shell.execute_reply": "2023-01-23T17:18:25.743112Z",
     "shell.execute_reply.started": "2023-01-23T17:18:25.740725Z"
    }
   },
   "outputs": [],
   "source": [
    "# path index for each month\n",
    "#DATE=\"20220912\"\n",
    "#DATE=\"20220913\"\n",
    "#DATE=\"20230117\" # with \"u/dagoret/BPS_manyspectro_v7\"\n",
    "#DATE=\"20230118\" # with \"u/dagoret/BPS_manyspectro_v8\"\n",
    "DATE=\"20230119\" # with \"u/dagoret/BPS_manyspectro_v9\"\n",
    "filterdispersername = \"empty~holo4_003\"\n",
    "#filterdispersername = \"BG40~holo4_003\"\n",
    "#filterdispersername = \"FELH0600~holo4_003\""
   ]
  },
  {
   "cell_type": "markdown",
   "id": "c30cd39d-0677-43f7-b043-c0b9ae126c73",
   "metadata": {},
   "source": [
    "### Spectractor"
   ]
  },
  {
   "cell_type": "code",
   "execution_count": 9,
   "id": "1dc181f4-d44a-48c4-8e8a-86c35c0dcc98",
   "metadata": {
    "execution": {
     "iopub.execute_input": "2023-01-23T17:18:25.744705Z",
     "iopub.status.busy": "2023-01-23T17:18:25.744260Z",
     "iopub.status.idle": "2023-01-23T17:18:25.749630Z",
     "shell.execute_reply": "2023-01-23T17:18:25.749113Z",
     "shell.execute_reply.started": "2023-01-23T17:18:25.744686Z"
    }
   },
   "outputs": [],
   "source": [
    "configmode = \"PSF2DFFM_REBIN2\""
   ]
  },
  {
   "cell_type": "markdown",
   "id": "20dbb8da-3a08-4b4f-9437-4bf7f28c1782",
   "metadata": {},
   "source": [
    "### The collection"
   ]
  },
  {
   "cell_type": "code",
   "execution_count": 10,
   "id": "9629ea29-8ab4-4062-aed1-e16d62dc90c4",
   "metadata": {
    "execution": {
     "iopub.execute_input": "2023-01-23T17:18:25.750741Z",
     "iopub.status.busy": "2023-01-23T17:18:25.750364Z",
     "iopub.status.idle": "2023-01-23T17:18:25.777517Z",
     "shell.execute_reply": "2023-01-23T17:18:25.777020Z",
     "shell.execute_reply.started": "2023-01-23T17:18:25.750723Z"
    },
    "tags": []
   },
   "outputs": [],
   "source": [
    "#my_collection = \"u/dagoret/spectro/noflat/empty~holo4/\"+str(DATE)\n",
    "#my_collection = \"u/dagoret/BPS_manyspectro_v0\" # january 12th 2023\n",
    "#my_collection = \"u/dagoret/BPS_manyspectro_v7\" # january 20th 2023 (2023/01/17)\n",
    "#my_collection = \"u/dagoret/BPS_manyspectro_v8\" # january 23th 2023 (2023/01/18)\n",
    "my_collection = \"u/dagoret/BPS_manyspectro_v9\" # january 23th 2023 (2023/01/19)\n",
    "datasetRefs = registry.queryDatasets(datasetType='spectraction', collections=my_collection, where= \"instrument='LATISS'\")"
   ]
  },
  {
   "cell_type": "code",
   "execution_count": 11,
   "id": "2f008879-ecc4-4b86-9b24-0641fb4301cd",
   "metadata": {
    "execution": {
     "iopub.execute_input": "2023-01-23T17:18:25.778515Z",
     "iopub.status.busy": "2023-01-23T17:18:25.778215Z",
     "iopub.status.idle": "2023-01-23T17:18:25.780926Z",
     "shell.execute_reply": "2023-01-23T17:18:25.780457Z",
     "shell.execute_reply.started": "2023-01-23T17:18:25.778497Z"
    }
   },
   "outputs": [],
   "source": [
    "# following line not possible in OGA\n",
    "#butler = butlerUtils.makeDefaultLatissButler(extraCollections=[my_collection])"
   ]
  },
  {
   "cell_type": "markdown",
   "id": "432e82a4-5617-48b3-a5bb-1f2c550c8525",
   "metadata": {},
   "source": [
    "## Loop on exposures"
   ]
  },
  {
   "cell_type": "code",
   "execution_count": null,
   "id": "979b03d5-e54c-4d21-a848-98b820df1d16",
   "metadata": {
    "execution": {
     "iopub.execute_input": "2023-01-23T17:18:25.781991Z",
     "iopub.status.busy": "2023-01-23T17:18:25.781615Z"
    },
    "tags": []
   },
   "outputs": [
    {
     "name": "stdout",
     "output_type": "stream",
     "text": [
      "============= (0) ============datasetType = spectraction ============================================\n",
      "fullId..................: {band: 'white', instrument: 'LATISS', detector: 0, physical_filter: 'empty~holo4_003', visit: 2023011800430}\n",
      "visit...................: 2023011800430\n",
      "band....................: white\n",
      "physical filter.........: empty~holo4_003\n",
      "run.....................: u/dagoret/BPS_manyspectro_v8/20230119T080929Z\n",
      "{'day_obs': 20230118, 'seq_num': 430, 'detector': 0}\n",
      "============= (1) ============datasetType = spectraction ============================================\n",
      "fullId..................: {band: 'white', instrument: 'LATISS', detector: 0, physical_filter: 'empty~holo4_003', visit: 2023011800247}\n",
      "visit...................: 2023011800247\n",
      "band....................: white\n",
      "physical filter.........: empty~holo4_003\n",
      "run.....................: u/dagoret/BPS_manyspectro_v8/20230119T080929Z\n",
      "{'day_obs': 20230118, 'seq_num': 247, 'detector': 0}\n",
      "============= (2) ============datasetType = spectraction ============================================\n",
      "fullId..................: {band: 'white', instrument: 'LATISS', detector: 0, physical_filter: 'empty~holo4_003', visit: 2023011800313}\n",
      "visit...................: 2023011800313\n",
      "band....................: white\n",
      "physical filter.........: empty~holo4_003\n",
      "run.....................: u/dagoret/BPS_manyspectro_v8/20230119T080929Z\n",
      "{'day_obs': 20230118, 'seq_num': 313, 'detector': 0}\n",
      "============= (3) ============datasetType = spectraction ============================================\n",
      "fullId..................: {band: 'white', instrument: 'LATISS', detector: 0, physical_filter: 'empty~holo4_003', visit: 2023011800540}\n",
      "visit...................: 2023011800540\n",
      "band....................: white\n",
      "physical filter.........: empty~holo4_003\n",
      "run.....................: u/dagoret/BPS_manyspectro_v8/20230119T080929Z\n",
      "{'day_obs': 20230118, 'seq_num': 540, 'detector': 0}\n",
      "============= (4) ============datasetType = spectraction ============================================\n",
      "fullId..................: {band: 'white', instrument: 'LATISS', detector: 0, physical_filter: 'empty~holo4_003', visit: 2023011800618}\n",
      "visit...................: 2023011800618\n",
      "band....................: white\n",
      "physical filter.........: empty~holo4_003\n",
      "run.....................: u/dagoret/BPS_manyspectro_v8/20230119T080929Z\n",
      "{'day_obs': 20230118, 'seq_num': 618, 'detector': 0}\n",
      "============= (5) ============datasetType = spectraction ============================================\n",
      "fullId..................: {band: 'white', instrument: 'LATISS', detector: 0, physical_filter: 'empty~holo4_003', visit: 2023011800319}\n",
      "visit...................: 2023011800319\n",
      "band....................: white\n",
      "physical filter.........: empty~holo4_003\n",
      "run.....................: u/dagoret/BPS_manyspectro_v8/20230119T080929Z\n",
      "{'day_obs': 20230118, 'seq_num': 319, 'detector': 0}\n",
      "============= (6) ============datasetType = spectraction ============================================\n",
      "fullId..................: {band: 'white', instrument: 'LATISS', detector: 0, physical_filter: 'empty~holo4_003', visit: 2023011800642}\n",
      "visit...................: 2023011800642\n",
      "band....................: white\n",
      "physical filter.........: empty~holo4_003\n",
      "run.....................: u/dagoret/BPS_manyspectro_v8/20230119T080929Z\n",
      "{'day_obs': 20230118, 'seq_num': 642, 'detector': 0}\n",
      "============= (7) ============datasetType = spectraction ============================================\n",
      "fullId..................: {band: 'white', instrument: 'LATISS', detector: 0, physical_filter: 'empty~holo4_003', visit: 2023011800563}\n",
      "visit...................: 2023011800563\n",
      "band....................: white\n",
      "physical filter.........: empty~holo4_003\n",
      "run.....................: u/dagoret/BPS_manyspectro_v8/20230119T080929Z\n",
      "{'day_obs': 20230118, 'seq_num': 563, 'detector': 0}\n",
      "============= (8) ============datasetType = spectraction ============================================\n",
      "fullId..................: {band: 'white', instrument: 'LATISS', detector: 0, physical_filter: 'empty~holo4_003', visit: 2023011800589}\n",
      "visit...................: 2023011800589\n",
      "band....................: white\n",
      "physical filter.........: empty~holo4_003\n",
      "run.....................: u/dagoret/BPS_manyspectro_v8/20230119T080929Z\n",
      "{'day_obs': 20230118, 'seq_num': 589, 'detector': 0}\n",
      "============= (9) ============datasetType = spectraction ============================================\n",
      "fullId..................: {band: 'white', instrument: 'LATISS', detector: 0, physical_filter: 'empty~holo4_003', visit: 2023011800432}\n",
      "visit...................: 2023011800432\n",
      "band....................: white\n",
      "physical filter.........: empty~holo4_003\n",
      "run.....................: u/dagoret/BPS_manyspectro_v8/20230119T080929Z\n",
      "{'day_obs': 20230118, 'seq_num': 432, 'detector': 0}\n",
      "============= (10) ============datasetType = spectraction ============================================\n",
      "fullId..................: {band: 'white', instrument: 'LATISS', detector: 0, physical_filter: 'empty~holo4_003', visit: 2023011800420}\n",
      "visit...................: 2023011800420\n",
      "band....................: white\n",
      "physical filter.........: empty~holo4_003\n",
      "run.....................: u/dagoret/BPS_manyspectro_v8/20230119T080929Z\n",
      "{'day_obs': 20230118, 'seq_num': 420, 'detector': 0}\n",
      "============= (11) ============datasetType = spectraction ============================================\n",
      "fullId..................: {band: 'white', instrument: 'LATISS', detector: 0, physical_filter: 'empty~holo4_003', visit: 2023011800311}\n",
      "visit...................: 2023011800311\n",
      "band....................: white\n",
      "physical filter.........: empty~holo4_003\n",
      "run.....................: u/dagoret/BPS_manyspectro_v8/20230119T080929Z\n",
      "{'day_obs': 20230118, 'seq_num': 311, 'detector': 0}\n",
      "============= (12) ============datasetType = spectraction ============================================\n",
      "fullId..................: {band: 'white', instrument: 'LATISS', detector: 0, physical_filter: 'empty~holo4_003', visit: 2023011800698}\n",
      "visit...................: 2023011800698\n",
      "band....................: white\n",
      "physical filter.........: empty~holo4_003\n",
      "run.....................: u/dagoret/BPS_manyspectro_v8/20230119T080929Z\n",
      "{'day_obs': 20230118, 'seq_num': 698, 'detector': 0}\n",
      "============= (13) ============datasetType = spectraction ============================================\n",
      "fullId..................: {band: 'white', instrument: 'LATISS', detector: 0, physical_filter: 'empty~holo4_003', visit: 2023011800286}\n",
      "visit...................: 2023011800286\n",
      "band....................: white\n",
      "physical filter.........: empty~holo4_003\n",
      "run.....................: u/dagoret/BPS_manyspectro_v8/20230119T080929Z\n",
      "{'day_obs': 20230118, 'seq_num': 286, 'detector': 0}\n"
     ]
    }
   ],
   "source": [
    "all_dataId = []     # full data id\n",
    "all_spec = []       # spectra\n",
    "all_exposures = []  # exposure number\n",
    "all_num = []        # sequence numbers\n",
    "\n",
    "\n",
    "\n",
    "for i, ref in enumerate(datasetRefs):\n",
    "\n",
    "    print(f\"============= ({i}) ============datasetType = spectraction ============================================\")\n",
    "    print(\"fullId..................:\",ref.dataId.full)\n",
    "    print(\"visit...................:\",ref.dataId[\"visit\"])\n",
    "    print(\"band....................:\",ref.dataId[\"band\"])\n",
    "    print(\"physical filter.........:\",ref.dataId[\"physical_filter\"])\n",
    "    print(\"run.....................:\",ref.run)\n",
    "    the_exposure = ref.dataId[\"visit\"]\n",
    "    the_day_obs = ref.dataId[\"visit\"]//100_000\n",
    "    the_seq_num = ref.dataId[\"visit\"]- the_day_obs*100_000    \n",
    "    the_dataId = {'day_obs': the_day_obs,'seq_num':the_seq_num,'detector':0}\n",
    "    print(the_dataId)\n",
    "    \n",
    "    # retrieve the spectrum from Butler\n",
    "    #spec       = butler.get('spectraction',the_dataId)\n",
    "    spec = butler.get('spectraction', visit=the_exposure, detector=0, collections=my_collection, instrument='LATISS')\n",
    "    \n",
    "    # save in collection lists\n",
    "    all_dataId.append(the_dataId) \n",
    "    all_exposures.append(the_exposure)\n",
    "    all_spec.append(spec)\n",
    "    all_num.append(the_seq_num)\n",
    "    \n",
    "    if i>12:\n",
    "        break\n",
    "          \n"
   ]
  },
  {
   "cell_type": "markdown",
   "id": "f26b3f62-34f7-4cbd-bad4-c48be4e07ed9",
   "metadata": {},
   "source": [
    "## Plot"
   ]
  },
  {
   "cell_type": "code",
   "execution_count": null,
   "id": "4fea39ba-2f11-4a8a-9248-c37ce3e7c0f4",
   "metadata": {
    "tags": []
   },
   "outputs": [],
   "source": [
    "%matplotlib inline\n",
    "\n",
    "FLAG_ORDER2 = False\n",
    "\n",
    "infos = []\n",
    "all_lambdas=[]\n",
    "all_data=[]\n",
    "all_data_err=[]\n",
    "\n",
    "if FLAG_ORDER2:\n",
    "    all_lambdas_order2=[]\n",
    "    all_data_order2=[]\n",
    "    all_data_err_order2=[]\n",
    "\n",
    "\n",
    "idx=0\n",
    "for spec in all_spec:\n",
    "    \n",
    "    \n",
    "    s=spec.spectrum\n",
    "    label = str(idx) +\"):\" + str(all_exposures[idx])\n",
    "    \n",
    "    try:\n",
    "        fig=plt.figure(figsize=(16,4))\n",
    "    \n",
    "        ax1 = fig.add_subplot(1, 2, 1)\n",
    "        s.plot_spectrum(ax=ax1,force_lines=True,label=label)\n",
    "    \n",
    "        ax2 = fig.add_subplot(1, 2, 2)\n",
    "        s.plot_spectrogram(ax=ax2,scale=\"log\")\n",
    "    \n",
    "        all_lambdas.append(s.lambdas)\n",
    "        all_data.append(s.data)\n",
    "        all_data_err.append(s.err)\n",
    "    \n",
    "        if FLAG_ORDER2:\n",
    "            all_lambdas_order2.append(s.lambdas_order2)\n",
    "            all_data_order2.append(s.data_order2)\n",
    "            all_data_err_order2.append(s.err_order2)\n",
    "            \n",
    "        #save info    \n",
    "        infos.append([idx,s.target.label,s.date_obs,s.airmass,s.temperature,s.pressure,s.humidity])\n",
    "            \n",
    "    except Exception as inst:\n",
    "        print(\" >>> Exception catched for \"+ label )\n",
    "        print(type(inst))    # the exception instance\n",
    "        print(inst.args)     # arguments stored in .args\n",
    "\n",
    "    \n",
    "        \n",
    "    #infos.append([idx,s.target.label,s.date_obs,s.airmass,s.temperature,s.pressure,s.humidity])\n",
    "    idx+=1"
   ]
  },
  {
   "cell_type": "code",
   "execution_count": null,
   "id": "268381d5-df2a-44e8-9736-d2df5ae7dc3f",
   "metadata": {
    "tags": []
   },
   "outputs": [],
   "source": [
    "plt.imshow(spec.image.data-spec.image.data.min(),origin=\"lower\",norm=LogNorm(vmin=1,vmax=1000))"
   ]
  },
  {
   "cell_type": "markdown",
   "id": "dcf6921d-adfb-4569-b31c-b28e8df46bc3",
   "metadata": {},
   "source": [
    "# Generate info"
   ]
  },
  {
   "cell_type": "code",
   "execution_count": null,
   "id": "d154b5b7-8123-47c5-8bf1-b917933dd850",
   "metadata": {
    "tags": []
   },
   "outputs": [],
   "source": [
    "df_infos=pd.DataFrame(infos,columns=[\"idx\",\"object\",\"date_obs\",\"airmass\",\"temperature\",\"pressure\",\"humidity\"])"
   ]
  },
  {
   "cell_type": "code",
   "execution_count": null,
   "id": "8dbc9436-abfd-46a8-87df-fee873578de1",
   "metadata": {
    "tags": []
   },
   "outputs": [],
   "source": [
    "df_infos.set_index('idx',inplace=True)"
   ]
  },
  {
   "cell_type": "code",
   "execution_count": null,
   "id": "f0680b42-944a-41e0-8e0f-23bce235d317",
   "metadata": {
    "tags": []
   },
   "outputs": [],
   "source": [
    "all_reftime=[ (Time(tt)-Time( df_infos[\"date_obs\"].values[0])).to_value(u.hr) for tt in df_infos[\"date_obs\"].values ]"
   ]
  },
  {
   "cell_type": "code",
   "execution_count": null,
   "id": "8dc390a3-c06a-4ff0-b637-66b33355356e",
   "metadata": {
    "tags": []
   },
   "outputs": [],
   "source": [
    "all_reftime=np.array(all_reftime)"
   ]
  },
  {
   "cell_type": "code",
   "execution_count": null,
   "id": "de824a62-e759-4797-b840-363cb35bd63c",
   "metadata": {
    "tags": []
   },
   "outputs": [],
   "source": [
    "df_infos[\"reftime\"]=all_reftime"
   ]
  },
  {
   "cell_type": "code",
   "execution_count": null,
   "id": "110419ff-4d95-40b8-8436-4293014a4fd8",
   "metadata": {},
   "outputs": [],
   "source": [
    "NN = len(df_infos)"
   ]
  },
  {
   "cell_type": "code",
   "execution_count": null,
   "id": "99b6a222-de0e-4aa7-81ce-c3d6a889c04a",
   "metadata": {},
   "outputs": [],
   "source": [
    "df_infos"
   ]
  },
  {
   "cell_type": "markdown",
   "id": "dc731281-48ed-4328-8ce6-42dab4332d59",
   "metadata": {},
   "source": [
    "### Save info file"
   ]
  },
  {
   "cell_type": "code",
   "execution_count": null,
   "id": "932ca0ec-507d-4022-8325-55d689ac0eb2",
   "metadata": {},
   "outputs": [],
   "source": [
    "summary_file = f\"summaryspectra_{DATE}-{filterdispersername}-{configmode}-oga.csv\"\n",
    "df_infos.to_csv(summary_file)"
   ]
  },
  {
   "cell_type": "markdown",
   "id": "c994b86c-bc35-455b-b363-a3dcc64fb406",
   "metadata": {},
   "source": [
    "## Main pickle file"
   ]
  },
  {
   "cell_type": "code",
   "execution_count": null,
   "id": "db6f01f6-e140-4604-9fed-176f964a7c22",
   "metadata": {},
   "outputs": [],
   "source": [
    "#spec.image.target_pixcoords"
   ]
  },
  {
   "cell_type": "code",
   "execution_count": null,
   "id": "072a5a1c-8313-4767-b81c-b87a48c5b270",
   "metadata": {},
   "outputs": [],
   "source": [
    "header = spec.spectrum.header\n",
    "header"
   ]
  },
  {
   "cell_type": "code",
   "execution_count": null,
   "id": "75ea215c-2276-48f6-a847-54141ee55127",
   "metadata": {},
   "outputs": [],
   "source": [
    "\n",
    "\n",
    "all_rebin=np.zeros(NN)\n",
    "all_targetx=np.zeros(NN)\n",
    "all_targety=np.zeros(NN)\n",
    "all_rotangle=np.zeros(NN)\n",
    "all_d2ccd=np.zeros(NN)\n",
    "all_pixshift=np.zeros(NN)\n",
    "all_chi2_fit=np.zeros(NN)\n",
    "all_a2_fit=np.zeros(NN)\n",
    "all_lbda_ref=np.zeros(NN)\n",
    "all_tagnumber=np.zeros(NN)\n",
    "all_errors=np.zeros(NN)\n",
    "\n",
    "\n",
    "for idx in range(NN):\n",
    "    \n",
    "    header = all_spec[idx].spectrum.header\n",
    "    tagnum=str(all_num[idx])\n",
    "    \n",
    "    #ROTANGLE=  -0.1367006901184345 / [deg] angle of the dispersion axis             \n",
    "    #D2CCD   =    179.6778868175837 / [mm] distance between disperser and CCD        \n",
    "    #TARGETX =    315.9547462941386 / target position on X axis                      \n",
    "    #TARGETY =    75.06785960446246 / target position on Y axis                      \n",
    "    #LBDA_REF=    634.9155139280113                                                  \n",
    "    #PIXSHIFT=  -0.9996981508176748                                                  \n",
    "    #CHI2_FIT=    1.602115867259752                                                  \n",
    "    #A2_FIT  =                  1.0                                                  \n",
    "    #REBIN   =                    2 / original image rebinning factor to get spectrum\n",
    "    \n",
    "    try :\n",
    "        rebin=header[\"REBIN\"]\n",
    "    except KeyError as e:\n",
    "        rebin=2\n",
    "        all_errors[idx]=1\n",
    "        print(f\"KeyError exception for spec {idx}: \" + str(e) + f\" ! ==> force rebin = {rebin}\")\n",
    "        \n",
    "        \n",
    "        \n",
    "    targetx=header[\"TARGETX\"]*rebin\n",
    "    targety=header[\"TARGETY\"]*rebin\n",
    "    rotangle=header[\"ROTANGLE\"]\n",
    "    d2ccd=header[\"D2CCD\"]\n",
    "    pixshift=header[\"PIXSHIFT\"]\n",
    "    \n",
    "    if header.get(\"CHI2_FIT\") != None:\n",
    "        chi2_fit=header[\"CHI2_FIT\"]\n",
    "    else:\n",
    "        chi2_fit= -1\n",
    "        \n",
    "    if header.get(\"A2_FIT\") != None:\n",
    "        a2_fit=header[\"A2_FIT\"]\n",
    "    else:\n",
    "        a2_fit=-1\n",
    "    \n",
    "    \n",
    "    lbda_ref=header[\"LBDA_REF\"]\n",
    "    \n",
    "    \n",
    "    all_rebin[idx]=rebin\n",
    "    all_targetx[idx]=targetx\n",
    "    all_targety[idx]=targety\n",
    "    all_rotangle[idx]=rotangle\n",
    "    all_d2ccd[idx]=d2ccd\n",
    "    all_pixshift[idx]=pixshift\n",
    "    \n",
    "    \n",
    "    all_chi2_fit[idx]=chi2_fit\n",
    "    all_a2_fit[idx]=a2_fit\n",
    "    all_lbda_ref[idx]=lbda_ref\n",
    "    all_tagnumber[idx]=tagnum\n",
    "    \n"
   ]
  },
  {
   "cell_type": "markdown",
   "id": "31b93d2e-edef-495e-b43d-6e9261f71a4c",
   "metadata": {},
   "source": [
    "## Write pickle file"
   ]
  },
  {
   "cell_type": "code",
   "execution_count": null,
   "id": "51558757-4ecb-4f46-b7ba-3e388767c991",
   "metadata": {},
   "outputs": [],
   "source": [
    "all_out_data = {}\n",
    "\n",
    "for idx in range(NN):\n",
    "    if FLAG_ORDER2:\n",
    "        thedata = {'number':all_tagnumber[idx],\n",
    "               'object':df_infos.iloc[idx]['object'],\n",
    "               'dateobs':df_infos.iloc[idx]['date_obs'],\n",
    "               'refhour':df_infos.iloc[idx]['reftime'],\n",
    "               'airmass':df_infos.iloc[idx]['airmass'], \n",
    "               'pressure':df_infos.iloc[idx]['pressure'], \n",
    "               'temperature':df_infos.iloc[idx]['temperature'], \n",
    "               'humidity':df_infos.iloc[idx]['humidity'], \n",
    "               'targetx_pix':all_targetx[idx],\n",
    "               'targety_pix':all_targety[idx],\n",
    "               'rotangle':all_rotangle[idx],\n",
    "               'd2ccd':all_d2ccd[idx],\n",
    "               'error':all_errors[idx],    \n",
    "               'all_lambdas':all_lambdas[idx],\n",
    "               'all_fluxes':all_data[idx],\n",
    "               'all_fluxes_err':all_data_err[idx],\n",
    "               'all_lambdas_order2':all_lambdas_order2[idx],\n",
    "               'all_fluxes_order2':all_data_order2[idx],\n",
    "               'all_fluxes_err_order2':all_data_err_order2[idx],\n",
    "              }\n",
    "    else:\n",
    "        thedata = {'number':all_tagnumber[idx],\n",
    "               'object':df_infos.iloc[idx]['object'],\n",
    "               'dateobs':df_infos.iloc[idx]['date_obs'],\n",
    "               'refhour':df_infos.iloc[idx]['reftime'],\n",
    "               'airmass':df_infos.iloc[idx]['airmass'],\n",
    "               'pressure':df_infos.iloc[idx]['pressure'], \n",
    "               'temperature':df_infos.iloc[idx]['temperature'], \n",
    "               'humidity':df_infos.iloc[idx]['humidity'], \n",
    "               'targetx_pix':all_targetx[idx],\n",
    "               'targety_pix':all_targety[idx],\n",
    "               'rotangle':all_rotangle[idx],\n",
    "               'd2ccd':all_d2ccd[idx],\n",
    "               'error':all_errors[idx],  \n",
    "               'all_lambdas':all_lambdas[idx],\n",
    "               'all_fluxes':all_data[idx],\n",
    "               'all_fluxes_err':all_data_err[idx],\n",
    "            }         \n",
    "            \n",
    "    all_out_data[all_exposures[idx]]=thedata\n"
   ]
  },
  {
   "cell_type": "code",
   "execution_count": null,
   "id": "6554139c-3fd6-46df-a867-fdc74edb6007",
   "metadata": {},
   "outputs": [],
   "source": [
    "#all_out_data"
   ]
  },
  {
   "cell_type": "code",
   "execution_count": null,
   "id": "017deca5-7504-4170-a320-5eea39ec0984",
   "metadata": {},
   "outputs": [],
   "source": [
    "pkl_outfilename=f'run-auxtel-holo-{DATE}-{filterdispersername}-{configmode}-oga.pickle'"
   ]
  },
  {
   "cell_type": "code",
   "execution_count": null,
   "id": "84227b63-780b-4b43-b66f-4a6386960a07",
   "metadata": {},
   "outputs": [],
   "source": [
    "with open(pkl_outfilename, 'wb') as pickle_file:\n",
    "    pickle.dump(all_out_data,pickle_file)"
   ]
  },
  {
   "cell_type": "code",
   "execution_count": null,
   "id": "f11b354d-8734-443f-b66e-dab3701c6885",
   "metadata": {},
   "outputs": [],
   "source": [
    "pkl_infilename=pkl_outfilename"
   ]
  },
  {
   "cell_type": "code",
   "execution_count": null,
   "id": "40465317-be99-4c75-8fa3-137c886f86be",
   "metadata": {},
   "outputs": [],
   "source": [
    "with open(pkl_infilename, 'rb') as pickle_file:\n",
    "    content = pickle.load(pickle_file)"
   ]
  },
  {
   "cell_type": "code",
   "execution_count": null,
   "id": "8827da1c-520f-47fe-9e40-3892944eb3df",
   "metadata": {},
   "outputs": [],
   "source": [
    "# Get first value of dictionary\n",
    "next(iter(content.items()))"
   ]
  },
  {
   "cell_type": "code",
   "execution_count": null,
   "id": "7f5b23ab-1880-493a-9c3c-ff33e537764c",
   "metadata": {},
   "outputs": [],
   "source": []
  }
 ],
 "metadata": {
  "kernelspec": {
   "display_name": "LSST",
   "language": "python",
   "name": "lsst"
  },
  "language_info": {
   "codemirror_mode": {
    "name": "ipython",
    "version": 3
   },
   "file_extension": ".py",
   "mimetype": "text/x-python",
   "name": "python",
   "nbconvert_exporter": "python",
   "pygments_lexer": "ipython3",
   "version": "3.10.8"
  }
 },
 "nbformat": 4,
 "nbformat_minor": 5
}
