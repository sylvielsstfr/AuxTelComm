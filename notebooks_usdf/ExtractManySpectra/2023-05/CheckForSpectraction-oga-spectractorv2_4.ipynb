{
 "cells": [
  {
   "cell_type": "markdown",
   "id": "0b8c2138-5194-4d03-8b77-be24e2cc8ee3",
   "metadata": {},
   "source": [
    "# Query for Spectraction Results in OGA"
   ]
  },
  {
   "cell_type": "markdown",
   "id": "740e34fb-3fef-45a8-941b-c229742ab016",
   "metadata": {},
   "source": [
    " work with Weakly_2023_19\n",
    "- use jupyter kernel LSST\n",
    "- author : Sylvie Dagoret-Campagne\n",
    "- affiliation : IJCLab\n",
    "- creation date : 2023/05/17\n",
    "- last update : 2023/05/17\n",
    "\n",
    "- Spectractor https://github.com/lsst/Spectractor/\n",
    "- Spectractor Version 2.4\n",
    "\n"
   ]
  },
  {
   "cell_type": "code",
   "execution_count": 1,
   "id": "ed2c3410-fe83-432e-ab87-9f4513fa8d8b",
   "metadata": {
    "execution": {
     "iopub.execute_input": "2023-05-17T11:50:13.243810Z",
     "iopub.status.busy": "2023-05-17T11:50:13.243673Z",
     "iopub.status.idle": "2023-05-17T11:50:13.602468Z",
     "shell.execute_reply": "2023-05-17T11:50:13.601800Z",
     "shell.execute_reply.started": "2023-05-17T11:50:13.243794Z"
    },
    "tags": []
   },
   "outputs": [
    {
     "name": "stdout",
     "output_type": "stream",
     "text": [
      "analysis_tools        LOCAL:/home/d/dagoret/repos/repos_w_2023_19/analysis_tools \tsetup\n",
      "atmospec              LOCAL:/home/d/dagoret/repos/repos_w_2023_19/atmospec \tsetup\n",
      "eups                  LOCAL:/opt/lsst/software/stack/conda/miniconda3-py38_4.9.2/envs/lsst-scipipe-6.0.0/eups \tsetup\n"
     ]
    }
   ],
   "source": [
    "! eups list -s | grep LOCAL"
   ]
  },
  {
   "cell_type": "code",
   "execution_count": 2,
   "id": "70918d81-0cf6-4b0a-8f61-f5e5bec5b0e7",
   "metadata": {
    "execution": {
     "iopub.execute_input": "2023-05-17T11:50:13.603496Z",
     "iopub.status.busy": "2023-05-17T11:50:13.603340Z",
     "iopub.status.idle": "2023-05-17T11:50:13.950667Z",
     "shell.execute_reply": "2023-05-17T11:50:13.949991Z",
     "shell.execute_reply.started": "2023-05-17T11:50:13.603482Z"
    },
    "tags": []
   },
   "outputs": [
    {
     "name": "stdout",
     "output_type": "stream",
     "text": [
      "   gdf42428520+1ee9eac2e9 \tcurrent w_2023_19 setup\n"
     ]
    }
   ],
   "source": [
    "! eups list -s lsst_distrib"
   ]
  },
  {
   "cell_type": "code",
   "execution_count": 3,
   "id": "e7e0ec91-3a48-47ea-b293-db233df2677e",
   "metadata": {
    "execution": {
     "iopub.execute_input": "2023-05-17T11:50:13.951706Z",
     "iopub.status.busy": "2023-05-17T11:50:13.951543Z",
     "iopub.status.idle": "2023-05-17T11:50:13.970908Z",
     "shell.execute_reply": "2023-05-17T11:50:13.970479Z",
     "shell.execute_reply.started": "2023-05-17T11:50:13.951690Z"
    },
    "tags": []
   },
   "outputs": [],
   "source": [
    "import h5py"
   ]
  },
  {
   "cell_type": "code",
   "execution_count": 4,
   "id": "f8d9cfca-5881-48c1-b2cb-0f794a2e4091",
   "metadata": {
    "execution": {
     "iopub.execute_input": "2023-05-17T11:50:13.971694Z",
     "iopub.status.busy": "2023-05-17T11:50:13.971553Z",
     "iopub.status.idle": "2023-05-17T11:50:14.344201Z",
     "shell.execute_reply": "2023-05-17T11:50:14.343652Z",
     "shell.execute_reply.started": "2023-05-17T11:50:13.971681Z"
    },
    "tags": []
   },
   "outputs": [],
   "source": [
    "import lsst.daf.butler as dafButler\n",
    "#import lsst.summit.utils.butlerUtils as butlerUtils"
   ]
  },
  {
   "cell_type": "code",
   "execution_count": 5,
   "id": "1ceacda9-20b0-4d77-a0d2-572c957ce273",
   "metadata": {
    "execution": {
     "iopub.execute_input": "2023-05-17T11:50:14.345024Z",
     "iopub.status.busy": "2023-05-17T11:50:14.344864Z",
     "iopub.status.idle": "2023-05-17T11:50:14.663791Z",
     "shell.execute_reply": "2023-05-17T11:50:14.663229Z",
     "shell.execute_reply.started": "2023-05-17T11:50:14.345009Z"
    },
    "tags": []
   },
   "outputs": [],
   "source": [
    "import numpy as np\n",
    "import matplotlib.pyplot as plt\n",
    "%matplotlib inline\n",
    "from mpl_toolkits.axes_grid1 import make_axes_locatable\n",
    "from matplotlib.colors import LogNorm\n",
    "import pandas as pd\n",
    "\n",
    "import matplotlib.ticker                         # here's where the formatter is\n",
    "import os\n",
    "import re\n",
    "import pandas as pd\n",
    "\n",
    "plt.rcParams[\"figure.figsize\"] = (4,3)\n",
    "plt.rcParams[\"axes.labelsize\"] = 'xx-large'\n",
    "plt.rcParams['axes.titlesize'] = 'xx-large'\n",
    "plt.rcParams['xtick.labelsize']= 'xx-large'\n",
    "plt.rcParams['ytick.labelsize']= 'xx-large'"
   ]
  },
  {
   "cell_type": "code",
   "execution_count": 6,
   "id": "769e12e6-917d-4722-8c1e-f965f13a8c64",
   "metadata": {
    "execution": {
     "iopub.execute_input": "2023-05-17T11:50:14.665310Z",
     "iopub.status.busy": "2023-05-17T11:50:14.664467Z",
     "iopub.status.idle": "2023-05-17T11:50:14.667668Z",
     "shell.execute_reply": "2023-05-17T11:50:14.667246Z",
     "shell.execute_reply.started": "2023-05-17T11:50:14.665293Z"
    },
    "tags": []
   },
   "outputs": [],
   "source": [
    "import pickle"
   ]
  },
  {
   "cell_type": "code",
   "execution_count": 7,
   "id": "75e20c79-7729-459b-a5e0-78d8de0c4d71",
   "metadata": {
    "execution": {
     "iopub.execute_input": "2023-05-17T11:50:14.668367Z",
     "iopub.status.busy": "2023-05-17T11:50:14.668233Z",
     "iopub.status.idle": "2023-05-17T11:50:14.670998Z",
     "shell.execute_reply": "2023-05-17T11:50:14.670577Z",
     "shell.execute_reply.started": "2023-05-17T11:50:14.668354Z"
    },
    "tags": []
   },
   "outputs": [],
   "source": [
    "from astropy.time import Time\n",
    "import astropy.units as u"
   ]
  },
  {
   "cell_type": "markdown",
   "id": "c7e637b3-244b-4df3-9db2-3819e6321141",
   "metadata": {},
   "source": [
    "## Config"
   ]
  },
  {
   "cell_type": "code",
   "execution_count": 8,
   "id": "ac51fd3d-4fd1-437a-99a9-3c33bcf3477a",
   "metadata": {
    "execution": {
     "iopub.execute_input": "2023-05-17T11:50:14.671676Z",
     "iopub.status.busy": "2023-05-17T11:50:14.671545Z",
     "iopub.status.idle": "2023-05-17T11:50:14.673878Z",
     "shell.execute_reply": "2023-05-17T11:50:14.673476Z",
     "shell.execute_reply.started": "2023-05-17T11:50:14.671664Z"
    }
   },
   "outputs": [],
   "source": [
    "FLAG_MOUNT_ERRORS= False"
   ]
  },
  {
   "cell_type": "markdown",
   "id": "f311bc61-5eb2-40b2-ab20-8241ea599037",
   "metadata": {},
   "source": [
    "### Butler"
   ]
  },
  {
   "cell_type": "code",
   "execution_count": 9,
   "id": "1c81d99a-5e91-4ba1-ba4a-c66b37905b98",
   "metadata": {
    "execution": {
     "iopub.execute_input": "2023-05-17T11:50:14.674619Z",
     "iopub.status.busy": "2023-05-17T11:50:14.674487Z",
     "iopub.status.idle": "2023-05-17T11:50:16.113503Z",
     "shell.execute_reply": "2023-05-17T11:50:16.112916Z",
     "shell.execute_reply.started": "2023-05-17T11:50:14.674607Z"
    },
    "tags": []
   },
   "outputs": [],
   "source": [
    "#repo =  \"/sdf/group/rubin/repo/main\"\n",
    "#repo = \"/sdf/group/rubin/repo/oga/\"\n",
    "repo = \"/repo/embargo/\"\n",
    "butler = dafButler.Butler(repo)\n",
    "registry = butler.registry"
   ]
  },
  {
   "cell_type": "markdown",
   "id": "7fa31e20-40fb-498d-ad80-90ee20f619cd",
   "metadata": {},
   "source": [
    "### Date & Filter & Disperser & collection\n",
    "\n",
    "- make your choice"
   ]
  },
  {
   "cell_type": "code",
   "execution_count": 10,
   "id": "d000a64c-3df6-434c-8d3e-a28cf52483be",
   "metadata": {
    "execution": {
     "iopub.execute_input": "2023-05-17T11:50:16.114405Z",
     "iopub.status.busy": "2023-05-17T11:50:16.114259Z",
     "iopub.status.idle": "2023-05-17T11:50:16.118599Z",
     "shell.execute_reply": "2023-05-17T11:50:16.118180Z",
     "shell.execute_reply.started": "2023-05-17T11:50:16.114390Z"
    },
    "tags": []
   },
   "outputs": [],
   "source": [
    "DateToRuncollection = {\n",
    "    \n",
    " # september 2022\n",
    " 20220912 :  \"u/dagoret/BPS_manyspectro_v60\", # Missing collection\n",
    " 20220913 :  \"u/dagoret/BPS_manyspectro_v61\", # Missing collection\n",
    " 20220914 :  \"u/dagoret/BPS_manyspectro_v62\", # Missing collection  \n",
    "    \n",
    " 20220927 :  \"u/dagoret/BPS_manyspectro_v63\", # Mount errors available, mitigé\n",
    " 20220928 :  \"u/dagoret/BPS_manyspectro_v64\", # Mount errors available, very nice spectra\n",
    " 20220929 :  \"u/dagoret/BPS_manyspectro_v65\", # Mount errors available, very nice spectra\n",
    "    \n",
    "    \n",
    " # october 2022\n",
    " 20221012 :  \"u/dagoret/BPS_manyspectro_v56\", # mount errors , nice, all good\n",
    " 20221025 :  \"u/dagoret/BPS_manyspectro_v57\", # mount errors, very very bad spectra, run not selected\n",
    " 20221026 :  \"u/dagoret/BPS_manyspectro_v58\", # mount errors,  very nice spectra, all good\n",
    " 20221027 :  \"u/dagoret/BPS_manyspectro_v59\", # mount errors,  nice spectra, all good\n",
    "    \n",
    " # november 2022\n",
    " 20221109 :  \"u/dagoret/BPS_manyspectro_v53\", # mount errors, nice spectra, few bad labelled as good \n",
    " 20221110 :  \"u/dagoret/BPS_manyspectro_v54\", # mount errors available, many bad rec spectra, few bad labelled as good, versy strange\n",
    " 20221123 :  \"u/dagoret/BPS_manyspectro_v55\", # mount errors , nice   \n",
    "    \n",
    " # december 2022   \n",
    " 20221207 :  \"u/dagoret/BPS_manyspectro_v48\", # No mount error, nice spectra\n",
    " 20221208 :  \"u/dagoret/BPS_manyspectro_v49\", # No mount error, nice spectra, one bad labelled as good\n",
    " 20221209 :  \"u/dagoret/BPS_manyspectro_v50\", # No mount error, spectra at distance from optical center, very interesting\n",
    " 20221210 :  \"u/dagoret/BPS_manyspectro_v51\", # No mount error, bof\n",
    " 20221212 :  \"u/dagoret/BPS_manyspectro_v52\", # No mount error, very bad gains and instability \n",
    "    \n",
    " #January 2023 \n",
    " 20230117 :  \"u/dagoret/BPS_manyspectro_v79\", # no mount errors, some mucol spectra that looks good are rejected on DCCD\n",
    " 20230118 :  \"u/dagoret/BPS_manyspectro_v80\", # no mount error, some mucol looking good are rejected, many bad centroid calculation\n",
    " 20230119 :  \"u/dagoret/BPS_manyspectro_v77\", # no mount errors, many blurred spectra probably due to strong tracking error\n",
    " 20230131 :  \"u/dagoret/BPS_manyspectro_v78\", # missing for moment\n",
    "\n",
    " #february 2023\n",
    " 20230214 :  \"u/dagoret/BPS_manyspectro_v42\", # no mount errors, nothing special\n",
    " 20230215 :  \"u/dagoret/BPS_manyspectro_v43\", # mount errors, OK\n",
    " 20230216 :  \"u/dagoret/BPS_manyspectro_v44\", # mount errors, OK, nice spectra \n",
    " 20230228 :  \"u/dagoret/BPS_manyspectro_v70\", # No mount error,OK nice spectra\n",
    "    \n",
    " #march 2023  \n",
    " 20230301 :  \"u/dagoret/BPS_manyspectro_v71\", # no mount errors, OK many spectra\n",
    " 20230302 :  \"u/dagoret/BPS_manyspectro_v72\", # no mount error, sometime bad subtraction of order2 on HD38666 (mucol) \n",
    " 20230315 :  \"u/dagoret/BPS_manyspectro_v73\", # mount errors\n",
    " 20230316 :  \"u/dagoret/BPS_manyspectro_v74\", # mount errors   \n",
    "    \n",
    "# may 2023\n",
    "    \n",
    " 20230509 :  \"u/dagoret/BPS_manyspectro_v81\", \n",
    " 20230510 :  \"u/dagoret/BPS_manyspectro_v82\",   \n",
    " 20230511 :  \"u/dagoret/BPS_manyspectro_v83\",\n",
    "    \n",
    "}"
   ]
  },
  {
   "cell_type": "code",
   "execution_count": 11,
   "id": "c1ffbd47-4cc9-4ef1-ab1c-6f477b8139bb",
   "metadata": {
    "execution": {
     "iopub.execute_input": "2023-05-17T11:50:16.119286Z",
     "iopub.status.busy": "2023-05-17T11:50:16.119152Z",
     "iopub.status.idle": "2023-05-17T11:50:16.123211Z",
     "shell.execute_reply": "2023-05-17T11:50:16.122801Z",
     "shell.execute_reply.started": "2023-05-17T11:50:16.119274Z"
    },
    "tags": []
   },
   "outputs": [],
   "source": [
    "DATE = 20230509\n",
    "my_collection = DateToRuncollection[DATE]\n",
    "\n",
    "filterdispersername = \"empty~holo4_003\"\n",
    "\n",
    "RUNSELECTION = 20230330\n",
    "#RUNSELECTION = 20230403"
   ]
  },
  {
   "cell_type": "markdown",
   "id": "e5eef764-6dfc-469a-a11a-7184e0aeed06",
   "metadata": {},
   "source": [
    "# List of Dataset types avalaible in my collection"
   ]
  },
  {
   "cell_type": "markdown",
   "id": "1310d3a5-fc53-4db1-b56a-bf6f6e8eca60",
   "metadata": {},
   "source": [
    "## List of dataset types"
   ]
  },
  {
   "cell_type": "code",
   "execution_count": 12,
   "id": "44be81c8-1a26-4e62-ac23-bfa9353206a0",
   "metadata": {
    "execution": {
     "iopub.execute_input": "2023-05-17T11:50:16.123922Z",
     "iopub.status.busy": "2023-05-17T11:50:16.123789Z",
     "iopub.status.idle": "2023-05-17T11:50:16.130450Z",
     "shell.execute_reply": "2023-05-17T11:50:16.130039Z",
     "shell.execute_reply.started": "2023-05-17T11:50:16.123910Z"
    },
    "tags": []
   },
   "outputs": [
    {
     "data": {
      "text/plain": [
       "[DatasetType('atmospecCentroid', {band, instrument, detector, physical_filter, visit}, StructuredDataDict),\n",
       " DatasetType('spectraction', {band, instrument, detector, physical_filter, visit}, Spectraction),\n",
       " DatasetType('spectractorImage', {band, instrument, detector, physical_filter, visit}, SpectractorImage),\n",
       " DatasetType('spectractorSpectrum', {band, instrument, detector, physical_filter, visit}, SpectractorSpectrum),\n",
       " DatasetType('spectrogramLibradtranFitParameters', {band, instrument, detector, physical_filter, visit}, SpectractorFitParameters),\n",
       " DatasetType('spectrumForwardModelFitParameters', {band, instrument, detector, physical_filter, visit}, SpectractorFitParameters),\n",
       " DatasetType('spectrumLibradtranFitParameters', {band, instrument, detector, physical_filter, visit}, SpectractorFitParameters)]"
      ]
     },
     "execution_count": 12,
     "metadata": {},
     "output_type": "execute_result"
    }
   ],
   "source": [
    "list(registry.queryDatasetTypes(\"*spec*\"))"
   ]
  },
  {
   "cell_type": "markdown",
   "id": "1dc3ad38-178b-47c6-b989-442a8b91cf1b",
   "metadata": {},
   "source": [
    "## list of datasets"
   ]
  },
  {
   "cell_type": "code",
   "execution_count": 13,
   "id": "fe033164-536b-4adf-94d8-0b59d81740ce",
   "metadata": {
    "execution": {
     "iopub.execute_input": "2023-05-17T11:50:16.131218Z",
     "iopub.status.busy": "2023-05-17T11:50:16.131082Z",
     "iopub.status.idle": "2023-05-17T11:50:16.169930Z",
     "shell.execute_reply": "2023-05-17T11:50:16.169475Z",
     "shell.execute_reply.started": "2023-05-17T11:50:16.131206Z"
    },
    "tags": []
   },
   "outputs": [
    {
     "data": {
      "text/plain": [
       "[DatasetRef(DatasetType('atmospecCentroid', {band, instrument, detector, physical_filter, visit}, StructuredDataDict), {instrument: 'LATISS', detector: 0, visit: 2023050900447, ...}, id=3fb28ec6-b4b7-4fc9-8609-24da3c4fd1e4, run='u/dagoret/BPS_manyspectro_v81/20230515T140501Z'),\n",
       " DatasetRef(DatasetType('atmospecCentroid', {band, instrument, detector, physical_filter, visit}, StructuredDataDict), {instrument: 'LATISS', detector: 0, visit: 2023050900342, ...}, id=ce3eeb28-5f2e-4bbe-ac88-fee6e870b2c6, run='u/dagoret/BPS_manyspectro_v81/20230515T140501Z'),\n",
       " DatasetRef(DatasetType('atmospecCentroid', {band, instrument, detector, physical_filter, visit}, StructuredDataDict), {instrument: 'LATISS', detector: 0, visit: 2023050900365, ...}, id=d61216a0-656a-4c3d-8139-61bd6a469ec8, run='u/dagoret/BPS_manyspectro_v81/20230515T140501Z'),\n",
       " DatasetRef(DatasetType('atmospecCentroid', {band, instrument, detector, physical_filter, visit}, StructuredDataDict), {instrument: 'LATISS', detector: 0, visit: 2023050900543, ...}, id=ce859827-0e4d-44fc-8fdd-75cc612bc904, run='u/dagoret/BPS_manyspectro_v81/20230515T140501Z'),\n",
       " DatasetRef(DatasetType('atmospecCentroid', {band, instrument, detector, physical_filter, visit}, StructuredDataDict), {instrument: 'LATISS', detector: 0, visit: 2023050900383, ...}, id=3ee7ffad-6e64-48f8-a413-facae34c8993, run='u/dagoret/BPS_manyspectro_v81/20230515T140501Z'),\n",
       " DatasetRef(DatasetType('atmospecCentroid', {band, instrument, detector, physical_filter, visit}, StructuredDataDict), {instrument: 'LATISS', detector: 0, visit: 2023050900460, ...}, id=eac3905b-a737-4348-b02d-bd6bf2c386eb, run='u/dagoret/BPS_manyspectro_v81/20230515T140501Z'),\n",
       " DatasetRef(DatasetType('atmospecCentroid', {band, instrument, detector, physical_filter, visit}, StructuredDataDict), {instrument: 'LATISS', detector: 0, visit: 2023050900214, ...}, id=929dd844-4691-4662-a271-a5e60cf89e59, run='u/dagoret/BPS_manyspectro_v81/20230515T140501Z'),\n",
       " DatasetRef(DatasetType('atmospecCentroid', {band, instrument, detector, physical_filter, visit}, StructuredDataDict), {instrument: 'LATISS', detector: 0, visit: 2023050900348, ...}, id=c0a8a02a-4059-41d7-81df-0ae1afb0b2c0, run='u/dagoret/BPS_manyspectro_v81/20230515T140501Z'),\n",
       " DatasetRef(DatasetType('atmospecCentroid', {band, instrument, detector, physical_filter, visit}, StructuredDataDict), {instrument: 'LATISS', detector: 0, visit: 2023050900357, ...}, id=bc4d272f-8071-472c-bc12-e8fca36d386c, run='u/dagoret/BPS_manyspectro_v81/20230515T140501Z'),\n",
       " DatasetRef(DatasetType('atmospecCentroid', {band, instrument, detector, physical_filter, visit}, StructuredDataDict), {instrument: 'LATISS', detector: 0, visit: 2023050900226, ...}, id=65debf7d-5557-4fff-9301-49c4d0346208, run='u/dagoret/BPS_manyspectro_v81/20230515T140501Z')]"
      ]
     },
     "execution_count": 13,
     "metadata": {},
     "output_type": "execute_result"
    }
   ],
   "source": [
    "list(registry.queryDatasets(\"*spec*\", collections=[my_collection]))[:10]"
   ]
  },
  {
   "cell_type": "markdown",
   "id": "c30cd39d-0677-43f7-b043-c0b9ae126c73",
   "metadata": {},
   "source": [
    "### Spectractor"
   ]
  },
  {
   "cell_type": "code",
   "execution_count": 14,
   "id": "1dc181f4-d44a-48c4-8e8a-86c35c0dcc98",
   "metadata": {
    "execution": {
     "iopub.execute_input": "2023-05-17T11:50:16.170624Z",
     "iopub.status.busy": "2023-05-17T11:50:16.170490Z",
     "iopub.status.idle": "2023-05-17T11:50:16.172673Z",
     "shell.execute_reply": "2023-05-17T11:50:16.172266Z",
     "shell.execute_reply.started": "2023-05-17T11:50:16.170612Z"
    },
    "tags": []
   },
   "outputs": [],
   "source": [
    "configmode = \"PSF2DFFM_REBIN2\"\n",
    "#configmode = \"PSF2DFFM_REBIN1\"\n",
    "#ext=\"_b\"\n",
    "specver=\"specV2.4\""
   ]
  },
  {
   "cell_type": "markdown",
   "id": "740be8a3-fcd9-4f42-b0ec-8067ad2bc2ae",
   "metadata": {},
   "source": [
    "https://www.pythonforthelab.com/blog/how-to-use-hdf5-files-in-python/"
   ]
  },
  {
   "cell_type": "code",
   "execution_count": 15,
   "id": "6c20db62-9cda-42c7-85e8-54e33404fc56",
   "metadata": {
    "execution": {
     "iopub.execute_input": "2023-05-17T11:50:16.173413Z",
     "iopub.status.busy": "2023-05-17T11:50:16.173278Z",
     "iopub.status.idle": "2023-05-17T11:50:16.175688Z",
     "shell.execute_reply": "2023-05-17T11:50:16.175286Z",
     "shell.execute_reply.started": "2023-05-17T11:50:16.173401Z"
    },
    "tags": []
   },
   "outputs": [],
   "source": [
    "#summary_file = f\"summaryspectra_{DATE}-{filterdispersername}-{configmode}-oga.csv\"\n",
    "summary_file = f\"summaryspectra_{DATE}-{filterdispersername}-{configmode}-{specver}-oga.csv\"\n",
    "output_file_h5 = f\"allspectra_{DATE}-{filterdispersername}-{configmode}-{specver}-oga.hdf5\""
   ]
  },
  {
   "cell_type": "markdown",
   "id": "20dbb8da-3a08-4b4f-9437-4bf7f28c1782",
   "metadata": {},
   "source": [
    "### The collection"
   ]
  },
  {
   "cell_type": "code",
   "execution_count": 16,
   "id": "9629ea29-8ab4-4062-aed1-e16d62dc90c4",
   "metadata": {
    "execution": {
     "iopub.execute_input": "2023-05-17T11:50:16.176370Z",
     "iopub.status.busy": "2023-05-17T11:50:16.176236Z",
     "iopub.status.idle": "2023-05-17T11:50:16.196278Z",
     "shell.execute_reply": "2023-05-17T11:50:16.195857Z",
     "shell.execute_reply.started": "2023-05-17T11:50:16.176357Z"
    },
    "tags": []
   },
   "outputs": [],
   "source": [
    "datasetRefs = registry.queryDatasets(datasetType='spectractorSpectrum', collections=my_collection, where= \"instrument='LATISS'\")"
   ]
  },
  {
   "cell_type": "code",
   "execution_count": 17,
   "id": "2f008879-ecc4-4b86-9b24-0641fb4301cd",
   "metadata": {
    "execution": {
     "iopub.execute_input": "2023-05-17T11:50:16.196999Z",
     "iopub.status.busy": "2023-05-17T11:50:16.196858Z",
     "iopub.status.idle": "2023-05-17T11:50:16.198910Z",
     "shell.execute_reply": "2023-05-17T11:50:16.198503Z",
     "shell.execute_reply.started": "2023-05-17T11:50:16.196987Z"
    }
   },
   "outputs": [],
   "source": [
    "# following line not possible in OGA\n",
    "#butler = butlerUtils.makeDefaultLatissButler(extraCollections=[my_collection])"
   ]
  },
  {
   "cell_type": "code",
   "execution_count": 18,
   "id": "68381069-9717-4616-ae6c-f1e6561dbddf",
   "metadata": {
    "execution": {
     "iopub.execute_input": "2023-05-17T11:50:16.199581Z",
     "iopub.status.busy": "2023-05-17T11:50:16.199453Z",
     "iopub.status.idle": "2023-05-17T11:50:16.202016Z",
     "shell.execute_reply": "2023-05-17T11:50:16.201615Z",
     "shell.execute_reply.started": "2023-05-17T11:50:16.199569Z"
    },
    "tags": []
   },
   "outputs": [],
   "source": [
    "if FLAG_MOUNT_ERRORS:\n",
    "    df_mounterrors = pd.read_csv(\"mountErrors.csv\")\n",
    "    df=df_mounterrors[df_mounterrors[\"date_obs\"] == DATE ]\n",
    "    if len(df) == 0:\n",
    "        FLAG_MOUNT_ERRORS = False\n",
    "        "
   ]
  },
  {
   "cell_type": "markdown",
   "id": "432e82a4-5617-48b3-a5bb-1f2c550c8525",
   "metadata": {},
   "source": [
    "## Loop on exposures"
   ]
  },
  {
   "cell_type": "code",
   "execution_count": null,
   "id": "72d890df-634d-4543-ba8e-c29c0621ac4d",
   "metadata": {
    "execution": {
     "iopub.status.busy": "2023-05-17T11:50:16.297888Z",
     "iopub.status.idle": "2023-05-17T11:50:16.298078Z",
     "shell.execute_reply": "2023-05-17T11:50:16.297986Z",
     "shell.execute_reply.started": "2023-05-17T11:50:16.297977Z"
    },
    "tags": []
   },
   "outputs": [],
   "source": [
    "#outfile.close()"
   ]
  },
  {
   "cell_type": "code",
   "execution_count": 20,
   "id": "979b03d5-e54c-4d21-a848-98b820df1d16",
   "metadata": {
    "execution": {
     "iopub.execute_input": "2023-05-17T11:50:55.539371Z",
     "iopub.status.busy": "2023-05-17T11:50:55.538691Z",
     "iopub.status.idle": "2023-05-17T11:51:13.092523Z",
     "shell.execute_reply": "2023-05-17T11:51:13.091983Z",
     "shell.execute_reply.started": "2023-05-17T11:50:55.539352Z"
    },
    "tags": []
   },
   "outputs": [
    {
     "name": "stdout",
     "output_type": "stream",
     "text": [
      "============= (0) ============datasetType = spectraction ============================================\n",
      "fullId..................: {band: 'white', instrument: 'LATISS', detector: 0, physical_filter: 'empty~holo4_003', visit: 2023050900204}\n",
      "visit...................: 2023050900204\n",
      "band....................: white\n",
      "physical filter.........: empty~holo4_003\n",
      "run.....................: u/dagoret/BPS_manyspectro_v81/20230515T140501Z\n",
      "{'day_obs': 20230509, 'seq_num': 204, 'detector': 0}\n",
      "============= (1) ============datasetType = spectraction ============================================\n",
      "fullId..................: {band: 'white', instrument: 'LATISS', detector: 0, physical_filter: 'empty~holo4_003', visit: 2023050900312}\n",
      "visit...................: 2023050900312\n",
      "band....................: white\n",
      "physical filter.........: empty~holo4_003\n",
      "run.....................: u/dagoret/BPS_manyspectro_v81/20230515T140501Z\n",
      "{'day_obs': 20230509, 'seq_num': 312, 'detector': 0}\n",
      "============= (2) ============datasetType = spectraction ============================================\n",
      "fullId..................: {band: 'white', instrument: 'LATISS', detector: 0, physical_filter: 'empty~holo4_003', visit: 2023050900297}\n",
      "visit...................: 2023050900297\n",
      "band....................: white\n",
      "physical filter.........: empty~holo4_003\n",
      "run.....................: u/dagoret/BPS_manyspectro_v81/20230515T140501Z\n",
      "{'day_obs': 20230509, 'seq_num': 297, 'detector': 0}\n",
      "============= (3) ============datasetType = spectraction ============================================\n",
      "fullId..................: {band: 'white', instrument: 'LATISS', detector: 0, physical_filter: 'empty~holo4_003', visit: 2023050900477}\n",
      "visit...................: 2023050900477\n",
      "band....................: white\n",
      "physical filter.........: empty~holo4_003\n",
      "run.....................: u/dagoret/BPS_manyspectro_v81/20230515T140501Z\n",
      "{'day_obs': 20230509, 'seq_num': 477, 'detector': 0}\n",
      "============= (4) ============datasetType = spectraction ============================================\n",
      "fullId..................: {band: 'white', instrument: 'LATISS', detector: 0, physical_filter: 'empty~holo4_003', visit: 2023050900487}\n",
      "visit...................: 2023050900487\n",
      "band....................: white\n",
      "physical filter.........: empty~holo4_003\n",
      "run.....................: u/dagoret/BPS_manyspectro_v81/20230515T140501Z\n",
      "{'day_obs': 20230509, 'seq_num': 487, 'detector': 0}\n",
      "============= (5) ============datasetType = spectraction ============================================\n",
      "fullId..................: {band: 'white', instrument: 'LATISS', detector: 0, physical_filter: 'empty~holo4_003', visit: 2023050900499}\n",
      "visit...................: 2023050900499\n",
      "band....................: white\n",
      "physical filter.........: empty~holo4_003\n",
      "run.....................: u/dagoret/BPS_manyspectro_v81/20230515T140501Z\n",
      "{'day_obs': 20230509, 'seq_num': 499, 'detector': 0}\n",
      "============= (6) ============datasetType = spectraction ============================================\n",
      "fullId..................: {band: 'white', instrument: 'LATISS', detector: 0, physical_filter: 'empty~holo4_003', visit: 2023050900226}\n",
      "visit...................: 2023050900226\n",
      "band....................: white\n",
      "physical filter.........: empty~holo4_003\n",
      "run.....................: u/dagoret/BPS_manyspectro_v81/20230515T140501Z\n",
      "{'day_obs': 20230509, 'seq_num': 226, 'detector': 0}\n",
      "============= (7) ============datasetType = spectraction ============================================\n",
      "fullId..................: {band: 'white', instrument: 'LATISS', detector: 0, physical_filter: 'empty~holo4_003', visit: 2023050900460}\n",
      "visit...................: 2023050900460\n",
      "band....................: white\n",
      "physical filter.........: empty~holo4_003\n",
      "run.....................: u/dagoret/BPS_manyspectro_v81/20230515T140501Z\n",
      "{'day_obs': 20230509, 'seq_num': 460, 'detector': 0}\n",
      "============= (8) ============datasetType = spectraction ============================================\n",
      "fullId..................: {band: 'white', instrument: 'LATISS', detector: 0, physical_filter: 'empty~holo4_003', visit: 2023050900288}\n",
      "visit...................: 2023050900288\n",
      "band....................: white\n",
      "physical filter.........: empty~holo4_003\n",
      "run.....................: u/dagoret/BPS_manyspectro_v81/20230515T140501Z\n",
      "{'day_obs': 20230509, 'seq_num': 288, 'detector': 0}\n",
      "============= (9) ============datasetType = spectraction ============================================\n",
      "fullId..................: {band: 'white', instrument: 'LATISS', detector: 0, physical_filter: 'empty~holo4_003', visit: 2023050900266}\n",
      "visit...................: 2023050900266\n",
      "band....................: white\n",
      "physical filter.........: empty~holo4_003\n",
      "run.....................: u/dagoret/BPS_manyspectro_v81/20230515T140501Z\n",
      "{'day_obs': 20230509, 'seq_num': 266, 'detector': 0}\n",
      "============= (10) ============datasetType = spectraction ============================================\n",
      "fullId..................: {band: 'white', instrument: 'LATISS', detector: 0, physical_filter: 'empty~holo4_003', visit: 2023050900551}\n",
      "visit...................: 2023050900551\n",
      "band....................: white\n",
      "physical filter.........: empty~holo4_003\n",
      "run.....................: u/dagoret/BPS_manyspectro_v81/20230515T140501Z\n",
      "{'day_obs': 20230509, 'seq_num': 551, 'detector': 0}\n",
      "============= (11) ============datasetType = spectraction ============================================\n",
      "fullId..................: {band: 'white', instrument: 'LATISS', detector: 0, physical_filter: 'empty~holo4_003', visit: 2023050900511}\n",
      "visit...................: 2023050900511\n",
      "band....................: white\n",
      "physical filter.........: empty~holo4_003\n",
      "run.....................: u/dagoret/BPS_manyspectro_v81/20230515T140501Z\n",
      "{'day_obs': 20230509, 'seq_num': 511, 'detector': 0}\n",
      "============= (12) ============datasetType = spectraction ============================================\n",
      "fullId..................: {band: 'white', instrument: 'LATISS', detector: 0, physical_filter: 'empty~holo4_003', visit: 2023050900348}\n",
      "visit...................: 2023050900348\n",
      "band....................: white\n",
      "physical filter.........: empty~holo4_003\n",
      "run.....................: u/dagoret/BPS_manyspectro_v81/20230515T140501Z\n",
      "{'day_obs': 20230509, 'seq_num': 348, 'detector': 0}\n",
      "============= (13) ============datasetType = spectraction ============================================\n",
      "fullId..................: {band: 'white', instrument: 'LATISS', detector: 0, physical_filter: 'empty~holo4_003', visit: 2023050900528}\n",
      "visit...................: 2023050900528\n",
      "band....................: white\n",
      "physical filter.........: empty~holo4_003\n",
      "run.....................: u/dagoret/BPS_manyspectro_v81/20230515T140501Z\n",
      "{'day_obs': 20230509, 'seq_num': 528, 'detector': 0}\n",
      "============= (14) ============datasetType = spectraction ============================================\n",
      "fullId..................: {band: 'white', instrument: 'LATISS', detector: 0, physical_filter: 'empty~holo4_003', visit: 2023050900404}\n",
      "visit...................: 2023050900404\n",
      "band....................: white\n",
      "physical filter.........: empty~holo4_003\n",
      "run.....................: u/dagoret/BPS_manyspectro_v81/20230515T140501Z\n",
      "{'day_obs': 20230509, 'seq_num': 404, 'detector': 0}\n",
      "============= (15) ============datasetType = spectraction ============================================\n",
      "fullId..................: {band: 'white', instrument: 'LATISS', detector: 0, physical_filter: 'empty~holo4_003', visit: 2023050900463}\n",
      "visit...................: 2023050900463\n",
      "band....................: white\n",
      "physical filter.........: empty~holo4_003\n",
      "run.....................: u/dagoret/BPS_manyspectro_v81/20230515T140501Z\n",
      "{'day_obs': 20230509, 'seq_num': 463, 'detector': 0}\n",
      "============= (16) ============datasetType = spectraction ============================================\n",
      "fullId..................: {band: 'white', instrument: 'LATISS', detector: 0, physical_filter: 'empty~holo4_003', visit: 2023050900469}\n",
      "visit...................: 2023050900469\n",
      "band....................: white\n",
      "physical filter.........: empty~holo4_003\n",
      "run.....................: u/dagoret/BPS_manyspectro_v81/20230515T140501Z\n",
      "{'day_obs': 20230509, 'seq_num': 469, 'detector': 0}\n",
      "============= (17) ============datasetType = spectraction ============================================\n",
      "fullId..................: {band: 'white', instrument: 'LATISS', detector: 0, physical_filter: 'empty~holo4_003', visit: 2023050900230}\n",
      "visit...................: 2023050900230\n",
      "band....................: white\n",
      "physical filter.........: empty~holo4_003\n",
      "run.....................: u/dagoret/BPS_manyspectro_v81/20230515T140501Z\n",
      "{'day_obs': 20230509, 'seq_num': 230, 'detector': 0}\n",
      "============= (18) ============datasetType = spectraction ============================================\n",
      "fullId..................: {band: 'white', instrument: 'LATISS', detector: 0, physical_filter: 'empty~holo4_003', visit: 2023050900292}\n",
      "visit...................: 2023050900292\n",
      "band....................: white\n",
      "physical filter.........: empty~holo4_003\n",
      "run.....................: u/dagoret/BPS_manyspectro_v81/20230515T140501Z\n",
      "{'day_obs': 20230509, 'seq_num': 292, 'detector': 0}\n",
      "============= (19) ============datasetType = spectraction ============================================\n",
      "fullId..................: {band: 'white', instrument: 'LATISS', detector: 0, physical_filter: 'empty~holo4_003', visit: 2023050900433}\n",
      "visit...................: 2023050900433\n",
      "band....................: white\n",
      "physical filter.........: empty~holo4_003\n",
      "run.....................: u/dagoret/BPS_manyspectro_v81/20230515T140501Z\n",
      "{'day_obs': 20230509, 'seq_num': 433, 'detector': 0}\n",
      "============= (20) ============datasetType = spectraction ============================================\n",
      "fullId..................: {band: 'white', instrument: 'LATISS', detector: 0, physical_filter: 'empty~holo4_003', visit: 2023050900444}\n",
      "visit...................: 2023050900444\n",
      "band....................: white\n",
      "physical filter.........: empty~holo4_003\n",
      "run.....................: u/dagoret/BPS_manyspectro_v81/20230515T140501Z\n",
      "{'day_obs': 20230509, 'seq_num': 444, 'detector': 0}\n",
      "============= (21) ============datasetType = spectraction ============================================\n",
      "fullId..................: {band: 'white', instrument: 'LATISS', detector: 0, physical_filter: 'empty~holo4_003', visit: 2023050900242}\n",
      "visit...................: 2023050900242\n",
      "band....................: white\n",
      "physical filter.........: empty~holo4_003\n",
      "run.....................: u/dagoret/BPS_manyspectro_v81/20230515T140501Z\n",
      "{'day_obs': 20230509, 'seq_num': 242, 'detector': 0}\n",
      "============= (22) ============datasetType = spectraction ============================================\n",
      "fullId..................: {band: 'white', instrument: 'LATISS', detector: 0, physical_filter: 'empty~holo4_003', visit: 2023050900520}\n",
      "visit...................: 2023050900520\n",
      "band....................: white\n",
      "physical filter.........: empty~holo4_003\n",
      "run.....................: u/dagoret/BPS_manyspectro_v81/20230515T140501Z\n",
      "{'day_obs': 20230509, 'seq_num': 520, 'detector': 0}\n",
      "============= (23) ============datasetType = spectraction ============================================\n",
      "fullId..................: {band: 'white', instrument: 'LATISS', detector: 0, physical_filter: 'empty~holo4_003', visit: 2023050900548}\n",
      "visit...................: 2023050900548\n",
      "band....................: white\n",
      "physical filter.........: empty~holo4_003\n",
      "run.....................: u/dagoret/BPS_manyspectro_v81/20230515T140501Z\n",
      "{'day_obs': 20230509, 'seq_num': 548, 'detector': 0}\n",
      "============= (24) ============datasetType = spectraction ============================================\n",
      "fullId..................: {band: 'white', instrument: 'LATISS', detector: 0, physical_filter: 'empty~holo4_003', visit: 2023050900214}\n",
      "visit...................: 2023050900214\n",
      "band....................: white\n",
      "physical filter.........: empty~holo4_003\n",
      "run.....................: u/dagoret/BPS_manyspectro_v81/20230515T140501Z\n",
      "{'day_obs': 20230509, 'seq_num': 214, 'detector': 0}\n",
      "============= (25) ============datasetType = spectraction ============================================\n",
      "fullId..................: {band: 'white', instrument: 'LATISS', detector: 0, physical_filter: 'empty~holo4_003', visit: 2023050900199}\n",
      "visit...................: 2023050900199\n",
      "band....................: white\n",
      "physical filter.........: empty~holo4_003\n",
      "run.....................: u/dagoret/BPS_manyspectro_v81/20230515T140501Z\n",
      "{'day_obs': 20230509, 'seq_num': 199, 'detector': 0}\n",
      "============= (26) ============datasetType = spectraction ============================================\n",
      "fullId..................: {band: 'white', instrument: 'LATISS', detector: 0, physical_filter: 'empty~holo4_003', visit: 2023050900571}\n",
      "visit...................: 2023050900571\n",
      "band....................: white\n",
      "physical filter.........: empty~holo4_003\n",
      "run.....................: u/dagoret/BPS_manyspectro_v81/20230515T140501Z\n",
      "{'day_obs': 20230509, 'seq_num': 571, 'detector': 0}\n",
      "============= (27) ============datasetType = spectraction ============================================\n",
      "fullId..................: {band: 'white', instrument: 'LATISS', detector: 0, physical_filter: 'empty~holo4_003', visit: 2023050900235}\n",
      "visit...................: 2023050900235\n",
      "band....................: white\n",
      "physical filter.........: empty~holo4_003\n",
      "run.....................: u/dagoret/BPS_manyspectro_v81/20230515T140501Z\n",
      "{'day_obs': 20230509, 'seq_num': 235, 'detector': 0}\n",
      "============= (28) ============datasetType = spectraction ============================================\n",
      "fullId..................: {band: 'white', instrument: 'LATISS', detector: 0, physical_filter: 'empty~holo4_003', visit: 2023050900495}\n",
      "visit...................: 2023050900495\n",
      "band....................: white\n",
      "physical filter.........: empty~holo4_003\n",
      "run.....................: u/dagoret/BPS_manyspectro_v81/20230515T140501Z\n",
      "{'day_obs': 20230509, 'seq_num': 495, 'detector': 0}\n",
      "============= (29) ============datasetType = spectraction ============================================\n",
      "fullId..................: {band: 'white', instrument: 'LATISS', detector: 0, physical_filter: 'empty~holo4_003', visit: 2023050900533}\n",
      "visit...................: 2023050900533\n",
      "band....................: white\n",
      "physical filter.........: empty~holo4_003\n",
      "run.....................: u/dagoret/BPS_manyspectro_v81/20230515T140501Z\n",
      "{'day_obs': 20230509, 'seq_num': 533, 'detector': 0}\n",
      "============= (30) ============datasetType = spectraction ============================================\n",
      "fullId..................: {band: 'white', instrument: 'LATISS', detector: 0, physical_filter: 'empty~holo4_003', visit: 2023050900455}\n",
      "visit...................: 2023050900455\n",
      "band....................: white\n",
      "physical filter.........: empty~holo4_003\n",
      "run.....................: u/dagoret/BPS_manyspectro_v81/20230515T140501Z\n",
      "{'day_obs': 20230509, 'seq_num': 455, 'detector': 0}\n",
      "============= (31) ============datasetType = spectraction ============================================\n",
      "fullId..................: {band: 'white', instrument: 'LATISS', detector: 0, physical_filter: 'empty~holo4_003', visit: 2023050900362}\n",
      "visit...................: 2023050900362\n",
      "band....................: white\n",
      "physical filter.........: empty~holo4_003\n",
      "run.....................: u/dagoret/BPS_manyspectro_v81/20230515T140501Z\n",
      "{'day_obs': 20230509, 'seq_num': 362, 'detector': 0}\n",
      "============= (32) ============datasetType = spectraction ============================================\n",
      "fullId..................: {band: 'white', instrument: 'LATISS', detector: 0, physical_filter: 'empty~holo4_003', visit: 2023050900391}\n",
      "visit...................: 2023050900391\n",
      "band....................: white\n",
      "physical filter.........: empty~holo4_003\n",
      "run.....................: u/dagoret/BPS_manyspectro_v81/20230515T140501Z\n",
      "{'day_obs': 20230509, 'seq_num': 391, 'detector': 0}\n",
      "============= (33) ============datasetType = spectraction ============================================\n",
      "fullId..................: {band: 'white', instrument: 'LATISS', detector: 0, physical_filter: 'empty~holo4_003', visit: 2023050900322}\n",
      "visit...................: 2023050900322\n",
      "band....................: white\n",
      "physical filter.........: empty~holo4_003\n",
      "run.....................: u/dagoret/BPS_manyspectro_v81/20230515T140501Z\n",
      "{'day_obs': 20230509, 'seq_num': 322, 'detector': 0}\n",
      "============= (34) ============datasetType = spectraction ============================================\n",
      "fullId..................: {band: 'white', instrument: 'LATISS', detector: 0, physical_filter: 'empty~holo4_003', visit: 2023050900536}\n",
      "visit...................: 2023050900536\n",
      "band....................: white\n",
      "physical filter.........: empty~holo4_003\n",
      "run.....................: u/dagoret/BPS_manyspectro_v81/20230515T140501Z\n",
      "{'day_obs': 20230509, 'seq_num': 536, 'detector': 0}\n",
      "============= (35) ============datasetType = spectraction ============================================\n",
      "fullId..................: {band: 'white', instrument: 'LATISS', detector: 0, physical_filter: 'empty~holo4_003', visit: 2023050900342}\n",
      "visit...................: 2023050900342\n",
      "band....................: white\n",
      "physical filter.........: empty~holo4_003\n",
      "run.....................: u/dagoret/BPS_manyspectro_v81/20230515T140501Z\n",
      "{'day_obs': 20230509, 'seq_num': 342, 'detector': 0}\n",
      "============= (36) ============datasetType = spectraction ============================================\n",
      "fullId..................: {band: 'white', instrument: 'LATISS', detector: 0, physical_filter: 'empty~holo4_003', visit: 2023050900396}\n",
      "visit...................: 2023050900396\n",
      "band....................: white\n",
      "physical filter.........: empty~holo4_003\n",
      "run.....................: u/dagoret/BPS_manyspectro_v81/20230515T140501Z\n",
      "{'day_obs': 20230509, 'seq_num': 396, 'detector': 0}\n",
      "============= (37) ============datasetType = spectraction ============================================\n",
      "fullId..................: {band: 'white', instrument: 'LATISS', detector: 0, physical_filter: 'empty~holo4_003', visit: 2023050900383}\n",
      "visit...................: 2023050900383\n",
      "band....................: white\n",
      "physical filter.........: empty~holo4_003\n",
      "run.....................: u/dagoret/BPS_manyspectro_v81/20230515T140501Z\n",
      "{'day_obs': 20230509, 'seq_num': 383, 'detector': 0}\n",
      "============= (38) ============datasetType = spectraction ============================================\n",
      "fullId..................: {band: 'white', instrument: 'LATISS', detector: 0, physical_filter: 'empty~holo4_003', visit: 2023050900492}\n",
      "visit...................: 2023050900492\n",
      "band....................: white\n",
      "physical filter.........: empty~holo4_003\n",
      "run.....................: u/dagoret/BPS_manyspectro_v81/20230515T140501Z\n",
      "{'day_obs': 20230509, 'seq_num': 492, 'detector': 0}\n",
      "============= (39) ============datasetType = spectraction ============================================\n",
      "fullId..................: {band: 'white', instrument: 'LATISS', detector: 0, physical_filter: 'empty~holo4_003', visit: 2023050900474}\n",
      "visit...................: 2023050900474\n",
      "band....................: white\n",
      "physical filter.........: empty~holo4_003\n",
      "run.....................: u/dagoret/BPS_manyspectro_v81/20230515T140501Z\n",
      "{'day_obs': 20230509, 'seq_num': 474, 'detector': 0}\n",
      "============= (40) ============datasetType = spectraction ============================================\n",
      "fullId..................: {band: 'white', instrument: 'LATISS', detector: 0, physical_filter: 'empty~holo4_003', visit: 2023050900246}\n",
      "visit...................: 2023050900246\n",
      "band....................: white\n",
      "physical filter.........: empty~holo4_003\n",
      "run.....................: u/dagoret/BPS_manyspectro_v81/20230515T140501Z\n",
      "{'day_obs': 20230509, 'seq_num': 246, 'detector': 0}\n",
      "============= (41) ============datasetType = spectraction ============================================\n",
      "fullId..................: {band: 'white', instrument: 'LATISS', detector: 0, physical_filter: 'empty~holo4_003', visit: 2023050900251}\n",
      "visit...................: 2023050900251\n",
      "band....................: white\n",
      "physical filter.........: empty~holo4_003\n",
      "run.....................: u/dagoret/BPS_manyspectro_v81/20230515T140501Z\n",
      "{'day_obs': 20230509, 'seq_num': 251, 'detector': 0}\n",
      "============= (42) ============datasetType = spectraction ============================================\n",
      "fullId..................: {band: 'white', instrument: 'LATISS', detector: 0, physical_filter: 'empty~holo4_003', visit: 2023050900568}\n",
      "visit...................: 2023050900568\n",
      "band....................: white\n",
      "physical filter.........: empty~holo4_003\n",
      "run.....................: u/dagoret/BPS_manyspectro_v81/20230515T140501Z\n",
      "{'day_obs': 20230509, 'seq_num': 568, 'detector': 0}\n",
      "============= (43) ============datasetType = spectraction ============================================\n",
      "fullId..................: {band: 'white', instrument: 'LATISS', detector: 0, physical_filter: 'empty~holo4_003', visit: 2023050900426}\n",
      "visit...................: 2023050900426\n",
      "band....................: white\n",
      "physical filter.........: empty~holo4_003\n",
      "run.....................: u/dagoret/BPS_manyspectro_v81/20230515T140501Z\n",
      "{'day_obs': 20230509, 'seq_num': 426, 'detector': 0}\n",
      "============= (44) ============datasetType = spectraction ============================================\n",
      "fullId..................: {band: 'white', instrument: 'LATISS', detector: 0, physical_filter: 'empty~holo4_003', visit: 2023050900219}\n",
      "visit...................: 2023050900219\n",
      "band....................: white\n",
      "physical filter.........: empty~holo4_003\n",
      "run.....................: u/dagoret/BPS_manyspectro_v81/20230515T140501Z\n",
      "{'day_obs': 20230509, 'seq_num': 219, 'detector': 0}\n",
      "============= (45) ============datasetType = spectraction ============================================\n",
      "fullId..................: {band: 'white', instrument: 'LATISS', detector: 0, physical_filter: 'empty~holo4_003', visit: 2023050900307}\n",
      "visit...................: 2023050900307\n",
      "band....................: white\n",
      "physical filter.........: empty~holo4_003\n",
      "run.....................: u/dagoret/BPS_manyspectro_v81/20230515T140501Z\n",
      "{'day_obs': 20230509, 'seq_num': 307, 'detector': 0}\n",
      "============= (46) ============datasetType = spectraction ============================================\n",
      "fullId..................: {band: 'white', instrument: 'LATISS', detector: 0, physical_filter: 'empty~holo4_003', visit: 2023050900507}\n",
      "visit...................: 2023050900507\n",
      "band....................: white\n",
      "physical filter.........: empty~holo4_003\n",
      "run.....................: u/dagoret/BPS_manyspectro_v81/20230515T140501Z\n",
      "{'day_obs': 20230509, 'seq_num': 507, 'detector': 0}\n",
      "============= (47) ============datasetType = spectraction ============================================\n",
      "fullId..................: {band: 'white', instrument: 'LATISS', detector: 0, physical_filter: 'empty~holo4_003', visit: 2023050900337}\n",
      "visit...................: 2023050900337\n",
      "band....................: white\n",
      "physical filter.........: empty~holo4_003\n",
      "run.....................: u/dagoret/BPS_manyspectro_v81/20230515T140501Z\n",
      "{'day_obs': 20230509, 'seq_num': 337, 'detector': 0}\n",
      "============= (48) ============datasetType = spectraction ============================================\n",
      "fullId..................: {band: 'white', instrument: 'LATISS', detector: 0, physical_filter: 'empty~holo4_003', visit: 2023050900282}\n",
      "visit...................: 2023050900282\n",
      "band....................: white\n",
      "physical filter.........: empty~holo4_003\n",
      "run.....................: u/dagoret/BPS_manyspectro_v81/20230515T140501Z\n",
      "{'day_obs': 20230509, 'seq_num': 282, 'detector': 0}\n",
      "============= (49) ============datasetType = spectraction ============================================\n",
      "fullId..................: {band: 'white', instrument: 'LATISS', detector: 0, physical_filter: 'empty~holo4_003', visit: 2023050900378}\n",
      "visit...................: 2023050900378\n",
      "band....................: white\n",
      "physical filter.........: empty~holo4_003\n",
      "run.....................: u/dagoret/BPS_manyspectro_v81/20230515T140501Z\n",
      "{'day_obs': 20230509, 'seq_num': 378, 'detector': 0}\n",
      "============= (50) ============datasetType = spectraction ============================================\n",
      "fullId..................: {band: 'white', instrument: 'LATISS', detector: 0, physical_filter: 'empty~holo4_003', visit: 2023050900517}\n",
      "visit...................: 2023050900517\n",
      "band....................: white\n",
      "physical filter.........: empty~holo4_003\n",
      "run.....................: u/dagoret/BPS_manyspectro_v81/20230515T140501Z\n",
      "{'day_obs': 20230509, 'seq_num': 517, 'detector': 0}\n",
      "============= (51) ============datasetType = spectraction ============================================\n",
      "fullId..................: {band: 'white', instrument: 'LATISS', detector: 0, physical_filter: 'empty~holo4_003', visit: 2023050900333}\n",
      "visit...................: 2023050900333\n",
      "band....................: white\n",
      "physical filter.........: empty~holo4_003\n",
      "run.....................: u/dagoret/BPS_manyspectro_v81/20230515T140501Z\n",
      "{'day_obs': 20230509, 'seq_num': 333, 'detector': 0}\n",
      "============= (52) ============datasetType = spectraction ============================================\n",
      "fullId..................: {band: 'white', instrument: 'LATISS', detector: 0, physical_filter: 'empty~holo4_003', visit: 2023050900401}\n",
      "visit...................: 2023050900401\n",
      "band....................: white\n",
      "physical filter.........: empty~holo4_003\n",
      "run.....................: u/dagoret/BPS_manyspectro_v81/20230515T140501Z\n",
      "{'day_obs': 20230509, 'seq_num': 401, 'detector': 0}\n",
      "============= (53) ============datasetType = spectraction ============================================\n",
      "fullId..................: {band: 'white', instrument: 'LATISS', detector: 0, physical_filter: 'empty~holo4_003', visit: 2023050900303}\n",
      "visit...................: 2023050900303\n",
      "band....................: white\n",
      "physical filter.........: empty~holo4_003\n",
      "run.....................: u/dagoret/BPS_manyspectro_v81/20230515T140501Z\n",
      "{'day_obs': 20230509, 'seq_num': 303, 'detector': 0}\n",
      "============= (54) ============datasetType = spectraction ============================================\n",
      "fullId..................: {band: 'white', instrument: 'LATISS', detector: 0, physical_filter: 'empty~holo4_003', visit: 2023050900388}\n",
      "visit...................: 2023050900388\n",
      "band....................: white\n",
      "physical filter.........: empty~holo4_003\n",
      "run.....................: u/dagoret/BPS_manyspectro_v81/20230515T140501Z\n",
      "{'day_obs': 20230509, 'seq_num': 388, 'detector': 0}\n",
      "============= (55) ============datasetType = spectraction ============================================\n",
      "fullId..................: {band: 'white', instrument: 'LATISS', detector: 0, physical_filter: 'empty~holo4_003', visit: 2023050900277}\n",
      "visit...................: 2023050900277\n",
      "band....................: white\n",
      "physical filter.........: empty~holo4_003\n",
      "run.....................: u/dagoret/BPS_manyspectro_v81/20230515T140501Z\n",
      "{'day_obs': 20230509, 'seq_num': 277, 'detector': 0}\n",
      "============= (56) ============datasetType = spectraction ============================================\n",
      "fullId..................: {band: 'white', instrument: 'LATISS', detector: 0, physical_filter: 'empty~holo4_003', visit: 2023050900352}\n",
      "visit...................: 2023050900352\n",
      "band....................: white\n",
      "physical filter.........: empty~holo4_003\n",
      "run.....................: u/dagoret/BPS_manyspectro_v81/20230515T140501Z\n",
      "{'day_obs': 20230509, 'seq_num': 352, 'detector': 0}\n",
      "============= (57) ============datasetType = spectraction ============================================\n",
      "fullId..................: {band: 'white', instrument: 'LATISS', detector: 0, physical_filter: 'empty~holo4_003', visit: 2023050900563}\n",
      "visit...................: 2023050900563\n",
      "band....................: white\n",
      "physical filter.........: empty~holo4_003\n",
      "run.....................: u/dagoret/BPS_manyspectro_v81/20230515T140501Z\n",
      "{'day_obs': 20230509, 'seq_num': 563, 'detector': 0}\n",
      "============= (58) ============datasetType = spectraction ============================================\n",
      "fullId..................: {band: 'white', instrument: 'LATISS', detector: 0, physical_filter: 'empty~holo4_003', visit: 2023050900416}\n",
      "visit...................: 2023050900416\n",
      "band....................: white\n",
      "physical filter.........: empty~holo4_003\n",
      "run.....................: u/dagoret/BPS_manyspectro_v81/20230515T140501Z\n",
      "{'day_obs': 20230509, 'seq_num': 416, 'detector': 0}\n",
      "============= (59) ============datasetType = spectraction ============================================\n",
      "fullId..................: {band: 'white', instrument: 'LATISS', detector: 0, physical_filter: 'empty~holo4_003', visit: 2023050900447}\n",
      "visit...................: 2023050900447\n",
      "band....................: white\n",
      "physical filter.........: empty~holo4_003\n",
      "run.....................: u/dagoret/BPS_manyspectro_v81/20230515T140501Z\n",
      "{'day_obs': 20230509, 'seq_num': 447, 'detector': 0}\n",
      "============= (60) ============datasetType = spectraction ============================================\n",
      "fullId..................: {band: 'white', instrument: 'LATISS', detector: 0, physical_filter: 'empty~holo4_003', visit: 2023050900375}\n",
      "visit...................: 2023050900375\n",
      "band....................: white\n",
      "physical filter.........: empty~holo4_003\n",
      "run.....................: u/dagoret/BPS_manyspectro_v81/20230515T140501Z\n",
      "{'day_obs': 20230509, 'seq_num': 375, 'detector': 0}\n",
      "============= (61) ============datasetType = spectraction ============================================\n",
      "fullId..................: {band: 'white', instrument: 'LATISS', detector: 0, physical_filter: 'empty~holo4_003', visit: 2023050900209}\n",
      "visit...................: 2023050900209\n",
      "band....................: white\n",
      "physical filter.........: empty~holo4_003\n",
      "run.....................: u/dagoret/BPS_manyspectro_v81/20230515T140501Z\n",
      "{'day_obs': 20230509, 'seq_num': 209, 'detector': 0}\n",
      "============= (62) ============datasetType = spectraction ============================================\n",
      "fullId..................: {band: 'white', instrument: 'LATISS', detector: 0, physical_filter: 'empty~holo4_003', visit: 2023050900504}\n",
      "visit...................: 2023050900504\n",
      "band....................: white\n",
      "physical filter.........: empty~holo4_003\n",
      "run.....................: u/dagoret/BPS_manyspectro_v81/20230515T140501Z\n",
      "{'day_obs': 20230509, 'seq_num': 504, 'detector': 0}\n",
      "============= (63) ============datasetType = spectraction ============================================\n",
      "fullId..................: {band: 'white', instrument: 'LATISS', detector: 0, physical_filter: 'empty~holo4_003', visit: 2023050900273}\n",
      "visit...................: 2023050900273\n",
      "band....................: white\n",
      "physical filter.........: empty~holo4_003\n",
      "run.....................: u/dagoret/BPS_manyspectro_v81/20230515T140501Z\n",
      "{'day_obs': 20230509, 'seq_num': 273, 'detector': 0}\n",
      "============= (64) ============datasetType = spectraction ============================================\n",
      "fullId..................: {band: 'white', instrument: 'LATISS', detector: 0, physical_filter: 'empty~holo4_003', visit: 2023050900261}\n",
      "visit...................: 2023050900261\n",
      "band....................: white\n",
      "physical filter.........: empty~holo4_003\n",
      "run.....................: u/dagoret/BPS_manyspectro_v81/20230515T140501Z\n",
      "{'day_obs': 20230509, 'seq_num': 261, 'detector': 0}\n",
      "============= (65) ============datasetType = spectraction ============================================\n",
      "fullId..................: {band: 'white', instrument: 'LATISS', detector: 0, physical_filter: 'empty~holo4_003', visit: 2023050900257}\n",
      "visit...................: 2023050900257\n",
      "band....................: white\n",
      "physical filter.........: empty~holo4_003\n",
      "run.....................: u/dagoret/BPS_manyspectro_v81/20230515T140501Z\n",
      "{'day_obs': 20230509, 'seq_num': 257, 'detector': 0}\n",
      "============= (66) ============datasetType = spectraction ============================================\n",
      "fullId..................: {band: 'white', instrument: 'LATISS', detector: 0, physical_filter: 'empty~holo4_003', visit: 2023050900543}\n",
      "visit...................: 2023050900543\n",
      "band....................: white\n",
      "physical filter.........: empty~holo4_003\n",
      "run.....................: u/dagoret/BPS_manyspectro_v81/20230515T140501Z\n",
      "{'day_obs': 20230509, 'seq_num': 543, 'detector': 0}\n",
      "============= (67) ============datasetType = spectraction ============================================\n",
      "fullId..................: {band: 'white', instrument: 'LATISS', detector: 0, physical_filter: 'empty~holo4_003', visit: 2023050900357}\n",
      "visit...................: 2023050900357\n",
      "band....................: white\n",
      "physical filter.........: empty~holo4_003\n",
      "run.....................: u/dagoret/BPS_manyspectro_v81/20230515T140501Z\n",
      "{'day_obs': 20230509, 'seq_num': 357, 'detector': 0}\n",
      "============= (68) ============datasetType = spectraction ============================================\n",
      "fullId..................: {band: 'white', instrument: 'LATISS', detector: 0, physical_filter: 'empty~holo4_003', visit: 2023050900365}\n",
      "visit...................: 2023050900365\n",
      "band....................: white\n",
      "physical filter.........: empty~holo4_003\n",
      "run.....................: u/dagoret/BPS_manyspectro_v81/20230515T140501Z\n",
      "{'day_obs': 20230509, 'seq_num': 365, 'detector': 0}\n",
      "============= (69) ============datasetType = spectraction ============================================\n",
      "fullId..................: {band: 'white', instrument: 'LATISS', detector: 0, physical_filter: 'empty~holo4_003', visit: 2023050900370}\n",
      "visit...................: 2023050900370\n",
      "band....................: white\n",
      "physical filter.........: empty~holo4_003\n",
      "run.....................: u/dagoret/BPS_manyspectro_v81/20230515T140501Z\n",
      "{'day_obs': 20230509, 'seq_num': 370, 'detector': 0}\n",
      "============= (70) ============datasetType = spectraction ============================================\n",
      "fullId..................: {band: 'white', instrument: 'LATISS', detector: 0, physical_filter: 'empty~holo4_003', visit: 2023050900318}\n",
      "visit...................: 2023050900318\n",
      "band....................: white\n",
      "physical filter.........: empty~holo4_003\n",
      "run.....................: u/dagoret/BPS_manyspectro_v81/20230515T140501Z\n",
      "{'day_obs': 20230509, 'seq_num': 318, 'detector': 0}\n",
      "============= (71) ============datasetType = spectraction ============================================\n",
      "fullId..................: {band: 'white', instrument: 'LATISS', detector: 0, physical_filter: 'empty~holo4_003', visit: 2023050900430}\n",
      "visit...................: 2023050900430\n",
      "band....................: white\n",
      "physical filter.........: empty~holo4_003\n",
      "run.....................: u/dagoret/BPS_manyspectro_v81/20230515T140501Z\n",
      "{'day_obs': 20230509, 'seq_num': 430, 'detector': 0}\n",
      "============= (72) ============datasetType = spectraction ============================================\n",
      "fullId..................: {band: 'white', instrument: 'LATISS', detector: 0, physical_filter: 'empty~holo4_003', visit: 2023050900327}\n",
      "visit...................: 2023050900327\n",
      "band....................: white\n",
      "physical filter.........: empty~holo4_003\n",
      "run.....................: u/dagoret/BPS_manyspectro_v81/20230515T140501Z\n",
      "{'day_obs': 20230509, 'seq_num': 327, 'detector': 0}\n",
      "============= (73) ============datasetType = spectraction ============================================\n",
      "fullId..................: {band: 'white', instrument: 'LATISS', detector: 0, physical_filter: 'empty~holo4_003', visit: 2023050900492}\n",
      "visit...................: 2023050900492\n",
      "band....................: white\n",
      "physical filter.........: empty~holo4_003\n",
      "run.....................: u/dagoret/BPS_manyspectro_v81/20230516T121413Z\n",
      "{'day_obs': 20230509, 'seq_num': 492, 'detector': 0}\n",
      ">>>>>>  already existing key 2023050900492 Skip it !!! \n",
      "============= (74) ============datasetType = spectraction ============================================\n",
      "fullId..................: {band: 'white', instrument: 'LATISS', detector: 0, physical_filter: 'empty~holo4_003', visit: 2023050900533}\n",
      "visit...................: 2023050900533\n",
      "band....................: white\n",
      "physical filter.........: empty~holo4_003\n",
      "run.....................: u/dagoret/BPS_manyspectro_v81/20230516T121413Z\n",
      "{'day_obs': 20230509, 'seq_num': 533, 'detector': 0}\n",
      ">>>>>>  already existing key 2023050900533 Skip it !!! \n",
      "============= (75) ============datasetType = spectraction ============================================\n",
      "fullId..................: {band: 'white', instrument: 'LATISS', detector: 0, physical_filter: 'empty~holo4_003', visit: 2023050900322}\n",
      "visit...................: 2023050900322\n",
      "band....................: white\n",
      "physical filter.........: empty~holo4_003\n",
      "run.....................: u/dagoret/BPS_manyspectro_v81/20230516T121413Z\n",
      "{'day_obs': 20230509, 'seq_num': 322, 'detector': 0}\n",
      ">>>>>>  already existing key 2023050900322 Skip it !!! \n",
      "============= (76) ============datasetType = spectraction ============================================\n",
      "fullId..................: {band: 'white', instrument: 'LATISS', detector: 0, physical_filter: 'empty~holo4_003', visit: 2023050900391}\n",
      "visit...................: 2023050900391\n",
      "band....................: white\n",
      "physical filter.........: empty~holo4_003\n",
      "run.....................: u/dagoret/BPS_manyspectro_v81/20230516T121413Z\n",
      "{'day_obs': 20230509, 'seq_num': 391, 'detector': 0}\n",
      ">>>>>>  already existing key 2023050900391 Skip it !!! \n",
      "============= (77) ============datasetType = spectraction ============================================\n",
      "fullId..................: {band: 'white', instrument: 'LATISS', detector: 0, physical_filter: 'empty~holo4_003', visit: 2023050900444}\n",
      "visit...................: 2023050900444\n",
      "band....................: white\n",
      "physical filter.........: empty~holo4_003\n",
      "run.....................: u/dagoret/BPS_manyspectro_v81/20230516T121413Z\n",
      "{'day_obs': 20230509, 'seq_num': 444, 'detector': 0}\n",
      ">>>>>>  already existing key 2023050900444 Skip it !!! \n",
      "============= (78) ============datasetType = spectraction ============================================\n",
      "fullId..................: {band: 'white', instrument: 'LATISS', detector: 0, physical_filter: 'empty~holo4_003', visit: 2023050900474}\n",
      "visit...................: 2023050900474\n",
      "band....................: white\n",
      "physical filter.........: empty~holo4_003\n",
      "run.....................: u/dagoret/BPS_manyspectro_v81/20230516T121413Z\n",
      "{'day_obs': 20230509, 'seq_num': 474, 'detector': 0}\n",
      ">>>>>>  already existing key 2023050900474 Skip it !!! \n",
      "============= (79) ============datasetType = spectraction ============================================\n",
      "fullId..................: {band: 'white', instrument: 'LATISS', detector: 0, physical_filter: 'empty~holo4_003', visit: 2023050900307}\n",
      "visit...................: 2023050900307\n",
      "band....................: white\n",
      "physical filter.........: empty~holo4_003\n",
      "run.....................: u/dagoret/BPS_manyspectro_v81/20230516T121413Z\n",
      "{'day_obs': 20230509, 'seq_num': 307, 'detector': 0}\n",
      ">>>>>>  already existing key 2023050900307 Skip it !!! \n",
      "============= (80) ============datasetType = spectraction ============================================\n",
      "fullId..................: {band: 'white', instrument: 'LATISS', detector: 0, physical_filter: 'empty~holo4_003', visit: 2023050900246}\n",
      "visit...................: 2023050900246\n",
      "band....................: white\n",
      "physical filter.........: empty~holo4_003\n",
      "run.....................: u/dagoret/BPS_manyspectro_v81/20230516T121413Z\n",
      "{'day_obs': 20230509, 'seq_num': 246, 'detector': 0}\n",
      ">>>>>>  already existing key 2023050900246 Skip it !!! \n",
      "============= (81) ============datasetType = spectraction ============================================\n",
      "fullId..................: {band: 'white', instrument: 'LATISS', detector: 0, physical_filter: 'empty~holo4_003', visit: 2023050900388}\n",
      "visit...................: 2023050900388\n",
      "band....................: white\n",
      "physical filter.........: empty~holo4_003\n",
      "run.....................: u/dagoret/BPS_manyspectro_v81/20230516T121413Z\n",
      "{'day_obs': 20230509, 'seq_num': 388, 'detector': 0}\n",
      ">>>>>>  already existing key 2023050900388 Skip it !!! \n",
      "============= (82) ============datasetType = spectraction ============================================\n",
      "fullId..................: {band: 'white', instrument: 'LATISS', detector: 0, physical_filter: 'empty~holo4_003', visit: 2023050900257}\n",
      "visit...................: 2023050900257\n",
      "band....................: white\n",
      "physical filter.........: empty~holo4_003\n",
      "run.....................: u/dagoret/BPS_manyspectro_v81/20230516T121413Z\n",
      "{'day_obs': 20230509, 'seq_num': 257, 'detector': 0}\n",
      ">>>>>>  already existing key 2023050900257 Skip it !!! \n",
      "============= (83) ============datasetType = spectraction ============================================\n",
      "fullId..................: {band: 'white', instrument: 'LATISS', detector: 0, physical_filter: 'empty~holo4_003', visit: 2023050900219}\n",
      "visit...................: 2023050900219\n",
      "band....................: white\n",
      "physical filter.........: empty~holo4_003\n",
      "run.....................: u/dagoret/BPS_manyspectro_v81/20230516T121413Z\n",
      "{'day_obs': 20230509, 'seq_num': 219, 'detector': 0}\n",
      ">>>>>>  already existing key 2023050900219 Skip it !!! \n",
      "============= (84) ============datasetType = spectraction ============================================\n",
      "fullId..................: {band: 'white', instrument: 'LATISS', detector: 0, physical_filter: 'empty~holo4_003', visit: 2023050900447}\n",
      "visit...................: 2023050900447\n",
      "band....................: white\n",
      "physical filter.........: empty~holo4_003\n",
      "run.....................: u/dagoret/BPS_manyspectro_v81/20230516T121413Z\n",
      "{'day_obs': 20230509, 'seq_num': 447, 'detector': 0}\n",
      ">>>>>>  already existing key 2023050900447 Skip it !!! \n",
      "============= (85) ============datasetType = spectraction ============================================\n",
      "fullId..................: {band: 'white', instrument: 'LATISS', detector: 0, physical_filter: 'empty~holo4_003', visit: 2023050900383}\n",
      "visit...................: 2023050900383\n",
      "band....................: white\n",
      "physical filter.........: empty~holo4_003\n",
      "run.....................: u/dagoret/BPS_manyspectro_v81/20230516T121413Z\n",
      "{'day_obs': 20230509, 'seq_num': 383, 'detector': 0}\n",
      ">>>>>>  already existing key 2023050900383 Skip it !!! \n",
      "============= (86) ============datasetType = spectraction ============================================\n",
      "fullId..................: {band: 'white', instrument: 'LATISS', detector: 0, physical_filter: 'empty~holo4_003', visit: 2023050900292}\n",
      "visit...................: 2023050900292\n",
      "band....................: white\n",
      "physical filter.........: empty~holo4_003\n",
      "run.....................: u/dagoret/BPS_manyspectro_v81/20230516T121413Z\n",
      "{'day_obs': 20230509, 'seq_num': 292, 'detector': 0}\n",
      ">>>>>>  already existing key 2023050900292 Skip it !!! \n",
      "============= (87) ============datasetType = spectraction ============================================\n",
      "fullId..................: {band: 'white', instrument: 'LATISS', detector: 0, physical_filter: 'empty~holo4_003', visit: 2023050900551}\n",
      "visit...................: 2023050900551\n",
      "band....................: white\n",
      "physical filter.........: empty~holo4_003\n",
      "run.....................: u/dagoret/BPS_manyspectro_v81/20230516T121413Z\n",
      "{'day_obs': 20230509, 'seq_num': 551, 'detector': 0}\n",
      ">>>>>>  already existing key 2023050900551 Skip it !!! \n",
      "============= (88) ============datasetType = spectraction ============================================\n",
      "fullId..................: {band: 'white', instrument: 'LATISS', detector: 0, physical_filter: 'empty~holo4_003', visit: 2023050900342}\n",
      "visit...................: 2023050900342\n",
      "band....................: white\n",
      "physical filter.........: empty~holo4_003\n",
      "run.....................: u/dagoret/BPS_manyspectro_v81/20230516T121413Z\n",
      "{'day_obs': 20230509, 'seq_num': 342, 'detector': 0}\n",
      ">>>>>>  already existing key 2023050900342 Skip it !!! \n",
      "============= (89) ============datasetType = spectraction ============================================\n",
      "fullId..................: {band: 'white', instrument: 'LATISS', detector: 0, physical_filter: 'empty~holo4_003', visit: 2023050900348}\n",
      "visit...................: 2023050900348\n",
      "band....................: white\n",
      "physical filter.........: empty~holo4_003\n",
      "run.....................: u/dagoret/BPS_manyspectro_v81/20230516T121413Z\n",
      "{'day_obs': 20230509, 'seq_num': 348, 'detector': 0}\n",
      ">>>>>>  already existing key 2023050900348 Skip it !!! \n",
      "============= (90) ============datasetType = spectraction ============================================\n",
      "fullId..................: {band: 'white', instrument: 'LATISS', detector: 0, physical_filter: 'empty~holo4_003', visit: 2023050900251}\n",
      "visit...................: 2023050900251\n",
      "band....................: white\n",
      "physical filter.........: empty~holo4_003\n",
      "run.....................: u/dagoret/BPS_manyspectro_v81/20230516T121413Z\n",
      "{'day_obs': 20230509, 'seq_num': 251, 'detector': 0}\n",
      ">>>>>>  already existing key 2023050900251 Skip it !!! \n",
      "============= (91) ============datasetType = spectraction ============================================\n",
      "fullId..................: {band: 'white', instrument: 'LATISS', detector: 0, physical_filter: 'empty~holo4_003', visit: 2023050900375}\n",
      "visit...................: 2023050900375\n",
      "band....................: white\n",
      "physical filter.........: empty~holo4_003\n",
      "run.....................: u/dagoret/BPS_manyspectro_v81/20230516T121413Z\n",
      "{'day_obs': 20230509, 'seq_num': 375, 'detector': 0}\n",
      ">>>>>>  already existing key 2023050900375 Skip it !!! \n",
      "============= (92) ============datasetType = spectraction ============================================\n",
      "fullId..................: {band: 'white', instrument: 'LATISS', detector: 0, physical_filter: 'empty~holo4_003', visit: 2023050900536}\n",
      "visit...................: 2023050900536\n",
      "band....................: white\n",
      "physical filter.........: empty~holo4_003\n",
      "run.....................: u/dagoret/BPS_manyspectro_v81/20230516T121413Z\n",
      "{'day_obs': 20230509, 'seq_num': 536, 'detector': 0}\n",
      ">>>>>>  already existing key 2023050900536 Skip it !!! \n",
      "============= (93) ============datasetType = spectraction ============================================\n",
      "fullId..................: {band: 'white', instrument: 'LATISS', detector: 0, physical_filter: 'empty~holo4_003', visit: 2023050900416}\n",
      "visit...................: 2023050900416\n",
      "band....................: white\n",
      "physical filter.........: empty~holo4_003\n",
      "run.....................: u/dagoret/BPS_manyspectro_v81/20230516T121413Z\n",
      "{'day_obs': 20230509, 'seq_num': 416, 'detector': 0}\n",
      ">>>>>>  already existing key 2023050900416 Skip it !!! \n",
      "============= (94) ============datasetType = spectraction ============================================\n",
      "fullId..................: {band: 'white', instrument: 'LATISS', detector: 0, physical_filter: 'empty~holo4_003', visit: 2023050900504}\n",
      "visit...................: 2023050900504\n",
      "band....................: white\n",
      "physical filter.........: empty~holo4_003\n",
      "run.....................: u/dagoret/BPS_manyspectro_v81/20230516T121413Z\n",
      "{'day_obs': 20230509, 'seq_num': 504, 'detector': 0}\n",
      ">>>>>>  already existing key 2023050900504 Skip it !!! \n",
      "============= (95) ============datasetType = spectraction ============================================\n",
      "fullId..................: {band: 'white', instrument: 'LATISS', detector: 0, physical_filter: 'empty~holo4_003', visit: 2023050900433}\n",
      "visit...................: 2023050900433\n",
      "band....................: white\n",
      "physical filter.........: empty~holo4_003\n",
      "run.....................: u/dagoret/BPS_manyspectro_v81/20230516T121413Z\n",
      "{'day_obs': 20230509, 'seq_num': 433, 'detector': 0}\n",
      ">>>>>>  already existing key 2023050900433 Skip it !!! \n",
      "============= (96) ============datasetType = spectraction ============================================\n",
      "fullId..................: {band: 'white', instrument: 'LATISS', detector: 0, physical_filter: 'empty~holo4_003', visit: 2023050900230}\n",
      "visit...................: 2023050900230\n",
      "band....................: white\n",
      "physical filter.........: empty~holo4_003\n",
      "run.....................: u/dagoret/BPS_manyspectro_v81/20230516T121413Z\n",
      "{'day_obs': 20230509, 'seq_num': 230, 'detector': 0}\n",
      ">>>>>>  already existing key 2023050900230 Skip it !!! \n",
      "============= (97) ============datasetType = spectraction ============================================\n",
      "fullId..................: {band: 'white', instrument: 'LATISS', detector: 0, physical_filter: 'empty~holo4_003', visit: 2023050900511}\n",
      "visit...................: 2023050900511\n",
      "band....................: white\n",
      "physical filter.........: empty~holo4_003\n",
      "run.....................: u/dagoret/BPS_manyspectro_v81/20230516T121413Z\n",
      "{'day_obs': 20230509, 'seq_num': 511, 'detector': 0}\n",
      ">>>>>>  already existing key 2023050900511 Skip it !!! \n",
      "============= (98) ============datasetType = spectraction ============================================\n",
      "fullId..................: {band: 'white', instrument: 'LATISS', detector: 0, physical_filter: 'empty~holo4_003', visit: 2023050900297}\n",
      "visit...................: 2023050900297\n",
      "band....................: white\n",
      "physical filter.........: empty~holo4_003\n",
      "run.....................: u/dagoret/BPS_manyspectro_v81/20230516T121413Z\n",
      "{'day_obs': 20230509, 'seq_num': 297, 'detector': 0}\n",
      ">>>>>>  already existing key 2023050900297 Skip it !!! \n",
      "============= (99) ============datasetType = spectraction ============================================\n",
      "fullId..................: {band: 'white', instrument: 'LATISS', detector: 0, physical_filter: 'empty~holo4_003', visit: 2023050900396}\n",
      "visit...................: 2023050900396\n",
      "band....................: white\n",
      "physical filter.........: empty~holo4_003\n",
      "run.....................: u/dagoret/BPS_manyspectro_v81/20230516T121413Z\n",
      "{'day_obs': 20230509, 'seq_num': 396, 'detector': 0}\n",
      ">>>>>>  already existing key 2023050900396 Skip it !!! \n",
      "============= (100) ============datasetType = spectraction ============================================\n",
      "fullId..................: {band: 'white', instrument: 'LATISS', detector: 0, physical_filter: 'empty~holo4_003', visit: 2023050900261}\n",
      "visit...................: 2023050900261\n",
      "band....................: white\n",
      "physical filter.........: empty~holo4_003\n",
      "run.....................: u/dagoret/BPS_manyspectro_v81/20230516T121413Z\n",
      "{'day_obs': 20230509, 'seq_num': 261, 'detector': 0}\n",
      ">>>>>>  already existing key 2023050900261 Skip it !!! \n",
      "============= (101) ============datasetType = spectraction ============================================\n",
      "fullId..................: {band: 'white', instrument: 'LATISS', detector: 0, physical_filter: 'empty~holo4_003', visit: 2023050900204}\n",
      "visit...................: 2023050900204\n",
      "band....................: white\n",
      "physical filter.........: empty~holo4_003\n",
      "run.....................: u/dagoret/BPS_manyspectro_v81/20230516T121413Z\n",
      "{'day_obs': 20230509, 'seq_num': 204, 'detector': 0}\n",
      ">>>>>>  already existing key 2023050900204 Skip it !!! \n",
      "============= (102) ============datasetType = spectraction ============================================\n",
      "fullId..................: {band: 'white', instrument: 'LATISS', detector: 0, physical_filter: 'empty~holo4_003', visit: 2023050900199}\n",
      "visit...................: 2023050900199\n",
      "band....................: white\n",
      "physical filter.........: empty~holo4_003\n",
      "run.....................: u/dagoret/BPS_manyspectro_v81/20230516T121413Z\n",
      "{'day_obs': 20230509, 'seq_num': 199, 'detector': 0}\n",
      ">>>>>>  already existing key 2023050900199 Skip it !!! \n",
      "============= (103) ============datasetType = spectraction ============================================\n",
      "fullId..................: {band: 'white', instrument: 'LATISS', detector: 0, physical_filter: 'empty~holo4_003', visit: 2023050900273}\n",
      "visit...................: 2023050900273\n",
      "band....................: white\n",
      "physical filter.........: empty~holo4_003\n",
      "run.....................: u/dagoret/BPS_manyspectro_v81/20230516T121413Z\n",
      "{'day_obs': 20230509, 'seq_num': 273, 'detector': 0}\n",
      ">>>>>>  already existing key 2023050900273 Skip it !!! \n",
      "============= (104) ============datasetType = spectraction ============================================\n",
      "fullId..................: {band: 'white', instrument: 'LATISS', detector: 0, physical_filter: 'empty~holo4_003', visit: 2023050900288}\n",
      "visit...................: 2023050900288\n",
      "band....................: white\n",
      "physical filter.........: empty~holo4_003\n",
      "run.....................: u/dagoret/BPS_manyspectro_v81/20230516T121413Z\n",
      "{'day_obs': 20230509, 'seq_num': 288, 'detector': 0}\n",
      ">>>>>>  already existing key 2023050900288 Skip it !!! \n",
      "============= (105) ============datasetType = spectraction ============================================\n",
      "fullId..................: {band: 'white', instrument: 'LATISS', detector: 0, physical_filter: 'empty~holo4_003', visit: 2023050900499}\n",
      "visit...................: 2023050900499\n",
      "band....................: white\n",
      "physical filter.........: empty~holo4_003\n",
      "run.....................: u/dagoret/BPS_manyspectro_v81/20230516T121413Z\n",
      "{'day_obs': 20230509, 'seq_num': 499, 'detector': 0}\n",
      ">>>>>>  already existing key 2023050900499 Skip it !!! \n",
      "============= (106) ============datasetType = spectraction ============================================\n",
      "fullId..................: {band: 'white', instrument: 'LATISS', detector: 0, physical_filter: 'empty~holo4_003', visit: 2023050900357}\n",
      "visit...................: 2023050900357\n",
      "band....................: white\n",
      "physical filter.........: empty~holo4_003\n",
      "run.....................: u/dagoret/BPS_manyspectro_v81/20230516T121413Z\n",
      "{'day_obs': 20230509, 'seq_num': 357, 'detector': 0}\n",
      ">>>>>>  already existing key 2023050900357 Skip it !!! \n",
      "============= (107) ============datasetType = spectraction ============================================\n",
      "fullId..................: {band: 'white', instrument: 'LATISS', detector: 0, physical_filter: 'empty~holo4_003', visit: 2023050900266}\n",
      "visit...................: 2023050900266\n",
      "band....................: white\n",
      "physical filter.........: empty~holo4_003\n",
      "run.....................: u/dagoret/BPS_manyspectro_v81/20230516T121413Z\n",
      "{'day_obs': 20230509, 'seq_num': 266, 'detector': 0}\n",
      ">>>>>>  already existing key 2023050900266 Skip it !!! \n",
      "============= (108) ============datasetType = spectraction ============================================\n",
      "fullId..................: {band: 'white', instrument: 'LATISS', detector: 0, physical_filter: 'empty~holo4_003', visit: 2023050900378}\n",
      "visit...................: 2023050900378\n",
      "band....................: white\n",
      "physical filter.........: empty~holo4_003\n",
      "run.....................: u/dagoret/BPS_manyspectro_v81/20230516T121413Z\n",
      "{'day_obs': 20230509, 'seq_num': 378, 'detector': 0}\n",
      ">>>>>>  already existing key 2023050900378 Skip it !!! \n",
      "============= (109) ============datasetType = spectraction ============================================\n",
      "fullId..................: {band: 'white', instrument: 'LATISS', detector: 0, physical_filter: 'empty~holo4_003', visit: 2023050900327}\n",
      "visit...................: 2023050900327\n",
      "band....................: white\n",
      "physical filter.........: empty~holo4_003\n",
      "run.....................: u/dagoret/BPS_manyspectro_v81/20230516T121413Z\n",
      "{'day_obs': 20230509, 'seq_num': 327, 'detector': 0}\n",
      ">>>>>>  already existing key 2023050900327 Skip it !!! \n",
      "============= (110) ============datasetType = spectraction ============================================\n",
      "fullId..................: {band: 'white', instrument: 'LATISS', detector: 0, physical_filter: 'empty~holo4_003', visit: 2023050900242}\n",
      "visit...................: 2023050900242\n",
      "band....................: white\n",
      "physical filter.........: empty~holo4_003\n",
      "run.....................: u/dagoret/BPS_manyspectro_v81/20230516T121413Z\n",
      "{'day_obs': 20230509, 'seq_num': 242, 'detector': 0}\n",
      ">>>>>>  already existing key 2023050900242 Skip it !!! \n",
      "============= (111) ============datasetType = spectraction ============================================\n",
      "fullId..................: {band: 'white', instrument: 'LATISS', detector: 0, physical_filter: 'empty~holo4_003', visit: 2023050900548}\n",
      "visit...................: 2023050900548\n",
      "band....................: white\n",
      "physical filter.........: empty~holo4_003\n",
      "run.....................: u/dagoret/BPS_manyspectro_v81/20230516T121413Z\n",
      "{'day_obs': 20230509, 'seq_num': 548, 'detector': 0}\n",
      ">>>>>>  already existing key 2023050900548 Skip it !!! \n",
      "============= (112) ============datasetType = spectraction ============================================\n",
      "fullId..................: {band: 'white', instrument: 'LATISS', detector: 0, physical_filter: 'empty~holo4_003', visit: 2023050900362}\n",
      "visit...................: 2023050900362\n",
      "band....................: white\n",
      "physical filter.........: empty~holo4_003\n",
      "run.....................: u/dagoret/BPS_manyspectro_v81/20230516T121413Z\n",
      "{'day_obs': 20230509, 'seq_num': 362, 'detector': 0}\n",
      ">>>>>>  already existing key 2023050900362 Skip it !!! \n",
      "============= (113) ============datasetType = spectraction ============================================\n",
      "fullId..................: {band: 'white', instrument: 'LATISS', detector: 0, physical_filter: 'empty~holo4_003', visit: 2023050900487}\n",
      "visit...................: 2023050900487\n",
      "band....................: white\n",
      "physical filter.........: empty~holo4_003\n",
      "run.....................: u/dagoret/BPS_manyspectro_v81/20230516T121413Z\n",
      "{'day_obs': 20230509, 'seq_num': 487, 'detector': 0}\n",
      ">>>>>>  already existing key 2023050900487 Skip it !!! \n",
      "============= (114) ============datasetType = spectraction ============================================\n",
      "fullId..................: {band: 'white', instrument: 'LATISS', detector: 0, physical_filter: 'empty~holo4_003', visit: 2023050900235}\n",
      "visit...................: 2023050900235\n",
      "band....................: white\n",
      "physical filter.........: empty~holo4_003\n",
      "run.....................: u/dagoret/BPS_manyspectro_v81/20230516T121413Z\n",
      "{'day_obs': 20230509, 'seq_num': 235, 'detector': 0}\n",
      ">>>>>>  already existing key 2023050900235 Skip it !!! \n",
      "============= (115) ============datasetType = spectraction ============================================\n",
      "fullId..................: {band: 'white', instrument: 'LATISS', detector: 0, physical_filter: 'empty~holo4_003', visit: 2023050900520}\n",
      "visit...................: 2023050900520\n",
      "band....................: white\n",
      "physical filter.........: empty~holo4_003\n",
      "run.....................: u/dagoret/BPS_manyspectro_v81/20230516T121413Z\n",
      "{'day_obs': 20230509, 'seq_num': 520, 'detector': 0}\n",
      ">>>>>>  already existing key 2023050900520 Skip it !!! \n",
      "============= (116) ============datasetType = spectraction ============================================\n",
      "fullId..................: {band: 'white', instrument: 'LATISS', detector: 0, physical_filter: 'empty~holo4_003', visit: 2023050900469}\n",
      "visit...................: 2023050900469\n",
      "band....................: white\n",
      "physical filter.........: empty~holo4_003\n",
      "run.....................: u/dagoret/BPS_manyspectro_v81/20230516T121413Z\n",
      "{'day_obs': 20230509, 'seq_num': 469, 'detector': 0}\n",
      ">>>>>>  already existing key 2023050900469 Skip it !!! \n",
      "============= (117) ============datasetType = spectraction ============================================\n",
      "fullId..................: {band: 'white', instrument: 'LATISS', detector: 0, physical_filter: 'empty~holo4_003', visit: 2023050900507}\n",
      "visit...................: 2023050900507\n",
      "band....................: white\n",
      "physical filter.........: empty~holo4_003\n",
      "run.....................: u/dagoret/BPS_manyspectro_v81/20230516T121413Z\n",
      "{'day_obs': 20230509, 'seq_num': 507, 'detector': 0}\n",
      ">>>>>>  already existing key 2023050900507 Skip it !!! \n",
      "============= (118) ============datasetType = spectraction ============================================\n",
      "fullId..................: {band: 'white', instrument: 'LATISS', detector: 0, physical_filter: 'empty~holo4_003', visit: 2023050900460}\n",
      "visit...................: 2023050900460\n",
      "band....................: white\n",
      "physical filter.........: empty~holo4_003\n",
      "run.....................: u/dagoret/BPS_manyspectro_v81/20230516T121413Z\n",
      "{'day_obs': 20230509, 'seq_num': 460, 'detector': 0}\n",
      ">>>>>>  already existing key 2023050900460 Skip it !!! \n",
      "============= (119) ============datasetType = spectraction ============================================\n",
      "fullId..................: {band: 'white', instrument: 'LATISS', detector: 0, physical_filter: 'empty~holo4_003', visit: 2023050900426}\n",
      "visit...................: 2023050900426\n",
      "band....................: white\n",
      "physical filter.........: empty~holo4_003\n",
      "run.....................: u/dagoret/BPS_manyspectro_v81/20230516T121413Z\n",
      "{'day_obs': 20230509, 'seq_num': 426, 'detector': 0}\n",
      ">>>>>>  already existing key 2023050900426 Skip it !!! \n",
      "============= (120) ============datasetType = spectraction ============================================\n",
      "fullId..................: {band: 'white', instrument: 'LATISS', detector: 0, physical_filter: 'empty~holo4_003', visit: 2023050900563}\n",
      "visit...................: 2023050900563\n",
      "band....................: white\n",
      "physical filter.........: empty~holo4_003\n",
      "run.....................: u/dagoret/BPS_manyspectro_v81/20230516T121413Z\n",
      "{'day_obs': 20230509, 'seq_num': 563, 'detector': 0}\n",
      ">>>>>>  already existing key 2023050900563 Skip it !!! \n",
      "============= (121) ============datasetType = spectraction ============================================\n",
      "fullId..................: {band: 'white', instrument: 'LATISS', detector: 0, physical_filter: 'empty~holo4_003', visit: 2023050900528}\n",
      "visit...................: 2023050900528\n",
      "band....................: white\n",
      "physical filter.........: empty~holo4_003\n",
      "run.....................: u/dagoret/BPS_manyspectro_v81/20230516T121413Z\n",
      "{'day_obs': 20230509, 'seq_num': 528, 'detector': 0}\n",
      ">>>>>>  already existing key 2023050900528 Skip it !!! \n",
      "============= (122) ============datasetType = spectraction ============================================\n",
      "fullId..................: {band: 'white', instrument: 'LATISS', detector: 0, physical_filter: 'empty~holo4_003', visit: 2023050900282}\n",
      "visit...................: 2023050900282\n",
      "band....................: white\n",
      "physical filter.........: empty~holo4_003\n",
      "run.....................: u/dagoret/BPS_manyspectro_v81/20230516T121413Z\n",
      "{'day_obs': 20230509, 'seq_num': 282, 'detector': 0}\n",
      ">>>>>>  already existing key 2023050900282 Skip it !!! \n",
      "============= (123) ============datasetType = spectraction ============================================\n",
      "fullId..................: {band: 'white', instrument: 'LATISS', detector: 0, physical_filter: 'empty~holo4_003', visit: 2023050900209}\n",
      "visit...................: 2023050900209\n",
      "band....................: white\n",
      "physical filter.........: empty~holo4_003\n",
      "run.....................: u/dagoret/BPS_manyspectro_v81/20230516T121413Z\n",
      "{'day_obs': 20230509, 'seq_num': 209, 'detector': 0}\n",
      ">>>>>>  already existing key 2023050900209 Skip it !!! \n",
      "============= (124) ============datasetType = spectraction ============================================\n",
      "fullId..................: {band: 'white', instrument: 'LATISS', detector: 0, physical_filter: 'empty~holo4_003', visit: 2023050900303}\n",
      "visit...................: 2023050900303\n",
      "band....................: white\n",
      "physical filter.........: empty~holo4_003\n",
      "run.....................: u/dagoret/BPS_manyspectro_v81/20230516T121413Z\n",
      "{'day_obs': 20230509, 'seq_num': 303, 'detector': 0}\n",
      ">>>>>>  already existing key 2023050900303 Skip it !!! \n",
      "============= (125) ============datasetType = spectraction ============================================\n",
      "fullId..................: {band: 'white', instrument: 'LATISS', detector: 0, physical_filter: 'empty~holo4_003', visit: 2023050900543}\n",
      "visit...................: 2023050900543\n",
      "band....................: white\n",
      "physical filter.........: empty~holo4_003\n",
      "run.....................: u/dagoret/BPS_manyspectro_v81/20230516T121413Z\n",
      "{'day_obs': 20230509, 'seq_num': 543, 'detector': 0}\n",
      ">>>>>>  already existing key 2023050900543 Skip it !!! \n",
      "============= (126) ============datasetType = spectraction ============================================\n",
      "fullId..................: {band: 'white', instrument: 'LATISS', detector: 0, physical_filter: 'empty~holo4_003', visit: 2023050900401}\n",
      "visit...................: 2023050900401\n",
      "band....................: white\n",
      "physical filter.........: empty~holo4_003\n",
      "run.....................: u/dagoret/BPS_manyspectro_v81/20230516T121413Z\n",
      "{'day_obs': 20230509, 'seq_num': 401, 'detector': 0}\n",
      ">>>>>>  already existing key 2023050900401 Skip it !!! \n",
      "============= (127) ============datasetType = spectraction ============================================\n",
      "fullId..................: {band: 'white', instrument: 'LATISS', detector: 0, physical_filter: 'empty~holo4_003', visit: 2023050900312}\n",
      "visit...................: 2023050900312\n",
      "band....................: white\n",
      "physical filter.........: empty~holo4_003\n",
      "run.....................: u/dagoret/BPS_manyspectro_v81/20230516T121413Z\n",
      "{'day_obs': 20230509, 'seq_num': 312, 'detector': 0}\n",
      ">>>>>>  already existing key 2023050900312 Skip it !!! \n",
      "============= (128) ============datasetType = spectraction ============================================\n",
      "fullId..................: {band: 'white', instrument: 'LATISS', detector: 0, physical_filter: 'empty~holo4_003', visit: 2023050900337}\n",
      "visit...................: 2023050900337\n",
      "band....................: white\n",
      "physical filter.........: empty~holo4_003\n",
      "run.....................: u/dagoret/BPS_manyspectro_v81/20230516T121413Z\n",
      "{'day_obs': 20230509, 'seq_num': 337, 'detector': 0}\n",
      ">>>>>>  already existing key 2023050900337 Skip it !!! \n",
      "============= (129) ============datasetType = spectraction ============================================\n",
      "fullId..................: {band: 'white', instrument: 'LATISS', detector: 0, physical_filter: 'empty~holo4_003', visit: 2023050900352}\n",
      "visit...................: 2023050900352\n",
      "band....................: white\n",
      "physical filter.........: empty~holo4_003\n",
      "run.....................: u/dagoret/BPS_manyspectro_v81/20230516T121413Z\n",
      "{'day_obs': 20230509, 'seq_num': 352, 'detector': 0}\n",
      ">>>>>>  already existing key 2023050900352 Skip it !!! \n",
      "============= (130) ============datasetType = spectraction ============================================\n",
      "fullId..................: {band: 'white', instrument: 'LATISS', detector: 0, physical_filter: 'empty~holo4_003', visit: 2023050900333}\n",
      "visit...................: 2023050900333\n",
      "band....................: white\n",
      "physical filter.........: empty~holo4_003\n",
      "run.....................: u/dagoret/BPS_manyspectro_v81/20230516T121413Z\n",
      "{'day_obs': 20230509, 'seq_num': 333, 'detector': 0}\n",
      ">>>>>>  already existing key 2023050900333 Skip it !!! \n",
      "============= (131) ============datasetType = spectraction ============================================\n",
      "fullId..................: {band: 'white', instrument: 'LATISS', detector: 0, physical_filter: 'empty~holo4_003', visit: 2023050900318}\n",
      "visit...................: 2023050900318\n",
      "band....................: white\n",
      "physical filter.........: empty~holo4_003\n",
      "run.....................: u/dagoret/BPS_manyspectro_v81/20230516T121413Z\n",
      "{'day_obs': 20230509, 'seq_num': 318, 'detector': 0}\n",
      ">>>>>>  already existing key 2023050900318 Skip it !!! \n",
      "============= (132) ============datasetType = spectraction ============================================\n",
      "fullId..................: {band: 'white', instrument: 'LATISS', detector: 0, physical_filter: 'empty~holo4_003', visit: 2023050900495}\n",
      "visit...................: 2023050900495\n",
      "band....................: white\n",
      "physical filter.........: empty~holo4_003\n",
      "run.....................: u/dagoret/BPS_manyspectro_v81/20230516T121413Z\n",
      "{'day_obs': 20230509, 'seq_num': 495, 'detector': 0}\n",
      ">>>>>>  already existing key 2023050900495 Skip it !!! \n",
      "============= (133) ============datasetType = spectraction ============================================\n",
      "fullId..................: {band: 'white', instrument: 'LATISS', detector: 0, physical_filter: 'empty~holo4_003', visit: 2023050900370}\n",
      "visit...................: 2023050900370\n",
      "band....................: white\n",
      "physical filter.........: empty~holo4_003\n",
      "run.....................: u/dagoret/BPS_manyspectro_v81/20230516T121413Z\n",
      "{'day_obs': 20230509, 'seq_num': 370, 'detector': 0}\n",
      ">>>>>>  already existing key 2023050900370 Skip it !!! \n",
      "============= (134) ============datasetType = spectraction ============================================\n",
      "fullId..................: {band: 'white', instrument: 'LATISS', detector: 0, physical_filter: 'empty~holo4_003', visit: 2023050900404}\n",
      "visit...................: 2023050900404\n",
      "band....................: white\n",
      "physical filter.........: empty~holo4_003\n",
      "run.....................: u/dagoret/BPS_manyspectro_v81/20230516T121413Z\n",
      "{'day_obs': 20230509, 'seq_num': 404, 'detector': 0}\n",
      ">>>>>>  already existing key 2023050900404 Skip it !!! \n",
      "============= (135) ============datasetType = spectraction ============================================\n",
      "fullId..................: {band: 'white', instrument: 'LATISS', detector: 0, physical_filter: 'empty~holo4_003', visit: 2023050900568}\n",
      "visit...................: 2023050900568\n",
      "band....................: white\n",
      "physical filter.........: empty~holo4_003\n",
      "run.....................: u/dagoret/BPS_manyspectro_v81/20230516T121413Z\n",
      "{'day_obs': 20230509, 'seq_num': 568, 'detector': 0}\n",
      ">>>>>>  already existing key 2023050900568 Skip it !!! \n",
      "============= (136) ============datasetType = spectraction ============================================\n",
      "fullId..................: {band: 'white', instrument: 'LATISS', detector: 0, physical_filter: 'empty~holo4_003', visit: 2023050900277}\n",
      "visit...................: 2023050900277\n",
      "band....................: white\n",
      "physical filter.........: empty~holo4_003\n",
      "run.....................: u/dagoret/BPS_manyspectro_v81/20230516T121413Z\n",
      "{'day_obs': 20230509, 'seq_num': 277, 'detector': 0}\n",
      ">>>>>>  already existing key 2023050900277 Skip it !!! \n",
      "============= (137) ============datasetType = spectraction ============================================\n",
      "fullId..................: {band: 'white', instrument: 'LATISS', detector: 0, physical_filter: 'empty~holo4_003', visit: 2023050900517}\n",
      "visit...................: 2023050900517\n",
      "band....................: white\n",
      "physical filter.........: empty~holo4_003\n",
      "run.....................: u/dagoret/BPS_manyspectro_v81/20230516T121413Z\n",
      "{'day_obs': 20230509, 'seq_num': 517, 'detector': 0}\n",
      ">>>>>>  already existing key 2023050900517 Skip it !!! \n",
      "============= (138) ============datasetType = spectraction ============================================\n",
      "fullId..................: {band: 'white', instrument: 'LATISS', detector: 0, physical_filter: 'empty~holo4_003', visit: 2023050900214}\n",
      "visit...................: 2023050900214\n",
      "band....................: white\n",
      "physical filter.........: empty~holo4_003\n",
      "run.....................: u/dagoret/BPS_manyspectro_v81/20230516T121413Z\n",
      "{'day_obs': 20230509, 'seq_num': 214, 'detector': 0}\n",
      ">>>>>>  already existing key 2023050900214 Skip it !!! \n",
      "============= (139) ============datasetType = spectraction ============================================\n",
      "fullId..................: {band: 'white', instrument: 'LATISS', detector: 0, physical_filter: 'empty~holo4_003', visit: 2023050900430}\n",
      "visit...................: 2023050900430\n",
      "band....................: white\n",
      "physical filter.........: empty~holo4_003\n",
      "run.....................: u/dagoret/BPS_manyspectro_v81/20230516T121413Z\n",
      "{'day_obs': 20230509, 'seq_num': 430, 'detector': 0}\n",
      ">>>>>>  already existing key 2023050900430 Skip it !!! \n",
      "============= (140) ============datasetType = spectraction ============================================\n",
      "fullId..................: {band: 'white', instrument: 'LATISS', detector: 0, physical_filter: 'empty~holo4_003', visit: 2023050900455}\n",
      "visit...................: 2023050900455\n",
      "band....................: white\n",
      "physical filter.........: empty~holo4_003\n",
      "run.....................: u/dagoret/BPS_manyspectro_v81/20230516T121413Z\n",
      "{'day_obs': 20230509, 'seq_num': 455, 'detector': 0}\n",
      ">>>>>>  already existing key 2023050900455 Skip it !!! \n",
      "============= (141) ============datasetType = spectraction ============================================\n",
      "fullId..................: {band: 'white', instrument: 'LATISS', detector: 0, physical_filter: 'empty~holo4_003', visit: 2023050900463}\n",
      "visit...................: 2023050900463\n",
      "band....................: white\n",
      "physical filter.........: empty~holo4_003\n",
      "run.....................: u/dagoret/BPS_manyspectro_v81/20230516T121413Z\n",
      "{'day_obs': 20230509, 'seq_num': 463, 'detector': 0}\n",
      ">>>>>>  already existing key 2023050900463 Skip it !!! \n",
      "============= (142) ============datasetType = spectraction ============================================\n",
      "fullId..................: {band: 'white', instrument: 'LATISS', detector: 0, physical_filter: 'empty~holo4_003', visit: 2023050900226}\n",
      "visit...................: 2023050900226\n",
      "band....................: white\n",
      "physical filter.........: empty~holo4_003\n",
      "run.....................: u/dagoret/BPS_manyspectro_v81/20230516T121413Z\n",
      "{'day_obs': 20230509, 'seq_num': 226, 'detector': 0}\n",
      ">>>>>>  already existing key 2023050900226 Skip it !!! \n",
      "============= (143) ============datasetType = spectraction ============================================\n",
      "fullId..................: {band: 'white', instrument: 'LATISS', detector: 0, physical_filter: 'empty~holo4_003', visit: 2023050900571}\n",
      "visit...................: 2023050900571\n",
      "band....................: white\n",
      "physical filter.........: empty~holo4_003\n",
      "run.....................: u/dagoret/BPS_manyspectro_v81/20230516T121413Z\n",
      "{'day_obs': 20230509, 'seq_num': 571, 'detector': 0}\n",
      ">>>>>>  already existing key 2023050900571 Skip it !!! \n",
      "============= (144) ============datasetType = spectraction ============================================\n",
      "fullId..................: {band: 'white', instrument: 'LATISS', detector: 0, physical_filter: 'empty~holo4_003', visit: 2023050900477}\n",
      "visit...................: 2023050900477\n",
      "band....................: white\n",
      "physical filter.........: empty~holo4_003\n",
      "run.....................: u/dagoret/BPS_manyspectro_v81/20230516T121413Z\n",
      "{'day_obs': 20230509, 'seq_num': 477, 'detector': 0}\n",
      ">>>>>>  already existing key 2023050900477 Skip it !!! \n",
      "============= (145) ============datasetType = spectraction ============================================\n",
      "fullId..................: {band: 'white', instrument: 'LATISS', detector: 0, physical_filter: 'empty~holo4_003', visit: 2023050900365}\n",
      "visit...................: 2023050900365\n",
      "band....................: white\n",
      "physical filter.........: empty~holo4_003\n",
      "run.....................: u/dagoret/BPS_manyspectro_v81/20230516T121413Z\n",
      "{'day_obs': 20230509, 'seq_num': 365, 'detector': 0}\n",
      ">>>>>>  already existing key 2023050900365 Skip it !!! \n"
     ]
    }
   ],
   "source": [
    "all_dataId = []     # full data id\n",
    "all_spec = []       # spectra\n",
    "all_exposures = []  # exposure number\n",
    "all_num = []        # sequence numbers\n",
    "all_h5group = []\n",
    "\n",
    "hf_outfile =  h5py.File(output_file_h5, 'w') \n",
    "  \n",
    "\n",
    "for i, ref in enumerate(datasetRefs):\n",
    "\n",
    "    print(f\"============= ({i}) ============datasetType = spectraction ============================================\")\n",
    "    print(\"fullId..................:\",ref.dataId.full)\n",
    "    print(\"visit...................:\",ref.dataId[\"visit\"])\n",
    "    print(\"band....................:\",ref.dataId[\"band\"])\n",
    "    print(\"physical filter.........:\",ref.dataId[\"physical_filter\"])\n",
    "    print(\"run.....................:\",ref.run)\n",
    "    \n",
    "    #through old runs\n",
    "    date_of_run = int(ref.run.split(\"/\")[-1].split(\"T\")[0])\n",
    "    if date_of_run< RUNSELECTION :\n",
    "        continue\n",
    " \n",
    "    \n",
    "    \n",
    "    the_exposure = ref.dataId[\"visit\"]\n",
    "    the_day_obs = ref.dataId[\"visit\"]//100_000\n",
    "    the_seq_num = ref.dataId[\"visit\"]- the_day_obs*100_000    \n",
    "    the_dataId = {'day_obs': the_day_obs,'seq_num':the_seq_num,'detector':0}\n",
    "    print(the_dataId)\n",
    "    \n",
    "    the_exposure_key = str(the_exposure)\n",
    "    \n",
    "    if the_exposure not in all_exposures:\n",
    "        g = hf_outfile.create_group(the_exposure_key)\n",
    "        all_h5group.append(g) \n",
    "    else:\n",
    "        print(f\">>>>>>  already existing key {the_exposure_key} Skip it !!! \")\n",
    "        the_exposure_key = the_exposure_key + \"_b\"\n",
    "        continue\n",
    "   \n",
    "    \n",
    "    # retrieve the spectrum from Butler\n",
    "    #spec       = butler.get('spectraction',the_dataId)\n",
    "    spec = butler.get('spectractorSpectrum', visit=the_exposure, detector=0, collections=my_collection, instrument='LATISS')\n",
    "    \n",
    "    # save in collection lists\n",
    "    all_dataId.append(the_dataId) \n",
    "    all_exposures.append(the_exposure)\n",
    "    all_spec.append(spec)\n",
    "    all_num.append(the_seq_num)\n",
    "    "
   ]
  },
  {
   "cell_type": "code",
   "execution_count": 21,
   "id": "165ec0ab-fef7-4346-a1cf-28f4b59e5259",
   "metadata": {
    "execution": {
     "iopub.execute_input": "2023-05-17T11:51:41.414247Z",
     "iopub.status.busy": "2023-05-17T11:51:41.414035Z",
     "iopub.status.idle": "2023-05-17T11:51:41.418107Z",
     "shell.execute_reply": "2023-05-17T11:51:41.417608Z",
     "shell.execute_reply.started": "2023-05-17T11:51:41.414232Z"
    },
    "tags": []
   },
   "outputs": [
    {
     "data": {
      "text/plain": [
       "<KeysViewHDF5 ['2023050900199', '2023050900204', '2023050900209', '2023050900214', '2023050900219', '2023050900226', '2023050900230', '2023050900235', '2023050900242', '2023050900246', '2023050900251', '2023050900257', '2023050900261', '2023050900266', '2023050900273', '2023050900277', '2023050900282', '2023050900288', '2023050900292', '2023050900297', '2023050900303', '2023050900307', '2023050900312', '2023050900318', '2023050900322', '2023050900327', '2023050900333', '2023050900337', '2023050900342', '2023050900348', '2023050900352', '2023050900357', '2023050900362', '2023050900365', '2023050900370', '2023050900375', '2023050900378', '2023050900383', '2023050900388', '2023050900391', '2023050900396', '2023050900401', '2023050900404', '2023050900416', '2023050900426', '2023050900430', '2023050900433', '2023050900444', '2023050900447', '2023050900455', '2023050900460', '2023050900463', '2023050900469', '2023050900474', '2023050900477', '2023050900487', '2023050900492', '2023050900495', '2023050900499', '2023050900504', '2023050900507', '2023050900511', '2023050900517', '2023050900520', '2023050900528', '2023050900533', '2023050900536', '2023050900543', '2023050900548', '2023050900551', '2023050900563', '2023050900568', '2023050900571']>"
      ]
     },
     "execution_count": 21,
     "metadata": {},
     "output_type": "execute_result"
    }
   ],
   "source": [
    "hf_outfile.keys()"
   ]
  },
  {
   "cell_type": "code",
   "execution_count": 22,
   "id": "b0082a68-6a17-4de8-837b-b1986d3dd093",
   "metadata": {
    "execution": {
     "iopub.execute_input": "2023-05-17T11:51:44.387748Z",
     "iopub.status.busy": "2023-05-17T11:51:44.387174Z",
     "iopub.status.idle": "2023-05-17T11:51:44.389795Z",
     "shell.execute_reply": "2023-05-17T11:51:44.389414Z",
     "shell.execute_reply.started": "2023-05-17T11:51:44.387729Z"
    },
    "tags": []
   },
   "outputs": [],
   "source": [
    "index = 0\n",
    "\n",
    "spec = all_spec[index]"
   ]
  },
  {
   "cell_type": "code",
   "execution_count": 23,
   "id": "dabeb92d-e7ea-41bd-9afe-14f4ec4ca365",
   "metadata": {
    "execution": {
     "iopub.execute_input": "2023-05-17T11:51:47.113454Z",
     "iopub.status.busy": "2023-05-17T11:51:47.113253Z",
     "iopub.status.idle": "2023-05-17T11:51:47.116062Z",
     "shell.execute_reply": "2023-05-17T11:51:47.115593Z",
     "shell.execute_reply.started": "2023-05-17T11:51:47.113440Z"
    },
    "tags": []
   },
   "outputs": [],
   "source": [
    "the_h5group = all_h5group[index] "
   ]
  },
  {
   "cell_type": "code",
   "execution_count": 24,
   "id": "3cc31921-f813-4204-8efb-5d9cba13e785",
   "metadata": {
    "execution": {
     "iopub.execute_input": "2023-05-17T11:51:49.202406Z",
     "iopub.status.busy": "2023-05-17T11:51:49.202209Z",
     "iopub.status.idle": "2023-05-17T11:51:49.205322Z",
     "shell.execute_reply": "2023-05-17T11:51:49.204895Z",
     "shell.execute_reply.started": "2023-05-17T11:51:49.202390Z"
    },
    "tags": []
   },
   "outputs": [],
   "source": [
    "d = the_h5group.create_dataset('airmass', data=spec.airmass)"
   ]
  },
  {
   "cell_type": "code",
   "execution_count": 25,
   "id": "24c8bcad-8c18-4936-b3d3-74acd63ad092",
   "metadata": {
    "execution": {
     "iopub.execute_input": "2023-05-17T11:51:51.564679Z",
     "iopub.status.busy": "2023-05-17T11:51:51.564020Z",
     "iopub.status.idle": "2023-05-17T11:51:51.567442Z",
     "shell.execute_reply": "2023-05-17T11:51:51.567050Z",
     "shell.execute_reply.started": "2023-05-17T11:51:51.564658Z"
    },
    "tags": []
   },
   "outputs": [
    {
     "data": {
      "text/plain": [
       "2.19552776909812"
      ]
     },
     "execution_count": 25,
     "metadata": {},
     "output_type": "execute_result"
    }
   ],
   "source": [
    "spec.airmass"
   ]
  },
  {
   "cell_type": "code",
   "execution_count": 26,
   "id": "a3672116-7048-4d01-9623-b84dc877d2c3",
   "metadata": {
    "execution": {
     "iopub.execute_input": "2023-05-17T11:51:52.395818Z",
     "iopub.status.busy": "2023-05-17T11:51:52.395642Z",
     "iopub.status.idle": "2023-05-17T11:51:52.398796Z",
     "shell.execute_reply": "2023-05-17T11:51:52.398376Z",
     "shell.execute_reply.started": "2023-05-17T11:51:52.395802Z"
    },
    "tags": []
   },
   "outputs": [
    {
     "data": {
      "text/plain": [
       "'2023-05-10T00:21:41.355993912Z'"
      ]
     },
     "execution_count": 26,
     "metadata": {},
     "output_type": "execute_result"
    }
   ],
   "source": [
    "spec.date_obs"
   ]
  },
  {
   "cell_type": "code",
   "execution_count": 27,
   "id": "c512a035-04b0-44b4-926a-5c5e51c0dc3b",
   "metadata": {
    "execution": {
     "iopub.execute_input": "2023-05-17T11:51:53.299079Z",
     "iopub.status.busy": "2023-05-17T11:51:53.298925Z",
     "iopub.status.idle": "2023-05-17T11:51:53.302042Z",
     "shell.execute_reply": "2023-05-17T11:51:53.301630Z",
     "shell.execute_reply.started": "2023-05-17T11:51:53.299067Z"
    },
    "tags": []
   },
   "outputs": [
    {
     "data": {
      "text/plain": [
       "(1136, 1136)"
      ]
     },
     "execution_count": 27,
     "metadata": {},
     "output_type": "execute_result"
    }
   ],
   "source": [
    "spec.cov_matrix.shape"
   ]
  },
  {
   "cell_type": "code",
   "execution_count": 28,
   "id": "fa2be0b1-4419-470e-8fcb-02eeb06d7e76",
   "metadata": {
    "execution": {
     "iopub.execute_input": "2023-05-17T11:51:56.147777Z",
     "iopub.status.busy": "2023-05-17T11:51:56.147574Z",
     "iopub.status.idle": "2023-05-17T11:51:56.151086Z",
     "shell.execute_reply": "2023-05-17T11:51:56.150689Z",
     "shell.execute_reply.started": "2023-05-17T11:51:56.147761Z"
    },
    "tags": []
   },
   "outputs": [
    {
     "data": {
      "text/plain": [
       "(1136,)"
      ]
     },
     "execution_count": 28,
     "metadata": {},
     "output_type": "execute_result"
    }
   ],
   "source": [
    "spec.lambdas.shape"
   ]
  },
  {
   "cell_type": "code",
   "execution_count": 29,
   "id": "dd649f12-094a-49d6-bbfd-0dc4074eed5e",
   "metadata": {
    "execution": {
     "iopub.execute_input": "2023-05-17T11:51:56.869901Z",
     "iopub.status.busy": "2023-05-17T11:51:56.869723Z",
     "iopub.status.idle": "2023-05-17T11:51:56.872914Z",
     "shell.execute_reply": "2023-05-17T11:51:56.872501Z",
     "shell.execute_reply.started": "2023-05-17T11:51:56.869888Z"
    },
    "tags": []
   },
   "outputs": [
    {
     "data": {
      "text/plain": [
       "(1136,)"
      ]
     },
     "execution_count": 29,
     "metadata": {},
     "output_type": "execute_result"
    }
   ],
   "source": [
    "spec.data_next_order.shape"
   ]
  },
  {
   "cell_type": "code",
   "execution_count": 30,
   "id": "4eb86272-d1e8-4c47-b82b-5aab15071e2f",
   "metadata": {
    "execution": {
     "iopub.execute_input": "2023-05-17T11:51:57.547255Z",
     "iopub.status.busy": "2023-05-17T11:51:57.547078Z",
     "iopub.status.idle": "2023-05-17T11:51:57.552946Z",
     "shell.execute_reply": "2023-05-17T11:51:57.552494Z",
     "shell.execute_reply.started": "2023-05-17T11:51:57.547239Z"
    },
    "tags": []
   },
   "outputs": [
    {
     "data": {
      "text/html": [
       "<div><i>Table length=1136</i>\n",
       "<table id=\"table140040395889472\" class=\"table-striped table-bordered table-condensed\">\n",
       "<thead><tr><th>lambdas</th><th>Dx</th><th>Dy</th><th>Dy_disp_axis</th><th>flux_sum</th><th>flux_integral</th><th>flux_err</th><th>fwhm</th><th>Dy_fwhm_sup</th><th>Dy_fwhm_inf</th><th>amplitude</th><th>x_c</th><th>y_c</th><th>gamma</th><th>alpha</th><th>saturation</th></tr></thead>\n",
       "<thead><tr><th>float64</th><th>float64</th><th>float64</th><th>float64</th><th>float64</th><th>float64</th><th>float64</th><th>float64</th><th>float64</th><th>float64</th><th>float64</th><th>float64</th><th>float64</th><th>float64</th><th>float64</th><th>float64</th></tr></thead>\n",
       "<tr><td>298.5749065899954</td><td>418.55510460767874</td><td>4.104569947784228</td><td>1.4611009880792676</td><td>19.809920270895955</td><td>1.0</td><td>8.300031766606569</td><td>6.528547632307465</td><td>-7.072285871457033</td><td>-17.142580031926492</td><td>1.0</td><td>0.04752975146800509</td><td>3.7500084104087676</td><td>6.011079430043985</td><td>2.683331979551384</td><td>22666.66666666667</td></tr>\n",
       "<tr><td>299.28004967778827</td><td>419.55510460767874</td><td>4.119667897921673</td><td>1.4645918083642326</td><td>39.98207138063528</td><td>1.0</td><td>8.27151934749028</td><td>6.521284713526693</td><td>-7.033472212698063</td><td>-17.083991429552707</td><td>1.0</td><td>1.048029893004525</td><td>3.841432838549153</td><td>6.005162787167283</td><td>2.682767857945198</td><td>22666.66666666667</td></tr>\n",
       "<tr><td>299.9852128310137</td><td>420.55510460767874</td><td>4.134737772473926</td><td>1.4680826286492024</td><td>22.46288759998688</td><td>1.0</td><td>8.305865159138115</td><td>6.516927191399709</td><td>-6.99472786981171</td><td>-17.025472143051534</td><td>1.0</td><td>2.0485253929834926</td><td>3.932283474612646</td><td>5.999252840199254</td><td>2.682203114151988</td><td>22666.66666666667</td></tr>\n",
       "<tr><td>300.69039568706137</td><td>421.55510460767874</td><td>4.149779571440973</td><td>1.4715734489341765</td><td>-4.032797326848787</td><td>1.0</td><td>8.228348456562323</td><td>6.510872832180176</td><td>-6.956046524644086</td><td>-16.96702849057683</td><td>1.0</td><td>3.0490163072220184</td><td>4.022566513597411</td><td>5.9933495891399</td><td>2.681637748171755</td><td>22666.66666666667</td></tr>\n",
       "<tr><td>301.39559788831207</td><td>422.55510460767874</td><td>4.164793294822857</td><td>1.4750642692191551</td><td>28.79377546234285</td><td>1.0</td><td>8.255688241072216</td><td>6.505941460377855</td><td>-6.917434495349075</td><td>-16.908654153974737</td><td>1.0</td><td>4.049502690683482</td><td>4.112288058873574</td><td>5.987453033989218</td><td>2.6810717600044973</td><td>22666.66666666667</td></tr>\n",
       "<tr><td>302.10081908197395</td><td>423.55510460767874</td><td>4.179778942619535</td><td>1.4785550895041384</td><td>49.11348079009959</td><td>1.0</td><td>8.28744366871425</td><td>6.499289015173613</td><td>-6.878690152462706</td><td>-16.85055076270923</td><td>1.0</td><td>5.049984597507546</td><td>4.201454125225695</td><td>5.981563174747212</td><td>2.6805051496502164</td><td>22666.66666666667</td></tr>\n",
       "<tr><td>302.80605892009913</td><td>424.55510460767874</td><td>4.194736514831021</td><td>1.482045909789126</td><td>33.06377426140995</td><td>1.0</td><td>8.282098118560407</td><td>6.493735676121311</td><td>-6.841642576582743</td><td>-16.79088923618251</td><td>1.0</td><td>6.050462081005094</td><td>4.290070638501845</td><td>5.9756800114138775</td><td>2.6799379171089113</td><td>22666.66666666667</td></tr>\n",
       "<tr><td>303.5113170593828</td><td>425.55510460767874</td><td>4.20966601145733</td><td>1.485536730074118</td><td>-4.0893571111549605</td><td>1.0</td><td>8.230506211730319</td><td>6.489098863471021</td><td>-6.803362098057843</td><td>-16.73259924404599</td><td>1.0</td><td>7.0509351936955795</td><td>4.37814343935824</td><td>5.969803543989219</td><td>2.6793700623805825</td><td>22666.66666666667</td></tr>\n",
       "<tr><td>304.2165931612881</td><td>426.55510460767874</td><td>4.224567432498446</td><td>1.4890275503591144</td><td>53.88862040596087</td><td>1.0</td><td>8.350696138416295</td><td>6.483413945974998</td><td>-6.763958579499934</td><td>-16.675570923687644</td><td>1.0</td><td>8.051403987283436</td><td>4.465678280918752</td><td>5.963933772473233</td><td>2.67880158546523</td><td>22666.66666666667</td></tr>\n",
       "<tr><td>304.92188689171064</td><td>427.55510460767874</td><td>4.239440777954357</td><td>1.4925183706441152</td><td>26.145319192816423</td><td>1.0</td><td>8.317043916278253</td><td>6.4761324706707235</td><td>-6.725678100975034</td><td>-16.61755819504155</td><td>1.0</td><td>9.051868512717817</td><td>4.552680834977139</td><td>5.958070696865921</td><td>2.6782324863628535</td><td>22666.66666666667</td></tr>\n",
       "<tr><td>...</td><td>...</td><td>...</td><td>...</td><td>...</td><td>...</td><td>...</td><td>...</td><td>...</td><td>...</td><td>...</td><td>...</td><td>...</td><td>...</td><td>...</td><td>...</td></tr>\n",
       "<tr><td>1084.254908845818</td><td>1544.5551046076787</td><td>3.322488033304083</td><td>5.391764629738536</td><td>8106.5490782900015</td><td>1.0</td><td>19.216309978205114</td><td>5.1795711844592915</td><td>8.14051852440588</td><td>-10.486320019789854</td><td>1.0</td><td>1126.115733845786</td><td>25.78522661480161</td><td>3.58996070713422</td><td>1.6540533447693848</td><td>22666.66666666667</td></tr>\n",
       "<tr><td>1084.937982527733</td><td>1545.5551046076787</td><td>3.3059728745184316</td><td>5.3952554500243926</td><td>8127.40899368325</td><td>1.0</td><td>19.21071441994589</td><td>5.185562973723677</td><td>8.122585966495672</td><td>-10.527084545862406</td><td>1.0</td><td>1127.115733193335</td><td>25.779642829544414</td><td>3.5915836574241973</td><td>1.6527886405743692</td><td>22666.66666666667</td></tr>\n",
       "<tr><td>1085.6210214112305</td><td>1546.5551046076787</td><td>3.2894296401476026</td><td>5.398746270310248</td><td>8074.155262393543</td><td>1.0</td><td>19.170953537334615</td><td>5.191615199696386</td><td>8.104653408585463</td><td>-10.567987703680185</td><td>1.0</td><td>1128.1157325345553</td><td>25.77402882593306</td><td>3.5932133036228477</td><td>1.6515233141923298</td><td>22666.66666666667</td></tr>\n",
       "<tr><td>1086.3040254762905</td><td>1547.5551046076787</td><td>3.2728583301915677</td><td>5.4022370905961035</td><td>8106.04915048989</td><td>1.0</td><td>19.198372365861427</td><td>5.195139961221031</td><td>8.08662929849865</td><td>-10.608937941066587</td><td>1.0</td><td>1129.115731869471</td><td>25.768384609233237</td><td>3.5948496457301724</td><td>1.6502573656232662</td><td>22666.66666666667</td></tr>\n",
       "<tr><td>1086.9869947028556</td><td>1548.5551046076787</td><td>3.256258944650355</td><td>5.40572791088196</td><td>8080.58763643981</td><td>1.0</td><td>19.168040432092027</td><td>5.201313027377779</td><td>8.06853805014899</td><td>-10.64995967193534</td><td>1.0</td><td>1130.1157311981128</td><td>25.762710185529862</td><td>3.5964926837461704</td><td>1.6489907948671794</td><td>22666.66666666667</td></tr>\n",
       "<tr><td>1087.6699290709291</td><td>1549.5551046076787</td><td>3.239631483523951</td><td>5.409218731167817</td><td>8071.732407941092</td><td>1.0</td><td>19.156349839243983</td><td>5.204958606853339</td><td>8.050446801799326</td><td>-10.691120034549343</td><td>1.0</td><td>1131.115730520501</td><td>25.757005559854584</td><td>3.5981424176708425</td><td>1.6477236019240684</td><td>22666.66666666667</td></tr>\n",
       "<tr><td>1088.3528285604598</td><td>1550.5551046076787</td><td>3.2229759468123547</td><td>5.412709551453673</td><td>8020.151700857367</td><td>1.0</td><td>19.098908299837486</td><td>5.211252468493825</td><td>8.031964930829492</td><td>-10.732028406288347</td><td>1.0</td><td>1132.11572983667</td><td>25.75127073840934</td><td>3.599798847504188</td><td>1.6464557867939338</td><td>22666.66666666667</td></tr>\n",
       "<tr><td>1089.035693151461</td><td>1551.5551046076787</td><td>3.206292334515581</td><td>5.41620037173953</td><td>8064.705418331755</td><td>1.0</td><td>19.14257197002246</td><td>5.215018820985904</td><td>8.01387368247983</td><td>-10.77346603239278</td><td>1.0</td><td>1133.115729146639</td><td>25.7455057262258</td><td>3.6014619732462076</td><td>1.645187349476775</td><td>22666.66666666667</td></tr>\n",
       "<tr><td>1089.7185228238864</td><td>1552.5551046076787</td><td>3.189580646633601</td><td>5.419691192025386</td><td>8054.094754147836</td><td>1.0</td><td>19.11128856101674</td><td>5.221433432941694</td><td>7.994122287994425</td><td>-10.813382144106665</td><td>1.0</td><td>1134.1157284504443</td><td>25.739710529622904</td><td>3.603131794896901</td><td>1.6439182899725928</td><td>22666.66666666667</td></tr>\n",
       "<tr><td>1090.4013175577911</td><td>1553.5551046076787</td><td>3.172840883166444</td><td>5.423182012311242</td><td>7994.29746525974</td><td>1.0</td><td>19.04224985480015</td><td>5.225320514218083</td><td>7.976031039644763</td><td>-10.855097033701517</td><td>1.0</td><td>1135.115727748099</td><td>25.73388515304721</td><td>3.604808312456268</td><td>1.6426486082813865</td><td>22666.66666666667</td></tr>\n",
       "</table></div>"
      ],
      "text/plain": [
       "<Table length=1136>\n",
       "     lambdas               Dx         ...       alpha            saturation   \n",
       "     float64            float64       ...      float64            float64     \n",
       "------------------ ------------------ ... ------------------ -----------------\n",
       " 298.5749065899954 418.55510460767874 ...  2.683331979551384 22666.66666666667\n",
       "299.28004967778827 419.55510460767874 ...  2.682767857945198 22666.66666666667\n",
       " 299.9852128310137 420.55510460767874 ...  2.682203114151988 22666.66666666667\n",
       "300.69039568706137 421.55510460767874 ...  2.681637748171755 22666.66666666667\n",
       "301.39559788831207 422.55510460767874 ... 2.6810717600044973 22666.66666666667\n",
       "302.10081908197395 423.55510460767874 ... 2.6805051496502164 22666.66666666667\n",
       "302.80605892009913 424.55510460767874 ... 2.6799379171089113 22666.66666666667\n",
       " 303.5113170593828 425.55510460767874 ... 2.6793700623805825 22666.66666666667\n",
       " 304.2165931612881 426.55510460767874 ...   2.67880158546523 22666.66666666667\n",
       "304.92188689171064 427.55510460767874 ... 2.6782324863628535 22666.66666666667\n",
       "               ...                ... ...                ...               ...\n",
       " 1084.254908845818 1544.5551046076787 ... 1.6540533447693848 22666.66666666667\n",
       " 1084.937982527733 1545.5551046076787 ... 1.6527886405743692 22666.66666666667\n",
       "1085.6210214112305 1546.5551046076787 ... 1.6515233141923298 22666.66666666667\n",
       "1086.3040254762905 1547.5551046076787 ... 1.6502573656232662 22666.66666666667\n",
       "1086.9869947028556 1548.5551046076787 ... 1.6489907948671794 22666.66666666667\n",
       "1087.6699290709291 1549.5551046076787 ... 1.6477236019240684 22666.66666666667\n",
       "1088.3528285604598 1550.5551046076787 ... 1.6464557867939338 22666.66666666667\n",
       " 1089.035693151461 1551.5551046076787 ...  1.645187349476775 22666.66666666667\n",
       "1089.7185228238864 1552.5551046076787 ... 1.6439182899725928 22666.66666666667\n",
       "1090.4013175577911 1553.5551046076787 ... 1.6426486082813865 22666.66666666667"
      ]
     },
     "execution_count": 30,
     "metadata": {},
     "output_type": "execute_result"
    }
   ],
   "source": [
    "#spec.chromatic_psf.load_table()\n",
    "spec.chromatic_psf.table"
   ]
  },
  {
   "cell_type": "code",
   "execution_count": 31,
   "id": "a8e131a3-1693-4778-a078-c19775948182",
   "metadata": {
    "execution": {
     "iopub.execute_input": "2023-05-17T11:52:00.152535Z",
     "iopub.status.busy": "2023-05-17T11:52:00.152320Z",
     "iopub.status.idle": "2023-05-17T11:52:00.155843Z",
     "shell.execute_reply": "2023-05-17T11:52:00.155447Z",
     "shell.execute_reply.started": "2023-05-17T11:52:00.152519Z"
    },
    "tags": []
   },
   "outputs": [
    {
     "data": {
      "text/plain": [
       "22666.66666666667"
      ]
     },
     "execution_count": 31,
     "metadata": {},
     "output_type": "execute_result"
    }
   ],
   "source": [
    "spec.spectrogram_saturation"
   ]
  },
  {
   "cell_type": "code",
   "execution_count": 32,
   "id": "a87120fc-75b7-4963-88b8-e498ec001488",
   "metadata": {
    "execution": {
     "iopub.execute_input": "2023-05-17T11:52:01.317928Z",
     "iopub.status.busy": "2023-05-17T11:52:01.317772Z",
     "iopub.status.idle": "2023-05-17T11:52:01.643957Z",
     "shell.execute_reply": "2023-05-17T11:52:01.643361Z",
     "shell.execute_reply.started": "2023-05-17T11:52:01.317915Z"
    },
    "tags": []
   },
   "outputs": [],
   "source": [
    "spec.chromatic_psf.plot_summary()"
   ]
  },
  {
   "cell_type": "code",
   "execution_count": 33,
   "id": "cffbfd6f-7e3f-4e19-ba9d-c92b659fc2d9",
   "metadata": {
    "execution": {
     "iopub.execute_input": "2023-05-17T11:52:02.421086Z",
     "iopub.status.busy": "2023-05-17T11:52:02.420919Z",
     "iopub.status.idle": "2023-05-17T11:52:02.425037Z",
     "shell.execute_reply": "2023-05-17T11:52:02.424601Z",
     "shell.execute_reply.started": "2023-05-17T11:52:02.421072Z"
    },
    "tags": []
   },
   "outputs": [],
   "source": [
    "def DumpSpectrum(spec):\n",
    "    print(\"--------------------------------------------\")\n",
    "    print(\"spec.target.label\\t\",spec.target.label)\n",
    "    print(\"spec.filter_label\\t\",spec.filter_label)\n",
    "    print(\"spec.airmass\\t\",spec.airmass)\n",
    "    print(\"spec.date_obs\\t\",spec.date_obs)\n",
    "    print(\"spec.temperature\\t\",spec.temperature)\n",
    "    print(\"spec.pressure\\t\",spec.pressure)\n",
    "    print(\"spec.humidity\\t\",spec.humidity)    \n",
    "    #print(\"spec.ra\\t\",spec.ra)\n",
    "    print(\"spec.dec\\t\",spec.dec)\n",
    "    print(\"spec.hour_angle\\t\",spec.hour_angle)\n",
    "    print(\"spec.parallactic_angle\\t\",spec.parallactic_angle)\n",
    "    print(\"spec.camera_angle\\t\", spec.camera_angle)\n",
    "    print(\"--------------------------------------------\")\n",
    "    print(\"spec.order\\t\",spec.order)\n",
    "    print(\"spec.lambdas\\t\",spec.lambdas)\n",
    "    print(\"spec.data\\t\",spec.data)\n",
    "    print(\"spec.err\\t\",spec.err)\n",
    "    print(\"spec.covmatrix\\t\",spec.cov_matrix)\n",
    "    print(\"--------------------------------------------\")\n",
    "    print(\"spec.data_next_order\\t\",spec.data_next_order)\n",
    "    print(\"spec.err_next_order\\t\",spec.err_next_order)"
   ]
  },
  {
   "cell_type": "code",
   "execution_count": 34,
   "id": "e049465b-1a81-4514-967b-4fe85f3df9b0",
   "metadata": {
    "execution": {
     "iopub.execute_input": "2023-05-17T11:52:03.382208Z",
     "iopub.status.busy": "2023-05-17T11:52:03.382050Z",
     "iopub.status.idle": "2023-05-17T11:52:03.393087Z",
     "shell.execute_reply": "2023-05-17T11:52:03.392658Z",
     "shell.execute_reply.started": "2023-05-17T11:52:03.382194Z"
    },
    "tags": []
   },
   "outputs": [],
   "source": [
    "def AddDataSetsInGroup(spec,h5group):\n",
    "  \n",
    "   \n",
    "    #spectrum\n",
    "\n",
    "    h5group.attrs['spec_target_label'] = spec.target.label\n",
    "    h5group.attrs['spec_filter_label'] = spec.filter_label\n",
    "    h5group.attrs[\"spec_date_obs\"] = spec.date_obs\n",
    "    h5group.attrs[\"spec_airmass\"] = spec.airmass \n",
    "    h5group.attrs[\"spec_temperature\"] = spec.temperature\n",
    "    h5group.attrs[\"spec_pressure\"] = spec.pressure\n",
    "    h5group.attrs[\"spec_humidity\"] = spec.humidity\n",
    "    h5group.attrs[\"spec_dec\"] = spec.dec\n",
    "    h5group.attrs[\"spec_hour_angle\"] = spec.hour_angle\n",
    "    h5group.attrs[\"spec_parallactic_angle\"] = spec.parallactic_angle\n",
    "    h5group.attrs[\"spec_camera_angle\"] = spec.camera_angle\n",
    "    h5group.attrs[\"spec_order\"] = spec.order\n",
    "    \n",
    "    \n",
    "    d = h5group.create_dataset(\"spec_lambdas\",data=spec.lambdas,compression=\"gzip\", compression_opts=9)\n",
    "    d = h5group.create_dataset(\"spec_data\",data=spec.data,compression=\"gzip\", compression_opts=9)\n",
    "    d = h5group.create_dataset(\"spec_err\",data=spec.err,compression=\"gzip\", compression_opts=9)\n",
    "    d = h5group.create_dataset(\"spec_covmatrix\",data=spec.cov_matrix,compression=\"gzip\", compression_opts=9)\n",
    "    d = h5group.create_dataset(\"spec_data_next_order\",data=spec.data_next_order,compression=\"gzip\", compression_opts=9)\n",
    "    d = h5group.create_dataset(\"spec_err_next_order\",data=spec.err_next_order,compression=\"gzip\", compression_opts=9)\n",
    "    \n",
    "    # spectrogram\n",
    "    \n",
    "    d = h5group.create_dataset(\"spec_spectrogram\",data=spec.spectrogram,compression=\"gzip\", compression_opts=9)\n",
    "    d = h5group.create_dataset(\"spec_spectrogram_bgd\",data=spec.spectrogram_bgd,compression=\"gzip\", compression_opts=9)\n",
    "    d = h5group.create_dataset(\"spec_spectrogram_bgd_rms\",data=spec.spectrogram_bgd_rms,compression=\"gzip\", compression_opts=9)\n",
    "    d = h5group.create_dataset(\"spec_spectrogram_err\",data=spec.spectrogram_err,compression=\"gzip\", compression_opts=9)\n",
    "    d = h5group.create_dataset(\"spec_spectrogram_residuals\",data=spec.spectrogram_residuals,compression=\"gzip\", compression_opts=9)\n",
    "    d = h5group.create_dataset(\"spec_spectrogram_fit\",data=spec.spectrogram_fit,compression=\"gzip\", compression_opts=9)\n",
    "    \n",
    "    \n",
    "    h5group.attrs[\"spec_spectrogram_x0\"]=spec.spectrogram_x0\n",
    "    h5group.attrs[\"spec_spectrogram_y0\"]=spec.spectrogram_y0\n",
    "    h5group.attrs[\"spec_spectrogram_xmin\"]=spec.spectrogram_xmin\n",
    "    h5group.attrs[\"spec_spectrogram_xmax\"]=spec.spectrogram_xmax\n",
    "    h5group.attrs[\"spec_spectrogram_ymin\"]=spec.spectrogram_ymin\n",
    "    h5group.attrs[\"spec_spectrogram_ymax\"]=spec.spectrogram_ymax\n",
    "    h5group.attrs[\"spec_spectrogram_deg\"]=spec.spectrogram_deg\n",
    "    h5group.attrs[\"spec_spectrogram_saturation\"]=spec.spectrogram_saturation      \n",
    "    h5group.attrs[\"spec_spectrogram_Nx\"]=spec.spectrogram_Nx\n",
    "    h5group.attrs[\"spec_spectrogram_Ny\"]=spec.spectrogram_Ny\n",
    "    \n",
    "    \n",
    "    # header\n",
    "    \n",
    "    h5group.attrs[\"spec_header_target\"]=spec.header[\"TARGET\"]\n",
    "    h5group.attrs[\"spec_header_redshift\"]=spec.header[\"REDSHIFT\"]\n",
    "    h5group.attrs['spec_header_grating']=spec.header[\"GRATING\"]\n",
    "    h5group.attrs[\"spec_header_rotangle\"]=spec.header[\"ROTANGLE\"]\n",
    "    h5group.attrs[\"spec_header_d2ccd\"]=spec.header[\"D2CCD\"]\n",
    "    h5group.attrs[\"spec_header_lshift\"]=spec.header[\"LSHIFT\"]\n",
    "    h5group.attrs[\"spec_header_parangle\"]=spec.header[\"PARANGLE\"]\n",
    "    h5group.attrs[\"spec_header_targetx\"]=spec.header[\"TARGETX\"]\n",
    "    h5group.attrs[\"spec_header_targety\"]=spec.header[\"TARGETY\"]\n",
    "    h5group.attrs[\"spec_header_lbda_ref\"]=spec.header[\"LBDA_REF\"]\n",
    "    h5group.attrs[\"spec_header_pixshift\"]=spec.header[\"PIXSHIFT\"]\n",
    "    h5group.attrs[\"spec_header_psf_reg\"]=spec.header[\"PSF_REG\"]\n",
    "    h5group.attrs[\"spec_header_trace_r\"]=spec.header[\"TRACE_R\"]   \n",
    "    h5group.attrs[\"spec_header_chi2_fit\"]=spec.header[\"CHI2_FIT\"]   \n",
    "    h5group.attrs[\"spec_header_a2_fit\"]=spec.header[\"A2_FIT\"]\n",
    "    h5group.attrs[\"spec_header_am_fit\"]=spec.header[\"AM_FIT\"]\n",
    "    h5group.attrs[\"spec_header_meanfwhm\"]=spec.header[\"MEANFWHM\"]\n",
    "    h5group.attrs[\"spec_header_version\"]=spec.header[\"VERSION\"]\n",
    "    h5group.attrs[\"spec_header_rebin\"]=spec.header[\"REBIN\"]\n",
    "    h5group.attrs['spec_header_date-obs']=spec.header[\"DATE-OBS\"]\n",
    "    h5group.attrs[\"spec_header_exptime\"]=spec.header[\"EXPTIME\"]\n",
    "    h5group.attrs[\"spec_header_airmass\"]=spec.header[\"AIRMASS\"] \n",
    "    h5group.attrs[\"spec_header_dec\"]=spec.header[\"DEC\"]\n",
    "    h5group.attrs[\"spec_header_ha\"]=spec.header[\"HA\"]\n",
    "    h5group.attrs[\"spec_header_outtemp\"]=spec.header[\"OUTTEMP\"] \n",
    "    h5group.attrs[\"spec_header_outpress\"]=spec.header[\"OUTPRESS\"] \n",
    "    h5group.attrs[\"spec_header_outhum\"]=spec.header[\"OUTHUM\"]\n",
    "    h5group.attrs[\"spec_header_filter\"]=spec.header[\"FILTER\"]\n",
    "    h5group.attrs[\"spec_header_cam_rot\"]=spec.header[\"CAM_ROT\"] \n",
    "    h5group.attrs[\"spec_header_s_x0\"]=spec.header[\"S_X0\"]\n",
    "    h5group.attrs[\"spec_header_s_y0\"]=spec.header[\"S_Y0\"]\n",
    "    h5group.attrs[\"spec_header_s_xmin\"]=spec.header[\"S_XMIN\"]      \n",
    "    h5group.attrs[\"spec_header_s_xmax\"]=spec.header[\"S_XMAX\"]                                               \n",
    "    h5group.attrs[\"spec_header_s_ymin\"]=spec.header[\"S_YMIN\"]      \n",
    "    h5group.attrs[\"spec_header_s_ymax\"]=spec.header[\"S_YMAX\"]                                                                                                                  \n",
    "    h5group.attrs[\"spec_header_s_nx\"]=spec.header[\"S_NX\"]\n",
    "    h5group.attrs[\"spec_header_s_ny\"]=spec.header[\"S_NY\"]   \n",
    "    h5group.attrs[\"spec_header_s_dec\"]=spec.header[\"S_DEG\"]  \n",
    "    h5group.attrs[\"spec_header_s_sat\"]=spec.header[\"S_SAT\"]      \n",
    "                                               \n",
    "    "
   ]
  },
  {
   "cell_type": "code",
   "execution_count": 35,
   "id": "42631555-6e10-41aa-8619-7c8d3dcc068a",
   "metadata": {
    "execution": {
     "iopub.execute_input": "2023-05-17T11:52:04.099753Z",
     "iopub.status.busy": "2023-05-17T11:52:04.099605Z",
     "iopub.status.idle": "2023-05-17T11:52:04.102555Z",
     "shell.execute_reply": "2023-05-17T11:52:04.102149Z",
     "shell.execute_reply.started": "2023-05-17T11:52:04.099740Z"
    },
    "tags": []
   },
   "outputs": [],
   "source": [
    "def AddMountErrorsInGroup(h5group,az_rms,el_rms,rot_rms,image_az_rms,image_el_rms,image_rot_rms):\n",
    "    h5group.attrs[\"me_az_rms\"]=az_rms\n",
    "    h5group.attrs[\"me_el_rms\"]=el_rms\n",
    "    h5group.attrs[\"me_rot_rms\"]=rot_rms\n",
    "    h5group.attrs[\"me_image_az_rms\"]=image_az_rms\n",
    "    h5group.attrs[\"me_image_el_rms\"]=image_el_rms\n",
    "    h5group.attrs[\"me_image_rot_rms\"]=image_rot_rms\n",
    "        "
   ]
  },
  {
   "cell_type": "code",
   "execution_count": 36,
   "id": "9dd5a370-fb5c-47f5-b2ec-14c5dfed4475",
   "metadata": {
    "execution": {
     "iopub.execute_input": "2023-05-17T11:52:04.884359Z",
     "iopub.status.busy": "2023-05-17T11:52:04.884175Z",
     "iopub.status.idle": "2023-05-17T11:52:04.887083Z",
     "shell.execute_reply": "2023-05-17T11:52:04.886666Z",
     "shell.execute_reply.started": "2023-05-17T11:52:04.884343Z"
    },
    "tags": []
   },
   "outputs": [],
   "source": [
    "def AddDataSetsInGroupAndIndexExposure(spec,h5group,index,exposure):\n",
    "\n",
    "    h5group.attrs[\"index\"]=index\n",
    "    h5group.attrs[\"exposure\"]=exposure\n",
    "    \n",
    "    AddDataSetsInGroup(spec,h5group)"
   ]
  },
  {
   "cell_type": "code",
   "execution_count": 37,
   "id": "0ead2d71-32cc-4ab8-a87e-22c3bbe1fb77",
   "metadata": {
    "execution": {
     "iopub.execute_input": "2023-05-17T11:52:05.835570Z",
     "iopub.status.busy": "2023-05-17T11:52:05.835395Z",
     "iopub.status.idle": "2023-05-17T11:52:05.839339Z",
     "shell.execute_reply": "2023-05-17T11:52:05.838895Z",
     "shell.execute_reply.started": "2023-05-17T11:52:05.835555Z"
    },
    "tags": []
   },
   "outputs": [
    {
     "name": "stdout",
     "output_type": "stream",
     "text": [
      "--------------------------------------------\n",
      "spec.target.label\t HD38666\n",
      "spec.filter_label\t empty\n",
      "spec.airmass\t 2.19552776909812\n",
      "spec.date_obs\t 2023-05-10T00:21:41.355993912Z\n",
      "spec.temperature\t 0\n",
      "spec.pressure\t 0\n",
      "spec.humidity\t 0\n",
      "spec.dec\t -32.3505605330009\n",
      "spec.hour_angle\t 75.45103869242037\n",
      "spec.parallactic_angle\t 110.3047442812319\n",
      "spec.camera_angle\t 64.78687276111\n",
      "--------------------------------------------\n",
      "spec.order\t 1\n",
      "spec.lambdas\t [ 297.81015453  298.51511743  299.22010236 ... 1088.28021655 1088.96308794\n",
      " 1089.64592441]\n",
      "spec.data\t [ 2.20324954e-15  2.60146580e-15 -1.87753790e-15 ...  1.37962189e-13\n",
      "  1.45371220e-13  1.37518116e-13]\n",
      "spec.err\t [3.55165886e-15 2.48831367e-15 1.33865761e-15 ... 4.35006020e-15\n",
      " 5.68634222e-15 7.05628095e-15]\n",
      "spec.covmatrix\t [[ 1.26142806e-29  7.74520866e-30  2.37776479e-30 ... -9.61458479e-42\n",
      "  -1.08842567e-41 -1.16663709e-41]\n",
      " [ 7.74520866e-30  6.19170492e-30  2.29080357e-30 ... -6.96724179e-42\n",
      "  -7.89035015e-42 -8.45862976e-42]\n",
      " [ 2.37776479e-30  2.29080357e-30  1.79200419e-30 ... -2.92019701e-42\n",
      "  -3.30910464e-42 -3.54820473e-42]\n",
      " ...\n",
      " [-9.61458479e-42 -6.96724179e-42 -2.92019701e-42 ...  1.89230238e-29\n",
      "   2.03601439e-29  2.01171268e-29]\n",
      " [-1.08842567e-41 -7.89035015e-42 -3.30910464e-42 ...  2.03601439e-29\n",
      "   3.23344878e-29  3.71226333e-29]\n",
      " [-1.16663709e-41 -8.45862976e-42 -3.54820473e-42 ...  2.01171268e-29\n",
      "   3.71226333e-29  4.97911009e-29]]\n",
      "--------------------------------------------\n",
      "spec.data_next_order\t [-1.56215088e-14 -1.84449469e-14  1.33121438e-14 ... -5.25583922e-14\n",
      " -5.53809536e-14 -5.23892172e-14]\n",
      "spec.err_next_order\t [2.51820181e-14 1.76426742e-14 9.49136770e-15 ... 1.65720892e-15\n",
      " 2.16628199e-15 2.68817699e-15]\n"
     ]
    }
   ],
   "source": [
    "DumpSpectrum(spec)"
   ]
  },
  {
   "cell_type": "markdown",
   "id": "e47c7a2a-55a7-42e2-8c1b-a96f274bfbbb",
   "metadata": {},
   "source": [
    "# Save all spectra in a single file"
   ]
  },
  {
   "cell_type": "code",
   "execution_count": 38,
   "id": "3a7aaa2f-e91f-418f-a2c5-62a065cc719f",
   "metadata": {
    "execution": {
     "iopub.execute_input": "2023-05-17T11:52:10.556793Z",
     "iopub.status.busy": "2023-05-17T11:52:10.556217Z",
     "iopub.status.idle": "2023-05-17T11:52:10.559309Z",
     "shell.execute_reply": "2023-05-17T11:52:10.558872Z",
     "shell.execute_reply.started": "2023-05-17T11:52:10.556771Z"
    },
    "tags": []
   },
   "outputs": [],
   "source": [
    "exposures_sorted = np.sort(all_exposures)"
   ]
  },
  {
   "cell_type": "code",
   "execution_count": null,
   "id": "0588a8c4-a7e7-4f94-927c-30fde1122670",
   "metadata": {
    "execution": {
     "iopub.execute_input": "2023-05-17T11:52:11.276802Z",
     "iopub.status.busy": "2023-05-17T11:52:11.276164Z"
    },
    "tags": []
   },
   "outputs": [],
   "source": [
    "for idx,spec in enumerate(all_spec):   \n",
    "    the_exposure = all_exposures[idx]\n",
    "    the_sorted_index = np.where(exposures_sorted == the_exposure)[0][0]\n",
    "    AddDataSetsInGroupAndIndexExposure(spec,all_h5group[idx],the_sorted_index,the_exposure)\n",
    "    if FLAG_MOUNT_ERRORS:\n",
    "        df_exp_selected = df[df[\"exposure\"] == the_exposure]\n",
    "        N = len(df_exp_selected)\n",
    "        if (N)>0:\n",
    "            az_rms = df_exp_selected[\"az_rms\"].values[0]\n",
    "            el_rms = df_exp_selected[\"el_rms\"].values[0]\n",
    "            rot_rms = df_exp_selected[\"rot_rms\"].values[0]\n",
    "            image_az_rms = df_exp_selected[\"image_az_rms\"].values[0]\n",
    "            image_el_rms = df_exp_selected[\"image_el_rms\"].values[0]\n",
    "            image_rot_rms = df_exp_selected[\"image_rot_rms\"].values[0]\n",
    "            AddMountErrorsInGroup(all_h5group[idx],az_rms,el_rms,rot_rms,image_az_rms,image_el_rms,image_rot_rms)\n",
    "        else:\n",
    "            print(f\"No error mount for exposure {the_exposure}\")\n",
    "            AddMountErrorsInGroup(all_h5group[idx],-1.,-1.,-1.,-1.,-1.,-1.)\n",
    "            "
   ]
  },
  {
   "cell_type": "code",
   "execution_count": null,
   "id": "34f6cfaf-6987-4574-bf5f-722fa9f5ca2e",
   "metadata": {
    "execution": {
     "iopub.status.busy": "2023-05-17T11:50:16.316209Z",
     "iopub.status.idle": "2023-05-17T11:50:16.316385Z",
     "shell.execute_reply": "2023-05-17T11:50:16.316300Z",
     "shell.execute_reply.started": "2023-05-17T11:50:16.316292Z"
    }
   },
   "outputs": [],
   "source": [
    "hf_outfile.keys()"
   ]
  },
  {
   "cell_type": "code",
   "execution_count": null,
   "id": "bdaeb3cf-3693-4103-8ccb-553587a5bf3c",
   "metadata": {
    "execution": {
     "iopub.status.busy": "2023-05-17T11:50:16.317077Z",
     "iopub.status.idle": "2023-05-17T11:50:16.317395Z",
     "shell.execute_reply": "2023-05-17T11:50:16.317299Z",
     "shell.execute_reply.started": "2023-05-17T11:50:16.317287Z"
    },
    "tags": []
   },
   "outputs": [],
   "source": [
    "#AddDataSetsInGroup(spec,the_h5group) # already done previously\n",
    "hf_outfile.close() "
   ]
  },
  {
   "cell_type": "markdown",
   "id": "f26b3f62-34f7-4cbd-bad4-c48be4e07ed9",
   "metadata": {},
   "source": [
    "## Plot"
   ]
  },
  {
   "cell_type": "code",
   "execution_count": null,
   "id": "4fea39ba-2f11-4a8a-9248-c37ce3e7c0f4",
   "metadata": {
    "execution": {
     "iopub.status.busy": "2023-05-17T11:50:16.317981Z",
     "iopub.status.idle": "2023-05-17T11:50:16.318161Z",
     "shell.execute_reply": "2023-05-17T11:50:16.318072Z",
     "shell.execute_reply.started": "2023-05-17T11:50:16.318064Z"
    },
    "tags": []
   },
   "outputs": [],
   "source": [
    "%matplotlib inline\n",
    "\n",
    "\n",
    "infos = []\n",
    "all_lambdas=[]\n",
    "all_data=[]\n",
    "all_data_err=[]\n",
    "\n",
    "\n",
    "idx=0\n",
    "for spec in all_spec:\n",
    "    \n",
    "    \n",
    "    #s=spec.spectrum\n",
    "    s=spec\n",
    "    label = str(idx) +\"):\" + str(all_exposures[idx])\n",
    "    \n",
    "    try:\n",
    "        fig=plt.figure(figsize=(16,4))\n",
    "    \n",
    "        ax1 = fig.add_subplot(1, 2, 1)\n",
    "        s.plot_spectrum(ax=ax1,force_lines=True,label=label)\n",
    "    \n",
    "        ax2 = fig.add_subplot(1, 2, 2)\n",
    "        s.plot_spectrogram(ax=ax2,scale=\"log\")\n",
    "    \n",
    "        all_lambdas.append(s.lambdas)\n",
    "        all_data.append(s.data)\n",
    "        all_data_err.append(s.err)\n",
    "    \n",
    "        #save info    \n",
    "        infos.append([idx,s.target.label,s.date_obs,s.airmass,s.temperature,s.pressure,s.humidity])\n",
    "            \n",
    "    except Exception as inst:\n",
    "        print(\" >>> Exception catched for \"+ label )\n",
    "        print(type(inst))    # the exception instance\n",
    "        print(inst.args)     # arguments stored in .args\n",
    "\n",
    "    \n",
    "    idx+=1"
   ]
  },
  {
   "cell_type": "markdown",
   "id": "dcf6921d-adfb-4569-b31c-b28e8df46bc3",
   "metadata": {},
   "source": [
    "# Generate info"
   ]
  },
  {
   "cell_type": "code",
   "execution_count": null,
   "id": "d154b5b7-8123-47c5-8bf1-b917933dd850",
   "metadata": {
    "execution": {
     "iopub.status.busy": "2023-05-17T11:50:16.318683Z",
     "iopub.status.idle": "2023-05-17T11:50:16.318861Z",
     "shell.execute_reply": "2023-05-17T11:50:16.318773Z",
     "shell.execute_reply.started": "2023-05-17T11:50:16.318765Z"
    },
    "tags": []
   },
   "outputs": [],
   "source": [
    "df_infos=pd.DataFrame(infos,columns=[\"idx\",\"object\",\"date_obs\",\"airmass\",\"temperature\",\"pressure\",\"humidity\"])"
   ]
  },
  {
   "cell_type": "code",
   "execution_count": null,
   "id": "8dbc9436-abfd-46a8-87df-fee873578de1",
   "metadata": {
    "execution": {
     "iopub.status.busy": "2023-05-17T11:50:16.319400Z",
     "iopub.status.idle": "2023-05-17T11:50:16.319569Z",
     "shell.execute_reply": "2023-05-17T11:50:16.319490Z",
     "shell.execute_reply.started": "2023-05-17T11:50:16.319482Z"
    },
    "tags": []
   },
   "outputs": [],
   "source": [
    "df_infos.set_index('idx',inplace=True)"
   ]
  },
  {
   "cell_type": "code",
   "execution_count": null,
   "id": "f0680b42-944a-41e0-8e0f-23bce235d317",
   "metadata": {
    "execution": {
     "iopub.status.busy": "2023-05-17T11:50:16.320181Z",
     "iopub.status.idle": "2023-05-17T11:50:16.320356Z",
     "shell.execute_reply": "2023-05-17T11:50:16.320273Z",
     "shell.execute_reply.started": "2023-05-17T11:50:16.320264Z"
    },
    "tags": []
   },
   "outputs": [],
   "source": [
    "all_reftime=[ (Time(tt)-Time( df_infos[\"date_obs\"].values[0])).to_value(u.hr) for tt in df_infos[\"date_obs\"].values ]"
   ]
  },
  {
   "cell_type": "code",
   "execution_count": null,
   "id": "8dc390a3-c06a-4ff0-b637-66b33355356e",
   "metadata": {
    "execution": {
     "iopub.status.busy": "2023-05-17T11:50:16.321081Z",
     "iopub.status.idle": "2023-05-17T11:50:16.321261Z",
     "shell.execute_reply": "2023-05-17T11:50:16.321172Z",
     "shell.execute_reply.started": "2023-05-17T11:50:16.321164Z"
    },
    "tags": []
   },
   "outputs": [],
   "source": [
    "all_reftime=np.array(all_reftime)"
   ]
  },
  {
   "cell_type": "code",
   "execution_count": null,
   "id": "de824a62-e759-4797-b840-363cb35bd63c",
   "metadata": {
    "execution": {
     "iopub.status.busy": "2023-05-17T11:50:16.321662Z",
     "iopub.status.idle": "2023-05-17T11:50:16.321819Z",
     "shell.execute_reply": "2023-05-17T11:50:16.321745Z",
     "shell.execute_reply.started": "2023-05-17T11:50:16.321737Z"
    },
    "tags": []
   },
   "outputs": [],
   "source": [
    "df_infos[\"reftime\"]=all_reftime"
   ]
  },
  {
   "cell_type": "code",
   "execution_count": null,
   "id": "110419ff-4d95-40b8-8436-4293014a4fd8",
   "metadata": {
    "execution": {
     "iopub.status.busy": "2023-05-17T11:50:16.322472Z",
     "iopub.status.idle": "2023-05-17T11:50:16.322653Z",
     "shell.execute_reply": "2023-05-17T11:50:16.322564Z",
     "shell.execute_reply.started": "2023-05-17T11:50:16.322555Z"
    }
   },
   "outputs": [],
   "source": [
    "NN = len(df_infos)"
   ]
  },
  {
   "cell_type": "code",
   "execution_count": null,
   "id": "99b6a222-de0e-4aa7-81ce-c3d6a889c04a",
   "metadata": {
    "execution": {
     "iopub.status.busy": "2023-05-17T11:50:16.323238Z",
     "iopub.status.idle": "2023-05-17T11:50:16.323417Z",
     "shell.execute_reply": "2023-05-17T11:50:16.323328Z",
     "shell.execute_reply.started": "2023-05-17T11:50:16.323320Z"
    }
   },
   "outputs": [],
   "source": [
    "df_infos"
   ]
  },
  {
   "cell_type": "markdown",
   "id": "dc731281-48ed-4328-8ce6-42dab4332d59",
   "metadata": {},
   "source": [
    "### Save info file"
   ]
  },
  {
   "cell_type": "code",
   "execution_count": null,
   "id": "932ca0ec-507d-4022-8325-55d689ac0eb2",
   "metadata": {
    "execution": {
     "iopub.status.busy": "2023-05-17T11:50:16.323901Z",
     "iopub.status.idle": "2023-05-17T11:50:16.324074Z",
     "shell.execute_reply": "2023-05-17T11:50:16.323996Z",
     "shell.execute_reply.started": "2023-05-17T11:50:16.323988Z"
    }
   },
   "outputs": [],
   "source": [
    "df_infos.to_csv(summary_file)"
   ]
  },
  {
   "cell_type": "code",
   "execution_count": null,
   "id": "7f5b23ab-1880-493a-9c3c-ff33e537764c",
   "metadata": {},
   "outputs": [],
   "source": []
  }
 ],
 "metadata": {
  "kernelspec": {
   "display_name": "LSST",
   "language": "python",
   "name": "lsst"
  },
  "language_info": {
   "codemirror_mode": {
    "name": "ipython",
    "version": 3
   },
   "file_extension": ".py",
   "mimetype": "text/x-python",
   "name": "python",
   "nbconvert_exporter": "python",
   "pygments_lexer": "ipython3",
   "version": "3.10.10"
  }
 },
 "nbformat": 4,
 "nbformat_minor": 5
}
