{
 "cells": [
  {
   "cell_type": "markdown",
   "id": "0b8c2138-5194-4d03-8b77-be24e2cc8ee3",
   "metadata": {},
   "source": [
    "# Query for Spectraction Results in OGA"
   ]
  },
  {
   "cell_type": "markdown",
   "id": "740e34fb-3fef-45a8-941b-c229742ab016",
   "metadata": {},
   "source": [
    " work with Weakly_2023_27\n",
    "- use jupyter kernel LSST\n",
    "- author : Sylvie Dagoret-Campagne\n",
    "- affiliation : IJCLab\n",
    "- creation date : 2023/07/20\n",
    "- last update : 2023/05/21\n",
    "\n",
    "- Spectractor https://github.com/lsst/Spectractor/\n",
    "- Spectractor Version 2.5\n",
    "\n",
    "\n",
    "Implement\n",
    "\n",
    "- add exposure info in hdf5 attribute to get azimuth\n",
    "\n"
   ]
  },
  {
   "cell_type": "code",
   "execution_count": 1,
   "id": "ed2c3410-fe83-432e-ab87-9f4513fa8d8b",
   "metadata": {
    "execution": {
     "iopub.execute_input": "2023-07-21T10:06:51.289927Z",
     "iopub.status.busy": "2023-07-21T10:06:51.289795Z",
     "iopub.status.idle": "2023-07-21T10:06:51.654526Z",
     "shell.execute_reply": "2023-07-21T10:06:51.653809Z",
     "shell.execute_reply.started": "2023-07-21T10:06:51.289914Z"
    },
    "tags": []
   },
   "outputs": [
    {
     "name": "stdout",
     "output_type": "stream",
     "text": [
      "atmospec              LOCAL:/home/d/dagoret/repos/repos_w_2023_27/atmospec \tsetup\n",
      "eups                  LOCAL:/opt/lsst/software/stack/conda/miniconda3-py38_4.9.2/envs/lsst-scipipe-6.0.0/eups \tsetup\n"
     ]
    }
   ],
   "source": [
    "! eups list -s | grep LOCAL"
   ]
  },
  {
   "cell_type": "code",
   "execution_count": 2,
   "id": "70918d81-0cf6-4b0a-8f61-f5e5bec5b0e7",
   "metadata": {
    "execution": {
     "iopub.execute_input": "2023-07-21T10:06:51.655570Z",
     "iopub.status.busy": "2023-07-21T10:06:51.655374Z",
     "iopub.status.idle": "2023-07-21T10:06:52.007341Z",
     "shell.execute_reply": "2023-07-21T10:06:52.006607Z",
     "shell.execute_reply.started": "2023-07-21T10:06:51.655552Z"
    },
    "tags": []
   },
   "outputs": [
    {
     "name": "stdout",
     "output_type": "stream",
     "text": [
      "   gdf42428520+4e9f6d16c8 \tcurrent w_2023_27 setup\n"
     ]
    }
   ],
   "source": [
    "! eups list -s lsst_distrib"
   ]
  },
  {
   "cell_type": "code",
   "execution_count": 3,
   "id": "e7e0ec91-3a48-47ea-b293-db233df2677e",
   "metadata": {
    "execution": {
     "iopub.execute_input": "2023-07-21T10:06:52.008610Z",
     "iopub.status.busy": "2023-07-21T10:06:52.008392Z",
     "iopub.status.idle": "2023-07-21T10:06:52.033461Z",
     "shell.execute_reply": "2023-07-21T10:06:52.033003Z",
     "shell.execute_reply.started": "2023-07-21T10:06:52.008589Z"
    },
    "tags": []
   },
   "outputs": [],
   "source": [
    "import h5py"
   ]
  },
  {
   "cell_type": "code",
   "execution_count": 4,
   "id": "f8d9cfca-5881-48c1-b2cb-0f794a2e4091",
   "metadata": {
    "execution": {
     "iopub.execute_input": "2023-07-21T10:06:52.034809Z",
     "iopub.status.busy": "2023-07-21T10:06:52.034663Z",
     "iopub.status.idle": "2023-07-21T10:06:52.489058Z",
     "shell.execute_reply": "2023-07-21T10:06:52.488554Z",
     "shell.execute_reply.started": "2023-07-21T10:06:52.034795Z"
    },
    "tags": []
   },
   "outputs": [],
   "source": [
    "import lsst.daf.butler as dafButler\n",
    "#import lsst.summit.utils.butlerUtils as butlerUtils"
   ]
  },
  {
   "cell_type": "code",
   "execution_count": 5,
   "id": "1ceacda9-20b0-4d77-a0d2-572c957ce273",
   "metadata": {
    "execution": {
     "iopub.execute_input": "2023-07-21T10:06:52.489847Z",
     "iopub.status.busy": "2023-07-21T10:06:52.489699Z",
     "iopub.status.idle": "2023-07-21T10:06:53.007042Z",
     "shell.execute_reply": "2023-07-21T10:06:53.006495Z",
     "shell.execute_reply.started": "2023-07-21T10:06:52.489832Z"
    },
    "tags": []
   },
   "outputs": [],
   "source": [
    "import numpy as np\n",
    "import matplotlib.pyplot as plt\n",
    "%matplotlib inline\n",
    "from mpl_toolkits.axes_grid1 import make_axes_locatable\n",
    "from matplotlib.colors import LogNorm\n",
    "import pandas as pd\n",
    "\n",
    "import matplotlib.ticker                         # here's where the formatter is\n",
    "import os\n",
    "import re\n",
    "import pandas as pd\n",
    "\n",
    "plt.rcParams[\"figure.figsize\"] = (4,3)\n",
    "plt.rcParams[\"axes.labelsize\"] = 'xx-large'\n",
    "plt.rcParams['axes.titlesize'] = 'xx-large'\n",
    "plt.rcParams['xtick.labelsize']= 'xx-large'\n",
    "plt.rcParams['ytick.labelsize']= 'xx-large'"
   ]
  },
  {
   "cell_type": "code",
   "execution_count": 7,
   "id": "75e20c79-7729-459b-a5e0-78d8de0c4d71",
   "metadata": {
    "execution": {
     "iopub.execute_input": "2023-07-21T10:06:53.011203Z",
     "iopub.status.busy": "2023-07-21T10:06:53.011069Z",
     "iopub.status.idle": "2023-07-21T10:06:53.014782Z",
     "shell.execute_reply": "2023-07-21T10:06:53.014354Z",
     "shell.execute_reply.started": "2023-07-21T10:06:53.011191Z"
    },
    "tags": []
   },
   "outputs": [],
   "source": [
    "from astropy.time import Time\n",
    "import astropy.units as u"
   ]
  },
  {
   "cell_type": "markdown",
   "id": "c7e637b3-244b-4df3-9db2-3819e6321141",
   "metadata": {},
   "source": [
    "## Config"
   ]
  },
  {
   "cell_type": "code",
   "execution_count": 8,
   "id": "ac51fd3d-4fd1-437a-99a9-3c33bcf3477a",
   "metadata": {
    "execution": {
     "iopub.execute_input": "2023-07-21T10:06:53.015451Z",
     "iopub.status.busy": "2023-07-21T10:06:53.015318Z",
     "iopub.status.idle": "2023-07-21T10:06:53.019540Z",
     "shell.execute_reply": "2023-07-21T10:06:53.019119Z",
     "shell.execute_reply.started": "2023-07-21T10:06:53.015439Z"
    }
   },
   "outputs": [],
   "source": [
    "FLAG_MOUNT_ERRORS= False"
   ]
  },
  {
   "cell_type": "markdown",
   "id": "f311bc61-5eb2-40b2-ab20-8241ea599037",
   "metadata": {},
   "source": [
    "### Butler"
   ]
  },
  {
   "cell_type": "code",
   "execution_count": 9,
   "id": "1c81d99a-5e91-4ba1-ba4a-c66b37905b98",
   "metadata": {
    "execution": {
     "iopub.execute_input": "2023-07-21T10:06:53.020255Z",
     "iopub.status.busy": "2023-07-21T10:06:53.020115Z",
     "iopub.status.idle": "2023-07-21T10:06:54.787562Z",
     "shell.execute_reply": "2023-07-21T10:06:54.786975Z",
     "shell.execute_reply.started": "2023-07-21T10:06:53.020243Z"
    },
    "tags": []
   },
   "outputs": [],
   "source": [
    "#repo =  \"/sdf/group/rubin/repo/main\"\n",
    "repo = \"/sdf/group/rubin/repo/oga/\"\n",
    "#repo = \"/repo/embargo/\"\n",
    "butler = dafButler.Butler(repo)\n",
    "registry = butler.registry"
   ]
  },
  {
   "cell_type": "markdown",
   "id": "8e80fb43-8912-437d-af52-0f8a52dcef43",
   "metadata": {},
   "source": [
    "## User collections"
   ]
  },
  {
   "cell_type": "code",
   "execution_count": 10,
   "id": "1ccda630-a4e2-4333-9a32-00a801212db6",
   "metadata": {
    "execution": {
     "iopub.execute_input": "2023-07-21T10:06:54.788500Z",
     "iopub.status.busy": "2023-07-21T10:06:54.788297Z",
     "iopub.status.idle": "2023-07-21T10:06:54.790991Z",
     "shell.execute_reply": "2023-07-21T10:06:54.790586Z",
     "shell.execute_reply.started": "2023-07-21T10:06:54.788485Z"
    }
   },
   "outputs": [],
   "source": [
    "DateToRuncollection_rebin2 = {\n",
    " # July 2023\n",
    " 20230718 :  \"u/dagoret/BPS_manyspectro_v96\", \n",
    " 20230720 :  \"u/dagoret/BPS_manyspectro_v98\", \n",
    "}\n",
    "DateToRuncollection_rebin1 = {\n",
    " # July 2023\n",
    " 20230718 :  \"u/dagoret/BPS_manyspectro_v97\", \n",
    " 20230720 :  \"u/dagoret/BPS_manyspectro_v99\", \n",
    "}"
   ]
  },
  {
   "cell_type": "markdown",
   "id": "0e05f7c8-b6c5-4d54-87ab-f36eade8b67b",
   "metadata": {},
   "source": [
    "## Working mode"
   ]
  },
  {
   "cell_type": "markdown",
   "id": "7fa31e20-40fb-498d-ad80-90ee20f619cd",
   "metadata": {},
   "source": [
    "### Rebin mode\n",
    "\n",
    "- make your choice"
   ]
  },
  {
   "cell_type": "code",
   "execution_count": 11,
   "id": "8d186dd2-33ff-4326-9987-ca8c8510e740",
   "metadata": {
    "execution": {
     "iopub.execute_input": "2023-07-21T10:06:54.791678Z",
     "iopub.status.busy": "2023-07-21T10:06:54.791543Z",
     "iopub.status.idle": "2023-07-21T10:06:54.795505Z",
     "shell.execute_reply": "2023-07-21T10:06:54.795101Z",
     "shell.execute_reply.started": "2023-07-21T10:06:54.791665Z"
    },
    "tags": []
   },
   "outputs": [],
   "source": [
    "MODE_REBIN = 2"
   ]
  },
  {
   "cell_type": "markdown",
   "id": "5e5abcbc-9ec3-4a33-8def-cb4ee4eb5ce5",
   "metadata": {},
   "source": [
    "### Date"
   ]
  },
  {
   "cell_type": "code",
   "execution_count": 12,
   "id": "c1ffbd47-4cc9-4ef1-ab1c-6f477b8139bb",
   "metadata": {
    "execution": {
     "iopub.execute_input": "2023-07-21T10:06:54.797737Z",
     "iopub.status.busy": "2023-07-21T10:06:54.797507Z",
     "iopub.status.idle": "2023-07-21T10:06:54.800551Z",
     "shell.execute_reply": "2023-07-21T10:06:54.800135Z",
     "shell.execute_reply.started": "2023-07-21T10:06:54.797724Z"
    },
    "tags": []
   },
   "outputs": [],
   "source": [
    "DATE = 20230720\n",
    "\n",
    "if MODE_REBIN == 2:\n",
    "    my_collection = DateToRuncollection_rebin2[DATE]\n",
    "else:\n",
    "    my_collection = DateToRuncollection_rebin1[DATE]\n",
    "\n",
    "filterdispersername = \"empty~holo4_003\"\n"
   ]
  },
  {
   "cell_type": "markdown",
   "id": "e5eef764-6dfc-469a-a11a-7184e0aeed06",
   "metadata": {},
   "source": [
    "# List of Dataset types avalaible in my collection"
   ]
  },
  {
   "cell_type": "markdown",
   "id": "1310d3a5-fc53-4db1-b56a-bf6f6e8eca60",
   "metadata": {},
   "source": [
    "## List of dataset types"
   ]
  },
  {
   "cell_type": "code",
   "execution_count": 13,
   "id": "44be81c8-1a26-4e62-ac23-bfa9353206a0",
   "metadata": {
    "execution": {
     "iopub.execute_input": "2023-07-21T10:06:54.801322Z",
     "iopub.status.busy": "2023-07-21T10:06:54.801187Z",
     "iopub.status.idle": "2023-07-21T10:06:54.808770Z",
     "shell.execute_reply": "2023-07-21T10:06:54.808356Z",
     "shell.execute_reply.started": "2023-07-21T10:06:54.801310Z"
    },
    "tags": []
   },
   "outputs": [
    {
     "data": {
      "text/plain": [
       "[DatasetType('atmospecCentroid', {band, instrument, detector, physical_filter, visit}, StructuredDataDict),\n",
       " DatasetType('spectraction', {band, instrument, detector, physical_filter, visit}, Spectraction),\n",
       " DatasetType('spectractorImage', {band, instrument, detector, physical_filter, visit}, SpectractorImage),\n",
       " DatasetType('spectractorSpectrum', {band, instrument, detector, physical_filter, visit}, SpectractorSpectrum),\n",
       " DatasetType('spectrogramLibradtranFitParameters', {band, instrument, detector, physical_filter, visit}, SpectractorFitParameters),\n",
       " DatasetType('spectrumForwardModelFitParameters', {band, instrument, detector, physical_filter, visit}, SpectractorFitParameters),\n",
       " DatasetType('spectrumLibradtranFitParameters', {band, instrument, detector, physical_filter, visit}, SpectractorFitParameters)]"
      ]
     },
     "execution_count": 13,
     "metadata": {},
     "output_type": "execute_result"
    }
   ],
   "source": [
    "list(registry.queryDatasetTypes(\"*spec*\"))"
   ]
  },
  {
   "cell_type": "markdown",
   "id": "1dc3ad38-178b-47c6-b989-442a8b91cf1b",
   "metadata": {},
   "source": [
    "## list of datasets"
   ]
  },
  {
   "cell_type": "code",
   "execution_count": 14,
   "id": "fe033164-536b-4adf-94d8-0b59d81740ce",
   "metadata": {
    "execution": {
     "iopub.execute_input": "2023-07-21T10:06:54.809539Z",
     "iopub.status.busy": "2023-07-21T10:06:54.809304Z",
     "iopub.status.idle": "2023-07-21T10:06:55.169015Z",
     "shell.execute_reply": "2023-07-21T10:06:55.167239Z",
     "shell.execute_reply.started": "2023-07-21T10:06:54.809526Z"
    },
    "tags": []
   },
   "outputs": [
    {
     "ename": "MissingCollectionError",
     "evalue": "No collection with name 'u/dagoret/BPS_manyspectro_v99' found.",
     "output_type": "error",
     "traceback": [
      "\u001b[0;31m---------------------------------------------------------------------------\u001b[0m",
      "\u001b[0;31mMissingCollectionError\u001b[0m                    Traceback (most recent call last)",
      "Cell \u001b[0;32mIn[14], line 1\u001b[0m\n\u001b[0;32m----> 1\u001b[0m \u001b[38;5;28mlist\u001b[39m(\u001b[43mregistry\u001b[49m\u001b[38;5;241;43m.\u001b[39;49m\u001b[43mqueryDatasets\u001b[49m\u001b[43m(\u001b[49m\u001b[38;5;124;43m\"\u001b[39;49m\u001b[38;5;124;43m*spec*\u001b[39;49m\u001b[38;5;124;43m\"\u001b[39;49m\u001b[43m,\u001b[49m\u001b[43m \u001b[49m\u001b[43mcollections\u001b[49m\u001b[38;5;241;43m=\u001b[39;49m\u001b[43m[\u001b[49m\u001b[43mmy_collection\u001b[49m\u001b[43m]\u001b[49m\u001b[43m)\u001b[49m)[:\u001b[38;5;241m10\u001b[39m]\n",
      "File \u001b[0;32m/opt/lsst/software/stack/stack/miniconda3-py38_4.9.2-6.0.0/Linux64/daf_butler/gef4fbc5b3d+7fe1ab1564/python/lsst/daf/butler/registries/sql.py:1175\u001b[0m, in \u001b[0;36mSqlRegistry.queryDatasets\u001b[0;34m(self, datasetType, collections, dimensions, dataId, where, findFirst, components, bind, check, **kwargs)\u001b[0m\n\u001b[1;32m   1169\u001b[0m builder \u001b[38;5;241m=\u001b[39m \u001b[38;5;28mself\u001b[39m\u001b[38;5;241m.\u001b[39m_makeQueryBuilder(summary)\n\u001b[1;32m   1170\u001b[0m \u001b[38;5;66;03m# Add the dataset subquery to the query, telling the QueryBuilder\u001b[39;00m\n\u001b[1;32m   1171\u001b[0m \u001b[38;5;66;03m# to include the rank of the selected collection in the results\u001b[39;00m\n\u001b[1;32m   1172\u001b[0m \u001b[38;5;66;03m# only if we need to findFirst.  Note that if any of the\u001b[39;00m\n\u001b[1;32m   1173\u001b[0m \u001b[38;5;66;03m# collections are actually wildcard expressions, and\u001b[39;00m\n\u001b[1;32m   1174\u001b[0m \u001b[38;5;66;03m# findFirst=True, this will raise TypeError for us.\u001b[39;00m\n\u001b[0;32m-> 1175\u001b[0m \u001b[43mbuilder\u001b[49m\u001b[38;5;241;43m.\u001b[39;49m\u001b[43mjoinDataset\u001b[49m\u001b[43m(\u001b[49m\u001b[43mparent_dataset_type\u001b[49m\u001b[43m,\u001b[49m\u001b[43m \u001b[49m\u001b[43mcollection_wildcard\u001b[49m\u001b[43m,\u001b[49m\u001b[43m \u001b[49m\u001b[43misResult\u001b[49m\u001b[38;5;241;43m=\u001b[39;49m\u001b[38;5;28;43;01mTrue\u001b[39;49;00m\u001b[43m,\u001b[49m\u001b[43m \u001b[49m\u001b[43mfindFirst\u001b[49m\u001b[38;5;241;43m=\u001b[39;49m\u001b[43mfindFirst\u001b[49m\u001b[43m)\u001b[49m\n\u001b[1;32m   1176\u001b[0m query \u001b[38;5;241m=\u001b[39m builder\u001b[38;5;241m.\u001b[39mfinish()\n\u001b[1;32m   1177\u001b[0m parent_results\u001b[38;5;241m.\u001b[39mappend(\n\u001b[1;32m   1178\u001b[0m     queries\u001b[38;5;241m.\u001b[39mParentDatasetQueryResults(\n\u001b[1;32m   1179\u001b[0m         query, parent_dataset_type, components\u001b[38;5;241m=\u001b[39mcomponents_for_parent\n\u001b[1;32m   1180\u001b[0m     )\n\u001b[1;32m   1181\u001b[0m )\n",
      "File \u001b[0;32m/opt/lsst/software/stack/stack/miniconda3-py38_4.9.2-6.0.0/Linux64/daf_butler/gef4fbc5b3d+7fe1ab1564/python/lsst/daf/butler/registry/queries/_builder.py:126\u001b[0m, in \u001b[0;36mQueryBuilder.joinDataset\u001b[0;34m(self, datasetType, collections, isResult, findFirst)\u001b[0m\n\u001b[1;32m    124\u001b[0m     collections\u001b[38;5;241m.\u001b[39mrequire_ordered()\n\u001b[1;32m    125\u001b[0m rejections: \u001b[38;5;28mlist\u001b[39m[\u001b[38;5;28mstr\u001b[39m] \u001b[38;5;241m=\u001b[39m []\n\u001b[0;32m--> 126\u001b[0m collection_records \u001b[38;5;241m=\u001b[39m \u001b[38;5;28;43mself\u001b[39;49m\u001b[38;5;241;43m.\u001b[39;49m\u001b[43m_backend\u001b[49m\u001b[38;5;241;43m.\u001b[39;49m\u001b[43mresolve_dataset_collections\u001b[49m\u001b[43m(\u001b[49m\n\u001b[1;32m    127\u001b[0m \u001b[43m    \u001b[49m\u001b[43mdatasetType\u001b[49m\u001b[43m,\u001b[49m\n\u001b[1;32m    128\u001b[0m \u001b[43m    \u001b[49m\u001b[43mcollections\u001b[49m\u001b[43m,\u001b[49m\n\u001b[1;32m    129\u001b[0m \u001b[43m    \u001b[49m\u001b[43mgovernor_constraints\u001b[49m\u001b[38;5;241;43m=\u001b[39;49m\u001b[38;5;28;43mself\u001b[39;49m\u001b[38;5;241;43m.\u001b[39;49m\u001b[43m_governor_constraints\u001b[49m\u001b[43m,\u001b[49m\n\u001b[1;32m    130\u001b[0m \u001b[43m    \u001b[49m\u001b[43mrejections\u001b[49m\u001b[38;5;241;43m=\u001b[39;49m\u001b[43mrejections\u001b[49m\u001b[43m,\u001b[49m\n\u001b[1;32m    131\u001b[0m \u001b[43m    \u001b[49m\u001b[43mallow_calibration_collections\u001b[49m\u001b[38;5;241;43m=\u001b[39;49m\u001b[43m(\u001b[49m\u001b[38;5;129;43;01mnot\u001b[39;49;00m\u001b[43m \u001b[49m\u001b[43mfindFirst\u001b[49m\u001b[43m \u001b[49m\u001b[38;5;129;43;01mand\u001b[39;49;00m\u001b[43m \u001b[49m\u001b[38;5;129;43;01mnot\u001b[39;49;00m\u001b[43m \u001b[49m\u001b[38;5;28;43mself\u001b[39;49m\u001b[38;5;241;43m.\u001b[39;49m\u001b[43msummary\u001b[49m\u001b[38;5;241;43m.\u001b[39;49m\u001b[43mdimensions\u001b[49m\u001b[38;5;241;43m.\u001b[39;49m\u001b[43mtemporal\u001b[49m\u001b[43m)\u001b[49m\u001b[43m,\u001b[49m\n\u001b[1;32m    132\u001b[0m \u001b[43m\u001b[49m\u001b[43m)\u001b[49m\n\u001b[1;32m    133\u001b[0m columns_requested \u001b[38;5;241m=\u001b[39m {\u001b[38;5;124m\"\u001b[39m\u001b[38;5;124mdataset_id\u001b[39m\u001b[38;5;124m\"\u001b[39m, \u001b[38;5;124m\"\u001b[39m\u001b[38;5;124mrun\u001b[39m\u001b[38;5;124m\"\u001b[39m, \u001b[38;5;124m\"\u001b[39m\u001b[38;5;124mingest_date\u001b[39m\u001b[38;5;124m\"\u001b[39m} \u001b[38;5;28;01mif\u001b[39;00m isResult \u001b[38;5;28;01melse\u001b[39;00m \u001b[38;5;28mfrozenset\u001b[39m()\n\u001b[1;32m    134\u001b[0m \u001b[38;5;28;01mif\u001b[39;00m \u001b[38;5;129;01mnot\u001b[39;00m collection_records:\n",
      "File \u001b[0;32m/opt/lsst/software/stack/stack/miniconda3-py38_4.9.2-6.0.0/Linux64/daf_butler/gef4fbc5b3d+7fe1ab1564/python/lsst/daf/butler/registry/queries/_query_backend.py:373\u001b[0m, in \u001b[0;36mQueryBackend.resolve_dataset_collections\u001b[0;34m(self, dataset_type, collections, governor_constraints, rejections, collection_types, allow_calibration_collections)\u001b[0m\n\u001b[1;32m    371\u001b[0m     collection_types \u001b[38;5;241m=\u001b[39m {CollectionType\u001b[38;5;241m.\u001b[39mRUN}\n\u001b[1;32m    372\u001b[0m explicit_collections \u001b[38;5;241m=\u001b[39m \u001b[38;5;28mfrozenset\u001b[39m(collections\u001b[38;5;241m.\u001b[39mstrings)\n\u001b[0;32m--> 373\u001b[0m matching_collection_records \u001b[38;5;241m=\u001b[39m \u001b[38;5;28;43mself\u001b[39;49m\u001b[38;5;241;43m.\u001b[39;49m\u001b[43mresolve_collection_wildcard\u001b[49m\u001b[43m(\u001b[49m\n\u001b[1;32m    374\u001b[0m \u001b[43m    \u001b[49m\u001b[43mcollections\u001b[49m\u001b[43m,\u001b[49m\u001b[43m \u001b[49m\u001b[43mcollection_types\u001b[49m\u001b[38;5;241;43m=\u001b[39;49m\u001b[43mcollection_types\u001b[49m\n\u001b[1;32m    375\u001b[0m \u001b[43m\u001b[49m\u001b[43m)\u001b[49m\n\u001b[1;32m    376\u001b[0m ((_, filtered_collection_records),) \u001b[38;5;241m=\u001b[39m \u001b[38;5;28mself\u001b[39m\u001b[38;5;241m.\u001b[39mfilter_dataset_collections(\n\u001b[1;32m    377\u001b[0m     [dataset_type],\n\u001b[1;32m    378\u001b[0m     matching_collection_records,\n\u001b[1;32m    379\u001b[0m     governor_constraints\u001b[38;5;241m=\u001b[39mgovernor_constraints,\n\u001b[1;32m    380\u001b[0m     rejections\u001b[38;5;241m=\u001b[39mrejections,\n\u001b[1;32m    381\u001b[0m )\u001b[38;5;241m.\u001b[39mitems()\n\u001b[1;32m    382\u001b[0m \u001b[38;5;28;01mif\u001b[39;00m \u001b[38;5;129;01mnot\u001b[39;00m allow_calibration_collections:\n",
      "File \u001b[0;32m/opt/lsst/software/stack/stack/miniconda3-py38_4.9.2-6.0.0/Linux64/daf_butler/gef4fbc5b3d+7fe1ab1564/python/lsst/daf/butler/registry/queries/_sql_query_backend.py:92\u001b[0m, in \u001b[0;36mSqlQueryBackend.resolve_collection_wildcard\u001b[0;34m(self, expression, collection_types, done, flatten_chains, include_chains)\u001b[0m\n\u001b[1;32m     82\u001b[0m \u001b[38;5;28;01mdef\u001b[39;00m \u001b[38;5;21mresolve_collection_wildcard\u001b[39m(\n\u001b[1;32m     83\u001b[0m     \u001b[38;5;28mself\u001b[39m,\n\u001b[1;32m     84\u001b[0m     expression: Any,\n\u001b[0;32m   (...)\u001b[0m\n\u001b[1;32m     90\u001b[0m ) \u001b[38;5;241m-\u001b[39m\u001b[38;5;241m>\u001b[39m \u001b[38;5;28mlist\u001b[39m[CollectionRecord]:\n\u001b[1;32m     91\u001b[0m     \u001b[38;5;66;03m# Docstring inherited.\u001b[39;00m\n\u001b[0;32m---> 92\u001b[0m     \u001b[38;5;28;01mreturn\u001b[39;00m \u001b[38;5;28;43mself\u001b[39;49m\u001b[38;5;241;43m.\u001b[39;49m\u001b[43m_managers\u001b[49m\u001b[38;5;241;43m.\u001b[39;49m\u001b[43mcollections\u001b[49m\u001b[38;5;241;43m.\u001b[39;49m\u001b[43mresolve_wildcard\u001b[49m\u001b[43m(\u001b[49m\n\u001b[1;32m     93\u001b[0m \u001b[43m        \u001b[49m\u001b[43mexpression\u001b[49m\u001b[43m,\u001b[49m\n\u001b[1;32m     94\u001b[0m \u001b[43m        \u001b[49m\u001b[43mcollection_types\u001b[49m\u001b[38;5;241;43m=\u001b[39;49m\u001b[43mcollection_types\u001b[49m\u001b[43m,\u001b[49m\n\u001b[1;32m     95\u001b[0m \u001b[43m        \u001b[49m\u001b[43mdone\u001b[49m\u001b[38;5;241;43m=\u001b[39;49m\u001b[43mdone\u001b[49m\u001b[43m,\u001b[49m\n\u001b[1;32m     96\u001b[0m \u001b[43m        \u001b[49m\u001b[43mflatten_chains\u001b[49m\u001b[38;5;241;43m=\u001b[39;49m\u001b[43mflatten_chains\u001b[49m\u001b[43m,\u001b[49m\n\u001b[1;32m     97\u001b[0m \u001b[43m        \u001b[49m\u001b[43minclude_chains\u001b[49m\u001b[38;5;241;43m=\u001b[39;49m\u001b[43minclude_chains\u001b[49m\u001b[43m,\u001b[49m\n\u001b[1;32m     98\u001b[0m \u001b[43m    \u001b[49m\u001b[43m)\u001b[49m\n",
      "File \u001b[0;32m/opt/lsst/software/stack/stack/miniconda3-py38_4.9.2-6.0.0/Linux64/daf_butler/gef4fbc5b3d+7fe1ab1564/python/lsst/daf/butler/registry/collections/_base.py:497\u001b[0m, in \u001b[0;36mDefaultCollectionManager.resolve_wildcard\u001b[0;34m(self, wildcard, collection_types, done, flatten_chains, include_chains)\u001b[0m\n\u001b[1;32m    495\u001b[0m     \u001b[38;5;28;01mreturn\u001b[39;00m result\n\u001b[1;32m    496\u001b[0m \u001b[38;5;28;01mfor\u001b[39;00m name \u001b[38;5;129;01min\u001b[39;00m wildcard\u001b[38;5;241m.\u001b[39mstrings:\n\u001b[0;32m--> 497\u001b[0m     result\u001b[38;5;241m.\u001b[39mextend(resolve_nested(\u001b[38;5;28;43mself\u001b[39;49m\u001b[38;5;241;43m.\u001b[39;49m\u001b[43mfind\u001b[49m\u001b[43m(\u001b[49m\u001b[43mname\u001b[49m\u001b[43m)\u001b[49m, done))\n\u001b[1;32m    498\u001b[0m \u001b[38;5;28;01mif\u001b[39;00m wildcard\u001b[38;5;241m.\u001b[39mpatterns:\n\u001b[1;32m    499\u001b[0m     \u001b[38;5;28;01mfor\u001b[39;00m record \u001b[38;5;129;01min\u001b[39;00m \u001b[38;5;28mself\u001b[39m\u001b[38;5;241m.\u001b[39m_records\u001b[38;5;241m.\u001b[39mvalues():\n",
      "File \u001b[0;32m/opt/lsst/software/stack/stack/miniconda3-py38_4.9.2-6.0.0/Linux64/daf_butler/gef4fbc5b3d+7fe1ab1564/python/lsst/daf/butler/registry/collections/_base.py:451\u001b[0m, in \u001b[0;36mDefaultCollectionManager.find\u001b[0;34m(self, name)\u001b[0m\n\u001b[1;32m    449\u001b[0m result \u001b[38;5;241m=\u001b[39m \u001b[38;5;28mself\u001b[39m\u001b[38;5;241m.\u001b[39m_getByName(name)\n\u001b[1;32m    450\u001b[0m \u001b[38;5;28;01mif\u001b[39;00m result \u001b[38;5;129;01mis\u001b[39;00m \u001b[38;5;28;01mNone\u001b[39;00m:\n\u001b[0;32m--> 451\u001b[0m     \u001b[38;5;28;01mraise\u001b[39;00m MissingCollectionError(\u001b[38;5;124mf\u001b[39m\u001b[38;5;124m\"\u001b[39m\u001b[38;5;124mNo collection with name \u001b[39m\u001b[38;5;124m'\u001b[39m\u001b[38;5;132;01m{\u001b[39;00mname\u001b[38;5;132;01m}\u001b[39;00m\u001b[38;5;124m'\u001b[39m\u001b[38;5;124m found.\u001b[39m\u001b[38;5;124m\"\u001b[39m)\n\u001b[1;32m    452\u001b[0m \u001b[38;5;28;01mreturn\u001b[39;00m result\n",
      "\u001b[0;31mMissingCollectionError\u001b[0m: No collection with name 'u/dagoret/BPS_manyspectro_v99' found."
     ]
    }
   ],
   "source": [
    "list(registry.queryDatasets(\"*spec*\", collections=[my_collection]))[:10]"
   ]
  },
  {
   "cell_type": "code",
   "execution_count": null,
   "id": "24cdad60-b8e0-45a9-ad14-b0f209a4c87a",
   "metadata": {
    "execution": {
     "iopub.status.busy": "2023-07-21T10:06:55.169572Z",
     "iopub.status.idle": "2023-07-21T10:06:55.169761Z",
     "shell.execute_reply": "2023-07-21T10:06:55.169672Z",
     "shell.execute_reply.started": "2023-07-21T10:06:55.169663Z"
    },
    "tags": []
   },
   "outputs": [],
   "source": [
    "print(butler.registry.dimensions[\"exposure\"].RecordClass.fields)"
   ]
  },
  {
   "cell_type": "code",
   "execution_count": null,
   "id": "51a823f1-51db-4712-80cd-0e30427be9d9",
   "metadata": {
    "execution": {
     "iopub.status.busy": "2023-07-21T10:06:55.170412Z",
     "iopub.status.idle": "2023-07-21T10:06:55.170598Z",
     "shell.execute_reply": "2023-07-21T10:06:55.170506Z",
     "shell.execute_reply.started": "2023-07-21T10:06:55.170498Z"
    },
    "tags": []
   },
   "outputs": [],
   "source": [
    "where_clause = f\"instrument=\\'LATISS\\' AND exposure.day_obs={DATE} AND exposure.science_program=\\'spec\\'\""
   ]
  },
  {
   "cell_type": "code",
   "execution_count": null,
   "id": "9b62ba47-9b66-4613-b7b6-1ebc517a861d",
   "metadata": {
    "execution": {
     "iopub.status.busy": "2023-07-21T10:06:55.171238Z",
     "iopub.status.idle": "2023-07-21T10:06:55.171413Z",
     "shell.execute_reply": "2023-07-21T10:06:55.171329Z",
     "shell.execute_reply.started": "2023-07-21T10:06:55.171321Z"
    },
    "tags": []
   },
   "outputs": [],
   "source": [
    "where_clause"
   ]
  },
  {
   "cell_type": "code",
   "execution_count": null,
   "id": "08a666b2-7675-436e-9078-997db403e06e",
   "metadata": {
    "execution": {
     "iopub.status.busy": "2023-07-21T10:06:55.172105Z",
     "iopub.status.idle": "2023-07-21T10:06:55.172274Z",
     "shell.execute_reply": "2023-07-21T10:06:55.172196Z",
     "shell.execute_reply.started": "2023-07-21T10:06:55.172188Z"
    },
    "tags": []
   },
   "outputs": [],
   "source": [
    "results_exposures = registry.queryDimensionRecords('exposure',datasets=\"raw\",collections = 'LATISS/raw/all',where=where_clause)"
   ]
  },
  {
   "cell_type": "code",
   "execution_count": null,
   "id": "61afca92-62e2-48a9-9f4a-cfb85cafb8b6",
   "metadata": {
    "execution": {
     "iopub.status.busy": "2023-07-21T10:06:55.172827Z",
     "iopub.status.idle": "2023-07-21T10:06:55.172999Z",
     "shell.execute_reply": "2023-07-21T10:06:55.172920Z",
     "shell.execute_reply.started": "2023-07-21T10:06:55.172912Z"
    },
    "tags": []
   },
   "outputs": [],
   "source": [
    "#results_exposures = registry.queryDimensionRecords('exposure',datasets=\"raw\",collections = 'LATISS/raw/all',where= \"instrument='LATISS' AND exposure.day_obs=20230718 AND exposure.science_program='spec'\")"
   ]
  },
  {
   "cell_type": "code",
   "execution_count": null,
   "id": "61eb8760-28a8-4393-a1c4-d6ac6f5db51c",
   "metadata": {
    "execution": {
     "iopub.status.busy": "2023-07-21T10:06:55.173543Z",
     "iopub.status.idle": "2023-07-21T10:06:55.173712Z",
     "shell.execute_reply": "2023-07-21T10:06:55.173634Z",
     "shell.execute_reply.started": "2023-07-21T10:06:55.173626Z"
    },
    "tags": []
   },
   "outputs": [],
   "source": [
    "list_exposures_attrib = list(results_exposures)\n",
    "dict_exposure = {}\n",
    "for element in list_exposures_attrib:\n",
    "    element_id = element.id\n",
    "    #print(f'--------- {element_id} -------')\n",
    "    #print(element.toDict())\n",
    "    dict_exposure[element_id] = element"
   ]
  },
  {
   "cell_type": "code",
   "execution_count": null,
   "id": "1d6a9ce4-75f0-4c26-8579-55d99d61c44d",
   "metadata": {
    "execution": {
     "iopub.status.busy": "2023-07-21T10:06:55.174065Z",
     "iopub.status.idle": "2023-07-21T10:06:55.174223Z",
     "shell.execute_reply": "2023-07-21T10:06:55.174150Z",
     "shell.execute_reply.started": "2023-07-21T10:06:55.174142Z"
    },
    "tags": []
   },
   "outputs": [],
   "source": [
    "#dict_exposure"
   ]
  },
  {
   "cell_type": "markdown",
   "id": "c30cd39d-0677-43f7-b043-c0b9ae126c73",
   "metadata": {},
   "source": [
    "### Spectractor"
   ]
  },
  {
   "cell_type": "code",
   "execution_count": null,
   "id": "1dc181f4-d44a-48c4-8e8a-86c35c0dcc98",
   "metadata": {
    "execution": {
     "iopub.status.busy": "2023-07-21T10:06:55.174957Z",
     "iopub.status.idle": "2023-07-21T10:06:55.175130Z",
     "shell.execute_reply": "2023-07-21T10:06:55.175052Z",
     "shell.execute_reply.started": "2023-07-21T10:06:55.175043Z"
    },
    "tags": []
   },
   "outputs": [],
   "source": [
    "if MODE_REBIN == 2:\n",
    "    configmode = \"PSF2DFFM_REBIN2\"\n",
    "else:\n",
    "    configmode = \"PSF2DFFM_REBIN1\"\n",
    "\n",
    "specver=\"specV2.5\""
   ]
  },
  {
   "cell_type": "markdown",
   "id": "740be8a3-fcd9-4f42-b0ec-8067ad2bc2ae",
   "metadata": {},
   "source": [
    "https://www.pythonforthelab.com/blog/how-to-use-hdf5-files-in-python/"
   ]
  },
  {
   "cell_type": "code",
   "execution_count": null,
   "id": "6c20db62-9cda-42c7-85e8-54e33404fc56",
   "metadata": {
    "execution": {
     "iopub.status.busy": "2023-07-21T10:06:55.175880Z",
     "iopub.status.idle": "2023-07-21T10:06:55.176116Z",
     "shell.execute_reply": "2023-07-21T10:06:55.176013Z",
     "shell.execute_reply.started": "2023-07-21T10:06:55.176004Z"
    },
    "tags": []
   },
   "outputs": [],
   "source": [
    "#summary_file = f\"summaryspectra_{DATE}-{filterdispersername}-{configmode}-oga.csv\"\n",
    "summary_file = f\"summaryspectra_{DATE}-{filterdispersername}-{configmode}-{specver}-oga.csv\"\n",
    "output_file_h5 = f\"allspectra_{DATE}-{filterdispersername}-{configmode}-{specver}-oga.hdf5\""
   ]
  },
  {
   "cell_type": "markdown",
   "id": "20dbb8da-3a08-4b4f-9437-4bf7f28c1782",
   "metadata": {},
   "source": [
    "### The collection"
   ]
  },
  {
   "cell_type": "code",
   "execution_count": null,
   "id": "9629ea29-8ab4-4062-aed1-e16d62dc90c4",
   "metadata": {
    "execution": {
     "iopub.status.busy": "2023-07-21T10:06:55.176592Z",
     "iopub.status.idle": "2023-07-21T10:06:55.176760Z",
     "shell.execute_reply": "2023-07-21T10:06:55.176683Z",
     "shell.execute_reply.started": "2023-07-21T10:06:55.176675Z"
    },
    "tags": []
   },
   "outputs": [],
   "source": [
    "datasetRefs = registry.queryDatasets(datasetType='spectractorSpectrum', collections=my_collection, where= \"instrument='LATISS'\")"
   ]
  },
  {
   "cell_type": "code",
   "execution_count": null,
   "id": "2f008879-ecc4-4b86-9b24-0641fb4301cd",
   "metadata": {
    "execution": {
     "iopub.status.busy": "2023-07-21T10:06:55.177368Z",
     "iopub.status.idle": "2023-07-21T10:06:55.177622Z",
     "shell.execute_reply": "2023-07-21T10:06:55.177539Z",
     "shell.execute_reply.started": "2023-07-21T10:06:55.177530Z"
    }
   },
   "outputs": [],
   "source": [
    "# following line not possible in OGA\n",
    "#butler = butlerUtils.makeDefaultLatissButler(extraCollections=[my_collection])"
   ]
  },
  {
   "cell_type": "code",
   "execution_count": null,
   "id": "68381069-9717-4616-ae6c-f1e6561dbddf",
   "metadata": {
    "execution": {
     "iopub.status.busy": "2023-07-21T10:06:55.178046Z",
     "iopub.status.idle": "2023-07-21T10:06:55.178206Z",
     "shell.execute_reply": "2023-07-21T10:06:55.178131Z",
     "shell.execute_reply.started": "2023-07-21T10:06:55.178124Z"
    },
    "tags": []
   },
   "outputs": [],
   "source": [
    "if FLAG_MOUNT_ERRORS:\n",
    "    df_mounterrors = pd.read_csv(\"mountErrors.csv\")\n",
    "    df=df_mounterrors[df_mounterrors[\"date_obs\"] == DATE ]\n",
    "    if len(df) == 0:\n",
    "        FLAG_MOUNT_ERRORS = False\n",
    "        "
   ]
  },
  {
   "cell_type": "markdown",
   "id": "432e82a4-5617-48b3-a5bb-1f2c550c8525",
   "metadata": {},
   "source": [
    "## Loop on exposures"
   ]
  },
  {
   "cell_type": "code",
   "execution_count": null,
   "id": "72d890df-634d-4543-ba8e-c29c0621ac4d",
   "metadata": {
    "execution": {
     "iopub.status.busy": "2023-07-21T10:06:55.178791Z",
     "iopub.status.idle": "2023-07-21T10:06:55.178967Z",
     "shell.execute_reply": "2023-07-21T10:06:55.178882Z",
     "shell.execute_reply.started": "2023-07-21T10:06:55.178874Z"
    },
    "tags": []
   },
   "outputs": [],
   "source": [
    "#outfile.close()"
   ]
  },
  {
   "cell_type": "code",
   "execution_count": null,
   "id": "979b03d5-e54c-4d21-a848-98b820df1d16",
   "metadata": {
    "execution": {
     "iopub.status.busy": "2023-07-21T10:06:55.179549Z",
     "iopub.status.idle": "2023-07-21T10:06:55.179741Z",
     "shell.execute_reply": "2023-07-21T10:06:55.179653Z",
     "shell.execute_reply.started": "2023-07-21T10:06:55.179644Z"
    },
    "tags": []
   },
   "outputs": [],
   "source": [
    "all_dataId = []     # full data id\n",
    "all_spec = []       # spectra\n",
    "all_exposures = []  # exposure number\n",
    "all_num = []        # sequence numbers\n",
    "all_h5group = []\n",
    "\n",
    "hf_outfile =  h5py.File(output_file_h5, 'w') \n",
    "  \n",
    "\n",
    "for i, ref in enumerate(datasetRefs):\n",
    "\n",
    "    print(f\"============= ({i}) ============datasetType = spectraction ============================================\")\n",
    "    print(\"fullId..................:\",ref.dataId.full)\n",
    "    print(\"visit...................:\",ref.dataId[\"visit\"])\n",
    "    print(\"band....................:\",ref.dataId[\"band\"])\n",
    "    print(\"physical filter.........:\",ref.dataId[\"physical_filter\"])\n",
    "    print(\"run.....................:\",ref.run)\n",
    "    \n",
    "    #through old runs\n",
    "    date_of_run = int(ref.run.split(\"/\")[-1].split(\"T\")[0])\n",
    "    \n",
    " \n",
    "    \n",
    "    \n",
    "    the_exposure = ref.dataId[\"visit\"]\n",
    "    the_day_obs = ref.dataId[\"visit\"]//100_000\n",
    "    the_seq_num = ref.dataId[\"visit\"]- the_day_obs*100_000    \n",
    "    the_dataId = {'day_obs': the_day_obs,'seq_num':the_seq_num,'detector':0}\n",
    "    print(the_dataId)\n",
    "    \n",
    "    \n",
    "    #print(dict_exposure[the_exposure])\n",
    "    \n",
    "    the_exposure_key = str(the_exposure)\n",
    "    \n",
    "    if the_exposure not in all_exposures:\n",
    "        g = hf_outfile.create_group(the_exposure_key)\n",
    "        all_h5group.append(g) \n",
    "    else:\n",
    "        print(f\">>>>>>  already existing key {the_exposure_key} Skip it !!! \")\n",
    "        the_exposure_key = the_exposure_key + \"_b\"\n",
    "        continue\n",
    "   \n",
    "    \n",
    "    # retrieve the spectrum from Butler\n",
    "    #spec       = butler.get('spectraction',the_dataId)\n",
    "    spec = butler.get('spectractorSpectrum', visit=the_exposure, detector=0, collections=my_collection, instrument='LATISS')\n",
    "    \n",
    "    # save in collection lists\n",
    "    all_dataId.append(the_dataId) \n",
    "    all_exposures.append(the_exposure)\n",
    "    all_spec.append(spec)\n",
    "    all_num.append(the_seq_num)\n",
    "    "
   ]
  },
  {
   "cell_type": "code",
   "execution_count": null,
   "id": "165ec0ab-fef7-4346-a1cf-28f4b59e5259",
   "metadata": {
    "execution": {
     "iopub.status.busy": "2023-07-21T10:06:55.180408Z",
     "iopub.status.idle": "2023-07-21T10:06:55.180593Z",
     "shell.execute_reply": "2023-07-21T10:06:55.180502Z",
     "shell.execute_reply.started": "2023-07-21T10:06:55.180494Z"
    },
    "tags": []
   },
   "outputs": [],
   "source": [
    "hf_outfile.keys()"
   ]
  },
  {
   "cell_type": "code",
   "execution_count": null,
   "id": "b0082a68-6a17-4de8-837b-b1986d3dd093",
   "metadata": {
    "execution": {
     "iopub.status.busy": "2023-07-21T10:06:55.180965Z",
     "iopub.status.idle": "2023-07-21T10:06:55.181125Z",
     "shell.execute_reply": "2023-07-21T10:06:55.181051Z",
     "shell.execute_reply.started": "2023-07-21T10:06:55.181044Z"
    },
    "tags": []
   },
   "outputs": [],
   "source": [
    "index = 0\n",
    "\n",
    "spec = all_spec[index]"
   ]
  },
  {
   "cell_type": "code",
   "execution_count": null,
   "id": "dabeb92d-e7ea-41bd-9afe-14f4ec4ca365",
   "metadata": {
    "execution": {
     "iopub.status.busy": "2023-07-21T10:06:55.181710Z",
     "iopub.status.idle": "2023-07-21T10:06:55.181871Z",
     "shell.execute_reply": "2023-07-21T10:06:55.181797Z",
     "shell.execute_reply.started": "2023-07-21T10:06:55.181790Z"
    },
    "tags": []
   },
   "outputs": [],
   "source": [
    "the_h5group = all_h5group[index] "
   ]
  },
  {
   "cell_type": "code",
   "execution_count": null,
   "id": "3cc31921-f813-4204-8efb-5d9cba13e785",
   "metadata": {
    "execution": {
     "iopub.status.busy": "2023-07-21T10:06:55.182309Z",
     "iopub.status.idle": "2023-07-21T10:06:55.182466Z",
     "shell.execute_reply": "2023-07-21T10:06:55.182393Z",
     "shell.execute_reply.started": "2023-07-21T10:06:55.182385Z"
    },
    "tags": []
   },
   "outputs": [],
   "source": [
    "d = the_h5group.create_dataset('airmass', data=spec.airmass)"
   ]
  },
  {
   "cell_type": "code",
   "execution_count": null,
   "id": "24c8bcad-8c18-4936-b3d3-74acd63ad092",
   "metadata": {
    "execution": {
     "iopub.status.busy": "2023-07-21T10:06:55.182811Z",
     "iopub.status.idle": "2023-07-21T10:06:55.183018Z",
     "shell.execute_reply": "2023-07-21T10:06:55.182941Z",
     "shell.execute_reply.started": "2023-07-21T10:06:55.182933Z"
    },
    "tags": []
   },
   "outputs": [],
   "source": [
    "spec.airmass"
   ]
  },
  {
   "cell_type": "code",
   "execution_count": null,
   "id": "a3672116-7048-4d01-9623-b84dc877d2c3",
   "metadata": {
    "execution": {
     "iopub.status.busy": "2023-07-21T10:06:55.183626Z",
     "iopub.status.idle": "2023-07-21T10:06:55.183788Z",
     "shell.execute_reply": "2023-07-21T10:06:55.183713Z",
     "shell.execute_reply.started": "2023-07-21T10:06:55.183705Z"
    },
    "tags": []
   },
   "outputs": [],
   "source": [
    "spec.date_obs"
   ]
  },
  {
   "cell_type": "code",
   "execution_count": null,
   "id": "c512a035-04b0-44b4-926a-5c5e51c0dc3b",
   "metadata": {
    "execution": {
     "iopub.status.busy": "2023-07-21T10:06:55.184161Z",
     "iopub.status.idle": "2023-07-21T10:06:55.184391Z",
     "shell.execute_reply": "2023-07-21T10:06:55.184314Z",
     "shell.execute_reply.started": "2023-07-21T10:06:55.184306Z"
    },
    "tags": []
   },
   "outputs": [],
   "source": [
    "spec.cov_matrix.shape"
   ]
  },
  {
   "cell_type": "code",
   "execution_count": null,
   "id": "fa2be0b1-4419-470e-8fcb-02eeb06d7e76",
   "metadata": {
    "execution": {
     "iopub.status.busy": "2023-07-21T10:06:55.184785Z",
     "iopub.status.idle": "2023-07-21T10:06:55.184949Z",
     "shell.execute_reply": "2023-07-21T10:06:55.184871Z",
     "shell.execute_reply.started": "2023-07-21T10:06:55.184863Z"
    },
    "tags": []
   },
   "outputs": [],
   "source": [
    "spec.lambdas.shape"
   ]
  },
  {
   "cell_type": "code",
   "execution_count": null,
   "id": "dd649f12-094a-49d6-bbfd-0dc4074eed5e",
   "metadata": {
    "execution": {
     "iopub.status.busy": "2023-07-21T10:06:55.185523Z",
     "iopub.status.idle": "2023-07-21T10:06:55.185687Z",
     "shell.execute_reply": "2023-07-21T10:06:55.185612Z",
     "shell.execute_reply.started": "2023-07-21T10:06:55.185605Z"
    },
    "tags": []
   },
   "outputs": [],
   "source": [
    "spec.data_next_order.shape"
   ]
  },
  {
   "cell_type": "code",
   "execution_count": null,
   "id": "4eb86272-d1e8-4c47-b82b-5aab15071e2f",
   "metadata": {
    "execution": {
     "iopub.status.busy": "2023-07-21T10:06:55.186172Z",
     "iopub.status.idle": "2023-07-21T10:06:55.186332Z",
     "shell.execute_reply": "2023-07-21T10:06:55.186258Z",
     "shell.execute_reply.started": "2023-07-21T10:06:55.186250Z"
    },
    "tags": []
   },
   "outputs": [],
   "source": [
    "#spec.chromatic_psf.load_table()\n",
    "spec.chromatic_psf.table"
   ]
  },
  {
   "cell_type": "code",
   "execution_count": null,
   "id": "a8e131a3-1693-4778-a078-c19775948182",
   "metadata": {
    "execution": {
     "iopub.status.busy": "2023-07-21T10:06:55.186794Z",
     "iopub.status.idle": "2023-07-21T10:06:55.186960Z",
     "shell.execute_reply": "2023-07-21T10:06:55.186883Z",
     "shell.execute_reply.started": "2023-07-21T10:06:55.186875Z"
    },
    "tags": []
   },
   "outputs": [],
   "source": [
    "spec.spectrogram_saturation"
   ]
  },
  {
   "cell_type": "code",
   "execution_count": null,
   "id": "a87120fc-75b7-4963-88b8-e498ec001488",
   "metadata": {
    "execution": {
     "iopub.status.busy": "2023-07-21T10:06:55.187506Z",
     "iopub.status.idle": "2023-07-21T10:06:55.187676Z",
     "shell.execute_reply": "2023-07-21T10:06:55.187599Z",
     "shell.execute_reply.started": "2023-07-21T10:06:55.187591Z"
    },
    "tags": []
   },
   "outputs": [],
   "source": [
    "spec.chromatic_psf.plot_summary()"
   ]
  },
  {
   "cell_type": "code",
   "execution_count": null,
   "id": "cffbfd6f-7e3f-4e19-ba9d-c92b659fc2d9",
   "metadata": {
    "execution": {
     "iopub.status.busy": "2023-07-21T10:06:55.188242Z",
     "iopub.status.idle": "2023-07-21T10:06:55.188400Z",
     "shell.execute_reply": "2023-07-21T10:06:55.188326Z",
     "shell.execute_reply.started": "2023-07-21T10:06:55.188318Z"
    },
    "tags": []
   },
   "outputs": [],
   "source": [
    "def DumpSpectrum(spec):\n",
    "    print(\"--------------------------------------------\")\n",
    "    print(\"spec.target.label\\t\",spec.target.label)\n",
    "    print(\"spec.filter_label\\t\",spec.filter_label)\n",
    "    print(\"spec.airmass\\t\",spec.airmass)\n",
    "    print(\"spec.date_obs\\t\",spec.date_obs)\n",
    "    print(\"spec.temperature\\t\",spec.temperature)\n",
    "    print(\"spec.pressure\\t\",spec.pressure)\n",
    "    print(\"spec.humidity\\t\",spec.humidity)    \n",
    "    #print(\"spec.ra\\t\",spec.ra)\n",
    "    print(\"spec.dec\\t\",spec.dec)\n",
    "    print(\"spec.hour_angle\\t\",spec.hour_angle)\n",
    "    print(\"spec.parallactic_angle\\t\",spec.parallactic_angle)\n",
    "    print(\"spec.camera_angle\\t\", spec.camera_angle)\n",
    "    print(\"--------------------------------------------\")\n",
    "    print(\"spec.order\\t\",spec.order)\n",
    "    print(\"spec.lambdas\\t\",spec.lambdas)\n",
    "    print(\"spec.data\\t\",spec.data)\n",
    "    print(\"spec.err\\t\",spec.err)\n",
    "    print(\"spec.covmatrix\\t\",spec.cov_matrix)\n",
    "    print(\"--------------------------------------------\")\n",
    "    print(\"spec.data_next_order\\t\",spec.data_next_order)\n",
    "    print(\"spec.err_next_order\\t\",spec.err_next_order)"
   ]
  },
  {
   "cell_type": "code",
   "execution_count": null,
   "id": "e049465b-1a81-4514-967b-4fe85f3df9b0",
   "metadata": {
    "execution": {
     "iopub.status.busy": "2023-07-21T10:06:55.188950Z",
     "iopub.status.idle": "2023-07-21T10:06:55.189115Z",
     "shell.execute_reply": "2023-07-21T10:06:55.189038Z",
     "shell.execute_reply.started": "2023-07-21T10:06:55.189030Z"
    },
    "tags": []
   },
   "outputs": [],
   "source": [
    "def AddDataSetsInGroup(spec,h5group):\n",
    "  \n",
    "    #spectrum\n",
    "\n",
    "    h5group.attrs['spec_target_label'] = spec.target.label\n",
    "    h5group.attrs['spec_filter_label'] = spec.filter_label\n",
    "    h5group.attrs[\"spec_date_obs\"] = spec.date_obs\n",
    "    h5group.attrs[\"spec_airmass\"] = spec.airmass \n",
    "    h5group.attrs[\"spec_temperature\"] = spec.temperature\n",
    "    h5group.attrs[\"spec_pressure\"] = spec.pressure\n",
    "    h5group.attrs[\"spec_humidity\"] = spec.humidity\n",
    "    h5group.attrs[\"spec_dec\"] = spec.dec\n",
    "    h5group.attrs[\"spec_hour_angle\"] = spec.hour_angle\n",
    "    h5group.attrs[\"spec_parallactic_angle\"] = spec.parallactic_angle\n",
    "    h5group.attrs[\"spec_camera_angle\"] = spec.camera_angle\n",
    "    h5group.attrs[\"spec_order\"] = spec.order\n",
    "    \n",
    "    \n",
    "    d = h5group.create_dataset(\"spec_lambdas\",data=spec.lambdas,compression=\"gzip\", compression_opts=9)\n",
    "    d = h5group.create_dataset(\"spec_data\",data=spec.data,compression=\"gzip\", compression_opts=9)\n",
    "    d = h5group.create_dataset(\"spec_err\",data=spec.err,compression=\"gzip\", compression_opts=9)\n",
    "    d = h5group.create_dataset(\"spec_covmatrix\",data=spec.cov_matrix,compression=\"gzip\", compression_opts=9)\n",
    "    d = h5group.create_dataset(\"spec_data_next_order\",data=spec.data_next_order,compression=\"gzip\", compression_opts=9)\n",
    "    d = h5group.create_dataset(\"spec_err_next_order\",data=spec.err_next_order,compression=\"gzip\", compression_opts=9)\n",
    "    \n",
    "    # spectrogram\n",
    "    \n",
    "    d = h5group.create_dataset(\"spec_spectrogram\",data=spec.spectrogram,compression=\"gzip\", compression_opts=9)\n",
    "    d = h5group.create_dataset(\"spec_spectrogram_bgd\",data=spec.spectrogram_bgd,compression=\"gzip\", compression_opts=9)\n",
    "    d = h5group.create_dataset(\"spec_spectrogram_bgd_rms\",data=spec.spectrogram_bgd_rms,compression=\"gzip\", compression_opts=9)\n",
    "    d = h5group.create_dataset(\"spec_spectrogram_err\",data=spec.spectrogram_err,compression=\"gzip\", compression_opts=9)\n",
    "    d = h5group.create_dataset(\"spec_spectrogram_residuals\",data=spec.spectrogram_residuals,compression=\"gzip\", compression_opts=9)\n",
    "    d = h5group.create_dataset(\"spec_spectrogram_fit\",data=spec.spectrogram_fit,compression=\"gzip\", compression_opts=9)\n",
    "    \n",
    "    \n",
    "    h5group.attrs[\"spec_spectrogram_x0\"]=spec.spectrogram_x0\n",
    "    h5group.attrs[\"spec_spectrogram_y0\"]=spec.spectrogram_y0\n",
    "    h5group.attrs[\"spec_spectrogram_xmin\"]=spec.spectrogram_xmin\n",
    "    h5group.attrs[\"spec_spectrogram_xmax\"]=spec.spectrogram_xmax\n",
    "    h5group.attrs[\"spec_spectrogram_ymin\"]=spec.spectrogram_ymin\n",
    "    h5group.attrs[\"spec_spectrogram_ymax\"]=spec.spectrogram_ymax\n",
    "    h5group.attrs[\"spec_spectrogram_deg\"]=spec.spectrogram_deg\n",
    "    h5group.attrs[\"spec_spectrogram_saturation\"]=spec.spectrogram_saturation      \n",
    "    h5group.attrs[\"spec_spectrogram_Nx\"]=spec.spectrogram_Nx\n",
    "    h5group.attrs[\"spec_spectrogram_Ny\"]=spec.spectrogram_Ny\n",
    "    \n",
    "    \n",
    "    # header\n",
    "    \n",
    "    h5group.attrs[\"spec_header_target\"]=spec.header[\"TARGET\"]\n",
    "    h5group.attrs[\"spec_header_redshift\"]=spec.header[\"REDSHIFT\"]\n",
    "    h5group.attrs['spec_header_grating']=spec.header[\"GRATING\"]\n",
    "    h5group.attrs[\"spec_header_rotangle\"]=spec.header[\"ROTANGLE\"]\n",
    "    h5group.attrs[\"spec_header_d2ccd\"]=spec.header[\"D2CCD\"]\n",
    "    h5group.attrs[\"spec_header_lshift\"]=spec.header[\"LSHIFT\"]\n",
    "    h5group.attrs[\"spec_header_parangle\"]=spec.header[\"PARANGLE\"]\n",
    "    h5group.attrs[\"spec_header_targetx\"]=spec.header[\"TARGETX\"]\n",
    "    h5group.attrs[\"spec_header_targety\"]=spec.header[\"TARGETY\"]\n",
    "    h5group.attrs[\"spec_header_lbda_ref\"]=spec.header[\"LBDA_REF\"]\n",
    "    h5group.attrs[\"spec_header_pixshift\"]=spec.header[\"PIXSHIFT\"]\n",
    "    h5group.attrs[\"spec_header_psf_reg\"]=spec.header[\"PSF_REG\"]\n",
    "    h5group.attrs[\"spec_header_trace_r\"]=spec.header[\"TRACE_R\"]   \n",
    "    h5group.attrs[\"spec_header_chi2_fit\"]=spec.header[\"CHI2_FIT\"]   \n",
    "    h5group.attrs[\"spec_header_a2_fit\"]=spec.header[\"A2_FIT\"]\n",
    "    h5group.attrs[\"spec_header_am_fit\"]=spec.header[\"AM_FIT\"]\n",
    "    h5group.attrs[\"spec_header_meanfwhm\"]=spec.header[\"MEANFWHM\"]\n",
    "    h5group.attrs[\"spec_header_version\"]=spec.header[\"VERSION\"]\n",
    "    h5group.attrs[\"spec_header_rebin\"]=spec.header[\"REBIN\"]\n",
    "    h5group.attrs['spec_header_date-obs']=spec.header[\"DATE-OBS\"]\n",
    "    h5group.attrs[\"spec_header_exptime\"]=spec.header[\"EXPTIME\"]\n",
    "    h5group.attrs[\"spec_header_airmass\"]=spec.header[\"AIRMASS\"] \n",
    "    h5group.attrs[\"spec_header_dec\"]=spec.header[\"DEC\"]\n",
    "    h5group.attrs[\"spec_header_ha\"]=spec.header[\"HA\"]\n",
    "    h5group.attrs[\"spec_header_outtemp\"]=spec.header[\"OUTTEMP\"] \n",
    "    h5group.attrs[\"spec_header_outpress\"]=spec.header[\"OUTPRESS\"] \n",
    "    h5group.attrs[\"spec_header_outhum\"]=spec.header[\"OUTHUM\"]\n",
    "    h5group.attrs[\"spec_header_filter\"]=spec.header[\"FILTER\"]\n",
    "    h5group.attrs[\"spec_header_cam_rot\"]=spec.header[\"CAM_ROT\"] \n",
    "    h5group.attrs[\"spec_header_s_x0\"]=spec.header[\"S_X0\"]\n",
    "    h5group.attrs[\"spec_header_s_y0\"]=spec.header[\"S_Y0\"]\n",
    "    h5group.attrs[\"spec_header_s_xmin\"]=spec.header[\"S_XMIN\"]      \n",
    "    h5group.attrs[\"spec_header_s_xmax\"]=spec.header[\"S_XMAX\"]                                               \n",
    "    h5group.attrs[\"spec_header_s_ymin\"]=spec.header[\"S_YMIN\"]      \n",
    "    h5group.attrs[\"spec_header_s_ymax\"]=spec.header[\"S_YMAX\"]                                                                                                                  \n",
    "    h5group.attrs[\"spec_header_s_nx\"]=spec.header[\"S_NX\"]\n",
    "    h5group.attrs[\"spec_header_s_ny\"]=spec.header[\"S_NY\"]   \n",
    "    h5group.attrs[\"spec_header_s_dec\"]=spec.header[\"S_DEG\"]  \n",
    "    h5group.attrs[\"spec_header_s_sat\"]=spec.header[\"S_SAT\"]      \n",
    "                                               \n",
    "    "
   ]
  },
  {
   "cell_type": "code",
   "execution_count": null,
   "id": "42631555-6e10-41aa-8619-7c8d3dcc068a",
   "metadata": {
    "execution": {
     "iopub.status.busy": "2023-07-21T10:06:55.189617Z",
     "iopub.status.idle": "2023-07-21T10:06:55.189782Z",
     "shell.execute_reply": "2023-07-21T10:06:55.189705Z",
     "shell.execute_reply.started": "2023-07-21T10:06:55.189698Z"
    },
    "tags": []
   },
   "outputs": [],
   "source": [
    "def AddMountErrorsInGroup(h5group,az_rms,el_rms,rot_rms,image_az_rms,image_el_rms,image_rot_rms):\n",
    "    h5group.attrs[\"me_az_rms\"]=az_rms\n",
    "    h5group.attrs[\"me_el_rms\"]=el_rms\n",
    "    h5group.attrs[\"me_rot_rms\"]=rot_rms\n",
    "    h5group.attrs[\"me_image_az_rms\"]=image_az_rms\n",
    "    h5group.attrs[\"me_image_el_rms\"]=image_el_rms\n",
    "    h5group.attrs[\"me_image_rot_rms\"]=image_rot_rms\n",
    "        "
   ]
  },
  {
   "cell_type": "code",
   "execution_count": null,
   "id": "96a5a910-cd59-4a21-b06e-b9dd23a3bfb3",
   "metadata": {
    "execution": {
     "iopub.status.busy": "2023-07-21T10:06:55.190217Z",
     "iopub.status.idle": "2023-07-21T10:06:55.190377Z",
     "shell.execute_reply": "2023-07-21T10:06:55.190301Z",
     "shell.execute_reply.started": "2023-07-21T10:06:55.190293Z"
    }
   },
   "outputs": [],
   "source": [
    "def AddExposureInfoInGroup(expoinfo,h5group):\n",
    "    \"\"\"\n",
    "    Add the following informations to hdf5\n",
    "    {'instrument': 'LATISS', \n",
    "     'id': 2023072000256, \n",
    "     'physical_filter': 'empty~holo4_003', \n",
    "     'obs_id': 'AT_O_20230720_000256', \n",
    "     'exposure_time': 30.0, \n",
    "     'dark_time': 30.2367, \n",
    "     'observation_type': 'science', \n",
    "     'observation_reason': 'generic', \n",
    "     'day_obs': 20230720, \n",
    "     'seq_num': 256, \n",
    "     'seq_start': 256, \n",
    "     'seq_end': 256, \n",
    "     'group_name': '2023-07-21T02:37:11.700', \n",
    "     'group_id': 2698366317000000, \n",
    "     'target_name': 'HD185975', \n",
    "     'science_program': 'spec', \n",
    "     'tracking_ra': 307.76950795132393, \n",
    "     'tracking_dec': -87.4337852028312, \n",
    "     'sky_angle': 42.62309278535102, \n",
    "     'azimuth': 177.85543058634352, \n",
    "     'zenith_angle': 57.826045218956686, \n",
    "     'has_simulated': False, \n",
    "     'timespan': Timespan(begin=astropy.time.Time('2023-07-21 02:37:47.189004', scale='tai', format='iso'), end=astropy.time.Time('2023-07-21 02:38:17.426000', scale='tai', format='iso'))\n",
    "     }\n",
    "    \"\"\"\n",
    "    h5group.attrs[\"expo_instrument\"] = expoinfo.instrument\n",
    "    h5group.attrs[\"expo_id\"] = expoinfo.id\n",
    "    h5group.attrs[\"physical_filter\"] = expoinfo.physical_filter\n",
    "    h5group.attrs[\"obs_id\"] = expoinfo.obs_id\n",
    "    h5group.attrs[\"exposure_time\"] = expoinfo.exposure_time\n",
    "    h5group.attrs[\"dark_time\"] = expoinfo.dark_time\n",
    "    h5group.attrs[\"observation_type\"] = expoinfo.observation_type\n",
    "    h5group.attrs[\"observation_reason\"] = expoinfo.observation_reason\n",
    "    h5group.attrs[\"day_obs\"] = expoinfo.day_obs    \n",
    "    h5group.attrs[\"seq_num\"] = expoinfo.seq_num\n",
    "    h5group.attrs[\"group_name\"] = expoinfo.group_name\n",
    "    h5group.attrs[\"group_id\"] = expoinfo.group_id\n",
    "    h5group.attrs[\"target_name\"] = expoinfo.target_name\n",
    "    h5group.attrs[\"science_program\"] = expoinfo.science_program\n",
    "    h5group.attrs[\"tracking_ra\"] = expoinfo.tracking_ra\n",
    "    h5group.attrs[\"tracking_dec\"] = expoinfo.tracking_dec\n",
    "    h5group.attrs[\"sky_angle\"] = expoinfo.sky_angle\n",
    "    h5group.attrs[\"azimuth\"] = expoinfo.azimuth\n",
    "    h5group.attrs[\"zenith_angle\"] = expoinfo.zenith_angle\n",
    "    h5group.attrs[\"mjd\"] = Time(expoinfo.timespan.begin.to_string()).mjd\n",
    "    h5group.attrs[\"jd\"] = Time(expoinfo.timespan.begin.to_string()).jd\n",
    "\n",
    "    \n",
    "   "
   ]
  },
  {
   "cell_type": "code",
   "execution_count": null,
   "id": "9dd5a370-fb5c-47f5-b2ec-14c5dfed4475",
   "metadata": {
    "execution": {
     "iopub.status.busy": "2023-07-21T10:06:55.190858Z",
     "iopub.status.idle": "2023-07-21T10:06:55.191020Z",
     "shell.execute_reply": "2023-07-21T10:06:55.190947Z",
     "shell.execute_reply.started": "2023-07-21T10:06:55.190939Z"
    },
    "tags": []
   },
   "outputs": [],
   "source": [
    "def AddDataSetsInGroupAndIndexExposure(spec,h5group,index,exposure,expoinfo):\n",
    "\n",
    "    h5group.attrs[\"index\"]=index\n",
    "    h5group.attrs[\"exposure\"]=exposure\n",
    "    \n",
    "    AddDataSetsInGroup(spec,h5group)\n",
    "    AddExposureInfoInGroup(expoinfo,h5group)"
   ]
  },
  {
   "cell_type": "code",
   "execution_count": null,
   "id": "0ead2d71-32cc-4ab8-a87e-22c3bbe1fb77",
   "metadata": {
    "execution": {
     "iopub.status.busy": "2023-07-21T10:06:55.191560Z",
     "iopub.status.idle": "2023-07-21T10:06:55.191751Z",
     "shell.execute_reply": "2023-07-21T10:06:55.191647Z",
     "shell.execute_reply.started": "2023-07-21T10:06:55.191640Z"
    },
    "tags": []
   },
   "outputs": [],
   "source": [
    "DumpSpectrum(spec)"
   ]
  },
  {
   "cell_type": "markdown",
   "id": "e47c7a2a-55a7-42e2-8c1b-a96f274bfbbb",
   "metadata": {},
   "source": [
    "# Save all spectra in a single file"
   ]
  },
  {
   "cell_type": "code",
   "execution_count": null,
   "id": "3a7aaa2f-e91f-418f-a2c5-62a065cc719f",
   "metadata": {
    "execution": {
     "iopub.status.busy": "2023-07-21T10:06:55.192122Z",
     "iopub.status.idle": "2023-07-21T10:06:55.192286Z",
     "shell.execute_reply": "2023-07-21T10:06:55.192207Z",
     "shell.execute_reply.started": "2023-07-21T10:06:55.192200Z"
    },
    "tags": []
   },
   "outputs": [],
   "source": [
    "exposures_sorted = np.sort(all_exposures)"
   ]
  },
  {
   "cell_type": "code",
   "execution_count": null,
   "id": "0588a8c4-a7e7-4f94-927c-30fde1122670",
   "metadata": {
    "execution": {
     "iopub.status.busy": "2023-07-21T10:06:55.192811Z",
     "iopub.status.idle": "2023-07-21T10:06:55.192981Z",
     "shell.execute_reply": "2023-07-21T10:06:55.192900Z",
     "shell.execute_reply.started": "2023-07-21T10:06:55.192892Z"
    },
    "tags": []
   },
   "outputs": [],
   "source": [
    "for idx,spec in enumerate(all_spec):   \n",
    "    the_exposure = all_exposures[idx]\n",
    "    the_sorted_index = np.where(exposures_sorted == the_exposure)[0][0]\n",
    "    \n",
    "    \n",
    "    #print(dict_exposure[the_exposure])\n",
    "    \n",
    "    # here add in HDF5\n",
    "    AddDataSetsInGroupAndIndexExposure(spec,all_h5group[idx],the_sorted_index,the_exposure,dict_exposure[the_exposure])\n",
    "    \n",
    "    \n",
    "    if FLAG_MOUNT_ERRORS:\n",
    "        df_exp_selected = df[df[\"exposure\"] == the_exposure]\n",
    "        N = len(df_exp_selected)\n",
    "        if (N)>0:\n",
    "            az_rms = df_exp_selected[\"az_rms\"].values[0]\n",
    "            el_rms = df_exp_selected[\"el_rms\"].values[0]\n",
    "            rot_rms = df_exp_selected[\"rot_rms\"].values[0]\n",
    "            image_az_rms = df_exp_selected[\"image_az_rms\"].values[0]\n",
    "            image_el_rms = df_exp_selected[\"image_el_rms\"].values[0]\n",
    "            image_rot_rms = df_exp_selected[\"image_rot_rms\"].values[0]\n",
    "            AddMountErrorsInGroup(all_h5group[idx],az_rms,el_rms,rot_rms,image_az_rms,image_el_rms,image_rot_rms)\n",
    "        else:\n",
    "            print(f\"No error mount for exposure {the_exposure}\")\n",
    "            AddMountErrorsInGroup(all_h5group[idx],-1.,-1.,-1.,-1.,-1.,-1.)\n",
    "            "
   ]
  },
  {
   "cell_type": "code",
   "execution_count": null,
   "id": "34f6cfaf-6987-4574-bf5f-722fa9f5ca2e",
   "metadata": {
    "execution": {
     "iopub.status.busy": "2023-07-21T10:06:55.193417Z",
     "iopub.status.idle": "2023-07-21T10:06:55.193591Z",
     "shell.execute_reply": "2023-07-21T10:06:55.193505Z",
     "shell.execute_reply.started": "2023-07-21T10:06:55.193497Z"
    },
    "tags": []
   },
   "outputs": [],
   "source": [
    "hf_outfile.keys()"
   ]
  },
  {
   "cell_type": "code",
   "execution_count": null,
   "id": "bdaeb3cf-3693-4103-8ccb-553587a5bf3c",
   "metadata": {
    "execution": {
     "iopub.status.busy": "2023-07-21T10:06:55.194069Z",
     "iopub.status.idle": "2023-07-21T10:06:55.194262Z",
     "shell.execute_reply": "2023-07-21T10:06:55.194183Z",
     "shell.execute_reply.started": "2023-07-21T10:06:55.194175Z"
    },
    "tags": []
   },
   "outputs": [],
   "source": [
    "#AddDataSetsInGroup(spec,the_h5group) # already done previously\n",
    "hf_outfile.close() "
   ]
  },
  {
   "cell_type": "markdown",
   "id": "f26b3f62-34f7-4cbd-bad4-c48be4e07ed9",
   "metadata": {},
   "source": [
    "## Plot"
   ]
  },
  {
   "cell_type": "code",
   "execution_count": null,
   "id": "4fea39ba-2f11-4a8a-9248-c37ce3e7c0f4",
   "metadata": {
    "execution": {
     "iopub.status.busy": "2023-07-21T10:06:55.194769Z",
     "iopub.status.idle": "2023-07-21T10:06:55.194935Z",
     "shell.execute_reply": "2023-07-21T10:06:55.194859Z",
     "shell.execute_reply.started": "2023-07-21T10:06:55.194850Z"
    },
    "tags": []
   },
   "outputs": [],
   "source": [
    "%matplotlib inline\n",
    "\n",
    "\n",
    "infos = []\n",
    "all_lambdas=[]\n",
    "all_data=[]\n",
    "all_data_err=[]\n",
    "\n",
    "\n",
    "idx=0\n",
    "for spec in all_spec:\n",
    "    \n",
    "    \n",
    "    #s=spec.spectrum\n",
    "    s=spec\n",
    "    label = str(idx) +\"):\" + str(all_exposures[idx])\n",
    "    \n",
    "    try:\n",
    "        fig=plt.figure(figsize=(16,4))\n",
    "    \n",
    "        ax1 = fig.add_subplot(1, 2, 1)\n",
    "        s.plot_spectrum(ax=ax1,force_lines=True,label=label)\n",
    "    \n",
    "        ax2 = fig.add_subplot(1, 2, 2)\n",
    "        s.plot_spectrogram(ax=ax2,scale=\"log\")\n",
    "    \n",
    "        all_lambdas.append(s.lambdas)\n",
    "        all_data.append(s.data)\n",
    "        all_data_err.append(s.err)\n",
    "    \n",
    "        #save info    \n",
    "        infos.append([idx,s.target.label,s.date_obs,s.airmass,s.temperature,s.pressure,s.humidity])\n",
    "            \n",
    "    except Exception as inst:\n",
    "        print(\" >>> Exception catched for \"+ label )\n",
    "        print(type(inst))    # the exception instance\n",
    "        print(inst.args)     # arguments stored in .args\n",
    "\n",
    "    \n",
    "    idx+=1"
   ]
  },
  {
   "cell_type": "code",
   "execution_count": null,
   "id": "7f5b23ab-1880-493a-9c3c-ff33e537764c",
   "metadata": {},
   "outputs": [],
   "source": []
  }
 ],
 "metadata": {
  "kernelspec": {
   "display_name": "LSST",
   "language": "python",
   "name": "lsst"
  },
  "language_info": {
   "codemirror_mode": {
    "name": "ipython",
    "version": 3
   },
   "file_extension": ".py",
   "mimetype": "text/x-python",
   "name": "python",
   "nbconvert_exporter": "python",
   "pygments_lexer": "ipython3",
   "version": "3.10.11"
  }
 },
 "nbformat": 4,
 "nbformat_minor": 5
}
