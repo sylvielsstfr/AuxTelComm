{
 "cells": [
  {
   "cell_type": "markdown",
   "id": "0b8c2138-5194-4d03-8b77-be24e2cc8ee3",
   "metadata": {},
   "source": [
    "# Explore other  Spectraction Results in OGA"
   ]
  },
  {
   "cell_type": "markdown",
   "id": "740e34fb-3fef-45a8-941b-c229742ab016",
   "metadata": {},
   "source": [
    " work with Weakly_2023_27\n",
    "- use jupyter kernel LSST\n",
    "- author : Sylvie Dagoret-Campagne\n",
    "- affiliation : IJCLab\n",
    "- creation date : 2023/07/24\n",
    "- last update : 2023/05/24\n",
    "\n",
    "- Spectractor https://github.com/lsst/Spectractor/\n",
    "- Spectractor Version 2.5\n",
    "\n"
   ]
  },
  {
   "cell_type": "code",
   "execution_count": 1,
   "id": "ed2c3410-fe83-432e-ab87-9f4513fa8d8b",
   "metadata": {
    "execution": {
     "iopub.execute_input": "2023-07-24T14:11:23.987708Z",
     "iopub.status.busy": "2023-07-24T14:11:23.987572Z",
     "iopub.status.idle": "2023-07-24T14:11:24.358898Z",
     "shell.execute_reply": "2023-07-24T14:11:24.358203Z",
     "shell.execute_reply.started": "2023-07-24T14:11:23.987694Z"
    },
    "tags": []
   },
   "outputs": [
    {
     "name": "stdout",
     "output_type": "stream",
     "text": [
      "atmospec              LOCAL:/home/d/dagoret/repos/repos_w_2023_27/atmospec \tsetup\n",
      "eups                  LOCAL:/opt/lsst/software/stack/conda/miniconda3-py38_4.9.2/envs/lsst-scipipe-6.0.0/eups \tsetup\n"
     ]
    }
   ],
   "source": [
    "! eups list -s | grep LOCAL"
   ]
  },
  {
   "cell_type": "code",
   "execution_count": 2,
   "id": "70918d81-0cf6-4b0a-8f61-f5e5bec5b0e7",
   "metadata": {
    "execution": {
     "iopub.execute_input": "2023-07-24T14:11:24.359834Z",
     "iopub.status.busy": "2023-07-24T14:11:24.359683Z",
     "iopub.status.idle": "2023-07-24T14:11:24.709330Z",
     "shell.execute_reply": "2023-07-24T14:11:24.708636Z",
     "shell.execute_reply.started": "2023-07-24T14:11:24.359820Z"
    },
    "tags": []
   },
   "outputs": [
    {
     "name": "stdout",
     "output_type": "stream",
     "text": [
      "   gdf42428520+4e9f6d16c8 \tcurrent w_2023_27 setup\n"
     ]
    }
   ],
   "source": [
    "! eups list -s lsst_distrib"
   ]
  },
  {
   "cell_type": "code",
   "execution_count": 3,
   "id": "e7e0ec91-3a48-47ea-b293-db233df2677e",
   "metadata": {
    "execution": {
     "iopub.execute_input": "2023-07-24T14:11:24.710365Z",
     "iopub.status.busy": "2023-07-24T14:11:24.710207Z",
     "iopub.status.idle": "2023-07-24T14:11:24.730232Z",
     "shell.execute_reply": "2023-07-24T14:11:24.729796Z",
     "shell.execute_reply.started": "2023-07-24T14:11:24.710350Z"
    },
    "tags": []
   },
   "outputs": [],
   "source": [
    "import h5py"
   ]
  },
  {
   "cell_type": "code",
   "execution_count": 4,
   "id": "f8d9cfca-5881-48c1-b2cb-0f794a2e4091",
   "metadata": {
    "execution": {
     "iopub.execute_input": "2023-07-24T14:11:24.731033Z",
     "iopub.status.busy": "2023-07-24T14:11:24.730890Z",
     "iopub.status.idle": "2023-07-24T14:11:25.184828Z",
     "shell.execute_reply": "2023-07-24T14:11:25.184310Z",
     "shell.execute_reply.started": "2023-07-24T14:11:24.731020Z"
    },
    "tags": []
   },
   "outputs": [],
   "source": [
    "import lsst.daf.butler as dafButler\n",
    "#import lsst.summit.utils.butlerUtils as butlerUtils"
   ]
  },
  {
   "cell_type": "code",
   "execution_count": 5,
   "id": "1ceacda9-20b0-4d77-a0d2-572c957ce273",
   "metadata": {
    "execution": {
     "iopub.execute_input": "2023-07-24T14:11:25.185686Z",
     "iopub.status.busy": "2023-07-24T14:11:25.185535Z",
     "iopub.status.idle": "2023-07-24T14:11:25.705060Z",
     "shell.execute_reply": "2023-07-24T14:11:25.704457Z",
     "shell.execute_reply.started": "2023-07-24T14:11:25.185672Z"
    },
    "tags": []
   },
   "outputs": [],
   "source": [
    "import numpy as np\n",
    "import matplotlib.pyplot as plt\n",
    "%matplotlib inline\n",
    "from mpl_toolkits.axes_grid1 import make_axes_locatable\n",
    "from matplotlib.colors import LogNorm\n",
    "import pandas as pd\n",
    "\n",
    "import matplotlib.ticker                         # here's where the formatter is\n",
    "import os\n",
    "import re\n",
    "import pandas as pd\n",
    "\n",
    "plt.rcParams[\"figure.figsize\"] = (4,3)\n",
    "plt.rcParams[\"axes.labelsize\"] = 'xx-large'\n",
    "plt.rcParams['axes.titlesize'] = 'xx-large'\n",
    "plt.rcParams['xtick.labelsize']= 'xx-large'\n",
    "plt.rcParams['ytick.labelsize']= 'xx-large'"
   ]
  },
  {
   "cell_type": "code",
   "execution_count": 6,
   "id": "75e20c79-7729-459b-a5e0-78d8de0c4d71",
   "metadata": {
    "execution": {
     "iopub.execute_input": "2023-07-24T14:11:25.707195Z",
     "iopub.status.busy": "2023-07-24T14:11:25.706812Z",
     "iopub.status.idle": "2023-07-24T14:11:25.709707Z",
     "shell.execute_reply": "2023-07-24T14:11:25.709265Z",
     "shell.execute_reply.started": "2023-07-24T14:11:25.707170Z"
    },
    "tags": []
   },
   "outputs": [],
   "source": [
    "from astropy.time import Time\n",
    "import astropy.units as u"
   ]
  },
  {
   "cell_type": "markdown",
   "id": "c7e637b3-244b-4df3-9db2-3819e6321141",
   "metadata": {},
   "source": [
    "## Config"
   ]
  },
  {
   "cell_type": "code",
   "execution_count": 7,
   "id": "ac51fd3d-4fd1-437a-99a9-3c33bcf3477a",
   "metadata": {
    "execution": {
     "iopub.execute_input": "2023-07-24T14:11:25.710392Z",
     "iopub.status.busy": "2023-07-24T14:11:25.710260Z",
     "iopub.status.idle": "2023-07-24T14:11:25.714073Z",
     "shell.execute_reply": "2023-07-24T14:11:25.713662Z",
     "shell.execute_reply.started": "2023-07-24T14:11:25.710379Z"
    }
   },
   "outputs": [],
   "source": [
    "FLAG_MOUNT_ERRORS= False"
   ]
  },
  {
   "cell_type": "markdown",
   "id": "f311bc61-5eb2-40b2-ab20-8241ea599037",
   "metadata": {},
   "source": [
    "### Butler"
   ]
  },
  {
   "cell_type": "code",
   "execution_count": 8,
   "id": "1c81d99a-5e91-4ba1-ba4a-c66b37905b98",
   "metadata": {
    "execution": {
     "iopub.execute_input": "2023-07-24T14:11:25.714778Z",
     "iopub.status.busy": "2023-07-24T14:11:25.714648Z",
     "iopub.status.idle": "2023-07-24T14:11:27.414364Z",
     "shell.execute_reply": "2023-07-24T14:11:27.413774Z",
     "shell.execute_reply.started": "2023-07-24T14:11:25.714766Z"
    },
    "tags": []
   },
   "outputs": [],
   "source": [
    "#repo =  \"/sdf/group/rubin/repo/main\"\n",
    "repo = \"/sdf/group/rubin/repo/oga/\"\n",
    "#repo = \"/repo/embargo/\"\n",
    "butler = dafButler.Butler(repo)\n",
    "registry = butler.registry"
   ]
  },
  {
   "cell_type": "markdown",
   "id": "8e80fb43-8912-437d-af52-0f8a52dcef43",
   "metadata": {},
   "source": [
    "## User collections"
   ]
  },
  {
   "cell_type": "code",
   "execution_count": 9,
   "id": "1ccda630-a4e2-4333-9a32-00a801212db6",
   "metadata": {
    "execution": {
     "iopub.execute_input": "2023-07-24T14:11:27.415259Z",
     "iopub.status.busy": "2023-07-24T14:11:27.415106Z",
     "iopub.status.idle": "2023-07-24T14:11:27.419046Z",
     "shell.execute_reply": "2023-07-24T14:11:27.418631Z",
     "shell.execute_reply.started": "2023-07-24T14:11:27.415245Z"
    }
   },
   "outputs": [],
   "source": [
    "DateToRuncollection_rebin2 = {\n",
    " # January 2023\n",
    " 20230117 :  \"u/dagoret/BPS_manyspectro_v100\", \n",
    " 20230118 :  \"u/dagoret/BPS_manyspectro_v102\", \n",
    " 20230119 :  \"u/dagoret/BPS_manyspectro_v104\",  \n",
    " 20230131 :  \"u/dagoret/BPS_manyspectro_v106\",  \n",
    " 20230201 :  \"u/dagoret/BPS_manyspectro_v108\", \n",
    " 20230202 :  \"u/dagoret/BPS_manyspectro_v110\", \n",
    "    \n",
    " 20230214 :  \"u/dagoret/BPS_manyspectro_v112\", \n",
    " 20230215 :  \"u/dagoret/BPS_manyspectro_v114\", \n",
    " 20230216 :  \"u/dagoret/BPS_manyspectro_v116\", \n",
    " 20230228 :  \"u/dagoret/BPS_manyspectro_v118\",  \n",
    "    \n",
    " # July 2023\n",
    " 20230718 :  \"u/dagoret/BPS_manyspectro_v96\", \n",
    " 20230720 :  \"u/dagoret/BPS_manyspectro_v98\",\n",
    "}\n",
    "DateToRuncollection_rebin1 = {\n",
    " # January 2023\n",
    " 20230117 :  \"u/dagoret/BPS_manyspectro_v101\", \n",
    " 20230118 :  \"u/dagoret/BPS_manyspectro_v103\",  \n",
    " 20230119 :  \"u/dagoret/BPS_manyspectro_v105\",  \n",
    " 20230131:  \"u/dagoret/BPS_manyspectro_v107\",  \n",
    " 20230201:  \"u/dagoret/BPS_manyspectro_v109\",  \n",
    " 20230202:  \"u/dagoret/BPS_manyspectro_v111\",  \n",
    "    \n",
    " # July 2023\n",
    " 20230718 :  \"u/dagoret/BPS_manyspectro_v97\", \n",
    " 20230720 :  \"u/dagoret/BPS_manyspectro_v99\", \n",
    "}"
   ]
  },
  {
   "cell_type": "markdown",
   "id": "0e05f7c8-b6c5-4d54-87ab-f36eade8b67b",
   "metadata": {},
   "source": [
    "## Working mode"
   ]
  },
  {
   "cell_type": "markdown",
   "id": "7fa31e20-40fb-498d-ad80-90ee20f619cd",
   "metadata": {},
   "source": [
    "### Rebin mode\n",
    "\n",
    "- make your choice"
   ]
  },
  {
   "cell_type": "code",
   "execution_count": 10,
   "id": "8d186dd2-33ff-4326-9987-ca8c8510e740",
   "metadata": {
    "execution": {
     "iopub.execute_input": "2023-07-24T14:11:27.419818Z",
     "iopub.status.busy": "2023-07-24T14:11:27.419679Z",
     "iopub.status.idle": "2023-07-24T14:11:27.422594Z",
     "shell.execute_reply": "2023-07-24T14:11:27.422189Z",
     "shell.execute_reply.started": "2023-07-24T14:11:27.419805Z"
    },
    "tags": []
   },
   "outputs": [],
   "source": [
    "MODE_REBIN = 2"
   ]
  },
  {
   "cell_type": "markdown",
   "id": "5e5abcbc-9ec3-4a33-8def-cb4ee4eb5ce5",
   "metadata": {},
   "source": [
    "### Date"
   ]
  },
  {
   "cell_type": "code",
   "execution_count": 11,
   "id": "c1ffbd47-4cc9-4ef1-ab1c-6f477b8139bb",
   "metadata": {
    "execution": {
     "iopub.execute_input": "2023-07-24T14:11:27.423283Z",
     "iopub.status.busy": "2023-07-24T14:11:27.423151Z",
     "iopub.status.idle": "2023-07-24T14:11:27.427460Z",
     "shell.execute_reply": "2023-07-24T14:11:27.427038Z",
     "shell.execute_reply.started": "2023-07-24T14:11:27.423271Z"
    },
    "tags": []
   },
   "outputs": [],
   "source": [
    "DATE = 20230117\n",
    "\n",
    "if MODE_REBIN == 2:\n",
    "    my_collection = DateToRuncollection_rebin2[DATE]\n",
    "else:\n",
    "    my_collection = DateToRuncollection_rebin1[DATE]\n",
    "\n",
    "filterdispersername = \"empty~holo4_003\"\n"
   ]
  },
  {
   "cell_type": "markdown",
   "id": "e5eef764-6dfc-469a-a11a-7184e0aeed06",
   "metadata": {},
   "source": [
    "# List of Dataset types avalaible in my collection"
   ]
  },
  {
   "cell_type": "markdown",
   "id": "1310d3a5-fc53-4db1-b56a-bf6f6e8eca60",
   "metadata": {},
   "source": [
    "## List of dataset types"
   ]
  },
  {
   "cell_type": "code",
   "execution_count": 12,
   "id": "44be81c8-1a26-4e62-ac23-bfa9353206a0",
   "metadata": {
    "execution": {
     "iopub.execute_input": "2023-07-24T14:11:27.428163Z",
     "iopub.status.busy": "2023-07-24T14:11:27.428029Z",
     "iopub.status.idle": "2023-07-24T14:11:27.435640Z",
     "shell.execute_reply": "2023-07-24T14:11:27.435109Z",
     "shell.execute_reply.started": "2023-07-24T14:11:27.428151Z"
    },
    "tags": []
   },
   "outputs": [
    {
     "data": {
      "text/plain": [
       "[DatasetType('atmospecCentroid', {band, instrument, detector, physical_filter, visit}, StructuredDataDict),\n",
       " DatasetType('spectraction', {band, instrument, detector, physical_filter, visit}, Spectraction),\n",
       " DatasetType('spectractorImage', {band, instrument, detector, physical_filter, visit}, SpectractorImage),\n",
       " DatasetType('spectractorSpectrum', {band, instrument, detector, physical_filter, visit}, SpectractorSpectrum),\n",
       " DatasetType('spectrogramLibradtranFitParameters', {band, instrument, detector, physical_filter, visit}, SpectractorFitParameters),\n",
       " DatasetType('spectrumForwardModelFitParameters', {band, instrument, detector, physical_filter, visit}, SpectractorFitParameters),\n",
       " DatasetType('spectrumLibradtranFitParameters', {band, instrument, detector, physical_filter, visit}, SpectractorFitParameters)]"
      ]
     },
     "execution_count": 12,
     "metadata": {},
     "output_type": "execute_result"
    }
   ],
   "source": [
    "list(registry.queryDatasetTypes(\"*spec*\"))"
   ]
  },
  {
   "cell_type": "markdown",
   "id": "1dc3ad38-178b-47c6-b989-442a8b91cf1b",
   "metadata": {},
   "source": [
    "## list of datasets"
   ]
  },
  {
   "cell_type": "code",
   "execution_count": 13,
   "id": "fe033164-536b-4adf-94d8-0b59d81740ce",
   "metadata": {
    "execution": {
     "iopub.execute_input": "2023-07-24T14:11:27.436356Z",
     "iopub.status.busy": "2023-07-24T14:11:27.436224Z",
     "iopub.status.idle": "2023-07-24T14:11:27.449202Z",
     "shell.execute_reply": "2023-07-24T14:11:27.448801Z",
     "shell.execute_reply.started": "2023-07-24T14:11:27.436344Z"
    },
    "tags": []
   },
   "outputs": [
    {
     "data": {
      "text/html": [
       "<pre style=\"margin: 0.1em;\n",
       "padding-left: 0.25em;\n",
       "border-left-style: solid;\n",
       "font-family: var(--jp-code-font-family);\n",
       "font-size: var(--jp-code-font-size);\n",
       "line-height: var(--jp-code-line-height);\n",
       "\"><span style=\"color: var(--jp-warn-color2)\">lsst.daf.butler.registry.datasets.byDimensions._manager</span> <span style=\"color: var(--jp-warn-color0)\">WARNING</span>: Could not load storage class &#x27;Spectraction&#x27; for spectraction; if it has components they will not be included in query results.</pre>"
      ],
      "text/plain": [
       "<IPython.core.display.HTML object>"
      ]
     },
     "metadata": {},
     "output_type": "display_data"
    },
    {
     "data": {
      "text/html": [
       "<pre style=\"margin: 0.1em;\n",
       "padding-left: 0.25em;\n",
       "border-left-style: solid;\n",
       "font-family: var(--jp-code-font-family);\n",
       "font-size: var(--jp-code-font-size);\n",
       "line-height: var(--jp-code-line-height);\n",
       "\"><span style=\"color: var(--jp-warn-color2)\">lsst.daf.butler.registry.datasets.byDimensions._manager</span> <span style=\"color: var(--jp-warn-color0)\">WARNING</span>: Could not load storage class &#x27;SpectractorFitParameters&#x27; for spectrumForwardModelFitParameters; if it has components they will not be included in query results.</pre>"
      ],
      "text/plain": [
       "<IPython.core.display.HTML object>"
      ]
     },
     "metadata": {},
     "output_type": "display_data"
    },
    {
     "data": {
      "text/html": [
       "<pre style=\"margin: 0.1em;\n",
       "padding-left: 0.25em;\n",
       "border-left-style: solid;\n",
       "font-family: var(--jp-code-font-family);\n",
       "font-size: var(--jp-code-font-size);\n",
       "line-height: var(--jp-code-line-height);\n",
       "\"><span style=\"color: var(--jp-warn-color2)\">lsst.daf.butler.registry.datasets.byDimensions._manager</span> <span style=\"color: var(--jp-warn-color0)\">WARNING</span>: Could not load storage class &#x27;SpectractorFitParameters&#x27; for spectrumLibradtranFitParameters; if it has components they will not be included in query results.</pre>"
      ],
      "text/plain": [
       "<IPython.core.display.HTML object>"
      ]
     },
     "metadata": {},
     "output_type": "display_data"
    },
    {
     "data": {
      "text/plain": [
       "[]"
      ]
     },
     "execution_count": 13,
     "metadata": {},
     "output_type": "execute_result"
    }
   ],
   "source": [
    "list(registry.queryDatasets(\"*spectrogramLibradtranFitParameters*\", collections=[my_collection]))[:10]"
   ]
  },
  {
   "cell_type": "code",
   "execution_count": 14,
   "id": "2d4f6397-d982-47cc-8b78-fecbd709f3a6",
   "metadata": {
    "execution": {
     "iopub.execute_input": "2023-07-24T14:11:27.449914Z",
     "iopub.status.busy": "2023-07-24T14:11:27.449778Z",
     "iopub.status.idle": "2023-07-24T14:11:27.458906Z",
     "shell.execute_reply": "2023-07-24T14:11:27.458513Z",
     "shell.execute_reply.started": "2023-07-24T14:11:27.449902Z"
    }
   },
   "outputs": [
    {
     "data": {
      "text/html": [
       "<pre style=\"margin: 0.1em;\n",
       "padding-left: 0.25em;\n",
       "border-left-style: solid;\n",
       "font-family: var(--jp-code-font-family);\n",
       "font-size: var(--jp-code-font-size);\n",
       "line-height: var(--jp-code-line-height);\n",
       "\"><span style=\"color: var(--jp-warn-color2)\">lsst.daf.butler.registry.datasets.byDimensions._manager</span> <span style=\"color: var(--jp-warn-color0)\">WARNING</span>: Could not load storage class &#x27;Spectraction&#x27; for spectraction; if it has components they will not be included in query results.</pre>"
      ],
      "text/plain": [
       "<IPython.core.display.HTML object>"
      ]
     },
     "metadata": {},
     "output_type": "display_data"
    },
    {
     "data": {
      "text/html": [
       "<pre style=\"margin: 0.1em;\n",
       "padding-left: 0.25em;\n",
       "border-left-style: solid;\n",
       "font-family: var(--jp-code-font-family);\n",
       "font-size: var(--jp-code-font-size);\n",
       "line-height: var(--jp-code-line-height);\n",
       "\"><span style=\"color: var(--jp-warn-color2)\">lsst.daf.butler.registry.datasets.byDimensions._manager</span> <span style=\"color: var(--jp-warn-color0)\">WARNING</span>: Could not load storage class &#x27;SpectractorFitParameters&#x27; for spectrogramLibradtranFitParameters; if it has components they will not be included in query results.</pre>"
      ],
      "text/plain": [
       "<IPython.core.display.HTML object>"
      ]
     },
     "metadata": {},
     "output_type": "display_data"
    },
    {
     "data": {
      "text/html": [
       "<pre style=\"margin: 0.1em;\n",
       "padding-left: 0.25em;\n",
       "border-left-style: solid;\n",
       "font-family: var(--jp-code-font-family);\n",
       "font-size: var(--jp-code-font-size);\n",
       "line-height: var(--jp-code-line-height);\n",
       "\"><span style=\"color: var(--jp-warn-color2)\">lsst.daf.butler.registry.datasets.byDimensions._manager</span> <span style=\"color: var(--jp-warn-color0)\">WARNING</span>: Could not load storage class &#x27;SpectractorFitParameters&#x27; for spectrumLibradtranFitParameters; if it has components they will not be included in query results.</pre>"
      ],
      "text/plain": [
       "<IPython.core.display.HTML object>"
      ]
     },
     "metadata": {},
     "output_type": "display_data"
    },
    {
     "data": {
      "text/plain": [
       "[]"
      ]
     },
     "execution_count": 14,
     "metadata": {},
     "output_type": "execute_result"
    }
   ],
   "source": [
    "list(registry.queryDatasets(\"*spectrumForwardModelFitParameters*\", collections=[my_collection]))[:10]"
   ]
  },
  {
   "cell_type": "code",
   "execution_count": 15,
   "id": "a78bfadf-adfb-4612-bf61-e7c44039a22e",
   "metadata": {
    "execution": {
     "iopub.execute_input": "2023-07-24T14:11:27.459568Z",
     "iopub.status.busy": "2023-07-24T14:11:27.459435Z",
     "iopub.status.idle": "2023-07-24T14:11:27.468500Z",
     "shell.execute_reply": "2023-07-24T14:11:27.468106Z",
     "shell.execute_reply.started": "2023-07-24T14:11:27.459556Z"
    }
   },
   "outputs": [
    {
     "data": {
      "text/html": [
       "<pre style=\"margin: 0.1em;\n",
       "padding-left: 0.25em;\n",
       "border-left-style: solid;\n",
       "font-family: var(--jp-code-font-family);\n",
       "font-size: var(--jp-code-font-size);\n",
       "line-height: var(--jp-code-line-height);\n",
       "\"><span style=\"color: var(--jp-warn-color2)\">lsst.daf.butler.registry.datasets.byDimensions._manager</span> <span style=\"color: var(--jp-warn-color0)\">WARNING</span>: Could not load storage class &#x27;Spectraction&#x27; for spectraction; if it has components they will not be included in query results.</pre>"
      ],
      "text/plain": [
       "<IPython.core.display.HTML object>"
      ]
     },
     "metadata": {},
     "output_type": "display_data"
    },
    {
     "data": {
      "text/html": [
       "<pre style=\"margin: 0.1em;\n",
       "padding-left: 0.25em;\n",
       "border-left-style: solid;\n",
       "font-family: var(--jp-code-font-family);\n",
       "font-size: var(--jp-code-font-size);\n",
       "line-height: var(--jp-code-line-height);\n",
       "\"><span style=\"color: var(--jp-warn-color2)\">lsst.daf.butler.registry.datasets.byDimensions._manager</span> <span style=\"color: var(--jp-warn-color0)\">WARNING</span>: Could not load storage class &#x27;SpectractorFitParameters&#x27; for spectrogramLibradtranFitParameters; if it has components they will not be included in query results.</pre>"
      ],
      "text/plain": [
       "<IPython.core.display.HTML object>"
      ]
     },
     "metadata": {},
     "output_type": "display_data"
    },
    {
     "data": {
      "text/html": [
       "<pre style=\"margin: 0.1em;\n",
       "padding-left: 0.25em;\n",
       "border-left-style: solid;\n",
       "font-family: var(--jp-code-font-family);\n",
       "font-size: var(--jp-code-font-size);\n",
       "line-height: var(--jp-code-line-height);\n",
       "\"><span style=\"color: var(--jp-warn-color2)\">lsst.daf.butler.registry.datasets.byDimensions._manager</span> <span style=\"color: var(--jp-warn-color0)\">WARNING</span>: Could not load storage class &#x27;SpectractorFitParameters&#x27; for spectrumForwardModelFitParameters; if it has components they will not be included in query results.</pre>"
      ],
      "text/plain": [
       "<IPython.core.display.HTML object>"
      ]
     },
     "metadata": {},
     "output_type": "display_data"
    },
    {
     "data": {
      "text/plain": [
       "[]"
      ]
     },
     "execution_count": 15,
     "metadata": {},
     "output_type": "execute_result"
    }
   ],
   "source": [
    "list(registry.queryDatasets(\"*spectrumLibradtranFitParameters*\", collections=[my_collection]))[:10]"
   ]
  },
  {
   "cell_type": "code",
   "execution_count": 16,
   "id": "24cdad60-b8e0-45a9-ad14-b0f209a4c87a",
   "metadata": {
    "execution": {
     "iopub.execute_input": "2023-07-24T14:11:27.469164Z",
     "iopub.status.busy": "2023-07-24T14:11:27.469032Z",
     "iopub.status.idle": "2023-07-24T14:11:27.471732Z",
     "shell.execute_reply": "2023-07-24T14:11:27.471285Z",
     "shell.execute_reply.started": "2023-07-24T14:11:27.469151Z"
    },
    "tags": []
   },
   "outputs": [
    {
     "name": "stdout",
     "output_type": "stream",
     "text": [
      "exposure: \n",
      "  instrument: str\n",
      "  id: int\n",
      "  physical_filter: str\n",
      "  obs_id: str\n",
      "  exposure_time: float\n",
      "  dark_time: float\n",
      "  observation_type: str\n",
      "  observation_reason: str\n",
      "  day_obs: int\n",
      "  seq_num: int\n",
      "  seq_start: int\n",
      "  seq_end: int\n",
      "  group_name: str\n",
      "  group_id: int\n",
      "  target_name: str\n",
      "  science_program: str\n",
      "  tracking_ra: float\n",
      "  tracking_dec: float\n",
      "  sky_angle: float\n",
      "  azimuth: float\n",
      "  zenith_angle: float\n",
      "  has_simulated: bool\n",
      "  timespan: lsst.daf.butler.Timespan\n"
     ]
    }
   ],
   "source": [
    "print(butler.registry.dimensions[\"exposure\"].RecordClass.fields)"
   ]
  },
  {
   "cell_type": "code",
   "execution_count": 17,
   "id": "51a823f1-51db-4712-80cd-0e30427be9d9",
   "metadata": {
    "execution": {
     "iopub.execute_input": "2023-07-24T14:11:27.472551Z",
     "iopub.status.busy": "2023-07-24T14:11:27.472409Z",
     "iopub.status.idle": "2023-07-24T14:11:27.474601Z",
     "shell.execute_reply": "2023-07-24T14:11:27.474197Z",
     "shell.execute_reply.started": "2023-07-24T14:11:27.472538Z"
    },
    "tags": []
   },
   "outputs": [],
   "source": [
    "where_clause = f\"instrument=\\'LATISS\\' AND exposure.day_obs={DATE} AND exposure.science_program=\\'spec\\'\""
   ]
  },
  {
   "cell_type": "code",
   "execution_count": 18,
   "id": "9b62ba47-9b66-4613-b7b6-1ebc517a861d",
   "metadata": {
    "execution": {
     "iopub.execute_input": "2023-07-24T14:11:27.475265Z",
     "iopub.status.busy": "2023-07-24T14:11:27.475137Z",
     "iopub.status.idle": "2023-07-24T14:11:27.480222Z",
     "shell.execute_reply": "2023-07-24T14:11:27.479827Z",
     "shell.execute_reply.started": "2023-07-24T14:11:27.475253Z"
    },
    "tags": []
   },
   "outputs": [
    {
     "data": {
      "text/plain": [
       "\"instrument='LATISS' AND exposure.day_obs=20230117 AND exposure.science_program='spec'\""
      ]
     },
     "execution_count": 18,
     "metadata": {},
     "output_type": "execute_result"
    }
   ],
   "source": [
    "where_clause"
   ]
  },
  {
   "cell_type": "code",
   "execution_count": 19,
   "id": "08a666b2-7675-436e-9078-997db403e06e",
   "metadata": {
    "execution": {
     "iopub.execute_input": "2023-07-24T14:11:27.480890Z",
     "iopub.status.busy": "2023-07-24T14:11:27.480760Z",
     "iopub.status.idle": "2023-07-24T14:11:27.502280Z",
     "shell.execute_reply": "2023-07-24T14:11:27.501893Z",
     "shell.execute_reply.started": "2023-07-24T14:11:27.480878Z"
    },
    "tags": []
   },
   "outputs": [],
   "source": [
    "results_exposures = registry.queryDimensionRecords('exposure',datasets=\"raw\",collections = 'LATISS/raw/all',where=where_clause)"
   ]
  },
  {
   "cell_type": "code",
   "execution_count": 20,
   "id": "61afca92-62e2-48a9-9f4a-cfb85cafb8b6",
   "metadata": {
    "execution": {
     "iopub.execute_input": "2023-07-24T14:11:27.502937Z",
     "iopub.status.busy": "2023-07-24T14:11:27.502807Z",
     "iopub.status.idle": "2023-07-24T14:11:27.504885Z",
     "shell.execute_reply": "2023-07-24T14:11:27.504512Z",
     "shell.execute_reply.started": "2023-07-24T14:11:27.502925Z"
    },
    "tags": []
   },
   "outputs": [],
   "source": [
    "#results_exposures = registry.queryDimensionRecords('exposure',datasets=\"raw\",collections = 'LATISS/raw/all',where= \"instrument='LATISS' AND exposure.day_obs=20230718 AND exposure.science_program='spec'\")"
   ]
  },
  {
   "cell_type": "code",
   "execution_count": 21,
   "id": "61eb8760-28a8-4393-a1c4-d6ac6f5db51c",
   "metadata": {
    "execution": {
     "iopub.execute_input": "2023-07-24T14:11:27.508242Z",
     "iopub.status.busy": "2023-07-24T14:11:27.508104Z",
     "iopub.status.idle": "2023-07-24T14:11:27.551208Z",
     "shell.execute_reply": "2023-07-24T14:11:27.550803Z",
     "shell.execute_reply.started": "2023-07-24T14:11:27.508230Z"
    },
    "tags": []
   },
   "outputs": [],
   "source": [
    "list_exposures_attrib = list(results_exposures)\n",
    "dict_exposure = {}\n",
    "for element in list_exposures_attrib:\n",
    "    element_id = element.id\n",
    "    #print(f'--------- {element_id} -------')\n",
    "    #print(element.toDict())\n",
    "    dict_exposure[element_id] = element"
   ]
  },
  {
   "cell_type": "code",
   "execution_count": 22,
   "id": "1d6a9ce4-75f0-4c26-8579-55d99d61c44d",
   "metadata": {
    "execution": {
     "iopub.execute_input": "2023-07-24T14:11:27.551867Z",
     "iopub.status.busy": "2023-07-24T14:11:27.551733Z",
     "iopub.status.idle": "2023-07-24T14:11:27.553774Z",
     "shell.execute_reply": "2023-07-24T14:11:27.553398Z",
     "shell.execute_reply.started": "2023-07-24T14:11:27.551855Z"
    },
    "tags": []
   },
   "outputs": [],
   "source": [
    "#dict_exposure"
   ]
  },
  {
   "cell_type": "markdown",
   "id": "c30cd39d-0677-43f7-b043-c0b9ae126c73",
   "metadata": {},
   "source": [
    "### Spectractor"
   ]
  },
  {
   "cell_type": "code",
   "execution_count": 23,
   "id": "1dc181f4-d44a-48c4-8e8a-86c35c0dcc98",
   "metadata": {
    "execution": {
     "iopub.execute_input": "2023-07-24T14:11:27.554420Z",
     "iopub.status.busy": "2023-07-24T14:11:27.554292Z",
     "iopub.status.idle": "2023-07-24T14:11:27.558001Z",
     "shell.execute_reply": "2023-07-24T14:11:27.557624Z",
     "shell.execute_reply.started": "2023-07-24T14:11:27.554408Z"
    },
    "tags": []
   },
   "outputs": [],
   "source": [
    "if MODE_REBIN == 2:\n",
    "    configmode = \"PSF2DFFM_REBIN2\"\n",
    "else:\n",
    "    configmode = \"PSF2DFFM_REBIN1\"\n",
    "\n",
    "specver=\"specV2.5\""
   ]
  },
  {
   "cell_type": "markdown",
   "id": "740be8a3-fcd9-4f42-b0ec-8067ad2bc2ae",
   "metadata": {},
   "source": [
    "https://www.pythonforthelab.com/blog/how-to-use-hdf5-files-in-python/"
   ]
  },
  {
   "cell_type": "code",
   "execution_count": 24,
   "id": "6c20db62-9cda-42c7-85e8-54e33404fc56",
   "metadata": {
    "execution": {
     "iopub.execute_input": "2023-07-24T14:11:27.558635Z",
     "iopub.status.busy": "2023-07-24T14:11:27.558506Z",
     "iopub.status.idle": "2023-07-24T14:11:27.562679Z",
     "shell.execute_reply": "2023-07-24T14:11:27.562265Z",
     "shell.execute_reply.started": "2023-07-24T14:11:27.558623Z"
    },
    "tags": []
   },
   "outputs": [],
   "source": [
    "#summary_file = f\"summaryspectra_{DATE}-{filterdispersername}-{configmode}-oga.csv\"\n",
    "summary_file = f\"summaryspectraandfit_{DATE}-{filterdispersername}-{configmode}-{specver}-oga.csv\"\n",
    "output_file_h5 = f\"allspectraandfit_{DATE}-{filterdispersername}-{configmode}-{specver}-oga.hdf5\""
   ]
  },
  {
   "cell_type": "markdown",
   "id": "20dbb8da-3a08-4b4f-9437-4bf7f28c1782",
   "metadata": {},
   "source": [
    "### The collection"
   ]
  },
  {
   "cell_type": "code",
   "execution_count": 25,
   "id": "9629ea29-8ab4-4062-aed1-e16d62dc90c4",
   "metadata": {
    "execution": {
     "iopub.execute_input": "2023-07-24T14:11:27.563360Z",
     "iopub.status.busy": "2023-07-24T14:11:27.563225Z",
     "iopub.status.idle": "2023-07-24T14:11:27.580617Z",
     "shell.execute_reply": "2023-07-24T14:11:27.580125Z",
     "shell.execute_reply.started": "2023-07-24T14:11:27.563347Z"
    },
    "tags": []
   },
   "outputs": [],
   "source": [
    "datasetRefs0 = registry.queryDatasets(datasetType='spectractorSpectrum', collections=my_collection, where= \"instrument='LATISS'\")"
   ]
  },
  {
   "cell_type": "code",
   "execution_count": 26,
   "id": "14dd03a5-7376-4555-b56f-8fa89c52ced9",
   "metadata": {
    "execution": {
     "iopub.execute_input": "2023-07-24T14:11:27.581237Z",
     "iopub.status.busy": "2023-07-24T14:11:27.581107Z",
     "iopub.status.idle": "2023-07-24T14:11:27.589846Z",
     "shell.execute_reply": "2023-07-24T14:11:27.589443Z",
     "shell.execute_reply.started": "2023-07-24T14:11:27.581225Z"
    },
    "tags": []
   },
   "outputs": [
    {
     "name": "stdout",
     "output_type": "stream",
     "text": [
      "spectractorSpectrum@{instrument: 'LATISS', detector: 0, visit: 2023011700543, ...} [sc=SpectractorSpectrum] (run=u/dagoret/BPS_manyspectro_v100/20230720T141311Z id=8b1d3515-7df4-4618-9bb9-1364848a7f21)\n",
      "spectractorSpectrum@{instrument: 'LATISS', detector: 0, visit: 2023011700544, ...} [sc=SpectractorSpectrum] (run=u/dagoret/BPS_manyspectro_v100/20230720T141311Z id=02e74993-d552-40c0-80dc-c02378c14a33)\n",
      "spectractorSpectrum@{instrument: 'LATISS', detector: 0, visit: 2023011700487, ...} [sc=SpectractorSpectrum] (run=u/dagoret/BPS_manyspectro_v100/20230720T141311Z id=2879bc50-3e2d-476c-af91-fd393598c4e3)\n",
      "spectractorSpectrum@{instrument: 'LATISS', detector: 0, visit: 2023011700687, ...} [sc=SpectractorSpectrum] (run=u/dagoret/BPS_manyspectro_v100/20230720T141311Z id=5b40ce06-73c9-4dde-bb3a-cdd59a944175)\n",
      "spectractorSpectrum@{instrument: 'LATISS', detector: 0, visit: 2023011700661, ...} [sc=SpectractorSpectrum] (run=u/dagoret/BPS_manyspectro_v100/20230720T141311Z id=31d60253-a13b-4fbd-a4f5-e5883205131b)\n",
      "spectractorSpectrum@{instrument: 'LATISS', detector: 0, visit: 2023011700688, ...} [sc=SpectractorSpectrum] (run=u/dagoret/BPS_manyspectro_v100/20230720T141311Z id=df3cbc42-5ed7-44ad-89e0-c69b89540b54)\n"
     ]
    }
   ],
   "source": [
    "for i, ref in enumerate(datasetRefs0):\n",
    "    if i>5:\n",
    "        break\n",
    "    print(ref)"
   ]
  },
  {
   "cell_type": "code",
   "execution_count": 27,
   "id": "78de6d2a-9f81-4aa9-9aa1-fa8f6651b9df",
   "metadata": {
    "execution": {
     "iopub.execute_input": "2023-07-24T14:11:27.590514Z",
     "iopub.status.busy": "2023-07-24T14:11:27.590370Z",
     "iopub.status.idle": "2023-07-24T14:11:27.606673Z",
     "shell.execute_reply": "2023-07-24T14:11:27.606259Z",
     "shell.execute_reply.started": "2023-07-24T14:11:27.590502Z"
    }
   },
   "outputs": [],
   "source": [
    "datasetRefs1 = registry.queryDatasets(datasetType='spectrogramLibradtranFitParameters',collections=my_collection, where= \"instrument='LATISS'\")"
   ]
  },
  {
   "cell_type": "code",
   "execution_count": 28,
   "id": "8e9f3249-9b71-4d89-893d-aa1dd09ad754",
   "metadata": {
    "execution": {
     "iopub.execute_input": "2023-07-24T14:11:27.607354Z",
     "iopub.status.busy": "2023-07-24T14:11:27.607223Z",
     "iopub.status.idle": "2023-07-24T14:11:27.609637Z",
     "shell.execute_reply": "2023-07-24T14:11:27.609217Z",
     "shell.execute_reply.started": "2023-07-24T14:11:27.607342Z"
    },
    "tags": []
   },
   "outputs": [],
   "source": [
    "for i, ref in enumerate(datasetRefs1):\n",
    "    if i>5:\n",
    "        break\n",
    "    print(ref)"
   ]
  },
  {
   "cell_type": "code",
   "execution_count": 29,
   "id": "6ea9d4f9-738a-4b1d-8098-ffa5a201209c",
   "metadata": {
    "execution": {
     "iopub.execute_input": "2023-07-24T14:11:27.610323Z",
     "iopub.status.busy": "2023-07-24T14:11:27.610190Z",
     "iopub.status.idle": "2023-07-24T14:11:27.626299Z",
     "shell.execute_reply": "2023-07-24T14:11:27.625888Z",
     "shell.execute_reply.started": "2023-07-24T14:11:27.610311Z"
    }
   },
   "outputs": [],
   "source": [
    "datasetRefs2 = registry.queryDatasets(datasetType='spectrumForwardModelFitParameters',collections=my_collection, where= \"instrument='LATISS'\")"
   ]
  },
  {
   "cell_type": "code",
   "execution_count": 30,
   "id": "86844d22-9160-494f-b4e3-4b6baf01abe5",
   "metadata": {
    "execution": {
     "iopub.execute_input": "2023-07-24T14:11:27.626966Z",
     "iopub.status.busy": "2023-07-24T14:11:27.626834Z",
     "iopub.status.idle": "2023-07-24T14:11:27.629263Z",
     "shell.execute_reply": "2023-07-24T14:11:27.628848Z",
     "shell.execute_reply.started": "2023-07-24T14:11:27.626955Z"
    },
    "tags": []
   },
   "outputs": [],
   "source": [
    "for i, ref in enumerate(datasetRefs2):\n",
    "    if i>5:\n",
    "        break\n",
    "    print(ref)"
   ]
  },
  {
   "cell_type": "code",
   "execution_count": 31,
   "id": "6b9079dd-3c08-4ebf-8cc3-6a5f32188208",
   "metadata": {
    "execution": {
     "iopub.execute_input": "2023-07-24T14:11:27.629963Z",
     "iopub.status.busy": "2023-07-24T14:11:27.629829Z",
     "iopub.status.idle": "2023-07-24T14:11:27.646798Z",
     "shell.execute_reply": "2023-07-24T14:11:27.646368Z",
     "shell.execute_reply.started": "2023-07-24T14:11:27.629951Z"
    }
   },
   "outputs": [],
   "source": [
    "datasetRefs3 = registry.queryDatasets(datasetType='spectrumLibradtranFitParameters',collections=my_collection, where= \"instrument='LATISS'\")"
   ]
  },
  {
   "cell_type": "code",
   "execution_count": 32,
   "id": "b0270745-2b38-47c4-8551-dc3ceb74a903",
   "metadata": {
    "execution": {
     "iopub.execute_input": "2023-07-24T14:11:27.647440Z",
     "iopub.status.busy": "2023-07-24T14:11:27.647305Z",
     "iopub.status.idle": "2023-07-24T14:11:27.649831Z",
     "shell.execute_reply": "2023-07-24T14:11:27.649396Z",
     "shell.execute_reply.started": "2023-07-24T14:11:27.647422Z"
    },
    "tags": []
   },
   "outputs": [],
   "source": [
    "for i, ref in enumerate(datasetRefs3):\n",
    "    if i>5:\n",
    "        break\n",
    "    print(ref)"
   ]
  },
  {
   "cell_type": "code",
   "execution_count": 33,
   "id": "2f008879-ecc4-4b86-9b24-0641fb4301cd",
   "metadata": {
    "execution": {
     "iopub.execute_input": "2023-07-24T14:11:27.650526Z",
     "iopub.status.busy": "2023-07-24T14:11:27.650387Z",
     "iopub.status.idle": "2023-07-24T14:11:27.652695Z",
     "shell.execute_reply": "2023-07-24T14:11:27.652295Z",
     "shell.execute_reply.started": "2023-07-24T14:11:27.650514Z"
    }
   },
   "outputs": [],
   "source": [
    "# following line not possible in OGA\n",
    "#butler = butlerUtils.makeDefaultLatissButler(extraCollections=[my_collection])"
   ]
  },
  {
   "cell_type": "code",
   "execution_count": 34,
   "id": "68381069-9717-4616-ae6c-f1e6561dbddf",
   "metadata": {
    "execution": {
     "iopub.execute_input": "2023-07-24T14:11:27.653358Z",
     "iopub.status.busy": "2023-07-24T14:11:27.653229Z",
     "iopub.status.idle": "2023-07-24T14:11:27.657533Z",
     "shell.execute_reply": "2023-07-24T14:11:27.657129Z",
     "shell.execute_reply.started": "2023-07-24T14:11:27.653345Z"
    },
    "tags": []
   },
   "outputs": [],
   "source": [
    "if FLAG_MOUNT_ERRORS:\n",
    "    df_mounterrors = pd.read_csv(\"mountErrors.csv\")\n",
    "    df=df_mounterrors[df_mounterrors[\"date_obs\"] == DATE ]\n",
    "    if len(df) == 0:\n",
    "        FLAG_MOUNT_ERRORS = False\n",
    "        "
   ]
  },
  {
   "cell_type": "code",
   "execution_count": 35,
   "id": "bc55b25f-d0b7-4f74-9601-4e6441d10b4f",
   "metadata": {
    "execution": {
     "iopub.execute_input": "2023-07-24T14:11:27.658477Z",
     "iopub.status.busy": "2023-07-24T14:11:27.658073Z",
     "iopub.status.idle": "2023-07-24T14:11:27.886855Z",
     "shell.execute_reply": "2023-07-24T14:11:27.885400Z",
     "shell.execute_reply.started": "2023-07-24T14:11:27.658463Z"
    }
   },
   "outputs": [
    {
     "ename": "AssertionError",
     "evalue": "",
     "output_type": "error",
     "traceback": [
      "\u001b[0;31m---------------------------------------------------------------------------\u001b[0m",
      "\u001b[0;31mAssertionError\u001b[0m                            Traceback (most recent call last)",
      "Cell \u001b[0;32mIn[35], line 1\u001b[0m\n\u001b[0;32m----> 1\u001b[0m \u001b[38;5;28;01massert\u001b[39;00m \u001b[38;5;28;01mFalse\u001b[39;00m\n",
      "\u001b[0;31mAssertionError\u001b[0m: "
     ]
    }
   ],
   "source": [
    "assert False"
   ]
  },
  {
   "cell_type": "markdown",
   "id": "432e82a4-5617-48b3-a5bb-1f2c550c8525",
   "metadata": {},
   "source": [
    "## Loop on exposures"
   ]
  },
  {
   "cell_type": "code",
   "execution_count": null,
   "id": "72d890df-634d-4543-ba8e-c29c0621ac4d",
   "metadata": {
    "execution": {
     "iopub.status.busy": "2023-07-24T14:11:27.887321Z",
     "iopub.status.idle": "2023-07-24T14:11:27.887513Z",
     "shell.execute_reply": "2023-07-24T14:11:27.887418Z",
     "shell.execute_reply.started": "2023-07-24T14:11:27.887409Z"
    },
    "tags": []
   },
   "outputs": [],
   "source": [
    "#outfile.close()"
   ]
  },
  {
   "cell_type": "code",
   "execution_count": null,
   "id": "979b03d5-e54c-4d21-a848-98b820df1d16",
   "metadata": {
    "execution": {
     "iopub.status.busy": "2023-07-24T14:11:27.888375Z",
     "iopub.status.idle": "2023-07-24T14:11:27.888573Z",
     "shell.execute_reply": "2023-07-24T14:11:27.888482Z",
     "shell.execute_reply.started": "2023-07-24T14:11:27.888473Z"
    },
    "tags": []
   },
   "outputs": [],
   "source": [
    "all_dataId = []     # full data id\n",
    "all_spec = []       # spectra\n",
    "all_exposures = []  # exposure number\n",
    "all_num = []        # sequence numbers\n",
    "all_h5group = []\n",
    "\n",
    "hf_outfile =  h5py.File(output_file_h5, 'w') \n",
    "  \n",
    "\n",
    "for i, ref in enumerate(datasetRefs0):\n",
    "\n",
    "    print(f\"============= ({i}) ============datasetType = spectraction ============================================\")\n",
    "    print(\"fullId..................:\",ref.dataId.full)\n",
    "    print(\"visit...................:\",ref.dataId[\"visit\"])\n",
    "    print(\"band....................:\",ref.dataId[\"band\"])\n",
    "    print(\"physical filter.........:\",ref.dataId[\"physical_filter\"])\n",
    "    print(\"run.....................:\",ref.run)\n",
    "    \n",
    "    #through old runs\n",
    "    date_of_run = int(ref.run.split(\"/\")[-1].split(\"T\")[0])\n",
    "    \n",
    " \n",
    "    \n",
    "    \n",
    "    the_exposure = ref.dataId[\"visit\"]\n",
    "    the_day_obs = ref.dataId[\"visit\"]//100_000\n",
    "    the_seq_num = ref.dataId[\"visit\"]- the_day_obs*100_000    \n",
    "    the_dataId = {'day_obs': the_day_obs,'seq_num':the_seq_num,'detector':0}\n",
    "    print(the_dataId)\n",
    "    \n",
    "    \n",
    "    #print(dict_exposure[the_exposure])\n",
    "    \n",
    "    the_exposure_key = str(the_exposure)\n",
    "    \n",
    "    if the_exposure not in all_exposures:\n",
    "        g = hf_outfile.create_group(the_exposure_key)\n",
    "        all_h5group.append(g) \n",
    "    else:\n",
    "        print(f\">>>>>>  already existing key {the_exposure_key} Skip it !!! \")\n",
    "        the_exposure_key = the_exposure_key + \"_b\"\n",
    "        continue\n",
    "   \n",
    "    \n",
    "    # retrieve the spectrum from Butler\n",
    "    #spec       = butler.get('spectraction',the_dataId)\n",
    "    spec = butler.get('spectractorSpectrum', visit=the_exposure, detector=0, collections=my_collection, instrument='LATISS')\n",
    "    \n",
    "    # save in collection lists\n",
    "    all_dataId.append(the_dataId) \n",
    "    all_exposures.append(the_exposure)\n",
    "    all_spec.append(spec)\n",
    "    all_num.append(the_seq_num)\n",
    "    "
   ]
  },
  {
   "cell_type": "code",
   "execution_count": null,
   "id": "165ec0ab-fef7-4346-a1cf-28f4b59e5259",
   "metadata": {
    "execution": {
     "iopub.status.busy": "2023-07-24T14:11:27.889177Z",
     "iopub.status.idle": "2023-07-24T14:11:27.889350Z",
     "shell.execute_reply": "2023-07-24T14:11:27.889267Z",
     "shell.execute_reply.started": "2023-07-24T14:11:27.889259Z"
    },
    "tags": []
   },
   "outputs": [],
   "source": [
    "hf_outfile.keys()"
   ]
  },
  {
   "cell_type": "code",
   "execution_count": null,
   "id": "b0082a68-6a17-4de8-837b-b1986d3dd093",
   "metadata": {
    "execution": {
     "iopub.status.busy": "2023-07-24T14:11:27.889765Z",
     "iopub.status.idle": "2023-07-24T14:11:27.889936Z",
     "shell.execute_reply": "2023-07-24T14:11:27.889854Z",
     "shell.execute_reply.started": "2023-07-24T14:11:27.889846Z"
    },
    "tags": []
   },
   "outputs": [],
   "source": [
    "index = 0\n",
    "\n",
    "spec = all_spec[index]"
   ]
  },
  {
   "cell_type": "code",
   "execution_count": null,
   "id": "dabeb92d-e7ea-41bd-9afe-14f4ec4ca365",
   "metadata": {
    "execution": {
     "iopub.status.busy": "2023-07-24T14:11:27.890666Z",
     "iopub.status.idle": "2023-07-24T14:11:27.890846Z",
     "shell.execute_reply": "2023-07-24T14:11:27.890757Z",
     "shell.execute_reply.started": "2023-07-24T14:11:27.890750Z"
    },
    "tags": []
   },
   "outputs": [],
   "source": [
    "the_h5group = all_h5group[index] "
   ]
  },
  {
   "cell_type": "code",
   "execution_count": null,
   "id": "3cc31921-f813-4204-8efb-5d9cba13e785",
   "metadata": {
    "execution": {
     "iopub.status.busy": "2023-07-24T14:11:27.891582Z",
     "iopub.status.idle": "2023-07-24T14:11:27.891767Z",
     "shell.execute_reply": "2023-07-24T14:11:27.891674Z",
     "shell.execute_reply.started": "2023-07-24T14:11:27.891666Z"
    },
    "tags": []
   },
   "outputs": [],
   "source": [
    "d = the_h5group.create_dataset('airmass', data=spec.airmass)"
   ]
  },
  {
   "cell_type": "code",
   "execution_count": null,
   "id": "24c8bcad-8c18-4936-b3d3-74acd63ad092",
   "metadata": {
    "execution": {
     "iopub.status.busy": "2023-07-24T14:11:27.892117Z",
     "iopub.status.idle": "2023-07-24T14:11:27.892274Z",
     "shell.execute_reply": "2023-07-24T14:11:27.892200Z",
     "shell.execute_reply.started": "2023-07-24T14:11:27.892193Z"
    },
    "tags": []
   },
   "outputs": [],
   "source": [
    "spec.airmass"
   ]
  },
  {
   "cell_type": "code",
   "execution_count": null,
   "id": "a3672116-7048-4d01-9623-b84dc877d2c3",
   "metadata": {
    "execution": {
     "iopub.status.busy": "2023-07-24T14:11:27.893006Z",
     "iopub.status.idle": "2023-07-24T14:11:27.893183Z",
     "shell.execute_reply": "2023-07-24T14:11:27.893096Z",
     "shell.execute_reply.started": "2023-07-24T14:11:27.893088Z"
    },
    "tags": []
   },
   "outputs": [],
   "source": [
    "spec.date_obs"
   ]
  },
  {
   "cell_type": "code",
   "execution_count": null,
   "id": "c512a035-04b0-44b4-926a-5c5e51c0dc3b",
   "metadata": {
    "execution": {
     "iopub.status.busy": "2023-07-24T14:11:27.893770Z",
     "iopub.status.idle": "2023-07-24T14:11:27.893935Z",
     "shell.execute_reply": "2023-07-24T14:11:27.893858Z",
     "shell.execute_reply.started": "2023-07-24T14:11:27.893850Z"
    },
    "tags": []
   },
   "outputs": [],
   "source": [
    "spec.cov_matrix.shape"
   ]
  },
  {
   "cell_type": "code",
   "execution_count": null,
   "id": "fa2be0b1-4419-470e-8fcb-02eeb06d7e76",
   "metadata": {
    "execution": {
     "iopub.status.busy": "2023-07-24T14:11:27.894651Z",
     "iopub.status.idle": "2023-07-24T14:11:27.894819Z",
     "shell.execute_reply": "2023-07-24T14:11:27.894740Z",
     "shell.execute_reply.started": "2023-07-24T14:11:27.894733Z"
    },
    "tags": []
   },
   "outputs": [],
   "source": [
    "spec.lambdas.shape"
   ]
  },
  {
   "cell_type": "code",
   "execution_count": null,
   "id": "dd649f12-094a-49d6-bbfd-0dc4074eed5e",
   "metadata": {
    "execution": {
     "iopub.status.busy": "2023-07-24T14:11:27.895516Z",
     "iopub.status.idle": "2023-07-24T14:11:27.895691Z",
     "shell.execute_reply": "2023-07-24T14:11:27.895607Z",
     "shell.execute_reply.started": "2023-07-24T14:11:27.895599Z"
    },
    "tags": []
   },
   "outputs": [],
   "source": [
    "spec.data_next_order.shape"
   ]
  },
  {
   "cell_type": "code",
   "execution_count": null,
   "id": "4eb86272-d1e8-4c47-b82b-5aab15071e2f",
   "metadata": {
    "execution": {
     "iopub.status.busy": "2023-07-24T14:11:27.896386Z",
     "iopub.status.idle": "2023-07-24T14:11:27.896562Z",
     "shell.execute_reply": "2023-07-24T14:11:27.896484Z",
     "shell.execute_reply.started": "2023-07-24T14:11:27.896476Z"
    },
    "tags": []
   },
   "outputs": [],
   "source": [
    "#spec.chromatic_psf.load_table()\n",
    "spec.chromatic_psf.table"
   ]
  },
  {
   "cell_type": "code",
   "execution_count": null,
   "id": "a8e131a3-1693-4778-a078-c19775948182",
   "metadata": {
    "execution": {
     "iopub.status.busy": "2023-07-24T14:11:27.897210Z",
     "iopub.status.idle": "2023-07-24T14:11:27.897378Z",
     "shell.execute_reply": "2023-07-24T14:11:27.897298Z",
     "shell.execute_reply.started": "2023-07-24T14:11:27.897290Z"
    },
    "tags": []
   },
   "outputs": [],
   "source": [
    "spec.spectrogram_saturation"
   ]
  },
  {
   "cell_type": "code",
   "execution_count": null,
   "id": "a87120fc-75b7-4963-88b8-e498ec001488",
   "metadata": {
    "execution": {
     "iopub.status.busy": "2023-07-24T14:11:27.898047Z",
     "iopub.status.idle": "2023-07-24T14:11:27.898320Z",
     "shell.execute_reply": "2023-07-24T14:11:27.898137Z",
     "shell.execute_reply.started": "2023-07-24T14:11:27.898129Z"
    },
    "tags": []
   },
   "outputs": [],
   "source": [
    "spec.chromatic_psf.plot_summary()"
   ]
  },
  {
   "cell_type": "code",
   "execution_count": null,
   "id": "cffbfd6f-7e3f-4e19-ba9d-c92b659fc2d9",
   "metadata": {
    "execution": {
     "iopub.status.busy": "2023-07-24T14:11:27.899101Z",
     "iopub.status.idle": "2023-07-24T14:11:27.899279Z",
     "shell.execute_reply": "2023-07-24T14:11:27.899192Z",
     "shell.execute_reply.started": "2023-07-24T14:11:27.899184Z"
    },
    "tags": []
   },
   "outputs": [],
   "source": [
    "def DumpSpectrum(spec):\n",
    "    print(\"--------------------------------------------\")\n",
    "    print(\"spec.target.label\\t\",spec.target.label)\n",
    "    print(\"spec.filter_label\\t\",spec.filter_label)\n",
    "    print(\"spec.airmass\\t\",spec.airmass)\n",
    "    print(\"spec.date_obs\\t\",spec.date_obs)\n",
    "    print(\"spec.temperature\\t\",spec.temperature)\n",
    "    print(\"spec.pressure\\t\",spec.pressure)\n",
    "    print(\"spec.humidity\\t\",spec.humidity)    \n",
    "    #print(\"spec.ra\\t\",spec.ra)\n",
    "    print(\"spec.dec\\t\",spec.dec)\n",
    "    print(\"spec.hour_angle\\t\",spec.hour_angle)\n",
    "    print(\"spec.parallactic_angle\\t\",spec.parallactic_angle)\n",
    "    print(\"spec.camera_angle\\t\", spec.camera_angle)\n",
    "    print(\"--------------------------------------------\")\n",
    "    print(\"spec.order\\t\",spec.order)\n",
    "    print(\"spec.lambdas\\t\",spec.lambdas)\n",
    "    print(\"spec.data\\t\",spec.data)\n",
    "    print(\"spec.err\\t\",spec.err)\n",
    "    print(\"spec.covmatrix\\t\",spec.cov_matrix)\n",
    "    print(\"--------------------------------------------\")\n",
    "    print(\"spec.data_next_order\\t\",spec.data_next_order)\n",
    "    print(\"spec.err_next_order\\t\",spec.err_next_order)"
   ]
  },
  {
   "cell_type": "code",
   "execution_count": null,
   "id": "e049465b-1a81-4514-967b-4fe85f3df9b0",
   "metadata": {
    "execution": {
     "iopub.status.busy": "2023-07-24T14:11:27.899872Z",
     "iopub.status.idle": "2023-07-24T14:11:27.900043Z",
     "shell.execute_reply": "2023-07-24T14:11:27.899961Z",
     "shell.execute_reply.started": "2023-07-24T14:11:27.899953Z"
    },
    "tags": []
   },
   "outputs": [],
   "source": [
    "def AddDataSetsInGroup(spec,h5group):\n",
    "  \n",
    "    #spectrum\n",
    "\n",
    "    h5group.attrs['spec_target_label'] = spec.target.label\n",
    "    h5group.attrs['spec_filter_label'] = spec.filter_label\n",
    "    h5group.attrs[\"spec_date_obs\"] = spec.date_obs\n",
    "    h5group.attrs[\"spec_airmass\"] = spec.airmass \n",
    "    h5group.attrs[\"spec_temperature\"] = spec.temperature\n",
    "    h5group.attrs[\"spec_pressure\"] = spec.pressure\n",
    "    h5group.attrs[\"spec_humidity\"] = spec.humidity\n",
    "    h5group.attrs[\"spec_dec\"] = spec.dec\n",
    "    h5group.attrs[\"spec_hour_angle\"] = spec.hour_angle\n",
    "    h5group.attrs[\"spec_parallactic_angle\"] = spec.parallactic_angle\n",
    "    h5group.attrs[\"spec_camera_angle\"] = spec.camera_angle\n",
    "    h5group.attrs[\"spec_order\"] = spec.order\n",
    "    \n",
    "    \n",
    "    d = h5group.create_dataset(\"spec_lambdas\",data=spec.lambdas,compression=\"gzip\", compression_opts=9)\n",
    "    d = h5group.create_dataset(\"spec_data\",data=spec.data,compression=\"gzip\", compression_opts=9)\n",
    "    d = h5group.create_dataset(\"spec_err\",data=spec.err,compression=\"gzip\", compression_opts=9)\n",
    "    d = h5group.create_dataset(\"spec_covmatrix\",data=spec.cov_matrix,compression=\"gzip\", compression_opts=9)\n",
    "    d = h5group.create_dataset(\"spec_data_next_order\",data=spec.data_next_order,compression=\"gzip\", compression_opts=9)\n",
    "    d = h5group.create_dataset(\"spec_err_next_order\",data=spec.err_next_order,compression=\"gzip\", compression_opts=9)\n",
    "    \n",
    "    # spectrogram\n",
    "    \n",
    "    d = h5group.create_dataset(\"spec_spectrogram\",data=spec.spectrogram,compression=\"gzip\", compression_opts=9)\n",
    "    d = h5group.create_dataset(\"spec_spectrogram_bgd\",data=spec.spectrogram_bgd,compression=\"gzip\", compression_opts=9)\n",
    "    d = h5group.create_dataset(\"spec_spectrogram_bgd_rms\",data=spec.spectrogram_bgd_rms,compression=\"gzip\", compression_opts=9)\n",
    "    d = h5group.create_dataset(\"spec_spectrogram_err\",data=spec.spectrogram_err,compression=\"gzip\", compression_opts=9)\n",
    "    d = h5group.create_dataset(\"spec_spectrogram_residuals\",data=spec.spectrogram_residuals,compression=\"gzip\", compression_opts=9)\n",
    "    d = h5group.create_dataset(\"spec_spectrogram_fit\",data=spec.spectrogram_fit,compression=\"gzip\", compression_opts=9)\n",
    "    \n",
    "    \n",
    "    h5group.attrs[\"spec_spectrogram_x0\"]=spec.spectrogram_x0\n",
    "    h5group.attrs[\"spec_spectrogram_y0\"]=spec.spectrogram_y0\n",
    "    h5group.attrs[\"spec_spectrogram_xmin\"]=spec.spectrogram_xmin\n",
    "    h5group.attrs[\"spec_spectrogram_xmax\"]=spec.spectrogram_xmax\n",
    "    h5group.attrs[\"spec_spectrogram_ymin\"]=spec.spectrogram_ymin\n",
    "    h5group.attrs[\"spec_spectrogram_ymax\"]=spec.spectrogram_ymax\n",
    "    h5group.attrs[\"spec_spectrogram_deg\"]=spec.spectrogram_deg\n",
    "    h5group.attrs[\"spec_spectrogram_saturation\"]=spec.spectrogram_saturation      \n",
    "    h5group.attrs[\"spec_spectrogram_Nx\"]=spec.spectrogram_Nx\n",
    "    h5group.attrs[\"spec_spectrogram_Ny\"]=spec.spectrogram_Ny\n",
    "    \n",
    "    \n",
    "    # header\n",
    "    \n",
    "    h5group.attrs[\"spec_header_target\"]=spec.header[\"TARGET\"]\n",
    "    h5group.attrs[\"spec_header_redshift\"]=spec.header[\"REDSHIFT\"]\n",
    "    h5group.attrs['spec_header_grating']=spec.header[\"GRATING\"]\n",
    "    h5group.attrs[\"spec_header_rotangle\"]=spec.header[\"ROTANGLE\"]\n",
    "    h5group.attrs[\"spec_header_d2ccd\"]=spec.header[\"D2CCD\"]\n",
    "    h5group.attrs[\"spec_header_lshift\"]=spec.header[\"LSHIFT\"]\n",
    "    h5group.attrs[\"spec_header_parangle\"]=spec.header[\"PARANGLE\"]\n",
    "    h5group.attrs[\"spec_header_targetx\"]=spec.header[\"TARGETX\"]\n",
    "    h5group.attrs[\"spec_header_targety\"]=spec.header[\"TARGETY\"]\n",
    "    h5group.attrs[\"spec_header_lbda_ref\"]=spec.header[\"LBDA_REF\"]\n",
    "    h5group.attrs[\"spec_header_pixshift\"]=spec.header[\"PIXSHIFT\"]\n",
    "    h5group.attrs[\"spec_header_psf_reg\"]=spec.header[\"PSF_REG\"]\n",
    "    h5group.attrs[\"spec_header_trace_r\"]=spec.header[\"TRACE_R\"]   \n",
    "    h5group.attrs[\"spec_header_chi2_fit\"]=spec.header[\"CHI2_FIT\"]   \n",
    "    h5group.attrs[\"spec_header_a2_fit\"]=spec.header[\"A2_FIT\"]\n",
    "    h5group.attrs[\"spec_header_am_fit\"]=spec.header[\"AM_FIT\"]\n",
    "    h5group.attrs[\"spec_header_meanfwhm\"]=spec.header[\"MEANFWHM\"]\n",
    "    h5group.attrs[\"spec_header_version\"]=spec.header[\"VERSION\"]\n",
    "    h5group.attrs[\"spec_header_rebin\"]=spec.header[\"REBIN\"]\n",
    "    h5group.attrs['spec_header_date-obs']=spec.header[\"DATE-OBS\"]\n",
    "    h5group.attrs[\"spec_header_exptime\"]=spec.header[\"EXPTIME\"]\n",
    "    h5group.attrs[\"spec_header_airmass\"]=spec.header[\"AIRMASS\"] \n",
    "    h5group.attrs[\"spec_header_dec\"]=spec.header[\"DEC\"]\n",
    "    h5group.attrs[\"spec_header_ha\"]=spec.header[\"HA\"]\n",
    "    h5group.attrs[\"spec_header_outtemp\"]=spec.header[\"OUTTEMP\"] \n",
    "    h5group.attrs[\"spec_header_outpress\"]=spec.header[\"OUTPRESS\"] \n",
    "    h5group.attrs[\"spec_header_outhum\"]=spec.header[\"OUTHUM\"]\n",
    "    h5group.attrs[\"spec_header_filter\"]=spec.header[\"FILTER\"]\n",
    "    h5group.attrs[\"spec_header_cam_rot\"]=spec.header[\"CAM_ROT\"] \n",
    "    h5group.attrs[\"spec_header_s_x0\"]=spec.header[\"S_X0\"]\n",
    "    h5group.attrs[\"spec_header_s_y0\"]=spec.header[\"S_Y0\"]\n",
    "    h5group.attrs[\"spec_header_s_xmin\"]=spec.header[\"S_XMIN\"]      \n",
    "    h5group.attrs[\"spec_header_s_xmax\"]=spec.header[\"S_XMAX\"]                                               \n",
    "    h5group.attrs[\"spec_header_s_ymin\"]=spec.header[\"S_YMIN\"]      \n",
    "    h5group.attrs[\"spec_header_s_ymax\"]=spec.header[\"S_YMAX\"]                                                                                                                  \n",
    "    h5group.attrs[\"spec_header_s_nx\"]=spec.header[\"S_NX\"]\n",
    "    h5group.attrs[\"spec_header_s_ny\"]=spec.header[\"S_NY\"]   \n",
    "    h5group.attrs[\"spec_header_s_dec\"]=spec.header[\"S_DEG\"]  \n",
    "    h5group.attrs[\"spec_header_s_sat\"]=spec.header[\"S_SAT\"]      \n",
    "                                               \n",
    "    "
   ]
  },
  {
   "cell_type": "code",
   "execution_count": null,
   "id": "42631555-6e10-41aa-8619-7c8d3dcc068a",
   "metadata": {
    "execution": {
     "iopub.status.busy": "2023-07-24T14:11:27.900722Z",
     "iopub.status.idle": "2023-07-24T14:11:27.900894Z",
     "shell.execute_reply": "2023-07-24T14:11:27.900810Z",
     "shell.execute_reply.started": "2023-07-24T14:11:27.900803Z"
    },
    "tags": []
   },
   "outputs": [],
   "source": [
    "def AddMountErrorsInGroup(h5group,az_rms,el_rms,rot_rms,image_az_rms,image_el_rms,image_rot_rms):\n",
    "    h5group.attrs[\"me_az_rms\"]=az_rms\n",
    "    h5group.attrs[\"me_el_rms\"]=el_rms\n",
    "    h5group.attrs[\"me_rot_rms\"]=rot_rms\n",
    "    h5group.attrs[\"me_image_az_rms\"]=image_az_rms\n",
    "    h5group.attrs[\"me_image_el_rms\"]=image_el_rms\n",
    "    h5group.attrs[\"me_image_rot_rms\"]=image_rot_rms\n",
    "        "
   ]
  },
  {
   "cell_type": "code",
   "execution_count": null,
   "id": "96a5a910-cd59-4a21-b06e-b9dd23a3bfb3",
   "metadata": {
    "execution": {
     "iopub.status.busy": "2023-07-24T14:11:27.901703Z",
     "iopub.status.idle": "2023-07-24T14:11:27.901877Z",
     "shell.execute_reply": "2023-07-24T14:11:27.901793Z",
     "shell.execute_reply.started": "2023-07-24T14:11:27.901785Z"
    }
   },
   "outputs": [],
   "source": [
    "def AddExposureInfoInGroup(expoinfo,h5group):\n",
    "    \"\"\"\n",
    "    Add the following informations to hdf5\n",
    "    {'instrument': 'LATISS', \n",
    "     'id': 2023072000256, \n",
    "     'physical_filter': 'empty~holo4_003', \n",
    "     'obs_id': 'AT_O_20230720_000256', \n",
    "     'exposure_time': 30.0, \n",
    "     'dark_time': 30.2367, \n",
    "     'observation_type': 'science', \n",
    "     'observation_reason': 'generic', \n",
    "     'day_obs': 20230720, \n",
    "     'seq_num': 256, \n",
    "     'seq_start': 256, \n",
    "     'seq_end': 256, \n",
    "     'group_name': '2023-07-21T02:37:11.700', \n",
    "     'group_id': 2698366317000000, \n",
    "     'target_name': 'HD185975', \n",
    "     'science_program': 'spec', \n",
    "     'tracking_ra': 307.76950795132393, \n",
    "     'tracking_dec': -87.4337852028312, \n",
    "     'sky_angle': 42.62309278535102, \n",
    "     'azimuth': 177.85543058634352, \n",
    "     'zenith_angle': 57.826045218956686, \n",
    "     'has_simulated': False, \n",
    "     'timespan': Timespan(begin=astropy.time.Time('2023-07-21 02:37:47.189004', scale='tai', format='iso'), end=astropy.time.Time('2023-07-21 02:38:17.426000', scale='tai', format='iso'))\n",
    "     }\n",
    "    \"\"\"\n",
    "    h5group.attrs[\"expo_instrument\"] = expoinfo.instrument\n",
    "    h5group.attrs[\"expo_id\"] = expoinfo.id\n",
    "    h5group.attrs[\"physical_filter\"] = expoinfo.physical_filter\n",
    "    h5group.attrs[\"obs_id\"] = expoinfo.obs_id\n",
    "    h5group.attrs[\"exposure_time\"] = expoinfo.exposure_time\n",
    "    h5group.attrs[\"dark_time\"] = expoinfo.dark_time\n",
    "    h5group.attrs[\"observation_type\"] = expoinfo.observation_type\n",
    "    h5group.attrs[\"observation_reason\"] = expoinfo.observation_reason\n",
    "    h5group.attrs[\"day_obs\"] = expoinfo.day_obs    \n",
    "    h5group.attrs[\"seq_num\"] = expoinfo.seq_num\n",
    "    h5group.attrs[\"group_name\"] = expoinfo.group_name\n",
    "    h5group.attrs[\"group_id\"] = expoinfo.group_id\n",
    "    h5group.attrs[\"target_name\"] = expoinfo.target_name\n",
    "    h5group.attrs[\"science_program\"] = expoinfo.science_program\n",
    "    h5group.attrs[\"tracking_ra\"] = expoinfo.tracking_ra\n",
    "    h5group.attrs[\"tracking_dec\"] = expoinfo.tracking_dec\n",
    "    h5group.attrs[\"sky_angle\"] = expoinfo.sky_angle\n",
    "    h5group.attrs[\"azimuth\"] = expoinfo.azimuth\n",
    "    h5group.attrs[\"zenith_angle\"] = expoinfo.zenith_angle\n",
    "    h5group.attrs[\"mjd\"] = Time(expoinfo.timespan.begin.to_string()).mjd\n",
    "    h5group.attrs[\"jd\"] = Time(expoinfo.timespan.begin.to_string()).jd\n",
    "\n",
    "    \n",
    "   "
   ]
  },
  {
   "cell_type": "code",
   "execution_count": null,
   "id": "9dd5a370-fb5c-47f5-b2ec-14c5dfed4475",
   "metadata": {
    "execution": {
     "iopub.status.busy": "2023-07-24T14:11:27.903086Z",
     "iopub.status.idle": "2023-07-24T14:11:27.903388Z",
     "shell.execute_reply": "2023-07-24T14:11:27.903294Z",
     "shell.execute_reply.started": "2023-07-24T14:11:27.903285Z"
    },
    "tags": []
   },
   "outputs": [],
   "source": [
    "def AddDataSetsInGroupAndIndexExposure(spec,h5group,index,exposure,expoinfo):\n",
    "\n",
    "    h5group.attrs[\"index\"]=index\n",
    "    h5group.attrs[\"exposure\"]=exposure\n",
    "    \n",
    "    AddDataSetsInGroup(spec,h5group)\n",
    "    AddExposureInfoInGroup(expoinfo,h5group)"
   ]
  },
  {
   "cell_type": "code",
   "execution_count": null,
   "id": "0ead2d71-32cc-4ab8-a87e-22c3bbe1fb77",
   "metadata": {
    "execution": {
     "iopub.status.busy": "2023-07-24T14:11:27.903971Z",
     "iopub.status.idle": "2023-07-24T14:11:27.904137Z",
     "shell.execute_reply": "2023-07-24T14:11:27.904061Z",
     "shell.execute_reply.started": "2023-07-24T14:11:27.904053Z"
    },
    "tags": []
   },
   "outputs": [],
   "source": [
    "DumpSpectrum(spec)"
   ]
  },
  {
   "cell_type": "markdown",
   "id": "e47c7a2a-55a7-42e2-8c1b-a96f274bfbbb",
   "metadata": {},
   "source": [
    "# Save all spectra in a single file"
   ]
  },
  {
   "cell_type": "code",
   "execution_count": null,
   "id": "3a7aaa2f-e91f-418f-a2c5-62a065cc719f",
   "metadata": {
    "execution": {
     "iopub.status.busy": "2023-07-24T14:11:27.904833Z",
     "iopub.status.idle": "2023-07-24T14:11:27.905128Z",
     "shell.execute_reply": "2023-07-24T14:11:27.905036Z",
     "shell.execute_reply.started": "2023-07-24T14:11:27.905027Z"
    },
    "tags": []
   },
   "outputs": [],
   "source": [
    "exposures_sorted = np.sort(all_exposures)"
   ]
  },
  {
   "cell_type": "code",
   "execution_count": null,
   "id": "0588a8c4-a7e7-4f94-927c-30fde1122670",
   "metadata": {
    "execution": {
     "iopub.status.busy": "2023-07-24T14:11:27.905730Z",
     "iopub.status.idle": "2023-07-24T14:11:27.906122Z",
     "shell.execute_reply": "2023-07-24T14:11:27.906027Z",
     "shell.execute_reply.started": "2023-07-24T14:11:27.906018Z"
    },
    "tags": []
   },
   "outputs": [],
   "source": [
    "for idx,spec in enumerate(all_spec):   \n",
    "    the_exposure = all_exposures[idx]\n",
    "    the_sorted_index = np.where(exposures_sorted == the_exposure)[0][0]\n",
    "    \n",
    "    \n",
    "    #print(dict_exposure[the_exposure])\n",
    "    \n",
    "    # here add in HDF5\n",
    "    AddDataSetsInGroupAndIndexExposure(spec,all_h5group[idx],the_sorted_index,the_exposure,dict_exposure[the_exposure])\n",
    "    \n",
    "    \n",
    "    if FLAG_MOUNT_ERRORS:\n",
    "        df_exp_selected = df[df[\"exposure\"] == the_exposure]\n",
    "        N = len(df_exp_selected)\n",
    "        if (N)>0:\n",
    "            az_rms = df_exp_selected[\"az_rms\"].values[0]\n",
    "            el_rms = df_exp_selected[\"el_rms\"].values[0]\n",
    "            rot_rms = df_exp_selected[\"rot_rms\"].values[0]\n",
    "            image_az_rms = df_exp_selected[\"image_az_rms\"].values[0]\n",
    "            image_el_rms = df_exp_selected[\"image_el_rms\"].values[0]\n",
    "            image_rot_rms = df_exp_selected[\"image_rot_rms\"].values[0]\n",
    "            AddMountErrorsInGroup(all_h5group[idx],az_rms,el_rms,rot_rms,image_az_rms,image_el_rms,image_rot_rms)\n",
    "        else:\n",
    "            print(f\"No error mount for exposure {the_exposure}\")\n",
    "            AddMountErrorsInGroup(all_h5group[idx],-1.,-1.,-1.,-1.,-1.,-1.)\n",
    "            "
   ]
  },
  {
   "cell_type": "code",
   "execution_count": null,
   "id": "34f6cfaf-6987-4574-bf5f-722fa9f5ca2e",
   "metadata": {
    "execution": {
     "iopub.status.busy": "2023-07-24T14:11:27.906600Z",
     "iopub.status.idle": "2023-07-24T14:11:27.906762Z",
     "shell.execute_reply": "2023-07-24T14:11:27.906688Z",
     "shell.execute_reply.started": "2023-07-24T14:11:27.906681Z"
    },
    "tags": []
   },
   "outputs": [],
   "source": [
    "hf_outfile.keys()"
   ]
  },
  {
   "cell_type": "code",
   "execution_count": null,
   "id": "bdaeb3cf-3693-4103-8ccb-553587a5bf3c",
   "metadata": {
    "execution": {
     "iopub.status.busy": "2023-07-24T14:11:27.907339Z",
     "iopub.status.idle": "2023-07-24T14:11:27.907509Z",
     "shell.execute_reply": "2023-07-24T14:11:27.907432Z",
     "shell.execute_reply.started": "2023-07-24T14:11:27.907418Z"
    },
    "tags": []
   },
   "outputs": [],
   "source": [
    "#AddDataSetsInGroup(spec,the_h5group) # already done previously\n",
    "hf_outfile.close() "
   ]
  },
  {
   "cell_type": "markdown",
   "id": "f26b3f62-34f7-4cbd-bad4-c48be4e07ed9",
   "metadata": {},
   "source": [
    "## Plot Spectra\n",
    "\n",
    "- sequence order"
   ]
  },
  {
   "cell_type": "code",
   "execution_count": null,
   "id": "1c9ba2ef-91e3-4118-a952-be8079551d8d",
   "metadata": {
    "execution": {
     "iopub.status.busy": "2023-07-24T14:11:27.908246Z",
     "iopub.status.idle": "2023-07-24T14:11:27.908546Z",
     "shell.execute_reply": "2023-07-24T14:11:27.908452Z",
     "shell.execute_reply.started": "2023-07-24T14:11:27.908443Z"
    },
    "tags": []
   },
   "outputs": [],
   "source": [
    "rank = np.argsort(all_exposures)"
   ]
  },
  {
   "cell_type": "code",
   "execution_count": null,
   "id": "18903ad6-5994-419b-9df7-6fa20e01a910",
   "metadata": {
    "execution": {
     "iopub.status.busy": "2023-07-24T14:11:27.909133Z",
     "iopub.status.idle": "2023-07-24T14:11:27.909304Z",
     "shell.execute_reply": "2023-07-24T14:11:27.909223Z",
     "shell.execute_reply.started": "2023-07-24T14:11:27.909215Z"
    },
    "tags": []
   },
   "outputs": [],
   "source": [
    "NSPEC = len(all_exposures)"
   ]
  },
  {
   "cell_type": "code",
   "execution_count": null,
   "id": "09973d75-03d1-4b8c-a2ec-bf01152d014a",
   "metadata": {
    "execution": {
     "iopub.status.busy": "2023-07-24T14:11:27.910059Z",
     "iopub.status.idle": "2023-07-24T14:11:27.910346Z",
     "shell.execute_reply": "2023-07-24T14:11:27.910250Z",
     "shell.execute_reply.started": "2023-07-24T14:11:27.910241Z"
    },
    "tags": []
   },
   "outputs": [],
   "source": [
    "props = dict(boxstyle='round', facecolor='wheat', alpha=0.5)"
   ]
  },
  {
   "cell_type": "code",
   "execution_count": null,
   "id": "4fea39ba-2f11-4a8a-9248-c37ce3e7c0f4",
   "metadata": {
    "execution": {
     "iopub.status.busy": "2023-07-24T14:11:27.910946Z",
     "iopub.status.idle": "2023-07-24T14:11:27.911120Z",
     "shell.execute_reply": "2023-07-24T14:11:27.911037Z",
     "shell.execute_reply.started": "2023-07-24T14:11:27.911030Z"
    },
    "tags": []
   },
   "outputs": [],
   "source": [
    "%matplotlib inline\n",
    "\n",
    "infos = []\n",
    "all_lambdas=[]\n",
    "all_data=[]\n",
    "all_data_err=[]\n",
    "all_textstr = []\n",
    "\n",
    "\n",
    "\n",
    "# loop on spectra\n",
    "for index in range(NSPEC):\n",
    "    \n",
    "    idx = rank[index]\n",
    "    s=all_spec[idx]\n",
    "    label = str(index) +\"):\" + str(all_exposures[idx])\n",
    "    the_expos = all_exposures[idx]\n",
    "    \n",
    "    try:\n",
    "        fig=plt.figure(figsize=(16,4))\n",
    "        \n",
    "       \n",
    "        textstr = '\\n'.join((f\"object: {s.target.label}\", f\"airmass: {s.airmass:.2f}\",f\"exposure: {the_expos}\",f\"date: {s.date_obs}\"))\n",
    "    \n",
    "        ax1 = fig.add_subplot(1, 2, 1)\n",
    "        s.plot_spectrum(ax=ax1,force_lines=True,label=label)\n",
    "    \n",
    "        ax2 = fig.add_subplot(1, 2, 2)\n",
    "        s.plot_spectrogram(ax=ax2,scale=\"log\")\n",
    "        ax2.text(0.1, 2.1, textstr, transform=ax2.transAxes, fontsize=14,verticalalignment='top', bbox=props)\n",
    "    \n",
    "        all_lambdas.append(s.lambdas)\n",
    "        all_data.append(s.data)\n",
    "        all_data_err.append(s.err)\n",
    "    \n",
    "        #save info    \n",
    "        infos.append([idx,s.target.label,s.date_obs,s.airmass,s.temperature,s.pressure,s.humidity])\n",
    "        all_textstr.append(textstr)\n",
    "        \n",
    "        \n",
    "            \n",
    "    except Exception as inst:\n",
    "        print(\" >>> Exception catched for \"+ label )\n",
    "        print(type(inst))    # the exception instance\n",
    "        print(inst.args)     # arguments stored in .args\n",
    "\n",
    "    \n",
    "    idx+=1"
   ]
  },
  {
   "cell_type": "markdown",
   "id": "d7814b7e-f934-46c4-8c08-46606c36a879",
   "metadata": {},
   "source": [
    "# Save plot in pdf file"
   ]
  },
  {
   "cell_type": "code",
   "execution_count": null,
   "id": "7f5b23ab-1880-493a-9c3c-ff33e537764c",
   "metadata": {
    "execution": {
     "iopub.status.busy": "2023-07-24T14:11:27.911683Z",
     "iopub.status.idle": "2023-07-24T14:11:27.911849Z",
     "shell.execute_reply": "2023-07-24T14:11:27.911773Z",
     "shell.execute_reply.started": "2023-07-24T14:11:27.911765Z"
    }
   },
   "outputs": [],
   "source": [
    "from matplotlib.backends.backend_pdf import PdfPages"
   ]
  },
  {
   "cell_type": "code",
   "execution_count": null,
   "id": "60b537c5-febe-4a01-a027-15c47f6b784d",
   "metadata": {
    "execution": {
     "iopub.status.busy": "2023-07-24T14:11:27.912599Z",
     "iopub.status.idle": "2023-07-24T14:11:27.912949Z",
     "shell.execute_reply": "2023-07-24T14:11:27.912854Z",
     "shell.execute_reply.started": "2023-07-24T14:11:27.912844Z"
    },
    "tags": []
   },
   "outputs": [],
   "source": [
    "def SaveFigSpectraInPdf(nbspecperpage=5):\n",
    "    \n",
    "    Nspec= len(all_spec)\n",
    "    Nbpages = np.ceil(Nspec/nbspecperpage)\n",
    "    idx_inpage = nbspecperpage\n",
    "    idx_pagenum = 0\n",
    "    idx = 0\n",
    "    \n",
    "    all_composed_figs = []\n",
    "    \n",
    "    # loop on spectra\n",
    "    for index in range(Nspec):  \n",
    "        \n",
    "        # get index on spectrum\n",
    "        idx = rank[index]\n",
    "        textstr = all_textstr[index]\n",
    "   \n",
    "        # if we need to start a new page\n",
    "        if idx_inpage == nbspecperpage:\n",
    "            idx_inpage = 1  # start at the first row in the page from 1 to nbspecperpage\n",
    "            idx_pagenum += 1  # increase page counter\n",
    "            \n",
    "            # this trigger the saving of the whole figure (including all spectra of the page)\n",
    "            if idx_pagenum > 1:\n",
    "                plt.show()\n",
    "                all_composed_figs.append(fig)\n",
    "            \n",
    "            # this create a new figure \n",
    "            fig=plt.figure(figsize=(16,20))\n",
    "            \n",
    "        # this is not a new page, need to increase the row number inside this page from 1 to nbspecperpage    \n",
    "        else:\n",
    "            idx_inpage += 1   \n",
    "        \n",
    "        # index of the figure in the page\n",
    "        idx_fig = 2*(idx_inpage-1)+1\n",
    "        \n",
    "        print(f\"\\t \\t  SaveFigSpectraInPdf >>>>>>>>  spec num = {index}, pagenum = {idx_pagenum}/{Nbpages}, idx_inpage = {idx_inpage}, idx_fig = {idx_fig}\")        \n",
    "       \n",
    "    \n",
    "        # Get the spectrum          \n",
    "        s=all_spec[idx]\n",
    "        label = str(index) +\"):\" + str(all_exposures[idx])\n",
    "        \n",
    "        # left image, two columns\n",
    "        ax1 = fig.add_subplot(nbspecperpage, 2, idx_fig)\n",
    "        s.plot_spectrum(ax=ax1,force_lines=True,label=label)\n",
    "    \n",
    "        #right image, to columns\n",
    "        ax2 = fig.add_subplot(nbspecperpage, 2, idx_fig+1)\n",
    "        s.plot_spectrogram(ax=ax2,scale=\"log\")\n",
    "        ax2.text(0.1, 2.1, textstr, transform=ax2.transAxes, fontsize=14,verticalalignment='top', bbox=props)\n",
    "        \n",
    "        \n",
    "             \n",
    "                           \n",
    "    return  all_composed_figs\n",
    "    \n"
   ]
  },
  {
   "cell_type": "code",
   "execution_count": null,
   "id": "00e1ddde-0809-41bf-bc69-b1680441501a",
   "metadata": {
    "execution": {
     "iopub.status.busy": "2023-07-24T14:11:27.913495Z",
     "iopub.status.idle": "2023-07-24T14:11:27.913668Z",
     "shell.execute_reply": "2023-07-24T14:11:27.913588Z",
     "shell.execute_reply.started": "2023-07-24T14:11:27.913580Z"
    },
    "tags": []
   },
   "outputs": [],
   "source": [
    "all_figs = SaveFigSpectraInPdf(nbspecperpage=5)"
   ]
  },
  {
   "cell_type": "code",
   "execution_count": null,
   "id": "cf3f219d-b378-4146-8a00-e1feabc48a46",
   "metadata": {
    "execution": {
     "iopub.status.busy": "2023-07-24T14:11:27.914254Z",
     "iopub.status.idle": "2023-07-24T14:11:27.914417Z",
     "shell.execute_reply": "2023-07-24T14:11:27.914342Z",
     "shell.execute_reply.started": "2023-07-24T14:11:27.914334Z"
    },
    "tags": []
   },
   "outputs": [],
   "source": [
    "multipage_pdf_file = f'multipage_pdf_spectra_holo_{DATE}-{filterdispersername}-{configmode}-{specver}.pdf'"
   ]
  },
  {
   "cell_type": "code",
   "execution_count": null,
   "id": "edaaea97-afb8-4c32-943b-8e9338eddd84",
   "metadata": {
    "execution": {
     "iopub.status.busy": "2023-07-24T14:11:27.915086Z",
     "iopub.status.idle": "2023-07-24T14:11:27.915255Z",
     "shell.execute_reply": "2023-07-24T14:11:27.915174Z",
     "shell.execute_reply.started": "2023-07-24T14:11:27.915166Z"
    },
    "tags": []
   },
   "outputs": [],
   "source": [
    "# gerate a multipage pdf:\n",
    "with PdfPages(multipage_pdf_file) as pdf:\n",
    "    for fig in all_figs:\n",
    "        pdf.savefig(fig)\n",
    "        plt.close()"
   ]
  },
  {
   "cell_type": "code",
   "execution_count": null,
   "id": "0bee27f2-8471-427d-8f05-ce4b2d30d684",
   "metadata": {},
   "outputs": [],
   "source": []
  }
 ],
 "metadata": {
  "kernelspec": {
   "display_name": "LSST",
   "language": "python",
   "name": "lsst"
  },
  "language_info": {
   "codemirror_mode": {
    "name": "ipython",
    "version": 3
   },
   "file_extension": ".py",
   "mimetype": "text/x-python",
   "name": "python",
   "nbconvert_exporter": "python",
   "pygments_lexer": "ipython3",
   "version": "3.10.11"
  }
 },
 "nbformat": 4,
 "nbformat_minor": 5
}
