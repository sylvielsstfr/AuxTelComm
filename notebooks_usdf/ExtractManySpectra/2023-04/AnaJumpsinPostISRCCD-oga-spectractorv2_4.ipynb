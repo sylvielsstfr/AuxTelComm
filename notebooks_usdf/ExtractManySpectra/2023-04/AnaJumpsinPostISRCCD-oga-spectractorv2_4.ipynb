{
 "cells": [
  {
   "cell_type": "markdown",
   "id": "0b8c2138-5194-4d03-8b77-be24e2cc8ee3",
   "metadata": {},
   "source": [
    "# View  PostISRCCD  in OGA"
   ]
  },
  {
   "cell_type": "markdown",
   "id": "740e34fb-3fef-45a8-941b-c229742ab016",
   "metadata": {},
   "source": [
    " work with Weakly_2023_11\n",
    "- use jupyter kernel LSST\n",
    "- author : Sylvie Dagoret-Campagne\n",
    "- affiliation : IJCLab\n",
    "- creation date : 2023/04/19\n",
    "- last update : 2023/04/19\n",
    "\n",
    "- Spectractor https://github.com/lsst/Spectractor/\n",
    "- Spectractor Version 2.4\n",
    "- branch lsst-dev\n",
    "- available in version w_2023_11 by default\n"
   ]
  },
  {
   "cell_type": "code",
   "execution_count": 1,
   "id": "ed2c3410-fe83-432e-ab87-9f4513fa8d8b",
   "metadata": {
    "execution": {
     "iopub.execute_input": "2023-05-03T07:56:34.156295Z",
     "iopub.status.busy": "2023-05-03T07:56:34.155988Z",
     "iopub.status.idle": "2023-05-03T07:56:34.519097Z",
     "shell.execute_reply": "2023-05-03T07:56:34.518435Z",
     "shell.execute_reply.started": "2023-05-03T07:56:34.156279Z"
    },
    "tags": []
   },
   "outputs": [
    {
     "name": "stdout",
     "output_type": "stream",
     "text": [
      "atmospec              LOCAL:/home/d/dagoret/repos/repos_w_2023_11/atmospec \tsetup\n",
      "eups                  LOCAL:/opt/lsst/software/stack/conda/miniconda3-py38_4.9.2/envs/lsst-scipipe-5.1.0/eups \tsetup\n"
     ]
    }
   ],
   "source": [
    "! eups list -s | grep LOCAL"
   ]
  },
  {
   "cell_type": "code",
   "execution_count": 2,
   "id": "70918d81-0cf6-4b0a-8f61-f5e5bec5b0e7",
   "metadata": {
    "execution": {
     "iopub.execute_input": "2023-05-03T07:56:34.520188Z",
     "iopub.status.busy": "2023-05-03T07:56:34.520018Z",
     "iopub.status.idle": "2023-05-03T07:56:34.869146Z",
     "shell.execute_reply": "2023-05-03T07:56:34.868469Z",
     "shell.execute_reply.started": "2023-05-03T07:56:34.520171Z"
    },
    "tags": []
   },
   "outputs": [
    {
     "name": "stdout",
     "output_type": "stream",
     "text": [
      "   gdf42428520+c82c1836b5 \tcurrent w_2023_11 setup\n"
     ]
    }
   ],
   "source": [
    "! eups list -s lsst_distrib"
   ]
  },
  {
   "cell_type": "code",
   "execution_count": 3,
   "id": "e7e0ec91-3a48-47ea-b293-db233df2677e",
   "metadata": {
    "execution": {
     "iopub.execute_input": "2023-05-03T07:56:34.870198Z",
     "iopub.status.busy": "2023-05-03T07:56:34.870035Z",
     "iopub.status.idle": "2023-05-03T07:56:34.891180Z",
     "shell.execute_reply": "2023-05-03T07:56:34.890708Z",
     "shell.execute_reply.started": "2023-05-03T07:56:34.870181Z"
    },
    "tags": []
   },
   "outputs": [],
   "source": [
    "import h5py"
   ]
  },
  {
   "cell_type": "code",
   "execution_count": 4,
   "id": "f8d9cfca-5881-48c1-b2cb-0f794a2e4091",
   "metadata": {
    "execution": {
     "iopub.execute_input": "2023-05-03T07:56:34.891888Z",
     "iopub.status.busy": "2023-05-03T07:56:34.891753Z",
     "iopub.status.idle": "2023-05-03T07:56:35.234613Z",
     "shell.execute_reply": "2023-05-03T07:56:35.234177Z",
     "shell.execute_reply.started": "2023-05-03T07:56:34.891874Z"
    },
    "tags": []
   },
   "outputs": [],
   "source": [
    "import lsst.daf.butler as dafButler\n",
    "#import lsst.summit.utils.butlerUtils as butlerUtils"
   ]
  },
  {
   "cell_type": "code",
   "execution_count": 5,
   "id": "1ceacda9-20b0-4d77-a0d2-572c957ce273",
   "metadata": {
    "execution": {
     "iopub.execute_input": "2023-05-03T07:56:35.235377Z",
     "iopub.status.busy": "2023-05-03T07:56:35.235218Z",
     "iopub.status.idle": "2023-05-03T07:56:35.556971Z",
     "shell.execute_reply": "2023-05-03T07:56:35.556539Z",
     "shell.execute_reply.started": "2023-05-03T07:56:35.235362Z"
    },
    "tags": []
   },
   "outputs": [],
   "source": [
    "import numpy as np\n",
    "import matplotlib.pyplot as plt\n",
    "%matplotlib inline\n",
    "from mpl_toolkits.axes_grid1 import make_axes_locatable\n",
    "from matplotlib.colors import LogNorm\n",
    "import matplotlib.ticker                         # here's where the formatter is\n",
    "from matplotlib.ticker import (MultipleLocator, FormatStrFormatter,\n",
    "                               AutoMinorLocator)\n",
    "\n",
    "from astropy.visualization import (MinMaxInterval, SqrtStretch,ZScaleInterval,PercentileInterval,\n",
    "                                   ImageNormalize,imshow_norm)\n",
    "from astropy.visualization.stretch import SinhStretch, LinearStretch,AsinhStretch,LogStretch\n",
    "\n",
    "import matplotlib.patches as patches\n",
    "\n",
    "import pandas as pd\n",
    "\n",
    "import matplotlib.ticker                         # here's where the formatter is\n",
    "import os\n",
    "import re\n",
    "import pandas as pd\n",
    "\n",
    "plt.rcParams[\"figure.figsize\"] = (4,3)\n",
    "plt.rcParams[\"axes.labelsize\"] = 'xx-large'\n",
    "plt.rcParams['axes.titlesize'] = 'xx-large'\n",
    "plt.rcParams['xtick.labelsize']= 'xx-large'\n",
    "plt.rcParams['ytick.labelsize']= 'xx-large'\n",
    "plt.rcParams.update({'figure.max_open_warning': 0})"
   ]
  },
  {
   "cell_type": "code",
   "execution_count": 6,
   "id": "56d2fd02-f9dd-4a1c-a4f8-ff74f84726ce",
   "metadata": {
    "execution": {
     "iopub.execute_input": "2023-05-03T07:56:35.558940Z",
     "iopub.status.busy": "2023-05-03T07:56:35.558476Z",
     "iopub.status.idle": "2023-05-03T07:56:35.789710Z",
     "shell.execute_reply": "2023-05-03T07:56:35.789256Z",
     "shell.execute_reply.started": "2023-05-03T07:56:35.558924Z"
    }
   },
   "outputs": [],
   "source": [
    "import seaborn as sns\n",
    "hls_colors = sns.color_palette(\"hls\", 6)"
   ]
  },
  {
   "cell_type": "code",
   "execution_count": 7,
   "id": "769e12e6-917d-4722-8c1e-f965f13a8c64",
   "metadata": {
    "execution": {
     "iopub.execute_input": "2023-05-03T07:56:35.790455Z",
     "iopub.status.busy": "2023-05-03T07:56:35.790278Z",
     "iopub.status.idle": "2023-05-03T07:56:36.078274Z",
     "shell.execute_reply": "2023-05-03T07:56:36.077839Z",
     "shell.execute_reply.started": "2023-05-03T07:56:35.790439Z"
    },
    "tags": []
   },
   "outputs": [],
   "source": [
    "import lsst.afw.display as afwDisplay\n",
    "afwDisplay.setDefaultBackend('matplotlib')"
   ]
  },
  {
   "cell_type": "code",
   "execution_count": 8,
   "id": "75e20c79-7729-459b-a5e0-78d8de0c4d71",
   "metadata": {
    "execution": {
     "iopub.execute_input": "2023-05-03T07:56:36.079222Z",
     "iopub.status.busy": "2023-05-03T07:56:36.078856Z",
     "iopub.status.idle": "2023-05-03T07:56:36.081346Z",
     "shell.execute_reply": "2023-05-03T07:56:36.081017Z",
     "shell.execute_reply.started": "2023-05-03T07:56:36.079207Z"
    },
    "tags": []
   },
   "outputs": [],
   "source": [
    "from astropy.time import Time\n",
    "import astropy.units as u"
   ]
  },
  {
   "cell_type": "code",
   "execution_count": 9,
   "id": "8936aaf8-21be-4f4c-8447-a719cacbd048",
   "metadata": {
    "execution": {
     "iopub.execute_input": "2023-05-03T07:56:36.081951Z",
     "iopub.status.busy": "2023-05-03T07:56:36.081821Z",
     "iopub.status.idle": "2023-05-03T07:56:36.084413Z",
     "shell.execute_reply": "2023-05-03T07:56:36.084070Z",
     "shell.execute_reply.started": "2023-05-03T07:56:36.081938Z"
    }
   },
   "outputs": [],
   "source": [
    "import re"
   ]
  },
  {
   "cell_type": "markdown",
   "id": "c7e637b3-244b-4df3-9db2-3819e6321141",
   "metadata": {},
   "source": [
    "## Config"
   ]
  },
  {
   "cell_type": "markdown",
   "id": "f311bc61-5eb2-40b2-ab20-8241ea599037",
   "metadata": {},
   "source": [
    "### Butler"
   ]
  },
  {
   "cell_type": "code",
   "execution_count": 10,
   "id": "1c81d99a-5e91-4ba1-ba4a-c66b37905b98",
   "metadata": {
    "execution": {
     "iopub.execute_input": "2023-05-03T07:56:36.085008Z",
     "iopub.status.busy": "2023-05-03T07:56:36.084879Z",
     "iopub.status.idle": "2023-05-03T07:56:37.251202Z",
     "shell.execute_reply": "2023-05-03T07:56:37.250727Z",
     "shell.execute_reply.started": "2023-05-03T07:56:36.084995Z"
    },
    "tags": []
   },
   "outputs": [],
   "source": [
    "#repo =  \"/sdf/group/rubin/repo/main\"\n",
    "#repo = \"/sdf/group/rubin/repo/oga/\"\n",
    "repo = \"/repo/embargo/\"\n",
    "butler = dafButler.Butler(repo)\n",
    "registry = butler.registry"
   ]
  },
  {
   "cell_type": "markdown",
   "id": "7fa31e20-40fb-498d-ad80-90ee20f619cd",
   "metadata": {},
   "source": [
    "### Date & Filter & Disperser & collection\n",
    "\n",
    "- make your choice"
   ]
  },
  {
   "cell_type": "code",
   "execution_count": 11,
   "id": "d000a64c-3df6-434c-8d3e-a28cf52483be",
   "metadata": {
    "execution": {
     "iopub.execute_input": "2023-05-03T07:56:37.252067Z",
     "iopub.status.busy": "2023-05-03T07:56:37.251918Z",
     "iopub.status.idle": "2023-05-03T07:56:37.256181Z",
     "shell.execute_reply": "2023-05-03T07:56:37.255786Z",
     "shell.execute_reply.started": "2023-05-03T07:56:37.252051Z"
    }
   },
   "outputs": [],
   "source": [
    "DateToRuncollection = {\n",
    "    \n",
    "    \n",
    " # september 2022\n",
    " 20220912 :  \"u/dagoret/BPS_manyspectro_v60\", # Missing collection\n",
    " 20220913 :  \"u/dagoret/BPS_manyspectro_v61\", # Missing collection\n",
    " 20220914 :  \"u/dagoret/BPS_manyspectro_v62\", # Missing collection  \n",
    "    \n",
    " 20220927 :  \"u/dagoret/BPS_manyspectro_v63\", # Mount errors available, mitigé\n",
    " 20220928 :  \"u/dagoret/BPS_manyspectro_v64\", # Mount errors available, very nice spectra\n",
    " 20220929 :  \"u/dagoret/BPS_manyspectro_v65\", # Mount errors available, very nice spectra\n",
    "    \n",
    "    \n",
    " # october 2022\n",
    " 20221012 :  \"u/dagoret/BPS_manyspectro_v56\", # mount errors , nice, all good\n",
    " 20221025 :  \"u/dagoret/BPS_manyspectro_v57\", # mount errors, very very bad spectra, run not selected\n",
    " 20221026 :  \"u/dagoret/BPS_manyspectro_v58\", # mount errors,  very nice spectra, all good\n",
    " 20221027 :  \"u/dagoret/BPS_manyspectro_v59\", # mount errors,  nice spectra, all good\n",
    "    \n",
    " # november 2022\n",
    " 20221109 :  \"u/dagoret/BPS_manyspectro_v53\", # mount errors, nice spectra, few bad labelled as good \n",
    " 20221110 :  \"u/dagoret/BPS_manyspectro_v54\", # mount errors available, many bad rec spectra, few bad labelled as good, versy strange\n",
    " 20221123 :  \"u/dagoret/BPS_manyspectro_v55\", # mount errors , nice   \n",
    "    \n",
    " # december 2022   \n",
    " 20221207 :  \"u/dagoret/BPS_manyspectro_v48\", # No mount error, nice spectra\n",
    " 20221208 :  \"u/dagoret/BPS_manyspectro_v49\", # No mount error, nice spectra, one bad labelled as good\n",
    " 20221209 :  \"u/dagoret/BPS_manyspectro_v50\", # No mount error, spectra at distance from optical center, very interesting\n",
    " 20221210 :  \"u/dagoret/BPS_manyspectro_v51\", # No mount error, bof\n",
    " 20221212 :  \"u/dagoret/BPS_manyspectro_v52\", # No mount error, very bad gains and instability \n",
    "    \n",
    " #January 2023 \n",
    " 20230117 :  \"u/dagoret/BPS_manyspectro_v79\", # no mount errors, some mucol spectra that looks good are rejected on DCCD\n",
    " 20230118 :  \"u/dagoret/BPS_manyspectro_v80\", # no mount error, some mucol looking good are rejected, many bad centroid calculation\n",
    " 20230119 :  \"u/dagoret/BPS_manyspectro_v77\", # no mount errors, many blurred spectra probably due to strong tracking error\n",
    " 20230131 :  \"u/dagoret/BPS_manyspectro_v78\", # missing for moment\n",
    "\n",
    " #february 2023\n",
    " 20230214 :  \"u/dagoret/BPS_manyspectro_v42\", # no mount errors, nothing special\n",
    " 20230215 :  \"u/dagoret/BPS_manyspectro_v43\", # mount errors, OK\n",
    " 20230216 :  \"u/dagoret/BPS_manyspectro_v44\", # mount errors, OK, nice spectra \n",
    " 20230228 :  \"u/dagoret/BPS_manyspectro_v70\", # No mount error,OK nice spectra\n",
    "    \n",
    " #march 2023  \n",
    " 20230301 :  \"u/dagoret/BPS_manyspectro_v71\", # no mount errors, OK many spectra\n",
    " 20230302 :  \"u/dagoret/BPS_manyspectro_v72\", # no mount error, sometime bad subtraction of order2 on HD38666 (mucol) \n",
    " 20230315 :  \"u/dagoret/BPS_manyspectro_v73\", # mount errors\n",
    " 20230316 :  \"u/dagoret/BPS_manyspectro_v74\", # mount errors \n",
    "    \n",
    "}"
   ]
  },
  {
   "cell_type": "code",
   "execution_count": 12,
   "id": "c1ffbd47-4cc9-4ef1-ab1c-6f477b8139bb",
   "metadata": {
    "execution": {
     "iopub.execute_input": "2023-05-03T07:56:37.256909Z",
     "iopub.status.busy": "2023-05-03T07:56:37.256700Z",
     "iopub.status.idle": "2023-05-03T07:56:37.260649Z",
     "shell.execute_reply": "2023-05-03T07:56:37.260234Z",
     "shell.execute_reply.started": "2023-05-03T07:56:37.256894Z"
    },
    "tags": []
   },
   "outputs": [],
   "source": [
    "DATE = 20221212\n",
    "my_collection = DateToRuncollection[DATE]\n",
    "\n",
    "filterdispersername = \"empty~holo4_003\"\n",
    "\n",
    "\n",
    "RUNSELECTION = 20230403"
   ]
  },
  {
   "cell_type": "markdown",
   "id": "e5eef764-6dfc-469a-a11a-7184e0aeed06",
   "metadata": {},
   "source": [
    "# List of Dataset types avalaible in my collection"
   ]
  },
  {
   "cell_type": "markdown",
   "id": "1310d3a5-fc53-4db1-b56a-bf6f6e8eca60",
   "metadata": {},
   "source": [
    "## List of dataset types"
   ]
  },
  {
   "cell_type": "code",
   "execution_count": 13,
   "id": "44be81c8-1a26-4e62-ac23-bfa9353206a0",
   "metadata": {
    "execution": {
     "iopub.execute_input": "2023-05-03T07:56:37.261316Z",
     "iopub.status.busy": "2023-05-03T07:56:37.261147Z",
     "iopub.status.idle": "2023-05-03T07:56:37.266974Z",
     "shell.execute_reply": "2023-05-03T07:56:37.266586Z",
     "shell.execute_reply.started": "2023-05-03T07:56:37.261302Z"
    },
    "tags": []
   },
   "outputs": [
    {
     "data": {
      "text/plain": [
       "[DatasetType('atmospecCentroid', {band, instrument, detector, physical_filter, visit}, StructuredDataDict),\n",
       " DatasetType('spectraction', {band, instrument, detector, physical_filter, visit}, Spectraction),\n",
       " DatasetType('spectractorImage', {band, instrument, detector, physical_filter, visit}, SpectractorImage),\n",
       " DatasetType('spectractorSpectrum', {band, instrument, detector, physical_filter, visit}, SpectractorSpectrum),\n",
       " DatasetType('spectrogramLibradtranFitParameters', {band, instrument, detector, physical_filter, visit}, SpectractorFitParameters),\n",
       " DatasetType('spectrumForwardModelFitParameters', {band, instrument, detector, physical_filter, visit}, SpectractorFitParameters),\n",
       " DatasetType('spectrumLibradtranFitParameters', {band, instrument, detector, physical_filter, visit}, SpectractorFitParameters)]"
      ]
     },
     "execution_count": 13,
     "metadata": {},
     "output_type": "execute_result"
    }
   ],
   "source": [
    "list(registry.queryDatasetTypes(\"*spec*\"))"
   ]
  },
  {
   "cell_type": "markdown",
   "id": "1dc3ad38-178b-47c6-b989-442a8b91cf1b",
   "metadata": {},
   "source": [
    "## list of datasets"
   ]
  },
  {
   "cell_type": "code",
   "execution_count": 14,
   "id": "fe033164-536b-4adf-94d8-0b59d81740ce",
   "metadata": {
    "execution": {
     "iopub.execute_input": "2023-05-03T07:56:37.267637Z",
     "iopub.status.busy": "2023-05-03T07:56:37.267497Z",
     "iopub.status.idle": "2023-05-03T07:56:37.305790Z",
     "shell.execute_reply": "2023-05-03T07:56:37.305389Z",
     "shell.execute_reply.started": "2023-05-03T07:56:37.267623Z"
    },
    "tags": []
   },
   "outputs": [
    {
     "data": {
      "text/plain": [
       "[DatasetRef(DatasetType('atmospecCentroid', {band, instrument, detector, physical_filter, visit}, StructuredDataDict), {instrument: 'LATISS', detector: 0, visit: 2022121200397, ...}, id=7e69a147-62d1-4497-b2a1-be0bd2937b25, run='u/dagoret/BPS_manyspectro_v52/20230313T153822Z'),\n",
       " DatasetRef(DatasetType('atmospecCentroid', {band, instrument, detector, physical_filter, visit}, StructuredDataDict), {instrument: 'LATISS', detector: 0, visit: 2022121200419, ...}, id=e70d552c-6bff-4ae5-83f9-b6867a36c0e5, run='u/dagoret/BPS_manyspectro_v52/20230313T153822Z'),\n",
       " DatasetRef(DatasetType('atmospecCentroid', {band, instrument, detector, physical_filter, visit}, StructuredDataDict), {instrument: 'LATISS', detector: 0, visit: 2022121200418, ...}, id=a33a3e17-85ea-4927-a84d-503934b00ee2, run='u/dagoret/BPS_manyspectro_v52/20230313T153822Z'),\n",
       " DatasetRef(DatasetType('atmospecCentroid', {band, instrument, detector, physical_filter, visit}, StructuredDataDict), {instrument: 'LATISS', detector: 0, visit: 2022121200408, ...}, id=701a37af-8d76-4742-afd1-1fad8a57661f, run='u/dagoret/BPS_manyspectro_v52/20230313T153822Z'),\n",
       " DatasetRef(DatasetType('atmospecCentroid', {band, instrument, detector, physical_filter, visit}, StructuredDataDict), {instrument: 'LATISS', detector: 0, visit: 2022121200428, ...}, id=881284cc-53ba-4c28-b475-69d7aaba0ef2, run='u/dagoret/BPS_manyspectro_v52/20230313T153822Z'),\n",
       " DatasetRef(DatasetType('atmospecCentroid', {band, instrument, detector, physical_filter, visit}, StructuredDataDict), {instrument: 'LATISS', detector: 0, visit: 2022121200417, ...}, id=d4e85241-865e-46f4-a2cf-c44893dfe095, run='u/dagoret/BPS_manyspectro_v52/20230313T153822Z'),\n",
       " DatasetRef(DatasetType('atmospecCentroid', {band, instrument, detector, physical_filter, visit}, StructuredDataDict), {instrument: 'LATISS', detector: 0, visit: 2022121200409, ...}, id=fea7410c-62c8-4cf5-a0ae-54f892cf509b, run='u/dagoret/BPS_manyspectro_v52/20230313T153822Z'),\n",
       " DatasetRef(DatasetType('atmospecCentroid', {band, instrument, detector, physical_filter, visit}, StructuredDataDict), {instrument: 'LATISS', detector: 0, visit: 2022121200430, ...}, id=7bc82f17-b2c8-4484-bf1b-713327422444, run='u/dagoret/BPS_manyspectro_v52/20230313T153822Z'),\n",
       " DatasetRef(DatasetType('atmospecCentroid', {band, instrument, detector, physical_filter, visit}, StructuredDataDict), {instrument: 'LATISS', detector: 0, visit: 2022121200407, ...}, id=4e661109-d4ff-43d5-a3e7-e566084459d5, run='u/dagoret/BPS_manyspectro_v52/20230313T153822Z'),\n",
       " DatasetRef(DatasetType('atmospecCentroid', {band, instrument, detector, physical_filter, visit}, StructuredDataDict), {instrument: 'LATISS', detector: 0, visit: 2022121200395, ...}, id=8b0df74e-f7fd-41b4-805d-b65dac224b79, run='u/dagoret/BPS_manyspectro_v52/20230313T153822Z')]"
      ]
     },
     "execution_count": 14,
     "metadata": {},
     "output_type": "execute_result"
    }
   ],
   "source": [
    "list(registry.queryDatasets(\"*spec*\", collections=[my_collection]))[:10]"
   ]
  },
  {
   "cell_type": "markdown",
   "id": "c30cd39d-0677-43f7-b043-c0b9ae126c73",
   "metadata": {},
   "source": [
    "### Spectractor"
   ]
  },
  {
   "cell_type": "code",
   "execution_count": 15,
   "id": "1dc181f4-d44a-48c4-8e8a-86c35c0dcc98",
   "metadata": {
    "execution": {
     "iopub.execute_input": "2023-05-03T07:56:37.306443Z",
     "iopub.status.busy": "2023-05-03T07:56:37.306302Z",
     "iopub.status.idle": "2023-05-03T07:56:37.308568Z",
     "shell.execute_reply": "2023-05-03T07:56:37.308160Z",
     "shell.execute_reply.started": "2023-05-03T07:56:37.306429Z"
    },
    "tags": []
   },
   "outputs": [],
   "source": [
    "configmode = \"PSF2DFFM_REBIN2\"\n",
    "#configmode = \"PSF2DFFM_REBIN1\"\n",
    "#ext=\"_b\"\n",
    "specver=\"specV2.4\""
   ]
  },
  {
   "cell_type": "markdown",
   "id": "740be8a3-fcd9-4f42-b0ec-8067ad2bc2ae",
   "metadata": {},
   "source": [
    "https://www.pythonforthelab.com/blog/how-to-use-hdf5-files-in-python/"
   ]
  },
  {
   "cell_type": "markdown",
   "id": "20dbb8da-3a08-4b4f-9437-4bf7f28c1782",
   "metadata": {},
   "source": [
    "### The collection"
   ]
  },
  {
   "cell_type": "code",
   "execution_count": 16,
   "id": "9629ea29-8ab4-4062-aed1-e16d62dc90c4",
   "metadata": {
    "execution": {
     "iopub.execute_input": "2023-05-03T07:56:37.309331Z",
     "iopub.status.busy": "2023-05-03T07:56:37.309059Z",
     "iopub.status.idle": "2023-05-03T07:56:37.329291Z",
     "shell.execute_reply": "2023-05-03T07:56:37.328887Z",
     "shell.execute_reply.started": "2023-05-03T07:56:37.309316Z"
    },
    "tags": []
   },
   "outputs": [],
   "source": [
    "datasetRefs = registry.queryDatasets(datasetType='spectractorSpectrum', collections=my_collection, where= \"instrument='LATISS'\")"
   ]
  },
  {
   "cell_type": "markdown",
   "id": "432e82a4-5617-48b3-a5bb-1f2c550c8525",
   "metadata": {},
   "source": [
    "## Loop on exposures"
   ]
  },
  {
   "cell_type": "code",
   "execution_count": 17,
   "id": "979b03d5-e54c-4d21-a848-98b820df1d16",
   "metadata": {
    "execution": {
     "iopub.execute_input": "2023-05-03T07:56:37.329973Z",
     "iopub.status.busy": "2023-05-03T07:56:37.329800Z",
     "iopub.status.idle": "2023-05-03T07:56:52.800317Z",
     "shell.execute_reply": "2023-05-03T07:56:52.799781Z",
     "shell.execute_reply.started": "2023-05-03T07:56:37.329959Z"
    },
    "tags": []
   },
   "outputs": [
    {
     "name": "stdout",
     "output_type": "stream",
     "text": [
      "============= (0) ============datasetType = spectraction ============================================\n",
      "fullId..................: {band: 'white', instrument: 'LATISS', detector: 0, physical_filter: 'empty~holo4_003', visit: 2022121200399}\n",
      "visit...................: 2022121200399\n",
      "band....................: white\n",
      "physical filter.........: empty~holo4_003\n",
      "run.....................: u/dagoret/BPS_manyspectro_v52/20230313T153822Z\n",
      "{'day_obs': 20221212, 'seq_num': 399, 'detector': 0}\n",
      "============= (1) ============datasetType = spectraction ============================================\n",
      "fullId..................: {band: 'white', instrument: 'LATISS', detector: 0, physical_filter: 'empty~holo4_003', visit: 2022121200411}\n",
      "visit...................: 2022121200411\n",
      "band....................: white\n",
      "physical filter.........: empty~holo4_003\n",
      "run.....................: u/dagoret/BPS_manyspectro_v52/20230313T153822Z\n",
      "{'day_obs': 20221212, 'seq_num': 411, 'detector': 0}\n",
      "============= (2) ============datasetType = spectraction ============================================\n",
      "fullId..................: {band: 'white', instrument: 'LATISS', detector: 0, physical_filter: 'empty~holo4_003', visit: 2022121200406}\n",
      "visit...................: 2022121200406\n",
      "band....................: white\n",
      "physical filter.........: empty~holo4_003\n",
      "run.....................: u/dagoret/BPS_manyspectro_v52/20230313T153822Z\n",
      "{'day_obs': 20221212, 'seq_num': 406, 'detector': 0}\n",
      "============= (3) ============datasetType = spectraction ============================================\n",
      "fullId..................: {band: 'white', instrument: 'LATISS', detector: 0, physical_filter: 'empty~holo4_003', visit: 2022121200425}\n",
      "visit...................: 2022121200425\n",
      "band....................: white\n",
      "physical filter.........: empty~holo4_003\n",
      "run.....................: u/dagoret/BPS_manyspectro_v52/20230313T153822Z\n",
      "{'day_obs': 20221212, 'seq_num': 425, 'detector': 0}\n",
      "============= (4) ============datasetType = spectraction ============================================\n",
      "fullId..................: {band: 'white', instrument: 'LATISS', detector: 0, physical_filter: 'empty~holo4_003', visit: 2022121200398}\n",
      "visit...................: 2022121200398\n",
      "band....................: white\n",
      "physical filter.........: empty~holo4_003\n",
      "run.....................: u/dagoret/BPS_manyspectro_v52/20230313T153822Z\n",
      "{'day_obs': 20221212, 'seq_num': 398, 'detector': 0}\n",
      "============= (5) ============datasetType = spectraction ============================================\n",
      "fullId..................: {band: 'white', instrument: 'LATISS', detector: 0, physical_filter: 'empty~holo4_003', visit: 2022121200407}\n",
      "visit...................: 2022121200407\n",
      "band....................: white\n",
      "physical filter.........: empty~holo4_003\n",
      "run.....................: u/dagoret/BPS_manyspectro_v52/20230313T153822Z\n",
      "{'day_obs': 20221212, 'seq_num': 407, 'detector': 0}\n",
      "============= (6) ============datasetType = spectraction ============================================\n",
      "fullId..................: {band: 'white', instrument: 'LATISS', detector: 0, physical_filter: 'empty~holo4_003', visit: 2022121200418}\n",
      "visit...................: 2022121200418\n",
      "band....................: white\n",
      "physical filter.........: empty~holo4_003\n",
      "run.....................: u/dagoret/BPS_manyspectro_v52/20230313T153822Z\n",
      "{'day_obs': 20221212, 'seq_num': 418, 'detector': 0}\n",
      "============= (7) ============datasetType = spectraction ============================================\n",
      "fullId..................: {band: 'white', instrument: 'LATISS', detector: 0, physical_filter: 'empty~holo4_003', visit: 2022121200408}\n",
      "visit...................: 2022121200408\n",
      "band....................: white\n",
      "physical filter.........: empty~holo4_003\n",
      "run.....................: u/dagoret/BPS_manyspectro_v52/20230313T153822Z\n",
      "{'day_obs': 20221212, 'seq_num': 408, 'detector': 0}\n",
      "============= (8) ============datasetType = spectraction ============================================\n",
      "fullId..................: {band: 'white', instrument: 'LATISS', detector: 0, physical_filter: 'empty~holo4_003', visit: 2022121200416}\n",
      "visit...................: 2022121200416\n",
      "band....................: white\n",
      "physical filter.........: empty~holo4_003\n",
      "run.....................: u/dagoret/BPS_manyspectro_v52/20230313T153822Z\n",
      "{'day_obs': 20221212, 'seq_num': 416, 'detector': 0}\n",
      "============= (9) ============datasetType = spectraction ============================================\n",
      "fullId..................: {band: 'white', instrument: 'LATISS', detector: 0, physical_filter: 'empty~holo4_003', visit: 2022121200395}\n",
      "visit...................: 2022121200395\n",
      "band....................: white\n",
      "physical filter.........: empty~holo4_003\n",
      "run.....................: u/dagoret/BPS_manyspectro_v52/20230313T153822Z\n",
      "{'day_obs': 20221212, 'seq_num': 395, 'detector': 0}\n",
      "============= (10) ============datasetType = spectraction ============================================\n",
      "fullId..................: {band: 'white', instrument: 'LATISS', detector: 0, physical_filter: 'empty~holo4_003', visit: 2022121200400}\n",
      "visit...................: 2022121200400\n",
      "band....................: white\n",
      "physical filter.........: empty~holo4_003\n",
      "run.....................: u/dagoret/BPS_manyspectro_v52/20230313T153822Z\n",
      "{'day_obs': 20221212, 'seq_num': 400, 'detector': 0}\n",
      "============= (11) ============datasetType = spectraction ============================================\n",
      "fullId..................: {band: 'white', instrument: 'LATISS', detector: 0, physical_filter: 'empty~holo4_003', visit: 2022121200417}\n",
      "visit...................: 2022121200417\n",
      "band....................: white\n",
      "physical filter.........: empty~holo4_003\n",
      "run.....................: u/dagoret/BPS_manyspectro_v52/20230313T153822Z\n",
      "{'day_obs': 20221212, 'seq_num': 417, 'detector': 0}\n",
      "============= (12) ============datasetType = spectraction ============================================\n",
      "fullId..................: {band: 'white', instrument: 'LATISS', detector: 0, physical_filter: 'empty~holo4_003', visit: 2022121200415}\n",
      "visit...................: 2022121200415\n",
      "band....................: white\n",
      "physical filter.........: empty~holo4_003\n",
      "run.....................: u/dagoret/BPS_manyspectro_v52/20230313T153822Z\n",
      "{'day_obs': 20221212, 'seq_num': 415, 'detector': 0}\n",
      "============= (13) ============datasetType = spectraction ============================================\n",
      "fullId..................: {band: 'white', instrument: 'LATISS', detector: 0, physical_filter: 'empty~holo4_003', visit: 2022121200409}\n",
      "visit...................: 2022121200409\n",
      "band....................: white\n",
      "physical filter.........: empty~holo4_003\n",
      "run.....................: u/dagoret/BPS_manyspectro_v52/20230313T153822Z\n",
      "{'day_obs': 20221212, 'seq_num': 409, 'detector': 0}\n",
      "============= (14) ============datasetType = spectraction ============================================\n",
      "fullId..................: {band: 'white', instrument: 'LATISS', detector: 0, physical_filter: 'empty~holo4_003', visit: 2022121200426}\n",
      "visit...................: 2022121200426\n",
      "band....................: white\n",
      "physical filter.........: empty~holo4_003\n",
      "run.....................: u/dagoret/BPS_manyspectro_v52/20230313T153822Z\n",
      "{'day_obs': 20221212, 'seq_num': 426, 'detector': 0}\n",
      "============= (15) ============datasetType = spectraction ============================================\n",
      "fullId..................: {band: 'white', instrument: 'LATISS', detector: 0, physical_filter: 'empty~holo4_003', visit: 2022121200394}\n",
      "visit...................: 2022121200394\n",
      "band....................: white\n",
      "physical filter.........: empty~holo4_003\n",
      "run.....................: u/dagoret/BPS_manyspectro_v52/20230313T153822Z\n",
      "{'day_obs': 20221212, 'seq_num': 394, 'detector': 0}\n",
      "============= (16) ============datasetType = spectraction ============================================\n",
      "fullId..................: {band: 'white', instrument: 'LATISS', detector: 0, physical_filter: 'empty~holo4_003', visit: 2022121200413}\n",
      "visit...................: 2022121200413\n",
      "band....................: white\n",
      "physical filter.........: empty~holo4_003\n",
      "run.....................: u/dagoret/BPS_manyspectro_v52/20230313T153822Z\n",
      "{'day_obs': 20221212, 'seq_num': 413, 'detector': 0}\n",
      "============= (17) ============datasetType = spectraction ============================================\n",
      "fullId..................: {band: 'white', instrument: 'LATISS', detector: 0, physical_filter: 'empty~holo4_003', visit: 2022121200414}\n",
      "visit...................: 2022121200414\n",
      "band....................: white\n",
      "physical filter.........: empty~holo4_003\n",
      "run.....................: u/dagoret/BPS_manyspectro_v52/20230313T153822Z\n",
      "{'day_obs': 20221212, 'seq_num': 414, 'detector': 0}\n",
      "============= (18) ============datasetType = spectraction ============================================\n",
      "fullId..................: {band: 'white', instrument: 'LATISS', detector: 0, physical_filter: 'empty~holo4_003', visit: 2022121200402}\n",
      "visit...................: 2022121200402\n",
      "band....................: white\n",
      "physical filter.........: empty~holo4_003\n",
      "run.....................: u/dagoret/BPS_manyspectro_v52/20230313T153822Z\n",
      "{'day_obs': 20221212, 'seq_num': 402, 'detector': 0}\n",
      "============= (19) ============datasetType = spectraction ============================================\n",
      "fullId..................: {band: 'white', instrument: 'LATISS', detector: 0, physical_filter: 'empty~holo4_003', visit: 2022121200410}\n",
      "visit...................: 2022121200410\n",
      "band....................: white\n",
      "physical filter.........: empty~holo4_003\n",
      "run.....................: u/dagoret/BPS_manyspectro_v52/20230313T153822Z\n",
      "{'day_obs': 20221212, 'seq_num': 410, 'detector': 0}\n",
      "============= (20) ============datasetType = spectraction ============================================\n",
      "fullId..................: {band: 'white', instrument: 'LATISS', detector: 0, physical_filter: 'empty~holo4_003', visit: 2022121200404}\n",
      "visit...................: 2022121200404\n",
      "band....................: white\n",
      "physical filter.........: empty~holo4_003\n",
      "run.....................: u/dagoret/BPS_manyspectro_v52/20230313T153822Z\n",
      "{'day_obs': 20221212, 'seq_num': 404, 'detector': 0}\n",
      "============= (21) ============datasetType = spectraction ============================================\n",
      "fullId..................: {band: 'white', instrument: 'LATISS', detector: 0, physical_filter: 'empty~holo4_003', visit: 2022121200397}\n",
      "visit...................: 2022121200397\n",
      "band....................: white\n",
      "physical filter.........: empty~holo4_003\n",
      "run.....................: u/dagoret/BPS_manyspectro_v52/20230313T153822Z\n",
      "{'day_obs': 20221212, 'seq_num': 397, 'detector': 0}\n",
      "============= (22) ============datasetType = spectraction ============================================\n",
      "fullId..................: {band: 'white', instrument: 'LATISS', detector: 0, physical_filter: 'empty~holo4_003', visit: 2022121200428}\n",
      "visit...................: 2022121200428\n",
      "band....................: white\n",
      "physical filter.........: empty~holo4_003\n",
      "run.....................: u/dagoret/BPS_manyspectro_v52/20230313T153822Z\n",
      "{'day_obs': 20221212, 'seq_num': 428, 'detector': 0}\n",
      "============= (23) ============datasetType = spectraction ============================================\n",
      "fullId..................: {band: 'white', instrument: 'LATISS', detector: 0, physical_filter: 'empty~holo4_003', visit: 2022121200396}\n",
      "visit...................: 2022121200396\n",
      "band....................: white\n",
      "physical filter.........: empty~holo4_003\n",
      "run.....................: u/dagoret/BPS_manyspectro_v52/20230313T153822Z\n",
      "{'day_obs': 20221212, 'seq_num': 396, 'detector': 0}\n",
      "============= (24) ============datasetType = spectraction ============================================\n",
      "fullId..................: {band: 'white', instrument: 'LATISS', detector: 0, physical_filter: 'empty~holo4_003', visit: 2022121200401}\n",
      "visit...................: 2022121200401\n",
      "band....................: white\n",
      "physical filter.........: empty~holo4_003\n",
      "run.....................: u/dagoret/BPS_manyspectro_v52/20230313T153822Z\n",
      "{'day_obs': 20221212, 'seq_num': 401, 'detector': 0}\n",
      "============= (25) ============datasetType = spectraction ============================================\n",
      "fullId..................: {band: 'white', instrument: 'LATISS', detector: 0, physical_filter: 'empty~holo4_003', visit: 2022121200405}\n",
      "visit...................: 2022121200405\n",
      "band....................: white\n",
      "physical filter.........: empty~holo4_003\n",
      "run.....................: u/dagoret/BPS_manyspectro_v52/20230313T153822Z\n",
      "{'day_obs': 20221212, 'seq_num': 405, 'detector': 0}\n",
      "============= (26) ============datasetType = spectraction ============================================\n",
      "fullId..................: {band: 'white', instrument: 'LATISS', detector: 0, physical_filter: 'empty~holo4_003', visit: 2022121200403}\n",
      "visit...................: 2022121200403\n",
      "band....................: white\n",
      "physical filter.........: empty~holo4_003\n",
      "run.....................: u/dagoret/BPS_manyspectro_v52/20230313T153822Z\n",
      "{'day_obs': 20221212, 'seq_num': 403, 'detector': 0}\n",
      "============= (27) ============datasetType = spectraction ============================================\n",
      "fullId..................: {band: 'white', instrument: 'LATISS', detector: 0, physical_filter: 'empty~holo4_003', visit: 2022121200412}\n",
      "visit...................: 2022121200412\n",
      "band....................: white\n",
      "physical filter.........: empty~holo4_003\n",
      "run.....................: u/dagoret/BPS_manyspectro_v52/20230313T153822Z\n",
      "{'day_obs': 20221212, 'seq_num': 412, 'detector': 0}\n",
      "============= (28) ============datasetType = spectraction ============================================\n",
      "fullId..................: {band: 'white', instrument: 'LATISS', detector: 0, physical_filter: 'empty~holo4_003', visit: 2022121200419}\n",
      "visit...................: 2022121200419\n",
      "band....................: white\n",
      "physical filter.........: empty~holo4_003\n",
      "run.....................: u/dagoret/BPS_manyspectro_v52/20230313T153822Z\n",
      "{'day_obs': 20221212, 'seq_num': 419, 'detector': 0}\n",
      "============= (29) ============datasetType = spectraction ============================================\n",
      "fullId..................: {band: 'white', instrument: 'LATISS', detector: 0, physical_filter: 'empty~holo4_003', visit: 2022121200415}\n",
      "visit...................: 2022121200415\n",
      "band....................: white\n",
      "physical filter.........: empty~holo4_003\n",
      "run.....................: u/dagoret/BPS_manyspectro_v52/20230330T085420Z\n",
      "{'day_obs': 20221212, 'seq_num': 415, 'detector': 0}\n",
      "============= (30) ============datasetType = spectraction ============================================\n",
      "fullId..................: {band: 'white', instrument: 'LATISS', detector: 0, physical_filter: 'empty~holo4_003', visit: 2022121200403}\n",
      "visit...................: 2022121200403\n",
      "band....................: white\n",
      "physical filter.........: empty~holo4_003\n",
      "run.....................: u/dagoret/BPS_manyspectro_v52/20230330T085420Z\n",
      "{'day_obs': 20221212, 'seq_num': 403, 'detector': 0}\n",
      "============= (31) ============datasetType = spectraction ============================================\n",
      "fullId..................: {band: 'white', instrument: 'LATISS', detector: 0, physical_filter: 'empty~holo4_003', visit: 2022121200400}\n",
      "visit...................: 2022121200400\n",
      "band....................: white\n",
      "physical filter.........: empty~holo4_003\n",
      "run.....................: u/dagoret/BPS_manyspectro_v52/20230330T085420Z\n",
      "{'day_obs': 20221212, 'seq_num': 400, 'detector': 0}\n",
      "============= (32) ============datasetType = spectraction ============================================\n",
      "fullId..................: {band: 'white', instrument: 'LATISS', detector: 0, physical_filter: 'empty~holo4_003', visit: 2022121200395}\n",
      "visit...................: 2022121200395\n",
      "band....................: white\n",
      "physical filter.........: empty~holo4_003\n",
      "run.....................: u/dagoret/BPS_manyspectro_v52/20230330T085420Z\n",
      "{'day_obs': 20221212, 'seq_num': 395, 'detector': 0}\n",
      "============= (33) ============datasetType = spectraction ============================================\n",
      "fullId..................: {band: 'white', instrument: 'LATISS', detector: 0, physical_filter: 'empty~holo4_003', visit: 2022121200396}\n",
      "visit...................: 2022121200396\n",
      "band....................: white\n",
      "physical filter.........: empty~holo4_003\n",
      "run.....................: u/dagoret/BPS_manyspectro_v52/20230330T085420Z\n",
      "{'day_obs': 20221212, 'seq_num': 396, 'detector': 0}\n",
      "============= (34) ============datasetType = spectraction ============================================\n",
      "fullId..................: {band: 'white', instrument: 'LATISS', detector: 0, physical_filter: 'empty~holo4_003', visit: 2022121200404}\n",
      "visit...................: 2022121200404\n",
      "band....................: white\n",
      "physical filter.........: empty~holo4_003\n",
      "run.....................: u/dagoret/BPS_manyspectro_v52/20230330T085420Z\n",
      "{'day_obs': 20221212, 'seq_num': 404, 'detector': 0}\n",
      "============= (35) ============datasetType = spectraction ============================================\n",
      "fullId..................: {band: 'white', instrument: 'LATISS', detector: 0, physical_filter: 'empty~holo4_003', visit: 2022121200410}\n",
      "visit...................: 2022121200410\n",
      "band....................: white\n",
      "physical filter.........: empty~holo4_003\n",
      "run.....................: u/dagoret/BPS_manyspectro_v52/20230330T085420Z\n",
      "{'day_obs': 20221212, 'seq_num': 410, 'detector': 0}\n",
      "============= (36) ============datasetType = spectraction ============================================\n",
      "fullId..................: {band: 'white', instrument: 'LATISS', detector: 0, physical_filter: 'empty~holo4_003', visit: 2022121200405}\n",
      "visit...................: 2022121200405\n",
      "band....................: white\n",
      "physical filter.........: empty~holo4_003\n",
      "run.....................: u/dagoret/BPS_manyspectro_v52/20230330T085420Z\n",
      "{'day_obs': 20221212, 'seq_num': 405, 'detector': 0}\n",
      "============= (37) ============datasetType = spectraction ============================================\n",
      "fullId..................: {band: 'white', instrument: 'LATISS', detector: 0, physical_filter: 'empty~holo4_003', visit: 2022121200411}\n",
      "visit...................: 2022121200411\n",
      "band....................: white\n",
      "physical filter.........: empty~holo4_003\n",
      "run.....................: u/dagoret/BPS_manyspectro_v52/20230330T085420Z\n",
      "{'day_obs': 20221212, 'seq_num': 411, 'detector': 0}\n",
      "============= (38) ============datasetType = spectraction ============================================\n",
      "fullId..................: {band: 'white', instrument: 'LATISS', detector: 0, physical_filter: 'empty~holo4_003', visit: 2022121200418}\n",
      "visit...................: 2022121200418\n",
      "band....................: white\n",
      "physical filter.........: empty~holo4_003\n",
      "run.....................: u/dagoret/BPS_manyspectro_v52/20230330T085420Z\n",
      "{'day_obs': 20221212, 'seq_num': 418, 'detector': 0}\n",
      "============= (39) ============datasetType = spectraction ============================================\n",
      "fullId..................: {band: 'white', instrument: 'LATISS', detector: 0, physical_filter: 'empty~holo4_003', visit: 2022121200407}\n",
      "visit...................: 2022121200407\n",
      "band....................: white\n",
      "physical filter.........: empty~holo4_003\n",
      "run.....................: u/dagoret/BPS_manyspectro_v52/20230330T085420Z\n",
      "{'day_obs': 20221212, 'seq_num': 407, 'detector': 0}\n",
      "============= (40) ============datasetType = spectraction ============================================\n",
      "fullId..................: {band: 'white', instrument: 'LATISS', detector: 0, physical_filter: 'empty~holo4_003', visit: 2022121200417}\n",
      "visit...................: 2022121200417\n",
      "band....................: white\n",
      "physical filter.........: empty~holo4_003\n",
      "run.....................: u/dagoret/BPS_manyspectro_v52/20230330T085420Z\n",
      "{'day_obs': 20221212, 'seq_num': 417, 'detector': 0}\n",
      "============= (41) ============datasetType = spectraction ============================================\n",
      "fullId..................: {band: 'white', instrument: 'LATISS', detector: 0, physical_filter: 'empty~holo4_003', visit: 2022121200426}\n",
      "visit...................: 2022121200426\n",
      "band....................: white\n",
      "physical filter.........: empty~holo4_003\n",
      "run.....................: u/dagoret/BPS_manyspectro_v52/20230330T085420Z\n",
      "{'day_obs': 20221212, 'seq_num': 426, 'detector': 0}\n",
      "============= (42) ============datasetType = spectraction ============================================\n",
      "fullId..................: {band: 'white', instrument: 'LATISS', detector: 0, physical_filter: 'empty~holo4_003', visit: 2022121200397}\n",
      "visit...................: 2022121200397\n",
      "band....................: white\n",
      "physical filter.........: empty~holo4_003\n",
      "run.....................: u/dagoret/BPS_manyspectro_v52/20230330T085420Z\n",
      "{'day_obs': 20221212, 'seq_num': 397, 'detector': 0}\n",
      "============= (43) ============datasetType = spectraction ============================================\n",
      "fullId..................: {band: 'white', instrument: 'LATISS', detector: 0, physical_filter: 'empty~holo4_003', visit: 2022121200414}\n",
      "visit...................: 2022121200414\n",
      "band....................: white\n",
      "physical filter.........: empty~holo4_003\n",
      "run.....................: u/dagoret/BPS_manyspectro_v52/20230330T085420Z\n",
      "{'day_obs': 20221212, 'seq_num': 414, 'detector': 0}\n",
      "============= (44) ============datasetType = spectraction ============================================\n",
      "fullId..................: {band: 'white', instrument: 'LATISS', detector: 0, physical_filter: 'empty~holo4_003', visit: 2022121200416}\n",
      "visit...................: 2022121200416\n",
      "band....................: white\n",
      "physical filter.........: empty~holo4_003\n",
      "run.....................: u/dagoret/BPS_manyspectro_v52/20230330T085420Z\n",
      "{'day_obs': 20221212, 'seq_num': 416, 'detector': 0}\n",
      "============= (45) ============datasetType = spectraction ============================================\n",
      "fullId..................: {band: 'white', instrument: 'LATISS', detector: 0, physical_filter: 'empty~holo4_003', visit: 2022121200399}\n",
      "visit...................: 2022121200399\n",
      "band....................: white\n",
      "physical filter.........: empty~holo4_003\n",
      "run.....................: u/dagoret/BPS_manyspectro_v52/20230330T085420Z\n",
      "{'day_obs': 20221212, 'seq_num': 399, 'detector': 0}\n",
      "============= (46) ============datasetType = spectraction ============================================\n",
      "fullId..................: {band: 'white', instrument: 'LATISS', detector: 0, physical_filter: 'empty~holo4_003', visit: 2022121200398}\n",
      "visit...................: 2022121200398\n",
      "band....................: white\n",
      "physical filter.........: empty~holo4_003\n",
      "run.....................: u/dagoret/BPS_manyspectro_v52/20230330T085420Z\n",
      "{'day_obs': 20221212, 'seq_num': 398, 'detector': 0}\n",
      "============= (47) ============datasetType = spectraction ============================================\n",
      "fullId..................: {band: 'white', instrument: 'LATISS', detector: 0, physical_filter: 'empty~holo4_003', visit: 2022121200413}\n",
      "visit...................: 2022121200413\n",
      "band....................: white\n",
      "physical filter.........: empty~holo4_003\n",
      "run.....................: u/dagoret/BPS_manyspectro_v52/20230330T085420Z\n",
      "{'day_obs': 20221212, 'seq_num': 413, 'detector': 0}\n",
      "============= (48) ============datasetType = spectraction ============================================\n",
      "fullId..................: {band: 'white', instrument: 'LATISS', detector: 0, physical_filter: 'empty~holo4_003', visit: 2022121200428}\n",
      "visit...................: 2022121200428\n",
      "band....................: white\n",
      "physical filter.........: empty~holo4_003\n",
      "run.....................: u/dagoret/BPS_manyspectro_v52/20230330T085420Z\n",
      "{'day_obs': 20221212, 'seq_num': 428, 'detector': 0}\n",
      "============= (49) ============datasetType = spectraction ============================================\n",
      "fullId..................: {band: 'white', instrument: 'LATISS', detector: 0, physical_filter: 'empty~holo4_003', visit: 2022121200419}\n",
      "visit...................: 2022121200419\n",
      "band....................: white\n",
      "physical filter.........: empty~holo4_003\n",
      "run.....................: u/dagoret/BPS_manyspectro_v52/20230330T085420Z\n",
      "{'day_obs': 20221212, 'seq_num': 419, 'detector': 0}\n",
      "============= (50) ============datasetType = spectraction ============================================\n",
      "fullId..................: {band: 'white', instrument: 'LATISS', detector: 0, physical_filter: 'empty~holo4_003', visit: 2022121200412}\n",
      "visit...................: 2022121200412\n",
      "band....................: white\n",
      "physical filter.........: empty~holo4_003\n",
      "run.....................: u/dagoret/BPS_manyspectro_v52/20230330T085420Z\n",
      "{'day_obs': 20221212, 'seq_num': 412, 'detector': 0}\n",
      "============= (51) ============datasetType = spectraction ============================================\n",
      "fullId..................: {band: 'white', instrument: 'LATISS', detector: 0, physical_filter: 'empty~holo4_003', visit: 2022121200425}\n",
      "visit...................: 2022121200425\n",
      "band....................: white\n",
      "physical filter.........: empty~holo4_003\n",
      "run.....................: u/dagoret/BPS_manyspectro_v52/20230330T085420Z\n",
      "{'day_obs': 20221212, 'seq_num': 425, 'detector': 0}\n",
      "============= (52) ============datasetType = spectraction ============================================\n",
      "fullId..................: {band: 'white', instrument: 'LATISS', detector: 0, physical_filter: 'empty~holo4_003', visit: 2022121200409}\n",
      "visit...................: 2022121200409\n",
      "band....................: white\n",
      "physical filter.........: empty~holo4_003\n",
      "run.....................: u/dagoret/BPS_manyspectro_v52/20230330T085420Z\n",
      "{'day_obs': 20221212, 'seq_num': 409, 'detector': 0}\n",
      "============= (53) ============datasetType = spectraction ============================================\n",
      "fullId..................: {band: 'white', instrument: 'LATISS', detector: 0, physical_filter: 'empty~holo4_003', visit: 2022121200406}\n",
      "visit...................: 2022121200406\n",
      "band....................: white\n",
      "physical filter.........: empty~holo4_003\n",
      "run.....................: u/dagoret/BPS_manyspectro_v52/20230330T085420Z\n",
      "{'day_obs': 20221212, 'seq_num': 406, 'detector': 0}\n",
      "============= (54) ============datasetType = spectraction ============================================\n",
      "fullId..................: {band: 'white', instrument: 'LATISS', detector: 0, physical_filter: 'empty~holo4_003', visit: 2022121200401}\n",
      "visit...................: 2022121200401\n",
      "band....................: white\n",
      "physical filter.........: empty~holo4_003\n",
      "run.....................: u/dagoret/BPS_manyspectro_v52/20230330T085420Z\n",
      "{'day_obs': 20221212, 'seq_num': 401, 'detector': 0}\n",
      "============= (55) ============datasetType = spectraction ============================================\n",
      "fullId..................: {band: 'white', instrument: 'LATISS', detector: 0, physical_filter: 'empty~holo4_003', visit: 2022121200394}\n",
      "visit...................: 2022121200394\n",
      "band....................: white\n",
      "physical filter.........: empty~holo4_003\n",
      "run.....................: u/dagoret/BPS_manyspectro_v52/20230330T085420Z\n",
      "{'day_obs': 20221212, 'seq_num': 394, 'detector': 0}\n",
      "============= (56) ============datasetType = spectraction ============================================\n",
      "fullId..................: {band: 'white', instrument: 'LATISS', detector: 0, physical_filter: 'empty~holo4_003', visit: 2022121200402}\n",
      "visit...................: 2022121200402\n",
      "band....................: white\n",
      "physical filter.........: empty~holo4_003\n",
      "run.....................: u/dagoret/BPS_manyspectro_v52/20230330T085420Z\n",
      "{'day_obs': 20221212, 'seq_num': 402, 'detector': 0}\n",
      "============= (57) ============datasetType = spectraction ============================================\n",
      "fullId..................: {band: 'white', instrument: 'LATISS', detector: 0, physical_filter: 'empty~holo4_003', visit: 2022121200408}\n",
      "visit...................: 2022121200408\n",
      "band....................: white\n",
      "physical filter.........: empty~holo4_003\n",
      "run.....................: u/dagoret/BPS_manyspectro_v52/20230330T085420Z\n",
      "{'day_obs': 20221212, 'seq_num': 408, 'detector': 0}\n"
     ]
    }
   ],
   "source": [
    "all_dataId = []     # full data id\n",
    "all_spec = []       # spectra\n",
    "all_exposures = []  # exposure number\n",
    "all_num = []        # sequence numbers\n",
    "  \n",
    "\n",
    "for i, ref in enumerate(datasetRefs):\n",
    "\n",
    "    print(f\"============= ({i}) ============datasetType = spectraction ============================================\")\n",
    "    print(\"fullId..................:\",ref.dataId.full)\n",
    "    print(\"visit...................:\",ref.dataId[\"visit\"])\n",
    "    print(\"band....................:\",ref.dataId[\"band\"])\n",
    "    print(\"physical filter.........:\",ref.dataId[\"physical_filter\"])\n",
    "    print(\"run.....................:\",ref.run)\n",
    "    \n",
    "    #through old runs\n",
    "    date_of_run = int(ref.run.split(\"/\")[-1].split(\"T\")[0])\n",
    "    #if date_of_run< RUNSELECTION :\n",
    "    #    continue\n",
    " \n",
    "    \n",
    "    \n",
    "    the_exposure = ref.dataId[\"visit\"]\n",
    "    the_day_obs = ref.dataId[\"visit\"]//100_000\n",
    "    the_seq_num = ref.dataId[\"visit\"]- the_day_obs*100_000    \n",
    "    the_dataId = {'day_obs': the_day_obs,'seq_num':the_seq_num,'detector':0}\n",
    "    print(the_dataId)\n",
    "    \n",
    " \n",
    "    spec = butler.get('spectractorSpectrum', visit=the_exposure, detector=0, collections=my_collection, instrument='LATISS')\n",
    "    \n",
    "    # save in collection lists\n",
    "    all_dataId.append(the_dataId) \n",
    "    all_exposures.append(the_exposure)\n",
    "    all_spec.append(spec)\n",
    "    all_num.append(the_seq_num)\n",
    "    "
   ]
  },
  {
   "cell_type": "code",
   "execution_count": 18,
   "id": "0a06b5a3-cbf8-4a66-9e65-2c4dbf3cc245",
   "metadata": {
    "execution": {
     "iopub.execute_input": "2023-05-03T07:56:52.801119Z",
     "iopub.status.busy": "2023-05-03T07:56:52.800977Z",
     "iopub.status.idle": "2023-05-03T07:56:52.807243Z",
     "shell.execute_reply": "2023-05-03T07:56:52.806842Z",
     "shell.execute_reply.started": "2023-05-03T07:56:52.801105Z"
    },
    "tags": []
   },
   "outputs": [
    {
     "data": {
      "text/plain": [
       "[{'day_obs': 20221212, 'seq_num': 399, 'detector': 0},\n",
       " {'day_obs': 20221212, 'seq_num': 411, 'detector': 0},\n",
       " {'day_obs': 20221212, 'seq_num': 406, 'detector': 0},\n",
       " {'day_obs': 20221212, 'seq_num': 425, 'detector': 0},\n",
       " {'day_obs': 20221212, 'seq_num': 398, 'detector': 0},\n",
       " {'day_obs': 20221212, 'seq_num': 407, 'detector': 0},\n",
       " {'day_obs': 20221212, 'seq_num': 418, 'detector': 0},\n",
       " {'day_obs': 20221212, 'seq_num': 408, 'detector': 0},\n",
       " {'day_obs': 20221212, 'seq_num': 416, 'detector': 0},\n",
       " {'day_obs': 20221212, 'seq_num': 395, 'detector': 0},\n",
       " {'day_obs': 20221212, 'seq_num': 400, 'detector': 0},\n",
       " {'day_obs': 20221212, 'seq_num': 417, 'detector': 0},\n",
       " {'day_obs': 20221212, 'seq_num': 415, 'detector': 0},\n",
       " {'day_obs': 20221212, 'seq_num': 409, 'detector': 0},\n",
       " {'day_obs': 20221212, 'seq_num': 426, 'detector': 0},\n",
       " {'day_obs': 20221212, 'seq_num': 394, 'detector': 0},\n",
       " {'day_obs': 20221212, 'seq_num': 413, 'detector': 0},\n",
       " {'day_obs': 20221212, 'seq_num': 414, 'detector': 0},\n",
       " {'day_obs': 20221212, 'seq_num': 402, 'detector': 0},\n",
       " {'day_obs': 20221212, 'seq_num': 410, 'detector': 0},\n",
       " {'day_obs': 20221212, 'seq_num': 404, 'detector': 0},\n",
       " {'day_obs': 20221212, 'seq_num': 397, 'detector': 0},\n",
       " {'day_obs': 20221212, 'seq_num': 428, 'detector': 0},\n",
       " {'day_obs': 20221212, 'seq_num': 396, 'detector': 0},\n",
       " {'day_obs': 20221212, 'seq_num': 401, 'detector': 0},\n",
       " {'day_obs': 20221212, 'seq_num': 405, 'detector': 0},\n",
       " {'day_obs': 20221212, 'seq_num': 403, 'detector': 0},\n",
       " {'day_obs': 20221212, 'seq_num': 412, 'detector': 0},\n",
       " {'day_obs': 20221212, 'seq_num': 419, 'detector': 0},\n",
       " {'day_obs': 20221212, 'seq_num': 415, 'detector': 0},\n",
       " {'day_obs': 20221212, 'seq_num': 403, 'detector': 0},\n",
       " {'day_obs': 20221212, 'seq_num': 400, 'detector': 0},\n",
       " {'day_obs': 20221212, 'seq_num': 395, 'detector': 0},\n",
       " {'day_obs': 20221212, 'seq_num': 396, 'detector': 0},\n",
       " {'day_obs': 20221212, 'seq_num': 404, 'detector': 0},\n",
       " {'day_obs': 20221212, 'seq_num': 410, 'detector': 0},\n",
       " {'day_obs': 20221212, 'seq_num': 405, 'detector': 0},\n",
       " {'day_obs': 20221212, 'seq_num': 411, 'detector': 0},\n",
       " {'day_obs': 20221212, 'seq_num': 418, 'detector': 0},\n",
       " {'day_obs': 20221212, 'seq_num': 407, 'detector': 0},\n",
       " {'day_obs': 20221212, 'seq_num': 417, 'detector': 0},\n",
       " {'day_obs': 20221212, 'seq_num': 426, 'detector': 0},\n",
       " {'day_obs': 20221212, 'seq_num': 397, 'detector': 0},\n",
       " {'day_obs': 20221212, 'seq_num': 414, 'detector': 0},\n",
       " {'day_obs': 20221212, 'seq_num': 416, 'detector': 0},\n",
       " {'day_obs': 20221212, 'seq_num': 399, 'detector': 0},\n",
       " {'day_obs': 20221212, 'seq_num': 398, 'detector': 0},\n",
       " {'day_obs': 20221212, 'seq_num': 413, 'detector': 0},\n",
       " {'day_obs': 20221212, 'seq_num': 428, 'detector': 0},\n",
       " {'day_obs': 20221212, 'seq_num': 419, 'detector': 0},\n",
       " {'day_obs': 20221212, 'seq_num': 412, 'detector': 0},\n",
       " {'day_obs': 20221212, 'seq_num': 425, 'detector': 0},\n",
       " {'day_obs': 20221212, 'seq_num': 409, 'detector': 0},\n",
       " {'day_obs': 20221212, 'seq_num': 406, 'detector': 0},\n",
       " {'day_obs': 20221212, 'seq_num': 401, 'detector': 0},\n",
       " {'day_obs': 20221212, 'seq_num': 394, 'detector': 0},\n",
       " {'day_obs': 20221212, 'seq_num': 402, 'detector': 0},\n",
       " {'day_obs': 20221212, 'seq_num': 408, 'detector': 0}]"
      ]
     },
     "execution_count": 18,
     "metadata": {},
     "output_type": "execute_result"
    }
   ],
   "source": [
    "all_dataId"
   ]
  },
  {
   "cell_type": "code",
   "execution_count": 19,
   "id": "fa0e198b-04da-4899-973e-ba157fe7de1d",
   "metadata": {
    "execution": {
     "iopub.execute_input": "2023-05-03T07:56:52.807952Z",
     "iopub.status.busy": "2023-05-03T07:56:52.807814Z",
     "iopub.status.idle": "2023-05-03T07:56:52.810438Z",
     "shell.execute_reply": "2023-05-03T07:56:52.810035Z",
     "shell.execute_reply.started": "2023-05-03T07:56:52.807939Z"
    },
    "tags": []
   },
   "outputs": [],
   "source": [
    "all_numbers = [395,398,406]"
   ]
  },
  {
   "cell_type": "code",
   "execution_count": 20,
   "id": "39680643-50f1-4d8c-924c-879e5fd5c381",
   "metadata": {
    "execution": {
     "iopub.execute_input": "2023-05-03T07:56:52.811102Z",
     "iopub.status.busy": "2023-05-03T07:56:52.810972Z",
     "iopub.status.idle": "2023-05-03T07:56:52.813650Z",
     "shell.execute_reply": "2023-05-03T07:56:52.813248Z",
     "shell.execute_reply.started": "2023-05-03T07:56:52.811090Z"
    }
   },
   "outputs": [],
   "source": [
    "dataid1 = {'day_obs': 20221212, 'seq_num': 395, 'detector': 0}\n",
    "dataid2 = {'day_obs': 20221212, 'seq_num': 398, 'detector': 0}\n",
    "dataid3 = {'day_obs': 20221212, 'seq_num': 406, 'detector': 0}"
   ]
  },
  {
   "cell_type": "code",
   "execution_count": 33,
   "id": "10520116-0abd-4f1b-814c-5b575d2287cf",
   "metadata": {
    "execution": {
     "iopub.execute_input": "2023-05-03T08:06:24.497932Z",
     "iopub.status.busy": "2023-05-03T08:06:24.497308Z",
     "iopub.status.idle": "2023-05-03T08:06:24.500271Z",
     "shell.execute_reply": "2023-05-03T08:06:24.499802Z",
     "shell.execute_reply.started": "2023-05-03T08:06:24.497913Z"
    },
    "tags": []
   },
   "outputs": [],
   "source": [
    "all_dataid = [dataid1,dataid2,dataid3]"
   ]
  },
  {
   "cell_type": "code",
   "execution_count": 45,
   "id": "8a044096-c5f3-43ff-a296-172f50fbe1be",
   "metadata": {
    "execution": {
     "iopub.execute_input": "2023-05-03T11:38:13.925946Z",
     "iopub.status.busy": "2023-05-03T11:38:13.925610Z",
     "iopub.status.idle": "2023-05-03T11:38:13.976602Z",
     "shell.execute_reply": "2023-05-03T11:38:13.976114Z",
     "shell.execute_reply.started": "2023-05-03T11:38:13.925925Z"
    },
    "tags": []
   },
   "outputs": [
    {
     "ename": "LookupError",
     "evalue": "Dataset postISRCCD with data ID {instrument: 'LATISS', detector: 0, exposure: 2022121200395} could not be found in collections ['LATISS/calib'].",
     "output_type": "error",
     "traceback": [
      "\u001b[0;31m---------------------------------------------------------------------------\u001b[0m",
      "\u001b[0;31mLookupError\u001b[0m                               Traceback (most recent call last)",
      "Input \u001b[0;32mIn [45]\u001b[0m, in \u001b[0;36m<cell line: 3>\u001b[0;34m()\u001b[0m\n\u001b[1;32m      1\u001b[0m all_postisrccd \u001b[38;5;241m=\u001b[39m []\n\u001b[1;32m      3\u001b[0m \u001b[38;5;28;01mfor\u001b[39;00m dataid \u001b[38;5;129;01min\u001b[39;00m all_dataid: \n\u001b[0;32m----> 4\u001b[0m     postisrccd \u001b[38;5;241m=\u001b[39m \u001b[43mbutler\u001b[49m\u001b[38;5;241;43m.\u001b[39;49m\u001b[43mget\u001b[49m\u001b[43m(\u001b[49m\u001b[38;5;124;43m'\u001b[39;49m\u001b[38;5;124;43mpostISRCCD\u001b[39;49m\u001b[38;5;124;43m'\u001b[39;49m\u001b[43m,\u001b[49m\u001b[43m \u001b[49m\u001b[43mdataId\u001b[49m\u001b[43m \u001b[49m\u001b[38;5;241;43m=\u001b[39;49m\u001b[43m \u001b[49m\u001b[43mdataid\u001b[49m\u001b[43m,\u001b[49m\u001b[43m \u001b[49m\u001b[43mdetector\u001b[49m\u001b[38;5;241;43m=\u001b[39;49m\u001b[38;5;241;43m0\u001b[39;49m\u001b[43m,\u001b[49m\u001b[43m \u001b[49m\u001b[43mcollections\u001b[49m\u001b[38;5;241;43m=\u001b[39;49m\u001b[43m[\u001b[49m\u001b[38;5;124;43m'\u001b[39;49m\u001b[38;5;124;43mLATISS/calib\u001b[39;49m\u001b[38;5;124;43m'\u001b[39;49m\u001b[43m]\u001b[49m\u001b[43m,\u001b[49m\u001b[43m \u001b[49m\u001b[43minstrument\u001b[49m\u001b[38;5;241;43m=\u001b[39;49m\u001b[38;5;124;43m'\u001b[39;49m\u001b[38;5;124;43mLATISS\u001b[39;49m\u001b[38;5;124;43m'\u001b[39;49m\u001b[43m)\u001b[49m\n\u001b[1;32m      5\u001b[0m     all_postisrccd\u001b[38;5;241m.\u001b[39mappend(postisrccd)\n",
      "File \u001b[0;32m/opt/lsst/software/stack/stack/miniconda3-py38_4.9.2-5.1.0/Linux64/daf_butler/gf32ae8e294+b394adeda7/python/lsst/daf/butler/_butler.py:1444\u001b[0m, in \u001b[0;36mButler.get\u001b[0;34m(self, datasetRefOrType, dataId, parameters, collections, storageClass, **kwargs)\u001b[0m\n\u001b[1;32m   1389\u001b[0m \u001b[38;5;250m\u001b[39m\u001b[38;5;124;03m\"\"\"Retrieve a stored dataset.\u001b[39;00m\n\u001b[1;32m   1390\u001b[0m \n\u001b[1;32m   1391\u001b[0m \u001b[38;5;124;03mParameters\u001b[39;00m\n\u001b[0;32m   (...)\u001b[0m\n\u001b[1;32m   1441\u001b[0m \u001b[38;5;124;03m``exposure`` is a temporal dimension.\u001b[39;00m\n\u001b[1;32m   1442\u001b[0m \u001b[38;5;124;03m\"\"\"\u001b[39;00m\n\u001b[1;32m   1443\u001b[0m log\u001b[38;5;241m.\u001b[39mdebug(\u001b[38;5;124m\"\u001b[39m\u001b[38;5;124mButler get: \u001b[39m\u001b[38;5;132;01m%s\u001b[39;00m\u001b[38;5;124m, dataId=\u001b[39m\u001b[38;5;132;01m%s\u001b[39;00m\u001b[38;5;124m, parameters=\u001b[39m\u001b[38;5;132;01m%s\u001b[39;00m\u001b[38;5;124m\"\u001b[39m, datasetRefOrType, dataId, parameters)\n\u001b[0;32m-> 1444\u001b[0m ref \u001b[38;5;241m=\u001b[39m \u001b[38;5;28;43mself\u001b[39;49m\u001b[38;5;241;43m.\u001b[39;49m\u001b[43m_findDatasetRef\u001b[49m\u001b[43m(\u001b[49m\u001b[43mdatasetRefOrType\u001b[49m\u001b[43m,\u001b[49m\u001b[43m \u001b[49m\u001b[43mdataId\u001b[49m\u001b[43m,\u001b[49m\u001b[43m \u001b[49m\u001b[43mcollections\u001b[49m\u001b[38;5;241;43m=\u001b[39;49m\u001b[43mcollections\u001b[49m\u001b[43m,\u001b[49m\u001b[43m \u001b[49m\u001b[38;5;241;43m*\u001b[39;49m\u001b[38;5;241;43m*\u001b[39;49m\u001b[43mkwargs\u001b[49m\u001b[43m)\u001b[49m\n\u001b[1;32m   1445\u001b[0m \u001b[38;5;28;01mreturn\u001b[39;00m \u001b[38;5;28mself\u001b[39m\u001b[38;5;241m.\u001b[39mgetDirect(ref, parameters\u001b[38;5;241m=\u001b[39mparameters, storageClass\u001b[38;5;241m=\u001b[39mstorageClass)\n",
      "File \u001b[0;32m/opt/lsst/software/stack/stack/miniconda3-py38_4.9.2-5.1.0/Linux64/daf_butler/gf32ae8e294+b394adeda7/python/lsst/daf/butler/_butler.py:1124\u001b[0m, in \u001b[0;36mButler._findDatasetRef\u001b[0;34m(self, datasetRefOrType, dataId, collections, allowUnresolved, **kwargs)\u001b[0m\n\u001b[1;32m   1122\u001b[0m         \u001b[38;5;28;01mif\u001b[39;00m collections \u001b[38;5;129;01mis\u001b[39;00m \u001b[38;5;28;01mNone\u001b[39;00m:\n\u001b[1;32m   1123\u001b[0m             collections \u001b[38;5;241m=\u001b[39m \u001b[38;5;28mself\u001b[39m\u001b[38;5;241m.\u001b[39mregistry\u001b[38;5;241m.\u001b[39mdefaults\u001b[38;5;241m.\u001b[39mcollections\n\u001b[0;32m-> 1124\u001b[0m         \u001b[38;5;28;01mraise\u001b[39;00m \u001b[38;5;167;01mLookupError\u001b[39;00m(\n\u001b[1;32m   1125\u001b[0m             \u001b[38;5;124mf\u001b[39m\u001b[38;5;124m\"\u001b[39m\u001b[38;5;124mDataset \u001b[39m\u001b[38;5;132;01m{\u001b[39;00mdatasetType\u001b[38;5;241m.\u001b[39mname\u001b[38;5;132;01m}\u001b[39;00m\u001b[38;5;124m with data ID \u001b[39m\u001b[38;5;132;01m{\u001b[39;00mdataId\u001b[38;5;132;01m}\u001b[39;00m\u001b[38;5;124m \u001b[39m\u001b[38;5;124m\"\u001b[39m\n\u001b[1;32m   1126\u001b[0m             \u001b[38;5;124mf\u001b[39m\u001b[38;5;124m\"\u001b[39m\u001b[38;5;124mcould not be found in collections \u001b[39m\u001b[38;5;132;01m{\u001b[39;00mcollections\u001b[38;5;132;01m}\u001b[39;00m\u001b[38;5;124m.\u001b[39m\u001b[38;5;124m\"\u001b[39m\n\u001b[1;32m   1127\u001b[0m         )\n\u001b[1;32m   1128\u001b[0m \u001b[38;5;28;01mif\u001b[39;00m idNumber \u001b[38;5;129;01mis\u001b[39;00m \u001b[38;5;129;01mnot\u001b[39;00m \u001b[38;5;28;01mNone\u001b[39;00m \u001b[38;5;129;01mand\u001b[39;00m idNumber \u001b[38;5;241m!=\u001b[39m ref\u001b[38;5;241m.\u001b[39mid:\n\u001b[1;32m   1129\u001b[0m     \u001b[38;5;28;01mif\u001b[39;00m collections \u001b[38;5;129;01mis\u001b[39;00m \u001b[38;5;28;01mNone\u001b[39;00m:\n",
      "\u001b[0;31mLookupError\u001b[0m: Dataset postISRCCD with data ID {instrument: 'LATISS', detector: 0, exposure: 2022121200395} could not be found in collections ['LATISS/calib']."
     ]
    }
   ],
   "source": [
    "all_postisrccd = []\n",
    "\n",
    "for dataid in all_dataid: \n",
    "    postisrccd = butler.get('postISRCCD', dataId = dataid, detector=0, collections=['LATISS/calib'], instrument='LATISS')\n",
    "    all_postisrccd.append(postisrccd)"
   ]
  },
  {
   "cell_type": "code",
   "execution_count": 43,
   "id": "6ebb8ffd-b5c7-4ff5-adf8-3309866fa429",
   "metadata": {
    "execution": {
     "iopub.execute_input": "2023-05-03T08:10:48.817717Z",
     "iopub.status.busy": "2023-05-03T08:10:48.817179Z",
     "iopub.status.idle": "2023-05-03T08:10:48.826123Z",
     "shell.execute_reply": "2023-05-03T08:10:48.825638Z",
     "shell.execute_reply.started": "2023-05-03T08:10:48.817697Z"
    },
    "tags": []
   },
   "outputs": [
    {
     "name": "stdout",
     "output_type": "stream",
     "text": [
      "=====================================================\n",
      "{'day_obs': 20221212, 'seq_num': 395, 'detector': 0}\n",
      "2023-02-02 16:00:20 PST\n",
      "7a744f61-28ef-454f-a16c-b39c762f82a1\n",
      "u/czw/DM-37811/parOStest.20230202a/biasGen.20230\n",
      "=====================================================\n",
      "{'day_obs': 20221212, 'seq_num': 398, 'detector': 0}\n",
      "2023-02-02 16:00:20 PST\n",
      "7a744f61-28ef-454f-a16c-b39c762f82a1\n",
      "u/czw/DM-37811/parOStest.20230202a/biasGen.20230\n",
      "=====================================================\n",
      "{'day_obs': 20221212, 'seq_num': 406, 'detector': 0}\n",
      "2023-02-02 16:00:20 PST\n",
      "7a744f61-28ef-454f-a16c-b39c762f82a1\n",
      "u/czw/DM-37811/parOStest.20230202a/biasGen.20230\n"
     ]
    }
   ],
   "source": [
    "for idx,the_dataid in enumerate(all_dataid):\n",
    "    print(\"=====================================================\")\n",
    "    print(the_dataid)\n",
    "    the_postisrccd = all_postisrccd[idx]\n",
    "    the_metadata = dict(the_postisrccd.getMetadata())\n",
    "    print(the_metadata['LSST CALIB DATE BIAS'])\n",
    "    print(the_metadata['LSST CALIB UUID BIAS']) \n",
    "    print(the_metadata['LSST CALIB RUN BIAS'])\n",
    "      \n"
   ]
  },
  {
   "cell_type": "code",
   "execution_count": 46,
   "id": "fa959df6-69e7-4a05-96c2-5469787fe130",
   "metadata": {
    "execution": {
     "iopub.execute_input": "2023-05-03T11:44:33.213548Z",
     "iopub.status.busy": "2023-05-03T11:44:33.213151Z",
     "iopub.status.idle": "2023-05-03T11:44:35.729033Z",
     "shell.execute_reply": "2023-05-03T11:44:35.728581Z",
     "shell.execute_reply.started": "2023-05-03T11:44:33.213523Z"
    },
    "tags": []
   },
   "outputs": [],
   "source": [
    "all_masterbias = []\n",
    "all_czwcalibs_coll = [\"u/czw/DM-37811/parOStest-config.20230208a/biasGen.20230208a\",\n",
    "\"u/czw/DM-37811/parOStest-config.20230208a/biasGen.20230208a/20230208T212159Z\",\n",
    "\"u/czw/DM-37811/parOStest.20230201/biasGen.20230201a\",\n",
    "\"u/czw/DM-37811/parOStest.20230201/biasGen.20230201a/20230201T224721Z\",\n",
    "\"u/czw/DM-37811/parOStest.20230201/verifyBias.20230201a\",\n",
    "\"u/czw/DM-37811/parOStest.20230201/verifyBias.20230201a/20230201T225514Z\",\n",
    "\"u/czw/DM-37811/parOStest.20230201a/biasGen.20230201a\",\n",
    "\"u/czw/DM-37811/parOStest.20230201a/biasGen.20230201a/20230201T233319Z\",\n",
    "\"u/czw/DM-37811/parOStest.20230201a/calib\",\n",
    "\"u/czw/DM-37811/parOStest.20230201a/calib/bias.20230201a\",\n",
    "\"u/czw/DM-37811/parOStest.20230201a/calib/dark.20230201b\",\n",
    "\"u/czw/DM-37811/parOStest.20230201a/calib/flat-SDSSi.20230201c\",\n",
    "\"u/czw/DM-37811/parOStest.20230201a/darkGen.20230201b\",\n",
    "\"u/czw/DM-37811/parOStest.20230201a/darkGen.20230201b/20230201T235845Z\",\n",
    "\"u/czw/DM-37811/parOStest.20230201a/flatGen-SDSSi.20230201c\",\n",
    "\"u/czw/DM-37811/parOStest.20230201a/flatGen-SDSSi.20230201c/20230202T004255Z\",\n",
    "\"u/czw/DM-37811/parOStest.20230201a/verifyBias.20230201a\",\n",
    "\"u/czw/DM-37811/parOStest.20230201a/verifyBias.20230201a/20230201T235226Z\",\n",
    "\"u/czw/DM-37811/parOStest.20230201a/verifyDark.20230201b\",\n",
    "\"u/czw/DM-37811/parOStest.20230201a/verifyDark.20230201b/20230202T000924Z\",\n",
    "\"u/czw/DM-37811/parOStest.20230201a/verifyFlat-SDSSi.20230201c\",\n",
    "\"u/czw/DM-37811/parOStest.20230201a/verifyFlat-SDSSi.20230201c/20230202T004738Z\",\n",
    "\"u/czw/DM-37811/parOStest.20230202a/biasGen.20230202a\",\n",
    "\"u/czw/DM-37811/parOStest.20230202a/biasGen.20230202a/20230202T235503Z\",\n",
    "\"u/czw/DM-37811/parOStest.20230202a/calib\",\n",
    "\"u/czw/DM-37811/parOStest.20230202a/calib/bias.20230202a\",\n",
    "\"u/czw/DM-37811/parOStest.20230202a/calib/dark.20230202a\",\n",
    "\"u/czw/DM-37811/parOStest.20230202a/calib/flat-BG40.20230207a\",\n",
    "\"u/czw/DM-37811/parOStest.20230202a/calib/flat-OG550.20230207a\",\n",
    "\"u/czw/DM-37811/parOStest.20230202a/calib/flat-SDSSg.20230203a\",\n",
    "\"u/czw/DM-37811/parOStest.20230202a/calib/flat-SDSSi.20230202a\",\n",
    "\"u/czw/DM-37811/parOStest.20230202a/calib/flat-SDSSr.20230203a\",\n",
    "\"u/czw/DM-37811/parOStest.20230202a/darkGen.20230202a\",\n",
    "\"u/czw/DM-37811/parOStest.20230202a/darkGen.20230202a/20230203T011136Z\",\n",
    "\"u/czw/DM-37811/parOStest.20230202a/flatGen-BG40.20230207a\",\n",
    "\"u/czw/DM-37811/parOStest.20230202a/flatGen-BG40.20230207a/20230207T221047Z\",\n",
    "\"u/czw/DM-37811/parOStest.20230202a/flatGen-OG550.20230207a\",\n",
    "\"u/czw/DM-37811/parOStest.20230202a/flatGen-OG550.20230207a/20230207T221755Z\",\n",
    "\"u/czw/DM-37811/parOStest.20230202a/flatGen-SDSSg.20230203a\",\n",
    "\"u/czw/DM-37811/parOStest.20230202a/flatGen-SDSSg.20230203a/20230203T205824Z\",\n",
    "\"u/czw/DM-37811/parOStest.20230202a/flatGen-SDSSi.20230202a\",\n",
    "\"u/czw/DM-37811/parOStest.20230202a/flatGen-SDSSi.20230202a/20230203T015627Z\",\n",
    "\"u/czw/DM-37811/parOStest.20230202a/flatGen-SDSSr.20230203a\",\n",
    "\"u/czw/DM-37811/parOStest.20230202a/flatGen-SDSSr.20230203a/20230203T211746Z\",\n",
    "\"u/czw/DM-37811/parOStest.20230202a/verifyBias.20230202a\",\n",
    "\"u/czw/DM-37811/parOStest.20230202a/verifyBias.20230202a/20230203T000052Z\",\n",
    "\"u/czw/DM-37811/parOStest.20230202a/verifyDark.20230202a\",\n",
    "\"u/czw/DM-37811/parOStest.20230202a/verifyDark.20230202a/20230203T012027Z\",\n",
    "\"u/czw/DM-37811/parOStest.20230202a/verifyFlat-BG40.20230207a\",\n",
    "\"u/czw/DM-37811/parOStest.20230202a/verifyFlat-BG40.20230207a/20230207T221527Z\",\n",
    "\"u/czw/DM-37811/parOStest.20230202a/verifyFlat-OG550.20230207a\",\n",
    "\"u/czw/DM-37811/parOStest.20230202a/verifyFlat-OG550.20230207a/20230208T201259Z\",\n",
    "\"u/czw/DM-37811/parOStest.20230202a/verifyFlat-SDSSg.20230203a\",\n",
    "\"u/czw/DM-37811/parOStest.20230202a/verifyFlat-SDSSg.20230203a/20230203T210905Z\",\n",
    "\"u/czw/DM-37811/parOStest.20230202a/verifyFlat-SDSSi.20230202a\",\n",
    "\"u/czw/DM-37811/parOStest.20230202a/verifyFlat-SDSSi.20230202a/20230203T021119Z\",\n",
    "\"u/czw/DM-37811/parOStest.20230202a/verifyFlat-SDSSr.20230203a\",\n",
    "\"u/czw/DM-37811/parOStest.20230202a/verifyFlat-SDSSr.20230203a/20230203T212511Z\"]\n",
    "for dataid in all_dataid: \n",
    "    the_bias = butler.get('bias', dataId = dataid, detector=0, collections=all_czwcalibs_coll , instrument='LATISS')\n",
    "    all_masterbias.append(the_bias)"
   ]
  },
  {
   "cell_type": "code",
   "execution_count": 48,
   "id": "36b3f74b-0d1b-434b-b863-d6eea66c4586",
   "metadata": {
    "execution": {
     "iopub.execute_input": "2023-05-03T11:45:24.711959Z",
     "iopub.status.busy": "2023-05-03T11:45:24.711599Z",
     "iopub.status.idle": "2023-05-03T11:45:24.721069Z",
     "shell.execute_reply": "2023-05-03T11:45:24.720606Z",
     "shell.execute_reply.started": "2023-05-03T11:45:24.711941Z"
    },
    "tags": []
   },
   "outputs": [
    {
     "ename": "TypeError",
     "evalue": "'lsst.afw.image._imageLib.ExposureInfo' object is not iterable",
     "output_type": "error",
     "traceback": [
      "\u001b[0;31m---------------------------------------------------------------------------\u001b[0m",
      "\u001b[0;31mTypeError\u001b[0m                                 Traceback (most recent call last)",
      "Input \u001b[0;32mIn [48]\u001b[0m, in \u001b[0;36m<cell line: 1>\u001b[0;34m()\u001b[0m\n\u001b[0;32m----> 1\u001b[0m \u001b[38;5;28;43mlist\u001b[39;49m\u001b[43m(\u001b[49m\u001b[43mthe_bias\u001b[49m\u001b[38;5;241;43m.\u001b[39;49m\u001b[43mgetInfo\u001b[49m\u001b[43m(\u001b[49m\u001b[43m)\u001b[49m\u001b[43m)\u001b[49m\n",
      "\u001b[0;31mTypeError\u001b[0m: 'lsst.afw.image._imageLib.ExposureInfo' object is not iterable"
     ]
    }
   ],
   "source": [
    "list(the_bias.getInfo())"
   ]
  },
  {
   "cell_type": "code",
   "execution_count": null,
   "id": "074310b2-dfaa-44c0-9ca9-55d75d80337b",
   "metadata": {
    "execution": {
     "iopub.status.busy": "2023-05-03T07:56:56.031890Z",
     "iopub.status.idle": "2023-05-03T07:56:56.032084Z",
     "shell.execute_reply": "2023-05-03T07:56:56.031986Z",
     "shell.execute_reply.started": "2023-05-03T07:56:56.031976Z"
    }
   },
   "outputs": [],
   "source": [
    "rect1 = patches.Rectangle((2360,0), 90, 2700, linewidth=1, edgecolor='r', facecolor='none')\n",
    "rect2 = patches.Rectangle((2100,0), 90, 2700, linewidth=1, edgecolor='b', facecolor='none')"
   ]
  },
  {
   "cell_type": "code",
   "execution_count": null,
   "id": "138864c9-ac85-451e-852f-8ac36a98963d",
   "metadata": {
    "execution": {
     "iopub.status.busy": "2023-05-03T07:56:56.032830Z",
     "iopub.status.idle": "2023-05-03T07:56:56.033017Z",
     "shell.execute_reply": "2023-05-03T07:56:56.032925Z",
     "shell.execute_reply.started": "2023-05-03T07:56:56.032916Z"
    },
    "tags": []
   },
   "outputs": [],
   "source": [
    "%matplotlib inline\n",
    "fig = plt.figure(figsize=(8,8))\n",
    "afw_display = afwDisplay.Display(1)\n",
    "afw_display.scale('asinh', 'zscale')\n",
    "afw_display.mtv(all_postisrccd[2].image)\n",
    "#plt.gca().axis('off')\n",
    "plt.grid(color=\"y\")"
   ]
  },
  {
   "cell_type": "code",
   "execution_count": null,
   "id": "16b59462-63b0-4cf8-b376-b279b243c101",
   "metadata": {
    "execution": {
     "iopub.status.busy": "2023-05-03T07:56:56.033770Z",
     "iopub.status.idle": "2023-05-03T07:56:56.033954Z",
     "shell.execute_reply": "2023-05-03T07:56:56.033864Z",
     "shell.execute_reply.started": "2023-05-03T07:56:56.033855Z"
    },
    "tags": []
   },
   "outputs": [],
   "source": [
    "sizey,sizex=all_postisrccd[0].getImage().array.shape"
   ]
  },
  {
   "cell_type": "code",
   "execution_count": null,
   "id": "d374ff25-a3a0-4642-9e3b-a3858feb11ae",
   "metadata": {
    "execution": {
     "iopub.status.busy": "2023-05-03T07:56:56.034665Z",
     "iopub.status.idle": "2023-05-03T07:56:56.034845Z",
     "shell.execute_reply": "2023-05-03T07:56:56.034758Z",
     "shell.execute_reply.started": "2023-05-03T07:56:56.034749Z"
    },
    "tags": []
   },
   "outputs": [],
   "source": [
    "#transform = AsinhStretch() + PercentileInterval(99.)\n",
    "transform = PercentileInterval(95.)"
   ]
  },
  {
   "cell_type": "code",
   "execution_count": null,
   "id": "fea64f98-51e4-401b-acab-d865289afc1e",
   "metadata": {
    "execution": {
     "iopub.status.busy": "2023-05-03T07:56:56.035550Z",
     "iopub.status.idle": "2023-05-03T07:56:56.035730Z",
     "shell.execute_reply": "2023-05-03T07:56:56.035642Z",
     "shell.execute_reply.started": "2023-05-03T07:56:56.035633Z"
    },
    "tags": []
   },
   "outputs": [],
   "source": [
    "fig, axes = plt.subplots(ncols=2,nrows=2, figsize=(15, 15), sharex=True, sharey=True)\n",
    "for idx, ax in enumerate(axes.flat):\n",
    "    if idx>=3:\n",
    "        break\n",
    "    ax.imshow(transform(all_postisrccd[idx].getImage().array),origin=\"lower\",cmap='gray')\n",
    "    ax.grid(color=\"y\")\n",
    "    rect1 = patches.Rectangle((sizex-2500+20,sizey-2700), 100, 2700, linewidth=1, edgecolor='r', facecolor='none')\n",
    "    rect2 = patches.Rectangle((sizex-2600,sizey-2700), 100, 2700, linewidth=1, edgecolor='b', facecolor='none')\n",
    "    ax.add_patch(rect1)\n",
    "    ax.add_patch(rect2)\n",
    "    num=all_numbers[idx]\n",
    "    title =f\"exposure {num}\"\n",
    "    ax.set_title(title)"
   ]
  },
  {
   "cell_type": "code",
   "execution_count": null,
   "id": "fb59efad-d09a-4a66-aa61-7e5affb395a2",
   "metadata": {},
   "outputs": [],
   "source": []
  },
  {
   "cell_type": "code",
   "execution_count": null,
   "id": "8ab3c2a3-dd07-4409-a89d-21526849388d",
   "metadata": {
    "execution": {
     "iopub.status.busy": "2023-05-03T07:56:56.036439Z",
     "iopub.status.idle": "2023-05-03T07:56:56.036618Z",
     "shell.execute_reply": "2023-05-03T07:56:56.036531Z",
     "shell.execute_reply.started": "2023-05-03T07:56:56.036523Z"
    },
    "tags": []
   },
   "outputs": [],
   "source": [
    "fig=plt.figure(figsize=(8,8))\n",
    "ax=fig.add_subplot(1,1,1)\n",
    "ax.imshow(transform(all_postisrccd[2].getImage().array),origin=\"lower\",cmap='gray')\n",
    "ax.grid(color=\"y\")\n",
    "rect1 = patches.Rectangle((sizex-2500+20,sizey-2700), 100, 2700, linewidth=1, edgecolor='r', facecolor='none')\n",
    "rect2 = patches.Rectangle((sizex-2600,sizey-2700), 100, 2700, linewidth=1, edgecolor='b', facecolor='none')\n",
    "rect3 = patches.Rectangle((sizex-2500+50,sizey//2-100), 30,200, linewidth=1, edgecolor='g', facecolor='none')\n",
    "ax.add_patch(rect1)\n",
    "ax.add_patch(rect2)\n",
    "ax.add_patch(rect3)\n",
    "#ax.set_title(all_exposures[idx])\n",
    "plt.show()\n"
   ]
  },
  {
   "cell_type": "code",
   "execution_count": null,
   "id": "17d30306-981e-4ded-8756-27f0232f964a",
   "metadata": {
    "execution": {
     "iopub.status.busy": "2023-05-03T07:56:56.037263Z",
     "iopub.status.idle": "2023-05-03T07:56:56.037448Z",
     "shell.execute_reply": "2023-05-03T07:56:56.037356Z",
     "shell.execute_reply.started": "2023-05-03T07:56:56.037347Z"
    },
    "tags": []
   },
   "outputs": [],
   "source": [
    "all_spectrum2D = []\n",
    "all_background2D = []\n",
    "\n",
    "for idx in range(3):\n",
    "    the_fitsimage = all_postisrccd[idx].image.array\n",
    "    spectrum2D = the_fitsimage[sizey-2700-1:sizey-1,sizex-2500+20:sizex-2500+100+20]\n",
    "    background2D = the_fitsimage[sizey-2700-1:sizey-1,sizex-2600:sizex-2600+100]\n",
    "    all_spectrum2D.append(spectrum2D)\n",
    "    all_background2D.append(background2D)"
   ]
  },
  {
   "cell_type": "code",
   "execution_count": null,
   "id": "4c3a0a57-d785-43d2-b10c-a76daa222168",
   "metadata": {
    "execution": {
     "iopub.status.busy": "2023-05-03T07:56:56.037979Z",
     "iopub.status.idle": "2023-05-03T07:56:56.038150Z",
     "shell.execute_reply": "2023-05-03T07:56:56.038069Z",
     "shell.execute_reply.started": "2023-05-03T07:56:56.038060Z"
    },
    "tags": []
   },
   "outputs": [],
   "source": [
    "for idx in range(3):\n",
    "    fig=plt.figure(figsize=(10,5))\n",
    "    ax=fig.add_subplot(1,1,1)\n",
    "    ax.imshow(transform(all_spectrum2D[idx].T),origin=\"lower\",cmap='gray')\n",
    "    ax.grid(color=\"y\")\n",
    "    ax.set_title(all_exposures[idx])\n",
    "    plt.show()"
   ]
  },
  {
   "cell_type": "code",
   "execution_count": null,
   "id": "31f1860b-ef66-4660-9033-26d6fa52e1b1",
   "metadata": {
    "execution": {
     "iopub.status.busy": "2023-05-03T07:56:56.038874Z",
     "iopub.status.idle": "2023-05-03T07:56:56.039054Z",
     "shell.execute_reply": "2023-05-03T07:56:56.038965Z",
     "shell.execute_reply.started": "2023-05-03T07:56:56.038956Z"
    },
    "tags": []
   },
   "outputs": [],
   "source": [
    "all_spectrum1D = []\n",
    "all_background1D = []\n",
    "\n",
    "for idx in range(3):\n",
    "\n",
    "    spectrum1D = all_spectrum2D[idx].sum(axis=1)\n",
    "    background1D = all_background2D[idx].sum(axis=1)\n",
    "    \n",
    "    all_spectrum1D.append(spectrum1D) \n",
    "    all_background1D.append(background1D)"
   ]
  },
  {
   "cell_type": "code",
   "execution_count": null,
   "id": "e6844b47-abaf-4759-9935-ec93bd1188fb",
   "metadata": {
    "execution": {
     "iopub.status.busy": "2023-05-03T07:56:56.039630Z",
     "iopub.status.idle": "2023-05-03T07:56:56.039809Z",
     "shell.execute_reply": "2023-05-03T07:56:56.039721Z",
     "shell.execute_reply.started": "2023-05-03T07:56:56.039712Z"
    },
    "tags": []
   },
   "outputs": [],
   "source": [
    "fig=plt.figure(figsize=(10,5))\n",
    "ax=fig.add_subplot(1,1,1)\n",
    "for idx in range(3):\n",
    "    num = all_numbers[idx]\n",
    "    label_spec = f\"spectrum {num}\"\n",
    "    label_bg = f\"background {num}\"\n",
    "    ax.plot(all_spectrum1D[idx],label=label_spec)\n",
    "    ax.plot(all_background1D[idx], label=label_bg)\n",
    "ax.set_yscale('log')\n",
    "#ax.invert_xaxis()\n",
    "ax.grid()\n",
    "ax.set_xlabel(\"pixel\")\n",
    "ax.set_ylabel(\"ADU sum\")\n",
    "ax.legend()\n",
    "ax.set_title(\"2022/12/12\")"
   ]
  },
  {
   "cell_type": "code",
   "execution_count": null,
   "id": "fbf11c61-fea6-481f-bbb6-83be7e11ffbd",
   "metadata": {
    "execution": {
     "iopub.status.busy": "2023-05-03T07:56:56.040383Z",
     "iopub.status.idle": "2023-05-03T07:56:56.040550Z",
     "shell.execute_reply": "2023-05-03T07:56:56.040471Z",
     "shell.execute_reply.started": "2023-05-03T07:56:56.040463Z"
    },
    "tags": []
   },
   "outputs": [],
   "source": [
    "fig=plt.figure(figsize=(10,5))\n",
    "ax=fig.add_subplot(1,1,1)\n",
    "for idx in range(3):\n",
    "    num = all_numbers[idx]\n",
    "    label_spec = f\"spectrum {num}\"\n",
    "    label_bg = f\"background {num}\"\n",
    "    ax.plot(all_spectrum1D[idx],label=label_spec)\n",
    "    ax.plot(all_background1D[idx], label=label_bg)\n",
    "#ax.set_yscale('log')\n",
    "#ax.invert_xaxis()\n",
    "ax.grid()\n",
    "ax.set_xlabel(\"pixel\")\n",
    "ax.set_ylabel(\"ADU sum\")\n",
    "ax.legend()\n",
    "ax.set_title(\"2022/12/12\")"
   ]
  },
  {
   "cell_type": "markdown",
   "id": "2984efbf-ece6-4dba-bd07-84ee09e1f675",
   "metadata": {},
   "source": [
    "# Scan in slice"
   ]
  },
  {
   "cell_type": "code",
   "execution_count": null,
   "id": "7dbf7d07-677d-487e-aab1-3f47be8e36b6",
   "metadata": {
    "execution": {
     "iopub.status.busy": "2023-05-03T07:56:56.041168Z",
     "iopub.status.idle": "2023-05-03T07:56:56.041343Z",
     "shell.execute_reply": "2023-05-03T07:56:56.041262Z",
     "shell.execute_reply.started": "2023-05-03T07:56:56.041254Z"
    },
    "tags": []
   },
   "outputs": [],
   "source": [
    "selected_spectrum_idx = 2"
   ]
  },
  {
   "cell_type": "code",
   "execution_count": null,
   "id": "5942f5cd-d9d7-4007-b431-b1d4f3ddc690",
   "metadata": {
    "execution": {
     "iopub.status.busy": "2023-05-03T07:56:56.041955Z",
     "iopub.status.idle": "2023-05-03T07:56:56.042127Z",
     "shell.execute_reply": "2023-05-03T07:56:56.042046Z",
     "shell.execute_reply.started": "2023-05-03T07:56:56.042038Z"
    },
    "tags": []
   },
   "outputs": [],
   "source": [
    "the_img = all_postisrccd[selected_spectrum_idx]\n",
    "dataid_selected = all_dataid[selected_spectrum_idx]\n",
    "exposure_selected = dataid_selected['day_obs']*100000+dataid_selected['seq_num']"
   ]
  },
  {
   "cell_type": "code",
   "execution_count": null,
   "id": "8c6200bf-fd5d-4524-bb4e-ed771a488916",
   "metadata": {
    "execution": {
     "iopub.status.busy": "2023-05-03T07:56:56.042690Z",
     "iopub.status.idle": "2023-05-03T07:56:56.042861Z",
     "shell.execute_reply": "2023-05-03T07:56:56.042780Z",
     "shell.execute_reply.started": "2023-05-03T07:56:56.042772Z"
    },
    "tags": []
   },
   "outputs": [],
   "source": [
    "dataid_selected"
   ]
  },
  {
   "cell_type": "code",
   "execution_count": null,
   "id": "96da8a75-5fd8-4c0b-8a73-0cecbd8cab36",
   "metadata": {
    "execution": {
     "iopub.status.busy": "2023-05-03T07:56:56.043412Z",
     "iopub.status.idle": "2023-05-03T07:56:56.043580Z",
     "shell.execute_reply": "2023-05-03T07:56:56.043500Z",
     "shell.execute_reply.started": "2023-05-03T07:56:56.043492Z"
    },
    "tags": []
   },
   "outputs": [],
   "source": [
    "all_img = []\n",
    "all_nameimg = []\n",
    "\n",
    "for ampIdx, amp in enumerate(the_img.getDetector()):\n",
    "    ampName = amp.getName()\n",
    "    all_nameimg.append(ampName)\n",
    "    \n",
    "    # This can work only on postISRCCD\n",
    "    ampExp = the_img.Factory(the_img, amp.getBBox())\n",
    "    all_img.append(ampExp.image) \n",
    "    #fig = plt.figure(figsize=(5,10))\n",
    "    #afw_display = afwDisplay.Display(frame=fig)\n",
    "    #afw_display.scale('linear', 'zscale',None)\n",
    "    #title = f\"exposure : {exposure_selected}, ampl = {ampName}\"\n",
    "    #afw_display.mtv(ampExp.image,title=title)"
   ]
  },
  {
   "cell_type": "code",
   "execution_count": null,
   "id": "a4cafe3b-2fcb-4fda-9efa-b225a1034997",
   "metadata": {
    "execution": {
     "iopub.status.busy": "2023-05-03T07:56:56.044108Z",
     "iopub.status.idle": "2023-05-03T07:56:56.044285Z",
     "shell.execute_reply": "2023-05-03T07:56:56.044197Z",
     "shell.execute_reply.started": "2023-05-03T07:56:56.044188Z"
    },
    "tags": []
   },
   "outputs": [],
   "source": [
    "print(all_nameimg)"
   ]
  },
  {
   "cell_type": "code",
   "execution_count": null,
   "id": "776efafa-8162-4c58-8351-751f2ecf43df",
   "metadata": {
    "execution": {
     "iopub.status.busy": "2023-05-03T07:56:56.044908Z",
     "iopub.status.idle": "2023-05-03T07:56:56.045081Z",
     "shell.execute_reply": "2023-05-03T07:56:56.044997Z",
     "shell.execute_reply.started": "2023-05-03T07:56:56.044988Z"
    },
    "tags": []
   },
   "outputs": [],
   "source": [
    "idx_C13  = 3"
   ]
  },
  {
   "cell_type": "code",
   "execution_count": null,
   "id": "6434ec10-16d3-44e9-acdd-0b5e13d785f6",
   "metadata": {
    "execution": {
     "iopub.status.busy": "2023-05-03T07:56:56.045676Z",
     "iopub.status.idle": "2023-05-03T07:56:56.045843Z",
     "shell.execute_reply": "2023-05-03T07:56:56.045764Z",
     "shell.execute_reply.started": "2023-05-03T07:56:56.045756Z"
    },
    "tags": []
   },
   "outputs": [],
   "source": [
    "idx_C03 = 12"
   ]
  },
  {
   "cell_type": "code",
   "execution_count": null,
   "id": "6ef58740-a782-4527-a3e3-8eae31f706ac",
   "metadata": {
    "execution": {
     "iopub.status.busy": "2023-05-03T07:56:56.046519Z",
     "iopub.status.idle": "2023-05-03T07:56:56.046797Z",
     "shell.execute_reply": "2023-05-03T07:56:56.046607Z",
     "shell.execute_reply.started": "2023-05-03T07:56:56.046598Z"
    },
    "tags": []
   },
   "outputs": [],
   "source": [
    "mapampid = [0,1,2,3,4,5,6,7,15,14,13,12,11,10,9,8]"
   ]
  },
  {
   "cell_type": "code",
   "execution_count": null,
   "id": "df96b311-60af-42d3-bc14-4b06be6bde20",
   "metadata": {
    "execution": {
     "iopub.status.busy": "2023-05-03T07:56:56.047482Z",
     "iopub.status.idle": "2023-05-03T07:56:56.047654Z",
     "shell.execute_reply": "2023-05-03T07:56:56.047572Z",
     "shell.execute_reply.started": "2023-05-03T07:56:56.047564Z"
    },
    "tags": []
   },
   "outputs": [],
   "source": [
    "im = plt.imshow(transform(all_img[idx_C13 ].getArray()),origin='lower',cmap=\"gray\")\n",
    "clim=im.properties()['clim']"
   ]
  },
  {
   "cell_type": "code",
   "execution_count": null,
   "id": "e4dfaa64-fa7f-44ef-a95f-4e36d9cb844f",
   "metadata": {
    "execution": {
     "iopub.status.busy": "2023-05-03T07:56:56.048457Z",
     "iopub.status.idle": "2023-05-03T07:56:56.048636Z",
     "shell.execute_reply": "2023-05-03T07:56:56.048548Z",
     "shell.execute_reply.started": "2023-05-03T07:56:56.048540Z"
    },
    "tags": []
   },
   "outputs": [],
   "source": [
    "fig=plt.figure(figsize=(20,12))\n",
    "all_ImgAmp = []\n",
    "for idx in range(16):\n",
    "    ax=fig.add_subplot(2,8,mapampid[idx]+1)\n",
    "    im = ax.imshow(transform(all_img[idx].getArray()),origin='lower',cmap=\"gray\",clim=clim)\n",
    "    all_ImgAmp.append(im)\n",
    "    ax.set_title(all_nameimg[idx])\n",
    "    \n",
    "\n",
    "fig.colorbar(im, ax=axes.ravel().tolist(), shrink=0.5)\n",
    "plt.tight_layout()"
   ]
  },
  {
   "cell_type": "code",
   "execution_count": null,
   "id": "29c202af-7223-40f3-a27c-2306f4225b3a",
   "metadata": {
    "execution": {
     "iopub.status.busy": "2023-05-03T07:56:56.049060Z",
     "iopub.status.idle": "2023-05-03T07:56:56.049231Z",
     "shell.execute_reply": "2023-05-03T07:56:56.049148Z",
     "shell.execute_reply.started": "2023-05-03T07:56:56.049140Z"
    },
    "tags": []
   },
   "outputs": [],
   "source": [
    "stiched = np.concatenate((all_img[idx_C03].getArray(), all_img[idx_C13].getArray()), axis=0)"
   ]
  },
  {
   "cell_type": "code",
   "execution_count": null,
   "id": "8201cbab-e4f2-43ce-8aa9-a499c83f8f48",
   "metadata": {
    "execution": {
     "iopub.status.busy": "2023-05-03T07:56:56.049567Z",
     "iopub.status.idle": "2023-05-03T07:56:56.049725Z",
     "shell.execute_reply": "2023-05-03T07:56:56.049650Z",
     "shell.execute_reply.started": "2023-05-03T07:56:56.049642Z"
    },
    "tags": []
   },
   "outputs": [],
   "source": [
    "sizey,sizex= stiched.shape"
   ]
  },
  {
   "cell_type": "code",
   "execution_count": null,
   "id": "ee17588f-63d9-458f-88ea-18a9447ed470",
   "metadata": {
    "execution": {
     "iopub.status.busy": "2023-05-03T07:56:56.050352Z",
     "iopub.status.idle": "2023-05-03T07:56:56.050524Z",
     "shell.execute_reply": "2023-05-03T07:56:56.050440Z",
     "shell.execute_reply.started": "2023-05-03T07:56:56.050431Z"
    },
    "tags": []
   },
   "outputs": [],
   "source": [
    "sizex"
   ]
  },
  {
   "cell_type": "code",
   "execution_count": null,
   "id": "5f68a6e1-5d28-472e-8d9f-abdef9a9c868",
   "metadata": {
    "execution": {
     "iopub.status.busy": "2023-05-03T07:56:56.051264Z",
     "iopub.status.idle": "2023-05-03T07:56:56.051443Z",
     "shell.execute_reply": "2023-05-03T07:56:56.051355Z",
     "shell.execute_reply.started": "2023-05-03T07:56:56.051347Z"
    },
    "tags": []
   },
   "outputs": [],
   "source": [
    "sizey"
   ]
  },
  {
   "cell_type": "code",
   "execution_count": null,
   "id": "bd49d378-8d9d-4d9e-856f-b4c8026edc9d",
   "metadata": {
    "execution": {
     "iopub.status.busy": "2023-05-03T07:56:56.051802Z",
     "iopub.status.idle": "2023-05-03T07:56:56.051961Z",
     "shell.execute_reply": "2023-05-03T07:56:56.051886Z",
     "shell.execute_reply.started": "2023-05-03T07:56:56.051878Z"
    },
    "tags": []
   },
   "outputs": [],
   "source": [
    "binwx= 50\n",
    "binwy= 200\n",
    "fig=plt.figure(figsize=(20,10))\n",
    "ax=fig.add_subplot(1,1,1)\n",
    "im = ax.imshow(transform(stiched),origin='lower',cmap=\"gray\",vmin=0,vmax=0.1)\n",
    "rect = patches.Rectangle((sizex//2,sizey//2-binwy//2), binwx, binwy, linewidth=1, edgecolor='r', facecolor='none')\n",
    "ax.add_patch(rect)\n",
    "# values off the colorbar.\n",
    "cbar = fig.colorbar(im,ax=ax)\n",
    "title = f\"exposure {exposure_selected}\"\n",
    "ax.set_title(title)\n",
    "ax.grid()\n",
    "plt.show()"
   ]
  },
  {
   "cell_type": "code",
   "execution_count": null,
   "id": "05f585d9-9407-4a97-8cfd-90425e965a2a",
   "metadata": {
    "execution": {
     "iopub.status.busy": "2023-05-03T07:56:56.052700Z",
     "iopub.status.idle": "2023-05-03T07:56:56.052916Z",
     "shell.execute_reply": "2023-05-03T07:56:56.052823Z",
     "shell.execute_reply.started": "2023-05-03T07:56:56.052813Z"
    },
    "tags": []
   },
   "outputs": [],
   "source": [
    "nsteps = sizex//binwx\n",
    "nsteps"
   ]
  },
  {
   "cell_type": "code",
   "execution_count": null,
   "id": "53bd4079-5da1-4c84-89d9-cf5edff121bb",
   "metadata": {
    "execution": {
     "iopub.status.busy": "2023-05-03T07:56:56.053449Z",
     "iopub.status.idle": "2023-05-03T07:56:56.053614Z",
     "shell.execute_reply": "2023-05-03T07:56:56.053536Z",
     "shell.execute_reply.started": "2023-05-03T07:56:56.053528Z"
    },
    "tags": []
   },
   "outputs": [],
   "source": [
    "all_patches = []\n",
    "all_projections = []\n",
    "for istep in range(nsteps):\n",
    "    the_patch = stiched[sizey//2-binwy//2:sizey//2+binwy//2,istep*binwx:(istep+1)*binwx]\n",
    "    projection = np.average(the_patch,axis=1)\n",
    "    all_patches.append(the_patch)\n",
    "    all_projections.append(projection)\n",
    "    "
   ]
  },
  {
   "cell_type": "code",
   "execution_count": null,
   "id": "f53f155d-a023-4115-ab14-3096ac16c658",
   "metadata": {
    "execution": {
     "iopub.status.busy": "2023-05-03T07:56:56.054213Z",
     "iopub.status.idle": "2023-05-03T07:56:56.054389Z",
     "shell.execute_reply": "2023-05-03T07:56:56.054309Z",
     "shell.execute_reply.started": "2023-05-03T07:56:56.054301Z"
    },
    "tags": []
   },
   "outputs": [],
   "source": [
    "hls_colors = sns.color_palette(\"hls\", nsteps)"
   ]
  },
  {
   "cell_type": "code",
   "execution_count": null,
   "id": "5329ac76-1367-4fc8-9252-2bb0541a52c3",
   "metadata": {
    "execution": {
     "iopub.status.busy": "2023-05-03T07:56:56.054934Z",
     "iopub.status.idle": "2023-05-03T07:56:56.055101Z",
     "shell.execute_reply": "2023-05-03T07:56:56.055022Z",
     "shell.execute_reply.started": "2023-05-03T07:56:56.055014Z"
    },
    "tags": []
   },
   "outputs": [],
   "source": [
    "ncols=5\n",
    "nrows = int(np.ceil(nsteps/ncols))\n",
    "nrows"
   ]
  },
  {
   "cell_type": "code",
   "execution_count": null,
   "id": "f0a1b87f-7dd8-4a2e-9cb4-cd0ba6d0a6ba",
   "metadata": {
    "execution": {
     "iopub.status.busy": "2023-05-03T07:56:56.055891Z",
     "iopub.status.idle": "2023-05-03T07:56:56.056071Z",
     "shell.execute_reply": "2023-05-03T07:56:56.055982Z",
     "shell.execute_reply.started": "2023-05-03T07:56:56.055973Z"
    },
    "tags": []
   },
   "outputs": [],
   "source": [
    "fig, axes = plt.subplots(ncols=ncols,nrows=nrows, figsize=(18, 8))\n",
    "for idx, ax in enumerate(axes.flat):\n",
    "    if idx>nsteps:\n",
    "        break\n",
    "    xmin=idx*binwx\n",
    "    xmax=(idx+1)*binwx\n",
    "    label=f\"{xmin}<x<{xmax}\"    \n",
    "    ax.plot(all_projections[idx],color=hls_colors[idx],label=label)\n",
    "    ax.grid()\n",
    "    ax.legend()\n",
    "    \n",
    "title = f\"exposure {exposure_selected}\"\n",
    "plt.suptitle(title)\n",
    "plt.tight_layout()"
   ]
  },
  {
   "cell_type": "code",
   "execution_count": null,
   "id": "863d5816-23ea-4f24-b97c-0fd6d61d3e65",
   "metadata": {},
   "outputs": [],
   "source": []
  },
  {
   "cell_type": "code",
   "execution_count": null,
   "id": "ccee3aac-0e59-4533-8dd2-b79c921ff3b1",
   "metadata": {},
   "outputs": [],
   "source": []
  }
 ],
 "metadata": {
  "kernelspec": {
   "display_name": "LSST",
   "language": "python",
   "name": "lsst"
  },
  "language_info": {
   "codemirror_mode": {
    "name": "ipython",
    "version": 3
   },
   "file_extension": ".py",
   "mimetype": "text/x-python",
   "name": "python",
   "nbconvert_exporter": "python",
   "pygments_lexer": "ipython3",
   "version": "3.10.9"
  }
 },
 "nbformat": 4,
 "nbformat_minor": 5
}
