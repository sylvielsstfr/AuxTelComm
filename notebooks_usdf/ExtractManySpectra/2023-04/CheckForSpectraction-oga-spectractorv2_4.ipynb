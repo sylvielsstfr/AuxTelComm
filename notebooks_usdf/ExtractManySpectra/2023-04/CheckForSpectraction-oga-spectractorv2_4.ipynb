{
 "cells": [
  {
   "cell_type": "markdown",
   "id": "0b8c2138-5194-4d03-8b77-be24e2cc8ee3",
   "metadata": {},
   "source": [
    "# Query for Spectraction Results in OGA"
   ]
  },
  {
   "cell_type": "markdown",
   "id": "740e34fb-3fef-45a8-941b-c229742ab016",
   "metadata": {},
   "source": [
    " work with Weakly_2023_11\n",
    "- use jupyter kernel LSST\n",
    "- author : Sylvie Dagoret-Campagne\n",
    "- affiliation : IJCLab\n",
    "- creation date : 2023/03/30\n",
    "- last update : 2023/04/04\n",
    "\n",
    "- Spectractor https://github.com/lsst/Spectractor/\n",
    "- Spectractor Version 2.4\n",
    "- branch lsst-dev\n",
    "- available in version w_2023_11 by default\n"
   ]
  },
  {
   "cell_type": "code",
   "execution_count": 1,
   "id": "ed2c3410-fe83-432e-ab87-9f4513fa8d8b",
   "metadata": {
    "execution": {
     "iopub.execute_input": "2023-04-04T13:19:25.353513Z",
     "iopub.status.busy": "2023-04-04T13:19:25.353375Z",
     "iopub.status.idle": "2023-04-04T13:19:25.715982Z",
     "shell.execute_reply": "2023-04-04T13:19:25.715347Z",
     "shell.execute_reply.started": "2023-04-04T13:19:25.353491Z"
    },
    "tags": []
   },
   "outputs": [
    {
     "name": "stdout",
     "output_type": "stream",
     "text": [
      "atmospec              LOCAL:/home/d/dagoret/repos/repos_w_2023_11/atmospec \tsetup\n",
      "eups                  LOCAL:/opt/lsst/software/stack/conda/miniconda3-py38_4.9.2/envs/lsst-scipipe-5.1.0/eups \tsetup\n"
     ]
    }
   ],
   "source": [
    "! eups list -s | grep LOCAL"
   ]
  },
  {
   "cell_type": "code",
   "execution_count": 2,
   "id": "70918d81-0cf6-4b0a-8f61-f5e5bec5b0e7",
   "metadata": {
    "execution": {
     "iopub.execute_input": "2023-04-04T13:19:25.716956Z",
     "iopub.status.busy": "2023-04-04T13:19:25.716801Z",
     "iopub.status.idle": "2023-04-04T13:19:26.068823Z",
     "shell.execute_reply": "2023-04-04T13:19:26.068172Z",
     "shell.execute_reply.started": "2023-04-04T13:19:25.716939Z"
    },
    "tags": []
   },
   "outputs": [
    {
     "name": "stdout",
     "output_type": "stream",
     "text": [
      "   gdf42428520+c82c1836b5 \tcurrent w_2023_11 setup\n"
     ]
    }
   ],
   "source": [
    "! eups list -s lsst_distrib"
   ]
  },
  {
   "cell_type": "code",
   "execution_count": 3,
   "id": "e7e0ec91-3a48-47ea-b293-db233df2677e",
   "metadata": {
    "execution": {
     "iopub.execute_input": "2023-04-04T13:19:26.069874Z",
     "iopub.status.busy": "2023-04-04T13:19:26.069702Z",
     "iopub.status.idle": "2023-04-04T13:19:26.090246Z",
     "shell.execute_reply": "2023-04-04T13:19:26.089815Z",
     "shell.execute_reply.started": "2023-04-04T13:19:26.069857Z"
    },
    "tags": []
   },
   "outputs": [],
   "source": [
    "import h5py"
   ]
  },
  {
   "cell_type": "code",
   "execution_count": 4,
   "id": "f8d9cfca-5881-48c1-b2cb-0f794a2e4091",
   "metadata": {
    "execution": {
     "iopub.execute_input": "2023-04-04T13:19:26.091035Z",
     "iopub.status.busy": "2023-04-04T13:19:26.090895Z",
     "iopub.status.idle": "2023-04-04T13:19:26.434401Z",
     "shell.execute_reply": "2023-04-04T13:19:26.433800Z",
     "shell.execute_reply.started": "2023-04-04T13:19:26.091020Z"
    },
    "tags": []
   },
   "outputs": [],
   "source": [
    "import lsst.daf.butler as dafButler\n",
    "#import lsst.summit.utils.butlerUtils as butlerUtils"
   ]
  },
  {
   "cell_type": "code",
   "execution_count": 5,
   "id": "1ceacda9-20b0-4d77-a0d2-572c957ce273",
   "metadata": {
    "execution": {
     "iopub.execute_input": "2023-04-04T13:19:26.435359Z",
     "iopub.status.busy": "2023-04-04T13:19:26.435200Z",
     "iopub.status.idle": "2023-04-04T13:19:26.746698Z",
     "shell.execute_reply": "2023-04-04T13:19:26.746096Z",
     "shell.execute_reply.started": "2023-04-04T13:19:26.435342Z"
    },
    "tags": []
   },
   "outputs": [],
   "source": [
    "import numpy as np\n",
    "import matplotlib.pyplot as plt\n",
    "%matplotlib inline\n",
    "from mpl_toolkits.axes_grid1 import make_axes_locatable\n",
    "from matplotlib.colors import LogNorm\n",
    "import pandas as pd\n",
    "\n",
    "import matplotlib.ticker                         # here's where the formatter is\n",
    "import os\n",
    "import re\n",
    "import pandas as pd\n",
    "\n",
    "plt.rcParams[\"figure.figsize\"] = (4,3)\n",
    "plt.rcParams[\"axes.labelsize\"] = 'xx-large'\n",
    "plt.rcParams['axes.titlesize'] = 'xx-large'\n",
    "plt.rcParams['xtick.labelsize']= 'xx-large'\n",
    "plt.rcParams['ytick.labelsize']= 'xx-large'"
   ]
  },
  {
   "cell_type": "code",
   "execution_count": 6,
   "id": "769e12e6-917d-4722-8c1e-f965f13a8c64",
   "metadata": {
    "execution": {
     "iopub.execute_input": "2023-04-04T13:19:26.748756Z",
     "iopub.status.busy": "2023-04-04T13:19:26.748415Z",
     "iopub.status.idle": "2023-04-04T13:19:26.751090Z",
     "shell.execute_reply": "2023-04-04T13:19:26.750660Z",
     "shell.execute_reply.started": "2023-04-04T13:19:26.748739Z"
    },
    "tags": []
   },
   "outputs": [],
   "source": [
    "import pickle"
   ]
  },
  {
   "cell_type": "code",
   "execution_count": 7,
   "id": "75e20c79-7729-459b-a5e0-78d8de0c4d71",
   "metadata": {
    "execution": {
     "iopub.execute_input": "2023-04-04T13:19:26.751913Z",
     "iopub.status.busy": "2023-04-04T13:19:26.751777Z",
     "iopub.status.idle": "2023-04-04T13:19:26.754344Z",
     "shell.execute_reply": "2023-04-04T13:19:26.753928Z",
     "shell.execute_reply.started": "2023-04-04T13:19:26.751900Z"
    },
    "tags": []
   },
   "outputs": [],
   "source": [
    "from astropy.time import Time\n",
    "import astropy.units as u"
   ]
  },
  {
   "cell_type": "markdown",
   "id": "c7e637b3-244b-4df3-9db2-3819e6321141",
   "metadata": {},
   "source": [
    "## Config"
   ]
  },
  {
   "cell_type": "code",
   "execution_count": 8,
   "id": "ac51fd3d-4fd1-437a-99a9-3c33bcf3477a",
   "metadata": {
    "execution": {
     "iopub.execute_input": "2023-04-04T13:19:26.755019Z",
     "iopub.status.busy": "2023-04-04T13:19:26.754886Z",
     "iopub.status.idle": "2023-04-04T13:19:26.757340Z",
     "shell.execute_reply": "2023-04-04T13:19:26.756942Z",
     "shell.execute_reply.started": "2023-04-04T13:19:26.755006Z"
    }
   },
   "outputs": [],
   "source": [
    "FLAG_MOUNT_ERRORS= True"
   ]
  },
  {
   "cell_type": "markdown",
   "id": "f311bc61-5eb2-40b2-ab20-8241ea599037",
   "metadata": {},
   "source": [
    "### Butler"
   ]
  },
  {
   "cell_type": "code",
   "execution_count": 9,
   "id": "1c81d99a-5e91-4ba1-ba4a-c66b37905b98",
   "metadata": {
    "execution": {
     "iopub.execute_input": "2023-04-04T13:19:26.758179Z",
     "iopub.status.busy": "2023-04-04T13:19:26.758038Z",
     "iopub.status.idle": "2023-04-04T13:19:27.986694Z",
     "shell.execute_reply": "2023-04-04T13:19:27.986112Z",
     "shell.execute_reply.started": "2023-04-04T13:19:26.758166Z"
    },
    "tags": []
   },
   "outputs": [],
   "source": [
    "#repo =  \"/sdf/group/rubin/repo/main\"\n",
    "#repo = \"/sdf/group/rubin/repo/oga/\"\n",
    "repo = \"/repo/embargo/\"\n",
    "butler = dafButler.Butler(repo)\n",
    "registry = butler.registry"
   ]
  },
  {
   "cell_type": "markdown",
   "id": "7fa31e20-40fb-498d-ad80-90ee20f619cd",
   "metadata": {},
   "source": [
    "### Date & Filter & Disperser & collection\n",
    "\n",
    "- make your choice"
   ]
  },
  {
   "cell_type": "code",
   "execution_count": 10,
   "id": "d000a64c-3df6-434c-8d3e-a28cf52483be",
   "metadata": {
    "execution": {
     "iopub.execute_input": "2023-04-04T13:19:27.987569Z",
     "iopub.status.busy": "2023-04-04T13:19:27.987410Z",
     "iopub.status.idle": "2023-04-04T13:19:27.991741Z",
     "shell.execute_reply": "2023-04-04T13:19:27.991317Z",
     "shell.execute_reply.started": "2023-04-04T13:19:27.987554Z"
    }
   },
   "outputs": [],
   "source": [
    "DateToRuncollection = {\n",
    "\n",
    " # september 2022\n",
    " 20220912 :  \"u/dagoret/BPS_manyspectro_v60\", # Missing collection\n",
    " 20220913 :  \"u/dagoret/BPS_manyspectro_v61\", # Missing collection\n",
    " 20220914 :  \"u/dagoret/BPS_manyspectro_v62\", # Missing collection  \n",
    "    \n",
    " 20220927 :  \"u/dagoret/BPS_manyspectro_v63\", # Mount errors available, mitigé\n",
    " 20220928 :  \"u/dagoret/BPS_manyspectro_v64\", # Mount errors available, very nice spectra\n",
    " 20220929 :  \"u/dagoret/BPS_manyspectro_v65\", # Mount errors available, very nice spectra\n",
    "    \n",
    "    \n",
    " # october 2022\n",
    " 20221012 :  \"u/dagoret/BPS_manyspectro_v56\", # mount errors , nice\n",
    " 20221025 :  \"u/dagoret/BPS_manyspectro_v57\", # mount errors, very bad spectra\n",
    " 20221026 :  \"u/dagoret/BPS_manyspectro_v58\", # mount errors,  nice spectra\n",
    " 20221027 :  \"u/dagoret/BPS_manyspectro_v59\", # mount errors,  nice spectra\n",
    "    \n",
    " # november 2022\n",
    " 20221109 :  \"u/dagoret/BPS_manyspectro_v53\", # nice\n",
    " 20221110 :  \"u/dagoret/BPS_manyspectro_v54\", # mount errors available, many bad rec spectra\n",
    " 20221123 :  \"u/dagoret/BPS_manyspectro_v55\", # mount errors , nice   \n",
    "    \n",
    " # december 2022   \n",
    " 20221207 :  \"u/dagoret/BPS_manyspectro_v48\",\n",
    " 20221208 :  \"u/dagoret/BPS_manyspectro_v49\",\n",
    " 20221209 :  \"u/dagoret/BPS_manyspectro_v50\", \n",
    " 20221210 :  \"u/dagoret/BPS_manyspectro_v51\", \n",
    " 20221212 :  \"u/dagoret/BPS_manyspectro_v52\",    \n",
    "    \n",
    " #January 2023 \n",
    " 20230117 :  \"u/dagoret/BPS_manyspectro_v79\", # no mount errors\n",
    " 20230118 :  \"u/dagoret/BPS_manyspectro_v80\", # no mount\n",
    " 20230119 :  \"u/dagoret/BPS_manyspectro_v77\", # missing for moment\n",
    " 20230131 :  \"u/dagoret/BPS_manyspectro_v78\", # missing for moment\n",
    "\n",
    " #february 2023\n",
    " 20230214 :  \"u/dagoret/BPS_manyspectro_v42\",\n",
    " 20230215 :  \"u/dagoret/BPS_manyspectro_v43\", # mount errors\n",
    " 20230216 :  \"u/dagoret/BPS_manyspectro_v44\", # mount errors \n",
    " 20230228 :  \"u/dagoret/BPS_manyspectro_v70\",\n",
    "    \n",
    " #march 2023  \n",
    " 20230301 :  \"u/dagoret/BPS_manyspectro_v71\", \n",
    " 20230302 :  \"u/dagoret/BPS_manyspectro_v72\", \n",
    " 20230315 :  \"u/dagoret/BPS_manyspectro_v73\", \n",
    " 20230316 :  \"u/dagoret/BPS_manyspectro_v74\",    \n",
    "    \n",
    "}"
   ]
  },
  {
   "cell_type": "code",
   "execution_count": 11,
   "id": "c1ffbd47-4cc9-4ef1-ab1c-6f477b8139bb",
   "metadata": {
    "execution": {
     "iopub.execute_input": "2023-04-04T13:19:27.992487Z",
     "iopub.status.busy": "2023-04-04T13:19:27.992343Z",
     "iopub.status.idle": "2023-04-04T13:19:27.996507Z",
     "shell.execute_reply": "2023-04-04T13:19:27.996034Z",
     "shell.execute_reply.started": "2023-04-04T13:19:27.992473Z"
    },
    "tags": []
   },
   "outputs": [],
   "source": [
    "DATE = 20230119\n",
    "my_collection = DateToRuncollection[DATE]\n",
    "\n",
    "filterdispersername = \"empty~holo4_003\"\n",
    "\n",
    "RUNSELECTION = 20230330"
   ]
  },
  {
   "cell_type": "markdown",
   "id": "e5eef764-6dfc-469a-a11a-7184e0aeed06",
   "metadata": {},
   "source": [
    "# List of Dataset types avalaible in my collection"
   ]
  },
  {
   "cell_type": "markdown",
   "id": "1310d3a5-fc53-4db1-b56a-bf6f6e8eca60",
   "metadata": {},
   "source": [
    "## List of dataset types"
   ]
  },
  {
   "cell_type": "code",
   "execution_count": 12,
   "id": "44be81c8-1a26-4e62-ac23-bfa9353206a0",
   "metadata": {
    "execution": {
     "iopub.execute_input": "2023-04-04T13:19:27.997212Z",
     "iopub.status.busy": "2023-04-04T13:19:27.997074Z",
     "iopub.status.idle": "2023-04-04T13:19:28.002804Z",
     "shell.execute_reply": "2023-04-04T13:19:28.002396Z",
     "shell.execute_reply.started": "2023-04-04T13:19:27.997199Z"
    },
    "tags": []
   },
   "outputs": [
    {
     "data": {
      "text/plain": [
       "[DatasetType('atmospecCentroid', {band, instrument, detector, physical_filter, visit}, StructuredDataDict),\n",
       " DatasetType('spectraction', {band, instrument, detector, physical_filter, visit}, Spectraction),\n",
       " DatasetType('spectractorImage', {band, instrument, detector, physical_filter, visit}, SpectractorImage),\n",
       " DatasetType('spectractorSpectrum', {band, instrument, detector, physical_filter, visit}, SpectractorSpectrum)]"
      ]
     },
     "execution_count": 12,
     "metadata": {},
     "output_type": "execute_result"
    }
   ],
   "source": [
    "list(registry.queryDatasetTypes(\"*spec*\"))"
   ]
  },
  {
   "cell_type": "markdown",
   "id": "1dc3ad38-178b-47c6-b989-442a8b91cf1b",
   "metadata": {},
   "source": [
    "## list of datasets"
   ]
  },
  {
   "cell_type": "code",
   "execution_count": 13,
   "id": "fe033164-536b-4adf-94d8-0b59d81740ce",
   "metadata": {
    "execution": {
     "iopub.execute_input": "2023-04-04T13:19:28.003521Z",
     "iopub.status.busy": "2023-04-04T13:19:28.003380Z",
     "iopub.status.idle": "2023-04-04T13:19:28.224807Z",
     "shell.execute_reply": "2023-04-04T13:19:28.222474Z",
     "shell.execute_reply.started": "2023-04-04T13:19:28.003507Z"
    },
    "tags": []
   },
   "outputs": [
    {
     "ename": "MissingCollectionError",
     "evalue": "No collection with name 'u/dagoret/BPS_manyspectro_v77' found.",
     "output_type": "error",
     "traceback": [
      "\u001b[0;31m---------------------------------------------------------------------------\u001b[0m",
      "\u001b[0;31mMissingCollectionError\u001b[0m                    Traceback (most recent call last)",
      "Input \u001b[0;32mIn [13]\u001b[0m, in \u001b[0;36m<cell line: 1>\u001b[0;34m()\u001b[0m\n\u001b[0;32m----> 1\u001b[0m \u001b[38;5;28mlist\u001b[39m(\u001b[43mregistry\u001b[49m\u001b[38;5;241;43m.\u001b[39;49m\u001b[43mqueryDatasets\u001b[49m\u001b[43m(\u001b[49m\u001b[38;5;124;43m\"\u001b[39;49m\u001b[38;5;124;43m*spec*\u001b[39;49m\u001b[38;5;124;43m\"\u001b[39;49m\u001b[43m,\u001b[49m\u001b[43m \u001b[49m\u001b[43mcollections\u001b[49m\u001b[38;5;241;43m=\u001b[39;49m\u001b[43m[\u001b[49m\u001b[43mmy_collection\u001b[49m\u001b[43m]\u001b[49m\u001b[43m)\u001b[49m)[:\u001b[38;5;241m10\u001b[39m]\n",
      "File \u001b[0;32m/opt/lsst/software/stack/stack/miniconda3-py38_4.9.2-5.1.0/Linux64/daf_butler/gf32ae8e294+b394adeda7/python/lsst/daf/butler/registries/sql.py:1163\u001b[0m, in \u001b[0;36mSqlRegistry.queryDatasets\u001b[0;34m(self, datasetType, collections, dimensions, dataId, where, findFirst, components, bind, check, **kwargs)\u001b[0m\n\u001b[1;32m   1157\u001b[0m builder \u001b[38;5;241m=\u001b[39m \u001b[38;5;28mself\u001b[39m\u001b[38;5;241m.\u001b[39m_makeQueryBuilder(summary)\n\u001b[1;32m   1158\u001b[0m \u001b[38;5;66;03m# Add the dataset subquery to the query, telling the QueryBuilder\u001b[39;00m\n\u001b[1;32m   1159\u001b[0m \u001b[38;5;66;03m# to include the rank of the selected collection in the results\u001b[39;00m\n\u001b[1;32m   1160\u001b[0m \u001b[38;5;66;03m# only if we need to findFirst.  Note that if any of the\u001b[39;00m\n\u001b[1;32m   1161\u001b[0m \u001b[38;5;66;03m# collections are actually wildcard expressions, and\u001b[39;00m\n\u001b[1;32m   1162\u001b[0m \u001b[38;5;66;03m# findFirst=True, this will raise TypeError for us.\u001b[39;00m\n\u001b[0;32m-> 1163\u001b[0m \u001b[43mbuilder\u001b[49m\u001b[38;5;241;43m.\u001b[39;49m\u001b[43mjoinDataset\u001b[49m\u001b[43m(\u001b[49m\u001b[43mparent_dataset_type\u001b[49m\u001b[43m,\u001b[49m\u001b[43m \u001b[49m\u001b[43mcollections\u001b[49m\u001b[43m,\u001b[49m\u001b[43m \u001b[49m\u001b[43misResult\u001b[49m\u001b[38;5;241;43m=\u001b[39;49m\u001b[38;5;28;43;01mTrue\u001b[39;49;00m\u001b[43m,\u001b[49m\u001b[43m \u001b[49m\u001b[43mfindFirst\u001b[49m\u001b[38;5;241;43m=\u001b[39;49m\u001b[43mfindFirst\u001b[49m\u001b[43m)\u001b[49m\n\u001b[1;32m   1164\u001b[0m query \u001b[38;5;241m=\u001b[39m builder\u001b[38;5;241m.\u001b[39mfinish()\n\u001b[1;32m   1165\u001b[0m parent_results\u001b[38;5;241m.\u001b[39mappend(\n\u001b[1;32m   1166\u001b[0m     queries\u001b[38;5;241m.\u001b[39mParentDatasetQueryResults(\n\u001b[1;32m   1167\u001b[0m         query, parent_dataset_type, components\u001b[38;5;241m=\u001b[39mcomponents_for_parent\n\u001b[1;32m   1168\u001b[0m     )\n\u001b[1;32m   1169\u001b[0m )\n",
      "File \u001b[0;32m/opt/lsst/software/stack/stack/miniconda3-py38_4.9.2-5.1.0/Linux64/daf_butler/gf32ae8e294+b394adeda7/python/lsst/daf/butler/registry/queries/_builder.py:126\u001b[0m, in \u001b[0;36mQueryBuilder.joinDataset\u001b[0;34m(self, datasetType, collections, isResult, findFirst)\u001b[0m\n\u001b[1;32m    124\u001b[0m     collections\u001b[38;5;241m.\u001b[39mrequire_ordered()\n\u001b[1;32m    125\u001b[0m rejections: \u001b[38;5;28mlist\u001b[39m[\u001b[38;5;28mstr\u001b[39m] \u001b[38;5;241m=\u001b[39m []\n\u001b[0;32m--> 126\u001b[0m collection_records \u001b[38;5;241m=\u001b[39m \u001b[38;5;28;43mself\u001b[39;49m\u001b[38;5;241;43m.\u001b[39;49m\u001b[43m_backend\u001b[49m\u001b[38;5;241;43m.\u001b[39;49m\u001b[43mresolve_dataset_collections\u001b[49m\u001b[43m(\u001b[49m\n\u001b[1;32m    127\u001b[0m \u001b[43m    \u001b[49m\u001b[43mdatasetType\u001b[49m\u001b[43m,\u001b[49m\n\u001b[1;32m    128\u001b[0m \u001b[43m    \u001b[49m\u001b[43mcollections\u001b[49m\u001b[43m,\u001b[49m\n\u001b[1;32m    129\u001b[0m \u001b[43m    \u001b[49m\u001b[43mgovernor_constraints\u001b[49m\u001b[38;5;241;43m=\u001b[39;49m\u001b[38;5;28;43mself\u001b[39;49m\u001b[38;5;241;43m.\u001b[39;49m\u001b[43m_governor_constraints\u001b[49m\u001b[43m,\u001b[49m\n\u001b[1;32m    130\u001b[0m \u001b[43m    \u001b[49m\u001b[43mrejections\u001b[49m\u001b[38;5;241;43m=\u001b[39;49m\u001b[43mrejections\u001b[49m\u001b[43m,\u001b[49m\n\u001b[1;32m    131\u001b[0m \u001b[43m    \u001b[49m\u001b[43mallow_calibration_collections\u001b[49m\u001b[38;5;241;43m=\u001b[39;49m\u001b[43m(\u001b[49m\u001b[38;5;129;43;01mnot\u001b[39;49;00m\u001b[43m \u001b[49m\u001b[43mfindFirst\u001b[49m\u001b[43m \u001b[49m\u001b[38;5;129;43;01mand\u001b[39;49;00m\u001b[43m \u001b[49m\u001b[38;5;129;43;01mnot\u001b[39;49;00m\u001b[43m \u001b[49m\u001b[38;5;28;43mself\u001b[39;49m\u001b[38;5;241;43m.\u001b[39;49m\u001b[43msummary\u001b[49m\u001b[38;5;241;43m.\u001b[39;49m\u001b[43mdimensions\u001b[49m\u001b[38;5;241;43m.\u001b[39;49m\u001b[43mtemporal\u001b[49m\u001b[43m)\u001b[49m\u001b[43m,\u001b[49m\n\u001b[1;32m    132\u001b[0m \u001b[43m\u001b[49m\u001b[43m)\u001b[49m\n\u001b[1;32m    133\u001b[0m columns_requested \u001b[38;5;241m=\u001b[39m {\u001b[38;5;124m\"\u001b[39m\u001b[38;5;124mdataset_id\u001b[39m\u001b[38;5;124m\"\u001b[39m, \u001b[38;5;124m\"\u001b[39m\u001b[38;5;124mrun\u001b[39m\u001b[38;5;124m\"\u001b[39m, \u001b[38;5;124m\"\u001b[39m\u001b[38;5;124mingest_date\u001b[39m\u001b[38;5;124m\"\u001b[39m} \u001b[38;5;28;01mif\u001b[39;00m isResult \u001b[38;5;28;01melse\u001b[39;00m \u001b[38;5;28mfrozenset\u001b[39m()\n\u001b[1;32m    134\u001b[0m \u001b[38;5;28;01mif\u001b[39;00m \u001b[38;5;129;01mnot\u001b[39;00m collection_records:\n",
      "File \u001b[0;32m/opt/lsst/software/stack/stack/miniconda3-py38_4.9.2-5.1.0/Linux64/daf_butler/gf32ae8e294+b394adeda7/python/lsst/daf/butler/registry/queries/_query_backend.py:373\u001b[0m, in \u001b[0;36mQueryBackend.resolve_dataset_collections\u001b[0;34m(self, dataset_type, collections, governor_constraints, rejections, collection_types, allow_calibration_collections)\u001b[0m\n\u001b[1;32m    371\u001b[0m     collection_types \u001b[38;5;241m=\u001b[39m {CollectionType\u001b[38;5;241m.\u001b[39mRUN}\n\u001b[1;32m    372\u001b[0m explicit_collections \u001b[38;5;241m=\u001b[39m \u001b[38;5;28mfrozenset\u001b[39m(collections\u001b[38;5;241m.\u001b[39mstrings)\n\u001b[0;32m--> 373\u001b[0m matching_collection_records \u001b[38;5;241m=\u001b[39m \u001b[38;5;28;43mself\u001b[39;49m\u001b[38;5;241;43m.\u001b[39;49m\u001b[43mresolve_collection_wildcard\u001b[49m\u001b[43m(\u001b[49m\n\u001b[1;32m    374\u001b[0m \u001b[43m    \u001b[49m\u001b[43mcollections\u001b[49m\u001b[43m,\u001b[49m\u001b[43m \u001b[49m\u001b[43mcollection_types\u001b[49m\u001b[38;5;241;43m=\u001b[39;49m\u001b[43mcollection_types\u001b[49m\n\u001b[1;32m    375\u001b[0m \u001b[43m\u001b[49m\u001b[43m)\u001b[49m\n\u001b[1;32m    376\u001b[0m ((_, filtered_collection_records),) \u001b[38;5;241m=\u001b[39m \u001b[38;5;28mself\u001b[39m\u001b[38;5;241m.\u001b[39mfilter_dataset_collections(\n\u001b[1;32m    377\u001b[0m     [dataset_type],\n\u001b[1;32m    378\u001b[0m     matching_collection_records,\n\u001b[1;32m    379\u001b[0m     governor_constraints\u001b[38;5;241m=\u001b[39mgovernor_constraints,\n\u001b[1;32m    380\u001b[0m     rejections\u001b[38;5;241m=\u001b[39mrejections,\n\u001b[1;32m    381\u001b[0m )\u001b[38;5;241m.\u001b[39mitems()\n\u001b[1;32m    382\u001b[0m \u001b[38;5;28;01mif\u001b[39;00m \u001b[38;5;129;01mnot\u001b[39;00m allow_calibration_collections:\n",
      "File \u001b[0;32m/opt/lsst/software/stack/stack/miniconda3-py38_4.9.2-5.1.0/Linux64/daf_butler/gf32ae8e294+b394adeda7/python/lsst/daf/butler/registry/queries/_sql_query_backend.py:92\u001b[0m, in \u001b[0;36mSqlQueryBackend.resolve_collection_wildcard\u001b[0;34m(self, expression, collection_types, done, flatten_chains, include_chains)\u001b[0m\n\u001b[1;32m     82\u001b[0m \u001b[38;5;28;01mdef\u001b[39;00m \u001b[38;5;21mresolve_collection_wildcard\u001b[39m(\n\u001b[1;32m     83\u001b[0m     \u001b[38;5;28mself\u001b[39m,\n\u001b[1;32m     84\u001b[0m     expression: Any,\n\u001b[0;32m   (...)\u001b[0m\n\u001b[1;32m     90\u001b[0m ) \u001b[38;5;241m-\u001b[39m\u001b[38;5;241m>\u001b[39m \u001b[38;5;28mlist\u001b[39m[CollectionRecord]:\n\u001b[1;32m     91\u001b[0m     \u001b[38;5;66;03m# Docstring inherited.\u001b[39;00m\n\u001b[0;32m---> 92\u001b[0m     \u001b[38;5;28;01mreturn\u001b[39;00m \u001b[38;5;28;43mself\u001b[39;49m\u001b[38;5;241;43m.\u001b[39;49m\u001b[43m_managers\u001b[49m\u001b[38;5;241;43m.\u001b[39;49m\u001b[43mcollections\u001b[49m\u001b[38;5;241;43m.\u001b[39;49m\u001b[43mresolve_wildcard\u001b[49m\u001b[43m(\u001b[49m\n\u001b[1;32m     93\u001b[0m \u001b[43m        \u001b[49m\u001b[43mexpression\u001b[49m\u001b[43m,\u001b[49m\n\u001b[1;32m     94\u001b[0m \u001b[43m        \u001b[49m\u001b[43mcollection_types\u001b[49m\u001b[38;5;241;43m=\u001b[39;49m\u001b[43mcollection_types\u001b[49m\u001b[43m,\u001b[49m\n\u001b[1;32m     95\u001b[0m \u001b[43m        \u001b[49m\u001b[43mdone\u001b[49m\u001b[38;5;241;43m=\u001b[39;49m\u001b[43mdone\u001b[49m\u001b[43m,\u001b[49m\n\u001b[1;32m     96\u001b[0m \u001b[43m        \u001b[49m\u001b[43mflatten_chains\u001b[49m\u001b[38;5;241;43m=\u001b[39;49m\u001b[43mflatten_chains\u001b[49m\u001b[43m,\u001b[49m\n\u001b[1;32m     97\u001b[0m \u001b[43m        \u001b[49m\u001b[43minclude_chains\u001b[49m\u001b[38;5;241;43m=\u001b[39;49m\u001b[43minclude_chains\u001b[49m\u001b[43m,\u001b[49m\n\u001b[1;32m     98\u001b[0m \u001b[43m    \u001b[49m\u001b[43m)\u001b[49m\n",
      "File \u001b[0;32m/opt/lsst/software/stack/stack/miniconda3-py38_4.9.2-5.1.0/Linux64/daf_butler/gf32ae8e294+b394adeda7/python/lsst/daf/butler/registry/collections/_base.py:497\u001b[0m, in \u001b[0;36mDefaultCollectionManager.resolve_wildcard\u001b[0;34m(self, wildcard, collection_types, done, flatten_chains, include_chains)\u001b[0m\n\u001b[1;32m    495\u001b[0m     \u001b[38;5;28;01mreturn\u001b[39;00m result\n\u001b[1;32m    496\u001b[0m \u001b[38;5;28;01mfor\u001b[39;00m name \u001b[38;5;129;01min\u001b[39;00m wildcard\u001b[38;5;241m.\u001b[39mstrings:\n\u001b[0;32m--> 497\u001b[0m     result\u001b[38;5;241m.\u001b[39mextend(resolve_nested(\u001b[38;5;28;43mself\u001b[39;49m\u001b[38;5;241;43m.\u001b[39;49m\u001b[43mfind\u001b[49m\u001b[43m(\u001b[49m\u001b[43mname\u001b[49m\u001b[43m)\u001b[49m, done))\n\u001b[1;32m    498\u001b[0m \u001b[38;5;28;01mif\u001b[39;00m wildcard\u001b[38;5;241m.\u001b[39mpatterns:\n\u001b[1;32m    499\u001b[0m     \u001b[38;5;28;01mfor\u001b[39;00m record \u001b[38;5;129;01min\u001b[39;00m \u001b[38;5;28mself\u001b[39m\u001b[38;5;241m.\u001b[39m_records\u001b[38;5;241m.\u001b[39mvalues():\n",
      "File \u001b[0;32m/opt/lsst/software/stack/stack/miniconda3-py38_4.9.2-5.1.0/Linux64/daf_butler/gf32ae8e294+b394adeda7/python/lsst/daf/butler/registry/collections/_base.py:451\u001b[0m, in \u001b[0;36mDefaultCollectionManager.find\u001b[0;34m(self, name)\u001b[0m\n\u001b[1;32m    449\u001b[0m result \u001b[38;5;241m=\u001b[39m \u001b[38;5;28mself\u001b[39m\u001b[38;5;241m.\u001b[39m_getByName(name)\n\u001b[1;32m    450\u001b[0m \u001b[38;5;28;01mif\u001b[39;00m result \u001b[38;5;129;01mis\u001b[39;00m \u001b[38;5;28;01mNone\u001b[39;00m:\n\u001b[0;32m--> 451\u001b[0m     \u001b[38;5;28;01mraise\u001b[39;00m MissingCollectionError(\u001b[38;5;124mf\u001b[39m\u001b[38;5;124m\"\u001b[39m\u001b[38;5;124mNo collection with name \u001b[39m\u001b[38;5;124m'\u001b[39m\u001b[38;5;132;01m{\u001b[39;00mname\u001b[38;5;132;01m}\u001b[39;00m\u001b[38;5;124m'\u001b[39m\u001b[38;5;124m found.\u001b[39m\u001b[38;5;124m\"\u001b[39m)\n\u001b[1;32m    452\u001b[0m \u001b[38;5;28;01mreturn\u001b[39;00m result\n",
      "\u001b[0;31mMissingCollectionError\u001b[0m: No collection with name 'u/dagoret/BPS_manyspectro_v77' found."
     ]
    }
   ],
   "source": [
    "list(registry.queryDatasets(\"*spec*\", collections=[my_collection]))[:10]"
   ]
  },
  {
   "cell_type": "markdown",
   "id": "c30cd39d-0677-43f7-b043-c0b9ae126c73",
   "metadata": {},
   "source": [
    "### Spectractor"
   ]
  },
  {
   "cell_type": "code",
   "execution_count": null,
   "id": "1dc181f4-d44a-48c4-8e8a-86c35c0dcc98",
   "metadata": {
    "execution": {
     "iopub.status.busy": "2023-04-04T13:19:28.225224Z",
     "iopub.status.idle": "2023-04-04T13:19:28.225413Z",
     "shell.execute_reply": "2023-04-04T13:19:28.225323Z",
     "shell.execute_reply.started": "2023-04-04T13:19:28.225313Z"
    },
    "tags": []
   },
   "outputs": [],
   "source": [
    "configmode = \"PSF2DFFM_REBIN2\"\n",
    "#configmode = \"PSF2DFFM_REBIN1\"\n",
    "#ext=\"_b\"\n",
    "specver=\"specV2.4\""
   ]
  },
  {
   "cell_type": "markdown",
   "id": "740be8a3-fcd9-4f42-b0ec-8067ad2bc2ae",
   "metadata": {},
   "source": [
    "https://www.pythonforthelab.com/blog/how-to-use-hdf5-files-in-python/"
   ]
  },
  {
   "cell_type": "code",
   "execution_count": null,
   "id": "6c20db62-9cda-42c7-85e8-54e33404fc56",
   "metadata": {
    "execution": {
     "iopub.status.busy": "2023-04-04T13:19:28.225792Z",
     "iopub.status.idle": "2023-04-04T13:19:28.225967Z",
     "shell.execute_reply": "2023-04-04T13:19:28.225883Z",
     "shell.execute_reply.started": "2023-04-04T13:19:28.225873Z"
    },
    "tags": []
   },
   "outputs": [],
   "source": [
    "#summary_file = f\"summaryspectra_{DATE}-{filterdispersername}-{configmode}-oga.csv\"\n",
    "summary_file = f\"summaryspectra_{DATE}-{filterdispersername}-{configmode}-{specver}-oga.csv\"\n",
    "output_file_h5 = f\"allspectra_{DATE}-{filterdispersername}-{configmode}-{specver}-oga.hdf5\""
   ]
  },
  {
   "cell_type": "markdown",
   "id": "20dbb8da-3a08-4b4f-9437-4bf7f28c1782",
   "metadata": {},
   "source": [
    "### The collection"
   ]
  },
  {
   "cell_type": "code",
   "execution_count": null,
   "id": "9629ea29-8ab4-4062-aed1-e16d62dc90c4",
   "metadata": {
    "execution": {
     "iopub.status.busy": "2023-04-04T13:19:28.226807Z",
     "iopub.status.idle": "2023-04-04T13:19:28.227134Z",
     "shell.execute_reply": "2023-04-04T13:19:28.227034Z",
     "shell.execute_reply.started": "2023-04-04T13:19:28.227023Z"
    },
    "tags": []
   },
   "outputs": [],
   "source": [
    "datasetRefs = registry.queryDatasets(datasetType='spectractorSpectrum', collections=my_collection, where= \"instrument='LATISS'\")"
   ]
  },
  {
   "cell_type": "code",
   "execution_count": null,
   "id": "2f008879-ecc4-4b86-9b24-0641fb4301cd",
   "metadata": {
    "execution": {
     "iopub.status.busy": "2023-04-04T13:19:28.227733Z",
     "iopub.status.idle": "2023-04-04T13:19:28.227921Z",
     "shell.execute_reply": "2023-04-04T13:19:28.227826Z",
     "shell.execute_reply.started": "2023-04-04T13:19:28.227817Z"
    }
   },
   "outputs": [],
   "source": [
    "# following line not possible in OGA\n",
    "#butler = butlerUtils.makeDefaultLatissButler(extraCollections=[my_collection])"
   ]
  },
  {
   "cell_type": "code",
   "execution_count": null,
   "id": "68381069-9717-4616-ae6c-f1e6561dbddf",
   "metadata": {
    "execution": {
     "iopub.status.busy": "2023-04-04T13:19:28.228463Z",
     "iopub.status.idle": "2023-04-04T13:19:28.228649Z",
     "shell.execute_reply": "2023-04-04T13:19:28.228561Z",
     "shell.execute_reply.started": "2023-04-04T13:19:28.228551Z"
    },
    "tags": []
   },
   "outputs": [],
   "source": [
    "if FLAG_MOUNT_ERRORS:\n",
    "    df_mounterrors = pd.read_csv(\"mountErrors.csv\")\n",
    "    df=df_mounterrors[df_mounterrors[\"date_obs\"] == DATE ]\n",
    "    if len(df) == 0:\n",
    "        FLAG_MOUNT_ERRORS = False\n",
    "        "
   ]
  },
  {
   "cell_type": "code",
   "execution_count": null,
   "id": "57d2853e-a6ab-4661-9792-cbea1c065980",
   "metadata": {
    "execution": {
     "iopub.status.busy": "2023-04-04T13:19:28.229248Z",
     "iopub.status.idle": "2023-04-04T13:19:28.229419Z",
     "shell.execute_reply": "2023-04-04T13:19:28.229340Z",
     "shell.execute_reply.started": "2023-04-04T13:19:28.229331Z"
    },
    "tags": []
   },
   "outputs": [],
   "source": [
    "df_mounterrors"
   ]
  },
  {
   "cell_type": "code",
   "execution_count": null,
   "id": "56e5ab5d-c872-4c1d-99f5-b8fe6ff2ebc9",
   "metadata": {
    "execution": {
     "iopub.status.busy": "2023-04-04T13:19:28.230161Z",
     "iopub.status.idle": "2023-04-04T13:19:28.230342Z",
     "shell.execute_reply": "2023-04-04T13:19:28.230253Z",
     "shell.execute_reply.started": "2023-04-04T13:19:28.230244Z"
    },
    "tags": []
   },
   "outputs": [],
   "source": [
    "df"
   ]
  },
  {
   "cell_type": "code",
   "execution_count": null,
   "id": "42077f4b-583a-4276-bc24-5e3d865318ce",
   "metadata": {
    "execution": {
     "iopub.status.busy": "2023-04-04T13:19:28.230824Z",
     "iopub.status.idle": "2023-04-04T13:19:28.230999Z",
     "shell.execute_reply": "2023-04-04T13:19:28.230913Z",
     "shell.execute_reply.started": "2023-04-04T13:19:28.230904Z"
    }
   },
   "outputs": [],
   "source": [
    "FLAG_MOUNT_ERRORS "
   ]
  },
  {
   "cell_type": "markdown",
   "id": "432e82a4-5617-48b3-a5bb-1f2c550c8525",
   "metadata": {},
   "source": [
    "## Loop on exposures"
   ]
  },
  {
   "cell_type": "code",
   "execution_count": null,
   "id": "72d890df-634d-4543-ba8e-c29c0621ac4d",
   "metadata": {
    "execution": {
     "iopub.status.busy": "2023-04-04T13:19:28.231750Z",
     "iopub.status.idle": "2023-04-04T13:19:28.231934Z",
     "shell.execute_reply": "2023-04-04T13:19:28.231846Z",
     "shell.execute_reply.started": "2023-04-04T13:19:28.231837Z"
    },
    "tags": []
   },
   "outputs": [],
   "source": [
    "#outfile.close()"
   ]
  },
  {
   "cell_type": "code",
   "execution_count": null,
   "id": "979b03d5-e54c-4d21-a848-98b820df1d16",
   "metadata": {
    "execution": {
     "iopub.status.busy": "2023-04-04T13:19:28.232462Z",
     "iopub.status.idle": "2023-04-04T13:19:28.232640Z",
     "shell.execute_reply": "2023-04-04T13:19:28.232559Z",
     "shell.execute_reply.started": "2023-04-04T13:19:28.232550Z"
    },
    "tags": []
   },
   "outputs": [],
   "source": [
    "all_dataId = []     # full data id\n",
    "all_spec = []       # spectra\n",
    "all_exposures = []  # exposure number\n",
    "all_num = []        # sequence numbers\n",
    "all_h5group = []\n",
    "\n",
    "hf_outfile =  h5py.File(output_file_h5, 'w') \n",
    "  \n",
    "\n",
    "for i, ref in enumerate(datasetRefs):\n",
    "\n",
    "    print(f\"============= ({i}) ============datasetType = spectraction ============================================\")\n",
    "    print(\"fullId..................:\",ref.dataId.full)\n",
    "    print(\"visit...................:\",ref.dataId[\"visit\"])\n",
    "    print(\"band....................:\",ref.dataId[\"band\"])\n",
    "    print(\"physical filter.........:\",ref.dataId[\"physical_filter\"])\n",
    "    print(\"run.....................:\",ref.run)\n",
    "    \n",
    "    #through old runs\n",
    "    date_of_run = int(ref.run.split(\"/\")[-1].split(\"T\")[0])\n",
    "    if date_of_run< RUNSELECTION :\n",
    "        continue\n",
    " \n",
    "    \n",
    "    \n",
    "    the_exposure = ref.dataId[\"visit\"]\n",
    "    the_day_obs = ref.dataId[\"visit\"]//100_000\n",
    "    the_seq_num = ref.dataId[\"visit\"]- the_day_obs*100_000    \n",
    "    the_dataId = {'day_obs': the_day_obs,'seq_num':the_seq_num,'detector':0}\n",
    "    print(the_dataId)\n",
    "    \n",
    "    the_exposure_key = str(the_exposure)\n",
    "    \n",
    "    g = hf_outfile.create_group(the_exposure_key)\n",
    "    all_h5group.append(g) \n",
    "    \n",
    "    \n",
    "    \n",
    "    # retrieve the spectrum from Butler\n",
    "    #spec       = butler.get('spectraction',the_dataId)\n",
    "    spec = butler.get('spectractorSpectrum', visit=the_exposure, detector=0, collections=my_collection, instrument='LATISS')\n",
    "    \n",
    "    # save in collection lists\n",
    "    all_dataId.append(the_dataId) \n",
    "    all_exposures.append(the_exposure)\n",
    "    all_spec.append(spec)\n",
    "    all_num.append(the_seq_num)\n",
    "    "
   ]
  },
  {
   "cell_type": "code",
   "execution_count": null,
   "id": "165ec0ab-fef7-4346-a1cf-28f4b59e5259",
   "metadata": {
    "execution": {
     "iopub.status.busy": "2023-04-04T13:19:28.233332Z",
     "iopub.status.idle": "2023-04-04T13:19:28.233514Z",
     "shell.execute_reply": "2023-04-04T13:19:28.233422Z",
     "shell.execute_reply.started": "2023-04-04T13:19:28.233413Z"
    },
    "tags": []
   },
   "outputs": [],
   "source": [
    "hf_outfile.keys()"
   ]
  },
  {
   "cell_type": "code",
   "execution_count": null,
   "id": "b0082a68-6a17-4de8-837b-b1986d3dd093",
   "metadata": {
    "execution": {
     "iopub.status.busy": "2023-04-04T13:19:28.234014Z",
     "iopub.status.idle": "2023-04-04T13:19:28.234178Z",
     "shell.execute_reply": "2023-04-04T13:19:28.234102Z",
     "shell.execute_reply.started": "2023-04-04T13:19:28.234093Z"
    },
    "tags": []
   },
   "outputs": [],
   "source": [
    "index = 0\n",
    "\n",
    "spec = all_spec[index]"
   ]
  },
  {
   "cell_type": "code",
   "execution_count": null,
   "id": "dabeb92d-e7ea-41bd-9afe-14f4ec4ca365",
   "metadata": {
    "execution": {
     "iopub.status.busy": "2023-04-04T13:19:28.234923Z",
     "iopub.status.idle": "2023-04-04T13:19:28.235104Z",
     "shell.execute_reply": "2023-04-04T13:19:28.235016Z",
     "shell.execute_reply.started": "2023-04-04T13:19:28.235007Z"
    },
    "tags": []
   },
   "outputs": [],
   "source": [
    "the_h5group = all_h5group[index] "
   ]
  },
  {
   "cell_type": "code",
   "execution_count": null,
   "id": "3cc31921-f813-4204-8efb-5d9cba13e785",
   "metadata": {
    "execution": {
     "iopub.status.busy": "2023-04-04T13:19:28.235670Z",
     "iopub.status.idle": "2023-04-04T13:19:28.235847Z",
     "shell.execute_reply": "2023-04-04T13:19:28.235761Z",
     "shell.execute_reply.started": "2023-04-04T13:19:28.235752Z"
    }
   },
   "outputs": [],
   "source": [
    "d = the_h5group.create_dataset('airmass', data=spec.airmass)"
   ]
  },
  {
   "cell_type": "code",
   "execution_count": null,
   "id": "24c8bcad-8c18-4936-b3d3-74acd63ad092",
   "metadata": {
    "execution": {
     "iopub.status.busy": "2023-04-04T13:19:28.236325Z",
     "iopub.status.idle": "2023-04-04T13:19:28.236507Z",
     "shell.execute_reply": "2023-04-04T13:19:28.236415Z",
     "shell.execute_reply.started": "2023-04-04T13:19:28.236406Z"
    },
    "tags": []
   },
   "outputs": [],
   "source": [
    "spec.airmass"
   ]
  },
  {
   "cell_type": "code",
   "execution_count": null,
   "id": "a3672116-7048-4d01-9623-b84dc877d2c3",
   "metadata": {
    "execution": {
     "iopub.status.busy": "2023-04-04T13:19:28.237161Z",
     "iopub.status.idle": "2023-04-04T13:19:28.237330Z",
     "shell.execute_reply": "2023-04-04T13:19:28.237250Z",
     "shell.execute_reply.started": "2023-04-04T13:19:28.237241Z"
    },
    "tags": []
   },
   "outputs": [],
   "source": [
    "spec.date_obs"
   ]
  },
  {
   "cell_type": "code",
   "execution_count": null,
   "id": "c512a035-04b0-44b4-926a-5c5e51c0dc3b",
   "metadata": {
    "execution": {
     "iopub.status.busy": "2023-04-04T13:19:28.238084Z",
     "iopub.status.idle": "2023-04-04T13:19:28.238260Z",
     "shell.execute_reply": "2023-04-04T13:19:28.238174Z",
     "shell.execute_reply.started": "2023-04-04T13:19:28.238166Z"
    },
    "tags": []
   },
   "outputs": [],
   "source": [
    "spec.cov_matrix.shape"
   ]
  },
  {
   "cell_type": "code",
   "execution_count": null,
   "id": "fa2be0b1-4419-470e-8fcb-02eeb06d7e76",
   "metadata": {
    "execution": {
     "iopub.status.busy": "2023-04-04T13:19:28.238688Z",
     "iopub.status.idle": "2023-04-04T13:19:28.238852Z",
     "shell.execute_reply": "2023-04-04T13:19:28.238775Z",
     "shell.execute_reply.started": "2023-04-04T13:19:28.238766Z"
    },
    "tags": []
   },
   "outputs": [],
   "source": [
    "spec.lambdas.shape"
   ]
  },
  {
   "cell_type": "code",
   "execution_count": null,
   "id": "dd649f12-094a-49d6-bbfd-0dc4074eed5e",
   "metadata": {
    "execution": {
     "iopub.status.busy": "2023-04-04T13:19:28.239484Z",
     "iopub.status.idle": "2023-04-04T13:19:28.239666Z",
     "shell.execute_reply": "2023-04-04T13:19:28.239581Z",
     "shell.execute_reply.started": "2023-04-04T13:19:28.239572Z"
    },
    "tags": []
   },
   "outputs": [],
   "source": [
    "spec.data_next_order.shape"
   ]
  },
  {
   "cell_type": "code",
   "execution_count": null,
   "id": "4eb86272-d1e8-4c47-b82b-5aab15071e2f",
   "metadata": {
    "execution": {
     "iopub.status.busy": "2023-04-04T13:19:28.240379Z",
     "iopub.status.idle": "2023-04-04T13:19:28.240561Z",
     "shell.execute_reply": "2023-04-04T13:19:28.240469Z",
     "shell.execute_reply.started": "2023-04-04T13:19:28.240460Z"
    },
    "tags": []
   },
   "outputs": [],
   "source": [
    "spec.chromatic_psf.load_table()"
   ]
  },
  {
   "cell_type": "code",
   "execution_count": null,
   "id": "a8e131a3-1693-4778-a078-c19775948182",
   "metadata": {
    "execution": {
     "iopub.status.busy": "2023-04-04T13:19:28.241183Z",
     "iopub.status.idle": "2023-04-04T13:19:28.241360Z",
     "shell.execute_reply": "2023-04-04T13:19:28.241274Z",
     "shell.execute_reply.started": "2023-04-04T13:19:28.241265Z"
    },
    "tags": []
   },
   "outputs": [],
   "source": [
    "spec.spectrogram_saturation"
   ]
  },
  {
   "cell_type": "code",
   "execution_count": null,
   "id": "a87120fc-75b7-4963-88b8-e498ec001488",
   "metadata": {
    "execution": {
     "iopub.status.busy": "2023-04-04T13:19:28.242310Z",
     "iopub.status.idle": "2023-04-04T13:19:28.242483Z",
     "shell.execute_reply": "2023-04-04T13:19:28.242405Z",
     "shell.execute_reply.started": "2023-04-04T13:19:28.242395Z"
    }
   },
   "outputs": [],
   "source": [
    "spec.chromatic_psf.plot_summary()"
   ]
  },
  {
   "cell_type": "code",
   "execution_count": null,
   "id": "cffbfd6f-7e3f-4e19-ba9d-c92b659fc2d9",
   "metadata": {
    "execution": {
     "iopub.status.busy": "2023-04-04T13:19:28.243237Z",
     "iopub.status.idle": "2023-04-04T13:19:28.243413Z",
     "shell.execute_reply": "2023-04-04T13:19:28.243332Z",
     "shell.execute_reply.started": "2023-04-04T13:19:28.243322Z"
    },
    "tags": []
   },
   "outputs": [],
   "source": [
    "def DumpSpectrum(spec):\n",
    "    print(\"--------------------------------------------\")\n",
    "    print(\"spec.target.label\\t\",spec.target.label)\n",
    "    print(\"spec.filter_label\\t\",spec.filter_label)\n",
    "    print(\"spec.airmass\\t\",spec.airmass)\n",
    "    print(\"spec.date_obs\\t\",spec.date_obs)\n",
    "    print(\"spec.temperature\\t\",spec.temperature)\n",
    "    print(\"spec.pressure\\t\",spec.pressure)\n",
    "    print(\"spec.humidity\\t\",spec.humidity)    \n",
    "    #print(\"spec.ra\\t\",spec.ra)\n",
    "    print(\"spec.dec\\t\",spec.dec)\n",
    "    print(\"spec.hour_angle\\t\",spec.hour_angle)\n",
    "    print(\"spec.parallactic_angle\\t\",spec.parallactic_angle)\n",
    "    print(\"spec.camera_angle\\t\", spec.camera_angle)\n",
    "    print(\"--------------------------------------------\")\n",
    "    print(\"spec.order\\t\",spec.order)\n",
    "    print(\"spec.lambdas\\t\",spec.lambdas)\n",
    "    print(\"spec.data\\t\",spec.data)\n",
    "    print(\"spec.err\\t\",spec.err)\n",
    "    print(\"spec.covmatrix\\t\",spec.cov_matrix)\n",
    "    print(\"--------------------------------------------\")\n",
    "    print(\"spec.data_next_order\\t\",spec.data_next_order)\n",
    "    print(\"spec.err_next_order\\t\",spec.err_next_order)"
   ]
  },
  {
   "cell_type": "code",
   "execution_count": null,
   "id": "e049465b-1a81-4514-967b-4fe85f3df9b0",
   "metadata": {
    "execution": {
     "iopub.status.busy": "2023-04-04T13:19:28.244020Z",
     "iopub.status.idle": "2023-04-04T13:19:28.244201Z",
     "shell.execute_reply": "2023-04-04T13:19:28.244113Z",
     "shell.execute_reply.started": "2023-04-04T13:19:28.244103Z"
    },
    "tags": []
   },
   "outputs": [],
   "source": [
    "def AddDataSetsInGroup(spec,h5group):\n",
    "  \n",
    "   \n",
    "    #spectrum\n",
    "\n",
    "    h5group.attrs['spec_target_label'] = spec.target.label\n",
    "    h5group.attrs['spec_filter_label'] = spec.filter_label\n",
    "    h5group.attrs[\"spec_date_obs\"] = spec.date_obs\n",
    "    h5group.attrs[\"spec_airmass\"] = spec.airmass \n",
    "    h5group.attrs[\"spec_temperature\"] = spec.temperature\n",
    "    h5group.attrs[\"spec_pressure\"] = spec.pressure\n",
    "    h5group.attrs[\"spec_humidity\"] = spec.humidity\n",
    "    h5group.attrs[\"spec_dec\"] = spec.dec\n",
    "    h5group.attrs[\"spec_hour_angle\"] = spec.hour_angle\n",
    "    h5group.attrs[\"spec_parallactic_angle\"] = spec.parallactic_angle\n",
    "    h5group.attrs[\"spec_camera_angle\"] = spec.camera_angle\n",
    "    h5group.attrs[\"spec_order\"] = spec.order\n",
    "    \n",
    "    \n",
    "    d = h5group.create_dataset(\"spec_lambdas\",data=spec.lambdas,compression=\"gzip\", compression_opts=9)\n",
    "    d = h5group.create_dataset(\"spec_data\",data=spec.data,compression=\"gzip\", compression_opts=9)\n",
    "    d = h5group.create_dataset(\"spec_err\",data=spec.err,compression=\"gzip\", compression_opts=9)\n",
    "    d = h5group.create_dataset(\"spec_covmatrix\",data=spec.cov_matrix,compression=\"gzip\", compression_opts=9)\n",
    "    d = h5group.create_dataset(\"spec_data_next_order\",data=spec.data_next_order,compression=\"gzip\", compression_opts=9)\n",
    "    d = h5group.create_dataset(\"spec_err_next_order\",data=spec.err_next_order,compression=\"gzip\", compression_opts=9)\n",
    "    \n",
    "    # spectrogram\n",
    "    \n",
    "    d = h5group.create_dataset(\"spec_spectrogram\",data=spec.spectrogram,compression=\"gzip\", compression_opts=9)\n",
    "    d = h5group.create_dataset(\"spec_spectrogram_bgd\",data=spec.spectrogram_bgd,compression=\"gzip\", compression_opts=9)\n",
    "    d = h5group.create_dataset(\"spec_spectrogram_bgd_rms\",data=spec.spectrogram_bgd_rms,compression=\"gzip\", compression_opts=9)\n",
    "    d = h5group.create_dataset(\"spec_spectrogram_err\",data=spec.spectrogram_err,compression=\"gzip\", compression_opts=9)\n",
    "    d = h5group.create_dataset(\"spec_spectrogram_residuals\",data=spec.spectrogram_residuals,compression=\"gzip\", compression_opts=9)\n",
    "    d = h5group.create_dataset(\"spec_spectrogram_fit\",data=spec.spectrogram_fit,compression=\"gzip\", compression_opts=9)\n",
    "    \n",
    "    \n",
    "    h5group.attrs[\"spec_spectrogram_x0\"]=spec.spectrogram_x0\n",
    "    h5group.attrs[\"spec_spectrogram_y0\"]=spec.spectrogram_y0\n",
    "    h5group.attrs[\"spec_spectrogram_xmin\"]=spec.spectrogram_xmin\n",
    "    h5group.attrs[\"spec_spectrogram_xmax\"]=spec.spectrogram_xmax\n",
    "    h5group.attrs[\"spec_spectrogram_ymin\"]=spec.spectrogram_ymin\n",
    "    h5group.attrs[\"spec_spectrogram_ymax\"]=spec.spectrogram_ymax\n",
    "    h5group.attrs[\"spec_spectrogram_deg\"]=spec.spectrogram_deg\n",
    "    h5group.attrs[\"spec_spectrogram_saturation\"]=spec.spectrogram_saturation      \n",
    "    h5group.attrs[\"spec_spectrogram_Nx\"]=spec.spectrogram_Nx\n",
    "    h5group.attrs[\"spec_spectrogram_Ny\"]=spec.spectrogram_Ny\n",
    "    \n",
    "    \n",
    "    # header\n",
    "    \n",
    "    h5group.attrs[\"spec_header_target\"]=spec.header[\"TARGET\"]\n",
    "    h5group.attrs[\"spec_header_redshift\"]=spec.header[\"REDSHIFT\"]\n",
    "    h5group.attrs['spec_header_grating']=spec.header[\"GRATING\"]\n",
    "    h5group.attrs[\"spec_header_rotangle\"]=spec.header[\"ROTANGLE\"]\n",
    "    h5group.attrs[\"spec_header_d2ccd\"]=spec.header[\"D2CCD\"]\n",
    "    h5group.attrs[\"spec_header_lshift\"]=spec.header[\"LSHIFT\"]\n",
    "    h5group.attrs[\"spec_header_parangle\"]=spec.header[\"PARANGLE\"]\n",
    "    h5group.attrs[\"spec_header_targetx\"]=spec.header[\"TARGETX\"]\n",
    "    h5group.attrs[\"spec_header_targety\"]=spec.header[\"TARGETY\"]\n",
    "    h5group.attrs[\"spec_header_lbda_ref\"]=spec.header[\"LBDA_REF\"]\n",
    "    h5group.attrs[\"spec_header_pixshift\"]=spec.header[\"PIXSHIFT\"]\n",
    "    h5group.attrs[\"spec_header_psf_reg\"]=spec.header[\"PSF_REG\"]\n",
    "    h5group.attrs[\"spec_header_trace_r\"]=spec.header[\"TRACE_R\"]   \n",
    "    h5group.attrs[\"spec_header_chi2_fit\"]=spec.header[\"CHI2_FIT\"]   \n",
    "    h5group.attrs[\"spec_header_a2_fit\"]=spec.header[\"A2_FIT\"]\n",
    "    h5group.attrs[\"spec_header_am_fit\"]=spec.header[\"AM_FIT\"]\n",
    "    h5group.attrs[\"spec_header_meanfwhm\"]=spec.header[\"MEANFWHM\"]\n",
    "    h5group.attrs[\"spec_header_version\"]=spec.header[\"VERSION\"]\n",
    "    h5group.attrs[\"spec_header_rebin\"]=spec.header[\"REBIN\"]\n",
    "    h5group.attrs['spec_header_date-obs']=spec.header[\"DATE-OBS\"]\n",
    "    h5group.attrs[\"spec_header_exptime\"]=spec.header[\"EXPTIME\"]\n",
    "    h5group.attrs[\"spec_header_airmass\"]=spec.header[\"AIRMASS\"] \n",
    "    h5group.attrs[\"spec_header_dec\"]=spec.header[\"DEC\"]\n",
    "    h5group.attrs[\"spec_header_ha\"]=spec.header[\"HA\"]\n",
    "    h5group.attrs[\"spec_header_outtemp\"]=spec.header[\"OUTTEMP\"] \n",
    "    h5group.attrs[\"spec_header_outpress\"]=spec.header[\"OUTPRESS\"] \n",
    "    h5group.attrs[\"spec_header_outhum\"]=spec.header[\"OUTHUM\"]\n",
    "    h5group.attrs[\"spec_header_filter\"]=spec.header[\"FILTER\"]\n",
    "    h5group.attrs[\"spec_header_cam_rot\"]=spec.header[\"CAM_ROT\"] \n",
    "    h5group.attrs[\"spec_header_s_x0\"]=spec.header[\"S_X0\"]\n",
    "    h5group.attrs[\"spec_header_s_y0\"]=spec.header[\"S_Y0\"]\n",
    "    h5group.attrs[\"spec_header_s_xmin\"]=spec.header[\"S_XMIN\"]      \n",
    "    h5group.attrs[\"spec_header_s_xmax\"]=spec.header[\"S_XMAX\"]                                               \n",
    "    h5group.attrs[\"spec_header_s_ymin\"]=spec.header[\"S_YMIN\"]      \n",
    "    h5group.attrs[\"spec_header_s_ymax\"]=spec.header[\"S_YMAX\"]                                                                                                                  \n",
    "    h5group.attrs[\"spec_header_s_nx\"]=spec.header[\"S_NX\"]\n",
    "    h5group.attrs[\"spec_header_s_ny\"]=spec.header[\"S_NY\"]   \n",
    "    h5group.attrs[\"spec_header_s_dec\"]=spec.header[\"S_DEG\"]  \n",
    "    h5group.attrs[\"spec_header_s_sat\"]=spec.header[\"S_SAT\"]      \n",
    "                                               \n",
    "    "
   ]
  },
  {
   "cell_type": "code",
   "execution_count": null,
   "id": "42631555-6e10-41aa-8619-7c8d3dcc068a",
   "metadata": {
    "execution": {
     "iopub.status.busy": "2023-04-04T13:19:28.244876Z",
     "iopub.status.idle": "2023-04-04T13:19:28.245056Z",
     "shell.execute_reply": "2023-04-04T13:19:28.244969Z",
     "shell.execute_reply.started": "2023-04-04T13:19:28.244959Z"
    },
    "tags": []
   },
   "outputs": [],
   "source": [
    "def AddMountErrorsInGroup(h5group,az_rms,el_rms,rot_rms,image_az_rms,image_el_rms,image_rot_rms):\n",
    "    h5group.attrs[\"me_az_rms\"]=az_rms\n",
    "    h5group.attrs[\"me_el_rms\"]=el_rms\n",
    "    h5group.attrs[\"me_rot_rms\"]=rot_rms\n",
    "    h5group.attrs[\"me_image_az_rms\"]=image_az_rms\n",
    "    h5group.attrs[\"me_image_el_rms\"]=image_el_rms\n",
    "    h5group.attrs[\"me_image_rot_rms\"]=image_rot_rms\n",
    "        "
   ]
  },
  {
   "cell_type": "code",
   "execution_count": null,
   "id": "9dd5a370-fb5c-47f5-b2ec-14c5dfed4475",
   "metadata": {
    "execution": {
     "iopub.status.busy": "2023-04-04T13:19:28.245666Z",
     "iopub.status.idle": "2023-04-04T13:19:28.245839Z",
     "shell.execute_reply": "2023-04-04T13:19:28.245758Z",
     "shell.execute_reply.started": "2023-04-04T13:19:28.245749Z"
    }
   },
   "outputs": [],
   "source": [
    "def AddDataSetsInGroupAndIndexExposure(spec,h5group,index,exposure):\n",
    "\n",
    "    h5group.attrs[\"index\"]=index\n",
    "    h5group.attrs[\"exposure\"]=exposure\n",
    "    \n",
    "    AddDataSetsInGroup(spec,h5group)"
   ]
  },
  {
   "cell_type": "code",
   "execution_count": null,
   "id": "0ead2d71-32cc-4ab8-a87e-22c3bbe1fb77",
   "metadata": {
    "execution": {
     "iopub.status.busy": "2023-04-04T13:19:28.246525Z",
     "iopub.status.idle": "2023-04-04T13:19:28.246705Z",
     "shell.execute_reply": "2023-04-04T13:19:28.246618Z",
     "shell.execute_reply.started": "2023-04-04T13:19:28.246609Z"
    },
    "tags": []
   },
   "outputs": [],
   "source": [
    "DumpSpectrum(spec)"
   ]
  },
  {
   "cell_type": "markdown",
   "id": "e47c7a2a-55a7-42e2-8c1b-a96f274bfbbb",
   "metadata": {},
   "source": [
    "# Save all spectra in a single file"
   ]
  },
  {
   "cell_type": "code",
   "execution_count": null,
   "id": "3a7aaa2f-e91f-418f-a2c5-62a065cc719f",
   "metadata": {
    "execution": {
     "iopub.status.busy": "2023-04-04T13:19:28.247297Z",
     "iopub.status.idle": "2023-04-04T13:19:28.247479Z",
     "shell.execute_reply": "2023-04-04T13:19:28.247390Z",
     "shell.execute_reply.started": "2023-04-04T13:19:28.247381Z"
    },
    "tags": []
   },
   "outputs": [],
   "source": [
    "exposures_sorted = np.sort(all_exposures)"
   ]
  },
  {
   "cell_type": "code",
   "execution_count": null,
   "id": "0588a8c4-a7e7-4f94-927c-30fde1122670",
   "metadata": {
    "execution": {
     "iopub.status.busy": "2023-04-04T13:19:28.248166Z",
     "iopub.status.idle": "2023-04-04T13:19:28.248347Z",
     "shell.execute_reply": "2023-04-04T13:19:28.248259Z",
     "shell.execute_reply.started": "2023-04-04T13:19:28.248250Z"
    },
    "tags": []
   },
   "outputs": [],
   "source": [
    "for idx,spec in enumerate(all_spec):   \n",
    "    the_exposure = all_exposures[idx]\n",
    "    the_sorted_index = np.where(exposures_sorted == the_exposure)[0][0]\n",
    "    AddDataSetsInGroupAndIndexExposure(spec,all_h5group[idx],the_sorted_index,the_exposure)\n",
    "    if FLAG_MOUNT_ERRORS:\n",
    "        df_exp_selected = df[df[\"exposure\"] == the_exposure]\n",
    "        N = len(df_exp_selected)\n",
    "        if (N)>0:\n",
    "            az_rms = df_exp_selected[\"az_rms\"].values[0]\n",
    "            el_rms = df_exp_selected[\"el_rms\"].values[0]\n",
    "            rot_rms = df_exp_selected[\"rot_rms\"].values[0]\n",
    "            image_az_rms = df_exp_selected[\"image_az_rms\"].values[0]\n",
    "            image_el_rms = df_exp_selected[\"image_el_rms\"].values[0]\n",
    "            image_rot_rms = df_exp_selected[\"image_rot_rms\"].values[0]\n",
    "            AddMountErrorsInGroup(all_h5group[idx],az_rms,el_rms,rot_rms,image_az_rms,image_el_rms,image_rot_rms)\n",
    "        else:\n",
    "            print(f\"No error mount for exposure {the_exposure}\")\n",
    "            "
   ]
  },
  {
   "cell_type": "code",
   "execution_count": null,
   "id": "34f6cfaf-6987-4574-bf5f-722fa9f5ca2e",
   "metadata": {
    "execution": {
     "iopub.status.busy": "2023-04-04T13:19:28.248746Z",
     "iopub.status.idle": "2023-04-04T13:19:28.248916Z",
     "shell.execute_reply": "2023-04-04T13:19:28.248836Z",
     "shell.execute_reply.started": "2023-04-04T13:19:28.248827Z"
    }
   },
   "outputs": [],
   "source": [
    "hf_outfile.keys()"
   ]
  },
  {
   "cell_type": "code",
   "execution_count": null,
   "id": "bdaeb3cf-3693-4103-8ccb-553587a5bf3c",
   "metadata": {
    "execution": {
     "iopub.status.busy": "2023-04-04T13:19:28.249713Z",
     "iopub.status.idle": "2023-04-04T13:19:28.249897Z",
     "shell.execute_reply": "2023-04-04T13:19:28.249807Z",
     "shell.execute_reply.started": "2023-04-04T13:19:28.249798Z"
    },
    "tags": []
   },
   "outputs": [],
   "source": [
    "# AddDataSetsInGroup(spec,the_h5group) \n",
    "hf_outfile.close() "
   ]
  },
  {
   "cell_type": "markdown",
   "id": "f26b3f62-34f7-4cbd-bad4-c48be4e07ed9",
   "metadata": {},
   "source": [
    "## Plot"
   ]
  },
  {
   "cell_type": "code",
   "execution_count": null,
   "id": "4fea39ba-2f11-4a8a-9248-c37ce3e7c0f4",
   "metadata": {
    "execution": {
     "iopub.status.busy": "2023-04-04T13:19:28.250280Z",
     "iopub.status.idle": "2023-04-04T13:19:28.250443Z",
     "shell.execute_reply": "2023-04-04T13:19:28.250367Z",
     "shell.execute_reply.started": "2023-04-04T13:19:28.250357Z"
    },
    "tags": []
   },
   "outputs": [],
   "source": [
    "%matplotlib inline\n",
    "\n",
    "\n",
    "infos = []\n",
    "all_lambdas=[]\n",
    "all_data=[]\n",
    "all_data_err=[]\n",
    "\n",
    "\n",
    "idx=0\n",
    "for spec in all_spec:\n",
    "    \n",
    "    \n",
    "    #s=spec.spectrum\n",
    "    s=spec\n",
    "    label = str(idx) +\"):\" + str(all_exposures[idx])\n",
    "    \n",
    "    try:\n",
    "        fig=plt.figure(figsize=(16,4))\n",
    "    \n",
    "        ax1 = fig.add_subplot(1, 2, 1)\n",
    "        s.plot_spectrum(ax=ax1,force_lines=True,label=label)\n",
    "    \n",
    "        ax2 = fig.add_subplot(1, 2, 2)\n",
    "        s.plot_spectrogram(ax=ax2,scale=\"log\")\n",
    "    \n",
    "        all_lambdas.append(s.lambdas)\n",
    "        all_data.append(s.data)\n",
    "        all_data_err.append(s.err)\n",
    "    \n",
    "        #save info    \n",
    "        infos.append([idx,s.target.label,s.date_obs,s.airmass,s.temperature,s.pressure,s.humidity])\n",
    "            \n",
    "    except Exception as inst:\n",
    "        print(\" >>> Exception catched for \"+ label )\n",
    "        print(type(inst))    # the exception instance\n",
    "        print(inst.args)     # arguments stored in .args\n",
    "\n",
    "    \n",
    "    idx+=1"
   ]
  },
  {
   "cell_type": "markdown",
   "id": "dcf6921d-adfb-4569-b31c-b28e8df46bc3",
   "metadata": {},
   "source": [
    "# Generate info"
   ]
  },
  {
   "cell_type": "code",
   "execution_count": null,
   "id": "d154b5b7-8123-47c5-8bf1-b917933dd850",
   "metadata": {
    "execution": {
     "iopub.status.busy": "2023-04-04T13:19:28.251139Z",
     "iopub.status.idle": "2023-04-04T13:19:28.251312Z",
     "shell.execute_reply": "2023-04-04T13:19:28.251232Z",
     "shell.execute_reply.started": "2023-04-04T13:19:28.251223Z"
    },
    "tags": []
   },
   "outputs": [],
   "source": [
    "df_infos=pd.DataFrame(infos,columns=[\"idx\",\"object\",\"date_obs\",\"airmass\",\"temperature\",\"pressure\",\"humidity\"])"
   ]
  },
  {
   "cell_type": "code",
   "execution_count": null,
   "id": "8dbc9436-abfd-46a8-87df-fee873578de1",
   "metadata": {
    "execution": {
     "iopub.status.busy": "2023-04-04T13:19:28.251888Z",
     "iopub.status.idle": "2023-04-04T13:19:28.252057Z",
     "shell.execute_reply": "2023-04-04T13:19:28.251978Z",
     "shell.execute_reply.started": "2023-04-04T13:19:28.251969Z"
    },
    "tags": []
   },
   "outputs": [],
   "source": [
    "df_infos.set_index('idx',inplace=True)"
   ]
  },
  {
   "cell_type": "code",
   "execution_count": null,
   "id": "f0680b42-944a-41e0-8e0f-23bce235d317",
   "metadata": {
    "execution": {
     "iopub.status.busy": "2023-04-04T13:19:28.252664Z",
     "iopub.status.idle": "2023-04-04T13:19:28.252836Z",
     "shell.execute_reply": "2023-04-04T13:19:28.252757Z",
     "shell.execute_reply.started": "2023-04-04T13:19:28.252748Z"
    },
    "tags": []
   },
   "outputs": [],
   "source": [
    "all_reftime=[ (Time(tt)-Time( df_infos[\"date_obs\"].values[0])).to_value(u.hr) for tt in df_infos[\"date_obs\"].values ]"
   ]
  },
  {
   "cell_type": "code",
   "execution_count": null,
   "id": "8dc390a3-c06a-4ff0-b637-66b33355356e",
   "metadata": {
    "execution": {
     "iopub.status.busy": "2023-04-04T13:19:28.253448Z",
     "iopub.status.idle": "2023-04-04T13:19:28.253643Z",
     "shell.execute_reply": "2023-04-04T13:19:28.253549Z",
     "shell.execute_reply.started": "2023-04-04T13:19:28.253539Z"
    },
    "tags": []
   },
   "outputs": [],
   "source": [
    "all_reftime=np.array(all_reftime)"
   ]
  },
  {
   "cell_type": "code",
   "execution_count": null,
   "id": "de824a62-e759-4797-b840-363cb35bd63c",
   "metadata": {
    "execution": {
     "iopub.status.busy": "2023-04-04T13:19:28.254274Z",
     "iopub.status.idle": "2023-04-04T13:19:28.254455Z",
     "shell.execute_reply": "2023-04-04T13:19:28.254367Z",
     "shell.execute_reply.started": "2023-04-04T13:19:28.254358Z"
    },
    "tags": []
   },
   "outputs": [],
   "source": [
    "df_infos[\"reftime\"]=all_reftime"
   ]
  },
  {
   "cell_type": "code",
   "execution_count": null,
   "id": "110419ff-4d95-40b8-8436-4293014a4fd8",
   "metadata": {
    "execution": {
     "iopub.status.busy": "2023-04-04T13:19:28.255129Z",
     "iopub.status.idle": "2023-04-04T13:19:28.255309Z",
     "shell.execute_reply": "2023-04-04T13:19:28.255221Z",
     "shell.execute_reply.started": "2023-04-04T13:19:28.255212Z"
    }
   },
   "outputs": [],
   "source": [
    "NN = len(df_infos)"
   ]
  },
  {
   "cell_type": "code",
   "execution_count": null,
   "id": "99b6a222-de0e-4aa7-81ce-c3d6a889c04a",
   "metadata": {
    "execution": {
     "iopub.status.busy": "2023-04-04T13:19:28.255923Z",
     "iopub.status.idle": "2023-04-04T13:19:28.256102Z",
     "shell.execute_reply": "2023-04-04T13:19:28.256015Z",
     "shell.execute_reply.started": "2023-04-04T13:19:28.256006Z"
    }
   },
   "outputs": [],
   "source": [
    "df_infos"
   ]
  },
  {
   "cell_type": "markdown",
   "id": "dc731281-48ed-4328-8ce6-42dab4332d59",
   "metadata": {},
   "source": [
    "### Save info file"
   ]
  },
  {
   "cell_type": "code",
   "execution_count": null,
   "id": "932ca0ec-507d-4022-8325-55d689ac0eb2",
   "metadata": {
    "execution": {
     "iopub.status.busy": "2023-04-04T13:19:28.256571Z",
     "iopub.status.idle": "2023-04-04T13:19:28.256743Z",
     "shell.execute_reply": "2023-04-04T13:19:28.256661Z",
     "shell.execute_reply.started": "2023-04-04T13:19:28.256652Z"
    }
   },
   "outputs": [],
   "source": [
    "df_infos.to_csv(summary_file)"
   ]
  },
  {
   "cell_type": "code",
   "execution_count": null,
   "id": "7f5b23ab-1880-493a-9c3c-ff33e537764c",
   "metadata": {},
   "outputs": [],
   "source": []
  }
 ],
 "metadata": {
  "kernelspec": {
   "display_name": "LSST",
   "language": "python",
   "name": "lsst"
  },
  "language_info": {
   "codemirror_mode": {
    "name": "ipython",
    "version": 3
   },
   "file_extension": ".py",
   "mimetype": "text/x-python",
   "name": "python",
   "nbconvert_exporter": "python",
   "pygments_lexer": "ipython3",
   "version": "3.10.9"
  }
 },
 "nbformat": 4,
 "nbformat_minor": 5
}
