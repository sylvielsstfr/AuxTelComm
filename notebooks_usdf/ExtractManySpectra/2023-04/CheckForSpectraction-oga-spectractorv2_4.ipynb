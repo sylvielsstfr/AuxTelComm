{
 "cells": [
  {
   "cell_type": "markdown",
   "id": "0b8c2138-5194-4d03-8b77-be24e2cc8ee3",
   "metadata": {},
   "source": [
    "# Query for Spectraction Results in OGA"
   ]
  },
  {
   "cell_type": "markdown",
   "id": "740e34fb-3fef-45a8-941b-c229742ab016",
   "metadata": {},
   "source": [
    " work with Weakly_2023_11\n",
    "- use jupyter kernel LSST\n",
    "- author : Sylvie Dagoret-Campagne\n",
    "- affiliation : IJCLab\n",
    "- creation date : 2023/03/30\n",
    "- last update : 2023/03/30\n",
    "\n",
    "- Spectractor https://github.com/lsst/Spectractor/\n",
    "- Spectractor Version 2.4\n",
    "- branch lsst-dev\n",
    "- available in version w_2023_11 by default\n"
   ]
  },
  {
   "cell_type": "code",
   "execution_count": 1,
   "id": "ed2c3410-fe83-432e-ab87-9f4513fa8d8b",
   "metadata": {
    "execution": {
     "iopub.execute_input": "2023-03-30T15:34:01.972755Z",
     "iopub.status.busy": "2023-03-30T15:34:01.972426Z",
     "iopub.status.idle": "2023-03-30T15:34:02.360547Z",
     "shell.execute_reply": "2023-03-30T15:34:02.359888Z",
     "shell.execute_reply.started": "2023-03-30T15:34:01.972737Z"
    },
    "tags": []
   },
   "outputs": [
    {
     "name": "stdout",
     "output_type": "stream",
     "text": [
      "atmospec              LOCAL:/home/d/dagoret/repos/repos_w_2023_11/atmospec \tsetup\n",
      "eups                  LOCAL:/opt/lsst/software/stack/conda/miniconda3-py38_4.9.2/envs/lsst-scipipe-5.1.0/eups \tsetup\n"
     ]
    }
   ],
   "source": [
    "! eups list -s | grep LOCAL"
   ]
  },
  {
   "cell_type": "code",
   "execution_count": 2,
   "id": "70918d81-0cf6-4b0a-8f61-f5e5bec5b0e7",
   "metadata": {
    "execution": {
     "iopub.execute_input": "2023-03-30T15:34:02.361892Z",
     "iopub.status.busy": "2023-03-30T15:34:02.361675Z",
     "iopub.status.idle": "2023-03-30T15:34:02.723994Z",
     "shell.execute_reply": "2023-03-30T15:34:02.723283Z",
     "shell.execute_reply.started": "2023-03-30T15:34:02.361875Z"
    },
    "tags": []
   },
   "outputs": [
    {
     "name": "stdout",
     "output_type": "stream",
     "text": [
      "   gdf42428520+c82c1836b5 \tcurrent w_2023_11 setup\n"
     ]
    }
   ],
   "source": [
    "! eups list -s lsst_distrib"
   ]
  },
  {
   "cell_type": "code",
   "execution_count": 3,
   "id": "e7e0ec91-3a48-47ea-b293-db233df2677e",
   "metadata": {
    "execution": {
     "iopub.execute_input": "2023-03-30T15:34:02.724977Z",
     "iopub.status.busy": "2023-03-30T15:34:02.724799Z",
     "iopub.status.idle": "2023-03-30T15:34:02.746463Z",
     "shell.execute_reply": "2023-03-30T15:34:02.746018Z",
     "shell.execute_reply.started": "2023-03-30T15:34:02.724960Z"
    }
   },
   "outputs": [],
   "source": [
    "import h5py"
   ]
  },
  {
   "cell_type": "code",
   "execution_count": 4,
   "id": "f8d9cfca-5881-48c1-b2cb-0f794a2e4091",
   "metadata": {
    "execution": {
     "iopub.execute_input": "2023-03-30T15:34:02.747757Z",
     "iopub.status.busy": "2023-03-30T15:34:02.747606Z",
     "iopub.status.idle": "2023-03-30T15:34:03.110861Z",
     "shell.execute_reply": "2023-03-30T15:34:03.110343Z",
     "shell.execute_reply.started": "2023-03-30T15:34:02.747743Z"
    },
    "tags": []
   },
   "outputs": [],
   "source": [
    "import lsst.daf.butler as dafButler\n",
    "#import lsst.summit.utils.butlerUtils as butlerUtils"
   ]
  },
  {
   "cell_type": "code",
   "execution_count": 5,
   "id": "1ceacda9-20b0-4d77-a0d2-572c957ce273",
   "metadata": {
    "execution": {
     "iopub.execute_input": "2023-03-30T15:34:03.111686Z",
     "iopub.status.busy": "2023-03-30T15:34:03.111539Z",
     "iopub.status.idle": "2023-03-30T15:34:03.424084Z",
     "shell.execute_reply": "2023-03-30T15:34:03.423572Z",
     "shell.execute_reply.started": "2023-03-30T15:34:03.111671Z"
    },
    "tags": []
   },
   "outputs": [],
   "source": [
    "import numpy as np\n",
    "import matplotlib.pyplot as plt\n",
    "%matplotlib inline\n",
    "from mpl_toolkits.axes_grid1 import make_axes_locatable\n",
    "from matplotlib.colors import LogNorm\n",
    "import pandas as pd\n",
    "\n",
    "import matplotlib.ticker                         # here's where the formatter is\n",
    "import os\n",
    "import re\n",
    "import pandas as pd\n",
    "\n",
    "plt.rcParams[\"figure.figsize\"] = (4,3)\n",
    "plt.rcParams[\"axes.labelsize\"] = 'xx-large'\n",
    "plt.rcParams['axes.titlesize'] = 'xx-large'\n",
    "plt.rcParams['xtick.labelsize']= 'xx-large'\n",
    "plt.rcParams['ytick.labelsize']= 'xx-large'"
   ]
  },
  {
   "cell_type": "code",
   "execution_count": 6,
   "id": "769e12e6-917d-4722-8c1e-f965f13a8c64",
   "metadata": {
    "execution": {
     "iopub.execute_input": "2023-03-30T15:34:03.425200Z",
     "iopub.status.busy": "2023-03-30T15:34:03.424748Z",
     "iopub.status.idle": "2023-03-30T15:34:03.427555Z",
     "shell.execute_reply": "2023-03-30T15:34:03.427046Z",
     "shell.execute_reply.started": "2023-03-30T15:34:03.425183Z"
    },
    "tags": []
   },
   "outputs": [],
   "source": [
    "import pickle"
   ]
  },
  {
   "cell_type": "code",
   "execution_count": 7,
   "id": "75e20c79-7729-459b-a5e0-78d8de0c4d71",
   "metadata": {
    "execution": {
     "iopub.execute_input": "2023-03-30T15:34:03.428247Z",
     "iopub.status.busy": "2023-03-30T15:34:03.428109Z",
     "iopub.status.idle": "2023-03-30T15:34:03.430513Z",
     "shell.execute_reply": "2023-03-30T15:34:03.430094Z",
     "shell.execute_reply.started": "2023-03-30T15:34:03.428233Z"
    },
    "tags": []
   },
   "outputs": [],
   "source": [
    "from astropy.time import Time\n",
    "import astropy.units as u"
   ]
  },
  {
   "cell_type": "markdown",
   "id": "c7e637b3-244b-4df3-9db2-3819e6321141",
   "metadata": {},
   "source": [
    "## Config"
   ]
  },
  {
   "cell_type": "markdown",
   "id": "f311bc61-5eb2-40b2-ab20-8241ea599037",
   "metadata": {},
   "source": [
    "### Butler"
   ]
  },
  {
   "cell_type": "code",
   "execution_count": 8,
   "id": "1c81d99a-5e91-4ba1-ba4a-c66b37905b98",
   "metadata": {
    "execution": {
     "iopub.execute_input": "2023-03-30T15:34:03.431200Z",
     "iopub.status.busy": "2023-03-30T15:34:03.431053Z",
     "iopub.status.idle": "2023-03-30T15:34:04.683574Z",
     "shell.execute_reply": "2023-03-30T15:34:04.683061Z",
     "shell.execute_reply.started": "2023-03-30T15:34:03.431187Z"
    },
    "tags": []
   },
   "outputs": [],
   "source": [
    "#repo =  \"/sdf/group/rubin/repo/main\"\n",
    "repo = \"/sdf/group/rubin/repo/oga/\"\n",
    "butler = dafButler.Butler(repo)\n",
    "registry = butler.registry"
   ]
  },
  {
   "cell_type": "markdown",
   "id": "7fa31e20-40fb-498d-ad80-90ee20f619cd",
   "metadata": {},
   "source": [
    "### Date & Filter & Disperser & collection\n",
    "\n",
    "- make your choice"
   ]
  },
  {
   "cell_type": "code",
   "execution_count": 9,
   "id": "c1ffbd47-4cc9-4ef1-ab1c-6f477b8139bb",
   "metadata": {
    "execution": {
     "iopub.execute_input": "2023-03-30T15:34:04.684437Z",
     "iopub.status.busy": "2023-03-30T15:34:04.684290Z",
     "iopub.status.idle": "2023-03-30T15:34:04.687336Z",
     "shell.execute_reply": "2023-03-30T15:34:04.686865Z",
     "shell.execute_reply.started": "2023-03-30T15:34:04.684422Z"
    },
    "tags": []
   },
   "outputs": [],
   "source": [
    "\n",
    "DATE=\"20230228\" # with \"u/dagoret/BPS_manyspectro_v70 in \"u/dagoret/BPS_manyspectro_v70\"\n",
    "#DATE=\"20230301\" # with \"u/dagoret/BPS_manyspectro_v70 in \"u/dagoret/BPS_manyspectro_v71\"\n",
    "#DATE=\"20230302\" # with \"u/dagoret/BPS_manyspectro_v70 in \"u/dagoret/BPS_manyspectro_v72\"\n",
    "\n",
    "my_collection = \"u/dagoret/BPS_manyspectro_v70\" # data from february 28th 2023  rebin=2,\n",
    "#my_collection = \"u/dagoret/BPS_manyspectro_v71\" # data from fMarch 1st 2023 rebin=2,\n",
    "#my_collection = \"u/dagoret/BPS_manyspectro_v72\" # data from fMarch 2nd 2023 rebin=2,\n",
    "\n",
    "filterdispersername = \"empty~holo4_003\"\n",
    "\n",
    "\n",
    "RUNSELECTION = 20230330"
   ]
  },
  {
   "cell_type": "markdown",
   "id": "c30cd39d-0677-43f7-b043-c0b9ae126c73",
   "metadata": {},
   "source": [
    "### Spectractor"
   ]
  },
  {
   "cell_type": "code",
   "execution_count": 10,
   "id": "1dc181f4-d44a-48c4-8e8a-86c35c0dcc98",
   "metadata": {
    "execution": {
     "iopub.execute_input": "2023-03-30T15:34:04.689418Z",
     "iopub.status.busy": "2023-03-30T15:34:04.689127Z",
     "iopub.status.idle": "2023-03-30T15:34:04.691566Z",
     "shell.execute_reply": "2023-03-30T15:34:04.691148Z",
     "shell.execute_reply.started": "2023-03-30T15:34:04.689403Z"
    },
    "tags": []
   },
   "outputs": [],
   "source": [
    "configmode = \"PSF2DFFM_REBIN2\"\n",
    "#configmode = \"PSF2DFFM_REBIN1\"\n",
    "#ext=\"_b\"\n",
    "specver=\"specV2.4\""
   ]
  },
  {
   "cell_type": "markdown",
   "id": "740be8a3-fcd9-4f42-b0ec-8067ad2bc2ae",
   "metadata": {},
   "source": [
    "https://www.pythonforthelab.com/blog/how-to-use-hdf5-files-in-python/"
   ]
  },
  {
   "cell_type": "code",
   "execution_count": 11,
   "id": "6c20db62-9cda-42c7-85e8-54e33404fc56",
   "metadata": {
    "execution": {
     "iopub.execute_input": "2023-03-30T15:34:04.692312Z",
     "iopub.status.busy": "2023-03-30T15:34:04.692133Z",
     "iopub.status.idle": "2023-03-30T15:34:04.695076Z",
     "shell.execute_reply": "2023-03-30T15:34:04.694608Z",
     "shell.execute_reply.started": "2023-03-30T15:34:04.692292Z"
    },
    "tags": []
   },
   "outputs": [],
   "source": [
    "#summary_file = f\"summaryspectra_{DATE}-{filterdispersername}-{configmode}-oga.csv\"\n",
    "summary_file = f\"summaryspectra_{DATE}-{filterdispersername}-{configmode}-{specver}-oga.csv\"\n",
    "output_file_h5 = f\"allspectra_{DATE}-{filterdispersername}-{configmode}-{specver}-oga.hdf5\""
   ]
  },
  {
   "cell_type": "markdown",
   "id": "20dbb8da-3a08-4b4f-9437-4bf7f28c1782",
   "metadata": {},
   "source": [
    "### The collection"
   ]
  },
  {
   "cell_type": "code",
   "execution_count": 12,
   "id": "9629ea29-8ab4-4062-aed1-e16d62dc90c4",
   "metadata": {
    "execution": {
     "iopub.execute_input": "2023-03-30T15:34:04.695778Z",
     "iopub.status.busy": "2023-03-30T15:34:04.695641Z",
     "iopub.status.idle": "2023-03-30T15:34:04.720592Z",
     "shell.execute_reply": "2023-03-30T15:34:04.720175Z",
     "shell.execute_reply.started": "2023-03-30T15:34:04.695765Z"
    },
    "tags": []
   },
   "outputs": [],
   "source": [
    "datasetRefs = registry.queryDatasets(datasetType='spectractorSpectrum', collections=my_collection, where= \"instrument='LATISS'\")"
   ]
  },
  {
   "cell_type": "code",
   "execution_count": 13,
   "id": "2f008879-ecc4-4b86-9b24-0641fb4301cd",
   "metadata": {
    "execution": {
     "iopub.execute_input": "2023-03-30T15:34:04.721334Z",
     "iopub.status.busy": "2023-03-30T15:34:04.721187Z",
     "iopub.status.idle": "2023-03-30T15:34:04.723437Z",
     "shell.execute_reply": "2023-03-30T15:34:04.722981Z",
     "shell.execute_reply.started": "2023-03-30T15:34:04.721320Z"
    }
   },
   "outputs": [],
   "source": [
    "# following line not possible in OGA\n",
    "#butler = butlerUtils.makeDefaultLatissButler(extraCollections=[my_collection])"
   ]
  },
  {
   "cell_type": "markdown",
   "id": "432e82a4-5617-48b3-a5bb-1f2c550c8525",
   "metadata": {},
   "source": [
    "## Loop on exposures"
   ]
  },
  {
   "cell_type": "code",
   "execution_count": 15,
   "id": "72d890df-634d-4543-ba8e-c29c0621ac4d",
   "metadata": {
    "execution": {
     "iopub.execute_input": "2023-03-30T15:34:13.003114Z",
     "iopub.status.busy": "2023-03-30T15:34:13.002762Z",
     "iopub.status.idle": "2023-03-30T15:34:13.005676Z",
     "shell.execute_reply": "2023-03-30T15:34:13.005245Z",
     "shell.execute_reply.started": "2023-03-30T15:34:13.003096Z"
    },
    "tags": []
   },
   "outputs": [],
   "source": [
    "#outfile.close()"
   ]
  },
  {
   "cell_type": "code",
   "execution_count": 17,
   "id": "979b03d5-e54c-4d21-a848-98b820df1d16",
   "metadata": {
    "execution": {
     "iopub.execute_input": "2023-03-30T15:34:23.489733Z",
     "iopub.status.busy": "2023-03-30T15:34:23.489165Z",
     "iopub.status.idle": "2023-03-30T15:34:36.784404Z",
     "shell.execute_reply": "2023-03-30T15:34:36.783835Z",
     "shell.execute_reply.started": "2023-03-30T15:34:23.489715Z"
    },
    "tags": []
   },
   "outputs": [
    {
     "name": "stdout",
     "output_type": "stream",
     "text": [
      "============= (0) ============datasetType = spectraction ============================================\n",
      "fullId..................: {band: 'white', instrument: 'LATISS', detector: 0, physical_filter: 'empty~holo4_003', visit: 2023022800040}\n",
      "visit...................: 2023022800040\n",
      "band....................: white\n",
      "physical filter.........: empty~holo4_003\n",
      "run.....................: u/dagoret/BPS_manyspectro_v70/20230316T112452Z\n",
      "============= (1) ============datasetType = spectraction ============================================\n",
      "fullId..................: {band: 'white', instrument: 'LATISS', detector: 0, physical_filter: 'empty~holo4_003', visit: 2023022800136}\n",
      "visit...................: 2023022800136\n",
      "band....................: white\n",
      "physical filter.........: empty~holo4_003\n",
      "run.....................: u/dagoret/BPS_manyspectro_v70/20230316T112452Z\n",
      "============= (2) ============datasetType = spectraction ============================================\n",
      "fullId..................: {band: 'white', instrument: 'LATISS', detector: 0, physical_filter: 'empty~holo4_003', visit: 2023022800125}\n",
      "visit...................: 2023022800125\n",
      "band....................: white\n",
      "physical filter.........: empty~holo4_003\n",
      "run.....................: u/dagoret/BPS_manyspectro_v70/20230316T112452Z\n",
      "============= (3) ============datasetType = spectraction ============================================\n",
      "fullId..................: {band: 'white', instrument: 'LATISS', detector: 0, physical_filter: 'empty~holo4_003', visit: 2023022800331}\n",
      "visit...................: 2023022800331\n",
      "band....................: white\n",
      "physical filter.........: empty~holo4_003\n",
      "run.....................: u/dagoret/BPS_manyspectro_v70/20230316T112452Z\n",
      "============= (4) ============datasetType = spectraction ============================================\n",
      "fullId..................: {band: 'white', instrument: 'LATISS', detector: 0, physical_filter: 'empty~holo4_003', visit: 2023022800096}\n",
      "visit...................: 2023022800096\n",
      "band....................: white\n",
      "physical filter.........: empty~holo4_003\n",
      "run.....................: u/dagoret/BPS_manyspectro_v70/20230316T112452Z\n",
      "============= (5) ============datasetType = spectraction ============================================\n",
      "fullId..................: {band: 'white', instrument: 'LATISS', detector: 0, physical_filter: 'empty~holo4_003', visit: 2023022800323}\n",
      "visit...................: 2023022800323\n",
      "band....................: white\n",
      "physical filter.........: empty~holo4_003\n",
      "run.....................: u/dagoret/BPS_manyspectro_v70/20230316T112452Z\n",
      "============= (6) ============datasetType = spectraction ============================================\n",
      "fullId..................: {band: 'white', instrument: 'LATISS', detector: 0, physical_filter: 'empty~holo4_003', visit: 2023022800287}\n",
      "visit...................: 2023022800287\n",
      "band....................: white\n",
      "physical filter.........: empty~holo4_003\n",
      "run.....................: u/dagoret/BPS_manyspectro_v70/20230316T112452Z\n",
      "============= (7) ============datasetType = spectraction ============================================\n",
      "fullId..................: {band: 'white', instrument: 'LATISS', detector: 0, physical_filter: 'empty~holo4_003', visit: 2023022800071}\n",
      "visit...................: 2023022800071\n",
      "band....................: white\n",
      "physical filter.........: empty~holo4_003\n",
      "run.....................: u/dagoret/BPS_manyspectro_v70/20230316T112452Z\n",
      "============= (8) ============datasetType = spectraction ============================================\n",
      "fullId..................: {band: 'white', instrument: 'LATISS', detector: 0, physical_filter: 'empty~holo4_003', visit: 2023022800270}\n",
      "visit...................: 2023022800270\n",
      "band....................: white\n",
      "physical filter.........: empty~holo4_003\n",
      "run.....................: u/dagoret/BPS_manyspectro_v70/20230316T112452Z\n",
      "============= (9) ============datasetType = spectraction ============================================\n",
      "fullId..................: {band: 'white', instrument: 'LATISS', detector: 0, physical_filter: 'empty~holo4_003', visit: 2023022800054}\n",
      "visit...................: 2023022800054\n",
      "band....................: white\n",
      "physical filter.........: empty~holo4_003\n",
      "run.....................: u/dagoret/BPS_manyspectro_v70/20230316T112452Z\n",
      "============= (10) ============datasetType = spectraction ============================================\n",
      "fullId..................: {band: 'white', instrument: 'LATISS', detector: 0, physical_filter: 'empty~holo4_003', visit: 2023022800164}\n",
      "visit...................: 2023022800164\n",
      "band....................: white\n",
      "physical filter.........: empty~holo4_003\n",
      "run.....................: u/dagoret/BPS_manyspectro_v70/20230316T112452Z\n",
      "============= (11) ============datasetType = spectraction ============================================\n",
      "fullId..................: {band: 'white', instrument: 'LATISS', detector: 0, physical_filter: 'empty~holo4_003', visit: 2023022800261}\n",
      "visit...................: 2023022800261\n",
      "band....................: white\n",
      "physical filter.........: empty~holo4_003\n",
      "run.....................: u/dagoret/BPS_manyspectro_v70/20230316T112452Z\n",
      "============= (12) ============datasetType = spectraction ============================================\n",
      "fullId..................: {band: 'white', instrument: 'LATISS', detector: 0, physical_filter: 'empty~holo4_003', visit: 2023022800027}\n",
      "visit...................: 2023022800027\n",
      "band....................: white\n",
      "physical filter.........: empty~holo4_003\n",
      "run.....................: u/dagoret/BPS_manyspectro_v70/20230316T112452Z\n",
      "============= (13) ============datasetType = spectraction ============================================\n",
      "fullId..................: {band: 'white', instrument: 'LATISS', detector: 0, physical_filter: 'empty~holo4_003', visit: 2023022800279}\n",
      "visit...................: 2023022800279\n",
      "band....................: white\n",
      "physical filter.........: empty~holo4_003\n",
      "run.....................: u/dagoret/BPS_manyspectro_v70/20230316T112452Z\n",
      "============= (14) ============datasetType = spectraction ============================================\n",
      "fullId..................: {band: 'white', instrument: 'LATISS', detector: 0, physical_filter: 'empty~holo4_003', visit: 2023022800251}\n",
      "visit...................: 2023022800251\n",
      "band....................: white\n",
      "physical filter.........: empty~holo4_003\n",
      "run.....................: u/dagoret/BPS_manyspectro_v70/20230316T112452Z\n",
      "============= (15) ============datasetType = spectraction ============================================\n",
      "fullId..................: {band: 'white', instrument: 'LATISS', detector: 0, physical_filter: 'empty~holo4_003', visit: 2023022800095}\n",
      "visit...................: 2023022800095\n",
      "band....................: white\n",
      "physical filter.........: empty~holo4_003\n",
      "run.....................: u/dagoret/BPS_manyspectro_v70/20230316T112452Z\n",
      "============= (16) ============datasetType = spectraction ============================================\n",
      "fullId..................: {band: 'white', instrument: 'LATISS', detector: 0, physical_filter: 'empty~holo4_003', visit: 2023022800055}\n",
      "visit...................: 2023022800055\n",
      "band....................: white\n",
      "physical filter.........: empty~holo4_003\n",
      "run.....................: u/dagoret/BPS_manyspectro_v70/20230316T112452Z\n",
      "============= (17) ============datasetType = spectraction ============================================\n",
      "fullId..................: {band: 'white', instrument: 'LATISS', detector: 0, physical_filter: 'empty~holo4_003', visit: 2023022800233}\n",
      "visit...................: 2023022800233\n",
      "band....................: white\n",
      "physical filter.........: empty~holo4_003\n",
      "run.....................: u/dagoret/BPS_manyspectro_v70/20230316T112452Z\n",
      "============= (18) ============datasetType = spectraction ============================================\n",
      "fullId..................: {band: 'white', instrument: 'LATISS', detector: 0, physical_filter: 'empty~holo4_003', visit: 2023022800078}\n",
      "visit...................: 2023022800078\n",
      "band....................: white\n",
      "physical filter.........: empty~holo4_003\n",
      "run.....................: u/dagoret/BPS_manyspectro_v70/20230316T112452Z\n",
      "============= (19) ============datasetType = spectraction ============================================\n",
      "fullId..................: {band: 'white', instrument: 'LATISS', detector: 0, physical_filter: 'empty~holo4_003', visit: 2023022800196}\n",
      "visit...................: 2023022800196\n",
      "band....................: white\n",
      "physical filter.........: empty~holo4_003\n",
      "run.....................: u/dagoret/BPS_manyspectro_v70/20230316T112452Z\n",
      "============= (20) ============datasetType = spectraction ============================================\n",
      "fullId..................: {band: 'white', instrument: 'LATISS', detector: 0, physical_filter: 'empty~holo4_003', visit: 2023022800346}\n",
      "visit...................: 2023022800346\n",
      "band....................: white\n",
      "physical filter.........: empty~holo4_003\n",
      "run.....................: u/dagoret/BPS_manyspectro_v70/20230316T112452Z\n",
      "============= (21) ============datasetType = spectraction ============================================\n",
      "fullId..................: {band: 'white', instrument: 'LATISS', detector: 0, physical_filter: 'empty~holo4_003', visit: 2023022800022}\n",
      "visit...................: 2023022800022\n",
      "band....................: white\n",
      "physical filter.........: empty~holo4_003\n",
      "run.....................: u/dagoret/BPS_manyspectro_v70/20230316T112452Z\n",
      "============= (22) ============datasetType = spectraction ============================================\n",
      "fullId..................: {band: 'white', instrument: 'LATISS', detector: 0, physical_filter: 'empty~holo4_003', visit: 2023022800157}\n",
      "visit...................: 2023022800157\n",
      "band....................: white\n",
      "physical filter.........: empty~holo4_003\n",
      "run.....................: u/dagoret/BPS_manyspectro_v70/20230316T112452Z\n",
      "============= (23) ============datasetType = spectraction ============================================\n",
      "fullId..................: {band: 'white', instrument: 'LATISS', detector: 0, physical_filter: 'empty~holo4_003', visit: 2023022800116}\n",
      "visit...................: 2023022800116\n",
      "band....................: white\n",
      "physical filter.........: empty~holo4_003\n",
      "run.....................: u/dagoret/BPS_manyspectro_v70/20230316T112452Z\n",
      "============= (24) ============datasetType = spectraction ============================================\n",
      "fullId..................: {band: 'white', instrument: 'LATISS', detector: 0, physical_filter: 'empty~holo4_003', visit: 2023022800286}\n",
      "visit...................: 2023022800286\n",
      "band....................: white\n",
      "physical filter.........: empty~holo4_003\n",
      "run.....................: u/dagoret/BPS_manyspectro_v70/20230316T112452Z\n",
      "============= (25) ============datasetType = spectraction ============================================\n",
      "fullId..................: {band: 'white', instrument: 'LATISS', detector: 0, physical_filter: 'empty~holo4_003', visit: 2023022800204}\n",
      "visit...................: 2023022800204\n",
      "band....................: white\n",
      "physical filter.........: empty~holo4_003\n",
      "run.....................: u/dagoret/BPS_manyspectro_v70/20230316T112452Z\n",
      "============= (26) ============datasetType = spectraction ============================================\n",
      "fullId..................: {band: 'white', instrument: 'LATISS', detector: 0, physical_filter: 'empty~holo4_003', visit: 2023022800330}\n",
      "visit...................: 2023022800330\n",
      "band....................: white\n",
      "physical filter.........: empty~holo4_003\n",
      "run.....................: u/dagoret/BPS_manyspectro_v70/20230316T112452Z\n",
      "============= (27) ============datasetType = spectraction ============================================\n",
      "fullId..................: {band: 'white', instrument: 'LATISS', detector: 0, physical_filter: 'empty~holo4_003', visit: 2023022800179}\n",
      "visit...................: 2023022800179\n",
      "band....................: white\n",
      "physical filter.........: empty~holo4_003\n",
      "run.....................: u/dagoret/BPS_manyspectro_v70/20230316T112452Z\n",
      "============= (28) ============datasetType = spectraction ============================================\n",
      "fullId..................: {band: 'white', instrument: 'LATISS', detector: 0, physical_filter: 'empty~holo4_003', visit: 2023022800156}\n",
      "visit...................: 2023022800156\n",
      "band....................: white\n",
      "physical filter.........: empty~holo4_003\n",
      "run.....................: u/dagoret/BPS_manyspectro_v70/20230316T112452Z\n",
      "============= (29) ============datasetType = spectraction ============================================\n",
      "fullId..................: {band: 'white', instrument: 'LATISS', detector: 0, physical_filter: 'empty~holo4_003', visit: 2023022800165}\n",
      "visit...................: 2023022800165\n",
      "band....................: white\n",
      "physical filter.........: empty~holo4_003\n",
      "run.....................: u/dagoret/BPS_manyspectro_v70/20230316T112452Z\n",
      "============= (30) ============datasetType = spectraction ============================================\n",
      "fullId..................: {band: 'white', instrument: 'LATISS', detector: 0, physical_filter: 'empty~holo4_003', visit: 2023022800026}\n",
      "visit...................: 2023022800026\n",
      "band....................: white\n",
      "physical filter.........: empty~holo4_003\n",
      "run.....................: u/dagoret/BPS_manyspectro_v70/20230316T112452Z\n",
      "============= (31) ============datasetType = spectraction ============================================\n",
      "fullId..................: {band: 'white', instrument: 'LATISS', detector: 0, physical_filter: 'empty~holo4_003', visit: 2023022800314}\n",
      "visit...................: 2023022800314\n",
      "band....................: white\n",
      "physical filter.........: empty~holo4_003\n",
      "run.....................: u/dagoret/BPS_manyspectro_v70/20230316T112452Z\n",
      "============= (32) ============datasetType = spectraction ============================================\n",
      "fullId..................: {band: 'white', instrument: 'LATISS', detector: 0, physical_filter: 'empty~holo4_003', visit: 2023022800219}\n",
      "visit...................: 2023022800219\n",
      "band....................: white\n",
      "physical filter.........: empty~holo4_003\n",
      "run.....................: u/dagoret/BPS_manyspectro_v70/20230316T112452Z\n",
      "============= (33) ============datasetType = spectraction ============================================\n",
      "fullId..................: {band: 'white', instrument: 'LATISS', detector: 0, physical_filter: 'empty~holo4_003', visit: 2023022800109}\n",
      "visit...................: 2023022800109\n",
      "band....................: white\n",
      "physical filter.........: empty~holo4_003\n",
      "run.....................: u/dagoret/BPS_manyspectro_v70/20230316T112452Z\n",
      "============= (34) ============datasetType = spectraction ============================================\n",
      "fullId..................: {band: 'white', instrument: 'LATISS', detector: 0, physical_filter: 'empty~holo4_003', visit: 2023022800262}\n",
      "visit...................: 2023022800262\n",
      "band....................: white\n",
      "physical filter.........: empty~holo4_003\n",
      "run.....................: u/dagoret/BPS_manyspectro_v70/20230316T112452Z\n",
      "============= (35) ============datasetType = spectraction ============================================\n",
      "fullId..................: {band: 'white', instrument: 'LATISS', detector: 0, physical_filter: 'empty~holo4_003', visit: 2023022800306}\n",
      "visit...................: 2023022800306\n",
      "band....................: white\n",
      "physical filter.........: empty~holo4_003\n",
      "run.....................: u/dagoret/BPS_manyspectro_v70/20230316T112452Z\n",
      "============= (36) ============datasetType = spectraction ============================================\n",
      "fullId..................: {band: 'white', instrument: 'LATISS', detector: 0, physical_filter: 'empty~holo4_003', visit: 2023022800234}\n",
      "visit...................: 2023022800234\n",
      "band....................: white\n",
      "physical filter.........: empty~holo4_003\n",
      "run.....................: u/dagoret/BPS_manyspectro_v70/20230316T112452Z\n",
      "============= (37) ============datasetType = spectraction ============================================\n",
      "fullId..................: {band: 'white', instrument: 'LATISS', detector: 0, physical_filter: 'empty~holo4_003', visit: 2023022800278}\n",
      "visit...................: 2023022800278\n",
      "band....................: white\n",
      "physical filter.........: empty~holo4_003\n",
      "run.....................: u/dagoret/BPS_manyspectro_v70/20230316T112452Z\n",
      "============= (38) ============datasetType = spectraction ============================================\n",
      "fullId..................: {band: 'white', instrument: 'LATISS', detector: 0, physical_filter: 'empty~holo4_003', visit: 2023022800062}\n",
      "visit...................: 2023022800062\n",
      "band....................: white\n",
      "physical filter.........: empty~holo4_003\n",
      "run.....................: u/dagoret/BPS_manyspectro_v70/20230316T112452Z\n",
      "============= (39) ============datasetType = spectraction ============================================\n",
      "fullId..................: {band: 'white', instrument: 'LATISS', detector: 0, physical_filter: 'empty~holo4_003', visit: 2023022800117}\n",
      "visit...................: 2023022800117\n",
      "band....................: white\n",
      "physical filter.........: empty~holo4_003\n",
      "run.....................: u/dagoret/BPS_manyspectro_v70/20230316T112452Z\n",
      "============= (40) ============datasetType = spectraction ============================================\n",
      "fullId..................: {band: 'white', instrument: 'LATISS', detector: 0, physical_filter: 'empty~holo4_003', visit: 2023022800124}\n",
      "visit...................: 2023022800124\n",
      "band....................: white\n",
      "physical filter.........: empty~holo4_003\n",
      "run.....................: u/dagoret/BPS_manyspectro_v70/20230316T112452Z\n",
      "============= (41) ============datasetType = spectraction ============================================\n",
      "fullId..................: {band: 'white', instrument: 'LATISS', detector: 0, physical_filter: 'empty~holo4_003', visit: 2023022800297}\n",
      "visit...................: 2023022800297\n",
      "band....................: white\n",
      "physical filter.........: empty~holo4_003\n",
      "run.....................: u/dagoret/BPS_manyspectro_v70/20230316T112452Z\n",
      "============= (42) ============datasetType = spectraction ============================================\n",
      "fullId..................: {band: 'white', instrument: 'LATISS', detector: 0, physical_filter: 'empty~holo4_003', visit: 2023022800180}\n",
      "visit...................: 2023022800180\n",
      "band....................: white\n",
      "physical filter.........: empty~holo4_003\n",
      "run.....................: u/dagoret/BPS_manyspectro_v70/20230316T112452Z\n",
      "============= (43) ============datasetType = spectraction ============================================\n",
      "fullId..................: {band: 'white', instrument: 'LATISS', detector: 0, physical_filter: 'empty~holo4_003', visit: 2023022800271}\n",
      "visit...................: 2023022800271\n",
      "band....................: white\n",
      "physical filter.........: empty~holo4_003\n",
      "run.....................: u/dagoret/BPS_manyspectro_v70/20230316T112452Z\n",
      "============= (44) ============datasetType = spectraction ============================================\n",
      "fullId..................: {band: 'white', instrument: 'LATISS', detector: 0, physical_filter: 'empty~holo4_003', visit: 2023022800305}\n",
      "visit...................: 2023022800305\n",
      "band....................: white\n",
      "physical filter.........: empty~holo4_003\n",
      "run.....................: u/dagoret/BPS_manyspectro_v70/20230316T112452Z\n",
      "============= (45) ============datasetType = spectraction ============================================\n",
      "fullId..................: {band: 'white', instrument: 'LATISS', detector: 0, physical_filter: 'empty~holo4_003', visit: 2023022800063}\n",
      "visit...................: 2023022800063\n",
      "band....................: white\n",
      "physical filter.........: empty~holo4_003\n",
      "run.....................: u/dagoret/BPS_manyspectro_v70/20230316T112452Z\n",
      "============= (46) ============datasetType = spectraction ============================================\n",
      "fullId..................: {band: 'white', instrument: 'LATISS', detector: 0, physical_filter: 'empty~holo4_003', visit: 2023022800187}\n",
      "visit...................: 2023022800187\n",
      "band....................: white\n",
      "physical filter.........: empty~holo4_003\n",
      "run.....................: u/dagoret/BPS_manyspectro_v70/20230316T112452Z\n",
      "============= (47) ============datasetType = spectraction ============================================\n",
      "fullId..................: {band: 'white', instrument: 'LATISS', detector: 0, physical_filter: 'empty~holo4_003', visit: 2023022800070}\n",
      "visit...................: 2023022800070\n",
      "band....................: white\n",
      "physical filter.........: empty~holo4_003\n",
      "run.....................: u/dagoret/BPS_manyspectro_v70/20230316T112452Z\n",
      "============= (48) ============datasetType = spectraction ============================================\n",
      "fullId..................: {band: 'white', instrument: 'LATISS', detector: 0, physical_filter: 'empty~holo4_003', visit: 2023022800021}\n",
      "visit...................: 2023022800021\n",
      "band....................: white\n",
      "physical filter.........: empty~holo4_003\n",
      "run.....................: u/dagoret/BPS_manyspectro_v70/20230316T112452Z\n",
      "============= (49) ============datasetType = spectraction ============================================\n",
      "fullId..................: {band: 'white', instrument: 'LATISS', detector: 0, physical_filter: 'empty~holo4_003', visit: 2023022800250}\n",
      "visit...................: 2023022800250\n",
      "band....................: white\n",
      "physical filter.........: empty~holo4_003\n",
      "run.....................: u/dagoret/BPS_manyspectro_v70/20230316T112452Z\n",
      "============= (50) ============datasetType = spectraction ============================================\n",
      "fullId..................: {band: 'white', instrument: 'LATISS', detector: 0, physical_filter: 'empty~holo4_003', visit: 2023022800188}\n",
      "visit...................: 2023022800188\n",
      "band....................: white\n",
      "physical filter.........: empty~holo4_003\n",
      "run.....................: u/dagoret/BPS_manyspectro_v70/20230316T112452Z\n",
      "============= (51) ============datasetType = spectraction ============================================\n",
      "fullId..................: {band: 'white', instrument: 'LATISS', detector: 0, physical_filter: 'empty~holo4_003', visit: 2023022800313}\n",
      "visit...................: 2023022800313\n",
      "band....................: white\n",
      "physical filter.........: empty~holo4_003\n",
      "run.....................: u/dagoret/BPS_manyspectro_v70/20230316T112452Z\n",
      "============= (52) ============datasetType = spectraction ============================================\n",
      "fullId..................: {band: 'white', instrument: 'LATISS', detector: 0, physical_filter: 'empty~holo4_003', visit: 2023022800218}\n",
      "visit...................: 2023022800218\n",
      "band....................: white\n",
      "physical filter.........: empty~holo4_003\n",
      "run.....................: u/dagoret/BPS_manyspectro_v70/20230316T112452Z\n",
      "============= (53) ============datasetType = spectraction ============================================\n",
      "fullId..................: {band: 'white', instrument: 'LATISS', detector: 0, physical_filter: 'empty~holo4_003', visit: 2023022800135}\n",
      "visit...................: 2023022800135\n",
      "band....................: white\n",
      "physical filter.........: empty~holo4_003\n",
      "run.....................: u/dagoret/BPS_manyspectro_v70/20230316T112452Z\n",
      "============= (54) ============datasetType = spectraction ============================================\n",
      "fullId..................: {band: 'white', instrument: 'LATISS', detector: 0, physical_filter: 'empty~holo4_003', visit: 2023022800079}\n",
      "visit...................: 2023022800079\n",
      "band....................: white\n",
      "physical filter.........: empty~holo4_003\n",
      "run.....................: u/dagoret/BPS_manyspectro_v70/20230316T112452Z\n",
      "============= (55) ============datasetType = spectraction ============================================\n",
      "fullId..................: {band: 'white', instrument: 'LATISS', detector: 0, physical_filter: 'empty~holo4_003', visit: 2023022800149}\n",
      "visit...................: 2023022800149\n",
      "band....................: white\n",
      "physical filter.........: empty~holo4_003\n",
      "run.....................: u/dagoret/BPS_manyspectro_v70/20230316T112452Z\n",
      "============= (56) ============datasetType = spectraction ============================================\n",
      "fullId..................: {band: 'white', instrument: 'LATISS', detector: 0, physical_filter: 'empty~holo4_003', visit: 2023022800345}\n",
      "visit...................: 2023022800345\n",
      "band....................: white\n",
      "physical filter.........: empty~holo4_003\n",
      "run.....................: u/dagoret/BPS_manyspectro_v70/20230316T112452Z\n",
      "============= (57) ============datasetType = spectraction ============================================\n",
      "fullId..................: {band: 'white', instrument: 'LATISS', detector: 0, physical_filter: 'empty~holo4_003', visit: 2023022800195}\n",
      "visit...................: 2023022800195\n",
      "band....................: white\n",
      "physical filter.........: empty~holo4_003\n",
      "run.....................: u/dagoret/BPS_manyspectro_v70/20230316T112452Z\n",
      "============= (58) ============datasetType = spectraction ============================================\n",
      "fullId..................: {band: 'white', instrument: 'LATISS', detector: 0, physical_filter: 'empty~holo4_003', visit: 2023022800148}\n",
      "visit...................: 2023022800148\n",
      "band....................: white\n",
      "physical filter.........: empty~holo4_003\n",
      "run.....................: u/dagoret/BPS_manyspectro_v70/20230316T112452Z\n",
      "============= (59) ============datasetType = spectraction ============================================\n",
      "fullId..................: {band: 'white', instrument: 'LATISS', detector: 0, physical_filter: 'empty~holo4_003', visit: 2023022800108}\n",
      "visit...................: 2023022800108\n",
      "band....................: white\n",
      "physical filter.........: empty~holo4_003\n",
      "run.....................: u/dagoret/BPS_manyspectro_v70/20230316T112452Z\n",
      "============= (60) ============datasetType = spectraction ============================================\n",
      "fullId..................: {band: 'white', instrument: 'LATISS', detector: 0, physical_filter: 'empty~holo4_003', visit: 2023022800039}\n",
      "visit...................: 2023022800039\n",
      "band....................: white\n",
      "physical filter.........: empty~holo4_003\n",
      "run.....................: u/dagoret/BPS_manyspectro_v70/20230316T112452Z\n",
      "============= (61) ============datasetType = spectraction ============================================\n",
      "fullId..................: {band: 'white', instrument: 'LATISS', detector: 0, physical_filter: 'empty~holo4_003', visit: 2023022800203}\n",
      "visit...................: 2023022800203\n",
      "band....................: white\n",
      "physical filter.........: empty~holo4_003\n",
      "run.....................: u/dagoret/BPS_manyspectro_v70/20230316T112452Z\n",
      "============= (62) ============datasetType = spectraction ============================================\n",
      "fullId..................: {band: 'white', instrument: 'LATISS', detector: 0, physical_filter: 'empty~holo4_003', visit: 2023022800298}\n",
      "visit...................: 2023022800298\n",
      "band....................: white\n",
      "physical filter.........: empty~holo4_003\n",
      "run.....................: u/dagoret/BPS_manyspectro_v70/20230316T112452Z\n",
      "============= (63) ============datasetType = spectraction ============================================\n",
      "fullId..................: {band: 'white', instrument: 'LATISS', detector: 0, physical_filter: 'empty~holo4_003', visit: 2023022800322}\n",
      "visit...................: 2023022800322\n",
      "band....................: white\n",
      "physical filter.........: empty~holo4_003\n",
      "run.....................: u/dagoret/BPS_manyspectro_v70/20230316T112452Z\n",
      "============= (64) ============datasetType = spectraction ============================================\n",
      "fullId..................: {band: 'white', instrument: 'LATISS', detector: 0, physical_filter: 'empty~holo4_003', visit: 2023022800108}\n",
      "visit...................: 2023022800108\n",
      "band....................: white\n",
      "physical filter.........: empty~holo4_003\n",
      "run.....................: u/dagoret/BPS_manyspectro_v70/20230330T071520Z\n",
      "{'day_obs': 20230228, 'seq_num': 108, 'detector': 0}\n",
      "============= (65) ============datasetType = spectraction ============================================\n",
      "fullId..................: {band: 'white', instrument: 'LATISS', detector: 0, physical_filter: 'empty~holo4_003', visit: 2023022800313}\n",
      "visit...................: 2023022800313\n",
      "band....................: white\n",
      "physical filter.........: empty~holo4_003\n",
      "run.....................: u/dagoret/BPS_manyspectro_v70/20230330T071520Z\n",
      "{'day_obs': 20230228, 'seq_num': 313, 'detector': 0}\n",
      "============= (66) ============datasetType = spectraction ============================================\n",
      "fullId..................: {band: 'white', instrument: 'LATISS', detector: 0, physical_filter: 'empty~holo4_003', visit: 2023022800026}\n",
      "visit...................: 2023022800026\n",
      "band....................: white\n",
      "physical filter.........: empty~holo4_003\n",
      "run.....................: u/dagoret/BPS_manyspectro_v70/20230330T071520Z\n",
      "{'day_obs': 20230228, 'seq_num': 26, 'detector': 0}\n",
      "============= (67) ============datasetType = spectraction ============================================\n",
      "fullId..................: {band: 'white', instrument: 'LATISS', detector: 0, physical_filter: 'empty~holo4_003', visit: 2023022800330}\n",
      "visit...................: 2023022800330\n",
      "band....................: white\n",
      "physical filter.........: empty~holo4_003\n",
      "run.....................: u/dagoret/BPS_manyspectro_v70/20230330T071520Z\n",
      "{'day_obs': 20230228, 'seq_num': 330, 'detector': 0}\n",
      "============= (68) ============datasetType = spectraction ============================================\n",
      "fullId..................: {band: 'white', instrument: 'LATISS', detector: 0, physical_filter: 'empty~holo4_003', visit: 2023022800070}\n",
      "visit...................: 2023022800070\n",
      "band....................: white\n",
      "physical filter.........: empty~holo4_003\n",
      "run.....................: u/dagoret/BPS_manyspectro_v70/20230330T071520Z\n",
      "{'day_obs': 20230228, 'seq_num': 70, 'detector': 0}\n",
      "============= (69) ============datasetType = spectraction ============================================\n",
      "fullId..................: {band: 'white', instrument: 'LATISS', detector: 0, physical_filter: 'empty~holo4_003', visit: 2023022800095}\n",
      "visit...................: 2023022800095\n",
      "band....................: white\n",
      "physical filter.........: empty~holo4_003\n",
      "run.....................: u/dagoret/BPS_manyspectro_v70/20230330T071520Z\n",
      "{'day_obs': 20230228, 'seq_num': 95, 'detector': 0}\n",
      "============= (70) ============datasetType = spectraction ============================================\n",
      "fullId..................: {band: 'white', instrument: 'LATISS', detector: 0, physical_filter: 'empty~holo4_003', visit: 2023022800196}\n",
      "visit...................: 2023022800196\n",
      "band....................: white\n",
      "physical filter.........: empty~holo4_003\n",
      "run.....................: u/dagoret/BPS_manyspectro_v70/20230330T071520Z\n",
      "{'day_obs': 20230228, 'seq_num': 196, 'detector': 0}\n",
      "============= (71) ============datasetType = spectraction ============================================\n",
      "fullId..................: {band: 'white', instrument: 'LATISS', detector: 0, physical_filter: 'empty~holo4_003', visit: 2023022800096}\n",
      "visit...................: 2023022800096\n",
      "band....................: white\n",
      "physical filter.........: empty~holo4_003\n",
      "run.....................: u/dagoret/BPS_manyspectro_v70/20230330T071520Z\n",
      "{'day_obs': 20230228, 'seq_num': 96, 'detector': 0}\n",
      "============= (72) ============datasetType = spectraction ============================================\n",
      "fullId..................: {band: 'white', instrument: 'LATISS', detector: 0, physical_filter: 'empty~holo4_003', visit: 2023022800234}\n",
      "visit...................: 2023022800234\n",
      "band....................: white\n",
      "physical filter.........: empty~holo4_003\n",
      "run.....................: u/dagoret/BPS_manyspectro_v70/20230330T071520Z\n",
      "{'day_obs': 20230228, 'seq_num': 234, 'detector': 0}\n",
      "============= (73) ============datasetType = spectraction ============================================\n",
      "fullId..................: {band: 'white', instrument: 'LATISS', detector: 0, physical_filter: 'empty~holo4_003', visit: 2023022800187}\n",
      "visit...................: 2023022800187\n",
      "band....................: white\n",
      "physical filter.........: empty~holo4_003\n",
      "run.....................: u/dagoret/BPS_manyspectro_v70/20230330T071520Z\n",
      "{'day_obs': 20230228, 'seq_num': 187, 'detector': 0}\n",
      "============= (74) ============datasetType = spectraction ============================================\n",
      "fullId..................: {band: 'white', instrument: 'LATISS', detector: 0, physical_filter: 'empty~holo4_003', visit: 2023022800040}\n",
      "visit...................: 2023022800040\n",
      "band....................: white\n",
      "physical filter.........: empty~holo4_003\n",
      "run.....................: u/dagoret/BPS_manyspectro_v70/20230330T071520Z\n",
      "{'day_obs': 20230228, 'seq_num': 40, 'detector': 0}\n",
      "============= (75) ============datasetType = spectraction ============================================\n",
      "fullId..................: {band: 'white', instrument: 'LATISS', detector: 0, physical_filter: 'empty~holo4_003', visit: 2023022800261}\n",
      "visit...................: 2023022800261\n",
      "band....................: white\n",
      "physical filter.........: empty~holo4_003\n",
      "run.....................: u/dagoret/BPS_manyspectro_v70/20230330T071520Z\n",
      "{'day_obs': 20230228, 'seq_num': 261, 'detector': 0}\n",
      "============= (76) ============datasetType = spectraction ============================================\n",
      "fullId..................: {band: 'white', instrument: 'LATISS', detector: 0, physical_filter: 'empty~holo4_003', visit: 2023022800306}\n",
      "visit...................: 2023022800306\n",
      "band....................: white\n",
      "physical filter.........: empty~holo4_003\n",
      "run.....................: u/dagoret/BPS_manyspectro_v70/20230330T071520Z\n",
      "{'day_obs': 20230228, 'seq_num': 306, 'detector': 0}\n",
      "============= (77) ============datasetType = spectraction ============================================\n",
      "fullId..................: {band: 'white', instrument: 'LATISS', detector: 0, physical_filter: 'empty~holo4_003', visit: 2023022800179}\n",
      "visit...................: 2023022800179\n",
      "band....................: white\n",
      "physical filter.........: empty~holo4_003\n",
      "run.....................: u/dagoret/BPS_manyspectro_v70/20230330T071520Z\n",
      "{'day_obs': 20230228, 'seq_num': 179, 'detector': 0}\n",
      "============= (78) ============datasetType = spectraction ============================================\n",
      "fullId..................: {band: 'white', instrument: 'LATISS', detector: 0, physical_filter: 'empty~holo4_003', visit: 2023022800204}\n",
      "visit...................: 2023022800204\n",
      "band....................: white\n",
      "physical filter.........: empty~holo4_003\n",
      "run.....................: u/dagoret/BPS_manyspectro_v70/20230330T071520Z\n",
      "{'day_obs': 20230228, 'seq_num': 204, 'detector': 0}\n",
      "============= (79) ============datasetType = spectraction ============================================\n",
      "fullId..................: {band: 'white', instrument: 'LATISS', detector: 0, physical_filter: 'empty~holo4_003', visit: 2023022800298}\n",
      "visit...................: 2023022800298\n",
      "band....................: white\n",
      "physical filter.........: empty~holo4_003\n",
      "run.....................: u/dagoret/BPS_manyspectro_v70/20230330T071520Z\n",
      "{'day_obs': 20230228, 'seq_num': 298, 'detector': 0}\n",
      "============= (80) ============datasetType = spectraction ============================================\n",
      "fullId..................: {band: 'white', instrument: 'LATISS', detector: 0, physical_filter: 'empty~holo4_003', visit: 2023022800078}\n",
      "visit...................: 2023022800078\n",
      "band....................: white\n",
      "physical filter.........: empty~holo4_003\n",
      "run.....................: u/dagoret/BPS_manyspectro_v70/20230330T071520Z\n",
      "{'day_obs': 20230228, 'seq_num': 78, 'detector': 0}\n",
      "============= (81) ============datasetType = spectraction ============================================\n",
      "fullId..................: {band: 'white', instrument: 'LATISS', detector: 0, physical_filter: 'empty~holo4_003', visit: 2023022800079}\n",
      "visit...................: 2023022800079\n",
      "band....................: white\n",
      "physical filter.........: empty~holo4_003\n",
      "run.....................: u/dagoret/BPS_manyspectro_v70/20230330T071520Z\n",
      "{'day_obs': 20230228, 'seq_num': 79, 'detector': 0}\n",
      "============= (82) ============datasetType = spectraction ============================================\n",
      "fullId..................: {band: 'white', instrument: 'LATISS', detector: 0, physical_filter: 'empty~holo4_003', visit: 2023022800188}\n",
      "visit...................: 2023022800188\n",
      "band....................: white\n",
      "physical filter.........: empty~holo4_003\n",
      "run.....................: u/dagoret/BPS_manyspectro_v70/20230330T071520Z\n",
      "{'day_obs': 20230228, 'seq_num': 188, 'detector': 0}\n",
      "============= (83) ============datasetType = spectraction ============================================\n",
      "fullId..................: {band: 'white', instrument: 'LATISS', detector: 0, physical_filter: 'empty~holo4_003', visit: 2023022800125}\n",
      "visit...................: 2023022800125\n",
      "band....................: white\n",
      "physical filter.........: empty~holo4_003\n",
      "run.....................: u/dagoret/BPS_manyspectro_v70/20230330T071520Z\n",
      "{'day_obs': 20230228, 'seq_num': 125, 'detector': 0}\n",
      "============= (84) ============datasetType = spectraction ============================================\n",
      "fullId..................: {band: 'white', instrument: 'LATISS', detector: 0, physical_filter: 'empty~holo4_003', visit: 2023022800116}\n",
      "visit...................: 2023022800116\n",
      "band....................: white\n",
      "physical filter.........: empty~holo4_003\n",
      "run.....................: u/dagoret/BPS_manyspectro_v70/20230330T071520Z\n",
      "{'day_obs': 20230228, 'seq_num': 116, 'detector': 0}\n",
      "============= (85) ============datasetType = spectraction ============================================\n",
      "fullId..................: {band: 'white', instrument: 'LATISS', detector: 0, physical_filter: 'empty~holo4_003', visit: 2023022800195}\n",
      "visit...................: 2023022800195\n",
      "band....................: white\n",
      "physical filter.........: empty~holo4_003\n",
      "run.....................: u/dagoret/BPS_manyspectro_v70/20230330T071520Z\n",
      "{'day_obs': 20230228, 'seq_num': 195, 'detector': 0}\n",
      "============= (86) ============datasetType = spectraction ============================================\n",
      "fullId..................: {band: 'white', instrument: 'LATISS', detector: 0, physical_filter: 'empty~holo4_003', visit: 2023022800218}\n",
      "visit...................: 2023022800218\n",
      "band....................: white\n",
      "physical filter.........: empty~holo4_003\n",
      "run.....................: u/dagoret/BPS_manyspectro_v70/20230330T071520Z\n",
      "{'day_obs': 20230228, 'seq_num': 218, 'detector': 0}\n",
      "============= (87) ============datasetType = spectraction ============================================\n",
      "fullId..................: {band: 'white', instrument: 'LATISS', detector: 0, physical_filter: 'empty~holo4_003', visit: 2023022800219}\n",
      "visit...................: 2023022800219\n",
      "band....................: white\n",
      "physical filter.........: empty~holo4_003\n",
      "run.....................: u/dagoret/BPS_manyspectro_v70/20230330T071520Z\n",
      "{'day_obs': 20230228, 'seq_num': 219, 'detector': 0}\n",
      "============= (88) ============datasetType = spectraction ============================================\n",
      "fullId..................: {band: 'white', instrument: 'LATISS', detector: 0, physical_filter: 'empty~holo4_003', visit: 2023022800124}\n",
      "visit...................: 2023022800124\n",
      "band....................: white\n",
      "physical filter.........: empty~holo4_003\n",
      "run.....................: u/dagoret/BPS_manyspectro_v70/20230330T071520Z\n",
      "{'day_obs': 20230228, 'seq_num': 124, 'detector': 0}\n",
      "============= (89) ============datasetType = spectraction ============================================\n",
      "fullId..................: {band: 'white', instrument: 'LATISS', detector: 0, physical_filter: 'empty~holo4_003', visit: 2023022800262}\n",
      "visit...................: 2023022800262\n",
      "band....................: white\n",
      "physical filter.........: empty~holo4_003\n",
      "run.....................: u/dagoret/BPS_manyspectro_v70/20230330T071520Z\n",
      "{'day_obs': 20230228, 'seq_num': 262, 'detector': 0}\n",
      "============= (90) ============datasetType = spectraction ============================================\n",
      "fullId..................: {band: 'white', instrument: 'LATISS', detector: 0, physical_filter: 'empty~holo4_003', visit: 2023022800345}\n",
      "visit...................: 2023022800345\n",
      "band....................: white\n",
      "physical filter.........: empty~holo4_003\n",
      "run.....................: u/dagoret/BPS_manyspectro_v70/20230330T071520Z\n",
      "{'day_obs': 20230228, 'seq_num': 345, 'detector': 0}\n",
      "============= (91) ============datasetType = spectraction ============================================\n",
      "fullId..................: {band: 'white', instrument: 'LATISS', detector: 0, physical_filter: 'empty~holo4_003', visit: 2023022800022}\n",
      "visit...................: 2023022800022\n",
      "band....................: white\n",
      "physical filter.........: empty~holo4_003\n",
      "run.....................: u/dagoret/BPS_manyspectro_v70/20230330T071520Z\n",
      "{'day_obs': 20230228, 'seq_num': 22, 'detector': 0}\n",
      "============= (92) ============datasetType = spectraction ============================================\n",
      "fullId..................: {band: 'white', instrument: 'LATISS', detector: 0, physical_filter: 'empty~holo4_003', visit: 2023022800278}\n",
      "visit...................: 2023022800278\n",
      "band....................: white\n",
      "physical filter.........: empty~holo4_003\n",
      "run.....................: u/dagoret/BPS_manyspectro_v70/20230330T071520Z\n",
      "{'day_obs': 20230228, 'seq_num': 278, 'detector': 0}\n",
      "============= (93) ============datasetType = spectraction ============================================\n",
      "fullId..................: {band: 'white', instrument: 'LATISS', detector: 0, physical_filter: 'empty~holo4_003', visit: 2023022800286}\n",
      "visit...................: 2023022800286\n",
      "band....................: white\n",
      "physical filter.........: empty~holo4_003\n",
      "run.....................: u/dagoret/BPS_manyspectro_v70/20230330T071520Z\n",
      "{'day_obs': 20230228, 'seq_num': 286, 'detector': 0}\n",
      "============= (94) ============datasetType = spectraction ============================================\n",
      "fullId..................: {band: 'white', instrument: 'LATISS', detector: 0, physical_filter: 'empty~holo4_003', visit: 2023022800039}\n",
      "visit...................: 2023022800039\n",
      "band....................: white\n",
      "physical filter.........: empty~holo4_003\n",
      "run.....................: u/dagoret/BPS_manyspectro_v70/20230330T071520Z\n",
      "{'day_obs': 20230228, 'seq_num': 39, 'detector': 0}\n",
      "============= (95) ============datasetType = spectraction ============================================\n",
      "fullId..................: {band: 'white', instrument: 'LATISS', detector: 0, physical_filter: 'empty~holo4_003', visit: 2023022800314}\n",
      "visit...................: 2023022800314\n",
      "band....................: white\n",
      "physical filter.........: empty~holo4_003\n",
      "run.....................: u/dagoret/BPS_manyspectro_v70/20230330T071520Z\n",
      "{'day_obs': 20230228, 'seq_num': 314, 'detector': 0}\n",
      "============= (96) ============datasetType = spectraction ============================================\n",
      "fullId..................: {band: 'white', instrument: 'LATISS', detector: 0, physical_filter: 'empty~holo4_003', visit: 2023022800250}\n",
      "visit...................: 2023022800250\n",
      "band....................: white\n",
      "physical filter.........: empty~holo4_003\n",
      "run.....................: u/dagoret/BPS_manyspectro_v70/20230330T071520Z\n",
      "{'day_obs': 20230228, 'seq_num': 250, 'detector': 0}\n",
      "============= (97) ============datasetType = spectraction ============================================\n",
      "fullId..................: {band: 'white', instrument: 'LATISS', detector: 0, physical_filter: 'empty~holo4_003', visit: 2023022800279}\n",
      "visit...................: 2023022800279\n",
      "band....................: white\n",
      "physical filter.........: empty~holo4_003\n",
      "run.....................: u/dagoret/BPS_manyspectro_v70/20230330T071520Z\n",
      "{'day_obs': 20230228, 'seq_num': 279, 'detector': 0}\n",
      "============= (98) ============datasetType = spectraction ============================================\n",
      "fullId..................: {band: 'white', instrument: 'LATISS', detector: 0, physical_filter: 'empty~holo4_003', visit: 2023022800165}\n",
      "visit...................: 2023022800165\n",
      "band....................: white\n",
      "physical filter.........: empty~holo4_003\n",
      "run.....................: u/dagoret/BPS_manyspectro_v70/20230330T071520Z\n",
      "{'day_obs': 20230228, 'seq_num': 165, 'detector': 0}\n",
      "============= (99) ============datasetType = spectraction ============================================\n",
      "fullId..................: {band: 'white', instrument: 'LATISS', detector: 0, physical_filter: 'empty~holo4_003', visit: 2023022800203}\n",
      "visit...................: 2023022800203\n",
      "band....................: white\n",
      "physical filter.........: empty~holo4_003\n",
      "run.....................: u/dagoret/BPS_manyspectro_v70/20230330T071520Z\n",
      "{'day_obs': 20230228, 'seq_num': 203, 'detector': 0}\n",
      "============= (100) ============datasetType = spectraction ============================================\n",
      "fullId..................: {band: 'white', instrument: 'LATISS', detector: 0, physical_filter: 'empty~holo4_003', visit: 2023022800117}\n",
      "visit...................: 2023022800117\n",
      "band....................: white\n",
      "physical filter.........: empty~holo4_003\n",
      "run.....................: u/dagoret/BPS_manyspectro_v70/20230330T071520Z\n",
      "{'day_obs': 20230228, 'seq_num': 117, 'detector': 0}\n",
      "============= (101) ============datasetType = spectraction ============================================\n",
      "fullId..................: {band: 'white', instrument: 'LATISS', detector: 0, physical_filter: 'empty~holo4_003', visit: 2023022800055}\n",
      "visit...................: 2023022800055\n",
      "band....................: white\n",
      "physical filter.........: empty~holo4_003\n",
      "run.....................: u/dagoret/BPS_manyspectro_v70/20230330T071520Z\n",
      "{'day_obs': 20230228, 'seq_num': 55, 'detector': 0}\n",
      "============= (102) ============datasetType = spectraction ============================================\n",
      "fullId..................: {band: 'white', instrument: 'LATISS', detector: 0, physical_filter: 'empty~holo4_003', visit: 2023022800157}\n",
      "visit...................: 2023022800157\n",
      "band....................: white\n",
      "physical filter.........: empty~holo4_003\n",
      "run.....................: u/dagoret/BPS_manyspectro_v70/20230330T071520Z\n",
      "{'day_obs': 20230228, 'seq_num': 157, 'detector': 0}\n",
      "============= (103) ============datasetType = spectraction ============================================\n",
      "fullId..................: {band: 'white', instrument: 'LATISS', detector: 0, physical_filter: 'empty~holo4_003', visit: 2023022800251}\n",
      "visit...................: 2023022800251\n",
      "band....................: white\n",
      "physical filter.........: empty~holo4_003\n",
      "run.....................: u/dagoret/BPS_manyspectro_v70/20230330T071520Z\n",
      "{'day_obs': 20230228, 'seq_num': 251, 'detector': 0}\n",
      "============= (104) ============datasetType = spectraction ============================================\n",
      "fullId..................: {band: 'white', instrument: 'LATISS', detector: 0, physical_filter: 'empty~holo4_003', visit: 2023022800148}\n",
      "visit...................: 2023022800148\n",
      "band....................: white\n",
      "physical filter.........: empty~holo4_003\n",
      "run.....................: u/dagoret/BPS_manyspectro_v70/20230330T071520Z\n",
      "{'day_obs': 20230228, 'seq_num': 148, 'detector': 0}\n",
      "============= (105) ============datasetType = spectraction ============================================\n",
      "fullId..................: {band: 'white', instrument: 'LATISS', detector: 0, physical_filter: 'empty~holo4_003', visit: 2023022800027}\n",
      "visit...................: 2023022800027\n",
      "band....................: white\n",
      "physical filter.........: empty~holo4_003\n",
      "run.....................: u/dagoret/BPS_manyspectro_v70/20230330T071520Z\n",
      "{'day_obs': 20230228, 'seq_num': 27, 'detector': 0}\n",
      "============= (106) ============datasetType = spectraction ============================================\n",
      "fullId..................: {band: 'white', instrument: 'LATISS', detector: 0, physical_filter: 'empty~holo4_003', visit: 2023022800271}\n",
      "visit...................: 2023022800271\n",
      "band....................: white\n",
      "physical filter.........: empty~holo4_003\n",
      "run.....................: u/dagoret/BPS_manyspectro_v70/20230330T071520Z\n",
      "{'day_obs': 20230228, 'seq_num': 271, 'detector': 0}\n",
      "============= (107) ============datasetType = spectraction ============================================\n",
      "fullId..................: {band: 'white', instrument: 'LATISS', detector: 0, physical_filter: 'empty~holo4_003', visit: 2023022800149}\n",
      "visit...................: 2023022800149\n",
      "band....................: white\n",
      "physical filter.........: empty~holo4_003\n",
      "run.....................: u/dagoret/BPS_manyspectro_v70/20230330T071520Z\n",
      "{'day_obs': 20230228, 'seq_num': 149, 'detector': 0}\n",
      "============= (108) ============datasetType = spectraction ============================================\n",
      "fullId..................: {band: 'white', instrument: 'LATISS', detector: 0, physical_filter: 'empty~holo4_003', visit: 2023022800156}\n",
      "visit...................: 2023022800156\n",
      "band....................: white\n",
      "physical filter.........: empty~holo4_003\n",
      "run.....................: u/dagoret/BPS_manyspectro_v70/20230330T071520Z\n",
      "{'day_obs': 20230228, 'seq_num': 156, 'detector': 0}\n",
      "============= (109) ============datasetType = spectraction ============================================\n",
      "fullId..................: {band: 'white', instrument: 'LATISS', detector: 0, physical_filter: 'empty~holo4_003', visit: 2023022800063}\n",
      "visit...................: 2023022800063\n",
      "band....................: white\n",
      "physical filter.........: empty~holo4_003\n",
      "run.....................: u/dagoret/BPS_manyspectro_v70/20230330T071520Z\n",
      "{'day_obs': 20230228, 'seq_num': 63, 'detector': 0}\n",
      "============= (110) ============datasetType = spectraction ============================================\n",
      "fullId..................: {band: 'white', instrument: 'LATISS', detector: 0, physical_filter: 'empty~holo4_003', visit: 2023022800109}\n",
      "visit...................: 2023022800109\n",
      "band....................: white\n",
      "physical filter.........: empty~holo4_003\n",
      "run.....................: u/dagoret/BPS_manyspectro_v70/20230330T071520Z\n",
      "{'day_obs': 20230228, 'seq_num': 109, 'detector': 0}\n",
      "============= (111) ============datasetType = spectraction ============================================\n",
      "fullId..................: {band: 'white', instrument: 'LATISS', detector: 0, physical_filter: 'empty~holo4_003', visit: 2023022800062}\n",
      "visit...................: 2023022800062\n",
      "band....................: white\n",
      "physical filter.........: empty~holo4_003\n",
      "run.....................: u/dagoret/BPS_manyspectro_v70/20230330T071520Z\n",
      "{'day_obs': 20230228, 'seq_num': 62, 'detector': 0}\n",
      "============= (112) ============datasetType = spectraction ============================================\n",
      "fullId..................: {band: 'white', instrument: 'LATISS', detector: 0, physical_filter: 'empty~holo4_003', visit: 2023022800071}\n",
      "visit...................: 2023022800071\n",
      "band....................: white\n",
      "physical filter.........: empty~holo4_003\n",
      "run.....................: u/dagoret/BPS_manyspectro_v70/20230330T071520Z\n",
      "{'day_obs': 20230228, 'seq_num': 71, 'detector': 0}\n",
      "============= (113) ============datasetType = spectraction ============================================\n",
      "fullId..................: {band: 'white', instrument: 'LATISS', detector: 0, physical_filter: 'empty~holo4_003', visit: 2023022800164}\n",
      "visit...................: 2023022800164\n",
      "band....................: white\n",
      "physical filter.........: empty~holo4_003\n",
      "run.....................: u/dagoret/BPS_manyspectro_v70/20230330T071520Z\n",
      "{'day_obs': 20230228, 'seq_num': 164, 'detector': 0}\n",
      "============= (114) ============datasetType = spectraction ============================================\n",
      "fullId..................: {band: 'white', instrument: 'LATISS', detector: 0, physical_filter: 'empty~holo4_003', visit: 2023022800233}\n",
      "visit...................: 2023022800233\n",
      "band....................: white\n",
      "physical filter.........: empty~holo4_003\n",
      "run.....................: u/dagoret/BPS_manyspectro_v70/20230330T071520Z\n",
      "{'day_obs': 20230228, 'seq_num': 233, 'detector': 0}\n",
      "============= (115) ============datasetType = spectraction ============================================\n",
      "fullId..................: {band: 'white', instrument: 'LATISS', detector: 0, physical_filter: 'empty~holo4_003', visit: 2023022800323}\n",
      "visit...................: 2023022800323\n",
      "band....................: white\n",
      "physical filter.........: empty~holo4_003\n",
      "run.....................: u/dagoret/BPS_manyspectro_v70/20230330T071520Z\n",
      "{'day_obs': 20230228, 'seq_num': 323, 'detector': 0}\n",
      "============= (116) ============datasetType = spectraction ============================================\n",
      "fullId..................: {band: 'white', instrument: 'LATISS', detector: 0, physical_filter: 'empty~holo4_003', visit: 2023022800305}\n",
      "visit...................: 2023022800305\n",
      "band....................: white\n",
      "physical filter.........: empty~holo4_003\n",
      "run.....................: u/dagoret/BPS_manyspectro_v70/20230330T071520Z\n",
      "{'day_obs': 20230228, 'seq_num': 305, 'detector': 0}\n",
      "============= (117) ============datasetType = spectraction ============================================\n",
      "fullId..................: {band: 'white', instrument: 'LATISS', detector: 0, physical_filter: 'empty~holo4_003', visit: 2023022800021}\n",
      "visit...................: 2023022800021\n",
      "band....................: white\n",
      "physical filter.........: empty~holo4_003\n",
      "run.....................: u/dagoret/BPS_manyspectro_v70/20230330T071520Z\n",
      "{'day_obs': 20230228, 'seq_num': 21, 'detector': 0}\n",
      "============= (118) ============datasetType = spectraction ============================================\n",
      "fullId..................: {band: 'white', instrument: 'LATISS', detector: 0, physical_filter: 'empty~holo4_003', visit: 2023022800297}\n",
      "visit...................: 2023022800297\n",
      "band....................: white\n",
      "physical filter.........: empty~holo4_003\n",
      "run.....................: u/dagoret/BPS_manyspectro_v70/20230330T071520Z\n",
      "{'day_obs': 20230228, 'seq_num': 297, 'detector': 0}\n",
      "============= (119) ============datasetType = spectraction ============================================\n",
      "fullId..................: {band: 'white', instrument: 'LATISS', detector: 0, physical_filter: 'empty~holo4_003', visit: 2023022800135}\n",
      "visit...................: 2023022800135\n",
      "band....................: white\n",
      "physical filter.........: empty~holo4_003\n",
      "run.....................: u/dagoret/BPS_manyspectro_v70/20230330T071520Z\n",
      "{'day_obs': 20230228, 'seq_num': 135, 'detector': 0}\n",
      "============= (120) ============datasetType = spectraction ============================================\n",
      "fullId..................: {band: 'white', instrument: 'LATISS', detector: 0, physical_filter: 'empty~holo4_003', visit: 2023022800331}\n",
      "visit...................: 2023022800331\n",
      "band....................: white\n",
      "physical filter.........: empty~holo4_003\n",
      "run.....................: u/dagoret/BPS_manyspectro_v70/20230330T071520Z\n",
      "{'day_obs': 20230228, 'seq_num': 331, 'detector': 0}\n",
      "============= (121) ============datasetType = spectraction ============================================\n",
      "fullId..................: {band: 'white', instrument: 'LATISS', detector: 0, physical_filter: 'empty~holo4_003', visit: 2023022800346}\n",
      "visit...................: 2023022800346\n",
      "band....................: white\n",
      "physical filter.........: empty~holo4_003\n",
      "run.....................: u/dagoret/BPS_manyspectro_v70/20230330T071520Z\n",
      "{'day_obs': 20230228, 'seq_num': 346, 'detector': 0}\n",
      "============= (122) ============datasetType = spectraction ============================================\n",
      "fullId..................: {band: 'white', instrument: 'LATISS', detector: 0, physical_filter: 'empty~holo4_003', visit: 2023022800322}\n",
      "visit...................: 2023022800322\n",
      "band....................: white\n",
      "physical filter.........: empty~holo4_003\n",
      "run.....................: u/dagoret/BPS_manyspectro_v70/20230330T071520Z\n",
      "{'day_obs': 20230228, 'seq_num': 322, 'detector': 0}\n",
      "============= (123) ============datasetType = spectraction ============================================\n",
      "fullId..................: {band: 'white', instrument: 'LATISS', detector: 0, physical_filter: 'empty~holo4_003', visit: 2023022800136}\n",
      "visit...................: 2023022800136\n",
      "band....................: white\n",
      "physical filter.........: empty~holo4_003\n",
      "run.....................: u/dagoret/BPS_manyspectro_v70/20230330T071520Z\n",
      "{'day_obs': 20230228, 'seq_num': 136, 'detector': 0}\n",
      "============= (124) ============datasetType = spectraction ============================================\n",
      "fullId..................: {band: 'white', instrument: 'LATISS', detector: 0, physical_filter: 'empty~holo4_003', visit: 2023022800054}\n",
      "visit...................: 2023022800054\n",
      "band....................: white\n",
      "physical filter.........: empty~holo4_003\n",
      "run.....................: u/dagoret/BPS_manyspectro_v70/20230330T071520Z\n",
      "{'day_obs': 20230228, 'seq_num': 54, 'detector': 0}\n",
      "============= (125) ============datasetType = spectraction ============================================\n",
      "fullId..................: {band: 'white', instrument: 'LATISS', detector: 0, physical_filter: 'empty~holo4_003', visit: 2023022800180}\n",
      "visit...................: 2023022800180\n",
      "band....................: white\n",
      "physical filter.........: empty~holo4_003\n",
      "run.....................: u/dagoret/BPS_manyspectro_v70/20230330T071520Z\n",
      "{'day_obs': 20230228, 'seq_num': 180, 'detector': 0}\n",
      "============= (126) ============datasetType = spectraction ============================================\n",
      "fullId..................: {band: 'white', instrument: 'LATISS', detector: 0, physical_filter: 'empty~holo4_003', visit: 2023022800270}\n",
      "visit...................: 2023022800270\n",
      "band....................: white\n",
      "physical filter.........: empty~holo4_003\n",
      "run.....................: u/dagoret/BPS_manyspectro_v70/20230330T071520Z\n",
      "{'day_obs': 20230228, 'seq_num': 270, 'detector': 0}\n",
      "============= (127) ============datasetType = spectraction ============================================\n",
      "fullId..................: {band: 'white', instrument: 'LATISS', detector: 0, physical_filter: 'empty~holo4_003', visit: 2023022800287}\n",
      "visit...................: 2023022800287\n",
      "band....................: white\n",
      "physical filter.........: empty~holo4_003\n",
      "run.....................: u/dagoret/BPS_manyspectro_v70/20230330T071520Z\n",
      "{'day_obs': 20230228, 'seq_num': 287, 'detector': 0}\n"
     ]
    }
   ],
   "source": [
    "all_dataId = []     # full data id\n",
    "all_spec = []       # spectra\n",
    "all_exposures = []  # exposure number\n",
    "all_num = []        # sequence numbers\n",
    "all_h5group = []\n",
    "\n",
    "hf_outfile =  h5py.File(output_file_h5, 'w') \n",
    "  \n",
    "\n",
    "for i, ref in enumerate(datasetRefs):\n",
    "\n",
    "    print(f\"============= ({i}) ============datasetType = spectraction ============================================\")\n",
    "    print(\"fullId..................:\",ref.dataId.full)\n",
    "    print(\"visit...................:\",ref.dataId[\"visit\"])\n",
    "    print(\"band....................:\",ref.dataId[\"band\"])\n",
    "    print(\"physical filter.........:\",ref.dataId[\"physical_filter\"])\n",
    "    print(\"run.....................:\",ref.run)\n",
    "    \n",
    "    #through old runs\n",
    "    date_of_run = int(ref.run.split(\"/\")[-1].split(\"T\")[0])\n",
    "    if date_of_run< RUNSELECTION :\n",
    "        continue\n",
    " \n",
    "    \n",
    "    \n",
    "    the_exposure = ref.dataId[\"visit\"]\n",
    "    the_day_obs = ref.dataId[\"visit\"]//100_000\n",
    "    the_seq_num = ref.dataId[\"visit\"]- the_day_obs*100_000    \n",
    "    the_dataId = {'day_obs': the_day_obs,'seq_num':the_seq_num,'detector':0}\n",
    "    print(the_dataId)\n",
    "    \n",
    "    the_exposure_key = str(the_exposure)\n",
    "    \n",
    "    g = hf_outfile.create_group(the_exposure_key)\n",
    "    all_h5group.append(g) \n",
    "    \n",
    "    \n",
    "    \n",
    "    # retrieve the spectrum from Butler\n",
    "    #spec       = butler.get('spectraction',the_dataId)\n",
    "    spec = butler.get('spectractorSpectrum', visit=the_exposure, detector=0, collections=my_collection, instrument='LATISS')\n",
    "    \n",
    "    # save in collection lists\n",
    "    all_dataId.append(the_dataId) \n",
    "    all_exposures.append(the_exposure)\n",
    "    all_spec.append(spec)\n",
    "    all_num.append(the_seq_num)\n",
    "    "
   ]
  },
  {
   "cell_type": "code",
   "execution_count": 18,
   "id": "165ec0ab-fef7-4346-a1cf-28f4b59e5259",
   "metadata": {
    "execution": {
     "iopub.execute_input": "2023-03-30T15:34:40.766664Z",
     "iopub.status.busy": "2023-03-30T15:34:40.766330Z",
     "iopub.status.idle": "2023-03-30T15:34:40.770317Z",
     "shell.execute_reply": "2023-03-30T15:34:40.769915Z",
     "shell.execute_reply.started": "2023-03-30T15:34:40.766646Z"
    },
    "tags": []
   },
   "outputs": [
    {
     "data": {
      "text/plain": [
       "<KeysViewHDF5 ['2023022800021', '2023022800022', '2023022800026', '2023022800027', '2023022800039', '2023022800040', '2023022800054', '2023022800055', '2023022800062', '2023022800063', '2023022800070', '2023022800071', '2023022800078', '2023022800079', '2023022800095', '2023022800096', '2023022800108', '2023022800109', '2023022800116', '2023022800117', '2023022800124', '2023022800125', '2023022800135', '2023022800136', '2023022800148', '2023022800149', '2023022800156', '2023022800157', '2023022800164', '2023022800165', '2023022800179', '2023022800180', '2023022800187', '2023022800188', '2023022800195', '2023022800196', '2023022800203', '2023022800204', '2023022800218', '2023022800219', '2023022800233', '2023022800234', '2023022800250', '2023022800251', '2023022800261', '2023022800262', '2023022800270', '2023022800271', '2023022800278', '2023022800279', '2023022800286', '2023022800287', '2023022800297', '2023022800298', '2023022800305', '2023022800306', '2023022800313', '2023022800314', '2023022800322', '2023022800323', '2023022800330', '2023022800331', '2023022800345', '2023022800346']>"
      ]
     },
     "execution_count": 18,
     "metadata": {},
     "output_type": "execute_result"
    }
   ],
   "source": [
    "hf_outfile.keys()"
   ]
  },
  {
   "cell_type": "code",
   "execution_count": 24,
   "id": "b0082a68-6a17-4de8-837b-b1986d3dd093",
   "metadata": {
    "execution": {
     "iopub.execute_input": "2023-03-30T15:38:40.251608Z",
     "iopub.status.busy": "2023-03-30T15:38:40.251361Z",
     "iopub.status.idle": "2023-03-30T15:38:40.254431Z",
     "shell.execute_reply": "2023-03-30T15:38:40.253986Z",
     "shell.execute_reply.started": "2023-03-30T15:38:40.251590Z"
    },
    "tags": []
   },
   "outputs": [],
   "source": [
    "spec = all_spec[0]"
   ]
  },
  {
   "cell_type": "code",
   "execution_count": 27,
   "id": "24c8bcad-8c18-4936-b3d3-74acd63ad092",
   "metadata": {
    "execution": {
     "iopub.execute_input": "2023-03-30T15:40:26.099369Z",
     "iopub.status.busy": "2023-03-30T15:40:26.098805Z",
     "iopub.status.idle": "2023-03-30T15:40:26.102355Z",
     "shell.execute_reply": "2023-03-30T15:40:26.101947Z",
     "shell.execute_reply.started": "2023-03-30T15:40:26.099346Z"
    },
    "tags": []
   },
   "outputs": [
    {
     "data": {
      "text/plain": [
       "1.04941900123165"
      ]
     },
     "execution_count": 27,
     "metadata": {},
     "output_type": "execute_result"
    }
   ],
   "source": [
    "spec.airmass"
   ]
  },
  {
   "cell_type": "code",
   "execution_count": 33,
   "id": "a3672116-7048-4d01-9623-b84dc877d2c3",
   "metadata": {
    "execution": {
     "iopub.execute_input": "2023-03-30T15:49:05.668788Z",
     "iopub.status.busy": "2023-03-30T15:49:05.668268Z",
     "iopub.status.idle": "2023-03-30T15:49:05.671535Z",
     "shell.execute_reply": "2023-03-30T15:49:05.671216Z",
     "shell.execute_reply.started": "2023-03-30T15:49:05.668766Z"
    },
    "tags": []
   },
   "outputs": [
    {
     "data": {
      "text/plain": [
       "'2023-03-01T01:29:09.929007952Z'"
      ]
     },
     "execution_count": 33,
     "metadata": {},
     "output_type": "execute_result"
    }
   ],
   "source": [
    "spec.date_obs"
   ]
  },
  {
   "cell_type": "code",
   "execution_count": null,
   "id": "c512a035-04b0-44b4-926a-5c5e51c0dc3b",
   "metadata": {
    "execution": {
     "iopub.status.busy": "2023-03-30T15:34:04.825401Z",
     "iopub.status.idle": "2023-03-30T15:34:04.825580Z",
     "shell.execute_reply": "2023-03-30T15:34:04.825494Z",
     "shell.execute_reply.started": "2023-03-30T15:34:04.825485Z"
    },
    "tags": []
   },
   "outputs": [],
   "source": [
    "spec.cov_matrix.shape"
   ]
  },
  {
   "cell_type": "code",
   "execution_count": 32,
   "id": "fa2be0b1-4419-470e-8fcb-02eeb06d7e76",
   "metadata": {
    "execution": {
     "iopub.execute_input": "2023-03-30T15:42:51.914375Z",
     "iopub.status.busy": "2023-03-30T15:42:51.913789Z",
     "iopub.status.idle": "2023-03-30T15:42:51.917393Z",
     "shell.execute_reply": "2023-03-30T15:42:51.916997Z",
     "shell.execute_reply.started": "2023-03-30T15:42:51.914356Z"
    },
    "tags": []
   },
   "outputs": [
    {
     "data": {
      "text/plain": [
       "(1137,)"
      ]
     },
     "execution_count": 32,
     "metadata": {},
     "output_type": "execute_result"
    }
   ],
   "source": [
    "spec.lambdas.shape"
   ]
  },
  {
   "cell_type": "code",
   "execution_count": 29,
   "id": "dd649f12-094a-49d6-bbfd-0dc4074eed5e",
   "metadata": {
    "execution": {
     "iopub.execute_input": "2023-03-30T15:42:04.713097Z",
     "iopub.status.busy": "2023-03-30T15:42:04.712727Z",
     "iopub.status.idle": "2023-03-30T15:42:04.716364Z",
     "shell.execute_reply": "2023-03-30T15:42:04.715919Z",
     "shell.execute_reply.started": "2023-03-30T15:42:04.713078Z"
    },
    "tags": []
   },
   "outputs": [
    {
     "data": {
      "text/plain": [
       "(1137,)"
      ]
     },
     "execution_count": 29,
     "metadata": {},
     "output_type": "execute_result"
    }
   ],
   "source": [
    "spec.data_next_order.shape"
   ]
  },
  {
   "cell_type": "code",
   "execution_count": 38,
   "id": "cffbfd6f-7e3f-4e19-ba9d-c92b659fc2d9",
   "metadata": {
    "execution": {
     "iopub.execute_input": "2023-03-30T15:56:38.556889Z",
     "iopub.status.busy": "2023-03-30T15:56:38.556439Z",
     "iopub.status.idle": "2023-03-30T15:56:38.560693Z",
     "shell.execute_reply": "2023-03-30T15:56:38.560278Z",
     "shell.execute_reply.started": "2023-03-30T15:56:38.556872Z"
    },
    "tags": []
   },
   "outputs": [],
   "source": [
    "def DumpSpectrum(spec):\n",
    "    print(\"--------------------------------------------\")\n",
    "    print(\"spec.target.label\\t\",spec.target.label)\n",
    "    print(\"spec.filter_label\\t\",spec.filter_label)\n",
    "    print(\"spec.airmass\\t\",spec.airmass)\n",
    "    print(\"spec.date_obs\\t\",spec.date_obs)\n",
    "    print(\"spec.temperature\\t\",spec.temperature)\n",
    "    print(\"spec.pressure\\t\",spec.pressure)\n",
    "    print(\"spec.humidity\\t\",spec.humidity)    \n",
    "    print(\"spec.ra\\t\",spec.ra)\n",
    "    print(\"spec.dec\\t\",spec.dec)\n",
    "    print(\"spec.hour_angle\\t\",spec.hour_angle)\n",
    "    print(\"spec.parallactic_angle\\t\",spec.parallactic_angle)\n",
    "    print(\"--------------------------------------------\")\n",
    "    print(\"spec.order\\t\",spec.order)\n",
    "    print(\"spec.lambdas\\t\",spec.lambdas)\n",
    "    print(\"spec.data\\t\",spec.data)\n",
    "    print(\"spec.err\\t\",spec.err)\n",
    "    print(\"spec.covmatrix\\t\",spec.cov_matrix)\n",
    "    print(\"spec.err\\t\",spec.err)\n",
    "    print(\"--------------------------------------------\")\n",
    "    print(\"spec.data_next_order\\t\",spec.data_next_order)\n",
    "    print(\"spec.err_next_order\\t\",spec.err_next_order)"
   ]
  },
  {
   "cell_type": "code",
   "execution_count": 39,
   "id": "0ead2d71-32cc-4ab8-a87e-22c3bbe1fb77",
   "metadata": {
    "execution": {
     "iopub.execute_input": "2023-03-30T15:56:40.981346Z",
     "iopub.status.busy": "2023-03-30T15:56:40.980964Z",
     "iopub.status.idle": "2023-03-30T15:56:41.000585Z",
     "shell.execute_reply": "2023-03-30T15:56:41.000006Z",
     "shell.execute_reply.started": "2023-03-30T15:56:40.981328Z"
    },
    "tags": []
   },
   "outputs": [
    {
     "name": "stdout",
     "output_type": "stream",
     "text": [
      "--------------------------------------------\n",
      "spec.target.label\t HD73495\n",
      "spec.filter_label\t empty\n",
      "spec.airmass\t 1.04941900123165\n",
      "spec.date_obs\t 2023-03-01T01:29:09.929007952Z\n",
      "spec.temperature\t 0\n",
      "spec.pressure\t 0\n",
      "spec.humidity\t 0\n"
     ]
    },
    {
     "ename": "AttributeError",
     "evalue": "'Spectrum' object has no attribute 'ra'",
     "output_type": "error",
     "traceback": [
      "\u001b[0;31m---------------------------------------------------------------------------\u001b[0m",
      "\u001b[0;31mAttributeError\u001b[0m                            Traceback (most recent call last)",
      "Input \u001b[0;32mIn [39]\u001b[0m, in \u001b[0;36m<cell line: 1>\u001b[0;34m()\u001b[0m\n\u001b[0;32m----> 1\u001b[0m \u001b[43mDumpSpectrum\u001b[49m\u001b[43m(\u001b[49m\u001b[43mspec\u001b[49m\u001b[43m)\u001b[49m\n",
      "Input \u001b[0;32mIn [38]\u001b[0m, in \u001b[0;36mDumpSpectrum\u001b[0;34m(spec)\u001b[0m\n\u001b[1;32m      8\u001b[0m \u001b[38;5;28mprint\u001b[39m(\u001b[38;5;124m\"\u001b[39m\u001b[38;5;124mspec.pressure\u001b[39m\u001b[38;5;130;01m\\t\u001b[39;00m\u001b[38;5;124m\"\u001b[39m,spec\u001b[38;5;241m.\u001b[39mpressure)\n\u001b[1;32m      9\u001b[0m \u001b[38;5;28mprint\u001b[39m(\u001b[38;5;124m\"\u001b[39m\u001b[38;5;124mspec.humidity\u001b[39m\u001b[38;5;130;01m\\t\u001b[39;00m\u001b[38;5;124m\"\u001b[39m,spec\u001b[38;5;241m.\u001b[39mhumidity)    \n\u001b[0;32m---> 10\u001b[0m \u001b[38;5;28mprint\u001b[39m(\u001b[38;5;124m\"\u001b[39m\u001b[38;5;124mspec.ra\u001b[39m\u001b[38;5;130;01m\\t\u001b[39;00m\u001b[38;5;124m\"\u001b[39m,\u001b[43mspec\u001b[49m\u001b[38;5;241;43m.\u001b[39;49m\u001b[43mra\u001b[49m)\n\u001b[1;32m     11\u001b[0m \u001b[38;5;28mprint\u001b[39m(\u001b[38;5;124m\"\u001b[39m\u001b[38;5;124mspec.dec\u001b[39m\u001b[38;5;130;01m\\t\u001b[39;00m\u001b[38;5;124m\"\u001b[39m,spec\u001b[38;5;241m.\u001b[39mdec)\n\u001b[1;32m     12\u001b[0m \u001b[38;5;28mprint\u001b[39m(\u001b[38;5;124m\"\u001b[39m\u001b[38;5;124mspec.hour_angle\u001b[39m\u001b[38;5;130;01m\\t\u001b[39;00m\u001b[38;5;124m\"\u001b[39m,spec\u001b[38;5;241m.\u001b[39mhour_angle)\n",
      "\u001b[0;31mAttributeError\u001b[0m: 'Spectrum' object has no attribute 'ra'"
     ]
    }
   ],
   "source": [
    "DumpSpectrum(spec)"
   ]
  },
  {
   "cell_type": "code",
   "execution_count": null,
   "id": "12a230ec-81ac-4048-92f5-af1d2c98b09a",
   "metadata": {
    "execution": {
     "iopub.status.busy": "2023-03-30T15:34:04.829921Z",
     "iopub.status.idle": "2023-03-30T15:34:04.830111Z",
     "shell.execute_reply": "2023-03-30T15:34:04.830018Z",
     "shell.execute_reply.started": "2023-03-30T15:34:04.830009Z"
    }
   },
   "outputs": [],
   "source": [
    "\n",
    "spec.data \n",
    "spec.err \n",
    "        self.cov_matrix = None\n",
    "        self.x0 = None\n",
    "        self.pixels = None\n",
    "        self.lambdas = None\n",
    "        self.lambdas_binwidths = None\n",
    "        self.lambdas_indices = None\n",
    "        self.lambda_ref = 550\n",
    "        self.order = order\n",
    "        self.chromatic_psf = None\n",
    "        self.filter_label = \"\"\n",
    "        self.filters = None\n",
    "        self.units = 'ADU/s'\n",
    "        self.gain = parameters.CCD_GAIN\n",
    "        self.psf = load_PSF(psf_type=\"Moffat\", target=self.target)\n",
    "        self.chromatic_psf = ChromaticPSF(self.psf, Nx=1, Ny=1, deg=1, saturation=1)\n",
    "        self.rotation_angle = 0\n",
    "        self.parallactic_angle = None\n",
    "        self.camera_angle = 0\n",
    "        self.spectrogram = None\n",
    "        self.spectrogram_bgd = None\n",
    "        self.spectrogram_bgd_rms = None\n",
    "        self.spectrogram_err = None\n",
    "        self.spectrogram_residuals = None\n",
    "        self.spectrogram_fit = None\n",
    "        self.spectrogram_x0 = None\n",
    "        self.spectrogram_y0 = None\n",
    "        self.spectrogram_xmin = None\n",
    "        self.spectrogram_xmax = None\n",
    "        self.spectrogram_ymin = None\n",
    "        self.spectrogram_ymax = None\n",
    "        self.spectrogram_deg = None\n",
    "        self.spectrogram_saturation = None\n",
    "        self.spectrogram_Nx = None\n",
    "        self.spectrogram_Ny = None\n",
    "        self.data_next_order = None\n",
    "        self.err_next_order = None\n",
    "        self.dec = None\n",
    "        self.hour_angle = None\n",
    "        self.temperature = None\n",
    "        self.pressure = None\n",
    "        self.humidity = None\n",
    "        self.parallactic_angle = None"
   ]
  },
  {
   "cell_type": "markdown",
   "id": "f26b3f62-34f7-4cbd-bad4-c48be4e07ed9",
   "metadata": {},
   "source": [
    "## Plot"
   ]
  },
  {
   "cell_type": "code",
   "execution_count": null,
   "id": "4fea39ba-2f11-4a8a-9248-c37ce3e7c0f4",
   "metadata": {
    "execution": {
     "iopub.status.busy": "2023-03-30T15:34:04.830534Z",
     "iopub.status.idle": "2023-03-30T15:34:04.830710Z",
     "shell.execute_reply": "2023-03-30T15:34:04.830628Z",
     "shell.execute_reply.started": "2023-03-30T15:34:04.830619Z"
    },
    "tags": []
   },
   "outputs": [],
   "source": [
    "%matplotlib inline\n",
    "\n",
    "FLAG_ORDER2 = False\n",
    "\n",
    "infos = []\n",
    "all_lambdas=[]\n",
    "all_data=[]\n",
    "all_data_err=[]\n",
    "\n",
    "if FLAG_ORDER2:\n",
    "    all_lambdas_order2=[]\n",
    "    all_data_order2=[]\n",
    "    all_data_err_order2=[]\n",
    "\n",
    "\n",
    "idx=0\n",
    "for spec in all_spec:\n",
    "    \n",
    "    \n",
    "    #s=spec.spectrum\n",
    "    s=spec\n",
    "    label = str(idx) +\"):\" + str(all_exposures[idx])\n",
    "    \n",
    "    try:\n",
    "        fig=plt.figure(figsize=(16,4))\n",
    "    \n",
    "        ax1 = fig.add_subplot(1, 2, 1)\n",
    "        s.plot_spectrum(ax=ax1,force_lines=True,label=label)\n",
    "    \n",
    "        ax2 = fig.add_subplot(1, 2, 2)\n",
    "        s.plot_spectrogram(ax=ax2,scale=\"log\")\n",
    "    \n",
    "        all_lambdas.append(s.lambdas)\n",
    "        all_data.append(s.data)\n",
    "        all_data_err.append(s.err)\n",
    "    \n",
    "        if FLAG_ORDER2:\n",
    "            all_lambdas_order2.append(s.lambdas_order2)\n",
    "            all_data_order2.append(s.data_order2)\n",
    "            all_data_err_order2.append(s.err_order2)\n",
    "            \n",
    "        #save info    \n",
    "        infos.append([idx,s.target.label,s.date_obs,s.airmass,s.temperature,s.pressure,s.humidity])\n",
    "            \n",
    "    except Exception as inst:\n",
    "        print(\" >>> Exception catched for \"+ label )\n",
    "        print(type(inst))    # the exception instance\n",
    "        print(inst.args)     # arguments stored in .args\n",
    "\n",
    "    \n",
    "        \n",
    "    #infos.append([idx,s.target.label,s.date_obs,s.airmass,s.temperature,s.pressure,s.humidity])\n",
    "    idx+=1"
   ]
  },
  {
   "cell_type": "markdown",
   "id": "dcf6921d-adfb-4569-b31c-b28e8df46bc3",
   "metadata": {},
   "source": [
    "# Generate info"
   ]
  },
  {
   "cell_type": "code",
   "execution_count": null,
   "id": "d154b5b7-8123-47c5-8bf1-b917933dd850",
   "metadata": {
    "execution": {
     "iopub.status.busy": "2023-03-30T15:34:04.831667Z",
     "iopub.status.idle": "2023-03-30T15:34:04.831866Z",
     "shell.execute_reply": "2023-03-30T15:34:04.831764Z",
     "shell.execute_reply.started": "2023-03-30T15:34:04.831755Z"
    },
    "tags": []
   },
   "outputs": [],
   "source": [
    "df_infos=pd.DataFrame(infos,columns=[\"idx\",\"object\",\"date_obs\",\"airmass\",\"temperature\",\"pressure\",\"humidity\"])"
   ]
  },
  {
   "cell_type": "code",
   "execution_count": null,
   "id": "8dbc9436-abfd-46a8-87df-fee873578de1",
   "metadata": {
    "execution": {
     "iopub.status.busy": "2023-03-30T15:34:04.832425Z",
     "iopub.status.idle": "2023-03-30T15:34:04.832609Z",
     "shell.execute_reply": "2023-03-30T15:34:04.832520Z",
     "shell.execute_reply.started": "2023-03-30T15:34:04.832510Z"
    },
    "tags": []
   },
   "outputs": [],
   "source": [
    "df_infos.set_index('idx',inplace=True)"
   ]
  },
  {
   "cell_type": "code",
   "execution_count": null,
   "id": "f0680b42-944a-41e0-8e0f-23bce235d317",
   "metadata": {
    "execution": {
     "iopub.status.busy": "2023-03-30T15:34:04.833236Z",
     "iopub.status.idle": "2023-03-30T15:34:04.833461Z",
     "shell.execute_reply": "2023-03-30T15:34:04.833356Z",
     "shell.execute_reply.started": "2023-03-30T15:34:04.833346Z"
    },
    "tags": []
   },
   "outputs": [],
   "source": [
    "all_reftime=[ (Time(tt)-Time( df_infos[\"date_obs\"].values[0])).to_value(u.hr) for tt in df_infos[\"date_obs\"].values ]"
   ]
  },
  {
   "cell_type": "code",
   "execution_count": null,
   "id": "8dc390a3-c06a-4ff0-b637-66b33355356e",
   "metadata": {
    "execution": {
     "iopub.status.busy": "2023-03-30T15:34:04.834101Z",
     "iopub.status.idle": "2023-03-30T15:34:04.834281Z",
     "shell.execute_reply": "2023-03-30T15:34:04.834197Z",
     "shell.execute_reply.started": "2023-03-30T15:34:04.834187Z"
    },
    "tags": []
   },
   "outputs": [],
   "source": [
    "all_reftime=np.array(all_reftime)"
   ]
  },
  {
   "cell_type": "code",
   "execution_count": null,
   "id": "de824a62-e759-4797-b840-363cb35bd63c",
   "metadata": {
    "execution": {
     "iopub.status.busy": "2023-03-30T15:34:04.835040Z",
     "iopub.status.idle": "2023-03-30T15:34:04.835228Z",
     "shell.execute_reply": "2023-03-30T15:34:04.835137Z",
     "shell.execute_reply.started": "2023-03-30T15:34:04.835128Z"
    },
    "tags": []
   },
   "outputs": [],
   "source": [
    "df_infos[\"reftime\"]=all_reftime"
   ]
  },
  {
   "cell_type": "code",
   "execution_count": null,
   "id": "110419ff-4d95-40b8-8436-4293014a4fd8",
   "metadata": {
    "execution": {
     "iopub.status.busy": "2023-03-30T15:34:04.835990Z",
     "iopub.status.idle": "2023-03-30T15:34:04.836182Z",
     "shell.execute_reply": "2023-03-30T15:34:04.836087Z",
     "shell.execute_reply.started": "2023-03-30T15:34:04.836078Z"
    }
   },
   "outputs": [],
   "source": [
    "NN = len(df_infos)"
   ]
  },
  {
   "cell_type": "code",
   "execution_count": null,
   "id": "99b6a222-de0e-4aa7-81ce-c3d6a889c04a",
   "metadata": {
    "execution": {
     "iopub.status.busy": "2023-03-30T15:34:04.836897Z",
     "iopub.status.idle": "2023-03-30T15:34:04.837080Z",
     "shell.execute_reply": "2023-03-30T15:34:04.836994Z",
     "shell.execute_reply.started": "2023-03-30T15:34:04.836984Z"
    }
   },
   "outputs": [],
   "source": [
    "df_infos"
   ]
  },
  {
   "cell_type": "markdown",
   "id": "dc731281-48ed-4328-8ce6-42dab4332d59",
   "metadata": {},
   "source": [
    "### Save info file"
   ]
  },
  {
   "cell_type": "code",
   "execution_count": null,
   "id": "932ca0ec-507d-4022-8325-55d689ac0eb2",
   "metadata": {
    "execution": {
     "iopub.status.busy": "2023-03-30T15:34:04.837961Z",
     "iopub.status.idle": "2023-03-30T15:34:04.838159Z",
     "shell.execute_reply": "2023-03-30T15:34:04.838060Z",
     "shell.execute_reply.started": "2023-03-30T15:34:04.838050Z"
    }
   },
   "outputs": [],
   "source": [
    "#summary_file = f\"summaryspectra_{DATE}-{filterdispersername}-{configmode}-oga.csv\"\n",
    "#summary_file = f\"summaryspectra_{DATE}-{filterdispersername}-{configmode}{ext}-oga.csv\"\n",
    "df_infos.to_csv(summary_file)"
   ]
  },
  {
   "cell_type": "markdown",
   "id": "c994b86c-bc35-455b-b363-a3dcc64fb406",
   "metadata": {},
   "source": [
    "## Main pickle file"
   ]
  },
  {
   "cell_type": "code",
   "execution_count": null,
   "id": "db6f01f6-e140-4604-9fed-176f964a7c22",
   "metadata": {
    "execution": {
     "iopub.status.busy": "2023-03-30T15:34:04.838910Z",
     "iopub.status.idle": "2023-03-30T15:34:04.839103Z",
     "shell.execute_reply": "2023-03-30T15:34:04.839009Z",
     "shell.execute_reply.started": "2023-03-30T15:34:04.838999Z"
    }
   },
   "outputs": [],
   "source": [
    "#spec.image.target_pixcoords"
   ]
  },
  {
   "cell_type": "code",
   "execution_count": null,
   "id": "072a5a1c-8313-4767-b81c-b87a48c5b270",
   "metadata": {
    "execution": {
     "iopub.status.busy": "2023-03-30T15:34:04.839536Z",
     "iopub.status.idle": "2023-03-30T15:34:04.839707Z",
     "shell.execute_reply": "2023-03-30T15:34:04.839628Z",
     "shell.execute_reply.started": "2023-03-30T15:34:04.839619Z"
    }
   },
   "outputs": [],
   "source": [
    "header = spec.spectrum.header\n",
    "header"
   ]
  },
  {
   "cell_type": "code",
   "execution_count": null,
   "id": "75ea215c-2276-48f6-a847-54141ee55127",
   "metadata": {
    "execution": {
     "iopub.status.busy": "2023-03-30T15:34:04.840518Z",
     "iopub.status.idle": "2023-03-30T15:34:04.840708Z",
     "shell.execute_reply": "2023-03-30T15:34:04.840615Z",
     "shell.execute_reply.started": "2023-03-30T15:34:04.840605Z"
    }
   },
   "outputs": [],
   "source": [
    "\n",
    "\n",
    "all_rebin=np.zeros(NN)\n",
    "all_targetx=np.zeros(NN)\n",
    "all_targety=np.zeros(NN)\n",
    "all_rotangle=np.zeros(NN)\n",
    "all_d2ccd=np.zeros(NN)\n",
    "all_pixshift=np.zeros(NN)\n",
    "all_chi2_fit=np.zeros(NN)\n",
    "all_a2_fit=np.zeros(NN)\n",
    "all_lbda_ref=np.zeros(NN)\n",
    "all_tagnumber=np.zeros(NN)\n",
    "all_errors=np.zeros(NN)\n",
    "\n",
    "\n",
    "for idx in range(NN):\n",
    "    \n",
    "    header = all_spec[idx].spectrum.header\n",
    "    tagnum=str(all_num[idx])\n",
    "    \n",
    "    #ROTANGLE=  -0.1367006901184345 / [deg] angle of the dispersion axis             \n",
    "    #D2CCD   =    179.6778868175837 / [mm] distance between disperser and CCD        \n",
    "    #TARGETX =    315.9547462941386 / target position on X axis                      \n",
    "    #TARGETY =    75.06785960446246 / target position on Y axis                      \n",
    "    #LBDA_REF=    634.9155139280113                                                  \n",
    "    #PIXSHIFT=  -0.9996981508176748                                                  \n",
    "    #CHI2_FIT=    1.602115867259752                                                  \n",
    "    #A2_FIT  =                  1.0                                                  \n",
    "    #REBIN   =                    2 / original image rebinning factor to get spectrum\n",
    "    \n",
    "    try :\n",
    "        rebin=header[\"REBIN\"]\n",
    "    except KeyError as e:\n",
    "        rebin=2\n",
    "        all_errors[idx]=1\n",
    "        print(f\"KeyError exception for spec {idx}: \" + str(e) + f\" ! ==> force rebin = {rebin}\")\n",
    "        \n",
    "        \n",
    "        \n",
    "    targetx=header[\"TARGETX\"]*rebin\n",
    "    targety=header[\"TARGETY\"]*rebin\n",
    "    rotangle=header[\"ROTANGLE\"]\n",
    "    d2ccd=header[\"D2CCD\"]\n",
    "    pixshift=header[\"PIXSHIFT\"]\n",
    "    \n",
    "    if header.get(\"CHI2_FIT\") != None:\n",
    "        chi2_fit=header[\"CHI2_FIT\"]\n",
    "    else:\n",
    "        chi2_fit= -1\n",
    "        \n",
    "    if header.get(\"A2_FIT\") != None:\n",
    "        a2_fit=header[\"A2_FIT\"]\n",
    "    else:\n",
    "        a2_fit=-1\n",
    "    \n",
    "    \n",
    "    lbda_ref=header[\"LBDA_REF\"]\n",
    "    \n",
    "    \n",
    "    all_rebin[idx]=rebin\n",
    "    all_targetx[idx]=targetx\n",
    "    all_targety[idx]=targety\n",
    "    all_rotangle[idx]=rotangle\n",
    "    all_d2ccd[idx]=d2ccd\n",
    "    all_pixshift[idx]=pixshift\n",
    "    \n",
    "    \n",
    "    all_chi2_fit[idx]=chi2_fit\n",
    "    all_a2_fit[idx]=a2_fit\n",
    "    all_lbda_ref[idx]=lbda_ref\n",
    "    all_tagnumber[idx]=tagnum\n",
    "    \n"
   ]
  },
  {
   "cell_type": "markdown",
   "id": "31b93d2e-edef-495e-b43d-6e9261f71a4c",
   "metadata": {},
   "source": [
    "## Write pickle file"
   ]
  },
  {
   "cell_type": "code",
   "execution_count": null,
   "id": "51558757-4ecb-4f46-b7ba-3e388767c991",
   "metadata": {
    "execution": {
     "iopub.status.busy": "2023-03-30T15:34:04.841407Z",
     "iopub.status.idle": "2023-03-30T15:34:04.841592Z",
     "shell.execute_reply": "2023-03-30T15:34:04.841501Z",
     "shell.execute_reply.started": "2023-03-30T15:34:04.841492Z"
    }
   },
   "outputs": [],
   "source": [
    "all_out_data = {}\n",
    "\n",
    "for idx in range(NN):\n",
    "    if FLAG_ORDER2:\n",
    "        thedata = {'number':all_tagnumber[idx],\n",
    "               'object':df_infos.iloc[idx]['object'],\n",
    "               'dateobs':df_infos.iloc[idx]['date_obs'],\n",
    "               'refhour':df_infos.iloc[idx]['reftime'],\n",
    "               'airmass':df_infos.iloc[idx]['airmass'], \n",
    "               'pressure':df_infos.iloc[idx]['pressure'], \n",
    "               'temperature':df_infos.iloc[idx]['temperature'], \n",
    "               'humidity':df_infos.iloc[idx]['humidity'], \n",
    "               'targetx_pix':all_targetx[idx],\n",
    "               'targety_pix':all_targety[idx],\n",
    "               'rotangle':all_rotangle[idx],\n",
    "               'd2ccd':all_d2ccd[idx],\n",
    "               'error':all_errors[idx],    \n",
    "               'all_lambdas':all_lambdas[idx],\n",
    "               'all_fluxes':all_data[idx],\n",
    "               'all_fluxes_err':all_data_err[idx],\n",
    "               'all_lambdas_order2':all_lambdas_order2[idx],\n",
    "               'all_fluxes_order2':all_data_order2[idx],\n",
    "               'all_fluxes_err_order2':all_data_err_order2[idx],\n",
    "              }\n",
    "    else:\n",
    "        thedata = {'number':all_tagnumber[idx],\n",
    "               'object':df_infos.iloc[idx]['object'],\n",
    "               'dateobs':df_infos.iloc[idx]['date_obs'],\n",
    "               'refhour':df_infos.iloc[idx]['reftime'],\n",
    "               'airmass':df_infos.iloc[idx]['airmass'],\n",
    "               'pressure':df_infos.iloc[idx]['pressure'], \n",
    "               'temperature':df_infos.iloc[idx]['temperature'], \n",
    "               'humidity':df_infos.iloc[idx]['humidity'], \n",
    "               'targetx_pix':all_targetx[idx],\n",
    "               'targety_pix':all_targety[idx],\n",
    "               'rotangle':all_rotangle[idx],\n",
    "               'd2ccd':all_d2ccd[idx],\n",
    "               'error':all_errors[idx],  \n",
    "               'all_lambdas':all_lambdas[idx],\n",
    "               'all_fluxes':all_data[idx],\n",
    "               'all_fluxes_err':all_data_err[idx],\n",
    "            }         \n",
    "            \n",
    "    all_out_data[all_exposures[idx]]=thedata\n"
   ]
  },
  {
   "cell_type": "code",
   "execution_count": null,
   "id": "6554139c-3fd6-46df-a867-fdc74edb6007",
   "metadata": {
    "execution": {
     "iopub.status.busy": "2023-03-30T15:34:04.842033Z",
     "iopub.status.idle": "2023-03-30T15:34:04.842209Z",
     "shell.execute_reply": "2023-03-30T15:34:04.842126Z",
     "shell.execute_reply.started": "2023-03-30T15:34:04.842117Z"
    }
   },
   "outputs": [],
   "source": [
    "#all_out_data"
   ]
  },
  {
   "cell_type": "code",
   "execution_count": null,
   "id": "017deca5-7504-4170-a320-5eea39ec0984",
   "metadata": {
    "execution": {
     "iopub.status.busy": "2023-03-30T15:34:04.842912Z",
     "iopub.status.idle": "2023-03-30T15:34:04.843092Z",
     "shell.execute_reply": "2023-03-30T15:34:04.843008Z",
     "shell.execute_reply.started": "2023-03-30T15:34:04.842998Z"
    }
   },
   "outputs": [],
   "source": [
    "#pkl_outfilename=f'run-auxtel-holo-{DATE}-{filterdispersername}-{configmode}-oga_b.pickle'\n",
    "pkl_outfilename=f'run-auxtel-holo-{DATE}-{filterdispersername}-{configmode}-oga{ext}.pickle'"
   ]
  },
  {
   "cell_type": "code",
   "execution_count": null,
   "id": "84227b63-780b-4b43-b66f-4a6386960a07",
   "metadata": {
    "execution": {
     "iopub.status.busy": "2023-03-30T15:34:04.843871Z",
     "iopub.status.idle": "2023-03-30T15:34:04.844062Z",
     "shell.execute_reply": "2023-03-30T15:34:04.843968Z",
     "shell.execute_reply.started": "2023-03-30T15:34:04.843959Z"
    }
   },
   "outputs": [],
   "source": [
    "with open(pkl_outfilename, 'wb') as pickle_file:\n",
    "    pickle.dump(all_out_data,pickle_file)"
   ]
  },
  {
   "cell_type": "code",
   "execution_count": null,
   "id": "f11b354d-8734-443f-b66e-dab3701c6885",
   "metadata": {
    "execution": {
     "iopub.status.busy": "2023-03-30T15:34:04.844475Z",
     "iopub.status.idle": "2023-03-30T15:34:04.844645Z",
     "shell.execute_reply": "2023-03-30T15:34:04.844565Z",
     "shell.execute_reply.started": "2023-03-30T15:34:04.844556Z"
    }
   },
   "outputs": [],
   "source": [
    "pkl_infilename=pkl_outfilename"
   ]
  },
  {
   "cell_type": "code",
   "execution_count": null,
   "id": "40465317-be99-4c75-8fa3-137c886f86be",
   "metadata": {
    "execution": {
     "iopub.status.busy": "2023-03-30T15:34:04.845485Z",
     "iopub.status.idle": "2023-03-30T15:34:04.845827Z",
     "shell.execute_reply": "2023-03-30T15:34:04.845718Z",
     "shell.execute_reply.started": "2023-03-30T15:34:04.845707Z"
    }
   },
   "outputs": [],
   "source": [
    "with open(pkl_infilename, 'rb') as pickle_file:\n",
    "    content = pickle.load(pickle_file)"
   ]
  },
  {
   "cell_type": "code",
   "execution_count": null,
   "id": "8827da1c-520f-47fe-9e40-3892944eb3df",
   "metadata": {
    "execution": {
     "iopub.status.busy": "2023-03-30T15:34:04.846601Z",
     "iopub.status.idle": "2023-03-30T15:34:04.846802Z",
     "shell.execute_reply": "2023-03-30T15:34:04.846702Z",
     "shell.execute_reply.started": "2023-03-30T15:34:04.846692Z"
    }
   },
   "outputs": [],
   "source": [
    "# Get first value of dictionary\n",
    "next(iter(content.items()))"
   ]
  },
  {
   "cell_type": "code",
   "execution_count": null,
   "id": "7f5b23ab-1880-493a-9c3c-ff33e537764c",
   "metadata": {},
   "outputs": [],
   "source": []
  }
 ],
 "metadata": {
  "kernelspec": {
   "display_name": "LSST",
   "language": "python",
   "name": "lsst"
  },
  "language_info": {
   "codemirror_mode": {
    "name": "ipython",
    "version": 3
   },
   "file_extension": ".py",
   "mimetype": "text/x-python",
   "name": "python",
   "nbconvert_exporter": "python",
   "pygments_lexer": "ipython3",
   "version": "3.10.9"
  }
 },
 "nbformat": 4,
 "nbformat_minor": 5
}
