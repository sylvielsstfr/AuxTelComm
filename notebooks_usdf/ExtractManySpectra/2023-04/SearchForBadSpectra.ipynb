{
 "cells": [
  {
   "cell_type": "markdown",
   "id": "0b8c2138-5194-4d03-8b77-be24e2cc8ee3",
   "metadata": {},
   "source": [
    "# Sear for Bad spectra \n",
    "\n",
    "- look for which parameter allow to identify a bad spectrum"
   ]
  },
  {
   "cell_type": "markdown",
   "id": "740e34fb-3fef-45a8-941b-c229742ab016",
   "metadata": {},
   "source": [
    " work with Weakly_2023_11\n",
    "- use jupyter kernel LSST\n",
    "- author : Sylvie Dagoret-Campagne\n",
    "- affiliation : IJCLab\n",
    "- creation date : 2023/03/05\n",
    "- last update : 2023/04/05\n",
    "\n",
    "- Spectractor https://github.com/lsst/Spectractor/\n",
    "- Spectractor Version 2.4\n",
    "- branch lsst-dev\n",
    "- available in version w_2023_11 by default\n"
   ]
  },
  {
   "cell_type": "code",
   "execution_count": null,
   "id": "ed2c3410-fe83-432e-ab87-9f4513fa8d8b",
   "metadata": {
    "tags": []
   },
   "outputs": [],
   "source": [
    "! eups list -s | grep LOCAL"
   ]
  },
  {
   "cell_type": "code",
   "execution_count": null,
   "id": "70918d81-0cf6-4b0a-8f61-f5e5bec5b0e7",
   "metadata": {
    "tags": []
   },
   "outputs": [],
   "source": [
    "! eups list -s lsst_distrib"
   ]
  },
  {
   "cell_type": "code",
   "execution_count": null,
   "id": "e7e0ec91-3a48-47ea-b293-db233df2677e",
   "metadata": {
    "tags": []
   },
   "outputs": [],
   "source": [
    "import h5py"
   ]
  },
  {
   "cell_type": "code",
   "execution_count": null,
   "id": "f8d9cfca-5881-48c1-b2cb-0f794a2e4091",
   "metadata": {
    "tags": []
   },
   "outputs": [],
   "source": [
    "import lsst.daf.butler as dafButler\n",
    "#import lsst.summit.utils.butlerUtils as butlerUtils"
   ]
  },
  {
   "cell_type": "code",
   "execution_count": null,
   "id": "1ceacda9-20b0-4d77-a0d2-572c957ce273",
   "metadata": {
    "tags": []
   },
   "outputs": [],
   "source": [
    "import numpy as np\n",
    "import matplotlib.pyplot as plt\n",
    "%matplotlib inline\n",
    "import matplotlib.ticker as tck\n",
    "from mpl_toolkits.axes_grid1 import make_axes_locatable\n",
    "from matplotlib.colors import LogNorm\n",
    "import pandas as pd\n",
    "\n",
    "import matplotlib.ticker                         # here's where the formatter is\n",
    "import os\n",
    "import re\n",
    "import pandas as pd\n",
    "\n",
    "plt.rcParams[\"figure.figsize\"] = (4,3)\n",
    "plt.rcParams[\"axes.labelsize\"] = 'xx-large'\n",
    "plt.rcParams['axes.titlesize'] = 'xx-large'\n",
    "plt.rcParams['xtick.labelsize']= 'xx-large'\n",
    "plt.rcParams['ytick.labelsize']= 'xx-large'"
   ]
  },
  {
   "cell_type": "code",
   "execution_count": null,
   "id": "769e12e6-917d-4722-8c1e-f965f13a8c64",
   "metadata": {
    "tags": []
   },
   "outputs": [],
   "source": [
    "import pickle"
   ]
  },
  {
   "cell_type": "code",
   "execution_count": null,
   "id": "75e20c79-7729-459b-a5e0-78d8de0c4d71",
   "metadata": {
    "tags": []
   },
   "outputs": [],
   "source": [
    "from astropy.time import Time\n",
    "import astropy.units as u"
   ]
  },
  {
   "cell_type": "markdown",
   "id": "c7e637b3-244b-4df3-9db2-3819e6321141",
   "metadata": {},
   "source": [
    "## Config"
   ]
  },
  {
   "cell_type": "code",
   "execution_count": null,
   "id": "ac51fd3d-4fd1-437a-99a9-3c33bcf3477a",
   "metadata": {},
   "outputs": [],
   "source": [
    "FLAG_MOUNT_ERRORS= True"
   ]
  },
  {
   "cell_type": "markdown",
   "id": "f311bc61-5eb2-40b2-ab20-8241ea599037",
   "metadata": {},
   "source": [
    "### Butler"
   ]
  },
  {
   "cell_type": "code",
   "execution_count": null,
   "id": "1c81d99a-5e91-4ba1-ba4a-c66b37905b98",
   "metadata": {
    "tags": []
   },
   "outputs": [],
   "source": [
    "#repo =  \"/sdf/group/rubin/repo/main\"\n",
    "#repo = \"/sdf/group/rubin/repo/oga/\"\n",
    "repo = \"/repo/embargo/\"\n",
    "butler = dafButler.Butler(repo)\n",
    "registry = butler.registry"
   ]
  },
  {
   "cell_type": "markdown",
   "id": "7fa31e20-40fb-498d-ad80-90ee20f619cd",
   "metadata": {},
   "source": [
    "### Date & Filter & Disperser & collection\n",
    "\n",
    "- make your choice"
   ]
  },
  {
   "cell_type": "code",
   "execution_count": null,
   "id": "d000a64c-3df6-434c-8d3e-a28cf52483be",
   "metadata": {},
   "outputs": [],
   "source": [
    "DateToRuncollection = {\n",
    "\n",
    " # september 2022\n",
    " 20220912 :  \"u/dagoret/BPS_manyspectro_v60\", # Missing collection\n",
    " 20220913 :  \"u/dagoret/BPS_manyspectro_v61\", # Missing collection\n",
    " 20220914 :  \"u/dagoret/BPS_manyspectro_v62\", # Missing collection  \n",
    "    \n",
    " 20220927 :  \"u/dagoret/BPS_manyspectro_v63\", # Mount errors available, mitigé\n",
    " 20220928 :  \"u/dagoret/BPS_manyspectro_v64\", # Mount errors available, very nice spectra\n",
    " 20220929 :  \"u/dagoret/BPS_manyspectro_v65\", # Mount errors available, very nice spectra\n",
    "    \n",
    "    \n",
    " # october 2022\n",
    " 20221012 :  \"u/dagoret/BPS_manyspectro_v56\", # mount errors , nice\n",
    " 20221025 :  \"u/dagoret/BPS_manyspectro_v57\", # mount errors, very bad spectra\n",
    " 20221026 :  \"u/dagoret/BPS_manyspectro_v58\", # mount errors,  nice spectra\n",
    " 20221027 :  \"u/dagoret/BPS_manyspectro_v59\", # mount errors,  nice spectra\n",
    "    \n",
    " # november 2022\n",
    " 20221109 :  \"u/dagoret/BPS_manyspectro_v53\", # nice\n",
    " 20221110 :  \"u/dagoret/BPS_manyspectro_v54\", # mount errors available, many bad rec spectra\n",
    " 20221123 :  \"u/dagoret/BPS_manyspectro_v55\", # mount errors , nice   \n",
    "    \n",
    " # december 2022   \n",
    " 20221207 :  \"u/dagoret/BPS_manyspectro_v48\",\n",
    " 20221208 :  \"u/dagoret/BPS_manyspectro_v49\",\n",
    " 20221209 :  \"u/dagoret/BPS_manyspectro_v50\", \n",
    " 20221210 :  \"u/dagoret/BPS_manyspectro_v51\", \n",
    " 20221212 :  \"u/dagoret/BPS_manyspectro_v52\",    \n",
    "    \n",
    " #January 2023 \n",
    " 20230117 :  \"u/dagoret/BPS_manyspectro_v79\", # no mount errors\n",
    " 20230118 :  \"u/dagoret/BPS_manyspectro_v80\", # no mount error\n",
    " 20230119 :  \"u/dagoret/BPS_manyspectro_v77\", # no mount errors\n",
    " 20230131 :  \"u/dagoret/BPS_manyspectro_v78\", # missing for moment\n",
    "\n",
    " #february 2023\n",
    " 20230214 :  \"u/dagoret/BPS_manyspectro_v42\",\n",
    " 20230215 :  \"u/dagoret/BPS_manyspectro_v43\", # mount errors\n",
    " 20230216 :  \"u/dagoret/BPS_manyspectro_v44\", # mount errors \n",
    " 20230228 :  \"u/dagoret/BPS_manyspectro_v70\",\n",
    "    \n",
    " #march 2023  \n",
    " 20230301 :  \"u/dagoret/BPS_manyspectro_v71\", \n",
    " 20230302 :  \"u/dagoret/BPS_manyspectro_v72\", \n",
    " 20230315 :  \"u/dagoret/BPS_manyspectro_v73\", \n",
    " 20230316 :  \"u/dagoret/BPS_manyspectro_v74\",    \n",
    "    \n",
    "}"
   ]
  },
  {
   "cell_type": "code",
   "execution_count": null,
   "id": "c1ffbd47-4cc9-4ef1-ab1c-6f477b8139bb",
   "metadata": {
    "tags": []
   },
   "outputs": [],
   "source": [
    "DATE = 20230316\n",
    "my_collection = DateToRuncollection[DATE]\n",
    "\n",
    "filterdispersername = \"empty~holo4_003\"\n",
    "\n",
    "RUNSELECTION = 20230330\n",
    "#RUNSELECTION = 20230403"
   ]
  },
  {
   "cell_type": "markdown",
   "id": "e5eef764-6dfc-469a-a11a-7184e0aeed06",
   "metadata": {},
   "source": [
    "# List of Dataset types avalaible in my collection"
   ]
  },
  {
   "cell_type": "markdown",
   "id": "1310d3a5-fc53-4db1-b56a-bf6f6e8eca60",
   "metadata": {},
   "source": [
    "## List of dataset types"
   ]
  },
  {
   "cell_type": "code",
   "execution_count": null,
   "id": "44be81c8-1a26-4e62-ac23-bfa9353206a0",
   "metadata": {
    "tags": []
   },
   "outputs": [],
   "source": [
    "list(registry.queryDatasetTypes(\"*spec*\"))"
   ]
  },
  {
   "cell_type": "markdown",
   "id": "1dc3ad38-178b-47c6-b989-442a8b91cf1b",
   "metadata": {},
   "source": [
    "## list of datasets"
   ]
  },
  {
   "cell_type": "code",
   "execution_count": null,
   "id": "fe033164-536b-4adf-94d8-0b59d81740ce",
   "metadata": {
    "tags": []
   },
   "outputs": [],
   "source": [
    "list(registry.queryDatasets(\"*spec*\", collections=[my_collection]))[:30]"
   ]
  },
  {
   "cell_type": "markdown",
   "id": "c30cd39d-0677-43f7-b043-c0b9ae126c73",
   "metadata": {},
   "source": [
    "### Spectractor"
   ]
  },
  {
   "cell_type": "code",
   "execution_count": null,
   "id": "1dc181f4-d44a-48c4-8e8a-86c35c0dcc98",
   "metadata": {
    "tags": []
   },
   "outputs": [],
   "source": [
    "configmode = \"PSF2DFFM_REBIN2\"\n",
    "#configmode = \"PSF2DFFM_REBIN1\"\n",
    "#ext=\"_b\"\n",
    "specver=\"specV2.4\""
   ]
  },
  {
   "cell_type": "markdown",
   "id": "740be8a3-fcd9-4f42-b0ec-8067ad2bc2ae",
   "metadata": {},
   "source": [
    "https://www.pythonforthelab.com/blog/how-to-use-hdf5-files-in-python/"
   ]
  },
  {
   "cell_type": "code",
   "execution_count": null,
   "id": "6c20db62-9cda-42c7-85e8-54e33404fc56",
   "metadata": {
    "tags": []
   },
   "outputs": [],
   "source": [
    "output_file_h5 = f\"allspectra_{DATE}-{filterdispersername}-{configmode}-{specver}-oga.hdf5\"\n",
    "input_summary_file = f\"fullsummaryspectra_{DATE}-{filterdispersername}-{configmode}-{specver}-oga.csv\""
   ]
  },
  {
   "cell_type": "markdown",
   "id": "20dbb8da-3a08-4b4f-9437-4bf7f28c1782",
   "metadata": {},
   "source": [
    "### The collection"
   ]
  },
  {
   "cell_type": "code",
   "execution_count": null,
   "id": "9629ea29-8ab4-4062-aed1-e16d62dc90c4",
   "metadata": {
    "tags": []
   },
   "outputs": [],
   "source": [
    "datasetRefs = registry.queryDatasets(datasetType='spectractorSpectrum', collections=my_collection, where= \"instrument='LATISS'\")"
   ]
  },
  {
   "cell_type": "code",
   "execution_count": null,
   "id": "2f008879-ecc4-4b86-9b24-0641fb4301cd",
   "metadata": {},
   "outputs": [],
   "source": [
    "# following line not possible in OGA\n",
    "#butler = butlerUtils.makeDefaultLatissButler(extraCollections=[my_collection])"
   ]
  },
  {
   "cell_type": "markdown",
   "id": "6b4f79ed-16d0-482e-b68d-81159466a969",
   "metadata": {},
   "source": [
    "## Read Mout Error summary file"
   ]
  },
  {
   "cell_type": "code",
   "execution_count": null,
   "id": "68381069-9717-4616-ae6c-f1e6561dbddf",
   "metadata": {
    "tags": []
   },
   "outputs": [],
   "source": [
    "if FLAG_MOUNT_ERRORS:\n",
    "    df_mounterrors = pd.read_csv(\"mountErrors.csv\")\n",
    "    df=df_mounterrors[df_mounterrors[\"date_obs\"] == DATE ]\n",
    "    if len(df) == 0:\n",
    "        FLAG_MOUNT_ERRORS = False\n",
    "        "
   ]
  },
  {
   "cell_type": "code",
   "execution_count": null,
   "id": "57d2853e-a6ab-4661-9792-cbea1c065980",
   "metadata": {
    "tags": []
   },
   "outputs": [],
   "source": [
    "df_mounterrors"
   ]
  },
  {
   "cell_type": "code",
   "execution_count": null,
   "id": "56e5ab5d-c872-4c1d-99f5-b8fe6ff2ebc9",
   "metadata": {
    "tags": []
   },
   "outputs": [],
   "source": [
    "df"
   ]
  },
  {
   "cell_type": "code",
   "execution_count": null,
   "id": "42077f4b-583a-4276-bc24-5e3d865318ce",
   "metadata": {},
   "outputs": [],
   "source": [
    "FLAG_MOUNT_ERRORS "
   ]
  },
  {
   "cell_type": "markdown",
   "id": "055dcbf3-62f0-4dbc-8c41-28a427136942",
   "metadata": {},
   "source": [
    "## Read full summary files"
   ]
  },
  {
   "cell_type": "code",
   "execution_count": null,
   "id": "1d23a0ea-024e-4621-bc49-8d96a41a35cd",
   "metadata": {},
   "outputs": [],
   "source": [
    "df_summary=pd.read_csv(input_summary_file,index_col=0)"
   ]
  },
  {
   "cell_type": "code",
   "execution_count": null,
   "id": "05b516d4-4545-4b87-8413-9e6a5a3899a9",
   "metadata": {},
   "outputs": [],
   "source": [
    "df_summary"
   ]
  },
  {
   "cell_type": "markdown",
   "id": "432e82a4-5617-48b3-a5bb-1f2c550c8525",
   "metadata": {},
   "source": [
    "## Loop on exposures"
   ]
  },
  {
   "cell_type": "code",
   "execution_count": null,
   "id": "72d890df-634d-4543-ba8e-c29c0621ac4d",
   "metadata": {
    "tags": []
   },
   "outputs": [],
   "source": [
    "#outfile.close()"
   ]
  },
  {
   "cell_type": "code",
   "execution_count": null,
   "id": "979b03d5-e54c-4d21-a848-98b820df1d16",
   "metadata": {
    "tags": []
   },
   "outputs": [],
   "source": [
    "all_dataId = []     # full data id\n",
    "all_spec = []       # spectra\n",
    "all_exposures = []  # exposure number\n",
    "all_num = []        # sequence numbers\n",
    "\n",
    "\n",
    "for i, ref in enumerate(datasetRefs):\n",
    "\n",
    "    print(f\"============= ({i}) ============datasetType = spectraction ============================================\")\n",
    "    print(\"fullId..................:\",ref.dataId.full)\n",
    "    print(\"visit...................:\",ref.dataId[\"visit\"])\n",
    "    print(\"band....................:\",ref.dataId[\"band\"])\n",
    "    print(\"physical filter.........:\",ref.dataId[\"physical_filter\"])\n",
    "    print(\"run.....................:\",ref.run)\n",
    "    \n",
    "    #through old runs\n",
    "    date_of_run = int(ref.run.split(\"/\")[-1].split(\"T\")[0])\n",
    "    if date_of_run< RUNSELECTION :\n",
    "        continue\n",
    " \n",
    "    \n",
    "    \n",
    "    the_exposure = ref.dataId[\"visit\"]\n",
    "    the_day_obs = ref.dataId[\"visit\"]//100_000\n",
    "    the_seq_num = ref.dataId[\"visit\"]- the_day_obs*100_000    \n",
    "    the_dataId = {'day_obs': the_day_obs,'seq_num':the_seq_num,'detector':0}\n",
    "    print(the_dataId)\n",
    "    \n",
    "    the_exposure_key = str(the_exposure)\n",
    "    \n",
    "    \n",
    "    \n",
    "    # retrieve the spectrum from Butler\n",
    "    #spec       = butler.get('spectraction',the_dataId)\n",
    "    spec = butler.get('spectractorSpectrum', visit=the_exposure, detector=0, collections=my_collection, instrument='LATISS')\n",
    "    \n",
    "    # save in collection lists\n",
    "    all_dataId.append(the_dataId) \n",
    "    all_exposures.append(the_exposure)\n",
    "    all_spec.append(spec)\n",
    "    all_num.append(the_seq_num)\n",
    "    "
   ]
  },
  {
   "cell_type": "code",
   "execution_count": null,
   "id": "1ddea0e5-5a36-401f-b65e-daeba4cb66eb",
   "metadata": {},
   "outputs": [],
   "source": [
    "index = 0\n",
    "\n",
    "spec = all_spec[index]"
   ]
  },
  {
   "cell_type": "code",
   "execution_count": null,
   "id": "06d66f9e-1bb1-43fe-aaba-64f699ea9ae3",
   "metadata": {},
   "outputs": [],
   "source": [
    "def DumpSpectrum(spec):\n",
    "    print(\"--------------------------------------------\")\n",
    "    print(\"spec.target.label\\t\",spec.target.label)\n",
    "    print(\"spec.filter_label\\t\",spec.filter_label)\n",
    "    print(\"spec.airmass\\t\",spec.airmass)\n",
    "    print(\"spec.date_obs\\t\",spec.date_obs)\n",
    "    print(\"spec.temperature\\t\",spec.temperature)\n",
    "    print(\"spec.pressure\\t\",spec.pressure)\n",
    "    print(\"spec.humidity\\t\",spec.humidity)    \n",
    "    #print(\"spec.ra\\t\",spec.ra)\n",
    "    print(\"spec.dec\\t\",spec.dec)\n",
    "    print(\"spec.hour_angle\\t\",spec.hour_angle)\n",
    "    print(\"spec.parallactic_angle\\t\",spec.parallactic_angle)\n",
    "    print(\"spec.camera_angle\\t\", spec.camera_angle)\n",
    "    print(\"--------------------------------------------\")\n",
    "    print(\"spec.order\\t\",spec.order)\n",
    "    print(\"spec.lambdas\\t\",spec.lambdas)\n",
    "    print(\"spec.data\\t\",spec.data)\n",
    "    print(\"spec.err\\t\",spec.err)\n",
    "    print(\"spec.covmatrix\\t\",spec.cov_matrix)\n",
    "    print(\"--------------------------------------------\")\n",
    "    print(\"spec.data_next_order\\t\",spec.data_next_order)\n",
    "    print(\"spec.err_next_order\\t\",spec.err_next_order)"
   ]
  },
  {
   "cell_type": "code",
   "execution_count": null,
   "id": "0ead2d71-32cc-4ab8-a87e-22c3bbe1fb77",
   "metadata": {
    "tags": []
   },
   "outputs": [],
   "source": [
    "DumpSpectrum(spec)"
   ]
  },
  {
   "cell_type": "markdown",
   "id": "f26b3f62-34f7-4cbd-bad4-c48be4e07ed9",
   "metadata": {},
   "source": [
    "## Plot"
   ]
  },
  {
   "cell_type": "code",
   "execution_count": null,
   "id": "dcfb74e3-7228-432c-8d9a-39266c6c2a25",
   "metadata": {},
   "outputs": [],
   "source": [
    "chi2_fit_max = 25\n",
    "chi2_fit_min = 0\n",
    "\n",
    "d2ccd_max = 188\n",
    "d2ccd_min = 186.6\n",
    "\n",
    "pixshift_max = 0.3\n",
    "pixshift_min = -0.3"
   ]
  },
  {
   "cell_type": "code",
   "execution_count": null,
   "id": "4ef5e5d3-f34f-4619-85aa-457aafc08411",
   "metadata": {},
   "outputs": [],
   "source": [
    "all_histnames = ['spec_header_chi2_fit','spec_header_d2ccd','spec_header_pixshift']\n",
    "all_histminval = [chi2_fit_min, d2ccd_min, pixshift_min ]\n",
    "all_histmaxval = [chi2_fit_max, d2ccd_max, pixshift_max ]"
   ]
  },
  {
   "cell_type": "code",
   "execution_count": null,
   "id": "4fea39ba-2f11-4a8a-9248-c37ce3e7c0f4",
   "metadata": {
    "tags": []
   },
   "outputs": [],
   "source": [
    "%matplotlib inline\n",
    "\n",
    "\n",
    "infos = []\n",
    "all_lambdas=[]\n",
    "all_data=[]\n",
    "all_data_err=[]\n",
    "\n",
    "\n",
    "idx=0\n",
    "for spec in all_spec:\n",
    "    \n",
    "    \n",
    "    #s=spec.spectrum\n",
    "    s=spec\n",
    "    \n",
    "    the_exposure = all_exposures[idx]\n",
    "    \n",
    "    label = str(idx) +\"):\" + str(all_exposures[idx])\n",
    "    \n",
    "    try:\n",
    "        fig=plt.figure(figsize=(16,8))\n",
    "    \n",
    "        ax1 = fig.add_subplot(3, 2, 1)\n",
    "        s.plot_spectrum(ax=ax1,force_lines=True,label=label)\n",
    "    \n",
    "        ax2 = fig.add_subplot(3, 2, 2)\n",
    "        s.plot_spectrogram(ax=ax2,scale=\"log\")\n",
    "    \n",
    "        all_lambdas.append(s.lambdas)\n",
    "        all_data.append(s.data)\n",
    "        all_data_err.append(s.err)\n",
    "        \n",
    "        \n",
    "        df_theexpo = df_summary[df_summary['exposure'] == the_exposure]\n",
    "        \n",
    "        ax3 = fig.add_subplot(3, 2, 3)\n",
    "        i=0\n",
    "        name = all_histnames[i]\n",
    "        nbins=50\n",
    "        values = df_summary[name].values\n",
    "        values0 = df_theexpo[name].values\n",
    "        ax3.hist(values,bins=nbins,facecolor=\"blue\")\n",
    "        ax3.hist(values0,bins=nbins,facecolor=\"red\")\n",
    "        ax3.set_title(name)\n",
    "        ax3.grid()\n",
    "        ax3.xaxis.set_minor_locator(tck.AutoMinorLocator())\n",
    "        ax3.axvline(all_histminval[i],color=\"g\")\n",
    "        ax3.axvline(all_histmaxval[i],color=\"g\")\n",
    "        ax3.axvline(values0[0],color=\"r\")\n",
    "        \n",
    "        ax4 = fig.add_subplot(3, 2, 4)\n",
    "        i=2\n",
    "        name = all_histnames[i]\n",
    "        nbins=50\n",
    "        values = df_summary[name].values\n",
    "        values0 = df_theexpo[name].values\n",
    "        ax4.hist(values,bins=nbins,facecolor=\"blue\")\n",
    "        ax4.hist(values0,bins=nbins,facecolor=\"red\")\n",
    "        ax4.set_title(name)\n",
    "        ax4.grid()\n",
    "        ax4.xaxis.set_minor_locator(tck.AutoMinorLocator())\n",
    "        ax4.axvline(all_histminval[i],color=\"g\")\n",
    "        ax4.axvline(all_histmaxval[i],color=\"g\")\n",
    "        ax4.axvline(values0[0],color=\"r\")\n",
    "        \n",
    "        \n",
    "        ax5 = fig.add_subplot(3, 2, 5)\n",
    "        i=1\n",
    "        name = all_histnames[i]\n",
    "        nbins=50\n",
    "        values = df_summary[name].values\n",
    "        values0 = df_theexpo[name].values\n",
    "        ax5.hist(values,bins=nbins,facecolor=\"blue\")\n",
    "        ax5.hist(values0,bins=nbins,facecolor=\"red\")\n",
    "        ax5.set_title(name)\n",
    "        ax5.grid()\n",
    "        ax5.xaxis.set_minor_locator(tck.AutoMinorLocator())\n",
    "        ax5.axvline(all_histminval[i],color=\"g\")\n",
    "        ax5.axvline(all_histmaxval[i],color=\"g\")\n",
    "        ax5.axvline(values0[0],color=\"r\")\n",
    "        \n",
    "        \n",
    "        ax6 = fig.add_subplot(3,2,6)\n",
    "        xpix=df_summary[\"spec_header_targetx\"].values\n",
    "        ypix=df_summary[\"spec_header_targety\"].values\n",
    "        xpix0=df_theexpo[\"spec_header_targetx\"].values\n",
    "        ypix0=df_theexpo[\"spec_header_targety\"].values\n",
    "        ax6.scatter(xpix,ypix,color=\"blue\",marker='+',s=20)\n",
    "        ax6.scatter(xpix0,ypix0,color=\"red\",marker='o',s=30)\n",
    "        ax6.set_xlabel(\"targetx\")\n",
    "        ax6.set_ylabel(\"targety\")\n",
    "        ax6.xaxis.set_minor_locator(tck.AutoMinorLocator())\n",
    "        ax6.yaxis.set_minor_locator(tck.AutoMinorLocator())\n",
    "        ax6.grid()\n",
    "        \n",
    "        plt.tight_layout()\n",
    "        \n",
    "    \n",
    "        \n",
    "            \n",
    "    except Exception as inst:\n",
    "        print(\" >>> Exception catched for \"+ label )\n",
    "        print(type(inst))    # the exception instance\n",
    "        print(inst.args)     # arguments stored in .args\n",
    "\n",
    "    \n",
    "    idx+=1"
   ]
  },
  {
   "cell_type": "code",
   "execution_count": null,
   "id": "7f5b23ab-1880-493a-9c3c-ff33e537764c",
   "metadata": {
    "tags": []
   },
   "outputs": [],
   "source": [
    "df_summary[['exposure','spec_header_chi2_fit','spec_header_d2ccd','spec_header_pixshift']].sort_values(by=\"exposure\")"
   ]
  },
  {
   "cell_type": "code",
   "execution_count": null,
   "id": "c0710b1a-4864-4118-acb0-16d8a41ac5bf",
   "metadata": {},
   "outputs": [],
   "source": []
  }
 ],
 "metadata": {
  "kernelspec": {
   "display_name": "LSST",
   "language": "python",
   "name": "lsst"
  },
  "language_info": {
   "codemirror_mode": {
    "name": "ipython",
    "version": 3
   },
   "file_extension": ".py",
   "mimetype": "text/x-python",
   "name": "python",
   "nbconvert_exporter": "python",
   "pygments_lexer": "ipython3",
   "version": "3.10.9"
  }
 },
 "nbformat": 4,
 "nbformat_minor": 5
}
