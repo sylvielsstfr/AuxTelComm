{
 "cells": [
  {
   "cell_type": "markdown",
   "id": "0b8c2138-5194-4d03-8b77-be24e2cc8ee3",
   "metadata": {},
   "source": [
    "# View  Spectraction Results in OGA"
   ]
  },
  {
   "cell_type": "markdown",
   "id": "740e34fb-3fef-45a8-941b-c229742ab016",
   "metadata": {},
   "source": [
    " work with Weakly_2023_11\n",
    "- use jupyter kernel LSST\n",
    "- author : Sylvie Dagoret-Campagne\n",
    "- affiliation : IJCLab\n",
    "- creation date : 2023/04/05\n",
    "- last update : 2023/04/05\n",
    "\n",
    "- Spectractor https://github.com/lsst/Spectractor/\n",
    "- Spectractor Version 2.4\n",
    "- branch lsst-dev\n",
    "- available in version w_2023_11 by default\n"
   ]
  },
  {
   "cell_type": "code",
   "execution_count": null,
   "id": "ed2c3410-fe83-432e-ab87-9f4513fa8d8b",
   "metadata": {
    "tags": []
   },
   "outputs": [],
   "source": [
    "! eups list -s | grep LOCAL"
   ]
  },
  {
   "cell_type": "code",
   "execution_count": null,
   "id": "70918d81-0cf6-4b0a-8f61-f5e5bec5b0e7",
   "metadata": {
    "tags": []
   },
   "outputs": [],
   "source": [
    "! eups list -s lsst_distrib"
   ]
  },
  {
   "cell_type": "code",
   "execution_count": null,
   "id": "e7e0ec91-3a48-47ea-b293-db233df2677e",
   "metadata": {
    "tags": []
   },
   "outputs": [],
   "source": [
    "import h5py"
   ]
  },
  {
   "cell_type": "code",
   "execution_count": null,
   "id": "f8d9cfca-5881-48c1-b2cb-0f794a2e4091",
   "metadata": {
    "tags": []
   },
   "outputs": [],
   "source": [
    "import lsst.daf.butler as dafButler\n",
    "#import lsst.summit.utils.butlerUtils as butlerUtils"
   ]
  },
  {
   "cell_type": "code",
   "execution_count": null,
   "id": "1ceacda9-20b0-4d77-a0d2-572c957ce273",
   "metadata": {
    "tags": []
   },
   "outputs": [],
   "source": [
    "import numpy as np\n",
    "import matplotlib.pyplot as plt\n",
    "%matplotlib inline\n",
    "from mpl_toolkits.axes_grid1 import make_axes_locatable\n",
    "from matplotlib.colors import LogNorm\n",
    "import pandas as pd\n",
    "\n",
    "import matplotlib.ticker                         # here's where the formatter is\n",
    "import os\n",
    "import re\n",
    "import pandas as pd\n",
    "\n",
    "plt.rcParams[\"figure.figsize\"] = (4,3)\n",
    "plt.rcParams[\"axes.labelsize\"] = 'xx-large'\n",
    "plt.rcParams['axes.titlesize'] = 'xx-large'\n",
    "plt.rcParams['xtick.labelsize']= 'xx-large'\n",
    "plt.rcParams['ytick.labelsize']= 'xx-large'\n",
    "plt.rcParams.update({'figure.max_open_warning': 0})"
   ]
  },
  {
   "cell_type": "code",
   "execution_count": null,
   "id": "769e12e6-917d-4722-8c1e-f965f13a8c64",
   "metadata": {
    "tags": []
   },
   "outputs": [],
   "source": [
    "import pickle"
   ]
  },
  {
   "cell_type": "code",
   "execution_count": null,
   "id": "75e20c79-7729-459b-a5e0-78d8de0c4d71",
   "metadata": {
    "tags": []
   },
   "outputs": [],
   "source": [
    "from astropy.time import Time\n",
    "import astropy.units as u"
   ]
  },
  {
   "cell_type": "markdown",
   "id": "c7e637b3-244b-4df3-9db2-3819e6321141",
   "metadata": {},
   "source": [
    "## Config"
   ]
  },
  {
   "cell_type": "code",
   "execution_count": null,
   "id": "ac51fd3d-4fd1-437a-99a9-3c33bcf3477a",
   "metadata": {},
   "outputs": [],
   "source": [
    "FLAG_MOUNT_ERRORS= True"
   ]
  },
  {
   "cell_type": "markdown",
   "id": "f311bc61-5eb2-40b2-ab20-8241ea599037",
   "metadata": {},
   "source": [
    "### Butler"
   ]
  },
  {
   "cell_type": "code",
   "execution_count": null,
   "id": "1c81d99a-5e91-4ba1-ba4a-c66b37905b98",
   "metadata": {
    "tags": []
   },
   "outputs": [],
   "source": [
    "#repo =  \"/sdf/group/rubin/repo/main\"\n",
    "#repo = \"/sdf/group/rubin/repo/oga/\"\n",
    "repo = \"/repo/embargo/\"\n",
    "butler = dafButler.Butler(repo)\n",
    "registry = butler.registry"
   ]
  },
  {
   "cell_type": "markdown",
   "id": "7fa31e20-40fb-498d-ad80-90ee20f619cd",
   "metadata": {},
   "source": [
    "### Date & Filter & Disperser & collection\n",
    "\n",
    "- make your choice"
   ]
  },
  {
   "cell_type": "code",
   "execution_count": null,
   "id": "d000a64c-3df6-434c-8d3e-a28cf52483be",
   "metadata": {},
   "outputs": [],
   "source": [
    "DateToRuncollection = {\n",
    "\n",
    " # september 2022\n",
    " 20220912 :  \"u/dagoret/BPS_manyspectro_v60\", # Missing collection\n",
    " 20220913 :  \"u/dagoret/BPS_manyspectro_v61\", # Missing collection\n",
    " 20220914 :  \"u/dagoret/BPS_manyspectro_v62\", # Missing collection  \n",
    "    \n",
    " 20220927 :  \"u/dagoret/BPS_manyspectro_v63\", # Mount errors available, mitigé\n",
    " 20220928 :  \"u/dagoret/BPS_manyspectro_v64\", # Mount errors available, very nice spectra\n",
    " 20220929 :  \"u/dagoret/BPS_manyspectro_v65\", # Mount errors available, very nice spectra\n",
    "    \n",
    "    \n",
    " # october 2022\n",
    " 20221012 :  \"u/dagoret/BPS_manyspectro_v56\", # mount errors , nice\n",
    " 20221025 :  \"u/dagoret/BPS_manyspectro_v57\", # mount errors, very bad spectra\n",
    " 20221026 :  \"u/dagoret/BPS_manyspectro_v58\", # mount errors,  nice spectra\n",
    " 20221027 :  \"u/dagoret/BPS_manyspectro_v59\", # mount errors,  nice spectra\n",
    "    \n",
    " # november 2022\n",
    " 20221109 :  \"u/dagoret/BPS_manyspectro_v53\", # nice\n",
    " 20221110 :  \"u/dagoret/BPS_manyspectro_v54\", # mount errors available, many bad rec spectra\n",
    " 20221123 :  \"u/dagoret/BPS_manyspectro_v55\", # mount errors , nice   \n",
    "    \n",
    " # december 2022   \n",
    " 20221207 :  \"u/dagoret/BPS_manyspectro_v48\",\n",
    " 20221208 :  \"u/dagoret/BPS_manyspectro_v49\",\n",
    " 20221209 :  \"u/dagoret/BPS_manyspectro_v50\", \n",
    " 20221210 :  \"u/dagoret/BPS_manyspectro_v51\", \n",
    " 20221212 :  \"u/dagoret/BPS_manyspectro_v52\",    \n",
    "    \n",
    " #January 2023 \n",
    " 20230117 :  \"u/dagoret/BPS_manyspectro_v79\", # no mount errors\n",
    " 20230118 :  \"u/dagoret/BPS_manyspectro_v80\", # no mount error\n",
    " 20230119 :  \"u/dagoret/BPS_manyspectro_v77\", # no mount errors\n",
    " 20230131 :  \"u/dagoret/BPS_manyspectro_v78\", # missing for moment\n",
    "\n",
    " #february 2023\n",
    " 20230214 :  \"u/dagoret/BPS_manyspectro_v42\",\n",
    " 20230215 :  \"u/dagoret/BPS_manyspectro_v43\", # mount errors\n",
    " 20230216 :  \"u/dagoret/BPS_manyspectro_v44\", # mount errors \n",
    " 20230228 :  \"u/dagoret/BPS_manyspectro_v70\",\n",
    "    \n",
    " #march 2023  \n",
    " 20230301 :  \"u/dagoret/BPS_manyspectro_v71\", \n",
    " 20230302 :  \"u/dagoret/BPS_manyspectro_v72\", \n",
    " 20230315 :  \"u/dagoret/BPS_manyspectro_v73\", # mount errors\n",
    " 20230316 :  \"u/dagoret/BPS_manyspectro_v74\", # mount errors   \n",
    "    \n",
    "}"
   ]
  },
  {
   "cell_type": "code",
   "execution_count": null,
   "id": "c1ffbd47-4cc9-4ef1-ab1c-6f477b8139bb",
   "metadata": {
    "tags": []
   },
   "outputs": [],
   "source": [
    "DATE = 20230316\n",
    "my_collection = DateToRuncollection[DATE]\n",
    "\n",
    "filterdispersername = \"empty~holo4_003\"\n",
    "\n",
    "RUNSELECTION = 20230330\n",
    "#RUNSELECTION = 20230403"
   ]
  },
  {
   "cell_type": "markdown",
   "id": "e5eef764-6dfc-469a-a11a-7184e0aeed06",
   "metadata": {},
   "source": [
    "# List of Dataset types avalaible in my collection"
   ]
  },
  {
   "cell_type": "markdown",
   "id": "1310d3a5-fc53-4db1-b56a-bf6f6e8eca60",
   "metadata": {},
   "source": [
    "## List of dataset types"
   ]
  },
  {
   "cell_type": "code",
   "execution_count": null,
   "id": "44be81c8-1a26-4e62-ac23-bfa9353206a0",
   "metadata": {
    "tags": []
   },
   "outputs": [],
   "source": [
    "list(registry.queryDatasetTypes(\"*spec*\"))"
   ]
  },
  {
   "cell_type": "markdown",
   "id": "1dc3ad38-178b-47c6-b989-442a8b91cf1b",
   "metadata": {},
   "source": [
    "## list of datasets"
   ]
  },
  {
   "cell_type": "code",
   "execution_count": null,
   "id": "fe033164-536b-4adf-94d8-0b59d81740ce",
   "metadata": {
    "tags": []
   },
   "outputs": [],
   "source": [
    "list(registry.queryDatasets(\"*spec*\", collections=[my_collection]))[:10]"
   ]
  },
  {
   "cell_type": "markdown",
   "id": "c30cd39d-0677-43f7-b043-c0b9ae126c73",
   "metadata": {},
   "source": [
    "### Spectractor"
   ]
  },
  {
   "cell_type": "code",
   "execution_count": null,
   "id": "1dc181f4-d44a-48c4-8e8a-86c35c0dcc98",
   "metadata": {
    "tags": []
   },
   "outputs": [],
   "source": [
    "configmode = \"PSF2DFFM_REBIN2\"\n",
    "#configmode = \"PSF2DFFM_REBIN1\"\n",
    "#ext=\"_b\"\n",
    "specver=\"specV2.4\""
   ]
  },
  {
   "cell_type": "markdown",
   "id": "740be8a3-fcd9-4f42-b0ec-8067ad2bc2ae",
   "metadata": {},
   "source": [
    "https://www.pythonforthelab.com/blog/how-to-use-hdf5-files-in-python/"
   ]
  },
  {
   "cell_type": "code",
   "execution_count": null,
   "id": "6c20db62-9cda-42c7-85e8-54e33404fc56",
   "metadata": {
    "tags": []
   },
   "outputs": [],
   "source": [
    "#summary_file = f\"summaryspectra_{DATE}-{filterdispersername}-{configmode}-oga.csv\"\n",
    "summary_file = f\"summaryspectra_{DATE}-{filterdispersername}-{configmode}-{specver}-oga.csv\"\n",
    "output_file_h5 = f\"allspectra_{DATE}-{filterdispersername}-{configmode}-{specver}-oga.hdf5\""
   ]
  },
  {
   "cell_type": "markdown",
   "id": "20dbb8da-3a08-4b4f-9437-4bf7f28c1782",
   "metadata": {},
   "source": [
    "### The collection"
   ]
  },
  {
   "cell_type": "code",
   "execution_count": null,
   "id": "9629ea29-8ab4-4062-aed1-e16d62dc90c4",
   "metadata": {
    "tags": []
   },
   "outputs": [],
   "source": [
    "datasetRefs = registry.queryDatasets(datasetType='spectractorSpectrum', collections=my_collection, where= \"instrument='LATISS'\")"
   ]
  },
  {
   "cell_type": "code",
   "execution_count": null,
   "id": "2f008879-ecc4-4b86-9b24-0641fb4301cd",
   "metadata": {},
   "outputs": [],
   "source": [
    "# following line not possible in OGA\n",
    "#butler = butlerUtils.makeDefaultLatissButler(extraCollections=[my_collection])"
   ]
  },
  {
   "cell_type": "code",
   "execution_count": null,
   "id": "68381069-9717-4616-ae6c-f1e6561dbddf",
   "metadata": {
    "tags": []
   },
   "outputs": [],
   "source": [
    "if FLAG_MOUNT_ERRORS:\n",
    "    df_mounterrors = pd.read_csv(\"mountErrors.csv\")\n",
    "    df=df_mounterrors[df_mounterrors[\"date_obs\"] == DATE ]\n",
    "    if len(df) == 0:\n",
    "        FLAG_MOUNT_ERRORS = False\n",
    "        "
   ]
  },
  {
   "cell_type": "code",
   "execution_count": null,
   "id": "57d2853e-a6ab-4661-9792-cbea1c065980",
   "metadata": {
    "tags": []
   },
   "outputs": [],
   "source": [
    "df_mounterrors"
   ]
  },
  {
   "cell_type": "code",
   "execution_count": null,
   "id": "56e5ab5d-c872-4c1d-99f5-b8fe6ff2ebc9",
   "metadata": {
    "tags": []
   },
   "outputs": [],
   "source": [
    "df"
   ]
  },
  {
   "cell_type": "code",
   "execution_count": null,
   "id": "42077f4b-583a-4276-bc24-5e3d865318ce",
   "metadata": {},
   "outputs": [],
   "source": [
    "FLAG_MOUNT_ERRORS "
   ]
  },
  {
   "cell_type": "markdown",
   "id": "432e82a4-5617-48b3-a5bb-1f2c550c8525",
   "metadata": {},
   "source": [
    "## Loop on exposures"
   ]
  },
  {
   "cell_type": "code",
   "execution_count": null,
   "id": "72d890df-634d-4543-ba8e-c29c0621ac4d",
   "metadata": {
    "tags": []
   },
   "outputs": [],
   "source": [
    "#outfile.close()"
   ]
  },
  {
   "cell_type": "code",
   "execution_count": null,
   "id": "979b03d5-e54c-4d21-a848-98b820df1d16",
   "metadata": {
    "tags": []
   },
   "outputs": [],
   "source": [
    "all_dataId = []     # full data id\n",
    "all_spec = []       # spectra\n",
    "all_exposures = []  # exposure number\n",
    "all_num = []        # sequence numbers\n",
    "all_h5group = []\n",
    "\n",
    "hf_outfile =  h5py.File(output_file_h5, 'w') \n",
    "  \n",
    "\n",
    "for i, ref in enumerate(datasetRefs):\n",
    "\n",
    "    print(f\"============= ({i}) ============datasetType = spectraction ============================================\")\n",
    "    print(\"fullId..................:\",ref.dataId.full)\n",
    "    print(\"visit...................:\",ref.dataId[\"visit\"])\n",
    "    print(\"band....................:\",ref.dataId[\"band\"])\n",
    "    print(\"physical filter.........:\",ref.dataId[\"physical_filter\"])\n",
    "    print(\"run.....................:\",ref.run)\n",
    "    \n",
    "    #through old runs\n",
    "    date_of_run = int(ref.run.split(\"/\")[-1].split(\"T\")[0])\n",
    "    if date_of_run< RUNSELECTION :\n",
    "        continue\n",
    " \n",
    "    \n",
    "    \n",
    "    the_exposure = ref.dataId[\"visit\"]\n",
    "    the_day_obs = ref.dataId[\"visit\"]//100_000\n",
    "    the_seq_num = ref.dataId[\"visit\"]- the_day_obs*100_000    \n",
    "    the_dataId = {'day_obs': the_day_obs,'seq_num':the_seq_num,'detector':0}\n",
    "    print(the_dataId)\n",
    "    \n",
    "    the_exposure_key = str(the_exposure)\n",
    "    \n",
    "    if the_exposure not in all_exposures:\n",
    "        g = hf_outfile.create_group(the_exposure_key)\n",
    "        all_h5group.append(g) \n",
    "    else:\n",
    "        print(f\">>>>>>  already existing key {the_exposure_key} Skip it !!! \")\n",
    "        the_exposure_key = the_exposure_key + \"_b\"\n",
    "        continue\n",
    "   \n",
    "    \n",
    "    # retrieve the spectrum from Butler\n",
    "    #spec       = butler.get('spectraction',the_dataId)\n",
    "    spec = butler.get('spectractorSpectrum', visit=the_exposure, detector=0, collections=my_collection, instrument='LATISS')\n",
    "    \n",
    "    # save in collection lists\n",
    "    all_dataId.append(the_dataId) \n",
    "    all_exposures.append(the_exposure)\n",
    "    all_spec.append(spec)\n",
    "    all_num.append(the_seq_num)\n",
    "    "
   ]
  },
  {
   "cell_type": "code",
   "execution_count": null,
   "id": "165ec0ab-fef7-4346-a1cf-28f4b59e5259",
   "metadata": {
    "tags": []
   },
   "outputs": [],
   "source": [
    "hf_outfile.keys()"
   ]
  },
  {
   "cell_type": "code",
   "execution_count": null,
   "id": "b0082a68-6a17-4de8-837b-b1986d3dd093",
   "metadata": {
    "tags": []
   },
   "outputs": [],
   "source": [
    "index = 0\n",
    "\n",
    "spec = all_spec[index]"
   ]
  },
  {
   "cell_type": "code",
   "execution_count": null,
   "id": "dabeb92d-e7ea-41bd-9afe-14f4ec4ca365",
   "metadata": {
    "tags": []
   },
   "outputs": [],
   "source": [
    "the_h5group = all_h5group[index] "
   ]
  },
  {
   "cell_type": "code",
   "execution_count": null,
   "id": "3cc31921-f813-4204-8efb-5d9cba13e785",
   "metadata": {},
   "outputs": [],
   "source": [
    "d = the_h5group.create_dataset('airmass', data=spec.airmass)"
   ]
  },
  {
   "cell_type": "code",
   "execution_count": null,
   "id": "24c8bcad-8c18-4936-b3d3-74acd63ad092",
   "metadata": {
    "tags": []
   },
   "outputs": [],
   "source": [
    "spec.airmass"
   ]
  },
  {
   "cell_type": "code",
   "execution_count": null,
   "id": "a3672116-7048-4d01-9623-b84dc877d2c3",
   "metadata": {
    "tags": []
   },
   "outputs": [],
   "source": [
    "spec.date_obs"
   ]
  },
  {
   "cell_type": "code",
   "execution_count": null,
   "id": "c512a035-04b0-44b4-926a-5c5e51c0dc3b",
   "metadata": {
    "tags": []
   },
   "outputs": [],
   "source": [
    "spec.cov_matrix.shape"
   ]
  },
  {
   "cell_type": "code",
   "execution_count": null,
   "id": "fa2be0b1-4419-470e-8fcb-02eeb06d7e76",
   "metadata": {
    "tags": []
   },
   "outputs": [],
   "source": [
    "spec.lambdas.shape"
   ]
  },
  {
   "cell_type": "code",
   "execution_count": null,
   "id": "dd649f12-094a-49d6-bbfd-0dc4074eed5e",
   "metadata": {
    "tags": []
   },
   "outputs": [],
   "source": [
    "spec.data_next_order.shape"
   ]
  },
  {
   "cell_type": "code",
   "execution_count": null,
   "id": "4eb86272-d1e8-4c47-b82b-5aab15071e2f",
   "metadata": {
    "tags": []
   },
   "outputs": [],
   "source": [
    "spec.chromatic_psf.load_table()"
   ]
  },
  {
   "cell_type": "code",
   "execution_count": null,
   "id": "a8e131a3-1693-4778-a078-c19775948182",
   "metadata": {
    "tags": []
   },
   "outputs": [],
   "source": [
    "spec.spectrogram_saturation"
   ]
  },
  {
   "cell_type": "code",
   "execution_count": null,
   "id": "a87120fc-75b7-4963-88b8-e498ec001488",
   "metadata": {},
   "outputs": [],
   "source": [
    "spec.chromatic_psf.plot_summary()"
   ]
  },
  {
   "cell_type": "code",
   "execution_count": null,
   "id": "cffbfd6f-7e3f-4e19-ba9d-c92b659fc2d9",
   "metadata": {
    "tags": []
   },
   "outputs": [],
   "source": [
    "def DumpSpectrum(spec):\n",
    "    print(\"--------------------------------------------\")\n",
    "    print(\"spec.target.label\\t\",spec.target.label)\n",
    "    print(\"spec.filter_label\\t\",spec.filter_label)\n",
    "    print(\"spec.airmass\\t\",spec.airmass)\n",
    "    print(\"spec.date_obs\\t\",spec.date_obs)\n",
    "    print(\"spec.temperature\\t\",spec.temperature)\n",
    "    print(\"spec.pressure\\t\",spec.pressure)\n",
    "    print(\"spec.humidity\\t\",spec.humidity)    \n",
    "    #print(\"spec.ra\\t\",spec.ra)\n",
    "    print(\"spec.dec\\t\",spec.dec)\n",
    "    print(\"spec.hour_angle\\t\",spec.hour_angle)\n",
    "    print(\"spec.parallactic_angle\\t\",spec.parallactic_angle)\n",
    "    print(\"spec.camera_angle\\t\", spec.camera_angle)\n",
    "    print(\"--------------------------------------------\")\n",
    "    print(\"spec.order\\t\",spec.order)\n",
    "    print(\"spec.lambdas\\t\",spec.lambdas)\n",
    "    print(\"spec.data\\t\",spec.data)\n",
    "    print(\"spec.err\\t\",spec.err)\n",
    "    print(\"spec.covmatrix\\t\",spec.cov_matrix)\n",
    "    print(\"--------------------------------------------\")\n",
    "    print(\"spec.data_next_order\\t\",spec.data_next_order)\n",
    "    print(\"spec.err_next_order\\t\",spec.err_next_order)"
   ]
  },
  {
   "cell_type": "code",
   "execution_count": null,
   "id": "e049465b-1a81-4514-967b-4fe85f3df9b0",
   "metadata": {
    "tags": []
   },
   "outputs": [],
   "source": [
    "def AddDataSetsInGroup(spec,h5group):\n",
    "  \n",
    "   \n",
    "    #spectrum\n",
    "\n",
    "    h5group.attrs['spec_target_label'] = spec.target.label\n",
    "    h5group.attrs['spec_filter_label'] = spec.filter_label\n",
    "    h5group.attrs[\"spec_date_obs\"] = spec.date_obs\n",
    "    h5group.attrs[\"spec_airmass\"] = spec.airmass \n",
    "    h5group.attrs[\"spec_temperature\"] = spec.temperature\n",
    "    h5group.attrs[\"spec_pressure\"] = spec.pressure\n",
    "    h5group.attrs[\"spec_humidity\"] = spec.humidity\n",
    "    h5group.attrs[\"spec_dec\"] = spec.dec\n",
    "    h5group.attrs[\"spec_hour_angle\"] = spec.hour_angle\n",
    "    h5group.attrs[\"spec_parallactic_angle\"] = spec.parallactic_angle\n",
    "    h5group.attrs[\"spec_camera_angle\"] = spec.camera_angle\n",
    "    h5group.attrs[\"spec_order\"] = spec.order\n",
    "    \n",
    "    \n",
    "    d = h5group.create_dataset(\"spec_lambdas\",data=spec.lambdas,compression=\"gzip\", compression_opts=9)\n",
    "    d = h5group.create_dataset(\"spec_data\",data=spec.data,compression=\"gzip\", compression_opts=9)\n",
    "    d = h5group.create_dataset(\"spec_err\",data=spec.err,compression=\"gzip\", compression_opts=9)\n",
    "    d = h5group.create_dataset(\"spec_covmatrix\",data=spec.cov_matrix,compression=\"gzip\", compression_opts=9)\n",
    "    d = h5group.create_dataset(\"spec_data_next_order\",data=spec.data_next_order,compression=\"gzip\", compression_opts=9)\n",
    "    d = h5group.create_dataset(\"spec_err_next_order\",data=spec.err_next_order,compression=\"gzip\", compression_opts=9)\n",
    "    \n",
    "    # spectrogram\n",
    "    \n",
    "    d = h5group.create_dataset(\"spec_spectrogram\",data=spec.spectrogram,compression=\"gzip\", compression_opts=9)\n",
    "    d = h5group.create_dataset(\"spec_spectrogram_bgd\",data=spec.spectrogram_bgd,compression=\"gzip\", compression_opts=9)\n",
    "    d = h5group.create_dataset(\"spec_spectrogram_bgd_rms\",data=spec.spectrogram_bgd_rms,compression=\"gzip\", compression_opts=9)\n",
    "    d = h5group.create_dataset(\"spec_spectrogram_err\",data=spec.spectrogram_err,compression=\"gzip\", compression_opts=9)\n",
    "    d = h5group.create_dataset(\"spec_spectrogram_residuals\",data=spec.spectrogram_residuals,compression=\"gzip\", compression_opts=9)\n",
    "    d = h5group.create_dataset(\"spec_spectrogram_fit\",data=spec.spectrogram_fit,compression=\"gzip\", compression_opts=9)\n",
    "    \n",
    "    \n",
    "    h5group.attrs[\"spec_spectrogram_x0\"]=spec.spectrogram_x0\n",
    "    h5group.attrs[\"spec_spectrogram_y0\"]=spec.spectrogram_y0\n",
    "    h5group.attrs[\"spec_spectrogram_xmin\"]=spec.spectrogram_xmin\n",
    "    h5group.attrs[\"spec_spectrogram_xmax\"]=spec.spectrogram_xmax\n",
    "    h5group.attrs[\"spec_spectrogram_ymin\"]=spec.spectrogram_ymin\n",
    "    h5group.attrs[\"spec_spectrogram_ymax\"]=spec.spectrogram_ymax\n",
    "    h5group.attrs[\"spec_spectrogram_deg\"]=spec.spectrogram_deg\n",
    "    h5group.attrs[\"spec_spectrogram_saturation\"]=spec.spectrogram_saturation      \n",
    "    h5group.attrs[\"spec_spectrogram_Nx\"]=spec.spectrogram_Nx\n",
    "    h5group.attrs[\"spec_spectrogram_Ny\"]=spec.spectrogram_Ny\n",
    "    \n",
    "    \n",
    "    # header\n",
    "    \n",
    "    h5group.attrs[\"spec_header_target\"]=spec.header[\"TARGET\"]\n",
    "    h5group.attrs[\"spec_header_redshift\"]=spec.header[\"REDSHIFT\"]\n",
    "    h5group.attrs['spec_header_grating']=spec.header[\"GRATING\"]\n",
    "    h5group.attrs[\"spec_header_rotangle\"]=spec.header[\"ROTANGLE\"]\n",
    "    h5group.attrs[\"spec_header_d2ccd\"]=spec.header[\"D2CCD\"]\n",
    "    h5group.attrs[\"spec_header_lshift\"]=spec.header[\"LSHIFT\"]\n",
    "    h5group.attrs[\"spec_header_parangle\"]=spec.header[\"PARANGLE\"]\n",
    "    h5group.attrs[\"spec_header_targetx\"]=spec.header[\"TARGETX\"]\n",
    "    h5group.attrs[\"spec_header_targety\"]=spec.header[\"TARGETY\"]\n",
    "    h5group.attrs[\"spec_header_lbda_ref\"]=spec.header[\"LBDA_REF\"]\n",
    "    h5group.attrs[\"spec_header_pixshift\"]=spec.header[\"PIXSHIFT\"]\n",
    "    h5group.attrs[\"spec_header_psf_reg\"]=spec.header[\"PSF_REG\"]\n",
    "    h5group.attrs[\"spec_header_trace_r\"]=spec.header[\"TRACE_R\"]   \n",
    "    h5group.attrs[\"spec_header_chi2_fit\"]=spec.header[\"CHI2_FIT\"]   \n",
    "    h5group.attrs[\"spec_header_a2_fit\"]=spec.header[\"A2_FIT\"]\n",
    "    h5group.attrs[\"spec_header_am_fit\"]=spec.header[\"AM_FIT\"]\n",
    "    h5group.attrs[\"spec_header_meanfwhm\"]=spec.header[\"MEANFWHM\"]\n",
    "    h5group.attrs[\"spec_header_version\"]=spec.header[\"VERSION\"]\n",
    "    h5group.attrs[\"spec_header_rebin\"]=spec.header[\"REBIN\"]\n",
    "    h5group.attrs['spec_header_date-obs']=spec.header[\"DATE-OBS\"]\n",
    "    h5group.attrs[\"spec_header_exptime\"]=spec.header[\"EXPTIME\"]\n",
    "    h5group.attrs[\"spec_header_airmass\"]=spec.header[\"AIRMASS\"] \n",
    "    h5group.attrs[\"spec_header_dec\"]=spec.header[\"DEC\"]\n",
    "    h5group.attrs[\"spec_header_ha\"]=spec.header[\"HA\"]\n",
    "    h5group.attrs[\"spec_header_outtemp\"]=spec.header[\"OUTTEMP\"] \n",
    "    h5group.attrs[\"spec_header_outpress\"]=spec.header[\"OUTPRESS\"] \n",
    "    h5group.attrs[\"spec_header_outhum\"]=spec.header[\"OUTHUM\"]\n",
    "    h5group.attrs[\"spec_header_filter\"]=spec.header[\"FILTER\"]\n",
    "    h5group.attrs[\"spec_header_cam_rot\"]=spec.header[\"CAM_ROT\"] \n",
    "    h5group.attrs[\"spec_header_s_x0\"]=spec.header[\"S_X0\"]\n",
    "    h5group.attrs[\"spec_header_s_y0\"]=spec.header[\"S_Y0\"]\n",
    "    h5group.attrs[\"spec_header_s_xmin\"]=spec.header[\"S_XMIN\"]      \n",
    "    h5group.attrs[\"spec_header_s_xmax\"]=spec.header[\"S_XMAX\"]                                               \n",
    "    h5group.attrs[\"spec_header_s_ymin\"]=spec.header[\"S_YMIN\"]      \n",
    "    h5group.attrs[\"spec_header_s_ymax\"]=spec.header[\"S_YMAX\"]                                                                                                                  \n",
    "    h5group.attrs[\"spec_header_s_nx\"]=spec.header[\"S_NX\"]\n",
    "    h5group.attrs[\"spec_header_s_ny\"]=spec.header[\"S_NY\"]   \n",
    "    h5group.attrs[\"spec_header_s_dec\"]=spec.header[\"S_DEG\"]  \n",
    "    h5group.attrs[\"spec_header_s_sat\"]=spec.header[\"S_SAT\"]      \n",
    "                                               \n",
    "    "
   ]
  },
  {
   "cell_type": "code",
   "execution_count": null,
   "id": "42631555-6e10-41aa-8619-7c8d3dcc068a",
   "metadata": {
    "tags": []
   },
   "outputs": [],
   "source": [
    "def AddMountErrorsInGroup(h5group,az_rms,el_rms,rot_rms,image_az_rms,image_el_rms,image_rot_rms):\n",
    "    h5group.attrs[\"me_az_rms\"]=az_rms\n",
    "    h5group.attrs[\"me_el_rms\"]=el_rms\n",
    "    h5group.attrs[\"me_rot_rms\"]=rot_rms\n",
    "    h5group.attrs[\"me_image_az_rms\"]=image_az_rms\n",
    "    h5group.attrs[\"me_image_el_rms\"]=image_el_rms\n",
    "    h5group.attrs[\"me_image_rot_rms\"]=image_rot_rms\n",
    "        "
   ]
  },
  {
   "cell_type": "code",
   "execution_count": null,
   "id": "9dd5a370-fb5c-47f5-b2ec-14c5dfed4475",
   "metadata": {},
   "outputs": [],
   "source": [
    "def AddDataSetsInGroupAndIndexExposure(spec,h5group,index,exposure):\n",
    "\n",
    "    h5group.attrs[\"index\"]=index\n",
    "    h5group.attrs[\"exposure\"]=exposure\n",
    "    \n",
    "    AddDataSetsInGroup(spec,h5group)"
   ]
  },
  {
   "cell_type": "code",
   "execution_count": null,
   "id": "0ead2d71-32cc-4ab8-a87e-22c3bbe1fb77",
   "metadata": {
    "tags": []
   },
   "outputs": [],
   "source": [
    "DumpSpectrum(spec)"
   ]
  },
  {
   "cell_type": "markdown",
   "id": "e47c7a2a-55a7-42e2-8c1b-a96f274bfbbb",
   "metadata": {},
   "source": [
    "# Save all spectra in a single file"
   ]
  },
  {
   "cell_type": "code",
   "execution_count": null,
   "id": "3a7aaa2f-e91f-418f-a2c5-62a065cc719f",
   "metadata": {
    "tags": []
   },
   "outputs": [],
   "source": [
    "exposures_sorted = np.sort(all_exposures)"
   ]
  },
  {
   "cell_type": "code",
   "execution_count": null,
   "id": "0588a8c4-a7e7-4f94-927c-30fde1122670",
   "metadata": {
    "tags": []
   },
   "outputs": [],
   "source": [
    "for idx,spec in enumerate(all_spec):   \n",
    "    the_exposure = all_exposures[idx]\n",
    "    the_sorted_index = np.where(exposures_sorted == the_exposure)[0][0]\n",
    "    AddDataSetsInGroupAndIndexExposure(spec,all_h5group[idx],the_sorted_index,the_exposure)\n",
    "    if FLAG_MOUNT_ERRORS:\n",
    "        df_exp_selected = df[df[\"exposure\"] == the_exposure]\n",
    "        N = len(df_exp_selected)\n",
    "        if (N)>0:\n",
    "            az_rms = df_exp_selected[\"az_rms\"].values[0]\n",
    "            el_rms = df_exp_selected[\"el_rms\"].values[0]\n",
    "            rot_rms = df_exp_selected[\"rot_rms\"].values[0]\n",
    "            image_az_rms = df_exp_selected[\"image_az_rms\"].values[0]\n",
    "            image_el_rms = df_exp_selected[\"image_el_rms\"].values[0]\n",
    "            image_rot_rms = df_exp_selected[\"image_rot_rms\"].values[0]\n",
    "            AddMountErrorsInGroup(all_h5group[idx],az_rms,el_rms,rot_rms,image_az_rms,image_el_rms,image_rot_rms)\n",
    "        else:\n",
    "            print(f\"No error mount for exposure {the_exposure}\")\n",
    "            "
   ]
  },
  {
   "cell_type": "code",
   "execution_count": null,
   "id": "34f6cfaf-6987-4574-bf5f-722fa9f5ca2e",
   "metadata": {},
   "outputs": [],
   "source": [
    "hf_outfile.keys()"
   ]
  },
  {
   "cell_type": "code",
   "execution_count": null,
   "id": "bdaeb3cf-3693-4103-8ccb-553587a5bf3c",
   "metadata": {
    "tags": []
   },
   "outputs": [],
   "source": [
    "# AddDataSetsInGroup(spec,the_h5group) \n",
    "#hf_outfile.close() "
   ]
  },
  {
   "cell_type": "markdown",
   "id": "f26b3f62-34f7-4cbd-bad4-c48be4e07ed9",
   "metadata": {},
   "source": [
    "## Plot"
   ]
  },
  {
   "cell_type": "code",
   "execution_count": null,
   "id": "4fea39ba-2f11-4a8a-9248-c37ce3e7c0f4",
   "metadata": {
    "tags": []
   },
   "outputs": [],
   "source": [
    "%matplotlib inline\n",
    "\n",
    "\n",
    "infos = []\n",
    "all_lambdas=[]\n",
    "all_data=[]\n",
    "all_data_err=[]\n",
    "\n",
    "\n",
    "idx=0\n",
    "for spec in all_spec:\n",
    "    \n",
    "    \n",
    "    #s=spec.spectrum\n",
    "    s=spec\n",
    "    the_exposure = all_exposures[idx]\n",
    "    label = str(idx) +\"):\" + str(the_exposure)\n",
    "    \n",
    "    group = hf_outfile.get(str(the_exposure))\n",
    "    airmass = group.attrs[\"spec_airmass\"]\n",
    "    \n",
    "    try:\n",
    "        fig=plt.figure(figsize=(16,4))\n",
    "        ax1 = fig.add_subplot(1, 2, 1)\n",
    "        s.plot_spectrum(ax=ax1,force_lines=True,label=label)\n",
    "    \n",
    "        ax2 = fig.add_subplot(1, 2, 2)\n",
    "        s.plot_spectrogram(ax=ax2,scale=\"log\")\n",
    "    \n",
    "        all_lambdas.append(s.lambdas)\n",
    "        all_data.append(s.data)\n",
    "        all_data_err.append(s.err)\n",
    "        \n",
    "        suptitle = f\"DATE {DATE} : exp {the_exposure}, airmass {airmass:.2f}\"\n",
    "        plt.suptitle(suptitle,fontsize=20)\n",
    "        plt.tight_layout()\n",
    "    \n",
    "        fig=plt.figure(figsize=(6,2))\n",
    "        ax1 = fig.add_subplot(1, 1, 1)\n",
    "        \n",
    "        lambdas_hf = np.array(group.get(\"spec_lambdas\"))\n",
    "        data_hf =  np.array(group.get(\"spec_data\"))\n",
    "        data_next_order_hf =  np.array(group.get(\"spec_data_next_order\"))\n",
    "        ax1.plot(lambdas_hf,data_hf,'b-')\n",
    "        ax1.plot(lambdas_hf,data_next_order_hf,'r-')\n",
    "        ax1.grid()\n",
    "        \n",
    "            \n",
    "    except Exception as inst:\n",
    "        print(\" >>> Exception catched for \"+ label )\n",
    "        print(type(inst))    # the exception instance\n",
    "        print(inst.args)     # arguments stored in .args\n",
    "\n",
    "    \n",
    "    idx+=1"
   ]
  },
  {
   "cell_type": "code",
   "execution_count": null,
   "id": "7f5b23ab-1880-493a-9c3c-ff33e537764c",
   "metadata": {},
   "outputs": [],
   "source": []
  }
 ],
 "metadata": {
  "kernelspec": {
   "display_name": "LSST",
   "language": "python",
   "name": "lsst"
  },
  "language_info": {
   "codemirror_mode": {
    "name": "ipython",
    "version": 3
   },
   "file_extension": ".py",
   "mimetype": "text/x-python",
   "name": "python",
   "nbconvert_exporter": "python",
   "pygments_lexer": "ipython3",
   "version": "3.10.9"
  }
 },
 "nbformat": 4,
 "nbformat_minor": 5
}
