{
 "cells": [
  {
   "cell_type": "markdown",
   "id": "97c67adf-4c11-4a58-a8cf-60bea4bd150f",
   "metadata": {},
   "source": [
    "# Analyse pandas files"
   ]
  },
  {
   "cell_type": "markdown",
   "id": "59427e72-8154-4552-a93c-50cafd91404f",
   "metadata": {
    "execution": {
     "iopub.execute_input": "2023-04-01T08:01:46.369871Z",
     "iopub.status.busy": "2023-04-01T08:01:46.369474Z",
     "iopub.status.idle": "2023-04-01T08:01:46.373157Z",
     "shell.execute_reply": "2023-04-01T08:01:46.372705Z",
     "shell.execute_reply.started": "2023-04-01T08:01:46.369851Z"
    }
   },
   "source": [
    "Purpose detection of bad files\n",
    "\n",
    "work with Weakly_2023_11\n",
    "- use jupyter kernel LSST\n",
    "- author : Sylvie Dagoret-Campagne\n",
    "- affiliation : IJCLab\n",
    "- creation date : 2023/04/04\n",
    "- last update : 2023/04/04\n"
   ]
  },
  {
   "cell_type": "code",
   "execution_count": 1,
   "id": "a088276b-550f-4b3d-8f54-65741072b965",
   "metadata": {
    "execution": {
     "iopub.execute_input": "2023-04-04T13:51:06.056912Z",
     "iopub.status.busy": "2023-04-04T13:51:06.056782Z",
     "iopub.status.idle": "2023-04-04T13:51:06.076041Z",
     "shell.execute_reply": "2023-04-04T13:51:06.075609Z",
     "shell.execute_reply.started": "2023-04-04T13:51:06.056899Z"
    },
    "tags": []
   },
   "outputs": [],
   "source": [
    "import h5py"
   ]
  },
  {
   "cell_type": "code",
   "execution_count": 2,
   "id": "4f0acd15-d669-462b-95fc-5ebf8caa5a36",
   "metadata": {
    "execution": {
     "iopub.execute_input": "2023-04-04T13:51:06.076775Z",
     "iopub.status.busy": "2023-04-04T13:51:06.076632Z",
     "iopub.status.idle": "2023-04-04T13:51:06.295826Z",
     "shell.execute_reply": "2023-04-04T13:51:06.295264Z",
     "shell.execute_reply.started": "2023-04-04T13:51:06.076761Z"
    },
    "tags": []
   },
   "outputs": [],
   "source": [
    "import numpy as np\n",
    "import matplotlib.pyplot as plt\n",
    "%matplotlib inline\n",
    "from mpl_toolkits.axes_grid1 import make_axes_locatable\n",
    "from matplotlib.colors import LogNorm\n",
    "import pandas as pd"
   ]
  },
  {
   "cell_type": "code",
   "execution_count": 3,
   "id": "a986036a-9690-4517-9fb8-4159802ebb8e",
   "metadata": {
    "execution": {
     "iopub.execute_input": "2023-04-04T13:51:06.296803Z",
     "iopub.status.busy": "2023-04-04T13:51:06.296527Z",
     "iopub.status.idle": "2023-04-04T13:51:06.299672Z",
     "shell.execute_reply": "2023-04-04T13:51:06.299248Z",
     "shell.execute_reply.started": "2023-04-04T13:51:06.296787Z"
    },
    "tags": []
   },
   "outputs": [],
   "source": [
    "import matplotlib.ticker                         # here's where the formatter is\n",
    "import os\n",
    "import re\n",
    "import pandas as pd\n",
    "\n",
    "plt.rcParams[\"figure.figsize\"] = (14,6)\n",
    "plt.rcParams[\"axes.labelsize\"] = 'xx-large'\n",
    "plt.rcParams['axes.titlesize'] = 'xx-large'\n",
    "plt.rcParams['xtick.labelsize']= 'xx-large'\n",
    "plt.rcParams['ytick.labelsize']= 'xx-large'"
   ]
  },
  {
   "cell_type": "code",
   "execution_count": 4,
   "id": "6e5c6311-2623-4a88-a17d-142786118b33",
   "metadata": {
    "execution": {
     "iopub.execute_input": "2023-04-04T13:51:06.300412Z",
     "iopub.status.busy": "2023-04-04T13:51:06.300275Z",
     "iopub.status.idle": "2023-04-04T13:51:06.303584Z",
     "shell.execute_reply": "2023-04-04T13:51:06.303144Z",
     "shell.execute_reply.started": "2023-04-04T13:51:06.300398Z"
    },
    "tags": []
   },
   "outputs": [],
   "source": [
    "from astropy.time import Time\n",
    "import astropy.units as u"
   ]
  },
  {
   "cell_type": "code",
   "execution_count": 5,
   "id": "1f6591c6-1df2-422e-b401-18991abe2b86",
   "metadata": {
    "execution": {
     "iopub.execute_input": "2023-04-04T13:51:06.304281Z",
     "iopub.status.busy": "2023-04-04T13:51:06.304152Z",
     "iopub.status.idle": "2023-04-04T13:51:06.308050Z",
     "shell.execute_reply": "2023-04-04T13:51:06.307645Z",
     "shell.execute_reply.started": "2023-04-04T13:51:06.304268Z"
    }
   },
   "outputs": [],
   "source": [
    "DateToRuncollection = {\n",
    "\n",
    " # september 2022\n",
    " 20220912 :  \"u/dagoret/BPS_manyspectro_v60\", # Missing collection\n",
    " 20220913 :  \"u/dagoret/BPS_manyspectro_v61\", # Missing collection\n",
    " 20220914 :  \"u/dagoret/BPS_manyspectro_v62\", # Missing collection  \n",
    " 20220927 :  \"u/dagoret/BPS_manyspectro_v63\", # Mount errors available, mitigé\n",
    " 20220928 :  \"u/dagoret/BPS_manyspectro_v64\", # Mount errors available, very nice spectra\n",
    " 20220929 :  \"u/dagoret/BPS_manyspectro_v65\", # Mount errors available, very nice spectra\n",
    "      \n",
    "    \n",
    " # october 2022\n",
    " 20221012 :  \"u/dagoret/BPS_manyspectro_v56\", # mount errors , nice\n",
    " 20221025 :  \"u/dagoret/BPS_manyspectro_v57\", # mount errors, very bad spectra\n",
    " 20221026 :  \"u/dagoret/BPS_manyspectro_v58\", # mount errors,  nice spectra\n",
    " 20221027 :  \"u/dagoret/BPS_manyspectro_v59\", # mount errors,  nice spectra\n",
    "    \n",
    " # november 2022\n",
    " 20221109 :  \"u/dagoret/BPS_manyspectro_v53\", # nice\n",
    " 20221110 :  \"u/dagoret/BPS_manyspectro_v54\", # mount errors available, many bad rec spectra\n",
    " 20221123 :  \"u/dagoret/BPS_manyspectro_v55\", # mount errors , nice   \n",
    "    \n",
    " # december 2022   \n",
    " 20221207 :  \"u/dagoret/BPS_manyspectro_v48\",\n",
    " 20221208 :  \"u/dagoret/BPS_manyspectro_v49\",\n",
    " 20221209 :  \"u/dagoret/BPS_manyspectro_v50\", \n",
    " 20221210 :  \"u/dagoret/BPS_manyspectro_v51\", \n",
    " 20221212 :  \"u/dagoret/BPS_manyspectro_v52\",    \n",
    "    \n",
    " #January 2023\n",
    " 20230117 :  \"u/dagoret/BPS_manyspectro_v79\", # no mount errors\n",
    " 20230118 :  \"u/dagoret/BPS_manyspectro_v80\", # no mount\n",
    " 20230119 :  \"u/dagoret/BPS_manyspectro_v77\", # missing for moment\n",
    " 20230131 :  \"u/dagoret/BPS_manyspectro_v78\", # missing for moment\n",
    "\n",
    "\n",
    " # february 2023\n",
    " 20230214 :  \"u/dagoret/BPS_manyspectro_v42\",\n",
    " 20230215 :  \"u/dagoret/BPS_manyspectro_v43\", # mount errors\n",
    " 20230216 :  \"u/dagoret/BPS_manyspectro_v44\", # mount errors \n",
    " 20230228 :  \"u/dagoret/BPS_manyspectro_v70\",   \n",
    " \n",
    " # march 2023  \n",
    " 20230301 :  \"u/dagoret/BPS_manyspectro_v71\", \n",
    " 20230302 :  \"u/dagoret/BPS_manyspectro_v72\", \n",
    " 20230315 :  \"u/dagoret/BPS_manyspectro_v73\", \n",
    " 20230316 :  \"u/dagoret/BPS_manyspectro_v74\",    \n",
    "    \n",
    "}"
   ]
  },
  {
   "cell_type": "code",
   "execution_count": 6,
   "id": "895b3b5d-32d0-4282-bfbb-1ee66db552af",
   "metadata": {
    "execution": {
     "iopub.execute_input": "2023-04-04T13:51:06.309550Z",
     "iopub.status.busy": "2023-04-04T13:51:06.309406Z",
     "iopub.status.idle": "2023-04-04T13:51:06.311758Z",
     "shell.execute_reply": "2023-04-04T13:51:06.311341Z",
     "shell.execute_reply.started": "2023-04-04T13:51:06.309537Z"
    },
    "tags": []
   },
   "outputs": [],
   "source": [
    "DATE = 20230315\n",
    "filterdispersername = \"empty~holo4_003\""
   ]
  },
  {
   "cell_type": "code",
   "execution_count": 7,
   "id": "3c65d410-6e46-43b9-9645-e69eff007b4c",
   "metadata": {
    "execution": {
     "iopub.execute_input": "2023-04-04T13:51:06.312434Z",
     "iopub.status.busy": "2023-04-04T13:51:06.312299Z",
     "iopub.status.idle": "2023-04-04T13:51:06.314628Z",
     "shell.execute_reply": "2023-04-04T13:51:06.314222Z",
     "shell.execute_reply.started": "2023-04-04T13:51:06.312421Z"
    },
    "tags": []
   },
   "outputs": [],
   "source": [
    "configmode = \"PSF2DFFM_REBIN2\"\n",
    "specver=\"specV2.4\""
   ]
  },
  {
   "cell_type": "code",
   "execution_count": 8,
   "id": "914cf4fe-a1fd-4900-8188-353f1659d290",
   "metadata": {
    "execution": {
     "iopub.execute_input": "2023-04-04T13:51:06.315461Z",
     "iopub.status.busy": "2023-04-04T13:51:06.315329Z",
     "iopub.status.idle": "2023-04-04T13:51:06.317988Z",
     "shell.execute_reply": "2023-04-04T13:51:06.317574Z",
     "shell.execute_reply.started": "2023-04-04T13:51:06.315447Z"
    },
    "tags": []
   },
   "outputs": [],
   "source": [
    "input_summary_file = f\"fullsummaryspectra_{DATE}-{filterdispersername}-{configmode}-{specver}-oga.csv\"\n",
    "input_file_h5 = f\"allspectra_{DATE}-{filterdispersername}-{configmode}-{specver}-oga.hdf5\""
   ]
  },
  {
   "cell_type": "code",
   "execution_count": 10,
   "id": "d0863517-3a80-4bf4-94d9-9ac62c454d83",
   "metadata": {
    "execution": {
     "iopub.execute_input": "2023-04-04T13:59:06.736549Z",
     "iopub.status.busy": "2023-04-04T13:59:06.736075Z",
     "iopub.status.idle": "2023-04-04T13:59:06.739501Z",
     "shell.execute_reply": "2023-04-04T13:59:06.739053Z",
     "shell.execute_reply.started": "2023-04-04T13:59:06.736530Z"
    }
   },
   "outputs": [
    {
     "data": {
      "text/plain": [
       "'fullsummaryspectra_20230315-empty~holo4_003-PSF2DFFM_REBIN2-specV2.4-oga.csv'"
      ]
     },
     "execution_count": 10,
     "metadata": {},
     "output_type": "execute_result"
    }
   ],
   "source": [
    "input_summary_file"
   ]
  },
  {
   "cell_type": "markdown",
   "id": "2e822782-05f7-4a15-b4b5-a7ac2de6c841",
   "metadata": {},
   "source": [
    "# Read pandas file"
   ]
  },
  {
   "cell_type": "code",
   "execution_count": 9,
   "id": "1def73cb-9b06-4415-a011-55093ef8d1ae",
   "metadata": {
    "execution": {
     "iopub.execute_input": "2023-04-04T13:51:06.318786Z",
     "iopub.status.busy": "2023-04-04T13:51:06.318651Z",
     "iopub.status.idle": "2023-04-04T13:51:06.682545Z",
     "shell.execute_reply": "2023-04-04T13:51:06.681657Z",
     "shell.execute_reply.started": "2023-04-04T13:51:06.318773Z"
    }
   },
   "outputs": [
    {
     "ename": "FileNotFoundError",
     "evalue": "[Errno 2] No such file or directory: 'fullsummaryspectra_20230315-empty~holo4_003-PSF2DFFM_REBIN2-specV2.4-oga.csv'",
     "output_type": "error",
     "traceback": [
      "\u001b[0;31m---------------------------------------------------------------------------\u001b[0m",
      "\u001b[0;31mFileNotFoundError\u001b[0m                         Traceback (most recent call last)",
      "Input \u001b[0;32mIn [9]\u001b[0m, in \u001b[0;36m<cell line: 1>\u001b[0;34m()\u001b[0m\n\u001b[0;32m----> 1\u001b[0m df\u001b[38;5;241m=\u001b[39m\u001b[43mpd\u001b[49m\u001b[38;5;241;43m.\u001b[39;49m\u001b[43mread_csv\u001b[49m\u001b[43m(\u001b[49m\u001b[43minput_summary_file\u001b[49m\u001b[43m)\u001b[49m\n",
      "File \u001b[0;32m/opt/lsst/software/stack/conda/miniconda3-py38_4.9.2/envs/lsst-scipipe-5.1.0/lib/python3.10/site-packages/pandas/util/_decorators.py:211\u001b[0m, in \u001b[0;36mdeprecate_kwarg.<locals>._deprecate_kwarg.<locals>.wrapper\u001b[0;34m(*args, **kwargs)\u001b[0m\n\u001b[1;32m    209\u001b[0m     \u001b[38;5;28;01melse\u001b[39;00m:\n\u001b[1;32m    210\u001b[0m         kwargs[new_arg_name] \u001b[38;5;241m=\u001b[39m new_arg_value\n\u001b[0;32m--> 211\u001b[0m \u001b[38;5;28;01mreturn\u001b[39;00m \u001b[43mfunc\u001b[49m\u001b[43m(\u001b[49m\u001b[38;5;241;43m*\u001b[39;49m\u001b[43margs\u001b[49m\u001b[43m,\u001b[49m\u001b[43m \u001b[49m\u001b[38;5;241;43m*\u001b[39;49m\u001b[38;5;241;43m*\u001b[39;49m\u001b[43mkwargs\u001b[49m\u001b[43m)\u001b[49m\n",
      "File \u001b[0;32m/opt/lsst/software/stack/conda/miniconda3-py38_4.9.2/envs/lsst-scipipe-5.1.0/lib/python3.10/site-packages/pandas/util/_decorators.py:331\u001b[0m, in \u001b[0;36mdeprecate_nonkeyword_arguments.<locals>.decorate.<locals>.wrapper\u001b[0;34m(*args, **kwargs)\u001b[0m\n\u001b[1;32m    325\u001b[0m \u001b[38;5;28;01mif\u001b[39;00m \u001b[38;5;28mlen\u001b[39m(args) \u001b[38;5;241m>\u001b[39m num_allow_args:\n\u001b[1;32m    326\u001b[0m     warnings\u001b[38;5;241m.\u001b[39mwarn(\n\u001b[1;32m    327\u001b[0m         msg\u001b[38;5;241m.\u001b[39mformat(arguments\u001b[38;5;241m=\u001b[39m_format_argument_list(allow_args)),\n\u001b[1;32m    328\u001b[0m         \u001b[38;5;167;01mFutureWarning\u001b[39;00m,\n\u001b[1;32m    329\u001b[0m         stacklevel\u001b[38;5;241m=\u001b[39mfind_stack_level(),\n\u001b[1;32m    330\u001b[0m     )\n\u001b[0;32m--> 331\u001b[0m \u001b[38;5;28;01mreturn\u001b[39;00m \u001b[43mfunc\u001b[49m\u001b[43m(\u001b[49m\u001b[38;5;241;43m*\u001b[39;49m\u001b[43margs\u001b[49m\u001b[43m,\u001b[49m\u001b[43m \u001b[49m\u001b[38;5;241;43m*\u001b[39;49m\u001b[38;5;241;43m*\u001b[39;49m\u001b[43mkwargs\u001b[49m\u001b[43m)\u001b[49m\n",
      "File \u001b[0;32m/opt/lsst/software/stack/conda/miniconda3-py38_4.9.2/envs/lsst-scipipe-5.1.0/lib/python3.10/site-packages/pandas/io/parsers/readers.py:950\u001b[0m, in \u001b[0;36mread_csv\u001b[0;34m(filepath_or_buffer, sep, delimiter, header, names, index_col, usecols, squeeze, prefix, mangle_dupe_cols, dtype, engine, converters, true_values, false_values, skipinitialspace, skiprows, skipfooter, nrows, na_values, keep_default_na, na_filter, verbose, skip_blank_lines, parse_dates, infer_datetime_format, keep_date_col, date_parser, dayfirst, cache_dates, iterator, chunksize, compression, thousands, decimal, lineterminator, quotechar, quoting, doublequote, escapechar, comment, encoding, encoding_errors, dialect, error_bad_lines, warn_bad_lines, on_bad_lines, delim_whitespace, low_memory, memory_map, float_precision, storage_options)\u001b[0m\n\u001b[1;32m    935\u001b[0m kwds_defaults \u001b[38;5;241m=\u001b[39m _refine_defaults_read(\n\u001b[1;32m    936\u001b[0m     dialect,\n\u001b[1;32m    937\u001b[0m     delimiter,\n\u001b[0;32m   (...)\u001b[0m\n\u001b[1;32m    946\u001b[0m     defaults\u001b[38;5;241m=\u001b[39m{\u001b[38;5;124m\"\u001b[39m\u001b[38;5;124mdelimiter\u001b[39m\u001b[38;5;124m\"\u001b[39m: \u001b[38;5;124m\"\u001b[39m\u001b[38;5;124m,\u001b[39m\u001b[38;5;124m\"\u001b[39m},\n\u001b[1;32m    947\u001b[0m )\n\u001b[1;32m    948\u001b[0m kwds\u001b[38;5;241m.\u001b[39mupdate(kwds_defaults)\n\u001b[0;32m--> 950\u001b[0m \u001b[38;5;28;01mreturn\u001b[39;00m \u001b[43m_read\u001b[49m\u001b[43m(\u001b[49m\u001b[43mfilepath_or_buffer\u001b[49m\u001b[43m,\u001b[49m\u001b[43m \u001b[49m\u001b[43mkwds\u001b[49m\u001b[43m)\u001b[49m\n",
      "File \u001b[0;32m/opt/lsst/software/stack/conda/miniconda3-py38_4.9.2/envs/lsst-scipipe-5.1.0/lib/python3.10/site-packages/pandas/io/parsers/readers.py:605\u001b[0m, in \u001b[0;36m_read\u001b[0;34m(filepath_or_buffer, kwds)\u001b[0m\n\u001b[1;32m    602\u001b[0m _validate_names(kwds\u001b[38;5;241m.\u001b[39mget(\u001b[38;5;124m\"\u001b[39m\u001b[38;5;124mnames\u001b[39m\u001b[38;5;124m\"\u001b[39m, \u001b[38;5;28;01mNone\u001b[39;00m))\n\u001b[1;32m    604\u001b[0m \u001b[38;5;66;03m# Create the parser.\u001b[39;00m\n\u001b[0;32m--> 605\u001b[0m parser \u001b[38;5;241m=\u001b[39m \u001b[43mTextFileReader\u001b[49m\u001b[43m(\u001b[49m\u001b[43mfilepath_or_buffer\u001b[49m\u001b[43m,\u001b[49m\u001b[43m \u001b[49m\u001b[38;5;241;43m*\u001b[39;49m\u001b[38;5;241;43m*\u001b[39;49m\u001b[43mkwds\u001b[49m\u001b[43m)\u001b[49m\n\u001b[1;32m    607\u001b[0m \u001b[38;5;28;01mif\u001b[39;00m chunksize \u001b[38;5;129;01mor\u001b[39;00m iterator:\n\u001b[1;32m    608\u001b[0m     \u001b[38;5;28;01mreturn\u001b[39;00m parser\n",
      "File \u001b[0;32m/opt/lsst/software/stack/conda/miniconda3-py38_4.9.2/envs/lsst-scipipe-5.1.0/lib/python3.10/site-packages/pandas/io/parsers/readers.py:1442\u001b[0m, in \u001b[0;36mTextFileReader.__init__\u001b[0;34m(self, f, engine, **kwds)\u001b[0m\n\u001b[1;32m   1439\u001b[0m     \u001b[38;5;28mself\u001b[39m\u001b[38;5;241m.\u001b[39moptions[\u001b[38;5;124m\"\u001b[39m\u001b[38;5;124mhas_index_names\u001b[39m\u001b[38;5;124m\"\u001b[39m] \u001b[38;5;241m=\u001b[39m kwds[\u001b[38;5;124m\"\u001b[39m\u001b[38;5;124mhas_index_names\u001b[39m\u001b[38;5;124m\"\u001b[39m]\n\u001b[1;32m   1441\u001b[0m \u001b[38;5;28mself\u001b[39m\u001b[38;5;241m.\u001b[39mhandles: IOHandles \u001b[38;5;241m|\u001b[39m \u001b[38;5;28;01mNone\u001b[39;00m \u001b[38;5;241m=\u001b[39m \u001b[38;5;28;01mNone\u001b[39;00m\n\u001b[0;32m-> 1442\u001b[0m \u001b[38;5;28mself\u001b[39m\u001b[38;5;241m.\u001b[39m_engine \u001b[38;5;241m=\u001b[39m \u001b[38;5;28;43mself\u001b[39;49m\u001b[38;5;241;43m.\u001b[39;49m\u001b[43m_make_engine\u001b[49m\u001b[43m(\u001b[49m\u001b[43mf\u001b[49m\u001b[43m,\u001b[49m\u001b[43m \u001b[49m\u001b[38;5;28;43mself\u001b[39;49m\u001b[38;5;241;43m.\u001b[39;49m\u001b[43mengine\u001b[49m\u001b[43m)\u001b[49m\n",
      "File \u001b[0;32m/opt/lsst/software/stack/conda/miniconda3-py38_4.9.2/envs/lsst-scipipe-5.1.0/lib/python3.10/site-packages/pandas/io/parsers/readers.py:1735\u001b[0m, in \u001b[0;36mTextFileReader._make_engine\u001b[0;34m(self, f, engine)\u001b[0m\n\u001b[1;32m   1733\u001b[0m     \u001b[38;5;28;01mif\u001b[39;00m \u001b[38;5;124m\"\u001b[39m\u001b[38;5;124mb\u001b[39m\u001b[38;5;124m\"\u001b[39m \u001b[38;5;129;01mnot\u001b[39;00m \u001b[38;5;129;01min\u001b[39;00m mode:\n\u001b[1;32m   1734\u001b[0m         mode \u001b[38;5;241m+\u001b[39m\u001b[38;5;241m=\u001b[39m \u001b[38;5;124m\"\u001b[39m\u001b[38;5;124mb\u001b[39m\u001b[38;5;124m\"\u001b[39m\n\u001b[0;32m-> 1735\u001b[0m \u001b[38;5;28mself\u001b[39m\u001b[38;5;241m.\u001b[39mhandles \u001b[38;5;241m=\u001b[39m \u001b[43mget_handle\u001b[49m\u001b[43m(\u001b[49m\n\u001b[1;32m   1736\u001b[0m \u001b[43m    \u001b[49m\u001b[43mf\u001b[49m\u001b[43m,\u001b[49m\n\u001b[1;32m   1737\u001b[0m \u001b[43m    \u001b[49m\u001b[43mmode\u001b[49m\u001b[43m,\u001b[49m\n\u001b[1;32m   1738\u001b[0m \u001b[43m    \u001b[49m\u001b[43mencoding\u001b[49m\u001b[38;5;241;43m=\u001b[39;49m\u001b[38;5;28;43mself\u001b[39;49m\u001b[38;5;241;43m.\u001b[39;49m\u001b[43moptions\u001b[49m\u001b[38;5;241;43m.\u001b[39;49m\u001b[43mget\u001b[49m\u001b[43m(\u001b[49m\u001b[38;5;124;43m\"\u001b[39;49m\u001b[38;5;124;43mencoding\u001b[39;49m\u001b[38;5;124;43m\"\u001b[39;49m\u001b[43m,\u001b[49m\u001b[43m \u001b[49m\u001b[38;5;28;43;01mNone\u001b[39;49;00m\u001b[43m)\u001b[49m\u001b[43m,\u001b[49m\n\u001b[1;32m   1739\u001b[0m \u001b[43m    \u001b[49m\u001b[43mcompression\u001b[49m\u001b[38;5;241;43m=\u001b[39;49m\u001b[38;5;28;43mself\u001b[39;49m\u001b[38;5;241;43m.\u001b[39;49m\u001b[43moptions\u001b[49m\u001b[38;5;241;43m.\u001b[39;49m\u001b[43mget\u001b[49m\u001b[43m(\u001b[49m\u001b[38;5;124;43m\"\u001b[39;49m\u001b[38;5;124;43mcompression\u001b[39;49m\u001b[38;5;124;43m\"\u001b[39;49m\u001b[43m,\u001b[49m\u001b[43m \u001b[49m\u001b[38;5;28;43;01mNone\u001b[39;49;00m\u001b[43m)\u001b[49m\u001b[43m,\u001b[49m\n\u001b[1;32m   1740\u001b[0m \u001b[43m    \u001b[49m\u001b[43mmemory_map\u001b[49m\u001b[38;5;241;43m=\u001b[39;49m\u001b[38;5;28;43mself\u001b[39;49m\u001b[38;5;241;43m.\u001b[39;49m\u001b[43moptions\u001b[49m\u001b[38;5;241;43m.\u001b[39;49m\u001b[43mget\u001b[49m\u001b[43m(\u001b[49m\u001b[38;5;124;43m\"\u001b[39;49m\u001b[38;5;124;43mmemory_map\u001b[39;49m\u001b[38;5;124;43m\"\u001b[39;49m\u001b[43m,\u001b[49m\u001b[43m \u001b[49m\u001b[38;5;28;43;01mFalse\u001b[39;49;00m\u001b[43m)\u001b[49m\u001b[43m,\u001b[49m\n\u001b[1;32m   1741\u001b[0m \u001b[43m    \u001b[49m\u001b[43mis_text\u001b[49m\u001b[38;5;241;43m=\u001b[39;49m\u001b[43mis_text\u001b[49m\u001b[43m,\u001b[49m\n\u001b[1;32m   1742\u001b[0m \u001b[43m    \u001b[49m\u001b[43merrors\u001b[49m\u001b[38;5;241;43m=\u001b[39;49m\u001b[38;5;28;43mself\u001b[39;49m\u001b[38;5;241;43m.\u001b[39;49m\u001b[43moptions\u001b[49m\u001b[38;5;241;43m.\u001b[39;49m\u001b[43mget\u001b[49m\u001b[43m(\u001b[49m\u001b[38;5;124;43m\"\u001b[39;49m\u001b[38;5;124;43mencoding_errors\u001b[39;49m\u001b[38;5;124;43m\"\u001b[39;49m\u001b[43m,\u001b[49m\u001b[43m \u001b[49m\u001b[38;5;124;43m\"\u001b[39;49m\u001b[38;5;124;43mstrict\u001b[39;49m\u001b[38;5;124;43m\"\u001b[39;49m\u001b[43m)\u001b[49m\u001b[43m,\u001b[49m\n\u001b[1;32m   1743\u001b[0m \u001b[43m    \u001b[49m\u001b[43mstorage_options\u001b[49m\u001b[38;5;241;43m=\u001b[39;49m\u001b[38;5;28;43mself\u001b[39;49m\u001b[38;5;241;43m.\u001b[39;49m\u001b[43moptions\u001b[49m\u001b[38;5;241;43m.\u001b[39;49m\u001b[43mget\u001b[49m\u001b[43m(\u001b[49m\u001b[38;5;124;43m\"\u001b[39;49m\u001b[38;5;124;43mstorage_options\u001b[39;49m\u001b[38;5;124;43m\"\u001b[39;49m\u001b[43m,\u001b[49m\u001b[43m \u001b[49m\u001b[38;5;28;43;01mNone\u001b[39;49;00m\u001b[43m)\u001b[49m\u001b[43m,\u001b[49m\n\u001b[1;32m   1744\u001b[0m \u001b[43m\u001b[49m\u001b[43m)\u001b[49m\n\u001b[1;32m   1745\u001b[0m \u001b[38;5;28;01massert\u001b[39;00m \u001b[38;5;28mself\u001b[39m\u001b[38;5;241m.\u001b[39mhandles \u001b[38;5;129;01mis\u001b[39;00m \u001b[38;5;129;01mnot\u001b[39;00m \u001b[38;5;28;01mNone\u001b[39;00m\n\u001b[1;32m   1746\u001b[0m f \u001b[38;5;241m=\u001b[39m \u001b[38;5;28mself\u001b[39m\u001b[38;5;241m.\u001b[39mhandles\u001b[38;5;241m.\u001b[39mhandle\n",
      "File \u001b[0;32m/opt/lsst/software/stack/conda/miniconda3-py38_4.9.2/envs/lsst-scipipe-5.1.0/lib/python3.10/site-packages/pandas/io/common.py:856\u001b[0m, in \u001b[0;36mget_handle\u001b[0;34m(path_or_buf, mode, encoding, compression, memory_map, is_text, errors, storage_options)\u001b[0m\n\u001b[1;32m    851\u001b[0m \u001b[38;5;28;01melif\u001b[39;00m \u001b[38;5;28misinstance\u001b[39m(handle, \u001b[38;5;28mstr\u001b[39m):\n\u001b[1;32m    852\u001b[0m     \u001b[38;5;66;03m# Check whether the filename is to be opened in binary mode.\u001b[39;00m\n\u001b[1;32m    853\u001b[0m     \u001b[38;5;66;03m# Binary mode does not support 'encoding' and 'newline'.\u001b[39;00m\n\u001b[1;32m    854\u001b[0m     \u001b[38;5;28;01mif\u001b[39;00m ioargs\u001b[38;5;241m.\u001b[39mencoding \u001b[38;5;129;01mand\u001b[39;00m \u001b[38;5;124m\"\u001b[39m\u001b[38;5;124mb\u001b[39m\u001b[38;5;124m\"\u001b[39m \u001b[38;5;129;01mnot\u001b[39;00m \u001b[38;5;129;01min\u001b[39;00m ioargs\u001b[38;5;241m.\u001b[39mmode:\n\u001b[1;32m    855\u001b[0m         \u001b[38;5;66;03m# Encoding\u001b[39;00m\n\u001b[0;32m--> 856\u001b[0m         handle \u001b[38;5;241m=\u001b[39m \u001b[38;5;28;43mopen\u001b[39;49m\u001b[43m(\u001b[49m\n\u001b[1;32m    857\u001b[0m \u001b[43m            \u001b[49m\u001b[43mhandle\u001b[49m\u001b[43m,\u001b[49m\n\u001b[1;32m    858\u001b[0m \u001b[43m            \u001b[49m\u001b[43mioargs\u001b[49m\u001b[38;5;241;43m.\u001b[39;49m\u001b[43mmode\u001b[49m\u001b[43m,\u001b[49m\n\u001b[1;32m    859\u001b[0m \u001b[43m            \u001b[49m\u001b[43mencoding\u001b[49m\u001b[38;5;241;43m=\u001b[39;49m\u001b[43mioargs\u001b[49m\u001b[38;5;241;43m.\u001b[39;49m\u001b[43mencoding\u001b[49m\u001b[43m,\u001b[49m\n\u001b[1;32m    860\u001b[0m \u001b[43m            \u001b[49m\u001b[43merrors\u001b[49m\u001b[38;5;241;43m=\u001b[39;49m\u001b[43merrors\u001b[49m\u001b[43m,\u001b[49m\n\u001b[1;32m    861\u001b[0m \u001b[43m            \u001b[49m\u001b[43mnewline\u001b[49m\u001b[38;5;241;43m=\u001b[39;49m\u001b[38;5;124;43m\"\u001b[39;49m\u001b[38;5;124;43m\"\u001b[39;49m\u001b[43m,\u001b[49m\n\u001b[1;32m    862\u001b[0m \u001b[43m        \u001b[49m\u001b[43m)\u001b[49m\n\u001b[1;32m    863\u001b[0m     \u001b[38;5;28;01melse\u001b[39;00m:\n\u001b[1;32m    864\u001b[0m         \u001b[38;5;66;03m# Binary mode\u001b[39;00m\n\u001b[1;32m    865\u001b[0m         handle \u001b[38;5;241m=\u001b[39m \u001b[38;5;28mopen\u001b[39m(handle, ioargs\u001b[38;5;241m.\u001b[39mmode)\n",
      "\u001b[0;31mFileNotFoundError\u001b[0m: [Errno 2] No such file or directory: 'fullsummaryspectra_20230315-empty~holo4_003-PSF2DFFM_REBIN2-specV2.4-oga.csv'"
     ]
    }
   ],
   "source": [
    "df=pd.read_csv(input_summary_file)"
   ]
  },
  {
   "cell_type": "code",
   "execution_count": null,
   "id": "8def8de8-9d43-4508-96c9-d307cd9a36d3",
   "metadata": {
    "execution": {
     "iopub.status.busy": "2023-04-04T13:51:06.683094Z",
     "iopub.status.idle": "2023-04-04T13:51:06.683286Z",
     "shell.execute_reply": "2023-04-04T13:51:06.683195Z",
     "shell.execute_reply.started": "2023-04-04T13:51:06.683185Z"
    },
    "tags": []
   },
   "outputs": [],
   "source": [
    "df"
   ]
  }
 ],
 "metadata": {
  "kernelspec": {
   "display_name": "LSST",
   "language": "python",
   "name": "lsst"
  },
  "language_info": {
   "codemirror_mode": {
    "name": "ipython",
    "version": 3
   },
   "file_extension": ".py",
   "mimetype": "text/x-python",
   "name": "python",
   "nbconvert_exporter": "python",
   "pygments_lexer": "ipython3",
   "version": "3.10.9"
  }
 },
 "nbformat": 4,
 "nbformat_minor": 5
}
