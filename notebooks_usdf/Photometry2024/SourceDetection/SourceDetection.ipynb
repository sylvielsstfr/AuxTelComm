{
 "cells": [
  {
   "cell_type": "markdown",
   "id": "f53c3e61-2189-4af6-8593-0e724600cdd0",
   "metadata": {
    "execution": {
     "iopub.execute_input": "2024-01-07T20:05:12.746642Z",
     "iopub.status.busy": "2024-01-07T20:05:12.746297Z",
     "iopub.status.idle": "2024-01-07T20:05:12.749159Z",
     "shell.execute_reply": "2024-01-07T20:05:12.748691Z",
     "shell.execute_reply.started": "2024-01-07T20:05:12.746625Z"
    }
   },
   "source": [
    "# Source Detection"
   ]
  },
  {
   "cell_type": "markdown",
   "id": "5cf5ce82-2d81-47bd-938e-c71e490518e7",
   "metadata": {},
   "source": [
    " work with Weakly_2023_44\n",
    "- use jupyter kernel LSST\n",
    "- author : Sylvie Dagoret-Campagne\n",
    "- affiliation : IJCLab\n",
    "- creation date : 2024/01/07\n",
    "- update : 2024/01/09\n"
   ]
  },
  {
   "cell_type": "code",
   "execution_count": null,
   "id": "3d6a5bce-1c9b-4e16-8d0e-c6472c42f8a9",
   "metadata": {},
   "outputs": [],
   "source": [
    "# General python packages\n",
    "import matplotlib.pyplot as plt\n",
    "from mpl_toolkits.axes_grid1 import make_axes_locatable\n",
    "\n",
    "# LSST Science Pipeline packages (see pipelines.lsst.io)\n",
    "import lsst.daf.base as dafBase\n",
    "from lsst.daf.butler import Butler\n",
    "import lsst.afw.image as afwImage\n",
    "import lsst.afw.display as afwDisplay\n",
    "import lsst.afw.table as afwTable\n",
    "import lsst.geom as geom\n",
    "\n",
    "# Pipeline tasks\n",
    "from lsst.pipe.tasks.characterizeImage import CharacterizeImageTask\n",
    "from lsst.meas.algorithms.detection import SourceDetectionTask\n",
    "from lsst.meas.deblender import SourceDeblendTask\n",
    "from lsst.meas.base import SingleFrameMeasurementTask"
   ]
  },
  {
   "cell_type": "code",
   "execution_count": null,
   "id": "1b3bb802-1827-403b-9fac-1a958ee8eed4",
   "metadata": {},
   "outputs": [],
   "source": [
    "import numpy as np\n",
    "import matplotlib.pyplot as plt\n",
    "%matplotlib inline\n",
    "from mpl_toolkits.axes_grid1 import make_axes_locatable\n",
    "from matplotlib.colors import LogNorm,SymLogNorm\n",
    "\n",
    "\n",
    "import matplotlib.ticker                         # here's where the formatter is\n",
    "from matplotlib.ticker import (MultipleLocator, FormatStrFormatter,\n",
    "                               AutoMinorLocator)\n",
    "\n",
    "from astropy.visualization import (MinMaxInterval, SqrtStretch,ZScaleInterval,PercentileInterval,\n",
    "                                   ImageNormalize,imshow_norm)\n",
    "from astropy.visualization.stretch import SinhStretch, LinearStretch,AsinhStretch,LogStretch\n",
    "\n",
    "from astropy.io import fits\n",
    "\n",
    "import pandas as pd\n",
    "\n",
    "import matplotlib.ticker                         # here's where the formatter is\n",
    "import os\n",
    "import re\n",
    "import pandas as pd\n",
    "import pickle\n",
    "\n",
    "plt.rcParams[\"figure.figsize\"] = (12,12)\n",
    "plt.rcParams[\"axes.labelsize\"] = 'xx-large'\n",
    "plt.rcParams['axes.titlesize'] = 'xx-large'\n",
    "plt.rcParams['xtick.labelsize']= 'xx-large'\n",
    "plt.rcParams['ytick.labelsize']= 'xx-large'"
   ]
  },
  {
   "cell_type": "code",
   "execution_count": null,
   "id": "ee1d565b-78fb-4d4b-a499-d32ea1671889",
   "metadata": {},
   "outputs": [],
   "source": [
    "from matplotlib.ticker import (MultipleLocator, FormatStrFormatter,\n",
    "                               AutoMinorLocator)\n",
    "\n",
    "from astropy.visualization import (MinMaxInterval, SqrtStretch,ZScaleInterval,PercentileInterval,\n",
    "                                   ImageNormalize,imshow_norm)\n",
    "from astropy.visualization.stretch import SinhStretch, LinearStretch,AsinhStretch,LogStretch\n",
    "\n",
    "from astropy.time import Time\n"
   ]
  },
  {
   "cell_type": "code",
   "execution_count": null,
   "id": "f8d3a4f5-e0e4-4a2f-b440-7aafa071eb39",
   "metadata": {},
   "outputs": [],
   "source": [
    "def convert_fluxtomag(x) :\n",
    "    \"\"\"\n",
    "    The object and source catalogs store only fluxes. There are hundreds of flux-related columns, \n",
    "    and to store them also as magnitudes would be redundant, and a waste of space.\n",
    "    All flux units are nanojanskys. The AB Magnitudes Wikipedia page provides a concise resource \n",
    "    for users unfamiliar with AB magnitudes and jansky fluxes. To convert to AB magnitudes use:\n",
    "    As demonstrated in Section 2.3.2, to add columns of magnitudes after retrieving columns of flux, users can do this:\n",
    "    results_table['r_calibMag'] = -2.50 * numpy.log10(results_table['r_calibFlux']) + 31.4\n",
    "    results_table['r_cModelMag'] = -2.50 * numpy.log10(results_table['r_cModelFlux']) + 31.4\n",
    "    (from DP0 tutorial)\n",
    "    \"\"\"\n",
    "    return -2.50 * np.log10(x) + 31.4"
   ]
  },
  {
   "cell_type": "markdown",
   "id": "ae48a04b-7b58-4563-9962-4b3ced21d908",
   "metadata": {},
   "source": [
    "https://matplotlib.org/stable/users/explain/colors/colormaps.html"
   ]
  },
  {
   "cell_type": "code",
   "execution_count": null,
   "id": "5f9186cd-352f-42ad-9990-e53a3e722e38",
   "metadata": {},
   "outputs": [],
   "source": [
    "# LSST Display\n",
    "#tableau-colorblind10: #006BA4, #FF800E, #ABABAB, #595959, #5F9ED1, #C85200, #898989, #A2C8EC, #FFBC79, #CFCFCF\n",
    "plt.style.use('tableau-colorblind10')\n",
    "the_tableau_blindcolors10 = plt.rcParams['axes.prop_cycle'].by_key()['color'] \n",
    "afwDisplay.setDefaultBackend('matplotlib')\n",
    "plt.rcParams['figure.figsize'] = (8.0, 8.0)"
   ]
  },
  {
   "cell_type": "code",
   "execution_count": null,
   "id": "cd63dcc8-19b0-40e6-ac74-6a3a0458365d",
   "metadata": {},
   "outputs": [],
   "source": [
    "print(\"the_tableau_blindcolors10 = \", the_tableau_blindcolors10)"
   ]
  },
  {
   "cell_type": "code",
   "execution_count": null,
   "id": "fe750696-4fcf-4e64-b155-717ccb12ca6b",
   "metadata": {},
   "outputs": [],
   "source": [
    "from matplotlib.colors import LinearSegmentedColormap\n",
    "import matplotlib.colors\n",
    "\n",
    "rgb_colorsList = [ matplotlib.colors.to_rgb(x) for x in the_tableau_blindcolors10 ] \n",
    "\n",
    "# Create the colormap\n",
    "cmap_tableau_colorblind10 = LinearSegmentedColormap.from_list(\"my_tableau_blindcolors10_cmap\", rgb_colorsList, N=10)"
   ]
  },
  {
   "cell_type": "code",
   "execution_count": null,
   "id": "a59e5694-463e-4b83-bcf8-d0b0cbe464bb",
   "metadata": {},
   "outputs": [],
   "source": [
    "cmap_tableau_colorblind10"
   ]
  },
  {
   "cell_type": "code",
   "execution_count": null,
   "id": "dcee7c86-027f-4a0f-9cde-73bef2725c1d",
   "metadata": {},
   "outputs": [],
   "source": [
    "#import matplotlib\n",
    "#cm=matplotlib.colors.Colormap('tableau-colorblind10')"
   ]
  },
  {
   "cell_type": "code",
   "execution_count": null,
   "id": "b782aad4-b46e-4948-a747-a8f74dde8648",
   "metadata": {},
   "outputs": [],
   "source": [
    "#cm"
   ]
  },
  {
   "cell_type": "code",
   "execution_count": null,
   "id": "95cf4470-1c59-4877-a989-1008f072af9d",
   "metadata": {},
   "outputs": [],
   "source": [
    "#plt.get_cmap(cm)"
   ]
  },
  {
   "cell_type": "code",
   "execution_count": null,
   "id": "2ae2d164-b398-46d4-b898-54ac9d422c85",
   "metadata": {},
   "outputs": [],
   "source": [
    "#cm = plt.cm.tab10('tableau-colorblind10')\n",
    "\n",
    "#bwr_map = plt.get_cmap('bwr')\n",
    "#reversed_map = bwr_map.reversed() \n",
    "#cNorm = colors.Normalize(0., vmax=1.)\n",
    "#scalarMap = cmx.ScalarMappable(norm=cNorm, cmap=bwr_map)\n",
    "#all_colors = scalarMap.to_rgba(df[\"zobs\"].values, alpha=1)"
   ]
  },
  {
   "cell_type": "code",
   "execution_count": null,
   "id": "70e6afad-9026-4c71-b3e9-5008e7be637e",
   "metadata": {},
   "outputs": [],
   "source": [
    "#tab_map = plt.get_cmap('tableau-colorblind10')"
   ]
  },
  {
   "cell_type": "code",
   "execution_count": null,
   "id": "f6fb3869-65dd-4b37-8742-b9c64f5c77b9",
   "metadata": {},
   "outputs": [],
   "source": [
    "transform = AsinhStretch() + PercentileInterval(99.)"
   ]
  },
  {
   "cell_type": "code",
   "execution_count": null,
   "id": "b78b2725-9bc5-457c-aed0-308dc31aa733",
   "metadata": {},
   "outputs": [],
   "source": [
    "pd.options.display.max_columns = None\n",
    "#pd.options.display.max_rows = None"
   ]
  },
  {
   "cell_type": "code",
   "execution_count": null,
   "id": "64d343ab-6490-43ee-afcb-9e44acfb54f3",
   "metadata": {},
   "outputs": [],
   "source": [
    "#repo =  \"/sdf/group/rubin/repo/main\"\n",
    "repo = \"/sdf/group/rubin/repo/oga/\"\n",
    "#my_collection = \"LATISS/runs/AUXTEL_DRP_IMAGING_2023-11A-10A-09AB-08ABC-07AB-05AB/w_2023_46/PREOPS-4553\"\n",
    "my_collection = \"LATISS/runs/AUXTEL_DRP_IMAGING_20230509_20240201/w_2024_05/PREOPS-4871\""
   ]
  },
  {
   "cell_type": "code",
   "execution_count": null,
   "id": "9cb70780-09ce-4db2-a298-c2cbadc37c00",
   "metadata": {},
   "outputs": [],
   "source": [
    "butler = Butler(repo,collections=my_collection)\n",
    "registry = butler.registry"
   ]
  },
  {
   "cell_type": "markdown",
   "id": "6c85da9b-b2a7-4ae3-b282-2fb41240f0a5",
   "metadata": {},
   "source": [
    "## Load Visits"
   ]
  },
  {
   "cell_type": "code",
   "execution_count": null,
   "id": "f2ab6a82-8bf9-487f-bb1f-6784d8c3c839",
   "metadata": {},
   "outputs": [],
   "source": [
    "filevisit_in = \"../data/202402/ccdVisitTable_202402.csv\""
   ]
  },
  {
   "cell_type": "code",
   "execution_count": null,
   "id": "756df2cf-f69e-41a8-a3d6-c816236dacf7",
   "metadata": {},
   "outputs": [],
   "source": [
    "df = pd.read_csv(filevisit_in)"
   ]
  },
  {
   "cell_type": "code",
   "execution_count": null,
   "id": "a8f862c7-470e-43bb-a360-06a403740504",
   "metadata": {},
   "outputs": [],
   "source": [
    "df"
   ]
  },
  {
   "cell_type": "code",
   "execution_count": null,
   "id": "9215178d-a078-4fc0-bd4e-60e79af7dd79",
   "metadata": {},
   "outputs": [],
   "source": [
    "tract_selected = 5615\n",
    "patch_selected = 294\n",
    "nightObs_selected = 20230803"
   ]
  },
  {
   "cell_type": "code",
   "execution_count": null,
   "id": "668e79d8-f854-49c1-bb81-39fedd8cad43",
   "metadata": {},
   "outputs": [],
   "source": [
    "cut1 = (df.nightObs == nightObs_selected) \n",
    "cut2 =  (df.tractID == tract_selected) \n",
    "cut3 = (df.patchID == patch_selected) \t"
   ]
  },
  {
   "cell_type": "code",
   "execution_count": null,
   "id": "07a6f85b-ed5c-48f4-9d30-d814a60f183d",
   "metadata": {},
   "outputs": [],
   "source": [
    "cut = cut1 & cut2 & cut3"
   ]
  },
  {
   "cell_type": "code",
   "execution_count": null,
   "id": "4b83de00-3d7c-4477-81c4-26fd1a288e93",
   "metadata": {},
   "outputs": [],
   "source": [
    "df = df[cut]"
   ]
  },
  {
   "cell_type": "code",
   "execution_count": null,
   "id": "4c758587-2066-4518-b21d-635e7b73ddbd",
   "metadata": {},
   "outputs": [],
   "source": [
    "df"
   ]
  },
  {
   "cell_type": "code",
   "execution_count": null,
   "id": "904b3ab2-ed12-4712-94ff-64b3f1b377bd",
   "metadata": {},
   "outputs": [],
   "source": [
    "exposure_id = 2023080300406\n",
    "exposure_title =f\"Exposure {exposure_id} (Auxtel Photometry)\""
   ]
  },
  {
   "cell_type": "code",
   "execution_count": null,
   "id": "b30dbeb6-868b-4cb7-8574-5accab2e5e9b",
   "metadata": {},
   "outputs": [],
   "source": [
    "# Define the dataId using just visit and detector\n",
    "dataId = {'visit': exposure_id,'instrument':\"LATISS\", 'detector': 0}\n",
    "\n",
    "# Use the butler to get the calexp\n",
    "calexp = butler.get('calexp', **dataId, collections=my_collection)"
   ]
  },
  {
   "cell_type": "markdown",
   "id": "a53e04c6-4f4f-4d1c-99c6-593badb3359f",
   "metadata": {},
   "source": [
    "<br>\n",
    "\n",
    "As described in other tutorials, the `calexp` object possesses more than just the raw pixel data of the image. It also contains a `mask`, which stores information about various pixels in a bit mask.\n",
    "\n",
    "Here are some optional commands to explore the calexp. Uncomment one of the code lines to learn more."
   ]
  },
  {
   "cell_type": "code",
   "execution_count": null,
   "id": "6578444f-096c-4732-994d-2ef455c79361",
   "metadata": {},
   "outputs": [],
   "source": [
    "# If you want to investigate the contents of the masked image:\n",
    "#calexp.maskedImage\n",
    "\n",
    "# If you just want one of the three components:\n",
    "# calexp.maskedImage.image\n",
    "# calexp.maskedImage.mask\n",
    "# calexp.maskedImage.variance\n",
    "\n",
    "# These also work:\n",
    "# calexp.image\n",
    "# calexp.mask\n",
    "# calexp.variance\n",
    "\n",
    "# The calexp also contains the PSF, the WCS, and the photometric calibration\n",
    "#calexp.getPsf()\n",
    "#calexp.getWcs()\n",
    "#calexp.getPhotoCalib()"
   ]
  },
  {
   "cell_type": "markdown",
   "id": "55c486c0-5c56-4498-aac6-bbdc9d1590e6",
   "metadata": {},
   "source": [
    "Since we are interested in performing our own source detection and measurement, we choose to clear the existing `DETECTED` mask plane."
   ]
  },
  {
   "cell_type": "code",
   "execution_count": null,
   "id": "79353155-8b91-4f73-87b3-469f326f75f2",
   "metadata": {},
   "outputs": [],
   "source": [
    "# Unset the `DETECTED` bits of the mask plane\n",
    "calexp.mask.removeAndClearMaskPlane('DETECTED')"
   ]
  },
  {
   "cell_type": "code",
   "execution_count": null,
   "id": "5e10843b-9f3b-4de0-9fd7-79ffcdf140b5",
   "metadata": {},
   "outputs": [],
   "source": [
    "plt.imshow(calexp.mask.array,origin='lower')\n",
    "plt.suptitle( \"Calexp Mask \" + exposure_title)"
   ]
  },
  {
   "cell_type": "code",
   "execution_count": null,
   "id": "04ff5b78-c97c-4f5b-8fe1-81f92f600a1e",
   "metadata": {},
   "outputs": [],
   "source": [
    "cmap_tableau_colorblind10"
   ]
  },
  {
   "cell_type": "code",
   "execution_count": null,
   "id": "1ceacd34-5ba6-4411-a530-e25b7a123f49",
   "metadata": {},
   "outputs": [],
   "source": [
    "calexp.mask"
   ]
  },
  {
   "cell_type": "code",
   "execution_count": null,
   "id": "7f7b7b83-d359-4fe7-9fee-2a296931265e",
   "metadata": {},
   "outputs": [],
   "source": [
    "# Plot the calexp we just retrieved\n",
    "plt.figure(figsize=(14,14))\n",
    "afw_display = afwDisplay.Display()\n",
    "afw_display.scale('asinh', 'zscale')\n",
    "afw_display.mtv(calexp.image, title= \"Original Calexp \"+exposure_title)"
   ]
  },
  {
   "cell_type": "markdown",
   "id": "61cbf475-2d76-43f2-9e7d-f3e7f0fe61c8",
   "metadata": {},
   "source": [
    "<br>\n",
    "\n",
    "### 2.2. Add the Subtracted Sky Background Back into the Image\n",
    "\n",
    "Here we retrieve the subtracted background for the same dataId and add it back into the image. This section is optional."
   ]
  },
  {
   "cell_type": "markdown",
   "id": "b592348f-748f-4809-8e9e-22b3d3f3e12f",
   "metadata": {},
   "source": [
    "First, we obtain the `calexpBackground` object for this `dataId`.  We will again use the `butler`."
   ]
  },
  {
   "cell_type": "code",
   "execution_count": null,
   "id": "d16d8a1a-98f8-40ea-ac4a-38d9c12d472d",
   "metadata": {},
   "outputs": [],
   "source": [
    "bkgd = butler.get('calexpBackground', **dataId)"
   ]
  },
  {
   "cell_type": "markdown",
   "id": "a44e345a-d255-402e-a3bf-e552cc38318d",
   "metadata": {},
   "source": [
    "Now, let us display the background we obtained."
   ]
  },
  {
   "cell_type": "code",
   "execution_count": null,
   "id": "8ce960a7-35bc-4fe9-973e-58527cc3546d",
   "metadata": {},
   "outputs": [],
   "source": [
    "plt.figure()\n",
    "afw_display = afwDisplay.Display()\n",
    "afw_display.scale('linear', 'zscale')\n",
    "afw_display.mtv(bkgd.getImage())\n",
    "plt.title(\"Local Polynomial Background for calexp \"+ exposure_title)"
   ]
  },
  {
   "cell_type": "code",
   "execution_count": null,
   "id": "c0711f1f-729e-4a06-996b-ba12bd97d609",
   "metadata": {},
   "outputs": [],
   "source": [
    "# Note: executing this cell multiple times will add the background\n",
    "#  multiple times\n",
    "calexp.maskedImage += bkgd.getImage()"
   ]
  },
  {
   "cell_type": "markdown",
   "id": "0797d096-3e39-4a23-9c58-60c1890e91a8",
   "metadata": {},
   "source": [
    "Next, we add the background into the `calexp`, and re-display the `calexp`. Note the scale in the sidebar now goes up to thousands of counts instead of hundreds of counts."
   ]
  },
  {
   "cell_type": "code",
   "execution_count": null,
   "id": "8c6950c4-4274-4056-b5bc-596fd26060c0",
   "metadata": {},
   "outputs": [],
   "source": [
    "plt.figure()\n",
    "afw_display = afwDisplay.Display()\n",
    "afw_display.scale('asinh', 'zscale')\n",
    "afw_display.mtv(calexp.image,title= \"Calexp + Background \"+exposure_title)"
   ]
  },
  {
   "cell_type": "markdown",
   "id": "a351f12a-a181-4c1d-8233-30586e0cca23",
   "metadata": {},
   "source": [
    "## 3. Source Detection, Deblending, and Measurement"
   ]
  },
  {
   "cell_type": "markdown",
   "id": "c45f1ccc-1a1c-49ec-a131-60bcfe2258c1",
   "metadata": {},
   "source": [
    "We now want to run the LSST Science Pipelines' source detection, deblending, and measurement tasks. While we run all three tasks, this notebook is mostly focused on the detection of sources.\n",
    "\n",
    "Recall that these tasks were imported up at the top of this notebook, from `lsst.pipe` and `lsst.meas`. More information can be found at [pipelines.lsst.io](https://pipelines.lsst.io/) (the search bar at the top left of that page is a very handy way to find documentation for a specific task).\n",
    "\n",
    "We start by creating a minimal schema for the source table. The schema describes the output properties that will be measured for each source. This schema will be passed to all of the tasks, as we call each in turn, and each task will add columns to this schema as it measures sources in the image."
   ]
  },
  {
   "cell_type": "code",
   "execution_count": null,
   "id": "5e288c43-25b1-4120-b824-9d19d1a9e1ab",
   "metadata": {},
   "outputs": [],
   "source": [
    "# Create a basic schema to use with these tasks\n",
    "schema = afwTable.SourceTable.makeMinimalSchema()\n",
    "print(schema)\n",
    "\n",
    "# Create a container which will be used to record metadata\n",
    "#  about algorithm execution\n",
    "algMetadata = dafBase.PropertyList()\n",
    "print('algMetadata: ')\n",
    "algMetadata"
   ]
  },
  {
   "cell_type": "markdown",
   "id": "8de69b0a-95f5-4827-8734-5cde58deda43",
   "metadata": {},
   "source": [
    "### 3.1. Configuring Tasks\n",
    "\n",
    "Each task possesses an associated configuration class. The properties of these configuration classes can be determined from the classes themselves."
   ]
  },
  {
   "cell_type": "code",
   "execution_count": null,
   "id": "df127a7f-2dc6-42c4-8707-3b3426c1f9ac",
   "metadata": {},
   "outputs": [],
   "source": [
    "# Uncomment the following line to view help\n",
    "#  for the CharacterizeImageTask configuration\n",
    "# Replace 'CharacterizeImageTask' with a different\n",
    "#  task name to view additional help information\n",
    "\n",
    "# \n",
    "#help(CharacterizeImageTask.ConfigClass())"
   ]
  },
  {
   "cell_type": "markdown",
   "id": "6616d2cd-cce1-43fe-8d88-4b9e4f286c28",
   "metadata": {},
   "source": [
    "As a starting point, like the `schema` and `algMetadata` above, here we set some basic config parameters and instantiate the tasks to get you started. In this case, we configure several different tasks:\n",
    "\n",
    "* CharacterizeImageTask: Characterizes the image properties (e.g., PSF, etc.)\n",
    "* SourceDetectionTask: Detects sources\n",
    "* SourceDeblendTask: Deblend sources into constituent \"children\"\n",
    "* SingleFrameMeasurementTask: Measures source properties"
   ]
  },
  {
   "cell_type": "code",
   "execution_count": null,
   "id": "14fdc10f-ac23-490a-9186-3a11a9fe389a",
   "metadata": {},
   "outputs": [],
   "source": [
    "# Characterize the image properties\n",
    "config = CharacterizeImageTask.ConfigClass()\n",
    "config.psfIterations = 5\n",
    "charImageTask = CharacterizeImageTask(config=config)\n",
    "\n",
    "# Detect sources\n",
    "config = SourceDetectionTask.ConfigClass()\n",
    "# detection threshold in units of thresholdType\n",
    "config.thresholdValue = 20\n",
    "#config.thresholdValue = 10\n",
    "# units for thresholdValue\n",
    "config.thresholdType = \"stdev\"\n",
    "sourceDetectionTask = SourceDetectionTask(schema=schema, config=config)\n",
    "\n",
    "# Deblend sources\n",
    "sourceDeblendTask = SourceDeblendTask(schema=schema)\n",
    "\n",
    "# Measure source properties\n",
    "config = SingleFrameMeasurementTask.ConfigClass()\n",
    "sourceMeasurementTask = SingleFrameMeasurementTask(schema=schema,\n",
    "                                                   config=config,\n",
    "                                                   algMetadata=algMetadata)"
   ]
  },
  {
   "cell_type": "markdown",
   "id": "d209ec24-916e-4225-9487-5698c6018e74",
   "metadata": {},
   "source": [
    "Note that if you want to change the value of a config parameter (e.g., `psfIterations`), do not change it in the already constructed task. Instead, change your config object and then construct a new characterize image task. Like so:\n",
    "> `config.psfIterations = 3` <br>\n",
    "> `charImageTask = CharacterizeImageTask(config=config)`"
   ]
  },
  {
   "cell_type": "markdown",
   "id": "7e1ebc29-3761-4d62-b921-8b21571d1bff",
   "metadata": {},
   "source": [
    "Like the configs, we can use `help` to explore each task and the methods used to run it."
   ]
  },
  {
   "cell_type": "code",
   "execution_count": null,
   "id": "3ba82804-b4ab-4c6a-ac1f-61cfddba34e9",
   "metadata": {},
   "outputs": [],
   "source": [
    "# help(charImageTask)\n",
    "\n",
    "# Uncomment the following line, position your cursor after the period,\n",
    "#  and press tab to see a list of all methods. Then recomment the line\n",
    "#  because \"Task.\" is not executable and will cause an error.\n",
    "# charImageTask.\n",
    "\n",
    "# Use the help function on any of the methods to learn more:\n",
    "# help(charImageTask.writeSchemas)\n",
    "\n",
    "# E.g., find out what options there are for config.thresholdType\n",
    "# help(SourceDetectionTask.ConfigClass)"
   ]
  },
  {
   "cell_type": "markdown",
   "id": "1afaaff2-18eb-4362-a593-c9f0d37621a7",
   "metadata": {},
   "source": [
    "With each of the tasks configured, we can now move on to running the source detection, deblending, and measurement. First we create `SourceTable` for holding the output of our source analysis. The columns and characteristics of this table are defined by the `schema` that we created in our configuration step."
   ]
  },
  {
   "cell_type": "code",
   "execution_count": null,
   "id": "660128e5-e232-4645-85c0-ee60491c1c36",
   "metadata": {},
   "outputs": [],
   "source": [
    "tab = afwTable.SourceTable.make(schema)"
   ]
  },
  {
   "cell_type": "code",
   "execution_count": null,
   "id": "b2b31f22-6d19-41b6-ba0c-d1a16faeac1e",
   "metadata": {},
   "outputs": [],
   "source": [
    "# Image characterization (this cell may take a few seconds)\n",
    "result = charImageTask.run(calexp)\n",
    "\n",
    "# Define the pixel coordinates of a point of interest\n",
    "# (in this case, basically a random point within the image)\n",
    "x_target, y_target = 1700, 2100\n",
    "width, height = 400, 400\n",
    "xmin, ymin = x_target-width//2, y_target-height//2\n",
    "point = geom.Point2D(x_target, y_target)\n",
    "\n",
    "# Get the PSF at our point of interest\n",
    "psf = calexp.getPsf()\n",
    "sigma = psf.computeShape(point).getDeterminantRadius()\n",
    "pixelScale = calexp.getWcs().getPixelScale().asArcseconds()\n",
    "\n",
    "# The factor of 2.355 converts from std to fwhm\n",
    "print('psf fwhm = {:.2f} arcsec'.format(sigma*pixelScale*2.355))"
   ]
  },
  {
   "cell_type": "code",
   "execution_count": null,
   "id": "0c3c7aa8-7084-4219-84a3-b3a27498f61b",
   "metadata": {},
   "outputs": [],
   "source": [
    "# Source detection (this cell may take a few seconds)\n",
    "result = sourceDetectionTask.run(tab, calexp)\n",
    "type(result)"
   ]
  },
  {
   "cell_type": "markdown",
   "id": "243a96ff-2f39-415e-a4b0-187d8e4c9d7c",
   "metadata": {},
   "source": [
    "With the image characterized, we are now interested in running the source detection, deblending, and measurement tasks. Each of these tasks is called with the `run` method. The parameters of this method can be investigated using `help`."
   ]
  },
  {
   "cell_type": "code",
   "execution_count": null,
   "id": "ee044305-cb24-4117-a327-37ad1eed34f3",
   "metadata": {},
   "outputs": [],
   "source": [
    "# We are specifically interested in the `SourceMeasurementTask`\n",
    "#help(sourceMeasurementTask.run)"
   ]
  },
  {
   "cell_type": "code",
   "execution_count": null,
   "id": "b4720960-a607-4da5-aeb2-17c662a1ec11",
   "metadata": {},
   "outputs": [],
   "source": [
    "for k, v in result.getDict().items():\n",
    "    print(k, type(v))"
   ]
  },
  {
   "cell_type": "code",
   "execution_count": null,
   "id": "347a57c0-7dc9-46a5-b226-c41fe42917f4",
   "metadata": {},
   "outputs": [],
   "source": [
    "result.numPosPeaks"
   ]
  },
  {
   "cell_type": "code",
   "execution_count": null,
   "id": "9dce86ea-69c3-4ca2-ab6a-6b70228692f0",
   "metadata": {},
   "outputs": [],
   "source": [
    "sources = result.sources"
   ]
  },
  {
   "cell_type": "code",
   "execution_count": null,
   "id": "d97e86dd-966a-4385-a105-cddb504b6657",
   "metadata": {},
   "outputs": [],
   "source": [
    "sources.writeFits(\"outputTable.fits\")\n",
    "calexp.writeFits(\"example1-out.fits\")"
   ]
  },
  {
   "cell_type": "code",
   "execution_count": null,
   "id": "f729a9b6-65a5-405f-a39c-d3db8d7f45dc",
   "metadata": {},
   "outputs": [],
   "source": [
    "# Source deblending\n",
    "sourceDeblendTask.run(calexp, sources)\n",
    "\n",
    "# Source measurement\n",
    "sourceMeasurementTask.run(measCat=sources, exposure=calexp)"
   ]
  },
  {
   "cell_type": "code",
   "execution_count": null,
   "id": "60e6f4b0-9bcf-4cb9-b59c-32c6c1830b34",
   "metadata": {},
   "outputs": [],
   "source": [
    "# The copy makes sure that the sources are sequential in memory\n",
    "sources_astropy = sources.copy(True)\n",
    "\n",
    "# Investigate the output source catalog\n",
    "sources_astropy = sources_astropy.asAstropy()"
   ]
  },
  {
   "cell_type": "code",
   "execution_count": null,
   "id": "6c44d803-ca1a-4b5f-bb8c-e99520a54482",
   "metadata": {},
   "outputs": [],
   "source": [
    "# Define a small region for a cutout\n",
    "bbox = geom.Box2I()\n",
    "bbox.include(geom.Point2I(xmin, ymin))\n",
    "bbox.include(geom.Point2I(xmin + width, ymin + height))\n",
    "\n",
    "# An alternative way to defined the same cutout region\n",
    "# bbox = geom.Box2I(geom.Point2I(xmin, ymin), geom.Extent2I(width, height))\n",
    "\n",
    "# Generate the cutout image\n",
    "cutout = calexp.Factory(calexp, bbox, origin=afwImage.LOCAL, deep=False)"
   ]
  },
  {
   "cell_type": "code",
   "execution_count": null,
   "id": "6490cbc2-2863-4664-8c32-593a39576d61",
   "metadata": {},
   "outputs": [],
   "source": [
    "# Display the cutout and sources with afw display\n",
    "#image = cutout.image\n",
    "image = calexp.image\n",
    "plt.figure()\n",
    "afw_display = afwDisplay.Display()\n",
    "afw_display.scale('asinh', 'zscale')\n",
    "afw_display.mtv(image, title= \"Source Identification on full Calexp \"+ exposure_title)\n",
    "#plt.gca().axis('off')\n",
    "\n",
    "# We use display buffering to avoid re-drawing the image\n",
    "#  after each source is plotted\n",
    "with afw_display.Buffering():\n",
    "    for s in sources:\n",
    "        afw_display.dot('.', s.getX(), s.getY(), ctype=afwDisplay.RED)\n",
    "        afw_display.dot('o', s.getX(), s.getY(), size=100, ctype='orange')"
   ]
  },
  {
   "cell_type": "code",
   "execution_count": null,
   "id": "3a7ac321-eb55-4844-96ed-9cfcf4149e7c",
   "metadata": {},
   "outputs": [],
   "source": [
    "# Display the cutout and sources with afw display\n",
    "image = cutout.image\n",
    "#image = calexp.image\n",
    "plt.figure()\n",
    "afw_display = afwDisplay.Display()\n",
    "afw_display.scale('asinh', 'zscale')\n",
    "afw_display.mtv(image, title= \"Source Identification on Cutout Calexp \"+ exposure_title)\n",
    "plt.gca().axis('off')\n",
    "\n",
    "# We use display buffering to avoid re-drawing the image\n",
    "#  after each source is plotted\n",
    "with afw_display.Buffering():\n",
    "    for s in sources:\n",
    "        afw_display.dot('.', s.getX(), s.getY(), ctype=afwDisplay.RED)\n",
    "        afw_display.dot('o', s.getX(), s.getY(), size=100, ctype='orange')"
   ]
  },
  {
   "cell_type": "code",
   "execution_count": null,
   "id": "3d17fc95-9bbe-4bd0-ad16-b8eb88291d7e",
   "metadata": {},
   "outputs": [],
   "source": []
  },
  {
   "cell_type": "code",
   "execution_count": null,
   "id": "9973737d-d8ae-4af0-9350-be4fc3d568f3",
   "metadata": {},
   "outputs": [],
   "source": [
    "df = sources_astropy.to_pandas()"
   ]
  },
  {
   "cell_type": "code",
   "execution_count": null,
   "id": "bb95bd37-0d43-4612-bbab-27cafd2f0f1a",
   "metadata": {},
   "outputs": [],
   "source": [
    "df[\"base_PsfFlux_instMag\"] =  df['base_PsfFlux_instFlux'].map(convert_fluxtomag)\n",
    "#df_sel[\"gaussianMag\"] =  df_sel['gaussianFlux'].map(lambda x:-2.50 * np.log10(x) + 31.4)\n",
    "df[\"slot_PsfFlux_instMag\"] =  df['slot_PsfFlux_instFlux'].map(convert_fluxtomag)"
   ]
  },
  {
   "cell_type": "code",
   "execution_count": null,
   "id": "02754863-69b1-45f9-b432-a695a2a52e4d",
   "metadata": {},
   "outputs": [],
   "source": [
    "#list(df.columns)"
   ]
  },
  {
   "cell_type": "code",
   "execution_count": null,
   "id": "a4b7ca81-f71e-46c4-a1b1-572424750b47",
   "metadata": {},
   "outputs": [],
   "source": [
    "fig,(ax1,ax2) = plt.subplots(1,2,figsize=(16,6))\n",
    "df['base_PsfFlux_instFlux'].plot(kind=\"hist\",bins=100,logx=True,logy=True,ax=ax1,grid=True)\n",
    "df['slot_PsfFlux_instFlux'].plot(kind=\"hist\",bins=100,logx=True,logy=True,ax=ax2,grid=True)\n",
    "plt.suptitle(\"Detected Sources psf Fluxes \" + exposure_title,fontsize=20)\n",
    "ax1.set_xlabel('base_PsfFlux_instFlux')\n",
    "ax2.set_xlabel('slot_PsfFlux_instFlux')\n",
    "plt.tight_layout()"
   ]
  },
  {
   "cell_type": "code",
   "execution_count": null,
   "id": "4981426c-1ccc-496c-8d07-9f83ef3936f3",
   "metadata": {},
   "outputs": [],
   "source": [
    "fig,(ax1,ax2) = plt.subplots(1,2,figsize=(16,6))\n",
    "df['base_PsfFlux_instMag'].plot(kind=\"hist\",bins=50,ax=ax1,logy=True,grid=True)\n",
    "df['slot_PsfFlux_instMag'].plot(kind=\"hist\",bins=50,ax=ax2,logy=True,grid=True)\n",
    "ax1.set_xlabel('base_PsfFlux_instMag')\n",
    "ax2.set_xlabel('slot_PsfFlux_instMag')\n",
    "plt.suptitle(\"Detected Sources psf Magnitudes \" + exposure_title,fontsize=20)\n",
    "plt.tight_layout()"
   ]
  },
  {
   "cell_type": "code",
   "execution_count": null,
   "id": "f7b903f9-478d-4524-97f7-13aeaaccc15c",
   "metadata": {},
   "outputs": [],
   "source": [
    "calexp.info.getPhotoCalib()"
   ]
  },
  {
   "cell_type": "code",
   "execution_count": null,
   "id": "683870c1-bae2-42bc-b42f-0cc323d874bc",
   "metadata": {},
   "outputs": [],
   "source": [
    "calexp.info.hasVisitInfo()"
   ]
  },
  {
   "cell_type": "code",
   "execution_count": null,
   "id": "3ad2e10b-0a31-4f97-a6ef-334bc7b45767",
   "metadata": {},
   "outputs": [],
   "source": [
    "calexp.info.getVisitInfo()"
   ]
  },
  {
   "cell_type": "markdown",
   "id": "a5d73bb7-a6d5-4881-9f01-0324355cfd7d",
   "metadata": {
    "execution": {
     "iopub.execute_input": "2024-01-09T15:17:58.587854Z",
     "iopub.status.busy": "2024-01-09T15:17:58.587735Z",
     "iopub.status.idle": "2024-01-09T15:17:58.629325Z",
     "shell.execute_reply": "2024-01-09T15:17:58.628798Z",
     "shell.execute_reply.started": "2024-01-09T15:17:58.587842Z"
    }
   },
   "source": [
    "## Calibrate the Image\n",
    "\n",
    "https://community.lsst.org/t/units-of-calexps/5998"
   ]
  },
  {
   "cell_type": "code",
   "execution_count": null,
   "id": "e998d92b-d3c6-4b30-87b3-652ba86725fa",
   "metadata": {},
   "outputs": [],
   "source": [
    "#calibrated = calexp.photoCalib.calibrateImage(calexp.maskedImage)"
   ]
  },
  {
   "cell_type": "code",
   "execution_count": null,
   "id": "750a57ec-bbb8-4064-98f3-370d0f941fbc",
   "metadata": {},
   "outputs": [],
   "source": [
    "# Display the cutout and sources with afw display\n",
    "#image = cutout.image\n",
    "#image = calibrated.image\n",
    "#plt.figure()\n",
    "#afw_display = afwDisplay.Display()\n",
    "#afw_display.scale('asinh', 'zscale')\n",
    "#afw_display.mtv(image, title= \"Source Identification on Calibrated Calexp \"+ exposure_title)\n",
    "#plt.gca().axis('off')\n",
    "\n",
    "# We use display buffering to avoid re-drawing the image\n",
    "#  after each source is plotted\n",
    "#with afw_display.Buffering():\n",
    "#    for s in sources:\n",
    "#        afw_display.dot('.', s.getX(), s.getY(), ctype=afwDisplay.RED)\n",
    "#        afw_display.dot('o', s.getX(), s.getY(), size=100, ctype='orange')"
   ]
  },
  {
   "cell_type": "code",
   "execution_count": null,
   "id": "22551375-3853-424e-a567-de5a85f9d72b",
   "metadata": {},
   "outputs": [],
   "source": [
    "#result.numPosPeaks"
   ]
  },
  {
   "cell_type": "code",
   "execution_count": null,
   "id": "870990d1-41e0-4c32-a822-26e905cb8584",
   "metadata": {},
   "outputs": [],
   "source": []
  }
 ],
 "metadata": {
  "kernelspec": {
   "display_name": "LSST",
   "language": "python",
   "name": "lsst"
  },
  "language_info": {
   "codemirror_mode": {
    "name": "ipython",
    "version": 3
   },
   "file_extension": ".py",
   "mimetype": "text/x-python",
   "name": "python",
   "nbconvert_exporter": "python",
   "pygments_lexer": "ipython3",
   "version": "3.11.7"
  }
 },
 "nbformat": 4,
 "nbformat_minor": 5
}
