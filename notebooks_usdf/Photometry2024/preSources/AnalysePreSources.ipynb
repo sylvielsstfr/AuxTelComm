{
 "cells": [
  {
   "cell_type": "markdown",
   "id": "8608d6fb-20fc-4b07-ba88-74e9b45cdf25",
   "metadata": {},
   "source": [
    "# Analyse Pre sources"
   ]
  },
  {
   "cell_type": "markdown",
   "id": "667ba03e-ddfb-47fd-bee3-3824f9be7ae5",
   "metadata": {},
   "source": [
    " work with Weakly_2023_44\n",
    "- use jupyter kernel LSST\n",
    "\n",
    "\n",
    "- author : Sylvie Dagoret-Campagne\n",
    "- affiliation : IJCLab\n",
    "- creation date : 2023/12/26\n",
    "- update : 2023/12/26\n"
   ]
  },
  {
   "cell_type": "code",
   "execution_count": 1,
   "id": "058012ec-9888-4b97-9fe2-57595e1bc0e7",
   "metadata": {
    "execution": {
     "iopub.execute_input": "2023-12-26T18:38:27.217343Z",
     "iopub.status.busy": "2023-12-26T18:38:27.217213Z",
     "iopub.status.idle": "2023-12-26T18:38:27.913260Z",
     "shell.execute_reply": "2023-12-26T18:38:27.912780Z",
     "shell.execute_reply.started": "2023-12-26T18:38:27.217330Z"
    }
   },
   "outputs": [],
   "source": [
    "import numpy as np\n",
    "import matplotlib.pyplot as plt\n",
    "%matplotlib inline\n",
    "from mpl_toolkits.axes_grid1 import make_axes_locatable\n",
    "from matplotlib.colors import LogNorm,SymLogNorm\n",
    "\n",
    "\n",
    "import matplotlib.ticker                         # here's where the formatter is\n",
    "from matplotlib.ticker import (MultipleLocator, FormatStrFormatter,\n",
    "                               AutoMinorLocator)\n",
    "from astropy.visualization import (MinMaxInterval, SqrtStretch,ZScaleInterval,PercentileInterval,\n",
    "                                   ImageNormalize,imshow_norm)\n",
    "from astropy.visualization.stretch import SinhStretch, LinearStretch,AsinhStretch,LogStretch\n",
    "from astropy.io import fits\n",
    "import astropy.coordinates as coord\n",
    "import astropy.units as u\n",
    "import pandas as pd\n",
    "\n",
    "import matplotlib.ticker                         # here's where the formatter is\n",
    "import os\n",
    "import re\n",
    "import pandas as pd\n",
    "\n",
    "plt.rcParams[\"figure.figsize\"] = (4,3)\n",
    "plt.rcParams[\"axes.labelsize\"] = 'xx-large'\n",
    "plt.rcParams['axes.titlesize'] = 'xx-large'\n",
    "plt.rcParams['xtick.labelsize']= 'xx-large'\n",
    "plt.rcParams['ytick.labelsize']= 'xx-large'"
   ]
  },
  {
   "cell_type": "code",
   "execution_count": 2,
   "id": "907f5257-e80b-4336-b41f-5bf3745571bf",
   "metadata": {
    "execution": {
     "iopub.execute_input": "2023-12-26T18:38:27.914813Z",
     "iopub.status.busy": "2023-12-26T18:38:27.914231Z",
     "iopub.status.idle": "2023-12-26T18:38:27.916924Z",
     "shell.execute_reply": "2023-12-26T18:38:27.916530Z",
     "shell.execute_reply.started": "2023-12-26T18:38:27.914789Z"
    }
   },
   "outputs": [],
   "source": [
    "filesource_in=\"preSourceTable_202312.csv\""
   ]
  },
  {
   "cell_type": "code",
   "execution_count": 3,
   "id": "a4c4bc49-f65a-441c-8f51-82a27f7887d2",
   "metadata": {
    "execution": {
     "iopub.execute_input": "2023-12-26T18:38:27.917560Z",
     "iopub.status.busy": "2023-12-26T18:38:27.917421Z",
     "iopub.status.idle": "2023-12-26T18:38:56.344325Z",
     "shell.execute_reply": "2023-12-26T18:38:56.343818Z",
     "shell.execute_reply.started": "2023-12-26T18:38:27.917547Z"
    }
   },
   "outputs": [],
   "source": [
    "df = pd.read_csv(filesource_in)"
   ]
  },
  {
   "cell_type": "code",
   "execution_count": 4,
   "id": "f520bf2a-9b47-4748-9503-3896eac2dda3",
   "metadata": {
    "execution": {
     "iopub.execute_input": "2023-12-26T18:38:56.345092Z",
     "iopub.status.busy": "2023-12-26T18:38:56.344946Z",
     "iopub.status.idle": "2023-12-26T18:38:56.474585Z",
     "shell.execute_reply": "2023-12-26T18:38:56.474120Z",
     "shell.execute_reply.started": "2023-12-26T18:38:56.345077Z"
    }
   },
   "outputs": [
    {
     "data": {
      "text/html": [
       "<div>\n",
       "<style scoped>\n",
       "    .dataframe tbody tr th:only-of-type {\n",
       "        vertical-align: middle;\n",
       "    }\n",
       "\n",
       "    .dataframe tbody tr th {\n",
       "        vertical-align: top;\n",
       "    }\n",
       "\n",
       "    .dataframe thead th {\n",
       "        text-align: right;\n",
       "    }\n",
       "</style>\n",
       "<table border=\"1\" class=\"dataframe\">\n",
       "  <thead>\n",
       "    <tr style=\"text-align: right;\">\n",
       "      <th></th>\n",
       "      <th>sourceId</th>\n",
       "      <th>coord_ra</th>\n",
       "      <th>coord_dec</th>\n",
       "      <th>ccdVisitId</th>\n",
       "      <th>parentSourceId</th>\n",
       "      <th>x</th>\n",
       "      <th>y</th>\n",
       "      <th>xErr</th>\n",
       "      <th>yErr</th>\n",
       "      <th>ra</th>\n",
       "      <th>...</th>\n",
       "      <th>hsmShapeRegauss_flag_parent_source</th>\n",
       "      <th>sky_source</th>\n",
       "      <th>detect_isPrimary</th>\n",
       "      <th>visit</th>\n",
       "      <th>detector</th>\n",
       "      <th>band</th>\n",
       "      <th>physical_filter</th>\n",
       "      <th>visid_idx</th>\n",
       "      <th>dateobs</th>\n",
       "      <th>mjd</th>\n",
       "    </tr>\n",
       "  </thead>\n",
       "  <tbody>\n",
       "    <tr>\n",
       "      <th>0</th>\n",
       "      <td>174092471737778177</td>\n",
       "      <td>240.035971</td>\n",
       "      <td>-24.102006</td>\n",
       "      <td>41506879744</td>\n",
       "      <td>0</td>\n",
       "      <td>971.000000</td>\n",
       "      <td>18.000000</td>\n",
       "      <td>NaN</td>\n",
       "      <td>NaN</td>\n",
       "      <td>240.035971</td>\n",
       "      <td>...</td>\n",
       "      <td>False</td>\n",
       "      <td>False</td>\n",
       "      <td>True</td>\n",
       "      <td>2023072000185</td>\n",
       "      <td>0</td>\n",
       "      <td>i</td>\n",
       "      <td>SDSSi_65mm~empty</td>\n",
       "      <td>0</td>\n",
       "      <td>2023-07-21 01:18:49.927</td>\n",
       "      <td>60146.054745</td>\n",
       "    </tr>\n",
       "    <tr>\n",
       "      <th>1</th>\n",
       "      <td>174092471737778178</td>\n",
       "      <td>240.114481</td>\n",
       "      <td>-24.101061</td>\n",
       "      <td>41506879744</td>\n",
       "      <td>0</td>\n",
       "      <td>3668.000000</td>\n",
       "      <td>18.000000</td>\n",
       "      <td>NaN</td>\n",
       "      <td>NaN</td>\n",
       "      <td>240.114481</td>\n",
       "      <td>...</td>\n",
       "      <td>False</td>\n",
       "      <td>False</td>\n",
       "      <td>True</td>\n",
       "      <td>2023072000185</td>\n",
       "      <td>0</td>\n",
       "      <td>i</td>\n",
       "      <td>SDSSi_65mm~empty</td>\n",
       "      <td>0</td>\n",
       "      <td>2023-07-21 01:18:49.927</td>\n",
       "      <td>60146.054745</td>\n",
       "    </tr>\n",
       "    <tr>\n",
       "      <th>2</th>\n",
       "      <td>174092471737778179</td>\n",
       "      <td>240.050174</td>\n",
       "      <td>-24.100808</td>\n",
       "      <td>41506879744</td>\n",
       "      <td>0</td>\n",
       "      <td>1459.423140</td>\n",
       "      <td>56.758008</td>\n",
       "      <td>0.218000</td>\n",
       "      <td>0.190530</td>\n",
       "      <td>240.050174</td>\n",
       "      <td>...</td>\n",
       "      <td>False</td>\n",
       "      <td>False</td>\n",
       "      <td>True</td>\n",
       "      <td>2023072000185</td>\n",
       "      <td>0</td>\n",
       "      <td>i</td>\n",
       "      <td>SDSSi_65mm~empty</td>\n",
       "      <td>0</td>\n",
       "      <td>2023-07-21 01:18:49.927</td>\n",
       "      <td>60146.054745</td>\n",
       "    </tr>\n",
       "    <tr>\n",
       "      <th>3</th>\n",
       "      <td>174092471737778180</td>\n",
       "      <td>240.056853</td>\n",
       "      <td>-24.100218</td>\n",
       "      <td>41506879744</td>\n",
       "      <td>0</td>\n",
       "      <td>1689.114439</td>\n",
       "      <td>75.950081</td>\n",
       "      <td>0.339048</td>\n",
       "      <td>0.381324</td>\n",
       "      <td>240.056853</td>\n",
       "      <td>...</td>\n",
       "      <td>False</td>\n",
       "      <td>False</td>\n",
       "      <td>True</td>\n",
       "      <td>2023072000185</td>\n",
       "      <td>0</td>\n",
       "      <td>i</td>\n",
       "      <td>SDSSi_65mm~empty</td>\n",
       "      <td>0</td>\n",
       "      <td>2023-07-21 01:18:49.927</td>\n",
       "      <td>60146.054745</td>\n",
       "    </tr>\n",
       "    <tr>\n",
       "      <th>4</th>\n",
       "      <td>174092471737778181</td>\n",
       "      <td>240.095234</td>\n",
       "      <td>-24.099785</td>\n",
       "      <td>41506879744</td>\n",
       "      <td>0</td>\n",
       "      <td>3007.604922</td>\n",
       "      <td>74.842679</td>\n",
       "      <td>0.366987</td>\n",
       "      <td>0.293205</td>\n",
       "      <td>240.095234</td>\n",
       "      <td>...</td>\n",
       "      <td>False</td>\n",
       "      <td>False</td>\n",
       "      <td>True</td>\n",
       "      <td>2023072000185</td>\n",
       "      <td>0</td>\n",
       "      <td>i</td>\n",
       "      <td>SDSSi_65mm~empty</td>\n",
       "      <td>0</td>\n",
       "      <td>2023-07-21 01:18:49.927</td>\n",
       "      <td>60146.054745</td>\n",
       "    </tr>\n",
       "    <tr>\n",
       "      <th>...</th>\n",
       "      <td>...</td>\n",
       "      <td>...</td>\n",
       "      <td>...</td>\n",
       "      <td>...</td>\n",
       "      <td>...</td>\n",
       "      <td>...</td>\n",
       "      <td>...</td>\n",
       "      <td>...</td>\n",
       "      <td>...</td>\n",
       "      <td>...</td>\n",
       "      <td>...</td>\n",
       "      <td>...</td>\n",
       "      <td>...</td>\n",
       "      <td>...</td>\n",
       "      <td>...</td>\n",
       "      <td>...</td>\n",
       "      <td>...</td>\n",
       "      <td>...</td>\n",
       "      <td>...</td>\n",
       "      <td>...</td>\n",
       "      <td>...</td>\n",
       "    </tr>\n",
       "    <tr>\n",
       "      <th>1520356</th>\n",
       "      <td>176062681684379028</td>\n",
       "      <td>270.263921</td>\n",
       "      <td>-24.926754</td>\n",
       "      <td>41976614400</td>\n",
       "      <td>176062681684378458</td>\n",
       "      <td>2429.000000</td>\n",
       "      <td>3974.000000</td>\n",
       "      <td>NaN</td>\n",
       "      <td>NaN</td>\n",
       "      <td>270.263921</td>\n",
       "      <td>...</td>\n",
       "      <td>False</td>\n",
       "      <td>False</td>\n",
       "      <td>True</td>\n",
       "      <td>2023091400078</td>\n",
       "      <td>0</td>\n",
       "      <td>r</td>\n",
       "      <td>SDSSr_65mm~empty</td>\n",
       "      <td>2098</td>\n",
       "      <td>2023-09-15 02:31:54.880</td>\n",
       "      <td>60202.105496</td>\n",
       "    </tr>\n",
       "    <tr>\n",
       "      <th>1520357</th>\n",
       "      <td>176062681684379029</td>\n",
       "      <td>270.283762</td>\n",
       "      <td>-24.926415</td>\n",
       "      <td>41976614400</td>\n",
       "      <td>176062681684378462</td>\n",
       "      <td>3106.123501</td>\n",
       "      <td>3978.180182</td>\n",
       "      <td>1.095420</td>\n",
       "      <td>2.527355</td>\n",
       "      <td>270.283762</td>\n",
       "      <td>...</td>\n",
       "      <td>False</td>\n",
       "      <td>False</td>\n",
       "      <td>True</td>\n",
       "      <td>2023091400078</td>\n",
       "      <td>0</td>\n",
       "      <td>r</td>\n",
       "      <td>SDSSr_65mm~empty</td>\n",
       "      <td>2098</td>\n",
       "      <td>2023-09-15 02:31:54.880</td>\n",
       "      <td>60202.105496</td>\n",
       "    </tr>\n",
       "    <tr>\n",
       "      <th>1520358</th>\n",
       "      <td>176062681684379030</td>\n",
       "      <td>270.282676</td>\n",
       "      <td>-24.926566</td>\n",
       "      <td>41976614400</td>\n",
       "      <td>176062681684378462</td>\n",
       "      <td>3069.000000</td>\n",
       "      <td>3973.000000</td>\n",
       "      <td>NaN</td>\n",
       "      <td>NaN</td>\n",
       "      <td>270.282676</td>\n",
       "      <td>...</td>\n",
       "      <td>False</td>\n",
       "      <td>False</td>\n",
       "      <td>True</td>\n",
       "      <td>2023091400078</td>\n",
       "      <td>0</td>\n",
       "      <td>r</td>\n",
       "      <td>SDSSr_65mm~empty</td>\n",
       "      <td>2098</td>\n",
       "      <td>2023-09-15 02:31:54.880</td>\n",
       "      <td>60202.105496</td>\n",
       "    </tr>\n",
       "    <tr>\n",
       "      <th>1520359</th>\n",
       "      <td>176062681684379031</td>\n",
       "      <td>270.309986</td>\n",
       "      <td>-24.926115</td>\n",
       "      <td>41976614400</td>\n",
       "      <td>176062681684378465</td>\n",
       "      <td>4001.000000</td>\n",
       "      <td>3978.000000</td>\n",
       "      <td>NaN</td>\n",
       "      <td>NaN</td>\n",
       "      <td>270.309986</td>\n",
       "      <td>...</td>\n",
       "      <td>False</td>\n",
       "      <td>False</td>\n",
       "      <td>True</td>\n",
       "      <td>2023091400078</td>\n",
       "      <td>0</td>\n",
       "      <td>r</td>\n",
       "      <td>SDSSr_65mm~empty</td>\n",
       "      <td>2098</td>\n",
       "      <td>2023-09-15 02:31:54.880</td>\n",
       "      <td>60202.105496</td>\n",
       "    </tr>\n",
       "    <tr>\n",
       "      <th>1520360</th>\n",
       "      <td>176062681684379032</td>\n",
       "      <td>270.308347</td>\n",
       "      <td>-24.926293</td>\n",
       "      <td>41976614400</td>\n",
       "      <td>176062681684378465</td>\n",
       "      <td>3945.000000</td>\n",
       "      <td>3972.000000</td>\n",
       "      <td>23.334812</td>\n",
       "      <td>7.360374</td>\n",
       "      <td>270.308347</td>\n",
       "      <td>...</td>\n",
       "      <td>False</td>\n",
       "      <td>False</td>\n",
       "      <td>True</td>\n",
       "      <td>2023091400078</td>\n",
       "      <td>0</td>\n",
       "      <td>r</td>\n",
       "      <td>SDSSr_65mm~empty</td>\n",
       "      <td>2098</td>\n",
       "      <td>2023-09-15 02:31:54.880</td>\n",
       "      <td>60202.105496</td>\n",
       "    </tr>\n",
       "  </tbody>\n",
       "</table>\n",
       "<p>1520361 rows × 166 columns</p>\n",
       "</div>"
      ],
      "text/plain": [
       "                   sourceId    coord_ra  coord_dec   ccdVisitId  \\\n",
       "0        174092471737778177  240.035971 -24.102006  41506879744   \n",
       "1        174092471737778178  240.114481 -24.101061  41506879744   \n",
       "2        174092471737778179  240.050174 -24.100808  41506879744   \n",
       "3        174092471737778180  240.056853 -24.100218  41506879744   \n",
       "4        174092471737778181  240.095234 -24.099785  41506879744   \n",
       "...                     ...         ...        ...          ...   \n",
       "1520356  176062681684379028  270.263921 -24.926754  41976614400   \n",
       "1520357  176062681684379029  270.283762 -24.926415  41976614400   \n",
       "1520358  176062681684379030  270.282676 -24.926566  41976614400   \n",
       "1520359  176062681684379031  270.309986 -24.926115  41976614400   \n",
       "1520360  176062681684379032  270.308347 -24.926293  41976614400   \n",
       "\n",
       "             parentSourceId            x            y       xErr      yErr  \\\n",
       "0                         0   971.000000    18.000000        NaN       NaN   \n",
       "1                         0  3668.000000    18.000000        NaN       NaN   \n",
       "2                         0  1459.423140    56.758008   0.218000  0.190530   \n",
       "3                         0  1689.114439    75.950081   0.339048  0.381324   \n",
       "4                         0  3007.604922    74.842679   0.366987  0.293205   \n",
       "...                     ...          ...          ...        ...       ...   \n",
       "1520356  176062681684378458  2429.000000  3974.000000        NaN       NaN   \n",
       "1520357  176062681684378462  3106.123501  3978.180182   1.095420  2.527355   \n",
       "1520358  176062681684378462  3069.000000  3973.000000        NaN       NaN   \n",
       "1520359  176062681684378465  4001.000000  3978.000000        NaN       NaN   \n",
       "1520360  176062681684378465  3945.000000  3972.000000  23.334812  7.360374   \n",
       "\n",
       "                 ra  ...  hsmShapeRegauss_flag_parent_source  sky_source  \\\n",
       "0        240.035971  ...                               False       False   \n",
       "1        240.114481  ...                               False       False   \n",
       "2        240.050174  ...                               False       False   \n",
       "3        240.056853  ...                               False       False   \n",
       "4        240.095234  ...                               False       False   \n",
       "...             ...  ...                                 ...         ...   \n",
       "1520356  270.263921  ...                               False       False   \n",
       "1520357  270.283762  ...                               False       False   \n",
       "1520358  270.282676  ...                               False       False   \n",
       "1520359  270.309986  ...                               False       False   \n",
       "1520360  270.308347  ...                               False       False   \n",
       "\n",
       "         detect_isPrimary          visit  detector  band   physical_filter  \\\n",
       "0                    True  2023072000185         0     i  SDSSi_65mm~empty   \n",
       "1                    True  2023072000185         0     i  SDSSi_65mm~empty   \n",
       "2                    True  2023072000185         0     i  SDSSi_65mm~empty   \n",
       "3                    True  2023072000185         0     i  SDSSi_65mm~empty   \n",
       "4                    True  2023072000185         0     i  SDSSi_65mm~empty   \n",
       "...                   ...            ...       ...   ...               ...   \n",
       "1520356              True  2023091400078         0     r  SDSSr_65mm~empty   \n",
       "1520357              True  2023091400078         0     r  SDSSr_65mm~empty   \n",
       "1520358              True  2023091400078         0     r  SDSSr_65mm~empty   \n",
       "1520359              True  2023091400078         0     r  SDSSr_65mm~empty   \n",
       "1520360              True  2023091400078         0     r  SDSSr_65mm~empty   \n",
       "\n",
       "         visid_idx                  dateobs           mjd  \n",
       "0                0  2023-07-21 01:18:49.927  60146.054745  \n",
       "1                0  2023-07-21 01:18:49.927  60146.054745  \n",
       "2                0  2023-07-21 01:18:49.927  60146.054745  \n",
       "3                0  2023-07-21 01:18:49.927  60146.054745  \n",
       "4                0  2023-07-21 01:18:49.927  60146.054745  \n",
       "...            ...                      ...           ...  \n",
       "1520356       2098  2023-09-15 02:31:54.880  60202.105496  \n",
       "1520357       2098  2023-09-15 02:31:54.880  60202.105496  \n",
       "1520358       2098  2023-09-15 02:31:54.880  60202.105496  \n",
       "1520359       2098  2023-09-15 02:31:54.880  60202.105496  \n",
       "1520360       2098  2023-09-15 02:31:54.880  60202.105496  \n",
       "\n",
       "[1520361 rows x 166 columns]"
      ]
     },
     "execution_count": 4,
     "metadata": {},
     "output_type": "execute_result"
    }
   ],
   "source": [
    "df"
   ]
  },
  {
   "cell_type": "code",
   "execution_count": 5,
   "id": "01717b67-ecd3-4a3d-9912-fb69a7f611fe",
   "metadata": {
    "execution": {
     "iopub.execute_input": "2023-12-26T18:38:56.476021Z",
     "iopub.status.busy": "2023-12-26T18:38:56.475865Z",
     "iopub.status.idle": "2023-12-26T18:38:56.479238Z",
     "shell.execute_reply": "2023-12-26T18:38:56.478817Z",
     "shell.execute_reply.started": "2023-12-26T18:38:56.476007Z"
    }
   },
   "outputs": [
    {
     "name": "stdout",
     "output_type": "stream",
     "text": [
      "sourceId\n",
      "coord_ra\n",
      "coord_dec\n",
      "ccdVisitId\n",
      "parentSourceId\n",
      "x\n",
      "y\n",
      "xErr\n",
      "yErr\n",
      "ra\n",
      "dec\n",
      "decl\n",
      "raErr\n",
      "decErr\n",
      "ra_dec_Cov\n",
      "calibFlux\n",
      "calibFluxErr\n",
      "ap03Flux\n",
      "ap03FluxErr\n",
      "ap03Flux_flag\n",
      "ap06Flux\n",
      "ap06FluxErr\n",
      "ap06Flux_flag\n",
      "ap09Flux\n",
      "ap09FluxErr\n",
      "ap09Flux_flag\n",
      "ap12Flux\n",
      "ap12FluxErr\n",
      "ap12Flux_flag\n",
      "ap17Flux\n",
      "ap17FluxErr\n",
      "ap17Flux_flag\n",
      "ap25Flux\n",
      "ap25FluxErr\n",
      "ap25Flux_flag\n",
      "ap35Flux\n",
      "ap35FluxErr\n",
      "ap35Flux_flag\n",
      "ap50Flux\n",
      "ap50FluxErr\n",
      "ap50Flux_flag\n",
      "ap70Flux\n",
      "ap70FluxErr\n",
      "ap70Flux_flag\n",
      "sky\n",
      "skyErr\n",
      "psfFlux\n",
      "psfFluxErr\n",
      "ixx\n",
      "iyy\n",
      "ixy\n",
      "ixxPSF\n",
      "iyyPSF\n",
      "ixyPSF\n",
      "ixxDebiasedPSF\n",
      "iyyDebiasedPSF\n",
      "ixyDebiasedPSF\n",
      "gaussianFlux\n",
      "gaussianFluxErr\n",
      "extendedness\n",
      "localPhotoCalib\n",
      "localPhotoCalib_flag\n",
      "localPhotoCalibErr\n",
      "localWcs_flag\n",
      "localWcs_CDMatrix_2_1\n",
      "localWcs_CDMatrix_1_1\n",
      "localWcs_CDMatrix_1_2\n",
      "localWcs_CDMatrix_2_2\n",
      "blendedness_abs\n",
      "blendedness_flag\n",
      "blendedness_flag_noCentroid\n",
      "blendedness_flag_noShape\n",
      "apFlux_12_0_flag\n",
      "apFlux_12_0_flag_apertureTruncated\n",
      "apFlux_12_0_flag_sincCoeffsTruncated\n",
      "apFlux_12_0_instFlux\n",
      "apFlux_12_0_instFluxErr\n",
      "apFlux_17_0_flag\n",
      "apFlux_17_0_instFlux\n",
      "apFlux_17_0_instFluxErr\n",
      "apFlux_35_0_flag\n",
      "apFlux_35_0_instFlux\n",
      "apFlux_35_0_instFluxErr\n",
      "apFlux_50_0_flag\n",
      "apFlux_50_0_instFlux\n",
      "apFlux_50_0_instFluxErr\n",
      "extendedness_flag\n",
      "footprintArea_value\n",
      "jacobian_flag\n",
      "jacobian_value\n",
      "localBackground_instFlux\n",
      "localBackground_instFluxErr\n",
      "localBackground_flag\n",
      "localBackground_flag_noGoodPixels\n",
      "localBackground_flag_noPsf\n",
      "pixelFlags_bad\n",
      "pixelFlags_cr\n",
      "pixelFlags_crCenter\n",
      "pixelFlags_edge\n",
      "pixelFlags_interpolated\n",
      "pixelFlags_interpolatedCenter\n",
      "pixelFlags_offimage\n",
      "pixelFlags_saturated\n",
      "pixelFlags_saturatedCenter\n",
      "pixelFlags_suspect\n",
      "pixelFlags_suspectCenter\n",
      "pixelFlags_streak\n",
      "pixelFlags_streakCenter\n",
      "psfFlux_apCorr\n",
      "psfFlux_apCorrErr\n",
      "psfFlux_area\n",
      "psfFlux_flag\n",
      "psfFlux_flag_apCorr\n",
      "psfFlux_flag_edge\n",
      "psfFlux_flag_noGoodPixels\n",
      "gaussianFlux_flag\n",
      "centroid_flag\n",
      "centroid_flag_almostNoSecondDerivative\n",
      "centroid_flag_badError\n",
      "centroid_flag_edge\n",
      "centroid_flag_noSecondDerivative\n",
      "centroid_flag_notAtMaximum\n",
      "centroid_flag_resetToPeak\n",
      "variance_flag\n",
      "variance_flag_emptyFootprint\n",
      "variance_value\n",
      "calib_astrometry_used\n",
      "calib_detected\n",
      "calib_photometry_reserved\n",
      "calib_photometry_used\n",
      "calib_psf_candidate\n",
      "calib_psf_reserved\n",
      "calib_psf_used\n",
      "deblend_deblendedAsPsf\n",
      "deblend_hasStrayFlux\n",
      "deblend_masked\n",
      "deblend_nChild\n",
      "deblend_parentTooBig\n",
      "deblend_patchedTemplate\n",
      "deblend_rampedTemplate\n",
      "deblend_skipped\n",
      "deblend_tooManyPeaks\n",
      "hsmPsfMoments_flag\n",
      "hsmPsfMoments_flag_no_pixels\n",
      "hsmPsfMoments_flag_not_contained\n",
      "hsmPsfMoments_flag_parent_source\n",
      "iDebiasedPSF_flag\n",
      "iDebiasedPSF_flag_no_pixels\n",
      "iDebiasedPSF_flag_not_contained\n",
      "iDebiasedPSF_flag_parent_source\n",
      "iDebiasedPSF_flag_galsim\n",
      "iDebiasedPSF_flag_edge\n",
      "hsmShapeRegauss_flag\n",
      "hsmShapeRegauss_flag_galsim\n",
      "hsmShapeRegauss_flag_no_pixels\n",
      "hsmShapeRegauss_flag_not_contained\n",
      "hsmShapeRegauss_flag_parent_source\n",
      "sky_source\n",
      "detect_isPrimary\n",
      "visit\n",
      "detector\n",
      "band\n",
      "physical_filter\n",
      "visid_idx\n",
      "dateobs\n",
      "mjd\n"
     ]
    }
   ],
   "source": [
    "colnames = list(df.columns)\n",
    "for name in colnames:\n",
    "    print(name)"
   ]
  },
  {
   "cell_type": "code",
   "execution_count": 6,
   "id": "4b23eb74-c343-450f-a9ea-bff1b6603972",
   "metadata": {
    "execution": {
     "iopub.execute_input": "2023-12-26T18:38:56.479913Z",
     "iopub.status.busy": "2023-12-26T18:38:56.479763Z",
     "iopub.status.idle": "2023-12-26T18:38:56.503683Z",
     "shell.execute_reply": "2023-12-26T18:38:56.503203Z",
     "shell.execute_reply.started": "2023-12-26T18:38:56.479898Z"
    }
   },
   "outputs": [],
   "source": [
    "df_sel = df[['sourceId','ccdVisitId','x','y','ra','dec','coord_ra','coord_dec','psfFlux','gaussianFlux','visit','band','visid_idx','mjd','dateobs','extendedness_flag','detect_isPrimary']]"
   ]
  },
  {
   "cell_type": "code",
   "execution_count": 7,
   "id": "a9301c9b-afca-4997-a25b-349c58ffbda7",
   "metadata": {
    "execution": {
     "iopub.execute_input": "2023-12-26T18:38:56.504437Z",
     "iopub.status.busy": "2023-12-26T18:38:56.504300Z",
     "iopub.status.idle": "2023-12-26T18:38:56.507188Z",
     "shell.execute_reply": "2023-12-26T18:38:56.506811Z",
     "shell.execute_reply.started": "2023-12-26T18:38:56.504423Z"
    }
   },
   "outputs": [],
   "source": [
    "def convert_fluxtomag(x) :\n",
    "    \"\"\"\n",
    "    The object and source catalogs store only fluxes. There are hundreds of flux-related columns, \n",
    "    and to store them also as magnitudes would be redundant, and a waste of space.\n",
    "    All flux units are nanojanskys. The AB Magnitudes Wikipedia page provides a concise resource \n",
    "    for users unfamiliar with AB magnitudes and jansky fluxes. To convert to AB magnitudes use:\n",
    "    As demonstrated in Section 2.3.2, to add columns of magnitudes after retrieving columns of flux, users can do this:\n",
    "    results_table['r_calibMag'] = -2.50 * numpy.log10(results_table['r_calibFlux']) + 31.4\n",
    "    results_table['r_cModelMag'] = -2.50 * numpy.log10(results_table['r_cModelFlux']) + 31.4\n",
    "    (from DP0 tutorial)\n",
    "    \"\"\"\n",
    "    return -2.50 * np.log10(x) + 31.4"
   ]
  },
  {
   "cell_type": "code",
   "execution_count": 8,
   "id": "30914e6f-52fd-4eb3-bbc1-23ff66a89188",
   "metadata": {
    "execution": {
     "iopub.execute_input": "2023-12-26T18:38:56.507808Z",
     "iopub.status.busy": "2023-12-26T18:38:56.507674Z",
     "iopub.status.idle": "2023-12-26T18:38:59.453728Z",
     "shell.execute_reply": "2023-12-26T18:38:59.453232Z",
     "shell.execute_reply.started": "2023-12-26T18:38:56.507787Z"
    }
   },
   "outputs": [
    {
     "name": "stderr",
     "output_type": "stream",
     "text": [
      "/tmp/ipykernel_38698/4088867659.py:12: RuntimeWarning: invalid value encountered in log10\n",
      "  return -2.50 * np.log10(x) + 31.4\n",
      "/tmp/ipykernel_38698/1754447433.py:1: SettingWithCopyWarning: \n",
      "A value is trying to be set on a copy of a slice from a DataFrame.\n",
      "Try using .loc[row_indexer,col_indexer] = value instead\n",
      "\n",
      "See the caveats in the documentation: https://pandas.pydata.org/pandas-docs/stable/user_guide/indexing.html#returning-a-view-versus-a-copy\n",
      "  df_sel[\"psfMag\"] =  df_sel['psfFlux'].map(convert_fluxtomag)\n",
      "/tmp/ipykernel_38698/4088867659.py:12: RuntimeWarning: invalid value encountered in log10\n",
      "  return -2.50 * np.log10(x) + 31.4\n",
      "/tmp/ipykernel_38698/4088867659.py:12: RuntimeWarning: divide by zero encountered in log10\n",
      "  return -2.50 * np.log10(x) + 31.4\n",
      "/tmp/ipykernel_38698/1754447433.py:3: SettingWithCopyWarning: \n",
      "A value is trying to be set on a copy of a slice from a DataFrame.\n",
      "Try using .loc[row_indexer,col_indexer] = value instead\n",
      "\n",
      "See the caveats in the documentation: https://pandas.pydata.org/pandas-docs/stable/user_guide/indexing.html#returning-a-view-versus-a-copy\n",
      "  df_sel[\"gaussianMag\"] =  df_sel['gaussianFlux'].map(convert_fluxtomag)\n"
     ]
    }
   ],
   "source": [
    "df_sel[\"psfMag\"] =  df_sel['psfFlux'].map(convert_fluxtomag)\n",
    "#df_sel[\"gaussianMag\"] =  df_sel['gaussianFlux'].map(lambda x:-2.50 * np.log10(x) + 31.4)\n",
    "df_sel[\"gaussianMag\"] =  df_sel['gaussianFlux'].map(convert_fluxtomag)"
   ]
  },
  {
   "cell_type": "code",
   "execution_count": 9,
   "id": "b5458f28-5032-4720-a388-636dd8c40425",
   "metadata": {
    "execution": {
     "iopub.execute_input": "2023-12-26T18:38:59.454486Z",
     "iopub.status.busy": "2023-12-26T18:38:59.454345Z",
     "iopub.status.idle": "2023-12-26T18:38:59.504090Z",
     "shell.execute_reply": "2023-12-26T18:38:59.503604Z",
     "shell.execute_reply.started": "2023-12-26T18:38:59.454472Z"
    }
   },
   "outputs": [],
   "source": [
    "df_sel = df_sel[df_sel['extendedness_flag']==False & df_sel['detect_isPrimary']]"
   ]
  },
  {
   "cell_type": "code",
   "execution_count": 10,
   "id": "f48573a3-24d2-4149-b861-e291ebac8091",
   "metadata": {
    "execution": {
     "iopub.execute_input": "2023-12-26T18:38:59.504837Z",
     "iopub.status.busy": "2023-12-26T18:38:59.504704Z",
     "iopub.status.idle": "2023-12-26T18:38:59.692406Z",
     "shell.execute_reply": "2023-12-26T18:38:59.691944Z",
     "shell.execute_reply.started": "2023-12-26T18:38:59.504824Z"
    }
   },
   "outputs": [],
   "source": [
    "df_sel.dropna(axis=0,inplace = True)"
   ]
  },
  {
   "cell_type": "code",
   "execution_count": 11,
   "id": "495079c5-f71e-4741-8cdc-0b912d4dc36b",
   "metadata": {
    "execution": {
     "iopub.execute_input": "2023-12-26T18:38:59.693395Z",
     "iopub.status.busy": "2023-12-26T18:38:59.693068Z",
     "iopub.status.idle": "2023-12-26T18:38:59.705803Z",
     "shell.execute_reply": "2023-12-26T18:38:59.705439Z",
     "shell.execute_reply.started": "2023-12-26T18:38:59.693381Z"
    }
   },
   "outputs": [
    {
     "data": {
      "text/html": [
       "<div>\n",
       "<style scoped>\n",
       "    .dataframe tbody tr th:only-of-type {\n",
       "        vertical-align: middle;\n",
       "    }\n",
       "\n",
       "    .dataframe tbody tr th {\n",
       "        vertical-align: top;\n",
       "    }\n",
       "\n",
       "    .dataframe thead th {\n",
       "        text-align: right;\n",
       "    }\n",
       "</style>\n",
       "<table border=\"1\" class=\"dataframe\">\n",
       "  <thead>\n",
       "    <tr style=\"text-align: right;\">\n",
       "      <th></th>\n",
       "      <th>sourceId</th>\n",
       "      <th>ccdVisitId</th>\n",
       "      <th>x</th>\n",
       "      <th>y</th>\n",
       "      <th>ra</th>\n",
       "      <th>dec</th>\n",
       "      <th>coord_ra</th>\n",
       "      <th>coord_dec</th>\n",
       "      <th>psfFlux</th>\n",
       "      <th>gaussianFlux</th>\n",
       "      <th>visit</th>\n",
       "      <th>band</th>\n",
       "      <th>visid_idx</th>\n",
       "      <th>mjd</th>\n",
       "      <th>dateobs</th>\n",
       "      <th>extendedness_flag</th>\n",
       "      <th>detect_isPrimary</th>\n",
       "      <th>psfMag</th>\n",
       "      <th>gaussianMag</th>\n",
       "    </tr>\n",
       "  </thead>\n",
       "  <tbody>\n",
       "    <tr>\n",
       "      <th>2</th>\n",
       "      <td>174092471737778179</td>\n",
       "      <td>41506879744</td>\n",
       "      <td>1459.423140</td>\n",
       "      <td>56.758008</td>\n",
       "      <td>240.050174</td>\n",
       "      <td>-24.100808</td>\n",
       "      <td>240.050174</td>\n",
       "      <td>-24.100808</td>\n",
       "      <td>1.199960e+06</td>\n",
       "      <td>1.232448e+06</td>\n",
       "      <td>2023072000185</td>\n",
       "      <td>i</td>\n",
       "      <td>0</td>\n",
       "      <td>60146.054745</td>\n",
       "      <td>2023-07-21 01:18:49.927</td>\n",
       "      <td>False</td>\n",
       "      <td>True</td>\n",
       "      <td>16.202083</td>\n",
       "      <td>16.173079</td>\n",
       "    </tr>\n",
       "    <tr>\n",
       "      <th>3</th>\n",
       "      <td>174092471737778180</td>\n",
       "      <td>41506879744</td>\n",
       "      <td>1689.114439</td>\n",
       "      <td>75.950081</td>\n",
       "      <td>240.056853</td>\n",
       "      <td>-24.100218</td>\n",
       "      <td>240.056853</td>\n",
       "      <td>-24.100218</td>\n",
       "      <td>3.211502e+05</td>\n",
       "      <td>3.671762e+05</td>\n",
       "      <td>2023072000185</td>\n",
       "      <td>i</td>\n",
       "      <td>0</td>\n",
       "      <td>60146.054745</td>\n",
       "      <td>2023-07-21 01:18:49.927</td>\n",
       "      <td>False</td>\n",
       "      <td>True</td>\n",
       "      <td>17.633229</td>\n",
       "      <td>17.487814</td>\n",
       "    </tr>\n",
       "    <tr>\n",
       "      <th>4</th>\n",
       "      <td>174092471737778181</td>\n",
       "      <td>41506879744</td>\n",
       "      <td>3007.604922</td>\n",
       "      <td>74.842679</td>\n",
       "      <td>240.095234</td>\n",
       "      <td>-24.099785</td>\n",
       "      <td>240.095234</td>\n",
       "      <td>-24.099785</td>\n",
       "      <td>6.535161e+05</td>\n",
       "      <td>6.485894e+05</td>\n",
       "      <td>2023072000185</td>\n",
       "      <td>i</td>\n",
       "      <td>0</td>\n",
       "      <td>60146.054745</td>\n",
       "      <td>2023-07-21 01:18:49.927</td>\n",
       "      <td>False</td>\n",
       "      <td>True</td>\n",
       "      <td>16.861859</td>\n",
       "      <td>16.870075</td>\n",
       "    </tr>\n",
       "    <tr>\n",
       "      <th>5</th>\n",
       "      <td>174092471737778182</td>\n",
       "      <td>41506879744</td>\n",
       "      <td>1067.365729</td>\n",
       "      <td>85.899514</td>\n",
       "      <td>240.038750</td>\n",
       "      <td>-24.100168</td>\n",
       "      <td>240.038750</td>\n",
       "      <td>-24.100168</td>\n",
       "      <td>2.687373e+05</td>\n",
       "      <td>2.940699e+05</td>\n",
       "      <td>2023072000185</td>\n",
       "      <td>i</td>\n",
       "      <td>0</td>\n",
       "      <td>60146.054745</td>\n",
       "      <td>2023-07-21 01:18:49.927</td>\n",
       "      <td>False</td>\n",
       "      <td>True</td>\n",
       "      <td>17.826680</td>\n",
       "      <td>17.728874</td>\n",
       "    </tr>\n",
       "    <tr>\n",
       "      <th>6</th>\n",
       "      <td>174092471737778183</td>\n",
       "      <td>41506879744</td>\n",
       "      <td>1015.704829</td>\n",
       "      <td>101.648672</td>\n",
       "      <td>240.037240</td>\n",
       "      <td>-24.099767</td>\n",
       "      <td>240.037240</td>\n",
       "      <td>-24.099767</td>\n",
       "      <td>1.462395e+05</td>\n",
       "      <td>1.497408e+05</td>\n",
       "      <td>2023072000185</td>\n",
       "      <td>i</td>\n",
       "      <td>0</td>\n",
       "      <td>60146.054745</td>\n",
       "      <td>2023-07-21 01:18:49.927</td>\n",
       "      <td>False</td>\n",
       "      <td>True</td>\n",
       "      <td>18.487338</td>\n",
       "      <td>18.461650</td>\n",
       "    </tr>\n",
       "    <tr>\n",
       "      <th>...</th>\n",
       "      <td>...</td>\n",
       "      <td>...</td>\n",
       "      <td>...</td>\n",
       "      <td>...</td>\n",
       "      <td>...</td>\n",
       "      <td>...</td>\n",
       "      <td>...</td>\n",
       "      <td>...</td>\n",
       "      <td>...</td>\n",
       "      <td>...</td>\n",
       "      <td>...</td>\n",
       "      <td>...</td>\n",
       "      <td>...</td>\n",
       "      <td>...</td>\n",
       "      <td>...</td>\n",
       "      <td>...</td>\n",
       "      <td>...</td>\n",
       "      <td>...</td>\n",
       "      <td>...</td>\n",
       "    </tr>\n",
       "    <tr>\n",
       "      <th>1520349</th>\n",
       "      <td>176062681684379021</td>\n",
       "      <td>41976614400</td>\n",
       "      <td>1721.220185</td>\n",
       "      <td>3900.456386</td>\n",
       "      <td>270.243207</td>\n",
       "      <td>-24.928944</td>\n",
       "      <td>270.243207</td>\n",
       "      <td>-24.928944</td>\n",
       "      <td>5.797227e+05</td>\n",
       "      <td>5.812273e+05</td>\n",
       "      <td>2023091400078</td>\n",
       "      <td>r</td>\n",
       "      <td>2098</td>\n",
       "      <td>60202.105496</td>\n",
       "      <td>2023-09-15 02:31:54.880</td>\n",
       "      <td>False</td>\n",
       "      <td>True</td>\n",
       "      <td>16.991949</td>\n",
       "      <td>16.989135</td>\n",
       "    </tr>\n",
       "    <tr>\n",
       "      <th>1520350</th>\n",
       "      <td>176062681684379022</td>\n",
       "      <td>41976614400</td>\n",
       "      <td>1734.660929</td>\n",
       "      <td>3941.651923</td>\n",
       "      <td>270.243586</td>\n",
       "      <td>-24.927845</td>\n",
       "      <td>270.243586</td>\n",
       "      <td>-24.927845</td>\n",
       "      <td>2.781668e+05</td>\n",
       "      <td>2.709826e+05</td>\n",
       "      <td>2023091400078</td>\n",
       "      <td>r</td>\n",
       "      <td>2098</td>\n",
       "      <td>60202.105496</td>\n",
       "      <td>2023-09-15 02:31:54.880</td>\n",
       "      <td>False</td>\n",
       "      <td>True</td>\n",
       "      <td>17.789237</td>\n",
       "      <td>17.817647</td>\n",
       "    </tr>\n",
       "    <tr>\n",
       "      <th>1520351</th>\n",
       "      <td>176062681684379023</td>\n",
       "      <td>41976614400</td>\n",
       "      <td>1612.620766</td>\n",
       "      <td>3897.192739</td>\n",
       "      <td>270.240025</td>\n",
       "      <td>-24.929067</td>\n",
       "      <td>270.240025</td>\n",
       "      <td>-24.929067</td>\n",
       "      <td>2.301183e+05</td>\n",
       "      <td>2.213865e+05</td>\n",
       "      <td>2023091400078</td>\n",
       "      <td>r</td>\n",
       "      <td>2098</td>\n",
       "      <td>60202.105496</td>\n",
       "      <td>2023-09-15 02:31:54.880</td>\n",
       "      <td>False</td>\n",
       "      <td>True</td>\n",
       "      <td>17.995122</td>\n",
       "      <td>18.037122</td>\n",
       "    </tr>\n",
       "    <tr>\n",
       "      <th>1520353</th>\n",
       "      <td>176062681684379025</td>\n",
       "      <td>41976614400</td>\n",
       "      <td>1274.442138</td>\n",
       "      <td>3912.159875</td>\n",
       "      <td>270.230110</td>\n",
       "      <td>-24.928780</td>\n",
       "      <td>270.230110</td>\n",
       "      <td>-24.928780</td>\n",
       "      <td>4.203320e+05</td>\n",
       "      <td>6.785856e+05</td>\n",
       "      <td>2023091400078</td>\n",
       "      <td>r</td>\n",
       "      <td>2098</td>\n",
       "      <td>60202.105496</td>\n",
       "      <td>2023-09-15 02:31:54.880</td>\n",
       "      <td>False</td>\n",
       "      <td>True</td>\n",
       "      <td>17.341019</td>\n",
       "      <td>16.820988</td>\n",
       "    </tr>\n",
       "    <tr>\n",
       "      <th>1520354</th>\n",
       "      <td>176062681684379026</td>\n",
       "      <td>41976614400</td>\n",
       "      <td>1307.942328</td>\n",
       "      <td>3879.542950</td>\n",
       "      <td>270.231103</td>\n",
       "      <td>-24.929636</td>\n",
       "      <td>270.231103</td>\n",
       "      <td>-24.929636</td>\n",
       "      <td>3.344453e+04</td>\n",
       "      <td>5.949009e+04</td>\n",
       "      <td>2023091400078</td>\n",
       "      <td>r</td>\n",
       "      <td>2098</td>\n",
       "      <td>60202.105496</td>\n",
       "      <td>2023-09-15 02:31:54.880</td>\n",
       "      <td>False</td>\n",
       "      <td>True</td>\n",
       "      <td>20.089187</td>\n",
       "      <td>19.463888</td>\n",
       "    </tr>\n",
       "  </tbody>\n",
       "</table>\n",
       "<p>951089 rows × 19 columns</p>\n",
       "</div>"
      ],
      "text/plain": [
       "                   sourceId   ccdVisitId            x            y  \\\n",
       "2        174092471737778179  41506879744  1459.423140    56.758008   \n",
       "3        174092471737778180  41506879744  1689.114439    75.950081   \n",
       "4        174092471737778181  41506879744  3007.604922    74.842679   \n",
       "5        174092471737778182  41506879744  1067.365729    85.899514   \n",
       "6        174092471737778183  41506879744  1015.704829   101.648672   \n",
       "...                     ...          ...          ...          ...   \n",
       "1520349  176062681684379021  41976614400  1721.220185  3900.456386   \n",
       "1520350  176062681684379022  41976614400  1734.660929  3941.651923   \n",
       "1520351  176062681684379023  41976614400  1612.620766  3897.192739   \n",
       "1520353  176062681684379025  41976614400  1274.442138  3912.159875   \n",
       "1520354  176062681684379026  41976614400  1307.942328  3879.542950   \n",
       "\n",
       "                 ra        dec    coord_ra  coord_dec       psfFlux  \\\n",
       "2        240.050174 -24.100808  240.050174 -24.100808  1.199960e+06   \n",
       "3        240.056853 -24.100218  240.056853 -24.100218  3.211502e+05   \n",
       "4        240.095234 -24.099785  240.095234 -24.099785  6.535161e+05   \n",
       "5        240.038750 -24.100168  240.038750 -24.100168  2.687373e+05   \n",
       "6        240.037240 -24.099767  240.037240 -24.099767  1.462395e+05   \n",
       "...             ...        ...         ...        ...           ...   \n",
       "1520349  270.243207 -24.928944  270.243207 -24.928944  5.797227e+05   \n",
       "1520350  270.243586 -24.927845  270.243586 -24.927845  2.781668e+05   \n",
       "1520351  270.240025 -24.929067  270.240025 -24.929067  2.301183e+05   \n",
       "1520353  270.230110 -24.928780  270.230110 -24.928780  4.203320e+05   \n",
       "1520354  270.231103 -24.929636  270.231103 -24.929636  3.344453e+04   \n",
       "\n",
       "         gaussianFlux          visit band  visid_idx           mjd  \\\n",
       "2        1.232448e+06  2023072000185    i          0  60146.054745   \n",
       "3        3.671762e+05  2023072000185    i          0  60146.054745   \n",
       "4        6.485894e+05  2023072000185    i          0  60146.054745   \n",
       "5        2.940699e+05  2023072000185    i          0  60146.054745   \n",
       "6        1.497408e+05  2023072000185    i          0  60146.054745   \n",
       "...               ...            ...  ...        ...           ...   \n",
       "1520349  5.812273e+05  2023091400078    r       2098  60202.105496   \n",
       "1520350  2.709826e+05  2023091400078    r       2098  60202.105496   \n",
       "1520351  2.213865e+05  2023091400078    r       2098  60202.105496   \n",
       "1520353  6.785856e+05  2023091400078    r       2098  60202.105496   \n",
       "1520354  5.949009e+04  2023091400078    r       2098  60202.105496   \n",
       "\n",
       "                         dateobs  extendedness_flag  detect_isPrimary  \\\n",
       "2        2023-07-21 01:18:49.927              False              True   \n",
       "3        2023-07-21 01:18:49.927              False              True   \n",
       "4        2023-07-21 01:18:49.927              False              True   \n",
       "5        2023-07-21 01:18:49.927              False              True   \n",
       "6        2023-07-21 01:18:49.927              False              True   \n",
       "...                          ...                ...               ...   \n",
       "1520349  2023-09-15 02:31:54.880              False              True   \n",
       "1520350  2023-09-15 02:31:54.880              False              True   \n",
       "1520351  2023-09-15 02:31:54.880              False              True   \n",
       "1520353  2023-09-15 02:31:54.880              False              True   \n",
       "1520354  2023-09-15 02:31:54.880              False              True   \n",
       "\n",
       "            psfMag  gaussianMag  \n",
       "2        16.202083    16.173079  \n",
       "3        17.633229    17.487814  \n",
       "4        16.861859    16.870075  \n",
       "5        17.826680    17.728874  \n",
       "6        18.487338    18.461650  \n",
       "...            ...          ...  \n",
       "1520349  16.991949    16.989135  \n",
       "1520350  17.789237    17.817647  \n",
       "1520351  17.995122    18.037122  \n",
       "1520353  17.341019    16.820988  \n",
       "1520354  20.089187    19.463888  \n",
       "\n",
       "[951089 rows x 19 columns]"
      ]
     },
     "execution_count": 11,
     "metadata": {},
     "output_type": "execute_result"
    }
   ],
   "source": [
    "df_sel"
   ]
  },
  {
   "cell_type": "code",
   "execution_count": 12,
   "id": "a8f6b71e-4486-45a6-bab8-13eae61ded2f",
   "metadata": {
    "execution": {
     "iopub.execute_input": "2023-12-26T18:38:59.706437Z",
     "iopub.status.busy": "2023-12-26T18:38:59.706319Z",
     "iopub.status.idle": "2023-12-26T18:39:21.321493Z",
     "shell.execute_reply": "2023-12-26T18:39:21.321065Z",
     "shell.execute_reply.started": "2023-12-26T18:38:59.706426Z"
    }
   },
   "outputs": [
    {
     "data": {
      "text/plain": [
       "<Axes: xlabel='x', ylabel='y'>"
      ]
     },
     "execution_count": 12,
     "metadata": {},
     "output_type": "execute_result"
    },
    {
     "data": {
      "image/png": "[encoded data removed]",
      "text/plain": [
       "<Figure size 400x300 with 2 Axes>"
      ]
     },
     "metadata": {},
     "output_type": "display_data"
    }
   ],
   "source": [
    "df_sel.plot.scatter('x','y',c='ccdVisitId',colormap='viridis')"
   ]
  },
  {
   "cell_type": "code",
   "execution_count": 13,
   "id": "7f1e4786-d417-402a-bdc1-0aca5e040dae",
   "metadata": {
    "execution": {
     "iopub.execute_input": "2023-12-26T18:39:21.322370Z",
     "iopub.status.busy": "2023-12-26T18:39:21.322186Z",
     "iopub.status.idle": "2023-12-26T18:39:41.738980Z",
     "shell.execute_reply": "2023-12-26T18:39:41.738518Z",
     "shell.execute_reply.started": "2023-12-26T18:39:21.322355Z"
    }
   },
   "outputs": [
    {
     "data": {
      "text/plain": [
       "<Axes: xlabel='ra', ylabel='dec'>"
      ]
     },
     "execution_count": 13,
     "metadata": {},
     "output_type": "execute_result"
    },
    {
     "data": {
      "image/png": "[encoded data removed]",
      "text/plain": [
       "<Figure size 1000x500 with 2 Axes>"
      ]
     },
     "metadata": {},
     "output_type": "display_data"
    }
   ],
   "source": [
    "df_sel.plot.scatter('ra','dec',c='ccdVisitId',colormap='hsv',grid=True,figsize=(10,5))"
   ]
  },
  {
   "cell_type": "code",
   "execution_count": 14,
   "id": "52e5f78a-e202-4fc7-8aa5-8a99fce569d0",
   "metadata": {
    "execution": {
     "iopub.execute_input": "2023-12-26T18:39:41.740974Z",
     "iopub.status.busy": "2023-12-26T18:39:41.740844Z",
     "iopub.status.idle": "2023-12-26T18:40:02.346116Z",
     "shell.execute_reply": "2023-12-26T18:40:02.345706Z",
     "shell.execute_reply.started": "2023-12-26T18:39:41.740962Z"
    }
   },
   "outputs": [
    {
     "data": {
      "text/plain": [
       "<Axes: xlabel='coord_ra', ylabel='coord_dec'>"
      ]
     },
     "execution_count": 14,
     "metadata": {},
     "output_type": "execute_result"
    },
    {
     "data": {
      "image/png": "[encoded data removed]",
      "text/plain": [
       "<Figure size 1000x500 with 2 Axes>"
      ]
     },
     "metadata": {},
     "output_type": "display_data"
    }
   ],
   "source": [
    "df_sel.plot.scatter('coord_ra','coord_dec',c='ccdVisitId',colormap='hsv',grid=True,figsize=(10,5))"
   ]
  },
  {
   "cell_type": "code",
   "execution_count": 15,
   "id": "36bc38b2-e138-4e00-8b73-f2776f1b0685",
   "metadata": {
    "execution": {
     "iopub.execute_input": "2023-12-26T18:40:02.346900Z",
     "iopub.status.busy": "2023-12-26T18:40:02.346719Z",
     "iopub.status.idle": "2023-12-26T18:40:02.796614Z",
     "shell.execute_reply": "2023-12-26T18:40:02.796219Z",
     "shell.execute_reply.started": "2023-12-26T18:40:02.346887Z"
    }
   },
   "outputs": [
    {
     "data": {
      "text/plain": [
       "<Axes: title={'center': 'coord_ra'}, ylabel='Frequency'>"
      ]
     },
     "execution_count": 15,
     "metadata": {},
     "output_type": "execute_result"
    },
    {
     "data": {
      "image/png": "[encoded data removed]",
      "text/plain": [
       "<Figure size 1000x500 with 1 Axes>"
      ]
     },
     "metadata": {},
     "output_type": "display_data"
    }
   ],
   "source": [
    "df_sel['coord_ra'].plot(kind=\"hist\",bins=50 ,range=(0,360),logy=True,title=\"coord_ra\",grid=True,figsize=(10,5))"
   ]
  },
  {
   "cell_type": "code",
   "execution_count": 16,
   "id": "ea52f52d-785d-401e-9e2a-7f6f4cbafe08",
   "metadata": {
    "execution": {
     "iopub.execute_input": "2023-12-26T18:40:02.797378Z",
     "iopub.status.busy": "2023-12-26T18:40:02.797212Z",
     "iopub.status.idle": "2023-12-26T18:40:03.112376Z",
     "shell.execute_reply": "2023-12-26T18:40:03.112009Z",
     "shell.execute_reply.started": "2023-12-26T18:40:02.797366Z"
    }
   },
   "outputs": [
    {
     "data": {
      "text/plain": [
       "<Axes: title={'center': 'coord_dec'}, ylabel='Frequency'>"
      ]
     },
     "execution_count": 16,
     "metadata": {},
     "output_type": "execute_result"
    },
    {
     "data": {
      "image/png": "[encoded data removed]",
      "text/plain": [
       "<Figure size 1000x500 with 1 Axes>"
      ]
     },
     "metadata": {},
     "output_type": "display_data"
    }
   ],
   "source": [
    "df_sel['coord_dec'].plot(kind=\"hist\",bins=50 ,range=(-90,10),logy=True,title=\"coord_dec\",grid=True,figsize=(10,5))"
   ]
  },
  {
   "cell_type": "code",
   "execution_count": 17,
   "id": "71a85a9e-0a81-4d04-a3a7-417f9cc0a39f",
   "metadata": {
    "execution": {
     "iopub.execute_input": "2023-12-26T18:40:03.113080Z",
     "iopub.status.busy": "2023-12-26T18:40:03.112955Z",
     "iopub.status.idle": "2023-12-26T18:40:03.117402Z",
     "shell.execute_reply": "2023-12-26T18:40:03.117027Z",
     "shell.execute_reply.started": "2023-12-26T18:40:03.113067Z"
    }
   },
   "outputs": [],
   "source": [
    "cut_skyloc = ((df_sel['dec'] < -30) & (df_sel['dec'] > -40) & (df_sel['ra'] > 100) & (df_sel['ra'] < 150))"
   ]
  },
  {
   "cell_type": "code",
   "execution_count": 18,
   "id": "4312ddf5-74d6-4cd9-bff5-dce8d55505f6",
   "metadata": {
    "execution": {
     "iopub.execute_input": "2023-12-26T18:40:03.118052Z",
     "iopub.status.busy": "2023-12-26T18:40:03.117923Z",
     "iopub.status.idle": "2023-12-26T18:40:03.122555Z",
     "shell.execute_reply": "2023-12-26T18:40:03.122218Z",
     "shell.execute_reply.started": "2023-12-26T18:40:03.118040Z"
    }
   },
   "outputs": [],
   "source": [
    "df_sel = df_sel[cut_skyloc]"
   ]
  },
  {
   "cell_type": "code",
   "execution_count": 19,
   "id": "8d7ea79d-7fdc-40b8-a3db-4ab04b815cd2",
   "metadata": {
    "execution": {
     "iopub.execute_input": "2023-12-26T18:40:03.123195Z",
     "iopub.status.busy": "2023-12-26T18:40:03.123043Z",
     "iopub.status.idle": "2023-12-26T18:40:03.274624Z",
     "shell.execute_reply": "2023-12-26T18:40:03.274223Z",
     "shell.execute_reply.started": "2023-12-26T18:40:03.123183Z"
    }
   },
   "outputs": [
    {
     "data": {
      "text/plain": [
       "<Axes: title={'center': 'psMag'}, ylabel='Frequency'>"
      ]
     },
     "execution_count": 19,
     "metadata": {},
     "output_type": "execute_result"
    },
    {
     "data": {
      "image/png": "[encoded data removed]",
      "text/plain": [
       "<Figure size 400x300 with 1 Axes>"
      ]
     },
     "metadata": {},
     "output_type": "display_data"
    }
   ],
   "source": [
    "df_sel['psfMag'].plot(kind=\"hist\",bins=50,range=(5,30),logy=True,grid=True,title=\"psMag\")"
   ]
  },
  {
   "cell_type": "code",
   "execution_count": null,
   "id": "d9f34f5d-1060-447d-b73d-5626e1a5972b",
   "metadata": {
    "execution": {
     "iopub.execute_input": "2023-12-26T18:40:03.275349Z",
     "iopub.status.busy": "2023-12-26T18:40:03.275221Z"
    }
   },
   "outputs": [
    {
     "data": {
      "text/plain": [
       "<Axes: title={'center': 'gaussianMag'}, ylabel='Frequency'>"
      ]
     },
     "execution_count": 20,
     "metadata": {},
     "output_type": "execute_result"
    }
   ],
   "source": [
    "df_sel['gaussianMag'].plot(kind=\"hist\",bins=50 ,range=(5,30),logy=True,grid=True,title=\"gaussianMag\")"
   ]
  },
  {
   "cell_type": "code",
   "execution_count": null,
   "id": "f560da18-d3db-437b-a323-207132665bf3",
   "metadata": {},
   "outputs": [],
   "source": [
    "df_sel"
   ]
  },
  {
   "cell_type": "code",
   "execution_count": null,
   "id": "5769a54e-167c-438c-aed4-a1bd070d2d8c",
   "metadata": {},
   "outputs": [],
   "source": [
    "#df_sel.groupby(df_sel['dateobs'].dt.date).size().plot()\n",
    "datetime = pd.to_datetime(df_sel['dateobs'])"
   ]
  },
  {
   "cell_type": "code",
   "execution_count": null,
   "id": "5eb4f7c1-bf32-4943-843c-85c1dddefe39",
   "metadata": {},
   "outputs": [],
   "source": [
    "df_sel['dateobs'].max()"
   ]
  },
  {
   "cell_type": "code",
   "execution_count": null,
   "id": "1bf81fbf-64e6-46f5-be8a-9adca60d3abb",
   "metadata": {},
   "outputs": [],
   "source": [
    "df_sel[\"date\"] = df[\"dateobs\"].astype(\"datetime64\")"
   ]
  },
  {
   "cell_type": "code",
   "execution_count": null,
   "id": "a6e84a91-e9d6-404d-8ef9-c2f80f3d3bf0",
   "metadata": {},
   "outputs": [],
   "source": [
    "df_sel"
   ]
  },
  {
   "cell_type": "code",
   "execution_count": null,
   "id": "0c1f2fd3-0101-4637-b030-d226a3b58cab",
   "metadata": {},
   "outputs": [],
   "source": [
    "df_time = df_sel[[\"date\"]]"
   ]
  },
  {
   "cell_type": "code",
   "execution_count": null,
   "id": "79e7f118-e3da-4e0a-9497-a1079dbd30d6",
   "metadata": {},
   "outputs": [],
   "source": [
    "df_time"
   ]
  },
  {
   "cell_type": "code",
   "execution_count": null,
   "id": "1845d0ef-c99a-4b63-9212-80d890f38128",
   "metadata": {},
   "outputs": [],
   "source": [
    "fig = plt.figure()\n",
    "ax = fig.add_subplot(1,1,1)\n",
    "ax = (df_time[\"date\"].groupby(df_time[\"date\"].dt.minute)\n",
    "                         .count()).plot(kind=\"bar\")"
   ]
  }
 ],
 "metadata": {
  "kernelspec": {
   "display_name": "LSST",
   "language": "python",
   "name": "lsst"
  },
  "language_info": {
   "codemirror_mode": {
    "name": "ipython",
    "version": 3
   },
   "file_extension": ".py",
   "mimetype": "text/x-python",
   "name": "python",
   "nbconvert_exporter": "python",
   "pygments_lexer": "ipython3",
   "version": "3.11.4"
  }
 },
 "nbformat": 4,
 "nbformat_minor": 5
}
