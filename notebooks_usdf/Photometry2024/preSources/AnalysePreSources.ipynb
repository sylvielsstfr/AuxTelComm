{
 "cells": [
  {
   "cell_type": "markdown",
   "id": "8608d6fb-20fc-4b07-ba88-74e9b45cdf25",
   "metadata": {},
   "source": [
    "# Analyse Pre sources"
   ]
  },
  {
   "cell_type": "markdown",
   "id": "667ba03e-ddfb-47fd-bee3-3824f9be7ae5",
   "metadata": {},
   "source": [
    " work with Weakly_2024_07\n",
    "- use jupyter kernel LSST\n",
    "\n",
    "\n",
    "- author : Sylvie Dagoret-Campagne\n",
    "- affiliation : IJCLab\n",
    "- creation date : 2023/12/26\n",
    "- update : 2024/02/23\n"
   ]
  },
  {
   "cell_type": "code",
   "execution_count": 1,
   "id": "058012ec-9888-4b97-9fe2-57595e1bc0e7",
   "metadata": {
    "execution": {
     "iopub.execute_input": "2024-02-23T14:23:37.090282Z",
     "iopub.status.busy": "2024-02-23T14:23:37.090162Z",
     "iopub.status.idle": "2024-02-23T14:23:37.675323Z",
     "shell.execute_reply": "2024-02-23T14:23:37.674874Z",
     "shell.execute_reply.started": "2024-02-23T14:23:37.090270Z"
    }
   },
   "outputs": [],
   "source": [
    "import numpy as np\n",
    "import matplotlib.pyplot as plt\n",
    "%matplotlib inline\n",
    "from mpl_toolkits.axes_grid1 import make_axes_locatable\n",
    "from matplotlib.colors import LogNorm,SymLogNorm\n",
    "\n",
    "\n",
    "import matplotlib.ticker                         # here's where the formatter is\n",
    "from matplotlib.ticker import (MultipleLocator, FormatStrFormatter,\n",
    "                               AutoMinorLocator)\n",
    "from astropy.visualization import (MinMaxInterval, SqrtStretch,ZScaleInterval,PercentileInterval,\n",
    "                                   ImageNormalize,imshow_norm)\n",
    "from astropy.visualization.stretch import SinhStretch, LinearStretch,AsinhStretch,LogStretch\n",
    "from astropy.io import fits\n",
    "import astropy.coordinates as coord\n",
    "import astropy.units as u\n",
    "import pandas as pd\n",
    "\n",
    "import matplotlib.ticker                         # here's where the formatter is\n",
    "import os\n",
    "import re\n",
    "import pandas as pd\n",
    "\n",
    "plt.rcParams[\"figure.figsize\"] = (4,3)\n",
    "plt.rcParams[\"axes.labelsize\"] = 'xx-large'\n",
    "plt.rcParams['axes.titlesize'] = 'xx-large'\n",
    "plt.rcParams['xtick.labelsize']= 'xx-large'\n",
    "plt.rcParams['ytick.labelsize']= 'xx-large'"
   ]
  },
  {
   "cell_type": "code",
   "execution_count": 2,
   "id": "907f5257-e80b-4336-b41f-5bf3745571bf",
   "metadata": {
    "execution": {
     "iopub.execute_input": "2024-02-23T14:23:37.676157Z",
     "iopub.status.busy": "2024-02-23T14:23:37.675904Z",
     "iopub.status.idle": "2024-02-23T14:23:37.678194Z",
     "shell.execute_reply": "2024-02-23T14:23:37.677829Z",
     "shell.execute_reply.started": "2024-02-23T14:23:37.676143Z"
    }
   },
   "outputs": [],
   "source": [
    "#filesource_in=\"preSourceTable_202312.csv\"\n",
    "filesource_in=\"preSourceTable_202402.csv\""
   ]
  },
  {
   "cell_type": "code",
   "execution_count": null,
   "id": "a4c4bc49-f65a-441c-8f51-82a27f7887d2",
   "metadata": {
    "execution": {
     "execution_failed": "2024-02-23T14:24:30.154Z",
     "iopub.execute_input": "2024-02-23T14:23:37.678904Z",
     "iopub.status.busy": "2024-02-23T14:23:37.678764Z"
    }
   },
   "outputs": [],
   "source": [
    "df = pd.read_csv(filesource_in)"
   ]
  },
  {
   "cell_type": "code",
   "execution_count": null,
   "id": "f520bf2a-9b47-4748-9503-3896eac2dda3",
   "metadata": {
    "execution": {
     "execution_failed": "2024-02-23T14:24:30.155Z"
    }
   },
   "outputs": [],
   "source": [
    "df"
   ]
  },
  {
   "cell_type": "code",
   "execution_count": null,
   "id": "01717b67-ecd3-4a3d-9912-fb69a7f611fe",
   "metadata": {
    "execution": {
     "execution_failed": "2024-02-23T14:24:30.155Z"
    }
   },
   "outputs": [],
   "source": [
    "colnames = list(df.columns)\n",
    "for name in colnames:\n",
    "    print(name)"
   ]
  },
  {
   "cell_type": "code",
   "execution_count": null,
   "id": "4b23eb74-c343-450f-a9ea-bff1b6603972",
   "metadata": {
    "execution": {
     "execution_failed": "2024-02-23T14:24:30.156Z"
    }
   },
   "outputs": [],
   "source": [
    "df_sel = df[['sourceId','ccdVisitId','x','y','ra','dec','coord_ra','coord_dec','psfFlux','gaussianFlux','visit','band','visid_idx','mjd','dateobs','extendedness_flag','detect_isPrimary']]"
   ]
  },
  {
   "cell_type": "code",
   "execution_count": null,
   "id": "a9301c9b-afca-4997-a25b-349c58ffbda7",
   "metadata": {
    "execution": {
     "execution_failed": "2024-02-23T14:24:30.156Z"
    }
   },
   "outputs": [],
   "source": [
    "def convert_fluxtomag(x) :\n",
    "    \"\"\"\n",
    "    The object and source catalogs store only fluxes. There are hundreds of flux-related columns, \n",
    "    and to store them also as magnitudes would be redundant, and a waste of space.\n",
    "    All flux units are nanojanskys. The AB Magnitudes Wikipedia page provides a concise resource \n",
    "    for users unfamiliar with AB magnitudes and jansky fluxes. To convert to AB magnitudes use:\n",
    "    As demonstrated in Section 2.3.2, to add columns of magnitudes after retrieving columns of flux, users can do this:\n",
    "    results_table['r_calibMag'] = -2.50 * numpy.log10(results_table['r_calibFlux']) + 31.4\n",
    "    results_table['r_cModelMag'] = -2.50 * numpy.log10(results_table['r_cModelFlux']) + 31.4\n",
    "    (from DP0 tutorial)\n",
    "    \"\"\"\n",
    "    return -2.50 * np.log10(x) + 31.4"
   ]
  },
  {
   "cell_type": "code",
   "execution_count": null,
   "id": "30914e6f-52fd-4eb3-bbc1-23ff66a89188",
   "metadata": {
    "execution": {
     "execution_failed": "2024-02-23T14:24:30.156Z"
    }
   },
   "outputs": [],
   "source": [
    "df_sel[\"psfMag\"] =  df_sel['psfFlux'].map(convert_fluxtomag)\n",
    "#df_sel[\"gaussianMag\"] =  df_sel['gaussianFlux'].map(lambda x:-2.50 * np.log10(x) + 31.4)\n",
    "df_sel[\"gaussianMag\"] =  df_sel['gaussianFlux'].map(convert_fluxtomag)"
   ]
  },
  {
   "cell_type": "code",
   "execution_count": null,
   "id": "b5458f28-5032-4720-a388-636dd8c40425",
   "metadata": {
    "execution": {
     "execution_failed": "2024-02-23T14:24:30.156Z"
    }
   },
   "outputs": [],
   "source": [
    "df_sel = df_sel[df_sel['extendedness_flag']==False & df_sel['detect_isPrimary']]"
   ]
  },
  {
   "cell_type": "code",
   "execution_count": null,
   "id": "f48573a3-24d2-4149-b861-e291ebac8091",
   "metadata": {
    "execution": {
     "execution_failed": "2024-02-23T14:24:30.156Z"
    }
   },
   "outputs": [],
   "source": [
    "df_sel.dropna(axis=0,inplace = True)"
   ]
  },
  {
   "cell_type": "code",
   "execution_count": null,
   "id": "495079c5-f71e-4741-8cdc-0b912d4dc36b",
   "metadata": {
    "execution": {
     "execution_failed": "2024-02-23T14:24:30.156Z"
    }
   },
   "outputs": [],
   "source": [
    "df_sel"
   ]
  },
  {
   "cell_type": "code",
   "execution_count": null,
   "id": "a8f6b71e-4486-45a6-bab8-13eae61ded2f",
   "metadata": {
    "execution": {
     "execution_failed": "2024-02-23T14:24:30.156Z"
    }
   },
   "outputs": [],
   "source": [
    "df_sel.plot.scatter('x','y',c='ccdVisitId',colormap='viridis')"
   ]
  },
  {
   "cell_type": "code",
   "execution_count": null,
   "id": "7f1e4786-d417-402a-bdc1-0aca5e040dae",
   "metadata": {
    "execution": {
     "execution_failed": "2024-02-23T14:24:30.157Z"
    }
   },
   "outputs": [],
   "source": [
    "df_sel.plot.scatter('ra','dec',c='ccdVisitId',colormap='hsv',grid=True,figsize=(10,5))"
   ]
  },
  {
   "cell_type": "code",
   "execution_count": null,
   "id": "52e5f78a-e202-4fc7-8aa5-8a99fce569d0",
   "metadata": {
    "execution": {
     "execution_failed": "2024-02-23T14:24:30.157Z"
    }
   },
   "outputs": [],
   "source": [
    "df_sel.plot.scatter('coord_ra','coord_dec',c='ccdVisitId',colormap='hsv',grid=True,figsize=(10,5))"
   ]
  },
  {
   "cell_type": "code",
   "execution_count": null,
   "id": "36bc38b2-e138-4e00-8b73-f2776f1b0685",
   "metadata": {
    "execution": {
     "execution_failed": "2024-02-23T14:24:30.157Z"
    }
   },
   "outputs": [],
   "source": [
    "df_sel['coord_ra'].plot(kind=\"hist\",bins=50 ,range=(0,360),logy=True,title=\"coord_ra\",grid=True,figsize=(10,5))"
   ]
  },
  {
   "cell_type": "code",
   "execution_count": null,
   "id": "ea52f52d-785d-401e-9e2a-7f6f4cbafe08",
   "metadata": {
    "execution": {
     "execution_failed": "2024-02-23T14:24:30.158Z"
    }
   },
   "outputs": [],
   "source": [
    "df_sel['coord_dec'].plot(kind=\"hist\",bins=50 ,range=(-90,10),logy=True,title=\"coord_dec\",grid=True,figsize=(10,5))"
   ]
  },
  {
   "cell_type": "code",
   "execution_count": null,
   "id": "71a85a9e-0a81-4d04-a3a7-417f9cc0a39f",
   "metadata": {
    "execution": {
     "execution_failed": "2024-02-23T14:24:30.158Z"
    }
   },
   "outputs": [],
   "source": [
    "cut_skyloc = ((df_sel['dec'] < -30) & (df_sel['dec'] > -40) & (df_sel['ra'] > 100) & (df_sel['ra'] < 150))"
   ]
  },
  {
   "cell_type": "code",
   "execution_count": null,
   "id": "4312ddf5-74d6-4cd9-bff5-dce8d55505f6",
   "metadata": {
    "execution": {
     "execution_failed": "2024-02-23T14:24:30.158Z"
    }
   },
   "outputs": [],
   "source": [
    "df_sel = df_sel[cut_skyloc]"
   ]
  },
  {
   "cell_type": "code",
   "execution_count": null,
   "id": "8d7ea79d-7fdc-40b8-a3db-4ab04b815cd2",
   "metadata": {
    "execution": {
     "execution_failed": "2024-02-23T14:24:30.159Z"
    }
   },
   "outputs": [],
   "source": [
    "df_sel['psfMag'].plot(kind=\"hist\",bins=50,range=(5,30),logy=True,grid=True,title=\"psMag\")"
   ]
  },
  {
   "cell_type": "code",
   "execution_count": null,
   "id": "d9f34f5d-1060-447d-b73d-5626e1a5972b",
   "metadata": {
    "execution": {
     "execution_failed": "2024-02-23T14:24:30.159Z"
    }
   },
   "outputs": [],
   "source": [
    "df_sel['gaussianMag'].plot(kind=\"hist\",bins=50 ,range=(5,30),logy=True,grid=True,title=\"gaussianMag\")"
   ]
  },
  {
   "cell_type": "code",
   "execution_count": null,
   "id": "f560da18-d3db-437b-a323-207132665bf3",
   "metadata": {
    "execution": {
     "execution_failed": "2024-02-23T14:24:30.159Z"
    }
   },
   "outputs": [],
   "source": [
    "df_sel"
   ]
  },
  {
   "cell_type": "code",
   "execution_count": null,
   "id": "5769a54e-167c-438c-aed4-a1bd070d2d8c",
   "metadata": {
    "execution": {
     "execution_failed": "2024-02-23T14:24:30.159Z"
    }
   },
   "outputs": [],
   "source": [
    "#df_sel.groupby(df_sel['dateobs'].dt.date).size().plot()\n",
    "datetime = pd.to_datetime(df_sel['dateobs'])"
   ]
  },
  {
   "cell_type": "code",
   "execution_count": null,
   "id": "5eb4f7c1-bf32-4943-843c-85c1dddefe39",
   "metadata": {
    "execution": {
     "execution_failed": "2024-02-23T14:24:30.159Z"
    }
   },
   "outputs": [],
   "source": [
    "df_sel['dateobs'].max()"
   ]
  },
  {
   "cell_type": "code",
   "execution_count": null,
   "id": "1bf81fbf-64e6-46f5-be8a-9adca60d3abb",
   "metadata": {
    "execution": {
     "execution_failed": "2024-02-23T14:24:30.159Z"
    }
   },
   "outputs": [],
   "source": [
    "df_sel[\"date\"] = df[\"dateobs\"].astype(\"datetime64\")"
   ]
  },
  {
   "cell_type": "code",
   "execution_count": null,
   "id": "a6e84a91-e9d6-404d-8ef9-c2f80f3d3bf0",
   "metadata": {
    "execution": {
     "execution_failed": "2024-02-23T14:24:30.160Z"
    }
   },
   "outputs": [],
   "source": [
    "df_sel"
   ]
  },
  {
   "cell_type": "code",
   "execution_count": null,
   "id": "0c1f2fd3-0101-4637-b030-d226a3b58cab",
   "metadata": {
    "execution": {
     "execution_failed": "2024-02-23T14:24:30.160Z"
    }
   },
   "outputs": [],
   "source": [
    "df_time = df_sel[[\"date\"]]"
   ]
  },
  {
   "cell_type": "code",
   "execution_count": null,
   "id": "79e7f118-e3da-4e0a-9497-a1079dbd30d6",
   "metadata": {
    "execution": {
     "execution_failed": "2024-02-23T14:24:30.160Z"
    }
   },
   "outputs": [],
   "source": [
    "df_time"
   ]
  },
  {
   "cell_type": "code",
   "execution_count": null,
   "id": "1845d0ef-c99a-4b63-9212-80d890f38128",
   "metadata": {
    "execution": {
     "execution_failed": "2024-02-23T14:24:30.160Z"
    }
   },
   "outputs": [],
   "source": [
    "fig = plt.figure()\n",
    "ax = fig.add_subplot(1,1,1)\n",
    "ax = (df_time[\"date\"].groupby(df_time[\"date\"].dt.minute)\n",
    "                         .count()).plot(kind=\"bar\")"
   ]
  }
 ],
 "metadata": {
  "kernelspec": {
   "display_name": "LSST",
   "language": "python",
   "name": "lsst"
  },
  "language_info": {
   "codemirror_mode": {
    "name": "ipython",
    "version": 3
   },
   "file_extension": ".py",
   "mimetype": "text/x-python",
   "name": "python",
   "nbconvert_exporter": "python",
   "pygments_lexer": "ipython3",
   "version": "3.11.7"
  }
 },
 "nbformat": 4,
 "nbformat_minor": 5
}
