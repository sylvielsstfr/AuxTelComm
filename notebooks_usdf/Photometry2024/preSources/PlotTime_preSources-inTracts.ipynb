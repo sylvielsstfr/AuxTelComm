{
 "cells": [
  {
   "cell_type": "markdown",
   "id": "55b81efc-69c7-4929-b03c-9270ed2cbd1f",
   "metadata": {},
   "source": [
    "# Plot preSource Time in Tract\n",
    "\n",
    " work with Weakly_2023_44\n",
    "- use jupyter kernel LSST\n",
    "- author : Sylvie Dagoret-Campagne\n",
    "- affiliation : IJCLab\n",
    "- creation date : 2023/12/29\n",
    "- update : 2023/12/29\n"
   ]
  },
  {
   "cell_type": "code",
   "execution_count": null,
   "id": "45c7078d-716a-4d28-a46a-b72074b4f70d",
   "metadata": {},
   "outputs": [],
   "source": [
    "import numpy as np\n",
    "import matplotlib.pyplot as plt\n",
    "import matplotlib as mpl\n",
    "import matplotlib.cm as cm \n",
    "import matplotlib.colors as colors\n",
    "import matplotlib.cm as cmx\n",
    "import matplotlib.dates as mdates\n",
    "%matplotlib inline\n",
    "from mpl_toolkits.axes_grid1 import make_axes_locatable\n",
    "from matplotlib.colors import LogNorm\n",
    "import pandas as pd\n",
    "\n",
    "import matplotlib.ticker                         # here's where the formatter is\n",
    "import os\n",
    "import re\n",
    "import pandas as pd\n",
    "import pickle\n",
    "\n",
    "plt.rcParams[\"figure.figsize\"] = (16,10)\n",
    "plt.rcParams[\"axes.labelsize\"] = 'xx-large'\n",
    "plt.rcParams['axes.titlesize'] = 'xx-large'\n",
    "plt.rcParams['xtick.labelsize']= 'xx-large'\n",
    "plt.rcParams['ytick.labelsize']= 'xx-large'"
   ]
  },
  {
   "cell_type": "code",
   "execution_count": null,
   "id": "fc0f03d2-5a9e-473b-99ed-934bba4c1bc1",
   "metadata": {},
   "outputs": [],
   "source": [
    "# A repo which exists at the USDF, contains data from various instruments and\n",
    "REPO = '/repo/embargo'\n",
    "\n",
    "from lsst.daf.butler import Butler\n",
    "from pprint import pprint\n",
    "\n",
    "# Here we specify a default collection to use\n",
    "my_collection = \"LATISS/runs/AUXTEL_DRP_IMAGING_2023-11A-10A-09AB-08ABC-07AB-05AB/w_2023_46/PREOPS-4553\"\n",
    "butler = Butler(REPO, collections=my_collection)\n",
    "registry = butler.registry"
   ]
  },
  {
   "cell_type": "code",
   "execution_count": null,
   "id": "21aad424-9125-48dc-984d-26029d7202a4",
   "metadata": {},
   "outputs": [],
   "source": [
    "#import lsst.sphgeom\n",
    "from  lsst.geom import SpherePoint, Angle"
   ]
  },
  {
   "cell_type": "code",
   "execution_count": null,
   "id": "41028799-75e1-4be8-84a2-de2765a760c2",
   "metadata": {},
   "outputs": [],
   "source": [
    "Angle(3.1415).asDegrees()"
   ]
  },
  {
   "cell_type": "code",
   "execution_count": null,
   "id": "635fa486-3436-464d-ae9c-fc78d7e402ed",
   "metadata": {},
   "outputs": [],
   "source": [
    "Angle(3.1415).asRadians()"
   ]
  },
  {
   "cell_type": "code",
   "execution_count": null,
   "id": "1b7ca33c-6582-41eb-81b9-d4f227c06ce4",
   "metadata": {},
   "outputs": [],
   "source": [
    "SpherePoint(Angle(3.1415),Angle(1.0))"
   ]
  },
  {
   "cell_type": "code",
   "execution_count": null,
   "id": "61a85395-b407-41ab-865f-8eda018a6158",
   "metadata": {},
   "outputs": [],
   "source": [
    "import astropy.coordinates as coord\n",
    "import astropy.units as u\n",
    "from astropy.time import Time\n",
    "from astropy.coordinates import SkyCoord\n",
    "from astropy import coordinates"
   ]
  },
  {
   "cell_type": "code",
   "execution_count": null,
   "id": "80820912-e688-465e-9fe6-2f4da72554ef",
   "metadata": {},
   "outputs": [],
   "source": [
    "import pandas as pd"
   ]
  },
  {
   "cell_type": "code",
   "execution_count": null,
   "id": "795c0b53-d830-4149-9941-a90b7b55c228",
   "metadata": {},
   "outputs": [],
   "source": [
    "def convert_fluxtomag(x) :\n",
    "    \"\"\"\n",
    "    The object and source catalogs store only fluxes. There are hundreds of flux-related columns, \n",
    "    and to store them also as magnitudes would be redundant, and a waste of space.\n",
    "    All flux units are nanojanskys. The AB Magnitudes Wikipedia page provides a concise resource \n",
    "    for users unfamiliar with AB magnitudes and jansky fluxes. To convert to AB magnitudes use:\n",
    "    As demonstrated in Section 2.3.2, to add columns of magnitudes after retrieving columns of flux, users can do this:\n",
    "    results_table['r_calibMag'] = -2.50 * numpy.log10(results_table['r_calibFlux']) + 31.4\n",
    "    results_table['r_cModelMag'] = -2.50 * numpy.log10(results_table['r_cModelFlux']) + 31.4\n",
    "    (from DP0 tutorial)\n",
    "    \"\"\"\n",
    "    return -2.50 * np.log10(x) + 31.4"
   ]
  },
  {
   "cell_type": "markdown",
   "id": "f3067001-89fe-4e25-b898-bf93053ef176",
   "metadata": {},
   "source": [
    "## Config"
   ]
  },
  {
   "cell_type": "markdown",
   "id": "85562e26-95fd-42b6-a1b3-a5a223c04c65",
   "metadata": {},
   "source": [
    "### Galactic Plane"
   ]
  },
  {
   "cell_type": "code",
   "execution_count": null,
   "id": "cd586680-7fbe-4780-88e7-4163b4f9cd75",
   "metadata": {},
   "outputs": [],
   "source": [
    "gal_long = np.linspace(-180.,180,360)\n",
    "gal_lat = np.zeros((360))\n",
    "\n",
    "coordinates_galactic_planes = SkyCoord(l=gal_long*u.degree, b=gal_lat*u.degree, frame='galactic')\n",
    "gp_radec = coordinates_galactic_planes.transform_to('icrs')  \n",
    "\n",
    "gp_ra_toplot = coordinates.Angle(gp_radec.ra.degree*u.degree)\n",
    "gp_ra_toplot = gp_ra_toplot.wrap_at(180*u.degree)"
   ]
  },
  {
   "cell_type": "markdown",
   "id": "177546e8-0e9a-486f-a333-79f565969380",
   "metadata": {},
   "source": [
    "### Pre-Sources"
   ]
  },
  {
   "cell_type": "code",
   "execution_count": null,
   "id": "730c561b-16a0-4f32-8076-a5b252144bc5",
   "metadata": {},
   "outputs": [],
   "source": [
    "file = \"preSourceTable_202312.csv\""
   ]
  },
  {
   "cell_type": "code",
   "execution_count": null,
   "id": "cd652627-7574-4566-911e-7eff98256059",
   "metadata": {},
   "outputs": [],
   "source": [
    "suptitle = \"preSources, Auxtel phot 2023\""
   ]
  },
  {
   "cell_type": "markdown",
   "id": "c2163798-5114-48d6-a0b0-fff68c71e0a6",
   "metadata": {},
   "source": [
    "## Skymap, Tracts and Patchs"
   ]
  },
  {
   "cell_type": "code",
   "execution_count": null,
   "id": "d5d61d77-7ccc-443c-9b62-ec5e1bfd2fe8",
   "metadata": {},
   "outputs": [],
   "source": [
    "Auxtel2023_tracts = [ 5616,5634,5615,10644,383,8188,3863,455,452,5839,10643,382]"
   ]
  },
  {
   "cell_type": "code",
   "execution_count": null,
   "id": "39925298-eb74-4933-8f5c-d06508f9ed48",
   "metadata": {},
   "outputs": [],
   "source": [
    "skymap_auxtel ='latiss_v1'"
   ]
  },
  {
   "cell_type": "code",
   "execution_count": null,
   "id": "ab587fcd-5ae1-451d-a697-e7cc935252f8",
   "metadata": {},
   "outputs": [],
   "source": [
    "skymap = butler.get('skyMap', skymap=skymap_auxtel, collections=my_collection)"
   ]
  },
  {
   "cell_type": "code",
   "execution_count": null,
   "id": "63ce733a-3ebd-426e-a124-336b82a31a28",
   "metadata": {},
   "outputs": [],
   "source": [
    "with open('Latiss_tractspatchs.pickle', 'rb') as handle:\n",
    "    tracts_patchs_dict = pickle.load(handle)"
   ]
  },
  {
   "cell_type": "code",
   "execution_count": null,
   "id": "5b34d5af-f915-44fe-9b1f-701daf5fe860",
   "metadata": {},
   "outputs": [],
   "source": [
    "tracts_patchs_dict"
   ]
  },
  {
   "cell_type": "markdown",
   "id": "a426fba9-c153-47bd-aa1a-b8a064201688",
   "metadata": {
    "execution": {
     "iopub.execute_input": "2023-12-29T15:37:58.107082Z",
     "iopub.status.busy": "2023-12-29T15:37:58.106492Z",
     "iopub.status.idle": "2023-12-29T15:37:58.109824Z",
     "shell.execute_reply": "2023-12-29T15:37:58.109421Z",
     "shell.execute_reply.started": "2023-12-29T15:37:58.107066Z"
    }
   },
   "source": [
    "### Should try Tracts\n",
    "- 5615 - OK , Not in our galaxy\n",
    "- 5616 - Non, 1 nuit\n",
    "- 5839 - Non, 1 nuit\n",
    "- 5634 - OK - Galaxie"
   ]
  },
  {
   "cell_type": "code",
   "execution_count": null,
   "id": "446289c6-8a3e-40af-afb6-d682c3b565d3",
   "metadata": {},
   "outputs": [],
   "source": [
    "tract_selected = 5615\n",
    "suptitle += f\" tract {tract_selected}\""
   ]
  },
  {
   "cell_type": "code",
   "execution_count": null,
   "id": "2210587f-4c13-40a1-865b-ccd68c157348",
   "metadata": {},
   "outputs": [],
   "source": [
    "tractInfo = skymap.generateTract(tract_selected)"
   ]
  },
  {
   "cell_type": "code",
   "execution_count": null,
   "id": "a01a9091-a6d2-4408-b27f-418e92774d5a",
   "metadata": {},
   "outputs": [],
   "source": [
    "tractInfo.contains "
   ]
  },
  {
   "cell_type": "code",
   "execution_count": null,
   "id": "98cff762-d44c-4a86-93e9-d8418e7672aa",
   "metadata": {},
   "outputs": [],
   "source": [
    "def SourceInTract(row):\n",
    "    #coord_dec\n",
    "    #coord_ra\n",
    "    #print(row)\n",
    "    try:\n",
    "        ra = row[\"ra\"]\n",
    "        dec = row[\"dec\"]\n",
    "        ra_rad = ra*np.pi/180.\n",
    "        dec_rad = dec*np.pi/180.\n",
    "        spherepoint = SpherePoint(Angle(ra_rad),Angle(dec_rad))\n",
    "        flag = tractInfo.contains( spherepoint)\n",
    "        return flag\n",
    "    except Exception as err:\n",
    "        print(f\"Unexpected {err=}, {type(err)=}\")\n",
    "        return False\n",
    "        \n",
    "    "
   ]
  },
  {
   "cell_type": "markdown",
   "id": "5864e1a4-d79b-4102-b07f-edc6a981aea3",
   "metadata": {},
   "source": [
    "## Input"
   ]
  },
  {
   "cell_type": "code",
   "execution_count": null,
   "id": "c0b49870-c9a2-4573-9cdf-bddfe78cbc9a",
   "metadata": {},
   "outputs": [],
   "source": [
    "df = pd.read_csv(file,index_col=0)"
   ]
  },
  {
   "cell_type": "code",
   "execution_count": null,
   "id": "6492ef7b-9855-4230-9589-ea0f5cf85b69",
   "metadata": {},
   "outputs": [],
   "source": [
    "list_of_columns = sorted(list(df.columns))"
   ]
  },
  {
   "cell_type": "code",
   "execution_count": null,
   "id": "b5f27295-a215-433b-bb4f-7c388b666066",
   "metadata": {},
   "outputs": [],
   "source": [
    "#for col in list_of_columns:\n",
    "#    print(col)"
   ]
  },
  {
   "cell_type": "markdown",
   "id": "2cabbafa-e26c-433d-a719-8c79b487dc52",
   "metadata": {},
   "source": [
    "## Selection"
   ]
  },
  {
   "cell_type": "code",
   "execution_count": null,
   "id": "2b22d933-18e9-4f95-b031-be41696c9ba8",
   "metadata": {},
   "outputs": [],
   "source": [
    "df.dropna(inplace=True)\n",
    "selection1 = df[\"extendedness_flag\"] == False\n",
    "selection2 = df[\"detect_isPrimary\"] == True\n",
    "df = df[selection1 & selection2 ]"
   ]
  },
  {
   "cell_type": "code",
   "execution_count": null,
   "id": "ade15837-bc2a-42d4-afe8-6a14077bbe1b",
   "metadata": {},
   "outputs": [],
   "source": [
    "df[[\"ra\",\"dec\"]]"
   ]
  },
  {
   "cell_type": "code",
   "execution_count": null,
   "id": "496fd590-a928-466a-90de-0c2b1af154a6",
   "metadata": {},
   "outputs": [],
   "source": [
    "df[\"inptract\"]=df[[\"ra\",\"dec\"]].apply(SourceInTract)"
   ]
  },
  {
   "cell_type": "code",
   "execution_count": null,
   "id": "8e32dcff-9e42-4c01-b91d-9ec8fa09d696",
   "metadata": {},
   "outputs": [],
   "source": [
    "all_flags = []\n",
    "for index, row in df.iterrows():\n",
    "    all_flags.append(SourceInTract(row))"
   ]
  },
  {
   "cell_type": "code",
   "execution_count": null,
   "id": "569b6896-c6dd-4fe6-8282-3348f305dde9",
   "metadata": {},
   "outputs": [],
   "source": [
    "df[\"intract\"] = all_flags"
   ]
  },
  {
   "cell_type": "code",
   "execution_count": null,
   "id": "846daa8c-5150-4d8c-bbec-8c32a11c2acb",
   "metadata": {},
   "outputs": [],
   "source": [
    "df = df[df[\"intract\"]==True]"
   ]
  },
  {
   "cell_type": "markdown",
   "id": "cbb0a6ac-4ff1-4142-9233-fdc5e48075e4",
   "metadata": {},
   "source": [
    "## Magnitudes"
   ]
  },
  {
   "cell_type": "code",
   "execution_count": null,
   "id": "1ef55be6-6e72-498c-a686-1350a8a2e76e",
   "metadata": {},
   "outputs": [],
   "source": [
    "df[\"psfMag\"] = df[\"psfFlux\"].map(convert_fluxtomag)\n",
    "df[\"gaussianMag\"] = df[\"gaussianFlux\"].map(convert_fluxtomag)\n",
    "df[\"calibMag\"] = df[\"calibFlux\"].map(convert_fluxtomag)"
   ]
  },
  {
   "cell_type": "code",
   "execution_count": null,
   "id": "631abe61-784c-4231-88cf-7fcd7c24aede",
   "metadata": {},
   "outputs": [],
   "source": [
    "fig, (ax1,ax2,ax3) = plt.subplots(1,3,figsize=(14,4))\n",
    "\n",
    "df['psfMag'].plot(kind=\"hist\",bins=50,range=(5,30),facecolor=\"g\",logy=True,grid=True,title=\"psfMag\",ax=ax1)\n",
    "df['gaussianMag'].plot(kind=\"hist\",bins=50,range=(5,30),facecolor=\"r\",logy=True,grid=True,title=\"gaussianMag\",ax=ax2)\n",
    "df['calibMag'].plot(kind=\"hist\",bins=50,range=(5,30),facecolor=\"grey\",logy=True,grid=True,title=\"calibMag\",ax=ax3)\n",
    "plt.suptitle(suptitle,y=1.0,fontsize=16)\n",
    "plt.tight_layout()\n"
   ]
  },
  {
   "cell_type": "code",
   "execution_count": null,
   "id": "5b8ae6e8-b183-43d0-8478-1c5cd1470798",
   "metadata": {},
   "outputs": [],
   "source": [
    "selection3  = df[\"psfMag\"] < 20.\n",
    "df = df[selection3]"
   ]
  },
  {
   "cell_type": "code",
   "execution_count": null,
   "id": "22a9d6c3-53db-472b-b526-9daebcff4657",
   "metadata": {},
   "outputs": [],
   "source": [
    "fig, (ax1,ax2,ax3) = plt.subplots(1,3,figsize=(14,4))\n",
    "df['psfMag'].plot(kind=\"hist\",bins=50,range=(5,30),facecolor=\"g\",logy=True,grid=True,title=\"psfMag\",ax=ax1)\n",
    "df['gaussianMag'].plot(kind=\"hist\",bins=50,range=(5,30),facecolor=\"r\",logy=True,grid=True,title=\"gaussianMag\",ax=ax2)\n",
    "df['calibMag'].plot(kind=\"hist\",bins=50,range=(5,30),facecolor=\"grey\",logy=True,grid=True,title=\"calibMag\",ax=ax3)\n",
    "plt.suptitle(suptitle,y=1.0,fontsize=16)\n",
    "plt.tight_layout()"
   ]
  },
  {
   "cell_type": "code",
   "execution_count": null,
   "id": "f35361ed-adbd-4d81-9321-45b9a257dccf",
   "metadata": {},
   "outputs": [],
   "source": [
    "fig, (ax1,ax2,ax3) = plt.subplots(1,3,figsize=(10,4))\n",
    "df.plot.scatter(x='psfMag',y='calibMag',marker=\"o\",alpha=0.2,ax=ax1,grid=True)\n",
    "ax1.set_xlim(10.,21.)\n",
    "ax1.set_ylim(10.,21.)\n",
    "ax1.set_aspect('equal')\n",
    "\n",
    "df.plot.scatter(x='gaussianMag',y='calibMag',marker=\"o\",alpha=0.2,ax=ax2,grid=True)\n",
    "ax2.set_xlim(10.,21.)\n",
    "ax2.set_ylim(10.,21.)\n",
    "ax2.set_aspect('equal')\n",
    "\n",
    "df.plot.scatter(x='psfMag',y='gaussianMag',marker=\"o\",alpha=0.2,ax=ax3,grid=True)\n",
    "ax3.set_xlim(10.,21.)\n",
    "ax3.set_ylim(10.,21.)\n",
    "ax3.set_aspect('equal')\n",
    "\n",
    "plt.suptitle(suptitle,y=1.0,fontsize=16)\n",
    "plt.tight_layout()"
   ]
  },
  {
   "cell_type": "markdown",
   "id": "5c5b5bf8-c662-4cb8-98f6-380ccb4b5df8",
   "metadata": {},
   "source": [
    "## Convert dateobs into datetime"
   ]
  },
  {
   "cell_type": "code",
   "execution_count": null,
   "id": "a008e1f9-eeec-4f6e-8ae1-1550225193bb",
   "metadata": {},
   "outputs": [],
   "source": [
    "df[\"dateobs\"]"
   ]
  },
  {
   "cell_type": "code",
   "execution_count": null,
   "id": "af6516dd-a37a-4daa-9520-ffd8e9c2ddea",
   "metadata": {},
   "outputs": [],
   "source": [
    "df[\"Time\"] = pd.to_datetime(df['dateobs'])"
   ]
  },
  {
   "cell_type": "code",
   "execution_count": null,
   "id": "a714e861-d089-43f7-9718-de7f944262fc",
   "metadata": {},
   "outputs": [],
   "source": [
    "df.Time"
   ]
  },
  {
   "cell_type": "code",
   "execution_count": null,
   "id": "d6a83ae7-270a-4491-80fa-a62d31b031da",
   "metadata": {},
   "outputs": [],
   "source": [
    "fig,(ax1,ax2) = plt.subplots(2,1)\n",
    "df.plot(x=\"Time\",y=\"coord_ra\",marker='o',c=\"b\",lw=0.0,ax=ax1,grid=True)\n",
    "df.plot(x=\"Time\",y=\"coord_dec\",marker='o',c=\"g\",lw=0.0,ax=ax2,grid=True)\n",
    "plt.suptitle(suptitle,y=1.0,fontsize=16)\n",
    "plt.tight_layout()"
   ]
  },
  {
   "cell_type": "code",
   "execution_count": null,
   "id": "e5b4d777-a302-4a48-8199-33ee177e6c7b",
   "metadata": {},
   "outputs": [],
   "source": [
    "fig,(ax1,ax2) = plt.subplots(2,1)\n",
    "df.plot(x=\"Time\",y=\"ra\",marker='o',c=\"b\",lw=0.0,ax=ax1,grid=True)\n",
    "df.plot(x=\"Time\",y=\"dec\",marker='o',c=\"g\",lw=0.0,ax=ax2,grid=True)\n",
    "plt.suptitle(suptitle,y=1.0,fontsize=16)\n",
    "plt.tight_layout()"
   ]
  },
  {
   "cell_type": "code",
   "execution_count": null,
   "id": "ddc6ed1b-73d5-4837-a0a4-2b170713eae8",
   "metadata": {},
   "outputs": [],
   "source": [
    "fig,(ax1,ax2) = plt.subplots(1,2,figsize=(16,5))\n",
    "df_sel = df[\"coord_ra\"]\n",
    "df_sel.plot(kind=\"hist\",x=\"coord_ra\",bins=45,range=(0,360),facecolor=\"b\",ax=ax1,grid=True,logy=True)\n",
    "df_sel = df[\"coord_dec\"]\n",
    "df_sel.plot(kind=\"hist\",x=\"coord_dec\",bins=55,range=(-90,15),facecolor=\"g\",ax=ax2,grid=True,logy=True)\n",
    "plt.suptitle(suptitle,y=1.0,fontsize=16)\n",
    "plt.tight_layout()"
   ]
  },
  {
   "cell_type": "code",
   "execution_count": null,
   "id": "3692c15a-1188-4e61-8f6d-bb0f6d284dab",
   "metadata": {},
   "outputs": [],
   "source": [
    "fig,ax = plt.subplots(1,1,figsize=(10,10))\n",
    "cut1 = (df[\"ra\"]> 200.) &  (df[\"ra\"]<300.)\n",
    "cut2 = (df[\"dec\"]> -30) &  (df[\"dec\"]<-10)\n",
    "df_sel = df[cut1 & cut2]\n",
    "df_sel = df_sel[[\"coord_ra\",\"coord_dec\"]]\n",
    "df_sel.plot(kind=\"scatter\",x=\"coord_ra\",y=\"coord_dec\",marker=\".\",c=\"r\",ax=ax,grid=True)\n",
    "plt.gca().set_aspect('equal')\n",
    "#plt.suptitle(suptitle,fontsize=16)\n",
    "plt.tight_layout()"
   ]
  },
  {
   "cell_type": "markdown",
   "id": "a18007e9-9430-4928-bc1b-d460f82f755a",
   "metadata": {},
   "source": [
    "## Sky map"
   ]
  },
  {
   "cell_type": "code",
   "execution_count": null,
   "id": "0266f402-0c42-4fcb-b397-570749469640",
   "metadata": {},
   "outputs": [],
   "source": [
    "ra = coord.Angle(df[\"coord_ra\"].values, unit=u.degree)\n",
    "dec = coord.Angle(df[\"coord_dec\"].values, unit=u.degree)\n",
    "#\n",
    "ra  = ra.wrap_at(180*u.degree).radian\n",
    "dec = dec.radian\n",
    "#\n",
    "df[\"RA\"] = ra\n",
    "df[\"DEC\"] = dec"
   ]
  },
  {
   "cell_type": "code",
   "execution_count": null,
   "id": "e8a1ba43-bc2c-4331-9a13-b8d5404db37d",
   "metadata": {},
   "outputs": [],
   "source": [
    "fig = plt.figure()\n",
    "#ax = fig.add_subplot(111, projection=\"aitoff\")\n",
    "ax = fig.add_subplot(111, projection=\"mollweide\")\n",
    "ax.scatter(gp_ra_toplot.radian, gp_radec.dec.radian,c=\"g\",label=\"Galactic Plane\",s=1)\n",
    "df.plot.scatter(x='RA',y='DEC',c='ra',colormap='seismic',grid=True,ax=ax,figsize=(10,8),title='AUXTEL photometry 2023')\n",
    "ax.legend()"
   ]
  },
  {
   "cell_type": "code",
   "execution_count": null,
   "id": "c531d113-4238-44fe-83e0-75f66f442f20",
   "metadata": {},
   "outputs": [],
   "source": [
    "fig = plt.figure()\n",
    "#ax = fig.add_subplot(111, projection=\"aitoff\")\n",
    "ax = fig.add_subplot(111, projection=\"mollweide\")\n",
    "ax.scatter(gp_ra_toplot.radian, gp_radec.dec.radian,c=\"g\",label=\"Galactic Plane\",s=1)\n",
    "df.plot.scatter(x='RA',y='DEC',c='dec',colormap='seismic',grid=True,ax=ax,figsize=(10,8),title='AUXTEL photometry 2023')\n",
    "ax.legend()"
   ]
  },
  {
   "cell_type": "code",
   "execution_count": null,
   "id": "9be6cf16-2766-4204-afbb-596efa7a6ec5",
   "metadata": {},
   "outputs": [],
   "source": [
    "df[\"RAdeg\"] = df[\"RA\"]*180/np.pi\n",
    "df[\"DECdeg\"] = df[\"DEC\"]*180/np.pi"
   ]
  },
  {
   "cell_type": "code",
   "execution_count": null,
   "id": "c85966f1-8f93-4ac4-90e0-b5b22417d717",
   "metadata": {},
   "outputs": [],
   "source": [
    "fig,ax = plt.subplots(1,1,figsize=(10,10))\n",
    "cut1 = (df[\"ra\"]> 200.) &  (df[\"ra\"]<300.)\n",
    "cut2 = (df[\"dec\"]> -30) &  (df[\"dec\"]<-10)\n",
    "df_sel = df[cut1 & cut2]\n",
    "df_sel = df_sel[[\"RAdeg\",\"DECdeg\"]]\n",
    "df_sel.plot(kind=\"scatter\",x=\"RAdeg\",y=\"DECdeg\",marker=\".\",c=\"r\",ax=ax,grid=True)\n",
    "plt.gca().set_aspect('equal')\n",
    "plt.title(suptitle,fontsize=16)"
   ]
  },
  {
   "cell_type": "code",
   "execution_count": null,
   "id": "e2388abd-eeae-4e32-949f-317aea0536ce",
   "metadata": {},
   "outputs": [],
   "source": [
    "fig,ax = plt.subplots(1,1,figsize=(10,10))\n",
    "cut1 = (df[\"RAdeg\"]> -130.) &  (df[\"RAdeg\"]<-115.)\n",
    "cut2 = (df[\"dec\"]> -30) &  (df[\"dec\"]<-10)\n",
    "df_sel = df[cut1 & cut2]\n",
    "df_sel = df_sel[[\"RAdeg\",\"DECdeg\"]]\n",
    "df_sel.plot(kind=\"scatter\",x=\"RAdeg\",y=\"DECdeg\",marker=\".\",c=\"r\",ax=ax,grid=True)\n",
    "plt.gca().set_aspect('equal')\n",
    "plt.title(suptitle,fontsize=16)"
   ]
  },
  {
   "cell_type": "code",
   "execution_count": null,
   "id": "4f460e13-7804-4543-9022-cf99d96e97db",
   "metadata": {},
   "outputs": [],
   "source": [
    "fig,ax = plt.subplots(1,1,figsize=(10,10))\n",
    "cut1 = (df[\"RAdeg\"]> -95.) &  (df[\"RAdeg\"]<-80.)\n",
    "cut2 = (df[\"dec\"]> -30) &  (df[\"dec\"]<-10)\n",
    "df_sel = df[cut1 & cut2]\n",
    "df_sel = df_sel[[\"RAdeg\",\"DECdeg\"]]\n",
    "df_sel.plot(kind=\"scatter\",x=\"RAdeg\",y=\"DECdeg\",marker=\".\",c=\"r\",ax=ax,grid=True)\n",
    "plt.gca().set_aspect('equal')\n",
    "plt.title(suptitle,fontsize=16)"
   ]
  },
  {
   "cell_type": "code",
   "execution_count": null,
   "id": "0ecccfd3-fbe3-4125-81cf-db29240a5ffa",
   "metadata": {},
   "outputs": [],
   "source": []
  }
 ],
 "metadata": {
  "kernelspec": {
   "display_name": "LSST",
   "language": "python",
   "name": "lsst"
  },
  "language_info": {
   "codemirror_mode": {
    "name": "ipython",
    "version": 3
   },
   "file_extension": ".py",
   "mimetype": "text/x-python",
   "name": "python",
   "nbconvert_exporter": "python",
   "pygments_lexer": "ipython3",
   "version": "3.11.4"
  }
 },
 "nbformat": 4,
 "nbformat_minor": 5
}
