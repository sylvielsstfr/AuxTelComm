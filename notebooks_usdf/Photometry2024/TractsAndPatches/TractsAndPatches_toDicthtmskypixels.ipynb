{
 "cells": [
  {
   "cell_type": "markdown",
   "id": "0b8c2138-5194-4d03-8b77-be24e2cc8ee3",
   "metadata": {},
   "source": [
    "# Generate a dictionnary of Dictionnary of htm pixels"
   ]
  },
  {
   "cell_type": "markdown",
   "id": "740e34fb-3fef-45a8-941b-c229742ab016",
   "metadata": {},
   "source": [
    " work with Weakly_2024_07\n",
    "- use jupyter kernel LSST\n",
    "\n",
    "\n",
    "- author : Sylvie Dagoret-Campagne\n",
    "- affiliation : IJCLab\n",
    "- creation date : 2024/03/03\n",
    "- update : 2024/03/03\n"
   ]
  },
  {
   "cell_type": "code",
   "execution_count": 1,
   "id": "ed2c3410-fe83-432e-ab87-9f4513fa8d8b",
   "metadata": {
    "execution": {
     "iopub.execute_input": "2024-03-03T16:59:34.156264Z",
     "iopub.status.busy": "2024-03-03T16:59:34.156134Z",
     "iopub.status.idle": "2024-03-03T16:59:34.511010Z",
     "shell.execute_reply": "2024-03-03T16:59:34.510488Z",
     "shell.execute_reply.started": "2024-03-03T16:59:34.156251Z"
    }
   },
   "outputs": [
    {
     "name": "stdout",
     "output_type": "stream",
     "text": [
      "analysis_tools        LOCAL:/home/d/dagoret/repos/repos_w_2024_07/analysis_tools \tsetup\n",
      "atmospec              LOCAL:/home/d/dagoret/repos/repos_w_2024_07/atmospec \tsetup\n",
      "eups                  LOCAL:/opt/lsst/software/stack/conda/miniconda3-py38_4.9.2/envs/lsst-scipipe-8.0.0/eups \tsetup\n",
      "spectractor           LOCAL:/home/d/dagoret/repos/repos_w_2024_07/Spectractor \tsetup\n"
     ]
    }
   ],
   "source": [
    "! eups list -s | grep LOCAL"
   ]
  },
  {
   "cell_type": "code",
   "execution_count": 2,
   "id": "70918d81-0cf6-4b0a-8f61-f5e5bec5b0e7",
   "metadata": {
    "execution": {
     "iopub.execute_input": "2024-03-03T16:59:34.511928Z",
     "iopub.status.busy": "2024-03-03T16:59:34.511770Z",
     "iopub.status.idle": "2024-03-03T16:59:34.844173Z",
     "shell.execute_reply": "2024-03-03T16:59:34.843548Z",
     "shell.execute_reply.started": "2024-03-03T16:59:34.511912Z"
    }
   },
   "outputs": [
    {
     "name": "stdout",
     "output_type": "stream",
     "text": [
      "   g4213664e8e+34187316c4 \tcurrent w_2024_07 setup\n"
     ]
    }
   ],
   "source": [
    "! eups list -s lsst_distrib"
   ]
  },
  {
   "cell_type": "code",
   "execution_count": 26,
   "id": "ce6aa72f-2f5d-4b84-b76a-e5afc7828e07",
   "metadata": {
    "execution": {
     "iopub.execute_input": "2024-03-03T17:07:32.605787Z",
     "iopub.status.busy": "2024-03-03T17:07:32.605549Z",
     "iopub.status.idle": "2024-03-03T17:07:32.610143Z",
     "shell.execute_reply": "2024-03-03T17:07:32.609769Z",
     "shell.execute_reply.started": "2024-03-03T17:07:32.605770Z"
    }
   },
   "outputs": [],
   "source": [
    "# general python packages\n",
    "import numpy as np\n",
    "import matplotlib.pyplot as plt\n",
    "import matplotlib as mpl\n",
    "from astropy.visualization import ZScaleInterval, LinearStretch, ImageNormalize\n",
    "\n",
    "\n",
    "from matplotlib.patches import Polygon\n",
    "from matplotlib.collections import PatchCollection\n",
    "\n",
    "# LSST packages\n",
    "from lsst.daf.butler import Butler\n",
    "import lsst.geom as geom\n",
    "import lsst.sphgeom\n",
    "\n",
    "# allow interactive plots\n",
    "#%matplotlib widget\n",
    "%matplotlib inline\n",
    "\n",
    "# default plot style is accessible\n",
    "plt.style.use('tableau-colorblind10')\n",
    "\n",
    "from collections import OrderedDict\n",
    "import copy"
   ]
  },
  {
   "cell_type": "code",
   "execution_count": 4,
   "id": "588c0e0d-fae8-46c3-a258-a64ef076445b",
   "metadata": {
    "execution": {
     "iopub.execute_input": "2024-03-03T16:59:35.740247Z",
     "iopub.status.busy": "2024-03-03T16:59:35.740106Z",
     "iopub.status.idle": "2024-03-03T16:59:36.318716Z",
     "shell.execute_reply": "2024-03-03T16:59:36.318215Z",
     "shell.execute_reply.started": "2024-03-03T16:59:35.740233Z"
    }
   },
   "outputs": [],
   "source": [
    "# A repo which exists at the USDF, contains data from various instruments and\n",
    "REPO = '/repo/embargo'\n",
    "\n",
    "from lsst.daf.butler import Butler\n",
    "from pprint import pprint\n",
    "\n",
    "# Here we specify a default collection to use\n",
    "#my_collection = \"LATISS/runs/AUXTEL_DRP_IMAGING_2023-11A-10A-09AB-08ABC-07AB-05AB/w_2023_46/PREOPS-4553\"\n",
    "my_collection = \"LATISS/runs/AUXTEL_DRP_IMAGING_20230509_20240201/w_2024_05/PREOPS-4871\"\n",
    "butler = Butler(REPO, collections=my_collection)\n",
    "registry = butler.registry"
   ]
  },
  {
   "cell_type": "code",
   "execution_count": 5,
   "id": "b02a978f-a95f-40c7-b9dc-920c576db844",
   "metadata": {
    "execution": {
     "iopub.execute_input": "2024-03-03T16:59:36.319512Z",
     "iopub.status.busy": "2024-03-03T16:59:36.319365Z",
     "iopub.status.idle": "2024-03-03T16:59:36.339283Z",
     "shell.execute_reply": "2024-03-03T16:59:36.338924Z",
     "shell.execute_reply.started": "2024-03-03T16:59:36.319497Z"
    }
   },
   "outputs": [
    {
     "data": {
      "text/plain": [
       "[detector.RecordClass(instrument='LATISS', id=0, full_name='RXX_S00', name_in_raft='RXX_S00', raft=None, purpose='SCIENCE')]"
      ]
     },
     "execution_count": 5,
     "metadata": {},
     "output_type": "execute_result"
    }
   ],
   "source": [
    "list(butler.registry.queryDimensionRecords('detector', where=\"instrument='LATISS' AND detector.id IN (0..8)\"))"
   ]
  },
  {
   "cell_type": "markdown",
   "id": "9e212fa7-8be2-4874-b534-9d6e0918fa74",
   "metadata": {},
   "source": [
    "### access to skymap\n",
    "\n",
    "https://github.com/sylvielsstfr/MyDP0LSS/blob/main/myDP0.2/TrackAndPatch/PlotTractAndPatchs_butler.ipynb"
   ]
  },
  {
   "cell_type": "code",
   "execution_count": 6,
   "id": "62e69b18-d122-488b-9f62-3fc5e2342279",
   "metadata": {
    "execution": {
     "iopub.execute_input": "2024-03-03T16:59:36.339950Z",
     "iopub.status.busy": "2024-03-03T16:59:36.339820Z",
     "iopub.status.idle": "2024-03-03T16:59:36.342908Z",
     "shell.execute_reply": "2024-03-03T16:59:36.342561Z",
     "shell.execute_reply.started": "2024-03-03T16:59:36.339938Z"
    }
   },
   "outputs": [],
   "source": [
    "def get_corners_radec(wcs, bbox):\n",
    "    \"\"\"\n",
    "    Return the corners in RA,Dec in degrees given the WCS and bounding box for an image.\n",
    "\n",
    "    Parameters\n",
    "    ----------\n",
    "    wcs: image WCS returned by the Butler\n",
    "    bbox: bounding box returned by the Butler\n",
    "\n",
    "    Returns\n",
    "    -------\n",
    "    corners_ra, corners_dec in decimal degrees\n",
    "    \"\"\"\n",
    "\n",
    "    corners_x = [bbox.beginX, bbox.beginX, bbox.endX, bbox.endX]\n",
    "    corners_y = [bbox.beginY, bbox.endY, bbox.endY, bbox.beginY]\n",
    "    corners_ra = []\n",
    "    corners_dec = []\n",
    "    for i in range(4):\n",
    "        radec = wcs.pixelToSky(corners_x[i], corners_y[i])\n",
    "        corners_ra.append(radec.getRa().asDegrees())\n",
    "        corners_dec.append(radec.getDec().asDegrees())\n",
    "    \n",
    "    return corners_ra, corners_dec"
   ]
  },
  {
   "cell_type": "markdown",
   "id": "a7587b10-c178-4537-9c34-60867b69fa01",
   "metadata": {},
   "source": [
    "## Config"
   ]
  },
  {
   "cell_type": "code",
   "execution_count": 7,
   "id": "c2bca87f-8b3a-44ee-afa5-5b8e0b8f9b9d",
   "metadata": {
    "execution": {
     "iopub.execute_input": "2024-03-03T16:59:36.343515Z",
     "iopub.status.busy": "2024-03-03T16:59:36.343395Z",
     "iopub.status.idle": "2024-03-03T16:59:36.455291Z",
     "shell.execute_reply": "2024-03-03T16:59:36.454823Z",
     "shell.execute_reply.started": "2024-03-03T16:59:36.343504Z"
    },
    "tags": []
   },
   "outputs": [],
   "source": [
    "datasetRefs = butler.registry.queryDatasets(datasetType='skyMap', collections=my_collection, where= \"instrument='LATISS'\")"
   ]
  },
  {
   "cell_type": "code",
   "execution_count": 8,
   "id": "70cc3c91-c505-48aa-aec2-f1f8b342b127",
   "metadata": {
    "execution": {
     "iopub.execute_input": "2024-03-03T16:59:36.455921Z",
     "iopub.status.busy": "2024-03-03T16:59:36.455792Z",
     "iopub.status.idle": "2024-03-03T16:59:36.464877Z",
     "shell.execute_reply": "2024-03-03T16:59:36.464488Z",
     "shell.execute_reply.started": "2024-03-03T16:59:36.455908Z"
    }
   },
   "outputs": [
    {
     "name": "stdout",
     "output_type": "stream",
     "text": [
      "DatasetRef(DatasetType('skyMap', {skymap}, SkyMap), {skymap: 'hsc_rings_v1'}, run='skymaps', id=6e7fc928-0dc3-4e1b-ae63-5fb63be46216)\n",
      "DatasetRef(DatasetType('skyMap', {skymap}, SkyMap), {skymap: 'latiss_v1'}, run='skymaps', id=f677ff86-2b1c-4094-9dad-e39395052cd1)\n",
      "DatasetRef(DatasetType('skyMap', {skymap}, SkyMap), {skymap: 'lsst_cells_v1'}, run='skymaps', id=857e0e80-8d08-44f4-a81b-84227b064d5b)\n"
     ]
    }
   ],
   "source": [
    "for i, ref in enumerate(datasetRefs):\n",
    "    pprint(ref)\n",
    "    skymap_id = ref.dataId[\"skymap\"]\n",
    "    if skymap_id ==  'latiss_v1':\n",
    "        skymap = ref"
   ]
  },
  {
   "cell_type": "code",
   "execution_count": 9,
   "id": "0e749eb3-5a4c-430f-9547-148ffb974b4b",
   "metadata": {
    "execution": {
     "iopub.execute_input": "2024-03-03T16:59:36.465476Z",
     "iopub.status.busy": "2024-03-03T16:59:36.465352Z",
     "iopub.status.idle": "2024-03-03T16:59:36.576115Z",
     "shell.execute_reply": "2024-03-03T16:59:36.575635Z",
     "shell.execute_reply.started": "2024-03-03T16:59:36.465465Z"
    }
   },
   "outputs": [],
   "source": [
    "skymap = butler.get(ref)"
   ]
  },
  {
   "cell_type": "code",
   "execution_count": 10,
   "id": "5b00dd9c-d87b-4c0e-9811-4cdbb06f6d76",
   "metadata": {
    "execution": {
     "iopub.execute_input": "2024-03-03T16:59:36.577004Z",
     "iopub.status.busy": "2024-03-03T16:59:36.576694Z",
     "iopub.status.idle": "2024-03-03T16:59:36.579189Z",
     "shell.execute_reply": "2024-03-03T16:59:36.578835Z",
     "shell.execute_reply.started": "2024-03-03T16:59:36.576991Z"
    }
   },
   "outputs": [],
   "source": [
    "my_tracts = [ 5616,5634,5615,10644,383,8188,3863,455,452,5839,10643,382]"
   ]
  },
  {
   "cell_type": "code",
   "execution_count": 11,
   "id": "a88df013-ca76-4aa3-b47f-e1e0537979ca",
   "metadata": {
    "execution": {
     "iopub.execute_input": "2024-03-03T16:59:36.579780Z",
     "iopub.status.busy": "2024-03-03T16:59:36.579657Z",
     "iopub.status.idle": "2024-03-03T16:59:36.746676Z",
     "shell.execute_reply": "2024-03-03T16:59:36.746369Z",
     "shell.execute_reply.started": "2024-03-03T16:59:36.579770Z"
    }
   },
   "outputs": [
    {
     "data": {
      "text/plain": [
       "Index2D(x=3, y=2)"
      ]
     },
     "execution_count": 11,
     "metadata": {},
     "output_type": "execute_result"
    }
   ],
   "source": [
    "#from lsst.daf.butler import Butler\n",
    "#butler = Butler('SMALL_HSC')\n",
    "skymap = butler.get('skyMap', skymap='latiss_v1', collections=my_collection)\n",
    "tractInfo = skymap.generateTract(5616)\n",
    "patch = tractInfo[41]\n",
    "patch.getIndex()"
   ]
  },
  {
   "cell_type": "code",
   "execution_count": 12,
   "id": "cb8af27c-ce92-464d-b17d-c8b7135e4ad0",
   "metadata": {
    "execution": {
     "iopub.execute_input": "2024-03-03T16:59:36.747313Z",
     "iopub.status.busy": "2024-03-03T16:59:36.747184Z",
     "iopub.status.idle": "2024-03-03T16:59:36.748963Z",
     "shell.execute_reply": "2024-03-03T16:59:36.748686Z",
     "shell.execute_reply.started": "2024-03-03T16:59:36.747300Z"
    }
   },
   "outputs": [],
   "source": [
    "#for patch in tractInfo:\n",
    "#    print(patch.getSequentialIndex())"
   ]
  },
  {
   "cell_type": "code",
   "execution_count": 13,
   "id": "a466bd42-382c-473a-8d4f-1117afaa52d9",
   "metadata": {
    "execution": {
     "iopub.execute_input": "2024-03-03T16:59:36.749550Z",
     "iopub.status.busy": "2024-03-03T16:59:36.749346Z",
     "iopub.status.idle": "2024-03-03T16:59:36.755097Z",
     "shell.execute_reply": "2024-03-03T16:59:36.754826Z",
     "shell.execute_reply.started": "2024-03-03T16:59:36.749539Z"
    }
   },
   "outputs": [],
   "source": [
    "# Load data (deserialize)\n",
    "import pickle\n",
    "with open('../data/202402/Latiss_tractspatchs_202402.pickle', 'rb') as handle:\n",
    "    tracts_patchs_dict = pickle.load(handle)"
   ]
  },
  {
   "cell_type": "code",
   "execution_count": 14,
   "id": "d716c112-aec6-40a5-9bfa-1d379327a57c",
   "metadata": {
    "execution": {
     "iopub.execute_input": "2024-03-03T16:59:36.755678Z",
     "iopub.status.busy": "2024-03-03T16:59:36.755481Z",
     "iopub.status.idle": "2024-03-03T16:59:36.763265Z",
     "shell.execute_reply": "2024-03-03T16:59:36.762997Z",
     "shell.execute_reply.started": "2024-03-03T16:59:36.755666Z"
    }
   },
   "outputs": [
    {
     "data": {
      "text/plain": [
       "{10644: array([189, 183, 184, 164, 185, 203, 201, 207, 182, 162, 166, 165, 181,\n",
       "        161, 188, 208, 180, 202]),\n",
       " 5634: array([ 90, 110,  71, 112,  73, 109,  93,  92,  91,  53,  72,  55,  52,\n",
       "        111,  54,  74]),\n",
       " 3863: array([223, 261, 241, 242, 262, 260, 243, 222, 224]),\n",
       " 452: array([41, 62, 22, 25, 23, 44, 42, 63, 43, 24]),\n",
       " 5614: array([250, 251, 230, 210, 212, 232, 211, 213, 249, 229, 231]),\n",
       " 5616: array([355, 358, 316, 338, 356, 336, 357, 337, 317, 335, 315, 334]),\n",
       " 5615: array([274, 331, 312, 332, 294, 295, 293, 313, 333, 314, 275, 276]),\n",
       " 5839: array([9, 8, 7]),\n",
       " 10643: array([190, 171]),\n",
       " 455: array([51, 52, 15, 33, 14, 53, 34, 13, 32]),\n",
       " 382: array([343, 344, 342]),\n",
       " 3864: array([274, 238, 217, 218, 273, 255, 235, 275, 237, 257, 219, 236, 256,\n",
       "        254, 276, 216]),\n",
       " 383: array([359, 360])}"
      ]
     },
     "execution_count": 14,
     "metadata": {},
     "output_type": "execute_result"
    }
   ],
   "source": [
    "tracts_patchs_dict"
   ]
  },
  {
   "cell_type": "code",
   "execution_count": 15,
   "id": "1cbd1adb-fcd4-4527-a30f-52e64ae79156",
   "metadata": {
    "execution": {
     "iopub.execute_input": "2024-03-03T16:59:36.763767Z",
     "iopub.status.busy": "2024-03-03T16:59:36.763644Z",
     "iopub.status.idle": "2024-03-03T16:59:36.768658Z",
     "shell.execute_reply": "2024-03-03T16:59:36.768405Z",
     "shell.execute_reply.started": "2024-03-03T16:59:36.763755Z"
    }
   },
   "outputs": [
    {
     "data": {
      "text/plain": [
       "[10644, 5634, 3863, 452, 5614, 5616, 5615, 5839, 10643, 455, 382, 3864, 383]"
      ]
     },
     "execution_count": 15,
     "metadata": {},
     "output_type": "execute_result"
    }
   ],
   "source": [
    "list_of_tracts = list(tracts_patchs_dict.keys())\n",
    "list_of_tracts"
   ]
  },
  {
   "cell_type": "code",
   "execution_count": 16,
   "id": "8c81ef60-4e7a-4592-9e89-6b5ab9884d57",
   "metadata": {
    "execution": {
     "iopub.execute_input": "2024-03-03T16:59:36.769171Z",
     "iopub.status.busy": "2024-03-03T16:59:36.769035Z",
     "iopub.status.idle": "2024-03-03T16:59:36.773031Z",
     "shell.execute_reply": "2024-03-03T16:59:36.772761Z",
     "shell.execute_reply.started": "2024-03-03T16:59:36.769159Z"
    }
   },
   "outputs": [
    {
     "name": "stdout",
     "output_type": "stream",
     "text": [
      "123\n"
     ]
    }
   ],
   "source": [
    "npatches = 0\n",
    "for itract in list_of_tracts:\n",
    "    npatches += len(tracts_patchs_dict[itract])\n",
    "print(npatches)    "
   ]
  },
  {
   "cell_type": "markdown",
   "id": "c8babffc-71fb-4a5f-b8e4-9674e4fd4bf4",
   "metadata": {},
   "source": [
    "# Choose a level of pixelisation"
   ]
  },
  {
   "cell_type": "code",
   "execution_count": 17,
   "id": "aafb5b29-ed70-4392-8f6d-c191d51d9ee9",
   "metadata": {
    "execution": {
     "iopub.execute_input": "2024-03-03T16:59:36.773526Z",
     "iopub.status.busy": "2024-03-03T16:59:36.773409Z",
     "iopub.status.idle": "2024-03-03T16:59:36.776830Z",
     "shell.execute_reply": "2024-03-03T16:59:36.776555Z",
     "shell.execute_reply.started": "2024-03-03T16:59:36.773515Z"
    }
   },
   "outputs": [],
   "source": [
    "level = 7  # the resolution of the HTM grid\n",
    "pixelization = lsst.sphgeom.HtmPixelization(level)"
   ]
  },
  {
   "cell_type": "code",
   "execution_count": 27,
   "id": "151d6922-eeac-4a08-9c6c-8caf29f510ac",
   "metadata": {
    "execution": {
     "iopub.execute_input": "2024-03-03T17:07:47.311910Z",
     "iopub.status.busy": "2024-03-03T17:07:47.311589Z",
     "iopub.status.idle": "2024-03-03T17:07:47.414154Z",
     "shell.execute_reply": "2024-03-03T17:07:47.413767Z",
     "shell.execute_reply.started": "2024-03-03T17:07:47.311886Z"
    }
   },
   "outputs": [
    {
     "name": "stdout",
     "output_type": "stream",
     "text": [
      "13\n"
     ]
    }
   ],
   "source": [
    "import numpy as np\n",
    "\n",
    "import matplotlib.pyplot as plt\n",
    "import matplotlib\n",
    "\n",
    "\n",
    "numTracts=0\n",
    "# collection of polygons\n",
    "\n",
    "tract_htmpixels_dict = {}\n",
    "\n",
    "\n",
    "\n",
    "# loop on tracts\n",
    "#---------------\n",
    "for tractInfo in skymap:\n",
    "    tractID = tractInfo.getId()\n",
    "    if tractID not in list_of_tracts:\n",
    "        continue\n",
    "    numTracts+=1  \n",
    "\n",
    "\n",
    "    list_htmpixels = []\n",
    "    # loop on patch\n",
    "    #--------------\n",
    "  \n",
    "    for patch in tractInfo:    \n",
    "        patchID = patch.getSequentialIndex()\n",
    "        if patchID not in tracts_patchs_dict[tractID]:\n",
    "            continue\n",
    "        ibb=patch.getInnerBBox()\n",
    "        tWCS=tractInfo.getWcs()\n",
    "       \n",
    "        # loop on the 4 corners\n",
    "        for icorn,corner in enumerate(ibb.getCorners()):\n",
    "            p = geom.Point2D(corner.getX(), corner.getY())\n",
    "            coord = tWCS.pixelToSky(p)\n",
    "\n",
    "            ra = coord.getRa().asDegrees()\n",
    "            dec = coord.getDec().asDegrees()\n",
    "        \n",
    "            htm_id = pixelization.index(lsst.sphgeom.UnitVector3d(lsst.sphgeom.LonLat.fromDegrees(ra, dec)))\n",
    "            #print(tractID,patchID,icorn,ra,dec,htm_id)\n",
    "            list_htmpixels.append(htm_id)\n",
    "            \n",
    "        ## all corners of the patch\n",
    "\n",
    "    # all htm in the tract\n",
    "   \n",
    "    list_htmpixels = np.array(list_htmpixels)\n",
    "    list_htmpixels = np.unique(list_htmpixels)\n",
    "    list_htmpixels = np.sort(list_htmpixels)\n",
    "    \n",
    "\n",
    "    tract_htmpixels_dict[tractID] =  copy.deepcopy(list_htmpixels)\n",
    "     \n",
    "    \n",
    "print(numTracts)   \n",
    "\n"
   ]
  },
  {
   "cell_type": "code",
   "execution_count": 30,
   "id": "578ef116-bc02-4ff3-99b5-73a944d490f5",
   "metadata": {
    "execution": {
     "iopub.execute_input": "2024-03-03T17:08:42.913834Z",
     "iopub.status.busy": "2024-03-03T17:08:42.913433Z",
     "iopub.status.idle": "2024-03-03T17:08:42.917491Z",
     "shell.execute_reply": "2024-03-03T17:08:42.917200Z",
     "shell.execute_reply.started": "2024-03-03T17:08:42.913819Z"
    }
   },
   "outputs": [],
   "source": [
    "with open(f'Latiss_tractspatchs_radec_htm{level}_skypixels_202402.pickle', 'wb') as handle:\n",
    "    pickle.dump(tract_htmpixels_dict, handle)\n"
   ]
  },
  {
   "cell_type": "code",
   "execution_count": 29,
   "id": "0b2b3e16-696c-4f08-a0b3-6a7debe8392b",
   "metadata": {
    "execution": {
     "iopub.execute_input": "2024-03-03T17:07:52.588465Z",
     "iopub.status.busy": "2024-03-03T17:07:52.588019Z",
     "iopub.status.idle": "2024-03-03T17:07:52.591614Z",
     "shell.execute_reply": "2024-03-03T17:07:52.591271Z",
     "shell.execute_reply.started": "2024-03-03T17:07:52.588451Z"
    }
   },
   "outputs": [
    {
     "data": {
      "text/plain": [
       "{382: array([135892, 135895]),\n",
       " 383: array([135892, 135895]),\n",
       " 452: array([135696, 135699]),\n",
       " 455: array([135892, 135894, 135895]),\n",
       " 3863: array([162489, 162491]),\n",
       " 3864: array([162888, 162891]),\n",
       " 5614: array([177672, 177716]),\n",
       " 5615: array([177675]),\n",
       " 5616: array([177666, 177677]),\n",
       " 5634: array([181764, 181816]),\n",
       " 5839: array([177677]),\n",
       " 10643: array([205911]),\n",
       " 10644: array([205908, 205911, 205936])}"
      ]
     },
     "execution_count": 29,
     "metadata": {},
     "output_type": "execute_result"
    }
   ],
   "source": [
    "tract_htmpixels_dict"
   ]
  },
  {
   "cell_type": "code",
   "execution_count": null,
   "id": "2d6ef1f9-1ccb-47b8-b463-127fb8eff477",
   "metadata": {},
   "outputs": [],
   "source": []
  }
 ],
 "metadata": {
  "kernelspec": {
   "display_name": "LSST",
   "language": "python",
   "name": "lsst"
  },
  "language_info": {
   "codemirror_mode": {
    "name": "ipython",
    "version": 3
   },
   "file_extension": ".py",
   "mimetype": "text/x-python",
   "name": "python",
   "nbconvert_exporter": "python",
   "pygments_lexer": "ipython3",
   "version": "3.11.7"
  }
 },
 "nbformat": 4,
 "nbformat_minor": 5
}
