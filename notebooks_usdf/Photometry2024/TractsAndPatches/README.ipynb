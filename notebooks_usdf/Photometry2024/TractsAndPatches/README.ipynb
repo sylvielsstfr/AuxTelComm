{
 "cells": [
  {
   "cell_type": "markdown",
   "id": "996aa4e7-c973-4f2a-9d99-6003f282e591",
   "metadata": {},
   "source": [
    "# README for Tracts And patches\n",
    "\n",
    "- author Sylvie Dagoret-Campagne\n",
    "- affiliation : IJCLab/IN2P3/CNRS\n",
    "- creation date : 2024-03-05\n",
    "- last update : 2024-03-05"
   ]
  },
  {
   "cell_type": "markdown",
   "id": "09a65881-0118-4216-b4e4-1d305b3840c3",
   "metadata": {},
   "source": [
    "## Simple TractsAndPatches\n",
    "\n",
    "- [TractsAndPatches.ipynb](TractsAndPatches.ipynb) : try to plot tracts with polygons, but fails in plotting. It shows how to access to ``TractInfo`` and ``PatchInfo``"
   ]
  },
  {
   "cell_type": "markdown",
   "id": "c6cfd183-de4d-410c-b4b1-7bc1fdf48d47",
   "metadata": {},
   "source": [
    "## TractsAndPatches-loopTtracts.ipynb\t\n",
    "\n",
    "\n",
    "- [TractsAndPatches-loopTtracts.ipynb](TractsAndPatches-loopTtracts.ipynb): It really shows where are the tracts on sky (Not using polygons) and show where are arranged the patches inside the tracts. It can be used for plotting purpose.\t"
   ]
  },
  {
   "cell_type": "markdown",
   "id": "2a21b40a-32f6-46e2-b2af-bb7991f066e0",
   "metadata": {},
   "source": [
    "## TractsAndPatches_toDictRaDec.ipynb\n",
    "\n",
    "- [TractsAndPatches_toDictRaDec.ipynb](TractsAndPatches_toDictRaDec.ipynb) : Generate the Dict file ``Latiss_tractspatchs_radec_radians_202402.pickle`` that contains the [RAMIN,RAMAX,DECMIN,DECMAX] coordinates or each tracts"
   ]
  },
  {
   "cell_type": "markdown",
   "id": "bd44c065-4b94-4f36-b1ce-6fabaf136ffa",
   "metadata": {
    "execution": {
     "iopub.execute_input": "2024-03-05T09:58:09.878464Z",
     "iopub.status.busy": "2024-03-05T09:58:09.878065Z",
     "iopub.status.idle": "2024-03-05T09:58:10.091392Z",
     "shell.execute_reply": "2024-03-05T09:58:10.090740Z",
     "shell.execute_reply.started": "2024-03-05T09:58:09.878449Z"
    }
   },
   "source": [
    "## TractsAndPatches_toDicthtmskypixels.ipynb\n",
    "\n",
    "- [TractsAndPatches_toDicthtmskypixels.ipynb](TractsAndPatches_toDicthtmskypixels.ipynb): An even more elaborate notebook that generate a Dict file containing\n",
    "- radec corrodnate for each patch and the htm7 pixels associated to that tract in ``Latiss_tractspatchs_radec_htm7_skypixels_202402.pickle``"
   ]
  },
  {
   "cell_type": "code",
   "execution_count": null,
   "id": "f55fa25d-71d4-4bc1-84c0-5196aed1b3ff",
   "metadata": {},
   "outputs": [],
   "source": []
  }
 ],
 "metadata": {
  "kernelspec": {
   "display_name": "LSST",
   "language": "python",
   "name": "lsst"
  },
  "language_info": {
   "codemirror_mode": {
    "name": "ipython",
    "version": 3
   },
   "file_extension": ".py",
   "mimetype": "text/x-python",
   "name": "python",
   "nbconvert_exporter": "python",
   "pygments_lexer": "ipython3",
   "version": "3.11.7"
  }
 },
 "nbformat": 4,
 "nbformat_minor": 5
}
