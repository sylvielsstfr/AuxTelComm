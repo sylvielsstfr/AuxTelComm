{
 "cells": [
  {
   "cell_type": "markdown",
   "id": "0b8c2138-5194-4d03-8b77-be24e2cc8ee3",
   "metadata": {},
   "source": [
    "# Plot Tracts and Patches"
   ]
  },
  {
   "cell_type": "markdown",
   "id": "740e34fb-3fef-45a8-941b-c229742ab016",
   "metadata": {},
   "source": [
    " work with Weakly_2024_07\n",
    "- use jupyter kernel LSST\n",
    "\n",
    "\n",
    "- author : Sylvie Dagoret-Campagne\n",
    "- affiliation : IJCLab\n",
    "- creation date : 2023/12/22\n",
    "- update : 2024/02/23\n"
   ]
  },
  {
   "cell_type": "code",
   "execution_count": 1,
   "id": "ed2c3410-fe83-432e-ab87-9f4513fa8d8b",
   "metadata": {
    "execution": {
     "iopub.execute_input": "2024-02-23T12:27:56.540220Z",
     "iopub.status.busy": "2024-02-23T12:27:56.540095Z",
     "iopub.status.idle": "2024-02-23T12:27:56.884395Z",
     "shell.execute_reply": "2024-02-23T12:27:56.883872Z",
     "shell.execute_reply.started": "2024-02-23T12:27:56.540207Z"
    }
   },
   "outputs": [
    {
     "name": "stdout",
     "output_type": "stream",
     "text": [
      "analysis_tools        LOCAL:/home/d/dagoret/repos/repos_w_2024_07/analysis_tools \tsetup\n",
      "atmospec              LOCAL:/home/d/dagoret/repos/repos_w_2024_07/atmospec \tsetup\n",
      "eups                  LOCAL:/opt/lsst/software/stack/conda/miniconda3-py38_4.9.2/envs/lsst-scipipe-8.0.0/eups \tsetup\n",
      "spectractor           LOCAL:/home/d/dagoret/repos/repos_w_2024_07/Spectractor \tsetup\n"
     ]
    }
   ],
   "source": [
    "! eups list -s | grep LOCAL"
   ]
  },
  {
   "cell_type": "code",
   "execution_count": 2,
   "id": "70918d81-0cf6-4b0a-8f61-f5e5bec5b0e7",
   "metadata": {
    "execution": {
     "iopub.execute_input": "2024-02-23T12:27:56.885294Z",
     "iopub.status.busy": "2024-02-23T12:27:56.885145Z",
     "iopub.status.idle": "2024-02-23T12:27:57.221537Z",
     "shell.execute_reply": "2024-02-23T12:27:57.220995Z",
     "shell.execute_reply.started": "2024-02-23T12:27:56.885280Z"
    }
   },
   "outputs": [
    {
     "name": "stdout",
     "output_type": "stream",
     "text": [
      "   g4213664e8e+34187316c4 \tcurrent w_2024_07 setup\n"
     ]
    }
   ],
   "source": [
    "! eups list -s lsst_distrib"
   ]
  },
  {
   "cell_type": "code",
   "execution_count": 3,
   "id": "ce6aa72f-2f5d-4b84-b76a-e5afc7828e07",
   "metadata": {
    "execution": {
     "iopub.execute_input": "2024-02-23T12:27:57.222462Z",
     "iopub.status.busy": "2024-02-23T12:27:57.222306Z",
     "iopub.status.idle": "2024-02-23T12:27:58.138914Z",
     "shell.execute_reply": "2024-02-23T12:27:58.138464Z",
     "shell.execute_reply.started": "2024-02-23T12:27:57.222447Z"
    }
   },
   "outputs": [],
   "source": [
    "# general python packages\n",
    "import numpy as np\n",
    "import matplotlib.pyplot as plt\n",
    "import matplotlib as mpl\n",
    "from astropy.visualization import ZScaleInterval, LinearStretch, ImageNormalize\n",
    "\n",
    "\n",
    "from matplotlib.patches import Polygon\n",
    "from matplotlib.collections import PatchCollection\n",
    "\n",
    "# LSST packages\n",
    "from lsst.daf.butler import Butler\n",
    "import lsst.geom as geom\n",
    "\n",
    "# allow interactive plots\n",
    "#%matplotlib widget\n",
    "%matplotlib inline\n",
    "\n",
    "# default plot style is accessible\n",
    "plt.style.use('tableau-colorblind10')"
   ]
  },
  {
   "cell_type": "code",
   "execution_count": 4,
   "id": "588c0e0d-fae8-46c3-a258-a64ef076445b",
   "metadata": {
    "execution": {
     "iopub.execute_input": "2024-02-23T12:27:58.140464Z",
     "iopub.status.busy": "2024-02-23T12:27:58.140321Z",
     "iopub.status.idle": "2024-02-23T12:27:58.812524Z",
     "shell.execute_reply": "2024-02-23T12:27:58.812015Z",
     "shell.execute_reply.started": "2024-02-23T12:27:58.140450Z"
    }
   },
   "outputs": [],
   "source": [
    "# A repo which exists at the USDF, contains data from various instruments and\n",
    "REPO = '/repo/embargo'\n",
    "\n",
    "from lsst.daf.butler import Butler\n",
    "from pprint import pprint\n",
    "\n",
    "# Here we specify a default collection to use\n",
    "#my_collection = \"LATISS/runs/AUXTEL_DRP_IMAGING_2023-11A-10A-09AB-08ABC-07AB-05AB/w_2023_46/PREOPS-4553\"\n",
    "my_collection = \"LATISS/runs/AUXTEL_DRP_IMAGING_20230509_20240201/w_2024_05/PREOPS-4871\"\n",
    "butler = Butler(REPO, collections=my_collection)\n",
    "registry = butler.registry"
   ]
  },
  {
   "cell_type": "code",
   "execution_count": 5,
   "id": "b02a978f-a95f-40c7-b9dc-920c576db844",
   "metadata": {
    "execution": {
     "iopub.execute_input": "2024-02-23T12:27:58.813238Z",
     "iopub.status.busy": "2024-02-23T12:27:58.813095Z",
     "iopub.status.idle": "2024-02-23T12:27:58.834052Z",
     "shell.execute_reply": "2024-02-23T12:27:58.833700Z",
     "shell.execute_reply.started": "2024-02-23T12:27:58.813225Z"
    }
   },
   "outputs": [
    {
     "data": {
      "text/plain": [
       "[detector.RecordClass(instrument='LATISS', id=0, full_name='RXX_S00', name_in_raft='RXX_S00', raft=None, purpose='SCIENCE')]"
      ]
     },
     "execution_count": 5,
     "metadata": {},
     "output_type": "execute_result"
    }
   ],
   "source": [
    "list(butler.registry.queryDimensionRecords('detector', where=\"instrument='LATISS' AND detector.id IN (0..8)\"))"
   ]
  },
  {
   "cell_type": "markdown",
   "id": "9e212fa7-8be2-4874-b534-9d6e0918fa74",
   "metadata": {},
   "source": [
    "### access to skymap\n",
    "\n",
    "https://github.com/sylvielsstfr/MyDP0LSS/blob/main/myDP0.2/TrackAndPatch/PlotTractAndPatchs_butler.ipynb"
   ]
  },
  {
   "cell_type": "code",
   "execution_count": 6,
   "id": "62e69b18-d122-488b-9f62-3fc5e2342279",
   "metadata": {
    "execution": {
     "iopub.execute_input": "2024-02-23T12:27:58.834753Z",
     "iopub.status.busy": "2024-02-23T12:27:58.834615Z",
     "iopub.status.idle": "2024-02-23T12:27:58.837775Z",
     "shell.execute_reply": "2024-02-23T12:27:58.837413Z",
     "shell.execute_reply.started": "2024-02-23T12:27:58.834740Z"
    }
   },
   "outputs": [],
   "source": [
    "def get_corners_radec(wcs, bbox):\n",
    "    \"\"\"\n",
    "    Return the corners in RA,Dec in degrees given the WCS and bounding box for an image.\n",
    "\n",
    "    Parameters\n",
    "    ----------\n",
    "    wcs: image WCS returned by the Butler\n",
    "    bbox: bounding box returned by the Butler\n",
    "\n",
    "    Returns\n",
    "    -------\n",
    "    corners_ra, corners_dec in decimal degrees\n",
    "    \"\"\"\n",
    "\n",
    "    corners_x = [bbox.beginX, bbox.beginX, bbox.endX, bbox.endX]\n",
    "    corners_y = [bbox.beginY, bbox.endY, bbox.endY, bbox.beginY]\n",
    "    corners_ra = []\n",
    "    corners_dec = []\n",
    "    for i in range(4):\n",
    "        radec = wcs.pixelToSky(corners_x[i], corners_y[i])\n",
    "        corners_ra.append(radec.getRa().asDegrees())\n",
    "        corners_dec.append(radec.getDec().asDegrees())\n",
    "    \n",
    "    return corners_ra, corners_dec"
   ]
  },
  {
   "cell_type": "markdown",
   "id": "a7587b10-c178-4537-9c34-60867b69fa01",
   "metadata": {},
   "source": [
    "## Config"
   ]
  },
  {
   "cell_type": "code",
   "execution_count": 7,
   "id": "c2bca87f-8b3a-44ee-afa5-5b8e0b8f9b9d",
   "metadata": {
    "execution": {
     "iopub.execute_input": "2024-02-23T12:27:58.838359Z",
     "iopub.status.busy": "2024-02-23T12:27:58.838240Z",
     "iopub.status.idle": "2024-02-23T12:27:59.024472Z",
     "shell.execute_reply": "2024-02-23T12:27:59.024002Z",
     "shell.execute_reply.started": "2024-02-23T12:27:58.838348Z"
    },
    "tags": []
   },
   "outputs": [],
   "source": [
    "datasetRefs = butler.registry.queryDatasets(datasetType='skyMap', collections=my_collection, where= \"instrument='LATISS'\")"
   ]
  },
  {
   "cell_type": "code",
   "execution_count": 8,
   "id": "70cc3c91-c505-48aa-aec2-f1f8b342b127",
   "metadata": {
    "execution": {
     "iopub.execute_input": "2024-02-23T12:27:59.025143Z",
     "iopub.status.busy": "2024-02-23T12:27:59.025016Z",
     "iopub.status.idle": "2024-02-23T12:27:59.033869Z",
     "shell.execute_reply": "2024-02-23T12:27:59.033508Z",
     "shell.execute_reply.started": "2024-02-23T12:27:59.025131Z"
    }
   },
   "outputs": [
    {
     "name": "stdout",
     "output_type": "stream",
     "text": [
      "DatasetRef(DatasetType('skyMap', {skymap}, SkyMap), {skymap: 'hsc_rings_v1'}, run='skymaps', id=6e7fc928-0dc3-4e1b-ae63-5fb63be46216)\n",
      "DatasetRef(DatasetType('skyMap', {skymap}, SkyMap), {skymap: 'latiss_v1'}, run='skymaps', id=f677ff86-2b1c-4094-9dad-e39395052cd1)\n",
      "DatasetRef(DatasetType('skyMap', {skymap}, SkyMap), {skymap: 'lsst_cells_v1'}, run='skymaps', id=857e0e80-8d08-44f4-a81b-84227b064d5b)\n"
     ]
    }
   ],
   "source": [
    "for i, ref in enumerate(datasetRefs):\n",
    "    pprint(ref)\n",
    "    skymap_id = ref.dataId[\"skymap\"]\n",
    "    if skymap_id ==  'latiss_v1':\n",
    "        skymap = ref"
   ]
  },
  {
   "cell_type": "code",
   "execution_count": 9,
   "id": "0e749eb3-5a4c-430f-9547-148ffb974b4b",
   "metadata": {
    "execution": {
     "iopub.execute_input": "2024-02-23T12:27:59.034455Z",
     "iopub.status.busy": "2024-02-23T12:27:59.034326Z",
     "iopub.status.idle": "2024-02-23T12:27:59.197701Z",
     "shell.execute_reply": "2024-02-23T12:27:59.197210Z",
     "shell.execute_reply.started": "2024-02-23T12:27:59.034443Z"
    }
   },
   "outputs": [],
   "source": [
    "skymap = butler.get(ref)"
   ]
  },
  {
   "cell_type": "code",
   "execution_count": 10,
   "id": "5b00dd9c-d87b-4c0e-9811-4cdbb06f6d76",
   "metadata": {
    "execution": {
     "iopub.execute_input": "2024-02-23T12:27:59.198611Z",
     "iopub.status.busy": "2024-02-23T12:27:59.198290Z",
     "iopub.status.idle": "2024-02-23T12:27:59.200780Z",
     "shell.execute_reply": "2024-02-23T12:27:59.200423Z",
     "shell.execute_reply.started": "2024-02-23T12:27:59.198597Z"
    }
   },
   "outputs": [],
   "source": [
    "my_tracts = [ 5616,5634,5615,10644,383,8188,3863,455,452,5839,10643,382]"
   ]
  },
  {
   "cell_type": "code",
   "execution_count": 11,
   "id": "a88df013-ca76-4aa3-b47f-e1e0537979ca",
   "metadata": {
    "execution": {
     "iopub.execute_input": "2024-02-23T12:27:59.201365Z",
     "iopub.status.busy": "2024-02-23T12:27:59.201246Z",
     "iopub.status.idle": "2024-02-23T12:27:59.259600Z",
     "shell.execute_reply": "2024-02-23T12:27:59.259218Z",
     "shell.execute_reply.started": "2024-02-23T12:27:59.201354Z"
    }
   },
   "outputs": [],
   "source": [
    "#from lsst.daf.butler import Butler\n",
    "#butler = Butler('SMALL_HSC')\n",
    "skymap = butler.get('skyMap', skymap='latiss_v1', collections=my_collection)\n",
    "tractInfo = skymap.generateTract(5616)\n",
    "#patch = tractInfo[41]\n",
    "#patch.getIndex()"
   ]
  },
  {
   "cell_type": "code",
   "execution_count": 12,
   "id": "5413fcd3-aeea-4032-9f9c-acde6f475b09",
   "metadata": {
    "execution": {
     "iopub.execute_input": "2024-02-23T12:27:59.260226Z",
     "iopub.status.busy": "2024-02-23T12:27:59.260101Z",
     "iopub.status.idle": "2024-02-23T12:27:59.390791Z",
     "shell.execute_reply": "2024-02-23T12:27:59.390348Z",
     "shell.execute_reply.started": "2024-02-23T12:27:59.260215Z"
    }
   },
   "outputs": [
    {
     "data": {
      "text/plain": [
       "\u001b[0;31mSignature:\u001b[0m \u001b[0mskymap\u001b[0m\u001b[0;34m.\u001b[0m\u001b[0mgenerateTract\u001b[0m\u001b[0;34m(\u001b[0m\u001b[0mindex\u001b[0m\u001b[0;34m)\u001b[0m\u001b[0;34m\u001b[0m\u001b[0;34m\u001b[0m\u001b[0m\n",
       "\u001b[0;31mDocstring:\u001b[0m Generate TractInfo for the specified tract index.\n",
       "\u001b[0;31mFile:\u001b[0m      /opt/lsst/software/stack/stack/miniconda3-py38_4.9.2-8.0.0/Linux64/skymap/ga8c6da7877+ef8d675bea/python/lsst/skymap/ringsSkyMap.py\n",
       "\u001b[0;31mType:\u001b[0m      method"
      ]
     },
     "metadata": {},
     "output_type": "display_data"
    }
   ],
   "source": [
    "skymap.generateTract?"
   ]
  },
  {
   "cell_type": "code",
   "execution_count": 13,
   "id": "cb8af27c-ce92-464d-b17d-c8b7135e4ad0",
   "metadata": {
    "execution": {
     "iopub.execute_input": "2024-02-23T12:27:59.391508Z",
     "iopub.status.busy": "2024-02-23T12:27:59.391361Z",
     "iopub.status.idle": "2024-02-23T12:27:59.393278Z",
     "shell.execute_reply": "2024-02-23T12:27:59.392911Z",
     "shell.execute_reply.started": "2024-02-23T12:27:59.391496Z"
    }
   },
   "outputs": [],
   "source": [
    "#for patch in tractInfo:\n",
    "#    print(patch.getSequentialIndex())"
   ]
  },
  {
   "cell_type": "code",
   "execution_count": 14,
   "id": "fefb1d40-b6dc-40bb-9037-7ae7898b797f",
   "metadata": {
    "execution": {
     "iopub.execute_input": "2024-02-23T12:27:59.393868Z",
     "iopub.status.busy": "2024-02-23T12:27:59.393747Z",
     "iopub.status.idle": "2024-02-23T12:27:59.397213Z",
     "shell.execute_reply": "2024-02-23T12:27:59.396893Z",
     "shell.execute_reply.started": "2024-02-23T12:27:59.393857Z"
    }
   },
   "outputs": [],
   "source": [
    "#patch.getSequentialIndex?"
   ]
  },
  {
   "cell_type": "code",
   "execution_count": 15,
   "id": "a466bd42-382c-473a-8d4f-1117afaa52d9",
   "metadata": {
    "execution": {
     "iopub.execute_input": "2024-02-23T12:27:59.397808Z",
     "iopub.status.busy": "2024-02-23T12:27:59.397687Z",
     "iopub.status.idle": "2024-02-23T12:27:59.402246Z",
     "shell.execute_reply": "2024-02-23T12:27:59.401921Z",
     "shell.execute_reply.started": "2024-02-23T12:27:59.397797Z"
    }
   },
   "outputs": [],
   "source": [
    "# Load data (deserialize)\n",
    "import pickle\n",
    "#with open('Latiss_tractspatchs.pickle', 'rb') as handle:\n",
    "with open('Latiss_tractspatchs_202402.pickle', 'rb') as handle:\n",
    "    tracts_patchs_dict = pickle.load(handle)"
   ]
  },
  {
   "cell_type": "code",
   "execution_count": 16,
   "id": "d716c112-aec6-40a5-9bfa-1d379327a57c",
   "metadata": {
    "execution": {
     "iopub.execute_input": "2024-02-23T12:27:59.402804Z",
     "iopub.status.busy": "2024-02-23T12:27:59.402686Z",
     "iopub.status.idle": "2024-02-23T12:27:59.406501Z",
     "shell.execute_reply": "2024-02-23T12:27:59.406180Z",
     "shell.execute_reply.started": "2024-02-23T12:27:59.402793Z"
    }
   },
   "outputs": [
    {
     "data": {
      "text/plain": [
       "{10644: array([189, 183, 184, 164, 185, 203, 201, 207, 182, 162, 166, 165, 181,\n",
       "        161, 188, 208, 180, 202]),\n",
       " 5634: array([ 90, 110,  71, 112,  73, 109,  93,  92,  91,  53,  72,  55,  52,\n",
       "        111,  54,  74]),\n",
       " 3863: array([223, 261, 241, 242, 262, 260, 243, 222, 224]),\n",
       " 452: array([41, 62, 22, 25, 23, 44, 42, 63, 43, 24]),\n",
       " 5614: array([250, 251, 230, 210, 212, 232, 211, 213, 249, 229, 231]),\n",
       " 5616: array([355, 358, 316, 338, 356, 336, 357, 337, 317, 335, 315, 334]),\n",
       " 5615: array([274, 331, 312, 332, 294, 295, 293, 313, 333, 314, 275, 276]),\n",
       " 5839: array([9, 8, 7]),\n",
       " 10643: array([190, 171]),\n",
       " 455: array([51, 52, 15, 33, 14, 53, 34, 13, 32]),\n",
       " 382: array([343, 344, 342]),\n",
       " 3864: array([274, 238, 217, 218, 273, 255, 235, 275, 237, 257, 219, 236, 256,\n",
       "        254, 276, 216]),\n",
       " 383: array([359, 360])}"
      ]
     },
     "execution_count": 16,
     "metadata": {},
     "output_type": "execute_result"
    }
   ],
   "source": [
    "tracts_patchs_dict"
   ]
  },
  {
   "cell_type": "code",
   "execution_count": 17,
   "id": "1cbd1adb-fcd4-4527-a30f-52e64ae79156",
   "metadata": {
    "execution": {
     "iopub.execute_input": "2024-02-23T12:27:59.407213Z",
     "iopub.status.busy": "2024-02-23T12:27:59.406945Z",
     "iopub.status.idle": "2024-02-23T12:27:59.411421Z",
     "shell.execute_reply": "2024-02-23T12:27:59.411085Z",
     "shell.execute_reply.started": "2024-02-23T12:27:59.407200Z"
    }
   },
   "outputs": [
    {
     "data": {
      "text/plain": [
       "[10644, 5634, 3863, 452, 5614, 5616, 5615, 5839, 10643, 455, 382, 3864, 383]"
      ]
     },
     "execution_count": 17,
     "metadata": {},
     "output_type": "execute_result"
    }
   ],
   "source": [
    "list_of_tracts = list(tracts_patchs_dict.keys())\n",
    "list_of_tracts"
   ]
  },
  {
   "cell_type": "code",
   "execution_count": 18,
   "id": "8c81ef60-4e7a-4592-9e89-6b5ab9884d57",
   "metadata": {
    "execution": {
     "iopub.execute_input": "2024-02-23T12:27:59.412173Z",
     "iopub.status.busy": "2024-02-23T12:27:59.411909Z",
     "iopub.status.idle": "2024-02-23T12:27:59.414505Z",
     "shell.execute_reply": "2024-02-23T12:27:59.414157Z",
     "shell.execute_reply.started": "2024-02-23T12:27:59.412161Z"
    }
   },
   "outputs": [
    {
     "name": "stdout",
     "output_type": "stream",
     "text": [
      "123\n"
     ]
    }
   ],
   "source": [
    "npatches = 0\n",
    "for itract in list_of_tracts:\n",
    "    npatches += len(tracts_patchs_dict[itract])\n",
    "print(npatches)    "
   ]
  },
  {
   "cell_type": "code",
   "execution_count": 19,
   "id": "151d6922-eeac-4a08-9c6c-8caf29f510ac",
   "metadata": {
    "execution": {
     "iopub.execute_input": "2024-02-23T12:27:59.416518Z",
     "iopub.status.busy": "2024-02-23T12:27:59.416382Z",
     "iopub.status.idle": "2024-02-23T12:27:59.827649Z",
     "shell.execute_reply": "2024-02-23T12:27:59.826910Z",
     "shell.execute_reply.started": "2024-02-23T12:27:59.416507Z"
    }
   },
   "outputs": [
    {
     "name": "stdout",
     "output_type": "stream",
     "text": [
      "===1===382:342==========\n",
      "[[ 12.69437584 -72.91024487]\n",
      " [ 12.4111962  -72.91379092]\n",
      " [ 12.39980658 -72.83057359]\n",
      " [ 12.6816523  -72.82704592]]\n"
     ]
    },
    {
     "ename": "TypeError",
     "evalue": "Polygon.__init__() takes 2 positional arguments but 3 were given",
     "output_type": "error",
     "traceback": [
      "\u001b[0;31m---------------------------------------------------------------------------\u001b[0m",
      "\u001b[0;31mTypeError\u001b[0m                                 Traceback (most recent call last)",
      "Cell \u001b[0;32mIn[19], line 35\u001b[0m\n\u001b[1;32m     33\u001b[0m         corners_array \u001b[38;5;241m=\u001b[39m np\u001b[38;5;241m.\u001b[39marray(corners)\n\u001b[1;32m     34\u001b[0m         \u001b[38;5;28mprint\u001b[39m(corners_array)\n\u001b[0;32m---> 35\u001b[0m         polygon \u001b[38;5;241m=\u001b[39m \u001b[43mPolygon\u001b[49m\u001b[43m(\u001b[49m\u001b[43mcorners_array\u001b[49m\u001b[43m,\u001b[49m\u001b[38;5;28;43;01mTrue\u001b[39;49;00m\u001b[43m)\u001b[49m\n\u001b[1;32m     36\u001b[0m         patches\u001b[38;5;241m.\u001b[39mappend(polygon)\n\u001b[1;32m     37\u001b[0m \u001b[38;5;28mprint\u001b[39m(numTracts)   \n",
      "\u001b[0;31mTypeError\u001b[0m: Polygon.__init__() takes 2 positional arguments but 3 were given"
     ]
    }
   ],
   "source": [
    "import numpy as np\n",
    "\n",
    "import matplotlib.pyplot as plt\n",
    "import matplotlib\n",
    "from matplotlib.patches import Polygon\n",
    "from matplotlib.collections import PatchCollection\n",
    "\n",
    "numTracts=0\n",
    "# collection of polygons\n",
    "patches = []\n",
    "all_ra = []\n",
    "all_dec = []\n",
    "for tractInfo in skymap:\n",
    "    tractID = tractInfo.getId()\n",
    "    if tractID not in list_of_tracts:\n",
    "        continue\n",
    "    numTracts+=1    \n",
    "    for patch in tractInfo:\n",
    "        patchID = patch.getSequentialIndex()\n",
    "        if patchID not in tracts_patchs_dict[tractID]:\n",
    "            continue\n",
    "        ibb=patch.getInnerBBox()\n",
    "        tWCS=tractInfo.getWcs()\n",
    "        corners = []\n",
    "        # loop on the 4 corners\n",
    "        for icorn,corner in enumerate(ibb.getCorners()):\n",
    "            p = geom.Point2D(corner.getX(), corner.getY())\n",
    "            coord = tWCS.pixelToSky(p)\n",
    "            corners.append([coord.getRa().asDegrees(), coord.getDec().asDegrees()])\n",
    "            all_ra.append(coord.getRa().asDegrees()) \n",
    "            all_dec.append(coord.getDec().asDegrees()) \n",
    "        print(f\"==={numTracts}==={tractID}:{patchID}==========\")    \n",
    "        corners_array = np.array(corners)\n",
    "        print(corners_array)\n",
    "        polygon = Polygon(corners_array,True)\n",
    "        patches.append(polygon)\n",
    "print(numTracts)   \n",
    "\n",
    "# we can see this, not my polugons ???\n",
    "#num_polygons = 5\n",
    "#num_sides = 4\n",
    "#for i in range(num_polygons):\n",
    "#    polygon = Polygon(10*(np.random.rand(num_sides ,2)-0.5), True)\n",
    "#    patches.append(polygon)\n",
    "\n",
    "\n",
    "\n",
    "fig, ax = plt.subplots(figsize=(12,12))\n",
    "p = PatchCollection(patches, cmap=mpl.cm.jet, alpha=0.4)\n",
    "\n",
    "colors = 100*np.random.rand(len(patches))\n",
    "p.set_array(np.array(colors))\n",
    "#p.set_clim([5, 50])\n",
    "ax.add_collection(p)  \n",
    "fig.colorbar(p)\n",
    "\n",
    "ax.set_xlim([0., 60.])\n",
    "ax.set_ylim([-90, -30.])\n",
    "fig.show()"
   ]
  },
  {
   "cell_type": "code",
   "execution_count": null,
   "id": "2c7b7d23-9224-4e6d-9b1f-86c52eea76ab",
   "metadata": {
    "execution": {
     "iopub.status.busy": "2024-02-23T12:27:59.828147Z",
     "iopub.status.idle": "2024-02-23T12:27:59.828314Z",
     "shell.execute_reply": "2024-02-23T12:27:59.828236Z",
     "shell.execute_reply.started": "2024-02-23T12:27:59.828228Z"
    }
   },
   "outputs": [],
   "source": [
    "all_ra = np.array(all_ra)\n",
    "all_dec = np.array(all_dec)"
   ]
  },
  {
   "cell_type": "code",
   "execution_count": null,
   "id": "41c2e51a-6a0b-44c3-a162-f9719f318c81",
   "metadata": {
    "execution": {
     "iopub.status.busy": "2024-02-23T12:27:59.828919Z",
     "iopub.status.idle": "2024-02-23T12:27:59.829075Z",
     "shell.execute_reply": "2024-02-23T12:27:59.829002Z",
     "shell.execute_reply.started": "2024-02-23T12:27:59.828996Z"
    }
   },
   "outputs": [],
   "source": [
    "fig, ax = plt.subplots(figsize=(12,12))\n",
    "p = PatchCollection(patches, cmap=mpl.cm.jet, alpha=0.4)\n",
    "\n",
    "colors = 50*np.random.rand(len(patches))\n",
    "p.set_array(np.array(colors))\n",
    "p.set_clim([5, 50])\n",
    "ax.add_collection(p)  \n",
    "\n",
    "\n",
    "#ax.set_xlim([0., 360.])\n",
    "#ax.set_ylim([-90, 10.])\n",
    "plt.show()"
   ]
  },
  {
   "cell_type": "code",
   "execution_count": null,
   "id": "6b89c386-77fa-4a8e-b41c-632da74e1136",
   "metadata": {
    "execution": {
     "iopub.status.busy": "2024-02-23T12:27:59.829703Z",
     "iopub.status.idle": "2024-02-23T12:27:59.829967Z",
     "shell.execute_reply": "2024-02-23T12:27:59.829885Z",
     "shell.execute_reply.started": "2024-02-23T12:27:59.829877Z"
    }
   },
   "outputs": [],
   "source": [
    "import numpy as np\n",
    "\n",
    "import matplotlib.pyplot as plt\n",
    "import matplotlib\n",
    "from matplotlib.patches import Polygon\n",
    "from matplotlib.collections import PatchCollection\n",
    "\n",
    "fig, ax = plt.subplots()\n",
    "patches = []\n",
    "num_polygons = 5\n",
    "num_sides = 4\n",
    "\n",
    "for i in range(num_polygons):\n",
    "    polygon = Polygon(10*np.random.rand(num_sides ,2), True)\n",
    "    patches.append(polygon)\n",
    "\n",
    "p = PatchCollection(patches, cmap=matplotlib.cm.jet, alpha=0.4)\n",
    "\n",
    "colors = 100*np.random.rand(len(patches))\n",
    "p.set_array(np.array(colors))\n",
    "\n",
    "ax.add_collection(p)\n",
    "\n",
    "ax.set_xlim([0., 10.])\n",
    "ax.set_ylim([0., 10.])\n",
    "\n",
    "plt.show()"
   ]
  },
  {
   "cell_type": "code",
   "execution_count": null,
   "id": "5f788476-5baf-4b69-bfda-e61e07b21467",
   "metadata": {},
   "outputs": [],
   "source": []
  }
 ],
 "metadata": {
  "kernelspec": {
   "display_name": "LSST",
   "language": "python",
   "name": "lsst"
  },
  "language_info": {
   "codemirror_mode": {
    "name": "ipython",
    "version": 3
   },
   "file_extension": ".py",
   "mimetype": "text/x-python",
   "name": "python",
   "nbconvert_exporter": "python",
   "pygments_lexer": "ipython3",
   "version": "3.11.7"
  }
 },
 "nbformat": 4,
 "nbformat_minor": 5
}
