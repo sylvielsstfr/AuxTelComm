{
 "cells": [
  {
   "cell_type": "markdown",
   "id": "0b8c2138-5194-4d03-8b77-be24e2cc8ee3",
   "metadata": {},
   "source": [
    "# Plot Tracts and Patches"
   ]
  },
  {
   "cell_type": "markdown",
   "id": "740e34fb-3fef-45a8-941b-c229742ab016",
   "metadata": {},
   "source": [
    " work with Weakly_2023_44\n",
    "- use jupyter kernel LSST\n",
    "\n",
    "\n",
    "- author : Sylvie Dagoret-Campagne\n",
    "- affiliation : IJCLab\n",
    "- creation date : 2023/12/22\n",
    "- update : 2023/12/22\n"
   ]
  },
  {
   "cell_type": "code",
   "execution_count": 1,
   "id": "ed2c3410-fe83-432e-ab87-9f4513fa8d8b",
   "metadata": {
    "execution": {
     "iopub.execute_input": "2024-01-12T22:44:36.754658Z",
     "iopub.status.busy": "2024-01-12T22:44:36.754536Z",
     "iopub.status.idle": "2024-01-12T22:44:37.102039Z",
     "shell.execute_reply": "2024-01-12T22:44:37.101627Z",
     "shell.execute_reply.started": "2024-01-12T22:44:36.754645Z"
    }
   },
   "outputs": [
    {
     "name": "stdout",
     "output_type": "stream",
     "text": [
      "analysis_tools        LOCAL:/home/d/dagoret/repos/repos_w_2023_44/analysis_tools \tsetup\n",
      "atmospec              LOCAL:/home/d/dagoret/repos/repos_w_2023_44/atmospec \tsetup\n",
      "eups                  LOCAL:/opt/lsst/software/stack/conda/miniconda3-py38_4.9.2/envs/lsst-scipipe-7.0.1/eups \tsetup\n",
      "spectractor           LOCAL:/home/d/dagoret/repos/repos_w_2023_44/Spectractor \tsetup\n"
     ]
    }
   ],
   "source": [
    "! eups list -s | grep LOCAL"
   ]
  },
  {
   "cell_type": "code",
   "execution_count": 2,
   "id": "70918d81-0cf6-4b0a-8f61-f5e5bec5b0e7",
   "metadata": {
    "execution": {
     "iopub.execute_input": "2024-01-12T22:44:37.103080Z",
     "iopub.status.busy": "2024-01-12T22:44:37.102933Z",
     "iopub.status.idle": "2024-01-12T22:44:37.437488Z",
     "shell.execute_reply": "2024-01-12T22:44:37.436873Z",
     "shell.execute_reply.started": "2024-01-12T22:44:37.103056Z"
    }
   },
   "outputs": [
    {
     "name": "stdout",
     "output_type": "stream",
     "text": [
      "   g4213664e8e+d053631def \tcurrent w_2023_44 setup\n"
     ]
    }
   ],
   "source": [
    "! eups list -s lsst_distrib"
   ]
  },
  {
   "cell_type": "code",
   "execution_count": 3,
   "id": "ce6aa72f-2f5d-4b84-b76a-e5afc7828e07",
   "metadata": {
    "execution": {
     "iopub.execute_input": "2024-01-12T22:44:37.438377Z",
     "iopub.status.busy": "2024-01-12T22:44:37.438233Z",
     "iopub.status.idle": "2024-01-12T22:44:38.126350Z",
     "shell.execute_reply": "2024-01-12T22:44:38.125860Z",
     "shell.execute_reply.started": "2024-01-12T22:44:37.438360Z"
    }
   },
   "outputs": [],
   "source": [
    "# general python packages\n",
    "import numpy as np\n",
    "import matplotlib.pyplot as plt\n",
    "import matplotlib as mpl\n",
    "from astropy.visualization import ZScaleInterval, LinearStretch, ImageNormalize\n",
    "\n",
    "\n",
    "from matplotlib.patches import Polygon\n",
    "from matplotlib.collections import PatchCollection\n",
    "\n",
    "# LSST packages\n",
    "from lsst.daf.butler import Butler\n",
    "import lsst.geom as geom\n",
    "\n",
    "# allow interactive plots\n",
    "#%matplotlib widget\n",
    "%matplotlib inline\n",
    "\n",
    "# default plot style is accessible\n",
    "plt.style.use('tableau-colorblind10')"
   ]
  },
  {
   "cell_type": "code",
   "execution_count": 4,
   "id": "588c0e0d-fae8-46c3-a258-a64ef076445b",
   "metadata": {
    "execution": {
     "iopub.execute_input": "2024-01-12T22:44:38.127169Z",
     "iopub.status.busy": "2024-01-12T22:44:38.126988Z",
     "iopub.status.idle": "2024-01-12T22:44:40.879389Z",
     "shell.execute_reply": "2024-01-12T22:44:40.878954Z",
     "shell.execute_reply.started": "2024-01-12T22:44:38.127155Z"
    }
   },
   "outputs": [],
   "source": [
    "# A repo which exists at the USDF, contains data from various instruments and\n",
    "REPO = '/repo/embargo'\n",
    "\n",
    "from lsst.daf.butler import Butler\n",
    "from pprint import pprint\n",
    "\n",
    "# Here we specify a default collection to use\n",
    "my_collection = \"LATISS/runs/AUXTEL_DRP_IMAGING_2023-11A-10A-09AB-08ABC-07AB-05AB/w_2023_46/PREOPS-4553\"\n",
    "butler = Butler(REPO, collections=my_collection)\n",
    "registry = butler.registry"
   ]
  },
  {
   "cell_type": "code",
   "execution_count": 5,
   "id": "b02a978f-a95f-40c7-b9dc-920c576db844",
   "metadata": {
    "execution": {
     "iopub.execute_input": "2024-01-12T22:44:40.880633Z",
     "iopub.status.busy": "2024-01-12T22:44:40.880493Z",
     "iopub.status.idle": "2024-01-12T22:44:40.906025Z",
     "shell.execute_reply": "2024-01-12T22:44:40.905664Z",
     "shell.execute_reply.started": "2024-01-12T22:44:40.880619Z"
    }
   },
   "outputs": [
    {
     "data": {
      "text/plain": [
       "[detector.RecordClass(instrument='LATISS', id=0, full_name='RXX_S00', name_in_raft='RXX_S00', raft=None, purpose='SCIENCE')]"
      ]
     },
     "execution_count": 5,
     "metadata": {},
     "output_type": "execute_result"
    }
   ],
   "source": [
    "list(butler.registry.queryDimensionRecords('detector', where=\"instrument='LATISS' AND detector.id IN (0..8)\"))"
   ]
  },
  {
   "cell_type": "markdown",
   "id": "9e212fa7-8be2-4874-b534-9d6e0918fa74",
   "metadata": {},
   "source": [
    "### access to skymap\n",
    "\n",
    "https://github.com/sylvielsstfr/MyDP0LSS/blob/main/myDP0.2/TrackAndPatch/PlotTractAndPatchs_butler.ipynb"
   ]
  },
  {
   "cell_type": "code",
   "execution_count": 6,
   "id": "62e69b18-d122-488b-9f62-3fc5e2342279",
   "metadata": {
    "execution": {
     "iopub.execute_input": "2024-01-12T22:44:40.906730Z",
     "iopub.status.busy": "2024-01-12T22:44:40.906600Z",
     "iopub.status.idle": "2024-01-12T22:44:40.909698Z",
     "shell.execute_reply": "2024-01-12T22:44:40.909336Z",
     "shell.execute_reply.started": "2024-01-12T22:44:40.906718Z"
    }
   },
   "outputs": [],
   "source": [
    "def get_corners_radec(wcs, bbox):\n",
    "    \"\"\"\n",
    "    Return the corners in RA,Dec in degrees given the WCS and bounding box for an image.\n",
    "\n",
    "    Parameters\n",
    "    ----------\n",
    "    wcs: image WCS returned by the Butler\n",
    "    bbox: bounding box returned by the Butler\n",
    "\n",
    "    Returns\n",
    "    -------\n",
    "    corners_ra, corners_dec in decimal degrees\n",
    "    \"\"\"\n",
    "\n",
    "    corners_x = [bbox.beginX, bbox.beginX, bbox.endX, bbox.endX]\n",
    "    corners_y = [bbox.beginY, bbox.endY, bbox.endY, bbox.beginY]\n",
    "    corners_ra = []\n",
    "    corners_dec = []\n",
    "    for i in range(4):\n",
    "        radec = wcs.pixelToSky(corners_x[i], corners_y[i])\n",
    "        corners_ra.append(radec.getRa().asDegrees())\n",
    "        corners_dec.append(radec.getDec().asDegrees())\n",
    "    \n",
    "    return corners_ra, corners_dec"
   ]
  },
  {
   "cell_type": "markdown",
   "id": "a7587b10-c178-4537-9c34-60867b69fa01",
   "metadata": {},
   "source": [
    "## Config"
   ]
  },
  {
   "cell_type": "code",
   "execution_count": 7,
   "id": "c2bca87f-8b3a-44ee-afa5-5b8e0b8f9b9d",
   "metadata": {
    "execution": {
     "iopub.execute_input": "2024-01-12T22:44:40.910414Z",
     "iopub.status.busy": "2024-01-12T22:44:40.910279Z",
     "iopub.status.idle": "2024-01-12T22:44:40.928182Z",
     "shell.execute_reply": "2024-01-12T22:44:40.927805Z",
     "shell.execute_reply.started": "2024-01-12T22:44:40.910402Z"
    },
    "tags": []
   },
   "outputs": [],
   "source": [
    "datasetRefs = butler.registry.queryDatasets(datasetType='skyMap', collections=my_collection, where= \"instrument='LATISS'\")"
   ]
  },
  {
   "cell_type": "code",
   "execution_count": 8,
   "id": "70cc3c91-c505-48aa-aec2-f1f8b342b127",
   "metadata": {
    "execution": {
     "iopub.execute_input": "2024-01-12T22:44:40.928743Z",
     "iopub.status.busy": "2024-01-12T22:44:40.928625Z",
     "iopub.status.idle": "2024-01-12T22:44:40.936560Z",
     "shell.execute_reply": "2024-01-12T22:44:40.936185Z",
     "shell.execute_reply.started": "2024-01-12T22:44:40.928731Z"
    }
   },
   "outputs": [
    {
     "name": "stdout",
     "output_type": "stream",
     "text": [
      "DatasetRef(DatasetType('skyMap', {skymap}, SkyMap), {skymap: 'hsc_rings_v1'}, run='skymaps', id=6e7fc928-0dc3-4e1b-ae63-5fb63be46216)\n",
      "DatasetRef(DatasetType('skyMap', {skymap}, SkyMap), {skymap: 'latiss_v1'}, run='skymaps', id=f677ff86-2b1c-4094-9dad-e39395052cd1)\n",
      "DatasetRef(DatasetType('skyMap', {skymap}, SkyMap), {skymap: 'lsst_cells_v1'}, run='skymaps', id=857e0e80-8d08-44f4-a81b-84227b064d5b)\n"
     ]
    }
   ],
   "source": [
    "for i, ref in enumerate(datasetRefs):\n",
    "    pprint(ref)\n",
    "    skymap_id = ref.dataId[\"skymap\"]\n",
    "    if skymap_id ==  'latiss_v1':\n",
    "        skymap = ref"
   ]
  },
  {
   "cell_type": "code",
   "execution_count": 9,
   "id": "0e749eb3-5a4c-430f-9547-148ffb974b4b",
   "metadata": {
    "execution": {
     "iopub.execute_input": "2024-01-12T22:44:40.937213Z",
     "iopub.status.busy": "2024-01-12T22:44:40.937096Z",
     "iopub.status.idle": "2024-01-12T22:44:41.088528Z",
     "shell.execute_reply": "2024-01-12T22:44:41.088108Z",
     "shell.execute_reply.started": "2024-01-12T22:44:40.937202Z"
    }
   },
   "outputs": [],
   "source": [
    "skymap = butler.get(ref)"
   ]
  },
  {
   "cell_type": "code",
   "execution_count": 10,
   "id": "5b00dd9c-d87b-4c0e-9811-4cdbb06f6d76",
   "metadata": {
    "execution": {
     "iopub.execute_input": "2024-01-12T22:44:41.089352Z",
     "iopub.status.busy": "2024-01-12T22:44:41.089066Z",
     "iopub.status.idle": "2024-01-12T22:44:41.091666Z",
     "shell.execute_reply": "2024-01-12T22:44:41.091287Z",
     "shell.execute_reply.started": "2024-01-12T22:44:41.089339Z"
    }
   },
   "outputs": [],
   "source": [
    "my_tracts = [ 5616,5634,5615,10644,383,8188,3863,455,452,5839,10643,382]"
   ]
  },
  {
   "cell_type": "code",
   "execution_count": 11,
   "id": "a88df013-ca76-4aa3-b47f-e1e0537979ca",
   "metadata": {
    "execution": {
     "iopub.execute_input": "2024-01-12T22:44:41.092287Z",
     "iopub.status.busy": "2024-01-12T22:44:41.092168Z",
     "iopub.status.idle": "2024-01-12T22:44:41.133145Z",
     "shell.execute_reply": "2024-01-12T22:44:41.132775Z",
     "shell.execute_reply.started": "2024-01-12T22:44:41.092276Z"
    }
   },
   "outputs": [],
   "source": [
    "#from lsst.daf.butler import Butler\n",
    "#butler = Butler('SMALL_HSC')\n",
    "skymap = butler.get('skyMap', skymap='latiss_v1', collections=my_collection)\n",
    "tractInfo = skymap.generateTract(5616)\n",
    "#patch = tractInfo[41]\n",
    "#patch.getIndex()"
   ]
  },
  {
   "cell_type": "code",
   "execution_count": 13,
   "id": "5413fcd3-aeea-4032-9f9c-acde6f475b09",
   "metadata": {
    "execution": {
     "iopub.execute_input": "2024-01-12T22:46:14.370271Z",
     "iopub.status.busy": "2024-01-12T22:46:14.369967Z",
     "iopub.status.idle": "2024-01-12T22:46:14.373732Z",
     "shell.execute_reply": "2024-01-12T22:46:14.373358Z",
     "shell.execute_reply.started": "2024-01-12T22:46:14.370255Z"
    }
   },
   "outputs": [
    {
     "data": {
      "text/plain": [
       "\u001b[0;31mSignature:\u001b[0m \u001b[0mskymap\u001b[0m\u001b[0;34m.\u001b[0m\u001b[0mgenerateTract\u001b[0m\u001b[0;34m(\u001b[0m\u001b[0mindex\u001b[0m\u001b[0;34m)\u001b[0m\u001b[0;34m\u001b[0m\u001b[0;34m\u001b[0m\u001b[0m\n",
       "\u001b[0;31mDocstring:\u001b[0m Generate TractInfo for the specified tract index.\n",
       "\u001b[0;31mFile:\u001b[0m      /opt/lsst/software/stack/stack/miniconda3-py38_4.9.2-7.0.1/Linux64/skymap/g3a3843c330+845d368b72/python/lsst/skymap/ringsSkyMap.py\n",
       "\u001b[0;31mType:\u001b[0m      method"
      ]
     },
     "metadata": {},
     "output_type": "display_data"
    }
   ],
   "source": [
    "skymap.generateTract?"
   ]
  },
  {
   "cell_type": "code",
   "execution_count": null,
   "id": "171b4069-bd2e-4d58-bf66-2b56a85a6235",
   "metadata": {
    "execution": {
     "iopub.status.busy": "2024-01-12T22:44:41.435625Z",
     "iopub.status.idle": "2024-01-12T22:44:41.435800Z",
     "shell.execute_reply": "2024-01-12T22:44:41.435717Z",
     "shell.execute_reply.started": "2024-01-12T22:44:41.435708Z"
    }
   },
   "outputs": [],
   "source": [
    "assert False"
   ]
  },
  {
   "cell_type": "code",
   "execution_count": null,
   "id": "cb8af27c-ce92-464d-b17d-c8b7135e4ad0",
   "metadata": {
    "execution": {
     "iopub.status.busy": "2024-01-12T22:44:41.436202Z",
     "iopub.status.idle": "2024-01-12T22:44:41.436347Z",
     "shell.execute_reply": "2024-01-12T22:44:41.436281Z",
     "shell.execute_reply.started": "2024-01-12T22:44:41.436273Z"
    }
   },
   "outputs": [],
   "source": [
    "#for patch in tractInfo:\n",
    "#    print(patch.getSequentialIndex())"
   ]
  },
  {
   "cell_type": "code",
   "execution_count": null,
   "id": "fefb1d40-b6dc-40bb-9037-7ae7898b797f",
   "metadata": {
    "execution": {
     "iopub.status.busy": "2024-01-12T22:44:41.436837Z",
     "iopub.status.idle": "2024-01-12T22:44:41.436992Z",
     "shell.execute_reply": "2024-01-12T22:44:41.436913Z",
     "shell.execute_reply.started": "2024-01-12T22:44:41.436906Z"
    }
   },
   "outputs": [],
   "source": [
    "patch.getSequentialIndex?"
   ]
  },
  {
   "cell_type": "code",
   "execution_count": null,
   "id": "a466bd42-382c-473a-8d4f-1117afaa52d9",
   "metadata": {
    "execution": {
     "iopub.status.busy": "2024-01-12T22:44:41.437417Z",
     "iopub.status.idle": "2024-01-12T22:44:41.437565Z",
     "shell.execute_reply": "2024-01-12T22:44:41.437496Z",
     "shell.execute_reply.started": "2024-01-12T22:44:41.437489Z"
    }
   },
   "outputs": [],
   "source": [
    "# Load data (deserialize)\n",
    "import pickle\n",
    "with open('Latiss_tractspatchs.pickle', 'rb') as handle:\n",
    "    tracts_patchs_dict = pickle.load(handle)"
   ]
  },
  {
   "cell_type": "code",
   "execution_count": null,
   "id": "d716c112-aec6-40a5-9bfa-1d379327a57c",
   "metadata": {
    "execution": {
     "iopub.status.busy": "2024-01-12T22:44:41.438080Z",
     "iopub.status.idle": "2024-01-12T22:44:41.438228Z",
     "shell.execute_reply": "2024-01-12T22:44:41.438157Z",
     "shell.execute_reply.started": "2024-01-12T22:44:41.438149Z"
    }
   },
   "outputs": [],
   "source": [
    "tracts_patchs_dict"
   ]
  },
  {
   "cell_type": "code",
   "execution_count": null,
   "id": "1cbd1adb-fcd4-4527-a30f-52e64ae79156",
   "metadata": {
    "execution": {
     "iopub.status.busy": "2024-01-12T22:44:41.438614Z",
     "iopub.status.idle": "2024-01-12T22:44:41.438758Z",
     "shell.execute_reply": "2024-01-12T22:44:41.438692Z",
     "shell.execute_reply.started": "2024-01-12T22:44:41.438684Z"
    }
   },
   "outputs": [],
   "source": [
    "list_of_tracts = list(tracts_patchs_dict.keys())\n",
    "list_of_tracts"
   ]
  },
  {
   "cell_type": "code",
   "execution_count": null,
   "id": "8c81ef60-4e7a-4592-9e89-6b5ab9884d57",
   "metadata": {
    "execution": {
     "iopub.status.busy": "2024-01-12T22:44:41.439302Z",
     "iopub.status.idle": "2024-01-12T22:44:41.439450Z",
     "shell.execute_reply": "2024-01-12T22:44:41.439380Z",
     "shell.execute_reply.started": "2024-01-12T22:44:41.439373Z"
    }
   },
   "outputs": [],
   "source": [
    "npatches = 0\n",
    "for itract in list_of_tracts:\n",
    "    npatches += len(tracts_patchs_dict[itract])\n",
    "print(npatches)    "
   ]
  },
  {
   "cell_type": "code",
   "execution_count": null,
   "id": "151d6922-eeac-4a08-9c6c-8caf29f510ac",
   "metadata": {
    "execution": {
     "iopub.status.busy": "2024-01-12T22:44:41.439858Z",
     "iopub.status.idle": "2024-01-12T22:44:41.440012Z",
     "shell.execute_reply": "2024-01-12T22:44:41.439944Z",
     "shell.execute_reply.started": "2024-01-12T22:44:41.439937Z"
    }
   },
   "outputs": [],
   "source": [
    "import numpy as np\n",
    "\n",
    "import matplotlib.pyplot as plt\n",
    "import matplotlib\n",
    "from matplotlib.patches import Polygon\n",
    "from matplotlib.collections import PatchCollection\n",
    "\n",
    "numTracts=0\n",
    "# collection of polygons\n",
    "patches = []\n",
    "all_ra = []\n",
    "all_dec = []\n",
    "for tractInfo in skymap:\n",
    "    tractID = tractInfo.getId()\n",
    "    if tractID not in list_of_tracts:\n",
    "        continue\n",
    "    numTracts+=1    \n",
    "    for patch in tractInfo:\n",
    "        patchID = patch.getSequentialIndex()\n",
    "        if patchID not in tracts_patchs_dict[tractID]:\n",
    "            continue\n",
    "        ibb=patch.getInnerBBox()\n",
    "        tWCS=tractInfo.getWcs()\n",
    "        corners = []\n",
    "        # loop on the 4 corners\n",
    "        for icorn,corner in enumerate(ibb.getCorners()):\n",
    "            p = geom.Point2D(corner.getX(), corner.getY())\n",
    "            coord = tWCS.pixelToSky(p)\n",
    "            corners.append([coord.getRa().asDegrees(), coord.getDec().asDegrees()])\n",
    "            all_ra.append(coord.getRa().asDegrees()) \n",
    "            all_dec.append(coord.getDec().asDegrees()) \n",
    "        print(f\"==={numTracts}==={tractID}:{patchID}==========\")    \n",
    "        corners_array = np.array(corners)\n",
    "        print(corners_array)\n",
    "        polygon = Polygon(corners_array,True)\n",
    "        patches.append(polygon)\n",
    "print(numTracts)   \n",
    "\n",
    "# we can see this, not my polugons ???\n",
    "#num_polygons = 5\n",
    "#num_sides = 4\n",
    "#for i in range(num_polygons):\n",
    "#    polygon = Polygon(10*(np.random.rand(num_sides ,2)-0.5), True)\n",
    "#    patches.append(polygon)\n",
    "\n",
    "\n",
    "\n",
    "fig, ax = plt.subplots(figsize=(12,12))\n",
    "p = PatchCollection(patches, cmap=mpl.cm.jet, alpha=0.4)\n",
    "\n",
    "colors = 100*np.random.rand(len(patches))\n",
    "p.set_array(np.array(colors))\n",
    "#p.set_clim([5, 50])\n",
    "ax.add_collection(p)  \n",
    "fig.colorbar(p)\n",
    "\n",
    "ax.set_xlim([0., 60.])\n",
    "ax.set_ylim([-90, -30.])\n",
    "fig.show()"
   ]
  },
  {
   "cell_type": "code",
   "execution_count": null,
   "id": "2c7b7d23-9224-4e6d-9b1f-86c52eea76ab",
   "metadata": {
    "execution": {
     "iopub.status.busy": "2024-01-12T22:44:41.440508Z",
     "iopub.status.idle": "2024-01-12T22:44:41.440654Z",
     "shell.execute_reply": "2024-01-12T22:44:41.440583Z",
     "shell.execute_reply.started": "2024-01-12T22:44:41.440576Z"
    }
   },
   "outputs": [],
   "source": [
    "all_ra = np.array(all_ra)\n",
    "all_dec = np.array(all_dec)"
   ]
  },
  {
   "cell_type": "code",
   "execution_count": null,
   "id": "41c2e51a-6a0b-44c3-a162-f9719f318c81",
   "metadata": {
    "execution": {
     "iopub.status.busy": "2024-01-12T22:44:41.441173Z",
     "iopub.status.idle": "2024-01-12T22:44:41.441319Z",
     "shell.execute_reply": "2024-01-12T22:44:41.441249Z",
     "shell.execute_reply.started": "2024-01-12T22:44:41.441242Z"
    }
   },
   "outputs": [],
   "source": [
    "fig, ax = plt.subplots(figsize=(12,12))\n",
    "p = PatchCollection(patches, cmap=mpl.cm.jet, alpha=0.4)\n",
    "\n",
    "colors = 50*np.random.rand(len(patches))\n",
    "p.set_array(np.array(colors))\n",
    "p.set_clim([5, 50])\n",
    "ax.add_collection(p)  \n",
    "\n",
    "\n",
    "#ax.set_xlim([0., 360.])\n",
    "#ax.set_ylim([-90, 10.])\n",
    "plt.show()"
   ]
  },
  {
   "cell_type": "code",
   "execution_count": null,
   "id": "6b89c386-77fa-4a8e-b41c-632da74e1136",
   "metadata": {
    "execution": {
     "iopub.status.busy": "2024-01-12T22:44:41.441731Z",
     "iopub.status.idle": "2024-01-12T22:44:41.441870Z",
     "shell.execute_reply": "2024-01-12T22:44:41.441805Z",
     "shell.execute_reply.started": "2024-01-12T22:44:41.441799Z"
    }
   },
   "outputs": [],
   "source": [
    "import numpy as np\n",
    "\n",
    "import matplotlib.pyplot as plt\n",
    "import matplotlib\n",
    "from matplotlib.patches import Polygon\n",
    "from matplotlib.collections import PatchCollection\n",
    "\n",
    "fig, ax = plt.subplots()\n",
    "patches = []\n",
    "num_polygons = 5\n",
    "num_sides = 4\n",
    "\n",
    "for i in range(num_polygons):\n",
    "    polygon = Polygon(10*np.random.rand(num_sides ,2), True)\n",
    "    patches.append(polygon)\n",
    "\n",
    "p = PatchCollection(patches, cmap=matplotlib.cm.jet, alpha=0.4)\n",
    "\n",
    "colors = 100*np.random.rand(len(patches))\n",
    "p.set_array(np.array(colors))\n",
    "\n",
    "ax.add_collection(p)\n",
    "\n",
    "ax.set_xlim([0., 10.])\n",
    "ax.set_ylim([0., 10.])\n",
    "\n",
    "plt.show()"
   ]
  },
  {
   "cell_type": "code",
   "execution_count": null,
   "id": "5f788476-5baf-4b69-bfda-e61e07b21467",
   "metadata": {},
   "outputs": [],
   "source": []
  }
 ],
 "metadata": {
  "kernelspec": {
   "display_name": "LSST",
   "language": "python",
   "name": "lsst"
  },
  "language_info": {
   "codemirror_mode": {
    "name": "ipython",
    "version": 3
   },
   "file_extension": ".py",
   "mimetype": "text/x-python",
   "name": "python",
   "nbconvert_exporter": "python",
   "pygments_lexer": "ipython3",
   "version": "3.11.4"
  }
 },
 "nbformat": 4,
 "nbformat_minor": 5
}
