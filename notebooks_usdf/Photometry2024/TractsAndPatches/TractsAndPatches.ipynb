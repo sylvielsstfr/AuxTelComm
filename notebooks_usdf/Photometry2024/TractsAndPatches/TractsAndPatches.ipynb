{
 "cells": [
  {
   "cell_type": "markdown",
   "id": "0b8c2138-5194-4d03-8b77-be24e2cc8ee3",
   "metadata": {},
   "source": [
    "# Extract ObjectTables Results in  OGA"
   ]
  },
  {
   "cell_type": "markdown",
   "id": "740e34fb-3fef-45a8-941b-c229742ab016",
   "metadata": {},
   "source": [
    " work with Weakly_2023_44\n",
    "- use jupyter kernel LSST\n",
    "\n",
    "\n",
    "- author : Sylvie Dagoret-Campagne\n",
    "- affiliation : IJCLab\n",
    "- creation date : 2023/12/21\n",
    "- update : 2023/12/21\n"
   ]
  },
  {
   "cell_type": "code",
   "execution_count": 1,
   "id": "ed2c3410-fe83-432e-ab87-9f4513fa8d8b",
   "metadata": {
    "execution": {
     "iopub.execute_input": "2023-12-22T08:23:51.042872Z",
     "iopub.status.busy": "2023-12-22T08:23:51.042752Z",
     "iopub.status.idle": "2023-12-22T08:23:51.391604Z",
     "shell.execute_reply": "2023-12-22T08:23:51.391001Z",
     "shell.execute_reply.started": "2023-12-22T08:23:51.042858Z"
    }
   },
   "outputs": [
    {
     "name": "stdout",
     "output_type": "stream",
     "text": [
      "analysis_tools        LOCAL:/home/d/dagoret/repos/repos_w_2023_44/analysis_tools \tsetup\n",
      "atmospec              LOCAL:/home/d/dagoret/repos/repos_w_2023_44/atmospec \tsetup\n",
      "eups                  LOCAL:/opt/lsst/software/stack/conda/miniconda3-py38_4.9.2/envs/lsst-scipipe-7.0.1/eups \tsetup\n",
      "spectractor           LOCAL:/home/d/dagoret/repos/repos_w_2023_44/Spectractor \tsetup\n"
     ]
    }
   ],
   "source": [
    "! eups list -s | grep LOCAL"
   ]
  },
  {
   "cell_type": "code",
   "execution_count": 2,
   "id": "70918d81-0cf6-4b0a-8f61-f5e5bec5b0e7",
   "metadata": {
    "execution": {
     "iopub.execute_input": "2023-12-22T08:23:51.392792Z",
     "iopub.status.busy": "2023-12-22T08:23:51.392646Z",
     "iopub.status.idle": "2023-12-22T08:23:51.727420Z",
     "shell.execute_reply": "2023-12-22T08:23:51.726824Z",
     "shell.execute_reply.started": "2023-12-22T08:23:51.392775Z"
    }
   },
   "outputs": [
    {
     "name": "stdout",
     "output_type": "stream",
     "text": [
      "   g4213664e8e+d053631def \tcurrent w_2023_44 setup\n"
     ]
    }
   ],
   "source": [
    "! eups list -s lsst_distrib"
   ]
  },
  {
   "cell_type": "code",
   "execution_count": 3,
   "id": "ce6aa72f-2f5d-4b84-b76a-e5afc7828e07",
   "metadata": {
    "execution": {
     "iopub.execute_input": "2023-12-22T08:23:51.728628Z",
     "iopub.status.busy": "2023-12-22T08:23:51.728206Z",
     "iopub.status.idle": "2023-12-22T08:23:52.425019Z",
     "shell.execute_reply": "2023-12-22T08:23:52.424539Z",
     "shell.execute_reply.started": "2023-12-22T08:23:51.728609Z"
    }
   },
   "outputs": [],
   "source": [
    "# general python packages\n",
    "import numpy as np\n",
    "import matplotlib.pyplot as plt\n",
    "import matplotlib as mpl\n",
    "from astropy.visualization import ZScaleInterval, LinearStretch, ImageNormalize\n",
    "\n",
    "\n",
    "from matplotlib.patches import Polygon\n",
    "from matplotlib.collections import PatchCollection\n",
    "\n",
    "# LSST packages\n",
    "from lsst.daf.butler import Butler\n",
    "import lsst.geom as geom\n",
    "\n",
    "# allow interactive plots\n",
    "#%matplotlib widget\n",
    "%matplotlib inline\n",
    "\n",
    "# default plot style is accessible\n",
    "plt.style.use('tableau-colorblind10')"
   ]
  },
  {
   "cell_type": "code",
   "execution_count": 4,
   "id": "588c0e0d-fae8-46c3-a258-a64ef076445b",
   "metadata": {
    "execution": {
     "iopub.execute_input": "2023-12-22T08:23:52.425739Z",
     "iopub.status.busy": "2023-12-22T08:23:52.425605Z",
     "iopub.status.idle": "2023-12-22T08:23:55.053615Z",
     "shell.execute_reply": "2023-12-22T08:23:55.053162Z",
     "shell.execute_reply.started": "2023-12-22T08:23:52.425726Z"
    }
   },
   "outputs": [],
   "source": [
    "# A repo which exists at the USDF, contains data from various instruments and\n",
    "REPO = '/repo/embargo'\n",
    "\n",
    "from lsst.daf.butler import Butler\n",
    "from pprint import pprint\n",
    "\n",
    "# Here we specify a default collection to use\n",
    "my_collection = \"LATISS/runs/AUXTEL_DRP_IMAGING_2023-11A-10A-09AB-08ABC-07AB-05AB/w_2023_46/PREOPS-4553\"\n",
    "butler = Butler(REPO, collections=my_collection)\n",
    "registry = butler.registry"
   ]
  },
  {
   "cell_type": "markdown",
   "id": "9e212fa7-8be2-4874-b534-9d6e0918fa74",
   "metadata": {},
   "source": [
    "### access to skymap\n",
    "\n",
    "https://github.com/sylvielsstfr/MyDP0LSS/blob/main/myDP0.2/TrackAndPatch/PlotTractAndPatchs_butler.ipynb"
   ]
  },
  {
   "cell_type": "markdown",
   "id": "a7587b10-c178-4537-9c34-60867b69fa01",
   "metadata": {},
   "source": [
    "## Config"
   ]
  },
  {
   "cell_type": "code",
   "execution_count": 5,
   "id": "c2bca87f-8b3a-44ee-afa5-5b8e0b8f9b9d",
   "metadata": {
    "execution": {
     "iopub.execute_input": "2023-12-22T08:23:55.054798Z",
     "iopub.status.busy": "2023-12-22T08:23:55.054664Z",
     "iopub.status.idle": "2023-12-22T08:23:55.074763Z",
     "shell.execute_reply": "2023-12-22T08:23:55.074452Z",
     "shell.execute_reply.started": "2023-12-22T08:23:55.054784Z"
    },
    "tags": []
   },
   "outputs": [],
   "source": [
    "datasetRefs = butler.registry.queryDatasets(datasetType='skyMap', collections=my_collection, where= \"instrument='LATISS'\")"
   ]
  },
  {
   "cell_type": "code",
   "execution_count": 6,
   "id": "70cc3c91-c505-48aa-aec2-f1f8b342b127",
   "metadata": {
    "execution": {
     "iopub.execute_input": "2023-12-22T08:23:55.075303Z",
     "iopub.status.busy": "2023-12-22T08:23:55.075178Z",
     "iopub.status.idle": "2023-12-22T08:23:55.090840Z",
     "shell.execute_reply": "2023-12-22T08:23:55.090526Z",
     "shell.execute_reply.started": "2023-12-22T08:23:55.075291Z"
    }
   },
   "outputs": [
    {
     "name": "stdout",
     "output_type": "stream",
     "text": [
      "DatasetRef(DatasetType('skyMap', {skymap}, SkyMap), {skymap: 'hsc_rings_v1'}, run='skymaps', id=6e7fc928-0dc3-4e1b-ae63-5fb63be46216)\n",
      "DatasetRef(DatasetType('skyMap', {skymap}, SkyMap), {skymap: 'latiss_v1'}, run='skymaps', id=f677ff86-2b1c-4094-9dad-e39395052cd1)\n",
      "DatasetRef(DatasetType('skyMap', {skymap}, SkyMap), {skymap: 'lsst_cells_v1'}, run='skymaps', id=857e0e80-8d08-44f4-a81b-84227b064d5b)\n"
     ]
    }
   ],
   "source": [
    "for i, ref in enumerate(datasetRefs):\n",
    "    pprint(ref)\n",
    "    skymap_id = ref.dataId[\"skymap\"]\n",
    "    if skymap_id ==  'latiss_v1':\n",
    "        skymap = ref"
   ]
  },
  {
   "cell_type": "code",
   "execution_count": 7,
   "id": "0e749eb3-5a4c-430f-9547-148ffb974b4b",
   "metadata": {
    "execution": {
     "iopub.execute_input": "2023-12-22T08:23:55.091364Z",
     "iopub.status.busy": "2023-12-22T08:23:55.091247Z",
     "iopub.status.idle": "2023-12-22T08:23:55.235717Z",
     "shell.execute_reply": "2023-12-22T08:23:55.235316Z",
     "shell.execute_reply.started": "2023-12-22T08:23:55.091352Z"
    }
   },
   "outputs": [],
   "source": [
    "skymap = butler.get(ref)"
   ]
  },
  {
   "cell_type": "code",
   "execution_count": 8,
   "id": "5b00dd9c-d87b-4c0e-9811-4cdbb06f6d76",
   "metadata": {
    "execution": {
     "iopub.execute_input": "2023-12-22T08:23:55.236430Z",
     "iopub.status.busy": "2023-12-22T08:23:55.236158Z",
     "iopub.status.idle": "2023-12-22T08:23:55.238546Z",
     "shell.execute_reply": "2023-12-22T08:23:55.238262Z",
     "shell.execute_reply.started": "2023-12-22T08:23:55.236417Z"
    }
   },
   "outputs": [],
   "source": [
    "my_tracts = [ 5616,5634,5615,10644,383,8188,3863,455,452,5839,10643,382]"
   ]
  },
  {
   "cell_type": "code",
   "execution_count": 9,
   "id": "a88df013-ca76-4aa3-b47f-e1e0537979ca",
   "metadata": {
    "execution": {
     "iopub.execute_input": "2023-12-22T08:23:55.239097Z",
     "iopub.status.busy": "2023-12-22T08:23:55.238980Z",
     "iopub.status.idle": "2023-12-22T08:23:55.257178Z",
     "shell.execute_reply": "2023-12-22T08:23:55.256893Z",
     "shell.execute_reply.started": "2023-12-22T08:23:55.239085Z"
    }
   },
   "outputs": [],
   "source": [
    "#from lsst.daf.butler import Butler\n",
    "#butler = Butler('SMALL_HSC')\n",
    "skymap = butler.get('skyMap', skymap='latiss_v1', collections=my_collection)\n",
    "tractInfo = skymap.generateTract(5616)\n",
    "#patch = tractInfo[41]\n",
    "#patch.getIndex()"
   ]
  },
  {
   "cell_type": "code",
   "execution_count": 10,
   "id": "cb8af27c-ce92-464d-b17d-c8b7135e4ad0",
   "metadata": {
    "execution": {
     "iopub.execute_input": "2023-12-22T08:23:55.257728Z",
     "iopub.status.busy": "2023-12-22T08:23:55.257603Z",
     "iopub.status.idle": "2023-12-22T08:23:55.259429Z",
     "shell.execute_reply": "2023-12-22T08:23:55.259146Z",
     "shell.execute_reply.started": "2023-12-22T08:23:55.257717Z"
    }
   },
   "outputs": [],
   "source": [
    "#for patch in tractInfo:\n",
    "#    print(patch.getSequentialIndex())"
   ]
  },
  {
   "cell_type": "code",
   "execution_count": 11,
   "id": "fefb1d40-b6dc-40bb-9037-7ae7898b797f",
   "metadata": {
    "execution": {
     "iopub.execute_input": "2023-12-22T08:23:55.259914Z",
     "iopub.status.busy": "2023-12-22T08:23:55.259806Z",
     "iopub.status.idle": "2023-12-22T08:23:55.263746Z",
     "shell.execute_reply": "2023-12-22T08:23:55.263451Z",
     "shell.execute_reply.started": "2023-12-22T08:23:55.259904Z"
    }
   },
   "outputs": [
    {
     "name": "stdout",
     "output_type": "stream",
     "text": [
      "Object `patch.getSequentialIndex` not found.\n"
     ]
    }
   ],
   "source": [
    "patch.getSequentialIndex?"
   ]
  },
  {
   "cell_type": "code",
   "execution_count": 12,
   "id": "a466bd42-382c-473a-8d4f-1117afaa52d9",
   "metadata": {
    "execution": {
     "iopub.execute_input": "2023-12-22T08:23:55.264259Z",
     "iopub.status.busy": "2023-12-22T08:23:55.264147Z",
     "iopub.status.idle": "2023-12-22T08:23:55.268411Z",
     "shell.execute_reply": "2023-12-22T08:23:55.268133Z",
     "shell.execute_reply.started": "2023-12-22T08:23:55.264248Z"
    }
   },
   "outputs": [],
   "source": [
    "# Load data (deserialize)\n",
    "import pickle\n",
    "with open('Latiss_tractspatchs.pickle', 'rb') as handle:\n",
    "    tracts_patchs_dict = pickle.load(handle)"
   ]
  },
  {
   "cell_type": "code",
   "execution_count": 13,
   "id": "d716c112-aec6-40a5-9bfa-1d379327a57c",
   "metadata": {
    "execution": {
     "iopub.execute_input": "2023-12-22T08:23:55.268965Z",
     "iopub.status.busy": "2023-12-22T08:23:55.268853Z",
     "iopub.status.idle": "2023-12-22T08:23:55.273943Z",
     "shell.execute_reply": "2023-12-22T08:23:55.273670Z",
     "shell.execute_reply.started": "2023-12-22T08:23:55.268953Z"
    }
   },
   "outputs": [
    {
     "data": {
      "text/plain": [
       "{5616: array([335, 355, 358, 336, 337, 338, 316, 357, 317, 356]),\n",
       " 5634: array([ 91,  52,  93,  72,  92, 109, 110,  54,  71,  53,  55, 112, 111,\n",
       "         74,  73,  90]),\n",
       " 5615: array([332, 333, 312, 313, 295, 331, 276, 275, 294, 293, 314, 274]),\n",
       " 10644: array([166, 184, 183, 201, 161, 180, 207, 188, 202, 182, 189, 208, 164,\n",
       "        181, 185, 165, 203, 162]),\n",
       " 383: array([359, 360]),\n",
       " 8188: array([48, 65, 47, 28, 46, 66, 27]),\n",
       " 3863: array([241, 243, 242, 260, 261, 222, 262, 224, 223]),\n",
       " 455: array([52, 33, 51, 32, 14, 53, 34, 15, 13]),\n",
       " 452: array([42, 44, 25, 24, 63, 23, 43, 62]),\n",
       " 5839: array([9, 7, 8]),\n",
       " 10643: array([171, 190]),\n",
       " 382: array([343, 342])}"
      ]
     },
     "execution_count": 13,
     "metadata": {},
     "output_type": "execute_result"
    }
   ],
   "source": [
    "tracts_patchs_dict"
   ]
  },
  {
   "cell_type": "code",
   "execution_count": 14,
   "id": "1cbd1adb-fcd4-4527-a30f-52e64ae79156",
   "metadata": {
    "execution": {
     "iopub.execute_input": "2023-12-22T08:23:55.275471Z",
     "iopub.status.busy": "2023-12-22T08:23:55.275348Z",
     "iopub.status.idle": "2023-12-22T08:23:55.278153Z",
     "shell.execute_reply": "2023-12-22T08:23:55.277873Z",
     "shell.execute_reply.started": "2023-12-22T08:23:55.275460Z"
    }
   },
   "outputs": [
    {
     "data": {
      "text/plain": [
       "[5616, 5634, 5615, 10644, 383, 8188, 3863, 455, 452, 5839, 10643, 382]"
      ]
     },
     "execution_count": 14,
     "metadata": {},
     "output_type": "execute_result"
    }
   ],
   "source": [
    "list_of_tracts = list(tracts_patchs_dict.keys())\n",
    "list_of_tracts"
   ]
  },
  {
   "cell_type": "code",
   "execution_count": 15,
   "id": "8c81ef60-4e7a-4592-9e89-6b5ab9884d57",
   "metadata": {
    "execution": {
     "iopub.execute_input": "2023-12-22T08:23:55.278638Z",
     "iopub.status.busy": "2023-12-22T08:23:55.278511Z",
     "iopub.status.idle": "2023-12-22T08:23:55.282509Z",
     "shell.execute_reply": "2023-12-22T08:23:55.282223Z",
     "shell.execute_reply.started": "2023-12-22T08:23:55.278625Z"
    }
   },
   "outputs": [
    {
     "name": "stdout",
     "output_type": "stream",
     "text": [
      "98\n"
     ]
    }
   ],
   "source": [
    "npatches = 0\n",
    "for itract in list_of_tracts:\n",
    "    npatches += len(tracts_patchs_dict[itract])\n",
    "print(npatches)    "
   ]
  },
  {
   "cell_type": "code",
   "execution_count": 23,
   "id": "151d6922-eeac-4a08-9c6c-8caf29f510ac",
   "metadata": {
    "execution": {
     "iopub.execute_input": "2023-12-22T08:30:10.208954Z",
     "iopub.status.busy": "2023-12-22T08:30:10.208358Z",
     "iopub.status.idle": "2023-12-22T08:30:10.474861Z",
     "shell.execute_reply": "2023-12-22T08:30:10.474461Z",
     "shell.execute_reply.started": "2023-12-22T08:30:10.208941Z"
    }
   },
   "outputs": [
    {
     "name": "stdout",
     "output_type": "stream",
     "text": [
      "===1===382:342==========\n",
      "[[ 12.69437584 -72.91024487]\n",
      " [ 12.4111962  -72.91379092]\n",
      " [ 12.39980658 -72.83057359]\n",
      " [ 12.6816523  -72.82704592]]\n",
      "===1===382:343==========\n",
      "[[ 12.41110175 -72.91379204]\n",
      " [ 12.12780416 -72.91694484]\n",
      " [ 12.11775058 -72.83371115]\n",
      " [ 12.39971258 -72.8305747 ]]\n",
      "===2===383:359==========\n",
      "[[ 12.87210136 -72.91694386]\n",
      " [ 12.5888038  -72.91379092]\n",
      " [ 12.60019342 -72.83057359]\n",
      " [ 12.88215539 -72.83371017]]\n",
      "===2===383:360==========\n",
      "[[ 12.58870936 -72.9137898 ]\n",
      " [ 12.30552976 -72.91024362]\n",
      " [ 12.31825374 -72.82704468]\n",
      " [ 12.60009942 -72.83057248]]\n",
      "===3===452:23==========\n",
      "[[  1.55435839 -72.85108967]\n",
      " [  1.27192797 -72.85305258]\n",
      " [  1.26598626 -72.76977861]\n",
      " [  1.5470985  -72.76782571]]\n",
      "===3===452:24==========\n",
      "[[  1.27183379 -72.85305317]\n",
      " [  0.98934152 -72.85462369]\n",
      " [  0.98471929 -72.77134171]\n",
      " [  1.26589251 -72.7697792 ]]\n",
      "===3===452:25==========\n",
      "[[  0.98924731 -72.85462415]\n",
      " [  0.70670691 -72.85580215]\n",
      " [  0.70340484 -72.77251415]\n",
      " [  0.98462552 -72.77134216]]\n",
      "===3===452:42==========\n",
      "[[  1.54709609 -72.76779794]\n",
      " [  1.26598429 -72.76975084]\n",
      " [  1.26009784 -72.68647406]\n",
      " [  1.5399037  -72.68453108]]\n",
      "===3===452:43==========\n",
      "[[  1.26589054 -72.76975143]\n",
      " [  0.98471775 -72.77131394]\n",
      " [  0.98013853 -72.6880292 ]\n",
      " [  1.26000453 -72.68647464]]\n",
      "===3===452:44==========\n",
      "[[  0.98462399 -72.77131439]\n",
      " [  0.70340374 -72.77248637]\n",
      " [  0.7001324  -72.68919568]\n",
      " [  0.9800452  -72.68802966]]\n",
      "===3===452:62==========\n",
      "[[  1.26000258 -72.68644687]\n",
      " [  0.98013701 -72.68800143]\n",
      " [  0.97560018 -72.60471431]\n",
      " [  1.25417106 -72.60316762]]\n",
      "===3===452:63==========\n",
      "[[  0.98004368 -72.68800189]\n",
      " [  0.70013131 -72.68916791]\n",
      " [  0.69689026 -72.60587487]\n",
      " [  0.97550728 -72.60471476]]\n",
      "===4===455:13==========\n",
      "[[ 12.8520503  -72.93792989]\n",
      " [ 12.56822612 -72.93635115]\n",
      " [ 12.57422388 -72.85308035]\n",
      " [ 12.85671658 -72.85465101]]\n",
      "===4===455:14==========\n",
      "[[ 12.56813149 -72.93635056]\n",
      " [ 12.28437006 -72.93437741]\n",
      " [ 12.29169886 -72.85111671]\n",
      " [ 12.5741297  -72.85307976]]\n",
      "===4===455:15==========\n",
      "[[ 12.28427545 -72.93437669]\n",
      " [ 12.00059065 -72.93200929]\n",
      " [ 12.00924942 -72.84876071]\n",
      " [ 12.29160469 -72.85111599]]\n",
      "===4===455:32==========\n",
      "[[ 12.85671813 -72.85462324]\n",
      " [ 12.57422587 -72.85305258]\n",
      " [ 12.58016759 -72.76977861]\n",
      " [ 12.86134079 -72.77134125]]\n",
      "===4===455:33==========\n",
      "[[ 12.57413169 -72.85305199]\n",
      " [ 12.29170129 -72.85108895]\n",
      " [ 12.29896162 -72.76782499]\n",
      " [ 12.58007384 -72.76977803]]\n",
      "===4===455:34==========\n",
      "[[ 12.29160713 -72.85108823]\n",
      " [ 12.0092523  -72.84873295]\n",
      " [ 12.0178302  -72.76548101]\n",
      " [ 12.2988679  -72.76782427]]\n",
      "===4===455:51==========\n",
      "[[ 12.86134233 -72.77131348]\n",
      " [ 12.58016956 -72.76975084]\n",
      " [ 12.58605601 -72.68647406]\n",
      " [ 12.86592199 -72.68802875]]\n",
      "===4===455:52==========\n",
      "[[ 12.58007581 -72.76975026]\n",
      " [ 12.29896403 -72.76779723]\n",
      " [ 12.30615686 -72.68453037]\n",
      " [ 12.5859627  -72.68647348]]\n",
      "===4===455:53==========\n",
      "[[ 12.29887031 -72.76779651]\n",
      " [ 12.01783305 -72.76545325]\n",
      " [ 12.02633121 -72.68219831]\n",
      " [ 12.30606357 -72.68452966]]\n",
      "===5===3863:222==========\n",
      "[[120.24710808 -36.32070757]\n",
      " [120.1437196  -36.32035129]\n",
      " [120.14421799 -36.23704921]\n",
      " [120.24749576 -36.2374044 ]]\n",
      "===5===3863:223==========\n",
      "[[120.14368512 -36.32035116]\n",
      " [120.04029968 -36.31990583]\n",
      " [120.0409088  -36.2366051 ]\n",
      " [120.14418355 -36.23704908]]\n",
      "===5===3863:224==========\n",
      "[[120.0402652  -36.31990566]\n",
      " [119.93688346 -36.31937129]\n",
      " [119.9376033  -36.2360722 ]\n",
      " [120.04087436 -36.23660494]]\n",
      "===5===3863:241==========\n",
      "[[120.24749589 -36.23737663]\n",
      " [120.14421815 -36.23702143]\n",
      " [120.14471547 -36.15372023]\n",
      " [120.24788274 -36.15407434]]\n",
      "===5===3863:242==========\n",
      "[[120.14418372 -36.2370213 ]\n",
      " [120.040909   -36.23657733]\n",
      " [120.04151682 -36.15327748]\n",
      " [120.14468107 -36.1537201 ]]\n",
      "===5===3863:243==========\n",
      "[[120.04087456 -36.23657717]\n",
      " [119.93760354 -36.23604442]\n",
      " [119.93832184 -36.15274621]\n",
      " [120.04148242 -36.15327732]]\n",
      "===5===3863:260==========\n",
      "[[120.24788287 -36.15404656]\n",
      " [120.14471564 -36.15369245]\n",
      " [120.1452119  -36.07039248]\n",
      " [120.2482689  -36.0707455 ]]\n",
      "===5===3863:261==========\n",
      "[[120.14468124 -36.15369232]\n",
      " [120.04151702 -36.15324971]\n",
      " [120.04212354 -36.06995109]\n",
      " [120.14517753 -36.07039235]]\n",
      "===5===3863:262==========\n",
      "[[120.04148262 -36.15324954]\n",
      " [119.93832208 -36.15271843]\n",
      " [119.93903885 -36.06942145]\n",
      " [120.04208917 -36.06995093]]\n",
      "===6===5615:274==========\n",
      "[[240.13697795 -24.17037096]\n",
      " [240.04566954 -24.17042532]\n",
      " [240.04563933 -24.08712422]\n",
      " [240.13688733 -24.08707006]]\n",
      "===6===5615:275==========\n",
      "[[240.0456391  -24.17042533]\n",
      " [239.95433046 -24.17042532]\n",
      " [239.95436067 -24.08712422]\n",
      " [240.0456089  -24.08712422]]\n",
      "===6===5615:276==========\n",
      "[[239.95430001 -24.17042532]\n",
      " [239.8629916  -24.17037093]\n",
      " [239.86308224 -24.08707003]\n",
      " [239.95433024 -24.08712421]]\n",
      "===6===5615:293==========\n",
      "[[240.1368873  -24.08704229]\n",
      " [240.04563932 -24.08709644]\n",
      " [240.04560915 -24.00379727]\n",
      " [240.1367968  -24.00374333]]\n",
      "===6===5615:294==========\n",
      "[[240.04560889 -24.08709645]\n",
      " [239.95436068 -24.08709644]\n",
      " [239.95439085 -24.00379727]\n",
      " [240.04557874 -24.00379728]]\n",
      "===6===5615:295==========\n",
      "[[239.95433025 -24.08709643]\n",
      " [239.86308227 -24.08704226]\n",
      " [239.86317279 -24.0037433 ]\n",
      " [239.95436045 -24.00379726]]\n",
      "===6===5615:312==========\n",
      "[[240.13679677 -24.00371555]\n",
      " [240.04560914 -24.00376949]\n",
      " [240.045579   -23.92047261]\n",
      " [240.13670639 -23.92041889]]\n",
      "===6===5615:313==========\n",
      "[[240.04557873 -24.0037695 ]\n",
      " [239.95439086 -24.00376949]\n",
      " [239.954421   -23.92047261]\n",
      " [240.04554862 -23.92047262]]\n",
      "===6===5615:314==========\n",
      "[[239.95436046 -24.00376948]\n",
      " [239.86317282 -24.00371553]\n",
      " [239.86326323 -23.92041886]\n",
      " [239.95439061 -23.92047261]]\n",
      "===6===5615:331==========\n",
      "[[240.13670636 -23.92039111]\n",
      " [240.04557899 -23.92044484]\n",
      " [240.0455489  -23.8371506 ]\n",
      " [240.13661609 -23.83709709]]\n",
      "===6===5615:332==========\n",
      "[[240.04554861 -23.92044485]\n",
      " [239.95442101 -23.92044484]\n",
      " [239.9544511  -23.8371506 ]\n",
      " [240.04551853 -23.83715061]]\n",
      "===6===5615:333==========\n",
      "[[239.95439062 -23.92044483]\n",
      " [239.86326326 -23.92039108]\n",
      " [239.86335354 -23.83709706]\n",
      " [239.95442074 -23.83715059]]\n",
      "===7===5616:316==========\n",
      "[[241.39354669 -24.00360755]\n",
      " [241.30236091 -24.00344569]\n",
      " [241.30257184 -23.92015009]\n",
      " [241.39369738 -23.9203113 ]]\n",
      "===7===5616:317==========\n",
      "[[241.3023305  -24.00344563]\n",
      " [241.21114634 -24.00322983]\n",
      " [241.21141753 -23.91993508]\n",
      " [241.30254146 -23.92015003]]\n",
      "===7===5616:335==========\n",
      "[[241.39369743 -23.92028353]\n",
      " [241.30257191 -23.92012231]\n",
      " [241.30278257 -23.83682935]\n",
      " [241.39384792 -23.83698993]]\n",
      "===7===5616:336==========\n",
      "[[241.30254153 -23.92012225]\n",
      " [241.21141762 -23.9199073 ]\n",
      " [241.21168846 -23.83661519]\n",
      " [241.3027522  -23.83682929]]\n",
      "===7===5616:337==========\n",
      "[[241.21138724 -23.91990722]\n",
      " [241.12026541 -23.91963855]\n",
      " [241.12059642 -23.8363475 ]\n",
      " [241.2116581  -23.83661511]]\n",
      "===7===5616:338==========\n",
      "[[241.12023503 -23.91963845]\n",
      " [241.02911573 -23.91931606]\n",
      " [241.02950692 -23.83602628]\n",
      " [241.12056606 -23.8363474 ]]\n",
      "===7===5616:355==========\n",
      "[[241.30275227 -23.83680152]\n",
      " [241.21168855 -23.83658742]\n",
      " [241.21195903 -23.7532983 ]\n",
      " [241.30296267 -23.75351155]]\n",
      "===7===5616:356==========\n",
      "[[241.21165819 -23.83658734]\n",
      " [241.12059653 -23.83631973]\n",
      " [241.12092711 -23.75303167]\n",
      " [241.21192869 -23.75329822]]\n",
      "===7===5616:357==========\n",
      "[[241.12056617 -23.83631963]\n",
      " [241.02950705 -23.83599851]\n",
      " [241.02989772 -23.75271173]\n",
      " [241.12089677 -23.75303158]]\n",
      "===7===5616:358==========\n",
      "[[241.02947669 -23.8359984 ]\n",
      " [240.93842056 -23.83562378]\n",
      " [240.93887132 -23.75233848]\n",
      " [241.02986738 -23.75271162]]\n",
      "===8===5634:52==========\n",
      "[[270.39646881 -25.16982529]\n",
      " [270.30443468 -25.16954065]\n",
      " [270.30477236 -25.08624697]\n",
      " [270.39674512 -25.08653054]]\n",
      "===8===5634:53==========\n",
      "[[270.30440399 -25.16954054]\n",
      " [270.21237248 -25.16919898]\n",
      " [270.21277153 -25.08590658]\n",
      " [270.30474169 -25.08624686]]\n",
      "===8===5634:54==========\n",
      "[[270.21234179 -25.16919886]\n",
      " [270.12031336 -25.1688004 ]\n",
      " [270.12077379 -25.08550949]\n",
      " [270.21274087 -25.08590646]]\n",
      "===8===5634:55==========\n",
      "[[270.12028267 -25.16880025]\n",
      " [270.02825781 -25.16834489]\n",
      " [270.02877961 -25.08505569]\n",
      " [270.12074313 -25.08550934]]\n",
      "===8===5634:71==========\n",
      "[[270.39674521 -25.08650277]\n",
      " [270.30477247 -25.08621919]\n",
      " [270.30510969 -25.00292322]\n",
      " [270.39702115 -25.00320573]]\n",
      "===8===5634:72==========\n",
      "[[270.3047418  -25.08621909]\n",
      " [270.21277167 -25.08587881]\n",
      " [270.21317019 -25.00258411]\n",
      " [270.30507904 -25.00292311]]\n",
      "===8===5634:73==========\n",
      "[[270.212741   -25.08587869]\n",
      " [270.12077395 -25.08548171]\n",
      " [270.12123377 -25.00218851]\n",
      " [270.21313954 -25.00258399]]\n",
      "===8===5634:74==========\n",
      "[[270.12074328 -25.08548157]\n",
      " [270.02877979 -25.08502791]\n",
      " [270.02930089 -25.00173642]\n",
      " [270.12120312 -25.00218837]]\n",
      "===8===5634:90==========\n",
      "[[270.39702124 -25.00317795]\n",
      " [270.3051098  -25.00289544]\n",
      " [270.30544658 -24.91959753]\n",
      " [270.39729681 -24.91987898]]\n",
      "===8===5634:91==========\n",
      "[[270.30507916 -25.00289534]\n",
      " [270.21317032 -25.00255634]\n",
      " [270.21356832 -24.91925971]\n",
      " [270.30541595 -24.91959743]]\n",
      "===8===5634:92==========\n",
      "[[270.21313968 -25.00255622]\n",
      " [270.12123392 -25.00216074]\n",
      " [270.12169313 -24.9188656 ]\n",
      " [270.21353769 -24.91925959]]\n",
      "===8===5634:93==========\n",
      "[[270.12120327 -25.0021606 ]\n",
      " [270.02930107 -25.00170864]\n",
      " [270.02982148 -24.91841521]\n",
      " [270.1216625  -24.91886546]]\n",
      "===8===5634:109==========\n",
      "[[270.3972969  -24.9198512 ]\n",
      " [270.30544669 -24.91956976]\n",
      " [270.30578302 -24.83627026]\n",
      " [270.39757211 -24.83655064]]\n",
      "===8===5634:110==========\n",
      "[[270.30541606 -24.91956965]\n",
      " [270.21356845 -24.91923193]\n",
      " [270.21396591 -24.83593371]\n",
      " [270.30575241 -24.83627016]]\n",
      "===8===5634:111==========\n",
      "[[270.21353782 -24.91923181]\n",
      " [270.12169328 -24.91883782]\n",
      " [270.12215188 -24.8355411 ]\n",
      " [270.21393531 -24.83593359]]\n",
      "===8===5634:112==========\n",
      "[[270.12166265 -24.91883768]\n",
      " [270.02982165 -24.91838743]\n",
      " [270.03034137 -24.83509241]\n",
      " [270.12212127 -24.83554096]]\n",
      "===9===5839:7==========\n",
      "[[241.29915878 -23.84927239]\n",
      " [241.20808538 -23.84937949]\n",
      " [241.20800035 -23.76608846]\n",
      " [241.29901709 -23.76598178]]\n",
      "===9===5839:8==========\n",
      "[[241.20805501 -23.84937952]\n",
      " [241.11698092 -23.84943306]\n",
      " [241.11695258 -23.76614182]\n",
      " [241.20797    -23.76608848]]\n",
      "===9===5839:9==========\n",
      "[[241.11695055 -23.84943307]\n",
      " [241.02587623 -23.84943306]\n",
      " [241.02590457 -23.76614182]\n",
      " [241.11692223 -23.76614183]]\n",
      "===10===8188:27==========\n",
      "[[253.62648195  -8.89006634]\n",
      " [253.54217008  -8.89008529]\n",
      " [253.54216125  -8.80679105]\n",
      " [253.62645546  -8.80677228]]\n",
      "===10===8188:28==========\n",
      "[[253.54214197  -8.89008529]\n",
      " [253.45782992  -8.89008529]\n",
      " [253.45783875  -8.80679105]\n",
      " [253.54213314  -8.80679105]]\n",
      "===10===8188:46==========\n",
      "[[253.62645546  -8.80674451]\n",
      " [253.54216125  -8.80676327]\n",
      " [253.54215242  -8.72346639]\n",
      " [253.62642898  -8.7234478 ]]\n",
      "===10===8188:47==========\n",
      "[[253.54213314  -8.80676328]\n",
      " [253.45783875  -8.80676327]\n",
      " [253.45784758  -8.72346639]\n",
      " [253.54212432  -8.72346639]]\n",
      "===10===8188:48==========\n",
      "[[253.45781064  -8.80676327]\n",
      " [253.37351644  -8.8067445 ]\n",
      " [253.37354291  -8.72344779]\n",
      " [253.45781948  -8.72346638]]\n",
      "===10===8188:65==========\n",
      "[[253.62642898  -8.72342003]\n",
      " [253.54215242  -8.72343861]\n",
      " [253.5421436   -8.64013944]\n",
      " [253.62640252  -8.64012103]]\n",
      "===10===8188:66==========\n",
      "[[253.54212432  -8.72343862]\n",
      " [253.45784758  -8.72343861]\n",
      " [253.4578564   -8.64013944]\n",
      " [253.5421155   -8.64013944]]\n",
      "===11===10643:171==========\n",
      "[[307.02102      6.65193822]\n",
      " [306.93716434   6.65206537]\n",
      " [306.93728603   6.73536446]\n",
      " [307.021156     6.73523571]]\n",
      "===11===10643:190==========\n",
      "[[307.02115604   6.73526348]\n",
      " [306.93728607   6.73539224]\n",
      " [306.9374078    6.81869115]\n",
      " [307.02129208   6.81856079]]\n",
      "===12===10644:161==========\n",
      "[[307.7597563    6.56924111]\n",
      " [307.67590039   6.56924111]\n",
      " [307.67589323   6.65254645]\n",
      " [307.75976345   6.65254645]]\n",
      "===12===10644:162==========\n",
      "[[307.67587243   6.5692411 ]\n",
      " [307.59201669   6.56922715]\n",
      " [307.59199522   6.65253231]\n",
      " [307.67586526   6.65254645]]\n",
      "===12===10644:164==========\n",
      "[[307.50810557   6.56919922]\n",
      " [307.42425128   6.56915736]\n",
      " [307.42420118   6.65246163]\n",
      " [307.50806979   6.65250403]]\n",
      "===12===10644:165==========\n",
      "[[307.42422332   6.56915735]\n",
      " [307.34037028   6.56910153]\n",
      " [307.34030587   6.65240509]\n",
      " [307.42417322   6.65246162]]\n",
      "===12===10644:166==========\n",
      "[[307.34034232   6.56910151]\n",
      " [307.2564909    6.56903175]\n",
      " [307.25641218   6.65233441]\n",
      " [307.34027791   6.65240507]]\n",
      "===12===10644:180==========\n",
      "[[307.75976345   6.65257423]\n",
      " [307.67589323   6.65257423]\n",
      " [307.67588607   6.73587975]\n",
      " [307.75977061   6.73587975]]\n",
      "===12===10644:181==========\n",
      "[[307.67586526   6.65257423]\n",
      " [307.59199521   6.65256009]\n",
      " [307.59197374   6.73586543]\n",
      " [307.6758581    6.73587974]]\n",
      "===12===10644:182==========\n",
      "[[307.59196725   6.65256008]\n",
      " [307.50809774   6.65253182]\n",
      " [307.50806194   6.7358368 ]\n",
      " [307.59194577   6.73586542]]\n",
      "===12===10644:183==========\n",
      "[[307.50806977   6.65253181]\n",
      " [307.42420117   6.65248941]\n",
      " [307.42415105   6.73579386]\n",
      " [307.50803397   6.73583679]]\n",
      "===12===10644:184==========\n",
      "[[307.4241732    6.65248939]\n",
      " [307.34030585   6.65243287]\n",
      " [307.34024142   6.7357366 ]\n",
      " [307.42412308   6.73579384]]\n",
      "===12===10644:185==========\n",
      "[[307.34027789   6.65243285]\n",
      " [307.25641215   6.65236219]\n",
      " [307.25633341   6.73566503]\n",
      " [307.34021345   6.73573658]]\n",
      "===12===10644:188==========\n",
      "[[307.0886031    6.65217841]\n",
      " [307.00474438   6.65206537]\n",
      " [307.00462269   6.73536446]\n",
      " [307.08849571   6.73547892]]\n",
      "===12===10644:189==========\n",
      "[[307.00471641   6.65206533]\n",
      " [306.92086075   6.65193818]\n",
      " [306.92072475   6.73523566]\n",
      " [307.00459472   6.73536442]]\n",
      "===12===10644:201==========\n",
      "[[307.59194576   6.7358932 ]\n",
      " [307.50806193   6.73586458]\n",
      " [307.50802612   6.81916939]\n",
      " [307.59192427   6.81919837]]\n",
      "===12===10644:202==========\n",
      "[[307.50803396   6.73586457]\n",
      " [307.42415104   6.73582163]\n",
      " [307.4241009    6.8191259 ]\n",
      " [307.50799815   6.81916937]]\n",
      "===12===10644:203==========\n",
      "[[307.42412307   6.73582162]\n",
      " [307.3402414    6.73576438]\n",
      " [307.34017695   6.81906793]\n",
      " [307.42407293   6.81912589]]\n",
      "===12===10644:207==========\n",
      "[[307.08849568   6.7355067 ]\n",
      " [307.00462265   6.73539224]\n",
      " [307.00450092   6.81869115]\n",
      " [307.08838826   6.81880704]]\n",
      "===12===10644:208==========\n",
      "[[307.00459468   6.7353922 ]\n",
      " [306.92072471   6.73526344]\n",
      " [306.92058866   6.81856074]\n",
      " [307.00447294   6.81869111]]\n",
      "12\n"
     ]
    },
    {
     "name": "stderr",
     "output_type": "stream",
     "text": [
      "/tmp/ipykernel_13057/23700428.py:35: MatplotlibDeprecationWarning: Passing the closed parameter of __init__() positionally is deprecated since Matplotlib 3.6; the parameter will become keyword-only two minor releases later.\n",
      "  polygon = Polygon(corners_array,True)\n"
     ]
    },
    {
     "data": {
      "image/png": "[encoded data removed]",
      "text/plain": [
       "<Figure size 1200x1200 with 2 Axes>"
      ]
     },
     "metadata": {},
     "output_type": "display_data"
    }
   ],
   "source": [
    "import numpy as np\n",
    "\n",
    "import matplotlib.pyplot as plt\n",
    "import matplotlib\n",
    "from matplotlib.patches import Polygon\n",
    "from matplotlib.collections import PatchCollection\n",
    "\n",
    "numTracts=0\n",
    "# collection of polygons\n",
    "patches = []\n",
    "all_ra = []\n",
    "all_dec = []\n",
    "for tractInfo in skymap:\n",
    "    tractID = tractInfo.getId()\n",
    "    if tractID not in list_of_tracts:\n",
    "        continue\n",
    "    numTracts+=1    \n",
    "    for patch in tractInfo:\n",
    "        patchID = patch.getSequentialIndex()\n",
    "        if patchID not in tracts_patchs_dict[tractID]:\n",
    "            continue\n",
    "        ibb=patch.getInnerBBox()\n",
    "        tWCS=tractInfo.getWcs()\n",
    "        corners = []\n",
    "        # loop on the 4 corners\n",
    "        for icorn,corner in enumerate(ibb.getCorners()):\n",
    "            p = geom.Point2D(corner.getX(), corner.getY())\n",
    "            coord = tWCS.pixelToSky(p)\n",
    "            corners.append([coord.getRa().asDegrees(), coord.getDec().asDegrees()])\n",
    "            all_ra.append(coord.getRa().asDegrees()) \n",
    "            all_dec.append(coord.getDec().asDegrees()) \n",
    "        print(f\"==={numTracts}==={tractID}:{patchID}==========\")    \n",
    "        corners_array = np.array(corners)\n",
    "        print(corners_array)\n",
    "        polygon = Polygon(corners_array,True)\n",
    "        patches.append(polygon)\n",
    "print(numTracts)   \n",
    "\n",
    "# we can see this, not my polugons ???\n",
    "#num_polygons = 5\n",
    "#num_sides = 4\n",
    "#for i in range(num_polygons):\n",
    "#    polygon = Polygon(10*(np.random.rand(num_sides ,2)-0.5), True)\n",
    "#    patches.append(polygon)\n",
    "\n",
    "\n",
    "\n",
    "fig, ax = plt.subplots(figsize=(12,12))\n",
    "p = PatchCollection(patches, cmap=mpl.cm.jet, alpha=0.4)\n",
    "\n",
    "colors = 100*np.random.rand(len(patches))\n",
    "p.set_array(np.array(colors))\n",
    "#p.set_clim([5, 50])\n",
    "ax.add_collection(p)  \n",
    "fig.colorbar(p)\n",
    "\n",
    "ax.set_xlim([0., 60.])\n",
    "ax.set_ylim([-90, -30.])\n",
    "fig.show()"
   ]
  },
  {
   "cell_type": "code",
   "execution_count": 17,
   "id": "2c7b7d23-9224-4e6d-9b1f-86c52eea76ab",
   "metadata": {
    "execution": {
     "iopub.execute_input": "2023-12-22T08:24:09.772317Z",
     "iopub.status.busy": "2023-12-22T08:24:09.772187Z",
     "iopub.status.idle": "2023-12-22T08:24:09.774551Z",
     "shell.execute_reply": "2023-12-22T08:24:09.774197Z",
     "shell.execute_reply.started": "2023-12-22T08:24:09.772304Z"
    }
   },
   "outputs": [],
   "source": [
    "all_ra = np.array(all_ra)\n",
    "all_dec = np.array(all_dec)"
   ]
  },
  {
   "cell_type": "code",
   "execution_count": 18,
   "id": "41c2e51a-6a0b-44c3-a162-f9719f318c81",
   "metadata": {
    "execution": {
     "iopub.execute_input": "2023-12-22T08:24:09.775199Z",
     "iopub.status.busy": "2023-12-22T08:24:09.775080Z",
     "iopub.status.idle": "2023-12-22T08:24:09.907940Z",
     "shell.execute_reply": "2023-12-22T08:24:09.907513Z",
     "shell.execute_reply.started": "2023-12-22T08:24:09.775188Z"
    }
   },
   "outputs": [
    {
     "data": {
      "image/png": "[encoded data removed]",
      "text/plain": [
       "<Figure size 1200x1200 with 1 Axes>"
      ]
     },
     "metadata": {},
     "output_type": "display_data"
    }
   ],
   "source": [
    "fig, ax = plt.subplots(figsize=(12,12))\n",
    "p = PatchCollection(patches, cmap=mpl.cm.jet, alpha=0.4)\n",
    "\n",
    "colors = 50*np.random.rand(len(patches))\n",
    "p.set_array(np.array(colors))\n",
    "p.set_clim([5, 50])\n",
    "ax.add_collection(p)  \n",
    "\n",
    "\n",
    "#ax.set_xlim([0., 360.])\n",
    "#ax.set_ylim([-90, 10.])\n",
    "plt.show()"
   ]
  },
  {
   "cell_type": "code",
   "execution_count": 19,
   "id": "6b89c386-77fa-4a8e-b41c-632da74e1136",
   "metadata": {
    "execution": {
     "iopub.execute_input": "2023-12-22T08:24:09.908595Z",
     "iopub.status.busy": "2023-12-22T08:24:09.908465Z",
     "iopub.status.idle": "2023-12-22T08:24:09.983917Z",
     "shell.execute_reply": "2023-12-22T08:24:09.983527Z",
     "shell.execute_reply.started": "2023-12-22T08:24:09.908583Z"
    }
   },
   "outputs": [
    {
     "name": "stderr",
     "output_type": "stream",
     "text": [
      "/tmp/ipykernel_13057/793332784.py:14: MatplotlibDeprecationWarning: Passing the closed parameter of __init__() positionally is deprecated since Matplotlib 3.6; the parameter will become keyword-only two minor releases later.\n",
      "  polygon = Polygon(10*np.random.rand(num_sides ,2), True)\n"
     ]
    },
    {
     "data": {
      "image/png": "[encoded data removed]",
      "text/plain": [
       "<Figure size 640x480 with 1 Axes>"
      ]
     },
     "metadata": {},
     "output_type": "display_data"
    }
   ],
   "source": [
    "import numpy as np\n",
    "\n",
    "import matplotlib.pyplot as plt\n",
    "import matplotlib\n",
    "from matplotlib.patches import Polygon\n",
    "from matplotlib.collections import PatchCollection\n",
    "\n",
    "fig, ax = plt.subplots()\n",
    "patches = []\n",
    "num_polygons = 5\n",
    "num_sides = 4\n",
    "\n",
    "for i in range(num_polygons):\n",
    "    polygon = Polygon(10*np.random.rand(num_sides ,2), True)\n",
    "    patches.append(polygon)\n",
    "\n",
    "p = PatchCollection(patches, cmap=matplotlib.cm.jet, alpha=0.4)\n",
    "\n",
    "colors = 100*np.random.rand(len(patches))\n",
    "p.set_array(np.array(colors))\n",
    "\n",
    "ax.add_collection(p)\n",
    "\n",
    "ax.set_xlim([0., 10.])\n",
    "ax.set_ylim([0., 10.])\n",
    "\n",
    "plt.show()"
   ]
  },
  {
   "cell_type": "code",
   "execution_count": null,
   "id": "5f788476-5baf-4b69-bfda-e61e07b21467",
   "metadata": {},
   "outputs": [],
   "source": []
  }
 ],
 "metadata": {
  "kernelspec": {
   "display_name": "LSST",
   "language": "python",
   "name": "lsst"
  },
  "language_info": {
   "codemirror_mode": {
    "name": "ipython",
    "version": 3
   },
   "file_extension": ".py",
   "mimetype": "text/x-python",
   "name": "python",
   "nbconvert_exporter": "python",
   "pygments_lexer": "ipython3",
   "version": "3.11.4"
  }
 },
 "nbformat": 4,
 "nbformat_minor": 5
}
