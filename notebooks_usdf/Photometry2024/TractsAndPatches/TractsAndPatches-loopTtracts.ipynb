{
 "cells": [
  {
   "cell_type": "markdown",
   "id": "0b8c2138-5194-4d03-8b77-be24e2cc8ee3",
   "metadata": {},
   "source": [
    "# Extract ObjectTables Results in  OGA"
   ]
  },
  {
   "cell_type": "markdown",
   "id": "740e34fb-3fef-45a8-941b-c229742ab016",
   "metadata": {},
   "source": [
    " work with Weakly_2024_07\n",
    "- use jupyter kernel LSST\n",
    "\n",
    "\n",
    "- author : Sylvie Dagoret-Campagne\n",
    "- affiliation : IJCLab\n",
    "- creation date : 2023/12/21\n",
    "- update : 2024/02/23\n"
   ]
  },
  {
   "cell_type": "code",
   "execution_count": 1,
   "id": "ed2c3410-fe83-432e-ab87-9f4513fa8d8b",
   "metadata": {
    "execution": {
     "iopub.execute_input": "2024-02-23T12:30:16.420286Z",
     "iopub.status.busy": "2024-02-23T12:30:16.420165Z",
     "iopub.status.idle": "2024-02-23T12:30:16.769708Z",
     "shell.execute_reply": "2024-02-23T12:30:16.769092Z",
     "shell.execute_reply.started": "2024-02-23T12:30:16.420273Z"
    }
   },
   "outputs": [
    {
     "name": "stdout",
     "output_type": "stream",
     "text": [
      "analysis_tools        LOCAL:/home/d/dagoret/repos/repos_w_2024_07/analysis_tools \tsetup\n",
      "atmospec              LOCAL:/home/d/dagoret/repos/repos_w_2024_07/atmospec \tsetup\n",
      "eups                  LOCAL:/opt/lsst/software/stack/conda/miniconda3-py38_4.9.2/envs/lsst-scipipe-8.0.0/eups \tsetup\n",
      "spectractor           LOCAL:/home/d/dagoret/repos/repos_w_2024_07/Spectractor \tsetup\n"
     ]
    }
   ],
   "source": [
    "! eups list -s | grep LOCAL"
   ]
  },
  {
   "cell_type": "code",
   "execution_count": 2,
   "id": "70918d81-0cf6-4b0a-8f61-f5e5bec5b0e7",
   "metadata": {
    "execution": {
     "iopub.execute_input": "2024-02-23T12:30:16.770629Z",
     "iopub.status.busy": "2024-02-23T12:30:16.770473Z",
     "iopub.status.idle": "2024-02-23T12:30:17.101380Z",
     "shell.execute_reply": "2024-02-23T12:30:17.100818Z",
     "shell.execute_reply.started": "2024-02-23T12:30:16.770613Z"
    }
   },
   "outputs": [
    {
     "name": "stdout",
     "output_type": "stream",
     "text": [
      "   g4213664e8e+34187316c4 \tcurrent w_2024_07 setup\n"
     ]
    }
   ],
   "source": [
    "! eups list -s lsst_distrib"
   ]
  },
  {
   "cell_type": "code",
   "execution_count": 3,
   "id": "ce6aa72f-2f5d-4b84-b76a-e5afc7828e07",
   "metadata": {
    "execution": {
     "iopub.execute_input": "2024-02-23T12:30:17.102276Z",
     "iopub.status.busy": "2024-02-23T12:30:17.102120Z",
     "iopub.status.idle": "2024-02-23T12:30:18.005054Z",
     "shell.execute_reply": "2024-02-23T12:30:18.004616Z",
     "shell.execute_reply.started": "2024-02-23T12:30:17.102260Z"
    }
   },
   "outputs": [],
   "source": [
    "# general python packages\n",
    "import numpy as np\n",
    "import matplotlib.pyplot as plt\n",
    "import matplotlib as mpl\n",
    "from astropy.visualization import ZScaleInterval, LinearStretch, ImageNormalize\n",
    "\n",
    "\n",
    "from matplotlib.patches import Polygon\n",
    "from matplotlib.collections import PatchCollection\n",
    "\n",
    "# LSST packages\n",
    "from lsst.daf.butler import Butler\n",
    "import lsst.geom as geom\n",
    "\n",
    "# allow interactive plots\n",
    "#%matplotlib widget\n",
    "%matplotlib inline\n",
    "\n",
    "# default plot style is accessible\n",
    "plt.style.use('tableau-colorblind10')"
   ]
  },
  {
   "cell_type": "code",
   "execution_count": 4,
   "id": "588c0e0d-fae8-46c3-a258-a64ef076445b",
   "metadata": {
    "execution": {
     "iopub.execute_input": "2024-02-23T12:30:18.006568Z",
     "iopub.status.busy": "2024-02-23T12:30:18.006426Z",
     "iopub.status.idle": "2024-02-23T12:30:18.639392Z",
     "shell.execute_reply": "2024-02-23T12:30:18.638969Z",
     "shell.execute_reply.started": "2024-02-23T12:30:18.006555Z"
    }
   },
   "outputs": [],
   "source": [
    "# A repo which exists at the USDF, contains data from various instruments and\n",
    "REPO = '/repo/embargo'\n",
    "\n",
    "from lsst.daf.butler import Butler\n",
    "from pprint import pprint\n",
    "\n",
    "# Here we specify a default collection to use\n",
    "#my_collection = \"LATISS/runs/AUXTEL_DRP_IMAGING_2023-11A-10A-09AB-08ABC-07AB-05AB/w_2023_46/PREOPS-4553\"\n",
    "my_collection = \"LATISS/runs/AUXTEL_DRP_IMAGING_20230509_20240201/w_2024_05/PREOPS-4871\"\n",
    "butler = Butler(REPO, collections=my_collection)\n",
    "registry = butler.registry"
   ]
  },
  {
   "cell_type": "code",
   "execution_count": 5,
   "id": "b02a978f-a95f-40c7-b9dc-920c576db844",
   "metadata": {
    "execution": {
     "iopub.execute_input": "2024-02-23T12:30:18.640069Z",
     "iopub.status.busy": "2024-02-23T12:30:18.639932Z",
     "iopub.status.idle": "2024-02-23T12:30:18.659943Z",
     "shell.execute_reply": "2024-02-23T12:30:18.659601Z",
     "shell.execute_reply.started": "2024-02-23T12:30:18.640056Z"
    }
   },
   "outputs": [
    {
     "data": {
      "text/plain": [
       "[detector.RecordClass(instrument='LATISS', id=0, full_name='RXX_S00', name_in_raft='RXX_S00', raft=None, purpose='SCIENCE')]"
      ]
     },
     "execution_count": 5,
     "metadata": {},
     "output_type": "execute_result"
    }
   ],
   "source": [
    "list(butler.registry.queryDimensionRecords('detector', where=\"instrument='LATISS' AND detector.id IN (0..8)\"))"
   ]
  },
  {
   "cell_type": "markdown",
   "id": "9e212fa7-8be2-4874-b534-9d6e0918fa74",
   "metadata": {},
   "source": [
    "### access to skymap\n",
    "\n",
    "https://github.com/sylvielsstfr/MyDP0LSS/blob/main/myDP0.2/TrackAndPatch/PlotTractAndPatchs_butler.ipynb"
   ]
  },
  {
   "cell_type": "code",
   "execution_count": 6,
   "id": "62e69b18-d122-488b-9f62-3fc5e2342279",
   "metadata": {
    "execution": {
     "iopub.execute_input": "2024-02-23T12:30:18.660592Z",
     "iopub.status.busy": "2024-02-23T12:30:18.660461Z",
     "iopub.status.idle": "2024-02-23T12:30:18.663610Z",
     "shell.execute_reply": "2024-02-23T12:30:18.663274Z",
     "shell.execute_reply.started": "2024-02-23T12:30:18.660579Z"
    }
   },
   "outputs": [],
   "source": [
    "def get_corners_radec(wcs, bbox):\n",
    "    \"\"\"\n",
    "    Return the corners in RA,Dec in degrees given the WCS and bounding box for an image.\n",
    "\n",
    "    Parameters\n",
    "    ----------\n",
    "    wcs: image WCS returned by the Butler\n",
    "    bbox: bounding box returned by the Butler\n",
    "\n",
    "    Returns\n",
    "    -------\n",
    "    corners_ra, corners_dec in decimal degrees\n",
    "    \"\"\"\n",
    "\n",
    "    corners_x = [bbox.beginX, bbox.beginX, bbox.endX, bbox.endX]\n",
    "    corners_y = [bbox.beginY, bbox.endY, bbox.endY, bbox.beginY]\n",
    "    corners_ra = []\n",
    "    corners_dec = []\n",
    "    for i in range(4):\n",
    "        radec = wcs.pixelToSky(corners_x[i], corners_y[i])\n",
    "        corners_ra.append(radec.getRa().asDegrees())\n",
    "        corners_dec.append(radec.getDec().asDegrees())\n",
    "    \n",
    "    return corners_ra, corners_dec"
   ]
  },
  {
   "cell_type": "markdown",
   "id": "a7587b10-c178-4537-9c34-60867b69fa01",
   "metadata": {},
   "source": [
    "## Config"
   ]
  },
  {
   "cell_type": "code",
   "execution_count": 7,
   "id": "c2bca87f-8b3a-44ee-afa5-5b8e0b8f9b9d",
   "metadata": {
    "execution": {
     "iopub.execute_input": "2024-02-23T12:30:18.664206Z",
     "iopub.status.busy": "2024-02-23T12:30:18.664084Z",
     "iopub.status.idle": "2024-02-23T12:30:18.844493Z",
     "shell.execute_reply": "2024-02-23T12:30:18.844129Z",
     "shell.execute_reply.started": "2024-02-23T12:30:18.664195Z"
    },
    "tags": []
   },
   "outputs": [],
   "source": [
    "datasetRefs = butler.registry.queryDatasets(datasetType='skyMap', collections=my_collection, where= \"instrument='LATISS'\")"
   ]
  },
  {
   "cell_type": "code",
   "execution_count": 8,
   "id": "70cc3c91-c505-48aa-aec2-f1f8b342b127",
   "metadata": {
    "execution": {
     "iopub.execute_input": "2024-02-23T12:30:18.845137Z",
     "iopub.status.busy": "2024-02-23T12:30:18.845004Z",
     "iopub.status.idle": "2024-02-23T12:30:18.854479Z",
     "shell.execute_reply": "2024-02-23T12:30:18.854111Z",
     "shell.execute_reply.started": "2024-02-23T12:30:18.845125Z"
    }
   },
   "outputs": [
    {
     "name": "stdout",
     "output_type": "stream",
     "text": [
      "DatasetRef(DatasetType('skyMap', {skymap}, SkyMap), {skymap: 'hsc_rings_v1'}, run='skymaps', id=6e7fc928-0dc3-4e1b-ae63-5fb63be46216)\n",
      "DatasetRef(DatasetType('skyMap', {skymap}, SkyMap), {skymap: 'latiss_v1'}, run='skymaps', id=f677ff86-2b1c-4094-9dad-e39395052cd1)\n",
      "DatasetRef(DatasetType('skyMap', {skymap}, SkyMap), {skymap: 'lsst_cells_v1'}, run='skymaps', id=857e0e80-8d08-44f4-a81b-84227b064d5b)\n"
     ]
    }
   ],
   "source": [
    "for i, ref in enumerate(datasetRefs):\n",
    "    pprint(ref)\n",
    "    skymap_id = ref.dataId[\"skymap\"]\n",
    "    if skymap_id ==  'latiss_v1':\n",
    "        skymap = ref"
   ]
  },
  {
   "cell_type": "code",
   "execution_count": 9,
   "id": "0e749eb3-5a4c-430f-9547-148ffb974b4b",
   "metadata": {
    "execution": {
     "iopub.execute_input": "2024-02-23T12:30:18.855088Z",
     "iopub.status.busy": "2024-02-23T12:30:18.854963Z",
     "iopub.status.idle": "2024-02-23T12:30:18.975143Z",
     "shell.execute_reply": "2024-02-23T12:30:18.974700Z",
     "shell.execute_reply.started": "2024-02-23T12:30:18.855077Z"
    }
   },
   "outputs": [],
   "source": [
    "skymap = butler.get(ref)"
   ]
  },
  {
   "cell_type": "code",
   "execution_count": 10,
   "id": "5b00dd9c-d87b-4c0e-9811-4cdbb06f6d76",
   "metadata": {
    "execution": {
     "iopub.execute_input": "2024-02-23T12:30:18.976017Z",
     "iopub.status.busy": "2024-02-23T12:30:18.975721Z",
     "iopub.status.idle": "2024-02-23T12:30:18.978178Z",
     "shell.execute_reply": "2024-02-23T12:30:18.977837Z",
     "shell.execute_reply.started": "2024-02-23T12:30:18.976005Z"
    }
   },
   "outputs": [],
   "source": [
    "my_tracts = [ 5616,5634,5615,10644,383,8188,3863,455,452,5839,10643,382]"
   ]
  },
  {
   "cell_type": "code",
   "execution_count": 11,
   "id": "a88df013-ca76-4aa3-b47f-e1e0537979ca",
   "metadata": {
    "execution": {
     "iopub.execute_input": "2024-02-23T12:30:18.978875Z",
     "iopub.status.busy": "2024-02-23T12:30:18.978756Z",
     "iopub.status.idle": "2024-02-23T12:30:19.156755Z",
     "shell.execute_reply": "2024-02-23T12:30:19.156324Z",
     "shell.execute_reply.started": "2024-02-23T12:30:18.978864Z"
    }
   },
   "outputs": [],
   "source": [
    "#from lsst.daf.butler import Butler\n",
    "#butler = Butler('SMALL_HSC')\n",
    "skymap = butler.get('skyMap', skymap='latiss_v1', collections=my_collection)\n",
    "tractInfo = skymap.generateTract(5616)\n",
    "#patch = tractInfo[41]\n",
    "#patch.getIndex()"
   ]
  },
  {
   "cell_type": "code",
   "execution_count": 12,
   "id": "cb8af27c-ce92-464d-b17d-c8b7135e4ad0",
   "metadata": {
    "execution": {
     "iopub.execute_input": "2024-02-23T12:30:19.157384Z",
     "iopub.status.busy": "2024-02-23T12:30:19.157257Z",
     "iopub.status.idle": "2024-02-23T12:30:19.159160Z",
     "shell.execute_reply": "2024-02-23T12:30:19.158832Z",
     "shell.execute_reply.started": "2024-02-23T12:30:19.157373Z"
    }
   },
   "outputs": [],
   "source": [
    "#for patch in tractInfo:\n",
    "#    print(patch.getSequentialIndex())"
   ]
  },
  {
   "cell_type": "code",
   "execution_count": 13,
   "id": "a466bd42-382c-473a-8d4f-1117afaa52d9",
   "metadata": {
    "execution": {
     "iopub.execute_input": "2024-02-23T12:30:19.159741Z",
     "iopub.status.busy": "2024-02-23T12:30:19.159623Z",
     "iopub.status.idle": "2024-02-23T12:30:19.163675Z",
     "shell.execute_reply": "2024-02-23T12:30:19.163330Z",
     "shell.execute_reply.started": "2024-02-23T12:30:19.159731Z"
    }
   },
   "outputs": [],
   "source": [
    "# Load data (deserialize)\n",
    "import pickle\n",
    "with open('Latiss_tractspatchs_202402.pickle', 'rb') as handle:\n",
    "    tracts_patchs_dict = pickle.load(handle)"
   ]
  },
  {
   "cell_type": "code",
   "execution_count": 14,
   "id": "d716c112-aec6-40a5-9bfa-1d379327a57c",
   "metadata": {
    "execution": {
     "iopub.execute_input": "2024-02-23T12:30:19.164252Z",
     "iopub.status.busy": "2024-02-23T12:30:19.164134Z",
     "iopub.status.idle": "2024-02-23T12:30:19.184033Z",
     "shell.execute_reply": "2024-02-23T12:30:19.183681Z",
     "shell.execute_reply.started": "2024-02-23T12:30:19.164242Z"
    }
   },
   "outputs": [
    {
     "data": {
      "text/plain": [
       "{10644: array([189, 183, 184, 164, 185, 203, 201, 207, 182, 162, 166, 165, 181,\n",
       "        161, 188, 208, 180, 202]),\n",
       " 5634: array([ 90, 110,  71, 112,  73, 109,  93,  92,  91,  53,  72,  55,  52,\n",
       "        111,  54,  74]),\n",
       " 3863: array([223, 261, 241, 242, 262, 260, 243, 222, 224]),\n",
       " 452: array([41, 62, 22, 25, 23, 44, 42, 63, 43, 24]),\n",
       " 5614: array([250, 251, 230, 210, 212, 232, 211, 213, 249, 229, 231]),\n",
       " 5616: array([355, 358, 316, 338, 356, 336, 357, 337, 317, 335, 315, 334]),\n",
       " 5615: array([274, 331, 312, 332, 294, 295, 293, 313, 333, 314, 275, 276]),\n",
       " 5839: array([9, 8, 7]),\n",
       " 10643: array([190, 171]),\n",
       " 455: array([51, 52, 15, 33, 14, 53, 34, 13, 32]),\n",
       " 382: array([343, 344, 342]),\n",
       " 3864: array([274, 238, 217, 218, 273, 255, 235, 275, 237, 257, 219, 236, 256,\n",
       "        254, 276, 216]),\n",
       " 383: array([359, 360])}"
      ]
     },
     "execution_count": 14,
     "metadata": {},
     "output_type": "execute_result"
    }
   ],
   "source": [
    "tracts_patchs_dict"
   ]
  },
  {
   "cell_type": "code",
   "execution_count": 15,
   "id": "1cbd1adb-fcd4-4527-a30f-52e64ae79156",
   "metadata": {
    "execution": {
     "iopub.execute_input": "2024-02-23T12:30:19.184633Z",
     "iopub.status.busy": "2024-02-23T12:30:19.184514Z",
     "iopub.status.idle": "2024-02-23T12:30:19.210569Z",
     "shell.execute_reply": "2024-02-23T12:30:19.210213Z",
     "shell.execute_reply.started": "2024-02-23T12:30:19.184622Z"
    }
   },
   "outputs": [
    {
     "data": {
      "text/plain": [
       "[10644, 5634, 3863, 452, 5614, 5616, 5615, 5839, 10643, 455, 382, 3864, 383]"
      ]
     },
     "execution_count": 15,
     "metadata": {},
     "output_type": "execute_result"
    }
   ],
   "source": [
    "list_of_tracts = list(tracts_patchs_dict.keys())\n",
    "list_of_tracts"
   ]
  },
  {
   "cell_type": "code",
   "execution_count": 16,
   "id": "8c81ef60-4e7a-4592-9e89-6b5ab9884d57",
   "metadata": {
    "execution": {
     "iopub.execute_input": "2024-02-23T12:30:19.211148Z",
     "iopub.status.busy": "2024-02-23T12:30:19.211030Z",
     "iopub.status.idle": "2024-02-23T12:30:19.214253Z",
     "shell.execute_reply": "2024-02-23T12:30:19.213903Z",
     "shell.execute_reply.started": "2024-02-23T12:30:19.211137Z"
    }
   },
   "outputs": [
    {
     "name": "stdout",
     "output_type": "stream",
     "text": [
      "123\n"
     ]
    }
   ],
   "source": [
    "npatches = 0\n",
    "for itract in list_of_tracts:\n",
    "    npatches += len(tracts_patchs_dict[itract])\n",
    "print(npatches)    "
   ]
  },
  {
   "cell_type": "code",
   "execution_count": 17,
   "id": "151d6922-eeac-4a08-9c6c-8caf29f510ac",
   "metadata": {
    "execution": {
     "iopub.execute_input": "2024-02-23T12:30:19.214845Z",
     "iopub.status.busy": "2024-02-23T12:30:19.214729Z",
     "iopub.status.idle": "2024-02-23T12:30:19.747410Z",
     "shell.execute_reply": "2024-02-23T12:30:19.746308Z",
     "shell.execute_reply.started": "2024-02-23T12:30:19.214835Z"
    }
   },
   "outputs": [
    {
     "ename": "TypeError",
     "evalue": "Polygon.__init__() takes 2 positional arguments but 3 were given",
     "output_type": "error",
     "traceback": [
      "\u001b[0;31m---------------------------------------------------------------------------\u001b[0m",
      "\u001b[0;31mTypeError\u001b[0m                                 Traceback (most recent call last)",
      "Cell \u001b[0;32mIn[17], line 50\u001b[0m\n\u001b[1;32m     48\u001b[0m corners_array \u001b[38;5;241m=\u001b[39m np\u001b[38;5;241m.\u001b[39marray(corners)\n\u001b[1;32m     49\u001b[0m \u001b[38;5;66;03m#print(corners_array)\u001b[39;00m\n\u001b[0;32m---> 50\u001b[0m polygon \u001b[38;5;241m=\u001b[39m \u001b[43mPolygon\u001b[49m\u001b[43m(\u001b[49m\u001b[43mcorners_array\u001b[49m\u001b[43m,\u001b[49m\u001b[38;5;28;43;01mTrue\u001b[39;49;00m\u001b[43m)\u001b[49m\n\u001b[1;32m     51\u001b[0m patches\u001b[38;5;241m.\u001b[39mappend(polygon)\n\u001b[1;32m     52\u001b[0m container_polygons_fortract\u001b[38;5;241m.\u001b[39mappend(polygon)\n",
      "\u001b[0;31mTypeError\u001b[0m: Polygon.__init__() takes 2 positional arguments but 3 were given"
     ]
    }
   ],
   "source": [
    "import numpy as np\n",
    "\n",
    "import matplotlib.pyplot as plt\n",
    "import matplotlib\n",
    "from matplotlib.patches import Polygon\n",
    "from matplotlib.collections import PatchCollection\n",
    "\n",
    "numTracts=0\n",
    "# collection of polygons\n",
    "patches = [] # container of all polygons\n",
    "\n",
    "\n",
    "tract_polygon_dict = {}\n",
    "tract_ra_dict = {}\n",
    "tract_dec_dict = {}\n",
    "\n",
    "# loop on tracts\n",
    "#---------------\n",
    "for tractInfo in skymap:\n",
    "    tractID = tractInfo.getId()\n",
    "    if tractID not in list_of_tracts:\n",
    "        continue\n",
    "    numTracts+=1  \n",
    "\n",
    "    # container for each tract\n",
    "    container_polygons_fortract = []\n",
    "    container_ra_fortract = []\n",
    "    container_dec_fortract = []\n",
    "\n",
    "\n",
    "    # loop on patch\n",
    "    #--------------\n",
    "    for patch in tractInfo:\n",
    "        patchID = patch.getSequentialIndex()\n",
    "        if patchID not in tracts_patchs_dict[tractID]:\n",
    "            continue\n",
    "        ibb=patch.getInnerBBox()\n",
    "        tWCS=tractInfo.getWcs()\n",
    "        corners = []\n",
    "        # loop on the 4 corners\n",
    "        for icorn,corner in enumerate(ibb.getCorners()):\n",
    "            p = geom.Point2D(corner.getX(), corner.getY())\n",
    "            coord = tWCS.pixelToSky(p)\n",
    "            corners.append([coord.getRa().asDegrees(), coord.getDec().asDegrees()])\n",
    "            container_ra_fortract.append(coord.getRa().asDegrees()) \n",
    "            container_dec_fortract.append(coord.getDec().asDegrees()) \n",
    "        #print(f\"==={numTracts}==={tractID}:{patchID}==========\")    \n",
    "        corners_array = np.array(corners)\n",
    "        #print(corners_array)\n",
    "        polygon = Polygon(corners_array,True)\n",
    "        patches.append(polygon)\n",
    "        container_polygons_fortract.append(polygon)\n",
    "        \n",
    "        \n",
    "    tract_polygon_dict[tractID] = container_polygons_fortract\n",
    "    tract_ra_dict[tractID] = np.array(container_ra_fortract)\n",
    "    tract_dec_dict[tractID] = np.array(container_dec_fortract)\n",
    "    \n",
    "    \n",
    "        \n",
    "print(numTracts)   \n",
    "\n"
   ]
  },
  {
   "cell_type": "code",
   "execution_count": null,
   "id": "41c2e51a-6a0b-44c3-a162-f9719f318c81",
   "metadata": {
    "execution": {
     "iopub.status.busy": "2024-02-23T12:30:19.747878Z",
     "iopub.status.idle": "2024-02-23T12:30:19.748042Z",
     "shell.execute_reply": "2024-02-23T12:30:19.747965Z",
     "shell.execute_reply.started": "2024-02-23T12:30:19.747958Z"
    }
   },
   "outputs": [],
   "source": [
    "for itract in list_of_tracts:\n",
    "    patches = tract_polygon_dict[itract]\n",
    "    ra = tract_ra_dict[itract]\n",
    "    dec = tract_dec_dict[itract]\n",
    "    Xmin = ra.min()\n",
    "    Xmax = ra.max()\n",
    "    Ymin = dec.min()\n",
    "    Ymax = dec.max()\n",
    "    \n",
    "\n",
    "    fig, ax = plt.subplots(figsize=(6,6))\n",
    "    p = PatchCollection(patches, cmap=mpl.cm.jet, alpha=0.4)\n",
    "\n",
    "    colors = 50*np.random.rand(len(patches))\n",
    "    p.set_array(np.array(colors))\n",
    "\n",
    "    ax.add_collection(p)  \n",
    "\n",
    "\n",
    "    ax.set_xlim([Xmin,Xmax])\n",
    "    ax.set_ylim([Ymin, Ymax])\n",
    "\n",
    "    title = f\"AUXTEL 2023 : tract {itract}\"\n",
    "    ax.set_title(title)\n",
    "    ax.set_xlabel(\"ra\")\n",
    "    ax.set_ylabel(\"dec\")\n",
    "    #plt.gca().set_aspect('equal')\n",
    "    ax.axis('equal')\n",
    "    plt.show()"
   ]
  },
  {
   "cell_type": "code",
   "execution_count": null,
   "id": "5f788476-5baf-4b69-bfda-e61e07b21467",
   "metadata": {
    "execution": {
     "iopub.status.busy": "2024-02-23T12:30:19.748514Z",
     "iopub.status.idle": "2024-02-23T12:30:19.748666Z",
     "shell.execute_reply": "2024-02-23T12:30:19.748595Z",
     "shell.execute_reply.started": "2024-02-23T12:30:19.748588Z"
    }
   },
   "outputs": [],
   "source": [
    "#\n",
    "#fig=plt.figure()\n",
    "#ax = fig.add_subplot(projection=wcs)\n",
    "#ax.imshow(hdu[0].data, origin='lower')\n",
    "#ax.grid(color='white', ls='solid')\n",
    "#ax.set_xlabel('RA')\n",
    "#ax.set_ylabel('DEC')\n",
    "#ax.scatter(coord.ra.deg, coord.dec.deg, s=300, edgecolor='white', facecolor='none',transform=ax.get_transform('icrs'))\n",
    "#ax.set_title(target_name_ned)"
   ]
  },
  {
   "cell_type": "code",
   "execution_count": null,
   "id": "4573155f-957b-403e-ae41-9d389019682a",
   "metadata": {},
   "outputs": [],
   "source": []
  }
 ],
 "metadata": {
  "kernelspec": {
   "display_name": "LSST",
   "language": "python",
   "name": "lsst"
  },
  "language_info": {
   "codemirror_mode": {
    "name": "ipython",
    "version": 3
   },
   "file_extension": ".py",
   "mimetype": "text/x-python",
   "name": "python",
   "nbconvert_exporter": "python",
   "pygments_lexer": "ipython3",
   "version": "3.11.7"
  }
 },
 "nbformat": 4,
 "nbformat_minor": 5
}
