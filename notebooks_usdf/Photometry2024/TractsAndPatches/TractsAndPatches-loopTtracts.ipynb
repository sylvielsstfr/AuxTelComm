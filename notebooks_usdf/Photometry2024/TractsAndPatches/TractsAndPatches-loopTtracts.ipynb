{
 "cells": [
  {
   "cell_type": "markdown",
   "id": "0b8c2138-5194-4d03-8b77-be24e2cc8ee3",
   "metadata": {},
   "source": [
    "# Extract ObjectTables Results in  OGA"
   ]
  },
  {
   "cell_type": "markdown",
   "id": "740e34fb-3fef-45a8-941b-c229742ab016",
   "metadata": {},
   "source": [
    " work with Weakly_2024_07\n",
    "- use jupyter kernel LSST\n",
    "\n",
    "\n",
    "- author : Sylvie Dagoret-Campagne\n",
    "- affiliation : IJCLab\n",
    "- creation date : 2023/12/21\n",
    "- update : 2024/02/23\n"
   ]
  },
  {
   "cell_type": "code",
   "execution_count": null,
   "id": "ed2c3410-fe83-432e-ab87-9f4513fa8d8b",
   "metadata": {},
   "outputs": [],
   "source": [
    "! eups list -s | grep LOCAL"
   ]
  },
  {
   "cell_type": "code",
   "execution_count": null,
   "id": "70918d81-0cf6-4b0a-8f61-f5e5bec5b0e7",
   "metadata": {},
   "outputs": [],
   "source": [
    "! eups list -s lsst_distrib"
   ]
  },
  {
   "cell_type": "code",
   "execution_count": null,
   "id": "ce6aa72f-2f5d-4b84-b76a-e5afc7828e07",
   "metadata": {},
   "outputs": [],
   "source": [
    "# general python packages\n",
    "import numpy as np\n",
    "import matplotlib.pyplot as plt\n",
    "import matplotlib as mpl\n",
    "from astropy.visualization import ZScaleInterval, LinearStretch, ImageNormalize\n",
    "\n",
    "\n",
    "from matplotlib.patches import Polygon\n",
    "from matplotlib.collections import PatchCollection\n",
    "\n",
    "from matplotlib.colors import ListedColormap\n",
    "\n",
    "# LSST packages\n",
    "from lsst.daf.butler import Butler\n",
    "import lsst.geom as geom\n",
    "\n",
    "# allow interactive plots\n",
    "#%matplotlib widget\n",
    "%matplotlib inline\n",
    "\n",
    "# default plot style is accessible\n",
    "plt.style.use('tableau-colorblind10')\n",
    "import seaborn as sns"
   ]
  },
  {
   "cell_type": "code",
   "execution_count": null,
   "id": "588c0e0d-fae8-46c3-a258-a64ef076445b",
   "metadata": {},
   "outputs": [],
   "source": [
    "# A repo which exists at the USDF, contains data from various instruments and\n",
    "REPO = '/repo/embargo'\n",
    "\n",
    "from lsst.daf.butler import Butler\n",
    "from pprint import pprint\n",
    "\n",
    "# Here we specify a default collection to use\n",
    "#my_collection = \"LATISS/runs/AUXTEL_DRP_IMAGING_2023-11A-10A-09AB-08ABC-07AB-05AB/w_2023_46/PREOPS-4553\"\n",
    "my_collection = \"LATISS/runs/AUXTEL_DRP_IMAGING_20230509_20240201/w_2024_05/PREOPS-4871\"\n",
    "butler = Butler(REPO, collections=my_collection)\n",
    "registry = butler.registry"
   ]
  },
  {
   "cell_type": "code",
   "execution_count": null,
   "id": "b02a978f-a95f-40c7-b9dc-920c576db844",
   "metadata": {},
   "outputs": [],
   "source": [
    "list(butler.registry.queryDimensionRecords('detector', where=\"instrument='LATISS' AND detector.id IN (0..8)\"))"
   ]
  },
  {
   "cell_type": "markdown",
   "id": "9e212fa7-8be2-4874-b534-9d6e0918fa74",
   "metadata": {},
   "source": [
    "### access to skymap\n",
    "\n",
    "https://github.com/sylvielsstfr/MyDP0LSS/blob/main/myDP0.2/TrackAndPatch/PlotTractAndPatchs_butler.ipynb"
   ]
  },
  {
   "cell_type": "code",
   "execution_count": null,
   "id": "62e69b18-d122-488b-9f62-3fc5e2342279",
   "metadata": {},
   "outputs": [],
   "source": [
    "def get_corners_radec(wcs, bbox):\n",
    "    \"\"\"\n",
    "    Return the corners in RA,Dec in degrees given the WCS and bounding box for an image.\n",
    "\n",
    "    Parameters\n",
    "    ----------\n",
    "    wcs: image WCS returned by the Butler\n",
    "    bbox: bounding box returned by the Butler\n",
    "\n",
    "    Returns\n",
    "    -------\n",
    "    corners_ra, corners_dec in decimal degrees\n",
    "    \"\"\"\n",
    "\n",
    "    corners_x = [bbox.beginX, bbox.beginX, bbox.endX, bbox.endX]\n",
    "    corners_y = [bbox.beginY, bbox.endY, bbox.endY, bbox.beginY]\n",
    "    corners_ra = []\n",
    "    corners_dec = []\n",
    "    for i in range(4):\n",
    "        radec = wcs.pixelToSky(corners_x[i], corners_y[i])\n",
    "        corners_ra.append(radec.getRa().asDegrees())\n",
    "        corners_dec.append(radec.getDec().asDegrees())\n",
    "    \n",
    "    return corners_ra, corners_dec"
   ]
  },
  {
   "cell_type": "markdown",
   "id": "a7587b10-c178-4537-9c34-60867b69fa01",
   "metadata": {},
   "source": [
    "## Config"
   ]
  },
  {
   "cell_type": "code",
   "execution_count": null,
   "id": "c2bca87f-8b3a-44ee-afa5-5b8e0b8f9b9d",
   "metadata": {
    "tags": []
   },
   "outputs": [],
   "source": [
    "datasetRefs = butler.registry.queryDatasets(datasetType='skyMap', collections=my_collection, where= \"instrument='LATISS'\")"
   ]
  },
  {
   "cell_type": "code",
   "execution_count": null,
   "id": "70cc3c91-c505-48aa-aec2-f1f8b342b127",
   "metadata": {},
   "outputs": [],
   "source": [
    "for i, ref in enumerate(datasetRefs):\n",
    "    pprint(ref)\n",
    "    skymap_id = ref.dataId[\"skymap\"]\n",
    "    if skymap_id ==  'latiss_v1':\n",
    "        skymap = ref"
   ]
  },
  {
   "cell_type": "code",
   "execution_count": null,
   "id": "0e749eb3-5a4c-430f-9547-148ffb974b4b",
   "metadata": {},
   "outputs": [],
   "source": [
    "skymap = butler.get(ref)"
   ]
  },
  {
   "cell_type": "code",
   "execution_count": null,
   "id": "5b00dd9c-d87b-4c0e-9811-4cdbb06f6d76",
   "metadata": {},
   "outputs": [],
   "source": [
    "my_tracts = [ 5616,5634,5615,10644,383,8188,3863,455,452,5839,10643,382]"
   ]
  },
  {
   "cell_type": "code",
   "execution_count": null,
   "id": "a88df013-ca76-4aa3-b47f-e1e0537979ca",
   "metadata": {},
   "outputs": [],
   "source": [
    "#from lsst.daf.butler import Butler\n",
    "#butler = Butler('SMALL_HSC')\n",
    "skymap = butler.get('skyMap', skymap='latiss_v1', collections=my_collection)\n",
    "tractInfo = skymap.generateTract(5616)\n",
    "#patch = tractInfo[41]\n",
    "#patch.getIndex()"
   ]
  },
  {
   "cell_type": "code",
   "execution_count": null,
   "id": "cb8af27c-ce92-464d-b17d-c8b7135e4ad0",
   "metadata": {},
   "outputs": [],
   "source": [
    "#for patch in tractInfo:\n",
    "#    print(patch.getSequentialIndex())"
   ]
  },
  {
   "cell_type": "code",
   "execution_count": null,
   "id": "a466bd42-382c-473a-8d4f-1117afaa52d9",
   "metadata": {},
   "outputs": [],
   "source": [
    "# Load data (deserialize)\n",
    "import pickle\n",
    "with open('../data/202402/Latiss_tractspatchs_202402.pickle', 'rb') as handle:\n",
    "    tracts_patchs_dict = pickle.load(handle)"
   ]
  },
  {
   "cell_type": "code",
   "execution_count": null,
   "id": "d716c112-aec6-40a5-9bfa-1d379327a57c",
   "metadata": {},
   "outputs": [],
   "source": [
    "tracts_patchs_dict"
   ]
  },
  {
   "cell_type": "code",
   "execution_count": null,
   "id": "1cbd1adb-fcd4-4527-a30f-52e64ae79156",
   "metadata": {},
   "outputs": [],
   "source": [
    "list_of_tracts = list(tracts_patchs_dict.keys())\n",
    "list_of_tracts"
   ]
  },
  {
   "cell_type": "code",
   "execution_count": null,
   "id": "8c81ef60-4e7a-4592-9e89-6b5ab9884d57",
   "metadata": {},
   "outputs": [],
   "source": [
    "npatches = 0\n",
    "for itract in list_of_tracts:\n",
    "    npatches += len(tracts_patchs_dict[itract])\n",
    "print(npatches)    "
   ]
  },
  {
   "cell_type": "code",
   "execution_count": null,
   "id": "151d6922-eeac-4a08-9c6c-8caf29f510ac",
   "metadata": {},
   "outputs": [],
   "source": [
    "import numpy as np\n",
    "\n",
    "import matplotlib.pyplot as plt\n",
    "import matplotlib\n",
    "from matplotlib.patches import Polygon\n",
    "from matplotlib.collections import PatchCollection\n",
    "\n",
    "numTracts=0\n",
    "# collection of polygons\n",
    "patches = [] # container of all polygons\n",
    "\n",
    "\n",
    "tract_polygon_dict = {}\n",
    "tract_ra_dict = {}\n",
    "tract_dec_dict = {}\n",
    "\n",
    "# loop on tracts\n",
    "#---------------\n",
    "for tractInfo in skymap:\n",
    "    tractID = tractInfo.getId()\n",
    "    if tractID not in list_of_tracts:\n",
    "        continue\n",
    "    numTracts+=1  \n",
    "\n",
    "    # container for each tract\n",
    "    container_polygons_fortract = []\n",
    "    container_ra_fortract = []\n",
    "    container_dec_fortract = []\n",
    "\n",
    "\n",
    "    # loop on patch\n",
    "    #--------------\n",
    "    for patch in tractInfo:\n",
    "        patchID = patch.getSequentialIndex()\n",
    "        if patchID not in tracts_patchs_dict[tractID]:\n",
    "            continue\n",
    "        ibb=patch.getInnerBBox()\n",
    "        tWCS=tractInfo.getWcs()\n",
    "        corners = []\n",
    "        # loop on the 4 corners\n",
    "        for icorn,corner in enumerate(ibb.getCorners()):\n",
    "            p = geom.Point2D(corner.getX(), corner.getY())\n",
    "            coord = tWCS.pixelToSky(p)\n",
    "            corners.append([coord.getRa().asDegrees(), coord.getDec().asDegrees()])\n",
    "            container_ra_fortract.append(coord.getRa().asDegrees()) \n",
    "            container_dec_fortract.append(coord.getDec().asDegrees()) \n",
    "        #print(f\"==={numTracts}==={tractID}:{patchID}==========\")    \n",
    "        corners_array = np.array(corners)\n",
    "        corners_array = np.append(corners_array,[corners_array[0]],axis=0)\n",
    "        polygon = Polygon(corners_array,closed=True)\n",
    "        patches.append(polygon)\n",
    "        container_polygons_fortract.append(polygon)\n",
    "        \n",
    "        \n",
    "    tract_polygon_dict[tractID] = container_polygons_fortract\n",
    "    tract_ra_dict[tractID] = np.array(container_ra_fortract)\n",
    "    tract_dec_dict[tractID] = np.array(container_dec_fortract)\n",
    "        \n",
    "print(numTracts)   \n",
    "\n"
   ]
  },
  {
   "cell_type": "markdown",
   "id": "1658da9b-5ef2-442e-87d6-bc98fb8e3dc7",
   "metadata": {},
   "source": [
    "## Plot all tracts together"
   ]
  },
  {
   "cell_type": "code",
   "execution_count": null,
   "id": "366cea8b-5ca4-4fe3-bb49-ca6540ae2413",
   "metadata": {},
   "outputs": [],
   "source": [
    "fig, ax = plt.subplots(figsize=(16,16))\n",
    "\n",
    "# loop on tracts\n",
    "for itract in list_of_tracts:\n",
    "\n",
    "   \n",
    "    # extract the Polygons    \n",
    "    patches = tract_polygon_dict[itract]\n",
    "\n",
    "    # find color\n",
    "    nPatches = len(tracts_patchs_dict[itract])\n",
    "    sns.color_palette(\"hls\", nPatches)\n",
    "    my_cmap = ListedColormap(sns.color_palette(\"hls\", nPatches))\n",
    "\n",
    "    ra = tract_ra_dict[itract]\n",
    "    dec = tract_dec_dict[itract]\n",
    "    Xmin = ra.min()\n",
    "    Xmax = ra.max()\n",
    "    Ymin = dec.min()\n",
    "    Ymax = dec.max()\n",
    "    \n",
    "    p = PatchCollection(patches, cmap=mpl.cm.jet, alpha=0.4)\n",
    "    #p = PatchCollection(patches, cmap=my_cmap, alpha=1)\n",
    "\n",
    "    colors = 50*np.random.rand(len(patches))\n",
    "    p.set_array(np.array(colors))\n",
    "\n",
    "    ax.add_collection(p)  \n",
    "\n",
    "ax.set_xlim([0,300.])\n",
    "ax.set_ylim([-80., 10.])\n",
    "\n",
    "title = f\"AUXTEL 2023-24 : tract {itract}, npatches{nPatches}\"\n",
    "ax.set_title(title)\n",
    "ax.set_xlabel(\"ra\")\n",
    "ax.set_ylabel(\"dec\")\n",
    "#plt.gca().set_aspect('equal')\n",
    "ax.axis('equal')\n",
    "ax.grid()\n",
    "plt.show()"
   ]
  },
  {
   "cell_type": "markdown",
   "id": "99fb72df-28a2-414f-a7d8-300ba417c52c",
   "metadata": {},
   "source": [
    "## Plot tract One by One"
   ]
  },
  {
   "cell_type": "code",
   "execution_count": null,
   "id": "41c2e51a-6a0b-44c3-a162-f9719f318c81",
   "metadata": {},
   "outputs": [],
   "source": [
    "# loop on tracts\n",
    "for itract in list_of_tracts:\n",
    "\n",
    "   \n",
    "    # extract the Polygons    \n",
    "    patches = tract_polygon_dict[itract]\n",
    "\n",
    "    # find color\n",
    "    nPatches = len(tracts_patchs_dict[itract])\n",
    "    sns.color_palette(\"hls\", nPatches)\n",
    "    my_cmap = ListedColormap(sns.color_palette(\"hls\", nPatches))\n",
    "\n",
    "    ra = tract_ra_dict[itract]\n",
    "    dec = tract_dec_dict[itract]\n",
    "    Xmin = ra.min()\n",
    "    Xmax = ra.max()\n",
    "    Ymin = dec.min()\n",
    "    Ymax = dec.max()\n",
    "    \n",
    "\n",
    "    fig, ax = plt.subplots(figsize=(6,6))\n",
    "    #p = PatchCollection(patches, cmap=mpl.cm.jet, alpha=0.4)\n",
    "    p = PatchCollection(patches, cmap=my_cmap, alpha=1)\n",
    "\n",
    "    #colors =   my_cmap.colors\n",
    "    #p.set_array(np.array(colors))\n",
    "    colors = 64*np.random.rand(len(patches))\n",
    "    p.set_array(np.array(colors))\n",
    "\n",
    "    ax.add_collection(p)  \n",
    "\n",
    "    ax.set_xlim([Xmin,Xmax])\n",
    "    ax.set_ylim([Ymin, Ymax])\n",
    "\n",
    "    title = f\"AUXTEL 2023-24 : tract {itract}, npatches{nPatches}\"\n",
    "    ax.set_title(title)\n",
    "    ax.set_xlabel(\"ra\")\n",
    "    ax.set_ylabel(\"dec\")\n",
    "    #plt.gca().set_aspect('equal')\n",
    "    ax.axis('equal')\n",
    "    ax.grid()\n",
    "    plt.show()"
   ]
  },
  {
   "cell_type": "code",
   "execution_count": null,
   "id": "4573155f-957b-403e-ae41-9d389019682a",
   "metadata": {},
   "outputs": [],
   "source": []
  }
 ],
 "metadata": {
  "kernelspec": {
   "display_name": "LSST",
   "language": "python",
   "name": "lsst"
  },
  "language_info": {
   "codemirror_mode": {
    "name": "ipython",
    "version": 3
   },
   "file_extension": ".py",
   "mimetype": "text/x-python",
   "name": "python",
   "nbconvert_exporter": "python",
   "pygments_lexer": "ipython3",
   "version": "3.11.7"
  }
 },
 "nbformat": 4,
 "nbformat_minor": 5
}
