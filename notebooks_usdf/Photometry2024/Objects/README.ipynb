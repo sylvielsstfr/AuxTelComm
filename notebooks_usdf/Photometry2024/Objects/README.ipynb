{
 "cells": [
  {
   "cell_type": "markdown",
   "id": "43532681-cac2-49cc-b28e-d1da8eee39b5",
   "metadata": {},
   "source": [
    "# Readme on Objects\n",
    "\n",
    "- author Sylvie Dagoret-Campagne\n",
    "- affiliation : IJCLab/IN2P3/CNRS\n",
    "- creation date : 2024-03-05\n",
    "- last update : 2024-03-05"
   ]
  },
  {
   "cell_type": "code",
   "execution_count": 3,
   "id": "383968b3-6f11-41f7-b747-e41509e99c99",
   "metadata": {
    "execution": {
     "iopub.execute_input": "2024-03-05T09:42:17.683296Z",
     "iopub.status.busy": "2024-03-05T09:42:17.682843Z",
     "iopub.status.idle": "2024-03-05T09:42:17.917292Z",
     "shell.execute_reply": "2024-03-05T09:42:17.916801Z",
     "shell.execute_reply.started": "2024-03-05T09:42:17.683276Z"
    }
   },
   "outputs": [
    {
     "name": "stdout",
     "output_type": "stream",
     "text": [
      "AnalyseObjects.ipynb  ExtractPhotometricObjectTables.ipynb  README.ipynb\n"
     ]
    }
   ],
   "source": [
    "!ls *.ipynb"
   ]
  },
  {
   "cell_type": "markdown",
   "id": "be3dbb1f-4afa-4b3d-864a-64505e89604b",
   "metadata": {},
   "source": [
    "## Extract the table of objects\n",
    "\n",
    "- [ExtractPhotometricObjectTables.ipynb](ExtractPhotometricObjectTables.ipynb) : Extract the objects and build a table of all objects in a single file. Moreoer it generate a file ``Latiss_tractspatchs_202402.pickle``containing the list of tracts and patches used in the observations.  It plots the observations on a sky map."
   ]
  },
  {
   "cell_type": "markdown",
   "id": "bdadc86c-1801-48e1-838b-b983aea1e3dd",
   "metadata": {},
   "source": [
    "- [AnalyseObjects.ipynb](AnalyseObjects.ipynb) : Make simple analysis of the objects"
   ]
  },
  {
   "cell_type": "code",
   "execution_count": null,
   "id": "cb46ce74-314c-494d-bb96-190e97ef92f6",
   "metadata": {},
   "outputs": [],
   "source": []
  }
 ],
 "metadata": {
  "kernelspec": {
   "display_name": "LSST",
   "language": "python",
   "name": "lsst"
  },
  "language_info": {
   "codemirror_mode": {
    "name": "ipython",
    "version": 3
   },
   "file_extension": ".py",
   "mimetype": "text/x-python",
   "name": "python",
   "nbconvert_exporter": "python",
   "pygments_lexer": "ipython3",
   "version": "3.11.7"
  }
 },
 "nbformat": 4,
 "nbformat_minor": 5
}
