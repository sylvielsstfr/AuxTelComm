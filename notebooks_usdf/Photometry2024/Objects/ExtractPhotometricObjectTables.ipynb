{
 "cells": [
  {
   "cell_type": "markdown",
   "id": "0b8c2138-5194-4d03-8b77-be24e2cc8ee3",
   "metadata": {},
   "source": [
    "# Extract ObjectTables Results in  OGA"
   ]
  },
  {
   "cell_type": "markdown",
   "id": "740e34fb-3fef-45a8-941b-c229742ab016",
   "metadata": {},
   "source": [
    " work with Weakly_2023_44\n",
    "- use jupyter kernel LSST\n",
    "\n",
    "\n",
    "- author : Sylvie Dagoret-Campagne\n",
    "- affiliation : IJCLab\n",
    "- creation date : 2023/12/21\n",
    "- update : 2023/12/22\n"
   ]
  },
  {
   "cell_type": "code",
   "execution_count": null,
   "id": "ed2c3410-fe83-432e-ab87-9f4513fa8d8b",
   "metadata": {},
   "outputs": [],
   "source": [
    "! eups list -s | grep LOCAL"
   ]
  },
  {
   "cell_type": "code",
   "execution_count": null,
   "id": "70918d81-0cf6-4b0a-8f61-f5e5bec5b0e7",
   "metadata": {},
   "outputs": [],
   "source": [
    "! eups list -s lsst_distrib"
   ]
  },
  {
   "cell_type": "code",
   "execution_count": null,
   "id": "f8d9cfca-5881-48c1-b2cb-0f794a2e4091",
   "metadata": {
    "tags": []
   },
   "outputs": [],
   "source": [
    "import lsst.daf.butler as dafButler"
   ]
  },
  {
   "cell_type": "code",
   "execution_count": null,
   "id": "1ceacda9-20b0-4d77-a0d2-572c957ce273",
   "metadata": {
    "tags": []
   },
   "outputs": [],
   "source": [
    "import numpy as np\n",
    "import matplotlib.pyplot as plt\n",
    "%matplotlib inline\n",
    "from mpl_toolkits.axes_grid1 import make_axes_locatable\n",
    "from matplotlib.colors import LogNorm,SymLogNorm\n",
    "\n",
    "\n",
    "import matplotlib.ticker                         # here's where the formatter is\n",
    "from matplotlib.ticker import (MultipleLocator, FormatStrFormatter,\n",
    "                               AutoMinorLocator)\n",
    "\n",
    "from astropy.visualization import (MinMaxInterval, SqrtStretch,ZScaleInterval,PercentileInterval,\n",
    "                                   ImageNormalize,imshow_norm)\n",
    "from astropy.visualization.stretch import SinhStretch, LinearStretch,AsinhStretch,LogStretch\n",
    "\n",
    "from astropy.io import fits\n",
    "\n",
    "import pandas as pd\n",
    "\n",
    "import matplotlib.ticker                         # here's where the formatter is\n",
    "import os\n",
    "import re\n",
    "import pandas as pd\n",
    "\n",
    "plt.rcParams[\"figure.figsize\"] = (4,3)\n",
    "plt.rcParams[\"axes.labelsize\"] = 'xx-large'\n",
    "plt.rcParams['axes.titlesize'] = 'xx-large'\n",
    "plt.rcParams['xtick.labelsize']= 'xx-large'\n",
    "plt.rcParams['ytick.labelsize']= 'xx-large'"
   ]
  },
  {
   "cell_type": "code",
   "execution_count": null,
   "id": "34c92544-f2fd-4287-b852-e2ccb9a3b510",
   "metadata": {
    "tags": []
   },
   "outputs": [],
   "source": [
    "from matplotlib.ticker import (MultipleLocator, FormatStrFormatter,\n",
    "                               AutoMinorLocator)\n",
    "\n",
    "from astropy.visualization import (MinMaxInterval, SqrtStretch,ZScaleInterval,PercentileInterval,\n",
    "                                   ImageNormalize,imshow_norm)\n",
    "from astropy.visualization.stretch import SinhStretch, LinearStretch,AsinhStretch,LogStretch\n",
    "\n",
    "from astropy.time import Time\n"
   ]
  },
  {
   "cell_type": "code",
   "execution_count": null,
   "id": "77aa5733-0a46-49eb-b26e-d3bb6195cc3d",
   "metadata": {
    "tags": []
   },
   "outputs": [],
   "source": [
    "# LSST Display\n",
    "import lsst.afw.display as afwDisplay\n",
    "afwDisplay.setDefaultBackend('matplotlib')"
   ]
  },
  {
   "cell_type": "code",
   "execution_count": null,
   "id": "b7cea198-6f3c-4a87-8877-fdf8e4d73c26",
   "metadata": {
    "tags": []
   },
   "outputs": [],
   "source": [
    "transform = AsinhStretch() + PercentileInterval(99.)"
   ]
  },
  {
   "cell_type": "code",
   "execution_count": null,
   "id": "c8b31810-780c-43f2-92a1-af05fddd65e1",
   "metadata": {},
   "outputs": [],
   "source": [
    "pd.options.display.max_columns = None\n",
    "#pd.options.display.max_rows = None"
   ]
  },
  {
   "cell_type": "markdown",
   "id": "17f98db2-2ea8-4546-87a9-f2cd11d67ec7",
   "metadata": {},
   "source": [
    "## Configuration"
   ]
  },
  {
   "cell_type": "code",
   "execution_count": null,
   "id": "1c81d99a-5e91-4ba1-ba4a-c66b37905b98",
   "metadata": {
    "tags": []
   },
   "outputs": [],
   "source": [
    "#repo =  \"/sdf/group/rubin/repo/main\"\n",
    "repo = \"/sdf/group/rubin/repo/oga/\"\n",
    "butler = dafButler.Butler(repo)\n",
    "registry = butler.registry"
   ]
  },
  {
   "cell_type": "code",
   "execution_count": null,
   "id": "0fffaeef-599c-4469-8c04-67252827cb8d",
   "metadata": {},
   "outputs": [],
   "source": [
    "fileobj_out=\"objectTable_202312.csv\"\n",
    "filetractpatch_out = 'Latiss_tractspatchs_202312.pickle'"
   ]
  },
  {
   "cell_type": "markdown",
   "id": "20dbb8da-3a08-4b4f-9437-4bf7f28c1782",
   "metadata": {},
   "source": [
    "## Give the collection"
   ]
  },
  {
   "cell_type": "code",
   "execution_count": null,
   "id": "9629ea29-8ab4-4062-aed1-e16d62dc90c4",
   "metadata": {
    "tags": []
   },
   "outputs": [],
   "source": [
    "my_collection = \"LATISS/runs/AUXTEL_DRP_IMAGING_2023-11A-10A-09AB-08ABC-07AB-05AB/w_2023_46/PREOPS-4553\""
   ]
  },
  {
   "cell_type": "markdown",
   "id": "a7587b10-c178-4537-9c34-60867b69fa01",
   "metadata": {},
   "source": [
    "## Config"
   ]
  },
  {
   "cell_type": "markdown",
   "id": "a72c2c07-ff40-49d9-a36d-5277cbbc5cec",
   "metadata": {},
   "source": [
    "# object"
   ]
  },
  {
   "cell_type": "code",
   "execution_count": null,
   "id": "c2bca87f-8b3a-44ee-afa5-5b8e0b8f9b9d",
   "metadata": {
    "tags": []
   },
   "outputs": [],
   "source": [
    "datasetRefs = butler.registry.queryDatasets(datasetType='objectTable', collections=my_collection, where= \"instrument='LATISS'\")"
   ]
  },
  {
   "cell_type": "code",
   "execution_count": null,
   "id": "a01bb1b1-a2fe-4060-85ff-fb9e9c5dbb74",
   "metadata": {
    "tags": []
   },
   "outputs": [],
   "source": [
    "all_ref_for_src = []\n",
    "all_objectsTables = []\n",
    "\n",
    "for i, ref in enumerate(datasetRefs):\n",
    "    all_ref_for_src.append(ref.dataId)\n",
    "    print(\"========================datasetType = objectTable ============================================\")\n",
    "    print(\"fullId..................:\",ref.dataId.full)\n",
    "    print(\"skymap...................:\",ref.dataId[\"skymap\"])\n",
    "    print(\"tract....................:\",ref.dataId[\"tract\"])\n",
    "    print(\"patch....................:\",ref.dataId[\"patch\"])\n",
    "    print(\"run......................:\",ref.run)\n",
    "    \n",
    "    df_tab=  butler.get(ref,collections=my_collection)\n",
    "\n",
    "    N=len(df_tab)\n",
    "    df_tab['tabid_idx']= (i*np.ones(N)).astype(int)\n",
    "    \n",
    "    all_objectsTables.append(df_tab) \n",
    "    "
   ]
  },
  {
   "cell_type": "code",
   "execution_count": null,
   "id": "0f3b8830-40ce-47fa-8f61-dc4477240dbe",
   "metadata": {
    "tags": []
   },
   "outputs": [],
   "source": [
    "len(all_objectsTables)"
   ]
  },
  {
   "cell_type": "code",
   "execution_count": null,
   "id": "adb1ca46-bde5-4db5-b8bb-2b53dce29366",
   "metadata": {
    "tags": []
   },
   "outputs": [],
   "source": [
    "all_objectsTables[0]"
   ]
  },
  {
   "cell_type": "code",
   "execution_count": null,
   "id": "b16c42bc-abe0-4a90-abd2-d2012421b104",
   "metadata": {
    "tags": []
   },
   "outputs": [],
   "source": [
    "df=pd.concat(all_objectsTables)"
   ]
  },
  {
   "cell_type": "code",
   "execution_count": null,
   "id": "e4b97428-1b8e-4990-83fc-7d06f2b766d6",
   "metadata": {
    "tags": []
   },
   "outputs": [],
   "source": [
    "df"
   ]
  },
  {
   "cell_type": "code",
   "execution_count": null,
   "id": "a4afe23a-71ae-4c4e-abd7-591bc9d939c8",
   "metadata": {
    "tags": []
   },
   "outputs": [],
   "source": [
    "df.to_csv(fileobj_out)"
   ]
  },
  {
   "cell_type": "code",
   "execution_count": null,
   "id": "dbf845eb-7c07-4344-a440-f7af1bffd08a",
   "metadata": {
    "tags": []
   },
   "outputs": [],
   "source": [
    "#print(df.columns.tolist())"
   ]
  },
  {
   "cell_type": "markdown",
   "id": "bc1e71f0-12e9-4f2d-8b42-c6964a83a591",
   "metadata": {},
   "source": [
    "## List of patch and tract"
   ]
  },
  {
   "cell_type": "code",
   "execution_count": null,
   "id": "1bce5125-e40f-419c-9d00-a8ac1f2a78c7",
   "metadata": {},
   "outputs": [],
   "source": [
    "tracts_nums = df[\"tract\"].unique()\n",
    "tracts_nums"
   ]
  },
  {
   "cell_type": "code",
   "execution_count": null,
   "id": "70cc3c91-c505-48aa-aec2-f1f8b342b127",
   "metadata": {},
   "outputs": [],
   "source": [
    "tracts_patchs_dict = {}\n",
    "for tract_num in tracts_nums:\n",
    "    df_tract = df[df.tract == tract_num]\n",
    "    patchs_nums = df_tract[\"patch\"].unique()\n",
    "    print(f\"{tract_num} : \",patchs_nums)\n",
    "    tracts_patchs_dict[tract_num] = patchs_nums "
   ]
  },
  {
   "cell_type": "code",
   "execution_count": null,
   "id": "151d6922-eeac-4a08-9c6c-8caf29f510ac",
   "metadata": {},
   "outputs": [],
   "source": [
    "import pickle\n",
    "# Store data (serialize)\n",
    "with open(filetractpatch_out, 'wb') as handle:\n",
    "    pickle.dump(tracts_patchs_dict, handle, protocol=pickle.HIGHEST_PROTOCOL)\n"
   ]
  },
  {
   "cell_type": "markdown",
   "id": "567cfc1a-611c-4229-9de2-bc0ba58652b7",
   "metadata": {},
   "source": [
    "## Coordinates"
   ]
  },
  {
   "cell_type": "code",
   "execution_count": null,
   "id": "c03c3844-1da2-440d-abfd-a082aeb4ad15",
   "metadata": {},
   "outputs": [],
   "source": [
    "df_sel = df[['coord_ra','coord_dec','tract','patch']]"
   ]
  },
  {
   "cell_type": "code",
   "execution_count": null,
   "id": "5ef559c7-60da-44f6-b327-4926c1cf0635",
   "metadata": {},
   "outputs": [],
   "source": [
    "df_sel"
   ]
  },
  {
   "cell_type": "code",
   "execution_count": null,
   "id": "536ffdab-1693-43b8-a8e7-01268c22eb01",
   "metadata": {},
   "outputs": [],
   "source": [
    "df_sel.columns"
   ]
  },
  {
   "cell_type": "code",
   "execution_count": null,
   "id": "a9840df1-8540-4b01-b736-a00bbf9fc652",
   "metadata": {},
   "outputs": [],
   "source": [
    "df_sel.plot.scatter(x='coord_ra',y='coord_dec',c='tract',colormap='tab20',grid=True,title=\"AUXTEL photometry 2023\")"
   ]
  },
  {
   "cell_type": "code",
   "execution_count": null,
   "id": "ee34b411-6fbf-4f1f-ad24-1291881d6198",
   "metadata": {},
   "outputs": [],
   "source": [
    "import astropy.coordinates as coord\n",
    "import astropy.units as u"
   ]
  },
  {
   "cell_type": "code",
   "execution_count": null,
   "id": "7c9b4dfd-1746-4646-a3ce-84afda818387",
   "metadata": {},
   "outputs": [],
   "source": [
    "ra = coord.Angle(df_sel[\"coord_ra\"].values, unit=u.degree)\n",
    "dec = coord.Angle(df_sel[\"coord_dec\"].values, unit=u.degree)"
   ]
  },
  {
   "cell_type": "code",
   "execution_count": null,
   "id": "2c55652b-0e7d-40db-bb10-2d3ce6f41410",
   "metadata": {},
   "outputs": [],
   "source": [
    "ra  = ra.wrap_at(180*u.degree).radian\n",
    "dec = dec.radian"
   ]
  },
  {
   "cell_type": "code",
   "execution_count": null,
   "id": "c8a7fc56-4a0d-4fb4-805d-f6c397ad5249",
   "metadata": {},
   "outputs": [],
   "source": [
    "df_sel[\"RA\"] = ra\n",
    "df_sel[\"DEC\"] = dec"
   ]
  },
  {
   "cell_type": "code",
   "execution_count": null,
   "id": "cd68d524-ca9f-4d52-be20-652eed9e93ef",
   "metadata": {},
   "outputs": [],
   "source": [
    "fig = plt.figure()\n",
    "ax = fig.add_subplot(111, projection=\"aitoff\")\n",
    "df_sel.plot.scatter(x='RA',y='DEC',c='tract',colormap='tab20',grid=True,ax=ax,figsize=(10,8),title='AUXTEL photometry 2023')"
   ]
  },
  {
   "cell_type": "code",
   "execution_count": null,
   "id": "28159b0b-4383-4b9e-b23e-2550c808cfaa",
   "metadata": {},
   "outputs": [],
   "source": []
  }
 ],
 "metadata": {
  "kernelspec": {
   "display_name": "LSST",
   "language": "python",
   "name": "lsst"
  },
  "language_info": {
   "codemirror_mode": {
    "name": "ipython",
    "version": 3
   },
   "file_extension": ".py",
   "mimetype": "text/x-python",
   "name": "python",
   "nbconvert_exporter": "python",
   "pygments_lexer": "ipython3",
   "version": "3.11.4"
  }
 },
 "nbformat": 4,
 "nbformat_minor": 5
}
