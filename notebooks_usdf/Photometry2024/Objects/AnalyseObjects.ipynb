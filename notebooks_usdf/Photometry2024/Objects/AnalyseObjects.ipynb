{
 "cells": [
  {
   "cell_type": "markdown",
   "id": "8608d6fb-20fc-4b07-ba88-74e9b45cdf25",
   "metadata": {},
   "source": [
    "# Analyse Objects"
   ]
  },
  {
   "cell_type": "markdown",
   "id": "667ba03e-ddfb-47fd-bee3-3824f9be7ae5",
   "metadata": {},
   "source": [
    " work with Weakly_2024_07\n",
    "- use jupyter kernel LSST\n",
    "\n",
    "\n",
    "- author : Sylvie Dagoret-Campagne\n",
    "- affiliation : IJCLab\n",
    "- creation date : 2023/12/29\n",
    "- update : 2024/03/07  \n"
   ]
  },
  {
   "cell_type": "code",
   "execution_count": null,
   "id": "058012ec-9888-4b97-9fe2-57595e1bc0e7",
   "metadata": {},
   "outputs": [],
   "source": [
    "import numpy as np\n",
    "import matplotlib.pyplot as plt\n",
    "%matplotlib inline\n",
    "from mpl_toolkits.axes_grid1 import make_axes_locatable\n",
    "from matplotlib.colors import LogNorm,SymLogNorm\n",
    "\n",
    "\n",
    "import matplotlib.ticker                         # here's where the formatter is\n",
    "from matplotlib.ticker import (MultipleLocator, FormatStrFormatter,\n",
    "                               AutoMinorLocator)\n",
    "from astropy.visualization import (MinMaxInterval, SqrtStretch,ZScaleInterval,PercentileInterval,\n",
    "                                   ImageNormalize,imshow_norm)\n",
    "from astropy.visualization.stretch import SinhStretch, LinearStretch,AsinhStretch,LogStretch\n",
    "from astropy.io import fits\n",
    "import astropy.coordinates as coord\n",
    "import astropy.units as u\n",
    "import pandas as pd\n",
    "\n",
    "import matplotlib.ticker                         # here's where the formatter is\n",
    "import os\n",
    "import re\n",
    "import pandas as pd\n",
    "\n",
    "plt.rcParams[\"figure.figsize\"] = (4,3)\n",
    "plt.rcParams[\"axes.labelsize\"] = 'xx-large'\n",
    "plt.rcParams['axes.titlesize'] = 'xx-large'\n",
    "plt.rcParams['xtick.labelsize']= 'xx-large'\n",
    "plt.rcParams['ytick.labelsize']= 'xx-large'"
   ]
  },
  {
   "cell_type": "code",
   "execution_count": null,
   "id": "907f5257-e80b-4336-b41f-5bf3745571bf",
   "metadata": {},
   "outputs": [],
   "source": [
    "# december 2023 w_2023_44\n",
    "fileobjects_in = \"objectTable_202312.csv\"\n",
    "fileobjects_out = \"objectTableselected_202312.csv\"\n",
    "# Feb 2024 w_2024_07\n",
    "fileobjects_in = \"objectTable_202402.csv\"\n",
    "fileobjects_out = \"objectTableselected_202402.csv\""
   ]
  },
  {
   "cell_type": "code",
   "execution_count": null,
   "id": "3c5a1ee0-8a7f-4729-bf53-9f6089253ee6",
   "metadata": {},
   "outputs": [],
   "source": [
    "#tract_selected = 5615\n",
    "#patches_selected = [294, 313]\n",
    "\n",
    "\n",
    "tract_selected = 3864\n",
    "patches_selected = [236, 237]"
   ]
  },
  {
   "cell_type": "code",
   "execution_count": null,
   "id": "c751cb98-5214-4e1a-84de-59837b4beb77",
   "metadata": {},
   "outputs": [],
   "source": [
    "suptitle = f\"Objects tract = {tract_selected}\""
   ]
  },
  {
   "cell_type": "code",
   "execution_count": null,
   "id": "a4c4bc49-f65a-441c-8f51-82a27f7887d2",
   "metadata": {},
   "outputs": [],
   "source": [
    "df = pd.read_csv(fileobjects_in)"
   ]
  },
  {
   "cell_type": "code",
   "execution_count": null,
   "id": "f520bf2a-9b47-4748-9503-3896eac2dda3",
   "metadata": {},
   "outputs": [],
   "source": [
    "df"
   ]
  },
  {
   "cell_type": "code",
   "execution_count": null,
   "id": "01717b67-ecd3-4a3d-9912-fb69a7f611fe",
   "metadata": {},
   "outputs": [],
   "source": [
    "#colnames = sorted(list(df.columns))\n",
    "#for name in colnames:\n",
    "#    print(name)"
   ]
  },
  {
   "cell_type": "code",
   "execution_count": null,
   "id": "4b23eb74-c343-450f-a9ea-bff1b6603972",
   "metadata": {},
   "outputs": [],
   "source": [
    "df_sel = df[['objectId','tabid_idx','x','y','coord_ra','coord_dec','tract','patch','refExtendedness','detect_isPrimary','detect_isIsolated',\n",
    "            'g_calibFlux','g_psfFlux','g_cModelFlux','g_kronFlux',\n",
    "            'r_calibFlux','r_psfFlux','r_cModelFlux','r_kronFlux',\n",
    "            'i_calibFlux','i_psfFlux','i_cModelFlux','i_kronFlux']]"
   ]
  },
  {
   "cell_type": "code",
   "execution_count": null,
   "id": "605d0f0d-ebe5-49e2-a64d-e068ab4a1d09",
   "metadata": {},
   "outputs": [],
   "source": [
    "df_sel.dropna(axis=0,inplace = True)"
   ]
  },
  {
   "cell_type": "code",
   "execution_count": null,
   "id": "a9301c9b-afca-4997-a25b-349c58ffbda7",
   "metadata": {},
   "outputs": [],
   "source": [
    "def convert_fluxtomag(x) :\n",
    "    \"\"\"\n",
    "    The object and source catalogs store only fluxes. There are hundreds of flux-related columns, \n",
    "    and to store them also as magnitudes would be redundant, and a waste of space.\n",
    "    All flux units are nanojanskys. The AB Magnitudes Wikipedia page provides a concise resource \n",
    "    for users unfamiliar with AB magnitudes and jansky fluxes. To convert to AB magnitudes use:\n",
    "    As demonstrated in Section 2.3.2, to add columns of magnitudes after retrieving columns of flux, users can do this:\n",
    "    results_table['r_calibMag'] = -2.50 * numpy.log10(results_table['r_calibFlux']) + 31.4\n",
    "    results_table['r_cModelMag'] = -2.50 * numpy.log10(results_table['r_cModelFlux']) + 31.4\n",
    "    (from DP0 tutorial)\n",
    "    \"\"\"\n",
    "    return -2.50 * np.log10(x) + 31.4"
   ]
  },
  {
   "cell_type": "code",
   "execution_count": null,
   "id": "30914e6f-52fd-4eb3-bbc1-23ff66a89188",
   "metadata": {},
   "outputs": [],
   "source": [
    "df_sel[\"g_psfMag\"] =  df_sel['g_psfFlux'].map(convert_fluxtomag)\n",
    "df_sel[\"r_psfMag\"] =  df_sel['r_psfFlux'].map(convert_fluxtomag)\n",
    "df_sel[\"i_psfMag\"] =  df_sel['i_psfFlux'].map(convert_fluxtomag)\n",
    "#df_sel[\"gaussianMag\"] =  df_sel['gaussianFlux'].map(lambda x:-2.50 * np.log10(x) + 31.4)\n",
    "df_sel[\"g_calibMag\"] =  df_sel['g_calibFlux'].map(convert_fluxtomag)\n",
    "df_sel[\"r_calibMag\"] =  df_sel['r_calibFlux'].map(convert_fluxtomag)\n",
    "df_sel[\"i_calibMag\"] =  df_sel['i_calibFlux'].map(convert_fluxtomag)\n",
    "\n",
    "df_sel[\"g_cModelMag\"] =  df_sel['g_cModelFlux'].map(convert_fluxtomag)\n",
    "df_sel[\"r_cModelMag\"] =  df_sel['r_cModelFlux'].map(convert_fluxtomag)\n",
    "df_sel[\"i_cModelMag\"] =  df_sel['i_cModelFlux'].map(convert_fluxtomag)\n",
    "\n",
    "df_sel[\"g_kronMag\"] =  df_sel['g_kronFlux'].map(convert_fluxtomag)\n",
    "df_sel[\"r_kronMag\"] =  df_sel['r_kronFlux'].map(convert_fluxtomag)\n",
    "df_sel[\"i_kronMag\"] =  df_sel['i_kronFlux'].map(convert_fluxtomag)"
   ]
  },
  {
   "cell_type": "code",
   "execution_count": null,
   "id": "b5458f28-5032-4720-a388-636dd8c40425",
   "metadata": {},
   "outputs": [],
   "source": [
    "selection1 = df_sel['refExtendedness']==False\n",
    "selection2 = df_sel['detect_isPrimary']\n",
    "selection3 = df_sel['tract'] == tract_selected\n",
    "selection4 = df_sel['r_cModelMag'] < 16\n",
    "selection5 = df_sel['patch'] == patches_selected[0]\n",
    "selection6 = df_sel['patch'] == patches_selected[1]\n",
    "\n",
    "df_sel = df_sel[selection1 & selection2 & selection3 & selection4 ]\n",
    "#df_sel = df_sel[selection1 & selection2 & selection3 & selection4 & (selection5 | selection6) ]"
   ]
  },
  {
   "cell_type": "code",
   "execution_count": null,
   "id": "f48573a3-24d2-4149-b861-e291ebac8091",
   "metadata": {},
   "outputs": [],
   "source": [
    "df_sel.dropna(axis=0,inplace = True)"
   ]
  },
  {
   "cell_type": "code",
   "execution_count": null,
   "id": "495079c5-f71e-4741-8cdc-0b912d4dc36b",
   "metadata": {},
   "outputs": [],
   "source": [
    "fig, (ax1,ax2,ax3) = plt.subplots(1,3,figsize=(14,4))\n",
    "df_sel[\"g_psfMag\"].plot(kind=\"hist\",bins=50,range=(5,30),facecolor=\"g\",logy=True,grid=True,title=\"psfMag\",ax=ax1)\n",
    "df_sel['g_calibMag'].plot(kind=\"hist\",bins=50,range=(5,30),facecolor=\"g\",logy=True,grid=True,title=\"calibMag\",ax=ax2)\n",
    "df_sel['g_cModelMag'].plot(kind=\"hist\",bins=50,range=(5,30),facecolor=\"g\",logy=True,grid=True,title=\"cModelMag\",ax=ax3)\n",
    "plt.suptitle(suptitle,y=1.0,fontsize=16)\n",
    "plt.tight_layout()"
   ]
  },
  {
   "cell_type": "code",
   "execution_count": null,
   "id": "5b01f6a9-d1a5-4f6e-b338-c80172095f9e",
   "metadata": {},
   "outputs": [],
   "source": [
    "fig, (ax1,ax2,ax3) = plt.subplots(1,3,figsize=(14,4))\n",
    "df_sel[\"r_psfMag\"].plot(kind=\"hist\",bins=50,range=(5,30),facecolor=\"r\",logy=True,grid=True,title=\"psfMag\",ax=ax1)\n",
    "df_sel['r_calibMag'].plot(kind=\"hist\",bins=50,range=(5,30),facecolor=\"r\",logy=True,grid=True,title=\"calibMag\",ax=ax2)\n",
    "df_sel['r_cModelMag'].plot(kind=\"hist\",bins=50,range=(5,30),facecolor=\"r\",logy=True,grid=True,title=\"cModelMag\",ax=ax3)\n",
    "plt.suptitle(suptitle,y=1.0,fontsize=16)\n",
    "plt.tight_layout()"
   ]
  },
  {
   "cell_type": "code",
   "execution_count": null,
   "id": "af74268a-d71f-4cfe-ab98-be5ace482dad",
   "metadata": {},
   "outputs": [],
   "source": [
    "fig, (ax1,ax2,ax3) = plt.subplots(1,3,figsize=(14,4))\n",
    "df_sel[\"i_psfMag\"].plot(kind=\"hist\",bins=50,range=(5,30),facecolor=\"y\",logy=True,grid=True,title=\"psfMag\",ax=ax1)\n",
    "df_sel['i_calibMag'].plot(kind=\"hist\",bins=50,range=(5,30),facecolor=\"y\",logy=True,grid=True,title=\"calibMag\",ax=ax2)\n",
    "df_sel['i_cModelMag'].plot(kind=\"hist\",bins=50,range=(5,30),facecolor=\"y\",logy=True,grid=True,title=\"cModelMag\",ax=ax3)\n",
    "plt.suptitle(suptitle,y=1.0,fontsize=16)\n",
    "plt.tight_layout()"
   ]
  },
  {
   "cell_type": "code",
   "execution_count": null,
   "id": "52e5f78a-e202-4fc7-8aa5-8a99fce569d0",
   "metadata": {},
   "outputs": [],
   "source": [
    "fig,ax = plt.subplots(1,1,figsize=(10,10))\n",
    "df_sel.plot.scatter('coord_ra','coord_dec',c='patch',colormap='hsv',grid=True,ax=ax)\n",
    "plt.gca().set_aspect('equal')\n",
    "plt.suptitle(suptitle,fontsize=16)"
   ]
  },
  {
   "cell_type": "code",
   "execution_count": null,
   "id": "36bc38b2-e138-4e00-8b73-f2776f1b0685",
   "metadata": {},
   "outputs": [],
   "source": [
    "df_sel['coord_ra'].plot(kind=\"hist\",bins=50 ,range=(0,360),logy=True,title=\"coord_ra\",grid=True,figsize=(10,5))"
   ]
  },
  {
   "cell_type": "code",
   "execution_count": null,
   "id": "ea52f52d-785d-401e-9e2a-7f6f4cbafe08",
   "metadata": {},
   "outputs": [],
   "source": [
    "df_sel['coord_dec'].plot(kind=\"hist\",bins=50 ,range=(-90,10),logy=True,title=\"coord_dec\",grid=True,figsize=(10,5))"
   ]
  },
  {
   "cell_type": "code",
   "execution_count": null,
   "id": "7fa4a026-35fe-4972-a3c3-710fc005c771",
   "metadata": {},
   "outputs": [],
   "source": [
    "df_sel[\"patch\"].unique()"
   ]
  },
  {
   "cell_type": "code",
   "execution_count": null,
   "id": "c94f1f9b-d040-4594-ab1b-9fc87788d420",
   "metadata": {},
   "outputs": [],
   "source": [
    "df_sel = df_sel[ (selection5 | selection6) ]"
   ]
  },
  {
   "cell_type": "code",
   "execution_count": null,
   "id": "17c373fd-b077-41dc-921f-002562b56b1b",
   "metadata": {},
   "outputs": [],
   "source": [
    "df_sel.sort_values(by=[\"r_cModelMag\"] ,ascending=True, inplace=True)"
   ]
  },
  {
   "cell_type": "code",
   "execution_count": null,
   "id": "2534e796-a0c0-4ffd-ba0f-a23faa2ef611",
   "metadata": {},
   "outputs": [],
   "source": [
    "df_sel"
   ]
  },
  {
   "cell_type": "code",
   "execution_count": null,
   "id": "e3224c7f-e277-4fbc-99df-c0f657fc9633",
   "metadata": {},
   "outputs": [],
   "source": [
    "df_sel.to_csv(fileobjects_out)"
   ]
  },
  {
   "cell_type": "code",
   "execution_count": null,
   "id": "b741345f-7340-460c-9c44-5f693c8be147",
   "metadata": {},
   "outputs": [],
   "source": []
  }
 ],
 "metadata": {
  "kernelspec": {
   "display_name": "LSST",
   "language": "python",
   "name": "lsst"
  },
  "language_info": {
   "codemirror_mode": {
    "name": "ipython",
    "version": 3
   },
   "file_extension": ".py",
   "mimetype": "text/x-python",
   "name": "python",
   "nbconvert_exporter": "python",
   "pygments_lexer": "ipython3",
   "version": "3.11.7"
  }
 },
 "nbformat": 4,
 "nbformat_minor": 5
}
