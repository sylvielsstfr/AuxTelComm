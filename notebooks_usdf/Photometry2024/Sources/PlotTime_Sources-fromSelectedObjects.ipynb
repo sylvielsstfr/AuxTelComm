{
 "cells": [
  {
   "cell_type": "markdown",
   "id": "55b81efc-69c7-4929-b03c-9270ed2cbd1f",
   "metadata": {},
   "source": [
    "# Plot Source Time in Selected Objects\n",
    "\n",
    " work with Weakly_2023_44\n",
    "- use jupyter kernel LSST\n",
    "- author : Sylvie Dagoret-Campagne\n",
    "- affiliation : IJCLab\n",
    "- creation date : 2023/12/30\n",
    "- update : 2023/12/30\n"
   ]
  },
  {
   "cell_type": "code",
   "execution_count": 1,
   "id": "45c7078d-716a-4d28-a46a-b72074b4f70d",
   "metadata": {
    "execution": {
     "iopub.execute_input": "2023-12-30T20:23:49.658401Z",
     "iopub.status.busy": "2023-12-30T20:23:49.658283Z",
     "iopub.status.idle": "2023-12-30T20:23:50.226432Z",
     "shell.execute_reply": "2023-12-30T20:23:50.225926Z",
     "shell.execute_reply.started": "2023-12-30T20:23:49.658388Z"
    }
   },
   "outputs": [],
   "source": [
    "import numpy as np\n",
    "import matplotlib.pyplot as plt\n",
    "import matplotlib as mpl\n",
    "import matplotlib.cm as cm \n",
    "import matplotlib.colors as colors\n",
    "import matplotlib.cm as cmx\n",
    "import matplotlib.dates as mdates\n",
    "%matplotlib inline\n",
    "from mpl_toolkits.axes_grid1 import make_axes_locatable\n",
    "from matplotlib.colors import LogNorm\n",
    "import pandas as pd\n",
    "\n",
    "import matplotlib.ticker                         # here's where the formatter is\n",
    "import os\n",
    "import re\n",
    "import pandas as pd\n",
    "import pickle\n",
    "\n",
    "plt.rcParams[\"figure.figsize\"] = (16,10)\n",
    "plt.rcParams[\"axes.labelsize\"] = 'xx-large'\n",
    "plt.rcParams['axes.titlesize'] = 'xx-large'\n",
    "plt.rcParams['xtick.labelsize']= 'xx-large'\n",
    "plt.rcParams['ytick.labelsize']= 'xx-large'"
   ]
  },
  {
   "cell_type": "code",
   "execution_count": 2,
   "id": "fc0f03d2-5a9e-473b-99ed-934bba4c1bc1",
   "metadata": {
    "execution": {
     "iopub.execute_input": "2023-12-30T20:23:50.227662Z",
     "iopub.status.busy": "2023-12-30T20:23:50.227383Z",
     "iopub.status.idle": "2023-12-30T20:23:53.210166Z",
     "shell.execute_reply": "2023-12-30T20:23:53.209724Z",
     "shell.execute_reply.started": "2023-12-30T20:23:50.227647Z"
    }
   },
   "outputs": [],
   "source": [
    "# A repo which exists at the USDF, contains data from various instruments and\n",
    "REPO = '/repo/embargo'\n",
    "\n",
    "from lsst.daf.butler import Butler\n",
    "from pprint import pprint\n",
    "\n",
    "# Here we specify a default collection to use\n",
    "my_collection = \"LATISS/runs/AUXTEL_DRP_IMAGING_2023-11A-10A-09AB-08ABC-07AB-05AB/w_2023_46/PREOPS-4553\"\n",
    "butler = Butler(REPO, collections=my_collection)\n",
    "registry = butler.registry"
   ]
  },
  {
   "cell_type": "code",
   "execution_count": 3,
   "id": "21aad424-9125-48dc-984d-26029d7202a4",
   "metadata": {
    "execution": {
     "iopub.execute_input": "2023-12-30T20:23:53.210861Z",
     "iopub.status.busy": "2023-12-30T20:23:53.210731Z",
     "iopub.status.idle": "2023-12-30T20:23:53.226406Z",
     "shell.execute_reply": "2023-12-30T20:23:53.226004Z",
     "shell.execute_reply.started": "2023-12-30T20:23:53.210848Z"
    }
   },
   "outputs": [],
   "source": [
    "#import lsst.sphgeom\n",
    "from  lsst.geom import SpherePoint, Angle\n",
    "import lsst.sphgeom"
   ]
  },
  {
   "cell_type": "code",
   "execution_count": 4,
   "id": "41028799-75e1-4be8-84a2-de2765a760c2",
   "metadata": {
    "execution": {
     "iopub.execute_input": "2023-12-30T20:23:53.227101Z",
     "iopub.status.busy": "2023-12-30T20:23:53.226969Z",
     "iopub.status.idle": "2023-12-30T20:23:53.229924Z",
     "shell.execute_reply": "2023-12-30T20:23:53.229567Z",
     "shell.execute_reply.started": "2023-12-30T20:23:53.227088Z"
    }
   },
   "outputs": [
    {
     "data": {
      "text/plain": [
       "179.9946913403481"
      ]
     },
     "execution_count": 4,
     "metadata": {},
     "output_type": "execute_result"
    }
   ],
   "source": [
    "Angle(3.1415).asDegrees()"
   ]
  },
  {
   "cell_type": "code",
   "execution_count": 5,
   "id": "635fa486-3436-464d-ae9c-fc78d7e402ed",
   "metadata": {
    "execution": {
     "iopub.execute_input": "2023-12-30T20:23:53.231128Z",
     "iopub.status.busy": "2023-12-30T20:23:53.230988Z",
     "iopub.status.idle": "2023-12-30T20:23:53.233917Z",
     "shell.execute_reply": "2023-12-30T20:23:53.233556Z",
     "shell.execute_reply.started": "2023-12-30T20:23:53.231115Z"
    }
   },
   "outputs": [
    {
     "data": {
      "text/plain": [
       "3.1415"
      ]
     },
     "execution_count": 5,
     "metadata": {},
     "output_type": "execute_result"
    }
   ],
   "source": [
    "Angle(3.1415).asRadians()"
   ]
  },
  {
   "cell_type": "code",
   "execution_count": 6,
   "id": "1b7ca33c-6582-41eb-81b9-d4f227c06ce4",
   "metadata": {
    "execution": {
     "iopub.execute_input": "2023-12-30T20:23:53.234529Z",
     "iopub.status.busy": "2023-12-30T20:23:53.234402Z",
     "iopub.status.idle": "2023-12-30T20:23:53.238766Z",
     "shell.execute_reply": "2023-12-30T20:23:53.238406Z",
     "shell.execute_reply.started": "2023-12-30T20:23:53.234517Z"
    }
   },
   "outputs": [
    {
     "data": {
      "text/plain": [
       "SpherePoint(179.9946913403481*degrees, 57.29577951308232*degrees)"
      ]
     },
     "execution_count": 6,
     "metadata": {},
     "output_type": "execute_result"
    }
   ],
   "source": [
    "SpherePoint(Angle(3.1415),Angle(1.0))"
   ]
  },
  {
   "cell_type": "code",
   "execution_count": 7,
   "id": "61a85395-b407-41ab-865f-8eda018a6158",
   "metadata": {
    "execution": {
     "iopub.execute_input": "2023-12-30T20:23:53.239378Z",
     "iopub.status.busy": "2023-12-30T20:23:53.239263Z",
     "iopub.status.idle": "2023-12-30T20:23:53.241590Z",
     "shell.execute_reply": "2023-12-30T20:23:53.241232Z",
     "shell.execute_reply.started": "2023-12-30T20:23:53.239367Z"
    }
   },
   "outputs": [],
   "source": [
    "import astropy.coordinates as coord\n",
    "import astropy.units as u\n",
    "from astropy.time import Time\n",
    "from astropy.coordinates import SkyCoord\n",
    "from astropy import coordinates"
   ]
  },
  {
   "cell_type": "code",
   "execution_count": 8,
   "id": "80820912-e688-465e-9fe6-2f4da72554ef",
   "metadata": {
    "execution": {
     "iopub.execute_input": "2023-12-30T20:23:53.242211Z",
     "iopub.status.busy": "2023-12-30T20:23:53.242086Z",
     "iopub.status.idle": "2023-12-30T20:23:53.245874Z",
     "shell.execute_reply": "2023-12-30T20:23:53.245542Z",
     "shell.execute_reply.started": "2023-12-30T20:23:53.242200Z"
    }
   },
   "outputs": [],
   "source": [
    "import pandas as pd"
   ]
  },
  {
   "cell_type": "code",
   "execution_count": 9,
   "id": "795c0b53-d830-4149-9941-a90b7b55c228",
   "metadata": {
    "execution": {
     "iopub.execute_input": "2023-12-30T20:23:53.246455Z",
     "iopub.status.busy": "2023-12-30T20:23:53.246341Z",
     "iopub.status.idle": "2023-12-30T20:23:53.249972Z",
     "shell.execute_reply": "2023-12-30T20:23:53.249618Z",
     "shell.execute_reply.started": "2023-12-30T20:23:53.246444Z"
    }
   },
   "outputs": [],
   "source": [
    "def convert_fluxtomag(x) :\n",
    "    \"\"\"\n",
    "    The object and source catalogs store only fluxes. There are hundreds of flux-related columns, \n",
    "    and to store them also as magnitudes would be redundant, and a waste of space.\n",
    "    All flux units are nanojanskys. The AB Magnitudes Wikipedia page provides a concise resource \n",
    "    for users unfamiliar with AB magnitudes and jansky fluxes. To convert to AB magnitudes use:\n",
    "    As demonstrated in Section 2.3.2, to add columns of magnitudes after retrieving columns of flux, users can do this:\n",
    "    results_table['r_calibMag'] = -2.50 * numpy.log10(results_table['r_calibFlux']) + 31.4\n",
    "    results_table['r_cModelMag'] = -2.50 * numpy.log10(results_table['r_cModelFlux']) + 31.4\n",
    "    (from DP0 tutorial)\n",
    "    \"\"\"\n",
    "    return -2.50 * np.log10(x) + 31.4"
   ]
  },
  {
   "cell_type": "markdown",
   "id": "f3067001-89fe-4e25-b898-bf93053ef176",
   "metadata": {},
   "source": [
    "## Config"
   ]
  },
  {
   "cell_type": "markdown",
   "id": "85562e26-95fd-42b6-a1b3-a5a223c04c65",
   "metadata": {},
   "source": [
    "### Galactic Plane"
   ]
  },
  {
   "cell_type": "code",
   "execution_count": 10,
   "id": "cd586680-7fbe-4780-88e7-4163b4f9cd75",
   "metadata": {
    "execution": {
     "iopub.execute_input": "2023-12-30T20:23:53.250634Z",
     "iopub.status.busy": "2023-12-30T20:23:53.250520Z",
     "iopub.status.idle": "2023-12-30T20:23:53.258043Z",
     "shell.execute_reply": "2023-12-30T20:23:53.257692Z",
     "shell.execute_reply.started": "2023-12-30T20:23:53.250623Z"
    }
   },
   "outputs": [],
   "source": [
    "gal_long = np.linspace(-180.,180,360)\n",
    "gal_lat = np.zeros((360))\n",
    "\n",
    "coordinates_galactic_planes = SkyCoord(l=gal_long*u.degree, b=gal_lat*u.degree, frame='galactic')\n",
    "gp_radec = coordinates_galactic_planes.transform_to('icrs')  \n",
    "\n",
    "gp_ra_toplot = coordinates.Angle(gp_radec.ra.degree*u.degree)\n",
    "gp_ra_toplot = gp_ra_toplot.wrap_at(180*u.degree)"
   ]
  },
  {
   "cell_type": "markdown",
   "id": "177546e8-0e9a-486f-a333-79f565969380",
   "metadata": {},
   "source": [
    "### Sources"
   ]
  },
  {
   "cell_type": "code",
   "execution_count": 56,
   "id": "730c561b-16a0-4f32-8076-a5b252144bc5",
   "metadata": {
    "execution": {
     "iopub.execute_input": "2023-12-30T20:27:51.956117Z",
     "iopub.status.busy": "2023-12-30T20:27:51.955516Z",
     "iopub.status.idle": "2023-12-30T20:27:51.958252Z",
     "shell.execute_reply": "2023-12-30T20:27:51.957853Z",
     "shell.execute_reply.started": "2023-12-30T20:27:51.956094Z"
    }
   },
   "outputs": [],
   "source": [
    "file = \"sourceTable_202312.csv\"\n",
    "file_visit = \"sourceTablevisit_202312.csv\""
   ]
  },
  {
   "cell_type": "code",
   "execution_count": 12,
   "id": "cd652627-7574-4566-911e-7eff98256059",
   "metadata": {
    "execution": {
     "iopub.execute_input": "2023-12-30T20:23:53.262568Z",
     "iopub.status.busy": "2023-12-30T20:23:53.262451Z",
     "iopub.status.idle": "2023-12-30T20:23:53.265992Z",
     "shell.execute_reply": "2023-12-30T20:23:53.265640Z",
     "shell.execute_reply.started": "2023-12-30T20:23:53.262557Z"
    }
   },
   "outputs": [],
   "source": [
    "suptitle = \"Sources, Auxtel phot 2023\""
   ]
  },
  {
   "cell_type": "markdown",
   "id": "c2163798-5114-48d6-a0b0-fff68c71e0a6",
   "metadata": {},
   "source": [
    "## Skymap, Tracts and Patchs"
   ]
  },
  {
   "cell_type": "code",
   "execution_count": 13,
   "id": "d5d61d77-7ccc-443c-9b62-ec5e1bfd2fe8",
   "metadata": {
    "execution": {
     "iopub.execute_input": "2023-12-30T20:23:53.266584Z",
     "iopub.status.busy": "2023-12-30T20:23:53.266459Z",
     "iopub.status.idle": "2023-12-30T20:23:53.269714Z",
     "shell.execute_reply": "2023-12-30T20:23:53.269366Z",
     "shell.execute_reply.started": "2023-12-30T20:23:53.266568Z"
    }
   },
   "outputs": [],
   "source": [
    "Auxtel2023_tracts = [ 5616,5634,5615,10644,383,8188,3863,455,452,5839,10643,382]"
   ]
  },
  {
   "cell_type": "code",
   "execution_count": 14,
   "id": "39925298-eb74-4933-8f5c-d06508f9ed48",
   "metadata": {
    "execution": {
     "iopub.execute_input": "2023-12-30T20:23:53.271696Z",
     "iopub.status.busy": "2023-12-30T20:23:53.271578Z",
     "iopub.status.idle": "2023-12-30T20:23:53.273675Z",
     "shell.execute_reply": "2023-12-30T20:23:53.273320Z",
     "shell.execute_reply.started": "2023-12-30T20:23:53.271685Z"
    }
   },
   "outputs": [],
   "source": [
    "skymap_auxtel ='latiss_v1'"
   ]
  },
  {
   "cell_type": "code",
   "execution_count": 15,
   "id": "ab587fcd-5ae1-451d-a697-e7cc935252f8",
   "metadata": {
    "execution": {
     "iopub.execute_input": "2023-12-30T20:23:53.274331Z",
     "iopub.status.busy": "2023-12-30T20:23:53.274221Z",
     "iopub.status.idle": "2023-12-30T20:23:53.412736Z",
     "shell.execute_reply": "2023-12-30T20:23:53.412222Z",
     "shell.execute_reply.started": "2023-12-30T20:23:53.274320Z"
    }
   },
   "outputs": [],
   "source": [
    "skymap = butler.get('skyMap', skymap=skymap_auxtel, collections=my_collection)"
   ]
  },
  {
   "cell_type": "code",
   "execution_count": 16,
   "id": "63ce733a-3ebd-426e-a124-336b82a31a28",
   "metadata": {
    "execution": {
     "iopub.execute_input": "2023-12-30T20:23:53.413693Z",
     "iopub.status.busy": "2023-12-30T20:23:53.413364Z",
     "iopub.status.idle": "2023-12-30T20:23:53.416473Z",
     "shell.execute_reply": "2023-12-30T20:23:53.416061Z",
     "shell.execute_reply.started": "2023-12-30T20:23:53.413679Z"
    }
   },
   "outputs": [],
   "source": [
    "with open('Latiss_tractspatchs.pickle', 'rb') as handle:\n",
    "    tracts_patchs_dict = pickle.load(handle)"
   ]
  },
  {
   "cell_type": "code",
   "execution_count": 17,
   "id": "5b34d5af-f915-44fe-9b1f-701daf5fe860",
   "metadata": {
    "execution": {
     "iopub.execute_input": "2023-12-30T20:23:53.417151Z",
     "iopub.status.busy": "2023-12-30T20:23:53.417022Z",
     "iopub.status.idle": "2023-12-30T20:23:53.420757Z",
     "shell.execute_reply": "2023-12-30T20:23:53.420381Z",
     "shell.execute_reply.started": "2023-12-30T20:23:53.417138Z"
    }
   },
   "outputs": [
    {
     "data": {
      "text/plain": [
       "{5616: array([335, 355, 358, 336, 337, 338, 316, 357, 317, 356]),\n",
       " 5634: array([ 91,  52,  93,  72,  92, 109, 110,  54,  71,  53,  55, 112, 111,\n",
       "         74,  73,  90]),\n",
       " 5615: array([332, 333, 312, 313, 295, 331, 276, 275, 294, 293, 314, 274]),\n",
       " 10644: array([166, 184, 183, 201, 161, 180, 207, 188, 202, 182, 189, 208, 164,\n",
       "        181, 185, 165, 203, 162]),\n",
       " 383: array([359, 360]),\n",
       " 8188: array([48, 65, 47, 28, 46, 66, 27]),\n",
       " 3863: array([241, 243, 242, 260, 261, 222, 262, 224, 223]),\n",
       " 455: array([52, 33, 51, 32, 14, 53, 34, 15, 13]),\n",
       " 452: array([42, 44, 25, 24, 63, 23, 43, 62]),\n",
       " 5839: array([9, 7, 8]),\n",
       " 10643: array([171, 190]),\n",
       " 382: array([343, 342])}"
      ]
     },
     "execution_count": 17,
     "metadata": {},
     "output_type": "execute_result"
    }
   ],
   "source": [
    "tracts_patchs_dict"
   ]
  },
  {
   "cell_type": "markdown",
   "id": "a426fba9-c153-47bd-aa1a-b8a064201688",
   "metadata": {
    "execution": {
     "iopub.execute_input": "2023-12-29T15:37:58.107082Z",
     "iopub.status.busy": "2023-12-29T15:37:58.106492Z",
     "iopub.status.idle": "2023-12-29T15:37:58.109824Z",
     "shell.execute_reply": "2023-12-29T15:37:58.109421Z",
     "shell.execute_reply.started": "2023-12-29T15:37:58.107066Z"
    }
   },
   "source": [
    "### Should try Tracts\n",
    "- 5615 - OK , Not in our galaxy\n",
    "- 5616 - Non, 1 nuit\n",
    "- 5839 - Non, 1 nuit\n",
    "- 5634 - OK - Galaxie Plane"
   ]
  },
  {
   "cell_type": "code",
   "execution_count": 18,
   "id": "446289c6-8a3e-40af-afb6-d682c3b565d3",
   "metadata": {
    "execution": {
     "iopub.execute_input": "2023-12-30T20:23:53.421393Z",
     "iopub.status.busy": "2023-12-30T20:23:53.421275Z",
     "iopub.status.idle": "2023-12-30T20:23:53.424893Z",
     "shell.execute_reply": "2023-12-30T20:23:53.424494Z",
     "shell.execute_reply.started": "2023-12-30T20:23:53.421382Z"
    }
   },
   "outputs": [],
   "source": [
    "tract_selected = 5615"
   ]
  },
  {
   "cell_type": "code",
   "execution_count": 19,
   "id": "2210587f-4c13-40a1-865b-ccd68c157348",
   "metadata": {
    "execution": {
     "iopub.execute_input": "2023-12-30T20:23:53.425497Z",
     "iopub.status.busy": "2023-12-30T20:23:53.425381Z",
     "iopub.status.idle": "2023-12-30T20:23:53.429407Z",
     "shell.execute_reply": "2023-12-30T20:23:53.429000Z",
     "shell.execute_reply.started": "2023-12-30T20:23:53.425486Z"
    }
   },
   "outputs": [],
   "source": [
    "tractInfo = skymap.generateTract(tract_selected)"
   ]
  },
  {
   "cell_type": "code",
   "execution_count": 20,
   "id": "a01a9091-a6d2-4408-b27f-418e92774d5a",
   "metadata": {
    "execution": {
     "iopub.execute_input": "2023-12-30T20:23:53.430014Z",
     "iopub.status.busy": "2023-12-30T20:23:53.429897Z",
     "iopub.status.idle": "2023-12-30T20:23:53.434227Z",
     "shell.execute_reply": "2023-12-30T20:23:53.433825Z",
     "shell.execute_reply.started": "2023-12-30T20:23:53.430003Z"
    }
   },
   "outputs": [
    {
     "data": {
      "text/plain": [
       "<bound method TractInfo.contains of TractInfo(id=5615, ctrCoord=[-0.4548159976772596, -0.7877644160721412, -0.4154150130018864])>"
      ]
     },
     "execution_count": 20,
     "metadata": {},
     "output_type": "execute_result"
    }
   ],
   "source": [
    "tractInfo.contains "
   ]
  },
  {
   "cell_type": "code",
   "execution_count": 21,
   "id": "98cff762-d44c-4a86-93e9-d8418e7672aa",
   "metadata": {
    "execution": {
     "iopub.execute_input": "2023-12-30T20:23:53.434802Z",
     "iopub.status.busy": "2023-12-30T20:23:53.434689Z",
     "iopub.status.idle": "2023-12-30T20:23:53.437716Z",
     "shell.execute_reply": "2023-12-30T20:23:53.437316Z",
     "shell.execute_reply.started": "2023-12-30T20:23:53.434791Z"
    }
   },
   "outputs": [],
   "source": [
    "def SourceInTract(row):\n",
    "    #coord_dec\n",
    "    #coord_ra\n",
    "    #print(row)\n",
    "    try:\n",
    "        ra = row[\"ra\"]\n",
    "        dec = row[\"dec\"]\n",
    "        ra_rad = ra*np.pi/180.\n",
    "        dec_rad = dec*np.pi/180.\n",
    "        spherepoint = SpherePoint(Angle(ra_rad),Angle(dec_rad))\n",
    "        flag = tractInfo.contains( spherepoint)\n",
    "        return flag\n",
    "    except Exception as err:\n",
    "        print(f\"Unexpected {err=}, {type(err)=}\")\n",
    "        return False\n",
    "        \n",
    "    "
   ]
  },
  {
   "cell_type": "markdown",
   "id": "b1b5721a-58ce-4bc5-b1d7-47bd97e0054f",
   "metadata": {},
   "source": [
    "### Selected Objects"
   ]
  },
  {
   "cell_type": "code",
   "execution_count": 22,
   "id": "af0908ab-db48-469d-b85d-f272284917db",
   "metadata": {
    "execution": {
     "iopub.execute_input": "2023-12-30T20:23:53.438348Z",
     "iopub.status.busy": "2023-12-30T20:23:53.438231Z",
     "iopub.status.idle": "2023-12-30T20:23:53.442091Z",
     "shell.execute_reply": "2023-12-30T20:23:53.441728Z",
     "shell.execute_reply.started": "2023-12-30T20:23:53.438337Z"
    }
   },
   "outputs": [],
   "source": [
    "fileobjects_in = \"objectTableselected_202312.csv\""
   ]
  },
  {
   "cell_type": "code",
   "execution_count": 23,
   "id": "48736474-d439-47d2-9c0b-c8868a2872b3",
   "metadata": {
    "execution": {
     "iopub.execute_input": "2023-12-30T20:23:53.442725Z",
     "iopub.status.busy": "2023-12-30T20:23:53.442609Z",
     "iopub.status.idle": "2023-12-30T20:23:53.448305Z",
     "shell.execute_reply": "2023-12-30T20:23:53.447904Z",
     "shell.execute_reply.started": "2023-12-30T20:23:53.442714Z"
    }
   },
   "outputs": [],
   "source": [
    "df_selobj = pd.read_csv(fileobjects_in)"
   ]
  },
  {
   "cell_type": "code",
   "execution_count": 24,
   "id": "e253464e-52f4-4375-a6b5-eeb8fd39251d",
   "metadata": {
    "execution": {
     "iopub.execute_input": "2023-12-30T20:23:53.448900Z",
     "iopub.status.busy": "2023-12-30T20:23:53.448786Z",
     "iopub.status.idle": "2023-12-30T20:23:53.451233Z",
     "shell.execute_reply": "2023-12-30T20:23:53.450815Z",
     "shell.execute_reply.started": "2023-12-30T20:23:53.448890Z"
    }
   },
   "outputs": [],
   "source": [
    "index_selected_object = 2\n",
    "the_obj=df_selobj.iloc[index_selected_object]"
   ]
  },
  {
   "cell_type": "code",
   "execution_count": 25,
   "id": "2b714864-65bc-434f-99d5-76b6f94bc396",
   "metadata": {
    "execution": {
     "iopub.execute_input": "2023-12-30T20:23:53.451789Z",
     "iopub.status.busy": "2023-12-30T20:23:53.451678Z",
     "iopub.status.idle": "2023-12-30T20:23:53.456471Z",
     "shell.execute_reply": "2023-12-30T20:23:53.456121Z",
     "shell.execute_reply.started": "2023-12-30T20:23:53.451778Z"
    }
   },
   "outputs": [
    {
     "data": {
      "text/plain": [
       "Unnamed: 0                         25112\n",
       "objectId             2229049818594936752\n",
       "tabid_idx                             44\n",
       "x                           29711.116965\n",
       "y                            46203.31836\n",
       "coord_ra                       239.96313\n",
       "coord_dec                     -24.053676\n",
       "tract                               5615\n",
       "patch                                294\n",
       "refExtendedness                      0.0\n",
       "detect_isPrimary                    True\n",
       "detect_isIsolated                  False\n",
       "g_calibFlux               4600296.135923\n",
       "g_psfFlux                 6199224.110384\n",
       "g_cModelFlux              6208825.887375\n",
       "g_kronFlux                6178861.265234\n",
       "r_calibFlux               6607333.531866\n",
       "r_psfFlux                 8620695.786613\n",
       "r_cModelFlux              8680854.162264\n",
       "r_kronFlux                8554545.088192\n",
       "i_calibFlux               7814283.734559\n",
       "i_psfFlux                 9909984.385844\n",
       "i_cModelFlux                9943336.8897\n",
       "i_kronFlux                9944063.604853\n",
       "g_psfMag                       14.419157\n",
       "r_psfMag                       14.061144\n",
       "i_psfMag                       13.909818\n",
       "g_calibMag                     14.743036\n",
       "r_calibMag                     14.349934\n",
       "i_calibMag                     14.167777\n",
       "g_cModelMag                    14.417476\n",
       "r_cModelMag                    14.053594\n",
       "i_cModelMag                     13.90617\n",
       "g_kronMag                      14.422729\n",
       "r_kronMag                      14.069508\n",
       "i_kronMag                       13.90609\n",
       "Name: 2, dtype: object"
      ]
     },
     "execution_count": 25,
     "metadata": {},
     "output_type": "execute_result"
    }
   ],
   "source": [
    "the_obj"
   ]
  },
  {
   "cell_type": "code",
   "execution_count": 26,
   "id": "47d0ad10-40c0-4ed2-9d6c-98c77f550e43",
   "metadata": {
    "execution": {
     "iopub.execute_input": "2023-12-30T20:23:53.457092Z",
     "iopub.status.busy": "2023-12-30T20:23:53.456976Z",
     "iopub.status.idle": "2023-12-30T20:23:53.460597Z",
     "shell.execute_reply": "2023-12-30T20:23:53.460216Z",
     "shell.execute_reply.started": "2023-12-30T20:23:53.457081Z"
    }
   },
   "outputs": [],
   "source": [
    "suptitle += f\" Object {the_obj.objectId }\""
   ]
  },
  {
   "cell_type": "code",
   "execution_count": 27,
   "id": "b854eb19-a785-4032-be36-e55ab056f895",
   "metadata": {
    "execution": {
     "iopub.execute_input": "2023-12-30T20:23:53.461191Z",
     "iopub.status.busy": "2023-12-30T20:23:53.461072Z",
     "iopub.status.idle": "2023-12-30T20:23:53.463726Z",
     "shell.execute_reply": "2023-12-30T20:23:53.463390Z",
     "shell.execute_reply.started": "2023-12-30T20:23:53.461180Z"
    }
   },
   "outputs": [
    {
     "data": {
      "text/plain": [
       "2229049818594936752"
      ]
     },
     "execution_count": 27,
     "metadata": {},
     "output_type": "execute_result"
    }
   ],
   "source": [
    "the_obj.objectId "
   ]
  },
  {
   "cell_type": "code",
   "execution_count": 28,
   "id": "5aa55810-997f-4043-b1ea-0d6c875e7246",
   "metadata": {
    "execution": {
     "iopub.execute_input": "2023-12-30T20:23:53.464381Z",
     "iopub.status.busy": "2023-12-30T20:23:53.464264Z",
     "iopub.status.idle": "2023-12-30T20:23:53.468238Z",
     "shell.execute_reply": "2023-12-30T20:23:53.467893Z",
     "shell.execute_reply.started": "2023-12-30T20:23:53.464370Z"
    }
   },
   "outputs": [],
   "source": [
    "vect_to_object = lsst.sphgeom.UnitVector3d(lsst.sphgeom.LonLat.fromDegrees(the_obj.coord_ra, the_obj.coord_dec))"
   ]
  },
  {
   "cell_type": "code",
   "execution_count": 29,
   "id": "dac8f1fd-4752-4ac9-a05a-aef21f575775",
   "metadata": {
    "execution": {
     "iopub.execute_input": "2023-12-30T20:23:53.468821Z",
     "iopub.status.busy": "2023-12-30T20:23:53.468711Z",
     "iopub.status.idle": "2023-12-30T20:23:53.471386Z",
     "shell.execute_reply": "2023-12-30T20:23:53.471033Z",
     "shell.execute_reply.started": "2023-12-30T20:23:53.468810Z"
    }
   },
   "outputs": [],
   "source": [
    "spherePointCenter = lsst.geom.SpherePoint(the_obj.coord_ra*lsst.geom.degrees, the_obj.coord_dec*lsst.geom.degrees)"
   ]
  },
  {
   "cell_type": "markdown",
   "id": "5864e1a4-d79b-4102-b07f-edc6a981aea3",
   "metadata": {},
   "source": [
    "## Input"
   ]
  },
  {
   "cell_type": "code",
   "execution_count": 30,
   "id": "c0b49870-c9a2-4573-9cdf-bddfe78cbc9a",
   "metadata": {
    "execution": {
     "iopub.execute_input": "2023-12-30T20:23:53.472027Z",
     "iopub.status.busy": "2023-12-30T20:23:53.471915Z",
     "iopub.status.idle": "2023-12-30T20:24:14.450100Z",
     "shell.execute_reply": "2023-12-30T20:24:14.449591Z",
     "shell.execute_reply.started": "2023-12-30T20:23:53.472016Z"
    }
   },
   "outputs": [],
   "source": [
    "df = pd.read_csv(file,index_col=0)\n",
    "#df_visit = pd.read_csv(file_visit,index_col=0)"
   ]
  },
  {
   "cell_type": "code",
   "execution_count": 31,
   "id": "6492ef7b-9855-4230-9589-ea0f5cf85b69",
   "metadata": {
    "execution": {
     "iopub.execute_input": "2023-12-30T20:24:14.450895Z",
     "iopub.status.busy": "2023-12-30T20:24:14.450759Z",
     "iopub.status.idle": "2023-12-30T20:24:14.453217Z",
     "shell.execute_reply": "2023-12-30T20:24:14.452826Z",
     "shell.execute_reply.started": "2023-12-30T20:24:14.450882Z"
    }
   },
   "outputs": [],
   "source": [
    "list_of_columns = sorted(list(df.columns))"
   ]
  },
  {
   "cell_type": "code",
   "execution_count": 32,
   "id": "b5f27295-a215-433b-bb4f-7c388b666066",
   "metadata": {
    "execution": {
     "iopub.execute_input": "2023-12-30T20:24:14.453886Z",
     "iopub.status.busy": "2023-12-30T20:24:14.453734Z",
     "iopub.status.idle": "2023-12-30T20:24:14.457625Z",
     "shell.execute_reply": "2023-12-30T20:24:14.457247Z",
     "shell.execute_reply.started": "2023-12-30T20:24:14.453875Z"
    }
   },
   "outputs": [],
   "source": [
    "#for col in list_of_columns:\n",
    "#    print(col)"
   ]
  },
  {
   "cell_type": "markdown",
   "id": "2cabbafa-e26c-433d-a719-8c79b487dc52",
   "metadata": {},
   "source": [
    "## Selection"
   ]
  },
  {
   "cell_type": "code",
   "execution_count": 33,
   "id": "2b22d933-18e9-4f95-b031-be41696c9ba8",
   "metadata": {
    "execution": {
     "iopub.execute_input": "2023-12-30T20:24:14.458200Z",
     "iopub.status.busy": "2023-12-30T20:24:14.458084Z",
     "iopub.status.idle": "2023-12-30T20:24:15.034132Z",
     "shell.execute_reply": "2023-12-30T20:24:15.033661Z",
     "shell.execute_reply.started": "2023-12-30T20:24:14.458189Z"
    }
   },
   "outputs": [],
   "source": [
    "df.dropna(inplace=True)\n",
    "selection1 = df[\"extendedness_flag\"] == False\n",
    "selection2 = df[\"detect_isPrimary\"] == True\n",
    "df = df[selection1 & selection2 ]"
   ]
  },
  {
   "cell_type": "markdown",
   "id": "9abd196b-03fe-4f2d-a256-78b0d4f5ceee",
   "metadata": {},
   "source": [
    "### Selection for one object"
   ]
  },
  {
   "cell_type": "code",
   "execution_count": 34,
   "id": "496fd590-a928-466a-90de-0c2b1af154a6",
   "metadata": {
    "execution": {
     "iopub.execute_input": "2023-12-30T20:24:15.034813Z",
     "iopub.status.busy": "2023-12-30T20:24:15.034689Z",
     "iopub.status.idle": "2023-12-30T20:24:15.036745Z",
     "shell.execute_reply": "2023-12-30T20:24:15.036422Z",
     "shell.execute_reply.started": "2023-12-30T20:24:15.034801Z"
    }
   },
   "outputs": [],
   "source": [
    "#df[\"inptract\"]=df[[\"ra\",\"dec\"]].apply(SourceInTract)"
   ]
  },
  {
   "cell_type": "code",
   "execution_count": 35,
   "id": "cb64bc5d-8992-43cd-abc9-07fc838befc5",
   "metadata": {
    "execution": {
     "iopub.execute_input": "2023-12-30T20:24:15.037345Z",
     "iopub.status.busy": "2023-12-30T20:24:15.037204Z",
     "iopub.status.idle": "2023-12-30T20:24:15.040692Z",
     "shell.execute_reply": "2023-12-30T20:24:15.040348Z",
     "shell.execute_reply.started": "2023-12-30T20:24:15.037333Z"
    }
   },
   "outputs": [],
   "source": [
    "cut_arcsc = 10.0"
   ]
  },
  {
   "cell_type": "code",
   "execution_count": 36,
   "id": "8e32dcff-9e42-4c01-b91d-9ec8fa09d696",
   "metadata": {
    "execution": {
     "iopub.execute_input": "2023-12-30T20:24:15.041234Z",
     "iopub.status.busy": "2023-12-30T20:24:15.041121Z",
     "iopub.status.idle": "2023-12-30T20:24:31.240849Z",
     "shell.execute_reply": "2023-12-30T20:24:31.240313Z",
     "shell.execute_reply.started": "2023-12-30T20:24:15.041223Z"
    }
   },
   "outputs": [],
   "source": [
    "all_angles = []\n",
    "for index, row in df.iterrows():\n",
    "    spt = lsst.geom.SpherePoint(row[\"coord_ra\"]*lsst.geom.degrees, row[\"coord_dec\"]*lsst.geom.degrees)\n",
    "    ang = spherePointCenter.separation(spt)\n",
    "    ang_arcsec = ang.asArcseconds()\n",
    "    all_angles.append(ang_arcsec)"
   ]
  },
  {
   "cell_type": "code",
   "execution_count": 37,
   "id": "569b6896-c6dd-4fe6-8282-3348f305dde9",
   "metadata": {
    "execution": {
     "iopub.execute_input": "2023-12-30T20:24:31.241604Z",
     "iopub.status.busy": "2023-12-30T20:24:31.241472Z",
     "iopub.status.idle": "2023-12-30T20:24:31.272867Z",
     "shell.execute_reply": "2023-12-30T20:24:31.272461Z",
     "shell.execute_reply.started": "2023-12-30T20:24:31.241592Z"
    }
   },
   "outputs": [],
   "source": [
    "df[\"sep\"] = all_angles"
   ]
  },
  {
   "cell_type": "code",
   "execution_count": 38,
   "id": "a4cac08f-17ca-47a5-9acf-fa4f8f785e08",
   "metadata": {
    "execution": {
     "iopub.execute_input": "2023-12-30T20:24:31.273563Z",
     "iopub.status.busy": "2023-12-30T20:24:31.273442Z",
     "iopub.status.idle": "2023-12-30T20:24:31.276602Z",
     "shell.execute_reply": "2023-12-30T20:24:31.276259Z",
     "shell.execute_reply.started": "2023-12-30T20:24:31.273551Z"
    }
   },
   "outputs": [
    {
     "data": {
      "text/plain": [
       "6.492967879497276"
      ]
     },
     "execution_count": 38,
     "metadata": {},
     "output_type": "execute_result"
    }
   ],
   "source": [
    "df[\"sep\"].min() "
   ]
  },
  {
   "cell_type": "code",
   "execution_count": 39,
   "id": "0da7e698-de56-4fd5-930f-d4f9fd7780b1",
   "metadata": {
    "execution": {
     "iopub.execute_input": "2023-12-30T20:24:31.277264Z",
     "iopub.status.busy": "2023-12-30T20:24:31.277071Z",
     "iopub.status.idle": "2023-12-30T20:24:31.620818Z",
     "shell.execute_reply": "2023-12-30T20:24:31.620312Z",
     "shell.execute_reply.started": "2023-12-30T20:24:31.277252Z"
    }
   },
   "outputs": [],
   "source": [
    "df.sort_values(by=[\"dateobs\"],inplace=True)"
   ]
  },
  {
   "cell_type": "code",
   "execution_count": 40,
   "id": "846daa8c-5150-4d8c-bbec-8c32a11c2acb",
   "metadata": {
    "execution": {
     "iopub.execute_input": "2023-12-30T20:24:31.621553Z",
     "iopub.status.busy": "2023-12-30T20:24:31.621423Z",
     "iopub.status.idle": "2023-12-30T20:24:32.015003Z",
     "shell.execute_reply": "2023-12-30T20:24:32.014552Z",
     "shell.execute_reply.started": "2023-12-30T20:24:31.621540Z"
    }
   },
   "outputs": [
    {
     "data": {
      "text/plain": [
       "Text(0.5, 0.98, 'Sources, Auxtel phot 2023 Object 2229049818594936752')"
      ]
     },
     "execution_count": 40,
     "metadata": {},
     "output_type": "execute_result"
    },
    {
     "data": {
      "image/png": "[encoded data removed]",
      "text/plain": [
       "<Figure size 1400x400 with 1 Axes>"
      ]
     },
     "metadata": {},
     "output_type": "display_data"
    }
   ],
   "source": [
    "fig, ax = plt.subplots(1,1,figsize=(14,4))\n",
    "df['sep'].plot(kind=\"hist\",bins=50,range=(0,50),ax=ax,grid=True,title=\"separation angle\")\n",
    "ax.axvline(cut_arcsc,color=\"k\")\n",
    "ax.set_xlabel(\"$\\\\theta$ (arcsec)\")\n",
    "plt.suptitle(suptitle)"
   ]
  },
  {
   "cell_type": "code",
   "execution_count": 41,
   "id": "a0c79d8f-748e-4aa3-a634-ad4f750ba62b",
   "metadata": {
    "execution": {
     "iopub.execute_input": "2023-12-30T20:24:32.018994Z",
     "iopub.status.busy": "2023-12-30T20:24:32.018818Z",
     "iopub.status.idle": "2023-12-30T20:24:32.067590Z",
     "shell.execute_reply": "2023-12-30T20:24:32.067050Z",
     "shell.execute_reply.started": "2023-12-30T20:24:32.018981Z"
    }
   },
   "outputs": [],
   "source": [
    "selection3 = df['sep']< cut_arcsc\n",
    "df = df[selection3 ]"
   ]
  },
  {
   "cell_type": "markdown",
   "id": "cbb0a6ac-4ff1-4142-9233-fdc5e48075e4",
   "metadata": {},
   "source": [
    "## Magnitudes"
   ]
  },
  {
   "cell_type": "code",
   "execution_count": 42,
   "id": "1ef55be6-6e72-498c-a686-1350a8a2e76e",
   "metadata": {
    "execution": {
     "iopub.execute_input": "2023-12-30T20:24:32.068302Z",
     "iopub.status.busy": "2023-12-30T20:24:32.068174Z",
     "iopub.status.idle": "2023-12-30T20:24:32.072240Z",
     "shell.execute_reply": "2023-12-30T20:24:32.071864Z",
     "shell.execute_reply.started": "2023-12-30T20:24:32.068290Z"
    }
   },
   "outputs": [
    {
     "name": "stderr",
     "output_type": "stream",
     "text": [
      "/tmp/ipykernel_65652/4088867659.py:12: RuntimeWarning: invalid value encountered in log10\n",
      "  return -2.50 * np.log10(x) + 31.4\n"
     ]
    }
   ],
   "source": [
    "df[\"psfMag\"] = df[\"psfFlux\"].map(convert_fluxtomag)\n",
    "df[\"gaussianMag\"] = df[\"gaussianFlux\"].map(convert_fluxtomag)\n",
    "df[\"calibMag\"] = df[\"calibFlux\"].map(convert_fluxtomag)"
   ]
  },
  {
   "cell_type": "code",
   "execution_count": 43,
   "id": "631abe61-784c-4231-88cf-7fcd7c24aede",
   "metadata": {
    "execution": {
     "iopub.execute_input": "2023-12-30T20:24:32.072802Z",
     "iopub.status.busy": "2023-12-30T20:24:32.072685Z",
     "iopub.status.idle": "2023-12-30T20:24:32.786507Z",
     "shell.execute_reply": "2023-12-30T20:24:32.786123Z",
     "shell.execute_reply.started": "2023-12-30T20:24:32.072791Z"
    }
   },
   "outputs": [
    {
     "data": {
      "image/png": "[encoded data removed]",
      "text/plain": [
       "<Figure size 1400x400 with 3 Axes>"
      ]
     },
     "metadata": {},
     "output_type": "display_data"
    }
   ],
   "source": [
    "fig, (ax1,ax2,ax3) = plt.subplots(1,3,figsize=(14,4))\n",
    "\n",
    "df['psfMag'].plot(kind=\"hist\",bins=50,range=(5,30),facecolor=\"g\",logy=True,grid=True,title=\"psfMag\",ax=ax1)\n",
    "df['gaussianMag'].plot(kind=\"hist\",bins=50,range=(5,30),facecolor=\"r\",logy=True,grid=True,title=\"gaussianMag\",ax=ax2)\n",
    "df['calibMag'].plot(kind=\"hist\",bins=50,range=(5,30),facecolor=\"grey\",logy=True,grid=True,title=\"calibMag\",ax=ax3)\n",
    "plt.suptitle(suptitle,y=1.0,fontsize=16)\n",
    "plt.tight_layout()\n"
   ]
  },
  {
   "cell_type": "markdown",
   "id": "5c5b5bf8-c662-4cb8-98f6-380ccb4b5df8",
   "metadata": {},
   "source": [
    "## Convert dateobs into datetime"
   ]
  },
  {
   "cell_type": "code",
   "execution_count": 44,
   "id": "a008e1f9-eeec-4f6e-8ae1-1550225193bb",
   "metadata": {
    "execution": {
     "iopub.execute_input": "2023-12-30T20:24:32.787319Z",
     "iopub.status.busy": "2023-12-30T20:24:32.787087Z",
     "iopub.status.idle": "2023-12-30T20:24:32.795635Z",
     "shell.execute_reply": "2023-12-30T20:24:32.795301Z",
     "shell.execute_reply.started": "2023-12-30T20:24:32.787306Z"
    }
   },
   "outputs": [
    {
     "data": {
      "text/html": [
       "<div>\n",
       "<style scoped>\n",
       "    .dataframe tbody tr th:only-of-type {\n",
       "        vertical-align: middle;\n",
       "    }\n",
       "\n",
       "    .dataframe tbody tr th {\n",
       "        vertical-align: top;\n",
       "    }\n",
       "\n",
       "    .dataframe thead th {\n",
       "        text-align: right;\n",
       "    }\n",
       "</style>\n",
       "<table border=\"1\" class=\"dataframe\">\n",
       "  <thead>\n",
       "    <tr style=\"text-align: right;\">\n",
       "      <th></th>\n",
       "      <th>dateobs</th>\n",
       "      <th>sep</th>\n",
       "      <th>band</th>\n",
       "      <th>ccdVisitId</th>\n",
       "    </tr>\n",
       "    <tr>\n",
       "      <th>sourceId</th>\n",
       "      <th></th>\n",
       "      <th></th>\n",
       "      <th></th>\n",
       "      <th></th>\n",
       "    </tr>\n",
       "  </thead>\n",
       "  <tbody>\n",
       "    <tr>\n",
       "      <th>171629836274499725</th>\n",
       "      <td>2023-05-12 03:59:38.183</td>\n",
       "      <td>6.689111</td>\n",
       "      <td>r</td>\n",
       "      <td>40919741696</td>\n",
       "    </tr>\n",
       "    <tr>\n",
       "      <th>171629837348241563</th>\n",
       "      <td>2023-05-12 04:00:25.985</td>\n",
       "      <td>6.776423</td>\n",
       "      <td>r</td>\n",
       "      <td>40919741952</td>\n",
       "    </tr>\n",
       "    <tr>\n",
       "      <th>171629839495725278</th>\n",
       "      <td>2023-05-12 04:01:59.895</td>\n",
       "      <td>6.676964</td>\n",
       "      <td>i</td>\n",
       "      <td>40919742464</td>\n",
       "    </tr>\n",
       "    <tr>\n",
       "      <th>171629842716950696</th>\n",
       "      <td>2023-05-12 04:04:19.885</td>\n",
       "      <td>6.649979</td>\n",
       "      <td>r</td>\n",
       "      <td>40919743232</td>\n",
       "    </tr>\n",
       "    <tr>\n",
       "      <th>171629843790692711</th>\n",
       "      <td>2023-05-12 04:05:07.288</td>\n",
       "      <td>6.604363</td>\n",
       "      <td>r</td>\n",
       "      <td>40919743488</td>\n",
       "    </tr>\n",
       "    <tr>\n",
       "      <th>171629845938176475</th>\n",
       "      <td>2023-05-12 04:06:36.640</td>\n",
       "      <td>6.716028</td>\n",
       "      <td>i</td>\n",
       "      <td>40919744000</td>\n",
       "    </tr>\n",
       "    <tr>\n",
       "      <th>171629856675594469</th>\n",
       "      <td>2023-05-12 04:14:21.536</td>\n",
       "      <td>6.529302</td>\n",
       "      <td>r</td>\n",
       "      <td>40919746560</td>\n",
       "    </tr>\n",
       "    <tr>\n",
       "      <th>171629858823078233</th>\n",
       "      <td>2023-05-12 04:15:53.841</td>\n",
       "      <td>6.615055</td>\n",
       "      <td>i</td>\n",
       "      <td>40919747072</td>\n",
       "    </tr>\n",
       "    <tr>\n",
       "      <th>171629859896820063</th>\n",
       "      <td>2023-05-12 04:16:39.440</td>\n",
       "      <td>6.649895</td>\n",
       "      <td>i</td>\n",
       "      <td>40919747328</td>\n",
       "    </tr>\n",
       "    <tr>\n",
       "      <th>171629862044303611</th>\n",
       "      <td>2023-05-12 04:18:12.885</td>\n",
       "      <td>6.545645</td>\n",
       "      <td>r</td>\n",
       "      <td>40919747840</td>\n",
       "    </tr>\n",
       "    <tr>\n",
       "      <th>171629863118045393</th>\n",
       "      <td>2023-05-12 04:19:00.186</td>\n",
       "      <td>6.723774</td>\n",
       "      <td>r</td>\n",
       "      <td>40919748096</td>\n",
       "    </tr>\n",
       "    <tr>\n",
       "      <th>171629864191787046</th>\n",
       "      <td>2023-05-12 04:29:04.088</td>\n",
       "      <td>6.582006</td>\n",
       "      <td>i</td>\n",
       "      <td>40919748352</td>\n",
       "    </tr>\n",
       "    <tr>\n",
       "      <th>171629869560496169</th>\n",
       "      <td>2023-05-12 04:32:53.541</td>\n",
       "      <td>6.731997</td>\n",
       "      <td>i</td>\n",
       "      <td>40919749632</td>\n",
       "    </tr>\n",
       "    <tr>\n",
       "      <th>171629870634237993</th>\n",
       "      <td>2023-05-12 04:33:40.540</td>\n",
       "      <td>6.711155</td>\n",
       "      <td>i</td>\n",
       "      <td>40919749888</td>\n",
       "    </tr>\n",
       "    <tr>\n",
       "      <th>172087485440983375</th>\n",
       "      <td>2023-05-25 05:19:26.047</td>\n",
       "      <td>6.695708</td>\n",
       "      <td>r</td>\n",
       "      <td>41028853760</td>\n",
       "    </tr>\n",
       "    <tr>\n",
       "      <th>172087487588466737</th>\n",
       "      <td>2023-05-25 05:20:54.704</td>\n",
       "      <td>6.658998</td>\n",
       "      <td>i</td>\n",
       "      <td>41028854272</td>\n",
       "    </tr>\n",
       "    <tr>\n",
       "      <th>172087503694594164</th>\n",
       "      <td>2023-05-25 05:37:28.523</td>\n",
       "      <td>6.548108</td>\n",
       "      <td>r</td>\n",
       "      <td>41028858112</td>\n",
       "    </tr>\n",
       "    <tr>\n",
       "      <th>172087514432012453</th>\n",
       "      <td>2023-05-25 05:47:41.143</td>\n",
       "      <td>6.492968</td>\n",
       "      <td>i</td>\n",
       "      <td>41028860672</td>\n",
       "    </tr>\n",
       "    <tr>\n",
       "      <th>172087516579496060</th>\n",
       "      <td>2023-05-25 05:49:09.842</td>\n",
       "      <td>6.592568</td>\n",
       "      <td>r</td>\n",
       "      <td>41028861184</td>\n",
       "    </tr>\n",
       "    <tr>\n",
       "      <th>172087519800721574</th>\n",
       "      <td>2023-05-25 05:51:27.474</td>\n",
       "      <td>6.503399</td>\n",
       "      <td>i</td>\n",
       "      <td>41028861952</td>\n",
       "    </tr>\n",
       "    <tr>\n",
       "      <th>172087524095688824</th>\n",
       "      <td>2023-05-25 05:57:04.942</td>\n",
       "      <td>6.689296</td>\n",
       "      <td>r</td>\n",
       "      <td>41028862976</td>\n",
       "    </tr>\n",
       "    <tr>\n",
       "      <th>172087526243172505</th>\n",
       "      <td>2023-05-25 05:58:36.176</td>\n",
       "      <td>6.638781</td>\n",
       "      <td>i</td>\n",
       "      <td>41028863488</td>\n",
       "    </tr>\n",
       "    <tr>\n",
       "      <th>174022220031459377</th>\n",
       "      <td>2023-07-19 01:23:15.136</td>\n",
       "      <td>6.629970</td>\n",
       "      <td>r</td>\n",
       "      <td>41490130432</td>\n",
       "    </tr>\n",
       "    <tr>\n",
       "      <th>174022222178943043</th>\n",
       "      <td>2023-07-19 01:24:43.830</td>\n",
       "      <td>6.672887</td>\n",
       "      <td>i</td>\n",
       "      <td>41490130944</td>\n",
       "    </tr>\n",
       "    <tr>\n",
       "      <th>174022223252684943</th>\n",
       "      <td>2023-07-19 01:25:29.079</td>\n",
       "      <td>6.650873</td>\n",
       "      <td>i</td>\n",
       "      <td>41490131200</td>\n",
       "    </tr>\n",
       "    <tr>\n",
       "      <th>174022233990103169</th>\n",
       "      <td>2023-07-19 01:34:22.591</td>\n",
       "      <td>6.635605</td>\n",
       "      <td>r</td>\n",
       "      <td>41490133760</td>\n",
       "    </tr>\n",
       "    <tr>\n",
       "      <th>174022236137586857</th>\n",
       "      <td>2023-07-19 01:35:51.311</td>\n",
       "      <td>6.578235</td>\n",
       "      <td>i</td>\n",
       "      <td>41490134272</td>\n",
       "    </tr>\n",
       "    <tr>\n",
       "      <th>174022237211328677</th>\n",
       "      <td>2023-07-19 01:36:37.684</td>\n",
       "      <td>6.619477</td>\n",
       "      <td>i</td>\n",
       "      <td>41490134528</td>\n",
       "    </tr>\n",
       "    <tr>\n",
       "      <th>174022239358812298</th>\n",
       "      <td>2023-07-19 01:38:06.327</td>\n",
       "      <td>6.674539</td>\n",
       "      <td>r</td>\n",
       "      <td>41490135040</td>\n",
       "    </tr>\n",
       "    <tr>\n",
       "      <th>174092484622680109</th>\n",
       "      <td>2023-07-21 01:30:25.588</td>\n",
       "      <td>6.582121</td>\n",
       "      <td>i</td>\n",
       "      <td>41506882816</td>\n",
       "    </tr>\n",
       "    <tr>\n",
       "      <th>174585400839373239</th>\n",
       "      <td>2023-08-04 02:50:04.418</td>\n",
       "      <td>6.546406</td>\n",
       "      <td>i</td>\n",
       "      <td>41624403200</td>\n",
       "    </tr>\n",
       "  </tbody>\n",
       "</table>\n",
       "</div>"
      ],
      "text/plain": [
       "                                    dateobs       sep band   ccdVisitId\n",
       "sourceId                                                               \n",
       "171629836274499725  2023-05-12 03:59:38.183  6.689111    r  40919741696\n",
       "171629837348241563  2023-05-12 04:00:25.985  6.776423    r  40919741952\n",
       "171629839495725278  2023-05-12 04:01:59.895  6.676964    i  40919742464\n",
       "171629842716950696  2023-05-12 04:04:19.885  6.649979    r  40919743232\n",
       "171629843790692711  2023-05-12 04:05:07.288  6.604363    r  40919743488\n",
       "171629845938176475  2023-05-12 04:06:36.640  6.716028    i  40919744000\n",
       "171629856675594469  2023-05-12 04:14:21.536  6.529302    r  40919746560\n",
       "171629858823078233  2023-05-12 04:15:53.841  6.615055    i  40919747072\n",
       "171629859896820063  2023-05-12 04:16:39.440  6.649895    i  40919747328\n",
       "171629862044303611  2023-05-12 04:18:12.885  6.545645    r  40919747840\n",
       "171629863118045393  2023-05-12 04:19:00.186  6.723774    r  40919748096\n",
       "171629864191787046  2023-05-12 04:29:04.088  6.582006    i  40919748352\n",
       "171629869560496169  2023-05-12 04:32:53.541  6.731997    i  40919749632\n",
       "171629870634237993  2023-05-12 04:33:40.540  6.711155    i  40919749888\n",
       "172087485440983375  2023-05-25 05:19:26.047  6.695708    r  41028853760\n",
       "172087487588466737  2023-05-25 05:20:54.704  6.658998    i  41028854272\n",
       "172087503694594164  2023-05-25 05:37:28.523  6.548108    r  41028858112\n",
       "172087514432012453  2023-05-25 05:47:41.143  6.492968    i  41028860672\n",
       "172087516579496060  2023-05-25 05:49:09.842  6.592568    r  41028861184\n",
       "172087519800721574  2023-05-25 05:51:27.474  6.503399    i  41028861952\n",
       "172087524095688824  2023-05-25 05:57:04.942  6.689296    r  41028862976\n",
       "172087526243172505  2023-05-25 05:58:36.176  6.638781    i  41028863488\n",
       "174022220031459377  2023-07-19 01:23:15.136  6.629970    r  41490130432\n",
       "174022222178943043  2023-07-19 01:24:43.830  6.672887    i  41490130944\n",
       "174022223252684943  2023-07-19 01:25:29.079  6.650873    i  41490131200\n",
       "174022233990103169  2023-07-19 01:34:22.591  6.635605    r  41490133760\n",
       "174022236137586857  2023-07-19 01:35:51.311  6.578235    i  41490134272\n",
       "174022237211328677  2023-07-19 01:36:37.684  6.619477    i  41490134528\n",
       "174022239358812298  2023-07-19 01:38:06.327  6.674539    r  41490135040\n",
       "174092484622680109  2023-07-21 01:30:25.588  6.582121    i  41506882816\n",
       "174585400839373239  2023-08-04 02:50:04.418  6.546406    i  41624403200"
      ]
     },
     "execution_count": 44,
     "metadata": {},
     "output_type": "execute_result"
    }
   ],
   "source": [
    "df[[\"dateobs\",\"sep\",\"band\",\"ccdVisitId\"]]"
   ]
  },
  {
   "cell_type": "code",
   "execution_count": 45,
   "id": "af6516dd-a37a-4daa-9520-ffd8e9c2ddea",
   "metadata": {
    "execution": {
     "iopub.execute_input": "2023-12-30T20:24:32.796271Z",
     "iopub.status.busy": "2023-12-30T20:24:32.796148Z",
     "iopub.status.idle": "2023-12-30T20:24:32.798796Z",
     "shell.execute_reply": "2023-12-30T20:24:32.798462Z",
     "shell.execute_reply.started": "2023-12-30T20:24:32.796260Z"
    }
   },
   "outputs": [],
   "source": [
    "df[\"Time\"] = pd.to_datetime(df['dateobs'])"
   ]
  },
  {
   "cell_type": "code",
   "execution_count": 46,
   "id": "ab62cac6-d569-480f-817a-c058ada1f1ac",
   "metadata": {
    "execution": {
     "iopub.execute_input": "2023-12-30T20:24:32.799415Z",
     "iopub.status.busy": "2023-12-30T20:24:32.799299Z",
     "iopub.status.idle": "2023-12-30T20:24:32.938995Z",
     "shell.execute_reply": "2023-12-30T20:24:32.938578Z",
     "shell.execute_reply.started": "2023-12-30T20:24:32.799404Z"
    }
   },
   "outputs": [
    {
     "data": {
      "text/plain": [
       "<Axes: xlabel='Time'>"
      ]
     },
     "execution_count": 46,
     "metadata": {},
     "output_type": "execute_result"
    },
    {
     "data": {
      "image/png": "[encoded data removed]",
      "text/plain": [
       "<Figure size 1000x400 with 1 Axes>"
      ]
     },
     "metadata": {},
     "output_type": "display_data"
    }
   ],
   "source": [
    "fig,ax = plt.subplots(1,1,figsize=(10,4))\n",
    "df.plot(x=\"Time\",y=\"ccdVisitId\",marker='o',c=\"r\",lw=0.0,ax=ax,grid=True)"
   ]
  },
  {
   "cell_type": "code",
   "execution_count": 47,
   "id": "d6a83ae7-270a-4491-80fa-a62d31b031da",
   "metadata": {
    "execution": {
     "iopub.execute_input": "2023-12-30T20:24:32.939645Z",
     "iopub.status.busy": "2023-12-30T20:24:32.939523Z",
     "iopub.status.idle": "2023-12-30T20:24:33.524113Z",
     "shell.execute_reply": "2023-12-30T20:24:33.523701Z",
     "shell.execute_reply.started": "2023-12-30T20:24:32.939634Z"
    }
   },
   "outputs": [
    {
     "data": {
      "image/png": "[encoded data removed]",
      "text/plain": [
       "<Figure size 1600x1000 with 3 Axes>"
      ]
     },
     "metadata": {},
     "output_type": "display_data"
    }
   ],
   "source": [
    "fig,(ax1,ax2,ax3) = plt.subplots(3,1)\n",
    "\n",
    "df[df[\"band\"]==\"g\"].plot(x=\"Time\",y=\"psfMag\",marker='o',c=\"g\",lw=0.0,ax=ax1,grid=True)\n",
    "df[df[\"band\"]==\"r\"].plot(x=\"Time\",y=\"psfMag\",marker='o',c=\"r\",lw=0.0,ax=ax1,grid=True)\n",
    "df[df[\"band\"]==\"i\"].plot(x=\"Time\",y=\"psfMag\",marker='o',c=\"y\",lw=0.0,ax=ax1,grid=True)\n",
    "ax1.set_title(\"psfMag\")\n",
    "\n",
    "df[df[\"band\"]==\"g\"].plot(x=\"Time\",y=\"gaussianMag\",marker='o',c=\"g\",lw=0.0,ax=ax2,grid=True)\n",
    "df[df[\"band\"]==\"r\"].plot(x=\"Time\",y=\"gaussianMag\",marker='o',c=\"r\",lw=0.0,ax=ax2,grid=True)\n",
    "df[df[\"band\"]==\"i\"].plot(x=\"Time\",y=\"gaussianMag\",marker='o',c=\"y\",lw=0.0,ax=ax2,grid=True)\n",
    "ax2.set_title(\"gaussianMag\")\n",
    "\n",
    "df[df[\"band\"]==\"g\"].plot(x=\"Time\",y=\"calibMag\",marker='o',c=\"g\",lw=0.0,ax=ax3,grid=True)\n",
    "df[df[\"band\"]==\"r\"].plot(x=\"Time\",y=\"calibMag\",marker='o',c=\"r\",lw=0.0,ax=ax3,grid=True)\n",
    "df[df[\"band\"]==\"i\"].plot(x=\"Time\",y=\"calibMag\",marker='o',c=\"y\",lw=0.0,ax=ax3,grid=True)\n",
    "ax3.set_title(\"calibMag\")\n",
    "\n",
    "#df.plot(x=\"Time\",y=\"coord_dec\",marker='o',c=\"g\",lw=0.0,ax=ax2,grid=True)\n",
    "plt.suptitle(suptitle,y=1.0,fontsize=16)\n",
    "plt.tight_layout()"
   ]
  },
  {
   "cell_type": "code",
   "execution_count": 48,
   "id": "ddc6ed1b-73d5-4837-a0a4-2b170713eae8",
   "metadata": {
    "execution": {
     "iopub.execute_input": "2023-12-30T20:24:33.524809Z",
     "iopub.status.busy": "2023-12-30T20:24:33.524689Z",
     "iopub.status.idle": "2023-12-30T20:24:33.950560Z",
     "shell.execute_reply": "2023-12-30T20:24:33.950178Z",
     "shell.execute_reply.started": "2023-12-30T20:24:33.524796Z"
    }
   },
   "outputs": [
    {
     "data": {
      "image/png": "[encoded data removed]",
      "text/plain": [
       "<Figure size 1600x500 with 2 Axes>"
      ]
     },
     "metadata": {},
     "output_type": "display_data"
    }
   ],
   "source": [
    "fig,(ax1,ax2) = plt.subplots(1,2,figsize=(16,5))\n",
    "df_sel = df[\"coord_ra\"]\n",
    "df_sel.plot(kind=\"hist\",x=\"coord_ra\",bins=45,range=(0,360),facecolor=\"b\",ax=ax1,grid=True,logy=True)\n",
    "df_sel = df[\"coord_dec\"]\n",
    "df_sel.plot(kind=\"hist\",x=\"coord_dec\",bins=55,range=(-90,15),facecolor=\"g\",ax=ax2,grid=True,logy=True)\n",
    "plt.suptitle(suptitle,y=1.0,fontsize=16)\n",
    "plt.tight_layout()"
   ]
  },
  {
   "cell_type": "code",
   "execution_count": 49,
   "id": "0ecccfd3-fbe3-4125-81cf-db29240a5ffa",
   "metadata": {
    "execution": {
     "iopub.execute_input": "2023-12-30T20:24:33.951279Z",
     "iopub.status.busy": "2023-12-30T20:24:33.951147Z",
     "iopub.status.idle": "2023-12-30T20:24:33.954614Z",
     "shell.execute_reply": "2023-12-30T20:24:33.954262Z",
     "shell.execute_reply.started": "2023-12-30T20:24:33.951267Z"
    }
   },
   "outputs": [
    {
     "data": {
      "text/plain": [
       "array([40919741696, 40919741952, 40919742464, 40919743232, 40919743488,\n",
       "       40919744000, 40919746560, 40919747072, 40919747328, 40919747840,\n",
       "       40919748096, 40919748352, 40919749632, 40919749888, 41028853760,\n",
       "       41028854272, 41028858112, 41028860672, 41028861184, 41028861952,\n",
       "       41028862976, 41028863488, 41490130432, 41490130944, 41490131200,\n",
       "       41490133760, 41490134272, 41490134528, 41490135040, 41506882816,\n",
       "       41624403200])"
      ]
     },
     "execution_count": 49,
     "metadata": {},
     "output_type": "execute_result"
    }
   ],
   "source": [
    "list_of_ccdvisits = df[[\"ccdVisitId\"]].values.flatten()\n",
    "list_of_ccdvisits"
   ]
  },
  {
   "cell_type": "code",
   "execution_count": 50,
   "id": "db762ad2-a73e-4e8f-be06-89f8080e83bf",
   "metadata": {
    "execution": {
     "iopub.execute_input": "2023-12-30T20:24:33.955258Z",
     "iopub.status.busy": "2023-12-30T20:24:33.955140Z",
     "iopub.status.idle": "2023-12-30T20:24:34.090366Z",
     "shell.execute_reply": "2023-12-30T20:24:34.089817Z",
     "shell.execute_reply.started": "2023-12-30T20:24:33.955247Z"
    }
   },
   "outputs": [],
   "source": [
    "dataId = {'instrument': 'LATISS', 'detector': 0}\n",
    "df_visit = butler.get('ccdVisitTable', dataId=dataId)"
   ]
  },
  {
   "cell_type": "code",
   "execution_count": 51,
   "id": "1a452b92-6909-4d71-98be-05b9c13864f5",
   "metadata": {
    "execution": {
     "iopub.execute_input": "2023-12-30T20:24:34.091048Z",
     "iopub.status.busy": "2023-12-30T20:24:34.090923Z",
     "iopub.status.idle": "2023-12-30T20:24:34.093995Z",
     "shell.execute_reply": "2023-12-30T20:24:34.093642Z",
     "shell.execute_reply.started": "2023-12-30T20:24:34.091036Z"
    }
   },
   "outputs": [
    {
     "data": {
      "text/plain": [
       "Index(['visitId', 'physical_filter', 'band', 'ra', 'dec', 'zenithDistance',\n",
       "       'zeroPoint', 'psfSigma', 'skyBg', 'skyNoise', 'astromOffsetMean',\n",
       "       'astromOffsetStd', 'nPsfStar', 'psfStarDeltaE1Median',\n",
       "       'psfStarDeltaE2Median', 'psfStarDeltaE1Scatter',\n",
       "       'psfStarDeltaE2Scatter', 'psfStarDeltaSizeMedian',\n",
       "       'psfStarDeltaSizeScatter', 'psfStarScaledDeltaSizeScatter',\n",
       "       'psfTraceRadiusDelta', 'maxDistToNearestPsf', 'decl', 'detector',\n",
       "       'seeing', 'skyRotation', 'expMidpt', 'expMidptMJD', 'expTime',\n",
       "       'obsStart', 'obsStartMJD', 'darkTime', 'xSize', 'ySize', 'llcra',\n",
       "       'llcdec', 'ulcra', 'ulcdec', 'urcra', 'urcdec', 'lrcra', 'lrcdec'],\n",
       "      dtype='object')"
      ]
     },
     "execution_count": 51,
     "metadata": {},
     "output_type": "execute_result"
    }
   ],
   "source": [
    "df_visit.columns"
   ]
  },
  {
   "cell_type": "code",
   "execution_count": 52,
   "id": "07b18b06-1d53-44fc-84f5-440fd15fb799",
   "metadata": {
    "execution": {
     "iopub.execute_input": "2023-12-30T20:24:34.094637Z",
     "iopub.status.busy": "2023-12-30T20:24:34.094508Z",
     "iopub.status.idle": "2023-12-30T20:24:34.098453Z",
     "shell.execute_reply": "2023-12-30T20:24:34.098089Z",
     "shell.execute_reply.started": "2023-12-30T20:24:34.094626Z"
    }
   },
   "outputs": [
    {
     "data": {
      "text/plain": [
       "visitId                                       2023051100437\n",
       "physical_filter                            SDSSr_65mm~empty\n",
       "band                                                      r\n",
       "ra                                               239.965488\n",
       "dec                                              -24.040603\n",
       "zenithDistance                                    19.981991\n",
       "zeroPoint                                         27.838413\n",
       "psfSigma                                           5.475201\n",
       "skyBg                                              7.817419\n",
       "skyNoise                                           7.680901\n",
       "astromOffsetMean                                   0.022199\n",
       "astromOffsetStd                                    0.011524\n",
       "nPsfStar                                                 59\n",
       "psfStarDeltaE1Median                              -0.006418\n",
       "psfStarDeltaE2Median                               0.001363\n",
       "psfStarDeltaE1Scatter                              0.026182\n",
       "psfStarDeltaE2Scatter                              0.020679\n",
       "psfStarDeltaSizeMedian                             0.001899\n",
       "psfStarDeltaSizeScatter                             0.07266\n",
       "psfStarScaledDeltaSizeScatter                      0.013239\n",
       "psfTraceRadiusDelta                                0.418101\n",
       "maxDistToNearestPsf                             1480.908569\n",
       "decl                                             -24.040603\n",
       "detector                                                  0\n",
       "seeing                                             1.233693\n",
       "skyRotation                                      180.001195\n",
       "expMidpt                         2023-05-12 03:59:53.299503\n",
       "expMidptMJD                                    60076.166589\n",
       "expTime                                                30.0\n",
       "obsStart                         2023-05-12 03:59:38.299503\n",
       "obsStartMJD                                    60076.166416\n",
       "darkTime                                            30.2334\n",
       "xSize                                                  4071\n",
       "ySize                                                  3999\n",
       "llcra                                            240.023965\n",
       "llcdec                                           -23.986747\n",
       "ulcra                                             239.90551\n",
       "ulcdec                                           -23.988129\n",
       "urcra                                            239.906963\n",
       "urcdec                                           -24.094437\n",
       "lrcra                                            240.025516\n",
       "lrcdec                                           -24.093054\n",
       "Name: 40919741696, dtype: object"
      ]
     },
     "execution_count": 52,
     "metadata": {},
     "output_type": "execute_result"
    }
   ],
   "source": [
    "df_visit.loc[list_of_ccdvisits[0]]"
   ]
  },
  {
   "cell_type": "code",
   "execution_count": 53,
   "id": "56361f9c-cf4d-4ea1-b25d-9af7d704f082",
   "metadata": {
    "execution": {
     "iopub.execute_input": "2023-12-30T20:24:34.099070Z",
     "iopub.status.busy": "2023-12-30T20:24:34.098953Z",
     "iopub.status.idle": "2023-12-30T20:24:34.102444Z",
     "shell.execute_reply": "2023-12-30T20:24:34.102068Z",
     "shell.execute_reply.started": "2023-12-30T20:24:34.099059Z"
    }
   },
   "outputs": [],
   "source": [
    "#print(list(df_visit.index))"
   ]
  },
  {
   "cell_type": "code",
   "execution_count": 54,
   "id": "513cff0c-8b22-464d-a22f-4221728dcf05",
   "metadata": {
    "execution": {
     "iopub.execute_input": "2023-12-30T20:24:34.103046Z",
     "iopub.status.busy": "2023-12-30T20:24:34.102925Z",
     "iopub.status.idle": "2023-12-30T20:24:34.105288Z",
     "shell.execute_reply": "2023-12-30T20:24:34.104930Z",
     "shell.execute_reply.started": "2023-12-30T20:24:34.103034Z"
    }
   },
   "outputs": [],
   "source": [
    "#results = set(butler.registry.queryDataIds('visit', dataId={\"tract\":tract_selected, \"skymap\":\"latiss_v1\"}))\n",
    "#pprint(results)"
   ]
  },
  {
   "cell_type": "code",
   "execution_count": 55,
   "id": "1f6c860f-3a61-4375-a7f5-95e3ea7ee853",
   "metadata": {
    "execution": {
     "iopub.execute_input": "2023-12-30T20:24:34.105886Z",
     "iopub.status.busy": "2023-12-30T20:24:34.105769Z",
     "iopub.status.idle": "2023-12-30T20:25:03.799853Z",
     "shell.execute_reply": "2023-12-30T20:25:03.799340Z",
     "shell.execute_reply.started": "2023-12-30T20:24:34.105876Z"
    }
   },
   "outputs": [
    {
     "name": "stdout",
     "output_type": "stream",
     "text": [
      "2023051100437 20230511 : az= 1.35313 rad alt= 1.2188 rad am= 1.06487820815698\n",
      "2023051100438 20230511 : az= 1.35 rad alt= 1.22148 rad am= 1.06384316570543\n",
      "2023051100440 20230511 : az= 1.34294 rad alt= 1.22734 rad am= 1.06160899808711\n",
      "2023051100443 20230511 : az= 1.33185 rad alt= 1.23572 rad am= 1.05848943629892\n",
      "2023051100444 20230511 : az= 1.32909 rad alt= 1.23836 rad am= 1.05751507720064\n",
      "2023051100446 20230511 : az= 1.32153 rad alt= 1.24389 rad am= 1.05551414688431\n",
      "2023051100456 20230511 : az= 1.27746 rad alt= 1.27273 rad am= 1.04577287030931\n",
      "2023051100458 20230511 : az= 1.26814 rad alt= 1.27833 rad am= 1.04399489053738\n",
      "2023051100459 20230511 : az= 1.26362 rad alt= 1.28082 rad am= 1.04322723303561\n",
      "2023051100461 20230511 : az= 1.25418 rad alt= 1.28641 rad am= 1.04152194237661\n",
      "2023051100462 20230511 : az= 1.25032 rad alt= 1.289 rad am= 1.04073876882317\n",
      "2023051100463 20230511 : az= 1.17879 rad alt= 1.32449 rad am= 1.03084788108446\n",
      "2023051100468 20230511 : az= 1.14757 rad alt= 1.33756 rad am= 1.02756739914786\n",
      "2023051100469 20230511 : az= 1.1412 rad alt= 1.34001 rad am= 1.02697504213715\n",
      "2023052400672 20230524 : az= 5.22137 rad alt= 1.36698 rad am= 1.02082259356676\n",
      "2023052400674 20230524 : az= 5.20541 rad alt= 1.36212 rad am= 1.02186026820432\n",
      "2023052400689 20230524 : az= 5.06076 rad alt= 1.30499 rad am= 1.03598821566647\n",
      "2023052400699 20230524 : az= 4.99772 rad alt= 1.2687 rad am= 1.04692439093314\n",
      "2023052400701 20230524 : az= 4.9896 rad alt= 1.26338 rad am= 1.0486816184855\n",
      "2023052400704 20230524 : az= 4.97764 rad alt= 1.25524 rad am= 1.05140902498048\n",
      "2023052400708 20230524 : az= 4.94996 rad alt= 1.23492 rad am= 1.05861905554925\n",
      "2023052400710 20230524 : az= 4.94276 rad alt= 1.22928 rad am= 1.06069294255384\n",
      "2023071800294 20230718 : az= 5.53024 rad alt= 1.42696 rad am= 1.01020740807218\n",
      "2023071800296 20230718 : az= 5.49953 rad alt= 1.42306 rad am= 1.01077601504059\n",
      "2023071800297 20230718 : az= 5.47968 rad alt= 1.42107 rad am= 1.01107470940369\n",
      "2023071800307 20230718 : az= 5.3304 rad alt= 1.39537 rad am= 1.0153050286192\n",
      "2023071800309 20230718 : az= 5.30932 rad alt= 1.39077 rad am= 1.01613339925757\n",
      "2023071800310 20230718 : az= 5.29991 rad alt= 1.38862 rad am= 1.01654349614628\n",
      "2023071800312 20230718 : az= 5.28011 rad alt= 1.38389 rad am= 1.01742351721311\n",
      "2023072000197 20230720 : az= 5.27849 rad alt= 1.38255 rad am= 1.01766468468961\n",
      "2023080300509 20230803 : az= 4.68051 rad alt= 0.887864 rad am= 1.28697342143341\n"
     ]
    }
   ],
   "source": [
    "datasettype = 'calexp.visitInfo'\n",
    "for ccdvisit in list_of_ccdvisits:\n",
    "    try:\n",
    "        visitid = df_visit.loc[ccdvisit][\"visitId\"]\n",
    "        dayobs = visitid //100_000\n",
    "        dataId = {'visit': visitid, 'detector': 0}\n",
    "        visitInfo = butler.get(datasettype, dataId=dataId )\n",
    "        calexp = butler.get('calexp', dataId=dataId)\n",
    "        #print(visitInfo)\n",
    "        print(visitid,dayobs,\":\",\"az=\",visitInfo.boresightAzAlt[0],\"alt=\",visitInfo.boresightAzAlt[1],\"am=\",visitInfo.boresightAirmass)\n",
    "    except Exception as err:\n",
    "        print(f\"Unexpected {err=}, {type(err)=}\")\n",
    "        "
   ]
  },
  {
   "cell_type": "code",
   "execution_count": null,
   "id": "62f9d39d-1af0-40fc-8742-94ddfcc40c73",
   "metadata": {},
   "outputs": [],
   "source": []
  }
 ],
 "metadata": {
  "kernelspec": {
   "display_name": "LSST",
   "language": "python",
   "name": "lsst"
  },
  "language_info": {
   "codemirror_mode": {
    "name": "ipython",
    "version": 3
   },
   "file_extension": ".py",
   "mimetype": "text/x-python",
   "name": "python",
   "nbconvert_exporter": "python",
   "pygments_lexer": "ipython3",
   "version": "3.11.4"
  }
 },
 "nbformat": 4,
 "nbformat_minor": 5
}
