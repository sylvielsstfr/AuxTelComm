{
 "cells": [
  {
   "cell_type": "markdown",
   "id": "55b81efc-69c7-4929-b03c-9270ed2cbd1f",
   "metadata": {},
   "source": [
    "# Plot Source Time in Selected Objects\n",
    "\n",
    " work with Weakly_2023_44\n",
    "- use jupyter kernel LSST\n",
    "- author : Sylvie Dagoret-Campagne\n",
    "- affiliation : IJCLab\n",
    "- creation date : 2023/12/30\n",
    "- update : 2023/12/30\n"
   ]
  },
  {
   "cell_type": "code",
   "execution_count": null,
   "id": "45c7078d-716a-4d28-a46a-b72074b4f70d",
   "metadata": {
    "execution": {
     "iopub.execute_input": "2024-01-07T15:28:44.730222Z",
     "iopub.status.busy": "2024-01-07T15:28:44.730100Z",
     "iopub.status.idle": "2024-01-07T15:28:45.316445Z",
     "shell.execute_reply": "2024-01-07T15:28:45.315979Z",
     "shell.execute_reply.started": "2024-01-07T15:28:44.730209Z"
    }
   },
   "outputs": [],
   "source": [
    "import numpy as np\n",
    "import matplotlib.pyplot as plt\n",
    "import matplotlib as mpl\n",
    "import matplotlib.cm as cm \n",
    "import matplotlib.colors as colors\n",
    "import matplotlib.cm as cmx\n",
    "import matplotlib.dates as mdates\n",
    "%matplotlib inline\n",
    "from mpl_toolkits.axes_grid1 import make_axes_locatable\n",
    "from matplotlib.colors import LogNorm\n",
    "import pandas as pd\n",
    "\n",
    "import matplotlib.ticker                         # here's where the formatter is\n",
    "import os\n",
    "import re\n",
    "import pandas as pd\n",
    "import pickle\n",
    "\n",
    "plt.rcParams[\"figure.figsize\"] = (16,10)\n",
    "plt.rcParams[\"axes.labelsize\"] = 'xx-large'\n",
    "plt.rcParams['axes.titlesize'] = 'xx-large'\n",
    "plt.rcParams['xtick.labelsize']= 'xx-large'\n",
    "plt.rcParams['ytick.labelsize']= 'xx-large'"
   ]
  },
  {
   "cell_type": "code",
   "execution_count": null,
   "id": "fc0f03d2-5a9e-473b-99ed-934bba4c1bc1",
   "metadata": {
    "execution": {
     "iopub.execute_input": "2024-01-07T15:28:45.317618Z",
     "iopub.status.busy": "2024-01-07T15:28:45.317348Z",
     "iopub.status.idle": "2024-01-07T15:28:48.459068Z",
     "shell.execute_reply": "2024-01-07T15:28:48.458678Z",
     "shell.execute_reply.started": "2024-01-07T15:28:45.317604Z"
    }
   },
   "outputs": [],
   "source": [
    "# A repo which exists at the USDF, contains data from various instruments and\n",
    "REPO = '/repo/embargo'\n",
    "\n",
    "from lsst.daf.butler import Butler\n",
    "from pprint import pprint\n",
    "\n",
    "# Here we specify a default collection to use\n",
    "my_collection = \"LATISS/runs/AUXTEL_DRP_IMAGING_2023-11A-10A-09AB-08ABC-07AB-05AB/w_2023_46/PREOPS-4553\"\n",
    "butler = Butler(REPO, collections=my_collection)\n",
    "registry = butler.registry"
   ]
  },
  {
   "cell_type": "code",
   "execution_count": null,
   "id": "21aad424-9125-48dc-984d-26029d7202a4",
   "metadata": {
    "execution": {
     "iopub.execute_input": "2024-01-07T15:28:48.459729Z",
     "iopub.status.busy": "2024-01-07T15:28:48.459590Z",
     "iopub.status.idle": "2024-01-07T15:28:48.796585Z",
     "shell.execute_reply": "2024-01-07T15:28:48.796223Z",
     "shell.execute_reply.started": "2024-01-07T15:28:48.459715Z"
    }
   },
   "outputs": [],
   "source": [
    "#import lsst.sphgeom\n",
    "from  lsst.geom import SpherePoint, Angle\n",
    "import lsst.sphgeom\n",
    "\n",
    "import lsst.afw.image as afwImage\n",
    "import lsst.afw.display as afwDisplay\n",
    "import lsst.afw.table as afwTable\n",
    "import lsst.geom as geom\n",
    "afwDisplay.setDefaultBackend('matplotlib')\n",
    "plt.rcParams['figure.figsize'] = (8.0, 8.0)"
   ]
  },
  {
   "cell_type": "code",
   "execution_count": null,
   "id": "41028799-75e1-4be8-84a2-de2765a760c2",
   "metadata": {
    "execution": {
     "iopub.execute_input": "2024-01-07T15:28:48.797429Z",
     "iopub.status.busy": "2024-01-07T15:28:48.797074Z",
     "iopub.status.idle": "2024-01-07T15:28:48.799942Z",
     "shell.execute_reply": "2024-01-07T15:28:48.799661Z",
     "shell.execute_reply.started": "2024-01-07T15:28:48.797415Z"
    }
   },
   "outputs": [],
   "source": [
    "Angle(3.1415).asDegrees()"
   ]
  },
  {
   "cell_type": "code",
   "execution_count": null,
   "id": "635fa486-3436-464d-ae9c-fc78d7e402ed",
   "metadata": {
    "execution": {
     "iopub.execute_input": "2024-01-07T15:28:48.801029Z",
     "iopub.status.busy": "2024-01-07T15:28:48.800875Z",
     "iopub.status.idle": "2024-01-07T15:28:48.804038Z",
     "shell.execute_reply": "2024-01-07T15:28:48.803731Z",
     "shell.execute_reply.started": "2024-01-07T15:28:48.801016Z"
    }
   },
   "outputs": [],
   "source": [
    "Angle(3.1415).asRadians()"
   ]
  },
  {
   "cell_type": "code",
   "execution_count": null,
   "id": "1b7ca33c-6582-41eb-81b9-d4f227c06ce4",
   "metadata": {
    "execution": {
     "iopub.execute_input": "2024-01-07T15:28:48.804651Z",
     "iopub.status.busy": "2024-01-07T15:28:48.804427Z",
     "iopub.status.idle": "2024-01-07T15:28:48.809011Z",
     "shell.execute_reply": "2024-01-07T15:28:48.808688Z",
     "shell.execute_reply.started": "2024-01-07T15:28:48.804638Z"
    }
   },
   "outputs": [],
   "source": [
    "SpherePoint(Angle(3.1415),Angle(1.0))"
   ]
  },
  {
   "cell_type": "code",
   "execution_count": null,
   "id": "61a85395-b407-41ab-865f-8eda018a6158",
   "metadata": {
    "execution": {
     "iopub.execute_input": "2024-01-07T15:28:48.809510Z",
     "iopub.status.busy": "2024-01-07T15:28:48.809395Z",
     "iopub.status.idle": "2024-01-07T15:28:48.811754Z",
     "shell.execute_reply": "2024-01-07T15:28:48.811464Z",
     "shell.execute_reply.started": "2024-01-07T15:28:48.809499Z"
    }
   },
   "outputs": [],
   "source": [
    "import astropy.coordinates as coord\n",
    "import astropy.units as u\n",
    "from astropy.time import Time\n",
    "from astropy.coordinates import SkyCoord\n",
    "from astropy import coordinates"
   ]
  },
  {
   "cell_type": "code",
   "execution_count": null,
   "id": "80820912-e688-465e-9fe6-2f4da72554ef",
   "metadata": {
    "execution": {
     "iopub.execute_input": "2024-01-07T15:28:48.812261Z",
     "iopub.status.busy": "2024-01-07T15:28:48.812146Z",
     "iopub.status.idle": "2024-01-07T15:28:48.816247Z",
     "shell.execute_reply": "2024-01-07T15:28:48.815936Z",
     "shell.execute_reply.started": "2024-01-07T15:28:48.812248Z"
    }
   },
   "outputs": [],
   "source": [
    "import pandas as pd"
   ]
  },
  {
   "cell_type": "code",
   "execution_count": null,
   "id": "795c0b53-d830-4149-9941-a90b7b55c228",
   "metadata": {
    "execution": {
     "iopub.execute_input": "2024-01-07T15:28:48.816747Z",
     "iopub.status.busy": "2024-01-07T15:28:48.816632Z",
     "iopub.status.idle": "2024-01-07T15:28:48.820543Z",
     "shell.execute_reply": "2024-01-07T15:28:48.820224Z",
     "shell.execute_reply.started": "2024-01-07T15:28:48.816735Z"
    }
   },
   "outputs": [],
   "source": [
    "def convert_fluxtomag(x) :\n",
    "    \"\"\"\n",
    "    The object and source catalogs store only fluxes. There are hundreds of flux-related columns, \n",
    "    and to store them also as magnitudes would be redundant, and a waste of space.\n",
    "    All flux units are nanojanskys. The AB Magnitudes Wikipedia page provides a concise resource \n",
    "    for users unfamiliar with AB magnitudes and jansky fluxes. To convert to AB magnitudes use:\n",
    "    As demonstrated in Section 2.3.2, to add columns of magnitudes after retrieving columns of flux, users can do this:\n",
    "    results_table['r_calibMag'] = -2.50 * numpy.log10(results_table['r_calibFlux']) + 31.4\n",
    "    results_table['r_cModelMag'] = -2.50 * numpy.log10(results_table['r_cModelFlux']) + 31.4\n",
    "    (from DP0 tutorial)\n",
    "    \"\"\"\n",
    "    return -2.50 * np.log10(x) + 31.4"
   ]
  },
  {
   "cell_type": "markdown",
   "id": "f3067001-89fe-4e25-b898-bf93053ef176",
   "metadata": {},
   "source": [
    "## Config"
   ]
  },
  {
   "cell_type": "markdown",
   "id": "85562e26-95fd-42b6-a1b3-a5a223c04c65",
   "metadata": {},
   "source": [
    "### Galactic Plane"
   ]
  },
  {
   "cell_type": "code",
   "execution_count": null,
   "id": "cd586680-7fbe-4780-88e7-4163b4f9cd75",
   "metadata": {
    "execution": {
     "iopub.execute_input": "2024-01-07T15:28:48.821034Z",
     "iopub.status.busy": "2024-01-07T15:28:48.820923Z",
     "iopub.status.idle": "2024-01-07T15:28:48.829263Z",
     "shell.execute_reply": "2024-01-07T15:28:48.828957Z",
     "shell.execute_reply.started": "2024-01-07T15:28:48.821023Z"
    }
   },
   "outputs": [],
   "source": [
    "gal_long = np.linspace(-180.,180,360)\n",
    "gal_lat = np.zeros((360))\n",
    "\n",
    "coordinates_galactic_planes = SkyCoord(l=gal_long*u.degree, b=gal_lat*u.degree, frame='galactic')\n",
    "gp_radec = coordinates_galactic_planes.transform_to('icrs')  \n",
    "\n",
    "gp_ra_toplot = coordinates.Angle(gp_radec.ra.degree*u.degree)\n",
    "gp_ra_toplot = gp_ra_toplot.wrap_at(180*u.degree)"
   ]
  },
  {
   "cell_type": "markdown",
   "id": "177546e8-0e9a-486f-a333-79f565969380",
   "metadata": {},
   "source": [
    "### Sources"
   ]
  },
  {
   "cell_type": "code",
   "execution_count": null,
   "id": "730c561b-16a0-4f32-8076-a5b252144bc5",
   "metadata": {
    "execution": {
     "iopub.execute_input": "2024-01-07T15:28:48.829817Z",
     "iopub.status.busy": "2024-01-07T15:28:48.829663Z",
     "iopub.status.idle": "2024-01-07T15:28:48.831627Z",
     "shell.execute_reply": "2024-01-07T15:28:48.831350Z",
     "shell.execute_reply.started": "2024-01-07T15:28:48.829805Z"
    }
   },
   "outputs": [],
   "source": [
    "file = \"sourceTable_202312.csv\"\n",
    "file_visit = \"sourceTablevisit_202312.csv\""
   ]
  },
  {
   "cell_type": "code",
   "execution_count": null,
   "id": "cd652627-7574-4566-911e-7eff98256059",
   "metadata": {
    "execution": {
     "iopub.execute_input": "2024-01-07T15:28:48.832142Z",
     "iopub.status.busy": "2024-01-07T15:28:48.832024Z",
     "iopub.status.idle": "2024-01-07T15:28:48.836014Z",
     "shell.execute_reply": "2024-01-07T15:28:48.835735Z",
     "shell.execute_reply.started": "2024-01-07T15:28:48.832131Z"
    }
   },
   "outputs": [],
   "source": [
    "suptitle = \"Sources, Auxtel phot 2023\""
   ]
  },
  {
   "cell_type": "markdown",
   "id": "c2163798-5114-48d6-a0b0-fff68c71e0a6",
   "metadata": {},
   "source": [
    "## Skymap, Tracts and Patchs"
   ]
  },
  {
   "cell_type": "code",
   "execution_count": null,
   "id": "d5d61d77-7ccc-443c-9b62-ec5e1bfd2fe8",
   "metadata": {
    "execution": {
     "iopub.execute_input": "2024-01-07T15:28:48.836510Z",
     "iopub.status.busy": "2024-01-07T15:28:48.836398Z",
     "iopub.status.idle": "2024-01-07T15:28:48.839803Z",
     "shell.execute_reply": "2024-01-07T15:28:48.839519Z",
     "shell.execute_reply.started": "2024-01-07T15:28:48.836499Z"
    }
   },
   "outputs": [],
   "source": [
    "Auxtel2023_tracts = [ 5616,5634,5615,10644,383,8188,3863,455,452,5839,10643,382]"
   ]
  },
  {
   "cell_type": "code",
   "execution_count": null,
   "id": "39925298-eb74-4933-8f5c-d06508f9ed48",
   "metadata": {
    "execution": {
     "iopub.execute_input": "2024-01-07T15:28:48.841748Z",
     "iopub.status.busy": "2024-01-07T15:28:48.841534Z",
     "iopub.status.idle": "2024-01-07T15:28:48.844291Z",
     "shell.execute_reply": "2024-01-07T15:28:48.843975Z",
     "shell.execute_reply.started": "2024-01-07T15:28:48.841737Z"
    }
   },
   "outputs": [],
   "source": [
    "skymap_auxtel ='latiss_v1'"
   ]
  },
  {
   "cell_type": "code",
   "execution_count": null,
   "id": "ab587fcd-5ae1-451d-a697-e7cc935252f8",
   "metadata": {
    "execution": {
     "iopub.execute_input": "2024-01-07T15:28:48.844784Z",
     "iopub.status.busy": "2024-01-07T15:28:48.844671Z",
     "iopub.status.idle": "2024-01-07T15:28:48.883357Z",
     "shell.execute_reply": "2024-01-07T15:28:48.882877Z",
     "shell.execute_reply.started": "2024-01-07T15:28:48.844773Z"
    }
   },
   "outputs": [],
   "source": [
    "skymap = butler.get('skyMap', skymap=skymap_auxtel, collections=my_collection)"
   ]
  },
  {
   "cell_type": "code",
   "execution_count": null,
   "id": "63ce733a-3ebd-426e-a124-336b82a31a28",
   "metadata": {
    "execution": {
     "iopub.execute_input": "2024-01-07T15:28:48.884069Z",
     "iopub.status.busy": "2024-01-07T15:28:48.883945Z",
     "iopub.status.idle": "2024-01-07T15:28:48.930316Z",
     "shell.execute_reply": "2024-01-07T15:28:48.929947Z",
     "shell.execute_reply.started": "2024-01-07T15:28:48.884056Z"
    }
   },
   "outputs": [],
   "source": [
    "with open('Latiss_tractspatchs.pickle', 'rb') as handle:\n",
    "    tracts_patchs_dict = pickle.load(handle)"
   ]
  },
  {
   "cell_type": "code",
   "execution_count": null,
   "id": "5b34d5af-f915-44fe-9b1f-701daf5fe860",
   "metadata": {
    "execution": {
     "iopub.execute_input": "2024-01-07T15:28:48.930948Z",
     "iopub.status.busy": "2024-01-07T15:28:48.930828Z",
     "iopub.status.idle": "2024-01-07T15:28:48.934580Z",
     "shell.execute_reply": "2024-01-07T15:28:48.934209Z",
     "shell.execute_reply.started": "2024-01-07T15:28:48.930936Z"
    }
   },
   "outputs": [],
   "source": [
    "tracts_patchs_dict"
   ]
  },
  {
   "cell_type": "markdown",
   "id": "a426fba9-c153-47bd-aa1a-b8a064201688",
   "metadata": {
    "execution": {
     "iopub.execute_input": "2023-12-29T15:37:58.107082Z",
     "iopub.status.busy": "2023-12-29T15:37:58.106492Z",
     "iopub.status.idle": "2023-12-29T15:37:58.109824Z",
     "shell.execute_reply": "2023-12-29T15:37:58.109421Z",
     "shell.execute_reply.started": "2023-12-29T15:37:58.107066Z"
    }
   },
   "source": [
    "### Should try Tracts\n",
    "- 5615 - OK , Not in our galaxy\n",
    "- 5616 - Non, 1 nuit\n",
    "- 5839 - Non, 1 nuit\n",
    "- 5634 - OK - Galaxie Plane"
   ]
  },
  {
   "cell_type": "code",
   "execution_count": null,
   "id": "446289c6-8a3e-40af-afb6-d682c3b565d3",
   "metadata": {
    "execution": {
     "iopub.execute_input": "2024-01-07T15:28:48.935143Z",
     "iopub.status.busy": "2024-01-07T15:28:48.935030Z",
     "iopub.status.idle": "2024-01-07T15:28:48.937312Z",
     "shell.execute_reply": "2024-01-07T15:28:48.936940Z",
     "shell.execute_reply.started": "2024-01-07T15:28:48.935132Z"
    }
   },
   "outputs": [],
   "source": [
    "tract_selected = 5615"
   ]
  },
  {
   "cell_type": "code",
   "execution_count": null,
   "id": "2210587f-4c13-40a1-865b-ccd68c157348",
   "metadata": {
    "execution": {
     "iopub.execute_input": "2024-01-07T15:28:48.937915Z",
     "iopub.status.busy": "2024-01-07T15:28:48.937793Z",
     "iopub.status.idle": "2024-01-07T15:28:48.943642Z",
     "shell.execute_reply": "2024-01-07T15:28:48.943289Z",
     "shell.execute_reply.started": "2024-01-07T15:28:48.937904Z"
    }
   },
   "outputs": [],
   "source": [
    "tractInfo = skymap.generateTract(tract_selected)"
   ]
  },
  {
   "cell_type": "code",
   "execution_count": null,
   "id": "a01a9091-a6d2-4408-b27f-418e92774d5a",
   "metadata": {
    "execution": {
     "iopub.execute_input": "2024-01-07T15:28:48.944186Z",
     "iopub.status.busy": "2024-01-07T15:28:48.944074Z",
     "iopub.status.idle": "2024-01-07T15:28:48.947968Z",
     "shell.execute_reply": "2024-01-07T15:28:48.947628Z",
     "shell.execute_reply.started": "2024-01-07T15:28:48.944175Z"
    }
   },
   "outputs": [],
   "source": [
    "tractInfo.contains "
   ]
  },
  {
   "cell_type": "code",
   "execution_count": null,
   "id": "98cff762-d44c-4a86-93e9-d8418e7672aa",
   "metadata": {
    "execution": {
     "iopub.execute_input": "2024-01-07T15:28:48.948549Z",
     "iopub.status.busy": "2024-01-07T15:28:48.948431Z",
     "iopub.status.idle": "2024-01-07T15:28:48.953034Z",
     "shell.execute_reply": "2024-01-07T15:28:48.952678Z",
     "shell.execute_reply.started": "2024-01-07T15:28:48.948538Z"
    }
   },
   "outputs": [],
   "source": [
    "def SourceInTract(row):\n",
    "    #coord_dec\n",
    "    #coord_ra\n",
    "    #print(row)\n",
    "    try:\n",
    "        ra = row[\"ra\"]\n",
    "        dec = row[\"dec\"]\n",
    "        ra_rad = ra*np.pi/180.\n",
    "        dec_rad = dec*np.pi/180.\n",
    "        spherepoint = SpherePoint(Angle(ra_rad),Angle(dec_rad))\n",
    "        flag = tractInfo.contains( spherepoint)\n",
    "        return flag\n",
    "    except Exception as err:\n",
    "        print(f\"Unexpected {err=}, {type(err)=}\")\n",
    "        return False\n",
    "        \n",
    "    "
   ]
  },
  {
   "cell_type": "markdown",
   "id": "b1b5721a-58ce-4bc5-b1d7-47bd97e0054f",
   "metadata": {},
   "source": [
    "### Selected Objects"
   ]
  },
  {
   "cell_type": "code",
   "execution_count": null,
   "id": "af0908ab-db48-469d-b85d-f272284917db",
   "metadata": {
    "execution": {
     "iopub.execute_input": "2024-01-07T15:28:48.953694Z",
     "iopub.status.busy": "2024-01-07T15:28:48.953577Z",
     "iopub.status.idle": "2024-01-07T15:28:48.955842Z",
     "shell.execute_reply": "2024-01-07T15:28:48.955498Z",
     "shell.execute_reply.started": "2024-01-07T15:28:48.953683Z"
    }
   },
   "outputs": [],
   "source": [
    "fileobjects_in = \"objectTableselected_202312.csv\""
   ]
  },
  {
   "cell_type": "code",
   "execution_count": null,
   "id": "48736474-d439-47d2-9c0b-c8868a2872b3",
   "metadata": {
    "execution": {
     "iopub.execute_input": "2024-01-07T15:28:48.956429Z",
     "iopub.status.busy": "2024-01-07T15:28:48.956318Z",
     "iopub.status.idle": "2024-01-07T15:28:48.977670Z",
     "shell.execute_reply": "2024-01-07T15:28:48.977296Z",
     "shell.execute_reply.started": "2024-01-07T15:28:48.956419Z"
    }
   },
   "outputs": [],
   "source": [
    "df_selobj = pd.read_csv(fileobjects_in)"
   ]
  },
  {
   "cell_type": "code",
   "execution_count": null,
   "id": "e253464e-52f4-4375-a6b5-eeb8fd39251d",
   "metadata": {
    "execution": {
     "iopub.execute_input": "2024-01-07T15:28:48.978354Z",
     "iopub.status.busy": "2024-01-07T15:28:48.978231Z",
     "iopub.status.idle": "2024-01-07T15:28:48.980352Z",
     "shell.execute_reply": "2024-01-07T15:28:48.979991Z",
     "shell.execute_reply.started": "2024-01-07T15:28:48.978343Z"
    }
   },
   "outputs": [],
   "source": [
    "index_selected_object = 10\n",
    "the_obj=df_selobj.iloc[index_selected_object]"
   ]
  },
  {
   "cell_type": "code",
   "execution_count": null,
   "id": "2b714864-65bc-434f-99d5-76b6f94bc396",
   "metadata": {
    "execution": {
     "iopub.execute_input": "2024-01-07T15:28:48.980973Z",
     "iopub.status.busy": "2024-01-07T15:28:48.980855Z",
     "iopub.status.idle": "2024-01-07T15:28:48.984764Z",
     "shell.execute_reply": "2024-01-07T15:28:48.984408Z",
     "shell.execute_reply.started": "2024-01-07T15:28:48.980962Z"
    }
   },
   "outputs": [],
   "source": [
    "the_obj"
   ]
  },
  {
   "cell_type": "code",
   "execution_count": null,
   "id": "47d0ad10-40c0-4ed2-9d6c-98c77f550e43",
   "metadata": {
    "execution": {
     "iopub.execute_input": "2024-01-07T15:28:48.985371Z",
     "iopub.status.busy": "2024-01-07T15:28:48.985253Z",
     "iopub.status.idle": "2024-01-07T15:28:48.989172Z",
     "shell.execute_reply": "2024-01-07T15:28:48.988807Z",
     "shell.execute_reply.started": "2024-01-07T15:28:48.985360Z"
    }
   },
   "outputs": [],
   "source": [
    "suptitle += f\" {index_selected_object}) Object {the_obj.objectId }\""
   ]
  },
  {
   "cell_type": "code",
   "execution_count": null,
   "id": "b854eb19-a785-4032-be36-e55ab056f895",
   "metadata": {
    "execution": {
     "iopub.execute_input": "2024-01-07T15:28:48.989751Z",
     "iopub.status.busy": "2024-01-07T15:28:48.989638Z",
     "iopub.status.idle": "2024-01-07T15:28:48.993562Z",
     "shell.execute_reply": "2024-01-07T15:28:48.993215Z",
     "shell.execute_reply.started": "2024-01-07T15:28:48.989740Z"
    }
   },
   "outputs": [],
   "source": [
    "the_obj.objectId "
   ]
  },
  {
   "cell_type": "code",
   "execution_count": null,
   "id": "5aa55810-997f-4043-b1ea-0d6c875e7246",
   "metadata": {
    "execution": {
     "iopub.execute_input": "2024-01-07T15:28:48.994196Z",
     "iopub.status.busy": "2024-01-07T15:28:48.994080Z",
     "iopub.status.idle": "2024-01-07T15:28:48.997944Z",
     "shell.execute_reply": "2024-01-07T15:28:48.997581Z",
     "shell.execute_reply.started": "2024-01-07T15:28:48.994185Z"
    }
   },
   "outputs": [],
   "source": [
    "vect_to_object = lsst.sphgeom.UnitVector3d(lsst.sphgeom.LonLat.fromDegrees(the_obj.coord_ra, the_obj.coord_dec))"
   ]
  },
  {
   "cell_type": "code",
   "execution_count": null,
   "id": "dac8f1fd-4752-4ac9-a05a-aef21f575775",
   "metadata": {
    "execution": {
     "iopub.execute_input": "2024-01-07T15:28:48.998607Z",
     "iopub.status.busy": "2024-01-07T15:28:48.998490Z",
     "iopub.status.idle": "2024-01-07T15:28:49.001028Z",
     "shell.execute_reply": "2024-01-07T15:28:49.000668Z",
     "shell.execute_reply.started": "2024-01-07T15:28:48.998596Z"
    }
   },
   "outputs": [],
   "source": [
    "spherePointCenter = lsst.geom.SpherePoint(the_obj.coord_ra*lsst.geom.degrees, the_obj.coord_dec*lsst.geom.degrees)"
   ]
  },
  {
   "cell_type": "markdown",
   "id": "5864e1a4-d79b-4102-b07f-edc6a981aea3",
   "metadata": {},
   "source": [
    "## Input"
   ]
  },
  {
   "cell_type": "code",
   "execution_count": null,
   "id": "c0b49870-c9a2-4573-9cdf-bddfe78cbc9a",
   "metadata": {
    "execution": {
     "iopub.execute_input": "2024-01-07T15:28:49.001615Z",
     "iopub.status.busy": "2024-01-07T15:28:49.001500Z",
     "iopub.status.idle": "2024-01-07T15:29:12.530596Z",
     "shell.execute_reply": "2024-01-07T15:29:12.530151Z",
     "shell.execute_reply.started": "2024-01-07T15:28:49.001604Z"
    }
   },
   "outputs": [],
   "source": [
    "df = pd.read_csv(file,index_col=0)\n",
    "#df_visit = pd.read_csv(file_visit,index_col=0)"
   ]
  },
  {
   "cell_type": "code",
   "execution_count": null,
   "id": "6492ef7b-9855-4230-9589-ea0f5cf85b69",
   "metadata": {
    "execution": {
     "iopub.execute_input": "2024-01-07T15:29:12.531357Z",
     "iopub.status.busy": "2024-01-07T15:29:12.531222Z",
     "iopub.status.idle": "2024-01-07T15:29:12.533575Z",
     "shell.execute_reply": "2024-01-07T15:29:12.533233Z",
     "shell.execute_reply.started": "2024-01-07T15:29:12.531345Z"
    }
   },
   "outputs": [],
   "source": [
    "list_of_columns = sorted(list(df.columns))"
   ]
  },
  {
   "cell_type": "code",
   "execution_count": null,
   "id": "b5f27295-a215-433b-bb4f-7c388b666066",
   "metadata": {
    "execution": {
     "iopub.execute_input": "2024-01-07T15:29:12.534233Z",
     "iopub.status.busy": "2024-01-07T15:29:12.534066Z",
     "iopub.status.idle": "2024-01-07T15:29:12.538126Z",
     "shell.execute_reply": "2024-01-07T15:29:12.537786Z",
     "shell.execute_reply.started": "2024-01-07T15:29:12.534221Z"
    }
   },
   "outputs": [],
   "source": [
    "#for col in list_of_columns:\n",
    "#    print(col)"
   ]
  },
  {
   "cell_type": "markdown",
   "id": "2cabbafa-e26c-433d-a719-8c79b487dc52",
   "metadata": {},
   "source": [
    "## Selection"
   ]
  },
  {
   "cell_type": "code",
   "execution_count": null,
   "id": "2b22d933-18e9-4f95-b031-be41696c9ba8",
   "metadata": {
    "execution": {
     "iopub.execute_input": "2024-01-07T15:29:12.538692Z",
     "iopub.status.busy": "2024-01-07T15:29:12.538572Z",
     "iopub.status.idle": "2024-01-07T15:29:13.133653Z",
     "shell.execute_reply": "2024-01-07T15:29:13.133206Z",
     "shell.execute_reply.started": "2024-01-07T15:29:12.538680Z"
    }
   },
   "outputs": [],
   "source": [
    "df.dropna(inplace=True)\n",
    "selection1 = df[\"extendedness_flag\"] == False\n",
    "selection2 = df[\"detect_isPrimary\"] == True\n",
    "df = df[selection1 & selection2 ]"
   ]
  },
  {
   "cell_type": "markdown",
   "id": "9abd196b-03fe-4f2d-a256-78b0d4f5ceee",
   "metadata": {},
   "source": [
    "### Selection for one object"
   ]
  },
  {
   "cell_type": "code",
   "execution_count": null,
   "id": "496fd590-a928-466a-90de-0c2b1af154a6",
   "metadata": {
    "execution": {
     "iopub.execute_input": "2024-01-07T15:29:13.134386Z",
     "iopub.status.busy": "2024-01-07T15:29:13.134257Z",
     "iopub.status.idle": "2024-01-07T15:29:13.136353Z",
     "shell.execute_reply": "2024-01-07T15:29:13.136024Z",
     "shell.execute_reply.started": "2024-01-07T15:29:13.134373Z"
    }
   },
   "outputs": [],
   "source": [
    "#df[\"inptract\"]=df[[\"ra\",\"dec\"]].apply(SourceInTract)"
   ]
  },
  {
   "cell_type": "code",
   "execution_count": null,
   "id": "cb64bc5d-8992-43cd-abc9-07fc838befc5",
   "metadata": {
    "execution": {
     "iopub.execute_input": "2024-01-07T15:29:13.136985Z",
     "iopub.status.busy": "2024-01-07T15:29:13.136843Z",
     "iopub.status.idle": "2024-01-07T15:29:13.140565Z",
     "shell.execute_reply": "2024-01-07T15:29:13.140244Z",
     "shell.execute_reply.started": "2024-01-07T15:29:13.136974Z"
    }
   },
   "outputs": [],
   "source": [
    "cut_arcsc = 12.0"
   ]
  },
  {
   "cell_type": "code",
   "execution_count": null,
   "id": "8e32dcff-9e42-4c01-b91d-9ec8fa09d696",
   "metadata": {
    "execution": {
     "iopub.execute_input": "2024-01-07T15:29:13.141136Z",
     "iopub.status.busy": "2024-01-07T15:29:13.141024Z",
     "iopub.status.idle": "2024-01-07T15:29:29.886583Z",
     "shell.execute_reply": "2024-01-07T15:29:29.886218Z",
     "shell.execute_reply.started": "2024-01-07T15:29:13.141125Z"
    }
   },
   "outputs": [],
   "source": [
    "all_angles = []\n",
    "for index, row in df.iterrows():\n",
    "    spt = lsst.geom.SpherePoint(row[\"coord_ra\"]*lsst.geom.degrees, row[\"coord_dec\"]*lsst.geom.degrees)\n",
    "    ang = spherePointCenter.separation(spt)\n",
    "    ang_arcsec = ang.asArcseconds()\n",
    "    all_angles.append(ang_arcsec)"
   ]
  },
  {
   "cell_type": "code",
   "execution_count": null,
   "id": "569b6896-c6dd-4fe6-8282-3348f305dde9",
   "metadata": {
    "execution": {
     "iopub.execute_input": "2024-01-07T15:29:29.887215Z",
     "iopub.status.busy": "2024-01-07T15:29:29.887091Z",
     "iopub.status.idle": "2024-01-07T15:29:29.919253Z",
     "shell.execute_reply": "2024-01-07T15:29:29.918809Z",
     "shell.execute_reply.started": "2024-01-07T15:29:29.887203Z"
    }
   },
   "outputs": [],
   "source": [
    "df[\"sep\"] = all_angles"
   ]
  },
  {
   "cell_type": "code",
   "execution_count": null,
   "id": "a4cac08f-17ca-47a5-9acf-fa4f8f785e08",
   "metadata": {
    "execution": {
     "iopub.execute_input": "2024-01-07T15:29:29.919988Z",
     "iopub.status.busy": "2024-01-07T15:29:29.919857Z",
     "iopub.status.idle": "2024-01-07T15:29:29.922867Z",
     "shell.execute_reply": "2024-01-07T15:29:29.922514Z",
     "shell.execute_reply.started": "2024-01-07T15:29:29.919975Z"
    }
   },
   "outputs": [],
   "source": [
    "df[\"sep\"].min() "
   ]
  },
  {
   "cell_type": "code",
   "execution_count": null,
   "id": "0da7e698-de56-4fd5-930f-d4f9fd7780b1",
   "metadata": {
    "execution": {
     "iopub.execute_input": "2024-01-07T15:29:29.923505Z",
     "iopub.status.busy": "2024-01-07T15:29:29.923385Z",
     "iopub.status.idle": "2024-01-07T15:29:30.276048Z",
     "shell.execute_reply": "2024-01-07T15:29:30.275586Z",
     "shell.execute_reply.started": "2024-01-07T15:29:29.923494Z"
    }
   },
   "outputs": [],
   "source": [
    "df.sort_values(by=[\"dateobs\"],inplace=True)"
   ]
  },
  {
   "cell_type": "code",
   "execution_count": null,
   "id": "846daa8c-5150-4d8c-bbec-8c32a11c2acb",
   "metadata": {
    "execution": {
     "iopub.execute_input": "2024-01-07T15:29:30.277024Z",
     "iopub.status.busy": "2024-01-07T15:29:30.276880Z",
     "iopub.status.idle": "2024-01-07T15:29:30.567513Z",
     "shell.execute_reply": "2024-01-07T15:29:30.567067Z",
     "shell.execute_reply.started": "2024-01-07T15:29:30.277012Z"
    }
   },
   "outputs": [],
   "source": [
    "fig, ax = plt.subplots(1,1,figsize=(14,4))\n",
    "df['sep'].plot(kind=\"hist\",bins=50,range=(0,50),ax=ax,grid=True,title=\"separation angle\")\n",
    "ax.axvline(cut_arcsc,color=\"k\")\n",
    "ax.set_xlabel(\"$\\\\theta$ (arcsec)\")\n",
    "plt.suptitle(suptitle)"
   ]
  },
  {
   "cell_type": "code",
   "execution_count": null,
   "id": "a0c79d8f-748e-4aa3-a634-ad4f750ba62b",
   "metadata": {
    "execution": {
     "iopub.execute_input": "2024-01-07T15:29:30.571837Z",
     "iopub.status.busy": "2024-01-07T15:29:30.571489Z",
     "iopub.status.idle": "2024-01-07T15:29:30.622021Z",
     "shell.execute_reply": "2024-01-07T15:29:30.621562Z",
     "shell.execute_reply.started": "2024-01-07T15:29:30.571822Z"
    }
   },
   "outputs": [],
   "source": [
    "selection3 = df['sep']< cut_arcsc\n",
    "df = df[selection3 ]"
   ]
  },
  {
   "cell_type": "code",
   "execution_count": null,
   "id": "1996e45f-02d9-45e6-85c0-692d39ad0459",
   "metadata": {},
   "outputs": [],
   "source": []
  },
  {
   "cell_type": "markdown",
   "id": "cbb0a6ac-4ff1-4142-9233-fdc5e48075e4",
   "metadata": {},
   "source": [
    "## Magnitudes"
   ]
  },
  {
   "cell_type": "code",
   "execution_count": null,
   "id": "1ef55be6-6e72-498c-a686-1350a8a2e76e",
   "metadata": {
    "execution": {
     "iopub.execute_input": "2024-01-07T15:29:30.622741Z",
     "iopub.status.busy": "2024-01-07T15:29:30.622615Z",
     "iopub.status.idle": "2024-01-07T15:29:30.627936Z",
     "shell.execute_reply": "2024-01-07T15:29:30.627552Z",
     "shell.execute_reply.started": "2024-01-07T15:29:30.622729Z"
    }
   },
   "outputs": [],
   "source": [
    "df[\"psfMag\"] = df[\"psfFlux\"].map(convert_fluxtomag)\n",
    "df[\"gaussianMag\"] = df[\"gaussianFlux\"].map(convert_fluxtomag)\n",
    "df[\"calibMag\"] = df[\"calibFlux\"].map(convert_fluxtomag)"
   ]
  },
  {
   "cell_type": "code",
   "execution_count": null,
   "id": "631abe61-784c-4231-88cf-7fcd7c24aede",
   "metadata": {
    "execution": {
     "iopub.execute_input": "2024-01-07T15:29:30.628560Z",
     "iopub.status.busy": "2024-01-07T15:29:30.628438Z",
     "iopub.status.idle": "2024-01-07T15:29:31.415047Z",
     "shell.execute_reply": "2024-01-07T15:29:31.414612Z",
     "shell.execute_reply.started": "2024-01-07T15:29:30.628548Z"
    }
   },
   "outputs": [],
   "source": [
    "fig, (ax1,ax2,ax3) = plt.subplots(1,3,figsize=(14,4))\n",
    "\n",
    "df['psfMag'].plot(kind=\"hist\",bins=50,range=(5,30),facecolor=\"g\",logy=True,grid=True,title=\"psfMag\",ax=ax1)\n",
    "df['gaussianMag'].plot(kind=\"hist\",bins=50,range=(5,30),facecolor=\"r\",logy=True,grid=True,title=\"gaussianMag\",ax=ax2)\n",
    "df['calibMag'].plot(kind=\"hist\",bins=50,range=(5,30),facecolor=\"grey\",logy=True,grid=True,title=\"calibMag\",ax=ax3)\n",
    "plt.suptitle(suptitle,y=1.0,fontsize=16)\n",
    "plt.tight_layout()\n"
   ]
  },
  {
   "cell_type": "markdown",
   "id": "5c5b5bf8-c662-4cb8-98f6-380ccb4b5df8",
   "metadata": {},
   "source": [
    "## Convert dateobs into datetime"
   ]
  },
  {
   "cell_type": "code",
   "execution_count": null,
   "id": "a008e1f9-eeec-4f6e-8ae1-1550225193bb",
   "metadata": {
    "execution": {
     "iopub.execute_input": "2024-01-07T15:29:31.415762Z",
     "iopub.status.busy": "2024-01-07T15:29:31.415629Z",
     "iopub.status.idle": "2024-01-07T15:29:31.426816Z",
     "shell.execute_reply": "2024-01-07T15:29:31.426442Z",
     "shell.execute_reply.started": "2024-01-07T15:29:31.415749Z"
    }
   },
   "outputs": [],
   "source": [
    "df[[\"dateobs\",\"sep\",\"band\",\"ccdVisitId\",'x','y']]"
   ]
  },
  {
   "cell_type": "code",
   "execution_count": null,
   "id": "af6516dd-a37a-4daa-9520-ffd8e9c2ddea",
   "metadata": {
    "execution": {
     "iopub.execute_input": "2024-01-07T15:29:31.427516Z",
     "iopub.status.busy": "2024-01-07T15:29:31.427387Z",
     "iopub.status.idle": "2024-01-07T15:29:31.430688Z",
     "shell.execute_reply": "2024-01-07T15:29:31.430327Z",
     "shell.execute_reply.started": "2024-01-07T15:29:31.427504Z"
    }
   },
   "outputs": [],
   "source": [
    "df[\"Time\"] = pd.to_datetime(df['dateobs'])"
   ]
  },
  {
   "cell_type": "code",
   "execution_count": null,
   "id": "ab62cac6-d569-480f-817a-c058ada1f1ac",
   "metadata": {
    "execution": {
     "iopub.execute_input": "2024-01-07T15:29:31.431354Z",
     "iopub.status.busy": "2024-01-07T15:29:31.431228Z",
     "iopub.status.idle": "2024-01-07T15:29:31.567039Z",
     "shell.execute_reply": "2024-01-07T15:29:31.566647Z",
     "shell.execute_reply.started": "2024-01-07T15:29:31.431342Z"
    }
   },
   "outputs": [],
   "source": [
    "fig,ax = plt.subplots(1,1,figsize=(10,4))\n",
    "df.plot(x=\"Time\",y=\"ccdVisitId\",marker='o',c=\"r\",lw=0.0,ax=ax,grid=True)\n",
    "plt.suptitle(suptitle)"
   ]
  },
  {
   "cell_type": "code",
   "execution_count": null,
   "id": "d6a83ae7-270a-4491-80fa-a62d31b031da",
   "metadata": {
    "execution": {
     "iopub.execute_input": "2024-01-07T15:29:31.567737Z",
     "iopub.status.busy": "2024-01-07T15:29:31.567600Z",
     "iopub.status.idle": "2024-01-07T15:29:32.025072Z",
     "shell.execute_reply": "2024-01-07T15:29:32.024635Z",
     "shell.execute_reply.started": "2024-01-07T15:29:31.567724Z"
    }
   },
   "outputs": [],
   "source": [
    "fig,(ax1,ax2,ax3) = plt.subplots(3,1)\n",
    "\n",
    "df[df[\"band\"]==\"g\"].plot(x=\"Time\",y=\"psfMag\",marker='o',c=\"g\",lw=0.0,ax=ax1,grid=True,legend=False)\n",
    "df[df[\"band\"]==\"r\"].plot(x=\"Time\",y=\"psfMag\",marker='o',c=\"r\",lw=0.0,ax=ax1,grid=True,legend=False)\n",
    "df[df[\"band\"]==\"i\"].plot(x=\"Time\",y=\"psfMag\",marker='o',c=\"y\",lw=0.0,ax=ax1,grid=True,legend=False)\n",
    "ax1.set_title(\"psfMag\")\n",
    "\n",
    "df[df[\"band\"]==\"g\"].plot(x=\"Time\",y=\"gaussianMag\",marker='o',c=\"g\",lw=0.0,ax=ax2,grid=True,legend=False)\n",
    "df[df[\"band\"]==\"r\"].plot(x=\"Time\",y=\"gaussianMag\",marker='o',c=\"r\",lw=0.0,ax=ax2,grid=True,legend=False)\n",
    "df[df[\"band\"]==\"i\"].plot(x=\"Time\",y=\"gaussianMag\",marker='o',c=\"y\",lw=0.0,ax=ax2,grid=True,legend=False)\n",
    "ax2.set_title(\"gaussianMag\")\n",
    "\n",
    "df[df[\"band\"]==\"g\"].plot(x=\"Time\",y=\"calibMag\",marker='o',c=\"g\",lw=0.0,ax=ax3,grid=True,legend=False)\n",
    "df[df[\"band\"]==\"r\"].plot(x=\"Time\",y=\"calibMag\",marker='o',c=\"r\",lw=0.0,ax=ax3,grid=True,legend=False)\n",
    "df[df[\"band\"]==\"i\"].plot(x=\"Time\",y=\"calibMag\",marker='o',c=\"y\",lw=0.0,ax=ax3,grid=True,legend=False)\n",
    "ax3.set_title(\"calibMag\")\n",
    "\n",
    "#df.plot(x=\"Time\",y=\"coord_dec\",marker='o',c=\"g\",lw=0.0,ax=ax2,grid=True)\n",
    "plt.suptitle(suptitle,y=1.0,fontsize=16)\n",
    "plt.tight_layout()"
   ]
  },
  {
   "cell_type": "code",
   "execution_count": null,
   "id": "ddc6ed1b-73d5-4837-a0a4-2b170713eae8",
   "metadata": {
    "execution": {
     "iopub.execute_input": "2024-01-07T15:29:32.025777Z",
     "iopub.status.busy": "2024-01-07T15:29:32.025648Z",
     "iopub.status.idle": "2024-01-07T15:29:32.493589Z",
     "shell.execute_reply": "2024-01-07T15:29:32.493178Z",
     "shell.execute_reply.started": "2024-01-07T15:29:32.025764Z"
    }
   },
   "outputs": [],
   "source": [
    "fig,(ax1,ax2) = plt.subplots(1,2,figsize=(16,5))\n",
    "df_sel = df[\"coord_ra\"]\n",
    "df_sel.plot(kind=\"hist\",x=\"coord_ra\",bins=45,range=(0,360),facecolor=\"b\",ax=ax1,grid=True,logy=True)\n",
    "df_sel = df[\"coord_dec\"]\n",
    "df_sel.plot(kind=\"hist\",x=\"coord_dec\",bins=55,range=(-90,15),facecolor=\"g\",ax=ax2,grid=True,logy=True)\n",
    "plt.suptitle(suptitle,y=1.0,fontsize=16)\n",
    "plt.tight_layout()"
   ]
  },
  {
   "cell_type": "code",
   "execution_count": null,
   "id": "0ecccfd3-fbe3-4125-81cf-db29240a5ffa",
   "metadata": {
    "execution": {
     "iopub.execute_input": "2024-01-07T15:29:32.494279Z",
     "iopub.status.busy": "2024-01-07T15:29:32.494153Z",
     "iopub.status.idle": "2024-01-07T15:29:32.498253Z",
     "shell.execute_reply": "2024-01-07T15:29:32.497907Z",
     "shell.execute_reply.started": "2024-01-07T15:29:32.494267Z"
    }
   },
   "outputs": [],
   "source": [
    "list_of_ccdvisits = df[[\"ccdVisitId\"]].values.flatten()\n",
    "list_of_ccdvisits"
   ]
  },
  {
   "cell_type": "code",
   "execution_count": null,
   "id": "db762ad2-a73e-4e8f-be06-89f8080e83bf",
   "metadata": {
    "execution": {
     "iopub.execute_input": "2024-01-07T15:29:32.498975Z",
     "iopub.status.busy": "2024-01-07T15:29:32.498853Z",
     "iopub.status.idle": "2024-01-07T15:29:32.719326Z",
     "shell.execute_reply": "2024-01-07T15:29:32.718917Z",
     "shell.execute_reply.started": "2024-01-07T15:29:32.498964Z"
    }
   },
   "outputs": [],
   "source": [
    "dataId = {'instrument': 'LATISS', 'detector': 0}\n",
    "df_visit = butler.get('ccdVisitTable', dataId=dataId)"
   ]
  },
  {
   "cell_type": "code",
   "execution_count": null,
   "id": "1a452b92-6909-4d71-98be-05b9c13864f5",
   "metadata": {
    "execution": {
     "iopub.execute_input": "2024-01-07T15:29:32.720023Z",
     "iopub.status.busy": "2024-01-07T15:29:32.719895Z",
     "iopub.status.idle": "2024-01-07T15:29:32.722772Z",
     "shell.execute_reply": "2024-01-07T15:29:32.722439Z",
     "shell.execute_reply.started": "2024-01-07T15:29:32.720011Z"
    }
   },
   "outputs": [],
   "source": [
    "df_visit.columns"
   ]
  },
  {
   "cell_type": "code",
   "execution_count": null,
   "id": "07b18b06-1d53-44fc-84f5-440fd15fb799",
   "metadata": {
    "execution": {
     "iopub.execute_input": "2024-01-07T15:29:32.723547Z",
     "iopub.status.busy": "2024-01-07T15:29:32.723343Z",
     "iopub.status.idle": "2024-01-07T15:29:32.727263Z",
     "shell.execute_reply": "2024-01-07T15:29:32.726978Z",
     "shell.execute_reply.started": "2024-01-07T15:29:32.723535Z"
    }
   },
   "outputs": [],
   "source": [
    "df_visit.loc[list_of_ccdvisits[0]]"
   ]
  },
  {
   "cell_type": "code",
   "execution_count": null,
   "id": "56361f9c-cf4d-4ea1-b25d-9af7d704f082",
   "metadata": {
    "execution": {
     "iopub.execute_input": "2024-01-07T15:29:32.727759Z",
     "iopub.status.busy": "2024-01-07T15:29:32.727643Z",
     "iopub.status.idle": "2024-01-07T15:29:32.731167Z",
     "shell.execute_reply": "2024-01-07T15:29:32.730890Z",
     "shell.execute_reply.started": "2024-01-07T15:29:32.727748Z"
    }
   },
   "outputs": [],
   "source": [
    "#print(list(df_visit.index))"
   ]
  },
  {
   "cell_type": "code",
   "execution_count": null,
   "id": "513cff0c-8b22-464d-a22f-4221728dcf05",
   "metadata": {
    "execution": {
     "iopub.execute_input": "2024-01-07T15:29:32.731657Z",
     "iopub.status.busy": "2024-01-07T15:29:32.731546Z",
     "iopub.status.idle": "2024-01-07T15:29:32.735199Z",
     "shell.execute_reply": "2024-01-07T15:29:32.734895Z",
     "shell.execute_reply.started": "2024-01-07T15:29:32.731647Z"
    }
   },
   "outputs": [],
   "source": [
    "#results = set(butler.registry.queryDataIds('visit', dataId={\"tract\":tract_selected, \"skymap\":\"latiss_v1\"}))\n",
    "#pprint(results)"
   ]
  },
  {
   "cell_type": "code",
   "execution_count": null,
   "id": "1f6c860f-3a61-4375-a7f5-95e3ea7ee853",
   "metadata": {
    "execution": {
     "iopub.execute_input": "2024-01-07T15:29:32.735686Z",
     "iopub.status.busy": "2024-01-07T15:29:32.735575Z",
     "iopub.status.idle": "2024-01-07T15:35:16.712066Z",
     "shell.execute_reply": "2024-01-07T15:35:16.711554Z",
     "shell.execute_reply.started": "2024-01-07T15:29:32.735675Z"
    }
   },
   "outputs": [],
   "source": [
    "datasettype = 'calexp.visitInfo'\n",
    "all_calexp = []\n",
    "all_dataId = []\n",
    "for idx,ccdvisit in enumerate(list_of_ccdvisits):\n",
    "    try:\n",
    "        visitid = df_visit.loc[ccdvisit][\"visitId\"]\n",
    "        dayobs = visitid //100_000\n",
    "        dataId = {'visit': visitid, 'detector': 0}\n",
    "        visitInfo = butler.get(datasettype, dataId=dataId )\n",
    "        calexp = butler.get('calexp', dataId=dataId)\n",
    "        if idx<2:\n",
    "            all_calexp.append(calexp)\n",
    "            all_dataId.append(dataId)\n",
    "        #print(visitInfo)\n",
    "        print(visitid,dayobs,\":\",\"az=\",visitInfo.boresightAzAlt[0],\"alt=\",visitInfo.boresightAzAlt[1],\"am=\",visitInfo.boresightAirmass)\n",
    "    except Exception as err:\n",
    "        print(f\"Unexpected {err=}, {type(err)=}\")\n",
    "        "
   ]
  },
  {
   "cell_type": "code",
   "execution_count": null,
   "id": "62f9d39d-1af0-40fc-8742-94ddfcc40c73",
   "metadata": {
    "execution": {
     "iopub.execute_input": "2024-01-07T15:35:16.712977Z",
     "iopub.status.busy": "2024-01-07T15:35:16.712771Z",
     "iopub.status.idle": "2024-01-07T15:35:17.202896Z",
     "shell.execute_reply": "2024-01-07T15:35:17.202444Z",
     "shell.execute_reply.started": "2024-01-07T15:35:16.712964Z"
    }
   },
   "outputs": [],
   "source": [
    "# Plot the calexp we just retrieved\n",
    "plt.figure()\n",
    "afw_display = afwDisplay.Display()\n",
    "afw_display.scale('asinh', 'zscale')\n",
    "afw_display.mtv(all_calexp[0].image,title=suptitle)\n",
    "\n",
    "with afw_display.Buffering():\n",
    "    x = df.iloc[0]['x']\n",
    "    y = df.iloc[0]['y']\n",
    "    afw_display.dot('o', x , y, size=100, ctype='orange')\n",
    "    afw_display.dot('+', x , y, size=10, ctype='red')\n",
    "\n",
    "plt.gca().axis('on')\n"
   ]
  },
  {
   "cell_type": "code",
   "execution_count": null,
   "id": "8b4daa52-0e74-4546-baf3-7676ef14871c",
   "metadata": {},
   "outputs": [],
   "source": []
  }
 ],
 "metadata": {
  "kernelspec": {
   "display_name": "LSST",
   "language": "python",
   "name": "lsst"
  },
  "language_info": {
   "codemirror_mode": {
    "name": "ipython",
    "version": 3
   },
   "file_extension": ".py",
   "mimetype": "text/x-python",
   "name": "python",
   "nbconvert_exporter": "python",
   "pygments_lexer": "ipython3",
   "version": "3.11.7"
  }
 },
 "nbformat": 4,
 "nbformat_minor": 5
}
