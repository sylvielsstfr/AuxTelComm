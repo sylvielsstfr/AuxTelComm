{
 "cells": [
  {
   "cell_type": "markdown",
   "id": "55b81efc-69c7-4929-b03c-9270ed2cbd1f",
   "metadata": {},
   "source": [
    "# Plot Source Time"
   ]
  },
  {
   "cell_type": "markdown",
   "id": "d77af19a-7997-49b9-9497-3d799411826e",
   "metadata": {},
   "source": [
    " work with Weakly_2023_44\n",
    "- use jupyter kernel LSST\n",
    "- author : Sylvie Dagoret-Campagne\n",
    "- affiliation : IJCLab\n",
    "- creation date : 2023/12/28\n",
    "- update : 2023/12/28"
   ]
  },
  {
   "cell_type": "code",
   "execution_count": null,
   "id": "45c7078d-716a-4d28-a46a-b72074b4f70d",
   "metadata": {
    "execution": {
     "iopub.execute_input": "2023-12-28T22:46:22.958845Z",
     "iopub.status.busy": "2023-12-28T22:46:22.958728Z",
     "iopub.status.idle": "2023-12-28T22:46:23.537956Z",
     "shell.execute_reply": "2023-12-28T22:46:23.537467Z",
     "shell.execute_reply.started": "2023-12-28T22:46:22.958832Z"
    }
   },
   "outputs": [],
   "source": [
    "import numpy as np\n",
    "import matplotlib.pyplot as plt\n",
    "import matplotlib as mpl\n",
    "import matplotlib.cm as cm \n",
    "import matplotlib.colors as colors\n",
    "import matplotlib.cm as cmx\n",
    "import matplotlib.dates as mdates\n",
    "%matplotlib inline\n",
    "from mpl_toolkits.axes_grid1 import make_axes_locatable\n",
    "from matplotlib.colors import LogNorm\n",
    "import pandas as pd\n",
    "\n",
    "import matplotlib.ticker                         # here's where the formatter is\n",
    "import os\n",
    "import re\n",
    "import pandas as pd\n",
    "#import pickle\n",
    "\n",
    "plt.rcParams[\"figure.figsize\"] = (16,10)\n",
    "plt.rcParams[\"axes.labelsize\"] = 'xx-large'\n",
    "plt.rcParams['axes.titlesize'] = 'xx-large'\n",
    "plt.rcParams['xtick.labelsize']= 'xx-large'\n",
    "plt.rcParams['ytick.labelsize']= 'xx-large'"
   ]
  },
  {
   "cell_type": "code",
   "execution_count": null,
   "id": "46d31c2d-7d47-4d90-b8e5-81fe9f6ad219",
   "metadata": {
    "execution": {
     "iopub.execute_input": "2023-12-28T22:46:23.539177Z",
     "iopub.status.busy": "2023-12-28T22:46:23.538904Z",
     "iopub.status.idle": "2023-12-28T22:46:23.541704Z",
     "shell.execute_reply": "2023-12-28T22:46:23.541340Z",
     "shell.execute_reply.started": "2023-12-28T22:46:23.539162Z"
    }
   },
   "outputs": [],
   "source": [
    "import astropy.coordinates as coord\n",
    "import astropy.units as u\n",
    "from astropy.time import Time\n",
    "from astropy.coordinates import SkyCoord\n",
    "from astropy import coordinates"
   ]
  },
  {
   "cell_type": "code",
   "execution_count": null,
   "id": "80820912-e688-465e-9fe6-2f4da72554ef",
   "metadata": {
    "execution": {
     "iopub.execute_input": "2023-12-28T22:46:23.542288Z",
     "iopub.status.busy": "2023-12-28T22:46:23.542169Z",
     "iopub.status.idle": "2023-12-28T22:46:23.545890Z",
     "shell.execute_reply": "2023-12-28T22:46:23.545532Z",
     "shell.execute_reply.started": "2023-12-28T22:46:23.542276Z"
    }
   },
   "outputs": [],
   "source": [
    "import pandas as pd"
   ]
  },
  {
   "cell_type": "code",
   "execution_count": null,
   "id": "cdead4c0-7787-4f90-a63b-2aabe1130b04",
   "metadata": {
    "execution": {
     "iopub.execute_input": "2023-12-28T22:46:23.546453Z",
     "iopub.status.busy": "2023-12-28T22:46:23.546337Z",
     "iopub.status.idle": "2023-12-28T22:46:23.550665Z",
     "shell.execute_reply": "2023-12-28T22:46:23.550308Z",
     "shell.execute_reply.started": "2023-12-28T22:46:23.546442Z"
    }
   },
   "outputs": [],
   "source": [
    "def convert_fluxtomag(x) :\n",
    "    \"\"\"\n",
    "    The object and source catalogs store only fluxes. There are hundreds of flux-related columns, \n",
    "    and to store them also as magnitudes would be redundant, and a waste of space.\n",
    "    All flux units are nanojanskys. The AB Magnitudes Wikipedia page provides a concise resource \n",
    "    for users unfamiliar with AB magnitudes and jansky fluxes. To convert to AB magnitudes use:\n",
    "    As demonstrated in Section 2.3.2, to add columns of magnitudes after retrieving columns of flux, users can do this:\n",
    "    results_table['r_calibMag'] = -2.50 * numpy.log10(results_table['r_calibFlux']) + 31.4\n",
    "    results_table['r_cModelMag'] = -2.50 * numpy.log10(results_table['r_cModelFlux']) + 31.4\n",
    "    (from DP0 tutorial)\n",
    "    \"\"\"\n",
    "    return -2.50 * np.log10(x) + 31.4"
   ]
  },
  {
   "cell_type": "markdown",
   "id": "b6e91388-36c3-471f-aed4-98dc94b3d15a",
   "metadata": {},
   "source": [
    "## Config"
   ]
  },
  {
   "cell_type": "markdown",
   "id": "da82a93a-4557-44e0-a069-1aff6d9cc884",
   "metadata": {},
   "source": [
    "### Galactic planes"
   ]
  },
  {
   "cell_type": "code",
   "execution_count": null,
   "id": "93bd0cfc-5a77-4338-a4ce-1548071779f0",
   "metadata": {
    "execution": {
     "iopub.execute_input": "2023-12-28T22:46:23.551947Z",
     "iopub.status.busy": "2023-12-28T22:46:23.551816Z",
     "iopub.status.idle": "2023-12-28T22:46:23.554159Z",
     "shell.execute_reply": "2023-12-28T22:46:23.553795Z",
     "shell.execute_reply.started": "2023-12-28T22:46:23.551935Z"
    }
   },
   "outputs": [],
   "source": [
    "gal_long = np.linspace(-180.,180,360)\n",
    "gal_lat = np.zeros((360))"
   ]
  },
  {
   "cell_type": "code",
   "execution_count": null,
   "id": "a35b8a99-2bf2-4b61-9a14-d1acd4af7d42",
   "metadata": {
    "execution": {
     "iopub.execute_input": "2023-12-28T22:46:23.554727Z",
     "iopub.status.busy": "2023-12-28T22:46:23.554610Z",
     "iopub.status.idle": "2023-12-28T22:46:23.561629Z",
     "shell.execute_reply": "2023-12-28T22:46:23.561247Z",
     "shell.execute_reply.started": "2023-12-28T22:46:23.554715Z"
    }
   },
   "outputs": [],
   "source": [
    "coordinates_galactic_planes = SkyCoord(l=gal_long*u.degree, b=gal_lat*u.degree, frame='galactic')\n",
    "gp_radec = coordinates_galactic_planes.transform_to('icrs')  "
   ]
  },
  {
   "cell_type": "code",
   "execution_count": null,
   "id": "07e647ea-29c7-4c41-a0dc-ede6957726ed",
   "metadata": {
    "execution": {
     "iopub.execute_input": "2023-12-28T22:46:23.562254Z",
     "iopub.status.busy": "2023-12-28T22:46:23.562134Z",
     "iopub.status.idle": "2023-12-28T22:46:23.565030Z",
     "shell.execute_reply": "2023-12-28T22:46:23.564677Z",
     "shell.execute_reply.started": "2023-12-28T22:46:23.562242Z"
    }
   },
   "outputs": [],
   "source": [
    "gp_ra_toplot = coordinates.Angle(gp_radec.ra.degree*u.degree)\n",
    "gp_ra_toplot = gp_ra_toplot.wrap_at(180*u.degree)"
   ]
  },
  {
   "cell_type": "markdown",
   "id": "2046b18d-59b6-4b01-8d57-d6b9d9ac96f2",
   "metadata": {},
   "source": [
    "### sources"
   ]
  },
  {
   "cell_type": "code",
   "execution_count": null,
   "id": "730c561b-16a0-4f32-8076-a5b252144bc5",
   "metadata": {
    "execution": {
     "iopub.execute_input": "2023-12-28T22:46:23.565631Z",
     "iopub.status.busy": "2023-12-28T22:46:23.565513Z",
     "iopub.status.idle": "2023-12-28T22:46:23.569302Z",
     "shell.execute_reply": "2023-12-28T22:46:23.568967Z",
     "shell.execute_reply.started": "2023-12-28T22:46:23.565619Z"
    }
   },
   "outputs": [],
   "source": [
    "file = \"sourceTable_202312.csv\""
   ]
  },
  {
   "cell_type": "code",
   "execution_count": null,
   "id": "52c84d41-0e82-43e8-90e5-8005caf90179",
   "metadata": {
    "execution": {
     "iopub.execute_input": "2023-12-28T22:46:23.569936Z",
     "iopub.status.busy": "2023-12-28T22:46:23.569812Z",
     "iopub.status.idle": "2023-12-28T22:46:23.572220Z",
     "shell.execute_reply": "2023-12-28T22:46:23.571882Z",
     "shell.execute_reply.started": "2023-12-28T22:46:23.569925Z"
    }
   },
   "outputs": [],
   "source": [
    "suptitle = \"Sources, Auxtel phot 2023\""
   ]
  },
  {
   "cell_type": "markdown",
   "id": "2ea59008-1e1b-42ca-aedb-cfa032407881",
   "metadata": {},
   "source": [
    "## Input"
   ]
  },
  {
   "cell_type": "code",
   "execution_count": null,
   "id": "c0b49870-c9a2-4573-9cdf-bddfe78cbc9a",
   "metadata": {
    "execution": {
     "iopub.execute_input": "2023-12-28T22:46:23.572811Z",
     "iopub.status.busy": "2023-12-28T22:46:23.572698Z",
     "iopub.status.idle": "2023-12-28T22:46:42.301243Z",
     "shell.execute_reply": "2023-12-28T22:46:42.300779Z",
     "shell.execute_reply.started": "2023-12-28T22:46:23.572800Z"
    }
   },
   "outputs": [],
   "source": [
    "df = pd.read_csv(file,index_col=0)"
   ]
  },
  {
   "cell_type": "code",
   "execution_count": null,
   "id": "6492ef7b-9855-4230-9589-ea0f5cf85b69",
   "metadata": {
    "execution": {
     "iopub.execute_input": "2023-12-28T22:46:42.302026Z",
     "iopub.status.busy": "2023-12-28T22:46:42.301884Z",
     "iopub.status.idle": "2023-12-28T22:46:42.304231Z",
     "shell.execute_reply": "2023-12-28T22:46:42.303886Z",
     "shell.execute_reply.started": "2023-12-28T22:46:42.302013Z"
    }
   },
   "outputs": [],
   "source": [
    "list_of_columns = sorted(list(df.columns))"
   ]
  },
  {
   "cell_type": "code",
   "execution_count": null,
   "id": "b5f27295-a215-433b-bb4f-7c388b666066",
   "metadata": {
    "execution": {
     "iopub.execute_input": "2023-12-28T22:46:42.304902Z",
     "iopub.status.busy": "2023-12-28T22:46:42.304768Z",
     "iopub.status.idle": "2023-12-28T22:46:42.308910Z",
     "shell.execute_reply": "2023-12-28T22:46:42.308550Z",
     "shell.execute_reply.started": "2023-12-28T22:46:42.304890Z"
    }
   },
   "outputs": [],
   "source": [
    "#for col in list_of_columns:\n",
    "#    print(col)"
   ]
  },
  {
   "cell_type": "markdown",
   "id": "1c5c943b-0671-457a-8171-879a539c1699",
   "metadata": {},
   "source": [
    "## Selection"
   ]
  },
  {
   "cell_type": "code",
   "execution_count": null,
   "id": "4ccf1159-a51e-41ba-9111-8c5ba2a2ce6c",
   "metadata": {
    "execution": {
     "iopub.execute_input": "2023-12-28T22:46:42.309579Z",
     "iopub.status.busy": "2023-12-28T22:46:42.309464Z",
     "iopub.status.idle": "2023-12-28T22:46:42.880100Z",
     "shell.execute_reply": "2023-12-28T22:46:42.879648Z",
     "shell.execute_reply.started": "2023-12-28T22:46:42.309568Z"
    }
   },
   "outputs": [],
   "source": [
    "df.dropna(inplace=True)\n",
    "selection1 = df[\"extendedness_flag\"] == False\n",
    "selection2 = df[\"detect_isPrimary\"] == True\n",
    "df = df[selection1 & selection2 ]"
   ]
  },
  {
   "cell_type": "markdown",
   "id": "78abcccf-3b8a-410a-ae54-78808f80b8ea",
   "metadata": {},
   "source": [
    "## Magnitudes"
   ]
  },
  {
   "cell_type": "code",
   "execution_count": null,
   "id": "d43b09ad-3c80-4908-9528-667cce3ee007",
   "metadata": {
    "execution": {
     "iopub.execute_input": "2023-12-28T22:46:42.882146Z",
     "iopub.status.busy": "2023-12-28T22:46:42.882016Z",
     "iopub.status.idle": "2023-12-28T22:46:44.294351Z",
     "shell.execute_reply": "2023-12-28T22:46:44.293822Z",
     "shell.execute_reply.started": "2023-12-28T22:46:42.882133Z"
    }
   },
   "outputs": [],
   "source": [
    "df[\"psfMag\"] = df[\"psfFlux\"].map(convert_fluxtomag)\n",
    "df[\"gaussianMag\"] = df[\"gaussianFlux\"].map(convert_fluxtomag)\n",
    "df[\"calibMag\"] = df[\"calibFlux\"].map(convert_fluxtomag)"
   ]
  },
  {
   "cell_type": "code",
   "execution_count": null,
   "id": "53369158-a80a-46e6-a1cb-37691ca50751",
   "metadata": {
    "execution": {
     "iopub.execute_input": "2023-12-28T22:46:44.295164Z",
     "iopub.status.busy": "2023-12-28T22:46:44.295035Z",
     "iopub.status.idle": "2023-12-28T22:46:44.945655Z",
     "shell.execute_reply": "2023-12-28T22:46:44.945252Z",
     "shell.execute_reply.started": "2023-12-28T22:46:44.295153Z"
    }
   },
   "outputs": [],
   "source": [
    "fig, (ax1,ax2,ax3) = plt.subplots(1,3,figsize=(14,4))\n",
    "\n",
    "df['psfMag'].plot(kind=\"hist\",bins=50,range=(5,30),facecolor=\"g\",logy=True,grid=True,title=\"psfMag\",ax=ax1)\n",
    "df['gaussianMag'].plot(kind=\"hist\",bins=50,range=(5,30),facecolor=\"r\",logy=True,grid=True,title=\"gaussinaMag\",ax=ax2)\n",
    "df['calibMag'].plot(kind=\"hist\",bins=50,range=(5,30),facecolor=\"grey\",logy=True,grid=True,title=\"calibMag\",ax=ax3)\n",
    "plt.suptitle(suptitle,y=1.0,fontsize=16)\n",
    "plt.tight_layout()"
   ]
  },
  {
   "cell_type": "code",
   "execution_count": null,
   "id": "1a949392-43ce-4c67-b178-942f8ba34dcb",
   "metadata": {
    "execution": {
     "iopub.execute_input": "2023-12-28T22:46:44.946366Z",
     "iopub.status.busy": "2023-12-28T22:46:44.946238Z",
     "iopub.status.idle": "2023-12-28T22:46:45.055386Z",
     "shell.execute_reply": "2023-12-28T22:46:45.054896Z",
     "shell.execute_reply.started": "2023-12-28T22:46:44.946353Z"
    }
   },
   "outputs": [],
   "source": [
    "selection3  = df[\"psfMag\"] < 20.\n",
    "df = df[selection3]"
   ]
  },
  {
   "cell_type": "code",
   "execution_count": null,
   "id": "35bb2488-ca40-4a41-9262-42ac44ee5fce",
   "metadata": {
    "execution": {
     "iopub.execute_input": "2023-12-28T22:46:45.056232Z",
     "iopub.status.busy": "2023-12-28T22:46:45.056103Z",
     "iopub.status.idle": "2023-12-28T22:46:45.752474Z",
     "shell.execute_reply": "2023-12-28T22:46:45.752035Z",
     "shell.execute_reply.started": "2023-12-28T22:46:45.056219Z"
    }
   },
   "outputs": [],
   "source": [
    "fig, (ax1,ax2,ax3) = plt.subplots(1,3,figsize=(14,4))\n",
    "df['psfMag'].plot(kind=\"hist\",bins=50,range=(5,30),facecolor=\"g\",logy=True,grid=True,title=\"psfMag\",ax=ax1)\n",
    "df['gaussianMag'].plot(kind=\"hist\",bins=50,range=(5,30),facecolor=\"r\",logy=True,grid=True,title=\"gaussinaMag\",ax=ax2)\n",
    "df['calibMag'].plot(kind=\"hist\",bins=50,range=(5,30),facecolor=\"grey\",logy=True,grid=True,title=\"calibMag\",ax=ax3)\n",
    "plt.suptitle(suptitle,y=1.0,fontsize=16)\n",
    "plt.tight_layout()"
   ]
  },
  {
   "cell_type": "markdown",
   "id": "5c5b5bf8-c662-4cb8-98f6-380ccb4b5df8",
   "metadata": {},
   "source": [
    "## Convert dateobs into datetime"
   ]
  },
  {
   "cell_type": "code",
   "execution_count": null,
   "id": "a008e1f9-eeec-4f6e-8ae1-1550225193bb",
   "metadata": {
    "execution": {
     "iopub.execute_input": "2023-12-28T22:46:45.753190Z",
     "iopub.status.busy": "2023-12-28T22:46:45.753058Z",
     "iopub.status.idle": "2023-12-28T22:46:45.756985Z",
     "shell.execute_reply": "2023-12-28T22:46:45.756636Z",
     "shell.execute_reply.started": "2023-12-28T22:46:45.753177Z"
    }
   },
   "outputs": [],
   "source": [
    "df[\"dateobs\"]"
   ]
  },
  {
   "cell_type": "code",
   "execution_count": null,
   "id": "af6516dd-a37a-4daa-9520-ffd8e9c2ddea",
   "metadata": {
    "execution": {
     "iopub.execute_input": "2023-12-28T22:46:45.757533Z",
     "iopub.status.busy": "2023-12-28T22:46:45.757418Z",
     "iopub.status.idle": "2023-12-28T22:46:45.793219Z",
     "shell.execute_reply": "2023-12-28T22:46:45.792844Z",
     "shell.execute_reply.started": "2023-12-28T22:46:45.757521Z"
    }
   },
   "outputs": [],
   "source": [
    "df[\"Time\"] = pd.to_datetime(df['dateobs'])\n",
    "#df.plot(x=\"Time\", y=[\"Total cpu%\", \"process1 cpu%\"])\n",
    "#plt.show()"
   ]
  },
  {
   "cell_type": "code",
   "execution_count": null,
   "id": "a714e861-d089-43f7-9718-de7f944262fc",
   "metadata": {
    "execution": {
     "iopub.execute_input": "2023-12-28T22:46:45.793855Z",
     "iopub.status.busy": "2023-12-28T22:46:45.793706Z",
     "iopub.status.idle": "2023-12-28T22:46:45.797166Z",
     "shell.execute_reply": "2023-12-28T22:46:45.796811Z",
     "shell.execute_reply.started": "2023-12-28T22:46:45.793844Z"
    }
   },
   "outputs": [],
   "source": [
    "df.Time"
   ]
  },
  {
   "cell_type": "code",
   "execution_count": null,
   "id": "d6a83ae7-270a-4491-80fa-a62d31b031da",
   "metadata": {
    "execution": {
     "iopub.execute_input": "2023-12-28T22:46:45.797743Z",
     "iopub.status.busy": "2023-12-28T22:46:45.797621Z",
     "iopub.status.idle": "2023-12-28T22:46:49.879527Z",
     "shell.execute_reply": "2023-12-28T22:46:49.879096Z",
     "shell.execute_reply.started": "2023-12-28T22:46:45.797732Z"
    }
   },
   "outputs": [],
   "source": [
    "fig,(ax1,ax2) = plt.subplots(2,1)\n",
    "df.plot(x=\"Time\",y=\"coord_ra\",marker='o',c=\"b\",lw=0.0,ax=ax1,grid=True)\n",
    "df.plot(x=\"Time\",y=\"coord_dec\",marker='o',c=\"g\",lw=0.0,ax=ax2,grid=True)\n",
    "plt.suptitle(suptitle,y=1.0,fontsize=16)\n",
    "plt.tight_layout()"
   ]
  },
  {
   "cell_type": "code",
   "execution_count": null,
   "id": "e5b4d777-a302-4a48-8199-33ee177e6c7b",
   "metadata": {
    "execution": {
     "iopub.execute_input": "2023-12-28T22:46:49.880336Z",
     "iopub.status.busy": "2023-12-28T22:46:49.880168Z",
     "iopub.status.idle": "2023-12-28T22:46:53.702714Z",
     "shell.execute_reply": "2023-12-28T22:46:53.702320Z",
     "shell.execute_reply.started": "2023-12-28T22:46:49.880324Z"
    }
   },
   "outputs": [],
   "source": [
    "fig,(ax1,ax2) = plt.subplots(2,1)\n",
    "df.plot(x=\"Time\",y=\"ra\",marker='o',c=\"b\",lw=0.0,ax=ax1,grid=True)\n",
    "df.plot(x=\"Time\",y=\"dec\",marker='o',c=\"g\",lw=0.0,ax=ax2,grid=True)\n",
    "plt.suptitle(suptitle,y=1.0,fontsize=16)\n",
    "plt.tight_layout()"
   ]
  },
  {
   "cell_type": "code",
   "execution_count": null,
   "id": "42145634-087d-4f0b-94a1-152a1eb67a93",
   "metadata": {
    "execution": {
     "iopub.execute_input": "2023-12-28T22:46:53.703375Z",
     "iopub.status.busy": "2023-12-28T22:46:53.703254Z",
     "iopub.status.idle": "2023-12-28T22:46:54.290728Z",
     "shell.execute_reply": "2023-12-28T22:46:54.290336Z",
     "shell.execute_reply.started": "2023-12-28T22:46:53.703363Z"
    }
   },
   "outputs": [],
   "source": [
    "fig,(ax1,ax2) = plt.subplots(1,2,figsize=(16,5))\n",
    "df_sel = df[\"coord_ra\"]\n",
    "df_sel.plot(kind=\"hist\",x=\"coord_ra\",bins=45,range=(0,360),facecolor=\"b\",ax=ax1,grid=True,logy=True)\n",
    "df_sel = df[\"coord_dec\"]\n",
    "df_sel.plot(kind=\"hist\",x=\"coord_dec\",bins=55,range=(-90,15),facecolor=\"g\",ax=ax2,grid=True,logy=True)\n",
    "plt.suptitle(suptitle,y=1.0,fontsize=16)\n",
    "plt.tight_layout()"
   ]
  },
  {
   "cell_type": "code",
   "execution_count": null,
   "id": "60c0d8b6-dbae-4eae-b7b4-b1ad61eb1bbc",
   "metadata": {
    "execution": {
     "iopub.execute_input": "2023-12-28T22:46:54.291451Z",
     "iopub.status.busy": "2023-12-28T22:46:54.291320Z",
     "iopub.status.idle": "2023-12-28T22:46:54.730147Z",
     "shell.execute_reply": "2023-12-28T22:46:54.729727Z",
     "shell.execute_reply.started": "2023-12-28T22:46:54.291438Z"
    }
   },
   "outputs": [],
   "source": [
    "fig,ax = plt.subplots(1,1,figsize=(10,10))\n",
    "cut1 = (df[\"ra\"]> 200.) &  (df[\"ra\"]<300.)\n",
    "cut2 = (df[\"dec\"]> -30) &  (df[\"dec\"]<-10)\n",
    "df_sel = df[cut1 & cut2]\n",
    "df_sel = df_sel[[\"coord_ra\",\"coord_dec\"]]\n",
    "df_sel.plot(kind=\"scatter\",x=\"coord_ra\",y=\"coord_dec\",marker=\".\",c=\"r\",ax=ax,grid=True)\n",
    "plt.gca().set_aspect('equal')\n",
    "#plt.suptitle(suptitle,y=1.0,fontsize=16)\n",
    "plt.tight_layout()"
   ]
  },
  {
   "cell_type": "markdown",
   "id": "c0814717-280b-485c-b1a7-4f04d5da1649",
   "metadata": {},
   "source": [
    "## Skyp map"
   ]
  },
  {
   "cell_type": "code",
   "execution_count": null,
   "id": "ceafd6ec-6857-43ac-9f91-8d1a03ae3748",
   "metadata": {
    "execution": {
     "iopub.execute_input": "2023-12-28T22:46:54.731049Z",
     "iopub.status.busy": "2023-12-28T22:46:54.730809Z",
     "iopub.status.idle": "2023-12-28T22:46:54.741472Z",
     "shell.execute_reply": "2023-12-28T22:46:54.741114Z",
     "shell.execute_reply.started": "2023-12-28T22:46:54.731036Z"
    }
   },
   "outputs": [],
   "source": [
    "ra = coord.Angle(df[\"coord_ra\"].values, unit=u.degree)\n",
    "dec = coord.Angle(df[\"coord_dec\"].values, unit=u.degree)\n",
    "#\n",
    "ra  = ra.wrap_at(180*u.degree).radian\n",
    "dec = dec.radian\n",
    "#\n",
    "df[\"RA\"] = ra\n",
    "df[\"DEC\"] = dec"
   ]
  },
  {
   "cell_type": "code",
   "execution_count": null,
   "id": "1acb90d6-4022-4f8c-b7bc-88a1802eebb2",
   "metadata": {
    "execution": {
     "iopub.execute_input": "2023-12-28T22:46:54.742181Z",
     "iopub.status.busy": "2023-12-28T22:46:54.742059Z",
     "iopub.status.idle": "2023-12-28T22:47:08.810566Z",
     "shell.execute_reply": "2023-12-28T22:47:08.810167Z",
     "shell.execute_reply.started": "2023-12-28T22:46:54.742169Z"
    }
   },
   "outputs": [],
   "source": [
    "fig = plt.figure()\n",
    "#ax = fig.add_subplot(111, projection=\"aitoff\")\n",
    "ax = fig.add_subplot(111, projection=\"mollweide\")\n",
    "ax.scatter(gp_ra_toplot.radian, gp_radec.dec.radian,c=\"g\",label=\"Galactic Plane\",s=1)\n",
    "df.plot.scatter(x='RA',y='DEC',c='ra',colormap='seismic',grid=True,ax=ax,figsize=(10,8),title='AUXTEL photometry 2023')\n",
    "ax.legend()\n",
    "plt.suptitle(suptitle,y=1.0,fontsize=16)"
   ]
  },
  {
   "cell_type": "code",
   "execution_count": null,
   "id": "c29ed760-99ab-4486-a423-c5ec1a3cef7a",
   "metadata": {
    "execution": {
     "iopub.execute_input": "2023-12-28T22:47:08.811333Z",
     "iopub.status.busy": "2023-12-28T22:47:08.811168Z",
     "iopub.status.idle": "2023-12-28T22:47:22.980473Z",
     "shell.execute_reply": "2023-12-28T22:47:22.980060Z",
     "shell.execute_reply.started": "2023-12-28T22:47:08.811320Z"
    }
   },
   "outputs": [],
   "source": [
    "fig = plt.figure()\n",
    "#ax = fig.add_subplot(111, projection=\"aitoff\")\n",
    "ax = fig.add_subplot(111, projection=\"mollweide\")\n",
    "ax.scatter(gp_ra_toplot.radian, gp_radec.dec.radian,c=\"g\",label=\"Galactic Plane\",s=1)\n",
    "df.plot.scatter(x='RA',y='DEC',c='dec',colormap='seismic',grid=True,ax=ax,figsize=(10,8),title='AUXTEL photometry 2023')\n",
    "ax.legend()"
   ]
  },
  {
   "cell_type": "code",
   "execution_count": null,
   "id": "144262c5-9c03-4aad-b20d-ab2ac6bf58a6",
   "metadata": {
    "execution": {
     "iopub.execute_input": "2023-12-28T22:47:22.981190Z",
     "iopub.status.busy": "2023-12-28T22:47:22.981063Z",
     "iopub.status.idle": "2023-12-28T22:47:22.985238Z",
     "shell.execute_reply": "2023-12-28T22:47:22.984899Z",
     "shell.execute_reply.started": "2023-12-28T22:47:22.981178Z"
    }
   },
   "outputs": [],
   "source": [
    "df[\"RAdeg\"] = df[\"RA\"]*180/np.pi\n",
    "df[\"DECdeg\"] = df[\"DEC\"]*180/np.pi"
   ]
  },
  {
   "cell_type": "code",
   "execution_count": null,
   "id": "ceed9a6f-4109-4484-97dc-dd4b1ce0cfa0",
   "metadata": {
    "execution": {
     "iopub.execute_input": "2023-12-28T22:47:22.985958Z",
     "iopub.status.busy": "2023-12-28T22:47:22.985728Z",
     "iopub.status.idle": "2023-12-28T22:47:23.462780Z",
     "shell.execute_reply": "2023-12-28T22:47:23.462342Z",
     "shell.execute_reply.started": "2023-12-28T22:47:22.985946Z"
    }
   },
   "outputs": [],
   "source": [
    "fig,ax = plt.subplots(1,1,figsize=(10,10))\n",
    "cut1 = (df[\"ra\"]> 200.) &  (df[\"ra\"]<300.)\n",
    "cut2 = (df[\"dec\"]> -30) &  (df[\"dec\"]<-10)\n",
    "df_sel = df[cut1 & cut2]\n",
    "df_sel = df_sel[[\"RAdeg\",\"DECdeg\"]]\n",
    "df_sel.plot(kind=\"scatter\",x=\"RAdeg\",y=\"DECdeg\",marker=\".\",c=\"r\",ax=ax,grid=True)\n",
    "plt.gca().set_aspect('equal')\n",
    "plt.title(suptitle,fontsize=16)"
   ]
  },
  {
   "cell_type": "code",
   "execution_count": null,
   "id": "853533a9-1bcc-4de9-b2d6-917a348f6406",
   "metadata": {
    "execution": {
     "iopub.execute_input": "2023-12-28T22:47:23.463525Z",
     "iopub.status.busy": "2023-12-28T22:47:23.463395Z",
     "iopub.status.idle": "2023-12-28T22:47:23.635519Z",
     "shell.execute_reply": "2023-12-28T22:47:23.635050Z",
     "shell.execute_reply.started": "2023-12-28T22:47:23.463512Z"
    }
   },
   "outputs": [],
   "source": [
    "fig,ax = plt.subplots(1,1,figsize=(10,10))\n",
    "cut1 = (df[\"RAdeg\"]> -130.) &  (df[\"RAdeg\"]<-115.)\n",
    "cut2 = (df[\"dec\"]> -30) &  (df[\"dec\"]<-10)\n",
    "df_sel = df[cut1 & cut2]\n",
    "df_sel = df_sel[[\"RAdeg\",\"DECdeg\"]]\n",
    "df_sel.plot(kind=\"scatter\",x=\"RAdeg\",y=\"DECdeg\",marker=\".\",c=\"r\",ax=ax,grid=True)\n",
    "plt.gca().set_aspect('equal')\n",
    "plt.title(suptitle,fontsize=16)"
   ]
  },
  {
   "cell_type": "code",
   "execution_count": null,
   "id": "74ea7856-bd35-4b16-bf80-c7d3eb4bfa02",
   "metadata": {
    "execution": {
     "iopub.execute_input": "2023-12-28T22:47:23.636366Z",
     "iopub.status.busy": "2023-12-28T22:47:23.636195Z",
     "iopub.status.idle": "2023-12-28T22:47:24.116647Z",
     "shell.execute_reply": "2023-12-28T22:47:24.116220Z",
     "shell.execute_reply.started": "2023-12-28T22:47:23.636354Z"
    }
   },
   "outputs": [],
   "source": [
    "fig,ax = plt.subplots(1,1,figsize=(10,10))\n",
    "cut1 = (df[\"RAdeg\"]> -95.) &  (df[\"RAdeg\"]<-80.)\n",
    "cut2 = (df[\"dec\"]> -30) &  (df[\"dec\"]<-10)\n",
    "df_sel = df[cut1 & cut2]\n",
    "df_sel = df_sel[[\"RAdeg\",\"DECdeg\"]]\n",
    "df_sel.plot(kind=\"scatter\",x=\"RAdeg\",y=\"DECdeg\",marker=\".\",c=\"r\",ax=ax,grid=True)\n",
    "plt.gca().set_aspect('equal')\n",
    "plt.title(suptitle,fontsize=16)"
   ]
  },
  {
   "cell_type": "code",
   "execution_count": null,
   "id": "9b68a444-9e5c-4d8f-b252-0cc32be34433",
   "metadata": {},
   "outputs": [],
   "source": []
  }
 ],
 "metadata": {
  "kernelspec": {
   "display_name": "LSST",
   "language": "python",
   "name": "lsst"
  },
  "language_info": {
   "codemirror_mode": {
    "name": "ipython",
    "version": 3
   },
   "file_extension": ".py",
   "mimetype": "text/x-python",
   "name": "python",
   "nbconvert_exporter": "python",
   "pygments_lexer": "ipython3",
   "version": "3.11.4"
  }
 },
 "nbformat": 4,
 "nbformat_minor": 5
}
