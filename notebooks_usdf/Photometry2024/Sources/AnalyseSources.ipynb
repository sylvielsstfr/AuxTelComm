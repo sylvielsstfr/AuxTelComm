{
 "cells": [
  {
   "cell_type": "markdown",
   "id": "8608d6fb-20fc-4b07-ba88-74e9b45cdf25",
   "metadata": {},
   "source": [
    "# Analyse sources"
   ]
  },
  {
   "cell_type": "markdown",
   "id": "667ba03e-ddfb-47fd-bee3-3824f9be7ae5",
   "metadata": {},
   "source": [
    " work with Weakly_2023_44\n",
    "- use jupyter kernel LSST\n",
    "\n",
    "\n",
    "- author : Sylvie Dagoret-Campagne\n",
    "- affiliation : IJCLab\n",
    "- creation date : 2023/12/22\n",
    "- update : 2023/12/22\n"
   ]
  },
  {
   "cell_type": "code",
   "execution_count": null,
   "id": "058012ec-9888-4b97-9fe2-57595e1bc0e7",
   "metadata": {
    "execution": {
     "iopub.execute_input": "2023-12-22T21:32:55.894183Z",
     "iopub.status.busy": "2023-12-22T21:32:55.894064Z",
     "iopub.status.idle": "2023-12-22T21:32:56.438476Z",
     "shell.execute_reply": "2023-12-22T21:32:56.438019Z",
     "shell.execute_reply.started": "2023-12-22T21:32:55.894170Z"
    }
   },
   "outputs": [],
   "source": [
    "import numpy as np\n",
    "import matplotlib.pyplot as plt\n",
    "%matplotlib inline\n",
    "from mpl_toolkits.axes_grid1 import make_axes_locatable\n",
    "from matplotlib.colors import LogNorm,SymLogNorm\n",
    "\n",
    "\n",
    "import matplotlib.ticker                         # here's where the formatter is\n",
    "from matplotlib.ticker import (MultipleLocator, FormatStrFormatter,\n",
    "                               AutoMinorLocator)\n",
    "from astropy.visualization import (MinMaxInterval, SqrtStretch,ZScaleInterval,PercentileInterval,\n",
    "                                   ImageNormalize,imshow_norm)\n",
    "from astropy.visualization.stretch import SinhStretch, LinearStretch,AsinhStretch,LogStretch\n",
    "from astropy.io import fits\n",
    "import astropy.coordinates as coord\n",
    "import astropy.units as u\n",
    "import pandas as pd\n",
    "\n",
    "import matplotlib.ticker                         # here's where the formatter is\n",
    "import os\n",
    "import re\n",
    "import pandas as pd\n",
    "\n",
    "plt.rcParams[\"figure.figsize\"] = (4,3)\n",
    "plt.rcParams[\"axes.labelsize\"] = 'xx-large'\n",
    "plt.rcParams['axes.titlesize'] = 'xx-large'\n",
    "plt.rcParams['xtick.labelsize']= 'xx-large'\n",
    "plt.rcParams['ytick.labelsize']= 'xx-large'"
   ]
  },
  {
   "cell_type": "code",
   "execution_count": null,
   "id": "907f5257-e80b-4336-b41f-5bf3745571bf",
   "metadata": {
    "execution": {
     "iopub.execute_input": "2023-12-22T21:32:56.439855Z",
     "iopub.status.busy": "2023-12-22T21:32:56.439416Z",
     "iopub.status.idle": "2023-12-22T21:32:56.441957Z",
     "shell.execute_reply": "2023-12-22T21:32:56.441569Z",
     "shell.execute_reply.started": "2023-12-22T21:32:56.439840Z"
    }
   },
   "outputs": [],
   "source": [
    "filesource_in=\"sourceTable_202312.csv\""
   ]
  },
  {
   "cell_type": "code",
   "execution_count": null,
   "id": "a4c4bc49-f65a-441c-8f51-82a27f7887d2",
   "metadata": {
    "execution": {
     "iopub.execute_input": "2023-12-22T21:32:56.442550Z",
     "iopub.status.busy": "2023-12-22T21:32:56.442431Z",
     "iopub.status.idle": "2023-12-22T21:33:15.062543Z",
     "shell.execute_reply": "2023-12-22T21:33:15.062145Z",
     "shell.execute_reply.started": "2023-12-22T21:32:56.442538Z"
    }
   },
   "outputs": [],
   "source": [
    "df = pd.read_csv(filesource_in)"
   ]
  },
  {
   "cell_type": "code",
   "execution_count": null,
   "id": "f520bf2a-9b47-4748-9503-3896eac2dda3",
   "metadata": {
    "execution": {
     "iopub.execute_input": "2023-12-22T21:33:15.063175Z",
     "iopub.status.busy": "2023-12-22T21:33:15.063037Z",
     "iopub.status.idle": "2023-12-22T21:33:15.171500Z",
     "shell.execute_reply": "2023-12-22T21:33:15.171168Z",
     "shell.execute_reply.started": "2023-12-22T21:33:15.063161Z"
    }
   },
   "outputs": [],
   "source": [
    "df"
   ]
  },
  {
   "cell_type": "code",
   "execution_count": null,
   "id": "01717b67-ecd3-4a3d-9912-fb69a7f611fe",
   "metadata": {
    "execution": {
     "iopub.execute_input": "2023-12-28T17:01:17.938355Z",
     "iopub.status.busy": "2023-12-28T17:01:17.938046Z",
     "iopub.status.idle": "2023-12-28T17:01:17.940591Z",
     "shell.execute_reply": "2023-12-28T17:01:17.940213Z",
     "shell.execute_reply.started": "2023-12-28T17:01:17.938337Z"
    }
   },
   "outputs": [],
   "source": [
    "#colnames = list(df.columns)\n",
    "#for name in colnames:\n",
    "#    print(name)"
   ]
  },
  {
   "cell_type": "code",
   "execution_count": null,
   "id": "4b23eb74-c343-450f-a9ea-bff1b6603972",
   "metadata": {
    "execution": {
     "iopub.execute_input": "2023-12-22T21:33:15.176052Z",
     "iopub.status.busy": "2023-12-22T21:33:15.175931Z",
     "iopub.status.idle": "2023-12-22T21:33:15.197942Z",
     "shell.execute_reply": "2023-12-22T21:33:15.197585Z",
     "shell.execute_reply.started": "2023-12-22T21:33:15.176040Z"
    }
   },
   "outputs": [],
   "source": [
    "df_sel = df[['sourceId','ccdVisitId','x','y','ra','dec','coord_ra','coord_dec','psfFlux','gaussianFlux','visit','band','visid_idx','mjd','dateobs','extendedness_flag','detect_isPrimary']]"
   ]
  },
  {
   "cell_type": "code",
   "execution_count": null,
   "id": "a9301c9b-afca-4997-a25b-349c58ffbda7",
   "metadata": {
    "execution": {
     "iopub.execute_input": "2023-12-22T21:33:15.198589Z",
     "iopub.status.busy": "2023-12-22T21:33:15.198470Z",
     "iopub.status.idle": "2023-12-22T21:33:15.201025Z",
     "shell.execute_reply": "2023-12-22T21:33:15.200726Z",
     "shell.execute_reply.started": "2023-12-22T21:33:15.198578Z"
    }
   },
   "outputs": [],
   "source": [
    "def convert_fluxtomag(x) :\n",
    "    \"\"\"\n",
    "    The object and source catalogs store only fluxes. There are hundreds of flux-related columns, \n",
    "    and to store them also as magnitudes would be redundant, and a waste of space.\n",
    "    All flux units are nanojanskys. The AB Magnitudes Wikipedia page provides a concise resource \n",
    "    for users unfamiliar with AB magnitudes and jansky fluxes. To convert to AB magnitudes use:\n",
    "    As demonstrated in Section 2.3.2, to add columns of magnitudes after retrieving columns of flux, users can do this:\n",
    "    results_table['r_calibMag'] = -2.50 * numpy.log10(results_table['r_calibFlux']) + 31.4\n",
    "    results_table['r_cModelMag'] = -2.50 * numpy.log10(results_table['r_cModelFlux']) + 31.4\n",
    "    (from DP0 tutorial)\n",
    "    \"\"\"\n",
    "    return -2.50 * np.log10(x) + 31.4"
   ]
  },
  {
   "cell_type": "code",
   "execution_count": null,
   "id": "30914e6f-52fd-4eb3-bbc1-23ff66a89188",
   "metadata": {
    "execution": {
     "iopub.execute_input": "2023-12-22T21:33:15.201521Z",
     "iopub.status.busy": "2023-12-22T21:33:15.201408Z",
     "iopub.status.idle": "2023-12-22T21:33:17.801162Z",
     "shell.execute_reply": "2023-12-22T21:33:17.800822Z",
     "shell.execute_reply.started": "2023-12-22T21:33:15.201510Z"
    }
   },
   "outputs": [],
   "source": [
    "df_sel[\"psfMag\"] =  df_sel['psfFlux'].map(convert_fluxtomag)\n",
    "#df_sel[\"gaussianMag\"] =  df_sel['gaussianFlux'].map(lambda x:-2.50 * np.log10(x) + 31.4)\n",
    "df_sel[\"gaussianMag\"] =  df_sel['gaussianFlux'].map(convert_fluxtomag)"
   ]
  },
  {
   "cell_type": "code",
   "execution_count": null,
   "id": "b5458f28-5032-4720-a388-636dd8c40425",
   "metadata": {
    "execution": {
     "iopub.execute_input": "2023-12-22T21:33:17.801766Z",
     "iopub.status.busy": "2023-12-22T21:33:17.801637Z",
     "iopub.status.idle": "2023-12-22T21:33:17.847655Z",
     "shell.execute_reply": "2023-12-22T21:33:17.847171Z",
     "shell.execute_reply.started": "2023-12-22T21:33:17.801753Z"
    }
   },
   "outputs": [],
   "source": [
    "df_sel = df_sel[df_sel['extendedness_flag']==False & df_sel['detect_isPrimary']]"
   ]
  },
  {
   "cell_type": "code",
   "execution_count": null,
   "id": "f48573a3-24d2-4149-b861-e291ebac8091",
   "metadata": {
    "execution": {
     "iopub.execute_input": "2023-12-22T21:33:17.848580Z",
     "iopub.status.busy": "2023-12-22T21:33:17.848316Z",
     "iopub.status.idle": "2023-12-22T21:33:18.023466Z",
     "shell.execute_reply": "2023-12-22T21:33:18.023100Z",
     "shell.execute_reply.started": "2023-12-22T21:33:17.848566Z"
    }
   },
   "outputs": [],
   "source": [
    "df_sel.dropna(axis=0,inplace = True)"
   ]
  },
  {
   "cell_type": "code",
   "execution_count": null,
   "id": "495079c5-f71e-4741-8cdc-0b912d4dc36b",
   "metadata": {
    "execution": {
     "iopub.execute_input": "2023-12-22T21:33:18.024083Z",
     "iopub.status.busy": "2023-12-22T21:33:18.023958Z",
     "iopub.status.idle": "2023-12-22T21:33:18.036455Z",
     "shell.execute_reply": "2023-12-22T21:33:18.036154Z",
     "shell.execute_reply.started": "2023-12-22T21:33:18.024070Z"
    }
   },
   "outputs": [],
   "source": [
    "df_sel"
   ]
  },
  {
   "cell_type": "code",
   "execution_count": null,
   "id": "a8f6b71e-4486-45a6-bab8-13eae61ded2f",
   "metadata": {
    "execution": {
     "iopub.execute_input": "2023-12-22T21:33:18.036998Z",
     "iopub.status.busy": "2023-12-22T21:33:18.036877Z",
     "iopub.status.idle": "2023-12-22T21:33:38.126113Z",
     "shell.execute_reply": "2023-12-22T21:33:38.125664Z",
     "shell.execute_reply.started": "2023-12-22T21:33:18.036987Z"
    }
   },
   "outputs": [],
   "source": [
    "df_sel.plot.scatter('x','y',c='ccdVisitId',colormap='viridis')"
   ]
  },
  {
   "cell_type": "code",
   "execution_count": null,
   "id": "7f1e4786-d417-402a-bdc1-0aca5e040dae",
   "metadata": {
    "execution": {
     "iopub.execute_input": "2023-12-22T21:44:12.979660Z",
     "iopub.status.busy": "2023-12-22T21:44:12.979101Z",
     "iopub.status.idle": "2023-12-22T21:44:31.903563Z",
     "shell.execute_reply": "2023-12-22T21:44:31.903245Z",
     "shell.execute_reply.started": "2023-12-22T21:44:12.979644Z"
    }
   },
   "outputs": [],
   "source": [
    "df_sel.plot.scatter('ra','dec',c='ccdVisitId',colormap='hsv',grid=True,figsize=(10,5))"
   ]
  },
  {
   "cell_type": "code",
   "execution_count": null,
   "id": "52e5f78a-e202-4fc7-8aa5-8a99fce569d0",
   "metadata": {
    "execution": {
     "iopub.execute_input": "2023-12-22T21:43:29.133193Z",
     "iopub.status.busy": "2023-12-22T21:43:29.132870Z",
     "iopub.status.idle": "2023-12-22T21:43:48.218814Z",
     "shell.execute_reply": "2023-12-22T21:43:48.218377Z",
     "shell.execute_reply.started": "2023-12-22T21:43:29.133177Z"
    }
   },
   "outputs": [],
   "source": [
    "df_sel.plot.scatter('coord_ra','coord_dec',c='ccdVisitId',colormap='hsv',grid=True,figsize=(10,5))"
   ]
  },
  {
   "cell_type": "code",
   "execution_count": null,
   "id": "36bc38b2-e138-4e00-8b73-f2776f1b0685",
   "metadata": {
    "execution": {
     "iopub.execute_input": "2023-12-22T21:42:41.151823Z",
     "iopub.status.busy": "2023-12-22T21:42:41.151250Z",
     "iopub.status.idle": "2023-12-22T21:42:41.617115Z",
     "shell.execute_reply": "2023-12-22T21:42:41.616738Z",
     "shell.execute_reply.started": "2023-12-22T21:42:41.151807Z"
    }
   },
   "outputs": [],
   "source": [
    "df_sel['coord_ra'].plot(kind=\"hist\",bins=50 ,range=(0,360),logy=True,title=\"coord_ra\",grid=True,figsize=(10,5))"
   ]
  },
  {
   "cell_type": "code",
   "execution_count": null,
   "id": "ea52f52d-785d-401e-9e2a-7f6f4cbafe08",
   "metadata": {
    "execution": {
     "iopub.execute_input": "2023-12-22T21:42:23.637181Z",
     "iopub.status.busy": "2023-12-22T21:42:23.636603Z",
     "iopub.status.idle": "2023-12-22T21:42:23.963486Z",
     "shell.execute_reply": "2023-12-22T21:42:23.963090Z",
     "shell.execute_reply.started": "2023-12-22T21:42:23.637164Z"
    }
   },
   "outputs": [],
   "source": [
    "df_sel['coord_dec'].plot(kind=\"hist\",bins=50 ,range=(-90,10),logy=True,title=\"coord_dec\",grid=True,figsize=(10,5))"
   ]
  },
  {
   "cell_type": "code",
   "execution_count": null,
   "id": "71a85a9e-0a81-4d04-a3a7-417f9cc0a39f",
   "metadata": {
    "execution": {
     "iopub.execute_input": "2023-12-22T21:47:52.746875Z",
     "iopub.status.busy": "2023-12-22T21:47:52.746578Z",
     "iopub.status.idle": "2023-12-22T21:47:52.751256Z",
     "shell.execute_reply": "2023-12-22T21:47:52.750924Z",
     "shell.execute_reply.started": "2023-12-22T21:47:52.746861Z"
    }
   },
   "outputs": [],
   "source": [
    "cut_skyloc = ((df_sel['dec'] < -30) & (df_sel['dec'] > -40) & (df_sel['ra'] > 100) & (df_sel['ra'] < 150))"
   ]
  },
  {
   "cell_type": "code",
   "execution_count": null,
   "id": "4312ddf5-74d6-4cd9-bff5-dce8d55505f6",
   "metadata": {
    "execution": {
     "iopub.execute_input": "2023-12-22T21:48:10.698976Z",
     "iopub.status.busy": "2023-12-22T21:48:10.698692Z",
     "iopub.status.idle": "2023-12-22T21:48:10.701693Z",
     "shell.execute_reply": "2023-12-22T21:48:10.701394Z",
     "shell.execute_reply.started": "2023-12-22T21:48:10.698961Z"
    }
   },
   "outputs": [],
   "source": [
    "df_sel = df_sel[cut_skyloc]"
   ]
  },
  {
   "cell_type": "code",
   "execution_count": null,
   "id": "8d7ea79d-7fdc-40b8-a3db-4ab04b815cd2",
   "metadata": {
    "execution": {
     "iopub.execute_input": "2023-12-22T21:48:53.962566Z",
     "iopub.status.busy": "2023-12-22T21:48:53.962279Z",
     "iopub.status.idle": "2023-12-22T21:48:54.109465Z",
     "shell.execute_reply": "2023-12-22T21:48:54.109144Z",
     "shell.execute_reply.started": "2023-12-22T21:48:53.962551Z"
    }
   },
   "outputs": [],
   "source": [
    "df_sel['psfMag'].plot(kind=\"hist\",bins=50,range=(5,30),logy=True,grid=True,title=\"psMag\")"
   ]
  },
  {
   "cell_type": "code",
   "execution_count": null,
   "id": "d9f34f5d-1060-447d-b73d-5626e1a5972b",
   "metadata": {
    "execution": {
     "iopub.execute_input": "2023-12-22T21:49:10.597366Z",
     "iopub.status.busy": "2023-12-22T21:49:10.597094Z",
     "iopub.status.idle": "2023-12-22T21:49:10.858347Z",
     "shell.execute_reply": "2023-12-22T21:49:10.858038Z",
     "shell.execute_reply.started": "2023-12-22T21:49:10.597351Z"
    }
   },
   "outputs": [],
   "source": [
    "df_sel['gaussianMag'].plot(kind=\"hist\",bins=50 ,range=(5,30),logy=True,grid=True,title=\"gaussianMag\")"
   ]
  },
  {
   "cell_type": "code",
   "execution_count": null,
   "id": "f560da18-d3db-437b-a323-207132665bf3",
   "metadata": {
    "execution": {
     "iopub.execute_input": "2023-12-22T21:49:20.496492Z",
     "iopub.status.busy": "2023-12-22T21:49:20.496196Z",
     "iopub.status.idle": "2023-12-22T21:49:20.509154Z",
     "shell.execute_reply": "2023-12-22T21:49:20.508834Z",
     "shell.execute_reply.started": "2023-12-22T21:49:20.496477Z"
    }
   },
   "outputs": [],
   "source": [
    "df_sel"
   ]
  },
  {
   "cell_type": "code",
   "execution_count": null,
   "id": "5769a54e-167c-438c-aed4-a1bd070d2d8c",
   "metadata": {
    "execution": {
     "iopub.execute_input": "2023-12-22T22:01:02.292724Z",
     "iopub.status.busy": "2023-12-22T22:01:02.292451Z",
     "iopub.status.idle": "2023-12-22T22:01:02.296275Z",
     "shell.execute_reply": "2023-12-22T22:01:02.295911Z",
     "shell.execute_reply.started": "2023-12-22T22:01:02.292710Z"
    }
   },
   "outputs": [],
   "source": [
    "#df_sel.groupby(df_sel['dateobs'].dt.date).size().plot()\n",
    "datetime = pd.to_datetime(df_sel['dateobs'])"
   ]
  },
  {
   "cell_type": "code",
   "execution_count": null,
   "id": "5eb4f7c1-bf32-4943-843c-85c1dddefe39",
   "metadata": {
    "execution": {
     "iopub.execute_input": "2023-12-22T21:54:04.858505Z",
     "iopub.status.busy": "2023-12-22T21:54:04.858206Z",
     "iopub.status.idle": "2023-12-22T21:54:04.862039Z",
     "shell.execute_reply": "2023-12-22T21:54:04.861680Z",
     "shell.execute_reply.started": "2023-12-22T21:54:04.858490Z"
    }
   },
   "outputs": [],
   "source": [
    "df_sel['dateobs'].max()"
   ]
  },
  {
   "cell_type": "code",
   "execution_count": null,
   "id": "1bf81fbf-64e6-46f5-be8a-9adca60d3abb",
   "metadata": {
    "execution": {
     "iopub.execute_input": "2023-12-22T22:03:47.140797Z",
     "iopub.status.busy": "2023-12-22T22:03:47.140513Z",
     "iopub.status.idle": "2023-12-22T22:03:47.231028Z",
     "shell.execute_reply": "2023-12-22T22:03:47.230596Z",
     "shell.execute_reply.started": "2023-12-22T22:03:47.140783Z"
    }
   },
   "outputs": [],
   "source": [
    "df_sel[\"date\"] = df[\"dateobs\"].astype(\"datetime64\")"
   ]
  },
  {
   "cell_type": "code",
   "execution_count": null,
   "id": "a6e84a91-e9d6-404d-8ef9-c2f80f3d3bf0",
   "metadata": {
    "execution": {
     "iopub.execute_input": "2023-12-22T22:03:53.597345Z",
     "iopub.status.busy": "2023-12-22T22:03:53.597084Z",
     "iopub.status.idle": "2023-12-22T22:03:53.610668Z",
     "shell.execute_reply": "2023-12-22T22:03:53.610300Z",
     "shell.execute_reply.started": "2023-12-22T22:03:53.597330Z"
    }
   },
   "outputs": [],
   "source": [
    "df_sel"
   ]
  },
  {
   "cell_type": "code",
   "execution_count": null,
   "id": "0c1f2fd3-0101-4637-b030-d226a3b58cab",
   "metadata": {
    "execution": {
     "iopub.execute_input": "2023-12-22T22:12:03.135602Z",
     "iopub.status.busy": "2023-12-22T22:12:03.135339Z",
     "iopub.status.idle": "2023-12-22T22:12:03.138544Z",
     "shell.execute_reply": "2023-12-22T22:12:03.138139Z",
     "shell.execute_reply.started": "2023-12-22T22:12:03.135589Z"
    }
   },
   "outputs": [],
   "source": [
    "df_time = df_sel[[\"date\"]]"
   ]
  },
  {
   "cell_type": "code",
   "execution_count": null,
   "id": "79e7f118-e3da-4e0a-9497-a1079dbd30d6",
   "metadata": {
    "execution": {
     "iopub.execute_input": "2023-12-22T22:12:05.546170Z",
     "iopub.status.busy": "2023-12-22T22:12:05.545892Z",
     "iopub.status.idle": "2023-12-22T22:12:05.551234Z",
     "shell.execute_reply": "2023-12-22T22:12:05.550890Z",
     "shell.execute_reply.started": "2023-12-22T22:12:05.546156Z"
    }
   },
   "outputs": [],
   "source": [
    "df_time"
   ]
  },
  {
   "cell_type": "code",
   "execution_count": null,
   "id": "1845d0ef-c99a-4b63-9212-80d890f38128",
   "metadata": {
    "execution": {
     "iopub.execute_input": "2023-12-22T22:13:51.442924Z",
     "iopub.status.busy": "2023-12-22T22:13:51.442305Z",
     "iopub.status.idle": "2023-12-22T22:13:51.536522Z",
     "shell.execute_reply": "2023-12-22T22:13:51.536164Z",
     "shell.execute_reply.started": "2023-12-22T22:13:51.442909Z"
    }
   },
   "outputs": [],
   "source": [
    "fig = plt.figure()\n",
    "ax = fig.add_subplot(1,1,1)\n",
    "ax = (df_time[\"date\"].groupby(df_time[\"date\"].dt.minute)\n",
    "                         .count()).plot(kind=\"bar\")"
   ]
  }
 ],
 "metadata": {
  "kernelspec": {
   "display_name": "LSST",
   "language": "python",
   "name": "lsst"
  },
  "language_info": {
   "codemirror_mode": {
    "name": "ipython",
    "version": 3
   },
   "file_extension": ".py",
   "mimetype": "text/x-python",
   "name": "python",
   "nbconvert_exporter": "python",
   "pygments_lexer": "ipython3",
   "version": "3.11.7"
  }
 },
 "nbformat": 4,
 "nbformat_minor": 5
}
