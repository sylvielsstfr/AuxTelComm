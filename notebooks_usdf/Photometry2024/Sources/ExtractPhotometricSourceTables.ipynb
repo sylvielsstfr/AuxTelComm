{
 "cells": [
  {
   "cell_type": "markdown",
   "id": "0b8c2138-5194-4d03-8b77-be24e2cc8ee3",
   "metadata": {},
   "source": [
    "# Extract SourcesTables Results in  OGA"
   ]
  },
  {
   "cell_type": "markdown",
   "id": "740e34fb-3fef-45a8-941b-c229742ab016",
   "metadata": {},
   "source": [
    " work with Weakly_2023_44\n",
    "- use jupyter kernel LSST\n",
    "\n",
    "\n",
    "- author : Sylvie Dagoret-Campagne\n",
    "- affiliation : IJCLab\n",
    "- creation date : 2023/01/19\n",
    "- update : 2023/12/22\n"
   ]
  },
  {
   "cell_type": "code",
   "execution_count": null,
   "id": "ed2c3410-fe83-432e-ab87-9f4513fa8d8b",
   "metadata": {
    "execution": {
     "iopub.execute_input": "2023-12-22T19:31:44.126403Z",
     "iopub.status.busy": "2023-12-22T19:31:44.126143Z",
     "iopub.status.idle": "2023-12-22T19:31:44.477287Z",
     "shell.execute_reply": "2023-12-22T19:31:44.476855Z",
     "shell.execute_reply.started": "2023-12-22T19:31:44.126389Z"
    }
   },
   "outputs": [],
   "source": [
    "! eups list -s | grep LOCAL"
   ]
  },
  {
   "cell_type": "code",
   "execution_count": null,
   "id": "70918d81-0cf6-4b0a-8f61-f5e5bec5b0e7",
   "metadata": {
    "execution": {
     "iopub.execute_input": "2023-12-22T19:31:44.478417Z",
     "iopub.status.busy": "2023-12-22T19:31:44.478189Z",
     "iopub.status.idle": "2023-12-22T19:31:44.821275Z",
     "shell.execute_reply": "2023-12-22T19:31:44.820734Z",
     "shell.execute_reply.started": "2023-12-22T19:31:44.478400Z"
    }
   },
   "outputs": [],
   "source": [
    "! eups list -s lsst_distrib"
   ]
  },
  {
   "cell_type": "code",
   "execution_count": null,
   "id": "f8d9cfca-5881-48c1-b2cb-0f794a2e4091",
   "metadata": {
    "execution": {
     "iopub.execute_input": "2023-12-22T19:31:44.822164Z",
     "iopub.status.busy": "2023-12-22T19:31:44.822025Z",
     "iopub.status.idle": "2023-12-22T19:31:45.297976Z",
     "shell.execute_reply": "2023-12-22T19:31:45.297516Z",
     "shell.execute_reply.started": "2023-12-22T19:31:44.822148Z"
    },
    "tags": []
   },
   "outputs": [],
   "source": [
    "import lsst.daf.butler as dafButler\n",
    "#import lsst.summit.utils.butlerUtils as butlerUtils"
   ]
  },
  {
   "cell_type": "code",
   "execution_count": null,
   "id": "1ceacda9-20b0-4d77-a0d2-572c957ce273",
   "metadata": {
    "execution": {
     "iopub.execute_input": "2023-12-22T19:31:45.298685Z",
     "iopub.status.busy": "2023-12-22T19:31:45.298548Z",
     "iopub.status.idle": "2023-12-22T19:31:45.917240Z",
     "shell.execute_reply": "2023-12-22T19:31:45.916772Z",
     "shell.execute_reply.started": "2023-12-22T19:31:45.298671Z"
    },
    "tags": []
   },
   "outputs": [],
   "source": [
    "import numpy as np\n",
    "import matplotlib.pyplot as plt\n",
    "%matplotlib inline\n",
    "from mpl_toolkits.axes_grid1 import make_axes_locatable\n",
    "from matplotlib.colors import LogNorm,SymLogNorm\n",
    "\n",
    "\n",
    "import matplotlib.ticker                         # here's where the formatter is\n",
    "from matplotlib.ticker import (MultipleLocator, FormatStrFormatter,\n",
    "                               AutoMinorLocator)\n",
    "\n",
    "from astropy.visualization import (MinMaxInterval, SqrtStretch,ZScaleInterval,PercentileInterval,\n",
    "                                   ImageNormalize,imshow_norm)\n",
    "from astropy.visualization.stretch import SinhStretch, LinearStretch,AsinhStretch,LogStretch\n",
    "\n",
    "from astropy.io import fits\n",
    "\n",
    "import pandas as pd\n",
    "\n",
    "import matplotlib.ticker                         # here's where the formatter is\n",
    "import os\n",
    "import re\n",
    "import pandas as pd\n",
    "\n",
    "plt.rcParams[\"figure.figsize\"] = (4,3)\n",
    "plt.rcParams[\"axes.labelsize\"] = 'xx-large'\n",
    "plt.rcParams['axes.titlesize'] = 'xx-large'\n",
    "plt.rcParams['xtick.labelsize']= 'xx-large'\n",
    "plt.rcParams['ytick.labelsize']= 'xx-large'"
   ]
  },
  {
   "cell_type": "code",
   "execution_count": null,
   "id": "34c92544-f2fd-4287-b852-e2ccb9a3b510",
   "metadata": {
    "execution": {
     "iopub.execute_input": "2023-12-22T19:31:45.918735Z",
     "iopub.status.busy": "2023-12-22T19:31:45.918409Z",
     "iopub.status.idle": "2023-12-22T19:31:45.921440Z",
     "shell.execute_reply": "2023-12-22T19:31:45.921071Z",
     "shell.execute_reply.started": "2023-12-22T19:31:45.918720Z"
    },
    "tags": []
   },
   "outputs": [],
   "source": [
    "from matplotlib.ticker import (MultipleLocator, FormatStrFormatter,\n",
    "                               AutoMinorLocator)\n",
    "\n",
    "from astropy.visualization import (MinMaxInterval, SqrtStretch,ZScaleInterval,PercentileInterval,\n",
    "                                   ImageNormalize,imshow_norm)\n",
    "from astropy.visualization.stretch import SinhStretch, LinearStretch,AsinhStretch,LogStretch\n",
    "\n",
    "from astropy.time import Time\n"
   ]
  },
  {
   "cell_type": "code",
   "execution_count": null,
   "id": "77aa5733-0a46-49eb-b26e-d3bb6195cc3d",
   "metadata": {
    "execution": {
     "iopub.execute_input": "2023-12-22T19:31:45.922056Z",
     "iopub.status.busy": "2023-12-22T19:31:45.921926Z",
     "iopub.status.idle": "2023-12-22T19:31:46.126335Z",
     "shell.execute_reply": "2023-12-22T19:31:46.125854Z",
     "shell.execute_reply.started": "2023-12-22T19:31:45.922044Z"
    },
    "tags": []
   },
   "outputs": [],
   "source": [
    "# LSST Display\n",
    "import lsst.afw.display as afwDisplay\n",
    "afwDisplay.setDefaultBackend('matplotlib')"
   ]
  },
  {
   "cell_type": "code",
   "execution_count": null,
   "id": "b7cea198-6f3c-4a87-8877-fdf8e4d73c26",
   "metadata": {
    "execution": {
     "iopub.execute_input": "2023-12-22T19:31:46.127222Z",
     "iopub.status.busy": "2023-12-22T19:31:46.126891Z",
     "iopub.status.idle": "2023-12-22T19:31:46.129381Z",
     "shell.execute_reply": "2023-12-22T19:31:46.129045Z",
     "shell.execute_reply.started": "2023-12-22T19:31:46.127209Z"
    },
    "tags": []
   },
   "outputs": [],
   "source": [
    "transform = AsinhStretch() + PercentileInterval(99.)"
   ]
  },
  {
   "cell_type": "code",
   "execution_count": null,
   "id": "c8b31810-780c-43f2-92a1-af05fddd65e1",
   "metadata": {
    "execution": {
     "iopub.execute_input": "2023-12-22T19:31:46.129936Z",
     "iopub.status.busy": "2023-12-22T19:31:46.129816Z",
     "iopub.status.idle": "2023-12-22T19:31:46.133385Z",
     "shell.execute_reply": "2023-12-22T19:31:46.133038Z",
     "shell.execute_reply.started": "2023-12-22T19:31:46.129924Z"
    }
   },
   "outputs": [],
   "source": [
    "pd.options.display.max_columns = None\n",
    "#pd.options.display.max_rows = None\n",
    "\n"
   ]
  },
  {
   "cell_type": "markdown",
   "id": "17f98db2-2ea8-4546-87a9-f2cd11d67ec7",
   "metadata": {},
   "source": [
    "## Configuration"
   ]
  },
  {
   "cell_type": "code",
   "execution_count": null,
   "id": "f6c1ac18-5e47-4ae9-93ec-32f4337aa520",
   "metadata": {
    "execution": {
     "iopub.execute_input": "2023-12-22T19:31:46.133974Z",
     "iopub.status.busy": "2023-12-22T19:31:46.133850Z",
     "iopub.status.idle": "2023-12-22T19:31:46.137653Z",
     "shell.execute_reply": "2023-12-22T19:31:46.137319Z",
     "shell.execute_reply.started": "2023-12-22T19:31:46.133963Z"
    }
   },
   "outputs": [],
   "source": [
    "filesource_out=\"sourceTable_202312.csv\"\n",
    "#filetractpatch_out = 'Latiss_tractspatchs_202312.pickle'"
   ]
  },
  {
   "cell_type": "code",
   "execution_count": null,
   "id": "1c81d99a-5e91-4ba1-ba4a-c66b37905b98",
   "metadata": {
    "execution": {
     "iopub.execute_input": "2023-12-22T19:31:46.138257Z",
     "iopub.status.busy": "2023-12-22T19:31:46.138142Z",
     "iopub.status.idle": "2023-12-22T19:31:48.790095Z",
     "shell.execute_reply": "2023-12-22T19:31:48.789603Z",
     "shell.execute_reply.started": "2023-12-22T19:31:46.138247Z"
    },
    "tags": []
   },
   "outputs": [],
   "source": [
    "#repo =  \"/sdf/group/rubin/repo/main\"\n",
    "repo = \"/sdf/group/rubin/repo/oga/\"\n",
    "butler = dafButler.Butler(repo)\n",
    "registry = butler.registry"
   ]
  },
  {
   "cell_type": "code",
   "execution_count": null,
   "id": "0fffaeef-599c-4469-8c04-67252827cb8d",
   "metadata": {
    "execution": {
     "iopub.execute_input": "2023-12-22T19:31:48.790879Z",
     "iopub.status.busy": "2023-12-22T19:31:48.790747Z",
     "iopub.status.idle": "2023-12-22T19:31:48.793281Z",
     "shell.execute_reply": "2023-12-22T19:31:48.792580Z",
     "shell.execute_reply.started": "2023-12-22T19:31:48.790866Z"
    }
   },
   "outputs": [],
   "source": [
    "#file_out=\"sourceTable_202312.csv\""
   ]
  },
  {
   "cell_type": "markdown",
   "id": "20dbb8da-3a08-4b4f-9437-4bf7f28c1782",
   "metadata": {},
   "source": [
    "## Give the collection"
   ]
  },
  {
   "cell_type": "code",
   "execution_count": null,
   "id": "9629ea29-8ab4-4062-aed1-e16d62dc90c4",
   "metadata": {
    "execution": {
     "iopub.execute_input": "2023-12-22T19:31:48.793950Z",
     "iopub.status.busy": "2023-12-22T19:31:48.793757Z",
     "iopub.status.idle": "2023-12-22T19:31:48.797462Z",
     "shell.execute_reply": "2023-12-22T19:31:48.797094Z",
     "shell.execute_reply.started": "2023-12-22T19:31:48.793938Z"
    },
    "tags": []
   },
   "outputs": [],
   "source": [
    "my_collection = \"LATISS/runs/AUXTEL_DRP_IMAGING_2023-11A-10A-09AB-08ABC-07AB-05AB/w_2023_46/PREOPS-4553\""
   ]
  },
  {
   "cell_type": "markdown",
   "id": "a7587b10-c178-4537-9c34-60867b69fa01",
   "metadata": {},
   "source": [
    "## Config"
   ]
  },
  {
   "cell_type": "markdown",
   "id": "a72c2c07-ff40-49d9-a36d-5277cbbc5cec",
   "metadata": {},
   "source": [
    "# Sources"
   ]
  },
  {
   "cell_type": "code",
   "execution_count": null,
   "id": "c2bca87f-8b3a-44ee-afa5-5b8e0b8f9b9d",
   "metadata": {
    "execution": {
     "iopub.execute_input": "2023-12-22T19:31:48.798012Z",
     "iopub.status.busy": "2023-12-22T19:31:48.797888Z",
     "iopub.status.idle": "2023-12-22T19:31:48.820230Z",
     "shell.execute_reply": "2023-12-22T19:31:48.819863Z",
     "shell.execute_reply.started": "2023-12-22T19:31:48.798001Z"
    },
    "tags": []
   },
   "outputs": [],
   "source": [
    "datasetRefs = butler.registry.queryDatasets(datasetType='sourceTable', collections=my_collection, where= \"instrument='LATISS'\")"
   ]
  },
  {
   "cell_type": "code",
   "execution_count": null,
   "id": "a01bb1b1-a2fe-4060-85ff-fb9e9c5dbb74",
   "metadata": {
    "execution": {
     "iopub.execute_input": "2023-12-22T19:31:48.821987Z",
     "iopub.status.busy": "2023-12-22T19:31:48.821856Z",
     "iopub.status.idle": "2023-12-22T19:45:19.634330Z",
     "shell.execute_reply": "2023-12-22T19:45:19.633892Z",
     "shell.execute_reply.started": "2023-12-22T19:31:48.821975Z"
    },
    "tags": []
   },
   "outputs": [],
   "source": [
    "all_ref_for_src = []\n",
    "all_dataId = []\n",
    "all_src = []\n",
    "all_exposures = []\n",
    "all_sourcesTables = []\n",
    "all_dateobs = []\n",
    "\n",
    "for i, ref in enumerate(datasetRefs):\n",
    "    all_ref_for_src.append(ref.dataId)\n",
    "    print(\"========================datasetType = sourceTable ============================================\")\n",
    "    print(\"fullId..................:\",ref.dataId.full)\n",
    "    print(\"visit...................:\",ref.dataId[\"visit\"])\n",
    "    print(\"band....................:\",ref.dataId[\"band\"])\n",
    "    print(\"physical filter.........:\",ref.dataId[\"physical_filter\"])\n",
    "    print(\"run.....................:\",ref.run)\n",
    "    the_visit = ref.dataId[\"visit\"]\n",
    "    the_exposure = the_visit\n",
    "    the_day_obs = ref.dataId[\"visit\"]//100_000\n",
    "    the_seq_num = ref.dataId[\"visit\"]- the_day_obs*100_000    \n",
    "    the_dataId = {'day_obs': the_day_obs,'seq_num':the_seq_num,'detector':0,}\n",
    "    \n",
    "    # extract time\n",
    "    raw_img= butler.get('raw', dataId={'exposure': the_visit, 'instrument': 'LATISS', 'detector': 0}, collections = 'LATISS/raw/all')\n",
    "    meta = raw_img.getMetadata()\n",
    "    md = meta.toDict()\n",
    "    date_obs = md['DATE-OBS']\n",
    "    \n",
    "    print(the_dataId)\n",
    "    df_tab=  butler.get(ref,collections=my_collection)\n",
    "   \n",
    "    \n",
    "    \n",
    "    N=len(df_tab)\n",
    "    df_tab['visid_idx']= (i*np.ones(N)).astype(int)\n",
    "    df_tab['dateobs']= (pd.to_datetime(date_obs))\n",
    "    df_tab['mjd'] = Time(date_obs).mjd\n",
    "    all_sourcesTables.append(df_tab) \n",
    "    all_dataId.append(the_dataId) \n",
    "    all_dateobs.append(date_obs)\n",
    "    \n",
    "    \n",
    " \n",
    "    \n",
    "    #registry_query = f\"instrument='LATISS' and instrument=0 and visit={the_visit}]\"\n",
    "    #print(f\"registry_query = {registry_query}\")\n",
    "    #info = registry.queryDimensionRecords('exposure',where = registry_query)\n",
    "    \n",
    "    #if i > 1:\n",
    "    #    break"
   ]
  },
  {
   "cell_type": "code",
   "execution_count": null,
   "id": "0f3b8830-40ce-47fa-8f61-dc4477240dbe",
   "metadata": {
    "execution": {
     "iopub.execute_input": "2023-12-22T19:45:19.635001Z",
     "iopub.status.busy": "2023-12-22T19:45:19.634867Z",
     "iopub.status.idle": "2023-12-22T19:45:19.637736Z",
     "shell.execute_reply": "2023-12-22T19:45:19.637406Z",
     "shell.execute_reply.started": "2023-12-22T19:45:19.634989Z"
    },
    "tags": []
   },
   "outputs": [],
   "source": [
    "len(all_sourcesTables)"
   ]
  },
  {
   "cell_type": "code",
   "execution_count": null,
   "id": "adb1ca46-bde5-4db5-b8bb-2b53dce29366",
   "metadata": {
    "execution": {
     "iopub.execute_input": "2023-12-22T19:45:19.638382Z",
     "iopub.status.busy": "2023-12-22T19:45:19.638265Z",
     "iopub.status.idle": "2023-12-22T19:45:19.716137Z",
     "shell.execute_reply": "2023-12-22T19:45:19.715756Z",
     "shell.execute_reply.started": "2023-12-22T19:45:19.638370Z"
    },
    "tags": []
   },
   "outputs": [],
   "source": [
    "all_sourcesTables[0]"
   ]
  },
  {
   "cell_type": "code",
   "execution_count": null,
   "id": "b16c42bc-abe0-4a90-abd2-d2012421b104",
   "metadata": {
    "execution": {
     "iopub.execute_input": "2023-12-22T19:45:19.716753Z",
     "iopub.status.busy": "2023-12-22T19:45:19.716632Z",
     "iopub.status.idle": "2023-12-22T19:45:22.080385Z",
     "shell.execute_reply": "2023-12-22T19:45:22.079930Z",
     "shell.execute_reply.started": "2023-12-22T19:45:19.716741Z"
    },
    "tags": []
   },
   "outputs": [],
   "source": [
    "df=pd.concat(all_sourcesTables)"
   ]
  },
  {
   "cell_type": "code",
   "execution_count": null,
   "id": "e4b97428-1b8e-4990-83fc-7d06f2b766d6",
   "metadata": {
    "execution": {
     "iopub.execute_input": "2023-12-22T19:45:22.081056Z",
     "iopub.status.busy": "2023-12-22T19:45:22.080932Z",
     "iopub.status.idle": "2023-12-22T19:45:22.149212Z",
     "shell.execute_reply": "2023-12-22T19:45:22.148826Z",
     "shell.execute_reply.started": "2023-12-22T19:45:22.081044Z"
    },
    "tags": []
   },
   "outputs": [],
   "source": [
    "df"
   ]
  },
  {
   "cell_type": "code",
   "execution_count": null,
   "id": "a4afe23a-71ae-4c4e-abd7-591bc9d939c8",
   "metadata": {
    "execution": {
     "iopub.execute_input": "2023-12-22T19:45:22.149884Z",
     "iopub.status.busy": "2023-12-22T19:45:22.149722Z",
     "iopub.status.idle": "2023-12-22T19:46:48.821246Z",
     "shell.execute_reply": "2023-12-22T19:46:48.820742Z",
     "shell.execute_reply.started": "2023-12-22T19:45:22.149872Z"
    },
    "tags": []
   },
   "outputs": [],
   "source": [
    "df.to_csv(filesource_out)"
   ]
  },
  {
   "cell_type": "code",
   "execution_count": null,
   "id": "dbf845eb-7c07-4344-a440-f7af1bffd08a",
   "metadata": {
    "execution": {
     "iopub.execute_input": "2023-12-22T19:46:48.822007Z",
     "iopub.status.busy": "2023-12-22T19:46:48.821866Z",
     "iopub.status.idle": "2023-12-22T19:46:48.824659Z",
     "shell.execute_reply": "2023-12-22T19:46:48.824310Z",
     "shell.execute_reply.started": "2023-12-22T19:46:48.821994Z"
    },
    "tags": []
   },
   "outputs": [],
   "source": [
    "print(df.columns.tolist())"
   ]
  },
  {
   "cell_type": "code",
   "execution_count": null,
   "id": "e211cb27-8fce-4f75-b5f8-2cc966675158",
   "metadata": {
    "execution": {
     "iopub.execute_input": "2023-12-22T19:46:48.825276Z",
     "iopub.status.busy": "2023-12-22T19:46:48.825148Z",
     "iopub.status.idle": "2023-12-22T19:46:48.836564Z",
     "shell.execute_reply": "2023-12-22T19:46:48.836224Z",
     "shell.execute_reply.started": "2023-12-22T19:46:48.825264Z"
    }
   },
   "outputs": [],
   "source": [
    "df['dateobs'].unique()"
   ]
  },
  {
   "cell_type": "code",
   "execution_count": null,
   "id": "1bce5125-e40f-419c-9d00-a8ac1f2a78c7",
   "metadata": {
    "execution": {
     "iopub.execute_input": "2023-12-22T20:47:53.766998Z",
     "iopub.status.busy": "2023-12-22T20:47:53.766859Z",
     "iopub.status.idle": "2023-12-22T20:47:53.770493Z",
     "shell.execute_reply": "2023-12-22T20:47:53.770145Z",
     "shell.execute_reply.started": "2023-12-22T20:47:53.766986Z"
    }
   },
   "outputs": [],
   "source": [
    "df.ra"
   ]
  },
  {
   "cell_type": "code",
   "execution_count": null,
   "id": "3fc22a66-a90d-4371-b073-1f1c34c806f7",
   "metadata": {},
   "outputs": [],
   "source": []
  }
 ],
 "metadata": {
  "kernelspec": {
   "display_name": "LSST",
   "language": "python",
   "name": "lsst"
  },
  "language_info": {
   "codemirror_mode": {
    "name": "ipython",
    "version": 3
   },
   "file_extension": ".py",
   "mimetype": "text/x-python",
   "name": "python",
   "nbconvert_exporter": "python",
   "pygments_lexer": "ipython3",
   "version": "3.11.4"
  }
 },
 "nbformat": 4,
 "nbformat_minor": 5
}
