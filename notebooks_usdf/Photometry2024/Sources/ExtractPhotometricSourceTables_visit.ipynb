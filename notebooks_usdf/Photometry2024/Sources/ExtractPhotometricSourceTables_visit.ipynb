{
 "cells": [
  {
   "cell_type": "markdown",
   "id": "0b8c2138-5194-4d03-8b77-be24e2cc8ee3",
   "metadata": {},
   "source": [
    "# Extract SourcesTables visit Results in  OGA"
   ]
  },
  {
   "cell_type": "markdown",
   "id": "740e34fb-3fef-45a8-941b-c229742ab016",
   "metadata": {},
   "source": [
    " work with Weakly_2023_44\n",
    "- use jupyter kernel LSST\n",
    "\n",
    "\n",
    "- author : Sylvie Dagoret-Campagne\n",
    "- affiliation : IJCLab\n",
    "- creation date : 2023/12/26\n",
    "- update : 2023/12/26\n"
   ]
  },
  {
   "cell_type": "code",
   "execution_count": null,
   "id": "ed2c3410-fe83-432e-ab87-9f4513fa8d8b",
   "metadata": {
    "execution": {
     "iopub.execute_input": "2023-12-26T16:41:17.877596Z",
     "iopub.status.busy": "2023-12-26T16:41:17.877439Z",
     "iopub.status.idle": "2023-12-26T16:41:18.230035Z",
     "shell.execute_reply": "2023-12-26T16:41:18.229503Z",
     "shell.execute_reply.started": "2023-12-26T16:41:17.877581Z"
    }
   },
   "outputs": [],
   "source": [
    "! eups list -s | grep LOCAL"
   ]
  },
  {
   "cell_type": "code",
   "execution_count": null,
   "id": "70918d81-0cf6-4b0a-8f61-f5e5bec5b0e7",
   "metadata": {
    "execution": {
     "iopub.execute_input": "2023-12-26T16:41:18.231281Z",
     "iopub.status.busy": "2023-12-26T16:41:18.231126Z",
     "iopub.status.idle": "2023-12-26T16:41:18.576518Z",
     "shell.execute_reply": "2023-12-26T16:41:18.575991Z",
     "shell.execute_reply.started": "2023-12-26T16:41:18.231264Z"
    }
   },
   "outputs": [],
   "source": [
    "! eups list -s lsst_distrib"
   ]
  },
  {
   "cell_type": "code",
   "execution_count": null,
   "id": "f8d9cfca-5881-48c1-b2cb-0f794a2e4091",
   "metadata": {
    "execution": {
     "iopub.execute_input": "2023-12-26T16:41:18.577389Z",
     "iopub.status.busy": "2023-12-26T16:41:18.577237Z",
     "iopub.status.idle": "2023-12-26T16:41:19.055843Z",
     "shell.execute_reply": "2023-12-26T16:41:19.055338Z",
     "shell.execute_reply.started": "2023-12-26T16:41:18.577371Z"
    },
    "tags": []
   },
   "outputs": [],
   "source": [
    "import lsst.daf.butler as dafButler\n",
    "#import lsst.summit.utils.butlerUtils as butlerUtils"
   ]
  },
  {
   "cell_type": "code",
   "execution_count": null,
   "id": "1ceacda9-20b0-4d77-a0d2-572c957ce273",
   "metadata": {
    "execution": {
     "iopub.execute_input": "2023-12-26T16:41:19.056643Z",
     "iopub.status.busy": "2023-12-26T16:41:19.056455Z",
     "iopub.status.idle": "2023-12-26T16:41:19.698203Z",
     "shell.execute_reply": "2023-12-26T16:41:19.697761Z",
     "shell.execute_reply.started": "2023-12-26T16:41:19.056629Z"
    },
    "tags": []
   },
   "outputs": [],
   "source": [
    "import numpy as np\n",
    "import matplotlib.pyplot as plt\n",
    "%matplotlib inline\n",
    "from mpl_toolkits.axes_grid1 import make_axes_locatable\n",
    "from matplotlib.colors import LogNorm,SymLogNorm\n",
    "\n",
    "\n",
    "import matplotlib.ticker                         # here's where the formatter is\n",
    "from matplotlib.ticker import (MultipleLocator, FormatStrFormatter,\n",
    "                               AutoMinorLocator)\n",
    "\n",
    "from astropy.visualization import (MinMaxInterval, SqrtStretch,ZScaleInterval,PercentileInterval,\n",
    "                                   ImageNormalize,imshow_norm)\n",
    "from astropy.visualization.stretch import SinhStretch, LinearStretch,AsinhStretch,LogStretch\n",
    "\n",
    "from astropy.io import fits\n",
    "\n",
    "import pandas as pd\n",
    "\n",
    "import matplotlib.ticker                         # here's where the formatter is\n",
    "import os\n",
    "import re\n",
    "import pandas as pd\n",
    "\n",
    "plt.rcParams[\"figure.figsize\"] = (4,3)\n",
    "plt.rcParams[\"axes.labelsize\"] = 'xx-large'\n",
    "plt.rcParams['axes.titlesize'] = 'xx-large'\n",
    "plt.rcParams['xtick.labelsize']= 'xx-large'\n",
    "plt.rcParams['ytick.labelsize']= 'xx-large'"
   ]
  },
  {
   "cell_type": "code",
   "execution_count": null,
   "id": "34c92544-f2fd-4287-b852-e2ccb9a3b510",
   "metadata": {
    "execution": {
     "iopub.execute_input": "2023-12-26T16:41:19.699737Z",
     "iopub.status.busy": "2023-12-26T16:41:19.699363Z",
     "iopub.status.idle": "2023-12-26T16:41:19.702264Z",
     "shell.execute_reply": "2023-12-26T16:41:19.701894Z",
     "shell.execute_reply.started": "2023-12-26T16:41:19.699722Z"
    },
    "tags": []
   },
   "outputs": [],
   "source": [
    "from matplotlib.ticker import (MultipleLocator, FormatStrFormatter,\n",
    "                               AutoMinorLocator)\n",
    "\n",
    "from astropy.visualization import (MinMaxInterval, SqrtStretch,ZScaleInterval,PercentileInterval,\n",
    "                                   ImageNormalize,imshow_norm)\n",
    "from astropy.visualization.stretch import SinhStretch, LinearStretch,AsinhStretch,LogStretch\n",
    "\n",
    "from astropy.time import Time\n"
   ]
  },
  {
   "cell_type": "code",
   "execution_count": null,
   "id": "77aa5733-0a46-49eb-b26e-d3bb6195cc3d",
   "metadata": {
    "execution": {
     "iopub.execute_input": "2023-12-26T16:41:19.702943Z",
     "iopub.status.busy": "2023-12-26T16:41:19.702810Z",
     "iopub.status.idle": "2023-12-26T16:41:19.905225Z",
     "shell.execute_reply": "2023-12-26T16:41:19.904684Z",
     "shell.execute_reply.started": "2023-12-26T16:41:19.702930Z"
    },
    "tags": []
   },
   "outputs": [],
   "source": [
    "# LSST Display\n",
    "import lsst.afw.display as afwDisplay\n",
    "afwDisplay.setDefaultBackend('matplotlib')"
   ]
  },
  {
   "cell_type": "code",
   "execution_count": null,
   "id": "b7cea198-6f3c-4a87-8877-fdf8e4d73c26",
   "metadata": {
    "execution": {
     "iopub.execute_input": "2023-12-26T16:41:19.906190Z",
     "iopub.status.busy": "2023-12-26T16:41:19.905849Z",
     "iopub.status.idle": "2023-12-26T16:41:19.908415Z",
     "shell.execute_reply": "2023-12-26T16:41:19.908051Z",
     "shell.execute_reply.started": "2023-12-26T16:41:19.906174Z"
    },
    "tags": []
   },
   "outputs": [],
   "source": [
    "transform = AsinhStretch() + PercentileInterval(99.)"
   ]
  },
  {
   "cell_type": "code",
   "execution_count": null,
   "id": "c8b31810-780c-43f2-92a1-af05fddd65e1",
   "metadata": {
    "execution": {
     "iopub.execute_input": "2023-12-26T16:41:19.909048Z",
     "iopub.status.busy": "2023-12-26T16:41:19.908927Z",
     "iopub.status.idle": "2023-12-26T16:41:19.911710Z",
     "shell.execute_reply": "2023-12-26T16:41:19.911381Z",
     "shell.execute_reply.started": "2023-12-26T16:41:19.909036Z"
    }
   },
   "outputs": [],
   "source": [
    "pd.options.display.max_columns = None\n",
    "#pd.options.display.max_rows = None\n",
    "\n"
   ]
  },
  {
   "cell_type": "markdown",
   "id": "17f98db2-2ea8-4546-87a9-f2cd11d67ec7",
   "metadata": {},
   "source": [
    "## Configuration"
   ]
  },
  {
   "cell_type": "code",
   "execution_count": null,
   "id": "f6c1ac18-5e47-4ae9-93ec-32f4337aa520",
   "metadata": {
    "execution": {
     "iopub.execute_input": "2023-12-26T16:41:19.912287Z",
     "iopub.status.busy": "2023-12-26T16:41:19.912170Z",
     "iopub.status.idle": "2023-12-26T16:41:19.916139Z",
     "shell.execute_reply": "2023-12-26T16:41:19.915809Z",
     "shell.execute_reply.started": "2023-12-26T16:41:19.912275Z"
    }
   },
   "outputs": [],
   "source": [
    "filesource_out=\"sourceTablevisit_202312.csv\"\n",
    "#filetractpatch_out = 'Latiss_tractspatchs_202312.pickle'"
   ]
  },
  {
   "cell_type": "code",
   "execution_count": null,
   "id": "1c81d99a-5e91-4ba1-ba4a-c66b37905b98",
   "metadata": {
    "execution": {
     "iopub.execute_input": "2023-12-26T16:41:19.916823Z",
     "iopub.status.busy": "2023-12-26T16:41:19.916693Z",
     "iopub.status.idle": "2023-12-26T16:41:22.492804Z",
     "shell.execute_reply": "2023-12-26T16:41:22.492379Z",
     "shell.execute_reply.started": "2023-12-26T16:41:19.916811Z"
    },
    "tags": []
   },
   "outputs": [],
   "source": [
    "#repo =  \"/sdf/group/rubin/repo/main\"\n",
    "repo = \"/sdf/group/rubin/repo/oga/\"\n",
    "butler = dafButler.Butler(repo)\n",
    "registry = butler.registry"
   ]
  },
  {
   "cell_type": "markdown",
   "id": "20dbb8da-3a08-4b4f-9437-4bf7f28c1782",
   "metadata": {},
   "source": [
    "## Give the collection"
   ]
  },
  {
   "cell_type": "code",
   "execution_count": null,
   "id": "9629ea29-8ab4-4062-aed1-e16d62dc90c4",
   "metadata": {
    "execution": {
     "iopub.execute_input": "2023-12-26T16:41:22.493477Z",
     "iopub.status.busy": "2023-12-26T16:41:22.493342Z",
     "iopub.status.idle": "2023-12-26T16:41:22.495520Z",
     "shell.execute_reply": "2023-12-26T16:41:22.495216Z",
     "shell.execute_reply.started": "2023-12-26T16:41:22.493463Z"
    },
    "tags": []
   },
   "outputs": [],
   "source": [
    "my_collection = \"LATISS/runs/AUXTEL_DRP_IMAGING_2023-11A-10A-09AB-08ABC-07AB-05AB/w_2023_46/PREOPS-4553\""
   ]
  },
  {
   "cell_type": "markdown",
   "id": "a7587b10-c178-4537-9c34-60867b69fa01",
   "metadata": {},
   "source": [
    "## Config"
   ]
  },
  {
   "cell_type": "markdown",
   "id": "a72c2c07-ff40-49d9-a36d-5277cbbc5cec",
   "metadata": {},
   "source": [
    "# Sources"
   ]
  },
  {
   "cell_type": "code",
   "execution_count": null,
   "id": "c2bca87f-8b3a-44ee-afa5-5b8e0b8f9b9d",
   "metadata": {
    "execution": {
     "iopub.execute_input": "2023-12-26T16:41:22.496071Z",
     "iopub.status.busy": "2023-12-26T16:41:22.495952Z",
     "iopub.status.idle": "2023-12-26T16:41:22.518916Z",
     "shell.execute_reply": "2023-12-26T16:41:22.518608Z",
     "shell.execute_reply.started": "2023-12-26T16:41:22.496059Z"
    },
    "tags": []
   },
   "outputs": [],
   "source": [
    "datasetRefs = butler.registry.queryDatasets(datasetType='sourceTable_visit', collections=my_collection, where= \"instrument='LATISS'\")"
   ]
  },
  {
   "cell_type": "code",
   "execution_count": null,
   "id": "a01bb1b1-a2fe-4060-85ff-fb9e9c5dbb74",
   "metadata": {
    "execution": {
     "iopub.execute_input": "2023-12-26T16:41:22.519455Z",
     "iopub.status.busy": "2023-12-26T16:41:22.519333Z",
     "iopub.status.idle": "2023-12-26T16:55:55.674634Z",
     "shell.execute_reply": "2023-12-26T16:55:55.674184Z",
     "shell.execute_reply.started": "2023-12-26T16:41:22.519443Z"
    },
    "tags": []
   },
   "outputs": [],
   "source": [
    "all_ref_for_src = []\n",
    "all_dataId = []\n",
    "all_src = []\n",
    "all_exposures = []\n",
    "all_sourcesTables = []\n",
    "all_dateobs = []\n",
    "\n",
    "for i, ref in enumerate(datasetRefs):\n",
    "    all_ref_for_src.append(ref.dataId)\n",
    "    print(\"========================datasetType = sourceTable_visit ============================================\")\n",
    "    print(\"fullId..................:\",ref.dataId.full)\n",
    "    print(\"visit...................:\",ref.dataId[\"visit\"])\n",
    "    print(\"band....................:\",ref.dataId[\"band\"])\n",
    "    print(\"physical filter.........:\",ref.dataId[\"physical_filter\"])\n",
    "    print(\"run.....................:\",ref.run)\n",
    "    the_visit = ref.dataId[\"visit\"]\n",
    "    the_exposure = the_visit\n",
    "    the_day_obs = ref.dataId[\"visit\"]//100_000\n",
    "    the_seq_num = ref.dataId[\"visit\"]- the_day_obs*100_000    \n",
    "    the_dataId = {'day_obs': the_day_obs,'seq_num':the_seq_num,'detector':0,}\n",
    "    \n",
    "    # extract time\n",
    "    raw_img= butler.get('raw', dataId={'exposure': the_visit, 'instrument': 'LATISS', 'detector': 0}, collections = 'LATISS/raw/all')\n",
    "    meta = raw_img.getMetadata()\n",
    "    md = meta.toDict()\n",
    "    date_obs = md['DATE-OBS']\n",
    "    \n",
    "    print(the_dataId)\n",
    "    df_tab=  butler.get(ref,collections=my_collection)\n",
    "   \n",
    "    \n",
    "    \n",
    "    N=len(df_tab)\n",
    "    df_tab['visid_idx']= (i*np.ones(N)).astype(int)\n",
    "    df_tab['dateobs']= (pd.to_datetime(date_obs))\n",
    "    df_tab['mjd'] = Time(date_obs).mjd\n",
    "    all_sourcesTables.append(df_tab) \n",
    "    all_dataId.append(the_dataId) \n",
    "    all_dateobs.append(date_obs)\n",
    "    \n",
    "    \n",
    " \n",
    "    \n",
    "    #registry_query = f\"instrument='LATISS' and instrument=0 and visit={the_visit}]\"\n",
    "    #print(f\"registry_query = {registry_query}\")\n",
    "    #info = registry.queryDimensionRecords('exposure',where = registry_query)\n",
    "    \n",
    "    #if i > 1:\n",
    "    #    break"
   ]
  },
  {
   "cell_type": "code",
   "execution_count": null,
   "id": "0f3b8830-40ce-47fa-8f61-dc4477240dbe",
   "metadata": {
    "execution": {
     "iopub.execute_input": "2023-12-26T16:55:55.676527Z",
     "iopub.status.busy": "2023-12-26T16:55:55.676363Z",
     "iopub.status.idle": "2023-12-26T16:55:55.679210Z",
     "shell.execute_reply": "2023-12-26T16:55:55.678873Z",
     "shell.execute_reply.started": "2023-12-26T16:55:55.676513Z"
    },
    "tags": []
   },
   "outputs": [],
   "source": [
    "len(all_sourcesTables)"
   ]
  },
  {
   "cell_type": "code",
   "execution_count": null,
   "id": "adb1ca46-bde5-4db5-b8bb-2b53dce29366",
   "metadata": {
    "execution": {
     "iopub.execute_input": "2023-12-26T16:55:55.679782Z",
     "iopub.status.busy": "2023-12-26T16:55:55.679640Z",
     "iopub.status.idle": "2023-12-26T16:55:55.759664Z",
     "shell.execute_reply": "2023-12-26T16:55:55.759251Z",
     "shell.execute_reply.started": "2023-12-26T16:55:55.679771Z"
    },
    "tags": []
   },
   "outputs": [],
   "source": [
    "all_sourcesTables[0]"
   ]
  },
  {
   "cell_type": "code",
   "execution_count": null,
   "id": "b16c42bc-abe0-4a90-abd2-d2012421b104",
   "metadata": {
    "execution": {
     "iopub.execute_input": "2023-12-26T16:55:55.760315Z",
     "iopub.status.busy": "2023-12-26T16:55:55.760190Z",
     "iopub.status.idle": "2023-12-26T16:55:58.983582Z",
     "shell.execute_reply": "2023-12-26T16:55:58.983210Z",
     "shell.execute_reply.started": "2023-12-26T16:55:55.760303Z"
    },
    "tags": []
   },
   "outputs": [],
   "source": [
    "df=pd.concat(all_sourcesTables)"
   ]
  },
  {
   "cell_type": "code",
   "execution_count": null,
   "id": "e4b97428-1b8e-4990-83fc-7d06f2b766d6",
   "metadata": {
    "execution": {
     "iopub.execute_input": "2023-12-26T16:55:58.984232Z",
     "iopub.status.busy": "2023-12-26T16:55:58.984097Z",
     "iopub.status.idle": "2023-12-26T16:55:59.053374Z",
     "shell.execute_reply": "2023-12-26T16:55:59.053070Z",
     "shell.execute_reply.started": "2023-12-26T16:55:58.984218Z"
    },
    "tags": []
   },
   "outputs": [],
   "source": [
    "df"
   ]
  },
  {
   "cell_type": "code",
   "execution_count": null,
   "id": "a4afe23a-71ae-4c4e-abd7-591bc9d939c8",
   "metadata": {
    "execution": {
     "iopub.execute_input": "2023-12-26T16:55:59.053945Z",
     "iopub.status.busy": "2023-12-26T16:55:59.053821Z",
     "iopub.status.idle": "2023-12-26T16:57:27.510091Z",
     "shell.execute_reply": "2023-12-26T16:57:27.509612Z",
     "shell.execute_reply.started": "2023-12-26T16:55:59.053932Z"
    },
    "tags": []
   },
   "outputs": [],
   "source": [
    "df.to_csv(filesource_out)"
   ]
  },
  {
   "cell_type": "code",
   "execution_count": null,
   "id": "dbf845eb-7c07-4344-a440-f7af1bffd08a",
   "metadata": {
    "execution": {
     "iopub.execute_input": "2023-12-26T16:57:27.510878Z",
     "iopub.status.busy": "2023-12-26T16:57:27.510720Z",
     "iopub.status.idle": "2023-12-26T16:57:27.513561Z",
     "shell.execute_reply": "2023-12-26T16:57:27.513181Z",
     "shell.execute_reply.started": "2023-12-26T16:57:27.510864Z"
    },
    "tags": []
   },
   "outputs": [],
   "source": [
    "print(df.columns.tolist())"
   ]
  },
  {
   "cell_type": "code",
   "execution_count": null,
   "id": "e211cb27-8fce-4f75-b5f8-2cc966675158",
   "metadata": {
    "execution": {
     "iopub.execute_input": "2023-12-26T16:57:27.514243Z",
     "iopub.status.busy": "2023-12-26T16:57:27.514106Z",
     "iopub.status.idle": "2023-12-26T16:57:27.527317Z",
     "shell.execute_reply": "2023-12-26T16:57:27.526965Z",
     "shell.execute_reply.started": "2023-12-26T16:57:27.514230Z"
    }
   },
   "outputs": [],
   "source": [
    "df['dateobs'].unique()"
   ]
  },
  {
   "cell_type": "code",
   "execution_count": null,
   "id": "1bce5125-e40f-419c-9d00-a8ac1f2a78c7",
   "metadata": {
    "execution": {
     "iopub.execute_input": "2023-12-26T16:57:27.527966Z",
     "iopub.status.busy": "2023-12-26T16:57:27.527831Z",
     "iopub.status.idle": "2023-12-26T16:57:27.531643Z",
     "shell.execute_reply": "2023-12-26T16:57:27.531286Z",
     "shell.execute_reply.started": "2023-12-26T16:57:27.527953Z"
    }
   },
   "outputs": [],
   "source": [
    "df.ra"
   ]
  },
  {
   "cell_type": "code",
   "execution_count": null,
   "id": "3fc22a66-a90d-4371-b073-1f1c34c806f7",
   "metadata": {},
   "outputs": [],
   "source": []
  }
 ],
 "metadata": {
  "kernelspec": {
   "display_name": "LSST",
   "language": "python",
   "name": "lsst"
  },
  "language_info": {
   "codemirror_mode": {
    "name": "ipython",
    "version": 3
   },
   "file_extension": ".py",
   "mimetype": "text/x-python",
   "name": "python",
   "nbconvert_exporter": "python",
   "pygments_lexer": "ipython3",
   "version": "3.11.7"
  }
 },
 "nbformat": 4,
 "nbformat_minor": 5
}
