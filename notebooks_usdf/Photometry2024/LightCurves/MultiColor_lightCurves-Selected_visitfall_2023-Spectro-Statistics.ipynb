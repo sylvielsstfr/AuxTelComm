{
 "cells": [
  {
   "cell_type": "markdown",
   "id": "5fb8b13a-5169-4188-9fb8-8bfb44518205",
   "metadata": {},
   "source": [
    "# Multi Color Light Curves from Lauren macArthur applied to November/december visits at AuxTel, Using Spectro Data\n",
    "\n",
    "- creation date 2024-03-21\n",
    "- last update 2024-04-04\n",
    "  \n",
    "``Quantum Graphs``: https://tigress-web.princeton.edu/~lkelvin/pipelines/ \n",
    "\n",
    "``CalibrateTask``: \n",
    "https://github.com/lsst/pipe_tasks/blob/main/python/lsst/pipe/tasks/calibrate.py#L392-L399\n",
    "\n",
    " "
   ]
  },
  {
   "cell_type": "code",
   "execution_count": null,
   "id": "3de4fd1f-8c60-4d0e-be77-c516b572c25a",
   "metadata": {
    "execution": {
     "iopub.execute_input": "2024-04-04T12:31:26.034842Z",
     "iopub.status.busy": "2024-04-04T12:31:26.034716Z",
     "iopub.status.idle": "2024-04-04T12:31:27.698484Z",
     "shell.execute_reply": "2024-04-04T12:31:27.697995Z",
     "shell.execute_reply.started": "2024-04-04T12:31:26.034829Z"
    }
   },
   "outputs": [],
   "source": [
    "from lsst.daf.butler import Butler\n",
    "\n",
    "import astropy.units as u\n",
    "import numpy as np \n",
    "import pandas as pd\n",
    "pd.set_option(\"display.max_columns\", None)\n",
    "from astropy.time import Time\n",
    "\n",
    "import scipy.stats\n",
    "\n",
    "import matplotlib\n",
    "%matplotlib inline\n",
    "from matplotlib import pyplot as plt\n",
    "\n",
    "import lsst.afw.display.rgb as afwRgb\n",
    "import lsst.afw.image as afwImage\n",
    "import lsst.geom as geom\n",
    "import pickle"
   ]
  },
  {
   "cell_type": "code",
   "execution_count": null,
   "id": "12e89c3a",
   "metadata": {
    "execution": {
     "iopub.execute_input": "2024-04-04T12:31:27.699404Z",
     "iopub.status.busy": "2024-04-04T12:31:27.699062Z",
     "iopub.status.idle": "2024-04-04T12:31:27.701514Z",
     "shell.execute_reply": "2024-04-04T12:31:27.701155Z",
     "shell.execute_reply.started": "2024-04-04T12:31:27.699389Z"
    }
   },
   "outputs": [],
   "source": [
    "saveDir = \"./lc_output_auxtelfall2023_spectro\"\n",
    "doSaveFigs = False  # set to True if you actually want to save the figures in the above dir"
   ]
  },
  {
   "cell_type": "code",
   "execution_count": null,
   "id": "ff630ae4",
   "metadata": {
    "execution": {
     "iopub.execute_input": "2024-04-04T12:31:27.702122Z",
     "iopub.status.busy": "2024-04-04T12:31:27.701995Z",
     "iopub.status.idle": "2024-04-04T12:31:27.705664Z",
     "shell.execute_reply": "2024-04-04T12:31:27.705316Z",
     "shell.execute_reply.started": "2024-04-04T12:31:27.702110Z"
    }
   },
   "outputs": [],
   "source": [
    "# Set some selections for reliable data\n",
    "minNumMatches = 3\n",
    "minSnCalibFlux = 50  # 100"
   ]
  },
  {
   "cell_type": "code",
   "execution_count": null,
   "id": "313383f9",
   "metadata": {
    "execution": {
     "iopub.execute_input": "2024-04-04T12:31:27.707227Z",
     "iopub.status.busy": "2024-04-04T12:31:27.707099Z",
     "iopub.status.idle": "2024-04-04T12:31:27.710173Z",
     "shell.execute_reply": "2024-04-04T12:31:27.709814Z",
     "shell.execute_reply.started": "2024-04-04T12:31:27.707215Z"
    }
   },
   "outputs": [],
   "source": [
    "# INSERT YOUR auxTel/LATISS collection and tract/band HERE\n",
    "butlerRoot = \"/repo/embargo\"\n",
    "# collection = \"LATISS/runs/AUXTEL_DRP_IMAGING_20230509_20231207/w_2023_49/PREOPS-4648\"\n",
    "#collection = \"LATISS/runs/AUXTEL_DRP_IMAGING_20230509_20240201/w_2024_05/PREOPS-4871\"\n",
    "collection = \"LATISS/runs/AUXTEL_DRP_IMAGING_20230509_20240311/w_2024_10/PREOPS-4985\"\n",
    "\n",
    "collectionStr = collection.replace(\"/\", \"_\")\n",
    "instrument = \"LATISS\"\n",
    "skymapName = \"latiss_v1\"\n",
    "#band = \"i\"\n",
    "#tract = 5615\n",
    "band = \"y\"\n",
    "tract = 3864\n",
    "\n",
    "calibFluxStr = \"apFlux_35_0_instFlux\"\n",
    "\n",
    "file_output_selectedsources = f\"lightcurves-selectedsources_tract{tract}_band{band}_novdec2023.csv\"\n",
    "fullname_file_output_selectedsources = os.path.join(saveDir,file_output_selectedsources)"
   ]
  },
  {
   "cell_type": "markdown",
   "id": "ae362025-6f0f-4490-a62a-49d63b9250b3",
   "metadata": {},
   "source": [
    "## Selected Visits and Selected Nights"
   ]
  },
  {
   "cell_type": "code",
   "execution_count": null,
   "id": "6a589912-7985-4f17-9b84-8f23ecacfd29",
   "metadata": {
    "execution": {
     "iopub.execute_input": "2024-04-04T12:31:27.710808Z",
     "iopub.status.busy": "2024-04-04T12:31:27.710678Z",
     "iopub.status.idle": "2024-04-04T12:31:27.714046Z",
     "shell.execute_reply": "2024-04-04T12:31:27.713683Z",
     "shell.execute_reply.started": "2024-04-04T12:31:27.710796Z"
    }
   },
   "outputs": [],
   "source": [
    "file_selected_visits = \"../data/202402/SelectedVisits_fall2023_tract_3864.csv\"\n",
    "file_selected_nights = \"AuxtelSpectroData/AtmParamPerNightObsDict_fall2023.pkl\""
   ]
  },
  {
   "cell_type": "code",
   "execution_count": null,
   "id": "f0129514-a870-43e2-b1d9-1dfd64bc9484",
   "metadata": {
    "execution": {
     "iopub.execute_input": "2024-04-04T12:31:27.714638Z",
     "iopub.status.busy": "2024-04-04T12:31:27.714516Z",
     "iopub.status.idle": "2024-04-04T12:31:27.723858Z",
     "shell.execute_reply": "2024-04-04T12:31:27.723479Z",
     "shell.execute_reply.started": "2024-04-04T12:31:27.714627Z"
    }
   },
   "outputs": [],
   "source": [
    "df_myselectedvisits = pd.read_csv(file_selected_visits,index_col=0)\n",
    "my_selectedvisits = list(df_myselectedvisits.index)"
   ]
  },
  {
   "cell_type": "code",
   "execution_count": null,
   "id": "511041b2-af65-4fd0-b59f-69a626db2a8d",
   "metadata": {
    "execution": {
     "iopub.execute_input": "2024-04-04T12:31:27.724475Z",
     "iopub.status.busy": "2024-04-04T12:31:27.724344Z",
     "iopub.status.idle": "2024-04-04T12:31:27.726710Z",
     "shell.execute_reply": "2024-04-04T12:31:27.726358Z",
     "shell.execute_reply.started": "2024-04-04T12:31:27.724464Z"
    }
   },
   "outputs": [],
   "source": [
    "#move the visitid as a column not to loose it during the merge \n",
    "df_myselectedvisits.reset_index(inplace=True) "
   ]
  },
  {
   "cell_type": "code",
   "execution_count": null,
   "id": "1569b27a-dfd1-474c-889a-d7b9312580f0",
   "metadata": {
    "execution": {
     "iopub.execute_input": "2024-04-04T12:31:27.727321Z",
     "iopub.status.busy": "2024-04-04T12:31:27.727196Z",
     "iopub.status.idle": "2024-04-04T12:31:27.739449Z",
     "shell.execute_reply": "2024-04-04T12:31:27.739092Z",
     "shell.execute_reply.started": "2024-04-04T12:31:27.727309Z"
    }
   },
   "outputs": [],
   "source": [
    "df_myselectedvisits"
   ]
  },
  {
   "cell_type": "code",
   "execution_count": null,
   "id": "175d282a-94df-4769-af2e-923f93738ddd",
   "metadata": {
    "execution": {
     "iopub.execute_input": "2024-04-04T12:31:27.740043Z",
     "iopub.status.busy": "2024-04-04T12:31:27.739919Z",
     "iopub.status.idle": "2024-04-04T12:31:27.742673Z",
     "shell.execute_reply": "2024-04-04T12:31:27.742317Z",
     "shell.execute_reply.started": "2024-04-04T12:31:27.740032Z"
    }
   },
   "outputs": [],
   "source": [
    "# Check the night selected\n",
    "df_myselectedvisits['nightObs'].unique()"
   ]
  },
  {
   "cell_type": "markdown",
   "id": "50f6c5de-0e93-4d70-99e3-86f7caa12e8e",
   "metadata": {},
   "source": [
    "### Make the dataframe holding the atmospheric parameters"
   ]
  },
  {
   "cell_type": "code",
   "execution_count": null,
   "id": "b59e8ed5-f0db-4026-be60-23a58ee1ec9b",
   "metadata": {
    "execution": {
     "iopub.execute_input": "2024-04-04T12:31:27.743272Z",
     "iopub.status.busy": "2024-04-04T12:31:27.743150Z",
     "iopub.status.idle": "2024-04-04T12:31:27.757854Z",
     "shell.execute_reply": "2024-04-04T12:31:27.757468Z",
     "shell.execute_reply.started": "2024-04-04T12:31:27.743261Z"
    }
   },
   "outputs": [],
   "source": [
    "df_selnight = pd.DataFrame(columns=('nightObs', 'PWV', 'VAOD','Grey',\"Ozone\"))\n",
    "with open(file_selected_nights, 'rb') as fp:\n",
    "    selectedNightsDict  = pickle.load(fp)\n",
    "idx=0\n",
    "for key,value in selectedNightsDict.items():\n",
    "    pwv = value['median']['median_param_atm']['md_PWV']\n",
    "    vaod = value['median']['median_param_atm']['md_VAOD']\n",
    "    grey = value['median']['median_param_atm']['md_grey']\n",
    "    ozone = value['median']['median_param_atm']['md_ozone']\n",
    "    df_selnight.loc[idx] = [int(key),pwv,vaod,grey,ozone]\n",
    "    idx+=1"
   ]
  },
  {
   "cell_type": "code",
   "execution_count": null,
   "id": "6c5df4da-0723-4d03-b83a-349fce37391e",
   "metadata": {
    "execution": {
     "iopub.execute_input": "2024-04-04T12:31:27.758477Z",
     "iopub.status.busy": "2024-04-04T12:31:27.758345Z",
     "iopub.status.idle": "2024-04-04T12:31:27.761438Z",
     "shell.execute_reply": "2024-04-04T12:31:27.761075Z",
     "shell.execute_reply.started": "2024-04-04T12:31:27.758465Z"
    }
   },
   "outputs": [],
   "source": [
    "# Convert the nightObs as an integer\n",
    "df_selnight = df_selnight.astype({'nightObs':'int'})"
   ]
  },
  {
   "cell_type": "code",
   "execution_count": null,
   "id": "fce868a8-95f1-4a38-add9-7b1f108dd899",
   "metadata": {
    "execution": {
     "iopub.execute_input": "2024-04-04T12:31:27.762136Z",
     "iopub.status.busy": "2024-04-04T12:31:27.762011Z",
     "iopub.status.idle": "2024-04-04T12:31:27.765098Z",
     "shell.execute_reply": "2024-04-04T12:31:27.764741Z",
     "shell.execute_reply.started": "2024-04-04T12:31:27.762125Z"
    }
   },
   "outputs": [],
   "source": [
    "df_night_to_atm = df_selnight.copy().set_index('nightObs')"
   ]
  },
  {
   "cell_type": "code",
   "execution_count": null,
   "id": "87ac1d32-39ec-452f-b8d2-2b8d889a88a1",
   "metadata": {
    "execution": {
     "iopub.execute_input": "2024-04-04T12:31:27.765706Z",
     "iopub.status.busy": "2024-04-04T12:31:27.765586Z",
     "iopub.status.idle": "2024-04-04T12:31:27.773732Z",
     "shell.execute_reply": "2024-04-04T12:31:27.773383Z",
     "shell.execute_reply.started": "2024-04-04T12:31:27.765695Z"
    }
   },
   "outputs": [],
   "source": [
    "df_night_to_atm"
   ]
  },
  {
   "cell_type": "code",
   "execution_count": null,
   "id": "a6afeba9-6bcd-4e3a-9da1-84c6280fa593",
   "metadata": {
    "execution": {
     "iopub.execute_input": "2024-04-04T12:31:27.774337Z",
     "iopub.status.busy": "2024-04-04T12:31:27.774218Z",
     "iopub.status.idle": "2024-04-04T12:31:27.777902Z",
     "shell.execute_reply": "2024-04-04T12:31:27.777559Z",
     "shell.execute_reply.started": "2024-04-04T12:31:27.774327Z"
    }
   },
   "outputs": [],
   "source": [
    "df_night_to_atm.loc[20231127]"
   ]
  },
  {
   "cell_type": "code",
   "execution_count": null,
   "id": "ba4c0375-3260-4a9b-9a31-9e149d42ef5d",
   "metadata": {
    "execution": {
     "iopub.execute_input": "2024-04-04T12:31:27.778537Z",
     "iopub.status.busy": "2024-04-04T12:31:27.778393Z",
     "iopub.status.idle": "2024-04-04T12:31:27.782924Z",
     "shell.execute_reply": "2024-04-04T12:31:27.782568Z",
     "shell.execute_reply.started": "2024-04-04T12:31:27.778526Z"
    }
   },
   "outputs": [],
   "source": [
    "df_selnight['nightObs'].unique()"
   ]
  },
  {
   "cell_type": "markdown",
   "id": "77ccead7-dc29-4c2b-b158-3d75577d6b07",
   "metadata": {},
   "source": [
    "## Merge the two datasets\n",
    "\n",
    "- My selected visit with the atmospheric parameter\n",
    "\n",
    "- kepp the intersection"
   ]
  },
  {
   "cell_type": "code",
   "execution_count": null,
   "id": "1b4ebc86-9a5a-4b6c-b836-6c090a38fa26",
   "metadata": {
    "execution": {
     "iopub.execute_input": "2024-04-04T12:31:27.783565Z",
     "iopub.status.busy": "2024-04-04T12:31:27.783443Z",
     "iopub.status.idle": "2024-04-04T12:31:27.787353Z",
     "shell.execute_reply": "2024-04-04T12:31:27.787002Z",
     "shell.execute_reply.started": "2024-04-04T12:31:27.783554Z"
    }
   },
   "outputs": [],
   "source": [
    "df_merge = df_myselectedvisits.merge(df_selnight, left_on='nightObs',right_on='nightObs',how=\"inner\")"
   ]
  },
  {
   "cell_type": "code",
   "execution_count": null,
   "id": "375d3533-6b00-4281-800d-a4deff5ef26e",
   "metadata": {
    "execution": {
     "iopub.execute_input": "2024-04-04T12:31:27.787959Z",
     "iopub.status.busy": "2024-04-04T12:31:27.787838Z",
     "iopub.status.idle": "2024-04-04T12:31:27.791178Z",
     "shell.execute_reply": "2024-04-04T12:31:27.790827Z",
     "shell.execute_reply.started": "2024-04-04T12:31:27.787948Z"
    }
   },
   "outputs": [],
   "source": [
    "df_merge['nightObs'].unique()"
   ]
  },
  {
   "cell_type": "code",
   "execution_count": null,
   "id": "9754d921-f0dd-4b00-b063-5630210a9032",
   "metadata": {
    "execution": {
     "iopub.execute_input": "2024-04-04T12:31:27.791755Z",
     "iopub.status.busy": "2024-04-04T12:31:27.791635Z",
     "iopub.status.idle": "2024-04-04T12:31:27.794152Z",
     "shell.execute_reply": "2024-04-04T12:31:27.793801Z",
     "shell.execute_reply.started": "2024-04-04T12:31:27.791745Z"
    }
   },
   "outputs": [],
   "source": [
    "df_myselectedvisits = df_merge.copy()"
   ]
  },
  {
   "cell_type": "code",
   "execution_count": null,
   "id": "4c503827-9f78-4134-af55-7f802cceaea4",
   "metadata": {
    "execution": {
     "iopub.execute_input": "2024-04-04T12:31:27.796872Z",
     "iopub.status.busy": "2024-04-04T12:31:27.796745Z",
     "iopub.status.idle": "2024-04-04T12:31:27.807363Z",
     "shell.execute_reply": "2024-04-04T12:31:27.806985Z",
     "shell.execute_reply.started": "2024-04-04T12:31:27.796861Z"
    }
   },
   "outputs": [],
   "source": [
    "df_myselectedvisits"
   ]
  },
  {
   "cell_type": "code",
   "execution_count": null,
   "id": "cfc91d19-cac8-4956-afb8-05b17521f8d2",
   "metadata": {
    "execution": {
     "iopub.execute_input": "2024-04-04T12:31:27.807996Z",
     "iopub.status.busy": "2024-04-04T12:31:27.807870Z",
     "iopub.status.idle": "2024-04-04T12:31:27.810199Z",
     "shell.execute_reply": "2024-04-04T12:31:27.809835Z",
     "shell.execute_reply.started": "2024-04-04T12:31:27.807984Z"
    }
   },
   "outputs": [],
   "source": [
    "my_selectedvisits = list(df_myselectedvisits.visitId)"
   ]
  },
  {
   "cell_type": "code",
   "execution_count": null,
   "id": "aef11060-62bd-47bb-8e3d-d9943f9a911a",
   "metadata": {
    "execution": {
     "iopub.execute_input": "2024-04-04T12:31:27.810811Z",
     "iopub.status.busy": "2024-04-04T12:31:27.810689Z",
     "iopub.status.idle": "2024-04-04T12:31:27.818647Z",
     "shell.execute_reply": "2024-04-04T12:31:27.818273Z",
     "shell.execute_reply.started": "2024-04-04T12:31:27.810800Z"
    }
   },
   "outputs": [],
   "source": [
    "df_atm = df_myselectedvisits[[\"visitId\",\"PWV\",\"VAOD\",\"Grey\",\"Ozone\"]]"
   ]
  },
  {
   "cell_type": "markdown",
   "id": "cbf3c9e3-8fc7-4b2f-a0bd-70aa0dca8441",
   "metadata": {},
   "source": [
    "## Config"
   ]
  },
  {
   "cell_type": "code",
   "execution_count": null,
   "id": "59fe3761",
   "metadata": {
    "execution": {
     "iopub.execute_input": "2024-04-04T12:31:27.819258Z",
     "iopub.status.busy": "2024-04-04T12:31:27.819134Z",
     "iopub.status.idle": "2024-04-04T12:31:30.656044Z",
     "shell.execute_reply": "2024-04-04T12:31:30.655587Z",
     "shell.execute_reply.started": "2024-04-04T12:31:27.819247Z"
    }
   },
   "outputs": [],
   "source": [
    "# Initiate butler from variables set above\n",
    "butler = Butler(butlerRoot, collections=collection, instrument=instrument, skymap=skymapName)\n",
    "camera = butler.get(\"camera\", instrument=instrument)\n",
    "skymap = butler.get(\"skyMap\")\n",
    "print(\"camera_name = {}\".format(camera.getName()))\n",
    "print(\"collection = {}\".format(collection))"
   ]
  },
  {
   "cell_type": "code",
   "execution_count": null,
   "id": "7525a250-b3b9-4d45-9f21-1a74c8d6f1dc",
   "metadata": {
    "execution": {
     "iopub.execute_input": "2024-04-04T12:31:30.656756Z",
     "iopub.status.busy": "2024-04-04T12:31:30.656620Z",
     "iopub.status.idle": "2024-04-04T12:31:31.037062Z",
     "shell.execute_reply": "2024-04-04T12:31:31.036679Z",
     "shell.execute_reply.started": "2024-04-04T12:31:30.656744Z"
    }
   },
   "outputs": [],
   "source": [
    "# Try to get the Schema\n",
    "data_product = \"isolated_star_sources\"\n",
    "datasetRefs = butler.registry.queryDatasets(datasetType=data_product, collections=collection, where= \"instrument='LATISS'\")\n",
    "for i, ref in enumerate(datasetRefs):\n",
    "    print(i,ref)\n",
    "    butler_data = butler.get(ref)\n",
    "    break\n",
    "\n",
    "if not isinstance(butler_data, pd.core.frame.DataFrame):\n",
    "    print(butler_data.getSchema())"
   ]
  },
  {
   "cell_type": "markdown",
   "id": "122dcf42-a6bd-4c49-b336-39e861c9c5e4",
   "metadata": {},
   "source": [
    "## isolated_star_sources Keeping all bands here, but keep the tract selection\n",
    "\n",
    "The main starting point is the table of isolated_star_sources which has been constructed in step 2a from a catalog\n",
    "Note that isolated star sources are associated to an object (a static starobject)\n",
    "Here the work is doneband by band.\n",
    "It is a good idea to work band by band."
   ]
  },
  {
   "cell_type": "code",
   "execution_count": null,
   "id": "8856e2a2",
   "metadata": {
    "execution": {
     "iopub.execute_input": "2024-04-04T12:31:31.037737Z",
     "iopub.status.busy": "2024-04-04T12:31:31.037608Z",
     "iopub.status.idle": "2024-04-04T12:31:34.592577Z",
     "shell.execute_reply": "2024-04-04T12:31:34.592128Z",
     "shell.execute_reply.started": "2024-04-04T12:31:31.037725Z"
    }
   },
   "outputs": [],
   "source": [
    "# Load in isolated_star_sources and trim to band of interest and select the tract\n",
    "isolatedStarSourcesFull = butler.get(\"isolated_star_sources\", tract=tract)\n",
    "#isolatedStarSourcesFull = isolatedStarSourcesFull[isolatedStarSourcesFull[\"band\"] == band]"
   ]
  },
  {
   "cell_type": "code",
   "execution_count": null,
   "id": "773ffada-3c31-4e62-b15b-b67926fc6c08",
   "metadata": {
    "execution": {
     "iopub.execute_input": "2024-04-04T12:31:34.593273Z",
     "iopub.status.busy": "2024-04-04T12:31:34.593141Z",
     "iopub.status.idle": "2024-04-04T12:31:34.602376Z",
     "shell.execute_reply": "2024-04-04T12:31:34.602038Z",
     "shell.execute_reply.started": "2024-04-04T12:31:34.593260Z"
    }
   },
   "outputs": [],
   "source": [
    "isolatedStarSourcesFull.head()"
   ]
  },
  {
   "cell_type": "code",
   "execution_count": null,
   "id": "c5b25eeb-5b8c-4b49-b556-496198adf8a5",
   "metadata": {
    "execution": {
     "iopub.execute_input": "2024-04-04T12:31:34.603008Z",
     "iopub.status.busy": "2024-04-04T12:31:34.602886Z",
     "iopub.status.idle": "2024-04-04T12:31:34.611316Z",
     "shell.execute_reply": "2024-04-04T12:31:34.610924Z",
     "shell.execute_reply.started": "2024-04-04T12:31:34.602997Z"
    }
   },
   "outputs": [],
   "source": [
    "isolatedStarSourcesFull.tail()"
   ]
  },
  {
   "cell_type": "code",
   "execution_count": null,
   "id": "1674462b-8b58-4dde-8086-5e7249ad7290",
   "metadata": {
    "execution": {
     "iopub.execute_input": "2024-04-04T12:31:34.611884Z",
     "iopub.status.busy": "2024-04-04T12:31:34.611764Z",
     "iopub.status.idle": "2024-04-04T12:31:34.614249Z",
     "shell.execute_reply": "2024-04-04T12:31:34.613925Z",
     "shell.execute_reply.started": "2024-04-04T12:31:34.611873Z"
    }
   },
   "outputs": [],
   "source": [
    "isolatedStarSourcesFull.columns"
   ]
  },
  {
   "cell_type": "markdown",
   "id": "f58dda1f-5506-4645-b292-a4446df54b4d",
   "metadata": {},
   "source": [
    "## Select the visits in the preselected list\n",
    "\n",
    "I add here my filter to select the visits I want to focus on from file_selected_visits = \"../data/202402/SelectedVisits_fall2023_tract_3864.csv\"\n",
    "It include all bands"
   ]
  },
  {
   "cell_type": "code",
   "execution_count": null,
   "id": "006fa802-59d5-45f5-863b-aa0cf7590896",
   "metadata": {
    "execution": {
     "iopub.execute_input": "2024-04-04T12:31:34.614795Z",
     "iopub.status.busy": "2024-04-04T12:31:34.614678Z",
     "iopub.status.idle": "2024-04-04T12:31:34.618160Z",
     "shell.execute_reply": "2024-04-04T12:31:34.617816Z",
     "shell.execute_reply.started": "2024-04-04T12:31:34.614784Z"
    }
   },
   "outputs": [],
   "source": [
    "FLAG_SELECT_MYVISITS = False"
   ]
  },
  {
   "cell_type": "code",
   "execution_count": null,
   "id": "0d5ce2c3-0bf4-4b99-9973-92aae5b66b22",
   "metadata": {
    "execution": {
     "iopub.execute_input": "2024-04-04T12:31:34.618806Z",
     "iopub.status.busy": "2024-04-04T12:31:34.618691Z",
     "iopub.status.idle": "2024-04-04T12:31:34.621117Z",
     "shell.execute_reply": "2024-04-04T12:31:34.620745Z",
     "shell.execute_reply.started": "2024-04-04T12:31:34.618795Z"
    }
   },
   "outputs": [],
   "source": [
    "def SelectByVisit(row):\n",
    "    if row[\"visit\"] in my_selectedvisits:\n",
    "        return True\n",
    "    else:\n",
    "        return False"
   ]
  },
  {
   "cell_type": "code",
   "execution_count": null,
   "id": "dee7564a-5b01-4198-bfd0-82770cd57156",
   "metadata": {
    "execution": {
     "iopub.execute_input": "2024-04-04T12:31:34.621697Z",
     "iopub.status.busy": "2024-04-04T12:31:34.621579Z",
     "iopub.status.idle": "2024-04-04T12:31:34.625705Z",
     "shell.execute_reply": "2024-04-04T12:31:34.625378Z",
     "shell.execute_reply.started": "2024-04-04T12:31:34.621686Z"
    }
   },
   "outputs": [],
   "source": [
    "if FLAG_SELECT_MYVISITS:\n",
    "    isolatedStarSourcesFull[\"flag\"] = isolatedStarSourcesFull.apply(SelectByVisit,axis=1,raw=False)\n",
    "    isolatedStarSourcesFull = isolatedStarSourcesFull[isolatedStarSourcesFull[\"flag\"]]\n",
    "    isolatedStarSourcesFull.drop(\"flag\",axis=1,inplace=True)"
   ]
  },
  {
   "cell_type": "code",
   "execution_count": null,
   "id": "3a699fdd-697e-4f0a-a5b9-d830f7796754",
   "metadata": {
    "execution": {
     "iopub.execute_input": "2024-04-04T12:31:34.626261Z",
     "iopub.status.busy": "2024-04-04T12:31:34.626143Z",
     "iopub.status.idle": "2024-04-04T12:31:34.638461Z",
     "shell.execute_reply": "2024-04-04T12:31:34.638115Z",
     "shell.execute_reply.started": "2024-04-04T12:31:34.626250Z"
    }
   },
   "outputs": [],
   "source": [
    "isolatedStarSourcesFull"
   ]
  },
  {
   "cell_type": "markdown",
   "id": "9e031569-8bc4-49dc-a480-43be31b1b04c",
   "metadata": {},
   "source": [
    "## Add atmospheric quantities to the isolatedStarSourcesFull"
   ]
  },
  {
   "cell_type": "code",
   "execution_count": null,
   "id": "42a6ef7c-0d4c-46c1-a54e-c23ea71999b5",
   "metadata": {
    "execution": {
     "iopub.execute_input": "2024-04-04T12:31:34.639035Z",
     "iopub.status.busy": "2024-04-04T12:31:34.638908Z",
     "iopub.status.idle": "2024-04-04T12:31:34.786156Z",
     "shell.execute_reply": "2024-04-04T12:31:34.785748Z",
     "shell.execute_reply.started": "2024-04-04T12:31:34.639024Z"
    }
   },
   "outputs": [],
   "source": [
    "isolatedStarSourcesFull = isolatedStarSourcesFull.merge(df_atm, left_on='visit',right_on='visitId',how=\"inner\")\n",
    "isolatedStarSourcesFull[\"nightObs\"] = isolatedStarSourcesFull.apply(lambda x: x['visit']//100_000, axis=1)\n",
    "isolatedStarSourcesFull"
   ]
  },
  {
   "cell_type": "code",
   "execution_count": null,
   "id": "05cd1b17-9aea-4362-a278-97da5377d4c6",
   "metadata": {
    "execution": {
     "iopub.execute_input": "2024-04-04T12:31:34.786883Z",
     "iopub.status.busy": "2024-04-04T12:31:34.786745Z",
     "iopub.status.idle": "2024-04-04T12:31:34.796716Z",
     "shell.execute_reply": "2024-04-04T12:31:34.796347Z",
     "shell.execute_reply.started": "2024-04-04T12:31:34.786870Z"
    }
   },
   "outputs": [],
   "source": [
    "# Just to have a look at what's in the catalog:\n",
    "isolatedStarSourcesFull[isolatedStarSourcesFull.index == 0]"
   ]
  },
  {
   "cell_type": "code",
   "execution_count": null,
   "id": "dadab2ff-40f2-4cb3-8048-d873c0b89f19",
   "metadata": {
    "execution": {
     "iopub.execute_input": "2024-04-04T12:31:34.797361Z",
     "iopub.status.busy": "2024-04-04T12:31:34.797234Z",
     "iopub.status.idle": "2024-04-04T12:31:34.799661Z",
     "shell.execute_reply": "2024-04-04T12:31:34.799296Z",
     "shell.execute_reply.started": "2024-04-04T12:31:34.797349Z"
    }
   },
   "outputs": [],
   "source": [
    "print(\"calibFluxStr = {},,minSnCalibFlux = {}, minNumMatches = {}\".format(calibFluxStr,minSnCalibFlux,minNumMatches))"
   ]
  },
  {
   "cell_type": "code",
   "execution_count": null,
   "id": "9a8cb025-6e37-4419-8be7-c27a43e399e9",
   "metadata": {
    "execution": {
     "iopub.execute_input": "2024-04-04T12:31:34.800281Z",
     "iopub.status.busy": "2024-04-04T12:31:34.800157Z",
     "iopub.status.idle": "2024-04-04T12:31:34.997220Z",
     "shell.execute_reply": "2024-04-04T12:31:34.994860Z",
     "shell.execute_reply.started": "2024-04-04T12:31:34.800269Z"
    }
   },
   "outputs": [],
   "source": [
    "assert False"
   ]
  },
  {
   "cell_type": "markdown",
   "id": "da9344e8-96c4-4317-83c9-b65522db1c8b",
   "metadata": {},
   "source": [
    "## Select a number of visits with enough good sources but in all bands here\n",
    "\n",
    "- extract the list of known objects"
   ]
  },
  {
   "cell_type": "code",
   "execution_count": null,
   "id": "60e9fbfd",
   "metadata": {
    "execution": {
     "iopub.status.busy": "2024-04-04T12:31:34.997651Z",
     "iopub.status.idle": "2024-04-04T12:31:34.997820Z",
     "shell.execute_reply": "2024-04-04T12:31:34.997744Z",
     "shell.execute_reply.started": "2024-04-04T12:31:34.997736Z"
    }
   },
   "outputs": [],
   "source": [
    "# Trim the isolated_star_sources cat to those PSF S/N > minSnCalibFlux\n",
    "# and number of matches sources > minNumMatches.\n",
    "objIndexListFull = list(set(isolatedStarSourcesFull[\"obj_index\"].values))\n",
    "\n",
    "# Select the bright stars above a minimum of S/N ratio\n",
    "if minSnCalibFlux is not None:\n",
    "    snCalibFlux = isolatedStarSourcesFull[calibFluxStr]/isolatedStarSourcesFull[calibFluxStr + \"Err\"]\n",
    "    snMask = snCalibFlux > minSnCalibFlux\n",
    "    isolatedStarSourcesMinSn = isolatedStarSourcesFull[snMask].copy(deep=True)\n",
    "else:\n",
    "    isolatedStarSourcesMinSn = isolatedStarSourcesFull.copy(deep=True)\n",
    "\n",
    "# object index with obj index in above selected bright selected star\n",
    "objIndexListMinSn = list(set(isolatedStarSourcesMinSn[\"obj_index\"].values))\n",
    "\n",
    "# requires that the object is associated to several sources (at least minNumMatches sources)\n",
    "objIndexList = []\n",
    "for objIndex in objIndexListMinSn:\n",
    "    objData = isolatedStarSourcesMinSn[isolatedStarSourcesMinSn[\"obj_index\"] == objIndex]\n",
    "    if len(objData) >= minNumMatches:\n",
    "        objIndexList.append(objIndex)\n",
    "numTrimmed = len(objIndexListFull) - len(objIndexList)\n",
    "\n",
    "mask = []\n",
    "for objIndex, visit in zip(isolatedStarSourcesMinSn[\"obj_index\"], isolatedStarSourcesMinSn[\"visit\"]):\n",
    "    if objIndex in objIndexList:\n",
    "        mask.append(True)\n",
    "    else:\n",
    "        mask.append(False)\n",
    "isolatedStarSources = isolatedStarSourcesMinSn[mask].copy(deep=True)\n",
    "\n",
    "# Select a number of visits according quality criteria\n",
    "visitList = list(set(isolatedStarSources[\"visit\"].values))\n",
    "\n",
    "if minSnCalibFlux is not None:\n",
    "    print(\"Trimmed isolated_star_sources catalog to S/N {} > {} (leaving N={} matched souces from original {})\".format(\n",
    "        calibFluxStr, minSnCalibFlux, len(isolatedStarSources), len(isolatedStarSourcesFull)))\n",
    "print(\"Trimmed isolated_star_sources catalog to objecst with nMatches >= {} (leaving {} objects from {}).\".format(\n",
    "    minNumMatches, len(objIndexList), len(objIndexListFull)))"
   ]
  },
  {
   "cell_type": "code",
   "execution_count": null,
   "id": "0258c3d3-7781-4440-b1cb-40832fff1326",
   "metadata": {
    "execution": {
     "iopub.status.busy": "2024-04-04T12:31:34.998223Z",
     "iopub.status.idle": "2024-04-04T12:31:34.998383Z",
     "shell.execute_reply": "2024-04-04T12:31:34.998307Z",
     "shell.execute_reply.started": "2024-04-04T12:31:34.998300Z"
    }
   },
   "outputs": [],
   "source": [
    "sorted_visitList = sorted(visitList)\n",
    "sorted_visitList[:20] "
   ]
  },
  {
   "cell_type": "code",
   "execution_count": null,
   "id": "b1566990-7330-4b3d-8433-c8b811df4dd9",
   "metadata": {
    "execution": {
     "iopub.status.busy": "2024-04-04T12:31:34.998917Z",
     "iopub.status.idle": "2024-04-04T12:31:34.999071Z",
     "shell.execute_reply": "2024-04-04T12:31:34.998997Z",
     "shell.execute_reply.started": "2024-04-04T12:31:34.998991Z"
    }
   },
   "outputs": [],
   "source": [
    "def convertVisitToDatestr(visit):\n",
    "\n",
    "    num = visit//100_000\n",
    "    year = num//10_000\n",
    "    month= (num-year*10_000)//100\n",
    "    day = (num-year*10_000-month*100)\n",
    "\n",
    "    year_str = str(year).zfill(4)\n",
    "    month_str = str(month).zfill(2)\n",
    "    day_str = str(day).zfill(2)\n",
    "    \n",
    "    datestr = f\"{year_str}-{month_str}-{day_str}\"\n",
    "    return datestr"
   ]
  },
  {
   "cell_type": "code",
   "execution_count": null,
   "id": "e78a9cdd-1906-4b11-90b6-ac09ca7689b1",
   "metadata": {
    "execution": {
     "iopub.status.busy": "2024-04-04T12:31:34.999692Z",
     "iopub.status.idle": "2024-04-04T12:31:34.999848Z",
     "shell.execute_reply": "2024-04-04T12:31:34.999774Z",
     "shell.execute_reply.started": "2024-04-04T12:31:34.999767Z"
    }
   },
   "outputs": [],
   "source": [
    "def convertVisitToMJD(visit):\n",
    "    return Time(convertVisitToDatestr(visit)).mjd"
   ]
  },
  {
   "cell_type": "code",
   "execution_count": null,
   "id": "ebfc17b1-4874-4343-accb-2d0763a0f677",
   "metadata": {
    "execution": {
     "iopub.status.busy": "2024-04-04T12:31:35.000371Z",
     "iopub.status.idle": "2024-04-04T12:31:35.000519Z",
     "shell.execute_reply": "2024-04-04T12:31:35.000450Z",
     "shell.execute_reply.started": "2024-04-04T12:31:35.000443Z"
    }
   },
   "outputs": [],
   "source": [
    "sorted_visits_mjd = list(map(convertVisitToMJD, sorted_visitList))"
   ]
  },
  {
   "cell_type": "markdown",
   "id": "93fecc9f-d378-4b8d-9625-1e54e499f1db",
   "metadata": {},
   "source": [
    "## sourceTable_visit\n",
    "\n",
    "This is the main output of FGCM calibration which has selected a number of sources. These sources were originally selected from isolated sources."
   ]
  },
  {
   "cell_type": "code",
   "execution_count": null,
   "id": "db71f9f1",
   "metadata": {
    "execution": {
     "iopub.status.busy": "2024-04-04T12:31:35.001003Z",
     "iopub.status.idle": "2024-04-04T12:31:35.001148Z",
     "shell.execute_reply": "2024-04-04T12:31:35.001081Z",
     "shell.execute_reply.started": "2024-04-04T12:31:35.001074Z"
    }
   },
   "outputs": [],
   "source": [
    "# Extra columns to load from sourceTable_visit catalogs\n",
    "names = [\"psfFlux\", \"psfFluxErr\", \"psfFlux_flag\", \"psfFlux_apCorr\", \"psfFlux_apCorrErr\",\n",
    "         \"extendedness\", \"detect_isPrimary\", \"deblend_skipped\",\n",
    "         \"gaussianFlux\", \"gaussianFluxErr\", \"gaussianFlux_flag\",\n",
    "         \"localPhotoCalib\", \"localPhotoCalibErr\", \"localPhotoCalib_flag\"]"
   ]
  },
  {
   "cell_type": "code",
   "execution_count": null,
   "id": "638a0e06",
   "metadata": {
    "execution": {
     "iopub.status.busy": "2024-04-04T12:31:35.001723Z",
     "iopub.status.idle": "2024-04-04T12:31:35.001876Z",
     "shell.execute_reply": "2024-04-04T12:31:35.001802Z",
     "shell.execute_reply.started": "2024-04-04T12:31:35.001795Z"
    }
   },
   "outputs": [],
   "source": [
    "# Load in the sourceTable_visit catalogs to get the psfFlux and other useful info per source.\n",
    "# Columns loaded are those in names above.\n",
    "sourceCatalogs = []\n",
    "nSourceDict = {}\n",
    "visitsToRemove = []\n",
    "\n",
    "# loop over all selected visit\n",
    "for visit in visitList:\n",
    "    try:\n",
    "        sourceCatalogOrig = butler.get(\"sourceTable_visit\", visit=visit, parameters={\"columns\": names})\n",
    "        primaryCat = sourceCatalogOrig[sourceCatalogOrig[\"detect_isPrimary\"]].copy(deep=True)\n",
    "        nSourceDict[visit] = sum(primaryCat[\"psfFlux\"]/primaryCat[\"psfFluxErr\"] > 5)\n",
    "        sourceCatalogs.append(primaryCat)\n",
    "    except LookupError:\n",
    "        print(\"sourceTable_visit not found for visit {}\".format(visit))\n",
    "        isolatedStarSources = isolatedStarSources[isolatedStarSources[\"visit\"] != visit].copy(deep=True)\n",
    "        visitsToRemove.append(visit)\n",
    "visitList = list(set(visitList) - set(visitsToRemove))\n",
    "\n",
    "# Do the minNumMatches cut again since visits may have been removed due to lack of sourceTable_visit\n",
    "print(\"Number of objects with >=3 matches before sourceTable_visit exsistence check: {}\".format(len(objIndexList)))\n",
    "objIndexListAllNew = list(set(isolatedStarSources[\"obj_index\"].values))\n",
    "objIndexList = []\n",
    "for objIndex in objIndexListAllNew:\n",
    "    objData = isolatedStarSources[isolatedStarSources[\"obj_index\"] == objIndex]\n",
    "    if len(objData) >= minNumMatches:\n",
    "        objIndexList.append(objIndex)\n",
    "mask = []\n",
    "for objIndex, visit in zip(isolatedStarSources[\"obj_index\"], isolatedStarSources[\"visit\"]):\n",
    "    if objIndex in objIndexList:\n",
    "        mask.append(True)\n",
    "    else:\n",
    "        mask.append(False)\n",
    "isolatedStarSources = isolatedStarSources[mask].copy(deep=True)\n",
    "visitList = list(set(isolatedStarSources[\"visit\"].values))\n",
    "print(\"Number of objects with >=3 matches after sourceTable_visit exsistence check: {}\".format(len(objIndexList)))\n",
    "dataJoined = pd.concat(sourceCatalogs).merge(isolatedStarSources, on=\"sourceId\", how=\"inner\")"
   ]
  },
  {
   "cell_type": "code",
   "execution_count": null,
   "id": "b7a2acc3-cf74-4345-a293-c9d887f98eb9",
   "metadata": {
    "execution": {
     "iopub.status.busy": "2024-04-04T12:31:35.002329Z",
     "iopub.status.idle": "2024-04-04T12:31:35.002487Z",
     "shell.execute_reply": "2024-04-04T12:31:35.002417Z",
     "shell.execute_reply.started": "2024-04-04T12:31:35.002410Z"
    }
   },
   "outputs": [],
   "source": [
    "visitsToRemove "
   ]
  },
  {
   "cell_type": "markdown",
   "id": "da99b858-3add-4a24-8361-c61369ff31c8",
   "metadata": {
    "execution": {
     "iopub.execute_input": "2024-03-06T16:09:45.477682Z",
     "iopub.status.busy": "2024-03-06T16:09:45.477549Z",
     "iopub.status.idle": "2024-03-06T16:09:45.489584Z",
     "shell.execute_reply": "2024-03-06T16:09:45.489237Z",
     "shell.execute_reply.started": "2024-03-06T16:09:45.477669Z"
    }
   },
   "source": [
    "## Will start to work on dataJoined which associate selected \"isolated_star_sources\" in the selected band and visits the good calibration in \"sourceTable_visit\""
   ]
  },
  {
   "cell_type": "markdown",
   "id": "f219f59b-1c36-4bc1-aa41-ac481f96f74e",
   "metadata": {
    "execution": {
     "iopub.execute_input": "2024-02-29T10:26:18.613944Z",
     "iopub.status.busy": "2024-02-29T10:26:18.613360Z",
     "iopub.status.idle": "2024-02-29T10:26:18.648236Z",
     "shell.execute_reply": "2024-02-29T10:26:18.647844Z",
     "shell.execute_reply.started": "2024-02-29T10:26:18.613928Z"
    }
   },
   "source": [
    "### add my info from CCD Visit Table\n",
    "\n",
    "- CCD visit table is a pre-FGCM calibration\n",
    "- it provides airmass and initial zero-point"
   ]
  },
  {
   "cell_type": "code",
   "execution_count": null,
   "id": "6f07195f-0f97-4590-bd39-3584cd580afc",
   "metadata": {
    "execution": {
     "iopub.status.busy": "2024-04-04T12:31:35.002918Z",
     "iopub.status.idle": "2024-04-04T12:31:35.003061Z",
     "shell.execute_reply": "2024-04-04T12:31:35.002994Z",
     "shell.execute_reply.started": "2024-04-04T12:31:35.002987Z"
    }
   },
   "outputs": [],
   "source": [
    "# need also. [\"zeroPoint\",\"airmass\"]"
   ]
  },
  {
   "cell_type": "code",
   "execution_count": null,
   "id": "b0db3e84",
   "metadata": {
    "execution": {
     "iopub.status.busy": "2024-04-04T12:31:35.003617Z",
     "iopub.status.idle": "2024-04-04T12:31:35.003764Z",
     "shell.execute_reply": "2024-04-04T12:31:35.003694Z",
     "shell.execute_reply.started": "2024-04-04T12:31:35.003687Z"
    }
   },
   "outputs": [],
   "source": [
    "# Collect useful columns from ccdVisitTable\n",
    "ccdVisitTable = butler.get(\"ccdVisitTable\")\n",
    "ccdVisitTable[\"airmass\"] = ccdVisitTable[\"zenithDistance\"].apply(lambda x: 1/np.cos(np.pi/180.*x))\n",
    "ccdVisitTable[\"medianE\"] = np.sqrt(ccdVisitTable[\"psfStarDeltaE1Median\"] ** 2.0 + \n",
    "                                    ccdVisitTable[\"psfStarDeltaE2Median\"] ** 2.0)\n",
    "psfSigmaDict = {}\n",
    "skyBgDict = {}\n",
    "skyNoiseDict = {}\n",
    "expTimeDict = {}\n",
    "expMidptMjdDict = {}\n",
    "medianEDict = {}\n",
    "psfStarScaledDeltaSizeScatterDict = {}\n",
    "astromOffsetStdDict = {}\n",
    "psfTraceRadiusDeltaDict = {}\n",
    "zeroPointDict = {}\n",
    "airmassDict = {}\n",
    "# for visit in ccdVisitTable[\"visitId\"].values:\n",
    "#     if visit in visitList:\n",
    "for visit in visitList:\n",
    "    if visit in ccdVisitTable[\"visitId\"].values:\n",
    "        psfSigmaDict[visit] = ccdVisitTable[ccdVisitTable[\"visitId\"] == visit][\"psfSigma\"].values[0]\n",
    "        skyBgDict[visit] = ccdVisitTable[ccdVisitTable[\"visitId\"] == visit][\"skyBg\"].values[0]\n",
    "        skyNoiseDict[visit] = ccdVisitTable[ccdVisitTable[\"visitId\"] == visit][\"skyNoise\"].values[0]\n",
    "        expTimeDict[visit] = ccdVisitTable[ccdVisitTable[\"visitId\"] == visit][\"expTime\"].values[0]\n",
    "        expMidptMjdDict[visit] = ccdVisitTable[ccdVisitTable[\"visitId\"] == visit][\"expMidptMJD\"].values[0]\n",
    "        medianEDict[visit] = ccdVisitTable[ccdVisitTable[\"visitId\"] == visit][\"medianE\"].values[0]\n",
    "        psfStarScaledDeltaSizeScatterDict[visit] = ccdVisitTable[ccdVisitTable[\"visitId\"] == visit][\"psfStarScaledDeltaSizeScatter\"].values[0]\n",
    "        astromOffsetStdDict[visit] = ccdVisitTable[ccdVisitTable[\"visitId\"] == visit][\"astromOffsetStd\"].values[0]\n",
    "        psfTraceRadiusDeltaDict[visit] = ccdVisitTable[ccdVisitTable[\"visitId\"] == visit][\"psfTraceRadiusDelta\"].values[0]\n",
    "        zeroPointDict[visit] = ccdVisitTable[ccdVisitTable[\"visitId\"] == visit][\"zeroPoint\"].values[0]\n",
    "        airmassDict[visit] = ccdVisitTable[ccdVisitTable[\"visitId\"] == visit][\"airmass\"].values[0]\n",
    "    else:\n",
    "        raise RuntimeError(\"ERROR: visit {} not found in ccdVisitTable\".format(visit))"
   ]
  },
  {
   "cell_type": "code",
   "execution_count": null,
   "id": "fa595417",
   "metadata": {
    "execution": {
     "iopub.status.busy": "2024-04-04T12:31:35.004227Z",
     "iopub.status.idle": "2024-04-04T12:31:35.004370Z",
     "shell.execute_reply": "2024-04-04T12:31:35.004301Z",
     "shell.execute_reply.started": "2024-04-04T12:31:35.004295Z"
    }
   },
   "outputs": [],
   "source": [
    "# Just to have a look at what's in the catalog:\n",
    "ccdVisitTable[ccdVisitTable.index == ccdVisitTable.index[0]] "
   ]
  },
  {
   "cell_type": "code",
   "execution_count": null,
   "id": "7e850a5f-6297-4438-9e0b-735b25229cc5",
   "metadata": {
    "execution": {
     "iopub.status.busy": "2024-04-04T12:31:35.004875Z",
     "iopub.status.idle": "2024-04-04T12:31:35.005028Z",
     "shell.execute_reply": "2024-04-04T12:31:35.004953Z",
     "shell.execute_reply.started": "2024-04-04T12:31:35.004946Z"
    }
   },
   "outputs": [],
   "source": [
    "dataJoined.columns"
   ]
  },
  {
   "cell_type": "code",
   "execution_count": null,
   "id": "2f2fd98b",
   "metadata": {
    "execution": {
     "iopub.status.busy": "2024-04-04T12:31:35.005590Z",
     "iopub.status.idle": "2024-04-04T12:31:35.005737Z",
     "shell.execute_reply": "2024-04-04T12:31:35.005666Z",
     "shell.execute_reply.started": "2024-04-04T12:31:35.005659Z"
    }
   },
   "outputs": [],
   "source": [
    "# Add columns into dataJoined table to have them all in one place\n",
    "dataJoined[\"psfSn\"] = dataJoined[\"psfFlux\"]/dataJoined[\"psfFluxErr\"]\n",
    "dataJoined[\"psfMag\"] = (dataJoined[\"psfFlux\"].values*u.nJy).to(u.ABmag).value\n",
    "dataJoined[\"psfMagErr\"] = 2.5/np.log(10.0)*(dataJoined[\"psfFluxErr\"].values/dataJoined[\"psfFlux\"].values)\n",
    "\n",
    "#dataJoined[\"apFlux_35_0_calFlux\"] = dataJoined[\"apFlux_35_0_instFlux\"]*dataJoined[\"localPhotoCalib\"]\n",
    "#dataJoined[\"apFlux_35_0_calFluxErr\"] = dataJoined[\"apFlux_35_0_instFluxErr\"]*dataJoined[\"localPhotoCalib\"]\n",
    "# This is the way to apply aperture corrections :\n",
    "dataJoined[\"apFlux_35_0_calFlux\"] = dataJoined[\"apFlux_35_0_instFlux\"]*dataJoined[\"localPhotoCalib\"]*dataJoined['psfFlux_apCorr']\n",
    "dataJoined[\"apFlux_35_0_calFluxErr\"] = dataJoined[\"apFlux_35_0_instFluxErr\"]*dataJoined[\"localPhotoCalib\"]*dataJoined['psfFlux_apCorr']\n",
    "\n",
    "# NOTE: psfFlux is the fgcm calibrated flux.  I'm pretty sure you get the \"instrumental\" \n",
    "# flux by dividing psfFlux by the localPhotoCalib value.\n",
    "dataJoined[\"psfInstMag\"] = ((dataJoined[\"psfFlux\"].values/dataJoined[\"localPhotoCalib\"].values)*u.nJy).to(u.ABmag).value\n",
    "dataJoined[\"psfGausFluxRatio\"] = dataJoined[\"psfFlux\"]/dataJoined[\"gaussianFlux\"]\n",
    "dataJoined[\"psfSigma\"] = dataJoined.apply(lambda x: psfSigmaDict[x[\"visit\"]], axis=1)\n",
    "dataJoined[\"skyBg\"] = dataJoined.apply(lambda x: skyBgDict[x[\"visit\"]], axis=1)\n",
    "dataJoined[\"expTime\"] = dataJoined.apply(lambda x: expTimeDict[x[\"visit\"]], axis=1)\n",
    "dataJoined[\"expMidptMjd\"] = dataJoined.apply(lambda x: expMidptMjdDict[x[\"visit\"]], axis=1)\n",
    "dataJoined[\"nSource\"] = dataJoined.apply(lambda x: nSourceDict[x[\"visit\"]], axis=1)\n",
    "dataJoined[\"medianE\"] = dataJoined.apply(lambda x: medianEDict[x[\"visit\"]], axis=1)\n",
    "dataJoined[\"psfStarScaledDeltaSizeScatter\"] = dataJoined.apply(lambda x: psfStarScaledDeltaSizeScatterDict[x[\"visit\"]], axis=1)\n",
    "dataJoined[\"astromOffsetStd\"] = dataJoined.apply(lambda x: astromOffsetStdDict[x[\"visit\"]], axis=1)\n",
    "dataJoined[\"psfTraceRadiusDelta\"] = dataJoined.apply(lambda x: psfTraceRadiusDeltaDict[x[\"visit\"]], axis=1)\n",
    "\n",
    "# I add the airmass and zero-point I want to keep here\n",
    "dataJoined[\"zeroPoint\"] = dataJoined.apply(lambda x: zeroPointDict[x[\"visit\"]], axis=1)\n",
    "dataJoined[\"airmass\"] = dataJoined.apply(lambda x: airmassDict[x[\"visit\"]], axis=1)\n",
    "\n",
    "matchedObjIdList = list(set(dataJoined[\"obj_index\"]))"
   ]
  },
  {
   "cell_type": "code",
   "execution_count": null,
   "id": "ddb12466",
   "metadata": {
    "execution": {
     "iopub.status.busy": "2024-04-04T12:31:35.006176Z",
     "iopub.status.idle": "2024-04-04T12:31:35.006323Z",
     "shell.execute_reply": "2024-04-04T12:31:35.006253Z",
     "shell.execute_reply.started": "2024-04-04T12:31:35.006246Z"
    }
   },
   "outputs": [],
   "source": [
    "dataJoined[dataJoined.index == 0]"
   ]
  },
  {
   "cell_type": "markdown",
   "id": "d9097dac-56de-482c-9d7a-3d83dcc83a3a",
   "metadata": {},
   "source": [
    "## The association between the independent sources is done through the object index \n",
    "\n",
    "- for plotting the repeatability"
   ]
  },
  {
   "cell_type": "code",
   "execution_count": null,
   "id": "1c5b85d8",
   "metadata": {
    "execution": {
     "iopub.status.busy": "2024-04-04T12:31:35.007204Z",
     "iopub.status.idle": "2024-04-04T12:31:35.007455Z",
     "shell.execute_reply": "2024-04-04T12:31:35.007376Z",
     "shell.execute_reply.started": "2024-04-04T12:31:35.007362Z"
    }
   },
   "outputs": [],
   "source": [
    "# Compute repeatability related values per object/object group and add\n",
    "# them inplace to the dataJoined DataFrame.\n",
    "psfMagDiffMmagDfList = []\n",
    "psfMagStdMmagAll = []\n",
    "psfMagStdMmagDict = {}\n",
    "psfMagDiffChiDfList = []\n",
    "psfSnAll = []\n",
    "raDiffMasDfList = []\n",
    "decDiffMasDfList = []\n",
    "raCosDecDiffMasDfList = []\n",
    "objRaDegList = []\n",
    "objDecDegList = []\n",
    "raStdMasAll = []\n",
    "decStdMasAll = []\n",
    "raCosDecStdMasAll = []\n",
    "objDataList = []\n",
    "\n",
    "# loop on objects\n",
    "for objIndex in matchedObjIdList:\n",
    "    # select sources corresponding to that object\n",
    "    objData = dataJoined[dataJoined[\"obj_index\"] == objIndex]\n",
    "    psfMag = objData[\"psfMag\"]\n",
    "    psfMagErr = objData[\"psfMagErr\"]\n",
    "\n",
    "    # average flux over all visits\n",
    "    clippedMeanMagArray = scipy.stats.sigmaclip(psfMag, low=3.0, high=3.0).clipped\n",
    "    clippedMeanMag = np.mean(clippedMeanMagArray)\n",
    "    clippedMeanMagErr = np.std(clippedMeanMagArray)/np.sqrt(len(clippedMeanMagArray))\n",
    "\n",
    "    # array of difference between flux an clipped mean average\n",
    "    psfMagDiffMmag = 1000*(psfMag - clippedMeanMag)\n",
    "    # sigma arrays over the difference\n",
    "    psfMagStdMmag = np.std(psfMagDiffMmag)\n",
    "    # residuals array\n",
    "    psfMagDiffChi = (psfMag - clippedMeanMag)/np.sqrt(psfMagErr**2 + clippedMeanMagErr**2)\n",
    "    \n",
    "    clippedMeanRaArray = scipy.stats.sigmaclip(objData[\"ra\"], low=3.0, high=3.0).clipped\n",
    "    clippedMeanRa = np.mean(clippedMeanRaArray)\n",
    "    raDiffMas = (objData[\"ra\"] - clippedMeanRa)*3600*1000\n",
    "    \n",
    "    clippedMeanDecArray = scipy.stats.sigmaclip(objData[\"dec\"], low=3.0, high=3.0).clipped\n",
    "    clippedMeanDec = np.mean(clippedMeanDecArray)\n",
    "    decDiffMas = (objData[\"dec\"] - clippedMeanDec)*3600*1000\n",
    "    \n",
    "    raCosDec = np.deg2rad(objData[\"ra\"])*np.cos(np.deg2rad(objData[\"dec\"]))\n",
    "    clippedMeanRaCosDecArray = scipy.stats.sigmaclip(raCosDec, low=3.0, high=3.0).clipped\n",
    "    clippedMeanRaCosDec = np.mean(clippedMeanRaCosDecArray)\n",
    "    raCosDecDiffRad = (raCosDec - clippedMeanRaCosDec)\n",
    "    raCosDecDiffMas = np.rad2deg(raCosDecDiffRad)*3600*1000\n",
    "\n",
    "    # save for all sources of the object\n",
    "    psfMagDiffMmagDfList.append(psfMagDiffMmag)\n",
    "    psfMagStdMmagAll.append(psfMagStdMmag)\n",
    "    psfMagDiffChiDfList.append(psfMagDiffChi)\n",
    "\n",
    "    raDiffMasDfList.append(raDiffMas)\n",
    "    decDiffMasDfList.append(decDiffMas)\n",
    "    raCosDecDiffMasDfList.append(raCosDecDiffMas)\n",
    "    \n",
    "    objRaDegList.append(clippedMeanRa)\n",
    "    objDecDegList.append(clippedMeanDec)\n",
    "\n",
    "    raStdMas = np.std(raDiffMas)\n",
    "    raStdMasAll.append(raStdMas)\n",
    "    decStdMas = np.std(decDiffMas)\n",
    "    decStdMasAll.append(decStdMas)\n",
    "    raCosDecStdMas = np.std(raCosDecDiffMas)\n",
    "    raCosDecStdMasAll.append(raCosDecStdMas)\n",
    "    psfMagStdMmagDict[objIndex] = psfMagStdMmag\n",
    "\n",
    "# concatenate over all objects - all sources\n",
    "psfMagDiffMmagDf = pd.concat(psfMagDiffMmagDfList)\n",
    "psfMagDiffChiDf = pd.concat(psfMagDiffChiDfList)\n",
    "raDiffMasDf = pd.concat(raDiffMasDfList)\n",
    "decDiffMasDf = pd.concat(decDiffMasDfList)\n",
    "raCosDecDiffMasDf = pd.concat(raCosDecDiffMasDfList)\n",
    "\n",
    "# add this common properties to each source in dataJoined\n",
    "dataJoined.loc[:, \"psfMagDiffMmag\"] = psfMagDiffMmagDf\n",
    "dataJoined.loc[:, \"psfMagDiffChi\"] = psfMagDiffChiDf\n",
    "dataJoined.loc[:, \"raDiffMas\"] = raDiffMasDf\n",
    "dataJoined.loc[:, \"decDiffMas\"] = decDiffMasDf\n",
    "dataJoined.loc[:, \"raCosDecDiffMas\"] = raCosDecDiffMasDf"
   ]
  },
  {
   "cell_type": "code",
   "execution_count": null,
   "id": "a8a83802",
   "metadata": {
    "execution": {
     "iopub.status.busy": "2024-04-04T12:31:35.007862Z",
     "iopub.status.idle": "2024-04-04T12:31:35.008014Z",
     "shell.execute_reply": "2024-04-04T12:31:35.007947Z",
     "shell.execute_reply.started": "2024-04-04T12:31:35.007941Z"
    }
   },
   "outputs": [],
   "source": [
    "dataJoined[dataJoined.index == 0]"
   ]
  },
  {
   "cell_type": "code",
   "execution_count": null,
   "id": "6e609b37-c7d5-4d62-94b4-b7c896816fc5",
   "metadata": {
    "execution": {
     "iopub.status.busy": "2024-04-04T12:31:35.008454Z",
     "iopub.status.idle": "2024-04-04T12:31:35.008600Z",
     "shell.execute_reply": "2024-04-04T12:31:35.008530Z",
     "shell.execute_reply.started": "2024-04-04T12:31:35.008524Z"
    }
   },
   "outputs": [],
   "source": [
    "dataJoined.head()"
   ]
  },
  {
   "cell_type": "markdown",
   "id": "b76e9a2c-5d83-44d4-b851-fde34a364f01",
   "metadata": {},
   "source": [
    "## Check the correlation between the flux psf and apperture flux"
   ]
  },
  {
   "cell_type": "markdown",
   "id": "d3822743-b788-4c8e-8c57-bef52eba9e39",
   "metadata": {
    "execution": {
     "iopub.execute_input": "2024-03-21T09:53:37.961103Z",
     "iopub.status.busy": "2024-03-21T09:53:37.960978Z",
     "iopub.status.idle": "2024-03-21T09:53:37.966760Z",
     "shell.execute_reply": "2024-03-21T09:53:37.963474Z",
     "shell.execute_reply.started": "2024-03-21T09:53:37.961092Z"
    }
   },
   "source": [
    "- The goal is to understand what flux is calibrated what flux is not calibrated "
   ]
  },
  {
   "cell_type": "code",
   "execution_count": null,
   "id": "dee63f10-268e-4bf0-bf6c-46bc8bdb792a",
   "metadata": {
    "execution": {
     "iopub.status.busy": "2024-04-04T12:31:35.009087Z",
     "iopub.status.idle": "2024-04-04T12:31:35.009227Z",
     "shell.execute_reply": "2024-04-04T12:31:35.009162Z",
     "shell.execute_reply.started": "2024-04-04T12:31:35.009156Z"
    }
   },
   "outputs": [],
   "source": [
    "dataJoined_subset = dataJoined[[\"obj_index\",\"sourceId\",\"band\",\"visitId\",\"ra\",\"dec\",\"psfMag\",\"psfFlux\",\"gaussianFlux\",\"apFlux_35_0_calFlux\", \"apFlux_35_0_instFlux\",\"psfFlux_apCorr\",\n",
    "                                \"psfMagErr\",\"psfFluxErr\",\"gaussianFluxErr\",\"apFlux_35_0_calFluxErr\", \"apFlux_35_0_instFluxErr\",\"skyBg\"]]"
   ]
  },
  {
   "cell_type": "code",
   "execution_count": null,
   "id": "f799abc6-7b2c-4758-beb2-fee9ca89bb37",
   "metadata": {
    "execution": {
     "iopub.status.busy": "2024-04-04T12:31:35.009715Z",
     "iopub.status.idle": "2024-04-04T12:31:35.009860Z",
     "shell.execute_reply": "2024-04-04T12:31:35.009793Z",
     "shell.execute_reply.started": "2024-04-04T12:31:35.009786Z"
    }
   },
   "outputs": [],
   "source": [
    "dataJoined_subset.sort_values(by=[\"obj_index\",\"band\",\"visitId\"])"
   ]
  },
  {
   "cell_type": "code",
   "execution_count": null,
   "id": "7ed4334a-0cfb-478c-a139-910a1d6397a2",
   "metadata": {
    "execution": {
     "iopub.status.busy": "2024-04-04T12:31:35.010391Z",
     "iopub.status.idle": "2024-04-04T12:31:35.010531Z",
     "shell.execute_reply": "2024-04-04T12:31:35.010465Z",
     "shell.execute_reply.started": "2024-04-04T12:31:35.010459Z"
    }
   },
   "outputs": [],
   "source": [
    "dataJoined_subset_g = dataJoined_subset[dataJoined_subset[\"band\"] == \"g\"]\n",
    "dataJoined_subset_r = dataJoined_subset[dataJoined_subset[\"band\"] == \"r\"]\n",
    "dataJoined_subset_z = dataJoined_subset[dataJoined_subset[\"band\"] == \"z\"]\n",
    "dataJoined_subset_y = dataJoined_subset[dataJoined_subset[\"band\"] == \"y\"]"
   ]
  },
  {
   "cell_type": "code",
   "execution_count": null,
   "id": "83c30669-aa3f-47a1-b465-97c68808bc2f",
   "metadata": {
    "execution": {
     "iopub.status.busy": "2024-04-04T12:31:35.010984Z",
     "iopub.status.idle": "2024-04-04T12:31:35.011203Z",
     "shell.execute_reply": "2024-04-04T12:31:35.011129Z",
     "shell.execute_reply.started": "2024-04-04T12:31:35.011122Z"
    }
   },
   "outputs": [],
   "source": [
    "fig,axs = plt.subplots(1,3,figsize=(16,4))\n",
    "ax=axs[0]\n",
    "dataJoined_subset_g.plot.scatter(x=\"psfFlux\",y=\"gaussianFlux\",ax=ax,color=\"g\",marker=\"+\",lw=1,label=\"g\")\n",
    "dataJoined_subset_r.plot.scatter(x=\"psfFlux\",y=\"gaussianFlux\",ax=ax,color=\"r\",marker=\"+\",lw=1,label=\"r\")\n",
    "dataJoined_subset_z.plot.scatter(x=\"psfFlux\",y=\"gaussianFlux\",ax=ax,color=\"grey\",marker=\"+\",lw=0.5,label=\"z\")\n",
    "dataJoined_subset_y.plot.scatter(x=\"psfFlux\",y=\"gaussianFlux\",ax=ax,color=\"k\",marker=\"+\",lw=0.5,label=\"y\")\n",
    "ax.set_aspect(\"equal\")\n",
    "ax.set_xlim(0.,0.6e8)\n",
    "ax.set_ylim(0.,0.6e8)\n",
    "ax.set_title(\"Gaussian flux vs psf Flux (nanojanskys)\")\n",
    "ax.grid()\n",
    "\n",
    "ax=axs[1]\n",
    "dataJoined_subset_g.plot.scatter(x=\"psfFlux\",y=\"apFlux_35_0_instFlux\",ax=ax,color=\"g\",marker=\"+\",label=\"g\")\n",
    "dataJoined_subset_r.plot.scatter(x=\"psfFlux\",y=\"apFlux_35_0_instFlux\",ax=ax,color=\"r\",marker=\"+\",label=\"r\")\n",
    "dataJoined_subset_z.plot.scatter(x=\"psfFlux\",y=\"apFlux_35_0_instFlux\",ax=ax,color=\"grey\",marker=\"+\",label=\"z\")\n",
    "dataJoined_subset_y.plot.scatter(x=\"psfFlux\",y=\"apFlux_35_0_instFlux\",ax=ax,color=\"k\",marker=\"+\",label=\"y\")\n",
    "ax.set_aspect(\"auto\")\n",
    "ax.set_title(\"apFlux_35_0_instFlux flux (inst unit)  vs psf Flux (nanojanskys)\")\n",
    "ax.grid()\n",
    "\n",
    "ax=axs[2]\n",
    "dataJoined_subset_g.plot.scatter(x=\"psfFlux\",y=\"apFlux_35_0_calFlux\",ax=ax,color=\"g\",marker=\"+\",label=\"g\")\n",
    "dataJoined_subset_r.plot.scatter(x=\"psfFlux\",y=\"apFlux_35_0_calFlux\",ax=ax,color=\"r\",marker=\"+\",label=\"r\")\n",
    "dataJoined_subset_z.plot.scatter(x=\"psfFlux\",y=\"apFlux_35_0_calFlux\",ax=ax,color=\"grey\",marker=\"+\",lw=0.5,label=\"z\")\n",
    "dataJoined_subset_y.plot.scatter(x=\"psfFlux\",y=\"apFlux_35_0_calFlux\",ax=ax,color=\"k\",marker=\"+\",lw=0.5,label=\"y\")\n",
    "ax.set_aspect(\"equal\")\n",
    "ax.set_xlim(0.,0.6e8)\n",
    "ax.set_ylim(0.,0.6e8)\n",
    "ax.set_title(\"apFlux_35_0_calFlux flux vs psf Flux  (nanojanskys)\")\n",
    "ax.grid()\n"
   ]
  },
  {
   "cell_type": "code",
   "execution_count": null,
   "id": "f0f09ef0-bd31-4c55-bdf1-d8a41c8a0e25",
   "metadata": {
    "execution": {
     "iopub.status.busy": "2024-04-04T12:31:35.011857Z",
     "iopub.status.idle": "2024-04-04T12:31:35.012134Z",
     "shell.execute_reply": "2024-04-04T12:31:35.012056Z",
     "shell.execute_reply.started": "2024-04-04T12:31:35.012048Z"
    }
   },
   "outputs": [],
   "source": [
    "fig,axs = plt.subplots(1,2,figsize=(12,4))\n",
    "ax=axs[0]\n",
    "dataJoined_subset_g.plot.scatter(x=\"psfFlux\",y=\"psfFluxErr\",ax=ax,color=\"g\",marker=\"+\",lw=1,label=\"g\")\n",
    "dataJoined_subset_r.plot.scatter(x=\"psfFlux\",y=\"psfFluxErr\",ax=ax,color=\"r\",marker=\"+\",lw=1,label=\"r\")\n",
    "dataJoined_subset_z.plot.scatter(x=\"psfFlux\",y=\"psfFluxErr\",ax=ax,color=\"grey\",marker=\"+\",lw=0.5,label=\"z\")\n",
    "dataJoined_subset_y.plot.scatter(x=\"psfFlux\",y=\"psfFluxErr\",ax=ax,color=\"k\",marker=\"+\",lw=0.5,label=\"y\")\n",
    "ax.set_aspect(\"auto\")\n",
    "\n",
    "ax.set_title(\"psf flux error vs psf Flux (nanojanskys)\")\n",
    "ax.grid()\n",
    "\n",
    "ax=axs[1]\n",
    "dataJoined_subset_g.plot.scatter(x=\"psfMag\",y=\"psfMagErr\",ax=ax,color=\"g\",marker=\"+\",lw=1,label=\"g\")\n",
    "dataJoined_subset_r.plot.scatter(x=\"psfMag\",y=\"psfMagErr\",ax=ax,color=\"r\",marker=\"+\",lw=1,label=\"r\")\n",
    "dataJoined_subset_z.plot.scatter(x=\"psfMag\",y=\"psfMagErr\",ax=ax,color=\"grey\",marker=\"+\",lw=0.5,label=\"z\")\n",
    "dataJoined_subset_y.plot.scatter(x=\"psfMag\",y=\"psfMagErr\",ax=ax,color=\"k\",marker=\"+\",lw=0.5,label=\"y\")\n",
    "ax.set_aspect(\"auto\")\n",
    "\n",
    "ax.set_title(\"psf flux error vs psf Flux (AB Mag)\")\n",
    "ax.grid()\n",
    "\n",
    "plt.suptitle(\"All selected sources\")"
   ]
  },
  {
   "cell_type": "markdown",
   "id": "20803b60-fec5-4866-bb9a-d11755212532",
   "metadata": {},
   "source": [
    "## Statistics on Light Curves\n",
    "\n",
    "- want number of source per object"
   ]
  },
  {
   "cell_type": "code",
   "execution_count": null,
   "id": "c19e571b-b5bc-4d5a-a22c-3d6a06f3c011",
   "metadata": {
    "execution": {
     "iopub.status.busy": "2024-04-04T12:31:35.012534Z",
     "iopub.status.idle": "2024-04-04T12:31:35.012820Z",
     "shell.execute_reply": "2024-04-04T12:31:35.012742Z",
     "shell.execute_reply.started": "2024-04-04T12:31:35.012734Z"
    }
   },
   "outputs": [],
   "source": [
    "#my_list = list(dataJoined.columns)\n",
    "#for name in my_list:\n",
    "#    print(name)"
   ]
  },
  {
   "cell_type": "markdown",
   "id": "b3ae83c7-b49d-4cfa-ac0b-c623719ca27b",
   "metadata": {},
   "source": [
    "#### Compute pandas series with multi-label or series per color "
   ]
  },
  {
   "cell_type": "code",
   "execution_count": null,
   "id": "73b14c5a-0d1e-48eb-a167-e5a56f7e044b",
   "metadata": {
    "execution": {
     "iopub.status.busy": "2024-04-04T12:31:35.013229Z",
     "iopub.status.idle": "2024-04-04T12:31:35.013386Z",
     "shell.execute_reply": "2024-04-04T12:31:35.013310Z",
     "shell.execute_reply.started": "2024-04-04T12:31:35.013303Z"
    }
   },
   "outputs": [],
   "source": [
    "count_source_visit = dataJoined_subset.groupby(by=[\"obj_index\",\"band\"]).count()[\"visitId\"]\n",
    "size_source_visit = dataJoined_subset.groupby(by=[\"obj_index\",\"band\"]).size()\n",
    "count_source_visit_g = dataJoined_subset_g.groupby(by=[\"obj_index\"]).count()[\"sourceId\"]\n",
    "count_source_visit_r = dataJoined_subset_r.groupby(by=[\"obj_index\"]).count()[\"sourceId\"]\n",
    "count_source_visit_z = dataJoined_subset_z.groupby(by=[\"obj_index\"]).count()[\"sourceId\"]\n",
    "count_source_visit_y = dataJoined_subset_y.groupby(by=[\"obj_index\"]).count()[\"sourceId\"]\n",
    "size_source_visit_g = dataJoined_subset_g.groupby(by=[\"obj_index\"]).size()\n",
    "size_source_visit_r = dataJoined_subset_r.groupby(by=[\"obj_index\"]).size()\n",
    "size_source_visit_z = dataJoined_subset_z.groupby(by=[\"obj_index\"]).size()\n",
    "size_source_visit_y = dataJoined_subset_y.groupby(by=[\"obj_index\"]).size()"
   ]
  },
  {
   "cell_type": "code",
   "execution_count": null,
   "id": "a6f234f4-d399-462f-8537-e1a0b98de480",
   "metadata": {
    "execution": {
     "iopub.status.busy": "2024-04-04T12:31:35.013831Z",
     "iopub.status.idle": "2024-04-04T12:31:35.013973Z",
     "shell.execute_reply": "2024-04-04T12:31:35.013907Z",
     "shell.execute_reply.started": "2024-04-04T12:31:35.013901Z"
    }
   },
   "outputs": [],
   "source": [
    "fig,axs = plt.subplots(1,4,figsize=(16,3))\n",
    "ax=axs[0]\n",
    "size_source_visit_g.hist(bins=50,range=(0,51.),ax=ax,facecolor=\"g\",alpha=0.5,label=\"g\")\n",
    "ax.legend()\n",
    "ax=axs[1]\n",
    "size_source_visit_r.hist(bins=50,range=(0,51.),ax=ax,facecolor=\"r\",alpha=0.5,label=\"r\")\n",
    "ax.legend()\n",
    "ax=axs[2]\n",
    "size_source_visit_z.hist(bins=50,range=(0,51.),ax=ax,facecolor=\"grey\",alpha=0.5,label=\"z\")\n",
    "ax.legend()\n",
    "ax=axs[3]\n",
    "size_source_visit_y.hist(bins=50,range=(0,51.),ax=ax,facecolor=\"k\",alpha=0.5,label=\"y\")\n",
    "ax.legend()\n",
    "\n",
    "plt.suptitle(\"number of sources per object\")"
   ]
  },
  {
   "cell_type": "markdown",
   "id": "cfbec62c-c1ba-4be1-9cce-601292b3f20e",
   "metadata": {},
   "source": [
    "### Filtering the object using pandas series and dataframe"
   ]
  },
  {
   "cell_type": "markdown",
   "id": "d1bc7d9c-3351-4125-a00f-89d92ee784c3",
   "metadata": {},
   "source": [
    "#### Unstacking a multi-label pandas series into a dataframe"
   ]
  },
  {
   "cell_type": "code",
   "execution_count": null,
   "id": "f967b79e-1c4a-4a47-8f7d-53d73cf06150",
   "metadata": {
    "execution": {
     "iopub.status.busy": "2024-04-04T12:31:35.014597Z",
     "iopub.status.idle": "2024-04-04T12:31:35.014747Z",
     "shell.execute_reply": "2024-04-04T12:31:35.014675Z",
     "shell.execute_reply.started": "2024-04-04T12:31:35.014669Z"
    }
   },
   "outputs": [],
   "source": [
    "NMIN = 10. # minimum number of visit in Y band\n",
    "NBANDMIN = 4 # nimimum number of bands"
   ]
  },
  {
   "cell_type": "code",
   "execution_count": null,
   "id": "b5a055d7-eb37-449a-a3e7-28224ed1b75b",
   "metadata": {
    "execution": {
     "iopub.status.busy": "2024-04-04T12:31:35.015214Z",
     "iopub.status.idle": "2024-04-04T12:31:35.015362Z",
     "shell.execute_reply": "2024-04-04T12:31:35.015290Z",
     "shell.execute_reply.started": "2024-04-04T12:31:35.015284Z"
    }
   },
   "outputs": [],
   "source": [
    "size_source_visit "
   ]
  },
  {
   "cell_type": "markdown",
   "id": "3bfe92e6-fbce-4a32-bd7a-9e0c31b6c0ed",
   "metadata": {},
   "source": [
    "#### Select the object having at least NYMIN visit in band Y\n",
    "\n",
    "- however it is useless, the selection will be done on pandas dataframe from unstacked series"
   ]
  },
  {
   "cell_type": "code",
   "execution_count": null,
   "id": "a391ac56-8d9e-4429-9759-ab739caf86f6",
   "metadata": {
    "execution": {
     "iopub.status.busy": "2024-04-04T12:31:35.015821Z",
     "iopub.status.idle": "2024-04-04T12:31:35.016047Z",
     "shell.execute_reply": "2024-04-04T12:31:35.015969Z",
     "shell.execute_reply.started": "2024-04-04T12:31:35.015961Z"
    }
   },
   "outputs": [],
   "source": [
    "cut_NY = size_source_visit[:,'y']  >= NMIN\n",
    "cut_NY"
   ]
  },
  {
   "cell_type": "code",
   "execution_count": null,
   "id": "cd7de923-1a7e-4cfb-81e0-1c93348bd231",
   "metadata": {
    "execution": {
     "iopub.status.busy": "2024-04-04T12:31:35.016514Z",
     "iopub.status.idle": "2024-04-04T12:31:35.016655Z",
     "shell.execute_reply": "2024-04-04T12:31:35.016588Z",
     "shell.execute_reply.started": "2024-04-04T12:31:35.016582Z"
    }
   },
   "outputs": [],
   "source": [
    "size_source_visit_unstacked = size_source_visit.unstack()\n",
    "size_source_visit_unstacked "
   ]
  },
  {
   "cell_type": "markdown",
   "id": "d45d475f-74a4-4e10-a158-360840a2ac19",
   "metadata": {},
   "source": [
    "#### Apply the selection on the pandas series"
   ]
  },
  {
   "cell_type": "code",
   "execution_count": null,
   "id": "3ec00874-3a78-4b6e-be43-3a1bb0b1629d",
   "metadata": {
    "execution": {
     "iopub.status.busy": "2024-04-04T12:31:35.017088Z",
     "iopub.status.idle": "2024-04-04T12:31:35.017231Z",
     "shell.execute_reply": "2024-04-04T12:31:35.017163Z",
     "shell.execute_reply.started": "2024-04-04T12:31:35.017157Z"
    }
   },
   "outputs": [],
   "source": [
    "cut_on_size_in_bands = (size_source_visit_unstacked.y>= NMIN) & (size_source_visit_unstacked.g>= NMIN) & (size_source_visit_unstacked.r>= NMIN) & (size_source_visit_unstacked.z>= NMIN) \n",
    "\n",
    "size_source_visit_unstacked = size_source_visit_unstacked[cut_on_size_in_bands ] \n",
    "size_source_visit_unstacked"
   ]
  },
  {
   "cell_type": "code",
   "execution_count": null,
   "id": "e5a3d2c1-b78c-47e3-af6a-693405d3b2f2",
   "metadata": {
    "execution": {
     "iopub.status.busy": "2024-04-04T12:31:35.017741Z",
     "iopub.status.idle": "2024-04-04T12:31:35.017882Z",
     "shell.execute_reply": "2024-04-04T12:31:35.017816Z",
     "shell.execute_reply.started": "2024-04-04T12:31:35.017809Z"
    }
   },
   "outputs": [],
   "source": [
    "len(size_source_visit_unstacked)"
   ]
  },
  {
   "cell_type": "markdown",
   "id": "eb0fe52a-c01d-491d-a3fd-26879ba12a13",
   "metadata": {},
   "source": [
    "#### Dropping the object not having a visit in all bands on the pandas dataframe from unstacked series"
   ]
  },
  {
   "cell_type": "code",
   "execution_count": null,
   "id": "42e57013-68f0-4cc2-ba1f-b72ee4f0f038",
   "metadata": {
    "execution": {
     "iopub.status.busy": "2024-04-04T12:31:35.018420Z",
     "iopub.status.idle": "2024-04-04T12:31:35.018568Z",
     "shell.execute_reply": "2024-04-04T12:31:35.018496Z",
     "shell.execute_reply.started": "2024-04-04T12:31:35.018490Z"
    }
   },
   "outputs": [],
   "source": [
    "size_source_visit_selected =size_source_visit_unstacked.dropna(axis=0,how='any') \n",
    "size_source_visit_selected"
   ]
  },
  {
   "cell_type": "markdown",
   "id": "1da39da2-a37a-4545-afef-8895260489fc",
   "metadata": {},
   "source": [
    "#### Restack the pandas dataframe into a pandas series with multi-label"
   ]
  },
  {
   "cell_type": "code",
   "execution_count": null,
   "id": "33ef938b-20e3-498e-a82b-eb66e2557b0a",
   "metadata": {
    "execution": {
     "iopub.status.busy": "2024-04-04T12:31:35.018870Z",
     "iopub.status.idle": "2024-04-04T12:31:35.019006Z",
     "shell.execute_reply": "2024-04-04T12:31:35.018942Z",
     "shell.execute_reply.started": "2024-04-04T12:31:35.018937Z"
    }
   },
   "outputs": [],
   "source": [
    "ser_size_source_visit_selected = size_source_visit_selected.stack()\n",
    "ser_size_source_visit_selected "
   ]
  },
  {
   "cell_type": "markdown",
   "id": "bcd3aadb-e004-4f7e-9a0a-7713295ac7ab",
   "metadata": {},
   "source": [
    "#### Extract the list of selected objects from the pandas dataframe (from unstacked series)"
   ]
  },
  {
   "cell_type": "code",
   "execution_count": null,
   "id": "fc80afc0-1ff3-44ed-9a3f-6676db5cb7a5",
   "metadata": {
    "execution": {
     "iopub.status.busy": "2024-04-04T12:31:35.019451Z",
     "iopub.status.idle": "2024-04-04T12:31:35.019595Z",
     "shell.execute_reply": "2024-04-04T12:31:35.019525Z",
     "shell.execute_reply.started": "2024-04-04T12:31:35.019519Z"
    }
   },
   "outputs": [],
   "source": [
    "selected_objects_indexes = list(size_source_visit_selected.index)\n",
    "print(selected_objects_indexes)"
   ]
  },
  {
   "cell_type": "code",
   "execution_count": null,
   "id": "521bf9a7-7385-47a6-8244-3a60a0322918",
   "metadata": {
    "execution": {
     "iopub.status.busy": "2024-04-04T12:31:35.020189Z",
     "iopub.status.idle": "2024-04-04T12:31:35.020333Z",
     "shell.execute_reply": "2024-04-04T12:31:35.020262Z",
     "shell.execute_reply.started": "2024-04-04T12:31:35.020257Z"
    }
   },
   "outputs": [],
   "source": [
    "#ser_size_source_visit_selected.keys() "
   ]
  },
  {
   "cell_type": "markdown",
   "id": "e830143b-4aa9-439a-ac31-923add461a76",
   "metadata": {},
   "source": [
    "#### Loop on keys multi-label in pandas series"
   ]
  },
  {
   "cell_type": "code",
   "execution_count": null,
   "id": "bcf7c00d-0cc9-407a-b5ac-691272a29447",
   "metadata": {
    "execution": {
     "iopub.status.busy": "2024-04-04T12:31:35.020861Z",
     "iopub.status.idle": "2024-04-04T12:31:35.021124Z",
     "shell.execute_reply": "2024-04-04T12:31:35.021048Z",
     "shell.execute_reply.started": "2024-04-04T12:31:35.021041Z"
    }
   },
   "outputs": [],
   "source": [
    "#for name,group in dataJoined_subset.groupby(by=[\"obj_index\",\"band\"]):\n",
    "#    print(\"name = \",name)\n",
    "#    print(\"group = \",group[\"visitId\"])"
   ]
  },
  {
   "cell_type": "code",
   "execution_count": null,
   "id": "d1c8439c-8f88-4265-bd7f-49f3ee7077d9",
   "metadata": {
    "execution": {
     "iopub.status.busy": "2024-04-04T12:31:35.021858Z",
     "iopub.status.idle": "2024-04-04T12:31:35.022173Z",
     "shell.execute_reply": "2024-04-04T12:31:35.022096Z",
     "shell.execute_reply.started": "2024-04-04T12:31:35.022088Z"
    }
   },
   "outputs": [],
   "source": [
    "#for (idx,band),val in count_source_visit:\n",
    "#    print(idx,band,val)"
   ]
  },
  {
   "cell_type": "markdown",
   "id": "073a5473-4179-4595-ba98-f7394b85fd2f",
   "metadata": {},
   "source": [
    "### Plot the SED with psf Flux"
   ]
  },
  {
   "cell_type": "code",
   "execution_count": null,
   "id": "bbec56ff-0bc4-4495-9258-ec70c6f0b755",
   "metadata": {
    "execution": {
     "iopub.status.busy": "2024-04-04T12:31:35.022577Z",
     "iopub.status.idle": "2024-04-04T12:31:35.022864Z",
     "shell.execute_reply": "2024-04-04T12:31:35.022787Z",
     "shell.execute_reply.started": "2024-04-04T12:31:35.022779Z"
    }
   },
   "outputs": [],
   "source": [
    "df_obj_sed = pd.DataFrame(columns=['idx_obj', 'ra', 'dec','magG', 'magR','magZ','magY'])\n",
    "\n",
    "icnt =0\n",
    "#for idx_obj_sel in selected_objects_ind:\n",
    "for idx_obj_sel in [120]:\n",
    "    cut_sel_object = dataJoined_subset.obj_index == idx_obj_sel \n",
    "    isolatedStarSources_sel = dataJoined_subset[cut_sel_object] \n",
    "\n",
    "    isolatedStarSources_sel_g = isolatedStarSources_sel[isolatedStarSources_sel[\"band\"] == \"g\"]\n",
    "    isolatedStarSources_sel_r = isolatedStarSources_sel[isolatedStarSources_sel[\"band\"] == \"r\"]\n",
    "    isolatedStarSources_sel_z = isolatedStarSources_sel[isolatedStarSources_sel[\"band\"] == \"z\"]\n",
    "    isolatedStarSources_sel_y = isolatedStarSources_sel[isolatedStarSources_sel[\"band\"] == \"y\"]\n",
    "\n",
    "    ra = isolatedStarSources_sel_g['ra'].mean()\n",
    "    dec = isolatedStarSources_sel_g['dec'].mean()\n",
    "    \n",
    "    df_obj_sed.loc[icnt] = [idx_obj_sel,ra,dec,\n",
    "                             isolatedStarSources_sel_g['psfMag'].median(),\n",
    "                             isolatedStarSources_sel_r['psfMag'].median(),   \n",
    "                             isolatedStarSources_sel_z['psfMag'].median(),\n",
    "                             isolatedStarSources_sel_y['psfMag'].median()]\n",
    "\n",
    "    icnt +=1\n",
    "\n",
    "    fig,axes = plt.subplots(1,4,figsize=(10,3))\n",
    "    axs= axes.flatten()\n",
    "    for idx,ax in enumerate(axs):\n",
    "        if idx==0:\n",
    "            print(len(isolatedStarSources_sel_g[\"psfFlux\"]))\n",
    "            isolatedStarSources_sel_g[\"psfFlux\"].hist(bins=100,facecolor=\"g\",ax=ax, orientation=\"horizontal\")\n",
    "            #isolatedStarSources_sel_g[\"psfFlux\"].hist(bins=100,facecolor=\"g\",ax=ax)\n",
    "            ax.legend(\"g\")\n",
    "            ax.set_ylabel(\"psfFlux (nanoJansky)\")\n",
    "        elif idx==1:\n",
    "            isolatedStarSources_sel_r[\"psfFlux\"].hist(bins=40,facecolor=\"r\",ax=ax, orientation=\"horizontal\")\n",
    "            ax.legend(\"r\")\n",
    "        elif idx==2:\n",
    "            isolatedStarSources_sel_z[\"psfFlux\"].hist(bins=40,facecolor=\"grey\",ax=ax, orientation=\"horizontal\")\n",
    "            ax.legend(\"z\")\n",
    "        elif idx==3:\n",
    "            isolatedStarSources_sel_y[\"psfFlux\"].hist(bins=40,facecolor=\"k\",ax=ax, orientation=\"horizontal\")\n",
    "            ax.legend(\"y\")\n",
    "    plt.tight_layout(h_pad=0)  \n",
    "    title =f\"object {idx_obj_sel}\"\n",
    "    filename = f\"sed_color_flux_obj_{idx_obj_sel}.png\"\n",
    "    plt.suptitle(title,y=1.000)\n",
    "    plt.savefig(filename)\n",
    "    plt.show()"
   ]
  },
  {
   "cell_type": "code",
   "execution_count": null,
   "id": "add5b591-9a69-4f84-8844-175bfc12eb4d",
   "metadata": {
    "execution": {
     "iopub.status.busy": "2024-04-04T12:31:35.023291Z",
     "iopub.status.idle": "2024-04-04T12:31:35.023540Z",
     "shell.execute_reply": "2024-04-04T12:31:35.023462Z",
     "shell.execute_reply.started": "2024-04-04T12:31:35.023454Z"
    }
   },
   "outputs": [],
   "source": [
    "df_obj_sed = pd.DataFrame(columns=['idx_obj', 'ra', 'dec','magG', 'magR','magZ','magY'])\n",
    "\n",
    "icnt =0\n",
    "#for idx_obj_sel in selected_objects_ind:\n",
    "for idx_obj_sel in [120]:\n",
    "    cut_sel_object = dataJoined_subset.obj_index == idx_obj_sel \n",
    "    isolatedStarSources_sel = dataJoined_subset[cut_sel_object] \n",
    "\n",
    "    isolatedStarSources_sel_g = isolatedStarSources_sel[isolatedStarSources_sel[\"band\"] == \"g\"]\n",
    "    isolatedStarSources_sel_r = isolatedStarSources_sel[isolatedStarSources_sel[\"band\"] == \"r\"]\n",
    "    isolatedStarSources_sel_z = isolatedStarSources_sel[isolatedStarSources_sel[\"band\"] == \"z\"]\n",
    "    isolatedStarSources_sel_y = isolatedStarSources_sel[isolatedStarSources_sel[\"band\"] == \"y\"]\n",
    "\n",
    "    ra = isolatedStarSources_sel_g['ra'].mean()\n",
    "    dec = isolatedStarSources_sel_g['dec'].mean()\n",
    "    \n",
    "    df_obj_sed.loc[icnt] = [idx_obj_sel,ra,dec,\n",
    "                             isolatedStarSources_sel_g['psfMag'].median(),\n",
    "                             isolatedStarSources_sel_r['psfMag'].median(),   \n",
    "                             isolatedStarSources_sel_z['psfMag'].median(),\n",
    "                             isolatedStarSources_sel_y['psfMag'].median()]\n",
    "\n",
    "    icnt +=1\n",
    "\n",
    "    fig,axes = plt.subplots(1,4,figsize=(10,3))\n",
    "    axs= axes.flatten()\n",
    "    for idx,ax in enumerate(axs):\n",
    "        if idx==0:\n",
    "           \n",
    "            isolatedStarSources_sel_g[\"psfMag\"].hist(bins=100,facecolor=\"g\",ax=ax, orientation=\"horizontal\")\n",
    "            #isolatedStarSources_sel_g[\"psfFlux\"].hist(bins=100,facecolor=\"g\",ax=ax)\n",
    "            ax.legend(\"g\")\n",
    "            ax.set_ylabel(\"psfMag (AB)\")\n",
    "        elif idx==1:\n",
    "            isolatedStarSources_sel_r[\"psfMag\"].hist(bins=40,facecolor=\"r\",ax=ax, orientation=\"horizontal\")\n",
    "            ax.legend(\"r\")\n",
    "        elif idx==2:\n",
    "            isolatedStarSources_sel_z[\"psfMag\"].hist(bins=40,facecolor=\"grey\",ax=ax, orientation=\"horizontal\")\n",
    "            ax.legend(\"z\")\n",
    "        elif idx==3:\n",
    "            isolatedStarSources_sel_y[\"psfMag\"].hist(bins=40,facecolor=\"k\",ax=ax, orientation=\"horizontal\")\n",
    "            ax.legend(\"y\")\n",
    "    plt.tight_layout(h_pad=0)  \n",
    "    title =f\"object {idx_obj_sel}\"\n",
    "    filename = f\"sed_color_flux_obj_{idx_obj_sel}.png\"\n",
    "    plt.suptitle(title,y=1.000)\n",
    "    plt.savefig(filename)\n",
    "    plt.show()"
   ]
  },
  {
   "cell_type": "code",
   "execution_count": null,
   "id": "17472138-168b-4184-9159-dc75af412732",
   "metadata": {
    "execution": {
     "iopub.status.busy": "2024-04-04T12:31:35.023880Z",
     "iopub.status.idle": "2024-04-04T12:31:35.024022Z",
     "shell.execute_reply": "2024-04-04T12:31:35.023955Z",
     "shell.execute_reply.started": "2024-04-04T12:31:35.023949Z"
    }
   },
   "outputs": [],
   "source": [
    " isolatedStarSources_sel_g[\"psfFlux\"].hist(bins=40,facecolor=\"g\")"
   ]
  },
  {
   "cell_type": "code",
   "execution_count": null,
   "id": "9ab0e660-d8dc-4ced-bfe1-166efbaedce3",
   "metadata": {
    "execution": {
     "iopub.status.busy": "2024-04-04T12:31:35.024662Z",
     "iopub.status.idle": "2024-04-04T12:31:35.024807Z",
     "shell.execute_reply": "2024-04-04T12:31:35.024738Z",
     "shell.execute_reply.started": "2024-04-04T12:31:35.024732Z"
    }
   },
   "outputs": [],
   "source": [
    "isolatedStarSources_sel_g[\"psfFlux\"]"
   ]
  },
  {
   "cell_type": "code",
   "execution_count": null,
   "id": "b0d4f59d-51f7-462d-9ca5-2d8c5630f6eb",
   "metadata": {
    "execution": {
     "iopub.status.busy": "2024-04-04T12:31:35.025356Z",
     "iopub.status.idle": "2024-04-04T12:31:35.025518Z",
     "shell.execute_reply": "2024-04-04T12:31:35.025447Z",
     "shell.execute_reply.started": "2024-04-04T12:31:35.025440Z"
    }
   },
   "outputs": [],
   "source": [
    "#isolatedStarSources_sel \n",
    "isolatedStarSources_sel_g"
   ]
  },
  {
   "cell_type": "code",
   "execution_count": null,
   "id": "4fd18396-2faf-49f8-8e77-bdd6e8585832",
   "metadata": {
    "execution": {
     "iopub.status.busy": "2024-04-04T12:31:35.025944Z",
     "iopub.status.idle": "2024-04-04T12:31:35.026192Z",
     "shell.execute_reply": "2024-04-04T12:31:35.026117Z",
     "shell.execute_reply.started": "2024-04-04T12:31:35.026108Z"
    }
   },
   "outputs": [],
   "source": [
    "#diagramme magnitude Z vs couleur (Z-Y) et voir l’étalement de\n",
    "#la séquence principale, et peut-être la branche des géantes rouges."
   ]
  },
  {
   "cell_type": "code",
   "execution_count": null,
   "id": "5db7c1e2-b91b-4d13-9e95-c33b9cad26c1",
   "metadata": {
    "execution": {
     "iopub.status.busy": "2024-04-04T12:31:35.026738Z",
     "iopub.status.idle": "2024-04-04T12:31:35.026886Z",
     "shell.execute_reply": "2024-04-04T12:31:35.026818Z",
     "shell.execute_reply.started": "2024-04-04T12:31:35.026812Z"
    }
   },
   "outputs": [],
   "source": [
    "Nobj = len(df_obj_sed)\n",
    "import seaborn as sns\n",
    "from matplotlib.colors import ListedColormap\n",
    "color_palette = sns.color_palette(\"hls\", Nobj)"
   ]
  },
  {
   "cell_type": "code",
   "execution_count": null,
   "id": "6b27d75d-c3d3-4b66-b1da-47578fab73e1",
   "metadata": {
    "execution": {
     "iopub.status.busy": "2024-04-04T12:31:35.027407Z",
     "iopub.status.idle": "2024-04-04T12:31:35.027553Z",
     "shell.execute_reply": "2024-04-04T12:31:35.027484Z",
     "shell.execute_reply.started": "2024-04-04T12:31:35.027477Z"
    }
   },
   "outputs": [],
   "source": [
    "color_palette"
   ]
  },
  {
   "cell_type": "code",
   "execution_count": null,
   "id": "2d5823d5-a75c-4034-b401-23df5c27b5ea",
   "metadata": {
    "execution": {
     "iopub.status.busy": "2024-04-04T12:31:35.028048Z",
     "iopub.status.idle": "2024-04-04T12:31:35.028192Z",
     "shell.execute_reply": "2024-04-04T12:31:35.028122Z",
     "shell.execute_reply.started": "2024-04-04T12:31:35.028116Z"
    }
   },
   "outputs": [],
   "source": [
    "mpl_colors = ListedColormap(sns.color_palette(color_palette).as_hex())"
   ]
  },
  {
   "cell_type": "code",
   "execution_count": null,
   "id": "7ac7f6f5-585c-4c73-b53b-53ccaa172641",
   "metadata": {
    "execution": {
     "iopub.status.busy": "2024-04-04T12:31:35.028591Z",
     "iopub.status.idle": "2024-04-04T12:31:35.028731Z",
     "shell.execute_reply": "2024-04-04T12:31:35.028665Z",
     "shell.execute_reply.started": "2024-04-04T12:31:35.028659Z"
    }
   },
   "outputs": [],
   "source": [
    "mpl_colors.colors"
   ]
  },
  {
   "cell_type": "code",
   "execution_count": null,
   "id": "d5692e81-b2f2-4a97-b405-2dc1fad7602b",
   "metadata": {
    "execution": {
     "iopub.status.busy": "2024-04-04T12:31:35.029228Z",
     "iopub.status.idle": "2024-04-04T12:31:35.029372Z",
     "shell.execute_reply": "2024-04-04T12:31:35.029303Z",
     "shell.execute_reply.started": "2024-04-04T12:31:35.029296Z"
    }
   },
   "outputs": [],
   "source": [
    "df_obj_sed[\"Z-Y\"] = df_obj_sed[\"magZ\"] - df_obj_sed[\"magY\"] \n",
    "df_obj_sed[\"G-R\"] = df_obj_sed[\"magG\"] - df_obj_sed[\"magR\"] "
   ]
  },
  {
   "cell_type": "code",
   "execution_count": null,
   "id": "d68d30f4-61d6-4f7b-b212-4b53209b679f",
   "metadata": {
    "execution": {
     "iopub.status.busy": "2024-04-04T12:31:35.029911Z",
     "iopub.status.idle": "2024-04-04T12:31:35.030059Z",
     "shell.execute_reply": "2024-04-04T12:31:35.029988Z",
     "shell.execute_reply.started": "2024-04-04T12:31:35.029982Z"
    }
   },
   "outputs": [],
   "source": [
    "fig,axs = plt.subplots(1,2,figsize=(14,4))\n",
    "\n",
    "ax=axs[0]\n",
    "df_obj_sed.plot.scatter(y=\"magR\",x=\"G-R\",ax=ax,color=mpl_colors.colors)\n",
    "ax.invert_yaxis()\n",
    "\n",
    "\n",
    "ax=axs[1]\n",
    "df_obj_sed.plot.scatter(y=\"magZ\",x=\"Z-Y\",ax=ax,color=mpl_colors.colors)\n",
    "ax.invert_yaxis()\n",
    "\n",
    "plt.suptitle(f\"isolated sources-objects in tract {tract}\")"
   ]
  },
  {
   "cell_type": "code",
   "execution_count": null,
   "id": "4086ca39-6d6a-4f67-8e80-04c13740fc67",
   "metadata": {
    "execution": {
     "iopub.status.busy": "2024-04-04T12:31:35.030587Z",
     "iopub.status.idle": "2024-04-04T12:31:35.030736Z",
     "shell.execute_reply": "2024-04-04T12:31:35.030665Z",
     "shell.execute_reply.started": "2024-04-04T12:31:35.030658Z"
    }
   },
   "outputs": [],
   "source": [
    "df_obj_sed.to_csv(f\"isolated_source_objects_tract{tract}.csv\")"
   ]
  },
  {
   "cell_type": "code",
   "execution_count": null,
   "id": "87802c64-d426-4077-9dfc-e35883360b95",
   "metadata": {
    "execution": {
     "iopub.status.busy": "2024-04-04T12:31:35.031162Z",
     "iopub.status.idle": "2024-04-04T12:31:35.031314Z",
     "shell.execute_reply": "2024-04-04T12:31:35.031244Z",
     "shell.execute_reply.started": "2024-04-04T12:31:35.031237Z"
    }
   },
   "outputs": [],
   "source": [
    "assert False"
   ]
  },
  {
   "cell_type": "code",
   "execution_count": null,
   "id": "11576fee-3e24-4e51-b4ac-688c3d89df98",
   "metadata": {
    "execution": {
     "iopub.status.busy": "2024-04-04T12:31:35.031940Z",
     "iopub.status.idle": "2024-04-04T12:31:35.032092Z",
     "shell.execute_reply": "2024-04-04T12:31:35.032018Z",
     "shell.execute_reply.started": "2024-04-04T12:31:35.032011Z"
    }
   },
   "outputs": [],
   "source": [
    "count_source_visit.hist(x=\"obj_index\")"
   ]
  },
  {
   "cell_type": "code",
   "execution_count": null,
   "id": "35764ce1-db3e-4b8f-8d21-e7fd0cc2c18a",
   "metadata": {
    "execution": {
     "iopub.status.busy": "2024-04-04T12:31:35.032624Z",
     "iopub.status.idle": "2024-04-04T12:31:35.032770Z",
     "shell.execute_reply": "2024-04-04T12:31:35.032700Z",
     "shell.execute_reply.started": "2024-04-04T12:31:35.032693Z"
    }
   },
   "outputs": [],
   "source": [
    "count_sources = dataJoined.groupby(by=\"obj_index\").count()[\"psfFlux\"]"
   ]
  },
  {
   "cell_type": "code",
   "execution_count": null,
   "id": "013af9ce-6c4c-4a16-8a35-f8134653047c",
   "metadata": {
    "execution": {
     "iopub.status.busy": "2024-04-04T12:31:35.033289Z",
     "iopub.status.idle": "2024-04-04T12:31:35.033444Z",
     "shell.execute_reply": "2024-04-04T12:31:35.033363Z",
     "shell.execute_reply.started": "2024-04-04T12:31:35.033357Z"
    }
   },
   "outputs": [],
   "source": [
    "count_source.hist(bins=100,range=(0,100))"
   ]
  },
  {
   "cell_type": "code",
   "execution_count": null,
   "id": "a78afede-1f63-495a-91c8-e2d7cdb03cc2",
   "metadata": {
    "execution": {
     "iopub.status.busy": "2024-04-04T12:31:35.033978Z",
     "iopub.status.idle": "2024-04-04T12:31:35.034125Z",
     "shell.execute_reply": "2024-04-04T12:31:35.034054Z",
     "shell.execute_reply.started": "2024-04-04T12:31:35.034048Z"
    }
   },
   "outputs": [],
   "source": [
    "assert False"
   ]
  },
  {
   "cell_type": "markdown",
   "id": "ff1674f7-8145-4af4-ae81-3739972e9d28",
   "metadata": {},
   "source": [
    "## Plot the per object source "
   ]
  },
  {
   "cell_type": "code",
   "execution_count": null,
   "id": "f926e051",
   "metadata": {
    "execution": {
     "iopub.status.busy": "2024-04-04T12:31:35.034726Z",
     "iopub.status.idle": "2024-04-04T12:31:35.034871Z",
     "shell.execute_reply": "2024-04-04T12:31:35.034804Z",
     "shell.execute_reply.started": "2024-04-04T12:31:35.034798Z"
    }
   },
   "outputs": [],
   "source": [
    "fig, ax = plt.subplots(1, 1, figsize=(8,6))\n",
    "ax.set_title(\"{}\\n{} {} (max visit: {})\".format(collection, tract, band, max(dataJoined[\"visit\"])), fontsize=8)\n",
    "nBins = 16 if len(dataJoined) < 4000 else 100\n",
    "histData = psfMagStdMmagAll\n",
    "xLabelStr = \"std(psfFlux - psfFluxMean) ({} mmag)\".format(band)\n",
    "medianPsfFluxStd = np.median(histData)\n",
    "n, bins, patches = ax.hist(histData, bins=nBins, density=True, histtype=\"step\", lw=2, label=\"data (N = {})\".format(len(histData)))\n",
    "ax.axvline(x=medianPsfFluxStd, color=\"gray\", linestyle='--', linewidth=1, label=\"median: {:.2f}\".format(medianPsfFluxStd))\n",
    "\n",
    "ax.tick_params(labelsize=7)\n",
    "ax.set_xlabel(xLabelStr, fontsize=9)\n",
    "ax.set_ylabel(\"Normalized (PDF)\".format(band), fontsize=9)\n",
    "\n",
    "ax.legend(fontsize=8)\n",
    "if doSaveFigs:\n",
    "    filename = \"{}psfFluxStdHist_{}_{}_{}\".format(saveDir, tract, band, collectionStr)\n",
    "    print(\"Saving file in: {}\".format(filename))\n",
    "    fig.savefig(filename, dpi=150)"
   ]
  },
  {
   "cell_type": "code",
   "execution_count": null,
   "id": "c92d2c6a",
   "metadata": {
    "execution": {
     "iopub.status.busy": "2024-04-04T12:31:35.035313Z",
     "iopub.status.idle": "2024-04-04T12:31:35.035469Z",
     "shell.execute_reply": "2024-04-04T12:31:35.035397Z",
     "shell.execute_reply.started": "2024-04-04T12:31:35.035390Z"
    }
   },
   "outputs": [],
   "source": [
    "fig, ax = plt.subplots(1, 1, figsize=(8,6))\n",
    "ax.set_title(\"{}\\n{} {} (max visit: {})\".format(collection, tract, band, max(dataJoined[\"visit\"])), fontsize=8)\n",
    "\n",
    "medianRaStd = np.median(raStdMasAll)\n",
    "n, bins, patches = ax.hist(raStdMasAll, bins=nBins, density=True, histtype=\"step\", color=\"tab:blue\", lw=2, label=\"RA (N = {})\".format(len(raStdMasAll)))\n",
    "\n",
    "medianDecStd = np.median(decStdMasAll)\n",
    "n, bins, patches = ax.hist(decStdMasAll, bins=nBins, density=True, histtype=\"step\", color=\"tab:orange\", lw=2, label=\"Dec (N = {})\".format(len(decStdMasAll)))\n",
    "\n",
    "medianRaCosDecStd = np.median(raCosDecStdMasAll)\n",
    "n, bins, patches = ax.hist(raCosDecStdMasAll, bins=nBins, density=True, histtype=\"step\", color=\"tab:green\", lw=2, label=\"RA*cos(Dec) (N = {})\".format(len(raCosDecStdMasAll)))\n",
    "\n",
    "ax.axvline(x=medianRaStd, linestyle='--', color=\"tab:blue\", linewidth=1, label=\"median: {:.2f} (mas)\".format(medianRaStd))\n",
    "ax.axvline(x=medianDecStd, linestyle='--', color=\"tab:orange\", linewidth=1, label=\"median: {:.2f} (mas)\".format(medianDecStd))\n",
    "ax.axvline(x=medianRaCosDecStd, linestyle='--', color=\"tab:green\", linewidth=1, label=\"median: {:.2f} (mas)\".format(medianRaCosDecStd))\n",
    "\n",
    "\n",
    "ax.tick_params(labelsize=7)\n",
    "ax.set_xlabel(\"std(value - valueMean) ({} mas)\".format(band), fontsize=9)\n",
    "ax.set_ylabel(\"Normalized (PDF)\".format(band), fontsize=9)\n",
    "\n",
    "# ax.set_xlim(0, 400)\n",
    "ax.legend(fontsize=8)\n",
    "if doSaveFigs:\n",
    "    filename = \"{}RaDecStdHist_{}_{}_{}\".format(saveDir, tract, band, collectionStr)\n",
    "    print(\"Saving file in: {}\".format(filename))\n",
    "    fig.savefig(filename, dpi=150)"
   ]
  },
  {
   "cell_type": "code",
   "execution_count": null,
   "id": "afa47871",
   "metadata": {
    "execution": {
     "iopub.status.busy": "2024-04-04T12:31:35.035988Z",
     "iopub.status.idle": "2024-04-04T12:31:35.036140Z",
     "shell.execute_reply": "2024-04-04T12:31:35.036064Z",
     "shell.execute_reply.started": "2024-04-04T12:31:35.036058Z"
    }
   },
   "outputs": [],
   "source": [
    "fig, (ax1, ax2) = plt.subplots(1, 2, figsize=(10,4))\n",
    "# ax.set_title(\"{} {} {}\".format(collection, tract, band), fontsize=8)\n",
    "fig.suptitle(\"{}\\n{} {} (max visit: {})\".format(collection, tract, band, max(dataJoined[\"visit\"])),\n",
    "             fontsize=10, y=0.98)\n",
    "ax1.axvline(x=0.0, color=\"gray\", linestyle='--', linewidth=1)\n",
    "\n",
    "n, bins, patches = ax1.hist(dataJoined[\"psfMagDiffMmag\"], bins=2*nBins, density=True, histtype=\"step\", lw=2, label=\"data\")\n",
    "\n",
    "# Gaussian fit of all data\n",
    "(mu, sigma) = scipy.stats.norm.fit(dataJoined[\"psfMagDiffMmag\"])\n",
    "yFit = scipy.stats.norm.pdf(bins, mu, sigma)\n",
    "ax1.plot(bins, yFit, \"--\", lw=1, fillstyle=\"full\",\n",
    "        label=\"Gaussian fit all\\n(N={}) \\n$\\mu$={:.2f} (mmag)\\n$\\sigma$={:.2f}(mmag)\".format(len(dataJoined), mu, sigma))\n",
    "ax1.fill_between(bins, yFit, alpha=0.2)\n",
    "\n",
    "# Gassian fit of 3-sigma clipped data\n",
    "clippedDiffArray = scipy.stats.sigmaclip(dataJoined[\"psfMagDiffMmag\"], low=3.0, high=3.0).clipped\n",
    "\n",
    "(muClipped, sigmaClipped) = scipy.stats.norm.fit(clippedDiffArray)\n",
    "yFitClipped = scipy.stats.norm.pdf(bins, muClipped, sigmaClipped)\n",
    "ax1.plot(bins, yFitClipped, \"--\", lw=1, fillstyle=\"full\",\n",
    "        label=\"3-$\\sigma$-clipped\\n(N={}) \\n$\\mu$={:.2f} (mmag) \\n$\\sigma$={:.2f}(mmag)\".format(len(clippedDiffArray), muClipped, sigmaClipped))\n",
    "ax1.fill_between(bins, yFitClipped, alpha=0.2)\n",
    "\n",
    "ax1.tick_params(labelsize=7)\n",
    "ax1.set_xlabel(\"psfFlux - psfFluxMean ({} mmag)\".format(band), fontsize=9)\n",
    "ax1.set_ylabel(\"Normalized (PDF)\".format(band), fontsize=9)\n",
    "\n",
    "ax1.set_xlim(-400, 400)\n",
    "ax1.legend(fontsize=8)\n",
    "\n",
    "# Plot chi histogram\n",
    "ax2.axvline(x=0.0, color=\"gray\", linestyle='--', linewidth=1)\n",
    "n, bins, patches = ax2.hist(dataJoined[\"psfMagDiffChi\"], bins=2*nBins, density=True, histtype=\"step\", lw=2, label=\"data\")\n",
    "\n",
    "# Gaussian fit of all data\n",
    "(mu, sigma) = scipy.stats.norm.fit(dataJoined[\"psfMagDiffChi\"])\n",
    "yFit = scipy.stats.norm.pdf(bins, mu, sigma)\n",
    "ax2.plot(bins, yFit, \"--\", lw=1, fillstyle=\"full\",\n",
    "        label=\"Gaussian fit all\\n(N={}) \\n$\\mu$={:.2f}\\n$\\sigma$={:.2f}\".format(len(dataJoined), mu, sigma))\n",
    "ax2.fill_between(bins, yFit, alpha=0.2)\n",
    "\n",
    "# Gassian fit of 3-sigma clipped data\n",
    "clippedDiffArray = scipy.stats.sigmaclip(dataJoined[\"psfMagDiffChi\"], low=3.0, high=3.0).clipped\n",
    "(muClipped, sigmaClipped) = scipy.stats.norm.fit(clippedDiffArray)\n",
    "yFitClipped = scipy.stats.norm.pdf(bins, muClipped, sigmaClipped)\n",
    "ax2.plot(bins, yFitClipped, \"--\", lw=1, fillstyle=\"full\",\n",
    "        label=\"3-$\\sigma$-clipped\\n(N={}) \\n$\\mu$={:.2f}\\n$\\sigma$={:.2f}\".format(len(clippedDiffArray), muClipped, sigmaClipped))\n",
    "ax2.fill_between(bins, yFitClipped, alpha=0.2)\n",
    "\n",
    "ax2.tick_params(labelsize=7)\n",
    "ax2.set_xlabel(\"$\\chi$ = (psfMagDiff)/(psfMagErr$^2$ + psfMagMeanErr$^2$)$^{1/2}$\", fontsize=9)\n",
    "ax2.set_ylabel(\"Normalized (PDF)\".format(band), fontsize=9)\n",
    "\n",
    "ax2.set_xlim(-20, 20)\n",
    "ax2.legend(fontsize=8)\n",
    "\n",
    "if doSaveFigs:\n",
    "    filename = \"{}psfFluxDiffHist_{}_{}_{}{}\".format(saveDir, tract, band, collectionStr, maxVisitStr)\n",
    "    print(\"Saving file in: {}\".format(filename))\n",
    "    fig.savefig(filename, dpi=150)"
   ]
  },
  {
   "cell_type": "code",
   "execution_count": null,
   "id": "176ce5cd-0568-4545-a6cc-19ec030a5acc",
   "metadata": {
    "execution": {
     "iopub.status.busy": "2024-04-04T12:31:35.036722Z",
     "iopub.status.idle": "2024-04-04T12:31:35.036869Z",
     "shell.execute_reply": "2024-04-04T12:31:35.036801Z",
     "shell.execute_reply.started": "2024-04-04T12:31:35.036794Z"
    }
   },
   "outputs": [],
   "source": [
    "dataJoined.columns"
   ]
  },
  {
   "cell_type": "code",
   "execution_count": null,
   "id": "a168feaf-bab1-4788-92f3-33a714ad9cc9",
   "metadata": {
    "execution": {
     "iopub.status.busy": "2024-04-04T12:31:35.037996Z",
     "iopub.status.idle": "2024-04-04T12:31:35.038154Z",
     "shell.execute_reply": "2024-04-04T12:31:35.038080Z",
     "shell.execute_reply.started": "2024-04-04T12:31:35.038073Z"
    }
   },
   "outputs": [],
   "source": [
    "Band_To_Cmap_Dict = {\"g\":plt.cm.Greens,\"r\":plt.cm.Reds,\"i\":plt.cm.Oranges,\"z\":plt.cm.Purples,\"y\":plt.cm.Greys}"
   ]
  },
  {
   "cell_type": "code",
   "execution_count": null,
   "id": "66a57a70-7822-4c37-8d15-ef38917338e7",
   "metadata": {
    "execution": {
     "iopub.status.busy": "2024-04-04T12:31:35.038599Z",
     "iopub.status.idle": "2024-04-04T12:31:35.038740Z",
     "shell.execute_reply": "2024-04-04T12:31:35.038674Z",
     "shell.execute_reply.started": "2024-04-04T12:31:35.038668Z"
    }
   },
   "outputs": [],
   "source": [
    "fig, (ax1, ax2) = plt.subplots(1, 2, figsize=(10,4))\n",
    "# ax.set_title(\"{} {} {}\".format(collection, tract, band), fontsize=8)\n",
    "fig.suptitle(\"{}\\n{} {} (max visit: {})\".format(collection, tract, band, max(dataJoined[\"visit\"])),\n",
    "             fontsize=10, y=0.98)\n",
    "ax1.axvline(x=0.0, color=\"gray\", linestyle='--', linewidth=1)\n",
    "\n",
    "#n, bins, patches = ax1.hist(dataJoined[\"psfMagDiffMmag\"], bins=2*nBins, density=True, histtype=\"step\", lw=2, label=\"data\")\n",
    "ax1.hist2d(dataJoined[\"psfMag\"],dataJoined[\"psfMagDiffMmag\"], bins=max(2*nBins,100), cmap=Band_To_Cmap_Dict[band], label=\"data\")\n",
    "ax1.tick_params(labelsize=7)\n",
    "ax1.set_ylabel(\"psfFlux - psfFluxMean ({} mmag)\".format(band), fontsize=9)\n",
    "ax1.set_xlabel(\"psfMag ({})mag \".format(band), fontsize=9)\n",
    "\n",
    "ax1.set_ylim(-100, 100)\n",
    "ax1.legend(fontsize=8)\n",
    "ax1.grid()\n",
    "\n",
    "# Plot chi histogram\n",
    "ax2.axvline(x=0.0, color=\"gray\", linestyle='--', linewidth=1)\n",
    "ax2.hist2d(dataJoined[\"psfMag\"],dataJoined[\"psfMagDiffChi\"], bins=max(2*nBins,100),cmap=Band_To_Cmap_Dict[band], lw=2, label=\"data\")\n",
    "\n",
    "\n",
    "ax2.tick_params(labelsize=7)\n",
    "ax2.set_ylabel(\"$\\chi$ = (psfMagDiff)/(psfMagErr$^2$ + psfMagMeanErr$^2$)$^{1/2}$\", fontsize=9)\n",
    "ax2.set_xlabel(\"psfMag ({})mag \".format(band), fontsize=9)\n",
    "\n",
    "ax2.set_ylim(-10, 10)\n",
    "ax2.legend(fontsize=8)\n",
    "ax2.grid()\n",
    "if doSaveFigs:\n",
    "    filename = \"{}psfFluxDiffHist2D_{}_{}_{}{}\".format(saveDir, tract, band, collectionStr, maxVisitStr)\n",
    "    print(\"Saving file in: {}\".format(filename))\n",
    "    fig.savefig(filename, dpi=150)"
   ]
  },
  {
   "cell_type": "code",
   "execution_count": null,
   "id": "7287bf5b-6196-47a0-9e99-d3f55e351781",
   "metadata": {
    "execution": {
     "iopub.status.busy": "2024-04-04T12:31:35.039398Z",
     "iopub.status.idle": "2024-04-04T12:31:35.039549Z",
     "shell.execute_reply": "2024-04-04T12:31:35.039476Z",
     "shell.execute_reply.started": "2024-04-04T12:31:35.039470Z"
    }
   },
   "outputs": [],
   "source": [
    "fig, (ax1, ax2) = plt.subplots(1, 2, figsize=(10,4))\n",
    "# ax.set_title(\"{} {} {}\".format(collection, tract, band), fontsize=8)\n",
    "fig.suptitle(\"{}\\n{} {} (max visit: {})\".format(collection, tract, band, max(dataJoined[\"visit\"])),\n",
    "             fontsize=10, y=0.98)\n",
    "ax1.axvline(x=0.0, color=\"gray\", linestyle='--', linewidth=1)\n",
    "\n",
    "#n, bins, patches = ax1.hist(dataJoined[\"psfMagDiffMmag\"], bins=2*nBins, density=True, histtype=\"step\", lw=2, label=\"data\")\n",
    "ax1.hist2d(dataJoined[\"PWV\"],dataJoined[\"psfMagDiffMmag\"], bins=max(2*nBins,50), cmap=Band_To_Cmap_Dict[band], label=\"data\")\n",
    "ax1.tick_params(labelsize=7)\n",
    "ax1.set_ylabel(\"psfFlux - psfFluxMean ({} mmag)\".format(band), fontsize=9)\n",
    "ax1.set_xlabel(\"PWV \", fontsize=9)\n",
    "\n",
    "ax1.set_ylim(-100, 100)\n",
    "ax1.set_xlim(1, 5.)\n",
    "ax1.grid()\n",
    "ax1.legend(fontsize=8)\n",
    "\n",
    "# Plot chi histogram\n",
    "ax2.axvline(x=0.0, color=\"gray\", linestyle='--', linewidth=1)\n",
    "ax2.hist2d(dataJoined[\"PWV\"],dataJoined[\"psfMagDiffChi\"], bins=max(2*nBins,50),cmap=Band_To_Cmap_Dict[band], lw=2, label=\"data\")\n",
    "\n",
    "\n",
    "ax2.tick_params(labelsize=7)\n",
    "ax2.set_ylabel(\"$\\chi$ = (psfMagDiff)/(psfMagErr$^2$ + psfMagMeanErr$^2$)$^{1/2}$\", fontsize=9)\n",
    "ax2.set_xlabel(\"PWV mm\", fontsize=9)\n",
    "\n",
    "ax2.set_ylim(-10, 10)\n",
    "ax2.set_xlim(1, 5.)\n",
    "ax2.grid()\n",
    "ax2.legend(fontsize=8)\n",
    "\n",
    "if doSaveFigs:\n",
    "    filename = \"{}psfFluxDiffHist2DPWV_{}_{}_{}{}\".format(saveDir, tract, band, collectionStr, maxVisitStr)\n",
    "    print(\"Saving file in: {}\".format(filename))\n",
    "    fig.savefig(filename, dpi=150)"
   ]
  },
  {
   "cell_type": "code",
   "execution_count": null,
   "id": "8d5e37f3-090d-4e35-b131-dea434bcad71",
   "metadata": {
    "execution": {
     "iopub.status.busy": "2024-04-04T12:31:35.039995Z",
     "iopub.status.idle": "2024-04-04T12:31:35.040141Z",
     "shell.execute_reply": "2024-04-04T12:31:35.040070Z",
     "shell.execute_reply.started": "2024-04-04T12:31:35.040063Z"
    }
   },
   "outputs": [],
   "source": [
    "fig, (ax1, ax2) = plt.subplots(1, 2, figsize=(10,4))\n",
    "# ax.set_title(\"{} {} {}\".format(collection, tract, band), fontsize=8)\n",
    "fig.suptitle(\"{}\\n{} {} (max visit: {})\".format(collection, tract, band, max(dataJoined[\"visit\"])),\n",
    "             fontsize=10, y=0.98)\n",
    "ax1.axvline(x=0.0, color=\"gray\", linestyle='--', linewidth=1)\n",
    "\n",
    "#n, bins, patches = ax1.hist(dataJoined[\"psfMagDiffMmag\"], bins=2*nBins, density=True, histtype=\"step\", lw=2, label=\"data\")\n",
    "ax1.hist2d(dataJoined[\"PWV\"],dataJoined[\"psfMagDiffMmag\"], bins=max(2*nBins,50), cmap=plt.cm.Reds, label=\"data\")\n",
    "ax1.tick_params(labelsize=7)\n",
    "ax1.set_ylabel(\"psfFlux - psfFluxMean ({} mmag)\".format(band), fontsize=9)\n",
    "ax1.set_xlabel(\"PWV \", fontsize=9)\n",
    "\n",
    "ax1.set_ylim(-100, 100)\n",
    "ax1.set_xlim(1, 5.)\n",
    "ax1.grid()\n",
    "ax1.legend(fontsize=8)\n",
    "\n",
    "# Plot chi histogram\n",
    "ax2.axvline(x=0.0, color=\"gray\", linestyle='--', linewidth=1)\n",
    "ax2.hist2d(dataJoined[\"PWV\"],dataJoined[\"psfMagDiffChi\"], bins=max(2*nBins,50),cmap=plt.cm.Reds, lw=2, label=\"data\")\n",
    "\n",
    "\n",
    "ax2.tick_params(labelsize=7)\n",
    "ax2.set_ylabel(\"$\\chi$ = (psfMagDiff)/(psfMagErr$^2$ + psfMagMeanErr$^2$)$^{1/2}$\", fontsize=9)\n",
    "ax2.set_xlabel(\"PWV mm\", fontsize=9)\n",
    "\n",
    "ax2.set_ylim(-20, 20)\n",
    "ax2.set_xlim(1, 5.)\n",
    "ax2.grid()\n",
    "ax2.legend(fontsize=8)\n",
    "\n",
    "if doSaveFigs:\n",
    "    filename = \"{}psfFluxDiffHist2DPWV_{}_{}_{}{}\".format(saveDir, tract, band, collectionStr, maxVisitStr)\n",
    "    print(\"Saving file in: {}\".format(filename))\n",
    "    fig.savefig(filename, dpi=150)"
   ]
  },
  {
   "cell_type": "code",
   "execution_count": null,
   "id": "ca436dd6-52f9-470e-81f4-b8312d13387a",
   "metadata": {
    "execution": {
     "iopub.status.busy": "2024-04-04T12:31:35.040542Z",
     "iopub.status.idle": "2024-04-04T12:31:35.040684Z",
     "shell.execute_reply": "2024-04-04T12:31:35.040615Z",
     "shell.execute_reply.started": "2024-04-04T12:31:35.040609Z"
    }
   },
   "outputs": [],
   "source": [
    "all_nightObs = dataJoined[\"nightObs\"].unique() \n",
    "all_X = []\n",
    "all_Y1 = []\n",
    "all_EY1 = []\n",
    "all_Y2 = []\n",
    "all_EY2 = []\n",
    "for night in all_nightObs:\n",
    "    cut = dataJoined[\"nightObs\"] == night\n",
    "    df_sel = dataJoined[cut]\n",
    "    pwv = df_sel[\"PWV\"].mean()\n",
    "    Y1 = df_sel[\"psfMagDiffMmag\"].mean()\n",
    "    EY1= df_sel[\"psfMagDiffMmag\"].std()\n",
    "    Y2 = df_sel[\"psfMagDiffChi\"].mean()\n",
    "    EY2 = df_sel[\"psfMagDiffChi\"].std()\n",
    "    all_X.append(pwv)\n",
    "    all_Y1.append(Y1)\n",
    "    all_EY1.append(EY1)\n",
    "    all_Y2.append(Y2)\n",
    "    all_EY2.append(EY2)\n",
    "fig, (ax1, ax2) = plt.subplots(1, 2, figsize=(10,4))\n",
    "# ax.set_title(\"{} {} {}\".format(collection, tract, band), fontsize=8)\n",
    "fig.suptitle(\"{}\\n{} {} (max visit: {})\".format(collection, tract, band, max(dataJoined[\"visit\"])),\n",
    "             fontsize=10, y=0.98)\n",
    "ax1.axhline(y=0.0, color=\"gray\", linestyle='--', linewidth=1)\n",
    "\n",
    "#n, bins, patches = ax1.hist(dataJoined[\"psfMagDiffMmag\"], bins=2*nBins, density=True, histtype=\"step\", lw=2, label=\"data\")\n",
    "ax1.hist2d(dataJoined[\"PWV\"],dataJoined[\"psfMagDiffMmag\"], bins=max(2*nBins,50), cmap=plt.cm.Reds, label=\"data\")\n",
    "ax1.tick_params(labelsize=7)\n",
    "ax1.set_ylabel(\"psfFlux - psfFluxMean ({} mmag)\".format(band), fontsize=9)\n",
    "ax1.set_xlabel(\"PWV \", fontsize=9)\n",
    "ax1.errorbar(all_X,all_Y1,yerr=all_EY1,fmt='o',lw=1,color='b',ecolor='b',markersize=6)\n",
    "\n",
    "ax1.set_ylim(-50, 50)\n",
    "ax1.set_xlim(1, 5.)\n",
    "ax1.grid()\n",
    "ax1.legend(fontsize=8)\n",
    "\n",
    "# Plot chi histogram\n",
    "ax2.axhline(y=0.0, color=\"gray\", linestyle='--', linewidth=1)\n",
    "ax2.hist2d(dataJoined[\"PWV\"],dataJoined[\"psfMagDiffChi\"], bins=max(2*nBins,50),cmap=plt.cm.Reds, lw=2, label=\"data\")\n",
    "ax2.errorbar(all_X,all_Y2,yerr=all_EY2,fmt='o',lw=1,color='b',ecolor='b',markersize=6)\n",
    "\n",
    "ax2.tick_params(labelsize=7)\n",
    "ax2.set_ylabel(\"$\\chi$ = (psfMagDiff)/(psfMagErr$^2$ + psfMagMeanErr$^2$)$^{1/2}$\", fontsize=9)\n",
    "ax2.set_xlabel(\"PWV mm\", fontsize=9)\n",
    "\n",
    "ax2.set_ylim(-10, 10)\n",
    "ax2.set_xlim(1, 5.)\n",
    "ax2.grid()\n",
    "ax2.legend(fontsize=8)\n",
    "\n",
    "if doSaveFigs:\n",
    "    filename = \"{}psfFluxDiffHist2DPWV_{}_{}_{}{}\".format(saveDir, tract, band, collectionStr, maxVisitStr)\n",
    "    print(\"Saving file in: {}\".format(filename))\n",
    "    fig.savefig(filename, dpi=150)     "
   ]
  },
  {
   "cell_type": "code",
   "execution_count": null,
   "id": "b4b533e5",
   "metadata": {
    "execution": {
     "iopub.status.busy": "2024-04-04T12:31:35.041129Z",
     "iopub.status.idle": "2024-04-04T12:31:35.041271Z",
     "shell.execute_reply": "2024-04-04T12:31:35.041202Z",
     "shell.execute_reply.started": "2024-04-04T12:31:35.041196Z"
    }
   },
   "outputs": [],
   "source": [
    "# Split out the smallest and largest PSF mag std objects (just to easily look at the extremes).\n",
    "largeStdList = [index for index in psfMagStdMmagDict if psfMagStdMmagDict[index] >= 1.4*medianPsfFluxStd]\n",
    "smallStdList= [index for index in psfMagStdMmagDict if psfMagStdMmagDict[index] < 0.4*medianPsfFluxStd]\n",
    "for objectIndex in largeStdList:\n",
    "    print(\"Large Std: objectIndex = {}  number of matches = {}\".format(objectIndex, len(dataJoined[dataJoined[\"obj_index\"] == objectIndex])))\n",
    "for objectIndex in smallStdList:\n",
    "    print(\"Small Std: objectIndex = {}  number of matches = {}\".format(objectIndex, len(dataJoined[dataJoined[\"obj_index\"] == objectIndex])))"
   ]
  },
  {
   "cell_type": "code",
   "execution_count": null,
   "id": "0a1f0771",
   "metadata": {
    "execution": {
     "iopub.status.busy": "2024-04-04T12:31:35.041801Z",
     "iopub.status.idle": "2024-04-04T12:31:35.041949Z",
     "shell.execute_reply": "2024-04-04T12:31:35.041878Z",
     "shell.execute_reply.started": "2024-04-04T12:31:35.041871Z"
    }
   },
   "outputs": [],
   "source": [
    "# Plot cutouts centered on matched sources from different visits for a couple of objects.\n",
    "# Selecting from the small/largeStdLists made above to look at the extremes.\n",
    "imMin, imMax, Q = -0.001, 0.004, 8\n",
    "expMin, expMax = -25, 100\n",
    "numSub = 8\n",
    "for maxBoxSize in [71]:\n",
    "    plt.close(\"all\")\n",
    "    for objInd in smallStdList[0:3] + largeStdList[1:2]:\n",
    "        joinedObjects = dataJoined[dataJoined[\"obj_index\"] == objInd]\n",
    "        numObj = len(joinedObjects)\n",
    "        print(\"numObj = {} [with obj_index = {}]\".format(numObj, objInd))\n",
    "        nRow = 1 if numObj <= numSub else (numObj // numSub) + 1\n",
    "        # print(\"nRow = {}\".format(nRow))\n",
    "        fig, axes = plt.subplots(nRow, numSub, figsize=(3*numSub, 3*nRow), constrained_layout=True)\n",
    "        joinedObjects = dataJoined[dataJoined[\"obj_index\"] == objInd]\n",
    "        \n",
    "        psfMag = joinedObjects[\"psfMag\"]\n",
    "        psfMagErr = joinedObjects[\"psfMagErr\"]\n",
    "        psfMagDiffMmag = joinedObjects[\"psfMagDiffMmag\"].values\n",
    "        psfMagStdMmag = psfMagStdMmagDict[objInd]\n",
    "\n",
    "        clippedMeanRaArray = scipy.stats.sigmaclip(joinedObjects[\"ra\"], low=3.0, high=3.0).clipped\n",
    "        clippedMeanRa = np.mean(clippedMeanRaArray)\n",
    "        clippedMeanDecArray = scipy.stats.sigmaclip(joinedObjects[\"dec\"], low=3.0, high=3.0).clipped\n",
    "        clippedMeanDec = np.mean(clippedMeanDecArray)\n",
    "\n",
    "        iObj = -1\n",
    "        for ax in axes.ravel():\n",
    "            iObj += 1\n",
    "            if iObj < numObj:\n",
    "                row = joinedObjects[iObj:iObj + 1]\n",
    "                detector = row[\"detector\"].values[0]\n",
    "                visit = row[\"visit\"].values[0]\n",
    "                psfMag = (row[\"psfFlux\"].values[0]*u.nJy).to(u.ABmag)\n",
    "\n",
    "                dataId = {\"detector\": detector, \"visit\": visit}\n",
    "                exp = butler.get(\"calexp\", dataId)\n",
    "                wcs = exp.wcs\n",
    "                pt = geom.SpherePoint(geom.Angle(row[\"ra\"].values[0], geom.degrees),\n",
    "                                      geom.Angle(row[\"dec\"].values[0], geom.degrees))\n",
    "                (xSrc, ySrc) = wcs.skyToPixel(pt)\n",
    "\n",
    "                boxSize = int(min(maxBoxSize, xSrc, exp.getWidth()-xSrc, ySrc, exp.getHeight()-ySrc) - 1)\n",
    "\n",
    "                minBbox = geom.Point2I(int(xSrc) - boxSize ,int(ySrc) - boxSize)\n",
    "                maxBbox = geom.Point2I(int(xSrc) + boxSize, int(ySrc) + boxSize)\n",
    "                srcBbox = geom.Box2I(minBbox, maxBbox)\n",
    "\n",
    "                subimg = afwImage.ExposureF(exp, srcBbox, afwImage.PARENT, True)\n",
    "                subimgRgb = afwRgb.makeRGB(subimg.image.array, None, None, expMin, expMax - expMin, Q)\n",
    "\n",
    "                im = ax.imshow(subimgRgb, interpolation=\"nearest\", origin=\"lower\")\n",
    "                ax.text(0.5, 0.06, \"psfSig: {:.2f} pix\".format(row[\"psfSigma\"].values[0]),\n",
    "                        color=\"cyan\", fontsize=14, ha=\"center\", va=\"center\", transform=ax.transAxes)\n",
    "                ax.text(0.5, 0.15, \"{:.2f}\".format(psfMag),\n",
    "                        color=\"violet\", fontsize=14, ha=\"center\", va=\"center\", transform=ax.transAxes)\n",
    "\n",
    "                diffColor = \"red\" if np.abs(psfMagDiffMmag[iObj]) > 100 else \"lawngreen\"\n",
    "                ax.text(0.5, 0.92, \"diff: {:.2f} mmag\".format(psfMagDiffMmag[iObj]),\n",
    "                        color=diffColor, fontsize=14, ha=\"center\", va=\"center\", transform=ax.transAxes)\n",
    "\n",
    "                ax.set_title(\"{} : {} {}sec\".format(iObj,visit, row[\"expTime\"].values[0]), fontsize=12)\n",
    "\n",
    "        color = \"green\"\n",
    "        plt.text(0.5, 0.84, \"std: {:.2f} mmag\".format(psfMagStdMmag), color=color, fontsize=14,\n",
    "                 ha=\"center\", va=\"center\", transform=ax.transAxes)\n",
    "\n",
    "        if doSaveFigs:\n",
    "            filename = \"{}{}_allOjbectsSmallStd_{}_{}_{}\".format(saveDir, camera.getName(), objInd, maxBoxSize, collectionStr)\n",
    "            print(\"Saving file in: {}\".format(filename))\n",
    "            plt.savefig(filename, dpi=250)"
   ]
  },
  {
   "cell_type": "code",
   "execution_count": null,
   "id": "8cdd225d",
   "metadata": {
    "execution": {
     "iopub.status.busy": "2024-04-04T12:31:35.042504Z",
     "iopub.status.idle": "2024-04-04T12:31:35.042647Z",
     "shell.execute_reply": "2024-04-04T12:31:35.042581Z",
     "shell.execute_reply.started": "2024-04-04T12:31:35.042575Z"
    }
   },
   "outputs": [],
   "source": [
    "# Plot all light curves (or as many as you include from stdList)\n",
    "stdList = [index for index in psfMagStdMmagDict]\n",
    "# Make light curves for both:\n",
    "#     psfInstMag: the \"instrument\" magnitude\n",
    "#     psfMag: the calibrated magnitude\n",
    "for magStr in [\"psfInstMag\", \"psfMag\"]:\n",
    "    fig, ax = plt.subplots(1, 1, figsize=(14, 10))\n",
    "    for objInd in stdList[:25]:\n",
    "        joinedObjects = dataJoined[dataJoined[\"obj_index\"] == objInd]\n",
    "        xData = joinedObjects[\"expMidptMjd\"]\n",
    "        yData = joinedObjects[magStr]\n",
    "        yDataErr = joinedObjects[\"psfMagErr\"]\n",
    "        yDataSorted = [y for _, y in sorted(zip(xData, yData))]\n",
    "        yDataErrSorted = [y for _, y in sorted(zip(xData, yDataErr))]\n",
    "        xDataSorted = sorted(xData)\n",
    "        ax.errorbar(xDataSorted, yDataSorted, yerr=yDataErrSorted, linestyle=\"-\", alpha=0.6, label=\"{}\".format(objInd))\n",
    "        ax.scatter(xDataSorted, yDataSorted, s=9, alpha=1.0)\n",
    "    ax.legend(fontsize=6, loc=\"upper right\")\n",
    "    ax.set_xlabel(\"{}{}\".format(\"expMidpdMjd\", \" (MJD)\"), fontsize=10)\n",
    "    ax.set_ylabel(\"{}_{}\".format(band, magStr), fontsize=10)\n",
    "    title = f\"Light Curves {magStr} for tract {tract} in band {band} (AUXTEL)\"\n",
    "    ax.set_title(title)\n",
    "    if doSaveFigs:\n",
    "        filename = \"{}{}_lightCurves_{}\".format(saveDir, camera.getName(),collectionStr)\n",
    "        print(\"Saving file in: {}\".format(filename))\n",
    "        plt.savefig(filename, dpi=150)\n",
    "    ax.grid()"
   ]
  },
  {
   "cell_type": "code",
   "execution_count": null,
   "id": "7018234b",
   "metadata": {
    "execution": {
     "iopub.status.busy": "2024-04-04T12:31:35.043242Z",
     "iopub.status.idle": "2024-04-04T12:31:35.043394Z",
     "shell.execute_reply": "2024-04-04T12:31:35.043319Z",
     "shell.execute_reply.started": "2024-04-04T12:31:35.043313Z"
    }
   },
   "outputs": [],
   "source": [
    "# Plot light curves divided by photo Std\n",
    "magStr = \"psfMag\"\n",
    "largeThresh = min(2.0*medianPsfFluxStd, 0.8*max(psfMagStdMmagDict.values()))\n",
    "smallThresh = max(0.5*medianPsfFluxStd, 0.2*min(psfMagStdMmagDict.values()))\n",
    "mediumThreshLower = medianPsfFluxStd - 0.04*medianPsfFluxStd\n",
    "mediumThreshUpper = medianPsfFluxStd + 0.04*medianPsfFluxStd\n",
    "largeStdList = [index for index in psfMagStdMmagDict if psfMagStdMmagDict[index] > largeThresh]\n",
    "mediumUpperStdList = [index for index in psfMagStdMmagDict if (psfMagStdMmagDict[index] < mediumThreshUpper and psfMagStdMmagDict[index] > medianPsfFluxStd)]\n",
    "mediumLowerStdList = [index for index in psfMagStdMmagDict if (psfMagStdMmagDict[index] < medianPsfFluxStd and psfMagStdMmagDict[index] > mediumThreshLower)]\n",
    "smallStdList = [index for index in psfMagStdMmagDict if psfMagStdMmagDict[index] < smallThresh]\n",
    "titleStrList = [\"psf diff std > {:.2f} mmag\".format(largeThresh),\n",
    "                \"psf diff {:.2f} < std < {:.2f} mmag\".format(medianPsfFluxStd, mediumThreshUpper),\n",
    "                \"psf diff {:.2f} < std < {:.2f} mmag\".format(mediumThreshLower, medianPsfFluxStd),\n",
    "                \"psf diff std < {:.2f} mmag\".format(smallThresh)]\n",
    "\n",
    "fig, axes = plt.subplots(4, 1, figsize=(14, 20))\n",
    "for stdList, titleStr, ax in zip([largeStdList[:10], mediumUpperStdList[:10], mediumLowerStdList[:10], smallStdList[:10]], titleStrList, axes):\n",
    "    for objInd in stdList:\n",
    "        joinedObjects = dataJoined[dataJoined[\"obj_index\"] == objInd]\n",
    "        xData = joinedObjects[\"expMidptMjd\"]\n",
    "        yData = joinedObjects[magStr]\n",
    "        yDataErr = joinedObjects[\"psfMagErr\"]\n",
    "        yDataSorted = [y for _, y in sorted(zip(xData, yData))]\n",
    "        yDataErrSorted = [y for _, y in sorted(zip(xData, yDataErr))]\n",
    "        xDataSorted = sorted(xData)\n",
    "        ax.errorbar(xDataSorted, yDataSorted, yerr=yDataErrSorted, linestyle=\"-\", alpha=0.6, label=\"{}\".format(objInd))\n",
    "        ax.scatter(xDataSorted, yDataSorted, s=9, alpha=1.0)\n",
    "    ax.legend(fontsize=6)\n",
    "    ax.set_xlabel(\"{}{}\".format(\"expMidpdMjd\", \" (MJD)\"), fontsize=10)\n",
    "    ax.set_ylabel(\"{}_psf (mag)\".format(band), fontsize=10)\n",
    "    ax.set_title(titleStr, fontsize=12, pad=4)\n",
    "    ax.grid()\n",
    "suptitle = f\"Light Curves {magStr} for tract {tract} in band {band} (AUXTEL)\"\n",
    "plt.suptitle(suptitle)\n",
    "plt.tight_layout()\n",
    "if doSaveFigs:\n",
    "    filename = \"{}{}_lightCurves_{}\".format(saveDir, camera.getName(),collectionStr)\n",
    "    print(\"Saving file in: {}\".format(filename))\n",
    "    plt.savefig(filename, dpi=150)"
   ]
  },
  {
   "cell_type": "code",
   "execution_count": null,
   "id": "b2beb675-63bd-4639-9c01-989e2ffd18de",
   "metadata": {
    "execution": {
     "iopub.status.busy": "2024-04-04T12:31:35.044124Z",
     "iopub.status.idle": "2024-04-04T12:31:35.044386Z",
     "shell.execute_reply": "2024-04-04T12:31:35.044302Z",
     "shell.execute_reply.started": "2024-04-04T12:31:35.044293Z"
    }
   },
   "outputs": [],
   "source": [
    "airmasses = [airmassDict[v] for v in sorted_visitList if v in airmassDict.keys() ]\n",
    "zeropoints = [zeroPointDict[v] for v in sorted_visitList if v in zeroPointDict.keys()]\n",
    "fig, ax = plt.subplots(1, 1, figsize=(14, 5))\n",
    "ax.plot(sorted_visits_mjd,airmasses,marker='o',lw=1,c=\"blue\",label=\"airmass\") \n",
    "ax.set_xlabel(\"MJD\")\n",
    "ax.set_ylabel(\"airmass\")\n",
    "ax2 =ax.twinx()\n",
    "ax2.plot(sorted_visits_mjd,zeropoints,marker='o',lw=1,c=\"red\",label=\"zeropoint\")\n",
    "ax2.set_ylabel(\"zero-point (mag)\")\n",
    "ax.legend(loc=\"upper left\")\n",
    "ax.set_ylim(1.,2)\n",
    "ax.grid()\n",
    "ax2.legend(loc=\"upper right\")\n",
    "suptitle = f\"Airmass and zero point for tract {tract} in band {band} (AUXTEL)\"\n",
    "ax.set_title(suptitle)\n",
    "#ax2.set_ylim(27,28.5)"
   ]
  },
  {
   "cell_type": "markdown",
   "id": "6e47a3dd-d0cb-4237-80f8-5ec870bab345",
   "metadata": {},
   "source": [
    "## Difference vs PWV"
   ]
  },
  {
   "cell_type": "code",
   "execution_count": null,
   "id": "8e3b271c-16cb-418d-bcf1-56e7bae58f81",
   "metadata": {},
   "outputs": [],
   "source": []
  },
  {
   "cell_type": "markdown",
   "id": "9e16f3c4-d084-48a4-be96-e6e59966d522",
   "metadata": {},
   "source": [
    "## Save the sources"
   ]
  },
  {
   "cell_type": "code",
   "execution_count": null,
   "id": "e93d2edc-c160-48a0-9a02-ad69878237cd",
   "metadata": {
    "execution": {
     "iopub.status.busy": "2024-04-04T12:31:35.044839Z",
     "iopub.status.idle": "2024-04-04T12:31:35.045138Z",
     "shell.execute_reply": "2024-04-04T12:31:35.045055Z",
     "shell.execute_reply.started": "2024-04-04T12:31:35.045047Z"
    }
   },
   "outputs": [],
   "source": [
    "dataJoined.to_csv(fullname_file_output_selectedsources)"
   ]
  },
  {
   "cell_type": "code",
   "execution_count": null,
   "id": "fb7ea5ae-4a2f-412c-9fc9-92ed00f53873",
   "metadata": {},
   "outputs": [],
   "source": []
  }
 ],
 "metadata": {
  "kernelspec": {
   "display_name": "LSST",
   "language": "python",
   "name": "lsst"
  },
  "language_info": {
   "codemirror_mode": {
    "name": "ipython",
    "version": 3
   },
   "file_extension": ".py",
   "mimetype": "text/x-python",
   "name": "python",
   "nbconvert_exporter": "python",
   "pygments_lexer": "ipython3",
   "version": "3.11.7"
  }
 },
 "nbformat": 4,
 "nbformat_minor": 5
}
