{
 "cells": [
  {
   "cell_type": "markdown",
   "id": "5fb8b13a-5169-4188-9fb8-8bfb44518205",
   "metadata": {},
   "source": [
    "# Multi Color Light Curves from Lauren macArthur applied to November/december visits at AuxTel, Using Spectro Data\n",
    "\n",
    "- creation date 2024-03-21\n",
    "- last update 2024-04-04\n",
    "  \n",
    "``Quantum Graphs``: https://tigress-web.princeton.edu/~lkelvin/pipelines/ \n",
    "\n",
    "``CalibrateTask``: \n",
    "https://github.com/lsst/pipe_tasks/blob/main/python/lsst/pipe/tasks/calibrate.py#L392-L399\n",
    "\n",
    " "
   ]
  },
  {
   "cell_type": "code",
   "execution_count": 1,
   "id": "3de4fd1f-8c60-4d0e-be77-c516b572c25a",
   "metadata": {
    "execution": {
     "iopub.execute_input": "2024-04-04T12:31:26.034842Z",
     "iopub.status.busy": "2024-04-04T12:31:26.034716Z",
     "iopub.status.idle": "2024-04-04T12:31:27.698484Z",
     "shell.execute_reply": "2024-04-04T12:31:27.697995Z",
     "shell.execute_reply.started": "2024-04-04T12:31:26.034829Z"
    }
   },
   "outputs": [],
   "source": [
    "from lsst.daf.butler import Butler\n",
    "\n",
    "import astropy.units as u\n",
    "import numpy as np \n",
    "import pandas as pd\n",
    "pd.set_option(\"display.max_columns\", None)\n",
    "from astropy.time import Time\n",
    "\n",
    "import scipy.stats\n",
    "\n",
    "import matplotlib\n",
    "%matplotlib inline\n",
    "from matplotlib import pyplot as plt\n",
    "\n",
    "import lsst.afw.display.rgb as afwRgb\n",
    "import lsst.afw.image as afwImage\n",
    "import lsst.geom as geom\n",
    "import pickle"
   ]
  },
  {
   "cell_type": "code",
   "execution_count": 2,
   "id": "12e89c3a",
   "metadata": {
    "execution": {
     "iopub.execute_input": "2024-04-04T12:31:27.699404Z",
     "iopub.status.busy": "2024-04-04T12:31:27.699062Z",
     "iopub.status.idle": "2024-04-04T12:31:27.701514Z",
     "shell.execute_reply": "2024-04-04T12:31:27.701155Z",
     "shell.execute_reply.started": "2024-04-04T12:31:27.699389Z"
    }
   },
   "outputs": [],
   "source": [
    "saveDir = \"./lc_output_auxtelfall2023_spectro\"\n",
    "doSaveFigs = False  # set to True if you actually want to save the figures in the above dir"
   ]
  },
  {
   "cell_type": "code",
   "execution_count": 3,
   "id": "ff630ae4",
   "metadata": {
    "execution": {
     "iopub.execute_input": "2024-04-04T12:31:27.702122Z",
     "iopub.status.busy": "2024-04-04T12:31:27.701995Z",
     "iopub.status.idle": "2024-04-04T12:31:27.705664Z",
     "shell.execute_reply": "2024-04-04T12:31:27.705316Z",
     "shell.execute_reply.started": "2024-04-04T12:31:27.702110Z"
    }
   },
   "outputs": [],
   "source": [
    "# Set some selections for reliable data\n",
    "minNumMatches = 3\n",
    "minSnCalibFlux = 50  # 100"
   ]
  },
  {
   "cell_type": "code",
   "execution_count": 4,
   "id": "313383f9",
   "metadata": {
    "execution": {
     "iopub.execute_input": "2024-04-04T12:31:27.707227Z",
     "iopub.status.busy": "2024-04-04T12:31:27.707099Z",
     "iopub.status.idle": "2024-04-04T12:31:27.710173Z",
     "shell.execute_reply": "2024-04-04T12:31:27.709814Z",
     "shell.execute_reply.started": "2024-04-04T12:31:27.707215Z"
    }
   },
   "outputs": [],
   "source": [
    "# INSERT YOUR auxTel/LATISS collection and tract/band HERE\n",
    "butlerRoot = \"/repo/embargo\"\n",
    "# collection = \"LATISS/runs/AUXTEL_DRP_IMAGING_20230509_20231207/w_2023_49/PREOPS-4648\"\n",
    "#collection = \"LATISS/runs/AUXTEL_DRP_IMAGING_20230509_20240201/w_2024_05/PREOPS-4871\"\n",
    "collection = \"LATISS/runs/AUXTEL_DRP_IMAGING_20230509_20240311/w_2024_10/PREOPS-4985\"\n",
    "\n",
    "collectionStr = collection.replace(\"/\", \"_\")\n",
    "instrument = \"LATISS\"\n",
    "skymapName = \"latiss_v1\"\n",
    "#band = \"i\"\n",
    "#tract = 5615\n",
    "band = \"y\"\n",
    "tract = 3864\n",
    "\n",
    "calibFluxStr = \"apFlux_35_0_instFlux\"\n",
    "\n",
    "file_output_selectedsources = f\"lightcurves-selectedsources_tract{tract}_band{band}_novdec2023.csv\"\n",
    "fullname_file_output_selectedsources = os.path.join(saveDir,file_output_selectedsources)"
   ]
  },
  {
   "cell_type": "markdown",
   "id": "ae362025-6f0f-4490-a62a-49d63b9250b3",
   "metadata": {},
   "source": [
    "## Selected Visits and Selected Nights"
   ]
  },
  {
   "cell_type": "code",
   "execution_count": 5,
   "id": "6a589912-7985-4f17-9b84-8f23ecacfd29",
   "metadata": {
    "execution": {
     "iopub.execute_input": "2024-04-04T12:31:27.710808Z",
     "iopub.status.busy": "2024-04-04T12:31:27.710678Z",
     "iopub.status.idle": "2024-04-04T12:31:27.714046Z",
     "shell.execute_reply": "2024-04-04T12:31:27.713683Z",
     "shell.execute_reply.started": "2024-04-04T12:31:27.710796Z"
    }
   },
   "outputs": [],
   "source": [
    "file_selected_visits = \"../data/202402/SelectedVisits_fall2023_tract_3864.csv\"\n",
    "file_selected_nights = \"AuxtelSpectroData/AtmParamPerNightObsDict_fall2023.pkl\""
   ]
  },
  {
   "cell_type": "code",
   "execution_count": 6,
   "id": "f0129514-a870-43e2-b1d9-1dfd64bc9484",
   "metadata": {
    "execution": {
     "iopub.execute_input": "2024-04-04T12:31:27.714638Z",
     "iopub.status.busy": "2024-04-04T12:31:27.714516Z",
     "iopub.status.idle": "2024-04-04T12:31:27.723858Z",
     "shell.execute_reply": "2024-04-04T12:31:27.723479Z",
     "shell.execute_reply.started": "2024-04-04T12:31:27.714627Z"
    }
   },
   "outputs": [],
   "source": [
    "df_myselectedvisits = pd.read_csv(file_selected_visits,index_col=0)\n",
    "my_selectedvisits = list(df_myselectedvisits.index)"
   ]
  },
  {
   "cell_type": "code",
   "execution_count": 7,
   "id": "511041b2-af65-4fd0-b59f-69a626db2a8d",
   "metadata": {
    "execution": {
     "iopub.execute_input": "2024-04-04T12:31:27.724475Z",
     "iopub.status.busy": "2024-04-04T12:31:27.724344Z",
     "iopub.status.idle": "2024-04-04T12:31:27.726710Z",
     "shell.execute_reply": "2024-04-04T12:31:27.726358Z",
     "shell.execute_reply.started": "2024-04-04T12:31:27.724464Z"
    }
   },
   "outputs": [],
   "source": [
    "#move the visitid as a column not to loose it during the merge \n",
    "df_myselectedvisits.reset_index(inplace=True) "
   ]
  },
  {
   "cell_type": "code",
   "execution_count": 8,
   "id": "1569b27a-dfd1-474c-889a-d7b9312580f0",
   "metadata": {
    "execution": {
     "iopub.execute_input": "2024-04-04T12:31:27.727321Z",
     "iopub.status.busy": "2024-04-04T12:31:27.727196Z",
     "iopub.status.idle": "2024-04-04T12:31:27.739449Z",
     "shell.execute_reply": "2024-04-04T12:31:27.739092Z",
     "shell.execute_reply.started": "2024-04-04T12:31:27.727309Z"
    }
   },
   "outputs": [
    {
     "data": {
      "text/html": [
       "<div>\n",
       "<style scoped>\n",
       "    .dataframe tbody tr th:only-of-type {\n",
       "        vertical-align: middle;\n",
       "    }\n",
       "\n",
       "    .dataframe tbody tr th {\n",
       "        vertical-align: top;\n",
       "    }\n",
       "\n",
       "    .dataframe thead th {\n",
       "        text-align: right;\n",
       "    }\n",
       "</style>\n",
       "<table border=\"1\" class=\"dataframe\">\n",
       "  <thead>\n",
       "    <tr style=\"text-align: right;\">\n",
       "      <th></th>\n",
       "      <th>visitId</th>\n",
       "      <th>nightObs</th>\n",
       "      <th>physical_filter</th>\n",
       "      <th>band</th>\n",
       "      <th>zeroPoint</th>\n",
       "      <th>expMidptMJD</th>\n",
       "      <th>obsStart</th>\n",
       "      <th>obsStartMJD</th>\n",
       "      <th>Time</th>\n",
       "      <th>airmass</th>\n",
       "      <th>patchID</th>\n",
       "      <th>tractID</th>\n",
       "    </tr>\n",
       "  </thead>\n",
       "  <tbody>\n",
       "    <tr>\n",
       "      <th>0</th>\n",
       "      <td>2023112100506</td>\n",
       "      <td>20231121</td>\n",
       "      <td>SDSSg_65mm~empty</td>\n",
       "      <td>g</td>\n",
       "      <td>28.037330</td>\n",
       "      <td>60270.293207</td>\n",
       "      <td>2023-11-22 07:01:58.064996</td>\n",
       "      <td>60270.293033</td>\n",
       "      <td>2023-11-22 07:01:58.064996</td>\n",
       "      <td>1.087878</td>\n",
       "      <td>3864</td>\n",
       "      <td>237</td>\n",
       "    </tr>\n",
       "    <tr>\n",
       "      <th>1</th>\n",
       "      <td>2023112100507</td>\n",
       "      <td>20231121</td>\n",
       "      <td>SDSSr_65mm~empty</td>\n",
       "      <td>r</td>\n",
       "      <td>27.826233</td>\n",
       "      <td>60270.293745</td>\n",
       "      <td>2023-11-22 07:02:44.576007</td>\n",
       "      <td>60270.293571</td>\n",
       "      <td>2023-11-22 07:02:44.576007</td>\n",
       "      <td>1.086620</td>\n",
       "      <td>3864</td>\n",
       "      <td>237</td>\n",
       "    </tr>\n",
       "    <tr>\n",
       "      <th>2</th>\n",
       "      <td>2023112100508</td>\n",
       "      <td>20231121</td>\n",
       "      <td>SDSSz_65mm~empty</td>\n",
       "      <td>z</td>\n",
       "      <td>27.281532</td>\n",
       "      <td>60270.294284</td>\n",
       "      <td>2023-11-22 07:03:31.156006</td>\n",
       "      <td>60270.294111</td>\n",
       "      <td>2023-11-22 07:03:31.156006</td>\n",
       "      <td>1.085371</td>\n",
       "      <td>3864</td>\n",
       "      <td>237</td>\n",
       "    </tr>\n",
       "    <tr>\n",
       "      <th>3</th>\n",
       "      <td>2023112100509</td>\n",
       "      <td>20231121</td>\n",
       "      <td>empty~SDSSy_65mm</td>\n",
       "      <td>y</td>\n",
       "      <td>26.175438</td>\n",
       "      <td>60270.294842</td>\n",
       "      <td>2023-11-22 07:04:19.313506</td>\n",
       "      <td>60270.294668</td>\n",
       "      <td>2023-11-22 07:04:19.313506</td>\n",
       "      <td>1.084094</td>\n",
       "      <td>3864</td>\n",
       "      <td>237</td>\n",
       "    </tr>\n",
       "    <tr>\n",
       "      <th>4</th>\n",
       "      <td>2023112100510</td>\n",
       "      <td>20231121</td>\n",
       "      <td>SDSSg_65mm~empty</td>\n",
       "      <td>g</td>\n",
       "      <td>28.049168</td>\n",
       "      <td>60270.295844</td>\n",
       "      <td>2023-11-22 07:05:45.944508</td>\n",
       "      <td>60270.295671</td>\n",
       "      <td>2023-11-22 07:05:45.944508</td>\n",
       "      <td>1.081935</td>\n",
       "      <td>3864</td>\n",
       "      <td>236</td>\n",
       "    </tr>\n",
       "    <tr>\n",
       "      <th>...</th>\n",
       "      <td>...</td>\n",
       "      <td>...</td>\n",
       "      <td>...</td>\n",
       "      <td>...</td>\n",
       "      <td>...</td>\n",
       "      <td>...</td>\n",
       "      <td>...</td>\n",
       "      <td>...</td>\n",
       "      <td>...</td>\n",
       "      <td>...</td>\n",
       "      <td>...</td>\n",
       "      <td>...</td>\n",
       "    </tr>\n",
       "    <tr>\n",
       "      <th>871</th>\n",
       "      <td>2023122200530</td>\n",
       "      <td>20231222</td>\n",
       "      <td>empty~SDSSy_65mm</td>\n",
       "      <td>y</td>\n",
       "      <td>26.290860</td>\n",
       "      <td>60301.274438</td>\n",
       "      <td>2023-12-23 06:34:56.432498</td>\n",
       "      <td>60301.274264</td>\n",
       "      <td>2023-12-23 06:34:56.432498</td>\n",
       "      <td>1.006569</td>\n",
       "      <td>3864</td>\n",
       "      <td>236</td>\n",
       "    </tr>\n",
       "    <tr>\n",
       "      <th>872</th>\n",
       "      <td>2023122200531</td>\n",
       "      <td>20231222</td>\n",
       "      <td>SDSSg_65mm~empty</td>\n",
       "      <td>g</td>\n",
       "      <td>28.088020</td>\n",
       "      <td>60301.275506</td>\n",
       "      <td>2023-12-23 06:36:28.743997</td>\n",
       "      <td>60301.275333</td>\n",
       "      <td>2023-12-23 06:36:28.743997</td>\n",
       "      <td>1.006333</td>\n",
       "      <td>3864</td>\n",
       "      <td>236</td>\n",
       "    </tr>\n",
       "    <tr>\n",
       "      <th>873</th>\n",
       "      <td>2023122200532</td>\n",
       "      <td>20231222</td>\n",
       "      <td>SDSSr_65mm~empty</td>\n",
       "      <td>r</td>\n",
       "      <td>27.858763</td>\n",
       "      <td>60301.276044</td>\n",
       "      <td>2023-12-23 06:37:15.228995</td>\n",
       "      <td>60301.275871</td>\n",
       "      <td>2023-12-23 06:37:15.228995</td>\n",
       "      <td>1.006219</td>\n",
       "      <td>3864</td>\n",
       "      <td>236</td>\n",
       "    </tr>\n",
       "    <tr>\n",
       "      <th>874</th>\n",
       "      <td>2023122200533</td>\n",
       "      <td>20231222</td>\n",
       "      <td>SDSSz_65mm~empty</td>\n",
       "      <td>z</td>\n",
       "      <td>27.357218</td>\n",
       "      <td>60301.276586</td>\n",
       "      <td>2023-12-23 06:38:02.021494</td>\n",
       "      <td>60301.276412</td>\n",
       "      <td>2023-12-23 06:38:02.021494</td>\n",
       "      <td>1.006114</td>\n",
       "      <td>3864</td>\n",
       "      <td>236</td>\n",
       "    </tr>\n",
       "    <tr>\n",
       "      <th>875</th>\n",
       "      <td>2023122200534</td>\n",
       "      <td>20231222</td>\n",
       "      <td>empty~SDSSy_65mm</td>\n",
       "      <td>y</td>\n",
       "      <td>26.264880</td>\n",
       "      <td>60301.277146</td>\n",
       "      <td>2023-12-23 06:38:50.384000</td>\n",
       "      <td>60301.276972</td>\n",
       "      <td>2023-12-23 06:38:50.384000</td>\n",
       "      <td>1.006013</td>\n",
       "      <td>3864</td>\n",
       "      <td>236</td>\n",
       "    </tr>\n",
       "  </tbody>\n",
       "</table>\n",
       "<p>876 rows × 12 columns</p>\n",
       "</div>"
      ],
      "text/plain": [
       "           visitId  nightObs   physical_filter band  zeroPoint   expMidptMJD  \\\n",
       "0    2023112100506  20231121  SDSSg_65mm~empty    g  28.037330  60270.293207   \n",
       "1    2023112100507  20231121  SDSSr_65mm~empty    r  27.826233  60270.293745   \n",
       "2    2023112100508  20231121  SDSSz_65mm~empty    z  27.281532  60270.294284   \n",
       "3    2023112100509  20231121  empty~SDSSy_65mm    y  26.175438  60270.294842   \n",
       "4    2023112100510  20231121  SDSSg_65mm~empty    g  28.049168  60270.295844   \n",
       "..             ...       ...               ...  ...        ...           ...   \n",
       "871  2023122200530  20231222  empty~SDSSy_65mm    y  26.290860  60301.274438   \n",
       "872  2023122200531  20231222  SDSSg_65mm~empty    g  28.088020  60301.275506   \n",
       "873  2023122200532  20231222  SDSSr_65mm~empty    r  27.858763  60301.276044   \n",
       "874  2023122200533  20231222  SDSSz_65mm~empty    z  27.357218  60301.276586   \n",
       "875  2023122200534  20231222  empty~SDSSy_65mm    y  26.264880  60301.277146   \n",
       "\n",
       "                       obsStart   obsStartMJD                        Time  \\\n",
       "0    2023-11-22 07:01:58.064996  60270.293033  2023-11-22 07:01:58.064996   \n",
       "1    2023-11-22 07:02:44.576007  60270.293571  2023-11-22 07:02:44.576007   \n",
       "2    2023-11-22 07:03:31.156006  60270.294111  2023-11-22 07:03:31.156006   \n",
       "3    2023-11-22 07:04:19.313506  60270.294668  2023-11-22 07:04:19.313506   \n",
       "4    2023-11-22 07:05:45.944508  60270.295671  2023-11-22 07:05:45.944508   \n",
       "..                          ...           ...                         ...   \n",
       "871  2023-12-23 06:34:56.432498  60301.274264  2023-12-23 06:34:56.432498   \n",
       "872  2023-12-23 06:36:28.743997  60301.275333  2023-12-23 06:36:28.743997   \n",
       "873  2023-12-23 06:37:15.228995  60301.275871  2023-12-23 06:37:15.228995   \n",
       "874  2023-12-23 06:38:02.021494  60301.276412  2023-12-23 06:38:02.021494   \n",
       "875  2023-12-23 06:38:50.384000  60301.276972  2023-12-23 06:38:50.384000   \n",
       "\n",
       "      airmass  patchID  tractID  \n",
       "0    1.087878     3864      237  \n",
       "1    1.086620     3864      237  \n",
       "2    1.085371     3864      237  \n",
       "3    1.084094     3864      237  \n",
       "4    1.081935     3864      236  \n",
       "..        ...      ...      ...  \n",
       "871  1.006569     3864      236  \n",
       "872  1.006333     3864      236  \n",
       "873  1.006219     3864      236  \n",
       "874  1.006114     3864      236  \n",
       "875  1.006013     3864      236  \n",
       "\n",
       "[876 rows x 12 columns]"
      ]
     },
     "execution_count": 8,
     "metadata": {},
     "output_type": "execute_result"
    }
   ],
   "source": [
    "df_myselectedvisits"
   ]
  },
  {
   "cell_type": "code",
   "execution_count": 9,
   "id": "175d282a-94df-4769-af2e-923f93738ddd",
   "metadata": {
    "execution": {
     "iopub.execute_input": "2024-04-04T12:31:27.740043Z",
     "iopub.status.busy": "2024-04-04T12:31:27.739919Z",
     "iopub.status.idle": "2024-04-04T12:31:27.742673Z",
     "shell.execute_reply": "2024-04-04T12:31:27.742317Z",
     "shell.execute_reply.started": "2024-04-04T12:31:27.740032Z"
    }
   },
   "outputs": [
    {
     "data": {
      "text/plain": [
       "array([20231121, 20231127, 20231128, 20231129, 20231130, 20231204,\n",
       "       20231205, 20231206, 20231211, 20231214, 20231215, 20231220,\n",
       "       20231221, 20231222])"
      ]
     },
     "execution_count": 9,
     "metadata": {},
     "output_type": "execute_result"
    }
   ],
   "source": [
    "# Check the night selected\n",
    "df_myselectedvisits['nightObs'].unique()"
   ]
  },
  {
   "cell_type": "markdown",
   "id": "50f6c5de-0e93-4d70-99e3-86f7caa12e8e",
   "metadata": {},
   "source": [
    "### Make the dataframe holding the atmospheric parameters"
   ]
  },
  {
   "cell_type": "code",
   "execution_count": 10,
   "id": "b59e8ed5-f0db-4026-be60-23a58ee1ec9b",
   "metadata": {
    "execution": {
     "iopub.execute_input": "2024-04-04T12:31:27.743272Z",
     "iopub.status.busy": "2024-04-04T12:31:27.743150Z",
     "iopub.status.idle": "2024-04-04T12:31:27.757854Z",
     "shell.execute_reply": "2024-04-04T12:31:27.757468Z",
     "shell.execute_reply.started": "2024-04-04T12:31:27.743261Z"
    }
   },
   "outputs": [],
   "source": [
    "df_selnight = pd.DataFrame(columns=('nightObs', 'PWV', 'VAOD','Grey',\"Ozone\"))\n",
    "with open(file_selected_nights, 'rb') as fp:\n",
    "    selectedNightsDict  = pickle.load(fp)\n",
    "idx=0\n",
    "for key,value in selectedNightsDict.items():\n",
    "    pwv = value['median']['median_param_atm']['md_PWV']\n",
    "    vaod = value['median']['median_param_atm']['md_VAOD']\n",
    "    grey = value['median']['median_param_atm']['md_grey']\n",
    "    ozone = value['median']['median_param_atm']['md_ozone']\n",
    "    df_selnight.loc[idx] = [int(key),pwv,vaod,grey,ozone]\n",
    "    idx+=1"
   ]
  },
  {
   "cell_type": "code",
   "execution_count": 11,
   "id": "6c5df4da-0723-4d03-b83a-349fce37391e",
   "metadata": {
    "execution": {
     "iopub.execute_input": "2024-04-04T12:31:27.758477Z",
     "iopub.status.busy": "2024-04-04T12:31:27.758345Z",
     "iopub.status.idle": "2024-04-04T12:31:27.761438Z",
     "shell.execute_reply": "2024-04-04T12:31:27.761075Z",
     "shell.execute_reply.started": "2024-04-04T12:31:27.758465Z"
    }
   },
   "outputs": [],
   "source": [
    "# Convert the nightObs as an integer\n",
    "df_selnight = df_selnight.astype({'nightObs':'int'})"
   ]
  },
  {
   "cell_type": "code",
   "execution_count": 12,
   "id": "fce868a8-95f1-4a38-add9-7b1f108dd899",
   "metadata": {
    "execution": {
     "iopub.execute_input": "2024-04-04T12:31:27.762136Z",
     "iopub.status.busy": "2024-04-04T12:31:27.762011Z",
     "iopub.status.idle": "2024-04-04T12:31:27.765098Z",
     "shell.execute_reply": "2024-04-04T12:31:27.764741Z",
     "shell.execute_reply.started": "2024-04-04T12:31:27.762125Z"
    }
   },
   "outputs": [],
   "source": [
    "df_night_to_atm = df_selnight.copy().set_index('nightObs')"
   ]
  },
  {
   "cell_type": "code",
   "execution_count": 13,
   "id": "87ac1d32-39ec-452f-b8d2-2b8d889a88a1",
   "metadata": {
    "execution": {
     "iopub.execute_input": "2024-04-04T12:31:27.765706Z",
     "iopub.status.busy": "2024-04-04T12:31:27.765586Z",
     "iopub.status.idle": "2024-04-04T12:31:27.773732Z",
     "shell.execute_reply": "2024-04-04T12:31:27.773383Z",
     "shell.execute_reply.started": "2024-04-04T12:31:27.765695Z"
    }
   },
   "outputs": [
    {
     "data": {
      "text/html": [
       "<div>\n",
       "<style scoped>\n",
       "    .dataframe tbody tr th:only-of-type {\n",
       "        vertical-align: middle;\n",
       "    }\n",
       "\n",
       "    .dataframe tbody tr th {\n",
       "        vertical-align: top;\n",
       "    }\n",
       "\n",
       "    .dataframe thead th {\n",
       "        text-align: right;\n",
       "    }\n",
       "</style>\n",
       "<table border=\"1\" class=\"dataframe\">\n",
       "  <thead>\n",
       "    <tr style=\"text-align: right;\">\n",
       "      <th></th>\n",
       "      <th>PWV</th>\n",
       "      <th>VAOD</th>\n",
       "      <th>Grey</th>\n",
       "      <th>Ozone</th>\n",
       "    </tr>\n",
       "    <tr>\n",
       "      <th>nightObs</th>\n",
       "      <th></th>\n",
       "      <th></th>\n",
       "      <th></th>\n",
       "      <th></th>\n",
       "    </tr>\n",
       "  </thead>\n",
       "  <tbody>\n",
       "    <tr>\n",
       "      <th>20230927</th>\n",
       "      <td>1.360643</td>\n",
       "      <td>0.006606</td>\n",
       "      <td>0.962204</td>\n",
       "      <td>322.459010</td>\n",
       "    </tr>\n",
       "    <tr>\n",
       "      <th>20230928</th>\n",
       "      <td>2.172185</td>\n",
       "      <td>0.000000</td>\n",
       "      <td>0.957690</td>\n",
       "      <td>309.241099</td>\n",
       "    </tr>\n",
       "    <tr>\n",
       "      <th>20231010</th>\n",
       "      <td>2.323852</td>\n",
       "      <td>0.006589</td>\n",
       "      <td>0.963656</td>\n",
       "      <td>328.488524</td>\n",
       "    </tr>\n",
       "    <tr>\n",
       "      <th>20231107</th>\n",
       "      <td>2.101962</td>\n",
       "      <td>0.013239</td>\n",
       "      <td>0.972018</td>\n",
       "      <td>304.659232</td>\n",
       "    </tr>\n",
       "    <tr>\n",
       "      <th>20231113</th>\n",
       "      <td>2.547404</td>\n",
       "      <td>0.009443</td>\n",
       "      <td>0.962289</td>\n",
       "      <td>339.184216</td>\n",
       "    </tr>\n",
       "    <tr>\n",
       "      <th>20231114</th>\n",
       "      <td>2.880052</td>\n",
       "      <td>0.009948</td>\n",
       "      <td>0.966162</td>\n",
       "      <td>322.515609</td>\n",
       "    </tr>\n",
       "    <tr>\n",
       "      <th>20231115</th>\n",
       "      <td>2.577242</td>\n",
       "      <td>0.002186</td>\n",
       "      <td>0.948540</td>\n",
       "      <td>317.834236</td>\n",
       "    </tr>\n",
       "    <tr>\n",
       "      <th>20231116</th>\n",
       "      <td>2.297691</td>\n",
       "      <td>0.006841</td>\n",
       "      <td>0.949698</td>\n",
       "      <td>348.357957</td>\n",
       "    </tr>\n",
       "    <tr>\n",
       "      <th>20231120</th>\n",
       "      <td>2.599672</td>\n",
       "      <td>0.017588</td>\n",
       "      <td>0.984415</td>\n",
       "      <td>315.151618</td>\n",
       "    </tr>\n",
       "    <tr>\n",
       "      <th>20231127</th>\n",
       "      <td>3.551770</td>\n",
       "      <td>0.004201</td>\n",
       "      <td>0.967583</td>\n",
       "      <td>305.884093</td>\n",
       "    </tr>\n",
       "    <tr>\n",
       "      <th>20231128</th>\n",
       "      <td>2.935632</td>\n",
       "      <td>0.006973</td>\n",
       "      <td>0.967547</td>\n",
       "      <td>295.156086</td>\n",
       "    </tr>\n",
       "    <tr>\n",
       "      <th>20231129</th>\n",
       "      <td>3.137323</td>\n",
       "      <td>0.007454</td>\n",
       "      <td>0.965610</td>\n",
       "      <td>294.848216</td>\n",
       "    </tr>\n",
       "    <tr>\n",
       "      <th>20231130</th>\n",
       "      <td>3.094133</td>\n",
       "      <td>0.011291</td>\n",
       "      <td>0.967495</td>\n",
       "      <td>301.568970</td>\n",
       "    </tr>\n",
       "    <tr>\n",
       "      <th>20231204</th>\n",
       "      <td>2.451249</td>\n",
       "      <td>0.007055</td>\n",
       "      <td>0.959105</td>\n",
       "      <td>299.244944</td>\n",
       "    </tr>\n",
       "    <tr>\n",
       "      <th>20231205</th>\n",
       "      <td>2.391498</td>\n",
       "      <td>0.010432</td>\n",
       "      <td>0.966838</td>\n",
       "      <td>315.724024</td>\n",
       "    </tr>\n",
       "    <tr>\n",
       "      <th>20231206</th>\n",
       "      <td>1.745412</td>\n",
       "      <td>0.007880</td>\n",
       "      <td>0.949152</td>\n",
       "      <td>313.621492</td>\n",
       "    </tr>\n",
       "    <tr>\n",
       "      <th>20231207</th>\n",
       "      <td>1.901928</td>\n",
       "      <td>0.012968</td>\n",
       "      <td>0.963124</td>\n",
       "      <td>309.223620</td>\n",
       "    </tr>\n",
       "  </tbody>\n",
       "</table>\n",
       "</div>"
      ],
      "text/plain": [
       "               PWV      VAOD      Grey       Ozone\n",
       "nightObs                                          \n",
       "20230927  1.360643  0.006606  0.962204  322.459010\n",
       "20230928  2.172185  0.000000  0.957690  309.241099\n",
       "20231010  2.323852  0.006589  0.963656  328.488524\n",
       "20231107  2.101962  0.013239  0.972018  304.659232\n",
       "20231113  2.547404  0.009443  0.962289  339.184216\n",
       "20231114  2.880052  0.009948  0.966162  322.515609\n",
       "20231115  2.577242  0.002186  0.948540  317.834236\n",
       "20231116  2.297691  0.006841  0.949698  348.357957\n",
       "20231120  2.599672  0.017588  0.984415  315.151618\n",
       "20231127  3.551770  0.004201  0.967583  305.884093\n",
       "20231128  2.935632  0.006973  0.967547  295.156086\n",
       "20231129  3.137323  0.007454  0.965610  294.848216\n",
       "20231130  3.094133  0.011291  0.967495  301.568970\n",
       "20231204  2.451249  0.007055  0.959105  299.244944\n",
       "20231205  2.391498  0.010432  0.966838  315.724024\n",
       "20231206  1.745412  0.007880  0.949152  313.621492\n",
       "20231207  1.901928  0.012968  0.963124  309.223620"
      ]
     },
     "execution_count": 13,
     "metadata": {},
     "output_type": "execute_result"
    }
   ],
   "source": [
    "df_night_to_atm"
   ]
  },
  {
   "cell_type": "code",
   "execution_count": 14,
   "id": "a6afeba9-6bcd-4e3a-9da1-84c6280fa593",
   "metadata": {
    "execution": {
     "iopub.execute_input": "2024-04-04T12:31:27.774337Z",
     "iopub.status.busy": "2024-04-04T12:31:27.774218Z",
     "iopub.status.idle": "2024-04-04T12:31:27.777902Z",
     "shell.execute_reply": "2024-04-04T12:31:27.777559Z",
     "shell.execute_reply.started": "2024-04-04T12:31:27.774327Z"
    }
   },
   "outputs": [
    {
     "data": {
      "text/plain": [
       "PWV        3.551770\n",
       "VAOD       0.004201\n",
       "Grey       0.967583\n",
       "Ozone    305.884093\n",
       "Name: 20231127, dtype: float64"
      ]
     },
     "execution_count": 14,
     "metadata": {},
     "output_type": "execute_result"
    }
   ],
   "source": [
    "df_night_to_atm.loc[20231127]"
   ]
  },
  {
   "cell_type": "code",
   "execution_count": 15,
   "id": "ba4c0375-3260-4a9b-9a31-9e149d42ef5d",
   "metadata": {
    "execution": {
     "iopub.execute_input": "2024-04-04T12:31:27.778537Z",
     "iopub.status.busy": "2024-04-04T12:31:27.778393Z",
     "iopub.status.idle": "2024-04-04T12:31:27.782924Z",
     "shell.execute_reply": "2024-04-04T12:31:27.782568Z",
     "shell.execute_reply.started": "2024-04-04T12:31:27.778526Z"
    }
   },
   "outputs": [
    {
     "data": {
      "text/plain": [
       "array([20230927, 20230928, 20231010, 20231107, 20231113, 20231114,\n",
       "       20231115, 20231116, 20231120, 20231127, 20231128, 20231129,\n",
       "       20231130, 20231204, 20231205, 20231206, 20231207])"
      ]
     },
     "execution_count": 15,
     "metadata": {},
     "output_type": "execute_result"
    }
   ],
   "source": [
    "df_selnight['nightObs'].unique()"
   ]
  },
  {
   "cell_type": "markdown",
   "id": "77ccead7-dc29-4c2b-b158-3d75577d6b07",
   "metadata": {},
   "source": [
    "## Merge the two datasets\n",
    "\n",
    "- My selected visit with the atmospheric parameter\n",
    "\n",
    "- kepp the intersection"
   ]
  },
  {
   "cell_type": "code",
   "execution_count": 16,
   "id": "1b4ebc86-9a5a-4b6c-b836-6c090a38fa26",
   "metadata": {
    "execution": {
     "iopub.execute_input": "2024-04-04T12:31:27.783565Z",
     "iopub.status.busy": "2024-04-04T12:31:27.783443Z",
     "iopub.status.idle": "2024-04-04T12:31:27.787353Z",
     "shell.execute_reply": "2024-04-04T12:31:27.787002Z",
     "shell.execute_reply.started": "2024-04-04T12:31:27.783554Z"
    }
   },
   "outputs": [],
   "source": [
    "df_merge = df_myselectedvisits.merge(df_selnight, left_on='nightObs',right_on='nightObs',how=\"inner\")"
   ]
  },
  {
   "cell_type": "code",
   "execution_count": 17,
   "id": "375d3533-6b00-4281-800d-a4deff5ef26e",
   "metadata": {
    "execution": {
     "iopub.execute_input": "2024-04-04T12:31:27.787959Z",
     "iopub.status.busy": "2024-04-04T12:31:27.787838Z",
     "iopub.status.idle": "2024-04-04T12:31:27.791178Z",
     "shell.execute_reply": "2024-04-04T12:31:27.790827Z",
     "shell.execute_reply.started": "2024-04-04T12:31:27.787948Z"
    }
   },
   "outputs": [
    {
     "data": {
      "text/plain": [
       "array([20231127, 20231128, 20231129, 20231130, 20231204, 20231205,\n",
       "       20231206])"
      ]
     },
     "execution_count": 17,
     "metadata": {},
     "output_type": "execute_result"
    }
   ],
   "source": [
    "df_merge['nightObs'].unique()"
   ]
  },
  {
   "cell_type": "code",
   "execution_count": 18,
   "id": "9754d921-f0dd-4b00-b063-5630210a9032",
   "metadata": {
    "execution": {
     "iopub.execute_input": "2024-04-04T12:31:27.791755Z",
     "iopub.status.busy": "2024-04-04T12:31:27.791635Z",
     "iopub.status.idle": "2024-04-04T12:31:27.794152Z",
     "shell.execute_reply": "2024-04-04T12:31:27.793801Z",
     "shell.execute_reply.started": "2024-04-04T12:31:27.791745Z"
    }
   },
   "outputs": [],
   "source": [
    "df_myselectedvisits = df_merge.copy()"
   ]
  },
  {
   "cell_type": "code",
   "execution_count": 19,
   "id": "4c503827-9f78-4134-af55-7f802cceaea4",
   "metadata": {
    "execution": {
     "iopub.execute_input": "2024-04-04T12:31:27.796872Z",
     "iopub.status.busy": "2024-04-04T12:31:27.796745Z",
     "iopub.status.idle": "2024-04-04T12:31:27.807363Z",
     "shell.execute_reply": "2024-04-04T12:31:27.806985Z",
     "shell.execute_reply.started": "2024-04-04T12:31:27.796861Z"
    }
   },
   "outputs": [
    {
     "data": {
      "text/html": [
       "<div>\n",
       "<style scoped>\n",
       "    .dataframe tbody tr th:only-of-type {\n",
       "        vertical-align: middle;\n",
       "    }\n",
       "\n",
       "    .dataframe tbody tr th {\n",
       "        vertical-align: top;\n",
       "    }\n",
       "\n",
       "    .dataframe thead th {\n",
       "        text-align: right;\n",
       "    }\n",
       "</style>\n",
       "<table border=\"1\" class=\"dataframe\">\n",
       "  <thead>\n",
       "    <tr style=\"text-align: right;\">\n",
       "      <th></th>\n",
       "      <th>visitId</th>\n",
       "      <th>nightObs</th>\n",
       "      <th>physical_filter</th>\n",
       "      <th>band</th>\n",
       "      <th>zeroPoint</th>\n",
       "      <th>expMidptMJD</th>\n",
       "      <th>obsStart</th>\n",
       "      <th>obsStartMJD</th>\n",
       "      <th>Time</th>\n",
       "      <th>airmass</th>\n",
       "      <th>patchID</th>\n",
       "      <th>tractID</th>\n",
       "      <th>PWV</th>\n",
       "      <th>VAOD</th>\n",
       "      <th>Grey</th>\n",
       "      <th>Ozone</th>\n",
       "    </tr>\n",
       "  </thead>\n",
       "  <tbody>\n",
       "    <tr>\n",
       "      <th>0</th>\n",
       "      <td>2023112700289</td>\n",
       "      <td>20231127</td>\n",
       "      <td>SDSSg_65mm~empty</td>\n",
       "      <td>g</td>\n",
       "      <td>28.049986</td>\n",
       "      <td>60276.274623</td>\n",
       "      <td>2023-11-28 06:35:12.465999</td>\n",
       "      <td>60276.274450</td>\n",
       "      <td>2023-11-28 06:35:12.465999</td>\n",
       "      <td>1.093019</td>\n",
       "      <td>3864</td>\n",
       "      <td>237</td>\n",
       "      <td>3.551770</td>\n",
       "      <td>0.004201</td>\n",
       "      <td>0.967583</td>\n",
       "      <td>305.884093</td>\n",
       "    </tr>\n",
       "    <tr>\n",
       "      <th>1</th>\n",
       "      <td>2023112700290</td>\n",
       "      <td>20231127</td>\n",
       "      <td>SDSSr_65mm~empty</td>\n",
       "      <td>r</td>\n",
       "      <td>27.843603</td>\n",
       "      <td>60276.275165</td>\n",
       "      <td>2023-11-28 06:35:59.225506</td>\n",
       "      <td>60276.274991</td>\n",
       "      <td>2023-11-28 06:35:59.225506</td>\n",
       "      <td>1.091708</td>\n",
       "      <td>3864</td>\n",
       "      <td>237</td>\n",
       "      <td>3.551770</td>\n",
       "      <td>0.004201</td>\n",
       "      <td>0.967583</td>\n",
       "      <td>305.884093</td>\n",
       "    </tr>\n",
       "    <tr>\n",
       "      <th>2</th>\n",
       "      <td>2023112700291</td>\n",
       "      <td>20231127</td>\n",
       "      <td>SDSSz_65mm~empty</td>\n",
       "      <td>z</td>\n",
       "      <td>27.314777</td>\n",
       "      <td>60276.275706</td>\n",
       "      <td>2023-11-28 06:36:45.996996</td>\n",
       "      <td>60276.275532</td>\n",
       "      <td>2023-11-28 06:36:45.996996</td>\n",
       "      <td>1.090408</td>\n",
       "      <td>3864</td>\n",
       "      <td>237</td>\n",
       "      <td>3.551770</td>\n",
       "      <td>0.004201</td>\n",
       "      <td>0.967583</td>\n",
       "      <td>305.884093</td>\n",
       "    </tr>\n",
       "    <tr>\n",
       "      <th>3</th>\n",
       "      <td>2023112700292</td>\n",
       "      <td>20231127</td>\n",
       "      <td>empty~SDSSy_65mm</td>\n",
       "      <td>y</td>\n",
       "      <td>26.169914</td>\n",
       "      <td>60276.276261</td>\n",
       "      <td>2023-11-28 06:37:33.978497</td>\n",
       "      <td>60276.276088</td>\n",
       "      <td>2023-11-28 06:37:33.978497</td>\n",
       "      <td>1.089088</td>\n",
       "      <td>3864</td>\n",
       "      <td>237</td>\n",
       "      <td>3.551770</td>\n",
       "      <td>0.004201</td>\n",
       "      <td>0.967583</td>\n",
       "      <td>305.884093</td>\n",
       "    </tr>\n",
       "    <tr>\n",
       "      <th>4</th>\n",
       "      <td>2023112700293</td>\n",
       "      <td>20231127</td>\n",
       "      <td>SDSSg_65mm~empty</td>\n",
       "      <td>g</td>\n",
       "      <td>28.077412</td>\n",
       "      <td>60276.277268</td>\n",
       "      <td>2023-11-28 06:39:00.978991</td>\n",
       "      <td>60276.277095</td>\n",
       "      <td>2023-11-28 06:39:00.978991</td>\n",
       "      <td>1.086840</td>\n",
       "      <td>3864</td>\n",
       "      <td>237</td>\n",
       "      <td>3.551770</td>\n",
       "      <td>0.004201</td>\n",
       "      <td>0.967583</td>\n",
       "      <td>305.884093</td>\n",
       "    </tr>\n",
       "    <tr>\n",
       "      <th>...</th>\n",
       "      <td>...</td>\n",
       "      <td>...</td>\n",
       "      <td>...</td>\n",
       "      <td>...</td>\n",
       "      <td>...</td>\n",
       "      <td>...</td>\n",
       "      <td>...</td>\n",
       "      <td>...</td>\n",
       "      <td>...</td>\n",
       "      <td>...</td>\n",
       "      <td>...</td>\n",
       "      <td>...</td>\n",
       "      <td>...</td>\n",
       "      <td>...</td>\n",
       "      <td>...</td>\n",
       "      <td>...</td>\n",
       "    </tr>\n",
       "    <tr>\n",
       "      <th>426</th>\n",
       "      <td>2023120600314</td>\n",
       "      <td>20231206</td>\n",
       "      <td>empty~SDSSy_65mm</td>\n",
       "      <td>y</td>\n",
       "      <td>26.273216</td>\n",
       "      <td>60285.309672</td>\n",
       "      <td>2023-12-07 07:25:40.656999</td>\n",
       "      <td>60285.309498</td>\n",
       "      <td>2023-12-07 07:25:40.656999</td>\n",
       "      <td>1.009665</td>\n",
       "      <td>3864</td>\n",
       "      <td>236</td>\n",
       "      <td>1.745412</td>\n",
       "      <td>0.007880</td>\n",
       "      <td>0.949152</td>\n",
       "      <td>313.621492</td>\n",
       "    </tr>\n",
       "    <tr>\n",
       "      <th>427</th>\n",
       "      <td>2023120600315</td>\n",
       "      <td>20231206</td>\n",
       "      <td>SDSSg_65mm~empty</td>\n",
       "      <td>g</td>\n",
       "      <td>28.086746</td>\n",
       "      <td>60285.310672</td>\n",
       "      <td>2023-12-07 07:27:07.101494</td>\n",
       "      <td>60285.310499</td>\n",
       "      <td>2023-12-07 07:27:07.101494</td>\n",
       "      <td>1.009217</td>\n",
       "      <td>3864</td>\n",
       "      <td>236</td>\n",
       "      <td>1.745412</td>\n",
       "      <td>0.007880</td>\n",
       "      <td>0.949152</td>\n",
       "      <td>313.621492</td>\n",
       "    </tr>\n",
       "    <tr>\n",
       "      <th>428</th>\n",
       "      <td>2023120600316</td>\n",
       "      <td>20231206</td>\n",
       "      <td>SDSSr_65mm~empty</td>\n",
       "      <td>r</td>\n",
       "      <td>27.864086</td>\n",
       "      <td>60285.311213</td>\n",
       "      <td>2023-12-07 07:27:53.827494</td>\n",
       "      <td>60285.311040</td>\n",
       "      <td>2023-12-07 07:27:53.827494</td>\n",
       "      <td>1.008973</td>\n",
       "      <td>3864</td>\n",
       "      <td>236</td>\n",
       "      <td>1.745412</td>\n",
       "      <td>0.007880</td>\n",
       "      <td>0.949152</td>\n",
       "      <td>313.621492</td>\n",
       "    </tr>\n",
       "    <tr>\n",
       "      <th>429</th>\n",
       "      <td>2023120600317</td>\n",
       "      <td>20231206</td>\n",
       "      <td>SDSSz_65mm~empty</td>\n",
       "      <td>z</td>\n",
       "      <td>27.352793</td>\n",
       "      <td>60285.311755</td>\n",
       "      <td>2023-12-07 07:28:40.619498</td>\n",
       "      <td>60285.311581</td>\n",
       "      <td>2023-12-07 07:28:40.619498</td>\n",
       "      <td>1.008738</td>\n",
       "      <td>3864</td>\n",
       "      <td>236</td>\n",
       "      <td>1.745412</td>\n",
       "      <td>0.007880</td>\n",
       "      <td>0.949152</td>\n",
       "      <td>313.621492</td>\n",
       "    </tr>\n",
       "    <tr>\n",
       "      <th>430</th>\n",
       "      <td>2023120600318</td>\n",
       "      <td>20231206</td>\n",
       "      <td>empty~SDSSy_65mm</td>\n",
       "      <td>y</td>\n",
       "      <td>26.269268</td>\n",
       "      <td>60285.312314</td>\n",
       "      <td>2023-12-07 07:29:28.912501</td>\n",
       "      <td>60285.312140</td>\n",
       "      <td>2023-12-07 07:29:28.912501</td>\n",
       "      <td>1.008504</td>\n",
       "      <td>3864</td>\n",
       "      <td>236</td>\n",
       "      <td>1.745412</td>\n",
       "      <td>0.007880</td>\n",
       "      <td>0.949152</td>\n",
       "      <td>313.621492</td>\n",
       "    </tr>\n",
       "  </tbody>\n",
       "</table>\n",
       "<p>431 rows × 16 columns</p>\n",
       "</div>"
      ],
      "text/plain": [
       "           visitId  nightObs   physical_filter band  zeroPoint   expMidptMJD  \\\n",
       "0    2023112700289  20231127  SDSSg_65mm~empty    g  28.049986  60276.274623   \n",
       "1    2023112700290  20231127  SDSSr_65mm~empty    r  27.843603  60276.275165   \n",
       "2    2023112700291  20231127  SDSSz_65mm~empty    z  27.314777  60276.275706   \n",
       "3    2023112700292  20231127  empty~SDSSy_65mm    y  26.169914  60276.276261   \n",
       "4    2023112700293  20231127  SDSSg_65mm~empty    g  28.077412  60276.277268   \n",
       "..             ...       ...               ...  ...        ...           ...   \n",
       "426  2023120600314  20231206  empty~SDSSy_65mm    y  26.273216  60285.309672   \n",
       "427  2023120600315  20231206  SDSSg_65mm~empty    g  28.086746  60285.310672   \n",
       "428  2023120600316  20231206  SDSSr_65mm~empty    r  27.864086  60285.311213   \n",
       "429  2023120600317  20231206  SDSSz_65mm~empty    z  27.352793  60285.311755   \n",
       "430  2023120600318  20231206  empty~SDSSy_65mm    y  26.269268  60285.312314   \n",
       "\n",
       "                       obsStart   obsStartMJD                        Time  \\\n",
       "0    2023-11-28 06:35:12.465999  60276.274450  2023-11-28 06:35:12.465999   \n",
       "1    2023-11-28 06:35:59.225506  60276.274991  2023-11-28 06:35:59.225506   \n",
       "2    2023-11-28 06:36:45.996996  60276.275532  2023-11-28 06:36:45.996996   \n",
       "3    2023-11-28 06:37:33.978497  60276.276088  2023-11-28 06:37:33.978497   \n",
       "4    2023-11-28 06:39:00.978991  60276.277095  2023-11-28 06:39:00.978991   \n",
       "..                          ...           ...                         ...   \n",
       "426  2023-12-07 07:25:40.656999  60285.309498  2023-12-07 07:25:40.656999   \n",
       "427  2023-12-07 07:27:07.101494  60285.310499  2023-12-07 07:27:07.101494   \n",
       "428  2023-12-07 07:27:53.827494  60285.311040  2023-12-07 07:27:53.827494   \n",
       "429  2023-12-07 07:28:40.619498  60285.311581  2023-12-07 07:28:40.619498   \n",
       "430  2023-12-07 07:29:28.912501  60285.312140  2023-12-07 07:29:28.912501   \n",
       "\n",
       "      airmass  patchID  tractID       PWV      VAOD      Grey       Ozone  \n",
       "0    1.093019     3864      237  3.551770  0.004201  0.967583  305.884093  \n",
       "1    1.091708     3864      237  3.551770  0.004201  0.967583  305.884093  \n",
       "2    1.090408     3864      237  3.551770  0.004201  0.967583  305.884093  \n",
       "3    1.089088     3864      237  3.551770  0.004201  0.967583  305.884093  \n",
       "4    1.086840     3864      237  3.551770  0.004201  0.967583  305.884093  \n",
       "..        ...      ...      ...       ...       ...       ...         ...  \n",
       "426  1.009665     3864      236  1.745412  0.007880  0.949152  313.621492  \n",
       "427  1.009217     3864      236  1.745412  0.007880  0.949152  313.621492  \n",
       "428  1.008973     3864      236  1.745412  0.007880  0.949152  313.621492  \n",
       "429  1.008738     3864      236  1.745412  0.007880  0.949152  313.621492  \n",
       "430  1.008504     3864      236  1.745412  0.007880  0.949152  313.621492  \n",
       "\n",
       "[431 rows x 16 columns]"
      ]
     },
     "execution_count": 19,
     "metadata": {},
     "output_type": "execute_result"
    }
   ],
   "source": [
    "df_myselectedvisits"
   ]
  },
  {
   "cell_type": "code",
   "execution_count": 20,
   "id": "cfc91d19-cac8-4956-afb8-05b17521f8d2",
   "metadata": {
    "execution": {
     "iopub.execute_input": "2024-04-04T12:31:27.807996Z",
     "iopub.status.busy": "2024-04-04T12:31:27.807870Z",
     "iopub.status.idle": "2024-04-04T12:31:27.810199Z",
     "shell.execute_reply": "2024-04-04T12:31:27.809835Z",
     "shell.execute_reply.started": "2024-04-04T12:31:27.807984Z"
    }
   },
   "outputs": [],
   "source": [
    "my_selectedvisits = list(df_myselectedvisits.visitId)"
   ]
  },
  {
   "cell_type": "code",
   "execution_count": 21,
   "id": "aef11060-62bd-47bb-8e3d-d9943f9a911a",
   "metadata": {
    "execution": {
     "iopub.execute_input": "2024-04-04T12:31:27.810811Z",
     "iopub.status.busy": "2024-04-04T12:31:27.810689Z",
     "iopub.status.idle": "2024-04-04T12:31:27.818647Z",
     "shell.execute_reply": "2024-04-04T12:31:27.818273Z",
     "shell.execute_reply.started": "2024-04-04T12:31:27.810800Z"
    }
   },
   "outputs": [],
   "source": [
    "df_atm = df_myselectedvisits[[\"visitId\",\"PWV\",\"VAOD\",\"Grey\",\"Ozone\"]]"
   ]
  },
  {
   "cell_type": "markdown",
   "id": "cbf3c9e3-8fc7-4b2f-a0bd-70aa0dca8441",
   "metadata": {},
   "source": [
    "## Config"
   ]
  },
  {
   "cell_type": "code",
   "execution_count": 22,
   "id": "59fe3761",
   "metadata": {
    "execution": {
     "iopub.execute_input": "2024-04-04T12:31:27.819258Z",
     "iopub.status.busy": "2024-04-04T12:31:27.819134Z",
     "iopub.status.idle": "2024-04-04T12:31:30.656044Z",
     "shell.execute_reply": "2024-04-04T12:31:30.655587Z",
     "shell.execute_reply.started": "2024-04-04T12:31:27.819247Z"
    }
   },
   "outputs": [
    {
     "name": "stdout",
     "output_type": "stream",
     "text": [
      "camera_name = LATISS\n",
      "collection = LATISS/runs/AUXTEL_DRP_IMAGING_20230509_20240311/w_2024_10/PREOPS-4985\n"
     ]
    }
   ],
   "source": [
    "# Initiate butler from variables set above\n",
    "butler = Butler(butlerRoot, collections=collection, instrument=instrument, skymap=skymapName)\n",
    "camera = butler.get(\"camera\", instrument=instrument)\n",
    "skymap = butler.get(\"skyMap\")\n",
    "print(\"camera_name = {}\".format(camera.getName()))\n",
    "print(\"collection = {}\".format(collection))"
   ]
  },
  {
   "cell_type": "code",
   "execution_count": 23,
   "id": "7525a250-b3b9-4d45-9f21-1a74c8d6f1dc",
   "metadata": {
    "execution": {
     "iopub.execute_input": "2024-04-04T12:31:30.656756Z",
     "iopub.status.busy": "2024-04-04T12:31:30.656620Z",
     "iopub.status.idle": "2024-04-04T12:31:31.037062Z",
     "shell.execute_reply": "2024-04-04T12:31:31.036679Z",
     "shell.execute_reply.started": "2024-04-04T12:31:30.656744Z"
    }
   },
   "outputs": [
    {
     "name": "stdout",
     "output_type": "stream",
     "text": [
      "0 isolated_star_sources@{instrument: 'LATISS', skymap: 'latiss_v1', tract: 5616} [sc=DataFrame] (run=LATISS/runs/AUXTEL_DRP_IMAGING_20230509_20240311/w_2024_10/PREOPS-4985/20240318T162806Z id=5f4f812e-80ee-4a4f-9c28-ee1d827a3288)\n"
     ]
    }
   ],
   "source": [
    "# Try to get the Schema\n",
    "data_product = \"isolated_star_sources\"\n",
    "datasetRefs = butler.registry.queryDatasets(datasetType=data_product, collections=collection, where= \"instrument='LATISS'\")\n",
    "for i, ref in enumerate(datasetRefs):\n",
    "    print(i,ref)\n",
    "    butler_data = butler.get(ref)\n",
    "    break\n",
    "\n",
    "if not isinstance(butler_data, pd.core.frame.DataFrame):\n",
    "    print(butler_data.getSchema())"
   ]
  },
  {
   "cell_type": "markdown",
   "id": "122dcf42-a6bd-4c49-b336-39e861c9c5e4",
   "metadata": {},
   "source": [
    "## isolated_star_sources Keeping all bands here, but keep the tract selection\n",
    "\n",
    "The main starting point is the table of isolated_star_sources which has been constructed in step 2a from a catalog\n",
    "Note that isolated star sources are associated to an object (a static starobject)\n",
    "Here the work is doneband by band.\n",
    "It is a good idea to work band by band."
   ]
  },
  {
   "cell_type": "code",
   "execution_count": 24,
   "id": "8856e2a2",
   "metadata": {
    "execution": {
     "iopub.execute_input": "2024-04-04T12:31:31.037737Z",
     "iopub.status.busy": "2024-04-04T12:31:31.037608Z",
     "iopub.status.idle": "2024-04-04T12:31:34.592577Z",
     "shell.execute_reply": "2024-04-04T12:31:34.592128Z",
     "shell.execute_reply.started": "2024-04-04T12:31:31.037725Z"
    }
   },
   "outputs": [],
   "source": [
    "# Load in isolated_star_sources and trim to band of interest and select the tract\n",
    "isolatedStarSourcesFull = butler.get(\"isolated_star_sources\", tract=tract)\n",
    "#isolatedStarSourcesFull = isolatedStarSourcesFull[isolatedStarSourcesFull[\"band\"] == band]"
   ]
  },
  {
   "cell_type": "code",
   "execution_count": 25,
   "id": "773ffada-3c31-4e62-b15b-b67926fc6c08",
   "metadata": {
    "execution": {
     "iopub.execute_input": "2024-04-04T12:31:34.593273Z",
     "iopub.status.busy": "2024-04-04T12:31:34.593141Z",
     "iopub.status.idle": "2024-04-04T12:31:34.602376Z",
     "shell.execute_reply": "2024-04-04T12:31:34.602038Z",
     "shell.execute_reply.started": "2024-04-04T12:31:34.593260Z"
    }
   },
   "outputs": [
    {
     "data": {
      "text/html": [
       "<div>\n",
       "<style scoped>\n",
       "    .dataframe tbody tr th:only-of-type {\n",
       "        vertical-align: middle;\n",
       "    }\n",
       "\n",
       "    .dataframe tbody tr th {\n",
       "        vertical-align: top;\n",
       "    }\n",
       "\n",
       "    .dataframe thead th {\n",
       "        text-align: right;\n",
       "    }\n",
       "</style>\n",
       "<table border=\"1\" class=\"dataframe\">\n",
       "  <thead>\n",
       "    <tr style=\"text-align: right;\">\n",
       "      <th></th>\n",
       "      <th>index</th>\n",
       "      <th>sourceId</th>\n",
       "      <th>visit</th>\n",
       "      <th>detector</th>\n",
       "      <th>ra</th>\n",
       "      <th>dec</th>\n",
       "      <th>physical_filter</th>\n",
       "      <th>band</th>\n",
       "      <th>apFlux_35_0_instFlux</th>\n",
       "      <th>apFlux_35_0_instFluxErr</th>\n",
       "      <th>x</th>\n",
       "      <th>y</th>\n",
       "      <th>apFlux_50_0_instFlux</th>\n",
       "      <th>apFlux_50_0_instFluxErr</th>\n",
       "      <th>apFlux_50_0_flag</th>\n",
       "      <th>localBackground_instFlux</th>\n",
       "      <th>localBackground_flag</th>\n",
       "      <th>source_row</th>\n",
       "      <th>obj_index</th>\n",
       "    </tr>\n",
       "  </thead>\n",
       "  <tbody>\n",
       "    <tr>\n",
       "      <th>0</th>\n",
       "      <td>720</td>\n",
       "      <td>178244558356742865</td>\n",
       "      <td>2023111500493</td>\n",
       "      <td>0</td>\n",
       "      <td>122.502818</td>\n",
       "      <td>-36.181373</td>\n",
       "      <td>empty~SDSSi_65mm</td>\n",
       "      <td>i</td>\n",
       "      <td>17929.311148</td>\n",
       "      <td>580.063968</td>\n",
       "      <td>3089.020434</td>\n",
       "      <td>3522.956779</td>\n",
       "      <td>18544.821571</td>\n",
       "      <td>817.794717</td>\n",
       "      <td>False</td>\n",
       "      <td>-0.084691</td>\n",
       "      <td>False</td>\n",
       "      <td>720</td>\n",
       "      <td>0</td>\n",
       "    </tr>\n",
       "    <tr>\n",
       "      <th>1</th>\n",
       "      <td>657</td>\n",
       "      <td>178244564799193746</td>\n",
       "      <td>2023111500499</td>\n",
       "      <td>0</td>\n",
       "      <td>122.502820</td>\n",
       "      <td>-36.181372</td>\n",
       "      <td>empty~SDSSi_65mm</td>\n",
       "      <td>i</td>\n",
       "      <td>17965.443097</td>\n",
       "      <td>593.565729</td>\n",
       "      <td>1981.052932</td>\n",
       "      <td>3539.433919</td>\n",
       "      <td>18788.373258</td>\n",
       "      <td>839.011243</td>\n",
       "      <td>False</td>\n",
       "      <td>0.049484</td>\n",
       "      <td>False</td>\n",
       "      <td>657</td>\n",
       "      <td>0</td>\n",
       "    </tr>\n",
       "    <tr>\n",
       "      <th>2</th>\n",
       "      <td>690</td>\n",
       "      <td>178244568020419251</td>\n",
       "      <td>2023111500502</td>\n",
       "      <td>0</td>\n",
       "      <td>122.502819</td>\n",
       "      <td>-36.181372</td>\n",
       "      <td>empty~SDSSi_65mm</td>\n",
       "      <td>i</td>\n",
       "      <td>17309.856495</td>\n",
       "      <td>581.983397</td>\n",
       "      <td>1425.831515</td>\n",
       "      <td>3545.340924</td>\n",
       "      <td>17906.736267</td>\n",
       "      <td>821.413552</td>\n",
       "      <td>False</td>\n",
       "      <td>0.070277</td>\n",
       "      <td>False</td>\n",
       "      <td>690</td>\n",
       "      <td>0</td>\n",
       "    </tr>\n",
       "    <tr>\n",
       "      <th>3</th>\n",
       "      <td>481</td>\n",
       "      <td>178244580905320930</td>\n",
       "      <td>2023111500514</td>\n",
       "      <td>0</td>\n",
       "      <td>122.502817</td>\n",
       "      <td>-36.181374</td>\n",
       "      <td>empty~SDSSi_65mm</td>\n",
       "      <td>i</td>\n",
       "      <td>16563.487123</td>\n",
       "      <td>545.671588</td>\n",
       "      <td>3634.994108</td>\n",
       "      <td>2036.356179</td>\n",
       "      <td>16308.805325</td>\n",
       "      <td>776.241811</td>\n",
       "      <td>False</td>\n",
       "      <td>-0.196106</td>\n",
       "      <td>False</td>\n",
       "      <td>481</td>\n",
       "      <td>0</td>\n",
       "    </tr>\n",
       "    <tr>\n",
       "      <th>4</th>\n",
       "      <td>432</td>\n",
       "      <td>178244587347771825</td>\n",
       "      <td>2023111500520</td>\n",
       "      <td>0</td>\n",
       "      <td>122.502822</td>\n",
       "      <td>-36.181372</td>\n",
       "      <td>empty~SDSSi_65mm</td>\n",
       "      <td>i</td>\n",
       "      <td>17951.820662</td>\n",
       "      <td>577.548601</td>\n",
       "      <td>2527.386039</td>\n",
       "      <td>2051.742380</td>\n",
       "      <td>18624.356145</td>\n",
       "      <td>814.688326</td>\n",
       "      <td>False</td>\n",
       "      <td>0.041315</td>\n",
       "      <td>False</td>\n",
       "      <td>432</td>\n",
       "      <td>0</td>\n",
       "    </tr>\n",
       "  </tbody>\n",
       "</table>\n",
       "</div>"
      ],
      "text/plain": [
       "   index            sourceId          visit  detector          ra        dec  \\\n",
       "0    720  178244558356742865  2023111500493         0  122.502818 -36.181373   \n",
       "1    657  178244564799193746  2023111500499         0  122.502820 -36.181372   \n",
       "2    690  178244568020419251  2023111500502         0  122.502819 -36.181372   \n",
       "3    481  178244580905320930  2023111500514         0  122.502817 -36.181374   \n",
       "4    432  178244587347771825  2023111500520         0  122.502822 -36.181372   \n",
       "\n",
       "    physical_filter band  apFlux_35_0_instFlux  apFlux_35_0_instFluxErr  \\\n",
       "0  empty~SDSSi_65mm    i          17929.311148               580.063968   \n",
       "1  empty~SDSSi_65mm    i          17965.443097               593.565729   \n",
       "2  empty~SDSSi_65mm    i          17309.856495               581.983397   \n",
       "3  empty~SDSSi_65mm    i          16563.487123               545.671588   \n",
       "4  empty~SDSSi_65mm    i          17951.820662               577.548601   \n",
       "\n",
       "             x            y  apFlux_50_0_instFlux  apFlux_50_0_instFluxErr  \\\n",
       "0  3089.020434  3522.956779          18544.821571               817.794717   \n",
       "1  1981.052932  3539.433919          18788.373258               839.011243   \n",
       "2  1425.831515  3545.340924          17906.736267               821.413552   \n",
       "3  3634.994108  2036.356179          16308.805325               776.241811   \n",
       "4  2527.386039  2051.742380          18624.356145               814.688326   \n",
       "\n",
       "   apFlux_50_0_flag  localBackground_instFlux  localBackground_flag  \\\n",
       "0             False                 -0.084691                 False   \n",
       "1             False                  0.049484                 False   \n",
       "2             False                  0.070277                 False   \n",
       "3             False                 -0.196106                 False   \n",
       "4             False                  0.041315                 False   \n",
       "\n",
       "   source_row  obj_index  \n",
       "0         720          0  \n",
       "1         657          0  \n",
       "2         690          0  \n",
       "3         481          0  \n",
       "4         432          0  "
      ]
     },
     "execution_count": 25,
     "metadata": {},
     "output_type": "execute_result"
    }
   ],
   "source": [
    "isolatedStarSourcesFull.head()"
   ]
  },
  {
   "cell_type": "code",
   "execution_count": 26,
   "id": "c5b25eeb-5b8c-4b49-b556-496198adf8a5",
   "metadata": {
    "execution": {
     "iopub.execute_input": "2024-04-04T12:31:34.603008Z",
     "iopub.status.busy": "2024-04-04T12:31:34.602886Z",
     "iopub.status.idle": "2024-04-04T12:31:34.611316Z",
     "shell.execute_reply": "2024-04-04T12:31:34.610924Z",
     "shell.execute_reply.started": "2024-04-04T12:31:34.602997Z"
    }
   },
   "outputs": [
    {
     "data": {
      "text/html": [
       "<div>\n",
       "<style scoped>\n",
       "    .dataframe tbody tr th:only-of-type {\n",
       "        vertical-align: middle;\n",
       "    }\n",
       "\n",
       "    .dataframe tbody tr th {\n",
       "        vertical-align: top;\n",
       "    }\n",
       "\n",
       "    .dataframe thead th {\n",
       "        text-align: right;\n",
       "    }\n",
       "</style>\n",
       "<table border=\"1\" class=\"dataframe\">\n",
       "  <thead>\n",
       "    <tr style=\"text-align: right;\">\n",
       "      <th></th>\n",
       "      <th>index</th>\n",
       "      <th>sourceId</th>\n",
       "      <th>visit</th>\n",
       "      <th>detector</th>\n",
       "      <th>ra</th>\n",
       "      <th>dec</th>\n",
       "      <th>physical_filter</th>\n",
       "      <th>band</th>\n",
       "      <th>apFlux_35_0_instFlux</th>\n",
       "      <th>apFlux_35_0_instFluxErr</th>\n",
       "      <th>x</th>\n",
       "      <th>y</th>\n",
       "      <th>apFlux_50_0_instFlux</th>\n",
       "      <th>apFlux_50_0_instFluxErr</th>\n",
       "      <th>apFlux_50_0_flag</th>\n",
       "      <th>localBackground_instFlux</th>\n",
       "      <th>localBackground_flag</th>\n",
       "      <th>source_row</th>\n",
       "      <th>obj_index</th>\n",
       "    </tr>\n",
       "  </thead>\n",
       "  <tbody>\n",
       "    <tr>\n",
       "      <th>163856</th>\n",
       "      <td>56</td>\n",
       "      <td>179546353280483385</td>\n",
       "      <td>2023122200468</td>\n",
       "      <td>0</td>\n",
       "      <td>122.636922</td>\n",
       "      <td>-36.166699</td>\n",
       "      <td>empty~SDSSy_65mm</td>\n",
       "      <td>y</td>\n",
       "      <td>6159.305843</td>\n",
       "      <td>570.340900</td>\n",
       "      <td>4029.261883</td>\n",
       "      <td>467.716012</td>\n",
       "      <td>NaN</td>\n",
       "      <td>NaN</td>\n",
       "      <td>True</td>\n",
       "      <td>-0.120178</td>\n",
       "      <td>False</td>\n",
       "      <td>56</td>\n",
       "      <td>1298</td>\n",
       "    </tr>\n",
       "    <tr>\n",
       "      <th>163857</th>\n",
       "      <td>6</td>\n",
       "      <td>178913118334746631</td>\n",
       "      <td>2023120400546</td>\n",
       "      <td>0</td>\n",
       "      <td>122.627449</td>\n",
       "      <td>-36.261951</td>\n",
       "      <td>empty~SDSSy_65mm</td>\n",
       "      <td>y</td>\n",
       "      <td>6002.652226</td>\n",
       "      <td>546.429347</td>\n",
       "      <td>3854.516501</td>\n",
       "      <td>69.447705</td>\n",
       "      <td>5149.290161</td>\n",
       "      <td>779.662392</td>\n",
       "      <td>False</td>\n",
       "      <td>-0.179842</td>\n",
       "      <td>False</td>\n",
       "      <td>6</td>\n",
       "      <td>1299</td>\n",
       "    </tr>\n",
       "    <tr>\n",
       "      <th>163858</th>\n",
       "      <td>289</td>\n",
       "      <td>181973644384141602</td>\n",
       "      <td>2024022900067</td>\n",
       "      <td>0</td>\n",
       "      <td>122.439252</td>\n",
       "      <td>-36.069256</td>\n",
       "      <td>empty~SDSSy_65mm</td>\n",
       "      <td>y</td>\n",
       "      <td>17046.173911</td>\n",
       "      <td>591.284537</td>\n",
       "      <td>1160.102547</td>\n",
       "      <td>3639.086131</td>\n",
       "      <td>19346.313383</td>\n",
       "      <td>837.526273</td>\n",
       "      <td>False</td>\n",
       "      <td>0.166535</td>\n",
       "      <td>False</td>\n",
       "      <td>289</td>\n",
       "      <td>1300</td>\n",
       "    </tr>\n",
       "    <tr>\n",
       "      <th>163859</th>\n",
       "      <td>311</td>\n",
       "      <td>181973652974076216</td>\n",
       "      <td>2024022900075</td>\n",
       "      <td>0</td>\n",
       "      <td>122.477861</td>\n",
       "      <td>-36.067847</td>\n",
       "      <td>empty~SDSSy_65mm</td>\n",
       "      <td>y</td>\n",
       "      <td>17262.146455</td>\n",
       "      <td>589.125479</td>\n",
       "      <td>1210.733303</td>\n",
       "      <td>3710.297643</td>\n",
       "      <td>17597.427159</td>\n",
       "      <td>831.424850</td>\n",
       "      <td>False</td>\n",
       "      <td>0.083739</td>\n",
       "      <td>False</td>\n",
       "      <td>311</td>\n",
       "      <td>1301</td>\n",
       "    </tr>\n",
       "    <tr>\n",
       "      <th>163860</th>\n",
       "      <td>149</td>\n",
       "      <td>179159378874597526</td>\n",
       "      <td>2023121100518</td>\n",
       "      <td>0</td>\n",
       "      <td>122.371089</td>\n",
       "      <td>-36.241101</td>\n",
       "      <td>empty~SDSSy_65mm</td>\n",
       "      <td>y</td>\n",
       "      <td>6536.212928</td>\n",
       "      <td>607.428677</td>\n",
       "      <td>112.776400</td>\n",
       "      <td>984.505377</td>\n",
       "      <td>7636.402888</td>\n",
       "      <td>864.654488</td>\n",
       "      <td>False</td>\n",
       "      <td>0.303516</td>\n",
       "      <td>False</td>\n",
       "      <td>149</td>\n",
       "      <td>1302</td>\n",
       "    </tr>\n",
       "  </tbody>\n",
       "</table>\n",
       "</div>"
      ],
      "text/plain": [
       "        index            sourceId          visit  detector          ra  \\\n",
       "163856     56  179546353280483385  2023122200468         0  122.636922   \n",
       "163857      6  178913118334746631  2023120400546         0  122.627449   \n",
       "163858    289  181973644384141602  2024022900067         0  122.439252   \n",
       "163859    311  181973652974076216  2024022900075         0  122.477861   \n",
       "163860    149  179159378874597526  2023121100518         0  122.371089   \n",
       "\n",
       "              dec   physical_filter band  apFlux_35_0_instFlux  \\\n",
       "163856 -36.166699  empty~SDSSy_65mm    y           6159.305843   \n",
       "163857 -36.261951  empty~SDSSy_65mm    y           6002.652226   \n",
       "163858 -36.069256  empty~SDSSy_65mm    y          17046.173911   \n",
       "163859 -36.067847  empty~SDSSy_65mm    y          17262.146455   \n",
       "163860 -36.241101  empty~SDSSy_65mm    y           6536.212928   \n",
       "\n",
       "        apFlux_35_0_instFluxErr            x            y  \\\n",
       "163856               570.340900  4029.261883   467.716012   \n",
       "163857               546.429347  3854.516501    69.447705   \n",
       "163858               591.284537  1160.102547  3639.086131   \n",
       "163859               589.125479  1210.733303  3710.297643   \n",
       "163860               607.428677   112.776400   984.505377   \n",
       "\n",
       "        apFlux_50_0_instFlux  apFlux_50_0_instFluxErr  apFlux_50_0_flag  \\\n",
       "163856                   NaN                      NaN              True   \n",
       "163857           5149.290161               779.662392             False   \n",
       "163858          19346.313383               837.526273             False   \n",
       "163859          17597.427159               831.424850             False   \n",
       "163860           7636.402888               864.654488             False   \n",
       "\n",
       "        localBackground_instFlux  localBackground_flag  source_row  obj_index  \n",
       "163856                 -0.120178                 False          56       1298  \n",
       "163857                 -0.179842                 False           6       1299  \n",
       "163858                  0.166535                 False         289       1300  \n",
       "163859                  0.083739                 False         311       1301  \n",
       "163860                  0.303516                 False         149       1302  "
      ]
     },
     "execution_count": 26,
     "metadata": {},
     "output_type": "execute_result"
    }
   ],
   "source": [
    "isolatedStarSourcesFull.tail()"
   ]
  },
  {
   "cell_type": "code",
   "execution_count": 27,
   "id": "1674462b-8b58-4dde-8086-5e7249ad7290",
   "metadata": {
    "execution": {
     "iopub.execute_input": "2024-04-04T12:31:34.611884Z",
     "iopub.status.busy": "2024-04-04T12:31:34.611764Z",
     "iopub.status.idle": "2024-04-04T12:31:34.614249Z",
     "shell.execute_reply": "2024-04-04T12:31:34.613925Z",
     "shell.execute_reply.started": "2024-04-04T12:31:34.611873Z"
    }
   },
   "outputs": [
    {
     "data": {
      "text/plain": [
       "Index(['index', 'sourceId', 'visit', 'detector', 'ra', 'dec',\n",
       "       'physical_filter', 'band', 'apFlux_35_0_instFlux',\n",
       "       'apFlux_35_0_instFluxErr', 'x', 'y', 'apFlux_50_0_instFlux',\n",
       "       'apFlux_50_0_instFluxErr', 'apFlux_50_0_flag',\n",
       "       'localBackground_instFlux', 'localBackground_flag', 'source_row',\n",
       "       'obj_index'],\n",
       "      dtype='object')"
      ]
     },
     "execution_count": 27,
     "metadata": {},
     "output_type": "execute_result"
    }
   ],
   "source": [
    "isolatedStarSourcesFull.columns"
   ]
  },
  {
   "cell_type": "markdown",
   "id": "f58dda1f-5506-4645-b292-a4446df54b4d",
   "metadata": {},
   "source": [
    "## Select the visits in the preselected list\n",
    "\n",
    "I add here my filter to select the visits I want to focus on from file_selected_visits = \"../data/202402/SelectedVisits_fall2023_tract_3864.csv\"\n",
    "It include all bands"
   ]
  },
  {
   "cell_type": "code",
   "execution_count": 28,
   "id": "006fa802-59d5-45f5-863b-aa0cf7590896",
   "metadata": {
    "execution": {
     "iopub.execute_input": "2024-04-04T12:31:34.614795Z",
     "iopub.status.busy": "2024-04-04T12:31:34.614678Z",
     "iopub.status.idle": "2024-04-04T12:31:34.618160Z",
     "shell.execute_reply": "2024-04-04T12:31:34.617816Z",
     "shell.execute_reply.started": "2024-04-04T12:31:34.614784Z"
    }
   },
   "outputs": [],
   "source": [
    "FLAG_SELECT_MYVISITS = False"
   ]
  },
  {
   "cell_type": "code",
   "execution_count": 29,
   "id": "0d5ce2c3-0bf4-4b99-9973-92aae5b66b22",
   "metadata": {
    "execution": {
     "iopub.execute_input": "2024-04-04T12:31:34.618806Z",
     "iopub.status.busy": "2024-04-04T12:31:34.618691Z",
     "iopub.status.idle": "2024-04-04T12:31:34.621117Z",
     "shell.execute_reply": "2024-04-04T12:31:34.620745Z",
     "shell.execute_reply.started": "2024-04-04T12:31:34.618795Z"
    }
   },
   "outputs": [],
   "source": [
    "def SelectByVisit(row):\n",
    "    if row[\"visit\"] in my_selectedvisits:\n",
    "        return True\n",
    "    else:\n",
    "        return False"
   ]
  },
  {
   "cell_type": "code",
   "execution_count": 30,
   "id": "dee7564a-5b01-4198-bfd0-82770cd57156",
   "metadata": {
    "execution": {
     "iopub.execute_input": "2024-04-04T12:31:34.621697Z",
     "iopub.status.busy": "2024-04-04T12:31:34.621579Z",
     "iopub.status.idle": "2024-04-04T12:31:34.625705Z",
     "shell.execute_reply": "2024-04-04T12:31:34.625378Z",
     "shell.execute_reply.started": "2024-04-04T12:31:34.621686Z"
    }
   },
   "outputs": [],
   "source": [
    "if FLAG_SELECT_MYVISITS:\n",
    "    isolatedStarSourcesFull[\"flag\"] = isolatedStarSourcesFull.apply(SelectByVisit,axis=1,raw=False)\n",
    "    isolatedStarSourcesFull = isolatedStarSourcesFull[isolatedStarSourcesFull[\"flag\"]]\n",
    "    isolatedStarSourcesFull.drop(\"flag\",axis=1,inplace=True)"
   ]
  },
  {
   "cell_type": "code",
   "execution_count": 31,
   "id": "3a699fdd-697e-4f0a-a5b9-d830f7796754",
   "metadata": {
    "execution": {
     "iopub.execute_input": "2024-04-04T12:31:34.626261Z",
     "iopub.status.busy": "2024-04-04T12:31:34.626143Z",
     "iopub.status.idle": "2024-04-04T12:31:34.638461Z",
     "shell.execute_reply": "2024-04-04T12:31:34.638115Z",
     "shell.execute_reply.started": "2024-04-04T12:31:34.626250Z"
    }
   },
   "outputs": [
    {
     "data": {
      "text/html": [
       "<div>\n",
       "<style scoped>\n",
       "    .dataframe tbody tr th:only-of-type {\n",
       "        vertical-align: middle;\n",
       "    }\n",
       "\n",
       "    .dataframe tbody tr th {\n",
       "        vertical-align: top;\n",
       "    }\n",
       "\n",
       "    .dataframe thead th {\n",
       "        text-align: right;\n",
       "    }\n",
       "</style>\n",
       "<table border=\"1\" class=\"dataframe\">\n",
       "  <thead>\n",
       "    <tr style=\"text-align: right;\">\n",
       "      <th></th>\n",
       "      <th>index</th>\n",
       "      <th>sourceId</th>\n",
       "      <th>visit</th>\n",
       "      <th>detector</th>\n",
       "      <th>ra</th>\n",
       "      <th>dec</th>\n",
       "      <th>physical_filter</th>\n",
       "      <th>band</th>\n",
       "      <th>apFlux_35_0_instFlux</th>\n",
       "      <th>apFlux_35_0_instFluxErr</th>\n",
       "      <th>x</th>\n",
       "      <th>y</th>\n",
       "      <th>apFlux_50_0_instFlux</th>\n",
       "      <th>apFlux_50_0_instFluxErr</th>\n",
       "      <th>apFlux_50_0_flag</th>\n",
       "      <th>localBackground_instFlux</th>\n",
       "      <th>localBackground_flag</th>\n",
       "      <th>source_row</th>\n",
       "      <th>obj_index</th>\n",
       "    </tr>\n",
       "  </thead>\n",
       "  <tbody>\n",
       "    <tr>\n",
       "      <th>0</th>\n",
       "      <td>720</td>\n",
       "      <td>178244558356742865</td>\n",
       "      <td>2023111500493</td>\n",
       "      <td>0</td>\n",
       "      <td>122.502818</td>\n",
       "      <td>-36.181373</td>\n",
       "      <td>empty~SDSSi_65mm</td>\n",
       "      <td>i</td>\n",
       "      <td>17929.311148</td>\n",
       "      <td>580.063968</td>\n",
       "      <td>3089.020434</td>\n",
       "      <td>3522.956779</td>\n",
       "      <td>18544.821571</td>\n",
       "      <td>817.794717</td>\n",
       "      <td>False</td>\n",
       "      <td>-0.084691</td>\n",
       "      <td>False</td>\n",
       "      <td>720</td>\n",
       "      <td>0</td>\n",
       "    </tr>\n",
       "    <tr>\n",
       "      <th>1</th>\n",
       "      <td>657</td>\n",
       "      <td>178244564799193746</td>\n",
       "      <td>2023111500499</td>\n",
       "      <td>0</td>\n",
       "      <td>122.502820</td>\n",
       "      <td>-36.181372</td>\n",
       "      <td>empty~SDSSi_65mm</td>\n",
       "      <td>i</td>\n",
       "      <td>17965.443097</td>\n",
       "      <td>593.565729</td>\n",
       "      <td>1981.052932</td>\n",
       "      <td>3539.433919</td>\n",
       "      <td>18788.373258</td>\n",
       "      <td>839.011243</td>\n",
       "      <td>False</td>\n",
       "      <td>0.049484</td>\n",
       "      <td>False</td>\n",
       "      <td>657</td>\n",
       "      <td>0</td>\n",
       "    </tr>\n",
       "    <tr>\n",
       "      <th>2</th>\n",
       "      <td>690</td>\n",
       "      <td>178244568020419251</td>\n",
       "      <td>2023111500502</td>\n",
       "      <td>0</td>\n",
       "      <td>122.502819</td>\n",
       "      <td>-36.181372</td>\n",
       "      <td>empty~SDSSi_65mm</td>\n",
       "      <td>i</td>\n",
       "      <td>17309.856495</td>\n",
       "      <td>581.983397</td>\n",
       "      <td>1425.831515</td>\n",
       "      <td>3545.340924</td>\n",
       "      <td>17906.736267</td>\n",
       "      <td>821.413552</td>\n",
       "      <td>False</td>\n",
       "      <td>0.070277</td>\n",
       "      <td>False</td>\n",
       "      <td>690</td>\n",
       "      <td>0</td>\n",
       "    </tr>\n",
       "    <tr>\n",
       "      <th>3</th>\n",
       "      <td>481</td>\n",
       "      <td>178244580905320930</td>\n",
       "      <td>2023111500514</td>\n",
       "      <td>0</td>\n",
       "      <td>122.502817</td>\n",
       "      <td>-36.181374</td>\n",
       "      <td>empty~SDSSi_65mm</td>\n",
       "      <td>i</td>\n",
       "      <td>16563.487123</td>\n",
       "      <td>545.671588</td>\n",
       "      <td>3634.994108</td>\n",
       "      <td>2036.356179</td>\n",
       "      <td>16308.805325</td>\n",
       "      <td>776.241811</td>\n",
       "      <td>False</td>\n",
       "      <td>-0.196106</td>\n",
       "      <td>False</td>\n",
       "      <td>481</td>\n",
       "      <td>0</td>\n",
       "    </tr>\n",
       "    <tr>\n",
       "      <th>4</th>\n",
       "      <td>432</td>\n",
       "      <td>178244587347771825</td>\n",
       "      <td>2023111500520</td>\n",
       "      <td>0</td>\n",
       "      <td>122.502822</td>\n",
       "      <td>-36.181372</td>\n",
       "      <td>empty~SDSSi_65mm</td>\n",
       "      <td>i</td>\n",
       "      <td>17951.820662</td>\n",
       "      <td>577.548601</td>\n",
       "      <td>2527.386039</td>\n",
       "      <td>2051.742380</td>\n",
       "      <td>18624.356145</td>\n",
       "      <td>814.688326</td>\n",
       "      <td>False</td>\n",
       "      <td>0.041315</td>\n",
       "      <td>False</td>\n",
       "      <td>432</td>\n",
       "      <td>0</td>\n",
       "    </tr>\n",
       "    <tr>\n",
       "      <th>...</th>\n",
       "      <td>...</td>\n",
       "      <td>...</td>\n",
       "      <td>...</td>\n",
       "      <td>...</td>\n",
       "      <td>...</td>\n",
       "      <td>...</td>\n",
       "      <td>...</td>\n",
       "      <td>...</td>\n",
       "      <td>...</td>\n",
       "      <td>...</td>\n",
       "      <td>...</td>\n",
       "      <td>...</td>\n",
       "      <td>...</td>\n",
       "      <td>...</td>\n",
       "      <td>...</td>\n",
       "      <td>...</td>\n",
       "      <td>...</td>\n",
       "      <td>...</td>\n",
       "      <td>...</td>\n",
       "    </tr>\n",
       "    <tr>\n",
       "      <th>163856</th>\n",
       "      <td>56</td>\n",
       "      <td>179546353280483385</td>\n",
       "      <td>2023122200468</td>\n",
       "      <td>0</td>\n",
       "      <td>122.636922</td>\n",
       "      <td>-36.166699</td>\n",
       "      <td>empty~SDSSy_65mm</td>\n",
       "      <td>y</td>\n",
       "      <td>6159.305843</td>\n",
       "      <td>570.340900</td>\n",
       "      <td>4029.261883</td>\n",
       "      <td>467.716012</td>\n",
       "      <td>NaN</td>\n",
       "      <td>NaN</td>\n",
       "      <td>True</td>\n",
       "      <td>-0.120178</td>\n",
       "      <td>False</td>\n",
       "      <td>56</td>\n",
       "      <td>1298</td>\n",
       "    </tr>\n",
       "    <tr>\n",
       "      <th>163857</th>\n",
       "      <td>6</td>\n",
       "      <td>178913118334746631</td>\n",
       "      <td>2023120400546</td>\n",
       "      <td>0</td>\n",
       "      <td>122.627449</td>\n",
       "      <td>-36.261951</td>\n",
       "      <td>empty~SDSSy_65mm</td>\n",
       "      <td>y</td>\n",
       "      <td>6002.652226</td>\n",
       "      <td>546.429347</td>\n",
       "      <td>3854.516501</td>\n",
       "      <td>69.447705</td>\n",
       "      <td>5149.290161</td>\n",
       "      <td>779.662392</td>\n",
       "      <td>False</td>\n",
       "      <td>-0.179842</td>\n",
       "      <td>False</td>\n",
       "      <td>6</td>\n",
       "      <td>1299</td>\n",
       "    </tr>\n",
       "    <tr>\n",
       "      <th>163858</th>\n",
       "      <td>289</td>\n",
       "      <td>181973644384141602</td>\n",
       "      <td>2024022900067</td>\n",
       "      <td>0</td>\n",
       "      <td>122.439252</td>\n",
       "      <td>-36.069256</td>\n",
       "      <td>empty~SDSSy_65mm</td>\n",
       "      <td>y</td>\n",
       "      <td>17046.173911</td>\n",
       "      <td>591.284537</td>\n",
       "      <td>1160.102547</td>\n",
       "      <td>3639.086131</td>\n",
       "      <td>19346.313383</td>\n",
       "      <td>837.526273</td>\n",
       "      <td>False</td>\n",
       "      <td>0.166535</td>\n",
       "      <td>False</td>\n",
       "      <td>289</td>\n",
       "      <td>1300</td>\n",
       "    </tr>\n",
       "    <tr>\n",
       "      <th>163859</th>\n",
       "      <td>311</td>\n",
       "      <td>181973652974076216</td>\n",
       "      <td>2024022900075</td>\n",
       "      <td>0</td>\n",
       "      <td>122.477861</td>\n",
       "      <td>-36.067847</td>\n",
       "      <td>empty~SDSSy_65mm</td>\n",
       "      <td>y</td>\n",
       "      <td>17262.146455</td>\n",
       "      <td>589.125479</td>\n",
       "      <td>1210.733303</td>\n",
       "      <td>3710.297643</td>\n",
       "      <td>17597.427159</td>\n",
       "      <td>831.424850</td>\n",
       "      <td>False</td>\n",
       "      <td>0.083739</td>\n",
       "      <td>False</td>\n",
       "      <td>311</td>\n",
       "      <td>1301</td>\n",
       "    </tr>\n",
       "    <tr>\n",
       "      <th>163860</th>\n",
       "      <td>149</td>\n",
       "      <td>179159378874597526</td>\n",
       "      <td>2023121100518</td>\n",
       "      <td>0</td>\n",
       "      <td>122.371089</td>\n",
       "      <td>-36.241101</td>\n",
       "      <td>empty~SDSSy_65mm</td>\n",
       "      <td>y</td>\n",
       "      <td>6536.212928</td>\n",
       "      <td>607.428677</td>\n",
       "      <td>112.776400</td>\n",
       "      <td>984.505377</td>\n",
       "      <td>7636.402888</td>\n",
       "      <td>864.654488</td>\n",
       "      <td>False</td>\n",
       "      <td>0.303516</td>\n",
       "      <td>False</td>\n",
       "      <td>149</td>\n",
       "      <td>1302</td>\n",
       "    </tr>\n",
       "  </tbody>\n",
       "</table>\n",
       "<p>163861 rows × 19 columns</p>\n",
       "</div>"
      ],
      "text/plain": [
       "        index            sourceId          visit  detector          ra  \\\n",
       "0         720  178244558356742865  2023111500493         0  122.502818   \n",
       "1         657  178244564799193746  2023111500499         0  122.502820   \n",
       "2         690  178244568020419251  2023111500502         0  122.502819   \n",
       "3         481  178244580905320930  2023111500514         0  122.502817   \n",
       "4         432  178244587347771825  2023111500520         0  122.502822   \n",
       "...       ...                 ...            ...       ...         ...   \n",
       "163856     56  179546353280483385  2023122200468         0  122.636922   \n",
       "163857      6  178913118334746631  2023120400546         0  122.627449   \n",
       "163858    289  181973644384141602  2024022900067         0  122.439252   \n",
       "163859    311  181973652974076216  2024022900075         0  122.477861   \n",
       "163860    149  179159378874597526  2023121100518         0  122.371089   \n",
       "\n",
       "              dec   physical_filter band  apFlux_35_0_instFlux  \\\n",
       "0      -36.181373  empty~SDSSi_65mm    i          17929.311148   \n",
       "1      -36.181372  empty~SDSSi_65mm    i          17965.443097   \n",
       "2      -36.181372  empty~SDSSi_65mm    i          17309.856495   \n",
       "3      -36.181374  empty~SDSSi_65mm    i          16563.487123   \n",
       "4      -36.181372  empty~SDSSi_65mm    i          17951.820662   \n",
       "...           ...               ...  ...                   ...   \n",
       "163856 -36.166699  empty~SDSSy_65mm    y           6159.305843   \n",
       "163857 -36.261951  empty~SDSSy_65mm    y           6002.652226   \n",
       "163858 -36.069256  empty~SDSSy_65mm    y          17046.173911   \n",
       "163859 -36.067847  empty~SDSSy_65mm    y          17262.146455   \n",
       "163860 -36.241101  empty~SDSSy_65mm    y           6536.212928   \n",
       "\n",
       "        apFlux_35_0_instFluxErr            x            y  \\\n",
       "0                    580.063968  3089.020434  3522.956779   \n",
       "1                    593.565729  1981.052932  3539.433919   \n",
       "2                    581.983397  1425.831515  3545.340924   \n",
       "3                    545.671588  3634.994108  2036.356179   \n",
       "4                    577.548601  2527.386039  2051.742380   \n",
       "...                         ...          ...          ...   \n",
       "163856               570.340900  4029.261883   467.716012   \n",
       "163857               546.429347  3854.516501    69.447705   \n",
       "163858               591.284537  1160.102547  3639.086131   \n",
       "163859               589.125479  1210.733303  3710.297643   \n",
       "163860               607.428677   112.776400   984.505377   \n",
       "\n",
       "        apFlux_50_0_instFlux  apFlux_50_0_instFluxErr  apFlux_50_0_flag  \\\n",
       "0               18544.821571               817.794717             False   \n",
       "1               18788.373258               839.011243             False   \n",
       "2               17906.736267               821.413552             False   \n",
       "3               16308.805325               776.241811             False   \n",
       "4               18624.356145               814.688326             False   \n",
       "...                      ...                      ...               ...   \n",
       "163856                   NaN                      NaN              True   \n",
       "163857           5149.290161               779.662392             False   \n",
       "163858          19346.313383               837.526273             False   \n",
       "163859          17597.427159               831.424850             False   \n",
       "163860           7636.402888               864.654488             False   \n",
       "\n",
       "        localBackground_instFlux  localBackground_flag  source_row  obj_index  \n",
       "0                      -0.084691                 False         720          0  \n",
       "1                       0.049484                 False         657          0  \n",
       "2                       0.070277                 False         690          0  \n",
       "3                      -0.196106                 False         481          0  \n",
       "4                       0.041315                 False         432          0  \n",
       "...                          ...                   ...         ...        ...  \n",
       "163856                 -0.120178                 False          56       1298  \n",
       "163857                 -0.179842                 False           6       1299  \n",
       "163858                  0.166535                 False         289       1300  \n",
       "163859                  0.083739                 False         311       1301  \n",
       "163860                  0.303516                 False         149       1302  \n",
       "\n",
       "[163861 rows x 19 columns]"
      ]
     },
     "execution_count": 31,
     "metadata": {},
     "output_type": "execute_result"
    }
   ],
   "source": [
    "isolatedStarSourcesFull"
   ]
  },
  {
   "cell_type": "markdown",
   "id": "9e031569-8bc4-49dc-a480-43be31b1b04c",
   "metadata": {},
   "source": [
    "## Add atmospheric quantities to the isolatedStarSourcesFull"
   ]
  },
  {
   "cell_type": "code",
   "execution_count": 32,
   "id": "42a6ef7c-0d4c-46c1-a54e-c23ea71999b5",
   "metadata": {
    "execution": {
     "iopub.execute_input": "2024-04-04T12:31:34.639035Z",
     "iopub.status.busy": "2024-04-04T12:31:34.638908Z",
     "iopub.status.idle": "2024-04-04T12:31:34.786156Z",
     "shell.execute_reply": "2024-04-04T12:31:34.785748Z",
     "shell.execute_reply.started": "2024-04-04T12:31:34.639024Z"
    }
   },
   "outputs": [
    {
     "data": {
      "text/html": [
       "<div>\n",
       "<style scoped>\n",
       "    .dataframe tbody tr th:only-of-type {\n",
       "        vertical-align: middle;\n",
       "    }\n",
       "\n",
       "    .dataframe tbody tr th {\n",
       "        vertical-align: top;\n",
       "    }\n",
       "\n",
       "    .dataframe thead th {\n",
       "        text-align: right;\n",
       "    }\n",
       "</style>\n",
       "<table border=\"1\" class=\"dataframe\">\n",
       "  <thead>\n",
       "    <tr style=\"text-align: right;\">\n",
       "      <th></th>\n",
       "      <th>index</th>\n",
       "      <th>sourceId</th>\n",
       "      <th>visit</th>\n",
       "      <th>detector</th>\n",
       "      <th>ra</th>\n",
       "      <th>dec</th>\n",
       "      <th>physical_filter</th>\n",
       "      <th>band</th>\n",
       "      <th>apFlux_35_0_instFlux</th>\n",
       "      <th>apFlux_35_0_instFluxErr</th>\n",
       "      <th>x</th>\n",
       "      <th>y</th>\n",
       "      <th>apFlux_50_0_instFlux</th>\n",
       "      <th>apFlux_50_0_instFluxErr</th>\n",
       "      <th>apFlux_50_0_flag</th>\n",
       "      <th>localBackground_instFlux</th>\n",
       "      <th>localBackground_flag</th>\n",
       "      <th>source_row</th>\n",
       "      <th>obj_index</th>\n",
       "      <th>visitId</th>\n",
       "      <th>PWV</th>\n",
       "      <th>VAOD</th>\n",
       "      <th>Grey</th>\n",
       "      <th>Ozone</th>\n",
       "      <th>nightObs</th>\n",
       "    </tr>\n",
       "  </thead>\n",
       "  <tbody>\n",
       "    <tr>\n",
       "      <th>0</th>\n",
       "      <td>458</td>\n",
       "      <td>178666553925960139</td>\n",
       "      <td>2023112700291</td>\n",
       "      <td>0</td>\n",
       "      <td>122.502820</td>\n",
       "      <td>-36.181375</td>\n",
       "      <td>SDSSz_65mm~empty</td>\n",
       "      <td>z</td>\n",
       "      <td>13082.717917</td>\n",
       "      <td>586.372825</td>\n",
       "      <td>3382.236627</td>\n",
       "      <td>2386.536350</td>\n",
       "      <td>14001.736169</td>\n",
       "      <td>830.654340</td>\n",
       "      <td>False</td>\n",
       "      <td>0.362265</td>\n",
       "      <td>False</td>\n",
       "      <td>458</td>\n",
       "      <td>0</td>\n",
       "      <td>2023112700291</td>\n",
       "      <td>3.551770</td>\n",
       "      <td>0.004201</td>\n",
       "      <td>0.967583</td>\n",
       "      <td>305.884093</td>\n",
       "      <td>20231127</td>\n",
       "    </tr>\n",
       "    <tr>\n",
       "      <th>1</th>\n",
       "      <td>462</td>\n",
       "      <td>178666553925960143</td>\n",
       "      <td>2023112700291</td>\n",
       "      <td>0</td>\n",
       "      <td>122.513235</td>\n",
       "      <td>-36.180948</td>\n",
       "      <td>SDSSz_65mm~empty</td>\n",
       "      <td>z</td>\n",
       "      <td>34977.876206</td>\n",
       "      <td>567.595148</td>\n",
       "      <td>3698.662030</td>\n",
       "      <td>2398.481730</td>\n",
       "      <td>36361.786549</td>\n",
       "      <td>791.368351</td>\n",
       "      <td>False</td>\n",
       "      <td>0.339549</td>\n",
       "      <td>False</td>\n",
       "      <td>462</td>\n",
       "      <td>1</td>\n",
       "      <td>2023112700291</td>\n",
       "      <td>3.551770</td>\n",
       "      <td>0.004201</td>\n",
       "      <td>0.967583</td>\n",
       "      <td>305.884093</td>\n",
       "      <td>20231127</td>\n",
       "    </tr>\n",
       "    <tr>\n",
       "      <th>2</th>\n",
       "      <td>508</td>\n",
       "      <td>178666553925960189</td>\n",
       "      <td>2023112700291</td>\n",
       "      <td>0</td>\n",
       "      <td>122.486996</td>\n",
       "      <td>-36.174438</td>\n",
       "      <td>SDSSz_65mm~empty</td>\n",
       "      <td>z</td>\n",
       "      <td>46330.139189</td>\n",
       "      <td>617.295067</td>\n",
       "      <td>2905.196024</td>\n",
       "      <td>2653.678460</td>\n",
       "      <td>45499.631787</td>\n",
       "      <td>856.062137</td>\n",
       "      <td>False</td>\n",
       "      <td>-0.217655</td>\n",
       "      <td>False</td>\n",
       "      <td>508</td>\n",
       "      <td>2</td>\n",
       "      <td>2023112700291</td>\n",
       "      <td>3.551770</td>\n",
       "      <td>0.004201</td>\n",
       "      <td>0.967583</td>\n",
       "      <td>305.884093</td>\n",
       "      <td>20231127</td>\n",
       "    </tr>\n",
       "    <tr>\n",
       "      <th>3</th>\n",
       "      <td>619</td>\n",
       "      <td>178666553925960300</td>\n",
       "      <td>2023112700291</td>\n",
       "      <td>0</td>\n",
       "      <td>122.505947</td>\n",
       "      <td>-36.158164</td>\n",
       "      <td>SDSSz_65mm~empty</td>\n",
       "      <td>z</td>\n",
       "      <td>27728.508263</td>\n",
       "      <td>595.052266</td>\n",
       "      <td>3488.701637</td>\n",
       "      <td>3258.355539</td>\n",
       "      <td>28034.412012</td>\n",
       "      <td>834.767976</td>\n",
       "      <td>False</td>\n",
       "      <td>0.117285</td>\n",
       "      <td>False</td>\n",
       "      <td>619</td>\n",
       "      <td>4</td>\n",
       "      <td>2023112700291</td>\n",
       "      <td>3.551770</td>\n",
       "      <td>0.004201</td>\n",
       "      <td>0.967583</td>\n",
       "      <td>305.884093</td>\n",
       "      <td>20231127</td>\n",
       "    </tr>\n",
       "    <tr>\n",
       "      <th>4</th>\n",
       "      <td>214</td>\n",
       "      <td>178666553925959895</td>\n",
       "      <td>2023112700291</td>\n",
       "      <td>0</td>\n",
       "      <td>122.515815</td>\n",
       "      <td>-36.213740</td>\n",
       "      <td>SDSSz_65mm~empty</td>\n",
       "      <td>z</td>\n",
       "      <td>17363.222574</td>\n",
       "      <td>603.181641</td>\n",
       "      <td>3760.593972</td>\n",
       "      <td>1163.985109</td>\n",
       "      <td>4543.553175</td>\n",
       "      <td>850.897921</td>\n",
       "      <td>False</td>\n",
       "      <td>-0.882085</td>\n",
       "      <td>False</td>\n",
       "      <td>214</td>\n",
       "      <td>5</td>\n",
       "      <td>2023112700291</td>\n",
       "      <td>3.551770</td>\n",
       "      <td>0.004201</td>\n",
       "      <td>0.967583</td>\n",
       "      <td>305.884093</td>\n",
       "      <td>20231127</td>\n",
       "    </tr>\n",
       "    <tr>\n",
       "      <th>...</th>\n",
       "      <td>...</td>\n",
       "      <td>...</td>\n",
       "      <td>...</td>\n",
       "      <td>...</td>\n",
       "      <td>...</td>\n",
       "      <td>...</td>\n",
       "      <td>...</td>\n",
       "      <td>...</td>\n",
       "      <td>...</td>\n",
       "      <td>...</td>\n",
       "      <td>...</td>\n",
       "      <td>...</td>\n",
       "      <td>...</td>\n",
       "      <td>...</td>\n",
       "      <td>...</td>\n",
       "      <td>...</td>\n",
       "      <td>...</td>\n",
       "      <td>...</td>\n",
       "      <td>...</td>\n",
       "      <td>...</td>\n",
       "      <td>...</td>\n",
       "      <td>...</td>\n",
       "      <td>...</td>\n",
       "      <td>...</td>\n",
       "      <td>...</td>\n",
       "    </tr>\n",
       "    <tr>\n",
       "      <th>32281</th>\n",
       "      <td>300</td>\n",
       "      <td>178702016397181229</td>\n",
       "      <td>2023112800550</td>\n",
       "      <td>0</td>\n",
       "      <td>122.506526</td>\n",
       "      <td>-36.132240</td>\n",
       "      <td>SDSSz_65mm~empty</td>\n",
       "      <td>z</td>\n",
       "      <td>25944.021456</td>\n",
       "      <td>590.496133</td>\n",
       "      <td>3520.961119</td>\n",
       "      <td>3405.801106</td>\n",
       "      <td>27473.745952</td>\n",
       "      <td>828.429691</td>\n",
       "      <td>False</td>\n",
       "      <td>0.423403</td>\n",
       "      <td>False</td>\n",
       "      <td>300</td>\n",
       "      <td>373</td>\n",
       "      <td>2023112800550</td>\n",
       "      <td>2.935632</td>\n",
       "      <td>0.006973</td>\n",
       "      <td>0.967547</td>\n",
       "      <td>295.156086</td>\n",
       "      <td>20231128</td>\n",
       "    </tr>\n",
       "    <tr>\n",
       "      <th>32282</th>\n",
       "      <td>44</td>\n",
       "      <td>178702016397180973</td>\n",
       "      <td>2023112800550</td>\n",
       "      <td>0</td>\n",
       "      <td>122.416644</td>\n",
       "      <td>-36.206487</td>\n",
       "      <td>SDSSz_65mm~empty</td>\n",
       "      <td>z</td>\n",
       "      <td>68463.257613</td>\n",
       "      <td>726.699969</td>\n",
       "      <td>754.740691</td>\n",
       "      <td>647.597183</td>\n",
       "      <td>68551.302130</td>\n",
       "      <td>1005.483814</td>\n",
       "      <td>False</td>\n",
       "      <td>0.001588</td>\n",
       "      <td>False</td>\n",
       "      <td>44</td>\n",
       "      <td>654</td>\n",
       "      <td>2023112800550</td>\n",
       "      <td>2.935632</td>\n",
       "      <td>0.006973</td>\n",
       "      <td>0.967547</td>\n",
       "      <td>295.156086</td>\n",
       "      <td>20231128</td>\n",
       "    </tr>\n",
       "    <tr>\n",
       "      <th>32283</th>\n",
       "      <td>29</td>\n",
       "      <td>178702016397180958</td>\n",
       "      <td>2023112800550</td>\n",
       "      <td>0</td>\n",
       "      <td>122.422818</td>\n",
       "      <td>-36.213698</td>\n",
       "      <td>SDSSz_65mm~empty</td>\n",
       "      <td>z</td>\n",
       "      <td>14690.407486</td>\n",
       "      <td>693.209110</td>\n",
       "      <td>938.736049</td>\n",
       "      <td>374.032216</td>\n",
       "      <td>18040.689503</td>\n",
       "      <td>985.174561</td>\n",
       "      <td>False</td>\n",
       "      <td>0.692003</td>\n",
       "      <td>False</td>\n",
       "      <td>29</td>\n",
       "      <td>724</td>\n",
       "      <td>2023112800550</td>\n",
       "      <td>2.935632</td>\n",
       "      <td>0.006973</td>\n",
       "      <td>0.967547</td>\n",
       "      <td>295.156086</td>\n",
       "      <td>20231128</td>\n",
       "    </tr>\n",
       "    <tr>\n",
       "      <th>32284</th>\n",
       "      <td>38</td>\n",
       "      <td>178702016397180967</td>\n",
       "      <td>2023112800550</td>\n",
       "      <td>0</td>\n",
       "      <td>122.419080</td>\n",
       "      <td>-36.208101</td>\n",
       "      <td>SDSSz_65mm~empty</td>\n",
       "      <td>z</td>\n",
       "      <td>21732.192854</td>\n",
       "      <td>695.031030</td>\n",
       "      <td>827.914435</td>\n",
       "      <td>585.966144</td>\n",
       "      <td>19877.373617</td>\n",
       "      <td>981.537941</td>\n",
       "      <td>False</td>\n",
       "      <td>-0.354801</td>\n",
       "      <td>False</td>\n",
       "      <td>38</td>\n",
       "      <td>921</td>\n",
       "      <td>2023112800550</td>\n",
       "      <td>2.935632</td>\n",
       "      <td>0.006973</td>\n",
       "      <td>0.967547</td>\n",
       "      <td>295.156086</td>\n",
       "      <td>20231128</td>\n",
       "    </tr>\n",
       "    <tr>\n",
       "      <th>32285</th>\n",
       "      <td>216</td>\n",
       "      <td>178702016397181145</td>\n",
       "      <td>2023112800550</td>\n",
       "      <td>0</td>\n",
       "      <td>122.500927</td>\n",
       "      <td>-36.157770</td>\n",
       "      <td>SDSSz_65mm~empty</td>\n",
       "      <td>z</td>\n",
       "      <td>9737.758765</td>\n",
       "      <td>581.992560</td>\n",
       "      <td>3337.884649</td>\n",
       "      <td>2447.639990</td>\n",
       "      <td>11530.926084</td>\n",
       "      <td>827.646357</td>\n",
       "      <td>False</td>\n",
       "      <td>0.465323</td>\n",
       "      <td>False</td>\n",
       "      <td>216</td>\n",
       "      <td>1000</td>\n",
       "      <td>2023112800550</td>\n",
       "      <td>2.935632</td>\n",
       "      <td>0.006973</td>\n",
       "      <td>0.967547</td>\n",
       "      <td>295.156086</td>\n",
       "      <td>20231128</td>\n",
       "    </tr>\n",
       "  </tbody>\n",
       "</table>\n",
       "<p>32286 rows × 25 columns</p>\n",
       "</div>"
      ],
      "text/plain": [
       "       index            sourceId          visit  detector          ra  \\\n",
       "0        458  178666553925960139  2023112700291         0  122.502820   \n",
       "1        462  178666553925960143  2023112700291         0  122.513235   \n",
       "2        508  178666553925960189  2023112700291         0  122.486996   \n",
       "3        619  178666553925960300  2023112700291         0  122.505947   \n",
       "4        214  178666553925959895  2023112700291         0  122.515815   \n",
       "...      ...                 ...            ...       ...         ...   \n",
       "32281    300  178702016397181229  2023112800550         0  122.506526   \n",
       "32282     44  178702016397180973  2023112800550         0  122.416644   \n",
       "32283     29  178702016397180958  2023112800550         0  122.422818   \n",
       "32284     38  178702016397180967  2023112800550         0  122.419080   \n",
       "32285    216  178702016397181145  2023112800550         0  122.500927   \n",
       "\n",
       "             dec   physical_filter band  apFlux_35_0_instFlux  \\\n",
       "0     -36.181375  SDSSz_65mm~empty    z          13082.717917   \n",
       "1     -36.180948  SDSSz_65mm~empty    z          34977.876206   \n",
       "2     -36.174438  SDSSz_65mm~empty    z          46330.139189   \n",
       "3     -36.158164  SDSSz_65mm~empty    z          27728.508263   \n",
       "4     -36.213740  SDSSz_65mm~empty    z          17363.222574   \n",
       "...          ...               ...  ...                   ...   \n",
       "32281 -36.132240  SDSSz_65mm~empty    z          25944.021456   \n",
       "32282 -36.206487  SDSSz_65mm~empty    z          68463.257613   \n",
       "32283 -36.213698  SDSSz_65mm~empty    z          14690.407486   \n",
       "32284 -36.208101  SDSSz_65mm~empty    z          21732.192854   \n",
       "32285 -36.157770  SDSSz_65mm~empty    z           9737.758765   \n",
       "\n",
       "       apFlux_35_0_instFluxErr            x            y  \\\n",
       "0                   586.372825  3382.236627  2386.536350   \n",
       "1                   567.595148  3698.662030  2398.481730   \n",
       "2                   617.295067  2905.196024  2653.678460   \n",
       "3                   595.052266  3488.701637  3258.355539   \n",
       "4                   603.181641  3760.593972  1163.985109   \n",
       "...                        ...          ...          ...   \n",
       "32281               590.496133  3520.961119  3405.801106   \n",
       "32282               726.699969   754.740691   647.597183   \n",
       "32283               693.209110   938.736049   374.032216   \n",
       "32284               695.031030   827.914435   585.966144   \n",
       "32285               581.992560  3337.884649  2447.639990   \n",
       "\n",
       "       apFlux_50_0_instFlux  apFlux_50_0_instFluxErr  apFlux_50_0_flag  \\\n",
       "0              14001.736169               830.654340             False   \n",
       "1              36361.786549               791.368351             False   \n",
       "2              45499.631787               856.062137             False   \n",
       "3              28034.412012               834.767976             False   \n",
       "4               4543.553175               850.897921             False   \n",
       "...                     ...                      ...               ...   \n",
       "32281          27473.745952               828.429691             False   \n",
       "32282          68551.302130              1005.483814             False   \n",
       "32283          18040.689503               985.174561             False   \n",
       "32284          19877.373617               981.537941             False   \n",
       "32285          11530.926084               827.646357             False   \n",
       "\n",
       "       localBackground_instFlux  localBackground_flag  source_row  obj_index  \\\n",
       "0                      0.362265                 False         458          0   \n",
       "1                      0.339549                 False         462          1   \n",
       "2                     -0.217655                 False         508          2   \n",
       "3                      0.117285                 False         619          4   \n",
       "4                     -0.882085                 False         214          5   \n",
       "...                         ...                   ...         ...        ...   \n",
       "32281                  0.423403                 False         300        373   \n",
       "32282                  0.001588                 False          44        654   \n",
       "32283                  0.692003                 False          29        724   \n",
       "32284                 -0.354801                 False          38        921   \n",
       "32285                  0.465323                 False         216       1000   \n",
       "\n",
       "             visitId       PWV      VAOD      Grey       Ozone  nightObs  \n",
       "0      2023112700291  3.551770  0.004201  0.967583  305.884093  20231127  \n",
       "1      2023112700291  3.551770  0.004201  0.967583  305.884093  20231127  \n",
       "2      2023112700291  3.551770  0.004201  0.967583  305.884093  20231127  \n",
       "3      2023112700291  3.551770  0.004201  0.967583  305.884093  20231127  \n",
       "4      2023112700291  3.551770  0.004201  0.967583  305.884093  20231127  \n",
       "...              ...       ...       ...       ...         ...       ...  \n",
       "32281  2023112800550  2.935632  0.006973  0.967547  295.156086  20231128  \n",
       "32282  2023112800550  2.935632  0.006973  0.967547  295.156086  20231128  \n",
       "32283  2023112800550  2.935632  0.006973  0.967547  295.156086  20231128  \n",
       "32284  2023112800550  2.935632  0.006973  0.967547  295.156086  20231128  \n",
       "32285  2023112800550  2.935632  0.006973  0.967547  295.156086  20231128  \n",
       "\n",
       "[32286 rows x 25 columns]"
      ]
     },
     "execution_count": 32,
     "metadata": {},
     "output_type": "execute_result"
    }
   ],
   "source": [
    "isolatedStarSourcesFull = isolatedStarSourcesFull.merge(df_atm, left_on='visit',right_on='visitId',how=\"inner\")\n",
    "isolatedStarSourcesFull[\"nightObs\"] = isolatedStarSourcesFull.apply(lambda x: x['visit']//100_000, axis=1)\n",
    "isolatedStarSourcesFull"
   ]
  },
  {
   "cell_type": "code",
   "execution_count": 33,
   "id": "05cd1b17-9aea-4362-a278-97da5377d4c6",
   "metadata": {
    "execution": {
     "iopub.execute_input": "2024-04-04T12:31:34.786883Z",
     "iopub.status.busy": "2024-04-04T12:31:34.786745Z",
     "iopub.status.idle": "2024-04-04T12:31:34.796716Z",
     "shell.execute_reply": "2024-04-04T12:31:34.796347Z",
     "shell.execute_reply.started": "2024-04-04T12:31:34.786870Z"
    }
   },
   "outputs": [
    {
     "data": {
      "text/html": [
       "<div>\n",
       "<style scoped>\n",
       "    .dataframe tbody tr th:only-of-type {\n",
       "        vertical-align: middle;\n",
       "    }\n",
       "\n",
       "    .dataframe tbody tr th {\n",
       "        vertical-align: top;\n",
       "    }\n",
       "\n",
       "    .dataframe thead th {\n",
       "        text-align: right;\n",
       "    }\n",
       "</style>\n",
       "<table border=\"1\" class=\"dataframe\">\n",
       "  <thead>\n",
       "    <tr style=\"text-align: right;\">\n",
       "      <th></th>\n",
       "      <th>index</th>\n",
       "      <th>sourceId</th>\n",
       "      <th>visit</th>\n",
       "      <th>detector</th>\n",
       "      <th>ra</th>\n",
       "      <th>dec</th>\n",
       "      <th>physical_filter</th>\n",
       "      <th>band</th>\n",
       "      <th>apFlux_35_0_instFlux</th>\n",
       "      <th>apFlux_35_0_instFluxErr</th>\n",
       "      <th>x</th>\n",
       "      <th>y</th>\n",
       "      <th>apFlux_50_0_instFlux</th>\n",
       "      <th>apFlux_50_0_instFluxErr</th>\n",
       "      <th>apFlux_50_0_flag</th>\n",
       "      <th>localBackground_instFlux</th>\n",
       "      <th>localBackground_flag</th>\n",
       "      <th>source_row</th>\n",
       "      <th>obj_index</th>\n",
       "      <th>visitId</th>\n",
       "      <th>PWV</th>\n",
       "      <th>VAOD</th>\n",
       "      <th>Grey</th>\n",
       "      <th>Ozone</th>\n",
       "      <th>nightObs</th>\n",
       "    </tr>\n",
       "  </thead>\n",
       "  <tbody>\n",
       "    <tr>\n",
       "      <th>0</th>\n",
       "      <td>458</td>\n",
       "      <td>178666553925960139</td>\n",
       "      <td>2023112700291</td>\n",
       "      <td>0</td>\n",
       "      <td>122.50282</td>\n",
       "      <td>-36.181375</td>\n",
       "      <td>SDSSz_65mm~empty</td>\n",
       "      <td>z</td>\n",
       "      <td>13082.717917</td>\n",
       "      <td>586.372825</td>\n",
       "      <td>3382.236627</td>\n",
       "      <td>2386.53635</td>\n",
       "      <td>14001.736169</td>\n",
       "      <td>830.65434</td>\n",
       "      <td>False</td>\n",
       "      <td>0.362265</td>\n",
       "      <td>False</td>\n",
       "      <td>458</td>\n",
       "      <td>0</td>\n",
       "      <td>2023112700291</td>\n",
       "      <td>3.55177</td>\n",
       "      <td>0.004201</td>\n",
       "      <td>0.967583</td>\n",
       "      <td>305.884093</td>\n",
       "      <td>20231127</td>\n",
       "    </tr>\n",
       "  </tbody>\n",
       "</table>\n",
       "</div>"
      ],
      "text/plain": [
       "   index            sourceId          visit  detector         ra        dec  \\\n",
       "0    458  178666553925960139  2023112700291         0  122.50282 -36.181375   \n",
       "\n",
       "    physical_filter band  apFlux_35_0_instFlux  apFlux_35_0_instFluxErr  \\\n",
       "0  SDSSz_65mm~empty    z          13082.717917               586.372825   \n",
       "\n",
       "             x           y  apFlux_50_0_instFlux  apFlux_50_0_instFluxErr  \\\n",
       "0  3382.236627  2386.53635          14001.736169                830.65434   \n",
       "\n",
       "   apFlux_50_0_flag  localBackground_instFlux  localBackground_flag  \\\n",
       "0             False                  0.362265                 False   \n",
       "\n",
       "   source_row  obj_index        visitId      PWV      VAOD      Grey  \\\n",
       "0         458          0  2023112700291  3.55177  0.004201  0.967583   \n",
       "\n",
       "        Ozone  nightObs  \n",
       "0  305.884093  20231127  "
      ]
     },
     "execution_count": 33,
     "metadata": {},
     "output_type": "execute_result"
    }
   ],
   "source": [
    "# Just to have a look at what's in the catalog:\n",
    "isolatedStarSourcesFull[isolatedStarSourcesFull.index == 0]"
   ]
  },
  {
   "cell_type": "code",
   "execution_count": 34,
   "id": "dadab2ff-40f2-4cb3-8048-d873c0b89f19",
   "metadata": {
    "execution": {
     "iopub.execute_input": "2024-04-04T12:31:34.797361Z",
     "iopub.status.busy": "2024-04-04T12:31:34.797234Z",
     "iopub.status.idle": "2024-04-04T12:31:34.799661Z",
     "shell.execute_reply": "2024-04-04T12:31:34.799296Z",
     "shell.execute_reply.started": "2024-04-04T12:31:34.797349Z"
    }
   },
   "outputs": [
    {
     "name": "stdout",
     "output_type": "stream",
     "text": [
      "calibFluxStr = apFlux_35_0_instFlux,,minSnCalibFlux = 50, minNumMatches = 3\n"
     ]
    }
   ],
   "source": [
    "print(\"calibFluxStr = {},,minSnCalibFlux = {}, minNumMatches = {}\".format(calibFluxStr,minSnCalibFlux,minNumMatches))"
   ]
  },
  {
   "cell_type": "code",
   "execution_count": 35,
   "id": "9a8cb025-6e37-4419-8be7-c27a43e399e9",
   "metadata": {
    "execution": {
     "iopub.execute_input": "2024-04-04T12:31:34.800281Z",
     "iopub.status.busy": "2024-04-04T12:31:34.800157Z",
     "iopub.status.idle": "2024-04-04T12:31:34.997220Z",
     "shell.execute_reply": "2024-04-04T12:31:34.994860Z",
     "shell.execute_reply.started": "2024-04-04T12:31:34.800269Z"
    }
   },
   "outputs": [
    {
     "ename": "AssertionError",
     "evalue": "",
     "output_type": "error",
     "traceback": [
      "\u001b[0;31m---------------------------------------------------------------------------\u001b[0m",
      "\u001b[0;31mAssertionError\u001b[0m                            Traceback (most recent call last)",
      "Cell \u001b[0;32mIn[35], line 1\u001b[0m\n\u001b[0;32m----> 1\u001b[0m \u001b[38;5;28;01massert\u001b[39;00m \u001b[38;5;28;01mFalse\u001b[39;00m\n",
      "\u001b[0;31mAssertionError\u001b[0m: "
     ]
    }
   ],
   "source": [
    "assert False"
   ]
  },
  {
   "cell_type": "markdown",
   "id": "da9344e8-96c4-4317-83c9-b65522db1c8b",
   "metadata": {},
   "source": [
    "## Select a number of visits with enough good sources but in all bands here\n",
    "\n",
    "- extract the list of known objects"
   ]
  },
  {
   "cell_type": "code",
   "execution_count": null,
   "id": "60e9fbfd",
   "metadata": {
    "execution": {
     "iopub.status.busy": "2024-04-04T12:31:34.997651Z",
     "iopub.status.idle": "2024-04-04T12:31:34.997820Z",
     "shell.execute_reply": "2024-04-04T12:31:34.997744Z",
     "shell.execute_reply.started": "2024-04-04T12:31:34.997736Z"
    }
   },
   "outputs": [],
   "source": [
    "# Trim the isolated_star_sources cat to those PSF S/N > minSnCalibFlux\n",
    "# and number of matches sources > minNumMatches.\n",
    "objIndexListFull = list(set(isolatedStarSourcesFull[\"obj_index\"].values))\n",
    "\n",
    "# Select the bright stars above a minimum of S/N ratio\n",
    "if minSnCalibFlux is not None:\n",
    "    snCalibFlux = isolatedStarSourcesFull[calibFluxStr]/isolatedStarSourcesFull[calibFluxStr + \"Err\"]\n",
    "    snMask = snCalibFlux > minSnCalibFlux\n",
    "    isolatedStarSourcesMinSn = isolatedStarSourcesFull[snMask].copy(deep=True)\n",
    "else:\n",
    "    isolatedStarSourcesMinSn = isolatedStarSourcesFull.copy(deep=True)\n",
    "\n",
    "# object index with obj index in above selected bright selected star\n",
    "objIndexListMinSn = list(set(isolatedStarSourcesMinSn[\"obj_index\"].values))\n",
    "\n",
    "# requires that the object is associated to several sources (at least minNumMatches sources)\n",
    "objIndexList = []\n",
    "for objIndex in objIndexListMinSn:\n",
    "    objData = isolatedStarSourcesMinSn[isolatedStarSourcesMinSn[\"obj_index\"] == objIndex]\n",
    "    if len(objData) >= minNumMatches:\n",
    "        objIndexList.append(objIndex)\n",
    "numTrimmed = len(objIndexListFull) - len(objIndexList)\n",
    "\n",
    "mask = []\n",
    "for objIndex, visit in zip(isolatedStarSourcesMinSn[\"obj_index\"], isolatedStarSourcesMinSn[\"visit\"]):\n",
    "    if objIndex in objIndexList:\n",
    "        mask.append(True)\n",
    "    else:\n",
    "        mask.append(False)\n",
    "isolatedStarSources = isolatedStarSourcesMinSn[mask].copy(deep=True)\n",
    "\n",
    "# Select a number of visits according quality criteria\n",
    "visitList = list(set(isolatedStarSources[\"visit\"].values))\n",
    "\n",
    "if minSnCalibFlux is not None:\n",
    "    print(\"Trimmed isolated_star_sources catalog to S/N {} > {} (leaving N={} matched souces from original {})\".format(\n",
    "        calibFluxStr, minSnCalibFlux, len(isolatedStarSources), len(isolatedStarSourcesFull)))\n",
    "print(\"Trimmed isolated_star_sources catalog to objecst with nMatches >= {} (leaving {} objects from {}).\".format(\n",
    "    minNumMatches, len(objIndexList), len(objIndexListFull)))"
   ]
  },
  {
   "cell_type": "code",
   "execution_count": null,
   "id": "0258c3d3-7781-4440-b1cb-40832fff1326",
   "metadata": {
    "execution": {
     "iopub.status.busy": "2024-04-04T12:31:34.998223Z",
     "iopub.status.idle": "2024-04-04T12:31:34.998383Z",
     "shell.execute_reply": "2024-04-04T12:31:34.998307Z",
     "shell.execute_reply.started": "2024-04-04T12:31:34.998300Z"
    }
   },
   "outputs": [],
   "source": [
    "sorted_visitList = sorted(visitList)\n",
    "sorted_visitList[:20] "
   ]
  },
  {
   "cell_type": "code",
   "execution_count": null,
   "id": "b1566990-7330-4b3d-8433-c8b811df4dd9",
   "metadata": {
    "execution": {
     "iopub.status.busy": "2024-04-04T12:31:34.998917Z",
     "iopub.status.idle": "2024-04-04T12:31:34.999071Z",
     "shell.execute_reply": "2024-04-04T12:31:34.998997Z",
     "shell.execute_reply.started": "2024-04-04T12:31:34.998991Z"
    }
   },
   "outputs": [],
   "source": [
    "def convertVisitToDatestr(visit):\n",
    "\n",
    "    num = visit//100_000\n",
    "    year = num//10_000\n",
    "    month= (num-year*10_000)//100\n",
    "    day = (num-year*10_000-month*100)\n",
    "\n",
    "    year_str = str(year).zfill(4)\n",
    "    month_str = str(month).zfill(2)\n",
    "    day_str = str(day).zfill(2)\n",
    "    \n",
    "    datestr = f\"{year_str}-{month_str}-{day_str}\"\n",
    "    return datestr"
   ]
  },
  {
   "cell_type": "code",
   "execution_count": null,
   "id": "e78a9cdd-1906-4b11-90b6-ac09ca7689b1",
   "metadata": {
    "execution": {
     "iopub.status.busy": "2024-04-04T12:31:34.999692Z",
     "iopub.status.idle": "2024-04-04T12:31:34.999848Z",
     "shell.execute_reply": "2024-04-04T12:31:34.999774Z",
     "shell.execute_reply.started": "2024-04-04T12:31:34.999767Z"
    }
   },
   "outputs": [],
   "source": [
    "def convertVisitToMJD(visit):\n",
    "    return Time(convertVisitToDatestr(visit)).mjd"
   ]
  },
  {
   "cell_type": "code",
   "execution_count": null,
   "id": "ebfc17b1-4874-4343-accb-2d0763a0f677",
   "metadata": {
    "execution": {
     "iopub.status.busy": "2024-04-04T12:31:35.000371Z",
     "iopub.status.idle": "2024-04-04T12:31:35.000519Z",
     "shell.execute_reply": "2024-04-04T12:31:35.000450Z",
     "shell.execute_reply.started": "2024-04-04T12:31:35.000443Z"
    }
   },
   "outputs": [],
   "source": [
    "sorted_visits_mjd = list(map(convertVisitToMJD, sorted_visitList))"
   ]
  },
  {
   "cell_type": "markdown",
   "id": "93fecc9f-d378-4b8d-9625-1e54e499f1db",
   "metadata": {},
   "source": [
    "## sourceTable_visit\n",
    "\n",
    "This is the main output of FGCM calibration which has selected a number of sources. These sources were originally selected from isolated sources."
   ]
  },
  {
   "cell_type": "code",
   "execution_count": null,
   "id": "db71f9f1",
   "metadata": {
    "execution": {
     "iopub.status.busy": "2024-04-04T12:31:35.001003Z",
     "iopub.status.idle": "2024-04-04T12:31:35.001148Z",
     "shell.execute_reply": "2024-04-04T12:31:35.001081Z",
     "shell.execute_reply.started": "2024-04-04T12:31:35.001074Z"
    }
   },
   "outputs": [],
   "source": [
    "# Extra columns to load from sourceTable_visit catalogs\n",
    "names = [\"psfFlux\", \"psfFluxErr\", \"psfFlux_flag\", \"psfFlux_apCorr\", \"psfFlux_apCorrErr\",\n",
    "         \"extendedness\", \"detect_isPrimary\", \"deblend_skipped\",\n",
    "         \"gaussianFlux\", \"gaussianFluxErr\", \"gaussianFlux_flag\",\n",
    "         \"localPhotoCalib\", \"localPhotoCalibErr\", \"localPhotoCalib_flag\"]"
   ]
  },
  {
   "cell_type": "code",
   "execution_count": null,
   "id": "638a0e06",
   "metadata": {
    "execution": {
     "iopub.status.busy": "2024-04-04T12:31:35.001723Z",
     "iopub.status.idle": "2024-04-04T12:31:35.001876Z",
     "shell.execute_reply": "2024-04-04T12:31:35.001802Z",
     "shell.execute_reply.started": "2024-04-04T12:31:35.001795Z"
    }
   },
   "outputs": [],
   "source": [
    "# Load in the sourceTable_visit catalogs to get the psfFlux and other useful info per source.\n",
    "# Columns loaded are those in names above.\n",
    "sourceCatalogs = []\n",
    "nSourceDict = {}\n",
    "visitsToRemove = []\n",
    "\n",
    "# loop over all selected visit\n",
    "for visit in visitList:\n",
    "    try:\n",
    "        sourceCatalogOrig = butler.get(\"sourceTable_visit\", visit=visit, parameters={\"columns\": names})\n",
    "        primaryCat = sourceCatalogOrig[sourceCatalogOrig[\"detect_isPrimary\"]].copy(deep=True)\n",
    "        nSourceDict[visit] = sum(primaryCat[\"psfFlux\"]/primaryCat[\"psfFluxErr\"] > 5)\n",
    "        sourceCatalogs.append(primaryCat)\n",
    "    except LookupError:\n",
    "        print(\"sourceTable_visit not found for visit {}\".format(visit))\n",
    "        isolatedStarSources = isolatedStarSources[isolatedStarSources[\"visit\"] != visit].copy(deep=True)\n",
    "        visitsToRemove.append(visit)\n",
    "visitList = list(set(visitList) - set(visitsToRemove))\n",
    "\n",
    "# Do the minNumMatches cut again since visits may have been removed due to lack of sourceTable_visit\n",
    "print(\"Number of objects with >=3 matches before sourceTable_visit exsistence check: {}\".format(len(objIndexList)))\n",
    "objIndexListAllNew = list(set(isolatedStarSources[\"obj_index\"].values))\n",
    "objIndexList = []\n",
    "for objIndex in objIndexListAllNew:\n",
    "    objData = isolatedStarSources[isolatedStarSources[\"obj_index\"] == objIndex]\n",
    "    if len(objData) >= minNumMatches:\n",
    "        objIndexList.append(objIndex)\n",
    "mask = []\n",
    "for objIndex, visit in zip(isolatedStarSources[\"obj_index\"], isolatedStarSources[\"visit\"]):\n",
    "    if objIndex in objIndexList:\n",
    "        mask.append(True)\n",
    "    else:\n",
    "        mask.append(False)\n",
    "isolatedStarSources = isolatedStarSources[mask].copy(deep=True)\n",
    "visitList = list(set(isolatedStarSources[\"visit\"].values))\n",
    "print(\"Number of objects with >=3 matches after sourceTable_visit exsistence check: {}\".format(len(objIndexList)))\n",
    "dataJoined = pd.concat(sourceCatalogs).merge(isolatedStarSources, on=\"sourceId\", how=\"inner\")"
   ]
  },
  {
   "cell_type": "code",
   "execution_count": null,
   "id": "b7a2acc3-cf74-4345-a293-c9d887f98eb9",
   "metadata": {
    "execution": {
     "iopub.status.busy": "2024-04-04T12:31:35.002329Z",
     "iopub.status.idle": "2024-04-04T12:31:35.002487Z",
     "shell.execute_reply": "2024-04-04T12:31:35.002417Z",
     "shell.execute_reply.started": "2024-04-04T12:31:35.002410Z"
    }
   },
   "outputs": [],
   "source": [
    "visitsToRemove "
   ]
  },
  {
   "cell_type": "markdown",
   "id": "da99b858-3add-4a24-8361-c61369ff31c8",
   "metadata": {
    "execution": {
     "iopub.execute_input": "2024-03-06T16:09:45.477682Z",
     "iopub.status.busy": "2024-03-06T16:09:45.477549Z",
     "iopub.status.idle": "2024-03-06T16:09:45.489584Z",
     "shell.execute_reply": "2024-03-06T16:09:45.489237Z",
     "shell.execute_reply.started": "2024-03-06T16:09:45.477669Z"
    }
   },
   "source": [
    "## Will start to work on dataJoined which associate selected \"isolated_star_sources\" in the selected band and visits the good calibration in \"sourceTable_visit\""
   ]
  },
  {
   "cell_type": "markdown",
   "id": "f219f59b-1c36-4bc1-aa41-ac481f96f74e",
   "metadata": {
    "execution": {
     "iopub.execute_input": "2024-02-29T10:26:18.613944Z",
     "iopub.status.busy": "2024-02-29T10:26:18.613360Z",
     "iopub.status.idle": "2024-02-29T10:26:18.648236Z",
     "shell.execute_reply": "2024-02-29T10:26:18.647844Z",
     "shell.execute_reply.started": "2024-02-29T10:26:18.613928Z"
    }
   },
   "source": [
    "### add my info from CCD Visit Table\n",
    "\n",
    "- CCD visit table is a pre-FGCM calibration\n",
    "- it provides airmass and initial zero-point"
   ]
  },
  {
   "cell_type": "code",
   "execution_count": null,
   "id": "6f07195f-0f97-4590-bd39-3584cd580afc",
   "metadata": {
    "execution": {
     "iopub.status.busy": "2024-04-04T12:31:35.002918Z",
     "iopub.status.idle": "2024-04-04T12:31:35.003061Z",
     "shell.execute_reply": "2024-04-04T12:31:35.002994Z",
     "shell.execute_reply.started": "2024-04-04T12:31:35.002987Z"
    }
   },
   "outputs": [],
   "source": [
    "# need also. [\"zeroPoint\",\"airmass\"]"
   ]
  },
  {
   "cell_type": "code",
   "execution_count": null,
   "id": "b0db3e84",
   "metadata": {
    "execution": {
     "iopub.status.busy": "2024-04-04T12:31:35.003617Z",
     "iopub.status.idle": "2024-04-04T12:31:35.003764Z",
     "shell.execute_reply": "2024-04-04T12:31:35.003694Z",
     "shell.execute_reply.started": "2024-04-04T12:31:35.003687Z"
    }
   },
   "outputs": [],
   "source": [
    "# Collect useful columns from ccdVisitTable\n",
    "ccdVisitTable = butler.get(\"ccdVisitTable\")\n",
    "ccdVisitTable[\"airmass\"] = ccdVisitTable[\"zenithDistance\"].apply(lambda x: 1/np.cos(np.pi/180.*x))\n",
    "ccdVisitTable[\"medianE\"] = np.sqrt(ccdVisitTable[\"psfStarDeltaE1Median\"] ** 2.0 + \n",
    "                                    ccdVisitTable[\"psfStarDeltaE2Median\"] ** 2.0)\n",
    "psfSigmaDict = {}\n",
    "skyBgDict = {}\n",
    "skyNoiseDict = {}\n",
    "expTimeDict = {}\n",
    "expMidptMjdDict = {}\n",
    "medianEDict = {}\n",
    "psfStarScaledDeltaSizeScatterDict = {}\n",
    "astromOffsetStdDict = {}\n",
    "psfTraceRadiusDeltaDict = {}\n",
    "zeroPointDict = {}\n",
    "airmassDict = {}\n",
    "# for visit in ccdVisitTable[\"visitId\"].values:\n",
    "#     if visit in visitList:\n",
    "for visit in visitList:\n",
    "    if visit in ccdVisitTable[\"visitId\"].values:\n",
    "        psfSigmaDict[visit] = ccdVisitTable[ccdVisitTable[\"visitId\"] == visit][\"psfSigma\"].values[0]\n",
    "        skyBgDict[visit] = ccdVisitTable[ccdVisitTable[\"visitId\"] == visit][\"skyBg\"].values[0]\n",
    "        skyNoiseDict[visit] = ccdVisitTable[ccdVisitTable[\"visitId\"] == visit][\"skyNoise\"].values[0]\n",
    "        expTimeDict[visit] = ccdVisitTable[ccdVisitTable[\"visitId\"] == visit][\"expTime\"].values[0]\n",
    "        expMidptMjdDict[visit] = ccdVisitTable[ccdVisitTable[\"visitId\"] == visit][\"expMidptMJD\"].values[0]\n",
    "        medianEDict[visit] = ccdVisitTable[ccdVisitTable[\"visitId\"] == visit][\"medianE\"].values[0]\n",
    "        psfStarScaledDeltaSizeScatterDict[visit] = ccdVisitTable[ccdVisitTable[\"visitId\"] == visit][\"psfStarScaledDeltaSizeScatter\"].values[0]\n",
    "        astromOffsetStdDict[visit] = ccdVisitTable[ccdVisitTable[\"visitId\"] == visit][\"astromOffsetStd\"].values[0]\n",
    "        psfTraceRadiusDeltaDict[visit] = ccdVisitTable[ccdVisitTable[\"visitId\"] == visit][\"psfTraceRadiusDelta\"].values[0]\n",
    "        zeroPointDict[visit] = ccdVisitTable[ccdVisitTable[\"visitId\"] == visit][\"zeroPoint\"].values[0]\n",
    "        airmassDict[visit] = ccdVisitTable[ccdVisitTable[\"visitId\"] == visit][\"airmass\"].values[0]\n",
    "    else:\n",
    "        raise RuntimeError(\"ERROR: visit {} not found in ccdVisitTable\".format(visit))"
   ]
  },
  {
   "cell_type": "code",
   "execution_count": null,
   "id": "fa595417",
   "metadata": {
    "execution": {
     "iopub.status.busy": "2024-04-04T12:31:35.004227Z",
     "iopub.status.idle": "2024-04-04T12:31:35.004370Z",
     "shell.execute_reply": "2024-04-04T12:31:35.004301Z",
     "shell.execute_reply.started": "2024-04-04T12:31:35.004295Z"
    }
   },
   "outputs": [],
   "source": [
    "# Just to have a look at what's in the catalog:\n",
    "ccdVisitTable[ccdVisitTable.index == ccdVisitTable.index[0]] "
   ]
  },
  {
   "cell_type": "code",
   "execution_count": null,
   "id": "7e850a5f-6297-4438-9e0b-735b25229cc5",
   "metadata": {
    "execution": {
     "iopub.status.busy": "2024-04-04T12:31:35.004875Z",
     "iopub.status.idle": "2024-04-04T12:31:35.005028Z",
     "shell.execute_reply": "2024-04-04T12:31:35.004953Z",
     "shell.execute_reply.started": "2024-04-04T12:31:35.004946Z"
    }
   },
   "outputs": [],
   "source": [
    "dataJoined.columns"
   ]
  },
  {
   "cell_type": "code",
   "execution_count": null,
   "id": "2f2fd98b",
   "metadata": {
    "execution": {
     "iopub.status.busy": "2024-04-04T12:31:35.005590Z",
     "iopub.status.idle": "2024-04-04T12:31:35.005737Z",
     "shell.execute_reply": "2024-04-04T12:31:35.005666Z",
     "shell.execute_reply.started": "2024-04-04T12:31:35.005659Z"
    }
   },
   "outputs": [],
   "source": [
    "# Add columns into dataJoined table to have them all in one place\n",
    "dataJoined[\"psfSn\"] = dataJoined[\"psfFlux\"]/dataJoined[\"psfFluxErr\"]\n",
    "dataJoined[\"psfMag\"] = (dataJoined[\"psfFlux\"].values*u.nJy).to(u.ABmag).value\n",
    "dataJoined[\"psfMagErr\"] = 2.5/np.log(10.0)*(dataJoined[\"psfFluxErr\"].values/dataJoined[\"psfFlux\"].values)\n",
    "\n",
    "#dataJoined[\"apFlux_35_0_calFlux\"] = dataJoined[\"apFlux_35_0_instFlux\"]*dataJoined[\"localPhotoCalib\"]\n",
    "#dataJoined[\"apFlux_35_0_calFluxErr\"] = dataJoined[\"apFlux_35_0_instFluxErr\"]*dataJoined[\"localPhotoCalib\"]\n",
    "# This is the way to apply aperture corrections :\n",
    "dataJoined[\"apFlux_35_0_calFlux\"] = dataJoined[\"apFlux_35_0_instFlux\"]*dataJoined[\"localPhotoCalib\"]*dataJoined['psfFlux_apCorr']\n",
    "dataJoined[\"apFlux_35_0_calFluxErr\"] = dataJoined[\"apFlux_35_0_instFluxErr\"]*dataJoined[\"localPhotoCalib\"]*dataJoined['psfFlux_apCorr']\n",
    "\n",
    "# NOTE: psfFlux is the fgcm calibrated flux.  I'm pretty sure you get the \"instrumental\" \n",
    "# flux by dividing psfFlux by the localPhotoCalib value.\n",
    "dataJoined[\"psfInstMag\"] = ((dataJoined[\"psfFlux\"].values/dataJoined[\"localPhotoCalib\"].values)*u.nJy).to(u.ABmag).value\n",
    "dataJoined[\"psfGausFluxRatio\"] = dataJoined[\"psfFlux\"]/dataJoined[\"gaussianFlux\"]\n",
    "dataJoined[\"psfSigma\"] = dataJoined.apply(lambda x: psfSigmaDict[x[\"visit\"]], axis=1)\n",
    "dataJoined[\"skyBg\"] = dataJoined.apply(lambda x: skyBgDict[x[\"visit\"]], axis=1)\n",
    "dataJoined[\"expTime\"] = dataJoined.apply(lambda x: expTimeDict[x[\"visit\"]], axis=1)\n",
    "dataJoined[\"expMidptMjd\"] = dataJoined.apply(lambda x: expMidptMjdDict[x[\"visit\"]], axis=1)\n",
    "dataJoined[\"nSource\"] = dataJoined.apply(lambda x: nSourceDict[x[\"visit\"]], axis=1)\n",
    "dataJoined[\"medianE\"] = dataJoined.apply(lambda x: medianEDict[x[\"visit\"]], axis=1)\n",
    "dataJoined[\"psfStarScaledDeltaSizeScatter\"] = dataJoined.apply(lambda x: psfStarScaledDeltaSizeScatterDict[x[\"visit\"]], axis=1)\n",
    "dataJoined[\"astromOffsetStd\"] = dataJoined.apply(lambda x: astromOffsetStdDict[x[\"visit\"]], axis=1)\n",
    "dataJoined[\"psfTraceRadiusDelta\"] = dataJoined.apply(lambda x: psfTraceRadiusDeltaDict[x[\"visit\"]], axis=1)\n",
    "\n",
    "# I add the airmass and zero-point I want to keep here\n",
    "dataJoined[\"zeroPoint\"] = dataJoined.apply(lambda x: zeroPointDict[x[\"visit\"]], axis=1)\n",
    "dataJoined[\"airmass\"] = dataJoined.apply(lambda x: airmassDict[x[\"visit\"]], axis=1)\n",
    "\n",
    "matchedObjIdList = list(set(dataJoined[\"obj_index\"]))"
   ]
  },
  {
   "cell_type": "code",
   "execution_count": null,
   "id": "ddb12466",
   "metadata": {
    "execution": {
     "iopub.status.busy": "2024-04-04T12:31:35.006176Z",
     "iopub.status.idle": "2024-04-04T12:31:35.006323Z",
     "shell.execute_reply": "2024-04-04T12:31:35.006253Z",
     "shell.execute_reply.started": "2024-04-04T12:31:35.006246Z"
    }
   },
   "outputs": [],
   "source": [
    "dataJoined[dataJoined.index == 0]"
   ]
  },
  {
   "cell_type": "markdown",
   "id": "d9097dac-56de-482c-9d7a-3d83dcc83a3a",
   "metadata": {},
   "source": [
    "## The association between the independent sources is done through the object index \n",
    "\n",
    "- for plotting the repeatability"
   ]
  },
  {
   "cell_type": "code",
   "execution_count": null,
   "id": "1c5b85d8",
   "metadata": {
    "execution": {
     "iopub.status.busy": "2024-04-04T12:31:35.007204Z",
     "iopub.status.idle": "2024-04-04T12:31:35.007455Z",
     "shell.execute_reply": "2024-04-04T12:31:35.007376Z",
     "shell.execute_reply.started": "2024-04-04T12:31:35.007362Z"
    }
   },
   "outputs": [],
   "source": [
    "# Compute repeatability related values per object/object group and add\n",
    "# them inplace to the dataJoined DataFrame.\n",
    "psfMagDiffMmagDfList = []\n",
    "psfMagStdMmagAll = []\n",
    "psfMagStdMmagDict = {}\n",
    "psfMagDiffChiDfList = []\n",
    "psfSnAll = []\n",
    "raDiffMasDfList = []\n",
    "decDiffMasDfList = []\n",
    "raCosDecDiffMasDfList = []\n",
    "objRaDegList = []\n",
    "objDecDegList = []\n",
    "raStdMasAll = []\n",
    "decStdMasAll = []\n",
    "raCosDecStdMasAll = []\n",
    "objDataList = []\n",
    "\n",
    "# loop on objects\n",
    "for objIndex in matchedObjIdList:\n",
    "    # select sources corresponding to that object\n",
    "    objData = dataJoined[dataJoined[\"obj_index\"] == objIndex]\n",
    "    psfMag = objData[\"psfMag\"]\n",
    "    psfMagErr = objData[\"psfMagErr\"]\n",
    "\n",
    "    # average flux over all visits\n",
    "    clippedMeanMagArray = scipy.stats.sigmaclip(psfMag, low=3.0, high=3.0).clipped\n",
    "    clippedMeanMag = np.mean(clippedMeanMagArray)\n",
    "    clippedMeanMagErr = np.std(clippedMeanMagArray)/np.sqrt(len(clippedMeanMagArray))\n",
    "\n",
    "    # array of difference between flux an clipped mean average\n",
    "    psfMagDiffMmag = 1000*(psfMag - clippedMeanMag)\n",
    "    # sigma arrays over the difference\n",
    "    psfMagStdMmag = np.std(psfMagDiffMmag)\n",
    "    # residuals array\n",
    "    psfMagDiffChi = (psfMag - clippedMeanMag)/np.sqrt(psfMagErr**2 + clippedMeanMagErr**2)\n",
    "    \n",
    "    clippedMeanRaArray = scipy.stats.sigmaclip(objData[\"ra\"], low=3.0, high=3.0).clipped\n",
    "    clippedMeanRa = np.mean(clippedMeanRaArray)\n",
    "    raDiffMas = (objData[\"ra\"] - clippedMeanRa)*3600*1000\n",
    "    \n",
    "    clippedMeanDecArray = scipy.stats.sigmaclip(objData[\"dec\"], low=3.0, high=3.0).clipped\n",
    "    clippedMeanDec = np.mean(clippedMeanDecArray)\n",
    "    decDiffMas = (objData[\"dec\"] - clippedMeanDec)*3600*1000\n",
    "    \n",
    "    raCosDec = np.deg2rad(objData[\"ra\"])*np.cos(np.deg2rad(objData[\"dec\"]))\n",
    "    clippedMeanRaCosDecArray = scipy.stats.sigmaclip(raCosDec, low=3.0, high=3.0).clipped\n",
    "    clippedMeanRaCosDec = np.mean(clippedMeanRaCosDecArray)\n",
    "    raCosDecDiffRad = (raCosDec - clippedMeanRaCosDec)\n",
    "    raCosDecDiffMas = np.rad2deg(raCosDecDiffRad)*3600*1000\n",
    "\n",
    "    # save for all sources of the object\n",
    "    psfMagDiffMmagDfList.append(psfMagDiffMmag)\n",
    "    psfMagStdMmagAll.append(psfMagStdMmag)\n",
    "    psfMagDiffChiDfList.append(psfMagDiffChi)\n",
    "\n",
    "    raDiffMasDfList.append(raDiffMas)\n",
    "    decDiffMasDfList.append(decDiffMas)\n",
    "    raCosDecDiffMasDfList.append(raCosDecDiffMas)\n",
    "    \n",
    "    objRaDegList.append(clippedMeanRa)\n",
    "    objDecDegList.append(clippedMeanDec)\n",
    "\n",
    "    raStdMas = np.std(raDiffMas)\n",
    "    raStdMasAll.append(raStdMas)\n",
    "    decStdMas = np.std(decDiffMas)\n",
    "    decStdMasAll.append(decStdMas)\n",
    "    raCosDecStdMas = np.std(raCosDecDiffMas)\n",
    "    raCosDecStdMasAll.append(raCosDecStdMas)\n",
    "    psfMagStdMmagDict[objIndex] = psfMagStdMmag\n",
    "\n",
    "# concatenate over all objects - all sources\n",
    "psfMagDiffMmagDf = pd.concat(psfMagDiffMmagDfList)\n",
    "psfMagDiffChiDf = pd.concat(psfMagDiffChiDfList)\n",
    "raDiffMasDf = pd.concat(raDiffMasDfList)\n",
    "decDiffMasDf = pd.concat(decDiffMasDfList)\n",
    "raCosDecDiffMasDf = pd.concat(raCosDecDiffMasDfList)\n",
    "\n",
    "# add this common properties to each source in dataJoined\n",
    "dataJoined.loc[:, \"psfMagDiffMmag\"] = psfMagDiffMmagDf\n",
    "dataJoined.loc[:, \"psfMagDiffChi\"] = psfMagDiffChiDf\n",
    "dataJoined.loc[:, \"raDiffMas\"] = raDiffMasDf\n",
    "dataJoined.loc[:, \"decDiffMas\"] = decDiffMasDf\n",
    "dataJoined.loc[:, \"raCosDecDiffMas\"] = raCosDecDiffMasDf"
   ]
  },
  {
   "cell_type": "code",
   "execution_count": null,
   "id": "a8a83802",
   "metadata": {
    "execution": {
     "iopub.status.busy": "2024-04-04T12:31:35.007862Z",
     "iopub.status.idle": "2024-04-04T12:31:35.008014Z",
     "shell.execute_reply": "2024-04-04T12:31:35.007947Z",
     "shell.execute_reply.started": "2024-04-04T12:31:35.007941Z"
    }
   },
   "outputs": [],
   "source": [
    "dataJoined[dataJoined.index == 0]"
   ]
  },
  {
   "cell_type": "code",
   "execution_count": null,
   "id": "6e609b37-c7d5-4d62-94b4-b7c896816fc5",
   "metadata": {
    "execution": {
     "iopub.status.busy": "2024-04-04T12:31:35.008454Z",
     "iopub.status.idle": "2024-04-04T12:31:35.008600Z",
     "shell.execute_reply": "2024-04-04T12:31:35.008530Z",
     "shell.execute_reply.started": "2024-04-04T12:31:35.008524Z"
    }
   },
   "outputs": [],
   "source": [
    "dataJoined.head()"
   ]
  },
  {
   "cell_type": "markdown",
   "id": "b76e9a2c-5d83-44d4-b851-fde34a364f01",
   "metadata": {},
   "source": [
    "## Check the correlation between the flux psf and apperture flux"
   ]
  },
  {
   "cell_type": "markdown",
   "id": "d3822743-b788-4c8e-8c57-bef52eba9e39",
   "metadata": {
    "execution": {
     "iopub.execute_input": "2024-03-21T09:53:37.961103Z",
     "iopub.status.busy": "2024-03-21T09:53:37.960978Z",
     "iopub.status.idle": "2024-03-21T09:53:37.966760Z",
     "shell.execute_reply": "2024-03-21T09:53:37.963474Z",
     "shell.execute_reply.started": "2024-03-21T09:53:37.961092Z"
    }
   },
   "source": [
    "- The goal is to understand what flux is calibrated what flux is not calibrated "
   ]
  },
  {
   "cell_type": "code",
   "execution_count": null,
   "id": "dee63f10-268e-4bf0-bf6c-46bc8bdb792a",
   "metadata": {
    "execution": {
     "iopub.status.busy": "2024-04-04T12:31:35.009087Z",
     "iopub.status.idle": "2024-04-04T12:31:35.009227Z",
     "shell.execute_reply": "2024-04-04T12:31:35.009162Z",
     "shell.execute_reply.started": "2024-04-04T12:31:35.009156Z"
    }
   },
   "outputs": [],
   "source": [
    "dataJoined_subset = dataJoined[[\"obj_index\",\"sourceId\",\"band\",\"visitId\",\"ra\",\"dec\",\"psfMag\",\"psfFlux\",\"gaussianFlux\",\"apFlux_35_0_calFlux\", \"apFlux_35_0_instFlux\",\"psfFlux_apCorr\",\n",
    "                                \"psfMagErr\",\"psfFluxErr\",\"gaussianFluxErr\",\"apFlux_35_0_calFluxErr\", \"apFlux_35_0_instFluxErr\",\"skyBg\"]]"
   ]
  },
  {
   "cell_type": "code",
   "execution_count": null,
   "id": "f799abc6-7b2c-4758-beb2-fee9ca89bb37",
   "metadata": {
    "execution": {
     "iopub.status.busy": "2024-04-04T12:31:35.009715Z",
     "iopub.status.idle": "2024-04-04T12:31:35.009860Z",
     "shell.execute_reply": "2024-04-04T12:31:35.009793Z",
     "shell.execute_reply.started": "2024-04-04T12:31:35.009786Z"
    }
   },
   "outputs": [],
   "source": [
    "dataJoined_subset.sort_values(by=[\"obj_index\",\"band\",\"visitId\"])"
   ]
  },
  {
   "cell_type": "code",
   "execution_count": null,
   "id": "7ed4334a-0cfb-478c-a139-910a1d6397a2",
   "metadata": {
    "execution": {
     "iopub.status.busy": "2024-04-04T12:31:35.010391Z",
     "iopub.status.idle": "2024-04-04T12:31:35.010531Z",
     "shell.execute_reply": "2024-04-04T12:31:35.010465Z",
     "shell.execute_reply.started": "2024-04-04T12:31:35.010459Z"
    }
   },
   "outputs": [],
   "source": [
    "dataJoined_subset_g = dataJoined_subset[dataJoined_subset[\"band\"] == \"g\"]\n",
    "dataJoined_subset_r = dataJoined_subset[dataJoined_subset[\"band\"] == \"r\"]\n",
    "dataJoined_subset_z = dataJoined_subset[dataJoined_subset[\"band\"] == \"z\"]\n",
    "dataJoined_subset_y = dataJoined_subset[dataJoined_subset[\"band\"] == \"y\"]"
   ]
  },
  {
   "cell_type": "code",
   "execution_count": null,
   "id": "83c30669-aa3f-47a1-b465-97c68808bc2f",
   "metadata": {
    "execution": {
     "iopub.status.busy": "2024-04-04T12:31:35.010984Z",
     "iopub.status.idle": "2024-04-04T12:31:35.011203Z",
     "shell.execute_reply": "2024-04-04T12:31:35.011129Z",
     "shell.execute_reply.started": "2024-04-04T12:31:35.011122Z"
    }
   },
   "outputs": [],
   "source": [
    "fig,axs = plt.subplots(1,3,figsize=(16,4))\n",
    "ax=axs[0]\n",
    "dataJoined_subset_g.plot.scatter(x=\"psfFlux\",y=\"gaussianFlux\",ax=ax,color=\"g\",marker=\"+\",lw=1,label=\"g\")\n",
    "dataJoined_subset_r.plot.scatter(x=\"psfFlux\",y=\"gaussianFlux\",ax=ax,color=\"r\",marker=\"+\",lw=1,label=\"r\")\n",
    "dataJoined_subset_z.plot.scatter(x=\"psfFlux\",y=\"gaussianFlux\",ax=ax,color=\"grey\",marker=\"+\",lw=0.5,label=\"z\")\n",
    "dataJoined_subset_y.plot.scatter(x=\"psfFlux\",y=\"gaussianFlux\",ax=ax,color=\"k\",marker=\"+\",lw=0.5,label=\"y\")\n",
    "ax.set_aspect(\"equal\")\n",
    "ax.set_xlim(0.,0.6e8)\n",
    "ax.set_ylim(0.,0.6e8)\n",
    "ax.set_title(\"Gaussian flux vs psf Flux (nanojanskys)\")\n",
    "ax.grid()\n",
    "\n",
    "ax=axs[1]\n",
    "dataJoined_subset_g.plot.scatter(x=\"psfFlux\",y=\"apFlux_35_0_instFlux\",ax=ax,color=\"g\",marker=\"+\",label=\"g\")\n",
    "dataJoined_subset_r.plot.scatter(x=\"psfFlux\",y=\"apFlux_35_0_instFlux\",ax=ax,color=\"r\",marker=\"+\",label=\"r\")\n",
    "dataJoined_subset_z.plot.scatter(x=\"psfFlux\",y=\"apFlux_35_0_instFlux\",ax=ax,color=\"grey\",marker=\"+\",label=\"z\")\n",
    "dataJoined_subset_y.plot.scatter(x=\"psfFlux\",y=\"apFlux_35_0_instFlux\",ax=ax,color=\"k\",marker=\"+\",label=\"y\")\n",
    "ax.set_aspect(\"auto\")\n",
    "ax.set_title(\"apFlux_35_0_instFlux flux (inst unit)  vs psf Flux (nanojanskys)\")\n",
    "ax.grid()\n",
    "\n",
    "ax=axs[2]\n",
    "dataJoined_subset_g.plot.scatter(x=\"psfFlux\",y=\"apFlux_35_0_calFlux\",ax=ax,color=\"g\",marker=\"+\",label=\"g\")\n",
    "dataJoined_subset_r.plot.scatter(x=\"psfFlux\",y=\"apFlux_35_0_calFlux\",ax=ax,color=\"r\",marker=\"+\",label=\"r\")\n",
    "dataJoined_subset_z.plot.scatter(x=\"psfFlux\",y=\"apFlux_35_0_calFlux\",ax=ax,color=\"grey\",marker=\"+\",lw=0.5,label=\"z\")\n",
    "dataJoined_subset_y.plot.scatter(x=\"psfFlux\",y=\"apFlux_35_0_calFlux\",ax=ax,color=\"k\",marker=\"+\",lw=0.5,label=\"y\")\n",
    "ax.set_aspect(\"equal\")\n",
    "ax.set_xlim(0.,0.6e8)\n",
    "ax.set_ylim(0.,0.6e8)\n",
    "ax.set_title(\"apFlux_35_0_calFlux flux vs psf Flux  (nanojanskys)\")\n",
    "ax.grid()\n"
   ]
  },
  {
   "cell_type": "code",
   "execution_count": null,
   "id": "f0f09ef0-bd31-4c55-bdf1-d8a41c8a0e25",
   "metadata": {
    "execution": {
     "iopub.status.busy": "2024-04-04T12:31:35.011857Z",
     "iopub.status.idle": "2024-04-04T12:31:35.012134Z",
     "shell.execute_reply": "2024-04-04T12:31:35.012056Z",
     "shell.execute_reply.started": "2024-04-04T12:31:35.012048Z"
    }
   },
   "outputs": [],
   "source": [
    "fig,axs = plt.subplots(1,2,figsize=(12,4))\n",
    "ax=axs[0]\n",
    "dataJoined_subset_g.plot.scatter(x=\"psfFlux\",y=\"psfFluxErr\",ax=ax,color=\"g\",marker=\"+\",lw=1,label=\"g\")\n",
    "dataJoined_subset_r.plot.scatter(x=\"psfFlux\",y=\"psfFluxErr\",ax=ax,color=\"r\",marker=\"+\",lw=1,label=\"r\")\n",
    "dataJoined_subset_z.plot.scatter(x=\"psfFlux\",y=\"psfFluxErr\",ax=ax,color=\"grey\",marker=\"+\",lw=0.5,label=\"z\")\n",
    "dataJoined_subset_y.plot.scatter(x=\"psfFlux\",y=\"psfFluxErr\",ax=ax,color=\"k\",marker=\"+\",lw=0.5,label=\"y\")\n",
    "ax.set_aspect(\"auto\")\n",
    "\n",
    "ax.set_title(\"psf flux error vs psf Flux (nanojanskys)\")\n",
    "ax.grid()\n",
    "\n",
    "ax=axs[1]\n",
    "dataJoined_subset_g.plot.scatter(x=\"psfMag\",y=\"psfMagErr\",ax=ax,color=\"g\",marker=\"+\",lw=1,label=\"g\")\n",
    "dataJoined_subset_r.plot.scatter(x=\"psfMag\",y=\"psfMagErr\",ax=ax,color=\"r\",marker=\"+\",lw=1,label=\"r\")\n",
    "dataJoined_subset_z.plot.scatter(x=\"psfMag\",y=\"psfMagErr\",ax=ax,color=\"grey\",marker=\"+\",lw=0.5,label=\"z\")\n",
    "dataJoined_subset_y.plot.scatter(x=\"psfMag\",y=\"psfMagErr\",ax=ax,color=\"k\",marker=\"+\",lw=0.5,label=\"y\")\n",
    "ax.set_aspect(\"auto\")\n",
    "\n",
    "ax.set_title(\"psf flux error vs psf Flux (AB Mag)\")\n",
    "ax.grid()\n",
    "\n",
    "plt.suptitle(\"All selected sources\")"
   ]
  },
  {
   "cell_type": "markdown",
   "id": "20803b60-fec5-4866-bb9a-d11755212532",
   "metadata": {},
   "source": [
    "## Statistics on Light Curves\n",
    "\n",
    "- want number of source per object"
   ]
  },
  {
   "cell_type": "code",
   "execution_count": null,
   "id": "c19e571b-b5bc-4d5a-a22c-3d6a06f3c011",
   "metadata": {
    "execution": {
     "iopub.status.busy": "2024-04-04T12:31:35.012534Z",
     "iopub.status.idle": "2024-04-04T12:31:35.012820Z",
     "shell.execute_reply": "2024-04-04T12:31:35.012742Z",
     "shell.execute_reply.started": "2024-04-04T12:31:35.012734Z"
    }
   },
   "outputs": [],
   "source": [
    "#my_list = list(dataJoined.columns)\n",
    "#for name in my_list:\n",
    "#    print(name)"
   ]
  },
  {
   "cell_type": "markdown",
   "id": "b3ae83c7-b49d-4cfa-ac0b-c623719ca27b",
   "metadata": {},
   "source": [
    "#### Compute pandas series with multi-label or series per color "
   ]
  },
  {
   "cell_type": "code",
   "execution_count": null,
   "id": "73b14c5a-0d1e-48eb-a167-e5a56f7e044b",
   "metadata": {
    "execution": {
     "iopub.status.busy": "2024-04-04T12:31:35.013229Z",
     "iopub.status.idle": "2024-04-04T12:31:35.013386Z",
     "shell.execute_reply": "2024-04-04T12:31:35.013310Z",
     "shell.execute_reply.started": "2024-04-04T12:31:35.013303Z"
    }
   },
   "outputs": [],
   "source": [
    "count_source_visit = dataJoined_subset.groupby(by=[\"obj_index\",\"band\"]).count()[\"visitId\"]\n",
    "size_source_visit = dataJoined_subset.groupby(by=[\"obj_index\",\"band\"]).size()\n",
    "count_source_visit_g = dataJoined_subset_g.groupby(by=[\"obj_index\"]).count()[\"sourceId\"]\n",
    "count_source_visit_r = dataJoined_subset_r.groupby(by=[\"obj_index\"]).count()[\"sourceId\"]\n",
    "count_source_visit_z = dataJoined_subset_z.groupby(by=[\"obj_index\"]).count()[\"sourceId\"]\n",
    "count_source_visit_y = dataJoined_subset_y.groupby(by=[\"obj_index\"]).count()[\"sourceId\"]\n",
    "size_source_visit_g = dataJoined_subset_g.groupby(by=[\"obj_index\"]).size()\n",
    "size_source_visit_r = dataJoined_subset_r.groupby(by=[\"obj_index\"]).size()\n",
    "size_source_visit_z = dataJoined_subset_z.groupby(by=[\"obj_index\"]).size()\n",
    "size_source_visit_y = dataJoined_subset_y.groupby(by=[\"obj_index\"]).size()"
   ]
  },
  {
   "cell_type": "code",
   "execution_count": null,
   "id": "a6f234f4-d399-462f-8537-e1a0b98de480",
   "metadata": {
    "execution": {
     "iopub.status.busy": "2024-04-04T12:31:35.013831Z",
     "iopub.status.idle": "2024-04-04T12:31:35.013973Z",
     "shell.execute_reply": "2024-04-04T12:31:35.013907Z",
     "shell.execute_reply.started": "2024-04-04T12:31:35.013901Z"
    }
   },
   "outputs": [],
   "source": [
    "fig,axs = plt.subplots(1,4,figsize=(16,3))\n",
    "ax=axs[0]\n",
    "size_source_visit_g.hist(bins=50,range=(0,51.),ax=ax,facecolor=\"g\",alpha=0.5,label=\"g\")\n",
    "ax.legend()\n",
    "ax=axs[1]\n",
    "size_source_visit_r.hist(bins=50,range=(0,51.),ax=ax,facecolor=\"r\",alpha=0.5,label=\"r\")\n",
    "ax.legend()\n",
    "ax=axs[2]\n",
    "size_source_visit_z.hist(bins=50,range=(0,51.),ax=ax,facecolor=\"grey\",alpha=0.5,label=\"z\")\n",
    "ax.legend()\n",
    "ax=axs[3]\n",
    "size_source_visit_y.hist(bins=50,range=(0,51.),ax=ax,facecolor=\"k\",alpha=0.5,label=\"y\")\n",
    "ax.legend()\n",
    "\n",
    "plt.suptitle(\"number of sources per object\")"
   ]
  },
  {
   "cell_type": "markdown",
   "id": "cfbec62c-c1ba-4be1-9cce-601292b3f20e",
   "metadata": {},
   "source": [
    "### Filtering the object using pandas series and dataframe"
   ]
  },
  {
   "cell_type": "markdown",
   "id": "d1bc7d9c-3351-4125-a00f-89d92ee784c3",
   "metadata": {},
   "source": [
    "#### Unstacking a multi-label pandas series into a dataframe"
   ]
  },
  {
   "cell_type": "code",
   "execution_count": null,
   "id": "f967b79e-1c4a-4a47-8f7d-53d73cf06150",
   "metadata": {
    "execution": {
     "iopub.status.busy": "2024-04-04T12:31:35.014597Z",
     "iopub.status.idle": "2024-04-04T12:31:35.014747Z",
     "shell.execute_reply": "2024-04-04T12:31:35.014675Z",
     "shell.execute_reply.started": "2024-04-04T12:31:35.014669Z"
    }
   },
   "outputs": [],
   "source": [
    "NMIN = 10. # minimum number of visit in Y band\n",
    "NBANDMIN = 4 # nimimum number of bands"
   ]
  },
  {
   "cell_type": "code",
   "execution_count": null,
   "id": "b5a055d7-eb37-449a-a3e7-28224ed1b75b",
   "metadata": {
    "execution": {
     "iopub.status.busy": "2024-04-04T12:31:35.015214Z",
     "iopub.status.idle": "2024-04-04T12:31:35.015362Z",
     "shell.execute_reply": "2024-04-04T12:31:35.015290Z",
     "shell.execute_reply.started": "2024-04-04T12:31:35.015284Z"
    }
   },
   "outputs": [],
   "source": [
    "size_source_visit "
   ]
  },
  {
   "cell_type": "markdown",
   "id": "3bfe92e6-fbce-4a32-bd7a-9e0c31b6c0ed",
   "metadata": {},
   "source": [
    "#### Select the object having at least NYMIN visit in band Y\n",
    "\n",
    "- however it is useless, the selection will be done on pandas dataframe from unstacked series"
   ]
  },
  {
   "cell_type": "code",
   "execution_count": null,
   "id": "a391ac56-8d9e-4429-9759-ab739caf86f6",
   "metadata": {
    "execution": {
     "iopub.status.busy": "2024-04-04T12:31:35.015821Z",
     "iopub.status.idle": "2024-04-04T12:31:35.016047Z",
     "shell.execute_reply": "2024-04-04T12:31:35.015969Z",
     "shell.execute_reply.started": "2024-04-04T12:31:35.015961Z"
    }
   },
   "outputs": [],
   "source": [
    "cut_NY = size_source_visit[:,'y']  >= NMIN\n",
    "cut_NY"
   ]
  },
  {
   "cell_type": "code",
   "execution_count": null,
   "id": "cd7de923-1a7e-4cfb-81e0-1c93348bd231",
   "metadata": {
    "execution": {
     "iopub.status.busy": "2024-04-04T12:31:35.016514Z",
     "iopub.status.idle": "2024-04-04T12:31:35.016655Z",
     "shell.execute_reply": "2024-04-04T12:31:35.016588Z",
     "shell.execute_reply.started": "2024-04-04T12:31:35.016582Z"
    }
   },
   "outputs": [],
   "source": [
    "size_source_visit_unstacked = size_source_visit.unstack()\n",
    "size_source_visit_unstacked "
   ]
  },
  {
   "cell_type": "markdown",
   "id": "d45d475f-74a4-4e10-a158-360840a2ac19",
   "metadata": {},
   "source": [
    "#### Apply the selection on the pandas series"
   ]
  },
  {
   "cell_type": "code",
   "execution_count": null,
   "id": "3ec00874-3a78-4b6e-be43-3a1bb0b1629d",
   "metadata": {
    "execution": {
     "iopub.status.busy": "2024-04-04T12:31:35.017088Z",
     "iopub.status.idle": "2024-04-04T12:31:35.017231Z",
     "shell.execute_reply": "2024-04-04T12:31:35.017163Z",
     "shell.execute_reply.started": "2024-04-04T12:31:35.017157Z"
    }
   },
   "outputs": [],
   "source": [
    "cut_on_size_in_bands = (size_source_visit_unstacked.y>= NMIN) & (size_source_visit_unstacked.g>= NMIN) & (size_source_visit_unstacked.r>= NMIN) & (size_source_visit_unstacked.z>= NMIN) \n",
    "\n",
    "size_source_visit_unstacked = size_source_visit_unstacked[cut_on_size_in_bands ] \n",
    "size_source_visit_unstacked"
   ]
  },
  {
   "cell_type": "code",
   "execution_count": null,
   "id": "e5a3d2c1-b78c-47e3-af6a-693405d3b2f2",
   "metadata": {
    "execution": {
     "iopub.status.busy": "2024-04-04T12:31:35.017741Z",
     "iopub.status.idle": "2024-04-04T12:31:35.017882Z",
     "shell.execute_reply": "2024-04-04T12:31:35.017816Z",
     "shell.execute_reply.started": "2024-04-04T12:31:35.017809Z"
    }
   },
   "outputs": [],
   "source": [
    "len(size_source_visit_unstacked)"
   ]
  },
  {
   "cell_type": "markdown",
   "id": "eb0fe52a-c01d-491d-a3fd-26879ba12a13",
   "metadata": {},
   "source": [
    "#### Dropping the object not having a visit in all bands on the pandas dataframe from unstacked series"
   ]
  },
  {
   "cell_type": "code",
   "execution_count": null,
   "id": "42e57013-68f0-4cc2-ba1f-b72ee4f0f038",
   "metadata": {
    "execution": {
     "iopub.status.busy": "2024-04-04T12:31:35.018420Z",
     "iopub.status.idle": "2024-04-04T12:31:35.018568Z",
     "shell.execute_reply": "2024-04-04T12:31:35.018496Z",
     "shell.execute_reply.started": "2024-04-04T12:31:35.018490Z"
    }
   },
   "outputs": [],
   "source": [
    "size_source_visit_selected =size_source_visit_unstacked.dropna(axis=0,how='any') \n",
    "size_source_visit_selected"
   ]
  },
  {
   "cell_type": "markdown",
   "id": "1da39da2-a37a-4545-afef-8895260489fc",
   "metadata": {},
   "source": [
    "#### Restack the pandas dataframe into a pandas series with multi-label"
   ]
  },
  {
   "cell_type": "code",
   "execution_count": null,
   "id": "33ef938b-20e3-498e-a82b-eb66e2557b0a",
   "metadata": {
    "execution": {
     "iopub.status.busy": "2024-04-04T12:31:35.018870Z",
     "iopub.status.idle": "2024-04-04T12:31:35.019006Z",
     "shell.execute_reply": "2024-04-04T12:31:35.018942Z",
     "shell.execute_reply.started": "2024-04-04T12:31:35.018937Z"
    }
   },
   "outputs": [],
   "source": [
    "ser_size_source_visit_selected = size_source_visit_selected.stack()\n",
    "ser_size_source_visit_selected "
   ]
  },
  {
   "cell_type": "markdown",
   "id": "bcd3aadb-e004-4f7e-9a0a-7713295ac7ab",
   "metadata": {},
   "source": [
    "#### Extract the list of selected objects from the pandas dataframe (from unstacked series)"
   ]
  },
  {
   "cell_type": "code",
   "execution_count": null,
   "id": "fc80afc0-1ff3-44ed-9a3f-6676db5cb7a5",
   "metadata": {
    "execution": {
     "iopub.status.busy": "2024-04-04T12:31:35.019451Z",
     "iopub.status.idle": "2024-04-04T12:31:35.019595Z",
     "shell.execute_reply": "2024-04-04T12:31:35.019525Z",
     "shell.execute_reply.started": "2024-04-04T12:31:35.019519Z"
    }
   },
   "outputs": [],
   "source": [
    "selected_objects_indexes = list(size_source_visit_selected.index)\n",
    "print(selected_objects_indexes)"
   ]
  },
  {
   "cell_type": "code",
   "execution_count": null,
   "id": "521bf9a7-7385-47a6-8244-3a60a0322918",
   "metadata": {
    "execution": {
     "iopub.status.busy": "2024-04-04T12:31:35.020189Z",
     "iopub.status.idle": "2024-04-04T12:31:35.020333Z",
     "shell.execute_reply": "2024-04-04T12:31:35.020262Z",
     "shell.execute_reply.started": "2024-04-04T12:31:35.020257Z"
    }
   },
   "outputs": [],
   "source": [
    "#ser_size_source_visit_selected.keys() "
   ]
  },
  {
   "cell_type": "markdown",
   "id": "e830143b-4aa9-439a-ac31-923add461a76",
   "metadata": {},
   "source": [
    "#### Loop on keys multi-label in pandas series"
   ]
  },
  {
   "cell_type": "code",
   "execution_count": null,
   "id": "bcf7c00d-0cc9-407a-b5ac-691272a29447",
   "metadata": {
    "execution": {
     "iopub.status.busy": "2024-04-04T12:31:35.020861Z",
     "iopub.status.idle": "2024-04-04T12:31:35.021124Z",
     "shell.execute_reply": "2024-04-04T12:31:35.021048Z",
     "shell.execute_reply.started": "2024-04-04T12:31:35.021041Z"
    }
   },
   "outputs": [],
   "source": [
    "#for name,group in dataJoined_subset.groupby(by=[\"obj_index\",\"band\"]):\n",
    "#    print(\"name = \",name)\n",
    "#    print(\"group = \",group[\"visitId\"])"
   ]
  },
  {
   "cell_type": "code",
   "execution_count": null,
   "id": "d1c8439c-8f88-4265-bd7f-49f3ee7077d9",
   "metadata": {
    "execution": {
     "iopub.status.busy": "2024-04-04T12:31:35.021858Z",
     "iopub.status.idle": "2024-04-04T12:31:35.022173Z",
     "shell.execute_reply": "2024-04-04T12:31:35.022096Z",
     "shell.execute_reply.started": "2024-04-04T12:31:35.022088Z"
    }
   },
   "outputs": [],
   "source": [
    "#for (idx,band),val in count_source_visit:\n",
    "#    print(idx,band,val)"
   ]
  },
  {
   "cell_type": "markdown",
   "id": "073a5473-4179-4595-ba98-f7394b85fd2f",
   "metadata": {},
   "source": [
    "### Plot the SED with psf Flux"
   ]
  },
  {
   "cell_type": "code",
   "execution_count": null,
   "id": "bbec56ff-0bc4-4495-9258-ec70c6f0b755",
   "metadata": {
    "execution": {
     "iopub.status.busy": "2024-04-04T12:31:35.022577Z",
     "iopub.status.idle": "2024-04-04T12:31:35.022864Z",
     "shell.execute_reply": "2024-04-04T12:31:35.022787Z",
     "shell.execute_reply.started": "2024-04-04T12:31:35.022779Z"
    }
   },
   "outputs": [],
   "source": [
    "df_obj_sed = pd.DataFrame(columns=['idx_obj', 'ra', 'dec','magG', 'magR','magZ','magY'])\n",
    "\n",
    "icnt =0\n",
    "#for idx_obj_sel in selected_objects_ind:\n",
    "for idx_obj_sel in [120]:\n",
    "    cut_sel_object = dataJoined_subset.obj_index == idx_obj_sel \n",
    "    isolatedStarSources_sel = dataJoined_subset[cut_sel_object] \n",
    "\n",
    "    isolatedStarSources_sel_g = isolatedStarSources_sel[isolatedStarSources_sel[\"band\"] == \"g\"]\n",
    "    isolatedStarSources_sel_r = isolatedStarSources_sel[isolatedStarSources_sel[\"band\"] == \"r\"]\n",
    "    isolatedStarSources_sel_z = isolatedStarSources_sel[isolatedStarSources_sel[\"band\"] == \"z\"]\n",
    "    isolatedStarSources_sel_y = isolatedStarSources_sel[isolatedStarSources_sel[\"band\"] == \"y\"]\n",
    "\n",
    "    ra = isolatedStarSources_sel_g['ra'].mean()\n",
    "    dec = isolatedStarSources_sel_g['dec'].mean()\n",
    "    \n",
    "    df_obj_sed.loc[icnt] = [idx_obj_sel,ra,dec,\n",
    "                             isolatedStarSources_sel_g['psfMag'].median(),\n",
    "                             isolatedStarSources_sel_r['psfMag'].median(),   \n",
    "                             isolatedStarSources_sel_z['psfMag'].median(),\n",
    "                             isolatedStarSources_sel_y['psfMag'].median()]\n",
    "\n",
    "    icnt +=1\n",
    "\n",
    "    fig,axes = plt.subplots(1,4,figsize=(10,3))\n",
    "    axs= axes.flatten()\n",
    "    for idx,ax in enumerate(axs):\n",
    "        if idx==0:\n",
    "            print(len(isolatedStarSources_sel_g[\"psfFlux\"]))\n",
    "            isolatedStarSources_sel_g[\"psfFlux\"].hist(bins=100,facecolor=\"g\",ax=ax, orientation=\"horizontal\")\n",
    "            #isolatedStarSources_sel_g[\"psfFlux\"].hist(bins=100,facecolor=\"g\",ax=ax)\n",
    "            ax.legend(\"g\")\n",
    "            ax.set_ylabel(\"psfFlux (nanoJansky)\")\n",
    "        elif idx==1:\n",
    "            isolatedStarSources_sel_r[\"psfFlux\"].hist(bins=40,facecolor=\"r\",ax=ax, orientation=\"horizontal\")\n",
    "            ax.legend(\"r\")\n",
    "        elif idx==2:\n",
    "            isolatedStarSources_sel_z[\"psfFlux\"].hist(bins=40,facecolor=\"grey\",ax=ax, orientation=\"horizontal\")\n",
    "            ax.legend(\"z\")\n",
    "        elif idx==3:\n",
    "            isolatedStarSources_sel_y[\"psfFlux\"].hist(bins=40,facecolor=\"k\",ax=ax, orientation=\"horizontal\")\n",
    "            ax.legend(\"y\")\n",
    "    plt.tight_layout(h_pad=0)  \n",
    "    title =f\"object {idx_obj_sel}\"\n",
    "    filename = f\"sed_color_flux_obj_{idx_obj_sel}.png\"\n",
    "    plt.suptitle(title,y=1.000)\n",
    "    plt.savefig(filename)\n",
    "    plt.show()"
   ]
  },
  {
   "cell_type": "code",
   "execution_count": null,
   "id": "add5b591-9a69-4f84-8844-175bfc12eb4d",
   "metadata": {
    "execution": {
     "iopub.status.busy": "2024-04-04T12:31:35.023291Z",
     "iopub.status.idle": "2024-04-04T12:31:35.023540Z",
     "shell.execute_reply": "2024-04-04T12:31:35.023462Z",
     "shell.execute_reply.started": "2024-04-04T12:31:35.023454Z"
    }
   },
   "outputs": [],
   "source": [
    "df_obj_sed = pd.DataFrame(columns=['idx_obj', 'ra', 'dec','magG', 'magR','magZ','magY'])\n",
    "\n",
    "icnt =0\n",
    "#for idx_obj_sel in selected_objects_ind:\n",
    "for idx_obj_sel in [120]:\n",
    "    cut_sel_object = dataJoined_subset.obj_index == idx_obj_sel \n",
    "    isolatedStarSources_sel = dataJoined_subset[cut_sel_object] \n",
    "\n",
    "    isolatedStarSources_sel_g = isolatedStarSources_sel[isolatedStarSources_sel[\"band\"] == \"g\"]\n",
    "    isolatedStarSources_sel_r = isolatedStarSources_sel[isolatedStarSources_sel[\"band\"] == \"r\"]\n",
    "    isolatedStarSources_sel_z = isolatedStarSources_sel[isolatedStarSources_sel[\"band\"] == \"z\"]\n",
    "    isolatedStarSources_sel_y = isolatedStarSources_sel[isolatedStarSources_sel[\"band\"] == \"y\"]\n",
    "\n",
    "    ra = isolatedStarSources_sel_g['ra'].mean()\n",
    "    dec = isolatedStarSources_sel_g['dec'].mean()\n",
    "    \n",
    "    df_obj_sed.loc[icnt] = [idx_obj_sel,ra,dec,\n",
    "                             isolatedStarSources_sel_g['psfMag'].median(),\n",
    "                             isolatedStarSources_sel_r['psfMag'].median(),   \n",
    "                             isolatedStarSources_sel_z['psfMag'].median(),\n",
    "                             isolatedStarSources_sel_y['psfMag'].median()]\n",
    "\n",
    "    icnt +=1\n",
    "\n",
    "    fig,axes = plt.subplots(1,4,figsize=(10,3))\n",
    "    axs= axes.flatten()\n",
    "    for idx,ax in enumerate(axs):\n",
    "        if idx==0:\n",
    "           \n",
    "            isolatedStarSources_sel_g[\"psfMag\"].hist(bins=100,facecolor=\"g\",ax=ax, orientation=\"horizontal\")\n",
    "            #isolatedStarSources_sel_g[\"psfFlux\"].hist(bins=100,facecolor=\"g\",ax=ax)\n",
    "            ax.legend(\"g\")\n",
    "            ax.set_ylabel(\"psfMag (AB)\")\n",
    "        elif idx==1:\n",
    "            isolatedStarSources_sel_r[\"psfMag\"].hist(bins=40,facecolor=\"r\",ax=ax, orientation=\"horizontal\")\n",
    "            ax.legend(\"r\")\n",
    "        elif idx==2:\n",
    "            isolatedStarSources_sel_z[\"psfMag\"].hist(bins=40,facecolor=\"grey\",ax=ax, orientation=\"horizontal\")\n",
    "            ax.legend(\"z\")\n",
    "        elif idx==3:\n",
    "            isolatedStarSources_sel_y[\"psfMag\"].hist(bins=40,facecolor=\"k\",ax=ax, orientation=\"horizontal\")\n",
    "            ax.legend(\"y\")\n",
    "    plt.tight_layout(h_pad=0)  \n",
    "    title =f\"object {idx_obj_sel}\"\n",
    "    filename = f\"sed_color_flux_obj_{idx_obj_sel}.png\"\n",
    "    plt.suptitle(title,y=1.000)\n",
    "    plt.savefig(filename)\n",
    "    plt.show()"
   ]
  },
  {
   "cell_type": "code",
   "execution_count": null,
   "id": "17472138-168b-4184-9159-dc75af412732",
   "metadata": {
    "execution": {
     "iopub.status.busy": "2024-04-04T12:31:35.023880Z",
     "iopub.status.idle": "2024-04-04T12:31:35.024022Z",
     "shell.execute_reply": "2024-04-04T12:31:35.023955Z",
     "shell.execute_reply.started": "2024-04-04T12:31:35.023949Z"
    }
   },
   "outputs": [],
   "source": [
    " isolatedStarSources_sel_g[\"psfFlux\"].hist(bins=40,facecolor=\"g\")"
   ]
  },
  {
   "cell_type": "code",
   "execution_count": null,
   "id": "9ab0e660-d8dc-4ced-bfe1-166efbaedce3",
   "metadata": {
    "execution": {
     "iopub.status.busy": "2024-04-04T12:31:35.024662Z",
     "iopub.status.idle": "2024-04-04T12:31:35.024807Z",
     "shell.execute_reply": "2024-04-04T12:31:35.024738Z",
     "shell.execute_reply.started": "2024-04-04T12:31:35.024732Z"
    }
   },
   "outputs": [],
   "source": [
    "isolatedStarSources_sel_g[\"psfFlux\"]"
   ]
  },
  {
   "cell_type": "code",
   "execution_count": null,
   "id": "b0d4f59d-51f7-462d-9ca5-2d8c5630f6eb",
   "metadata": {
    "execution": {
     "iopub.status.busy": "2024-04-04T12:31:35.025356Z",
     "iopub.status.idle": "2024-04-04T12:31:35.025518Z",
     "shell.execute_reply": "2024-04-04T12:31:35.025447Z",
     "shell.execute_reply.started": "2024-04-04T12:31:35.025440Z"
    }
   },
   "outputs": [],
   "source": [
    "#isolatedStarSources_sel \n",
    "isolatedStarSources_sel_g"
   ]
  },
  {
   "cell_type": "code",
   "execution_count": null,
   "id": "4fd18396-2faf-49f8-8e77-bdd6e8585832",
   "metadata": {
    "execution": {
     "iopub.status.busy": "2024-04-04T12:31:35.025944Z",
     "iopub.status.idle": "2024-04-04T12:31:35.026192Z",
     "shell.execute_reply": "2024-04-04T12:31:35.026117Z",
     "shell.execute_reply.started": "2024-04-04T12:31:35.026108Z"
    }
   },
   "outputs": [],
   "source": [
    "#diagramme magnitude Z vs couleur (Z-Y) et voir l’étalement de\n",
    "#la séquence principale, et peut-être la branche des géantes rouges."
   ]
  },
  {
   "cell_type": "code",
   "execution_count": null,
   "id": "5db7c1e2-b91b-4d13-9e95-c33b9cad26c1",
   "metadata": {
    "execution": {
     "iopub.status.busy": "2024-04-04T12:31:35.026738Z",
     "iopub.status.idle": "2024-04-04T12:31:35.026886Z",
     "shell.execute_reply": "2024-04-04T12:31:35.026818Z",
     "shell.execute_reply.started": "2024-04-04T12:31:35.026812Z"
    }
   },
   "outputs": [],
   "source": [
    "Nobj = len(df_obj_sed)\n",
    "import seaborn as sns\n",
    "from matplotlib.colors import ListedColormap\n",
    "color_palette = sns.color_palette(\"hls\", Nobj)"
   ]
  },
  {
   "cell_type": "code",
   "execution_count": null,
   "id": "6b27d75d-c3d3-4b66-b1da-47578fab73e1",
   "metadata": {
    "execution": {
     "iopub.status.busy": "2024-04-04T12:31:35.027407Z",
     "iopub.status.idle": "2024-04-04T12:31:35.027553Z",
     "shell.execute_reply": "2024-04-04T12:31:35.027484Z",
     "shell.execute_reply.started": "2024-04-04T12:31:35.027477Z"
    }
   },
   "outputs": [],
   "source": [
    "color_palette"
   ]
  },
  {
   "cell_type": "code",
   "execution_count": null,
   "id": "2d5823d5-a75c-4034-b401-23df5c27b5ea",
   "metadata": {
    "execution": {
     "iopub.status.busy": "2024-04-04T12:31:35.028048Z",
     "iopub.status.idle": "2024-04-04T12:31:35.028192Z",
     "shell.execute_reply": "2024-04-04T12:31:35.028122Z",
     "shell.execute_reply.started": "2024-04-04T12:31:35.028116Z"
    }
   },
   "outputs": [],
   "source": [
    "mpl_colors = ListedColormap(sns.color_palette(color_palette).as_hex())"
   ]
  },
  {
   "cell_type": "code",
   "execution_count": null,
   "id": "7ac7f6f5-585c-4c73-b53b-53ccaa172641",
   "metadata": {
    "execution": {
     "iopub.status.busy": "2024-04-04T12:31:35.028591Z",
     "iopub.status.idle": "2024-04-04T12:31:35.028731Z",
     "shell.execute_reply": "2024-04-04T12:31:35.028665Z",
     "shell.execute_reply.started": "2024-04-04T12:31:35.028659Z"
    }
   },
   "outputs": [],
   "source": [
    "mpl_colors.colors"
   ]
  },
  {
   "cell_type": "code",
   "execution_count": null,
   "id": "d5692e81-b2f2-4a97-b405-2dc1fad7602b",
   "metadata": {
    "execution": {
     "iopub.status.busy": "2024-04-04T12:31:35.029228Z",
     "iopub.status.idle": "2024-04-04T12:31:35.029372Z",
     "shell.execute_reply": "2024-04-04T12:31:35.029303Z",
     "shell.execute_reply.started": "2024-04-04T12:31:35.029296Z"
    }
   },
   "outputs": [],
   "source": [
    "df_obj_sed[\"Z-Y\"] = df_obj_sed[\"magZ\"] - df_obj_sed[\"magY\"] \n",
    "df_obj_sed[\"G-R\"] = df_obj_sed[\"magG\"] - df_obj_sed[\"magR\"] "
   ]
  },
  {
   "cell_type": "code",
   "execution_count": null,
   "id": "d68d30f4-61d6-4f7b-b212-4b53209b679f",
   "metadata": {
    "execution": {
     "iopub.status.busy": "2024-04-04T12:31:35.029911Z",
     "iopub.status.idle": "2024-04-04T12:31:35.030059Z",
     "shell.execute_reply": "2024-04-04T12:31:35.029988Z",
     "shell.execute_reply.started": "2024-04-04T12:31:35.029982Z"
    }
   },
   "outputs": [],
   "source": [
    "fig,axs = plt.subplots(1,2,figsize=(14,4))\n",
    "\n",
    "ax=axs[0]\n",
    "df_obj_sed.plot.scatter(y=\"magR\",x=\"G-R\",ax=ax,color=mpl_colors.colors)\n",
    "ax.invert_yaxis()\n",
    "\n",
    "\n",
    "ax=axs[1]\n",
    "df_obj_sed.plot.scatter(y=\"magZ\",x=\"Z-Y\",ax=ax,color=mpl_colors.colors)\n",
    "ax.invert_yaxis()\n",
    "\n",
    "plt.suptitle(f\"isolated sources-objects in tract {tract}\")"
   ]
  },
  {
   "cell_type": "code",
   "execution_count": null,
   "id": "4086ca39-6d6a-4f67-8e80-04c13740fc67",
   "metadata": {
    "execution": {
     "iopub.status.busy": "2024-04-04T12:31:35.030587Z",
     "iopub.status.idle": "2024-04-04T12:31:35.030736Z",
     "shell.execute_reply": "2024-04-04T12:31:35.030665Z",
     "shell.execute_reply.started": "2024-04-04T12:31:35.030658Z"
    }
   },
   "outputs": [],
   "source": [
    "df_obj_sed.to_csv(f\"isolated_source_objects_tract{tract}.csv\")"
   ]
  },
  {
   "cell_type": "code",
   "execution_count": null,
   "id": "87802c64-d426-4077-9dfc-e35883360b95",
   "metadata": {
    "execution": {
     "iopub.status.busy": "2024-04-04T12:31:35.031162Z",
     "iopub.status.idle": "2024-04-04T12:31:35.031314Z",
     "shell.execute_reply": "2024-04-04T12:31:35.031244Z",
     "shell.execute_reply.started": "2024-04-04T12:31:35.031237Z"
    }
   },
   "outputs": [],
   "source": [
    "assert False"
   ]
  },
  {
   "cell_type": "code",
   "execution_count": null,
   "id": "11576fee-3e24-4e51-b4ac-688c3d89df98",
   "metadata": {
    "execution": {
     "iopub.status.busy": "2024-04-04T12:31:35.031940Z",
     "iopub.status.idle": "2024-04-04T12:31:35.032092Z",
     "shell.execute_reply": "2024-04-04T12:31:35.032018Z",
     "shell.execute_reply.started": "2024-04-04T12:31:35.032011Z"
    }
   },
   "outputs": [],
   "source": [
    "count_source_visit.hist(x=\"obj_index\")"
   ]
  },
  {
   "cell_type": "code",
   "execution_count": null,
   "id": "35764ce1-db3e-4b8f-8d21-e7fd0cc2c18a",
   "metadata": {
    "execution": {
     "iopub.status.busy": "2024-04-04T12:31:35.032624Z",
     "iopub.status.idle": "2024-04-04T12:31:35.032770Z",
     "shell.execute_reply": "2024-04-04T12:31:35.032700Z",
     "shell.execute_reply.started": "2024-04-04T12:31:35.032693Z"
    }
   },
   "outputs": [],
   "source": [
    "count_sources = dataJoined.groupby(by=\"obj_index\").count()[\"psfFlux\"]"
   ]
  },
  {
   "cell_type": "code",
   "execution_count": null,
   "id": "013af9ce-6c4c-4a16-8a35-f8134653047c",
   "metadata": {
    "execution": {
     "iopub.status.busy": "2024-04-04T12:31:35.033289Z",
     "iopub.status.idle": "2024-04-04T12:31:35.033444Z",
     "shell.execute_reply": "2024-04-04T12:31:35.033363Z",
     "shell.execute_reply.started": "2024-04-04T12:31:35.033357Z"
    }
   },
   "outputs": [],
   "source": [
    "count_source.hist(bins=100,range=(0,100))"
   ]
  },
  {
   "cell_type": "code",
   "execution_count": null,
   "id": "a78afede-1f63-495a-91c8-e2d7cdb03cc2",
   "metadata": {
    "execution": {
     "iopub.status.busy": "2024-04-04T12:31:35.033978Z",
     "iopub.status.idle": "2024-04-04T12:31:35.034125Z",
     "shell.execute_reply": "2024-04-04T12:31:35.034054Z",
     "shell.execute_reply.started": "2024-04-04T12:31:35.034048Z"
    }
   },
   "outputs": [],
   "source": [
    "assert False"
   ]
  },
  {
   "cell_type": "markdown",
   "id": "ff1674f7-8145-4af4-ae81-3739972e9d28",
   "metadata": {},
   "source": [
    "## Plot the per object source "
   ]
  },
  {
   "cell_type": "code",
   "execution_count": null,
   "id": "f926e051",
   "metadata": {
    "execution": {
     "iopub.status.busy": "2024-04-04T12:31:35.034726Z",
     "iopub.status.idle": "2024-04-04T12:31:35.034871Z",
     "shell.execute_reply": "2024-04-04T12:31:35.034804Z",
     "shell.execute_reply.started": "2024-04-04T12:31:35.034798Z"
    }
   },
   "outputs": [],
   "source": [
    "fig, ax = plt.subplots(1, 1, figsize=(8,6))\n",
    "ax.set_title(\"{}\\n{} {} (max visit: {})\".format(collection, tract, band, max(dataJoined[\"visit\"])), fontsize=8)\n",
    "nBins = 16 if len(dataJoined) < 4000 else 100\n",
    "histData = psfMagStdMmagAll\n",
    "xLabelStr = \"std(psfFlux - psfFluxMean) ({} mmag)\".format(band)\n",
    "medianPsfFluxStd = np.median(histData)\n",
    "n, bins, patches = ax.hist(histData, bins=nBins, density=True, histtype=\"step\", lw=2, label=\"data (N = {})\".format(len(histData)))\n",
    "ax.axvline(x=medianPsfFluxStd, color=\"gray\", linestyle='--', linewidth=1, label=\"median: {:.2f}\".format(medianPsfFluxStd))\n",
    "\n",
    "ax.tick_params(labelsize=7)\n",
    "ax.set_xlabel(xLabelStr, fontsize=9)\n",
    "ax.set_ylabel(\"Normalized (PDF)\".format(band), fontsize=9)\n",
    "\n",
    "ax.legend(fontsize=8)\n",
    "if doSaveFigs:\n",
    "    filename = \"{}psfFluxStdHist_{}_{}_{}\".format(saveDir, tract, band, collectionStr)\n",
    "    print(\"Saving file in: {}\".format(filename))\n",
    "    fig.savefig(filename, dpi=150)"
   ]
  },
  {
   "cell_type": "code",
   "execution_count": null,
   "id": "c92d2c6a",
   "metadata": {
    "execution": {
     "iopub.status.busy": "2024-04-04T12:31:35.035313Z",
     "iopub.status.idle": "2024-04-04T12:31:35.035469Z",
     "shell.execute_reply": "2024-04-04T12:31:35.035397Z",
     "shell.execute_reply.started": "2024-04-04T12:31:35.035390Z"
    }
   },
   "outputs": [],
   "source": [
    "fig, ax = plt.subplots(1, 1, figsize=(8,6))\n",
    "ax.set_title(\"{}\\n{} {} (max visit: {})\".format(collection, tract, band, max(dataJoined[\"visit\"])), fontsize=8)\n",
    "\n",
    "medianRaStd = np.median(raStdMasAll)\n",
    "n, bins, patches = ax.hist(raStdMasAll, bins=nBins, density=True, histtype=\"step\", color=\"tab:blue\", lw=2, label=\"RA (N = {})\".format(len(raStdMasAll)))\n",
    "\n",
    "medianDecStd = np.median(decStdMasAll)\n",
    "n, bins, patches = ax.hist(decStdMasAll, bins=nBins, density=True, histtype=\"step\", color=\"tab:orange\", lw=2, label=\"Dec (N = {})\".format(len(decStdMasAll)))\n",
    "\n",
    "medianRaCosDecStd = np.median(raCosDecStdMasAll)\n",
    "n, bins, patches = ax.hist(raCosDecStdMasAll, bins=nBins, density=True, histtype=\"step\", color=\"tab:green\", lw=2, label=\"RA*cos(Dec) (N = {})\".format(len(raCosDecStdMasAll)))\n",
    "\n",
    "ax.axvline(x=medianRaStd, linestyle='--', color=\"tab:blue\", linewidth=1, label=\"median: {:.2f} (mas)\".format(medianRaStd))\n",
    "ax.axvline(x=medianDecStd, linestyle='--', color=\"tab:orange\", linewidth=1, label=\"median: {:.2f} (mas)\".format(medianDecStd))\n",
    "ax.axvline(x=medianRaCosDecStd, linestyle='--', color=\"tab:green\", linewidth=1, label=\"median: {:.2f} (mas)\".format(medianRaCosDecStd))\n",
    "\n",
    "\n",
    "ax.tick_params(labelsize=7)\n",
    "ax.set_xlabel(\"std(value - valueMean) ({} mas)\".format(band), fontsize=9)\n",
    "ax.set_ylabel(\"Normalized (PDF)\".format(band), fontsize=9)\n",
    "\n",
    "# ax.set_xlim(0, 400)\n",
    "ax.legend(fontsize=8)\n",
    "if doSaveFigs:\n",
    "    filename = \"{}RaDecStdHist_{}_{}_{}\".format(saveDir, tract, band, collectionStr)\n",
    "    print(\"Saving file in: {}\".format(filename))\n",
    "    fig.savefig(filename, dpi=150)"
   ]
  },
  {
   "cell_type": "code",
   "execution_count": null,
   "id": "afa47871",
   "metadata": {
    "execution": {
     "iopub.status.busy": "2024-04-04T12:31:35.035988Z",
     "iopub.status.idle": "2024-04-04T12:31:35.036140Z",
     "shell.execute_reply": "2024-04-04T12:31:35.036064Z",
     "shell.execute_reply.started": "2024-04-04T12:31:35.036058Z"
    }
   },
   "outputs": [],
   "source": [
    "fig, (ax1, ax2) = plt.subplots(1, 2, figsize=(10,4))\n",
    "# ax.set_title(\"{} {} {}\".format(collection, tract, band), fontsize=8)\n",
    "fig.suptitle(\"{}\\n{} {} (max visit: {})\".format(collection, tract, band, max(dataJoined[\"visit\"])),\n",
    "             fontsize=10, y=0.98)\n",
    "ax1.axvline(x=0.0, color=\"gray\", linestyle='--', linewidth=1)\n",
    "\n",
    "n, bins, patches = ax1.hist(dataJoined[\"psfMagDiffMmag\"], bins=2*nBins, density=True, histtype=\"step\", lw=2, label=\"data\")\n",
    "\n",
    "# Gaussian fit of all data\n",
    "(mu, sigma) = scipy.stats.norm.fit(dataJoined[\"psfMagDiffMmag\"])\n",
    "yFit = scipy.stats.norm.pdf(bins, mu, sigma)\n",
    "ax1.plot(bins, yFit, \"--\", lw=1, fillstyle=\"full\",\n",
    "        label=\"Gaussian fit all\\n(N={}) \\n$\\mu$={:.2f} (mmag)\\n$\\sigma$={:.2f}(mmag)\".format(len(dataJoined), mu, sigma))\n",
    "ax1.fill_between(bins, yFit, alpha=0.2)\n",
    "\n",
    "# Gassian fit of 3-sigma clipped data\n",
    "clippedDiffArray = scipy.stats.sigmaclip(dataJoined[\"psfMagDiffMmag\"], low=3.0, high=3.0).clipped\n",
    "\n",
    "(muClipped, sigmaClipped) = scipy.stats.norm.fit(clippedDiffArray)\n",
    "yFitClipped = scipy.stats.norm.pdf(bins, muClipped, sigmaClipped)\n",
    "ax1.plot(bins, yFitClipped, \"--\", lw=1, fillstyle=\"full\",\n",
    "        label=\"3-$\\sigma$-clipped\\n(N={}) \\n$\\mu$={:.2f} (mmag) \\n$\\sigma$={:.2f}(mmag)\".format(len(clippedDiffArray), muClipped, sigmaClipped))\n",
    "ax1.fill_between(bins, yFitClipped, alpha=0.2)\n",
    "\n",
    "ax1.tick_params(labelsize=7)\n",
    "ax1.set_xlabel(\"psfFlux - psfFluxMean ({} mmag)\".format(band), fontsize=9)\n",
    "ax1.set_ylabel(\"Normalized (PDF)\".format(band), fontsize=9)\n",
    "\n",
    "ax1.set_xlim(-400, 400)\n",
    "ax1.legend(fontsize=8)\n",
    "\n",
    "# Plot chi histogram\n",
    "ax2.axvline(x=0.0, color=\"gray\", linestyle='--', linewidth=1)\n",
    "n, bins, patches = ax2.hist(dataJoined[\"psfMagDiffChi\"], bins=2*nBins, density=True, histtype=\"step\", lw=2, label=\"data\")\n",
    "\n",
    "# Gaussian fit of all data\n",
    "(mu, sigma) = scipy.stats.norm.fit(dataJoined[\"psfMagDiffChi\"])\n",
    "yFit = scipy.stats.norm.pdf(bins, mu, sigma)\n",
    "ax2.plot(bins, yFit, \"--\", lw=1, fillstyle=\"full\",\n",
    "        label=\"Gaussian fit all\\n(N={}) \\n$\\mu$={:.2f}\\n$\\sigma$={:.2f}\".format(len(dataJoined), mu, sigma))\n",
    "ax2.fill_between(bins, yFit, alpha=0.2)\n",
    "\n",
    "# Gassian fit of 3-sigma clipped data\n",
    "clippedDiffArray = scipy.stats.sigmaclip(dataJoined[\"psfMagDiffChi\"], low=3.0, high=3.0).clipped\n",
    "(muClipped, sigmaClipped) = scipy.stats.norm.fit(clippedDiffArray)\n",
    "yFitClipped = scipy.stats.norm.pdf(bins, muClipped, sigmaClipped)\n",
    "ax2.plot(bins, yFitClipped, \"--\", lw=1, fillstyle=\"full\",\n",
    "        label=\"3-$\\sigma$-clipped\\n(N={}) \\n$\\mu$={:.2f}\\n$\\sigma$={:.2f}\".format(len(clippedDiffArray), muClipped, sigmaClipped))\n",
    "ax2.fill_between(bins, yFitClipped, alpha=0.2)\n",
    "\n",
    "ax2.tick_params(labelsize=7)\n",
    "ax2.set_xlabel(\"$\\chi$ = (psfMagDiff)/(psfMagErr$^2$ + psfMagMeanErr$^2$)$^{1/2}$\", fontsize=9)\n",
    "ax2.set_ylabel(\"Normalized (PDF)\".format(band), fontsize=9)\n",
    "\n",
    "ax2.set_xlim(-20, 20)\n",
    "ax2.legend(fontsize=8)\n",
    "\n",
    "if doSaveFigs:\n",
    "    filename = \"{}psfFluxDiffHist_{}_{}_{}{}\".format(saveDir, tract, band, collectionStr, maxVisitStr)\n",
    "    print(\"Saving file in: {}\".format(filename))\n",
    "    fig.savefig(filename, dpi=150)"
   ]
  },
  {
   "cell_type": "code",
   "execution_count": null,
   "id": "176ce5cd-0568-4545-a6cc-19ec030a5acc",
   "metadata": {
    "execution": {
     "iopub.status.busy": "2024-04-04T12:31:35.036722Z",
     "iopub.status.idle": "2024-04-04T12:31:35.036869Z",
     "shell.execute_reply": "2024-04-04T12:31:35.036801Z",
     "shell.execute_reply.started": "2024-04-04T12:31:35.036794Z"
    }
   },
   "outputs": [],
   "source": [
    "dataJoined.columns"
   ]
  },
  {
   "cell_type": "code",
   "execution_count": null,
   "id": "a168feaf-bab1-4788-92f3-33a714ad9cc9",
   "metadata": {
    "execution": {
     "iopub.status.busy": "2024-04-04T12:31:35.037996Z",
     "iopub.status.idle": "2024-04-04T12:31:35.038154Z",
     "shell.execute_reply": "2024-04-04T12:31:35.038080Z",
     "shell.execute_reply.started": "2024-04-04T12:31:35.038073Z"
    }
   },
   "outputs": [],
   "source": [
    "Band_To_Cmap_Dict = {\"g\":plt.cm.Greens,\"r\":plt.cm.Reds,\"i\":plt.cm.Oranges,\"z\":plt.cm.Purples,\"y\":plt.cm.Greys}"
   ]
  },
  {
   "cell_type": "code",
   "execution_count": null,
   "id": "66a57a70-7822-4c37-8d15-ef38917338e7",
   "metadata": {
    "execution": {
     "iopub.status.busy": "2024-04-04T12:31:35.038599Z",
     "iopub.status.idle": "2024-04-04T12:31:35.038740Z",
     "shell.execute_reply": "2024-04-04T12:31:35.038674Z",
     "shell.execute_reply.started": "2024-04-04T12:31:35.038668Z"
    }
   },
   "outputs": [],
   "source": [
    "fig, (ax1, ax2) = plt.subplots(1, 2, figsize=(10,4))\n",
    "# ax.set_title(\"{} {} {}\".format(collection, tract, band), fontsize=8)\n",
    "fig.suptitle(\"{}\\n{} {} (max visit: {})\".format(collection, tract, band, max(dataJoined[\"visit\"])),\n",
    "             fontsize=10, y=0.98)\n",
    "ax1.axvline(x=0.0, color=\"gray\", linestyle='--', linewidth=1)\n",
    "\n",
    "#n, bins, patches = ax1.hist(dataJoined[\"psfMagDiffMmag\"], bins=2*nBins, density=True, histtype=\"step\", lw=2, label=\"data\")\n",
    "ax1.hist2d(dataJoined[\"psfMag\"],dataJoined[\"psfMagDiffMmag\"], bins=max(2*nBins,100), cmap=Band_To_Cmap_Dict[band], label=\"data\")\n",
    "ax1.tick_params(labelsize=7)\n",
    "ax1.set_ylabel(\"psfFlux - psfFluxMean ({} mmag)\".format(band), fontsize=9)\n",
    "ax1.set_xlabel(\"psfMag ({})mag \".format(band), fontsize=9)\n",
    "\n",
    "ax1.set_ylim(-100, 100)\n",
    "ax1.legend(fontsize=8)\n",
    "ax1.grid()\n",
    "\n",
    "# Plot chi histogram\n",
    "ax2.axvline(x=0.0, color=\"gray\", linestyle='--', linewidth=1)\n",
    "ax2.hist2d(dataJoined[\"psfMag\"],dataJoined[\"psfMagDiffChi\"], bins=max(2*nBins,100),cmap=Band_To_Cmap_Dict[band], lw=2, label=\"data\")\n",
    "\n",
    "\n",
    "ax2.tick_params(labelsize=7)\n",
    "ax2.set_ylabel(\"$\\chi$ = (psfMagDiff)/(psfMagErr$^2$ + psfMagMeanErr$^2$)$^{1/2}$\", fontsize=9)\n",
    "ax2.set_xlabel(\"psfMag ({})mag \".format(band), fontsize=9)\n",
    "\n",
    "ax2.set_ylim(-10, 10)\n",
    "ax2.legend(fontsize=8)\n",
    "ax2.grid()\n",
    "if doSaveFigs:\n",
    "    filename = \"{}psfFluxDiffHist2D_{}_{}_{}{}\".format(saveDir, tract, band, collectionStr, maxVisitStr)\n",
    "    print(\"Saving file in: {}\".format(filename))\n",
    "    fig.savefig(filename, dpi=150)"
   ]
  },
  {
   "cell_type": "code",
   "execution_count": null,
   "id": "7287bf5b-6196-47a0-9e99-d3f55e351781",
   "metadata": {
    "execution": {
     "iopub.status.busy": "2024-04-04T12:31:35.039398Z",
     "iopub.status.idle": "2024-04-04T12:31:35.039549Z",
     "shell.execute_reply": "2024-04-04T12:31:35.039476Z",
     "shell.execute_reply.started": "2024-04-04T12:31:35.039470Z"
    }
   },
   "outputs": [],
   "source": [
    "fig, (ax1, ax2) = plt.subplots(1, 2, figsize=(10,4))\n",
    "# ax.set_title(\"{} {} {}\".format(collection, tract, band), fontsize=8)\n",
    "fig.suptitle(\"{}\\n{} {} (max visit: {})\".format(collection, tract, band, max(dataJoined[\"visit\"])),\n",
    "             fontsize=10, y=0.98)\n",
    "ax1.axvline(x=0.0, color=\"gray\", linestyle='--', linewidth=1)\n",
    "\n",
    "#n, bins, patches = ax1.hist(dataJoined[\"psfMagDiffMmag\"], bins=2*nBins, density=True, histtype=\"step\", lw=2, label=\"data\")\n",
    "ax1.hist2d(dataJoined[\"PWV\"],dataJoined[\"psfMagDiffMmag\"], bins=max(2*nBins,50), cmap=Band_To_Cmap_Dict[band], label=\"data\")\n",
    "ax1.tick_params(labelsize=7)\n",
    "ax1.set_ylabel(\"psfFlux - psfFluxMean ({} mmag)\".format(band), fontsize=9)\n",
    "ax1.set_xlabel(\"PWV \", fontsize=9)\n",
    "\n",
    "ax1.set_ylim(-100, 100)\n",
    "ax1.set_xlim(1, 5.)\n",
    "ax1.grid()\n",
    "ax1.legend(fontsize=8)\n",
    "\n",
    "# Plot chi histogram\n",
    "ax2.axvline(x=0.0, color=\"gray\", linestyle='--', linewidth=1)\n",
    "ax2.hist2d(dataJoined[\"PWV\"],dataJoined[\"psfMagDiffChi\"], bins=max(2*nBins,50),cmap=Band_To_Cmap_Dict[band], lw=2, label=\"data\")\n",
    "\n",
    "\n",
    "ax2.tick_params(labelsize=7)\n",
    "ax2.set_ylabel(\"$\\chi$ = (psfMagDiff)/(psfMagErr$^2$ + psfMagMeanErr$^2$)$^{1/2}$\", fontsize=9)\n",
    "ax2.set_xlabel(\"PWV mm\", fontsize=9)\n",
    "\n",
    "ax2.set_ylim(-10, 10)\n",
    "ax2.set_xlim(1, 5.)\n",
    "ax2.grid()\n",
    "ax2.legend(fontsize=8)\n",
    "\n",
    "if doSaveFigs:\n",
    "    filename = \"{}psfFluxDiffHist2DPWV_{}_{}_{}{}\".format(saveDir, tract, band, collectionStr, maxVisitStr)\n",
    "    print(\"Saving file in: {}\".format(filename))\n",
    "    fig.savefig(filename, dpi=150)"
   ]
  },
  {
   "cell_type": "code",
   "execution_count": null,
   "id": "8d5e37f3-090d-4e35-b131-dea434bcad71",
   "metadata": {
    "execution": {
     "iopub.status.busy": "2024-04-04T12:31:35.039995Z",
     "iopub.status.idle": "2024-04-04T12:31:35.040141Z",
     "shell.execute_reply": "2024-04-04T12:31:35.040070Z",
     "shell.execute_reply.started": "2024-04-04T12:31:35.040063Z"
    }
   },
   "outputs": [],
   "source": [
    "fig, (ax1, ax2) = plt.subplots(1, 2, figsize=(10,4))\n",
    "# ax.set_title(\"{} {} {}\".format(collection, tract, band), fontsize=8)\n",
    "fig.suptitle(\"{}\\n{} {} (max visit: {})\".format(collection, tract, band, max(dataJoined[\"visit\"])),\n",
    "             fontsize=10, y=0.98)\n",
    "ax1.axvline(x=0.0, color=\"gray\", linestyle='--', linewidth=1)\n",
    "\n",
    "#n, bins, patches = ax1.hist(dataJoined[\"psfMagDiffMmag\"], bins=2*nBins, density=True, histtype=\"step\", lw=2, label=\"data\")\n",
    "ax1.hist2d(dataJoined[\"PWV\"],dataJoined[\"psfMagDiffMmag\"], bins=max(2*nBins,50), cmap=plt.cm.Reds, label=\"data\")\n",
    "ax1.tick_params(labelsize=7)\n",
    "ax1.set_ylabel(\"psfFlux - psfFluxMean ({} mmag)\".format(band), fontsize=9)\n",
    "ax1.set_xlabel(\"PWV \", fontsize=9)\n",
    "\n",
    "ax1.set_ylim(-100, 100)\n",
    "ax1.set_xlim(1, 5.)\n",
    "ax1.grid()\n",
    "ax1.legend(fontsize=8)\n",
    "\n",
    "# Plot chi histogram\n",
    "ax2.axvline(x=0.0, color=\"gray\", linestyle='--', linewidth=1)\n",
    "ax2.hist2d(dataJoined[\"PWV\"],dataJoined[\"psfMagDiffChi\"], bins=max(2*nBins,50),cmap=plt.cm.Reds, lw=2, label=\"data\")\n",
    "\n",
    "\n",
    "ax2.tick_params(labelsize=7)\n",
    "ax2.set_ylabel(\"$\\chi$ = (psfMagDiff)/(psfMagErr$^2$ + psfMagMeanErr$^2$)$^{1/2}$\", fontsize=9)\n",
    "ax2.set_xlabel(\"PWV mm\", fontsize=9)\n",
    "\n",
    "ax2.set_ylim(-20, 20)\n",
    "ax2.set_xlim(1, 5.)\n",
    "ax2.grid()\n",
    "ax2.legend(fontsize=8)\n",
    "\n",
    "if doSaveFigs:\n",
    "    filename = \"{}psfFluxDiffHist2DPWV_{}_{}_{}{}\".format(saveDir, tract, band, collectionStr, maxVisitStr)\n",
    "    print(\"Saving file in: {}\".format(filename))\n",
    "    fig.savefig(filename, dpi=150)"
   ]
  },
  {
   "cell_type": "code",
   "execution_count": null,
   "id": "ca436dd6-52f9-470e-81f4-b8312d13387a",
   "metadata": {
    "execution": {
     "iopub.status.busy": "2024-04-04T12:31:35.040542Z",
     "iopub.status.idle": "2024-04-04T12:31:35.040684Z",
     "shell.execute_reply": "2024-04-04T12:31:35.040615Z",
     "shell.execute_reply.started": "2024-04-04T12:31:35.040609Z"
    }
   },
   "outputs": [],
   "source": [
    "all_nightObs = dataJoined[\"nightObs\"].unique() \n",
    "all_X = []\n",
    "all_Y1 = []\n",
    "all_EY1 = []\n",
    "all_Y2 = []\n",
    "all_EY2 = []\n",
    "for night in all_nightObs:\n",
    "    cut = dataJoined[\"nightObs\"] == night\n",
    "    df_sel = dataJoined[cut]\n",
    "    pwv = df_sel[\"PWV\"].mean()\n",
    "    Y1 = df_sel[\"psfMagDiffMmag\"].mean()\n",
    "    EY1= df_sel[\"psfMagDiffMmag\"].std()\n",
    "    Y2 = df_sel[\"psfMagDiffChi\"].mean()\n",
    "    EY2 = df_sel[\"psfMagDiffChi\"].std()\n",
    "    all_X.append(pwv)\n",
    "    all_Y1.append(Y1)\n",
    "    all_EY1.append(EY1)\n",
    "    all_Y2.append(Y2)\n",
    "    all_EY2.append(EY2)\n",
    "fig, (ax1, ax2) = plt.subplots(1, 2, figsize=(10,4))\n",
    "# ax.set_title(\"{} {} {}\".format(collection, tract, band), fontsize=8)\n",
    "fig.suptitle(\"{}\\n{} {} (max visit: {})\".format(collection, tract, band, max(dataJoined[\"visit\"])),\n",
    "             fontsize=10, y=0.98)\n",
    "ax1.axhline(y=0.0, color=\"gray\", linestyle='--', linewidth=1)\n",
    "\n",
    "#n, bins, patches = ax1.hist(dataJoined[\"psfMagDiffMmag\"], bins=2*nBins, density=True, histtype=\"step\", lw=2, label=\"data\")\n",
    "ax1.hist2d(dataJoined[\"PWV\"],dataJoined[\"psfMagDiffMmag\"], bins=max(2*nBins,50), cmap=plt.cm.Reds, label=\"data\")\n",
    "ax1.tick_params(labelsize=7)\n",
    "ax1.set_ylabel(\"psfFlux - psfFluxMean ({} mmag)\".format(band), fontsize=9)\n",
    "ax1.set_xlabel(\"PWV \", fontsize=9)\n",
    "ax1.errorbar(all_X,all_Y1,yerr=all_EY1,fmt='o',lw=1,color='b',ecolor='b',markersize=6)\n",
    "\n",
    "ax1.set_ylim(-50, 50)\n",
    "ax1.set_xlim(1, 5.)\n",
    "ax1.grid()\n",
    "ax1.legend(fontsize=8)\n",
    "\n",
    "# Plot chi histogram\n",
    "ax2.axhline(y=0.0, color=\"gray\", linestyle='--', linewidth=1)\n",
    "ax2.hist2d(dataJoined[\"PWV\"],dataJoined[\"psfMagDiffChi\"], bins=max(2*nBins,50),cmap=plt.cm.Reds, lw=2, label=\"data\")\n",
    "ax2.errorbar(all_X,all_Y2,yerr=all_EY2,fmt='o',lw=1,color='b',ecolor='b',markersize=6)\n",
    "\n",
    "ax2.tick_params(labelsize=7)\n",
    "ax2.set_ylabel(\"$\\chi$ = (psfMagDiff)/(psfMagErr$^2$ + psfMagMeanErr$^2$)$^{1/2}$\", fontsize=9)\n",
    "ax2.set_xlabel(\"PWV mm\", fontsize=9)\n",
    "\n",
    "ax2.set_ylim(-10, 10)\n",
    "ax2.set_xlim(1, 5.)\n",
    "ax2.grid()\n",
    "ax2.legend(fontsize=8)\n",
    "\n",
    "if doSaveFigs:\n",
    "    filename = \"{}psfFluxDiffHist2DPWV_{}_{}_{}{}\".format(saveDir, tract, band, collectionStr, maxVisitStr)\n",
    "    print(\"Saving file in: {}\".format(filename))\n",
    "    fig.savefig(filename, dpi=150)     "
   ]
  },
  {
   "cell_type": "code",
   "execution_count": null,
   "id": "b4b533e5",
   "metadata": {
    "execution": {
     "iopub.status.busy": "2024-04-04T12:31:35.041129Z",
     "iopub.status.idle": "2024-04-04T12:31:35.041271Z",
     "shell.execute_reply": "2024-04-04T12:31:35.041202Z",
     "shell.execute_reply.started": "2024-04-04T12:31:35.041196Z"
    }
   },
   "outputs": [],
   "source": [
    "# Split out the smallest and largest PSF mag std objects (just to easily look at the extremes).\n",
    "largeStdList = [index for index in psfMagStdMmagDict if psfMagStdMmagDict[index] >= 1.4*medianPsfFluxStd]\n",
    "smallStdList= [index for index in psfMagStdMmagDict if psfMagStdMmagDict[index] < 0.4*medianPsfFluxStd]\n",
    "for objectIndex in largeStdList:\n",
    "    print(\"Large Std: objectIndex = {}  number of matches = {}\".format(objectIndex, len(dataJoined[dataJoined[\"obj_index\"] == objectIndex])))\n",
    "for objectIndex in smallStdList:\n",
    "    print(\"Small Std: objectIndex = {}  number of matches = {}\".format(objectIndex, len(dataJoined[dataJoined[\"obj_index\"] == objectIndex])))"
   ]
  },
  {
   "cell_type": "code",
   "execution_count": null,
   "id": "0a1f0771",
   "metadata": {
    "execution": {
     "iopub.status.busy": "2024-04-04T12:31:35.041801Z",
     "iopub.status.idle": "2024-04-04T12:31:35.041949Z",
     "shell.execute_reply": "2024-04-04T12:31:35.041878Z",
     "shell.execute_reply.started": "2024-04-04T12:31:35.041871Z"
    }
   },
   "outputs": [],
   "source": [
    "# Plot cutouts centered on matched sources from different visits for a couple of objects.\n",
    "# Selecting from the small/largeStdLists made above to look at the extremes.\n",
    "imMin, imMax, Q = -0.001, 0.004, 8\n",
    "expMin, expMax = -25, 100\n",
    "numSub = 8\n",
    "for maxBoxSize in [71]:\n",
    "    plt.close(\"all\")\n",
    "    for objInd in smallStdList[0:3] + largeStdList[1:2]:\n",
    "        joinedObjects = dataJoined[dataJoined[\"obj_index\"] == objInd]\n",
    "        numObj = len(joinedObjects)\n",
    "        print(\"numObj = {} [with obj_index = {}]\".format(numObj, objInd))\n",
    "        nRow = 1 if numObj <= numSub else (numObj // numSub) + 1\n",
    "        # print(\"nRow = {}\".format(nRow))\n",
    "        fig, axes = plt.subplots(nRow, numSub, figsize=(3*numSub, 3*nRow), constrained_layout=True)\n",
    "        joinedObjects = dataJoined[dataJoined[\"obj_index\"] == objInd]\n",
    "        \n",
    "        psfMag = joinedObjects[\"psfMag\"]\n",
    "        psfMagErr = joinedObjects[\"psfMagErr\"]\n",
    "        psfMagDiffMmag = joinedObjects[\"psfMagDiffMmag\"].values\n",
    "        psfMagStdMmag = psfMagStdMmagDict[objInd]\n",
    "\n",
    "        clippedMeanRaArray = scipy.stats.sigmaclip(joinedObjects[\"ra\"], low=3.0, high=3.0).clipped\n",
    "        clippedMeanRa = np.mean(clippedMeanRaArray)\n",
    "        clippedMeanDecArray = scipy.stats.sigmaclip(joinedObjects[\"dec\"], low=3.0, high=3.0).clipped\n",
    "        clippedMeanDec = np.mean(clippedMeanDecArray)\n",
    "\n",
    "        iObj = -1\n",
    "        for ax in axes.ravel():\n",
    "            iObj += 1\n",
    "            if iObj < numObj:\n",
    "                row = joinedObjects[iObj:iObj + 1]\n",
    "                detector = row[\"detector\"].values[0]\n",
    "                visit = row[\"visit\"].values[0]\n",
    "                psfMag = (row[\"psfFlux\"].values[0]*u.nJy).to(u.ABmag)\n",
    "\n",
    "                dataId = {\"detector\": detector, \"visit\": visit}\n",
    "                exp = butler.get(\"calexp\", dataId)\n",
    "                wcs = exp.wcs\n",
    "                pt = geom.SpherePoint(geom.Angle(row[\"ra\"].values[0], geom.degrees),\n",
    "                                      geom.Angle(row[\"dec\"].values[0], geom.degrees))\n",
    "                (xSrc, ySrc) = wcs.skyToPixel(pt)\n",
    "\n",
    "                boxSize = int(min(maxBoxSize, xSrc, exp.getWidth()-xSrc, ySrc, exp.getHeight()-ySrc) - 1)\n",
    "\n",
    "                minBbox = geom.Point2I(int(xSrc) - boxSize ,int(ySrc) - boxSize)\n",
    "                maxBbox = geom.Point2I(int(xSrc) + boxSize, int(ySrc) + boxSize)\n",
    "                srcBbox = geom.Box2I(minBbox, maxBbox)\n",
    "\n",
    "                subimg = afwImage.ExposureF(exp, srcBbox, afwImage.PARENT, True)\n",
    "                subimgRgb = afwRgb.makeRGB(subimg.image.array, None, None, expMin, expMax - expMin, Q)\n",
    "\n",
    "                im = ax.imshow(subimgRgb, interpolation=\"nearest\", origin=\"lower\")\n",
    "                ax.text(0.5, 0.06, \"psfSig: {:.2f} pix\".format(row[\"psfSigma\"].values[0]),\n",
    "                        color=\"cyan\", fontsize=14, ha=\"center\", va=\"center\", transform=ax.transAxes)\n",
    "                ax.text(0.5, 0.15, \"{:.2f}\".format(psfMag),\n",
    "                        color=\"violet\", fontsize=14, ha=\"center\", va=\"center\", transform=ax.transAxes)\n",
    "\n",
    "                diffColor = \"red\" if np.abs(psfMagDiffMmag[iObj]) > 100 else \"lawngreen\"\n",
    "                ax.text(0.5, 0.92, \"diff: {:.2f} mmag\".format(psfMagDiffMmag[iObj]),\n",
    "                        color=diffColor, fontsize=14, ha=\"center\", va=\"center\", transform=ax.transAxes)\n",
    "\n",
    "                ax.set_title(\"{} : {} {}sec\".format(iObj,visit, row[\"expTime\"].values[0]), fontsize=12)\n",
    "\n",
    "        color = \"green\"\n",
    "        plt.text(0.5, 0.84, \"std: {:.2f} mmag\".format(psfMagStdMmag), color=color, fontsize=14,\n",
    "                 ha=\"center\", va=\"center\", transform=ax.transAxes)\n",
    "\n",
    "        if doSaveFigs:\n",
    "            filename = \"{}{}_allOjbectsSmallStd_{}_{}_{}\".format(saveDir, camera.getName(), objInd, maxBoxSize, collectionStr)\n",
    "            print(\"Saving file in: {}\".format(filename))\n",
    "            plt.savefig(filename, dpi=250)"
   ]
  },
  {
   "cell_type": "code",
   "execution_count": null,
   "id": "8cdd225d",
   "metadata": {
    "execution": {
     "iopub.status.busy": "2024-04-04T12:31:35.042504Z",
     "iopub.status.idle": "2024-04-04T12:31:35.042647Z",
     "shell.execute_reply": "2024-04-04T12:31:35.042581Z",
     "shell.execute_reply.started": "2024-04-04T12:31:35.042575Z"
    }
   },
   "outputs": [],
   "source": [
    "# Plot all light curves (or as many as you include from stdList)\n",
    "stdList = [index for index in psfMagStdMmagDict]\n",
    "# Make light curves for both:\n",
    "#     psfInstMag: the \"instrument\" magnitude\n",
    "#     psfMag: the calibrated magnitude\n",
    "for magStr in [\"psfInstMag\", \"psfMag\"]:\n",
    "    fig, ax = plt.subplots(1, 1, figsize=(14, 10))\n",
    "    for objInd in stdList[:25]:\n",
    "        joinedObjects = dataJoined[dataJoined[\"obj_index\"] == objInd]\n",
    "        xData = joinedObjects[\"expMidptMjd\"]\n",
    "        yData = joinedObjects[magStr]\n",
    "        yDataErr = joinedObjects[\"psfMagErr\"]\n",
    "        yDataSorted = [y for _, y in sorted(zip(xData, yData))]\n",
    "        yDataErrSorted = [y for _, y in sorted(zip(xData, yDataErr))]\n",
    "        xDataSorted = sorted(xData)\n",
    "        ax.errorbar(xDataSorted, yDataSorted, yerr=yDataErrSorted, linestyle=\"-\", alpha=0.6, label=\"{}\".format(objInd))\n",
    "        ax.scatter(xDataSorted, yDataSorted, s=9, alpha=1.0)\n",
    "    ax.legend(fontsize=6, loc=\"upper right\")\n",
    "    ax.set_xlabel(\"{}{}\".format(\"expMidpdMjd\", \" (MJD)\"), fontsize=10)\n",
    "    ax.set_ylabel(\"{}_{}\".format(band, magStr), fontsize=10)\n",
    "    title = f\"Light Curves {magStr} for tract {tract} in band {band} (AUXTEL)\"\n",
    "    ax.set_title(title)\n",
    "    if doSaveFigs:\n",
    "        filename = \"{}{}_lightCurves_{}\".format(saveDir, camera.getName(),collectionStr)\n",
    "        print(\"Saving file in: {}\".format(filename))\n",
    "        plt.savefig(filename, dpi=150)\n",
    "    ax.grid()"
   ]
  },
  {
   "cell_type": "code",
   "execution_count": null,
   "id": "7018234b",
   "metadata": {
    "execution": {
     "iopub.status.busy": "2024-04-04T12:31:35.043242Z",
     "iopub.status.idle": "2024-04-04T12:31:35.043394Z",
     "shell.execute_reply": "2024-04-04T12:31:35.043319Z",
     "shell.execute_reply.started": "2024-04-04T12:31:35.043313Z"
    }
   },
   "outputs": [],
   "source": [
    "# Plot light curves divided by photo Std\n",
    "magStr = \"psfMag\"\n",
    "largeThresh = min(2.0*medianPsfFluxStd, 0.8*max(psfMagStdMmagDict.values()))\n",
    "smallThresh = max(0.5*medianPsfFluxStd, 0.2*min(psfMagStdMmagDict.values()))\n",
    "mediumThreshLower = medianPsfFluxStd - 0.04*medianPsfFluxStd\n",
    "mediumThreshUpper = medianPsfFluxStd + 0.04*medianPsfFluxStd\n",
    "largeStdList = [index for index in psfMagStdMmagDict if psfMagStdMmagDict[index] > largeThresh]\n",
    "mediumUpperStdList = [index for index in psfMagStdMmagDict if (psfMagStdMmagDict[index] < mediumThreshUpper and psfMagStdMmagDict[index] > medianPsfFluxStd)]\n",
    "mediumLowerStdList = [index for index in psfMagStdMmagDict if (psfMagStdMmagDict[index] < medianPsfFluxStd and psfMagStdMmagDict[index] > mediumThreshLower)]\n",
    "smallStdList = [index for index in psfMagStdMmagDict if psfMagStdMmagDict[index] < smallThresh]\n",
    "titleStrList = [\"psf diff std > {:.2f} mmag\".format(largeThresh),\n",
    "                \"psf diff {:.2f} < std < {:.2f} mmag\".format(medianPsfFluxStd, mediumThreshUpper),\n",
    "                \"psf diff {:.2f} < std < {:.2f} mmag\".format(mediumThreshLower, medianPsfFluxStd),\n",
    "                \"psf diff std < {:.2f} mmag\".format(smallThresh)]\n",
    "\n",
    "fig, axes = plt.subplots(4, 1, figsize=(14, 20))\n",
    "for stdList, titleStr, ax in zip([largeStdList[:10], mediumUpperStdList[:10], mediumLowerStdList[:10], smallStdList[:10]], titleStrList, axes):\n",
    "    for objInd in stdList:\n",
    "        joinedObjects = dataJoined[dataJoined[\"obj_index\"] == objInd]\n",
    "        xData = joinedObjects[\"expMidptMjd\"]\n",
    "        yData = joinedObjects[magStr]\n",
    "        yDataErr = joinedObjects[\"psfMagErr\"]\n",
    "        yDataSorted = [y for _, y in sorted(zip(xData, yData))]\n",
    "        yDataErrSorted = [y for _, y in sorted(zip(xData, yDataErr))]\n",
    "        xDataSorted = sorted(xData)\n",
    "        ax.errorbar(xDataSorted, yDataSorted, yerr=yDataErrSorted, linestyle=\"-\", alpha=0.6, label=\"{}\".format(objInd))\n",
    "        ax.scatter(xDataSorted, yDataSorted, s=9, alpha=1.0)\n",
    "    ax.legend(fontsize=6)\n",
    "    ax.set_xlabel(\"{}{}\".format(\"expMidpdMjd\", \" (MJD)\"), fontsize=10)\n",
    "    ax.set_ylabel(\"{}_psf (mag)\".format(band), fontsize=10)\n",
    "    ax.set_title(titleStr, fontsize=12, pad=4)\n",
    "    ax.grid()\n",
    "suptitle = f\"Light Curves {magStr} for tract {tract} in band {band} (AUXTEL)\"\n",
    "plt.suptitle(suptitle)\n",
    "plt.tight_layout()\n",
    "if doSaveFigs:\n",
    "    filename = \"{}{}_lightCurves_{}\".format(saveDir, camera.getName(),collectionStr)\n",
    "    print(\"Saving file in: {}\".format(filename))\n",
    "    plt.savefig(filename, dpi=150)"
   ]
  },
  {
   "cell_type": "code",
   "execution_count": null,
   "id": "b2beb675-63bd-4639-9c01-989e2ffd18de",
   "metadata": {
    "execution": {
     "iopub.status.busy": "2024-04-04T12:31:35.044124Z",
     "iopub.status.idle": "2024-04-04T12:31:35.044386Z",
     "shell.execute_reply": "2024-04-04T12:31:35.044302Z",
     "shell.execute_reply.started": "2024-04-04T12:31:35.044293Z"
    }
   },
   "outputs": [],
   "source": [
    "airmasses = [airmassDict[v] for v in sorted_visitList if v in airmassDict.keys() ]\n",
    "zeropoints = [zeroPointDict[v] for v in sorted_visitList if v in zeroPointDict.keys()]\n",
    "fig, ax = plt.subplots(1, 1, figsize=(14, 5))\n",
    "ax.plot(sorted_visits_mjd,airmasses,marker='o',lw=1,c=\"blue\",label=\"airmass\") \n",
    "ax.set_xlabel(\"MJD\")\n",
    "ax.set_ylabel(\"airmass\")\n",
    "ax2 =ax.twinx()\n",
    "ax2.plot(sorted_visits_mjd,zeropoints,marker='o',lw=1,c=\"red\",label=\"zeropoint\")\n",
    "ax2.set_ylabel(\"zero-point (mag)\")\n",
    "ax.legend(loc=\"upper left\")\n",
    "ax.set_ylim(1.,2)\n",
    "ax.grid()\n",
    "ax2.legend(loc=\"upper right\")\n",
    "suptitle = f\"Airmass and zero point for tract {tract} in band {band} (AUXTEL)\"\n",
    "ax.set_title(suptitle)\n",
    "#ax2.set_ylim(27,28.5)"
   ]
  },
  {
   "cell_type": "markdown",
   "id": "6e47a3dd-d0cb-4237-80f8-5ec870bab345",
   "metadata": {},
   "source": [
    "## Difference vs PWV"
   ]
  },
  {
   "cell_type": "code",
   "execution_count": null,
   "id": "8e3b271c-16cb-418d-bcf1-56e7bae58f81",
   "metadata": {},
   "outputs": [],
   "source": []
  },
  {
   "cell_type": "markdown",
   "id": "9e16f3c4-d084-48a4-be96-e6e59966d522",
   "metadata": {},
   "source": [
    "## Save the sources"
   ]
  },
  {
   "cell_type": "code",
   "execution_count": null,
   "id": "e93d2edc-c160-48a0-9a02-ad69878237cd",
   "metadata": {
    "execution": {
     "iopub.status.busy": "2024-04-04T12:31:35.044839Z",
     "iopub.status.idle": "2024-04-04T12:31:35.045138Z",
     "shell.execute_reply": "2024-04-04T12:31:35.045055Z",
     "shell.execute_reply.started": "2024-04-04T12:31:35.045047Z"
    }
   },
   "outputs": [],
   "source": [
    "dataJoined.to_csv(fullname_file_output_selectedsources)"
   ]
  },
  {
   "cell_type": "code",
   "execution_count": null,
   "id": "fb7ea5ae-4a2f-412c-9fc9-92ed00f53873",
   "metadata": {},
   "outputs": [],
   "source": []
  }
 ],
 "metadata": {
  "kernelspec": {
   "display_name": "LSST",
   "language": "python",
   "name": "lsst"
  },
  "language_info": {
   "codemirror_mode": {
    "name": "ipython",
    "version": 3
   },
   "file_extension": ".py",
   "mimetype": "text/x-python",
   "name": "python",
   "nbconvert_exporter": "python",
   "pygments_lexer": "ipython3",
   "version": "3.11.7"
  }
 },
 "nbformat": 4,
 "nbformat_minor": 5
}
