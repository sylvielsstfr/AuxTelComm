{
 "cells": [
  {
   "cell_type": "markdown",
   "id": "5fb8b13a-5169-4188-9fb8-8bfb44518205",
   "metadata": {},
   "source": [
    "# Isolated Sources\n",
    "\n",
    "- creation date 2024-03-20\n",
    "- last update 2024-03-20\n",
    "  \n",
    "``Quantum Graphs``: https://tigress-web.princeton.edu/~lkelvin/pipelines/ \n",
    "\n",
    "``CalibrateTask``: \n",
    "https://github.com/lsst/pipe_tasks/blob/main/python/lsst/pipe/tasks/calibrate.py#L392-L399\n",
    "\n",
    " "
   ]
  },
  {
   "cell_type": "code",
   "execution_count": null,
   "id": "3de4fd1f-8c60-4d0e-be77-c516b572c25a",
   "metadata": {
    "execution": {
     "iopub.execute_input": "2024-03-20T21:04:41.740125Z",
     "iopub.status.busy": "2024-03-20T21:04:41.739989Z",
     "iopub.status.idle": "2024-03-20T21:04:43.421636Z",
     "shell.execute_reply": "2024-03-20T21:04:43.421227Z",
     "shell.execute_reply.started": "2024-03-20T21:04:41.740112Z"
    }
   },
   "outputs": [],
   "source": [
    "from lsst.daf.butler import Butler\n",
    "\n",
    "import astropy.units as u\n",
    "import numpy as np \n",
    "import pandas as pd\n",
    "pd.set_option(\"display.max_columns\", None)\n",
    "from astropy.time import Time\n",
    "\n",
    "import scipy.stats\n",
    "\n",
    "import matplotlib\n",
    "%matplotlib inline\n",
    "from matplotlib import pyplot as plt\n",
    "\n",
    "import lsst.afw.display.rgb as afwRgb\n",
    "import lsst.afw.image as afwImage\n",
    "import lsst.geom as geom\n",
    "import pickle\n",
    "from scipy import interpolate"
   ]
  },
  {
   "cell_type": "code",
   "execution_count": null,
   "id": "25215122-123e-440b-9159-0cef3e65d950",
   "metadata": {
    "execution": {
     "iopub.execute_input": "2024-03-20T21:04:43.422488Z",
     "iopub.status.busy": "2024-03-20T21:04:43.422167Z",
     "iopub.status.idle": "2024-03-20T21:04:43.425125Z",
     "shell.execute_reply": "2024-03-20T21:04:43.424779Z",
     "shell.execute_reply.started": "2024-03-20T21:04:43.422475Z"
    }
   },
   "outputs": [],
   "source": [
    "plt.rcParams[\"figure.figsize\"] = (8,8)\n",
    "plt.rcParams[\"axes.labelsize\"] = 'large'\n",
    "plt.rcParams['axes.titlesize'] = 'xx-large'\n",
    "plt.rcParams['xtick.labelsize']= 'large'\n",
    "plt.rcParams['ytick.labelsize']= 'large'\n",
    "plt.rcParams['legend.fontsize']=  12\n",
    "plt.rcParams['font.size'] = 10"
   ]
  },
  {
   "cell_type": "code",
   "execution_count": null,
   "id": "b9a01a19-4326-4af7-ac85-1ed95ac90ec0",
   "metadata": {
    "execution": {
     "iopub.execute_input": "2024-03-20T21:04:43.425717Z",
     "iopub.status.busy": "2024-03-20T21:04:43.425593Z",
     "iopub.status.idle": "2024-03-20T21:04:43.431363Z",
     "shell.execute_reply": "2024-03-20T21:04:43.431012Z",
     "shell.execute_reply.started": "2024-03-20T21:04:43.425705Z"
    }
   },
   "outputs": [],
   "source": [
    "dm_version=\"repos_w_2024_10\" \n",
    "machine_name = os.uname().nodename\n",
    "print(machine_name)\n",
    "if 'sdf' in machine_name:\n",
    "    #machine_name_usdf = 'sdfrome001'\n",
    "    #machine_name_notebook platform = 'dagoret-nb'\n",
    "    print(\"Set environement for USDF\")\n",
    "    subdir = f\"repos/{dm_version}/rubinsimphot/src\"\n",
    "    newpythonpath = os.path.join(os.getenv(\"HOME\"),subdir)\n",
    "    print(subdir,newpythonpath)\n",
    "    sys.path.append(newpythonpath)\n",
    "    newpythonpath = os.path.join(os.getenv(\"HOME\"),\"rubin-user/RubinLSSTPhotometricCorrTuto/notebooks/lib\")\n",
    "    sys.path.append(newpythonpath)   \n",
    "elif \"dagoret-nb\" in machine_name:\n",
    "    print(\"Set environement for Rubin Platform at  USDF\")\n",
    "    newpythonpath = os.path.join(os.getenv(\"HOME\"),f\"repos/{dm_version}/rubinsimphot/src\")\n",
    "    sys.path.append(newpythonpath)\n",
    "    print(newpythonpath)\n",
    "    newpythonpath = os.path.join(os.getenv(\"HOME\"),\"rubin-user/RubinLSSTPhotometricCorrTuto/notebooks/lib\")\n",
    "    sys.path.append(newpythonpath)\n",
    "elif 'mac' in machine_name:\n",
    "    print(\"Be sure to run this notebook in conda environnement named conda_py310\")\n",
    "else:\n",
    "    print(\"Your current machine name is {machine_name}. Check your python environment\")"
   ]
  },
  {
   "cell_type": "code",
   "execution_count": null,
   "id": "49b3aebd-479f-4357-b076-b925d690f982",
   "metadata": {
    "execution": {
     "iopub.execute_input": "2024-03-20T21:04:43.432953Z",
     "iopub.status.busy": "2024-03-20T21:04:43.432650Z",
     "iopub.status.idle": "2024-03-20T21:04:43.445739Z",
     "shell.execute_reply": "2024-03-20T21:04:43.445388Z",
     "shell.execute_reply.started": "2024-03-20T21:04:43.432939Z"
    }
   },
   "outputs": [],
   "source": [
    "from rubinsimphot.phot_utils import Bandpass, Sed\n",
    "from rubinsimphot.data.data_sets import  get_data_dir\n",
    "\n",
    "#README.md        darksky.dat      filter_r.dat     hardware_g.dat   hardware_y.dat   lens3.dat        total_g.dat      total_y.dat\n",
    "#README_SOURCE.md detector.dat     filter_u.dat     hardware_i.dat   hardware_z.dat   m1.dat           total_i.dat      total_z.dat\n",
    "#atmos_10.dat     filter_g.dat     filter_y.dat     hardware_r.dat   lens1.dat        m2.dat           total_r.dat      version_info\n",
    "#atmos_std.dat    filter_i.dat     filter_z.dat     hardware_u.dat   lens2.dat        m3.dat           total_u.dat\n",
    "hardware_filenames = [\"hardware_u.dat\",\"hardware_g.dat\",\"hardware_r.dat\",\"hardware_i.dat\",\"hardware_z.dat\",\"hardware_y.dat\"] \n",
    "filter_filenames = [\"filter_u.dat\",\"filter_g.dat\",\"filter_r.dat\",\"filter_i.dat\",\"filter_z.dat\",\"filter_y.dat\" ]\n",
    "total_filenames = [\"total_u.dat\",\"total_g.dat\",\"total_r.dat\",\"total_i.dat\",\"total_z.dat\",\"total_y.dat\" ]\n",
    "filter_tagnames = [\"u\",\"g\",\"r\",\"i\",\"z\",\"y\"]\n",
    "Filter_tagnames = [\"U\",\"G\",\"R\",\"I\",\"Z\",\"Y\"]\n",
    "filtercolor_tagnames = [\"u-g\",\"g-r\",\"r-i\",\"i-z\",\"z-y\"]\n",
    "Filtercolor_tagnames = [\"U-G\",\"G-R\",\"R-I\",\"I-Y\",\"Z-Y\"]\n",
    "filter_color = [\"b\",\"g\",\"r\",\"orange\",\"grey\",\"k\"]\n",
    "NFILT=len(filter_filenames)\n",
    "\n",
    "WLMIN=300.\n",
    "WLMAX=1100.\n",
    "WLBIN=1.\n",
    "NWLBIN=int((WLMAX-WLMIN)/WLBIN)\n",
    "WL=np.linspace(WLMIN,WLMAX,NWLBIN)"
   ]
  },
  {
   "cell_type": "code",
   "execution_count": null,
   "id": "f0989447-938c-4fb7-b593-4035ca543899",
   "metadata": {
    "execution": {
     "iopub.execute_input": "2024-03-20T21:04:43.446324Z",
     "iopub.status.busy": "2024-03-20T21:04:43.446199Z",
     "iopub.status.idle": "2024-03-20T21:04:43.450121Z",
     "shell.execute_reply": "2024-03-20T21:04:43.449775Z",
     "shell.execute_reply.started": "2024-03-20T21:04:43.446312Z"
    }
   },
   "outputs": [],
   "source": [
    "#FILTERWL: precalculated array containing center, boundaries and width of each filter.\n",
    "#index 0 : minimum wavelength of filter border\n",
    "#index 1 : minimum wavelength of filter border\n",
    "#index 2 : center wavelength of filter\n",
    "#index 3 : filter width\n",
    "\n",
    "\n",
    "FILTERWL = np.array([[ 324.03003755,  402.12765957,  363.59690349,   78.09762203],\n",
    "       [ 392.11514393,  561.32665832,  473.54069923,  169.21151439],\n",
    "       [ 542.3028786 ,  700.50062578,  619.49926767,  158.19774718],\n",
    "       [ 681.47684606,  827.65957447,  752.01084117,  146.18272841],\n",
    "       [ 808.63579474,  932.79098874,  868.488419  ,  124.15519399],\n",
    "       [ 914.76846058, 1044.93116395,  969.10570859,  130.16270338]])\n",
    "\n",
    "FILTERWL_auxtel = np.array([[ 352.7 ,  395.9 ,  374.3 ,   43.2 ],\n",
    "                     [ 387.6 ,  566.2 ,  476.9 ,  178.6 ],\n",
    "                     [ 541.4 ,  715.5 ,  628.45,  174.1 ],\n",
    "                     [ 673.3 ,  870.9 ,  772.1 ,  197.6 ],\n",
    "                     [ 805.6 , 1090.7 ,  948.15,  285.1 ]])\n",
    "\n",
    "\n",
    "F0 = 3631.0 # Jy 1, Jy = 10^{-23} erg.cm^{-2}.s^{-1}.Hz^{-1}\n",
    "Jy_to_ergcmm2sm1hzm1 = 1e-23\n",
    "DT = 30.0 # seconds\n",
    "gel = 1.1\n",
    "#hP = 6.62607015E-34 # J⋅Hz−1\n",
    "hP = 6.626196E-27\n",
    "A  = np.pi*642.3**2 # cm2  Reff=6.423 m\n",
    "A_auxtel  = 9636.0 # cm2\n",
    "\n",
    "#ZPT_cont =  2.5 \\log_{10} \\left(\\frac{F_0 A \\Delta T}{g_{el} h} \\right)\n",
    "ZPTconst = 2.5*np.log10(F0*Jy_to_ergcmm2sm1hzm1*A*DT/gel/hP)"
   ]
  },
  {
   "cell_type": "code",
   "execution_count": null,
   "id": "d925159a-aecd-4ff5-877d-e9474d32ad78",
   "metadata": {
    "execution": {
     "iopub.execute_input": "2024-03-20T21:04:43.450697Z",
     "iopub.status.busy": "2024-03-20T21:04:43.450579Z",
     "iopub.status.idle": "2024-03-20T21:04:43.672751Z",
     "shell.execute_reply": "2024-03-20T21:04:43.672258Z",
     "shell.execute_reply.started": "2024-03-20T21:04:43.450686Z"
    }
   },
   "outputs": [],
   "source": [
    "!ls /home/d/dagoret/repos/repos_w_2024_10/rubinsimphot/src/rubin_sim_data/throughputs/auxtel"
   ]
  },
  {
   "cell_type": "code",
   "execution_count": null,
   "id": "3e73b694-ca4d-497e-8296-1b08d31ec76c",
   "metadata": {
    "execution": {
     "iopub.execute_input": "2024-03-20T21:04:43.673627Z",
     "iopub.status.busy": "2024-03-20T21:04:43.673487Z",
     "iopub.status.idle": "2024-03-20T21:04:43.698702Z",
     "shell.execute_reply": "2024-03-20T21:04:43.698333Z",
     "shell.execute_reply.started": "2024-03-20T21:04:43.673613Z"
    }
   },
   "outputs": [],
   "source": [
    "fdir = get_data_dir()\n",
    "bandpass_inst = {}\n",
    "path_rubin_sim_throughput = os.path.join(fdir, 'throughputs', 'baseline')\n",
    "for index,filename in enumerate(hardware_filenames):\n",
    "    fullfilename=os.path.join(path_rubin_sim_throughput,filename)\n",
    "    arr= np.loadtxt(fullfilename)\n",
    "    # interpolate  filter transmission\n",
    "    ff = interpolate.interp1d(x=arr[:,0], y=arr[:,1],fill_value=\"extrapolate\")\n",
    "    fname = filter_tagnames[index]\n",
    "    bandpass_inst[fname] = Bandpass(wavelen=WL,sb=ff(WL))"
   ]
  },
  {
   "cell_type": "code",
   "execution_count": null,
   "id": "7f0894c4-b71f-47ab-ac91-2313c508a5ae",
   "metadata": {
    "execution": {
     "iopub.execute_input": "2024-03-20T21:04:43.699360Z",
     "iopub.status.busy": "2024-03-20T21:04:43.699233Z",
     "iopub.status.idle": "2024-03-20T21:04:43.885996Z",
     "shell.execute_reply": "2024-03-20T21:04:43.885634Z",
     "shell.execute_reply.started": "2024-03-20T21:04:43.699348Z"
    }
   },
   "outputs": [],
   "source": [
    "fig, axs = plt.subplots(1,1,figsize=(6,4))\n",
    "# loop on filter\n",
    "for index,f in enumerate(filter_tagnames):\n",
    "    \n",
    "    axs.plot(WL,bandpass_inst[f].sb,color=filter_color[index]) \n",
    "    axs.fill_between(WL,bandpass_inst[f].sb,color=filter_color[index],alpha=0.2) \n",
    "    axs.axvline(FILTERWL[index,2],color=filter_color[index],linestyle=\"-.\")\n",
    "    \n",
    "axs.set_xlabel(\"$\\\\lambda$ (nm)\")\n",
    "axs.set_title(\"Total Rubin-LSST filter throughput\")"
   ]
  },
  {
   "cell_type": "code",
   "execution_count": null,
   "id": "12e89c3a",
   "metadata": {
    "execution": {
     "iopub.execute_input": "2024-03-20T21:04:43.886638Z",
     "iopub.status.busy": "2024-03-20T21:04:43.886509Z",
     "iopub.status.idle": "2024-03-20T21:04:43.888760Z",
     "shell.execute_reply": "2024-03-20T21:04:43.888420Z",
     "shell.execute_reply.started": "2024-03-20T21:04:43.886626Z"
    }
   },
   "outputs": [],
   "source": [
    "saveDir = \"./lc_output_auxtelfall2023_spectro\"\n",
    "doSaveFigs = False  # set to True if you actually want to save the figures in the above dir"
   ]
  },
  {
   "cell_type": "code",
   "execution_count": null,
   "id": "ff630ae4",
   "metadata": {
    "execution": {
     "iopub.execute_input": "2024-03-20T21:04:43.889356Z",
     "iopub.status.busy": "2024-03-20T21:04:43.889233Z",
     "iopub.status.idle": "2024-03-20T21:04:43.892748Z",
     "shell.execute_reply": "2024-03-20T21:04:43.892401Z",
     "shell.execute_reply.started": "2024-03-20T21:04:43.889345Z"
    }
   },
   "outputs": [],
   "source": [
    "# Set some selections for reliable data\n",
    "minNumMatches = 3\n",
    "minSnCalibFlux = 50  # 100"
   ]
  },
  {
   "cell_type": "code",
   "execution_count": null,
   "id": "4dca9831-d3a8-4834-a22e-dfbec6d0b6a6",
   "metadata": {
    "execution": {
     "iopub.execute_input": "2024-03-20T21:04:43.893318Z",
     "iopub.status.busy": "2024-03-20T21:04:43.893201Z",
     "iopub.status.idle": "2024-03-20T21:04:43.897480Z",
     "shell.execute_reply": "2024-03-20T21:04:43.897142Z",
     "shell.execute_reply.started": "2024-03-20T21:04:43.893307Z"
    }
   },
   "outputs": [],
   "source": [
    "# INSERT YOUR auxTel/LATISS collection and tract/band HERE\n",
    "butlerRoot = \"/repo/embargo\"\n",
    "# collection = \"LATISS/runs/AUXTEL_DRP_IMAGING_20230509_20231207/w_2023_49/PREOPS-4648\"\n",
    "collection = \"LATISS/runs/AUXTEL_DRP_IMAGING_20230509_20240201/w_2024_05/PREOPS-4871\"\n",
    "\n",
    "collectionStr = collection.replace(\"/\", \"_\")\n",
    "instrument = \"LATISS\"\n",
    "skymapName = \"latiss_v1\"\n",
    "\n",
    "tract = 3864\n",
    "\n",
    "calibFluxStr = \"apFlux_35_0_instFlux\"\n"
   ]
  },
  {
   "cell_type": "markdown",
   "id": "ae362025-6f0f-4490-a62a-49d63b9250b3",
   "metadata": {},
   "source": [
    "## Selected Visits and Selected Nights"
   ]
  },
  {
   "cell_type": "code",
   "execution_count": null,
   "id": "6a589912-7985-4f17-9b84-8f23ecacfd29",
   "metadata": {
    "execution": {
     "iopub.execute_input": "2024-03-20T21:04:43.898078Z",
     "iopub.status.busy": "2024-03-20T21:04:43.897950Z",
     "iopub.status.idle": "2024-03-20T21:04:43.901313Z",
     "shell.execute_reply": "2024-03-20T21:04:43.900978Z",
     "shell.execute_reply.started": "2024-03-20T21:04:43.898067Z"
    }
   },
   "outputs": [],
   "source": [
    "file_selected_visits = \"../data/202402/SelectedVisits_fall2023_tract_3864.csv\"\n",
    "file_selected_nights = \"AuxtelSpectroData/AtmParamPerNightObsDict_fall2023.pkl\""
   ]
  },
  {
   "cell_type": "code",
   "execution_count": null,
   "id": "f0129514-a870-43e2-b1d9-1dfd64bc9484",
   "metadata": {
    "execution": {
     "iopub.execute_input": "2024-03-20T21:04:43.901914Z",
     "iopub.status.busy": "2024-03-20T21:04:43.901795Z",
     "iopub.status.idle": "2024-03-20T21:04:43.910831Z",
     "shell.execute_reply": "2024-03-20T21:04:43.910455Z",
     "shell.execute_reply.started": "2024-03-20T21:04:43.901903Z"
    }
   },
   "outputs": [],
   "source": [
    "df_myselectedvisits = pd.read_csv(file_selected_visits,index_col=0)\n",
    "my_selectedvisits = list(df_myselectedvisits.index)"
   ]
  },
  {
   "cell_type": "code",
   "execution_count": null,
   "id": "511041b2-af65-4fd0-b59f-69a626db2a8d",
   "metadata": {
    "execution": {
     "iopub.execute_input": "2024-03-20T21:04:43.911473Z",
     "iopub.status.busy": "2024-03-20T21:04:43.911350Z",
     "iopub.status.idle": "2024-03-20T21:04:43.913689Z",
     "shell.execute_reply": "2024-03-20T21:04:43.913355Z",
     "shell.execute_reply.started": "2024-03-20T21:04:43.911461Z"
    }
   },
   "outputs": [],
   "source": [
    "#move the visitid as a column not to loose it during the merge \n",
    "df_myselectedvisits.reset_index(inplace=True) "
   ]
  },
  {
   "cell_type": "code",
   "execution_count": null,
   "id": "1569b27a-dfd1-474c-889a-d7b9312580f0",
   "metadata": {
    "execution": {
     "iopub.execute_input": "2024-03-20T21:04:43.914293Z",
     "iopub.status.busy": "2024-03-20T21:04:43.914173Z",
     "iopub.status.idle": "2024-03-20T21:04:43.926747Z",
     "shell.execute_reply": "2024-03-20T21:04:43.926393Z",
     "shell.execute_reply.started": "2024-03-20T21:04:43.914282Z"
    }
   },
   "outputs": [],
   "source": [
    "df_myselectedvisits"
   ]
  },
  {
   "cell_type": "code",
   "execution_count": null,
   "id": "175d282a-94df-4769-af2e-923f93738ddd",
   "metadata": {
    "execution": {
     "iopub.execute_input": "2024-03-20T21:04:43.927325Z",
     "iopub.status.busy": "2024-03-20T21:04:43.927202Z",
     "iopub.status.idle": "2024-03-20T21:04:43.929902Z",
     "shell.execute_reply": "2024-03-20T21:04:43.929577Z",
     "shell.execute_reply.started": "2024-03-20T21:04:43.927314Z"
    }
   },
   "outputs": [],
   "source": [
    "# Check the night selected\n",
    "df_myselectedvisits['nightObs'].unique()"
   ]
  },
  {
   "cell_type": "markdown",
   "id": "50f6c5de-0e93-4d70-99e3-86f7caa12e8e",
   "metadata": {},
   "source": [
    "### Make the dataframe holding the atmospheric parameters"
   ]
  },
  {
   "cell_type": "code",
   "execution_count": null,
   "id": "b59e8ed5-f0db-4026-be60-23a58ee1ec9b",
   "metadata": {
    "execution": {
     "iopub.execute_input": "2024-03-20T21:04:43.930496Z",
     "iopub.status.busy": "2024-03-20T21:04:43.930368Z",
     "iopub.status.idle": "2024-03-20T21:04:43.944603Z",
     "shell.execute_reply": "2024-03-20T21:04:43.944214Z",
     "shell.execute_reply.started": "2024-03-20T21:04:43.930484Z"
    }
   },
   "outputs": [],
   "source": [
    "df_selnight = pd.DataFrame(columns=('nightObs', 'PWV', 'VAOD','Grey',\"Ozone\"))\n",
    "with open(file_selected_nights, 'rb') as fp:\n",
    "    selectedNightsDict  = pickle.load(fp)\n",
    "idx=0\n",
    "for key,value in selectedNightsDict.items():\n",
    "    pwv = value['median']['median_param_atm']['md_PWV']\n",
    "    vaod = value['median']['median_param_atm']['md_VAOD']\n",
    "    grey = value['median']['median_param_atm']['md_grey']\n",
    "    ozone = value['median']['median_param_atm']['md_ozone']\n",
    "    df_selnight.loc[idx] = [int(key),pwv,vaod,grey,ozone]\n",
    "    idx+=1"
   ]
  },
  {
   "cell_type": "code",
   "execution_count": null,
   "id": "6c5df4da-0723-4d03-b83a-349fce37391e",
   "metadata": {
    "execution": {
     "iopub.execute_input": "2024-03-20T21:04:43.945244Z",
     "iopub.status.busy": "2024-03-20T21:04:43.945121Z",
     "iopub.status.idle": "2024-03-20T21:04:43.948304Z",
     "shell.execute_reply": "2024-03-20T21:04:43.947941Z",
     "shell.execute_reply.started": "2024-03-20T21:04:43.945233Z"
    }
   },
   "outputs": [],
   "source": [
    "# Convert the nightObs as an integer\n",
    "df_selnight = df_selnight.astype({'nightObs':'int'})"
   ]
  },
  {
   "cell_type": "code",
   "execution_count": null,
   "id": "fce868a8-95f1-4a38-add9-7b1f108dd899",
   "metadata": {
    "execution": {
     "iopub.execute_input": "2024-03-20T21:04:43.951059Z",
     "iopub.status.busy": "2024-03-20T21:04:43.950916Z",
     "iopub.status.idle": "2024-03-20T21:04:43.953410Z",
     "shell.execute_reply": "2024-03-20T21:04:43.953049Z",
     "shell.execute_reply.started": "2024-03-20T21:04:43.951045Z"
    }
   },
   "outputs": [],
   "source": [
    "df_night_to_atm = df_selnight.copy().set_index('nightObs')"
   ]
  },
  {
   "cell_type": "code",
   "execution_count": null,
   "id": "87ac1d32-39ec-452f-b8d2-2b8d889a88a1",
   "metadata": {
    "execution": {
     "iopub.execute_input": "2024-03-20T21:04:43.954042Z",
     "iopub.status.busy": "2024-03-20T21:04:43.953918Z",
     "iopub.status.idle": "2024-03-20T21:04:43.959447Z",
     "shell.execute_reply": "2024-03-20T21:04:43.959119Z",
     "shell.execute_reply.started": "2024-03-20T21:04:43.954027Z"
    }
   },
   "outputs": [],
   "source": [
    "df_night_to_atm"
   ]
  },
  {
   "cell_type": "code",
   "execution_count": null,
   "id": "a6afeba9-6bcd-4e3a-9da1-84c6280fa593",
   "metadata": {
    "execution": {
     "iopub.execute_input": "2024-03-20T21:04:43.959995Z",
     "iopub.status.busy": "2024-03-20T21:04:43.959874Z",
     "iopub.status.idle": "2024-03-20T21:04:43.964332Z",
     "shell.execute_reply": "2024-03-20T21:04:43.964003Z",
     "shell.execute_reply.started": "2024-03-20T21:04:43.959984Z"
    }
   },
   "outputs": [],
   "source": [
    "df_night_to_atm.loc[20231127]"
   ]
  },
  {
   "cell_type": "code",
   "execution_count": null,
   "id": "ba4c0375-3260-4a9b-9a31-9e149d42ef5d",
   "metadata": {
    "execution": {
     "iopub.execute_input": "2024-03-20T21:04:43.964917Z",
     "iopub.status.busy": "2024-03-20T21:04:43.964796Z",
     "iopub.status.idle": "2024-03-20T21:04:43.969091Z",
     "shell.execute_reply": "2024-03-20T21:04:43.968733Z",
     "shell.execute_reply.started": "2024-03-20T21:04:43.964906Z"
    }
   },
   "outputs": [],
   "source": [
    "df_selnight['nightObs'].unique()"
   ]
  },
  {
   "cell_type": "markdown",
   "id": "77ccead7-dc29-4c2b-b158-3d75577d6b07",
   "metadata": {},
   "source": [
    "## Merge the two datasets\n",
    "\n",
    "- kepp the intersection"
   ]
  },
  {
   "cell_type": "code",
   "execution_count": null,
   "id": "1b4ebc86-9a5a-4b6c-b836-6c090a38fa26",
   "metadata": {
    "execution": {
     "iopub.execute_input": "2024-03-20T21:04:43.969713Z",
     "iopub.status.busy": "2024-03-20T21:04:43.969568Z",
     "iopub.status.idle": "2024-03-20T21:04:43.973998Z",
     "shell.execute_reply": "2024-03-20T21:04:43.973634Z",
     "shell.execute_reply.started": "2024-03-20T21:04:43.969702Z"
    }
   },
   "outputs": [],
   "source": [
    "df_merge = df_myselectedvisits.merge(df_selnight, left_on='nightObs',right_on='nightObs',how=\"inner\")"
   ]
  },
  {
   "cell_type": "code",
   "execution_count": null,
   "id": "375d3533-6b00-4281-800d-a4deff5ef26e",
   "metadata": {
    "execution": {
     "iopub.execute_input": "2024-03-20T21:04:43.974621Z",
     "iopub.status.busy": "2024-03-20T21:04:43.974494Z",
     "iopub.status.idle": "2024-03-20T21:04:43.978079Z",
     "shell.execute_reply": "2024-03-20T21:04:43.977672Z",
     "shell.execute_reply.started": "2024-03-20T21:04:43.974609Z"
    }
   },
   "outputs": [],
   "source": [
    "df_merge['nightObs'].unique()"
   ]
  },
  {
   "cell_type": "code",
   "execution_count": null,
   "id": "9754d921-f0dd-4b00-b063-5630210a9032",
   "metadata": {
    "execution": {
     "iopub.execute_input": "2024-03-20T21:04:43.978698Z",
     "iopub.status.busy": "2024-03-20T21:04:43.978551Z",
     "iopub.status.idle": "2024-03-20T21:04:43.980950Z",
     "shell.execute_reply": "2024-03-20T21:04:43.980590Z",
     "shell.execute_reply.started": "2024-03-20T21:04:43.978686Z"
    }
   },
   "outputs": [],
   "source": [
    "df_myselectedvisits = df_merge.copy()"
   ]
  },
  {
   "cell_type": "code",
   "execution_count": null,
   "id": "4c503827-9f78-4134-af55-7f802cceaea4",
   "metadata": {
    "execution": {
     "iopub.execute_input": "2024-03-20T21:04:43.981560Z",
     "iopub.status.busy": "2024-03-20T21:04:43.981436Z",
     "iopub.status.idle": "2024-03-20T21:04:43.993891Z",
     "shell.execute_reply": "2024-03-20T21:04:43.993553Z",
     "shell.execute_reply.started": "2024-03-20T21:04:43.981544Z"
    }
   },
   "outputs": [],
   "source": [
    "df_myselectedvisits"
   ]
  },
  {
   "cell_type": "code",
   "execution_count": null,
   "id": "cfc91d19-cac8-4956-afb8-05b17521f8d2",
   "metadata": {
    "execution": {
     "iopub.execute_input": "2024-03-20T21:04:43.994465Z",
     "iopub.status.busy": "2024-03-20T21:04:43.994344Z",
     "iopub.status.idle": "2024-03-20T21:04:43.996620Z",
     "shell.execute_reply": "2024-03-20T21:04:43.996208Z",
     "shell.execute_reply.started": "2024-03-20T21:04:43.994454Z"
    }
   },
   "outputs": [],
   "source": [
    "my_selectedvisits = list(df_myselectedvisits.visitId)"
   ]
  },
  {
   "cell_type": "code",
   "execution_count": null,
   "id": "aef11060-62bd-47bb-8e3d-d9943f9a911a",
   "metadata": {
    "execution": {
     "iopub.execute_input": "2024-03-20T21:04:43.997247Z",
     "iopub.status.busy": "2024-03-20T21:04:43.997123Z",
     "iopub.status.idle": "2024-03-20T21:04:44.001549Z",
     "shell.execute_reply": "2024-03-20T21:04:44.001204Z",
     "shell.execute_reply.started": "2024-03-20T21:04:43.997236Z"
    }
   },
   "outputs": [],
   "source": [
    "df_atm = df_myselectedvisits[[\"visitId\",\"PWV\",\"VAOD\",\"Grey\",\"Ozone\"]]"
   ]
  },
  {
   "cell_type": "markdown",
   "id": "cbf3c9e3-8fc7-4b2f-a0bd-70aa0dca8441",
   "metadata": {},
   "source": [
    "## Config"
   ]
  },
  {
   "cell_type": "code",
   "execution_count": null,
   "id": "59fe3761",
   "metadata": {
    "execution": {
     "iopub.execute_input": "2024-03-20T21:04:44.002177Z",
     "iopub.status.busy": "2024-03-20T21:04:44.002049Z",
     "iopub.status.idle": "2024-03-20T21:04:45.215640Z",
     "shell.execute_reply": "2024-03-20T21:04:45.215310Z",
     "shell.execute_reply.started": "2024-03-20T21:04:44.002166Z"
    }
   },
   "outputs": [],
   "source": [
    "# Initiate butler from variables set above\n",
    "butler = Butler(butlerRoot, collections=collection, instrument=instrument, skymap=skymapName)\n",
    "camera = butler.get(\"camera\", instrument=instrument)\n",
    "skymap = butler.get(\"skyMap\")\n",
    "print(\"camera_name = {}\".format(camera.getName()))\n",
    "print(\"collection = {}\".format(collection))"
   ]
  },
  {
   "cell_type": "code",
   "execution_count": null,
   "id": "7525a250-b3b9-4d45-9f21-1a74c8d6f1dc",
   "metadata": {
    "execution": {
     "iopub.execute_input": "2024-03-20T21:04:45.216242Z",
     "iopub.status.busy": "2024-03-20T21:04:45.216115Z",
     "iopub.status.idle": "2024-03-20T21:04:45.341024Z",
     "shell.execute_reply": "2024-03-20T21:04:45.340695Z",
     "shell.execute_reply.started": "2024-03-20T21:04:45.216230Z"
    }
   },
   "outputs": [],
   "source": [
    "# Try to get the Schema\n",
    "data_product = \"isolated_star_sources\"\n",
    "datasetRefs = butler.registry.queryDatasets(datasetType=data_product, collections=collection, where= \"instrument='LATISS'\")\n",
    "for i, ref in enumerate(datasetRefs):\n",
    "    print(i,ref)\n",
    "    butler_data = butler.get(ref)\n",
    "    break\n",
    "\n",
    "if not isinstance(butler_data, pd.core.frame.DataFrame):\n",
    "    print(butler_data.getSchema())"
   ]
  },
  {
   "cell_type": "markdown",
   "id": "122dcf42-a6bd-4c49-b336-39e861c9c5e4",
   "metadata": {},
   "source": [
    "## isolated_star_sources\n",
    "\n",
    "The main starting point is the table of isolated_star_sources which has been constructed in step 2a from a catalog\n",
    "Note that isolated star sources are associated to an object (a static starobject)\n",
    "Here the work is doneband by band.\n",
    "It is a good idea to work band by band."
   ]
  },
  {
   "cell_type": "code",
   "execution_count": null,
   "id": "8856e2a2",
   "metadata": {
    "execution": {
     "iopub.execute_input": "2024-03-20T21:04:45.341634Z",
     "iopub.status.busy": "2024-03-20T21:04:45.341505Z",
     "iopub.status.idle": "2024-03-20T21:04:45.464156Z",
     "shell.execute_reply": "2024-03-20T21:04:45.463720Z",
     "shell.execute_reply.started": "2024-03-20T21:04:45.341622Z"
    }
   },
   "outputs": [],
   "source": [
    "# Load in isolated_star_sources and trim to band of interest and select the tract\n",
    "isolatedStarSourcesFull = butler.get(\"isolated_star_sources\", tract=tract)\n",
    "#isolatedStarSourcesFull = isolatedStarSourcesFull[isolatedStarSourcesFull[\"band\"] == band]"
   ]
  },
  {
   "cell_type": "code",
   "execution_count": null,
   "id": "773ffada-3c31-4e62-b15b-b67926fc6c08",
   "metadata": {
    "execution": {
     "iopub.execute_input": "2024-03-20T21:04:45.464841Z",
     "iopub.status.busy": "2024-03-20T21:04:45.464691Z",
     "iopub.status.idle": "2024-03-20T21:04:45.473851Z",
     "shell.execute_reply": "2024-03-20T21:04:45.473547Z",
     "shell.execute_reply.started": "2024-03-20T21:04:45.464825Z"
    }
   },
   "outputs": [],
   "source": [
    "isolatedStarSourcesFull.head()"
   ]
  },
  {
   "cell_type": "code",
   "execution_count": null,
   "id": "1674462b-8b58-4dde-8086-5e7249ad7290",
   "metadata": {
    "execution": {
     "iopub.execute_input": "2024-03-20T21:04:45.474381Z",
     "iopub.status.busy": "2024-03-20T21:04:45.474261Z",
     "iopub.status.idle": "2024-03-20T21:04:45.478240Z",
     "shell.execute_reply": "2024-03-20T21:04:45.477905Z",
     "shell.execute_reply.started": "2024-03-20T21:04:45.474370Z"
    }
   },
   "outputs": [],
   "source": [
    "isolatedStarSourcesFull.columns"
   ]
  },
  {
   "cell_type": "markdown",
   "id": "f58dda1f-5506-4645-b292-a4446df54b4d",
   "metadata": {},
   "source": [
    "## Select the visits in the preselected list\n",
    "\n",
    "I add here my filter to select the visits I want to focus on from file_selected_visits = \"../data/202402/SelectedVisits_fall2023_tract_3864.csv\"\n",
    "It include all bands"
   ]
  },
  {
   "cell_type": "code",
   "execution_count": null,
   "id": "0d5ce2c3-0bf4-4b99-9973-92aae5b66b22",
   "metadata": {
    "execution": {
     "iopub.execute_input": "2024-03-20T21:04:45.478807Z",
     "iopub.status.busy": "2024-03-20T21:04:45.478683Z",
     "iopub.status.idle": "2024-03-20T21:04:45.484478Z",
     "shell.execute_reply": "2024-03-20T21:04:45.484196Z",
     "shell.execute_reply.started": "2024-03-20T21:04:45.478796Z"
    }
   },
   "outputs": [],
   "source": [
    "def SelectByVisit(row):\n",
    "    if row[\"visit\"] in my_selectedvisits:\n",
    "        return True\n",
    "    else:\n",
    "        return False"
   ]
  },
  {
   "cell_type": "code",
   "execution_count": null,
   "id": "dee7564a-5b01-4198-bfd0-82770cd57156",
   "metadata": {
    "execution": {
     "iopub.execute_input": "2024-03-20T21:04:45.485077Z",
     "iopub.status.busy": "2024-03-20T21:04:45.484887Z",
     "iopub.status.idle": "2024-03-20T21:04:46.298427Z",
     "shell.execute_reply": "2024-03-20T21:04:46.297973Z",
     "shell.execute_reply.started": "2024-03-20T21:04:45.485065Z"
    }
   },
   "outputs": [],
   "source": [
    "isolatedStarSourcesFull[\"flag\"] = isolatedStarSourcesFull.apply(SelectByVisit,axis=1,raw=False)"
   ]
  },
  {
   "cell_type": "code",
   "execution_count": null,
   "id": "43b8528f-670b-405b-aa97-2dbefa735003",
   "metadata": {
    "execution": {
     "iopub.execute_input": "2024-03-20T21:04:46.299105Z",
     "iopub.status.busy": "2024-03-20T21:04:46.298972Z",
     "iopub.status.idle": "2024-03-20T21:04:46.305984Z",
     "shell.execute_reply": "2024-03-20T21:04:46.305609Z",
     "shell.execute_reply.started": "2024-03-20T21:04:46.299093Z"
    }
   },
   "outputs": [],
   "source": [
    "isolatedStarSourcesFull = isolatedStarSourcesFull[isolatedStarSourcesFull[\"flag\"]]\n",
    "isolatedStarSourcesFull.drop(\"flag\",axis=1,inplace=True)"
   ]
  },
  {
   "cell_type": "code",
   "execution_count": null,
   "id": "3a699fdd-697e-4f0a-a5b9-d830f7796754",
   "metadata": {
    "execution": {
     "iopub.execute_input": "2024-03-20T21:04:46.306614Z",
     "iopub.status.busy": "2024-03-20T21:04:46.306489Z",
     "iopub.status.idle": "2024-03-20T21:04:46.317942Z",
     "shell.execute_reply": "2024-03-20T21:04:46.317592Z",
     "shell.execute_reply.started": "2024-03-20T21:04:46.306603Z"
    }
   },
   "outputs": [],
   "source": [
    "isolatedStarSourcesFull"
   ]
  },
  {
   "cell_type": "markdown",
   "id": "9e031569-8bc4-49dc-a480-43be31b1b04c",
   "metadata": {},
   "source": [
    "## Add atmospheric quantities to the isolatedStarSourcesFull"
   ]
  },
  {
   "cell_type": "code",
   "execution_count": null,
   "id": "42a6ef7c-0d4c-46c1-a54e-c23ea71999b5",
   "metadata": {
    "execution": {
     "iopub.execute_input": "2024-03-20T21:04:46.318560Z",
     "iopub.status.busy": "2024-03-20T21:04:46.318426Z",
     "iopub.status.idle": "2024-03-20T21:04:46.546985Z",
     "shell.execute_reply": "2024-03-20T21:04:46.546579Z",
     "shell.execute_reply.started": "2024-03-20T21:04:46.318549Z"
    }
   },
   "outputs": [],
   "source": [
    "isolatedStarSourcesFull = isolatedStarSourcesFull.merge(df_atm, left_on='visit',right_on='visitId',how=\"inner\")\n",
    "isolatedStarSourcesFull[\"nightObs\"] = isolatedStarSourcesFull.apply(lambda x: x['visit']//100_000, axis=1)\n",
    "isolatedStarSourcesFull"
   ]
  },
  {
   "cell_type": "code",
   "execution_count": null,
   "id": "05cd1b17-9aea-4362-a278-97da5377d4c6",
   "metadata": {
    "execution": {
     "iopub.execute_input": "2024-03-20T21:04:46.547678Z",
     "iopub.status.busy": "2024-03-20T21:04:46.547550Z",
     "iopub.status.idle": "2024-03-20T21:04:46.557600Z",
     "shell.execute_reply": "2024-03-20T21:04:46.557267Z",
     "shell.execute_reply.started": "2024-03-20T21:04:46.547666Z"
    }
   },
   "outputs": [],
   "source": [
    "# Just to have a look at what's in the catalog:\n",
    "isolatedStarSourcesFull[isolatedStarSourcesFull.index == 0]"
   ]
  },
  {
   "cell_type": "code",
   "execution_count": null,
   "id": "dadab2ff-40f2-4cb3-8048-d873c0b89f19",
   "metadata": {
    "execution": {
     "iopub.execute_input": "2024-03-20T21:04:46.558190Z",
     "iopub.status.busy": "2024-03-20T21:04:46.558064Z",
     "iopub.status.idle": "2024-03-20T21:04:46.560425Z",
     "shell.execute_reply": "2024-03-20T21:04:46.560049Z",
     "shell.execute_reply.started": "2024-03-20T21:04:46.558179Z"
    }
   },
   "outputs": [],
   "source": [
    "print(\"calibFluxStr = {},minSnCalibFlux = {}, minNumMatches = {}\".format(calibFluxStr,minSnCalibFlux,minNumMatches))"
   ]
  },
  {
   "cell_type": "code",
   "execution_count": null,
   "id": "b1566990-7330-4b3d-8433-c8b811df4dd9",
   "metadata": {
    "execution": {
     "iopub.execute_input": "2024-03-20T21:04:46.561024Z",
     "iopub.status.busy": "2024-03-20T21:04:46.560903Z",
     "iopub.status.idle": "2024-03-20T21:04:46.563819Z",
     "shell.execute_reply": "2024-03-20T21:04:46.563457Z",
     "shell.execute_reply.started": "2024-03-20T21:04:46.561013Z"
    }
   },
   "outputs": [],
   "source": [
    "def convertVisitToDatestr(visit):\n",
    "\n",
    "    num = visit//100_000\n",
    "    year = num//10_000\n",
    "    month= (num-year*10_000)//100\n",
    "    day = (num-year*10_000-month*100)\n",
    "\n",
    "    year_str = str(year).zfill(4)\n",
    "    month_str = str(month).zfill(2)\n",
    "    day_str = str(day).zfill(2)\n",
    "    \n",
    "    datestr = f\"{year_str}-{month_str}-{day_str}\"\n",
    "    return datestr"
   ]
  },
  {
   "cell_type": "code",
   "execution_count": null,
   "id": "e78a9cdd-1906-4b11-90b6-ac09ca7689b1",
   "metadata": {
    "execution": {
     "iopub.execute_input": "2024-03-20T21:04:46.564390Z",
     "iopub.status.busy": "2024-03-20T21:04:46.564268Z",
     "iopub.status.idle": "2024-03-20T21:04:46.575676Z",
     "shell.execute_reply": "2024-03-20T21:04:46.575338Z",
     "shell.execute_reply.started": "2024-03-20T21:04:46.564379Z"
    }
   },
   "outputs": [],
   "source": [
    "def convertVisitToMJD(visit):\n",
    "    return Time(convertVisitToDatestr(visit)).mjd"
   ]
  },
  {
   "cell_type": "markdown",
   "id": "97d9e72e-9b3b-474a-8ac0-f96e6f72f9c3",
   "metadata": {},
   "source": [
    "# Statistic on objects"
   ]
  },
  {
   "cell_type": "code",
   "execution_count": null,
   "id": "d5c01f92-df0a-4791-b5dc-e9fc63f43abe",
   "metadata": {
    "execution": {
     "iopub.execute_input": "2024-03-20T21:04:46.576281Z",
     "iopub.status.busy": "2024-03-20T21:04:46.576140Z",
     "iopub.status.idle": "2024-03-20T21:04:46.592515Z",
     "shell.execute_reply": "2024-03-20T21:04:46.592140Z",
     "shell.execute_reply.started": "2024-03-20T21:04:46.576248Z"
    }
   },
   "outputs": [],
   "source": [
    "source_perobj_perband_pervisit = isolatedStarSourcesFull.groupby(by=[\"obj_index\",\"band\",\"visit\"]).count()[\"ra\"]"
   ]
  },
  {
   "cell_type": "code",
   "execution_count": null,
   "id": "27c2844f-1a5f-4729-b314-5e456b89dac7",
   "metadata": {
    "execution": {
     "iopub.execute_input": "2024-03-20T21:04:46.593147Z",
     "iopub.status.busy": "2024-03-20T21:04:46.593017Z",
     "iopub.status.idle": "2024-03-20T21:04:46.597468Z",
     "shell.execute_reply": "2024-03-20T21:04:46.597146Z",
     "shell.execute_reply.started": "2024-03-20T21:04:46.593136Z"
    }
   },
   "outputs": [],
   "source": [
    "source_perobj_perband_pervisit"
   ]
  },
  {
   "cell_type": "markdown",
   "id": "72c46992-0581-40d7-88aa-29d83079c62d",
   "metadata": {},
   "source": [
    "## All objects"
   ]
  },
  {
   "cell_type": "code",
   "execution_count": null,
   "id": "86b73632-fea5-4a9e-ba72-fdd95e56a4b4",
   "metadata": {
    "execution": {
     "iopub.execute_input": "2024-03-20T21:04:46.598235Z",
     "iopub.status.busy": "2024-03-20T21:04:46.597910Z",
     "iopub.status.idle": "2024-03-20T21:04:46.600417Z",
     "shell.execute_reply": "2024-03-20T21:04:46.599989Z",
     "shell.execute_reply.started": "2024-03-20T21:04:46.598222Z"
    }
   },
   "outputs": [],
   "source": [
    "list_of_object_id = sorted(isolatedStarSourcesFull[\"obj_index\"].unique())\n",
    "Nobj = len(list_of_object_id)"
   ]
  },
  {
   "cell_type": "markdown",
   "id": "633cefac-2d02-4fc1-98ce-fd23eb1f4e89",
   "metadata": {},
   "source": [
    "## Select one object"
   ]
  },
  {
   "cell_type": "code",
   "execution_count": null,
   "id": "fb7ea5ae-4a2f-412c-9fc9-92ed00f53873",
   "metadata": {
    "execution": {
     "iopub.execute_input": "2024-03-20T21:04:46.601016Z",
     "iopub.status.busy": "2024-03-20T21:04:46.600896Z",
     "iopub.status.idle": "2024-03-20T21:04:46.604874Z",
     "shell.execute_reply": "2024-03-20T21:04:46.604415Z",
     "shell.execute_reply.started": "2024-03-20T21:04:46.601005Z"
    }
   },
   "outputs": [],
   "source": [
    "cut_sel_object = isolatedStarSourcesFull.obj_index == 0"
   ]
  },
  {
   "cell_type": "code",
   "execution_count": null,
   "id": "5d413df2-43df-43af-b377-4ee04333905c",
   "metadata": {
    "execution": {
     "iopub.execute_input": "2024-03-20T21:04:46.605501Z",
     "iopub.status.busy": "2024-03-20T21:04:46.605380Z",
     "iopub.status.idle": "2024-03-20T21:04:46.608333Z",
     "shell.execute_reply": "2024-03-20T21:04:46.607960Z",
     "shell.execute_reply.started": "2024-03-20T21:04:46.605490Z"
    }
   },
   "outputs": [],
   "source": [
    "isolatedStarSources_selected = isolatedStarSourcesFull[cut_sel_object]"
   ]
  },
  {
   "cell_type": "code",
   "execution_count": null,
   "id": "a85cefc5-24b3-4810-afc8-f0039451ca94",
   "metadata": {
    "execution": {
     "iopub.execute_input": "2024-03-20T21:04:46.608989Z",
     "iopub.status.busy": "2024-03-20T21:04:46.608870Z",
     "iopub.status.idle": "2024-03-20T21:04:46.614623Z",
     "shell.execute_reply": "2024-03-20T21:04:46.614283Z",
     "shell.execute_reply.started": "2024-03-20T21:04:46.608978Z"
    }
   },
   "outputs": [],
   "source": [
    "isolatedStarSources_selected.groupby(by=\"band\").count()[\"index\"] "
   ]
  },
  {
   "cell_type": "markdown",
   "id": "d4c4557f-6219-45fe-baaf-bdd01374aede",
   "metadata": {},
   "source": [
    "### Number of visit in y"
   ]
  },
  {
   "cell_type": "code",
   "execution_count": null,
   "id": "1dc2a8ed-10b9-413a-af74-669fda528cb8",
   "metadata": {
    "execution": {
     "iopub.execute_input": "2024-03-20T21:04:46.615241Z",
     "iopub.status.busy": "2024-03-20T21:04:46.615109Z",
     "iopub.status.idle": "2024-03-20T21:04:46.617083Z",
     "shell.execute_reply": "2024-03-20T21:04:46.616735Z",
     "shell.execute_reply.started": "2024-03-20T21:04:46.615230Z"
    }
   },
   "outputs": [],
   "source": [
    "NYMIN = 50. # minimum number of visit in Y band\n",
    "NBANDMIN = 4 # nimimum number of bands"
   ]
  },
  {
   "cell_type": "code",
   "execution_count": null,
   "id": "85b17f7c-6397-475e-bf18-d1a1a5cd8c0f",
   "metadata": {
    "execution": {
     "iopub.execute_input": "2024-03-20T21:04:46.617656Z",
     "iopub.status.busy": "2024-03-20T21:04:46.617539Z",
     "iopub.status.idle": "2024-03-20T21:04:47.351252Z",
     "shell.execute_reply": "2024-03-20T21:04:47.350835Z",
     "shell.execute_reply.started": "2024-03-20T21:04:46.617645Z"
    }
   },
   "outputs": [],
   "source": [
    "obj_idx_selected = []\n",
    "\n",
    "for idx in range(Nobj):\n",
    "    cut_sel_object = isolatedStarSourcesFull.obj_index == idx\n",
    "    isolatedStarSources_selected = isolatedStarSourcesFull[cut_sel_object]\n",
    "    \n",
    "    ser= isolatedStarSources_selected.groupby(by=\"band\").count()[\"index\"]\n",
    "    nband = len(ser)\n",
    "    if \"y\" in ser.index and nband>= NBANDMIN:\n",
    "        NY = ser[\"y\"]\n",
    "        if NY>NYMIN:\n",
    "            #print(f\"------------------------ {idx} ------------------------------\")\n",
    "            #print(ser,len(ser))\n",
    "            obj_idx_selected.append(idx)\n",
    "    \n",
    "    "
   ]
  },
  {
   "cell_type": "code",
   "execution_count": null,
   "id": "78e2c954-32bc-4a3d-9c4e-b32034db87cb",
   "metadata": {
    "execution": {
     "iopub.execute_input": "2024-03-20T21:04:47.351924Z",
     "iopub.status.busy": "2024-03-20T21:04:47.351799Z",
     "iopub.status.idle": "2024-03-20T21:04:47.354374Z",
     "shell.execute_reply": "2024-03-20T21:04:47.354016Z",
     "shell.execute_reply.started": "2024-03-20T21:04:47.351912Z"
    }
   },
   "outputs": [],
   "source": [
    "print(obj_idx_selected)"
   ]
  },
  {
   "cell_type": "code",
   "execution_count": null,
   "id": "412aad98-2808-4a4f-9d92-0263ba750ca7",
   "metadata": {
    "execution": {
     "iopub.execute_input": "2024-03-20T21:04:47.354939Z",
     "iopub.status.busy": "2024-03-20T21:04:47.354821Z",
     "iopub.status.idle": "2024-03-20T21:04:47.358867Z",
     "shell.execute_reply": "2024-03-20T21:04:47.358524Z",
     "shell.execute_reply.started": "2024-03-20T21:04:47.354928Z"
    }
   },
   "outputs": [],
   "source": [
    "idx_obj_sel = 3\n",
    "cut_sel_object = isolatedStarSourcesFull.obj_index == idx_obj_sel \n",
    "isolatedStarSources_sel = isolatedStarSourcesFull[cut_sel_object] "
   ]
  },
  {
   "cell_type": "code",
   "execution_count": null,
   "id": "5da094eb-53cf-4581-b38d-5522235dd316",
   "metadata": {
    "execution": {
     "iopub.execute_input": "2024-03-20T21:04:47.359442Z",
     "iopub.status.busy": "2024-03-20T21:04:47.359325Z",
     "iopub.status.idle": "2024-03-20T21:04:47.374801Z",
     "shell.execute_reply": "2024-03-20T21:04:47.374428Z",
     "shell.execute_reply.started": "2024-03-20T21:04:47.359431Z"
    }
   },
   "outputs": [],
   "source": [
    "isolatedStarSources_sel"
   ]
  },
  {
   "cell_type": "code",
   "execution_count": null,
   "id": "d2209a25-2b49-4d21-a75d-2da49d3b8072",
   "metadata": {
    "execution": {
     "iopub.execute_input": "2024-03-20T21:04:47.375352Z",
     "iopub.status.busy": "2024-03-20T21:04:47.375235Z",
     "iopub.status.idle": "2024-03-20T21:04:47.378707Z",
     "shell.execute_reply": "2024-03-20T21:04:47.378369Z",
     "shell.execute_reply.started": "2024-03-20T21:04:47.375341Z"
    }
   },
   "outputs": [],
   "source": [
    "isolatedStarSources_sel_g = isolatedStarSources_sel[isolatedStarSources_sel[\"band\"] == \"g\"]\n",
    "isolatedStarSources_sel_r = isolatedStarSources_sel[isolatedStarSources_sel[\"band\"] == \"r\"]\n",
    "isolatedStarSources_sel_z = isolatedStarSources_sel[isolatedStarSources_sel[\"band\"] == \"z\"]\n",
    "isolatedStarSources_sel_y = isolatedStarSources_sel[isolatedStarSources_sel[\"band\"] == \"y\"]"
   ]
  },
  {
   "cell_type": "code",
   "execution_count": null,
   "id": "947b0765-5550-44ce-95bd-e1c8d2b89ca9",
   "metadata": {
    "execution": {
     "iopub.execute_input": "2024-03-20T21:04:47.379300Z",
     "iopub.status.busy": "2024-03-20T21:04:47.379183Z",
     "iopub.status.idle": "2024-03-20T21:04:47.762395Z",
     "shell.execute_reply": "2024-03-20T21:04:47.761995Z",
     "shell.execute_reply.started": "2024-03-20T21:04:47.379290Z"
    }
   },
   "outputs": [],
   "source": [
    "fig,axes = plt.subplots(1,4,figsize=(10,3),sharey=True)\n",
    "axs= axes.flatten()\n",
    "for idx,ax in enumerate(axs):\n",
    "    if idx==0:\n",
    "        isolatedStarSources_sel_g[\"apFlux_35_0_instFlux\"].hist(bins=40,facecolor=\"g\",ax=ax, orientation=\"horizontal\")\n",
    "    elif idx==1:\n",
    "        isolatedStarSources_sel_r[\"apFlux_35_0_instFlux\"].hist(bins=40,facecolor=\"r\",ax=ax, orientation=\"horizontal\")\n",
    "    elif idx==2:\n",
    "        isolatedStarSources_sel_z[\"apFlux_35_0_instFlux\"].hist(bins=40,facecolor=\"grey\",ax=ax, orientation=\"horizontal\")\n",
    "    elif idx==3:\n",
    "        isolatedStarSources_sel_y[\"apFlux_35_0_instFlux\"].hist(bins=40,facecolor=\"k\",ax=ax, orientation=\"horizontal\")\n",
    "plt.tight_layout(h_pad=0)        \n",
    "#plt.tight_layout()"
   ]
  },
  {
   "cell_type": "code",
   "execution_count": null,
   "id": "0cbc6274-0b10-475c-8f14-f0465c7d5e28",
   "metadata": {
    "execution": {
     "iopub.execute_input": "2024-03-20T21:06:59.793544Z",
     "iopub.status.busy": "2024-03-20T21:06:59.793046Z",
     "iopub.status.idle": "2024-03-20T21:07:26.143182Z",
     "shell.execute_reply": "2024-03-20T21:07:26.142702Z",
     "shell.execute_reply.started": "2024-03-20T21:06:59.793529Z"
    }
   },
   "outputs": [],
   "source": [
    "for idx_obj_sel in obj_idx_selected:\n",
    "    cut_sel_object = isolatedStarSourcesFull.obj_index == idx_obj_sel \n",
    "    isolatedStarSources_sel = isolatedStarSourcesFull[cut_sel_object] \n",
    "\n",
    "    isolatedStarSources_sel_g = isolatedStarSources_sel[isolatedStarSources_sel[\"band\"] == \"g\"]\n",
    "    isolatedStarSources_sel_r = isolatedStarSources_sel[isolatedStarSources_sel[\"band\"] == \"r\"]\n",
    "    isolatedStarSources_sel_z = isolatedStarSources_sel[isolatedStarSources_sel[\"band\"] == \"z\"]\n",
    "    isolatedStarSources_sel_y = isolatedStarSources_sel[isolatedStarSources_sel[\"band\"] == \"y\"]\n",
    "\n",
    "    fig,axes = plt.subplots(1,4,figsize=(10,3),sharey=True)\n",
    "    axs= axes.flatten()\n",
    "    for idx,ax in enumerate(axs):\n",
    "        if idx==0:\n",
    "            isolatedStarSources_sel_g[\"apFlux_35_0_instFlux\"].hist(bins=40,facecolor=\"g\",ax=ax, orientation=\"horizontal\")\n",
    "            ax.legend(\"g\")\n",
    "        elif idx==1:\n",
    "            isolatedStarSources_sel_r[\"apFlux_35_0_instFlux\"].hist(bins=40,facecolor=\"r\",ax=ax, orientation=\"horizontal\")\n",
    "            ax.legend(\"r\")\n",
    "        elif idx==2:\n",
    "            isolatedStarSources_sel_z[\"apFlux_35_0_instFlux\"].hist(bins=40,facecolor=\"grey\",ax=ax, orientation=\"horizontal\")\n",
    "            ax.legend(\"z\")\n",
    "        elif idx==3:\n",
    "            isolatedStarSources_sel_y[\"apFlux_35_0_instFlux\"].hist(bins=40,facecolor=\"k\",ax=ax, orientation=\"horizontal\")\n",
    "            ax.legend(\"y\")\n",
    "    plt.tight_layout(h_pad=0)  \n",
    "    title =f\"object {idx_obj_sel}\"\n",
    "    filename = f\"sed_color_obj_{idx_obj_sel}.png\"\n",
    "    plt.suptitle(title,y=1.000)\n",
    "    plt.savefig(filename)\n",
    "    plt.show()\n",
    "    "
   ]
  },
  {
   "cell_type": "code",
   "execution_count": null,
   "id": "084c5a06-cc01-498a-a5d4-2c541f27f994",
   "metadata": {},
   "outputs": [],
   "source": []
  }
 ],
 "metadata": {
  "kernelspec": {
   "display_name": "LSST",
   "language": "python",
   "name": "lsst"
  },
  "language_info": {
   "codemirror_mode": {
    "name": "ipython",
    "version": 3
   },
   "file_extension": ".py",
   "mimetype": "text/x-python",
   "name": "python",
   "nbconvert_exporter": "python",
   "pygments_lexer": "ipython3",
   "version": "3.11.7"
  }
 },
 "nbformat": 4,
 "nbformat_minor": 5
}
