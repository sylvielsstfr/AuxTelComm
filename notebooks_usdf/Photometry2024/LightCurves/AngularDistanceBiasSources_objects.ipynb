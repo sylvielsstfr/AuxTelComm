{
 "cells": [
  {
   "cell_type": "markdown",
   "id": "5fb8b13a-5169-4188-9fb8-8bfb44518205",
   "metadata": {},
   "source": [
    "# Angular distance bias between sources and objects\n",
    "\n",
    "- author Sylvie Dagoret-Campagne\n",
    "- creation date 2024-04-05\n",
    "- last update 2024-04-05\n",
    "  \n",
    "``Quantum Graphs``: https://tigress-web.princeton.edu/~lkelvin/pipelines/ \n",
    "\n",
    "\n",
    "Apparently isolated sources are removed from object table\n",
    "\n",
    "\n",
    " "
   ]
  },
  {
   "cell_type": "code",
   "execution_count": null,
   "id": "3de4fd1f-8c60-4d0e-be77-c516b572c25a",
   "metadata": {
    "execution": {
     "iopub.execute_input": "2024-04-09T17:42:45.155958Z",
     "iopub.status.busy": "2024-04-09T17:42:45.155836Z",
     "iopub.status.idle": "2024-04-09T17:42:46.815268Z",
     "shell.execute_reply": "2024-04-09T17:42:46.814814Z",
     "shell.execute_reply.started": "2024-04-09T17:42:45.155946Z"
    }
   },
   "outputs": [],
   "source": [
    "from lsst.daf.butler import Butler\n",
    "\n",
    "import astropy.units as u\n",
    "import numpy as np \n",
    "import pandas as pd\n",
    "pd.set_option(\"display.max_columns\", None)\n",
    "from astropy.time import Time\n",
    "\n",
    "import scipy.stats\n",
    "\n",
    "import matplotlib\n",
    "%matplotlib inline\n",
    "from matplotlib import pyplot as plt\n",
    "from mpl_toolkits.axes_grid1 import make_axes_locatable\n",
    "from matplotlib.colors import LogNorm,SymLogNorm\n",
    "\n",
    "import lsst.afw.display.rgb as afwRgb\n",
    "import lsst.afw.image as afwImage\n",
    "import lsst.geom as geom\n",
    "import pickle\n",
    "from astropy.stats import SigmaClip"
   ]
  },
  {
   "cell_type": "code",
   "execution_count": null,
   "id": "534790ff-0b3d-4d49-9d6f-30def6c6e816",
   "metadata": {
    "execution": {
     "iopub.execute_input": "2024-04-09T17:42:46.816156Z",
     "iopub.status.busy": "2024-04-09T17:42:46.815833Z",
     "iopub.status.idle": "2024-04-09T17:42:46.818525Z",
     "shell.execute_reply": "2024-04-09T17:42:46.818175Z",
     "shell.execute_reply.started": "2024-04-09T17:42:46.816142Z"
    }
   },
   "outputs": [],
   "source": [
    "plt.rcParams[\"figure.figsize\"] = (10,6)\n",
    "plt.rcParams[\"axes.labelsize\"] = 'large'\n",
    "plt.rcParams['axes.titlesize'] = 'large'\n",
    "plt.rcParams['xtick.labelsize']= 'large'\n",
    "plt.rcParams['ytick.labelsize']= 'large'"
   ]
  },
  {
   "cell_type": "code",
   "execution_count": null,
   "id": "dfcfc3c9-242a-4016-bad7-4e0a12acd3d8",
   "metadata": {
    "execution": {
     "iopub.execute_input": "2024-04-09T17:42:46.819106Z",
     "iopub.status.busy": "2024-04-09T17:42:46.818976Z",
     "iopub.status.idle": "2024-04-09T17:42:46.823967Z",
     "shell.execute_reply": "2024-04-09T17:42:46.823593Z",
     "shell.execute_reply.started": "2024-04-09T17:42:46.819095Z"
    }
   },
   "outputs": [],
   "source": [
    "def get_corners_radec(wcs, bbox):\n",
    "    \"\"\"\n",
    "    Return the corners in RA,Dec in degrees given the WCS and bounding box for an image.\n",
    "\n",
    "    Parameters\n",
    "    ----------\n",
    "    wcs: image WCS returned by the Butler\n",
    "    bbox: bounding box returned by the Butler\n",
    "\n",
    "    Returns\n",
    "    -------\n",
    "    corners_ra, corners_dec in decimal degrees\n",
    "    \"\"\"\n",
    "\n",
    "    corners_x = [bbox.beginX, bbox.beginX, bbox.endX, bbox.endX]\n",
    "    corners_y = [bbox.beginY, bbox.endY, bbox.endY, bbox.beginY]\n",
    "    corners_ra = []\n",
    "    corners_dec = []\n",
    "    for i in range(4):\n",
    "        radec = wcs.pixelToSky(corners_x[i], corners_y[i])\n",
    "        corners_ra.append(radec.getRa().asDegrees())\n",
    "        corners_dec.append(radec.getDec().asDegrees())\n",
    "    \n",
    "    return corners_ra, corners_dec"
   ]
  },
  {
   "cell_type": "code",
   "execution_count": null,
   "id": "08e874a8-07ac-4de1-8577-895f94d4cdee",
   "metadata": {
    "execution": {
     "iopub.execute_input": "2024-04-09T17:42:46.825441Z",
     "iopub.status.busy": "2024-04-09T17:42:46.825247Z",
     "iopub.status.idle": "2024-04-09T17:42:46.829318Z",
     "shell.execute_reply": "2024-04-09T17:42:46.828974Z",
     "shell.execute_reply.started": "2024-04-09T17:42:46.825428Z"
    }
   },
   "outputs": [],
   "source": [
    "def convert_fluxtomag(x) :\n",
    "    \"\"\"\n",
    "    The object and source catalogs store only fluxes. There are hundreds of flux-related columns, \n",
    "    and to store them also as magnitudes would be redundant, and a waste of space.\n",
    "    All flux units are nanojanskys. The AB Magnitudes Wikipedia page provides a concise resource \n",
    "    for users unfamiliar with AB magnitudes and jansky fluxes. To convert to AB magnitudes use:\n",
    "    As demonstrated in Section 2.3.2, to add columns of magnitudes after retrieving columns of flux, users can do this:\n",
    "    results_table['r_calibMag'] = -2.50 * numpy.log10(results_table['r_calibFlux']) + 31.4\n",
    "    results_table['r_cModelMag'] = -2.50 * numpy.log10(results_table['r_cModelFlux']) + 31.4\n",
    "    (from DP0 tutorial)\n",
    "    \"\"\"\n",
    "    return -2.50 * np.log10(x) + 31.4"
   ]
  },
  {
   "cell_type": "code",
   "execution_count": null,
   "id": "313383f9",
   "metadata": {
    "execution": {
     "iopub.execute_input": "2024-04-09T17:42:46.829907Z",
     "iopub.status.busy": "2024-04-09T17:42:46.829784Z",
     "iopub.status.idle": "2024-04-09T17:42:46.834012Z",
     "shell.execute_reply": "2024-04-09T17:42:46.833677Z",
     "shell.execute_reply.started": "2024-04-09T17:42:46.829895Z"
    }
   },
   "outputs": [],
   "source": [
    "# INSERT YOUR auxTel/LATISS collection and tract/band HERE\n",
    "butlerRoot = \"/repo/embargo\"\n",
    "# collection = \"LATISS/runs/AUXTEL_DRP_IMAGING_20230509_20231207/w_2023_49/PREOPS-4648\"\n",
    "#collection = \"LATISS/runs/AUXTEL_DRP_IMAGING_20230509_20240201/w_2024_05/PREOPS-4871\"\n",
    "collection = \"LATISS/runs/AUXTEL_DRP_IMAGING_20230509_20240311/w_2024_10/PREOPS-4985\"\n",
    "\n",
    "collectionStr = collection.replace(\"/\", \"_\")\n",
    "instrument = \"LATISS\"\n",
    "skymapName = \"latiss_v1\"\n",
    "\n",
    "tract = 3864\n",
    "suptitle = collectionStr + f\" inst = {instrument} tract = {tract}\"\n",
    "\n"
   ]
  },
  {
   "cell_type": "markdown",
   "id": "ed31cddb-dfe0-425d-b1d3-b45fb2d3482a",
   "metadata": {},
   "source": [
    "## Initiate butler from variables set above"
   ]
  },
  {
   "cell_type": "code",
   "execution_count": null,
   "id": "36adc6e2-03ab-4642-9955-02be089091ef",
   "metadata": {
    "execution": {
     "iopub.execute_input": "2024-04-09T17:42:46.834572Z",
     "iopub.status.busy": "2024-04-09T17:42:46.834456Z",
     "iopub.status.idle": "2024-04-09T17:42:48.119629Z",
     "shell.execute_reply": "2024-04-09T17:42:48.119187Z",
     "shell.execute_reply.started": "2024-04-09T17:42:46.834561Z"
    }
   },
   "outputs": [],
   "source": [
    "# Initiate butler from variables set above\n",
    "butler = Butler(butlerRoot, collections=collection, instrument=instrument, skymap=skymapName)\n",
    "camera = butler.get(\"camera\", instrument=instrument)\n",
    "skymap = butler.get(\"skyMap\")\n",
    "print(\"camera_name = {}\".format(camera.getName()))\n",
    "print(\"collection = {}\".format(collection))"
   ]
  },
  {
   "cell_type": "markdown",
   "id": "2cfc46cc-47af-4a18-ac72-aef517f0ce7d",
   "metadata": {},
   "source": [
    "## load isolated_star_sources"
   ]
  },
  {
   "cell_type": "code",
   "execution_count": null,
   "id": "c8cbc8e2-711b-4175-92c3-61aa37beee5b",
   "metadata": {
    "execution": {
     "iopub.execute_input": "2024-04-09T17:42:48.120315Z",
     "iopub.status.busy": "2024-04-09T17:42:48.120183Z",
     "iopub.status.idle": "2024-04-09T17:42:48.320864Z",
     "shell.execute_reply": "2024-04-09T17:42:48.320469Z",
     "shell.execute_reply.started": "2024-04-09T17:42:48.120302Z"
    }
   },
   "outputs": [],
   "source": [
    "# Try to get the Schema\n",
    "data_product = \"isolated_star_sources\"\n",
    "datasetRefs = butler.registry.queryDatasets(datasetType=data_product, collections=collection, where= \"instrument='LATISS'\")\n",
    "for i, ref in enumerate(datasetRefs):\n",
    "    print(i,ref)\n",
    "    butler_data = butler.get(ref)\n",
    "    break\n",
    "\n",
    "if not isinstance(butler_data, pd.core.frame.DataFrame):\n",
    "    print(butler_data.getSchema())"
   ]
  },
  {
   "cell_type": "code",
   "execution_count": null,
   "id": "8856e2a2",
   "metadata": {
    "execution": {
     "iopub.execute_input": "2024-04-09T17:42:48.321517Z",
     "iopub.status.busy": "2024-04-09T17:42:48.321384Z",
     "iopub.status.idle": "2024-04-09T17:42:48.512182Z",
     "shell.execute_reply": "2024-04-09T17:42:48.511729Z",
     "shell.execute_reply.started": "2024-04-09T17:42:48.321503Z"
    }
   },
   "outputs": [],
   "source": [
    "# Load in isolated_star_sources and trim to band of interest and select the tract\n",
    "isolatedStarSourcesFull = butler.get(\"isolated_star_sources\", tract=tract)\n",
    "#isolatedStarSourcesFull = isolatedStarSourcesFull[isolatedStarSourcesFull[\"band\"] == band]"
   ]
  },
  {
   "cell_type": "code",
   "execution_count": null,
   "id": "6870648f-3609-440d-8eea-69885e264602",
   "metadata": {
    "execution": {
     "iopub.execute_input": "2024-04-09T17:42:48.512937Z",
     "iopub.status.busy": "2024-04-09T17:42:48.512804Z",
     "iopub.status.idle": "2024-04-09T17:42:48.523351Z",
     "shell.execute_reply": "2024-04-09T17:42:48.523015Z",
     "shell.execute_reply.started": "2024-04-09T17:42:48.512925Z"
    }
   },
   "outputs": [],
   "source": [
    "# Just to have a look at what's in the catalog:\n",
    "isolatedStarSourcesFull[isolatedStarSourcesFull.index == 0]"
   ]
  },
  {
   "cell_type": "code",
   "execution_count": null,
   "id": "773ffada-3c31-4e62-b15b-b67926fc6c08",
   "metadata": {
    "execution": {
     "iopub.execute_input": "2024-04-09T17:42:48.523907Z",
     "iopub.status.busy": "2024-04-09T17:42:48.523788Z",
     "iopub.status.idle": "2024-04-09T17:42:48.532816Z",
     "shell.execute_reply": "2024-04-09T17:42:48.532475Z",
     "shell.execute_reply.started": "2024-04-09T17:42:48.523897Z"
    }
   },
   "outputs": [],
   "source": [
    "isolatedStarSourcesFull.head()"
   ]
  },
  {
   "cell_type": "code",
   "execution_count": null,
   "id": "c5b25eeb-5b8c-4b49-b556-496198adf8a5",
   "metadata": {
    "execution": {
     "iopub.execute_input": "2024-04-09T17:42:48.533415Z",
     "iopub.status.busy": "2024-04-09T17:42:48.533292Z",
     "iopub.status.idle": "2024-04-09T17:42:48.545326Z",
     "shell.execute_reply": "2024-04-09T17:42:48.544971Z",
     "shell.execute_reply.started": "2024-04-09T17:42:48.533404Z"
    }
   },
   "outputs": [],
   "source": [
    "isolatedStarSourcesFull.tail()"
   ]
  },
  {
   "cell_type": "code",
   "execution_count": null,
   "id": "1674462b-8b58-4dde-8086-5e7249ad7290",
   "metadata": {
    "execution": {
     "iopub.execute_input": "2024-04-09T17:42:48.546102Z",
     "iopub.status.busy": "2024-04-09T17:42:48.545810Z",
     "iopub.status.idle": "2024-04-09T17:42:48.550891Z",
     "shell.execute_reply": "2024-04-09T17:42:48.550573Z",
     "shell.execute_reply.started": "2024-04-09T17:42:48.546090Z"
    }
   },
   "outputs": [],
   "source": [
    "isolatedStarSourcesFull.columns"
   ]
  },
  {
   "cell_type": "code",
   "execution_count": null,
   "id": "160b31e8-e76e-474e-adc5-4ad19833fd71",
   "metadata": {
    "execution": {
     "iopub.execute_input": "2024-04-09T17:42:48.551654Z",
     "iopub.status.busy": "2024-04-09T17:42:48.551342Z",
     "iopub.status.idle": "2024-04-09T17:42:48.557111Z",
     "shell.execute_reply": "2024-04-09T17:42:48.556781Z",
     "shell.execute_reply.started": "2024-04-09T17:42:48.551641Z"
    }
   },
   "outputs": [],
   "source": [
    "#print(sorted(isolatedStarSourcesFull[\"visit\"].unique()))"
   ]
  },
  {
   "cell_type": "code",
   "execution_count": null,
   "id": "05cd1b17-9aea-4362-a278-97da5377d4c6",
   "metadata": {
    "execution": {
     "iopub.execute_input": "2024-04-09T17:42:48.557704Z",
     "iopub.status.busy": "2024-04-09T17:42:48.557586Z",
     "iopub.status.idle": "2024-04-09T17:42:48.570478Z",
     "shell.execute_reply": "2024-04-09T17:42:48.570146Z",
     "shell.execute_reply.started": "2024-04-09T17:42:48.557693Z"
    }
   },
   "outputs": [],
   "source": [
    "# Just to have a look at what's in the catalog:\n",
    "isolatedStarSourcesFull[isolatedStarSourcesFull.index == 0]"
   ]
  },
  {
   "cell_type": "code",
   "execution_count": null,
   "id": "b088ed71-dad9-44d2-974a-0421aebe01c2",
   "metadata": {
    "execution": {
     "iopub.execute_input": "2024-04-09T17:42:48.571155Z",
     "iopub.status.busy": "2024-04-09T17:42:48.571006Z",
     "iopub.status.idle": "2024-04-09T17:42:48.603597Z",
     "shell.execute_reply": "2024-04-09T17:42:48.603182Z",
     "shell.execute_reply.started": "2024-04-09T17:42:48.571143Z"
    }
   },
   "outputs": [],
   "source": [
    "isolatedStarSources_g = isolatedStarSourcesFull[isolatedStarSourcesFull.band==\"g\"]\n",
    "isolatedStarSources_r = isolatedStarSourcesFull[isolatedStarSourcesFull.band==\"r\"]\n",
    "isolatedStarSources_i = isolatedStarSourcesFull[isolatedStarSourcesFull.band==\"i\"]"
   ]
  },
  {
   "cell_type": "markdown",
   "id": "33a7cbf8-baf0-487b-9357-b17d2068d92b",
   "metadata": {},
   "source": [
    "## Load object table"
   ]
  },
  {
   "cell_type": "code",
   "execution_count": null,
   "id": "3ceae5fa-ba18-41af-96e3-0c761b2b366a",
   "metadata": {
    "execution": {
     "iopub.execute_input": "2024-04-09T17:42:48.604197Z",
     "iopub.status.busy": "2024-04-09T17:42:48.604077Z",
     "iopub.status.idle": "2024-04-09T17:42:48.605940Z",
     "shell.execute_reply": "2024-04-09T17:42:48.605629Z",
     "shell.execute_reply.started": "2024-04-09T17:42:48.604186Z"
    }
   },
   "outputs": [],
   "source": [
    "#objectTable = butler.get(\"objectTable\", tract=tract)"
   ]
  },
  {
   "cell_type": "code",
   "execution_count": null,
   "id": "bf097dda-1ace-4344-b4b8-f28c3f865a4a",
   "metadata": {
    "execution": {
     "iopub.execute_input": "2024-04-09T17:42:48.606484Z",
     "iopub.status.busy": "2024-04-09T17:42:48.606370Z",
     "iopub.status.idle": "2024-04-09T17:42:48.677763Z",
     "shell.execute_reply": "2024-04-09T17:42:48.677413Z",
     "shell.execute_reply.started": "2024-04-09T17:42:48.606473Z"
    }
   },
   "outputs": [],
   "source": [
    "datasetRefs = butler.registry.queryDatasets(datasetType='objectTable', collections=collection, where= \"instrument='LATISS'\")"
   ]
  },
  {
   "cell_type": "code",
   "execution_count": null,
   "id": "44694920-01c2-42f1-bfed-2ac37142f126",
   "metadata": {
    "execution": {
     "iopub.execute_input": "2024-04-09T17:42:48.678362Z",
     "iopub.status.busy": "2024-04-09T17:42:48.678239Z",
     "iopub.status.idle": "2024-04-09T17:42:50.728038Z",
     "shell.execute_reply": "2024-04-09T17:42:50.727634Z",
     "shell.execute_reply.started": "2024-04-09T17:42:48.678351Z"
    }
   },
   "outputs": [],
   "source": [
    "all_objectsTables = []\n",
    "\n",
    "for i, ref in enumerate(datasetRefs):\n",
    "    \n",
    "    print(\"========================datasetType = objectTable ============================================\")\n",
    "    print(\"fullId..................:\",ref.dataId.full)\n",
    "    print(\"skymap...................:\",ref.dataId[\"skymap\"])\n",
    "    print(\"tract....................:\",ref.dataId[\"tract\"])\n",
    "    print(\"patch....................:\",ref.dataId[\"patch\"])\n",
    "    print(\"run......................:\",ref.run)\n",
    "\n",
    "    if ref.dataId[\"tract\"] == tract:\n",
    "        df_tab=  butler.get(ref,collections=collection)\n",
    "        all_objectsTables.append(df_tab) "
   ]
  },
  {
   "cell_type": "code",
   "execution_count": null,
   "id": "b672dc62-d0c5-4350-b889-8ad768aefaff",
   "metadata": {
    "execution": {
     "iopub.execute_input": "2024-04-09T17:42:50.730504Z",
     "iopub.status.busy": "2024-04-09T17:42:50.730373Z",
     "iopub.status.idle": "2024-04-09T17:42:50.796814Z",
     "shell.execute_reply": "2024-04-09T17:42:50.796370Z",
     "shell.execute_reply.started": "2024-04-09T17:42:50.730492Z"
    }
   },
   "outputs": [],
   "source": [
    "objectTable = pd.concat(all_objectsTables)"
   ]
  },
  {
   "cell_type": "code",
   "execution_count": null,
   "id": "c37bde79-7b48-4614-b1ef-2ee87ada6657",
   "metadata": {
    "execution": {
     "iopub.execute_input": "2024-04-09T17:42:50.797574Z",
     "iopub.status.busy": "2024-04-09T17:42:50.797443Z",
     "iopub.status.idle": "2024-04-09T17:42:50.799431Z",
     "shell.execute_reply": "2024-04-09T17:42:50.799097Z",
     "shell.execute_reply.started": "2024-04-09T17:42:50.797561Z"
    }
   },
   "outputs": [],
   "source": [
    "#list(objectTable.columns)"
   ]
  },
  {
   "cell_type": "code",
   "execution_count": null,
   "id": "3f25f456-67d9-40f4-9725-32a24da8107d",
   "metadata": {
    "execution": {
     "iopub.execute_input": "2024-04-09T17:42:50.799987Z",
     "iopub.status.busy": "2024-04-09T17:42:50.799869Z",
     "iopub.status.idle": "2024-04-09T17:42:53.568953Z",
     "shell.execute_reply": "2024-04-09T17:42:53.568479Z",
     "shell.execute_reply.started": "2024-04-09T17:42:50.799977Z"
    }
   },
   "outputs": [],
   "source": [
    "fig,ax = plt.subplots(1,1,figsize=(8,8))\n",
    "objectTable.plot.scatter(x=\"coord_ra\",y=\"coord_dec\",marker=\"+\",color='b',grid=True,ax=ax)\n",
    "plt.gca().set_aspect('equal')\n",
    "#plt.grid()"
   ]
  },
  {
   "cell_type": "code",
   "execution_count": null,
   "id": "df38b14a-de42-4f06-af5a-2207baf05ad5",
   "metadata": {
    "execution": {
     "iopub.execute_input": "2024-04-09T17:42:53.569771Z",
     "iopub.status.busy": "2024-04-09T17:42:53.569628Z",
     "iopub.status.idle": "2024-04-09T17:42:53.571878Z",
     "shell.execute_reply": "2024-04-09T17:42:53.571514Z",
     "shell.execute_reply.started": "2024-04-09T17:42:53.569758Z"
    }
   },
   "outputs": [],
   "source": [
    "#objectTable[objectTable.detect_isPrimary].refSizeExtendedness.hist(bins=50)"
   ]
  },
  {
   "cell_type": "code",
   "execution_count": null,
   "id": "da3d3ac3-13da-475b-bee4-ffd476f515ae",
   "metadata": {
    "execution": {
     "iopub.execute_input": "2024-04-09T17:42:53.572478Z",
     "iopub.status.busy": "2024-04-09T17:42:53.572354Z",
     "iopub.status.idle": "2024-04-09T17:42:53.579629Z",
     "shell.execute_reply": "2024-04-09T17:42:53.579279Z",
     "shell.execute_reply.started": "2024-04-09T17:42:53.572466Z"
    }
   },
   "outputs": [],
   "source": [
    "selection = (objectTable.refSizeExtendedness<0.1) & (objectTable.detect_isPrimary) & (objectTable.detect_isIsolated)"
   ]
  },
  {
   "cell_type": "code",
   "execution_count": null,
   "id": "689e0ed3-7844-4613-85e6-87fdd06bd482",
   "metadata": {
    "execution": {
     "iopub.execute_input": "2024-04-09T17:42:53.580244Z",
     "iopub.status.busy": "2024-04-09T17:42:53.580119Z",
     "iopub.status.idle": "2024-04-09T17:42:53.858644Z",
     "shell.execute_reply": "2024-04-09T17:42:53.858249Z",
     "shell.execute_reply.started": "2024-04-09T17:42:53.580232Z"
    }
   },
   "outputs": [],
   "source": [
    "fig,ax = plt.subplots(1,1,figsize=(8,8))\n",
    "objectTable[selection].plot.scatter(x=\"coord_ra\",y=\"coord_dec\",marker=\"+\",color='k',ax=ax)\n",
    "isolatedStarSources_g.plot.scatter(x=\"ra\",y=\"dec\",marker=\"+\",color=\"g\",ax=ax,label=\"sources g\")\n",
    "plt.gca().set_aspect('equal')\n",
    "plt.grid()"
   ]
  },
  {
   "cell_type": "code",
   "execution_count": null,
   "id": "465ff66a-10b0-4fd9-afc5-634a69dc03be",
   "metadata": {
    "execution": {
     "iopub.execute_input": "2024-04-09T17:42:53.859381Z",
     "iopub.status.busy": "2024-04-09T17:42:53.859202Z",
     "iopub.status.idle": "2024-04-09T17:42:54.154584Z",
     "shell.execute_reply": "2024-04-09T17:42:54.154157Z",
     "shell.execute_reply.started": "2024-04-09T17:42:53.859369Z"
    }
   },
   "outputs": [],
   "source": [
    "fig,ax = plt.subplots(1,1,figsize=(8,8))\n",
    "objectTable[selection].plot.scatter(x=\"coord_ra\",y=\"coord_dec\",marker=\"+\",color='k',ax=ax)\n",
    "isolatedStarSources_r.plot.scatter(x=\"ra\",y=\"dec\",marker=\"+\",color=\"r\",ax=ax,label=\"sources r\")\n",
    "plt.gca().set_aspect('equal')\n",
    "plt.grid()"
   ]
  },
  {
   "cell_type": "code",
   "execution_count": null,
   "id": "8c87e334-ece6-409c-b934-3213f9f432a2",
   "metadata": {
    "execution": {
     "iopub.execute_input": "2024-04-09T17:42:54.155355Z",
     "iopub.status.busy": "2024-04-09T17:42:54.155213Z",
     "iopub.status.idle": "2024-04-09T17:42:54.311574Z",
     "shell.execute_reply": "2024-04-09T17:42:54.311172Z",
     "shell.execute_reply.started": "2024-04-09T17:42:54.155343Z"
    }
   },
   "outputs": [],
   "source": [
    "fig,ax = plt.subplots(1,1,figsize=(8,8))\n",
    "objectTable[selection].plot.scatter(x=\"coord_ra\",y=\"coord_dec\",marker=\"+\",color='k',ax=ax)\n",
    "isolatedStarSources_i.plot.scatter(x=\"ra\",y=\"dec\",marker=\"+\",color=\"orange\",ax=ax,label=\"sources i\")\n",
    "plt.gca().set_aspect('equal')\n",
    "plt.grid()"
   ]
  },
  {
   "cell_type": "code",
   "execution_count": null,
   "id": "b767b65a-9a7c-4632-81d7-4e9163946e8e",
   "metadata": {
    "execution": {
     "iopub.execute_input": "2024-04-09T17:42:54.312304Z",
     "iopub.status.busy": "2024-04-09T17:42:54.312159Z",
     "iopub.status.idle": "2024-04-09T17:42:54.314297Z",
     "shell.execute_reply": "2024-04-09T17:42:54.313920Z",
     "shell.execute_reply.started": "2024-04-09T17:42:54.312291Z"
    }
   },
   "outputs": [],
   "source": [
    "#objectTable[objectTable.refSizeExtendedness>0.9].plot.scatter(x=\"coord_ra\",y=\"coord_dec\",marker=\"+\")"
   ]
  },
  {
   "cell_type": "code",
   "execution_count": null,
   "id": "6ba1e318-8358-49c1-851b-54c72d80eea0",
   "metadata": {
    "execution": {
     "iopub.execute_input": "2024-04-09T17:42:54.314927Z",
     "iopub.status.busy": "2024-04-09T17:42:54.314802Z",
     "iopub.status.idle": "2024-04-09T17:42:54.320037Z",
     "shell.execute_reply": "2024-04-09T17:42:54.319671Z",
     "shell.execute_reply.started": "2024-04-09T17:42:54.314916Z"
    }
   },
   "outputs": [],
   "source": [
    "isolatedObjects = objectTable[selection]"
   ]
  },
  {
   "cell_type": "code",
   "execution_count": null,
   "id": "c76ea90e-e7d0-4b02-8edd-f5eeeb53493d",
   "metadata": {
    "execution": {
     "iopub.execute_input": "2024-04-09T17:42:54.320778Z",
     "iopub.status.busy": "2024-04-09T17:42:54.320546Z",
     "iopub.status.idle": "2024-04-09T17:42:54.325596Z",
     "shell.execute_reply": "2024-04-09T17:42:54.325238Z",
     "shell.execute_reply.started": "2024-04-09T17:42:54.320657Z"
    }
   },
   "outputs": [],
   "source": [
    "isolatedObjects[\"g_psfMag\"] = isolatedObjects[\"g_psfFlux\"].map(convert_fluxtomag)\n",
    "isolatedObjects[\"r_psfMag\"] = isolatedObjects[\"r_psfFlux\"].map(convert_fluxtomag)\n",
    "isolatedObjects[\"i_psfMag\"] = isolatedObjects[\"i_psfFlux\"].map(convert_fluxtomag)\n",
    "#isolatedObjects[\"z_psfMag\"] = isolatedObjects[\"z_psfFlux\"].apply(convert_fluxtomag)\n",
    "#isolatedObjects[\"y_psfMag\"] = isolatedObjects[\"y_psfFlux\"].apply(convert_fluxtomag)"
   ]
  },
  {
   "cell_type": "code",
   "execution_count": null,
   "id": "23d78288-fbd0-4173-acfc-2c61fffaeb21",
   "metadata": {
    "execution": {
     "iopub.execute_input": "2024-04-09T17:42:54.326215Z",
     "iopub.status.busy": "2024-04-09T17:42:54.326093Z",
     "iopub.status.idle": "2024-04-09T17:42:54.751684Z",
     "shell.execute_reply": "2024-04-09T17:42:54.751261Z",
     "shell.execute_reply.started": "2024-04-09T17:42:54.326204Z"
    }
   },
   "outputs": [],
   "source": [
    "fig,axs = plt.subplots(1,3,figsize=(18,4))\n",
    "ax1,ax2,ax3 = axs.flatten()\n",
    "isolatedObjects[\"g_psfMag\"].hist(bins=50,facecolor=\"g\",ax=ax1,legend=\"g\")\n",
    "isolatedObjects[\"r_psfMag\"].hist(bins=50,facecolor=\"r\",ax=ax2,legend=\"r\")\n",
    "isolatedObjects[\"i_psfMag\"].hist(bins=50,facecolor=\"orange\",ax=ax3,legend=\"i\")"
   ]
  },
  {
   "cell_type": "code",
   "execution_count": null,
   "id": "45ef9fd3-c36d-4df9-af60-f77628f8e6dc",
   "metadata": {
    "execution": {
     "iopub.execute_input": "2024-04-09T17:42:54.752438Z",
     "iopub.status.busy": "2024-04-09T17:42:54.752289Z",
     "iopub.status.idle": "2024-04-09T17:42:54.757077Z",
     "shell.execute_reply": "2024-04-09T17:42:54.756572Z",
     "shell.execute_reply.started": "2024-04-09T17:42:54.752425Z"
    }
   },
   "outputs": [],
   "source": [
    "isolatedObjects[\"g_r\"] = isolatedObjects[\"g_psfMag\"] - isolatedObjects[\"r_psfMag\"]\n",
    "isolatedObjects[\"r_i\"] = isolatedObjects[\"r_psfMag\"] - isolatedObjects[\"i_psfMag\"]"
   ]
  },
  {
   "cell_type": "code",
   "execution_count": null,
   "id": "b039e136-35b8-4dfb-9ae3-ffc60da34705",
   "metadata": {
    "execution": {
     "iopub.execute_input": "2024-04-09T17:42:54.757799Z",
     "iopub.status.busy": "2024-04-09T17:42:54.757667Z",
     "iopub.status.idle": "2024-04-09T17:42:55.081321Z",
     "shell.execute_reply": "2024-04-09T17:42:55.080891Z",
     "shell.execute_reply.started": "2024-04-09T17:42:54.757787Z"
    }
   },
   "outputs": [],
   "source": [
    "fig,ax = plt.subplots(1,1,figsize=(6,6))\n",
    "\n",
    "isolatedObjects.plot.scatter(y=\"r_i\", x=\"g_r\",marker = \"+\" ,color=\"b\",ax=ax)\n",
    "ax.set_xlim(0,4)\n",
    "ax.set_ylim(-1,3)\n",
    "ax.grid()\n",
    "ax.set_title(\"Color-Color plot on objectTable\")"
   ]
  },
  {
   "cell_type": "code",
   "execution_count": null,
   "id": "eb6def1d-c7a6-4d05-b50b-29bfa40efa0f",
   "metadata": {},
   "outputs": [],
   "source": []
  }
 ],
 "metadata": {
  "kernelspec": {
   "display_name": "LSST",
   "language": "python",
   "name": "lsst"
  },
  "language_info": {
   "codemirror_mode": {
    "name": "ipython",
    "version": 3
   },
   "file_extension": ".py",
   "mimetype": "text/x-python",
   "name": "python",
   "nbconvert_exporter": "python",
   "pygments_lexer": "ipython3",
   "version": "3.11.7"
  }
 },
 "nbformat": 4,
 "nbformat_minor": 5
}
