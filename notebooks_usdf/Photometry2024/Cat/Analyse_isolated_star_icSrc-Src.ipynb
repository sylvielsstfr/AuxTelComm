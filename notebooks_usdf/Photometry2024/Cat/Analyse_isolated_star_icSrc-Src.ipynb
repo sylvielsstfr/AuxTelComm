{
 "cells": [
  {
   "cell_type": "markdown",
   "id": "8608d6fb-20fc-4b07-ba88-74e9b45cdf25",
   "metadata": {},
   "source": [
    "# Analyse  Src"
   ]
  },
  {
   "cell_type": "markdown",
   "id": "667ba03e-ddfb-47fd-bee3-3824f9be7ae5",
   "metadata": {},
   "source": [
    " work with Weakly_2024_07\n",
    "- use jupyter kernel LSST\n",
    "\n",
    "\n",
    "- author : Sylvie Dagoret-Campagne\n",
    "- affiliation : IJCLab\n",
    "- creation date : 2024/02/25\n",
    "- update : 2024/02/29\n",
    "\n",
    "\n",
    "``Quantum Graphs``: https://tigress-web.princeton.edu/~lkelvin/pipelines/ \n",
    "\n",
    "``CalibrateTask``: \n",
    "https://github.com/lsst/pipe_tasks/blob/main/python/lsst/pipe/tasks/calibrate.py#L392-L399\n",
    "\n",
    " "
   ]
  },
  {
   "cell_type": "code",
   "execution_count": null,
   "id": "058012ec-9888-4b97-9fe2-57595e1bc0e7",
   "metadata": {},
   "outputs": [],
   "source": [
    "import numpy as np\n",
    "import matplotlib.pyplot as plt\n",
    "%matplotlib inline\n",
    "from mpl_toolkits.axes_grid1 import make_axes_locatable\n",
    "from matplotlib.colors import LogNorm,SymLogNorm\n",
    "\n",
    "\n",
    "import matplotlib.ticker                         # here's where the formatter is\n",
    "from matplotlib.ticker import (MultipleLocator, FormatStrFormatter,\n",
    "                               AutoMinorLocator)\n",
    "from astropy.visualization import (MinMaxInterval, SqrtStretch,ZScaleInterval,PercentileInterval,\n",
    "                                   ImageNormalize,imshow_norm)\n",
    "from astropy.visualization.stretch import SinhStretch, LinearStretch,AsinhStretch,LogStretch\n",
    "from astropy.io import fits\n",
    "import astropy.coordinates as coord\n",
    "import astropy.units as u\n",
    "import pandas as pd\n",
    "\n",
    "import matplotlib.ticker                         # here's where the formatter is\n",
    "import os\n",
    "import re\n",
    "import pandas as pd\n",
    "\n",
    "plt.rcParams[\"figure.figsize\"] = (4,3)\n",
    "plt.rcParams[\"axes.labelsize\"] = 'xx-large'\n",
    "plt.rcParams['axes.titlesize'] = 'xx-large'\n",
    "plt.rcParams['xtick.labelsize']= 'xx-large'\n",
    "plt.rcParams['ytick.labelsize']= 'xx-large'"
   ]
  },
  {
   "cell_type": "code",
   "execution_count": null,
   "id": "eea6084d-3d9e-4323-aa74-ebac2b9d2c0d",
   "metadata": {},
   "outputs": [],
   "source": [
    "#df_sel[\"psfMag\"] =  df_sel['psfFlux'].map(convert_fluxtomag)\n",
    "#df_sel[\"gaussianMag\"] =  df_sel['gaussianFlux'].map(lambda x:-2.50 * np.log10(x) + 31.4)\n",
    "#df_sel[\"gaussianMag\"] =  df_sel['gaussianFlux'].map(convert_fluxtomag)\n",
    "\n",
    "def convert_fluxtomag(x) :\n",
    "    \"\"\"\n",
    "    The object and source catalogs store only fluxes. There are hundreds of flux-related columns, \n",
    "    and to store them also as magnitudes would be redundant, and a waste of space.\n",
    "    All flux units are nanojanskys. The AB Magnitudes Wikipedia page provides a concise resource \n",
    "    for users unfamiliar with AB magnitudes and jansky fluxes. To convert to AB magnitudes use:\n",
    "    As demonstrated in Section 2.3.2, to add columns of magnitudes after retrieving columns of flux, users can do this:\n",
    "    results_table['r_calibMag'] = -2.50 * numpy.log10(results_table['r_calibFlux']) + 31.4\n",
    "    results_table['r_cModelMag'] = -2.50 * numpy.log10(results_table['r_cModelFlux']) + 31.4\n",
    "    (from DP0 tutorial)\n",
    "    \"\"\"\n",
    "    return -2.50 * np.log10(x) + 31.4"
   ]
  },
  {
   "cell_type": "markdown",
   "id": "c58ccb8f-5232-4924-b53f-94baa3f9eb1d",
   "metadata": {},
   "source": [
    "## Configuration"
   ]
  },
  {
   "cell_type": "code",
   "execution_count": null,
   "id": "907f5257-e80b-4336-b41f-5bf3745571bf",
   "metadata": {},
   "outputs": [],
   "source": [
    "#filesource_in=\"preSourceTable_202312.csv\"\n",
    "filesource_in1=\"../data/202402/icSrc_202402.csv\"\n",
    "filesource_in2=\"../data/202402/src_202402.csv\"\n",
    "filevisit_in3 = \"../data/202402/ccdVisitTable_202402.csv\"\n",
    "fileisolated_star_sources_in4 = \"../data/202402/isolated_star_sources_202402.csv\""
   ]
  },
  {
   "cell_type": "markdown",
   "id": "c2467aa7-5e30-4308-bbeb-3e4c5d27ab44",
   "metadata": {},
   "source": [
    "## Read files\n",
    "\n",
    "In addition compute nightobs and seq"
   ]
  },
  {
   "cell_type": "code",
   "execution_count": null,
   "id": "a4c4bc49-f65a-441c-8f51-82a27f7887d2",
   "metadata": {},
   "outputs": [],
   "source": [
    "#icSrc\n",
    "df1 = pd.read_csv(filesource_in1,index_col=0)\n",
    "df1.dropna(axis=1, how='all',inplace =True)\n",
    "df1[\"nightObs\"] =df1.apply(lambda x: x['visitId']//100_000, axis=1)\n",
    "df1[\"seq\"] = df1[\"visitId\"] - df1[\"nightObs\"]*100_000\n",
    "df1[\"slot_ApFlux_instMag\"] =  df1[\"slot_ApFlux_instFlux\"].map(convert_fluxtomag)\n",
    "df1[\"slot_PsfFlux_instMag\"] =  df1[\"slot_PsfFlux_instFlux\"].map(convert_fluxtomag)\n",
    "\n",
    "#df1[\"base_ApFlux_instMag\"] =  df1[\"base_ApFlux_instFlux\"].map(convert_fluxtomag)\n",
    "df1[\"base_PsfFlux_instMag\"] =  df1[\"base_PsfFlux_instFlux\"].map(convert_fluxtomag)"
   ]
  },
  {
   "cell_type": "code",
   "execution_count": null,
   "id": "691c9797-b343-4251-97d4-b473f235c511",
   "metadata": {},
   "outputs": [],
   "source": [
    "list(df1.columns)"
   ]
  },
  {
   "cell_type": "code",
   "execution_count": null,
   "id": "4ae57c3a-3623-4ba2-9d31-7fddefe3995c",
   "metadata": {},
   "outputs": [],
   "source": [
    "#src\n",
    "df2 = pd.read_csv(filesource_in2,index_col=0)\n",
    "df2.dropna(axis=1, how='all',inplace =True)\n",
    "df2[\"nightObs\"] =df2.apply(lambda x: x['visitId']//100_000, axis=1)\n",
    "df2[\"seq\"] = df2[\"visitId\"] - df2[\"nightObs\"]*100_000"
   ]
  },
  {
   "cell_type": "code",
   "execution_count": null,
   "id": "52458cd5-a90c-41d9-a55f-967b6b115289",
   "metadata": {},
   "outputs": [],
   "source": [
    "#ccd visits\n",
    "df3 = pd.read_csv(filevisit_in3,index_col=0)\n",
    "df3.dropna(axis=1, how='all',inplace =True)\n",
    "df3[\"nightObs\"] =df3.apply(lambda x: x['visitId']//100_000, axis=1)\n",
    "df3[\"seq\"] = df3[\"visitId\"] - df3[\"nightObs\"]*100_000"
   ]
  },
  {
   "cell_type": "code",
   "execution_count": null,
   "id": "51f95f16-7d9f-4f80-8c11-4e6a664dd78f",
   "metadata": {},
   "outputs": [],
   "source": [
    "# isolated sources\n",
    "df4 = pd.read_csv(fileisolated_star_sources_in4,index_col=0)\n",
    "df4.dropna(axis=1, how='all',inplace =True)\n",
    "df4 = df4.rename(columns={\"visit\": \"visitId\"})\n",
    "df4[\"nightObs\"] =df4.apply(lambda x: x['visitId']//100_000, axis=1)\n",
    "df4[\"seq\"] = df4[\"visitId\"] - df4[\"nightObs\"]*100_000"
   ]
  },
  {
   "cell_type": "code",
   "execution_count": null,
   "id": "811a8120-29c6-41f3-a11a-b23470f6ce29",
   "metadata": {},
   "outputs": [],
   "source": [
    "col_df1 = df1.columns.tolist()\n",
    "col_df2 = df2.columns.tolist()\n",
    "col_df3 = df3.columns.tolist()\n",
    "col_df4 = df4.columns.tolist()"
   ]
  },
  {
   "cell_type": "markdown",
   "id": "d4c0c101-85c4-4dde-b9ff-a0a18c6c90a6",
   "metadata": {},
   "source": [
    "## Dump tables"
   ]
  },
  {
   "cell_type": "code",
   "execution_count": null,
   "id": "cb0ec756-f255-46ea-8b0f-c764d3cde01a",
   "metadata": {},
   "outputs": [],
   "source": [
    "#icSrc\n",
    "df1.sort_values(by=[\"visitId\",\"id\"], inplace=True) \n",
    "df1"
   ]
  },
  {
   "cell_type": "code",
   "execution_count": null,
   "id": "085feb69-e8b8-4821-8928-5066fda52d63",
   "metadata": {},
   "outputs": [],
   "source": [
    "np.sort(df1[\"nightObs\"].unique())"
   ]
  },
  {
   "cell_type": "code",
   "execution_count": null,
   "id": "2ebff3a5-e036-42d5-b2f4-156cc82c069f",
   "metadata": {},
   "outputs": [],
   "source": []
  },
  {
   "cell_type": "code",
   "execution_count": null,
   "id": "fd7d9afe-fe94-422c-92b6-7f07ed3942de",
   "metadata": {},
   "outputs": [],
   "source": [
    "column_names = [\"slot_ApFlux_instFlux\",\"slot_PsfFlux_instFlux\",\"base_PsfFlux_instFlux\"]\n",
    "fig,ax = plt.subplots(figsize=(16,8))\n",
    "#axes = df1.hist(column= column_names,by=\"nightObs\",bins=20,ax=ax,xrot=0,range=(16,23),legend=True)\n",
    "axes = df1.hist(column= column_names,histtype='bar',bins=50,ax=ax,xrot=0,range=(-1000,110000),legend=True)\n",
    "plt.suptitle(column_names)\n",
    "plt.tight_layout()"
   ]
  },
  {
   "cell_type": "code",
   "execution_count": null,
   "id": "6d6b60be-020b-42bd-a70a-9fbc6301e662",
   "metadata": {},
   "outputs": [],
   "source": [
    "column_names = [\"slot_ApFlux_instMag\",\"slot_PsfFlux_instMag\",\"base_PsfFlux_instMag\"]\n",
    "fig,ax = plt.subplots(figsize=(16,8))\n",
    "#axes = df1.hist(column= column_names,by=\"nightObs\",bins=20,ax=ax,xrot=0,range=(16,23),legend=True)\n",
    "axes = df1.hist(column= column_names,bins=50,ax=ax,xrot=0,range=(0,30),legend=True)\n",
    "plt.suptitle(column_names)"
   ]
  },
  {
   "cell_type": "code",
   "execution_count": null,
   "id": "5eb985eb-03f1-4add-a286-3056c65c2893",
   "metadata": {},
   "outputs": [],
   "source": [
    "#Src\n",
    "df2.sort_values(by=[\"visitId\",\"id\"], inplace=True) \n",
    "df2"
   ]
  },
  {
   "cell_type": "code",
   "execution_count": null,
   "id": "90fd51c7-e29a-40de-8a21-d47899af98be",
   "metadata": {},
   "outputs": [],
   "source": [
    "np.sort(df2[\"nightObs\"].unique())"
   ]
  },
  {
   "cell_type": "code",
   "execution_count": null,
   "id": "2df1e914-8602-468a-bb24-617e6061e8c9",
   "metadata": {},
   "outputs": [],
   "source": [
    "#CCd visit\n",
    "df3.sort_values(by=[\"visitId\"], inplace=True) \n",
    "df3"
   ]
  },
  {
   "cell_type": "code",
   "execution_count": null,
   "id": "a3d5100c-b062-4fbd-b869-cf43858dadd5",
   "metadata": {},
   "outputs": [],
   "source": [
    "np.sort(df3[\"nightObs\"].unique())"
   ]
  },
  {
   "cell_type": "code",
   "execution_count": null,
   "id": "864570dc-ec56-478e-b854-cb0da87b37dc",
   "metadata": {},
   "outputs": [],
   "source": [
    "# isolated source\n",
    "df4.sort_values(by=[\"visitId\"], inplace=True) \n",
    "df4"
   ]
  },
  {
   "cell_type": "code",
   "execution_count": null,
   "id": "7c33219c-a136-4115-b9ae-6d8abb0eba95",
   "metadata": {},
   "outputs": [],
   "source": [
    "np.sort(df4[\"nightObs\"].unique())"
   ]
  },
  {
   "cell_type": "markdown",
   "id": "1dd25468-4f29-43aa-90c0-343683ee6612",
   "metadata": {},
   "source": [
    "## Select Date"
   ]
  },
  {
   "cell_type": "code",
   "execution_count": null,
   "id": "bc8cb9ad-47c1-4ba6-9d42-5158a8b13ac4",
   "metadata": {},
   "outputs": [],
   "source": [
    "DATEOBS =  20240130"
   ]
  },
  {
   "cell_type": "code",
   "execution_count": null,
   "id": "460aaa88-a87b-442b-a03b-e9bea30c81ed",
   "metadata": {},
   "outputs": [],
   "source": [
    "cut1 = df1[\"nightObs\"] == DATEOBS\n",
    "cut2 = df2[\"nightObs\"] == DATEOBS\n",
    "cut3 = df3[\"nightObs\"] == DATEOBS\n",
    "cut4 = df4[\"nightObs\"] == DATEOBS"
   ]
  },
  {
   "cell_type": "code",
   "execution_count": null,
   "id": "b5458f28-5032-4720-a388-636dd8c40425",
   "metadata": {},
   "outputs": [],
   "source": [
    "df1 = df1[cut1]\n",
    "df2 = df2[cut2]\n",
    "df3 = df3[cut3]\n",
    "df4 = df4[cut4]"
   ]
  },
  {
   "cell_type": "code",
   "execution_count": null,
   "id": "9ca1cb6f-d0c3-47f5-a971-39d259e06bc4",
   "metadata": {},
   "outputs": [],
   "source": [
    "df4[['visitId','seq','tract']]"
   ]
  },
  {
   "cell_type": "markdown",
   "id": "98c1b161-b555-436d-9a62-4da5f3ac438a",
   "metadata": {},
   "source": [
    "## Merge"
   ]
  },
  {
   "cell_type": "code",
   "execution_count": null,
   "id": "331cf86d-c5fa-428a-806b-2514fc7b962c",
   "metadata": {},
   "outputs": [],
   "source": [
    "df1_m = df1.merge(df3,how='left',left_on=\"visitId\",right_on=\"visitId\")"
   ]
  },
  {
   "cell_type": "code",
   "execution_count": null,
   "id": "24cbd677-207a-48e3-8bec-094e9d85ae0c",
   "metadata": {},
   "outputs": [],
   "source": [
    "df1_m"
   ]
  },
  {
   "cell_type": "code",
   "execution_count": null,
   "id": "ba3a73b3-b0ea-4d56-9eea-c65c8da5ea53",
   "metadata": {},
   "outputs": [],
   "source": [
    "df2_m = df2.merge(df3,how='left',left_on=\"visitId\",right_on=\"visitId\")"
   ]
  },
  {
   "cell_type": "code",
   "execution_count": null,
   "id": "0ec9b079-b685-42fb-86e2-6a0a490e3d27",
   "metadata": {},
   "outputs": [],
   "source": [
    "df2_m "
   ]
  },
  {
   "cell_type": "code",
   "execution_count": null,
   "id": "a8f6b71e-4486-45a6-bab8-13eae61ded2f",
   "metadata": {},
   "outputs": [],
   "source": [
    "df_sel.plot.scatter('x','y',c='ccdVisitId',colormap='viridis')"
   ]
  },
  {
   "cell_type": "code",
   "execution_count": null,
   "id": "7f1e4786-d417-402a-bdc1-0aca5e040dae",
   "metadata": {},
   "outputs": [],
   "source": [
    "df_sel.plot.scatter('ra','dec',c='ccdVisitId',colormap='hsv',grid=True,figsize=(10,5))"
   ]
  },
  {
   "cell_type": "code",
   "execution_count": null,
   "id": "52e5f78a-e202-4fc7-8aa5-8a99fce569d0",
   "metadata": {},
   "outputs": [],
   "source": [
    "df_sel.plot.scatter('coord_ra','coord_dec',c='ccdVisitId',colormap='hsv',grid=True,figsize=(10,5))"
   ]
  },
  {
   "cell_type": "code",
   "execution_count": null,
   "id": "36bc38b2-e138-4e00-8b73-f2776f1b0685",
   "metadata": {},
   "outputs": [],
   "source": [
    "df_sel['coord_ra'].plot(kind=\"hist\",bins=50 ,range=(0,360),logy=True,title=\"coord_ra\",grid=True,figsize=(10,5))"
   ]
  },
  {
   "cell_type": "code",
   "execution_count": null,
   "id": "ea52f52d-785d-401e-9e2a-7f6f4cbafe08",
   "metadata": {},
   "outputs": [],
   "source": [
    "df_sel['coord_dec'].plot(kind=\"hist\",bins=50 ,range=(-90,10),logy=True,title=\"coord_dec\",grid=True,figsize=(10,5))"
   ]
  },
  {
   "cell_type": "code",
   "execution_count": null,
   "id": "71a85a9e-0a81-4d04-a3a7-417f9cc0a39f",
   "metadata": {},
   "outputs": [],
   "source": [
    "cut_skyloc = ((df_sel['dec'] < -30) & (df_sel['dec'] > -40) & (df_sel['ra'] > 100) & (df_sel['ra'] < 150))"
   ]
  },
  {
   "cell_type": "code",
   "execution_count": null,
   "id": "4312ddf5-74d6-4cd9-bff5-dce8d55505f6",
   "metadata": {},
   "outputs": [],
   "source": [
    "df_sel = df_sel[cut_skyloc]"
   ]
  },
  {
   "cell_type": "code",
   "execution_count": null,
   "id": "8d7ea79d-7fdc-40b8-a3db-4ab04b815cd2",
   "metadata": {},
   "outputs": [],
   "source": [
    "df_sel['psfMag'].plot(kind=\"hist\",bins=50,range=(5,30),logy=True,grid=True,title=\"psMag\")"
   ]
  },
  {
   "cell_type": "code",
   "execution_count": null,
   "id": "d9f34f5d-1060-447d-b73d-5626e1a5972b",
   "metadata": {},
   "outputs": [],
   "source": [
    "df_sel['gaussianMag'].plot(kind=\"hist\",bins=50 ,range=(5,30),logy=True,grid=True,title=\"gaussianMag\")"
   ]
  },
  {
   "cell_type": "code",
   "execution_count": null,
   "id": "f560da18-d3db-437b-a323-207132665bf3",
   "metadata": {},
   "outputs": [],
   "source": [
    "df_sel"
   ]
  },
  {
   "cell_type": "code",
   "execution_count": null,
   "id": "5769a54e-167c-438c-aed4-a1bd070d2d8c",
   "metadata": {},
   "outputs": [],
   "source": [
    "#df_sel.groupby(df_sel['dateobs'].dt.date).size().plot()\n",
    "datetime = pd.to_datetime(df_sel['dateobs'])"
   ]
  },
  {
   "cell_type": "code",
   "execution_count": null,
   "id": "5eb4f7c1-bf32-4943-843c-85c1dddefe39",
   "metadata": {},
   "outputs": [],
   "source": [
    "df_sel['dateobs'].max()"
   ]
  },
  {
   "cell_type": "code",
   "execution_count": null,
   "id": "1bf81fbf-64e6-46f5-be8a-9adca60d3abb",
   "metadata": {},
   "outputs": [],
   "source": [
    "df_sel[\"date\"] = df[\"dateobs\"].astype(\"datetime64\")"
   ]
  },
  {
   "cell_type": "code",
   "execution_count": null,
   "id": "a6e84a91-e9d6-404d-8ef9-c2f80f3d3bf0",
   "metadata": {},
   "outputs": [],
   "source": [
    "df_sel"
   ]
  },
  {
   "cell_type": "code",
   "execution_count": null,
   "id": "0c1f2fd3-0101-4637-b030-d226a3b58cab",
   "metadata": {},
   "outputs": [],
   "source": [
    "df_time = df_sel[[\"date\"]]"
   ]
  },
  {
   "cell_type": "code",
   "execution_count": null,
   "id": "79e7f118-e3da-4e0a-9497-a1079dbd30d6",
   "metadata": {},
   "outputs": [],
   "source": [
    "df_time"
   ]
  },
  {
   "cell_type": "code",
   "execution_count": null,
   "id": "1845d0ef-c99a-4b63-9212-80d890f38128",
   "metadata": {},
   "outputs": [],
   "source": [
    "fig = plt.figure()\n",
    "ax = fig.add_subplot(1,1,1)\n",
    "ax = (df_time[\"date\"].groupby(df_time[\"date\"].dt.minute)\n",
    "                         .count()).plot(kind=\"bar\")"
   ]
  }
 ],
 "metadata": {
  "kernelspec": {
   "display_name": "LSST",
   "language": "python",
   "name": "lsst"
  },
  "language_info": {
   "codemirror_mode": {
    "name": "ipython",
    "version": 3
   },
   "file_extension": ".py",
   "mimetype": "text/x-python",
   "name": "python",
   "nbconvert_exporter": "python",
   "pygments_lexer": "ipython3",
   "version": "3.11.7"
  }
 },
 "nbformat": 4,
 "nbformat_minor": 5
}
