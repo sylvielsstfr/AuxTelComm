{
 "cells": [
  {
   "cell_type": "markdown",
   "id": "8608d6fb-20fc-4b07-ba88-74e9b45cdf25",
   "metadata": {},
   "source": [
    "# Analyse Isolated Star Catalog"
   ]
  },
  {
   "cell_type": "markdown",
   "id": "667ba03e-ddfb-47fd-bee3-3824f9be7ae5",
   "metadata": {},
   "source": [
    " work with Weakly_2024_07\n",
    "- use jupyter kernel LSST\n",
    "\n",
    "\n",
    "- author : Sylvie Dagoret-Campagne\n",
    "- affiliation : IJCLab\n",
    "- creation date : 2024/02/25\n",
    "- update : 2024/02/25\n"
   ]
  },
  {
   "cell_type": "code",
   "execution_count": 1,
   "id": "058012ec-9888-4b97-9fe2-57595e1bc0e7",
   "metadata": {
    "execution": {
     "iopub.execute_input": "2024-02-28T11:51:14.413201Z",
     "iopub.status.busy": "2024-02-28T11:51:14.413079Z",
     "iopub.status.idle": "2024-02-28T11:51:14.986535Z",
     "shell.execute_reply": "2024-02-28T11:51:14.986050Z",
     "shell.execute_reply.started": "2024-02-28T11:51:14.413187Z"
    }
   },
   "outputs": [],
   "source": [
    "import numpy as np\n",
    "import matplotlib.pyplot as plt\n",
    "%matplotlib inline\n",
    "from mpl_toolkits.axes_grid1 import make_axes_locatable\n",
    "from matplotlib.colors import LogNorm,SymLogNorm\n",
    "\n",
    "\n",
    "import matplotlib.ticker                         # here's where the formatter is\n",
    "from matplotlib.ticker import (MultipleLocator, FormatStrFormatter,\n",
    "                               AutoMinorLocator)\n",
    "from astropy.visualization import (MinMaxInterval, SqrtStretch,ZScaleInterval,PercentileInterval,\n",
    "                                   ImageNormalize,imshow_norm)\n",
    "from astropy.visualization.stretch import SinhStretch, LinearStretch,AsinhStretch,LogStretch\n",
    "from astropy.io import fits\n",
    "import astropy.coordinates as coord\n",
    "import astropy.units as u\n",
    "import pandas as pd\n",
    "\n",
    "import matplotlib.ticker                         # here's where the formatter is\n",
    "import os\n",
    "import re\n",
    "import pandas as pd\n",
    "\n",
    "plt.rcParams[\"figure.figsize\"] = (4,3)\n",
    "plt.rcParams[\"axes.labelsize\"] = 'xx-large'\n",
    "plt.rcParams['axes.titlesize'] = 'xx-large'\n",
    "plt.rcParams['xtick.labelsize']= 'xx-large'\n",
    "plt.rcParams['ytick.labelsize']= 'xx-large'"
   ]
  },
  {
   "cell_type": "code",
   "execution_count": 2,
   "id": "907f5257-e80b-4336-b41f-5bf3745571bf",
   "metadata": {
    "execution": {
     "iopub.execute_input": "2024-02-28T11:51:14.987353Z",
     "iopub.status.busy": "2024-02-28T11:51:14.987091Z",
     "iopub.status.idle": "2024-02-28T11:51:14.989553Z",
     "shell.execute_reply": "2024-02-28T11:51:14.989156Z",
     "shell.execute_reply.started": "2024-02-28T11:51:14.987339Z"
    }
   },
   "outputs": [],
   "source": [
    "#filesource_in=\"preSourceTable_202312.csv\"\n",
    "filesource_in=\"isolated_star_cat_202402.csv\""
   ]
  },
  {
   "cell_type": "code",
   "execution_count": 3,
   "id": "a4c4bc49-f65a-441c-8f51-82a27f7887d2",
   "metadata": {
    "execution": {
     "iopub.execute_input": "2024-02-28T11:51:14.990206Z",
     "iopub.status.busy": "2024-02-28T11:51:14.990074Z",
     "iopub.status.idle": "2024-02-28T11:51:15.012280Z",
     "shell.execute_reply": "2024-02-28T11:51:15.011834Z",
     "shell.execute_reply.started": "2024-02-28T11:51:14.990194Z"
    }
   },
   "outputs": [],
   "source": [
    "df = pd.read_csv(filesource_in,index_col=0)"
   ]
  },
  {
   "cell_type": "code",
   "execution_count": 4,
   "id": "f520bf2a-9b47-4748-9503-3896eac2dda3",
   "metadata": {
    "execution": {
     "iopub.execute_input": "2024-02-28T11:51:15.013859Z",
     "iopub.status.busy": "2024-02-28T11:51:15.013721Z",
     "iopub.status.idle": "2024-02-28T11:51:15.028771Z",
     "shell.execute_reply": "2024-02-28T11:51:15.028391Z",
     "shell.execute_reply.started": "2024-02-28T11:51:15.013845Z"
    }
   },
   "outputs": [
    {
     "data": {
      "text/html": [
       "<div>\n",
       "<style scoped>\n",
       "    .dataframe tbody tr th:only-of-type {\n",
       "        vertical-align: middle;\n",
       "    }\n",
       "\n",
       "    .dataframe tbody tr th {\n",
       "        vertical-align: top;\n",
       "    }\n",
       "\n",
       "    .dataframe thead th {\n",
       "        text-align: right;\n",
       "    }\n",
       "</style>\n",
       "<table border=\"1\" class=\"dataframe\">\n",
       "  <thead>\n",
       "    <tr style=\"text-align: right;\">\n",
       "      <th></th>\n",
       "      <th>isolated_star_id</th>\n",
       "      <th>ra</th>\n",
       "      <th>dec</th>\n",
       "      <th>primary_band</th>\n",
       "      <th>source_cat_index</th>\n",
       "      <th>nsource</th>\n",
       "      <th>source_cat_index_i</th>\n",
       "      <th>nsource_i</th>\n",
       "      <th>source_cat_index_z</th>\n",
       "      <th>nsource_z</th>\n",
       "      <th>source_cat_index_r</th>\n",
       "      <th>nsource_r</th>\n",
       "      <th>source_cat_index_g</th>\n",
       "      <th>nsource_g</th>\n",
       "      <th>source_cat_index_y</th>\n",
       "      <th>nsource_y</th>\n",
       "      <th>source_cat_index_u</th>\n",
       "      <th>nsource_u</th>\n",
       "      <th>tract</th>\n",
       "    </tr>\n",
       "  </thead>\n",
       "  <tbody>\n",
       "    <tr>\n",
       "      <th>0</th>\n",
       "      <td>108188</td>\n",
       "      <td>253.548157</td>\n",
       "      <td>-8.750126</td>\n",
       "      <td>i</td>\n",
       "      <td>0</td>\n",
       "      <td>10</td>\n",
       "      <td>0</td>\n",
       "      <td>4</td>\n",
       "      <td>4</td>\n",
       "      <td>0</td>\n",
       "      <td>4</td>\n",
       "      <td>4</td>\n",
       "      <td>8</td>\n",
       "      <td>2</td>\n",
       "      <td>10</td>\n",
       "      <td>0</td>\n",
       "      <td>10</td>\n",
       "      <td>0</td>\n",
       "      <td>8188</td>\n",
       "    </tr>\n",
       "    <tr>\n",
       "      <th>1</th>\n",
       "      <td>208188</td>\n",
       "      <td>253.492415</td>\n",
       "      <td>-8.747484</td>\n",
       "      <td>i</td>\n",
       "      <td>10</td>\n",
       "      <td>9</td>\n",
       "      <td>10</td>\n",
       "      <td>4</td>\n",
       "      <td>14</td>\n",
       "      <td>0</td>\n",
       "      <td>14</td>\n",
       "      <td>3</td>\n",
       "      <td>17</td>\n",
       "      <td>2</td>\n",
       "      <td>19</td>\n",
       "      <td>0</td>\n",
       "      <td>19</td>\n",
       "      <td>0</td>\n",
       "      <td>8188</td>\n",
       "    </tr>\n",
       "    <tr>\n",
       "      <th>2</th>\n",
       "      <td>308188</td>\n",
       "      <td>253.548515</td>\n",
       "      <td>-8.755819</td>\n",
       "      <td>i</td>\n",
       "      <td>19</td>\n",
       "      <td>5</td>\n",
       "      <td>19</td>\n",
       "      <td>4</td>\n",
       "      <td>23</td>\n",
       "      <td>0</td>\n",
       "      <td>23</td>\n",
       "      <td>1</td>\n",
       "      <td>24</td>\n",
       "      <td>0</td>\n",
       "      <td>24</td>\n",
       "      <td>0</td>\n",
       "      <td>24</td>\n",
       "      <td>0</td>\n",
       "      <td>8188</td>\n",
       "    </tr>\n",
       "    <tr>\n",
       "      <th>3</th>\n",
       "      <td>408188</td>\n",
       "      <td>253.525449</td>\n",
       "      <td>-8.764117</td>\n",
       "      <td>i</td>\n",
       "      <td>24</td>\n",
       "      <td>10</td>\n",
       "      <td>24</td>\n",
       "      <td>4</td>\n",
       "      <td>28</td>\n",
       "      <td>0</td>\n",
       "      <td>28</td>\n",
       "      <td>4</td>\n",
       "      <td>32</td>\n",
       "      <td>2</td>\n",
       "      <td>34</td>\n",
       "      <td>0</td>\n",
       "      <td>34</td>\n",
       "      <td>0</td>\n",
       "      <td>8188</td>\n",
       "    </tr>\n",
       "    <tr>\n",
       "      <th>4</th>\n",
       "      <td>508188</td>\n",
       "      <td>253.512081</td>\n",
       "      <td>-8.804718</td>\n",
       "      <td>i</td>\n",
       "      <td>34</td>\n",
       "      <td>11</td>\n",
       "      <td>34</td>\n",
       "      <td>4</td>\n",
       "      <td>38</td>\n",
       "      <td>0</td>\n",
       "      <td>38</td>\n",
       "      <td>4</td>\n",
       "      <td>42</td>\n",
       "      <td>3</td>\n",
       "      <td>45</td>\n",
       "      <td>0</td>\n",
       "      <td>45</td>\n",
       "      <td>0</td>\n",
       "      <td>8188</td>\n",
       "    </tr>\n",
       "    <tr>\n",
       "      <th>...</th>\n",
       "      <td>...</td>\n",
       "      <td>...</td>\n",
       "      <td>...</td>\n",
       "      <td>...</td>\n",
       "      <td>...</td>\n",
       "      <td>...</td>\n",
       "      <td>...</td>\n",
       "      <td>...</td>\n",
       "      <td>...</td>\n",
       "      <td>...</td>\n",
       "      <td>...</td>\n",
       "      <td>...</td>\n",
       "      <td>...</td>\n",
       "      <td>...</td>\n",
       "      <td>...</td>\n",
       "      <td>...</td>\n",
       "      <td>...</td>\n",
       "      <td>...</td>\n",
       "      <td>...</td>\n",
       "    </tr>\n",
       "    <tr>\n",
       "      <th>1345</th>\n",
       "      <td>134603864</td>\n",
       "      <td>122.636921</td>\n",
       "      <td>-36.166699</td>\n",
       "      <td>y</td>\n",
       "      <td>152519</td>\n",
       "      <td>1</td>\n",
       "      <td>152519</td>\n",
       "      <td>0</td>\n",
       "      <td>152519</td>\n",
       "      <td>0</td>\n",
       "      <td>152519</td>\n",
       "      <td>0</td>\n",
       "      <td>152519</td>\n",
       "      <td>0</td>\n",
       "      <td>152519</td>\n",
       "      <td>1</td>\n",
       "      <td>152520</td>\n",
       "      <td>0</td>\n",
       "      <td>3864</td>\n",
       "    </tr>\n",
       "    <tr>\n",
       "      <th>1346</th>\n",
       "      <td>134703864</td>\n",
       "      <td>122.627452</td>\n",
       "      <td>-36.261952</td>\n",
       "      <td>y</td>\n",
       "      <td>152520</td>\n",
       "      <td>1</td>\n",
       "      <td>152520</td>\n",
       "      <td>0</td>\n",
       "      <td>152520</td>\n",
       "      <td>0</td>\n",
       "      <td>152520</td>\n",
       "      <td>0</td>\n",
       "      <td>152520</td>\n",
       "      <td>0</td>\n",
       "      <td>152520</td>\n",
       "      <td>1</td>\n",
       "      <td>152521</td>\n",
       "      <td>0</td>\n",
       "      <td>3864</td>\n",
       "    </tr>\n",
       "    <tr>\n",
       "      <th>1347</th>\n",
       "      <td>134803864</td>\n",
       "      <td>122.584535</td>\n",
       "      <td>-36.077190</td>\n",
       "      <td>y</td>\n",
       "      <td>152521</td>\n",
       "      <td>1</td>\n",
       "      <td>152521</td>\n",
       "      <td>0</td>\n",
       "      <td>152521</td>\n",
       "      <td>0</td>\n",
       "      <td>152521</td>\n",
       "      <td>0</td>\n",
       "      <td>152521</td>\n",
       "      <td>0</td>\n",
       "      <td>152521</td>\n",
       "      <td>1</td>\n",
       "      <td>152522</td>\n",
       "      <td>0</td>\n",
       "      <td>3864</td>\n",
       "    </tr>\n",
       "    <tr>\n",
       "      <th>1348</th>\n",
       "      <td>134903864</td>\n",
       "      <td>122.571455</td>\n",
       "      <td>-36.266611</td>\n",
       "      <td>y</td>\n",
       "      <td>152522</td>\n",
       "      <td>1</td>\n",
       "      <td>152522</td>\n",
       "      <td>0</td>\n",
       "      <td>152522</td>\n",
       "      <td>0</td>\n",
       "      <td>152522</td>\n",
       "      <td>0</td>\n",
       "      <td>152522</td>\n",
       "      <td>0</td>\n",
       "      <td>152522</td>\n",
       "      <td>1</td>\n",
       "      <td>152523</td>\n",
       "      <td>0</td>\n",
       "      <td>3864</td>\n",
       "    </tr>\n",
       "    <tr>\n",
       "      <th>1349</th>\n",
       "      <td>135003864</td>\n",
       "      <td>122.371088</td>\n",
       "      <td>-36.241104</td>\n",
       "      <td>y</td>\n",
       "      <td>152523</td>\n",
       "      <td>1</td>\n",
       "      <td>152523</td>\n",
       "      <td>0</td>\n",
       "      <td>152523</td>\n",
       "      <td>0</td>\n",
       "      <td>152523</td>\n",
       "      <td>0</td>\n",
       "      <td>152523</td>\n",
       "      <td>0</td>\n",
       "      <td>152523</td>\n",
       "      <td>1</td>\n",
       "      <td>152524</td>\n",
       "      <td>0</td>\n",
       "      <td>3864</td>\n",
       "    </tr>\n",
       "  </tbody>\n",
       "</table>\n",
       "<p>8671 rows × 19 columns</p>\n",
       "</div>"
      ],
      "text/plain": [
       "      isolated_star_id          ra        dec primary_band  source_cat_index  \\\n",
       "0               108188  253.548157  -8.750126            i                 0   \n",
       "1               208188  253.492415  -8.747484            i                10   \n",
       "2               308188  253.548515  -8.755819            i                19   \n",
       "3               408188  253.525449  -8.764117            i                24   \n",
       "4               508188  253.512081  -8.804718            i                34   \n",
       "...                ...         ...        ...          ...               ...   \n",
       "1345         134603864  122.636921 -36.166699            y            152519   \n",
       "1346         134703864  122.627452 -36.261952            y            152520   \n",
       "1347         134803864  122.584535 -36.077190            y            152521   \n",
       "1348         134903864  122.571455 -36.266611            y            152522   \n",
       "1349         135003864  122.371088 -36.241104            y            152523   \n",
       "\n",
       "      nsource  source_cat_index_i  nsource_i  source_cat_index_z  nsource_z  \\\n",
       "0          10                   0          4                   4          0   \n",
       "1           9                  10          4                  14          0   \n",
       "2           5                  19          4                  23          0   \n",
       "3          10                  24          4                  28          0   \n",
       "4          11                  34          4                  38          0   \n",
       "...       ...                 ...        ...                 ...        ...   \n",
       "1345        1              152519          0              152519          0   \n",
       "1346        1              152520          0              152520          0   \n",
       "1347        1              152521          0              152521          0   \n",
       "1348        1              152522          0              152522          0   \n",
       "1349        1              152523          0              152523          0   \n",
       "\n",
       "      source_cat_index_r  nsource_r  source_cat_index_g  nsource_g  \\\n",
       "0                      4          4                   8          2   \n",
       "1                     14          3                  17          2   \n",
       "2                     23          1                  24          0   \n",
       "3                     28          4                  32          2   \n",
       "4                     38          4                  42          3   \n",
       "...                  ...        ...                 ...        ...   \n",
       "1345              152519          0              152519          0   \n",
       "1346              152520          0              152520          0   \n",
       "1347              152521          0              152521          0   \n",
       "1348              152522          0              152522          0   \n",
       "1349              152523          0              152523          0   \n",
       "\n",
       "      source_cat_index_y  nsource_y  source_cat_index_u  nsource_u  tract  \n",
       "0                     10          0                  10          0   8188  \n",
       "1                     19          0                  19          0   8188  \n",
       "2                     24          0                  24          0   8188  \n",
       "3                     34          0                  34          0   8188  \n",
       "4                     45          0                  45          0   8188  \n",
       "...                  ...        ...                 ...        ...    ...  \n",
       "1345              152519          1              152520          0   3864  \n",
       "1346              152520          1              152521          0   3864  \n",
       "1347              152521          1              152522          0   3864  \n",
       "1348              152522          1              152523          0   3864  \n",
       "1349              152523          1              152524          0   3864  \n",
       "\n",
       "[8671 rows x 19 columns]"
      ]
     },
     "execution_count": 4,
     "metadata": {},
     "output_type": "execute_result"
    }
   ],
   "source": [
    "df"
   ]
  },
  {
   "cell_type": "code",
   "execution_count": 5,
   "id": "01717b67-ecd3-4a3d-9912-fb69a7f611fe",
   "metadata": {
    "execution": {
     "iopub.execute_input": "2024-02-28T11:51:15.029365Z",
     "iopub.status.busy": "2024-02-28T11:51:15.029225Z",
     "iopub.status.idle": "2024-02-28T11:51:15.033771Z",
     "shell.execute_reply": "2024-02-28T11:51:15.033394Z",
     "shell.execute_reply.started": "2024-02-28T11:51:15.029353Z"
    }
   },
   "outputs": [
    {
     "name": "stdout",
     "output_type": "stream",
     "text": [
      "isolated_star_id\n",
      "ra\n",
      "dec\n",
      "primary_band\n",
      "source_cat_index\n",
      "nsource\n",
      "source_cat_index_i\n",
      "nsource_i\n",
      "source_cat_index_z\n",
      "nsource_z\n",
      "source_cat_index_r\n",
      "nsource_r\n",
      "source_cat_index_g\n",
      "nsource_g\n",
      "source_cat_index_y\n",
      "nsource_y\n",
      "source_cat_index_u\n",
      "nsource_u\n",
      "tract\n"
     ]
    }
   ],
   "source": [
    "colnames = list(df.columns)\n",
    "for name in colnames:\n",
    "    print(name)"
   ]
  },
  {
   "cell_type": "code",
   "execution_count": 6,
   "id": "4b23eb74-c343-450f-a9ea-bff1b6603972",
   "metadata": {
    "execution": {
     "iopub.execute_input": "2024-02-28T11:51:15.034372Z",
     "iopub.status.busy": "2024-02-28T11:51:15.034237Z",
     "iopub.status.idle": "2024-02-28T11:51:15.609734Z",
     "shell.execute_reply": "2024-02-28T11:51:15.608506Z",
     "shell.execute_reply.started": "2024-02-28T11:51:15.034360Z"
    }
   },
   "outputs": [
    {
     "ename": "KeyError",
     "evalue": "\"['sourceId', 'ccdVisitId', 'x', 'y', 'coord_ra', 'coord_dec', 'psfFlux', 'gaussianFlux', 'visit', 'band', 'visid_idx', 'mjd', 'dateobs', 'extendedness_flag', 'detect_isPrimary'] not in index\"",
     "output_type": "error",
     "traceback": [
      "\u001b[0;31m---------------------------------------------------------------------------\u001b[0m",
      "\u001b[0;31mKeyError\u001b[0m                                  Traceback (most recent call last)",
      "Cell \u001b[0;32mIn[6], line 1\u001b[0m\n\u001b[0;32m----> 1\u001b[0m df_sel \u001b[38;5;241m=\u001b[39m \u001b[43mdf\u001b[49m\u001b[43m[\u001b[49m\u001b[43m[\u001b[49m\u001b[38;5;124;43m'\u001b[39;49m\u001b[38;5;124;43msourceId\u001b[39;49m\u001b[38;5;124;43m'\u001b[39;49m\u001b[43m,\u001b[49m\u001b[38;5;124;43m'\u001b[39;49m\u001b[38;5;124;43mccdVisitId\u001b[39;49m\u001b[38;5;124;43m'\u001b[39;49m\u001b[43m,\u001b[49m\u001b[38;5;124;43m'\u001b[39;49m\u001b[38;5;124;43mx\u001b[39;49m\u001b[38;5;124;43m'\u001b[39;49m\u001b[43m,\u001b[49m\u001b[38;5;124;43m'\u001b[39;49m\u001b[38;5;124;43my\u001b[39;49m\u001b[38;5;124;43m'\u001b[39;49m\u001b[43m,\u001b[49m\u001b[38;5;124;43m'\u001b[39;49m\u001b[38;5;124;43mra\u001b[39;49m\u001b[38;5;124;43m'\u001b[39;49m\u001b[43m,\u001b[49m\u001b[38;5;124;43m'\u001b[39;49m\u001b[38;5;124;43mdec\u001b[39;49m\u001b[38;5;124;43m'\u001b[39;49m\u001b[43m,\u001b[49m\u001b[38;5;124;43m'\u001b[39;49m\u001b[38;5;124;43mcoord_ra\u001b[39;49m\u001b[38;5;124;43m'\u001b[39;49m\u001b[43m,\u001b[49m\u001b[38;5;124;43m'\u001b[39;49m\u001b[38;5;124;43mcoord_dec\u001b[39;49m\u001b[38;5;124;43m'\u001b[39;49m\u001b[43m,\u001b[49m\u001b[38;5;124;43m'\u001b[39;49m\u001b[38;5;124;43mpsfFlux\u001b[39;49m\u001b[38;5;124;43m'\u001b[39;49m\u001b[43m,\u001b[49m\u001b[38;5;124;43m'\u001b[39;49m\u001b[38;5;124;43mgaussianFlux\u001b[39;49m\u001b[38;5;124;43m'\u001b[39;49m\u001b[43m,\u001b[49m\u001b[38;5;124;43m'\u001b[39;49m\u001b[38;5;124;43mvisit\u001b[39;49m\u001b[38;5;124;43m'\u001b[39;49m\u001b[43m,\u001b[49m\u001b[38;5;124;43m'\u001b[39;49m\u001b[38;5;124;43mband\u001b[39;49m\u001b[38;5;124;43m'\u001b[39;49m\u001b[43m,\u001b[49m\u001b[38;5;124;43m'\u001b[39;49m\u001b[38;5;124;43mvisid_idx\u001b[39;49m\u001b[38;5;124;43m'\u001b[39;49m\u001b[43m,\u001b[49m\u001b[38;5;124;43m'\u001b[39;49m\u001b[38;5;124;43mmjd\u001b[39;49m\u001b[38;5;124;43m'\u001b[39;49m\u001b[43m,\u001b[49m\u001b[38;5;124;43m'\u001b[39;49m\u001b[38;5;124;43mdateobs\u001b[39;49m\u001b[38;5;124;43m'\u001b[39;49m\u001b[43m,\u001b[49m\u001b[38;5;124;43m'\u001b[39;49m\u001b[38;5;124;43mextendedness_flag\u001b[39;49m\u001b[38;5;124;43m'\u001b[39;49m\u001b[43m,\u001b[49m\u001b[38;5;124;43m'\u001b[39;49m\u001b[38;5;124;43mdetect_isPrimary\u001b[39;49m\u001b[38;5;124;43m'\u001b[39;49m\u001b[43m]\u001b[49m\u001b[43m]\u001b[49m\n",
      "File \u001b[0;32m~/.local/lib/python3.11/site-packages/pandas/core/frame.py:3813\u001b[0m, in \u001b[0;36mDataFrame.__getitem__\u001b[0;34m(self, key)\u001b[0m\n\u001b[1;32m   3811\u001b[0m     \u001b[38;5;28;01mif\u001b[39;00m is_iterator(key):\n\u001b[1;32m   3812\u001b[0m         key \u001b[38;5;241m=\u001b[39m \u001b[38;5;28mlist\u001b[39m(key)\n\u001b[0;32m-> 3813\u001b[0m     indexer \u001b[38;5;241m=\u001b[39m \u001b[38;5;28;43mself\u001b[39;49m\u001b[38;5;241;43m.\u001b[39;49m\u001b[43mcolumns\u001b[49m\u001b[38;5;241;43m.\u001b[39;49m\u001b[43m_get_indexer_strict\u001b[49m\u001b[43m(\u001b[49m\u001b[43mkey\u001b[49m\u001b[43m,\u001b[49m\u001b[43m \u001b[49m\u001b[38;5;124;43m\"\u001b[39;49m\u001b[38;5;124;43mcolumns\u001b[39;49m\u001b[38;5;124;43m\"\u001b[39;49m\u001b[43m)\u001b[49m[\u001b[38;5;241m1\u001b[39m]\n\u001b[1;32m   3815\u001b[0m \u001b[38;5;66;03m# take() does not accept boolean indexers\u001b[39;00m\n\u001b[1;32m   3816\u001b[0m \u001b[38;5;28;01mif\u001b[39;00m \u001b[38;5;28mgetattr\u001b[39m(indexer, \u001b[38;5;124m\"\u001b[39m\u001b[38;5;124mdtype\u001b[39m\u001b[38;5;124m\"\u001b[39m, \u001b[38;5;28;01mNone\u001b[39;00m) \u001b[38;5;241m==\u001b[39m \u001b[38;5;28mbool\u001b[39m:\n",
      "File \u001b[0;32m~/.local/lib/python3.11/site-packages/pandas/core/indexes/base.py:6070\u001b[0m, in \u001b[0;36mIndex._get_indexer_strict\u001b[0;34m(self, key, axis_name)\u001b[0m\n\u001b[1;32m   6067\u001b[0m \u001b[38;5;28;01melse\u001b[39;00m:\n\u001b[1;32m   6068\u001b[0m     keyarr, indexer, new_indexer \u001b[38;5;241m=\u001b[39m \u001b[38;5;28mself\u001b[39m\u001b[38;5;241m.\u001b[39m_reindex_non_unique(keyarr)\n\u001b[0;32m-> 6070\u001b[0m \u001b[38;5;28;43mself\u001b[39;49m\u001b[38;5;241;43m.\u001b[39;49m\u001b[43m_raise_if_missing\u001b[49m\u001b[43m(\u001b[49m\u001b[43mkeyarr\u001b[49m\u001b[43m,\u001b[49m\u001b[43m \u001b[49m\u001b[43mindexer\u001b[49m\u001b[43m,\u001b[49m\u001b[43m \u001b[49m\u001b[43maxis_name\u001b[49m\u001b[43m)\u001b[49m\n\u001b[1;32m   6072\u001b[0m keyarr \u001b[38;5;241m=\u001b[39m \u001b[38;5;28mself\u001b[39m\u001b[38;5;241m.\u001b[39mtake(indexer)\n\u001b[1;32m   6073\u001b[0m \u001b[38;5;28;01mif\u001b[39;00m \u001b[38;5;28misinstance\u001b[39m(key, Index):\n\u001b[1;32m   6074\u001b[0m     \u001b[38;5;66;03m# GH 42790 - Preserve name from an Index\u001b[39;00m\n",
      "File \u001b[0;32m~/.local/lib/python3.11/site-packages/pandas/core/indexes/base.py:6133\u001b[0m, in \u001b[0;36mIndex._raise_if_missing\u001b[0;34m(self, key, indexer, axis_name)\u001b[0m\n\u001b[1;32m   6130\u001b[0m     \u001b[38;5;28;01mraise\u001b[39;00m \u001b[38;5;167;01mKeyError\u001b[39;00m(\u001b[38;5;124mf\u001b[39m\u001b[38;5;124m\"\u001b[39m\u001b[38;5;124mNone of [\u001b[39m\u001b[38;5;132;01m{\u001b[39;00mkey\u001b[38;5;132;01m}\u001b[39;00m\u001b[38;5;124m] are in the [\u001b[39m\u001b[38;5;132;01m{\u001b[39;00maxis_name\u001b[38;5;132;01m}\u001b[39;00m\u001b[38;5;124m]\u001b[39m\u001b[38;5;124m\"\u001b[39m)\n\u001b[1;32m   6132\u001b[0m not_found \u001b[38;5;241m=\u001b[39m \u001b[38;5;28mlist\u001b[39m(ensure_index(key)[missing_mask\u001b[38;5;241m.\u001b[39mnonzero()[\u001b[38;5;241m0\u001b[39m]]\u001b[38;5;241m.\u001b[39munique())\n\u001b[0;32m-> 6133\u001b[0m \u001b[38;5;28;01mraise\u001b[39;00m \u001b[38;5;167;01mKeyError\u001b[39;00m(\u001b[38;5;124mf\u001b[39m\u001b[38;5;124m\"\u001b[39m\u001b[38;5;132;01m{\u001b[39;00mnot_found\u001b[38;5;132;01m}\u001b[39;00m\u001b[38;5;124m not in index\u001b[39m\u001b[38;5;124m\"\u001b[39m)\n",
      "\u001b[0;31mKeyError\u001b[0m: \"['sourceId', 'ccdVisitId', 'x', 'y', 'coord_ra', 'coord_dec', 'psfFlux', 'gaussianFlux', 'visit', 'band', 'visid_idx', 'mjd', 'dateobs', 'extendedness_flag', 'detect_isPrimary'] not in index\""
     ]
    }
   ],
   "source": [
    "df_sel = df[['sourceId','ccdVisitId','x','y','ra','dec','coord_ra','coord_dec','psfFlux','gaussianFlux','visit','band','visid_idx','mjd','dateobs','extendedness_flag','detect_isPrimary']]"
   ]
  },
  {
   "cell_type": "code",
   "execution_count": null,
   "id": "a9301c9b-afca-4997-a25b-349c58ffbda7",
   "metadata": {
    "execution": {
     "iopub.status.busy": "2024-02-28T11:51:15.610271Z",
     "iopub.status.idle": "2024-02-28T11:51:15.610447Z",
     "shell.execute_reply": "2024-02-28T11:51:15.610369Z",
     "shell.execute_reply.started": "2024-02-28T11:51:15.610361Z"
    }
   },
   "outputs": [],
   "source": [
    "def convert_fluxtomag(x) :\n",
    "    \"\"\"\n",
    "    The object and source catalogs store only fluxes. There are hundreds of flux-related columns, \n",
    "    and to store them also as magnitudes would be redundant, and a waste of space.\n",
    "    All flux units are nanojanskys. The AB Magnitudes Wikipedia page provides a concise resource \n",
    "    for users unfamiliar with AB magnitudes and jansky fluxes. To convert to AB magnitudes use:\n",
    "    As demonstrated in Section 2.3.2, to add columns of magnitudes after retrieving columns of flux, users can do this:\n",
    "    results_table['r_calibMag'] = -2.50 * numpy.log10(results_table['r_calibFlux']) + 31.4\n",
    "    results_table['r_cModelMag'] = -2.50 * numpy.log10(results_table['r_cModelFlux']) + 31.4\n",
    "    (from DP0 tutorial)\n",
    "    \"\"\"\n",
    "    return -2.50 * np.log10(x) + 31.4"
   ]
  },
  {
   "cell_type": "code",
   "execution_count": null,
   "id": "30914e6f-52fd-4eb3-bbc1-23ff66a89188",
   "metadata": {
    "execution": {
     "iopub.status.busy": "2024-02-28T11:51:15.610924Z",
     "iopub.status.idle": "2024-02-28T11:51:15.611078Z",
     "shell.execute_reply": "2024-02-28T11:51:15.611007Z",
     "shell.execute_reply.started": "2024-02-28T11:51:15.611000Z"
    }
   },
   "outputs": [],
   "source": [
    "df_sel[\"psfMag\"] =  df_sel['psfFlux'].map(convert_fluxtomag)\n",
    "#df_sel[\"gaussianMag\"] =  df_sel['gaussianFlux'].map(lambda x:-2.50 * np.log10(x) + 31.4)\n",
    "df_sel[\"gaussianMag\"] =  df_sel['gaussianFlux'].map(convert_fluxtomag)"
   ]
  },
  {
   "cell_type": "code",
   "execution_count": null,
   "id": "b5458f28-5032-4720-a388-636dd8c40425",
   "metadata": {
    "execution": {
     "iopub.status.busy": "2024-02-28T11:51:15.611733Z",
     "iopub.status.idle": "2024-02-28T11:51:15.611900Z",
     "shell.execute_reply": "2024-02-28T11:51:15.611819Z",
     "shell.execute_reply.started": "2024-02-28T11:51:15.611812Z"
    }
   },
   "outputs": [],
   "source": [
    "df_sel = df_sel[df_sel['extendedness_flag']==False & df_sel['detect_isPrimary']]"
   ]
  },
  {
   "cell_type": "code",
   "execution_count": null,
   "id": "f48573a3-24d2-4149-b861-e291ebac8091",
   "metadata": {
    "execution": {
     "iopub.status.busy": "2024-02-28T11:51:15.612347Z",
     "iopub.status.idle": "2024-02-28T11:51:15.612552Z",
     "shell.execute_reply": "2024-02-28T11:51:15.612463Z",
     "shell.execute_reply.started": "2024-02-28T11:51:15.612456Z"
    }
   },
   "outputs": [],
   "source": [
    "df_sel.dropna(axis=0,inplace = True)"
   ]
  },
  {
   "cell_type": "code",
   "execution_count": null,
   "id": "495079c5-f71e-4741-8cdc-0b912d4dc36b",
   "metadata": {
    "execution": {
     "iopub.status.busy": "2024-02-28T11:51:15.613008Z",
     "iopub.status.idle": "2024-02-28T11:51:15.613173Z",
     "shell.execute_reply": "2024-02-28T11:51:15.613090Z",
     "shell.execute_reply.started": "2024-02-28T11:51:15.613083Z"
    }
   },
   "outputs": [],
   "source": [
    "df_sel"
   ]
  },
  {
   "cell_type": "code",
   "execution_count": null,
   "id": "a8f6b71e-4486-45a6-bab8-13eae61ded2f",
   "metadata": {
    "execution": {
     "iopub.status.busy": "2024-02-28T11:51:15.613593Z",
     "iopub.status.idle": "2024-02-28T11:51:15.613752Z",
     "shell.execute_reply": "2024-02-28T11:51:15.613682Z",
     "shell.execute_reply.started": "2024-02-28T11:51:15.613675Z"
    }
   },
   "outputs": [],
   "source": [
    "df_sel.plot.scatter('x','y',c='ccdVisitId',colormap='viridis')"
   ]
  },
  {
   "cell_type": "code",
   "execution_count": null,
   "id": "7f1e4786-d417-402a-bdc1-0aca5e040dae",
   "metadata": {
    "execution": {
     "iopub.status.busy": "2024-02-28T11:51:15.614375Z",
     "iopub.status.idle": "2024-02-28T11:51:15.614529Z",
     "shell.execute_reply": "2024-02-28T11:51:15.614457Z",
     "shell.execute_reply.started": "2024-02-28T11:51:15.614450Z"
    }
   },
   "outputs": [],
   "source": [
    "df_sel.plot.scatter('ra','dec',c='ccdVisitId',colormap='hsv',grid=True,figsize=(10,5))"
   ]
  },
  {
   "cell_type": "code",
   "execution_count": null,
   "id": "52e5f78a-e202-4fc7-8aa5-8a99fce569d0",
   "metadata": {
    "execution": {
     "iopub.status.busy": "2024-02-28T11:51:15.614941Z",
     "iopub.status.idle": "2024-02-28T11:51:15.615092Z",
     "shell.execute_reply": "2024-02-28T11:51:15.615022Z",
     "shell.execute_reply.started": "2024-02-28T11:51:15.615015Z"
    }
   },
   "outputs": [],
   "source": [
    "df_sel.plot.scatter('coord_ra','coord_dec',c='ccdVisitId',colormap='hsv',grid=True,figsize=(10,5))"
   ]
  },
  {
   "cell_type": "code",
   "execution_count": null,
   "id": "36bc38b2-e138-4e00-8b73-f2776f1b0685",
   "metadata": {
    "execution": {
     "iopub.status.busy": "2024-02-28T11:51:15.615516Z",
     "iopub.status.idle": "2024-02-28T11:51:15.615699Z",
     "shell.execute_reply": "2024-02-28T11:51:15.615622Z",
     "shell.execute_reply.started": "2024-02-28T11:51:15.615615Z"
    }
   },
   "outputs": [],
   "source": [
    "df_sel['coord_ra'].plot(kind=\"hist\",bins=50 ,range=(0,360),logy=True,title=\"coord_ra\",grid=True,figsize=(10,5))"
   ]
  },
  {
   "cell_type": "code",
   "execution_count": null,
   "id": "ea52f52d-785d-401e-9e2a-7f6f4cbafe08",
   "metadata": {
    "execution": {
     "iopub.status.busy": "2024-02-28T11:51:15.616494Z",
     "iopub.status.idle": "2024-02-28T11:51:15.616650Z",
     "shell.execute_reply": "2024-02-28T11:51:15.616575Z",
     "shell.execute_reply.started": "2024-02-28T11:51:15.616569Z"
    }
   },
   "outputs": [],
   "source": [
    "df_sel['coord_dec'].plot(kind=\"hist\",bins=50 ,range=(-90,10),logy=True,title=\"coord_dec\",grid=True,figsize=(10,5))"
   ]
  },
  {
   "cell_type": "code",
   "execution_count": null,
   "id": "71a85a9e-0a81-4d04-a3a7-417f9cc0a39f",
   "metadata": {
    "execution": {
     "iopub.status.busy": "2024-02-28T11:51:15.616939Z",
     "iopub.status.idle": "2024-02-28T11:51:15.617079Z",
     "shell.execute_reply": "2024-02-28T11:51:15.617013Z",
     "shell.execute_reply.started": "2024-02-28T11:51:15.617007Z"
    }
   },
   "outputs": [],
   "source": [
    "cut_skyloc = ((df_sel['dec'] < -30) & (df_sel['dec'] > -40) & (df_sel['ra'] > 100) & (df_sel['ra'] < 150))"
   ]
  },
  {
   "cell_type": "code",
   "execution_count": null,
   "id": "4312ddf5-74d6-4cd9-bff5-dce8d55505f6",
   "metadata": {
    "execution": {
     "iopub.status.busy": "2024-02-28T11:51:15.617600Z",
     "iopub.status.idle": "2024-02-28T11:51:15.617749Z",
     "shell.execute_reply": "2024-02-28T11:51:15.617677Z",
     "shell.execute_reply.started": "2024-02-28T11:51:15.617670Z"
    }
   },
   "outputs": [],
   "source": [
    "df_sel = df_sel[cut_skyloc]"
   ]
  },
  {
   "cell_type": "code",
   "execution_count": null,
   "id": "8d7ea79d-7fdc-40b8-a3db-4ab04b815cd2",
   "metadata": {
    "execution": {
     "iopub.status.busy": "2024-02-28T11:51:15.618210Z",
     "iopub.status.idle": "2024-02-28T11:51:15.618397Z",
     "shell.execute_reply": "2024-02-28T11:51:15.618300Z",
     "shell.execute_reply.started": "2024-02-28T11:51:15.618291Z"
    }
   },
   "outputs": [],
   "source": [
    "df_sel['psfMag'].plot(kind=\"hist\",bins=50,range=(5,30),logy=True,grid=True,title=\"psMag\")"
   ]
  },
  {
   "cell_type": "code",
   "execution_count": null,
   "id": "d9f34f5d-1060-447d-b73d-5626e1a5972b",
   "metadata": {
    "execution": {
     "iopub.status.busy": "2024-02-28T11:51:15.618725Z",
     "iopub.status.idle": "2024-02-28T11:51:15.618870Z",
     "shell.execute_reply": "2024-02-28T11:51:15.618803Z",
     "shell.execute_reply.started": "2024-02-28T11:51:15.618797Z"
    }
   },
   "outputs": [],
   "source": [
    "df_sel['gaussianMag'].plot(kind=\"hist\",bins=50 ,range=(5,30),logy=True,grid=True,title=\"gaussianMag\")"
   ]
  },
  {
   "cell_type": "code",
   "execution_count": null,
   "id": "f560da18-d3db-437b-a323-207132665bf3",
   "metadata": {
    "execution": {
     "iopub.status.busy": "2024-02-28T11:51:15.619613Z",
     "iopub.status.idle": "2024-02-28T11:51:15.619829Z",
     "shell.execute_reply": "2024-02-28T11:51:15.619732Z",
     "shell.execute_reply.started": "2024-02-28T11:51:15.619722Z"
    }
   },
   "outputs": [],
   "source": [
    "df_sel"
   ]
  },
  {
   "cell_type": "code",
   "execution_count": null,
   "id": "5769a54e-167c-438c-aed4-a1bd070d2d8c",
   "metadata": {
    "execution": {
     "iopub.status.busy": "2024-02-28T11:51:15.620217Z",
     "iopub.status.idle": "2024-02-28T11:51:15.620377Z",
     "shell.execute_reply": "2024-02-28T11:51:15.620293Z",
     "shell.execute_reply.started": "2024-02-28T11:51:15.620287Z"
    }
   },
   "outputs": [],
   "source": [
    "#df_sel.groupby(df_sel['dateobs'].dt.date).size().plot()\n",
    "datetime = pd.to_datetime(df_sel['dateobs'])"
   ]
  },
  {
   "cell_type": "code",
   "execution_count": null,
   "id": "5eb4f7c1-bf32-4943-843c-85c1dddefe39",
   "metadata": {
    "execution": {
     "iopub.status.busy": "2024-02-28T11:51:15.620820Z",
     "iopub.status.idle": "2024-02-28T11:51:15.620967Z",
     "shell.execute_reply": "2024-02-28T11:51:15.620895Z",
     "shell.execute_reply.started": "2024-02-28T11:51:15.620889Z"
    }
   },
   "outputs": [],
   "source": [
    "df_sel['dateobs'].max()"
   ]
  },
  {
   "cell_type": "code",
   "execution_count": null,
   "id": "1bf81fbf-64e6-46f5-be8a-9adca60d3abb",
   "metadata": {
    "execution": {
     "iopub.status.busy": "2024-02-28T11:51:15.621424Z",
     "iopub.status.idle": "2024-02-28T11:51:15.621566Z",
     "shell.execute_reply": "2024-02-28T11:51:15.621498Z",
     "shell.execute_reply.started": "2024-02-28T11:51:15.621492Z"
    }
   },
   "outputs": [],
   "source": [
    "df_sel[\"date\"] = df[\"dateobs\"].astype(\"datetime64\")"
   ]
  },
  {
   "cell_type": "code",
   "execution_count": null,
   "id": "a6e84a91-e9d6-404d-8ef9-c2f80f3d3bf0",
   "metadata": {
    "execution": {
     "iopub.status.busy": "2024-02-28T11:51:15.621989Z",
     "iopub.status.idle": "2024-02-28T11:51:15.622153Z",
     "shell.execute_reply": "2024-02-28T11:51:15.622075Z",
     "shell.execute_reply.started": "2024-02-28T11:51:15.622068Z"
    }
   },
   "outputs": [],
   "source": [
    "df_sel"
   ]
  },
  {
   "cell_type": "code",
   "execution_count": null,
   "id": "0c1f2fd3-0101-4637-b030-d226a3b58cab",
   "metadata": {
    "execution": {
     "iopub.status.busy": "2024-02-28T11:51:15.622729Z",
     "iopub.status.idle": "2024-02-28T11:51:15.622884Z",
     "shell.execute_reply": "2024-02-28T11:51:15.622808Z",
     "shell.execute_reply.started": "2024-02-28T11:51:15.622801Z"
    }
   },
   "outputs": [],
   "source": [
    "df_time = df_sel[[\"date\"]]"
   ]
  },
  {
   "cell_type": "code",
   "execution_count": null,
   "id": "79e7f118-e3da-4e0a-9497-a1079dbd30d6",
   "metadata": {
    "execution": {
     "iopub.status.busy": "2024-02-28T11:51:15.623327Z",
     "iopub.status.idle": "2024-02-28T11:51:15.623476Z",
     "shell.execute_reply": "2024-02-28T11:51:15.623405Z",
     "shell.execute_reply.started": "2024-02-28T11:51:15.623399Z"
    }
   },
   "outputs": [],
   "source": [
    "df_time"
   ]
  },
  {
   "cell_type": "code",
   "execution_count": null,
   "id": "1845d0ef-c99a-4b63-9212-80d890f38128",
   "metadata": {
    "execution": {
     "iopub.status.busy": "2024-02-28T11:51:15.623978Z",
     "iopub.status.idle": "2024-02-28T11:51:15.624119Z",
     "shell.execute_reply": "2024-02-28T11:51:15.624053Z",
     "shell.execute_reply.started": "2024-02-28T11:51:15.624046Z"
    }
   },
   "outputs": [],
   "source": [
    "fig = plt.figure()\n",
    "ax = fig.add_subplot(1,1,1)\n",
    "ax = (df_time[\"date\"].groupby(df_time[\"date\"].dt.minute)\n",
    "                         .count()).plot(kind=\"bar\")"
   ]
  }
 ],
 "metadata": {
  "kernelspec": {
   "display_name": "LSST",
   "language": "python",
   "name": "lsst"
  },
  "language_info": {
   "codemirror_mode": {
    "name": "ipython",
    "version": 3
   },
   "file_extension": ".py",
   "mimetype": "text/x-python",
   "name": "python",
   "nbconvert_exporter": "python",
   "pygments_lexer": "ipython3",
   "version": "3.11.7"
  }
 },
 "nbformat": 4,
 "nbformat_minor": 5
}
