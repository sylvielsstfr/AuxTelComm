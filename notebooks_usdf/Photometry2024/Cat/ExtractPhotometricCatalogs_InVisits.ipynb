{
 "cells": [
  {
   "cell_type": "markdown",
   "id": "0b8c2138-5194-4d03-8b77-be24e2cc8ee3",
   "metadata": {},
   "source": [
    "# Extract sources from catalogs  in  OGA"
   ]
  },
  {
   "cell_type": "markdown",
   "id": "740e34fb-3fef-45a8-941b-c229742ab016",
   "metadata": {},
   "source": [
    " work with Weakly_2024_07\n",
    "- use jupyter kernel LSST\n",
    "- author : Sylvie Dagoret-Campagne\n",
    "- affiliation : IJCLab\n",
    "- creation date : 2024/02/18\n",
    "- update : 2024/02/27\n",
    "\n",
    "\n",
    "         DatasetType('isolated_star_cat', {instrument, skymap, tract}, DataFrame),\n",
    "         DatasetType('isolated_star_sources', {instrument, skymap, tract}, DataFrame),\n",
    "         DatasetType('isolated_star_sources_atlas_refcat2_20220201_match', {skymap, tract}, DataFrame),\n"
   ]
  },
  {
   "cell_type": "code",
   "execution_count": 1,
   "id": "ed2c3410-fe83-432e-ab87-9f4513fa8d8b",
   "metadata": {
    "execution": {
     "iopub.execute_input": "2024-02-29T13:09:11.647049Z",
     "iopub.status.busy": "2024-02-29T13:09:11.646925Z",
     "iopub.status.idle": "2024-02-29T13:09:11.992318Z",
     "shell.execute_reply": "2024-02-29T13:09:11.991738Z",
     "shell.execute_reply.started": "2024-02-29T13:09:11.647037Z"
    }
   },
   "outputs": [
    {
     "name": "stdout",
     "output_type": "stream",
     "text": [
      "analysis_tools        LOCAL:/home/d/dagoret/repos/repos_w_2024_07/analysis_tools \tsetup\n",
      "atmospec              LOCAL:/home/d/dagoret/repos/repos_w_2024_07/atmospec \tsetup\n",
      "eups                  LOCAL:/opt/lsst/software/stack/conda/miniconda3-py38_4.9.2/envs/lsst-scipipe-8.0.0/eups \tsetup\n",
      "spectractor           LOCAL:/home/d/dagoret/repos/repos_w_2024_07/Spectractor \tsetup\n"
     ]
    }
   ],
   "source": [
    "! eups list -s | grep LOCAL"
   ]
  },
  {
   "cell_type": "code",
   "execution_count": 2,
   "id": "70918d81-0cf6-4b0a-8f61-f5e5bec5b0e7",
   "metadata": {
    "execution": {
     "iopub.execute_input": "2024-02-29T13:09:11.993550Z",
     "iopub.status.busy": "2024-02-29T13:09:11.993151Z",
     "iopub.status.idle": "2024-02-29T13:09:12.328349Z",
     "shell.execute_reply": "2024-02-29T13:09:12.327808Z",
     "shell.execute_reply.started": "2024-02-29T13:09:11.993528Z"
    }
   },
   "outputs": [
    {
     "name": "stdout",
     "output_type": "stream",
     "text": [
      "   g4213664e8e+34187316c4 \tcurrent w_2024_07 setup\n"
     ]
    }
   ],
   "source": [
    "! eups list -s lsst_distrib"
   ]
  },
  {
   "cell_type": "code",
   "execution_count": 3,
   "id": "f8d9cfca-5881-48c1-b2cb-0f794a2e4091",
   "metadata": {
    "execution": {
     "iopub.execute_input": "2024-02-29T13:09:12.329258Z",
     "iopub.status.busy": "2024-02-29T13:09:12.329104Z",
     "iopub.status.idle": "2024-02-29T13:09:12.952941Z",
     "shell.execute_reply": "2024-02-29T13:09:12.952513Z",
     "shell.execute_reply.started": "2024-02-29T13:09:12.329242Z"
    },
    "tags": []
   },
   "outputs": [],
   "source": [
    "import lsst.daf.butler as dafButler\n",
    "#import lsst.summit.utils.butlerUtils as butlerUtils"
   ]
  },
  {
   "cell_type": "code",
   "execution_count": 4,
   "id": "1ceacda9-20b0-4d77-a0d2-572c957ce273",
   "metadata": {
    "execution": {
     "iopub.execute_input": "2024-02-29T13:09:12.954477Z",
     "iopub.status.busy": "2024-02-29T13:09:12.954318Z",
     "iopub.status.idle": "2024-02-29T13:09:13.487877Z",
     "shell.execute_reply": "2024-02-29T13:09:13.487461Z",
     "shell.execute_reply.started": "2024-02-29T13:09:12.954463Z"
    },
    "tags": []
   },
   "outputs": [],
   "source": [
    "import numpy as np\n",
    "import matplotlib.pyplot as plt\n",
    "%matplotlib inline\n",
    "from mpl_toolkits.axes_grid1 import make_axes_locatable\n",
    "from matplotlib.colors import LogNorm,SymLogNorm\n",
    "\n",
    "\n",
    "import matplotlib.ticker                         # here's where the formatter is\n",
    "from matplotlib.ticker import (MultipleLocator, FormatStrFormatter,\n",
    "                               AutoMinorLocator)\n",
    "\n",
    "from astropy.visualization import (MinMaxInterval, SqrtStretch,ZScaleInterval,PercentileInterval,\n",
    "                                   ImageNormalize,imshow_norm)\n",
    "from astropy.visualization.stretch import SinhStretch, LinearStretch,AsinhStretch,LogStretch\n",
    "\n",
    "from astropy.io import fits\n",
    "from astropy.table import Table\n",
    "import pandas as pd\n",
    "\n",
    "import matplotlib.ticker                         # here's where the formatter is\n",
    "import os\n",
    "import re\n",
    "import pandas as pd\n",
    "\n",
    "plt.rcParams[\"figure.figsize\"] = (4,3)\n",
    "plt.rcParams[\"axes.labelsize\"] = 'xx-large'\n",
    "plt.rcParams['axes.titlesize'] = 'xx-large'\n",
    "plt.rcParams['xtick.labelsize']= 'xx-large'\n",
    "plt.rcParams['ytick.labelsize']= 'xx-large'"
   ]
  },
  {
   "cell_type": "code",
   "execution_count": 5,
   "id": "34c92544-f2fd-4287-b852-e2ccb9a3b510",
   "metadata": {
    "execution": {
     "iopub.execute_input": "2024-02-29T13:09:13.488787Z",
     "iopub.status.busy": "2024-02-29T13:09:13.488476Z",
     "iopub.status.idle": "2024-02-29T13:09:13.491185Z",
     "shell.execute_reply": "2024-02-29T13:09:13.490846Z",
     "shell.execute_reply.started": "2024-02-29T13:09:13.488773Z"
    },
    "tags": []
   },
   "outputs": [],
   "source": [
    "from matplotlib.ticker import (MultipleLocator, FormatStrFormatter,\n",
    "                               AutoMinorLocator)\n",
    "\n",
    "from astropy.visualization import (MinMaxInterval, SqrtStretch,ZScaleInterval,PercentileInterval,\n",
    "                                   ImageNormalize,imshow_norm)\n",
    "from astropy.visualization.stretch import SinhStretch, LinearStretch,AsinhStretch,LogStretch\n",
    "\n",
    "from astropy.time import Time\n"
   ]
  },
  {
   "cell_type": "code",
   "execution_count": 6,
   "id": "77aa5733-0a46-49eb-b26e-d3bb6195cc3d",
   "metadata": {
    "execution": {
     "iopub.execute_input": "2024-02-29T13:09:13.491782Z",
     "iopub.status.busy": "2024-02-29T13:09:13.491660Z",
     "iopub.status.idle": "2024-02-29T13:09:13.766820Z",
     "shell.execute_reply": "2024-02-29T13:09:13.766356Z",
     "shell.execute_reply.started": "2024-02-29T13:09:13.491770Z"
    },
    "tags": []
   },
   "outputs": [],
   "source": [
    "# LSST Display\n",
    "import lsst.afw.display as afwDisplay\n",
    "afwDisplay.setDefaultBackend('matplotlib')"
   ]
  },
  {
   "cell_type": "code",
   "execution_count": 7,
   "id": "b7cea198-6f3c-4a87-8877-fdf8e4d73c26",
   "metadata": {
    "execution": {
     "iopub.execute_input": "2024-02-29T13:09:13.767761Z",
     "iopub.status.busy": "2024-02-29T13:09:13.767428Z",
     "iopub.status.idle": "2024-02-29T13:09:13.769886Z",
     "shell.execute_reply": "2024-02-29T13:09:13.769517Z",
     "shell.execute_reply.started": "2024-02-29T13:09:13.767747Z"
    },
    "tags": []
   },
   "outputs": [],
   "source": [
    "transform = AsinhStretch() + PercentileInterval(99.)"
   ]
  },
  {
   "cell_type": "code",
   "execution_count": 8,
   "id": "c8b31810-780c-43f2-92a1-af05fddd65e1",
   "metadata": {
    "execution": {
     "iopub.execute_input": "2024-02-29T13:09:13.770562Z",
     "iopub.status.busy": "2024-02-29T13:09:13.770417Z",
     "iopub.status.idle": "2024-02-29T13:09:13.773982Z",
     "shell.execute_reply": "2024-02-29T13:09:13.773657Z",
     "shell.execute_reply.started": "2024-02-29T13:09:13.770548Z"
    }
   },
   "outputs": [],
   "source": [
    "pd.options.display.max_columns = None\n",
    "#pd.options.display.max_rows = None\n",
    "\n"
   ]
  },
  {
   "cell_type": "markdown",
   "id": "17f98db2-2ea8-4546-87a9-f2cd11d67ec7",
   "metadata": {},
   "source": [
    "## Configuration"
   ]
  },
  {
   "cell_type": "code",
   "execution_count": 9,
   "id": "f6c1ac18-5e47-4ae9-93ec-32f4337aa520",
   "metadata": {
    "execution": {
     "iopub.execute_input": "2024-02-29T13:09:13.774606Z",
     "iopub.status.busy": "2024-02-29T13:09:13.774480Z",
     "iopub.status.idle": "2024-02-29T13:09:13.778282Z",
     "shell.execute_reply": "2024-02-29T13:09:13.777929Z",
     "shell.execute_reply.started": "2024-02-29T13:09:13.774595Z"
    }
   },
   "outputs": [],
   "source": [
    "DATE = 202402\n",
    "#filesource_out=\"finalized_src_table_202402.csv\"\n",
    "#filetractpatch_out = 'Latiss_tractspatchs_202312.pickle'"
   ]
  },
  {
   "cell_type": "code",
   "execution_count": 10,
   "id": "1c81d99a-5e91-4ba1-ba4a-c66b37905b98",
   "metadata": {
    "execution": {
     "iopub.execute_input": "2024-02-29T13:09:13.778894Z",
     "iopub.status.busy": "2024-02-29T13:09:13.778771Z",
     "iopub.status.idle": "2024-02-29T13:09:14.246138Z",
     "shell.execute_reply": "2024-02-29T13:09:14.245751Z",
     "shell.execute_reply.started": "2024-02-29T13:09:13.778883Z"
    },
    "tags": []
   },
   "outputs": [],
   "source": [
    "#repo =  \"/sdf/group/rubin/repo/main\"\n",
    "repo = \"/sdf/group/rubin/repo/oga/\"\n",
    "butler = dafButler.Butler(repo)\n",
    "registry = butler.registry"
   ]
  },
  {
   "cell_type": "code",
   "execution_count": 11,
   "id": "0fffaeef-599c-4469-8c04-67252827cb8d",
   "metadata": {
    "execution": {
     "iopub.execute_input": "2024-02-29T13:09:14.246854Z",
     "iopub.status.busy": "2024-02-29T13:09:14.246673Z",
     "iopub.status.idle": "2024-02-29T13:09:14.248749Z",
     "shell.execute_reply": "2024-02-29T13:09:14.248425Z",
     "shell.execute_reply.started": "2024-02-29T13:09:14.246840Z"
    }
   },
   "outputs": [],
   "source": [
    "#file_out=\"sourceTable_202312.csv\""
   ]
  },
  {
   "cell_type": "markdown",
   "id": "20dbb8da-3a08-4b4f-9437-4bf7f28c1782",
   "metadata": {},
   "source": [
    "## Give the collection"
   ]
  },
  {
   "cell_type": "code",
   "execution_count": 12,
   "id": "9629ea29-8ab4-4062-aed1-e16d62dc90c4",
   "metadata": {
    "execution": {
     "iopub.execute_input": "2024-02-29T13:09:14.249308Z",
     "iopub.status.busy": "2024-02-29T13:09:14.249179Z",
     "iopub.status.idle": "2024-02-29T13:09:14.253210Z",
     "shell.execute_reply": "2024-02-29T13:09:14.252724Z",
     "shell.execute_reply.started": "2024-02-29T13:09:14.249296Z"
    },
    "tags": []
   },
   "outputs": [],
   "source": [
    "#my_collection = \"LATISS/runs/AUXTEL_DRP_IMAGING_2023-11A-10A-09AB-08ABC-07AB-05AB/w_2023_46/PREOPS-4553\"\n",
    "my_collection = \"LATISS/runs/AUXTEL_DRP_IMAGING_20230509_20240201/w_2024_05/PREOPS-4871\""
   ]
  },
  {
   "cell_type": "markdown",
   "id": "a7587b10-c178-4537-9c34-60867b69fa01",
   "metadata": {},
   "source": [
    "## Config"
   ]
  },
  {
   "cell_type": "markdown",
   "id": "a72c2c07-ff40-49d9-a36d-5277cbbc5cec",
   "metadata": {},
   "source": [
    "# Sources"
   ]
  },
  {
   "cell_type": "code",
   "execution_count": 13,
   "id": "c2bca87f-8b3a-44ee-afa5-5b8e0b8f9b9d",
   "metadata": {
    "execution": {
     "iopub.execute_input": "2024-02-29T13:09:14.253820Z",
     "iopub.status.busy": "2024-02-29T13:09:14.253668Z",
     "iopub.status.idle": "2024-02-29T13:09:14.349960Z",
     "shell.execute_reply": "2024-02-29T13:09:14.349562Z",
     "shell.execute_reply.started": "2024-02-29T13:09:14.253809Z"
    },
    "tags": []
   },
   "outputs": [],
   "source": [
    "# src : a Source catalog\n",
    "# srcMatchFull\n",
    "# finalized_src_table : sape of a pandas dataframe\n",
    "\n",
    "#'isolated_star_cat', {instrument, skymap, tract}, DataFrame),\n",
    "#'isolated_star_sources', {instrument, skymap, tract}, DataFrame),\n",
    "#'isolated_star_sources_atlas_refcat2_20220201_match', {skymap, tract}, DataFrame),\n",
    "\n",
    "#data_product = \"isolated_star_sources\" \n",
    "#data_product = \"isolated_star_cat\" \n",
    "#data_product = 'isolated_star_sources_atlas_refcat2_20220201_match' # Nothing\n",
    "data_product = \"icSrc\"\n",
    "#data_product = \"sourceTable_visit_gaia_dr2_2023_07_07_match\". Not found\n",
    "#data_product = 'sourceTable_visit_atlas_refcat2_20220201_match' Not found\n",
    "#data_product = \"src\"\n",
    "datasetRefs = butler.registry.queryDatasets(datasetType=data_product, collections=my_collection, where= \"instrument='LATISS'\")\n",
    "filesource_out=f\"{data_product}_{DATE}.csv\""
   ]
  },
  {
   "cell_type": "code",
   "execution_count": 14,
   "id": "7d8d81ed-a6f2-48a0-9af0-5f7149df2e86",
   "metadata": {
    "execution": {
     "iopub.execute_input": "2024-02-29T13:09:14.350644Z",
     "iopub.status.busy": "2024-02-29T13:09:14.350481Z",
     "iopub.status.idle": "2024-02-29T13:09:14.352548Z",
     "shell.execute_reply": "2024-02-29T13:09:14.352200Z",
     "shell.execute_reply.started": "2024-02-29T13:09:14.350632Z"
    }
   },
   "outputs": [],
   "source": [
    "FLAG_GET_SCHEMA = True"
   ]
  },
  {
   "cell_type": "code",
   "execution_count": 15,
   "id": "a01bb1b1-a2fe-4060-85ff-fb9e9c5dbb74",
   "metadata": {
    "execution": {
     "iopub.execute_input": "2024-02-29T13:09:14.353243Z",
     "iopub.status.busy": "2024-02-29T13:09:14.353113Z",
     "iopub.status.idle": "2024-02-29T13:09:14.356324Z",
     "shell.execute_reply": "2024-02-29T13:09:14.355989Z",
     "shell.execute_reply.started": "2024-02-29T13:09:14.353231Z"
    },
    "tags": []
   },
   "outputs": [],
   "source": [
    "all_df = []\n",
    "\n",
    "for i, ref in enumerate(datasetRefs):\n",
    "    print(f\"========================datasetType = {data_product} ============================================\")\n",
    "    print(\"fullId.............................:\",ref.dataId.full)\n",
    "      \n",
    "    visit = ref.dataId['visit']\n",
    "    print(visit)\n",
    "    \n",
    "    data = butler.get(ref)\n",
    "\n",
    "    if FLAG_GET_SCHEMA:\n",
    "        break\n",
    "    t = data.asAstropy()\n",
    "    df = t.to_pandas()\n",
    "\n",
    "    if(len(df)>0):\n",
    "        print(type(df),len(df))\n",
    "        df[\"visitId\"] = visit\n",
    "        all_df.append(df)\n",
    "    "
   ]
  },
  {
   "cell_type": "code",
   "execution_count": 16,
   "id": "203fe06a-939f-4f08-9d24-b222943a248d",
   "metadata": {
    "execution": {
     "iopub.execute_input": "2024-02-29T13:09:14.356928Z",
     "iopub.status.busy": "2024-02-29T13:09:14.356722Z",
     "iopub.status.idle": "2024-02-29T13:09:14.505470Z",
     "shell.execute_reply": "2024-02-29T13:09:14.504330Z",
     "shell.execute_reply.started": "2024-02-29T13:09:14.356916Z"
    }
   },
   "outputs": [
    {
     "ename": "NameError",
     "evalue": "name 'data' is not defined",
     "output_type": "error",
     "traceback": [
      "\u001b[0;31m---------------------------------------------------------------------------\u001b[0m",
      "\u001b[0;31mNameError\u001b[0m                                 Traceback (most recent call last)",
      "Cell \u001b[0;32mIn[16], line 2\u001b[0m\n\u001b[1;32m      1\u001b[0m \u001b[38;5;28;01mif\u001b[39;00m FLAG_GET_SCHEMA:\n\u001b[0;32m----> 2\u001b[0m     \u001b[38;5;28mprint\u001b[39m(\u001b[43mdata\u001b[49m\u001b[38;5;241m.\u001b[39mgetSchema())\n",
      "\u001b[0;31mNameError\u001b[0m: name 'data' is not defined"
     ]
    }
   ],
   "source": [
    "if FLAG_GET_SCHEMA:\n",
    "    print(data.getSchema())\n"
   ]
  },
  {
   "cell_type": "code",
   "execution_count": null,
   "id": "e8f9fe64-fdae-499f-92f4-325859f70a03",
   "metadata": {
    "execution": {
     "iopub.status.busy": "2024-02-29T13:09:14.505918Z",
     "iopub.status.idle": "2024-02-29T13:09:14.506084Z",
     "shell.execute_reply": "2024-02-29T13:09:14.506007Z",
     "shell.execute_reply.started": "2024-02-29T13:09:14.505999Z"
    }
   },
   "outputs": [],
   "source": [
    "data.getSchema()"
   ]
  },
  {
   "cell_type": "code",
   "execution_count": null,
   "id": "3850d4bc-e9b9-4835-a41b-e5192408cc97",
   "metadata": {
    "execution": {
     "iopub.status.busy": "2024-02-29T13:09:14.506677Z",
     "iopub.status.idle": "2024-02-29T13:09:14.506832Z",
     "shell.execute_reply": "2024-02-29T13:09:14.506760Z",
     "shell.execute_reply.started": "2024-02-29T13:09:14.506753Z"
    }
   },
   "outputs": [],
   "source": [
    "assert False"
   ]
  },
  {
   "cell_type": "code",
   "execution_count": null,
   "id": "1d923ab4-d6f1-4a45-aacb-9cfa4aec86fa",
   "metadata": {
    "execution": {
     "iopub.status.busy": "2024-02-29T13:09:14.507479Z",
     "iopub.status.idle": "2024-02-29T13:09:14.507637Z",
     "shell.execute_reply": "2024-02-29T13:09:14.507561Z",
     "shell.execute_reply.started": "2024-02-29T13:09:14.507555Z"
    }
   },
   "outputs": [],
   "source": [
    "#df.asAstropy().to_pandas()"
   ]
  },
  {
   "cell_type": "code",
   "execution_count": null,
   "id": "abac8398-3404-4bb9-85dc-766f9825e7d1",
   "metadata": {
    "execution": {
     "iopub.status.busy": "2024-02-29T13:09:14.507952Z",
     "iopub.status.idle": "2024-02-29T13:09:14.508098Z",
     "shell.execute_reply": "2024-02-29T13:09:14.508029Z",
     "shell.execute_reply.started": "2024-02-29T13:09:14.508023Z"
    }
   },
   "outputs": [],
   "source": [
    "df = pd.concat(all_df)"
   ]
  },
  {
   "cell_type": "code",
   "execution_count": null,
   "id": "21444ba7-f2d3-48ab-a984-dc82f9c30d4e",
   "metadata": {
    "execution": {
     "iopub.status.busy": "2024-02-29T13:09:14.508699Z",
     "iopub.status.idle": "2024-02-29T13:09:14.508853Z",
     "shell.execute_reply": "2024-02-29T13:09:14.508778Z",
     "shell.execute_reply.started": "2024-02-29T13:09:14.508772Z"
    }
   },
   "outputs": [],
   "source": [
    "df"
   ]
  },
  {
   "cell_type": "code",
   "execution_count": null,
   "id": "a4afe23a-71ae-4c4e-abd7-591bc9d939c8",
   "metadata": {
    "execution": {
     "iopub.status.busy": "2024-02-29T13:09:14.509281Z",
     "iopub.status.idle": "2024-02-29T13:09:14.509431Z",
     "shell.execute_reply": "2024-02-29T13:09:14.509359Z",
     "shell.execute_reply.started": "2024-02-29T13:09:14.509353Z"
    },
    "tags": []
   },
   "outputs": [],
   "source": [
    "df.to_csv(filesource_out)"
   ]
  },
  {
   "cell_type": "code",
   "execution_count": null,
   "id": "dbf845eb-7c07-4344-a440-f7af1bffd08a",
   "metadata": {
    "execution": {
     "iopub.status.busy": "2024-02-29T13:09:14.509924Z",
     "iopub.status.idle": "2024-02-29T13:09:14.510072Z",
     "shell.execute_reply": "2024-02-29T13:09:14.510001Z",
     "shell.execute_reply.started": "2024-02-29T13:09:14.509994Z"
    },
    "tags": []
   },
   "outputs": [],
   "source": [
    "print(df.columns.tolist())"
   ]
  },
  {
   "cell_type": "code",
   "execution_count": null,
   "id": "e211cb27-8fce-4f75-b5f8-2cc966675158",
   "metadata": {
    "execution": {
     "iopub.status.busy": "2024-02-29T13:09:14.510703Z",
     "iopub.status.idle": "2024-02-29T13:09:14.510857Z",
     "shell.execute_reply": "2024-02-29T13:09:14.510783Z",
     "shell.execute_reply.started": "2024-02-29T13:09:14.510776Z"
    }
   },
   "outputs": [],
   "source": [
    "df['visitId'].unique()"
   ]
  },
  {
   "cell_type": "code",
   "execution_count": null,
   "id": "3fc22a66-a90d-4371-b073-1f1c34c806f7",
   "metadata": {},
   "outputs": [],
   "source": []
  }
 ],
 "metadata": {
  "kernelspec": {
   "display_name": "LSST",
   "language": "python",
   "name": "lsst"
  },
  "language_info": {
   "codemirror_mode": {
    "name": "ipython",
    "version": 3
   },
   "file_extension": ".py",
   "mimetype": "text/x-python",
   "name": "python",
   "nbconvert_exporter": "python",
   "pygments_lexer": "ipython3",
   "version": "3.11.7"
  }
 },
 "nbformat": 4,
 "nbformat_minor": 5
}
