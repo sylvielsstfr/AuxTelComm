{
 "cells": [
  {
   "cell_type": "markdown",
   "id": "0b8c2138-5194-4d03-8b77-be24e2cc8ee3",
   "metadata": {},
   "source": [
    "# Extract sources from catalogs  in  OGA"
   ]
  },
  {
   "cell_type": "markdown",
   "id": "740e34fb-3fef-45a8-941b-c229742ab016",
   "metadata": {},
   "source": [
    " work with Weakly_2024_07\n",
    "- use jupyter kernel LSST\n",
    "- author : Sylvie Dagoret-Campagne\n",
    "- affiliation : IJCLab\n",
    "- creation date : 2024/02/18\n",
    "- update : 2024/02/24\n",
    "\n",
    "\n",
    "         DatasetType('isolated_star_cat', {instrument, skymap, tract}, DataFrame),\n",
    "         DatasetType('isolated_star_sources', {instrument, skymap, tract}, DataFrame),\n",
    "         DatasetType('isolated_star_sources_atlas_refcat2_20220201_match', {skymap, tract}, DataFrame),\n"
   ]
  },
  {
   "cell_type": "code",
   "execution_count": 1,
   "id": "ed2c3410-fe83-432e-ab87-9f4513fa8d8b",
   "metadata": {
    "execution": {
     "iopub.execute_input": "2024-02-29T12:52:53.014031Z",
     "iopub.status.busy": "2024-02-29T12:52:53.013905Z",
     "iopub.status.idle": "2024-02-29T12:52:53.379371Z",
     "shell.execute_reply": "2024-02-29T12:52:53.378826Z",
     "shell.execute_reply.started": "2024-02-29T12:52:53.014017Z"
    }
   },
   "outputs": [
    {
     "name": "stdout",
     "output_type": "stream",
     "text": [
      "analysis_tools        LOCAL:/home/d/dagoret/repos/repos_w_2024_07/analysis_tools \tsetup\n",
      "atmospec              LOCAL:/home/d/dagoret/repos/repos_w_2024_07/atmospec \tsetup\n",
      "eups                  LOCAL:/opt/lsst/software/stack/conda/miniconda3-py38_4.9.2/envs/lsst-scipipe-8.0.0/eups \tsetup\n",
      "spectractor           LOCAL:/home/d/dagoret/repos/repos_w_2024_07/Spectractor \tsetup\n"
     ]
    }
   ],
   "source": [
    "! eups list -s | grep LOCAL"
   ]
  },
  {
   "cell_type": "code",
   "execution_count": 2,
   "id": "70918d81-0cf6-4b0a-8f61-f5e5bec5b0e7",
   "metadata": {
    "execution": {
     "iopub.execute_input": "2024-02-29T12:52:53.380258Z",
     "iopub.status.busy": "2024-02-29T12:52:53.380107Z",
     "iopub.status.idle": "2024-02-29T12:52:53.714398Z",
     "shell.execute_reply": "2024-02-29T12:52:53.713970Z",
     "shell.execute_reply.started": "2024-02-29T12:52:53.380242Z"
    }
   },
   "outputs": [
    {
     "name": "stdout",
     "output_type": "stream",
     "text": [
      "   g4213664e8e+34187316c4 \tcurrent w_2024_07 setup\n"
     ]
    }
   ],
   "source": [
    "! eups list -s lsst_distrib"
   ]
  },
  {
   "cell_type": "code",
   "execution_count": 3,
   "id": "f8d9cfca-5881-48c1-b2cb-0f794a2e4091",
   "metadata": {
    "execution": {
     "iopub.execute_input": "2024-02-29T12:52:53.715226Z",
     "iopub.status.busy": "2024-02-29T12:52:53.715072Z",
     "iopub.status.idle": "2024-02-29T12:52:54.329163Z",
     "shell.execute_reply": "2024-02-29T12:52:54.328799Z",
     "shell.execute_reply.started": "2024-02-29T12:52:53.715210Z"
    },
    "tags": []
   },
   "outputs": [],
   "source": [
    "import lsst.daf.butler as dafButler\n",
    "#import lsst.summit.utils.butlerUtils as butlerUtils"
   ]
  },
  {
   "cell_type": "code",
   "execution_count": 4,
   "id": "1ceacda9-20b0-4d77-a0d2-572c957ce273",
   "metadata": {
    "execution": {
     "iopub.execute_input": "2024-02-29T12:52:54.330580Z",
     "iopub.status.busy": "2024-02-29T12:52:54.330443Z",
     "iopub.status.idle": "2024-02-29T12:52:54.851026Z",
     "shell.execute_reply": "2024-02-29T12:52:54.850648Z",
     "shell.execute_reply.started": "2024-02-29T12:52:54.330566Z"
    },
    "tags": []
   },
   "outputs": [],
   "source": [
    "import numpy as np\n",
    "import matplotlib.pyplot as plt\n",
    "%matplotlib inline\n",
    "from mpl_toolkits.axes_grid1 import make_axes_locatable\n",
    "from matplotlib.colors import LogNorm,SymLogNorm\n",
    "\n",
    "\n",
    "import matplotlib.ticker                         # here's where the formatter is\n",
    "from matplotlib.ticker import (MultipleLocator, FormatStrFormatter,\n",
    "                               AutoMinorLocator)\n",
    "\n",
    "from astropy.visualization import (MinMaxInterval, SqrtStretch,ZScaleInterval,PercentileInterval,\n",
    "                                   ImageNormalize,imshow_norm)\n",
    "from astropy.visualization.stretch import SinhStretch, LinearStretch,AsinhStretch,LogStretch\n",
    "\n",
    "from astropy.io import fits\n",
    "from astropy.table import Table\n",
    "import pandas as pd\n",
    "\n",
    "import matplotlib.ticker                         # here's where the formatter is\n",
    "import os\n",
    "import re\n",
    "import pandas as pd\n",
    "\n",
    "plt.rcParams[\"figure.figsize\"] = (4,3)\n",
    "plt.rcParams[\"axes.labelsize\"] = 'xx-large'\n",
    "plt.rcParams['axes.titlesize'] = 'xx-large'\n",
    "plt.rcParams['xtick.labelsize']= 'xx-large'\n",
    "plt.rcParams['ytick.labelsize']= 'xx-large'"
   ]
  },
  {
   "cell_type": "code",
   "execution_count": 5,
   "id": "34c92544-f2fd-4287-b852-e2ccb9a3b510",
   "metadata": {
    "execution": {
     "iopub.execute_input": "2024-02-29T12:52:54.851878Z",
     "iopub.status.busy": "2024-02-29T12:52:54.851558Z",
     "iopub.status.idle": "2024-02-29T12:52:54.854445Z",
     "shell.execute_reply": "2024-02-29T12:52:54.854153Z",
     "shell.execute_reply.started": "2024-02-29T12:52:54.851863Z"
    },
    "tags": []
   },
   "outputs": [],
   "source": [
    "from matplotlib.ticker import (MultipleLocator, FormatStrFormatter,\n",
    "                               AutoMinorLocator)\n",
    "\n",
    "from astropy.visualization import (MinMaxInterval, SqrtStretch,ZScaleInterval,PercentileInterval,\n",
    "                                   ImageNormalize,imshow_norm)\n",
    "from astropy.visualization.stretch import SinhStretch, LinearStretch,AsinhStretch,LogStretch\n",
    "\n",
    "from astropy.time import Time\n"
   ]
  },
  {
   "cell_type": "code",
   "execution_count": 6,
   "id": "77aa5733-0a46-49eb-b26e-d3bb6195cc3d",
   "metadata": {
    "execution": {
     "iopub.execute_input": "2024-02-29T12:52:54.854999Z",
     "iopub.status.busy": "2024-02-29T12:52:54.854879Z",
     "iopub.status.idle": "2024-02-29T12:52:55.130701Z",
     "shell.execute_reply": "2024-02-29T12:52:55.130328Z",
     "shell.execute_reply.started": "2024-02-29T12:52:54.854987Z"
    },
    "tags": []
   },
   "outputs": [],
   "source": [
    "# LSST Display\n",
    "import lsst.afw.display as afwDisplay\n",
    "afwDisplay.setDefaultBackend('matplotlib')"
   ]
  },
  {
   "cell_type": "code",
   "execution_count": 7,
   "id": "b7cea198-6f3c-4a87-8877-fdf8e4d73c26",
   "metadata": {
    "execution": {
     "iopub.execute_input": "2024-02-29T12:52:55.131539Z",
     "iopub.status.busy": "2024-02-29T12:52:55.131210Z",
     "iopub.status.idle": "2024-02-29T12:52:55.133720Z",
     "shell.execute_reply": "2024-02-29T12:52:55.133429Z",
     "shell.execute_reply.started": "2024-02-29T12:52:55.131526Z"
    },
    "tags": []
   },
   "outputs": [],
   "source": [
    "transform = AsinhStretch() + PercentileInterval(99.)"
   ]
  },
  {
   "cell_type": "code",
   "execution_count": 8,
   "id": "c8b31810-780c-43f2-92a1-af05fddd65e1",
   "metadata": {
    "execution": {
     "iopub.execute_input": "2024-02-29T12:52:55.134263Z",
     "iopub.status.busy": "2024-02-29T12:52:55.134133Z",
     "iopub.status.idle": "2024-02-29T12:52:55.137668Z",
     "shell.execute_reply": "2024-02-29T12:52:55.137386Z",
     "shell.execute_reply.started": "2024-02-29T12:52:55.134250Z"
    }
   },
   "outputs": [],
   "source": [
    "pd.options.display.max_columns = None\n",
    "#pd.options.display.max_rows = None\n",
    "\n"
   ]
  },
  {
   "cell_type": "markdown",
   "id": "17f98db2-2ea8-4546-87a9-f2cd11d67ec7",
   "metadata": {},
   "source": [
    "## Configuration"
   ]
  },
  {
   "cell_type": "code",
   "execution_count": 9,
   "id": "f6c1ac18-5e47-4ae9-93ec-32f4337aa520",
   "metadata": {
    "execution": {
     "iopub.execute_input": "2024-02-29T12:52:55.138201Z",
     "iopub.status.busy": "2024-02-29T12:52:55.138033Z",
     "iopub.status.idle": "2024-02-29T12:52:55.142028Z",
     "shell.execute_reply": "2024-02-29T12:52:55.141745Z",
     "shell.execute_reply.started": "2024-02-29T12:52:55.138189Z"
    }
   },
   "outputs": [],
   "source": [
    "DATE = 202402\n",
    "#filesource_out=\"finalized_src_table_202402.csv\"\n",
    "#filetractpatch_out = 'Latiss_tractspatchs_202312.pickle'"
   ]
  },
  {
   "cell_type": "code",
   "execution_count": 10,
   "id": "1c81d99a-5e91-4ba1-ba4a-c66b37905b98",
   "metadata": {
    "execution": {
     "iopub.execute_input": "2024-02-29T12:52:55.142527Z",
     "iopub.status.busy": "2024-02-29T12:52:55.142404Z",
     "iopub.status.idle": "2024-02-29T12:52:55.624027Z",
     "shell.execute_reply": "2024-02-29T12:52:55.623666Z",
     "shell.execute_reply.started": "2024-02-29T12:52:55.142515Z"
    },
    "tags": []
   },
   "outputs": [],
   "source": [
    "#repo =  \"/sdf/group/rubin/repo/main\"\n",
    "repo = \"/sdf/group/rubin/repo/oga/\"\n",
    "butler = dafButler.Butler(repo)\n",
    "registry = butler.registry"
   ]
  },
  {
   "cell_type": "code",
   "execution_count": 11,
   "id": "0fffaeef-599c-4469-8c04-67252827cb8d",
   "metadata": {
    "execution": {
     "iopub.execute_input": "2024-02-29T12:52:55.624642Z",
     "iopub.status.busy": "2024-02-29T12:52:55.624514Z",
     "iopub.status.idle": "2024-02-29T12:52:55.626484Z",
     "shell.execute_reply": "2024-02-29T12:52:55.626200Z",
     "shell.execute_reply.started": "2024-02-29T12:52:55.624630Z"
    }
   },
   "outputs": [],
   "source": [
    "#file_out=\"sourceTable_202312.csv\""
   ]
  },
  {
   "cell_type": "markdown",
   "id": "20dbb8da-3a08-4b4f-9437-4bf7f28c1782",
   "metadata": {},
   "source": [
    "## Give the collection"
   ]
  },
  {
   "cell_type": "code",
   "execution_count": 12,
   "id": "9629ea29-8ab4-4062-aed1-e16d62dc90c4",
   "metadata": {
    "execution": {
     "iopub.execute_input": "2024-02-29T12:52:55.626985Z",
     "iopub.status.busy": "2024-02-29T12:52:55.626869Z",
     "iopub.status.idle": "2024-02-29T12:52:55.630239Z",
     "shell.execute_reply": "2024-02-29T12:52:55.629955Z",
     "shell.execute_reply.started": "2024-02-29T12:52:55.626974Z"
    },
    "tags": []
   },
   "outputs": [],
   "source": [
    "#my_collection = \"LATISS/runs/AUXTEL_DRP_IMAGING_2023-11A-10A-09AB-08ABC-07AB-05AB/w_2023_46/PREOPS-4553\"\n",
    "my_collection = \"LATISS/runs/AUXTEL_DRP_IMAGING_20230509_20240201/w_2024_05/PREOPS-4871\""
   ]
  },
  {
   "cell_type": "markdown",
   "id": "a7587b10-c178-4537-9c34-60867b69fa01",
   "metadata": {},
   "source": [
    "## Config"
   ]
  },
  {
   "cell_type": "markdown",
   "id": "a72c2c07-ff40-49d9-a36d-5277cbbc5cec",
   "metadata": {},
   "source": [
    "# Sources"
   ]
  },
  {
   "cell_type": "code",
   "execution_count": 13,
   "id": "c2bca87f-8b3a-44ee-afa5-5b8e0b8f9b9d",
   "metadata": {
    "execution": {
     "iopub.execute_input": "2024-02-29T12:52:55.630739Z",
     "iopub.status.busy": "2024-02-29T12:52:55.630623Z",
     "iopub.status.idle": "2024-02-29T12:52:55.751326Z",
     "shell.execute_reply": "2024-02-29T12:52:55.750918Z",
     "shell.execute_reply.started": "2024-02-29T12:52:55.630728Z"
    },
    "tags": []
   },
   "outputs": [],
   "source": [
    "# src : a Source catalog\n",
    "# srcMatchFull\n",
    "# finalized_src_table : sape of a pandas dataframe\n",
    "\n",
    "#'isolated_star_cat', {instrument, skymap, tract}, DataFrame),\n",
    "#'isolated_star_sources', {instrument, skymap, tract}, DataFrame),\n",
    "#'isolated_star_sources_atlas_refcat2_20220201_match', {skymap, tract}, DataFrame),\n",
    "\n",
    "#data_product = \"isolated_star_sources\" \n",
    "data_product = \"isolated_star_cat\" \n",
    "#data_product = 'isolated_star_sources_atlas_refcat2_20220201_match' # Nothing\n",
    "datasetRefs = butler.registry.queryDatasets(datasetType=data_product, collections=my_collection, where= \"instrument='LATISS'\")\n",
    "filesource_out=f\"{data_product}_{DATE}.csv\""
   ]
  },
  {
   "cell_type": "code",
   "execution_count": 14,
   "id": "a01bb1b1-a2fe-4060-85ff-fb9e9c5dbb74",
   "metadata": {
    "execution": {
     "iopub.execute_input": "2024-02-29T12:52:55.752035Z",
     "iopub.status.busy": "2024-02-29T12:52:55.751903Z",
     "iopub.status.idle": "2024-02-29T12:52:57.630759Z",
     "shell.execute_reply": "2024-02-29T12:52:57.629620Z",
     "shell.execute_reply.started": "2024-02-29T12:52:55.752023Z"
    },
    "tags": []
   },
   "outputs": [
    {
     "name": "stdout",
     "output_type": "stream",
     "text": [
      "========================datasetType = gaia_dr2_20200414 ============================================\n",
      "fullId.............................: {htm7: 131072}\n"
     ]
    },
    {
     "name": "stderr",
     "output_type": "stream",
     "text": [
      "/tmp/ipykernel_35624/1033383477.py:5: FutureWarning: Call to deprecated function (or staticmethod) full. (DataCoordinate.full is deprecated in favor of .mapping, and will be dropped after v27.) -- Deprecated since version v27.\n",
      "  print(\"fullId.............................:\",ref.dataId.full)\n"
     ]
    },
    {
     "ename": "KeyError",
     "evalue": "'tract'",
     "output_type": "error",
     "traceback": [
      "\u001b[0;31m---------------------------------------------------------------------------\u001b[0m",
      "\u001b[0;31mKeyError\u001b[0m                                  Traceback (most recent call last)",
      "Cell \u001b[0;32mIn[14], line 6\u001b[0m\n\u001b[1;32m      4\u001b[0m \u001b[38;5;28mprint\u001b[39m(\u001b[38;5;124mf\u001b[39m\u001b[38;5;124m\"\u001b[39m\u001b[38;5;124m========================datasetType = \u001b[39m\u001b[38;5;132;01m{\u001b[39;00mdata_product\u001b[38;5;132;01m}\u001b[39;00m\u001b[38;5;124m ============================================\u001b[39m\u001b[38;5;124m\"\u001b[39m)\n\u001b[1;32m      5\u001b[0m \u001b[38;5;28mprint\u001b[39m(\u001b[38;5;124m\"\u001b[39m\u001b[38;5;124mfullId.............................:\u001b[39m\u001b[38;5;124m\"\u001b[39m,ref\u001b[38;5;241m.\u001b[39mdataId\u001b[38;5;241m.\u001b[39mfull)\n\u001b[0;32m----> 6\u001b[0m \u001b[38;5;28mprint\u001b[39m(\u001b[38;5;124m\"\u001b[39m\u001b[38;5;124mtract..............................:\u001b[39m\u001b[38;5;124m\"\u001b[39m,\u001b[43mref\u001b[49m\u001b[38;5;241;43m.\u001b[39;49m\u001b[43mdataId\u001b[49m\u001b[43m[\u001b[49m\u001b[38;5;124;43m'\u001b[39;49m\u001b[38;5;124;43mtract\u001b[39;49m\u001b[38;5;124;43m'\u001b[39;49m\u001b[43m]\u001b[49m)\n\u001b[1;32m      7\u001b[0m tract \u001b[38;5;241m=\u001b[39m ref\u001b[38;5;241m.\u001b[39mdataId[\u001b[38;5;124m'\u001b[39m\u001b[38;5;124mtract\u001b[39m\u001b[38;5;124m'\u001b[39m]\n\u001b[1;32m      8\u001b[0m df \u001b[38;5;241m=\u001b[39m butler\u001b[38;5;241m.\u001b[39mget(ref)\n",
      "File \u001b[0;32m/opt/lsst/software/stack/stack/miniconda3-py38_4.9.2-8.0.0/Linux64/daf_butler/g3e35ddf7b7+74dfa3d8fc/python/lsst/daf/butler/dimensions/_coordinate.py:1111\u001b[0m, in \u001b[0;36m_BasicTupleDataCoordinate.__getitem__\u001b[0;34m(self, key)\u001b[0m\n\u001b[1;32m   1105\u001b[0m     warnings\u001b[38;5;241m.\u001b[39mwarn(\n\u001b[1;32m   1106\u001b[0m         \u001b[38;5;124m\"\u001b[39m\u001b[38;5;124mUsing Dimension keys in DataCoordinate is deprecated and will not be supported after v27.\u001b[39m\u001b[38;5;124m\"\u001b[39m,\n\u001b[1;32m   1107\u001b[0m         category\u001b[38;5;241m=\u001b[39m\u001b[38;5;167;01mFutureWarning\u001b[39;00m,\n\u001b[1;32m   1108\u001b[0m         stacklevel\u001b[38;5;241m=\u001b[39mfind_outside_stacklevel(\u001b[38;5;124m\"\u001b[39m\u001b[38;5;124mlsst.daf.butler\u001b[39m\u001b[38;5;124m\"\u001b[39m),\n\u001b[1;32m   1109\u001b[0m     )\n\u001b[1;32m   1110\u001b[0m     key \u001b[38;5;241m=\u001b[39m key\u001b[38;5;241m.\u001b[39mname\n\u001b[0;32m-> 1111\u001b[0m index \u001b[38;5;241m=\u001b[39m \u001b[38;5;28;43mself\u001b[39;49m\u001b[38;5;241;43m.\u001b[39;49m\u001b[43m_dimensions\u001b[49m\u001b[38;5;241;43m.\u001b[39;49m\u001b[43m_data_coordinate_indices\u001b[49m\u001b[43m[\u001b[49m\u001b[43mkey\u001b[49m\u001b[43m]\u001b[49m\n\u001b[1;32m   1112\u001b[0m \u001b[38;5;28;01mtry\u001b[39;00m:\n\u001b[1;32m   1113\u001b[0m     \u001b[38;5;28;01mreturn\u001b[39;00m \u001b[38;5;28mself\u001b[39m\u001b[38;5;241m.\u001b[39m_values[index]\n",
      "\u001b[0;31mKeyError\u001b[0m: 'tract'"
     ]
    }
   ],
   "source": [
    "all_df = []\n",
    "\n",
    "for i, ref in enumerate(datasetRefs):\n",
    "    print(f\"========================datasetType = {data_product} ============================================\")\n",
    "    print(\"fullId.............................:\",ref.dataId.full)\n",
    "    print(\"tract..............................:\",ref.dataId['tract'])\n",
    "    tract = ref.dataId['tract']\n",
    "    df = butler.get(ref)\n",
    "\n",
    "    if(len(df)>0):\n",
    "        print(type(df),len(df))\n",
    "        df['tract'] = tract\n",
    "        all_df.append(df)\n",
    "    "
   ]
  },
  {
   "cell_type": "code",
   "execution_count": null,
   "id": "abac8398-3404-4bb9-85dc-766f9825e7d1",
   "metadata": {
    "execution": {
     "iopub.status.busy": "2024-02-29T12:52:57.631229Z",
     "iopub.status.idle": "2024-02-29T12:52:57.631409Z",
     "shell.execute_reply": "2024-02-29T12:52:57.631325Z",
     "shell.execute_reply.started": "2024-02-29T12:52:57.631317Z"
    }
   },
   "outputs": [],
   "source": [
    "df = pd.concat(all_df)"
   ]
  },
  {
   "cell_type": "code",
   "execution_count": null,
   "id": "21444ba7-f2d3-48ab-a984-dc82f9c30d4e",
   "metadata": {
    "execution": {
     "iopub.status.busy": "2024-02-29T12:52:57.631984Z",
     "iopub.status.idle": "2024-02-29T12:52:57.632142Z",
     "shell.execute_reply": "2024-02-29T12:52:57.632068Z",
     "shell.execute_reply.started": "2024-02-29T12:52:57.632061Z"
    }
   },
   "outputs": [],
   "source": [
    "df"
   ]
  },
  {
   "cell_type": "code",
   "execution_count": null,
   "id": "a4afe23a-71ae-4c4e-abd7-591bc9d939c8",
   "metadata": {
    "execution": {
     "iopub.status.busy": "2024-02-29T12:52:57.633033Z",
     "iopub.status.idle": "2024-02-29T12:52:57.633193Z",
     "shell.execute_reply": "2024-02-29T12:52:57.633115Z",
     "shell.execute_reply.started": "2024-02-29T12:52:57.633108Z"
    },
    "tags": []
   },
   "outputs": [],
   "source": [
    "df.to_csv(filesource_out)"
   ]
  },
  {
   "cell_type": "code",
   "execution_count": null,
   "id": "dbf845eb-7c07-4344-a440-f7af1bffd08a",
   "metadata": {
    "execution": {
     "iopub.status.busy": "2024-02-29T12:52:57.633776Z",
     "iopub.status.idle": "2024-02-29T12:52:57.634117Z",
     "shell.execute_reply": "2024-02-29T12:52:57.634030Z",
     "shell.execute_reply.started": "2024-02-29T12:52:57.634021Z"
    },
    "tags": []
   },
   "outputs": [],
   "source": [
    "print(df.columns.tolist())"
   ]
  },
  {
   "cell_type": "code",
   "execution_count": null,
   "id": "e211cb27-8fce-4f75-b5f8-2cc966675158",
   "metadata": {
    "execution": {
     "iopub.status.busy": "2024-02-29T12:52:57.634594Z",
     "iopub.status.idle": "2024-02-29T12:52:57.634747Z",
     "shell.execute_reply": "2024-02-29T12:52:57.634676Z",
     "shell.execute_reply.started": "2024-02-29T12:52:57.634669Z"
    }
   },
   "outputs": [],
   "source": [
    "df['tract'].unique()"
   ]
  },
  {
   "cell_type": "code",
   "execution_count": null,
   "id": "3fc22a66-a90d-4371-b073-1f1c34c806f7",
   "metadata": {
    "execution": {
     "iopub.status.busy": "2024-02-29T12:52:57.635297Z",
     "iopub.status.idle": "2024-02-29T12:52:57.635464Z",
     "shell.execute_reply": "2024-02-29T12:52:57.635383Z",
     "shell.execute_reply.started": "2024-02-29T12:52:57.635375Z"
    }
   },
   "outputs": [],
   "source": [
    "ref.to_simple()"
   ]
  },
  {
   "cell_type": "code",
   "execution_count": null,
   "id": "8754a8ae-4ce5-4c67-a7c3-41deefe7892f",
   "metadata": {},
   "outputs": [],
   "source": []
  }
 ],
 "metadata": {
  "kernelspec": {
   "display_name": "LSST",
   "language": "python",
   "name": "lsst"
  },
  "language_info": {
   "codemirror_mode": {
    "name": "ipython",
    "version": 3
   },
   "file_extension": ".py",
   "mimetype": "text/x-python",
   "name": "python",
   "nbconvert_exporter": "python",
   "pygments_lexer": "ipython3",
   "version": "3.11.7"
  }
 },
 "nbformat": 4,
 "nbformat_minor": 5
}
