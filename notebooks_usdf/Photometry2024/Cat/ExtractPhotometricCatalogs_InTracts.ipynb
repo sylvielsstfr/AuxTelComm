{
 "cells": [
  {
   "cell_type": "markdown",
   "id": "0b8c2138-5194-4d03-8b77-be24e2cc8ee3",
   "metadata": {},
   "source": [
    "# Extract sources from catalogs  in  OGA"
   ]
  },
  {
   "cell_type": "markdown",
   "id": "740e34fb-3fef-45a8-941b-c229742ab016",
   "metadata": {},
   "source": [
    " work with Weakly_2024_07\n",
    "- use jupyter kernel LSST\n",
    "- author : Sylvie Dagoret-Campagne\n",
    "- affiliation : IJCLab\n",
    "- creation date : 2024/02/18\n",
    "- update : 2024/02/24\n",
    "\n",
    "\n",
    "         DatasetType('isolated_star_cat', {instrument, skymap, tract}, DataFrame),\n",
    "         DatasetType('isolated_star_sources', {instrument, skymap, tract}, DataFrame),\n",
    "         DatasetType('isolated_star_sources_atlas_refcat2_20220201_match', {skymap, tract}, DataFrame),\n"
   ]
  },
  {
   "cell_type": "code",
   "execution_count": 1,
   "id": "ed2c3410-fe83-432e-ab87-9f4513fa8d8b",
   "metadata": {
    "execution": {
     "iopub.execute_input": "2024-02-28T12:14:27.574927Z",
     "iopub.status.busy": "2024-02-28T12:14:27.574614Z",
     "iopub.status.idle": "2024-02-28T12:14:27.935431Z",
     "shell.execute_reply": "2024-02-28T12:14:27.934788Z",
     "shell.execute_reply.started": "2024-02-28T12:14:27.574913Z"
    }
   },
   "outputs": [
    {
     "name": "stdout",
     "output_type": "stream",
     "text": [
      "analysis_tools        LOCAL:/home/d/dagoret/repos/repos_w_2024_07/analysis_tools \tsetup\n",
      "atmospec              LOCAL:/home/d/dagoret/repos/repos_w_2024_07/atmospec \tsetup\n",
      "eups                  LOCAL:/opt/lsst/software/stack/conda/miniconda3-py38_4.9.2/envs/lsst-scipipe-8.0.0/eups \tsetup\n",
      "spectractor           LOCAL:/home/d/dagoret/repos/repos_w_2024_07/Spectractor \tsetup\n"
     ]
    }
   ],
   "source": [
    "! eups list -s | grep LOCAL"
   ]
  },
  {
   "cell_type": "code",
   "execution_count": 2,
   "id": "70918d81-0cf6-4b0a-8f61-f5e5bec5b0e7",
   "metadata": {
    "execution": {
     "iopub.execute_input": "2024-02-28T12:14:27.936498Z",
     "iopub.status.busy": "2024-02-28T12:14:27.936298Z",
     "iopub.status.idle": "2024-02-28T12:14:28.282102Z",
     "shell.execute_reply": "2024-02-28T12:14:28.281646Z",
     "shell.execute_reply.started": "2024-02-28T12:14:27.936480Z"
    }
   },
   "outputs": [
    {
     "name": "stdout",
     "output_type": "stream",
     "text": [
      "   g4213664e8e+34187316c4 \tcurrent w_2024_07 setup\n"
     ]
    }
   ],
   "source": [
    "! eups list -s lsst_distrib"
   ]
  },
  {
   "cell_type": "code",
   "execution_count": 3,
   "id": "f8d9cfca-5881-48c1-b2cb-0f794a2e4091",
   "metadata": {
    "execution": {
     "iopub.execute_input": "2024-02-28T12:14:28.282930Z",
     "iopub.status.busy": "2024-02-28T12:14:28.282774Z",
     "iopub.status.idle": "2024-02-28T12:14:28.918818Z",
     "shell.execute_reply": "2024-02-28T12:14:28.918307Z",
     "shell.execute_reply.started": "2024-02-28T12:14:28.282915Z"
    },
    "tags": []
   },
   "outputs": [],
   "source": [
    "import lsst.daf.butler as dafButler\n",
    "#import lsst.summit.utils.butlerUtils as butlerUtils"
   ]
  },
  {
   "cell_type": "code",
   "execution_count": 4,
   "id": "1ceacda9-20b0-4d77-a0d2-572c957ce273",
   "metadata": {
    "execution": {
     "iopub.execute_input": "2024-02-28T12:14:28.920728Z",
     "iopub.status.busy": "2024-02-28T12:14:28.920523Z",
     "iopub.status.idle": "2024-02-28T12:14:29.486697Z",
     "shell.execute_reply": "2024-02-28T12:14:29.486171Z",
     "shell.execute_reply.started": "2024-02-28T12:14:28.920713Z"
    },
    "tags": []
   },
   "outputs": [],
   "source": [
    "import numpy as np\n",
    "import matplotlib.pyplot as plt\n",
    "%matplotlib inline\n",
    "from mpl_toolkits.axes_grid1 import make_axes_locatable\n",
    "from matplotlib.colors import LogNorm,SymLogNorm\n",
    "\n",
    "\n",
    "import matplotlib.ticker                         # here's where the formatter is\n",
    "from matplotlib.ticker import (MultipleLocator, FormatStrFormatter,\n",
    "                               AutoMinorLocator)\n",
    "\n",
    "from astropy.visualization import (MinMaxInterval, SqrtStretch,ZScaleInterval,PercentileInterval,\n",
    "                                   ImageNormalize,imshow_norm)\n",
    "from astropy.visualization.stretch import SinhStretch, LinearStretch,AsinhStretch,LogStretch\n",
    "\n",
    "from astropy.io import fits\n",
    "from astropy.table import Table\n",
    "import pandas as pd\n",
    "\n",
    "import matplotlib.ticker                         # here's where the formatter is\n",
    "import os\n",
    "import re\n",
    "import pandas as pd\n",
    "\n",
    "plt.rcParams[\"figure.figsize\"] = (4,3)\n",
    "plt.rcParams[\"axes.labelsize\"] = 'xx-large'\n",
    "plt.rcParams['axes.titlesize'] = 'xx-large'\n",
    "plt.rcParams['xtick.labelsize']= 'xx-large'\n",
    "plt.rcParams['ytick.labelsize']= 'xx-large'"
   ]
  },
  {
   "cell_type": "code",
   "execution_count": 5,
   "id": "34c92544-f2fd-4287-b852-e2ccb9a3b510",
   "metadata": {
    "execution": {
     "iopub.execute_input": "2024-02-28T12:14:29.487707Z",
     "iopub.status.busy": "2024-02-28T12:14:29.487378Z",
     "iopub.status.idle": "2024-02-28T12:14:29.490514Z",
     "shell.execute_reply": "2024-02-28T12:14:29.490078Z",
     "shell.execute_reply.started": "2024-02-28T12:14:29.487692Z"
    },
    "tags": []
   },
   "outputs": [],
   "source": [
    "from matplotlib.ticker import (MultipleLocator, FormatStrFormatter,\n",
    "                               AutoMinorLocator)\n",
    "\n",
    "from astropy.visualization import (MinMaxInterval, SqrtStretch,ZScaleInterval,PercentileInterval,\n",
    "                                   ImageNormalize,imshow_norm)\n",
    "from astropy.visualization.stretch import SinhStretch, LinearStretch,AsinhStretch,LogStretch\n",
    "\n",
    "from astropy.time import Time\n"
   ]
  },
  {
   "cell_type": "code",
   "execution_count": 6,
   "id": "77aa5733-0a46-49eb-b26e-d3bb6195cc3d",
   "metadata": {
    "execution": {
     "iopub.execute_input": "2024-02-28T12:14:29.491336Z",
     "iopub.status.busy": "2024-02-28T12:14:29.491092Z",
     "iopub.status.idle": "2024-02-28T12:14:29.787344Z",
     "shell.execute_reply": "2024-02-28T12:14:29.786865Z",
     "shell.execute_reply.started": "2024-02-28T12:14:29.491307Z"
    },
    "tags": []
   },
   "outputs": [],
   "source": [
    "# LSST Display\n",
    "import lsst.afw.display as afwDisplay\n",
    "afwDisplay.setDefaultBackend('matplotlib')"
   ]
  },
  {
   "cell_type": "code",
   "execution_count": 7,
   "id": "b7cea198-6f3c-4a87-8877-fdf8e4d73c26",
   "metadata": {
    "execution": {
     "iopub.execute_input": "2024-02-28T12:14:29.788332Z",
     "iopub.status.busy": "2024-02-28T12:14:29.787968Z",
     "iopub.status.idle": "2024-02-28T12:14:29.790692Z",
     "shell.execute_reply": "2024-02-28T12:14:29.790331Z",
     "shell.execute_reply.started": "2024-02-28T12:14:29.788317Z"
    },
    "tags": []
   },
   "outputs": [],
   "source": [
    "transform = AsinhStretch() + PercentileInterval(99.)"
   ]
  },
  {
   "cell_type": "code",
   "execution_count": 8,
   "id": "c8b31810-780c-43f2-92a1-af05fddd65e1",
   "metadata": {
    "execution": {
     "iopub.execute_input": "2024-02-28T12:14:29.791330Z",
     "iopub.status.busy": "2024-02-28T12:14:29.791189Z",
     "iopub.status.idle": "2024-02-28T12:14:29.794970Z",
     "shell.execute_reply": "2024-02-28T12:14:29.794597Z",
     "shell.execute_reply.started": "2024-02-28T12:14:29.791305Z"
    }
   },
   "outputs": [],
   "source": [
    "pd.options.display.max_columns = None\n",
    "#pd.options.display.max_rows = None\n",
    "\n"
   ]
  },
  {
   "cell_type": "markdown",
   "id": "17f98db2-2ea8-4546-87a9-f2cd11d67ec7",
   "metadata": {},
   "source": [
    "## Configuration"
   ]
  },
  {
   "cell_type": "code",
   "execution_count": 9,
   "id": "f6c1ac18-5e47-4ae9-93ec-32f4337aa520",
   "metadata": {
    "execution": {
     "iopub.execute_input": "2024-02-28T12:14:29.795962Z",
     "iopub.status.busy": "2024-02-28T12:14:29.795596Z",
     "iopub.status.idle": "2024-02-28T12:14:29.799528Z",
     "shell.execute_reply": "2024-02-28T12:14:29.799134Z",
     "shell.execute_reply.started": "2024-02-28T12:14:29.795940Z"
    }
   },
   "outputs": [],
   "source": [
    "DATE = 202402\n",
    "#filesource_out=\"finalized_src_table_202402.csv\"\n",
    "#filetractpatch_out = 'Latiss_tractspatchs_202312.pickle'"
   ]
  },
  {
   "cell_type": "code",
   "execution_count": 10,
   "id": "1c81d99a-5e91-4ba1-ba4a-c66b37905b98",
   "metadata": {
    "execution": {
     "iopub.execute_input": "2024-02-28T12:14:29.800181Z",
     "iopub.status.busy": "2024-02-28T12:14:29.800051Z",
     "iopub.status.idle": "2024-02-28T12:14:30.309951Z",
     "shell.execute_reply": "2024-02-28T12:14:30.309430Z",
     "shell.execute_reply.started": "2024-02-28T12:14:29.800169Z"
    },
    "tags": []
   },
   "outputs": [],
   "source": [
    "#repo =  \"/sdf/group/rubin/repo/main\"\n",
    "repo = \"/sdf/group/rubin/repo/oga/\"\n",
    "butler = dafButler.Butler(repo)\n",
    "registry = butler.registry"
   ]
  },
  {
   "cell_type": "code",
   "execution_count": 11,
   "id": "0fffaeef-599c-4469-8c04-67252827cb8d",
   "metadata": {
    "execution": {
     "iopub.execute_input": "2024-02-28T12:14:30.310833Z",
     "iopub.status.busy": "2024-02-28T12:14:30.310673Z",
     "iopub.status.idle": "2024-02-28T12:14:30.313161Z",
     "shell.execute_reply": "2024-02-28T12:14:30.312774Z",
     "shell.execute_reply.started": "2024-02-28T12:14:30.310819Z"
    }
   },
   "outputs": [],
   "source": [
    "#file_out=\"sourceTable_202312.csv\""
   ]
  },
  {
   "cell_type": "markdown",
   "id": "20dbb8da-3a08-4b4f-9437-4bf7f28c1782",
   "metadata": {},
   "source": [
    "## Give the collection"
   ]
  },
  {
   "cell_type": "code",
   "execution_count": 12,
   "id": "9629ea29-8ab4-4062-aed1-e16d62dc90c4",
   "metadata": {
    "execution": {
     "iopub.execute_input": "2024-02-28T12:14:30.313826Z",
     "iopub.status.busy": "2024-02-28T12:14:30.313688Z",
     "iopub.status.idle": "2024-02-28T12:14:30.317537Z",
     "shell.execute_reply": "2024-02-28T12:14:30.317133Z",
     "shell.execute_reply.started": "2024-02-28T12:14:30.313813Z"
    },
    "tags": []
   },
   "outputs": [],
   "source": [
    "#my_collection = \"LATISS/runs/AUXTEL_DRP_IMAGING_2023-11A-10A-09AB-08ABC-07AB-05AB/w_2023_46/PREOPS-4553\"\n",
    "my_collection = \"LATISS/runs/AUXTEL_DRP_IMAGING_20230509_20240201/w_2024_05/PREOPS-4871\""
   ]
  },
  {
   "cell_type": "markdown",
   "id": "a7587b10-c178-4537-9c34-60867b69fa01",
   "metadata": {},
   "source": [
    "## Config"
   ]
  },
  {
   "cell_type": "markdown",
   "id": "a72c2c07-ff40-49d9-a36d-5277cbbc5cec",
   "metadata": {},
   "source": [
    "# Sources"
   ]
  },
  {
   "cell_type": "code",
   "execution_count": 13,
   "id": "c2bca87f-8b3a-44ee-afa5-5b8e0b8f9b9d",
   "metadata": {
    "execution": {
     "iopub.execute_input": "2024-02-28T12:14:30.318203Z",
     "iopub.status.busy": "2024-02-28T12:14:30.318069Z",
     "iopub.status.idle": "2024-02-28T12:14:30.456553Z",
     "shell.execute_reply": "2024-02-28T12:14:30.456068Z",
     "shell.execute_reply.started": "2024-02-28T12:14:30.318192Z"
    },
    "tags": []
   },
   "outputs": [],
   "source": [
    "# src : a Source catalog\n",
    "# srcMatchFull\n",
    "# finalized_src_table : sape of a pandas dataframe\n",
    "\n",
    "#'isolated_star_cat', {instrument, skymap, tract}, DataFrame),\n",
    "#'isolated_star_sources', {instrument, skymap, tract}, DataFrame),\n",
    "#'isolated_star_sources_atlas_refcat2_20220201_match', {skymap, tract}, DataFrame),\n",
    "\n",
    "#data_product = \"isolated_star_sources\" \n",
    "data_product = \"isolated_star_cat\" \n",
    "#data_product = 'isolated_star_sources_atlas_refcat2_20220201_match' # Nothing\n",
    "datasetRefs = butler.registry.queryDatasets(datasetType=data_product, collections=my_collection, where= \"instrument='LATISS'\")\n",
    "filesource_out=f\"{data_product}_{DATE}.csv\""
   ]
  },
  {
   "cell_type": "code",
   "execution_count": 14,
   "id": "a01bb1b1-a2fe-4060-85ff-fb9e9c5dbb74",
   "metadata": {
    "execution": {
     "iopub.execute_input": "2024-02-28T12:14:30.457376Z",
     "iopub.status.busy": "2024-02-28T12:14:30.457206Z",
     "iopub.status.idle": "2024-02-28T12:14:31.664227Z",
     "shell.execute_reply": "2024-02-28T12:14:31.663740Z",
     "shell.execute_reply.started": "2024-02-28T12:14:30.457362Z"
    },
    "tags": []
   },
   "outputs": [
    {
     "name": "stdout",
     "output_type": "stream",
     "text": [
      "========================datasetType = isolated_star_cat ============================================\n",
      "fullId.............................: {instrument: 'LATISS', skymap: 'latiss_v1', tract: 454}\n",
      "tract..............................: 454\n",
      "========================datasetType = isolated_star_cat ============================================\n",
      "fullId.............................: {instrument: 'LATISS', skymap: 'latiss_v1', tract: 8188}\n",
      "tract..............................: 8188\n"
     ]
    },
    {
     "name": "stderr",
     "output_type": "stream",
     "text": [
      "/tmp/ipykernel_16230/1033383477.py:5: FutureWarning: Call to deprecated function (or staticmethod) full. (DataCoordinate.full is deprecated in favor of .mapping, and will be dropped after v27.) -- Deprecated since version v27.\n",
      "  print(\"fullId.............................:\",ref.dataId.full)\n",
      "/tmp/ipykernel_16230/1033383477.py:5: FutureWarning: Call to deprecated function (or staticmethod) full. (DataCoordinate.full is deprecated in favor of .mapping, and will be dropped after v27.) -- Deprecated since version v27.\n",
      "  print(\"fullId.............................:\",ref.dataId.full)\n"
     ]
    },
    {
     "name": "stdout",
     "output_type": "stream",
     "text": [
      "<class 'pandas.core.frame.DataFrame'> 314\n",
      "========================datasetType = isolated_star_cat ============================================\n",
      "fullId.............................: {instrument: 'LATISS', skymap: 'latiss_v1', tract: 5616}\n",
      "tract..............................: 5616\n",
      "<class 'pandas.core.frame.DataFrame'> 476\n",
      "========================datasetType = isolated_star_cat ============================================\n",
      "fullId.............................: {instrument: 'LATISS', skymap: 'latiss_v1', tract: 10644}\n",
      "tract..............................: 10644\n",
      "<class 'pandas.core.frame.DataFrame'> 442\n",
      "========================datasetType = isolated_star_cat ============================================\n",
      "fullId.............................: {instrument: 'LATISS', skymap: 'latiss_v1', tract: 455}\n",
      "tract..............................: 455\n"
     ]
    },
    {
     "name": "stderr",
     "output_type": "stream",
     "text": [
      "/tmp/ipykernel_16230/1033383477.py:5: FutureWarning: Call to deprecated function (or staticmethod) full. (DataCoordinate.full is deprecated in favor of .mapping, and will be dropped after v27.) -- Deprecated since version v27.\n",
      "  print(\"fullId.............................:\",ref.dataId.full)\n",
      "/tmp/ipykernel_16230/1033383477.py:5: FutureWarning: Call to deprecated function (or staticmethod) full. (DataCoordinate.full is deprecated in favor of .mapping, and will be dropped after v27.) -- Deprecated since version v27.\n",
      "  print(\"fullId.............................:\",ref.dataId.full)\n",
      "/tmp/ipykernel_16230/1033383477.py:5: FutureWarning: Call to deprecated function (or staticmethod) full. (DataCoordinate.full is deprecated in favor of .mapping, and will be dropped after v27.) -- Deprecated since version v27.\n",
      "  print(\"fullId.............................:\",ref.dataId.full)\n"
     ]
    },
    {
     "name": "stdout",
     "output_type": "stream",
     "text": [
      "<class 'pandas.core.frame.DataFrame'> 2093\n",
      "========================datasetType = isolated_star_cat ============================================\n",
      "fullId.............................: {instrument: 'LATISS', skymap: 'latiss_v1', tract: 452}\n",
      "tract..............................: 452\n",
      "<class 'pandas.core.frame.DataFrame'> 119\n",
      "========================datasetType = isolated_star_cat ============================================\n",
      "fullId.............................: {instrument: 'LATISS', skymap: 'latiss_v1', tract: 5615}\n",
      "tract..............................: 5615\n"
     ]
    },
    {
     "name": "stderr",
     "output_type": "stream",
     "text": [
      "/tmp/ipykernel_16230/1033383477.py:5: FutureWarning: Call to deprecated function (or staticmethod) full. (DataCoordinate.full is deprecated in favor of .mapping, and will be dropped after v27.) -- Deprecated since version v27.\n",
      "  print(\"fullId.............................:\",ref.dataId.full)\n",
      "/tmp/ipykernel_16230/1033383477.py:5: FutureWarning: Call to deprecated function (or staticmethod) full. (DataCoordinate.full is deprecated in favor of .mapping, and will be dropped after v27.) -- Deprecated since version v27.\n",
      "  print(\"fullId.............................:\",ref.dataId.full)\n"
     ]
    },
    {
     "name": "stdout",
     "output_type": "stream",
     "text": [
      "<class 'pandas.core.frame.DataFrame'> 523\n",
      "========================datasetType = isolated_star_cat ============================================\n",
      "fullId.............................: {instrument: 'LATISS', skymap: 'latiss_v1', tract: 380}\n",
      "tract..............................: 380\n",
      "========================datasetType = isolated_star_cat ============================================\n",
      "fullId.............................: {instrument: 'LATISS', skymap: 'latiss_v1', tract: 3863}\n",
      "tract..............................: 3863\n",
      "<class 'pandas.core.frame.DataFrame'> 245\n",
      "========================datasetType = isolated_star_cat ============================================\n",
      "fullId.............................: {instrument: 'LATISS', skymap: 'latiss_v1', tract: 5839}\n",
      "tract..............................: 5839\n",
      "<class 'pandas.core.frame.DataFrame'> 18\n",
      "========================datasetType = isolated_star_cat ============================================\n",
      "fullId.............................: {instrument: 'LATISS', skymap: 'latiss_v1', tract: 383}\n",
      "tract..............................: 383\n",
      "<class 'pandas.core.frame.DataFrame'> 19\n",
      "========================datasetType = isolated_star_cat ============================================\n",
      "fullId.............................: {instrument: 'LATISS', skymap: 'latiss_v1', tract: 382}\n",
      "tract..............................: 382\n"
     ]
    },
    {
     "name": "stderr",
     "output_type": "stream",
     "text": [
      "/tmp/ipykernel_16230/1033383477.py:5: FutureWarning: Call to deprecated function (or staticmethod) full. (DataCoordinate.full is deprecated in favor of .mapping, and will be dropped after v27.) -- Deprecated since version v27.\n",
      "  print(\"fullId.............................:\",ref.dataId.full)\n",
      "/tmp/ipykernel_16230/1033383477.py:5: FutureWarning: Call to deprecated function (or staticmethod) full. (DataCoordinate.full is deprecated in favor of .mapping, and will be dropped after v27.) -- Deprecated since version v27.\n",
      "  print(\"fullId.............................:\",ref.dataId.full)\n",
      "/tmp/ipykernel_16230/1033383477.py:5: FutureWarning: Call to deprecated function (or staticmethod) full. (DataCoordinate.full is deprecated in favor of .mapping, and will be dropped after v27.) -- Deprecated since version v27.\n",
      "  print(\"fullId.............................:\",ref.dataId.full)\n",
      "/tmp/ipykernel_16230/1033383477.py:5: FutureWarning: Call to deprecated function (or staticmethod) full. (DataCoordinate.full is deprecated in favor of .mapping, and will be dropped after v27.) -- Deprecated since version v27.\n",
      "  print(\"fullId.............................:\",ref.dataId.full)\n",
      "/tmp/ipykernel_16230/1033383477.py:5: FutureWarning: Call to deprecated function (or staticmethod) full. (DataCoordinate.full is deprecated in favor of .mapping, and will be dropped after v27.) -- Deprecated since version v27.\n",
      "  print(\"fullId.............................:\",ref.dataId.full)\n"
     ]
    },
    {
     "name": "stdout",
     "output_type": "stream",
     "text": [
      "<class 'pandas.core.frame.DataFrame'> 47\n",
      "========================datasetType = isolated_star_cat ============================================\n",
      "fullId.............................: {instrument: 'LATISS', skymap: 'latiss_v1', tract: 5634}\n",
      "tract..............................: 5634\n",
      "<class 'pandas.core.frame.DataFrame'> 2564\n",
      "========================datasetType = isolated_star_cat ============================================\n",
      "fullId.............................: {instrument: 'LATISS', skymap: 'latiss_v1', tract: 5614}\n",
      "tract..............................: 5614\n",
      "<class 'pandas.core.frame.DataFrame'> 447\n",
      "========================datasetType = isolated_star_cat ============================================\n",
      "fullId.............................: {instrument: 'LATISS', skymap: 'latiss_v1', tract: 10643}\n",
      "tract..............................: 10643\n",
      "<class 'pandas.core.frame.DataFrame'> 14\n",
      "========================datasetType = isolated_star_cat ============================================\n",
      "fullId.............................: {instrument: 'LATISS', skymap: 'latiss_v1', tract: 3864}\n",
      "tract..............................: 3864\n"
     ]
    },
    {
     "name": "stderr",
     "output_type": "stream",
     "text": [
      "/tmp/ipykernel_16230/1033383477.py:5: FutureWarning: Call to deprecated function (or staticmethod) full. (DataCoordinate.full is deprecated in favor of .mapping, and will be dropped after v27.) -- Deprecated since version v27.\n",
      "  print(\"fullId.............................:\",ref.dataId.full)\n",
      "/tmp/ipykernel_16230/1033383477.py:5: FutureWarning: Call to deprecated function (or staticmethod) full. (DataCoordinate.full is deprecated in favor of .mapping, and will be dropped after v27.) -- Deprecated since version v27.\n",
      "  print(\"fullId.............................:\",ref.dataId.full)\n",
      "/tmp/ipykernel_16230/1033383477.py:5: FutureWarning: Call to deprecated function (or staticmethod) full. (DataCoordinate.full is deprecated in favor of .mapping, and will be dropped after v27.) -- Deprecated since version v27.\n",
      "  print(\"fullId.............................:\",ref.dataId.full)\n",
      "/tmp/ipykernel_16230/1033383477.py:5: FutureWarning: Call to deprecated function (or staticmethod) full. (DataCoordinate.full is deprecated in favor of .mapping, and will be dropped after v27.) -- Deprecated since version v27.\n",
      "  print(\"fullId.............................:\",ref.dataId.full)\n"
     ]
    },
    {
     "name": "stdout",
     "output_type": "stream",
     "text": [
      "<class 'pandas.core.frame.DataFrame'> 1350\n"
     ]
    }
   ],
   "source": [
    "all_df = []\n",
    "\n",
    "for i, ref in enumerate(datasetRefs):\n",
    "    print(f\"========================datasetType = {data_product} ============================================\")\n",
    "    print(\"fullId.............................:\",ref.dataId.full)\n",
    "    print(\"tract..............................:\",ref.dataId['tract'])\n",
    "    tract = ref.dataId['tract']\n",
    "    df = butler.get(ref)\n",
    "\n",
    "    if(len(df)>0):\n",
    "        print(type(df),len(df))\n",
    "        df['tract'] = tract\n",
    "        all_df.append(df)\n",
    "    "
   ]
  },
  {
   "cell_type": "code",
   "execution_count": 16,
   "id": "abac8398-3404-4bb9-85dc-766f9825e7d1",
   "metadata": {
    "execution": {
     "iopub.execute_input": "2024-02-28T12:14:31.713526Z",
     "iopub.status.busy": "2024-02-28T12:14:31.713391Z",
     "iopub.status.idle": "2024-02-28T12:14:31.716821Z",
     "shell.execute_reply": "2024-02-28T12:14:31.716456Z",
     "shell.execute_reply.started": "2024-02-28T12:14:31.713514Z"
    }
   },
   "outputs": [],
   "source": [
    "df = pd.concat(all_df)"
   ]
  },
  {
   "cell_type": "code",
   "execution_count": 17,
   "id": "21444ba7-f2d3-48ab-a984-dc82f9c30d4e",
   "metadata": {
    "execution": {
     "iopub.execute_input": "2024-02-28T12:14:31.717436Z",
     "iopub.status.busy": "2024-02-28T12:14:31.717302Z",
     "iopub.status.idle": "2024-02-28T12:14:31.726751Z",
     "shell.execute_reply": "2024-02-28T12:14:31.726295Z",
     "shell.execute_reply.started": "2024-02-28T12:14:31.717423Z"
    }
   },
   "outputs": [
    {
     "data": {
      "text/html": [
       "<div>\n",
       "<style scoped>\n",
       "    .dataframe tbody tr th:only-of-type {\n",
       "        vertical-align: middle;\n",
       "    }\n",
       "\n",
       "    .dataframe tbody tr th {\n",
       "        vertical-align: top;\n",
       "    }\n",
       "\n",
       "    .dataframe thead th {\n",
       "        text-align: right;\n",
       "    }\n",
       "</style>\n",
       "<table border=\"1\" class=\"dataframe\">\n",
       "  <thead>\n",
       "    <tr style=\"text-align: right;\">\n",
       "      <th></th>\n",
       "      <th>isolated_star_id</th>\n",
       "      <th>ra</th>\n",
       "      <th>dec</th>\n",
       "      <th>primary_band</th>\n",
       "      <th>source_cat_index</th>\n",
       "      <th>nsource</th>\n",
       "      <th>source_cat_index_i</th>\n",
       "      <th>nsource_i</th>\n",
       "      <th>source_cat_index_z</th>\n",
       "      <th>nsource_z</th>\n",
       "      <th>source_cat_index_r</th>\n",
       "      <th>nsource_r</th>\n",
       "      <th>source_cat_index_g</th>\n",
       "      <th>nsource_g</th>\n",
       "      <th>source_cat_index_y</th>\n",
       "      <th>nsource_y</th>\n",
       "      <th>source_cat_index_u</th>\n",
       "      <th>nsource_u</th>\n",
       "      <th>tract</th>\n",
       "    </tr>\n",
       "  </thead>\n",
       "  <tbody>\n",
       "    <tr>\n",
       "      <th>0</th>\n",
       "      <td>108188</td>\n",
       "      <td>253.548157</td>\n",
       "      <td>-8.750126</td>\n",
       "      <td>i</td>\n",
       "      <td>0</td>\n",
       "      <td>10</td>\n",
       "      <td>0</td>\n",
       "      <td>4</td>\n",
       "      <td>4</td>\n",
       "      <td>0</td>\n",
       "      <td>4</td>\n",
       "      <td>4</td>\n",
       "      <td>8</td>\n",
       "      <td>2</td>\n",
       "      <td>10</td>\n",
       "      <td>0</td>\n",
       "      <td>10</td>\n",
       "      <td>0</td>\n",
       "      <td>8188</td>\n",
       "    </tr>\n",
       "    <tr>\n",
       "      <th>1</th>\n",
       "      <td>208188</td>\n",
       "      <td>253.492415</td>\n",
       "      <td>-8.747484</td>\n",
       "      <td>i</td>\n",
       "      <td>10</td>\n",
       "      <td>9</td>\n",
       "      <td>10</td>\n",
       "      <td>4</td>\n",
       "      <td>14</td>\n",
       "      <td>0</td>\n",
       "      <td>14</td>\n",
       "      <td>3</td>\n",
       "      <td>17</td>\n",
       "      <td>2</td>\n",
       "      <td>19</td>\n",
       "      <td>0</td>\n",
       "      <td>19</td>\n",
       "      <td>0</td>\n",
       "      <td>8188</td>\n",
       "    </tr>\n",
       "    <tr>\n",
       "      <th>2</th>\n",
       "      <td>308188</td>\n",
       "      <td>253.548515</td>\n",
       "      <td>-8.755819</td>\n",
       "      <td>i</td>\n",
       "      <td>19</td>\n",
       "      <td>5</td>\n",
       "      <td>19</td>\n",
       "      <td>4</td>\n",
       "      <td>23</td>\n",
       "      <td>0</td>\n",
       "      <td>23</td>\n",
       "      <td>1</td>\n",
       "      <td>24</td>\n",
       "      <td>0</td>\n",
       "      <td>24</td>\n",
       "      <td>0</td>\n",
       "      <td>24</td>\n",
       "      <td>0</td>\n",
       "      <td>8188</td>\n",
       "    </tr>\n",
       "    <tr>\n",
       "      <th>3</th>\n",
       "      <td>408188</td>\n",
       "      <td>253.525449</td>\n",
       "      <td>-8.764117</td>\n",
       "      <td>i</td>\n",
       "      <td>24</td>\n",
       "      <td>10</td>\n",
       "      <td>24</td>\n",
       "      <td>4</td>\n",
       "      <td>28</td>\n",
       "      <td>0</td>\n",
       "      <td>28</td>\n",
       "      <td>4</td>\n",
       "      <td>32</td>\n",
       "      <td>2</td>\n",
       "      <td>34</td>\n",
       "      <td>0</td>\n",
       "      <td>34</td>\n",
       "      <td>0</td>\n",
       "      <td>8188</td>\n",
       "    </tr>\n",
       "    <tr>\n",
       "      <th>4</th>\n",
       "      <td>508188</td>\n",
       "      <td>253.512081</td>\n",
       "      <td>-8.804718</td>\n",
       "      <td>i</td>\n",
       "      <td>34</td>\n",
       "      <td>11</td>\n",
       "      <td>34</td>\n",
       "      <td>4</td>\n",
       "      <td>38</td>\n",
       "      <td>0</td>\n",
       "      <td>38</td>\n",
       "      <td>4</td>\n",
       "      <td>42</td>\n",
       "      <td>3</td>\n",
       "      <td>45</td>\n",
       "      <td>0</td>\n",
       "      <td>45</td>\n",
       "      <td>0</td>\n",
       "      <td>8188</td>\n",
       "    </tr>\n",
       "    <tr>\n",
       "      <th>...</th>\n",
       "      <td>...</td>\n",
       "      <td>...</td>\n",
       "      <td>...</td>\n",
       "      <td>...</td>\n",
       "      <td>...</td>\n",
       "      <td>...</td>\n",
       "      <td>...</td>\n",
       "      <td>...</td>\n",
       "      <td>...</td>\n",
       "      <td>...</td>\n",
       "      <td>...</td>\n",
       "      <td>...</td>\n",
       "      <td>...</td>\n",
       "      <td>...</td>\n",
       "      <td>...</td>\n",
       "      <td>...</td>\n",
       "      <td>...</td>\n",
       "      <td>...</td>\n",
       "      <td>...</td>\n",
       "    </tr>\n",
       "    <tr>\n",
       "      <th>1345</th>\n",
       "      <td>134603864</td>\n",
       "      <td>122.636921</td>\n",
       "      <td>-36.166699</td>\n",
       "      <td>y</td>\n",
       "      <td>152519</td>\n",
       "      <td>1</td>\n",
       "      <td>152519</td>\n",
       "      <td>0</td>\n",
       "      <td>152519</td>\n",
       "      <td>0</td>\n",
       "      <td>152519</td>\n",
       "      <td>0</td>\n",
       "      <td>152519</td>\n",
       "      <td>0</td>\n",
       "      <td>152519</td>\n",
       "      <td>1</td>\n",
       "      <td>152520</td>\n",
       "      <td>0</td>\n",
       "      <td>3864</td>\n",
       "    </tr>\n",
       "    <tr>\n",
       "      <th>1346</th>\n",
       "      <td>134703864</td>\n",
       "      <td>122.627452</td>\n",
       "      <td>-36.261952</td>\n",
       "      <td>y</td>\n",
       "      <td>152520</td>\n",
       "      <td>1</td>\n",
       "      <td>152520</td>\n",
       "      <td>0</td>\n",
       "      <td>152520</td>\n",
       "      <td>0</td>\n",
       "      <td>152520</td>\n",
       "      <td>0</td>\n",
       "      <td>152520</td>\n",
       "      <td>0</td>\n",
       "      <td>152520</td>\n",
       "      <td>1</td>\n",
       "      <td>152521</td>\n",
       "      <td>0</td>\n",
       "      <td>3864</td>\n",
       "    </tr>\n",
       "    <tr>\n",
       "      <th>1347</th>\n",
       "      <td>134803864</td>\n",
       "      <td>122.584535</td>\n",
       "      <td>-36.077190</td>\n",
       "      <td>y</td>\n",
       "      <td>152521</td>\n",
       "      <td>1</td>\n",
       "      <td>152521</td>\n",
       "      <td>0</td>\n",
       "      <td>152521</td>\n",
       "      <td>0</td>\n",
       "      <td>152521</td>\n",
       "      <td>0</td>\n",
       "      <td>152521</td>\n",
       "      <td>0</td>\n",
       "      <td>152521</td>\n",
       "      <td>1</td>\n",
       "      <td>152522</td>\n",
       "      <td>0</td>\n",
       "      <td>3864</td>\n",
       "    </tr>\n",
       "    <tr>\n",
       "      <th>1348</th>\n",
       "      <td>134903864</td>\n",
       "      <td>122.571455</td>\n",
       "      <td>-36.266611</td>\n",
       "      <td>y</td>\n",
       "      <td>152522</td>\n",
       "      <td>1</td>\n",
       "      <td>152522</td>\n",
       "      <td>0</td>\n",
       "      <td>152522</td>\n",
       "      <td>0</td>\n",
       "      <td>152522</td>\n",
       "      <td>0</td>\n",
       "      <td>152522</td>\n",
       "      <td>0</td>\n",
       "      <td>152522</td>\n",
       "      <td>1</td>\n",
       "      <td>152523</td>\n",
       "      <td>0</td>\n",
       "      <td>3864</td>\n",
       "    </tr>\n",
       "    <tr>\n",
       "      <th>1349</th>\n",
       "      <td>135003864</td>\n",
       "      <td>122.371088</td>\n",
       "      <td>-36.241104</td>\n",
       "      <td>y</td>\n",
       "      <td>152523</td>\n",
       "      <td>1</td>\n",
       "      <td>152523</td>\n",
       "      <td>0</td>\n",
       "      <td>152523</td>\n",
       "      <td>0</td>\n",
       "      <td>152523</td>\n",
       "      <td>0</td>\n",
       "      <td>152523</td>\n",
       "      <td>0</td>\n",
       "      <td>152523</td>\n",
       "      <td>1</td>\n",
       "      <td>152524</td>\n",
       "      <td>0</td>\n",
       "      <td>3864</td>\n",
       "    </tr>\n",
       "  </tbody>\n",
       "</table>\n",
       "<p>8671 rows × 19 columns</p>\n",
       "</div>"
      ],
      "text/plain": [
       "      isolated_star_id          ra        dec primary_band  source_cat_index  \\\n",
       "0               108188  253.548157  -8.750126            i                 0   \n",
       "1               208188  253.492415  -8.747484            i                10   \n",
       "2               308188  253.548515  -8.755819            i                19   \n",
       "3               408188  253.525449  -8.764117            i                24   \n",
       "4               508188  253.512081  -8.804718            i                34   \n",
       "...                ...         ...        ...          ...               ...   \n",
       "1345         134603864  122.636921 -36.166699            y            152519   \n",
       "1346         134703864  122.627452 -36.261952            y            152520   \n",
       "1347         134803864  122.584535 -36.077190            y            152521   \n",
       "1348         134903864  122.571455 -36.266611            y            152522   \n",
       "1349         135003864  122.371088 -36.241104            y            152523   \n",
       "\n",
       "      nsource  source_cat_index_i  nsource_i  source_cat_index_z  nsource_z  \\\n",
       "0          10                   0          4                   4          0   \n",
       "1           9                  10          4                  14          0   \n",
       "2           5                  19          4                  23          0   \n",
       "3          10                  24          4                  28          0   \n",
       "4          11                  34          4                  38          0   \n",
       "...       ...                 ...        ...                 ...        ...   \n",
       "1345        1              152519          0              152519          0   \n",
       "1346        1              152520          0              152520          0   \n",
       "1347        1              152521          0              152521          0   \n",
       "1348        1              152522          0              152522          0   \n",
       "1349        1              152523          0              152523          0   \n",
       "\n",
       "      source_cat_index_r  nsource_r  source_cat_index_g  nsource_g  \\\n",
       "0                      4          4                   8          2   \n",
       "1                     14          3                  17          2   \n",
       "2                     23          1                  24          0   \n",
       "3                     28          4                  32          2   \n",
       "4                     38          4                  42          3   \n",
       "...                  ...        ...                 ...        ...   \n",
       "1345              152519          0              152519          0   \n",
       "1346              152520          0              152520          0   \n",
       "1347              152521          0              152521          0   \n",
       "1348              152522          0              152522          0   \n",
       "1349              152523          0              152523          0   \n",
       "\n",
       "      source_cat_index_y  nsource_y  source_cat_index_u  nsource_u  tract  \n",
       "0                     10          0                  10          0   8188  \n",
       "1                     19          0                  19          0   8188  \n",
       "2                     24          0                  24          0   8188  \n",
       "3                     34          0                  34          0   8188  \n",
       "4                     45          0                  45          0   8188  \n",
       "...                  ...        ...                 ...        ...    ...  \n",
       "1345              152519          1              152520          0   3864  \n",
       "1346              152520          1              152521          0   3864  \n",
       "1347              152521          1              152522          0   3864  \n",
       "1348              152522          1              152523          0   3864  \n",
       "1349              152523          1              152524          0   3864  \n",
       "\n",
       "[8671 rows x 19 columns]"
      ]
     },
     "execution_count": 17,
     "metadata": {},
     "output_type": "execute_result"
    }
   ],
   "source": [
    "df"
   ]
  },
  {
   "cell_type": "code",
   "execution_count": 18,
   "id": "a4afe23a-71ae-4c4e-abd7-591bc9d939c8",
   "metadata": {
    "execution": {
     "iopub.execute_input": "2024-02-28T12:14:31.727369Z",
     "iopub.status.busy": "2024-02-28T12:14:31.727236Z",
     "iopub.status.idle": "2024-02-28T12:14:31.771769Z",
     "shell.execute_reply": "2024-02-28T12:14:31.771321Z",
     "shell.execute_reply.started": "2024-02-28T12:14:31.727357Z"
    },
    "tags": []
   },
   "outputs": [],
   "source": [
    "df.to_csv(filesource_out)"
   ]
  },
  {
   "cell_type": "code",
   "execution_count": 19,
   "id": "dbf845eb-7c07-4344-a440-f7af1bffd08a",
   "metadata": {
    "execution": {
     "iopub.execute_input": "2024-02-28T12:14:31.773913Z",
     "iopub.status.busy": "2024-02-28T12:14:31.773773Z",
     "iopub.status.idle": "2024-02-28T12:14:31.776393Z",
     "shell.execute_reply": "2024-02-28T12:14:31.775973Z",
     "shell.execute_reply.started": "2024-02-28T12:14:31.773901Z"
    },
    "tags": []
   },
   "outputs": [
    {
     "name": "stdout",
     "output_type": "stream",
     "text": [
      "['isolated_star_id', 'ra', 'dec', 'primary_band', 'source_cat_index', 'nsource', 'source_cat_index_i', 'nsource_i', 'source_cat_index_z', 'nsource_z', 'source_cat_index_r', 'nsource_r', 'source_cat_index_g', 'nsource_g', 'source_cat_index_y', 'nsource_y', 'source_cat_index_u', 'nsource_u', 'tract']\n"
     ]
    }
   ],
   "source": [
    "print(df.columns.tolist())"
   ]
  },
  {
   "cell_type": "code",
   "execution_count": 20,
   "id": "e211cb27-8fce-4f75-b5f8-2cc966675158",
   "metadata": {
    "execution": {
     "iopub.execute_input": "2024-02-28T12:14:31.777072Z",
     "iopub.status.busy": "2024-02-28T12:14:31.776937Z",
     "iopub.status.idle": "2024-02-28T12:14:31.780368Z",
     "shell.execute_reply": "2024-02-28T12:14:31.779919Z",
     "shell.execute_reply.started": "2024-02-28T12:14:31.777060Z"
    }
   },
   "outputs": [
    {
     "data": {
      "text/plain": [
       "array([ 8188,  5616, 10644,   455,   452,  5615,  3863,  5839,   383,\n",
       "         382,  5634,  5614, 10643,  3864])"
      ]
     },
     "execution_count": 20,
     "metadata": {},
     "output_type": "execute_result"
    }
   ],
   "source": [
    "df['tract'].unique()"
   ]
  },
  {
   "cell_type": "code",
   "execution_count": 21,
   "id": "3fc22a66-a90d-4371-b073-1f1c34c806f7",
   "metadata": {
    "execution": {
     "iopub.execute_input": "2024-02-28T12:15:36.106766Z",
     "iopub.status.busy": "2024-02-28T12:15:36.106558Z",
     "iopub.status.idle": "2024-02-28T12:15:36.109917Z",
     "shell.execute_reply": "2024-02-28T12:15:36.109599Z",
     "shell.execute_reply.started": "2024-02-28T12:15:36.106751Z"
    }
   },
   "outputs": [
    {
     "data": {
      "text/plain": [
       "SerializedDatasetRef(id=UUID('1bcd85e8-3690-4f94-8728-b87d2af74806'), datasetType=SerializedDatasetType(name='isolated_star_cat', storageClass='DataFrame', dimensions=['instrument', 'skymap', 'tract'], parentStorageClass=None, isCalibration=False), dataId=SerializedDataCoordinate(dataId={'instrument': 'LATISS', 'skymap': 'latiss_v1', 'tract': 3864}, records=None), run='LATISS/runs/AUXTEL_DRP_IMAGING_20230509_20240201/w_2024_05/PREOPS-4871/20240206T181631Z', component=None)"
      ]
     },
     "execution_count": 21,
     "metadata": {},
     "output_type": "execute_result"
    }
   ],
   "source": [
    "ref.to_simple()"
   ]
  },
  {
   "cell_type": "code",
   "execution_count": null,
   "id": "8754a8ae-4ce5-4c67-a7c3-41deefe7892f",
   "metadata": {},
   "outputs": [],
   "source": []
  }
 ],
 "metadata": {
  "kernelspec": {
   "display_name": "LSST",
   "language": "python",
   "name": "lsst"
  },
  "language_info": {
   "codemirror_mode": {
    "name": "ipython",
    "version": 3
   },
   "file_extension": ".py",
   "mimetype": "text/x-python",
   "name": "python",
   "nbconvert_exporter": "python",
   "pygments_lexer": "ipython3",
   "version": "3.11.7"
  }
 },
 "nbformat": 4,
 "nbformat_minor": 5
}
