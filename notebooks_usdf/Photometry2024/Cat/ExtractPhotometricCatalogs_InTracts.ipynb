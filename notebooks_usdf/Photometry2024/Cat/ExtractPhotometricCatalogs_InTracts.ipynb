{
 "cells": [
  {
   "cell_type": "markdown",
   "id": "0b8c2138-5194-4d03-8b77-be24e2cc8ee3",
   "metadata": {},
   "source": [
    "# Extract sources from catalogs  in  OGA"
   ]
  },
  {
   "cell_type": "markdown",
   "id": "740e34fb-3fef-45a8-941b-c229742ab016",
   "metadata": {},
   "source": [
    " work with Weakly_2024_07\n",
    "- use jupyter kernel LSST\n",
    "- author : Sylvie Dagoret-Campagne\n",
    "- affiliation : IJCLab\n",
    "- creation date : 2024/02/18\n",
    "- update : 2024/02/24\n",
    "\n",
    "\n",
    "         DatasetType('isolated_star_cat', {instrument, skymap, tract}, DataFrame),\n",
    "         DatasetType('isolated_star_sources', {instrument, skymap, tract}, DataFrame),\n",
    "         DatasetType('isolated_star_sources_atlas_refcat2_20220201_match', {skymap, tract}, DataFrame),\n"
   ]
  },
  {
   "cell_type": "code",
   "execution_count": 1,
   "id": "ed2c3410-fe83-432e-ab87-9f4513fa8d8b",
   "metadata": {
    "execution": {
     "iopub.execute_input": "2024-02-24T15:16:32.312839Z",
     "iopub.status.busy": "2024-02-24T15:16:32.312708Z",
     "iopub.status.idle": "2024-02-24T15:16:32.668986Z",
     "shell.execute_reply": "2024-02-24T15:16:32.668395Z",
     "shell.execute_reply.started": "2024-02-24T15:16:32.312825Z"
    }
   },
   "outputs": [
    {
     "name": "stdout",
     "output_type": "stream",
     "text": [
      "analysis_tools        LOCAL:/home/d/dagoret/repos/repos_w_2024_07/analysis_tools \tsetup\n",
      "atmospec              LOCAL:/home/d/dagoret/repos/repos_w_2024_07/atmospec \tsetup\n",
      "eups                  LOCAL:/opt/lsst/software/stack/conda/miniconda3-py38_4.9.2/envs/lsst-scipipe-8.0.0/eups \tsetup\n",
      "spectractor           LOCAL:/home/d/dagoret/repos/repos_w_2024_07/Spectractor \tsetup\n"
     ]
    }
   ],
   "source": [
    "! eups list -s | grep LOCAL"
   ]
  },
  {
   "cell_type": "code",
   "execution_count": 2,
   "id": "70918d81-0cf6-4b0a-8f61-f5e5bec5b0e7",
   "metadata": {
    "execution": {
     "iopub.execute_input": "2024-02-24T15:16:32.669977Z",
     "iopub.status.busy": "2024-02-24T15:16:32.669809Z",
     "iopub.status.idle": "2024-02-24T15:16:33.013114Z",
     "shell.execute_reply": "2024-02-24T15:16:33.012585Z",
     "shell.execute_reply.started": "2024-02-24T15:16:32.669961Z"
    }
   },
   "outputs": [
    {
     "name": "stdout",
     "output_type": "stream",
     "text": [
      "   g4213664e8e+34187316c4 \tcurrent w_2024_07 setup\n"
     ]
    }
   ],
   "source": [
    "! eups list -s lsst_distrib"
   ]
  },
  {
   "cell_type": "code",
   "execution_count": 3,
   "id": "f8d9cfca-5881-48c1-b2cb-0f794a2e4091",
   "metadata": {
    "execution": {
     "iopub.execute_input": "2024-02-24T15:16:33.014004Z",
     "iopub.status.busy": "2024-02-24T15:16:33.013848Z",
     "iopub.status.idle": "2024-02-24T15:16:33.656589Z",
     "shell.execute_reply": "2024-02-24T15:16:33.656084Z",
     "shell.execute_reply.started": "2024-02-24T15:16:33.013990Z"
    },
    "tags": []
   },
   "outputs": [],
   "source": [
    "import lsst.daf.butler as dafButler\n",
    "#import lsst.summit.utils.butlerUtils as butlerUtils"
   ]
  },
  {
   "cell_type": "code",
   "execution_count": 4,
   "id": "1ceacda9-20b0-4d77-a0d2-572c957ce273",
   "metadata": {
    "execution": {
     "iopub.execute_input": "2024-02-24T15:16:33.658252Z",
     "iopub.status.busy": "2024-02-24T15:16:33.658070Z",
     "iopub.status.idle": "2024-02-24T15:16:34.209314Z",
     "shell.execute_reply": "2024-02-24T15:16:34.208885Z",
     "shell.execute_reply.started": "2024-02-24T15:16:33.658238Z"
    },
    "tags": []
   },
   "outputs": [],
   "source": [
    "import numpy as np\n",
    "import matplotlib.pyplot as plt\n",
    "%matplotlib inline\n",
    "from mpl_toolkits.axes_grid1 import make_axes_locatable\n",
    "from matplotlib.colors import LogNorm,SymLogNorm\n",
    "\n",
    "\n",
    "import matplotlib.ticker                         # here's where the formatter is\n",
    "from matplotlib.ticker import (MultipleLocator, FormatStrFormatter,\n",
    "                               AutoMinorLocator)\n",
    "\n",
    "from astropy.visualization import (MinMaxInterval, SqrtStretch,ZScaleInterval,PercentileInterval,\n",
    "                                   ImageNormalize,imshow_norm)\n",
    "from astropy.visualization.stretch import SinhStretch, LinearStretch,AsinhStretch,LogStretch\n",
    "\n",
    "from astropy.io import fits\n",
    "from astropy.table import Table\n",
    "import pandas as pd\n",
    "\n",
    "import matplotlib.ticker                         # here's where the formatter is\n",
    "import os\n",
    "import re\n",
    "import pandas as pd\n",
    "\n",
    "plt.rcParams[\"figure.figsize\"] = (4,3)\n",
    "plt.rcParams[\"axes.labelsize\"] = 'xx-large'\n",
    "plt.rcParams['axes.titlesize'] = 'xx-large'\n",
    "plt.rcParams['xtick.labelsize']= 'xx-large'\n",
    "plt.rcParams['ytick.labelsize']= 'xx-large'"
   ]
  },
  {
   "cell_type": "code",
   "execution_count": 5,
   "id": "34c92544-f2fd-4287-b852-e2ccb9a3b510",
   "metadata": {
    "execution": {
     "iopub.execute_input": "2024-02-24T15:16:34.210187Z",
     "iopub.status.busy": "2024-02-24T15:16:34.209873Z",
     "iopub.status.idle": "2024-02-24T15:16:34.212826Z",
     "shell.execute_reply": "2024-02-24T15:16:34.212410Z",
     "shell.execute_reply.started": "2024-02-24T15:16:34.210172Z"
    },
    "tags": []
   },
   "outputs": [],
   "source": [
    "from matplotlib.ticker import (MultipleLocator, FormatStrFormatter,\n",
    "                               AutoMinorLocator)\n",
    "\n",
    "from astropy.visualization import (MinMaxInterval, SqrtStretch,ZScaleInterval,PercentileInterval,\n",
    "                                   ImageNormalize,imshow_norm)\n",
    "from astropy.visualization.stretch import SinhStretch, LinearStretch,AsinhStretch,LogStretch\n",
    "\n",
    "from astropy.time import Time\n"
   ]
  },
  {
   "cell_type": "code",
   "execution_count": 6,
   "id": "77aa5733-0a46-49eb-b26e-d3bb6195cc3d",
   "metadata": {
    "execution": {
     "iopub.execute_input": "2024-02-24T15:16:34.213482Z",
     "iopub.status.busy": "2024-02-24T15:16:34.213352Z",
     "iopub.status.idle": "2024-02-24T15:16:34.498670Z",
     "shell.execute_reply": "2024-02-24T15:16:34.498195Z",
     "shell.execute_reply.started": "2024-02-24T15:16:34.213470Z"
    },
    "tags": []
   },
   "outputs": [],
   "source": [
    "# LSST Display\n",
    "import lsst.afw.display as afwDisplay\n",
    "afwDisplay.setDefaultBackend('matplotlib')"
   ]
  },
  {
   "cell_type": "code",
   "execution_count": 7,
   "id": "b7cea198-6f3c-4a87-8877-fdf8e4d73c26",
   "metadata": {
    "execution": {
     "iopub.execute_input": "2024-02-24T15:16:34.499646Z",
     "iopub.status.busy": "2024-02-24T15:16:34.499262Z",
     "iopub.status.idle": "2024-02-24T15:16:34.501970Z",
     "shell.execute_reply": "2024-02-24T15:16:34.501560Z",
     "shell.execute_reply.started": "2024-02-24T15:16:34.499631Z"
    },
    "tags": []
   },
   "outputs": [],
   "source": [
    "transform = AsinhStretch() + PercentileInterval(99.)"
   ]
  },
  {
   "cell_type": "code",
   "execution_count": 8,
   "id": "c8b31810-780c-43f2-92a1-af05fddd65e1",
   "metadata": {
    "execution": {
     "iopub.execute_input": "2024-02-24T15:16:34.502669Z",
     "iopub.status.busy": "2024-02-24T15:16:34.502541Z",
     "iopub.status.idle": "2024-02-24T15:16:34.505352Z",
     "shell.execute_reply": "2024-02-24T15:16:34.504979Z",
     "shell.execute_reply.started": "2024-02-24T15:16:34.502657Z"
    }
   },
   "outputs": [],
   "source": [
    "pd.options.display.max_columns = None\n",
    "#pd.options.display.max_rows = None\n",
    "\n"
   ]
  },
  {
   "cell_type": "markdown",
   "id": "17f98db2-2ea8-4546-87a9-f2cd11d67ec7",
   "metadata": {},
   "source": [
    "## Configuration"
   ]
  },
  {
   "cell_type": "code",
   "execution_count": 9,
   "id": "f6c1ac18-5e47-4ae9-93ec-32f4337aa520",
   "metadata": {
    "execution": {
     "iopub.execute_input": "2024-02-24T15:16:34.506018Z",
     "iopub.status.busy": "2024-02-24T15:16:34.505866Z",
     "iopub.status.idle": "2024-02-24T15:16:34.510200Z",
     "shell.execute_reply": "2024-02-24T15:16:34.509837Z",
     "shell.execute_reply.started": "2024-02-24T15:16:34.506006Z"
    }
   },
   "outputs": [],
   "source": [
    "DATE = 202402\n",
    "#filesource_out=\"finalized_src_table_202402.csv\"\n",
    "#filetractpatch_out = 'Latiss_tractspatchs_202312.pickle'"
   ]
  },
  {
   "cell_type": "code",
   "execution_count": 10,
   "id": "1c81d99a-5e91-4ba1-ba4a-c66b37905b98",
   "metadata": {
    "execution": {
     "iopub.execute_input": "2024-02-24T15:16:34.510840Z",
     "iopub.status.busy": "2024-02-24T15:16:34.510701Z",
     "iopub.status.idle": "2024-02-24T15:16:35.159456Z",
     "shell.execute_reply": "2024-02-24T15:16:35.158969Z",
     "shell.execute_reply.started": "2024-02-24T15:16:34.510825Z"
    },
    "tags": []
   },
   "outputs": [],
   "source": [
    "#repo =  \"/sdf/group/rubin/repo/main\"\n",
    "repo = \"/sdf/group/rubin/repo/oga/\"\n",
    "butler = dafButler.Butler(repo)\n",
    "registry = butler.registry"
   ]
  },
  {
   "cell_type": "code",
   "execution_count": 11,
   "id": "0fffaeef-599c-4469-8c04-67252827cb8d",
   "metadata": {
    "execution": {
     "iopub.execute_input": "2024-02-24T15:16:35.160194Z",
     "iopub.status.busy": "2024-02-24T15:16:35.160057Z",
     "iopub.status.idle": "2024-02-24T15:16:35.162478Z",
     "shell.execute_reply": "2024-02-24T15:16:35.161998Z",
     "shell.execute_reply.started": "2024-02-24T15:16:35.160182Z"
    }
   },
   "outputs": [],
   "source": [
    "#file_out=\"sourceTable_202312.csv\""
   ]
  },
  {
   "cell_type": "markdown",
   "id": "20dbb8da-3a08-4b4f-9437-4bf7f28c1782",
   "metadata": {},
   "source": [
    "## Give the collection"
   ]
  },
  {
   "cell_type": "code",
   "execution_count": 12,
   "id": "9629ea29-8ab4-4062-aed1-e16d62dc90c4",
   "metadata": {
    "execution": {
     "iopub.execute_input": "2024-02-24T15:16:35.163373Z",
     "iopub.status.busy": "2024-02-24T15:16:35.163109Z",
     "iopub.status.idle": "2024-02-24T15:16:35.166053Z",
     "shell.execute_reply": "2024-02-24T15:16:35.165606Z",
     "shell.execute_reply.started": "2024-02-24T15:16:35.163359Z"
    },
    "tags": []
   },
   "outputs": [],
   "source": [
    "#my_collection = \"LATISS/runs/AUXTEL_DRP_IMAGING_2023-11A-10A-09AB-08ABC-07AB-05AB/w_2023_46/PREOPS-4553\"\n",
    "my_collection = \"LATISS/runs/AUXTEL_DRP_IMAGING_20230509_20240201/w_2024_05/PREOPS-4871\""
   ]
  },
  {
   "cell_type": "markdown",
   "id": "a7587b10-c178-4537-9c34-60867b69fa01",
   "metadata": {},
   "source": [
    "## Config"
   ]
  },
  {
   "cell_type": "markdown",
   "id": "a72c2c07-ff40-49d9-a36d-5277cbbc5cec",
   "metadata": {},
   "source": [
    "# Sources"
   ]
  },
  {
   "cell_type": "code",
   "execution_count": 13,
   "id": "c2bca87f-8b3a-44ee-afa5-5b8e0b8f9b9d",
   "metadata": {
    "execution": {
     "iopub.execute_input": "2024-02-24T15:16:35.166802Z",
     "iopub.status.busy": "2024-02-24T15:16:35.166541Z",
     "iopub.status.idle": "2024-02-24T15:16:35.264789Z",
     "shell.execute_reply": "2024-02-24T15:16:35.264336Z",
     "shell.execute_reply.started": "2024-02-24T15:16:35.166790Z"
    },
    "tags": []
   },
   "outputs": [],
   "source": [
    "# src : a Source catalog\n",
    "# srcMatchFull\n",
    "# finalized_src_table : sape of a pandas dataframe\n",
    "\n",
    "#'isolated_star_cat', {instrument, skymap, tract}, DataFrame),\n",
    "#'isolated_star_sources', {instrument, skymap, tract}, DataFrame),\n",
    "#'isolated_star_sources_atlas_refcat2_20220201_match', {skymap, tract}, DataFrame),\n",
    "\n",
    "#data_product = \"isolated_star_sources\" \n",
    "#data_product = \"isolated_star_cat\" \n",
    "data_product = 'isolated_star_sources_atlas_refcat2_20220201_match'\n",
    "datasetRefs = butler.registry.queryDatasets(datasetType=data_product, collections=my_collection, where= \"instrument='LATISS'\")\n",
    "filesource_out=f\"{data_product}_{DATE}.csv\""
   ]
  },
  {
   "cell_type": "code",
   "execution_count": 14,
   "id": "a01bb1b1-a2fe-4060-85ff-fb9e9c5dbb74",
   "metadata": {
    "execution": {
     "iopub.execute_input": "2024-02-24T15:16:35.265476Z",
     "iopub.status.busy": "2024-02-24T15:16:35.265344Z",
     "iopub.status.idle": "2024-02-24T15:16:35.268529Z",
     "shell.execute_reply": "2024-02-24T15:16:35.268123Z",
     "shell.execute_reply.started": "2024-02-24T15:16:35.265464Z"
    },
    "tags": []
   },
   "outputs": [],
   "source": [
    "all_df = []\n",
    "\n",
    "for i, ref in enumerate(datasetRefs):\n",
    "    print(f\"========================datasetType = {data_product} ============================================\")\n",
    "    print(\"fullId.............................:\",ref.dataId.full)\n",
    "    print(\"tract..............................:\",ref.dataId['tract'])\n",
    "    tract = ref.dataId['tract']\n",
    "    df = butler.get(ref)\n",
    "\n",
    "    if(len(df)>0):\n",
    "        print(type(df),len(df))\n",
    "        df['tract'] = tract\n",
    "        all_df.append(df)\n",
    "    "
   ]
  },
  {
   "cell_type": "code",
   "execution_count": 15,
   "id": "abac8398-3404-4bb9-85dc-766f9825e7d1",
   "metadata": {
    "execution": {
     "iopub.execute_input": "2024-02-24T15:16:35.269137Z",
     "iopub.status.busy": "2024-02-24T15:16:35.269010Z",
     "iopub.status.idle": "2024-02-24T15:16:35.474014Z",
     "shell.execute_reply": "2024-02-24T15:16:35.472905Z",
     "shell.execute_reply.started": "2024-02-24T15:16:35.269126Z"
    }
   },
   "outputs": [
    {
     "ename": "ValueError",
     "evalue": "No objects to concatenate",
     "output_type": "error",
     "traceback": [
      "\u001b[0;31m---------------------------------------------------------------------------\u001b[0m",
      "\u001b[0;31mValueError\u001b[0m                                Traceback (most recent call last)",
      "Cell \u001b[0;32mIn[15], line 1\u001b[0m\n\u001b[0;32m----> 1\u001b[0m df \u001b[38;5;241m=\u001b[39m \u001b[43mpd\u001b[49m\u001b[38;5;241;43m.\u001b[39;49m\u001b[43mconcat\u001b[49m\u001b[43m(\u001b[49m\u001b[43mall_df\u001b[49m\u001b[43m)\u001b[49m\n",
      "File \u001b[0;32m~/.local/lib/python3.11/site-packages/pandas/util/_decorators.py:331\u001b[0m, in \u001b[0;36mdeprecate_nonkeyword_arguments.<locals>.decorate.<locals>.wrapper\u001b[0;34m(*args, **kwargs)\u001b[0m\n\u001b[1;32m    325\u001b[0m \u001b[38;5;28;01mif\u001b[39;00m \u001b[38;5;28mlen\u001b[39m(args) \u001b[38;5;241m>\u001b[39m num_allow_args:\n\u001b[1;32m    326\u001b[0m     warnings\u001b[38;5;241m.\u001b[39mwarn(\n\u001b[1;32m    327\u001b[0m         msg\u001b[38;5;241m.\u001b[39mformat(arguments\u001b[38;5;241m=\u001b[39m_format_argument_list(allow_args)),\n\u001b[1;32m    328\u001b[0m         \u001b[38;5;167;01mFutureWarning\u001b[39;00m,\n\u001b[1;32m    329\u001b[0m         stacklevel\u001b[38;5;241m=\u001b[39mfind_stack_level(),\n\u001b[1;32m    330\u001b[0m     )\n\u001b[0;32m--> 331\u001b[0m \u001b[38;5;28;01mreturn\u001b[39;00m \u001b[43mfunc\u001b[49m\u001b[43m(\u001b[49m\u001b[38;5;241;43m*\u001b[39;49m\u001b[43margs\u001b[49m\u001b[43m,\u001b[49m\u001b[43m \u001b[49m\u001b[38;5;241;43m*\u001b[39;49m\u001b[38;5;241;43m*\u001b[39;49m\u001b[43mkwargs\u001b[49m\u001b[43m)\u001b[49m\n",
      "File \u001b[0;32m~/.local/lib/python3.11/site-packages/pandas/core/reshape/concat.py:368\u001b[0m, in \u001b[0;36mconcat\u001b[0;34m(objs, axis, join, ignore_index, keys, levels, names, verify_integrity, sort, copy)\u001b[0m\n\u001b[1;32m    146\u001b[0m \u001b[38;5;129m@deprecate_nonkeyword_arguments\u001b[39m(version\u001b[38;5;241m=\u001b[39m\u001b[38;5;28;01mNone\u001b[39;00m, allowed_args\u001b[38;5;241m=\u001b[39m[\u001b[38;5;124m\"\u001b[39m\u001b[38;5;124mobjs\u001b[39m\u001b[38;5;124m\"\u001b[39m])\n\u001b[1;32m    147\u001b[0m \u001b[38;5;28;01mdef\u001b[39;00m \u001b[38;5;21mconcat\u001b[39m(\n\u001b[1;32m    148\u001b[0m     objs: Iterable[NDFrame] \u001b[38;5;241m|\u001b[39m Mapping[HashableT, NDFrame],\n\u001b[0;32m   (...)\u001b[0m\n\u001b[1;32m    157\u001b[0m     copy: \u001b[38;5;28mbool\u001b[39m \u001b[38;5;241m=\u001b[39m \u001b[38;5;28;01mTrue\u001b[39;00m,\n\u001b[1;32m    158\u001b[0m ) \u001b[38;5;241m-\u001b[39m\u001b[38;5;241m>\u001b[39m DataFrame \u001b[38;5;241m|\u001b[39m Series:\n\u001b[1;32m    159\u001b[0m \u001b[38;5;250m    \u001b[39m\u001b[38;5;124;03m\"\"\"\u001b[39;00m\n\u001b[1;32m    160\u001b[0m \u001b[38;5;124;03m    Concatenate pandas objects along a particular axis.\u001b[39;00m\n\u001b[1;32m    161\u001b[0m \n\u001b[0;32m   (...)\u001b[0m\n\u001b[1;32m    366\u001b[0m \u001b[38;5;124;03m    1   3   4\u001b[39;00m\n\u001b[1;32m    367\u001b[0m \u001b[38;5;124;03m    \"\"\"\u001b[39;00m\n\u001b[0;32m--> 368\u001b[0m     op \u001b[38;5;241m=\u001b[39m \u001b[43m_Concatenator\u001b[49m\u001b[43m(\u001b[49m\n\u001b[1;32m    369\u001b[0m \u001b[43m        \u001b[49m\u001b[43mobjs\u001b[49m\u001b[43m,\u001b[49m\n\u001b[1;32m    370\u001b[0m \u001b[43m        \u001b[49m\u001b[43maxis\u001b[49m\u001b[38;5;241;43m=\u001b[39;49m\u001b[43maxis\u001b[49m\u001b[43m,\u001b[49m\n\u001b[1;32m    371\u001b[0m \u001b[43m        \u001b[49m\u001b[43mignore_index\u001b[49m\u001b[38;5;241;43m=\u001b[39;49m\u001b[43mignore_index\u001b[49m\u001b[43m,\u001b[49m\n\u001b[1;32m    372\u001b[0m \u001b[43m        \u001b[49m\u001b[43mjoin\u001b[49m\u001b[38;5;241;43m=\u001b[39;49m\u001b[43mjoin\u001b[49m\u001b[43m,\u001b[49m\n\u001b[1;32m    373\u001b[0m \u001b[43m        \u001b[49m\u001b[43mkeys\u001b[49m\u001b[38;5;241;43m=\u001b[39;49m\u001b[43mkeys\u001b[49m\u001b[43m,\u001b[49m\n\u001b[1;32m    374\u001b[0m \u001b[43m        \u001b[49m\u001b[43mlevels\u001b[49m\u001b[38;5;241;43m=\u001b[39;49m\u001b[43mlevels\u001b[49m\u001b[43m,\u001b[49m\n\u001b[1;32m    375\u001b[0m \u001b[43m        \u001b[49m\u001b[43mnames\u001b[49m\u001b[38;5;241;43m=\u001b[39;49m\u001b[43mnames\u001b[49m\u001b[43m,\u001b[49m\n\u001b[1;32m    376\u001b[0m \u001b[43m        \u001b[49m\u001b[43mverify_integrity\u001b[49m\u001b[38;5;241;43m=\u001b[39;49m\u001b[43mverify_integrity\u001b[49m\u001b[43m,\u001b[49m\n\u001b[1;32m    377\u001b[0m \u001b[43m        \u001b[49m\u001b[43mcopy\u001b[49m\u001b[38;5;241;43m=\u001b[39;49m\u001b[43mcopy\u001b[49m\u001b[43m,\u001b[49m\n\u001b[1;32m    378\u001b[0m \u001b[43m        \u001b[49m\u001b[43msort\u001b[49m\u001b[38;5;241;43m=\u001b[39;49m\u001b[43msort\u001b[49m\u001b[43m,\u001b[49m\n\u001b[1;32m    379\u001b[0m \u001b[43m    \u001b[49m\u001b[43m)\u001b[49m\n\u001b[1;32m    381\u001b[0m     \u001b[38;5;28;01mreturn\u001b[39;00m op\u001b[38;5;241m.\u001b[39mget_result()\n",
      "File \u001b[0;32m~/.local/lib/python3.11/site-packages/pandas/core/reshape/concat.py:425\u001b[0m, in \u001b[0;36m_Concatenator.__init__\u001b[0;34m(self, objs, axis, join, keys, levels, names, ignore_index, verify_integrity, copy, sort)\u001b[0m\n\u001b[1;32m    422\u001b[0m     objs \u001b[38;5;241m=\u001b[39m \u001b[38;5;28mlist\u001b[39m(objs)\n\u001b[1;32m    424\u001b[0m \u001b[38;5;28;01mif\u001b[39;00m \u001b[38;5;28mlen\u001b[39m(objs) \u001b[38;5;241m==\u001b[39m \u001b[38;5;241m0\u001b[39m:\n\u001b[0;32m--> 425\u001b[0m     \u001b[38;5;28;01mraise\u001b[39;00m \u001b[38;5;167;01mValueError\u001b[39;00m(\u001b[38;5;124m\"\u001b[39m\u001b[38;5;124mNo objects to concatenate\u001b[39m\u001b[38;5;124m\"\u001b[39m)\n\u001b[1;32m    427\u001b[0m \u001b[38;5;28;01mif\u001b[39;00m keys \u001b[38;5;129;01mis\u001b[39;00m \u001b[38;5;28;01mNone\u001b[39;00m:\n\u001b[1;32m    428\u001b[0m     objs \u001b[38;5;241m=\u001b[39m \u001b[38;5;28mlist\u001b[39m(com\u001b[38;5;241m.\u001b[39mnot_none(\u001b[38;5;241m*\u001b[39mobjs))\n",
      "\u001b[0;31mValueError\u001b[0m: No objects to concatenate"
     ]
    }
   ],
   "source": [
    "df = pd.concat(all_df)"
   ]
  },
  {
   "cell_type": "code",
   "execution_count": null,
   "id": "21444ba7-f2d3-48ab-a984-dc82f9c30d4e",
   "metadata": {
    "execution": {
     "iopub.status.busy": "2024-02-24T15:16:35.474498Z",
     "iopub.status.idle": "2024-02-24T15:16:35.474678Z",
     "shell.execute_reply": "2024-02-24T15:16:35.474591Z",
     "shell.execute_reply.started": "2024-02-24T15:16:35.474584Z"
    }
   },
   "outputs": [],
   "source": [
    "df"
   ]
  },
  {
   "cell_type": "code",
   "execution_count": null,
   "id": "a4afe23a-71ae-4c4e-abd7-591bc9d939c8",
   "metadata": {
    "execution": {
     "iopub.status.busy": "2024-02-24T15:16:35.475079Z",
     "iopub.status.idle": "2024-02-24T15:16:35.475233Z",
     "shell.execute_reply": "2024-02-24T15:16:35.475162Z",
     "shell.execute_reply.started": "2024-02-24T15:16:35.475155Z"
    },
    "tags": []
   },
   "outputs": [],
   "source": [
    "df.to_csv(filesource_out)"
   ]
  },
  {
   "cell_type": "code",
   "execution_count": null,
   "id": "dbf845eb-7c07-4344-a440-f7af1bffd08a",
   "metadata": {
    "execution": {
     "iopub.status.busy": "2024-02-24T15:16:35.475674Z",
     "iopub.status.idle": "2024-02-24T15:16:35.475832Z",
     "shell.execute_reply": "2024-02-24T15:16:35.475759Z",
     "shell.execute_reply.started": "2024-02-24T15:16:35.475747Z"
    },
    "tags": []
   },
   "outputs": [],
   "source": [
    "print(df.columns.tolist())"
   ]
  },
  {
   "cell_type": "code",
   "execution_count": null,
   "id": "e211cb27-8fce-4f75-b5f8-2cc966675158",
   "metadata": {
    "execution": {
     "iopub.status.busy": "2024-02-24T15:16:35.476466Z",
     "iopub.status.idle": "2024-02-24T15:16:35.476617Z",
     "shell.execute_reply": "2024-02-24T15:16:35.476546Z",
     "shell.execute_reply.started": "2024-02-24T15:16:35.476540Z"
    }
   },
   "outputs": [],
   "source": [
    "df['tract'].unique()"
   ]
  },
  {
   "cell_type": "code",
   "execution_count": null,
   "id": "3fc22a66-a90d-4371-b073-1f1c34c806f7",
   "metadata": {},
   "outputs": [],
   "source": []
  }
 ],
 "metadata": {
  "kernelspec": {
   "display_name": "LSST",
   "language": "python",
   "name": "lsst"
  },
  "language_info": {
   "codemirror_mode": {
    "name": "ipython",
    "version": 3
   },
   "file_extension": ".py",
   "mimetype": "text/x-python",
   "name": "python",
   "nbconvert_exporter": "python",
   "pygments_lexer": "ipython3",
   "version": "3.11.7"
  }
 },
 "nbformat": 4,
 "nbformat_minor": 5
}
