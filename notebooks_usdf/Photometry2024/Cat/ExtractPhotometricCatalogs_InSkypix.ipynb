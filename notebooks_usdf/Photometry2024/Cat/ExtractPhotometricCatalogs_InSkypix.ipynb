{
 "cells": [
  {
   "cell_type": "markdown",
   "id": "0b8c2138-5194-4d03-8b77-be24e2cc8ee3",
   "metadata": {},
   "source": [
    "# Extract External catalogs"
   ]
  },
  {
   "cell_type": "markdown",
   "id": "740e34fb-3fef-45a8-941b-c229742ab016",
   "metadata": {},
   "source": [
    " work with Weakly_2024_07\n",
    "- use jupyter kernel LSST\n",
    "- author : Sylvie Dagoret-Campagne\n",
    "- affiliation : IJCLab\n",
    "- creation date : 2024/02/29\n",
    "- update : 2024/02/29\n",
    "\n",
    "\n",
    "Access to the external catalog\n",
    "\n",
    "``quantum graphs ``: https://tigress-web.princeton.edu/~lkelvin/pipelines/w_2024_07/drp_pipe/LATISS/DRP/pipeline_drp_pipe_LATISS_DRP_step1.pdf"
   ]
  },
  {
   "cell_type": "code",
   "execution_count": 1,
   "id": "ed2c3410-fe83-432e-ab87-9f4513fa8d8b",
   "metadata": {
    "execution": {
     "iopub.execute_input": "2024-02-29T19:53:58.019769Z",
     "iopub.status.busy": "2024-02-29T19:53:58.019644Z",
     "iopub.status.idle": "2024-02-29T19:53:58.374322Z",
     "shell.execute_reply": "2024-02-29T19:53:58.373750Z",
     "shell.execute_reply.started": "2024-02-29T19:53:58.019756Z"
    }
   },
   "outputs": [
    {
     "name": "stdout",
     "output_type": "stream",
     "text": [
      "analysis_tools        LOCAL:/home/d/dagoret/repos/repos_w_2024_07/analysis_tools \tsetup\n",
      "atmospec              LOCAL:/home/d/dagoret/repos/repos_w_2024_07/atmospec \tsetup\n",
      "eups                  LOCAL:/opt/lsst/software/stack/conda/miniconda3-py38_4.9.2/envs/lsst-scipipe-8.0.0/eups \tsetup\n",
      "spectractor           LOCAL:/home/d/dagoret/repos/repos_w_2024_07/Spectractor \tsetup\n"
     ]
    }
   ],
   "source": [
    "! eups list -s | grep LOCAL"
   ]
  },
  {
   "cell_type": "code",
   "execution_count": 2,
   "id": "70918d81-0cf6-4b0a-8f61-f5e5bec5b0e7",
   "metadata": {
    "execution": {
     "iopub.execute_input": "2024-02-29T19:53:58.375929Z",
     "iopub.status.busy": "2024-02-29T19:53:58.375770Z",
     "iopub.status.idle": "2024-02-29T19:53:58.712967Z",
     "shell.execute_reply": "2024-02-29T19:53:58.712441Z",
     "shell.execute_reply.started": "2024-02-29T19:53:58.375913Z"
    }
   },
   "outputs": [
    {
     "name": "stdout",
     "output_type": "stream",
     "text": [
      "   g4213664e8e+34187316c4 \tcurrent w_2024_07 setup\n"
     ]
    }
   ],
   "source": [
    "! eups list -s lsst_distrib"
   ]
  },
  {
   "cell_type": "code",
   "execution_count": 3,
   "id": "f8d9cfca-5881-48c1-b2cb-0f794a2e4091",
   "metadata": {
    "execution": {
     "iopub.execute_input": "2024-02-29T19:53:58.713865Z",
     "iopub.status.busy": "2024-02-29T19:53:58.713698Z",
     "iopub.status.idle": "2024-02-29T19:53:59.339324Z",
     "shell.execute_reply": "2024-02-29T19:53:59.338886Z",
     "shell.execute_reply.started": "2024-02-29T19:53:58.713849Z"
    },
    "tags": []
   },
   "outputs": [],
   "source": [
    "import lsst.daf.butler as dafButler\n",
    "#import lsst.summit.utils.butlerUtils as butlerUtils"
   ]
  },
  {
   "cell_type": "code",
   "execution_count": 4,
   "id": "c080f382-e8fb-402e-99a8-43614e11d27b",
   "metadata": {
    "execution": {
     "iopub.execute_input": "2024-02-29T19:53:59.340127Z",
     "iopub.status.busy": "2024-02-29T19:53:59.339943Z",
     "iopub.status.idle": "2024-02-29T19:53:59.353921Z",
     "shell.execute_reply": "2024-02-29T19:53:59.353522Z",
     "shell.execute_reply.started": "2024-02-29T19:53:59.340112Z"
    }
   },
   "outputs": [],
   "source": [
    "#import lsst.sphgeom\n",
    "from  lsst.geom import SpherePoint, Angle"
   ]
  },
  {
   "cell_type": "code",
   "execution_count": 5,
   "id": "f611a747-2149-4d49-befd-63d3c911cf4a",
   "metadata": {
    "execution": {
     "iopub.execute_input": "2024-02-29T19:53:59.354618Z",
     "iopub.status.busy": "2024-02-29T19:53:59.354476Z",
     "iopub.status.idle": "2024-02-29T19:53:59.356790Z",
     "shell.execute_reply": "2024-02-29T19:53:59.356443Z",
     "shell.execute_reply.started": "2024-02-29T19:53:59.354604Z"
    }
   },
   "outputs": [],
   "source": [
    "import astropy.coordinates as coord\n",
    "import astropy.units as u\n",
    "from astropy.time import Time\n",
    "from astropy.coordinates import SkyCoord\n",
    "from astropy import coordinates"
   ]
  },
  {
   "cell_type": "code",
   "execution_count": 6,
   "id": "1ceacda9-20b0-4d77-a0d2-572c957ce273",
   "metadata": {
    "execution": {
     "iopub.execute_input": "2024-02-29T19:53:59.357407Z",
     "iopub.status.busy": "2024-02-29T19:53:59.357281Z",
     "iopub.status.idle": "2024-02-29T19:53:59.885474Z",
     "shell.execute_reply": "2024-02-29T19:53:59.885022Z",
     "shell.execute_reply.started": "2024-02-29T19:53:59.357395Z"
    },
    "tags": []
   },
   "outputs": [],
   "source": [
    "import numpy as np\n",
    "import matplotlib.pyplot as plt\n",
    "%matplotlib inline\n",
    "from mpl_toolkits.axes_grid1 import make_axes_locatable\n",
    "from matplotlib.colors import LogNorm,SymLogNorm\n",
    "\n",
    "\n",
    "import matplotlib.ticker                         # here's where the formatter is\n",
    "from matplotlib.ticker import (MultipleLocator, FormatStrFormatter,\n",
    "                               AutoMinorLocator)\n",
    "\n",
    "from astropy.visualization import (MinMaxInterval, SqrtStretch,ZScaleInterval,PercentileInterval,\n",
    "                                   ImageNormalize,imshow_norm)\n",
    "from astropy.visualization.stretch import SinhStretch, LinearStretch,AsinhStretch,LogStretch\n",
    "\n",
    "from astropy.io import fits\n",
    "from astropy.table import Table\n",
    "import pandas as pd\n",
    "\n",
    "import matplotlib.ticker                         # here's where the formatter is\n",
    "import os\n",
    "import re\n",
    "import pandas as pd\n",
    "import pickle\n",
    "\n",
    "plt.rcParams[\"figure.figsize\"] = (4,3)\n",
    "plt.rcParams[\"axes.labelsize\"] = 'xx-large'\n",
    "plt.rcParams['axes.titlesize'] = 'xx-large'\n",
    "plt.rcParams['xtick.labelsize']= 'xx-large'\n",
    "plt.rcParams['ytick.labelsize']= 'xx-large'"
   ]
  },
  {
   "cell_type": "code",
   "execution_count": 7,
   "id": "34c92544-f2fd-4287-b852-e2ccb9a3b510",
   "metadata": {
    "execution": {
     "iopub.execute_input": "2024-02-29T19:53:59.886483Z",
     "iopub.status.busy": "2024-02-29T19:53:59.886103Z",
     "iopub.status.idle": "2024-02-29T19:53:59.888905Z",
     "shell.execute_reply": "2024-02-29T19:53:59.888553Z",
     "shell.execute_reply.started": "2024-02-29T19:53:59.886469Z"
    },
    "tags": []
   },
   "outputs": [],
   "source": [
    "from matplotlib.ticker import (MultipleLocator, FormatStrFormatter,\n",
    "                               AutoMinorLocator)\n",
    "\n",
    "from astropy.visualization import (MinMaxInterval, SqrtStretch,ZScaleInterval,PercentileInterval,\n",
    "                                   ImageNormalize,imshow_norm)\n",
    "from astropy.visualization.stretch import SinhStretch, LinearStretch,AsinhStretch,LogStretch\n",
    "\n",
    "from astropy.time import Time\n"
   ]
  },
  {
   "cell_type": "code",
   "execution_count": 8,
   "id": "77aa5733-0a46-49eb-b26e-d3bb6195cc3d",
   "metadata": {
    "execution": {
     "iopub.execute_input": "2024-02-29T19:53:59.889564Z",
     "iopub.status.busy": "2024-02-29T19:53:59.889426Z",
     "iopub.status.idle": "2024-02-29T19:54:00.163577Z",
     "shell.execute_reply": "2024-02-29T19:54:00.163107Z",
     "shell.execute_reply.started": "2024-02-29T19:53:59.889551Z"
    },
    "tags": []
   },
   "outputs": [],
   "source": [
    "# LSST Display\n",
    "import lsst.afw.display as afwDisplay\n",
    "afwDisplay.setDefaultBackend('matplotlib')"
   ]
  },
  {
   "cell_type": "code",
   "execution_count": 9,
   "id": "b7cea198-6f3c-4a87-8877-fdf8e4d73c26",
   "metadata": {
    "execution": {
     "iopub.execute_input": "2024-02-29T19:54:00.164759Z",
     "iopub.status.busy": "2024-02-29T19:54:00.164224Z",
     "iopub.status.idle": "2024-02-29T19:54:00.166768Z",
     "shell.execute_reply": "2024-02-29T19:54:00.166413Z",
     "shell.execute_reply.started": "2024-02-29T19:54:00.164745Z"
    },
    "tags": []
   },
   "outputs": [],
   "source": [
    "transform = AsinhStretch() + PercentileInterval(99.)"
   ]
  },
  {
   "cell_type": "code",
   "execution_count": 10,
   "id": "c8b31810-780c-43f2-92a1-af05fddd65e1",
   "metadata": {
    "execution": {
     "iopub.execute_input": "2024-02-29T19:54:00.167377Z",
     "iopub.status.busy": "2024-02-29T19:54:00.167254Z",
     "iopub.status.idle": "2024-02-29T19:54:00.173184Z",
     "shell.execute_reply": "2024-02-29T19:54:00.172830Z",
     "shell.execute_reply.started": "2024-02-29T19:54:00.167366Z"
    }
   },
   "outputs": [],
   "source": [
    "pd.options.display.max_columns = None\n",
    "#pd.options.display.max_rows = None"
   ]
  },
  {
   "cell_type": "markdown",
   "id": "17f98db2-2ea8-4546-87a9-f2cd11d67ec7",
   "metadata": {},
   "source": [
    "## Configuration"
   ]
  },
  {
   "cell_type": "code",
   "execution_count": 11,
   "id": "f6c1ac18-5e47-4ae9-93ec-32f4337aa520",
   "metadata": {
    "execution": {
     "iopub.execute_input": "2024-02-29T19:54:00.173862Z",
     "iopub.status.busy": "2024-02-29T19:54:00.173664Z",
     "iopub.status.idle": "2024-02-29T19:54:00.177194Z",
     "shell.execute_reply": "2024-02-29T19:54:00.176781Z",
     "shell.execute_reply.started": "2024-02-29T19:54:00.173851Z"
    }
   },
   "outputs": [],
   "source": [
    "DATE = 202402\n",
    "#filesource_out=\"finalized_src_table_202402.csv\"\n",
    "#filetractpatch_out = 'Latiss_tractspatchs_202312.pickle'"
   ]
  },
  {
   "cell_type": "code",
   "execution_count": 12,
   "id": "1c81d99a-5e91-4ba1-ba4a-c66b37905b98",
   "metadata": {
    "execution": {
     "iopub.execute_input": "2024-02-29T19:54:00.179292Z",
     "iopub.status.busy": "2024-02-29T19:54:00.179164Z",
     "iopub.status.idle": "2024-02-29T19:54:00.695291Z",
     "shell.execute_reply": "2024-02-29T19:54:00.694837Z",
     "shell.execute_reply.started": "2024-02-29T19:54:00.179280Z"
    },
    "tags": []
   },
   "outputs": [],
   "source": [
    "#repo =  \"/sdf/group/rubin/repo/main\"\n",
    "repo = \"/sdf/group/rubin/repo/oga/\"\n",
    "butler = dafButler.Butler(repo)\n",
    "registry = butler.registry\n",
    "skymap_auxtel ='latiss_v1'"
   ]
  },
  {
   "cell_type": "code",
   "execution_count": 13,
   "id": "0fffaeef-599c-4469-8c04-67252827cb8d",
   "metadata": {
    "execution": {
     "iopub.execute_input": "2024-02-29T19:54:00.695981Z",
     "iopub.status.busy": "2024-02-29T19:54:00.695844Z",
     "iopub.status.idle": "2024-02-29T19:54:00.698102Z",
     "shell.execute_reply": "2024-02-29T19:54:00.697754Z",
     "shell.execute_reply.started": "2024-02-29T19:54:00.695968Z"
    }
   },
   "outputs": [],
   "source": [
    "#file_out=\"sourceTable_202312.csv\""
   ]
  },
  {
   "cell_type": "markdown",
   "id": "20dbb8da-3a08-4b4f-9437-4bf7f28c1782",
   "metadata": {},
   "source": [
    "## Give the collection"
   ]
  },
  {
   "cell_type": "code",
   "execution_count": 14,
   "id": "9629ea29-8ab4-4062-aed1-e16d62dc90c4",
   "metadata": {
    "execution": {
     "iopub.execute_input": "2024-02-29T19:54:00.698727Z",
     "iopub.status.busy": "2024-02-29T19:54:00.698602Z",
     "iopub.status.idle": "2024-02-29T19:54:00.702208Z",
     "shell.execute_reply": "2024-02-29T19:54:00.701861Z",
     "shell.execute_reply.started": "2024-02-29T19:54:00.698715Z"
    },
    "tags": []
   },
   "outputs": [],
   "source": [
    "#my_collection = \"LATISS/runs/AUXTEL_DRP_IMAGING_2023-11A-10A-09AB-08ABC-07AB-05AB/w_2023_46/PREOPS-4553\"\n",
    "my_collection = \"LATISS/runs/AUXTEL_DRP_IMAGING_20230509_20240201/w_2024_05/PREOPS-4871\""
   ]
  },
  {
   "cell_type": "markdown",
   "id": "a7587b10-c178-4537-9c34-60867b69fa01",
   "metadata": {},
   "source": [
    "## Config"
   ]
  },
  {
   "cell_type": "markdown",
   "id": "330da4cc-35ec-49fd-93d3-a61c6b02cb8e",
   "metadata": {},
   "source": [
    "# Tracts and Patches"
   ]
  },
  {
   "cell_type": "code",
   "execution_count": 15,
   "id": "6296d4b3-6e1c-4974-a065-2cde53a1bf94",
   "metadata": {
    "execution": {
     "iopub.execute_input": "2024-02-29T19:54:00.702812Z",
     "iopub.status.busy": "2024-02-29T19:54:00.702690Z",
     "iopub.status.idle": "2024-02-29T19:54:00.832401Z",
     "shell.execute_reply": "2024-02-29T19:54:00.831996Z",
     "shell.execute_reply.started": "2024-02-29T19:54:00.702802Z"
    }
   },
   "outputs": [],
   "source": [
    "skymap = butler.get('skyMap', skymap=skymap_auxtel, collections=my_collection)"
   ]
  },
  {
   "cell_type": "code",
   "execution_count": 16,
   "id": "7078c4a3-04ab-4345-a433-fd22e373c85c",
   "metadata": {
    "execution": {
     "iopub.execute_input": "2024-02-29T19:54:00.833104Z",
     "iopub.status.busy": "2024-02-29T19:54:00.832967Z",
     "iopub.status.idle": "2024-02-29T19:54:00.847623Z",
     "shell.execute_reply": "2024-02-29T19:54:00.847261Z",
     "shell.execute_reply.started": "2024-02-29T19:54:00.833091Z"
    }
   },
   "outputs": [],
   "source": [
    "with open('../data/202402/Latiss_tractspatchs_202402.pickle', 'rb') as handle:\n",
    "    tracts_patchs_dict = pickle.load(handle)"
   ]
  },
  {
   "cell_type": "code",
   "execution_count": 17,
   "id": "fcee41b0-c347-479e-925b-ebf5b426d9d4",
   "metadata": {
    "execution": {
     "iopub.execute_input": "2024-02-29T19:54:00.848241Z",
     "iopub.status.busy": "2024-02-29T19:54:00.848116Z",
     "iopub.status.idle": "2024-02-29T19:54:00.851658Z",
     "shell.execute_reply": "2024-02-29T19:54:00.851280Z",
     "shell.execute_reply.started": "2024-02-29T19:54:00.848230Z"
    }
   },
   "outputs": [
    {
     "data": {
      "text/plain": [
       "{10644: array([189, 183, 184, 164, 185, 203, 201, 207, 182, 162, 166, 165, 181,\n",
       "        161, 188, 208, 180, 202]),\n",
       " 5634: array([ 90, 110,  71, 112,  73, 109,  93,  92,  91,  53,  72,  55,  52,\n",
       "        111,  54,  74]),\n",
       " 3863: array([223, 261, 241, 242, 262, 260, 243, 222, 224]),\n",
       " 452: array([41, 62, 22, 25, 23, 44, 42, 63, 43, 24]),\n",
       " 5614: array([250, 251, 230, 210, 212, 232, 211, 213, 249, 229, 231]),\n",
       " 5616: array([355, 358, 316, 338, 356, 336, 357, 337, 317, 335, 315, 334]),\n",
       " 5615: array([274, 331, 312, 332, 294, 295, 293, 313, 333, 314, 275, 276]),\n",
       " 5839: array([9, 8, 7]),\n",
       " 10643: array([190, 171]),\n",
       " 455: array([51, 52, 15, 33, 14, 53, 34, 13, 32]),\n",
       " 382: array([343, 344, 342]),\n",
       " 3864: array([274, 238, 217, 218, 273, 255, 235, 275, 237, 257, 219, 236, 256,\n",
       "        254, 276, 216]),\n",
       " 383: array([359, 360])}"
      ]
     },
     "execution_count": 17,
     "metadata": {},
     "output_type": "execute_result"
    }
   ],
   "source": [
    "tracts_patchs_dict"
   ]
  },
  {
   "cell_type": "code",
   "execution_count": 18,
   "id": "fa0861d5-06b6-4520-a7d7-9b10761668a2",
   "metadata": {
    "execution": {
     "iopub.execute_input": "2024-02-29T19:54:00.852274Z",
     "iopub.status.busy": "2024-02-29T19:54:00.852152Z",
     "iopub.status.idle": "2024-02-29T19:54:00.856338Z",
     "shell.execute_reply": "2024-02-29T19:54:00.855977Z",
     "shell.execute_reply.started": "2024-02-29T19:54:00.852262Z"
    }
   },
   "outputs": [],
   "source": [
    "tract_selected = 3864\n",
    "suptitle = f\" tract {tract_selected}\"\n",
    "tractInfo = skymap.generateTract(tract_selected)"
   ]
  },
  {
   "cell_type": "code",
   "execution_count": 19,
   "id": "32267d45-de2c-429d-9d8d-98e0bb2027ef",
   "metadata": {
    "execution": {
     "iopub.execute_input": "2024-02-29T19:54:00.856946Z",
     "iopub.status.busy": "2024-02-29T19:54:00.856822Z",
     "iopub.status.idle": "2024-02-29T19:54:00.860905Z",
     "shell.execute_reply": "2024-02-29T19:54:00.860586Z",
     "shell.execute_reply.started": "2024-02-29T19:54:00.856935Z"
    }
   },
   "outputs": [
    {
     "data": {
      "text/plain": [
       "<bound method TractInfo.contains of TractInfo(id=3864, ctrCoord=[-0.431459839433178, 0.6789142860803891, -0.5940688504813662])>"
      ]
     },
     "execution_count": 19,
     "metadata": {},
     "output_type": "execute_result"
    }
   ],
   "source": [
    "tractInfo.contains "
   ]
  },
  {
   "cell_type": "code",
   "execution_count": 20,
   "id": "57aa07b1-772a-4675-b5b1-2e78cf523102",
   "metadata": {
    "execution": {
     "iopub.execute_input": "2024-02-29T19:54:00.861527Z",
     "iopub.status.busy": "2024-02-29T19:54:00.861395Z",
     "iopub.status.idle": "2024-02-29T19:54:00.866146Z",
     "shell.execute_reply": "2024-02-29T19:54:00.865794Z",
     "shell.execute_reply.started": "2024-02-29T19:54:00.861516Z"
    }
   },
   "outputs": [],
   "source": [
    "def get_corners_radec(wcs, bbox):\n",
    "    \"\"\"\n",
    "    Return the corners in RA,Dec in degrees given the WCS and bounding box for an image.\n",
    "\n",
    "    Parameters\n",
    "    ----------\n",
    "    wcs: image WCS returned by the Butler\n",
    "    bbox: bounding box returned by the Butler\n",
    "\n",
    "    Returns\n",
    "    -------\n",
    "    corners_ra, corners_dec in decimal degrees\n",
    "    \"\"\"\n",
    "\n",
    "    corners_x = [bbox.beginX, bbox.beginX, bbox.endX, bbox.endX]\n",
    "    corners_y = [bbox.beginY, bbox.endY, bbox.endY, bbox.beginY]\n",
    "    corners_ra = []\n",
    "    corners_dec = []\n",
    "    for i in range(4):\n",
    "        radec = wcs.pixelToSky(corners_x[i], corners_y[i])\n",
    "        corners_ra.append(radec.getRa().asDegrees())\n",
    "        corners_dec.append(radec.getDec().asDegrees())\n",
    "    \n",
    "    return corners_ra, corners_dec"
   ]
  },
  {
   "cell_type": "code",
   "execution_count": 21,
   "id": "ebf5ed21-481f-4b93-b336-4b4d9dae350a",
   "metadata": {
    "execution": {
     "iopub.execute_input": "2024-02-29T19:54:00.866784Z",
     "iopub.status.busy": "2024-02-29T19:54:00.866661Z",
     "iopub.status.idle": "2024-02-29T19:54:00.869682Z",
     "shell.execute_reply": "2024-02-29T19:54:00.869339Z",
     "shell.execute_reply.started": "2024-02-29T19:54:00.866773Z"
    }
   },
   "outputs": [],
   "source": [
    "def get_bbox_radec(wcs, bbox):\n",
    "    \"\"\"\n",
    "    Return the corners in RA,Dec in degrees given the WCS and bounding box for an image.\n",
    "\n",
    "    Parameters\n",
    "    ----------\n",
    "    wcs: image WCS returned by the Butler\n",
    "    bbox: bounding box returned by the Butler\n",
    "\n",
    "    Returns\n",
    "    -------\n",
    "    ramin,ramax,decmin,decmax in decimal degrees\n",
    "    \"\"\"\n",
    "\n",
    "    xmin = bbox.beginX\n",
    "    xmax = bbox.endX\n",
    "    ymin = bbox.beginY\n",
    "    ymax = bbox.endY\n",
    "    \n",
    "    radec_ll = wcs.pixelToSky(xmin, ymin)\n",
    "    radec_ur = wcs.pixelToSky(xmax, ymax)\n",
    "        \n",
    "    return radec_ur.getRa().asDegrees(),radec_ll.getRa().asDegrees(), radec_ll.getDec().asDegrees(),radec_ur.getDec().asDegrees() "
   ]
  },
  {
   "cell_type": "code",
   "execution_count": 22,
   "id": "797fdc74-8e5d-4a12-906d-ed244f6832ca",
   "metadata": {
    "execution": {
     "iopub.execute_input": "2024-02-29T19:54:00.870254Z",
     "iopub.status.busy": "2024-02-29T19:54:00.870134Z",
     "iopub.status.idle": "2024-02-29T19:54:00.874487Z",
     "shell.execute_reply": "2024-02-29T19:54:00.874132Z",
     "shell.execute_reply.started": "2024-02-29T19:54:00.870243Z"
    }
   },
   "outputs": [],
   "source": [
    "def isradec_inbbox_radec(ra,dec,wcs, bbox):\n",
    "    \"\"\"\n",
    "    Return the corners in RA,Dec in degrees given the WCS and bounding box for an image.\n",
    "\n",
    "    Parameters\n",
    "    ----------\n",
    "    ra: ra in degree\n",
    "    dec: dec in degree\n",
    "    wcs: image WCS returned by the Butler\n",
    "    bbox: bounding box returned by the Butler\n",
    "\n",
    "    Returns\n",
    "    -------\n",
    "    Bool\n",
    "    \n",
    "    \"\"\"\n",
    "\n",
    "    RAMIN,RAMAX,DECMIN,DECMAX = get_bbox_radec(wcs, bbox)\n",
    "\n",
    "    assert RAMIN < RAMAX\n",
    "    assert DECMIN < DECMAX\n",
    "\n",
    "    flag = (ra >= RAMIN) and (ra<=RAMAX) and (dec>= DECMIN) and (dec <= DECMAX) \n",
    "    return flag"
   ]
  },
  {
   "cell_type": "code",
   "execution_count": 23,
   "id": "bf80c4ef-a444-4151-884d-3229e9070229",
   "metadata": {
    "execution": {
     "iopub.execute_input": "2024-02-29T19:54:00.875077Z",
     "iopub.status.busy": "2024-02-29T19:54:00.874958Z",
     "iopub.status.idle": "2024-02-29T19:54:00.880094Z",
     "shell.execute_reply": "2024-02-29T19:54:00.879760Z",
     "shell.execute_reply.started": "2024-02-29T19:54:00.875066Z"
    }
   },
   "outputs": [],
   "source": [
    "def FindTractAndPatch(row):\n",
    "    \"\"\"\n",
    "    Apply this function on  dataframe to find the tract and patch for each visit\n",
    "    \"\"\"\n",
    "    tractsId_list = list(tracts_patchs_dict.keys())   \n",
    "    try:\n",
    "        ra = row[\"ra\"]\n",
    "        dec = row[\"dec\"]\n",
    "        selectFlag = False\n",
    "        # loop on tract\n",
    "        for tractID in tractsId_list:\n",
    "            wcs = tractsInfoWCS_dict[tractID]\n",
    "            tractInfo = tractsInfo_dict[tractID] \n",
    "            patches_selected = list(tracts_patchs_dict[tractID])\n",
    "            # loop on patches\n",
    "            for patch in tractInfo:\n",
    "                patchID = patch.getSequentialIndex()\n",
    "                if patchID in patches_selected:\n",
    "                    ibb=patch.getInnerBBox()\n",
    "                    flag = isradec_inbbox_radec(ra,dec,wcs, ibb)\n",
    "                    selectFlag =  selectFlag or flag\n",
    "                    if selectFlag:\n",
    "                        return pd.Series([tractID,patchID])\n",
    "        return pd.Series([0,0])           \n",
    "                \n",
    "    except Exception as inst:\n",
    "        print(type(inst))    # the exception type\n",
    "        print(inst.args)     # arguments stored in .args\n",
    "        print(inst)          # __str__ allows args to be printed directly,\n",
    "        return pd.Series([0,0])  \n",
    "        "
   ]
  },
  {
   "cell_type": "code",
   "execution_count": 24,
   "id": "2a0d5e5b-c99b-4774-9bc8-876104b3d36f",
   "metadata": {
    "execution": {
     "iopub.execute_input": "2024-02-29T19:54:00.880863Z",
     "iopub.status.busy": "2024-02-29T19:54:00.880732Z",
     "iopub.status.idle": "2024-02-29T19:54:15.755760Z",
     "shell.execute_reply": "2024-02-29T19:54:15.755277Z",
     "shell.execute_reply.started": "2024-02-29T19:54:00.880852Z"
    }
   },
   "outputs": [],
   "source": [
    "tractsInfo_dict = {}\n",
    "tractsInfoWCS_dict = {}\n",
    "tractsId_list = list(tracts_patchs_dict.keys())\n",
    "\n",
    "# loop to select the good tracts\n",
    "for tractInfo in skymap:\n",
    "    tractID = tractInfo.getId()\n",
    "    # is this tract in Auxtel tract list\n",
    "    if tractID in tractsId_list:\n",
    "        # keep tractInfo\n",
    "        tractsInfo_dict[tractID] = tractInfo \n",
    "        # keep WCS\n",
    "        tractsInfoWCS_dict[tractID] = tractInfo.getWcs()"
   ]
  },
  {
   "cell_type": "code",
   "execution_count": 25,
   "id": "e1444a0f-c803-4e8a-a4fc-5293084c16ef",
   "metadata": {
    "execution": {
     "iopub.execute_input": "2024-02-29T19:54:15.756529Z",
     "iopub.status.busy": "2024-02-29T19:54:15.756387Z",
     "iopub.status.idle": "2024-02-29T19:54:15.759493Z",
     "shell.execute_reply": "2024-02-29T19:54:15.759156Z",
     "shell.execute_reply.started": "2024-02-29T19:54:15.756516Z"
    }
   },
   "outputs": [
    {
     "data": {
      "text/plain": [
       "{382: TractInfo(id=382, ctrCoord=[0.2774524062533926, 0.04892234508495915, -0.9594929736144974]),\n",
       " 383: TractInfo(id=383, ctrCoord=[0.27213275275959, 0.0729177513359905, -0.9594929736144974]),\n",
       " 452: TractInfo(id=452, ctrCoord=[0.30654667281602505, 0.0, -0.9518556284360695]),\n",
       " 455: TractInfo(id=455, ctrCoord=[0.2976389836299007, 0.07336142064010766, -0.9518556284360695]),\n",
       " 3863: TractInfo(id=3863, ctrCoord=[-0.4095905537697173, 0.6923277974705078, -0.5940688504813662]),\n",
       " 3864: TractInfo(id=3864, ctrCoord=[-0.431459839433178, 0.6789142860803891, -0.5940688504813662]),\n",
       " 5614: TractInfo(id=5614, ctrCoord=[-0.4769266805210716, -0.7745781486588648, -0.4154150130018864]),\n",
       " 5615: TractInfo(id=5615, ctrCoord=[-0.4548159976772596, -0.7877644160721412, -0.4154150130018864]),\n",
       " 5616: TractInfo(id=5616, ctrCoord=[-0.43234101369436045, -0.8003196954032654, -0.4154150130018864]),\n",
       " 5634: TractInfo(id=5634, ctrCoord=[0.012872062229049682, -0.9095409155099149, -0.4154150130018864]),\n",
       " 5839: TractInfo(id=5839, ctrCoord=[-0.4450745200023497, -0.8053017047401381, -0.39166035794717013]),\n",
       " 10643: TractInfo(id=10643, ctrCoord=[0.5869157601746638, -0.8012123433314793, 0.1165704565997593]),\n",
       " 10644: TractInfo(id=10644, ctrCoord=[0.6076025920401397, -0.7856401331361753, 0.1165704565997593])}"
      ]
     },
     "execution_count": 25,
     "metadata": {},
     "output_type": "execute_result"
    }
   ],
   "source": [
    "tractsInfo_dict"
   ]
  },
  {
   "cell_type": "code",
   "execution_count": 26,
   "id": "81ebc241-0255-48e3-9f88-4a9ccb4ae41a",
   "metadata": {
    "execution": {
     "iopub.execute_input": "2024-02-29T19:54:15.760243Z",
     "iopub.status.busy": "2024-02-29T19:54:15.759952Z",
     "iopub.status.idle": "2024-02-29T19:54:15.767527Z",
     "shell.execute_reply": "2024-02-29T19:54:15.767174Z",
     "shell.execute_reply.started": "2024-02-29T19:54:15.760231Z"
    }
   },
   "outputs": [
    {
     "data": {
      "text/plain": [
       "{382: FITS standard SkyWcs:\n",
       " Sky Origin: (10.0000000000, -73.6363636364)\n",
       " Pixel Origin: (28499, 28499)\n",
       " Pixel Scale: 0.1 arcsec/pixel,\n",
       " 383: FITS standard SkyWcs:\n",
       " Sky Origin: (15.0000000000, -73.6363636364)\n",
       " Pixel Origin: (28499, 28499)\n",
       " Pixel Scale: 0.1 arcsec/pixel,\n",
       " 452: FITS standard SkyWcs:\n",
       " Sky Origin: (0.0000000000, -72.1487603306)\n",
       " Pixel Origin: (28499, 28499)\n",
       " Pixel Scale: 0.1 arcsec/pixel,\n",
       " 455: FITS standard SkyWcs:\n",
       " Sky Origin: (13.8461538462, -72.1487603306)\n",
       " Pixel Origin: (28499, 28499)\n",
       " Pixel Scale: 0.1 arcsec/pixel,\n",
       " 3863: FITS standard SkyWcs:\n",
       " Sky Origin: (120.6091370558, -36.4462809917)\n",
       " Pixel Origin: (28499, 28499)\n",
       " Pixel Scale: 0.1 arcsec/pixel,\n",
       " 3864: FITS standard SkyWcs:\n",
       " Sky Origin: (122.4365482234, -36.4462809917)\n",
       " Pixel Origin: (28499, 28499)\n",
       " Pixel Scale: 0.1 arcsec/pixel,\n",
       " 5614: FITS standard SkyWcs:\n",
       " Sky Origin: (238.3783783784, -24.5454545455)\n",
       " Pixel Origin: (28499, 28499)\n",
       " Pixel Scale: 0.1 arcsec/pixel,\n",
       " 5615: FITS standard SkyWcs:\n",
       " Sky Origin: (240.0000000000, -24.5454545455)\n",
       " Pixel Origin: (28499, 28499)\n",
       " Pixel Scale: 0.1 arcsec/pixel,\n",
       " 5616: FITS standard SkyWcs:\n",
       " Sky Origin: (241.6216216216, -24.5454545455)\n",
       " Pixel Origin: (28499, 28499)\n",
       " Pixel Scale: 0.1 arcsec/pixel,\n",
       " 5634: FITS standard SkyWcs:\n",
       " Sky Origin: (270.8108108108, -24.5454545455)\n",
       " Pixel Origin: (28499, 28499)\n",
       " Pixel Scale: 0.1 arcsec/pixel,\n",
       " 5839: FITS standard SkyWcs:\n",
       " Sky Origin: (241.0714285714, -23.0578512397)\n",
       " Pixel Origin: (28499, 28499)\n",
       " Pixel Scale: 0.1 arcsec/pixel,\n",
       " 10643: FITS standard SkyWcs:\n",
       " Sky Origin: (306.2240663900, +6.6942148760)\n",
       " Pixel Origin: (28499, 28499)\n",
       " Pixel Scale: 0.1 arcsec/pixel,\n",
       " 10644: FITS standard SkyWcs:\n",
       " Sky Origin: (307.7178423237, +6.6942148760)\n",
       " Pixel Origin: (28499, 28499)\n",
       " Pixel Scale: 0.1 arcsec/pixel}"
      ]
     },
     "execution_count": 26,
     "metadata": {},
     "output_type": "execute_result"
    }
   ],
   "source": [
    "tractsInfoWCS_dict"
   ]
  },
  {
   "cell_type": "markdown",
   "id": "a72c2c07-ff40-49d9-a36d-5277cbbc5cec",
   "metadata": {},
   "source": [
    "# Reference Sources"
   ]
  },
  {
   "cell_type": "code",
   "execution_count": 27,
   "id": "c2bca87f-8b3a-44ee-afa5-5b8e0b8f9b9d",
   "metadata": {
    "execution": {
     "iopub.execute_input": "2024-02-29T19:54:15.768151Z",
     "iopub.status.busy": "2024-02-29T19:54:15.768022Z",
     "iopub.status.idle": "2024-02-29T19:54:15.845334Z",
     "shell.execute_reply": "2024-02-29T19:54:15.844953Z",
     "shell.execute_reply.started": "2024-02-29T19:54:15.768140Z"
    },
    "tags": []
   },
   "outputs": [],
   "source": [
    "#data_product = \"gaia_dr2_20200414\" \n",
    "data_product = \"gaia_dr3_20230707\"\n",
    "#data_product = 'atlas_refcat2_20220201'\n",
    "\n",
    "datasetRefs = butler.registry.queryDatasets(datasetType=data_product, collections=my_collection, where= \"instrument='LATISS'\")\n",
    "filesource_out=f\"{data_product}_{DATE}.csv\""
   ]
  },
  {
   "cell_type": "code",
   "execution_count": 28,
   "id": "a01bb1b1-a2fe-4060-85ff-fb9e9c5dbb74",
   "metadata": {
    "execution": {
     "iopub.execute_input": "2024-02-29T19:54:15.845926Z",
     "iopub.status.busy": "2024-02-29T19:54:15.845805Z",
     "iopub.status.idle": "2024-02-29T20:11:42.189086Z",
     "shell.execute_reply": "2024-02-29T20:11:42.188659Z",
     "shell.execute_reply.started": "2024-02-29T19:54:15.845915Z"
    },
    "tags": []
   },
   "outputs": [
    {
     "name": "stdout",
     "output_type": "stream",
     "text": [
      "========================datasetType = gaia_dr3_20230707 ============================================\n",
      "fullId.............................: {htm7: 131072}\n"
     ]
    },
    {
     "name": "stderr",
     "output_type": "stream",
     "text": [
      "/tmp/ipykernel_8973/690092218.py:5: FutureWarning: Call to deprecated function (or staticmethod) full. (DataCoordinate.full is deprecated in favor of .mapping, and will be dropped after v27.) -- Deprecated since version v27.\n",
      "  print(\"fullId.............................:\",ref.dataId.full)\n"
     ]
    },
    {
     "name": "stdout",
     "output_type": "stream",
     "text": [
      "<class 'pandas.core.frame.DataFrame'> 820\n",
      "========================datasetType = gaia_dr3_20230707 ============================================\n",
      "fullId.............................: {htm7: 131073}\n"
     ]
    },
    {
     "name": "stderr",
     "output_type": "stream",
     "text": [
      "/tmp/ipykernel_8973/690092218.py:5: FutureWarning: Call to deprecated function (or staticmethod) full. (DataCoordinate.full is deprecated in favor of .mapping, and will be dropped after v27.) -- Deprecated since version v27.\n",
      "  print(\"fullId.............................:\",ref.dataId.full)\n"
     ]
    },
    {
     "name": "stdout",
     "output_type": "stream",
     "text": [
      "<class 'pandas.core.frame.DataFrame'> 733\n",
      "========================datasetType = gaia_dr3_20230707 ============================================\n",
      "fullId.............................: {htm7: 131074}\n"
     ]
    },
    {
     "name": "stderr",
     "output_type": "stream",
     "text": [
      "/tmp/ipykernel_8973/690092218.py:5: FutureWarning: Call to deprecated function (or staticmethod) full. (DataCoordinate.full is deprecated in favor of .mapping, and will be dropped after v27.) -- Deprecated since version v27.\n",
      "  print(\"fullId.............................:\",ref.dataId.full)\n"
     ]
    },
    {
     "name": "stdout",
     "output_type": "stream",
     "text": [
      "<class 'pandas.core.frame.DataFrame'> 788\n",
      "========================datasetType = gaia_dr3_20230707 ============================================\n",
      "fullId.............................: {htm7: 131075}\n"
     ]
    },
    {
     "name": "stderr",
     "output_type": "stream",
     "text": [
      "/tmp/ipykernel_8973/690092218.py:5: FutureWarning: Call to deprecated function (or staticmethod) full. (DataCoordinate.full is deprecated in favor of .mapping, and will be dropped after v27.) -- Deprecated since version v27.\n",
      "  print(\"fullId.............................:\",ref.dataId.full)\n"
     ]
    },
    {
     "name": "stdout",
     "output_type": "stream",
     "text": [
      "<class 'pandas.core.frame.DataFrame'> 762\n",
      "========================datasetType = gaia_dr3_20230707 ============================================\n",
      "fullId.............................: {htm7: 131076}\n"
     ]
    },
    {
     "name": "stderr",
     "output_type": "stream",
     "text": [
      "/tmp/ipykernel_8973/690092218.py:5: FutureWarning: Call to deprecated function (or staticmethod) full. (DataCoordinate.full is deprecated in favor of .mapping, and will be dropped after v27.) -- Deprecated since version v27.\n",
      "  print(\"fullId.............................:\",ref.dataId.full)\n"
     ]
    },
    {
     "name": "stdout",
     "output_type": "stream",
     "text": [
      "<class 'pandas.core.frame.DataFrame'> 791\n",
      "========================datasetType = gaia_dr3_20230707 ============================================\n",
      "fullId.............................: {htm7: 131077}\n"
     ]
    },
    {
     "name": "stderr",
     "output_type": "stream",
     "text": [
      "/tmp/ipykernel_8973/690092218.py:5: FutureWarning: Call to deprecated function (or staticmethod) full. (DataCoordinate.full is deprecated in favor of .mapping, and will be dropped after v27.) -- Deprecated since version v27.\n",
      "  print(\"fullId.............................:\",ref.dataId.full)\n"
     ]
    },
    {
     "name": "stdout",
     "output_type": "stream",
     "text": [
      "<class 'pandas.core.frame.DataFrame'> 788\n",
      "========================datasetType = gaia_dr3_20230707 ============================================\n",
      "fullId.............................: {htm7: 131078}\n"
     ]
    },
    {
     "name": "stderr",
     "output_type": "stream",
     "text": [
      "/tmp/ipykernel_8973/690092218.py:5: FutureWarning: Call to deprecated function (or staticmethod) full. (DataCoordinate.full is deprecated in favor of .mapping, and will be dropped after v27.) -- Deprecated since version v27.\n",
      "  print(\"fullId.............................:\",ref.dataId.full)\n"
     ]
    },
    {
     "name": "stdout",
     "output_type": "stream",
     "text": [
      "<class 'pandas.core.frame.DataFrame'> 775\n",
      "========================datasetType = gaia_dr3_20230707 ============================================\n",
      "fullId.............................: {htm7: 131079}\n"
     ]
    },
    {
     "name": "stderr",
     "output_type": "stream",
     "text": [
      "/tmp/ipykernel_8973/690092218.py:5: FutureWarning: Call to deprecated function (or staticmethod) full. (DataCoordinate.full is deprecated in favor of .mapping, and will be dropped after v27.) -- Deprecated since version v27.\n",
      "  print(\"fullId.............................:\",ref.dataId.full)\n"
     ]
    },
    {
     "name": "stdout",
     "output_type": "stream",
     "text": [
      "<class 'pandas.core.frame.DataFrame'> 758\n",
      "========================datasetType = gaia_dr3_20230707 ============================================\n",
      "fullId.............................: {htm7: 131080}\n"
     ]
    },
    {
     "name": "stderr",
     "output_type": "stream",
     "text": [
      "/tmp/ipykernel_8973/690092218.py:5: FutureWarning: Call to deprecated function (or staticmethod) full. (DataCoordinate.full is deprecated in favor of .mapping, and will be dropped after v27.) -- Deprecated since version v27.\n",
      "  print(\"fullId.............................:\",ref.dataId.full)\n"
     ]
    },
    {
     "name": "stdout",
     "output_type": "stream",
     "text": [
      "<class 'pandas.core.frame.DataFrame'> 797\n",
      "========================datasetType = gaia_dr3_20230707 ============================================\n",
      "fullId.............................: {htm7: 131081}\n"
     ]
    },
    {
     "name": "stderr",
     "output_type": "stream",
     "text": [
      "/tmp/ipykernel_8973/690092218.py:5: FutureWarning: Call to deprecated function (or staticmethod) full. (DataCoordinate.full is deprecated in favor of .mapping, and will be dropped after v27.) -- Deprecated since version v27.\n",
      "  print(\"fullId.............................:\",ref.dataId.full)\n"
     ]
    },
    {
     "name": "stdout",
     "output_type": "stream",
     "text": [
      "<class 'pandas.core.frame.DataFrame'> 706\n",
      "========================datasetType = gaia_dr3_20230707 ============================================\n",
      "fullId.............................: {htm7: 131082}\n"
     ]
    },
    {
     "name": "stderr",
     "output_type": "stream",
     "text": [
      "/tmp/ipykernel_8973/690092218.py:5: FutureWarning: Call to deprecated function (or staticmethod) full. (DataCoordinate.full is deprecated in favor of .mapping, and will be dropped after v27.) -- Deprecated since version v27.\n",
      "  print(\"fullId.............................:\",ref.dataId.full)\n"
     ]
    },
    {
     "name": "stdout",
     "output_type": "stream",
     "text": [
      "<class 'pandas.core.frame.DataFrame'> 789\n",
      "========================datasetType = gaia_dr3_20230707 ============================================\n",
      "fullId.............................: {htm7: 131083}\n"
     ]
    },
    {
     "name": "stderr",
     "output_type": "stream",
     "text": [
      "/tmp/ipykernel_8973/690092218.py:5: FutureWarning: Call to deprecated function (or staticmethod) full. (DataCoordinate.full is deprecated in favor of .mapping, and will be dropped after v27.) -- Deprecated since version v27.\n",
      "  print(\"fullId.............................:\",ref.dataId.full)\n"
     ]
    },
    {
     "name": "stdout",
     "output_type": "stream",
     "text": [
      "<class 'pandas.core.frame.DataFrame'> 837\n",
      "========================datasetType = gaia_dr3_20230707 ============================================\n",
      "fullId.............................: {htm7: 131084}\n"
     ]
    },
    {
     "name": "stderr",
     "output_type": "stream",
     "text": [
      "/tmp/ipykernel_8973/690092218.py:5: FutureWarning: Call to deprecated function (or staticmethod) full. (DataCoordinate.full is deprecated in favor of .mapping, and will be dropped after v27.) -- Deprecated since version v27.\n",
      "  print(\"fullId.............................:\",ref.dataId.full)\n"
     ]
    },
    {
     "name": "stdout",
     "output_type": "stream",
     "text": [
      "<class 'pandas.core.frame.DataFrame'> 807\n",
      "========================datasetType = gaia_dr3_20230707 ============================================\n",
      "fullId.............................: {htm7: 131085}\n"
     ]
    },
    {
     "name": "stderr",
     "output_type": "stream",
     "text": [
      "/tmp/ipykernel_8973/690092218.py:5: FutureWarning: Call to deprecated function (or staticmethod) full. (DataCoordinate.full is deprecated in favor of .mapping, and will be dropped after v27.) -- Deprecated since version v27.\n",
      "  print(\"fullId.............................:\",ref.dataId.full)\n"
     ]
    },
    {
     "name": "stdout",
     "output_type": "stream",
     "text": [
      "<class 'pandas.core.frame.DataFrame'> 748\n",
      "========================datasetType = gaia_dr3_20230707 ============================================\n",
      "fullId.............................: {htm7: 131086}\n"
     ]
    },
    {
     "name": "stderr",
     "output_type": "stream",
     "text": [
      "/tmp/ipykernel_8973/690092218.py:5: FutureWarning: Call to deprecated function (or staticmethod) full. (DataCoordinate.full is deprecated in favor of .mapping, and will be dropped after v27.) -- Deprecated since version v27.\n",
      "  print(\"fullId.............................:\",ref.dataId.full)\n"
     ]
    },
    {
     "name": "stdout",
     "output_type": "stream",
     "text": [
      "<class 'pandas.core.frame.DataFrame'> 830\n",
      "========================datasetType = gaia_dr3_20230707 ============================================\n",
      "fullId.............................: {htm7: 131087}\n"
     ]
    },
    {
     "name": "stderr",
     "output_type": "stream",
     "text": [
      "/tmp/ipykernel_8973/690092218.py:5: FutureWarning: Call to deprecated function (or staticmethod) full. (DataCoordinate.full is deprecated in favor of .mapping, and will be dropped after v27.) -- Deprecated since version v27.\n",
      "  print(\"fullId.............................:\",ref.dataId.full)\n"
     ]
    },
    {
     "name": "stdout",
     "output_type": "stream",
     "text": [
      "<class 'pandas.core.frame.DataFrame'> 786\n",
      "========================datasetType = gaia_dr3_20230707 ============================================\n",
      "fullId.............................: {htm7: 131088}\n"
     ]
    },
    {
     "name": "stderr",
     "output_type": "stream",
     "text": [
      "/tmp/ipykernel_8973/690092218.py:5: FutureWarning: Call to deprecated function (or staticmethod) full. (DataCoordinate.full is deprecated in favor of .mapping, and will be dropped after v27.) -- Deprecated since version v27.\n",
      "  print(\"fullId.............................:\",ref.dataId.full)\n"
     ]
    },
    {
     "name": "stdout",
     "output_type": "stream",
     "text": [
      "<class 'pandas.core.frame.DataFrame'> 792\n",
      "========================datasetType = gaia_dr3_20230707 ============================================\n",
      "fullId.............................: {htm7: 131089}\n"
     ]
    },
    {
     "name": "stderr",
     "output_type": "stream",
     "text": [
      "/tmp/ipykernel_8973/690092218.py:5: FutureWarning: Call to deprecated function (or staticmethod) full. (DataCoordinate.full is deprecated in favor of .mapping, and will be dropped after v27.) -- Deprecated since version v27.\n",
      "  print(\"fullId.............................:\",ref.dataId.full)\n"
     ]
    },
    {
     "name": "stdout",
     "output_type": "stream",
     "text": [
      "<class 'pandas.core.frame.DataFrame'> 777\n",
      "========================datasetType = gaia_dr3_20230707 ============================================\n",
      "fullId.............................: {htm7: 131090}\n"
     ]
    },
    {
     "name": "stderr",
     "output_type": "stream",
     "text": [
      "/tmp/ipykernel_8973/690092218.py:5: FutureWarning: Call to deprecated function (or staticmethod) full. (DataCoordinate.full is deprecated in favor of .mapping, and will be dropped after v27.) -- Deprecated since version v27.\n",
      "  print(\"fullId.............................:\",ref.dataId.full)\n"
     ]
    },
    {
     "name": "stdout",
     "output_type": "stream",
     "text": [
      "<class 'pandas.core.frame.DataFrame'> 728\n",
      "========================datasetType = gaia_dr3_20230707 ============================================\n",
      "fullId.............................: {htm7: 131091}\n"
     ]
    },
    {
     "name": "stderr",
     "output_type": "stream",
     "text": [
      "/tmp/ipykernel_8973/690092218.py:5: FutureWarning: Call to deprecated function (or staticmethod) full. (DataCoordinate.full is deprecated in favor of .mapping, and will be dropped after v27.) -- Deprecated since version v27.\n",
      "  print(\"fullId.............................:\",ref.dataId.full)\n"
     ]
    },
    {
     "name": "stdout",
     "output_type": "stream",
     "text": [
      "<class 'pandas.core.frame.DataFrame'> 785\n",
      "========================datasetType = gaia_dr3_20230707 ============================================\n",
      "fullId.............................: {htm7: 131092}\n"
     ]
    },
    {
     "name": "stderr",
     "output_type": "stream",
     "text": [
      "/tmp/ipykernel_8973/690092218.py:5: FutureWarning: Call to deprecated function (or staticmethod) full. (DataCoordinate.full is deprecated in favor of .mapping, and will be dropped after v27.) -- Deprecated since version v27.\n",
      "  print(\"fullId.............................:\",ref.dataId.full)\n"
     ]
    },
    {
     "name": "stdout",
     "output_type": "stream",
     "text": [
      "<class 'pandas.core.frame.DataFrame'> 746\n",
      "========================datasetType = gaia_dr3_20230707 ============================================\n",
      "fullId.............................: {htm7: 131093}\n"
     ]
    },
    {
     "name": "stderr",
     "output_type": "stream",
     "text": [
      "/tmp/ipykernel_8973/690092218.py:5: FutureWarning: Call to deprecated function (or staticmethod) full. (DataCoordinate.full is deprecated in favor of .mapping, and will be dropped after v27.) -- Deprecated since version v27.\n",
      "  print(\"fullId.............................:\",ref.dataId.full)\n"
     ]
    },
    {
     "name": "stdout",
     "output_type": "stream",
     "text": [
      "<class 'pandas.core.frame.DataFrame'> 754\n"
     ]
    }
   ],
   "source": [
    "all_df = []\n",
    "\n",
    "for i, ref in enumerate(datasetRefs):\n",
    "    print(f\"========================datasetType = {data_product} ============================================\")\n",
    "    print(\"fullId.............................:\",ref.dataId.full)\n",
    "  \n",
    "    skypix = ref.dataId['htm7']\n",
    "    t = butler.get(ref).asAstropy()\n",
    "    df = t.to_pandas()\n",
    "    df.rename(columns={\"coord_ra\": \"ra\", \"coord_dec\": \"dec\"}, errors=\"raise\",inplace=True)\n",
    "    df[[\"tractID\",\"patchID\"]] = df.apply( FindTractAndPatch, axis=1,result_type ='expand')\n",
    "    if(len(df)>0):\n",
    "        print(type(df),len(df))\n",
    "        df['skypix'] = skypix\n",
    "        all_df.append(df)\n",
    "\n",
    "    if i> 20:\n",
    "        break\n",
    "    "
   ]
  },
  {
   "cell_type": "code",
   "execution_count": null,
   "id": "6dfe173f-d737-4451-8bf1-f0c55f9d6f59",
   "metadata": {
    "execution": {
     "iopub.status.busy": "2024-02-29T20:11:43.131848Z",
     "iopub.status.idle": "2024-02-29T20:11:43.131988Z",
     "shell.execute_reply": "2024-02-29T20:11:43.131921Z",
     "shell.execute_reply.started": "2024-02-29T20:11:43.131915Z"
    }
   },
   "outputs": [],
   "source": [
    "df.columns"
   ]
  },
  {
   "cell_type": "code",
   "execution_count": 30,
   "id": "abac8398-3404-4bb9-85dc-766f9825e7d1",
   "metadata": {
    "execution": {
     "iopub.execute_input": "2024-02-29T20:11:42.193452Z",
     "iopub.status.busy": "2024-02-29T20:11:42.193171Z",
     "iopub.status.idle": "2024-02-29T20:11:42.203720Z",
     "shell.execute_reply": "2024-02-29T20:11:42.203382Z",
     "shell.execute_reply.started": "2024-02-29T20:11:42.193432Z"
    }
   },
   "outputs": [],
   "source": [
    "df = pd.concat(all_df)"
   ]
  },
  {
   "cell_type": "code",
   "execution_count": 31,
   "id": "21444ba7-f2d3-48ab-a984-dc82f9c30d4e",
   "metadata": {
    "execution": {
     "iopub.execute_input": "2024-02-29T20:11:42.204333Z",
     "iopub.status.busy": "2024-02-29T20:11:42.204210Z",
     "iopub.status.idle": "2024-02-29T20:11:42.231051Z",
     "shell.execute_reply": "2024-02-29T20:11:42.230709Z",
     "shell.execute_reply.started": "2024-02-29T20:11:42.204321Z"
    }
   },
   "outputs": [
    {
     "data": {
      "text/html": [
       "<div>\n",
       "<style scoped>\n",
       "    .dataframe tbody tr th:only-of-type {\n",
       "        vertical-align: middle;\n",
       "    }\n",
       "\n",
       "    .dataframe tbody tr th {\n",
       "        vertical-align: top;\n",
       "    }\n",
       "\n",
       "    .dataframe thead th {\n",
       "        text-align: right;\n",
       "    }\n",
       "</style>\n",
       "<table border=\"1\" class=\"dataframe\">\n",
       "  <thead>\n",
       "    <tr style=\"text-align: right;\">\n",
       "      <th></th>\n",
       "      <th>id</th>\n",
       "      <th>ra</th>\n",
       "      <th>dec</th>\n",
       "      <th>phot_g_mean_flux</th>\n",
       "      <th>phot_bp_mean_flux</th>\n",
       "      <th>phot_rp_mean_flux</th>\n",
       "      <th>phot_g_mean_fluxErr</th>\n",
       "      <th>phot_bp_mean_fluxErr</th>\n",
       "      <th>phot_rp_mean_fluxErr</th>\n",
       "      <th>coord_raErr</th>\n",
       "      <th>coord_decErr</th>\n",
       "      <th>epoch</th>\n",
       "      <th>pm_ra</th>\n",
       "      <th>pm_dec</th>\n",
       "      <th>pm_raErr</th>\n",
       "      <th>pm_decErr</th>\n",
       "      <th>pm_flag</th>\n",
       "      <th>parallax</th>\n",
       "      <th>parallaxErr</th>\n",
       "      <th>parallax_flag</th>\n",
       "      <th>coord_ra_coord_dec_Cov</th>\n",
       "      <th>coord_ra_pm_ra_Cov</th>\n",
       "      <th>coord_ra_pm_dec_Cov</th>\n",
       "      <th>coord_ra_parallax_Cov</th>\n",
       "      <th>coord_dec_pm_ra_Cov</th>\n",
       "      <th>coord_dec_pm_dec_Cov</th>\n",
       "      <th>coord_dec_parallax_Cov</th>\n",
       "      <th>pm_ra_pm_dec_Cov</th>\n",
       "      <th>pm_ra_parallax_Cov</th>\n",
       "      <th>pm_dec_parallax_Cov</th>\n",
       "      <th>astrometric_excess_noise</th>\n",
       "      <th>tractID</th>\n",
       "      <th>patchID</th>\n",
       "      <th>skypix</th>\n",
       "    </tr>\n",
       "  </thead>\n",
       "  <tbody>\n",
       "    <tr>\n",
       "      <th>0</th>\n",
       "      <td>2449850960546191232</td>\n",
       "      <td>0.000166</td>\n",
       "      <td>-0.011876</td>\n",
       "      <td>3.968388e+04</td>\n",
       "      <td>1.296045e+04</td>\n",
       "      <td>9.950487e+04</td>\n",
       "      <td>136.475806</td>\n",
       "      <td>1315.772563</td>\n",
       "      <td>2662.131182</td>\n",
       "      <td>2.096146e-09</td>\n",
       "      <td>1.816218e-09</td>\n",
       "      <td>57388.499407</td>\n",
       "      <td>1.467858e-08</td>\n",
       "      <td>-4.274311e-08</td>\n",
       "      <td>2.581790e-09</td>\n",
       "      <td>2.036342e-09</td>\n",
       "      <td>False</td>\n",
       "      <td>8.576050e-09</td>\n",
       "      <td>2.610054e-09</td>\n",
       "      <td>False</td>\n",
       "      <td>1.045344e-18</td>\n",
       "      <td>1.850645e-19</td>\n",
       "      <td>-1.341398e-19</td>\n",
       "      <td>8.106214e-19</td>\n",
       "      <td>1.576844e-19</td>\n",
       "      <td>2.370378e-18</td>\n",
       "      <td>-1.459838e-18</td>\n",
       "      <td>2.034396e-18</td>\n",
       "      <td>-1.022296e-18</td>\n",
       "      <td>-2.190038e-18</td>\n",
       "      <td>1.349154</td>\n",
       "      <td>0</td>\n",
       "      <td>0</td>\n",
       "      <td>131072</td>\n",
       "    </tr>\n",
       "    <tr>\n",
       "      <th>1</th>\n",
       "      <td>2449851338503315712</td>\n",
       "      <td>0.000105</td>\n",
       "      <td>-0.011755</td>\n",
       "      <td>1.959243e+05</td>\n",
       "      <td>7.682066e+04</td>\n",
       "      <td>6.016697e+05</td>\n",
       "      <td>1077.335205</td>\n",
       "      <td>2006.439947</td>\n",
       "      <td>3308.406644</td>\n",
       "      <td>3.788678e-09</td>\n",
       "      <td>2.637310e-09</td>\n",
       "      <td>57388.499407</td>\n",
       "      <td>NaN</td>\n",
       "      <td>NaN</td>\n",
       "      <td>NaN</td>\n",
       "      <td>NaN</td>\n",
       "      <td>False</td>\n",
       "      <td>NaN</td>\n",
       "      <td>NaN</td>\n",
       "      <td>False</td>\n",
       "      <td>1.576009e-18</td>\n",
       "      <td>NaN</td>\n",
       "      <td>NaN</td>\n",
       "      <td>NaN</td>\n",
       "      <td>NaN</td>\n",
       "      <td>NaN</td>\n",
       "      <td>NaN</td>\n",
       "      <td>NaN</td>\n",
       "      <td>NaN</td>\n",
       "      <td>NaN</td>\n",
       "      <td>6.491338</td>\n",
       "      <td>0</td>\n",
       "      <td>0</td>\n",
       "      <td>131072</td>\n",
       "    </tr>\n",
       "    <tr>\n",
       "      <th>2</th>\n",
       "      <td>2449851377159675392</td>\n",
       "      <td>0.000333</td>\n",
       "      <td>-0.011656</td>\n",
       "      <td>3.874935e+04</td>\n",
       "      <td>1.853878e+04</td>\n",
       "      <td>8.387241e+04</td>\n",
       "      <td>141.264120</td>\n",
       "      <td>1849.701766</td>\n",
       "      <td>2043.742181</td>\n",
       "      <td>2.157922e-09</td>\n",
       "      <td>1.816136e-09</td>\n",
       "      <td>57388.499407</td>\n",
       "      <td>1.641371e-08</td>\n",
       "      <td>-2.032592e-08</td>\n",
       "      <td>2.640814e-09</td>\n",
       "      <td>1.952416e-09</td>\n",
       "      <td>False</td>\n",
       "      <td>4.068542e-09</td>\n",
       "      <td>2.890777e-09</td>\n",
       "      <td>False</td>\n",
       "      <td>1.020630e-18</td>\n",
       "      <td>-1.382141e-19</td>\n",
       "      <td>-4.374544e-19</td>\n",
       "      <td>5.912648e-19</td>\n",
       "      <td>-3.359493e-19</td>\n",
       "      <td>1.918172e-18</td>\n",
       "      <td>-2.041828e-18</td>\n",
       "      <td>1.715501e-18</td>\n",
       "      <td>-1.513156e-18</td>\n",
       "      <td>-2.908092e-18</td>\n",
       "      <td>1.641737</td>\n",
       "      <td>0</td>\n",
       "      <td>0</td>\n",
       "      <td>131072</td>\n",
       "    </tr>\n",
       "    <tr>\n",
       "      <th>3</th>\n",
       "      <td>2449851407223073792</td>\n",
       "      <td>0.000664</td>\n",
       "      <td>-0.011549</td>\n",
       "      <td>1.726028e+04</td>\n",
       "      <td>1.480681e+04</td>\n",
       "      <td>3.914222e+04</td>\n",
       "      <td>147.255004</td>\n",
       "      <td>2688.223993</td>\n",
       "      <td>3489.078406</td>\n",
       "      <td>6.696759e-09</td>\n",
       "      <td>8.881533e-09</td>\n",
       "      <td>57388.499407</td>\n",
       "      <td>3.253071e-08</td>\n",
       "      <td>-1.907167e-08</td>\n",
       "      <td>7.593889e-09</td>\n",
       "      <td>9.738073e-09</td>\n",
       "      <td>False</td>\n",
       "      <td>1.231855e-08</td>\n",
       "      <td>9.945693e-09</td>\n",
       "      <td>False</td>\n",
       "      <td>-4.142626e-18</td>\n",
       "      <td>1.391829e-17</td>\n",
       "      <td>-8.617341e-18</td>\n",
       "      <td>2.143979e-17</td>\n",
       "      <td>2.393771e-17</td>\n",
       "      <td>7.779869e-17</td>\n",
       "      <td>-6.835623e-17</td>\n",
       "      <td>3.911214e-17</td>\n",
       "      <td>-1.698015e-17</td>\n",
       "      <td>-6.656052e-17</td>\n",
       "      <td>1.507869</td>\n",
       "      <td>0</td>\n",
       "      <td>0</td>\n",
       "      <td>131072</td>\n",
       "    </tr>\n",
       "    <tr>\n",
       "      <th>4</th>\n",
       "      <td>2449851475942276096</td>\n",
       "      <td>0.000459</td>\n",
       "      <td>-0.011376</td>\n",
       "      <td>5.978308e+04</td>\n",
       "      <td>4.750029e+04</td>\n",
       "      <td>6.862387e+04</td>\n",
       "      <td>142.485253</td>\n",
       "      <td>1799.160018</td>\n",
       "      <td>3502.530301</td>\n",
       "      <td>1.461376e-09</td>\n",
       "      <td>1.094439e-09</td>\n",
       "      <td>57388.499407</td>\n",
       "      <td>3.870431e-09</td>\n",
       "      <td>-1.609006e-08</td>\n",
       "      <td>1.784137e-09</td>\n",
       "      <td>1.147272e-09</td>\n",
       "      <td>False</td>\n",
       "      <td>5.773058e-11</td>\n",
       "      <td>1.771407e-09</td>\n",
       "      <td>False</td>\n",
       "      <td>4.012855e-19</td>\n",
       "      <td>-1.812061e-19</td>\n",
       "      <td>-2.576613e-19</td>\n",
       "      <td>1.386868e-19</td>\n",
       "      <td>-3.337862e-19</td>\n",
       "      <td>6.039006e-19</td>\n",
       "      <td>-6.034389e-19</td>\n",
       "      <td>5.569043e-19</td>\n",
       "      <td>-2.432351e-19</td>\n",
       "      <td>-8.279043e-19</td>\n",
       "      <td>0.554723</td>\n",
       "      <td>0</td>\n",
       "      <td>0</td>\n",
       "      <td>131072</td>\n",
       "    </tr>\n",
       "    <tr>\n",
       "      <th>...</th>\n",
       "      <td>...</td>\n",
       "      <td>...</td>\n",
       "      <td>...</td>\n",
       "      <td>...</td>\n",
       "      <td>...</td>\n",
       "      <td>...</td>\n",
       "      <td>...</td>\n",
       "      <td>...</td>\n",
       "      <td>...</td>\n",
       "      <td>...</td>\n",
       "      <td>...</td>\n",
       "      <td>...</td>\n",
       "      <td>...</td>\n",
       "      <td>...</td>\n",
       "      <td>...</td>\n",
       "      <td>...</td>\n",
       "      <td>...</td>\n",
       "      <td>...</td>\n",
       "      <td>...</td>\n",
       "      <td>...</td>\n",
       "      <td>...</td>\n",
       "      <td>...</td>\n",
       "      <td>...</td>\n",
       "      <td>...</td>\n",
       "      <td>...</td>\n",
       "      <td>...</td>\n",
       "      <td>...</td>\n",
       "      <td>...</td>\n",
       "      <td>...</td>\n",
       "      <td>...</td>\n",
       "      <td>...</td>\n",
       "      <td>...</td>\n",
       "      <td>...</td>\n",
       "      <td>...</td>\n",
       "    </tr>\n",
       "    <tr>\n",
       "      <th>749</th>\n",
       "      <td>2448416132231612032</td>\n",
       "      <td>0.035143</td>\n",
       "      <td>-0.049295</td>\n",
       "      <td>1.530751e+05</td>\n",
       "      <td>5.062338e+04</td>\n",
       "      <td>3.428522e+05</td>\n",
       "      <td>224.576392</td>\n",
       "      <td>1988.310234</td>\n",
       "      <td>3080.030483</td>\n",
       "      <td>7.711772e-10</td>\n",
       "      <td>5.541608e-10</td>\n",
       "      <td>57388.499407</td>\n",
       "      <td>-2.916298e-08</td>\n",
       "      <td>-5.356730e-08</td>\n",
       "      <td>8.622686e-10</td>\n",
       "      <td>6.061082e-10</td>\n",
       "      <td>False</td>\n",
       "      <td>1.018524e-08</td>\n",
       "      <td>1.003278e-09</td>\n",
       "      <td>False</td>\n",
       "      <td>9.320426e-20</td>\n",
       "      <td>-5.398790e-20</td>\n",
       "      <td>-1.411602e-19</td>\n",
       "      <td>2.906244e-19</td>\n",
       "      <td>-9.850148e-20</td>\n",
       "      <td>1.265783e-19</td>\n",
       "      <td>-1.672269e-19</td>\n",
       "      <td>1.497548e-19</td>\n",
       "      <td>-1.258155e-20</td>\n",
       "      <td>-2.951270e-19</td>\n",
       "      <td>0.000000</td>\n",
       "      <td>0</td>\n",
       "      <td>0</td>\n",
       "      <td>131093</td>\n",
       "    </tr>\n",
       "    <tr>\n",
       "      <th>750</th>\n",
       "      <td>2448416136528007424</td>\n",
       "      <td>0.035323</td>\n",
       "      <td>-0.049236</td>\n",
       "      <td>4.434828e+06</td>\n",
       "      <td>2.563576e+06</td>\n",
       "      <td>7.224898e+06</td>\n",
       "      <td>1023.740133</td>\n",
       "      <td>3429.491947</td>\n",
       "      <td>4660.985585</td>\n",
       "      <td>1.422196e-10</td>\n",
       "      <td>1.158174e-10</td>\n",
       "      <td>57388.499407</td>\n",
       "      <td>1.039001e-07</td>\n",
       "      <td>1.203747e-07</td>\n",
       "      <td>1.889079e-10</td>\n",
       "      <td>1.201125e-10</td>\n",
       "      <td>False</td>\n",
       "      <td>1.399159e-08</td>\n",
       "      <td>1.794363e-10</td>\n",
       "      <td>False</td>\n",
       "      <td>3.955980e-21</td>\n",
       "      <td>2.024690e-21</td>\n",
       "      <td>-2.106096e-21</td>\n",
       "      <td>1.792190e-21</td>\n",
       "      <td>-4.914175e-21</td>\n",
       "      <td>6.978280e-21</td>\n",
       "      <td>-7.883634e-21</td>\n",
       "      <td>4.588280e-21</td>\n",
       "      <td>4.919064e-21</td>\n",
       "      <td>-8.179399e-21</td>\n",
       "      <td>0.180073</td>\n",
       "      <td>0</td>\n",
       "      <td>0</td>\n",
       "      <td>131093</td>\n",
       "    </tr>\n",
       "    <tr>\n",
       "      <th>751</th>\n",
       "      <td>2448416200954001024</td>\n",
       "      <td>0.035143</td>\n",
       "      <td>-0.049265</td>\n",
       "      <td>2.061542e+04</td>\n",
       "      <td>1.118043e+04</td>\n",
       "      <td>5.530383e+04</td>\n",
       "      <td>178.161583</td>\n",
       "      <td>2268.564542</td>\n",
       "      <td>4308.416798</td>\n",
       "      <td>5.675256e-09</td>\n",
       "      <td>4.670418e-09</td>\n",
       "      <td>57388.499407</td>\n",
       "      <td>-1.502303e-08</td>\n",
       "      <td>-3.231271e-08</td>\n",
       "      <td>5.979272e-09</td>\n",
       "      <td>5.463970e-09</td>\n",
       "      <td>False</td>\n",
       "      <td>8.545830e-09</td>\n",
       "      <td>7.394315e-09</td>\n",
       "      <td>False</td>\n",
       "      <td>3.778780e-18</td>\n",
       "      <td>8.222034e-18</td>\n",
       "      <td>-5.320911e-18</td>\n",
       "      <td>1.504281e-17</td>\n",
       "      <td>3.990825e-19</td>\n",
       "      <td>1.464144e-17</td>\n",
       "      <td>-1.553627e-17</td>\n",
       "      <td>1.097234e-17</td>\n",
       "      <td>-4.826500e-18</td>\n",
       "      <td>-2.304894e-17</td>\n",
       "      <td>2.946901</td>\n",
       "      <td>0</td>\n",
       "      <td>0</td>\n",
       "      <td>131093</td>\n",
       "    </tr>\n",
       "    <tr>\n",
       "      <th>752</th>\n",
       "      <td>2448427677103701376</td>\n",
       "      <td>0.033754</td>\n",
       "      <td>-0.049470</td>\n",
       "      <td>5.409050e+05</td>\n",
       "      <td>4.153565e+05</td>\n",
       "      <td>6.864771e+05</td>\n",
       "      <td>339.107277</td>\n",
       "      <td>2287.899279</td>\n",
       "      <td>3677.684947</td>\n",
       "      <td>3.612393e-10</td>\n",
       "      <td>2.937196e-10</td>\n",
       "      <td>57388.499407</td>\n",
       "      <td>3.634364e-08</td>\n",
       "      <td>-3.800179e-08</td>\n",
       "      <td>4.407886e-10</td>\n",
       "      <td>3.039638e-10</td>\n",
       "      <td>False</td>\n",
       "      <td>1.744359e-09</td>\n",
       "      <td>4.566746e-10</td>\n",
       "      <td>False</td>\n",
       "      <td>3.360614e-20</td>\n",
       "      <td>-7.868031e-21</td>\n",
       "      <td>-1.712596e-20</td>\n",
       "      <td>5.969909e-20</td>\n",
       "      <td>-2.095317e-20</td>\n",
       "      <td>4.474626e-20</td>\n",
       "      <td>-2.871533e-20</td>\n",
       "      <td>4.170061e-20</td>\n",
       "      <td>1.432956e-20</td>\n",
       "      <td>-5.053754e-20</td>\n",
       "      <td>0.235701</td>\n",
       "      <td>0</td>\n",
       "      <td>0</td>\n",
       "      <td>131093</td>\n",
       "    </tr>\n",
       "    <tr>\n",
       "      <th>753</th>\n",
       "      <td>2448427745823181440</td>\n",
       "      <td>0.033481</td>\n",
       "      <td>-0.049242</td>\n",
       "      <td>5.721779e+04</td>\n",
       "      <td>4.357713e+04</td>\n",
       "      <td>6.517652e+04</td>\n",
       "      <td>150.672800</td>\n",
       "      <td>2653.439904</td>\n",
       "      <td>2198.944391</td>\n",
       "      <td>1.552178e-09</td>\n",
       "      <td>1.192603e-09</td>\n",
       "      <td>57388.499407</td>\n",
       "      <td>-1.209462e-08</td>\n",
       "      <td>-2.375173e-08</td>\n",
       "      <td>1.870104e-09</td>\n",
       "      <td>1.227437e-09</td>\n",
       "      <td>False</td>\n",
       "      <td>1.145932e-10</td>\n",
       "      <td>1.873182e-09</td>\n",
       "      <td>False</td>\n",
       "      <td>5.248771e-19</td>\n",
       "      <td>3.024353e-19</td>\n",
       "      <td>-2.755421e-19</td>\n",
       "      <td>9.755935e-19</td>\n",
       "      <td>-3.886038e-19</td>\n",
       "      <td>6.710543e-19</td>\n",
       "      <td>-3.547867e-19</td>\n",
       "      <td>6.220093e-19</td>\n",
       "      <td>3.115468e-19</td>\n",
       "      <td>-6.308594e-19</td>\n",
       "      <td>0.765011</td>\n",
       "      <td>0</td>\n",
       "      <td>0</td>\n",
       "      <td>131093</td>\n",
       "    </tr>\n",
       "  </tbody>\n",
       "</table>\n",
       "<p>17097 rows × 34 columns</p>\n",
       "</div>"
      ],
      "text/plain": [
       "                      id        ra       dec  phot_g_mean_flux  \\\n",
       "0    2449850960546191232  0.000166 -0.011876      3.968388e+04   \n",
       "1    2449851338503315712  0.000105 -0.011755      1.959243e+05   \n",
       "2    2449851377159675392  0.000333 -0.011656      3.874935e+04   \n",
       "3    2449851407223073792  0.000664 -0.011549      1.726028e+04   \n",
       "4    2449851475942276096  0.000459 -0.011376      5.978308e+04   \n",
       "..                   ...       ...       ...               ...   \n",
       "749  2448416132231612032  0.035143 -0.049295      1.530751e+05   \n",
       "750  2448416136528007424  0.035323 -0.049236      4.434828e+06   \n",
       "751  2448416200954001024  0.035143 -0.049265      2.061542e+04   \n",
       "752  2448427677103701376  0.033754 -0.049470      5.409050e+05   \n",
       "753  2448427745823181440  0.033481 -0.049242      5.721779e+04   \n",
       "\n",
       "     phot_bp_mean_flux  phot_rp_mean_flux  phot_g_mean_fluxErr  \\\n",
       "0         1.296045e+04       9.950487e+04           136.475806   \n",
       "1         7.682066e+04       6.016697e+05          1077.335205   \n",
       "2         1.853878e+04       8.387241e+04           141.264120   \n",
       "3         1.480681e+04       3.914222e+04           147.255004   \n",
       "4         4.750029e+04       6.862387e+04           142.485253   \n",
       "..                 ...                ...                  ...   \n",
       "749       5.062338e+04       3.428522e+05           224.576392   \n",
       "750       2.563576e+06       7.224898e+06          1023.740133   \n",
       "751       1.118043e+04       5.530383e+04           178.161583   \n",
       "752       4.153565e+05       6.864771e+05           339.107277   \n",
       "753       4.357713e+04       6.517652e+04           150.672800   \n",
       "\n",
       "     phot_bp_mean_fluxErr  phot_rp_mean_fluxErr   coord_raErr  coord_decErr  \\\n",
       "0             1315.772563           2662.131182  2.096146e-09  1.816218e-09   \n",
       "1             2006.439947           3308.406644  3.788678e-09  2.637310e-09   \n",
       "2             1849.701766           2043.742181  2.157922e-09  1.816136e-09   \n",
       "3             2688.223993           3489.078406  6.696759e-09  8.881533e-09   \n",
       "4             1799.160018           3502.530301  1.461376e-09  1.094439e-09   \n",
       "..                    ...                   ...           ...           ...   \n",
       "749           1988.310234           3080.030483  7.711772e-10  5.541608e-10   \n",
       "750           3429.491947           4660.985585  1.422196e-10  1.158174e-10   \n",
       "751           2268.564542           4308.416798  5.675256e-09  4.670418e-09   \n",
       "752           2287.899279           3677.684947  3.612393e-10  2.937196e-10   \n",
       "753           2653.439904           2198.944391  1.552178e-09  1.192603e-09   \n",
       "\n",
       "            epoch         pm_ra        pm_dec      pm_raErr     pm_decErr  \\\n",
       "0    57388.499407  1.467858e-08 -4.274311e-08  2.581790e-09  2.036342e-09   \n",
       "1    57388.499407           NaN           NaN           NaN           NaN   \n",
       "2    57388.499407  1.641371e-08 -2.032592e-08  2.640814e-09  1.952416e-09   \n",
       "3    57388.499407  3.253071e-08 -1.907167e-08  7.593889e-09  9.738073e-09   \n",
       "4    57388.499407  3.870431e-09 -1.609006e-08  1.784137e-09  1.147272e-09   \n",
       "..            ...           ...           ...           ...           ...   \n",
       "749  57388.499407 -2.916298e-08 -5.356730e-08  8.622686e-10  6.061082e-10   \n",
       "750  57388.499407  1.039001e-07  1.203747e-07  1.889079e-10  1.201125e-10   \n",
       "751  57388.499407 -1.502303e-08 -3.231271e-08  5.979272e-09  5.463970e-09   \n",
       "752  57388.499407  3.634364e-08 -3.800179e-08  4.407886e-10  3.039638e-10   \n",
       "753  57388.499407 -1.209462e-08 -2.375173e-08  1.870104e-09  1.227437e-09   \n",
       "\n",
       "     pm_flag      parallax   parallaxErr  parallax_flag  \\\n",
       "0      False  8.576050e-09  2.610054e-09          False   \n",
       "1      False           NaN           NaN          False   \n",
       "2      False  4.068542e-09  2.890777e-09          False   \n",
       "3      False  1.231855e-08  9.945693e-09          False   \n",
       "4      False  5.773058e-11  1.771407e-09          False   \n",
       "..       ...           ...           ...            ...   \n",
       "749    False  1.018524e-08  1.003278e-09          False   \n",
       "750    False  1.399159e-08  1.794363e-10          False   \n",
       "751    False  8.545830e-09  7.394315e-09          False   \n",
       "752    False  1.744359e-09  4.566746e-10          False   \n",
       "753    False  1.145932e-10  1.873182e-09          False   \n",
       "\n",
       "     coord_ra_coord_dec_Cov  coord_ra_pm_ra_Cov  coord_ra_pm_dec_Cov  \\\n",
       "0              1.045344e-18        1.850645e-19        -1.341398e-19   \n",
       "1              1.576009e-18                 NaN                  NaN   \n",
       "2              1.020630e-18       -1.382141e-19        -4.374544e-19   \n",
       "3             -4.142626e-18        1.391829e-17        -8.617341e-18   \n",
       "4              4.012855e-19       -1.812061e-19        -2.576613e-19   \n",
       "..                      ...                 ...                  ...   \n",
       "749            9.320426e-20       -5.398790e-20        -1.411602e-19   \n",
       "750            3.955980e-21        2.024690e-21        -2.106096e-21   \n",
       "751            3.778780e-18        8.222034e-18        -5.320911e-18   \n",
       "752            3.360614e-20       -7.868031e-21        -1.712596e-20   \n",
       "753            5.248771e-19        3.024353e-19        -2.755421e-19   \n",
       "\n",
       "     coord_ra_parallax_Cov  coord_dec_pm_ra_Cov  coord_dec_pm_dec_Cov  \\\n",
       "0             8.106214e-19         1.576844e-19          2.370378e-18   \n",
       "1                      NaN                  NaN                   NaN   \n",
       "2             5.912648e-19        -3.359493e-19          1.918172e-18   \n",
       "3             2.143979e-17         2.393771e-17          7.779869e-17   \n",
       "4             1.386868e-19        -3.337862e-19          6.039006e-19   \n",
       "..                     ...                  ...                   ...   \n",
       "749           2.906244e-19        -9.850148e-20          1.265783e-19   \n",
       "750           1.792190e-21        -4.914175e-21          6.978280e-21   \n",
       "751           1.504281e-17         3.990825e-19          1.464144e-17   \n",
       "752           5.969909e-20        -2.095317e-20          4.474626e-20   \n",
       "753           9.755935e-19        -3.886038e-19          6.710543e-19   \n",
       "\n",
       "     coord_dec_parallax_Cov  pm_ra_pm_dec_Cov  pm_ra_parallax_Cov  \\\n",
       "0             -1.459838e-18      2.034396e-18       -1.022296e-18   \n",
       "1                       NaN               NaN                 NaN   \n",
       "2             -2.041828e-18      1.715501e-18       -1.513156e-18   \n",
       "3             -6.835623e-17      3.911214e-17       -1.698015e-17   \n",
       "4             -6.034389e-19      5.569043e-19       -2.432351e-19   \n",
       "..                      ...               ...                 ...   \n",
       "749           -1.672269e-19      1.497548e-19       -1.258155e-20   \n",
       "750           -7.883634e-21      4.588280e-21        4.919064e-21   \n",
       "751           -1.553627e-17      1.097234e-17       -4.826500e-18   \n",
       "752           -2.871533e-20      4.170061e-20        1.432956e-20   \n",
       "753           -3.547867e-19      6.220093e-19        3.115468e-19   \n",
       "\n",
       "     pm_dec_parallax_Cov  astrometric_excess_noise  tractID  patchID  skypix  \n",
       "0          -2.190038e-18                  1.349154        0        0  131072  \n",
       "1                    NaN                  6.491338        0        0  131072  \n",
       "2          -2.908092e-18                  1.641737        0        0  131072  \n",
       "3          -6.656052e-17                  1.507869        0        0  131072  \n",
       "4          -8.279043e-19                  0.554723        0        0  131072  \n",
       "..                   ...                       ...      ...      ...     ...  \n",
       "749        -2.951270e-19                  0.000000        0        0  131093  \n",
       "750        -8.179399e-21                  0.180073        0        0  131093  \n",
       "751        -2.304894e-17                  2.946901        0        0  131093  \n",
       "752        -5.053754e-20                  0.235701        0        0  131093  \n",
       "753        -6.308594e-19                  0.765011        0        0  131093  \n",
       "\n",
       "[17097 rows x 34 columns]"
      ]
     },
     "execution_count": 31,
     "metadata": {},
     "output_type": "execute_result"
    }
   ],
   "source": [
    "df"
   ]
  },
  {
   "cell_type": "code",
   "execution_count": 32,
   "id": "a4afe23a-71ae-4c4e-abd7-591bc9d939c8",
   "metadata": {
    "execution": {
     "iopub.execute_input": "2024-02-29T20:11:42.231634Z",
     "iopub.status.busy": "2024-02-29T20:11:42.231514Z",
     "iopub.status.idle": "2024-02-29T20:11:42.587721Z",
     "shell.execute_reply": "2024-02-29T20:11:42.587300Z",
     "shell.execute_reply.started": "2024-02-29T20:11:42.231623Z"
    },
    "tags": []
   },
   "outputs": [],
   "source": [
    "df.to_csv(filesource_out)"
   ]
  },
  {
   "cell_type": "code",
   "execution_count": 33,
   "id": "dbf845eb-7c07-4344-a440-f7af1bffd08a",
   "metadata": {
    "execution": {
     "iopub.execute_input": "2024-02-29T20:11:42.588421Z",
     "iopub.status.busy": "2024-02-29T20:11:42.588286Z",
     "iopub.status.idle": "2024-02-29T20:11:42.590737Z",
     "shell.execute_reply": "2024-02-29T20:11:42.590393Z",
     "shell.execute_reply.started": "2024-02-29T20:11:42.588409Z"
    },
    "tags": []
   },
   "outputs": [
    {
     "name": "stdout",
     "output_type": "stream",
     "text": [
      "['id', 'ra', 'dec', 'phot_g_mean_flux', 'phot_bp_mean_flux', 'phot_rp_mean_flux', 'phot_g_mean_fluxErr', 'phot_bp_mean_fluxErr', 'phot_rp_mean_fluxErr', 'coord_raErr', 'coord_decErr', 'epoch', 'pm_ra', 'pm_dec', 'pm_raErr', 'pm_decErr', 'pm_flag', 'parallax', 'parallaxErr', 'parallax_flag', 'coord_ra_coord_dec_Cov', 'coord_ra_pm_ra_Cov', 'coord_ra_pm_dec_Cov', 'coord_ra_parallax_Cov', 'coord_dec_pm_ra_Cov', 'coord_dec_pm_dec_Cov', 'coord_dec_parallax_Cov', 'pm_ra_pm_dec_Cov', 'pm_ra_parallax_Cov', 'pm_dec_parallax_Cov', 'astrometric_excess_noise', 'tractID', 'patchID', 'skypix']\n"
     ]
    }
   ],
   "source": [
    "print(df.columns.tolist())"
   ]
  },
  {
   "cell_type": "code",
   "execution_count": 34,
   "id": "e211cb27-8fce-4f75-b5f8-2cc966675158",
   "metadata": {
    "execution": {
     "iopub.execute_input": "2024-02-29T20:11:42.591284Z",
     "iopub.status.busy": "2024-02-29T20:11:42.591168Z",
     "iopub.status.idle": "2024-02-29T20:11:43.110680Z",
     "shell.execute_reply": "2024-02-29T20:11:43.109193Z",
     "shell.execute_reply.started": "2024-02-29T20:11:42.591273Z"
    }
   },
   "outputs": [
    {
     "ename": "KeyError",
     "evalue": "'tract'",
     "output_type": "error",
     "traceback": [
      "\u001b[0;31m---------------------------------------------------------------------------\u001b[0m",
      "\u001b[0;31mKeyError\u001b[0m                                  Traceback (most recent call last)",
      "File \u001b[0;32m~/.local/lib/python3.11/site-packages/pandas/core/indexes/base.py:3802\u001b[0m, in \u001b[0;36mIndex.get_loc\u001b[0;34m(self, key, method, tolerance)\u001b[0m\n\u001b[1;32m   3801\u001b[0m \u001b[38;5;28;01mtry\u001b[39;00m:\n\u001b[0;32m-> 3802\u001b[0m     \u001b[38;5;28;01mreturn\u001b[39;00m \u001b[38;5;28;43mself\u001b[39;49m\u001b[38;5;241;43m.\u001b[39;49m\u001b[43m_engine\u001b[49m\u001b[38;5;241;43m.\u001b[39;49m\u001b[43mget_loc\u001b[49m\u001b[43m(\u001b[49m\u001b[43mcasted_key\u001b[49m\u001b[43m)\u001b[49m\n\u001b[1;32m   3803\u001b[0m \u001b[38;5;28;01mexcept\u001b[39;00m \u001b[38;5;167;01mKeyError\u001b[39;00m \u001b[38;5;28;01mas\u001b[39;00m err:\n",
      "File \u001b[0;32m~/.local/lib/python3.11/site-packages/pandas/_libs/index.pyx:138\u001b[0m, in \u001b[0;36mpandas._libs.index.IndexEngine.get_loc\u001b[0;34m()\u001b[0m\n",
      "File \u001b[0;32m~/.local/lib/python3.11/site-packages/pandas/_libs/index.pyx:165\u001b[0m, in \u001b[0;36mpandas._libs.index.IndexEngine.get_loc\u001b[0;34m()\u001b[0m\n",
      "File \u001b[0;32mpandas/_libs/hashtable_class_helper.pxi:5745\u001b[0m, in \u001b[0;36mpandas._libs.hashtable.PyObjectHashTable.get_item\u001b[0;34m()\u001b[0m\n",
      "File \u001b[0;32mpandas/_libs/hashtable_class_helper.pxi:5753\u001b[0m, in \u001b[0;36mpandas._libs.hashtable.PyObjectHashTable.get_item\u001b[0;34m()\u001b[0m\n",
      "\u001b[0;31mKeyError\u001b[0m: 'tract'",
      "\nThe above exception was the direct cause of the following exception:\n",
      "\u001b[0;31mKeyError\u001b[0m                                  Traceback (most recent call last)",
      "Cell \u001b[0;32mIn[34], line 1\u001b[0m\n\u001b[0;32m----> 1\u001b[0m \u001b[43mdf\u001b[49m\u001b[43m[\u001b[49m\u001b[38;5;124;43m'\u001b[39;49m\u001b[38;5;124;43mtract\u001b[39;49m\u001b[38;5;124;43m'\u001b[39;49m\u001b[43m]\u001b[49m\u001b[38;5;241m.\u001b[39munique()\n",
      "File \u001b[0;32m~/.local/lib/python3.11/site-packages/pandas/core/frame.py:3807\u001b[0m, in \u001b[0;36mDataFrame.__getitem__\u001b[0;34m(self, key)\u001b[0m\n\u001b[1;32m   3805\u001b[0m \u001b[38;5;28;01mif\u001b[39;00m \u001b[38;5;28mself\u001b[39m\u001b[38;5;241m.\u001b[39mcolumns\u001b[38;5;241m.\u001b[39mnlevels \u001b[38;5;241m>\u001b[39m \u001b[38;5;241m1\u001b[39m:\n\u001b[1;32m   3806\u001b[0m     \u001b[38;5;28;01mreturn\u001b[39;00m \u001b[38;5;28mself\u001b[39m\u001b[38;5;241m.\u001b[39m_getitem_multilevel(key)\n\u001b[0;32m-> 3807\u001b[0m indexer \u001b[38;5;241m=\u001b[39m \u001b[38;5;28;43mself\u001b[39;49m\u001b[38;5;241;43m.\u001b[39;49m\u001b[43mcolumns\u001b[49m\u001b[38;5;241;43m.\u001b[39;49m\u001b[43mget_loc\u001b[49m\u001b[43m(\u001b[49m\u001b[43mkey\u001b[49m\u001b[43m)\u001b[49m\n\u001b[1;32m   3808\u001b[0m \u001b[38;5;28;01mif\u001b[39;00m is_integer(indexer):\n\u001b[1;32m   3809\u001b[0m     indexer \u001b[38;5;241m=\u001b[39m [indexer]\n",
      "File \u001b[0;32m~/.local/lib/python3.11/site-packages/pandas/core/indexes/base.py:3804\u001b[0m, in \u001b[0;36mIndex.get_loc\u001b[0;34m(self, key, method, tolerance)\u001b[0m\n\u001b[1;32m   3802\u001b[0m     \u001b[38;5;28;01mreturn\u001b[39;00m \u001b[38;5;28mself\u001b[39m\u001b[38;5;241m.\u001b[39m_engine\u001b[38;5;241m.\u001b[39mget_loc(casted_key)\n\u001b[1;32m   3803\u001b[0m \u001b[38;5;28;01mexcept\u001b[39;00m \u001b[38;5;167;01mKeyError\u001b[39;00m \u001b[38;5;28;01mas\u001b[39;00m err:\n\u001b[0;32m-> 3804\u001b[0m     \u001b[38;5;28;01mraise\u001b[39;00m \u001b[38;5;167;01mKeyError\u001b[39;00m(key) \u001b[38;5;28;01mfrom\u001b[39;00m \u001b[38;5;21;01merr\u001b[39;00m\n\u001b[1;32m   3805\u001b[0m \u001b[38;5;28;01mexcept\u001b[39;00m \u001b[38;5;167;01mTypeError\u001b[39;00m:\n\u001b[1;32m   3806\u001b[0m     \u001b[38;5;66;03m# If we have a listlike key, _check_indexing_error will raise\u001b[39;00m\n\u001b[1;32m   3807\u001b[0m     \u001b[38;5;66;03m#  InvalidIndexError. Otherwise we fall through and re-raise\u001b[39;00m\n\u001b[1;32m   3808\u001b[0m     \u001b[38;5;66;03m#  the TypeError.\u001b[39;00m\n\u001b[1;32m   3809\u001b[0m     \u001b[38;5;28mself\u001b[39m\u001b[38;5;241m.\u001b[39m_check_indexing_error(key)\n",
      "\u001b[0;31mKeyError\u001b[0m: 'tract'"
     ]
    }
   ],
   "source": [
    "df['tract'].unique()"
   ]
  },
  {
   "cell_type": "code",
   "execution_count": null,
   "id": "3fc22a66-a90d-4371-b073-1f1c34c806f7",
   "metadata": {
    "execution": {
     "iopub.status.busy": "2024-02-29T20:11:43.111179Z",
     "iopub.status.idle": "2024-02-29T20:11:43.111351Z",
     "shell.execute_reply": "2024-02-29T20:11:43.111272Z",
     "shell.execute_reply.started": "2024-02-29T20:11:43.111265Z"
    }
   },
   "outputs": [],
   "source": [
    "ref.to_simple()"
   ]
  },
  {
   "cell_type": "code",
   "execution_count": null,
   "id": "8754a8ae-4ce5-4c67-a7c3-41deefe7892f",
   "metadata": {},
   "outputs": [],
   "source": []
  }
 ],
 "metadata": {
  "kernelspec": {
   "display_name": "LSST",
   "language": "python",
   "name": "lsst"
  },
  "language_info": {
   "codemirror_mode": {
    "name": "ipython",
    "version": 3
   },
   "file_extension": ".py",
   "mimetype": "text/x-python",
   "name": "python",
   "nbconvert_exporter": "python",
   "pygments_lexer": "ipython3",
   "version": "3.11.7"
  }
 },
 "nbformat": 4,
 "nbformat_minor": 5
}
