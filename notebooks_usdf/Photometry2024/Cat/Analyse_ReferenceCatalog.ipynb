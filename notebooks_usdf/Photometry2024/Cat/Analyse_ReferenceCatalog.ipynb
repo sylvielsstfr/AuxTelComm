{
 "cells": [
  {
   "cell_type": "markdown",
   "id": "8608d6fb-20fc-4b07-ba88-74e9b45cdf25",
   "metadata": {},
   "source": [
    "# Analyse Reference catalog"
   ]
  },
  {
   "cell_type": "markdown",
   "id": "667ba03e-ddfb-47fd-bee3-3824f9be7ae5",
   "metadata": {},
   "source": [
    " work with Weakly_2024_07\n",
    "- use jupyter kernel LSST\n",
    "\n",
    "\n",
    "- author : Sylvie Dagoret-Campagne\n",
    "- affiliation : IJCLab\n",
    "- creation date : 2024/03/04\n",
    "- update : 2024/03/04\n"
   ]
  },
  {
   "cell_type": "code",
   "execution_count": null,
   "id": "058012ec-9888-4b97-9fe2-57595e1bc0e7",
   "metadata": {},
   "outputs": [],
   "source": [
    "import numpy as np\n",
    "import matplotlib.pyplot as plt\n",
    "%matplotlib inline\n",
    "from mpl_toolkits.axes_grid1 import make_axes_locatable\n",
    "from matplotlib.colors import LogNorm,SymLogNorm\n",
    "\n",
    "\n",
    "import matplotlib.ticker                         # here's where the formatter is\n",
    "from matplotlib.ticker import (MultipleLocator, FormatStrFormatter,\n",
    "                               AutoMinorLocator)\n",
    "from astropy.visualization import (MinMaxInterval, SqrtStretch,ZScaleInterval,PercentileInterval,\n",
    "                                   ImageNormalize,imshow_norm)\n",
    "from astropy.visualization.stretch import SinhStretch, LinearStretch,AsinhStretch,LogStretch\n",
    "from astropy.io import fits\n",
    "import astropy.coordinates as coord\n",
    "import astropy.units as u\n",
    "import pandas as pd\n",
    "\n",
    "import matplotlib.ticker                         # here's where the formatter is\n",
    "import os\n",
    "import re\n",
    "import pandas as pd\n",
    "\n",
    "plt.rcParams[\"figure.figsize\"] = (4,3)\n",
    "plt.rcParams[\"axes.labelsize\"] = 'xx-large'\n",
    "plt.rcParams['axes.titlesize'] = 'xx-large'\n",
    "plt.rcParams['xtick.labelsize']= 'xx-large'\n",
    "plt.rcParams['ytick.labelsize']= 'xx-large'"
   ]
  },
  {
   "cell_type": "code",
   "execution_count": null,
   "id": "30c6a2a6-2291-449f-8bed-7eb0aef01086",
   "metadata": {},
   "outputs": [],
   "source": [
    "import math\n",
    "import lsst.geom"
   ]
  },
  {
   "cell_type": "code",
   "execution_count": null,
   "id": "b9e674e3-7d12-4017-b36a-aef9998694ca",
   "metadata": {},
   "outputs": [],
   "source": [
    "ls ../data/202402"
   ]
  },
  {
   "cell_type": "code",
   "execution_count": null,
   "id": "907f5257-e80b-4336-b41f-5bf3745571bf",
   "metadata": {},
   "outputs": [],
   "source": [
    "filesource_in=\"../data/202402/atlas_refcat2_20220201_202402.csv\""
   ]
  },
  {
   "cell_type": "code",
   "execution_count": null,
   "id": "46f58742-4a60-4c30-9a7e-7db9fd633b22",
   "metadata": {},
   "outputs": [],
   "source": [
    "# Load data (deserialize)\n",
    "import pickle\n",
    "#with open('Latiss_tractspatchs.pickle', 'rb') as handle:\n",
    "with open('../data/202402/Latiss_tractspatchs_radec_htm7_skypixels_202402.pickle', 'rb') as handle:\n",
    "    tracts_patchs_dict = pickle.load(handle)"
   ]
  },
  {
   "cell_type": "code",
   "execution_count": null,
   "id": "e4a2af53-ed2b-444b-9fbd-b5529cfb8f4d",
   "metadata": {},
   "outputs": [],
   "source": [
    "tracts_patchs_dict"
   ]
  },
  {
   "cell_type": "code",
   "execution_count": null,
   "id": "dca6250b-83af-4976-8e85-27d37d689336",
   "metadata": {},
   "outputs": [],
   "source": []
  },
  {
   "cell_type": "code",
   "execution_count": null,
   "id": "de30f400-08f2-4826-9c67-43009eee09ca",
   "metadata": {},
   "outputs": [],
   "source": [
    "def convert_fluxtomag(x) :\n",
    "    \"\"\"\n",
    "    The object and source catalogs store only fluxes. There are hundreds of flux-related columns, \n",
    "    and to store them also as magnitudes would be redundant, and a waste of space.\n",
    "    All flux units are nanojanskys. The AB Magnitudes Wikipedia page provides a concise resource \n",
    "    for users unfamiliar with AB magnitudes and jansky fluxes. To convert to AB magnitudes use:\n",
    "    As demonstrated in Section 2.3.2, to add columns of magnitudes after retrieving columns of flux, users can do this:\n",
    "    results_table['r_calibMag'] = -2.50 * numpy.log10(results_table['r_calibFlux']) + 31.4\n",
    "    results_table['r_cModelMag'] = -2.50 * numpy.log10(results_table['r_cModelFlux']) + 31.4\n",
    "    (from DP0 tutorial)\n",
    "    \"\"\"\n",
    "    return -2.50 * np.log10(x) + 31.4"
   ]
  },
  {
   "cell_type": "markdown",
   "id": "04df9973-0993-4f96-a17b-37eced8b1eb5",
   "metadata": {},
   "source": [
    "# Read input catalog"
   ]
  },
  {
   "cell_type": "code",
   "execution_count": null,
   "id": "a4c4bc49-f65a-441c-8f51-82a27f7887d2",
   "metadata": {},
   "outputs": [],
   "source": [
    "df = pd.read_csv(filesource_in,index_col=0)"
   ]
  },
  {
   "cell_type": "code",
   "execution_count": null,
   "id": "f520bf2a-9b47-4748-9503-3896eac2dda3",
   "metadata": {},
   "outputs": [],
   "source": [
    "df"
   ]
  },
  {
   "cell_type": "code",
   "execution_count": null,
   "id": "01717b67-ecd3-4a3d-9912-fb69a7f611fe",
   "metadata": {},
   "outputs": [],
   "source": [
    "colnames = list(df.columns)\n",
    "for name in colnames:\n",
    "    print(name)"
   ]
  },
  {
   "cell_type": "code",
   "execution_count": null,
   "id": "a9301c9b-afca-4997-a25b-349c58ffbda7",
   "metadata": {},
   "outputs": [],
   "source": [
    "def convert_fluxtomag(x) :\n",
    "    \"\"\"\n",
    "    The object and source catalogs store only fluxes. There are hundreds of flux-related columns, \n",
    "    and to store them also as magnitudes would be redundant, and a waste of space.\n",
    "    All flux units are nanojanskys. The AB Magnitudes Wikipedia page provides a concise resource \n",
    "    for users unfamiliar with AB magnitudes and jansky fluxes. To convert to AB magnitudes use:\n",
    "    As demonstrated in Section 2.3.2, to add columns of magnitudes after retrieving columns of flux, users can do this:\n",
    "    results_table['r_calibMag'] = -2.50 * numpy.log10(results_table['r_calibFlux']) + 31.4\n",
    "    results_table['r_cModelMag'] = -2.50 * numpy.log10(results_table['r_cModelFlux']) + 31.4\n",
    "    (from DP0 tutorial)\n",
    "    \"\"\"\n",
    "    return -2.50 * np.log10(x) + 31.4"
   ]
  },
  {
   "cell_type": "code",
   "execution_count": null,
   "id": "c31ef90b-73a0-406c-b1e8-a25099a65f1a",
   "metadata": {},
   "outputs": [],
   "source": [
    "TRACT_SEL = 3864\n",
    "\n",
    "\n",
    "List_Skypixels_selected = tracts_patchs_dict[TRACT_SEL]['htmpixels']\n",
    "RAMIN,RAMAX,DECMIN,DECMAX = tracts_patchs_dict[TRACT_SEL]['radec']\n",
    "NPIX = len(List_Skypixels_selected)\n",
    "\n",
    "if NPIX>0:\n",
    "    cut = (df.skypix == List_Skypixels_selected[0])\n",
    "    \n",
    "if NPIX == 2:\n",
    "    cut = cut | (df.skypix == List_Skypixels_selected[1])\n",
    "    \n",
    "df = df[cut]"
   ]
  },
  {
   "cell_type": "code",
   "execution_count": null,
   "id": "febc24c6-fadd-4542-9804-69687e16dee3",
   "metadata": {},
   "outputs": [],
   "source": [
    "df"
   ]
  },
  {
   "cell_type": "code",
   "execution_count": null,
   "id": "2e7a460a-92f7-4c3f-8c8d-3c1fba5de69d",
   "metadata": {},
   "outputs": [],
   "source": [
    "df[\"ra\"] = df[\"coord_ra\"]*180./np.pi\n",
    "df[\"dec\"] = df[\"coord_dec\"]*180./np.pi"
   ]
  },
  {
   "cell_type": "code",
   "execution_count": null,
   "id": "a387ec76-4c1f-4110-8bd3-8003111280f2",
   "metadata": {},
   "outputs": [],
   "source": [
    "df"
   ]
  },
  {
   "cell_type": "code",
   "execution_count": null,
   "id": "797d4fd6-30a6-4103-a22d-09d6272c99fc",
   "metadata": {},
   "outputs": [],
   "source": [
    "df[\"g_mag\"] = df[\"g_flux\"].apply(convert_fluxtomag)\n",
    "df[\"r_mag\"] = df[\"r_flux\"].apply(convert_fluxtomag)\n",
    "df[\"i_mag\"] = df[\"i_flux\"].apply(convert_fluxtomag)\n",
    "df[\"z_mag\"] = df[\"z_flux\"].apply(convert_fluxtomag)"
   ]
  },
  {
   "cell_type": "code",
   "execution_count": null,
   "id": "2214bc56-69ec-4a68-a30e-878c86d63d88",
   "metadata": {},
   "outputs": [],
   "source": [
    "variable_names = [\"g_mag\",\"r_mag\",\"i_mag\",\"z_mag\"]\n",
    "all_bands = [\"g\",\"r\",\"i\",\"z\"]\n",
    "all_band_colors = [\"g\",\"r\",\"orange\",\"grey\"]\n",
    "NB = len(all_bands)\n",
    "\n",
    "fig,axs  = plt.subplots(nrows=1,ncols=NB,figsize=(16,4))\n",
    "\n",
    "for iband in range(NB):\n",
    "    name = variable_names[iband]\n",
    "    df[name].hist(bins=50,range=(8,22),ax=axs[iband],facecolor=all_band_colors[iband],legend=True)\n",
    "    #ax.legend()\n",
    "plt.suptitle(filesource_in)"
   ]
  },
  {
   "cell_type": "code",
   "execution_count": null,
   "id": "4f768722-0741-4944-8641-d7728e1ca775",
   "metadata": {},
   "outputs": [],
   "source": [
    "cmap = matplotlib.cm.inferno\n",
    "cmap_reversed = matplotlib.cm.get_cmap('inferno_r')\n"
   ]
  },
  {
   "cell_type": "code",
   "execution_count": null,
   "id": "224a5cf0-8274-4efc-bba1-5560bf5a5cca",
   "metadata": {},
   "outputs": [],
   "source": [
    "xvals = [RAMIN,RAMAX,RAMAX,RAMIN,RAMIN]\n",
    "yvals = [DECMIN,DECMIN,DECMAX,DECMAX,DECMIN]"
   ]
  },
  {
   "cell_type": "code",
   "execution_count": null,
   "id": "721b29b6-9a4b-4be0-8ac5-e78b0e1e024e",
   "metadata": {},
   "outputs": [],
   "source": [
    "MAGCUT = 12\n",
    "\n",
    "cut = (df[variable_names[0] ] < MAGCUT)  & (df[variable_names[1] ] < MAGCUT) & (df[variable_names[2] ] < MAGCUT) & (df[variable_names[0] ] < MAGCUT)\n",
    "\n",
    "df_cut = df[cut]\n",
    "my_colors = df_cut[\"i_mag\"].values\n",
    "fig, ax = plt.subplots(ncols=1,nrows=1,figsize=(8,8))\n",
    "\n",
    "im = df_cut.plot.scatter('ra','dec',ax=ax,marker='o',color=my_colors,cmap=\"jet_r\")\n",
    "ax.plot(xvals,yvals,color='k')\n",
    "ax.grid()\n",
    "\n",
    "#cbar = plt.colorbar(ax.collections[0], ax=ax)\n",
    "plt.gca().set_aspect('equal')\n",
    "title = f\"catalog sources m_I<{MAGCUT} mag in tract {TRACT_SEL}\"\n",
    "plt.title(title)"
   ]
  },
  {
   "cell_type": "code",
   "execution_count": null,
   "id": "14b0e4cb-d537-4f09-ab9e-0fa7847dfd53",
   "metadata": {},
   "outputs": [],
   "source": []
  }
 ],
 "metadata": {
  "kernelspec": {
   "display_name": "LSST",
   "language": "python",
   "name": "lsst"
  },
  "language_info": {
   "codemirror_mode": {
    "name": "ipython",
    "version": 3
   },
   "file_extension": ".py",
   "mimetype": "text/x-python",
   "name": "python",
   "nbconvert_exporter": "python",
   "pygments_lexer": "ipython3",
   "version": "3.11.7"
  }
 },
 "nbformat": 4,
 "nbformat_minor": 5
}
