{
 "cells": [
  {
   "cell_type": "markdown",
   "id": "8608d6fb-20fc-4b07-ba88-74e9b45cdf25",
   "metadata": {},
   "source": [
    "# Analyse  Src"
   ]
  },
  {
   "cell_type": "markdown",
   "id": "667ba03e-ddfb-47fd-bee3-3824f9be7ae5",
   "metadata": {},
   "source": [
    " work with Weakly_2024_07\n",
    "- use jupyter kernel LSST\n",
    "\n",
    "\n",
    "- author : Sylvie Dagoret-Campagne\n",
    "- affiliation : IJCLab\n",
    "- creation date : 2024/02/25\n",
    "- update : 2024/02/27\n"
   ]
  },
  {
   "cell_type": "code",
   "execution_count": 1,
   "id": "058012ec-9888-4b97-9fe2-57595e1bc0e7",
   "metadata": {
    "execution": {
     "iopub.execute_input": "2024-02-27T12:37:42.468855Z",
     "iopub.status.busy": "2024-02-27T12:37:42.468707Z",
     "iopub.status.idle": "2024-02-27T12:37:43.149897Z",
     "shell.execute_reply": "2024-02-27T12:37:43.149427Z",
     "shell.execute_reply.started": "2024-02-27T12:37:42.468841Z"
    }
   },
   "outputs": [],
   "source": [
    "import numpy as np\n",
    "import matplotlib.pyplot as plt\n",
    "%matplotlib inline\n",
    "from mpl_toolkits.axes_grid1 import make_axes_locatable\n",
    "from matplotlib.colors import LogNorm,SymLogNorm\n",
    "\n",
    "\n",
    "import matplotlib.ticker                         # here's where the formatter is\n",
    "from matplotlib.ticker import (MultipleLocator, FormatStrFormatter,\n",
    "                               AutoMinorLocator)\n",
    "from astropy.visualization import (MinMaxInterval, SqrtStretch,ZScaleInterval,PercentileInterval,\n",
    "                                   ImageNormalize,imshow_norm)\n",
    "from astropy.visualization.stretch import SinhStretch, LinearStretch,AsinhStretch,LogStretch\n",
    "from astropy.io import fits\n",
    "import astropy.coordinates as coord\n",
    "import astropy.units as u\n",
    "import pandas as pd\n",
    "\n",
    "import matplotlib.ticker                         # here's where the formatter is\n",
    "import os\n",
    "import re\n",
    "import pandas as pd\n",
    "\n",
    "plt.rcParams[\"figure.figsize\"] = (4,3)\n",
    "plt.rcParams[\"axes.labelsize\"] = 'xx-large'\n",
    "plt.rcParams['axes.titlesize'] = 'xx-large'\n",
    "plt.rcParams['xtick.labelsize']= 'xx-large'\n",
    "plt.rcParams['ytick.labelsize']= 'xx-large'"
   ]
  },
  {
   "cell_type": "code",
   "execution_count": 2,
   "id": "907f5257-e80b-4336-b41f-5bf3745571bf",
   "metadata": {
    "execution": {
     "iopub.execute_input": "2024-02-27T12:37:43.150922Z",
     "iopub.status.busy": "2024-02-27T12:37:43.150557Z",
     "iopub.status.idle": "2024-02-27T12:37:43.153018Z",
     "shell.execute_reply": "2024-02-27T12:37:43.152588Z",
     "shell.execute_reply.started": "2024-02-27T12:37:43.150906Z"
    }
   },
   "outputs": [],
   "source": [
    "#filesource_in=\"preSourceTable_202312.csv\"\n",
    "filesource_in=\"src_202402.csv\""
   ]
  },
  {
   "cell_type": "code",
   "execution_count": 3,
   "id": "a4c4bc49-f65a-441c-8f51-82a27f7887d2",
   "metadata": {
    "execution": {
     "iopub.execute_input": "2024-02-27T12:37:43.153621Z",
     "iopub.status.busy": "2024-02-27T12:37:43.153499Z",
     "iopub.status.idle": "2024-02-27T12:39:31.186776Z",
     "shell.execute_reply": "2024-02-27T12:39:31.186163Z",
     "shell.execute_reply.started": "2024-02-27T12:37:43.153610Z"
    }
   },
   "outputs": [
    {
     "name": "stderr",
     "output_type": "stream",
     "text": [
      "/tmp/ipykernel_21070/3269988767.py:1: DtypeWarning: Columns (483,484,485,496,499,504,505,506,507,514,515,516,521,522,525,527,529,530,531) have mixed types. Specify dtype option on import or set low_memory=False.\n",
      "  df = pd.read_csv(filesource_in)\n"
     ]
    }
   ],
   "source": [
    "df = pd.read_csv(filesource_in,index_col=0)"
   ]
  },
  {
   "cell_type": "code",
   "execution_count": 5,
   "id": "e90bae66-a9d9-482e-b5ef-e737f92bd965",
   "metadata": {
    "execution": {
     "iopub.execute_input": "2024-02-27T12:39:31.477762Z",
     "iopub.status.busy": "2024-02-27T12:39:31.477619Z",
     "iopub.status.idle": "2024-02-27T12:39:35.023290Z",
     "shell.execute_reply": "2024-02-27T12:39:35.022914Z",
     "shell.execute_reply.started": "2024-02-27T12:39:31.477742Z"
    }
   },
   "outputs": [],
   "source": [
    "df.dropna(axis=1, how='all',inplace =True)"
   ]
  },
  {
   "cell_type": "code",
   "execution_count": null,
   "id": "63b1b80b-dcd3-485d-9dba-d8cadd45c54d",
   "metadata": {},
   "outputs": [],
   "source": [
    "df[\"nightObs\"] =df.apply(lambda x: x['visitId']//100_000, axis=1)"
   ]
  },
  {
   "cell_type": "code",
   "execution_count": 6,
   "id": "01717b67-ecd3-4a3d-9912-fb69a7f611fe",
   "metadata": {
    "execution": {
     "iopub.execute_input": "2024-02-27T12:39:35.023970Z",
     "iopub.status.busy": "2024-02-27T12:39:35.023801Z",
     "iopub.status.idle": "2024-02-27T12:39:35.027694Z",
     "shell.execute_reply": "2024-02-27T12:39:35.027406Z",
     "shell.execute_reply.started": "2024-02-27T12:39:35.023958Z"
    }
   },
   "outputs": [
    {
     "name": "stdout",
     "output_type": "stream",
     "text": [
      "Unnamed: 0\n",
      "id\n",
      "coord_ra\n",
      "coord_dec\n",
      "parent\n",
      "calib_detected\n",
      "calib_psf_candidate\n",
      "calib_psf_used\n",
      "calib_psf_reserved\n",
      "coord_raErr\n",
      "coord_decErr\n",
      "coord_ra_dec_Cov\n",
      "deblend_nChild\n",
      "deblend_deblendedAsPsf\n",
      "deblend_psfCenter_x\n",
      "deblend_psfCenter_y\n",
      "deblend_psf_instFlux\n",
      "deblend_tooManyPeaks\n",
      "deblend_parentTooBig\n",
      "deblend_masked\n",
      "deblend_failed\n",
      "deblend_skipped\n",
      "deblend_rampedTemplate\n",
      "deblend_patchedTemplate\n",
      "deblend_hasStrayFlux\n",
      "deblend_peak_center_x\n",
      "deblend_peak_center_y\n",
      "deblend_peakId\n",
      "deblend_nPeaks\n",
      "deblend_parentNPeaks\n",
      "sky_source\n",
      "base_NaiveCentroid_x\n",
      "base_NaiveCentroid_y\n",
      "base_NaiveCentroid_flag\n",
      "base_NaiveCentroid_flag_noCounts\n",
      "base_NaiveCentroid_flag_edge\n",
      "base_NaiveCentroid_flag_resetToPeak\n",
      "base_SdssCentroid_x\n",
      "slot_Centroid_x\n",
      "base_SdssCentroid_y\n",
      "slot_Centroid_y\n",
      "base_SdssCentroid_xErr\n",
      "slot_Centroid_xErr\n",
      "base_SdssCentroid_yErr\n",
      "slot_Centroid_yErr\n",
      "base_SdssCentroid_flag\n",
      "base_CircularApertureFlux_flag_badCentroid\n",
      "base_GaussianFlux_flag_badCentroid\n",
      "base_LocalBackground_flag_badCentroid\n",
      "base_NaiveCentroid_flag_badInitialCentroid\n",
      "base_PsfFlux_flag_badCentroid\n",
      "base_SdssShape_flag_badCentroid\n",
      "base_Variance_flag_badCentroid\n",
      "ext_photometryKron_KronFlux_flag_badInitialCentroid\n",
      "ext_shapeHSM_HigherOrderMomentsPSF_flag_badCentroid\n",
      "ext_shapeHSM_HsmPsfMomentsDebiased_flag_badCentroid\n",
      "ext_shapeHSM_HsmPsfMoments_flag_badCentroid\n",
      "ext_shapeHSM_HsmShapeRegauss_flag_badCentroid\n",
      "ext_shapeHSM_HsmSourceMomentsRound_flag_badCentroid\n",
      "ext_shapeHSM_HsmSourceMoments_flag_badCentroid\n",
      "slot_Centroid_flag\n",
      "base_SdssCentroid_flag_edge\n",
      "base_CircularApertureFlux_flag_badCentroid_edge\n",
      "base_GaussianFlux_flag_badCentroid_edge\n",
      "base_LocalBackground_flag_badCentroid_edge\n",
      "base_NaiveCentroid_flag_badInitialCentroid_edge\n",
      "base_PsfFlux_flag_badCentroid_edge\n",
      "base_SdssShape_flag_badCentroid_edge\n",
      "base_Variance_flag_badCentroid_edge\n",
      "ext_photometryKron_KronFlux_flag_badInitialCentroid_edge\n",
      "ext_shapeHSM_HigherOrderMomentsPSF_flag_badCentroid_edge\n",
      "ext_shapeHSM_HsmPsfMomentsDebiased_flag_badCentroid_edge\n",
      "ext_shapeHSM_HsmPsfMoments_flag_badCentroid_edge\n",
      "ext_shapeHSM_HsmShapeRegauss_flag_badCentroid_edge\n",
      "ext_shapeHSM_HsmSourceMomentsRound_flag_badCentroid_edge\n",
      "ext_shapeHSM_HsmSourceMoments_flag_badCentroid_edge\n",
      "slot_Centroid_flag_edge\n",
      "base_SdssCentroid_flag_noSecondDerivative\n",
      "base_CircularApertureFlux_flag_badCentroid_noSecondDerivative\n",
      "base_GaussianFlux_flag_badCentroid_noSecondDerivative\n",
      "base_LocalBackground_flag_badCentroid_noSecondDerivative\n",
      "base_NaiveCentroid_flag_badInitialCentroid_noSecondDerivative\n",
      "base_PsfFlux_flag_badCentroid_noSecondDerivative\n",
      "base_SdssShape_flag_badCentroid_noSecondDerivative\n",
      "base_Variance_flag_badCentroid_noSecondDerivative\n",
      "ext_photometryKron_KronFlux_flag_badInitialCentroid_noSecondDerivative\n",
      "ext_shapeHSM_HigherOrderMomentsPSF_flag_badCentroid_noSecondDerivative\n",
      "ext_shapeHSM_HsmPsfMomentsDebiased_flag_badCentroid_noSecondDerivative\n",
      "ext_shapeHSM_HsmPsfMoments_flag_badCentroid_noSecondDerivative\n",
      "ext_shapeHSM_HsmShapeRegauss_flag_badCentroid_noSecondDerivative\n",
      "ext_shapeHSM_HsmSourceMomentsRound_flag_badCentroid_noSecondDerivative\n",
      "ext_shapeHSM_HsmSourceMoments_flag_badCentroid_noSecondDerivative\n",
      "slot_Centroid_flag_noSecondDerivative\n",
      "base_SdssCentroid_flag_almostNoSecondDerivative\n",
      "base_CircularApertureFlux_flag_badCentroid_almostNoSecondDerivative\n",
      "base_GaussianFlux_flag_badCentroid_almostNoSecondDerivative\n",
      "base_LocalBackground_flag_badCentroid_almostNoSecondDerivative\n",
      "base_NaiveCentroid_flag_badInitialCentroid_almostNoSecondDerivative\n",
      "base_PsfFlux_flag_badCentroid_almostNoSecondDerivative\n",
      "base_SdssShape_flag_badCentroid_almostNoSecondDerivative\n",
      "base_Variance_flag_badCentroid_almostNoSecondDerivative\n",
      "ext_photometryKron_KronFlux_flag_badInitialCentroid_almostNoSecondDerivative\n",
      "ext_shapeHSM_HigherOrderMomentsPSF_flag_badCentroid_almostNoSecondDerivative\n",
      "ext_shapeHSM_HsmPsfMomentsDebiased_flag_badCentroid_almostNoSecondDerivative\n",
      "ext_shapeHSM_HsmPsfMoments_flag_badCentroid_almostNoSecondDerivative\n",
      "ext_shapeHSM_HsmShapeRegauss_flag_badCentroid_almostNoSecondDerivative\n",
      "ext_shapeHSM_HsmSourceMomentsRound_flag_badCentroid_almostNoSecondDerivative\n",
      "ext_shapeHSM_HsmSourceMoments_flag_badCentroid_almostNoSecondDerivative\n",
      "slot_Centroid_flag_almostNoSecondDerivative\n",
      "base_SdssCentroid_flag_notAtMaximum\n",
      "base_CircularApertureFlux_flag_badCentroid_notAtMaximum\n",
      "base_GaussianFlux_flag_badCentroid_notAtMaximum\n",
      "base_LocalBackground_flag_badCentroid_notAtMaximum\n",
      "base_NaiveCentroid_flag_badInitialCentroid_notAtMaximum\n",
      "base_PsfFlux_flag_badCentroid_notAtMaximum\n",
      "base_SdssShape_flag_badCentroid_notAtMaximum\n",
      "base_Variance_flag_badCentroid_notAtMaximum\n",
      "ext_photometryKron_KronFlux_flag_badInitialCentroid_notAtMaximum\n",
      "ext_shapeHSM_HigherOrderMomentsPSF_flag_badCentroid_notAtMaximum\n",
      "ext_shapeHSM_HsmPsfMomentsDebiased_flag_badCentroid_notAtMaximum\n",
      "ext_shapeHSM_HsmPsfMoments_flag_badCentroid_notAtMaximum\n",
      "ext_shapeHSM_HsmShapeRegauss_flag_badCentroid_notAtMaximum\n",
      "ext_shapeHSM_HsmSourceMomentsRound_flag_badCentroid_notAtMaximum\n",
      "ext_shapeHSM_HsmSourceMoments_flag_badCentroid_notAtMaximum\n",
      "slot_Centroid_flag_notAtMaximum\n",
      "base_SdssCentroid_flag_near_edge\n",
      "base_CircularApertureFlux_flag_badCentroid_near_edge\n",
      "base_GaussianFlux_flag_badCentroid_near_edge\n",
      "base_LocalBackground_flag_badCentroid_near_edge\n",
      "base_NaiveCentroid_flag_badInitialCentroid_near_edge\n",
      "base_PsfFlux_flag_badCentroid_near_edge\n",
      "base_SdssShape_flag_badCentroid_near_edge\n",
      "base_Variance_flag_badCentroid_near_edge\n",
      "ext_photometryKron_KronFlux_flag_badInitialCentroid_near_edge\n",
      "ext_shapeHSM_HigherOrderMomentsPSF_flag_badCentroid_near_edge\n",
      "ext_shapeHSM_HsmPsfMomentsDebiased_flag_badCentroid_near_edge\n",
      "ext_shapeHSM_HsmPsfMoments_flag_badCentroid_near_edge\n",
      "ext_shapeHSM_HsmShapeRegauss_flag_badCentroid_near_edge\n",
      "ext_shapeHSM_HsmSourceMomentsRound_flag_badCentroid_near_edge\n",
      "ext_shapeHSM_HsmSourceMoments_flag_badCentroid_near_edge\n",
      "slot_Centroid_flag_near_edge\n",
      "base_SdssCentroid_flag_resetToPeak\n",
      "base_CircularApertureFlux_flag_badCentroid_resetToPeak\n",
      "base_GaussianFlux_flag_badCentroid_resetToPeak\n",
      "base_LocalBackground_flag_badCentroid_resetToPeak\n",
      "base_NaiveCentroid_flag_badInitialCentroid_resetToPeak\n",
      "base_PsfFlux_flag_badCentroid_resetToPeak\n",
      "base_SdssShape_flag_badCentroid_resetToPeak\n",
      "base_Variance_flag_badCentroid_resetToPeak\n",
      "ext_photometryKron_KronFlux_flag_badInitialCentroid_resetToPeak\n",
      "ext_shapeHSM_HigherOrderMomentsPSF_flag_badCentroid_resetToPeak\n",
      "ext_shapeHSM_HsmPsfMomentsDebiased_flag_badCentroid_resetToPeak\n",
      "ext_shapeHSM_HsmPsfMoments_flag_badCentroid_resetToPeak\n",
      "ext_shapeHSM_HsmShapeRegauss_flag_badCentroid_resetToPeak\n",
      "ext_shapeHSM_HsmSourceMomentsRound_flag_badCentroid_resetToPeak\n",
      "ext_shapeHSM_HsmSourceMoments_flag_badCentroid_resetToPeak\n",
      "slot_Centroid_flag_resetToPeak\n",
      "base_SdssCentroid_flag_badError\n",
      "base_CircularApertureFlux_flag_badCentroid_badError\n",
      "base_GaussianFlux_flag_badCentroid_badError\n",
      "base_LocalBackground_flag_badCentroid_badError\n",
      "base_NaiveCentroid_flag_badInitialCentroid_badError\n",
      "base_PsfFlux_flag_badCentroid_badError\n",
      "base_SdssShape_flag_badCentroid_badError\n",
      "base_Variance_flag_badCentroid_badError\n",
      "ext_photometryKron_KronFlux_flag_badInitialCentroid_badError\n",
      "ext_shapeHSM_HigherOrderMomentsPSF_flag_badCentroid_badError\n",
      "ext_shapeHSM_HsmPsfMomentsDebiased_flag_badCentroid_badError\n",
      "ext_shapeHSM_HsmPsfMoments_flag_badCentroid_badError\n",
      "ext_shapeHSM_HsmShapeRegauss_flag_badCentroid_badError\n",
      "ext_shapeHSM_HsmSourceMomentsRound_flag_badCentroid_badError\n",
      "ext_shapeHSM_HsmSourceMoments_flag_badCentroid_badError\n",
      "slot_Centroid_flag_badError\n",
      "base_Blendedness_old\n",
      "base_Blendedness_raw\n",
      "base_Blendedness_raw_child_instFlux\n",
      "base_Blendedness_raw_parent_instFlux\n",
      "base_Blendedness_abs\n",
      "base_Blendedness_abs_child_instFlux\n",
      "base_Blendedness_abs_parent_instFlux\n",
      "base_Blendedness_raw_child_xx\n",
      "base_Blendedness_raw_child_yy\n",
      "base_Blendedness_raw_child_xy\n",
      "base_Blendedness_raw_parent_xx\n",
      "base_Blendedness_raw_parent_yy\n",
      "base_Blendedness_raw_parent_xy\n",
      "base_Blendedness_abs_child_xx\n",
      "base_Blendedness_abs_child_yy\n",
      "base_Blendedness_abs_child_xy\n",
      "base_Blendedness_abs_parent_xx\n",
      "base_Blendedness_abs_parent_yy\n",
      "base_Blendedness_abs_parent_xy\n",
      "base_Blendedness_flag\n",
      "base_Blendedness_flag_noCentroid\n",
      "base_Blendedness_flag_noShape\n",
      "base_FPPosition_x\n",
      "base_FPPosition_y\n",
      "base_FPPosition_flag\n",
      "base_FPPosition_missingDetector_flag\n",
      "base_Jacobian_value\n",
      "base_Jacobian_flag\n",
      "base_SdssShape_xx\n",
      "base_SdssShape_yy\n",
      "base_SdssShape_xy\n",
      "base_SdssShape_xxErr\n",
      "base_SdssShape_yyErr\n",
      "base_SdssShape_xyErr\n",
      "base_SdssShape_x\n",
      "base_SdssShape_y\n",
      "base_SdssShape_instFlux\n",
      "base_SdssShape_instFluxErr\n",
      "base_SdssShape_psf_xx\n",
      "base_SdssShape_psf_yy\n",
      "base_SdssShape_psf_xy\n",
      "base_SdssShape_instFlux_xx_Cov\n",
      "base_SdssShape_instFlux_yy_Cov\n",
      "base_SdssShape_instFlux_xy_Cov\n",
      "base_SdssShape_flag\n",
      "base_SdssShape_flag_unweightedBad\n",
      "base_SdssShape_flag_unweighted\n",
      "base_SdssShape_flag_shift\n",
      "base_SdssShape_flag_maxIter\n",
      "base_SdssShape_flag_psf\n",
      "ext_shapeHSM_HsmPsfMoments_flag\n",
      "slot_PsfShape_flag\n",
      "ext_shapeHSM_HsmPsfMoments_flag_no_pixels\n",
      "slot_PsfShape_flag_no_pixels\n",
      "ext_shapeHSM_HsmPsfMoments_flag_not_contained\n",
      "slot_PsfShape_flag_not_contained\n",
      "ext_shapeHSM_HsmPsfMoments_flag_parent_source\n",
      "slot_PsfShape_flag_parent_source\n",
      "ext_shapeHSM_HsmPsfMoments_flag_galsim\n",
      "slot_PsfShape_flag_galsim\n",
      "ext_shapeHSM_HsmPsfMoments_flag_invalid_param\n",
      "slot_PsfShape_flag_invalid_param\n",
      "ext_shapeHSM_HsmPsfMoments_flag_edge\n",
      "slot_PsfShape_flag_edge\n",
      "ext_shapeHSM_HsmPsfMoments_flag_no_psf\n",
      "slot_PsfShape_flag_no_psf\n",
      "ext_shapeHSM_HsmPsfMoments_x\n",
      "slot_PsfShape_x\n",
      "ext_shapeHSM_HsmPsfMoments_y\n",
      "slot_PsfShape_y\n",
      "ext_shapeHSM_HsmPsfMoments_xx\n",
      "slot_PsfShape_xx\n",
      "ext_shapeHSM_HsmPsfMoments_yy\n",
      "slot_PsfShape_yy\n",
      "ext_shapeHSM_HsmPsfMoments_xy\n",
      "slot_PsfShape_xy\n",
      "ext_shapeHSM_HsmShapeRegauss_flag\n",
      "ext_shapeHSM_HsmShapeRegauss_flag_no_pixels\n",
      "ext_shapeHSM_HsmShapeRegauss_flag_not_contained\n",
      "ext_shapeHSM_HsmShapeRegauss_flag_parent_source\n",
      "ext_shapeHSM_HsmShapeRegauss_flag_galsim\n",
      "ext_shapeHSM_HsmSourceMoments_flag\n",
      "base_GaussianFlux_flag_badShape\n",
      "slot_Shape_flag\n",
      "ext_shapeHSM_HsmSourceMoments_flag_no_pixels\n",
      "base_GaussianFlux_flag_badShape_no_pixels\n",
      "slot_Shape_flag_no_pixels\n",
      "ext_shapeHSM_HsmSourceMoments_flag_not_contained\n",
      "base_GaussianFlux_flag_badShape_not_contained\n",
      "slot_Shape_flag_not_contained\n",
      "ext_shapeHSM_HsmSourceMoments_flag_parent_source\n",
      "base_GaussianFlux_flag_badShape_parent_source\n",
      "slot_Shape_flag_parent_source\n",
      "ext_shapeHSM_HsmSourceMoments_flag_galsim\n",
      "base_GaussianFlux_flag_badShape_galsim\n",
      "slot_Shape_flag_galsim\n",
      "ext_shapeHSM_HsmSourceMoments_flag_invalid_param\n",
      "base_GaussianFlux_flag_badShape_invalid_param\n",
      "slot_Shape_flag_invalid_param\n",
      "ext_shapeHSM_HsmSourceMoments_flag_edge\n",
      "base_GaussianFlux_flag_badShape_edge\n",
      "slot_Shape_flag_edge\n",
      "ext_shapeHSM_HsmSourceMoments_flag_no_psf\n",
      "base_GaussianFlux_flag_badShape_no_psf\n",
      "slot_Shape_flag_no_psf\n",
      "ext_shapeHSM_HsmSourceMoments_x\n",
      "slot_Shape_x\n",
      "ext_shapeHSM_HsmSourceMoments_y\n",
      "slot_Shape_y\n",
      "ext_shapeHSM_HsmSourceMoments_xx\n",
      "slot_Shape_xx\n",
      "ext_shapeHSM_HsmSourceMoments_yy\n",
      "slot_Shape_yy\n",
      "ext_shapeHSM_HsmSourceMoments_xy\n",
      "slot_Shape_xy\n",
      "ext_shapeHSM_HsmSourceMomentsRound_flag\n",
      "slot_ShapeRound_flag\n",
      "ext_shapeHSM_HsmSourceMomentsRound_flag_no_pixels\n",
      "slot_ShapeRound_flag_no_pixels\n",
      "ext_shapeHSM_HsmSourceMomentsRound_flag_not_contained\n",
      "slot_ShapeRound_flag_not_contained\n",
      "ext_shapeHSM_HsmSourceMomentsRound_flag_parent_source\n",
      "slot_ShapeRound_flag_parent_source\n",
      "ext_shapeHSM_HsmSourceMomentsRound_flag_galsim\n",
      "slot_ShapeRound_flag_galsim\n",
      "ext_shapeHSM_HsmSourceMomentsRound_flag_invalid_param\n",
      "slot_ShapeRound_flag_invalid_param\n",
      "ext_shapeHSM_HsmSourceMomentsRound_flag_edge\n",
      "slot_ShapeRound_flag_edge\n",
      "ext_shapeHSM_HsmSourceMomentsRound_flag_no_psf\n",
      "slot_ShapeRound_flag_no_psf\n",
      "ext_shapeHSM_HsmSourceMomentsRound_x\n",
      "slot_ShapeRound_x\n",
      "ext_shapeHSM_HsmSourceMomentsRound_y\n",
      "slot_ShapeRound_y\n",
      "ext_shapeHSM_HsmSourceMomentsRound_xx\n",
      "slot_ShapeRound_xx\n",
      "ext_shapeHSM_HsmSourceMomentsRound_yy\n",
      "slot_ShapeRound_yy\n",
      "ext_shapeHSM_HsmSourceMomentsRound_xy\n",
      "slot_ShapeRound_xy\n",
      "base_CircularApertureFlux_3_0_instFlux\n",
      "base_CircularApertureFlux_3_0_instFluxErr\n",
      "base_CircularApertureFlux_3_0_flag\n",
      "base_CircularApertureFlux_3_0_flag_apertureTruncated\n",
      "base_CircularApertureFlux_3_0_flag_sincCoeffsTruncated\n",
      "base_CircularApertureFlux_4_5_instFlux\n",
      "base_CircularApertureFlux_4_5_instFluxErr\n",
      "base_CircularApertureFlux_4_5_flag\n",
      "base_CircularApertureFlux_4_5_flag_apertureTruncated\n",
      "base_CircularApertureFlux_4_5_flag_sincCoeffsTruncated\n",
      "base_CircularApertureFlux_6_0_instFlux\n",
      "base_CircularApertureFlux_6_0_instFluxErr\n",
      "base_CircularApertureFlux_6_0_flag\n",
      "base_CircularApertureFlux_6_0_flag_apertureTruncated\n",
      "base_CircularApertureFlux_6_0_flag_sincCoeffsTruncated\n",
      "base_CircularApertureFlux_9_0_instFlux\n",
      "base_CircularApertureFlux_9_0_instFluxErr\n",
      "base_CircularApertureFlux_9_0_flag\n",
      "base_CircularApertureFlux_9_0_flag_apertureTruncated\n",
      "base_CircularApertureFlux_9_0_flag_sincCoeffsTruncated\n",
      "base_CircularApertureFlux_12_0_instFlux\n",
      "base_CircularApertureFlux_12_0_instFluxErr\n",
      "base_CircularApertureFlux_12_0_flag\n",
      "base_CircularApertureFlux_12_0_flag_apertureTruncated\n",
      "base_CircularApertureFlux_12_0_flag_sincCoeffsTruncated\n",
      "base_CircularApertureFlux_17_0_instFlux\n",
      "base_CircularApertureFlux_17_0_instFluxErr\n",
      "base_CircularApertureFlux_17_0_flag\n",
      "base_CircularApertureFlux_17_0_flag_apertureTruncated\n",
      "base_CircularApertureFlux_25_0_instFlux\n",
      "base_CircularApertureFlux_25_0_instFluxErr\n",
      "base_CircularApertureFlux_25_0_flag\n",
      "base_CircularApertureFlux_25_0_flag_apertureTruncated\n",
      "base_CircularApertureFlux_35_0_instFlux\n",
      "slot_ApFlux_instFlux\n",
      "slot_CalibFlux_instFlux\n",
      "base_CircularApertureFlux_35_0_instFluxErr\n",
      "slot_ApFlux_instFluxErr\n",
      "slot_CalibFlux_instFluxErr\n",
      "base_CircularApertureFlux_35_0_flag\n",
      "slot_ApFlux_flag\n",
      "slot_CalibFlux_flag\n",
      "base_CircularApertureFlux_35_0_flag_apertureTruncated\n",
      "slot_ApFlux_flag_apertureTruncated\n",
      "slot_CalibFlux_flag_apertureTruncated\n",
      "base_CircularApertureFlux_50_0_instFlux\n",
      "base_CircularApertureFlux_50_0_instFluxErr\n",
      "base_CircularApertureFlux_50_0_flag\n",
      "base_CircularApertureFlux_50_0_flag_apertureTruncated\n",
      "base_CircularApertureFlux_70_0_instFlux\n",
      "base_CircularApertureFlux_70_0_instFluxErr\n",
      "base_CircularApertureFlux_70_0_flag\n",
      "base_CircularApertureFlux_70_0_flag_apertureTruncated\n",
      "base_ClassificationSizeExtendedness_value\n",
      "base_ClassificationSizeExtendedness_flag\n",
      "base_CompensatedGaussianFlux_flag\n",
      "base_CompensatedGaussianFlux_bounds_flag\n",
      "base_CompensatedGaussianFlux_3_instFlux\n",
      "base_CompensatedGaussianFlux_3_instFluxErr\n",
      "base_CompensatedGaussianFlux_3_mask_bits\n",
      "base_CompensatedGaussianFlux_5_instFlux\n",
      "base_CompensatedGaussianFlux_5_instFluxErr\n",
      "base_CompensatedGaussianFlux_5_mask_bits\n",
      "base_GaussianFlux_instFlux\n",
      "slot_GaussianFlux_instFlux\n",
      "slot_ModelFlux_instFlux\n",
      "base_GaussianFlux_instFluxErr\n",
      "slot_GaussianFlux_instFluxErr\n",
      "slot_ModelFlux_instFluxErr\n",
      "base_GaussianFlux_flag\n",
      "slot_GaussianFlux_flag\n",
      "slot_ModelFlux_flag\n",
      "base_LocalBackground_instFlux\n",
      "base_LocalBackground_instFluxErr\n",
      "base_LocalBackground_flag\n",
      "base_LocalBackground_flag_noGoodPixels\n",
      "base_LocalBackground_flag_noPsf\n",
      "base_PixelFlags_flag\n",
      "base_PixelFlags_flag_offimage\n",
      "base_PixelFlags_flag_edge\n",
      "base_PixelFlags_flag_interpolated\n",
      "base_PixelFlags_flag_saturated\n",
      "base_PixelFlags_flag_cr\n",
      "base_PixelFlags_flag_bad\n",
      "base_PixelFlags_flag_suspect\n",
      "base_PixelFlags_flag_interpolatedCenter\n",
      "base_PixelFlags_flag_saturatedCenter\n",
      "base_PixelFlags_flag_crCenter\n",
      "base_PixelFlags_flag_badCenter\n",
      "base_PixelFlags_flag_suspectCenter\n",
      "base_PixelFlags_flag_interpolatedCenterAll\n",
      "base_PixelFlags_flag_saturatedCenterAll\n",
      "base_PixelFlags_flag_crCenterAll\n",
      "base_PixelFlags_flag_badCenterAll\n",
      "base_PixelFlags_flag_suspectCenterAll\n",
      "base_PixelFlags_flag_streakCenter\n",
      "base_PixelFlags_flag_streakCenterAll\n",
      "base_PixelFlags_flag_streak\n",
      "base_PsfFlux_instFlux\n",
      "slot_PsfFlux_instFlux\n",
      "base_PsfFlux_instFluxErr\n",
      "slot_PsfFlux_instFluxErr\n",
      "base_PsfFlux_area\n",
      "slot_PsfFlux_area\n",
      "base_PsfFlux_chi2\n",
      "slot_PsfFlux_chi2\n",
      "base_PsfFlux_npixels\n",
      "slot_PsfFlux_npixels\n",
      "base_PsfFlux_flag\n",
      "slot_PsfFlux_flag\n",
      "base_PsfFlux_flag_noGoodPixels\n",
      "slot_PsfFlux_flag_noGoodPixels\n",
      "base_PsfFlux_flag_edge\n",
      "slot_PsfFlux_flag_edge\n",
      "base_Variance_flag\n",
      "base_Variance_value\n",
      "base_Variance_flag_emptyFootprint\n",
      "ext_photometryKron_KronFlux_instFlux\n",
      "ext_photometryKron_KronFlux_instFluxErr\n",
      "ext_photometryKron_KronFlux_radius\n",
      "ext_photometryKron_KronFlux_radius_for_radius\n",
      "ext_photometryKron_KronFlux_psf_radius\n",
      "ext_photometryKron_KronFlux_flag\n",
      "ext_photometryKron_KronFlux_flag_edge\n",
      "ext_photometryKron_KronFlux_flag_bad_shape_no_psf\n",
      "ext_photometryKron_KronFlux_flag_no_minimum_radius\n",
      "ext_photometryKron_KronFlux_flag_no_fallback_radius\n",
      "ext_photometryKron_KronFlux_flag_bad_radius\n",
      "ext_photometryKron_KronFlux_flag_used_minimum_radius\n",
      "ext_photometryKron_KronFlux_flag_used_psf_radius\n",
      "ext_photometryKron_KronFlux_flag_small_radius\n",
      "ext_photometryKron_KronFlux_flag_bad_shape\n",
      "ext_shapeHSM_HigherOrderMomentsPSF_flag\n",
      "ext_shapeHSM_HigherOrderMomentsPSF_03\n",
      "ext_shapeHSM_HigherOrderMomentsPSF_12\n",
      "ext_shapeHSM_HigherOrderMomentsPSF_21\n",
      "ext_shapeHSM_HigherOrderMomentsPSF_30\n",
      "ext_shapeHSM_HigherOrderMomentsPSF_04\n",
      "ext_shapeHSM_HigherOrderMomentsPSF_13\n",
      "ext_shapeHSM_HigherOrderMomentsPSF_22\n",
      "ext_shapeHSM_HigherOrderMomentsPSF_31\n",
      "ext_shapeHSM_HigherOrderMomentsPSF_40\n",
      "ext_shapeHSM_HigherOrderMomentsSource_flag\n",
      "ext_shapeHSM_HigherOrderMomentsSource_03\n",
      "ext_shapeHSM_HigherOrderMomentsSource_12\n",
      "ext_shapeHSM_HigherOrderMomentsSource_21\n",
      "ext_shapeHSM_HigherOrderMomentsSource_30\n",
      "ext_shapeHSM_HigherOrderMomentsSource_04\n",
      "ext_shapeHSM_HigherOrderMomentsSource_13\n",
      "ext_shapeHSM_HigherOrderMomentsSource_22\n",
      "ext_shapeHSM_HigherOrderMomentsSource_31\n",
      "ext_shapeHSM_HigherOrderMomentsSource_40\n",
      "ext_shapeHSM_HsmPsfMomentsDebiased_flag\n",
      "slot_PsfShapeDebiased_flag\n",
      "ext_shapeHSM_HsmPsfMomentsDebiased_flag_no_pixels\n",
      "slot_PsfShapeDebiased_flag_no_pixels\n",
      "ext_shapeHSM_HsmPsfMomentsDebiased_flag_not_contained\n",
      "slot_PsfShapeDebiased_flag_not_contained\n",
      "ext_shapeHSM_HsmPsfMomentsDebiased_flag_parent_source\n",
      "slot_PsfShapeDebiased_flag_parent_source\n",
      "ext_shapeHSM_HsmPsfMomentsDebiased_flag_galsim\n",
      "slot_PsfShapeDebiased_flag_galsim\n",
      "ext_shapeHSM_HsmPsfMomentsDebiased_flag_invalid_param\n",
      "slot_PsfShapeDebiased_flag_invalid_param\n",
      "ext_shapeHSM_HsmPsfMomentsDebiased_flag_edge\n",
      "slot_PsfShapeDebiased_flag_edge\n",
      "ext_shapeHSM_HsmPsfMomentsDebiased_flag_no_psf\n",
      "slot_PsfShapeDebiased_flag_no_psf\n",
      "ext_shapeHSM_HsmPsfMomentsDebiased_x\n",
      "slot_PsfShapeDebiased_x\n",
      "ext_shapeHSM_HsmPsfMomentsDebiased_y\n",
      "slot_PsfShapeDebiased_y\n",
      "ext_shapeHSM_HsmPsfMomentsDebiased_xx\n",
      "slot_PsfShapeDebiased_xx\n",
      "ext_shapeHSM_HsmPsfMomentsDebiased_yy\n",
      "slot_PsfShapeDebiased_yy\n",
      "ext_shapeHSM_HsmPsfMomentsDebiased_xy\n",
      "slot_PsfShapeDebiased_xy\n",
      "base_LocalPhotoCalib_flag\n",
      "base_LocalPhotoCalib\n",
      "base_LocalPhotoCalibErr\n",
      "base_LocalWcs_flag\n",
      "base_LocalWcs_CDMatrix_1_1\n",
      "base_LocalWcs_CDMatrix_1_2\n",
      "base_LocalWcs_CDMatrix_2_1\n",
      "base_LocalWcs_CDMatrix_2_2\n",
      "detect_isPrimary\n",
      "detect_isDeblendedSource\n",
      "detect_fromBlend\n",
      "detect_isIsolated\n",
      "base_GaussianFlux_apCorr\n",
      "slot_GaussianFlux_apCorr\n",
      "slot_ModelFlux_apCorr\n",
      "base_GaussianFlux_apCorrErr\n",
      "slot_GaussianFlux_apCorrErr\n",
      "slot_ModelFlux_apCorrErr\n",
      "base_GaussianFlux_flag_apCorr\n",
      "slot_GaussianFlux_flag_apCorr\n",
      "slot_ModelFlux_flag_apCorr\n",
      "base_PsfFlux_apCorr\n",
      "slot_PsfFlux_apCorr\n",
      "base_PsfFlux_apCorrErr\n",
      "slot_PsfFlux_apCorrErr\n",
      "base_PsfFlux_flag_apCorr\n",
      "slot_PsfFlux_flag_apCorr\n",
      "ext_photometryKron_KronFlux_flag_apCorr\n",
      "base_ClassificationExtendedness_value\n",
      "base_ClassificationExtendedness_flag\n",
      "base_FootprintArea_value\n",
      "calib_astrometry_used\n",
      "calib_photometry_used\n",
      "calib_photometry_reserved\n",
      "visit\n"
     ]
    }
   ],
   "source": [
    "colnames = list(df.columns)\n",
    "for name in colnames:\n",
    "    print(name)"
   ]
  },
  {
   "cell_type": "code",
   "execution_count": 7,
   "id": "4b23eb74-c343-450f-a9ea-bff1b6603972",
   "metadata": {
    "execution": {
     "iopub.execute_input": "2024-02-27T12:39:35.028234Z",
     "iopub.status.busy": "2024-02-27T12:39:35.028112Z",
     "iopub.status.idle": "2024-02-27T12:39:35.610442Z",
     "shell.execute_reply": "2024-02-27T12:39:35.609175Z",
     "shell.execute_reply.started": "2024-02-27T12:39:35.028223Z"
    }
   },
   "outputs": [
    {
     "ename": "KeyError",
     "evalue": "\"['sourceId', 'ccdVisitId', 'x', 'y', 'ra', 'dec', 'psfFlux', 'gaussianFlux', 'band', 'visid_idx', 'mjd', 'dateobs', 'extendedness_flag'] not in index\"",
     "output_type": "error",
     "traceback": [
      "\u001b[0;31m---------------------------------------------------------------------------\u001b[0m",
      "\u001b[0;31mKeyError\u001b[0m                                  Traceback (most recent call last)",
      "Cell \u001b[0;32mIn[7], line 1\u001b[0m\n\u001b[0;32m----> 1\u001b[0m df_sel \u001b[38;5;241m=\u001b[39m \u001b[43mdf\u001b[49m\u001b[43m[\u001b[49m\u001b[43m[\u001b[49m\u001b[38;5;124;43m'\u001b[39;49m\u001b[38;5;124;43msourceId\u001b[39;49m\u001b[38;5;124;43m'\u001b[39;49m\u001b[43m,\u001b[49m\u001b[38;5;124;43m'\u001b[39;49m\u001b[38;5;124;43mccdVisitId\u001b[39;49m\u001b[38;5;124;43m'\u001b[39;49m\u001b[43m,\u001b[49m\u001b[38;5;124;43m'\u001b[39;49m\u001b[38;5;124;43mx\u001b[39;49m\u001b[38;5;124;43m'\u001b[39;49m\u001b[43m,\u001b[49m\u001b[38;5;124;43m'\u001b[39;49m\u001b[38;5;124;43my\u001b[39;49m\u001b[38;5;124;43m'\u001b[39;49m\u001b[43m,\u001b[49m\u001b[38;5;124;43m'\u001b[39;49m\u001b[38;5;124;43mra\u001b[39;49m\u001b[38;5;124;43m'\u001b[39;49m\u001b[43m,\u001b[49m\u001b[38;5;124;43m'\u001b[39;49m\u001b[38;5;124;43mdec\u001b[39;49m\u001b[38;5;124;43m'\u001b[39;49m\u001b[43m,\u001b[49m\u001b[38;5;124;43m'\u001b[39;49m\u001b[38;5;124;43mcoord_ra\u001b[39;49m\u001b[38;5;124;43m'\u001b[39;49m\u001b[43m,\u001b[49m\u001b[38;5;124;43m'\u001b[39;49m\u001b[38;5;124;43mcoord_dec\u001b[39;49m\u001b[38;5;124;43m'\u001b[39;49m\u001b[43m,\u001b[49m\u001b[38;5;124;43m'\u001b[39;49m\u001b[38;5;124;43mpsfFlux\u001b[39;49m\u001b[38;5;124;43m'\u001b[39;49m\u001b[43m,\u001b[49m\u001b[38;5;124;43m'\u001b[39;49m\u001b[38;5;124;43mgaussianFlux\u001b[39;49m\u001b[38;5;124;43m'\u001b[39;49m\u001b[43m,\u001b[49m\u001b[38;5;124;43m'\u001b[39;49m\u001b[38;5;124;43mvisit\u001b[39;49m\u001b[38;5;124;43m'\u001b[39;49m\u001b[43m,\u001b[49m\u001b[38;5;124;43m'\u001b[39;49m\u001b[38;5;124;43mband\u001b[39;49m\u001b[38;5;124;43m'\u001b[39;49m\u001b[43m,\u001b[49m\u001b[38;5;124;43m'\u001b[39;49m\u001b[38;5;124;43mvisid_idx\u001b[39;49m\u001b[38;5;124;43m'\u001b[39;49m\u001b[43m,\u001b[49m\u001b[38;5;124;43m'\u001b[39;49m\u001b[38;5;124;43mmjd\u001b[39;49m\u001b[38;5;124;43m'\u001b[39;49m\u001b[43m,\u001b[49m\u001b[38;5;124;43m'\u001b[39;49m\u001b[38;5;124;43mdateobs\u001b[39;49m\u001b[38;5;124;43m'\u001b[39;49m\u001b[43m,\u001b[49m\u001b[38;5;124;43m'\u001b[39;49m\u001b[38;5;124;43mextendedness_flag\u001b[39;49m\u001b[38;5;124;43m'\u001b[39;49m\u001b[43m,\u001b[49m\u001b[38;5;124;43m'\u001b[39;49m\u001b[38;5;124;43mdetect_isPrimary\u001b[39;49m\u001b[38;5;124;43m'\u001b[39;49m\u001b[43m]\u001b[49m\u001b[43m]\u001b[49m\n",
      "File \u001b[0;32m~/.local/lib/python3.11/site-packages/pandas/core/frame.py:3813\u001b[0m, in \u001b[0;36mDataFrame.__getitem__\u001b[0;34m(self, key)\u001b[0m\n\u001b[1;32m   3811\u001b[0m     \u001b[38;5;28;01mif\u001b[39;00m is_iterator(key):\n\u001b[1;32m   3812\u001b[0m         key \u001b[38;5;241m=\u001b[39m \u001b[38;5;28mlist\u001b[39m(key)\n\u001b[0;32m-> 3813\u001b[0m     indexer \u001b[38;5;241m=\u001b[39m \u001b[38;5;28;43mself\u001b[39;49m\u001b[38;5;241;43m.\u001b[39;49m\u001b[43mcolumns\u001b[49m\u001b[38;5;241;43m.\u001b[39;49m\u001b[43m_get_indexer_strict\u001b[49m\u001b[43m(\u001b[49m\u001b[43mkey\u001b[49m\u001b[43m,\u001b[49m\u001b[43m \u001b[49m\u001b[38;5;124;43m\"\u001b[39;49m\u001b[38;5;124;43mcolumns\u001b[39;49m\u001b[38;5;124;43m\"\u001b[39;49m\u001b[43m)\u001b[49m[\u001b[38;5;241m1\u001b[39m]\n\u001b[1;32m   3815\u001b[0m \u001b[38;5;66;03m# take() does not accept boolean indexers\u001b[39;00m\n\u001b[1;32m   3816\u001b[0m \u001b[38;5;28;01mif\u001b[39;00m \u001b[38;5;28mgetattr\u001b[39m(indexer, \u001b[38;5;124m\"\u001b[39m\u001b[38;5;124mdtype\u001b[39m\u001b[38;5;124m\"\u001b[39m, \u001b[38;5;28;01mNone\u001b[39;00m) \u001b[38;5;241m==\u001b[39m \u001b[38;5;28mbool\u001b[39m:\n",
      "File \u001b[0;32m~/.local/lib/python3.11/site-packages/pandas/core/indexes/base.py:6070\u001b[0m, in \u001b[0;36mIndex._get_indexer_strict\u001b[0;34m(self, key, axis_name)\u001b[0m\n\u001b[1;32m   6067\u001b[0m \u001b[38;5;28;01melse\u001b[39;00m:\n\u001b[1;32m   6068\u001b[0m     keyarr, indexer, new_indexer \u001b[38;5;241m=\u001b[39m \u001b[38;5;28mself\u001b[39m\u001b[38;5;241m.\u001b[39m_reindex_non_unique(keyarr)\n\u001b[0;32m-> 6070\u001b[0m \u001b[38;5;28;43mself\u001b[39;49m\u001b[38;5;241;43m.\u001b[39;49m\u001b[43m_raise_if_missing\u001b[49m\u001b[43m(\u001b[49m\u001b[43mkeyarr\u001b[49m\u001b[43m,\u001b[49m\u001b[43m \u001b[49m\u001b[43mindexer\u001b[49m\u001b[43m,\u001b[49m\u001b[43m \u001b[49m\u001b[43maxis_name\u001b[49m\u001b[43m)\u001b[49m\n\u001b[1;32m   6072\u001b[0m keyarr \u001b[38;5;241m=\u001b[39m \u001b[38;5;28mself\u001b[39m\u001b[38;5;241m.\u001b[39mtake(indexer)\n\u001b[1;32m   6073\u001b[0m \u001b[38;5;28;01mif\u001b[39;00m \u001b[38;5;28misinstance\u001b[39m(key, Index):\n\u001b[1;32m   6074\u001b[0m     \u001b[38;5;66;03m# GH 42790 - Preserve name from an Index\u001b[39;00m\n",
      "File \u001b[0;32m~/.local/lib/python3.11/site-packages/pandas/core/indexes/base.py:6133\u001b[0m, in \u001b[0;36mIndex._raise_if_missing\u001b[0;34m(self, key, indexer, axis_name)\u001b[0m\n\u001b[1;32m   6130\u001b[0m     \u001b[38;5;28;01mraise\u001b[39;00m \u001b[38;5;167;01mKeyError\u001b[39;00m(\u001b[38;5;124mf\u001b[39m\u001b[38;5;124m\"\u001b[39m\u001b[38;5;124mNone of [\u001b[39m\u001b[38;5;132;01m{\u001b[39;00mkey\u001b[38;5;132;01m}\u001b[39;00m\u001b[38;5;124m] are in the [\u001b[39m\u001b[38;5;132;01m{\u001b[39;00maxis_name\u001b[38;5;132;01m}\u001b[39;00m\u001b[38;5;124m]\u001b[39m\u001b[38;5;124m\"\u001b[39m)\n\u001b[1;32m   6132\u001b[0m not_found \u001b[38;5;241m=\u001b[39m \u001b[38;5;28mlist\u001b[39m(ensure_index(key)[missing_mask\u001b[38;5;241m.\u001b[39mnonzero()[\u001b[38;5;241m0\u001b[39m]]\u001b[38;5;241m.\u001b[39munique())\n\u001b[0;32m-> 6133\u001b[0m \u001b[38;5;28;01mraise\u001b[39;00m \u001b[38;5;167;01mKeyError\u001b[39;00m(\u001b[38;5;124mf\u001b[39m\u001b[38;5;124m\"\u001b[39m\u001b[38;5;132;01m{\u001b[39;00mnot_found\u001b[38;5;132;01m}\u001b[39;00m\u001b[38;5;124m not in index\u001b[39m\u001b[38;5;124m\"\u001b[39m)\n",
      "\u001b[0;31mKeyError\u001b[0m: \"['sourceId', 'ccdVisitId', 'x', 'y', 'ra', 'dec', 'psfFlux', 'gaussianFlux', 'band', 'visid_idx', 'mjd', 'dateobs', 'extendedness_flag'] not in index\""
     ]
    }
   ],
   "source": [
    "df_sel = df[['sourceId','ccdVisitId','x','y','ra','dec','coord_ra','coord_dec','psfFlux','gaussianFlux','visit','band','visid_idx','mjd','dateobs','extendedness_flag','detect_isPrimary']]"
   ]
  },
  {
   "cell_type": "code",
   "execution_count": null,
   "id": "a9301c9b-afca-4997-a25b-349c58ffbda7",
   "metadata": {
    "execution": {
     "iopub.status.busy": "2024-02-27T12:39:35.610939Z",
     "iopub.status.idle": "2024-02-27T12:39:35.611113Z",
     "shell.execute_reply": "2024-02-27T12:39:35.611033Z",
     "shell.execute_reply.started": "2024-02-27T12:39:35.611025Z"
    }
   },
   "outputs": [],
   "source": [
    "def convert_fluxtomag(x) :\n",
    "    \"\"\"\n",
    "    The object and source catalogs store only fluxes. There are hundreds of flux-related columns, \n",
    "    and to store them also as magnitudes would be redundant, and a waste of space.\n",
    "    All flux units are nanojanskys. The AB Magnitudes Wikipedia page provides a concise resource \n",
    "    for users unfamiliar with AB magnitudes and jansky fluxes. To convert to AB magnitudes use:\n",
    "    As demonstrated in Section 2.3.2, to add columns of magnitudes after retrieving columns of flux, users can do this:\n",
    "    results_table['r_calibMag'] = -2.50 * numpy.log10(results_table['r_calibFlux']) + 31.4\n",
    "    results_table['r_cModelMag'] = -2.50 * numpy.log10(results_table['r_cModelFlux']) + 31.4\n",
    "    (from DP0 tutorial)\n",
    "    \"\"\"\n",
    "    return -2.50 * np.log10(x) + 31.4"
   ]
  },
  {
   "cell_type": "code",
   "execution_count": null,
   "id": "30914e6f-52fd-4eb3-bbc1-23ff66a89188",
   "metadata": {
    "execution": {
     "iopub.status.busy": "2024-02-27T12:39:35.611587Z",
     "iopub.status.idle": "2024-02-27T12:39:35.611739Z",
     "shell.execute_reply": "2024-02-27T12:39:35.611668Z",
     "shell.execute_reply.started": "2024-02-27T12:39:35.611661Z"
    }
   },
   "outputs": [],
   "source": [
    "df_sel[\"psfMag\"] =  df_sel['psfFlux'].map(convert_fluxtomag)\n",
    "#df_sel[\"gaussianMag\"] =  df_sel['gaussianFlux'].map(lambda x:-2.50 * np.log10(x) + 31.4)\n",
    "df_sel[\"gaussianMag\"] =  df_sel['gaussianFlux'].map(convert_fluxtomag)"
   ]
  },
  {
   "cell_type": "code",
   "execution_count": null,
   "id": "b5458f28-5032-4720-a388-636dd8c40425",
   "metadata": {
    "execution": {
     "iopub.status.busy": "2024-02-27T12:39:35.612455Z",
     "iopub.status.idle": "2024-02-27T12:39:35.612636Z",
     "shell.execute_reply": "2024-02-27T12:39:35.612545Z",
     "shell.execute_reply.started": "2024-02-27T12:39:35.612538Z"
    }
   },
   "outputs": [],
   "source": [
    "df_sel = df_sel[df_sel['extendedness_flag']==False & df_sel['detect_isPrimary']]"
   ]
  },
  {
   "cell_type": "code",
   "execution_count": null,
   "id": "f48573a3-24d2-4149-b861-e291ebac8091",
   "metadata": {
    "execution": {
     "iopub.status.busy": "2024-02-27T12:39:35.613060Z",
     "iopub.status.idle": "2024-02-27T12:39:35.613230Z",
     "shell.execute_reply": "2024-02-27T12:39:35.613143Z",
     "shell.execute_reply.started": "2024-02-27T12:39:35.613135Z"
    }
   },
   "outputs": [],
   "source": [
    "df_sel.dropna(axis=0,inplace = True)"
   ]
  },
  {
   "cell_type": "code",
   "execution_count": null,
   "id": "495079c5-f71e-4741-8cdc-0b912d4dc36b",
   "metadata": {
    "execution": {
     "iopub.status.busy": "2024-02-27T12:39:35.613845Z",
     "iopub.status.idle": "2024-02-27T12:39:35.614006Z",
     "shell.execute_reply": "2024-02-27T12:39:35.613924Z",
     "shell.execute_reply.started": "2024-02-27T12:39:35.613917Z"
    }
   },
   "outputs": [],
   "source": [
    "df_sel"
   ]
  },
  {
   "cell_type": "code",
   "execution_count": null,
   "id": "a8f6b71e-4486-45a6-bab8-13eae61ded2f",
   "metadata": {
    "execution": {
     "iopub.status.busy": "2024-02-27T12:39:35.614417Z",
     "iopub.status.idle": "2024-02-27T12:39:35.614570Z",
     "shell.execute_reply": "2024-02-27T12:39:35.614495Z",
     "shell.execute_reply.started": "2024-02-27T12:39:35.614488Z"
    }
   },
   "outputs": [],
   "source": [
    "df_sel.plot.scatter('x','y',c='ccdVisitId',colormap='viridis')"
   ]
  },
  {
   "cell_type": "code",
   "execution_count": null,
   "id": "7f1e4786-d417-402a-bdc1-0aca5e040dae",
   "metadata": {
    "execution": {
     "iopub.status.busy": "2024-02-27T12:39:35.615121Z",
     "iopub.status.idle": "2024-02-27T12:39:35.615278Z",
     "shell.execute_reply": "2024-02-27T12:39:35.615206Z",
     "shell.execute_reply.started": "2024-02-27T12:39:35.615199Z"
    }
   },
   "outputs": [],
   "source": [
    "df_sel.plot.scatter('ra','dec',c='ccdVisitId',colormap='hsv',grid=True,figsize=(10,5))"
   ]
  },
  {
   "cell_type": "code",
   "execution_count": null,
   "id": "52e5f78a-e202-4fc7-8aa5-8a99fce569d0",
   "metadata": {
    "execution": {
     "iopub.status.busy": "2024-02-27T12:39:35.615846Z",
     "iopub.status.idle": "2024-02-27T12:39:35.615997Z",
     "shell.execute_reply": "2024-02-27T12:39:35.615927Z",
     "shell.execute_reply.started": "2024-02-27T12:39:35.615920Z"
    }
   },
   "outputs": [],
   "source": [
    "df_sel.plot.scatter('coord_ra','coord_dec',c='ccdVisitId',colormap='hsv',grid=True,figsize=(10,5))"
   ]
  },
  {
   "cell_type": "code",
   "execution_count": null,
   "id": "36bc38b2-e138-4e00-8b73-f2776f1b0685",
   "metadata": {
    "execution": {
     "iopub.status.busy": "2024-02-27T12:39:35.616505Z",
     "iopub.status.idle": "2024-02-27T12:39:35.616649Z",
     "shell.execute_reply": "2024-02-27T12:39:35.616581Z",
     "shell.execute_reply.started": "2024-02-27T12:39:35.616574Z"
    }
   },
   "outputs": [],
   "source": [
    "df_sel['coord_ra'].plot(kind=\"hist\",bins=50 ,range=(0,360),logy=True,title=\"coord_ra\",grid=True,figsize=(10,5))"
   ]
  },
  {
   "cell_type": "code",
   "execution_count": null,
   "id": "ea52f52d-785d-401e-9e2a-7f6f4cbafe08",
   "metadata": {
    "execution": {
     "iopub.status.busy": "2024-02-27T12:39:35.617211Z",
     "iopub.status.idle": "2024-02-27T12:39:35.617363Z",
     "shell.execute_reply": "2024-02-27T12:39:35.617290Z",
     "shell.execute_reply.started": "2024-02-27T12:39:35.617283Z"
    }
   },
   "outputs": [],
   "source": [
    "df_sel['coord_dec'].plot(kind=\"hist\",bins=50 ,range=(-90,10),logy=True,title=\"coord_dec\",grid=True,figsize=(10,5))"
   ]
  },
  {
   "cell_type": "code",
   "execution_count": null,
   "id": "71a85a9e-0a81-4d04-a3a7-417f9cc0a39f",
   "metadata": {
    "execution": {
     "iopub.status.busy": "2024-02-27T12:39:35.617982Z",
     "iopub.status.idle": "2024-02-27T12:39:35.618137Z",
     "shell.execute_reply": "2024-02-27T12:39:35.618060Z",
     "shell.execute_reply.started": "2024-02-27T12:39:35.618053Z"
    }
   },
   "outputs": [],
   "source": [
    "cut_skyloc = ((df_sel['dec'] < -30) & (df_sel['dec'] > -40) & (df_sel['ra'] > 100) & (df_sel['ra'] < 150))"
   ]
  },
  {
   "cell_type": "code",
   "execution_count": null,
   "id": "4312ddf5-74d6-4cd9-bff5-dce8d55505f6",
   "metadata": {
    "execution": {
     "iopub.status.busy": "2024-02-27T12:39:35.618542Z",
     "iopub.status.idle": "2024-02-27T12:39:35.618688Z",
     "shell.execute_reply": "2024-02-27T12:39:35.618619Z",
     "shell.execute_reply.started": "2024-02-27T12:39:35.618612Z"
    }
   },
   "outputs": [],
   "source": [
    "df_sel = df_sel[cut_skyloc]"
   ]
  },
  {
   "cell_type": "code",
   "execution_count": null,
   "id": "8d7ea79d-7fdc-40b8-a3db-4ab04b815cd2",
   "metadata": {
    "execution": {
     "iopub.status.busy": "2024-02-27T12:39:35.618975Z",
     "iopub.status.idle": "2024-02-27T12:39:35.619110Z",
     "shell.execute_reply": "2024-02-27T12:39:35.619046Z",
     "shell.execute_reply.started": "2024-02-27T12:39:35.619040Z"
    }
   },
   "outputs": [],
   "source": [
    "df_sel['psfMag'].plot(kind=\"hist\",bins=50,range=(5,30),logy=True,grid=True,title=\"psMag\")"
   ]
  },
  {
   "cell_type": "code",
   "execution_count": null,
   "id": "d9f34f5d-1060-447d-b73d-5626e1a5972b",
   "metadata": {
    "execution": {
     "iopub.status.busy": "2024-02-27T12:39:35.619560Z",
     "iopub.status.idle": "2024-02-27T12:39:35.619703Z",
     "shell.execute_reply": "2024-02-27T12:39:35.619635Z",
     "shell.execute_reply.started": "2024-02-27T12:39:35.619628Z"
    }
   },
   "outputs": [],
   "source": [
    "df_sel['gaussianMag'].plot(kind=\"hist\",bins=50 ,range=(5,30),logy=True,grid=True,title=\"gaussianMag\")"
   ]
  },
  {
   "cell_type": "code",
   "execution_count": null,
   "id": "f560da18-d3db-437b-a323-207132665bf3",
   "metadata": {
    "execution": {
     "iopub.status.busy": "2024-02-27T12:39:35.620166Z",
     "iopub.status.idle": "2024-02-27T12:39:35.620309Z",
     "shell.execute_reply": "2024-02-27T12:39:35.620241Z",
     "shell.execute_reply.started": "2024-02-27T12:39:35.620235Z"
    }
   },
   "outputs": [],
   "source": [
    "df_sel"
   ]
  },
  {
   "cell_type": "code",
   "execution_count": null,
   "id": "5769a54e-167c-438c-aed4-a1bd070d2d8c",
   "metadata": {
    "execution": {
     "iopub.status.busy": "2024-02-27T12:39:35.620791Z",
     "iopub.status.idle": "2024-02-27T12:39:35.620941Z",
     "shell.execute_reply": "2024-02-27T12:39:35.620868Z",
     "shell.execute_reply.started": "2024-02-27T12:39:35.620862Z"
    }
   },
   "outputs": [],
   "source": [
    "#df_sel.groupby(df_sel['dateobs'].dt.date).size().plot()\n",
    "datetime = pd.to_datetime(df_sel['dateobs'])"
   ]
  },
  {
   "cell_type": "code",
   "execution_count": null,
   "id": "5eb4f7c1-bf32-4943-843c-85c1dddefe39",
   "metadata": {
    "execution": {
     "iopub.status.busy": "2024-02-27T12:39:35.621423Z",
     "iopub.status.idle": "2024-02-27T12:39:35.621575Z",
     "shell.execute_reply": "2024-02-27T12:39:35.621501Z",
     "shell.execute_reply.started": "2024-02-27T12:39:35.621494Z"
    }
   },
   "outputs": [],
   "source": [
    "df_sel['dateobs'].max()"
   ]
  },
  {
   "cell_type": "code",
   "execution_count": null,
   "id": "1bf81fbf-64e6-46f5-be8a-9adca60d3abb",
   "metadata": {
    "execution": {
     "iopub.status.busy": "2024-02-27T12:39:35.622018Z",
     "iopub.status.idle": "2024-02-27T12:39:35.622167Z",
     "shell.execute_reply": "2024-02-27T12:39:35.622094Z",
     "shell.execute_reply.started": "2024-02-27T12:39:35.622088Z"
    }
   },
   "outputs": [],
   "source": [
    "df_sel[\"date\"] = df[\"dateobs\"].astype(\"datetime64\")"
   ]
  },
  {
   "cell_type": "code",
   "execution_count": null,
   "id": "a6e84a91-e9d6-404d-8ef9-c2f80f3d3bf0",
   "metadata": {
    "execution": {
     "iopub.status.busy": "2024-02-27T12:39:35.622603Z",
     "iopub.status.idle": "2024-02-27T12:39:35.622744Z",
     "shell.execute_reply": "2024-02-27T12:39:35.622678Z",
     "shell.execute_reply.started": "2024-02-27T12:39:35.622672Z"
    }
   },
   "outputs": [],
   "source": [
    "df_sel"
   ]
  },
  {
   "cell_type": "code",
   "execution_count": null,
   "id": "0c1f2fd3-0101-4637-b030-d226a3b58cab",
   "metadata": {
    "execution": {
     "iopub.status.busy": "2024-02-27T12:39:35.623248Z",
     "iopub.status.idle": "2024-02-27T12:39:35.623394Z",
     "shell.execute_reply": "2024-02-27T12:39:35.623324Z",
     "shell.execute_reply.started": "2024-02-27T12:39:35.623317Z"
    }
   },
   "outputs": [],
   "source": [
    "df_time = df_sel[[\"date\"]]"
   ]
  },
  {
   "cell_type": "code",
   "execution_count": null,
   "id": "79e7f118-e3da-4e0a-9497-a1079dbd30d6",
   "metadata": {
    "execution": {
     "iopub.status.busy": "2024-02-27T12:39:35.623902Z",
     "iopub.status.idle": "2024-02-27T12:39:35.624050Z",
     "shell.execute_reply": "2024-02-27T12:39:35.623980Z",
     "shell.execute_reply.started": "2024-02-27T12:39:35.623974Z"
    }
   },
   "outputs": [],
   "source": [
    "df_time"
   ]
  },
  {
   "cell_type": "code",
   "execution_count": null,
   "id": "1845d0ef-c99a-4b63-9212-80d890f38128",
   "metadata": {
    "execution": {
     "iopub.status.busy": "2024-02-27T12:39:35.624653Z",
     "iopub.status.idle": "2024-02-27T12:39:35.624815Z",
     "shell.execute_reply": "2024-02-27T12:39:35.624730Z",
     "shell.execute_reply.started": "2024-02-27T12:39:35.624723Z"
    }
   },
   "outputs": [],
   "source": [
    "fig = plt.figure()\n",
    "ax = fig.add_subplot(1,1,1)\n",
    "ax = (df_time[\"date\"].groupby(df_time[\"date\"].dt.minute)\n",
    "                         .count()).plot(kind=\"bar\")"
   ]
  }
 ],
 "metadata": {
  "kernelspec": {
   "display_name": "LSST",
   "language": "python",
   "name": "lsst"
  },
  "language_info": {
   "codemirror_mode": {
    "name": "ipython",
    "version": 3
   },
   "file_extension": ".py",
   "mimetype": "text/x-python",
   "name": "python",
   "nbconvert_exporter": "python",
   "pygments_lexer": "ipython3",
   "version": "3.11.7"
  }
 },
 "nbformat": 4,
 "nbformat_minor": 5
}
