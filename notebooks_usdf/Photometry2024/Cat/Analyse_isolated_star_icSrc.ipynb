{
 "cells": [
  {
   "cell_type": "markdown",
   "id": "8608d6fb-20fc-4b07-ba88-74e9b45cdf25",
   "metadata": {},
   "source": [
    "# Analyse  icSrc"
   ]
  },
  {
   "cell_type": "markdown",
   "id": "667ba03e-ddfb-47fd-bee3-3824f9be7ae5",
   "metadata": {},
   "source": [
    " work with Weakly_2024_07\n",
    "- use jupyter kernel LSST\n",
    "\n",
    "\n",
    "- author : Sylvie Dagoret-Campagne\n",
    "- affiliation : IJCLab\n",
    "- creation date : 2024/02/25\n",
    "- update : 2024/02/25\n"
   ]
  },
  {
   "cell_type": "code",
   "execution_count": 1,
   "id": "058012ec-9888-4b97-9fe2-57595e1bc0e7",
   "metadata": {
    "execution": {
     "iopub.execute_input": "2024-03-01T13:22:11.930456Z",
     "iopub.status.busy": "2024-03-01T13:22:11.930315Z",
     "iopub.status.idle": "2024-03-01T13:22:12.530677Z",
     "shell.execute_reply": "2024-03-01T13:22:12.530293Z",
     "shell.execute_reply.started": "2024-03-01T13:22:11.930443Z"
    }
   },
   "outputs": [],
   "source": [
    "import numpy as np\n",
    "import matplotlib.pyplot as plt\n",
    "%matplotlib inline\n",
    "from mpl_toolkits.axes_grid1 import make_axes_locatable\n",
    "from matplotlib.colors import LogNorm,SymLogNorm\n",
    "\n",
    "\n",
    "import matplotlib.ticker                         # here's where the formatter is\n",
    "from matplotlib.ticker import (MultipleLocator, FormatStrFormatter,\n",
    "                               AutoMinorLocator)\n",
    "from astropy.visualization import (MinMaxInterval, SqrtStretch,ZScaleInterval,PercentileInterval,\n",
    "                                   ImageNormalize,imshow_norm)\n",
    "from astropy.visualization.stretch import SinhStretch, LinearStretch,AsinhStretch,LogStretch\n",
    "from astropy.io import fits\n",
    "import astropy.coordinates as coord\n",
    "import astropy.units as u\n",
    "import pandas as pd\n",
    "\n",
    "import matplotlib.ticker                         # here's where the formatter is\n",
    "import os\n",
    "import re\n",
    "import pandas as pd\n",
    "\n",
    "plt.rcParams[\"figure.figsize\"] = (4,3)\n",
    "plt.rcParams[\"axes.labelsize\"] = 'xx-large'\n",
    "plt.rcParams['axes.titlesize'] = 'xx-large'\n",
    "plt.rcParams['xtick.labelsize']= 'xx-large'\n",
    "plt.rcParams['ytick.labelsize']= 'xx-large'"
   ]
  },
  {
   "cell_type": "code",
   "execution_count": 2,
   "id": "907f5257-e80b-4336-b41f-5bf3745571bf",
   "metadata": {
    "execution": {
     "iopub.execute_input": "2024-03-01T13:22:12.531435Z",
     "iopub.status.busy": "2024-03-01T13:22:12.531187Z",
     "iopub.status.idle": "2024-03-01T13:22:12.533310Z",
     "shell.execute_reply": "2024-03-01T13:22:12.533018Z",
     "shell.execute_reply.started": "2024-03-01T13:22:12.531421Z"
    }
   },
   "outputs": [],
   "source": [
    "#filesource_in=\"preSourceTable_202312.csv\"\n",
    "filesource_in=\"icSrc_202402.csv\""
   ]
  },
  {
   "cell_type": "code",
   "execution_count": 3,
   "id": "a4c4bc49-f65a-441c-8f51-82a27f7887d2",
   "metadata": {
    "execution": {
     "iopub.execute_input": "2024-03-01T13:22:12.533807Z",
     "iopub.status.busy": "2024-03-01T13:22:12.533688Z",
     "iopub.status.idle": "2024-03-01T13:22:27.246469Z",
     "shell.execute_reply": "2024-03-01T13:22:27.245989Z",
     "shell.execute_reply.started": "2024-03-01T13:22:12.533795Z"
    }
   },
   "outputs": [],
   "source": [
    "df = pd.read_csv(filesource_in,index_col=0)"
   ]
  },
  {
   "cell_type": "code",
   "execution_count": 4,
   "id": "f520bf2a-9b47-4748-9503-3896eac2dda3",
   "metadata": {
    "execution": {
     "iopub.execute_input": "2024-03-01T13:22:27.247218Z",
     "iopub.status.busy": "2024-03-01T13:22:27.247070Z",
     "iopub.status.idle": "2024-03-01T13:22:27.358576Z",
     "shell.execute_reply": "2024-03-01T13:22:27.358115Z",
     "shell.execute_reply.started": "2024-03-01T13:22:27.247204Z"
    }
   },
   "outputs": [],
   "source": [
    "df.dropna(axis=1, how='all',inplace = True)"
   ]
  },
  {
   "cell_type": "code",
   "execution_count": 5,
   "id": "33f83756-3e33-403e-9c19-6de42b21e0cd",
   "metadata": {
    "execution": {
     "iopub.execute_input": "2024-03-01T13:22:27.359285Z",
     "iopub.status.busy": "2024-03-01T13:22:27.359142Z",
     "iopub.status.idle": "2024-03-01T13:22:31.652526Z",
     "shell.execute_reply": "2024-03-01T13:22:31.652066Z",
     "shell.execute_reply.started": "2024-03-01T13:22:27.359271Z"
    }
   },
   "outputs": [],
   "source": [
    "df[\"nightObs\"] =df.apply(lambda x: x['visitId']//100_000, axis=1)"
   ]
  },
  {
   "cell_type": "code",
   "execution_count": 6,
   "id": "01717b67-ecd3-4a3d-9912-fb69a7f611fe",
   "metadata": {
    "execution": {
     "iopub.execute_input": "2024-03-01T13:22:31.653211Z",
     "iopub.status.busy": "2024-03-01T13:22:31.653078Z",
     "iopub.status.idle": "2024-03-01T13:22:31.656539Z",
     "shell.execute_reply": "2024-03-01T13:22:31.656137Z",
     "shell.execute_reply.started": "2024-03-01T13:22:31.653197Z"
    }
   },
   "outputs": [
    {
     "name": "stdout",
     "output_type": "stream",
     "text": [
      "id\n",
      "parent\n",
      "calib_psf_candidate\n",
      "calib_psf_used\n",
      "calib_psf_reserved\n",
      "base_SdssCentroid_x\n",
      "slot_Centroid_x\n",
      "base_SdssCentroid_y\n",
      "slot_Centroid_y\n",
      "base_SdssCentroid_xErr\n",
      "slot_Centroid_xErr\n",
      "base_SdssCentroid_yErr\n",
      "slot_Centroid_yErr\n",
      "base_SdssCentroid_flag\n",
      "base_CircularApertureFlux_flag_badCentroid\n",
      "base_GaussianFlux_flag_badCentroid\n",
      "base_PsfFlux_flag_badCentroid\n",
      "ext_shapeHSM_HsmSourceMoments_flag_badCentroid\n",
      "slot_Centroid_flag\n",
      "base_SdssCentroid_flag_edge\n",
      "base_CircularApertureFlux_flag_badCentroid_edge\n",
      "base_GaussianFlux_flag_badCentroid_edge\n",
      "base_PsfFlux_flag_badCentroid_edge\n",
      "ext_shapeHSM_HsmSourceMoments_flag_badCentroid_edge\n",
      "slot_Centroid_flag_edge\n",
      "base_SdssCentroid_flag_noSecondDerivative\n",
      "base_CircularApertureFlux_flag_badCentroid_noSecondDerivative\n",
      "base_GaussianFlux_flag_badCentroid_noSecondDerivative\n",
      "base_PsfFlux_flag_badCentroid_noSecondDerivative\n",
      "ext_shapeHSM_HsmSourceMoments_flag_badCentroid_noSecondDerivative\n",
      "slot_Centroid_flag_noSecondDerivative\n",
      "base_SdssCentroid_flag_almostNoSecondDerivative\n",
      "base_CircularApertureFlux_flag_badCentroid_almostNoSecondDerivative\n",
      "base_GaussianFlux_flag_badCentroid_almostNoSecondDerivative\n",
      "base_PsfFlux_flag_badCentroid_almostNoSecondDerivative\n",
      "ext_shapeHSM_HsmSourceMoments_flag_badCentroid_almostNoSecondDerivative\n",
      "slot_Centroid_flag_almostNoSecondDerivative\n",
      "base_SdssCentroid_flag_notAtMaximum\n",
      "base_CircularApertureFlux_flag_badCentroid_notAtMaximum\n",
      "base_GaussianFlux_flag_badCentroid_notAtMaximum\n",
      "base_PsfFlux_flag_badCentroid_notAtMaximum\n",
      "ext_shapeHSM_HsmSourceMoments_flag_badCentroid_notAtMaximum\n",
      "slot_Centroid_flag_notAtMaximum\n",
      "base_SdssCentroid_flag_near_edge\n",
      "base_CircularApertureFlux_flag_badCentroid_near_edge\n",
      "base_GaussianFlux_flag_badCentroid_near_edge\n",
      "base_PsfFlux_flag_badCentroid_near_edge\n",
      "ext_shapeHSM_HsmSourceMoments_flag_badCentroid_near_edge\n",
      "slot_Centroid_flag_near_edge\n",
      "base_SdssCentroid_flag_resetToPeak\n",
      "base_CircularApertureFlux_flag_badCentroid_resetToPeak\n",
      "base_GaussianFlux_flag_badCentroid_resetToPeak\n",
      "base_PsfFlux_flag_badCentroid_resetToPeak\n",
      "ext_shapeHSM_HsmSourceMoments_flag_badCentroid_resetToPeak\n",
      "slot_Centroid_flag_resetToPeak\n",
      "base_SdssCentroid_flag_badError\n",
      "base_CircularApertureFlux_flag_badCentroid_badError\n",
      "base_GaussianFlux_flag_badCentroid_badError\n",
      "base_PsfFlux_flag_badCentroid_badError\n",
      "ext_shapeHSM_HsmSourceMoments_flag_badCentroid_badError\n",
      "slot_Centroid_flag_badError\n",
      "base_FPPosition_x\n",
      "base_FPPosition_y\n",
      "base_FPPosition_flag\n",
      "base_FPPosition_missingDetector_flag\n",
      "base_Jacobian_value\n",
      "base_Jacobian_flag\n",
      "ext_shapeHSM_HsmSourceMoments_flag\n",
      "base_GaussianFlux_flag_badShape\n",
      "slot_Shape_flag\n",
      "ext_shapeHSM_HsmSourceMoments_flag_no_pixels\n",
      "base_GaussianFlux_flag_badShape_no_pixels\n",
      "slot_Shape_flag_no_pixels\n",
      "ext_shapeHSM_HsmSourceMoments_flag_not_contained\n",
      "base_GaussianFlux_flag_badShape_not_contained\n",
      "slot_Shape_flag_not_contained\n",
      "ext_shapeHSM_HsmSourceMoments_flag_parent_source\n",
      "base_GaussianFlux_flag_badShape_parent_source\n",
      "slot_Shape_flag_parent_source\n",
      "ext_shapeHSM_HsmSourceMoments_flag_galsim\n",
      "base_GaussianFlux_flag_badShape_galsim\n",
      "slot_Shape_flag_galsim\n",
      "ext_shapeHSM_HsmSourceMoments_flag_invalid_param\n",
      "base_GaussianFlux_flag_badShape_invalid_param\n",
      "slot_Shape_flag_invalid_param\n",
      "ext_shapeHSM_HsmSourceMoments_flag_edge\n",
      "base_GaussianFlux_flag_badShape_edge\n",
      "slot_Shape_flag_edge\n",
      "ext_shapeHSM_HsmSourceMoments_flag_no_psf\n",
      "base_GaussianFlux_flag_badShape_no_psf\n",
      "slot_Shape_flag_no_psf\n",
      "ext_shapeHSM_HsmSourceMoments_x\n",
      "slot_Shape_x\n",
      "ext_shapeHSM_HsmSourceMoments_y\n",
      "slot_Shape_y\n",
      "ext_shapeHSM_HsmSourceMoments_xx\n",
      "slot_Shape_xx\n",
      "ext_shapeHSM_HsmSourceMoments_yy\n",
      "slot_Shape_yy\n",
      "ext_shapeHSM_HsmSourceMoments_xy\n",
      "slot_Shape_xy\n",
      "base_CircularApertureFlux_3_0_instFlux\n",
      "base_CircularApertureFlux_3_0_instFluxErr\n",
      "base_CircularApertureFlux_3_0_flag\n",
      "base_CircularApertureFlux_3_0_flag_apertureTruncated\n",
      "base_CircularApertureFlux_3_0_flag_sincCoeffsTruncated\n",
      "base_CircularApertureFlux_4_5_instFlux\n",
      "base_CircularApertureFlux_4_5_instFluxErr\n",
      "base_CircularApertureFlux_4_5_flag\n",
      "base_CircularApertureFlux_4_5_flag_apertureTruncated\n",
      "base_CircularApertureFlux_4_5_flag_sincCoeffsTruncated\n",
      "base_CircularApertureFlux_6_0_instFlux\n",
      "base_CircularApertureFlux_6_0_instFluxErr\n",
      "base_CircularApertureFlux_6_0_flag\n",
      "base_CircularApertureFlux_6_0_flag_apertureTruncated\n",
      "base_CircularApertureFlux_6_0_flag_sincCoeffsTruncated\n",
      "base_CircularApertureFlux_9_0_instFlux\n",
      "base_CircularApertureFlux_9_0_instFluxErr\n",
      "base_CircularApertureFlux_9_0_flag\n",
      "base_CircularApertureFlux_9_0_flag_apertureTruncated\n",
      "base_CircularApertureFlux_9_0_flag_sincCoeffsTruncated\n",
      "base_CircularApertureFlux_12_0_instFlux\n",
      "base_CircularApertureFlux_12_0_instFluxErr\n",
      "base_CircularApertureFlux_12_0_flag\n",
      "base_CircularApertureFlux_12_0_flag_apertureTruncated\n",
      "base_CircularApertureFlux_12_0_flag_sincCoeffsTruncated\n",
      "base_CircularApertureFlux_17_0_instFlux\n",
      "base_CircularApertureFlux_17_0_instFluxErr\n",
      "base_CircularApertureFlux_17_0_flag\n",
      "base_CircularApertureFlux_17_0_flag_apertureTruncated\n",
      "base_CircularApertureFlux_25_0_instFlux\n",
      "base_CircularApertureFlux_25_0_instFluxErr\n",
      "base_CircularApertureFlux_25_0_flag\n",
      "base_CircularApertureFlux_25_0_flag_apertureTruncated\n",
      "base_CircularApertureFlux_35_0_instFlux\n",
      "slot_ApFlux_instFlux\n",
      "slot_CalibFlux_instFlux\n",
      "base_CircularApertureFlux_35_0_instFluxErr\n",
      "slot_ApFlux_instFluxErr\n",
      "slot_CalibFlux_instFluxErr\n",
      "base_CircularApertureFlux_35_0_flag\n",
      "slot_ApFlux_flag\n",
      "slot_CalibFlux_flag\n",
      "base_CircularApertureFlux_35_0_flag_apertureTruncated\n",
      "slot_ApFlux_flag_apertureTruncated\n",
      "slot_CalibFlux_flag_apertureTruncated\n",
      "base_CircularApertureFlux_50_0_instFlux\n",
      "base_CircularApertureFlux_50_0_instFluxErr\n",
      "base_CircularApertureFlux_50_0_flag\n",
      "base_CircularApertureFlux_50_0_flag_apertureTruncated\n",
      "base_CircularApertureFlux_70_0_instFlux\n",
      "base_CircularApertureFlux_70_0_instFluxErr\n",
      "base_CircularApertureFlux_70_0_flag\n",
      "base_CircularApertureFlux_70_0_flag_apertureTruncated\n",
      "base_ClassificationSizeExtendedness_flag\n",
      "base_GaussianFlux_instFlux\n",
      "slot_GaussianFlux_instFlux\n",
      "slot_ModelFlux_instFlux\n",
      "base_GaussianFlux_instFluxErr\n",
      "slot_GaussianFlux_instFluxErr\n",
      "slot_ModelFlux_instFluxErr\n",
      "base_GaussianFlux_flag\n",
      "slot_GaussianFlux_flag\n",
      "slot_ModelFlux_flag\n",
      "base_PixelFlags_flag\n",
      "base_PixelFlags_flag_offimage\n",
      "base_PixelFlags_flag_edge\n",
      "base_PixelFlags_flag_interpolated\n",
      "base_PixelFlags_flag_saturated\n",
      "base_PixelFlags_flag_cr\n",
      "base_PixelFlags_flag_bad\n",
      "base_PixelFlags_flag_suspect\n",
      "base_PixelFlags_flag_interpolatedCenter\n",
      "base_PixelFlags_flag_saturatedCenter\n",
      "base_PixelFlags_flag_crCenter\n",
      "base_PixelFlags_flag_badCenter\n",
      "base_PixelFlags_flag_suspectCenter\n",
      "base_PixelFlags_flag_interpolatedCenterAll\n",
      "base_PixelFlags_flag_saturatedCenterAll\n",
      "base_PixelFlags_flag_crCenterAll\n",
      "base_PixelFlags_flag_badCenterAll\n",
      "base_PixelFlags_flag_suspectCenterAll\n",
      "base_PsfFlux_instFlux\n",
      "slot_PsfFlux_instFlux\n",
      "base_PsfFlux_instFluxErr\n",
      "slot_PsfFlux_instFluxErr\n",
      "base_PsfFlux_area\n",
      "slot_PsfFlux_area\n",
      "base_PsfFlux_chi2\n",
      "slot_PsfFlux_chi2\n",
      "base_PsfFlux_npixels\n",
      "slot_PsfFlux_npixels\n",
      "base_PsfFlux_flag\n",
      "slot_PsfFlux_flag\n",
      "base_PsfFlux_flag_noGoodPixels\n",
      "slot_PsfFlux_flag_noGoodPixels\n",
      "base_PsfFlux_flag_edge\n",
      "slot_PsfFlux_flag_edge\n",
      "apcorr_slot_CalibFlux_used\n",
      "apcorr_base_GaussianFlux_used\n",
      "apcorr_base_PsfFlux_used\n",
      "base_GaussianFlux_apCorr\n",
      "slot_GaussianFlux_apCorr\n",
      "slot_ModelFlux_apCorr\n",
      "base_GaussianFlux_apCorrErr\n",
      "slot_GaussianFlux_apCorrErr\n",
      "slot_ModelFlux_apCorrErr\n",
      "base_GaussianFlux_flag_apCorr\n",
      "slot_GaussianFlux_flag_apCorr\n",
      "slot_ModelFlux_flag_apCorr\n",
      "base_PsfFlux_apCorr\n",
      "slot_PsfFlux_apCorr\n",
      "base_PsfFlux_apCorrErr\n",
      "slot_PsfFlux_apCorrErr\n",
      "base_PsfFlux_flag_apCorr\n",
      "slot_PsfFlux_flag_apCorr\n",
      "base_ClassificationExtendedness_value\n",
      "base_ClassificationExtendedness_flag\n",
      "base_FootprintArea_value\n",
      "visitId\n",
      "nightObs\n"
     ]
    }
   ],
   "source": [
    "colnames = list(df.columns)\n",
    "for name in colnames:\n",
    "    print(name)"
   ]
  },
  {
   "cell_type": "code",
   "execution_count": 7,
   "id": "4b23eb74-c343-450f-a9ea-bff1b6603972",
   "metadata": {
    "execution": {
     "iopub.execute_input": "2024-03-01T13:22:31.657164Z",
     "iopub.status.busy": "2024-03-01T13:22:31.657039Z",
     "iopub.status.idle": "2024-03-01T13:22:32.247049Z",
     "shell.execute_reply": "2024-03-01T13:22:32.245767Z",
     "shell.execute_reply.started": "2024-03-01T13:22:31.657152Z"
    }
   },
   "outputs": [
    {
     "ename": "KeyError",
     "evalue": "\"None of [Index(['sourceId', 'ccdVisitId', 'x', 'y', 'ra', 'dec', 'coord_ra',\\n       'coord_dec', 'psfFlux', 'gaussianFlux', 'visit', 'band', 'visid_idx',\\n       'mjd', 'dateobs', 'extendedness_flag', 'detect_isPrimary'],\\n      dtype='object')] are in the [columns]\"",
     "output_type": "error",
     "traceback": [
      "\u001b[0;31m---------------------------------------------------------------------------\u001b[0m",
      "\u001b[0;31mKeyError\u001b[0m                                  Traceback (most recent call last)",
      "Cell \u001b[0;32mIn[7], line 1\u001b[0m\n\u001b[0;32m----> 1\u001b[0m df_sel \u001b[38;5;241m=\u001b[39m \u001b[43mdf\u001b[49m\u001b[43m[\u001b[49m\u001b[43m[\u001b[49m\u001b[38;5;124;43m'\u001b[39;49m\u001b[38;5;124;43msourceId\u001b[39;49m\u001b[38;5;124;43m'\u001b[39;49m\u001b[43m,\u001b[49m\u001b[38;5;124;43m'\u001b[39;49m\u001b[38;5;124;43mccdVisitId\u001b[39;49m\u001b[38;5;124;43m'\u001b[39;49m\u001b[43m,\u001b[49m\u001b[38;5;124;43m'\u001b[39;49m\u001b[38;5;124;43mx\u001b[39;49m\u001b[38;5;124;43m'\u001b[39;49m\u001b[43m,\u001b[49m\u001b[38;5;124;43m'\u001b[39;49m\u001b[38;5;124;43my\u001b[39;49m\u001b[38;5;124;43m'\u001b[39;49m\u001b[43m,\u001b[49m\u001b[38;5;124;43m'\u001b[39;49m\u001b[38;5;124;43mra\u001b[39;49m\u001b[38;5;124;43m'\u001b[39;49m\u001b[43m,\u001b[49m\u001b[38;5;124;43m'\u001b[39;49m\u001b[38;5;124;43mdec\u001b[39;49m\u001b[38;5;124;43m'\u001b[39;49m\u001b[43m,\u001b[49m\u001b[38;5;124;43m'\u001b[39;49m\u001b[38;5;124;43mcoord_ra\u001b[39;49m\u001b[38;5;124;43m'\u001b[39;49m\u001b[43m,\u001b[49m\u001b[38;5;124;43m'\u001b[39;49m\u001b[38;5;124;43mcoord_dec\u001b[39;49m\u001b[38;5;124;43m'\u001b[39;49m\u001b[43m,\u001b[49m\u001b[38;5;124;43m'\u001b[39;49m\u001b[38;5;124;43mpsfFlux\u001b[39;49m\u001b[38;5;124;43m'\u001b[39;49m\u001b[43m,\u001b[49m\u001b[38;5;124;43m'\u001b[39;49m\u001b[38;5;124;43mgaussianFlux\u001b[39;49m\u001b[38;5;124;43m'\u001b[39;49m\u001b[43m,\u001b[49m\u001b[38;5;124;43m'\u001b[39;49m\u001b[38;5;124;43mvisit\u001b[39;49m\u001b[38;5;124;43m'\u001b[39;49m\u001b[43m,\u001b[49m\u001b[38;5;124;43m'\u001b[39;49m\u001b[38;5;124;43mband\u001b[39;49m\u001b[38;5;124;43m'\u001b[39;49m\u001b[43m,\u001b[49m\u001b[38;5;124;43m'\u001b[39;49m\u001b[38;5;124;43mvisid_idx\u001b[39;49m\u001b[38;5;124;43m'\u001b[39;49m\u001b[43m,\u001b[49m\u001b[38;5;124;43m'\u001b[39;49m\u001b[38;5;124;43mmjd\u001b[39;49m\u001b[38;5;124;43m'\u001b[39;49m\u001b[43m,\u001b[49m\u001b[38;5;124;43m'\u001b[39;49m\u001b[38;5;124;43mdateobs\u001b[39;49m\u001b[38;5;124;43m'\u001b[39;49m\u001b[43m,\u001b[49m\u001b[38;5;124;43m'\u001b[39;49m\u001b[38;5;124;43mextendedness_flag\u001b[39;49m\u001b[38;5;124;43m'\u001b[39;49m\u001b[43m,\u001b[49m\u001b[38;5;124;43m'\u001b[39;49m\u001b[38;5;124;43mdetect_isPrimary\u001b[39;49m\u001b[38;5;124;43m'\u001b[39;49m\u001b[43m]\u001b[49m\u001b[43m]\u001b[49m\n",
      "File \u001b[0;32m~/.local/lib/python3.11/site-packages/pandas/core/frame.py:3813\u001b[0m, in \u001b[0;36mDataFrame.__getitem__\u001b[0;34m(self, key)\u001b[0m\n\u001b[1;32m   3811\u001b[0m     \u001b[38;5;28;01mif\u001b[39;00m is_iterator(key):\n\u001b[1;32m   3812\u001b[0m         key \u001b[38;5;241m=\u001b[39m \u001b[38;5;28mlist\u001b[39m(key)\n\u001b[0;32m-> 3813\u001b[0m     indexer \u001b[38;5;241m=\u001b[39m \u001b[38;5;28;43mself\u001b[39;49m\u001b[38;5;241;43m.\u001b[39;49m\u001b[43mcolumns\u001b[49m\u001b[38;5;241;43m.\u001b[39;49m\u001b[43m_get_indexer_strict\u001b[49m\u001b[43m(\u001b[49m\u001b[43mkey\u001b[49m\u001b[43m,\u001b[49m\u001b[43m \u001b[49m\u001b[38;5;124;43m\"\u001b[39;49m\u001b[38;5;124;43mcolumns\u001b[39;49m\u001b[38;5;124;43m\"\u001b[39;49m\u001b[43m)\u001b[49m[\u001b[38;5;241m1\u001b[39m]\n\u001b[1;32m   3815\u001b[0m \u001b[38;5;66;03m# take() does not accept boolean indexers\u001b[39;00m\n\u001b[1;32m   3816\u001b[0m \u001b[38;5;28;01mif\u001b[39;00m \u001b[38;5;28mgetattr\u001b[39m(indexer, \u001b[38;5;124m\"\u001b[39m\u001b[38;5;124mdtype\u001b[39m\u001b[38;5;124m\"\u001b[39m, \u001b[38;5;28;01mNone\u001b[39;00m) \u001b[38;5;241m==\u001b[39m \u001b[38;5;28mbool\u001b[39m:\n",
      "File \u001b[0;32m~/.local/lib/python3.11/site-packages/pandas/core/indexes/base.py:6070\u001b[0m, in \u001b[0;36mIndex._get_indexer_strict\u001b[0;34m(self, key, axis_name)\u001b[0m\n\u001b[1;32m   6067\u001b[0m \u001b[38;5;28;01melse\u001b[39;00m:\n\u001b[1;32m   6068\u001b[0m     keyarr, indexer, new_indexer \u001b[38;5;241m=\u001b[39m \u001b[38;5;28mself\u001b[39m\u001b[38;5;241m.\u001b[39m_reindex_non_unique(keyarr)\n\u001b[0;32m-> 6070\u001b[0m \u001b[38;5;28;43mself\u001b[39;49m\u001b[38;5;241;43m.\u001b[39;49m\u001b[43m_raise_if_missing\u001b[49m\u001b[43m(\u001b[49m\u001b[43mkeyarr\u001b[49m\u001b[43m,\u001b[49m\u001b[43m \u001b[49m\u001b[43mindexer\u001b[49m\u001b[43m,\u001b[49m\u001b[43m \u001b[49m\u001b[43maxis_name\u001b[49m\u001b[43m)\u001b[49m\n\u001b[1;32m   6072\u001b[0m keyarr \u001b[38;5;241m=\u001b[39m \u001b[38;5;28mself\u001b[39m\u001b[38;5;241m.\u001b[39mtake(indexer)\n\u001b[1;32m   6073\u001b[0m \u001b[38;5;28;01mif\u001b[39;00m \u001b[38;5;28misinstance\u001b[39m(key, Index):\n\u001b[1;32m   6074\u001b[0m     \u001b[38;5;66;03m# GH 42790 - Preserve name from an Index\u001b[39;00m\n",
      "File \u001b[0;32m~/.local/lib/python3.11/site-packages/pandas/core/indexes/base.py:6130\u001b[0m, in \u001b[0;36mIndex._raise_if_missing\u001b[0;34m(self, key, indexer, axis_name)\u001b[0m\n\u001b[1;32m   6128\u001b[0m     \u001b[38;5;28;01mif\u001b[39;00m use_interval_msg:\n\u001b[1;32m   6129\u001b[0m         key \u001b[38;5;241m=\u001b[39m \u001b[38;5;28mlist\u001b[39m(key)\n\u001b[0;32m-> 6130\u001b[0m     \u001b[38;5;28;01mraise\u001b[39;00m \u001b[38;5;167;01mKeyError\u001b[39;00m(\u001b[38;5;124mf\u001b[39m\u001b[38;5;124m\"\u001b[39m\u001b[38;5;124mNone of [\u001b[39m\u001b[38;5;132;01m{\u001b[39;00mkey\u001b[38;5;132;01m}\u001b[39;00m\u001b[38;5;124m] are in the [\u001b[39m\u001b[38;5;132;01m{\u001b[39;00maxis_name\u001b[38;5;132;01m}\u001b[39;00m\u001b[38;5;124m]\u001b[39m\u001b[38;5;124m\"\u001b[39m)\n\u001b[1;32m   6132\u001b[0m not_found \u001b[38;5;241m=\u001b[39m \u001b[38;5;28mlist\u001b[39m(ensure_index(key)[missing_mask\u001b[38;5;241m.\u001b[39mnonzero()[\u001b[38;5;241m0\u001b[39m]]\u001b[38;5;241m.\u001b[39munique())\n\u001b[1;32m   6133\u001b[0m \u001b[38;5;28;01mraise\u001b[39;00m \u001b[38;5;167;01mKeyError\u001b[39;00m(\u001b[38;5;124mf\u001b[39m\u001b[38;5;124m\"\u001b[39m\u001b[38;5;132;01m{\u001b[39;00mnot_found\u001b[38;5;132;01m}\u001b[39;00m\u001b[38;5;124m not in index\u001b[39m\u001b[38;5;124m\"\u001b[39m)\n",
      "\u001b[0;31mKeyError\u001b[0m: \"None of [Index(['sourceId', 'ccdVisitId', 'x', 'y', 'ra', 'dec', 'coord_ra',\\n       'coord_dec', 'psfFlux', 'gaussianFlux', 'visit', 'band', 'visid_idx',\\n       'mjd', 'dateobs', 'extendedness_flag', 'detect_isPrimary'],\\n      dtype='object')] are in the [columns]\""
     ]
    }
   ],
   "source": [
    "df_sel = df[['sourceId','ccdVisitId','x','y','ra','dec','coord_ra','coord_dec','psfFlux','gaussianFlux','visit','band','visid_idx','mjd','dateobs','extendedness_flag','detect_isPrimary']]"
   ]
  },
  {
   "cell_type": "code",
   "execution_count": null,
   "id": "a9301c9b-afca-4997-a25b-349c58ffbda7",
   "metadata": {
    "execution": {
     "iopub.status.busy": "2024-03-01T13:22:32.247550Z",
     "iopub.status.idle": "2024-03-01T13:22:32.247736Z",
     "shell.execute_reply": "2024-03-01T13:22:32.247650Z",
     "shell.execute_reply.started": "2024-03-01T13:22:32.247642Z"
    }
   },
   "outputs": [],
   "source": [
    "def convert_fluxtomag(x) :\n",
    "    \"\"\"\n",
    "    The object and source catalogs store only fluxes. There are hundreds of flux-related columns, \n",
    "    and to store them also as magnitudes would be redundant, and a waste of space.\n",
    "    All flux units are nanojanskys. The AB Magnitudes Wikipedia page provides a concise resource \n",
    "    for users unfamiliar with AB magnitudes and jansky fluxes. To convert to AB magnitudes use:\n",
    "    As demonstrated in Section 2.3.2, to add columns of magnitudes after retrieving columns of flux, users can do this:\n",
    "    results_table['r_calibMag'] = -2.50 * numpy.log10(results_table['r_calibFlux']) + 31.4\n",
    "    results_table['r_cModelMag'] = -2.50 * numpy.log10(results_table['r_cModelFlux']) + 31.4\n",
    "    (from DP0 tutorial)\n",
    "    \"\"\"\n",
    "    return -2.50 * np.log10(x) + 31.4"
   ]
  },
  {
   "cell_type": "code",
   "execution_count": null,
   "id": "30914e6f-52fd-4eb3-bbc1-23ff66a89188",
   "metadata": {
    "execution": {
     "iopub.status.busy": "2024-03-01T13:22:32.248415Z",
     "iopub.status.idle": "2024-03-01T13:22:32.248586Z",
     "shell.execute_reply": "2024-03-01T13:22:32.248506Z",
     "shell.execute_reply.started": "2024-03-01T13:22:32.248498Z"
    }
   },
   "outputs": [],
   "source": [
    "df_sel[\"psfMag\"] =  df_sel['psfFlux'].map(convert_fluxtomag)\n",
    "#df_sel[\"gaussianMag\"] =  df_sel['gaussianFlux'].map(lambda x:-2.50 * np.log10(x) + 31.4)\n",
    "df_sel[\"gaussianMag\"] =  df_sel['gaussianFlux'].map(convert_fluxtomag)"
   ]
  },
  {
   "cell_type": "code",
   "execution_count": null,
   "id": "b5458f28-5032-4720-a388-636dd8c40425",
   "metadata": {
    "execution": {
     "iopub.status.busy": "2024-03-01T13:22:32.249016Z",
     "iopub.status.idle": "2024-03-01T13:22:32.249184Z",
     "shell.execute_reply": "2024-03-01T13:22:32.249107Z",
     "shell.execute_reply.started": "2024-03-01T13:22:32.249100Z"
    }
   },
   "outputs": [],
   "source": [
    "df_sel = df_sel[df_sel['extendedness_flag']==False & df_sel['detect_isPrimary']]"
   ]
  },
  {
   "cell_type": "code",
   "execution_count": null,
   "id": "f48573a3-24d2-4149-b861-e291ebac8091",
   "metadata": {
    "execution": {
     "iopub.status.busy": "2024-03-01T13:22:32.249941Z",
     "iopub.status.idle": "2024-03-01T13:22:32.250113Z",
     "shell.execute_reply": "2024-03-01T13:22:32.250026Z",
     "shell.execute_reply.started": "2024-03-01T13:22:32.250019Z"
    }
   },
   "outputs": [],
   "source": [
    "df_sel.dropna(axis=0,inplace = True)"
   ]
  },
  {
   "cell_type": "code",
   "execution_count": null,
   "id": "495079c5-f71e-4741-8cdc-0b912d4dc36b",
   "metadata": {
    "execution": {
     "iopub.status.busy": "2024-03-01T13:22:32.250515Z",
     "iopub.status.idle": "2024-03-01T13:22:32.250668Z",
     "shell.execute_reply": "2024-03-01T13:22:32.250595Z",
     "shell.execute_reply.started": "2024-03-01T13:22:32.250588Z"
    }
   },
   "outputs": [],
   "source": [
    "df_sel"
   ]
  },
  {
   "cell_type": "code",
   "execution_count": null,
   "id": "a8f6b71e-4486-45a6-bab8-13eae61ded2f",
   "metadata": {
    "execution": {
     "iopub.status.busy": "2024-03-01T13:22:32.251330Z",
     "iopub.status.idle": "2024-03-01T13:22:32.251489Z",
     "shell.execute_reply": "2024-03-01T13:22:32.251416Z",
     "shell.execute_reply.started": "2024-03-01T13:22:32.251410Z"
    }
   },
   "outputs": [],
   "source": [
    "df_sel.plot.scatter('x','y',c='ccdVisitId',colormap='viridis')"
   ]
  },
  {
   "cell_type": "code",
   "execution_count": null,
   "id": "7f1e4786-d417-402a-bdc1-0aca5e040dae",
   "metadata": {
    "execution": {
     "iopub.status.busy": "2024-03-01T13:22:32.251924Z",
     "iopub.status.idle": "2024-03-01T13:22:32.252093Z",
     "shell.execute_reply": "2024-03-01T13:22:32.252005Z",
     "shell.execute_reply.started": "2024-03-01T13:22:32.251998Z"
    }
   },
   "outputs": [],
   "source": [
    "df_sel.plot.scatter('ra','dec',c='ccdVisitId',colormap='hsv',grid=True,figsize=(10,5))"
   ]
  },
  {
   "cell_type": "code",
   "execution_count": null,
   "id": "52e5f78a-e202-4fc7-8aa5-8a99fce569d0",
   "metadata": {
    "execution": {
     "iopub.status.busy": "2024-03-01T13:22:32.252704Z",
     "iopub.status.idle": "2024-03-01T13:22:32.252856Z",
     "shell.execute_reply": "2024-03-01T13:22:32.252786Z",
     "shell.execute_reply.started": "2024-03-01T13:22:32.252778Z"
    }
   },
   "outputs": [],
   "source": [
    "df_sel.plot.scatter('coord_ra','coord_dec',c='ccdVisitId',colormap='hsv',grid=True,figsize=(10,5))"
   ]
  },
  {
   "cell_type": "code",
   "execution_count": null,
   "id": "36bc38b2-e138-4e00-8b73-f2776f1b0685",
   "metadata": {
    "execution": {
     "iopub.status.busy": "2024-03-01T13:22:32.253425Z",
     "iopub.status.idle": "2024-03-01T13:22:32.253581Z",
     "shell.execute_reply": "2024-03-01T13:22:32.253503Z",
     "shell.execute_reply.started": "2024-03-01T13:22:32.253496Z"
    }
   },
   "outputs": [],
   "source": [
    "df_sel['coord_ra'].plot(kind=\"hist\",bins=50 ,range=(0,360),logy=True,title=\"coord_ra\",grid=True,figsize=(10,5))"
   ]
  },
  {
   "cell_type": "code",
   "execution_count": null,
   "id": "ea52f52d-785d-401e-9e2a-7f6f4cbafe08",
   "metadata": {
    "execution": {
     "iopub.status.busy": "2024-03-01T13:22:32.254094Z",
     "iopub.status.idle": "2024-03-01T13:22:32.254245Z",
     "shell.execute_reply": "2024-03-01T13:22:32.254174Z",
     "shell.execute_reply.started": "2024-03-01T13:22:32.254167Z"
    }
   },
   "outputs": [],
   "source": [
    "df_sel['coord_dec'].plot(kind=\"hist\",bins=50 ,range=(-90,10),logy=True,title=\"coord_dec\",grid=True,figsize=(10,5))"
   ]
  },
  {
   "cell_type": "code",
   "execution_count": null,
   "id": "71a85a9e-0a81-4d04-a3a7-417f9cc0a39f",
   "metadata": {
    "execution": {
     "iopub.status.busy": "2024-03-01T13:22:32.254693Z",
     "iopub.status.idle": "2024-03-01T13:22:32.254843Z",
     "shell.execute_reply": "2024-03-01T13:22:32.254768Z",
     "shell.execute_reply.started": "2024-03-01T13:22:32.254761Z"
    }
   },
   "outputs": [],
   "source": [
    "cut_skyloc = ((df_sel['dec'] < -30) & (df_sel['dec'] > -40) & (df_sel['ra'] > 100) & (df_sel['ra'] < 150))"
   ]
  },
  {
   "cell_type": "code",
   "execution_count": null,
   "id": "4312ddf5-74d6-4cd9-bff5-dce8d55505f6",
   "metadata": {
    "execution": {
     "iopub.status.busy": "2024-03-01T13:22:32.255273Z",
     "iopub.status.idle": "2024-03-01T13:22:32.255434Z",
     "shell.execute_reply": "2024-03-01T13:22:32.255361Z",
     "shell.execute_reply.started": "2024-03-01T13:22:32.255354Z"
    }
   },
   "outputs": [],
   "source": [
    "df_sel = df_sel[cut_skyloc]"
   ]
  },
  {
   "cell_type": "code",
   "execution_count": null,
   "id": "8d7ea79d-7fdc-40b8-a3db-4ab04b815cd2",
   "metadata": {
    "execution": {
     "iopub.status.busy": "2024-03-01T13:22:32.255911Z",
     "iopub.status.idle": "2024-03-01T13:22:32.256075Z",
     "shell.execute_reply": "2024-03-01T13:22:32.255988Z",
     "shell.execute_reply.started": "2024-03-01T13:22:32.255981Z"
    }
   },
   "outputs": [],
   "source": [
    "df_sel['psfMag'].plot(kind=\"hist\",bins=50,range=(5,30),logy=True,grid=True,title=\"psMag\")"
   ]
  },
  {
   "cell_type": "code",
   "execution_count": null,
   "id": "d9f34f5d-1060-447d-b73d-5626e1a5972b",
   "metadata": {
    "execution": {
     "iopub.status.busy": "2024-03-01T13:22:32.256645Z",
     "iopub.status.idle": "2024-03-01T13:22:32.256794Z",
     "shell.execute_reply": "2024-03-01T13:22:32.256723Z",
     "shell.execute_reply.started": "2024-03-01T13:22:32.256716Z"
    }
   },
   "outputs": [],
   "source": [
    "df_sel['gaussianMag'].plot(kind=\"hist\",bins=50 ,range=(5,30),logy=True,grid=True,title=\"gaussianMag\")"
   ]
  },
  {
   "cell_type": "code",
   "execution_count": null,
   "id": "f560da18-d3db-437b-a323-207132665bf3",
   "metadata": {
    "execution": {
     "iopub.status.busy": "2024-03-01T13:22:32.257314Z",
     "iopub.status.idle": "2024-03-01T13:22:32.257458Z",
     "shell.execute_reply": "2024-03-01T13:22:32.257391Z",
     "shell.execute_reply.started": "2024-03-01T13:22:32.257384Z"
    }
   },
   "outputs": [],
   "source": [
    "df_sel"
   ]
  },
  {
   "cell_type": "code",
   "execution_count": null,
   "id": "5769a54e-167c-438c-aed4-a1bd070d2d8c",
   "metadata": {
    "execution": {
     "iopub.status.busy": "2024-03-01T13:22:32.258051Z",
     "iopub.status.idle": "2024-03-01T13:22:32.258204Z",
     "shell.execute_reply": "2024-03-01T13:22:32.258131Z",
     "shell.execute_reply.started": "2024-03-01T13:22:32.258124Z"
    }
   },
   "outputs": [],
   "source": [
    "#df_sel.groupby(df_sel['dateobs'].dt.date).size().plot()\n",
    "datetime = pd.to_datetime(df_sel['dateobs'])"
   ]
  },
  {
   "cell_type": "code",
   "execution_count": null,
   "id": "5eb4f7c1-bf32-4943-843c-85c1dddefe39",
   "metadata": {
    "execution": {
     "iopub.status.busy": "2024-03-01T13:22:32.258561Z",
     "iopub.status.idle": "2024-03-01T13:22:32.258710Z",
     "shell.execute_reply": "2024-03-01T13:22:32.258637Z",
     "shell.execute_reply.started": "2024-03-01T13:22:32.258631Z"
    }
   },
   "outputs": [],
   "source": [
    "df_sel['dateobs'].max()"
   ]
  },
  {
   "cell_type": "code",
   "execution_count": null,
   "id": "1bf81fbf-64e6-46f5-be8a-9adca60d3abb",
   "metadata": {
    "execution": {
     "iopub.status.busy": "2024-03-01T13:22:32.259211Z",
     "iopub.status.idle": "2024-03-01T13:22:32.259360Z",
     "shell.execute_reply": "2024-03-01T13:22:32.259289Z",
     "shell.execute_reply.started": "2024-03-01T13:22:32.259283Z"
    }
   },
   "outputs": [],
   "source": [
    "df_sel[\"date\"] = df[\"dateobs\"].astype(\"datetime64\")"
   ]
  },
  {
   "cell_type": "code",
   "execution_count": null,
   "id": "a6e84a91-e9d6-404d-8ef9-c2f80f3d3bf0",
   "metadata": {
    "execution": {
     "iopub.status.busy": "2024-03-01T13:22:32.259848Z",
     "iopub.status.idle": "2024-03-01T13:22:32.259993Z",
     "shell.execute_reply": "2024-03-01T13:22:32.259923Z",
     "shell.execute_reply.started": "2024-03-01T13:22:32.259917Z"
    }
   },
   "outputs": [],
   "source": [
    "df_sel"
   ]
  },
  {
   "cell_type": "code",
   "execution_count": null,
   "id": "0c1f2fd3-0101-4637-b030-d226a3b58cab",
   "metadata": {
    "execution": {
     "iopub.status.busy": "2024-03-01T13:22:32.260465Z",
     "iopub.status.idle": "2024-03-01T13:22:32.260607Z",
     "shell.execute_reply": "2024-03-01T13:22:32.260541Z",
     "shell.execute_reply.started": "2024-03-01T13:22:32.260535Z"
    }
   },
   "outputs": [],
   "source": [
    "df_time = df_sel[[\"date\"]]"
   ]
  },
  {
   "cell_type": "code",
   "execution_count": null,
   "id": "79e7f118-e3da-4e0a-9497-a1079dbd30d6",
   "metadata": {
    "execution": {
     "iopub.status.busy": "2024-03-01T13:22:32.261003Z",
     "iopub.status.idle": "2024-03-01T13:22:32.261154Z",
     "shell.execute_reply": "2024-03-01T13:22:32.261086Z",
     "shell.execute_reply.started": "2024-03-01T13:22:32.261080Z"
    }
   },
   "outputs": [],
   "source": [
    "df_time"
   ]
  },
  {
   "cell_type": "code",
   "execution_count": null,
   "id": "1845d0ef-c99a-4b63-9212-80d890f38128",
   "metadata": {
    "execution": {
     "iopub.status.busy": "2024-03-01T13:22:32.261663Z",
     "iopub.status.idle": "2024-03-01T13:22:32.261806Z",
     "shell.execute_reply": "2024-03-01T13:22:32.261739Z",
     "shell.execute_reply.started": "2024-03-01T13:22:32.261733Z"
    }
   },
   "outputs": [],
   "source": [
    "fig = plt.figure()\n",
    "ax = fig.add_subplot(1,1,1)\n",
    "ax = (df_time[\"date\"].groupby(df_time[\"date\"].dt.minute)\n",
    "                         .count()).plot(kind=\"bar\")"
   ]
  }
 ],
 "metadata": {
  "kernelspec": {
   "display_name": "LSST",
   "language": "python",
   "name": "lsst"
  },
  "language_info": {
   "codemirror_mode": {
    "name": "ipython",
    "version": 3
   },
   "file_extension": ".py",
   "mimetype": "text/x-python",
   "name": "python",
   "nbconvert_exporter": "python",
   "pygments_lexer": "ipython3",
   "version": "3.11.7"
  }
 },
 "nbformat": 4,
 "nbformat_minor": 5
}
