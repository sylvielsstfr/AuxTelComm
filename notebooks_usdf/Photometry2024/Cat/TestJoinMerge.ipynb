{
 "cells": [
  {
   "cell_type": "markdown",
   "id": "1fc5eff4-6bbb-4530-b66a-8f3fd9a0f216",
   "metadata": {},
   "source": [
    "# Test Merge and Join in pandas"
   ]
  },
  {
   "cell_type": "code",
   "execution_count": 1,
   "id": "5ca3b408-3d0e-4b89-b0b1-c3043f96f7bd",
   "metadata": {
    "execution": {
     "iopub.execute_input": "2024-03-05T19:49:05.009258Z",
     "iopub.status.busy": "2024-03-05T19:49:05.009127Z",
     "iopub.status.idle": "2024-03-05T19:49:05.407712Z",
     "shell.execute_reply": "2024-03-05T19:49:05.407120Z",
     "shell.execute_reply.started": "2024-03-05T19:49:05.009245Z"
    }
   },
   "outputs": [],
   "source": [
    "import pandas as pd"
   ]
  },
  {
   "cell_type": "code",
   "execution_count": 2,
   "id": "fe5856be-4c8d-477a-b7b5-21f0d4429ef0",
   "metadata": {
    "execution": {
     "iopub.execute_input": "2024-03-05T19:49:05.408660Z",
     "iopub.status.busy": "2024-03-05T19:49:05.408386Z",
     "iopub.status.idle": "2024-03-05T19:49:05.411328Z",
     "shell.execute_reply": "2024-03-05T19:49:05.410914Z",
     "shell.execute_reply.started": "2024-03-05T19:49:05.408645Z"
    }
   },
   "outputs": [],
   "source": [
    "df1 = pd.DataFrame()\n",
    "df2 = pd.DataFrame()"
   ]
  },
  {
   "cell_type": "code",
   "execution_count": 3,
   "id": "b54af721-65c3-42b6-bc3d-0eb60f9fc5fe",
   "metadata": {
    "execution": {
     "iopub.execute_input": "2024-03-05T19:49:05.412094Z",
     "iopub.status.busy": "2024-03-05T19:49:05.411954Z",
     "iopub.status.idle": "2024-03-05T19:49:05.415616Z",
     "shell.execute_reply": "2024-03-05T19:49:05.415194Z",
     "shell.execute_reply.started": "2024-03-05T19:49:05.412082Z"
    }
   },
   "outputs": [],
   "source": [
    "df1['year1'] = [2000,2001,2002,2003,2004,2005,2006,2007]\n",
    "df1['month1'] = [\"jan\",\"fev\",\"mar\",\"apr\",\"may\",\"jun\",\"july\",\"aug\"]"
   ]
  },
  {
   "cell_type": "code",
   "execution_count": 4,
   "id": "cbb00a97-8242-4c4a-872e-2b94ad9cd51c",
   "metadata": {
    "execution": {
     "iopub.execute_input": "2024-03-05T19:49:05.416857Z",
     "iopub.status.busy": "2024-03-05T19:49:05.416728Z",
     "iopub.status.idle": "2024-03-05T19:49:05.423772Z",
     "shell.execute_reply": "2024-03-05T19:49:05.423380Z",
     "shell.execute_reply.started": "2024-03-05T19:49:05.416844Z"
    }
   },
   "outputs": [
    {
     "data": {
      "text/html": [
       "<div>\n",
       "<style scoped>\n",
       "    .dataframe tbody tr th:only-of-type {\n",
       "        vertical-align: middle;\n",
       "    }\n",
       "\n",
       "    .dataframe tbody tr th {\n",
       "        vertical-align: top;\n",
       "    }\n",
       "\n",
       "    .dataframe thead th {\n",
       "        text-align: right;\n",
       "    }\n",
       "</style>\n",
       "<table border=\"1\" class=\"dataframe\">\n",
       "  <thead>\n",
       "    <tr style=\"text-align: right;\">\n",
       "      <th></th>\n",
       "      <th>year1</th>\n",
       "      <th>month1</th>\n",
       "    </tr>\n",
       "  </thead>\n",
       "  <tbody>\n",
       "    <tr>\n",
       "      <th>0</th>\n",
       "      <td>2000</td>\n",
       "      <td>jan</td>\n",
       "    </tr>\n",
       "    <tr>\n",
       "      <th>1</th>\n",
       "      <td>2001</td>\n",
       "      <td>fev</td>\n",
       "    </tr>\n",
       "    <tr>\n",
       "      <th>2</th>\n",
       "      <td>2002</td>\n",
       "      <td>mar</td>\n",
       "    </tr>\n",
       "    <tr>\n",
       "      <th>3</th>\n",
       "      <td>2003</td>\n",
       "      <td>apr</td>\n",
       "    </tr>\n",
       "    <tr>\n",
       "      <th>4</th>\n",
       "      <td>2004</td>\n",
       "      <td>may</td>\n",
       "    </tr>\n",
       "    <tr>\n",
       "      <th>5</th>\n",
       "      <td>2005</td>\n",
       "      <td>jun</td>\n",
       "    </tr>\n",
       "    <tr>\n",
       "      <th>6</th>\n",
       "      <td>2006</td>\n",
       "      <td>july</td>\n",
       "    </tr>\n",
       "    <tr>\n",
       "      <th>7</th>\n",
       "      <td>2007</td>\n",
       "      <td>aug</td>\n",
       "    </tr>\n",
       "  </tbody>\n",
       "</table>\n",
       "</div>"
      ],
      "text/plain": [
       "   year1 month1\n",
       "0   2000    jan\n",
       "1   2001    fev\n",
       "2   2002    mar\n",
       "3   2003    apr\n",
       "4   2004    may\n",
       "5   2005    jun\n",
       "6   2006   july\n",
       "7   2007    aug"
      ]
     },
     "execution_count": 4,
     "metadata": {},
     "output_type": "execute_result"
    }
   ],
   "source": [
    "df1"
   ]
  },
  {
   "cell_type": "code",
   "execution_count": 5,
   "id": "fc6824cd-340a-47f5-a0ce-5e6d56616433",
   "metadata": {
    "execution": {
     "iopub.execute_input": "2024-03-05T19:49:05.424491Z",
     "iopub.status.busy": "2024-03-05T19:49:05.424267Z",
     "iopub.status.idle": "2024-03-05T19:49:05.427219Z",
     "shell.execute_reply": "2024-03-05T19:49:05.426824Z",
     "shell.execute_reply.started": "2024-03-05T19:49:05.424478Z"
    }
   },
   "outputs": [],
   "source": [
    "df2[\"year2\"] = [2001,2003,2005,2007]\n",
    "df2[\"month2\"] = [\"A\",\"B\",\"C\",\"C\"]"
   ]
  },
  {
   "cell_type": "code",
   "execution_count": 7,
   "id": "cddf51ac-fade-45b2-bd07-728900cbc95c",
   "metadata": {
    "execution": {
     "iopub.execute_input": "2024-03-05T19:53:35.458489Z",
     "iopub.status.busy": "2024-03-05T19:53:35.458148Z",
     "iopub.status.idle": "2024-03-05T19:53:35.466089Z",
     "shell.execute_reply": "2024-03-05T19:53:35.465679Z",
     "shell.execute_reply.started": "2024-03-05T19:53:35.458472Z"
    }
   },
   "outputs": [
    {
     "data": {
      "text/html": [
       "<div>\n",
       "<style scoped>\n",
       "    .dataframe tbody tr th:only-of-type {\n",
       "        vertical-align: middle;\n",
       "    }\n",
       "\n",
       "    .dataframe tbody tr th {\n",
       "        vertical-align: top;\n",
       "    }\n",
       "\n",
       "    .dataframe thead th {\n",
       "        text-align: right;\n",
       "    }\n",
       "</style>\n",
       "<table border=\"1\" class=\"dataframe\">\n",
       "  <thead>\n",
       "    <tr style=\"text-align: right;\">\n",
       "      <th></th>\n",
       "      <th>year1</th>\n",
       "      <th>month1</th>\n",
       "      <th>month2</th>\n",
       "    </tr>\n",
       "  </thead>\n",
       "  <tbody>\n",
       "    <tr>\n",
       "      <th>0</th>\n",
       "      <td>2000</td>\n",
       "      <td>jan</td>\n",
       "      <td>NaN</td>\n",
       "    </tr>\n",
       "    <tr>\n",
       "      <th>1</th>\n",
       "      <td>2001</td>\n",
       "      <td>fev</td>\n",
       "      <td>A</td>\n",
       "    </tr>\n",
       "    <tr>\n",
       "      <th>2</th>\n",
       "      <td>2002</td>\n",
       "      <td>mar</td>\n",
       "      <td>NaN</td>\n",
       "    </tr>\n",
       "    <tr>\n",
       "      <th>3</th>\n",
       "      <td>2003</td>\n",
       "      <td>apr</td>\n",
       "      <td>B</td>\n",
       "    </tr>\n",
       "    <tr>\n",
       "      <th>4</th>\n",
       "      <td>2004</td>\n",
       "      <td>may</td>\n",
       "      <td>NaN</td>\n",
       "    </tr>\n",
       "    <tr>\n",
       "      <th>5</th>\n",
       "      <td>2005</td>\n",
       "      <td>jun</td>\n",
       "      <td>C</td>\n",
       "    </tr>\n",
       "    <tr>\n",
       "      <th>6</th>\n",
       "      <td>2006</td>\n",
       "      <td>july</td>\n",
       "      <td>NaN</td>\n",
       "    </tr>\n",
       "    <tr>\n",
       "      <th>7</th>\n",
       "      <td>2007</td>\n",
       "      <td>aug</td>\n",
       "      <td>C</td>\n",
       "    </tr>\n",
       "  </tbody>\n",
       "</table>\n",
       "</div>"
      ],
      "text/plain": [
       "   year1 month1 month2\n",
       "0   2000    jan    NaN\n",
       "1   2001    fev      A\n",
       "2   2002    mar    NaN\n",
       "3   2003    apr      B\n",
       "4   2004    may    NaN\n",
       "5   2005    jun      C\n",
       "6   2006   july    NaN\n",
       "7   2007    aug      C"
      ]
     },
     "execution_count": 7,
     "metadata": {},
     "output_type": "execute_result"
    }
   ],
   "source": [
    "df1.join(df2.set_index(\"year2\"), on=\"year1\")"
   ]
  },
  {
   "cell_type": "code",
   "execution_count": null,
   "id": "9b7c576a-9685-4da7-b0c4-3fdee49f37b3",
   "metadata": {},
   "outputs": [],
   "source": []
  }
 ],
 "metadata": {
  "kernelspec": {
   "display_name": "LSST",
   "language": "python",
   "name": "lsst"
  },
  "language_info": {
   "codemirror_mode": {
    "name": "ipython",
    "version": 3
   },
   "file_extension": ".py",
   "mimetype": "text/x-python",
   "name": "python",
   "nbconvert_exporter": "python",
   "pygments_lexer": "ipython3",
   "version": "3.11.7"
  }
 },
 "nbformat": 4,
 "nbformat_minor": 5
}
