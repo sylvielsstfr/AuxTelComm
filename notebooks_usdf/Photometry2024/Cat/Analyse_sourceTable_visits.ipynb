{
 "cells": [
  {
   "cell_type": "markdown",
   "id": "8608d6fb-20fc-4b07-ba88-74e9b45cdf25",
   "metadata": {},
   "source": [
    "# Analyse  Source Table Visit"
   ]
  },
  {
   "cell_type": "markdown",
   "id": "667ba03e-ddfb-47fd-bee3-3824f9be7ae5",
   "metadata": {},
   "source": [
    " work with Weakly_2024_07\n",
    "- use jupyter kernel LSST\n",
    "\n",
    "\n",
    "- author : Sylvie Dagoret-Campagne\n",
    "- affiliation : IJCLab\n",
    "- creation date : 2024/03/05\n",
    "- update : 2024/03/05\n"
   ]
  },
  {
   "cell_type": "code",
   "execution_count": null,
   "id": "058012ec-9888-4b97-9fe2-57595e1bc0e7",
   "metadata": {},
   "outputs": [],
   "source": [
    "import numpy as np\n",
    "import matplotlib.pyplot as plt\n",
    "%matplotlib inline\n",
    "from mpl_toolkits.axes_grid1 import make_axes_locatable\n",
    "from matplotlib.colors import LogNorm,SymLogNorm\n",
    "\n",
    "\n",
    "import matplotlib.ticker                         # here's where the formatter is\n",
    "from matplotlib.ticker import (MultipleLocator, FormatStrFormatter,\n",
    "                               AutoMinorLocator)\n",
    "from astropy.visualization import (MinMaxInterval, SqrtStretch,ZScaleInterval,PercentileInterval,\n",
    "                                   ImageNormalize,imshow_norm)\n",
    "from astropy.visualization.stretch import SinhStretch, LinearStretch,AsinhStretch,LogStretch\n",
    "from astropy.io import fits\n",
    "import astropy.coordinates as coord\n",
    "import astropy.units as u\n",
    "import pandas as pd\n",
    "\n",
    "import matplotlib.ticker                         # here's where the formatter is\n",
    "import os\n",
    "import re\n",
    "import pandas as pd\n",
    "\n",
    "plt.rcParams[\"figure.figsize\"] = (4,3)\n",
    "plt.rcParams[\"axes.labelsize\"] = 'xx-large'\n",
    "plt.rcParams['axes.titlesize'] = 'xx-large'\n",
    "plt.rcParams['xtick.labelsize']= 'xx-large'\n",
    "plt.rcParams['ytick.labelsize']= 'xx-large'"
   ]
  },
  {
   "cell_type": "markdown",
   "id": "7e9d398e-60ef-4669-8641-7001af9e5f0a",
   "metadata": {},
   "source": [
    "## Config"
   ]
  },
  {
   "cell_type": "code",
   "execution_count": null,
   "id": "907f5257-e80b-4336-b41f-5bf3745571bf",
   "metadata": {},
   "outputs": [],
   "source": [
    "\n",
    "\n",
    "file_selected_visits = \"../data/202402/SelectedVisits_fall2023_tract_3864.csv\"\n",
    "filesource_in =\"../data/202402/sourceTable_visit_202402_20231121-20231222.csv\"\n",
    "#filesource_in =\"../data/202402/sourceTable_visit_202402.csv"
   ]
  },
  {
   "cell_type": "markdown",
   "id": "9f1dad0e-2833-4dde-b8b0-51b676809b4b",
   "metadata": {},
   "source": [
    "## Read"
   ]
  },
  {
   "cell_type": "markdown",
   "id": "77318fb0-fb61-4175-b232-ad5491e7b4c9",
   "metadata": {},
   "source": [
    "### read visits"
   ]
  },
  {
   "cell_type": "code",
   "execution_count": null,
   "id": "8aa86661-1184-4439-bbeb-4809847a8d7f",
   "metadata": {},
   "outputs": [],
   "source": [
    "df_visit = pd.read_csv(file_selected_visits,index_col=0)"
   ]
  },
  {
   "cell_type": "code",
   "execution_count": null,
   "id": "54c6bc04-7a3a-4fa3-9e50-a89e5e302364",
   "metadata": {},
   "outputs": [],
   "source": [
    "df_visit.head()"
   ]
  },
  {
   "cell_type": "markdown",
   "id": "988c2dba-4a11-481b-9ab5-b6c892df4ad3",
   "metadata": {},
   "source": [
    "### Read sourceTable_visit"
   ]
  },
  {
   "cell_type": "code",
   "execution_count": null,
   "id": "a4c4bc49-f65a-441c-8f51-82a27f7887d2",
   "metadata": {},
   "outputs": [],
   "source": [
    "df = pd.read_csv(filesource_in,index_col=0)"
   ]
  },
  {
   "cell_type": "code",
   "execution_count": null,
   "id": "f4ef9528-0f33-4fe6-a610-a55e119e6a25",
   "metadata": {},
   "outputs": [],
   "source": [
    "df.head()"
   ]
  },
  {
   "cell_type": "code",
   "execution_count": null,
   "id": "e90bae66-a9d9-482e-b5ef-e737f92bd965",
   "metadata": {},
   "outputs": [],
   "source": [
    "df.dropna(axis=1, how='all',inplace =True)"
   ]
  },
  {
   "cell_type": "code",
   "execution_count": null,
   "id": "63b1b80b-dcd3-485d-9dba-d8cadd45c54d",
   "metadata": {},
   "outputs": [],
   "source": [
    "df[\"nightObs\"] =df.apply(lambda x: x['visitId']//100_000, axis=1)"
   ]
  },
  {
   "cell_type": "code",
   "execution_count": null,
   "id": "a1c39c13-e842-46de-84eb-e2f524b8d7fd",
   "metadata": {},
   "outputs": [],
   "source": []
  },
  {
   "cell_type": "code",
   "execution_count": null,
   "id": "4b23eb74-c343-450f-a9ea-bff1b6603972",
   "metadata": {},
   "outputs": [],
   "source": [
    "df_sel = df[['parentSourceId','ccdVisitId','x','y','ra','dec','coord_ra','coord_dec','calibFlux','psfFlux','gaussianFlux','localPhotoCalib','visit','band','extendedness_flag','detect_isPrimary']]"
   ]
  },
  {
   "cell_type": "code",
   "execution_count": null,
   "id": "2b7dfab7-7ca9-4e0a-aa1d-034b37cd157d",
   "metadata": {},
   "outputs": [],
   "source": []
  },
  {
   "cell_type": "code",
   "execution_count": null,
   "id": "a9301c9b-afca-4997-a25b-349c58ffbda7",
   "metadata": {},
   "outputs": [],
   "source": [
    "def convert_fluxtomag(x) :\n",
    "    \"\"\"\n",
    "    The object and source catalogs store only fluxes. There are hundreds of flux-related columns, \n",
    "    and to store them also as magnitudes would be redundant, and a waste of space.\n",
    "    All flux units are nanojanskys. The AB Magnitudes Wikipedia page provides a concise resource \n",
    "    for users unfamiliar with AB magnitudes and jansky fluxes. To convert to AB magnitudes use:\n",
    "    As demonstrated in Section 2.3.2, to add columns of magnitudes after retrieving columns of flux, users can do this:\n",
    "    results_table['r_calibMag'] = -2.50 * numpy.log10(results_table['r_calibFlux']) + 31.4\n",
    "    results_table['r_cModelMag'] = -2.50 * numpy.log10(results_table['r_cModelFlux']) + 31.4\n",
    "    (from DP0 tutorial)\n",
    "    \"\"\"\n",
    "    return -2.50 * np.log10(x) + 31.4"
   ]
  },
  {
   "cell_type": "code",
   "execution_count": null,
   "id": "30914e6f-52fd-4eb3-bbc1-23ff66a89188",
   "metadata": {},
   "outputs": [],
   "source": [
    "df_sel[\"psfMag\"] =  df_sel['psfFlux'].map(convert_fluxtomag)\n",
    "#df_sel[\"gaussianMag\"] =  df_sel['gaussianFlux'].map(lambda x:-2.50 * np.log10(x) + 31.4)\n",
    "df_sel[\"gaussianMag\"] =  df_sel['gaussianFlux'].map(convert_fluxtomag)"
   ]
  },
  {
   "cell_type": "code",
   "execution_count": null,
   "id": "b5458f28-5032-4720-a388-636dd8c40425",
   "metadata": {},
   "outputs": [],
   "source": [
    "df_sel = df_sel[df_sel['extendedness_flag']==False & df_sel['detect_isPrimary']]"
   ]
  },
  {
   "cell_type": "code",
   "execution_count": null,
   "id": "f48573a3-24d2-4149-b861-e291ebac8091",
   "metadata": {},
   "outputs": [],
   "source": [
    "df_sel.dropna(axis=0,inplace = True)"
   ]
  },
  {
   "cell_type": "code",
   "execution_count": null,
   "id": "7f1e4786-d417-402a-bdc1-0aca5e040dae",
   "metadata": {},
   "outputs": [],
   "source": [
    "fig,ax = plt.subplots(1,1,figsize=(10,10))\n",
    "df_sel.plot.scatter('ra','dec',c='ccdVisitId',ax=ax,colormap='jet',grid=True)\n",
    "ax.set_aspect(\"auto\")"
   ]
  },
  {
   "cell_type": "code",
   "execution_count": null,
   "id": "5a048370-0610-48ef-b5d1-cca2a750affd",
   "metadata": {},
   "outputs": [],
   "source": [
    "df_sel = df_sel[df_sel[\"dec\"]>-40]"
   ]
  },
  {
   "cell_type": "code",
   "execution_count": null,
   "id": "52e5f78a-e202-4fc7-8aa5-8a99fce569d0",
   "metadata": {},
   "outputs": [],
   "source": [
    "fig,ax = plt.subplots(1,1,figsize=(10,10))\n",
    "df_sel.plot.scatter('coord_ra','coord_dec',c='ccdVisitId',colormap='jet',grid=True,ax=ax)\n",
    "ax.set_aspect(\"auto\")"
   ]
  },
  {
   "cell_type": "markdown",
   "id": "784a4d22-a775-45d8-9846-3824d5b36fc5",
   "metadata": {},
   "source": [
    "## Mag distributions"
   ]
  },
  {
   "cell_type": "code",
   "execution_count": null,
   "id": "4312ddf5-74d6-4cd9-bff5-dce8d55505f6",
   "metadata": {},
   "outputs": [],
   "source": [
    "all_bands = [\"g\",\"r\",\"i\",\"z\",\"y\"]\n",
    "NB = len(all_bands)\n",
    "band_color = [\"g\",\"r\",\"orange\",\"grey\",\"k\"]\n",
    "all_df_perband = [ df_sel[df_sel['band'] == band] for band in all_bands ]\n",
    "fig,axs = plt.subplots(1,NB,figsize=(16,4))\n",
    "for iband in range(NB):\n",
    "    all_df_perband[iband].hist(\"psfMag\",bins=50,range=(10,22),ax=axs[iband],facecolor=band_color[iband],label=all_bands[iband])\n",
    "plt.tight_layout()\n"
   ]
  },
  {
   "cell_type": "code",
   "execution_count": null,
   "id": "5fe9d929-fd80-4b04-b9ec-da495c49f279",
   "metadata": {},
   "outputs": [],
   "source": [
    "all_bands = [\"g\",\"r\",\"i\",\"z\",\"y\"]\n",
    "NB = len(all_bands)\n",
    "band_color = [\"g\",\"r\",\"orange\",\"grey\",\"k\"]\n",
    "all_df_perband = [ df_sel[df_sel['band'] == band] for band in all_bands ]\n",
    "fig,axs = plt.subplots(1,NB,figsize=(16,4))\n",
    "for iband in range(NB):\n",
    "    all_df_perband[iband].hist(\"localPhotoCalib\",bins=50,ax=axs[iband],facecolor=band_color[iband],label=all_bands[iband])\n",
    "plt.tight_layout()\n"
   ]
  },
  {
   "cell_type": "markdown",
   "id": "df575acb-44d5-4121-b7f9-8b35beea9f2c",
   "metadata": {},
   "source": [
    "## Merge sourceTable_visit with visitTable "
   ]
  },
  {
   "cell_type": "code",
   "execution_count": null,
   "id": "ac11c3df-8eb5-4555-b9aa-21e18bc62e6b",
   "metadata": {},
   "outputs": [],
   "source": [
    "df_m = df_sel.join(df_visit,on=\"visit\",lsuffix='_left', rsuffix='_right')"
   ]
  },
  {
   "cell_type": "code",
   "execution_count": null,
   "id": "fe160d77-6b67-4bec-9b78-50a24a45e4f9",
   "metadata": {},
   "outputs": [],
   "source": [
    "df_m"
   ]
  },
  {
   "cell_type": "code",
   "execution_count": null,
   "id": "c3da3b18-1bcd-4552-b514-9e6b6f82237b",
   "metadata": {},
   "outputs": [],
   "source": [
    "df_m.dropna(axis=0,how='any')"
   ]
  },
  {
   "cell_type": "code",
   "execution_count": null,
   "id": "35d4256f-c1db-4fba-8703-1abafb383a94",
   "metadata": {},
   "outputs": [],
   "source": []
  }
 ],
 "metadata": {
  "kernelspec": {
   "display_name": "LSST",
   "language": "python",
   "name": "lsst"
  },
  "language_info": {
   "codemirror_mode": {
    "name": "ipython",
    "version": 3
   },
   "file_extension": ".py",
   "mimetype": "text/x-python",
   "name": "python",
   "nbconvert_exporter": "python",
   "pygments_lexer": "ipython3",
   "version": "3.11.7"
  }
 },
 "nbformat": 4,
 "nbformat_minor": 5
}
