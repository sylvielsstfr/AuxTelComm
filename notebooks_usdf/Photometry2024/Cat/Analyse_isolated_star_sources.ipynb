{
 "cells": [
  {
   "cell_type": "markdown",
   "id": "8608d6fb-20fc-4b07-ba88-74e9b45cdf25",
   "metadata": {},
   "source": [
    "# Analyse Isolated Star Sources"
   ]
  },
  {
   "cell_type": "markdown",
   "id": "667ba03e-ddfb-47fd-bee3-3824f9be7ae5",
   "metadata": {},
   "source": [
    " work with Weakly_2024_07\n",
    "- use jupyter kernel LSST\n",
    "\n",
    "\n",
    "- author : Sylvie Dagoret-Campagne\n",
    "- affiliation : IJCLab\n",
    "- creation date : 2024/02/25\n",
    "- update : 2024/02/25\n"
   ]
  },
  {
   "cell_type": "code",
   "execution_count": 1,
   "id": "058012ec-9888-4b97-9fe2-57595e1bc0e7",
   "metadata": {
    "execution": {
     "iopub.execute_input": "2024-02-25T15:06:54.742981Z",
     "iopub.status.busy": "2024-02-25T15:06:54.742644Z",
     "iopub.status.idle": "2024-02-25T15:06:55.314932Z",
     "shell.execute_reply": "2024-02-25T15:06:55.314486Z",
     "shell.execute_reply.started": "2024-02-25T15:06:54.742966Z"
    }
   },
   "outputs": [],
   "source": [
    "import numpy as np\n",
    "import matplotlib.pyplot as plt\n",
    "%matplotlib inline\n",
    "from mpl_toolkits.axes_grid1 import make_axes_locatable\n",
    "from matplotlib.colors import LogNorm,SymLogNorm\n",
    "\n",
    "\n",
    "import matplotlib.ticker                         # here's where the formatter is\n",
    "from matplotlib.ticker import (MultipleLocator, FormatStrFormatter,\n",
    "                               AutoMinorLocator)\n",
    "from astropy.visualization import (MinMaxInterval, SqrtStretch,ZScaleInterval,PercentileInterval,\n",
    "                                   ImageNormalize,imshow_norm)\n",
    "from astropy.visualization.stretch import SinhStretch, LinearStretch,AsinhStretch,LogStretch\n",
    "from astropy.io import fits\n",
    "import astropy.coordinates as coord\n",
    "import astropy.units as u\n",
    "import pandas as pd\n",
    "\n",
    "import matplotlib.ticker                         # here's where the formatter is\n",
    "import os\n",
    "import re\n",
    "import pandas as pd\n",
    "\n",
    "plt.rcParams[\"figure.figsize\"] = (4,3)\n",
    "plt.rcParams[\"axes.labelsize\"] = 'xx-large'\n",
    "plt.rcParams['axes.titlesize'] = 'xx-large'\n",
    "plt.rcParams['xtick.labelsize']= 'xx-large'\n",
    "plt.rcParams['ytick.labelsize']= 'xx-large'"
   ]
  },
  {
   "cell_type": "code",
   "execution_count": 2,
   "id": "907f5257-e80b-4336-b41f-5bf3745571bf",
   "metadata": {
    "execution": {
     "iopub.execute_input": "2024-02-25T15:06:55.315703Z",
     "iopub.status.busy": "2024-02-25T15:06:55.315449Z",
     "iopub.status.idle": "2024-02-25T15:06:55.317831Z",
     "shell.execute_reply": "2024-02-25T15:06:55.317435Z",
     "shell.execute_reply.started": "2024-02-25T15:06:55.315689Z"
    }
   },
   "outputs": [],
   "source": [
    "#filesource_in=\"preSourceTable_202312.csv\"\n",
    "filesource_in=\"isolated_star_sources_202402.csv\""
   ]
  },
  {
   "cell_type": "code",
   "execution_count": 7,
   "id": "a4c4bc49-f65a-441c-8f51-82a27f7887d2",
   "metadata": {
    "execution": {
     "iopub.execute_input": "2024-02-25T15:07:07.160652Z",
     "iopub.status.busy": "2024-02-25T15:07:07.160444Z",
     "iopub.status.idle": "2024-02-25T15:07:07.616790Z",
     "shell.execute_reply": "2024-02-25T15:07:07.616318Z",
     "shell.execute_reply.started": "2024-02-25T15:07:07.160636Z"
    }
   },
   "outputs": [],
   "source": [
    "df = pd.read_csv(filesource_in,index_col=0)"
   ]
  },
  {
   "cell_type": "code",
   "execution_count": 8,
   "id": "f520bf2a-9b47-4748-9503-3896eac2dda3",
   "metadata": {
    "execution": {
     "iopub.execute_input": "2024-02-25T15:07:09.111364Z",
     "iopub.status.busy": "2024-02-25T15:07:09.110842Z",
     "iopub.status.idle": "2024-02-25T15:07:09.124369Z",
     "shell.execute_reply": "2024-02-25T15:07:09.124019Z",
     "shell.execute_reply.started": "2024-02-25T15:07:09.111349Z"
    }
   },
   "outputs": [
    {
     "data": {
      "text/html": [
       "<div>\n",
       "<style scoped>\n",
       "    .dataframe tbody tr th:only-of-type {\n",
       "        vertical-align: middle;\n",
       "    }\n",
       "\n",
       "    .dataframe tbody tr th {\n",
       "        vertical-align: top;\n",
       "    }\n",
       "\n",
       "    .dataframe thead th {\n",
       "        text-align: right;\n",
       "    }\n",
       "</style>\n",
       "<table border=\"1\" class=\"dataframe\">\n",
       "  <thead>\n",
       "    <tr style=\"text-align: right;\">\n",
       "      <th></th>\n",
       "      <th>index</th>\n",
       "      <th>sourceId</th>\n",
       "      <th>visit</th>\n",
       "      <th>detector</th>\n",
       "      <th>ra</th>\n",
       "      <th>dec</th>\n",
       "      <th>physical_filter</th>\n",
       "      <th>band</th>\n",
       "      <th>apFlux_35_0_instFlux</th>\n",
       "      <th>apFlux_35_0_instFluxErr</th>\n",
       "      <th>x</th>\n",
       "      <th>y</th>\n",
       "      <th>apFlux_50_0_instFlux</th>\n",
       "      <th>apFlux_50_0_instFluxErr</th>\n",
       "      <th>apFlux_50_0_flag</th>\n",
       "      <th>localBackground_instFlux</th>\n",
       "      <th>localBackground_flag</th>\n",
       "      <th>source_row</th>\n",
       "      <th>obj_index</th>\n",
       "      <th>tract</th>\n",
       "    </tr>\n",
       "  </thead>\n",
       "  <tbody>\n",
       "    <tr>\n",
       "      <th>0</th>\n",
       "      <td>22</td>\n",
       "      <td>177998123870715927</td>\n",
       "      <td>2023110800359</td>\n",
       "      <td>0</td>\n",
       "      <td>12.551369</td>\n",
       "      <td>-72.895434</td>\n",
       "      <td>empty~SDSSi_65mm</td>\n",
       "      <td>i</td>\n",
       "      <td>13212.871783</td>\n",
       "      <td>691.849487</td>\n",
       "      <td>3425.280389</td>\n",
       "      <td>74.046983</td>\n",
       "      <td>12824.632432</td>\n",
       "      <td>981.497251</td>\n",
       "      <td>False</td>\n",
       "      <td>0.614295</td>\n",
       "      <td>False</td>\n",
       "      <td>22</td>\n",
       "      <td>0</td>\n",
       "      <td>383</td>\n",
       "    </tr>\n",
       "    <tr>\n",
       "      <th>1</th>\n",
       "      <td>40</td>\n",
       "      <td>177998133534392361</td>\n",
       "      <td>2023110800368</td>\n",
       "      <td>0</td>\n",
       "      <td>12.551391</td>\n",
       "      <td>-72.895429</td>\n",
       "      <td>empty~SDSSi_65mm</td>\n",
       "      <td>i</td>\n",
       "      <td>13406.229133</td>\n",
       "      <td>636.976465</td>\n",
       "      <td>1768.346132</td>\n",
       "      <td>90.893416</td>\n",
       "      <td>12842.050168</td>\n",
       "      <td>902.685648</td>\n",
       "      <td>False</td>\n",
       "      <td>0.358499</td>\n",
       "      <td>False</td>\n",
       "      <td>40</td>\n",
       "      <td>0</td>\n",
       "      <td>383</td>\n",
       "    </tr>\n",
       "    <tr>\n",
       "      <th>2</th>\n",
       "      <td>161</td>\n",
       "      <td>178173923324592290</td>\n",
       "      <td>2023111300245</td>\n",
       "      <td>0</td>\n",
       "      <td>12.551398</td>\n",
       "      <td>-72.895433</td>\n",
       "      <td>empty~SDSSi_65mm</td>\n",
       "      <td>i</td>\n",
       "      <td>12472.655812</td>\n",
       "      <td>688.113400</td>\n",
       "      <td>3087.987781</td>\n",
       "      <td>363.749349</td>\n",
       "      <td>12089.859368</td>\n",
       "      <td>980.233677</td>\n",
       "      <td>False</td>\n",
       "      <td>0.181927</td>\n",
       "      <td>False</td>\n",
       "      <td>161</td>\n",
       "      <td>0</td>\n",
       "      <td>383</td>\n",
       "    </tr>\n",
       "    <tr>\n",
       "      <th>3</th>\n",
       "      <td>121</td>\n",
       "      <td>178173926545817722</td>\n",
       "      <td>2023111300248</td>\n",
       "      <td>0</td>\n",
       "      <td>12.551393</td>\n",
       "      <td>-72.895434</td>\n",
       "      <td>empty~SDSSi_65mm</td>\n",
       "      <td>i</td>\n",
       "      <td>13557.406984</td>\n",
       "      <td>685.153762</td>\n",
       "      <td>2535.062299</td>\n",
       "      <td>372.431613</td>\n",
       "      <td>14818.249205</td>\n",
       "      <td>975.847251</td>\n",
       "      <td>False</td>\n",
       "      <td>0.619669</td>\n",
       "      <td>False</td>\n",
       "      <td>121</td>\n",
       "      <td>0</td>\n",
       "      <td>383</td>\n",
       "    </tr>\n",
       "    <tr>\n",
       "      <th>4</th>\n",
       "      <td>21</td>\n",
       "      <td>178209144203902998</td>\n",
       "      <td>2023111400279</td>\n",
       "      <td>0</td>\n",
       "      <td>12.551398</td>\n",
       "      <td>-72.895448</td>\n",
       "      <td>empty~SDSSi_65mm</td>\n",
       "      <td>i</td>\n",
       "      <td>10620.340441</td>\n",
       "      <td>712.353010</td>\n",
       "      <td>2919.028476</td>\n",
       "      <td>159.923170</td>\n",
       "      <td>9525.332909</td>\n",
       "      <td>1011.543900</td>\n",
       "      <td>False</td>\n",
       "      <td>0.866852</td>\n",
       "      <td>False</td>\n",
       "      <td>21</td>\n",
       "      <td>0</td>\n",
       "      <td>383</td>\n",
       "    </tr>\n",
       "    <tr>\n",
       "      <th>...</th>\n",
       "      <td>...</td>\n",
       "      <td>...</td>\n",
       "      <td>...</td>\n",
       "      <td>...</td>\n",
       "      <td>...</td>\n",
       "      <td>...</td>\n",
       "      <td>...</td>\n",
       "      <td>...</td>\n",
       "      <td>...</td>\n",
       "      <td>...</td>\n",
       "      <td>...</td>\n",
       "      <td>...</td>\n",
       "      <td>...</td>\n",
       "      <td>...</td>\n",
       "      <td>...</td>\n",
       "      <td>...</td>\n",
       "      <td>...</td>\n",
       "      <td>...</td>\n",
       "      <td>...</td>\n",
       "      <td>...</td>\n",
       "    </tr>\n",
       "    <tr>\n",
       "      <th>152519</th>\n",
       "      <td>55</td>\n",
       "      <td>179546353280483384</td>\n",
       "      <td>2023122200468</td>\n",
       "      <td>0</td>\n",
       "      <td>122.636921</td>\n",
       "      <td>-36.166699</td>\n",
       "      <td>empty~SDSSy_65mm</td>\n",
       "      <td>y</td>\n",
       "      <td>6323.352977</td>\n",
       "      <td>561.712576</td>\n",
       "      <td>4029.246388</td>\n",
       "      <td>467.715657</td>\n",
       "      <td>NaN</td>\n",
       "      <td>NaN</td>\n",
       "      <td>True</td>\n",
       "      <td>-0.122081</td>\n",
       "      <td>False</td>\n",
       "      <td>55</td>\n",
       "      <td>1345</td>\n",
       "      <td>3864</td>\n",
       "    </tr>\n",
       "    <tr>\n",
       "      <th>152520</th>\n",
       "      <td>8</td>\n",
       "      <td>178913118334746633</td>\n",
       "      <td>2023120400546</td>\n",
       "      <td>0</td>\n",
       "      <td>122.627452</td>\n",
       "      <td>-36.261952</td>\n",
       "      <td>empty~SDSSy_65mm</td>\n",
       "      <td>y</td>\n",
       "      <td>6154.753825</td>\n",
       "      <td>537.923886</td>\n",
       "      <td>3854.589084</td>\n",
       "      <td>69.404199</td>\n",
       "      <td>6039.552589</td>\n",
       "      <td>767.419909</td>\n",
       "      <td>False</td>\n",
       "      <td>-0.111863</td>\n",
       "      <td>False</td>\n",
       "      <td>8</td>\n",
       "      <td>1346</td>\n",
       "      <td>3864</td>\n",
       "    </tr>\n",
       "    <tr>\n",
       "      <th>152521</th>\n",
       "      <td>534</td>\n",
       "      <td>179546353280483863</td>\n",
       "      <td>2023122200468</td>\n",
       "      <td>0</td>\n",
       "      <td>122.584535</td>\n",
       "      <td>-36.077190</td>\n",
       "      <td>empty~SDSSy_65mm</td>\n",
       "      <td>y</td>\n",
       "      <td>6814.557447</td>\n",
       "      <td>566.342704</td>\n",
       "      <td>2482.635397</td>\n",
       "      <td>3855.480970</td>\n",
       "      <td>6599.599039</td>\n",
       "      <td>804.355992</td>\n",
       "      <td>False</td>\n",
       "      <td>0.074439</td>\n",
       "      <td>False</td>\n",
       "      <td>534</td>\n",
       "      <td>1347</td>\n",
       "      <td>3864</td>\n",
       "    </tr>\n",
       "    <tr>\n",
       "      <th>152522</th>\n",
       "      <td>18</td>\n",
       "      <td>179300100256825363</td>\n",
       "      <td>2023121500503</td>\n",
       "      <td>0</td>\n",
       "      <td>122.571455</td>\n",
       "      <td>-36.266611</td>\n",
       "      <td>empty~SDSSy_65mm</td>\n",
       "      <td>y</td>\n",
       "      <td>7482.109294</td>\n",
       "      <td>647.611675</td>\n",
       "      <td>3342.339900</td>\n",
       "      <td>156.727808</td>\n",
       "      <td>9131.216602</td>\n",
       "      <td>923.076524</td>\n",
       "      <td>False</td>\n",
       "      <td>0.378480</td>\n",
       "      <td>False</td>\n",
       "      <td>18</td>\n",
       "      <td>1348</td>\n",
       "      <td>3864</td>\n",
       "    </tr>\n",
       "    <tr>\n",
       "      <th>152523</th>\n",
       "      <td>145</td>\n",
       "      <td>179159378874597522</td>\n",
       "      <td>2023121100518</td>\n",
       "      <td>0</td>\n",
       "      <td>122.371088</td>\n",
       "      <td>-36.241104</td>\n",
       "      <td>empty~SDSSy_65mm</td>\n",
       "      <td>y</td>\n",
       "      <td>6187.744941</td>\n",
       "      <td>608.343115</td>\n",
       "      <td>112.746492</td>\n",
       "      <td>984.431644</td>\n",
       "      <td>6689.257230</td>\n",
       "      <td>865.871984</td>\n",
       "      <td>False</td>\n",
       "      <td>0.112740</td>\n",
       "      <td>False</td>\n",
       "      <td>145</td>\n",
       "      <td>1349</td>\n",
       "      <td>3864</td>\n",
       "    </tr>\n",
       "  </tbody>\n",
       "</table>\n",
       "<p>293173 rows × 20 columns</p>\n",
       "</div>"
      ],
      "text/plain": [
       "        index            sourceId          visit  detector          ra  \\\n",
       "0          22  177998123870715927  2023110800359         0   12.551369   \n",
       "1          40  177998133534392361  2023110800368         0   12.551391   \n",
       "2         161  178173923324592290  2023111300245         0   12.551398   \n",
       "3         121  178173926545817722  2023111300248         0   12.551393   \n",
       "4          21  178209144203902998  2023111400279         0   12.551398   \n",
       "...       ...                 ...            ...       ...         ...   \n",
       "152519     55  179546353280483384  2023122200468         0  122.636921   \n",
       "152520      8  178913118334746633  2023120400546         0  122.627452   \n",
       "152521    534  179546353280483863  2023122200468         0  122.584535   \n",
       "152522     18  179300100256825363  2023121500503         0  122.571455   \n",
       "152523    145  179159378874597522  2023121100518         0  122.371088   \n",
       "\n",
       "              dec   physical_filter band  apFlux_35_0_instFlux  \\\n",
       "0      -72.895434  empty~SDSSi_65mm    i          13212.871783   \n",
       "1      -72.895429  empty~SDSSi_65mm    i          13406.229133   \n",
       "2      -72.895433  empty~SDSSi_65mm    i          12472.655812   \n",
       "3      -72.895434  empty~SDSSi_65mm    i          13557.406984   \n",
       "4      -72.895448  empty~SDSSi_65mm    i          10620.340441   \n",
       "...           ...               ...  ...                   ...   \n",
       "152519 -36.166699  empty~SDSSy_65mm    y           6323.352977   \n",
       "152520 -36.261952  empty~SDSSy_65mm    y           6154.753825   \n",
       "152521 -36.077190  empty~SDSSy_65mm    y           6814.557447   \n",
       "152522 -36.266611  empty~SDSSy_65mm    y           7482.109294   \n",
       "152523 -36.241104  empty~SDSSy_65mm    y           6187.744941   \n",
       "\n",
       "        apFlux_35_0_instFluxErr            x            y  \\\n",
       "0                    691.849487  3425.280389    74.046983   \n",
       "1                    636.976465  1768.346132    90.893416   \n",
       "2                    688.113400  3087.987781   363.749349   \n",
       "3                    685.153762  2535.062299   372.431613   \n",
       "4                    712.353010  2919.028476   159.923170   \n",
       "...                         ...          ...          ...   \n",
       "152519               561.712576  4029.246388   467.715657   \n",
       "152520               537.923886  3854.589084    69.404199   \n",
       "152521               566.342704  2482.635397  3855.480970   \n",
       "152522               647.611675  3342.339900   156.727808   \n",
       "152523               608.343115   112.746492   984.431644   \n",
       "\n",
       "        apFlux_50_0_instFlux  apFlux_50_0_instFluxErr  apFlux_50_0_flag  \\\n",
       "0               12824.632432               981.497251             False   \n",
       "1               12842.050168               902.685648             False   \n",
       "2               12089.859368               980.233677             False   \n",
       "3               14818.249205               975.847251             False   \n",
       "4                9525.332909              1011.543900             False   \n",
       "...                      ...                      ...               ...   \n",
       "152519                   NaN                      NaN              True   \n",
       "152520           6039.552589               767.419909             False   \n",
       "152521           6599.599039               804.355992             False   \n",
       "152522           9131.216602               923.076524             False   \n",
       "152523           6689.257230               865.871984             False   \n",
       "\n",
       "        localBackground_instFlux  localBackground_flag  source_row  obj_index  \\\n",
       "0                       0.614295                 False          22          0   \n",
       "1                       0.358499                 False          40          0   \n",
       "2                       0.181927                 False         161          0   \n",
       "3                       0.619669                 False         121          0   \n",
       "4                       0.866852                 False          21          0   \n",
       "...                          ...                   ...         ...        ...   \n",
       "152519                 -0.122081                 False          55       1345   \n",
       "152520                 -0.111863                 False           8       1346   \n",
       "152521                  0.074439                 False         534       1347   \n",
       "152522                  0.378480                 False          18       1348   \n",
       "152523                  0.112740                 False         145       1349   \n",
       "\n",
       "        tract  \n",
       "0         383  \n",
       "1         383  \n",
       "2         383  \n",
       "3         383  \n",
       "4         383  \n",
       "...       ...  \n",
       "152519   3864  \n",
       "152520   3864  \n",
       "152521   3864  \n",
       "152522   3864  \n",
       "152523   3864  \n",
       "\n",
       "[293173 rows x 20 columns]"
      ]
     },
     "execution_count": 8,
     "metadata": {},
     "output_type": "execute_result"
    }
   ],
   "source": [
    "df"
   ]
  },
  {
   "cell_type": "code",
   "execution_count": null,
   "id": "a9301c9b-afca-4997-a25b-349c58ffbda7",
   "metadata": {
    "execution": {
     "iopub.status.busy": "2024-02-25T15:06:56.695440Z",
     "iopub.status.idle": "2024-02-25T15:06:56.695615Z",
     "shell.execute_reply": "2024-02-25T15:06:56.695534Z",
     "shell.execute_reply.started": "2024-02-25T15:06:56.695526Z"
    }
   },
   "outputs": [],
   "source": [
    "def convert_fluxtomag(x) :\n",
    "    \"\"\"\n",
    "    The object and source catalogs store only fluxes. There are hundreds of flux-related columns, \n",
    "    and to store them also as magnitudes would be redundant, and a waste of space.\n",
    "    All flux units are nanojanskys. The AB Magnitudes Wikipedia page provides a concise resource \n",
    "    for users unfamiliar with AB magnitudes and jansky fluxes. To convert to AB magnitudes use:\n",
    "    As demonstrated in Section 2.3.2, to add columns of magnitudes after retrieving columns of flux, users can do this:\n",
    "    results_table['r_calibMag'] = -2.50 * numpy.log10(results_table['r_calibFlux']) + 31.4\n",
    "    results_table['r_cModelMag'] = -2.50 * numpy.log10(results_table['r_cModelFlux']) + 31.4\n",
    "    (from DP0 tutorial)\n",
    "    \"\"\"\n",
    "    return -2.50 * np.log10(x) + 31.4"
   ]
  },
  {
   "cell_type": "code",
   "execution_count": null,
   "id": "30914e6f-52fd-4eb3-bbc1-23ff66a89188",
   "metadata": {
    "execution": {
     "iopub.status.busy": "2024-02-25T15:06:56.696327Z",
     "iopub.status.idle": "2024-02-25T15:06:56.696513Z",
     "shell.execute_reply": "2024-02-25T15:06:56.696427Z",
     "shell.execute_reply.started": "2024-02-25T15:06:56.696419Z"
    }
   },
   "outputs": [],
   "source": [
    "df_sel[\"psfMag\"] =  df_sel['psfFlux'].map(convert_fluxtomag)\n",
    "#df_sel[\"gaussianMag\"] =  df_sel['gaussianFlux'].map(lambda x:-2.50 * np.log10(x) + 31.4)\n",
    "df_sel[\"gaussianMag\"] =  df_sel['gaussianFlux'].map(convert_fluxtomag)"
   ]
  },
  {
   "cell_type": "code",
   "execution_count": null,
   "id": "b5458f28-5032-4720-a388-636dd8c40425",
   "metadata": {
    "execution": {
     "iopub.status.busy": "2024-02-25T15:06:56.697130Z",
     "iopub.status.idle": "2024-02-25T15:06:56.697287Z",
     "shell.execute_reply": "2024-02-25T15:06:56.697213Z",
     "shell.execute_reply.started": "2024-02-25T15:06:56.697206Z"
    }
   },
   "outputs": [],
   "source": [
    "df_sel = df_sel[df_sel['extendedness_flag']==False & df_sel['detect_isPrimary']]"
   ]
  },
  {
   "cell_type": "code",
   "execution_count": null,
   "id": "f48573a3-24d2-4149-b861-e291ebac8091",
   "metadata": {
    "execution": {
     "iopub.status.busy": "2024-02-25T15:06:56.697777Z",
     "iopub.status.idle": "2024-02-25T15:06:56.697959Z",
     "shell.execute_reply": "2024-02-25T15:06:56.697880Z",
     "shell.execute_reply.started": "2024-02-25T15:06:56.697871Z"
    }
   },
   "outputs": [],
   "source": [
    "df_sel.dropna(axis=0,inplace = True)"
   ]
  },
  {
   "cell_type": "code",
   "execution_count": null,
   "id": "495079c5-f71e-4741-8cdc-0b912d4dc36b",
   "metadata": {
    "execution": {
     "iopub.status.busy": "2024-02-25T15:06:56.698633Z",
     "iopub.status.idle": "2024-02-25T15:06:56.698806Z",
     "shell.execute_reply": "2024-02-25T15:06:56.698725Z",
     "shell.execute_reply.started": "2024-02-25T15:06:56.698718Z"
    }
   },
   "outputs": [],
   "source": [
    "df_sel"
   ]
  },
  {
   "cell_type": "code",
   "execution_count": null,
   "id": "a8f6b71e-4486-45a6-bab8-13eae61ded2f",
   "metadata": {
    "execution": {
     "iopub.status.busy": "2024-02-25T15:06:56.700523Z",
     "iopub.status.idle": "2024-02-25T15:06:56.700817Z",
     "shell.execute_reply": "2024-02-25T15:06:56.700619Z",
     "shell.execute_reply.started": "2024-02-25T15:06:56.700612Z"
    }
   },
   "outputs": [],
   "source": [
    "df_sel.plot.scatter('x','y',c='ccdVisitId',colormap='viridis')"
   ]
  },
  {
   "cell_type": "code",
   "execution_count": null,
   "id": "7f1e4786-d417-402a-bdc1-0aca5e040dae",
   "metadata": {
    "execution": {
     "iopub.status.busy": "2024-02-25T15:06:56.701382Z",
     "iopub.status.idle": "2024-02-25T15:06:56.701533Z",
     "shell.execute_reply": "2024-02-25T15:06:56.701463Z",
     "shell.execute_reply.started": "2024-02-25T15:06:56.701456Z"
    }
   },
   "outputs": [],
   "source": [
    "df_sel.plot.scatter('ra','dec',c='ccdVisitId',colormap='hsv',grid=True,figsize=(10,5))"
   ]
  },
  {
   "cell_type": "code",
   "execution_count": null,
   "id": "52e5f78a-e202-4fc7-8aa5-8a99fce569d0",
   "metadata": {
    "execution": {
     "iopub.status.busy": "2024-02-25T15:06:56.702286Z",
     "iopub.status.idle": "2024-02-25T15:06:56.702441Z",
     "shell.execute_reply": "2024-02-25T15:06:56.702368Z",
     "shell.execute_reply.started": "2024-02-25T15:06:56.702361Z"
    }
   },
   "outputs": [],
   "source": [
    "df_sel.plot.scatter('coord_ra','coord_dec',c='ccdVisitId',colormap='hsv',grid=True,figsize=(10,5))"
   ]
  },
  {
   "cell_type": "code",
   "execution_count": null,
   "id": "36bc38b2-e138-4e00-8b73-f2776f1b0685",
   "metadata": {
    "execution": {
     "iopub.status.busy": "2024-02-25T15:06:56.702863Z",
     "iopub.status.idle": "2024-02-25T15:06:56.703022Z",
     "shell.execute_reply": "2024-02-25T15:06:56.702948Z",
     "shell.execute_reply.started": "2024-02-25T15:06:56.702942Z"
    }
   },
   "outputs": [],
   "source": [
    "df_sel['coord_ra'].plot(kind=\"hist\",bins=50 ,range=(0,360),logy=True,title=\"coord_ra\",grid=True,figsize=(10,5))"
   ]
  },
  {
   "cell_type": "code",
   "execution_count": null,
   "id": "ea52f52d-785d-401e-9e2a-7f6f4cbafe08",
   "metadata": {
    "execution": {
     "iopub.status.busy": "2024-02-25T15:06:56.703621Z",
     "iopub.status.idle": "2024-02-25T15:06:56.703783Z",
     "shell.execute_reply": "2024-02-25T15:06:56.703707Z",
     "shell.execute_reply.started": "2024-02-25T15:06:56.703700Z"
    }
   },
   "outputs": [],
   "source": [
    "df_sel['coord_dec'].plot(kind=\"hist\",bins=50 ,range=(-90,10),logy=True,title=\"coord_dec\",grid=True,figsize=(10,5))"
   ]
  },
  {
   "cell_type": "code",
   "execution_count": null,
   "id": "71a85a9e-0a81-4d04-a3a7-417f9cc0a39f",
   "metadata": {
    "execution": {
     "iopub.status.busy": "2024-02-25T15:06:56.704157Z",
     "iopub.status.idle": "2024-02-25T15:06:56.704412Z",
     "shell.execute_reply": "2024-02-25T15:06:56.704340Z",
     "shell.execute_reply.started": "2024-02-25T15:06:56.704332Z"
    }
   },
   "outputs": [],
   "source": [
    "cut_skyloc = ((df_sel['dec'] < -30) & (df_sel['dec'] > -40) & (df_sel['ra'] > 100) & (df_sel['ra'] < 150))"
   ]
  },
  {
   "cell_type": "code",
   "execution_count": null,
   "id": "4312ddf5-74d6-4cd9-bff5-dce8d55505f6",
   "metadata": {
    "execution": {
     "iopub.status.busy": "2024-02-25T15:06:56.704844Z",
     "iopub.status.idle": "2024-02-25T15:06:56.704990Z",
     "shell.execute_reply": "2024-02-25T15:06:56.704921Z",
     "shell.execute_reply.started": "2024-02-25T15:06:56.704915Z"
    }
   },
   "outputs": [],
   "source": [
    "df_sel = df_sel[cut_skyloc]"
   ]
  },
  {
   "cell_type": "code",
   "execution_count": null,
   "id": "8d7ea79d-7fdc-40b8-a3db-4ab04b815cd2",
   "metadata": {
    "execution": {
     "iopub.status.busy": "2024-02-25T15:06:56.705515Z",
     "iopub.status.idle": "2024-02-25T15:06:56.705658Z",
     "shell.execute_reply": "2024-02-25T15:06:56.705591Z",
     "shell.execute_reply.started": "2024-02-25T15:06:56.705585Z"
    }
   },
   "outputs": [],
   "source": [
    "df_sel['psfMag'].plot(kind=\"hist\",bins=50,range=(5,30),logy=True,grid=True,title=\"psMag\")"
   ]
  },
  {
   "cell_type": "code",
   "execution_count": null,
   "id": "d9f34f5d-1060-447d-b73d-5626e1a5972b",
   "metadata": {
    "execution": {
     "iopub.status.busy": "2024-02-25T15:06:56.706128Z",
     "iopub.status.idle": "2024-02-25T15:06:56.706283Z",
     "shell.execute_reply": "2024-02-25T15:06:56.706208Z",
     "shell.execute_reply.started": "2024-02-25T15:06:56.706202Z"
    }
   },
   "outputs": [],
   "source": [
    "df_sel['gaussianMag'].plot(kind=\"hist\",bins=50 ,range=(5,30),logy=True,grid=True,title=\"gaussianMag\")"
   ]
  },
  {
   "cell_type": "code",
   "execution_count": null,
   "id": "f560da18-d3db-437b-a323-207132665bf3",
   "metadata": {
    "execution": {
     "iopub.status.busy": "2024-02-25T15:06:56.706720Z",
     "iopub.status.idle": "2024-02-25T15:06:56.706866Z",
     "shell.execute_reply": "2024-02-25T15:06:56.706800Z",
     "shell.execute_reply.started": "2024-02-25T15:06:56.706794Z"
    }
   },
   "outputs": [],
   "source": [
    "df_sel"
   ]
  },
  {
   "cell_type": "code",
   "execution_count": null,
   "id": "5769a54e-167c-438c-aed4-a1bd070d2d8c",
   "metadata": {
    "execution": {
     "iopub.status.busy": "2024-02-25T15:06:56.707402Z",
     "iopub.status.idle": "2024-02-25T15:06:56.707544Z",
     "shell.execute_reply": "2024-02-25T15:06:56.707478Z",
     "shell.execute_reply.started": "2024-02-25T15:06:56.707472Z"
    }
   },
   "outputs": [],
   "source": [
    "#df_sel.groupby(df_sel['dateobs'].dt.date).size().plot()\n",
    "datetime = pd.to_datetime(df_sel['dateobs'])"
   ]
  },
  {
   "cell_type": "code",
   "execution_count": null,
   "id": "5eb4f7c1-bf32-4943-843c-85c1dddefe39",
   "metadata": {
    "execution": {
     "iopub.status.busy": "2024-02-25T15:06:56.708055Z",
     "iopub.status.idle": "2024-02-25T15:06:56.708200Z",
     "shell.execute_reply": "2024-02-25T15:06:56.708130Z",
     "shell.execute_reply.started": "2024-02-25T15:06:56.708124Z"
    }
   },
   "outputs": [],
   "source": [
    "df_sel['dateobs'].max()"
   ]
  },
  {
   "cell_type": "code",
   "execution_count": null,
   "id": "1bf81fbf-64e6-46f5-be8a-9adca60d3abb",
   "metadata": {
    "execution": {
     "iopub.status.busy": "2024-02-25T15:06:56.708668Z",
     "iopub.status.idle": "2024-02-25T15:06:56.708811Z",
     "shell.execute_reply": "2024-02-25T15:06:56.708745Z",
     "shell.execute_reply.started": "2024-02-25T15:06:56.708738Z"
    }
   },
   "outputs": [],
   "source": [
    "df_sel[\"date\"] = df[\"dateobs\"].astype(\"datetime64\")"
   ]
  },
  {
   "cell_type": "code",
   "execution_count": null,
   "id": "a6e84a91-e9d6-404d-8ef9-c2f80f3d3bf0",
   "metadata": {
    "execution": {
     "iopub.status.busy": "2024-02-25T15:06:56.709392Z",
     "iopub.status.idle": "2024-02-25T15:06:56.709542Z",
     "shell.execute_reply": "2024-02-25T15:06:56.709471Z",
     "shell.execute_reply.started": "2024-02-25T15:06:56.709464Z"
    }
   },
   "outputs": [],
   "source": [
    "df_sel"
   ]
  },
  {
   "cell_type": "code",
   "execution_count": null,
   "id": "0c1f2fd3-0101-4637-b030-d226a3b58cab",
   "metadata": {
    "execution": {
     "iopub.status.busy": "2024-02-25T15:06:56.710014Z",
     "iopub.status.idle": "2024-02-25T15:06:56.710193Z",
     "shell.execute_reply": "2024-02-25T15:06:56.710111Z",
     "shell.execute_reply.started": "2024-02-25T15:06:56.710104Z"
    }
   },
   "outputs": [],
   "source": [
    "df_time = df_sel[[\"date\"]]"
   ]
  },
  {
   "cell_type": "code",
   "execution_count": null,
   "id": "79e7f118-e3da-4e0a-9497-a1079dbd30d6",
   "metadata": {
    "execution": {
     "iopub.status.busy": "2024-02-25T15:06:56.710738Z",
     "iopub.status.idle": "2024-02-25T15:06:56.710885Z",
     "shell.execute_reply": "2024-02-25T15:06:56.710815Z",
     "shell.execute_reply.started": "2024-02-25T15:06:56.710808Z"
    }
   },
   "outputs": [],
   "source": [
    "df_time"
   ]
  },
  {
   "cell_type": "code",
   "execution_count": null,
   "id": "1845d0ef-c99a-4b63-9212-80d890f38128",
   "metadata": {
    "execution": {
     "iopub.status.busy": "2024-02-25T15:06:56.711379Z",
     "iopub.status.idle": "2024-02-25T15:06:56.711529Z",
     "shell.execute_reply": "2024-02-25T15:06:56.711455Z",
     "shell.execute_reply.started": "2024-02-25T15:06:56.711449Z"
    }
   },
   "outputs": [],
   "source": [
    "fig = plt.figure()\n",
    "ax = fig.add_subplot(1,1,1)\n",
    "ax = (df_time[\"date\"].groupby(df_time[\"date\"].dt.minute)\n",
    "                         .count()).plot(kind=\"bar\")"
   ]
  }
 ],
 "metadata": {
  "kernelspec": {
   "display_name": "LSST",
   "language": "python",
   "name": "lsst"
  },
  "language_info": {
   "codemirror_mode": {
    "name": "ipython",
    "version": 3
   },
   "file_extension": ".py",
   "mimetype": "text/x-python",
   "name": "python",
   "nbconvert_exporter": "python",
   "pygments_lexer": "ipython3",
   "version": "3.11.7"
  }
 },
 "nbformat": 4,
 "nbformat_minor": 5
}
