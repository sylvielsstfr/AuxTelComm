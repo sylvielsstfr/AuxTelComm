{
 "cells": [
  {
   "cell_type": "markdown",
   "id": "8608d6fb-20fc-4b07-ba88-74e9b45cdf25",
   "metadata": {},
   "source": [
    "# Analyse Isolated Star Sources"
   ]
  },
  {
   "cell_type": "markdown",
   "id": "667ba03e-ddfb-47fd-bee3-3824f9be7ae5",
   "metadata": {},
   "source": [
    " work with Weakly_2024_07\n",
    "- use jupyter kernel LSST\n",
    "\n",
    "\n",
    "- author : Sylvie Dagoret-Campagne\n",
    "- affiliation : IJCLab\n",
    "- creation date : 2024/02/28\n",
    "- update : 2024/03/01\n",
    "\n",
    "``Quantum Graphs``: https://tigress-web.princeton.edu/~lkelvin/pipelines/ \n"
   ]
  },
  {
   "cell_type": "code",
   "execution_count": null,
   "id": "c4104822-1b7a-404a-a50b-d99f42b33dbd",
   "metadata": {},
   "outputs": [],
   "source": [
    "#pip install ipympl"
   ]
  },
  {
   "cell_type": "code",
   "execution_count": null,
   "id": "058012ec-9888-4b97-9fe2-57595e1bc0e7",
   "metadata": {},
   "outputs": [],
   "source": [
    "import numpy as np\n",
    "import matplotlib.pyplot as plt\n",
    "%matplotlib inline\n",
    "\n",
    "from ipywidgets import widgets\n",
    "#%matplotlib widget\n",
    "#%matplotlib ipympl\n",
    "    \n",
    "from mpl_toolkits.axes_grid1 import make_axes_locatable\n",
    "from matplotlib.colors import LogNorm,SymLogNorm\n",
    "\n",
    "\n",
    "import matplotlib.ticker                         # here's where the formatter is\n",
    "from matplotlib.ticker import (MultipleLocator, FormatStrFormatter,\n",
    "                               AutoMinorLocator)\n",
    "from astropy.visualization import (MinMaxInterval, SqrtStretch,ZScaleInterval,PercentileInterval,\n",
    "                                   ImageNormalize,imshow_norm)\n",
    "from astropy.visualization.stretch import SinhStretch, LinearStretch,AsinhStretch,LogStretch\n",
    "from astropy.io import fits\n",
    "import astropy.coordinates as coord\n",
    "import astropy.units as u\n",
    "import pandas as pd\n",
    "\n",
    "from astropy.time import Time\n",
    "from datetime import datetime, timedelta\n",
    "\n",
    "import matplotlib.ticker                         # here's where the formatter is\n",
    "import os\n",
    "import re\n",
    "import pandas as pd\n",
    "\n",
    "plt.rcParams[\"figure.figsize\"] = (4,3)\n",
    "plt.rcParams[\"axes.labelsize\"] = 'xx-large'\n",
    "plt.rcParams['axes.titlesize'] = 'xx-large'\n",
    "plt.rcParams['xtick.labelsize']= 'xx-large'\n",
    "plt.rcParams['ytick.labelsize']= 'xx-large'"
   ]
  },
  {
   "cell_type": "code",
   "execution_count": null,
   "id": "907f5257-e80b-4336-b41f-5bf3745571bf",
   "metadata": {},
   "outputs": [],
   "source": [
    "#filesource_in=\"preSourceTable_202312.csv\"\n",
    "filesource_in=\"../data/202402/isolated_star_sources_202402.csv\""
   ]
  },
  {
   "cell_type": "code",
   "execution_count": null,
   "id": "a4c4bc49-f65a-441c-8f51-82a27f7887d2",
   "metadata": {},
   "outputs": [],
   "source": [
    "df = pd.read_csv(filesource_in,index_col=0)\n",
    "df.dropna(axis=1, how='all',inplace =True)\n",
    "df = df.rename(columns={\"visit\": \"visitId\"})\n",
    "df[\"nightObs\"] =df.apply(lambda x: x['visitId']//100_000, axis=1)\n",
    "df[\"seq\"] = df[\"visitId\"] - df[\"nightObs\"]*100_000\n",
    "col_df = df.columns.tolist()\n",
    "df.sort_values(by=\"visitId\",inplace=True)"
   ]
  },
  {
   "cell_type": "code",
   "execution_count": null,
   "id": "f520bf2a-9b47-4748-9503-3896eac2dda3",
   "metadata": {},
   "outputs": [],
   "source": [
    "df"
   ]
  },
  {
   "cell_type": "code",
   "execution_count": null,
   "id": "244e7a12-075f-45a2-a31d-7a4858fbe747",
   "metadata": {},
   "outputs": [],
   "source": [
    "col_df"
   ]
  },
  {
   "cell_type": "code",
   "execution_count": null,
   "id": "a9301c9b-afca-4997-a25b-349c58ffbda7",
   "metadata": {},
   "outputs": [],
   "source": [
    "def convert_fluxtomag(x) :\n",
    "    \"\"\"\n",
    "    The object and source catalogs store only fluxes. There are hundreds of flux-related columns, \n",
    "    and to store them also as magnitudes would be redundant, and a waste of space.\n",
    "    All flux units are nanojanskys. The AB Magnitudes Wikipedia page provides a concise resource \n",
    "    for users unfamiliar with AB magnitudes and jansky fluxes. To convert to AB magnitudes use:\n",
    "    As demonstrated in Section 2.3.2, to add columns of magnitudes after retrieving columns of flux, users can do this:\n",
    "    results_table['r_calibMag'] = -2.50 * numpy.log10(results_table['r_calibFlux']) + 31.4\n",
    "    results_table['r_cModelMag'] = -2.50 * numpy.log10(results_table['r_cModelFlux']) + 31.4\n",
    "    (from DP0 tutorial)\n",
    "    \"\"\"\n",
    "    return -2.50 * np.log10(x) + 31.4"
   ]
  },
  {
   "cell_type": "code",
   "execution_count": null,
   "id": "30914e6f-52fd-4eb3-bbc1-23ff66a89188",
   "metadata": {},
   "outputs": [],
   "source": [
    "df[\"apFlux_35_0_instMag\"] =  df['apFlux_35_0_instFlux'].map(convert_fluxtomag)\n",
    "df[\"apFlux_50_0_instMag\"] =  df['apFlux_50_0_instFlux'].map(convert_fluxtomag)"
   ]
  },
  {
   "cell_type": "code",
   "execution_count": null,
   "id": "68fb867d-2d64-4000-8cd2-a37c8bf6c2cb",
   "metadata": {},
   "outputs": [],
   "source": [
    "column_names = [\"apFlux_35_0_instMag\",\"apFlux_50_0_instMag\"]\n",
    "fig,ax = plt.subplots(figsize=(14,8))\n",
    "axes = df.hist(column= column_names,by=\"band\",bins=20,ax=ax,xrot=0,range=(16,23),legend=True)\n",
    "plt.suptitle(column_names)"
   ]
  },
  {
   "cell_type": "code",
   "execution_count": null,
   "id": "21bdacd9-8a97-4a64-8674-269476e6e646",
   "metadata": {},
   "outputs": [],
   "source": [
    "np.sort(df[\"nightObs\"].unique())"
   ]
  },
  {
   "cell_type": "markdown",
   "id": "e470eb86-d159-4dfd-b567-ce4acf29ef5e",
   "metadata": {},
   "source": [
    "# Statistics per nights"
   ]
  },
  {
   "cell_type": "code",
   "execution_count": null,
   "id": "7e083726-ebbc-41e9-aab2-00e2138c0a39",
   "metadata": {},
   "outputs": [],
   "source": [
    "df_stat = df.groupby(by=[\"nightObs\",\"band\",\"tract\"]).count()[\"index\"]"
   ]
  },
  {
   "cell_type": "code",
   "execution_count": null,
   "id": "f0b55293-8032-4527-a331-1cb7b21b9258",
   "metadata": {},
   "outputs": [],
   "source": [
    "df_stat"
   ]
  },
  {
   "cell_type": "code",
   "execution_count": null,
   "id": "05514e82-4a6d-44d5-b680-4a58c5a20b3f",
   "metadata": {},
   "outputs": [],
   "source": [
    "type(df_stat)"
   ]
  },
  {
   "cell_type": "code",
   "execution_count": null,
   "id": "047ecd75-308d-49db-ab23-f2fc603b8cc9",
   "metadata": {},
   "outputs": [],
   "source": [
    "df_stat_pertract = df.groupby(by=[\"nightObs\",\"tract\"]).count()[\"index\"]"
   ]
  },
  {
   "cell_type": "code",
   "execution_count": null,
   "id": "41733be4-a81e-4fd4-bca6-54a03c91e08c",
   "metadata": {},
   "outputs": [],
   "source": [
    "df_stat_pertract"
   ]
  },
  {
   "cell_type": "markdown",
   "id": "c91b8060-d617-4c48-a1c5-dc23013d7cd6",
   "metadata": {},
   "source": [
    "# Handle pandas series with composite index\n",
    "https://stackoverflow.com/questions/25386870/pandas-plotting-with-multi-index"
   ]
  },
  {
   "cell_type": "code",
   "execution_count": null,
   "id": "5e2f2f52-a91e-485e-a303-0910b4013799",
   "metadata": {},
   "outputs": [],
   "source": [
    "ax = df_stat_pertract.unstack(level=1).plot(kind='bar', subplots=False, rot=90,figsize=(16,8),grid=True)\n",
    "plt.tight_layout()"
   ]
  },
  {
   "cell_type": "code",
   "execution_count": null,
   "id": "09990d9b-e3e5-4816-a7af-70d134a8a9fa",
   "metadata": {},
   "outputs": [],
   "source": [
    "ax = df_stat_pertract.unstack(level=1).plot(kind='bar', subplots=True, rot=90,figsize=(16,30),grid=True)\n",
    "plt.tight_layout()"
   ]
  },
  {
   "cell_type": "markdown",
   "id": "c80f939c-4d05-46e1-8923-52db66882a73",
   "metadata": {},
   "source": [
    "## Select the tracts"
   ]
  },
  {
   "cell_type": "code",
   "execution_count": null,
   "id": "c8684202-4b5b-46d5-aa90-7434336e58ff",
   "metadata": {},
   "outputs": [],
   "source": [
    "TRACT_SEL = 3864"
   ]
  },
  {
   "cell_type": "code",
   "execution_count": null,
   "id": "183492bb-c925-4be7-a6db-39cfd7f6c162",
   "metadata": {},
   "outputs": [],
   "source": [
    "df_stat = df[df[\"tract\"] == TRACT_SEL ].groupby(by=[\"nightObs\",\"band\"]).count()[\"index\"]"
   ]
  },
  {
   "cell_type": "code",
   "execution_count": null,
   "id": "b4d785f6-e336-4bb4-969e-88ffac09b97e",
   "metadata": {},
   "outputs": [],
   "source": [
    "df_stat"
   ]
  },
  {
   "cell_type": "code",
   "execution_count": null,
   "id": "1cd38437-0b2a-4ddc-a615-632710ac2308",
   "metadata": {},
   "outputs": [],
   "source": [
    "df_stat.unstack(level=1)[[\"g\",\"r\",\"i\",\"z\",\"y\"]]"
   ]
  },
  {
   "cell_type": "code",
   "execution_count": null,
   "id": "cd3c67e3-a4f9-41d1-a1f2-2e1fe6c33750",
   "metadata": {},
   "outputs": [],
   "source": [
    "ax = df_stat.unstack(level=1)[[\"g\",\"r\",\"i\",\"z\",\"y\"]].plot(kind='bar', subplots=False, rot=90,figsize=(16,8),grid=True,color=[\"g\",\"r\",\"orange\",\"grey\",\"k\"])\n",
    "plt.tight_layout()\n",
    "plt.title(f\"Number of visits in tract {TRACT_SEL}\")\n",
    "plt.ylabel(\"number of visits per night\")"
   ]
  },
  {
   "cell_type": "code",
   "execution_count": null,
   "id": "1ed64e01-7475-48a0-9c5f-4c24691068e1",
   "metadata": {},
   "outputs": [],
   "source": [
    "df_stat_unstack = df_stat.unstack(level=1)[[\"g\",\"r\",\"i\",\"z\",\"y\"]]"
   ]
  },
  {
   "cell_type": "code",
   "execution_count": null,
   "id": "74039987-c1b4-42d4-9541-e81ed15ce427",
   "metadata": {},
   "outputs": [],
   "source": [
    "def convertNumToDatestr(num):\n",
    "    year = num//10_000\n",
    "    month= (num-year*10_000)//100\n",
    "    day = (num-year*10_000-month*100)\n",
    "\n",
    "    year_str = str(year).zfill(4)\n",
    "    month_str = str(month).zfill(2)\n",
    "    day_str = str(day).zfill(2)\n",
    "    \n",
    "    datestr = f\"{year_str}-{month_str}-{day_str}\"\n",
    "    return pd.to_datetime(datestr)"
   ]
  },
  {
   "cell_type": "code",
   "execution_count": null,
   "id": "92dcb273-d19e-4951-9355-46668568a86c",
   "metadata": {},
   "outputs": [],
   "source": [
    "all_datetimes = [convertNumToDatestr(num) for num in df_stat_unstack.index ]\n",
    "df_stat_unstack[\"datetimes\"] = all_datetimes\n",
    "df_stat_unstack = df_stat_unstack.set_index(\"datetimes\")"
   ]
  },
  {
   "cell_type": "code",
   "execution_count": null,
   "id": "20c698cc-d76c-4b45-b097-d6506961f6ce",
   "metadata": {},
   "outputs": [],
   "source": [
    "df_stat_unstack.index"
   ]
  },
  {
   "cell_type": "code",
   "execution_count": null,
   "id": "9cec293d-a5ff-4c98-b18c-60fad5776cc7",
   "metadata": {},
   "outputs": [],
   "source": [
    "import matplotlib.dates as mdates\n",
    "month_locator = mdates.MonthLocator(interval=1)\n",
    "day_locator = mdates.DayLocator(interval=1)\n",
    "year_month_formatter = mdates.DateFormatter(\"%Y-%m\") \n",
    "fig, ax = plt.subplots(1,1,figsize=(16, 10))\n",
    "\n",
    "\n",
    "\n",
    "# fit 1\n",
    "#df_stat_unstack.plot( kind='bar', rot=0,ax=ax)\n",
    "df_stat_unstack.plot( marker=\"+\",markersize=30,lw=0,color=[\"g\",\"r\",\"orange\",\"grey\",\"k\"],ax=ax,legend=False)\n",
    "df_stat_unstack.plot( marker=\"o\",markersize=10,lw=0,color=[\"g\",\"r\",\"orange\",\"grey\",\"k\"],ax=ax)\n",
    "#df_stat_unstack.plot( kind=\"bar\",x=df_stat_unstack.index,color=[\"g\",\"r\",\"orange\",\"grey\",\"k\"],ax=ax)\n",
    "\n",
    "#ax.set_xticks(ax.get_xticks(), ax.get_xticklabels(), rotation=45, ha='right')\n",
    "#ax.set_xticklabels(labels=df_stat_unstack.index, rotation=70, rotation_mode=\"anchor\", ha=\"right\");\n",
    "ax.xaxis.set_major_locator(month_locator) # Locator for major axis only.\n",
    "ax.xaxis.set_minor_locator(day_locator)\n",
    "ax.xaxis.set_major_formatter(year_month_formatter)\n",
    "ax.grid()\n",
    "#plt.tight_layout()\n",
    "ax.set_ylabel(\"number of visits per night\")\n",
    "ax.set_title(f\"Number of visits in tract {TRACT_SEL}\")"
   ]
  },
  {
   "cell_type": "code",
   "execution_count": null,
   "id": "616ee335-76cb-4212-8a83-4894fb97007a",
   "metadata": {},
   "outputs": [],
   "source": [
    "import matplotlib.dates as mdates\n",
    "month_locator = mdates.MonthLocator(interval=1)\n",
    "day_locator = mdates.DayLocator(interval=1)\n",
    "year_month_formatter = mdates.DateFormatter(\"%Y-%m\") \n",
    "dt = timedelta(hours=12)\n",
    "fig, ax = plt.subplots(1,1,figsize=(16, 6))\n",
    "\n",
    "ax.bar(df_stat_unstack.index-2*dt,df_stat_unstack[\"g\"],color=\"g\",label=\"g\")\n",
    "ax.bar(df_stat_unstack.index-dt,df_stat_unstack[\"r\"],color=\"r\",label=\"r\")\n",
    "ax.bar(df_stat_unstack.index+dt,df_stat_unstack[\"i\"],color=\"orange\",label=\"i\")\n",
    "ax.bar(df_stat_unstack.index+2*dt,df_stat_unstack[\"z\"],color=\"grey\",label=\"z\")\n",
    "ax.bar(df_stat_unstack.index+3*dt,df_stat_unstack[\"y\"],color=\"k\",label=\"y\")\n",
    "ax.legend()\n",
    "\n",
    "ax.xaxis.set_major_locator(month_locator) # Locator for major axis only.\n",
    "ax.xaxis.set_minor_locator(day_locator)\n",
    "ax.xaxis.set_major_formatter(year_month_formatter)\n",
    "ax.set_xticks(ax.get_xticks(), ax.get_xticklabels(), rotation=45, ha='right')\n",
    "ax.grid()\n",
    "#plt.tight_layout()\n",
    "ax.set_xlabel(\"date\")\n",
    "ax.set_ylabel(\"number of visits per night\")\n",
    "ax.set_title(f\"Number of visits in tract {TRACT_SEL}\")"
   ]
  },
  {
   "cell_type": "markdown",
   "id": "e18a6f4c-6a3f-42c2-8caa-cfc6c3c84184",
   "metadata": {},
   "source": [
    "## Select a date"
   ]
  },
  {
   "cell_type": "code",
   "execution_count": null,
   "id": "7753b59d-8beb-4514-b605-31ba688c9e66",
   "metadata": {},
   "outputs": [],
   "source": [
    "DATEOBS =  20240130\n",
    "cut = (df[\"nightObs\"] == DATEOBS)\n",
    "df = df[cut]"
   ]
  },
  {
   "cell_type": "code",
   "execution_count": null,
   "id": "f48573a3-24d2-4149-b861-e291ebac8091",
   "metadata": {},
   "outputs": [],
   "source": [
    "all_visits = df[\"visitId\"].unique()"
   ]
  },
  {
   "cell_type": "code",
   "execution_count": null,
   "id": "0ffc0ebe-9395-4de5-8488-c8ea3ca3a1ab",
   "metadata": {},
   "outputs": [],
   "source": [
    "all_visits"
   ]
  },
  {
   "cell_type": "code",
   "execution_count": null,
   "id": "b53d0ea5-24fe-4583-98c7-eccb8c14d4e1",
   "metadata": {},
   "outputs": [],
   "source": [
    "cmap = matplotlib.cm.inferno\n",
    "cmap_reversed = matplotlib.cm.get_cmap('inferno_r')"
   ]
  },
  {
   "cell_type": "code",
   "execution_count": null,
   "id": "495079c5-f71e-4741-8cdc-0b912d4dc36b",
   "metadata": {},
   "outputs": [],
   "source": [
    "MAGCUT = 17.8\n",
    "cuts = [ (df[\"band\"] == \"g\") & (df[\"apFlux_50_0_instMag\"] < MAGCUT), \n",
    "         (df[\"band\"] == \"r\") & (df[\"apFlux_50_0_instMag\"] < MAGCUT),\n",
    "         (df[\"band\"] == \"z\") & (df[\"apFlux_50_0_instMag\"] < MAGCUT),\n",
    "         (df[\"band\"] == \"y\") & (df[\"apFlux_50_0_instMag\"] < MAGCUT) ]\n",
    "all_bands = [\"g\",\"r\",\"z\",\"y\"]\n",
    "NB = len(all_bands)\n",
    "all_df_cuts_inbands = [ df[cuts[idx]] for idx in range(NB)]\n",
    "for visit in all_visits:\n",
    "    fig, axs = plt.subplots(ncols=4,nrows=1,figsize=(16,4))\n",
    "    for ib in range(NB):     \n",
    "        my_colors = all_df_cuts_inbands[ib][\"apFlux_50_0_instMag\"].values\n",
    "        if len(my_colors) > 0:\n",
    "            all_df_cuts_inbands[ib].plot.scatter('x','y',c=my_colors,colormap='jet_r',grid=True,ax = axs[ib])\n",
    "            axs[ib].set_title(all_bands[ib])\n",
    "            axs[ib].axes.set_aspect('equal')\n",
    "            axs[ib].axes.set_xlim(0.,4000.)\n",
    "            axs[ib].axes.set_ylim(0.,4000.)\n",
    "    #axs[0].scatter(data=all_df_cuts_inbands[0], x='x', y='y', c='apFlux_35_0_instMag', cmap=\"viridis\")\n",
    "    title = f\"Isolated star pixel coordinates : visit {visit} , tract = {TRACT_SEL}\"\n",
    "    plt.suptitle(title)\n",
    "    plt.tight_layout()"
   ]
  },
  {
   "cell_type": "code",
   "execution_count": null,
   "id": "28cabf49-47bd-411d-8e17-54e4c701b28e",
   "metadata": {},
   "outputs": [],
   "source": [
    "for visit in all_visits:\n",
    "    fig, axs = plt.subplots(ncols=4,nrows=1,figsize=(16,4))\n",
    "    for ib in range(NB):     \n",
    "        my_colors = all_df_cuts_inbands[ib][\"apFlux_50_0_instMag\"].values\n",
    "        if len(my_colors) > 0:\n",
    "            all_df_cuts_inbands[ib].plot.scatter('ra','dec',c=my_colors,colormap='jet_r',grid=True,ax = axs[ib])\n",
    "            axs[ib].set_title(all_bands[ib])\n",
    "            axs[ib].axes.set_aspect('equal')\n",
    "            \n",
    "    #axs[0].scatter(data=all_df_cuts_inbands[0], x='x', y='y', c='apFlux_35_0_instMag', cmap=\"viridis\")\n",
    "    title = f\"Isolated star radec coordinates : visit {visit} , tract = {TRACT_SEL}\"\n",
    "    plt.suptitle(title)\n",
    "    \n",
    "    plt.tight_layout()"
   ]
  }
 ],
 "metadata": {
  "kernelspec": {
   "display_name": "LSST",
   "language": "python",
   "name": "lsst"
  },
  "language_info": {
   "codemirror_mode": {
    "name": "ipython",
    "version": 3
   },
   "file_extension": ".py",
   "mimetype": "text/x-python",
   "name": "python",
   "nbconvert_exporter": "python",
   "pygments_lexer": "ipython3",
   "version": "3.11.7"
  }
 },
 "nbformat": 4,
 "nbformat_minor": 5
}
