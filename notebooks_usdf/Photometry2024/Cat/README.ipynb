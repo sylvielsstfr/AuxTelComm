{
 "cells": [
  {
   "cell_type": "markdown",
   "id": "73b7c14c-30ec-4167-be8b-77a0154e390a",
   "metadata": {},
   "source": [
    "# README for Cat\n",
    "\n",
    "\n",
    "- author Sylvie Dagoret-Campagne\n",
    "- affiliation : IJCLab/IN2P3/CNRS\n",
    "- creation date : 2024-03-06\n",
    "- last update : 2024-03-06\n"
   ]
  },
  {
   "cell_type": "markdown",
   "id": "45474f6f-9d7f-4a7d-b970-a1369627b691",
   "metadata": {},
   "source": [
    "## Key links\n",
    "\n",
    "``Quantum Graphs``: https://tigress-web.princeton.edu/~lkelvin/pipelines/ "
   ]
  },
  {
   "cell_type": "markdown",
   "id": "5abccadc-cc61-4f85-a231-f6d25b4de99e",
   "metadata": {},
   "source": [
    "## Extract tables into tables in files"
   ]
  },
  {
   "cell_type": "markdown",
   "id": "c6bc0684-9888-43e2-b001-2ae6ce4da7c9",
   "metadata": {},
   "source": [
    "### Extract tables arranges into visits"
   ]
  },
  {
   "cell_type": "markdown",
   "id": "f2aac6a8-4ec9-4864-a4df-b25604da1e19",
   "metadata": {},
   "source": [
    "- [ExtractPhotometricCatalogs_InVisits.ipynb](ExtractPhotometricCatalogs_InVisits.ipynb)"
   ]
  },
  {
   "cell_type": "markdown",
   "id": "5e1bb6ae-77fb-440d-a9ab-da3c2e737fb3",
   "metadata": {},
   "source": [
    "### Extract tables arrange into Tracts"
   ]
  },
  {
   "cell_type": "markdown",
   "id": "be50781c-e126-49e6-8037-e14a23d54db8",
   "metadata": {},
   "source": [
    "- [ExtractPhotometricCatalogs_InTracts.ipynb](ExtractPhotometricCatalogs_InTracts.ipynb)"
   ]
  },
  {
   "cell_type": "markdown",
   "id": "f2674791-fdff-40e0-841a-eaa26faf1817",
   "metadata": {},
   "source": [
    "### Extract tables arranged into htm7 pixels in sky"
   ]
  },
  {
   "cell_type": "markdown",
   "id": "c32552a1-b573-436d-bff0-ef703ea564e4",
   "metadata": {
    "execution": {
     "iopub.execute_input": "2024-03-06T12:44:38.487097Z",
     "iopub.status.busy": "2024-03-06T12:44:38.486821Z",
     "iopub.status.idle": "2024-03-06T12:44:38.583543Z",
     "shell.execute_reply": "2024-03-06T12:44:38.583041Z",
     "shell.execute_reply.started": "2024-03-06T12:44:38.487079Z"
    }
   },
   "source": [
    "- [ExtractPhotometricCatalogs_InSkypix.ipynb](ExtractPhotometricCatalogs_InSkypix.ipynb)"
   ]
  },
  {
   "cell_type": "markdown",
   "id": "abf4c8a8-f3ae-48a9-b8ee-98b6b8b83edc",
   "metadata": {},
   "source": [
    "## Analysis"
   ]
  },
  {
   "cell_type": "markdown",
   "id": "5b3af7f7-0a0f-4bd5-bd13-6398f431683f",
   "metadata": {},
   "source": [
    "- [Analyse_isolated_star_cat.ipynb](Analyse_isolated_star_cat.ipynb)\n",
    "- [Analyse_isolated_star_icSrc.ipynb](Analyse_isolated_star_icSrc.ipynb)\n",
    "- [Analyse_isolated_star_icSrc-Src.ipynb](Analyse_isolated_star_icSrc-Src.ipynb)\n",
    "- [Analyse_isolated_star_sources.ipynb](Analyse_isolated_star_sources.ipynb)\n",
    "- [Analyse_isolated_star_Src.ipynb](Analyse_isolated_star_Src.ipynb)\n",
    "- [Analyse_ReferenceCatalog.ipynb](Analyse_ReferenceCatalog.ipynb)"
   ]
  },
  {
   "cell_type": "markdown",
   "id": "1248f52e-62bb-4ec3-8343-63ed6801b208",
   "metadata": {},
   "source": [
    "### Compare join sourceTable_visit with SelectedVisits \n",
    "\n",
    "Dev in march 05-06 2024\n",
    "\n",
    "- [Analyse_sourceTable_visits.ipynb](Analyse_sourceTable_visits.ipynb)"
   ]
  },
  {
   "cell_type": "code",
   "execution_count": 3,
   "id": "c27ee952-b1e6-42ad-bff5-06ee7ce9ea7e",
   "metadata": {
    "execution": {
     "iopub.execute_input": "2024-03-06T12:51:17.375132Z",
     "iopub.status.busy": "2024-03-06T12:51:17.374835Z",
     "iopub.status.idle": "2024-03-06T12:51:17.377672Z",
     "shell.execute_reply": "2024-03-06T12:51:17.377243Z",
     "shell.execute_reply.started": "2024-03-06T12:51:17.375113Z"
    }
   },
   "outputs": [],
   "source": [
    "        file_selected_visits = \"../data/202402/SelectedVisits_fall2023_tract_3864.csv\"\n",
    "        filesource_in =\"../data/202402/sourceTable_visit_202402_20231121-20231222.csv\""
   ]
  },
  {
   "cell_type": "code",
   "execution_count": null,
   "id": "1fd3e419-acd0-48d0-8914-fca8601d568d",
   "metadata": {},
   "outputs": [],
   "source": []
  }
 ],
 "metadata": {
  "kernelspec": {
   "display_name": "LSST",
   "language": "python",
   "name": "lsst"
  },
  "language_info": {
   "codemirror_mode": {
    "name": "ipython",
    "version": 3
   },
   "file_extension": ".py",
   "mimetype": "text/x-python",
   "name": "python",
   "nbconvert_exporter": "python",
   "pygments_lexer": "ipython3",
   "version": "3.11.7"
  }
 },
 "nbformat": 4,
 "nbformat_minor": 5
}
