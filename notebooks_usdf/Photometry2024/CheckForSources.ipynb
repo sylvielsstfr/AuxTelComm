{
 "cells": [
  {
   "cell_type": "markdown",
   "id": "0b8c2138-5194-4d03-8b77-be24e2cc8ee3",
   "metadata": {},
   "source": [
    "# Query for icSrc Sources Results in NON OGA"
   ]
  },
  {
   "cell_type": "markdown",
   "id": "740e34fb-3fef-45a8-941b-c229742ab016",
   "metadata": {},
   "source": [
    " work with Weakly_2023_44\n",
    "- use jupyter kernel LSST\n",
    "\n",
    "\n",
    "- author : Sylvie Dagoret-Campagne\n",
    "- affiliation : IJCLab\n",
    "- creation date : 2023/12/20\n",
    "- update : 2023/12/20\n"
   ]
  },
  {
   "cell_type": "code",
   "execution_count": 1,
   "id": "ed2c3410-fe83-432e-ab87-9f4513fa8d8b",
   "metadata": {
    "execution": {
     "iopub.execute_input": "2023-12-20T16:25:37.914040Z",
     "iopub.status.busy": "2023-12-20T16:25:37.913805Z",
     "iopub.status.idle": "2023-12-20T16:25:38.301605Z",
     "shell.execute_reply": "2023-12-20T16:25:38.301085Z",
     "shell.execute_reply.started": "2023-12-20T16:25:37.914022Z"
    }
   },
   "outputs": [
    {
     "name": "stdout",
     "output_type": "stream",
     "text": [
      "analysis_tools        LOCAL:/home/d/dagoret/repos/repos_w_2023_44/analysis_tools \tsetup\n",
      "atmospec              LOCAL:/home/d/dagoret/repos/repos_w_2023_44/atmospec \tsetup\n",
      "eups                  LOCAL:/opt/lsst/software/stack/conda/miniconda3-py38_4.9.2/envs/lsst-scipipe-7.0.1/eups \tsetup\n",
      "spectractor           LOCAL:/home/d/dagoret/repos/repos_w_2023_44/Spectractor \tsetup\n"
     ]
    }
   ],
   "source": [
    "! eups list -s | grep LOCAL"
   ]
  },
  {
   "cell_type": "code",
   "execution_count": 2,
   "id": "70918d81-0cf6-4b0a-8f61-f5e5bec5b0e7",
   "metadata": {
    "execution": {
     "iopub.execute_input": "2023-12-20T16:25:40.848437Z",
     "iopub.status.busy": "2023-12-20T16:25:40.848149Z",
     "iopub.status.idle": "2023-12-20T16:25:41.185930Z",
     "shell.execute_reply": "2023-12-20T16:25:41.185432Z",
     "shell.execute_reply.started": "2023-12-20T16:25:40.848423Z"
    }
   },
   "outputs": [
    {
     "name": "stdout",
     "output_type": "stream",
     "text": [
      "   g4213664e8e+d053631def \tcurrent w_2023_44 setup\n"
     ]
    }
   ],
   "source": [
    "! eups list -s lsst_distrib"
   ]
  },
  {
   "cell_type": "code",
   "execution_count": 4,
   "id": "f8d9cfca-5881-48c1-b2cb-0f794a2e4091",
   "metadata": {
    "execution": {
     "iopub.execute_input": "2023-12-20T16:25:53.206979Z",
     "iopub.status.busy": "2023-12-20T16:25:53.206583Z",
     "iopub.status.idle": "2023-12-20T16:25:53.208971Z",
     "shell.execute_reply": "2023-12-20T16:25:53.208667Z",
     "shell.execute_reply.started": "2023-12-20T16:25:53.206963Z"
    }
   },
   "outputs": [],
   "source": [
    "import lsst.daf.butler as dafButler\n",
    "#import lsst.summit.utils.butlerUtils as butlerUtils"
   ]
  },
  {
   "cell_type": "code",
   "execution_count": 5,
   "id": "1ceacda9-20b0-4d77-a0d2-572c957ce273",
   "metadata": {
    "execution": {
     "iopub.execute_input": "2023-12-20T16:25:56.098298Z",
     "iopub.status.busy": "2023-12-20T16:25:56.097975Z",
     "iopub.status.idle": "2023-12-20T16:25:57.063414Z",
     "shell.execute_reply": "2023-12-20T16:25:57.062977Z",
     "shell.execute_reply.started": "2023-12-20T16:25:56.098284Z"
    }
   },
   "outputs": [],
   "source": [
    "import numpy as np\n",
    "import matplotlib.pyplot as plt\n",
    "%matplotlib inline\n",
    "from mpl_toolkits.axes_grid1 import make_axes_locatable\n",
    "from matplotlib.colors import LogNorm\n",
    "import pandas as pd\n",
    "\n",
    "import matplotlib.ticker                         # here's where the formatter is\n",
    "import os\n",
    "import re\n",
    "import pandas as pd\n",
    "\n",
    "plt.rcParams[\"figure.figsize\"] = (4,3)\n",
    "plt.rcParams[\"axes.labelsize\"] = 'xx-large'\n",
    "plt.rcParams['axes.titlesize'] = 'xx-large'\n",
    "plt.rcParams['xtick.labelsize']= 'xx-large'\n",
    "plt.rcParams['ytick.labelsize']= 'xx-large'"
   ]
  },
  {
   "cell_type": "code",
   "execution_count": 6,
   "id": "1c81d99a-5e91-4ba1-ba4a-c66b37905b98",
   "metadata": {
    "execution": {
     "iopub.execute_input": "2023-12-20T16:26:03.287069Z",
     "iopub.status.busy": "2023-12-20T16:26:03.286818Z",
     "iopub.status.idle": "2023-12-20T16:26:05.820381Z",
     "shell.execute_reply": "2023-12-20T16:26:05.819950Z",
     "shell.execute_reply.started": "2023-12-20T16:26:03.287054Z"
    }
   },
   "outputs": [],
   "source": [
    "#repo =  \"/sdf/group/rubin/repo/main\"\n",
    "repo = \"/sdf/group/rubin/repo/oga/\"\n",
    "butler = dafButler.Butler(repo)\n",
    "registry = butler.registry"
   ]
  },
  {
   "cell_type": "markdown",
   "id": "20dbb8da-3a08-4b4f-9437-4bf7f28c1782",
   "metadata": {},
   "source": [
    "## Give the collection"
   ]
  },
  {
   "cell_type": "code",
   "execution_count": 8,
   "id": "9629ea29-8ab4-4062-aed1-e16d62dc90c4",
   "metadata": {
    "execution": {
     "iopub.execute_input": "2023-12-20T16:34:09.305531Z",
     "iopub.status.busy": "2023-12-20T16:34:09.305259Z",
     "iopub.status.idle": "2023-12-20T16:34:09.307783Z",
     "shell.execute_reply": "2023-12-20T16:34:09.307433Z",
     "shell.execute_reply.started": "2023-12-20T16:34:09.305516Z"
    }
   },
   "outputs": [],
   "source": [
    "my_collection = \"LATISS/runs/AUXTEL_DRP_IMAGING_2023-11A-10A-09AB-08ABC-07AB-05AB/w_2023_46/PREOPS-4553\""
   ]
  },
  {
   "cell_type": "markdown",
   "id": "a7587b10-c178-4537-9c34-60867b69fa01",
   "metadata": {},
   "source": [
    "## Config"
   ]
  },
  {
   "cell_type": "code",
   "execution_count": 8,
   "id": "4ca03168-c597-497b-a271-675d5e519550",
   "metadata": {},
   "outputs": [],
   "source": []
  },
  {
   "cell_type": "markdown",
   "id": "98d95f5f-87e9-4084-84da-c342086d5de1",
   "metadata": {},
   "source": [
    "- icSrc_schema\n",
    "- icExp  \n",
    "- icExpBackground  \n",
    "- icSrc"
   ]
  },
  {
   "cell_type": "code",
   "execution_count": 9,
   "id": "04bab5b8-349a-4a8d-a9a4-074a14fb3e28",
   "metadata": {
    "execution": {
     "iopub.execute_input": "2023-12-20T16:34:24.496431Z",
     "iopub.status.busy": "2023-12-20T16:34:24.496253Z",
     "iopub.status.idle": "2023-12-20T16:34:24.517358Z",
     "shell.execute_reply": "2023-12-20T16:34:24.516961Z",
     "shell.execute_reply.started": "2023-12-20T16:34:24.496418Z"
    }
   },
   "outputs": [],
   "source": [
    "datasetRefs = registry.queryDatasets(datasetType='icSrc_schema', collections=my_collection, where= \"instrument='LATISS'\")\n",
    "#icSrc_schema = butler.get('icSrc_schema')"
   ]
  },
  {
   "cell_type": "markdown",
   "id": "432e82a4-5617-48b3-a5bb-1f2c550c8525",
   "metadata": {},
   "source": [
    "## icExp"
   ]
  },
  {
   "cell_type": "code",
   "execution_count": 10,
   "id": "38349d38-ae86-48c9-8037-370a62cd522d",
   "metadata": {
    "execution": {
     "iopub.execute_input": "2023-12-20T16:34:34.494386Z",
     "iopub.status.busy": "2023-12-20T16:34:34.494061Z",
     "iopub.status.idle": "2023-12-20T16:34:34.509551Z",
     "shell.execute_reply": "2023-12-20T16:34:34.509177Z",
     "shell.execute_reply.started": "2023-12-20T16:34:34.494370Z"
    }
   },
   "outputs": [],
   "source": [
    "datasetRefs = registry.queryDatasets(datasetType='icExp', collections=my_collection, where= \"instrument='LATISS'\")"
   ]
  },
  {
   "cell_type": "code",
   "execution_count": 11,
   "id": "b62be7a7-73bf-4e4e-a4f8-99e1105dee22",
   "metadata": {
    "execution": {
     "iopub.execute_input": "2023-12-20T16:34:39.839215Z",
     "iopub.status.busy": "2023-12-20T16:34:39.838911Z",
     "iopub.status.idle": "2023-12-20T16:34:48.831877Z",
     "shell.execute_reply": "2023-12-20T16:34:48.831330Z",
     "shell.execute_reply.started": "2023-12-20T16:34:39.839201Z"
    }
   },
   "outputs": [
    {
     "name": "stdout",
     "output_type": "stream",
     "text": [
      "========================datasetType = icExp ============================================\n",
      "fullId..................: {band: 'r', instrument: 'LATISS', detector: 0, physical_filter: 'SDSSr_65mm~empty', visit: 2023080300524}\n",
      "visit...................: 2023080300524\n",
      "band....................: r\n",
      "physical filter.........: SDSSr_65mm~empty\n",
      "run.....................: LATISS/runs/AUXTEL_DRP_IMAGING_2023-11A-10A-09AB-08ABC-07AB-05AB/w_2023_46/PREOPS-4553/20231117T150928Z\n",
      "{'day_obs': 20230803, 'seq_num': 524, 'detector': 0}\n",
      "========================datasetType = icExp ============================================\n",
      "fullId..................: {band: 'i', instrument: 'LATISS', detector: 0, physical_filter: 'SDSSi_65mm~empty', visit: 2023052400692}\n",
      "visit...................: 2023052400692\n",
      "band....................: i\n",
      "physical filter.........: SDSSi_65mm~empty\n",
      "run.....................: LATISS/runs/AUXTEL_DRP_IMAGING_2023-11A-10A-09AB-08ABC-07AB-05AB/w_2023_46/PREOPS-4553/20231117T150928Z\n",
      "{'day_obs': 20230524, 'seq_num': 692, 'detector': 0}\n",
      "========================datasetType = icExp ============================================\n",
      "fullId..................: {band: 'r', instrument: 'LATISS', detector: 0, physical_filter: 'SDSSr_65mm~empty', visit: 2023082900477}\n",
      "visit...................: 2023082900477\n",
      "band....................: r\n",
      "physical filter.........: SDSSr_65mm~empty\n",
      "run.....................: LATISS/runs/AUXTEL_DRP_IMAGING_2023-11A-10A-09AB-08ABC-07AB-05AB/w_2023_46/PREOPS-4553/20231117T150928Z\n",
      "{'day_obs': 20230829, 'seq_num': 477, 'detector': 0}\n",
      "========================datasetType = icExp ============================================\n",
      "fullId..................: {band: 'g', instrument: 'LATISS', detector: 0, physical_filter: 'SDSSg_65mm~empty', visit: 2023070600433}\n",
      "visit...................: 2023070600433\n",
      "band....................: g\n",
      "physical filter.........: SDSSg_65mm~empty\n",
      "run.....................: LATISS/runs/AUXTEL_DRP_IMAGING_2023-11A-10A-09AB-08ABC-07AB-05AB/w_2023_46/PREOPS-4553/20231117T150928Z\n",
      "{'day_obs': 20230706, 'seq_num': 433, 'detector': 0}\n",
      "========================datasetType = icExp ============================================\n",
      "fullId..................: {band: 'g', instrument: 'LATISS', detector: 0, physical_filter: 'SDSSg_65mm~empty', visit: 2023070600543}\n",
      "visit...................: 2023070600543\n",
      "band....................: g\n",
      "physical filter.........: SDSSg_65mm~empty\n",
      "run.....................: LATISS/runs/AUXTEL_DRP_IMAGING_2023-11A-10A-09AB-08ABC-07AB-05AB/w_2023_46/PREOPS-4553/20231117T150928Z\n",
      "{'day_obs': 20230706, 'seq_num': 543, 'detector': 0}\n",
      "========================datasetType = icExp ============================================\n",
      "fullId..................: {band: 'i', instrument: 'LATISS', detector: 0, physical_filter: 'empty~SDSSi_65mm', visit: 2023110800312}\n",
      "visit...................: 2023110800312\n",
      "band....................: i\n",
      "physical filter.........: empty~SDSSi_65mm\n",
      "run.....................: LATISS/runs/AUXTEL_DRP_IMAGING_2023-11A-10A-09AB-08ABC-07AB-05AB/w_2023_46/PREOPS-4553/20231117T150928Z\n",
      "{'day_obs': 20231108, 'seq_num': 312, 'detector': 0}\n",
      "========================datasetType = icExp ============================================\n",
      "fullId..................: {band: 'r', instrument: 'LATISS', detector: 0, physical_filter: 'SDSSr_65mm~empty', visit: 2023092800139}\n",
      "visit...................: 2023092800139\n",
      "band....................: r\n",
      "physical filter.........: SDSSr_65mm~empty\n",
      "run.....................: LATISS/runs/AUXTEL_DRP_IMAGING_2023-11A-10A-09AB-08ABC-07AB-05AB/w_2023_46/PREOPS-4553/20231117T150928Z\n",
      "{'day_obs': 20230928, 'seq_num': 139, 'detector': 0}\n"
     ]
    }
   ],
   "source": [
    "all_ref_for_icSrc = []\n",
    "all_dataId = []\n",
    "all_icExp  = []\n",
    "all_exposures = []\n",
    "\n",
    "\n",
    "\n",
    "for i, ref in enumerate(datasetRefs):\n",
    "    all_ref_for_icSrc.append(ref.dataId)\n",
    "    print(\"========================datasetType = icExp ============================================\")\n",
    "    print(\"fullId..................:\",ref.dataId.full)\n",
    "    print(\"visit...................:\",ref.dataId[\"visit\"])\n",
    "    print(\"band....................:\",ref.dataId[\"band\"])\n",
    "    print(\"physical filter.........:\",ref.dataId[\"physical_filter\"])\n",
    "    print(\"run.....................:\",ref.run)\n",
    "    the_exposure = ref.dataId[\"visit\"]\n",
    "    the_day_obs = ref.dataId[\"visit\"]//100_000\n",
    "    the_seq_num = ref.dataId[\"visit\"]- the_day_obs*100_000    \n",
    "    the_dataId = {'day_obs': the_day_obs,'seq_num':the_seq_num,'detector':0}\n",
    "    print(the_dataId)\n",
    "    #spec       = butler.get('spectraction',the_dataId)\n",
    "    icExp = butler.get('icExp', visit=the_exposure, detector=0, collections=my_collection, instrument='LATISS')\n",
    "    all_dataId.append(the_dataId) \n",
    "    all_exposures.append(the_exposure)\n",
    "    all_icExp.append(icExp)\n",
    "    if i > 5:\n",
    "        break"
   ]
  },
  {
   "cell_type": "code",
   "execution_count": 12,
   "id": "12b6af1a-fa12-4493-b7af-52782484992b",
   "metadata": {
    "execution": {
     "iopub.execute_input": "2023-12-20T16:34:53.734972Z",
     "iopub.status.busy": "2023-12-20T16:34:53.734371Z",
     "iopub.status.idle": "2023-12-20T16:34:54.337895Z",
     "shell.execute_reply": "2023-12-20T16:34:54.337480Z",
     "shell.execute_reply.started": "2023-12-20T16:34:53.734958Z"
    }
   },
   "outputs": [
    {
     "data": {
      "text/plain": [
       "<matplotlib.image.AxesImage at 0x7f1ae256f810>"
      ]
     },
     "execution_count": 12,
     "metadata": {},
     "output_type": "execute_result"
    },
    {
     "data": {
      "image/png": "[encoded data removed]",
      "text/plain": [
       "<Figure size 400x300 with 1 Axes>"
      ]
     },
     "metadata": {},
     "output_type": "display_data"
    }
   ],
   "source": [
    "plt.imshow(icExp.getImage().array,origin=\"lower\")"
   ]
  },
  {
   "cell_type": "markdown",
   "id": "cb67d0da-2574-40a7-aa3f-3ba8a0d98003",
   "metadata": {},
   "source": [
    "## icExpBackground"
   ]
  },
  {
   "cell_type": "code",
   "execution_count": 13,
   "id": "a07f62b4-5223-464a-a399-fc864cc7a493",
   "metadata": {
    "execution": {
     "iopub.execute_input": "2023-12-20T16:35:05.577823Z",
     "iopub.status.busy": "2023-12-20T16:35:05.577326Z",
     "iopub.status.idle": "2023-12-20T16:35:05.593752Z",
     "shell.execute_reply": "2023-12-20T16:35:05.593287Z",
     "shell.execute_reply.started": "2023-12-20T16:35:05.577808Z"
    }
   },
   "outputs": [],
   "source": [
    "datasetRefs = registry.queryDatasets(datasetType='icExpBackground', collections=my_collection, where= \"instrument='LATISS'\")"
   ]
  },
  {
   "cell_type": "code",
   "execution_count": 14,
   "id": "a5e4ae55-27ab-4155-9cfe-a8ac5b014b4c",
   "metadata": {
    "execution": {
     "iopub.execute_input": "2023-12-20T16:35:08.921200Z",
     "iopub.status.busy": "2023-12-20T16:35:08.920578Z",
     "iopub.status.idle": "2023-12-20T16:35:09.470563Z",
     "shell.execute_reply": "2023-12-20T16:35:09.470066Z",
     "shell.execute_reply.started": "2023-12-20T16:35:08.921185Z"
    }
   },
   "outputs": [
    {
     "name": "stdout",
     "output_type": "stream",
     "text": [
      "========================datasetType = icExpBackground ============================================\n",
      "fullId..................: {band: 'r', instrument: 'LATISS', detector: 0, physical_filter: 'SDSSr_65mm~empty', visit: 2023070400510}\n",
      "visit...................: 2023070400510\n",
      "band....................: r\n",
      "physical filter.........: SDSSr_65mm~empty\n",
      "run.....................: LATISS/runs/AUXTEL_DRP_IMAGING_2023-11A-10A-09AB-08ABC-07AB-05AB/w_2023_46/PREOPS-4553/20231117T150928Z\n",
      "{'day_obs': 20230704, 'seq_num': 510, 'detector': 0}\n",
      "========================datasetType = icExpBackground ============================================\n",
      "fullId..................: {band: 'i', instrument: 'LATISS', detector: 0, physical_filter: 'SDSSi_65mm~empty', visit: 2023072000338}\n",
      "visit...................: 2023072000338\n",
      "band....................: i\n",
      "physical filter.........: SDSSi_65mm~empty\n",
      "run.....................: LATISS/runs/AUXTEL_DRP_IMAGING_2023-11A-10A-09AB-08ABC-07AB-05AB/w_2023_46/PREOPS-4553/20231117T150928Z\n",
      "{'day_obs': 20230720, 'seq_num': 338, 'detector': 0}\n",
      "========================datasetType = icExpBackground ============================================\n",
      "fullId..................: {band: 'r', instrument: 'LATISS', detector: 0, physical_filter: 'SDSSr_65mm~empty', visit: 2023101000279}\n",
      "visit...................: 2023101000279\n",
      "band....................: r\n",
      "physical filter.........: SDSSr_65mm~empty\n",
      "run.....................: LATISS/runs/AUXTEL_DRP_IMAGING_2023-11A-10A-09AB-08ABC-07AB-05AB/w_2023_46/PREOPS-4553/20231117T150928Z\n",
      "{'day_obs': 20231010, 'seq_num': 279, 'detector': 0}\n",
      "========================datasetType = icExpBackground ============================================\n",
      "fullId..................: {band: 'i', instrument: 'LATISS', detector: 0, physical_filter: 'SDSSi_65mm~empty', visit: 2023051100499}\n",
      "visit...................: 2023051100499\n",
      "band....................: i\n",
      "physical filter.........: SDSSi_65mm~empty\n",
      "run.....................: LATISS/runs/AUXTEL_DRP_IMAGING_2023-11A-10A-09AB-08ABC-07AB-05AB/w_2023_46/PREOPS-4553/20231117T150928Z\n",
      "{'day_obs': 20230511, 'seq_num': 499, 'detector': 0}\n",
      "========================datasetType = icExpBackground ============================================\n",
      "fullId..................: {band: 'r', instrument: 'LATISS', detector: 0, physical_filter: 'SDSSr_65mm~empty', visit: 2023070600559}\n",
      "visit...................: 2023070600559\n",
      "band....................: r\n",
      "physical filter.........: SDSSr_65mm~empty\n",
      "run.....................: LATISS/runs/AUXTEL_DRP_IMAGING_2023-11A-10A-09AB-08ABC-07AB-05AB/w_2023_46/PREOPS-4553/20231117T150928Z\n",
      "{'day_obs': 20230706, 'seq_num': 559, 'detector': 0}\n",
      "========================datasetType = icExpBackground ============================================\n",
      "fullId..................: {band: 'i', instrument: 'LATISS', detector: 0, physical_filter: 'SDSSi_65mm~empty', visit: 2023070600373}\n",
      "visit...................: 2023070600373\n",
      "band....................: i\n",
      "physical filter.........: SDSSi_65mm~empty\n",
      "run.....................: LATISS/runs/AUXTEL_DRP_IMAGING_2023-11A-10A-09AB-08ABC-07AB-05AB/w_2023_46/PREOPS-4553/20231117T150928Z\n",
      "{'day_obs': 20230706, 'seq_num': 373, 'detector': 0}\n",
      "========================datasetType = icExpBackground ============================================\n",
      "fullId..................: {band: 'r', instrument: 'LATISS', detector: 0, physical_filter: 'SDSSr_65mm~empty', visit: 2023080200667}\n",
      "visit...................: 2023080200667\n",
      "band....................: r\n",
      "physical filter.........: SDSSr_65mm~empty\n",
      "run.....................: LATISS/runs/AUXTEL_DRP_IMAGING_2023-11A-10A-09AB-08ABC-07AB-05AB/w_2023_46/PREOPS-4553/20231117T150928Z\n",
      "{'day_obs': 20230802, 'seq_num': 667, 'detector': 0}\n"
     ]
    }
   ],
   "source": [
    "all_ref_for_icExpBg  = []\n",
    "all_dataId = []\n",
    "all_icExpBg  = []\n",
    "all_exposures = []\n",
    "\n",
    "\n",
    "\n",
    "for i, ref in enumerate(datasetRefs):\n",
    "    all_ref_for_icSrc.append(ref.dataId)\n",
    "    print(\"========================datasetType = icExpBackground ============================================\")\n",
    "    print(\"fullId..................:\",ref.dataId.full)\n",
    "    print(\"visit...................:\",ref.dataId[\"visit\"])\n",
    "    print(\"band....................:\",ref.dataId[\"band\"])\n",
    "    print(\"physical filter.........:\",ref.dataId[\"physical_filter\"])\n",
    "    print(\"run.....................:\",ref.run)\n",
    "    the_exposure = ref.dataId[\"visit\"]\n",
    "    the_day_obs = ref.dataId[\"visit\"]//100_000\n",
    "    the_seq_num = ref.dataId[\"visit\"]- the_day_obs*100_000    \n",
    "    the_dataId = {'day_obs': the_day_obs,'seq_num':the_seq_num,'detector':0}\n",
    "    print(the_dataId)\n",
    "    #spec       = butler.get('spectraction',the_dataId)\n",
    "    icExpBg = butler.get('icExpBackground', visit=the_exposure, detector=0, collections=my_collection, instrument='LATISS')\n",
    "    all_ref_for_icExpBg.append(icExpBg) \n",
    "    all_dataId.append(the_dataId) \n",
    "    all_exposures.append(the_exposure)\n",
    "    all_icExpBg.append(icExpBg)\n",
    "    if i > 5:\n",
    "        break"
   ]
  },
  {
   "cell_type": "code",
   "execution_count": 15,
   "id": "0a236702-7282-409f-84f0-0e912ad8c488",
   "metadata": {
    "execution": {
     "iopub.execute_input": "2023-12-20T16:35:14.168654Z",
     "iopub.status.busy": "2023-12-20T16:35:14.168112Z",
     "iopub.status.idle": "2023-12-20T16:35:15.071908Z",
     "shell.execute_reply": "2023-12-20T16:35:15.071450Z",
     "shell.execute_reply.started": "2023-12-20T16:35:14.168639Z"
    }
   },
   "outputs": [
    {
     "data": {
      "text/plain": [
       "<matplotlib.image.AxesImage at 0x7f1add52f810>"
      ]
     },
     "execution_count": 15,
     "metadata": {},
     "output_type": "execute_result"
    },
    {
     "data": {
      "image/png": "[encoded data removed]",
      "text/plain": [
       "<Figure size 400x300 with 1 Axes>"
      ]
     },
     "metadata": {},
     "output_type": "display_data"
    }
   ],
   "source": [
    "plt.imshow(icExpBg.getImage().array,origin=\"lower\")"
   ]
  },
  {
   "cell_type": "markdown",
   "id": "910b1de4-8732-495f-8e3e-9c4a21e163e6",
   "metadata": {},
   "source": [
    "## icSrc"
   ]
  },
  {
   "cell_type": "code",
   "execution_count": 16,
   "id": "94218591-da24-4d46-bf34-cf57c2855176",
   "metadata": {
    "execution": {
     "iopub.execute_input": "2023-12-20T16:35:19.495973Z",
     "iopub.status.busy": "2023-12-20T16:35:19.495529Z",
     "iopub.status.idle": "2023-12-20T16:35:19.510490Z",
     "shell.execute_reply": "2023-12-20T16:35:19.510127Z",
     "shell.execute_reply.started": "2023-12-20T16:35:19.495959Z"
    }
   },
   "outputs": [],
   "source": [
    "datasetRefs = registry.queryDatasets(datasetType='icSrc', collections=my_collection, where= \"instrument='LATISS'\")"
   ]
  },
  {
   "cell_type": "code",
   "execution_count": 17,
   "id": "67c31f24-d228-4cc4-971b-2ca3a87f5c4d",
   "metadata": {
    "execution": {
     "iopub.execute_input": "2023-12-20T16:35:22.471116Z",
     "iopub.status.busy": "2023-12-20T16:35:22.470448Z",
     "iopub.status.idle": "2023-12-20T16:35:22.479697Z",
     "shell.execute_reply": "2023-12-20T16:35:22.479324Z",
     "shell.execute_reply.started": "2023-12-20T16:35:22.471095Z"
    }
   },
   "outputs": [
    {
     "data": {
      "text/plain": [
       "True"
      ]
     },
     "execution_count": 17,
     "metadata": {},
     "output_type": "execute_result"
    }
   ],
   "source": [
    "datasetRefs.any() "
   ]
  },
  {
   "cell_type": "code",
   "execution_count": 18,
   "id": "979b03d5-e54c-4d21-a848-98b820df1d16",
   "metadata": {},
   "outputs": [
    {
     "name": "stdout",
     "output_type": "stream",
     "text": [
      "========================datasetType = icSrc ============================================\n",
      "fullId..................: {band: 'white', instrument: 'LATISS', detector: 0, physical_filter: 'empty~holo4_003', visit: 2021110300459}\n",
      "visit...................: 2021110300459\n",
      "band....................: white\n",
      "physical filter.........: empty~holo4_003\n",
      "run.....................: u/dagoret/spectro/noflat/empty~holo4/20211103/20221031T154824Z\n",
      "{'day_obs': 20211103, 'seq_num': 459, 'detector': 0}\n",
      "========================datasetType = icSrc ============================================\n",
      "fullId..................: {band: 'white', instrument: 'LATISS', detector: 0, physical_filter: 'empty~holo4_003', visit: 2021110300465}\n",
      "visit...................: 2021110300465\n",
      "band....................: white\n",
      "physical filter.........: empty~holo4_003\n",
      "run.....................: u/dagoret/spectro/noflat/empty~holo4/20211103/20221031T155742Z\n",
      "{'day_obs': 20211103, 'seq_num': 465, 'detector': 0}\n",
      "========================datasetType = icSrc ============================================\n",
      "fullId..................: {band: 'white', instrument: 'LATISS', detector: 0, physical_filter: 'empty~holo4_003', visit: 2021110300471}\n",
      "visit...................: 2021110300471\n",
      "band....................: white\n",
      "physical filter.........: empty~holo4_003\n",
      "run.....................: u/dagoret/spectro/noflat/empty~holo4/20211103/20221031T160858Z\n",
      "{'day_obs': 20211103, 'seq_num': 471, 'detector': 0}\n",
      "========================datasetType = icSrc ============================================\n",
      "fullId..................: {band: 'white', instrument: 'LATISS', detector: 0, physical_filter: 'empty~holo4_003', visit: 2021110300477}\n",
      "visit...................: 2021110300477\n",
      "band....................: white\n",
      "physical filter.........: empty~holo4_003\n",
      "run.....................: u/dagoret/spectro/noflat/empty~holo4/20211103/20221031T161632Z\n",
      "{'day_obs': 20211103, 'seq_num': 477, 'detector': 0}\n",
      "========================datasetType = icSrc ============================================\n",
      "fullId..................: {band: 'white', instrument: 'LATISS', detector: 0, physical_filter: 'empty~holo4_003', visit: 2021110300483}\n",
      "visit...................: 2021110300483\n",
      "band....................: white\n",
      "physical filter.........: empty~holo4_003\n",
      "run.....................: u/dagoret/spectro/noflat/empty~holo4/20211103/20221031T162529Z\n",
      "{'day_obs': 20211103, 'seq_num': 483, 'detector': 0}\n",
      "========================datasetType = icSrc ============================================\n",
      "fullId..................: {band: 'white', instrument: 'LATISS', detector: 0, physical_filter: 'empty~holo4_003', visit: 2021110300489}\n",
      "visit...................: 2021110300489\n",
      "band....................: white\n",
      "physical filter.........: empty~holo4_003\n",
      "run.....................: u/dagoret/spectro/noflat/empty~holo4/20211103/20221031T163553Z\n",
      "{'day_obs': 20211103, 'seq_num': 489, 'detector': 0}\n",
      "========================datasetType = icSrc ============================================\n",
      "fullId..................: {band: 'white', instrument: 'LATISS', detector: 0, physical_filter: 'empty~holo4_003', visit: 2021110300495}\n",
      "visit...................: 2021110300495\n",
      "band....................: white\n",
      "physical filter.........: empty~holo4_003\n",
      "run.....................: u/dagoret/spectro/noflat/empty~holo4/20211103/20221031T164323Z\n",
      "{'day_obs': 20211103, 'seq_num': 495, 'detector': 0}\n"
     ]
    }
   ],
   "source": [
    "all_ref_for_icSrc = []\n",
    "all_dataId = []\n",
    "all_icSrc = []\n",
    "all_exposures = []\n",
    "\n",
    "\n",
    "\n",
    "for i, ref in enumerate(datasetRefs):\n",
    "    all_ref_for_icSrc.append(ref.dataId)\n",
    "    print(\"========================datasetType = icSrc ============================================\")\n",
    "    print(\"fullId..................:\",ref.dataId.full)\n",
    "    print(\"visit...................:\",ref.dataId[\"visit\"])\n",
    "    print(\"band....................:\",ref.dataId[\"band\"])\n",
    "    print(\"physical filter.........:\",ref.dataId[\"physical_filter\"])\n",
    "    print(\"run.....................:\",ref.run)\n",
    "    the_exposure = ref.dataId[\"visit\"]\n",
    "    the_day_obs = ref.dataId[\"visit\"]//100_000\n",
    "    the_seq_num = ref.dataId[\"visit\"]- the_day_obs*100_000    \n",
    "    the_dataId = {'day_obs': the_day_obs,'seq_num':the_seq_num,'detector':0}\n",
    "    print(the_dataId)\n",
    "    #spec       = butler.get('spectraction',the_dataId)\n",
    "    icSrc = butler.get('icSrc', visit=the_exposure, detector=0, collections=my_collection, instrument='LATISS')\n",
    "    all_ref_for_icSrc.append(icSrc) \n",
    "    all_dataId.append(the_dataId) \n",
    "    all_exposures.append(the_exposure)\n",
    "    all_icSrc.append(icSrc)\n",
    "    if i > 5:\n",
    "        break"
   ]
  },
  {
   "cell_type": "code",
   "execution_count": 19,
   "id": "76d2e78b-c45a-481b-a967-f25f746cf710",
   "metadata": {},
   "outputs": [
    {
     "data": {
      "text/html": [
       "<div><i>Table length=120</i>\n",
       "<table id=\"table140271345226640\" class=\"table-striped table-bordered table-condensed\">\n",
       "<thead><tr><th>id</th><th>coord_ra</th><th>coord_dec</th><th>parent</th><th>calib_psf_candidate</th><th>calib_psf_used</th><th>calib_psf_reserved</th><th>base_SdssCentroid_x</th><th>slot_Centroid_x</th><th>base_SdssCentroid_y</th><th>slot_Centroid_y</th><th>base_SdssCentroid_xErr</th><th>slot_Centroid_xErr</th><th>base_SdssCentroid_yErr</th><th>slot_Centroid_yErr</th><th>base_SdssCentroid_flag</th><th>base_CircularApertureFlux_flag_badCentroid</th><th>base_GaussianFlux_flag_badCentroid</th><th>base_PsfFlux_flag_badCentroid</th><th>ext_shapeHSM_HsmSourceMoments_flag_badCentroid</th><th>slot_Centroid_flag</th><th>base_SdssCentroid_flag_edge</th><th>base_CircularApertureFlux_flag_badCentroid_edge</th><th>base_GaussianFlux_flag_badCentroid_edge</th><th>base_PsfFlux_flag_badCentroid_edge</th><th>ext_shapeHSM_HsmSourceMoments_flag_badCentroid_edge</th><th>slot_Centroid_flag_edge</th><th>base_SdssCentroid_flag_noSecondDerivative</th><th>base_CircularApertureFlux_flag_badCentroid_noSecondDerivative</th><th>base_GaussianFlux_flag_badCentroid_noSecondDerivative</th><th>base_PsfFlux_flag_badCentroid_noSecondDerivative</th><th>ext_shapeHSM_HsmSourceMoments_flag_badCentroid_noSecondDerivative</th><th>slot_Centroid_flag_noSecondDerivative</th><th>base_SdssCentroid_flag_almostNoSecondDerivative</th><th>base_CircularApertureFlux_flag_badCentroid_almostNoSecondDerivative</th><th>base_GaussianFlux_flag_badCentroid_almostNoSecondDerivative</th><th>base_PsfFlux_flag_badCentroid_almostNoSecondDerivative</th><th>ext_shapeHSM_HsmSourceMoments_flag_badCentroid_almostNoSecondDerivative</th><th>slot_Centroid_flag_almostNoSecondDerivative</th><th>base_SdssCentroid_flag_notAtMaximum</th><th>base_CircularApertureFlux_flag_badCentroid_notAtMaximum</th><th>base_GaussianFlux_flag_badCentroid_notAtMaximum</th><th>base_PsfFlux_flag_badCentroid_notAtMaximum</th><th>ext_shapeHSM_HsmSourceMoments_flag_badCentroid_notAtMaximum</th><th>slot_Centroid_flag_notAtMaximum</th><th>base_SdssCentroid_flag_resetToPeak</th><th>base_CircularApertureFlux_flag_badCentroid_resetToPeak</th><th>base_GaussianFlux_flag_badCentroid_resetToPeak</th><th>base_PsfFlux_flag_badCentroid_resetToPeak</th><th>ext_shapeHSM_HsmSourceMoments_flag_badCentroid_resetToPeak</th><th>slot_Centroid_flag_resetToPeak</th><th>base_SdssCentroid_flag_badError</th><th>base_CircularApertureFlux_flag_badCentroid_badError</th><th>base_GaussianFlux_flag_badCentroid_badError</th><th>base_PsfFlux_flag_badCentroid_badError</th><th>ext_shapeHSM_HsmSourceMoments_flag_badCentroid_badError</th><th>slot_Centroid_flag_badError</th><th>base_FPPosition_x</th><th>base_FPPosition_y</th><th>base_FPPosition_flag</th><th>base_FPPosition_missingDetector_flag</th><th>base_Jacobian_value</th><th>base_Jacobian_flag</th><th>ext_shapeHSM_HsmSourceMoments_x</th><th>slot_Shape_x</th><th>ext_shapeHSM_HsmSourceMoments_y</th><th>slot_Shape_y</th><th>ext_shapeHSM_HsmSourceMoments_xx</th><th>slot_Shape_xx</th><th>ext_shapeHSM_HsmSourceMoments_yy</th><th>slot_Shape_yy</th><th>ext_shapeHSM_HsmSourceMoments_xy</th><th>slot_Shape_xy</th><th>ext_shapeHSM_HsmSourceMoments_flag</th><th>base_GaussianFlux_flag_badShape</th><th>slot_Shape_flag</th><th>ext_shapeHSM_HsmSourceMoments_flag_no_pixels</th><th>base_GaussianFlux_flag_badShape_no_pixels</th><th>slot_Shape_flag_no_pixels</th><th>ext_shapeHSM_HsmSourceMoments_flag_not_contained</th><th>base_GaussianFlux_flag_badShape_not_contained</th><th>slot_Shape_flag_not_contained</th><th>ext_shapeHSM_HsmSourceMoments_flag_parent_source</th><th>base_GaussianFlux_flag_badShape_parent_source</th><th>slot_Shape_flag_parent_source</th><th>ext_shapeHSM_HsmSourceMoments_flag_galsim</th><th>base_GaussianFlux_flag_badShape_galsim</th><th>slot_Shape_flag_galsim</th><th>ext_shapeHSM_HsmSourceMoments_flag_edge</th><th>base_GaussianFlux_flag_badShape_edge</th><th>slot_Shape_flag_edge</th><th>base_CircularApertureFlux_3_0_instFlux</th><th>base_CircularApertureFlux_3_0_instFluxErr</th><th>base_CircularApertureFlux_3_0_flag</th><th>base_CircularApertureFlux_3_0_flag_apertureTruncated</th><th>base_CircularApertureFlux_3_0_flag_sincCoeffsTruncated</th><th>base_CircularApertureFlux_4_5_instFlux</th><th>base_CircularApertureFlux_4_5_instFluxErr</th><th>base_CircularApertureFlux_4_5_flag</th><th>base_CircularApertureFlux_4_5_flag_apertureTruncated</th><th>base_CircularApertureFlux_4_5_flag_sincCoeffsTruncated</th><th>base_CircularApertureFlux_6_0_instFlux</th><th>base_CircularApertureFlux_6_0_instFluxErr</th><th>base_CircularApertureFlux_6_0_flag</th><th>base_CircularApertureFlux_6_0_flag_apertureTruncated</th><th>base_CircularApertureFlux_6_0_flag_sincCoeffsTruncated</th><th>base_CircularApertureFlux_9_0_instFlux</th><th>base_CircularApertureFlux_9_0_instFluxErr</th><th>base_CircularApertureFlux_9_0_flag</th><th>base_CircularApertureFlux_9_0_flag_apertureTruncated</th><th>base_CircularApertureFlux_9_0_flag_sincCoeffsTruncated</th><th>base_CircularApertureFlux_12_0_instFlux</th><th>slot_ApFlux_instFlux</th><th>slot_CalibFlux_instFlux</th><th>base_CircularApertureFlux_12_0_instFluxErr</th><th>slot_ApFlux_instFluxErr</th><th>slot_CalibFlux_instFluxErr</th><th>base_CircularApertureFlux_12_0_flag</th><th>slot_ApFlux_flag</th><th>slot_CalibFlux_flag</th><th>base_CircularApertureFlux_12_0_flag_apertureTruncated</th><th>slot_ApFlux_flag_apertureTruncated</th><th>slot_CalibFlux_flag_apertureTruncated</th><th>base_CircularApertureFlux_12_0_flag_sincCoeffsTruncated</th><th>slot_ApFlux_flag_sincCoeffsTruncated</th><th>slot_CalibFlux_flag_sincCoeffsTruncated</th><th>base_CircularApertureFlux_17_0_instFlux</th><th>base_CircularApertureFlux_17_0_instFluxErr</th><th>base_CircularApertureFlux_17_0_flag</th><th>base_CircularApertureFlux_17_0_flag_apertureTruncated</th><th>base_CircularApertureFlux_25_0_instFlux</th><th>base_CircularApertureFlux_25_0_instFluxErr</th><th>base_CircularApertureFlux_25_0_flag</th><th>base_CircularApertureFlux_25_0_flag_apertureTruncated</th><th>base_CircularApertureFlux_35_0_instFlux</th><th>base_CircularApertureFlux_35_0_instFluxErr</th><th>base_CircularApertureFlux_35_0_flag</th><th>base_CircularApertureFlux_35_0_flag_apertureTruncated</th><th>base_CircularApertureFlux_50_0_instFlux</th><th>base_CircularApertureFlux_50_0_instFluxErr</th><th>base_CircularApertureFlux_50_0_flag</th><th>base_CircularApertureFlux_50_0_flag_apertureTruncated</th><th>base_CircularApertureFlux_70_0_instFlux</th><th>base_CircularApertureFlux_70_0_instFluxErr</th><th>base_CircularApertureFlux_70_0_flag</th><th>base_CircularApertureFlux_70_0_flag_apertureTruncated</th><th>base_GaussianFlux_instFlux</th><th>slot_GaussianFlux_instFlux</th><th>slot_ModelFlux_instFlux</th><th>base_GaussianFlux_instFluxErr</th><th>slot_GaussianFlux_instFluxErr</th><th>slot_ModelFlux_instFluxErr</th><th>base_GaussianFlux_flag</th><th>slot_GaussianFlux_flag</th><th>slot_ModelFlux_flag</th><th>base_PixelFlags_flag</th><th>base_PixelFlags_flag_offimage</th><th>base_PixelFlags_flag_edge</th><th>base_PixelFlags_flag_interpolated</th><th>base_PixelFlags_flag_saturated</th><th>base_PixelFlags_flag_cr</th><th>base_PixelFlags_flag_bad</th><th>base_PixelFlags_flag_suspect</th><th>base_PixelFlags_flag_interpolatedCenter</th><th>base_PixelFlags_flag_saturatedCenter</th><th>base_PixelFlags_flag_crCenter</th><th>base_PixelFlags_flag_suspectCenter</th><th>base_PsfFlux_instFlux</th><th>slot_PsfFlux_instFlux</th><th>base_PsfFlux_instFluxErr</th><th>slot_PsfFlux_instFluxErr</th><th>base_PsfFlux_area</th><th>slot_PsfFlux_area</th><th>base_PsfFlux_chi2</th><th>slot_PsfFlux_chi2</th><th>base_PsfFlux_npixels</th><th>slot_PsfFlux_npixels</th><th>base_PsfFlux_flag</th><th>slot_PsfFlux_flag</th><th>base_PsfFlux_flag_noGoodPixels</th><th>slot_PsfFlux_flag_noGoodPixels</th><th>base_PsfFlux_flag_edge</th><th>slot_PsfFlux_flag_edge</th><th>base_ClassificationExtendedness_value</th><th>base_ClassificationExtendedness_flag</th><th>base_FootprintArea_value</th></tr></thead>\n",
       "<thead><tr><th></th><th>rad</th><th>rad</th><th></th><th></th><th></th><th></th><th>pix</th><th>pix</th><th>pix</th><th>pix</th><th>pix</th><th>pix</th><th>pix</th><th>pix</th><th></th><th></th><th></th><th></th><th></th><th></th><th></th><th></th><th></th><th></th><th></th><th></th><th></th><th></th><th></th><th></th><th></th><th></th><th></th><th></th><th></th><th></th><th></th><th></th><th></th><th></th><th></th><th></th><th></th><th></th><th></th><th></th><th></th><th></th><th></th><th></th><th></th><th></th><th></th><th></th><th></th><th></th><th>mm</th><th>mm</th><th></th><th></th><th></th><th></th><th>pix</th><th>pix</th><th>pix</th><th>pix</th><th>pix2</th><th>pix2</th><th>pix2</th><th>pix2</th><th>pix2</th><th>pix2</th><th></th><th></th><th></th><th></th><th></th><th></th><th></th><th></th><th></th><th></th><th></th><th></th><th></th><th></th><th></th><th></th><th></th><th></th><th>ct</th><th>ct</th><th></th><th></th><th></th><th>ct</th><th>ct</th><th></th><th></th><th></th><th>ct</th><th>ct</th><th></th><th></th><th></th><th>ct</th><th>ct</th><th></th><th></th><th></th><th>ct</th><th>ct</th><th>ct</th><th>ct</th><th>ct</th><th>ct</th><th></th><th></th><th></th><th></th><th></th><th></th><th></th><th></th><th></th><th>ct</th><th>ct</th><th></th><th></th><th>ct</th><th>ct</th><th></th><th></th><th>ct</th><th>ct</th><th></th><th></th><th>ct</th><th>ct</th><th></th><th></th><th>ct</th><th>ct</th><th></th><th></th><th>ct</th><th>ct</th><th>ct</th><th>ct</th><th>ct</th><th>ct</th><th></th><th></th><th></th><th></th><th></th><th></th><th></th><th></th><th></th><th></th><th></th><th></th><th></th><th></th><th></th><th>ct</th><th>ct</th><th>ct</th><th>ct</th><th>pix</th><th>pix</th><th></th><th></th><th>pix</th><th>pix</th><th></th><th></th><th></th><th></th><th></th><th></th><th></th><th></th><th>pix</th></tr></thead>\n",
       "<thead><tr><th>int64</th><th>float64</th><th>float64</th><th>int64</th><th>bool</th><th>bool</th><th>bool</th><th>float64</th><th>float64</th><th>float64</th><th>float64</th><th>float32</th><th>float32</th><th>float32</th><th>float32</th><th>bool</th><th>bool</th><th>bool</th><th>bool</th><th>bool</th><th>bool</th><th>bool</th><th>bool</th><th>bool</th><th>bool</th><th>bool</th><th>bool</th><th>bool</th><th>bool</th><th>bool</th><th>bool</th><th>bool</th><th>bool</th><th>bool</th><th>bool</th><th>bool</th><th>bool</th><th>bool</th><th>bool</th><th>bool</th><th>bool</th><th>bool</th><th>bool</th><th>bool</th><th>bool</th><th>bool</th><th>bool</th><th>bool</th><th>bool</th><th>bool</th><th>bool</th><th>bool</th><th>bool</th><th>bool</th><th>bool</th><th>bool</th><th>bool</th><th>float64</th><th>float64</th><th>bool</th><th>bool</th><th>float64</th><th>bool</th><th>float64</th><th>float64</th><th>float64</th><th>float64</th><th>float64</th><th>float64</th><th>float64</th><th>float64</th><th>float64</th><th>float64</th><th>bool</th><th>bool</th><th>bool</th><th>bool</th><th>bool</th><th>bool</th><th>bool</th><th>bool</th><th>bool</th><th>bool</th><th>bool</th><th>bool</th><th>bool</th><th>bool</th><th>bool</th><th>bool</th><th>bool</th><th>bool</th><th>float64</th><th>float64</th><th>bool</th><th>bool</th><th>bool</th><th>float64</th><th>float64</th><th>bool</th><th>bool</th><th>bool</th><th>float64</th><th>float64</th><th>bool</th><th>bool</th><th>bool</th><th>float64</th><th>float64</th><th>bool</th><th>bool</th><th>bool</th><th>float64</th><th>float64</th><th>float64</th><th>float64</th><th>float64</th><th>float64</th><th>bool</th><th>bool</th><th>bool</th><th>bool</th><th>bool</th><th>bool</th><th>bool</th><th>bool</th><th>bool</th><th>float64</th><th>float64</th><th>bool</th><th>bool</th><th>float64</th><th>float64</th><th>bool</th><th>bool</th><th>float64</th><th>float64</th><th>bool</th><th>bool</th><th>float64</th><th>float64</th><th>bool</th><th>bool</th><th>float64</th><th>float64</th><th>bool</th><th>bool</th><th>float64</th><th>float64</th><th>float64</th><th>float64</th><th>float64</th><th>float64</th><th>bool</th><th>bool</th><th>bool</th><th>bool</th><th>bool</th><th>bool</th><th>bool</th><th>bool</th><th>bool</th><th>bool</th><th>bool</th><th>bool</th><th>bool</th><th>bool</th><th>bool</th><th>float64</th><th>float64</th><th>float64</th><th>float64</th><th>float32</th><th>float32</th><th>float32</th><th>float32</th><th>int32</th><th>int32</th><th>bool</th><th>bool</th><th>bool</th><th>bool</th><th>bool</th><th>bool</th><th>float64</th><th>bool</th><th>int32</th></tr></thead>\n",
       "<tr><td>1</td><td>nan</td><td>nan</td><td>0</td><td>False</td><td>False</td><td>False</td><td>2699.0</td><td>2699.0</td><td>48.0</td><td>48.0</td><td>nan</td><td>nan</td><td>nan</td><td>nan</td><td>True</td><td>True</td><td>True</td><td>True</td><td>True</td><td>True</td><td>True</td><td>True</td><td>True</td><td>True</td><td>True</td><td>True</td><td>False</td><td>False</td><td>False</td><td>False</td><td>False</td><td>False</td><td>False</td><td>False</td><td>False</td><td>False</td><td>False</td><td>False</td><td>False</td><td>False</td><td>False</td><td>False</td><td>False</td><td>False</td><td>False</td><td>False</td><td>False</td><td>False</td><td>False</td><td>False</td><td>False</td><td>False</td><td>False</td><td>False</td><td>False</td><td>False</td><td>6.109999999999999</td><td>-19.58</td><td>False</td><td>False</td><td>0.22893801462014987</td><td>False</td><td>2700.001468487766</td><td>2700.001468487766</td><td>45.081169220514724</td><td>45.081169220514724</td><td>56.48603055814864</td><td>56.48603055814864</td><td>56.61595996736109</td><td>56.61595996736109</td><td>1.7106227249587407</td><td>1.7106227249587407</td><td>True</td><td>True</td><td>True</td><td>False</td><td>False</td><td>False</td><td>False</td><td>False</td><td>False</td><td>False</td><td>False</td><td>False</td><td>False</td><td>False</td><td>False</td><td>False</td><td>False</td><td>False</td><td>2049.552001953125</td><td>76.12142181396484</td><td>True</td><td>False</td><td>False</td><td>4537.6005859375</td><td>114.85482788085938</td><td>True</td><td>False</td><td>False</td><td>7435.68212890625</td><td>152.1540069580078</td><td>True</td><td>False</td><td>False</td><td>14043.484375</td><td>224.2906951904297</td><td>True</td><td>False</td><td>False</td><td>19730.59765625</td><td>19730.59765625</td><td>19730.59765625</td><td>291.81915283203125</td><td>291.81915283203125</td><td>291.81915283203125</td><td>True</td><td>True</td><td>True</td><td>False</td><td>False</td><td>False</td><td>False</td><td>False</td><td>False</td><td>25890.137890696526</td><td>399.7963742952882</td><td>True</td><td>False</td><td>27634.67639684677</td><td>567.3537922198675</td><td>True</td><td>False</td><td>23551.00165489316</td><td>777.580391817747</td><td>True</td><td>False</td><td>nan</td><td>nan</td><td>True</td><td>True</td><td>nan</td><td>nan</td><td>True</td><td>True</td><td>27617.415532489595</td><td>27617.415532489595</td><td>27617.415532489595</td><td>408.36760845079607</td><td>408.36760845079607</td><td>408.36760845079607</td><td>False</td><td>False</td><td>False</td><td>False</td><td>False</td><td>False</td><td>False</td><td>False</td><td>False</td><td>False</td><td>False</td><td>False</td><td>False</td><td>False</td><td>False</td><td>3641.4433493589477</td><td>3641.4433493589477</td><td>105.29390826118896</td><td>105.29390826118896</td><td>50.273167</td><td>50.273167</td><td>11171.491</td><td>11171.491</td><td>6561</td><td>6561</td><td>True</td><td>True</td><td>False</td><td>False</td><td>False</td><td>False</td><td>nan</td><td>True</td><td>1316</td></tr>\n",
       "<tr><td>2</td><td>nan</td><td>nan</td><td>0</td><td>False</td><td>False</td><td>False</td><td>915.0048465197406</td><td>915.0048465197406</td><td>214.99227034218234</td><td>214.99227034218234</td><td>0.033122774</td><td>0.033122774</td><td>0.033434846</td><td>0.033434846</td><td>False</td><td>False</td><td>False</td><td>False</td><td>False</td><td>False</td><td>False</td><td>False</td><td>False</td><td>False</td><td>False</td><td>False</td><td>False</td><td>False</td><td>False</td><td>False</td><td>False</td><td>False</td><td>False</td><td>False</td><td>False</td><td>False</td><td>False</td><td>False</td><td>False</td><td>False</td><td>False</td><td>False</td><td>False</td><td>False</td><td>False</td><td>False</td><td>False</td><td>False</td><td>False</td><td>False</td><td>False</td><td>False</td><td>False</td><td>False</td><td>False</td><td>False</td><td>-11.729951534802597</td><td>-17.910077296578176</td><td>False</td><td>False</td><td>0.2289379870760265</td><td>False</td><td>nan</td><td>nan</td><td>nan</td><td>nan</td><td>nan</td><td>nan</td><td>nan</td><td>nan</td><td>nan</td><td>nan</td><td>True</td><td>True</td><td>True</td><td>False</td><td>False</td><td>False</td><td>False</td><td>False</td><td>False</td><td>False</td><td>False</td><td>False</td><td>True</td><td>True</td><td>True</td><td>False</td><td>False</td><td>False</td><td>4001.874267578125</td><td>89.64571380615234</td><td>False</td><td>False</td><td>False</td><td>3261.475830078125</td><td>108.15435791015625</td><td>False</td><td>False</td><td>False</td><td>2743.208984375</td><td>134.09413146972656</td><td>False</td><td>False</td><td>False</td><td>2391.171630859375</td><td>194.8656768798828</td><td>False</td><td>False</td><td>False</td><td>1134.890380859375</td><td>1134.890380859375</td><td>1134.890380859375</td><td>254.221435546875</td><td>254.221435546875</td><td>254.221435546875</td><td>False</td><td>False</td><td>False</td><td>False</td><td>False</td><td>False</td><td>False</td><td>False</td><td>False</td><td>-696.7526915073395</td><td>356.7439803195026</td><td>False</td><td>False</td><td>-6480.940319299698</td><td>522.3863890301601</td><td>False</td><td>False</td><td>-15945.109678983688</td><td>731.5629257650656</td><td>False</td><td>False</td><td>-32714.646441698074</td><td>1043.9191711165117</td><td>False</td><td>False</td><td>-61090.31457066536</td><td>1463.23776359923</td><td>False</td><td>False</td><td>nan</td><td>nan</td><td>nan</td><td>nan</td><td>nan</td><td>nan</td><td>True</td><td>True</td><td>True</td><td>False</td><td>False</td><td>False</td><td>False</td><td>False</td><td>False</td><td>False</td><td>False</td><td>False</td><td>False</td><td>False</td><td>False</td><td>6965.269126926162</td><td>6965.269126926162</td><td>141.94204657232524</td><td>141.94204657232524</td><td>50.273098</td><td>50.273098</td><td>17722.879</td><td>17722.879</td><td>6561</td><td>6561</td><td>False</td><td>False</td><td>False</td><td>False</td><td>False</td><td>False</td><td>nan</td><td>True</td><td>259</td></tr>\n",
       "<tr><td>3</td><td>nan</td><td>nan</td><td>0</td><td>False</td><td>False</td><td>False</td><td>522.8701897040636</td><td>522.8701897040636</td><td>236.3950694702774</td><td>236.3950694702774</td><td>1.6672012</td><td>1.6672012</td><td>1.6628811</td><td>1.6628811</td><td>False</td><td>False</td><td>False</td><td>False</td><td>False</td><td>False</td><td>False</td><td>False</td><td>False</td><td>False</td><td>False</td><td>False</td><td>False</td><td>False</td><td>False</td><td>False</td><td>False</td><td>False</td><td>False</td><td>False</td><td>False</td><td>False</td><td>False</td><td>False</td><td>False</td><td>False</td><td>False</td><td>False</td><td>False</td><td>False</td><td>False</td><td>False</td><td>False</td><td>False</td><td>False</td><td>False</td><td>False</td><td>False</td><td>False</td><td>False</td><td>False</td><td>False</td><td>-15.651298102959366</td><td>-17.696049305297226</td><td>False</td><td>False</td><td>0.22893791299031577</td><td>False</td><td>522.9884071003659</td><td>522.9884071003659</td><td>236.40784836452187</td><td>236.40784836452187</td><td>65.52589458719122</td><td>65.52589458719122</td><td>62.30767801783547</td><td>62.30767801783547</td><td>8.453401426526074</td><td>8.453401426526074</td><td>False</td><td>False</td><td>False</td><td>False</td><td>False</td><td>False</td><td>False</td><td>False</td><td>False</td><td>False</td><td>False</td><td>False</td><td>False</td><td>False</td><td>False</td><td>False</td><td>False</td><td>False</td><td>858.7975463867188</td><td>66.67545318603516</td><td>False</td><td>False</td><td>False</td><td>1802.074951171875</td><td>99.88654327392578</td><td>False</td><td>False</td><td>False</td><td>3047.29345703125</td><td>133.46681213378906</td><td>False</td><td>False</td><td>False</td><td>5908.92529296875</td><td>199.06289672851562</td><td>False</td><td>False</td><td>False</td><td>8129.39306640625</td><td>8129.39306640625</td><td>8129.39306640625</td><td>262.18463134765625</td><td>262.18463134765625</td><td>262.18463134765625</td><td>False</td><td>False</td><td>False</td><td>False</td><td>False</td><td>False</td><td>False</td><td>False</td><td>False</td><td>10907.984749883413</td><td>366.9723716335583</td><td>False</td><td>False</td><td>13736.254221618176</td><td>527.7448308737634</td><td>False</td><td>False</td><td>16285.015381485224</td><td>728.5920493384009</td><td>False</td><td>False</td><td>18319.75932186842</td><td>1030.0535838179458</td><td>False</td><td>False</td><td>22639.56691005826</td><td>1434.0443704489485</td><td>False</td><td>False</td><td>12312.300695338476</td><td>12312.300695338476</td><td>12312.300695338476</td><td>372.95621390191275</td><td>372.95621390191275</td><td>372.95621390191275</td><td>False</td><td>False</td><td>False</td><td>False</td><td>False</td><td>False</td><td>False</td><td>False</td><td>False</td><td>False</td><td>False</td><td>False</td><td>False</td><td>False</td><td>False</td><td>1437.9809094566585</td><td>1437.9809094566585</td><td>90.90567230202475</td><td>90.90567230202475</td><td>50.202377</td><td>50.202377</td><td>6909.0044</td><td>6909.0044</td><td>6561</td><td>6561</td><td>False</td><td>False</td><td>False</td><td>False</td><td>False</td><td>False</td><td>1.0</td><td>False</td><td>1068</td></tr>\n",
       "<tr><td>4</td><td>nan</td><td>nan</td><td>0</td><td>False</td><td>False</td><td>False</td><td>2728.1719742075397</td><td>2728.1719742075397</td><td>251.3884033993606</td><td>251.3884033993606</td><td>0.77003896</td><td>0.77003896</td><td>0.8076167</td><td>0.8076167</td><td>False</td><td>False</td><td>False</td><td>False</td><td>False</td><td>False</td><td>False</td><td>False</td><td>False</td><td>False</td><td>False</td><td>False</td><td>False</td><td>False</td><td>False</td><td>False</td><td>False</td><td>False</td><td>False</td><td>False</td><td>False</td><td>False</td><td>False</td><td>False</td><td>False</td><td>False</td><td>False</td><td>False</td><td>False</td><td>False</td><td>False</td><td>False</td><td>False</td><td>False</td><td>False</td><td>False</td><td>False</td><td>False</td><td>False</td><td>False</td><td>False</td><td>False</td><td>6.401719742075397</td><td>-17.546115966006393</td><td>False</td><td>False</td><td>0.22893806794022886</td><td>False</td><td>nan</td><td>nan</td><td>nan</td><td>nan</td><td>nan</td><td>nan</td><td>nan</td><td>nan</td><td>nan</td><td>nan</td><td>True</td><td>True</td><td>True</td><td>False</td><td>False</td><td>False</td><td>False</td><td>False</td><td>False</td><td>False</td><td>False</td><td>False</td><td>True</td><td>True</td><td>True</td><td>False</td><td>False</td><td>False</td><td>2262.52099609375</td><td>77.06498718261719</td><td>False</td><td>False</td><td>False</td><td>4650.318359375</td><td>114.45897674560547</td><td>False</td><td>False</td><td>False</td><td>7833.66015625</td><td>152.3088836669922</td><td>False</td><td>False</td><td>False</td><td>15096.9462890625</td><td>225.0699005126953</td><td>False</td><td>False</td><td>False</td><td>21668.328125</td><td>21668.328125</td><td>21668.328125</td><td>293.008544921875</td><td>293.008544921875</td><td>293.008544921875</td><td>False</td><td>False</td><td>False</td><td>False</td><td>False</td><td>False</td><td>False</td><td>False</td><td>False</td><td>29508.519208312035</td><td>402.95215390816986</td><td>False</td><td>False</td><td>38263.595048606396</td><td>572.0975311266033</td><td>False</td><td>False</td><td>56157.43320339918</td><td>790.6412371147966</td><td>False</td><td>False</td><td>72310.04570013285</td><td>1112.4813256537313</td><td>False</td><td>False</td><td>79933.15531179309</td><td>1539.880764192175</td><td>False</td><td>False</td><td>nan</td><td>nan</td><td>nan</td><td>nan</td><td>nan</td><td>nan</td><td>True</td><td>True</td><td>True</td><td>False</td><td>False</td><td>False</td><td>False</td><td>False</td><td>False</td><td>False</td><td>False</td><td>False</td><td>False</td><td>False</td><td>False</td><td>3760.4152655056723</td><td>3760.4152655056723</td><td>104.99887515114335</td><td>104.99887515114335</td><td>50.195747</td><td>50.195747</td><td>17178.203</td><td>17178.203</td><td>6561</td><td>6561</td><td>False</td><td>False</td><td>False</td><td>False</td><td>False</td><td>False</td><td>nan</td><td>True</td><td>3796</td></tr>\n",
       "<tr><td>5</td><td>nan</td><td>nan</td><td>0</td><td>False</td><td>False</td><td>False</td><td>396.8946788198121</td><td>396.8946788198121</td><td>284.45963786765907</td><td>284.45963786765907</td><td>0.019104647</td><td>0.019104647</td><td>0.017752701</td><td>0.017752701</td><td>False</td><td>False</td><td>False</td><td>False</td><td>False</td><td>False</td><td>False</td><td>False</td><td>False</td><td>False</td><td>False</td><td>False</td><td>False</td><td>False</td><td>False</td><td>False</td><td>False</td><td>False</td><td>False</td><td>False</td><td>False</td><td>False</td><td>False</td><td>False</td><td>False</td><td>False</td><td>False</td><td>False</td><td>False</td><td>False</td><td>False</td><td>False</td><td>False</td><td>False</td><td>False</td><td>False</td><td>False</td><td>False</td><td>False</td><td>False</td><td>False</td><td>False</td><td>-16.91105321180188</td><td>-17.215403621323407</td><td>False</td><td>False</td><td>0.22893789514901397</td><td>False</td><td>nan</td><td>nan</td><td>nan</td><td>nan</td><td>nan</td><td>nan</td><td>nan</td><td>nan</td><td>nan</td><td>nan</td><td>True</td><td>True</td><td>True</td><td>False</td><td>False</td><td>False</td><td>False</td><td>False</td><td>False</td><td>False</td><td>False</td><td>False</td><td>True</td><td>True</td><td>True</td><td>False</td><td>False</td><td>False</td><td>10235.91796875</td><td>112.49749755859375</td><td>False</td><td>False</td><td>False</td><td>10254.6572265625</td><td>129.1818084716797</td><td>False</td><td>False</td><td>False</td><td>10392.4150390625</td><td>150.70985412597656</td><td>False</td><td>False</td><td>False</td><td>10701.0439453125</td><td>199.979248046875</td><td>False</td><td>False</td><td>False</td><td>11120.962890625</td><td>11120.962890625</td><td>11120.962890625</td><td>253.08717346191406</td><td>253.08717346191406</td><td>253.08717346191406</td><td>False</td><td>False</td><td>False</td><td>False</td><td>False</td><td>False</td><td>False</td><td>False</td><td>False</td><td>12065.965423285961</td><td>348.0774176523154</td><td>False</td><td>False</td><td>16055.869564175606</td><td>502.3010551588887</td><td>False</td><td>False</td><td>19681.06434684992</td><td>696.1837921167124</td><td>False</td><td>False</td><td>27406.74438649416</td><td>988.8791745806211</td><td>False</td><td>False</td><td>41969.67662590742</td><td>1380.679190924397</td><td>False</td><td>False</td><td>nan</td><td>nan</td><td>nan</td><td>nan</td><td>nan</td><td>nan</td><td>True</td><td>True</td><td>True</td><td>False</td><td>False</td><td>False</td><td>False</td><td>False</td><td>False</td><td>False</td><td>False</td><td>False</td><td>False</td><td>False</td><td>False</td><td>18584.77873798351</td><td>18584.77873798351</td><td>192.2421682384587</td><td>192.2421682384587</td><td>50.200764</td><td>50.200764</td><td>38452.34</td><td>38452.34</td><td>6561</td><td>6561</td><td>False</td><td>False</td><td>False</td><td>False</td><td>False</td><td>False</td><td>nan</td><td>True</td><td>647</td></tr>\n",
       "<tr><td>6</td><td>nan</td><td>nan</td><td>0</td><td>False</td><td>False</td><td>False</td><td>1225.0</td><td>1225.0</td><td>181.0</td><td>181.0</td><td>nan</td><td>nan</td><td>nan</td><td>nan</td><td>True</td><td>True</td><td>True</td><td>True</td><td>True</td><td>True</td><td>True</td><td>True</td><td>True</td><td>True</td><td>True</td><td>True</td><td>False</td><td>False</td><td>False</td><td>False</td><td>False</td><td>False</td><td>False</td><td>False</td><td>False</td><td>False</td><td>False</td><td>False</td><td>False</td><td>False</td><td>False</td><td>False</td><td>False</td><td>False</td><td>False</td><td>False</td><td>False</td><td>False</td><td>False</td><td>False</td><td>False</td><td>False</td><td>False</td><td>False</td><td>False</td><td>False</td><td>-8.630000000000003</td><td>-18.25</td><td>False</td><td>False</td><td>0.2289380244957898</td><td>False</td><td>nan</td><td>nan</td><td>nan</td><td>nan</td><td>nan</td><td>nan</td><td>nan</td><td>nan</td><td>nan</td><td>nan</td><td>True</td><td>True</td><td>True</td><td>False</td><td>False</td><td>False</td><td>False</td><td>False</td><td>False</td><td>False</td><td>False</td><td>False</td><td>True</td><td>True</td><td>True</td><td>False</td><td>False</td><td>False</td><td>1258.4677734375</td><td>68.90061950683594</td><td>True</td><td>False</td><td>False</td><td>2739.01611328125</td><td>104.04280853271484</td><td>True</td><td>False</td><td>False</td><td>4474.56005859375</td><td>138.31564331054688</td><td>True</td><td>False</td><td>False</td><td>7847.02490234375</td><td>203.69297790527344</td><td>True</td><td>False</td><td>False</td><td>10992.28515625</td><td>10992.28515625</td><td>10992.28515625</td><td>267.3277282714844</td><td>267.3277282714844</td><td>267.3277282714844</td><td>True</td><td>True</td><td>True</td><td>False</td><td>False</td><td>False</td><td>False</td><td>False</td><td>False</td><td>15577.239647388458</td><td>372.1970294389042</td><td>True</td><td>False</td><td>23620.024251937866</td><td>540.4168714740084</td><td>True</td><td>False</td><td>34462.675852775574</td><td>750.2242998744244</td><td>True</td><td>False</td><td>49532.02670669556</td><td>1061.5983026368774</td><td>True</td><td>False</td><td>73278.41408777237</td><td>1478.6945008311657</td><td>True</td><td>False</td><td>nan</td><td>nan</td><td>nan</td><td>nan</td><td>nan</td><td>nan</td><td>True</td><td>True</td><td>True</td><td>False</td><td>False</td><td>False</td><td>False</td><td>False</td><td>False</td><td>False</td><td>False</td><td>False</td><td>False</td><td>False</td><td>False</td><td>2240.6160510087207</td><td>2240.6160510087207</td><td>95.56514342278834</td><td>95.56514342278834</td><td>50.273167</td><td>50.273167</td><td>13368.3125</td><td>13368.3125</td><td>6561</td><td>6561</td><td>True</td><td>True</td><td>False</td><td>False</td><td>False</td><td>False</td><td>nan</td><td>True</td><td>11723</td></tr>\n",
       "<tr><td>7</td><td>nan</td><td>nan</td><td>0</td><td>False</td><td>False</td><td>False</td><td>2543.0</td><td>2543.0</td><td>322.0</td><td>322.0</td><td>nan</td><td>nan</td><td>nan</td><td>nan</td><td>True</td><td>True</td><td>True</td><td>True</td><td>True</td><td>True</td><td>True</td><td>True</td><td>True</td><td>True</td><td>True</td><td>True</td><td>False</td><td>False</td><td>False</td><td>False</td><td>False</td><td>False</td><td>False</td><td>False</td><td>False</td><td>False</td><td>False</td><td>False</td><td>False</td><td>False</td><td>False</td><td>False</td><td>False</td><td>False</td><td>False</td><td>False</td><td>False</td><td>False</td><td>False</td><td>False</td><td>False</td><td>False</td><td>False</td><td>False</td><td>False</td><td>False</td><td>4.549999999999997</td><td>-16.84</td><td>False</td><td>False</td><td>0.228938100765806</td><td>False</td><td>2543.512037480836</td><td>2543.512037480836</td><td>310.9125208252896</td><td>310.9125208252896</td><td>184.33490406235626</td><td>184.33490406235626</td><td>181.86120603293406</td><td>181.86120603293406</td><td>-18.228268331593288</td><td>-18.228268331593288</td><td>True</td><td>True</td><td>True</td><td>False</td><td>False</td><td>False</td><td>False</td><td>False</td><td>False</td><td>False</td><td>False</td><td>False</td><td>False</td><td>False</td><td>False</td><td>False</td><td>False</td><td>False</td><td>8448.78125</td><td>105.31240844726562</td><td>True</td><td>False</td><td>False</td><td>18301.4609375</td><td>157.78457641601562</td><td>True</td><td>False</td><td>False</td><td>30779.775390625</td><td>207.76223754882812</td><td>True</td><td>False</td><td>False</td><td>60801.58203125</td><td>301.2147521972656</td><td>True</td><td>False</td><td>False</td><td>93883.7734375</td><td>93883.7734375</td><td>93883.7734375</td><td>386.4242858886719</td><td>386.4242858886719</td><td>386.4242858886719</td><td>True</td><td>True</td><td>True</td><td>False</td><td>False</td><td>False</td><td>False</td><td>False</td><td>False</td><td>152938.68357896805</td><td>519.9104646040835</td><td>True</td><td>False</td><td>259202.60465049744</td><td>721.889491418482</td><td>True</td><td>False</td><td>324112.57401561737</td><td>924.5846059241755</td><td>True</td><td>False</td><td>338172.18293368816</td><td>1202.9228819484485</td><td>True</td><td>False</td><td>327866.9059494734</td><td>1590.7271609851266</td><td>True</td><td>False</td><td>305051.22119440034</td><td>305051.22119440034</td><td>305051.22119440034</td><td>973.1560518598596</td><td>973.1560518598596</td><td>973.1560518598596</td><td>False</td><td>False</td><td>False</td><td>False</td><td>False</td><td>False</td><td>False</td><td>False</td><td>False</td><td>False</td><td>False</td><td>False</td><td>False</td><td>False</td><td>False</td><td>14679.198764839894</td><td>14679.198764839894</td><td>144.7991453101127</td><td>144.7991453101127</td><td>50.273167</td><td>50.273167</td><td>175569.56</td><td>175569.56</td><td>6561</td><td>6561</td><td>True</td><td>True</td><td>False</td><td>False</td><td>False</td><td>False</td><td>nan</td><td>True</td><td>4294</td></tr>\n",
       "<tr><td>8</td><td>nan</td><td>nan</td><td>0</td><td>False</td><td>False</td><td>False</td><td>4048.0</td><td>4048.0</td><td>330.0</td><td>330.0</td><td>nan</td><td>nan</td><td>nan</td><td>nan</td><td>True</td><td>True</td><td>True</td><td>True</td><td>True</td><td>True</td><td>True</td><td>True</td><td>True</td><td>True</td><td>True</td><td>True</td><td>False</td><td>False</td><td>False</td><td>False</td><td>False</td><td>False</td><td>False</td><td>False</td><td>False</td><td>False</td><td>False</td><td>False</td><td>False</td><td>False</td><td>False</td><td>False</td><td>False</td><td>False</td><td>False</td><td>False</td><td>False</td><td>False</td><td>False</td><td>False</td><td>False</td><td>False</td><td>False</td><td>False</td><td>False</td><td>False</td><td>19.6</td><td>-16.759999999999998</td><td>False</td><td>False</td><td>0.2289378340863854</td><td>False</td><td>nan</td><td>nan</td><td>nan</td><td>nan</td><td>nan</td><td>nan</td><td>nan</td><td>nan</td><td>nan</td><td>nan</td><td>True</td><td>True</td><td>True</td><td>False</td><td>False</td><td>False</td><td>False</td><td>False</td><td>False</td><td>False</td><td>False</td><td>False</td><td>True</td><td>True</td><td>True</td><td>False</td><td>False</td><td>False</td><td>3757.209716796875</td><td>73.69865417480469</td><td>True</td><td>False</td><td>False</td><td>8113.658203125</td><td>110.14411926269531</td><td>True</td><td>False</td><td>False</td><td>13721.4853515625</td><td>145.6246795654297</td><td>True</td><td>False</td><td>False</td><td>27809.310546875</td><td>213.40377807617188</td><td>True</td><td>False</td><td>True</td><td>44020.86328125</td><td>44020.86328125</td><td>44020.86328125</td><td>276.557373046875</td><td>276.557373046875</td><td>276.557373046875</td><td>True</td><td>True</td><td>True</td><td>False</td><td>False</td><td>False</td><td>True</td><td>True</td><td>True</td><td>73092.63494586945</td><td>375.72303946314344</td><td>True</td><td>False</td><td>nan</td><td>nan</td><td>True</td><td>True</td><td>nan</td><td>nan</td><td>True</td><td>True</td><td>nan</td><td>nan</td><td>True</td><td>True</td><td>nan</td><td>nan</td><td>True</td><td>True</td><td>nan</td><td>nan</td><td>nan</td><td>nan</td><td>nan</td><td>nan</td><td>True</td><td>True</td><td>True</td><td>False</td><td>False</td><td>True</td><td>False</td><td>False</td><td>False</td><td>False</td><td>False</td><td>False</td><td>False</td><td>False</td><td>False</td><td>6556.669693339152</td><td>6556.669693339152</td><td>101.7264479136781</td><td>101.7264479136781</td><td>50.273167</td><td>50.273167</td><td>105318.375</td><td>105318.375</td><td>5184</td><td>5184</td><td>True</td><td>True</td><td>False</td><td>False</td><td>True</td><td>True</td><td>nan</td><td>True</td><td>33589</td></tr>\n",
       "<tr><td>9</td><td>nan</td><td>nan</td><td>0</td><td>False</td><td>False</td><td>False</td><td>606.7746066649282</td><td>606.7746066649282</td><td>314.10729037844703</td><td>314.10729037844703</td><td>nan</td><td>nan</td><td>nan</td><td>nan</td><td>True</td><td>True</td><td>True</td><td>True</td><td>True</td><td>True</td><td>False</td><td>False</td><td>False</td><td>False</td><td>False</td><td>False</td><td>False</td><td>False</td><td>False</td><td>False</td><td>False</td><td>False</td><td>False</td><td>False</td><td>False</td><td>False</td><td>False</td><td>False</td><td>True</td><td>True</td><td>True</td><td>True</td><td>True</td><td>True</td><td>False</td><td>False</td><td>False</td><td>False</td><td>False</td><td>False</td><td>False</td><td>False</td><td>False</td><td>False</td><td>False</td><td>False</td><td>-14.812253933350721</td><td>-16.91892709621553</td><td>False</td><td>False</td><td>0.22893795229459174</td><td>False</td><td>599.632424711413</td><td>599.632424711413</td><td>312.9342293000153</td><td>312.9342293000153</td><td>7.027067247109932</td><td>7.027067247109932</td><td>57.156466313474</td><td>57.156466313474</td><td>2.8375242481440632</td><td>2.8375242481440632</td><td>True</td><td>True</td><td>True</td><td>False</td><td>False</td><td>False</td><td>False</td><td>False</td><td>False</td><td>False</td><td>False</td><td>False</td><td>False</td><td>False</td><td>False</td><td>False</td><td>False</td><td>False</td><td>1454.948486328125</td><td>70.5108413696289</td><td>True</td><td>False</td><td>False</td><td>3202.49462890625</td><td>106.0139389038086</td><td>True</td><td>False</td><td>False</td><td>5527.0</td><td>141.75454711914062</td><td>True</td><td>False</td><td>False</td><td>10493.6875</td><td>209.6699676513672</td><td>True</td><td>False</td><td>False</td><td>15779.541015625</td><td>15779.541015625</td><td>15779.541015625</td><td>275.60321044921875</td><td>275.60321044921875</td><td>275.60321044921875</td><td>True</td><td>True</td><td>True</td><td>False</td><td>False</td><td>False</td><td>False</td><td>False</td><td>False</td><td>21249.943617016077</td><td>380.96350657788236</td><td>True</td><td>False</td><td>24749.528929224238</td><td>542.9531359673232</td><td>True</td><td>False</td><td>25580.97536318563</td><td>745.7174246793472</td><td>True</td><td>False</td><td>25545.152336059138</td><td>1053.8726058858563</td><td>True</td><td>False</td><td>27198.480577385053</td><td>1468.1491363113357</td><td>True</td><td>False</td><td>9160.0758517395</td><td>9160.0758517395</td><td>9160.0758517395</td><td>213.57053299468808</td><td>213.57053299468808</td><td>213.57053299468808</td><td>False</td><td>False</td><td>False</td><td>False</td><td>False</td><td>False</td><td>True</td><td>False</td><td>False</td><td>True</td><td>False</td><td>True</td><td>False</td><td>False</td><td>False</td><td>2484.9588656166566</td><td>2484.9588656166566</td><td>95.91430576021523</td><td>95.91430576021523</td><td>50.235275</td><td>50.235275</td><td>8957.949</td><td>8957.949</td><td>6561</td><td>6561</td><td>True</td><td>True</td><td>False</td><td>False</td><td>False</td><td>False</td><td>nan</td><td>True</td><td>1512</td></tr>\n",
       "<tr><td>...</td><td>...</td><td>...</td><td>...</td><td>...</td><td>...</td><td>...</td><td>...</td><td>...</td><td>...</td><td>...</td><td>...</td><td>...</td><td>...</td><td>...</td><td>...</td><td>...</td><td>...</td><td>...</td><td>...</td><td>...</td><td>...</td><td>...</td><td>...</td><td>...</td><td>...</td><td>...</td><td>...</td><td>...</td><td>...</td><td>...</td><td>...</td><td>...</td><td>...</td><td>...</td><td>...</td><td>...</td><td>...</td><td>...</td><td>...</td><td>...</td><td>...</td><td>...</td><td>...</td><td>...</td><td>...</td><td>...</td><td>...</td><td>...</td><td>...</td><td>...</td><td>...</td><td>...</td><td>...</td><td>...</td><td>...</td><td>...</td><td>...</td><td>...</td><td>...</td><td>...</td><td>...</td><td>...</td><td>...</td><td>...</td><td>...</td><td>...</td><td>...</td><td>...</td><td>...</td><td>...</td><td>...</td><td>...</td><td>...</td><td>...</td><td>...</td><td>...</td><td>...</td><td>...</td><td>...</td><td>...</td><td>...</td><td>...</td><td>...</td><td>...</td><td>...</td><td>...</td><td>...</td><td>...</td><td>...</td><td>...</td><td>...</td><td>...</td><td>...</td><td>...</td><td>...</td><td>...</td><td>...</td><td>...</td><td>...</td><td>...</td><td>...</td><td>...</td><td>...</td><td>...</td><td>...</td><td>...</td><td>...</td><td>...</td><td>...</td><td>...</td><td>...</td><td>...</td><td>...</td><td>...</td><td>...</td><td>...</td><td>...</td><td>...</td><td>...</td><td>...</td><td>...</td><td>...</td><td>...</td><td>...</td><td>...</td><td>...</td><td>...</td><td>...</td><td>...</td><td>...</td><td>...</td><td>...</td><td>...</td><td>...</td><td>...</td><td>...</td><td>...</td><td>...</td><td>...</td><td>...</td><td>...</td><td>...</td><td>...</td><td>...</td><td>...</td><td>...</td><td>...</td><td>...</td><td>...</td><td>...</td><td>...</td><td>...</td><td>...</td><td>...</td><td>...</td><td>...</td><td>...</td><td>...</td><td>...</td><td>...</td><td>...</td><td>...</td><td>...</td><td>...</td><td>...</td><td>...</td><td>...</td><td>...</td><td>...</td><td>...</td><td>...</td><td>...</td><td>...</td><td>...</td><td>...</td><td>...</td><td>...</td><td>...</td><td>...</td><td>...</td><td>...</td><td>...</td><td>...</td><td>...</td><td>...</td></tr>\n",
       "<tr><td>111</td><td>nan</td><td>nan</td><td>0</td><td>False</td><td>False</td><td>False</td><td>773.0020513448541</td><td>773.0020513448541</td><td>3758.9997963906585</td><td>3758.9997963906585</td><td>0.011215736</td><td>0.011215736</td><td>0.011210799</td><td>0.011210799</td><td>False</td><td>False</td><td>False</td><td>False</td><td>False</td><td>False</td><td>False</td><td>False</td><td>False</td><td>False</td><td>False</td><td>False</td><td>False</td><td>False</td><td>False</td><td>False</td><td>False</td><td>False</td><td>False</td><td>False</td><td>False</td><td>False</td><td>False</td><td>False</td><td>False</td><td>False</td><td>False</td><td>False</td><td>False</td><td>False</td><td>False</td><td>False</td><td>False</td><td>False</td><td>False</td><td>False</td><td>False</td><td>False</td><td>False</td><td>False</td><td>False</td><td>False</td><td>-13.149979486551462</td><td>17.529997963906585</td><td>False</td><td>False</td><td>0.2289379706997631</td><td>False</td><td>nan</td><td>nan</td><td>nan</td><td>nan</td><td>nan</td><td>nan</td><td>nan</td><td>nan</td><td>nan</td><td>nan</td><td>True</td><td>True</td><td>True</td><td>False</td><td>False</td><td>False</td><td>False</td><td>False</td><td>False</td><td>False</td><td>False</td><td>False</td><td>True</td><td>True</td><td>True</td><td>False</td><td>False</td><td>False</td><td>24228.912109375</td><td>170.07911682128906</td><td>False</td><td>False</td><td>False</td><td>20934.126953125</td><td>158.89515686035156</td><td>False</td><td>False</td><td>False</td><td>19453.744140625</td><td>164.02426147460938</td><td>False</td><td>False</td><td>False</td><td>21785.849609375</td><td>209.26866149902344</td><td>False</td><td>False</td><td>False</td><td>19779.6953125</td><td>19779.6953125</td><td>19779.6953125</td><td>240.11326599121094</td><td>240.11326599121094</td><td>240.11326599121094</td><td>False</td><td>False</td><td>False</td><td>False</td><td>False</td><td>False</td><td>False</td><td>False</td><td>False</td><td>20390.212962716818</td><td>314.3302462444094</td><td>False</td><td>False</td><td>19315.050724625587</td><td>437.4732074926015</td><td>False</td><td>False</td><td>17871.286865085363</td><td>598.4052476252502</td><td>False</td><td>False</td><td>14419.184896022081</td><td>841.6793709227343</td><td>False</td><td>False</td><td>8497.636262193322</td><td>1170.8871456431386</td><td>False</td><td>False</td><td>nan</td><td>nan</td><td>nan</td><td>nan</td><td>nan</td><td>nan</td><td>True</td><td>True</td><td>True</td><td>False</td><td>False</td><td>False</td><td>False</td><td>False</td><td>False</td><td>False</td><td>False</td><td>False</td><td>False</td><td>False</td><td>False</td><td>42265.920764988165</td><td>42265.920764988165</td><td>291.9753166665982</td><td>291.9753166665982</td><td>50.273163</td><td>50.273163</td><td>406462.25</td><td>406462.25</td><td>6561</td><td>6561</td><td>False</td><td>False</td><td>False</td><td>False</td><td>False</td><td>False</td><td>nan</td><td>True</td><td>383</td></tr>\n",
       "<tr><td>112</td><td>nan</td><td>nan</td><td>0</td><td>False</td><td>False</td><td>False</td><td>399.93892322835734</td><td>399.93892322835734</td><td>3782.5478671370824</td><td>3782.5478671370824</td><td>0.103979126</td><td>0.103979126</td><td>0.0982898</td><td>0.0982898</td><td>False</td><td>False</td><td>False</td><td>False</td><td>False</td><td>False</td><td>False</td><td>False</td><td>False</td><td>False</td><td>False</td><td>False</td><td>False</td><td>False</td><td>False</td><td>False</td><td>False</td><td>False</td><td>False</td><td>False</td><td>False</td><td>False</td><td>False</td><td>False</td><td>False</td><td>False</td><td>False</td><td>False</td><td>False</td><td>False</td><td>False</td><td>False</td><td>False</td><td>False</td><td>False</td><td>False</td><td>False</td><td>False</td><td>False</td><td>False</td><td>False</td><td>False</td><td>-16.88061076771643</td><td>17.765478671370825</td><td>False</td><td>False</td><td>0.228937881860458</td><td>False</td><td>nan</td><td>nan</td><td>nan</td><td>nan</td><td>nan</td><td>nan</td><td>nan</td><td>nan</td><td>nan</td><td>nan</td><td>True</td><td>True</td><td>True</td><td>False</td><td>False</td><td>False</td><td>False</td><td>False</td><td>False</td><td>False</td><td>False</td><td>False</td><td>True</td><td>True</td><td>True</td><td>False</td><td>False</td><td>False</td><td>787.1237182617188</td><td>55.27701187133789</td><td>False</td><td>False</td><td>False</td><td>726.6752319335938</td><td>76.15813446044922</td><td>False</td><td>False</td><td>False</td><td>678.8310546875</td><td>99.18788146972656</td><td>False</td><td>False</td><td>False</td><td>702.2706909179688</td><td>147.25601196289062</td><td>False</td><td>False</td><td>False</td><td>528.2051391601562</td><td>528.2051391601562</td><td>528.2051391601562</td><td>195.0853271484375</td><td>195.0853271484375</td><td>195.0853271484375</td><td>False</td><td>False</td><td>False</td><td>False</td><td>False</td><td>False</td><td>False</td><td>False</td><td>False</td><td>327.55338859558105</td><td>277.541678465636</td><td>False</td><td>False</td><td>-28.102387733757496</td><td>406.72076306718697</td><td>False</td><td>False</td><td>-926.6133275255561</td><td>568.9742532613656</td><td>False</td><td>False</td><td>-2079.084664221853</td><td>813.2567146063944</td><td>False</td><td>False</td><td>-3422.7166129015386</td><td>1138.870232016194</td><td>False</td><td>False</td><td>nan</td><td>nan</td><td>nan</td><td>nan</td><td>nan</td><td>nan</td><td>True</td><td>True</td><td>True</td><td>False</td><td>False</td><td>False</td><td>False</td><td>False</td><td>False</td><td>False</td><td>False</td><td>False</td><td>False</td><td>False</td><td>False</td><td>1428.442515993617</td><td>1428.442515993617</td><td>82.50159741259883</td><td>82.50159741259883</td><td>50.20627</td><td>50.20627</td><td>7736.704</td><td>7736.704</td><td>6561</td><td>6561</td><td>False</td><td>False</td><td>False</td><td>False</td><td>False</td><td>False</td><td>nan</td><td>True</td><td>209</td></tr>\n",
       "<tr><td>113</td><td>nan</td><td>nan</td><td>0</td><td>False</td><td>False</td><td>False</td><td>2264.880280203782</td><td>2264.880280203782</td><td>3804.3545061607515</td><td>3804.3545061607515</td><td>0.004641767</td><td>0.004641767</td><td>0.004523887</td><td>0.004523887</td><td>False</td><td>False</td><td>False</td><td>False</td><td>False</td><td>False</td><td>False</td><td>False</td><td>False</td><td>False</td><td>False</td><td>False</td><td>False</td><td>False</td><td>False</td><td>False</td><td>False</td><td>False</td><td>False</td><td>False</td><td>False</td><td>False</td><td>False</td><td>False</td><td>False</td><td>False</td><td>False</td><td>False</td><td>False</td><td>False</td><td>False</td><td>False</td><td>False</td><td>False</td><td>False</td><td>False</td><td>False</td><td>False</td><td>False</td><td>False</td><td>False</td><td>False</td><td>1.7688028020378184</td><td>17.98354506160752</td><td>False</td><td>False</td><td>0.22893808412669656</td><td>False</td><td>nan</td><td>nan</td><td>nan</td><td>nan</td><td>nan</td><td>nan</td><td>nan</td><td>nan</td><td>nan</td><td>nan</td><td>True</td><td>True</td><td>True</td><td>False</td><td>False</td><td>False</td><td>False</td><td>False</td><td>False</td><td>False</td><td>False</td><td>False</td><td>True</td><td>True</td><td>True</td><td>False</td><td>False</td><td>False</td><td>132333.03125</td><td>363.260009765625</td><td>False</td><td>False</td><td>False</td><td>126477.1171875</td><td>351.08770751953125</td><td>False</td><td>False</td><td>False</td><td>124778.7265625</td><td>352.9140319824219</td><td>False</td><td>False</td><td>False</td><td>128861.1953125</td><td>380.2115478515625</td><td>False</td><td>False</td><td>False</td><td>125257.7578125</td><td>125257.7578125</td><td>125257.7578125</td><td>393.92120361328125</td><td>393.92120361328125</td><td>393.92120361328125</td><td>False</td><td>False</td><td>False</td><td>False</td><td>False</td><td>False</td><td>False</td><td>False</td><td>False</td><td>125845.47503995895</td><td>444.40840282204425</td><td>False</td><td>False</td><td>124091.01383709908</td><td>536.525943487902</td><td>False</td><td>False</td><td>120169.7870862484</td><td>669.6406386348923</td><td>False</td><td>False</td><td>111239.88714313507</td><td>888.560316991261</td><td>False</td><td>False</td><td>96934.84476518631</td><td>1197.792627850386</td><td>False</td><td>False</td><td>nan</td><td>nan</td><td>nan</td><td>nan</td><td>nan</td><td>nan</td><td>True</td><td>True</td><td>True</td><td>False</td><td>False</td><td>False</td><td>False</td><td>False</td><td>False</td><td>False</td><td>False</td><td>False</td><td>False</td><td>False</td><td>False</td><td>241281.49042698406</td><td>241281.49042698406</td><td>659.1373878179779</td><td>659.1373878179779</td><td>50.209408</td><td>50.209408</td><td>6761321.0</td><td>6761321.0</td><td>6561</td><td>6561</td><td>False</td><td>False</td><td>False</td><td>False</td><td>False</td><td>False</td><td>nan</td><td>True</td><td>455</td></tr>\n",
       "<tr><td>114</td><td>nan</td><td>nan</td><td>0</td><td>False</td><td>False</td><td>False</td><td>252.99097829227313</td><td>252.99097829227313</td><td>3807.214517274394</td><td>3807.214517274394</td><td>0.056037705</td><td>0.056037705</td><td>0.05826523</td><td>0.05826523</td><td>False</td><td>False</td><td>False</td><td>False</td><td>False</td><td>False</td><td>False</td><td>False</td><td>False</td><td>False</td><td>False</td><td>False</td><td>False</td><td>False</td><td>False</td><td>False</td><td>False</td><td>False</td><td>False</td><td>False</td><td>False</td><td>False</td><td>False</td><td>False</td><td>False</td><td>False</td><td>False</td><td>False</td><td>False</td><td>False</td><td>False</td><td>False</td><td>False</td><td>False</td><td>False</td><td>False</td><td>False</td><td>False</td><td>False</td><td>False</td><td>False</td><td>False</td><td>-18.35009021707727</td><td>18.01214517274394</td><td>False</td><td>False</td><td>0.22893783688377295</td><td>False</td><td>nan</td><td>nan</td><td>nan</td><td>nan</td><td>nan</td><td>nan</td><td>nan</td><td>nan</td><td>nan</td><td>nan</td><td>True</td><td>True</td><td>True</td><td>False</td><td>False</td><td>False</td><td>False</td><td>False</td><td>False</td><td>False</td><td>False</td><td>False</td><td>True</td><td>True</td><td>True</td><td>False</td><td>False</td><td>False</td><td>1689.5440673828125</td><td>62.984169006347656</td><td>False</td><td>False</td><td>False</td><td>1501.4205322265625</td><td>80.34974670410156</td><td>False</td><td>False</td><td>False</td><td>1421.10791015625</td><td>101.90496063232422</td><td>False</td><td>False</td><td>False</td><td>1666.3905029296875</td><td>149.63763427734375</td><td>False</td><td>False</td><td>False</td><td>1450.3837890625</td><td>1450.3837890625</td><td>1450.3837890625</td><td>196.0642852783203</td><td>196.0642852783203</td><td>196.0642852783203</td><td>False</td><td>False</td><td>False</td><td>False</td><td>False</td><td>False</td><td>False</td><td>False</td><td>False</td><td>1460.3378093242645</td><td>276.88933422450134</td><td>False</td><td>False</td><td>1179.839536011219</td><td>405.990943093591</td><td>False</td><td>False</td><td>575.1281870603561</td><td>566.8133247546994</td><td>False</td><td>False</td><td>-1492.8790619075298</td><td>808.1807011926119</td><td>False</td><td>False</td><td>-3339.709951490164</td><td>1131.6043026597931</td><td>False</td><td>False</td><td>nan</td><td>nan</td><td>nan</td><td>nan</td><td>nan</td><td>nan</td><td>True</td><td>True</td><td>True</td><td>False</td><td>False</td><td>False</td><td>False</td><td>False</td><td>False</td><td>False</td><td>False</td><td>False</td><td>False</td><td>False</td><td>False</td><td>2971.200403378648</td><td>2971.200403378648</td><td>97.86750133274616</td><td>97.86750133274616</td><td>50.24565</td><td>50.24565</td><td>9903.337</td><td>9903.337</td><td>6561</td><td>6561</td><td>False</td><td>False</td><td>False</td><td>False</td><td>False</td><td>False</td><td>nan</td><td>True</td><td>253</td></tr>\n",
       "<tr><td>115</td><td>nan</td><td>nan</td><td>0</td><td>False</td><td>False</td><td>False</td><td>2061.977852120853</td><td>2061.977852120853</td><td>3928.9777765212084</td><td>3928.9777765212084</td><td>0.006511665</td><td>0.006511665</td><td>0.0065192906</td><td>0.0065192906</td><td>False</td><td>False</td><td>False</td><td>False</td><td>False</td><td>False</td><td>False</td><td>False</td><td>False</td><td>False</td><td>False</td><td>False</td><td>False</td><td>False</td><td>False</td><td>False</td><td>False</td><td>False</td><td>False</td><td>False</td><td>False</td><td>False</td><td>False</td><td>False</td><td>False</td><td>False</td><td>False</td><td>False</td><td>False</td><td>False</td><td>False</td><td>False</td><td>False</td><td>False</td><td>False</td><td>False</td><td>False</td><td>False</td><td>False</td><td>False</td><td>False</td><td>False</td><td>-0.26022147879147184</td><td>19.229777765212088</td><td>False</td><td>False</td><td>0.22893805204222265</td><td>False</td><td>nan</td><td>nan</td><td>nan</td><td>nan</td><td>nan</td><td>nan</td><td>nan</td><td>nan</td><td>nan</td><td>nan</td><td>True</td><td>True</td><td>True</td><td>False</td><td>False</td><td>False</td><td>False</td><td>False</td><td>False</td><td>False</td><td>False</td><td>False</td><td>True</td><td>True</td><td>True</td><td>False</td><td>False</td><td>False</td><td>67960.9609375</td><td>273.9893493652344</td><td>False</td><td>False</td><td>False</td><td>59129.3515625</td><td>245.68246459960938</td><td>False</td><td>False</td><td>False</td><td>55372.7265625</td><td>240.3787078857422</td><td>False</td><td>False</td><td>False</td><td>61846.5546875</td><td>286.3714904785156</td><td>False</td><td>False</td><td>False</td><td>57170.4609375</td><td>57170.4609375</td><td>57170.4609375</td><td>300.41082763671875</td><td>300.41082763671875</td><td>300.41082763671875</td><td>False</td><td>False</td><td>False</td><td>False</td><td>False</td><td>False</td><td>False</td><td>False</td><td>False</td><td>58795.27003574371</td><td>364.24768030583914</td><td>False</td><td>False</td><td>57756.08309960365</td><td>472.48126897671193</td><td>False</td><td>False</td><td>57022.637642383575</td><td>622.201407055933</td><td>False</td><td>False</td><td>55432.71958518028</td><td>857.0329931088771</td><td>False</td><td>False</td><td>49492.033514499664</td><td>1178.7696490513954</td><td>False</td><td>False</td><td>nan</td><td>nan</td><td>nan</td><td>nan</td><td>nan</td><td>nan</td><td>True</td><td>True</td><td>True</td><td>False</td><td>False</td><td>False</td><td>False</td><td>False</td><td>False</td><td>False</td><td>False</td><td>False</td><td>False</td><td>False</td><td>False</td><td>118743.2762432346</td><td>118743.2762432346</td><td>475.82965978628306</td><td>475.82965978628306</td><td>50.27238</td><td>50.27238</td><td>2632187.8</td><td>2632187.8</td><td>6561</td><td>6561</td><td>False</td><td>False</td><td>False</td><td>False</td><td>False</td><td>False</td><td>nan</td><td>True</td><td>413</td></tr>\n",
       "<tr><td>116</td><td>nan</td><td>nan</td><td>0</td><td>False</td><td>False</td><td>False</td><td>1929.016090512638</td><td>1929.016090512638</td><td>3929.10184740219</td><td>3929.10184740219</td><td>0.06034419</td><td>0.06034419</td><td>0.06205165</td><td>0.06205165</td><td>False</td><td>False</td><td>False</td><td>False</td><td>False</td><td>False</td><td>False</td><td>False</td><td>False</td><td>False</td><td>False</td><td>False</td><td>False</td><td>False</td><td>False</td><td>False</td><td>False</td><td>False</td><td>False</td><td>False</td><td>False</td><td>False</td><td>False</td><td>False</td><td>False</td><td>False</td><td>False</td><td>False</td><td>False</td><td>False</td><td>False</td><td>False</td><td>False</td><td>False</td><td>False</td><td>False</td><td>False</td><td>False</td><td>False</td><td>False</td><td>False</td><td>False</td><td>-1.5898390948736214</td><td>19.231018474021898</td><td>False</td><td>False</td><td>0.22893805040639406</td><td>False</td><td>nan</td><td>nan</td><td>nan</td><td>nan</td><td>nan</td><td>nan</td><td>nan</td><td>nan</td><td>nan</td><td>nan</td><td>True</td><td>True</td><td>True</td><td>False</td><td>False</td><td>False</td><td>False</td><td>False</td><td>False</td><td>False</td><td>False</td><td>False</td><td>True</td><td>True</td><td>True</td><td>False</td><td>False</td><td>False</td><td>1665.76171875</td><td>64.20479583740234</td><td>False</td><td>False</td><td>False</td><td>1546.747802734375</td><td>83.09025573730469</td><td>False</td><td>False</td><td>False</td><td>1636.82275390625</td><td>106.39154052734375</td><td>False</td><td>False</td><td>False</td><td>2066.736572265625</td><td>156.3047637939453</td><td>False</td><td>False</td><td>False</td><td>2201.84423828125</td><td>2201.84423828125</td><td>2201.84423828125</td><td>205.30044555664062</td><td>205.30044555664062</td><td>205.30044555664062</td><td>False</td><td>False</td><td>False</td><td>False</td><td>False</td><td>False</td><td>False</td><td>False</td><td>False</td><td>3370.082738876343</td><td>290.41521443059094</td><td>False</td><td>False</td><td>6378.34936529398</td><td>427.82840812314015</td><td>False</td><td>False</td><td>11124.792557954788</td><td>602.588353382981</td><td>False</td><td>False</td><td>22416.194112718105</td><td>868.5849445685155</td><td>False</td><td>False</td><td>48313.916125923395</td><td>1215.8706269568443</td><td>False</td><td>False</td><td>nan</td><td>nan</td><td>nan</td><td>nan</td><td>nan</td><td>nan</td><td>True</td><td>True</td><td>True</td><td>False</td><td>False</td><td>False</td><td>False</td><td>False</td><td>False</td><td>False</td><td>False</td><td>False</td><td>False</td><td>False</td><td>False</td><td>2921.0230320039286</td><td>2921.0230320039286</td><td>98.76526449394576</td><td>98.76526449394576</td><td>50.265465</td><td>50.265465</td><td>9832.124</td><td>9832.124</td><td>6561</td><td>6561</td><td>False</td><td>False</td><td>False</td><td>False</td><td>False</td><td>False</td><td>nan</td><td>True</td><td>251</td></tr>\n",
       "<tr><td>117</td><td>nan</td><td>nan</td><td>0</td><td>False</td><td>False</td><td>False</td><td>58.91868041418891</td><td>58.91868041418891</td><td>3945.0184008242213</td><td>3945.0184008242213</td><td>0.0055524167</td><td>0.0055524167</td><td>0.0055177487</td><td>0.0055177487</td><td>False</td><td>False</td><td>False</td><td>False</td><td>False</td><td>False</td><td>False</td><td>False</td><td>False</td><td>False</td><td>False</td><td>False</td><td>False</td><td>False</td><td>False</td><td>False</td><td>False</td><td>False</td><td>False</td><td>False</td><td>False</td><td>False</td><td>False</td><td>False</td><td>False</td><td>False</td><td>False</td><td>False</td><td>False</td><td>False</td><td>False</td><td>False</td><td>False</td><td>False</td><td>False</td><td>False</td><td>False</td><td>False</td><td>False</td><td>False</td><td>False</td><td>False</td><td>-20.290813195858114</td><td>19.390184008242212</td><td>False</td><td>False</td><td>0.22893774351120333</td><td>False</td><td>nan</td><td>nan</td><td>nan</td><td>nan</td><td>nan</td><td>nan</td><td>nan</td><td>nan</td><td>nan</td><td>nan</td><td>True</td><td>True</td><td>True</td><td>False</td><td>False</td><td>False</td><td>False</td><td>False</td><td>False</td><td>False</td><td>False</td><td>False</td><td>True</td><td>True</td><td>True</td><td>False</td><td>False</td><td>False</td><td>92523.765625</td><td>313.84185791015625</td><td>False</td><td>False</td><td>False</td><td>81703.1640625</td><td>282.5857849121094</td><td>False</td><td>False</td><td>False</td><td>77163.3046875</td><td>275.224365234375</td><td>False</td><td>False</td><td>False</td><td>85310.2421875</td><td>319.32000732421875</td><td>False</td><td>False</td><td>False</td><td>79537.0859375</td><td>79537.0859375</td><td>79537.0859375</td><td>327.46795654296875</td><td>327.46795654296875</td><td>327.46795654296875</td><td>False</td><td>False</td><td>False</td><td>False</td><td>False</td><td>False</td><td>False</td><td>False</td><td>False</td><td>81951.27346605062</td><td>385.35256568031804</td><td>False</td><td>False</td><td>82039.36893987656</td><td>483.9624543681117</td><td>False</td><td>False</td><td>81513.15028977394</td><td>621.6470220681783</td><td>False</td><td>False</td><td>81307.80864089727</td><td>842.277469142911</td><td>False</td><td>False</td><td>nan</td><td>nan</td><td>True</td><td>True</td><td>nan</td><td>nan</td><td>nan</td><td>nan</td><td>nan</td><td>nan</td><td>True</td><td>True</td><td>True</td><td>False</td><td>False</td><td>False</td><td>False</td><td>False</td><td>False</td><td>False</td><td>False</td><td>False</td><td>False</td><td>False</td><td>False</td><td>162367.83521012732</td><td>162367.83521012732</td><td>548.0982552474647</td><td>548.0982552474647</td><td>50.26798</td><td>50.26798</td><td>4142282.8</td><td>4142282.8</td><td>6561</td><td>6561</td><td>False</td><td>False</td><td>False</td><td>False</td><td>False</td><td>False</td><td>nan</td><td>True</td><td>435</td></tr>\n",
       "<tr><td>118</td><td>nan</td><td>nan</td><td>0</td><td>False</td><td>False</td><td>False</td><td>1737.1812421555283</td><td>1737.1812421555283</td><td>1592.6490494296577</td><td>1592.6490494296577</td><td>nan</td><td>nan</td><td>nan</td><td>nan</td><td>True</td><td>True</td><td>True</td><td>True</td><td>True</td><td>True</td><td>False</td><td>False</td><td>False</td><td>False</td><td>False</td><td>False</td><td>False</td><td>False</td><td>False</td><td>False</td><td>False</td><td>False</td><td>False</td><td>False</td><td>False</td><td>False</td><td>False</td><td>False</td><td>True</td><td>True</td><td>True</td><td>True</td><td>True</td><td>True</td><td>False</td><td>False</td><td>False</td><td>False</td><td>False</td><td>False</td><td>False</td><td>False</td><td>False</td><td>False</td><td>False</td><td>False</td><td>-3.508187578444719</td><td>-4.133509505703422</td><td>False</td><td>False</td><td>0.22893830372201743</td><td>False</td><td>nan</td><td>nan</td><td>nan</td><td>nan</td><td>nan</td><td>nan</td><td>nan</td><td>nan</td><td>nan</td><td>nan</td><td>True</td><td>True</td><td>True</td><td>False</td><td>False</td><td>False</td><td>False</td><td>False</td><td>False</td><td>False</td><td>False</td><td>False</td><td>True</td><td>True</td><td>True</td><td>False</td><td>False</td><td>False</td><td>2349908.25</td><td>1405.91357421875</td><td>True</td><td>False</td><td>False</td><td>4963229.5</td><td>2087.11572265625</td><td>True</td><td>False</td><td>False</td><td>8572456.0</td><td>2759.06640625</td><td>True</td><td>False</td><td>False</td><td>17917258.0</td><td>4012.748046875</td><td>True</td><td>False</td><td>False</td><td>29004150.0</td><td>29004150.0</td><td>29004150.0</td><td>5121.21435546875</td><td>5121.21435546875</td><td>5121.21435546875</td><td>True</td><td>True</td><td>True</td><td>False</td><td>False</td><td>False</td><td>False</td><td>False</td><td>False</td><td>48833808.81933594</td><td>6690.275285042346</td><td>True</td><td>False</td><td>80361885.77978516</td><td>8585.936275036878</td><td>True</td><td>False</td><td>118723697.44018555</td><td>10441.823299506425</td><td>True</td><td>False</td><td>175079652.30841064</td><td>12691.350473797298</td><td>True</td><td>False</td><td>247646407.0180664</td><td>15112.486772724733</td><td>True</td><td>False</td><td>nan</td><td>nan</td><td>nan</td><td>nan</td><td>nan</td><td>nan</td><td>True</td><td>True</td><td>True</td><td>False</td><td>False</td><td>True</td><td>True</td><td>True</td><td>False</td><td>True</td><td>False</td><td>False</td><td>False</td><td>False</td><td>False</td><td>3946016.386825559</td><td>3946016.386825559</td><td>1914.2492047840324</td><td>1914.2492047840324</td><td>50.19918</td><td>50.19918</td><td>153343460.0</td><td>153343460.0</td><td>6561</td><td>6561</td><td>True</td><td>True</td><td>False</td><td>False</td><td>False</td><td>False</td><td>nan</td><td>True</td><td>968569</td></tr>\n",
       "<tr><td>119</td><td>nan</td><td>nan</td><td>0</td><td>False</td><td>False</td><td>False</td><td>4040.0</td><td>4040.0</td><td>2941.0</td><td>2941.0</td><td>nan</td><td>nan</td><td>nan</td><td>nan</td><td>True</td><td>True</td><td>True</td><td>True</td><td>True</td><td>True</td><td>True</td><td>True</td><td>True</td><td>True</td><td>True</td><td>True</td><td>False</td><td>False</td><td>False</td><td>False</td><td>False</td><td>False</td><td>False</td><td>False</td><td>False</td><td>False</td><td>False</td><td>False</td><td>False</td><td>False</td><td>False</td><td>False</td><td>False</td><td>False</td><td>False</td><td>False</td><td>False</td><td>False</td><td>False</td><td>False</td><td>False</td><td>False</td><td>False</td><td>False</td><td>False</td><td>False</td><td>19.519999999999996</td><td>9.350000000000001</td><td>False</td><td>False</td><td>0.2289379791937379</td><td>False</td><td>nan</td><td>nan</td><td>nan</td><td>nan</td><td>nan</td><td>nan</td><td>nan</td><td>nan</td><td>nan</td><td>nan</td><td>True</td><td>True</td><td>True</td><td>False</td><td>False</td><td>False</td><td>False</td><td>False</td><td>False</td><td>False</td><td>False</td><td>False</td><td>True</td><td>True</td><td>True</td><td>False</td><td>False</td><td>False</td><td>4191.5859375</td><td>75.87609100341797</td><td>True</td><td>False</td><td>False</td><td>8818.3359375</td><td>112.47348022460938</td><td>True</td><td>False</td><td>False</td><td>14727.4482421875</td><td>147.87841796875</td><td>True</td><td>False</td><td>False</td><td>29269.38671875</td><td>214.5438232421875</td><td>True</td><td>False</td><td>False</td><td>45550.05078125</td><td>45550.05078125</td><td>45550.05078125</td><td>276.1224060058594</td><td>276.1224060058594</td><td>276.1224060058594</td><td>True</td><td>True</td><td>True</td><td>False</td><td>False</td><td>False</td><td>False</td><td>False</td><td>False</td><td>73823.60989332199</td><td>371.22734765196697</td><td>True</td><td>False</td><td>120900.35725674033</td><td>512.1066353400628</td><td>True</td><td>False</td><td>nan</td><td>nan</td><td>True</td><td>True</td><td>nan</td><td>nan</td><td>True</td><td>True</td><td>nan</td><td>nan</td><td>True</td><td>True</td><td>nan</td><td>nan</td><td>nan</td><td>nan</td><td>nan</td><td>nan</td><td>True</td><td>True</td><td>True</td><td>False</td><td>False</td><td>True</td><td>False</td><td>False</td><td>False</td><td>False</td><td>False</td><td>False</td><td>False</td><td>False</td><td>False</td><td>7147.359600791564</td><td>7147.359600791564</td><td>103.73352511730313</td><td>103.73352511730313</td><td>50.273167</td><td>50.273167</td><td>109595.33</td><td>109595.33</td><td>5832</td><td>5832</td><td>True</td><td>True</td><td>False</td><td>False</td><td>True</td><td>True</td><td>nan</td><td>True</td><td>75513</td></tr>\n",
       "<tr><td>120</td><td>nan</td><td>nan</td><td>0</td><td>False</td><td>False</td><td>False</td><td>963.0</td><td>963.0</td><td>3992.0</td><td>3992.0</td><td>nan</td><td>nan</td><td>nan</td><td>nan</td><td>True</td><td>True</td><td>True</td><td>True</td><td>True</td><td>True</td><td>True</td><td>True</td><td>True</td><td>True</td><td>True</td><td>True</td><td>False</td><td>False</td><td>False</td><td>False</td><td>False</td><td>False</td><td>False</td><td>False</td><td>False</td><td>False</td><td>False</td><td>False</td><td>False</td><td>False</td><td>False</td><td>False</td><td>False</td><td>False</td><td>False</td><td>False</td><td>False</td><td>False</td><td>False</td><td>False</td><td>False</td><td>False</td><td>False</td><td>False</td><td>False</td><td>False</td><td>-11.250000000000002</td><td>19.860000000000003</td><td>False</td><td>False</td><td>0.2289379406563288</td><td>False</td><td>952.3877563632584</td><td>952.3877563632584</td><td>3982.4687542068073</td><td>3982.4687542068073</td><td>149.1323989614685</td><td>149.1323989614685</td><td>132.02589676655558</td><td>132.02589676655558</td><td>-89.42712936963784</td><td>-89.42712936963784</td><td>True</td><td>True</td><td>True</td><td>False</td><td>False</td><td>False</td><td>False</td><td>False</td><td>False</td><td>False</td><td>False</td><td>False</td><td>False</td><td>False</td><td>False</td><td>False</td><td>False</td><td>False</td><td>1031.400634765625</td><td>48.665287017822266</td><td>True</td><td>False</td><td>False</td><td>-4730.98779296875</td><td>73.70277404785156</td><td>True</td><td>False</td><td>True</td><td>-28905.822265625</td><td>109.80355072021484</td><td>True</td><td>False</td><td>True</td><td>nan</td><td>nan</td><td>True</td><td>True</td><td>True</td><td>nan</td><td>nan</td><td>nan</td><td>nan</td><td>nan</td><td>nan</td><td>True</td><td>True</td><td>True</td><td>True</td><td>True</td><td>True</td><td>True</td><td>True</td><td>True</td><td>nan</td><td>nan</td><td>True</td><td>True</td><td>nan</td><td>nan</td><td>True</td><td>True</td><td>nan</td><td>nan</td><td>True</td><td>True</td><td>nan</td><td>nan</td><td>True</td><td>True</td><td>nan</td><td>nan</td><td>True</td><td>True</td><td>3501603.4126390764</td><td>3501603.4126390764</td><td>3501603.4126390764</td><td>319.5993405205688</td><td>319.5993405205688</td><td>319.5993405205688</td><td>False</td><td>False</td><td>False</td><td>False</td><td>False</td><td>True</td><td>True</td><td>True</td><td>False</td><td>True</td><td>False</td><td>False</td><td>False</td><td>False</td><td>False</td><td>2567.8436067847856</td><td>2567.8436067847856</td><td>66.73156123858658</td><td>66.73156123858658</td><td>50.269356</td><td>50.269356</td><td>6431721.0</td><td>6431721.0</td><td>3888</td><td>3888</td><td>True</td><td>True</td><td>False</td><td>False</td><td>True</td><td>True</td><td>nan</td><td>True</td><td>5925</td></tr>\n",
       "</table></div>"
      ],
      "text/plain": [
       "<Table length=120>\n",
       "  id  coord_ra ... base_ClassificationExtendedness_flag base_FootprintArea_value\n",
       "        rad    ...                                                pix           \n",
       "int64 float64  ...                 bool                          int32          \n",
       "----- -------- ... ------------------------------------ ------------------------\n",
       "    1      nan ...                                 True                     1316\n",
       "    2      nan ...                                 True                      259\n",
       "    3      nan ...                                False                     1068\n",
       "    4      nan ...                                 True                     3796\n",
       "    5      nan ...                                 True                      647\n",
       "    6      nan ...                                 True                    11723\n",
       "    7      nan ...                                 True                     4294\n",
       "    8      nan ...                                 True                    33589\n",
       "    9      nan ...                                 True                     1512\n",
       "  ...      ... ...                                  ...                      ...\n",
       "  111      nan ...                                 True                      383\n",
       "  112      nan ...                                 True                      209\n",
       "  113      nan ...                                 True                      455\n",
       "  114      nan ...                                 True                      253\n",
       "  115      nan ...                                 True                      413\n",
       "  116      nan ...                                 True                      251\n",
       "  117      nan ...                                 True                      435\n",
       "  118      nan ...                                 True                   968569\n",
       "  119      nan ...                                 True                    75513\n",
       "  120      nan ...                                 True                     5925"
      ]
     },
     "execution_count": 19,
     "metadata": {},
     "output_type": "execute_result"
    }
   ],
   "source": [
    "table_sources = icSrc.asAstropy()\n",
    "table_sources"
   ]
  },
  {
   "cell_type": "markdown",
   "id": "037fe23e-880f-464f-8a4e-359ba0e6b9b8",
   "metadata": {},
   "source": [
    "## src"
   ]
  },
  {
   "cell_type": "code",
   "execution_count": 18,
   "id": "90c0d938-89f4-46cd-95e6-3babbf82ba6c",
   "metadata": {
    "execution": {
     "iopub.execute_input": "2023-12-20T16:35:30.630331Z",
     "iopub.status.busy": "2023-12-20T16:35:30.629722Z",
     "iopub.status.idle": "2023-12-20T16:35:30.644953Z",
     "shell.execute_reply": "2023-12-20T16:35:30.644631Z",
     "shell.execute_reply.started": "2023-12-20T16:35:30.630296Z"
    }
   },
   "outputs": [],
   "source": [
    "datasetRefs = butler.registry.queryDatasets(datasetType='src', collections=my_collection, where= \"instrument='LATISS'\")"
   ]
  },
  {
   "cell_type": "code",
   "execution_count": 19,
   "id": "f91eca9e-0bfa-46d7-a981-fd83000c0489",
   "metadata": {
    "execution": {
     "iopub.execute_input": "2023-12-20T16:35:34.750058Z",
     "iopub.status.busy": "2023-12-20T16:35:34.749829Z",
     "iopub.status.idle": "2023-12-20T16:35:35.838527Z",
     "shell.execute_reply": "2023-12-20T16:35:35.838060Z",
     "shell.execute_reply.started": "2023-12-20T16:35:34.750043Z"
    }
   },
   "outputs": [
    {
     "name": "stdout",
     "output_type": "stream",
     "text": [
      "========================datasetType = src ============================================\n",
      "fullId..................: {band: 'i', instrument: 'LATISS', detector: 0, physical_filter: 'SDSSi_65mm~empty', visit: 2023052400657}\n",
      "visit...................: 2023052400657\n",
      "band....................: i\n",
      "physical filter.........: SDSSi_65mm~empty\n",
      "run.....................: LATISS/runs/AUXTEL_DRP_IMAGING_2023-11A-10A-09AB-08ABC-07AB-05AB/w_2023_46/PREOPS-4553/20231117T150928Z\n",
      "{'day_obs': 20230524, 'seq_num': 657, 'detector': 0}\n",
      "========================datasetType = src ============================================\n",
      "fullId..................: {band: 'r', instrument: 'LATISS', detector: 0, physical_filter: 'SDSSr_65mm~empty', visit: 2023070400580}\n",
      "visit...................: 2023070400580\n",
      "band....................: r\n",
      "physical filter.........: SDSSr_65mm~empty\n",
      "run.....................: LATISS/runs/AUXTEL_DRP_IMAGING_2023-11A-10A-09AB-08ABC-07AB-05AB/w_2023_46/PREOPS-4553/20231117T150928Z\n",
      "{'day_obs': 20230704, 'seq_num': 580, 'detector': 0}\n",
      "========================datasetType = src ============================================\n",
      "fullId..................: {band: 'r', instrument: 'LATISS', detector: 0, physical_filter: 'SDSSr_65mm~empty', visit: 2023080300669}\n",
      "visit...................: 2023080300669\n",
      "band....................: r\n",
      "physical filter.........: SDSSr_65mm~empty\n",
      "run.....................: LATISS/runs/AUXTEL_DRP_IMAGING_2023-11A-10A-09AB-08ABC-07AB-05AB/w_2023_46/PREOPS-4553/20231117T150928Z\n",
      "{'day_obs': 20230803, 'seq_num': 669, 'detector': 0}\n",
      "========================datasetType = src ============================================\n",
      "fullId..................: {band: 'r', instrument: 'LATISS', detector: 0, physical_filter: 'SDSSr_65mm~empty', visit: 2023080300645}\n",
      "visit...................: 2023080300645\n",
      "band....................: r\n",
      "physical filter.........: SDSSr_65mm~empty\n",
      "run.....................: LATISS/runs/AUXTEL_DRP_IMAGING_2023-11A-10A-09AB-08ABC-07AB-05AB/w_2023_46/PREOPS-4553/20231117T150928Z\n",
      "{'day_obs': 20230803, 'seq_num': 645, 'detector': 0}\n",
      "========================datasetType = src ============================================\n",
      "fullId..................: {band: 'r', instrument: 'LATISS', detector: 0, physical_filter: 'SDSSr_65mm~empty', visit: 2023070600446}\n",
      "visit...................: 2023070600446\n",
      "band....................: r\n",
      "physical filter.........: SDSSr_65mm~empty\n",
      "run.....................: LATISS/runs/AUXTEL_DRP_IMAGING_2023-11A-10A-09AB-08ABC-07AB-05AB/w_2023_46/PREOPS-4553/20231117T150928Z\n",
      "{'day_obs': 20230706, 'seq_num': 446, 'detector': 0}\n",
      "========================datasetType = src ============================================\n",
      "fullId..................: {band: 'g', instrument: 'LATISS', detector: 0, physical_filter: 'SDSSg_65mm~empty', visit: 2023070600564}\n",
      "visit...................: 2023070600564\n",
      "band....................: g\n",
      "physical filter.........: SDSSg_65mm~empty\n",
      "run.....................: LATISS/runs/AUXTEL_DRP_IMAGING_2023-11A-10A-09AB-08ABC-07AB-05AB/w_2023_46/PREOPS-4553/20231117T150928Z\n",
      "{'day_obs': 20230706, 'seq_num': 564, 'detector': 0}\n",
      "========================datasetType = src ============================================\n",
      "fullId..................: {band: 'g', instrument: 'LATISS', detector: 0, physical_filter: 'SDSSg_65mm~empty', visit: 2023051100317}\n",
      "visit...................: 2023051100317\n",
      "band....................: g\n",
      "physical filter.........: SDSSg_65mm~empty\n",
      "run.....................: LATISS/runs/AUXTEL_DRP_IMAGING_2023-11A-10A-09AB-08ABC-07AB-05AB/w_2023_46/PREOPS-4553/20231117T150928Z\n",
      "{'day_obs': 20230511, 'seq_num': 317, 'detector': 0}\n"
     ]
    }
   ],
   "source": [
    "all_ref_for_src = []\n",
    "all_dataId = []\n",
    "all_src = []\n",
    "all_exposures = []\n",
    "\n",
    "for i, ref in enumerate(datasetRefs):\n",
    "    all_ref_for_src.append(ref.dataId)\n",
    "    print(\"========================datasetType = src ============================================\")\n",
    "    print(\"fullId..................:\",ref.dataId.full)\n",
    "    print(\"visit...................:\",ref.dataId[\"visit\"])\n",
    "    print(\"band....................:\",ref.dataId[\"band\"])\n",
    "    print(\"physical filter.........:\",ref.dataId[\"physical_filter\"])\n",
    "    print(\"run.....................:\",ref.run)\n",
    "    the_exposure = ref.dataId[\"visit\"]\n",
    "    the_day_obs = ref.dataId[\"visit\"]//100_000\n",
    "    the_seq_num = ref.dataId[\"visit\"]- the_day_obs*100_000    \n",
    "    the_dataId = {'day_obs': the_day_obs,'seq_num':the_seq_num,'detector':0}\n",
    "    print(the_dataId)\n",
    "    #spec       = butler.get('spectraction',the_dataId)\n",
    "    src = butler.get('src', visit=the_exposure, detector=0, collections=my_collection, instrument='LATISS')\n",
    "    all_ref_for_src.append(src) \n",
    "    all_dataId.append(the_dataId) \n",
    "    all_exposures.append(the_exposure)\n",
    "    all_src.append(src)\n",
    "    if i > 5:\n",
    "        break"
   ]
  },
  {
   "cell_type": "code",
   "execution_count": 22,
   "id": "bb1a7605-6f8a-4a19-a5ef-f6869c9d6138",
   "metadata": {},
   "outputs": [
    {
     "data": {
      "text/plain": [
       "False"
      ]
     },
     "execution_count": 22,
     "metadata": {},
     "output_type": "execute_result"
    }
   ],
   "source": [
    "datasetRefs.any()"
   ]
  },
  {
   "cell_type": "raw",
   "id": "2fba6718-c197-490f-af6b-87d7d42bdd2f",
   "metadata": {},
   "source": []
  },
  {
   "cell_type": "markdown",
   "id": "9b33aba1-89af-490d-a8c4-e17dbf33fcc0",
   "metadata": {},
   "source": [
    "# CharacterizeImage"
   ]
  },
  {
   "cell_type": "markdown",
   "id": "1043e6bb-cd30-4cdb-934a-4f5a44760428",
   "metadata": {},
   "source": [
    "- characterizeImage_config\n",
    "- characterizeImage_metadata\n",
    "- characterizeImage_log "
   ]
  },
  {
   "cell_type": "markdown",
   "id": "45327980-1fb7-4b41-89fd-b6dc12a663c6",
   "metadata": {},
   "source": [
    "## characterizeImage_config"
   ]
  },
  {
   "cell_type": "code",
   "execution_count": 20,
   "id": "c93eef09-c02d-4722-8af2-5570b760e486",
   "metadata": {
    "execution": {
     "iopub.execute_input": "2023-12-20T16:35:39.782268Z",
     "iopub.status.busy": "2023-12-20T16:35:39.781754Z",
     "iopub.status.idle": "2023-12-20T16:35:39.796193Z",
     "shell.execute_reply": "2023-12-20T16:35:39.795831Z",
     "shell.execute_reply.started": "2023-12-20T16:35:39.782253Z"
    }
   },
   "outputs": [],
   "source": [
    "datasetRefs = registry.queryDatasets(datasetType='characterizeImage_config', collections=my_collection, where= \"instrument='LATISS'\")\n",
    "#conf = butler.get('characterizeImage_config')"
   ]
  },
  {
   "cell_type": "code",
   "execution_count": 21,
   "id": "d463547b-4635-4b98-8d49-41686a9933aa",
   "metadata": {
    "execution": {
     "iopub.execute_input": "2023-12-20T16:35:42.571699Z",
     "iopub.status.busy": "2023-12-20T16:35:42.571535Z",
     "iopub.status.idle": "2023-12-20T16:35:43.466528Z",
     "shell.execute_reply": "2023-12-20T16:35:43.465990Z",
     "shell.execute_reply.started": "2023-12-20T16:35:42.571687Z"
    }
   },
   "outputs": [
    {
     "name": "stdout",
     "output_type": "stream",
     "text": [
      "========================datasetType = characterizeImage_config ============================================\n",
      "fullId..................: {}\n"
     ]
    },
    {
     "data": {
      "text/html": [
       "<pre style=\"margin: 0.1em;\n",
       "padding-left: 0.25em;\n",
       "border-left-style: solid;\n",
       "font-family: var(--jp-code-font-family);\n",
       "font-size: var(--jp-code-font-size);\n",
       "line-height: var(--jp-code-line-height);\n",
       "\"><span style=\"color: var(--jp-warn-color2)\">timer.lsst.daf.butler.datastores.fileDatastore</span> <span style=\"color: var(--jp-error-color2)\">ERROR</span>: Reading from location s3://rubin-summit-users/LATISS/runs/AUXTEL_DRP_IMAGING_2023-11A-10A-09AB-08ABC-07AB-05AB/w_2023_46/PREOPS-4553/20231117T150928Z/characterizeImage_config/characterizeImage_config_LATISS_runs_AUXTEL_DRP_IMAGING_2023-11A-10A-09AB-08ABC-07AB-05AB_w_2023_46_PREOPS-4553_20231117T150928Z.py (via download to local file and likely cached) with formatter lsst.pipe.base.formatters.pexConfig.PexConfigFormatter: Took 0.3860 seconds</pre>"
      ],
      "text/plain": [
       "<IPython.core.display.HTML object>"
      ]
     },
     "metadata": {},
     "output_type": "display_data"
    },
    {
     "ename": "ValueError",
     "evalue": "Failure from formatter 'lsst.pipe.base.formatters.pexConfig.PexConfigFormatter' for dataset d8107112-0832-48b8-aba4-a80780ec0f01 (characterizeImage_config from s3://rubin-summit-users/LATISS/runs/AUXTEL_DRP_IMAGING_2023-11A-10A-09AB-08ABC-07AB-05AB/w_2023_46/PREOPS-4553/20231117T150928Z/characterizeImage_config/characterizeImage_config_LATISS_runs_AUXTEL_DRP_IMAGING_2023-11A-10A-09AB-08ABC-07AB-05AB_w_2023_46_PREOPS-4553_20231117T150928Z.py): 'ComputeExposureSummaryStatsConfig' object has no attribute 'starSelector'",
     "output_type": "error",
     "traceback": [
      "\u001b[0;31m---------------------------------------------------------------------------\u001b[0m",
      "\u001b[0;31mAttributeError\u001b[0m                            Traceback (most recent call last)",
      "File \u001b[0;32m/opt/lsst/software/stack/stack/miniconda3-py38_4.9.2-7.0.1/Linux64/daf_butler/ge89626a060+c4141ea9c4/python/lsst/daf/butler/datastores/fileDatastore.py:1501\u001b[0m, in \u001b[0;36mFileDatastore._read_artifact_into_memory\u001b[0;34m(self, getInfo, ref, isComponent, cache_ref)\u001b[0m\n\u001b[1;32m   1488\u001b[0m     \u001b[38;5;28;01mwith\u001b[39;00m (\n\u001b[1;32m   1489\u001b[0m         formatter\u001b[38;5;241m.\u001b[39m_updateLocation(newLocation),\n\u001b[1;32m   1490\u001b[0m         time_this(\n\u001b[0;32m   (...)\u001b[0m\n\u001b[1;32m   1499\u001b[0m         ),\n\u001b[1;32m   1500\u001b[0m     ):\n\u001b[0;32m-> 1501\u001b[0m         result \u001b[38;5;241m=\u001b[39m \u001b[43mformatter\u001b[49m\u001b[38;5;241;43m.\u001b[39;49m\u001b[43mread\u001b[49m\u001b[43m(\u001b[49m\u001b[43mcomponent\u001b[49m\u001b[38;5;241;43m=\u001b[39;49m\u001b[43mgetInfo\u001b[49m\u001b[38;5;241;43m.\u001b[39;49m\u001b[43mcomponent\u001b[49m\u001b[43m \u001b[49m\u001b[38;5;28;43;01mif\u001b[39;49;00m\u001b[43m \u001b[49m\u001b[43misComponent\u001b[49m\u001b[43m \u001b[49m\u001b[38;5;28;43;01melse\u001b[39;49;00m\u001b[43m \u001b[49m\u001b[38;5;28;43;01mNone\u001b[39;49;00m\u001b[43m)\u001b[49m\n\u001b[1;32m   1502\u001b[0m \u001b[38;5;28;01mexcept\u001b[39;00m \u001b[38;5;167;01mException\u001b[39;00m \u001b[38;5;28;01mas\u001b[39;00m e:\n",
      "File \u001b[0;32m/opt/lsst/software/stack/stack/miniconda3-py38_4.9.2-7.0.1/Linux64/daf_butler/ge89626a060+c4141ea9c4/python/lsst/daf/butler/formatters/file.py:259\u001b[0m, in \u001b[0;36mFileFormatter.read\u001b[0;34m(self, component)\u001b[0m\n\u001b[1;32m    258\u001b[0m path \u001b[38;5;241m=\u001b[39m \u001b[38;5;28mself\u001b[39m\u001b[38;5;241m.\u001b[39mfileDescriptor\u001b[38;5;241m.\u001b[39mlocation\u001b[38;5;241m.\u001b[39mpath\n\u001b[0;32m--> 259\u001b[0m data \u001b[38;5;241m=\u001b[39m \u001b[38;5;28;43mself\u001b[39;49m\u001b[38;5;241;43m.\u001b[39;49m\u001b[43m_readFile\u001b[49m\u001b[43m(\u001b[49m\u001b[43mpath\u001b[49m\u001b[43m,\u001b[49m\u001b[43m \u001b[49m\u001b[38;5;28;43mself\u001b[39;49m\u001b[38;5;241;43m.\u001b[39;49m\u001b[43mfileDescriptor\u001b[49m\u001b[38;5;241;43m.\u001b[39;49m\u001b[43mstorageClass\u001b[49m\u001b[38;5;241;43m.\u001b[39;49m\u001b[43mpytype\u001b[49m\u001b[43m)\u001b[49m\n\u001b[1;32m    261\u001b[0m \u001b[38;5;66;03m# Assemble the requested dataset and potentially return only its\u001b[39;00m\n\u001b[1;32m    262\u001b[0m \u001b[38;5;66;03m# component coercing it to its appropriate pytype\u001b[39;00m\n",
      "File \u001b[0;32m/opt/lsst/software/stack/stack/miniconda3-py38_4.9.2-7.0.1/Linux64/pipe_base/gfacbe7f57e+607ede7504/python/lsst/pipe/base/formatters/pexConfig.py:68\u001b[0m, in \u001b[0;36mPexConfigFormatter._readFile\u001b[0;34m(self, path, pytype)\u001b[0m\n\u001b[1;32m     67\u001b[0m     config_py \u001b[38;5;241m=\u001b[39m fd\u001b[38;5;241m.\u001b[39mread()\n\u001b[0;32m---> 68\u001b[0m \u001b[38;5;28;01mreturn\u001b[39;00m \u001b[43mConfig\u001b[49m\u001b[38;5;241;43m.\u001b[39;49m\u001b[43m_fromPython\u001b[49m\u001b[43m(\u001b[49m\u001b[43mconfig_py\u001b[49m\u001b[43m)\u001b[49m\n",
      "File \u001b[0;32m/opt/lsst/software/stack/stack/miniconda3-py38_4.9.2-7.0.1/Linux64/pex_config/g41b076d227+0ffa813159/python/lsst/pex/config/config.py:1685\u001b[0m, in \u001b[0;36mConfig._fromPython\u001b[0;34m(cls, config_py)\u001b[0m\n\u001b[1;32m   1684\u001b[0m \u001b[38;5;28mcls\u001b[39m \u001b[38;5;241m=\u001b[39m _classFromPython(config_py)\n\u001b[0;32m-> 1685\u001b[0m \u001b[38;5;28;01mreturn\u001b[39;00m \u001b[43munreduceConfig\u001b[49m\u001b[43m(\u001b[49m\u001b[38;5;28;43mcls\u001b[39;49m\u001b[43m,\u001b[49m\u001b[43m \u001b[49m\u001b[43mconfig_py\u001b[49m\u001b[43m)\u001b[49m\n",
      "File \u001b[0;32m/opt/lsst/software/stack/stack/miniconda3-py38_4.9.2-7.0.1/Linux64/pex_config/g41b076d227+0ffa813159/python/lsst/pex/config/config.py:1759\u001b[0m, in \u001b[0;36munreduceConfig\u001b[0;34m(cls, stream)\u001b[0m\n\u001b[1;32m   1758\u001b[0m config \u001b[38;5;241m=\u001b[39m \u001b[38;5;28mcls\u001b[39m()\n\u001b[0;32m-> 1759\u001b[0m \u001b[43mconfig\u001b[49m\u001b[38;5;241;43m.\u001b[39;49m\u001b[43mloadFromStream\u001b[49m\u001b[43m(\u001b[49m\u001b[43mstream\u001b[49m\u001b[43m)\u001b[49m\n\u001b[1;32m   1760\u001b[0m \u001b[38;5;28;01mreturn\u001b[39;00m config\n",
      "File \u001b[0;32m/opt/lsst/software/stack/stack/miniconda3-py38_4.9.2-7.0.1/Linux64/pex_config/g41b076d227+0ffa813159/python/lsst/pex/config/config.py:1216\u001b[0m, in \u001b[0;36mConfig.loadFromStream\u001b[0;34m(self, stream, root, filename, extraLocals)\u001b[0m\n\u001b[1;32m   1215\u001b[0m     code \u001b[38;5;241m=\u001b[39m stream\n\u001b[0;32m-> 1216\u001b[0m \u001b[38;5;28;43mself\u001b[39;49m\u001b[38;5;241;43m.\u001b[39;49m\u001b[43mloadFromString\u001b[49m\u001b[43m(\u001b[49m\u001b[43mcode\u001b[49m\u001b[43m,\u001b[49m\u001b[43m \u001b[49m\u001b[43mroot\u001b[49m\u001b[38;5;241;43m=\u001b[39;49m\u001b[43mroot\u001b[49m\u001b[43m,\u001b[49m\u001b[43m \u001b[49m\u001b[43mfilename\u001b[49m\u001b[38;5;241;43m=\u001b[39;49m\u001b[43mfilename\u001b[49m\u001b[43m,\u001b[49m\u001b[43m \u001b[49m\u001b[43mextraLocals\u001b[49m\u001b[38;5;241;43m=\u001b[39;49m\u001b[43mextraLocals\u001b[49m\u001b[43m)\u001b[49m\n",
      "File \u001b[0;32m/opt/lsst/software/stack/stack/miniconda3-py38_4.9.2-7.0.1/Linux64/pex_config/g41b076d227+0ffa813159/python/lsst/pex/config/config.py:1270\u001b[0m, in \u001b[0;36mConfig.loadFromString\u001b[0;34m(self, code, root, filename, extraLocals)\u001b[0m\n\u001b[1;32m   1269\u001b[0m         local\u001b[38;5;241m.\u001b[39mupdate(extraLocals)\n\u001b[0;32m-> 1270\u001b[0m     \u001b[43mexec\u001b[49m\u001b[43m(\u001b[49m\u001b[43mcode\u001b[49m\u001b[43m,\u001b[49m\u001b[43m \u001b[49m\u001b[38;5;28;43mglobals\u001b[39;49m\u001b[43m,\u001b[49m\u001b[43m \u001b[49m\u001b[43mlocal\u001b[49m\u001b[43m)\u001b[49m\n\u001b[1;32m   1272\u001b[0m \u001b[38;5;28mself\u001b[39m\u001b[38;5;241m.\u001b[39m_imports\u001b[38;5;241m.\u001b[39mupdate(importer\u001b[38;5;241m.\u001b[39mgetModules())\n",
      "File \u001b[0;32m<string>:1209\u001b[0m\n",
      "File \u001b[0;32m/opt/lsst/software/stack/stack/miniconda3-py38_4.9.2-7.0.1/Linux64/pex_config/g41b076d227+0ffa813159/python/lsst/pex/config/configurableField.py:152\u001b[0m, in \u001b[0;36mConfigurableInstance.__getattr__\u001b[0;34m(self, name)\u001b[0m\n\u001b[1;32m    151\u001b[0m \u001b[38;5;28;01mdef\u001b[39;00m \u001b[38;5;21m__getattr__\u001b[39m(\u001b[38;5;28mself\u001b[39m, name):\n\u001b[0;32m--> 152\u001b[0m     \u001b[38;5;28;01mreturn\u001b[39;00m \u001b[38;5;28mgetattr\u001b[39m(\u001b[38;5;28mself\u001b[39m\u001b[38;5;241m.\u001b[39m_value, name)\n",
      "\u001b[0;31mAttributeError\u001b[0m: 'ComputeExposureSummaryStatsConfig' object has no attribute 'starSelector'",
      "\nThe above exception was the direct cause of the following exception:\n",
      "\u001b[0;31mValueError\u001b[0m                                Traceback (most recent call last)",
      "Cell \u001b[0;32mIn[21], line 4\u001b[0m\n\u001b[1;32m      2\u001b[0m \u001b[38;5;28mprint\u001b[39m(\u001b[38;5;124m\"\u001b[39m\u001b[38;5;124m========================datasetType = characterizeImage_config ============================================\u001b[39m\u001b[38;5;124m\"\u001b[39m)\n\u001b[1;32m      3\u001b[0m \u001b[38;5;28mprint\u001b[39m(\u001b[38;5;124m\"\u001b[39m\u001b[38;5;124mfullId..................:\u001b[39m\u001b[38;5;124m\"\u001b[39m,ref\u001b[38;5;241m.\u001b[39mdataId\u001b[38;5;241m.\u001b[39mfull)\n\u001b[0;32m----> 4\u001b[0m cf \u001b[38;5;241m=\u001b[39m \u001b[43mbutler\u001b[49m\u001b[38;5;241;43m.\u001b[39;49m\u001b[43mget\u001b[49m\u001b[43m(\u001b[49m\u001b[38;5;124;43m'\u001b[39;49m\u001b[38;5;124;43mcharacterizeImage_config\u001b[39;49m\u001b[38;5;124;43m'\u001b[39;49m\u001b[43m,\u001b[49m\u001b[43m \u001b[49m\u001b[43mvisit\u001b[49m\u001b[38;5;241;43m=\u001b[39;49m\u001b[43mthe_exposure\u001b[49m\u001b[43m,\u001b[49m\u001b[43m \u001b[49m\u001b[43mdetector\u001b[49m\u001b[38;5;241;43m=\u001b[39;49m\u001b[38;5;241;43m0\u001b[39;49m\u001b[43m,\u001b[49m\u001b[43m \u001b[49m\u001b[43mcollections\u001b[49m\u001b[38;5;241;43m=\u001b[39;49m\u001b[43mmy_collection\u001b[49m\u001b[43m,\u001b[49m\u001b[43m \u001b[49m\u001b[43minstrument\u001b[49m\u001b[38;5;241;43m=\u001b[39;49m\u001b[38;5;124;43m'\u001b[39;49m\u001b[38;5;124;43mLATISS\u001b[39;49m\u001b[38;5;124;43m'\u001b[39;49m\u001b[43m)\u001b[49m\n\u001b[1;32m      5\u001b[0m \u001b[38;5;28;01mif\u001b[39;00m i \u001b[38;5;241m>\u001b[39m \u001b[38;5;241m2\u001b[39m:\n\u001b[1;32m      6\u001b[0m     \u001b[38;5;28;01mbreak\u001b[39;00m\n",
      "File \u001b[0;32m/opt/lsst/software/stack/stack/miniconda3-py38_4.9.2-7.0.1/Linux64/daf_butler/ge89626a060+c4141ea9c4/python/lsst/daf/butler/direct_butler.py:1198\u001b[0m, in \u001b[0;36mDirectButler.get\u001b[0;34m(self, datasetRefOrType, dataId, parameters, collections, storageClass, **kwargs)\u001b[0m\n\u001b[1;32m   1194\u001b[0m _LOG\u001b[38;5;241m.\u001b[39mdebug(\u001b[38;5;124m\"\u001b[39m\u001b[38;5;124mButler get: \u001b[39m\u001b[38;5;132;01m%s\u001b[39;00m\u001b[38;5;124m, dataId=\u001b[39m\u001b[38;5;132;01m%s\u001b[39;00m\u001b[38;5;124m, parameters=\u001b[39m\u001b[38;5;132;01m%s\u001b[39;00m\u001b[38;5;124m\"\u001b[39m, datasetRefOrType, dataId, parameters)\n\u001b[1;32m   1195\u001b[0m ref \u001b[38;5;241m=\u001b[39m \u001b[38;5;28mself\u001b[39m\u001b[38;5;241m.\u001b[39m_findDatasetRef(\n\u001b[1;32m   1196\u001b[0m     datasetRefOrType, dataId, collections\u001b[38;5;241m=\u001b[39mcollections, datastore_records\u001b[38;5;241m=\u001b[39m\u001b[38;5;28;01mTrue\u001b[39;00m, \u001b[38;5;241m*\u001b[39m\u001b[38;5;241m*\u001b[39mkwargs\n\u001b[1;32m   1197\u001b[0m )\n\u001b[0;32m-> 1198\u001b[0m \u001b[38;5;28;01mreturn\u001b[39;00m \u001b[38;5;28;43mself\u001b[39;49m\u001b[38;5;241;43m.\u001b[39;49m\u001b[43m_datastore\u001b[49m\u001b[38;5;241;43m.\u001b[39;49m\u001b[43mget\u001b[49m\u001b[43m(\u001b[49m\u001b[43mref\u001b[49m\u001b[43m,\u001b[49m\u001b[43m \u001b[49m\u001b[43mparameters\u001b[49m\u001b[38;5;241;43m=\u001b[39;49m\u001b[43mparameters\u001b[49m\u001b[43m,\u001b[49m\u001b[43m \u001b[49m\u001b[43mstorageClass\u001b[49m\u001b[38;5;241;43m=\u001b[39;49m\u001b[43mstorageClass\u001b[49m\u001b[43m)\u001b[49m\n",
      "File \u001b[0;32m/opt/lsst/software/stack/stack/miniconda3-py38_4.9.2-7.0.1/Linux64/daf_butler/ge89626a060+c4141ea9c4/python/lsst/daf/butler/datastores/fileDatastore.py:2413\u001b[0m, in \u001b[0;36mFileDatastore.get\u001b[0;34m(self, ref, parameters, storageClass)\u001b[0m\n\u001b[1;32m   2406\u001b[0m \u001b[38;5;28;01melse\u001b[39;00m:\n\u001b[1;32m   2407\u001b[0m     \u001b[38;5;66;03m# For an assembled composite this could be a derived\u001b[39;00m\n\u001b[1;32m   2408\u001b[0m     \u001b[38;5;66;03m# component derived from a real component. The validity\u001b[39;00m\n\u001b[1;32m   2409\u001b[0m     \u001b[38;5;66;03m# of the parameters is not clear. For now validate against\u001b[39;00m\n\u001b[1;32m   2410\u001b[0m     \u001b[38;5;66;03m# the composite storage class\u001b[39;00m\n\u001b[1;32m   2411\u001b[0m     getInfo\u001b[38;5;241m.\u001b[39mformatter\u001b[38;5;241m.\u001b[39mfileDescriptor\u001b[38;5;241m.\u001b[39mstorageClass\u001b[38;5;241m.\u001b[39mvalidateParameters(parameters)\n\u001b[0;32m-> 2413\u001b[0m \u001b[38;5;28;01mreturn\u001b[39;00m \u001b[38;5;28;43mself\u001b[39;49m\u001b[38;5;241;43m.\u001b[39;49m\u001b[43m_read_artifact_into_memory\u001b[49m\u001b[43m(\u001b[49m\u001b[43mgetInfo\u001b[49m\u001b[43m,\u001b[49m\u001b[43m \u001b[49m\u001b[43mref\u001b[49m\u001b[43m,\u001b[49m\u001b[43m \u001b[49m\u001b[43misComponent\u001b[49m\u001b[38;5;241;43m=\u001b[39;49m\u001b[43misComponent\u001b[49m\u001b[43m,\u001b[49m\u001b[43m \u001b[49m\u001b[43mcache_ref\u001b[49m\u001b[38;5;241;43m=\u001b[39;49m\u001b[43mcache_ref\u001b[49m\u001b[43m)\u001b[49m\n",
      "File \u001b[0;32m/opt/lsst/software/stack/stack/miniconda3-py38_4.9.2-7.0.1/Linux64/daf_butler/ge89626a060+c4141ea9c4/python/lsst/daf/butler/datastores/fileDatastore.py:1503\u001b[0m, in \u001b[0;36mFileDatastore._read_artifact_into_memory\u001b[0;34m(self, getInfo, ref, isComponent, cache_ref)\u001b[0m\n\u001b[1;32m   1501\u001b[0m         result \u001b[38;5;241m=\u001b[39m formatter\u001b[38;5;241m.\u001b[39mread(component\u001b[38;5;241m=\u001b[39mgetInfo\u001b[38;5;241m.\u001b[39mcomponent \u001b[38;5;28;01mif\u001b[39;00m isComponent \u001b[38;5;28;01melse\u001b[39;00m \u001b[38;5;28;01mNone\u001b[39;00m)\n\u001b[1;32m   1502\u001b[0m \u001b[38;5;28;01mexcept\u001b[39;00m \u001b[38;5;167;01mException\u001b[39;00m \u001b[38;5;28;01mas\u001b[39;00m e:\n\u001b[0;32m-> 1503\u001b[0m     \u001b[38;5;28;01mraise\u001b[39;00m \u001b[38;5;167;01mValueError\u001b[39;00m(\n\u001b[1;32m   1504\u001b[0m         \u001b[38;5;124mf\u001b[39m\u001b[38;5;124m\"\u001b[39m\u001b[38;5;124mFailure from formatter \u001b[39m\u001b[38;5;124m'\u001b[39m\u001b[38;5;132;01m{\u001b[39;00mformatter\u001b[38;5;241m.\u001b[39mname()\u001b[38;5;132;01m}\u001b[39;00m\u001b[38;5;124m'\u001b[39m\u001b[38;5;124m for dataset \u001b[39m\u001b[38;5;132;01m{\u001b[39;00mref\u001b[38;5;241m.\u001b[39mid\u001b[38;5;132;01m}\u001b[39;00m\u001b[38;5;124m\"\u001b[39m\n\u001b[1;32m   1505\u001b[0m         \u001b[38;5;124mf\u001b[39m\u001b[38;5;124m\"\u001b[39m\u001b[38;5;124m (\u001b[39m\u001b[38;5;132;01m{\u001b[39;00mref\u001b[38;5;241m.\u001b[39mdatasetType\u001b[38;5;241m.\u001b[39mname\u001b[38;5;132;01m}\u001b[39;00m\u001b[38;5;124m from \u001b[39m\u001b[38;5;132;01m{\u001b[39;00muri\u001b[38;5;132;01m}\u001b[39;00m\u001b[38;5;124m): \u001b[39m\u001b[38;5;132;01m{\u001b[39;00me\u001b[38;5;132;01m}\u001b[39;00m\u001b[38;5;124m\"\u001b[39m\n\u001b[1;32m   1506\u001b[0m     ) \u001b[38;5;28;01mfrom\u001b[39;00m \u001b[38;5;21;01me\u001b[39;00m\n\u001b[1;32m   1508\u001b[0m \u001b[38;5;66;03m# File was read successfully so can move to cache\u001b[39;00m\n\u001b[1;32m   1509\u001b[0m \u001b[38;5;28;01mif\u001b[39;00m can_be_cached:\n",
      "\u001b[0;31mValueError\u001b[0m: Failure from formatter 'lsst.pipe.base.formatters.pexConfig.PexConfigFormatter' for dataset d8107112-0832-48b8-aba4-a80780ec0f01 (characterizeImage_config from s3://rubin-summit-users/LATISS/runs/AUXTEL_DRP_IMAGING_2023-11A-10A-09AB-08ABC-07AB-05AB/w_2023_46/PREOPS-4553/20231117T150928Z/characterizeImage_config/characterizeImage_config_LATISS_runs_AUXTEL_DRP_IMAGING_2023-11A-10A-09AB-08ABC-07AB-05AB_w_2023_46_PREOPS-4553_20231117T150928Z.py): 'ComputeExposureSummaryStatsConfig' object has no attribute 'starSelector'"
     ]
    }
   ],
   "source": [
    "for i, ref in enumerate(datasetRefs):\n",
    "    print(\"========================datasetType = characterizeImage_config ============================================\")\n",
    "    print(\"fullId..................:\",ref.dataId.full)\n",
    "    cf = butler.get('characterizeImage_config', visit=the_exposure, detector=0, collections=my_collection, instrument='LATISS')\n",
    "    if i > 2:\n",
    "        break"
   ]
  },
  {
   "cell_type": "code",
   "execution_count": 30,
   "id": "37f782cd-58ad-4af5-9914-9271957e7573",
   "metadata": {
    "execution": {
     "iopub.execute_input": "2023-12-20T16:37:24.992524Z",
     "iopub.status.busy": "2023-12-20T16:37:24.992305Z",
     "iopub.status.idle": "2023-12-20T16:37:25.006771Z",
     "shell.execute_reply": "2023-12-20T16:37:25.006279Z",
     "shell.execute_reply.started": "2023-12-20T16:37:24.992509Z"
    }
   },
   "outputs": [
    {
     "ename": "NameError",
     "evalue": "name 'cf' is not defined",
     "output_type": "error",
     "traceback": [
      "\u001b[0;31m---------------------------------------------------------------------------\u001b[0m",
      "\u001b[0;31mNameError\u001b[0m                                 Traceback (most recent call last)",
      "Cell \u001b[0;32mIn[30], line 1\u001b[0m\n\u001b[0;32m----> 1\u001b[0m \u001b[43mcf\u001b[49m\u001b[38;5;241m.\u001b[39mto_dict()\n",
      "\u001b[0;31mNameError\u001b[0m: name 'cf' is not defined"
     ]
    }
   ],
   "source": [
    "cf.to_dict()"
   ]
  },
  {
   "cell_type": "markdown",
   "id": "d55664f3-ec54-4add-b3ef-77e8a9760537",
   "metadata": {},
   "source": [
    "## characterizeImage_metadata"
   ]
  },
  {
   "cell_type": "code",
   "execution_count": 23,
   "id": "b942ef27-48ee-45e5-aa92-c0fabd711dd6",
   "metadata": {
    "execution": {
     "iopub.execute_input": "2023-12-20T16:36:00.502253Z",
     "iopub.status.busy": "2023-12-20T16:36:00.501962Z",
     "iopub.status.idle": "2023-12-20T16:36:00.516774Z",
     "shell.execute_reply": "2023-12-20T16:36:00.516381Z",
     "shell.execute_reply.started": "2023-12-20T16:36:00.502239Z"
    }
   },
   "outputs": [],
   "source": [
    "datasetRefs = registry.queryDatasets(datasetType='characterizeImage_metadata', collections=my_collection, where= \"instrument='LATISS'\")"
   ]
  },
  {
   "cell_type": "code",
   "execution_count": 24,
   "id": "1d61f771-4651-4aae-8601-4943501d32dd",
   "metadata": {
    "execution": {
     "iopub.execute_input": "2023-12-20T16:36:04.439605Z",
     "iopub.status.busy": "2023-12-20T16:36:04.439051Z",
     "iopub.status.idle": "2023-12-20T16:36:04.699241Z",
     "shell.execute_reply": "2023-12-20T16:36:04.698811Z",
     "shell.execute_reply.started": "2023-12-20T16:36:04.439591Z"
    }
   },
   "outputs": [
    {
     "name": "stdout",
     "output_type": "stream",
     "text": [
      "========================datasetType = characterizeImage_metadata ============================================\n",
      "fullId..................: {band: 'g', instrument: 'LATISS', detector: 0, physical_filter: 'SDSSg_65mm~empty', visit: 2023051100332}\n",
      "visit...................: 2023051100332\n",
      "band....................: g\n",
      "physical filter.........: SDSSg_65mm~empty\n",
      "run.....................: LATISS/runs/AUXTEL_DRP_IMAGING_2023-11A-10A-09AB-08ABC-07AB-05AB/w_2023_46/PREOPS-4553/20231117T150928Z\n",
      "{'day_obs': 20230511, 'seq_num': 332, 'detector': 0}\n",
      "========================datasetType = characterizeImage_metadata ============================================\n",
      "fullId..................: {band: 'i', instrument: 'LATISS', detector: 0, physical_filter: 'SDSSi_65mm~empty', visit: 2023052300636}\n",
      "visit...................: 2023052300636\n",
      "band....................: i\n",
      "physical filter.........: SDSSi_65mm~empty\n",
      "run.....................: LATISS/runs/AUXTEL_DRP_IMAGING_2023-11A-10A-09AB-08ABC-07AB-05AB/w_2023_46/PREOPS-4553/20231117T150928Z\n",
      "{'day_obs': 20230523, 'seq_num': 636, 'detector': 0}\n",
      "========================datasetType = characterizeImage_metadata ============================================\n",
      "fullId..................: {band: 'g', instrument: 'LATISS', detector: 0, physical_filter: 'SDSSg_65mm~empty', visit: 2023071800244}\n",
      "visit...................: 2023071800244\n",
      "band....................: g\n",
      "physical filter.........: SDSSg_65mm~empty\n",
      "run.....................: LATISS/runs/AUXTEL_DRP_IMAGING_2023-11A-10A-09AB-08ABC-07AB-05AB/w_2023_46/PREOPS-4553/20231117T150928Z\n",
      "{'day_obs': 20230718, 'seq_num': 244, 'detector': 0}\n",
      "========================datasetType = characterizeImage_metadata ============================================\n",
      "fullId..................: {band: 'i', instrument: 'LATISS', detector: 0, physical_filter: 'SDSSi_65mm~empty', visit: 2023052400711}\n",
      "visit...................: 2023052400711\n",
      "band....................: i\n",
      "physical filter.........: SDSSi_65mm~empty\n",
      "run.....................: LATISS/runs/AUXTEL_DRP_IMAGING_2023-11A-10A-09AB-08ABC-07AB-05AB/w_2023_46/PREOPS-4553/20231117T150928Z\n",
      "{'day_obs': 20230524, 'seq_num': 711, 'detector': 0}\n"
     ]
    }
   ],
   "source": [
    "for i, ref in enumerate(datasetRefs):\n",
    "    print(\"========================datasetType = characterizeImage_metadata ============================================\")\n",
    "    print(\"fullId..................:\",ref.dataId.full)\n",
    "    print(\"visit...................:\",ref.dataId[\"visit\"])\n",
    "    print(\"band....................:\",ref.dataId[\"band\"])\n",
    "    print(\"physical filter.........:\",ref.dataId[\"physical_filter\"])\n",
    "    print(\"run.....................:\",ref.run)\n",
    "    the_exposure = ref.dataId[\"visit\"]\n",
    "    the_day_obs = ref.dataId[\"visit\"]//100_000\n",
    "    the_seq_num = ref.dataId[\"visit\"]- the_day_obs*100_000    \n",
    "    the_dataId = {'day_obs': the_day_obs,'seq_num':the_seq_num,'detector':0}\n",
    "    print(the_dataId)\n",
    "    #spec       = butler.get('spectraction',the_dataId)\n",
    "    md = butler.get('characterizeImage_metadata', visit=the_exposure, detector=0, collections=my_collection, instrument='LATISS')\n",
    "    \n",
    "    if i > 2:\n",
    "        break"
   ]
  },
  {
   "cell_type": "code",
   "execution_count": null,
   "id": "640b9050-1cda-4861-8cc8-49ba681a7907",
   "metadata": {},
   "outputs": [],
   "source": [
    "md."
   ]
  },
  {
   "cell_type": "code",
   "execution_count": 26,
   "id": "dcc87bcc-562e-479a-883f-9fb878987a8e",
   "metadata": {
    "execution": {
     "iopub.execute_input": "2023-12-20T16:36:47.399981Z",
     "iopub.status.busy": "2023-12-20T16:36:47.399789Z",
     "iopub.status.idle": "2023-12-20T16:36:47.408306Z",
     "shell.execute_reply": "2023-12-20T16:36:47.407962Z",
     "shell.execute_reply.started": "2023-12-20T16:36:47.399967Z"
    }
   },
   "outputs": [
    {
     "data": {
      "text/plain": [
       "{'characterizeImage': {'__version__': 1,\n",
       "  'runStartUtc': ['2023-11-17T17:07:06.989605'],\n",
       "  'runStartCpuTime': [21.244996714],\n",
       "  'runStartUserTime': [18.565867],\n",
       "  'runStartSystemTime': [2.679119],\n",
       "  'runStartMaxResidentSetSize': [1879609344],\n",
       "  'runStartMinorPageFaults': [803789],\n",
       "  'runStartMajorPageFaults': [61],\n",
       "  'runStartBlockInputs': [11744],\n",
       "  'runStartBlockOutputs': [1052248],\n",
       "  'runStartVoluntaryContextSwitches': [45390],\n",
       "  'runStartInvoluntaryContextSwitches': [1275],\n",
       "  'detectMeasureAndEstimatePsfStartUtc': ['2023-11-17T17:07:08.935282',\n",
       "   '2023-11-17T17:07:17.916556'],\n",
       "  'detectMeasureAndEstimatePsfStartCpuTime': [22.244038698, 27.776319442],\n",
       "  'detectMeasureAndEstimatePsfStartUserTime': [19.511605, 24.638144],\n",
       "  'detectMeasureAndEstimatePsfStartSystemTime': [2.732419, 3.138165],\n",
       "  'detectMeasureAndEstimatePsfStartMaxResidentSetSize': [1879609344,\n",
       "   1879609344],\n",
       "  'detectMeasureAndEstimatePsfStartMinorPageFaults': [835198, 920617],\n",
       "  'detectMeasureAndEstimatePsfStartMajorPageFaults': [61, 61],\n",
       "  'detectMeasureAndEstimatePsfStartBlockInputs': [11744, 11744],\n",
       "  'detectMeasureAndEstimatePsfStartBlockOutputs': [1052248, 1052272],\n",
       "  'detectMeasureAndEstimatePsfStartVoluntaryContextSwitches': [45391, 45393],\n",
       "  'detectMeasureAndEstimatePsfStartInvoluntaryContextSwitches': [1370, 1813],\n",
       "  'detectMeasureAndEstimatePsfEndUtc': ['2023-11-17T17:07:17.551520',\n",
       "   '2023-11-17T17:07:28.741127'],\n",
       "  'detectMeasureAndEstimatePsfEndCpuTime': [27.41511372, 34.165026075],\n",
       "  'detectMeasureAndEstimatePsfEndUserTime': [24.315256, 30.718627],\n",
       "  'detectMeasureAndEstimatePsfEndSystemTime': [3.099855, 3.446396],\n",
       "  'detectMeasureAndEstimatePsfEndMaxResidentSetSize': [1879609344, 1879609344],\n",
       "  'detectMeasureAndEstimatePsfEndMinorPageFaults': [903555, 1033746],\n",
       "  'detectMeasureAndEstimatePsfEndMajorPageFaults': [61, 61],\n",
       "  'detectMeasureAndEstimatePsfEndBlockInputs': [11744, 11744],\n",
       "  'detectMeasureAndEstimatePsfEndBlockOutputs': [1052264, 1052296],\n",
       "  'detectMeasureAndEstimatePsfEndVoluntaryContextSwitches': [45393, 45399],\n",
       "  'detectMeasureAndEstimatePsfEndInvoluntaryContextSwitches': [1797, 2344],\n",
       "  'runEndUtc': ['2023-11-17T17:07:34.597229'],\n",
       "  'runEndCpuTime': [37.291329267],\n",
       "  'runEndUserTime': [33.664285],\n",
       "  'runEndSystemTime': [3.627042],\n",
       "  'runEndMaxResidentSetSize': [1879609344],\n",
       "  'runEndMinorPageFaults': [1053597],\n",
       "  'runEndMajorPageFaults': [61],\n",
       "  'runEndBlockInputs': [11744],\n",
       "  'runEndBlockOutputs': [1052320],\n",
       "  'runEndVoluntaryContextSwitches': [45399],\n",
       "  'runEndInvoluntaryContextSwitches': [2641]},\n",
       " 'characterizeImage:background': {},\n",
       " 'characterizeImage:installSimplePsf': {},\n",
       " 'characterizeImage:repair': {'__version__': 1,\n",
       "  'runStartUtc': ['2023-11-17T17:07:08.936160',\n",
       "   '2023-11-17T17:07:17.917442',\n",
       "   '2023-11-17T17:07:29.241220'],\n",
       "  'runStartCpuTime': [22.244839369, 27.777183493, 34.658633092],\n",
       "  'runStartUserTime': [19.512417, 24.638916, 31.190436],\n",
       "  'runStartSystemTime': [2.732419, 3.138263, 3.468186],\n",
       "  'runStartMaxResidentSetSize': [1879609344, 1879609344, 1879609344],\n",
       "  'runStartMinorPageFaults': [835198, 920617, 1036055],\n",
       "  'runStartMajorPageFaults': [61, 61, 61],\n",
       "  'runStartBlockInputs': [11744, 11744, 11744],\n",
       "  'runStartBlockOutputs': [1052248, 1052272, 1052304],\n",
       "  'runStartVoluntaryContextSwitches': [45391, 45393, 45399],\n",
       "  'runStartInvoluntaryContextSwitches': [1370, 1813, 2368],\n",
       "  'runEndUtc': ['2023-11-17T17:07:10.003196',\n",
       "   '2023-11-17T17:07:18.807874',\n",
       "   '2023-11-17T17:07:30.389598'],\n",
       "  'runEndCpuTime': [22.775024941, 28.300241168, 35.212114423],\n",
       "  'runEndUserTime': [20.018426, 25.151825, 31.733315],\n",
       "  'runEndSystemTime': [2.756587, 3.148404, 3.4787879999999998],\n",
       "  'runEndMaxResidentSetSize': [1879609344, 1879609344, 1879609344],\n",
       "  'runEndMinorPageFaults': [844489, 925794, 1042261],\n",
       "  'runEndMajorPageFaults': [61, 61, 61],\n",
       "  'runEndBlockInputs': [11744, 11744, 11744],\n",
       "  'runEndBlockOutputs': [1052248, 1052288, 1052304],\n",
       "  'runEndVoluntaryContextSwitches': [45391, 45393, 45399],\n",
       "  'runEndInvoluntaryContextSwitches': [1428, 1856, 2424]},\n",
       " 'characterizeImage:repair:interp': {},\n",
       " 'characterizeImage:maskStreaks': {'__version__': 1,\n",
       "  'runStartUtc': ['2023-11-17T17:07:30.389744'],\n",
       "  'runStartCpuTime': [35.212232174],\n",
       "  'runStartUserTime': [31.733442],\n",
       "  'runStartSystemTime': [3.4787879999999998],\n",
       "  'runStartMaxResidentSetSize': [1879609344],\n",
       "  'runStartMinorPageFaults': [1042261],\n",
       "  'runStartMajorPageFaults': [61],\n",
       "  'runStartBlockInputs': [11744],\n",
       "  'runStartBlockOutputs': [1052304],\n",
       "  'runStartVoluntaryContextSwitches': [45399],\n",
       "  'runStartInvoluntaryContextSwitches': [2424],\n",
       "  'findStartUtc': ['2023-11-17T17:07:30.389818'],\n",
       "  'findStartCpuTime': [35.212305271],\n",
       "  'findStartUserTime': [31.733515],\n",
       "  'findStartSystemTime': [3.4787879999999998],\n",
       "  'findStartMaxResidentSetSize': [1879609344],\n",
       "  'findStartMinorPageFaults': [1042261],\n",
       "  'findStartMajorPageFaults': [61],\n",
       "  'findStartBlockInputs': [11744],\n",
       "  'findStartBlockOutputs': [1052304],\n",
       "  'findStartVoluntaryContextSwitches': [45399],\n",
       "  'findStartInvoluntaryContextSwitches': [2424],\n",
       "  'findEndUtc': ['2023-11-17T17:07:32.434331'],\n",
       "  'findEndCpuTime': [36.231886597],\n",
       "  'findEndUserTime': [32.610578],\n",
       "  'findEndSystemTime': [3.621295],\n",
       "  'findEndMaxResidentSetSize': [1879609344],\n",
       "  'findEndMinorPageFaults': [1052608],\n",
       "  'findEndMajorPageFaults': [61],\n",
       "  'findEndBlockInputs': [11744],\n",
       "  'findEndBlockOutputs': [1052304],\n",
       "  'findEndVoluntaryContextSwitches': [45399],\n",
       "  'findEndInvoluntaryContextSwitches': [2532],\n",
       "  'runEndUtc': ['2023-11-17T17:07:32.468209'],\n",
       "  'runEndCpuTime': [36.235093713],\n",
       "  'runEndUserTime': [32.613786],\n",
       "  'runEndSystemTime': [3.621295],\n",
       "  'runEndMaxResidentSetSize': [1879609344],\n",
       "  'runEndMinorPageFaults': [1052608],\n",
       "  'runEndMajorPageFaults': [61],\n",
       "  'runEndBlockInputs': [11744],\n",
       "  'runEndBlockOutputs': [1052304],\n",
       "  'runEndVoluntaryContextSwitches': [45399],\n",
       "  'runEndInvoluntaryContextSwitches': [2533]},\n",
       " 'characterizeImage:measurePsf': {'__version__': 1,\n",
       "  'spatialFitChi2': nan,\n",
       "  'numAvailStars': 46,\n",
       "  'numGoodStars': 46,\n",
       "  'avgX': 2163.766315164445,\n",
       "  'avgY': 1958.8501060226295,\n",
       "  'runStartUtc': ['2023-11-17T17:07:16.652507', '2023-11-17T17:07:27.716465'],\n",
       "  'runStartCpuTime': [26.526684571, 33.151836637],\n",
       "  'runStartUserTime': [23.429499, 29.707714],\n",
       "  'runStartSystemTime': [3.097182, 3.444119],\n",
       "  'runStartMaxResidentSetSize': [1879609344, 1879609344],\n",
       "  'runStartMinorPageFaults': [898559, 1031566],\n",
       "  'runStartMajorPageFaults': [61, 61],\n",
       "  'runStartBlockInputs': [11744, 11744],\n",
       "  'runStartBlockOutputs': [1052256, 1052296],\n",
       "  'runStartVoluntaryContextSwitches': [45392, 45398],\n",
       "  'runStartInvoluntaryContextSwitches': [1754, 2303],\n",
       "  'runEndUtc': ['2023-11-17T17:07:17.551377', '2023-11-17T17:07:28.740947'],\n",
       "  'runEndCpuTime': [27.414994586, 34.164872598],\n",
       "  'runEndUserTime': [24.315129, 30.718463],\n",
       "  'runEndSystemTime': [3.099855, 3.446396],\n",
       "  'runEndMaxResidentSetSize': [1879609344, 1879609344],\n",
       "  'runEndMinorPageFaults': [903554, 1033746],\n",
       "  'runEndMajorPageFaults': [61, 61],\n",
       "  'runEndBlockInputs': [11744, 11744],\n",
       "  'runEndBlockOutputs': [1052264, 1052296],\n",
       "  'runEndVoluntaryContextSwitches': [45393, 45399],\n",
       "  'runEndInvoluntaryContextSwitches': [1797, 2344]},\n",
       " 'characterizeImage:measurePsf:starSelector': {},\n",
       " 'characterizeImage:measurePsf:makePsfCandidates': {},\n",
       " 'characterizeImage:measurePsf:psfDeterminer': {},\n",
       " 'characterizeImage:measurePsf:reserve': {},\n",
       " 'characterizeImage:detection': {'__version__': 1,\n",
       "  'doSmooth': True,\n",
       "  'sigma': 5.405506748271748,\n",
       "  'smoothingKernelWidth': 39,\n",
       "  'nGrow': 13,\n",
       "  'runStartUtc': ['2023-11-17T17:07:10.003639', '2023-11-17T17:07:18.808256'],\n",
       "  'runStartCpuTime': [22.77542948, 28.300595733],\n",
       "  'runStartUserTime': [20.018838, 25.152148],\n",
       "  'runStartSystemTime': [2.756587, 3.148444],\n",
       "  'runStartMaxResidentSetSize': [1879609344, 1879609344],\n",
       "  'runStartMinorPageFaults': [844512, 925794],\n",
       "  'runStartMajorPageFaults': [61, 61],\n",
       "  'runStartBlockInputs': [11744, 11744],\n",
       "  'runStartBlockOutputs': [1052248, 1052288],\n",
       "  'runStartVoluntaryContextSwitches': [45391, 45393],\n",
       "  'runStartInvoluntaryContextSwitches': [1428, 1856],\n",
       "  'detectFootprintsStartUtc': ['2023-11-17T17:07:10.003730',\n",
       "   '2023-11-17T17:07:18.808341'],\n",
       "  'detectFootprintsStartCpuTime': [22.775515401, 28.300674851],\n",
       "  'detectFootprintsStartUserTime': [20.018925, 25.152219],\n",
       "  'detectFootprintsStartSystemTime': [2.756587, 3.148453],\n",
       "  'detectFootprintsStartMaxResidentSetSize': [1879609344, 1879609344],\n",
       "  'detectFootprintsStartMinorPageFaults': [844512, 925794],\n",
       "  'detectFootprintsStartMajorPageFaults': [61, 61],\n",
       "  'detectFootprintsStartBlockInputs': [11744, 11744],\n",
       "  'detectFootprintsStartBlockOutputs': [1052248, 1052288],\n",
       "  'detectFootprintsStartVoluntaryContextSwitches': [45391, 45393],\n",
       "  'detectFootprintsStartInvoluntaryContextSwitches': [1428, 1856],\n",
       "  'detectFootprintsEndUtc': ['2023-11-17T17:07:15.951455',\n",
       "   '2023-11-17T17:07:26.806170'],\n",
       "  'detectFootprintsEndCpuTime': [25.836769833, 32.251662819],\n",
       "  'detectFootprintsEndUserTime': [22.755306, 28.818675],\n",
       "  'detectFootprintsEndSystemTime': [3.081452, 3.432973],\n",
       "  'detectFootprintsEndMaxResidentSetSize': [1879609344, 1879609344],\n",
       "  'detectFootprintsEndMinorPageFaults': [888499, 1023243],\n",
       "  'detectFootprintsEndMajorPageFaults': [61, 61],\n",
       "  'detectFootprintsEndBlockInputs': [11744, 11744],\n",
       "  'detectFootprintsEndBlockOutputs': [1052256, 1052288],\n",
       "  'detectFootprintsEndVoluntaryContextSwitches': [45392, 45398],\n",
       "  'detectFootprintsEndInvoluntaryContextSwitches': [1723, 2263],\n",
       "  'runEndUtc': ['2023-11-17T17:07:15.951768', '2023-11-17T17:07:26.806463'],\n",
       "  'runEndCpuTime': [25.837016867, 32.251901727],\n",
       "  'runEndUserTime': [22.755531, 28.818899],\n",
       "  'runEndSystemTime': [3.081483, 3.433],\n",
       "  'runEndMaxResidentSetSize': [1879609344, 1879609344],\n",
       "  'runEndMinorPageFaults': [888501, 1023245],\n",
       "  'runEndMajorPageFaults': [61, 61],\n",
       "  'runEndBlockInputs': [11744, 11744],\n",
       "  'runEndBlockOutputs': [1052256, 1052288],\n",
       "  'runEndVoluntaryContextSwitches': [45392, 45398],\n",
       "  'runEndInvoluntaryContextSwitches': [1723, 2263]},\n",
       " 'characterizeImage:detection:background': {},\n",
       " 'characterizeImage:detection:tempLocalBackground': {},\n",
       " 'characterizeImage:measurement': {'__version__': 1,\n",
       "  'runStartUtc': ['2023-11-17T17:07:15.951878',\n",
       "   '2023-11-17T17:07:26.806578',\n",
       "   '2023-11-17T17:07:32.468404'],\n",
       "  'runStartCpuTime': [25.837123817, 32.25201041, 36.235237122],\n",
       "  'runStartUserTime': [22.755626, 28.819008, 32.613939],\n",
       "  'runStartSystemTime': [3.081495, 3.433, 3.621295],\n",
       "  'runStartMaxResidentSetSize': [1879609344, 1879609344, 1879609344],\n",
       "  'runStartMinorPageFaults': [888501, 1023245, 1052610],\n",
       "  'runStartMajorPageFaults': [61, 61, 61],\n",
       "  'runStartBlockInputs': [11744, 11744, 11744],\n",
       "  'runStartBlockOutputs': [1052256, 1052288, 1052304],\n",
       "  'runStartVoluntaryContextSwitches': [45392, 45398, 45399],\n",
       "  'runStartInvoluntaryContextSwitches': [1723, 2263, 2533],\n",
       "  'runEndUtc': ['2023-11-17T17:07:16.652291',\n",
       "   '2023-11-17T17:07:27.716232',\n",
       "   '2023-11-17T17:07:34.574016'],\n",
       "  'runEndCpuTime': [26.526535973, 33.151661057, 37.280334185],\n",
       "  'runEndUserTime': [23.429341, 29.707546999999998, 33.653279],\n",
       "  'runEndSystemTime': [3.097182, 3.4441, 3.627042],\n",
       "  'runEndMaxResidentSetSize': [1879609344, 1879609344, 1879609344],\n",
       "  'runEndMinorPageFaults': [898559, 1031566, 1053586],\n",
       "  'runEndMajorPageFaults': [61, 61, 61],\n",
       "  'runEndBlockInputs': [11744, 11744, 11744],\n",
       "  'runEndBlockOutputs': [1052256, 1052296, 1052312],\n",
       "  'runEndVoluntaryContextSwitches': [45392, 45398, 45399],\n",
       "  'runEndInvoluntaryContextSwitches': [1754, 2303, 2640]},\n",
       " 'characterizeImage:measureApCorr': {},\n",
       " 'characterizeImage:measureApCorr:sourceSelector': {},\n",
       " 'characterizeImage:applyApCorr': {},\n",
       " 'characterizeImage:catalogCalculation': {'__version__': 1,\n",
       "  'runStartUtc': ['2023-11-17T17:07:34.582976'],\n",
       "  'runStartCpuTime': [37.289219099],\n",
       "  'runStartUserTime': [33.66216],\n",
       "  'runStartSystemTime': [3.627042],\n",
       "  'runStartMaxResidentSetSize': [1879609344],\n",
       "  'runStartMinorPageFaults': [1053594],\n",
       "  'runStartMajorPageFaults': [61],\n",
       "  'runStartBlockInputs': [11744],\n",
       "  'runStartBlockOutputs': [1052320],\n",
       "  'runStartVoluntaryContextSwitches': [45399],\n",
       "  'runStartInvoluntaryContextSwitches': [2640],\n",
       "  'runEndUtc': ['2023-11-17T17:07:34.597038'],\n",
       "  'runEndCpuTime': [37.29118712],\n",
       "  'runEndUserTime': [33.664133],\n",
       "  'runEndSystemTime': [3.627042],\n",
       "  'runEndMaxResidentSetSize': [1879609344],\n",
       "  'runEndMinorPageFaults': [1053597],\n",
       "  'runEndMajorPageFaults': [61],\n",
       "  'runEndBlockInputs': [11744],\n",
       "  'runEndBlockOutputs': [1052320],\n",
       "  'runEndVoluntaryContextSwitches': [45399],\n",
       "  'runEndInvoluntaryContextSwitches': [2641]},\n",
       " 'quantum': {'__version__': 1,\n",
       "  'prepUtc': ['2023-11-17T17:06:45.521830'],\n",
       "  'prepCpuTime': [19.894664132],\n",
       "  'prepUserTime': [17.416761],\n",
       "  'prepSystemTime': [2.477893],\n",
       "  'prepMaxResidentSetSize': [1879609344],\n",
       "  'prepMinorPageFaults': [757595],\n",
       "  'prepMajorPageFaults': [61],\n",
       "  'prepBlockInputs': [11744],\n",
       "  'prepBlockOutputs': [857120],\n",
       "  'prepVoluntaryContextSwitches': [39093],\n",
       "  'prepInvoluntaryContextSwitches': [1198],\n",
       "  'initUtc': ['2023-11-17T17:06:45.561606'],\n",
       "  'initCpuTime': [19.900750999],\n",
       "  'initUserTime': [17.422846],\n",
       "  'initSystemTime': [2.477894],\n",
       "  'initMaxResidentSetSize': [1879609344],\n",
       "  'initMinorPageFaults': [757602],\n",
       "  'initMajorPageFaults': [61],\n",
       "  'initBlockInputs': [11744],\n",
       "  'initBlockOutputs': [857128],\n",
       "  'initVoluntaryContextSwitches': [39097],\n",
       "  'initInvoluntaryContextSwitches': [1198],\n",
       "  'startUtc': ['2023-11-17T17:06:45.582989'],\n",
       "  'startCpuTime': [19.909439715],\n",
       "  'startUserTime': [17.431464],\n",
       "  'startSystemTime': [2.477965],\n",
       "  'startMaxResidentSetSize': [1879609344],\n",
       "  'startMinorPageFaults': [757727],\n",
       "  'startMajorPageFaults': [61],\n",
       "  'startBlockInputs': [11744],\n",
       "  'startBlockOutputs': [857128],\n",
       "  'startVoluntaryContextSwitches': [39100],\n",
       "  'startInvoluntaryContextSwitches': [1199],\n",
       "  'endUtc': ['2023-11-17T17:07:56.557770'],\n",
       "  'endCpuTime': [40.719380699],\n",
       "  'endUserTime': [36.885661],\n",
       "  'endSystemTime': [3.833705],\n",
       "  'endMaxResidentSetSize': [1879609344],\n",
       "  'endMinorPageFaults': [1066510],\n",
       "  'endMajorPageFaults': [61],\n",
       "  'endBlockInputs': [11744],\n",
       "  'endBlockOutputs': [1264712],\n",
       "  'endVoluntaryContextSwitches': [48812],\n",
       "  'endInvoluntaryContextSwitches': [2888]}}"
      ]
     },
     "execution_count": 26,
     "metadata": {},
     "output_type": "execute_result"
    }
   ],
   "source": [
    "md.to_dict()"
   ]
  },
  {
   "cell_type": "markdown",
   "id": "9c38e4e5-2c32-4826-99be-ff3458096476",
   "metadata": {},
   "source": [
    "## characterizeImage_log"
   ]
  },
  {
   "cell_type": "code",
   "execution_count": 27,
   "id": "d477dd8f-c7a4-4b87-b5f3-8833fff759b5",
   "metadata": {
    "execution": {
     "iopub.execute_input": "2023-12-20T16:36:59.255922Z",
     "iopub.status.busy": "2023-12-20T16:36:59.255422Z",
     "iopub.status.idle": "2023-12-20T16:36:59.270652Z",
     "shell.execute_reply": "2023-12-20T16:36:59.270264Z",
     "shell.execute_reply.started": "2023-12-20T16:36:59.255906Z"
    }
   },
   "outputs": [],
   "source": [
    "datasetRefs = registry.queryDatasets(datasetType='characterizeImage_log', collections=my_collection, where= \"instrument='LATISS'\")"
   ]
  },
  {
   "cell_type": "code",
   "execution_count": 28,
   "id": "41761188-4fda-4c4f-ae71-ffeb4f02b30c",
   "metadata": {
    "execution": {
     "iopub.execute_input": "2023-12-20T16:37:03.760959Z",
     "iopub.status.busy": "2023-12-20T16:37:03.760769Z",
     "iopub.status.idle": "2023-12-20T16:37:04.289593Z",
     "shell.execute_reply": "2023-12-20T16:37:04.289113Z",
     "shell.execute_reply.started": "2023-12-20T16:37:03.760945Z"
    }
   },
   "outputs": [
    {
     "name": "stdout",
     "output_type": "stream",
     "text": [
      "========================datasetType = characterizeImage_metadata ============================================\n",
      "fullId..................: {band: 'g', instrument: 'LATISS', detector: 0, physical_filter: 'SDSSg_65mm~empty', visit: 2023080300352}\n",
      "visit...................: 2023080300352\n",
      "band....................: g\n",
      "physical filter.........: SDSSg_65mm~empty\n",
      "run.....................: LATISS/runs/AUXTEL_DRP_IMAGING_2023-11A-10A-09AB-08ABC-07AB-05AB/w_2023_46/PREOPS-4553/20231117T150928Z\n",
      "{'day_obs': 20230803, 'seq_num': 352, 'detector': 0}\n",
      "========================datasetType = characterizeImage_metadata ============================================\n",
      "fullId..................: {band: 'r', instrument: 'LATISS', detector: 0, physical_filter: 'SDSSr_65mm~empty', visit: 2023070600560}\n",
      "visit...................: 2023070600560\n",
      "band....................: r\n",
      "physical filter.........: SDSSr_65mm~empty\n",
      "run.....................: LATISS/runs/AUXTEL_DRP_IMAGING_2023-11A-10A-09AB-08ABC-07AB-05AB/w_2023_46/PREOPS-4553/20231117T150928Z\n",
      "{'day_obs': 20230706, 'seq_num': 560, 'detector': 0}\n",
      "========================datasetType = characterizeImage_metadata ============================================\n",
      "fullId..................: {band: 'r', instrument: 'LATISS', detector: 0, physical_filter: 'SDSSr_65mm~empty', visit: 2023071800288}\n",
      "visit...................: 2023071800288\n",
      "band....................: r\n",
      "physical filter.........: SDSSr_65mm~empty\n",
      "run.....................: LATISS/runs/AUXTEL_DRP_IMAGING_2023-11A-10A-09AB-08ABC-07AB-05AB/w_2023_46/PREOPS-4553/20231117T150928Z\n",
      "{'day_obs': 20230718, 'seq_num': 288, 'detector': 0}\n",
      "========================datasetType = characterizeImage_metadata ============================================\n",
      "fullId..................: {band: 'i', instrument: 'LATISS', detector: 0, physical_filter: 'empty~SDSSi_65mm', visit: 2023110800285}\n",
      "visit...................: 2023110800285\n",
      "band....................: i\n",
      "physical filter.........: empty~SDSSi_65mm\n",
      "run.....................: LATISS/runs/AUXTEL_DRP_IMAGING_2023-11A-10A-09AB-08ABC-07AB-05AB/w_2023_46/PREOPS-4553/20231117T150928Z\n",
      "{'day_obs': 20231108, 'seq_num': 285, 'detector': 0}\n",
      "========================datasetType = characterizeImage_metadata ============================================\n",
      "fullId..................: {band: 'g', instrument: 'LATISS', detector: 0, physical_filter: 'SDSSg_65mm~empty', visit: 2023080300539}\n",
      "visit...................: 2023080300539\n",
      "band....................: g\n",
      "physical filter.........: SDSSg_65mm~empty\n",
      "run.....................: LATISS/runs/AUXTEL_DRP_IMAGING_2023-11A-10A-09AB-08ABC-07AB-05AB/w_2023_46/PREOPS-4553/20231117T150928Z\n",
      "{'day_obs': 20230803, 'seq_num': 539, 'detector': 0}\n",
      "========================datasetType = characterizeImage_metadata ============================================\n",
      "fullId..................: {band: 'r', instrument: 'LATISS', detector: 0, physical_filter: 'SDSSr_65mm~empty', visit: 2023080300707}\n",
      "visit...................: 2023080300707\n",
      "band....................: r\n",
      "physical filter.........: SDSSr_65mm~empty\n",
      "run.....................: LATISS/runs/AUXTEL_DRP_IMAGING_2023-11A-10A-09AB-08ABC-07AB-05AB/w_2023_46/PREOPS-4553/20231117T150928Z\n",
      "{'day_obs': 20230803, 'seq_num': 707, 'detector': 0}\n",
      "========================datasetType = characterizeImage_metadata ============================================\n",
      "fullId..................: {band: 'r', instrument: 'LATISS', detector: 0, physical_filter: 'SDSSr_65mm~empty', visit: 2023070600440}\n",
      "visit...................: 2023070600440\n",
      "band....................: r\n",
      "physical filter.........: SDSSr_65mm~empty\n",
      "run.....................: LATISS/runs/AUXTEL_DRP_IMAGING_2023-11A-10A-09AB-08ABC-07AB-05AB/w_2023_46/PREOPS-4553/20231117T150928Z\n",
      "{'day_obs': 20230706, 'seq_num': 440, 'detector': 0}\n"
     ]
    }
   ],
   "source": [
    "for i, ref in enumerate(datasetRefs):\n",
    "    print(\"========================datasetType = characterizeImage_metadata ============================================\")\n",
    "    print(\"fullId..................:\",ref.dataId.full)\n",
    "    print(\"visit...................:\",ref.dataId[\"visit\"])\n",
    "    print(\"band....................:\",ref.dataId[\"band\"])\n",
    "    print(\"physical filter.........:\",ref.dataId[\"physical_filter\"])\n",
    "    print(\"run.....................:\",ref.run)\n",
    "    the_exposure = ref.dataId[\"visit\"]\n",
    "    the_day_obs = ref.dataId[\"visit\"]//100_000\n",
    "    the_seq_num = ref.dataId[\"visit\"]- the_day_obs*100_000    \n",
    "    the_dataId = {'day_obs': the_day_obs,'seq_num':the_seq_num,'detector':0}\n",
    "    print(the_dataId)\n",
    "    #spec       = butler.get('spectraction',the_dataId)\n",
    "    log = butler.get('characterizeImage_log', visit=the_exposure, detector=0, collections=my_collection, instrument='LATISS')\n",
    "    \n",
    "    if i > 5:\n",
    "        break"
   ]
  },
  {
   "cell_type": "code",
   "execution_count": 29,
   "id": "38cb17b3-5c74-4290-a7f3-2e8f9a637c82",
   "metadata": {
    "execution": {
     "iopub.execute_input": "2023-12-20T16:37:08.009030Z",
     "iopub.status.busy": "2023-12-20T16:37:08.008525Z",
     "iopub.status.idle": "2023-12-20T16:37:08.012360Z",
     "shell.execute_reply": "2023-12-20T16:37:08.011999Z",
     "shell.execute_reply.started": "2023-12-20T16:37:08.009016Z"
    }
   },
   "outputs": [
    {
     "name": "stdout",
     "output_type": "stream",
     "text": [
      "INFO 2023-11-17T17:11:08.398460+00:00 lsst.ctrl.mpexec.singleQuantumExecutor singleQuantumExecutor.py:204 - Preparing execution of quantum for label=characterizeImage dataId={instrument: 'LATISS', detector: 0, visit: 2023070600440, ...}.\n",
      "INFO 2023-11-17T17:11:08.601549+00:00 lsst.ctrl.mpexec.singleQuantumExecutor singleQuantumExecutor.py:256 - Constructing task and executing quantum for label=characterizeImage dataId={instrument: 'LATISS', detector: 0, visit: 2023070600440, ...}.\n",
      "INFO 2023-11-17T17:11:15.199823+00:00 lsst.characterizeImage characterizeImage.py:512 - PSF estimation initialized with 'simple' PSF\n",
      "INFO 2023-11-17T17:11:15.821129+00:00 lsst.characterizeImage.repair repair.py:229 - Identified and kept 39 cosmic rays.\n",
      "INFO 2023-11-17T17:11:17.252640+00:00 lsst.characterizeImage.detection detection.py:560 - Setting factor for negative detections equal to that for positive detections: 1.000000\n",
      "INFO 2023-11-17T17:11:18.442909+00:00 lsst.characterizeImage.detection detection.py:650 - Detected 67 positive peaks in 41 footprints and 7 negative peaks in 1 footprints to 36 +ve and 36 -ve sigma\n",
      "INFO 2023-11-17T17:11:19.131742+00:00 lsst.characterizeImage.detection detection.py:675 - Resubtracting the background after object detection\n",
      "INFO 2023-11-17T17:11:20.590240+00:00 lsst.characterizeImage.measurement sfm.py:292 - Measuring 41 sources (41 parents, 0 children) \n",
      "INFO 2023-11-17T17:11:20.663044+00:00 lsst.characterizeImage.measurePsf measurePsf.py:166 - Measuring PSF\n",
      "INFO 2023-11-17T17:11:20.697152+00:00 lsst.characterizeImage.measurePsf measurePsf.py:182 - PSF star selector found 16 candidates\n",
      "INFO 2023-11-17T17:11:20.697768+00:00 lsst.characterizeImage.measurePsf.reserve reserveSourcesTask.py:110 - Reserved 0/16 sources\n",
      "INFO 2023-11-17T17:11:20.698190+00:00 lsst.characterizeImage.measurePsf measurePsf.py:193 - Sending 16 candidates to PSF determiner\n",
      "INFO 2023-11-17T17:11:21.489103+00:00 lsst.characterizeImage.measurePsf measurePsf.py:206 - PSF determination using 16/16 stars.\n",
      "INFO 2023-11-17T17:11:21.844516+00:00 lsst.characterizeImage characterizeImage.py:418 - iter 1; PSF sigma=5.0411, dimensions=(71, 71); median background=48.00\n",
      "INFO 2023-11-17T17:11:21.845390+00:00 lsst.characterizeImage characterizeImage.py:512 - PSF estimation initialized with 'simple' PSF\n",
      "INFO 2023-11-17T17:11:22.438897+00:00 lsst.characterizeImage.repair repair.py:229 - Identified and kept 34 cosmic rays.\n",
      "INFO 2023-11-17T17:11:24.905635+00:00 lsst.characterizeImage.detection detection.py:560 - Setting factor for negative detections equal to that for positive detections: 1.000000\n",
      "INFO 2023-11-17T17:11:26.101072+00:00 lsst.characterizeImage.detection detection.py:650 - Detected 55 positive peaks in 51 footprints and 2 negative peaks in 1 footprints to 36 +ve and 36 -ve sigma\n",
      "INFO 2023-11-17T17:11:26.886661+00:00 lsst.characterizeImage.detection detection.py:675 - Resubtracting the background after object detection\n",
      "INFO 2023-11-17T17:11:28.097263+00:00 lsst.characterizeImage.measurement sfm.py:292 - Measuring 51 sources (51 parents, 0 children) \n",
      "INFO 2023-11-17T17:11:28.240009+00:00 lsst.characterizeImage.measurePsf measurePsf.py:166 - Measuring PSF\n",
      "INFO 2023-11-17T17:11:28.304659+00:00 lsst.characterizeImage.measurePsf measurePsf.py:182 - PSF star selector found 23 candidates\n",
      "INFO 2023-11-17T17:11:28.305246+00:00 lsst.characterizeImage.measurePsf.reserve reserveSourcesTask.py:110 - Reserved 0/23 sources\n",
      "INFO 2023-11-17T17:11:28.305685+00:00 lsst.characterizeImage.measurePsf measurePsf.py:193 - Sending 23 candidates to PSF determiner\n",
      "INFO 2023-11-17T17:11:29.071218+00:00 lsst.characterizeImage.measurePsf measurePsf.py:206 - PSF determination using 23/23 stars.\n",
      "INFO 2023-11-17T17:11:29.566889+00:00 lsst.characterizeImage characterizeImage.py:418 - iter 2; PSF sigma=5.0702, dimensions=(71, 71); median background=48.00\n",
      "INFO 2023-11-17T17:11:30.135534+00:00 lsst.characterizeImage.repair repair.py:229 - Identified and interpolated over 34 cosmic rays.\n",
      "INFO 2023-11-17T17:11:32.366740+00:00 lsst.characterizeImage.measurement sfm.py:292 - Measuring 51 sources (51 parents, 0 children) \n",
      "INFO 2023-11-17T17:11:32.624967+00:00 lsst.characterizeImage.measureApCorr measureApCorr.py:200 - Measuring aperture corrections for 2 flux fields\n",
      "INFO 2023-11-17T17:11:32.625789+00:00 lsst.characterizeImage.measureApCorr.sourceSelector sourceSelector.py:638 - Selected 23/51 sources\n",
      "INFO 2023-11-17T17:11:32.627746+00:00 lsst.characterizeImage.measureApCorr measureApCorr.py:301 - Aperture correction for base_GaussianFlux from 0 stars: MAD 0.042209, RMS 21.000000\n",
      "INFO 2023-11-17T17:11:32.629350+00:00 lsst.characterizeImage.measureApCorr measureApCorr.py:301 - Aperture correction for base_PsfFlux from 0 stars: MAD 0.042504, RMS 21.000000\n",
      "INFO 2023-11-17T17:11:32.629835+00:00 lsst.characterizeImage.applyApCorr applyApCorr.py:238 - Applying aperture corrections to 2 instFlux fields\n",
      "INFO 2023-11-17T17:12:11.848869+00:00 lsst.ctrl.mpexec.singleQuantumExecutor singleQuantumExecutor.py:279 - Execution of task 'characterizeImage' on quantum {instrument: 'LATISS', detector: 0, visit: 2023070600440, ...} took 63.897 seconds\n"
     ]
    }
   ],
   "source": [
    "print(log)"
   ]
  },
  {
   "cell_type": "code",
   "execution_count": null,
   "id": "b16c42bc-abe0-4a90-abd2-d2012421b104",
   "metadata": {},
   "outputs": [],
   "source": []
  }
 ],
 "metadata": {
  "kernelspec": {
   "display_name": "LSST",
   "language": "python",
   "name": "lsst"
  },
  "language_info": {
   "codemirror_mode": {
    "name": "ipython",
    "version": 3
   },
   "file_extension": ".py",
   "mimetype": "text/x-python",
   "name": "python",
   "nbconvert_exporter": "python",
   "pygments_lexer": "ipython3",
   "version": "3.11.4"
  }
 },
 "nbformat": 4,
 "nbformat_minor": 5
}
