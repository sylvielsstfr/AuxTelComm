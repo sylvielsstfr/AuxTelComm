{
 "cells": [
  {
   "cell_type": "markdown",
   "id": "0b8c2138-5194-4d03-8b77-be24e2cc8ee3",
   "metadata": {},
   "source": [
    "# Extract deep coadds"
   ]
  },
  {
   "cell_type": "markdown",
   "id": "740e34fb-3fef-45a8-941b-c229742ab016",
   "metadata": {},
   "source": [
    " work with Weakly_2022_44\n",
    "- use jupyter kernel LSST\n",
    "\n",
    "\n",
    "- author : Sylvie Dagoret-Campagne\n",
    "- affiliation : IJCLab\n",
    "- creation date : 2023/12/22\n",
    "- update : 2023/12/29\n"
   ]
  },
  {
   "cell_type": "code",
   "execution_count": null,
   "id": "ed2c3410-fe83-432e-ab87-9f4513fa8d8b",
   "metadata": {},
   "outputs": [],
   "source": [
    "! eups list -s | grep LOCAL"
   ]
  },
  {
   "cell_type": "code",
   "execution_count": null,
   "id": "70918d81-0cf6-4b0a-8f61-f5e5bec5b0e7",
   "metadata": {},
   "outputs": [],
   "source": [
    "! eups list -s lsst_distrib"
   ]
  },
  {
   "cell_type": "code",
   "execution_count": null,
   "id": "f8d9cfca-5881-48c1-b2cb-0f794a2e4091",
   "metadata": {},
   "outputs": [],
   "source": [
    "import lsst.daf.butler as dafButler\n",
    "import lsst.daf.base as dafBase"
   ]
  },
  {
   "cell_type": "code",
   "execution_count": null,
   "id": "1ceacda9-20b0-4d77-a0d2-572c957ce273",
   "metadata": {},
   "outputs": [],
   "source": [
    "import numpy as np\n",
    "import matplotlib.pyplot as plt\n",
    "import matplotlib as mpl\n",
    "import matplotlib.cm as cm \n",
    "import matplotlib.colors as colors\n",
    "import matplotlib.cm as cmx\n",
    "import matplotlib.dates as mdates\n",
    "%matplotlib inline\n",
    "from mpl_toolkits.axes_grid1 import make_axes_locatable\n",
    "from matplotlib.colors import LogNorm\n",
    "import pandas as pd\n",
    "\n",
    "import matplotlib.ticker                         # here's where the formatter is\n",
    "import os\n",
    "import re\n",
    "import pandas as pd\n",
    "\n",
    "plt.rcParams[\"figure.figsize\"] = (4,3)\n",
    "plt.rcParams[\"axes.labelsize\"] = 'xx-large'\n",
    "plt.rcParams['axes.titlesize'] = 'xx-large'\n",
    "plt.rcParams['xtick.labelsize']= 'xx-large'\n",
    "plt.rcParams['ytick.labelsize']= 'xx-large'"
   ]
  },
  {
   "cell_type": "code",
   "execution_count": null,
   "id": "3c373d2d-e7e7-4b70-9290-56208884f154",
   "metadata": {},
   "outputs": [],
   "source": [
    "import lsst.afw.image as afwImage\n",
    "import lsst.afw.display as afwDisplay\n",
    "import lsst.afw.table as afwTable\n",
    "import lsst.geom as geom\n",
    "import pprint"
   ]
  },
  {
   "cell_type": "code",
   "execution_count": null,
   "id": "149a62b7-f35f-40ab-9d2f-e6587ea61053",
   "metadata": {},
   "outputs": [],
   "source": [
    "#Set the matplotlib plot color table.\n",
    "plt.style.use('tableau-colorblind10')"
   ]
  },
  {
   "cell_type": "code",
   "execution_count": null,
   "id": "1b28c925-fab1-426f-9aee-d75df0647362",
   "metadata": {},
   "outputs": [],
   "source": [
    "# Let us also set `lsst.afw.display` to use the `matplotlib` backend:\n",
    "afwDisplay.setDefaultBackend('matplotlib')\n",
    "plt.rcParams['figure.figsize'] = (6.0, 6.0)"
   ]
  },
  {
   "cell_type": "code",
   "execution_count": null,
   "id": "1c81d99a-5e91-4ba1-ba4a-c66b37905b98",
   "metadata": {},
   "outputs": [],
   "source": [
    "#repo =  \"/sdf/group/rubin/repo/main\"\n",
    "repo = \"/sdf/group/rubin/repo/oga/\"\n",
    "butler = dafButler.Butler(repo)\n",
    "registry = butler.registry"
   ]
  },
  {
   "cell_type": "markdown",
   "id": "20dbb8da-3a08-4b4f-9437-4bf7f28c1782",
   "metadata": {},
   "source": [
    "## Give the collection"
   ]
  },
  {
   "cell_type": "code",
   "execution_count": null,
   "id": "9629ea29-8ab4-4062-aed1-e16d62dc90c4",
   "metadata": {},
   "outputs": [],
   "source": [
    "my_collection = \"LATISS/runs/AUXTEL_DRP_IMAGING_2023-11A-10A-09AB-08ABC-07AB-05AB/w_2023_46/PREOPS-4553\""
   ]
  },
  {
   "cell_type": "markdown",
   "id": "a7587b10-c178-4537-9c34-60867b69fa01",
   "metadata": {},
   "source": [
    "## Config"
   ]
  },
  {
   "cell_type": "markdown",
   "id": "432e82a4-5617-48b3-a5bb-1f2c550c8525",
   "metadata": {},
   "source": [
    "## deepCoadd"
   ]
  },
  {
   "cell_type": "code",
   "execution_count": null,
   "id": "38349d38-ae86-48c9-8037-370a62cd522d",
   "metadata": {},
   "outputs": [],
   "source": [
    "datasetRefs = registry.queryDatasets(datasetType='deepCoadd', collections=my_collection, where= \"instrument='LATISS'\")"
   ]
  },
  {
   "cell_type": "code",
   "execution_count": null,
   "id": "b62be7a7-73bf-4e4e-a4f8-99e1105dee22",
   "metadata": {},
   "outputs": [],
   "source": [
    "all_dataId = []\n",
    "all_deepcoadds  = []\n",
    "all_titles = []\n",
    "all_deepcoadds_inputs = []\n",
    "\n",
    "for i, ref in enumerate(datasetRefs):\n",
    "   \n",
    "    print(f\"========({i})================datasetType = deepCoadd ============================================\")\n",
    "    print(\"fullId..................:\",ref.dataId.full)\n",
    "    print(\"band....................:\",ref.dataId[\"band\"])\n",
    "    print(\"skymap..................:\",ref.dataId[\"skymap\"])\n",
    "    print(\"tract..................:\",ref.dataId[\"tract\"])\n",
    "    print(\"patch..................:\",ref.dataId[\"patch\"])\n",
    "    print(\"run.....................:\",ref.run)\n",
    "    band = ref.dataId[\"band\"]\n",
    "    tract = ref.dataId[\"tract\"]\n",
    "    patch = ref.dataId[\"patch\"]\n",
    "    skymap = ref.dataId[\"skymap\"]\n",
    "\n",
    "    the_dataId = {'skymap':skymap,'band': band, 'tract': tract, 'patch': patch}\n",
    "    the_title = f\"Auxtel deepCoadd : band={band}, tract={tract}, patch={patch}\" \n",
    "    my_deepCoadd = butler.get('deepCoadd', dataId=ref.dataId.full,collections=my_collection)\n",
    "    #my_deepCoadd_inputs = butler.get(\"deepCoadd.coaddInputs\", ref.dataId.full)\n",
    "    all_dataId.append(the_dataId) \n",
    "    all_deepcoadds.append(my_deepCoadd)\n",
    "    all_titles.append(the_title)\n",
    "    #all_deepcoadds_inputs.append(my_deepCoadd_inputs)\n",
    "    \n",
    "    if i > 10:\n",
    "        break"
   ]
  },
  {
   "cell_type": "markdown",
   "id": "fb9793e8-4bd4-4a40-86fe-c2c9b390ec41",
   "metadata": {},
   "source": [
    "# Select the index"
   ]
  },
  {
   "cell_type": "code",
   "execution_count": null,
   "id": "494fa52b-651d-4f97-b092-d7d87880b175",
   "metadata": {},
   "outputs": [],
   "source": [
    "N = len(all_deepcoadds)\n",
    "\n",
    "for index in range(N):\n",
    "    print(index,all_titles[index])\n"
   ]
  },
  {
   "cell_type": "code",
   "execution_count": null,
   "id": "76b5ac58-ea1c-4d7a-983e-4ff9e676be6b",
   "metadata": {},
   "outputs": [],
   "source": [
    "all_tracts = np.array([5616, 5634, 5615, 10644, 383, 8188, 3863, 455, 452, 5839, 10643, 382])"
   ]
  },
  {
   "cell_type": "code",
   "execution_count": null,
   "id": "527cbca8-02cd-4ac8-bfb1-aced836f4021",
   "metadata": {},
   "outputs": [],
   "source": [
    "#index = 0 # medium, patchy, no entire patch, but low density\n",
    "#index = 1 # dense field, tract 5634, patch 72,73, 91, 92\n",
    "index = 2 # medium density field  in tract 5615, patch 294 and 313\n",
    "#index = 3 # solar system avoid\n",
    "#index = 4 # too big on latitude\n",
    "#index = 5 # too low latitude\n",
    "#index = 6 # low density tract 3863 good patch 242,243\n",
    "#index = 7 # too dense\n",
    "#index= 8 # good patch 43\n",
    "#index = 9 # not interesting\n",
    "#index = 10 # not interesting\n",
    "#index = 11 # too dense\n",
    "itract_sel = all_tracts[index]\n"
   ]
  },
  {
   "cell_type": "code",
   "execution_count": null,
   "id": "d38af66d-8a57-49f5-a18a-bcf8bb14bdd7",
   "metadata": {},
   "outputs": [],
   "source": [
    "the_dataid = all_dataId[index]\n",
    "the_deepcoadd = all_deepcoadds[index]\n",
    "the_title = all_titles[index]"
   ]
  },
  {
   "cell_type": "code",
   "execution_count": null,
   "id": "a8a8fb22-9fe5-49b8-8b6c-0abee0808fdd",
   "metadata": {},
   "outputs": [],
   "source": [
    "#deepCoadd_inputs = tempButler.get(\"deepCoadd.coaddInputs\", my_dataId)"
   ]
  },
  {
   "cell_type": "code",
   "execution_count": null,
   "id": "2691523b-d312-4c96-b711-a1762aa2be7b",
   "metadata": {},
   "outputs": [],
   "source": []
  },
  {
   "cell_type": "code",
   "execution_count": null,
   "id": "26a93a92-bcba-41d1-a687-c2f55dedd6e7",
   "metadata": {},
   "outputs": [],
   "source": [
    "# Plot the calexp we just retrieved\n",
    "plt.figure()\n",
    "afw_display = afwDisplay.Display()\n",
    "afw_display.scale('asinh', 'zscale')\n",
    "afw_display.mtv(the_deepcoadd.image,title=the_title )\n",
    "plt.gca().axis('on')"
   ]
  },
  {
   "cell_type": "code",
   "execution_count": null,
   "id": "b16c42bc-abe0-4a90-abd2-d2012421b104",
   "metadata": {},
   "outputs": [],
   "source": [
    "# Plot the calexp we just retrieved\n",
    "plt.figure()\n",
    "afw_display = afwDisplay.Display()\n",
    "afw_display.scale('asinh', 'zscale')\n",
    "afw_display.mtv(the_deepcoadd.maskedImage.image,title=the_title+\" masked\")\n",
    "plt.gca().axis('on')"
   ]
  },
  {
   "cell_type": "code",
   "execution_count": null,
   "id": "7412ce6c-8073-4f03-ac41-856b2da73685",
   "metadata": {},
   "outputs": [],
   "source": [
    "the_deepcoadd_md=dict(the_deepcoadd.getMetadata())"
   ]
  },
  {
   "cell_type": "code",
   "execution_count": null,
   "id": "ab191b8f-404b-4ee2-a268-6a61f9c1b5e1",
   "metadata": {},
   "outputs": [],
   "source": [
    "the_deepcoadd_md"
   ]
  },
  {
   "cell_type": "code",
   "execution_count": null,
   "id": "e9ec5f90-0cfe-446f-9159-579d06989ac6",
   "metadata": {},
   "outputs": [],
   "source": [
    "ccd_ymax=the_deepcoadd.getBBox().getMaxY()\n",
    "ccd_xmax=the_deepcoadd.getBBox().getMaxX()"
   ]
  },
  {
   "cell_type": "code",
   "execution_count": null,
   "id": "258eac04-f4f8-4b07-b00b-5ca8b339321d",
   "metadata": {},
   "outputs": [],
   "source": [
    "the_deepcoadd.image.array.flatten()"
   ]
  },
  {
   "cell_type": "code",
   "execution_count": null,
   "id": "23307864-856e-4c92-8bda-8a70a9c96017",
   "metadata": {},
   "outputs": [],
   "source": [
    "fig=plt.figure(figsize=(6,4))\n",
    "ax=fig.add_subplot(1,1,1)\n",
    "ax.hist(the_deepcoadd.image.array.flatten(),bins=100,range=(-50,1000),alpha=0.5,facecolor='blue')\n",
    "ax.hist(the_deepcoadd.maskedImage.image.array.flatten(),bins=100,range=(-50,1000),alpha=0.5,facecolor=\"yellow\")\n",
    "ax.set_yscale('log')\n",
    "ax.grid()\n",
    "ax.set_title(the_title)"
   ]
  },
  {
   "cell_type": "markdown",
   "id": "24761389-4fc6-49ba-8da2-2da12a7f4e28",
   "metadata": {},
   "source": [
    "# Detection of Sources"
   ]
  },
  {
   "cell_type": "markdown",
   "id": "44587222-8355-4aff-adec-90803d29bbcc",
   "metadata": {},
   "source": [
    "## Step 2: Perform image characterization and initial measurement\n",
    "We now perform a base-level characterization of the image using the stack. We set some configuration settings which are specific to our sestup which has a very small optical PSF, setting a PSF size and turning off some other aspects such as cosmic ray rejection because of this."
   ]
  },
  {
   "cell_type": "code",
   "execution_count": null,
   "id": "e7ed0677-4a8a-4af2-982a-9df3c6d689a6",
   "metadata": {},
   "outputs": [],
   "source": [
    "#from lsst.pipe.tasks.characterizeImage import CharacterizeImageTask, CharacterizeImageConfig\n",
    "#import lsst.meas.extensions.shapeHSM\n",
    "\n",
    "# first set a few configs that are specific to our beam simulator data\n",
    "charConfig = CharacterizeImageConfig()\n",
    "#this set the fwhm of the simple PSF to that of optics\n",
    "charConfig.installSimplePsf.fwhm = 10\n",
    "charConfig.doMeasurePsf = False\n",
    "charConfig.doApCorr = False # necessary\n",
    "charConfig.repair.doCosmicRay = False  \n",
    "# we do have some cosmic rays, but we also have subpixel mask features and an undersampled PSF\n",
    "charConfig.detection.background.binSize = 10   # worth playing around with\n",
    "#charConfig.background.binSize = 50\n",
    "charConfig.detection.minPixels = 10   # also worth playing around with\n",
    "\n",
    "# Add the HSM (Hirata/Seljak/Mandelbaum) adaptive moments shape measurement plugin\n",
    "charConfig.measurement.plugins.names |= [\"ext_shapeHSM_HsmSourceMoments\"]\n",
    "# to configure hsm you would do something like\n",
    "# charConfig.measurement.plugins[\"ext_shapeHSM_hsmSourceMoments\"].addFlux = True\n",
    "# (see sfm.py in meas_base for all the configuration options for the measurement task)\n",
    "\n",
    "# Turn off the summary statistic calculation for these spot images.\n",
    "# In the future there may be a specialized task for spot images.\n",
    "charConfig.doComputeSummaryStats = False\n",
    "\n",
    "charTask = CharacterizeImageTask(config=charConfig)\n",
    "\n",
    "#charTask.run?\n",
    "# use charTask.run instead of characterize for v16.0+22\n",
    "# could also perform similar functions with processCcdTask.run()"
   ]
  },
  {
   "cell_type": "code",
   "execution_count": null,
   "id": "603ecc08-38c5-44db-926a-5f79d87623d7",
   "metadata": {},
   "outputs": [],
   "source": [
    "# Display which plugins are being used for measurement\n",
    "charConfig.measurement.plugins.active "
   ]
  },
  {
   "cell_type": "code",
   "execution_count": null,
   "id": "1f8cc4cb-6fc2-4cb0-884b-0b5edcdd8e8a",
   "metadata": {},
   "outputs": [],
   "source": [
    "charResult = charTask.run(postisrccd) # charTask.run(exposure) stack v16.0+22\n",
    "print(\"Detected \",len(charResult.sourceCat),\" objects \")\n",
    "fig=plt.figure(figsize=(5,5))\n",
    "plt.title('X/Y locations of detections')\n",
    "plt.plot(charResult.sourceCat['base_SdssCentroid_x'],charResult.sourceCat['base_SdssCentroid_y'],'r.')\n",
    "plt.grid()\n",
    "plt.xlim(0,ccd_xmax)\n",
    "plt.ylim(0,ccd_ymax)"
   ]
  },
  {
   "cell_type": "markdown",
   "id": "705a2230-bee5-4aeb-95e1-a0b1c8f03b9b",
   "metadata": {},
   "source": [
    "This figure illustrates the centroids of detections made during characterization. Note that not all objects have been detected in this first round."
   ]
  },
  {
   "cell_type": "code",
   "execution_count": null,
   "id": "647e05a9-6583-4b2e-9310-d3331018cd83",
   "metadata": {},
   "outputs": [],
   "source": [
    "charResult.sourceCat.asAstropy()"
   ]
  },
  {
   "cell_type": "markdown",
   "id": "f1467455-4bd9-4530-be58-f1e58a013263",
   "metadata": {},
   "source": [
    "# Calibration and Photometry"
   ]
  },
  {
   "cell_type": "markdown",
   "id": "f2cd0f98-c6ce-4d96-91b9-44d6ae2b1a3f",
   "metadata": {},
   "source": [
    "## Step 3: Further image calibration and measurement\n",
    "This builds on the exposure output from characterization, using the new mask plane as well as the source catalog. Similar to the characterization, we turn off some processing which is suited to our particular setup.  It does provide a background-subtracted image and for completeness it is included here. The steps in calibration that are turned on/off can be seen by printing the calibration config object."
   ]
  },
  {
   "cell_type": "code",
   "execution_count": null,
   "id": "cee276e1-9fbe-442a-a17d-567196b903bf",
   "metadata": {},
   "outputs": [],
   "source": [
    "#from lsst.pipe.tasks.calibrate import CalibrateTask, CalibrateConfig\n",
    "\n",
    "calConfig = CalibrateConfig()\n",
    "calConfig.doAstrometry = False\n",
    "calConfig.doPhotoCal = False\n",
    "calConfig.doApCorr = False\n",
    "calConfig.doDeblend = False   # these are well-separated objects, deblending adds time & trouble\n",
    "# these images should have a uniform background, so measure it\n",
    "#  on scales which are larger than the objects\n",
    "calConfig.detection.background.binSize = 50\n",
    "calConfig.detection.minPixels = 5\n",
    "calConfig.measurement.plugins.names |= [\"ext_shapeHSM_HsmSourceMoments\"]\n",
    "# to configure hsm you would do something like\n",
    "#charConfig.measurement.plugins[\"ext_shapeHSM_hsmSourceMoments\"].addFlux = True\n",
    "calConfig.doComputeSummaryStats = True # no summary stats\n",
    "\n",
    "calTask = CalibrateTask(config= calConfig, icSourceSchema=charResult.sourceCat.schema)\n",
    "\n",
    "#calTask.run? # for stack v16.0+22 \n",
    "calTask.run?"
   ]
  },
  {
   "cell_type": "code",
   "execution_count": null,
   "id": "6ec1aca4-ea5a-439e-b2fc-722cd2ee4451",
   "metadata": {},
   "outputs": [],
   "source": [
    "# for stack v16.0+22, change to calTask.run(charResult.exposure)\n",
    "calResult = calTask.run(charResult.exposure, background=charResult.background,\n",
    "                              icSourceCat = charResult.sourceCat)\n",
    "\n",
    "\n",
    "print(\"Detected \",len(calResult.sourceCat),\" objects \")"
   ]
  },
  {
   "cell_type": "code",
   "execution_count": null,
   "id": "eeec7018-faf5-4eb8-8682-86dbd6a11391",
   "metadata": {},
   "outputs": [],
   "source": [
    "mytable = calResult.sourceCat.asAstropy()\n",
    "mytable"
   ]
  },
  {
   "cell_type": "markdown",
   "id": "143313c9-d474-4d7a-b81e-b40ebab7ab5b",
   "metadata": {},
   "source": [
    "### remove row with nan"
   ]
  },
  {
   "cell_type": "code",
   "execution_count": null,
   "id": "195f1c81-e3be-4743-8282-b832e7e3bd07",
   "metadata": {},
   "outputs": [],
   "source": [
    "# remove row with nan\n",
    "has_nan = np.zeros(len(mytable), dtype=bool)\n",
    "for col in mytable.itercols():\n",
    "    if col.info.dtype.kind == 'f':\n",
    "        has_nan |= np.isnan(col)\n",
    "mytable_no_nan = mytable[~has_nan]"
   ]
  },
  {
   "cell_type": "markdown",
   "id": "85b7e068-0370-4238-9d9f-d98d66c890dc",
   "metadata": {},
   "source": [
    "### rename the columns"
   ]
  },
  {
   "cell_type": "code",
   "execution_count": null,
   "id": "9ea8ea7b-3044-4dfa-8ac8-94acf5d3c55f",
   "metadata": {},
   "outputs": [],
   "source": [
    "# rename the columns\n",
    "mytable_no_nan.rename_column('base_NaiveCentroid_x', 'Xpix')\n",
    "mytable_no_nan.rename_column('base_NaiveCentroid_y', 'Ypix')\n",
    "mytable_no_nan.rename_column('base_Blendedness_abs_child_instFlux', 'abs_chld_instFlux')\n",
    "mytable_no_nan.rename_column('base_Blendedness_abs_parent_instFlux','abs_paren_instFlux')"
   ]
  },
  {
   "cell_type": "code",
   "execution_count": null,
   "id": "deafcac6-17c0-48e2-a44d-2f2d66aeee5c",
   "metadata": {},
   "outputs": [],
   "source": [
    "NN=len(mytable_no_nan)\n",
    "values = mytable_no_nan['abs_chld_instFlux'].data\n",
    "valmin = mytable_no_nan['abs_chld_instFlux'].min()\n",
    "valmax = mytable_no_nan['abs_chld_instFlux'].max()\n",
    "XX = mytable_no_nan['Xpix'].data\n",
    "YY = mytable_no_nan['Ypix'].data\n",
    "valmaxmin=valmax - valmin\n",
    "index_star = mytable_no_nan['id'].data"
   ]
  },
  {
   "cell_type": "code",
   "execution_count": null,
   "id": "9eb87482-2a3d-40ab-8502-7540a93c593a",
   "metadata": {},
   "outputs": [],
   "source": []
  },
  {
   "cell_type": "code",
   "execution_count": null,
   "id": "228736f9-ec1f-48e5-82aa-52b3a74246d9",
   "metadata": {},
   "outputs": [],
   "source": [
    "r = lambda x : (x - valmin)/valmaxmin"
   ]
  },
  {
   "cell_type": "code",
   "execution_count": null,
   "id": "70ffbdc7-2a3b-42bc-ab6a-f8d9488ae51a",
   "metadata": {},
   "outputs": [],
   "source": [
    "# wavelength bin colors\n",
    "jet = plt.get_cmap('jet')\n",
    "cNorm = colors.Normalize(vmin=r(valmin), vmax=r(valmax))\n",
    "scalarMap = cmx.ScalarMappable(norm=cNorm, cmap=jet)\n",
    "all_colors = scalarMap.to_rgba(r(values), alpha=1)"
   ]
  },
  {
   "cell_type": "code",
   "execution_count": null,
   "id": "e1ba25fa-50dd-400e-814a-13d33fe9a25e",
   "metadata": {},
   "outputs": [],
   "source": [
    "area = 200*r(values)\n",
    "dx=-50\n",
    "dy=100"
   ]
  },
  {
   "cell_type": "code",
   "execution_count": null,
   "id": "c47da2a3-feb8-4f66-aa79-0289124e7b74",
   "metadata": {},
   "outputs": [],
   "source": [
    "fig=plt.figure(figsize=(6,6))\n",
    "ax=fig.add_subplot(1,1,1)\n",
    "ax.set_title('X/Y locations of sources')\n",
    "#ax.plot(mytable_no_nan['Xpix'],mytable_no_nan['Ypix'],'k.')\n",
    "ax.scatter(mytable_no_nan['Xpix'],mytable_no_nan['Ypix'],s=area,color=all_colors)\n",
    "ax.grid()\n",
    "ax.set_xlim(0,ccd_xmax)\n",
    "ax.set_ylim(0,ccd_ymax)\n",
    "\n",
    "for idx in range(NN):\n",
    "    ax.text(XX[idx]+dx, YY[idx]+dy, str(index_star[idx]))"
   ]
  },
  {
   "cell_type": "code",
   "execution_count": null,
   "id": "e90c8b8f-7dff-4dff-bf64-e81557b577c4",
   "metadata": {},
   "outputs": [],
   "source": [
    "df_table = mytable_no_nan.to_pandas()\n",
    "df_table.columns"
   ]
  },
  {
   "cell_type": "code",
   "execution_count": null,
   "id": "09f87b67-4e67-4d49-be64-cf2deae805ff",
   "metadata": {},
   "outputs": [],
   "source": [
    "df = df_table[['id', 'coord_ra', 'coord_dec', 'Xpix','Ypix','abs_chld_instFlux'\t,'abs_paren_instFlux']]\n",
    "df"
   ]
  },
  {
   "cell_type": "code",
   "execution_count": null,
   "id": "ddde2886-802e-4f9f-97b0-eed7edfb0dc6",
   "metadata": {},
   "outputs": [],
   "source": [
    "the_max = df['abs_paren_instFlux'].describe()['max']\n",
    "the_min = df['abs_paren_instFlux'].describe()['min']"
   ]
  },
  {
   "cell_type": "code",
   "execution_count": null,
   "id": "217779c7-d132-4171-9a84-9a22518d807f",
   "metadata": {},
   "outputs": [],
   "source": [
    "fig=plt.figure(figsize=(6,4))\n",
    "ax=fig.add_subplot(1,1,1)\n",
    "ax.hist(df['abs_paren_instFlux'].values,bins=50,range=(0,the_max));\n",
    "ax.set_title(\"Flux of detected sources\")\n",
    "ax.set_xlabel('flux')\n",
    "ax.set_ylabel('number of sources')"
   ]
  },
  {
   "cell_type": "code",
   "execution_count": null,
   "id": "bd506ee0-0121-48a5-99be-1e16d87da552",
   "metadata": {},
   "outputs": [],
   "source": []
  },
  {
   "cell_type": "code",
   "execution_count": null,
   "id": "bce96a69-4559-4be3-96c4-694c2efae6f4",
   "metadata": {},
   "outputs": [],
   "source": []
  }
 ],
 "metadata": {
  "kernelspec": {
   "display_name": "LSST",
   "language": "python",
   "name": "lsst"
  },
  "language_info": {
   "codemirror_mode": {
    "name": "ipython",
    "version": 3
   },
   "file_extension": ".py",
   "mimetype": "text/x-python",
   "name": "python",
   "nbconvert_exporter": "python",
   "pygments_lexer": "ipython3",
   "version": "3.11.4"
  }
 },
 "nbformat": 4,
 "nbformat_minor": 5
}
