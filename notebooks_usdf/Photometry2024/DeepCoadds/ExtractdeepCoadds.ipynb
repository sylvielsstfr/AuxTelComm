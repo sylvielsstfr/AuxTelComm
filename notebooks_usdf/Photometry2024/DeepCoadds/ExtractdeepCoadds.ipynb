{
 "cells": [
  {
   "cell_type": "markdown",
   "id": "0b8c2138-5194-4d03-8b77-be24e2cc8ee3",
   "metadata": {},
   "source": [
    "# Extract deep coadds"
   ]
  },
  {
   "cell_type": "markdown",
   "id": "740e34fb-3fef-45a8-941b-c229742ab016",
   "metadata": {},
   "source": [
    " work with Weakly_2022_44\n",
    "- use jupyter kernel LSST\n",
    "\n",
    "\n",
    "- author : Sylvie Dagoret-Campagne\n",
    "- affiliation : IJCLab\n",
    "- creation date : 2023/12/22\n",
    "- update : 2023/12/22\n"
   ]
  },
  {
   "cell_type": "code",
   "execution_count": 1,
   "id": "ed2c3410-fe83-432e-ab87-9f4513fa8d8b",
   "metadata": {
    "execution": {
     "iopub.execute_input": "2023-12-23T18:44:05.265927Z",
     "iopub.status.busy": "2023-12-23T18:44:05.265710Z",
     "iopub.status.idle": "2023-12-23T18:44:05.620100Z",
     "shell.execute_reply": "2023-12-23T18:44:05.619492Z",
     "shell.execute_reply.started": "2023-12-23T18:44:05.265913Z"
    }
   },
   "outputs": [
    {
     "name": "stdout",
     "output_type": "stream",
     "text": [
      "analysis_tools        LOCAL:/home/d/dagoret/repos/repos_w_2023_44/analysis_tools \tsetup\n",
      "atmospec              LOCAL:/home/d/dagoret/repos/repos_w_2023_44/atmospec \tsetup\n",
      "eups                  LOCAL:/opt/lsst/software/stack/conda/miniconda3-py38_4.9.2/envs/lsst-scipipe-7.0.1/eups \tsetup\n",
      "spectractor           LOCAL:/home/d/dagoret/repos/repos_w_2023_44/Spectractor \tsetup\n"
     ]
    }
   ],
   "source": [
    "! eups list -s | grep LOCAL"
   ]
  },
  {
   "cell_type": "code",
   "execution_count": 2,
   "id": "70918d81-0cf6-4b0a-8f61-f5e5bec5b0e7",
   "metadata": {
    "execution": {
     "iopub.execute_input": "2023-12-23T18:44:05.621512Z",
     "iopub.status.busy": "2023-12-23T18:44:05.621200Z",
     "iopub.status.idle": "2023-12-23T18:44:05.961079Z",
     "shell.execute_reply": "2023-12-23T18:44:05.960562Z",
     "shell.execute_reply.started": "2023-12-23T18:44:05.621493Z"
    }
   },
   "outputs": [
    {
     "name": "stdout",
     "output_type": "stream",
     "text": [
      "   g4213664e8e+d053631def \tcurrent w_2023_44 setup\n"
     ]
    }
   ],
   "source": [
    "! eups list -s lsst_distrib"
   ]
  },
  {
   "cell_type": "code",
   "execution_count": 3,
   "id": "f8d9cfca-5881-48c1-b2cb-0f794a2e4091",
   "metadata": {
    "execution": {
     "iopub.execute_input": "2023-12-23T18:44:05.961939Z",
     "iopub.status.busy": "2023-12-23T18:44:05.961783Z",
     "iopub.status.idle": "2023-12-23T18:44:06.469514Z",
     "shell.execute_reply": "2023-12-23T18:44:06.469032Z",
     "shell.execute_reply.started": "2023-12-23T18:44:05.961922Z"
    }
   },
   "outputs": [],
   "source": [
    "import lsst.daf.butler as dafButler\n",
    "import lsst.daf.base as dafBase"
   ]
  },
  {
   "cell_type": "code",
   "execution_count": 4,
   "id": "1ceacda9-20b0-4d77-a0d2-572c957ce273",
   "metadata": {
    "execution": {
     "iopub.execute_input": "2023-12-23T18:44:06.470261Z",
     "iopub.status.busy": "2023-12-23T18:44:06.470125Z",
     "iopub.status.idle": "2023-12-23T18:44:07.064922Z",
     "shell.execute_reply": "2023-12-23T18:44:07.064469Z",
     "shell.execute_reply.started": "2023-12-23T18:44:06.470247Z"
    }
   },
   "outputs": [],
   "source": [
    "import numpy as np\n",
    "import matplotlib.pyplot as plt\n",
    "import matplotlib as mpl\n",
    "import matplotlib.cm as cm \n",
    "import matplotlib.colors as colors\n",
    "import matplotlib.cm as cmx\n",
    "import matplotlib.dates as mdates\n",
    "%matplotlib inline\n",
    "from mpl_toolkits.axes_grid1 import make_axes_locatable\n",
    "from matplotlib.colors import LogNorm\n",
    "import pandas as pd\n",
    "\n",
    "import matplotlib.ticker                         # here's where the formatter is\n",
    "import os\n",
    "import re\n",
    "import pandas as pd\n",
    "\n",
    "plt.rcParams[\"figure.figsize\"] = (4,3)\n",
    "plt.rcParams[\"axes.labelsize\"] = 'xx-large'\n",
    "plt.rcParams['axes.titlesize'] = 'xx-large'\n",
    "plt.rcParams['xtick.labelsize']= 'xx-large'\n",
    "plt.rcParams['ytick.labelsize']= 'xx-large'"
   ]
  },
  {
   "cell_type": "code",
   "execution_count": 5,
   "id": "3c373d2d-e7e7-4b70-9290-56208884f154",
   "metadata": {
    "execution": {
     "iopub.execute_input": "2023-12-23T18:44:07.066408Z",
     "iopub.status.busy": "2023-12-23T18:44:07.066099Z",
     "iopub.status.idle": "2023-12-23T18:44:07.247213Z",
     "shell.execute_reply": "2023-12-23T18:44:07.246741Z",
     "shell.execute_reply.started": "2023-12-23T18:44:07.066394Z"
    }
   },
   "outputs": [],
   "source": [
    "import lsst.afw.image as afwImage\n",
    "import lsst.afw.display as afwDisplay\n",
    "import lsst.afw.table as afwTable\n",
    "import lsst.geom as geom\n",
    "import pprint"
   ]
  },
  {
   "cell_type": "code",
   "execution_count": 6,
   "id": "149a62b7-f35f-40ab-9d2f-e6587ea61053",
   "metadata": {
    "execution": {
     "iopub.execute_input": "2023-12-23T18:44:07.248174Z",
     "iopub.status.busy": "2023-12-23T18:44:07.247840Z",
     "iopub.status.idle": "2023-12-23T18:44:07.250469Z",
     "shell.execute_reply": "2023-12-23T18:44:07.250119Z",
     "shell.execute_reply.started": "2023-12-23T18:44:07.248160Z"
    }
   },
   "outputs": [],
   "source": [
    "#Set the matplotlib plot color table.\n",
    "plt.style.use('tableau-colorblind10')"
   ]
  },
  {
   "cell_type": "code",
   "execution_count": 7,
   "id": "1b28c925-fab1-426f-9aee-d75df0647362",
   "metadata": {
    "execution": {
     "iopub.execute_input": "2023-12-23T18:44:07.251172Z",
     "iopub.status.busy": "2023-12-23T18:44:07.251056Z",
     "iopub.status.idle": "2023-12-23T18:44:07.262577Z",
     "shell.execute_reply": "2023-12-23T18:44:07.262205Z",
     "shell.execute_reply.started": "2023-12-23T18:44:07.251160Z"
    }
   },
   "outputs": [],
   "source": [
    "# Let us also set `lsst.afw.display` to use the `matplotlib` backend:\n",
    "afwDisplay.setDefaultBackend('matplotlib')\n",
    "plt.rcParams['figure.figsize'] = (6.0, 6.0)"
   ]
  },
  {
   "cell_type": "code",
   "execution_count": 8,
   "id": "1c81d99a-5e91-4ba1-ba4a-c66b37905b98",
   "metadata": {
    "execution": {
     "iopub.execute_input": "2023-12-23T18:44:07.263223Z",
     "iopub.status.busy": "2023-12-23T18:44:07.263101Z",
     "iopub.status.idle": "2023-12-23T18:44:09.890475Z",
     "shell.execute_reply": "2023-12-23T18:44:09.890058Z",
     "shell.execute_reply.started": "2023-12-23T18:44:07.263211Z"
    }
   },
   "outputs": [],
   "source": [
    "#repo =  \"/sdf/group/rubin/repo/main\"\n",
    "repo = \"/sdf/group/rubin/repo/oga/\"\n",
    "butler = dafButler.Butler(repo)\n",
    "registry = butler.registry"
   ]
  },
  {
   "cell_type": "markdown",
   "id": "20dbb8da-3a08-4b4f-9437-4bf7f28c1782",
   "metadata": {},
   "source": [
    "## Give the collection"
   ]
  },
  {
   "cell_type": "code",
   "execution_count": 9,
   "id": "9629ea29-8ab4-4062-aed1-e16d62dc90c4",
   "metadata": {
    "execution": {
     "iopub.execute_input": "2023-12-23T18:44:09.891143Z",
     "iopub.status.busy": "2023-12-23T18:44:09.891019Z",
     "iopub.status.idle": "2023-12-23T18:44:09.893248Z",
     "shell.execute_reply": "2023-12-23T18:44:09.892911Z",
     "shell.execute_reply.started": "2023-12-23T18:44:09.891131Z"
    }
   },
   "outputs": [],
   "source": [
    "my_collection = \"LATISS/runs/AUXTEL_DRP_IMAGING_2023-11A-10A-09AB-08ABC-07AB-05AB/w_2023_46/PREOPS-4553\""
   ]
  },
  {
   "cell_type": "markdown",
   "id": "a7587b10-c178-4537-9c34-60867b69fa01",
   "metadata": {},
   "source": [
    "## Config"
   ]
  },
  {
   "cell_type": "markdown",
   "id": "432e82a4-5617-48b3-a5bb-1f2c550c8525",
   "metadata": {},
   "source": [
    "## deepCoadd"
   ]
  },
  {
   "cell_type": "code",
   "execution_count": 10,
   "id": "38349d38-ae86-48c9-8037-370a62cd522d",
   "metadata": {
    "execution": {
     "iopub.execute_input": "2023-12-23T18:44:09.893787Z",
     "iopub.status.busy": "2023-12-23T18:44:09.893674Z",
     "iopub.status.idle": "2023-12-23T18:44:09.917892Z",
     "shell.execute_reply": "2023-12-23T18:44:09.917515Z",
     "shell.execute_reply.started": "2023-12-23T18:44:09.893776Z"
    }
   },
   "outputs": [],
   "source": [
    "datasetRefs = registry.queryDatasets(datasetType='deepCoadd', collections=my_collection, where= \"instrument='LATISS'\")"
   ]
  },
  {
   "cell_type": "code",
   "execution_count": 12,
   "id": "b62be7a7-73bf-4e4e-a4f8-99e1105dee22",
   "metadata": {
    "execution": {
     "iopub.execute_input": "2023-12-23T18:44:26.217531Z",
     "iopub.status.busy": "2023-12-23T18:44:26.216909Z",
     "iopub.status.idle": "2023-12-23T18:44:34.303608Z",
     "shell.execute_reply": "2023-12-23T18:44:34.303114Z",
     "shell.execute_reply.started": "2023-12-23T18:44:26.217514Z"
    }
   },
   "outputs": [
    {
     "name": "stdout",
     "output_type": "stream",
     "text": [
      "========(0)================datasetType = deepCoadd ============================================\n",
      "fullId..................: {band: 'i', skymap: 'latiss_v1', tract: 452, patch: 42}\n",
      "band....................: i\n",
      "skymap..................: latiss_v1\n",
      "tract..................: 452\n",
      "patch..................: 42\n",
      "run.....................: LATISS/runs/AUXTEL_DRP_IMAGING_2023-11A-10A-09AB-08ABC-07AB-05AB/w_2023_46/PREOPS-4553/20231120T163323Z\n",
      "========(1)================datasetType = deepCoadd ============================================\n",
      "fullId..................: {band: 'r', skymap: 'latiss_v1', tract: 3863, patch: 243}\n",
      "band....................: r\n",
      "skymap..................: latiss_v1\n",
      "tract..................: 3863\n",
      "patch..................: 243\n",
      "run.....................: LATISS/runs/AUXTEL_DRP_IMAGING_2023-11A-10A-09AB-08ABC-07AB-05AB/w_2023_46/PREOPS-4553/20231120T163323Z\n",
      "========(2)================datasetType = deepCoadd ============================================\n",
      "fullId..................: {band: 'r', skymap: 'latiss_v1', tract: 452, patch: 63}\n",
      "band....................: r\n",
      "skymap..................: latiss_v1\n",
      "tract..................: 452\n",
      "patch..................: 63\n",
      "run.....................: LATISS/runs/AUXTEL_DRP_IMAGING_2023-11A-10A-09AB-08ABC-07AB-05AB/w_2023_46/PREOPS-4553/20231120T163323Z\n",
      "========(3)================datasetType = deepCoadd ============================================\n",
      "fullId..................: {band: 'i', skymap: 'latiss_v1', tract: 452, patch: 43}\n",
      "band....................: i\n",
      "skymap..................: latiss_v1\n",
      "tract..................: 452\n",
      "patch..................: 43\n",
      "run.....................: LATISS/runs/AUXTEL_DRP_IMAGING_2023-11A-10A-09AB-08ABC-07AB-05AB/w_2023_46/PREOPS-4553/20231120T163323Z\n",
      "========(4)================datasetType = deepCoadd ============================================\n",
      "fullId..................: {band: 'g', skymap: 'latiss_v1', tract: 5615, patch: 293}\n",
      "band....................: g\n",
      "skymap..................: latiss_v1\n",
      "tract..................: 5615\n",
      "patch..................: 293\n",
      "run.....................: LATISS/runs/AUXTEL_DRP_IMAGING_2023-11A-10A-09AB-08ABC-07AB-05AB/w_2023_46/PREOPS-4553/20231120T163323Z\n",
      "========(5)================datasetType = deepCoadd ============================================\n",
      "fullId..................: {band: 'i', skymap: 'latiss_v1', tract: 455, patch: 52}\n",
      "band....................: i\n",
      "skymap..................: latiss_v1\n",
      "tract..................: 455\n",
      "patch..................: 52\n",
      "run.....................: LATISS/runs/AUXTEL_DRP_IMAGING_2023-11A-10A-09AB-08ABC-07AB-05AB/w_2023_46/PREOPS-4553/20231120T163323Z\n",
      "========(6)================datasetType = deepCoadd ============================================\n",
      "fullId..................: {band: 'r', skymap: 'latiss_v1', tract: 455, patch: 52}\n",
      "band....................: r\n",
      "skymap..................: latiss_v1\n",
      "tract..................: 455\n",
      "patch..................: 52\n",
      "run.....................: LATISS/runs/AUXTEL_DRP_IMAGING_2023-11A-10A-09AB-08ABC-07AB-05AB/w_2023_46/PREOPS-4553/20231120T163323Z\n",
      "========(7)================datasetType = deepCoadd ============================================\n",
      "fullId..................: {band: 'i', skymap: 'latiss_v1', tract: 10643, patch: 190}\n",
      "band....................: i\n",
      "skymap..................: latiss_v1\n",
      "tract..................: 10643\n",
      "patch..................: 190\n",
      "run.....................: LATISS/runs/AUXTEL_DRP_IMAGING_2023-11A-10A-09AB-08ABC-07AB-05AB/w_2023_46/PREOPS-4553/20231120T163323Z\n",
      "========(8)================datasetType = deepCoadd ============================================\n",
      "fullId..................: {band: 'g', skymap: 'latiss_v1', tract: 3863, patch: 224}\n",
      "band....................: g\n",
      "skymap..................: latiss_v1\n",
      "tract..................: 3863\n",
      "patch..................: 224\n",
      "run.....................: LATISS/runs/AUXTEL_DRP_IMAGING_2023-11A-10A-09AB-08ABC-07AB-05AB/w_2023_46/PREOPS-4553/20231120T163323Z\n",
      "========(9)================datasetType = deepCoadd ============================================\n",
      "fullId..................: {band: 'g', skymap: 'latiss_v1', tract: 5634, patch: 74}\n",
      "band....................: g\n",
      "skymap..................: latiss_v1\n",
      "tract..................: 5634\n",
      "patch..................: 74\n",
      "run.....................: LATISS/runs/AUXTEL_DRP_IMAGING_2023-11A-10A-09AB-08ABC-07AB-05AB/w_2023_46/PREOPS-4553/20231120T163323Z\n",
      "========(10)================datasetType = deepCoadd ============================================\n",
      "fullId..................: {band: 'g', skymap: 'latiss_v1', tract: 5634, patch: 110}\n",
      "band....................: g\n",
      "skymap..................: latiss_v1\n",
      "tract..................: 5634\n",
      "patch..................: 110\n",
      "run.....................: LATISS/runs/AUXTEL_DRP_IMAGING_2023-11A-10A-09AB-08ABC-07AB-05AB/w_2023_46/PREOPS-4553/20231120T163323Z\n",
      "========(11)================datasetType = deepCoadd ============================================\n",
      "fullId..................: {band: 'g', skymap: 'latiss_v1', tract: 10644, patch: 166}\n",
      "band....................: g\n",
      "skymap..................: latiss_v1\n",
      "tract..................: 10644\n",
      "patch..................: 166\n",
      "run.....................: LATISS/runs/AUXTEL_DRP_IMAGING_2023-11A-10A-09AB-08ABC-07AB-05AB/w_2023_46/PREOPS-4553/20231120T163323Z\n"
     ]
    }
   ],
   "source": [
    "all_dataId = []\n",
    "all_deepcoadds  = []\n",
    "all_titles = []\n",
    "all_deepcoadds_inputs = []\n",
    "\n",
    "for i, ref in enumerate(datasetRefs):\n",
    "   \n",
    "    print(f\"========({i})================datasetType = deepCoadd ============================================\")\n",
    "    print(\"fullId..................:\",ref.dataId.full)\n",
    "    print(\"band....................:\",ref.dataId[\"band\"])\n",
    "    print(\"skymap..................:\",ref.dataId[\"skymap\"])\n",
    "    print(\"tract..................:\",ref.dataId[\"tract\"])\n",
    "    print(\"patch..................:\",ref.dataId[\"patch\"])\n",
    "    print(\"run.....................:\",ref.run)\n",
    "    band = ref.dataId[\"band\"]\n",
    "    tract = ref.dataId[\"tract\"]\n",
    "    patch = ref.dataId[\"patch\"]\n",
    "    skymap = ref.dataId[\"skymap\"]\n",
    "\n",
    "    the_dataId = {'skymap':skymap,'band': band, 'tract': tract, 'patch': patch}\n",
    "    the_title = f\"Auxtel deepCoadd : band={band}, tract={tract}, patch={patch}\" \n",
    "    my_deepCoadd = butler.get('deepCoadd', dataId=ref.dataId.full,collections=my_collection)\n",
    "    #my_deepCoadd_inputs = butler.get(\"deepCoadd.coaddInputs\", ref.dataId.full)\n",
    "    all_dataId.append(the_dataId) \n",
    "    all_deepcoadds.append(my_deepCoadd)\n",
    "    all_titles.append(the_title)\n",
    "    #all_deepcoadds_inputs.append(my_deepCoadd_inputs)\n",
    "    \n",
    "    if i > 10:\n",
    "        break"
   ]
  },
  {
   "cell_type": "markdown",
   "id": "fb9793e8-4bd4-4a40-86fe-c2c9b390ec41",
   "metadata": {},
   "source": [
    "# Select the index"
   ]
  },
  {
   "cell_type": "code",
   "execution_count": null,
   "id": "494fa52b-651d-4f97-b092-d7d87880b175",
   "metadata": {
    "execution": {
     "iopub.status.busy": "2023-12-23T18:44:10.125793Z",
     "iopub.status.idle": "2023-12-23T18:44:10.125979Z",
     "shell.execute_reply": "2023-12-23T18:44:10.125892Z",
     "shell.execute_reply.started": "2023-12-23T18:44:10.125884Z"
    }
   },
   "outputs": [],
   "source": [
    "N = len(all_deepcoadds)\n",
    "\n",
    "for index in range(N):\n",
    "    print(index,all_titles[index])\n"
   ]
  },
  {
   "cell_type": "code",
   "execution_count": null,
   "id": "76b5ac58-ea1c-4d7a-983e-4ff9e676be6b",
   "metadata": {
    "execution": {
     "iopub.status.busy": "2023-12-23T18:44:10.126732Z",
     "iopub.status.idle": "2023-12-23T18:44:10.126897Z",
     "shell.execute_reply": "2023-12-23T18:44:10.126826Z",
     "shell.execute_reply.started": "2023-12-23T18:44:10.126819Z"
    }
   },
   "outputs": [],
   "source": [
    "all_tracts = np.array([5616, 5634, 5615, 10644, 383, 8188, 3863, 455, 452, 5839, 10643, 382])"
   ]
  },
  {
   "cell_type": "code",
   "execution_count": null,
   "id": "527cbca8-02cd-4ac8-bfb1-aced836f4021",
   "metadata": {
    "execution": {
     "iopub.status.busy": "2023-12-23T18:44:10.127407Z",
     "iopub.status.idle": "2023-12-23T18:44:10.127552Z",
     "shell.execute_reply": "2023-12-23T18:44:10.127485Z",
     "shell.execute_reply.started": "2023-12-23T18:44:10.127479Z"
    }
   },
   "outputs": [],
   "source": [
    "#index= 2 problem\n",
    "#index = 3 # band i, 452, 443 good\n",
    "index = 4 # band g, 5615, 293, good\n",
    "#index = 5 # band i, 455,52 , bad\n",
    "#index = 6 # band r, 455,42, bad\n",
    "#index = 7 # bad\n",
    "#index = 8\n",
    "#itract_sel = all_tracts[index]"
   ]
  },
  {
   "cell_type": "code",
   "execution_count": null,
   "id": "d38af66d-8a57-49f5-a18a-bcf8bb14bdd7",
   "metadata": {
    "execution": {
     "iopub.status.busy": "2023-12-23T18:44:10.128169Z",
     "iopub.status.idle": "2023-12-23T18:44:10.128322Z",
     "shell.execute_reply": "2023-12-23T18:44:10.128250Z",
     "shell.execute_reply.started": "2023-12-23T18:44:10.128243Z"
    }
   },
   "outputs": [],
   "source": [
    "the_dataid = all_dataId[index]\n",
    "the_deepcoadd = all_deepcoadds[index]\n",
    "the_title = all_titles[index]"
   ]
  },
  {
   "cell_type": "code",
   "execution_count": null,
   "id": "a8a8fb22-9fe5-49b8-8b6c-0abee0808fdd",
   "metadata": {
    "execution": {
     "iopub.status.busy": "2023-12-23T18:44:10.128920Z",
     "iopub.status.idle": "2023-12-23T18:44:10.129071Z",
     "shell.execute_reply": "2023-12-23T18:44:10.128998Z",
     "shell.execute_reply.started": "2023-12-23T18:44:10.128991Z"
    }
   },
   "outputs": [],
   "source": [
    "#deepCoadd_inputs = tempButler.get(\"deepCoadd.coaddInputs\", my_dataId)"
   ]
  },
  {
   "cell_type": "code",
   "execution_count": null,
   "id": "2691523b-d312-4c96-b711-a1762aa2be7b",
   "metadata": {},
   "outputs": [],
   "source": []
  },
  {
   "cell_type": "code",
   "execution_count": null,
   "id": "26a93a92-bcba-41d1-a687-c2f55dedd6e7",
   "metadata": {
    "execution": {
     "iopub.status.busy": "2023-12-23T18:44:10.129637Z",
     "iopub.status.idle": "2023-12-23T18:44:10.129791Z",
     "shell.execute_reply": "2023-12-23T18:44:10.129715Z",
     "shell.execute_reply.started": "2023-12-23T18:44:10.129708Z"
    }
   },
   "outputs": [],
   "source": [
    "# Plot the calexp we just retrieved\n",
    "plt.figure()\n",
    "afw_display = afwDisplay.Display()\n",
    "afw_display.scale('asinh', 'zscale')\n",
    "afw_display.mtv(the_deepcoadd.image,title=the_title )\n",
    "plt.gca().axis('on')"
   ]
  },
  {
   "cell_type": "code",
   "execution_count": null,
   "id": "b16c42bc-abe0-4a90-abd2-d2012421b104",
   "metadata": {
    "execution": {
     "iopub.status.busy": "2023-12-23T18:44:10.130208Z",
     "iopub.status.idle": "2023-12-23T18:44:10.130350Z",
     "shell.execute_reply": "2023-12-23T18:44:10.130284Z",
     "shell.execute_reply.started": "2023-12-23T18:44:10.130278Z"
    }
   },
   "outputs": [],
   "source": [
    "# Plot the calexp we just retrieved\n",
    "plt.figure()\n",
    "afw_display = afwDisplay.Display()\n",
    "afw_display.scale('asinh', 'zscale')\n",
    "afw_display.mtv(the_deepcoadd.maskedImage.image,title=the_title+\" masked\")\n",
    "plt.gca().axis('on')"
   ]
  },
  {
   "cell_type": "code",
   "execution_count": null,
   "id": "7412ce6c-8073-4f03-ac41-856b2da73685",
   "metadata": {
    "execution": {
     "iopub.status.busy": "2023-12-23T18:44:10.131008Z",
     "iopub.status.idle": "2023-12-23T18:44:10.131159Z",
     "shell.execute_reply": "2023-12-23T18:44:10.131087Z",
     "shell.execute_reply.started": "2023-12-23T18:44:10.131080Z"
    }
   },
   "outputs": [],
   "source": [
    "the_deepcoadd_md=dict(the_deepcoadd.getMetadata())"
   ]
  },
  {
   "cell_type": "code",
   "execution_count": null,
   "id": "ab191b8f-404b-4ee2-a268-6a61f9c1b5e1",
   "metadata": {
    "execution": {
     "iopub.status.busy": "2023-12-23T18:44:10.131663Z",
     "iopub.status.idle": "2023-12-23T18:44:10.131814Z",
     "shell.execute_reply": "2023-12-23T18:44:10.131739Z",
     "shell.execute_reply.started": "2023-12-23T18:44:10.131732Z"
    }
   },
   "outputs": [],
   "source": [
    "the_deepcoadd_md"
   ]
  },
  {
   "cell_type": "code",
   "execution_count": null,
   "id": "e9ec5f90-0cfe-446f-9159-579d06989ac6",
   "metadata": {
    "execution": {
     "iopub.status.busy": "2023-12-23T18:44:10.132176Z",
     "iopub.status.idle": "2023-12-23T18:44:10.132315Z",
     "shell.execute_reply": "2023-12-23T18:44:10.132250Z",
     "shell.execute_reply.started": "2023-12-23T18:44:10.132244Z"
    }
   },
   "outputs": [],
   "source": [
    "ccd_ymax=the_deepcoadd.getBBox().getMaxY()\n",
    "ccd_xmax=the_deepcoadd.getBBox().getMaxX()"
   ]
  },
  {
   "cell_type": "code",
   "execution_count": null,
   "id": "258eac04-f4f8-4b07-b00b-5ca8b339321d",
   "metadata": {
    "execution": {
     "iopub.status.busy": "2023-12-23T18:44:10.132845Z",
     "iopub.status.idle": "2023-12-23T18:44:10.132988Z",
     "shell.execute_reply": "2023-12-23T18:44:10.132920Z",
     "shell.execute_reply.started": "2023-12-23T18:44:10.132914Z"
    }
   },
   "outputs": [],
   "source": [
    "the_deepcoadd.image.array.flatten()"
   ]
  },
  {
   "cell_type": "code",
   "execution_count": null,
   "id": "23307864-856e-4c92-8bda-8a70a9c96017",
   "metadata": {
    "execution": {
     "iopub.status.busy": "2023-12-23T18:44:10.133612Z",
     "iopub.status.idle": "2023-12-23T18:44:10.133756Z",
     "shell.execute_reply": "2023-12-23T18:44:10.133686Z",
     "shell.execute_reply.started": "2023-12-23T18:44:10.133680Z"
    }
   },
   "outputs": [],
   "source": [
    "fig=plt.figure(figsize=(6,4))\n",
    "ax=fig.add_subplot(1,1,1)\n",
    "ax.hist(the_deepcoadd.image.array.flatten(),bins=100,range=(-50,1000),alpha=0.5,facecolor='blue')\n",
    "ax.hist(the_deepcoadd.maskedImage.image.array.flatten(),bins=100,range=(-50,1000),alpha=0.5,facecolor=\"yellow\")\n",
    "ax.set_yscale('log')\n",
    "ax.grid()\n",
    "ax.set_title(the_title)"
   ]
  },
  {
   "cell_type": "code",
   "execution_count": null,
   "id": "d1165ad1-31ab-4ad4-a539-749f7167641c",
   "metadata": {
    "execution": {
     "iopub.status.busy": "2023-12-23T18:44:10.134378Z",
     "iopub.status.idle": "2023-12-23T18:44:10.134524Z",
     "shell.execute_reply": "2023-12-23T18:44:10.134451Z",
     "shell.execute_reply.started": "2023-12-23T18:44:10.134445Z"
    }
   },
   "outputs": [],
   "source": [
    "assert False"
   ]
  },
  {
   "cell_type": "markdown",
   "id": "24761389-4fc6-49ba-8da2-2da12a7f4e28",
   "metadata": {},
   "source": [
    "# Detection of Sources"
   ]
  },
  {
   "cell_type": "markdown",
   "id": "44587222-8355-4aff-adec-90803d29bbcc",
   "metadata": {},
   "source": [
    "## Step 2: Perform image characterization and initial measurement\n",
    "We now perform a base-level characterization of the image using the stack. We set some configuration settings which are specific to our sestup which has a very small optical PSF, setting a PSF size and turning off some other aspects such as cosmic ray rejection because of this."
   ]
  },
  {
   "cell_type": "code",
   "execution_count": null,
   "id": "e7ed0677-4a8a-4af2-982a-9df3c6d689a6",
   "metadata": {
    "execution": {
     "iopub.status.busy": "2023-12-23T18:44:10.134932Z",
     "iopub.status.idle": "2023-12-23T18:44:10.135073Z",
     "shell.execute_reply": "2023-12-23T18:44:10.135008Z",
     "shell.execute_reply.started": "2023-12-23T18:44:10.135002Z"
    }
   },
   "outputs": [],
   "source": [
    "#from lsst.pipe.tasks.characterizeImage import CharacterizeImageTask, CharacterizeImageConfig\n",
    "#import lsst.meas.extensions.shapeHSM\n",
    "\n",
    "# first set a few configs that are specific to our beam simulator data\n",
    "charConfig = CharacterizeImageConfig()\n",
    "#this set the fwhm of the simple PSF to that of optics\n",
    "charConfig.installSimplePsf.fwhm = 10\n",
    "charConfig.doMeasurePsf = False\n",
    "charConfig.doApCorr = False # necessary\n",
    "charConfig.repair.doCosmicRay = False  \n",
    "# we do have some cosmic rays, but we also have subpixel mask features and an undersampled PSF\n",
    "charConfig.detection.background.binSize = 10   # worth playing around with\n",
    "#charConfig.background.binSize = 50\n",
    "charConfig.detection.minPixels = 10   # also worth playing around with\n",
    "\n",
    "# Add the HSM (Hirata/Seljak/Mandelbaum) adaptive moments shape measurement plugin\n",
    "charConfig.measurement.plugins.names |= [\"ext_shapeHSM_HsmSourceMoments\"]\n",
    "# to configure hsm you would do something like\n",
    "# charConfig.measurement.plugins[\"ext_shapeHSM_hsmSourceMoments\"].addFlux = True\n",
    "# (see sfm.py in meas_base for all the configuration options for the measurement task)\n",
    "\n",
    "# Turn off the summary statistic calculation for these spot images.\n",
    "# In the future there may be a specialized task for spot images.\n",
    "charConfig.doComputeSummaryStats = False\n",
    "\n",
    "charTask = CharacterizeImageTask(config=charConfig)\n",
    "\n",
    "#charTask.run?\n",
    "# use charTask.run instead of characterize for v16.0+22\n",
    "# could also perform similar functions with processCcdTask.run()"
   ]
  },
  {
   "cell_type": "code",
   "execution_count": null,
   "id": "603ecc08-38c5-44db-926a-5f79d87623d7",
   "metadata": {
    "execution": {
     "iopub.status.busy": "2023-12-23T18:44:10.135570Z",
     "iopub.status.idle": "2023-12-23T18:44:10.135709Z",
     "shell.execute_reply": "2023-12-23T18:44:10.135644Z",
     "shell.execute_reply.started": "2023-12-23T18:44:10.135638Z"
    }
   },
   "outputs": [],
   "source": [
    "# Display which plugins are being used for measurement\n",
    "charConfig.measurement.plugins.active "
   ]
  },
  {
   "cell_type": "code",
   "execution_count": null,
   "id": "1f8cc4cb-6fc2-4cb0-884b-0b5edcdd8e8a",
   "metadata": {
    "execution": {
     "iopub.status.busy": "2023-12-23T18:44:10.136439Z",
     "iopub.status.idle": "2023-12-23T18:44:10.136585Z",
     "shell.execute_reply": "2023-12-23T18:44:10.136514Z",
     "shell.execute_reply.started": "2023-12-23T18:44:10.136508Z"
    }
   },
   "outputs": [],
   "source": [
    "charResult = charTask.run(postisrccd) # charTask.run(exposure) stack v16.0+22\n",
    "print(\"Detected \",len(charResult.sourceCat),\" objects \")\n",
    "fig=plt.figure(figsize=(5,5))\n",
    "plt.title('X/Y locations of detections')\n",
    "plt.plot(charResult.sourceCat['base_SdssCentroid_x'],charResult.sourceCat['base_SdssCentroid_y'],'r.')\n",
    "plt.grid()\n",
    "plt.xlim(0,ccd_xmax)\n",
    "plt.ylim(0,ccd_ymax)"
   ]
  },
  {
   "cell_type": "markdown",
   "id": "705a2230-bee5-4aeb-95e1-a0b1c8f03b9b",
   "metadata": {},
   "source": [
    "This figure illustrates the centroids of detections made during characterization. Note that not all objects have been detected in this first round."
   ]
  },
  {
   "cell_type": "code",
   "execution_count": null,
   "id": "647e05a9-6583-4b2e-9310-d3331018cd83",
   "metadata": {
    "execution": {
     "iopub.status.busy": "2023-12-23T18:44:10.137004Z",
     "iopub.status.idle": "2023-12-23T18:44:10.137142Z",
     "shell.execute_reply": "2023-12-23T18:44:10.137076Z",
     "shell.execute_reply.started": "2023-12-23T18:44:10.137070Z"
    }
   },
   "outputs": [],
   "source": [
    "charResult.sourceCat.asAstropy()"
   ]
  },
  {
   "cell_type": "markdown",
   "id": "f1467455-4bd9-4530-be58-f1e58a013263",
   "metadata": {},
   "source": [
    "# Calibration and Photometry"
   ]
  },
  {
   "cell_type": "markdown",
   "id": "f2cd0f98-c6ce-4d96-91b9-44d6ae2b1a3f",
   "metadata": {},
   "source": [
    "## Step 3: Further image calibration and measurement\n",
    "This builds on the exposure output from characterization, using the new mask plane as well as the source catalog. Similar to the characterization, we turn off some processing which is suited to our particular setup.  It does provide a background-subtracted image and for completeness it is included here. The steps in calibration that are turned on/off can be seen by printing the calibration config object."
   ]
  },
  {
   "cell_type": "code",
   "execution_count": null,
   "id": "cee276e1-9fbe-442a-a17d-567196b903bf",
   "metadata": {
    "execution": {
     "iopub.status.busy": "2023-12-23T18:44:10.137710Z",
     "iopub.status.idle": "2023-12-23T18:44:10.137869Z",
     "shell.execute_reply": "2023-12-23T18:44:10.137789Z",
     "shell.execute_reply.started": "2023-12-23T18:44:10.137783Z"
    }
   },
   "outputs": [],
   "source": [
    "#from lsst.pipe.tasks.calibrate import CalibrateTask, CalibrateConfig\n",
    "\n",
    "calConfig = CalibrateConfig()\n",
    "calConfig.doAstrometry = False\n",
    "calConfig.doPhotoCal = False\n",
    "calConfig.doApCorr = False\n",
    "calConfig.doDeblend = False   # these are well-separated objects, deblending adds time & trouble\n",
    "# these images should have a uniform background, so measure it\n",
    "#  on scales which are larger than the objects\n",
    "calConfig.detection.background.binSize = 50\n",
    "calConfig.detection.minPixels = 5\n",
    "calConfig.measurement.plugins.names |= [\"ext_shapeHSM_HsmSourceMoments\"]\n",
    "# to configure hsm you would do something like\n",
    "#charConfig.measurement.plugins[\"ext_shapeHSM_hsmSourceMoments\"].addFlux = True\n",
    "calConfig.doComputeSummaryStats = True # no summary stats\n",
    "\n",
    "calTask = CalibrateTask(config= calConfig, icSourceSchema=charResult.sourceCat.schema)\n",
    "\n",
    "#calTask.run? # for stack v16.0+22 \n",
    "calTask.run?"
   ]
  },
  {
   "cell_type": "code",
   "execution_count": null,
   "id": "6ec1aca4-ea5a-439e-b2fc-722cd2ee4451",
   "metadata": {
    "execution": {
     "iopub.status.busy": "2023-12-23T18:44:10.138203Z",
     "iopub.status.idle": "2023-12-23T18:44:10.138341Z",
     "shell.execute_reply": "2023-12-23T18:44:10.138277Z",
     "shell.execute_reply.started": "2023-12-23T18:44:10.138271Z"
    }
   },
   "outputs": [],
   "source": [
    "# for stack v16.0+22, change to calTask.run(charResult.exposure)\n",
    "calResult = calTask.run(charResult.exposure, background=charResult.background,\n",
    "                              icSourceCat = charResult.sourceCat)\n",
    "\n",
    "\n",
    "print(\"Detected \",len(calResult.sourceCat),\" objects \")"
   ]
  },
  {
   "cell_type": "code",
   "execution_count": null,
   "id": "eeec7018-faf5-4eb8-8682-86dbd6a11391",
   "metadata": {
    "execution": {
     "iopub.status.busy": "2023-12-23T18:44:10.138887Z",
     "iopub.status.idle": "2023-12-23T18:44:10.139031Z",
     "shell.execute_reply": "2023-12-23T18:44:10.138962Z",
     "shell.execute_reply.started": "2023-12-23T18:44:10.138956Z"
    }
   },
   "outputs": [],
   "source": [
    "mytable = calResult.sourceCat.asAstropy()\n",
    "mytable"
   ]
  },
  {
   "cell_type": "markdown",
   "id": "143313c9-d474-4d7a-b81e-b40ebab7ab5b",
   "metadata": {},
   "source": [
    "### remove row with nan"
   ]
  },
  {
   "cell_type": "code",
   "execution_count": null,
   "id": "195f1c81-e3be-4743-8282-b832e7e3bd07",
   "metadata": {
    "execution": {
     "iopub.status.busy": "2023-12-23T18:44:10.139354Z",
     "iopub.status.idle": "2023-12-23T18:44:10.139488Z",
     "shell.execute_reply": "2023-12-23T18:44:10.139426Z",
     "shell.execute_reply.started": "2023-12-23T18:44:10.139420Z"
    }
   },
   "outputs": [],
   "source": [
    "# remove row with nan\n",
    "has_nan = np.zeros(len(mytable), dtype=bool)\n",
    "for col in mytable.itercols():\n",
    "    if col.info.dtype.kind == 'f':\n",
    "        has_nan |= np.isnan(col)\n",
    "mytable_no_nan = mytable[~has_nan]"
   ]
  },
  {
   "cell_type": "markdown",
   "id": "85b7e068-0370-4238-9d9f-d98d66c890dc",
   "metadata": {},
   "source": [
    "### rename the columns"
   ]
  },
  {
   "cell_type": "code",
   "execution_count": null,
   "id": "9ea8ea7b-3044-4dfa-8ac8-94acf5d3c55f",
   "metadata": {
    "execution": {
     "iopub.status.busy": "2023-12-23T18:44:10.140095Z",
     "iopub.status.idle": "2023-12-23T18:44:10.140240Z",
     "shell.execute_reply": "2023-12-23T18:44:10.140172Z",
     "shell.execute_reply.started": "2023-12-23T18:44:10.140165Z"
    }
   },
   "outputs": [],
   "source": [
    "# rename the columns\n",
    "mytable_no_nan.rename_column('base_NaiveCentroid_x', 'Xpix')\n",
    "mytable_no_nan.rename_column('base_NaiveCentroid_y', 'Ypix')\n",
    "mytable_no_nan.rename_column('base_Blendedness_abs_child_instFlux', 'abs_chld_instFlux')\n",
    "mytable_no_nan.rename_column('base_Blendedness_abs_parent_instFlux','abs_paren_instFlux')"
   ]
  },
  {
   "cell_type": "code",
   "execution_count": null,
   "id": "deafcac6-17c0-48e2-a44d-2f2d66aeee5c",
   "metadata": {
    "execution": {
     "iopub.status.busy": "2023-12-23T18:44:10.140832Z",
     "iopub.status.idle": "2023-12-23T18:44:10.140976Z",
     "shell.execute_reply": "2023-12-23T18:44:10.140906Z",
     "shell.execute_reply.started": "2023-12-23T18:44:10.140900Z"
    }
   },
   "outputs": [],
   "source": [
    "NN=len(mytable_no_nan)\n",
    "values = mytable_no_nan['abs_chld_instFlux'].data\n",
    "valmin = mytable_no_nan['abs_chld_instFlux'].min()\n",
    "valmax = mytable_no_nan['abs_chld_instFlux'].max()\n",
    "XX = mytable_no_nan['Xpix'].data\n",
    "YY = mytable_no_nan['Ypix'].data\n",
    "valmaxmin=valmax - valmin\n",
    "index_star = mytable_no_nan['id'].data"
   ]
  },
  {
   "cell_type": "code",
   "execution_count": null,
   "id": "9eb87482-2a3d-40ab-8502-7540a93c593a",
   "metadata": {},
   "outputs": [],
   "source": []
  },
  {
   "cell_type": "code",
   "execution_count": null,
   "id": "228736f9-ec1f-48e5-82aa-52b3a74246d9",
   "metadata": {
    "execution": {
     "iopub.status.busy": "2023-12-23T18:44:10.141262Z",
     "iopub.status.idle": "2023-12-23T18:44:10.141393Z",
     "shell.execute_reply": "2023-12-23T18:44:10.141332Z",
     "shell.execute_reply.started": "2023-12-23T18:44:10.141326Z"
    }
   },
   "outputs": [],
   "source": [
    "r = lambda x : (x - valmin)/valmaxmin"
   ]
  },
  {
   "cell_type": "code",
   "execution_count": null,
   "id": "70ffbdc7-2a3b-42bc-ab6a-f8d9488ae51a",
   "metadata": {
    "execution": {
     "iopub.status.busy": "2023-12-23T18:44:10.142106Z",
     "iopub.status.idle": "2023-12-23T18:44:10.142251Z",
     "shell.execute_reply": "2023-12-23T18:44:10.142181Z",
     "shell.execute_reply.started": "2023-12-23T18:44:10.142175Z"
    }
   },
   "outputs": [],
   "source": [
    "# wavelength bin colors\n",
    "jet = plt.get_cmap('jet')\n",
    "cNorm = colors.Normalize(vmin=r(valmin), vmax=r(valmax))\n",
    "scalarMap = cmx.ScalarMappable(norm=cNorm, cmap=jet)\n",
    "all_colors = scalarMap.to_rgba(r(values), alpha=1)"
   ]
  },
  {
   "cell_type": "code",
   "execution_count": null,
   "id": "e1ba25fa-50dd-400e-814a-13d33fe9a25e",
   "metadata": {
    "execution": {
     "iopub.status.busy": "2023-12-23T18:44:10.142759Z",
     "iopub.status.idle": "2023-12-23T18:44:10.142947Z",
     "shell.execute_reply": "2023-12-23T18:44:10.142870Z",
     "shell.execute_reply.started": "2023-12-23T18:44:10.142863Z"
    }
   },
   "outputs": [],
   "source": [
    "area = 200*r(values)\n",
    "dx=-50\n",
    "dy=100"
   ]
  },
  {
   "cell_type": "code",
   "execution_count": null,
   "id": "c47da2a3-feb8-4f66-aa79-0289124e7b74",
   "metadata": {
    "execution": {
     "iopub.status.busy": "2023-12-23T18:44:10.143359Z",
     "iopub.status.idle": "2023-12-23T18:44:10.143498Z",
     "shell.execute_reply": "2023-12-23T18:44:10.143432Z",
     "shell.execute_reply.started": "2023-12-23T18:44:10.143426Z"
    }
   },
   "outputs": [],
   "source": [
    "fig=plt.figure(figsize=(6,6))\n",
    "ax=fig.add_subplot(1,1,1)\n",
    "ax.set_title('X/Y locations of sources')\n",
    "#ax.plot(mytable_no_nan['Xpix'],mytable_no_nan['Ypix'],'k.')\n",
    "ax.scatter(mytable_no_nan['Xpix'],mytable_no_nan['Ypix'],s=area,color=all_colors)\n",
    "ax.grid()\n",
    "ax.set_xlim(0,ccd_xmax)\n",
    "ax.set_ylim(0,ccd_ymax)\n",
    "\n",
    "for idx in range(NN):\n",
    "    ax.text(XX[idx]+dx, YY[idx]+dy, str(index_star[idx]))"
   ]
  },
  {
   "cell_type": "code",
   "execution_count": null,
   "id": "e90c8b8f-7dff-4dff-bf64-e81557b577c4",
   "metadata": {
    "execution": {
     "iopub.status.busy": "2023-12-23T18:44:10.144182Z",
     "iopub.status.idle": "2023-12-23T18:44:10.144331Z",
     "shell.execute_reply": "2023-12-23T18:44:10.144259Z",
     "shell.execute_reply.started": "2023-12-23T18:44:10.144252Z"
    }
   },
   "outputs": [],
   "source": [
    "df_table = mytable_no_nan.to_pandas()\n",
    "df_table.columns"
   ]
  },
  {
   "cell_type": "code",
   "execution_count": null,
   "id": "09f87b67-4e67-4d49-be64-cf2deae805ff",
   "metadata": {
    "execution": {
     "iopub.status.busy": "2023-12-23T18:44:10.144720Z",
     "iopub.status.idle": "2023-12-23T18:44:10.144865Z",
     "shell.execute_reply": "2023-12-23T18:44:10.144793Z",
     "shell.execute_reply.started": "2023-12-23T18:44:10.144787Z"
    }
   },
   "outputs": [],
   "source": [
    "df = df_table[['id', 'coord_ra', 'coord_dec', 'Xpix','Ypix','abs_chld_instFlux'\t,'abs_paren_instFlux']]\n",
    "df"
   ]
  },
  {
   "cell_type": "code",
   "execution_count": null,
   "id": "ddde2886-802e-4f9f-97b0-eed7edfb0dc6",
   "metadata": {
    "execution": {
     "iopub.status.busy": "2023-12-23T18:44:10.145475Z",
     "iopub.status.idle": "2023-12-23T18:44:10.145619Z",
     "shell.execute_reply": "2023-12-23T18:44:10.145550Z",
     "shell.execute_reply.started": "2023-12-23T18:44:10.145544Z"
    }
   },
   "outputs": [],
   "source": [
    "the_max = df['abs_paren_instFlux'].describe()['max']\n",
    "the_min = df['abs_paren_instFlux'].describe()['min']"
   ]
  },
  {
   "cell_type": "code",
   "execution_count": null,
   "id": "217779c7-d132-4171-9a84-9a22518d807f",
   "metadata": {
    "execution": {
     "iopub.status.busy": "2023-12-23T18:44:10.146076Z",
     "iopub.status.idle": "2023-12-23T18:44:10.146212Z",
     "shell.execute_reply": "2023-12-23T18:44:10.146149Z",
     "shell.execute_reply.started": "2023-12-23T18:44:10.146143Z"
    }
   },
   "outputs": [],
   "source": [
    "fig=plt.figure(figsize=(6,4))\n",
    "ax=fig.add_subplot(1,1,1)\n",
    "ax.hist(df['abs_paren_instFlux'].values,bins=50,range=(0,the_max));\n",
    "ax.set_title(\"Flux of detected sources\")\n",
    "ax.set_xlabel('flux')\n",
    "ax.set_ylabel('number of sources')"
   ]
  },
  {
   "cell_type": "code",
   "execution_count": null,
   "id": "bd506ee0-0121-48a5-99be-1e16d87da552",
   "metadata": {},
   "outputs": [],
   "source": []
  },
  {
   "cell_type": "code",
   "execution_count": null,
   "id": "bce96a69-4559-4be3-96c4-694c2efae6f4",
   "metadata": {},
   "outputs": [],
   "source": []
  }
 ],
 "metadata": {
  "kernelspec": {
   "display_name": "LSST",
   "language": "python",
   "name": "lsst"
  },
  "language_info": {
   "codemirror_mode": {
    "name": "ipython",
    "version": 3
   },
   "file_extension": ".py",
   "mimetype": "text/x-python",
   "name": "python",
   "nbconvert_exporter": "python",
   "pygments_lexer": "ipython3",
   "version": "3.11.4"
  }
 },
 "nbformat": 4,
 "nbformat_minor": 5
}
