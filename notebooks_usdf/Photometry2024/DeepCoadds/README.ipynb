{
 "cells": [
  {
   "cell_type": "markdown",
   "id": "447218ac-9383-4d03-8333-5ee71c2f0b5e",
   "metadata": {},
   "source": [
    "# README on Deep Coadds"
   ]
  },
  {
   "cell_type": "markdown",
   "id": "b32454d2-624d-4f36-8d4b-7be31e5ace7c",
   "metadata": {},
   "source": [
    "- author Sylvie Dagoret-Campagne\n",
    "- affiliation : IJCLab/IN2P3/CNRS\n",
    "- creation date : 2024-03-05\n",
    "- last update : 2024-03-05"
   ]
  },
  {
   "cell_type": "markdown",
   "id": "6f907894-30ad-4692-912d-2e5ca1b5c137",
   "metadata": {},
   "source": [
    "## ExtractdeepCoadds.ipynb\n",
    "\n",
    "- [ExtractdeepCoadds.ipynb](ExtractdeepCoadds.ipynb) : select on set of tract/ patch and plot it"
   ]
  },
  {
   "cell_type": "markdown",
   "id": "b75138cf-5433-46ad-a04a-b3c70bbf9357",
   "metadata": {},
   "source": [
    "## ExtractdeepCoaddsObjects.ipynb\n",
    "\n",
    "- [ExtractdeepCoaddsObjects.ipynb](ExtractdeepCoaddsObjects.ipynb): select one tract and plot its patches and compare object position and deepcoadds. Show the magnitude distribution."
   ]
  },
  {
   "cell_type": "markdown",
   "id": "23940e24-7897-46c2-a80e-9eb83e08625e",
   "metadata": {},
   "source": [
    "## ExtractdeepCoadds-loop.ipynb\n",
    "\n",
    "- [ExtractdeepCoadds-loop.ipynb](ExtractdeepCoadds-loop.ipynb): select one tract and plot its patches"
   ]
  },
  {
   "cell_type": "markdown",
   "id": "3ef81952-4789-4193-b72c-196f3e7e00fd",
   "metadata": {},
   "source": [
    "## ExtractdeepCoadds-loop-wcs.ipynb\n",
    "\n",
    "- [ExtractdeepCoadds-loop-wcs.ipynb](ExtractdeepCoadds-loop-wcs.ipynb): select one tract and plot its patches in ra,dec coordinates"
   ]
  },
  {
   "cell_type": "code",
   "execution_count": null,
   "id": "64feb267-0ec2-4806-a803-ec1bb76c7e63",
   "metadata": {},
   "outputs": [],
   "source": []
  }
 ],
 "metadata": {
  "kernelspec": {
   "display_name": "LSST",
   "language": "python",
   "name": "lsst"
  },
  "language_info": {
   "codemirror_mode": {
    "name": "ipython",
    "version": 3
   },
   "file_extension": ".py",
   "mimetype": "text/x-python",
   "name": "python",
   "nbconvert_exporter": "python",
   "pygments_lexer": "ipython3",
   "version": "3.11.7"
  }
 },
 "nbformat": 4,
 "nbformat_minor": 5
}
