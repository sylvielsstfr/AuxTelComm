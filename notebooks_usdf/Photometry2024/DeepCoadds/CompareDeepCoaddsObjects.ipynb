{
 "cells": [
  {
   "cell_type": "markdown",
   "id": "0b8c2138-5194-4d03-8b77-be24e2cc8ee3",
   "metadata": {},
   "source": [
    "# Compare deepcoadds and Objects"
   ]
  },
  {
   "cell_type": "markdown",
   "id": "740e34fb-3fef-45a8-941b-c229742ab016",
   "metadata": {},
   "source": [
    " work with Weakly_2024_07\n",
    "- use jupyter kernel LSST\n",
    "- author : Sylvie Dagoret-Campagne\n",
    "- affiliation : IJCLab\n",
    "- creation date : 2023/12/23\n",
    "- update : 2024/02/24\n"
   ]
  },
  {
   "cell_type": "code",
   "execution_count": null,
   "id": "ed2c3410-fe83-432e-ab87-9f4513fa8d8b",
   "metadata": {},
   "outputs": [],
   "source": [
    "! eups list -s | grep LOCAL"
   ]
  },
  {
   "cell_type": "code",
   "execution_count": null,
   "id": "70918d81-0cf6-4b0a-8f61-f5e5bec5b0e7",
   "metadata": {},
   "outputs": [],
   "source": [
    "! eups list -s lsst_distrib"
   ]
  },
  {
   "cell_type": "code",
   "execution_count": null,
   "id": "f8d9cfca-5881-48c1-b2cb-0f794a2e4091",
   "metadata": {},
   "outputs": [],
   "source": [
    "import lsst.daf.butler as dafButler\n",
    "import lsst.daf.base as dafBase"
   ]
  },
  {
   "cell_type": "code",
   "execution_count": null,
   "id": "1ceacda9-20b0-4d77-a0d2-572c957ce273",
   "metadata": {},
   "outputs": [],
   "source": [
    "import numpy as np\n",
    "import matplotlib.pyplot as plt\n",
    "import matplotlib as mpl\n",
    "import matplotlib.cm as cm \n",
    "import matplotlib.colors as colors\n",
    "import matplotlib.cm as cmx\n",
    "import matplotlib.dates as mdates\n",
    "%matplotlib inline\n",
    "from mpl_toolkits.axes_grid1 import make_axes_locatable\n",
    "from matplotlib.colors import LogNorm\n",
    "import pandas as pd\n",
    "\n",
    "import matplotlib.ticker                         # here's where the formatter is\n",
    "import os\n",
    "import re\n",
    "import pandas as pd\n",
    "import pickle\n",
    "\n",
    "plt.rcParams[\"figure.figsize\"] = (4,3)\n",
    "plt.rcParams[\"axes.labelsize\"] = 'xx-large'\n",
    "plt.rcParams['axes.titlesize'] = 'xx-large'\n",
    "plt.rcParams['xtick.labelsize']= 'xx-large'\n",
    "plt.rcParams['ytick.labelsize']= 'xx-large'"
   ]
  },
  {
   "cell_type": "code",
   "execution_count": null,
   "id": "3c373d2d-e7e7-4b70-9290-56208884f154",
   "metadata": {},
   "outputs": [],
   "source": [
    "import lsst.afw.image as afwImage\n",
    "import lsst.afw.display as afwDisplay\n",
    "import lsst.afw.table as afwTable\n",
    "import lsst.geom as geom\n",
    "import pprint"
   ]
  },
  {
   "cell_type": "code",
   "execution_count": null,
   "id": "149a62b7-f35f-40ab-9d2f-e6587ea61053",
   "metadata": {},
   "outputs": [],
   "source": [
    "#Set the matplotlib plot color table.\n",
    "plt.style.use('tableau-colorblind10')"
   ]
  },
  {
   "cell_type": "code",
   "execution_count": null,
   "id": "1b28c925-fab1-426f-9aee-d75df0647362",
   "metadata": {},
   "outputs": [],
   "source": [
    "# Let us also set `lsst.afw.display` to use the `matplotlib` backend:\n",
    "afwDisplay.setDefaultBackend('matplotlib')\n",
    "plt.rcParams['figure.figsize'] = (6.0, 6.0)"
   ]
  },
  {
   "cell_type": "code",
   "execution_count": null,
   "id": "ef42cf57-90b7-498d-9969-0895969e28c3",
   "metadata": {},
   "outputs": [],
   "source": [
    "def convert_fluxtomag(x) :\n",
    "    \"\"\"\n",
    "    The object and source catalogs store only fluxes. There are hundreds of flux-related columns, \n",
    "    and to store them also as magnitudes would be redundant, and a waste of space.\n",
    "    All flux units are nanojanskys. The AB Magnitudes Wikipedia page provides a concise resource \n",
    "    for users unfamiliar with AB magnitudes and jansky fluxes. To convert to AB magnitudes use:\n",
    "    As demonstrated in Section 2.3.2, to add columns of magnitudes after retrieving columns of flux, users can do this:\n",
    "    results_table['r_calibMag'] = -2.50 * numpy.log10(results_table['r_calibFlux']) + 31.4\n",
    "    results_table['r_cModelMag'] = -2.50 * numpy.log10(results_table['r_cModelFlux']) + 31.4\n",
    "    (from DP0 tutorial)\n",
    "    \"\"\"\n",
    "    return -2.50 * np.log10(x) + 31.4"
   ]
  },
  {
   "cell_type": "markdown",
   "id": "e46537b4-6331-4a5b-9b0c-299e29946e16",
   "metadata": {},
   "source": [
    "## Config"
   ]
  },
  {
   "cell_type": "markdown",
   "id": "c6a0a6bf-f3fe-4d6a-8f24-a29016c1fe87",
   "metadata": {},
   "source": [
    "### Butler repo and collection"
   ]
  },
  {
   "cell_type": "code",
   "execution_count": null,
   "id": "1c81d99a-5e91-4ba1-ba4a-c66b37905b98",
   "metadata": {},
   "outputs": [],
   "source": [
    "#repo =  \"/sdf/group/rubin/repo/main\"\n",
    "repo = \"/sdf/group/rubin/repo/oga/\"\n",
    "butler = dafButler.Butler(repo)\n",
    "registry = butler.registry"
   ]
  },
  {
   "cell_type": "markdown",
   "id": "20dbb8da-3a08-4b4f-9437-4bf7f28c1782",
   "metadata": {},
   "source": [
    "### Give the collection"
   ]
  },
  {
   "cell_type": "code",
   "execution_count": null,
   "id": "9629ea29-8ab4-4062-aed1-e16d62dc90c4",
   "metadata": {},
   "outputs": [],
   "source": [
    "#my_collection = \"LATISS/runs/AUXTEL_DRP_IMAGING_2023-11A-10A-09AB-08ABC-07AB-05AB/w_2023_46/PREOPS-4553\"\n",
    "my_collection = \"LATISS/runs/AUXTEL_DRP_IMAGING_20230509_20240201/w_2024_05/PREOPS-4871\""
   ]
  },
  {
   "cell_type": "markdown",
   "id": "a7587b10-c178-4537-9c34-60867b69fa01",
   "metadata": {},
   "source": [
    "### input files\n",
    "\n",
    "- object file\n",
    "- tract and patch"
   ]
  },
  {
   "cell_type": "code",
   "execution_count": null,
   "id": "01dbe034-8d17-45fd-a08a-faa902cd6754",
   "metadata": {},
   "outputs": [],
   "source": [
    "!ls ../data/202402"
   ]
  },
  {
   "cell_type": "code",
   "execution_count": null,
   "id": "1a16d3f6-dd2f-477c-b1b5-29909b41b9fc",
   "metadata": {},
   "outputs": [],
   "source": [
    "file_obs = \"../data/202402/objectTable_202402.csv\"\n",
    "file_tractpatch = \"../data/202402/Latiss_tractspatchs_202402.pickle\""
   ]
  },
  {
   "cell_type": "markdown",
   "id": "51d84e83-c10b-423d-9151-680ed19884fa",
   "metadata": {},
   "source": [
    "### DataId\n",
    "\n",
    "- Tract 5615, patch 294 ou 313\n",
    "- tract 5634, patch 72,73, 91, 92"
   ]
  },
  {
   "cell_type": "code",
   "execution_count": null,
   "id": "459f53c7-b9cb-437a-964f-25e96a66ac30",
   "metadata": {},
   "outputs": [],
   "source": [
    "tract = 5615\n",
    "patch = 294\n",
    "band = 'r'\n",
    "skymap = 'latiss_v1'"
   ]
  },
  {
   "cell_type": "code",
   "execution_count": null,
   "id": "ea7f3111-1c0d-4c6a-ba3b-67b02b6d0354",
   "metadata": {},
   "outputs": [],
   "source": [
    "the_dataId = {'skymap':skymap,'band': band, 'tract': tract, 'patch': patch}"
   ]
  },
  {
   "cell_type": "code",
   "execution_count": null,
   "id": "4fd8249c-a45a-4e2c-847d-0ee1353e9974",
   "metadata": {},
   "outputs": [],
   "source": [
    "the_title = f\"Auxtel deepCoadd : band={band}, tract={tract}, patch={patch}\" "
   ]
  },
  {
   "cell_type": "markdown",
   "id": "d862a4f1-3f5c-464b-83a5-525edd50f485",
   "metadata": {},
   "source": [
    "## Init"
   ]
  },
  {
   "cell_type": "code",
   "execution_count": null,
   "id": "2fada14c-e741-4516-89d1-3ea95994c027",
   "metadata": {},
   "outputs": [],
   "source": [
    "with open(file_tractpatch , 'rb') as handle:\n",
    "    tracts_patchs_dict = pickle.load(handle)"
   ]
  },
  {
   "cell_type": "code",
   "execution_count": null,
   "id": "d97616ae-ed53-44d4-bf08-b7fc602c61a9",
   "metadata": {},
   "outputs": [],
   "source": [
    "tracts_patchs_dict"
   ]
  },
  {
   "cell_type": "code",
   "execution_count": null,
   "id": "9648c5f6-9244-4fd8-b953-0d2141aaf705",
   "metadata": {},
   "outputs": [],
   "source": [
    "df = pd.read_csv(file_obs,index_col=0) "
   ]
  },
  {
   "cell_type": "code",
   "execution_count": null,
   "id": "e490b91f-e1d0-4f7d-8f9c-12473e1e0e07",
   "metadata": {},
   "outputs": [],
   "source": [
    "selection1 =  (df[\"tract\"] == tract) & (df[\"patch\"] == patch)\n",
    "selection2 = df[\"refExtendedness\"] == False\n",
    "selection3 = df[\"detect_isPrimary\"] == True"
   ]
  },
  {
   "cell_type": "code",
   "execution_count": null,
   "id": "e9c71c77-498b-4caa-a31a-511241ebc349",
   "metadata": {},
   "outputs": [],
   "source": [
    "df_sel = df[selection1 & selection2 & selection3]"
   ]
  },
  {
   "cell_type": "code",
   "execution_count": null,
   "id": "3c20bf42-f8a0-45cb-a226-adaa8507d485",
   "metadata": {},
   "outputs": [],
   "source": [
    "df_sel[\"g_cModelMag\"] = df_sel[\"g_cModelFlux\"].map(convert_fluxtomag)\n",
    "df_sel[\"r_cModelMag\"] = df_sel[\"r_cModelFlux\"].map(convert_fluxtomag)\n",
    "df_sel[\"i_cModelMag\"] = df_sel[\"i_cModelFlux\"].map(convert_fluxtomag)"
   ]
  },
  {
   "cell_type": "markdown",
   "id": "feace90b-2320-4aab-9157-3c41058dbbdd",
   "metadata": {
    "execution": {
     "iopub.execute_input": "2023-12-23T19:39:35.028551Z",
     "iopub.status.busy": "2023-12-23T19:39:35.027982Z",
     "iopub.status.idle": "2023-12-23T19:39:35.031929Z",
     "shell.execute_reply": "2023-12-23T19:39:35.031433Z",
     "shell.execute_reply.started": "2023-12-23T19:39:35.028535Z"
    }
   },
   "source": [
    "## Plot magnitudes No Selection cut"
   ]
  },
  {
   "cell_type": "code",
   "execution_count": null,
   "id": "6fb748e0-5068-4e05-a884-b19596a138e5",
   "metadata": {},
   "outputs": [],
   "source": [
    "fig, (ax1,ax2,ax3) = plt.subplots(1,3,figsize=(14,4))\n",
    "\n",
    "df_sel['g_cModelMag'].plot(kind=\"hist\",bins=50,range=(5,30),facecolor=\"g\",logy=True,grid=True,title=\"g_cModelMag\",ax=ax1)\n",
    "df_sel['r_cModelMag'].plot(kind=\"hist\",bins=50,range=(5,30),facecolor=\"r\",logy=True,grid=True,title=\"r_cModelMag\",ax=ax2)\n",
    "df_sel['i_cModelMag'].plot(kind=\"hist\",bins=50,range=(5,30),facecolor=\"grey\",logy=True,grid=True,title=\"i_cModelMag\",ax=ax3)\n",
    "plt.tight_layout()\n",
    "plt.suptitle(the_title)"
   ]
  },
  {
   "cell_type": "markdown",
   "id": "9cca50af-8468-4af9-bbf2-1dcd8b7b4e89",
   "metadata": {},
   "source": [
    "### Plot deep Coadds without selection"
   ]
  },
  {
   "cell_type": "code",
   "execution_count": null,
   "id": "b15ddf8d-ca07-4c3e-a93a-5f683e87c41d",
   "metadata": {},
   "outputs": [],
   "source": [
    "pos_obj = df_sel[[\"x\",\"y\",\"g_ra\",\"r_ra\",\"i_ra\", \"g_dec\",\"r_dec\",\"i_dec\" ]]\n",
    "pos_obj"
   ]
  },
  {
   "cell_type": "code",
   "execution_count": null,
   "id": "93964649-e924-4ce2-9ec5-815211b814f2",
   "metadata": {},
   "outputs": [],
   "source": [
    "my_deepCoadd = butler.get('deepCoadd', dataId=the_dataId,collections=my_collection)\n",
    "my_deepCoadd_inputs = butler.get(\"deepCoadd.coaddInputs\",the_dataId,collections=my_collection)   "
   ]
  },
  {
   "cell_type": "code",
   "execution_count": null,
   "id": "5e13d06f-7626-49e7-96e6-8df8f12c7de1",
   "metadata": {},
   "outputs": [],
   "source": [
    "my_deepCoadd_inputs.visits.asAstropy()"
   ]
  },
  {
   "cell_type": "code",
   "execution_count": null,
   "id": "99d98088-e1b1-4bc7-b5c9-c20c7eaa9106",
   "metadata": {},
   "outputs": [],
   "source": [
    "# Plot the calexp we just retrieved\n",
    "plt.figure()\n",
    "afw_display = afwDisplay.Display()\n",
    "afw_display.scale('asinh', 'zscale')\n",
    "afw_display.mtv(my_deepCoadd.image,title=the_title )\n",
    "\n",
    "with afw_display.Buffering():\n",
    "    for index, row in pos_obj.iterrows():\n",
    "        x = row[\"x\"]\n",
    "        y = row[\"y\"]\n",
    "        afw_display.dot('o', x , y, size=50, ctype='yellow')\n",
    "\n",
    "plt.gca().axis('on')\n",
    "\n",
    "#plt.scatter(pos_obj.x.values,pos_obj.y.values,marker=\"o\",color=\"y\")"
   ]
  },
  {
   "cell_type": "markdown",
   "id": "5fee7533-5c58-4266-a7b6-5c73f7770168",
   "metadata": {},
   "source": [
    "## Plot magnitude by applying Selection cut"
   ]
  },
  {
   "cell_type": "code",
   "execution_count": null,
   "id": "0f3cb3fc-ab06-4fdb-a4f9-3076c2d8ed55",
   "metadata": {},
   "outputs": [],
   "source": [
    "selection4 = df_sel[\"r_cModelMag\"] < 17.0\n",
    "df_sel = df_sel[selection4]"
   ]
  },
  {
   "cell_type": "code",
   "execution_count": null,
   "id": "ba953203-85a8-4c01-aef6-731200c2cfd7",
   "metadata": {},
   "outputs": [],
   "source": [
    "fig, (ax1,ax2,ax3) = plt.subplots(1,3,figsize=(14,4))\n",
    "\n",
    "df_sel['g_cModelMag'].plot(kind=\"hist\",bins=50,range=(5,30),facecolor=\"g\",logy=True,grid=True,title=\"g_cModelMag\",ax=ax1)\n",
    "df_sel['r_cModelMag'].plot(kind=\"hist\",bins=50,range=(5,30),facecolor=\"r\",logy=True,grid=True,title=\"r_cModelMag\",ax=ax2)\n",
    "df_sel['i_cModelMag'].plot(kind=\"hist\",bins=50,range=(5,30),facecolor=\"grey\",logy=True,grid=True,title=\"i_cModelMag\",ax=ax3)\n",
    "plt.tight_layout()\n",
    "plt.suptitle(the_title)"
   ]
  },
  {
   "cell_type": "markdown",
   "id": "7a0a1a49-1c3b-4f52-a461-7b15180a60ff",
   "metadata": {},
   "source": [
    "## Position"
   ]
  },
  {
   "cell_type": "code",
   "execution_count": null,
   "id": "3a8301b2-dce7-486e-864a-185f28b43975",
   "metadata": {},
   "outputs": [],
   "source": [
    "#colnames = list(df_sel.columns)\n",
    "#for col in colnames:\n",
    "#    if \"ra\" in col:\n",
    "#        print(col)"
   ]
  },
  {
   "cell_type": "code",
   "execution_count": null,
   "id": "ab40da00-fd97-43f3-9f0f-af7720ee4f19",
   "metadata": {},
   "outputs": [],
   "source": [
    "pos_obj = df_sel[[\"x\",\"y\",\"g_ra\",\"r_ra\",\"i_ra\", \"g_dec\",\"r_dec\",\"i_dec\" ]]\n",
    "pos_obj"
   ]
  },
  {
   "cell_type": "markdown",
   "id": "432e82a4-5617-48b3-a5bb-1f2c550c8525",
   "metadata": {},
   "source": [
    "## deepCoadd"
   ]
  },
  {
   "cell_type": "code",
   "execution_count": null,
   "id": "b62be7a7-73bf-4e4e-a4f8-99e1105dee22",
   "metadata": {},
   "outputs": [],
   "source": [
    "my_deepCoadd = butler.get('deepCoadd', dataId=the_dataId,collections=my_collection)\n",
    "my_deepCoadd_inputs = butler.get(\"deepCoadd.coaddInputs\",the_dataId,collections=my_collection)   "
   ]
  },
  {
   "cell_type": "code",
   "execution_count": null,
   "id": "9ba8efd0-2fb4-4282-a835-e4251c0b581a",
   "metadata": {},
   "outputs": [],
   "source": [
    "my_deepCoadd_inputs.visits.asAstropy()"
   ]
  },
  {
   "cell_type": "markdown",
   "id": "33abc7bd-ffc6-4ebf-ab17-d0af738d68f9",
   "metadata": {},
   "source": [
    "## Compare object position with deepcoadds"
   ]
  },
  {
   "cell_type": "code",
   "execution_count": null,
   "id": "26a93a92-bcba-41d1-a687-c2f55dedd6e7",
   "metadata": {},
   "outputs": [],
   "source": [
    "# Plot the calexp we just retrieved\n",
    "plt.figure()\n",
    "afw_display = afwDisplay.Display()\n",
    "afw_display.scale('asinh', 'zscale')\n",
    "afw_display.mtv(my_deepCoadd.image,title=the_title )\n",
    "\n",
    "with afw_display.Buffering():\n",
    "    for index, row in pos_obj.iterrows():\n",
    "        x = row[\"x\"]\n",
    "        y = row[\"y\"]\n",
    "        afw_display.dot('o', x , y, size=50, ctype='yellow')\n",
    "\n",
    "plt.gca().axis('on')\n",
    "\n",
    "#plt.scatter(pos_obj.x.values,pos_obj.y.values,marker=\"o\",color=\"y\")"
   ]
  },
  {
   "cell_type": "code",
   "execution_count": null,
   "id": "b16c42bc-abe0-4a90-abd2-d2012421b104",
   "metadata": {},
   "outputs": [],
   "source": [
    "# Plot the calexp we just retrieved\n",
    "plt.figure(figsize=(12,12))\n",
    "afw_display = afwDisplay.Display(figsize=(12,12))\n",
    "afw_display.scale('asinh', 'zscale')\n",
    "afw_display.mtv(my_deepCoadd.maskedImage.image,title=the_title+\" masked\")\n",
    "\n",
    "with afw_display.Buffering():\n",
    "    for index, row in pos_obj.iterrows():\n",
    "        x = row[\"x\"]\n",
    "        y = row[\"y\"]\n",
    "        afw_display.dot('o', x , y, size=50, ctype='yellow')\n",
    "\n",
    "\n",
    "plt.gca().axis('on')"
   ]
  },
  {
   "cell_type": "markdown",
   "id": "72346082-4778-49df-9702-2f5509b88da1",
   "metadata": {
    "execution": {
     "iopub.status.busy": "2023-12-23T19:20:09.816128Z",
     "iopub.status.idle": "2023-12-23T19:20:09.816271Z",
     "shell.execute_reply": "2023-12-23T19:20:09.816203Z",
     "shell.execute_reply.started": "2023-12-23T19:20:09.816197Z"
    }
   },
   "source": [
    "## Histo"
   ]
  },
  {
   "cell_type": "code",
   "execution_count": null,
   "id": "23307864-856e-4c92-8bda-8a70a9c96017",
   "metadata": {},
   "outputs": [],
   "source": [
    "fig=plt.figure(figsize=(4,4))\n",
    "ax=fig.add_subplot(1,1,1)\n",
    "ax.hist(my_deepCoadd.image.array.flatten(),bins=100,range=(-50,1000),alpha=0.5,facecolor='blue')\n",
    "ax.hist(my_deepCoadd.maskedImage.image.array.flatten(),bins=100,range=(-50,1000),alpha=0.5,facecolor=\"yellow\")\n",
    "ax.set_yscale('log')\n",
    "ax.grid()\n",
    "ax.set_title(the_title)"
   ]
  },
  {
   "cell_type": "code",
   "execution_count": null,
   "id": "bce96a69-4559-4be3-96c4-694c2efae6f4",
   "metadata": {},
   "outputs": [],
   "source": []
  }
 ],
 "metadata": {
  "kernelspec": {
   "display_name": "LSST",
   "language": "python",
   "name": "lsst"
  },
  "language_info": {
   "codemirror_mode": {
    "name": "ipython",
    "version": 3
   },
   "file_extension": ".py",
   "mimetype": "text/x-python",
   "name": "python",
   "nbconvert_exporter": "python",
   "pygments_lexer": "ipython3",
   "version": "3.11.7"
  }
 },
 "nbformat": 4,
 "nbformat_minor": 5
}
