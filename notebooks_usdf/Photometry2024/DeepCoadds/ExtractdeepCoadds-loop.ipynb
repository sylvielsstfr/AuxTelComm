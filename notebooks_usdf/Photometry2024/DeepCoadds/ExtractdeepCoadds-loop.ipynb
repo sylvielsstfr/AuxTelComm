{
 "cells": [
  {
   "cell_type": "markdown",
   "id": "0b8c2138-5194-4d03-8b77-be24e2cc8ee3",
   "metadata": {},
   "source": [
    "# Extract deep coadds"
   ]
  },
  {
   "cell_type": "markdown",
   "id": "740e34fb-3fef-45a8-941b-c229742ab016",
   "metadata": {},
   "source": [
    " work with Weakly_2022_44\n",
    "- use jupyter kernel LSST\n",
    "\n",
    "\n",
    "- author : Sylvie Dagoret-Campagne\n",
    "- affiliation : IJCLab\n",
    "- creation date : 2023/12/22\n",
    "- update : 2023/12/22\n"
   ]
  },
  {
   "cell_type": "code",
   "execution_count": null,
   "id": "ed2c3410-fe83-432e-ab87-9f4513fa8d8b",
   "metadata": {},
   "outputs": [],
   "source": [
    "! eups list -s | grep LOCAL"
   ]
  },
  {
   "cell_type": "code",
   "execution_count": null,
   "id": "70918d81-0cf6-4b0a-8f61-f5e5bec5b0e7",
   "metadata": {},
   "outputs": [],
   "source": [
    "! eups list -s lsst_distrib"
   ]
  },
  {
   "cell_type": "code",
   "execution_count": null,
   "id": "f8d9cfca-5881-48c1-b2cb-0f794a2e4091",
   "metadata": {},
   "outputs": [],
   "source": [
    "import lsst.daf.butler as dafButler\n",
    "import lsst.daf.base as dafBase"
   ]
  },
  {
   "cell_type": "code",
   "execution_count": null,
   "id": "1ceacda9-20b0-4d77-a0d2-572c957ce273",
   "metadata": {},
   "outputs": [],
   "source": [
    "import numpy as np\n",
    "import matplotlib.pyplot as plt\n",
    "import matplotlib as mpl\n",
    "import matplotlib.cm as cm \n",
    "import matplotlib.colors as colors\n",
    "import matplotlib.cm as cmx\n",
    "import matplotlib.dates as mdates\n",
    "%matplotlib inline\n",
    "from mpl_toolkits.axes_grid1 import make_axes_locatable\n",
    "from matplotlib.colors import LogNorm\n",
    "from astropy.visualization import imshow_norm, MinMaxInterval, SqrtStretch\n",
    "# Astropy\n",
    "from astropy.visualization import ZScaleInterval, AsinhStretch\n",
    "\n",
    "import pandas as pd\n",
    "\n",
    "import matplotlib.ticker                         # here's where the formatter is\n",
    "import os\n",
    "import re\n",
    "import pandas as pd\n",
    "\n",
    "plt.rcParams[\"figure.figsize\"] = (4,3)\n",
    "plt.rcParams[\"axes.labelsize\"] = 'xx-large'\n",
    "plt.rcParams['axes.titlesize'] = 'xx-large'\n",
    "plt.rcParams['xtick.labelsize']= 'xx-large'\n",
    "plt.rcParams['ytick.labelsize']= 'xx-large'"
   ]
  },
  {
   "cell_type": "code",
   "execution_count": null,
   "id": "3c373d2d-e7e7-4b70-9290-56208884f154",
   "metadata": {},
   "outputs": [],
   "source": [
    "import lsst.afw.image as afwImage\n",
    "import lsst.afw.display as afwDisplay\n",
    "import lsst.afw.table as afwTable\n",
    "import lsst.geom as geom\n",
    "import pprint"
   ]
  },
  {
   "cell_type": "code",
   "execution_count": null,
   "id": "149a62b7-f35f-40ab-9d2f-e6587ea61053",
   "metadata": {},
   "outputs": [],
   "source": [
    "#Set the matplotlib plot color table.\n",
    "plt.style.use('tableau-colorblind10')"
   ]
  },
  {
   "cell_type": "code",
   "execution_count": null,
   "id": "1b28c925-fab1-426f-9aee-d75df0647362",
   "metadata": {},
   "outputs": [],
   "source": [
    "# Let us also set `lsst.afw.display` to use the `matplotlib` backend:\n",
    "afwDisplay.setDefaultBackend('matplotlib')\n",
    "plt.rcParams['figure.figsize'] = (6.0, 6.0)"
   ]
  },
  {
   "cell_type": "code",
   "execution_count": null,
   "id": "1c81d99a-5e91-4ba1-ba4a-c66b37905b98",
   "metadata": {},
   "outputs": [],
   "source": [
    "#repo =  \"/sdf/group/rubin/repo/main\"\n",
    "repo = \"/sdf/group/rubin/repo/oga/\"\n",
    "butler = dafButler.Butler(repo)\n",
    "registry = butler.registry"
   ]
  },
  {
   "cell_type": "markdown",
   "id": "20dbb8da-3a08-4b4f-9437-4bf7f28c1782",
   "metadata": {},
   "source": [
    "## Give the collection"
   ]
  },
  {
   "cell_type": "code",
   "execution_count": null,
   "id": "9629ea29-8ab4-4062-aed1-e16d62dc90c4",
   "metadata": {},
   "outputs": [],
   "source": [
    "my_collection = \"LATISS/runs/AUXTEL_DRP_IMAGING_2023-11A-10A-09AB-08ABC-07AB-05AB/w_2023_46/PREOPS-4553\""
   ]
  },
  {
   "cell_type": "code",
   "execution_count": null,
   "id": "b0128c3c-d82d-420b-92fe-f6573bdfd688",
   "metadata": {},
   "outputs": [],
   "source": [
    "def get_corners_radec(wcs, bbox):\n",
    "    \"\"\"\n",
    "    Return the corners in RA,Dec in degrees given the WCS and bounding box for an image.\n",
    "\n",
    "    Parameters\n",
    "    ----------\n",
    "    wcs: image WCS returned by the Butler\n",
    "    bbox: bounding box returned by the Butler\n",
    "\n",
    "    Returns\n",
    "    -------\n",
    "    corners_ra, corners_dec in decimal degrees\n",
    "    \"\"\"\n",
    "\n",
    "    corners_x = [bbox.beginX, bbox.beginX, bbox.endX, bbox.endX]\n",
    "    corners_y = [bbox.beginY, bbox.endY, bbox.endY, bbox.beginY]\n",
    "    corners_ra = []\n",
    "    corners_dec = []\n",
    "    for i in range(4):\n",
    "        radec = wcs.pixelToSky(corners_x[i], corners_y[i])\n",
    "        corners_ra.append(radec.getRa().asDegrees())\n",
    "        corners_dec.append(radec.getDec().asDegrees())\n",
    "    \n",
    "    return corners_ra, corners_dec"
   ]
  },
  {
   "cell_type": "markdown",
   "id": "a7587b10-c178-4537-9c34-60867b69fa01",
   "metadata": {},
   "source": [
    "## Config"
   ]
  },
  {
   "cell_type": "code",
   "execution_count": null,
   "id": "756e5760-85ef-4f1e-ba64-eea0323ee5bd",
   "metadata": {},
   "outputs": [],
   "source": [
    "all_tracts = np.array([5616, 5634, 5615, 10644, 383, 8188, 3863, 455, 452, 5839, 10643, 382])"
   ]
  },
  {
   "cell_type": "code",
   "execution_count": null,
   "id": "9c275d09-b696-4e8b-b6fe-7d3a87d943fc",
   "metadata": {},
   "outputs": [],
   "source": [
    "#index = 0 # medium, patchy, no entire patch, but low density\n",
    "#index = 1 # dense field\n",
    "#index = 2 # medium density galaxy in it\n",
    "#index = 3 # solar system avoid\n",
    "#index = 4 # too big on latitude\n",
    "#index = 5 # too low latitude\n",
    "index = 6 # low density tract 3863 good patch 242,243\n",
    "#index = 7 # too dense\n",
    "#index= 8 # good patch 43\n",
    "#index = 9 # not interesting\n",
    "#index = 10 # not interesting\n",
    "#index = 11 # too dense\n",
    "itract_sel = all_tracts[index]"
   ]
  },
  {
   "cell_type": "markdown",
   "id": "432e82a4-5617-48b3-a5bb-1f2c550c8525",
   "metadata": {},
   "source": [
    "## deepCoadd"
   ]
  },
  {
   "cell_type": "code",
   "execution_count": null,
   "id": "38349d38-ae86-48c9-8037-370a62cd522d",
   "metadata": {},
   "outputs": [],
   "source": [
    "datasetRefs = registry.queryDatasets(datasetType='deepCoadd', collections=my_collection, where= \"instrument='LATISS'\")"
   ]
  },
  {
   "cell_type": "code",
   "execution_count": null,
   "id": "b62be7a7-73bf-4e4e-a4f8-99e1105dee22",
   "metadata": {},
   "outputs": [],
   "source": [
    "all_dataId = []\n",
    "all_deepcoadds  = []\n",
    "all_titles = []\n",
    "\n",
    "all_deepCoadd_wcs = []\n",
    "all_deepCoadd_bbox = []\n",
    "all_deepCoadd_corners_ra= []\n",
    "all_deepCoadd_corners_dec = []\n",
    "all_xvals = []\n",
    "all_yvals = []\n",
    "all_str_tract_patch = []\n",
    "\n",
    "for i, ref in enumerate(datasetRefs):\n",
    "\n",
    "    band = ref.dataId[\"band\"]\n",
    "    tract = ref.dataId[\"tract\"]\n",
    "    patch = ref.dataId[\"patch\"]\n",
    "    skymap = ref.dataId[\"skymap\"]\n",
    "\n",
    "    if tract == itract_sel:\n",
    "        print(f\"========({i})================datasetType = deepCoadd ============================================\")\n",
    "        print(\"fullId..................:\",ref.dataId.full)\n",
    "        print(\"band....................:\",ref.dataId[\"band\"])\n",
    "        print(\"skymap..................:\",ref.dataId[\"skymap\"])\n",
    "        print(\"tract..................:\",ref.dataId[\"tract\"])\n",
    "        print(\"patch..................:\",ref.dataId[\"patch\"])\n",
    "        print(\"run.....................:\",ref.run)\n",
    "    \n",
    "    \n",
    "        the_dataId = {'skymap':skymap,'band': band, 'tract': tract, 'patch': patch}\n",
    "        the_title = f\"Auxtel deepCoadd : band={band}, tract={tract}, patch={patch}\" \n",
    "        my_deepCoadd = butler.get('deepCoadd', dataId=ref.dataId.full,collections=my_collection)\n",
    "\n",
    "        #my_deepCoadd_wcs = butler.get('deepCoadd.wcs', dataId=ref.dataId.full)\n",
    "        #my_deepCoadd_bbox = butler.get('deepCoadd.bbox', dataId=ref.dataId.full)\n",
    "        my_deepCoadd_wcs = my_deepCoadd.wcs\n",
    "        my_deepCoadd_bbox = my_deepCoadd.getBBox() \n",
    "        my_deepCoadd_corners_ra, my_deepCoadd_corners_dec = get_corners_radec(my_deepCoadd_wcs, my_deepCoadd_bbox)\n",
    "        my_xvals = [my_deepCoadd_corners_ra[0], my_deepCoadd_corners_ra[1], my_deepCoadd_corners_ra[2], \\\n",
    "             my_deepCoadd_corners_ra[3], my_deepCoadd_corners_ra[0]]\n",
    "        my_yvals = [my_deepCoadd_corners_dec[0], my_deepCoadd_corners_dec[1], my_deepCoadd_corners_dec[2], \\\n",
    "             my_deepCoadd_corners_dec[3], my_deepCoadd_corners_dec[0]]\n",
    "\n",
    "        str_tract_patch = '(' + str(ref.dataId['tract']) + ', ' + str(ref.dataId['patch'])+')'\n",
    "        \n",
    "        all_dataId.append(the_dataId) \n",
    "        all_deepcoadds.append(my_deepCoadd)\n",
    "        all_titles.append(the_title)\n",
    "        all_deepCoadd_wcs.append( my_deepCoadd_wcs)\n",
    "        all_deepCoadd_bbox.append(my_deepCoadd_bbox)\n",
    "        all_deepCoadd_corners_ra.append(my_deepCoadd_corners_ra)\n",
    "        all_deepCoadd_corners_dec.append(my_deepCoadd_corners_dec)\n",
    "        all_xvals.append(my_xvals)\n",
    "        all_yvals.append(my_yvals)\n",
    "        all_str_tract_patch.append(str_tract_patch)  \n",
    "    "
   ]
  },
  {
   "cell_type": "markdown",
   "id": "0fe0922e-7b6e-4ddc-aa5a-f671d377e65f",
   "metadata": {},
   "source": [
    "## Plot patchs"
   ]
  },
  {
   "cell_type": "code",
   "execution_count": null,
   "id": "5d35e519-ac70-4cf7-90ab-4ebbc8636676",
   "metadata": {},
   "outputs": [],
   "source": [
    "fig = plt.figure(figsize=(6, 6))\n",
    "\n",
    "for idx,dataid in enumerate(all_dataId):  \n",
    "\n",
    "    xvals = all_xvals[idx]\n",
    "    yvals = all_yvals[idx]\n",
    "    str_tract_patch = all_str_tract_patch[idx]\n",
    "    plt.plot(xvals, yvals, ls='solid', lw=1, label=str_tract_patch)\n",
    "\n",
    "plt.xlabel('RA')\n",
    "plt.ylabel('Dec')\n",
    "plt.legend(bbox_to_anchor=(1.1, 1.05), ncol=3)\n",
    "the_title_tract = f\"Auxtel : tract {itract_sel}\"\n",
    "plt.title(the_title_tract)\n",
    "plt.gca().set_aspect('equal')\n",
    "plt.show()"
   ]
  },
  {
   "cell_type": "markdown",
   "id": "fb9793e8-4bd4-4a40-86fe-c2c9b390ec41",
   "metadata": {},
   "source": [
    "## plot deepCoadd"
   ]
  },
  {
   "cell_type": "code",
   "execution_count": null,
   "id": "527cbca8-02cd-4ac8-bfb1-aced836f4021",
   "metadata": {},
   "outputs": [],
   "source": [
    "N = len(all_deepcoadds)\n",
    "\n",
    "for index in range(N):\n",
    "    the_dataid = all_dataId[index]\n",
    "    the_deepcoadd = all_deepcoadds[index]\n",
    "    the_title = f\"{index})  \"+all_titles[index]\n",
    "\n",
    "    # Plot the calexp we just retrieved\n",
    "    plt.figure()\n",
    "    #afw_display = afwDisplay.Display()\n",
    "    #afw_display.scale('asinh', 'zscale')\n",
    "    #afw_display.mtv(the_deepcoadd.image,title=the_title )\n",
    "    #plt.gca().axis('on')\n",
    "    transform = AsinhStretch() + ZScaleInterval()\n",
    "    scaledImage = transform(the_deepcoadd.image.array)\n",
    "    #scaledImage = np.flipud(scaledImage)\n",
    "    plt.imshow(scaledImage,origin=\"lower\")\n",
    "    plt.title(the_title)\n",
    "    plt.show()\n"
   ]
  },
  {
   "cell_type": "code",
   "execution_count": null,
   "id": "bd506ee0-0121-48a5-99be-1e16d87da552",
   "metadata": {},
   "outputs": [],
   "source": []
  },
  {
   "cell_type": "code",
   "execution_count": null,
   "id": "bce96a69-4559-4be3-96c4-694c2efae6f4",
   "metadata": {},
   "outputs": [],
   "source": []
  }
 ],
 "metadata": {
  "kernelspec": {
   "display_name": "LSST",
   "language": "python",
   "name": "lsst"
  },
  "language_info": {
   "codemirror_mode": {
    "name": "ipython",
    "version": 3
   },
   "file_extension": ".py",
   "mimetype": "text/x-python",
   "name": "python",
   "nbconvert_exporter": "python",
   "pygments_lexer": "ipython3",
   "version": "3.11.4"
  }
 },
 "nbformat": 4,
 "nbformat_minor": 5
}
