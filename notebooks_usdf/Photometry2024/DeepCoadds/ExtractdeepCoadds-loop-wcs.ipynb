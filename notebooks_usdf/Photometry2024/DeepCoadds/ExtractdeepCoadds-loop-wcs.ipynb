{
 "cells": [
  {
   "cell_type": "markdown",
   "id": "0b8c2138-5194-4d03-8b77-be24e2cc8ee3",
   "metadata": {},
   "source": [
    "# Extract deep coadds in ra-dec coordinates"
   ]
  },
  {
   "cell_type": "markdown",
   "id": "740e34fb-3fef-45a8-941b-c229742ab016",
   "metadata": {},
   "source": [
    " work with Weakly_2024_07\n",
    "- use jupyter kernel LSST\n",
    "\n",
    "\n",
    "- author : Sylvie Dagoret-Campagne\n",
    "- affiliation : IJCLab\n",
    "- creation date : 2023/12/23\n",
    "- update : 2024/03/01\n"
   ]
  },
  {
   "cell_type": "code",
   "execution_count": null,
   "id": "ed2c3410-fe83-432e-ab87-9f4513fa8d8b",
   "metadata": {},
   "outputs": [],
   "source": [
    "! eups list -s | grep LOCAL"
   ]
  },
  {
   "cell_type": "code",
   "execution_count": null,
   "id": "70918d81-0cf6-4b0a-8f61-f5e5bec5b0e7",
   "metadata": {},
   "outputs": [],
   "source": [
    "! eups list -s lsst_distrib"
   ]
  },
  {
   "cell_type": "code",
   "execution_count": null,
   "id": "f8d9cfca-5881-48c1-b2cb-0f794a2e4091",
   "metadata": {},
   "outputs": [],
   "source": [
    "import lsst.daf.butler as dafButler\n",
    "import lsst.daf.base as dafBase"
   ]
  },
  {
   "cell_type": "code",
   "execution_count": null,
   "id": "1ceacda9-20b0-4d77-a0d2-572c957ce273",
   "metadata": {},
   "outputs": [],
   "source": [
    "import numpy as np\n",
    "import matplotlib.pyplot as plt\n",
    "import matplotlib as mpl\n",
    "import matplotlib.cm as cm \n",
    "import matplotlib.colors as colors\n",
    "import matplotlib.cm as cmx\n",
    "import matplotlib.dates as mdates\n",
    "from matplotlib.colors import ListedColormap\n",
    "%matplotlib inline\n",
    "from mpl_toolkits.axes_grid1 import make_axes_locatable\n",
    "from matplotlib.colors import LogNorm\n",
    "from astropy.visualization import imshow_norm, MinMaxInterval, SqrtStretch\n",
    "# Astropy\n",
    "from astropy.visualization import ZScaleInterval, AsinhStretch\n",
    "\n",
    "from matplotlib.patches import Polygon\n",
    "from matplotlib.collections import PatchCollection\n",
    "\n",
    "import pandas as pd\n",
    "\n",
    "import matplotlib.ticker                         # here's where the formatter is\n",
    "import os\n",
    "import re\n",
    "import pandas as pd\n",
    "from astropy.wcs import WCS\n",
    "\n",
    "\n",
    "plt.rcParams[\"figure.figsize\"] = (4,3)\n",
    "plt.rcParams[\"axes.labelsize\"] = 'xx-large'\n",
    "plt.rcParams['axes.titlesize'] = 'xx-large'\n",
    "plt.rcParams['xtick.labelsize']= 'xx-large'\n",
    "plt.rcParams['ytick.labelsize']= 'xx-large'"
   ]
  },
  {
   "cell_type": "code",
   "execution_count": null,
   "id": "3c373d2d-e7e7-4b70-9290-56208884f154",
   "metadata": {},
   "outputs": [],
   "source": [
    "import lsst.afw.image as afwImage\n",
    "import lsst.afw.display as afwDisplay\n",
    "import lsst.afw.table as afwTable\n",
    "import lsst.geom as geom\n",
    "import pprint"
   ]
  },
  {
   "cell_type": "code",
   "execution_count": null,
   "id": "149a62b7-f35f-40ab-9d2f-e6587ea61053",
   "metadata": {},
   "outputs": [],
   "source": [
    "#Set the matplotlib plot color table.\n",
    "plt.style.use('tableau-colorblind10')\n",
    "import seaborn as sns"
   ]
  },
  {
   "cell_type": "code",
   "execution_count": null,
   "id": "1b28c925-fab1-426f-9aee-d75df0647362",
   "metadata": {},
   "outputs": [],
   "source": [
    "# Let us also set `lsst.afw.display` to use the `matplotlib` backend:\n",
    "afwDisplay.setDefaultBackend('matplotlib')\n",
    "plt.rcParams['figure.figsize'] = (6.0, 6.0)"
   ]
  },
  {
   "cell_type": "code",
   "execution_count": null,
   "id": "92dd07fd-8cce-47d4-bdd5-3e2c09138754",
   "metadata": {},
   "outputs": [],
   "source": [
    "from astropy.time import Time\n",
    "from astropy.coordinates import SkyCoord\n",
    "from astropy import coordinates\n",
    "import astropy.units as u"
   ]
  },
  {
   "cell_type": "code",
   "execution_count": null,
   "id": "1c81d99a-5e91-4ba1-ba4a-c66b37905b98",
   "metadata": {},
   "outputs": [],
   "source": [
    "#repo =  \"/sdf/group/rubin/repo/main\"\n",
    "repo = \"/sdf/group/rubin/repo/oga/\"\n",
    "butler = dafButler.Butler(repo)\n",
    "registry = butler.registry"
   ]
  },
  {
   "cell_type": "markdown",
   "id": "20dbb8da-3a08-4b4f-9437-4bf7f28c1782",
   "metadata": {},
   "source": [
    "## Give the collection"
   ]
  },
  {
   "cell_type": "code",
   "execution_count": null,
   "id": "9629ea29-8ab4-4062-aed1-e16d62dc90c4",
   "metadata": {},
   "outputs": [],
   "source": [
    "#my_collection = \"LATISS/runs/AUXTEL_DRP_IMAGING_2023-11A-10A-09AB-08ABC-07AB-05AB/w_2023_46/PREOPS-4553\"\n",
    "my_collection = \"LATISS/runs/AUXTEL_DRP_IMAGING_20230509_20240201/w_2024_05/PREOPS-4871\""
   ]
  },
  {
   "cell_type": "code",
   "execution_count": null,
   "id": "b0128c3c-d82d-420b-92fe-f6573bdfd688",
   "metadata": {},
   "outputs": [],
   "source": [
    "def get_corners_radec(wcs, bbox):\n",
    "    \"\"\"\n",
    "    Return the corners in RA,Dec in degrees given the WCS and bounding box for an image.\n",
    "\n",
    "    Parameters\n",
    "    ----------\n",
    "    wcs: image WCS returned by the Butler\n",
    "    bbox: bounding box returned by the Butler\n",
    "\n",
    "    Returns\n",
    "    -------\n",
    "    corners_ra, corners_dec in decimal degrees\n",
    "    \"\"\"\n",
    "\n",
    "    corners_x = [bbox.beginX, bbox.beginX, bbox.endX, bbox.endX]\n",
    "    corners_y = [bbox.beginY, bbox.endY, bbox.endY, bbox.beginY]\n",
    "    corners_ra = []\n",
    "    corners_dec = []\n",
    "    for i in range(4):\n",
    "        radec = wcs.pixelToSky(corners_x[i], corners_y[i])\n",
    "        corners_ra.append(radec.getRa().asDegrees())\n",
    "        corners_dec.append(radec.getDec().asDegrees())\n",
    "    \n",
    "    return corners_ra, corners_dec"
   ]
  },
  {
   "cell_type": "markdown",
   "id": "a7587b10-c178-4537-9c34-60867b69fa01",
   "metadata": {},
   "source": [
    "## Config\n",
    "\n",
    "- 5615 - OK , Not in our galaxy\n",
    "- 5616 - Non, 1 nuit\n",
    "- 5839 - Non, 1 nuit\n",
    "- 5634 - OK - Galaxie"
   ]
  },
  {
   "cell_type": "code",
   "execution_count": null,
   "id": "756e5760-85ef-4f1e-ba64-eea0323ee5bd",
   "metadata": {},
   "outputs": [],
   "source": [
    "#all_tracts = np.array([5616, 5634, 5615, 10644, 383, 8188, 3863, 455, 452, 5839, 10643, 382])\n",
    "all_tracts = [382,383,452,455,\n",
    "                     3863,3864,\n",
    "                     5614,5615,5616,5634,5839,\n",
    "                     #8188,\n",
    "                     10643,10644]"
   ]
  },
  {
   "cell_type": "markdown",
   "id": "8e438a34-bd8e-4859-bbaf-17964aa553d9",
   "metadata": {},
   "source": [
    "## List of deep coadds"
   ]
  },
  {
   "cell_type": "code",
   "execution_count": null,
   "id": "1cc9e44b-885e-4808-8277-18e218d32ebc",
   "metadata": {},
   "outputs": [],
   "source": [
    "datasetRefs = registry.queryDatasets(datasetType='deepCoadd', collections=my_collection, where= \"instrument='LATISS'\")\n",
    "for i, ref in enumerate(datasetRefs):\n",
    "    print(f\"========({i})================datasetType = deepCoadd ============================================\")\n",
    "    print(\"fullId..................:\",ref.dataId.full)\n",
    "    print(\"band....................:\",ref.dataId[\"band\"])\n",
    "    print(\"skymap..................:\",ref.dataId[\"skymap\"])\n",
    "    print(\"tract..................:\",ref.dataId[\"tract\"])\n",
    "    print(\"patch..................:\",ref.dataId[\"patch\"])\n",
    "    print(\"run.....................:\",ref.run)"
   ]
  },
  {
   "cell_type": "markdown",
   "id": "e254db39-d2d1-4010-b927-a09777542b74",
   "metadata": {},
   "source": [
    "## Select a tract and a band"
   ]
  },
  {
   "cell_type": "code",
   "execution_count": null,
   "id": "33ff0dd8-149f-4022-801e-ef5e578abb2f",
   "metadata": {},
   "outputs": [],
   "source": [
    "index_sel = 5\n",
    "tract_sel = all_tracts[index_sel]\n",
    "band_sel = \"y\""
   ]
  },
  {
   "cell_type": "markdown",
   "id": "432e82a4-5617-48b3-a5bb-1f2c550c8525",
   "metadata": {},
   "source": [
    "## Load deepCoadd"
   ]
  },
  {
   "cell_type": "code",
   "execution_count": null,
   "id": "38349d38-ae86-48c9-8037-370a62cd522d",
   "metadata": {},
   "outputs": [],
   "source": [
    "datasetRefs = registry.queryDatasets(datasetType='deepCoadd', collections=my_collection, where= \"instrument='LATISS'\")"
   ]
  },
  {
   "cell_type": "code",
   "execution_count": null,
   "id": "b62be7a7-73bf-4e4e-a4f8-99e1105dee22",
   "metadata": {},
   "outputs": [],
   "source": [
    "datasetRefs = registry.queryDatasets(datasetType='deepCoadd', collections=my_collection, where= \"instrument='LATISS'\")\n",
    "all_dataId = []\n",
    "all_deepcoadds  = []\n",
    "all_titles = []\n",
    "all_patches = []\n",
    "all_deepCoadd_wcs = []\n",
    "all_deepCoadd_bbox = []\n",
    "all_deepCoadd_corners_ra= []\n",
    "all_deepCoadd_corners_dec = []\n",
    "all_xvals = []\n",
    "all_yvals = []\n",
    "all_str_tract_patch = []\n",
    "\n",
    "for i, ref in enumerate(datasetRefs):\n",
    "\n",
    "    band = ref.dataId[\"band\"]\n",
    "    tract = ref.dataId[\"tract\"]\n",
    "    patch = ref.dataId[\"patch\"]\n",
    "    skymap = ref.dataId[\"skymap\"]\n",
    "\n",
    "    if band == band_sel and tract == tract_sel:\n",
    "        print(f\"========({i})================datasetType = deepCoadd ============================================\")\n",
    "        print(\"fullId..................:\",ref.dataId.full)\n",
    "        print(\"band....................:\",ref.dataId[\"band\"])\n",
    "        print(\"skymap..................:\",ref.dataId[\"skymap\"])\n",
    "        print(\"tract..................:\",ref.dataId[\"tract\"])\n",
    "        print(\"patch..................:\",ref.dataId[\"patch\"])\n",
    "        print(\"run.....................:\",ref.run)\n",
    "    \n",
    "    \n",
    "        the_dataId = {'skymap':skymap,'band': band, 'tract': tract, 'patch': patch}\n",
    "        the_title = f\"Auxtel deepCoadd : band={band}, tract={tract}, patch={patch}\" \n",
    "        my_deepCoadd = butler.get('deepCoadd', dataId=ref.dataId.full,collections=my_collection)\n",
    "\n",
    "        #my_deepCoadd_wcs = butler.get('deepCoadd.wcs', dataId=ref.dataId.full)\n",
    "        #my_deepCoadd_bbox = butler.get('deepCoadd.bbox', dataId=ref.dataId.full)\n",
    "        my_deepCoadd_wcs = my_deepCoadd.wcs\n",
    "        my_deepCoadd_bbox = my_deepCoadd.getBBox() \n",
    "        # get the corner\n",
    "        my_deepCoadd_corners_ra, my_deepCoadd_corners_dec = get_corners_radec(my_deepCoadd_wcs, my_deepCoadd_bbox)\n",
    "        my_xvals = [my_deepCoadd_corners_ra[0], my_deepCoadd_corners_ra[1], my_deepCoadd_corners_ra[2], \\\n",
    "             my_deepCoadd_corners_ra[3], my_deepCoadd_corners_ra[0]]\n",
    "        my_yvals = [my_deepCoadd_corners_dec[0], my_deepCoadd_corners_dec[1], my_deepCoadd_corners_dec[2], \\\n",
    "             my_deepCoadd_corners_dec[3], my_deepCoadd_corners_dec[0]]\n",
    "\n",
    "        str_tract_patch = '(' + str(ref.dataId['tract']) + ', ' + str(ref.dataId['patch'])+')'\n",
    "        \n",
    "        all_dataId.append(the_dataId) \n",
    "        all_patches.append(ref.dataId[\"patch\"])\n",
    "        all_deepcoadds.append(my_deepCoadd)\n",
    "        all_titles.append(the_title)\n",
    "        all_deepCoadd_wcs.append(my_deepCoadd_wcs)\n",
    "        all_deepCoadd_bbox.append(my_deepCoadd_bbox)\n",
    "        all_deepCoadd_corners_ra.append(my_deepCoadd_corners_ra)\n",
    "        all_deepCoadd_corners_dec.append(my_deepCoadd_corners_dec)\n",
    "        all_xvals.append(my_xvals)\n",
    "        all_yvals.append(my_yvals)\n",
    "        all_str_tract_patch.append(str_tract_patch)  \n",
    "    else:\n",
    "        pass\n",
    "    "
   ]
  },
  {
   "cell_type": "markdown",
   "id": "7a9b4b23-912e-466f-9e78-65fd3d41c1e3",
   "metadata": {},
   "source": [
    "## Summaries"
   ]
  },
  {
   "cell_type": "code",
   "execution_count": null,
   "id": "41c5ff93-5057-4110-88ed-6d2ef5df505b",
   "metadata": {},
   "outputs": [],
   "source": [
    "N = len(all_deepcoadds)\n",
    "for index in range(N):\n",
    "    print(index,all_titles[index])"
   ]
  },
  {
   "cell_type": "code",
   "execution_count": null,
   "id": "aaa1b515-cd1c-419b-9637-724d212e0001",
   "metadata": {},
   "outputs": [],
   "source": [
    "all_patches = np.array(all_patches)\n",
    "list_patches = np.unique(all_patches)"
   ]
  },
  {
   "cell_type": "code",
   "execution_count": null,
   "id": "d682fcd1-334d-4404-ac20-eb39df1f509f",
   "metadata": {},
   "outputs": [],
   "source": [
    "all_dataId"
   ]
  },
  {
   "cell_type": "markdown",
   "id": "0fe0922e-7b6e-4ddc-aa5a-f671d377e65f",
   "metadata": {},
   "source": [
    "## Plot patchs"
   ]
  },
  {
   "cell_type": "code",
   "execution_count": null,
   "id": "1535aff6-b0be-48d1-b8c3-387a28813d0e",
   "metadata": {},
   "outputs": [],
   "source": [
    "nPatches = len(list_patches)\n",
    "sns.color_palette(\"hls\", nPatches)\n",
    "cmap = ListedColormap(sns.color_palette(\"hls\", nPatches))"
   ]
  },
  {
   "cell_type": "code",
   "execution_count": null,
   "id": "9d750203-8d3b-499d-84d9-35e9f4afb115",
   "metadata": {},
   "outputs": [],
   "source": [
    "patch_to_color = {}\n",
    "patch_flagplot = {}\n",
    "for idx,patch in enumerate(list_patches):\n",
    "    patch_to_color[patch] = cmap.colors[idx]\n",
    "    patch_flagplot[patch] = False"
   ]
  },
  {
   "cell_type": "code",
   "execution_count": null,
   "id": "cd88557e-1eae-4387-af96-1a507d4ef308",
   "metadata": {},
   "outputs": [],
   "source": [
    "fig = plt.figure(figsize=(8, 8))\n",
    "\n",
    "for idx,dataid in enumerate(all_dataId):  \n",
    "    patch = dataid['patch']\n",
    "    if not patch_flagplot[patch]:\n",
    "        xvals = all_xvals[idx]\n",
    "        yvals = all_yvals[idx]\n",
    "\n",
    "        xvals = np.array(all_xvals[idx])\n",
    "        yvals = np.array(all_yvals[idx])\n",
    "        xmean = xvals.mean()\n",
    "        ymean = yvals.mean()\n",
    "        \n",
    "        str_tract_patch = all_str_tract_patch[idx]\n",
    "        color = patch_to_color[patch]\n",
    "        plt.plot(xvals, yvals, ls='solid', lw=2, color=color,label=str_tract_patch)\n",
    "        patch_flagplot[patch] = True\n",
    "        plt.text(xmean,ymean, str(patch),\n",
    "        verticalalignment='center', horizontalalignment='center', \n",
    "        color=color,size=14)\n",
    "\n",
    "plt.xlabel('RA')\n",
    "plt.ylabel('Dec')\n",
    "plt.legend(bbox_to_anchor=(1.1, 1.05), ncol=1)\n",
    "the_title_tract = f\"Auxtel : tract {tract_sel}\"\n",
    "plt.title(the_title_tract)\n",
    "plt.gca().set_aspect('equal')\n",
    "plt.show()"
   ]
  },
  {
   "cell_type": "markdown",
   "id": "6c770d9a-2c02-43f7-8824-ecee807ddc69",
   "metadata": {},
   "source": [
    "## Sky map\n",
    "\n",
    "https://community.lsst.org/t/how-to-make-a-loop-over-tracts-and-patches-to-split-the-dc2-dataset/6081\n",
    "\n",
    "### Region\n",
    "\n",
    "https://astropy-regions.readthedocs.io/en/latest/index.html"
   ]
  },
  {
   "cell_type": "code",
   "execution_count": null,
   "id": "a57e799d-8249-4828-8b1b-3ef36cd2ac59",
   "metadata": {},
   "outputs": [],
   "source": [
    "all_deepCoadd_corners_ra = np.array(all_deepCoadd_corners_ra)\n",
    "all_deepCoadd_corners_dec = np.array(all_deepCoadd_corners_dec)\n",
    "\n",
    "ll=np.array([all_deepCoadd_corners_ra.min(),all_deepCoadd_corners_dec.min()])\n",
    "ul=np.array([all_deepCoadd_corners_ra.min(),all_deepCoadd_corners_dec.max()])\n",
    "ur=np.array([all_deepCoadd_corners_ra.max(),all_deepCoadd_corners_dec.max()])\n",
    "lr = np.array([all_deepCoadd_corners_ra.max(),all_deepCoadd_corners_dec.min()])"
   ]
  },
  {
   "cell_type": "code",
   "execution_count": null,
   "id": "24c1196a-a0e0-4c44-b24d-97e38253ac37",
   "metadata": {},
   "outputs": [],
   "source": [
    "corners = np.array([ (ll[0], ll[1]), \n",
    "                    (ul[0], ul[1] ), \n",
    "                    (ur[0], ur[1]), \n",
    "                    (lr[0], lr[1])])\n"
   ]
  },
  {
   "cell_type": "code",
   "execution_count": null,
   "id": "88180f39-ddf4-4ab5-8fae-b11c5c092f77",
   "metadata": {},
   "outputs": [],
   "source": [
    "corners"
   ]
  },
  {
   "cell_type": "code",
   "execution_count": null,
   "id": "67ccb53a-2f2d-4e6e-8e34-766dd402bc24",
   "metadata": {},
   "outputs": [],
   "source": [
    "polygon = Polygon(corners,closed=True)"
   ]
  },
  {
   "cell_type": "code",
   "execution_count": null,
   "id": "79749098-a336-4d86-9ce6-a10ce202101a",
   "metadata": {},
   "outputs": [],
   "source": [
    "p = PatchCollection([polygon], cmap=matplotlib.cm.jet, alpha=0.4)"
   ]
  },
  {
   "cell_type": "code",
   "execution_count": null,
   "id": "4f7de05c-e629-45d7-aefc-800852317c69",
   "metadata": {},
   "outputs": [],
   "source": [
    "from astropy.visualization.wcsaxes import Quadrangle\n",
    "from matplotlib.patches import Rectangle"
   ]
  },
  {
   "cell_type": "code",
   "execution_count": null,
   "id": "c06b5303-3dd0-4eca-99e5-089c929afb78",
   "metadata": {},
   "outputs": [],
   "source": [
    "gal_long = np.linspace(-180.,180,360)\n",
    "gal_lat = np.zeros((360))"
   ]
  },
  {
   "cell_type": "code",
   "execution_count": null,
   "id": "ea574471-8d2b-458f-8751-8a9329b31700",
   "metadata": {},
   "outputs": [],
   "source": [
    "coordinates_galactic_planes = SkyCoord(l=gal_long*u.degree, b=gal_lat*u.degree, frame='galactic')\n",
    "gp_radec = coordinates_galactic_planes.transform_to('icrs')  "
   ]
  },
  {
   "cell_type": "code",
   "execution_count": null,
   "id": "df6036db-4491-44dc-8f67-0bcdf5c02751",
   "metadata": {},
   "outputs": [],
   "source": [
    "gp_ra_toplot = coordinates.Angle(gp_radec.ra.degree*u.degree)\n",
    "gp_ra_toplot = gp_ra_toplot.wrap_at(180*u.degree)"
   ]
  },
  {
   "cell_type": "code",
   "execution_count": null,
   "id": "e0b58b91-4ad1-439f-ba23-dc79960d642c",
   "metadata": {},
   "outputs": [],
   "source": [
    "tract_ra_toplot=coordinates.Angle(corners[:,0]*u.degree)\n",
    "tract_ra_toplot = tract_ra_toplot.wrap_at(180*u.degree)\n",
    "tract_dec_toplot=coordinates.Angle(corners[:,1]*u.degree)"
   ]
  },
  {
   "cell_type": "code",
   "execution_count": null,
   "id": "e28fb9b2-adae-4973-91c6-6706d9fb5252",
   "metadata": {},
   "outputs": [],
   "source": [
    "fig = plt.figure(figsize=(10,8))\n",
    "#ax = fig.add_subplot(111, projection=\"aitoff\")\n",
    "ax = fig.add_subplot(111, projection=\"mollweide\")\n",
    "ax.scatter(gp_ra_toplot.radian, gp_radec.dec.radian,c=\"r\",label=\"Galactic Plane\",s=1)\n",
    "#df_sel.plot.scatter(x='RA',y='DEC',c='tract',colormap='tab20',grid=True,ax=ax,figsize=(10,8),title='AUXTEL photometry 2023-2024')\n",
    "ax.scatter(tract_ra_toplot.radian, tract_dec_toplot.radian,c=\"b\",label=f\"tract {tract_sel}\",\n",
    "           s=10)\n",
    "ax.legend()\n",
    "ax.grid()\n",
    "r = Quadrangle((0.0, 0)*u.deg, 0.3*u.deg, 0.15*u.deg,\n",
    "               edgecolor='green', facecolor='blue',\n",
    "               transform=ax.get_transform())\n",
    "#r = Rectangle((3.14, 0.1), 0.5, 0.5,\n",
    "#              label='Rectangle', edgecolor='red', facecolor='green', linestyle='--',\n",
    "#              transform=ax.get_transform())\n",
    "ax.add_patch(r)\n",
    "plt.suptitle(my_collection)\n",
    "plt.show()"
   ]
  },
  {
   "cell_type": "markdown",
   "id": "fb9793e8-4bd4-4a40-86fe-c2c9b390ec41",
   "metadata": {},
   "source": [
    "## plot deepCoadd"
   ]
  },
  {
   "cell_type": "code",
   "execution_count": null,
   "id": "527cbca8-02cd-4ac8-bfb1-aced836f4021",
   "metadata": {},
   "outputs": [],
   "source": [
    "N = len(all_deepcoadds)\n",
    "\n",
    "for index in range(N):\n",
    "    the_dataid = all_dataId[index]\n",
    "    the_deepcoadd = all_deepcoadds[index]\n",
    "    the_title = f\"{index})  \"+all_titles[index]\n",
    "    wcs = all_deepCoadd_wcs[index]\n",
    "\n",
    "    fitsMd = wcs.getFitsMetadata()\n",
    "    WCSfMd = WCS(fitsMd)\n",
    "  \n",
    "    \n",
    "    # Plot the calexp we just retrieved\n",
    "    plt.figure(figsize=(10,10))\n",
    "    plt.subplot(projection= WCSfMd)\n",
    "    \n",
    "    transform = AsinhStretch() + ZScaleInterval()\n",
    "    scaledImage = transform(the_deepcoadd.image.array)\n",
    "    #scaledImage = np.flipud(scaledImage)\n",
    "    plt.imshow(scaledImage,origin=\"lower\",aspect='equal')\n",
    "    plt.suptitle(the_title,fontsize=10)\n",
    "\n",
    "    ax = plt.gca()\n",
    "    overlay = ax.get_coords_overlay('icrs')\n",
    "    overlay.grid(color='white', ls='dotted')\n",
    "    #plt.tight_layout()\n",
    "    plt.show()\n"
   ]
  },
  {
   "cell_type": "code",
   "execution_count": null,
   "id": "bce96a69-4559-4be3-96c4-694c2efae6f4",
   "metadata": {},
   "outputs": [],
   "source": []
  }
 ],
 "metadata": {
  "kernelspec": {
   "display_name": "LSST",
   "language": "python",
   "name": "lsst"
  },
  "language_info": {
   "codemirror_mode": {
    "name": "ipython",
    "version": 3
   },
   "file_extension": ".py",
   "mimetype": "text/x-python",
   "name": "python",
   "nbconvert_exporter": "python",
   "pygments_lexer": "ipython3",
   "version": "3.11.7"
  }
 },
 "nbformat": 4,
 "nbformat_minor": 5
}
