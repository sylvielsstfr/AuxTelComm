{
 "cells": [
  {
   "cell_type": "markdown",
   "id": "0c018f59-77e1-4160-8e7a-f84f7b391b99",
   "metadata": {},
   "source": [
    "# README notebook on Visits\n",
    "\n",
    "- author Sylvie Dagoret-Campagne\n",
    "- affiliation : IJCLab/IN2P3/CNRS\n",
    "- creation date : 2024-03-05\n",
    "- last update : 2024-03-05\n"
   ]
  },
  {
   "cell_type": "markdown",
   "id": "687cd8c5-f5d8-4a18-91be-d1bebac66b5d",
   "metadata": {},
   "source": [
    "## ExtractPhotometricvisitTables.ipynb\n",
    "\n",
    "\n",
    "It implement the function ``FindTractAndPatch(row)``which allow to calculate the tractID and PatchID for each visit\n",
    "\n",
    "- [ExtractPhotometricvisitTables.ipynb](ExtractPhotometricvisitTables.ipynb) :"
   ]
  },
  {
   "cell_type": "markdown",
   "id": "4234bc7f-ee67-4723-ad85-ff1c8653c365",
   "metadata": {},
   "source": [
    "## ExtractPhotometricvisitTablesLoopOnNightObs.ipynb\n",
    "\n",
    "- [ExtractPhotometricvisitTablesLoopOnNightObs.ipynb](ExtractPhotometricvisitTablesLoopOnNightObs.ipynb) :"
   ]
  },
  {
   "cell_type": "markdown",
   "id": "81371895-57a1-4d39-8839-aea40960f586",
   "metadata": {},
   "source": [
    "## ExtractPhotometricvisitTablesLoopOnNightObs_predictPZ.ipynb\n",
    "\n",
    "- [ExtractPhotometricvisitTablesLoopOnNightObs_predictPZ.ipynb](ExtractPhotometricvisitTablesLoopOnNightObs_predictPZ.ipynb)"
   ]
  },
  {
   "cell_type": "markdown",
   "id": "31cf8087-5e1a-46df-8da4-13ec9f717bcc",
   "metadata": {},
   "source": [
    "## ExtractPhotometricvisitTablesLoopOnNightObs_SelectedTractsAndPatches_predictPZ.ipynb\n",
    "\n",
    "- [ExtractPhotometricvisitTablesLoopOnNightObs_SelectedTractsAndPatches_predictPZ.ipynb](ExtractPhotometricvisitTablesLoopOnNightObs_SelectedTractsAndPatches_predictPZ.ipynb)"
   ]
  },
  {
   "cell_type": "markdown",
   "id": "9c611aef-0587-4574-9fad-012aa929bf72",
   "metadata": {},
   "source": [
    "## stat_on_photom.ipynb\n",
    "\n",
    "- [stat_on_photom.ipynb](stat_on_photom.ipynb)"
   ]
  },
  {
   "cell_type": "code",
   "execution_count": null,
   "id": "0281642b-6913-4b27-93a5-3d0e1235ccad",
   "metadata": {},
   "outputs": [],
   "source": []
  }
 ],
 "metadata": {
  "kernelspec": {
   "display_name": "LSST",
   "language": "python",
   "name": "lsst"
  },
  "language_info": {
   "codemirror_mode": {
    "name": "ipython",
    "version": 3
   },
   "file_extension": ".py",
   "mimetype": "text/x-python",
   "name": "python",
   "nbconvert_exporter": "python",
   "pygments_lexer": "ipython3",
   "version": "3.11.7"
  }
 },
 "nbformat": 4,
 "nbformat_minor": 5
}
