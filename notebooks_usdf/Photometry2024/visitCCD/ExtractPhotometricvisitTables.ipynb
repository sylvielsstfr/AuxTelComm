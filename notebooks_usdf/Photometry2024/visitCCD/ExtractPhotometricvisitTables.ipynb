{
 "cells": [
  {
   "cell_type": "markdown",
   "id": "0b8c2138-5194-4d03-8b77-be24e2cc8ee3",
   "metadata": {},
   "source": [
    "# Extract VisitTables-visit Results in  OGA"
   ]
  },
  {
   "cell_type": "markdown",
   "id": "740e34fb-3fef-45a8-941b-c229742ab016",
   "metadata": {},
   "source": [
    " work with Weakly_2023_44\n",
    "- use jupyter kernel LSST\n",
    "- author : Sylvie Dagoret-Campagne\n",
    "- affiliation : IJCLab\n",
    "- creation date : 2024/01/01\n",
    "- update : 2023/01/01\n"
   ]
  },
  {
   "cell_type": "code",
   "execution_count": 1,
   "id": "ed2c3410-fe83-432e-ab87-9f4513fa8d8b",
   "metadata": {
    "execution": {
     "iopub.execute_input": "2024-01-01T21:38:53.381672Z",
     "iopub.status.busy": "2024-01-01T21:38:53.381553Z",
     "iopub.status.idle": "2024-01-01T21:38:53.748902Z",
     "shell.execute_reply": "2024-01-01T21:38:53.748179Z",
     "shell.execute_reply.started": "2024-01-01T21:38:53.381660Z"
    }
   },
   "outputs": [
    {
     "name": "stdout",
     "output_type": "stream",
     "text": [
      "analysis_tools        LOCAL:/home/d/dagoret/repos/repos_w_2023_44/analysis_tools \tsetup\n",
      "atmospec              LOCAL:/home/d/dagoret/repos/repos_w_2023_44/atmospec \tsetup\n",
      "eups                  LOCAL:/opt/lsst/software/stack/conda/miniconda3-py38_4.9.2/envs/lsst-scipipe-7.0.1/eups \tsetup\n",
      "spectractor           LOCAL:/home/d/dagoret/repos/repos_w_2023_44/Spectractor \tsetup\n"
     ]
    }
   ],
   "source": [
    "! eups list -s | grep LOCAL"
   ]
  },
  {
   "cell_type": "code",
   "execution_count": 2,
   "id": "70918d81-0cf6-4b0a-8f61-f5e5bec5b0e7",
   "metadata": {
    "execution": {
     "iopub.execute_input": "2024-01-01T21:38:53.750357Z",
     "iopub.status.busy": "2024-01-01T21:38:53.750186Z",
     "iopub.status.idle": "2024-01-01T21:38:54.091625Z",
     "shell.execute_reply": "2024-01-01T21:38:54.091141Z",
     "shell.execute_reply.started": "2024-01-01T21:38:53.750339Z"
    }
   },
   "outputs": [
    {
     "name": "stdout",
     "output_type": "stream",
     "text": [
      "   g4213664e8e+d053631def \tcurrent w_2023_44 setup\n"
     ]
    }
   ],
   "source": [
    "! eups list -s lsst_distrib"
   ]
  },
  {
   "cell_type": "code",
   "execution_count": 3,
   "id": "f8d9cfca-5881-48c1-b2cb-0f794a2e4091",
   "metadata": {
    "execution": {
     "iopub.execute_input": "2024-01-01T21:38:54.092655Z",
     "iopub.status.busy": "2024-01-01T21:38:54.092387Z",
     "iopub.status.idle": "2024-01-01T21:38:54.614384Z",
     "shell.execute_reply": "2024-01-01T21:38:54.613928Z",
     "shell.execute_reply.started": "2024-01-01T21:38:54.092629Z"
    },
    "tags": []
   },
   "outputs": [],
   "source": [
    "import lsst.daf.butler as dafButler\n",
    "#import lsst.summit.utils.butlerUtils as butlerUtils"
   ]
  },
  {
   "cell_type": "code",
   "execution_count": 4,
   "id": "1ceacda9-20b0-4d77-a0d2-572c957ce273",
   "metadata": {
    "execution": {
     "iopub.execute_input": "2024-01-01T21:38:54.615140Z",
     "iopub.status.busy": "2024-01-01T21:38:54.614991Z",
     "iopub.status.idle": "2024-01-01T21:38:55.227874Z",
     "shell.execute_reply": "2024-01-01T21:38:55.227457Z",
     "shell.execute_reply.started": "2024-01-01T21:38:54.615122Z"
    },
    "tags": []
   },
   "outputs": [],
   "source": [
    "import numpy as np\n",
    "import matplotlib.pyplot as plt\n",
    "%matplotlib inline\n",
    "from mpl_toolkits.axes_grid1 import make_axes_locatable\n",
    "from matplotlib.colors import LogNorm,SymLogNorm\n",
    "\n",
    "\n",
    "import matplotlib.ticker                         # here's where the formatter is\n",
    "from matplotlib.ticker import (MultipleLocator, FormatStrFormatter,\n",
    "                               AutoMinorLocator)\n",
    "\n",
    "from astropy.visualization import (MinMaxInterval, SqrtStretch,ZScaleInterval,PercentileInterval,\n",
    "                                   ImageNormalize,imshow_norm)\n",
    "from astropy.visualization.stretch import SinhStretch, LinearStretch,AsinhStretch,LogStretch\n",
    "\n",
    "from astropy.io import fits\n",
    "\n",
    "import pandas as pd\n",
    "\n",
    "import matplotlib.ticker                         # here's where the formatter is\n",
    "import os\n",
    "import re\n",
    "import pandas as pd\n",
    "import pickle\n",
    "\n",
    "plt.rcParams[\"figure.figsize\"] = (4,3)\n",
    "plt.rcParams[\"axes.labelsize\"] = 'xx-large'\n",
    "plt.rcParams['axes.titlesize'] = 'xx-large'\n",
    "plt.rcParams['xtick.labelsize']= 'xx-large'\n",
    "plt.rcParams['ytick.labelsize']= 'xx-large'"
   ]
  },
  {
   "cell_type": "code",
   "execution_count": 5,
   "id": "34c92544-f2fd-4287-b852-e2ccb9a3b510",
   "metadata": {
    "execution": {
     "iopub.execute_input": "2024-01-01T21:38:55.229576Z",
     "iopub.status.busy": "2024-01-01T21:38:55.229176Z",
     "iopub.status.idle": "2024-01-01T21:38:55.232391Z",
     "shell.execute_reply": "2024-01-01T21:38:55.231983Z",
     "shell.execute_reply.started": "2024-01-01T21:38:55.229557Z"
    },
    "tags": []
   },
   "outputs": [],
   "source": [
    "from matplotlib.ticker import (MultipleLocator, FormatStrFormatter,\n",
    "                               AutoMinorLocator)\n",
    "\n",
    "from astropy.visualization import (MinMaxInterval, SqrtStretch,ZScaleInterval,PercentileInterval,\n",
    "                                   ImageNormalize,imshow_norm)\n",
    "from astropy.visualization.stretch import SinhStretch, LinearStretch,AsinhStretch,LogStretch\n",
    "\n",
    "from astropy.time import Time\n"
   ]
  },
  {
   "cell_type": "code",
   "execution_count": 6,
   "id": "77aa5733-0a46-49eb-b26e-d3bb6195cc3d",
   "metadata": {
    "execution": {
     "iopub.execute_input": "2024-01-01T21:38:55.233167Z",
     "iopub.status.busy": "2024-01-01T21:38:55.232976Z",
     "iopub.status.idle": "2024-01-01T21:38:55.430170Z",
     "shell.execute_reply": "2024-01-01T21:38:55.429722Z",
     "shell.execute_reply.started": "2024-01-01T21:38:55.233153Z"
    },
    "tags": []
   },
   "outputs": [],
   "source": [
    "# LSST Display\n",
    "import lsst.afw.display as afwDisplay\n",
    "afwDisplay.setDefaultBackend('matplotlib')"
   ]
  },
  {
   "cell_type": "code",
   "execution_count": 7,
   "id": "b7cea198-6f3c-4a87-8877-fdf8e4d73c26",
   "metadata": {
    "execution": {
     "iopub.execute_input": "2024-01-01T21:38:55.431500Z",
     "iopub.status.busy": "2024-01-01T21:38:55.430855Z",
     "iopub.status.idle": "2024-01-01T21:38:55.433764Z",
     "shell.execute_reply": "2024-01-01T21:38:55.433289Z",
     "shell.execute_reply.started": "2024-01-01T21:38:55.431479Z"
    },
    "tags": []
   },
   "outputs": [],
   "source": [
    "transform = AsinhStretch() + PercentileInterval(99.)"
   ]
  },
  {
   "cell_type": "code",
   "execution_count": 8,
   "id": "c8b31810-780c-43f2-92a1-af05fddd65e1",
   "metadata": {
    "execution": {
     "iopub.execute_input": "2024-01-01T21:38:55.434637Z",
     "iopub.status.busy": "2024-01-01T21:38:55.434335Z",
     "iopub.status.idle": "2024-01-01T21:38:55.437218Z",
     "shell.execute_reply": "2024-01-01T21:38:55.436857Z",
     "shell.execute_reply.started": "2024-01-01T21:38:55.434618Z"
    }
   },
   "outputs": [],
   "source": [
    "pd.options.display.max_columns = None\n",
    "#pd.options.display.max_rows = None\n",
    "\n"
   ]
  },
  {
   "cell_type": "markdown",
   "id": "17f98db2-2ea8-4546-87a9-f2cd11d67ec7",
   "metadata": {},
   "source": [
    "## Configuration"
   ]
  },
  {
   "cell_type": "code",
   "execution_count": 9,
   "id": "f6c1ac18-5e47-4ae9-93ec-32f4337aa520",
   "metadata": {
    "execution": {
     "iopub.execute_input": "2024-01-01T21:38:55.437960Z",
     "iopub.status.busy": "2024-01-01T21:38:55.437753Z",
     "iopub.status.idle": "2024-01-01T21:38:55.441845Z",
     "shell.execute_reply": "2024-01-01T21:38:55.441508Z",
     "shell.execute_reply.started": "2024-01-01T21:38:55.437942Z"
    }
   },
   "outputs": [],
   "source": [
    "filesource_out=\"ccdVisitTable_202312.csv\"\n",
    "#filetractpatch_out = 'Latiss_tractspatchs_202312.pickle'"
   ]
  },
  {
   "cell_type": "code",
   "execution_count": 10,
   "id": "1c81d99a-5e91-4ba1-ba4a-c66b37905b98",
   "metadata": {
    "execution": {
     "iopub.execute_input": "2024-01-01T21:38:55.442677Z",
     "iopub.status.busy": "2024-01-01T21:38:55.442425Z",
     "iopub.status.idle": "2024-01-01T21:38:58.114645Z",
     "shell.execute_reply": "2024-01-01T21:38:58.114247Z",
     "shell.execute_reply.started": "2024-01-01T21:38:55.442659Z"
    },
    "tags": []
   },
   "outputs": [],
   "source": [
    "#repo =  \"/sdf/group/rubin/repo/main\"\n",
    "repo = \"/sdf/group/rubin/repo/oga/\"\n",
    "butler = dafButler.Butler(repo)\n",
    "registry = butler.registry"
   ]
  },
  {
   "cell_type": "code",
   "execution_count": 11,
   "id": "e9f828a7-8319-499e-a6b9-01dedc59e06c",
   "metadata": {
    "execution": {
     "iopub.execute_input": "2024-01-01T21:38:58.115314Z",
     "iopub.status.busy": "2024-01-01T21:38:58.115186Z",
     "iopub.status.idle": "2024-01-01T21:38:58.118663Z",
     "shell.execute_reply": "2024-01-01T21:38:58.118284Z",
     "shell.execute_reply.started": "2024-01-01T21:38:58.115302Z"
    }
   },
   "outputs": [],
   "source": [
    "def get_corners_radec(wcs, bbox):\n",
    "    \"\"\"\n",
    "    Return the corners in RA,Dec in degrees given the WCS and bounding box for an image.\n",
    "\n",
    "    Parameters\n",
    "    ----------\n",
    "    wcs: image WCS returned by the Butler\n",
    "    bbox: bounding box returned by the Butler\n",
    "\n",
    "    Returns\n",
    "    -------\n",
    "    corners_ra, corners_dec in decimal degrees\n",
    "    \"\"\"\n",
    "\n",
    "    corners_x = [bbox.beginX, bbox.beginX, bbox.endX, bbox.endX]\n",
    "    corners_y = [bbox.beginY, bbox.endY, bbox.endY, bbox.beginY]\n",
    "    corners_ra = []\n",
    "    corners_dec = []\n",
    "    for i in range(4):\n",
    "        radec = wcs.pixelToSky(corners_x[i], corners_y[i])\n",
    "        corners_ra.append(radec.getRa().asDegrees())\n",
    "        corners_dec.append(radec.getDec().asDegrees())\n",
    "    \n",
    "    return corners_ra, corners_dec"
   ]
  },
  {
   "cell_type": "code",
   "execution_count": 12,
   "id": "150e04f6-e800-4086-9671-686e12349fc9",
   "metadata": {
    "execution": {
     "iopub.execute_input": "2024-01-01T21:38:58.119354Z",
     "iopub.status.busy": "2024-01-01T21:38:58.119132Z",
     "iopub.status.idle": "2024-01-01T21:38:58.122733Z",
     "shell.execute_reply": "2024-01-01T21:38:58.122382Z",
     "shell.execute_reply.started": "2024-01-01T21:38:58.119341Z"
    }
   },
   "outputs": [],
   "source": [
    "def get_bbox_radec(wcs, bbox):\n",
    "    \"\"\"\n",
    "    Return the corners in RA,Dec in degrees given the WCS and bounding box for an image.\n",
    "\n",
    "    Parameters\n",
    "    ----------\n",
    "    wcs: image WCS returned by the Butler\n",
    "    bbox: bounding box returned by the Butler\n",
    "\n",
    "    Returns\n",
    "    -------\n",
    "    ramin,ramax,decmin,decmax in decimal degrees\n",
    "    \"\"\"\n",
    "\n",
    "    xmin = bbox.beginX\n",
    "    xmax = bbox.endX\n",
    "    ymin = bbox.beginY\n",
    "    ymax = bbox.endY\n",
    "    \n",
    "    radec_ll = wcs.pixelToSky(xmin, ymin)\n",
    "    radec_ur = wcs.pixelToSky(xmax, ymax)\n",
    "        \n",
    "    return radec_ur.getRa().asDegrees(),radec_ll.getRa().asDegrees(), radec_ll.getDec().asDegrees(),radec_ur.getDec().asDegrees() "
   ]
  },
  {
   "cell_type": "code",
   "execution_count": 13,
   "id": "ffb574d5-b268-4c55-ba63-8883723cf729",
   "metadata": {
    "execution": {
     "iopub.execute_input": "2024-01-01T21:38:58.123329Z",
     "iopub.status.busy": "2024-01-01T21:38:58.123163Z",
     "iopub.status.idle": "2024-01-01T21:38:58.127839Z",
     "shell.execute_reply": "2024-01-01T21:38:58.127546Z",
     "shell.execute_reply.started": "2024-01-01T21:38:58.123317Z"
    }
   },
   "outputs": [],
   "source": [
    "def isradec_inbbox_radec(ra,dec,wcs, bbox):\n",
    "    \"\"\"\n",
    "    Return the corners in RA,Dec in degrees given the WCS and bounding box for an image.\n",
    "\n",
    "    Parameters\n",
    "    ----------\n",
    "    ra: ra in degree\n",
    "    dec: dec in degree\n",
    "    wcs: image WCS returned by the Butler\n",
    "    bbox: bounding box returned by the Butler\n",
    "\n",
    "    Returns\n",
    "    -------\n",
    "    Bool\n",
    "    \n",
    "    \"\"\"\n",
    "\n",
    "    RAMIN,RAMAX,DECMIN,DECMAX = get_bbox_radec(wcs, bbox)\n",
    "\n",
    "    assert RAMIN < RAMAX\n",
    "    assert DECMIN < DECMAX\n",
    "\n",
    "    flag = (ra >= RAMIN) and (ra<=RAMAX) and (dec>= DECMIN) and (dec <= DECMAX) \n",
    "    return flag"
   ]
  },
  {
   "cell_type": "markdown",
   "id": "20dbb8da-3a08-4b4f-9437-4bf7f28c1782",
   "metadata": {},
   "source": [
    "## Give the collection"
   ]
  },
  {
   "cell_type": "code",
   "execution_count": 14,
   "id": "9629ea29-8ab4-4062-aed1-e16d62dc90c4",
   "metadata": {
    "execution": {
     "iopub.execute_input": "2024-01-01T21:38:58.129906Z",
     "iopub.status.busy": "2024-01-01T21:38:58.129751Z",
     "iopub.status.idle": "2024-01-01T21:38:58.131732Z",
     "shell.execute_reply": "2024-01-01T21:38:58.131441Z",
     "shell.execute_reply.started": "2024-01-01T21:38:58.129894Z"
    },
    "tags": []
   },
   "outputs": [],
   "source": [
    "my_collection = \"LATISS/runs/AUXTEL_DRP_IMAGING_2023-11A-10A-09AB-08ABC-07AB-05AB/w_2023_46/PREOPS-4553\""
   ]
  },
  {
   "cell_type": "code",
   "execution_count": 15,
   "id": "e0741000-7c9c-4882-a491-c429fda98cfd",
   "metadata": {
    "execution": {
     "iopub.execute_input": "2024-01-01T21:38:58.132287Z",
     "iopub.status.busy": "2024-01-01T21:38:58.132139Z",
     "iopub.status.idle": "2024-01-01T21:38:58.170358Z",
     "shell.execute_reply": "2024-01-01T21:38:58.170047Z",
     "shell.execute_reply.started": "2024-01-01T21:38:58.132276Z"
    }
   },
   "outputs": [],
   "source": [
    "skymap_auxtel ='latiss_v1'\n",
    "skymap = butler.get('skyMap', skymap=skymap_auxtel, collections=my_collection)"
   ]
  },
  {
   "cell_type": "markdown",
   "id": "a7587b10-c178-4537-9c34-60867b69fa01",
   "metadata": {},
   "source": [
    "## Config"
   ]
  },
  {
   "cell_type": "code",
   "execution_count": 16,
   "id": "2e1cdf2d-be43-4747-bd21-c178e3b9983b",
   "metadata": {
    "execution": {
     "iopub.execute_input": "2024-01-01T21:38:58.170897Z",
     "iopub.status.busy": "2024-01-01T21:38:58.170774Z",
     "iopub.status.idle": "2024-01-01T21:38:58.173095Z",
     "shell.execute_reply": "2024-01-01T21:38:58.172676Z",
     "shell.execute_reply.started": "2024-01-01T21:38:58.170886Z"
    }
   },
   "outputs": [],
   "source": [
    "Auxtel2023_tracts = [ 5616,5634,5615,10644,383,8188,3863,455,452,5839,10643,382]"
   ]
  },
  {
   "cell_type": "code",
   "execution_count": 17,
   "id": "34753b23-850b-407a-9b62-d6873b7afbb0",
   "metadata": {
    "execution": {
     "iopub.execute_input": "2024-01-01T21:38:58.173747Z",
     "iopub.status.busy": "2024-01-01T21:38:58.173596Z",
     "iopub.status.idle": "2024-01-01T21:38:58.176667Z",
     "shell.execute_reply": "2024-01-01T21:38:58.176286Z",
     "shell.execute_reply.started": "2024-01-01T21:38:58.173734Z"
    }
   },
   "outputs": [],
   "source": [
    "with open('Latiss_tractspatchs.pickle', 'rb') as handle:\n",
    "    tracts_patchs_dict = pickle.load(handle)"
   ]
  },
  {
   "cell_type": "code",
   "execution_count": 18,
   "id": "a0e46a92-2205-40ec-80ec-a8aef43dc267",
   "metadata": {
    "execution": {
     "iopub.execute_input": "2024-01-01T21:38:58.177288Z",
     "iopub.status.busy": "2024-01-01T21:38:58.177154Z",
     "iopub.status.idle": "2024-01-01T21:38:58.181471Z",
     "shell.execute_reply": "2024-01-01T21:38:58.181004Z",
     "shell.execute_reply.started": "2024-01-01T21:38:58.177276Z"
    }
   },
   "outputs": [],
   "source": [
    "tract_selected = 5615\n",
    "patches_selected = [294,313]\n",
    "suptitle = f\"CCD visit in tract {tract_selected} and patches {patches_selected[0]} and {patches_selected[1]}\""
   ]
  },
  {
   "cell_type": "markdown",
   "id": "bd6be2f5-4ad5-4a7a-9b70-03ee25079e79",
   "metadata": {},
   "source": [
    "### Find tract"
   ]
  },
  {
   "cell_type": "code",
   "execution_count": 19,
   "id": "239848e5-5519-4ee6-a2b4-52bbb5ce72f9",
   "metadata": {
    "execution": {
     "iopub.execute_input": "2024-01-01T21:38:58.182259Z",
     "iopub.status.busy": "2024-01-01T21:38:58.182063Z",
     "iopub.status.idle": "2024-01-01T21:39:02.825719Z",
     "shell.execute_reply": "2024-01-01T21:39:02.825212Z",
     "shell.execute_reply.started": "2024-01-01T21:38:58.182243Z"
    }
   },
   "outputs": [],
   "source": [
    "for tractInfo in skymap:\n",
    "    tractID = tractInfo.getId()\n",
    "    if tractID == tract_selected:\n",
    "        break"
   ]
  },
  {
   "cell_type": "code",
   "execution_count": 20,
   "id": "9f5a034c-fb7f-41a1-83b8-a1c38ff4e2cd",
   "metadata": {
    "execution": {
     "iopub.execute_input": "2024-01-01T21:39:02.826507Z",
     "iopub.status.busy": "2024-01-01T21:39:02.826360Z",
     "iopub.status.idle": "2024-01-01T21:39:02.829548Z",
     "shell.execute_reply": "2024-01-01T21:39:02.829140Z",
     "shell.execute_reply.started": "2024-01-01T21:39:02.826494Z"
    }
   },
   "outputs": [
    {
     "data": {
      "text/plain": [
       "TractInfo(id=5615, ctrCoord=[-0.4548159976772596, -0.7877644160721412, -0.4154150130018864])"
      ]
     },
     "execution_count": 20,
     "metadata": {},
     "output_type": "execute_result"
    }
   ],
   "source": [
    "tractInfo"
   ]
  },
  {
   "cell_type": "code",
   "execution_count": 21,
   "id": "8f863bce-e11a-492e-a0dd-b7a38a429c58",
   "metadata": {
    "execution": {
     "iopub.execute_input": "2024-01-01T21:39:02.830106Z",
     "iopub.status.busy": "2024-01-01T21:39:02.829988Z",
     "iopub.status.idle": "2024-01-01T21:39:02.832738Z",
     "shell.execute_reply": "2024-01-01T21:39:02.832324Z",
     "shell.execute_reply.started": "2024-01-01T21:39:02.830095Z"
    }
   },
   "outputs": [],
   "source": [
    "# WCS for this patch\n",
    "tWCS=tractInfo.getWcs()"
   ]
  },
  {
   "cell_type": "markdown",
   "id": "90d3da4c-3090-416e-8bcc-1063c9a87905",
   "metadata": {},
   "source": [
    "### Find patches"
   ]
  },
  {
   "cell_type": "code",
   "execution_count": 22,
   "id": "177ecce6-b5f2-4c51-8262-28517ea810e6",
   "metadata": {
    "execution": {
     "iopub.execute_input": "2024-01-01T21:39:02.833337Z",
     "iopub.status.busy": "2024-01-01T21:39:02.833222Z",
     "iopub.status.idle": "2024-01-01T21:39:02.841818Z",
     "shell.execute_reply": "2024-01-01T21:39:02.841446Z",
     "shell.execute_reply.started": "2024-01-01T21:39:02.833326Z"
    }
   },
   "outputs": [],
   "source": [
    "all_patches = []\n",
    "for patch in tractInfo:\n",
    "    patchID = patch.getSequentialIndex()\n",
    "    if patchID in patches_selected:\n",
    "        all_patches.append(patch)        "
   ]
  },
  {
   "cell_type": "code",
   "execution_count": 23,
   "id": "62358289-92ab-4e6f-ad6a-ed21800cb083",
   "metadata": {
    "execution": {
     "iopub.execute_input": "2024-01-01T21:39:02.842464Z",
     "iopub.status.busy": "2024-01-01T21:39:02.842340Z",
     "iopub.status.idle": "2024-01-01T21:39:02.845517Z",
     "shell.execute_reply": "2024-01-01T21:39:02.845135Z",
     "shell.execute_reply.started": "2024-01-01T21:39:02.842453Z"
    }
   },
   "outputs": [
    {
     "data": {
      "text/plain": [
       "[PatchInfo(index=Index2D(x=9, y=15), innerBBox=(minimum=(27000, 45000), maximum=(29999, 47999)), outerBBox=(minimum=(26800, 44800), maximum=(30199, 48199)), cellInnerDimensions=(150, 150), cellBorder=50, numCellsPerPatchInner=22),\n",
       " PatchInfo(index=Index2D(x=9, y=16), innerBBox=(minimum=(27000, 48000), maximum=(29999, 50999)), outerBBox=(minimum=(26800, 47800), maximum=(30199, 51199)), cellInnerDimensions=(150, 150), cellBorder=50, numCellsPerPatchInner=22)]"
      ]
     },
     "execution_count": 23,
     "metadata": {},
     "output_type": "execute_result"
    }
   ],
   "source": [
    "all_patches"
   ]
  },
  {
   "cell_type": "code",
   "execution_count": 24,
   "id": "72a33ee6-73c0-4939-8a9d-02701dd76a12",
   "metadata": {
    "execution": {
     "iopub.execute_input": "2024-01-01T21:39:02.846152Z",
     "iopub.status.busy": "2024-01-01T21:39:02.846031Z",
     "iopub.status.idle": "2024-01-01T21:39:02.850610Z",
     "shell.execute_reply": "2024-01-01T21:39:02.850224Z",
     "shell.execute_reply.started": "2024-01-01T21:39:02.846138Z"
    }
   },
   "outputs": [
    {
     "name": "stdout",
     "output_type": "stream",
     "text": [
      "patch  294 ibb= (minimum=(27000, 45000), maximum=(29999, 47999))\n",
      "patch  313 ibb= (minimum=(27000, 48000), maximum=(29999, 50999))\n"
     ]
    }
   ],
   "source": [
    "for patch in all_patches:\n",
    "    patchID = patch.getSequentialIndex()\n",
    "    ibb=patch.getInnerBBox()\n",
    "    print(\"patch \",patchID,\"ibb=\",ibb)\n",
    "    RAMIN,RAMAX,DECMIN,DECMAX = get_bbox_radec(tWCS, ibb)"
   ]
  },
  {
   "cell_type": "markdown",
   "id": "a72c2c07-ff40-49d9-a36d-5277cbbc5cec",
   "metadata": {},
   "source": [
    "# Sources"
   ]
  },
  {
   "cell_type": "code",
   "execution_count": 25,
   "id": "c2bca87f-8b3a-44ee-afa5-5b8e0b8f9b9d",
   "metadata": {
    "execution": {
     "iopub.execute_input": "2024-01-01T21:39:02.851154Z",
     "iopub.status.busy": "2024-01-01T21:39:02.851038Z",
     "iopub.status.idle": "2024-01-01T21:39:02.874617Z",
     "shell.execute_reply": "2024-01-01T21:39:02.874123Z",
     "shell.execute_reply.started": "2024-01-01T21:39:02.851142Z"
    },
    "tags": []
   },
   "outputs": [],
   "source": [
    "datasetRefs = butler.registry.queryDatasets(datasetType='ccdVisitTable', collections=my_collection, where= \"instrument='LATISS'\")"
   ]
  },
  {
   "cell_type": "code",
   "execution_count": 26,
   "id": "a01bb1b1-a2fe-4060-85ff-fb9e9c5dbb74",
   "metadata": {
    "execution": {
     "iopub.execute_input": "2024-01-01T21:39:02.875309Z",
     "iopub.status.busy": "2024-01-01T21:39:02.875181Z",
     "iopub.status.idle": "2024-01-01T21:39:02.880855Z",
     "shell.execute_reply": "2024-01-01T21:39:02.880318Z",
     "shell.execute_reply.started": "2024-01-01T21:39:02.875294Z"
    },
    "tags": []
   },
   "outputs": [
    {
     "name": "stdout",
     "output_type": "stream",
     "text": [
      "========================datasetType = ccdVisitTable ============================================\n",
      "fullId..................: {instrument: 'LATISS'}\n"
     ]
    }
   ],
   "source": [
    "for i, ref in enumerate(datasetRefs):\n",
    "   \n",
    "    print(\"========================datasetType = ccdVisitTable ============================================\")\n",
    "    print(\"fullId..................:\",ref.dataId.full)\n",
    "    "
   ]
  },
  {
   "cell_type": "code",
   "execution_count": 27,
   "id": "8ea5496c-40b0-46cb-b298-b018d762014a",
   "metadata": {
    "execution": {
     "iopub.execute_input": "2024-01-01T21:39:02.881610Z",
     "iopub.status.busy": "2024-01-01T21:39:02.881469Z",
     "iopub.status.idle": "2024-01-01T21:39:03.049903Z",
     "shell.execute_reply": "2024-01-01T21:39:03.049520Z",
     "shell.execute_reply.started": "2024-01-01T21:39:02.881596Z"
    }
   },
   "outputs": [
    {
     "data": {
      "text/html": [
       "<div>\n",
       "<style scoped>\n",
       "    .dataframe tbody tr th:only-of-type {\n",
       "        vertical-align: middle;\n",
       "    }\n",
       "\n",
       "    .dataframe tbody tr th {\n",
       "        vertical-align: top;\n",
       "    }\n",
       "\n",
       "    .dataframe thead th {\n",
       "        text-align: right;\n",
       "    }\n",
       "</style>\n",
       "<table border=\"1\" class=\"dataframe\">\n",
       "  <thead>\n",
       "    <tr style=\"text-align: right;\">\n",
       "      <th></th>\n",
       "      <th>visit</th>\n",
       "      <th>physical_filter</th>\n",
       "      <th>band</th>\n",
       "      <th>ra</th>\n",
       "      <th>dec</th>\n",
       "      <th>decl</th>\n",
       "      <th>skyRotation</th>\n",
       "      <th>azimuth</th>\n",
       "      <th>altitude</th>\n",
       "      <th>zenithDistance</th>\n",
       "      <th>airmass</th>\n",
       "      <th>expTime</th>\n",
       "      <th>expMidpt</th>\n",
       "      <th>expMidptMJD</th>\n",
       "      <th>obsStart</th>\n",
       "      <th>obsStartMJD</th>\n",
       "    </tr>\n",
       "    <tr>\n",
       "      <th>visitId</th>\n",
       "      <th></th>\n",
       "      <th></th>\n",
       "      <th></th>\n",
       "      <th></th>\n",
       "      <th></th>\n",
       "      <th></th>\n",
       "      <th></th>\n",
       "      <th></th>\n",
       "      <th></th>\n",
       "      <th></th>\n",
       "      <th></th>\n",
       "      <th></th>\n",
       "      <th></th>\n",
       "      <th></th>\n",
       "      <th></th>\n",
       "      <th></th>\n",
       "    </tr>\n",
       "  </thead>\n",
       "  <tbody>\n",
       "    <tr>\n",
       "      <th>2023051100262</th>\n",
       "      <td>2023051100262</td>\n",
       "      <td>SDSSr_65mm~empty</td>\n",
       "      <td>r</td>\n",
       "      <td>239.941279</td>\n",
       "      <td>-24.050861</td>\n",
       "      <td>-24.050861</td>\n",
       "      <td>322.911701</td>\n",
       "      <td>100.652699</td>\n",
       "      <td>33.079204</td>\n",
       "      <td>56.920796</td>\n",
       "      <td>1.826588</td>\n",
       "      <td>30.0</td>\n",
       "      <td>2023-05-12 01:08:56.302993</td>\n",
       "      <td>60076.047874</td>\n",
       "      <td>2023-05-12 01:08:41.302993</td>\n",
       "      <td>60076.047700</td>\n",
       "    </tr>\n",
       "    <tr>\n",
       "      <th>2023051100263</th>\n",
       "      <td>2023051100263</td>\n",
       "      <td>SDSSg_65mm~empty</td>\n",
       "      <td>g</td>\n",
       "      <td>239.943099</td>\n",
       "      <td>-24.042851</td>\n",
       "      <td>-24.042851</td>\n",
       "      <td>170.005077</td>\n",
       "      <td>100.427273</td>\n",
       "      <td>33.535722</td>\n",
       "      <td>56.464278</td>\n",
       "      <td>1.804276</td>\n",
       "      <td>30.0</td>\n",
       "      <td>2023-05-12 01:11:06.209005</td>\n",
       "      <td>60076.049377</td>\n",
       "      <td>2023-05-12 01:10:51.209005</td>\n",
       "      <td>60076.049204</td>\n",
       "    </tr>\n",
       "    <tr>\n",
       "      <th>2023051100264</th>\n",
       "      <td>2023051100264</td>\n",
       "      <td>SDSSi_65mm~empty</td>\n",
       "      <td>i</td>\n",
       "      <td>239.940919</td>\n",
       "      <td>-24.040927</td>\n",
       "      <td>-24.040927</td>\n",
       "      <td>170.004955</td>\n",
       "      <td>100.024337</td>\n",
       "      <td>34.385246</td>\n",
       "      <td>55.614754</td>\n",
       "      <td>1.765315</td>\n",
       "      <td>30.0</td>\n",
       "      <td>2023-05-12 01:15:04.912000</td>\n",
       "      <td>60076.052140</td>\n",
       "      <td>2023-05-12 01:14:49.912000</td>\n",
       "      <td>60076.051967</td>\n",
       "    </tr>\n",
       "    <tr>\n",
       "      <th>2023051100268</th>\n",
       "      <td>2023051100268</td>\n",
       "      <td>SDSSr_65mm~empty</td>\n",
       "      <td>r</td>\n",
       "      <td>239.960079</td>\n",
       "      <td>-24.042010</td>\n",
       "      <td>-24.042010</td>\n",
       "      <td>323.867206</td>\n",
       "      <td>99.573769</td>\n",
       "      <td>35.343223</td>\n",
       "      <td>54.656777</td>\n",
       "      <td>1.724092</td>\n",
       "      <td>30.0</td>\n",
       "      <td>2023-05-12 01:19:39.311494</td>\n",
       "      <td>60076.055316</td>\n",
       "      <td>2023-05-12 01:19:24.311494</td>\n",
       "      <td>60076.055142</td>\n",
       "    </tr>\n",
       "    <tr>\n",
       "      <th>2023051100270</th>\n",
       "      <td>2023051100270</td>\n",
       "      <td>SDSSi_65mm~empty</td>\n",
       "      <td>i</td>\n",
       "      <td>239.963850</td>\n",
       "      <td>-24.048746</td>\n",
       "      <td>-24.048746</td>\n",
       "      <td>170.004124</td>\n",
       "      <td>99.285576</td>\n",
       "      <td>35.972240</td>\n",
       "      <td>54.027760</td>\n",
       "      <td>1.697680</td>\n",
       "      <td>30.0</td>\n",
       "      <td>2023-05-12 01:22:36.150002</td>\n",
       "      <td>60076.057363</td>\n",
       "      <td>2023-05-12 01:22:21.150002</td>\n",
       "      <td>60076.057189</td>\n",
       "    </tr>\n",
       "    <tr>\n",
       "      <th>...</th>\n",
       "      <td>...</td>\n",
       "      <td>...</td>\n",
       "      <td>...</td>\n",
       "      <td>...</td>\n",
       "      <td>...</td>\n",
       "      <td>...</td>\n",
       "      <td>...</td>\n",
       "      <td>...</td>\n",
       "      <td>...</td>\n",
       "      <td>...</td>\n",
       "      <td>...</td>\n",
       "      <td>...</td>\n",
       "      <td>...</td>\n",
       "      <td>...</td>\n",
       "      <td>...</td>\n",
       "      <td>...</td>\n",
       "    </tr>\n",
       "    <tr>\n",
       "      <th>2023110800361</th>\n",
       "      <td>2023110800361</td>\n",
       "      <td>SDSSr_65mm~empty</td>\n",
       "      <td>r</td>\n",
       "      <td>12.484554</td>\n",
       "      <td>-72.844660</td>\n",
       "      <td>-72.844660</td>\n",
       "      <td>0.005046</td>\n",
       "      <td>190.808106</td>\n",
       "      <td>45.321169</td>\n",
       "      <td>44.678831</td>\n",
       "      <td>1.404020</td>\n",
       "      <td>30.0</td>\n",
       "      <td>2023-11-09 04:07:51.959003</td>\n",
       "      <td>60257.172129</td>\n",
       "      <td>2023-11-09 04:07:36.959003</td>\n",
       "      <td>60257.171956</td>\n",
       "    </tr>\n",
       "    <tr>\n",
       "      <th>2023110800362</th>\n",
       "      <td>2023110800362</td>\n",
       "      <td>empty~SDSSi_65mm</td>\n",
       "      <td>i</td>\n",
       "      <td>12.484284</td>\n",
       "      <td>-72.844676</td>\n",
       "      <td>-72.844676</td>\n",
       "      <td>0.005577</td>\n",
       "      <td>190.880555</td>\n",
       "      <td>45.287851</td>\n",
       "      <td>44.712149</td>\n",
       "      <td>1.404812</td>\n",
       "      <td>30.0</td>\n",
       "      <td>2023-11-09 04:08:40.330495</td>\n",
       "      <td>60257.172689</td>\n",
       "      <td>2023-11-09 04:08:25.330495</td>\n",
       "      <td>60257.172515</td>\n",
       "    </tr>\n",
       "    <tr>\n",
       "      <th>2023110800364</th>\n",
       "      <td>2023110800364</td>\n",
       "      <td>SDSSr_65mm~empty</td>\n",
       "      <td>r</td>\n",
       "      <td>12.534375</td>\n",
       "      <td>-72.844687</td>\n",
       "      <td>-72.844687</td>\n",
       "      <td>0.005419</td>\n",
       "      <td>191.029053</td>\n",
       "      <td>45.218513</td>\n",
       "      <td>44.781487</td>\n",
       "      <td>1.406498</td>\n",
       "      <td>30.0</td>\n",
       "      <td>2023-11-09 04:10:33.961007</td>\n",
       "      <td>60257.174004</td>\n",
       "      <td>2023-11-09 04:10:18.961007</td>\n",
       "      <td>60257.173831</td>\n",
       "    </tr>\n",
       "    <tr>\n",
       "      <th>2023110800367</th>\n",
       "      <td>2023110800367</td>\n",
       "      <td>SDSSr_65mm~empty</td>\n",
       "      <td>r</td>\n",
       "      <td>12.584361</td>\n",
       "      <td>-72.844700</td>\n",
       "      <td>-72.844700</td>\n",
       "      <td>0.005442</td>\n",
       "      <td>191.246817</td>\n",
       "      <td>45.114247</td>\n",
       "      <td>44.885753</td>\n",
       "      <td>1.409037</td>\n",
       "      <td>30.0</td>\n",
       "      <td>2023-11-09 04:13:15.946495</td>\n",
       "      <td>60257.175879</td>\n",
       "      <td>2023-11-09 04:13:00.946495</td>\n",
       "      <td>60257.175705</td>\n",
       "    </tr>\n",
       "    <tr>\n",
       "      <th>2023110800368</th>\n",
       "      <td>2023110800368</td>\n",
       "      <td>empty~SDSSi_65mm</td>\n",
       "      <td>i</td>\n",
       "      <td>12.584358</td>\n",
       "      <td>-72.844673</td>\n",
       "      <td>-72.844673</td>\n",
       "      <td>0.005565</td>\n",
       "      <td>191.317679</td>\n",
       "      <td>45.079684</td>\n",
       "      <td>44.920316</td>\n",
       "      <td>1.409872</td>\n",
       "      <td>30.0</td>\n",
       "      <td>2023-11-09 04:14:04.457509</td>\n",
       "      <td>60257.176440</td>\n",
       "      <td>2023-11-09 04:13:49.457509</td>\n",
       "      <td>60257.176267</td>\n",
       "    </tr>\n",
       "  </tbody>\n",
       "</table>\n",
       "<p>1655 rows × 16 columns</p>\n",
       "</div>"
      ],
      "text/plain": [
       "                       visit   physical_filter band          ra        dec  \\\n",
       "visitId                                                                      \n",
       "2023051100262  2023051100262  SDSSr_65mm~empty    r  239.941279 -24.050861   \n",
       "2023051100263  2023051100263  SDSSg_65mm~empty    g  239.943099 -24.042851   \n",
       "2023051100264  2023051100264  SDSSi_65mm~empty    i  239.940919 -24.040927   \n",
       "2023051100268  2023051100268  SDSSr_65mm~empty    r  239.960079 -24.042010   \n",
       "2023051100270  2023051100270  SDSSi_65mm~empty    i  239.963850 -24.048746   \n",
       "...                      ...               ...  ...         ...        ...   \n",
       "2023110800361  2023110800361  SDSSr_65mm~empty    r   12.484554 -72.844660   \n",
       "2023110800362  2023110800362  empty~SDSSi_65mm    i   12.484284 -72.844676   \n",
       "2023110800364  2023110800364  SDSSr_65mm~empty    r   12.534375 -72.844687   \n",
       "2023110800367  2023110800367  SDSSr_65mm~empty    r   12.584361 -72.844700   \n",
       "2023110800368  2023110800368  empty~SDSSi_65mm    i   12.584358 -72.844673   \n",
       "\n",
       "                    decl  skyRotation     azimuth   altitude  zenithDistance  \\\n",
       "visitId                                                                        \n",
       "2023051100262 -24.050861   322.911701  100.652699  33.079204       56.920796   \n",
       "2023051100263 -24.042851   170.005077  100.427273  33.535722       56.464278   \n",
       "2023051100264 -24.040927   170.004955  100.024337  34.385246       55.614754   \n",
       "2023051100268 -24.042010   323.867206   99.573769  35.343223       54.656777   \n",
       "2023051100270 -24.048746   170.004124   99.285576  35.972240       54.027760   \n",
       "...                  ...          ...         ...        ...             ...   \n",
       "2023110800361 -72.844660     0.005046  190.808106  45.321169       44.678831   \n",
       "2023110800362 -72.844676     0.005577  190.880555  45.287851       44.712149   \n",
       "2023110800364 -72.844687     0.005419  191.029053  45.218513       44.781487   \n",
       "2023110800367 -72.844700     0.005442  191.246817  45.114247       44.885753   \n",
       "2023110800368 -72.844673     0.005565  191.317679  45.079684       44.920316   \n",
       "\n",
       "                airmass  expTime                   expMidpt   expMidptMJD  \\\n",
       "visitId                                                                     \n",
       "2023051100262  1.826588     30.0 2023-05-12 01:08:56.302993  60076.047874   \n",
       "2023051100263  1.804276     30.0 2023-05-12 01:11:06.209005  60076.049377   \n",
       "2023051100264  1.765315     30.0 2023-05-12 01:15:04.912000  60076.052140   \n",
       "2023051100268  1.724092     30.0 2023-05-12 01:19:39.311494  60076.055316   \n",
       "2023051100270  1.697680     30.0 2023-05-12 01:22:36.150002  60076.057363   \n",
       "...                 ...      ...                        ...           ...   \n",
       "2023110800361  1.404020     30.0 2023-11-09 04:07:51.959003  60257.172129   \n",
       "2023110800362  1.404812     30.0 2023-11-09 04:08:40.330495  60257.172689   \n",
       "2023110800364  1.406498     30.0 2023-11-09 04:10:33.961007  60257.174004   \n",
       "2023110800367  1.409037     30.0 2023-11-09 04:13:15.946495  60257.175879   \n",
       "2023110800368  1.409872     30.0 2023-11-09 04:14:04.457509  60257.176440   \n",
       "\n",
       "                                obsStart   obsStartMJD  \n",
       "visitId                                                 \n",
       "2023051100262 2023-05-12 01:08:41.302993  60076.047700  \n",
       "2023051100263 2023-05-12 01:10:51.209005  60076.049204  \n",
       "2023051100264 2023-05-12 01:14:49.912000  60076.051967  \n",
       "2023051100268 2023-05-12 01:19:24.311494  60076.055142  \n",
       "2023051100270 2023-05-12 01:22:21.150002  60076.057189  \n",
       "...                                  ...           ...  \n",
       "2023110800361 2023-11-09 04:07:36.959003  60257.171956  \n",
       "2023110800362 2023-11-09 04:08:25.330495  60257.172515  \n",
       "2023110800364 2023-11-09 04:10:18.961007  60257.173831  \n",
       "2023110800367 2023-11-09 04:13:00.946495  60257.175705  \n",
       "2023110800368 2023-11-09 04:13:49.457509  60257.176267  \n",
       "\n",
       "[1655 rows x 16 columns]"
      ]
     },
     "execution_count": 27,
     "metadata": {},
     "output_type": "execute_result"
    }
   ],
   "source": [
    "visit_table = butler.get('visitTable', dataId={'instrument': 'LATISS', 'detector': 0}, collections = my_collection )    \n",
    "visit_table"
   ]
  },
  {
   "cell_type": "code",
   "execution_count": 28,
   "id": "3fe7bcf7-0403-4b9e-a79e-8b66ff94d1c3",
   "metadata": {
    "execution": {
     "iopub.execute_input": "2024-01-01T21:39:03.050597Z",
     "iopub.status.busy": "2024-01-01T21:39:03.050438Z",
     "iopub.status.idle": "2024-01-01T21:39:03.099037Z",
     "shell.execute_reply": "2024-01-01T21:39:03.098658Z",
     "shell.execute_reply.started": "2024-01-01T21:39:03.050584Z"
    }
   },
   "outputs": [
    {
     "data": {
      "text/html": [
       "<div>\n",
       "<style scoped>\n",
       "    .dataframe tbody tr th:only-of-type {\n",
       "        vertical-align: middle;\n",
       "    }\n",
       "\n",
       "    .dataframe tbody tr th {\n",
       "        vertical-align: top;\n",
       "    }\n",
       "\n",
       "    .dataframe thead th {\n",
       "        text-align: right;\n",
       "    }\n",
       "</style>\n",
       "<table border=\"1\" class=\"dataframe\">\n",
       "  <thead>\n",
       "    <tr style=\"text-align: right;\">\n",
       "      <th></th>\n",
       "      <th>visitId</th>\n",
       "      <th>physical_filter</th>\n",
       "      <th>band</th>\n",
       "      <th>ra</th>\n",
       "      <th>dec</th>\n",
       "      <th>zenithDistance</th>\n",
       "      <th>zeroPoint</th>\n",
       "      <th>psfSigma</th>\n",
       "      <th>skyBg</th>\n",
       "      <th>skyNoise</th>\n",
       "      <th>astromOffsetMean</th>\n",
       "      <th>astromOffsetStd</th>\n",
       "      <th>nPsfStar</th>\n",
       "      <th>psfStarDeltaE1Median</th>\n",
       "      <th>psfStarDeltaE2Median</th>\n",
       "      <th>psfStarDeltaE1Scatter</th>\n",
       "      <th>psfStarDeltaE2Scatter</th>\n",
       "      <th>psfStarDeltaSizeMedian</th>\n",
       "      <th>psfStarDeltaSizeScatter</th>\n",
       "      <th>psfStarScaledDeltaSizeScatter</th>\n",
       "      <th>psfTraceRadiusDelta</th>\n",
       "      <th>maxDistToNearestPsf</th>\n",
       "      <th>decl</th>\n",
       "      <th>detector</th>\n",
       "      <th>seeing</th>\n",
       "      <th>skyRotation</th>\n",
       "      <th>expMidpt</th>\n",
       "      <th>expMidptMJD</th>\n",
       "      <th>expTime</th>\n",
       "      <th>obsStart</th>\n",
       "      <th>obsStartMJD</th>\n",
       "      <th>darkTime</th>\n",
       "      <th>xSize</th>\n",
       "      <th>ySize</th>\n",
       "      <th>llcra</th>\n",
       "      <th>llcdec</th>\n",
       "      <th>ulcra</th>\n",
       "      <th>ulcdec</th>\n",
       "      <th>urcra</th>\n",
       "      <th>urcdec</th>\n",
       "      <th>lrcra</th>\n",
       "      <th>lrcdec</th>\n",
       "    </tr>\n",
       "    <tr>\n",
       "      <th>ccdVisitId</th>\n",
       "      <th></th>\n",
       "      <th></th>\n",
       "      <th></th>\n",
       "      <th></th>\n",
       "      <th></th>\n",
       "      <th></th>\n",
       "      <th></th>\n",
       "      <th></th>\n",
       "      <th></th>\n",
       "      <th></th>\n",
       "      <th></th>\n",
       "      <th></th>\n",
       "      <th></th>\n",
       "      <th></th>\n",
       "      <th></th>\n",
       "      <th></th>\n",
       "      <th></th>\n",
       "      <th></th>\n",
       "      <th></th>\n",
       "      <th></th>\n",
       "      <th></th>\n",
       "      <th></th>\n",
       "      <th></th>\n",
       "      <th></th>\n",
       "      <th></th>\n",
       "      <th></th>\n",
       "      <th></th>\n",
       "      <th></th>\n",
       "      <th></th>\n",
       "      <th></th>\n",
       "      <th></th>\n",
       "      <th></th>\n",
       "      <th></th>\n",
       "      <th></th>\n",
       "      <th></th>\n",
       "      <th></th>\n",
       "      <th></th>\n",
       "      <th></th>\n",
       "      <th></th>\n",
       "      <th></th>\n",
       "      <th></th>\n",
       "      <th></th>\n",
       "    </tr>\n",
       "  </thead>\n",
       "  <tbody>\n",
       "    <tr>\n",
       "      <th>40919696896</th>\n",
       "      <td>2023051100262</td>\n",
       "      <td>SDSSr_65mm~empty</td>\n",
       "      <td>r</td>\n",
       "      <td>239.946727</td>\n",
       "      <td>-24.053746</td>\n",
       "      <td>56.749516</td>\n",
       "      <td>27.705477</td>\n",
       "      <td>7.776608</td>\n",
       "      <td>11.197219</td>\n",
       "      <td>7.856582</td>\n",
       "      <td>0.032861</td>\n",
       "      <td>0.019685</td>\n",
       "      <td>39</td>\n",
       "      <td>-0.004245</td>\n",
       "      <td>-0.001485</td>\n",
       "      <td>0.031742</td>\n",
       "      <td>0.014841</td>\n",
       "      <td>0.089763</td>\n",
       "      <td>0.063628</td>\n",
       "      <td>0.008093</td>\n",
       "      <td>0.659493</td>\n",
       "      <td>1402.701904</td>\n",
       "      <td>-24.053746</td>\n",
       "      <td>0</td>\n",
       "      <td>1.752650</td>\n",
       "      <td>322.911701</td>\n",
       "      <td>2023-05-12 01:08:56.302993</td>\n",
       "      <td>60076.047874</td>\n",
       "      <td>30.0</td>\n",
       "      <td>2023-05-12 01:08:41.302993</td>\n",
       "      <td>60076.047700</td>\n",
       "      <td>30.2434</td>\n",
       "      <td>4071</td>\n",
       "      <td>3999</td>\n",
       "      <td>239.935566</td>\n",
       "      <td>-24.128925</td>\n",
       "      <td>240.029264</td>\n",
       "      <td>-24.062574</td>\n",
       "      <td>239.957874</td>\n",
       "      <td>-23.978566</td>\n",
       "      <td>239.864200</td>\n",
       "      <td>-24.044873</td>\n",
       "    </tr>\n",
       "    <tr>\n",
       "      <th>40919697152</th>\n",
       "      <td>2023051100263</td>\n",
       "      <td>SDSSg_65mm~empty</td>\n",
       "      <td>g</td>\n",
       "      <td>239.941335</td>\n",
       "      <td>-24.038380</td>\n",
       "      <td>56.289413</td>\n",
       "      <td>27.909496</td>\n",
       "      <td>7.784901</td>\n",
       "      <td>3.989901</td>\n",
       "      <td>7.472743</td>\n",
       "      <td>0.032879</td>\n",
       "      <td>0.018671</td>\n",
       "      <td>20</td>\n",
       "      <td>0.012385</td>\n",
       "      <td>0.007139</td>\n",
       "      <td>0.029436</td>\n",
       "      <td>0.042836</td>\n",
       "      <td>0.158896</td>\n",
       "      <td>0.171208</td>\n",
       "      <td>0.021377</td>\n",
       "      <td>5.179351</td>\n",
       "      <td>2200.962158</td>\n",
       "      <td>-24.038380</td>\n",
       "      <td>0</td>\n",
       "      <td>1.754600</td>\n",
       "      <td>170.005077</td>\n",
       "      <td>2023-05-12 01:11:06.209005</td>\n",
       "      <td>60076.049377</td>\n",
       "      <td>30.0</td>\n",
       "      <td>2023-05-12 01:10:51.209005</td>\n",
       "      <td>60076.049204</td>\n",
       "      <td>30.2343</td>\n",
       "      <td>4071</td>\n",
       "      <td>3999</td>\n",
       "      <td>239.988740</td>\n",
       "      <td>-23.976092</td>\n",
       "      <td>239.872262</td>\n",
       "      <td>-23.996196</td>\n",
       "      <td>239.893883</td>\n",
       "      <td>-24.100653</td>\n",
       "      <td>240.010453</td>\n",
       "      <td>-24.080532</td>\n",
       "    </tr>\n",
       "    <tr>\n",
       "      <th>40919697408</th>\n",
       "      <td>2023051100264</td>\n",
       "      <td>SDSSi_65mm~empty</td>\n",
       "      <td>i</td>\n",
       "      <td>239.938163</td>\n",
       "      <td>-24.036848</td>\n",
       "      <td>55.439133</td>\n",
       "      <td>27.848541</td>\n",
       "      <td>6.357665</td>\n",
       "      <td>28.071854</td>\n",
       "      <td>8.586543</td>\n",
       "      <td>0.026557</td>\n",
       "      <td>0.017523</td>\n",
       "      <td>35</td>\n",
       "      <td>0.012835</td>\n",
       "      <td>-0.013177</td>\n",
       "      <td>0.020933</td>\n",
       "      <td>0.046253</td>\n",
       "      <td>-0.012802</td>\n",
       "      <td>0.100489</td>\n",
       "      <td>0.015865</td>\n",
       "      <td>0.367621</td>\n",
       "      <td>1484.087036</td>\n",
       "      <td>-24.036848</td>\n",
       "      <td>0</td>\n",
       "      <td>1.432899</td>\n",
       "      <td>170.004955</td>\n",
       "      <td>2023-05-12 01:15:04.912000</td>\n",
       "      <td>60076.052140</td>\n",
       "      <td>30.0</td>\n",
       "      <td>2023-05-12 01:14:49.912000</td>\n",
       "      <td>60076.051967</td>\n",
       "      <td>30.2335</td>\n",
       "      <td>4071</td>\n",
       "      <td>3999</td>\n",
       "      <td>239.985572</td>\n",
       "      <td>-23.974553</td>\n",
       "      <td>239.869113</td>\n",
       "      <td>-23.994653</td>\n",
       "      <td>239.890709</td>\n",
       "      <td>-24.099128</td>\n",
       "      <td>240.007259</td>\n",
       "      <td>-24.079011</td>\n",
       "    </tr>\n",
       "    <tr>\n",
       "      <th>40919698432</th>\n",
       "      <td>2023051100268</td>\n",
       "      <td>SDSSr_65mm~empty</td>\n",
       "      <td>r</td>\n",
       "      <td>239.964413</td>\n",
       "      <td>-24.045511</td>\n",
       "      <td>54.482189</td>\n",
       "      <td>27.753105</td>\n",
       "      <td>8.100518</td>\n",
       "      <td>10.701076</td>\n",
       "      <td>7.854048</td>\n",
       "      <td>0.026480</td>\n",
       "      <td>0.014894</td>\n",
       "      <td>32</td>\n",
       "      <td>-0.001825</td>\n",
       "      <td>-0.007242</td>\n",
       "      <td>0.012690</td>\n",
       "      <td>0.015632</td>\n",
       "      <td>0.152651</td>\n",
       "      <td>0.114754</td>\n",
       "      <td>0.013798</td>\n",
       "      <td>0.492981</td>\n",
       "      <td>2023.047119</td>\n",
       "      <td>-24.045511</td>\n",
       "      <td>0</td>\n",
       "      <td>1.825550</td>\n",
       "      <td>323.867206</td>\n",
       "      <td>2023-05-12 01:19:39.311494</td>\n",
       "      <td>60076.055316</td>\n",
       "      <td>30.0</td>\n",
       "      <td>2023-05-12 01:19:24.311494</td>\n",
       "      <td>60076.055142</td>\n",
       "      <td>30.2379</td>\n",
       "      <td>4071</td>\n",
       "      <td>3999</td>\n",
       "      <td>239.951868</td>\n",
       "      <td>-24.120504</td>\n",
       "      <td>240.046768</td>\n",
       "      <td>-24.055597</td>\n",
       "      <td>239.976943</td>\n",
       "      <td>-23.970518</td>\n",
       "      <td>239.882070</td>\n",
       "      <td>-24.035382</td>\n",
       "    </tr>\n",
       "    <tr>\n",
       "      <th>40919698944</th>\n",
       "      <td>2023051100270</td>\n",
       "      <td>SDSSi_65mm~empty</td>\n",
       "      <td>i</td>\n",
       "      <td>239.961137</td>\n",
       "      <td>-24.046364</td>\n",
       "      <td>53.849277</td>\n",
       "      <td>27.852003</td>\n",
       "      <td>6.746165</td>\n",
       "      <td>23.952093</td>\n",
       "      <td>8.440446</td>\n",
       "      <td>0.023563</td>\n",
       "      <td>0.012609</td>\n",
       "      <td>34</td>\n",
       "      <td>-0.011282</td>\n",
       "      <td>0.003969</td>\n",
       "      <td>0.037771</td>\n",
       "      <td>0.022550</td>\n",
       "      <td>-0.016428</td>\n",
       "      <td>0.143892</td>\n",
       "      <td>0.020965</td>\n",
       "      <td>1.172336</td>\n",
       "      <td>1726.039673</td>\n",
       "      <td>-24.046364</td>\n",
       "      <td>0</td>\n",
       "      <td>1.520463</td>\n",
       "      <td>170.004124</td>\n",
       "      <td>2023-05-12 01:22:36.150002</td>\n",
       "      <td>60076.057363</td>\n",
       "      <td>30.0</td>\n",
       "      <td>2023-05-12 01:22:21.150002</td>\n",
       "      <td>60076.057189</td>\n",
       "      <td>30.2424</td>\n",
       "      <td>4071</td>\n",
       "      <td>3999</td>\n",
       "      <td>240.008536</td>\n",
       "      <td>-23.984061</td>\n",
       "      <td>239.892087</td>\n",
       "      <td>-24.004162</td>\n",
       "      <td>239.913693</td>\n",
       "      <td>-24.108652</td>\n",
       "      <td>240.030233</td>\n",
       "      <td>-24.088535</td>\n",
       "    </tr>\n",
       "    <tr>\n",
       "      <th>...</th>\n",
       "      <td>...</td>\n",
       "      <td>...</td>\n",
       "      <td>...</td>\n",
       "      <td>...</td>\n",
       "      <td>...</td>\n",
       "      <td>...</td>\n",
       "      <td>...</td>\n",
       "      <td>...</td>\n",
       "      <td>...</td>\n",
       "      <td>...</td>\n",
       "      <td>...</td>\n",
       "      <td>...</td>\n",
       "      <td>...</td>\n",
       "      <td>...</td>\n",
       "      <td>...</td>\n",
       "      <td>...</td>\n",
       "      <td>...</td>\n",
       "      <td>...</td>\n",
       "      <td>...</td>\n",
       "      <td>...</td>\n",
       "      <td>...</td>\n",
       "      <td>...</td>\n",
       "      <td>...</td>\n",
       "      <td>...</td>\n",
       "      <td>...</td>\n",
       "      <td>...</td>\n",
       "      <td>...</td>\n",
       "      <td>...</td>\n",
       "      <td>...</td>\n",
       "      <td>...</td>\n",
       "      <td>...</td>\n",
       "      <td>...</td>\n",
       "      <td>...</td>\n",
       "      <td>...</td>\n",
       "      <td>...</td>\n",
       "      <td>...</td>\n",
       "      <td>...</td>\n",
       "      <td>...</td>\n",
       "      <td>...</td>\n",
       "      <td>...</td>\n",
       "      <td>...</td>\n",
       "      <td>...</td>\n",
       "    </tr>\n",
       "    <tr>\n",
       "      <th>42438060288</th>\n",
       "      <td>2023110800361</td>\n",
       "      <td>SDSSr_65mm~empty</td>\n",
       "      <td>r</td>\n",
       "      <td>12.472362</td>\n",
       "      <td>-72.844737</td>\n",
       "      <td>44.729496</td>\n",
       "      <td>27.849432</td>\n",
       "      <td>5.733940</td>\n",
       "      <td>7.405540</td>\n",
       "      <td>8.019971</td>\n",
       "      <td>0.021888</td>\n",
       "      <td>0.013789</td>\n",
       "      <td>56</td>\n",
       "      <td>-0.009452</td>\n",
       "      <td>-0.008703</td>\n",
       "      <td>0.024639</td>\n",
       "      <td>0.027964</td>\n",
       "      <td>-0.085554</td>\n",
       "      <td>0.168348</td>\n",
       "      <td>0.029979</td>\n",
       "      <td>0.591626</td>\n",
       "      <td>1244.262451</td>\n",
       "      <td>-72.844737</td>\n",
       "      <td>0</td>\n",
       "      <td>1.292204</td>\n",
       "      <td>0.005046</td>\n",
       "      <td>2023-11-09 04:07:51.959003</td>\n",
       "      <td>60257.172129</td>\n",
       "      <td>30.0</td>\n",
       "      <td>2023-11-09 04:07:36.959003</td>\n",
       "      <td>60257.171956</td>\n",
       "      <td>30.2341</td>\n",
       "      <td>4071</td>\n",
       "      <td>3999</td>\n",
       "      <td>12.290521</td>\n",
       "      <td>-72.898489</td>\n",
       "      <td>12.658600</td>\n",
       "      <td>-72.897144</td>\n",
       "      <td>12.653100</td>\n",
       "      <td>-72.790823</td>\n",
       "      <td>12.287227</td>\n",
       "      <td>-72.792161</td>\n",
       "    </tr>\n",
       "    <tr>\n",
       "      <th>42438060544</th>\n",
       "      <td>2023110800362</td>\n",
       "      <td>empty~SDSSi_65mm</td>\n",
       "      <td>i</td>\n",
       "      <td>12.473520</td>\n",
       "      <td>-72.844725</td>\n",
       "      <td>44.762394</td>\n",
       "      <td>27.866249</td>\n",
       "      <td>5.811111</td>\n",
       "      <td>17.281977</td>\n",
       "      <td>8.557647</td>\n",
       "      <td>0.021350</td>\n",
       "      <td>0.014090</td>\n",
       "      <td>60</td>\n",
       "      <td>0.001978</td>\n",
       "      <td>-0.005822</td>\n",
       "      <td>0.018680</td>\n",
       "      <td>0.019454</td>\n",
       "      <td>0.027814</td>\n",
       "      <td>0.122145</td>\n",
       "      <td>0.020740</td>\n",
       "      <td>0.656929</td>\n",
       "      <td>1039.071899</td>\n",
       "      <td>-72.844725</td>\n",
       "      <td>0</td>\n",
       "      <td>1.309372</td>\n",
       "      <td>0.005577</td>\n",
       "      <td>2023-11-09 04:08:40.330495</td>\n",
       "      <td>60257.172689</td>\n",
       "      <td>30.0</td>\n",
       "      <td>2023-11-09 04:08:25.330495</td>\n",
       "      <td>60257.172515</td>\n",
       "      <td>30.2311</td>\n",
       "      <td>4071</td>\n",
       "      <td>3999</td>\n",
       "      <td>12.291749</td>\n",
       "      <td>-72.898464</td>\n",
       "      <td>12.659756</td>\n",
       "      <td>-72.897129</td>\n",
       "      <td>12.654188</td>\n",
       "      <td>-72.790824</td>\n",
       "      <td>12.288386</td>\n",
       "      <td>-72.792152</td>\n",
       "    </tr>\n",
       "    <tr>\n",
       "      <th>42438061056</th>\n",
       "      <td>2023110800364</td>\n",
       "      <td>SDSSr_65mm~empty</td>\n",
       "      <td>r</td>\n",
       "      <td>12.522335</td>\n",
       "      <td>-72.844696</td>\n",
       "      <td>44.832893</td>\n",
       "      <td>27.825552</td>\n",
       "      <td>5.680949</td>\n",
       "      <td>7.506320</td>\n",
       "      <td>8.040755</td>\n",
       "      <td>0.022361</td>\n",
       "      <td>0.013507</td>\n",
       "      <td>52</td>\n",
       "      <td>-0.000942</td>\n",
       "      <td>-0.019654</td>\n",
       "      <td>0.014277</td>\n",
       "      <td>0.034852</td>\n",
       "      <td>-0.040949</td>\n",
       "      <td>0.107605</td>\n",
       "      <td>0.018995</td>\n",
       "      <td>0.631289</td>\n",
       "      <td>1169.277222</td>\n",
       "      <td>-72.844696</td>\n",
       "      <td>0</td>\n",
       "      <td>1.280164</td>\n",
       "      <td>0.005419</td>\n",
       "      <td>2023-11-09 04:10:33.961007</td>\n",
       "      <td>60257.174004</td>\n",
       "      <td>30.0</td>\n",
       "      <td>2023-11-09 04:10:18.961007</td>\n",
       "      <td>60257.173831</td>\n",
       "      <td>30.2384</td>\n",
       "      <td>4071</td>\n",
       "      <td>3999</td>\n",
       "      <td>12.340535</td>\n",
       "      <td>-72.898438</td>\n",
       "      <td>12.708587</td>\n",
       "      <td>-72.897103</td>\n",
       "      <td>12.703032</td>\n",
       "      <td>-72.790791</td>\n",
       "      <td>12.337186</td>\n",
       "      <td>-72.792118</td>\n",
       "    </tr>\n",
       "    <tr>\n",
       "      <th>42438061824</th>\n",
       "      <td>2023110800367</td>\n",
       "      <td>SDSSr_65mm~empty</td>\n",
       "      <td>r</td>\n",
       "      <td>12.572153</td>\n",
       "      <td>-72.844634</td>\n",
       "      <td>44.938324</td>\n",
       "      <td>27.809427</td>\n",
       "      <td>5.571475</td>\n",
       "      <td>7.638816</td>\n",
       "      <td>8.030701</td>\n",
       "      <td>0.025153</td>\n",
       "      <td>0.014282</td>\n",
       "      <td>57</td>\n",
       "      <td>-0.006582</td>\n",
       "      <td>0.005989</td>\n",
       "      <td>0.023921</td>\n",
       "      <td>0.028443</td>\n",
       "      <td>0.054338</td>\n",
       "      <td>0.080161</td>\n",
       "      <td>0.014130</td>\n",
       "      <td>0.641624</td>\n",
       "      <td>987.211792</td>\n",
       "      <td>-72.844634</td>\n",
       "      <td>0</td>\n",
       "      <td>1.255562</td>\n",
       "      <td>0.005442</td>\n",
       "      <td>2023-11-09 04:13:15.946495</td>\n",
       "      <td>60257.175879</td>\n",
       "      <td>30.0</td>\n",
       "      <td>2023-11-09 04:13:00.946495</td>\n",
       "      <td>60257.175705</td>\n",
       "      <td>30.2466</td>\n",
       "      <td>4071</td>\n",
       "      <td>3999</td>\n",
       "      <td>12.390327</td>\n",
       "      <td>-72.898386</td>\n",
       "      <td>12.758388</td>\n",
       "      <td>-72.897042</td>\n",
       "      <td>12.752875</td>\n",
       "      <td>-72.790721</td>\n",
       "      <td>12.387019</td>\n",
       "      <td>-72.792058</td>\n",
       "    </tr>\n",
       "    <tr>\n",
       "      <th>42438062080</th>\n",
       "      <td>2023110800368</td>\n",
       "      <td>empty~SDSSi_65mm</td>\n",
       "      <td>i</td>\n",
       "      <td>12.573426</td>\n",
       "      <td>-72.844607</td>\n",
       "      <td>44.972591</td>\n",
       "      <td>27.876894</td>\n",
       "      <td>4.939267</td>\n",
       "      <td>17.632475</td>\n",
       "      <td>8.575315</td>\n",
       "      <td>0.017765</td>\n",
       "      <td>0.010683</td>\n",
       "      <td>86</td>\n",
       "      <td>0.001897</td>\n",
       "      <td>-0.009335</td>\n",
       "      <td>0.024299</td>\n",
       "      <td>0.031715</td>\n",
       "      <td>0.022208</td>\n",
       "      <td>0.075741</td>\n",
       "      <td>0.015152</td>\n",
       "      <td>0.732679</td>\n",
       "      <td>767.304993</td>\n",
       "      <td>-72.844607</td>\n",
       "      <td>0</td>\n",
       "      <td>1.113179</td>\n",
       "      <td>0.005565</td>\n",
       "      <td>2023-11-09 04:14:04.457509</td>\n",
       "      <td>60257.176440</td>\n",
       "      <td>30.0</td>\n",
       "      <td>2023-11-09 04:13:49.457509</td>\n",
       "      <td>60257.176267</td>\n",
       "      <td>30.2311</td>\n",
       "      <td>4071</td>\n",
       "      <td>3999</td>\n",
       "      <td>12.391573</td>\n",
       "      <td>-72.898365</td>\n",
       "      <td>12.759681</td>\n",
       "      <td>-72.897011</td>\n",
       "      <td>12.754176</td>\n",
       "      <td>-72.790688</td>\n",
       "      <td>12.388274</td>\n",
       "      <td>-72.792034</td>\n",
       "    </tr>\n",
       "  </tbody>\n",
       "</table>\n",
       "<p>1655 rows × 42 columns</p>\n",
       "</div>"
      ],
      "text/plain": [
       "                   visitId   physical_filter band          ra        dec  \\\n",
       "ccdVisitId                                                                 \n",
       "40919696896  2023051100262  SDSSr_65mm~empty    r  239.946727 -24.053746   \n",
       "40919697152  2023051100263  SDSSg_65mm~empty    g  239.941335 -24.038380   \n",
       "40919697408  2023051100264  SDSSi_65mm~empty    i  239.938163 -24.036848   \n",
       "40919698432  2023051100268  SDSSr_65mm~empty    r  239.964413 -24.045511   \n",
       "40919698944  2023051100270  SDSSi_65mm~empty    i  239.961137 -24.046364   \n",
       "...                    ...               ...  ...         ...        ...   \n",
       "42438060288  2023110800361  SDSSr_65mm~empty    r   12.472362 -72.844737   \n",
       "42438060544  2023110800362  empty~SDSSi_65mm    i   12.473520 -72.844725   \n",
       "42438061056  2023110800364  SDSSr_65mm~empty    r   12.522335 -72.844696   \n",
       "42438061824  2023110800367  SDSSr_65mm~empty    r   12.572153 -72.844634   \n",
       "42438062080  2023110800368  empty~SDSSi_65mm    i   12.573426 -72.844607   \n",
       "\n",
       "             zenithDistance  zeroPoint  psfSigma      skyBg  skyNoise  \\\n",
       "ccdVisitId                                                              \n",
       "40919696896       56.749516  27.705477  7.776608  11.197219  7.856582   \n",
       "40919697152       56.289413  27.909496  7.784901   3.989901  7.472743   \n",
       "40919697408       55.439133  27.848541  6.357665  28.071854  8.586543   \n",
       "40919698432       54.482189  27.753105  8.100518  10.701076  7.854048   \n",
       "40919698944       53.849277  27.852003  6.746165  23.952093  8.440446   \n",
       "...                     ...        ...       ...        ...       ...   \n",
       "42438060288       44.729496  27.849432  5.733940   7.405540  8.019971   \n",
       "42438060544       44.762394  27.866249  5.811111  17.281977  8.557647   \n",
       "42438061056       44.832893  27.825552  5.680949   7.506320  8.040755   \n",
       "42438061824       44.938324  27.809427  5.571475   7.638816  8.030701   \n",
       "42438062080       44.972591  27.876894  4.939267  17.632475  8.575315   \n",
       "\n",
       "             astromOffsetMean  astromOffsetStd  nPsfStar  \\\n",
       "ccdVisitId                                                 \n",
       "40919696896          0.032861         0.019685        39   \n",
       "40919697152          0.032879         0.018671        20   \n",
       "40919697408          0.026557         0.017523        35   \n",
       "40919698432          0.026480         0.014894        32   \n",
       "40919698944          0.023563         0.012609        34   \n",
       "...                       ...              ...       ...   \n",
       "42438060288          0.021888         0.013789        56   \n",
       "42438060544          0.021350         0.014090        60   \n",
       "42438061056          0.022361         0.013507        52   \n",
       "42438061824          0.025153         0.014282        57   \n",
       "42438062080          0.017765         0.010683        86   \n",
       "\n",
       "             psfStarDeltaE1Median  psfStarDeltaE2Median  \\\n",
       "ccdVisitId                                                \n",
       "40919696896             -0.004245             -0.001485   \n",
       "40919697152              0.012385              0.007139   \n",
       "40919697408              0.012835             -0.013177   \n",
       "40919698432             -0.001825             -0.007242   \n",
       "40919698944             -0.011282              0.003969   \n",
       "...                           ...                   ...   \n",
       "42438060288             -0.009452             -0.008703   \n",
       "42438060544              0.001978             -0.005822   \n",
       "42438061056             -0.000942             -0.019654   \n",
       "42438061824             -0.006582              0.005989   \n",
       "42438062080              0.001897             -0.009335   \n",
       "\n",
       "             psfStarDeltaE1Scatter  psfStarDeltaE2Scatter  \\\n",
       "ccdVisitId                                                  \n",
       "40919696896               0.031742               0.014841   \n",
       "40919697152               0.029436               0.042836   \n",
       "40919697408               0.020933               0.046253   \n",
       "40919698432               0.012690               0.015632   \n",
       "40919698944               0.037771               0.022550   \n",
       "...                            ...                    ...   \n",
       "42438060288               0.024639               0.027964   \n",
       "42438060544               0.018680               0.019454   \n",
       "42438061056               0.014277               0.034852   \n",
       "42438061824               0.023921               0.028443   \n",
       "42438062080               0.024299               0.031715   \n",
       "\n",
       "             psfStarDeltaSizeMedian  psfStarDeltaSizeScatter  \\\n",
       "ccdVisitId                                                     \n",
       "40919696896                0.089763                 0.063628   \n",
       "40919697152                0.158896                 0.171208   \n",
       "40919697408               -0.012802                 0.100489   \n",
       "40919698432                0.152651                 0.114754   \n",
       "40919698944               -0.016428                 0.143892   \n",
       "...                             ...                      ...   \n",
       "42438060288               -0.085554                 0.168348   \n",
       "42438060544                0.027814                 0.122145   \n",
       "42438061056               -0.040949                 0.107605   \n",
       "42438061824                0.054338                 0.080161   \n",
       "42438062080                0.022208                 0.075741   \n",
       "\n",
       "             psfStarScaledDeltaSizeScatter  psfTraceRadiusDelta  \\\n",
       "ccdVisitId                                                        \n",
       "40919696896                       0.008093             0.659493   \n",
       "40919697152                       0.021377             5.179351   \n",
       "40919697408                       0.015865             0.367621   \n",
       "40919698432                       0.013798             0.492981   \n",
       "40919698944                       0.020965             1.172336   \n",
       "...                                    ...                  ...   \n",
       "42438060288                       0.029979             0.591626   \n",
       "42438060544                       0.020740             0.656929   \n",
       "42438061056                       0.018995             0.631289   \n",
       "42438061824                       0.014130             0.641624   \n",
       "42438062080                       0.015152             0.732679   \n",
       "\n",
       "             maxDistToNearestPsf       decl  detector    seeing  skyRotation  \\\n",
       "ccdVisitId                                                                     \n",
       "40919696896          1402.701904 -24.053746         0  1.752650   322.911701   \n",
       "40919697152          2200.962158 -24.038380         0  1.754600   170.005077   \n",
       "40919697408          1484.087036 -24.036848         0  1.432899   170.004955   \n",
       "40919698432          2023.047119 -24.045511         0  1.825550   323.867206   \n",
       "40919698944          1726.039673 -24.046364         0  1.520463   170.004124   \n",
       "...                          ...        ...       ...       ...          ...   \n",
       "42438060288          1244.262451 -72.844737         0  1.292204     0.005046   \n",
       "42438060544          1039.071899 -72.844725         0  1.309372     0.005577   \n",
       "42438061056          1169.277222 -72.844696         0  1.280164     0.005419   \n",
       "42438061824           987.211792 -72.844634         0  1.255562     0.005442   \n",
       "42438062080           767.304993 -72.844607         0  1.113179     0.005565   \n",
       "\n",
       "                              expMidpt   expMidptMJD  expTime  \\\n",
       "ccdVisitId                                                      \n",
       "40919696896 2023-05-12 01:08:56.302993  60076.047874     30.0   \n",
       "40919697152 2023-05-12 01:11:06.209005  60076.049377     30.0   \n",
       "40919697408 2023-05-12 01:15:04.912000  60076.052140     30.0   \n",
       "40919698432 2023-05-12 01:19:39.311494  60076.055316     30.0   \n",
       "40919698944 2023-05-12 01:22:36.150002  60076.057363     30.0   \n",
       "...                                ...           ...      ...   \n",
       "42438060288 2023-11-09 04:07:51.959003  60257.172129     30.0   \n",
       "42438060544 2023-11-09 04:08:40.330495  60257.172689     30.0   \n",
       "42438061056 2023-11-09 04:10:33.961007  60257.174004     30.0   \n",
       "42438061824 2023-11-09 04:13:15.946495  60257.175879     30.0   \n",
       "42438062080 2023-11-09 04:14:04.457509  60257.176440     30.0   \n",
       "\n",
       "                              obsStart   obsStartMJD  darkTime  xSize  ySize  \\\n",
       "ccdVisitId                                                                     \n",
       "40919696896 2023-05-12 01:08:41.302993  60076.047700   30.2434   4071   3999   \n",
       "40919697152 2023-05-12 01:10:51.209005  60076.049204   30.2343   4071   3999   \n",
       "40919697408 2023-05-12 01:14:49.912000  60076.051967   30.2335   4071   3999   \n",
       "40919698432 2023-05-12 01:19:24.311494  60076.055142   30.2379   4071   3999   \n",
       "40919698944 2023-05-12 01:22:21.150002  60076.057189   30.2424   4071   3999   \n",
       "...                                ...           ...       ...    ...    ...   \n",
       "42438060288 2023-11-09 04:07:36.959003  60257.171956   30.2341   4071   3999   \n",
       "42438060544 2023-11-09 04:08:25.330495  60257.172515   30.2311   4071   3999   \n",
       "42438061056 2023-11-09 04:10:18.961007  60257.173831   30.2384   4071   3999   \n",
       "42438061824 2023-11-09 04:13:00.946495  60257.175705   30.2466   4071   3999   \n",
       "42438062080 2023-11-09 04:13:49.457509  60257.176267   30.2311   4071   3999   \n",
       "\n",
       "                  llcra     llcdec       ulcra     ulcdec       urcra  \\\n",
       "ccdVisitId                                                              \n",
       "40919696896  239.935566 -24.128925  240.029264 -24.062574  239.957874   \n",
       "40919697152  239.988740 -23.976092  239.872262 -23.996196  239.893883   \n",
       "40919697408  239.985572 -23.974553  239.869113 -23.994653  239.890709   \n",
       "40919698432  239.951868 -24.120504  240.046768 -24.055597  239.976943   \n",
       "40919698944  240.008536 -23.984061  239.892087 -24.004162  239.913693   \n",
       "...                 ...        ...         ...        ...         ...   \n",
       "42438060288   12.290521 -72.898489   12.658600 -72.897144   12.653100   \n",
       "42438060544   12.291749 -72.898464   12.659756 -72.897129   12.654188   \n",
       "42438061056   12.340535 -72.898438   12.708587 -72.897103   12.703032   \n",
       "42438061824   12.390327 -72.898386   12.758388 -72.897042   12.752875   \n",
       "42438062080   12.391573 -72.898365   12.759681 -72.897011   12.754176   \n",
       "\n",
       "                urcdec       lrcra     lrcdec  \n",
       "ccdVisitId                                     \n",
       "40919696896 -23.978566  239.864200 -24.044873  \n",
       "40919697152 -24.100653  240.010453 -24.080532  \n",
       "40919697408 -24.099128  240.007259 -24.079011  \n",
       "40919698432 -23.970518  239.882070 -24.035382  \n",
       "40919698944 -24.108652  240.030233 -24.088535  \n",
       "...                ...         ...        ...  \n",
       "42438060288 -72.790823   12.287227 -72.792161  \n",
       "42438060544 -72.790824   12.288386 -72.792152  \n",
       "42438061056 -72.790791   12.337186 -72.792118  \n",
       "42438061824 -72.790721   12.387019 -72.792058  \n",
       "42438062080 -72.790688   12.388274 -72.792034  \n",
       "\n",
       "[1655 rows x 42 columns]"
      ]
     },
     "execution_count": 28,
     "metadata": {},
     "output_type": "execute_result"
    }
   ],
   "source": [
    "ccd_visit_table = butler.get('ccdVisitTable', dataId={'instrument': 'LATISS', 'detector': 0}, collections = my_collection )    \n",
    "ccd_visit_table"
   ]
  },
  {
   "cell_type": "code",
   "execution_count": 29,
   "id": "05c444f4-a8af-49cd-90d8-48292f9c6dd6",
   "metadata": {
    "execution": {
     "iopub.execute_input": "2024-01-01T21:39:03.099654Z",
     "iopub.status.busy": "2024-01-01T21:39:03.099525Z",
     "iopub.status.idle": "2024-01-01T21:39:03.103200Z",
     "shell.execute_reply": "2024-01-01T21:39:03.102865Z",
     "shell.execute_reply.started": "2024-01-01T21:39:03.099641Z"
    }
   },
   "outputs": [],
   "source": [
    "ccd_visit_table[\"Time\"] = pd.to_datetime(ccd_visit_table['obsStart'])"
   ]
  },
  {
   "cell_type": "markdown",
   "id": "426e08cd-2219-4400-9d3d-1f2a064ce665",
   "metadata": {},
   "source": [
    "# Find those visits in the selected tract and patches"
   ]
  },
  {
   "cell_type": "code",
   "execution_count": 30,
   "id": "3fc22a66-a90d-4371-b073-1f1c34c806f7",
   "metadata": {
    "execution": {
     "iopub.execute_input": "2024-01-01T21:39:03.103797Z",
     "iopub.status.busy": "2024-01-01T21:39:03.103649Z",
     "iopub.status.idle": "2024-01-01T21:39:03.106637Z",
     "shell.execute_reply": "2024-01-01T21:39:03.106304Z",
     "shell.execute_reply.started": "2024-01-01T21:39:03.103784Z"
    }
   },
   "outputs": [],
   "source": [
    "def SelectVisits(row):\n",
    "    try:\n",
    "        ra = row[\"ra\"]\n",
    "        dec = row[\"dec\"]\n",
    "        selectFlag = False\n",
    "        for patch in all_patches:\n",
    "            patchID = patch.getSequentialIndex()\n",
    "            ibb=patch.getInnerBBox()\n",
    "            flag = isradec_inbbox_radec(ra,dec,tWCS, ibb)\n",
    "            selectFlag =  selectFlag or flag\n",
    "        return selectFlag\n",
    "    except Exception as inst:\n",
    "        print(type(inst))    # the exception type\n",
    "        print(inst.args)     # arguments stored in .args\n",
    "        print(inst)          # __str__ allows args to be printed directly,\n",
    "        return False\n",
    "        "
   ]
  },
  {
   "cell_type": "code",
   "execution_count": 31,
   "id": "42b1477d-0fe2-439f-8322-b0fe5ea5c7dc",
   "metadata": {
    "execution": {
     "iopub.execute_input": "2024-01-01T21:39:03.107275Z",
     "iopub.status.busy": "2024-01-01T21:39:03.107065Z",
     "iopub.status.idle": "2024-01-01T21:39:03.178428Z",
     "shell.execute_reply": "2024-01-01T21:39:03.177978Z",
     "shell.execute_reply.started": "2024-01-01T21:39:03.107264Z"
    }
   },
   "outputs": [],
   "source": [
    "ccd_visit_table1 = ccd_visit_table\n",
    "ccd_visit_table1[\"selectFlag\"] = ccd_visit_table1.apply(SelectVisits, axis=1, raw=False)"
   ]
  },
  {
   "cell_type": "code",
   "execution_count": 32,
   "id": "838fe146-dfd9-4aa8-9299-76e4e460cf29",
   "metadata": {
    "execution": {
     "iopub.execute_input": "2024-01-01T21:39:03.179180Z",
     "iopub.status.busy": "2024-01-01T21:39:03.179026Z",
     "iopub.status.idle": "2024-01-01T21:39:03.182120Z",
     "shell.execute_reply": "2024-01-01T21:39:03.181770Z",
     "shell.execute_reply.started": "2024-01-01T21:39:03.179166Z"
    }
   },
   "outputs": [],
   "source": [
    "ccd_visit_table_selected1 = ccd_visit_table1[ccd_visit_table1[\"selectFlag\"]]"
   ]
  },
  {
   "cell_type": "code",
   "execution_count": 33,
   "id": "8c7bd045-efae-47f7-90f3-678ed7c6a258",
   "metadata": {
    "execution": {
     "iopub.execute_input": "2024-01-01T21:39:03.182792Z",
     "iopub.status.busy": "2024-01-01T21:39:03.182627Z",
     "iopub.status.idle": "2024-01-01T21:39:03.186057Z",
     "shell.execute_reply": "2024-01-01T21:39:03.185720Z",
     "shell.execute_reply.started": "2024-01-01T21:39:03.182779Z"
    }
   },
   "outputs": [
    {
     "name": "stderr",
     "output_type": "stream",
     "text": [
      "/tmp/ipykernel_10865/3288211684.py:1: SettingWithCopyWarning: \n",
      "A value is trying to be set on a copy of a slice from a DataFrame\n",
      "\n",
      "See the caveats in the documentation: https://pandas.pydata.org/pandas-docs/stable/user_guide/indexing.html#returning-a-view-versus-a-copy\n",
      "  ccd_visit_table_selected1.drop([\"selectFlag\"],axis=1,inplace=True)\n"
     ]
    }
   ],
   "source": [
    "ccd_visit_table_selected1.drop([\"selectFlag\"],axis=1,inplace=True) "
   ]
  },
  {
   "cell_type": "code",
   "execution_count": 34,
   "id": "554312a5-5184-4ebe-8ad9-0a6b80e16b1d",
   "metadata": {
    "execution": {
     "iopub.execute_input": "2024-01-01T21:39:03.186620Z",
     "iopub.status.busy": "2024-01-01T21:39:03.186498Z",
     "iopub.status.idle": "2024-01-01T21:39:03.191214Z",
     "shell.execute_reply": "2024-01-01T21:39:03.190858Z",
     "shell.execute_reply.started": "2024-01-01T21:39:03.186609Z"
    }
   },
   "outputs": [
    {
     "data": {
      "text/plain": [
       "Index(['visitId', 'physical_filter', 'band', 'ra', 'dec', 'zenithDistance',\n",
       "       'zeroPoint', 'psfSigma', 'skyBg', 'skyNoise', 'astromOffsetMean',\n",
       "       'astromOffsetStd', 'nPsfStar', 'psfStarDeltaE1Median',\n",
       "       'psfStarDeltaE2Median', 'psfStarDeltaE1Scatter',\n",
       "       'psfStarDeltaE2Scatter', 'psfStarDeltaSizeMedian',\n",
       "       'psfStarDeltaSizeScatter', 'psfStarScaledDeltaSizeScatter',\n",
       "       'psfTraceRadiusDelta', 'maxDistToNearestPsf', 'decl', 'detector',\n",
       "       'seeing', 'skyRotation', 'expMidpt', 'expMidptMJD', 'expTime',\n",
       "       'obsStart', 'obsStartMJD', 'darkTime', 'xSize', 'ySize', 'llcra',\n",
       "       'llcdec', 'ulcra', 'ulcdec', 'urcra', 'urcdec', 'lrcra', 'lrcdec',\n",
       "       'Time'],\n",
       "      dtype='object')"
      ]
     },
     "execution_count": 34,
     "metadata": {},
     "output_type": "execute_result"
    }
   ],
   "source": [
    "ccd_visit_table_selected1.columns"
   ]
  },
  {
   "cell_type": "code",
   "execution_count": 35,
   "id": "35a22d48-9f0d-41ca-8417-6a11cafde159",
   "metadata": {
    "execution": {
     "iopub.execute_input": "2024-01-01T21:39:03.191797Z",
     "iopub.status.busy": "2024-01-01T21:39:03.191676Z",
     "iopub.status.idle": "2024-01-01T21:39:03.193923Z",
     "shell.execute_reply": "2024-01-01T21:39:03.193596Z",
     "shell.execute_reply.started": "2024-01-01T21:39:03.191785Z"
    }
   },
   "outputs": [],
   "source": [
    "df = ccd_visit_table_selected1"
   ]
  },
  {
   "cell_type": "code",
   "execution_count": 36,
   "id": "f8e17498-94e2-419a-b8ff-3e5a53bbaf52",
   "metadata": {
    "execution": {
     "iopub.execute_input": "2024-01-01T21:39:03.194485Z",
     "iopub.status.busy": "2024-01-01T21:39:03.194362Z",
     "iopub.status.idle": "2024-01-01T21:39:03.736381Z",
     "shell.execute_reply": "2024-01-01T21:39:03.735888Z",
     "shell.execute_reply.started": "2024-01-01T21:39:03.194474Z"
    }
   },
   "outputs": [
    {
     "data": {
      "image/png": "[encoded data removed]",
      "text/plain": [
       "<Figure size 1600x1000 with 3 Axes>"
      ]
     },
     "metadata": {},
     "output_type": "display_data"
    }
   ],
   "source": [
    "fig,(ax1,ax2,ax3) = plt.subplots(3,1,figsize=(16,10))\n",
    "\n",
    "df[df[\"band\"]==\"g\"].plot(x=\"Time\",y=\"zeroPoint\",marker='o',c=\"g\",lw=0.0,ax=ax1,grid=True,legend=False)\n",
    "df[df[\"band\"]==\"r\"].plot(x=\"Time\",y=\"zeroPoint\",marker='o',c=\"r\",lw=0.0,ax=ax1,grid=True,legend=False)\n",
    "df[df[\"band\"]==\"i\"].plot(x=\"Time\",y=\"zeroPoint\",marker='o',c=\"y\",lw=0.0,ax=ax1,grid=True,legend=False)\n",
    "ax1.set_title(\"zeroPoint\")\n",
    "\n",
    "\n",
    "df[df[\"band\"]==\"g\"].plot(x=\"Time\",y=\"zenithDistance\",marker='o',c=\"g\",lw=0.0,ax=ax2,grid=True,legend=False)\n",
    "df[df[\"band\"]==\"r\"].plot(x=\"Time\",y=\"zenithDistance\",marker='o',c=\"r\",lw=0.0,ax=ax2,grid=True,legend=False)\n",
    "df[df[\"band\"]==\"i\"].plot(x=\"Time\",y=\"zenithDistance\",marker='o',c=\"y\",lw=0.0,ax=ax2,grid=True,legend=False)\n",
    "ax2.set_title(\"zenithDistance\")\n",
    "\n",
    "df[df[\"band\"]==\"g\"].plot(x=\"Time\",y=\"psfSigma\",marker='o',c=\"g\",lw=0.0,ax=ax3,grid=True,legend=False)\n",
    "df[df[\"band\"]==\"r\"].plot(x=\"Time\",y=\"psfSigma\",marker='o',c=\"r\",lw=0.0,ax=ax3,grid=True,legend=False)\n",
    "df[df[\"band\"]==\"i\"].plot(x=\"Time\",y=\"psfSigma\",marker='o',c=\"y\",lw=0.0,ax=ax3,grid=True,legend=False)\n",
    "ax3.set_title(\"psfSigma\")\n",
    "\n",
    "#df.plot(x=\"Time\",y=\"coord_dec\",marker='o',c=\"g\",lw=0.0,ax=ax2,grid=True)\n",
    "plt.suptitle(suptitle,y=1.0,fontsize=16)\n",
    "plt.tight_layout()"
   ]
  },
  {
   "cell_type": "code",
   "execution_count": 37,
   "id": "9336ab58-8853-4e34-a17f-455a09a00a81",
   "metadata": {
    "execution": {
     "iopub.execute_input": "2024-01-01T21:39:03.737140Z",
     "iopub.status.busy": "2024-01-01T21:39:03.736961Z",
     "iopub.status.idle": "2024-01-01T21:39:03.739276Z",
     "shell.execute_reply": "2024-01-01T21:39:03.738970Z",
     "shell.execute_reply.started": "2024-01-01T21:39:03.737125Z"
    }
   },
   "outputs": [],
   "source": [
    "patches_selected = [294]\n",
    "suptitle = f\"CCD visit in tract {tract_selected} and patches {patches_selected[0]}\""
   ]
  },
  {
   "cell_type": "code",
   "execution_count": 38,
   "id": "20e53b15-b300-4aaf-b753-511d518cbe60",
   "metadata": {
    "execution": {
     "iopub.execute_input": "2024-01-01T21:39:03.740021Z",
     "iopub.status.busy": "2024-01-01T21:39:03.739823Z",
     "iopub.status.idle": "2024-01-01T21:39:03.748850Z",
     "shell.execute_reply": "2024-01-01T21:39:03.748455Z",
     "shell.execute_reply.started": "2024-01-01T21:39:03.740008Z"
    }
   },
   "outputs": [],
   "source": [
    "all_patches = []\n",
    "for patch in tractInfo:\n",
    "    patchID = patch.getSequentialIndex()\n",
    "    if patchID in patches_selected:\n",
    "        all_patches.append(patch)        "
   ]
  },
  {
   "cell_type": "code",
   "execution_count": 39,
   "id": "7e0c66f0-86ac-4ed6-99de-ec8d5dd4547f",
   "metadata": {
    "execution": {
     "iopub.execute_input": "2024-01-01T21:39:03.749518Z",
     "iopub.status.busy": "2024-01-01T21:39:03.749324Z",
     "iopub.status.idle": "2024-01-01T21:39:03.794080Z",
     "shell.execute_reply": "2024-01-01T21:39:03.793719Z",
     "shell.execute_reply.started": "2024-01-01T21:39:03.749506Z"
    }
   },
   "outputs": [
    {
     "name": "stderr",
     "output_type": "stream",
     "text": [
      "/tmp/ipykernel_10865/1300792257.py:4: SettingWithCopyWarning: \n",
      "A value is trying to be set on a copy of a slice from a DataFrame\n",
      "\n",
      "See the caveats in the documentation: https://pandas.pydata.org/pandas-docs/stable/user_guide/indexing.html#returning-a-view-versus-a-copy\n",
      "  ccd_visit_table_selected2.drop([\"selectFlag\"],axis=1,inplace=True)\n"
     ]
    }
   ],
   "source": [
    "ccd_visit_table2 = ccd_visit_table\n",
    "ccd_visit_table2[\"selectFlag\"] = ccd_visit_table2.apply(SelectVisits, axis=1, raw=False)\n",
    "ccd_visit_table_selected2 = ccd_visit_table2[ccd_visit_table2[\"selectFlag\"]]\n",
    "ccd_visit_table_selected2.drop([\"selectFlag\"],axis=1,inplace=True) \n",
    "df = ccd_visit_table_selected2"
   ]
  },
  {
   "cell_type": "code",
   "execution_count": 40,
   "id": "76a84709-b69d-480f-9936-816a70e39241",
   "metadata": {
    "execution": {
     "iopub.execute_input": "2024-01-01T21:39:03.794644Z",
     "iopub.status.busy": "2024-01-01T21:39:03.794523Z",
     "iopub.status.idle": "2024-01-01T21:39:04.328103Z",
     "shell.execute_reply": "2024-01-01T21:39:04.327452Z",
     "shell.execute_reply.started": "2024-01-01T21:39:03.794632Z"
    }
   },
   "outputs": [
    {
     "data": {
      "image/png": "[encoded data removed]",
      "text/plain": [
       "<Figure size 1600x1000 with 3 Axes>"
      ]
     },
     "metadata": {},
     "output_type": "display_data"
    }
   ],
   "source": [
    "fig,(ax1,ax2,ax3) = plt.subplots(3,1,figsize=(16,10))\n",
    "\n",
    "df[df[\"band\"]==\"g\"].plot(x=\"Time\",y=\"zeroPoint\",marker='o',c=\"g\",lw=0.0,ax=ax1,grid=True,legend=False)\n",
    "df[df[\"band\"]==\"r\"].plot(x=\"Time\",y=\"zeroPoint\",marker='o',c=\"r\",lw=0.0,ax=ax1,grid=True,legend=False)\n",
    "df[df[\"band\"]==\"i\"].plot(x=\"Time\",y=\"zeroPoint\",marker='o',c=\"y\",lw=0.0,ax=ax1,grid=True,legend=False)\n",
    "ax1.set_title(\"zeroPoint\")\n",
    "\n",
    "df[df[\"band\"]==\"g\"].plot(x=\"Time\",y=\"zenithDistance\",marker='o',c=\"g\",lw=0.0,ax=ax2,grid=True,legend=False)\n",
    "df[df[\"band\"]==\"r\"].plot(x=\"Time\",y=\"zenithDistance\",marker='o',c=\"r\",lw=0.0,ax=ax2,grid=True,legend=False)\n",
    "df[df[\"band\"]==\"i\"].plot(x=\"Time\",y=\"zenithDistance\",marker='o',c=\"y\",lw=0.0,ax=ax2,grid=True,legend=False)\n",
    "ax2.set_title(\"zenithDistance\")\n",
    "\n",
    "df[df[\"band\"]==\"g\"].plot(x=\"Time\",y=\"psfSigma\",marker='o',c=\"g\",lw=0.0,ax=ax3,grid=True,legend=False)\n",
    "df[df[\"band\"]==\"r\"].plot(x=\"Time\",y=\"psfSigma\",marker='o',c=\"r\",lw=0.0,ax=ax3,grid=True,legend=False)\n",
    "df[df[\"band\"]==\"i\"].plot(x=\"Time\",y=\"psfSigma\",marker='o',c=\"y\",lw=0.0,ax=ax3,grid=True,legend=False)\n",
    "ax3.set_title(\"psfSigma\")\n",
    "\n",
    "#df.plot(x=\"Time\",y=\"coord_dec\",marker='o',c=\"g\",lw=0.0,ax=ax2,grid=True)\n",
    "plt.suptitle(suptitle,y=1.0,fontsize=16)\n",
    "plt.tight_layout()"
   ]
  },
  {
   "cell_type": "code",
   "execution_count": 41,
   "id": "7eea4319-69eb-467e-8d91-e25106d7cd6d",
   "metadata": {
    "execution": {
     "iopub.execute_input": "2024-01-01T21:39:04.331709Z",
     "iopub.status.busy": "2024-01-01T21:39:04.331529Z",
     "iopub.status.idle": "2024-01-01T21:39:04.333986Z",
     "shell.execute_reply": "2024-01-01T21:39:04.333633Z",
     "shell.execute_reply.started": "2024-01-01T21:39:04.331697Z"
    }
   },
   "outputs": [],
   "source": [
    "patches_selected = [313]\n",
    "suptitle = f\"CCD visit in tract {tract_selected} and patches {patches_selected[0]}\""
   ]
  },
  {
   "cell_type": "code",
   "execution_count": 42,
   "id": "a49acc0e-6d3f-4b69-ad10-05436cfda5e6",
   "metadata": {
    "execution": {
     "iopub.execute_input": "2024-01-01T21:39:04.334558Z",
     "iopub.status.busy": "2024-01-01T21:39:04.334433Z",
     "iopub.status.idle": "2024-01-01T21:39:04.343066Z",
     "shell.execute_reply": "2024-01-01T21:39:04.342746Z",
     "shell.execute_reply.started": "2024-01-01T21:39:04.334546Z"
    }
   },
   "outputs": [],
   "source": [
    "all_patches = []\n",
    "for patch in tractInfo:\n",
    "    patchID = patch.getSequentialIndex()\n",
    "    if patchID in patches_selected:\n",
    "        all_patches.append(patch)  "
   ]
  },
  {
   "cell_type": "code",
   "execution_count": 43,
   "id": "4c09f251-2853-46ce-9566-6d10dc10e552",
   "metadata": {
    "execution": {
     "iopub.execute_input": "2024-01-01T21:39:04.343663Z",
     "iopub.status.busy": "2024-01-01T21:39:04.343515Z",
     "iopub.status.idle": "2024-01-01T21:39:04.387943Z",
     "shell.execute_reply": "2024-01-01T21:39:04.387580Z",
     "shell.execute_reply.started": "2024-01-01T21:39:04.343651Z"
    }
   },
   "outputs": [
    {
     "name": "stderr",
     "output_type": "stream",
     "text": [
      "/tmp/ipykernel_10865/1768213705.py:4: SettingWithCopyWarning: \n",
      "A value is trying to be set on a copy of a slice from a DataFrame\n",
      "\n",
      "See the caveats in the documentation: https://pandas.pydata.org/pandas-docs/stable/user_guide/indexing.html#returning-a-view-versus-a-copy\n",
      "  ccd_visit_table_selected3.drop([\"selectFlag\"],axis=1,inplace=True)\n"
     ]
    }
   ],
   "source": [
    "ccd_visit_table3 = ccd_visit_table\n",
    "ccd_visit_table3[\"selectFlag\"] = ccd_visit_table3.apply(SelectVisits, axis=1, raw=False)\n",
    "ccd_visit_table_selected3 = ccd_visit_table3[ccd_visit_table3[\"selectFlag\"]]\n",
    "ccd_visit_table_selected3.drop([\"selectFlag\"],axis=1,inplace=True) \n",
    "df = ccd_visit_table_selected3"
   ]
  },
  {
   "cell_type": "code",
   "execution_count": 44,
   "id": "85003099-e823-4792-8714-421a3ac40794",
   "metadata": {
    "execution": {
     "iopub.execute_input": "2024-01-01T21:39:04.388623Z",
     "iopub.status.busy": "2024-01-01T21:39:04.388463Z",
     "iopub.status.idle": "2024-01-01T21:39:04.930222Z",
     "shell.execute_reply": "2024-01-01T21:39:04.929716Z",
     "shell.execute_reply.started": "2024-01-01T21:39:04.388609Z"
    }
   },
   "outputs": [
    {
     "data": {
      "image/png": "[encoded data removed]",
      "text/plain": [
       "<Figure size 1600x1000 with 3 Axes>"
      ]
     },
     "metadata": {},
     "output_type": "display_data"
    }
   ],
   "source": [
    "fig,(ax1,ax2,ax3) = plt.subplots(3,1,figsize=(16,10))\n",
    "\n",
    "df[df[\"band\"]==\"g\"].plot(x=\"Time\",y=\"zeroPoint\",marker='o',c=\"g\",lw=0.0,ax=ax1,grid=True,legend=False)\n",
    "df[df[\"band\"]==\"r\"].plot(x=\"Time\",y=\"zeroPoint\",marker='o',c=\"r\",lw=0.0,ax=ax1,grid=True,legend=False)\n",
    "df[df[\"band\"]==\"i\"].plot(x=\"Time\",y=\"zeroPoint\",marker='o',c=\"y\",lw=0.0,ax=ax1,grid=True,legend=False)\n",
    "ax1.set_title(\"zeroPoint\")\n",
    "\n",
    "df[df[\"band\"]==\"g\"].plot(x=\"Time\",y=\"zenithDistance\",marker='o',c=\"g\",lw=0.0,ax=ax2,grid=True,legend=False)\n",
    "df[df[\"band\"]==\"r\"].plot(x=\"Time\",y=\"zenithDistance\",marker='o',c=\"r\",lw=0.0,ax=ax2,grid=True,legend=False)\n",
    "df[df[\"band\"]==\"i\"].plot(x=\"Time\",y=\"zenithDistance\",marker='o',c=\"y\",lw=0.0,ax=ax2,grid=True,legend=False)\n",
    "ax2.set_title(\"zenithDistance\")\n",
    "\n",
    "df[df[\"band\"]==\"g\"].plot(x=\"Time\",y=\"psfSigma\",marker='o',c=\"g\",lw=0.0,ax=ax3,grid=True,legend=False)\n",
    "df[df[\"band\"]==\"r\"].plot(x=\"Time\",y=\"psfSigma\",marker='o',c=\"r\",lw=0.0,ax=ax3,grid=True,legend=False)\n",
    "df[df[\"band\"]==\"i\"].plot(x=\"Time\",y=\"psfSigma\",marker='o',c=\"y\",lw=0.0,ax=ax3,grid=True,legend=False)\n",
    "ax3.set_title(\"psfSigma\")\n",
    "\n",
    "#df.plot(x=\"Time\",y=\"coord_dec\",marker='o',c=\"g\",lw=0.0,ax=ax2,grid=True)\n",
    "plt.suptitle(suptitle,y=1.0,fontsize=16)\n",
    "plt.tight_layout()"
   ]
  }
 ],
 "metadata": {
  "kernelspec": {
   "display_name": "LSST",
   "language": "python",
   "name": "lsst"
  },
  "language_info": {
   "codemirror_mode": {
    "name": "ipython",
    "version": 3
   },
   "file_extension": ".py",
   "mimetype": "text/x-python",
   "name": "python",
   "nbconvert_exporter": "python",
   "pygments_lexer": "ipython3",
   "version": "3.11.4"
  }
 },
 "nbformat": 4,
 "nbformat_minor": 5
}
