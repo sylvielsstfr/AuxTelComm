{
 "cells": [
  {
   "cell_type": "markdown",
   "id": "0b8c2138-5194-4d03-8b77-be24e2cc8ee3",
   "metadata": {},
   "source": [
    "# Extract CCD VisitTables  in  OGA\n",
    "\n",
    "\n",
    "and Save Extracted Visits into a pandas dataframe file"
   ]
  },
  {
   "cell_type": "markdown",
   "id": "740e34fb-3fef-45a8-941b-c229742ab016",
   "metadata": {},
   "source": [
    " work with Weakly_2024_07\n",
    "- use jupyter kernel LSST\n",
    "- author : Sylvie Dagoret-Campagne\n",
    "- affiliation : IJCLab\n",
    "- creation date : 2024/01/01\n",
    "- update : 2024/02/24\n"
   ]
  },
  {
   "cell_type": "code",
   "execution_count": null,
   "id": "ed2c3410-fe83-432e-ab87-9f4513fa8d8b",
   "metadata": {},
   "outputs": [],
   "source": [
    "! eups list -s | grep LOCAL"
   ]
  },
  {
   "cell_type": "code",
   "execution_count": null,
   "id": "70918d81-0cf6-4b0a-8f61-f5e5bec5b0e7",
   "metadata": {},
   "outputs": [],
   "source": [
    "! eups list -s lsst_distrib"
   ]
  },
  {
   "cell_type": "code",
   "execution_count": null,
   "id": "f8d9cfca-5881-48c1-b2cb-0f794a2e4091",
   "metadata": {
    "tags": []
   },
   "outputs": [],
   "source": [
    "import lsst.daf.butler as dafButler\n",
    "#import lsst.summit.utils.butlerUtils as butlerUtils"
   ]
  },
  {
   "cell_type": "code",
   "execution_count": null,
   "id": "1ceacda9-20b0-4d77-a0d2-572c957ce273",
   "metadata": {
    "tags": []
   },
   "outputs": [],
   "source": [
    "import numpy as np\n",
    "import matplotlib.pyplot as plt\n",
    "%matplotlib inline\n",
    "from mpl_toolkits.axes_grid1 import make_axes_locatable\n",
    "from matplotlib.colors import LogNorm,SymLogNorm\n",
    "\n",
    "\n",
    "import matplotlib.ticker                         # here's where the formatter is\n",
    "from matplotlib.ticker import (MultipleLocator, FormatStrFormatter,\n",
    "                               AutoMinorLocator)\n",
    "\n",
    "from astropy.visualization import (MinMaxInterval, SqrtStretch,ZScaleInterval,PercentileInterval,\n",
    "                                   ImageNormalize,imshow_norm)\n",
    "from astropy.visualization.stretch import SinhStretch, LinearStretch,AsinhStretch,LogStretch\n",
    "\n",
    "from astropy.io import fits\n",
    "\n",
    "import pandas as pd\n",
    "\n",
    "import matplotlib.ticker                         # here's where the formatter is\n",
    "import os\n",
    "import re\n",
    "import pandas as pd\n",
    "import pickle\n",
    "\n",
    "plt.rcParams[\"figure.figsize\"] = (4,3)\n",
    "plt.rcParams[\"axes.labelsize\"] = 'xx-large'\n",
    "plt.rcParams['axes.titlesize'] = 'xx-large'\n",
    "plt.rcParams['xtick.labelsize']= 'xx-large'\n",
    "plt.rcParams['ytick.labelsize']= 'xx-large'"
   ]
  },
  {
   "cell_type": "code",
   "execution_count": null,
   "id": "34c92544-f2fd-4287-b852-e2ccb9a3b510",
   "metadata": {
    "tags": []
   },
   "outputs": [],
   "source": [
    "from matplotlib.ticker import (MultipleLocator, FormatStrFormatter,\n",
    "                               AutoMinorLocator)\n",
    "\n",
    "from astropy.visualization import (MinMaxInterval, SqrtStretch,ZScaleInterval,PercentileInterval,\n",
    "                                   ImageNormalize,imshow_norm)\n",
    "from astropy.visualization.stretch import SinhStretch, LinearStretch,AsinhStretch,LogStretch\n",
    "\n",
    "from astropy.time import Time\n"
   ]
  },
  {
   "cell_type": "code",
   "execution_count": null,
   "id": "77aa5733-0a46-49eb-b26e-d3bb6195cc3d",
   "metadata": {
    "tags": []
   },
   "outputs": [],
   "source": [
    "# LSST Display\n",
    "import lsst.afw.display as afwDisplay\n",
    "afwDisplay.setDefaultBackend('matplotlib')"
   ]
  },
  {
   "cell_type": "code",
   "execution_count": null,
   "id": "b7cea198-6f3c-4a87-8877-fdf8e4d73c26",
   "metadata": {
    "tags": []
   },
   "outputs": [],
   "source": [
    "transform = AsinhStretch() + PercentileInterval(99.)"
   ]
  },
  {
   "cell_type": "code",
   "execution_count": null,
   "id": "c8b31810-780c-43f2-92a1-af05fddd65e1",
   "metadata": {},
   "outputs": [],
   "source": [
    "pd.options.display.max_columns = None\n",
    "#pd.options.display.max_rows = None\n",
    "\n"
   ]
  },
  {
   "cell_type": "markdown",
   "id": "17f98db2-2ea8-4546-87a9-f2cd11d67ec7",
   "metadata": {},
   "source": [
    "## Configuration"
   ]
  },
  {
   "cell_type": "code",
   "execution_count": null,
   "id": "f6c1ac18-5e47-4ae9-93ec-32f4337aa520",
   "metadata": {},
   "outputs": [],
   "source": [
    "#filevisit_out=\"ccdVisitTable_202312.csv\"\n",
    "filevisit_out=\"ccdVisitTable_202402.csv\"\n",
    "#filetractpatch_out = 'Latiss_tractspatchs_202312.pickle'"
   ]
  },
  {
   "cell_type": "code",
   "execution_count": null,
   "id": "1c81d99a-5e91-4ba1-ba4a-c66b37905b98",
   "metadata": {
    "tags": []
   },
   "outputs": [],
   "source": [
    "#repo =  \"/sdf/group/rubin/repo/main\"\n",
    "repo = \"/sdf/group/rubin/repo/oga/\"\n",
    "butler = dafButler.Butler(repo)\n",
    "registry = butler.registry"
   ]
  },
  {
   "cell_type": "code",
   "execution_count": null,
   "id": "e9f828a7-8319-499e-a6b9-01dedc59e06c",
   "metadata": {},
   "outputs": [],
   "source": [
    "def get_corners_radec(wcs, bbox):\n",
    "    \"\"\"\n",
    "    Return the corners in RA,Dec in degrees given the WCS and bounding box for an image.\n",
    "\n",
    "    Parameters\n",
    "    ----------\n",
    "    wcs: image WCS returned by the Butler\n",
    "    bbox: bounding box returned by the Butler\n",
    "\n",
    "    Returns\n",
    "    -------\n",
    "    corners_ra, corners_dec in decimal degrees\n",
    "    \"\"\"\n",
    "\n",
    "    corners_x = [bbox.beginX, bbox.beginX, bbox.endX, bbox.endX]\n",
    "    corners_y = [bbox.beginY, bbox.endY, bbox.endY, bbox.beginY]\n",
    "    corners_ra = []\n",
    "    corners_dec = []\n",
    "    for i in range(4):\n",
    "        radec = wcs.pixelToSky(corners_x[i], corners_y[i])\n",
    "        corners_ra.append(radec.getRa().asDegrees())\n",
    "        corners_dec.append(radec.getDec().asDegrees())\n",
    "    \n",
    "    return corners_ra, corners_dec"
   ]
  },
  {
   "cell_type": "code",
   "execution_count": null,
   "id": "150e04f6-e800-4086-9671-686e12349fc9",
   "metadata": {},
   "outputs": [],
   "source": [
    "def get_bbox_radec(wcs, bbox):\n",
    "    \"\"\"\n",
    "    Return the corners in RA,Dec in degrees given the WCS and bounding box for an image.\n",
    "\n",
    "    Parameters\n",
    "    ----------\n",
    "    wcs: image WCS returned by the Butler\n",
    "    bbox: bounding box returned by the Butler\n",
    "\n",
    "    Returns\n",
    "    -------\n",
    "    ramin,ramax,decmin,decmax in decimal degrees\n",
    "    \"\"\"\n",
    "\n",
    "    xmin = bbox.beginX\n",
    "    xmax = bbox.endX\n",
    "    ymin = bbox.beginY\n",
    "    ymax = bbox.endY\n",
    "    \n",
    "    radec_ll = wcs.pixelToSky(xmin, ymin)\n",
    "    radec_ur = wcs.pixelToSky(xmax, ymax)\n",
    "        \n",
    "    return radec_ur.getRa().asDegrees(),radec_ll.getRa().asDegrees(), radec_ll.getDec().asDegrees(),radec_ur.getDec().asDegrees() "
   ]
  },
  {
   "cell_type": "code",
   "execution_count": null,
   "id": "ffb574d5-b268-4c55-ba63-8883723cf729",
   "metadata": {},
   "outputs": [],
   "source": [
    "def isradec_inbbox_radec(ra,dec,wcs, bbox):\n",
    "    \"\"\"\n",
    "    Return the corners in RA,Dec in degrees given the WCS and bounding box for an image.\n",
    "\n",
    "    Parameters\n",
    "    ----------\n",
    "    ra: ra in degree\n",
    "    dec: dec in degree\n",
    "    wcs: image WCS returned by the Butler\n",
    "    bbox: bounding box returned by the Butler\n",
    "\n",
    "    Returns\n",
    "    -------\n",
    "    Bool\n",
    "    \n",
    "    \"\"\"\n",
    "\n",
    "    RAMIN,RAMAX,DECMIN,DECMAX = get_bbox_radec(wcs, bbox)\n",
    "\n",
    "    assert RAMIN < RAMAX\n",
    "    assert DECMIN < DECMAX\n",
    "\n",
    "    flag = (ra >= RAMIN) and (ra<=RAMAX) and (dec>= DECMIN) and (dec <= DECMAX) \n",
    "    return flag"
   ]
  },
  {
   "cell_type": "code",
   "execution_count": null,
   "id": "76b0e7fc-7d84-4b76-8c17-8e9bec32554f",
   "metadata": {},
   "outputs": [],
   "source": [
    "def FindTractAndPatch(row):\n",
    "    \"\"\"\n",
    "    Apply this function on ccdvisitTable dataframe to find the tract and patch for each visit\n",
    "    \"\"\"\n",
    "    tractsId_list = list(tracts_patchs_dict.keys())   \n",
    "    try:\n",
    "        ra = row[\"ra\"]\n",
    "        dec = row[\"dec\"]\n",
    "        selectFlag = False\n",
    "        # loop on tract\n",
    "        for tractID in tractsId_list:\n",
    "            wcs = tractsInfoWCS_dict[tractID]\n",
    "            tractInfo = tractsInfo_dict[tractID] \n",
    "            patches_selected = list(tracts_patchs_dict[tractID])\n",
    "            # loop on patches\n",
    "            for patch in tractInfo:\n",
    "                patchID = patch.getSequentialIndex()\n",
    "                if patchID in patches_selected:\n",
    "                    ibb=patch.getInnerBBox()\n",
    "                    flag = isradec_inbbox_radec(ra,dec,wcs, ibb)\n",
    "                    selectFlag =  selectFlag or flag\n",
    "                    if selectFlag:\n",
    "                        return pd.Series([tractID,patchID])\n",
    "        return pd.Series([0,0])           \n",
    "                \n",
    "    except Exception as inst:\n",
    "        print(type(inst))    # the exception type\n",
    "        print(inst.args)     # arguments stored in .args\n",
    "        print(inst)          # __str__ allows args to be printed directly,\n",
    "        return pd.Series([0,0])  \n",
    "        "
   ]
  },
  {
   "cell_type": "markdown",
   "id": "20dbb8da-3a08-4b4f-9437-4bf7f28c1782",
   "metadata": {},
   "source": [
    "## Give the collection"
   ]
  },
  {
   "cell_type": "code",
   "execution_count": null,
   "id": "9629ea29-8ab4-4062-aed1-e16d62dc90c4",
   "metadata": {
    "tags": []
   },
   "outputs": [],
   "source": [
    "#my_collection = \"LATISS/runs/AUXTEL_DRP_IMAGING_2023-11A-10A-09AB-08ABC-07AB-05AB/w_2023_46/PREOPS-4553\"\n",
    "my_collection = \"LATISS/runs/AUXTEL_DRP_IMAGING_20230509_20240201/w_2024_05/PREOPS-4871\""
   ]
  },
  {
   "cell_type": "code",
   "execution_count": null,
   "id": "e0741000-7c9c-4882-a491-c429fda98cfd",
   "metadata": {},
   "outputs": [],
   "source": [
    "skymap_auxtel ='latiss_v1'\n",
    "skymap = butler.get('skyMap', skymap=skymap_auxtel, collections=my_collection)"
   ]
  },
  {
   "cell_type": "markdown",
   "id": "a7587b10-c178-4537-9c34-60867b69fa01",
   "metadata": {},
   "source": [
    "## Config"
   ]
  },
  {
   "cell_type": "code",
   "execution_count": null,
   "id": "2e1cdf2d-be43-4747-bd21-c178e3b9983b",
   "metadata": {},
   "outputs": [],
   "source": [
    "#Auxtel2023_tracts = [ 5616,5634,5615,10644,383,8188,3863,455,452,5839,10643,382]"
   ]
  },
  {
   "cell_type": "code",
   "execution_count": null,
   "id": "5007928e-86d1-4ba6-a330-1ec974a2fd0f",
   "metadata": {},
   "outputs": [],
   "source": [
    "Auxtel2023_tracts = [382,383,452,455,\n",
    "                     3863,3864,\n",
    "                     5614,5615,5616,5634,5839,\n",
    "                     #8188,\n",
    "                     10643,10644]"
   ]
  },
  {
   "cell_type": "code",
   "execution_count": null,
   "id": "34753b23-850b-407a-9b62-d6873b7afbb0",
   "metadata": {},
   "outputs": [],
   "source": [
    "with open('../data/202402/Latiss_tractspatchs_202402.pickle', 'rb') as handle:\n",
    "    tracts_patchs_dict = pickle.load(handle)"
   ]
  },
  {
   "cell_type": "code",
   "execution_count": null,
   "id": "3c4474c4-f898-4557-97ee-b7d0ddf35d14",
   "metadata": {},
   "outputs": [],
   "source": [
    "tracts_patchs_dict"
   ]
  },
  {
   "cell_type": "code",
   "execution_count": null,
   "id": "a0e46a92-2205-40ec-80ec-a8aef43dc267",
   "metadata": {},
   "outputs": [],
   "source": [
    "#tract_selected = 5615\n",
    "#patches_selected = [294,313]\n",
    "#suptitle = f\"CCD visit in tract {tract_selected} and patches {patches_selected[0]} and {patches_selected[1]}\""
   ]
  },
  {
   "cell_type": "markdown",
   "id": "bd6be2f5-4ad5-4a7a-9b70-03ee25079e79",
   "metadata": {},
   "source": [
    "### Find tract"
   ]
  },
  {
   "cell_type": "code",
   "execution_count": null,
   "id": "239848e5-5519-4ee6-a2b4-52bbb5ce72f9",
   "metadata": {},
   "outputs": [],
   "source": [
    "#for tractInfo in skymap:\n",
    "#    tractID = tractInfo.getId()\n",
    "#    if tractID == tract_selected:\n",
    "#        break"
   ]
  },
  {
   "cell_type": "code",
   "execution_count": null,
   "id": "9f5a034c-fb7f-41a1-83b8-a1c38ff4e2cd",
   "metadata": {},
   "outputs": [],
   "source": [
    "#tractInfo"
   ]
  },
  {
   "cell_type": "code",
   "execution_count": null,
   "id": "8f863bce-e11a-492e-a0dd-b7a38a429c58",
   "metadata": {},
   "outputs": [],
   "source": [
    "# WCS for this patch\n",
    "#tWCS=tractInfo.getWcs()"
   ]
  },
  {
   "cell_type": "markdown",
   "id": "f0e60698-c941-4b9c-8bde-e2afb71d50dd",
   "metadata": {},
   "source": [
    "### Find Tract"
   ]
  },
  {
   "cell_type": "code",
   "execution_count": null,
   "id": "1e6aa63b-a31e-409e-854f-7eb2c4d53bef",
   "metadata": {},
   "outputs": [],
   "source": [
    "tractsInfo_dict = {}\n",
    "tractsInfoWCS_dict = {}\n",
    "tractsId_list = list(tracts_patchs_dict.keys())\n",
    "\n",
    "# loop to select the good tracts\n",
    "for tractInfo in skymap:\n",
    "    tractID = tractInfo.getId()\n",
    "    # is this tract in Auxtel tract list\n",
    "    if tractID in tractsId_list:\n",
    "        # keep tractInfo\n",
    "        tractsInfo_dict[tractID] = tractInfo \n",
    "        # keep WCS\n",
    "        tractsInfoWCS_dict[tractID] = tractInfo.getWcs()"
   ]
  },
  {
   "cell_type": "markdown",
   "id": "90d3da4c-3090-416e-8bcc-1063c9a87905",
   "metadata": {},
   "source": [
    "### Find patches"
   ]
  },
  {
   "cell_type": "code",
   "execution_count": null,
   "id": "177ecce6-b5f2-4c51-8262-28517ea810e6",
   "metadata": {},
   "outputs": [],
   "source": [
    "#all_patches = []\n",
    "#for patch in tractInfo:\n",
    "#    patchID = patch.getSequentialIndex()\n",
    "#    if patchID in patches_selected:\n",
    "#        all_patches.append(patch)        "
   ]
  },
  {
   "cell_type": "code",
   "execution_count": null,
   "id": "62358289-92ab-4e6f-ad6a-ed21800cb083",
   "metadata": {},
   "outputs": [],
   "source": [
    "#all_patches"
   ]
  },
  {
   "cell_type": "code",
   "execution_count": null,
   "id": "72a33ee6-73c0-4939-8a9d-02701dd76a12",
   "metadata": {},
   "outputs": [],
   "source": [
    "#for patch in all_patches:\n",
    "#    patchID = patch.getSequentialIndex()\n",
    "#    ibb=patch.getInnerBBox()\n",
    "#    print(\"patch \",patchID,\"ibb=\",ibb)\n",
    "#    RAMIN,RAMAX,DECMIN,DECMAX = get_bbox_radec(tWCS, ibb)"
   ]
  },
  {
   "cell_type": "markdown",
   "id": "a72c2c07-ff40-49d9-a36d-5277cbbc5cec",
   "metadata": {},
   "source": [
    "# Sources"
   ]
  },
  {
   "cell_type": "code",
   "execution_count": null,
   "id": "c2bca87f-8b3a-44ee-afa5-5b8e0b8f9b9d",
   "metadata": {
    "tags": []
   },
   "outputs": [],
   "source": [
    "datasetRefs = butler.registry.queryDatasets(datasetType='ccdVisitTable', collections=my_collection, where= \"instrument='LATISS'\")"
   ]
  },
  {
   "cell_type": "code",
   "execution_count": null,
   "id": "a01bb1b1-a2fe-4060-85ff-fb9e9c5dbb74",
   "metadata": {
    "tags": []
   },
   "outputs": [],
   "source": [
    "for i, ref in enumerate(datasetRefs):\n",
    "   \n",
    "    print(\"========================datasetType = ccdVisitTable ============================================\")\n",
    "    print(\"fullId..................:\",ref.dataId.full)\n",
    "    "
   ]
  },
  {
   "cell_type": "code",
   "execution_count": null,
   "id": "8ea5496c-40b0-46cb-b298-b018d762014a",
   "metadata": {},
   "outputs": [],
   "source": [
    "visit_table = butler.get('visitTable', dataId={'instrument': 'LATISS', 'detector': 0}, collections = my_collection )    \n",
    "visit_table"
   ]
  },
  {
   "cell_type": "code",
   "execution_count": null,
   "id": "3fe7bcf7-0403-4b9e-a79e-8b66ff94d1c3",
   "metadata": {},
   "outputs": [],
   "source": [
    "ccd_visit_table = butler.get('ccdVisitTable', dataId={'instrument': 'LATISS', 'detector': 0}, collections = my_collection )    \n",
    "ccd_visit_table"
   ]
  },
  {
   "cell_type": "markdown",
   "id": "224511b9-8eb8-4e80-9b71-5f8c45350995",
   "metadata": {},
   "source": [
    "### Compute night obs"
   ]
  },
  {
   "cell_type": "code",
   "execution_count": null,
   "id": "5f43861a-edef-4f65-8fdd-1fbe6490de6e",
   "metadata": {},
   "outputs": [],
   "source": [
    "ccd_visit_table[\"nightObs\"] =ccd_visit_table.apply(lambda x: x['visitId']//100_000, axis=1)"
   ]
  },
  {
   "cell_type": "markdown",
   "id": "704c1020-b445-488d-ac43-a51b46662a3e",
   "metadata": {},
   "source": [
    "### Compute datetime to plot vs time"
   ]
  },
  {
   "cell_type": "code",
   "execution_count": null,
   "id": "05c444f4-a8af-49cd-90d8-48292f9c6dd6",
   "metadata": {},
   "outputs": [],
   "source": [
    "ccd_visit_table[\"Time\"] = pd.to_datetime(ccd_visit_table['obsStart'])"
   ]
  },
  {
   "cell_type": "markdown",
   "id": "6a8a093f-a39c-4f51-b2b6-684f9d8a5845",
   "metadata": {},
   "source": [
    "#### Compute airmass"
   ]
  },
  {
   "cell_type": "code",
   "execution_count": null,
   "id": "dba15b25-d2d6-4158-876a-9fc045657ca7",
   "metadata": {},
   "outputs": [],
   "source": [
    "ccd_visit_table[\"airmass\"] = ccd_visit_table[\"zenithDistance\"].apply(lambda x: 1/np.cos(np.pi/180.*x))"
   ]
  },
  {
   "cell_type": "markdown",
   "id": "d160ee01-baff-45c3-8f0a-2b4338fe7bb2",
   "metadata": {},
   "source": [
    "### Find those visits in the selected tract and patches"
   ]
  },
  {
   "cell_type": "code",
   "execution_count": null,
   "id": "bd8d9613-ab94-439c-95be-1d542319e945",
   "metadata": {},
   "outputs": [],
   "source": [
    "ccd_visit_table[[\"tractID\",\"patchID\"]] = ccd_visit_table.apply( FindTractAndPatch, axis=1,result_type ='expand')"
   ]
  },
  {
   "cell_type": "code",
   "execution_count": null,
   "id": "8264a43c-2506-41a2-85ef-17e11c96ac6a",
   "metadata": {},
   "outputs": [],
   "source": [
    "ccd_visit_table.head()"
   ]
  },
  {
   "cell_type": "code",
   "execution_count": null,
   "id": "f6a0faa2-60c5-4e03-9680-a0e1eccce099",
   "metadata": {},
   "outputs": [],
   "source": [
    "ccd_visit_table.tail()"
   ]
  },
  {
   "cell_type": "markdown",
   "id": "426e08cd-2219-4400-9d3d-1f2a064ce665",
   "metadata": {},
   "source": [
    "## Find those visits in the selected tract and patches"
   ]
  },
  {
   "cell_type": "markdown",
   "id": "c417f707-14a1-40b5-bb3f-f362d06cab80",
   "metadata": {},
   "source": [
    "### Patch 294 and 313"
   ]
  },
  {
   "cell_type": "code",
   "execution_count": null,
   "id": "d7db10c8-2451-453c-8658-8800149790a9",
   "metadata": {},
   "outputs": [],
   "source": [
    "tract_selected = 5615\n",
    "patch_selected = 294\n",
    "#patch_selected = 313\n",
    "suptitle = f\"CCD visit in tract {tract_selected} and patch {patch_selected}\""
   ]
  },
  {
   "cell_type": "code",
   "execution_count": null,
   "id": "42b1477d-0fe2-439f-8322-b0fe5ea5c7dc",
   "metadata": {},
   "outputs": [],
   "source": [
    "ccd_visit_table1 = ccd_visit_table\n",
    "ccd_visit_table1[\"selectedFlag\"] = ccd_visit_table1[[\"tractID\",\"patchID\"]].apply(lambda x: x[0] == tract_selected and x[1] == patch_selected,axis =1, raw= True )"
   ]
  },
  {
   "cell_type": "code",
   "execution_count": null,
   "id": "838fe146-dfd9-4aa8-9299-76e4e460cf29",
   "metadata": {},
   "outputs": [],
   "source": [
    "ccd_visit_table_selected1 = ccd_visit_table1[ccd_visit_table1[\"selectedFlag\"]]"
   ]
  },
  {
   "cell_type": "code",
   "execution_count": null,
   "id": "8c7bd045-efae-47f7-90f3-678ed7c6a258",
   "metadata": {},
   "outputs": [],
   "source": [
    "ccd_visit_table_selected1.drop([\"selectedFlag\"],axis=1,inplace=True) "
   ]
  },
  {
   "cell_type": "code",
   "execution_count": null,
   "id": "554312a5-5184-4ebe-8ad9-0a6b80e16b1d",
   "metadata": {},
   "outputs": [],
   "source": [
    "ccd_visit_table_selected1.columns"
   ]
  },
  {
   "cell_type": "code",
   "execution_count": null,
   "id": "35a22d48-9f0d-41ca-8417-6a11cafde159",
   "metadata": {},
   "outputs": [],
   "source": [
    "df = ccd_visit_table_selected1"
   ]
  },
  {
   "cell_type": "code",
   "execution_count": null,
   "id": "f8e17498-94e2-419a-b8ff-3e5a53bbaf52",
   "metadata": {},
   "outputs": [],
   "source": [
    "fig,(ax1,ax2,ax3) = plt.subplots(3,1,figsize=(16,10))\n",
    "\n",
    "df[df[\"band\"]==\"g\"].plot(x=\"Time\",y=\"zeroPoint\",marker='o',c=\"g\",lw=0.0,ax=ax1,grid=True,legend=False)\n",
    "df[df[\"band\"]==\"r\"].plot(x=\"Time\",y=\"zeroPoint\",marker='o',c=\"r\",lw=0.0,ax=ax1,grid=True,legend=False)\n",
    "df[df[\"band\"]==\"i\"].plot(x=\"Time\",y=\"zeroPoint\",marker='o',c=\"y\",lw=0.0,ax=ax1,grid=True,legend=False)\n",
    "ax1.set_title(\"zeroPoint\")\n",
    "\n",
    "\n",
    "df[df[\"band\"]==\"g\"].plot(x=\"Time\",y=\"zenithDistance\",marker='o',c=\"g\",lw=0.0,ax=ax2,grid=True,legend=False)\n",
    "df[df[\"band\"]==\"r\"].plot(x=\"Time\",y=\"zenithDistance\",marker='o',c=\"r\",lw=0.0,ax=ax2,grid=True,legend=False)\n",
    "df[df[\"band\"]==\"i\"].plot(x=\"Time\",y=\"zenithDistance\",marker='o',c=\"y\",lw=0.0,ax=ax2,grid=True,legend=False)\n",
    "ax2.set_title(\"zenithDistance\")\n",
    "\n",
    "df[df[\"band\"]==\"g\"].plot(x=\"Time\",y=\"airmass\",marker='o',c=\"g\",lw=0.0,ax=ax3,grid=True,legend=False)\n",
    "df[df[\"band\"]==\"r\"].plot(x=\"Time\",y=\"airmass\",marker='o',c=\"r\",lw=0.0,ax=ax3,grid=True,legend=False)\n",
    "df[df[\"band\"]==\"i\"].plot(x=\"Time\",y=\"airmass\",marker='o',c=\"y\",lw=0.0,ax=ax3,grid=True,legend=False)\n",
    "ax3.set_title(\"airmass\")\n",
    "\n",
    "#df.plot(x=\"Time\",y=\"coord_dec\",marker='o',c=\"g\",lw=0.0,ax=ax2,grid=True)\n",
    "plt.suptitle(suptitle,y=1.0,fontsize=16)\n",
    "plt.tight_layout()"
   ]
  },
  {
   "cell_type": "markdown",
   "id": "67a47186-9cd3-4fcb-98da-7692dbd9d463",
   "metadata": {},
   "source": [
    "## Plot number of visit per day"
   ]
  },
  {
   "cell_type": "markdown",
   "id": "eb02c2a2-b738-4a3c-b9c3-e4b11daffdf4",
   "metadata": {
    "execution": {
     "iopub.execute_input": "2024-01-02T10:21:27.939035Z",
     "iopub.status.busy": "2024-01-02T10:21:27.938718Z",
     "iopub.status.idle": "2024-01-02T10:21:27.941179Z",
     "shell.execute_reply": "2024-01-02T10:21:27.940809Z",
     "shell.execute_reply.started": "2024-01-02T10:21:27.939020Z"
    }
   },
   "source": [
    "### Plot number of visit per day for patch 294"
   ]
  },
  {
   "cell_type": "code",
   "execution_count": null,
   "id": "a64907fe-cd28-4ae1-b8e1-c6422a38825b",
   "metadata": {},
   "outputs": [],
   "source": [
    "ccd_visit_table1[\"dayobsMJD\"]=ccd_visit_table1[\"obsStartMJD\"].apply(np.int64)"
   ]
  },
  {
   "cell_type": "code",
   "execution_count": null,
   "id": "e9156195-dfb0-4a50-8aad-b29c8a6cd2d9",
   "metadata": {},
   "outputs": [],
   "source": [
    "ccd_visit_table1.sort_values(by=['nightObs',\"obsStartMJD\"])"
   ]
  },
  {
   "cell_type": "code",
   "execution_count": null,
   "id": "0dc3e02b-a61a-47b2-8731-3129501e2e83",
   "metadata": {},
   "outputs": [],
   "source": [
    "#ccd_visit_table1.sort_values(by=['dayobsMJD']).count()\n",
    "ccd_visit_table_counts = ccd_visit_table1.groupby(['nightObs','band']).count()[\"visitId\"]"
   ]
  },
  {
   "cell_type": "code",
   "execution_count": null,
   "id": "4960d623-24c2-48de-b01c-fcb6672d0655",
   "metadata": {},
   "outputs": [],
   "source": [
    "type(ccd_visit_table_counts)"
   ]
  },
  {
   "cell_type": "code",
   "execution_count": null,
   "id": "b86d723a-1116-4f3e-bbc7-f2dfca7a557b",
   "metadata": {},
   "outputs": [],
   "source": [
    "ccd_visit_table_counts.name='counts'\n",
    "ccd_visit_table_counts"
   ]
  },
  {
   "cell_type": "code",
   "execution_count": null,
   "id": "40d60677-9fcb-4677-a1ba-10691e09a8d7",
   "metadata": {},
   "outputs": [],
   "source": [
    "import matplotlib.ticker\n",
    "fig,ax = plt.subplots(1,1,figsize=(16,10))\n",
    "ccd_visit_table.plot.hist(column=[\"nightObs\"], by=\"band\", bins=200,grid=True,ax=ax,legend=False)\n",
    "\n",
    "\n",
    "# plot x axis as an int\n",
    "locator = matplotlib.ticker.MultipleLocator(2)\n",
    "\n",
    "plt.gca().xaxis.set_major_locator(locator)\n",
    "formatter = matplotlib.ticker.StrMethodFormatter(\"{x:.0f}\")\n",
    "plt.gca().xaxis.set_major_formatter(formatter)\n",
    "plt.gca().xaxis.set_major_locator(plt.MaxNLocator(20))\n",
    "plt.xticks(rotation=90)\n",
    "\n",
    "plt.suptitle(suptitle)\n",
    "plt.tight_layout()"
   ]
  },
  {
   "cell_type": "code",
   "execution_count": null,
   "id": "85da9046-7bb8-4c87-a18d-37c1f4c10fbf",
   "metadata": {},
   "outputs": [],
   "source": [
    "ccd_visit_table1.plot.hist(column=[\"nightObs\"], by=\"band\", bins=200,figsize=(10, 8),grid=True,label=False)\n",
    "plt.suptitle(suptitle)\n",
    "plt.tight_layout()\n"
   ]
  },
  {
   "cell_type": "code",
   "execution_count": null,
   "id": "52be9306-19dc-4bd8-8a1d-63ef82ad2bb4",
   "metadata": {},
   "outputs": [],
   "source": [
    "ccd_visit_table_counts1 = ccd_visit_table1.groupby(['nightObs','band']).count()[\"visitId\"]\n",
    "ccd_visit_table_counts1"
   ]
  },
  {
   "cell_type": "markdown",
   "id": "4694d52f-b86c-4895-b633-d78cfb9ef62b",
   "metadata": {},
   "source": [
    "#### Select one night and plot Zero point and Airmass"
   ]
  },
  {
   "cell_type": "code",
   "execution_count": null,
   "id": "8c4b93e8-eaa8-4706-819e-5f108bf6be08",
   "metadata": {},
   "outputs": [],
   "source": [
    "nightObs_selected = 20230803\n",
    "ccd_visit_table1_sel = ccd_visit_table1[ccd_visit_table1.nightObs == nightObs_selected]"
   ]
  },
  {
   "cell_type": "code",
   "execution_count": null,
   "id": "a8efcad1-6df1-4061-aba1-6e1e7cd249ef",
   "metadata": {},
   "outputs": [],
   "source": [
    "df = ccd_visit_table1_sel"
   ]
  },
  {
   "cell_type": "code",
   "execution_count": null,
   "id": "c88ea44b-81d2-4a8b-a411-11a85cc8256e",
   "metadata": {},
   "outputs": [],
   "source": [
    "fig,(ax1,ax2) = plt.subplots(2,1,figsize=(16,10))\n",
    "\n",
    "df[df[\"band\"]==\"g\"].plot(x=\"Time\",y=\"zeroPoint\",marker='o',c=\"g\",lw=0.0,ax=ax1,grid=True,legend=False)\n",
    "df[df[\"band\"]==\"r\"].plot(x=\"Time\",y=\"zeroPoint\",marker='o',c=\"r\",lw=0.0,ax=ax1,grid=True,legend=False)\n",
    "df[df[\"band\"]==\"i\"].plot(x=\"Time\",y=\"zeroPoint\",marker='o',c=\"y\",lw=0.0,ax=ax1,grid=True,legend=False)\n",
    "ax1.set_title(\"zeroPoint\")\n",
    "\n",
    "df[df[\"band\"]==\"g\"].plot(x=\"Time\",y=\"airmass\",marker='o',c=\"g\",lw=0.0,ax=ax2,grid=True,legend=False)\n",
    "df[df[\"band\"]==\"r\"].plot(x=\"Time\",y=\"airmass\",marker='o',c=\"r\",lw=0.0,ax=ax2,grid=True,legend=False)\n",
    "df[df[\"band\"]==\"i\"].plot(x=\"Time\",y=\"airmass\",marker='o',c=\"y\",lw=0.0,ax=ax2,grid=True,legend=False)\n",
    "ax2.set_title(\"airmass\")\n",
    "\n",
    "#df.plot(x=\"Time\",y=\"coord_dec\",marker='o',c=\"g\",lw=0.0,ax=ax2,grid=True)\n",
    "plt.suptitle(suptitle + f\" night {nightObs_selected}\",y=1.0,fontsize=16)\n",
    "plt.tight_layout()"
   ]
  },
  {
   "cell_type": "code",
   "execution_count": null,
   "id": "53c1d672-3e41-4b46-a55a-ce0a01618d37",
   "metadata": {},
   "outputs": [],
   "source": [
    "fig,ax = plt.subplots(1,1,figsize=(6,6))\n",
    "\n",
    "df[df[\"band\"]==\"g\"].plot.scatter(x=\"airmass\",y=\"zeroPoint\",marker='o',c=\"g\",lw=0.0,ax=ax,grid=True,legend=False)\n",
    "df[df[\"band\"]==\"r\"].plot(x=\"airmass\",y=\"zeroPoint\",marker='o',c=\"r\",lw=0.0,ax=ax,grid=True,legend=False)\n",
    "df[df[\"band\"]==\"i\"].plot(x=\"airmass\",y=\"zeroPoint\",marker='o',c=\"y\",lw=0.0,ax=ax,grid=True,legend=False)\n",
    "ax.set_title(\"zero point vs airmass\")\n",
    "\n",
    "#df.plot(x=\"Time\",y=\"coord_dec\",marker='o',c=\"g\",lw=0.0,ax=ax2,grid=True)\n",
    "plt.suptitle(suptitle + f\" night {nightObs_selected}\",y=1.0,fontsize=10)\n",
    "plt.tight_layout()"
   ]
  },
  {
   "cell_type": "markdown",
   "id": "ecc3d0a7-114d-4d5a-9d1a-b9cd8b900ebc",
   "metadata": {},
   "source": [
    "### Plot number of visit per day for patch 313"
   ]
  },
  {
   "cell_type": "code",
   "execution_count": null,
   "id": "e73d687c-c5f2-4929-b22b-95db3e152ff6",
   "metadata": {},
   "outputs": [],
   "source": [
    "tract_selected = 5615\n",
    "patch_selected = 313\n",
    "suptitle = f\"CCD visit in tract {tract_selected} and patch {patch_selected}\""
   ]
  },
  {
   "cell_type": "code",
   "execution_count": null,
   "id": "40e0fe13-9f73-4818-9fe9-7964c367f738",
   "metadata": {},
   "outputs": [],
   "source": [
    "ccd_visit_table2 = ccd_visit_table\n",
    "ccd_visit_table2[\"selectedFlag\"] = ccd_visit_table2[[\"tractID\",\"patchID\"]].apply(lambda x: x[0] == tract_selected and x[1] == patch_selected,axis =1, raw= True )\n"
   ]
  },
  {
   "cell_type": "code",
   "execution_count": null,
   "id": "eb0934d0-9d3d-4dd2-a00e-bf3a5fa183aa",
   "metadata": {},
   "outputs": [],
   "source": [
    "ccd_visit_table_selected2 = ccd_visit_table1[ccd_visit_table2[\"selectedFlag\"]]\n",
    "ccd_visit_table_selected2.drop([\"selectedFlag\"],axis=1,inplace=True) "
   ]
  },
  {
   "cell_type": "code",
   "execution_count": null,
   "id": "4b2a78f5-e221-4310-89ba-4b1bb5d4d05d",
   "metadata": {},
   "outputs": [],
   "source": [
    "#ccd_visit_table2[\"dayobsMJD\"]=ccd_visit_table2[\"obsStartMJD\"].apply(np.int64)\n",
    "#ccd_visit_table2['nightObs'] =ccd_visit_table2.apply(lambda x: x['visitId']//100_000, axis=1)"
   ]
  },
  {
   "cell_type": "code",
   "execution_count": null,
   "id": "a56a5596-3059-48d1-8d67-bd8d15c20255",
   "metadata": {},
   "outputs": [],
   "source": [
    "import matplotlib.ticker\n",
    "fig,ax = plt.subplots(1,1,figsize=(16,12))\n",
    "ccd_visit_table2.plot.hist(column=[\"nightObs\"], by=\"band\", bins=200,grid=True,ax=ax,legend=False)\n",
    "\n",
    "\n",
    "# plot x axis as an int\n",
    "locator = matplotlib.ticker.MultipleLocator(2)\n",
    "\n",
    "plt.gca().xaxis.set_major_locator(locator)\n",
    "formatter = matplotlib.ticker.StrMethodFormatter(\"{x:.0f}\")\n",
    "plt.gca().xaxis.set_major_formatter(formatter)\n",
    "plt.gca().xaxis.set_major_locator(plt.MaxNLocator(20))\n",
    "plt.xticks(rotation=90)\n",
    "\n",
    "plt.suptitle(suptitle)\n",
    "plt.tight_layout()"
   ]
  },
  {
   "cell_type": "markdown",
   "id": "52b36755-cd63-4ab6-a013-1da183a05da6",
   "metadata": {
    "execution": {
     "iopub.status.busy": "2024-01-07T19:13:17.839735Z",
     "iopub.status.idle": "2024-01-07T19:13:17.839888Z",
     "shell.execute_reply": "2024-01-07T19:13:17.839816Z",
     "shell.execute_reply.started": "2024-01-07T19:13:17.839809Z"
    }
   },
   "source": [
    "## Select one night"
   ]
  },
  {
   "cell_type": "code",
   "execution_count": null,
   "id": "19f85c2b-865c-4b27-a1d6-12931fe59726",
   "metadata": {},
   "outputs": [],
   "source": [
    "nightObs_selected = 20230803\n",
    "ccd_visit_table1_sel = ccd_visit_table1[ccd_visit_table1.nightObs == nightObs_selected]\n",
    "ccd_visit_table2_sel = ccd_visit_table2[ccd_visit_table2.nightObs == nightObs_selected]"
   ]
  },
  {
   "cell_type": "code",
   "execution_count": null,
   "id": "7813fc85-71c0-4d88-a603-0562d4a70bf4",
   "metadata": {},
   "outputs": [],
   "source": [
    "tract_selected = 5615\n",
    "patch_selected = 294\n",
    "#patch_selected = 313\n",
    "suptitle = f\"CCD visit in tract {tract_selected} and patch {patch_selected}\"\n",
    "df = ccd_visit_table1_sel"
   ]
  },
  {
   "cell_type": "code",
   "execution_count": null,
   "id": "9caa2c62-4970-46ab-bc13-670b81aee149",
   "metadata": {},
   "outputs": [],
   "source": [
    "fig,(ax1,ax2) = plt.subplots(2,1,figsize=(16,10))\n",
    "\n",
    "df[df[\"band\"]==\"g\"].plot(x=\"Time\",y=\"zeroPoint\",marker='o',c=\"g\",lw=0.0,ax=ax1,grid=True,legend=False)\n",
    "df[df[\"band\"]==\"r\"].plot(x=\"Time\",y=\"zeroPoint\",marker='o',c=\"r\",lw=0.0,ax=ax1,grid=True,legend=False)\n",
    "df[df[\"band\"]==\"i\"].plot(x=\"Time\",y=\"zeroPoint\",marker='o',c=\"y\",lw=0.0,ax=ax1,grid=True,legend=False)\n",
    "ax1.set_title(\"zeroPoint\")\n",
    "\n",
    "df[df[\"band\"]==\"g\"].plot(x=\"Time\",y=\"airmass\",marker='o',c=\"g\",lw=0.0,ax=ax2,grid=True,legend=False)\n",
    "df[df[\"band\"]==\"r\"].plot(x=\"Time\",y=\"airmass\",marker='o',c=\"r\",lw=0.0,ax=ax2,grid=True,legend=False)\n",
    "df[df[\"band\"]==\"i\"].plot(x=\"Time\",y=\"airmass\",marker='o',c=\"y\",lw=0.0,ax=ax2,grid=True,legend=False)\n",
    "ax2.set_title(\"airmass\")\n",
    "\n",
    "\n",
    "#df.plot(x=\"Time\",y=\"coord_dec\",marker='o',c=\"g\",lw=0.0,ax=ax2,grid=True)\n",
    "plt.suptitle(suptitle + f\" night {nightObs_selected}\",y=1.0,fontsize=16)\n",
    "plt.tight_layout()"
   ]
  },
  {
   "cell_type": "code",
   "execution_count": null,
   "id": "09bf66ae-c78c-4121-9b38-5fbe3e72afb4",
   "metadata": {},
   "outputs": [],
   "source": [
    "fig,ax = plt.subplots(1,1,figsize=(6,6))\n",
    "\n",
    "df[df[\"band\"]==\"g\"].plot.scatter(x=\"airmass\",y=\"zeroPoint\",marker='o',c=\"g\",lw=0.0,ax=ax,grid=True,legend=False)\n",
    "df[df[\"band\"]==\"r\"].plot(x=\"airmass\",y=\"zeroPoint\",marker='o',c=\"r\",lw=0.0,ax=ax,grid=True,legend=False)\n",
    "df[df[\"band\"]==\"i\"].plot(x=\"airmass\",y=\"zeroPoint\",marker='o',c=\"y\",lw=0.0,ax=ax,grid=True,legend=False)\n",
    "ax.set_title(\"zero point vs airmass\")\n",
    "\n",
    "#df.plot(x=\"Time\",y=\"coord_dec\",marker='o',c=\"g\",lw=0.0,ax=ax2,grid=True)\n",
    "plt.suptitle(suptitle + f\" night {nightObs_selected}\",y=1.0,fontsize=10)\n",
    "plt.tight_layout()"
   ]
  },
  {
   "cell_type": "code",
   "execution_count": null,
   "id": "81d05a0c-37ea-4141-b168-28393dd4dc3b",
   "metadata": {},
   "outputs": [],
   "source": [
    "tract_selected = 5615\n",
    "patch_selected = 313\n",
    "suptitle = f\"CCD visit in tract {tract_selected} and patch {patch_selected}\"\n",
    "df = ccd_visit_table2_sel"
   ]
  },
  {
   "cell_type": "code",
   "execution_count": null,
   "id": "75846ea6-ab8c-4014-aa2e-dec2393988a3",
   "metadata": {},
   "outputs": [],
   "source": [
    "fig,(ax1,ax2) = plt.subplots(2,1,figsize=(16,10))\n",
    "\n",
    "df[df[\"band\"]==\"g\"].plot(x=\"Time\",y=\"zeroPoint\",marker='o',c=\"g\",lw=0.0,ax=ax1,grid=True,legend=False)\n",
    "df[df[\"band\"]==\"r\"].plot(x=\"Time\",y=\"zeroPoint\",marker='o',c=\"r\",lw=0.0,ax=ax1,grid=True,legend=False)\n",
    "df[df[\"band\"]==\"i\"].plot(x=\"Time\",y=\"zeroPoint\",marker='o',c=\"y\",lw=0.0,ax=ax1,grid=True,legend=False)\n",
    "ax1.set_title(\"zeroPoint\")\n",
    "\n",
    "df[df[\"band\"]==\"g\"].plot(x=\"Time\",y=\"airmass\",marker='o',c=\"g\",lw=0.0,ax=ax2,grid=True,legend=False)\n",
    "df[df[\"band\"]==\"r\"].plot(x=\"Time\",y=\"airmass\",marker='o',c=\"r\",lw=0.0,ax=ax2,grid=True,legend=False)\n",
    "df[df[\"band\"]==\"i\"].plot(x=\"Time\",y=\"airmass\",marker='o',c=\"y\",lw=0.0,ax=ax2,grid=True,legend=False)\n",
    "ax2.set_title(\"airmass\")\n",
    "\n",
    "\n",
    "#df.plot(x=\"Time\",y=\"coord_dec\",marker='o',c=\"g\",lw=0.0,ax=ax2,grid=True)\n",
    "plt.suptitle(suptitle + f\" night {nightObs_selected}\",y=1.0,fontsize=16)\n",
    "plt.tight_layout()"
   ]
  },
  {
   "cell_type": "code",
   "execution_count": null,
   "id": "81b4acfd-073a-4dd9-b08d-ee858d633c9c",
   "metadata": {},
   "outputs": [],
   "source": [
    "fig,ax = plt.subplots(1,1,figsize=(6,6))\n",
    "\n",
    "df[df[\"band\"]==\"g\"].plot.scatter(x=\"airmass\",y=\"zeroPoint\",marker='o',c=\"g\",lw=0.0,ax=ax,grid=True,legend=False)\n",
    "df[df[\"band\"]==\"r\"].plot(x=\"airmass\",y=\"zeroPoint\",marker='o',c=\"r\",lw=0.0,ax=ax,grid=True,legend=False)\n",
    "df[df[\"band\"]==\"i\"].plot(x=\"airmass\",y=\"zeroPoint\",marker='o',c=\"y\",lw=0.0,ax=ax,grid=True,legend=False)\n",
    "ax.set_title(\"zero point vs airmass\")\n",
    "\n",
    "#df.plot(x=\"Time\",y=\"coord_dec\",marker='o',c=\"g\",lw=0.0,ax=ax2,grid=True)\n",
    "plt.suptitle(suptitle + f\" night {nightObs_selected}\",y=1.0,fontsize=10)\n",
    "plt.tight_layout()"
   ]
  },
  {
   "cell_type": "markdown",
   "id": "a0f9a74a-723d-4d73-a8ba-df264c6152d3",
   "metadata": {},
   "source": [
    "# save CCD Visit"
   ]
  },
  {
   "cell_type": "code",
   "execution_count": null,
   "id": "acc10559-43eb-447a-a692-f75aebe4c6dd",
   "metadata": {},
   "outputs": [],
   "source": [
    "ccd_visit_table"
   ]
  },
  {
   "cell_type": "code",
   "execution_count": null,
   "id": "39eb8ac7-6ee9-4140-8729-403c4023226b",
   "metadata": {},
   "outputs": [],
   "source": [
    "ccd_visit_table.to_csv(filevisit_out)"
   ]
  },
  {
   "cell_type": "code",
   "execution_count": null,
   "id": "888f298f-94c1-4eee-a8a7-bf2958fefa10",
   "metadata": {},
   "outputs": [],
   "source": []
  }
 ],
 "metadata": {
  "kernelspec": {
   "display_name": "LSST",
   "language": "python",
   "name": "lsst"
  },
  "language_info": {
   "codemirror_mode": {
    "name": "ipython",
    "version": 3
   },
   "file_extension": ".py",
   "mimetype": "text/x-python",
   "name": "python",
   "nbconvert_exporter": "python",
   "pygments_lexer": "ipython3",
   "version": "3.11.7"
  }
 },
 "nbformat": 4,
 "nbformat_minor": 5
}
