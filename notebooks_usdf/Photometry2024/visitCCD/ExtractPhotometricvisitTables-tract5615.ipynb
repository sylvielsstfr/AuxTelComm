{
 "cells": [
  {
   "cell_type": "markdown",
   "id": "0b8c2138-5194-4d03-8b77-be24e2cc8ee3",
   "metadata": {},
   "source": [
    "# Extract CCD VisitTables  in  OGA for tract 5615\n",
    "\n",
    "\n",
    "and Save Extracted Visits into a pandas dataframe file"
   ]
  },
  {
   "cell_type": "markdown",
   "id": "740e34fb-3fef-45a8-941b-c229742ab016",
   "metadata": {},
   "source": [
    " work with Weakly_2024_07\n",
    "- use jupyter kernel LSST\n",
    "- author : Sylvie Dagoret-Campagne\n",
    "- affiliation : IJCLab\n",
    "- creation date : 2024/01/01\n",
    "- update : 2024/02/24\n"
   ]
  },
  {
   "cell_type": "code",
   "execution_count": 1,
   "id": "ed2c3410-fe83-432e-ab87-9f4513fa8d8b",
   "metadata": {
    "execution": {
     "iopub.execute_input": "2024-03-05T10:25:59.971693Z",
     "iopub.status.busy": "2024-03-05T10:25:59.971567Z",
     "iopub.status.idle": "2024-03-05T10:26:00.328549Z",
     "shell.execute_reply": "2024-03-05T10:26:00.327997Z",
     "shell.execute_reply.started": "2024-03-05T10:25:59.971680Z"
    }
   },
   "outputs": [
    {
     "name": "stdout",
     "output_type": "stream",
     "text": [
      "analysis_tools        LOCAL:/home/d/dagoret/repos/repos_w_2024_07/analysis_tools \tsetup\n",
      "atmospec              LOCAL:/home/d/dagoret/repos/repos_w_2024_07/atmospec \tsetup\n",
      "eups                  LOCAL:/opt/lsst/software/stack/conda/miniconda3-py38_4.9.2/envs/lsst-scipipe-8.0.0/eups \tsetup\n",
      "spectractor           LOCAL:/home/d/dagoret/repos/repos_w_2024_07/Spectractor \tsetup\n"
     ]
    }
   ],
   "source": [
    "! eups list -s | grep LOCAL"
   ]
  },
  {
   "cell_type": "code",
   "execution_count": 2,
   "id": "70918d81-0cf6-4b0a-8f61-f5e5bec5b0e7",
   "metadata": {
    "execution": {
     "iopub.execute_input": "2024-03-05T10:26:00.329456Z",
     "iopub.status.busy": "2024-03-05T10:26:00.329299Z",
     "iopub.status.idle": "2024-03-05T10:26:00.669899Z",
     "shell.execute_reply": "2024-03-05T10:26:00.669383Z",
     "shell.execute_reply.started": "2024-03-05T10:26:00.329440Z"
    }
   },
   "outputs": [
    {
     "name": "stdout",
     "output_type": "stream",
     "text": [
      "   g4213664e8e+903d45c1e3 \tcurrent w_2024_08 setup\n"
     ]
    }
   ],
   "source": [
    "! eups list -s lsst_distrib"
   ]
  },
  {
   "cell_type": "code",
   "execution_count": 3,
   "id": "f8d9cfca-5881-48c1-b2cb-0f794a2e4091",
   "metadata": {
    "execution": {
     "iopub.execute_input": "2024-03-05T10:26:00.670789Z",
     "iopub.status.busy": "2024-03-05T10:26:00.670608Z",
     "iopub.status.idle": "2024-03-05T10:26:01.331560Z",
     "shell.execute_reply": "2024-03-05T10:26:01.331182Z",
     "shell.execute_reply.started": "2024-03-05T10:26:00.670773Z"
    },
    "tags": []
   },
   "outputs": [],
   "source": [
    "import lsst.daf.butler as dafButler\n",
    "#import lsst.summit.utils.butlerUtils as butlerUtils"
   ]
  },
  {
   "cell_type": "code",
   "execution_count": 4,
   "id": "1ceacda9-20b0-4d77-a0d2-572c957ce273",
   "metadata": {
    "execution": {
     "iopub.execute_input": "2024-03-05T10:26:01.333025Z",
     "iopub.status.busy": "2024-03-05T10:26:01.332855Z",
     "iopub.status.idle": "2024-03-05T10:26:01.820651Z",
     "shell.execute_reply": "2024-03-05T10:26:01.820266Z",
     "shell.execute_reply.started": "2024-03-05T10:26:01.333011Z"
    },
    "tags": []
   },
   "outputs": [],
   "source": [
    "import numpy as np\n",
    "import matplotlib.pyplot as plt\n",
    "%matplotlib inline\n",
    "from mpl_toolkits.axes_grid1 import make_axes_locatable\n",
    "from matplotlib.colors import LogNorm,SymLogNorm\n",
    "\n",
    "\n",
    "import matplotlib.ticker                         # here's where the formatter is\n",
    "from matplotlib.ticker import (MultipleLocator, FormatStrFormatter,\n",
    "                               AutoMinorLocator)\n",
    "\n",
    "from astropy.visualization import (MinMaxInterval, SqrtStretch,ZScaleInterval,PercentileInterval,\n",
    "                                   ImageNormalize,imshow_norm)\n",
    "from astropy.visualization.stretch import SinhStretch, LinearStretch,AsinhStretch,LogStretch\n",
    "\n",
    "from astropy.io import fits\n",
    "\n",
    "import pandas as pd\n",
    "\n",
    "import matplotlib.ticker                         # here's where the formatter is\n",
    "import os\n",
    "import re\n",
    "import pandas as pd\n",
    "import pickle\n",
    "\n",
    "plt.rcParams[\"figure.figsize\"] = (4,3)\n",
    "plt.rcParams[\"axes.labelsize\"] = 'xx-large'\n",
    "plt.rcParams['axes.titlesize'] = 'xx-large'\n",
    "plt.rcParams['xtick.labelsize']= 'xx-large'\n",
    "plt.rcParams['ytick.labelsize']= 'xx-large'"
   ]
  },
  {
   "cell_type": "code",
   "execution_count": 5,
   "id": "34c92544-f2fd-4287-b852-e2ccb9a3b510",
   "metadata": {
    "execution": {
     "iopub.execute_input": "2024-03-05T10:26:01.821466Z",
     "iopub.status.busy": "2024-03-05T10:26:01.821157Z",
     "iopub.status.idle": "2024-03-05T10:26:01.823908Z",
     "shell.execute_reply": "2024-03-05T10:26:01.823554Z",
     "shell.execute_reply.started": "2024-03-05T10:26:01.821451Z"
    },
    "tags": []
   },
   "outputs": [],
   "source": [
    "from matplotlib.ticker import (MultipleLocator, FormatStrFormatter,\n",
    "                               AutoMinorLocator)\n",
    "\n",
    "from astropy.visualization import (MinMaxInterval, SqrtStretch,ZScaleInterval,PercentileInterval,\n",
    "                                   ImageNormalize,imshow_norm)\n",
    "from astropy.visualization.stretch import SinhStretch, LinearStretch,AsinhStretch,LogStretch\n",
    "\n",
    "from astropy.time import Time\n"
   ]
  },
  {
   "cell_type": "code",
   "execution_count": 6,
   "id": "77aa5733-0a46-49eb-b26e-d3bb6195cc3d",
   "metadata": {
    "execution": {
     "iopub.execute_input": "2024-03-05T10:26:01.824498Z",
     "iopub.status.busy": "2024-03-05T10:26:01.824367Z",
     "iopub.status.idle": "2024-03-05T10:26:02.124131Z",
     "shell.execute_reply": "2024-03-05T10:26:02.123687Z",
     "shell.execute_reply.started": "2024-03-05T10:26:01.824485Z"
    },
    "tags": []
   },
   "outputs": [],
   "source": [
    "# LSST Display\n",
    "import lsst.afw.display as afwDisplay\n",
    "afwDisplay.setDefaultBackend('matplotlib')"
   ]
  },
  {
   "cell_type": "code",
   "execution_count": 7,
   "id": "b7cea198-6f3c-4a87-8877-fdf8e4d73c26",
   "metadata": {
    "execution": {
     "iopub.execute_input": "2024-03-05T10:26:02.124999Z",
     "iopub.status.busy": "2024-03-05T10:26:02.124676Z",
     "iopub.status.idle": "2024-03-05T10:26:02.127148Z",
     "shell.execute_reply": "2024-03-05T10:26:02.126784Z",
     "shell.execute_reply.started": "2024-03-05T10:26:02.124985Z"
    },
    "tags": []
   },
   "outputs": [],
   "source": [
    "transform = AsinhStretch() + PercentileInterval(99.)"
   ]
  },
  {
   "cell_type": "code",
   "execution_count": 8,
   "id": "c8b31810-780c-43f2-92a1-af05fddd65e1",
   "metadata": {
    "execution": {
     "iopub.execute_input": "2024-03-05T10:26:02.127743Z",
     "iopub.status.busy": "2024-03-05T10:26:02.127589Z",
     "iopub.status.idle": "2024-03-05T10:26:02.131277Z",
     "shell.execute_reply": "2024-03-05T10:26:02.130927Z",
     "shell.execute_reply.started": "2024-03-05T10:26:02.127729Z"
    }
   },
   "outputs": [],
   "source": [
    "pd.options.display.max_columns = None\n",
    "#pd.options.display.max_rows = None\n",
    "\n"
   ]
  },
  {
   "cell_type": "markdown",
   "id": "17f98db2-2ea8-4546-87a9-f2cd11d67ec7",
   "metadata": {},
   "source": [
    "## Configuration"
   ]
  },
  {
   "cell_type": "code",
   "execution_count": 9,
   "id": "f6c1ac18-5e47-4ae9-93ec-32f4337aa520",
   "metadata": {
    "execution": {
     "iopub.execute_input": "2024-03-05T10:26:02.131847Z",
     "iopub.status.busy": "2024-03-05T10:26:02.131700Z",
     "iopub.status.idle": "2024-03-05T10:26:02.135697Z",
     "shell.execute_reply": "2024-03-05T10:26:02.135290Z",
     "shell.execute_reply.started": "2024-03-05T10:26:02.131835Z"
    }
   },
   "outputs": [],
   "source": [
    "#filevisit_out=\"ccdVisitTable_202312.csv\"\n",
    "filevisit_out=\"ccdVisitTable_202402.csv\"\n",
    "#filetractpatch_out = 'Latiss_tractspatchs_202312.pickle'"
   ]
  },
  {
   "cell_type": "code",
   "execution_count": 10,
   "id": "1c81d99a-5e91-4ba1-ba4a-c66b37905b98",
   "metadata": {
    "execution": {
     "iopub.execute_input": "2024-03-05T10:26:02.136274Z",
     "iopub.status.busy": "2024-03-05T10:26:02.136147Z",
     "iopub.status.idle": "2024-03-05T10:26:02.679563Z",
     "shell.execute_reply": "2024-03-05T10:26:02.679054Z",
     "shell.execute_reply.started": "2024-03-05T10:26:02.136262Z"
    },
    "tags": []
   },
   "outputs": [],
   "source": [
    "#repo =  \"/sdf/group/rubin/repo/main\"\n",
    "repo = \"/sdf/group/rubin/repo/oga/\"\n",
    "butler = dafButler.Butler(repo)\n",
    "registry = butler.registry"
   ]
  },
  {
   "cell_type": "code",
   "execution_count": null,
   "id": "701c0815-3c94-42a6-9ea9-1dc32455315f",
   "metadata": {},
   "outputs": [],
   "source": [
    "def angle_in_range(alpha, lower, upper):\n",
    "    return (alpha - lower) % 360 <= (upper - lower) % 360"
   ]
  },
  {
   "cell_type": "code",
   "execution_count": 11,
   "id": "e9f828a7-8319-499e-a6b9-01dedc59e06c",
   "metadata": {
    "execution": {
     "iopub.execute_input": "2024-03-05T10:26:02.680691Z",
     "iopub.status.busy": "2024-03-05T10:26:02.680313Z",
     "iopub.status.idle": "2024-03-05T10:26:02.684075Z",
     "shell.execute_reply": "2024-03-05T10:26:02.683707Z",
     "shell.execute_reply.started": "2024-03-05T10:26:02.680673Z"
    }
   },
   "outputs": [],
   "source": [
    "def get_corners_radec(wcs, bbox):\n",
    "    \"\"\"\n",
    "    Return the corners in RA,Dec in degrees given the WCS and bounding box for an image.\n",
    "\n",
    "    Parameters\n",
    "    ----------\n",
    "    wcs: image WCS returned by the Butler\n",
    "    bbox: bounding box returned by the Butler\n",
    "\n",
    "    Returns\n",
    "    -------\n",
    "    corners_ra, corners_dec in decimal degrees\n",
    "    \"\"\"\n",
    "\n",
    "    corners_x = [bbox.beginX, bbox.beginX, bbox.endX, bbox.endX]\n",
    "    corners_y = [bbox.beginY, bbox.endY, bbox.endY, bbox.beginY]\n",
    "    corners_ra = []\n",
    "    corners_dec = []\n",
    "    for i in range(4):\n",
    "        radec = wcs.pixelToSky(corners_x[i], corners_y[i])\n",
    "        corners_ra.append(radec.getRa().asDegrees())\n",
    "        corners_dec.append(radec.getDec().asDegrees())\n",
    "    \n",
    "    return corners_ra, corners_dec"
   ]
  },
  {
   "cell_type": "code",
   "execution_count": 12,
   "id": "150e04f6-e800-4086-9671-686e12349fc9",
   "metadata": {
    "execution": {
     "iopub.execute_input": "2024-03-05T10:26:02.684682Z",
     "iopub.status.busy": "2024-03-05T10:26:02.684556Z",
     "iopub.status.idle": "2024-03-05T10:26:02.688967Z",
     "shell.execute_reply": "2024-03-05T10:26:02.688609Z",
     "shell.execute_reply.started": "2024-03-05T10:26:02.684670Z"
    }
   },
   "outputs": [],
   "source": [
    "def get_bbox_radec(wcs, bbox):\n",
    "    \"\"\"\n",
    "    Return the corners in RA,Dec in degrees given the WCS and bounding box for an image.\n",
    "\n",
    "    Parameters\n",
    "    ----------\n",
    "    wcs: image WCS returned by the Butler\n",
    "    bbox: bounding box returned by the Butler\n",
    "\n",
    "    Returns\n",
    "    -------\n",
    "    ramin,ramax,decmin,decmax in decimal degrees\n",
    "    \"\"\"\n",
    "\n",
    "    xmin = bbox.beginX\n",
    "    xmax = bbox.endX\n",
    "    ymin = bbox.beginY\n",
    "    ymax = bbox.endY\n",
    "    \n",
    "    radec_ll = wcs.pixelToSky(xmin, ymin)\n",
    "    radec_ur = wcs.pixelToSky(xmax, ymax)\n",
    "        \n",
    "    return radec_ur.getRa().asDegrees(),radec_ll.getRa().asDegrees(), radec_ll.getDec().asDegrees(),radec_ur.getDec().asDegrees() "
   ]
  },
  {
   "cell_type": "code",
   "execution_count": 13,
   "id": "ffb574d5-b268-4c55-ba63-8883723cf729",
   "metadata": {
    "execution": {
     "iopub.execute_input": "2024-03-05T10:26:02.689556Z",
     "iopub.status.busy": "2024-03-05T10:26:02.689435Z",
     "iopub.status.idle": "2024-03-05T10:26:02.693782Z",
     "shell.execute_reply": "2024-03-05T10:26:02.693418Z",
     "shell.execute_reply.started": "2024-03-05T10:26:02.689545Z"
    }
   },
   "outputs": [],
   "source": [
    "def isradec_inbbox_radec(ra,dec,wcs, bbox):\n",
    "    \"\"\"\n",
    "    Return the corners in RA,Dec in degrees given the WCS and bounding box for an image.\n",
    "\n",
    "    Parameters\n",
    "    ----------\n",
    "    ra: ra in degree\n",
    "    dec: dec in degree\n",
    "    wcs: image WCS returned by the Butler\n",
    "    bbox: bounding box returned by the Butler\n",
    "\n",
    "    Returns\n",
    "    -------\n",
    "    Bool\n",
    "    \n",
    "    \"\"\"\n",
    "\n",
    "    RAMIN,RAMAX,DECMIN,DECMAX = get_bbox_radec(wcs, bbox)\n",
    "\n",
    "    flag_ra = angle_in_range(ra,RAMIN,RAMAX)\n",
    "    flag_dec = angle_in_range(dec,DECMIN,DECMAX)\n",
    "\n",
    "    flag = flag_ra and flag_dec\n",
    "    return flag\n"
   ]
  },
  {
   "cell_type": "code",
   "execution_count": 14,
   "id": "76b0e7fc-7d84-4b76-8c17-8e9bec32554f",
   "metadata": {
    "execution": {
     "iopub.execute_input": "2024-03-05T10:26:02.694423Z",
     "iopub.status.busy": "2024-03-05T10:26:02.694291Z",
     "iopub.status.idle": "2024-03-05T10:26:02.699655Z",
     "shell.execute_reply": "2024-03-05T10:26:02.699310Z",
     "shell.execute_reply.started": "2024-03-05T10:26:02.694410Z"
    }
   },
   "outputs": [],
   "source": [
    "def FindTractAndPatch(row):\n",
    "    \"\"\"\n",
    "    Apply this function on ccdvisitTable dataframe to find the tract and patch for each visit\n",
    "    \"\"\"\n",
    "    tractsId_list = list(tracts_patchs_dict.keys())   \n",
    "    try:\n",
    "        ra = row[\"ra\"]\n",
    "        dec = row[\"dec\"]\n",
    "        selectFlag = False\n",
    "        # loop on tract\n",
    "        for tractID in tractsId_list:\n",
    "            wcs = tractsInfoWCS_dict[tractID]\n",
    "            tractInfo = tractsInfo_dict[tractID] \n",
    "            patches_selected = list(tracts_patchs_dict[tractID])\n",
    "            # loop on patches\n",
    "            for patch in tractInfo:\n",
    "                patchID = patch.getSequentialIndex()\n",
    "                if patchID in patches_selected:\n",
    "                    ibb=patch.getInnerBBox()\n",
    "                    flag = isradec_inbbox_radec(ra,dec,wcs, ibb)\n",
    "                    selectFlag =  selectFlag or flag\n",
    "                    if selectFlag:\n",
    "                        return pd.Series([tractID,patchID])\n",
    "        return pd.Series([0,0])           \n",
    "                \n",
    "    except Exception as inst:\n",
    "        print(type(inst))    # the exception type\n",
    "        print(inst.args)     # arguments stored in .args\n",
    "        print(inst)          # __str__ allows args to be printed directly,\n",
    "        return pd.Series([0,0])  \n",
    "        "
   ]
  },
  {
   "cell_type": "markdown",
   "id": "20dbb8da-3a08-4b4f-9437-4bf7f28c1782",
   "metadata": {},
   "source": [
    "## Give the collection"
   ]
  },
  {
   "cell_type": "code",
   "execution_count": 15,
   "id": "9629ea29-8ab4-4062-aed1-e16d62dc90c4",
   "metadata": {
    "execution": {
     "iopub.execute_input": "2024-03-05T10:26:02.700257Z",
     "iopub.status.busy": "2024-03-05T10:26:02.700119Z",
     "iopub.status.idle": "2024-03-05T10:26:02.703634Z",
     "shell.execute_reply": "2024-03-05T10:26:02.703271Z",
     "shell.execute_reply.started": "2024-03-05T10:26:02.700244Z"
    },
    "tags": []
   },
   "outputs": [],
   "source": [
    "#my_collection = \"LATISS/runs/AUXTEL_DRP_IMAGING_2023-11A-10A-09AB-08ABC-07AB-05AB/w_2023_46/PREOPS-4553\"\n",
    "my_collection = \"LATISS/runs/AUXTEL_DRP_IMAGING_20230509_20240201/w_2024_05/PREOPS-4871\""
   ]
  },
  {
   "cell_type": "code",
   "execution_count": 16,
   "id": "e0741000-7c9c-4882-a491-c429fda98cfd",
   "metadata": {
    "execution": {
     "iopub.execute_input": "2024-03-05T10:26:02.704242Z",
     "iopub.status.busy": "2024-03-05T10:26:02.704117Z",
     "iopub.status.idle": "2024-03-05T10:26:02.859494Z",
     "shell.execute_reply": "2024-03-05T10:26:02.858835Z",
     "shell.execute_reply.started": "2024-03-05T10:26:02.704230Z"
    }
   },
   "outputs": [],
   "source": [
    "skymap_auxtel ='latiss_v1'\n",
    "skymap = butler.get('skyMap', skymap=skymap_auxtel, collections=my_collection)"
   ]
  },
  {
   "cell_type": "markdown",
   "id": "a7587b10-c178-4537-9c34-60867b69fa01",
   "metadata": {},
   "source": [
    "## Config"
   ]
  },
  {
   "cell_type": "code",
   "execution_count": 17,
   "id": "2e1cdf2d-be43-4747-bd21-c178e3b9983b",
   "metadata": {
    "execution": {
     "iopub.execute_input": "2024-03-05T10:26:02.860467Z",
     "iopub.status.busy": "2024-03-05T10:26:02.860293Z",
     "iopub.status.idle": "2024-03-05T10:26:02.862975Z",
     "shell.execute_reply": "2024-03-05T10:26:02.862481Z",
     "shell.execute_reply.started": "2024-03-05T10:26:02.860450Z"
    }
   },
   "outputs": [],
   "source": [
    "#Auxtel2023_tracts = [ 5616,5634,5615,10644,383,8188,3863,455,452,5839,10643,382]"
   ]
  },
  {
   "cell_type": "code",
   "execution_count": 18,
   "id": "5007928e-86d1-4ba6-a330-1ec974a2fd0f",
   "metadata": {
    "execution": {
     "iopub.execute_input": "2024-03-05T10:26:02.863792Z",
     "iopub.status.busy": "2024-03-05T10:26:02.863630Z",
     "iopub.status.idle": "2024-03-05T10:26:02.869460Z",
     "shell.execute_reply": "2024-03-05T10:26:02.868967Z",
     "shell.execute_reply.started": "2024-03-05T10:26:02.863777Z"
    }
   },
   "outputs": [],
   "source": [
    "Auxtel2023_tracts = [382,383,452,455,\n",
    "                     3863,3864,\n",
    "                     5614,5615,5616,5634,5839,\n",
    "                     #8188,\n",
    "                     10643,10644]"
   ]
  },
  {
   "cell_type": "code",
   "execution_count": 19,
   "id": "34753b23-850b-407a-9b62-d6873b7afbb0",
   "metadata": {
    "execution": {
     "iopub.execute_input": "2024-03-05T10:26:02.873776Z",
     "iopub.status.busy": "2024-03-05T10:26:02.873388Z",
     "iopub.status.idle": "2024-03-05T10:26:02.877460Z",
     "shell.execute_reply": "2024-03-05T10:26:02.876939Z",
     "shell.execute_reply.started": "2024-03-05T10:26:02.873760Z"
    }
   },
   "outputs": [],
   "source": [
    "with open('../data/202402/Latiss_tractspatchs_202402.pickle', 'rb') as handle:\n",
    "    tracts_patchs_dict = pickle.load(handle)"
   ]
  },
  {
   "cell_type": "code",
   "execution_count": 20,
   "id": "3c4474c4-f898-4557-97ee-b7d0ddf35d14",
   "metadata": {
    "execution": {
     "iopub.execute_input": "2024-03-05T10:26:02.878294Z",
     "iopub.status.busy": "2024-03-05T10:26:02.878131Z",
     "iopub.status.idle": "2024-03-05T10:26:02.883223Z",
     "shell.execute_reply": "2024-03-05T10:26:02.882704Z",
     "shell.execute_reply.started": "2024-03-05T10:26:02.878279Z"
    }
   },
   "outputs": [
    {
     "data": {
      "text/plain": [
       "{10644: array([189, 183, 184, 164, 185, 203, 201, 207, 182, 162, 166, 165, 181,\n",
       "        161, 188, 208, 180, 202]),\n",
       " 5634: array([ 90, 110,  71, 112,  73, 109,  93,  92,  91,  53,  72,  55,  52,\n",
       "        111,  54,  74]),\n",
       " 3863: array([223, 261, 241, 242, 262, 260, 243, 222, 224]),\n",
       " 452: array([41, 62, 22, 25, 23, 44, 42, 63, 43, 24]),\n",
       " 5614: array([250, 251, 230, 210, 212, 232, 211, 213, 249, 229, 231]),\n",
       " 5616: array([355, 358, 316, 338, 356, 336, 357, 337, 317, 335, 315, 334]),\n",
       " 5615: array([274, 331, 312, 332, 294, 295, 293, 313, 333, 314, 275, 276]),\n",
       " 5839: array([9, 8, 7]),\n",
       " 10643: array([190, 171]),\n",
       " 455: array([51, 52, 15, 33, 14, 53, 34, 13, 32]),\n",
       " 382: array([343, 344, 342]),\n",
       " 3864: array([274, 238, 217, 218, 273, 255, 235, 275, 237, 257, 219, 236, 256,\n",
       "        254, 276, 216]),\n",
       " 383: array([359, 360])}"
      ]
     },
     "execution_count": 20,
     "metadata": {},
     "output_type": "execute_result"
    }
   ],
   "source": [
    "tracts_patchs_dict"
   ]
  },
  {
   "cell_type": "code",
   "execution_count": 21,
   "id": "a0e46a92-2205-40ec-80ec-a8aef43dc267",
   "metadata": {
    "execution": {
     "iopub.execute_input": "2024-03-05T10:26:02.883933Z",
     "iopub.status.busy": "2024-03-05T10:26:02.883764Z",
     "iopub.status.idle": "2024-03-05T10:26:02.886568Z",
     "shell.execute_reply": "2024-03-05T10:26:02.886057Z",
     "shell.execute_reply.started": "2024-03-05T10:26:02.883917Z"
    }
   },
   "outputs": [],
   "source": [
    "#tract_selected = 5615\n",
    "#patches_selected = [294,313]\n",
    "#suptitle = f\"CCD visit in tract {tract_selected} and patches {patches_selected[0]} and {patches_selected[1]}\""
   ]
  },
  {
   "cell_type": "markdown",
   "id": "bd6be2f5-4ad5-4a7a-9b70-03ee25079e79",
   "metadata": {},
   "source": [
    "### Find tract"
   ]
  },
  {
   "cell_type": "code",
   "execution_count": 22,
   "id": "239848e5-5519-4ee6-a2b4-52bbb5ce72f9",
   "metadata": {
    "execution": {
     "iopub.execute_input": "2024-03-05T10:26:02.887388Z",
     "iopub.status.busy": "2024-03-05T10:26:02.887218Z",
     "iopub.status.idle": "2024-03-05T10:26:02.892714Z",
     "shell.execute_reply": "2024-03-05T10:26:02.892105Z",
     "shell.execute_reply.started": "2024-03-05T10:26:02.887372Z"
    }
   },
   "outputs": [],
   "source": [
    "#for tractInfo in skymap:\n",
    "#    tractID = tractInfo.getId()\n",
    "#    if tractID == tract_selected:\n",
    "#        break"
   ]
  },
  {
   "cell_type": "code",
   "execution_count": 23,
   "id": "9f5a034c-fb7f-41a1-83b8-a1c38ff4e2cd",
   "metadata": {
    "execution": {
     "iopub.execute_input": "2024-03-05T10:26:02.893843Z",
     "iopub.status.busy": "2024-03-05T10:26:02.893521Z",
     "iopub.status.idle": "2024-03-05T10:26:02.898919Z",
     "shell.execute_reply": "2024-03-05T10:26:02.898355Z",
     "shell.execute_reply.started": "2024-03-05T10:26:02.893825Z"
    }
   },
   "outputs": [],
   "source": [
    "#tractInfo"
   ]
  },
  {
   "cell_type": "code",
   "execution_count": 24,
   "id": "8f863bce-e11a-492e-a0dd-b7a38a429c58",
   "metadata": {
    "execution": {
     "iopub.execute_input": "2024-03-05T10:26:02.899836Z",
     "iopub.status.busy": "2024-03-05T10:26:02.899578Z",
     "iopub.status.idle": "2024-03-05T10:26:02.903634Z",
     "shell.execute_reply": "2024-03-05T10:26:02.903209Z",
     "shell.execute_reply.started": "2024-03-05T10:26:02.899818Z"
    }
   },
   "outputs": [],
   "source": [
    "# WCS for this patch\n",
    "#tWCS=tractInfo.getWcs()"
   ]
  },
  {
   "cell_type": "markdown",
   "id": "f0e60698-c941-4b9c-8bde-e2afb71d50dd",
   "metadata": {},
   "source": [
    "### Find Tract"
   ]
  },
  {
   "cell_type": "code",
   "execution_count": 25,
   "id": "1e6aa63b-a31e-409e-854f-7eb2c4d53bef",
   "metadata": {
    "execution": {
     "iopub.execute_input": "2024-03-05T10:26:02.904280Z",
     "iopub.status.busy": "2024-03-05T10:26:02.904151Z",
     "iopub.status.idle": "2024-03-05T10:26:18.750289Z",
     "shell.execute_reply": "2024-03-05T10:26:18.749818Z",
     "shell.execute_reply.started": "2024-03-05T10:26:02.904268Z"
    }
   },
   "outputs": [],
   "source": [
    "tractsInfo_dict = {}\n",
    "tractsInfoWCS_dict = {}\n",
    "tractsId_list = list(tracts_patchs_dict.keys())\n",
    "\n",
    "# loop to select the good tracts\n",
    "for tractInfo in skymap:\n",
    "    tractID = tractInfo.getId()\n",
    "    # is this tract in Auxtel tract list\n",
    "    if tractID in tractsId_list:\n",
    "        # keep tractInfo\n",
    "        tractsInfo_dict[tractID] = tractInfo \n",
    "        # keep WCS\n",
    "        tractsInfoWCS_dict[tractID] = tractInfo.getWcs()"
   ]
  },
  {
   "cell_type": "markdown",
   "id": "90d3da4c-3090-416e-8bcc-1063c9a87905",
   "metadata": {},
   "source": [
    "### Find patches"
   ]
  },
  {
   "cell_type": "code",
   "execution_count": 26,
   "id": "177ecce6-b5f2-4c51-8262-28517ea810e6",
   "metadata": {
    "execution": {
     "iopub.execute_input": "2024-03-05T10:26:18.751078Z",
     "iopub.status.busy": "2024-03-05T10:26:18.750933Z",
     "iopub.status.idle": "2024-03-05T10:26:18.753024Z",
     "shell.execute_reply": "2024-03-05T10:26:18.752656Z",
     "shell.execute_reply.started": "2024-03-05T10:26:18.751065Z"
    }
   },
   "outputs": [],
   "source": [
    "#all_patches = []\n",
    "#for patch in tractInfo:\n",
    "#    patchID = patch.getSequentialIndex()\n",
    "#    if patchID in patches_selected:\n",
    "#        all_patches.append(patch)        "
   ]
  },
  {
   "cell_type": "code",
   "execution_count": 27,
   "id": "62358289-92ab-4e6f-ad6a-ed21800cb083",
   "metadata": {
    "execution": {
     "iopub.execute_input": "2024-03-05T10:26:18.753675Z",
     "iopub.status.busy": "2024-03-05T10:26:18.753554Z",
     "iopub.status.idle": "2024-03-05T10:26:18.757291Z",
     "shell.execute_reply": "2024-03-05T10:26:18.756840Z",
     "shell.execute_reply.started": "2024-03-05T10:26:18.753664Z"
    }
   },
   "outputs": [],
   "source": [
    "#all_patches"
   ]
  },
  {
   "cell_type": "code",
   "execution_count": 28,
   "id": "72a33ee6-73c0-4939-8a9d-02701dd76a12",
   "metadata": {
    "execution": {
     "iopub.execute_input": "2024-03-05T10:26:18.758041Z",
     "iopub.status.busy": "2024-03-05T10:26:18.757868Z",
     "iopub.status.idle": "2024-03-05T10:26:18.761822Z",
     "shell.execute_reply": "2024-03-05T10:26:18.761449Z",
     "shell.execute_reply.started": "2024-03-05T10:26:18.758015Z"
    }
   },
   "outputs": [],
   "source": [
    "#for patch in all_patches:\n",
    "#    patchID = patch.getSequentialIndex()\n",
    "#    ibb=patch.getInnerBBox()\n",
    "#    print(\"patch \",patchID,\"ibb=\",ibb)\n",
    "#    RAMIN,RAMAX,DECMIN,DECMAX = get_bbox_radec(tWCS, ibb)"
   ]
  },
  {
   "cell_type": "markdown",
   "id": "a72c2c07-ff40-49d9-a36d-5277cbbc5cec",
   "metadata": {},
   "source": [
    "# Sources"
   ]
  },
  {
   "cell_type": "code",
   "execution_count": 29,
   "id": "c2bca87f-8b3a-44ee-afa5-5b8e0b8f9b9d",
   "metadata": {
    "execution": {
     "iopub.execute_input": "2024-03-05T10:26:18.762499Z",
     "iopub.status.busy": "2024-03-05T10:26:18.762378Z",
     "iopub.status.idle": "2024-03-05T10:26:18.857619Z",
     "shell.execute_reply": "2024-03-05T10:26:18.857143Z",
     "shell.execute_reply.started": "2024-03-05T10:26:18.762488Z"
    },
    "tags": []
   },
   "outputs": [],
   "source": [
    "datasetRefs = butler.registry.queryDatasets(datasetType='ccdVisitTable', collections=my_collection, where= \"instrument='LATISS'\")"
   ]
  },
  {
   "cell_type": "code",
   "execution_count": 30,
   "id": "a01bb1b1-a2fe-4060-85ff-fb9e9c5dbb74",
   "metadata": {
    "execution": {
     "iopub.execute_input": "2024-03-05T10:26:18.858339Z",
     "iopub.status.busy": "2024-03-05T10:26:18.858200Z",
     "iopub.status.idle": "2024-03-05T10:26:18.877086Z",
     "shell.execute_reply": "2024-03-05T10:26:18.876671Z",
     "shell.execute_reply.started": "2024-03-05T10:26:18.858326Z"
    },
    "tags": []
   },
   "outputs": [
    {
     "name": "stdout",
     "output_type": "stream",
     "text": [
      "========================datasetType = ccdVisitTable ============================================\n",
      "fullId..................: {instrument: 'LATISS'}\n"
     ]
    },
    {
     "name": "stderr",
     "output_type": "stream",
     "text": [
      "/tmp/ipykernel_90949/4284467752.py:4: FutureWarning: Call to deprecated function (or staticmethod) full. (DataCoordinate.full is deprecated in favor of .mapping, and will be dropped after v27.) -- Deprecated since version v27.\n",
      "  print(\"fullId..................:\",ref.dataId.full)\n"
     ]
    }
   ],
   "source": [
    "for i, ref in enumerate(datasetRefs):\n",
    "   \n",
    "    print(\"========================datasetType = ccdVisitTable ============================================\")\n",
    "    print(\"fullId..................:\",ref.dataId.full)\n",
    "    "
   ]
  },
  {
   "cell_type": "code",
   "execution_count": 31,
   "id": "8ea5496c-40b0-46cb-b298-b018d762014a",
   "metadata": {
    "execution": {
     "iopub.execute_input": "2024-03-05T10:26:18.877777Z",
     "iopub.status.busy": "2024-03-05T10:26:18.877642Z",
     "iopub.status.idle": "2024-03-05T10:26:18.990166Z",
     "shell.execute_reply": "2024-03-05T10:26:18.989757Z",
     "shell.execute_reply.started": "2024-03-05T10:26:18.877765Z"
    }
   },
   "outputs": [
    {
     "data": {
      "text/html": [
       "<div>\n",
       "<style scoped>\n",
       "    .dataframe tbody tr th:only-of-type {\n",
       "        vertical-align: middle;\n",
       "    }\n",
       "\n",
       "    .dataframe tbody tr th {\n",
       "        vertical-align: top;\n",
       "    }\n",
       "\n",
       "    .dataframe thead th {\n",
       "        text-align: right;\n",
       "    }\n",
       "</style>\n",
       "<table border=\"1\" class=\"dataframe\">\n",
       "  <thead>\n",
       "    <tr style=\"text-align: right;\">\n",
       "      <th></th>\n",
       "      <th>visit</th>\n",
       "      <th>physical_filter</th>\n",
       "      <th>band</th>\n",
       "      <th>ra</th>\n",
       "      <th>dec</th>\n",
       "      <th>decl</th>\n",
       "      <th>skyRotation</th>\n",
       "      <th>azimuth</th>\n",
       "      <th>altitude</th>\n",
       "      <th>zenithDistance</th>\n",
       "      <th>airmass</th>\n",
       "      <th>expTime</th>\n",
       "      <th>expMidpt</th>\n",
       "      <th>expMidptMJD</th>\n",
       "      <th>obsStart</th>\n",
       "      <th>obsStartMJD</th>\n",
       "    </tr>\n",
       "    <tr>\n",
       "      <th>visitId</th>\n",
       "      <th></th>\n",
       "      <th></th>\n",
       "      <th></th>\n",
       "      <th></th>\n",
       "      <th></th>\n",
       "      <th></th>\n",
       "      <th></th>\n",
       "      <th></th>\n",
       "      <th></th>\n",
       "      <th></th>\n",
       "      <th></th>\n",
       "      <th></th>\n",
       "      <th></th>\n",
       "      <th></th>\n",
       "      <th></th>\n",
       "      <th></th>\n",
       "    </tr>\n",
       "  </thead>\n",
       "  <tbody>\n",
       "    <tr>\n",
       "      <th>2023051100262</th>\n",
       "      <td>2023051100262</td>\n",
       "      <td>SDSSr_65mm~empty</td>\n",
       "      <td>r</td>\n",
       "      <td>239.941279</td>\n",
       "      <td>-24.050861</td>\n",
       "      <td>-24.050861</td>\n",
       "      <td>322.911701</td>\n",
       "      <td>100.652699</td>\n",
       "      <td>33.079204</td>\n",
       "      <td>56.920796</td>\n",
       "      <td>1.826588</td>\n",
       "      <td>30.0</td>\n",
       "      <td>2023-05-12 01:08:56.302993</td>\n",
       "      <td>60076.047874</td>\n",
       "      <td>2023-05-12 01:08:41.302993</td>\n",
       "      <td>60076.047700</td>\n",
       "    </tr>\n",
       "    <tr>\n",
       "      <th>2023051100263</th>\n",
       "      <td>2023051100263</td>\n",
       "      <td>SDSSg_65mm~empty</td>\n",
       "      <td>g</td>\n",
       "      <td>239.943099</td>\n",
       "      <td>-24.042851</td>\n",
       "      <td>-24.042851</td>\n",
       "      <td>170.005077</td>\n",
       "      <td>100.427273</td>\n",
       "      <td>33.535722</td>\n",
       "      <td>56.464278</td>\n",
       "      <td>1.804276</td>\n",
       "      <td>30.0</td>\n",
       "      <td>2023-05-12 01:11:06.209005</td>\n",
       "      <td>60076.049377</td>\n",
       "      <td>2023-05-12 01:10:51.209005</td>\n",
       "      <td>60076.049204</td>\n",
       "    </tr>\n",
       "    <tr>\n",
       "      <th>2023051100264</th>\n",
       "      <td>2023051100264</td>\n",
       "      <td>SDSSi_65mm~empty</td>\n",
       "      <td>i</td>\n",
       "      <td>239.940919</td>\n",
       "      <td>-24.040927</td>\n",
       "      <td>-24.040927</td>\n",
       "      <td>170.004955</td>\n",
       "      <td>100.024337</td>\n",
       "      <td>34.385246</td>\n",
       "      <td>55.614754</td>\n",
       "      <td>1.765315</td>\n",
       "      <td>30.0</td>\n",
       "      <td>2023-05-12 01:15:04.912000</td>\n",
       "      <td>60076.052140</td>\n",
       "      <td>2023-05-12 01:14:49.912000</td>\n",
       "      <td>60076.051967</td>\n",
       "    </tr>\n",
       "    <tr>\n",
       "      <th>2023051100268</th>\n",
       "      <td>2023051100268</td>\n",
       "      <td>SDSSr_65mm~empty</td>\n",
       "      <td>r</td>\n",
       "      <td>239.960079</td>\n",
       "      <td>-24.042010</td>\n",
       "      <td>-24.042010</td>\n",
       "      <td>323.867206</td>\n",
       "      <td>99.573769</td>\n",
       "      <td>35.343223</td>\n",
       "      <td>54.656777</td>\n",
       "      <td>1.724092</td>\n",
       "      <td>30.0</td>\n",
       "      <td>2023-05-12 01:19:39.311494</td>\n",
       "      <td>60076.055316</td>\n",
       "      <td>2023-05-12 01:19:24.311494</td>\n",
       "      <td>60076.055142</td>\n",
       "    </tr>\n",
       "    <tr>\n",
       "      <th>2023051100270</th>\n",
       "      <td>2023051100270</td>\n",
       "      <td>SDSSi_65mm~empty</td>\n",
       "      <td>i</td>\n",
       "      <td>239.963850</td>\n",
       "      <td>-24.048746</td>\n",
       "      <td>-24.048746</td>\n",
       "      <td>170.004124</td>\n",
       "      <td>99.285576</td>\n",
       "      <td>35.972240</td>\n",
       "      <td>54.027760</td>\n",
       "      <td>1.697680</td>\n",
       "      <td>30.0</td>\n",
       "      <td>2023-05-12 01:22:36.150002</td>\n",
       "      <td>60076.057363</td>\n",
       "      <td>2023-05-12 01:22:21.150002</td>\n",
       "      <td>60076.057189</td>\n",
       "    </tr>\n",
       "    <tr>\n",
       "      <th>...</th>\n",
       "      <td>...</td>\n",
       "      <td>...</td>\n",
       "      <td>...</td>\n",
       "      <td>...</td>\n",
       "      <td>...</td>\n",
       "      <td>...</td>\n",
       "      <td>...</td>\n",
       "      <td>...</td>\n",
       "      <td>...</td>\n",
       "      <td>...</td>\n",
       "      <td>...</td>\n",
       "      <td>...</td>\n",
       "      <td>...</td>\n",
       "      <td>...</td>\n",
       "      <td>...</td>\n",
       "      <td>...</td>\n",
       "    </tr>\n",
       "    <tr>\n",
       "      <th>2024013000166</th>\n",
       "      <td>2024013000166</td>\n",
       "      <td>empty~SDSSy_65mm</td>\n",
       "      <td>y</td>\n",
       "      <td>122.430675</td>\n",
       "      <td>-36.166952</td>\n",
       "      <td>-36.166952</td>\n",
       "      <td>359.999822</td>\n",
       "      <td>179.282384</td>\n",
       "      <td>84.007088</td>\n",
       "      <td>5.992912</td>\n",
       "      <td>1.005412</td>\n",
       "      <td>30.0</td>\n",
       "      <td>2024-01-31 04:14:35.805994</td>\n",
       "      <td>60340.176803</td>\n",
       "      <td>2024-01-31 04:14:20.805994</td>\n",
       "      <td>60340.176630</td>\n",
       "    </tr>\n",
       "    <tr>\n",
       "      <th>2024013000167</th>\n",
       "      <td>2024013000167</td>\n",
       "      <td>SDSSg_65mm~empty</td>\n",
       "      <td>g</td>\n",
       "      <td>122.522258</td>\n",
       "      <td>-36.166820</td>\n",
       "      <td>-36.166820</td>\n",
       "      <td>0.000666</td>\n",
       "      <td>181.381738</td>\n",
       "      <td>84.005682</td>\n",
       "      <td>5.994318</td>\n",
       "      <td>1.005414</td>\n",
       "      <td>30.0</td>\n",
       "      <td>2024-01-31 04:16:02.589490</td>\n",
       "      <td>60340.177808</td>\n",
       "      <td>2024-01-31 04:15:47.589490</td>\n",
       "      <td>60340.177634</td>\n",
       "    </tr>\n",
       "    <tr>\n",
       "      <th>2024013000168</th>\n",
       "      <td>2024013000168</td>\n",
       "      <td>SDSSr_65mm~empty</td>\n",
       "      <td>r</td>\n",
       "      <td>122.522270</td>\n",
       "      <td>-36.166956</td>\n",
       "      <td>-36.166956</td>\n",
       "      <td>0.000540</td>\n",
       "      <td>182.895972</td>\n",
       "      <td>83.999215</td>\n",
       "      <td>6.000785</td>\n",
       "      <td>1.005425</td>\n",
       "      <td>30.0</td>\n",
       "      <td>2024-01-31 04:16:49.368995</td>\n",
       "      <td>60340.178349</td>\n",
       "      <td>2024-01-31 04:16:34.368995</td>\n",
       "      <td>60340.178176</td>\n",
       "    </tr>\n",
       "    <tr>\n",
       "      <th>2024013000169</th>\n",
       "      <td>2024013000169</td>\n",
       "      <td>SDSSz_65mm~empty</td>\n",
       "      <td>z</td>\n",
       "      <td>122.522291</td>\n",
       "      <td>-36.166664</td>\n",
       "      <td>-36.166664</td>\n",
       "      <td>359.999892</td>\n",
       "      <td>184.309726</td>\n",
       "      <td>83.989529</td>\n",
       "      <td>6.010471</td>\n",
       "      <td>1.005442</td>\n",
       "      <td>30.0</td>\n",
       "      <td>2024-01-31 04:17:33.466999</td>\n",
       "      <td>60340.178860</td>\n",
       "      <td>2024-01-31 04:17:18.466999</td>\n",
       "      <td>60340.178686</td>\n",
       "    </tr>\n",
       "    <tr>\n",
       "      <th>2024013000170</th>\n",
       "      <td>2024013000170</td>\n",
       "      <td>empty~SDSSy_65mm</td>\n",
       "      <td>y</td>\n",
       "      <td>122.522254</td>\n",
       "      <td>-36.166778</td>\n",
       "      <td>-36.166778</td>\n",
       "      <td>0.000237</td>\n",
       "      <td>185.845508</td>\n",
       "      <td>83.974081</td>\n",
       "      <td>6.025919</td>\n",
       "      <td>1.005470</td>\n",
       "      <td>30.0</td>\n",
       "      <td>2024-01-31 04:18:21.970002</td>\n",
       "      <td>60340.179421</td>\n",
       "      <td>2024-01-31 04:18:06.970002</td>\n",
       "      <td>60340.179247</td>\n",
       "    </tr>\n",
       "  </tbody>\n",
       "</table>\n",
       "<p>3588 rows × 16 columns</p>\n",
       "</div>"
      ],
      "text/plain": [
       "                       visit   physical_filter band          ra        dec  \\\n",
       "visitId                                                                      \n",
       "2023051100262  2023051100262  SDSSr_65mm~empty    r  239.941279 -24.050861   \n",
       "2023051100263  2023051100263  SDSSg_65mm~empty    g  239.943099 -24.042851   \n",
       "2023051100264  2023051100264  SDSSi_65mm~empty    i  239.940919 -24.040927   \n",
       "2023051100268  2023051100268  SDSSr_65mm~empty    r  239.960079 -24.042010   \n",
       "2023051100270  2023051100270  SDSSi_65mm~empty    i  239.963850 -24.048746   \n",
       "...                      ...               ...  ...         ...        ...   \n",
       "2024013000166  2024013000166  empty~SDSSy_65mm    y  122.430675 -36.166952   \n",
       "2024013000167  2024013000167  SDSSg_65mm~empty    g  122.522258 -36.166820   \n",
       "2024013000168  2024013000168  SDSSr_65mm~empty    r  122.522270 -36.166956   \n",
       "2024013000169  2024013000169  SDSSz_65mm~empty    z  122.522291 -36.166664   \n",
       "2024013000170  2024013000170  empty~SDSSy_65mm    y  122.522254 -36.166778   \n",
       "\n",
       "                    decl  skyRotation     azimuth   altitude  zenithDistance  \\\n",
       "visitId                                                                        \n",
       "2023051100262 -24.050861   322.911701  100.652699  33.079204       56.920796   \n",
       "2023051100263 -24.042851   170.005077  100.427273  33.535722       56.464278   \n",
       "2023051100264 -24.040927   170.004955  100.024337  34.385246       55.614754   \n",
       "2023051100268 -24.042010   323.867206   99.573769  35.343223       54.656777   \n",
       "2023051100270 -24.048746   170.004124   99.285576  35.972240       54.027760   \n",
       "...                  ...          ...         ...        ...             ...   \n",
       "2024013000166 -36.166952   359.999822  179.282384  84.007088        5.992912   \n",
       "2024013000167 -36.166820     0.000666  181.381738  84.005682        5.994318   \n",
       "2024013000168 -36.166956     0.000540  182.895972  83.999215        6.000785   \n",
       "2024013000169 -36.166664   359.999892  184.309726  83.989529        6.010471   \n",
       "2024013000170 -36.166778     0.000237  185.845508  83.974081        6.025919   \n",
       "\n",
       "                airmass  expTime                   expMidpt   expMidptMJD  \\\n",
       "visitId                                                                     \n",
       "2023051100262  1.826588     30.0 2023-05-12 01:08:56.302993  60076.047874   \n",
       "2023051100263  1.804276     30.0 2023-05-12 01:11:06.209005  60076.049377   \n",
       "2023051100264  1.765315     30.0 2023-05-12 01:15:04.912000  60076.052140   \n",
       "2023051100268  1.724092     30.0 2023-05-12 01:19:39.311494  60076.055316   \n",
       "2023051100270  1.697680     30.0 2023-05-12 01:22:36.150002  60076.057363   \n",
       "...                 ...      ...                        ...           ...   \n",
       "2024013000166  1.005412     30.0 2024-01-31 04:14:35.805994  60340.176803   \n",
       "2024013000167  1.005414     30.0 2024-01-31 04:16:02.589490  60340.177808   \n",
       "2024013000168  1.005425     30.0 2024-01-31 04:16:49.368995  60340.178349   \n",
       "2024013000169  1.005442     30.0 2024-01-31 04:17:33.466999  60340.178860   \n",
       "2024013000170  1.005470     30.0 2024-01-31 04:18:21.970002  60340.179421   \n",
       "\n",
       "                                obsStart   obsStartMJD  \n",
       "visitId                                                 \n",
       "2023051100262 2023-05-12 01:08:41.302993  60076.047700  \n",
       "2023051100263 2023-05-12 01:10:51.209005  60076.049204  \n",
       "2023051100264 2023-05-12 01:14:49.912000  60076.051967  \n",
       "2023051100268 2023-05-12 01:19:24.311494  60076.055142  \n",
       "2023051100270 2023-05-12 01:22:21.150002  60076.057189  \n",
       "...                                  ...           ...  \n",
       "2024013000166 2024-01-31 04:14:20.805994  60340.176630  \n",
       "2024013000167 2024-01-31 04:15:47.589490  60340.177634  \n",
       "2024013000168 2024-01-31 04:16:34.368995  60340.178176  \n",
       "2024013000169 2024-01-31 04:17:18.466999  60340.178686  \n",
       "2024013000170 2024-01-31 04:18:06.970002  60340.179247  \n",
       "\n",
       "[3588 rows x 16 columns]"
      ]
     },
     "execution_count": 31,
     "metadata": {},
     "output_type": "execute_result"
    }
   ],
   "source": [
    "visit_table = butler.get('visitTable', dataId={'instrument': 'LATISS', 'detector': 0}, collections = my_collection )    \n",
    "visit_table"
   ]
  },
  {
   "cell_type": "code",
   "execution_count": 32,
   "id": "3fe7bcf7-0403-4b9e-a79e-8b66ff94d1c3",
   "metadata": {
    "execution": {
     "iopub.execute_input": "2024-03-05T10:26:18.990853Z",
     "iopub.status.busy": "2024-03-05T10:26:18.990722Z",
     "iopub.status.idle": "2024-03-05T10:26:19.080728Z",
     "shell.execute_reply": "2024-03-05T10:26:19.080326Z",
     "shell.execute_reply.started": "2024-03-05T10:26:18.990840Z"
    }
   },
   "outputs": [
    {
     "data": {
      "text/html": [
       "<div>\n",
       "<style scoped>\n",
       "    .dataframe tbody tr th:only-of-type {\n",
       "        vertical-align: middle;\n",
       "    }\n",
       "\n",
       "    .dataframe tbody tr th {\n",
       "        vertical-align: top;\n",
       "    }\n",
       "\n",
       "    .dataframe thead th {\n",
       "        text-align: right;\n",
       "    }\n",
       "</style>\n",
       "<table border=\"1\" class=\"dataframe\">\n",
       "  <thead>\n",
       "    <tr style=\"text-align: right;\">\n",
       "      <th></th>\n",
       "      <th>visitId</th>\n",
       "      <th>physical_filter</th>\n",
       "      <th>band</th>\n",
       "      <th>ra</th>\n",
       "      <th>dec</th>\n",
       "      <th>zenithDistance</th>\n",
       "      <th>zeroPoint</th>\n",
       "      <th>psfSigma</th>\n",
       "      <th>skyBg</th>\n",
       "      <th>skyNoise</th>\n",
       "      <th>astromOffsetMean</th>\n",
       "      <th>astromOffsetStd</th>\n",
       "      <th>nPsfStar</th>\n",
       "      <th>psfStarDeltaE1Median</th>\n",
       "      <th>psfStarDeltaE2Median</th>\n",
       "      <th>psfStarDeltaE1Scatter</th>\n",
       "      <th>psfStarDeltaE2Scatter</th>\n",
       "      <th>psfStarDeltaSizeMedian</th>\n",
       "      <th>psfStarDeltaSizeScatter</th>\n",
       "      <th>psfStarScaledDeltaSizeScatter</th>\n",
       "      <th>psfTraceRadiusDelta</th>\n",
       "      <th>maxDistToNearestPsf</th>\n",
       "      <th>effTime</th>\n",
       "      <th>effTimePsfSigmaScale</th>\n",
       "      <th>effTimeSkyBgScale</th>\n",
       "      <th>effTimeZeroPointScale</th>\n",
       "      <th>decl</th>\n",
       "      <th>detector</th>\n",
       "      <th>seeing</th>\n",
       "      <th>skyRotation</th>\n",
       "      <th>expMidpt</th>\n",
       "      <th>expMidptMJD</th>\n",
       "      <th>expTime</th>\n",
       "      <th>obsStart</th>\n",
       "      <th>obsStartMJD</th>\n",
       "      <th>darkTime</th>\n",
       "      <th>xSize</th>\n",
       "      <th>ySize</th>\n",
       "      <th>llcra</th>\n",
       "      <th>llcdec</th>\n",
       "      <th>ulcra</th>\n",
       "      <th>ulcdec</th>\n",
       "      <th>urcra</th>\n",
       "      <th>urcdec</th>\n",
       "      <th>lrcra</th>\n",
       "      <th>lrcdec</th>\n",
       "    </tr>\n",
       "    <tr>\n",
       "      <th>ccdVisitId</th>\n",
       "      <th></th>\n",
       "      <th></th>\n",
       "      <th></th>\n",
       "      <th></th>\n",
       "      <th></th>\n",
       "      <th></th>\n",
       "      <th></th>\n",
       "      <th></th>\n",
       "      <th></th>\n",
       "      <th></th>\n",
       "      <th></th>\n",
       "      <th></th>\n",
       "      <th></th>\n",
       "      <th></th>\n",
       "      <th></th>\n",
       "      <th></th>\n",
       "      <th></th>\n",
       "      <th></th>\n",
       "      <th></th>\n",
       "      <th></th>\n",
       "      <th></th>\n",
       "      <th></th>\n",
       "      <th></th>\n",
       "      <th></th>\n",
       "      <th></th>\n",
       "      <th></th>\n",
       "      <th></th>\n",
       "      <th></th>\n",
       "      <th></th>\n",
       "      <th></th>\n",
       "      <th></th>\n",
       "      <th></th>\n",
       "      <th></th>\n",
       "      <th></th>\n",
       "      <th></th>\n",
       "      <th></th>\n",
       "      <th></th>\n",
       "      <th></th>\n",
       "      <th></th>\n",
       "      <th></th>\n",
       "      <th></th>\n",
       "      <th></th>\n",
       "      <th></th>\n",
       "      <th></th>\n",
       "      <th></th>\n",
       "      <th></th>\n",
       "    </tr>\n",
       "  </thead>\n",
       "  <tbody>\n",
       "    <tr>\n",
       "      <th>40919696896</th>\n",
       "      <td>2023051100262</td>\n",
       "      <td>SDSSr_65mm~empty</td>\n",
       "      <td>r</td>\n",
       "      <td>239.946728</td>\n",
       "      <td>-24.053747</td>\n",
       "      <td>56.749516</td>\n",
       "      <td>27.690649</td>\n",
       "      <td>7.814408</td>\n",
       "      <td>11.197219</td>\n",
       "      <td>7.856582</td>\n",
       "      <td>0.026538</td>\n",
       "      <td>0.014041</td>\n",
       "      <td>42</td>\n",
       "      <td>-0.007038</td>\n",
       "      <td>0.000486</td>\n",
       "      <td>0.032627</td>\n",
       "      <td>0.014318</td>\n",
       "      <td>0.107089</td>\n",
       "      <td>0.110564</td>\n",
       "      <td>0.013839</td>\n",
       "      <td>0.879543</td>\n",
       "      <td>2160.236328</td>\n",
       "      <td>0.207786</td>\n",
       "      <td>0.016376</td>\n",
       "      <td>2.679237</td>\n",
       "      <td>0.157862</td>\n",
       "      <td>-24.053747</td>\n",
       "      <td>0</td>\n",
       "      <td>1.761132</td>\n",
       "      <td>322.911701</td>\n",
       "      <td>2023-05-12 01:08:56.302993</td>\n",
       "      <td>60076.047874</td>\n",
       "      <td>30.0</td>\n",
       "      <td>2023-05-12 01:08:41.302993</td>\n",
       "      <td>60076.047700</td>\n",
       "      <td>30.2434</td>\n",
       "      <td>4071</td>\n",
       "      <td>3999</td>\n",
       "      <td>239.935567</td>\n",
       "      <td>-24.128924</td>\n",
       "      <td>240.029265</td>\n",
       "      <td>-24.062574</td>\n",
       "      <td>239.957876</td>\n",
       "      <td>-23.978569</td>\n",
       "      <td>239.864202</td>\n",
       "      <td>-24.044875</td>\n",
       "    </tr>\n",
       "    <tr>\n",
       "      <th>40919697152</th>\n",
       "      <td>2023051100263</td>\n",
       "      <td>SDSSg_65mm~empty</td>\n",
       "      <td>g</td>\n",
       "      <td>239.941334</td>\n",
       "      <td>-24.038378</td>\n",
       "      <td>56.289413</td>\n",
       "      <td>27.925329</td>\n",
       "      <td>7.783146</td>\n",
       "      <td>3.989901</td>\n",
       "      <td>7.472743</td>\n",
       "      <td>0.024001</td>\n",
       "      <td>0.011537</td>\n",
       "      <td>17</td>\n",
       "      <td>0.020877</td>\n",
       "      <td>0.003123</td>\n",
       "      <td>0.037679</td>\n",
       "      <td>0.028327</td>\n",
       "      <td>0.131853</td>\n",
       "      <td>0.174565</td>\n",
       "      <td>0.021897</td>\n",
       "      <td>5.176466</td>\n",
       "      <td>2552.229980</td>\n",
       "      <td>0.905713</td>\n",
       "      <td>0.016508</td>\n",
       "      <td>7.518984</td>\n",
       "      <td>0.243232</td>\n",
       "      <td>-24.038378</td>\n",
       "      <td>0</td>\n",
       "      <td>1.754283</td>\n",
       "      <td>170.005077</td>\n",
       "      <td>2023-05-12 01:11:06.209005</td>\n",
       "      <td>60076.049377</td>\n",
       "      <td>30.0</td>\n",
       "      <td>2023-05-12 01:10:51.209005</td>\n",
       "      <td>60076.049204</td>\n",
       "      <td>30.2343</td>\n",
       "      <td>4071</td>\n",
       "      <td>3999</td>\n",
       "      <td>239.988739</td>\n",
       "      <td>-23.976095</td>\n",
       "      <td>239.872244</td>\n",
       "      <td>-23.996199</td>\n",
       "      <td>239.893884</td>\n",
       "      <td>-24.100647</td>\n",
       "      <td>240.010470</td>\n",
       "      <td>-24.080526</td>\n",
       "    </tr>\n",
       "    <tr>\n",
       "      <th>40919697408</th>\n",
       "      <td>2023051100264</td>\n",
       "      <td>SDSSi_65mm~empty</td>\n",
       "      <td>i</td>\n",
       "      <td>239.938164</td>\n",
       "      <td>-24.036848</td>\n",
       "      <td>55.439133</td>\n",
       "      <td>27.837013</td>\n",
       "      <td>6.324102</td>\n",
       "      <td>28.071854</td>\n",
       "      <td>8.586543</td>\n",
       "      <td>0.026761</td>\n",
       "      <td>0.017073</td>\n",
       "      <td>39</td>\n",
       "      <td>0.007049</td>\n",
       "      <td>-0.012680</td>\n",
       "      <td>0.025506</td>\n",
       "      <td>0.043905</td>\n",
       "      <td>0.010775</td>\n",
       "      <td>0.095402</td>\n",
       "      <td>0.015088</td>\n",
       "      <td>0.304010</td>\n",
       "      <td>1387.484985</td>\n",
       "      <td>0.165707</td>\n",
       "      <td>0.025004</td>\n",
       "      <td>1.068686</td>\n",
       "      <td>0.206713</td>\n",
       "      <td>-24.036848</td>\n",
       "      <td>0</td>\n",
       "      <td>1.425322</td>\n",
       "      <td>170.004955</td>\n",
       "      <td>2023-05-12 01:15:04.912000</td>\n",
       "      <td>60076.052140</td>\n",
       "      <td>30.0</td>\n",
       "      <td>2023-05-12 01:14:49.912000</td>\n",
       "      <td>60076.051967</td>\n",
       "      <td>30.2335</td>\n",
       "      <td>4071</td>\n",
       "      <td>3999</td>\n",
       "      <td>239.985571</td>\n",
       "      <td>-23.974553</td>\n",
       "      <td>239.869115</td>\n",
       "      <td>-23.994653</td>\n",
       "      <td>239.890710</td>\n",
       "      <td>-24.099127</td>\n",
       "      <td>240.007258</td>\n",
       "      <td>-24.079012</td>\n",
       "    </tr>\n",
       "    <tr>\n",
       "      <th>40919698432</th>\n",
       "      <td>2023051100268</td>\n",
       "      <td>SDSSr_65mm~empty</td>\n",
       "      <td>r</td>\n",
       "      <td>239.964414</td>\n",
       "      <td>-24.045512</td>\n",
       "      <td>54.482189</td>\n",
       "      <td>27.765863</td>\n",
       "      <td>8.100543</td>\n",
       "      <td>10.701077</td>\n",
       "      <td>7.854048</td>\n",
       "      <td>0.024562</td>\n",
       "      <td>0.014017</td>\n",
       "      <td>32</td>\n",
       "      <td>-0.001813</td>\n",
       "      <td>-0.007225</td>\n",
       "      <td>0.012738</td>\n",
       "      <td>0.015732</td>\n",
       "      <td>0.153432</td>\n",
       "      <td>0.113233</td>\n",
       "      <td>0.013615</td>\n",
       "      <td>0.492057</td>\n",
       "      <td>2023.047119</td>\n",
       "      <td>0.232399</td>\n",
       "      <td>0.015240</td>\n",
       "      <td>2.803456</td>\n",
       "      <td>0.181321</td>\n",
       "      <td>-24.045512</td>\n",
       "      <td>0</td>\n",
       "      <td>1.825525</td>\n",
       "      <td>323.867206</td>\n",
       "      <td>2023-05-12 01:19:39.311494</td>\n",
       "      <td>60076.055316</td>\n",
       "      <td>30.0</td>\n",
       "      <td>2023-05-12 01:19:24.311494</td>\n",
       "      <td>60076.055142</td>\n",
       "      <td>30.2379</td>\n",
       "      <td>4071</td>\n",
       "      <td>3999</td>\n",
       "      <td>239.951871</td>\n",
       "      <td>-24.120505</td>\n",
       "      <td>240.046767</td>\n",
       "      <td>-24.055593</td>\n",
       "      <td>239.976942</td>\n",
       "      <td>-23.970518</td>\n",
       "      <td>239.882074</td>\n",
       "      <td>-24.035387</td>\n",
       "    </tr>\n",
       "    <tr>\n",
       "      <th>40919698944</th>\n",
       "      <td>2023051100270</td>\n",
       "      <td>SDSSi_65mm~empty</td>\n",
       "      <td>i</td>\n",
       "      <td>239.961137</td>\n",
       "      <td>-24.046364</td>\n",
       "      <td>53.849274</td>\n",
       "      <td>27.847099</td>\n",
       "      <td>6.745777</td>\n",
       "      <td>23.952093</td>\n",
       "      <td>8.440446</td>\n",
       "      <td>0.023946</td>\n",
       "      <td>0.012757</td>\n",
       "      <td>33</td>\n",
       "      <td>-0.011323</td>\n",
       "      <td>0.002748</td>\n",
       "      <td>0.035845</td>\n",
       "      <td>0.022814</td>\n",
       "      <td>-0.030170</td>\n",
       "      <td>0.125044</td>\n",
       "      <td>0.018293</td>\n",
       "      <td>1.152671</td>\n",
       "      <td>1726.039673</td>\n",
       "      <td>0.173889</td>\n",
       "      <td>0.021975</td>\n",
       "      <td>1.252500</td>\n",
       "      <td>0.210590</td>\n",
       "      <td>-24.046364</td>\n",
       "      <td>0</td>\n",
       "      <td>1.520381</td>\n",
       "      <td>170.004124</td>\n",
       "      <td>2023-05-12 01:22:36.150002</td>\n",
       "      <td>60076.057363</td>\n",
       "      <td>30.0</td>\n",
       "      <td>2023-05-12 01:22:21.150002</td>\n",
       "      <td>60076.057189</td>\n",
       "      <td>30.2424</td>\n",
       "      <td>4071</td>\n",
       "      <td>3999</td>\n",
       "      <td>240.008535</td>\n",
       "      <td>-23.984061</td>\n",
       "      <td>239.892085</td>\n",
       "      <td>-24.004162</td>\n",
       "      <td>239.913693</td>\n",
       "      <td>-24.108652</td>\n",
       "      <td>240.030234</td>\n",
       "      <td>-24.088534</td>\n",
       "    </tr>\n",
       "    <tr>\n",
       "      <th>...</th>\n",
       "      <td>...</td>\n",
       "      <td>...</td>\n",
       "      <td>...</td>\n",
       "      <td>...</td>\n",
       "      <td>...</td>\n",
       "      <td>...</td>\n",
       "      <td>...</td>\n",
       "      <td>...</td>\n",
       "      <td>...</td>\n",
       "      <td>...</td>\n",
       "      <td>...</td>\n",
       "      <td>...</td>\n",
       "      <td>...</td>\n",
       "      <td>...</td>\n",
       "      <td>...</td>\n",
       "      <td>...</td>\n",
       "      <td>...</td>\n",
       "      <td>...</td>\n",
       "      <td>...</td>\n",
       "      <td>...</td>\n",
       "      <td>...</td>\n",
       "      <td>...</td>\n",
       "      <td>...</td>\n",
       "      <td>...</td>\n",
       "      <td>...</td>\n",
       "      <td>...</td>\n",
       "      <td>...</td>\n",
       "      <td>...</td>\n",
       "      <td>...</td>\n",
       "      <td>...</td>\n",
       "      <td>...</td>\n",
       "      <td>...</td>\n",
       "      <td>...</td>\n",
       "      <td>...</td>\n",
       "      <td>...</td>\n",
       "      <td>...</td>\n",
       "      <td>...</td>\n",
       "      <td>...</td>\n",
       "      <td>...</td>\n",
       "      <td>...</td>\n",
       "      <td>...</td>\n",
       "      <td>...</td>\n",
       "      <td>...</td>\n",
       "      <td>...</td>\n",
       "      <td>...</td>\n",
       "      <td>...</td>\n",
       "    </tr>\n",
       "    <tr>\n",
       "      <th>43134264832</th>\n",
       "      <td>2024013000166</td>\n",
       "      <td>empty~SDSSy_65mm</td>\n",
       "      <td>y</td>\n",
       "      <td>122.428828</td>\n",
       "      <td>-36.166063</td>\n",
       "      <td>5.993765</td>\n",
       "      <td>26.073267</td>\n",
       "      <td>4.577834</td>\n",
       "      <td>14.221478</td>\n",
       "      <td>8.110322</td>\n",
       "      <td>0.012466</td>\n",
       "      <td>0.007235</td>\n",
       "      <td>67</td>\n",
       "      <td>0.005375</td>\n",
       "      <td>-0.003194</td>\n",
       "      <td>0.033592</td>\n",
       "      <td>0.025067</td>\n",
       "      <td>-0.021962</td>\n",
       "      <td>0.087823</td>\n",
       "      <td>0.019033</td>\n",
       "      <td>0.437758</td>\n",
       "      <td>1227.355591</td>\n",
       "      <td>0.024230</td>\n",
       "      <td>0.047718</td>\n",
       "      <td>2.109485</td>\n",
       "      <td>0.008024</td>\n",
       "      <td>-36.166063</td>\n",
       "      <td>0</td>\n",
       "      <td>1.031667</td>\n",
       "      <td>359.999822</td>\n",
       "      <td>2024-01-31 04:14:35.805994</td>\n",
       "      <td>60340.176803</td>\n",
       "      <td>30.0</td>\n",
       "      <td>2024-01-31 04:14:20.805994</td>\n",
       "      <td>60340.176630</td>\n",
       "      <td>30.2326</td>\n",
       "      <td>4071</td>\n",
       "      <td>3999</td>\n",
       "      <td>122.362606</td>\n",
       "      <td>-36.219921</td>\n",
       "      <td>122.496767</td>\n",
       "      <td>-36.218499</td>\n",
       "      <td>122.494959</td>\n",
       "      <td>-36.112169</td>\n",
       "      <td>122.360980</td>\n",
       "      <td>-36.113589</td>\n",
       "    </tr>\n",
       "    <tr>\n",
       "      <th>43134265088</th>\n",
       "      <td>2024013000167</td>\n",
       "      <td>SDSSg_65mm~empty</td>\n",
       "      <td>g</td>\n",
       "      <td>122.520273</td>\n",
       "      <td>-36.165952</td>\n",
       "      <td>6.002423</td>\n",
       "      <td>28.069672</td>\n",
       "      <td>4.562790</td>\n",
       "      <td>11.795321</td>\n",
       "      <td>7.969728</td>\n",
       "      <td>0.010483</td>\n",
       "      <td>0.004879</td>\n",
       "      <td>109</td>\n",
       "      <td>-0.001298</td>\n",
       "      <td>-0.013367</td>\n",
       "      <td>0.033533</td>\n",
       "      <td>0.024191</td>\n",
       "      <td>-0.014490</td>\n",
       "      <td>0.086460</td>\n",
       "      <td>0.019074</td>\n",
       "      <td>0.699273</td>\n",
       "      <td>908.760864</td>\n",
       "      <td>1.162963</td>\n",
       "      <td>0.048033</td>\n",
       "      <td>2.543381</td>\n",
       "      <td>0.317318</td>\n",
       "      <td>-36.165952</td>\n",
       "      <td>0</td>\n",
       "      <td>1.028190</td>\n",
       "      <td>0.000666</td>\n",
       "      <td>2024-01-31 04:16:02.589490</td>\n",
       "      <td>60340.177808</td>\n",
       "      <td>30.0</td>\n",
       "      <td>2024-01-31 04:15:47.589490</td>\n",
       "      <td>60340.177634</td>\n",
       "      <td>30.2333</td>\n",
       "      <td>4071</td>\n",
       "      <td>3999</td>\n",
       "      <td>122.454059</td>\n",
       "      <td>-36.219803</td>\n",
       "      <td>122.588204</td>\n",
       "      <td>-36.218390</td>\n",
       "      <td>122.586395</td>\n",
       "      <td>-36.112065</td>\n",
       "      <td>122.452432</td>\n",
       "      <td>-36.113476</td>\n",
       "    </tr>\n",
       "    <tr>\n",
       "      <th>43134265344</th>\n",
       "      <td>2024013000168</td>\n",
       "      <td>SDSSr_65mm~empty</td>\n",
       "      <td>r</td>\n",
       "      <td>122.520391</td>\n",
       "      <td>-36.165943</td>\n",
       "      <td>6.013887</td>\n",
       "      <td>27.856039</td>\n",
       "      <td>4.841956</td>\n",
       "      <td>9.200282</td>\n",
       "      <td>7.873821</td>\n",
       "      <td>0.013488</td>\n",
       "      <td>0.006209</td>\n",
       "      <td>121</td>\n",
       "      <td>0.002316</td>\n",
       "      <td>0.003846</td>\n",
       "      <td>0.033141</td>\n",
       "      <td>0.024356</td>\n",
       "      <td>-0.008863</td>\n",
       "      <td>0.054340</td>\n",
       "      <td>0.011123</td>\n",
       "      <td>0.568077</td>\n",
       "      <td>607.322266</td>\n",
       "      <td>0.893283</td>\n",
       "      <td>0.042654</td>\n",
       "      <td>3.260770</td>\n",
       "      <td>0.214087</td>\n",
       "      <td>-36.165943</td>\n",
       "      <td>0</td>\n",
       "      <td>1.091082</td>\n",
       "      <td>0.000540</td>\n",
       "      <td>2024-01-31 04:16:49.368995</td>\n",
       "      <td>60340.178349</td>\n",
       "      <td>30.0</td>\n",
       "      <td>2024-01-31 04:16:34.368995</td>\n",
       "      <td>60340.178176</td>\n",
       "      <td>30.2265</td>\n",
       "      <td>4071</td>\n",
       "      <td>3999</td>\n",
       "      <td>122.454177</td>\n",
       "      <td>-36.219793</td>\n",
       "      <td>122.588325</td>\n",
       "      <td>-36.218377</td>\n",
       "      <td>122.586515</td>\n",
       "      <td>-36.112057</td>\n",
       "      <td>122.452549</td>\n",
       "      <td>-36.113472</td>\n",
       "    </tr>\n",
       "    <tr>\n",
       "      <th>43134265600</th>\n",
       "      <td>2024013000169</td>\n",
       "      <td>SDSSz_65mm~empty</td>\n",
       "      <td>z</td>\n",
       "      <td>122.520373</td>\n",
       "      <td>-36.165951</td>\n",
       "      <td>6.028749</td>\n",
       "      <td>27.324080</td>\n",
       "      <td>5.360331</td>\n",
       "      <td>16.084967</td>\n",
       "      <td>8.187736</td>\n",
       "      <td>0.010447</td>\n",
       "      <td>0.005809</td>\n",
       "      <td>27</td>\n",
       "      <td>0.001900</td>\n",
       "      <td>0.000604</td>\n",
       "      <td>0.031006</td>\n",
       "      <td>0.015473</td>\n",
       "      <td>-0.011240</td>\n",
       "      <td>0.061504</td>\n",
       "      <td>0.010587</td>\n",
       "      <td>0.815424</td>\n",
       "      <td>3160.135742</td>\n",
       "      <td>0.156481</td>\n",
       "      <td>0.034803</td>\n",
       "      <td>1.865096</td>\n",
       "      <td>0.080357</td>\n",
       "      <td>-36.165951</td>\n",
       "      <td>0</td>\n",
       "      <td>1.207755</td>\n",
       "      <td>359.999892</td>\n",
       "      <td>2024-01-31 04:17:33.466999</td>\n",
       "      <td>60340.178860</td>\n",
       "      <td>30.0</td>\n",
       "      <td>2024-01-31 04:17:18.466999</td>\n",
       "      <td>60340.178686</td>\n",
       "      <td>30.2680</td>\n",
       "      <td>4071</td>\n",
       "      <td>3999</td>\n",
       "      <td>122.454163</td>\n",
       "      <td>-36.219791</td>\n",
       "      <td>122.588306</td>\n",
       "      <td>-36.218373</td>\n",
       "      <td>122.586491</td>\n",
       "      <td>-36.112074</td>\n",
       "      <td>122.452530</td>\n",
       "      <td>-36.113490</td>\n",
       "    </tr>\n",
       "    <tr>\n",
       "      <th>43134265856</th>\n",
       "      <td>2024013000170</td>\n",
       "      <td>empty~SDSSy_65mm</td>\n",
       "      <td>y</td>\n",
       "      <td>122.520784</td>\n",
       "      <td>-36.165975</td>\n",
       "      <td>6.049546</td>\n",
       "      <td>26.214890</td>\n",
       "      <td>8.200642</td>\n",
       "      <td>14.658229</td>\n",
       "      <td>8.150498</td>\n",
       "      <td>0.019129</td>\n",
       "      <td>0.011223</td>\n",
       "      <td>44</td>\n",
       "      <td>-0.055608</td>\n",
       "      <td>0.024479</td>\n",
       "      <td>0.017686</td>\n",
       "      <td>0.017519</td>\n",
       "      <td>0.750685</td>\n",
       "      <td>0.141419</td>\n",
       "      <td>0.014587</td>\n",
       "      <td>0.411785</td>\n",
       "      <td>971.511536</td>\n",
       "      <td>0.009509</td>\n",
       "      <td>0.014870</td>\n",
       "      <td>2.046632</td>\n",
       "      <td>0.010415</td>\n",
       "      <td>-36.165975</td>\n",
       "      <td>0</td>\n",
       "      <td>1.848087</td>\n",
       "      <td>0.000237</td>\n",
       "      <td>2024-01-31 04:18:21.970002</td>\n",
       "      <td>60340.179421</td>\n",
       "      <td>30.0</td>\n",
       "      <td>2024-01-31 04:18:06.970002</td>\n",
       "      <td>60340.179247</td>\n",
       "      <td>30.2305</td>\n",
       "      <td>4071</td>\n",
       "      <td>3999</td>\n",
       "      <td>122.454565</td>\n",
       "      <td>-36.219824</td>\n",
       "      <td>122.588725</td>\n",
       "      <td>-36.218418</td>\n",
       "      <td>122.586912</td>\n",
       "      <td>-36.112089</td>\n",
       "      <td>122.452934</td>\n",
       "      <td>-36.113493</td>\n",
       "    </tr>\n",
       "  </tbody>\n",
       "</table>\n",
       "<p>3588 rows × 46 columns</p>\n",
       "</div>"
      ],
      "text/plain": [
       "                   visitId   physical_filter band          ra        dec  \\\n",
       "ccdVisitId                                                                 \n",
       "40919696896  2023051100262  SDSSr_65mm~empty    r  239.946728 -24.053747   \n",
       "40919697152  2023051100263  SDSSg_65mm~empty    g  239.941334 -24.038378   \n",
       "40919697408  2023051100264  SDSSi_65mm~empty    i  239.938164 -24.036848   \n",
       "40919698432  2023051100268  SDSSr_65mm~empty    r  239.964414 -24.045512   \n",
       "40919698944  2023051100270  SDSSi_65mm~empty    i  239.961137 -24.046364   \n",
       "...                    ...               ...  ...         ...        ...   \n",
       "43134264832  2024013000166  empty~SDSSy_65mm    y  122.428828 -36.166063   \n",
       "43134265088  2024013000167  SDSSg_65mm~empty    g  122.520273 -36.165952   \n",
       "43134265344  2024013000168  SDSSr_65mm~empty    r  122.520391 -36.165943   \n",
       "43134265600  2024013000169  SDSSz_65mm~empty    z  122.520373 -36.165951   \n",
       "43134265856  2024013000170  empty~SDSSy_65mm    y  122.520784 -36.165975   \n",
       "\n",
       "             zenithDistance  zeroPoint  psfSigma      skyBg  skyNoise  \\\n",
       "ccdVisitId                                                              \n",
       "40919696896       56.749516  27.690649  7.814408  11.197219  7.856582   \n",
       "40919697152       56.289413  27.925329  7.783146   3.989901  7.472743   \n",
       "40919697408       55.439133  27.837013  6.324102  28.071854  8.586543   \n",
       "40919698432       54.482189  27.765863  8.100543  10.701077  7.854048   \n",
       "40919698944       53.849274  27.847099  6.745777  23.952093  8.440446   \n",
       "...                     ...        ...       ...        ...       ...   \n",
       "43134264832        5.993765  26.073267  4.577834  14.221478  8.110322   \n",
       "43134265088        6.002423  28.069672  4.562790  11.795321  7.969728   \n",
       "43134265344        6.013887  27.856039  4.841956   9.200282  7.873821   \n",
       "43134265600        6.028749  27.324080  5.360331  16.084967  8.187736   \n",
       "43134265856        6.049546  26.214890  8.200642  14.658229  8.150498   \n",
       "\n",
       "             astromOffsetMean  astromOffsetStd  nPsfStar  \\\n",
       "ccdVisitId                                                 \n",
       "40919696896          0.026538         0.014041        42   \n",
       "40919697152          0.024001         0.011537        17   \n",
       "40919697408          0.026761         0.017073        39   \n",
       "40919698432          0.024562         0.014017        32   \n",
       "40919698944          0.023946         0.012757        33   \n",
       "...                       ...              ...       ...   \n",
       "43134264832          0.012466         0.007235        67   \n",
       "43134265088          0.010483         0.004879       109   \n",
       "43134265344          0.013488         0.006209       121   \n",
       "43134265600          0.010447         0.005809        27   \n",
       "43134265856          0.019129         0.011223        44   \n",
       "\n",
       "             psfStarDeltaE1Median  psfStarDeltaE2Median  \\\n",
       "ccdVisitId                                                \n",
       "40919696896             -0.007038              0.000486   \n",
       "40919697152              0.020877              0.003123   \n",
       "40919697408              0.007049             -0.012680   \n",
       "40919698432             -0.001813             -0.007225   \n",
       "40919698944             -0.011323              0.002748   \n",
       "...                           ...                   ...   \n",
       "43134264832              0.005375             -0.003194   \n",
       "43134265088             -0.001298             -0.013367   \n",
       "43134265344              0.002316              0.003846   \n",
       "43134265600              0.001900              0.000604   \n",
       "43134265856             -0.055608              0.024479   \n",
       "\n",
       "             psfStarDeltaE1Scatter  psfStarDeltaE2Scatter  \\\n",
       "ccdVisitId                                                  \n",
       "40919696896               0.032627               0.014318   \n",
       "40919697152               0.037679               0.028327   \n",
       "40919697408               0.025506               0.043905   \n",
       "40919698432               0.012738               0.015732   \n",
       "40919698944               0.035845               0.022814   \n",
       "...                            ...                    ...   \n",
       "43134264832               0.033592               0.025067   \n",
       "43134265088               0.033533               0.024191   \n",
       "43134265344               0.033141               0.024356   \n",
       "43134265600               0.031006               0.015473   \n",
       "43134265856               0.017686               0.017519   \n",
       "\n",
       "             psfStarDeltaSizeMedian  psfStarDeltaSizeScatter  \\\n",
       "ccdVisitId                                                     \n",
       "40919696896                0.107089                 0.110564   \n",
       "40919697152                0.131853                 0.174565   \n",
       "40919697408                0.010775                 0.095402   \n",
       "40919698432                0.153432                 0.113233   \n",
       "40919698944               -0.030170                 0.125044   \n",
       "...                             ...                      ...   \n",
       "43134264832               -0.021962                 0.087823   \n",
       "43134265088               -0.014490                 0.086460   \n",
       "43134265344               -0.008863                 0.054340   \n",
       "43134265600               -0.011240                 0.061504   \n",
       "43134265856                0.750685                 0.141419   \n",
       "\n",
       "             psfStarScaledDeltaSizeScatter  psfTraceRadiusDelta  \\\n",
       "ccdVisitId                                                        \n",
       "40919696896                       0.013839             0.879543   \n",
       "40919697152                       0.021897             5.176466   \n",
       "40919697408                       0.015088             0.304010   \n",
       "40919698432                       0.013615             0.492057   \n",
       "40919698944                       0.018293             1.152671   \n",
       "...                                    ...                  ...   \n",
       "43134264832                       0.019033             0.437758   \n",
       "43134265088                       0.019074             0.699273   \n",
       "43134265344                       0.011123             0.568077   \n",
       "43134265600                       0.010587             0.815424   \n",
       "43134265856                       0.014587             0.411785   \n",
       "\n",
       "             maxDistToNearestPsf   effTime  effTimePsfSigmaScale  \\\n",
       "ccdVisitId                                                         \n",
       "40919696896          2160.236328  0.207786              0.016376   \n",
       "40919697152          2552.229980  0.905713              0.016508   \n",
       "40919697408          1387.484985  0.165707              0.025004   \n",
       "40919698432          2023.047119  0.232399              0.015240   \n",
       "40919698944          1726.039673  0.173889              0.021975   \n",
       "...                          ...       ...                   ...   \n",
       "43134264832          1227.355591  0.024230              0.047718   \n",
       "43134265088           908.760864  1.162963              0.048033   \n",
       "43134265344           607.322266  0.893283              0.042654   \n",
       "43134265600          3160.135742  0.156481              0.034803   \n",
       "43134265856           971.511536  0.009509              0.014870   \n",
       "\n",
       "             effTimeSkyBgScale  effTimeZeroPointScale       decl  detector  \\\n",
       "ccdVisitId                                                                   \n",
       "40919696896           2.679237               0.157862 -24.053747         0   \n",
       "40919697152           7.518984               0.243232 -24.038378         0   \n",
       "40919697408           1.068686               0.206713 -24.036848         0   \n",
       "40919698432           2.803456               0.181321 -24.045512         0   \n",
       "40919698944           1.252500               0.210590 -24.046364         0   \n",
       "...                        ...                    ...        ...       ...   \n",
       "43134264832           2.109485               0.008024 -36.166063         0   \n",
       "43134265088           2.543381               0.317318 -36.165952         0   \n",
       "43134265344           3.260770               0.214087 -36.165943         0   \n",
       "43134265600           1.865096               0.080357 -36.165951         0   \n",
       "43134265856           2.046632               0.010415 -36.165975         0   \n",
       "\n",
       "               seeing  skyRotation                   expMidpt   expMidptMJD  \\\n",
       "ccdVisitId                                                                    \n",
       "40919696896  1.761132   322.911701 2023-05-12 01:08:56.302993  60076.047874   \n",
       "40919697152  1.754283   170.005077 2023-05-12 01:11:06.209005  60076.049377   \n",
       "40919697408  1.425322   170.004955 2023-05-12 01:15:04.912000  60076.052140   \n",
       "40919698432  1.825525   323.867206 2023-05-12 01:19:39.311494  60076.055316   \n",
       "40919698944  1.520381   170.004124 2023-05-12 01:22:36.150002  60076.057363   \n",
       "...               ...          ...                        ...           ...   \n",
       "43134264832  1.031667   359.999822 2024-01-31 04:14:35.805994  60340.176803   \n",
       "43134265088  1.028190     0.000666 2024-01-31 04:16:02.589490  60340.177808   \n",
       "43134265344  1.091082     0.000540 2024-01-31 04:16:49.368995  60340.178349   \n",
       "43134265600  1.207755   359.999892 2024-01-31 04:17:33.466999  60340.178860   \n",
       "43134265856  1.848087     0.000237 2024-01-31 04:18:21.970002  60340.179421   \n",
       "\n",
       "             expTime                   obsStart   obsStartMJD  darkTime  \\\n",
       "ccdVisitId                                                                \n",
       "40919696896     30.0 2023-05-12 01:08:41.302993  60076.047700   30.2434   \n",
       "40919697152     30.0 2023-05-12 01:10:51.209005  60076.049204   30.2343   \n",
       "40919697408     30.0 2023-05-12 01:14:49.912000  60076.051967   30.2335   \n",
       "40919698432     30.0 2023-05-12 01:19:24.311494  60076.055142   30.2379   \n",
       "40919698944     30.0 2023-05-12 01:22:21.150002  60076.057189   30.2424   \n",
       "...              ...                        ...           ...       ...   \n",
       "43134264832     30.0 2024-01-31 04:14:20.805994  60340.176630   30.2326   \n",
       "43134265088     30.0 2024-01-31 04:15:47.589490  60340.177634   30.2333   \n",
       "43134265344     30.0 2024-01-31 04:16:34.368995  60340.178176   30.2265   \n",
       "43134265600     30.0 2024-01-31 04:17:18.466999  60340.178686   30.2680   \n",
       "43134265856     30.0 2024-01-31 04:18:06.970002  60340.179247   30.2305   \n",
       "\n",
       "             xSize  ySize       llcra     llcdec       ulcra     ulcdec  \\\n",
       "ccdVisitId                                                                \n",
       "40919696896   4071   3999  239.935567 -24.128924  240.029265 -24.062574   \n",
       "40919697152   4071   3999  239.988739 -23.976095  239.872244 -23.996199   \n",
       "40919697408   4071   3999  239.985571 -23.974553  239.869115 -23.994653   \n",
       "40919698432   4071   3999  239.951871 -24.120505  240.046767 -24.055593   \n",
       "40919698944   4071   3999  240.008535 -23.984061  239.892085 -24.004162   \n",
       "...            ...    ...         ...        ...         ...        ...   \n",
       "43134264832   4071   3999  122.362606 -36.219921  122.496767 -36.218499   \n",
       "43134265088   4071   3999  122.454059 -36.219803  122.588204 -36.218390   \n",
       "43134265344   4071   3999  122.454177 -36.219793  122.588325 -36.218377   \n",
       "43134265600   4071   3999  122.454163 -36.219791  122.588306 -36.218373   \n",
       "43134265856   4071   3999  122.454565 -36.219824  122.588725 -36.218418   \n",
       "\n",
       "                  urcra     urcdec       lrcra     lrcdec  \n",
       "ccdVisitId                                                 \n",
       "40919696896  239.957876 -23.978569  239.864202 -24.044875  \n",
       "40919697152  239.893884 -24.100647  240.010470 -24.080526  \n",
       "40919697408  239.890710 -24.099127  240.007258 -24.079012  \n",
       "40919698432  239.976942 -23.970518  239.882074 -24.035387  \n",
       "40919698944  239.913693 -24.108652  240.030234 -24.088534  \n",
       "...                 ...        ...         ...        ...  \n",
       "43134264832  122.494959 -36.112169  122.360980 -36.113589  \n",
       "43134265088  122.586395 -36.112065  122.452432 -36.113476  \n",
       "43134265344  122.586515 -36.112057  122.452549 -36.113472  \n",
       "43134265600  122.586491 -36.112074  122.452530 -36.113490  \n",
       "43134265856  122.586912 -36.112089  122.452934 -36.113493  \n",
       "\n",
       "[3588 rows x 46 columns]"
      ]
     },
     "execution_count": 32,
     "metadata": {},
     "output_type": "execute_result"
    }
   ],
   "source": [
    "ccd_visit_table = butler.get('ccdVisitTable', dataId={'instrument': 'LATISS', 'detector': 0}, collections = my_collection )    \n",
    "ccd_visit_table"
   ]
  },
  {
   "cell_type": "markdown",
   "id": "224511b9-8eb8-4e80-9b71-5f8c45350995",
   "metadata": {},
   "source": [
    "### Compute night obs"
   ]
  },
  {
   "cell_type": "code",
   "execution_count": 33,
   "id": "5f43861a-edef-4f65-8fdd-1fbe6490de6e",
   "metadata": {
    "execution": {
     "iopub.execute_input": "2024-03-05T10:26:19.081452Z",
     "iopub.status.busy": "2024-03-05T10:26:19.081300Z",
     "iopub.status.idle": "2024-03-05T10:26:19.108061Z",
     "shell.execute_reply": "2024-03-05T10:26:19.107582Z",
     "shell.execute_reply.started": "2024-03-05T10:26:19.081439Z"
    }
   },
   "outputs": [],
   "source": [
    "ccd_visit_table[\"nightObs\"] =ccd_visit_table.apply(lambda x: x['visitId']//100_000, axis=1)"
   ]
  },
  {
   "cell_type": "markdown",
   "id": "704c1020-b445-488d-ac43-a51b46662a3e",
   "metadata": {},
   "source": [
    "### Compute datetime to plot vs time"
   ]
  },
  {
   "cell_type": "code",
   "execution_count": 34,
   "id": "05c444f4-a8af-49cd-90d8-48292f9c6dd6",
   "metadata": {
    "execution": {
     "iopub.execute_input": "2024-03-05T10:26:19.109082Z",
     "iopub.status.busy": "2024-03-05T10:26:19.108737Z",
     "iopub.status.idle": "2024-03-05T10:26:19.113552Z",
     "shell.execute_reply": "2024-03-05T10:26:19.113100Z",
     "shell.execute_reply.started": "2024-03-05T10:26:19.109067Z"
    }
   },
   "outputs": [],
   "source": [
    "ccd_visit_table[\"Time\"] = pd.to_datetime(ccd_visit_table['obsStart'])"
   ]
  },
  {
   "cell_type": "markdown",
   "id": "6a8a093f-a39c-4f51-b2b6-684f9d8a5845",
   "metadata": {},
   "source": [
    "#### Compute airmass"
   ]
  },
  {
   "cell_type": "code",
   "execution_count": 35,
   "id": "dba15b25-d2d6-4158-876a-9fc045657ca7",
   "metadata": {
    "execution": {
     "iopub.execute_input": "2024-03-05T10:26:19.114330Z",
     "iopub.status.busy": "2024-03-05T10:26:19.114167Z",
     "iopub.status.idle": "2024-03-05T10:26:19.120524Z",
     "shell.execute_reply": "2024-03-05T10:26:19.120123Z",
     "shell.execute_reply.started": "2024-03-05T10:26:19.114312Z"
    }
   },
   "outputs": [],
   "source": [
    "ccd_visit_table[\"airmass\"] = ccd_visit_table[\"zenithDistance\"].apply(lambda x: 1/np.cos(np.pi/180.*x))"
   ]
  },
  {
   "cell_type": "markdown",
   "id": "d160ee01-baff-45c3-8f0a-2b4338fe7bb2",
   "metadata": {},
   "source": [
    "### Find those visits in the selected tract and patches"
   ]
  },
  {
   "cell_type": "code",
   "execution_count": null,
   "id": "bd8d9613-ab94-439c-95be-1d542319e945",
   "metadata": {
    "execution": {
     "iopub.execute_input": "2024-03-05T10:26:19.121147Z",
     "iopub.status.busy": "2024-03-05T10:26:19.120990Z"
    }
   },
   "outputs": [],
   "source": [
    "ccd_visit_table[[\"tractID\",\"patchID\"]] = ccd_visit_table.apply( FindTractAndPatch, axis=1,result_type ='expand')"
   ]
  },
  {
   "cell_type": "code",
   "execution_count": null,
   "id": "8264a43c-2506-41a2-85ef-17e11c96ac6a",
   "metadata": {},
   "outputs": [],
   "source": [
    "ccd_visit_table.head()"
   ]
  },
  {
   "cell_type": "code",
   "execution_count": null,
   "id": "f6a0faa2-60c5-4e03-9680-a0e1eccce099",
   "metadata": {},
   "outputs": [],
   "source": [
    "ccd_visit_table.tail()"
   ]
  },
  {
   "cell_type": "markdown",
   "id": "426e08cd-2219-4400-9d3d-1f2a064ce665",
   "metadata": {},
   "source": [
    "## Find those visits in the selected tract and patches"
   ]
  },
  {
   "cell_type": "markdown",
   "id": "c417f707-14a1-40b5-bb3f-f362d06cab80",
   "metadata": {},
   "source": [
    "### Patch 294 and 313"
   ]
  },
  {
   "cell_type": "code",
   "execution_count": null,
   "id": "d7db10c8-2451-453c-8658-8800149790a9",
   "metadata": {},
   "outputs": [],
   "source": [
    "tract_selected = 5615\n",
    "patch_selected = 294\n",
    "#patch_selected = 313\n",
    "suptitle = f\"CCD visit in tract {tract_selected} and patch {patch_selected}\""
   ]
  },
  {
   "cell_type": "code",
   "execution_count": null,
   "id": "42b1477d-0fe2-439f-8322-b0fe5ea5c7dc",
   "metadata": {},
   "outputs": [],
   "source": [
    "ccd_visit_table1 = ccd_visit_table\n",
    "ccd_visit_table1[\"selectedFlag\"] = ccd_visit_table1[[\"tractID\",\"patchID\"]].apply(lambda x: x[0] == tract_selected and x[1] == patch_selected,axis =1, raw= True )"
   ]
  },
  {
   "cell_type": "code",
   "execution_count": null,
   "id": "838fe146-dfd9-4aa8-9299-76e4e460cf29",
   "metadata": {},
   "outputs": [],
   "source": [
    "ccd_visit_table_selected1 = ccd_visit_table1[ccd_visit_table1[\"selectedFlag\"]]"
   ]
  },
  {
   "cell_type": "code",
   "execution_count": null,
   "id": "8c7bd045-efae-47f7-90f3-678ed7c6a258",
   "metadata": {},
   "outputs": [],
   "source": [
    "ccd_visit_table_selected1.drop([\"selectedFlag\"],axis=1,inplace=True) "
   ]
  },
  {
   "cell_type": "code",
   "execution_count": null,
   "id": "554312a5-5184-4ebe-8ad9-0a6b80e16b1d",
   "metadata": {},
   "outputs": [],
   "source": [
    "ccd_visit_table_selected1.columns"
   ]
  },
  {
   "cell_type": "code",
   "execution_count": null,
   "id": "35a22d48-9f0d-41ca-8417-6a11cafde159",
   "metadata": {},
   "outputs": [],
   "source": [
    "df = ccd_visit_table_selected1"
   ]
  },
  {
   "cell_type": "code",
   "execution_count": null,
   "id": "f8e17498-94e2-419a-b8ff-3e5a53bbaf52",
   "metadata": {},
   "outputs": [],
   "source": [
    "fig,(ax1,ax2,ax3) = plt.subplots(3,1,figsize=(16,10))\n",
    "\n",
    "df[df[\"band\"]==\"g\"].plot(x=\"Time\",y=\"zeroPoint\",marker='o',c=\"g\",lw=0.0,ax=ax1,grid=True,legend=False)\n",
    "df[df[\"band\"]==\"r\"].plot(x=\"Time\",y=\"zeroPoint\",marker='o',c=\"r\",lw=0.0,ax=ax1,grid=True,legend=False)\n",
    "df[df[\"band\"]==\"i\"].plot(x=\"Time\",y=\"zeroPoint\",marker='o',c=\"y\",lw=0.0,ax=ax1,grid=True,legend=False)\n",
    "ax1.set_title(\"zeroPoint\")\n",
    "\n",
    "\n",
    "df[df[\"band\"]==\"g\"].plot(x=\"Time\",y=\"zenithDistance\",marker='o',c=\"g\",lw=0.0,ax=ax2,grid=True,legend=False)\n",
    "df[df[\"band\"]==\"r\"].plot(x=\"Time\",y=\"zenithDistance\",marker='o',c=\"r\",lw=0.0,ax=ax2,grid=True,legend=False)\n",
    "df[df[\"band\"]==\"i\"].plot(x=\"Time\",y=\"zenithDistance\",marker='o',c=\"y\",lw=0.0,ax=ax2,grid=True,legend=False)\n",
    "ax2.set_title(\"zenithDistance\")\n",
    "\n",
    "df[df[\"band\"]==\"g\"].plot(x=\"Time\",y=\"airmass\",marker='o',c=\"g\",lw=0.0,ax=ax3,grid=True,legend=False)\n",
    "df[df[\"band\"]==\"r\"].plot(x=\"Time\",y=\"airmass\",marker='o',c=\"r\",lw=0.0,ax=ax3,grid=True,legend=False)\n",
    "df[df[\"band\"]==\"i\"].plot(x=\"Time\",y=\"airmass\",marker='o',c=\"y\",lw=0.0,ax=ax3,grid=True,legend=False)\n",
    "ax3.set_title(\"airmass\")\n",
    "\n",
    "#df.plot(x=\"Time\",y=\"coord_dec\",marker='o',c=\"g\",lw=0.0,ax=ax2,grid=True)\n",
    "plt.suptitle(suptitle,y=1.0,fontsize=16)\n",
    "plt.tight_layout()"
   ]
  },
  {
   "cell_type": "markdown",
   "id": "67a47186-9cd3-4fcb-98da-7692dbd9d463",
   "metadata": {},
   "source": [
    "## Plot number of visit per day"
   ]
  },
  {
   "cell_type": "markdown",
   "id": "eb02c2a2-b738-4a3c-b9c3-e4b11daffdf4",
   "metadata": {
    "execution": {
     "iopub.execute_input": "2024-01-02T10:21:27.939035Z",
     "iopub.status.busy": "2024-01-02T10:21:27.938718Z",
     "iopub.status.idle": "2024-01-02T10:21:27.941179Z",
     "shell.execute_reply": "2024-01-02T10:21:27.940809Z",
     "shell.execute_reply.started": "2024-01-02T10:21:27.939020Z"
    }
   },
   "source": [
    "### Plot number of visit per day for patch 294"
   ]
  },
  {
   "cell_type": "code",
   "execution_count": null,
   "id": "a64907fe-cd28-4ae1-b8e1-c6422a38825b",
   "metadata": {},
   "outputs": [],
   "source": [
    "ccd_visit_table1[\"dayobsMJD\"]=ccd_visit_table1[\"obsStartMJD\"].apply(np.int64)"
   ]
  },
  {
   "cell_type": "code",
   "execution_count": null,
   "id": "e9156195-dfb0-4a50-8aad-b29c8a6cd2d9",
   "metadata": {},
   "outputs": [],
   "source": [
    "ccd_visit_table1.sort_values(by=['nightObs',\"obsStartMJD\"])"
   ]
  },
  {
   "cell_type": "code",
   "execution_count": null,
   "id": "0dc3e02b-a61a-47b2-8731-3129501e2e83",
   "metadata": {},
   "outputs": [],
   "source": [
    "#ccd_visit_table1.sort_values(by=['dayobsMJD']).count()\n",
    "ccd_visit_table_counts = ccd_visit_table1.groupby(['nightObs','band']).count()[\"visitId\"]"
   ]
  },
  {
   "cell_type": "code",
   "execution_count": null,
   "id": "4960d623-24c2-48de-b01c-fcb6672d0655",
   "metadata": {},
   "outputs": [],
   "source": [
    "type(ccd_visit_table_counts)"
   ]
  },
  {
   "cell_type": "code",
   "execution_count": null,
   "id": "b86d723a-1116-4f3e-bbc7-f2dfca7a557b",
   "metadata": {},
   "outputs": [],
   "source": [
    "ccd_visit_table_counts.name='counts'\n",
    "ccd_visit_table_counts"
   ]
  },
  {
   "cell_type": "code",
   "execution_count": null,
   "id": "40d60677-9fcb-4677-a1ba-10691e09a8d7",
   "metadata": {},
   "outputs": [],
   "source": [
    "import matplotlib.ticker\n",
    "fig,ax = plt.subplots(1,1,figsize=(16,10))\n",
    "ccd_visit_table.plot.hist(column=[\"nightObs\"], by=\"band\", bins=200,grid=True,ax=ax,legend=False)\n",
    "\n",
    "\n",
    "# plot x axis as an int\n",
    "locator = matplotlib.ticker.MultipleLocator(2)\n",
    "\n",
    "plt.gca().xaxis.set_major_locator(locator)\n",
    "formatter = matplotlib.ticker.StrMethodFormatter(\"{x:.0f}\")\n",
    "plt.gca().xaxis.set_major_formatter(formatter)\n",
    "plt.gca().xaxis.set_major_locator(plt.MaxNLocator(20))\n",
    "plt.xticks(rotation=90)\n",
    "\n",
    "plt.suptitle(suptitle)\n",
    "plt.tight_layout()"
   ]
  },
  {
   "cell_type": "code",
   "execution_count": null,
   "id": "85da9046-7bb8-4c87-a18d-37c1f4c10fbf",
   "metadata": {},
   "outputs": [],
   "source": [
    "ccd_visit_table1.plot.hist(column=[\"nightObs\"], by=\"band\", bins=200,figsize=(10, 8),grid=True,label=False)\n",
    "plt.suptitle(suptitle)\n",
    "plt.tight_layout()\n"
   ]
  },
  {
   "cell_type": "code",
   "execution_count": null,
   "id": "52be9306-19dc-4bd8-8a1d-63ef82ad2bb4",
   "metadata": {},
   "outputs": [],
   "source": [
    "ccd_visit_table_counts1 = ccd_visit_table1.groupby(['nightObs','band']).count()[\"visitId\"]\n",
    "ccd_visit_table_counts1"
   ]
  },
  {
   "cell_type": "markdown",
   "id": "4694d52f-b86c-4895-b633-d78cfb9ef62b",
   "metadata": {},
   "source": [
    "#### Select one night and plot Zero point and Airmass"
   ]
  },
  {
   "cell_type": "code",
   "execution_count": null,
   "id": "8c4b93e8-eaa8-4706-819e-5f108bf6be08",
   "metadata": {},
   "outputs": [],
   "source": [
    "nightObs_selected = 20230803\n",
    "ccd_visit_table1_sel = ccd_visit_table1[ccd_visit_table1.nightObs == nightObs_selected]"
   ]
  },
  {
   "cell_type": "code",
   "execution_count": null,
   "id": "a8efcad1-6df1-4061-aba1-6e1e7cd249ef",
   "metadata": {},
   "outputs": [],
   "source": [
    "df = ccd_visit_table1_sel"
   ]
  },
  {
   "cell_type": "code",
   "execution_count": null,
   "id": "c88ea44b-81d2-4a8b-a411-11a85cc8256e",
   "metadata": {},
   "outputs": [],
   "source": [
    "fig,(ax1,ax2) = plt.subplots(2,1,figsize=(16,10))\n",
    "\n",
    "df[df[\"band\"]==\"g\"].plot(x=\"Time\",y=\"zeroPoint\",marker='o',c=\"g\",lw=0.0,ax=ax1,grid=True,legend=False)\n",
    "df[df[\"band\"]==\"r\"].plot(x=\"Time\",y=\"zeroPoint\",marker='o',c=\"r\",lw=0.0,ax=ax1,grid=True,legend=False)\n",
    "df[df[\"band\"]==\"i\"].plot(x=\"Time\",y=\"zeroPoint\",marker='o',c=\"y\",lw=0.0,ax=ax1,grid=True,legend=False)\n",
    "ax1.set_title(\"zeroPoint\")\n",
    "\n",
    "df[df[\"band\"]==\"g\"].plot(x=\"Time\",y=\"airmass\",marker='o',c=\"g\",lw=0.0,ax=ax2,grid=True,legend=False)\n",
    "df[df[\"band\"]==\"r\"].plot(x=\"Time\",y=\"airmass\",marker='o',c=\"r\",lw=0.0,ax=ax2,grid=True,legend=False)\n",
    "df[df[\"band\"]==\"i\"].plot(x=\"Time\",y=\"airmass\",marker='o',c=\"y\",lw=0.0,ax=ax2,grid=True,legend=False)\n",
    "ax2.set_title(\"airmass\")\n",
    "\n",
    "#df.plot(x=\"Time\",y=\"coord_dec\",marker='o',c=\"g\",lw=0.0,ax=ax2,grid=True)\n",
    "plt.suptitle(suptitle + f\" night {nightObs_selected}\",y=1.0,fontsize=16)\n",
    "plt.tight_layout()"
   ]
  },
  {
   "cell_type": "code",
   "execution_count": null,
   "id": "53c1d672-3e41-4b46-a55a-ce0a01618d37",
   "metadata": {},
   "outputs": [],
   "source": [
    "fig,ax = plt.subplots(1,1,figsize=(6,6))\n",
    "\n",
    "df[df[\"band\"]==\"g\"].plot.scatter(x=\"airmass\",y=\"zeroPoint\",marker='o',c=\"g\",lw=0.0,ax=ax,grid=True,legend=False)\n",
    "df[df[\"band\"]==\"r\"].plot(x=\"airmass\",y=\"zeroPoint\",marker='o',c=\"r\",lw=0.0,ax=ax,grid=True,legend=False)\n",
    "df[df[\"band\"]==\"i\"].plot(x=\"airmass\",y=\"zeroPoint\",marker='o',c=\"y\",lw=0.0,ax=ax,grid=True,legend=False)\n",
    "ax.set_title(\"zero point vs airmass\")\n",
    "\n",
    "#df.plot(x=\"Time\",y=\"coord_dec\",marker='o',c=\"g\",lw=0.0,ax=ax2,grid=True)\n",
    "plt.suptitle(suptitle + f\" night {nightObs_selected}\",y=1.0,fontsize=10)\n",
    "plt.tight_layout()"
   ]
  },
  {
   "cell_type": "markdown",
   "id": "ecc3d0a7-114d-4d5a-9d1a-b9cd8b900ebc",
   "metadata": {},
   "source": [
    "### Plot number of visit per day for patch 313"
   ]
  },
  {
   "cell_type": "code",
   "execution_count": null,
   "id": "e73d687c-c5f2-4929-b22b-95db3e152ff6",
   "metadata": {},
   "outputs": [],
   "source": [
    "tract_selected = 5615\n",
    "patch_selected = 313\n",
    "suptitle = f\"CCD visit in tract {tract_selected} and patch {patch_selected}\""
   ]
  },
  {
   "cell_type": "code",
   "execution_count": null,
   "id": "40e0fe13-9f73-4818-9fe9-7964c367f738",
   "metadata": {},
   "outputs": [],
   "source": [
    "ccd_visit_table2 = ccd_visit_table\n",
    "ccd_visit_table2[\"selectedFlag\"] = ccd_visit_table2[[\"tractID\",\"patchID\"]].apply(lambda x: x[0] == tract_selected and x[1] == patch_selected,axis =1, raw= True )\n"
   ]
  },
  {
   "cell_type": "code",
   "execution_count": null,
   "id": "eb0934d0-9d3d-4dd2-a00e-bf3a5fa183aa",
   "metadata": {},
   "outputs": [],
   "source": [
    "ccd_visit_table_selected2 = ccd_visit_table1[ccd_visit_table2[\"selectedFlag\"]]\n",
    "ccd_visit_table_selected2.drop([\"selectedFlag\"],axis=1,inplace=True) "
   ]
  },
  {
   "cell_type": "code",
   "execution_count": null,
   "id": "4b2a78f5-e221-4310-89ba-4b1bb5d4d05d",
   "metadata": {},
   "outputs": [],
   "source": [
    "#ccd_visit_table2[\"dayobsMJD\"]=ccd_visit_table2[\"obsStartMJD\"].apply(np.int64)\n",
    "#ccd_visit_table2['nightObs'] =ccd_visit_table2.apply(lambda x: x['visitId']//100_000, axis=1)"
   ]
  },
  {
   "cell_type": "code",
   "execution_count": null,
   "id": "a56a5596-3059-48d1-8d67-bd8d15c20255",
   "metadata": {},
   "outputs": [],
   "source": [
    "import matplotlib.ticker\n",
    "fig,ax = plt.subplots(1,1,figsize=(16,12))\n",
    "ccd_visit_table2.plot.hist(column=[\"nightObs\"], by=\"band\", bins=200,grid=True,ax=ax,legend=False)\n",
    "\n",
    "\n",
    "# plot x axis as an int\n",
    "locator = matplotlib.ticker.MultipleLocator(2)\n",
    "\n",
    "plt.gca().xaxis.set_major_locator(locator)\n",
    "formatter = matplotlib.ticker.StrMethodFormatter(\"{x:.0f}\")\n",
    "plt.gca().xaxis.set_major_formatter(formatter)\n",
    "plt.gca().xaxis.set_major_locator(plt.MaxNLocator(20))\n",
    "plt.xticks(rotation=90)\n",
    "\n",
    "plt.suptitle(suptitle)\n",
    "plt.tight_layout()"
   ]
  },
  {
   "cell_type": "markdown",
   "id": "52b36755-cd63-4ab6-a013-1da183a05da6",
   "metadata": {
    "execution": {
     "iopub.status.busy": "2024-01-07T19:13:17.839735Z",
     "iopub.status.idle": "2024-01-07T19:13:17.839888Z",
     "shell.execute_reply": "2024-01-07T19:13:17.839816Z",
     "shell.execute_reply.started": "2024-01-07T19:13:17.839809Z"
    }
   },
   "source": [
    "## Select one night"
   ]
  },
  {
   "cell_type": "code",
   "execution_count": null,
   "id": "19f85c2b-865c-4b27-a1d6-12931fe59726",
   "metadata": {},
   "outputs": [],
   "source": [
    "nightObs_selected = 20230803\n",
    "ccd_visit_table1_sel = ccd_visit_table1[ccd_visit_table1.nightObs == nightObs_selected]\n",
    "ccd_visit_table2_sel = ccd_visit_table2[ccd_visit_table2.nightObs == nightObs_selected]"
   ]
  },
  {
   "cell_type": "code",
   "execution_count": null,
   "id": "7813fc85-71c0-4d88-a603-0562d4a70bf4",
   "metadata": {},
   "outputs": [],
   "source": [
    "tract_selected = 5615\n",
    "patch_selected = 294\n",
    "#patch_selected = 313\n",
    "suptitle = f\"CCD visit in tract {tract_selected} and patch {patch_selected}\"\n",
    "df = ccd_visit_table1_sel"
   ]
  },
  {
   "cell_type": "code",
   "execution_count": null,
   "id": "9caa2c62-4970-46ab-bc13-670b81aee149",
   "metadata": {},
   "outputs": [],
   "source": [
    "fig,(ax1,ax2) = plt.subplots(2,1,figsize=(16,10))\n",
    "\n",
    "df[df[\"band\"]==\"g\"].plot(x=\"Time\",y=\"zeroPoint\",marker='o',c=\"g\",lw=0.0,ax=ax1,grid=True,legend=False)\n",
    "df[df[\"band\"]==\"r\"].plot(x=\"Time\",y=\"zeroPoint\",marker='o',c=\"r\",lw=0.0,ax=ax1,grid=True,legend=False)\n",
    "df[df[\"band\"]==\"i\"].plot(x=\"Time\",y=\"zeroPoint\",marker='o',c=\"y\",lw=0.0,ax=ax1,grid=True,legend=False)\n",
    "ax1.set_title(\"zeroPoint\")\n",
    "\n",
    "df[df[\"band\"]==\"g\"].plot(x=\"Time\",y=\"airmass\",marker='o',c=\"g\",lw=0.0,ax=ax2,grid=True,legend=False)\n",
    "df[df[\"band\"]==\"r\"].plot(x=\"Time\",y=\"airmass\",marker='o',c=\"r\",lw=0.0,ax=ax2,grid=True,legend=False)\n",
    "df[df[\"band\"]==\"i\"].plot(x=\"Time\",y=\"airmass\",marker='o',c=\"y\",lw=0.0,ax=ax2,grid=True,legend=False)\n",
    "ax2.set_title(\"airmass\")\n",
    "\n",
    "\n",
    "#df.plot(x=\"Time\",y=\"coord_dec\",marker='o',c=\"g\",lw=0.0,ax=ax2,grid=True)\n",
    "plt.suptitle(suptitle + f\" night {nightObs_selected}\",y=1.0,fontsize=16)\n",
    "plt.tight_layout()"
   ]
  },
  {
   "cell_type": "code",
   "execution_count": null,
   "id": "09bf66ae-c78c-4121-9b38-5fbe3e72afb4",
   "metadata": {},
   "outputs": [],
   "source": [
    "fig,ax = plt.subplots(1,1,figsize=(6,6))\n",
    "\n",
    "df[df[\"band\"]==\"g\"].plot.scatter(x=\"airmass\",y=\"zeroPoint\",marker='o',c=\"g\",lw=0.0,ax=ax,grid=True,legend=False)\n",
    "df[df[\"band\"]==\"r\"].plot(x=\"airmass\",y=\"zeroPoint\",marker='o',c=\"r\",lw=0.0,ax=ax,grid=True,legend=False)\n",
    "df[df[\"band\"]==\"i\"].plot(x=\"airmass\",y=\"zeroPoint\",marker='o',c=\"y\",lw=0.0,ax=ax,grid=True,legend=False)\n",
    "ax.set_title(\"zero point vs airmass\")\n",
    "\n",
    "#df.plot(x=\"Time\",y=\"coord_dec\",marker='o',c=\"g\",lw=0.0,ax=ax2,grid=True)\n",
    "plt.suptitle(suptitle + f\" night {nightObs_selected}\",y=1.0,fontsize=10)\n",
    "plt.tight_layout()"
   ]
  },
  {
   "cell_type": "code",
   "execution_count": null,
   "id": "81d05a0c-37ea-4141-b168-28393dd4dc3b",
   "metadata": {},
   "outputs": [],
   "source": [
    "tract_selected = 5615\n",
    "patch_selected = 313\n",
    "suptitle = f\"CCD visit in tract {tract_selected} and patch {patch_selected}\"\n",
    "df = ccd_visit_table2_sel"
   ]
  },
  {
   "cell_type": "code",
   "execution_count": null,
   "id": "75846ea6-ab8c-4014-aa2e-dec2393988a3",
   "metadata": {},
   "outputs": [],
   "source": [
    "fig,(ax1,ax2) = plt.subplots(2,1,figsize=(16,10))\n",
    "\n",
    "df[df[\"band\"]==\"g\"].plot(x=\"Time\",y=\"zeroPoint\",marker='o',c=\"g\",lw=0.0,ax=ax1,grid=True,legend=False)\n",
    "df[df[\"band\"]==\"r\"].plot(x=\"Time\",y=\"zeroPoint\",marker='o',c=\"r\",lw=0.0,ax=ax1,grid=True,legend=False)\n",
    "df[df[\"band\"]==\"i\"].plot(x=\"Time\",y=\"zeroPoint\",marker='o',c=\"y\",lw=0.0,ax=ax1,grid=True,legend=False)\n",
    "ax1.set_title(\"zeroPoint\")\n",
    "\n",
    "df[df[\"band\"]==\"g\"].plot(x=\"Time\",y=\"airmass\",marker='o',c=\"g\",lw=0.0,ax=ax2,grid=True,legend=False)\n",
    "df[df[\"band\"]==\"r\"].plot(x=\"Time\",y=\"airmass\",marker='o',c=\"r\",lw=0.0,ax=ax2,grid=True,legend=False)\n",
    "df[df[\"band\"]==\"i\"].plot(x=\"Time\",y=\"airmass\",marker='o',c=\"y\",lw=0.0,ax=ax2,grid=True,legend=False)\n",
    "ax2.set_title(\"airmass\")\n",
    "\n",
    "\n",
    "#df.plot(x=\"Time\",y=\"coord_dec\",marker='o',c=\"g\",lw=0.0,ax=ax2,grid=True)\n",
    "plt.suptitle(suptitle + f\" night {nightObs_selected}\",y=1.0,fontsize=16)\n",
    "plt.tight_layout()"
   ]
  },
  {
   "cell_type": "code",
   "execution_count": null,
   "id": "81b4acfd-073a-4dd9-b08d-ee858d633c9c",
   "metadata": {},
   "outputs": [],
   "source": [
    "fig,ax = plt.subplots(1,1,figsize=(6,6))\n",
    "\n",
    "df[df[\"band\"]==\"g\"].plot.scatter(x=\"airmass\",y=\"zeroPoint\",marker='o',c=\"g\",lw=0.0,ax=ax,grid=True,legend=False)\n",
    "df[df[\"band\"]==\"r\"].plot(x=\"airmass\",y=\"zeroPoint\",marker='o',c=\"r\",lw=0.0,ax=ax,grid=True,legend=False)\n",
    "df[df[\"band\"]==\"i\"].plot(x=\"airmass\",y=\"zeroPoint\",marker='o',c=\"y\",lw=0.0,ax=ax,grid=True,legend=False)\n",
    "ax.set_title(\"zero point vs airmass\")\n",
    "\n",
    "#df.plot(x=\"Time\",y=\"coord_dec\",marker='o',c=\"g\",lw=0.0,ax=ax2,grid=True)\n",
    "plt.suptitle(suptitle + f\" night {nightObs_selected}\",y=1.0,fontsize=10)\n",
    "plt.tight_layout()"
   ]
  },
  {
   "cell_type": "markdown",
   "id": "a0f9a74a-723d-4d73-a8ba-df264c6152d3",
   "metadata": {},
   "source": [
    "# save CCD Visit"
   ]
  },
  {
   "cell_type": "code",
   "execution_count": null,
   "id": "acc10559-43eb-447a-a692-f75aebe4c6dd",
   "metadata": {},
   "outputs": [],
   "source": [
    "ccd_visit_table"
   ]
  },
  {
   "cell_type": "code",
   "execution_count": null,
   "id": "39eb8ac7-6ee9-4140-8729-403c4023226b",
   "metadata": {},
   "outputs": [],
   "source": [
    "ccd_visit_table.to_csv(filevisit_out)"
   ]
  },
  {
   "cell_type": "code",
   "execution_count": null,
   "id": "888f298f-94c1-4eee-a8a7-bf2958fefa10",
   "metadata": {},
   "outputs": [],
   "source": []
  }
 ],
 "metadata": {
  "kernelspec": {
   "display_name": "LSST",
   "language": "python",
   "name": "lsst"
  },
  "language_info": {
   "codemirror_mode": {
    "name": "ipython",
    "version": 3
   },
   "file_extension": ".py",
   "mimetype": "text/x-python",
   "name": "python",
   "nbconvert_exporter": "python",
   "pygments_lexer": "ipython3",
   "version": "3.11.7"
  }
 },
 "nbformat": 4,
 "nbformat_minor": 5
}
