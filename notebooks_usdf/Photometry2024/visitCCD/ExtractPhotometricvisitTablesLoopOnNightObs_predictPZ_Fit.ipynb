{
 "cells": [
  {
   "cell_type": "markdown",
   "id": "0b8c2138-5194-4d03-8b77-be24e2cc8ee3",
   "metadata": {},
   "source": [
    "# Compate VisitTables-visit PZ with predicted PZ in  OGA for Auxtel Fit"
   ]
  },
  {
   "cell_type": "markdown",
   "id": "740e34fb-3fef-45a8-941b-c229742ab016",
   "metadata": {},
   "source": [
    " work with Weakly_2024_07\n",
    "- use jupyter kernel LSST\n",
    "- author : Sylvie Dagoret-Campagne\n",
    "- affiliation : IJCLab\n",
    "- creation date : 2024/01/02\n",
    "- update : 2024/02/24\n"
   ]
  },
  {
   "cell_type": "code",
   "execution_count": 1,
   "id": "ed2c3410-fe83-432e-ab87-9f4513fa8d8b",
   "metadata": {
    "execution": {
     "iopub.execute_input": "2024-02-24T14:07:11.213891Z",
     "iopub.status.busy": "2024-02-24T14:07:11.213764Z",
     "iopub.status.idle": "2024-02-24T14:07:11.566583Z",
     "shell.execute_reply": "2024-02-24T14:07:11.566022Z",
     "shell.execute_reply.started": "2024-02-24T14:07:11.213877Z"
    }
   },
   "outputs": [
    {
     "name": "stdout",
     "output_type": "stream",
     "text": [
      "analysis_tools        LOCAL:/home/d/dagoret/repos/repos_w_2024_07/analysis_tools \tsetup\n",
      "atmospec              LOCAL:/home/d/dagoret/repos/repos_w_2024_07/atmospec \tsetup\n",
      "eups                  LOCAL:/opt/lsst/software/stack/conda/miniconda3-py38_4.9.2/envs/lsst-scipipe-8.0.0/eups \tsetup\n",
      "spectractor           LOCAL:/home/d/dagoret/repos/repos_w_2024_07/Spectractor \tsetup\n"
     ]
    }
   ],
   "source": [
    "! eups list -s | grep LOCAL"
   ]
  },
  {
   "cell_type": "code",
   "execution_count": 2,
   "id": "70918d81-0cf6-4b0a-8f61-f5e5bec5b0e7",
   "metadata": {
    "execution": {
     "iopub.execute_input": "2024-02-24T14:07:11.567608Z",
     "iopub.status.busy": "2024-02-24T14:07:11.567434Z",
     "iopub.status.idle": "2024-02-24T14:07:11.908040Z",
     "shell.execute_reply": "2024-02-24T14:07:11.907497Z",
     "shell.execute_reply.started": "2024-02-24T14:07:11.567592Z"
    }
   },
   "outputs": [
    {
     "name": "stdout",
     "output_type": "stream",
     "text": [
      "   g4213664e8e+34187316c4 \tcurrent w_2024_07 setup\n"
     ]
    }
   ],
   "source": [
    "! eups list -s lsst_distrib"
   ]
  },
  {
   "cell_type": "code",
   "execution_count": 3,
   "id": "f8d9cfca-5881-48c1-b2cb-0f794a2e4091",
   "metadata": {
    "execution": {
     "iopub.execute_input": "2024-02-24T14:07:11.908978Z",
     "iopub.status.busy": "2024-02-24T14:07:11.908815Z",
     "iopub.status.idle": "2024-02-24T14:07:12.532719Z",
     "shell.execute_reply": "2024-02-24T14:07:12.532304Z",
     "shell.execute_reply.started": "2024-02-24T14:07:11.908962Z"
    },
    "tags": []
   },
   "outputs": [],
   "source": [
    "import lsst.daf.butler as dafButler\n",
    "#import lsst.summit.utils.butlerUtils as butlerUtils"
   ]
  },
  {
   "cell_type": "code",
   "execution_count": 4,
   "id": "1ceacda9-20b0-4d77-a0d2-572c957ce273",
   "metadata": {
    "execution": {
     "iopub.execute_input": "2024-02-24T14:07:12.534215Z",
     "iopub.status.busy": "2024-02-24T14:07:12.534078Z",
     "iopub.status.idle": "2024-02-24T14:07:13.062833Z",
     "shell.execute_reply": "2024-02-24T14:07:13.062336Z",
     "shell.execute_reply.started": "2024-02-24T14:07:12.534201Z"
    },
    "tags": []
   },
   "outputs": [],
   "source": [
    "import numpy as np\n",
    "import matplotlib.pyplot as plt\n",
    "%matplotlib inline\n",
    "from mpl_toolkits.axes_grid1 import make_axes_locatable\n",
    "from matplotlib.colors import LogNorm,SymLogNorm\n",
    "\n",
    "\n",
    "import matplotlib.ticker                         # here's where the formatter is\n",
    "from matplotlib.ticker import (MultipleLocator, FormatStrFormatter,\n",
    "                               AutoMinorLocator)\n",
    "\n",
    "from astropy.visualization import (MinMaxInterval, SqrtStretch,ZScaleInterval,PercentileInterval,\n",
    "                                   ImageNormalize,imshow_norm)\n",
    "from astropy.visualization.stretch import SinhStretch, LinearStretch,AsinhStretch,LogStretch\n",
    "\n",
    "from astropy.io import fits\n",
    "\n",
    "import pandas as pd\n",
    "\n",
    "import matplotlib.ticker                         # here's where the formatter is\n",
    "import os,sys\n",
    "import re\n",
    "import pandas as pd\n",
    "import pickle\n",
    "\n",
    "plt.rcParams[\"figure.figsize\"] = (4,3)\n",
    "plt.rcParams[\"axes.labelsize\"] = 'xx-large'\n",
    "plt.rcParams['axes.titlesize'] = 'xx-large'\n",
    "plt.rcParams['xtick.labelsize']= 'xx-large'\n",
    "plt.rcParams['ytick.labelsize']= 'xx-large'"
   ]
  },
  {
   "cell_type": "code",
   "execution_count": 5,
   "id": "34c92544-f2fd-4287-b852-e2ccb9a3b510",
   "metadata": {
    "execution": {
     "iopub.execute_input": "2024-02-24T14:07:13.063784Z",
     "iopub.status.busy": "2024-02-24T14:07:13.063447Z",
     "iopub.status.idle": "2024-02-24T14:07:13.066387Z",
     "shell.execute_reply": "2024-02-24T14:07:13.066009Z",
     "shell.execute_reply.started": "2024-02-24T14:07:13.063768Z"
    },
    "tags": []
   },
   "outputs": [],
   "source": [
    "from matplotlib.ticker import (MultipleLocator, FormatStrFormatter,\n",
    "                               AutoMinorLocator)\n",
    "\n",
    "from astropy.visualization import (MinMaxInterval, SqrtStretch,ZScaleInterval,PercentileInterval,\n",
    "                                   ImageNormalize,imshow_norm)\n",
    "from astropy.visualization.stretch import SinhStretch, LinearStretch,AsinhStretch,LogStretch\n",
    "\n",
    "from astropy.time import Time\n"
   ]
  },
  {
   "cell_type": "code",
   "execution_count": 6,
   "id": "77aa5733-0a46-49eb-b26e-d3bb6195cc3d",
   "metadata": {
    "execution": {
     "iopub.execute_input": "2024-02-24T14:07:13.067041Z",
     "iopub.status.busy": "2024-02-24T14:07:13.066916Z",
     "iopub.status.idle": "2024-02-24T14:07:13.348240Z",
     "shell.execute_reply": "2024-02-24T14:07:13.347832Z",
     "shell.execute_reply.started": "2024-02-24T14:07:13.067030Z"
    },
    "tags": []
   },
   "outputs": [],
   "source": [
    "# LSST Display\n",
    "import lsst.afw.display as afwDisplay\n",
    "afwDisplay.setDefaultBackend('matplotlib')"
   ]
  },
  {
   "cell_type": "code",
   "execution_count": 7,
   "id": "b7cea198-6f3c-4a87-8877-fdf8e4d73c26",
   "metadata": {
    "execution": {
     "iopub.execute_input": "2024-02-24T14:07:13.349153Z",
     "iopub.status.busy": "2024-02-24T14:07:13.348832Z",
     "iopub.status.idle": "2024-02-24T14:07:13.351206Z",
     "shell.execute_reply": "2024-02-24T14:07:13.350879Z",
     "shell.execute_reply.started": "2024-02-24T14:07:13.349140Z"
    },
    "tags": []
   },
   "outputs": [],
   "source": [
    "transform = AsinhStretch() + PercentileInterval(99.)"
   ]
  },
  {
   "cell_type": "code",
   "execution_count": 8,
   "id": "c8b31810-780c-43f2-92a1-af05fddd65e1",
   "metadata": {
    "execution": {
     "iopub.execute_input": "2024-02-24T14:07:13.351830Z",
     "iopub.status.busy": "2024-02-24T14:07:13.351692Z",
     "iopub.status.idle": "2024-02-24T14:07:13.355445Z",
     "shell.execute_reply": "2024-02-24T14:07:13.355096Z",
     "shell.execute_reply.started": "2024-02-24T14:07:13.351817Z"
    }
   },
   "outputs": [],
   "source": [
    "pd.options.display.max_columns = None\n",
    "#pd.options.display.max_rows = None"
   ]
  },
  {
   "cell_type": "code",
   "execution_count": 9,
   "id": "ee2013d9-dfd7-4c1f-9e37-46e1c91734d2",
   "metadata": {
    "execution": {
     "iopub.execute_input": "2024-02-24T14:07:13.356037Z",
     "iopub.status.busy": "2024-02-24T14:07:13.355916Z",
     "iopub.status.idle": "2024-02-24T14:07:13.361234Z",
     "shell.execute_reply": "2024-02-24T14:07:13.360734Z",
     "shell.execute_reply.started": "2024-02-24T14:07:13.356025Z"
    }
   },
   "outputs": [
    {
     "name": "stdout",
     "output_type": "stream",
     "text": [
      "dagoret-nb\n",
      "Set environement for Rubin Platform at  USDF\n"
     ]
    }
   ],
   "source": [
    "machine_name = os.uname().nodename\n",
    "print(machine_name)\n",
    "if 'sdf' in machine_name:\n",
    "    #machine_name_usdf = 'sdfrome001'\n",
    "    #machine_name_notebook platform = 'dagoret-nb'\n",
    "    print(\"Set environement for USDF\")\n",
    "    newpythonpath = os.path.join(os.getenv(\"HOME\"),\"repos/repos_w_2024_07/rubinsimphot/src\")\n",
    "    sys.path.append(newpythonpath)\n",
    "    newpythonpath = os.path.join(os.getenv(\"HOME\"),\"rubin-user/RubinLSSTPhotometricCorrTuto/notebooks/lib\")\n",
    "    sys.path.append(newpythonpath)   \n",
    "elif \"dagoret-nb\" in machine_name:\n",
    "    print(\"Set environement for Rubin Platform at  USDF\")\n",
    "    newpythonpath = os.path.join(os.getenv(\"HOME\"),\"repos/repos_w_2024_07/rubinsimphot/src\")\n",
    "    sys.path.append(newpythonpath)\n",
    "    newpythonpath = os.path.join(os.getenv(\"HOME\"),\"rubin-user/RubinLSSTPhotometricCorrTuto/notebooks/lib\")\n",
    "    sys.path.append(newpythonpath)\n",
    "elif 'mac' in machine_name:\n",
    "    print(\"Be sure to run this notebook in conda environnement named conda_py310\")\n",
    "else:\n",
    "    print(\"Your current machine name is {machine_name}. Check your python environment\")"
   ]
  },
  {
   "cell_type": "code",
   "execution_count": 10,
   "id": "977a89a2-b829-4e85-b7fe-0b1d09507445",
   "metadata": {
    "execution": {
     "iopub.execute_input": "2024-02-24T14:07:13.361873Z",
     "iopub.status.busy": "2024-02-24T14:07:13.361732Z",
     "iopub.status.idle": "2024-02-24T14:07:13.749872Z",
     "shell.execute_reply": "2024-02-24T14:07:13.749396Z",
     "shell.execute_reply.started": "2024-02-24T14:07:13.361862Z"
    }
   },
   "outputs": [
    {
     "name": "stdout",
     "output_type": "stream",
     "text": [
      "LSST site name validated as LSST observatory\n"
     ]
    }
   ],
   "source": [
    "from libPhotometricCorrections_auxtel import *"
   ]
  },
  {
   "cell_type": "markdown",
   "id": "ee0d12a4-d243-4ab2-90c5-78419ef1e591",
   "metadata": {},
   "source": [
    "## Introduction and Review on Photometric corrections\n",
    "\n",
    "- from https://github.com/sylvielsstfr/RubinLSSTPhotometricCorrTuto\n",
    "\n",
    "### Reminder on what kind of flux we want to calculate \n",
    "\n",
    "- the Flux in each band $b$ at the TOP of atmosphere"
   ]
  },
  {
   "cell_type": "markdown",
   "id": "c19ae9b5-0e11-42e8-bdca-91cb16ac2eb3",
   "metadata": {},
   "source": [
    "$$\n",
    "F_{b\\;AB}^{std} = \\frac{1}{F_{0}} \\int \\phi_{b}^{std}(\\lambda) F_\\nu({\\lambda})d\\lambda\n",
    "$$\n",
    "\n",
    "where:\n",
    "- $F_{0}$ is a constant such as $F_0^{AB}=3631$ Jy with $1 Jy = 10^{-23} erg.cm^{-2}.s^{-1}.Hz^{-1}$,\n",
    "- $F_\\nu(\\lambda)$ is the SED (Spectral Energy Distribution) of the object in Jansky unit. **In general $F_\\nu(\\lambda)$ is unknown or poorly known after identification/classification of the object,** \n",
    "- $\\phi_{b}^{std}(\\lambda)$ : is the standard normalised response of the telescope (including atmosphere and hardware electronics and optics):\n",
    "\n",
    "$$\n",
    "\\phi^{std}_b(\\lambda) = \\frac{S_b^{std}(\\lambda) \\frac{1}{\\lambda}}{\\int S_b^{std}(\\lambda) \\frac{d \\lambda}{\\lambda}}\n",
    "$$\n",
    "\n",
    "- $S_b^{std}(\\lambda)$ is **the defined** LSST survey total transmission of the instrument + atmosphere, taken to be the most probable or average or median total transmission:\n",
    "$$\n",
    "S_b^{std}(\\lambda) = S^{std}_{atm}(\\lambda) \\times S_{b\\; inst}^{std}(\\lambda)\n",
    "$$\n",
    "It is defined at a particular airmass, a particular atmospheric transmission (with a set a pre-defined atmospheric parameters) and a particular hardware-optics+electronics setting.\n"
   ]
  },
  {
   "cell_type": "markdown",
   "id": "928dc675-47bb-43bc-bade-dae919c4fc5a",
   "metadata": {},
   "source": [
    "Note if $F_{b\\; AB}^{std}$ is a quantity that we have to calculate from the known $\\phi_b^{std}$, the true SED $F_\\nu$ is in principle unknown : we have\n",
    "to measure something !\n",
    "This is the per exposure ADC photometric count in band $b$: \n",
    "$$\n",
    "ADC_b^{std} = \\frac{A \\Delta T}{g_{el}h} \\int S_{b}^{std}(\\lambda) F_\\nu(\\lambda) \\frac{d\\lambda}{\\lambda}\n",
    "$$\n",
    "\n",
    "- $ADC_b^{std}$ is the expected number of counts, after correction from Instrument Signature Removal, including CCD unflattening and aperture photometry on the object.\n",
    "- $A$, $\\Delta T$, $g_{el}$ are the instrument constants, respectively Surface collection, Exposure-time, electronic gain . They are much poorely known at the percent level.\n",
    "- $h$ is the Planck constant."
   ]
  },
  {
   "cell_type": "markdown",
   "id": "4ec81f1e-8a80-4b25-9d6e-bc0ed8268ef8",
   "metadata": {},
   "source": [
    "The point is that we never measure ADC counts with a  $S_{b}^{std}(\\lambda)$ transmission. We measure $ADC_b^{obs}$ (after ISR and unflattening on the image and aperture photometry on the object) for each visit of the object\n",
    "for a also measured transmission $S_{b}^{obs}(\\lambda)$.\n",
    "\n",
    "$$\n",
    "ADC_b^{obs} = \\frac{A \\Delta T}{g_{el}h} \\int S_{b}^{obs}(\\lambda) F_\\nu(\\lambda) \\frac{d\\lambda}{\\lambda}\n",
    "$$"
   ]
  },
  {
   "cell_type": "markdown",
   "id": "f674886c-2181-47f5-b473-53b0baefefa8",
   "metadata": {},
   "source": [
    "### Goal of Photometric Correction\n",
    "**So the goal of Photometric correction is to calculate for each visit  the flux in the observed band $b$ : $F_{b\\;AB}^{std}$ from the measured $ADC_b^{obs}$,\n",
    "for a calibrated $S_b^{obs}(\\lambda)$ or equivalently $\\phi_b^{obs}(\\lambda)$ given a defined $S_b^{std}(\\lambda)$ or equivalently $\\phi_b^{std}(\\lambda)$.** "
   ]
  },
  {
   "cell_type": "markdown",
   "id": "a911c92b-9b7c-4c12-afca-e807e0f8bc87",
   "metadata": {},
   "source": [
    "After rearranging the above equation, one get the AB flux per visit in LSST standard band $b$:\n",
    "\n",
    "$$\n",
    "F_{b\\; AB}^{std} = \\frac{g_{el} h}{F_0 A \\Delta T} \\frac{ADU^{obs}_b}{\\mathbb{I}_{0\\,b}^{obs}} \\frac{\\int \\phi_b^{std}(\\lambda) F_\\nu(\\lambda) d\\lambda}{\\int \\phi_b^{obs}(\\lambda) F_\\nu(\\lambda) d\\lambda}\n",
    "$$"
   ]
  },
  {
   "cell_type": "markdown",
   "id": "d62887a2-be54-411b-9f58-dc2a45add9da",
   "metadata": {},
   "source": [
    "where the integral  $\\mathbb{I}_{0\\,b}^{obs}$ is defined as :\n",
    "$$\n",
    "\\mathbb{I}_{0\\,b}^{obs} = \\int S_{b}^{obs}(\\lambda) \\frac{d\\lambda}{\\lambda} \n",
    "$$"
   ]
  },
  {
   "cell_type": "markdown",
   "id": "6fee0594-5611-4abd-a21a-aec9b6fb749e",
   "metadata": {},
   "source": [
    "- **The interpretation of $\\mathbb{I}_{0\\,b}^{obs}$ correspond to the calculation of an average attenuation in the $b$ band**.\n",
    "This term compensates the variation of the band absorption measured $ADU_b^{obs}$, thus correcting at zeroth order $F_{b\\; AB}^{std}$."
   ]
  },
  {
   "cell_type": "markdown",
   "id": "934b2821-b89b-4cf5-880e-5796f0d86a8c",
   "metadata": {},
   "source": [
    "*Note if we don't know $S_b^{obs}(\\lambda)$, we have to replace at zeros order the unknown integral  $\\mathbb{I}_{0\\,b}^{obs}$ by the known defined integral  $\\mathbb{I}_{0\\,b}^{std} = \\int S_{b}^{std}(\\lambda) \\frac{d\\lambda}{\\lambda}$. However any variation of the absorption in the filter band $b$ would not be compensated.*"
   ]
  },
  {
   "cell_type": "markdown",
   "id": "f87ab4d8-2c51-470d-80db-3c3d36926805",
   "metadata": {},
   "source": [
    "- The term of constants $\\frac{g_{el} h}{F_0A \\Delta T}$ is poorly known because we don't know these constants at the percent level (except $h$ and $F_0$). \n",
    "This term is referred as the instrumental zero point term. It is a calibration constant that must be determined by a dedicated Zero-point calibration procedure\n",
    "for each visit, for each CCD from a series of calibration stars seen on the CCD plate. It is a kind of time dependent grey term to be applied band per band , CCD per CCD."
   ]
  },
  {
   "cell_type": "markdown",
   "id": "47f73701-63ac-4ef4-b5d4-4af40ea37e6b",
   "metadata": {},
   "source": [
    "- The term $ \\frac{\\int \\phi_b^{std}(\\lambda) F_\\nu(\\lambda) d\\lambda}{\\int \\phi_b^{obs}(\\lambda) F_\\nu(\\lambda) d\\lambda}$ refer explicitely to the unknown SED $F_\\nu(\\lambda)$. This is why one refer as the color term in the band $b$. This is term is expected to be colose to unity : \n",
    "\n",
    "- If observations conditions are close to standard condtions, this term is close to 1. \n",
    "- If the SED shape is close to that of a flat source, like an ideal AB source, this term is close to 1. \n",
    "\n",
    "However,\n",
    "- If the SED has a sharp slope in the band, this term may not be negligible compared to the expected photometric accuracy.\n",
    "\n",
    "This term seems to generate a bias in the flux. But on the contrary, it could bring additionnal information, because\n",
    "we could measure it with serveral visits per object:\n",
    "\n",
    "The we could aim to guess $F_\\nu(\\lambda)$ shape from the measured average $< F_{b\\; AB}^{std} >$ for that object.\n",
    "By expanding the SED shape at first order in the $b$ band:\n",
    "$$\n",
    "F_\\nu(\\lambda) \\simeq F_\\nu(\\lambda_b)\\left(1 +  f^{\\prime}(\\lambda_b)(\\lambda- \\lambda_b)\\right)\n",
    "$$\n"
   ]
  },
  {
   "cell_type": "markdown",
   "id": "0723f87f-5de6-4f8a-a2a2-ce72c360c01a",
   "metadata": {},
   "source": [
    "$$\n",
    "F_{b\\; AB}^{std} = \\frac{g_{el} h}{F_0A \\Delta T} \\frac{ADU^{obs}_b}{\\mathbb{I}_{0\\,b}^{obs}} \n",
    "\\left(1 + f^{\\prime}(\\lambda_b)(\\Pi_{1\\,b}^{std} -  \\Pi_{1\\,b}^{obs}) \\right)\n",
    "$$"
   ]
  },
  {
   "cell_type": "markdown",
   "id": "24b622b2-102c-4546-bf53-ad9077daeabb",
   "metadata": {},
   "source": [
    "  Note the term $F_\\nu(\\lambda_b)$ is eliminated, only the relative derivative $f^\\prime(\\lambda_b) = \\frac{1}{F_\\nu(\\lambda_b)}\\frac{dF\\nu}{d\\lambda}(\\lambda_b)$ matters."
   ]
  },
  {
   "cell_type": "markdown",
   "id": "2113adac-15f1-404d-ad47-24186f5add9c",
   "metadata": {},
   "source": [
    "The standard magnitude per visit reads:\n",
    "\n",
    "$$\n",
    "m_{b\\, AB}^{std} = -2.5 \\log_{10}(ADU^{obs}_b) + 2.5 \\log_{10} \\frac{\\Pi_{0\\,b}^{obs}}{\\Pi_{0\\,b}^{std}} + \\frac{2.5}{\\ln(10)}f^{\\prime}(\\lambda_b)(\\Pi_{1\\,b}^{std} -  \\Pi_{1\\,b}^{obs}) + ZPT_b\n",
    "$$\n"
   ]
  },
  {
   "cell_type": "markdown",
   "id": "8c8fa8bf-3a25-4314-aeb4-d20564320552",
   "metadata": {},
   "source": [
    "- $-2.5 \\log_{10}(ADU^{obs}_b)$ is the instrumental magnitude,\n",
    "- $2.5 \\log_{10} \\frac{\\Pi_{0\\,b}^{obs}}{\\Pi_{0\\,b}^{std}}$ is the zeros-th order correction for band relative attenuation (compared to standard attenuation),\n",
    "- $\\frac{2.5}{\\ln(10)}f^{\\prime}(\\lambda_b)(\\Pi_{1\\,b}^{std} -  \\Pi_{1\\,b}^{obs})$ is the first-order color term correction\n",
    "- $ZPT_b =  2.5 \\log_{10} \\left(\\frac{F_0 A \\Delta T}{g_{el} h} \\right)  + 2.5 \\log_{10}(\\Pi_{0\\,b}^{std})$ is the source independent and transmission variation independent zero point that does not need to be calculated to be evaluated CCD per CCD, visit per visit using several photometric calibration sources in LSST FOV.\n",
    "(This is a kind of band Zero point, because we add the term $2.5 \\log_{10}(\\Pi_{0\\,b}^{std}$ to the pure instrumental term.) "
   ]
  },
  {
   "cell_type": "markdown",
   "id": "1ec8807a-007c-428e-abfa-316aa69fdccf",
   "metadata": {},
   "source": [
    "## Summary on Photometric correction goals"
   ]
  },
  {
   "cell_type": "markdown",
   "id": "fc06c50a-7eee-4f30-bc2c-77cf07c8b2f2",
   "metadata": {},
   "source": [
    "We propose to calibrate sources Fluxes in AB unit, by correcting instrumental magnitudes, band by band, visit per visit independently. \n",
    "We are able to separate the contribution of the atmoshere attenuation even if the SED is unknown.\n",
    "For this calibration we requires to monitor the transmission integrals :\n",
    "\n",
    "- $2.5 \\log_{10} \\frac{\\Pi_{0\\,b}^{obs}}{\\Pi_{0\\,b}^{std}}$ to correct magnitude at zeros-th order for any band-average grey attenuation,\n",
    "- $(\\Pi_{1\\,b}^{std} -  \\Pi_{1\\,b}^{obs})$ to correct magnitude at first order for SED average slope in the band,\n",
    "  \n",
    "  \n",
    "- In addition a method to derive the photometrical zero point ZPT must be studied in this DEC-PC group (this subject is not adressed for the moment),\n",
    "\n",
    "- Aperture Photometric accuracy including sky background contribution in $-2.5 \\log_{10}(ADU^{obs}_b)$ is still an open field in DESC-PC group."
   ]
  },
  {
   "cell_type": "markdown",
   "id": "3362d8a1-5b6b-4e3f-93be-3d3c103500bb",
   "metadata": {},
   "source": [
    "## Simulation"
   ]
  },
  {
   "cell_type": "code",
   "execution_count": 11,
   "id": "4e6fe69d-1063-44b0-806e-84aa17094659",
   "metadata": {
    "execution": {
     "iopub.execute_input": "2024-02-24T14:07:13.750720Z",
     "iopub.status.busy": "2024-02-24T14:07:13.750526Z",
     "iopub.status.idle": "2024-02-24T14:07:13.753305Z",
     "shell.execute_reply": "2024-02-24T14:07:13.752945Z",
     "shell.execute_reply.started": "2024-02-24T14:07:13.750706Z"
    }
   },
   "outputs": [],
   "source": [
    "all_am = np.linspace(1,2.5,16)\n",
    "NAM=len(all_am)\n",
    "am0=1.2\n",
    "pwv0= 2.32\n",
    "oz0 = 265.4\n",
    "tau0 = 0.022\n",
    "beta0 = 1.0"
   ]
  },
  {
   "cell_type": "code",
   "execution_count": 12,
   "id": "0283dea1-62cf-4c54-81a5-3bc62105f866",
   "metadata": {
    "execution": {
     "iopub.execute_input": "2024-02-24T14:07:13.753944Z",
     "iopub.status.busy": "2024-02-24T14:07:13.753814Z",
     "iopub.status.idle": "2024-02-24T14:07:13.758571Z",
     "shell.execute_reply": "2024-02-24T14:07:13.758204Z",
     "shell.execute_reply.started": "2024-02-24T14:07:13.753932Z"
    }
   },
   "outputs": [
    {
     "data": {
      "text/plain": [
       "array(['am_10', 'am_11', 'am_12', 'am_13', 'am_14', 'am_15', 'am_16',\n",
       "       'am_17', 'am_18', 'am_19', 'am_20', 'am_21', 'am_22', 'am_23',\n",
       "       'am_24', 'am_25'], dtype='<U5')"
      ]
     },
     "execution_count": 12,
     "metadata": {},
     "output_type": "execute_result"
    }
   ],
   "source": [
    "all_am_tags = []\n",
    "for index,am in enumerate(all_am):\n",
    "    am_tag = \"am_\"+str(int(am*10))\n",
    "    all_am_tags.append(am_tag)\n",
    "all_am_tags=np.array(all_am_tags)\n",
    "all_am_tags"
   ]
  },
  {
   "cell_type": "markdown",
   "id": "75712128-f818-45f7-8fd2-fce475836b3d",
   "metadata": {},
   "source": [
    "### Compute the atmospheric simulations"
   ]
  },
  {
   "cell_type": "code",
   "execution_count": 13,
   "id": "b80bcf55-80f2-405b-b19f-128eb0350fb1",
   "metadata": {
    "execution": {
     "iopub.execute_input": "2024-02-24T14:07:13.759150Z",
     "iopub.status.busy": "2024-02-24T14:07:13.759028Z",
     "iopub.status.idle": "2024-02-24T14:07:13.819308Z",
     "shell.execute_reply": "2024-02-24T14:07:13.818920Z",
     "shell.execute_reply.started": "2024-02-24T14:07:13.759139Z"
    }
   },
   "outputs": [
    {
     "name": "stderr",
     "output_type": "stream",
     "text": [
      "/home/d/dagoret/repos/repos_w_2023_44/rubinsimphot/src/rubinsimphot/phot_utils/bandpass.py:68: UserWarning: Wavelength sampling of 1.0 nm is > 0.2 nm, this may not work well with a Sed object. Consider resampling with resample_bandpass method.\n",
      "  warnings.warn(\n"
     ]
    }
   ],
   "source": [
    "pc = PhotometricCorrections(am0,pwv0,oz0,tau0,beta0)\n",
    "pc.CalculateMultiObs(all_am,pwv0,oz0,tau0,beta0)"
   ]
  },
  {
   "cell_type": "code",
   "execution_count": 14,
   "id": "285dc0fb-b777-4ac8-9fb8-38fb9baec476",
   "metadata": {
    "execution": {
     "iopub.execute_input": "2024-02-24T14:07:13.819960Z",
     "iopub.status.busy": "2024-02-24T14:07:13.819832Z",
     "iopub.status.idle": "2024-02-24T14:07:13.983992Z",
     "shell.execute_reply": "2024-02-24T14:07:13.983577Z",
     "shell.execute_reply.started": "2024-02-24T14:07:13.819947Z"
    }
   },
   "outputs": [
    {
     "data": {
      "image/png": "[encoded data removed]",
      "text/plain": [
       "<Figure size 800x600 with 1 Axes>"
      ]
     },
     "metadata": {},
     "output_type": "display_data"
    }
   ],
   "source": [
    "fig, ax = plt.subplots(1,1,figsize=(8,6))\n",
    "ax.plot(all_am,pc.allcollperfilter['g']['ZPT_nonstd'],'o-g',label=\"filter g\")\n",
    "ax.plot(all_am,pc.allcollperfilter['r']['ZPT_nonstd'],'o-r',label=\"filter r\")\n",
    "ax.plot(all_am,pc.allcollperfilter['i']['ZPT_nonstd'],'o-k',label=\"filter i\")\n",
    "ax.set_title(\"Zero point vs airmass (Auxtel)\")\n",
    "ax.set_xlabel(\"airmass\")\n",
    "ax.set_ylabel(\"ZP (mag)\")\n",
    "ax.legend()\n",
    "ax.grid()"
   ]
  },
  {
   "cell_type": "markdown",
   "id": "17f98db2-2ea8-4546-87a9-f2cd11d67ec7",
   "metadata": {},
   "source": [
    "## Configuration for Photometry"
   ]
  },
  {
   "cell_type": "code",
   "execution_count": 15,
   "id": "f6c1ac18-5e47-4ae9-93ec-32f4337aa520",
   "metadata": {
    "execution": {
     "iopub.execute_input": "2024-02-24T14:07:13.984703Z",
     "iopub.status.busy": "2024-02-24T14:07:13.984571Z",
     "iopub.status.idle": "2024-02-24T14:07:13.986662Z",
     "shell.execute_reply": "2024-02-24T14:07:13.986314Z",
     "shell.execute_reply.started": "2024-02-24T14:07:13.984690Z"
    }
   },
   "outputs": [],
   "source": [
    "#filesource_out=\"ccdVisitTable_202312.csv\"\n",
    "filesource_out=\"ccdVisitTable_202402.csv\"\n",
    "#filetractpatch_out = 'Latiss_tractspatchs_202312.pickle'"
   ]
  },
  {
   "cell_type": "code",
   "execution_count": 16,
   "id": "1c81d99a-5e91-4ba1-ba4a-c66b37905b98",
   "metadata": {
    "execution": {
     "iopub.execute_input": "2024-02-24T14:07:13.987304Z",
     "iopub.status.busy": "2024-02-24T14:07:13.987178Z",
     "iopub.status.idle": "2024-02-24T14:07:14.629027Z",
     "shell.execute_reply": "2024-02-24T14:07:14.628539Z",
     "shell.execute_reply.started": "2024-02-24T14:07:13.987291Z"
    },
    "tags": []
   },
   "outputs": [],
   "source": [
    "#repo =  \"/sdf/group/rubin/repo/main\"\n",
    "repo = \"/sdf/group/rubin/repo/oga/\"\n",
    "butler = dafButler.Butler(repo)\n",
    "registry = butler.registry"
   ]
  },
  {
   "cell_type": "code",
   "execution_count": 17,
   "id": "e9f828a7-8319-499e-a6b9-01dedc59e06c",
   "metadata": {
    "execution": {
     "iopub.execute_input": "2024-02-24T14:07:14.629914Z",
     "iopub.status.busy": "2024-02-24T14:07:14.629728Z",
     "iopub.status.idle": "2024-02-24T14:07:14.633335Z",
     "shell.execute_reply": "2024-02-24T14:07:14.632941Z",
     "shell.execute_reply.started": "2024-02-24T14:07:14.629899Z"
    }
   },
   "outputs": [],
   "source": [
    "def get_corners_radec(wcs, bbox):\n",
    "    \"\"\"\n",
    "    Return the corners in RA,Dec in degrees given the WCS and bounding box for an image.\n",
    "\n",
    "    Parameters\n",
    "    ----------\n",
    "    wcs: image WCS returned by the Butler\n",
    "    bbox: bounding box returned by the Butler\n",
    "\n",
    "    Returns\n",
    "    -------\n",
    "    corners_ra, corners_dec in decimal degrees\n",
    "    \"\"\"\n",
    "\n",
    "    corners_x = [bbox.beginX, bbox.beginX, bbox.endX, bbox.endX]\n",
    "    corners_y = [bbox.beginY, bbox.endY, bbox.endY, bbox.beginY]\n",
    "    corners_ra = []\n",
    "    corners_dec = []\n",
    "    for i in range(4):\n",
    "        radec = wcs.pixelToSky(corners_x[i], corners_y[i])\n",
    "        corners_ra.append(radec.getRa().asDegrees())\n",
    "        corners_dec.append(radec.getDec().asDegrees())\n",
    "    \n",
    "    return corners_ra, corners_dec"
   ]
  },
  {
   "cell_type": "code",
   "execution_count": 18,
   "id": "150e04f6-e800-4086-9671-686e12349fc9",
   "metadata": {
    "execution": {
     "iopub.execute_input": "2024-02-24T14:07:14.633976Z",
     "iopub.status.busy": "2024-02-24T14:07:14.633851Z",
     "iopub.status.idle": "2024-02-24T14:07:14.638168Z",
     "shell.execute_reply": "2024-02-24T14:07:14.637825Z",
     "shell.execute_reply.started": "2024-02-24T14:07:14.633963Z"
    }
   },
   "outputs": [],
   "source": [
    "def get_bbox_radec(wcs, bbox):\n",
    "    \"\"\"\n",
    "    Return the corners in RA,Dec in degrees given the WCS and bounding box for an image.\n",
    "\n",
    "    Parameters\n",
    "    ----------\n",
    "    wcs: image WCS returned by the Butler\n",
    "    bbox: bounding box returned by the Butler\n",
    "\n",
    "    Returns\n",
    "    -------\n",
    "    ramin,ramax,decmin,decmax in decimal degrees\n",
    "    \"\"\"\n",
    "\n",
    "    xmin = bbox.beginX\n",
    "    xmax = bbox.endX\n",
    "    ymin = bbox.beginY\n",
    "    ymax = bbox.endY\n",
    "    \n",
    "    radec_ll = wcs.pixelToSky(xmin, ymin)\n",
    "    radec_ur = wcs.pixelToSky(xmax, ymax)\n",
    "        \n",
    "    return radec_ur.getRa().asDegrees(),radec_ll.getRa().asDegrees(), radec_ll.getDec().asDegrees(),radec_ur.getDec().asDegrees() "
   ]
  },
  {
   "cell_type": "code",
   "execution_count": 19,
   "id": "ffb574d5-b268-4c55-ba63-8883723cf729",
   "metadata": {
    "execution": {
     "iopub.execute_input": "2024-02-24T14:07:14.641025Z",
     "iopub.status.busy": "2024-02-24T14:07:14.640897Z",
     "iopub.status.idle": "2024-02-24T14:07:14.643624Z",
     "shell.execute_reply": "2024-02-24T14:07:14.643295Z",
     "shell.execute_reply.started": "2024-02-24T14:07:14.641013Z"
    }
   },
   "outputs": [],
   "source": [
    "def isradec_inbbox_radec(ra,dec,wcs, bbox):\n",
    "    \"\"\"\n",
    "    Return the corners in RA,Dec in degrees given the WCS and bounding box for an image.\n",
    "\n",
    "    Parameters\n",
    "    ----------\n",
    "    ra: ra in degree\n",
    "    dec: dec in degree\n",
    "    wcs: image WCS returned by the Butler\n",
    "    bbox: bounding box returned by the Butler\n",
    "\n",
    "    Returns\n",
    "    -------\n",
    "    Bool\n",
    "    \n",
    "    \"\"\"\n",
    "\n",
    "    RAMIN,RAMAX,DECMIN,DECMAX = get_bbox_radec(wcs, bbox)\n",
    "\n",
    "    assert RAMIN < RAMAX\n",
    "    assert DECMIN < DECMAX\n",
    "\n",
    "    flag = (ra >= RAMIN) and (ra<=RAMAX) and (dec>= DECMIN) and (dec <= DECMAX) \n",
    "    return flag"
   ]
  },
  {
   "cell_type": "markdown",
   "id": "20dbb8da-3a08-4b4f-9437-4bf7f28c1782",
   "metadata": {},
   "source": [
    "## Give the collection"
   ]
  },
  {
   "cell_type": "code",
   "execution_count": 20,
   "id": "9629ea29-8ab4-4062-aed1-e16d62dc90c4",
   "metadata": {
    "execution": {
     "iopub.execute_input": "2024-02-24T14:07:14.644157Z",
     "iopub.status.busy": "2024-02-24T14:07:14.644038Z",
     "iopub.status.idle": "2024-02-24T14:07:14.647079Z",
     "shell.execute_reply": "2024-02-24T14:07:14.646768Z",
     "shell.execute_reply.started": "2024-02-24T14:07:14.644145Z"
    },
    "tags": []
   },
   "outputs": [],
   "source": [
    "#my_collection = \"LATISS/runs/AUXTEL_DRP_IMAGING_2023-11A-10A-09AB-08ABC-07AB-05AB/w_2023_46/PREOPS-4553\"\n",
    "my_collection = \"LATISS/runs/AUXTEL_DRP_IMAGING_20230509_20240201/w_2024_05/PREOPS-4871\""
   ]
  },
  {
   "cell_type": "code",
   "execution_count": 21,
   "id": "e0741000-7c9c-4882-a491-c429fda98cfd",
   "metadata": {
    "execution": {
     "iopub.execute_input": "2024-02-24T14:07:14.647658Z",
     "iopub.status.busy": "2024-02-24T14:07:14.647539Z",
     "iopub.status.idle": "2024-02-24T14:07:14.893310Z",
     "shell.execute_reply": "2024-02-24T14:07:14.892900Z",
     "shell.execute_reply.started": "2024-02-24T14:07:14.647647Z"
    }
   },
   "outputs": [],
   "source": [
    "skymap_auxtel ='latiss_v1'\n",
    "skymap = butler.get('skyMap', skymap=skymap_auxtel, collections=my_collection)"
   ]
  },
  {
   "cell_type": "markdown",
   "id": "a7587b10-c178-4537-9c34-60867b69fa01",
   "metadata": {},
   "source": [
    "## Config"
   ]
  },
  {
   "cell_type": "code",
   "execution_count": 22,
   "id": "2e1cdf2d-be43-4747-bd21-c178e3b9983b",
   "metadata": {
    "execution": {
     "iopub.execute_input": "2024-02-24T14:07:14.893995Z",
     "iopub.status.busy": "2024-02-24T14:07:14.893840Z",
     "iopub.status.idle": "2024-02-24T14:07:14.895905Z",
     "shell.execute_reply": "2024-02-24T14:07:14.895545Z",
     "shell.execute_reply.started": "2024-02-24T14:07:14.893983Z"
    }
   },
   "outputs": [],
   "source": [
    "#Auxtel2023_tracts = [ 5616,5634,5615,10644,383,8188,3863,455,452,5839,10643,382]"
   ]
  },
  {
   "cell_type": "code",
   "execution_count": 23,
   "id": "4e0f9678-ee96-49ba-886f-6fec59f400c9",
   "metadata": {
    "execution": {
     "iopub.execute_input": "2024-02-24T14:07:14.896532Z",
     "iopub.status.busy": "2024-02-24T14:07:14.896383Z",
     "iopub.status.idle": "2024-02-24T14:07:14.900175Z",
     "shell.execute_reply": "2024-02-24T14:07:14.899825Z",
     "shell.execute_reply.started": "2024-02-24T14:07:14.896520Z"
    }
   },
   "outputs": [],
   "source": [
    "Auxtel2023_tracts = [382,383,452,455,\n",
    "                     3863,3864,\n",
    "                     5614,5615,5616,5634,5839,\n",
    "                     #8188,\n",
    "                     10643,10644]"
   ]
  },
  {
   "cell_type": "code",
   "execution_count": 24,
   "id": "34753b23-850b-407a-9b62-d6873b7afbb0",
   "metadata": {
    "execution": {
     "iopub.execute_input": "2024-02-24T14:07:14.900836Z",
     "iopub.status.busy": "2024-02-24T14:07:14.900707Z",
     "iopub.status.idle": "2024-02-24T14:07:14.939610Z",
     "shell.execute_reply": "2024-02-24T14:07:14.939248Z",
     "shell.execute_reply.started": "2024-02-24T14:07:14.900824Z"
    }
   },
   "outputs": [],
   "source": [
    "with open('Latiss_tractspatchs.pickle', 'rb') as handle:\n",
    "    tracts_patchs_dict = pickle.load(handle)"
   ]
  },
  {
   "cell_type": "code",
   "execution_count": 25,
   "id": "e1115676-ee75-409e-b35a-1a51f53f52cc",
   "metadata": {
    "execution": {
     "iopub.execute_input": "2024-02-24T14:07:14.940204Z",
     "iopub.status.busy": "2024-02-24T14:07:14.940081Z",
     "iopub.status.idle": "2024-02-24T14:07:14.943415Z",
     "shell.execute_reply": "2024-02-24T14:07:14.943063Z",
     "shell.execute_reply.started": "2024-02-24T14:07:14.940192Z"
    }
   },
   "outputs": [
    {
     "data": {
      "text/plain": [
       "{5616: array([335, 355, 358, 336, 337, 338, 316, 357, 317, 356]),\n",
       " 5634: array([ 91,  52,  93,  72,  92, 109, 110,  54,  71,  53,  55, 112, 111,\n",
       "         74,  73,  90]),\n",
       " 5615: array([332, 333, 312, 313, 295, 331, 276, 275, 294, 293, 314, 274]),\n",
       " 10644: array([166, 184, 183, 201, 161, 180, 207, 188, 202, 182, 189, 208, 164,\n",
       "        181, 185, 165, 203, 162]),\n",
       " 383: array([359, 360]),\n",
       " 8188: array([48, 65, 47, 28, 46, 66, 27]),\n",
       " 3863: array([241, 243, 242, 260, 261, 222, 262, 224, 223]),\n",
       " 455: array([52, 33, 51, 32, 14, 53, 34, 15, 13]),\n",
       " 452: array([42, 44, 25, 24, 63, 23, 43, 62]),\n",
       " 5839: array([9, 7, 8]),\n",
       " 10643: array([171, 190]),\n",
       " 382: array([343, 342])}"
      ]
     },
     "execution_count": 25,
     "metadata": {},
     "output_type": "execute_result"
    }
   ],
   "source": [
    "tracts_patchs_dict"
   ]
  },
  {
   "cell_type": "code",
   "execution_count": 26,
   "id": "a0e46a92-2205-40ec-80ec-a8aef43dc267",
   "metadata": {
    "execution": {
     "iopub.execute_input": "2024-02-24T14:07:14.943988Z",
     "iopub.status.busy": "2024-02-24T14:07:14.943868Z",
     "iopub.status.idle": "2024-02-24T14:07:14.946047Z",
     "shell.execute_reply": "2024-02-24T14:07:14.945712Z",
     "shell.execute_reply.started": "2024-02-24T14:07:14.943977Z"
    }
   },
   "outputs": [],
   "source": [
    "#tract_selected = 5615\n",
    "#patches_selected = [294,313]\n",
    "#suptitle = f\"CCD visit in tract {tract_selected} and patches {patches_selected[0]} and {patches_selected[1]}\""
   ]
  },
  {
   "cell_type": "markdown",
   "id": "bd6be2f5-4ad5-4a7a-9b70-03ee25079e79",
   "metadata": {},
   "source": [
    "### Find tract"
   ]
  },
  {
   "cell_type": "code",
   "execution_count": 27,
   "id": "239848e5-5519-4ee6-a2b4-52bbb5ce72f9",
   "metadata": {
    "execution": {
     "iopub.execute_input": "2024-02-24T14:07:14.946600Z",
     "iopub.status.busy": "2024-02-24T14:07:14.946485Z",
     "iopub.status.idle": "2024-02-24T14:07:30.113286Z",
     "shell.execute_reply": "2024-02-24T14:07:30.112783Z",
     "shell.execute_reply.started": "2024-02-24T14:07:14.946589Z"
    }
   },
   "outputs": [],
   "source": [
    "tractsInfo_dict = {}\n",
    "tractsInfoWCS_dict = {}\n",
    "tractsId_list = list(tracts_patchs_dict.keys())\n",
    "\n",
    "# loop to select the good tracts\n",
    "for tractInfo in skymap:\n",
    "    tractID = tractInfo.getId()\n",
    "    # is this tract in Auxtel tract list\n",
    "    if tractID in tractsId_list:\n",
    "        # keep tractInfo\n",
    "        tractsInfo_dict[tractID] = tractInfo \n",
    "        # keep WCS\n",
    "        tractsInfoWCS_dict[tractID] = tractInfo.getWcs()\n"
   ]
  },
  {
   "cell_type": "code",
   "execution_count": 28,
   "id": "9f5a034c-fb7f-41a1-83b8-a1c38ff4e2cd",
   "metadata": {
    "execution": {
     "iopub.execute_input": "2024-02-24T14:07:30.114092Z",
     "iopub.status.busy": "2024-02-24T14:07:30.113937Z",
     "iopub.status.idle": "2024-02-24T14:07:30.116368Z",
     "shell.execute_reply": "2024-02-24T14:07:30.115990Z",
     "shell.execute_reply.started": "2024-02-24T14:07:30.114078Z"
    }
   },
   "outputs": [],
   "source": [
    "#print(tractsInfo_dict)"
   ]
  },
  {
   "cell_type": "code",
   "execution_count": 29,
   "id": "8f863bce-e11a-492e-a0dd-b7a38a429c58",
   "metadata": {
    "execution": {
     "iopub.execute_input": "2024-02-24T14:07:30.117060Z",
     "iopub.status.busy": "2024-02-24T14:07:30.116928Z",
     "iopub.status.idle": "2024-02-24T14:07:30.120198Z",
     "shell.execute_reply": "2024-02-24T14:07:30.119837Z",
     "shell.execute_reply.started": "2024-02-24T14:07:30.117048Z"
    }
   },
   "outputs": [],
   "source": [
    "#print(tractsInfoWCS_dict)"
   ]
  },
  {
   "cell_type": "markdown",
   "id": "a72c2c07-ff40-49d9-a36d-5277cbbc5cec",
   "metadata": {},
   "source": [
    "# Sources"
   ]
  },
  {
   "cell_type": "code",
   "execution_count": 30,
   "id": "c2bca87f-8b3a-44ee-afa5-5b8e0b8f9b9d",
   "metadata": {
    "execution": {
     "iopub.execute_input": "2024-02-24T14:07:30.120843Z",
     "iopub.status.busy": "2024-02-24T14:07:30.120716Z",
     "iopub.status.idle": "2024-02-24T14:07:30.286200Z",
     "shell.execute_reply": "2024-02-24T14:07:30.285774Z",
     "shell.execute_reply.started": "2024-02-24T14:07:30.120832Z"
    },
    "tags": []
   },
   "outputs": [],
   "source": [
    "datasetRefs = butler.registry.queryDatasets(datasetType='ccdVisitTable', collections=my_collection, where= \"instrument='LATISS'\")"
   ]
  },
  {
   "cell_type": "code",
   "execution_count": 31,
   "id": "a01bb1b1-a2fe-4060-85ff-fb9e9c5dbb74",
   "metadata": {
    "execution": {
     "iopub.execute_input": "2024-02-24T14:07:30.286898Z",
     "iopub.status.busy": "2024-02-24T14:07:30.286724Z",
     "iopub.status.idle": "2024-02-24T14:07:30.296146Z",
     "shell.execute_reply": "2024-02-24T14:07:30.295627Z",
     "shell.execute_reply.started": "2024-02-24T14:07:30.286885Z"
    },
    "tags": []
   },
   "outputs": [
    {
     "name": "stdout",
     "output_type": "stream",
     "text": [
      "========================datasetType = ccdVisitTable ============================================\n",
      "fullId..................: {instrument: 'LATISS'}\n"
     ]
    },
    {
     "name": "stderr",
     "output_type": "stream",
     "text": [
      "/tmp/ipykernel_13458/3564957682.py:3: FutureWarning: Call to deprecated function (or staticmethod) full. (DataCoordinate.full is deprecated in favor of .mapping, and will be dropped after v27.) -- Deprecated since version v27.\n",
      "  print(\"fullId..................:\",ref.dataId.full)\n"
     ]
    }
   ],
   "source": [
    "for i, ref in enumerate(datasetRefs):\n",
    "    print(\"========================datasetType = ccdVisitTable ============================================\")\n",
    "    print(\"fullId..................:\",ref.dataId.full)  "
   ]
  },
  {
   "cell_type": "code",
   "execution_count": 32,
   "id": "8ea5496c-40b0-46cb-b298-b018d762014a",
   "metadata": {
    "execution": {
     "iopub.execute_input": "2024-02-24T14:07:30.296999Z",
     "iopub.status.busy": "2024-02-24T14:07:30.296709Z",
     "iopub.status.idle": "2024-02-24T14:07:30.390043Z",
     "shell.execute_reply": "2024-02-24T14:07:30.389625Z",
     "shell.execute_reply.started": "2024-02-24T14:07:30.296985Z"
    }
   },
   "outputs": [
    {
     "data": {
      "text/html": [
       "<div>\n",
       "<style scoped>\n",
       "    .dataframe tbody tr th:only-of-type {\n",
       "        vertical-align: middle;\n",
       "    }\n",
       "\n",
       "    .dataframe tbody tr th {\n",
       "        vertical-align: top;\n",
       "    }\n",
       "\n",
       "    .dataframe thead th {\n",
       "        text-align: right;\n",
       "    }\n",
       "</style>\n",
       "<table border=\"1\" class=\"dataframe\">\n",
       "  <thead>\n",
       "    <tr style=\"text-align: right;\">\n",
       "      <th></th>\n",
       "      <th>visit</th>\n",
       "      <th>physical_filter</th>\n",
       "      <th>band</th>\n",
       "      <th>ra</th>\n",
       "      <th>dec</th>\n",
       "      <th>decl</th>\n",
       "      <th>skyRotation</th>\n",
       "      <th>azimuth</th>\n",
       "      <th>altitude</th>\n",
       "      <th>zenithDistance</th>\n",
       "      <th>airmass</th>\n",
       "      <th>expTime</th>\n",
       "      <th>expMidpt</th>\n",
       "      <th>expMidptMJD</th>\n",
       "      <th>obsStart</th>\n",
       "      <th>obsStartMJD</th>\n",
       "    </tr>\n",
       "    <tr>\n",
       "      <th>visitId</th>\n",
       "      <th></th>\n",
       "      <th></th>\n",
       "      <th></th>\n",
       "      <th></th>\n",
       "      <th></th>\n",
       "      <th></th>\n",
       "      <th></th>\n",
       "      <th></th>\n",
       "      <th></th>\n",
       "      <th></th>\n",
       "      <th></th>\n",
       "      <th></th>\n",
       "      <th></th>\n",
       "      <th></th>\n",
       "      <th></th>\n",
       "      <th></th>\n",
       "    </tr>\n",
       "  </thead>\n",
       "  <tbody>\n",
       "    <tr>\n",
       "      <th>2023051100262</th>\n",
       "      <td>2023051100262</td>\n",
       "      <td>SDSSr_65mm~empty</td>\n",
       "      <td>r</td>\n",
       "      <td>239.941279</td>\n",
       "      <td>-24.050861</td>\n",
       "      <td>-24.050861</td>\n",
       "      <td>322.911701</td>\n",
       "      <td>100.652699</td>\n",
       "      <td>33.079204</td>\n",
       "      <td>56.920796</td>\n",
       "      <td>1.826588</td>\n",
       "      <td>30.0</td>\n",
       "      <td>2023-05-12 01:08:56.302993</td>\n",
       "      <td>60076.047874</td>\n",
       "      <td>2023-05-12 01:08:41.302993</td>\n",
       "      <td>60076.047700</td>\n",
       "    </tr>\n",
       "    <tr>\n",
       "      <th>2023051100263</th>\n",
       "      <td>2023051100263</td>\n",
       "      <td>SDSSg_65mm~empty</td>\n",
       "      <td>g</td>\n",
       "      <td>239.943099</td>\n",
       "      <td>-24.042851</td>\n",
       "      <td>-24.042851</td>\n",
       "      <td>170.005077</td>\n",
       "      <td>100.427273</td>\n",
       "      <td>33.535722</td>\n",
       "      <td>56.464278</td>\n",
       "      <td>1.804276</td>\n",
       "      <td>30.0</td>\n",
       "      <td>2023-05-12 01:11:06.209005</td>\n",
       "      <td>60076.049377</td>\n",
       "      <td>2023-05-12 01:10:51.209005</td>\n",
       "      <td>60076.049204</td>\n",
       "    </tr>\n",
       "    <tr>\n",
       "      <th>2023051100264</th>\n",
       "      <td>2023051100264</td>\n",
       "      <td>SDSSi_65mm~empty</td>\n",
       "      <td>i</td>\n",
       "      <td>239.940919</td>\n",
       "      <td>-24.040927</td>\n",
       "      <td>-24.040927</td>\n",
       "      <td>170.004955</td>\n",
       "      <td>100.024337</td>\n",
       "      <td>34.385246</td>\n",
       "      <td>55.614754</td>\n",
       "      <td>1.765315</td>\n",
       "      <td>30.0</td>\n",
       "      <td>2023-05-12 01:15:04.912000</td>\n",
       "      <td>60076.052140</td>\n",
       "      <td>2023-05-12 01:14:49.912000</td>\n",
       "      <td>60076.051967</td>\n",
       "    </tr>\n",
       "    <tr>\n",
       "      <th>2023051100268</th>\n",
       "      <td>2023051100268</td>\n",
       "      <td>SDSSr_65mm~empty</td>\n",
       "      <td>r</td>\n",
       "      <td>239.960079</td>\n",
       "      <td>-24.042010</td>\n",
       "      <td>-24.042010</td>\n",
       "      <td>323.867206</td>\n",
       "      <td>99.573769</td>\n",
       "      <td>35.343223</td>\n",
       "      <td>54.656777</td>\n",
       "      <td>1.724092</td>\n",
       "      <td>30.0</td>\n",
       "      <td>2023-05-12 01:19:39.311494</td>\n",
       "      <td>60076.055316</td>\n",
       "      <td>2023-05-12 01:19:24.311494</td>\n",
       "      <td>60076.055142</td>\n",
       "    </tr>\n",
       "    <tr>\n",
       "      <th>2023051100270</th>\n",
       "      <td>2023051100270</td>\n",
       "      <td>SDSSi_65mm~empty</td>\n",
       "      <td>i</td>\n",
       "      <td>239.963850</td>\n",
       "      <td>-24.048746</td>\n",
       "      <td>-24.048746</td>\n",
       "      <td>170.004124</td>\n",
       "      <td>99.285576</td>\n",
       "      <td>35.972240</td>\n",
       "      <td>54.027760</td>\n",
       "      <td>1.697680</td>\n",
       "      <td>30.0</td>\n",
       "      <td>2023-05-12 01:22:36.150002</td>\n",
       "      <td>60076.057363</td>\n",
       "      <td>2023-05-12 01:22:21.150002</td>\n",
       "      <td>60076.057189</td>\n",
       "    </tr>\n",
       "  </tbody>\n",
       "</table>\n",
       "</div>"
      ],
      "text/plain": [
       "                       visit   physical_filter band          ra        dec  \\\n",
       "visitId                                                                      \n",
       "2023051100262  2023051100262  SDSSr_65mm~empty    r  239.941279 -24.050861   \n",
       "2023051100263  2023051100263  SDSSg_65mm~empty    g  239.943099 -24.042851   \n",
       "2023051100264  2023051100264  SDSSi_65mm~empty    i  239.940919 -24.040927   \n",
       "2023051100268  2023051100268  SDSSr_65mm~empty    r  239.960079 -24.042010   \n",
       "2023051100270  2023051100270  SDSSi_65mm~empty    i  239.963850 -24.048746   \n",
       "\n",
       "                    decl  skyRotation     azimuth   altitude  zenithDistance  \\\n",
       "visitId                                                                        \n",
       "2023051100262 -24.050861   322.911701  100.652699  33.079204       56.920796   \n",
       "2023051100263 -24.042851   170.005077  100.427273  33.535722       56.464278   \n",
       "2023051100264 -24.040927   170.004955  100.024337  34.385246       55.614754   \n",
       "2023051100268 -24.042010   323.867206   99.573769  35.343223       54.656777   \n",
       "2023051100270 -24.048746   170.004124   99.285576  35.972240       54.027760   \n",
       "\n",
       "                airmass  expTime                   expMidpt   expMidptMJD  \\\n",
       "visitId                                                                     \n",
       "2023051100262  1.826588     30.0 2023-05-12 01:08:56.302993  60076.047874   \n",
       "2023051100263  1.804276     30.0 2023-05-12 01:11:06.209005  60076.049377   \n",
       "2023051100264  1.765315     30.0 2023-05-12 01:15:04.912000  60076.052140   \n",
       "2023051100268  1.724092     30.0 2023-05-12 01:19:39.311494  60076.055316   \n",
       "2023051100270  1.697680     30.0 2023-05-12 01:22:36.150002  60076.057363   \n",
       "\n",
       "                                obsStart   obsStartMJD  \n",
       "visitId                                                 \n",
       "2023051100262 2023-05-12 01:08:41.302993  60076.047700  \n",
       "2023051100263 2023-05-12 01:10:51.209005  60076.049204  \n",
       "2023051100264 2023-05-12 01:14:49.912000  60076.051967  \n",
       "2023051100268 2023-05-12 01:19:24.311494  60076.055142  \n",
       "2023051100270 2023-05-12 01:22:21.150002  60076.057189  "
      ]
     },
     "execution_count": 32,
     "metadata": {},
     "output_type": "execute_result"
    }
   ],
   "source": [
    "visit_table = butler.get('visitTable', dataId={'instrument': 'LATISS', 'detector': 0}, collections = my_collection )    \n",
    "visit_table.head()"
   ]
  },
  {
   "cell_type": "code",
   "execution_count": 33,
   "id": "3fe7bcf7-0403-4b9e-a79e-8b66ff94d1c3",
   "metadata": {
    "execution": {
     "iopub.execute_input": "2024-02-24T14:07:30.390777Z",
     "iopub.status.busy": "2024-02-24T14:07:30.390629Z",
     "iopub.status.idle": "2024-02-24T14:07:30.444805Z",
     "shell.execute_reply": "2024-02-24T14:07:30.444423Z",
     "shell.execute_reply.started": "2024-02-24T14:07:30.390762Z"
    }
   },
   "outputs": [
    {
     "data": {
      "text/html": [
       "<div>\n",
       "<style scoped>\n",
       "    .dataframe tbody tr th:only-of-type {\n",
       "        vertical-align: middle;\n",
       "    }\n",
       "\n",
       "    .dataframe tbody tr th {\n",
       "        vertical-align: top;\n",
       "    }\n",
       "\n",
       "    .dataframe thead th {\n",
       "        text-align: right;\n",
       "    }\n",
       "</style>\n",
       "<table border=\"1\" class=\"dataframe\">\n",
       "  <thead>\n",
       "    <tr style=\"text-align: right;\">\n",
       "      <th></th>\n",
       "      <th>visitId</th>\n",
       "      <th>physical_filter</th>\n",
       "      <th>band</th>\n",
       "      <th>ra</th>\n",
       "      <th>dec</th>\n",
       "      <th>zenithDistance</th>\n",
       "      <th>zeroPoint</th>\n",
       "      <th>psfSigma</th>\n",
       "      <th>skyBg</th>\n",
       "      <th>skyNoise</th>\n",
       "      <th>astromOffsetMean</th>\n",
       "      <th>astromOffsetStd</th>\n",
       "      <th>nPsfStar</th>\n",
       "      <th>psfStarDeltaE1Median</th>\n",
       "      <th>psfStarDeltaE2Median</th>\n",
       "      <th>psfStarDeltaE1Scatter</th>\n",
       "      <th>psfStarDeltaE2Scatter</th>\n",
       "      <th>psfStarDeltaSizeMedian</th>\n",
       "      <th>psfStarDeltaSizeScatter</th>\n",
       "      <th>psfStarScaledDeltaSizeScatter</th>\n",
       "      <th>psfTraceRadiusDelta</th>\n",
       "      <th>maxDistToNearestPsf</th>\n",
       "      <th>effTime</th>\n",
       "      <th>effTimePsfSigmaScale</th>\n",
       "      <th>effTimeSkyBgScale</th>\n",
       "      <th>effTimeZeroPointScale</th>\n",
       "      <th>decl</th>\n",
       "      <th>detector</th>\n",
       "      <th>seeing</th>\n",
       "      <th>skyRotation</th>\n",
       "      <th>expMidpt</th>\n",
       "      <th>expMidptMJD</th>\n",
       "      <th>expTime</th>\n",
       "      <th>obsStart</th>\n",
       "      <th>obsStartMJD</th>\n",
       "      <th>darkTime</th>\n",
       "      <th>xSize</th>\n",
       "      <th>ySize</th>\n",
       "      <th>llcra</th>\n",
       "      <th>llcdec</th>\n",
       "      <th>ulcra</th>\n",
       "      <th>ulcdec</th>\n",
       "      <th>urcra</th>\n",
       "      <th>urcdec</th>\n",
       "      <th>lrcra</th>\n",
       "      <th>lrcdec</th>\n",
       "    </tr>\n",
       "    <tr>\n",
       "      <th>ccdVisitId</th>\n",
       "      <th></th>\n",
       "      <th></th>\n",
       "      <th></th>\n",
       "      <th></th>\n",
       "      <th></th>\n",
       "      <th></th>\n",
       "      <th></th>\n",
       "      <th></th>\n",
       "      <th></th>\n",
       "      <th></th>\n",
       "      <th></th>\n",
       "      <th></th>\n",
       "      <th></th>\n",
       "      <th></th>\n",
       "      <th></th>\n",
       "      <th></th>\n",
       "      <th></th>\n",
       "      <th></th>\n",
       "      <th></th>\n",
       "      <th></th>\n",
       "      <th></th>\n",
       "      <th></th>\n",
       "      <th></th>\n",
       "      <th></th>\n",
       "      <th></th>\n",
       "      <th></th>\n",
       "      <th></th>\n",
       "      <th></th>\n",
       "      <th></th>\n",
       "      <th></th>\n",
       "      <th></th>\n",
       "      <th></th>\n",
       "      <th></th>\n",
       "      <th></th>\n",
       "      <th></th>\n",
       "      <th></th>\n",
       "      <th></th>\n",
       "      <th></th>\n",
       "      <th></th>\n",
       "      <th></th>\n",
       "      <th></th>\n",
       "      <th></th>\n",
       "      <th></th>\n",
       "      <th></th>\n",
       "      <th></th>\n",
       "      <th></th>\n",
       "    </tr>\n",
       "  </thead>\n",
       "  <tbody>\n",
       "    <tr>\n",
       "      <th>40919696896</th>\n",
       "      <td>2023051100262</td>\n",
       "      <td>SDSSr_65mm~empty</td>\n",
       "      <td>r</td>\n",
       "      <td>239.946728</td>\n",
       "      <td>-24.053747</td>\n",
       "      <td>56.749516</td>\n",
       "      <td>27.690649</td>\n",
       "      <td>7.814408</td>\n",
       "      <td>11.197219</td>\n",
       "      <td>7.856582</td>\n",
       "      <td>0.026538</td>\n",
       "      <td>0.014041</td>\n",
       "      <td>42</td>\n",
       "      <td>-0.007038</td>\n",
       "      <td>0.000486</td>\n",
       "      <td>0.032627</td>\n",
       "      <td>0.014318</td>\n",
       "      <td>0.107089</td>\n",
       "      <td>0.110564</td>\n",
       "      <td>0.013839</td>\n",
       "      <td>0.879543</td>\n",
       "      <td>2160.236328</td>\n",
       "      <td>0.207786</td>\n",
       "      <td>0.016376</td>\n",
       "      <td>2.679237</td>\n",
       "      <td>0.157862</td>\n",
       "      <td>-24.053747</td>\n",
       "      <td>0</td>\n",
       "      <td>1.761132</td>\n",
       "      <td>322.911701</td>\n",
       "      <td>2023-05-12 01:08:56.302993</td>\n",
       "      <td>60076.047874</td>\n",
       "      <td>30.0</td>\n",
       "      <td>2023-05-12 01:08:41.302993</td>\n",
       "      <td>60076.047700</td>\n",
       "      <td>30.2434</td>\n",
       "      <td>4071</td>\n",
       "      <td>3999</td>\n",
       "      <td>239.935567</td>\n",
       "      <td>-24.128924</td>\n",
       "      <td>240.029265</td>\n",
       "      <td>-24.062574</td>\n",
       "      <td>239.957876</td>\n",
       "      <td>-23.978569</td>\n",
       "      <td>239.864202</td>\n",
       "      <td>-24.044875</td>\n",
       "    </tr>\n",
       "    <tr>\n",
       "      <th>40919697152</th>\n",
       "      <td>2023051100263</td>\n",
       "      <td>SDSSg_65mm~empty</td>\n",
       "      <td>g</td>\n",
       "      <td>239.941334</td>\n",
       "      <td>-24.038378</td>\n",
       "      <td>56.289413</td>\n",
       "      <td>27.925329</td>\n",
       "      <td>7.783146</td>\n",
       "      <td>3.989901</td>\n",
       "      <td>7.472743</td>\n",
       "      <td>0.024001</td>\n",
       "      <td>0.011537</td>\n",
       "      <td>17</td>\n",
       "      <td>0.020877</td>\n",
       "      <td>0.003123</td>\n",
       "      <td>0.037679</td>\n",
       "      <td>0.028327</td>\n",
       "      <td>0.131853</td>\n",
       "      <td>0.174565</td>\n",
       "      <td>0.021897</td>\n",
       "      <td>5.176466</td>\n",
       "      <td>2552.229980</td>\n",
       "      <td>0.905713</td>\n",
       "      <td>0.016508</td>\n",
       "      <td>7.518984</td>\n",
       "      <td>0.243232</td>\n",
       "      <td>-24.038378</td>\n",
       "      <td>0</td>\n",
       "      <td>1.754283</td>\n",
       "      <td>170.005077</td>\n",
       "      <td>2023-05-12 01:11:06.209005</td>\n",
       "      <td>60076.049377</td>\n",
       "      <td>30.0</td>\n",
       "      <td>2023-05-12 01:10:51.209005</td>\n",
       "      <td>60076.049204</td>\n",
       "      <td>30.2343</td>\n",
       "      <td>4071</td>\n",
       "      <td>3999</td>\n",
       "      <td>239.988739</td>\n",
       "      <td>-23.976095</td>\n",
       "      <td>239.872244</td>\n",
       "      <td>-23.996199</td>\n",
       "      <td>239.893884</td>\n",
       "      <td>-24.100647</td>\n",
       "      <td>240.010470</td>\n",
       "      <td>-24.080526</td>\n",
       "    </tr>\n",
       "    <tr>\n",
       "      <th>40919697408</th>\n",
       "      <td>2023051100264</td>\n",
       "      <td>SDSSi_65mm~empty</td>\n",
       "      <td>i</td>\n",
       "      <td>239.938164</td>\n",
       "      <td>-24.036848</td>\n",
       "      <td>55.439133</td>\n",
       "      <td>27.837013</td>\n",
       "      <td>6.324102</td>\n",
       "      <td>28.071854</td>\n",
       "      <td>8.586543</td>\n",
       "      <td>0.026761</td>\n",
       "      <td>0.017073</td>\n",
       "      <td>39</td>\n",
       "      <td>0.007049</td>\n",
       "      <td>-0.012680</td>\n",
       "      <td>0.025506</td>\n",
       "      <td>0.043905</td>\n",
       "      <td>0.010775</td>\n",
       "      <td>0.095402</td>\n",
       "      <td>0.015088</td>\n",
       "      <td>0.304010</td>\n",
       "      <td>1387.484985</td>\n",
       "      <td>0.165707</td>\n",
       "      <td>0.025004</td>\n",
       "      <td>1.068686</td>\n",
       "      <td>0.206713</td>\n",
       "      <td>-24.036848</td>\n",
       "      <td>0</td>\n",
       "      <td>1.425322</td>\n",
       "      <td>170.004955</td>\n",
       "      <td>2023-05-12 01:15:04.912000</td>\n",
       "      <td>60076.052140</td>\n",
       "      <td>30.0</td>\n",
       "      <td>2023-05-12 01:14:49.912000</td>\n",
       "      <td>60076.051967</td>\n",
       "      <td>30.2335</td>\n",
       "      <td>4071</td>\n",
       "      <td>3999</td>\n",
       "      <td>239.985571</td>\n",
       "      <td>-23.974553</td>\n",
       "      <td>239.869115</td>\n",
       "      <td>-23.994653</td>\n",
       "      <td>239.890710</td>\n",
       "      <td>-24.099127</td>\n",
       "      <td>240.007258</td>\n",
       "      <td>-24.079012</td>\n",
       "    </tr>\n",
       "    <tr>\n",
       "      <th>40919698432</th>\n",
       "      <td>2023051100268</td>\n",
       "      <td>SDSSr_65mm~empty</td>\n",
       "      <td>r</td>\n",
       "      <td>239.964414</td>\n",
       "      <td>-24.045512</td>\n",
       "      <td>54.482189</td>\n",
       "      <td>27.765863</td>\n",
       "      <td>8.100543</td>\n",
       "      <td>10.701077</td>\n",
       "      <td>7.854048</td>\n",
       "      <td>0.024562</td>\n",
       "      <td>0.014017</td>\n",
       "      <td>32</td>\n",
       "      <td>-0.001813</td>\n",
       "      <td>-0.007225</td>\n",
       "      <td>0.012738</td>\n",
       "      <td>0.015732</td>\n",
       "      <td>0.153432</td>\n",
       "      <td>0.113233</td>\n",
       "      <td>0.013615</td>\n",
       "      <td>0.492057</td>\n",
       "      <td>2023.047119</td>\n",
       "      <td>0.232399</td>\n",
       "      <td>0.015240</td>\n",
       "      <td>2.803456</td>\n",
       "      <td>0.181321</td>\n",
       "      <td>-24.045512</td>\n",
       "      <td>0</td>\n",
       "      <td>1.825525</td>\n",
       "      <td>323.867206</td>\n",
       "      <td>2023-05-12 01:19:39.311494</td>\n",
       "      <td>60076.055316</td>\n",
       "      <td>30.0</td>\n",
       "      <td>2023-05-12 01:19:24.311494</td>\n",
       "      <td>60076.055142</td>\n",
       "      <td>30.2379</td>\n",
       "      <td>4071</td>\n",
       "      <td>3999</td>\n",
       "      <td>239.951871</td>\n",
       "      <td>-24.120505</td>\n",
       "      <td>240.046767</td>\n",
       "      <td>-24.055593</td>\n",
       "      <td>239.976942</td>\n",
       "      <td>-23.970518</td>\n",
       "      <td>239.882074</td>\n",
       "      <td>-24.035387</td>\n",
       "    </tr>\n",
       "    <tr>\n",
       "      <th>40919698944</th>\n",
       "      <td>2023051100270</td>\n",
       "      <td>SDSSi_65mm~empty</td>\n",
       "      <td>i</td>\n",
       "      <td>239.961137</td>\n",
       "      <td>-24.046364</td>\n",
       "      <td>53.849274</td>\n",
       "      <td>27.847099</td>\n",
       "      <td>6.745777</td>\n",
       "      <td>23.952093</td>\n",
       "      <td>8.440446</td>\n",
       "      <td>0.023946</td>\n",
       "      <td>0.012757</td>\n",
       "      <td>33</td>\n",
       "      <td>-0.011323</td>\n",
       "      <td>0.002748</td>\n",
       "      <td>0.035845</td>\n",
       "      <td>0.022814</td>\n",
       "      <td>-0.030170</td>\n",
       "      <td>0.125044</td>\n",
       "      <td>0.018293</td>\n",
       "      <td>1.152671</td>\n",
       "      <td>1726.039673</td>\n",
       "      <td>0.173889</td>\n",
       "      <td>0.021975</td>\n",
       "      <td>1.252500</td>\n",
       "      <td>0.210590</td>\n",
       "      <td>-24.046364</td>\n",
       "      <td>0</td>\n",
       "      <td>1.520381</td>\n",
       "      <td>170.004124</td>\n",
       "      <td>2023-05-12 01:22:36.150002</td>\n",
       "      <td>60076.057363</td>\n",
       "      <td>30.0</td>\n",
       "      <td>2023-05-12 01:22:21.150002</td>\n",
       "      <td>60076.057189</td>\n",
       "      <td>30.2424</td>\n",
       "      <td>4071</td>\n",
       "      <td>3999</td>\n",
       "      <td>240.008535</td>\n",
       "      <td>-23.984061</td>\n",
       "      <td>239.892085</td>\n",
       "      <td>-24.004162</td>\n",
       "      <td>239.913693</td>\n",
       "      <td>-24.108652</td>\n",
       "      <td>240.030234</td>\n",
       "      <td>-24.088534</td>\n",
       "    </tr>\n",
       "  </tbody>\n",
       "</table>\n",
       "</div>"
      ],
      "text/plain": [
       "                   visitId   physical_filter band          ra        dec  \\\n",
       "ccdVisitId                                                                 \n",
       "40919696896  2023051100262  SDSSr_65mm~empty    r  239.946728 -24.053747   \n",
       "40919697152  2023051100263  SDSSg_65mm~empty    g  239.941334 -24.038378   \n",
       "40919697408  2023051100264  SDSSi_65mm~empty    i  239.938164 -24.036848   \n",
       "40919698432  2023051100268  SDSSr_65mm~empty    r  239.964414 -24.045512   \n",
       "40919698944  2023051100270  SDSSi_65mm~empty    i  239.961137 -24.046364   \n",
       "\n",
       "             zenithDistance  zeroPoint  psfSigma      skyBg  skyNoise  \\\n",
       "ccdVisitId                                                              \n",
       "40919696896       56.749516  27.690649  7.814408  11.197219  7.856582   \n",
       "40919697152       56.289413  27.925329  7.783146   3.989901  7.472743   \n",
       "40919697408       55.439133  27.837013  6.324102  28.071854  8.586543   \n",
       "40919698432       54.482189  27.765863  8.100543  10.701077  7.854048   \n",
       "40919698944       53.849274  27.847099  6.745777  23.952093  8.440446   \n",
       "\n",
       "             astromOffsetMean  astromOffsetStd  nPsfStar  \\\n",
       "ccdVisitId                                                 \n",
       "40919696896          0.026538         0.014041        42   \n",
       "40919697152          0.024001         0.011537        17   \n",
       "40919697408          0.026761         0.017073        39   \n",
       "40919698432          0.024562         0.014017        32   \n",
       "40919698944          0.023946         0.012757        33   \n",
       "\n",
       "             psfStarDeltaE1Median  psfStarDeltaE2Median  \\\n",
       "ccdVisitId                                                \n",
       "40919696896             -0.007038              0.000486   \n",
       "40919697152              0.020877              0.003123   \n",
       "40919697408              0.007049             -0.012680   \n",
       "40919698432             -0.001813             -0.007225   \n",
       "40919698944             -0.011323              0.002748   \n",
       "\n",
       "             psfStarDeltaE1Scatter  psfStarDeltaE2Scatter  \\\n",
       "ccdVisitId                                                  \n",
       "40919696896               0.032627               0.014318   \n",
       "40919697152               0.037679               0.028327   \n",
       "40919697408               0.025506               0.043905   \n",
       "40919698432               0.012738               0.015732   \n",
       "40919698944               0.035845               0.022814   \n",
       "\n",
       "             psfStarDeltaSizeMedian  psfStarDeltaSizeScatter  \\\n",
       "ccdVisitId                                                     \n",
       "40919696896                0.107089                 0.110564   \n",
       "40919697152                0.131853                 0.174565   \n",
       "40919697408                0.010775                 0.095402   \n",
       "40919698432                0.153432                 0.113233   \n",
       "40919698944               -0.030170                 0.125044   \n",
       "\n",
       "             psfStarScaledDeltaSizeScatter  psfTraceRadiusDelta  \\\n",
       "ccdVisitId                                                        \n",
       "40919696896                       0.013839             0.879543   \n",
       "40919697152                       0.021897             5.176466   \n",
       "40919697408                       0.015088             0.304010   \n",
       "40919698432                       0.013615             0.492057   \n",
       "40919698944                       0.018293             1.152671   \n",
       "\n",
       "             maxDistToNearestPsf   effTime  effTimePsfSigmaScale  \\\n",
       "ccdVisitId                                                         \n",
       "40919696896          2160.236328  0.207786              0.016376   \n",
       "40919697152          2552.229980  0.905713              0.016508   \n",
       "40919697408          1387.484985  0.165707              0.025004   \n",
       "40919698432          2023.047119  0.232399              0.015240   \n",
       "40919698944          1726.039673  0.173889              0.021975   \n",
       "\n",
       "             effTimeSkyBgScale  effTimeZeroPointScale       decl  detector  \\\n",
       "ccdVisitId                                                                   \n",
       "40919696896           2.679237               0.157862 -24.053747         0   \n",
       "40919697152           7.518984               0.243232 -24.038378         0   \n",
       "40919697408           1.068686               0.206713 -24.036848         0   \n",
       "40919698432           2.803456               0.181321 -24.045512         0   \n",
       "40919698944           1.252500               0.210590 -24.046364         0   \n",
       "\n",
       "               seeing  skyRotation                   expMidpt   expMidptMJD  \\\n",
       "ccdVisitId                                                                    \n",
       "40919696896  1.761132   322.911701 2023-05-12 01:08:56.302993  60076.047874   \n",
       "40919697152  1.754283   170.005077 2023-05-12 01:11:06.209005  60076.049377   \n",
       "40919697408  1.425322   170.004955 2023-05-12 01:15:04.912000  60076.052140   \n",
       "40919698432  1.825525   323.867206 2023-05-12 01:19:39.311494  60076.055316   \n",
       "40919698944  1.520381   170.004124 2023-05-12 01:22:36.150002  60076.057363   \n",
       "\n",
       "             expTime                   obsStart   obsStartMJD  darkTime  \\\n",
       "ccdVisitId                                                                \n",
       "40919696896     30.0 2023-05-12 01:08:41.302993  60076.047700   30.2434   \n",
       "40919697152     30.0 2023-05-12 01:10:51.209005  60076.049204   30.2343   \n",
       "40919697408     30.0 2023-05-12 01:14:49.912000  60076.051967   30.2335   \n",
       "40919698432     30.0 2023-05-12 01:19:24.311494  60076.055142   30.2379   \n",
       "40919698944     30.0 2023-05-12 01:22:21.150002  60076.057189   30.2424   \n",
       "\n",
       "             xSize  ySize       llcra     llcdec       ulcra     ulcdec  \\\n",
       "ccdVisitId                                                                \n",
       "40919696896   4071   3999  239.935567 -24.128924  240.029265 -24.062574   \n",
       "40919697152   4071   3999  239.988739 -23.976095  239.872244 -23.996199   \n",
       "40919697408   4071   3999  239.985571 -23.974553  239.869115 -23.994653   \n",
       "40919698432   4071   3999  239.951871 -24.120505  240.046767 -24.055593   \n",
       "40919698944   4071   3999  240.008535 -23.984061  239.892085 -24.004162   \n",
       "\n",
       "                  urcra     urcdec       lrcra     lrcdec  \n",
       "ccdVisitId                                                 \n",
       "40919696896  239.957876 -23.978569  239.864202 -24.044875  \n",
       "40919697152  239.893884 -24.100647  240.010470 -24.080526  \n",
       "40919697408  239.890710 -24.099127  240.007258 -24.079012  \n",
       "40919698432  239.976942 -23.970518  239.882074 -24.035387  \n",
       "40919698944  239.913693 -24.108652  240.030234 -24.088534  "
      ]
     },
     "execution_count": 33,
     "metadata": {},
     "output_type": "execute_result"
    }
   ],
   "source": [
    "ccd_visit_table = butler.get('ccdVisitTable', dataId={'instrument': 'LATISS', 'detector': 0}, collections = my_collection )    \n",
    "ccd_visit_table.head()"
   ]
  },
  {
   "cell_type": "markdown",
   "id": "7c156e70-e9be-4b10-9b8c-8d590c043da9",
   "metadata": {},
   "source": [
    "### Compute night obs"
   ]
  },
  {
   "cell_type": "code",
   "execution_count": 34,
   "id": "e76572d2-6cc9-43b7-b535-6406d9994174",
   "metadata": {
    "execution": {
     "iopub.execute_input": "2024-02-24T14:07:30.445514Z",
     "iopub.status.busy": "2024-02-24T14:07:30.445352Z",
     "iopub.status.idle": "2024-02-24T14:07:30.468817Z",
     "shell.execute_reply": "2024-02-24T14:07:30.468414Z",
     "shell.execute_reply.started": "2024-02-24T14:07:30.445501Z"
    }
   },
   "outputs": [],
   "source": [
    "ccd_visit_table[\"nightObs\"] =ccd_visit_table.apply(lambda x: x['visitId']//100_000, axis=1)"
   ]
  },
  {
   "cell_type": "markdown",
   "id": "704c1020-b445-488d-ac43-a51b46662a3e",
   "metadata": {},
   "source": [
    "### Compute datetime to plot vs time"
   ]
  },
  {
   "cell_type": "code",
   "execution_count": 35,
   "id": "05c444f4-a8af-49cd-90d8-48292f9c6dd6",
   "metadata": {
    "execution": {
     "iopub.execute_input": "2024-02-24T14:07:30.469502Z",
     "iopub.status.busy": "2024-02-24T14:07:30.469369Z",
     "iopub.status.idle": "2024-02-24T14:07:30.474069Z",
     "shell.execute_reply": "2024-02-24T14:07:30.473646Z",
     "shell.execute_reply.started": "2024-02-24T14:07:30.469490Z"
    }
   },
   "outputs": [],
   "source": [
    "ccd_visit_table[\"Time\"] = pd.to_datetime(ccd_visit_table['obsStart'])"
   ]
  },
  {
   "cell_type": "markdown",
   "id": "6a8a093f-a39c-4f51-b2b6-684f9d8a5845",
   "metadata": {},
   "source": [
    "### Compute airmass"
   ]
  },
  {
   "cell_type": "code",
   "execution_count": 36,
   "id": "dba15b25-d2d6-4158-876a-9fc045657ca7",
   "metadata": {
    "execution": {
     "iopub.execute_input": "2024-02-24T14:07:30.474644Z",
     "iopub.status.busy": "2024-02-24T14:07:30.474517Z",
     "iopub.status.idle": "2024-02-24T14:07:30.481676Z",
     "shell.execute_reply": "2024-02-24T14:07:30.481308Z",
     "shell.execute_reply.started": "2024-02-24T14:07:30.474632Z"
    }
   },
   "outputs": [],
   "source": [
    "ccd_visit_table[\"airmass\"] = ccd_visit_table[\"zenithDistance\"].apply(lambda x: 1/np.cos(np.pi/180.*x))"
   ]
  },
  {
   "cell_type": "markdown",
   "id": "426e08cd-2219-4400-9d3d-1f2a064ce665",
   "metadata": {},
   "source": [
    "### Find those visits in the selected tract and patches"
   ]
  },
  {
   "cell_type": "code",
   "execution_count": 37,
   "id": "3fc22a66-a90d-4371-b073-1f1c34c806f7",
   "metadata": {
    "execution": {
     "iopub.execute_input": "2024-02-24T14:07:30.482247Z",
     "iopub.status.busy": "2024-02-24T14:07:30.482126Z",
     "iopub.status.idle": "2024-02-24T14:07:30.487335Z",
     "shell.execute_reply": "2024-02-24T14:07:30.486974Z",
     "shell.execute_reply.started": "2024-02-24T14:07:30.482235Z"
    }
   },
   "outputs": [],
   "source": [
    "def FindTractAndPatch(row):\n",
    "    \"\"\"\n",
    "    Apply this function on ccdvisitTable dataframe to find the tract and patch for each visit\n",
    "    \"\"\"\n",
    "    tractsId_list = list(tracts_patchs_dict.keys())   \n",
    "    try:\n",
    "        ra = row[\"ra\"]\n",
    "        dec = row[\"dec\"]\n",
    "        selectFlag = False\n",
    "        # loop on tract\n",
    "        for tractID in tractsId_list:\n",
    "            wcs = tractsInfoWCS_dict[tractID]\n",
    "            tractInfo = tractsInfo_dict[tractID] \n",
    "            patches_selected = list(tracts_patchs_dict[tractID])\n",
    "            # loop on patches\n",
    "            for patch in tractInfo:\n",
    "                patchID = patch.getSequentialIndex()\n",
    "                if patchID in patches_selected:\n",
    "                    ibb=patch.getInnerBBox()\n",
    "                    flag = isradec_inbbox_radec(ra,dec,wcs, ibb)\n",
    "                    selectFlag =  selectFlag or flag\n",
    "                    if selectFlag:\n",
    "                        return pd.Series([tractID,patchID])\n",
    "        return pd.Series([0,0])           \n",
    "                \n",
    "    except Exception as inst:\n",
    "        print(type(inst))    # the exception type\n",
    "        print(inst.args)     # arguments stored in .args\n",
    "        print(inst)          # __str__ allows args to be printed directly,\n",
    "        return pd.Series([0,0])  \n",
    "        "
   ]
  },
  {
   "cell_type": "code",
   "execution_count": 38,
   "id": "42b1477d-0fe2-439f-8322-b0fe5ea5c7dc",
   "metadata": {
    "execution": {
     "iopub.execute_input": "2024-02-24T14:07:30.487929Z",
     "iopub.status.busy": "2024-02-24T14:07:30.487804Z",
     "iopub.status.idle": "2024-02-24T14:07:30.491379Z",
     "shell.execute_reply": "2024-02-24T14:07:30.491049Z",
     "shell.execute_reply.started": "2024-02-24T14:07:30.487918Z"
    }
   },
   "outputs": [],
   "source": [
    "#ccd_visit_table[[\"patchID\",\"tractID\"]] = ccd_visit_table.apply( FindTractAndPatch, axis=1,result_type ='expand')"
   ]
  },
  {
   "cell_type": "code",
   "execution_count": 39,
   "id": "8abe564c-34e7-4bd0-b6cc-d93dc285e79d",
   "metadata": {
    "execution": {
     "iopub.execute_input": "2024-02-24T14:07:30.491964Z",
     "iopub.status.busy": "2024-02-24T14:07:30.491846Z",
     "iopub.status.idle": "2024-02-24T14:07:30.494918Z",
     "shell.execute_reply": "2024-02-24T14:07:30.494514Z",
     "shell.execute_reply.started": "2024-02-24T14:07:30.491953Z"
    }
   },
   "outputs": [],
   "source": [
    "#ccd_visit_table.head()"
   ]
  },
  {
   "cell_type": "markdown",
   "id": "1e88c9a9-08ac-46cf-ac6a-52c5b9015e79",
   "metadata": {},
   "source": [
    "## Selection of the tract and patch\n",
    "- best Patches 293 and 313 for tract 5615"
   ]
  },
  {
   "cell_type": "code",
   "execution_count": 40,
   "id": "7dee96d0-ae05-4a53-b89b-71177dc33595",
   "metadata": {
    "execution": {
     "iopub.execute_input": "2024-02-24T14:07:30.495516Z",
     "iopub.status.busy": "2024-02-24T14:07:30.495393Z",
     "iopub.status.idle": "2024-02-24T14:07:30.499016Z",
     "shell.execute_reply": "2024-02-24T14:07:30.498590Z",
     "shell.execute_reply.started": "2024-02-24T14:07:30.495505Z"
    }
   },
   "outputs": [],
   "source": [
    "#tract_selected = 5615\n",
    "#patch_selected = 294\n",
    "#patch_selected = 313\n",
    "#suptitle = f\"CCD visit in tract {tract_selected} and patch {patch_selected}\"\n",
    "suptitle = \"CCD visits in all tracts and patches (Axutel)\""
   ]
  },
  {
   "cell_type": "code",
   "execution_count": 41,
   "id": "838fe146-dfd9-4aa8-9299-76e4e460cf29",
   "metadata": {
    "execution": {
     "iopub.execute_input": "2024-02-24T14:07:30.499620Z",
     "iopub.status.busy": "2024-02-24T14:07:30.499496Z",
     "iopub.status.idle": "2024-02-24T14:07:30.502250Z",
     "shell.execute_reply": "2024-02-24T14:07:30.501854Z",
     "shell.execute_reply.started": "2024-02-24T14:07:30.499609Z"
    }
   },
   "outputs": [],
   "source": [
    "#ccd_visit_table[\"selectedFlag\"] = ccd_visit_table[[\"patchID\",\"tractID\"]].apply(lambda x: x[0] == tract_selected and x[1] == patch_selected,axis =1, raw= True )"
   ]
  },
  {
   "cell_type": "code",
   "execution_count": 42,
   "id": "7bae6ff2-6347-40d2-901e-3557d4755e7b",
   "metadata": {
    "execution": {
     "iopub.execute_input": "2024-02-24T14:07:30.502828Z",
     "iopub.status.busy": "2024-02-24T14:07:30.502698Z",
     "iopub.status.idle": "2024-02-24T14:07:30.532226Z",
     "shell.execute_reply": "2024-02-24T14:07:30.531887Z",
     "shell.execute_reply.started": "2024-02-24T14:07:30.502816Z"
    }
   },
   "outputs": [
    {
     "data": {
      "text/html": [
       "<div>\n",
       "<style scoped>\n",
       "    .dataframe tbody tr th:only-of-type {\n",
       "        vertical-align: middle;\n",
       "    }\n",
       "\n",
       "    .dataframe tbody tr th {\n",
       "        vertical-align: top;\n",
       "    }\n",
       "\n",
       "    .dataframe thead th {\n",
       "        text-align: right;\n",
       "    }\n",
       "</style>\n",
       "<table border=\"1\" class=\"dataframe\">\n",
       "  <thead>\n",
       "    <tr style=\"text-align: right;\">\n",
       "      <th></th>\n",
       "      <th>visitId</th>\n",
       "      <th>physical_filter</th>\n",
       "      <th>band</th>\n",
       "      <th>ra</th>\n",
       "      <th>dec</th>\n",
       "      <th>zenithDistance</th>\n",
       "      <th>zeroPoint</th>\n",
       "      <th>psfSigma</th>\n",
       "      <th>skyBg</th>\n",
       "      <th>skyNoise</th>\n",
       "      <th>astromOffsetMean</th>\n",
       "      <th>astromOffsetStd</th>\n",
       "      <th>nPsfStar</th>\n",
       "      <th>psfStarDeltaE1Median</th>\n",
       "      <th>psfStarDeltaE2Median</th>\n",
       "      <th>psfStarDeltaE1Scatter</th>\n",
       "      <th>psfStarDeltaE2Scatter</th>\n",
       "      <th>psfStarDeltaSizeMedian</th>\n",
       "      <th>psfStarDeltaSizeScatter</th>\n",
       "      <th>psfStarScaledDeltaSizeScatter</th>\n",
       "      <th>psfTraceRadiusDelta</th>\n",
       "      <th>maxDistToNearestPsf</th>\n",
       "      <th>effTime</th>\n",
       "      <th>effTimePsfSigmaScale</th>\n",
       "      <th>effTimeSkyBgScale</th>\n",
       "      <th>effTimeZeroPointScale</th>\n",
       "      <th>decl</th>\n",
       "      <th>detector</th>\n",
       "      <th>seeing</th>\n",
       "      <th>skyRotation</th>\n",
       "      <th>expMidpt</th>\n",
       "      <th>expMidptMJD</th>\n",
       "      <th>expTime</th>\n",
       "      <th>obsStart</th>\n",
       "      <th>obsStartMJD</th>\n",
       "      <th>darkTime</th>\n",
       "      <th>xSize</th>\n",
       "      <th>ySize</th>\n",
       "      <th>llcra</th>\n",
       "      <th>llcdec</th>\n",
       "      <th>ulcra</th>\n",
       "      <th>ulcdec</th>\n",
       "      <th>urcra</th>\n",
       "      <th>urcdec</th>\n",
       "      <th>lrcra</th>\n",
       "      <th>lrcdec</th>\n",
       "      <th>nightObs</th>\n",
       "      <th>Time</th>\n",
       "      <th>airmass</th>\n",
       "    </tr>\n",
       "    <tr>\n",
       "      <th>ccdVisitId</th>\n",
       "      <th></th>\n",
       "      <th></th>\n",
       "      <th></th>\n",
       "      <th></th>\n",
       "      <th></th>\n",
       "      <th></th>\n",
       "      <th></th>\n",
       "      <th></th>\n",
       "      <th></th>\n",
       "      <th></th>\n",
       "      <th></th>\n",
       "      <th></th>\n",
       "      <th></th>\n",
       "      <th></th>\n",
       "      <th></th>\n",
       "      <th></th>\n",
       "      <th></th>\n",
       "      <th></th>\n",
       "      <th></th>\n",
       "      <th></th>\n",
       "      <th></th>\n",
       "      <th></th>\n",
       "      <th></th>\n",
       "      <th></th>\n",
       "      <th></th>\n",
       "      <th></th>\n",
       "      <th></th>\n",
       "      <th></th>\n",
       "      <th></th>\n",
       "      <th></th>\n",
       "      <th></th>\n",
       "      <th></th>\n",
       "      <th></th>\n",
       "      <th></th>\n",
       "      <th></th>\n",
       "      <th></th>\n",
       "      <th></th>\n",
       "      <th></th>\n",
       "      <th></th>\n",
       "      <th></th>\n",
       "      <th></th>\n",
       "      <th></th>\n",
       "      <th></th>\n",
       "      <th></th>\n",
       "      <th></th>\n",
       "      <th></th>\n",
       "      <th></th>\n",
       "      <th></th>\n",
       "      <th></th>\n",
       "    </tr>\n",
       "  </thead>\n",
       "  <tbody>\n",
       "    <tr>\n",
       "      <th>40919696896</th>\n",
       "      <td>2023051100262</td>\n",
       "      <td>SDSSr_65mm~empty</td>\n",
       "      <td>r</td>\n",
       "      <td>239.946728</td>\n",
       "      <td>-24.053747</td>\n",
       "      <td>56.749516</td>\n",
       "      <td>27.690649</td>\n",
       "      <td>7.814408</td>\n",
       "      <td>11.197219</td>\n",
       "      <td>7.856582</td>\n",
       "      <td>0.026538</td>\n",
       "      <td>0.014041</td>\n",
       "      <td>42</td>\n",
       "      <td>-0.007038</td>\n",
       "      <td>0.000486</td>\n",
       "      <td>0.032627</td>\n",
       "      <td>0.014318</td>\n",
       "      <td>0.107089</td>\n",
       "      <td>0.110564</td>\n",
       "      <td>0.013839</td>\n",
       "      <td>0.879543</td>\n",
       "      <td>2160.236328</td>\n",
       "      <td>0.207786</td>\n",
       "      <td>0.016376</td>\n",
       "      <td>2.679237</td>\n",
       "      <td>0.157862</td>\n",
       "      <td>-24.053747</td>\n",
       "      <td>0</td>\n",
       "      <td>1.761132</td>\n",
       "      <td>322.911701</td>\n",
       "      <td>2023-05-12 01:08:56.302993</td>\n",
       "      <td>60076.047874</td>\n",
       "      <td>30.0</td>\n",
       "      <td>2023-05-12 01:08:41.302993</td>\n",
       "      <td>60076.047700</td>\n",
       "      <td>30.2434</td>\n",
       "      <td>4071</td>\n",
       "      <td>3999</td>\n",
       "      <td>239.935567</td>\n",
       "      <td>-24.128924</td>\n",
       "      <td>240.029265</td>\n",
       "      <td>-24.062574</td>\n",
       "      <td>239.957876</td>\n",
       "      <td>-23.978569</td>\n",
       "      <td>239.864202</td>\n",
       "      <td>-24.044875</td>\n",
       "      <td>20230511</td>\n",
       "      <td>2023-05-12 01:08:41.302993</td>\n",
       "      <td>1.823818</td>\n",
       "    </tr>\n",
       "    <tr>\n",
       "      <th>40919697152</th>\n",
       "      <td>2023051100263</td>\n",
       "      <td>SDSSg_65mm~empty</td>\n",
       "      <td>g</td>\n",
       "      <td>239.941334</td>\n",
       "      <td>-24.038378</td>\n",
       "      <td>56.289413</td>\n",
       "      <td>27.925329</td>\n",
       "      <td>7.783146</td>\n",
       "      <td>3.989901</td>\n",
       "      <td>7.472743</td>\n",
       "      <td>0.024001</td>\n",
       "      <td>0.011537</td>\n",
       "      <td>17</td>\n",
       "      <td>0.020877</td>\n",
       "      <td>0.003123</td>\n",
       "      <td>0.037679</td>\n",
       "      <td>0.028327</td>\n",
       "      <td>0.131853</td>\n",
       "      <td>0.174565</td>\n",
       "      <td>0.021897</td>\n",
       "      <td>5.176466</td>\n",
       "      <td>2552.229980</td>\n",
       "      <td>0.905713</td>\n",
       "      <td>0.016508</td>\n",
       "      <td>7.518984</td>\n",
       "      <td>0.243232</td>\n",
       "      <td>-24.038378</td>\n",
       "      <td>0</td>\n",
       "      <td>1.754283</td>\n",
       "      <td>170.005077</td>\n",
       "      <td>2023-05-12 01:11:06.209005</td>\n",
       "      <td>60076.049377</td>\n",
       "      <td>30.0</td>\n",
       "      <td>2023-05-12 01:10:51.209005</td>\n",
       "      <td>60076.049204</td>\n",
       "      <td>30.2343</td>\n",
       "      <td>4071</td>\n",
       "      <td>3999</td>\n",
       "      <td>239.988739</td>\n",
       "      <td>-23.976095</td>\n",
       "      <td>239.872244</td>\n",
       "      <td>-23.996199</td>\n",
       "      <td>239.893884</td>\n",
       "      <td>-24.100647</td>\n",
       "      <td>240.010470</td>\n",
       "      <td>-24.080526</td>\n",
       "      <td>20230511</td>\n",
       "      <td>2023-05-12 01:10:51.209005</td>\n",
       "      <td>1.801808</td>\n",
       "    </tr>\n",
       "    <tr>\n",
       "      <th>40919697408</th>\n",
       "      <td>2023051100264</td>\n",
       "      <td>SDSSi_65mm~empty</td>\n",
       "      <td>i</td>\n",
       "      <td>239.938164</td>\n",
       "      <td>-24.036848</td>\n",
       "      <td>55.439133</td>\n",
       "      <td>27.837013</td>\n",
       "      <td>6.324102</td>\n",
       "      <td>28.071854</td>\n",
       "      <td>8.586543</td>\n",
       "      <td>0.026761</td>\n",
       "      <td>0.017073</td>\n",
       "      <td>39</td>\n",
       "      <td>0.007049</td>\n",
       "      <td>-0.012680</td>\n",
       "      <td>0.025506</td>\n",
       "      <td>0.043905</td>\n",
       "      <td>0.010775</td>\n",
       "      <td>0.095402</td>\n",
       "      <td>0.015088</td>\n",
       "      <td>0.304010</td>\n",
       "      <td>1387.484985</td>\n",
       "      <td>0.165707</td>\n",
       "      <td>0.025004</td>\n",
       "      <td>1.068686</td>\n",
       "      <td>0.206713</td>\n",
       "      <td>-24.036848</td>\n",
       "      <td>0</td>\n",
       "      <td>1.425322</td>\n",
       "      <td>170.004955</td>\n",
       "      <td>2023-05-12 01:15:04.912000</td>\n",
       "      <td>60076.052140</td>\n",
       "      <td>30.0</td>\n",
       "      <td>2023-05-12 01:14:49.912000</td>\n",
       "      <td>60076.051967</td>\n",
       "      <td>30.2335</td>\n",
       "      <td>4071</td>\n",
       "      <td>3999</td>\n",
       "      <td>239.985571</td>\n",
       "      <td>-23.974553</td>\n",
       "      <td>239.869115</td>\n",
       "      <td>-23.994653</td>\n",
       "      <td>239.890710</td>\n",
       "      <td>-24.099127</td>\n",
       "      <td>240.007258</td>\n",
       "      <td>-24.079012</td>\n",
       "      <td>20230511</td>\n",
       "      <td>2023-05-12 01:14:49.912000</td>\n",
       "      <td>1.762794</td>\n",
       "    </tr>\n",
       "    <tr>\n",
       "      <th>40919698432</th>\n",
       "      <td>2023051100268</td>\n",
       "      <td>SDSSr_65mm~empty</td>\n",
       "      <td>r</td>\n",
       "      <td>239.964414</td>\n",
       "      <td>-24.045512</td>\n",
       "      <td>54.482189</td>\n",
       "      <td>27.765863</td>\n",
       "      <td>8.100543</td>\n",
       "      <td>10.701077</td>\n",
       "      <td>7.854048</td>\n",
       "      <td>0.024562</td>\n",
       "      <td>0.014017</td>\n",
       "      <td>32</td>\n",
       "      <td>-0.001813</td>\n",
       "      <td>-0.007225</td>\n",
       "      <td>0.012738</td>\n",
       "      <td>0.015732</td>\n",
       "      <td>0.153432</td>\n",
       "      <td>0.113233</td>\n",
       "      <td>0.013615</td>\n",
       "      <td>0.492057</td>\n",
       "      <td>2023.047119</td>\n",
       "      <td>0.232399</td>\n",
       "      <td>0.015240</td>\n",
       "      <td>2.803456</td>\n",
       "      <td>0.181321</td>\n",
       "      <td>-24.045512</td>\n",
       "      <td>0</td>\n",
       "      <td>1.825525</td>\n",
       "      <td>323.867206</td>\n",
       "      <td>2023-05-12 01:19:39.311494</td>\n",
       "      <td>60076.055316</td>\n",
       "      <td>30.0</td>\n",
       "      <td>2023-05-12 01:19:24.311494</td>\n",
       "      <td>60076.055142</td>\n",
       "      <td>30.2379</td>\n",
       "      <td>4071</td>\n",
       "      <td>3999</td>\n",
       "      <td>239.951871</td>\n",
       "      <td>-24.120505</td>\n",
       "      <td>240.046767</td>\n",
       "      <td>-24.055593</td>\n",
       "      <td>239.976942</td>\n",
       "      <td>-23.970518</td>\n",
       "      <td>239.882074</td>\n",
       "      <td>-24.035387</td>\n",
       "      <td>20230511</td>\n",
       "      <td>2023-05-12 01:19:24.311494</td>\n",
       "      <td>1.721301</td>\n",
       "    </tr>\n",
       "    <tr>\n",
       "      <th>40919698944</th>\n",
       "      <td>2023051100270</td>\n",
       "      <td>SDSSi_65mm~empty</td>\n",
       "      <td>i</td>\n",
       "      <td>239.961137</td>\n",
       "      <td>-24.046364</td>\n",
       "      <td>53.849274</td>\n",
       "      <td>27.847099</td>\n",
       "      <td>6.745777</td>\n",
       "      <td>23.952093</td>\n",
       "      <td>8.440446</td>\n",
       "      <td>0.023946</td>\n",
       "      <td>0.012757</td>\n",
       "      <td>33</td>\n",
       "      <td>-0.011323</td>\n",
       "      <td>0.002748</td>\n",
       "      <td>0.035845</td>\n",
       "      <td>0.022814</td>\n",
       "      <td>-0.030170</td>\n",
       "      <td>0.125044</td>\n",
       "      <td>0.018293</td>\n",
       "      <td>1.152671</td>\n",
       "      <td>1726.039673</td>\n",
       "      <td>0.173889</td>\n",
       "      <td>0.021975</td>\n",
       "      <td>1.252500</td>\n",
       "      <td>0.210590</td>\n",
       "      <td>-24.046364</td>\n",
       "      <td>0</td>\n",
       "      <td>1.520381</td>\n",
       "      <td>170.004124</td>\n",
       "      <td>2023-05-12 01:22:36.150002</td>\n",
       "      <td>60076.057363</td>\n",
       "      <td>30.0</td>\n",
       "      <td>2023-05-12 01:22:21.150002</td>\n",
       "      <td>60076.057189</td>\n",
       "      <td>30.2424</td>\n",
       "      <td>4071</td>\n",
       "      <td>3999</td>\n",
       "      <td>240.008535</td>\n",
       "      <td>-23.984061</td>\n",
       "      <td>239.892085</td>\n",
       "      <td>-24.004162</td>\n",
       "      <td>239.913693</td>\n",
       "      <td>-24.108652</td>\n",
       "      <td>240.030234</td>\n",
       "      <td>-24.088534</td>\n",
       "      <td>20230511</td>\n",
       "      <td>2023-05-12 01:22:21.150002</td>\n",
       "      <td>1.695170</td>\n",
       "    </tr>\n",
       "    <tr>\n",
       "      <th>...</th>\n",
       "      <td>...</td>\n",
       "      <td>...</td>\n",
       "      <td>...</td>\n",
       "      <td>...</td>\n",
       "      <td>...</td>\n",
       "      <td>...</td>\n",
       "      <td>...</td>\n",
       "      <td>...</td>\n",
       "      <td>...</td>\n",
       "      <td>...</td>\n",
       "      <td>...</td>\n",
       "      <td>...</td>\n",
       "      <td>...</td>\n",
       "      <td>...</td>\n",
       "      <td>...</td>\n",
       "      <td>...</td>\n",
       "      <td>...</td>\n",
       "      <td>...</td>\n",
       "      <td>...</td>\n",
       "      <td>...</td>\n",
       "      <td>...</td>\n",
       "      <td>...</td>\n",
       "      <td>...</td>\n",
       "      <td>...</td>\n",
       "      <td>...</td>\n",
       "      <td>...</td>\n",
       "      <td>...</td>\n",
       "      <td>...</td>\n",
       "      <td>...</td>\n",
       "      <td>...</td>\n",
       "      <td>...</td>\n",
       "      <td>...</td>\n",
       "      <td>...</td>\n",
       "      <td>...</td>\n",
       "      <td>...</td>\n",
       "      <td>...</td>\n",
       "      <td>...</td>\n",
       "      <td>...</td>\n",
       "      <td>...</td>\n",
       "      <td>...</td>\n",
       "      <td>...</td>\n",
       "      <td>...</td>\n",
       "      <td>...</td>\n",
       "      <td>...</td>\n",
       "      <td>...</td>\n",
       "      <td>...</td>\n",
       "      <td>...</td>\n",
       "      <td>...</td>\n",
       "      <td>...</td>\n",
       "    </tr>\n",
       "    <tr>\n",
       "      <th>43134264832</th>\n",
       "      <td>2024013000166</td>\n",
       "      <td>empty~SDSSy_65mm</td>\n",
       "      <td>y</td>\n",
       "      <td>122.428828</td>\n",
       "      <td>-36.166063</td>\n",
       "      <td>5.993765</td>\n",
       "      <td>26.073267</td>\n",
       "      <td>4.577834</td>\n",
       "      <td>14.221478</td>\n",
       "      <td>8.110322</td>\n",
       "      <td>0.012466</td>\n",
       "      <td>0.007235</td>\n",
       "      <td>67</td>\n",
       "      <td>0.005375</td>\n",
       "      <td>-0.003194</td>\n",
       "      <td>0.033592</td>\n",
       "      <td>0.025067</td>\n",
       "      <td>-0.021962</td>\n",
       "      <td>0.087823</td>\n",
       "      <td>0.019033</td>\n",
       "      <td>0.437758</td>\n",
       "      <td>1227.355591</td>\n",
       "      <td>0.024230</td>\n",
       "      <td>0.047718</td>\n",
       "      <td>2.109485</td>\n",
       "      <td>0.008024</td>\n",
       "      <td>-36.166063</td>\n",
       "      <td>0</td>\n",
       "      <td>1.031667</td>\n",
       "      <td>359.999822</td>\n",
       "      <td>2024-01-31 04:14:35.805994</td>\n",
       "      <td>60340.176803</td>\n",
       "      <td>30.0</td>\n",
       "      <td>2024-01-31 04:14:20.805994</td>\n",
       "      <td>60340.176630</td>\n",
       "      <td>30.2326</td>\n",
       "      <td>4071</td>\n",
       "      <td>3999</td>\n",
       "      <td>122.362606</td>\n",
       "      <td>-36.219921</td>\n",
       "      <td>122.496767</td>\n",
       "      <td>-36.218499</td>\n",
       "      <td>122.494959</td>\n",
       "      <td>-36.112169</td>\n",
       "      <td>122.360980</td>\n",
       "      <td>-36.113589</td>\n",
       "      <td>20240130</td>\n",
       "      <td>2024-01-31 04:14:20.805994</td>\n",
       "      <td>1.005497</td>\n",
       "    </tr>\n",
       "    <tr>\n",
       "      <th>43134265088</th>\n",
       "      <td>2024013000167</td>\n",
       "      <td>SDSSg_65mm~empty</td>\n",
       "      <td>g</td>\n",
       "      <td>122.520273</td>\n",
       "      <td>-36.165952</td>\n",
       "      <td>6.002423</td>\n",
       "      <td>28.069672</td>\n",
       "      <td>4.562790</td>\n",
       "      <td>11.795321</td>\n",
       "      <td>7.969728</td>\n",
       "      <td>0.010483</td>\n",
       "      <td>0.004879</td>\n",
       "      <td>109</td>\n",
       "      <td>-0.001298</td>\n",
       "      <td>-0.013367</td>\n",
       "      <td>0.033533</td>\n",
       "      <td>0.024191</td>\n",
       "      <td>-0.014490</td>\n",
       "      <td>0.086460</td>\n",
       "      <td>0.019074</td>\n",
       "      <td>0.699273</td>\n",
       "      <td>908.760864</td>\n",
       "      <td>1.162963</td>\n",
       "      <td>0.048033</td>\n",
       "      <td>2.543381</td>\n",
       "      <td>0.317318</td>\n",
       "      <td>-36.165952</td>\n",
       "      <td>0</td>\n",
       "      <td>1.028190</td>\n",
       "      <td>0.000666</td>\n",
       "      <td>2024-01-31 04:16:02.589490</td>\n",
       "      <td>60340.177808</td>\n",
       "      <td>30.0</td>\n",
       "      <td>2024-01-31 04:15:47.589490</td>\n",
       "      <td>60340.177634</td>\n",
       "      <td>30.2333</td>\n",
       "      <td>4071</td>\n",
       "      <td>3999</td>\n",
       "      <td>122.454059</td>\n",
       "      <td>-36.219803</td>\n",
       "      <td>122.588204</td>\n",
       "      <td>-36.218390</td>\n",
       "      <td>122.586395</td>\n",
       "      <td>-36.112065</td>\n",
       "      <td>122.452432</td>\n",
       "      <td>-36.113476</td>\n",
       "      <td>20240130</td>\n",
       "      <td>2024-01-31 04:15:47.589490</td>\n",
       "      <td>1.005513</td>\n",
       "    </tr>\n",
       "    <tr>\n",
       "      <th>43134265344</th>\n",
       "      <td>2024013000168</td>\n",
       "      <td>SDSSr_65mm~empty</td>\n",
       "      <td>r</td>\n",
       "      <td>122.520391</td>\n",
       "      <td>-36.165943</td>\n",
       "      <td>6.013887</td>\n",
       "      <td>27.856039</td>\n",
       "      <td>4.841956</td>\n",
       "      <td>9.200282</td>\n",
       "      <td>7.873821</td>\n",
       "      <td>0.013488</td>\n",
       "      <td>0.006209</td>\n",
       "      <td>121</td>\n",
       "      <td>0.002316</td>\n",
       "      <td>0.003846</td>\n",
       "      <td>0.033141</td>\n",
       "      <td>0.024356</td>\n",
       "      <td>-0.008863</td>\n",
       "      <td>0.054340</td>\n",
       "      <td>0.011123</td>\n",
       "      <td>0.568077</td>\n",
       "      <td>607.322266</td>\n",
       "      <td>0.893283</td>\n",
       "      <td>0.042654</td>\n",
       "      <td>3.260770</td>\n",
       "      <td>0.214087</td>\n",
       "      <td>-36.165943</td>\n",
       "      <td>0</td>\n",
       "      <td>1.091082</td>\n",
       "      <td>0.000540</td>\n",
       "      <td>2024-01-31 04:16:49.368995</td>\n",
       "      <td>60340.178349</td>\n",
       "      <td>30.0</td>\n",
       "      <td>2024-01-31 04:16:34.368995</td>\n",
       "      <td>60340.178176</td>\n",
       "      <td>30.2265</td>\n",
       "      <td>4071</td>\n",
       "      <td>3999</td>\n",
       "      <td>122.454177</td>\n",
       "      <td>-36.219793</td>\n",
       "      <td>122.588325</td>\n",
       "      <td>-36.218377</td>\n",
       "      <td>122.586515</td>\n",
       "      <td>-36.112057</td>\n",
       "      <td>122.452549</td>\n",
       "      <td>-36.113472</td>\n",
       "      <td>20240130</td>\n",
       "      <td>2024-01-31 04:16:34.368995</td>\n",
       "      <td>1.005534</td>\n",
       "    </tr>\n",
       "    <tr>\n",
       "      <th>43134265600</th>\n",
       "      <td>2024013000169</td>\n",
       "      <td>SDSSz_65mm~empty</td>\n",
       "      <td>z</td>\n",
       "      <td>122.520373</td>\n",
       "      <td>-36.165951</td>\n",
       "      <td>6.028749</td>\n",
       "      <td>27.324080</td>\n",
       "      <td>5.360331</td>\n",
       "      <td>16.084967</td>\n",
       "      <td>8.187736</td>\n",
       "      <td>0.010447</td>\n",
       "      <td>0.005809</td>\n",
       "      <td>27</td>\n",
       "      <td>0.001900</td>\n",
       "      <td>0.000604</td>\n",
       "      <td>0.031006</td>\n",
       "      <td>0.015473</td>\n",
       "      <td>-0.011240</td>\n",
       "      <td>0.061504</td>\n",
       "      <td>0.010587</td>\n",
       "      <td>0.815424</td>\n",
       "      <td>3160.135742</td>\n",
       "      <td>0.156481</td>\n",
       "      <td>0.034803</td>\n",
       "      <td>1.865096</td>\n",
       "      <td>0.080357</td>\n",
       "      <td>-36.165951</td>\n",
       "      <td>0</td>\n",
       "      <td>1.207755</td>\n",
       "      <td>359.999892</td>\n",
       "      <td>2024-01-31 04:17:33.466999</td>\n",
       "      <td>60340.178860</td>\n",
       "      <td>30.0</td>\n",
       "      <td>2024-01-31 04:17:18.466999</td>\n",
       "      <td>60340.178686</td>\n",
       "      <td>30.2680</td>\n",
       "      <td>4071</td>\n",
       "      <td>3999</td>\n",
       "      <td>122.454163</td>\n",
       "      <td>-36.219791</td>\n",
       "      <td>122.588306</td>\n",
       "      <td>-36.218373</td>\n",
       "      <td>122.586491</td>\n",
       "      <td>-36.112074</td>\n",
       "      <td>122.452530</td>\n",
       "      <td>-36.113490</td>\n",
       "      <td>20240130</td>\n",
       "      <td>2024-01-31 04:17:18.466999</td>\n",
       "      <td>1.005561</td>\n",
       "    </tr>\n",
       "    <tr>\n",
       "      <th>43134265856</th>\n",
       "      <td>2024013000170</td>\n",
       "      <td>empty~SDSSy_65mm</td>\n",
       "      <td>y</td>\n",
       "      <td>122.520784</td>\n",
       "      <td>-36.165975</td>\n",
       "      <td>6.049546</td>\n",
       "      <td>26.214890</td>\n",
       "      <td>8.200642</td>\n",
       "      <td>14.658229</td>\n",
       "      <td>8.150498</td>\n",
       "      <td>0.019129</td>\n",
       "      <td>0.011223</td>\n",
       "      <td>44</td>\n",
       "      <td>-0.055608</td>\n",
       "      <td>0.024479</td>\n",
       "      <td>0.017686</td>\n",
       "      <td>0.017519</td>\n",
       "      <td>0.750685</td>\n",
       "      <td>0.141419</td>\n",
       "      <td>0.014587</td>\n",
       "      <td>0.411785</td>\n",
       "      <td>971.511536</td>\n",
       "      <td>0.009509</td>\n",
       "      <td>0.014870</td>\n",
       "      <td>2.046632</td>\n",
       "      <td>0.010415</td>\n",
       "      <td>-36.165975</td>\n",
       "      <td>0</td>\n",
       "      <td>1.848087</td>\n",
       "      <td>0.000237</td>\n",
       "      <td>2024-01-31 04:18:21.970002</td>\n",
       "      <td>60340.179421</td>\n",
       "      <td>30.0</td>\n",
       "      <td>2024-01-31 04:18:06.970002</td>\n",
       "      <td>60340.179247</td>\n",
       "      <td>30.2305</td>\n",
       "      <td>4071</td>\n",
       "      <td>3999</td>\n",
       "      <td>122.454565</td>\n",
       "      <td>-36.219824</td>\n",
       "      <td>122.588725</td>\n",
       "      <td>-36.218418</td>\n",
       "      <td>122.586912</td>\n",
       "      <td>-36.112089</td>\n",
       "      <td>122.452934</td>\n",
       "      <td>-36.113493</td>\n",
       "      <td>20240130</td>\n",
       "      <td>2024-01-31 04:18:06.970002</td>\n",
       "      <td>1.005600</td>\n",
       "    </tr>\n",
       "  </tbody>\n",
       "</table>\n",
       "<p>3588 rows × 49 columns</p>\n",
       "</div>"
      ],
      "text/plain": [
       "                   visitId   physical_filter band          ra        dec  \\\n",
       "ccdVisitId                                                                 \n",
       "40919696896  2023051100262  SDSSr_65mm~empty    r  239.946728 -24.053747   \n",
       "40919697152  2023051100263  SDSSg_65mm~empty    g  239.941334 -24.038378   \n",
       "40919697408  2023051100264  SDSSi_65mm~empty    i  239.938164 -24.036848   \n",
       "40919698432  2023051100268  SDSSr_65mm~empty    r  239.964414 -24.045512   \n",
       "40919698944  2023051100270  SDSSi_65mm~empty    i  239.961137 -24.046364   \n",
       "...                    ...               ...  ...         ...        ...   \n",
       "43134264832  2024013000166  empty~SDSSy_65mm    y  122.428828 -36.166063   \n",
       "43134265088  2024013000167  SDSSg_65mm~empty    g  122.520273 -36.165952   \n",
       "43134265344  2024013000168  SDSSr_65mm~empty    r  122.520391 -36.165943   \n",
       "43134265600  2024013000169  SDSSz_65mm~empty    z  122.520373 -36.165951   \n",
       "43134265856  2024013000170  empty~SDSSy_65mm    y  122.520784 -36.165975   \n",
       "\n",
       "             zenithDistance  zeroPoint  psfSigma      skyBg  skyNoise  \\\n",
       "ccdVisitId                                                              \n",
       "40919696896       56.749516  27.690649  7.814408  11.197219  7.856582   \n",
       "40919697152       56.289413  27.925329  7.783146   3.989901  7.472743   \n",
       "40919697408       55.439133  27.837013  6.324102  28.071854  8.586543   \n",
       "40919698432       54.482189  27.765863  8.100543  10.701077  7.854048   \n",
       "40919698944       53.849274  27.847099  6.745777  23.952093  8.440446   \n",
       "...                     ...        ...       ...        ...       ...   \n",
       "43134264832        5.993765  26.073267  4.577834  14.221478  8.110322   \n",
       "43134265088        6.002423  28.069672  4.562790  11.795321  7.969728   \n",
       "43134265344        6.013887  27.856039  4.841956   9.200282  7.873821   \n",
       "43134265600        6.028749  27.324080  5.360331  16.084967  8.187736   \n",
       "43134265856        6.049546  26.214890  8.200642  14.658229  8.150498   \n",
       "\n",
       "             astromOffsetMean  astromOffsetStd  nPsfStar  \\\n",
       "ccdVisitId                                                 \n",
       "40919696896          0.026538         0.014041        42   \n",
       "40919697152          0.024001         0.011537        17   \n",
       "40919697408          0.026761         0.017073        39   \n",
       "40919698432          0.024562         0.014017        32   \n",
       "40919698944          0.023946         0.012757        33   \n",
       "...                       ...              ...       ...   \n",
       "43134264832          0.012466         0.007235        67   \n",
       "43134265088          0.010483         0.004879       109   \n",
       "43134265344          0.013488         0.006209       121   \n",
       "43134265600          0.010447         0.005809        27   \n",
       "43134265856          0.019129         0.011223        44   \n",
       "\n",
       "             psfStarDeltaE1Median  psfStarDeltaE2Median  \\\n",
       "ccdVisitId                                                \n",
       "40919696896             -0.007038              0.000486   \n",
       "40919697152              0.020877              0.003123   \n",
       "40919697408              0.007049             -0.012680   \n",
       "40919698432             -0.001813             -0.007225   \n",
       "40919698944             -0.011323              0.002748   \n",
       "...                           ...                   ...   \n",
       "43134264832              0.005375             -0.003194   \n",
       "43134265088             -0.001298             -0.013367   \n",
       "43134265344              0.002316              0.003846   \n",
       "43134265600              0.001900              0.000604   \n",
       "43134265856             -0.055608              0.024479   \n",
       "\n",
       "             psfStarDeltaE1Scatter  psfStarDeltaE2Scatter  \\\n",
       "ccdVisitId                                                  \n",
       "40919696896               0.032627               0.014318   \n",
       "40919697152               0.037679               0.028327   \n",
       "40919697408               0.025506               0.043905   \n",
       "40919698432               0.012738               0.015732   \n",
       "40919698944               0.035845               0.022814   \n",
       "...                            ...                    ...   \n",
       "43134264832               0.033592               0.025067   \n",
       "43134265088               0.033533               0.024191   \n",
       "43134265344               0.033141               0.024356   \n",
       "43134265600               0.031006               0.015473   \n",
       "43134265856               0.017686               0.017519   \n",
       "\n",
       "             psfStarDeltaSizeMedian  psfStarDeltaSizeScatter  \\\n",
       "ccdVisitId                                                     \n",
       "40919696896                0.107089                 0.110564   \n",
       "40919697152                0.131853                 0.174565   \n",
       "40919697408                0.010775                 0.095402   \n",
       "40919698432                0.153432                 0.113233   \n",
       "40919698944               -0.030170                 0.125044   \n",
       "...                             ...                      ...   \n",
       "43134264832               -0.021962                 0.087823   \n",
       "43134265088               -0.014490                 0.086460   \n",
       "43134265344               -0.008863                 0.054340   \n",
       "43134265600               -0.011240                 0.061504   \n",
       "43134265856                0.750685                 0.141419   \n",
       "\n",
       "             psfStarScaledDeltaSizeScatter  psfTraceRadiusDelta  \\\n",
       "ccdVisitId                                                        \n",
       "40919696896                       0.013839             0.879543   \n",
       "40919697152                       0.021897             5.176466   \n",
       "40919697408                       0.015088             0.304010   \n",
       "40919698432                       0.013615             0.492057   \n",
       "40919698944                       0.018293             1.152671   \n",
       "...                                    ...                  ...   \n",
       "43134264832                       0.019033             0.437758   \n",
       "43134265088                       0.019074             0.699273   \n",
       "43134265344                       0.011123             0.568077   \n",
       "43134265600                       0.010587             0.815424   \n",
       "43134265856                       0.014587             0.411785   \n",
       "\n",
       "             maxDistToNearestPsf   effTime  effTimePsfSigmaScale  \\\n",
       "ccdVisitId                                                         \n",
       "40919696896          2160.236328  0.207786              0.016376   \n",
       "40919697152          2552.229980  0.905713              0.016508   \n",
       "40919697408          1387.484985  0.165707              0.025004   \n",
       "40919698432          2023.047119  0.232399              0.015240   \n",
       "40919698944          1726.039673  0.173889              0.021975   \n",
       "...                          ...       ...                   ...   \n",
       "43134264832          1227.355591  0.024230              0.047718   \n",
       "43134265088           908.760864  1.162963              0.048033   \n",
       "43134265344           607.322266  0.893283              0.042654   \n",
       "43134265600          3160.135742  0.156481              0.034803   \n",
       "43134265856           971.511536  0.009509              0.014870   \n",
       "\n",
       "             effTimeSkyBgScale  effTimeZeroPointScale       decl  detector  \\\n",
       "ccdVisitId                                                                   \n",
       "40919696896           2.679237               0.157862 -24.053747         0   \n",
       "40919697152           7.518984               0.243232 -24.038378         0   \n",
       "40919697408           1.068686               0.206713 -24.036848         0   \n",
       "40919698432           2.803456               0.181321 -24.045512         0   \n",
       "40919698944           1.252500               0.210590 -24.046364         0   \n",
       "...                        ...                    ...        ...       ...   \n",
       "43134264832           2.109485               0.008024 -36.166063         0   \n",
       "43134265088           2.543381               0.317318 -36.165952         0   \n",
       "43134265344           3.260770               0.214087 -36.165943         0   \n",
       "43134265600           1.865096               0.080357 -36.165951         0   \n",
       "43134265856           2.046632               0.010415 -36.165975         0   \n",
       "\n",
       "               seeing  skyRotation                   expMidpt   expMidptMJD  \\\n",
       "ccdVisitId                                                                    \n",
       "40919696896  1.761132   322.911701 2023-05-12 01:08:56.302993  60076.047874   \n",
       "40919697152  1.754283   170.005077 2023-05-12 01:11:06.209005  60076.049377   \n",
       "40919697408  1.425322   170.004955 2023-05-12 01:15:04.912000  60076.052140   \n",
       "40919698432  1.825525   323.867206 2023-05-12 01:19:39.311494  60076.055316   \n",
       "40919698944  1.520381   170.004124 2023-05-12 01:22:36.150002  60076.057363   \n",
       "...               ...          ...                        ...           ...   \n",
       "43134264832  1.031667   359.999822 2024-01-31 04:14:35.805994  60340.176803   \n",
       "43134265088  1.028190     0.000666 2024-01-31 04:16:02.589490  60340.177808   \n",
       "43134265344  1.091082     0.000540 2024-01-31 04:16:49.368995  60340.178349   \n",
       "43134265600  1.207755   359.999892 2024-01-31 04:17:33.466999  60340.178860   \n",
       "43134265856  1.848087     0.000237 2024-01-31 04:18:21.970002  60340.179421   \n",
       "\n",
       "             expTime                   obsStart   obsStartMJD  darkTime  \\\n",
       "ccdVisitId                                                                \n",
       "40919696896     30.0 2023-05-12 01:08:41.302993  60076.047700   30.2434   \n",
       "40919697152     30.0 2023-05-12 01:10:51.209005  60076.049204   30.2343   \n",
       "40919697408     30.0 2023-05-12 01:14:49.912000  60076.051967   30.2335   \n",
       "40919698432     30.0 2023-05-12 01:19:24.311494  60076.055142   30.2379   \n",
       "40919698944     30.0 2023-05-12 01:22:21.150002  60076.057189   30.2424   \n",
       "...              ...                        ...           ...       ...   \n",
       "43134264832     30.0 2024-01-31 04:14:20.805994  60340.176630   30.2326   \n",
       "43134265088     30.0 2024-01-31 04:15:47.589490  60340.177634   30.2333   \n",
       "43134265344     30.0 2024-01-31 04:16:34.368995  60340.178176   30.2265   \n",
       "43134265600     30.0 2024-01-31 04:17:18.466999  60340.178686   30.2680   \n",
       "43134265856     30.0 2024-01-31 04:18:06.970002  60340.179247   30.2305   \n",
       "\n",
       "             xSize  ySize       llcra     llcdec       ulcra     ulcdec  \\\n",
       "ccdVisitId                                                                \n",
       "40919696896   4071   3999  239.935567 -24.128924  240.029265 -24.062574   \n",
       "40919697152   4071   3999  239.988739 -23.976095  239.872244 -23.996199   \n",
       "40919697408   4071   3999  239.985571 -23.974553  239.869115 -23.994653   \n",
       "40919698432   4071   3999  239.951871 -24.120505  240.046767 -24.055593   \n",
       "40919698944   4071   3999  240.008535 -23.984061  239.892085 -24.004162   \n",
       "...            ...    ...         ...        ...         ...        ...   \n",
       "43134264832   4071   3999  122.362606 -36.219921  122.496767 -36.218499   \n",
       "43134265088   4071   3999  122.454059 -36.219803  122.588204 -36.218390   \n",
       "43134265344   4071   3999  122.454177 -36.219793  122.588325 -36.218377   \n",
       "43134265600   4071   3999  122.454163 -36.219791  122.588306 -36.218373   \n",
       "43134265856   4071   3999  122.454565 -36.219824  122.588725 -36.218418   \n",
       "\n",
       "                  urcra     urcdec       lrcra     lrcdec  nightObs  \\\n",
       "ccdVisitId                                                            \n",
       "40919696896  239.957876 -23.978569  239.864202 -24.044875  20230511   \n",
       "40919697152  239.893884 -24.100647  240.010470 -24.080526  20230511   \n",
       "40919697408  239.890710 -24.099127  240.007258 -24.079012  20230511   \n",
       "40919698432  239.976942 -23.970518  239.882074 -24.035387  20230511   \n",
       "40919698944  239.913693 -24.108652  240.030234 -24.088534  20230511   \n",
       "...                 ...        ...         ...        ...       ...   \n",
       "43134264832  122.494959 -36.112169  122.360980 -36.113589  20240130   \n",
       "43134265088  122.586395 -36.112065  122.452432 -36.113476  20240130   \n",
       "43134265344  122.586515 -36.112057  122.452549 -36.113472  20240130   \n",
       "43134265600  122.586491 -36.112074  122.452530 -36.113490  20240130   \n",
       "43134265856  122.586912 -36.112089  122.452934 -36.113493  20240130   \n",
       "\n",
       "                                  Time   airmass  \n",
       "ccdVisitId                                        \n",
       "40919696896 2023-05-12 01:08:41.302993  1.823818  \n",
       "40919697152 2023-05-12 01:10:51.209005  1.801808  \n",
       "40919697408 2023-05-12 01:14:49.912000  1.762794  \n",
       "40919698432 2023-05-12 01:19:24.311494  1.721301  \n",
       "40919698944 2023-05-12 01:22:21.150002  1.695170  \n",
       "...                                ...       ...  \n",
       "43134264832 2024-01-31 04:14:20.805994  1.005497  \n",
       "43134265088 2024-01-31 04:15:47.589490  1.005513  \n",
       "43134265344 2024-01-31 04:16:34.368995  1.005534  \n",
       "43134265600 2024-01-31 04:17:18.466999  1.005561  \n",
       "43134265856 2024-01-31 04:18:06.970002  1.005600  \n",
       "\n",
       "[3588 rows x 49 columns]"
      ]
     },
     "execution_count": 42,
     "metadata": {},
     "output_type": "execute_result"
    }
   ],
   "source": [
    "ccd_visit_table"
   ]
  },
  {
   "cell_type": "code",
   "execution_count": 43,
   "id": "caea00e4-bc43-41ac-9f9a-a5e26b0af2ce",
   "metadata": {
    "execution": {
     "iopub.execute_input": "2024-02-24T14:07:30.532794Z",
     "iopub.status.busy": "2024-02-24T14:07:30.532657Z",
     "iopub.status.idle": "2024-02-24T14:07:30.534570Z",
     "shell.execute_reply": "2024-02-24T14:07:30.534241Z",
     "shell.execute_reply.started": "2024-02-24T14:07:30.532782Z"
    }
   },
   "outputs": [],
   "source": [
    "#ccd_visit_table_selected = ccd_visit_table[ccd_visit_table[\"selectedFlag\"]]\n",
    "ccd_visit_table_selected = ccd_visit_table\n",
    "#ccd_visit_table_selected.drop([\"selectedFlag\"],axis=1,inplace=True) "
   ]
  },
  {
   "cell_type": "code",
   "execution_count": 44,
   "id": "903c0130-48b3-4f7c-8dbd-8a7a8a9e84d0",
   "metadata": {
    "execution": {
     "iopub.execute_input": "2024-02-24T14:07:30.535195Z",
     "iopub.status.busy": "2024-02-24T14:07:30.535075Z",
     "iopub.status.idle": "2024-02-24T14:07:30.554706Z",
     "shell.execute_reply": "2024-02-24T14:07:30.554252Z",
     "shell.execute_reply.started": "2024-02-24T14:07:30.535183Z"
    }
   },
   "outputs": [
    {
     "data": {
      "text/html": [
       "<div>\n",
       "<style scoped>\n",
       "    .dataframe tbody tr th:only-of-type {\n",
       "        vertical-align: middle;\n",
       "    }\n",
       "\n",
       "    .dataframe tbody tr th {\n",
       "        vertical-align: top;\n",
       "    }\n",
       "\n",
       "    .dataframe thead th {\n",
       "        text-align: right;\n",
       "    }\n",
       "</style>\n",
       "<table border=\"1\" class=\"dataframe\">\n",
       "  <thead>\n",
       "    <tr style=\"text-align: right;\">\n",
       "      <th></th>\n",
       "      <th>visitId</th>\n",
       "      <th>physical_filter</th>\n",
       "      <th>band</th>\n",
       "      <th>ra</th>\n",
       "      <th>dec</th>\n",
       "      <th>zenithDistance</th>\n",
       "      <th>zeroPoint</th>\n",
       "      <th>psfSigma</th>\n",
       "      <th>skyBg</th>\n",
       "      <th>skyNoise</th>\n",
       "      <th>astromOffsetMean</th>\n",
       "      <th>astromOffsetStd</th>\n",
       "      <th>nPsfStar</th>\n",
       "      <th>psfStarDeltaE1Median</th>\n",
       "      <th>psfStarDeltaE2Median</th>\n",
       "      <th>psfStarDeltaE1Scatter</th>\n",
       "      <th>psfStarDeltaE2Scatter</th>\n",
       "      <th>psfStarDeltaSizeMedian</th>\n",
       "      <th>psfStarDeltaSizeScatter</th>\n",
       "      <th>psfStarScaledDeltaSizeScatter</th>\n",
       "      <th>psfTraceRadiusDelta</th>\n",
       "      <th>maxDistToNearestPsf</th>\n",
       "      <th>effTime</th>\n",
       "      <th>effTimePsfSigmaScale</th>\n",
       "      <th>effTimeSkyBgScale</th>\n",
       "      <th>effTimeZeroPointScale</th>\n",
       "      <th>decl</th>\n",
       "      <th>detector</th>\n",
       "      <th>seeing</th>\n",
       "      <th>skyRotation</th>\n",
       "      <th>expMidpt</th>\n",
       "      <th>expMidptMJD</th>\n",
       "      <th>expTime</th>\n",
       "      <th>obsStart</th>\n",
       "      <th>obsStartMJD</th>\n",
       "      <th>darkTime</th>\n",
       "      <th>xSize</th>\n",
       "      <th>ySize</th>\n",
       "      <th>llcra</th>\n",
       "      <th>llcdec</th>\n",
       "      <th>ulcra</th>\n",
       "      <th>ulcdec</th>\n",
       "      <th>urcra</th>\n",
       "      <th>urcdec</th>\n",
       "      <th>lrcra</th>\n",
       "      <th>lrcdec</th>\n",
       "      <th>nightObs</th>\n",
       "      <th>Time</th>\n",
       "      <th>airmass</th>\n",
       "    </tr>\n",
       "    <tr>\n",
       "      <th>ccdVisitId</th>\n",
       "      <th></th>\n",
       "      <th></th>\n",
       "      <th></th>\n",
       "      <th></th>\n",
       "      <th></th>\n",
       "      <th></th>\n",
       "      <th></th>\n",
       "      <th></th>\n",
       "      <th></th>\n",
       "      <th></th>\n",
       "      <th></th>\n",
       "      <th></th>\n",
       "      <th></th>\n",
       "      <th></th>\n",
       "      <th></th>\n",
       "      <th></th>\n",
       "      <th></th>\n",
       "      <th></th>\n",
       "      <th></th>\n",
       "      <th></th>\n",
       "      <th></th>\n",
       "      <th></th>\n",
       "      <th></th>\n",
       "      <th></th>\n",
       "      <th></th>\n",
       "      <th></th>\n",
       "      <th></th>\n",
       "      <th></th>\n",
       "      <th></th>\n",
       "      <th></th>\n",
       "      <th></th>\n",
       "      <th></th>\n",
       "      <th></th>\n",
       "      <th></th>\n",
       "      <th></th>\n",
       "      <th></th>\n",
       "      <th></th>\n",
       "      <th></th>\n",
       "      <th></th>\n",
       "      <th></th>\n",
       "      <th></th>\n",
       "      <th></th>\n",
       "      <th></th>\n",
       "      <th></th>\n",
       "      <th></th>\n",
       "      <th></th>\n",
       "      <th></th>\n",
       "      <th></th>\n",
       "      <th></th>\n",
       "    </tr>\n",
       "  </thead>\n",
       "  <tbody>\n",
       "    <tr>\n",
       "      <th>40919696896</th>\n",
       "      <td>2023051100262</td>\n",
       "      <td>SDSSr_65mm~empty</td>\n",
       "      <td>r</td>\n",
       "      <td>239.946728</td>\n",
       "      <td>-24.053747</td>\n",
       "      <td>56.749516</td>\n",
       "      <td>27.690649</td>\n",
       "      <td>7.814408</td>\n",
       "      <td>11.197219</td>\n",
       "      <td>7.856582</td>\n",
       "      <td>0.026538</td>\n",
       "      <td>0.014041</td>\n",
       "      <td>42</td>\n",
       "      <td>-0.007038</td>\n",
       "      <td>0.000486</td>\n",
       "      <td>0.032627</td>\n",
       "      <td>0.014318</td>\n",
       "      <td>0.107089</td>\n",
       "      <td>0.110564</td>\n",
       "      <td>0.013839</td>\n",
       "      <td>0.879543</td>\n",
       "      <td>2160.236328</td>\n",
       "      <td>0.207786</td>\n",
       "      <td>0.016376</td>\n",
       "      <td>2.679237</td>\n",
       "      <td>0.157862</td>\n",
       "      <td>-24.053747</td>\n",
       "      <td>0</td>\n",
       "      <td>1.761132</td>\n",
       "      <td>322.911701</td>\n",
       "      <td>2023-05-12 01:08:56.302993</td>\n",
       "      <td>60076.047874</td>\n",
       "      <td>30.0</td>\n",
       "      <td>2023-05-12 01:08:41.302993</td>\n",
       "      <td>60076.047700</td>\n",
       "      <td>30.2434</td>\n",
       "      <td>4071</td>\n",
       "      <td>3999</td>\n",
       "      <td>239.935567</td>\n",
       "      <td>-24.128924</td>\n",
       "      <td>240.029265</td>\n",
       "      <td>-24.062574</td>\n",
       "      <td>239.957876</td>\n",
       "      <td>-23.978569</td>\n",
       "      <td>239.864202</td>\n",
       "      <td>-24.044875</td>\n",
       "      <td>20230511</td>\n",
       "      <td>2023-05-12 01:08:41.302993</td>\n",
       "      <td>1.823818</td>\n",
       "    </tr>\n",
       "    <tr>\n",
       "      <th>40919697152</th>\n",
       "      <td>2023051100263</td>\n",
       "      <td>SDSSg_65mm~empty</td>\n",
       "      <td>g</td>\n",
       "      <td>239.941334</td>\n",
       "      <td>-24.038378</td>\n",
       "      <td>56.289413</td>\n",
       "      <td>27.925329</td>\n",
       "      <td>7.783146</td>\n",
       "      <td>3.989901</td>\n",
       "      <td>7.472743</td>\n",
       "      <td>0.024001</td>\n",
       "      <td>0.011537</td>\n",
       "      <td>17</td>\n",
       "      <td>0.020877</td>\n",
       "      <td>0.003123</td>\n",
       "      <td>0.037679</td>\n",
       "      <td>0.028327</td>\n",
       "      <td>0.131853</td>\n",
       "      <td>0.174565</td>\n",
       "      <td>0.021897</td>\n",
       "      <td>5.176466</td>\n",
       "      <td>2552.229980</td>\n",
       "      <td>0.905713</td>\n",
       "      <td>0.016508</td>\n",
       "      <td>7.518984</td>\n",
       "      <td>0.243232</td>\n",
       "      <td>-24.038378</td>\n",
       "      <td>0</td>\n",
       "      <td>1.754283</td>\n",
       "      <td>170.005077</td>\n",
       "      <td>2023-05-12 01:11:06.209005</td>\n",
       "      <td>60076.049377</td>\n",
       "      <td>30.0</td>\n",
       "      <td>2023-05-12 01:10:51.209005</td>\n",
       "      <td>60076.049204</td>\n",
       "      <td>30.2343</td>\n",
       "      <td>4071</td>\n",
       "      <td>3999</td>\n",
       "      <td>239.988739</td>\n",
       "      <td>-23.976095</td>\n",
       "      <td>239.872244</td>\n",
       "      <td>-23.996199</td>\n",
       "      <td>239.893884</td>\n",
       "      <td>-24.100647</td>\n",
       "      <td>240.010470</td>\n",
       "      <td>-24.080526</td>\n",
       "      <td>20230511</td>\n",
       "      <td>2023-05-12 01:10:51.209005</td>\n",
       "      <td>1.801808</td>\n",
       "    </tr>\n",
       "    <tr>\n",
       "      <th>40919697408</th>\n",
       "      <td>2023051100264</td>\n",
       "      <td>SDSSi_65mm~empty</td>\n",
       "      <td>i</td>\n",
       "      <td>239.938164</td>\n",
       "      <td>-24.036848</td>\n",
       "      <td>55.439133</td>\n",
       "      <td>27.837013</td>\n",
       "      <td>6.324102</td>\n",
       "      <td>28.071854</td>\n",
       "      <td>8.586543</td>\n",
       "      <td>0.026761</td>\n",
       "      <td>0.017073</td>\n",
       "      <td>39</td>\n",
       "      <td>0.007049</td>\n",
       "      <td>-0.012680</td>\n",
       "      <td>0.025506</td>\n",
       "      <td>0.043905</td>\n",
       "      <td>0.010775</td>\n",
       "      <td>0.095402</td>\n",
       "      <td>0.015088</td>\n",
       "      <td>0.304010</td>\n",
       "      <td>1387.484985</td>\n",
       "      <td>0.165707</td>\n",
       "      <td>0.025004</td>\n",
       "      <td>1.068686</td>\n",
       "      <td>0.206713</td>\n",
       "      <td>-24.036848</td>\n",
       "      <td>0</td>\n",
       "      <td>1.425322</td>\n",
       "      <td>170.004955</td>\n",
       "      <td>2023-05-12 01:15:04.912000</td>\n",
       "      <td>60076.052140</td>\n",
       "      <td>30.0</td>\n",
       "      <td>2023-05-12 01:14:49.912000</td>\n",
       "      <td>60076.051967</td>\n",
       "      <td>30.2335</td>\n",
       "      <td>4071</td>\n",
       "      <td>3999</td>\n",
       "      <td>239.985571</td>\n",
       "      <td>-23.974553</td>\n",
       "      <td>239.869115</td>\n",
       "      <td>-23.994653</td>\n",
       "      <td>239.890710</td>\n",
       "      <td>-24.099127</td>\n",
       "      <td>240.007258</td>\n",
       "      <td>-24.079012</td>\n",
       "      <td>20230511</td>\n",
       "      <td>2023-05-12 01:14:49.912000</td>\n",
       "      <td>1.762794</td>\n",
       "    </tr>\n",
       "    <tr>\n",
       "      <th>40919698432</th>\n",
       "      <td>2023051100268</td>\n",
       "      <td>SDSSr_65mm~empty</td>\n",
       "      <td>r</td>\n",
       "      <td>239.964414</td>\n",
       "      <td>-24.045512</td>\n",
       "      <td>54.482189</td>\n",
       "      <td>27.765863</td>\n",
       "      <td>8.100543</td>\n",
       "      <td>10.701077</td>\n",
       "      <td>7.854048</td>\n",
       "      <td>0.024562</td>\n",
       "      <td>0.014017</td>\n",
       "      <td>32</td>\n",
       "      <td>-0.001813</td>\n",
       "      <td>-0.007225</td>\n",
       "      <td>0.012738</td>\n",
       "      <td>0.015732</td>\n",
       "      <td>0.153432</td>\n",
       "      <td>0.113233</td>\n",
       "      <td>0.013615</td>\n",
       "      <td>0.492057</td>\n",
       "      <td>2023.047119</td>\n",
       "      <td>0.232399</td>\n",
       "      <td>0.015240</td>\n",
       "      <td>2.803456</td>\n",
       "      <td>0.181321</td>\n",
       "      <td>-24.045512</td>\n",
       "      <td>0</td>\n",
       "      <td>1.825525</td>\n",
       "      <td>323.867206</td>\n",
       "      <td>2023-05-12 01:19:39.311494</td>\n",
       "      <td>60076.055316</td>\n",
       "      <td>30.0</td>\n",
       "      <td>2023-05-12 01:19:24.311494</td>\n",
       "      <td>60076.055142</td>\n",
       "      <td>30.2379</td>\n",
       "      <td>4071</td>\n",
       "      <td>3999</td>\n",
       "      <td>239.951871</td>\n",
       "      <td>-24.120505</td>\n",
       "      <td>240.046767</td>\n",
       "      <td>-24.055593</td>\n",
       "      <td>239.976942</td>\n",
       "      <td>-23.970518</td>\n",
       "      <td>239.882074</td>\n",
       "      <td>-24.035387</td>\n",
       "      <td>20230511</td>\n",
       "      <td>2023-05-12 01:19:24.311494</td>\n",
       "      <td>1.721301</td>\n",
       "    </tr>\n",
       "    <tr>\n",
       "      <th>40919698944</th>\n",
       "      <td>2023051100270</td>\n",
       "      <td>SDSSi_65mm~empty</td>\n",
       "      <td>i</td>\n",
       "      <td>239.961137</td>\n",
       "      <td>-24.046364</td>\n",
       "      <td>53.849274</td>\n",
       "      <td>27.847099</td>\n",
       "      <td>6.745777</td>\n",
       "      <td>23.952093</td>\n",
       "      <td>8.440446</td>\n",
       "      <td>0.023946</td>\n",
       "      <td>0.012757</td>\n",
       "      <td>33</td>\n",
       "      <td>-0.011323</td>\n",
       "      <td>0.002748</td>\n",
       "      <td>0.035845</td>\n",
       "      <td>0.022814</td>\n",
       "      <td>-0.030170</td>\n",
       "      <td>0.125044</td>\n",
       "      <td>0.018293</td>\n",
       "      <td>1.152671</td>\n",
       "      <td>1726.039673</td>\n",
       "      <td>0.173889</td>\n",
       "      <td>0.021975</td>\n",
       "      <td>1.252500</td>\n",
       "      <td>0.210590</td>\n",
       "      <td>-24.046364</td>\n",
       "      <td>0</td>\n",
       "      <td>1.520381</td>\n",
       "      <td>170.004124</td>\n",
       "      <td>2023-05-12 01:22:36.150002</td>\n",
       "      <td>60076.057363</td>\n",
       "      <td>30.0</td>\n",
       "      <td>2023-05-12 01:22:21.150002</td>\n",
       "      <td>60076.057189</td>\n",
       "      <td>30.2424</td>\n",
       "      <td>4071</td>\n",
       "      <td>3999</td>\n",
       "      <td>240.008535</td>\n",
       "      <td>-23.984061</td>\n",
       "      <td>239.892085</td>\n",
       "      <td>-24.004162</td>\n",
       "      <td>239.913693</td>\n",
       "      <td>-24.108652</td>\n",
       "      <td>240.030234</td>\n",
       "      <td>-24.088534</td>\n",
       "      <td>20230511</td>\n",
       "      <td>2023-05-12 01:22:21.150002</td>\n",
       "      <td>1.695170</td>\n",
       "    </tr>\n",
       "  </tbody>\n",
       "</table>\n",
       "</div>"
      ],
      "text/plain": [
       "                   visitId   physical_filter band          ra        dec  \\\n",
       "ccdVisitId                                                                 \n",
       "40919696896  2023051100262  SDSSr_65mm~empty    r  239.946728 -24.053747   \n",
       "40919697152  2023051100263  SDSSg_65mm~empty    g  239.941334 -24.038378   \n",
       "40919697408  2023051100264  SDSSi_65mm~empty    i  239.938164 -24.036848   \n",
       "40919698432  2023051100268  SDSSr_65mm~empty    r  239.964414 -24.045512   \n",
       "40919698944  2023051100270  SDSSi_65mm~empty    i  239.961137 -24.046364   \n",
       "\n",
       "             zenithDistance  zeroPoint  psfSigma      skyBg  skyNoise  \\\n",
       "ccdVisitId                                                              \n",
       "40919696896       56.749516  27.690649  7.814408  11.197219  7.856582   \n",
       "40919697152       56.289413  27.925329  7.783146   3.989901  7.472743   \n",
       "40919697408       55.439133  27.837013  6.324102  28.071854  8.586543   \n",
       "40919698432       54.482189  27.765863  8.100543  10.701077  7.854048   \n",
       "40919698944       53.849274  27.847099  6.745777  23.952093  8.440446   \n",
       "\n",
       "             astromOffsetMean  astromOffsetStd  nPsfStar  \\\n",
       "ccdVisitId                                                 \n",
       "40919696896          0.026538         0.014041        42   \n",
       "40919697152          0.024001         0.011537        17   \n",
       "40919697408          0.026761         0.017073        39   \n",
       "40919698432          0.024562         0.014017        32   \n",
       "40919698944          0.023946         0.012757        33   \n",
       "\n",
       "             psfStarDeltaE1Median  psfStarDeltaE2Median  \\\n",
       "ccdVisitId                                                \n",
       "40919696896             -0.007038              0.000486   \n",
       "40919697152              0.020877              0.003123   \n",
       "40919697408              0.007049             -0.012680   \n",
       "40919698432             -0.001813             -0.007225   \n",
       "40919698944             -0.011323              0.002748   \n",
       "\n",
       "             psfStarDeltaE1Scatter  psfStarDeltaE2Scatter  \\\n",
       "ccdVisitId                                                  \n",
       "40919696896               0.032627               0.014318   \n",
       "40919697152               0.037679               0.028327   \n",
       "40919697408               0.025506               0.043905   \n",
       "40919698432               0.012738               0.015732   \n",
       "40919698944               0.035845               0.022814   \n",
       "\n",
       "             psfStarDeltaSizeMedian  psfStarDeltaSizeScatter  \\\n",
       "ccdVisitId                                                     \n",
       "40919696896                0.107089                 0.110564   \n",
       "40919697152                0.131853                 0.174565   \n",
       "40919697408                0.010775                 0.095402   \n",
       "40919698432                0.153432                 0.113233   \n",
       "40919698944               -0.030170                 0.125044   \n",
       "\n",
       "             psfStarScaledDeltaSizeScatter  psfTraceRadiusDelta  \\\n",
       "ccdVisitId                                                        \n",
       "40919696896                       0.013839             0.879543   \n",
       "40919697152                       0.021897             5.176466   \n",
       "40919697408                       0.015088             0.304010   \n",
       "40919698432                       0.013615             0.492057   \n",
       "40919698944                       0.018293             1.152671   \n",
       "\n",
       "             maxDistToNearestPsf   effTime  effTimePsfSigmaScale  \\\n",
       "ccdVisitId                                                         \n",
       "40919696896          2160.236328  0.207786              0.016376   \n",
       "40919697152          2552.229980  0.905713              0.016508   \n",
       "40919697408          1387.484985  0.165707              0.025004   \n",
       "40919698432          2023.047119  0.232399              0.015240   \n",
       "40919698944          1726.039673  0.173889              0.021975   \n",
       "\n",
       "             effTimeSkyBgScale  effTimeZeroPointScale       decl  detector  \\\n",
       "ccdVisitId                                                                   \n",
       "40919696896           2.679237               0.157862 -24.053747         0   \n",
       "40919697152           7.518984               0.243232 -24.038378         0   \n",
       "40919697408           1.068686               0.206713 -24.036848         0   \n",
       "40919698432           2.803456               0.181321 -24.045512         0   \n",
       "40919698944           1.252500               0.210590 -24.046364         0   \n",
       "\n",
       "               seeing  skyRotation                   expMidpt   expMidptMJD  \\\n",
       "ccdVisitId                                                                    \n",
       "40919696896  1.761132   322.911701 2023-05-12 01:08:56.302993  60076.047874   \n",
       "40919697152  1.754283   170.005077 2023-05-12 01:11:06.209005  60076.049377   \n",
       "40919697408  1.425322   170.004955 2023-05-12 01:15:04.912000  60076.052140   \n",
       "40919698432  1.825525   323.867206 2023-05-12 01:19:39.311494  60076.055316   \n",
       "40919698944  1.520381   170.004124 2023-05-12 01:22:36.150002  60076.057363   \n",
       "\n",
       "             expTime                   obsStart   obsStartMJD  darkTime  \\\n",
       "ccdVisitId                                                                \n",
       "40919696896     30.0 2023-05-12 01:08:41.302993  60076.047700   30.2434   \n",
       "40919697152     30.0 2023-05-12 01:10:51.209005  60076.049204   30.2343   \n",
       "40919697408     30.0 2023-05-12 01:14:49.912000  60076.051967   30.2335   \n",
       "40919698432     30.0 2023-05-12 01:19:24.311494  60076.055142   30.2379   \n",
       "40919698944     30.0 2023-05-12 01:22:21.150002  60076.057189   30.2424   \n",
       "\n",
       "             xSize  ySize       llcra     llcdec       ulcra     ulcdec  \\\n",
       "ccdVisitId                                                                \n",
       "40919696896   4071   3999  239.935567 -24.128924  240.029265 -24.062574   \n",
       "40919697152   4071   3999  239.988739 -23.976095  239.872244 -23.996199   \n",
       "40919697408   4071   3999  239.985571 -23.974553  239.869115 -23.994653   \n",
       "40919698432   4071   3999  239.951871 -24.120505  240.046767 -24.055593   \n",
       "40919698944   4071   3999  240.008535 -23.984061  239.892085 -24.004162   \n",
       "\n",
       "                  urcra     urcdec       lrcra     lrcdec  nightObs  \\\n",
       "ccdVisitId                                                            \n",
       "40919696896  239.957876 -23.978569  239.864202 -24.044875  20230511   \n",
       "40919697152  239.893884 -24.100647  240.010470 -24.080526  20230511   \n",
       "40919697408  239.890710 -24.099127  240.007258 -24.079012  20230511   \n",
       "40919698432  239.976942 -23.970518  239.882074 -24.035387  20230511   \n",
       "40919698944  239.913693 -24.108652  240.030234 -24.088534  20230511   \n",
       "\n",
       "                                  Time   airmass  \n",
       "ccdVisitId                                        \n",
       "40919696896 2023-05-12 01:08:41.302993  1.823818  \n",
       "40919697152 2023-05-12 01:10:51.209005  1.801808  \n",
       "40919697408 2023-05-12 01:14:49.912000  1.762794  \n",
       "40919698432 2023-05-12 01:19:24.311494  1.721301  \n",
       "40919698944 2023-05-12 01:22:21.150002  1.695170  "
      ]
     },
     "execution_count": 44,
     "metadata": {},
     "output_type": "execute_result"
    }
   ],
   "source": [
    "ccd_visit_table_selected.head() "
   ]
  },
  {
   "cell_type": "code",
   "execution_count": 45,
   "id": "554312a5-5184-4ebe-8ad9-0a6b80e16b1d",
   "metadata": {
    "execution": {
     "iopub.execute_input": "2024-02-24T14:07:30.555462Z",
     "iopub.status.busy": "2024-02-24T14:07:30.555328Z",
     "iopub.status.idle": "2024-02-24T14:07:30.558171Z",
     "shell.execute_reply": "2024-02-24T14:07:30.557788Z",
     "shell.execute_reply.started": "2024-02-24T14:07:30.555450Z"
    }
   },
   "outputs": [
    {
     "data": {
      "text/plain": [
       "Index(['visitId', 'physical_filter', 'band', 'ra', 'dec', 'zenithDistance',\n",
       "       'zeroPoint', 'psfSigma', 'skyBg', 'skyNoise', 'astromOffsetMean',\n",
       "       'astromOffsetStd', 'nPsfStar', 'psfStarDeltaE1Median',\n",
       "       'psfStarDeltaE2Median', 'psfStarDeltaE1Scatter',\n",
       "       'psfStarDeltaE2Scatter', 'psfStarDeltaSizeMedian',\n",
       "       'psfStarDeltaSizeScatter', 'psfStarScaledDeltaSizeScatter',\n",
       "       'psfTraceRadiusDelta', 'maxDistToNearestPsf', 'effTime',\n",
       "       'effTimePsfSigmaScale', 'effTimeSkyBgScale', 'effTimeZeroPointScale',\n",
       "       'decl', 'detector', 'seeing', 'skyRotation', 'expMidpt', 'expMidptMJD',\n",
       "       'expTime', 'obsStart', 'obsStartMJD', 'darkTime', 'xSize', 'ySize',\n",
       "       'llcra', 'llcdec', 'ulcra', 'ulcdec', 'urcra', 'urcdec', 'lrcra',\n",
       "       'lrcdec', 'nightObs', 'Time', 'airmass'],\n",
       "      dtype='object')"
      ]
     },
     "execution_count": 45,
     "metadata": {},
     "output_type": "execute_result"
    }
   ],
   "source": [
    "ccd_visit_table_selected.columns"
   ]
  },
  {
   "cell_type": "code",
   "execution_count": 46,
   "id": "35a22d48-9f0d-41ca-8417-6a11cafde159",
   "metadata": {
    "execution": {
     "iopub.execute_input": "2024-02-24T14:07:30.558770Z",
     "iopub.status.busy": "2024-02-24T14:07:30.558631Z",
     "iopub.status.idle": "2024-02-24T14:07:30.560964Z",
     "shell.execute_reply": "2024-02-24T14:07:30.560585Z",
     "shell.execute_reply.started": "2024-02-24T14:07:30.558757Z"
    }
   },
   "outputs": [],
   "source": [
    "df = ccd_visit_table_selected"
   ]
  },
  {
   "cell_type": "code",
   "execution_count": 47,
   "id": "f8e17498-94e2-419a-b8ff-3e5a53bbaf52",
   "metadata": {
    "execution": {
     "iopub.execute_input": "2024-02-24T14:07:30.561585Z",
     "iopub.status.busy": "2024-02-24T14:07:30.561453Z",
     "iopub.status.idle": "2024-02-24T14:07:31.034757Z",
     "shell.execute_reply": "2024-02-24T14:07:31.034315Z",
     "shell.execute_reply.started": "2024-02-24T14:07:30.561569Z"
    }
   },
   "outputs": [
    {
     "data": {
      "image/png": "[encoded data removed]",
      "text/plain": [
       "<Figure size 1600x1000 with 2 Axes>"
      ]
     },
     "metadata": {},
     "output_type": "display_data"
    }
   ],
   "source": [
    "fig,(ax1,ax2) = plt.subplots(2,1,figsize=(16,10))\n",
    "\n",
    "df[df[\"band\"]==\"g\"].plot(x=\"Time\",y=\"zeroPoint\",marker='o',c=\"g\",lw=0.0,ax=ax1,grid=True,legend=False)\n",
    "df[df[\"band\"]==\"r\"].plot(x=\"Time\",y=\"zeroPoint\",marker='o',c=\"r\",lw=0.0,ax=ax1,grid=True,legend=False)\n",
    "df[df[\"band\"]==\"i\"].plot(x=\"Time\",y=\"zeroPoint\",marker='o',c=\"y\",lw=0.0,ax=ax1,grid=True,legend=False)\n",
    "ax1.set_title(\"zeroPoint\")\n",
    "\n",
    "\n",
    "df[df[\"band\"]==\"g\"].plot(x=\"Time\",y=\"airmass\",marker='o',c=\"g\",lw=0.0,ax=ax2,grid=True,legend=False)\n",
    "df[df[\"band\"]==\"r\"].plot(x=\"Time\",y=\"airmass\",marker='o',c=\"r\",lw=0.0,ax=ax2,grid=True,legend=False)\n",
    "df[df[\"band\"]==\"i\"].plot(x=\"Time\",y=\"airmass\",marker='o',c=\"y\",lw=0.0,ax=ax2,grid=True,legend=False)\n",
    "ax2.set_title(\"airmass\")\n",
    "\n",
    "\n",
    "#df.plot(x=\"Time\",y=\"coord_dec\",marker='o',c=\"g\",lw=0.0,ax=ax2,grid=True)\n",
    "plt.suptitle(suptitle,y=1.0,fontsize=16)\n",
    "plt.tight_layout()"
   ]
  },
  {
   "cell_type": "markdown",
   "id": "67a47186-9cd3-4fcb-98da-7692dbd9d463",
   "metadata": {},
   "source": [
    "## Plot number of visit per day"
   ]
  },
  {
   "cell_type": "markdown",
   "id": "eb02c2a2-b738-4a3c-b9c3-e4b11daffdf4",
   "metadata": {
    "execution": {
     "iopub.execute_input": "2024-01-02T10:21:27.939035Z",
     "iopub.status.busy": "2024-01-02T10:21:27.938718Z",
     "iopub.status.idle": "2024-01-02T10:21:27.941179Z",
     "shell.execute_reply": "2024-01-02T10:21:27.940809Z",
     "shell.execute_reply.started": "2024-01-02T10:21:27.939020Z"
    }
   },
   "source": [
    "### Plot number of visit per day "
   ]
  },
  {
   "cell_type": "code",
   "execution_count": 48,
   "id": "40e4a8f5-5afa-43c2-8973-a4146d642b16",
   "metadata": {
    "execution": {
     "iopub.execute_input": "2024-02-24T14:07:31.035518Z",
     "iopub.status.busy": "2024-02-24T14:07:31.035381Z",
     "iopub.status.idle": "2024-02-24T14:07:32.361682Z",
     "shell.execute_reply": "2024-02-24T14:07:32.361252Z",
     "shell.execute_reply.started": "2024-02-24T14:07:31.035505Z"
    }
   },
   "outputs": [
    {
     "name": "stderr",
     "output_type": "stream",
     "text": [
      "/tmp/ipykernel_13458/3493061813.py:3: UserWarning: To output multiple subplots, the figure containing the passed axes is being cleared.\n",
      "  ccd_visit_table.plot.hist(column=[\"nightObs\"], by=\"band\", bins=200,grid=True,ax=ax,legend=False)\n"
     ]
    },
    {
     "data": {
      "image/png": "[encoded data removed]",
      "text/plain": [
       "<Figure size 1600x1200 with 5 Axes>"
      ]
     },
     "metadata": {},
     "output_type": "display_data"
    }
   ],
   "source": [
    "import matplotlib.ticker\n",
    "fig,ax = plt.subplots(1,1,figsize=(16,12))\n",
    "ccd_visit_table.plot.hist(column=[\"nightObs\"], by=\"band\", bins=200,grid=True,ax=ax,legend=False)\n",
    "\n",
    "\n",
    "# plot x axis as an int\n",
    "locator = matplotlib.ticker.MultipleLocator(2)\n",
    "\n",
    "plt.gca().xaxis.set_major_locator(locator)\n",
    "formatter = matplotlib.ticker.StrMethodFormatter(\"{x:.0f}\")\n",
    "plt.gca().xaxis.set_major_formatter(formatter)\n",
    "plt.gca().xaxis.set_major_locator(plt.MaxNLocator(20))\n",
    "plt.xticks(rotation=90)\n",
    "\n",
    "plt.suptitle(suptitle)\n",
    "plt.tight_layout()"
   ]
  },
  {
   "cell_type": "code",
   "execution_count": 49,
   "id": "52be9306-19dc-4bd8-8a1d-63ef82ad2bb4",
   "metadata": {
    "execution": {
     "iopub.execute_input": "2024-02-24T14:07:32.362453Z",
     "iopub.status.busy": "2024-02-24T14:07:32.362313Z",
     "iopub.status.idle": "2024-02-24T14:07:32.369721Z",
     "shell.execute_reply": "2024-02-24T14:07:32.369329Z",
     "shell.execute_reply.started": "2024-02-24T14:07:32.362440Z"
    }
   },
   "outputs": [
    {
     "data": {
      "text/plain": [
       "nightObs  band\n",
       "20230511  g       85\n",
       "          i       85\n",
       "          r       87\n",
       "20230523  g       13\n",
       "          i       13\n",
       "                  ..\n",
       "20240129  z        4\n",
       "20240130  g       15\n",
       "          r       15\n",
       "          y       15\n",
       "          z       15\n",
       "Name: countVisitperBandperNight, Length: 147, dtype: int64"
      ]
     },
     "execution_count": 49,
     "metadata": {},
     "output_type": "execute_result"
    }
   ],
   "source": [
    "ccd_visit_table_counts_byband = ccd_visit_table.groupby(['nightObs','band']).count()[\"visitId\"]\n",
    "ccd_visit_table_counts_byband.name = \"countVisitperBandperNight\" \n",
    "ccd_visit_table_counts_byband"
   ]
  },
  {
   "cell_type": "code",
   "execution_count": 50,
   "id": "1d11fa49-43b3-48d6-9a9e-bf3a65949d99",
   "metadata": {
    "execution": {
     "iopub.execute_input": "2024-02-24T14:07:32.370459Z",
     "iopub.status.busy": "2024-02-24T14:07:32.370331Z",
     "iopub.status.idle": "2024-02-24T14:07:32.375779Z",
     "shell.execute_reply": "2024-02-24T14:07:32.375261Z",
     "shell.execute_reply.started": "2024-02-24T14:07:32.370447Z"
    }
   },
   "outputs": [
    {
     "data": {
      "text/plain": [
       "nightObs\n",
       "20230511    257\n",
       "20230523     40\n",
       "20230524     58\n",
       "20230704     48\n",
       "20230705     75\n",
       "20230706    183\n",
       "20230718     77\n",
       "20230720     81\n",
       "20230801     37\n",
       "20230802     54\n",
       "20230803    333\n",
       "20230815      7\n",
       "20230816     12\n",
       "20230817     85\n",
       "20230829    150\n",
       "20230914     32\n",
       "20230927      9\n",
       "20230928     57\n",
       "20231010     69\n",
       "20231011      4\n",
       "20231107     32\n",
       "20231108     63\n",
       "20231113     62\n",
       "20231114     24\n",
       "20231115     71\n",
       "20231116    112\n",
       "20231120     86\n",
       "20231121    130\n",
       "20231127    115\n",
       "20231128    111\n",
       "20231129    118\n",
       "20231130     85\n",
       "20231204     96\n",
       "20231205     84\n",
       "20231206     96\n",
       "20231211     84\n",
       "20231212      8\n",
       "20231214     94\n",
       "20231215     88\n",
       "20231219     20\n",
       "20231220     96\n",
       "20231221     97\n",
       "20231222     71\n",
       "20240129     17\n",
       "20240130     60\n",
       "Name: countVisitperNight, dtype: int64"
      ]
     },
     "execution_count": 50,
     "metadata": {},
     "output_type": "execute_result"
    }
   ],
   "source": [
    "ccd_visit_table_counts = ccd_visit_table.groupby(['nightObs']).count()[\"visitId\"]\n",
    "ccd_visit_table_counts.name = \"countVisitperNight\" \n",
    "ccd_visit_table_counts"
   ]
  },
  {
   "cell_type": "markdown",
   "id": "4694d52f-b86c-4895-b633-d78cfb9ef62b",
   "metadata": {},
   "source": [
    "## Loop on all nights"
   ]
  },
  {
   "cell_type": "code",
   "execution_count": 51,
   "id": "8c4b93e8-eaa8-4706-819e-5f108bf6be08",
   "metadata": {
    "execution": {
     "iopub.execute_input": "2024-02-24T14:07:32.376434Z",
     "iopub.status.busy": "2024-02-24T14:07:32.376306Z",
     "iopub.status.idle": "2024-02-24T14:07:33.117485Z",
     "shell.execute_reply": "2024-02-24T14:07:33.117103Z",
     "shell.execute_reply.started": "2024-02-24T14:07:32.376422Z"
    }
   },
   "outputs": [
    {
     "data": {
      "image/png": "[encoded data removed]",
      "text/plain": [
       "<Figure size 1600x1000 with 2 Axes>"
      ]
     },
     "metadata": {},
     "output_type": "display_data"
    },
    {
     "data": {
      "image/png": "[encoded data removed]",
      "text/plain": [
       "<Figure size 600x600 with 1 Axes>"
      ]
     },
     "metadata": {},
     "output_type": "display_data"
    }
   ],
   "source": [
    "all_night_obs = ccd_visit_table['nightObs'].unique()\n",
    "all_night_obs = [20230803]\n",
    "for nightObs_selected in all_night_obs:\n",
    "    ccd_visit_table_nightsel = ccd_visit_table[ccd_visit_table.nightObs == nightObs_selected]\n",
    "    ccd_visit_table_nightselcount_byband = ccd_visit_table_nightsel.groupby(['band']).count()[\"visitId\"]\n",
    "    ccd_visit_table_nightselcountsum = ccd_visit_table_nightselcount_byband.sum() \n",
    "    df = ccd_visit_table_nightsel\n",
    "\n",
    "    fig,(ax1,ax2) = plt.subplots(2,1,figsize=(16,10))\n",
    "    df[df[\"band\"]==\"g\"].plot(x=\"Time\",y=\"zeroPoint\",marker='o',c=\"g\",lw=0.0,ax=ax1,grid=True,legend=\"auxtel g filter\")\n",
    "    df[df[\"band\"]==\"r\"].plot(x=\"Time\",y=\"zeroPoint\",marker='o',c=\"r\",lw=0.0,ax=ax1,grid=True,legend=\"auxtel r filter\")\n",
    "    df[df[\"band\"]==\"i\"].plot(x=\"Time\",y=\"zeroPoint\",marker='o',c=\"k\",lw=0.0,ax=ax1,grid=True,legend=\"auxtel i filter\")\n",
    "    ax1.set_title(\"zeroPoint\")\n",
    "\n",
    "    df[df[\"band\"]==\"g\"].plot(x=\"Time\",y=\"airmass\",marker='o',c=\"g\",lw=0.0,ax=ax2,grid=True,legend=False)\n",
    "    df[df[\"band\"]==\"r\"].plot(x=\"Time\",y=\"airmass\",marker='o',c=\"r\",lw=0.0,ax=ax2,grid=True,legend=False)\n",
    "    df[df[\"band\"]==\"i\"].plot(x=\"Time\",y=\"airmass\",marker='o',c=\"k\",lw=0.0,ax=ax2,grid=True,legend=False)\n",
    "    ax2.set_title(\"airmass\")\n",
    "    plt.suptitle(suptitle + f\" night {nightObs_selected}\",y=1.0,fontsize=16)\n",
    "    plt.tight_layout()\n",
    "    plt.show()\n",
    "\n",
    "    fig,ax = plt.subplots(1,1,figsize=(6,6))\n",
    "\n",
    "    df[df[\"band\"]==\"g\"].plot.scatter(x=\"airmass\",y=\"zeroPoint\",marker='o',c=\"g\",lw=0.0,ax=ax,grid=True,legend=\"auxtel g filter\")\n",
    "    df[df[\"band\"]==\"r\"].plot(x=\"airmass\",y=\"zeroPoint\",marker='o',c=\"r\",lw=0.0,ax=ax,grid=True,legend=\"auxtel r filter\")\n",
    "    df[df[\"band\"]==\"i\"].plot(x=\"airmass\",y=\"zeroPoint\",marker='o',c=\"k\",lw=0.0,ax=ax,grid=True,legend=\"auxtel i filter\")\n",
    "    ax.set_title(\"zero point vs airmass\")\n",
    "\n",
    "    #  # np.array([-0.17429742,-0.39848897,-0.38915855 ])\n",
    "    ax.plot(all_am,pc.allcollperfilter['g']['ZPT_nonstd']-0.17429742,'-.g',label=\"simul filter g\")\n",
    "    ax.plot(all_am,pc.allcollperfilter['r']['ZPT_nonstd']-0.39848897,'-.r',label=\"simul filter r\")\n",
    "    ax.plot(all_am,pc.allcollperfilter['i']['ZPT_nonstd']-0.38915855,'-.k',label=\"simul filter i\")\n",
    "    ax.legend()\n",
    "\n",
    "    plt.suptitle(f\" night {nightObs_selected}\",y=1.0,fontsize=16)\n",
    "    plt.tight_layout()\n",
    "    plt.show()\n",
    "\n"
   ]
  },
  {
   "cell_type": "code",
   "execution_count": 52,
   "id": "81d05a0c-37ea-4141-b168-28393dd4dc3b",
   "metadata": {
    "execution": {
     "iopub.execute_input": "2024-02-24T14:07:33.118327Z",
     "iopub.status.busy": "2024-02-24T14:07:33.118040Z",
     "iopub.status.idle": "2024-02-24T14:07:33.183110Z",
     "shell.execute_reply": "2024-02-24T14:07:33.182701Z",
     "shell.execute_reply.started": "2024-02-24T14:07:33.118313Z"
    }
   },
   "outputs": [
    {
     "data": {
      "text/plain": [
       "[<matplotlib.lines.Line2D at 0x7f28cbb50750>]"
      ]
     },
     "execution_count": 52,
     "metadata": {},
     "output_type": "execute_result"
    },
    {
     "data": {
      "image/png": "[encoded data removed]",
      "text/plain": [
       "<Figure size 400x300 with 1 Axes>"
      ]
     },
     "metadata": {},
     "output_type": "display_data"
    }
   ],
   "source": [
    "plt.plot(all_am,pc.allcollperfilter['g']['ZPT_nonstd'],'-.g',label=\"simul filter g\")"
   ]
  },
  {
   "cell_type": "markdown",
   "id": "b1237be2-1d99-4cc6-b2a3-aba9d8fadcd6",
   "metadata": {},
   "source": [
    "## Derive the polynom of the models"
   ]
  },
  {
   "cell_type": "code",
   "execution_count": 53,
   "id": "ab6231f9-b107-4dbf-b8d2-08cc93f3687d",
   "metadata": {
    "execution": {
     "iopub.execute_input": "2024-02-24T14:07:33.183808Z",
     "iopub.status.busy": "2024-02-24T14:07:33.183670Z",
     "iopub.status.idle": "2024-02-24T14:07:33.186148Z",
     "shell.execute_reply": "2024-02-24T14:07:33.185771Z",
     "shell.execute_reply.started": "2024-02-24T14:07:33.183796Z"
    }
   },
   "outputs": [],
   "source": [
    "Z_g = np.polyfit(all_am,pc.allcollperfilter['g']['ZPT_nonstd'], 1)"
   ]
  },
  {
   "cell_type": "code",
   "execution_count": 54,
   "id": "7105cee6-2300-47f2-b203-6c26aee726a6",
   "metadata": {
    "execution": {
     "iopub.execute_input": "2024-02-24T14:07:33.186831Z",
     "iopub.status.busy": "2024-02-24T14:07:33.186665Z",
     "iopub.status.idle": "2024-02-24T14:07:33.190906Z",
     "shell.execute_reply": "2024-02-24T14:07:33.190502Z",
     "shell.execute_reply.started": "2024-02-24T14:07:33.186814Z"
    }
   },
   "outputs": [],
   "source": [
    "Z_r = np.polyfit(all_am,pc.allcollperfilter['r']['ZPT_nonstd'], 1)"
   ]
  },
  {
   "cell_type": "code",
   "execution_count": 55,
   "id": "55575690-0825-457b-be88-7128d572abfa",
   "metadata": {
    "execution": {
     "iopub.execute_input": "2024-02-24T14:07:33.191546Z",
     "iopub.status.busy": "2024-02-24T14:07:33.191415Z",
     "iopub.status.idle": "2024-02-24T14:07:33.195751Z",
     "shell.execute_reply": "2024-02-24T14:07:33.195331Z",
     "shell.execute_reply.started": "2024-02-24T14:07:33.191531Z"
    }
   },
   "outputs": [],
   "source": [
    "Z_i = np.polyfit(all_am,pc.allcollperfilter['i']['ZPT_nonstd'], 1)"
   ]
  },
  {
   "cell_type": "code",
   "execution_count": 56,
   "id": "b593cd6e-43bc-4003-8845-7d5e7c661ed6",
   "metadata": {
    "execution": {
     "iopub.execute_input": "2024-02-24T14:07:33.196491Z",
     "iopub.status.busy": "2024-02-24T14:07:33.196327Z",
     "iopub.status.idle": "2024-02-24T14:07:33.199497Z",
     "shell.execute_reply": "2024-02-24T14:07:33.199140Z",
     "shell.execute_reply.started": "2024-02-24T14:07:33.196478Z"
    }
   },
   "outputs": [],
   "source": [
    "pol_g = np.poly1d(Z_g)\n",
    "pol_r = np.poly1d(Z_r)\n",
    "pol_i = np.poly1d(Z_i)"
   ]
  },
  {
   "cell_type": "code",
   "execution_count": 57,
   "id": "2e29d54a-b6c8-4ece-8587-0b7354cc56e0",
   "metadata": {
    "execution": {
     "iopub.execute_input": "2024-02-24T14:07:33.200067Z",
     "iopub.status.busy": "2024-02-24T14:07:33.199945Z",
     "iopub.status.idle": "2024-02-24T14:07:33.203352Z",
     "shell.execute_reply": "2024-02-24T14:07:33.203012Z",
     "shell.execute_reply.started": "2024-02-24T14:07:33.200055Z"
    }
   },
   "outputs": [],
   "source": [
    "from scipy.optimize import curve_fit"
   ]
  },
  {
   "cell_type": "code",
   "execution_count": 58,
   "id": "08978025-eea1-4f3c-b2be-293505a54ea8",
   "metadata": {
    "execution": {
     "iopub.execute_input": "2024-02-24T14:07:33.204002Z",
     "iopub.status.busy": "2024-02-24T14:07:33.203875Z",
     "iopub.status.idle": "2024-02-24T14:07:33.206907Z",
     "shell.execute_reply": "2024-02-24T14:07:33.206567Z",
     "shell.execute_reply.started": "2024-02-24T14:07:33.203990Z"
    }
   },
   "outputs": [],
   "source": [
    "def func_g(x, k):\n",
    "    return pol_g(x) + k"
   ]
  },
  {
   "cell_type": "code",
   "execution_count": 59,
   "id": "3428937b-0e10-4ccb-911d-3e2eacd1a6f1",
   "metadata": {
    "execution": {
     "iopub.execute_input": "2024-02-24T14:07:33.207513Z",
     "iopub.status.busy": "2024-02-24T14:07:33.207384Z",
     "iopub.status.idle": "2024-02-24T14:07:33.211188Z",
     "shell.execute_reply": "2024-02-24T14:07:33.210761Z",
     "shell.execute_reply.started": "2024-02-24T14:07:33.207501Z"
    }
   },
   "outputs": [],
   "source": [
    "def func_r(x, k):\n",
    "    return pol_r(x) + k"
   ]
  },
  {
   "cell_type": "code",
   "execution_count": 60,
   "id": "37dd01ca-65d3-4481-b311-59cc922d36d2",
   "metadata": {
    "execution": {
     "iopub.execute_input": "2024-02-24T14:07:33.211798Z",
     "iopub.status.busy": "2024-02-24T14:07:33.211662Z",
     "iopub.status.idle": "2024-02-24T14:07:33.214554Z",
     "shell.execute_reply": "2024-02-24T14:07:33.214180Z",
     "shell.execute_reply.started": "2024-02-24T14:07:33.211785Z"
    }
   },
   "outputs": [],
   "source": [
    "def func_i(x, k):\n",
    "    return pol_i(x) + k"
   ]
  },
  {
   "cell_type": "code",
   "execution_count": 61,
   "id": "2c73252c-ce8b-440c-8f29-2c8f0af1c19b",
   "metadata": {
    "execution": {
     "iopub.execute_input": "2024-02-24T14:07:33.215157Z",
     "iopub.status.busy": "2024-02-24T14:07:33.215036Z",
     "iopub.status.idle": "2024-02-24T14:07:33.221125Z",
     "shell.execute_reply": "2024-02-24T14:07:33.220633Z",
     "shell.execute_reply.started": "2024-02-24T14:07:33.215146Z"
    }
   },
   "outputs": [
    {
     "data": {
      "text/plain": [
       "array([-0.17451424])"
      ]
     },
     "execution_count": 61,
     "metadata": {},
     "output_type": "execute_result"
    }
   ],
   "source": [
    "Xdata_g  = df[df[\"band\"]==\"g\"][\"airmass\"].values\n",
    "Ydata_g = df[df[\"band\"]==\"g\"][\"zeroPoint\"].values\n",
    "popt_g, pcov_g = curve_fit(func_g, Xdata_g, Ydata_g)\n",
    "popt_g"
   ]
  },
  {
   "cell_type": "code",
   "execution_count": 62,
   "id": "8a2341cc-9575-4b93-bc4e-84beec4e9faf",
   "metadata": {
    "execution": {
     "iopub.execute_input": "2024-02-24T14:07:33.221787Z",
     "iopub.status.busy": "2024-02-24T14:07:33.221623Z",
     "iopub.status.idle": "2024-02-24T14:07:33.226224Z",
     "shell.execute_reply": "2024-02-24T14:07:33.225864Z",
     "shell.execute_reply.started": "2024-02-24T14:07:33.221769Z"
    }
   },
   "outputs": [
    {
     "data": {
      "text/plain": [
       "array([-0.40321499])"
      ]
     },
     "execution_count": 62,
     "metadata": {},
     "output_type": "execute_result"
    }
   ],
   "source": [
    "Xdata_r  = df[df[\"band\"]==\"r\"][\"airmass\"].values\n",
    "Ydata_r  = df[df[\"band\"]==\"r\"][\"zeroPoint\"].values\n",
    "popt_r, pcov_r = curve_fit(func_r, Xdata_r, Ydata_r)\n",
    "popt_r"
   ]
  },
  {
   "cell_type": "code",
   "execution_count": 63,
   "id": "f35b95fd-cd95-4ee3-afd6-f6f8b3d762d9",
   "metadata": {
    "execution": {
     "iopub.execute_input": "2024-02-24T14:07:33.226811Z",
     "iopub.status.busy": "2024-02-24T14:07:33.226684Z",
     "iopub.status.idle": "2024-02-24T14:07:33.230969Z",
     "shell.execute_reply": "2024-02-24T14:07:33.230646Z",
     "shell.execute_reply.started": "2024-02-24T14:07:33.226800Z"
    }
   },
   "outputs": [
    {
     "data": {
      "text/plain": [
       "array([-0.38924382])"
      ]
     },
     "execution_count": 63,
     "metadata": {},
     "output_type": "execute_result"
    }
   ],
   "source": [
    "Xdata_i  = df[df[\"band\"]==\"i\"][\"airmass\"].values\n",
    "Ydata_i  = df[df[\"band\"]==\"i\"][\"zeroPoint\"].values\n",
    "popt_i, pcov_i = curve_fit(func_i, Xdata_i, Ydata_i)\n",
    "popt_i"
   ]
  },
  {
   "cell_type": "code",
   "execution_count": 64,
   "id": "5f1f12ed-7a20-483b-8280-c14cd667f2da",
   "metadata": {
    "execution": {
     "iopub.execute_input": "2024-02-24T14:07:33.235522Z",
     "iopub.status.busy": "2024-02-24T14:07:33.235394Z",
     "iopub.status.idle": "2024-02-24T14:07:33.238083Z",
     "shell.execute_reply": "2024-02-24T14:07:33.237765Z",
     "shell.execute_reply.started": "2024-02-24T14:07:33.235510Z"
    }
   },
   "outputs": [
    {
     "data": {
      "text/plain": [
       "array([-0.17429742, -0.39848897, -0.38915855])"
      ]
     },
     "execution_count": 64,
     "metadata": {},
     "output_type": "execute_result"
    }
   ],
   "source": [
    "np.array([-0.17429742,-0.39848897,-0.38915855 ])"
   ]
  },
  {
   "cell_type": "code",
   "execution_count": 65,
   "id": "34ef7055-4b0c-4395-8546-3d0f351a9928",
   "metadata": {
    "execution": {
     "iopub.execute_input": "2024-02-24T14:07:33.238629Z",
     "iopub.status.busy": "2024-02-24T14:07:33.238510Z",
     "iopub.status.idle": "2024-02-24T14:07:33.241383Z",
     "shell.execute_reply": "2024-02-24T14:07:33.241052Z",
     "shell.execute_reply.started": "2024-02-24T14:07:33.238618Z"
    }
   },
   "outputs": [],
   "source": [
    "DeltaZP_g = (Ydata_g - func_g(Xdata_g,popt_g[0]))*1000\n",
    "DeltaZP_r = (Ydata_r - func_r(Xdata_r,popt_r[0]))*1000\n",
    "DeltaZP_i = (Ydata_i - func_i(Xdata_i,popt_i[0]))*1000\n",
    "std_g = np.std(DeltaZP_g)\n",
    "std_r = np.std(DeltaZP_r)\n",
    "std_i = np.std(DeltaZP_i)"
   ]
  },
  {
   "cell_type": "code",
   "execution_count": 66,
   "id": "283a918d-c24c-4cb3-9288-ec362d3301b0",
   "metadata": {
    "execution": {
     "iopub.execute_input": "2024-02-24T14:07:33.241947Z",
     "iopub.status.busy": "2024-02-24T14:07:33.241826Z",
     "iopub.status.idle": "2024-02-24T14:07:33.245622Z",
     "shell.execute_reply": "2024-02-24T14:07:33.245297Z",
     "shell.execute_reply.started": "2024-02-24T14:07:33.241935Z"
    }
   },
   "outputs": [],
   "source": [
    "textstr_g = r'$\\sigma=%.1f$ mmag' % (std_g, )\n",
    "textstr_r = r'$\\sigma=%.1f$ mmag' % (std_r, )\n",
    "textstr_i = r'$\\sigma=%.1f$ mmag' % (std_i, )"
   ]
  },
  {
   "cell_type": "code",
   "execution_count": 67,
   "id": "0d3febf7-04d2-413e-9b73-14a3690d4e6b",
   "metadata": {
    "execution": {
     "iopub.execute_input": "2024-02-24T14:07:33.246260Z",
     "iopub.status.busy": "2024-02-24T14:07:33.246138Z",
     "iopub.status.idle": "2024-02-24T14:07:33.681970Z",
     "shell.execute_reply": "2024-02-24T14:07:33.681518Z",
     "shell.execute_reply.started": "2024-02-24T14:07:33.246248Z"
    }
   },
   "outputs": [
    {
     "data": {
      "text/plain": [
       "Text(0.5, 1.0, ' night 20230803')"
      ]
     },
     "execution_count": 67,
     "metadata": {},
     "output_type": "execute_result"
    },
    {
     "data": {
      "image/png": "[encoded data removed]",
      "text/plain": [
       "<Figure size 1600x400 with 3 Axes>"
      ]
     },
     "metadata": {},
     "output_type": "display_data"
    }
   ],
   "source": [
    "fig,(ax1,ax2,ax3) = plt.subplots(1,3,figsize=(16,4))\n",
    "props = dict(boxstyle='round', facecolor='wheat', alpha=0.5)\n",
    "\n",
    "ax1.hist(DeltaZP_g,bins=40,range=(-50.,50.),facecolor=\"g\")\n",
    "ax1.set_title(\"$\\Delta ZP$ g filter\")\n",
    "ax1.set_xlabel(\"$m(ZP)$ mmag\")\n",
    "ax1.text(0.05, 0.95, textstr_g, transform=ax1.transAxes, fontsize=14,verticalalignment='top', bbox=props)\n",
    "ax2.hist(DeltaZP_r,bins=40,range=(-50.,50.),facecolor=\"r\")\n",
    "ax2.set_title(\"$\\Delta ZP$ r filter\")\n",
    "ax2.set_xlabel(\"$m(ZP)$ mmag\")\n",
    "ax2.text(0.05, 0.95, textstr_r, transform=ax2.transAxes, fontsize=14,verticalalignment='top', bbox=props)\n",
    "ax3.hist(DeltaZP_i,bins=40,range=(-50.,50.),facecolor=\"grey\")\n",
    "ax3.set_title(\"$\\Delta ZP$ i filter\")\n",
    "ax3.set_xlabel(\"$m(ZP)$ mmag\")\n",
    "ax3.text(0.05, 0.95, textstr_i, transform=ax3.transAxes, fontsize=14,verticalalignment='top', bbox=props)\n",
    "plt.suptitle(f\" night {nightObs_selected}\",y=1.0,fontsize=14)"
   ]
  },
  {
   "cell_type": "code",
   "execution_count": null,
   "id": "411a6cbc-b8c4-40b9-a6aa-e9a0f6ca97c2",
   "metadata": {},
   "outputs": [],
   "source": []
  }
 ],
 "metadata": {
  "kernelspec": {
   "display_name": "LSST",
   "language": "python",
   "name": "lsst"
  },
  "language_info": {
   "codemirror_mode": {
    "name": "ipython",
    "version": 3
   },
   "file_extension": ".py",
   "mimetype": "text/x-python",
   "name": "python",
   "nbconvert_exporter": "python",
   "pygments_lexer": "ipython3",
   "version": "3.11.7"
  }
 },
 "nbformat": 4,
 "nbformat_minor": 5
}
