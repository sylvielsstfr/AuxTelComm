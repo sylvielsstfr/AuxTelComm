{
 "cells": [
  {
   "cell_type": "markdown",
   "id": "0b8c2138-5194-4d03-8b77-be24e2cc8ee3",
   "metadata": {},
   "source": [
    "# Compate VisitTables-visit PZ with predicted PZ in  OGA for Auxtel Fit"
   ]
  },
  {
   "cell_type": "markdown",
   "id": "740e34fb-3fef-45a8-941b-c229742ab016",
   "metadata": {},
   "source": [
    " work with Weakly_2023_44\n",
    "- use jupyter kernel LSST\n",
    "- author : Sylvie Dagoret-Campagne\n",
    "- affiliation : IJCLab\n",
    "- creation date : 2024/01/02\n",
    "- update : 2023/01/10\n"
   ]
  },
  {
   "cell_type": "code",
   "execution_count": 1,
   "id": "ed2c3410-fe83-432e-ab87-9f4513fa8d8b",
   "metadata": {
    "execution": {
     "iopub.execute_input": "2024-01-10T21:14:33.902642Z",
     "iopub.status.busy": "2024-01-10T21:14:33.902512Z",
     "iopub.status.idle": "2024-01-10T21:14:34.255452Z",
     "shell.execute_reply": "2024-01-10T21:14:34.254906Z",
     "shell.execute_reply.started": "2024-01-10T21:14:33.902629Z"
    }
   },
   "outputs": [
    {
     "name": "stdout",
     "output_type": "stream",
     "text": [
      "analysis_tools        LOCAL:/home/d/dagoret/repos/repos_w_2023_44/analysis_tools \tsetup\n",
      "atmospec              LOCAL:/home/d/dagoret/repos/repos_w_2023_44/atmospec \tsetup\n",
      "eups                  LOCAL:/opt/lsst/software/stack/conda/miniconda3-py38_4.9.2/envs/lsst-scipipe-7.0.1/eups \tsetup\n",
      "spectractor           LOCAL:/home/d/dagoret/repos/repos_w_2023_44/Spectractor \tsetup\n"
     ]
    }
   ],
   "source": [
    "! eups list -s | grep LOCAL"
   ]
  },
  {
   "cell_type": "code",
   "execution_count": 2,
   "id": "70918d81-0cf6-4b0a-8f61-f5e5bec5b0e7",
   "metadata": {
    "execution": {
     "iopub.execute_input": "2024-01-10T21:14:34.256651Z",
     "iopub.status.busy": "2024-01-10T21:14:34.256511Z",
     "iopub.status.idle": "2024-01-10T21:14:34.600643Z",
     "shell.execute_reply": "2024-01-10T21:14:34.600117Z",
     "shell.execute_reply.started": "2024-01-10T21:14:34.256634Z"
    }
   },
   "outputs": [
    {
     "name": "stdout",
     "output_type": "stream",
     "text": [
      "   g4213664e8e+d053631def \tcurrent w_2023_44 setup\n"
     ]
    }
   ],
   "source": [
    "! eups list -s lsst_distrib"
   ]
  },
  {
   "cell_type": "code",
   "execution_count": 3,
   "id": "f8d9cfca-5881-48c1-b2cb-0f794a2e4091",
   "metadata": {
    "execution": {
     "iopub.execute_input": "2024-01-10T21:14:34.601467Z",
     "iopub.status.busy": "2024-01-10T21:14:34.601326Z",
     "iopub.status.idle": "2024-01-10T21:14:35.078880Z",
     "shell.execute_reply": "2024-01-10T21:14:35.078430Z",
     "shell.execute_reply.started": "2024-01-10T21:14:34.601451Z"
    },
    "tags": []
   },
   "outputs": [],
   "source": [
    "import lsst.daf.butler as dafButler\n",
    "#import lsst.summit.utils.butlerUtils as butlerUtils"
   ]
  },
  {
   "cell_type": "code",
   "execution_count": 4,
   "id": "1ceacda9-20b0-4d77-a0d2-572c957ce273",
   "metadata": {
    "execution": {
     "iopub.execute_input": "2024-01-10T21:14:35.079628Z",
     "iopub.status.busy": "2024-01-10T21:14:35.079488Z",
     "iopub.status.idle": "2024-01-10T21:14:35.699023Z",
     "shell.execute_reply": "2024-01-10T21:14:35.698505Z",
     "shell.execute_reply.started": "2024-01-10T21:14:35.079614Z"
    },
    "tags": []
   },
   "outputs": [],
   "source": [
    "import numpy as np\n",
    "import matplotlib.pyplot as plt\n",
    "%matplotlib inline\n",
    "from mpl_toolkits.axes_grid1 import make_axes_locatable\n",
    "from matplotlib.colors import LogNorm,SymLogNorm\n",
    "\n",
    "\n",
    "import matplotlib.ticker                         # here's where the formatter is\n",
    "from matplotlib.ticker import (MultipleLocator, FormatStrFormatter,\n",
    "                               AutoMinorLocator)\n",
    "\n",
    "from astropy.visualization import (MinMaxInterval, SqrtStretch,ZScaleInterval,PercentileInterval,\n",
    "                                   ImageNormalize,imshow_norm)\n",
    "from astropy.visualization.stretch import SinhStretch, LinearStretch,AsinhStretch,LogStretch\n",
    "\n",
    "from astropy.io import fits\n",
    "\n",
    "import pandas as pd\n",
    "\n",
    "import matplotlib.ticker                         # here's where the formatter is\n",
    "import os,sys\n",
    "import re\n",
    "import pandas as pd\n",
    "import pickle\n",
    "\n",
    "plt.rcParams[\"figure.figsize\"] = (4,3)\n",
    "plt.rcParams[\"axes.labelsize\"] = 'xx-large'\n",
    "plt.rcParams['axes.titlesize'] = 'xx-large'\n",
    "plt.rcParams['xtick.labelsize']= 'xx-large'\n",
    "plt.rcParams['ytick.labelsize']= 'xx-large'"
   ]
  },
  {
   "cell_type": "code",
   "execution_count": 5,
   "id": "34c92544-f2fd-4287-b852-e2ccb9a3b510",
   "metadata": {
    "execution": {
     "iopub.execute_input": "2024-01-10T21:14:35.700704Z",
     "iopub.status.busy": "2024-01-10T21:14:35.700342Z",
     "iopub.status.idle": "2024-01-10T21:14:35.703125Z",
     "shell.execute_reply": "2024-01-10T21:14:35.702772Z",
     "shell.execute_reply.started": "2024-01-10T21:14:35.700689Z"
    },
    "tags": []
   },
   "outputs": [],
   "source": [
    "from matplotlib.ticker import (MultipleLocator, FormatStrFormatter,\n",
    "                               AutoMinorLocator)\n",
    "\n",
    "from astropy.visualization import (MinMaxInterval, SqrtStretch,ZScaleInterval,PercentileInterval,\n",
    "                                   ImageNormalize,imshow_norm)\n",
    "from astropy.visualization.stretch import SinhStretch, LinearStretch,AsinhStretch,LogStretch\n",
    "\n",
    "from astropy.time import Time\n"
   ]
  },
  {
   "cell_type": "code",
   "execution_count": 6,
   "id": "77aa5733-0a46-49eb-b26e-d3bb6195cc3d",
   "metadata": {
    "execution": {
     "iopub.execute_input": "2024-01-10T21:14:35.703917Z",
     "iopub.status.busy": "2024-01-10T21:14:35.703607Z",
     "iopub.status.idle": "2024-01-10T21:14:35.894952Z",
     "shell.execute_reply": "2024-01-10T21:14:35.894520Z",
     "shell.execute_reply.started": "2024-01-10T21:14:35.703902Z"
    },
    "tags": []
   },
   "outputs": [],
   "source": [
    "# LSST Display\n",
    "import lsst.afw.display as afwDisplay\n",
    "afwDisplay.setDefaultBackend('matplotlib')"
   ]
  },
  {
   "cell_type": "code",
   "execution_count": 7,
   "id": "b7cea198-6f3c-4a87-8877-fdf8e4d73c26",
   "metadata": {
    "execution": {
     "iopub.execute_input": "2024-01-10T21:14:35.895859Z",
     "iopub.status.busy": "2024-01-10T21:14:35.895535Z",
     "iopub.status.idle": "2024-01-10T21:14:35.897980Z",
     "shell.execute_reply": "2024-01-10T21:14:35.897633Z",
     "shell.execute_reply.started": "2024-01-10T21:14:35.895845Z"
    },
    "tags": []
   },
   "outputs": [],
   "source": [
    "transform = AsinhStretch() + PercentileInterval(99.)"
   ]
  },
  {
   "cell_type": "code",
   "execution_count": 8,
   "id": "c8b31810-780c-43f2-92a1-af05fddd65e1",
   "metadata": {
    "execution": {
     "iopub.execute_input": "2024-01-10T21:14:35.898538Z",
     "iopub.status.busy": "2024-01-10T21:14:35.898424Z",
     "iopub.status.idle": "2024-01-10T21:14:35.901977Z",
     "shell.execute_reply": "2024-01-10T21:14:35.901638Z",
     "shell.execute_reply.started": "2024-01-10T21:14:35.898527Z"
    }
   },
   "outputs": [],
   "source": [
    "pd.options.display.max_columns = None\n",
    "#pd.options.display.max_rows = None"
   ]
  },
  {
   "cell_type": "code",
   "execution_count": 9,
   "id": "ee2013d9-dfd7-4c1f-9e37-46e1c91734d2",
   "metadata": {
    "execution": {
     "iopub.execute_input": "2024-01-10T21:14:35.902573Z",
     "iopub.status.busy": "2024-01-10T21:14:35.902456Z",
     "iopub.status.idle": "2024-01-10T21:14:35.907943Z",
     "shell.execute_reply": "2024-01-10T21:14:35.907589Z",
     "shell.execute_reply.started": "2024-01-10T21:14:35.902562Z"
    }
   },
   "outputs": [
    {
     "name": "stdout",
     "output_type": "stream",
     "text": [
      "dagoret-nb\n",
      "Set environement for Rubin Platform at  USDF\n"
     ]
    }
   ],
   "source": [
    "machine_name = os.uname().nodename\n",
    "print(machine_name)\n",
    "if 'sdf' in machine_name:\n",
    "    #machine_name_usdf = 'sdfrome001'\n",
    "    #machine_name_notebook platform = 'dagoret-nb'\n",
    "    print(\"Set environement for USDF\")\n",
    "    newpythonpath = os.path.join(os.getenv(\"HOME\"),\"repos/repos_w_2023_44/rubinsimphot/src\")\n",
    "    sys.path.append(newpythonpath)\n",
    "    newpythonpath = os.path.join(os.getenv(\"HOME\"),\"rubin-user/RubinLSSTPhotometricCorrTuto/notebooks/lib\")\n",
    "    sys.path.append(newpythonpath)   \n",
    "elif \"dagoret-nb\" in machine_name:\n",
    "    print(\"Set environement for Rubin Platform at  USDF\")\n",
    "    newpythonpath = os.path.join(os.getenv(\"HOME\"),\"repos/repos_w_2023_44/rubinsimphot/src\")\n",
    "    sys.path.append(newpythonpath)\n",
    "    newpythonpath = os.path.join(os.getenv(\"HOME\"),\"rubin-user/RubinLSSTPhotometricCorrTuto/notebooks/lib\")\n",
    "    sys.path.append(newpythonpath)\n",
    "elif 'mac' in machine_name:\n",
    "    print(\"Be sure to run this notebook in conda environnement named conda_py310\")\n",
    "else:\n",
    "    print(\"Your current machine name is {machine_name}. Check your python environment\")"
   ]
  },
  {
   "cell_type": "code",
   "execution_count": 10,
   "id": "977a89a2-b829-4e85-b7fe-0b1d09507445",
   "metadata": {
    "execution": {
     "iopub.execute_input": "2024-01-10T21:14:35.908573Z",
     "iopub.status.busy": "2024-01-10T21:14:35.908386Z",
     "iopub.status.idle": "2024-01-10T21:14:36.002772Z",
     "shell.execute_reply": "2024-01-10T21:14:36.002327Z",
     "shell.execute_reply.started": "2024-01-10T21:14:35.908562Z"
    }
   },
   "outputs": [
    {
     "name": "stdout",
     "output_type": "stream",
     "text": [
      "LSST site name validated as LSST observatory\n"
     ]
    }
   ],
   "source": [
    "from libPhotometricCorrections_auxtel import *"
   ]
  },
  {
   "cell_type": "markdown",
   "id": "ee0d12a4-d243-4ab2-90c5-78419ef1e591",
   "metadata": {},
   "source": [
    "## Introduction and Review on Photometric corrections\n",
    "\n",
    "- from https://github.com/sylvielsstfr/RubinLSSTPhotometricCorrTuto\n",
    "\n",
    "### Reminder on what kind of flux we want to calculate \n",
    "\n",
    "- the Flux in each band $b$ at the TOP of atmosphere"
   ]
  },
  {
   "cell_type": "markdown",
   "id": "c19ae9b5-0e11-42e8-bdca-91cb16ac2eb3",
   "metadata": {},
   "source": [
    "$$\n",
    "F_{b\\;AB}^{std} = \\frac{1}{F_{0}} \\int \\phi_{b}^{std}(\\lambda) F_\\nu({\\lambda})d\\lambda\n",
    "$$\n",
    "\n",
    "where:\n",
    "- $F_{0}$ is a constant such as $F_0^{AB}=3631$ Jy with $1 Jy = 10^{-23} erg.cm^{-2}.s^{-1}.Hz^{-1}$,\n",
    "- $F_\\nu(\\lambda)$ is the SED (Spectral Energy Distribution) of the object in Jansky unit. **In general $F_\\nu(\\lambda)$ is unknown or poorly known after identification/classification of the object,** \n",
    "- $\\phi_{b}^{std}(\\lambda)$ : is the standard normalised response of the telescope (including atmosphere and hardware electronics and optics):\n",
    "\n",
    "$$\n",
    "\\phi^{std}_b(\\lambda) = \\frac{S_b^{std}(\\lambda) \\frac{1}{\\lambda}}{\\int S_b^{std}(\\lambda) \\frac{d \\lambda}{\\lambda}}\n",
    "$$\n",
    "\n",
    "- $S_b^{std}(\\lambda)$ is **the defined** LSST survey total transmission of the instrument + atmosphere, taken to be the most probable or average or median total transmission:\n",
    "$$\n",
    "S_b^{std}(\\lambda) = S^{std}_{atm}(\\lambda) \\times S_{b\\; inst}^{std}(\\lambda)\n",
    "$$\n",
    "It is defined at a particular airmass, a particular atmospheric transmission (with a set a pre-defined atmospheric parameters) and a particular hardware-optics+electronics setting.\n"
   ]
  },
  {
   "cell_type": "markdown",
   "id": "928dc675-47bb-43bc-bade-dae919c4fc5a",
   "metadata": {},
   "source": [
    "Note if $F_{b\\; AB}^{std}$ is a quantity that we have to calculate from the known $\\phi_b^{std}$, the true SED $F_\\nu$ is in principle unknown : we have\n",
    "to measure something !\n",
    "This is the per exposure ADC photometric count in band $b$: \n",
    "$$\n",
    "ADC_b^{std} = \\frac{A \\Delta T}{g_{el}h} \\int S_{b}^{std}(\\lambda) F_\\nu(\\lambda) \\frac{d\\lambda}{\\lambda}\n",
    "$$\n",
    "\n",
    "- $ADC_b^{std}$ is the expected number of counts, after correction from Instrument Signature Removal, including CCD unflattening and aperture photometry on the object.\n",
    "- $A$, $\\Delta T$, $g_{el}$ are the instrument constants, respectively Surface collection, Exposure-time, electronic gain . They are much poorely known at the percent level.\n",
    "- $h$ is the Planck constant."
   ]
  },
  {
   "cell_type": "markdown",
   "id": "4ec81f1e-8a80-4b25-9d6e-bc0ed8268ef8",
   "metadata": {},
   "source": [
    "The point is that we never measure ADC counts with a  $S_{b}^{std}(\\lambda)$ transmission. We measure $ADC_b^{obs}$ (after ISR and unflattening on the image and aperture photometry on the object) for each visit of the object\n",
    "for a also measured transmission $S_{b}^{obs}(\\lambda)$.\n",
    "\n",
    "$$\n",
    "ADC_b^{obs} = \\frac{A \\Delta T}{g_{el}h} \\int S_{b}^{obs}(\\lambda) F_\\nu(\\lambda) \\frac{d\\lambda}{\\lambda}\n",
    "$$"
   ]
  },
  {
   "cell_type": "markdown",
   "id": "f674886c-2181-47f5-b473-53b0baefefa8",
   "metadata": {},
   "source": [
    "### Goal of Photometric Correction\n",
    "**So the goal of Photometric correction is to calculate for each visit  the flux in the observed band $b$ : $F_{b\\;AB}^{std}$ from the measured $ADC_b^{obs}$,\n",
    "for a calibrated $S_b^{obs}(\\lambda)$ or equivalently $\\phi_b^{obs}(\\lambda)$ given a defined $S_b^{std}(\\lambda)$ or equivalently $\\phi_b^{std}(\\lambda)$.** "
   ]
  },
  {
   "cell_type": "markdown",
   "id": "a911c92b-9b7c-4c12-afca-e807e0f8bc87",
   "metadata": {},
   "source": [
    "After rearranging the above equation, one get the AB flux per visit in LSST standard band $b$:\n",
    "\n",
    "$$\n",
    "F_{b\\; AB}^{std} = \\frac{g_{el} h}{F_0 A \\Delta T} \\frac{ADU^{obs}_b}{\\mathbb{I}_{0\\,b}^{obs}} \\frac{\\int \\phi_b^{std}(\\lambda) F_\\nu(\\lambda) d\\lambda}{\\int \\phi_b^{obs}(\\lambda) F_\\nu(\\lambda) d\\lambda}\n",
    "$$"
   ]
  },
  {
   "cell_type": "markdown",
   "id": "d62887a2-be54-411b-9f58-dc2a45add9da",
   "metadata": {},
   "source": [
    "where the integral  $\\mathbb{I}_{0\\,b}^{obs}$ is defined as :\n",
    "$$\n",
    "\\mathbb{I}_{0\\,b}^{obs} = \\int S_{b}^{obs}(\\lambda) \\frac{d\\lambda}{\\lambda} \n",
    "$$"
   ]
  },
  {
   "cell_type": "markdown",
   "id": "6fee0594-5611-4abd-a21a-aec9b6fb749e",
   "metadata": {},
   "source": [
    "- **The interpretation of $\\mathbb{I}_{0\\,b}^{obs}$ correspond to the calculation of an average attenuation in the $b$ band**.\n",
    "This term compensates the variation of the band absorption measured $ADU_b^{obs}$, thus correcting at zeroth order $F_{b\\; AB}^{std}$."
   ]
  },
  {
   "cell_type": "markdown",
   "id": "934b2821-b89b-4cf5-880e-5796f0d86a8c",
   "metadata": {},
   "source": [
    "*Note if we don't know $S_b^{obs}(\\lambda)$, we have to replace at zeros order the unknown integral  $\\mathbb{I}_{0\\,b}^{obs}$ by the known defined integral  $\\mathbb{I}_{0\\,b}^{std} = \\int S_{b}^{std}(\\lambda) \\frac{d\\lambda}{\\lambda}$. However any variation of the absorption in the filter band $b$ would not be compensated.*"
   ]
  },
  {
   "cell_type": "markdown",
   "id": "f87ab4d8-2c51-470d-80db-3c3d36926805",
   "metadata": {},
   "source": [
    "- The term of constants $\\frac{g_{el} h}{F_0A \\Delta T}$ is poorly known because we don't know these constants at the percent level (except $h$ and $F_0$). \n",
    "This term is referred as the instrumental zero point term. It is a calibration constant that must be determined by a dedicated Zero-point calibration procedure\n",
    "for each visit, for each CCD from a series of calibration stars seen on the CCD plate. It is a kind of time dependent grey term to be applied band per band , CCD per CCD."
   ]
  },
  {
   "cell_type": "markdown",
   "id": "47f73701-63ac-4ef4-b5d4-4af40ea37e6b",
   "metadata": {},
   "source": [
    "- The term $ \\frac{\\int \\phi_b^{std}(\\lambda) F_\\nu(\\lambda) d\\lambda}{\\int \\phi_b^{obs}(\\lambda) F_\\nu(\\lambda) d\\lambda}$ refer explicitely to the unknown SED $F_\\nu(\\lambda)$. This is why one refer as the color term in the band $b$. This is term is expected to be colose to unity : \n",
    "\n",
    "- If observations conditions are close to standard condtions, this term is close to 1. \n",
    "- If the SED shape is close to that of a flat source, like an ideal AB source, this term is close to 1. \n",
    "\n",
    "However,\n",
    "- If the SED has a sharp slope in the band, this term may not be negligible compared to the expected photometric accuracy.\n",
    "\n",
    "This term seems to generate a bias in the flux. But on the contrary, it could bring additionnal information, because\n",
    "we could measure it with serveral visits per object:\n",
    "\n",
    "The we could aim to guess $F_\\nu(\\lambda)$ shape from the measured average $< F_{b\\; AB}^{std} >$ for that object.\n",
    "By expanding the SED shape at first order in the $b$ band:\n",
    "$$\n",
    "F_\\nu(\\lambda) \\simeq F_\\nu(\\lambda_b)\\left(1 +  f^{\\prime}(\\lambda_b)(\\lambda- \\lambda_b)\\right)\n",
    "$$\n"
   ]
  },
  {
   "cell_type": "markdown",
   "id": "0723f87f-5de6-4f8a-a2a2-ce72c360c01a",
   "metadata": {},
   "source": [
    "$$\n",
    "F_{b\\; AB}^{std} = \\frac{g_{el} h}{F_0A \\Delta T} \\frac{ADU^{obs}_b}{\\mathbb{I}_{0\\,b}^{obs}} \n",
    "\\left(1 + f^{\\prime}(\\lambda_b)(\\Pi_{1\\,b}^{std} -  \\Pi_{1\\,b}^{obs}) \\right)\n",
    "$$"
   ]
  },
  {
   "cell_type": "markdown",
   "id": "24b622b2-102c-4546-bf53-ad9077daeabb",
   "metadata": {},
   "source": [
    "  Note the term $F_\\nu(\\lambda_b)$ is eliminated, only the relative derivative $f^\\prime(\\lambda_b) = \\frac{1}{F_\\nu(\\lambda_b)}\\frac{dF\\nu}{d\\lambda}(\\lambda_b)$ matters."
   ]
  },
  {
   "cell_type": "markdown",
   "id": "2113adac-15f1-404d-ad47-24186f5add9c",
   "metadata": {},
   "source": [
    "The standard magnitude per visit reads:\n",
    "\n",
    "$$\n",
    "m_{b\\, AB}^{std} = -2.5 \\log_{10}(ADU^{obs}_b) + 2.5 \\log_{10} \\frac{\\Pi_{0\\,b}^{obs}}{\\Pi_{0\\,b}^{std}} + \\frac{2.5}{\\ln(10)}f^{\\prime}(\\lambda_b)(\\Pi_{1\\,b}^{std} -  \\Pi_{1\\,b}^{obs}) + ZPT_b\n",
    "$$\n"
   ]
  },
  {
   "cell_type": "markdown",
   "id": "8c8fa8bf-3a25-4314-aeb4-d20564320552",
   "metadata": {},
   "source": [
    "- $-2.5 \\log_{10}(ADU^{obs}_b)$ is the instrumental magnitude,\n",
    "- $2.5 \\log_{10} \\frac{\\Pi_{0\\,b}^{obs}}{\\Pi_{0\\,b}^{std}}$ is the zeros-th order correction for band relative attenuation (compared to standard attenuation),\n",
    "- $\\frac{2.5}{\\ln(10)}f^{\\prime}(\\lambda_b)(\\Pi_{1\\,b}^{std} -  \\Pi_{1\\,b}^{obs})$ is the first-order color term correction\n",
    "- $ZPT_b =  2.5 \\log_{10} \\left(\\frac{F_0 A \\Delta T}{g_{el} h} \\right)  + 2.5 \\log_{10}(\\Pi_{0\\,b}^{std})$ is the source independent and transmission variation independent zero point that does not need to be calculated to be evaluated CCD per CCD, visit per visit using several photometric calibration sources in LSST FOV.\n",
    "(This is a kind of band Zero point, because we add the term $2.5 \\log_{10}(\\Pi_{0\\,b}^{std}$ to the pure instrumental term.) "
   ]
  },
  {
   "cell_type": "markdown",
   "id": "1ec8807a-007c-428e-abfa-316aa69fdccf",
   "metadata": {},
   "source": [
    "## Summary on Photometric correction goals"
   ]
  },
  {
   "cell_type": "markdown",
   "id": "fc06c50a-7eee-4f30-bc2c-77cf07c8b2f2",
   "metadata": {},
   "source": [
    "We propose to calibrate sources Fluxes in AB unit, by correcting instrumental magnitudes, band by band, visit per visit independently. \n",
    "We are able to separate the contribution of the atmoshere attenuation even if the SED is unknown.\n",
    "For this calibration we requires to monitor the transmission integrals :\n",
    "\n",
    "- $2.5 \\log_{10} \\frac{\\Pi_{0\\,b}^{obs}}{\\Pi_{0\\,b}^{std}}$ to correct magnitude at zeros-th order for any band-average grey attenuation,\n",
    "- $(\\Pi_{1\\,b}^{std} -  \\Pi_{1\\,b}^{obs})$ to correct magnitude at first order for SED average slope in the band,\n",
    "  \n",
    "  \n",
    "- In addition a method to derive the photometrical zero point ZPT must be studied in this DEC-PC group (this subject is not adressed for the moment),\n",
    "\n",
    "- Aperture Photometric accuracy including sky background contribution in $-2.5 \\log_{10}(ADU^{obs}_b)$ is still an open field in DESC-PC group."
   ]
  },
  {
   "cell_type": "markdown",
   "id": "3362d8a1-5b6b-4e3f-93be-3d3c103500bb",
   "metadata": {},
   "source": [
    "## Simulation"
   ]
  },
  {
   "cell_type": "code",
   "execution_count": 11,
   "id": "4e6fe69d-1063-44b0-806e-84aa17094659",
   "metadata": {
    "execution": {
     "iopub.execute_input": "2024-01-10T21:14:36.003517Z",
     "iopub.status.busy": "2024-01-10T21:14:36.003375Z",
     "iopub.status.idle": "2024-01-10T21:14:36.006031Z",
     "shell.execute_reply": "2024-01-10T21:14:36.005638Z",
     "shell.execute_reply.started": "2024-01-10T21:14:36.003504Z"
    }
   },
   "outputs": [],
   "source": [
    "all_am = np.linspace(1,2.5,16)\n",
    "NAM=len(all_am)\n",
    "am0=1.2\n",
    "pwv0= 2.32\n",
    "oz0 = 265.4\n",
    "tau0 = 0.022\n",
    "beta0 = 1.0"
   ]
  },
  {
   "cell_type": "code",
   "execution_count": 12,
   "id": "0283dea1-62cf-4c54-81a5-3bc62105f866",
   "metadata": {
    "execution": {
     "iopub.execute_input": "2024-01-10T21:14:36.006661Z",
     "iopub.status.busy": "2024-01-10T21:14:36.006539Z",
     "iopub.status.idle": "2024-01-10T21:14:36.010325Z",
     "shell.execute_reply": "2024-01-10T21:14:36.009884Z",
     "shell.execute_reply.started": "2024-01-10T21:14:36.006650Z"
    }
   },
   "outputs": [
    {
     "data": {
      "text/plain": [
       "array(['am_10', 'am_11', 'am_12', 'am_13', 'am_14', 'am_15', 'am_16',\n",
       "       'am_17', 'am_18', 'am_19', 'am_20', 'am_21', 'am_22', 'am_23',\n",
       "       'am_24', 'am_25'], dtype='<U5')"
      ]
     },
     "execution_count": 12,
     "metadata": {},
     "output_type": "execute_result"
    }
   ],
   "source": [
    "all_am_tags = []\n",
    "for index,am in enumerate(all_am):\n",
    "    am_tag = \"am_\"+str(int(am*10))\n",
    "    all_am_tags.append(am_tag)\n",
    "all_am_tags=np.array(all_am_tags)\n",
    "all_am_tags"
   ]
  },
  {
   "cell_type": "markdown",
   "id": "75712128-f818-45f7-8fd2-fce475836b3d",
   "metadata": {},
   "source": [
    "### Compute the atmospheric simulations"
   ]
  },
  {
   "cell_type": "code",
   "execution_count": 13,
   "id": "b80bcf55-80f2-405b-b19f-128eb0350fb1",
   "metadata": {
    "execution": {
     "iopub.execute_input": "2024-01-10T21:14:36.010946Z",
     "iopub.status.busy": "2024-01-10T21:14:36.010799Z",
     "iopub.status.idle": "2024-01-10T21:14:36.072309Z",
     "shell.execute_reply": "2024-01-10T21:14:36.071894Z",
     "shell.execute_reply.started": "2024-01-10T21:14:36.010931Z"
    }
   },
   "outputs": [
    {
     "name": "stderr",
     "output_type": "stream",
     "text": [
      "/home/d/dagoret/repos/repos_w_2023_44/rubinsimphot/src/rubinsimphot/phot_utils/bandpass.py:68: UserWarning: Wavelength sampling of 1.0 nm is > 0.2 nm, this may not work well with a Sed object. Consider resampling with resample_bandpass method.\n",
      "  warnings.warn(\n"
     ]
    }
   ],
   "source": [
    "pc = PhotometricCorrections(am0,pwv0,oz0,tau0,beta0)\n",
    "pc.CalculateMultiObs(all_am,pwv0,oz0,tau0,beta0)"
   ]
  },
  {
   "cell_type": "code",
   "execution_count": 14,
   "id": "285dc0fb-b777-4ac8-9fb8-38fb9baec476",
   "metadata": {
    "execution": {
     "iopub.execute_input": "2024-01-10T21:14:36.074917Z",
     "iopub.status.busy": "2024-01-10T21:14:36.074531Z",
     "iopub.status.idle": "2024-01-10T21:14:36.257816Z",
     "shell.execute_reply": "2024-01-10T21:14:36.257365Z",
     "shell.execute_reply.started": "2024-01-10T21:14:36.074898Z"
    }
   },
   "outputs": [
    {
     "data": {
      "image/png": "[encoded data removed]",
      "text/plain": [
       "<Figure size 800x600 with 1 Axes>"
      ]
     },
     "metadata": {},
     "output_type": "display_data"
    }
   ],
   "source": [
    "fig, ax = plt.subplots(1,1,figsize=(8,6))\n",
    "ax.plot(all_am,pc.allcollperfilter['g']['ZPT_nonstd'],'o-g',label=\"filter g\")\n",
    "ax.plot(all_am,pc.allcollperfilter['r']['ZPT_nonstd'],'o-r',label=\"filter r\")\n",
    "ax.plot(all_am,pc.allcollperfilter['i']['ZPT_nonstd'],'o-k',label=\"filter i\")\n",
    "ax.set_title(\"Zero point vs airmass (Auxtel)\")\n",
    "ax.set_xlabel(\"airmass\")\n",
    "ax.set_ylabel(\"ZP (mag)\")\n",
    "ax.legend()\n",
    "ax.grid()"
   ]
  },
  {
   "cell_type": "markdown",
   "id": "17f98db2-2ea8-4546-87a9-f2cd11d67ec7",
   "metadata": {},
   "source": [
    "## Configuration for Photometry"
   ]
  },
  {
   "cell_type": "code",
   "execution_count": 15,
   "id": "f6c1ac18-5e47-4ae9-93ec-32f4337aa520",
   "metadata": {
    "execution": {
     "iopub.execute_input": "2024-01-10T21:14:36.258647Z",
     "iopub.status.busy": "2024-01-10T21:14:36.258514Z",
     "iopub.status.idle": "2024-01-10T21:14:36.260852Z",
     "shell.execute_reply": "2024-01-10T21:14:36.260483Z",
     "shell.execute_reply.started": "2024-01-10T21:14:36.258634Z"
    }
   },
   "outputs": [],
   "source": [
    "filesource_out=\"ccdVisitTable_202312.csv\"\n",
    "#filetractpatch_out = 'Latiss_tractspatchs_202312.pickle'"
   ]
  },
  {
   "cell_type": "code",
   "execution_count": 16,
   "id": "1c81d99a-5e91-4ba1-ba4a-c66b37905b98",
   "metadata": {
    "execution": {
     "iopub.execute_input": "2024-01-10T21:14:36.261511Z",
     "iopub.status.busy": "2024-01-10T21:14:36.261388Z",
     "iopub.status.idle": "2024-01-10T21:14:38.900965Z",
     "shell.execute_reply": "2024-01-10T21:14:38.900504Z",
     "shell.execute_reply.started": "2024-01-10T21:14:36.261500Z"
    },
    "tags": []
   },
   "outputs": [],
   "source": [
    "#repo =  \"/sdf/group/rubin/repo/main\"\n",
    "repo = \"/sdf/group/rubin/repo/oga/\"\n",
    "butler = dafButler.Butler(repo)\n",
    "registry = butler.registry"
   ]
  },
  {
   "cell_type": "code",
   "execution_count": 17,
   "id": "e9f828a7-8319-499e-a6b9-01dedc59e06c",
   "metadata": {
    "execution": {
     "iopub.execute_input": "2024-01-10T21:14:38.901706Z",
     "iopub.status.busy": "2024-01-10T21:14:38.901574Z",
     "iopub.status.idle": "2024-01-10T21:14:38.905054Z",
     "shell.execute_reply": "2024-01-10T21:14:38.904684Z",
     "shell.execute_reply.started": "2024-01-10T21:14:38.901693Z"
    }
   },
   "outputs": [],
   "source": [
    "def get_corners_radec(wcs, bbox):\n",
    "    \"\"\"\n",
    "    Return the corners in RA,Dec in degrees given the WCS and bounding box for an image.\n",
    "\n",
    "    Parameters\n",
    "    ----------\n",
    "    wcs: image WCS returned by the Butler\n",
    "    bbox: bounding box returned by the Butler\n",
    "\n",
    "    Returns\n",
    "    -------\n",
    "    corners_ra, corners_dec in decimal degrees\n",
    "    \"\"\"\n",
    "\n",
    "    corners_x = [bbox.beginX, bbox.beginX, bbox.endX, bbox.endX]\n",
    "    corners_y = [bbox.beginY, bbox.endY, bbox.endY, bbox.beginY]\n",
    "    corners_ra = []\n",
    "    corners_dec = []\n",
    "    for i in range(4):\n",
    "        radec = wcs.pixelToSky(corners_x[i], corners_y[i])\n",
    "        corners_ra.append(radec.getRa().asDegrees())\n",
    "        corners_dec.append(radec.getDec().asDegrees())\n",
    "    \n",
    "    return corners_ra, corners_dec"
   ]
  },
  {
   "cell_type": "code",
   "execution_count": 18,
   "id": "150e04f6-e800-4086-9671-686e12349fc9",
   "metadata": {
    "execution": {
     "iopub.execute_input": "2024-01-10T21:14:38.905670Z",
     "iopub.status.busy": "2024-01-10T21:14:38.905547Z",
     "iopub.status.idle": "2024-01-10T21:14:38.910207Z",
     "shell.execute_reply": "2024-01-10T21:14:38.909846Z",
     "shell.execute_reply.started": "2024-01-10T21:14:38.905659Z"
    }
   },
   "outputs": [],
   "source": [
    "def get_bbox_radec(wcs, bbox):\n",
    "    \"\"\"\n",
    "    Return the corners in RA,Dec in degrees given the WCS and bounding box for an image.\n",
    "\n",
    "    Parameters\n",
    "    ----------\n",
    "    wcs: image WCS returned by the Butler\n",
    "    bbox: bounding box returned by the Butler\n",
    "\n",
    "    Returns\n",
    "    -------\n",
    "    ramin,ramax,decmin,decmax in decimal degrees\n",
    "    \"\"\"\n",
    "\n",
    "    xmin = bbox.beginX\n",
    "    xmax = bbox.endX\n",
    "    ymin = bbox.beginY\n",
    "    ymax = bbox.endY\n",
    "    \n",
    "    radec_ll = wcs.pixelToSky(xmin, ymin)\n",
    "    radec_ur = wcs.pixelToSky(xmax, ymax)\n",
    "        \n",
    "    return radec_ur.getRa().asDegrees(),radec_ll.getRa().asDegrees(), radec_ll.getDec().asDegrees(),radec_ur.getDec().asDegrees() "
   ]
  },
  {
   "cell_type": "code",
   "execution_count": 19,
   "id": "ffb574d5-b268-4c55-ba63-8883723cf729",
   "metadata": {
    "execution": {
     "iopub.execute_input": "2024-01-10T21:14:38.910817Z",
     "iopub.status.busy": "2024-01-10T21:14:38.910695Z",
     "iopub.status.idle": "2024-01-10T21:14:38.915650Z",
     "shell.execute_reply": "2024-01-10T21:14:38.915278Z",
     "shell.execute_reply.started": "2024-01-10T21:14:38.910806Z"
    }
   },
   "outputs": [],
   "source": [
    "def isradec_inbbox_radec(ra,dec,wcs, bbox):\n",
    "    \"\"\"\n",
    "    Return the corners in RA,Dec in degrees given the WCS and bounding box for an image.\n",
    "\n",
    "    Parameters\n",
    "    ----------\n",
    "    ra: ra in degree\n",
    "    dec: dec in degree\n",
    "    wcs: image WCS returned by the Butler\n",
    "    bbox: bounding box returned by the Butler\n",
    "\n",
    "    Returns\n",
    "    -------\n",
    "    Bool\n",
    "    \n",
    "    \"\"\"\n",
    "\n",
    "    RAMIN,RAMAX,DECMIN,DECMAX = get_bbox_radec(wcs, bbox)\n",
    "\n",
    "    assert RAMIN < RAMAX\n",
    "    assert DECMIN < DECMAX\n",
    "\n",
    "    flag = (ra >= RAMIN) and (ra<=RAMAX) and (dec>= DECMIN) and (dec <= DECMAX) \n",
    "    return flag"
   ]
  },
  {
   "cell_type": "markdown",
   "id": "20dbb8da-3a08-4b4f-9437-4bf7f28c1782",
   "metadata": {},
   "source": [
    "## Give the collection"
   ]
  },
  {
   "cell_type": "code",
   "execution_count": 20,
   "id": "9629ea29-8ab4-4062-aed1-e16d62dc90c4",
   "metadata": {
    "execution": {
     "iopub.execute_input": "2024-01-10T21:14:38.916287Z",
     "iopub.status.busy": "2024-01-10T21:14:38.916167Z",
     "iopub.status.idle": "2024-01-10T21:14:38.919528Z",
     "shell.execute_reply": "2024-01-10T21:14:38.919149Z",
     "shell.execute_reply.started": "2024-01-10T21:14:38.916276Z"
    },
    "tags": []
   },
   "outputs": [],
   "source": [
    "my_collection = \"LATISS/runs/AUXTEL_DRP_IMAGING_2023-11A-10A-09AB-08ABC-07AB-05AB/w_2023_46/PREOPS-4553\""
   ]
  },
  {
   "cell_type": "code",
   "execution_count": 21,
   "id": "e0741000-7c9c-4882-a491-c429fda98cfd",
   "metadata": {
    "execution": {
     "iopub.execute_input": "2024-01-10T21:14:38.920129Z",
     "iopub.status.busy": "2024-01-10T21:14:38.920012Z",
     "iopub.status.idle": "2024-01-10T21:14:39.002685Z",
     "shell.execute_reply": "2024-01-10T21:14:39.002314Z",
     "shell.execute_reply.started": "2024-01-10T21:14:38.920118Z"
    }
   },
   "outputs": [],
   "source": [
    "skymap_auxtel ='latiss_v1'\n",
    "skymap = butler.get('skyMap', skymap=skymap_auxtel, collections=my_collection)"
   ]
  },
  {
   "cell_type": "markdown",
   "id": "a7587b10-c178-4537-9c34-60867b69fa01",
   "metadata": {},
   "source": [
    "## Config"
   ]
  },
  {
   "cell_type": "code",
   "execution_count": 22,
   "id": "2e1cdf2d-be43-4747-bd21-c178e3b9983b",
   "metadata": {
    "execution": {
     "iopub.execute_input": "2024-01-10T21:14:39.003311Z",
     "iopub.status.busy": "2024-01-10T21:14:39.003189Z",
     "iopub.status.idle": "2024-01-10T21:14:39.005509Z",
     "shell.execute_reply": "2024-01-10T21:14:39.005158Z",
     "shell.execute_reply.started": "2024-01-10T21:14:39.003300Z"
    }
   },
   "outputs": [],
   "source": [
    "Auxtel2023_tracts = [ 5616,5634,5615,10644,383,8188,3863,455,452,5839,10643,382]"
   ]
  },
  {
   "cell_type": "code",
   "execution_count": 23,
   "id": "34753b23-850b-407a-9b62-d6873b7afbb0",
   "metadata": {
    "execution": {
     "iopub.execute_input": "2024-01-10T21:14:39.006111Z",
     "iopub.status.busy": "2024-01-10T21:14:39.005994Z",
     "iopub.status.idle": "2024-01-10T21:14:39.009754Z",
     "shell.execute_reply": "2024-01-10T21:14:39.009376Z",
     "shell.execute_reply.started": "2024-01-10T21:14:39.006100Z"
    }
   },
   "outputs": [],
   "source": [
    "with open('Latiss_tractspatchs.pickle', 'rb') as handle:\n",
    "    tracts_patchs_dict = pickle.load(handle)"
   ]
  },
  {
   "cell_type": "code",
   "execution_count": 24,
   "id": "e1115676-ee75-409e-b35a-1a51f53f52cc",
   "metadata": {
    "execution": {
     "iopub.execute_input": "2024-01-10T21:14:39.010624Z",
     "iopub.status.busy": "2024-01-10T21:14:39.010505Z",
     "iopub.status.idle": "2024-01-10T21:14:39.015689Z",
     "shell.execute_reply": "2024-01-10T21:14:39.015334Z",
     "shell.execute_reply.started": "2024-01-10T21:14:39.010613Z"
    }
   },
   "outputs": [
    {
     "data": {
      "text/plain": [
       "{5616: array([335, 355, 358, 336, 337, 338, 316, 357, 317, 356]),\n",
       " 5634: array([ 91,  52,  93,  72,  92, 109, 110,  54,  71,  53,  55, 112, 111,\n",
       "         74,  73,  90]),\n",
       " 5615: array([332, 333, 312, 313, 295, 331, 276, 275, 294, 293, 314, 274]),\n",
       " 10644: array([166, 184, 183, 201, 161, 180, 207, 188, 202, 182, 189, 208, 164,\n",
       "        181, 185, 165, 203, 162]),\n",
       " 383: array([359, 360]),\n",
       " 8188: array([48, 65, 47, 28, 46, 66, 27]),\n",
       " 3863: array([241, 243, 242, 260, 261, 222, 262, 224, 223]),\n",
       " 455: array([52, 33, 51, 32, 14, 53, 34, 15, 13]),\n",
       " 452: array([42, 44, 25, 24, 63, 23, 43, 62]),\n",
       " 5839: array([9, 7, 8]),\n",
       " 10643: array([171, 190]),\n",
       " 382: array([343, 342])}"
      ]
     },
     "execution_count": 24,
     "metadata": {},
     "output_type": "execute_result"
    }
   ],
   "source": [
    "tracts_patchs_dict"
   ]
  },
  {
   "cell_type": "code",
   "execution_count": 25,
   "id": "a0e46a92-2205-40ec-80ec-a8aef43dc267",
   "metadata": {
    "execution": {
     "iopub.execute_input": "2024-01-10T21:14:39.016276Z",
     "iopub.status.busy": "2024-01-10T21:14:39.016159Z",
     "iopub.status.idle": "2024-01-10T21:14:39.018420Z",
     "shell.execute_reply": "2024-01-10T21:14:39.018087Z",
     "shell.execute_reply.started": "2024-01-10T21:14:39.016265Z"
    }
   },
   "outputs": [],
   "source": [
    "#tract_selected = 5615\n",
    "#patches_selected = [294,313]\n",
    "#suptitle = f\"CCD visit in tract {tract_selected} and patches {patches_selected[0]} and {patches_selected[1]}\""
   ]
  },
  {
   "cell_type": "markdown",
   "id": "bd6be2f5-4ad5-4a7a-9b70-03ee25079e79",
   "metadata": {},
   "source": [
    "### Find tract"
   ]
  },
  {
   "cell_type": "code",
   "execution_count": 26,
   "id": "239848e5-5519-4ee6-a2b4-52bbb5ce72f9",
   "metadata": {
    "execution": {
     "iopub.execute_input": "2024-01-10T21:14:39.019019Z",
     "iopub.status.busy": "2024-01-10T21:14:39.018900Z",
     "iopub.status.idle": "2024-01-10T21:14:53.919344Z",
     "shell.execute_reply": "2024-01-10T21:14:53.918896Z",
     "shell.execute_reply.started": "2024-01-10T21:14:39.019009Z"
    }
   },
   "outputs": [],
   "source": [
    "tractsInfo_dict = {}\n",
    "tractsInfoWCS_dict = {}\n",
    "tractsId_list = list(tracts_patchs_dict.keys())\n",
    "\n",
    "# loop to select the good tracts\n",
    "for tractInfo in skymap:\n",
    "    tractID = tractInfo.getId()\n",
    "    # is this tract in Auxtel tract list\n",
    "    if tractID in tractsId_list:\n",
    "        # keep tractInfo\n",
    "        tractsInfo_dict[tractID] = tractInfo \n",
    "        # keep WCS\n",
    "        tractsInfoWCS_dict[tractID] = tractInfo.getWcs()\n"
   ]
  },
  {
   "cell_type": "code",
   "execution_count": 27,
   "id": "9f5a034c-fb7f-41a1-83b8-a1c38ff4e2cd",
   "metadata": {
    "execution": {
     "iopub.execute_input": "2024-01-10T21:14:53.920020Z",
     "iopub.status.busy": "2024-01-10T21:14:53.919892Z",
     "iopub.status.idle": "2024-01-10T21:14:53.922073Z",
     "shell.execute_reply": "2024-01-10T21:14:53.921732Z",
     "shell.execute_reply.started": "2024-01-10T21:14:53.920008Z"
    }
   },
   "outputs": [],
   "source": [
    "#print(tractsInfo_dict)"
   ]
  },
  {
   "cell_type": "code",
   "execution_count": 28,
   "id": "8f863bce-e11a-492e-a0dd-b7a38a429c58",
   "metadata": {
    "execution": {
     "iopub.execute_input": "2024-01-10T21:14:53.922611Z",
     "iopub.status.busy": "2024-01-10T21:14:53.922497Z",
     "iopub.status.idle": "2024-01-10T21:14:53.926207Z",
     "shell.execute_reply": "2024-01-10T21:14:53.925879Z",
     "shell.execute_reply.started": "2024-01-10T21:14:53.922600Z"
    }
   },
   "outputs": [],
   "source": [
    "#print(tractsInfoWCS_dict)"
   ]
  },
  {
   "cell_type": "markdown",
   "id": "a72c2c07-ff40-49d9-a36d-5277cbbc5cec",
   "metadata": {},
   "source": [
    "# Sources"
   ]
  },
  {
   "cell_type": "code",
   "execution_count": 29,
   "id": "c2bca87f-8b3a-44ee-afa5-5b8e0b8f9b9d",
   "metadata": {
    "execution": {
     "iopub.execute_input": "2024-01-10T21:14:53.926849Z",
     "iopub.status.busy": "2024-01-10T21:14:53.926735Z",
     "iopub.status.idle": "2024-01-10T21:14:53.949629Z",
     "shell.execute_reply": "2024-01-10T21:14:53.949264Z",
     "shell.execute_reply.started": "2024-01-10T21:14:53.926838Z"
    },
    "tags": []
   },
   "outputs": [],
   "source": [
    "datasetRefs = butler.registry.queryDatasets(datasetType='ccdVisitTable', collections=my_collection, where= \"instrument='LATISS'\")"
   ]
  },
  {
   "cell_type": "code",
   "execution_count": 30,
   "id": "a01bb1b1-a2fe-4060-85ff-fb9e9c5dbb74",
   "metadata": {
    "execution": {
     "iopub.execute_input": "2024-01-10T21:14:53.950221Z",
     "iopub.status.busy": "2024-01-10T21:14:53.950100Z",
     "iopub.status.idle": "2024-01-10T21:14:53.955930Z",
     "shell.execute_reply": "2024-01-10T21:14:53.955570Z",
     "shell.execute_reply.started": "2024-01-10T21:14:53.950210Z"
    },
    "tags": []
   },
   "outputs": [
    {
     "name": "stdout",
     "output_type": "stream",
     "text": [
      "========================datasetType = ccdVisitTable ============================================\n",
      "fullId..................: {instrument: 'LATISS'}\n"
     ]
    }
   ],
   "source": [
    "for i, ref in enumerate(datasetRefs):\n",
    "    print(\"========================datasetType = ccdVisitTable ============================================\")\n",
    "    print(\"fullId..................:\",ref.dataId.full)  "
   ]
  },
  {
   "cell_type": "code",
   "execution_count": 31,
   "id": "8ea5496c-40b0-46cb-b298-b018d762014a",
   "metadata": {
    "execution": {
     "iopub.execute_input": "2024-01-10T21:14:53.956489Z",
     "iopub.status.busy": "2024-01-10T21:14:53.956371Z",
     "iopub.status.idle": "2024-01-10T21:14:54.121753Z",
     "shell.execute_reply": "2024-01-10T21:14:54.121306Z",
     "shell.execute_reply.started": "2024-01-10T21:14:53.956478Z"
    }
   },
   "outputs": [
    {
     "data": {
      "text/html": [
       "<div>\n",
       "<style scoped>\n",
       "    .dataframe tbody tr th:only-of-type {\n",
       "        vertical-align: middle;\n",
       "    }\n",
       "\n",
       "    .dataframe tbody tr th {\n",
       "        vertical-align: top;\n",
       "    }\n",
       "\n",
       "    .dataframe thead th {\n",
       "        text-align: right;\n",
       "    }\n",
       "</style>\n",
       "<table border=\"1\" class=\"dataframe\">\n",
       "  <thead>\n",
       "    <tr style=\"text-align: right;\">\n",
       "      <th></th>\n",
       "      <th>visit</th>\n",
       "      <th>physical_filter</th>\n",
       "      <th>band</th>\n",
       "      <th>ra</th>\n",
       "      <th>dec</th>\n",
       "      <th>decl</th>\n",
       "      <th>skyRotation</th>\n",
       "      <th>azimuth</th>\n",
       "      <th>altitude</th>\n",
       "      <th>zenithDistance</th>\n",
       "      <th>airmass</th>\n",
       "      <th>expTime</th>\n",
       "      <th>expMidpt</th>\n",
       "      <th>expMidptMJD</th>\n",
       "      <th>obsStart</th>\n",
       "      <th>obsStartMJD</th>\n",
       "    </tr>\n",
       "    <tr>\n",
       "      <th>visitId</th>\n",
       "      <th></th>\n",
       "      <th></th>\n",
       "      <th></th>\n",
       "      <th></th>\n",
       "      <th></th>\n",
       "      <th></th>\n",
       "      <th></th>\n",
       "      <th></th>\n",
       "      <th></th>\n",
       "      <th></th>\n",
       "      <th></th>\n",
       "      <th></th>\n",
       "      <th></th>\n",
       "      <th></th>\n",
       "      <th></th>\n",
       "      <th></th>\n",
       "    </tr>\n",
       "  </thead>\n",
       "  <tbody>\n",
       "    <tr>\n",
       "      <th>2023051100262</th>\n",
       "      <td>2023051100262</td>\n",
       "      <td>SDSSr_65mm~empty</td>\n",
       "      <td>r</td>\n",
       "      <td>239.941279</td>\n",
       "      <td>-24.050861</td>\n",
       "      <td>-24.050861</td>\n",
       "      <td>322.911701</td>\n",
       "      <td>100.652699</td>\n",
       "      <td>33.079204</td>\n",
       "      <td>56.920796</td>\n",
       "      <td>1.826588</td>\n",
       "      <td>30.0</td>\n",
       "      <td>2023-05-12 01:08:56.302993</td>\n",
       "      <td>60076.047874</td>\n",
       "      <td>2023-05-12 01:08:41.302993</td>\n",
       "      <td>60076.047700</td>\n",
       "    </tr>\n",
       "    <tr>\n",
       "      <th>2023051100263</th>\n",
       "      <td>2023051100263</td>\n",
       "      <td>SDSSg_65mm~empty</td>\n",
       "      <td>g</td>\n",
       "      <td>239.943099</td>\n",
       "      <td>-24.042851</td>\n",
       "      <td>-24.042851</td>\n",
       "      <td>170.005077</td>\n",
       "      <td>100.427273</td>\n",
       "      <td>33.535722</td>\n",
       "      <td>56.464278</td>\n",
       "      <td>1.804276</td>\n",
       "      <td>30.0</td>\n",
       "      <td>2023-05-12 01:11:06.209005</td>\n",
       "      <td>60076.049377</td>\n",
       "      <td>2023-05-12 01:10:51.209005</td>\n",
       "      <td>60076.049204</td>\n",
       "    </tr>\n",
       "    <tr>\n",
       "      <th>2023051100264</th>\n",
       "      <td>2023051100264</td>\n",
       "      <td>SDSSi_65mm~empty</td>\n",
       "      <td>i</td>\n",
       "      <td>239.940919</td>\n",
       "      <td>-24.040927</td>\n",
       "      <td>-24.040927</td>\n",
       "      <td>170.004955</td>\n",
       "      <td>100.024337</td>\n",
       "      <td>34.385246</td>\n",
       "      <td>55.614754</td>\n",
       "      <td>1.765315</td>\n",
       "      <td>30.0</td>\n",
       "      <td>2023-05-12 01:15:04.912000</td>\n",
       "      <td>60076.052140</td>\n",
       "      <td>2023-05-12 01:14:49.912000</td>\n",
       "      <td>60076.051967</td>\n",
       "    </tr>\n",
       "    <tr>\n",
       "      <th>2023051100268</th>\n",
       "      <td>2023051100268</td>\n",
       "      <td>SDSSr_65mm~empty</td>\n",
       "      <td>r</td>\n",
       "      <td>239.960079</td>\n",
       "      <td>-24.042010</td>\n",
       "      <td>-24.042010</td>\n",
       "      <td>323.867206</td>\n",
       "      <td>99.573769</td>\n",
       "      <td>35.343223</td>\n",
       "      <td>54.656777</td>\n",
       "      <td>1.724092</td>\n",
       "      <td>30.0</td>\n",
       "      <td>2023-05-12 01:19:39.311494</td>\n",
       "      <td>60076.055316</td>\n",
       "      <td>2023-05-12 01:19:24.311494</td>\n",
       "      <td>60076.055142</td>\n",
       "    </tr>\n",
       "    <tr>\n",
       "      <th>2023051100270</th>\n",
       "      <td>2023051100270</td>\n",
       "      <td>SDSSi_65mm~empty</td>\n",
       "      <td>i</td>\n",
       "      <td>239.963850</td>\n",
       "      <td>-24.048746</td>\n",
       "      <td>-24.048746</td>\n",
       "      <td>170.004124</td>\n",
       "      <td>99.285576</td>\n",
       "      <td>35.972240</td>\n",
       "      <td>54.027760</td>\n",
       "      <td>1.697680</td>\n",
       "      <td>30.0</td>\n",
       "      <td>2023-05-12 01:22:36.150002</td>\n",
       "      <td>60076.057363</td>\n",
       "      <td>2023-05-12 01:22:21.150002</td>\n",
       "      <td>60076.057189</td>\n",
       "    </tr>\n",
       "  </tbody>\n",
       "</table>\n",
       "</div>"
      ],
      "text/plain": [
       "                       visit   physical_filter band          ra        dec  \\\n",
       "visitId                                                                      \n",
       "2023051100262  2023051100262  SDSSr_65mm~empty    r  239.941279 -24.050861   \n",
       "2023051100263  2023051100263  SDSSg_65mm~empty    g  239.943099 -24.042851   \n",
       "2023051100264  2023051100264  SDSSi_65mm~empty    i  239.940919 -24.040927   \n",
       "2023051100268  2023051100268  SDSSr_65mm~empty    r  239.960079 -24.042010   \n",
       "2023051100270  2023051100270  SDSSi_65mm~empty    i  239.963850 -24.048746   \n",
       "\n",
       "                    decl  skyRotation     azimuth   altitude  zenithDistance  \\\n",
       "visitId                                                                        \n",
       "2023051100262 -24.050861   322.911701  100.652699  33.079204       56.920796   \n",
       "2023051100263 -24.042851   170.005077  100.427273  33.535722       56.464278   \n",
       "2023051100264 -24.040927   170.004955  100.024337  34.385246       55.614754   \n",
       "2023051100268 -24.042010   323.867206   99.573769  35.343223       54.656777   \n",
       "2023051100270 -24.048746   170.004124   99.285576  35.972240       54.027760   \n",
       "\n",
       "                airmass  expTime                   expMidpt   expMidptMJD  \\\n",
       "visitId                                                                     \n",
       "2023051100262  1.826588     30.0 2023-05-12 01:08:56.302993  60076.047874   \n",
       "2023051100263  1.804276     30.0 2023-05-12 01:11:06.209005  60076.049377   \n",
       "2023051100264  1.765315     30.0 2023-05-12 01:15:04.912000  60076.052140   \n",
       "2023051100268  1.724092     30.0 2023-05-12 01:19:39.311494  60076.055316   \n",
       "2023051100270  1.697680     30.0 2023-05-12 01:22:36.150002  60076.057363   \n",
       "\n",
       "                                obsStart   obsStartMJD  \n",
       "visitId                                                 \n",
       "2023051100262 2023-05-12 01:08:41.302993  60076.047700  \n",
       "2023051100263 2023-05-12 01:10:51.209005  60076.049204  \n",
       "2023051100264 2023-05-12 01:14:49.912000  60076.051967  \n",
       "2023051100268 2023-05-12 01:19:24.311494  60076.055142  \n",
       "2023051100270 2023-05-12 01:22:21.150002  60076.057189  "
      ]
     },
     "execution_count": 31,
     "metadata": {},
     "output_type": "execute_result"
    }
   ],
   "source": [
    "visit_table = butler.get('visitTable', dataId={'instrument': 'LATISS', 'detector': 0}, collections = my_collection )    \n",
    "visit_table.head()"
   ]
  },
  {
   "cell_type": "code",
   "execution_count": 32,
   "id": "3fe7bcf7-0403-4b9e-a79e-8b66ff94d1c3",
   "metadata": {
    "execution": {
     "iopub.execute_input": "2024-01-10T21:14:54.122424Z",
     "iopub.status.busy": "2024-01-10T21:14:54.122291Z",
     "iopub.status.idle": "2024-01-10T21:14:54.165141Z",
     "shell.execute_reply": "2024-01-10T21:14:54.164764Z",
     "shell.execute_reply.started": "2024-01-10T21:14:54.122411Z"
    }
   },
   "outputs": [
    {
     "data": {
      "text/html": [
       "<div>\n",
       "<style scoped>\n",
       "    .dataframe tbody tr th:only-of-type {\n",
       "        vertical-align: middle;\n",
       "    }\n",
       "\n",
       "    .dataframe tbody tr th {\n",
       "        vertical-align: top;\n",
       "    }\n",
       "\n",
       "    .dataframe thead th {\n",
       "        text-align: right;\n",
       "    }\n",
       "</style>\n",
       "<table border=\"1\" class=\"dataframe\">\n",
       "  <thead>\n",
       "    <tr style=\"text-align: right;\">\n",
       "      <th></th>\n",
       "      <th>visitId</th>\n",
       "      <th>physical_filter</th>\n",
       "      <th>band</th>\n",
       "      <th>ra</th>\n",
       "      <th>dec</th>\n",
       "      <th>zenithDistance</th>\n",
       "      <th>zeroPoint</th>\n",
       "      <th>psfSigma</th>\n",
       "      <th>skyBg</th>\n",
       "      <th>skyNoise</th>\n",
       "      <th>astromOffsetMean</th>\n",
       "      <th>astromOffsetStd</th>\n",
       "      <th>nPsfStar</th>\n",
       "      <th>psfStarDeltaE1Median</th>\n",
       "      <th>psfStarDeltaE2Median</th>\n",
       "      <th>psfStarDeltaE1Scatter</th>\n",
       "      <th>psfStarDeltaE2Scatter</th>\n",
       "      <th>psfStarDeltaSizeMedian</th>\n",
       "      <th>psfStarDeltaSizeScatter</th>\n",
       "      <th>psfStarScaledDeltaSizeScatter</th>\n",
       "      <th>psfTraceRadiusDelta</th>\n",
       "      <th>maxDistToNearestPsf</th>\n",
       "      <th>decl</th>\n",
       "      <th>detector</th>\n",
       "      <th>seeing</th>\n",
       "      <th>skyRotation</th>\n",
       "      <th>expMidpt</th>\n",
       "      <th>expMidptMJD</th>\n",
       "      <th>expTime</th>\n",
       "      <th>obsStart</th>\n",
       "      <th>obsStartMJD</th>\n",
       "      <th>darkTime</th>\n",
       "      <th>xSize</th>\n",
       "      <th>ySize</th>\n",
       "      <th>llcra</th>\n",
       "      <th>llcdec</th>\n",
       "      <th>ulcra</th>\n",
       "      <th>ulcdec</th>\n",
       "      <th>urcra</th>\n",
       "      <th>urcdec</th>\n",
       "      <th>lrcra</th>\n",
       "      <th>lrcdec</th>\n",
       "    </tr>\n",
       "    <tr>\n",
       "      <th>ccdVisitId</th>\n",
       "      <th></th>\n",
       "      <th></th>\n",
       "      <th></th>\n",
       "      <th></th>\n",
       "      <th></th>\n",
       "      <th></th>\n",
       "      <th></th>\n",
       "      <th></th>\n",
       "      <th></th>\n",
       "      <th></th>\n",
       "      <th></th>\n",
       "      <th></th>\n",
       "      <th></th>\n",
       "      <th></th>\n",
       "      <th></th>\n",
       "      <th></th>\n",
       "      <th></th>\n",
       "      <th></th>\n",
       "      <th></th>\n",
       "      <th></th>\n",
       "      <th></th>\n",
       "      <th></th>\n",
       "      <th></th>\n",
       "      <th></th>\n",
       "      <th></th>\n",
       "      <th></th>\n",
       "      <th></th>\n",
       "      <th></th>\n",
       "      <th></th>\n",
       "      <th></th>\n",
       "      <th></th>\n",
       "      <th></th>\n",
       "      <th></th>\n",
       "      <th></th>\n",
       "      <th></th>\n",
       "      <th></th>\n",
       "      <th></th>\n",
       "      <th></th>\n",
       "      <th></th>\n",
       "      <th></th>\n",
       "      <th></th>\n",
       "      <th></th>\n",
       "    </tr>\n",
       "  </thead>\n",
       "  <tbody>\n",
       "    <tr>\n",
       "      <th>40919696896</th>\n",
       "      <td>2023051100262</td>\n",
       "      <td>SDSSr_65mm~empty</td>\n",
       "      <td>r</td>\n",
       "      <td>239.946727</td>\n",
       "      <td>-24.053746</td>\n",
       "      <td>56.749516</td>\n",
       "      <td>27.705477</td>\n",
       "      <td>7.776608</td>\n",
       "      <td>11.197219</td>\n",
       "      <td>7.856582</td>\n",
       "      <td>0.032861</td>\n",
       "      <td>0.019685</td>\n",
       "      <td>39</td>\n",
       "      <td>-0.004245</td>\n",
       "      <td>-0.001485</td>\n",
       "      <td>0.031742</td>\n",
       "      <td>0.014841</td>\n",
       "      <td>0.089763</td>\n",
       "      <td>0.063628</td>\n",
       "      <td>0.008093</td>\n",
       "      <td>0.659493</td>\n",
       "      <td>1402.701904</td>\n",
       "      <td>-24.053746</td>\n",
       "      <td>0</td>\n",
       "      <td>1.752650</td>\n",
       "      <td>322.911701</td>\n",
       "      <td>2023-05-12 01:08:56.302993</td>\n",
       "      <td>60076.047874</td>\n",
       "      <td>30.0</td>\n",
       "      <td>2023-05-12 01:08:41.302993</td>\n",
       "      <td>60076.047700</td>\n",
       "      <td>30.2434</td>\n",
       "      <td>4071</td>\n",
       "      <td>3999</td>\n",
       "      <td>239.935566</td>\n",
       "      <td>-24.128925</td>\n",
       "      <td>240.029264</td>\n",
       "      <td>-24.062574</td>\n",
       "      <td>239.957874</td>\n",
       "      <td>-23.978566</td>\n",
       "      <td>239.864200</td>\n",
       "      <td>-24.044873</td>\n",
       "    </tr>\n",
       "    <tr>\n",
       "      <th>40919697152</th>\n",
       "      <td>2023051100263</td>\n",
       "      <td>SDSSg_65mm~empty</td>\n",
       "      <td>g</td>\n",
       "      <td>239.941335</td>\n",
       "      <td>-24.038380</td>\n",
       "      <td>56.289413</td>\n",
       "      <td>27.909496</td>\n",
       "      <td>7.784901</td>\n",
       "      <td>3.989901</td>\n",
       "      <td>7.472743</td>\n",
       "      <td>0.032879</td>\n",
       "      <td>0.018671</td>\n",
       "      <td>20</td>\n",
       "      <td>0.012385</td>\n",
       "      <td>0.007139</td>\n",
       "      <td>0.029436</td>\n",
       "      <td>0.042836</td>\n",
       "      <td>0.158896</td>\n",
       "      <td>0.171208</td>\n",
       "      <td>0.021377</td>\n",
       "      <td>5.179351</td>\n",
       "      <td>2200.962158</td>\n",
       "      <td>-24.038380</td>\n",
       "      <td>0</td>\n",
       "      <td>1.754600</td>\n",
       "      <td>170.005077</td>\n",
       "      <td>2023-05-12 01:11:06.209005</td>\n",
       "      <td>60076.049377</td>\n",
       "      <td>30.0</td>\n",
       "      <td>2023-05-12 01:10:51.209005</td>\n",
       "      <td>60076.049204</td>\n",
       "      <td>30.2343</td>\n",
       "      <td>4071</td>\n",
       "      <td>3999</td>\n",
       "      <td>239.988740</td>\n",
       "      <td>-23.976092</td>\n",
       "      <td>239.872262</td>\n",
       "      <td>-23.996196</td>\n",
       "      <td>239.893883</td>\n",
       "      <td>-24.100653</td>\n",
       "      <td>240.010453</td>\n",
       "      <td>-24.080532</td>\n",
       "    </tr>\n",
       "    <tr>\n",
       "      <th>40919697408</th>\n",
       "      <td>2023051100264</td>\n",
       "      <td>SDSSi_65mm~empty</td>\n",
       "      <td>i</td>\n",
       "      <td>239.938163</td>\n",
       "      <td>-24.036848</td>\n",
       "      <td>55.439133</td>\n",
       "      <td>27.848541</td>\n",
       "      <td>6.357665</td>\n",
       "      <td>28.071854</td>\n",
       "      <td>8.586543</td>\n",
       "      <td>0.026557</td>\n",
       "      <td>0.017523</td>\n",
       "      <td>35</td>\n",
       "      <td>0.012835</td>\n",
       "      <td>-0.013177</td>\n",
       "      <td>0.020933</td>\n",
       "      <td>0.046253</td>\n",
       "      <td>-0.012802</td>\n",
       "      <td>0.100489</td>\n",
       "      <td>0.015865</td>\n",
       "      <td>0.367621</td>\n",
       "      <td>1484.087036</td>\n",
       "      <td>-24.036848</td>\n",
       "      <td>0</td>\n",
       "      <td>1.432899</td>\n",
       "      <td>170.004955</td>\n",
       "      <td>2023-05-12 01:15:04.912000</td>\n",
       "      <td>60076.052140</td>\n",
       "      <td>30.0</td>\n",
       "      <td>2023-05-12 01:14:49.912000</td>\n",
       "      <td>60076.051967</td>\n",
       "      <td>30.2335</td>\n",
       "      <td>4071</td>\n",
       "      <td>3999</td>\n",
       "      <td>239.985572</td>\n",
       "      <td>-23.974553</td>\n",
       "      <td>239.869113</td>\n",
       "      <td>-23.994653</td>\n",
       "      <td>239.890709</td>\n",
       "      <td>-24.099128</td>\n",
       "      <td>240.007259</td>\n",
       "      <td>-24.079011</td>\n",
       "    </tr>\n",
       "    <tr>\n",
       "      <th>40919698432</th>\n",
       "      <td>2023051100268</td>\n",
       "      <td>SDSSr_65mm~empty</td>\n",
       "      <td>r</td>\n",
       "      <td>239.964413</td>\n",
       "      <td>-24.045511</td>\n",
       "      <td>54.482189</td>\n",
       "      <td>27.753105</td>\n",
       "      <td>8.100518</td>\n",
       "      <td>10.701076</td>\n",
       "      <td>7.854048</td>\n",
       "      <td>0.026480</td>\n",
       "      <td>0.014894</td>\n",
       "      <td>32</td>\n",
       "      <td>-0.001825</td>\n",
       "      <td>-0.007242</td>\n",
       "      <td>0.012690</td>\n",
       "      <td>0.015632</td>\n",
       "      <td>0.152651</td>\n",
       "      <td>0.114754</td>\n",
       "      <td>0.013798</td>\n",
       "      <td>0.492981</td>\n",
       "      <td>2023.047119</td>\n",
       "      <td>-24.045511</td>\n",
       "      <td>0</td>\n",
       "      <td>1.825550</td>\n",
       "      <td>323.867206</td>\n",
       "      <td>2023-05-12 01:19:39.311494</td>\n",
       "      <td>60076.055316</td>\n",
       "      <td>30.0</td>\n",
       "      <td>2023-05-12 01:19:24.311494</td>\n",
       "      <td>60076.055142</td>\n",
       "      <td>30.2379</td>\n",
       "      <td>4071</td>\n",
       "      <td>3999</td>\n",
       "      <td>239.951868</td>\n",
       "      <td>-24.120504</td>\n",
       "      <td>240.046768</td>\n",
       "      <td>-24.055597</td>\n",
       "      <td>239.976943</td>\n",
       "      <td>-23.970518</td>\n",
       "      <td>239.882070</td>\n",
       "      <td>-24.035382</td>\n",
       "    </tr>\n",
       "    <tr>\n",
       "      <th>40919698944</th>\n",
       "      <td>2023051100270</td>\n",
       "      <td>SDSSi_65mm~empty</td>\n",
       "      <td>i</td>\n",
       "      <td>239.961137</td>\n",
       "      <td>-24.046364</td>\n",
       "      <td>53.849277</td>\n",
       "      <td>27.852003</td>\n",
       "      <td>6.746165</td>\n",
       "      <td>23.952093</td>\n",
       "      <td>8.440446</td>\n",
       "      <td>0.023563</td>\n",
       "      <td>0.012609</td>\n",
       "      <td>34</td>\n",
       "      <td>-0.011282</td>\n",
       "      <td>0.003969</td>\n",
       "      <td>0.037771</td>\n",
       "      <td>0.022550</td>\n",
       "      <td>-0.016428</td>\n",
       "      <td>0.143892</td>\n",
       "      <td>0.020965</td>\n",
       "      <td>1.172336</td>\n",
       "      <td>1726.039673</td>\n",
       "      <td>-24.046364</td>\n",
       "      <td>0</td>\n",
       "      <td>1.520463</td>\n",
       "      <td>170.004124</td>\n",
       "      <td>2023-05-12 01:22:36.150002</td>\n",
       "      <td>60076.057363</td>\n",
       "      <td>30.0</td>\n",
       "      <td>2023-05-12 01:22:21.150002</td>\n",
       "      <td>60076.057189</td>\n",
       "      <td>30.2424</td>\n",
       "      <td>4071</td>\n",
       "      <td>3999</td>\n",
       "      <td>240.008536</td>\n",
       "      <td>-23.984061</td>\n",
       "      <td>239.892087</td>\n",
       "      <td>-24.004162</td>\n",
       "      <td>239.913693</td>\n",
       "      <td>-24.108652</td>\n",
       "      <td>240.030233</td>\n",
       "      <td>-24.088535</td>\n",
       "    </tr>\n",
       "  </tbody>\n",
       "</table>\n",
       "</div>"
      ],
      "text/plain": [
       "                   visitId   physical_filter band          ra        dec  \\\n",
       "ccdVisitId                                                                 \n",
       "40919696896  2023051100262  SDSSr_65mm~empty    r  239.946727 -24.053746   \n",
       "40919697152  2023051100263  SDSSg_65mm~empty    g  239.941335 -24.038380   \n",
       "40919697408  2023051100264  SDSSi_65mm~empty    i  239.938163 -24.036848   \n",
       "40919698432  2023051100268  SDSSr_65mm~empty    r  239.964413 -24.045511   \n",
       "40919698944  2023051100270  SDSSi_65mm~empty    i  239.961137 -24.046364   \n",
       "\n",
       "             zenithDistance  zeroPoint  psfSigma      skyBg  skyNoise  \\\n",
       "ccdVisitId                                                              \n",
       "40919696896       56.749516  27.705477  7.776608  11.197219  7.856582   \n",
       "40919697152       56.289413  27.909496  7.784901   3.989901  7.472743   \n",
       "40919697408       55.439133  27.848541  6.357665  28.071854  8.586543   \n",
       "40919698432       54.482189  27.753105  8.100518  10.701076  7.854048   \n",
       "40919698944       53.849277  27.852003  6.746165  23.952093  8.440446   \n",
       "\n",
       "             astromOffsetMean  astromOffsetStd  nPsfStar  \\\n",
       "ccdVisitId                                                 \n",
       "40919696896          0.032861         0.019685        39   \n",
       "40919697152          0.032879         0.018671        20   \n",
       "40919697408          0.026557         0.017523        35   \n",
       "40919698432          0.026480         0.014894        32   \n",
       "40919698944          0.023563         0.012609        34   \n",
       "\n",
       "             psfStarDeltaE1Median  psfStarDeltaE2Median  \\\n",
       "ccdVisitId                                                \n",
       "40919696896             -0.004245             -0.001485   \n",
       "40919697152              0.012385              0.007139   \n",
       "40919697408              0.012835             -0.013177   \n",
       "40919698432             -0.001825             -0.007242   \n",
       "40919698944             -0.011282              0.003969   \n",
       "\n",
       "             psfStarDeltaE1Scatter  psfStarDeltaE2Scatter  \\\n",
       "ccdVisitId                                                  \n",
       "40919696896               0.031742               0.014841   \n",
       "40919697152               0.029436               0.042836   \n",
       "40919697408               0.020933               0.046253   \n",
       "40919698432               0.012690               0.015632   \n",
       "40919698944               0.037771               0.022550   \n",
       "\n",
       "             psfStarDeltaSizeMedian  psfStarDeltaSizeScatter  \\\n",
       "ccdVisitId                                                     \n",
       "40919696896                0.089763                 0.063628   \n",
       "40919697152                0.158896                 0.171208   \n",
       "40919697408               -0.012802                 0.100489   \n",
       "40919698432                0.152651                 0.114754   \n",
       "40919698944               -0.016428                 0.143892   \n",
       "\n",
       "             psfStarScaledDeltaSizeScatter  psfTraceRadiusDelta  \\\n",
       "ccdVisitId                                                        \n",
       "40919696896                       0.008093             0.659493   \n",
       "40919697152                       0.021377             5.179351   \n",
       "40919697408                       0.015865             0.367621   \n",
       "40919698432                       0.013798             0.492981   \n",
       "40919698944                       0.020965             1.172336   \n",
       "\n",
       "             maxDistToNearestPsf       decl  detector    seeing  skyRotation  \\\n",
       "ccdVisitId                                                                     \n",
       "40919696896          1402.701904 -24.053746         0  1.752650   322.911701   \n",
       "40919697152          2200.962158 -24.038380         0  1.754600   170.005077   \n",
       "40919697408          1484.087036 -24.036848         0  1.432899   170.004955   \n",
       "40919698432          2023.047119 -24.045511         0  1.825550   323.867206   \n",
       "40919698944          1726.039673 -24.046364         0  1.520463   170.004124   \n",
       "\n",
       "                              expMidpt   expMidptMJD  expTime  \\\n",
       "ccdVisitId                                                      \n",
       "40919696896 2023-05-12 01:08:56.302993  60076.047874     30.0   \n",
       "40919697152 2023-05-12 01:11:06.209005  60076.049377     30.0   \n",
       "40919697408 2023-05-12 01:15:04.912000  60076.052140     30.0   \n",
       "40919698432 2023-05-12 01:19:39.311494  60076.055316     30.0   \n",
       "40919698944 2023-05-12 01:22:36.150002  60076.057363     30.0   \n",
       "\n",
       "                              obsStart   obsStartMJD  darkTime  xSize  ySize  \\\n",
       "ccdVisitId                                                                     \n",
       "40919696896 2023-05-12 01:08:41.302993  60076.047700   30.2434   4071   3999   \n",
       "40919697152 2023-05-12 01:10:51.209005  60076.049204   30.2343   4071   3999   \n",
       "40919697408 2023-05-12 01:14:49.912000  60076.051967   30.2335   4071   3999   \n",
       "40919698432 2023-05-12 01:19:24.311494  60076.055142   30.2379   4071   3999   \n",
       "40919698944 2023-05-12 01:22:21.150002  60076.057189   30.2424   4071   3999   \n",
       "\n",
       "                  llcra     llcdec       ulcra     ulcdec       urcra  \\\n",
       "ccdVisitId                                                              \n",
       "40919696896  239.935566 -24.128925  240.029264 -24.062574  239.957874   \n",
       "40919697152  239.988740 -23.976092  239.872262 -23.996196  239.893883   \n",
       "40919697408  239.985572 -23.974553  239.869113 -23.994653  239.890709   \n",
       "40919698432  239.951868 -24.120504  240.046768 -24.055597  239.976943   \n",
       "40919698944  240.008536 -23.984061  239.892087 -24.004162  239.913693   \n",
       "\n",
       "                urcdec       lrcra     lrcdec  \n",
       "ccdVisitId                                     \n",
       "40919696896 -23.978566  239.864200 -24.044873  \n",
       "40919697152 -24.100653  240.010453 -24.080532  \n",
       "40919697408 -24.099128  240.007259 -24.079011  \n",
       "40919698432 -23.970518  239.882070 -24.035382  \n",
       "40919698944 -24.108652  240.030233 -24.088535  "
      ]
     },
     "execution_count": 32,
     "metadata": {},
     "output_type": "execute_result"
    }
   ],
   "source": [
    "ccd_visit_table = butler.get('ccdVisitTable', dataId={'instrument': 'LATISS', 'detector': 0}, collections = my_collection )    \n",
    "ccd_visit_table.head()"
   ]
  },
  {
   "cell_type": "markdown",
   "id": "7c156e70-e9be-4b10-9b8c-8d590c043da9",
   "metadata": {},
   "source": [
    "### Compute night obs"
   ]
  },
  {
   "cell_type": "code",
   "execution_count": 33,
   "id": "e76572d2-6cc9-43b7-b535-6406d9994174",
   "metadata": {
    "execution": {
     "iopub.execute_input": "2024-01-10T21:14:54.165769Z",
     "iopub.status.busy": "2024-01-10T21:14:54.165645Z",
     "iopub.status.idle": "2024-01-10T21:14:54.176959Z",
     "shell.execute_reply": "2024-01-10T21:14:54.176601Z",
     "shell.execute_reply.started": "2024-01-10T21:14:54.165758Z"
    }
   },
   "outputs": [],
   "source": [
    "ccd_visit_table[\"nightObs\"] =ccd_visit_table.apply(lambda x: x['visitId']//100_000, axis=1)"
   ]
  },
  {
   "cell_type": "markdown",
   "id": "704c1020-b445-488d-ac43-a51b46662a3e",
   "metadata": {},
   "source": [
    "### Compute datetime to plot vs time"
   ]
  },
  {
   "cell_type": "code",
   "execution_count": 34,
   "id": "05c444f4-a8af-49cd-90d8-48292f9c6dd6",
   "metadata": {
    "execution": {
     "iopub.execute_input": "2024-01-10T21:14:54.177558Z",
     "iopub.status.busy": "2024-01-10T21:14:54.177435Z",
     "iopub.status.idle": "2024-01-10T21:14:54.180769Z",
     "shell.execute_reply": "2024-01-10T21:14:54.180397Z",
     "shell.execute_reply.started": "2024-01-10T21:14:54.177546Z"
    }
   },
   "outputs": [],
   "source": [
    "ccd_visit_table[\"Time\"] = pd.to_datetime(ccd_visit_table['obsStart'])"
   ]
  },
  {
   "cell_type": "markdown",
   "id": "6a8a093f-a39c-4f51-b2b6-684f9d8a5845",
   "metadata": {},
   "source": [
    "### Compute airmass"
   ]
  },
  {
   "cell_type": "code",
   "execution_count": 35,
   "id": "dba15b25-d2d6-4158-876a-9fc045657ca7",
   "metadata": {
    "execution": {
     "iopub.execute_input": "2024-01-10T21:14:54.181374Z",
     "iopub.status.busy": "2024-01-10T21:14:54.181254Z",
     "iopub.status.idle": "2024-01-10T21:14:54.186153Z",
     "shell.execute_reply": "2024-01-10T21:14:54.185785Z",
     "shell.execute_reply.started": "2024-01-10T21:14:54.181362Z"
    }
   },
   "outputs": [],
   "source": [
    "ccd_visit_table[\"airmass\"] = ccd_visit_table[\"zenithDistance\"].apply(lambda x: 1/np.cos(np.pi/180.*x))"
   ]
  },
  {
   "cell_type": "markdown",
   "id": "426e08cd-2219-4400-9d3d-1f2a064ce665",
   "metadata": {},
   "source": [
    "### Find those visits in the selected tract and patches"
   ]
  },
  {
   "cell_type": "code",
   "execution_count": 36,
   "id": "3fc22a66-a90d-4371-b073-1f1c34c806f7",
   "metadata": {
    "execution": {
     "iopub.execute_input": "2024-01-10T21:14:54.186768Z",
     "iopub.status.busy": "2024-01-10T21:14:54.186649Z",
     "iopub.status.idle": "2024-01-10T21:14:54.190450Z",
     "shell.execute_reply": "2024-01-10T21:14:54.190081Z",
     "shell.execute_reply.started": "2024-01-10T21:14:54.186756Z"
    }
   },
   "outputs": [],
   "source": [
    "def FindTractAndPatch(row):\n",
    "    \"\"\"\n",
    "    Apply this function on ccdvisitTable dataframe to find the tract and patch for each visit\n",
    "    \"\"\"\n",
    "    tractsId_list = list(tracts_patchs_dict.keys())   \n",
    "    try:\n",
    "        ra = row[\"ra\"]\n",
    "        dec = row[\"dec\"]\n",
    "        selectFlag = False\n",
    "        # loop on tract\n",
    "        for tractID in tractsId_list:\n",
    "            wcs = tractsInfoWCS_dict[tractID]\n",
    "            tractInfo = tractsInfo_dict[tractID] \n",
    "            patches_selected = list(tracts_patchs_dict[tractID])\n",
    "            # loop on patches\n",
    "            for patch in tractInfo:\n",
    "                patchID = patch.getSequentialIndex()\n",
    "                if patchID in patches_selected:\n",
    "                    ibb=patch.getInnerBBox()\n",
    "                    flag = isradec_inbbox_radec(ra,dec,wcs, ibb)\n",
    "                    selectFlag =  selectFlag or flag\n",
    "                    if selectFlag:\n",
    "                        return pd.Series([tractID,patchID])\n",
    "        return pd.Series([0,0])           \n",
    "                \n",
    "    except Exception as inst:\n",
    "        print(type(inst))    # the exception type\n",
    "        print(inst.args)     # arguments stored in .args\n",
    "        print(inst)          # __str__ allows args to be printed directly,\n",
    "        return pd.Series([0,0])  \n",
    "        "
   ]
  },
  {
   "cell_type": "code",
   "execution_count": 37,
   "id": "42b1477d-0fe2-439f-8322-b0fe5ea5c7dc",
   "metadata": {
    "execution": {
     "iopub.execute_input": "2024-01-10T21:14:54.191070Z",
     "iopub.status.busy": "2024-01-10T21:14:54.190948Z",
     "iopub.status.idle": "2024-01-10T21:14:54.194704Z",
     "shell.execute_reply": "2024-01-10T21:14:54.194326Z",
     "shell.execute_reply.started": "2024-01-10T21:14:54.191059Z"
    }
   },
   "outputs": [],
   "source": [
    "#ccd_visit_table[[\"patchID\",\"tractID\"]] = ccd_visit_table.apply( FindTractAndPatch, axis=1,result_type ='expand')"
   ]
  },
  {
   "cell_type": "code",
   "execution_count": 38,
   "id": "8abe564c-34e7-4bd0-b6cc-d93dc285e79d",
   "metadata": {
    "execution": {
     "iopub.execute_input": "2024-01-10T21:14:54.195296Z",
     "iopub.status.busy": "2024-01-10T21:14:54.195166Z",
     "iopub.status.idle": "2024-01-10T21:14:54.198004Z",
     "shell.execute_reply": "2024-01-10T21:14:54.197637Z",
     "shell.execute_reply.started": "2024-01-10T21:14:54.195285Z"
    }
   },
   "outputs": [],
   "source": [
    "#ccd_visit_table.head()"
   ]
  },
  {
   "cell_type": "markdown",
   "id": "1e88c9a9-08ac-46cf-ac6a-52c5b9015e79",
   "metadata": {},
   "source": [
    "## Selection of the tract and patch\n",
    "- best Patches 293 and 313 for tract 5615"
   ]
  },
  {
   "cell_type": "code",
   "execution_count": 39,
   "id": "7dee96d0-ae05-4a53-b89b-71177dc33595",
   "metadata": {
    "execution": {
     "iopub.execute_input": "2024-01-10T21:14:54.198601Z",
     "iopub.status.busy": "2024-01-10T21:14:54.198485Z",
     "iopub.status.idle": "2024-01-10T21:14:54.202417Z",
     "shell.execute_reply": "2024-01-10T21:14:54.202067Z",
     "shell.execute_reply.started": "2024-01-10T21:14:54.198591Z"
    }
   },
   "outputs": [],
   "source": [
    "#tract_selected = 5615\n",
    "#patch_selected = 294\n",
    "#patch_selected = 313\n",
    "#suptitle = f\"CCD visit in tract {tract_selected} and patch {patch_selected}\"\n",
    "suptitle = \"CCD visits in all tracts and patches (Axutel)\""
   ]
  },
  {
   "cell_type": "code",
   "execution_count": 40,
   "id": "838fe146-dfd9-4aa8-9299-76e4e460cf29",
   "metadata": {
    "execution": {
     "iopub.execute_input": "2024-01-10T21:14:54.203018Z",
     "iopub.status.busy": "2024-01-10T21:14:54.202900Z",
     "iopub.status.idle": "2024-01-10T21:14:54.205373Z",
     "shell.execute_reply": "2024-01-10T21:14:54.205032Z",
     "shell.execute_reply.started": "2024-01-10T21:14:54.203007Z"
    }
   },
   "outputs": [],
   "source": [
    "#ccd_visit_table[\"selectedFlag\"] = ccd_visit_table[[\"patchID\",\"tractID\"]].apply(lambda x: x[0] == tract_selected and x[1] == patch_selected,axis =1, raw= True )"
   ]
  },
  {
   "cell_type": "code",
   "execution_count": 41,
   "id": "7bae6ff2-6347-40d2-901e-3557d4755e7b",
   "metadata": {
    "execution": {
     "iopub.execute_input": "2024-01-10T21:14:54.209261Z",
     "iopub.status.busy": "2024-01-10T21:14:54.209137Z",
     "iopub.status.idle": "2024-01-10T21:14:54.234097Z",
     "shell.execute_reply": "2024-01-10T21:14:54.233689Z",
     "shell.execute_reply.started": "2024-01-10T21:14:54.209250Z"
    }
   },
   "outputs": [
    {
     "data": {
      "text/html": [
       "<div>\n",
       "<style scoped>\n",
       "    .dataframe tbody tr th:only-of-type {\n",
       "        vertical-align: middle;\n",
       "    }\n",
       "\n",
       "    .dataframe tbody tr th {\n",
       "        vertical-align: top;\n",
       "    }\n",
       "\n",
       "    .dataframe thead th {\n",
       "        text-align: right;\n",
       "    }\n",
       "</style>\n",
       "<table border=\"1\" class=\"dataframe\">\n",
       "  <thead>\n",
       "    <tr style=\"text-align: right;\">\n",
       "      <th></th>\n",
       "      <th>visitId</th>\n",
       "      <th>physical_filter</th>\n",
       "      <th>band</th>\n",
       "      <th>ra</th>\n",
       "      <th>dec</th>\n",
       "      <th>zenithDistance</th>\n",
       "      <th>zeroPoint</th>\n",
       "      <th>psfSigma</th>\n",
       "      <th>skyBg</th>\n",
       "      <th>skyNoise</th>\n",
       "      <th>astromOffsetMean</th>\n",
       "      <th>astromOffsetStd</th>\n",
       "      <th>nPsfStar</th>\n",
       "      <th>psfStarDeltaE1Median</th>\n",
       "      <th>psfStarDeltaE2Median</th>\n",
       "      <th>psfStarDeltaE1Scatter</th>\n",
       "      <th>psfStarDeltaE2Scatter</th>\n",
       "      <th>psfStarDeltaSizeMedian</th>\n",
       "      <th>psfStarDeltaSizeScatter</th>\n",
       "      <th>psfStarScaledDeltaSizeScatter</th>\n",
       "      <th>psfTraceRadiusDelta</th>\n",
       "      <th>maxDistToNearestPsf</th>\n",
       "      <th>decl</th>\n",
       "      <th>detector</th>\n",
       "      <th>seeing</th>\n",
       "      <th>skyRotation</th>\n",
       "      <th>expMidpt</th>\n",
       "      <th>expMidptMJD</th>\n",
       "      <th>expTime</th>\n",
       "      <th>obsStart</th>\n",
       "      <th>obsStartMJD</th>\n",
       "      <th>darkTime</th>\n",
       "      <th>xSize</th>\n",
       "      <th>ySize</th>\n",
       "      <th>llcra</th>\n",
       "      <th>llcdec</th>\n",
       "      <th>ulcra</th>\n",
       "      <th>ulcdec</th>\n",
       "      <th>urcra</th>\n",
       "      <th>urcdec</th>\n",
       "      <th>lrcra</th>\n",
       "      <th>lrcdec</th>\n",
       "      <th>nightObs</th>\n",
       "      <th>Time</th>\n",
       "      <th>airmass</th>\n",
       "    </tr>\n",
       "    <tr>\n",
       "      <th>ccdVisitId</th>\n",
       "      <th></th>\n",
       "      <th></th>\n",
       "      <th></th>\n",
       "      <th></th>\n",
       "      <th></th>\n",
       "      <th></th>\n",
       "      <th></th>\n",
       "      <th></th>\n",
       "      <th></th>\n",
       "      <th></th>\n",
       "      <th></th>\n",
       "      <th></th>\n",
       "      <th></th>\n",
       "      <th></th>\n",
       "      <th></th>\n",
       "      <th></th>\n",
       "      <th></th>\n",
       "      <th></th>\n",
       "      <th></th>\n",
       "      <th></th>\n",
       "      <th></th>\n",
       "      <th></th>\n",
       "      <th></th>\n",
       "      <th></th>\n",
       "      <th></th>\n",
       "      <th></th>\n",
       "      <th></th>\n",
       "      <th></th>\n",
       "      <th></th>\n",
       "      <th></th>\n",
       "      <th></th>\n",
       "      <th></th>\n",
       "      <th></th>\n",
       "      <th></th>\n",
       "      <th></th>\n",
       "      <th></th>\n",
       "      <th></th>\n",
       "      <th></th>\n",
       "      <th></th>\n",
       "      <th></th>\n",
       "      <th></th>\n",
       "      <th></th>\n",
       "      <th></th>\n",
       "      <th></th>\n",
       "      <th></th>\n",
       "    </tr>\n",
       "  </thead>\n",
       "  <tbody>\n",
       "    <tr>\n",
       "      <th>40919696896</th>\n",
       "      <td>2023051100262</td>\n",
       "      <td>SDSSr_65mm~empty</td>\n",
       "      <td>r</td>\n",
       "      <td>239.946727</td>\n",
       "      <td>-24.053746</td>\n",
       "      <td>56.749516</td>\n",
       "      <td>27.705477</td>\n",
       "      <td>7.776608</td>\n",
       "      <td>11.197219</td>\n",
       "      <td>7.856582</td>\n",
       "      <td>0.032861</td>\n",
       "      <td>0.019685</td>\n",
       "      <td>39</td>\n",
       "      <td>-0.004245</td>\n",
       "      <td>-0.001485</td>\n",
       "      <td>0.031742</td>\n",
       "      <td>0.014841</td>\n",
       "      <td>0.089763</td>\n",
       "      <td>0.063628</td>\n",
       "      <td>0.008093</td>\n",
       "      <td>0.659493</td>\n",
       "      <td>1402.701904</td>\n",
       "      <td>-24.053746</td>\n",
       "      <td>0</td>\n",
       "      <td>1.752650</td>\n",
       "      <td>322.911701</td>\n",
       "      <td>2023-05-12 01:08:56.302993</td>\n",
       "      <td>60076.047874</td>\n",
       "      <td>30.0</td>\n",
       "      <td>2023-05-12 01:08:41.302993</td>\n",
       "      <td>60076.047700</td>\n",
       "      <td>30.2434</td>\n",
       "      <td>4071</td>\n",
       "      <td>3999</td>\n",
       "      <td>239.935566</td>\n",
       "      <td>-24.128925</td>\n",
       "      <td>240.029264</td>\n",
       "      <td>-24.062574</td>\n",
       "      <td>239.957874</td>\n",
       "      <td>-23.978566</td>\n",
       "      <td>239.864200</td>\n",
       "      <td>-24.044873</td>\n",
       "      <td>20230511</td>\n",
       "      <td>2023-05-12 01:08:41.302993</td>\n",
       "      <td>1.823818</td>\n",
       "    </tr>\n",
       "    <tr>\n",
       "      <th>40919697152</th>\n",
       "      <td>2023051100263</td>\n",
       "      <td>SDSSg_65mm~empty</td>\n",
       "      <td>g</td>\n",
       "      <td>239.941335</td>\n",
       "      <td>-24.038380</td>\n",
       "      <td>56.289413</td>\n",
       "      <td>27.909496</td>\n",
       "      <td>7.784901</td>\n",
       "      <td>3.989901</td>\n",
       "      <td>7.472743</td>\n",
       "      <td>0.032879</td>\n",
       "      <td>0.018671</td>\n",
       "      <td>20</td>\n",
       "      <td>0.012385</td>\n",
       "      <td>0.007139</td>\n",
       "      <td>0.029436</td>\n",
       "      <td>0.042836</td>\n",
       "      <td>0.158896</td>\n",
       "      <td>0.171208</td>\n",
       "      <td>0.021377</td>\n",
       "      <td>5.179351</td>\n",
       "      <td>2200.962158</td>\n",
       "      <td>-24.038380</td>\n",
       "      <td>0</td>\n",
       "      <td>1.754600</td>\n",
       "      <td>170.005077</td>\n",
       "      <td>2023-05-12 01:11:06.209005</td>\n",
       "      <td>60076.049377</td>\n",
       "      <td>30.0</td>\n",
       "      <td>2023-05-12 01:10:51.209005</td>\n",
       "      <td>60076.049204</td>\n",
       "      <td>30.2343</td>\n",
       "      <td>4071</td>\n",
       "      <td>3999</td>\n",
       "      <td>239.988740</td>\n",
       "      <td>-23.976092</td>\n",
       "      <td>239.872262</td>\n",
       "      <td>-23.996196</td>\n",
       "      <td>239.893883</td>\n",
       "      <td>-24.100653</td>\n",
       "      <td>240.010453</td>\n",
       "      <td>-24.080532</td>\n",
       "      <td>20230511</td>\n",
       "      <td>2023-05-12 01:10:51.209005</td>\n",
       "      <td>1.801808</td>\n",
       "    </tr>\n",
       "    <tr>\n",
       "      <th>40919697408</th>\n",
       "      <td>2023051100264</td>\n",
       "      <td>SDSSi_65mm~empty</td>\n",
       "      <td>i</td>\n",
       "      <td>239.938163</td>\n",
       "      <td>-24.036848</td>\n",
       "      <td>55.439133</td>\n",
       "      <td>27.848541</td>\n",
       "      <td>6.357665</td>\n",
       "      <td>28.071854</td>\n",
       "      <td>8.586543</td>\n",
       "      <td>0.026557</td>\n",
       "      <td>0.017523</td>\n",
       "      <td>35</td>\n",
       "      <td>0.012835</td>\n",
       "      <td>-0.013177</td>\n",
       "      <td>0.020933</td>\n",
       "      <td>0.046253</td>\n",
       "      <td>-0.012802</td>\n",
       "      <td>0.100489</td>\n",
       "      <td>0.015865</td>\n",
       "      <td>0.367621</td>\n",
       "      <td>1484.087036</td>\n",
       "      <td>-24.036848</td>\n",
       "      <td>0</td>\n",
       "      <td>1.432899</td>\n",
       "      <td>170.004955</td>\n",
       "      <td>2023-05-12 01:15:04.912000</td>\n",
       "      <td>60076.052140</td>\n",
       "      <td>30.0</td>\n",
       "      <td>2023-05-12 01:14:49.912000</td>\n",
       "      <td>60076.051967</td>\n",
       "      <td>30.2335</td>\n",
       "      <td>4071</td>\n",
       "      <td>3999</td>\n",
       "      <td>239.985572</td>\n",
       "      <td>-23.974553</td>\n",
       "      <td>239.869113</td>\n",
       "      <td>-23.994653</td>\n",
       "      <td>239.890709</td>\n",
       "      <td>-24.099128</td>\n",
       "      <td>240.007259</td>\n",
       "      <td>-24.079011</td>\n",
       "      <td>20230511</td>\n",
       "      <td>2023-05-12 01:14:49.912000</td>\n",
       "      <td>1.762794</td>\n",
       "    </tr>\n",
       "    <tr>\n",
       "      <th>40919698432</th>\n",
       "      <td>2023051100268</td>\n",
       "      <td>SDSSr_65mm~empty</td>\n",
       "      <td>r</td>\n",
       "      <td>239.964413</td>\n",
       "      <td>-24.045511</td>\n",
       "      <td>54.482189</td>\n",
       "      <td>27.753105</td>\n",
       "      <td>8.100518</td>\n",
       "      <td>10.701076</td>\n",
       "      <td>7.854048</td>\n",
       "      <td>0.026480</td>\n",
       "      <td>0.014894</td>\n",
       "      <td>32</td>\n",
       "      <td>-0.001825</td>\n",
       "      <td>-0.007242</td>\n",
       "      <td>0.012690</td>\n",
       "      <td>0.015632</td>\n",
       "      <td>0.152651</td>\n",
       "      <td>0.114754</td>\n",
       "      <td>0.013798</td>\n",
       "      <td>0.492981</td>\n",
       "      <td>2023.047119</td>\n",
       "      <td>-24.045511</td>\n",
       "      <td>0</td>\n",
       "      <td>1.825550</td>\n",
       "      <td>323.867206</td>\n",
       "      <td>2023-05-12 01:19:39.311494</td>\n",
       "      <td>60076.055316</td>\n",
       "      <td>30.0</td>\n",
       "      <td>2023-05-12 01:19:24.311494</td>\n",
       "      <td>60076.055142</td>\n",
       "      <td>30.2379</td>\n",
       "      <td>4071</td>\n",
       "      <td>3999</td>\n",
       "      <td>239.951868</td>\n",
       "      <td>-24.120504</td>\n",
       "      <td>240.046768</td>\n",
       "      <td>-24.055597</td>\n",
       "      <td>239.976943</td>\n",
       "      <td>-23.970518</td>\n",
       "      <td>239.882070</td>\n",
       "      <td>-24.035382</td>\n",
       "      <td>20230511</td>\n",
       "      <td>2023-05-12 01:19:24.311494</td>\n",
       "      <td>1.721301</td>\n",
       "    </tr>\n",
       "    <tr>\n",
       "      <th>40919698944</th>\n",
       "      <td>2023051100270</td>\n",
       "      <td>SDSSi_65mm~empty</td>\n",
       "      <td>i</td>\n",
       "      <td>239.961137</td>\n",
       "      <td>-24.046364</td>\n",
       "      <td>53.849277</td>\n",
       "      <td>27.852003</td>\n",
       "      <td>6.746165</td>\n",
       "      <td>23.952093</td>\n",
       "      <td>8.440446</td>\n",
       "      <td>0.023563</td>\n",
       "      <td>0.012609</td>\n",
       "      <td>34</td>\n",
       "      <td>-0.011282</td>\n",
       "      <td>0.003969</td>\n",
       "      <td>0.037771</td>\n",
       "      <td>0.022550</td>\n",
       "      <td>-0.016428</td>\n",
       "      <td>0.143892</td>\n",
       "      <td>0.020965</td>\n",
       "      <td>1.172336</td>\n",
       "      <td>1726.039673</td>\n",
       "      <td>-24.046364</td>\n",
       "      <td>0</td>\n",
       "      <td>1.520463</td>\n",
       "      <td>170.004124</td>\n",
       "      <td>2023-05-12 01:22:36.150002</td>\n",
       "      <td>60076.057363</td>\n",
       "      <td>30.0</td>\n",
       "      <td>2023-05-12 01:22:21.150002</td>\n",
       "      <td>60076.057189</td>\n",
       "      <td>30.2424</td>\n",
       "      <td>4071</td>\n",
       "      <td>3999</td>\n",
       "      <td>240.008536</td>\n",
       "      <td>-23.984061</td>\n",
       "      <td>239.892087</td>\n",
       "      <td>-24.004162</td>\n",
       "      <td>239.913693</td>\n",
       "      <td>-24.108652</td>\n",
       "      <td>240.030233</td>\n",
       "      <td>-24.088535</td>\n",
       "      <td>20230511</td>\n",
       "      <td>2023-05-12 01:22:21.150002</td>\n",
       "      <td>1.695170</td>\n",
       "    </tr>\n",
       "    <tr>\n",
       "      <th>...</th>\n",
       "      <td>...</td>\n",
       "      <td>...</td>\n",
       "      <td>...</td>\n",
       "      <td>...</td>\n",
       "      <td>...</td>\n",
       "      <td>...</td>\n",
       "      <td>...</td>\n",
       "      <td>...</td>\n",
       "      <td>...</td>\n",
       "      <td>...</td>\n",
       "      <td>...</td>\n",
       "      <td>...</td>\n",
       "      <td>...</td>\n",
       "      <td>...</td>\n",
       "      <td>...</td>\n",
       "      <td>...</td>\n",
       "      <td>...</td>\n",
       "      <td>...</td>\n",
       "      <td>...</td>\n",
       "      <td>...</td>\n",
       "      <td>...</td>\n",
       "      <td>...</td>\n",
       "      <td>...</td>\n",
       "      <td>...</td>\n",
       "      <td>...</td>\n",
       "      <td>...</td>\n",
       "      <td>...</td>\n",
       "      <td>...</td>\n",
       "      <td>...</td>\n",
       "      <td>...</td>\n",
       "      <td>...</td>\n",
       "      <td>...</td>\n",
       "      <td>...</td>\n",
       "      <td>...</td>\n",
       "      <td>...</td>\n",
       "      <td>...</td>\n",
       "      <td>...</td>\n",
       "      <td>...</td>\n",
       "      <td>...</td>\n",
       "      <td>...</td>\n",
       "      <td>...</td>\n",
       "      <td>...</td>\n",
       "      <td>...</td>\n",
       "      <td>...</td>\n",
       "      <td>...</td>\n",
       "    </tr>\n",
       "    <tr>\n",
       "      <th>42438060288</th>\n",
       "      <td>2023110800361</td>\n",
       "      <td>SDSSr_65mm~empty</td>\n",
       "      <td>r</td>\n",
       "      <td>12.472362</td>\n",
       "      <td>-72.844737</td>\n",
       "      <td>44.729496</td>\n",
       "      <td>27.849432</td>\n",
       "      <td>5.733940</td>\n",
       "      <td>7.405540</td>\n",
       "      <td>8.019971</td>\n",
       "      <td>0.021888</td>\n",
       "      <td>0.013789</td>\n",
       "      <td>56</td>\n",
       "      <td>-0.009452</td>\n",
       "      <td>-0.008703</td>\n",
       "      <td>0.024639</td>\n",
       "      <td>0.027964</td>\n",
       "      <td>-0.085554</td>\n",
       "      <td>0.168348</td>\n",
       "      <td>0.029979</td>\n",
       "      <td>0.591626</td>\n",
       "      <td>1244.262451</td>\n",
       "      <td>-72.844737</td>\n",
       "      <td>0</td>\n",
       "      <td>1.292204</td>\n",
       "      <td>0.005046</td>\n",
       "      <td>2023-11-09 04:07:51.959003</td>\n",
       "      <td>60257.172129</td>\n",
       "      <td>30.0</td>\n",
       "      <td>2023-11-09 04:07:36.959003</td>\n",
       "      <td>60257.171956</td>\n",
       "      <td>30.2341</td>\n",
       "      <td>4071</td>\n",
       "      <td>3999</td>\n",
       "      <td>12.290521</td>\n",
       "      <td>-72.898489</td>\n",
       "      <td>12.658600</td>\n",
       "      <td>-72.897144</td>\n",
       "      <td>12.653100</td>\n",
       "      <td>-72.790823</td>\n",
       "      <td>12.287227</td>\n",
       "      <td>-72.792161</td>\n",
       "      <td>20231108</td>\n",
       "      <td>2023-11-09 04:07:36.959003</td>\n",
       "      <td>1.407584</td>\n",
       "    </tr>\n",
       "    <tr>\n",
       "      <th>42438060544</th>\n",
       "      <td>2023110800362</td>\n",
       "      <td>empty~SDSSi_65mm</td>\n",
       "      <td>i</td>\n",
       "      <td>12.473520</td>\n",
       "      <td>-72.844725</td>\n",
       "      <td>44.762394</td>\n",
       "      <td>27.866249</td>\n",
       "      <td>5.811111</td>\n",
       "      <td>17.281977</td>\n",
       "      <td>8.557647</td>\n",
       "      <td>0.021350</td>\n",
       "      <td>0.014090</td>\n",
       "      <td>60</td>\n",
       "      <td>0.001978</td>\n",
       "      <td>-0.005822</td>\n",
       "      <td>0.018680</td>\n",
       "      <td>0.019454</td>\n",
       "      <td>0.027814</td>\n",
       "      <td>0.122145</td>\n",
       "      <td>0.020740</td>\n",
       "      <td>0.656929</td>\n",
       "      <td>1039.071899</td>\n",
       "      <td>-72.844725</td>\n",
       "      <td>0</td>\n",
       "      <td>1.309372</td>\n",
       "      <td>0.005577</td>\n",
       "      <td>2023-11-09 04:08:40.330495</td>\n",
       "      <td>60257.172689</td>\n",
       "      <td>30.0</td>\n",
       "      <td>2023-11-09 04:08:25.330495</td>\n",
       "      <td>60257.172515</td>\n",
       "      <td>30.2311</td>\n",
       "      <td>4071</td>\n",
       "      <td>3999</td>\n",
       "      <td>12.291749</td>\n",
       "      <td>-72.898464</td>\n",
       "      <td>12.659756</td>\n",
       "      <td>-72.897129</td>\n",
       "      <td>12.654188</td>\n",
       "      <td>-72.790824</td>\n",
       "      <td>12.288386</td>\n",
       "      <td>-72.792152</td>\n",
       "      <td>20231108</td>\n",
       "      <td>2023-11-09 04:08:25.330495</td>\n",
       "      <td>1.408385</td>\n",
       "    </tr>\n",
       "    <tr>\n",
       "      <th>42438061056</th>\n",
       "      <td>2023110800364</td>\n",
       "      <td>SDSSr_65mm~empty</td>\n",
       "      <td>r</td>\n",
       "      <td>12.522335</td>\n",
       "      <td>-72.844696</td>\n",
       "      <td>44.832893</td>\n",
       "      <td>27.825552</td>\n",
       "      <td>5.680949</td>\n",
       "      <td>7.506320</td>\n",
       "      <td>8.040755</td>\n",
       "      <td>0.022361</td>\n",
       "      <td>0.013507</td>\n",
       "      <td>52</td>\n",
       "      <td>-0.000942</td>\n",
       "      <td>-0.019654</td>\n",
       "      <td>0.014277</td>\n",
       "      <td>0.034852</td>\n",
       "      <td>-0.040949</td>\n",
       "      <td>0.107605</td>\n",
       "      <td>0.018995</td>\n",
       "      <td>0.631289</td>\n",
       "      <td>1169.277222</td>\n",
       "      <td>-72.844696</td>\n",
       "      <td>0</td>\n",
       "      <td>1.280164</td>\n",
       "      <td>0.005419</td>\n",
       "      <td>2023-11-09 04:10:33.961007</td>\n",
       "      <td>60257.174004</td>\n",
       "      <td>30.0</td>\n",
       "      <td>2023-11-09 04:10:18.961007</td>\n",
       "      <td>60257.173831</td>\n",
       "      <td>30.2384</td>\n",
       "      <td>4071</td>\n",
       "      <td>3999</td>\n",
       "      <td>12.340535</td>\n",
       "      <td>-72.898438</td>\n",
       "      <td>12.708587</td>\n",
       "      <td>-72.897103</td>\n",
       "      <td>12.703032</td>\n",
       "      <td>-72.790791</td>\n",
       "      <td>12.337186</td>\n",
       "      <td>-72.792118</td>\n",
       "      <td>20231108</td>\n",
       "      <td>2023-11-09 04:10:18.961007</td>\n",
       "      <td>1.410107</td>\n",
       "    </tr>\n",
       "    <tr>\n",
       "      <th>42438061824</th>\n",
       "      <td>2023110800367</td>\n",
       "      <td>SDSSr_65mm~empty</td>\n",
       "      <td>r</td>\n",
       "      <td>12.572153</td>\n",
       "      <td>-72.844634</td>\n",
       "      <td>44.938324</td>\n",
       "      <td>27.809427</td>\n",
       "      <td>5.571475</td>\n",
       "      <td>7.638816</td>\n",
       "      <td>8.030701</td>\n",
       "      <td>0.025153</td>\n",
       "      <td>0.014282</td>\n",
       "      <td>57</td>\n",
       "      <td>-0.006582</td>\n",
       "      <td>0.005989</td>\n",
       "      <td>0.023921</td>\n",
       "      <td>0.028443</td>\n",
       "      <td>0.054338</td>\n",
       "      <td>0.080161</td>\n",
       "      <td>0.014130</td>\n",
       "      <td>0.641624</td>\n",
       "      <td>987.211792</td>\n",
       "      <td>-72.844634</td>\n",
       "      <td>0</td>\n",
       "      <td>1.255562</td>\n",
       "      <td>0.005442</td>\n",
       "      <td>2023-11-09 04:13:15.946495</td>\n",
       "      <td>60257.175879</td>\n",
       "      <td>30.0</td>\n",
       "      <td>2023-11-09 04:13:00.946495</td>\n",
       "      <td>60257.175705</td>\n",
       "      <td>30.2466</td>\n",
       "      <td>4071</td>\n",
       "      <td>3999</td>\n",
       "      <td>12.390327</td>\n",
       "      <td>-72.898386</td>\n",
       "      <td>12.758388</td>\n",
       "      <td>-72.897042</td>\n",
       "      <td>12.752875</td>\n",
       "      <td>-72.790721</td>\n",
       "      <td>12.387019</td>\n",
       "      <td>-72.792058</td>\n",
       "      <td>20231108</td>\n",
       "      <td>2023-11-09 04:13:00.946495</td>\n",
       "      <td>1.412694</td>\n",
       "    </tr>\n",
       "    <tr>\n",
       "      <th>42438062080</th>\n",
       "      <td>2023110800368</td>\n",
       "      <td>empty~SDSSi_65mm</td>\n",
       "      <td>i</td>\n",
       "      <td>12.573426</td>\n",
       "      <td>-72.844607</td>\n",
       "      <td>44.972591</td>\n",
       "      <td>27.876894</td>\n",
       "      <td>4.939267</td>\n",
       "      <td>17.632475</td>\n",
       "      <td>8.575315</td>\n",
       "      <td>0.017765</td>\n",
       "      <td>0.010683</td>\n",
       "      <td>86</td>\n",
       "      <td>0.001897</td>\n",
       "      <td>-0.009335</td>\n",
       "      <td>0.024299</td>\n",
       "      <td>0.031715</td>\n",
       "      <td>0.022208</td>\n",
       "      <td>0.075741</td>\n",
       "      <td>0.015152</td>\n",
       "      <td>0.732679</td>\n",
       "      <td>767.304993</td>\n",
       "      <td>-72.844607</td>\n",
       "      <td>0</td>\n",
       "      <td>1.113179</td>\n",
       "      <td>0.005565</td>\n",
       "      <td>2023-11-09 04:14:04.457509</td>\n",
       "      <td>60257.176440</td>\n",
       "      <td>30.0</td>\n",
       "      <td>2023-11-09 04:13:49.457509</td>\n",
       "      <td>60257.176267</td>\n",
       "      <td>30.2311</td>\n",
       "      <td>4071</td>\n",
       "      <td>3999</td>\n",
       "      <td>12.391573</td>\n",
       "      <td>-72.898365</td>\n",
       "      <td>12.759681</td>\n",
       "      <td>-72.897011</td>\n",
       "      <td>12.754176</td>\n",
       "      <td>-72.790688</td>\n",
       "      <td>12.388274</td>\n",
       "      <td>-72.792034</td>\n",
       "      <td>20231108</td>\n",
       "      <td>2023-11-09 04:13:49.457509</td>\n",
       "      <td>1.413538</td>\n",
       "    </tr>\n",
       "  </tbody>\n",
       "</table>\n",
       "<p>1655 rows × 45 columns</p>\n",
       "</div>"
      ],
      "text/plain": [
       "                   visitId   physical_filter band          ra        dec  \\\n",
       "ccdVisitId                                                                 \n",
       "40919696896  2023051100262  SDSSr_65mm~empty    r  239.946727 -24.053746   \n",
       "40919697152  2023051100263  SDSSg_65mm~empty    g  239.941335 -24.038380   \n",
       "40919697408  2023051100264  SDSSi_65mm~empty    i  239.938163 -24.036848   \n",
       "40919698432  2023051100268  SDSSr_65mm~empty    r  239.964413 -24.045511   \n",
       "40919698944  2023051100270  SDSSi_65mm~empty    i  239.961137 -24.046364   \n",
       "...                    ...               ...  ...         ...        ...   \n",
       "42438060288  2023110800361  SDSSr_65mm~empty    r   12.472362 -72.844737   \n",
       "42438060544  2023110800362  empty~SDSSi_65mm    i   12.473520 -72.844725   \n",
       "42438061056  2023110800364  SDSSr_65mm~empty    r   12.522335 -72.844696   \n",
       "42438061824  2023110800367  SDSSr_65mm~empty    r   12.572153 -72.844634   \n",
       "42438062080  2023110800368  empty~SDSSi_65mm    i   12.573426 -72.844607   \n",
       "\n",
       "             zenithDistance  zeroPoint  psfSigma      skyBg  skyNoise  \\\n",
       "ccdVisitId                                                              \n",
       "40919696896       56.749516  27.705477  7.776608  11.197219  7.856582   \n",
       "40919697152       56.289413  27.909496  7.784901   3.989901  7.472743   \n",
       "40919697408       55.439133  27.848541  6.357665  28.071854  8.586543   \n",
       "40919698432       54.482189  27.753105  8.100518  10.701076  7.854048   \n",
       "40919698944       53.849277  27.852003  6.746165  23.952093  8.440446   \n",
       "...                     ...        ...       ...        ...       ...   \n",
       "42438060288       44.729496  27.849432  5.733940   7.405540  8.019971   \n",
       "42438060544       44.762394  27.866249  5.811111  17.281977  8.557647   \n",
       "42438061056       44.832893  27.825552  5.680949   7.506320  8.040755   \n",
       "42438061824       44.938324  27.809427  5.571475   7.638816  8.030701   \n",
       "42438062080       44.972591  27.876894  4.939267  17.632475  8.575315   \n",
       "\n",
       "             astromOffsetMean  astromOffsetStd  nPsfStar  \\\n",
       "ccdVisitId                                                 \n",
       "40919696896          0.032861         0.019685        39   \n",
       "40919697152          0.032879         0.018671        20   \n",
       "40919697408          0.026557         0.017523        35   \n",
       "40919698432          0.026480         0.014894        32   \n",
       "40919698944          0.023563         0.012609        34   \n",
       "...                       ...              ...       ...   \n",
       "42438060288          0.021888         0.013789        56   \n",
       "42438060544          0.021350         0.014090        60   \n",
       "42438061056          0.022361         0.013507        52   \n",
       "42438061824          0.025153         0.014282        57   \n",
       "42438062080          0.017765         0.010683        86   \n",
       "\n",
       "             psfStarDeltaE1Median  psfStarDeltaE2Median  \\\n",
       "ccdVisitId                                                \n",
       "40919696896             -0.004245             -0.001485   \n",
       "40919697152              0.012385              0.007139   \n",
       "40919697408              0.012835             -0.013177   \n",
       "40919698432             -0.001825             -0.007242   \n",
       "40919698944             -0.011282              0.003969   \n",
       "...                           ...                   ...   \n",
       "42438060288             -0.009452             -0.008703   \n",
       "42438060544              0.001978             -0.005822   \n",
       "42438061056             -0.000942             -0.019654   \n",
       "42438061824             -0.006582              0.005989   \n",
       "42438062080              0.001897             -0.009335   \n",
       "\n",
       "             psfStarDeltaE1Scatter  psfStarDeltaE2Scatter  \\\n",
       "ccdVisitId                                                  \n",
       "40919696896               0.031742               0.014841   \n",
       "40919697152               0.029436               0.042836   \n",
       "40919697408               0.020933               0.046253   \n",
       "40919698432               0.012690               0.015632   \n",
       "40919698944               0.037771               0.022550   \n",
       "...                            ...                    ...   \n",
       "42438060288               0.024639               0.027964   \n",
       "42438060544               0.018680               0.019454   \n",
       "42438061056               0.014277               0.034852   \n",
       "42438061824               0.023921               0.028443   \n",
       "42438062080               0.024299               0.031715   \n",
       "\n",
       "             psfStarDeltaSizeMedian  psfStarDeltaSizeScatter  \\\n",
       "ccdVisitId                                                     \n",
       "40919696896                0.089763                 0.063628   \n",
       "40919697152                0.158896                 0.171208   \n",
       "40919697408               -0.012802                 0.100489   \n",
       "40919698432                0.152651                 0.114754   \n",
       "40919698944               -0.016428                 0.143892   \n",
       "...                             ...                      ...   \n",
       "42438060288               -0.085554                 0.168348   \n",
       "42438060544                0.027814                 0.122145   \n",
       "42438061056               -0.040949                 0.107605   \n",
       "42438061824                0.054338                 0.080161   \n",
       "42438062080                0.022208                 0.075741   \n",
       "\n",
       "             psfStarScaledDeltaSizeScatter  psfTraceRadiusDelta  \\\n",
       "ccdVisitId                                                        \n",
       "40919696896                       0.008093             0.659493   \n",
       "40919697152                       0.021377             5.179351   \n",
       "40919697408                       0.015865             0.367621   \n",
       "40919698432                       0.013798             0.492981   \n",
       "40919698944                       0.020965             1.172336   \n",
       "...                                    ...                  ...   \n",
       "42438060288                       0.029979             0.591626   \n",
       "42438060544                       0.020740             0.656929   \n",
       "42438061056                       0.018995             0.631289   \n",
       "42438061824                       0.014130             0.641624   \n",
       "42438062080                       0.015152             0.732679   \n",
       "\n",
       "             maxDistToNearestPsf       decl  detector    seeing  skyRotation  \\\n",
       "ccdVisitId                                                                     \n",
       "40919696896          1402.701904 -24.053746         0  1.752650   322.911701   \n",
       "40919697152          2200.962158 -24.038380         0  1.754600   170.005077   \n",
       "40919697408          1484.087036 -24.036848         0  1.432899   170.004955   \n",
       "40919698432          2023.047119 -24.045511         0  1.825550   323.867206   \n",
       "40919698944          1726.039673 -24.046364         0  1.520463   170.004124   \n",
       "...                          ...        ...       ...       ...          ...   \n",
       "42438060288          1244.262451 -72.844737         0  1.292204     0.005046   \n",
       "42438060544          1039.071899 -72.844725         0  1.309372     0.005577   \n",
       "42438061056          1169.277222 -72.844696         0  1.280164     0.005419   \n",
       "42438061824           987.211792 -72.844634         0  1.255562     0.005442   \n",
       "42438062080           767.304993 -72.844607         0  1.113179     0.005565   \n",
       "\n",
       "                              expMidpt   expMidptMJD  expTime  \\\n",
       "ccdVisitId                                                      \n",
       "40919696896 2023-05-12 01:08:56.302993  60076.047874     30.0   \n",
       "40919697152 2023-05-12 01:11:06.209005  60076.049377     30.0   \n",
       "40919697408 2023-05-12 01:15:04.912000  60076.052140     30.0   \n",
       "40919698432 2023-05-12 01:19:39.311494  60076.055316     30.0   \n",
       "40919698944 2023-05-12 01:22:36.150002  60076.057363     30.0   \n",
       "...                                ...           ...      ...   \n",
       "42438060288 2023-11-09 04:07:51.959003  60257.172129     30.0   \n",
       "42438060544 2023-11-09 04:08:40.330495  60257.172689     30.0   \n",
       "42438061056 2023-11-09 04:10:33.961007  60257.174004     30.0   \n",
       "42438061824 2023-11-09 04:13:15.946495  60257.175879     30.0   \n",
       "42438062080 2023-11-09 04:14:04.457509  60257.176440     30.0   \n",
       "\n",
       "                              obsStart   obsStartMJD  darkTime  xSize  ySize  \\\n",
       "ccdVisitId                                                                     \n",
       "40919696896 2023-05-12 01:08:41.302993  60076.047700   30.2434   4071   3999   \n",
       "40919697152 2023-05-12 01:10:51.209005  60076.049204   30.2343   4071   3999   \n",
       "40919697408 2023-05-12 01:14:49.912000  60076.051967   30.2335   4071   3999   \n",
       "40919698432 2023-05-12 01:19:24.311494  60076.055142   30.2379   4071   3999   \n",
       "40919698944 2023-05-12 01:22:21.150002  60076.057189   30.2424   4071   3999   \n",
       "...                                ...           ...       ...    ...    ...   \n",
       "42438060288 2023-11-09 04:07:36.959003  60257.171956   30.2341   4071   3999   \n",
       "42438060544 2023-11-09 04:08:25.330495  60257.172515   30.2311   4071   3999   \n",
       "42438061056 2023-11-09 04:10:18.961007  60257.173831   30.2384   4071   3999   \n",
       "42438061824 2023-11-09 04:13:00.946495  60257.175705   30.2466   4071   3999   \n",
       "42438062080 2023-11-09 04:13:49.457509  60257.176267   30.2311   4071   3999   \n",
       "\n",
       "                  llcra     llcdec       ulcra     ulcdec       urcra  \\\n",
       "ccdVisitId                                                              \n",
       "40919696896  239.935566 -24.128925  240.029264 -24.062574  239.957874   \n",
       "40919697152  239.988740 -23.976092  239.872262 -23.996196  239.893883   \n",
       "40919697408  239.985572 -23.974553  239.869113 -23.994653  239.890709   \n",
       "40919698432  239.951868 -24.120504  240.046768 -24.055597  239.976943   \n",
       "40919698944  240.008536 -23.984061  239.892087 -24.004162  239.913693   \n",
       "...                 ...        ...         ...        ...         ...   \n",
       "42438060288   12.290521 -72.898489   12.658600 -72.897144   12.653100   \n",
       "42438060544   12.291749 -72.898464   12.659756 -72.897129   12.654188   \n",
       "42438061056   12.340535 -72.898438   12.708587 -72.897103   12.703032   \n",
       "42438061824   12.390327 -72.898386   12.758388 -72.897042   12.752875   \n",
       "42438062080   12.391573 -72.898365   12.759681 -72.897011   12.754176   \n",
       "\n",
       "                urcdec       lrcra     lrcdec  nightObs  \\\n",
       "ccdVisitId                                                \n",
       "40919696896 -23.978566  239.864200 -24.044873  20230511   \n",
       "40919697152 -24.100653  240.010453 -24.080532  20230511   \n",
       "40919697408 -24.099128  240.007259 -24.079011  20230511   \n",
       "40919698432 -23.970518  239.882070 -24.035382  20230511   \n",
       "40919698944 -24.108652  240.030233 -24.088535  20230511   \n",
       "...                ...         ...        ...       ...   \n",
       "42438060288 -72.790823   12.287227 -72.792161  20231108   \n",
       "42438060544 -72.790824   12.288386 -72.792152  20231108   \n",
       "42438061056 -72.790791   12.337186 -72.792118  20231108   \n",
       "42438061824 -72.790721   12.387019 -72.792058  20231108   \n",
       "42438062080 -72.790688   12.388274 -72.792034  20231108   \n",
       "\n",
       "                                  Time   airmass  \n",
       "ccdVisitId                                        \n",
       "40919696896 2023-05-12 01:08:41.302993  1.823818  \n",
       "40919697152 2023-05-12 01:10:51.209005  1.801808  \n",
       "40919697408 2023-05-12 01:14:49.912000  1.762794  \n",
       "40919698432 2023-05-12 01:19:24.311494  1.721301  \n",
       "40919698944 2023-05-12 01:22:21.150002  1.695170  \n",
       "...                                ...       ...  \n",
       "42438060288 2023-11-09 04:07:36.959003  1.407584  \n",
       "42438060544 2023-11-09 04:08:25.330495  1.408385  \n",
       "42438061056 2023-11-09 04:10:18.961007  1.410107  \n",
       "42438061824 2023-11-09 04:13:00.946495  1.412694  \n",
       "42438062080 2023-11-09 04:13:49.457509  1.413538  \n",
       "\n",
       "[1655 rows x 45 columns]"
      ]
     },
     "execution_count": 41,
     "metadata": {},
     "output_type": "execute_result"
    }
   ],
   "source": [
    "ccd_visit_table"
   ]
  },
  {
   "cell_type": "code",
   "execution_count": 42,
   "id": "caea00e4-bc43-41ac-9f9a-a5e26b0af2ce",
   "metadata": {
    "execution": {
     "iopub.execute_input": "2024-01-10T21:14:54.234692Z",
     "iopub.status.busy": "2024-01-10T21:14:54.234570Z",
     "iopub.status.idle": "2024-01-10T21:14:54.236579Z",
     "shell.execute_reply": "2024-01-10T21:14:54.236204Z",
     "shell.execute_reply.started": "2024-01-10T21:14:54.234682Z"
    }
   },
   "outputs": [],
   "source": [
    "#ccd_visit_table_selected = ccd_visit_table[ccd_visit_table[\"selectedFlag\"]]\n",
    "ccd_visit_table_selected = ccd_visit_table\n",
    "#ccd_visit_table_selected.drop([\"selectedFlag\"],axis=1,inplace=True) "
   ]
  },
  {
   "cell_type": "code",
   "execution_count": 43,
   "id": "903c0130-48b3-4f7c-8dbd-8a7a8a9e84d0",
   "metadata": {
    "execution": {
     "iopub.execute_input": "2024-01-10T21:14:54.237166Z",
     "iopub.status.busy": "2024-01-10T21:14:54.237047Z",
     "iopub.status.idle": "2024-01-10T21:14:54.256079Z",
     "shell.execute_reply": "2024-01-10T21:14:54.255684Z",
     "shell.execute_reply.started": "2024-01-10T21:14:54.237155Z"
    }
   },
   "outputs": [
    {
     "data": {
      "text/html": [
       "<div>\n",
       "<style scoped>\n",
       "    .dataframe tbody tr th:only-of-type {\n",
       "        vertical-align: middle;\n",
       "    }\n",
       "\n",
       "    .dataframe tbody tr th {\n",
       "        vertical-align: top;\n",
       "    }\n",
       "\n",
       "    .dataframe thead th {\n",
       "        text-align: right;\n",
       "    }\n",
       "</style>\n",
       "<table border=\"1\" class=\"dataframe\">\n",
       "  <thead>\n",
       "    <tr style=\"text-align: right;\">\n",
       "      <th></th>\n",
       "      <th>visitId</th>\n",
       "      <th>physical_filter</th>\n",
       "      <th>band</th>\n",
       "      <th>ra</th>\n",
       "      <th>dec</th>\n",
       "      <th>zenithDistance</th>\n",
       "      <th>zeroPoint</th>\n",
       "      <th>psfSigma</th>\n",
       "      <th>skyBg</th>\n",
       "      <th>skyNoise</th>\n",
       "      <th>astromOffsetMean</th>\n",
       "      <th>astromOffsetStd</th>\n",
       "      <th>nPsfStar</th>\n",
       "      <th>psfStarDeltaE1Median</th>\n",
       "      <th>psfStarDeltaE2Median</th>\n",
       "      <th>psfStarDeltaE1Scatter</th>\n",
       "      <th>psfStarDeltaE2Scatter</th>\n",
       "      <th>psfStarDeltaSizeMedian</th>\n",
       "      <th>psfStarDeltaSizeScatter</th>\n",
       "      <th>psfStarScaledDeltaSizeScatter</th>\n",
       "      <th>psfTraceRadiusDelta</th>\n",
       "      <th>maxDistToNearestPsf</th>\n",
       "      <th>decl</th>\n",
       "      <th>detector</th>\n",
       "      <th>seeing</th>\n",
       "      <th>skyRotation</th>\n",
       "      <th>expMidpt</th>\n",
       "      <th>expMidptMJD</th>\n",
       "      <th>expTime</th>\n",
       "      <th>obsStart</th>\n",
       "      <th>obsStartMJD</th>\n",
       "      <th>darkTime</th>\n",
       "      <th>xSize</th>\n",
       "      <th>ySize</th>\n",
       "      <th>llcra</th>\n",
       "      <th>llcdec</th>\n",
       "      <th>ulcra</th>\n",
       "      <th>ulcdec</th>\n",
       "      <th>urcra</th>\n",
       "      <th>urcdec</th>\n",
       "      <th>lrcra</th>\n",
       "      <th>lrcdec</th>\n",
       "      <th>nightObs</th>\n",
       "      <th>Time</th>\n",
       "      <th>airmass</th>\n",
       "    </tr>\n",
       "    <tr>\n",
       "      <th>ccdVisitId</th>\n",
       "      <th></th>\n",
       "      <th></th>\n",
       "      <th></th>\n",
       "      <th></th>\n",
       "      <th></th>\n",
       "      <th></th>\n",
       "      <th></th>\n",
       "      <th></th>\n",
       "      <th></th>\n",
       "      <th></th>\n",
       "      <th></th>\n",
       "      <th></th>\n",
       "      <th></th>\n",
       "      <th></th>\n",
       "      <th></th>\n",
       "      <th></th>\n",
       "      <th></th>\n",
       "      <th></th>\n",
       "      <th></th>\n",
       "      <th></th>\n",
       "      <th></th>\n",
       "      <th></th>\n",
       "      <th></th>\n",
       "      <th></th>\n",
       "      <th></th>\n",
       "      <th></th>\n",
       "      <th></th>\n",
       "      <th></th>\n",
       "      <th></th>\n",
       "      <th></th>\n",
       "      <th></th>\n",
       "      <th></th>\n",
       "      <th></th>\n",
       "      <th></th>\n",
       "      <th></th>\n",
       "      <th></th>\n",
       "      <th></th>\n",
       "      <th></th>\n",
       "      <th></th>\n",
       "      <th></th>\n",
       "      <th></th>\n",
       "      <th></th>\n",
       "      <th></th>\n",
       "      <th></th>\n",
       "      <th></th>\n",
       "    </tr>\n",
       "  </thead>\n",
       "  <tbody>\n",
       "    <tr>\n",
       "      <th>40919696896</th>\n",
       "      <td>2023051100262</td>\n",
       "      <td>SDSSr_65mm~empty</td>\n",
       "      <td>r</td>\n",
       "      <td>239.946727</td>\n",
       "      <td>-24.053746</td>\n",
       "      <td>56.749516</td>\n",
       "      <td>27.705477</td>\n",
       "      <td>7.776608</td>\n",
       "      <td>11.197219</td>\n",
       "      <td>7.856582</td>\n",
       "      <td>0.032861</td>\n",
       "      <td>0.019685</td>\n",
       "      <td>39</td>\n",
       "      <td>-0.004245</td>\n",
       "      <td>-0.001485</td>\n",
       "      <td>0.031742</td>\n",
       "      <td>0.014841</td>\n",
       "      <td>0.089763</td>\n",
       "      <td>0.063628</td>\n",
       "      <td>0.008093</td>\n",
       "      <td>0.659493</td>\n",
       "      <td>1402.701904</td>\n",
       "      <td>-24.053746</td>\n",
       "      <td>0</td>\n",
       "      <td>1.752650</td>\n",
       "      <td>322.911701</td>\n",
       "      <td>2023-05-12 01:08:56.302993</td>\n",
       "      <td>60076.047874</td>\n",
       "      <td>30.0</td>\n",
       "      <td>2023-05-12 01:08:41.302993</td>\n",
       "      <td>60076.047700</td>\n",
       "      <td>30.2434</td>\n",
       "      <td>4071</td>\n",
       "      <td>3999</td>\n",
       "      <td>239.935566</td>\n",
       "      <td>-24.128925</td>\n",
       "      <td>240.029264</td>\n",
       "      <td>-24.062574</td>\n",
       "      <td>239.957874</td>\n",
       "      <td>-23.978566</td>\n",
       "      <td>239.864200</td>\n",
       "      <td>-24.044873</td>\n",
       "      <td>20230511</td>\n",
       "      <td>2023-05-12 01:08:41.302993</td>\n",
       "      <td>1.823818</td>\n",
       "    </tr>\n",
       "    <tr>\n",
       "      <th>40919697152</th>\n",
       "      <td>2023051100263</td>\n",
       "      <td>SDSSg_65mm~empty</td>\n",
       "      <td>g</td>\n",
       "      <td>239.941335</td>\n",
       "      <td>-24.038380</td>\n",
       "      <td>56.289413</td>\n",
       "      <td>27.909496</td>\n",
       "      <td>7.784901</td>\n",
       "      <td>3.989901</td>\n",
       "      <td>7.472743</td>\n",
       "      <td>0.032879</td>\n",
       "      <td>0.018671</td>\n",
       "      <td>20</td>\n",
       "      <td>0.012385</td>\n",
       "      <td>0.007139</td>\n",
       "      <td>0.029436</td>\n",
       "      <td>0.042836</td>\n",
       "      <td>0.158896</td>\n",
       "      <td>0.171208</td>\n",
       "      <td>0.021377</td>\n",
       "      <td>5.179351</td>\n",
       "      <td>2200.962158</td>\n",
       "      <td>-24.038380</td>\n",
       "      <td>0</td>\n",
       "      <td>1.754600</td>\n",
       "      <td>170.005077</td>\n",
       "      <td>2023-05-12 01:11:06.209005</td>\n",
       "      <td>60076.049377</td>\n",
       "      <td>30.0</td>\n",
       "      <td>2023-05-12 01:10:51.209005</td>\n",
       "      <td>60076.049204</td>\n",
       "      <td>30.2343</td>\n",
       "      <td>4071</td>\n",
       "      <td>3999</td>\n",
       "      <td>239.988740</td>\n",
       "      <td>-23.976092</td>\n",
       "      <td>239.872262</td>\n",
       "      <td>-23.996196</td>\n",
       "      <td>239.893883</td>\n",
       "      <td>-24.100653</td>\n",
       "      <td>240.010453</td>\n",
       "      <td>-24.080532</td>\n",
       "      <td>20230511</td>\n",
       "      <td>2023-05-12 01:10:51.209005</td>\n",
       "      <td>1.801808</td>\n",
       "    </tr>\n",
       "    <tr>\n",
       "      <th>40919697408</th>\n",
       "      <td>2023051100264</td>\n",
       "      <td>SDSSi_65mm~empty</td>\n",
       "      <td>i</td>\n",
       "      <td>239.938163</td>\n",
       "      <td>-24.036848</td>\n",
       "      <td>55.439133</td>\n",
       "      <td>27.848541</td>\n",
       "      <td>6.357665</td>\n",
       "      <td>28.071854</td>\n",
       "      <td>8.586543</td>\n",
       "      <td>0.026557</td>\n",
       "      <td>0.017523</td>\n",
       "      <td>35</td>\n",
       "      <td>0.012835</td>\n",
       "      <td>-0.013177</td>\n",
       "      <td>0.020933</td>\n",
       "      <td>0.046253</td>\n",
       "      <td>-0.012802</td>\n",
       "      <td>0.100489</td>\n",
       "      <td>0.015865</td>\n",
       "      <td>0.367621</td>\n",
       "      <td>1484.087036</td>\n",
       "      <td>-24.036848</td>\n",
       "      <td>0</td>\n",
       "      <td>1.432899</td>\n",
       "      <td>170.004955</td>\n",
       "      <td>2023-05-12 01:15:04.912000</td>\n",
       "      <td>60076.052140</td>\n",
       "      <td>30.0</td>\n",
       "      <td>2023-05-12 01:14:49.912000</td>\n",
       "      <td>60076.051967</td>\n",
       "      <td>30.2335</td>\n",
       "      <td>4071</td>\n",
       "      <td>3999</td>\n",
       "      <td>239.985572</td>\n",
       "      <td>-23.974553</td>\n",
       "      <td>239.869113</td>\n",
       "      <td>-23.994653</td>\n",
       "      <td>239.890709</td>\n",
       "      <td>-24.099128</td>\n",
       "      <td>240.007259</td>\n",
       "      <td>-24.079011</td>\n",
       "      <td>20230511</td>\n",
       "      <td>2023-05-12 01:14:49.912000</td>\n",
       "      <td>1.762794</td>\n",
       "    </tr>\n",
       "    <tr>\n",
       "      <th>40919698432</th>\n",
       "      <td>2023051100268</td>\n",
       "      <td>SDSSr_65mm~empty</td>\n",
       "      <td>r</td>\n",
       "      <td>239.964413</td>\n",
       "      <td>-24.045511</td>\n",
       "      <td>54.482189</td>\n",
       "      <td>27.753105</td>\n",
       "      <td>8.100518</td>\n",
       "      <td>10.701076</td>\n",
       "      <td>7.854048</td>\n",
       "      <td>0.026480</td>\n",
       "      <td>0.014894</td>\n",
       "      <td>32</td>\n",
       "      <td>-0.001825</td>\n",
       "      <td>-0.007242</td>\n",
       "      <td>0.012690</td>\n",
       "      <td>0.015632</td>\n",
       "      <td>0.152651</td>\n",
       "      <td>0.114754</td>\n",
       "      <td>0.013798</td>\n",
       "      <td>0.492981</td>\n",
       "      <td>2023.047119</td>\n",
       "      <td>-24.045511</td>\n",
       "      <td>0</td>\n",
       "      <td>1.825550</td>\n",
       "      <td>323.867206</td>\n",
       "      <td>2023-05-12 01:19:39.311494</td>\n",
       "      <td>60076.055316</td>\n",
       "      <td>30.0</td>\n",
       "      <td>2023-05-12 01:19:24.311494</td>\n",
       "      <td>60076.055142</td>\n",
       "      <td>30.2379</td>\n",
       "      <td>4071</td>\n",
       "      <td>3999</td>\n",
       "      <td>239.951868</td>\n",
       "      <td>-24.120504</td>\n",
       "      <td>240.046768</td>\n",
       "      <td>-24.055597</td>\n",
       "      <td>239.976943</td>\n",
       "      <td>-23.970518</td>\n",
       "      <td>239.882070</td>\n",
       "      <td>-24.035382</td>\n",
       "      <td>20230511</td>\n",
       "      <td>2023-05-12 01:19:24.311494</td>\n",
       "      <td>1.721301</td>\n",
       "    </tr>\n",
       "    <tr>\n",
       "      <th>40919698944</th>\n",
       "      <td>2023051100270</td>\n",
       "      <td>SDSSi_65mm~empty</td>\n",
       "      <td>i</td>\n",
       "      <td>239.961137</td>\n",
       "      <td>-24.046364</td>\n",
       "      <td>53.849277</td>\n",
       "      <td>27.852003</td>\n",
       "      <td>6.746165</td>\n",
       "      <td>23.952093</td>\n",
       "      <td>8.440446</td>\n",
       "      <td>0.023563</td>\n",
       "      <td>0.012609</td>\n",
       "      <td>34</td>\n",
       "      <td>-0.011282</td>\n",
       "      <td>0.003969</td>\n",
       "      <td>0.037771</td>\n",
       "      <td>0.022550</td>\n",
       "      <td>-0.016428</td>\n",
       "      <td>0.143892</td>\n",
       "      <td>0.020965</td>\n",
       "      <td>1.172336</td>\n",
       "      <td>1726.039673</td>\n",
       "      <td>-24.046364</td>\n",
       "      <td>0</td>\n",
       "      <td>1.520463</td>\n",
       "      <td>170.004124</td>\n",
       "      <td>2023-05-12 01:22:36.150002</td>\n",
       "      <td>60076.057363</td>\n",
       "      <td>30.0</td>\n",
       "      <td>2023-05-12 01:22:21.150002</td>\n",
       "      <td>60076.057189</td>\n",
       "      <td>30.2424</td>\n",
       "      <td>4071</td>\n",
       "      <td>3999</td>\n",
       "      <td>240.008536</td>\n",
       "      <td>-23.984061</td>\n",
       "      <td>239.892087</td>\n",
       "      <td>-24.004162</td>\n",
       "      <td>239.913693</td>\n",
       "      <td>-24.108652</td>\n",
       "      <td>240.030233</td>\n",
       "      <td>-24.088535</td>\n",
       "      <td>20230511</td>\n",
       "      <td>2023-05-12 01:22:21.150002</td>\n",
       "      <td>1.695170</td>\n",
       "    </tr>\n",
       "  </tbody>\n",
       "</table>\n",
       "</div>"
      ],
      "text/plain": [
       "                   visitId   physical_filter band          ra        dec  \\\n",
       "ccdVisitId                                                                 \n",
       "40919696896  2023051100262  SDSSr_65mm~empty    r  239.946727 -24.053746   \n",
       "40919697152  2023051100263  SDSSg_65mm~empty    g  239.941335 -24.038380   \n",
       "40919697408  2023051100264  SDSSi_65mm~empty    i  239.938163 -24.036848   \n",
       "40919698432  2023051100268  SDSSr_65mm~empty    r  239.964413 -24.045511   \n",
       "40919698944  2023051100270  SDSSi_65mm~empty    i  239.961137 -24.046364   \n",
       "\n",
       "             zenithDistance  zeroPoint  psfSigma      skyBg  skyNoise  \\\n",
       "ccdVisitId                                                              \n",
       "40919696896       56.749516  27.705477  7.776608  11.197219  7.856582   \n",
       "40919697152       56.289413  27.909496  7.784901   3.989901  7.472743   \n",
       "40919697408       55.439133  27.848541  6.357665  28.071854  8.586543   \n",
       "40919698432       54.482189  27.753105  8.100518  10.701076  7.854048   \n",
       "40919698944       53.849277  27.852003  6.746165  23.952093  8.440446   \n",
       "\n",
       "             astromOffsetMean  astromOffsetStd  nPsfStar  \\\n",
       "ccdVisitId                                                 \n",
       "40919696896          0.032861         0.019685        39   \n",
       "40919697152          0.032879         0.018671        20   \n",
       "40919697408          0.026557         0.017523        35   \n",
       "40919698432          0.026480         0.014894        32   \n",
       "40919698944          0.023563         0.012609        34   \n",
       "\n",
       "             psfStarDeltaE1Median  psfStarDeltaE2Median  \\\n",
       "ccdVisitId                                                \n",
       "40919696896             -0.004245             -0.001485   \n",
       "40919697152              0.012385              0.007139   \n",
       "40919697408              0.012835             -0.013177   \n",
       "40919698432             -0.001825             -0.007242   \n",
       "40919698944             -0.011282              0.003969   \n",
       "\n",
       "             psfStarDeltaE1Scatter  psfStarDeltaE2Scatter  \\\n",
       "ccdVisitId                                                  \n",
       "40919696896               0.031742               0.014841   \n",
       "40919697152               0.029436               0.042836   \n",
       "40919697408               0.020933               0.046253   \n",
       "40919698432               0.012690               0.015632   \n",
       "40919698944               0.037771               0.022550   \n",
       "\n",
       "             psfStarDeltaSizeMedian  psfStarDeltaSizeScatter  \\\n",
       "ccdVisitId                                                     \n",
       "40919696896                0.089763                 0.063628   \n",
       "40919697152                0.158896                 0.171208   \n",
       "40919697408               -0.012802                 0.100489   \n",
       "40919698432                0.152651                 0.114754   \n",
       "40919698944               -0.016428                 0.143892   \n",
       "\n",
       "             psfStarScaledDeltaSizeScatter  psfTraceRadiusDelta  \\\n",
       "ccdVisitId                                                        \n",
       "40919696896                       0.008093             0.659493   \n",
       "40919697152                       0.021377             5.179351   \n",
       "40919697408                       0.015865             0.367621   \n",
       "40919698432                       0.013798             0.492981   \n",
       "40919698944                       0.020965             1.172336   \n",
       "\n",
       "             maxDistToNearestPsf       decl  detector    seeing  skyRotation  \\\n",
       "ccdVisitId                                                                     \n",
       "40919696896          1402.701904 -24.053746         0  1.752650   322.911701   \n",
       "40919697152          2200.962158 -24.038380         0  1.754600   170.005077   \n",
       "40919697408          1484.087036 -24.036848         0  1.432899   170.004955   \n",
       "40919698432          2023.047119 -24.045511         0  1.825550   323.867206   \n",
       "40919698944          1726.039673 -24.046364         0  1.520463   170.004124   \n",
       "\n",
       "                              expMidpt   expMidptMJD  expTime  \\\n",
       "ccdVisitId                                                      \n",
       "40919696896 2023-05-12 01:08:56.302993  60076.047874     30.0   \n",
       "40919697152 2023-05-12 01:11:06.209005  60076.049377     30.0   \n",
       "40919697408 2023-05-12 01:15:04.912000  60076.052140     30.0   \n",
       "40919698432 2023-05-12 01:19:39.311494  60076.055316     30.0   \n",
       "40919698944 2023-05-12 01:22:36.150002  60076.057363     30.0   \n",
       "\n",
       "                              obsStart   obsStartMJD  darkTime  xSize  ySize  \\\n",
       "ccdVisitId                                                                     \n",
       "40919696896 2023-05-12 01:08:41.302993  60076.047700   30.2434   4071   3999   \n",
       "40919697152 2023-05-12 01:10:51.209005  60076.049204   30.2343   4071   3999   \n",
       "40919697408 2023-05-12 01:14:49.912000  60076.051967   30.2335   4071   3999   \n",
       "40919698432 2023-05-12 01:19:24.311494  60076.055142   30.2379   4071   3999   \n",
       "40919698944 2023-05-12 01:22:21.150002  60076.057189   30.2424   4071   3999   \n",
       "\n",
       "                  llcra     llcdec       ulcra     ulcdec       urcra  \\\n",
       "ccdVisitId                                                              \n",
       "40919696896  239.935566 -24.128925  240.029264 -24.062574  239.957874   \n",
       "40919697152  239.988740 -23.976092  239.872262 -23.996196  239.893883   \n",
       "40919697408  239.985572 -23.974553  239.869113 -23.994653  239.890709   \n",
       "40919698432  239.951868 -24.120504  240.046768 -24.055597  239.976943   \n",
       "40919698944  240.008536 -23.984061  239.892087 -24.004162  239.913693   \n",
       "\n",
       "                urcdec       lrcra     lrcdec  nightObs  \\\n",
       "ccdVisitId                                                \n",
       "40919696896 -23.978566  239.864200 -24.044873  20230511   \n",
       "40919697152 -24.100653  240.010453 -24.080532  20230511   \n",
       "40919697408 -24.099128  240.007259 -24.079011  20230511   \n",
       "40919698432 -23.970518  239.882070 -24.035382  20230511   \n",
       "40919698944 -24.108652  240.030233 -24.088535  20230511   \n",
       "\n",
       "                                  Time   airmass  \n",
       "ccdVisitId                                        \n",
       "40919696896 2023-05-12 01:08:41.302993  1.823818  \n",
       "40919697152 2023-05-12 01:10:51.209005  1.801808  \n",
       "40919697408 2023-05-12 01:14:49.912000  1.762794  \n",
       "40919698432 2023-05-12 01:19:24.311494  1.721301  \n",
       "40919698944 2023-05-12 01:22:21.150002  1.695170  "
      ]
     },
     "execution_count": 43,
     "metadata": {},
     "output_type": "execute_result"
    }
   ],
   "source": [
    "ccd_visit_table_selected.head() "
   ]
  },
  {
   "cell_type": "code",
   "execution_count": 44,
   "id": "554312a5-5184-4ebe-8ad9-0a6b80e16b1d",
   "metadata": {
    "execution": {
     "iopub.execute_input": "2024-01-10T21:14:54.256670Z",
     "iopub.status.busy": "2024-01-10T21:14:54.256548Z",
     "iopub.status.idle": "2024-01-10T21:14:54.259318Z",
     "shell.execute_reply": "2024-01-10T21:14:54.258963Z",
     "shell.execute_reply.started": "2024-01-10T21:14:54.256659Z"
    }
   },
   "outputs": [
    {
     "data": {
      "text/plain": [
       "Index(['visitId', 'physical_filter', 'band', 'ra', 'dec', 'zenithDistance',\n",
       "       'zeroPoint', 'psfSigma', 'skyBg', 'skyNoise', 'astromOffsetMean',\n",
       "       'astromOffsetStd', 'nPsfStar', 'psfStarDeltaE1Median',\n",
       "       'psfStarDeltaE2Median', 'psfStarDeltaE1Scatter',\n",
       "       'psfStarDeltaE2Scatter', 'psfStarDeltaSizeMedian',\n",
       "       'psfStarDeltaSizeScatter', 'psfStarScaledDeltaSizeScatter',\n",
       "       'psfTraceRadiusDelta', 'maxDistToNearestPsf', 'decl', 'detector',\n",
       "       'seeing', 'skyRotation', 'expMidpt', 'expMidptMJD', 'expTime',\n",
       "       'obsStart', 'obsStartMJD', 'darkTime', 'xSize', 'ySize', 'llcra',\n",
       "       'llcdec', 'ulcra', 'ulcdec', 'urcra', 'urcdec', 'lrcra', 'lrcdec',\n",
       "       'nightObs', 'Time', 'airmass'],\n",
       "      dtype='object')"
      ]
     },
     "execution_count": 44,
     "metadata": {},
     "output_type": "execute_result"
    }
   ],
   "source": [
    "ccd_visit_table_selected.columns"
   ]
  },
  {
   "cell_type": "code",
   "execution_count": 45,
   "id": "35a22d48-9f0d-41ca-8417-6a11cafde159",
   "metadata": {
    "execution": {
     "iopub.execute_input": "2024-01-10T21:14:54.259913Z",
     "iopub.status.busy": "2024-01-10T21:14:54.259789Z",
     "iopub.status.idle": "2024-01-10T21:14:54.262448Z",
     "shell.execute_reply": "2024-01-10T21:14:54.261847Z",
     "shell.execute_reply.started": "2024-01-10T21:14:54.259902Z"
    }
   },
   "outputs": [],
   "source": [
    "df = ccd_visit_table_selected"
   ]
  },
  {
   "cell_type": "code",
   "execution_count": 46,
   "id": "f8e17498-94e2-419a-b8ff-3e5a53bbaf52",
   "metadata": {
    "execution": {
     "iopub.execute_input": "2024-01-10T21:14:54.263200Z",
     "iopub.status.busy": "2024-01-10T21:14:54.263050Z",
     "iopub.status.idle": "2024-01-10T21:14:54.691141Z",
     "shell.execute_reply": "2024-01-10T21:14:54.690726Z",
     "shell.execute_reply.started": "2024-01-10T21:14:54.263186Z"
    }
   },
   "outputs": [
    {
     "data": {
      "image/png": "[encoded data removed]",
      "text/plain": [
       "<Figure size 1600x1000 with 2 Axes>"
      ]
     },
     "metadata": {},
     "output_type": "display_data"
    }
   ],
   "source": [
    "fig,(ax1,ax2) = plt.subplots(2,1,figsize=(16,10))\n",
    "\n",
    "df[df[\"band\"]==\"g\"].plot(x=\"Time\",y=\"zeroPoint\",marker='o',c=\"g\",lw=0.0,ax=ax1,grid=True,legend=False)\n",
    "df[df[\"band\"]==\"r\"].plot(x=\"Time\",y=\"zeroPoint\",marker='o',c=\"r\",lw=0.0,ax=ax1,grid=True,legend=False)\n",
    "df[df[\"band\"]==\"i\"].plot(x=\"Time\",y=\"zeroPoint\",marker='o',c=\"y\",lw=0.0,ax=ax1,grid=True,legend=False)\n",
    "ax1.set_title(\"zeroPoint\")\n",
    "\n",
    "\n",
    "df[df[\"band\"]==\"g\"].plot(x=\"Time\",y=\"airmass\",marker='o',c=\"g\",lw=0.0,ax=ax2,grid=True,legend=False)\n",
    "df[df[\"band\"]==\"r\"].plot(x=\"Time\",y=\"airmass\",marker='o',c=\"r\",lw=0.0,ax=ax2,grid=True,legend=False)\n",
    "df[df[\"band\"]==\"i\"].plot(x=\"Time\",y=\"airmass\",marker='o',c=\"y\",lw=0.0,ax=ax2,grid=True,legend=False)\n",
    "ax2.set_title(\"airmass\")\n",
    "\n",
    "\n",
    "#df.plot(x=\"Time\",y=\"coord_dec\",marker='o',c=\"g\",lw=0.0,ax=ax2,grid=True)\n",
    "plt.suptitle(suptitle,y=1.0,fontsize=16)\n",
    "plt.tight_layout()"
   ]
  },
  {
   "cell_type": "markdown",
   "id": "67a47186-9cd3-4fcb-98da-7692dbd9d463",
   "metadata": {},
   "source": [
    "## Plot number of visit per day"
   ]
  },
  {
   "cell_type": "markdown",
   "id": "eb02c2a2-b738-4a3c-b9c3-e4b11daffdf4",
   "metadata": {
    "execution": {
     "iopub.execute_input": "2024-01-02T10:21:27.939035Z",
     "iopub.status.busy": "2024-01-02T10:21:27.938718Z",
     "iopub.status.idle": "2024-01-02T10:21:27.941179Z",
     "shell.execute_reply": "2024-01-02T10:21:27.940809Z",
     "shell.execute_reply.started": "2024-01-02T10:21:27.939020Z"
    }
   },
   "source": [
    "### Plot number of visit per day "
   ]
  },
  {
   "cell_type": "code",
   "execution_count": 47,
   "id": "40e4a8f5-5afa-43c2-8973-a4146d642b16",
   "metadata": {
    "execution": {
     "iopub.execute_input": "2024-01-10T21:14:54.691850Z",
     "iopub.status.busy": "2024-01-10T21:14:54.691724Z",
     "iopub.status.idle": "2024-01-10T21:14:55.733823Z",
     "shell.execute_reply": "2024-01-10T21:14:55.733425Z",
     "shell.execute_reply.started": "2024-01-10T21:14:54.691838Z"
    }
   },
   "outputs": [
    {
     "name": "stderr",
     "output_type": "stream",
     "text": [
      "/tmp/ipykernel_44131/1158846257.py:3: UserWarning: To output multiple subplots, the figure containing the passed axes is being cleared.\n",
      "  ccd_visit_table.plot.hist(column=[\"nightObs\"], by=\"band\", bins=200,grid=True,ax=ax,legend=False)\n"
     ]
    },
    {
     "data": {
      "image/png": "[encoded data removed]",
      "text/plain": [
       "<Figure size 1600x800 with 3 Axes>"
      ]
     },
     "metadata": {},
     "output_type": "display_data"
    }
   ],
   "source": [
    "import matplotlib.ticker\n",
    "fig,ax = plt.subplots(1,1,figsize=(16,8))\n",
    "ccd_visit_table.plot.hist(column=[\"nightObs\"], by=\"band\", bins=200,grid=True,ax=ax,legend=False)\n",
    "\n",
    "\n",
    "# plot x axis as an int\n",
    "locator = matplotlib.ticker.MultipleLocator(2)\n",
    "\n",
    "plt.gca().xaxis.set_major_locator(locator)\n",
    "formatter = matplotlib.ticker.StrMethodFormatter(\"{x:.0f}\")\n",
    "plt.gca().xaxis.set_major_formatter(formatter)\n",
    "plt.gca().xaxis.set_major_locator(plt.MaxNLocator(20))\n",
    "plt.xticks(rotation=90)\n",
    "\n",
    "plt.suptitle(suptitle)\n",
    "plt.tight_layout()"
   ]
  },
  {
   "cell_type": "code",
   "execution_count": 48,
   "id": "52be9306-19dc-4bd8-8a1d-63ef82ad2bb4",
   "metadata": {
    "execution": {
     "iopub.execute_input": "2024-01-10T21:14:55.734546Z",
     "iopub.status.busy": "2024-01-10T21:14:55.734414Z",
     "iopub.status.idle": "2024-01-10T21:14:55.740543Z",
     "shell.execute_reply": "2024-01-10T21:14:55.740205Z",
     "shell.execute_reply.started": "2024-01-10T21:14:55.734534Z"
    }
   },
   "outputs": [
    {
     "data": {
      "text/plain": [
       "nightObs  band\n",
       "20230511  g        52\n",
       "          i        54\n",
       "          r        54\n",
       "20230523  g        13\n",
       "          i        13\n",
       "          r        14\n",
       "20230524  g        19\n",
       "          i        20\n",
       "          r        19\n",
       "20230704  g        17\n",
       "          i        18\n",
       "          r        18\n",
       "20230705  g        21\n",
       "          i        29\n",
       "          r        26\n",
       "20230706  g        51\n",
       "          i        69\n",
       "          r        63\n",
       "20230718  g        23\n",
       "          i        27\n",
       "          r        27\n",
       "20230720  g        24\n",
       "          i        31\n",
       "          r        24\n",
       "20230801  g        14\n",
       "          i        12\n",
       "          r        13\n",
       "20230802  g        22\n",
       "          i        15\n",
       "          r        18\n",
       "20230803  g       112\n",
       "          i       108\n",
       "          r       114\n",
       "20230815  g         1\n",
       "          i         4\n",
       "          r         3\n",
       "20230816  g         4\n",
       "          i         4\n",
       "          r         4\n",
       "20230817  g        26\n",
       "          i        28\n",
       "          r        32\n",
       "20230829  g        50\n",
       "          i        50\n",
       "          r        50\n",
       "20230914  r        32\n",
       "20230927  g         5\n",
       "          r         5\n",
       "20230928  g        27\n",
       "          r        30\n",
       "20231010  g        33\n",
       "          r        36\n",
       "20231011  g         2\n",
       "          r         2\n",
       "20231107  g         6\n",
       "          i        11\n",
       "          r         9\n",
       "20231108  g        13\n",
       "          i        16\n",
       "          r        18\n",
       "Name: countVisitperBandperNight, dtype: int64"
      ]
     },
     "execution_count": 48,
     "metadata": {},
     "output_type": "execute_result"
    }
   ],
   "source": [
    "ccd_visit_table_counts_byband = ccd_visit_table.groupby(['nightObs','band']).count()[\"visitId\"]\n",
    "ccd_visit_table_counts_byband.name = \"countVisitperBandperNight\" \n",
    "ccd_visit_table_counts_byband"
   ]
  },
  {
   "cell_type": "code",
   "execution_count": 49,
   "id": "1d11fa49-43b3-48d6-9a9e-bf3a65949d99",
   "metadata": {
    "execution": {
     "iopub.execute_input": "2024-01-10T21:14:55.741181Z",
     "iopub.status.busy": "2024-01-10T21:14:55.741055Z",
     "iopub.status.idle": "2024-01-10T21:14:55.745712Z",
     "shell.execute_reply": "2024-01-10T21:14:55.745376Z",
     "shell.execute_reply.started": "2024-01-10T21:14:55.741169Z"
    }
   },
   "outputs": [
    {
     "data": {
      "text/plain": [
       "nightObs\n",
       "20230511    160\n",
       "20230523     40\n",
       "20230524     58\n",
       "20230704     53\n",
       "20230705     76\n",
       "20230706    183\n",
       "20230718     77\n",
       "20230720     79\n",
       "20230801     39\n",
       "20230802     55\n",
       "20230803    334\n",
       "20230815      8\n",
       "20230816     12\n",
       "20230817     86\n",
       "20230829    150\n",
       "20230914     32\n",
       "20230927     10\n",
       "20230928     57\n",
       "20231010     69\n",
       "20231011      4\n",
       "20231107     26\n",
       "20231108     47\n",
       "Name: countVisitperNight, dtype: int64"
      ]
     },
     "execution_count": 49,
     "metadata": {},
     "output_type": "execute_result"
    }
   ],
   "source": [
    "ccd_visit_table_counts = ccd_visit_table.groupby(['nightObs']).count()[\"visitId\"]\n",
    "ccd_visit_table_counts.name = \"countVisitperNight\" \n",
    "ccd_visit_table_counts"
   ]
  },
  {
   "cell_type": "markdown",
   "id": "4694d52f-b86c-4895-b633-d78cfb9ef62b",
   "metadata": {},
   "source": [
    "## Loop on all nights"
   ]
  },
  {
   "cell_type": "code",
   "execution_count": 50,
   "id": "8c4b93e8-eaa8-4706-819e-5f108bf6be08",
   "metadata": {
    "execution": {
     "iopub.execute_input": "2024-01-10T21:14:55.746291Z",
     "iopub.status.busy": "2024-01-10T21:14:55.746172Z",
     "iopub.status.idle": "2024-01-10T21:14:56.296499Z",
     "shell.execute_reply": "2024-01-10T21:14:56.296108Z",
     "shell.execute_reply.started": "2024-01-10T21:14:55.746280Z"
    }
   },
   "outputs": [
    {
     "data": {
      "image/png": "[encoded data removed]",
      "text/plain": [
       "<Figure size 1600x1000 with 2 Axes>"
      ]
     },
     "metadata": {},
     "output_type": "display_data"
    },
    {
     "data": {
      "image/png": "[encoded data removed]",
      "text/plain": [
       "<Figure size 600x600 with 1 Axes>"
      ]
     },
     "metadata": {},
     "output_type": "display_data"
    }
   ],
   "source": [
    "all_night_obs = ccd_visit_table['nightObs'].unique()\n",
    "all_night_obs = [20230803]\n",
    "for nightObs_selected in all_night_obs:\n",
    "    ccd_visit_table_nightsel = ccd_visit_table[ccd_visit_table.nightObs == nightObs_selected]\n",
    "    ccd_visit_table_nightselcount_byband = ccd_visit_table_nightsel.groupby(['band']).count()[\"visitId\"]\n",
    "    ccd_visit_table_nightselcountsum = ccd_visit_table_nightselcount_byband.sum() \n",
    "    df = ccd_visit_table_nightsel\n",
    "\n",
    "    fig,(ax1,ax2) = plt.subplots(2,1,figsize=(16,10))\n",
    "    df[df[\"band\"]==\"g\"].plot(x=\"Time\",y=\"zeroPoint\",marker='o',c=\"g\",lw=0.0,ax=ax1,grid=True,legend=\"auxtel g filter\")\n",
    "    df[df[\"band\"]==\"r\"].plot(x=\"Time\",y=\"zeroPoint\",marker='o',c=\"r\",lw=0.0,ax=ax1,grid=True,legend=\"auxtel r filter\")\n",
    "    df[df[\"band\"]==\"i\"].plot(x=\"Time\",y=\"zeroPoint\",marker='o',c=\"k\",lw=0.0,ax=ax1,grid=True,legend=\"auxtel i filter\")\n",
    "    ax1.set_title(\"zeroPoint\")\n",
    "\n",
    "    df[df[\"band\"]==\"g\"].plot(x=\"Time\",y=\"airmass\",marker='o',c=\"g\",lw=0.0,ax=ax2,grid=True,legend=False)\n",
    "    df[df[\"band\"]==\"r\"].plot(x=\"Time\",y=\"airmass\",marker='o',c=\"r\",lw=0.0,ax=ax2,grid=True,legend=False)\n",
    "    df[df[\"band\"]==\"i\"].plot(x=\"Time\",y=\"airmass\",marker='o',c=\"k\",lw=0.0,ax=ax2,grid=True,legend=False)\n",
    "    ax2.set_title(\"airmass\")\n",
    "    plt.suptitle(suptitle + f\" night {nightObs_selected}\",y=1.0,fontsize=16)\n",
    "    plt.tight_layout()\n",
    "    plt.show()\n",
    "\n",
    "    fig,ax = plt.subplots(1,1,figsize=(6,6))\n",
    "\n",
    "    df[df[\"band\"]==\"g\"].plot.scatter(x=\"airmass\",y=\"zeroPoint\",marker='o',c=\"g\",lw=0.0,ax=ax,grid=True,legend=\"auxtel g filter\")\n",
    "    df[df[\"band\"]==\"r\"].plot(x=\"airmass\",y=\"zeroPoint\",marker='o',c=\"r\",lw=0.0,ax=ax,grid=True,legend=\"auxtel r filter\")\n",
    "    df[df[\"band\"]==\"i\"].plot(x=\"airmass\",y=\"zeroPoint\",marker='o',c=\"k\",lw=0.0,ax=ax,grid=True,legend=\"auxtel i filter\")\n",
    "    ax.set_title(\"zero point vs airmass\")\n",
    "\n",
    "    #  # np.array([-0.17429742,-0.39848897,-0.38915855 ])\n",
    "    ax.plot(all_am,pc.allcollperfilter['g']['ZPT_nonstd']-0.17429742,'-.g',label=\"simul filter g\")\n",
    "    ax.plot(all_am,pc.allcollperfilter['r']['ZPT_nonstd']-0.39848897,'-.r',label=\"simul filter r\")\n",
    "    ax.plot(all_am,pc.allcollperfilter['i']['ZPT_nonstd']-0.38915855,'-.k',label=\"simul filter i\")\n",
    "    ax.legend()\n",
    "\n",
    "    plt.suptitle(f\" night {nightObs_selected}\",y=1.0,fontsize=16)\n",
    "    plt.tight_layout()\n",
    "    plt.show()\n",
    "\n"
   ]
  },
  {
   "cell_type": "code",
   "execution_count": 51,
   "id": "81d05a0c-37ea-4141-b168-28393dd4dc3b",
   "metadata": {
    "execution": {
     "iopub.execute_input": "2024-01-10T21:14:56.297197Z",
     "iopub.status.busy": "2024-01-10T21:14:56.297071Z",
     "iopub.status.idle": "2024-01-10T21:14:56.368310Z",
     "shell.execute_reply": "2024-01-10T21:14:56.367978Z",
     "shell.execute_reply.started": "2024-01-10T21:14:56.297186Z"
    }
   },
   "outputs": [
    {
     "data": {
      "text/plain": [
       "[<matplotlib.lines.Line2D at 0x7fbbe9b8f390>]"
      ]
     },
     "execution_count": 51,
     "metadata": {},
     "output_type": "execute_result"
    },
    {
     "data": {
      "image/png": "[encoded data removed]",
      "text/plain": [
       "<Figure size 400x300 with 1 Axes>"
      ]
     },
     "metadata": {},
     "output_type": "display_data"
    }
   ],
   "source": [
    "plt.plot(all_am,pc.allcollperfilter['g']['ZPT_nonstd'],'-.g',label=\"simul filter g\")"
   ]
  },
  {
   "cell_type": "markdown",
   "id": "b1237be2-1d99-4cc6-b2a3-aba9d8fadcd6",
   "metadata": {},
   "source": [
    "## Derive the polynom of the models"
   ]
  },
  {
   "cell_type": "code",
   "execution_count": 52,
   "id": "ab6231f9-b107-4dbf-b8d2-08cc93f3687d",
   "metadata": {
    "execution": {
     "iopub.execute_input": "2024-01-10T21:14:56.368921Z",
     "iopub.status.busy": "2024-01-10T21:14:56.368792Z",
     "iopub.status.idle": "2024-01-10T21:14:56.371382Z",
     "shell.execute_reply": "2024-01-10T21:14:56.371049Z",
     "shell.execute_reply.started": "2024-01-10T21:14:56.368910Z"
    }
   },
   "outputs": [],
   "source": [
    "Z_g = np.polyfit(all_am,pc.allcollperfilter['g']['ZPT_nonstd'], 1)"
   ]
  },
  {
   "cell_type": "code",
   "execution_count": 53,
   "id": "7105cee6-2300-47f2-b203-6c26aee726a6",
   "metadata": {
    "execution": {
     "iopub.execute_input": "2024-01-10T21:14:56.371939Z",
     "iopub.status.busy": "2024-01-10T21:14:56.371816Z",
     "iopub.status.idle": "2024-01-10T21:14:56.375524Z",
     "shell.execute_reply": "2024-01-10T21:14:56.375198Z",
     "shell.execute_reply.started": "2024-01-10T21:14:56.371928Z"
    }
   },
   "outputs": [],
   "source": [
    "Z_r = np.polyfit(all_am,pc.allcollperfilter['r']['ZPT_nonstd'], 1)"
   ]
  },
  {
   "cell_type": "code",
   "execution_count": 54,
   "id": "55575690-0825-457b-be88-7128d572abfa",
   "metadata": {
    "execution": {
     "iopub.execute_input": "2024-01-10T21:14:56.376109Z",
     "iopub.status.busy": "2024-01-10T21:14:56.375995Z",
     "iopub.status.idle": "2024-01-10T21:14:56.380194Z",
     "shell.execute_reply": "2024-01-10T21:14:56.379874Z",
     "shell.execute_reply.started": "2024-01-10T21:14:56.376099Z"
    }
   },
   "outputs": [],
   "source": [
    "Z_i = np.polyfit(all_am,pc.allcollperfilter['i']['ZPT_nonstd'], 1)"
   ]
  },
  {
   "cell_type": "code",
   "execution_count": 55,
   "id": "b593cd6e-43bc-4003-8845-7d5e7c661ed6",
   "metadata": {
    "execution": {
     "iopub.execute_input": "2024-01-10T21:14:56.380763Z",
     "iopub.status.busy": "2024-01-10T21:14:56.380647Z",
     "iopub.status.idle": "2024-01-10T21:14:56.384188Z",
     "shell.execute_reply": "2024-01-10T21:14:56.383863Z",
     "shell.execute_reply.started": "2024-01-10T21:14:56.380752Z"
    }
   },
   "outputs": [],
   "source": [
    "pol_g = np.poly1d(Z_g)\n",
    "pol_r = np.poly1d(Z_r)\n",
    "pol_i = np.poly1d(Z_i)"
   ]
  },
  {
   "cell_type": "code",
   "execution_count": 57,
   "id": "2e29d54a-b6c8-4ece-8587-0b7354cc56e0",
   "metadata": {
    "execution": {
     "iopub.execute_input": "2024-01-10T21:14:56.389516Z",
     "iopub.status.busy": "2024-01-10T21:14:56.389400Z",
     "iopub.status.idle": "2024-01-10T21:14:56.391524Z",
     "shell.execute_reply": "2024-01-10T21:14:56.391196Z",
     "shell.execute_reply.started": "2024-01-10T21:14:56.389505Z"
    }
   },
   "outputs": [],
   "source": [
    "from scipy.optimize import curve_fit"
   ]
  },
  {
   "cell_type": "code",
   "execution_count": 58,
   "id": "08978025-eea1-4f3c-b2be-293505a54ea8",
   "metadata": {
    "execution": {
     "iopub.execute_input": "2024-01-10T21:14:56.392084Z",
     "iopub.status.busy": "2024-01-10T21:14:56.391970Z",
     "iopub.status.idle": "2024-01-10T21:14:56.396030Z",
     "shell.execute_reply": "2024-01-10T21:14:56.395683Z",
     "shell.execute_reply.started": "2024-01-10T21:14:56.392073Z"
    }
   },
   "outputs": [],
   "source": [
    "def func_g(x, k):\n",
    "    return pol_g(x) + k"
   ]
  },
  {
   "cell_type": "code",
   "execution_count": 59,
   "id": "3428937b-0e10-4ccb-911d-3e2eacd1a6f1",
   "metadata": {
    "execution": {
     "iopub.execute_input": "2024-01-10T21:14:56.396619Z",
     "iopub.status.busy": "2024-01-10T21:14:56.396503Z",
     "iopub.status.idle": "2024-01-10T21:14:56.399946Z",
     "shell.execute_reply": "2024-01-10T21:14:56.399602Z",
     "shell.execute_reply.started": "2024-01-10T21:14:56.396608Z"
    }
   },
   "outputs": [],
   "source": [
    "def func_r(x, k):\n",
    "    return pol_r(x) + k"
   ]
  },
  {
   "cell_type": "code",
   "execution_count": 60,
   "id": "37dd01ca-65d3-4481-b311-59cc922d36d2",
   "metadata": {
    "execution": {
     "iopub.execute_input": "2024-01-10T21:14:56.400529Z",
     "iopub.status.busy": "2024-01-10T21:14:56.400412Z",
     "iopub.status.idle": "2024-01-10T21:14:56.404138Z",
     "shell.execute_reply": "2024-01-10T21:14:56.403798Z",
     "shell.execute_reply.started": "2024-01-10T21:14:56.400518Z"
    }
   },
   "outputs": [],
   "source": [
    "def func_i(x, k):\n",
    "    return pol_i(x) + k"
   ]
  },
  {
   "cell_type": "code",
   "execution_count": 65,
   "id": "2c73252c-ce8b-440c-8f29-2c8f0af1c19b",
   "metadata": {
    "execution": {
     "iopub.execute_input": "2024-01-10T21:45:24.876958Z",
     "iopub.status.busy": "2024-01-10T21:45:24.876681Z",
     "iopub.status.idle": "2024-01-10T21:45:24.881884Z",
     "shell.execute_reply": "2024-01-10T21:45:24.881520Z",
     "shell.execute_reply.started": "2024-01-10T21:45:24.876944Z"
    }
   },
   "outputs": [
    {
     "data": {
      "text/plain": [
       "array([-0.17429742])"
      ]
     },
     "execution_count": 65,
     "metadata": {},
     "output_type": "execute_result"
    }
   ],
   "source": [
    "Xdata_g  = df[df[\"band\"]==\"g\"][\"airmass\"].values\n",
    "Ydata_g = df[df[\"band\"]==\"g\"][\"zeroPoint\"].values\n",
    "popt_g, pcov_g = curve_fit(func_g, Xdata_g, Ydata_g)\n",
    "popt_g"
   ]
  },
  {
   "cell_type": "code",
   "execution_count": 66,
   "id": "8a2341cc-9575-4b93-bc4e-84beec4e9faf",
   "metadata": {
    "execution": {
     "iopub.execute_input": "2024-01-10T21:45:28.349338Z",
     "iopub.status.busy": "2024-01-10T21:45:28.349008Z",
     "iopub.status.idle": "2024-01-10T21:45:28.354422Z",
     "shell.execute_reply": "2024-01-10T21:45:28.354049Z",
     "shell.execute_reply.started": "2024-01-10T21:45:28.349322Z"
    }
   },
   "outputs": [
    {
     "data": {
      "text/plain": [
       "array([-0.39848897])"
      ]
     },
     "execution_count": 66,
     "metadata": {},
     "output_type": "execute_result"
    }
   ],
   "source": [
    "Xdata_r  = df[df[\"band\"]==\"r\"][\"airmass\"].values\n",
    "Ydata_r  = df[df[\"band\"]==\"r\"][\"zeroPoint\"].values\n",
    "popt_r, pcov_r = curve_fit(func_r, Xdata_r, Ydata_r)\n",
    "popt_r"
   ]
  },
  {
   "cell_type": "code",
   "execution_count": 67,
   "id": "f35b95fd-cd95-4ee3-afd6-f6f8b3d762d9",
   "metadata": {
    "execution": {
     "iopub.execute_input": "2024-01-10T21:45:31.199226Z",
     "iopub.status.busy": "2024-01-10T21:45:31.199004Z",
     "iopub.status.idle": "2024-01-10T21:45:31.204259Z",
     "shell.execute_reply": "2024-01-10T21:45:31.203886Z",
     "shell.execute_reply.started": "2024-01-10T21:45:31.199210Z"
    }
   },
   "outputs": [
    {
     "data": {
      "text/plain": [
       "array([-0.38915855])"
      ]
     },
     "execution_count": 67,
     "metadata": {},
     "output_type": "execute_result"
    }
   ],
   "source": [
    "Xdata_i  = df[df[\"band\"]==\"i\"][\"airmass\"].values\n",
    "Ydata_i  = df[df[\"band\"]==\"i\"][\"zeroPoint\"].values\n",
    "popt_i, pcov_i = curve_fit(func_i, Xdata_i, Ydata_i)\n",
    "popt_i"
   ]
  },
  {
   "cell_type": "code",
   "execution_count": 64,
   "id": "5f1f12ed-7a20-483b-8280-c14cd667f2da",
   "metadata": {
    "execution": {
     "iopub.execute_input": "2024-01-10T21:14:56.420830Z",
     "iopub.status.busy": "2024-01-10T21:14:56.420710Z",
     "iopub.status.idle": "2024-01-10T21:14:56.425015Z",
     "shell.execute_reply": "2024-01-10T21:14:56.424672Z",
     "shell.execute_reply.started": "2024-01-10T21:14:56.420819Z"
    }
   },
   "outputs": [
    {
     "data": {
      "text/plain": [
       "array([-0.17429742, -0.39848897, -0.38915855])"
      ]
     },
     "execution_count": 64,
     "metadata": {},
     "output_type": "execute_result"
    }
   ],
   "source": [
    "np.array([-0.17429742,-0.39848897,-0.38915855 ])"
   ]
  },
  {
   "cell_type": "code",
   "execution_count": 81,
   "id": "34ef7055-4b0c-4395-8546-3d0f351a9928",
   "metadata": {
    "execution": {
     "iopub.execute_input": "2024-01-10T22:01:43.476635Z",
     "iopub.status.busy": "2024-01-10T22:01:43.476325Z",
     "iopub.status.idle": "2024-01-10T22:01:43.480039Z",
     "shell.execute_reply": "2024-01-10T22:01:43.479585Z",
     "shell.execute_reply.started": "2024-01-10T22:01:43.476619Z"
    }
   },
   "outputs": [],
   "source": [
    "DeltaZP_g = (Ydata_g - func_g(Xdata_g,popt_g[0]))*1000\n",
    "DeltaZP_r = (Ydata_r - func_r(Xdata_r,popt_r[0]))*1000\n",
    "DeltaZP_i = (Ydata_i - func_i(Xdata_i,popt_i[0]))*1000\n",
    "std_g = np.std(DeltaZP_g)\n",
    "std_r = np.std(DeltaZP_r)\n",
    "std_i = np.std(DeltaZP_i)"
   ]
  },
  {
   "cell_type": "code",
   "execution_count": 94,
   "id": "283a918d-c24c-4cb3-9288-ec362d3301b0",
   "metadata": {
    "execution": {
     "iopub.execute_input": "2024-01-10T22:11:07.533896Z",
     "iopub.status.busy": "2024-01-10T22:11:07.533277Z",
     "iopub.status.idle": "2024-01-10T22:11:07.536199Z",
     "shell.execute_reply": "2024-01-10T22:11:07.535803Z",
     "shell.execute_reply.started": "2024-01-10T22:11:07.533881Z"
    }
   },
   "outputs": [],
   "source": [
    "textstr_g = r'$\\sigma=%.1f$ mmag' % (std_g, )\n",
    "textstr_r = r'$\\sigma=%.1f$ mmag' % (std_r, )\n",
    "textstr_i = r'$\\sigma=%.1f$ mmag' % (std_i, )"
   ]
  },
  {
   "cell_type": "code",
   "execution_count": 97,
   "id": "0d3febf7-04d2-413e-9b73-14a3690d4e6b",
   "metadata": {
    "execution": {
     "iopub.execute_input": "2024-01-10T22:12:41.434845Z",
     "iopub.status.busy": "2024-01-10T22:12:41.434621Z",
     "iopub.status.idle": "2024-01-10T22:12:41.852822Z",
     "shell.execute_reply": "2024-01-10T22:12:41.852425Z",
     "shell.execute_reply.started": "2024-01-10T22:12:41.434831Z"
    }
   },
   "outputs": [
    {
     "data": {
      "text/plain": [
       "Text(0.5, 1.0, ' night 20230803')"
      ]
     },
     "execution_count": 97,
     "metadata": {},
     "output_type": "execute_result"
    },
    {
     "data": {
      "image/png": "[encoded data removed]",
      "text/plain": [
       "<Figure size 1600x400 with 3 Axes>"
      ]
     },
     "metadata": {},
     "output_type": "display_data"
    }
   ],
   "source": [
    "fig,(ax1,ax2,ax3) = plt.subplots(1,3,figsize=(16,4))\n",
    "props = dict(boxstyle='round', facecolor='wheat', alpha=0.5)\n",
    "\n",
    "ax1.hist(DeltaZP_g,bins=40,range=(-50.,50.),facecolor=\"g\")\n",
    "ax1.set_title(\"$\\Delta ZP$ g filter\")\n",
    "ax1.set_xlabel(\"$m(ZP)$ mmag\")\n",
    "ax1.text(0.05, 0.95, textstr_g, transform=ax1.transAxes, fontsize=14,verticalalignment='top', bbox=props)\n",
    "ax2.hist(DeltaZP_r,bins=40,range=(-50.,50.),facecolor=\"r\")\n",
    "ax2.set_title(\"$\\Delta ZP$ r filter\")\n",
    "ax2.set_xlabel(\"$m(ZP)$ mmag\")\n",
    "ax2.text(0.05, 0.95, textstr_r, transform=ax2.transAxes, fontsize=14,verticalalignment='top', bbox=props)\n",
    "ax3.hist(DeltaZP_i,bins=40,range=(-50.,50.),facecolor=\"grey\")\n",
    "ax3.set_title(\"$\\Delta ZP$ i filter\")\n",
    "ax3.set_xlabel(\"$m(ZP)$ mmag\")\n",
    "ax3.text(0.05, 0.95, textstr_i, transform=ax3.transAxes, fontsize=14,verticalalignment='top', bbox=props)\n",
    "plt.suptitle(f\" night {nightObs_selected}\",y=1.0,fontsize=14)"
   ]
  },
  {
   "cell_type": "code",
   "execution_count": null,
   "id": "411a6cbc-b8c4-40b9-a6aa-e9a0f6ca97c2",
   "metadata": {},
   "outputs": [],
   "source": []
  }
 ],
 "metadata": {
  "kernelspec": {
   "display_name": "LSST",
   "language": "python",
   "name": "lsst"
  },
  "language_info": {
   "codemirror_mode": {
    "name": "ipython",
    "version": 3
   },
   "file_extension": ".py",
   "mimetype": "text/x-python",
   "name": "python",
   "nbconvert_exporter": "python",
   "pygments_lexer": "ipython3",
   "version": "3.11.4"
  }
 },
 "nbformat": 4,
 "nbformat_minor": 5
}
