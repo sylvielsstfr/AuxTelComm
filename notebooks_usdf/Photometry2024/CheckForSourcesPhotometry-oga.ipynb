{
 "cells": [
  {
   "cell_type": "markdown",
   "id": "0b8c2138-5194-4d03-8b77-be24e2cc8ee3",
   "metadata": {},
   "source": [
    "# Query for icSrc Sources Results in  OGA"
   ]
  },
  {
   "cell_type": "markdown",
   "id": "740e34fb-3fef-45a8-941b-c229742ab016",
   "metadata": {},
   "source": [
    " work with Weakly_2023_44\n",
    "- use jupyter kernel LSST\n",
    "\n",
    "\n",
    "- author : Sylvie Dagoret-Campagne\n",
    "- affiliation : IJCLab\n",
    "- creation date : 2023/12/20\n",
    "- update : 2023/12/20\n"
   ]
  },
  {
   "cell_type": "code",
   "execution_count": null,
   "id": "ed2c3410-fe83-432e-ab87-9f4513fa8d8b",
   "metadata": {
    "tags": []
   },
   "outputs": [],
   "source": [
    "! eups list -s | grep LOCAL"
   ]
  },
  {
   "cell_type": "code",
   "execution_count": null,
   "id": "70918d81-0cf6-4b0a-8f61-f5e5bec5b0e7",
   "metadata": {
    "tags": []
   },
   "outputs": [],
   "source": [
    "! eups list -s lsst_distrib"
   ]
  },
  {
   "cell_type": "code",
   "execution_count": null,
   "id": "f8d9cfca-5881-48c1-b2cb-0f794a2e4091",
   "metadata": {
    "tags": []
   },
   "outputs": [],
   "source": [
    "import lsst.daf.butler as dafButler\n",
    "#import lsst.summit.utils.butlerUtils as butlerUtils"
   ]
  },
  {
   "cell_type": "code",
   "execution_count": null,
   "id": "1ceacda9-20b0-4d77-a0d2-572c957ce273",
   "metadata": {
    "tags": []
   },
   "outputs": [],
   "source": [
    "import numpy as np\n",
    "import matplotlib.pyplot as plt\n",
    "%matplotlib inline\n",
    "from mpl_toolkits.axes_grid1 import make_axes_locatable\n",
    "from matplotlib.colors import LogNorm,SymLogNorm\n",
    "\n",
    "\n",
    "import matplotlib.ticker                         # here's where the formatter is\n",
    "from matplotlib.ticker import (MultipleLocator, FormatStrFormatter,\n",
    "                               AutoMinorLocator)\n",
    "\n",
    "from astropy.visualization import (MinMaxInterval, SqrtStretch,ZScaleInterval,PercentileInterval,\n",
    "                                   ImageNormalize,imshow_norm)\n",
    "from astropy.visualization.stretch import SinhStretch, LinearStretch,AsinhStretch,LogStretch\n",
    "\n",
    "from astropy.io import fits\n",
    "\n",
    "import pandas as pd\n",
    "\n",
    "import matplotlib.ticker                         # here's where the formatter is\n",
    "import os\n",
    "import re\n",
    "import pandas as pd\n",
    "\n",
    "plt.rcParams[\"figure.figsize\"] = (4,3)\n",
    "plt.rcParams[\"axes.labelsize\"] = 'xx-large'\n",
    "plt.rcParams['axes.titlesize'] = 'xx-large'\n",
    "plt.rcParams['xtick.labelsize']= 'xx-large'\n",
    "plt.rcParams['ytick.labelsize']= 'xx-large'"
   ]
  },
  {
   "cell_type": "code",
   "execution_count": null,
   "id": "34c92544-f2fd-4287-b852-e2ccb9a3b510",
   "metadata": {
    "tags": []
   },
   "outputs": [],
   "source": [
    "from matplotlib.ticker import (MultipleLocator, FormatStrFormatter,\n",
    "                               AutoMinorLocator)\n",
    "\n",
    "from astropy.visualization import (MinMaxInterval, SqrtStretch,ZScaleInterval,PercentileInterval,\n",
    "                                   ImageNormalize,imshow_norm)\n",
    "from astropy.visualization.stretch import SinhStretch, LinearStretch,AsinhStretch,LogStretch\n"
   ]
  },
  {
   "cell_type": "code",
   "execution_count": null,
   "id": "77aa5733-0a46-49eb-b26e-d3bb6195cc3d",
   "metadata": {
    "tags": []
   },
   "outputs": [],
   "source": [
    "# LSST Display\n",
    "import lsst.afw.display as afwDisplay\n",
    "afwDisplay.setDefaultBackend('matplotlib')"
   ]
  },
  {
   "cell_type": "code",
   "execution_count": null,
   "id": "b7cea198-6f3c-4a87-8877-fdf8e4d73c26",
   "metadata": {
    "tags": []
   },
   "outputs": [],
   "source": [
    "transform = AsinhStretch() + PercentileInterval(99.)"
   ]
  },
  {
   "cell_type": "code",
   "execution_count": null,
   "id": "1c81d99a-5e91-4ba1-ba4a-c66b37905b98",
   "metadata": {
    "tags": []
   },
   "outputs": [],
   "source": [
    "#repo =  \"/sdf/group/rubin/repo/main\"\n",
    "repo = \"/sdf/group/rubin/repo/oga/\"\n",
    "butler = dafButler.Butler(repo)\n",
    "registry = butler.registry"
   ]
  },
  {
   "cell_type": "markdown",
   "id": "20dbb8da-3a08-4b4f-9437-4bf7f28c1782",
   "metadata": {},
   "source": [
    "## Give the collection"
   ]
  },
  {
   "cell_type": "code",
   "execution_count": null,
   "id": "9629ea29-8ab4-4062-aed1-e16d62dc90c4",
   "metadata": {
    "tags": []
   },
   "outputs": [],
   "source": [
    "my_collection = \"LATISS/runs/AUXTEL_DRP_IMAGING_2023-11A-10A-09AB-08ABC-07AB-05AB/w_2023_46/PREOPS-4553\""
   ]
  },
  {
   "cell_type": "code",
   "execution_count": null,
   "id": "2f008879-ecc4-4b86-9b24-0641fb4301cd",
   "metadata": {
    "tags": []
   },
   "outputs": [],
   "source": [
    "#butler = butlerUtils.makeDefaultLatissButler(extraCollections=[my_collection])"
   ]
  },
  {
   "cell_type": "markdown",
   "id": "a7587b10-c178-4537-9c34-60867b69fa01",
   "metadata": {},
   "source": [
    "## Config"
   ]
  },
  {
   "cell_type": "markdown",
   "id": "98d95f5f-87e9-4084-84da-c342086d5de1",
   "metadata": {},
   "source": [
    "- icSrc_schema\n",
    "- icExp  \n",
    "- icExpBackground  \n",
    "- icSrc"
   ]
  },
  {
   "cell_type": "code",
   "execution_count": null,
   "id": "04bab5b8-349a-4a8d-a9a4-074a14fb3e28",
   "metadata": {
    "tags": []
   },
   "outputs": [],
   "source": [
    "datasetRefs = registry.queryDatasets(datasetType='icSrc_schema', collections=my_collection, where= \"instrument='LATISS'\")\n",
    "#icSrc_schema = butler.get('icSrc_schema')"
   ]
  },
  {
   "cell_type": "markdown",
   "id": "432e82a4-5617-48b3-a5bb-1f2c550c8525",
   "metadata": {},
   "source": [
    "## icExp"
   ]
  },
  {
   "cell_type": "code",
   "execution_count": null,
   "id": "38349d38-ae86-48c9-8037-370a62cd522d",
   "metadata": {
    "tags": []
   },
   "outputs": [],
   "source": [
    "datasetRefs = registry.queryDatasets(datasetType='icExp', collections=my_collection, where= \"instrument='LATISS'\")"
   ]
  },
  {
   "cell_type": "code",
   "execution_count": null,
   "id": "b62be7a7-73bf-4e4e-a4f8-99e1105dee22",
   "metadata": {
    "tags": []
   },
   "outputs": [],
   "source": [
    "all_ref_for_icSrc = []\n",
    "all_dataId = []\n",
    "all_icExp  = []\n",
    "all_exposures = []\n",
    "\n",
    "\n",
    "\n",
    "for i, ref in enumerate(datasetRefs):\n",
    "    all_ref_for_icSrc.append(ref.dataId)\n",
    "    print(\"========================datasetType = icExp ============================================\")\n",
    "    print(\"fullId..................:\",ref.dataId.full)\n",
    "    print(\"visit...................:\",ref.dataId[\"visit\"])\n",
    "    print(\"band....................:\",ref.dataId[\"band\"])\n",
    "    print(\"physical filter.........:\",ref.dataId[\"physical_filter\"])\n",
    "    print(\"run.....................:\",ref.run)\n",
    "    the_exposure = ref.dataId[\"visit\"]\n",
    "    the_day_obs = ref.dataId[\"visit\"]//100_000\n",
    "    the_seq_num = ref.dataId[\"visit\"]- the_day_obs*100_000    \n",
    "    the_dataId = {'day_obs': the_day_obs,'seq_num':the_seq_num,'detector':0}\n",
    "    print(the_dataId)\n",
    "    #spec       = butler.get('spectraction',the_dataId)\n",
    "    icExp = butler.get('icExp', visit=the_exposure, detector=0, collections=my_collection, instrument='LATISS')\n",
    "    all_dataId.append(the_dataId) \n",
    "    all_exposures.append(the_exposure)\n",
    "    all_icExp.append(icExp)\n",
    "    if i > 5:\n",
    "        break"
   ]
  },
  {
   "cell_type": "code",
   "execution_count": null,
   "id": "12b6af1a-fa12-4493-b7af-52782484992b",
   "metadata": {
    "tags": []
   },
   "outputs": [],
   "source": [
    "fig=plt.figure(figsize=(12,12))\n",
    "ax=fig.add_subplot(1,1,1)\n",
    "#linthresh, linscale=1.0, vmin=None, vmax=None, clip=False, *, base=10\n",
    "ax.imshow(icExp.getImage().array,origin=\"lower\",norm=SymLogNorm(linthresh=1))"
   ]
  },
  {
   "cell_type": "code",
   "execution_count": null,
   "id": "09a52d14-31c9-4487-84ea-b3423ab99daa",
   "metadata": {
    "tags": []
   },
   "outputs": [],
   "source": [
    "fig = plt.figure(figsize=(12,10))\n",
    "afw_display = afwDisplay.Display(frame=fig)\n",
    "afw_display.scale('linear', 'zscale',None)\n",
    "the_title = f\"icExp\"\n",
    "afw_display.mtv(icExp.getImage(),title=the_title)"
   ]
  },
  {
   "cell_type": "markdown",
   "id": "cb67d0da-2574-40a7-aa3f-3ba8a0d98003",
   "metadata": {},
   "source": [
    "## icExpBackground"
   ]
  },
  {
   "cell_type": "code",
   "execution_count": null,
   "id": "a07f62b4-5223-464a-a399-fc864cc7a493",
   "metadata": {
    "tags": []
   },
   "outputs": [],
   "source": [
    "datasetRefs = registry.queryDatasets(datasetType='icExpBackground', collections=my_collection, where= \"instrument='LATISS'\")"
   ]
  },
  {
   "cell_type": "code",
   "execution_count": null,
   "id": "a5e4ae55-27ab-4155-9cfe-a8ac5b014b4c",
   "metadata": {
    "tags": []
   },
   "outputs": [],
   "source": [
    "all_ref_for_icExpBg  = []\n",
    "all_dataId = []\n",
    "all_icExpBg  = []\n",
    "all_exposures = []\n",
    "\n",
    "\n",
    "\n",
    "for i, ref in enumerate(datasetRefs):\n",
    "    all_ref_for_icSrc.append(ref.dataId)\n",
    "    print(\"========================datasetType = icExpBackground ============================================\")\n",
    "    print(\"fullId..................:\",ref.dataId.full)\n",
    "    print(\"visit...................:\",ref.dataId[\"visit\"])\n",
    "    print(\"band....................:\",ref.dataId[\"band\"])\n",
    "    print(\"physical filter.........:\",ref.dataId[\"physical_filter\"])\n",
    "    print(\"run.....................:\",ref.run)\n",
    "    the_exposure = ref.dataId[\"visit\"]\n",
    "    the_day_obs = ref.dataId[\"visit\"]//100_000\n",
    "    the_seq_num = ref.dataId[\"visit\"]- the_day_obs*100_000    \n",
    "    the_dataId = {'day_obs': the_day_obs,'seq_num':the_seq_num,'detector':0}\n",
    "    print(the_dataId)\n",
    "    #spec       = butler.get('spectraction',the_dataId)\n",
    "    icExpBg = butler.get('icExpBackground', visit=the_exposure, detector=0, collections=my_collection, instrument='LATISS')\n",
    "    all_ref_for_icExpBg.append(icExpBg) \n",
    "    all_dataId.append(the_dataId) \n",
    "    all_exposures.append(the_exposure)\n",
    "    all_icExpBg.append(icExpBg)\n",
    "    if i > 5:\n",
    "        break"
   ]
  },
  {
   "cell_type": "code",
   "execution_count": null,
   "id": "0a236702-7282-409f-84f0-0e912ad8c488",
   "metadata": {
    "tags": []
   },
   "outputs": [],
   "source": [
    "plt.imshow(icExpBg.getImage().array,origin=\"lower\")"
   ]
  },
  {
   "cell_type": "code",
   "execution_count": null,
   "id": "5398f81b-325f-4496-a8a8-0fa0702097ef",
   "metadata": {
    "tags": []
   },
   "outputs": [],
   "source": [
    "ig = plt.figure(figsize=(12,10))\n",
    "afw_display = afwDisplay.Display(frame=fig)\n",
    "afw_display.scale('linear', 'zscale',None)\n",
    "the_title = f\"icExpBg\"\n",
    "afw_display.mtv(icExpBg.getImage(),title=the_title)"
   ]
  },
  {
   "cell_type": "markdown",
   "id": "910b1de4-8732-495f-8e3e-9c4a21e163e6",
   "metadata": {},
   "source": [
    "## icSrc"
   ]
  },
  {
   "cell_type": "code",
   "execution_count": null,
   "id": "94218591-da24-4d46-bf34-cf57c2855176",
   "metadata": {
    "tags": []
   },
   "outputs": [],
   "source": [
    "datasetRefs = registry.queryDatasets(datasetType='icSrc', collections=my_collection, where= \"instrument='LATISS'\")"
   ]
  },
  {
   "cell_type": "code",
   "execution_count": null,
   "id": "67c31f24-d228-4cc4-971b-2ca3a87f5c4d",
   "metadata": {
    "tags": []
   },
   "outputs": [],
   "source": [
    "datasetRefs.any() "
   ]
  },
  {
   "cell_type": "code",
   "execution_count": null,
   "id": "979b03d5-e54c-4d21-a848-98b820df1d16",
   "metadata": {
    "tags": []
   },
   "outputs": [],
   "source": [
    "all_ref_for_icSrc = []\n",
    "all_dataId = []\n",
    "all_icSrc = []\n",
    "all_exposures = []\n",
    "\n",
    "\n",
    "\n",
    "for i, ref in enumerate(datasetRefs):\n",
    "    all_ref_for_icSrc.append(ref.dataId)\n",
    "    print(\"========================datasetType = icSrc ============================================\")\n",
    "    print(\"fullId..................:\",ref.dataId.full)\n",
    "    print(\"visit...................:\",ref.dataId[\"visit\"])\n",
    "    print(\"band....................:\",ref.dataId[\"band\"])\n",
    "    print(\"physical filter.........:\",ref.dataId[\"physical_filter\"])\n",
    "    print(\"run.....................:\",ref.run)\n",
    "    the_exposure = ref.dataId[\"visit\"]\n",
    "    the_day_obs = ref.dataId[\"visit\"]//100_000\n",
    "    the_seq_num = ref.dataId[\"visit\"]- the_day_obs*100_000    \n",
    "    the_dataId = {'day_obs': the_day_obs,'seq_num':the_seq_num,'detector':0}\n",
    "    print(the_dataId)\n",
    "    #spec       = butler.get('spectraction',the_dataId)\n",
    "    icSrc = butler.get('icSrc', visit=the_exposure, detector=0, collections=my_collection, instrument='LATISS')\n",
    "    all_ref_for_icSrc.append(icSrc) \n",
    "    all_dataId.append(the_dataId) \n",
    "    all_exposures.append(the_exposure)\n",
    "    all_icSrc.append(icSrc)\n",
    "    if i > 5:\n",
    "        break"
   ]
  },
  {
   "cell_type": "code",
   "execution_count": null,
   "id": "76d2e78b-c45a-481b-a967-f25f746cf710",
   "metadata": {
    "tags": []
   },
   "outputs": [],
   "source": [
    "table_sources = icSrc.asAstropy()\n",
    "table_sources"
   ]
  },
  {
   "cell_type": "markdown",
   "id": "037fe23e-880f-464f-8a4e-359ba0e6b9b8",
   "metadata": {},
   "source": [
    "## src"
   ]
  },
  {
   "cell_type": "code",
   "execution_count": null,
   "id": "90c0d938-89f4-46cd-95e6-3babbf82ba6c",
   "metadata": {
    "tags": []
   },
   "outputs": [],
   "source": [
    "datasetRefs = butler.registry.queryDatasets(datasetType='src', collections=my_collection, where= \"instrument='LATISS'\")"
   ]
  },
  {
   "cell_type": "code",
   "execution_count": null,
   "id": "f91eca9e-0bfa-46d7-a981-fd83000c0489",
   "metadata": {
    "tags": []
   },
   "outputs": [],
   "source": [
    "all_ref_for_src = []\n",
    "all_dataId = []\n",
    "all_src = []\n",
    "all_exposures = []\n",
    "\n",
    "for i, ref in enumerate(datasetRefs):\n",
    "    all_ref_for_src.append(ref.dataId)\n",
    "    print(\"========================datasetType = src ============================================\")\n",
    "    print(\"fullId..................:\",ref.dataId.full)\n",
    "    print(\"visit...................:\",ref.dataId[\"visit\"])\n",
    "    print(\"band....................:\",ref.dataId[\"band\"])\n",
    "    print(\"physical filter.........:\",ref.dataId[\"physical_filter\"])\n",
    "    print(\"run.....................:\",ref.run)\n",
    "    the_exposure = ref.dataId[\"visit\"]\n",
    "    the_day_obs = ref.dataId[\"visit\"]//100_000\n",
    "    the_seq_num = ref.dataId[\"visit\"]- the_day_obs*100_000    \n",
    "    the_dataId = {'day_obs': the_day_obs,'seq_num':the_seq_num,'detector':0}\n",
    "    print(the_dataId)\n",
    "    #spec       = butler.get('spectraction',the_dataId)\n",
    "    src = butler.get('src', visit=the_exposure, detector=0, collections=my_collection, instrument='LATISS')\n",
    "    all_ref_for_src.append(src) \n",
    "    all_dataId.append(the_dataId) \n",
    "    all_exposures.append(the_exposure)\n",
    "    all_src.append(src)\n",
    "    if i > 5:\n",
    "        break"
   ]
  },
  {
   "cell_type": "code",
   "execution_count": null,
   "id": "bb1a7605-6f8a-4a19-a5ef-f6869c9d6138",
   "metadata": {
    "tags": []
   },
   "outputs": [],
   "source": [
    "datasetRefs.any()"
   ]
  },
  {
   "cell_type": "markdown",
   "id": "a72c2c07-ff40-49d9-a36d-5277cbbc5cec",
   "metadata": {},
   "source": [
    "# Sources"
   ]
  },
  {
   "cell_type": "code",
   "execution_count": null,
   "id": "c2bca87f-8b3a-44ee-afa5-5b8e0b8f9b9d",
   "metadata": {
    "tags": []
   },
   "outputs": [],
   "source": [
    "datasetRefs = butler.registry.queryDatasets(datasetType='sourceTable', collections=my_collection, where= \"instrument='LATISS'\")"
   ]
  },
  {
   "cell_type": "code",
   "execution_count": null,
   "id": "a01bb1b1-a2fe-4060-85ff-fb9e9c5dbb74",
   "metadata": {
    "tags": []
   },
   "outputs": [],
   "source": [
    "all_ref_for_src = []\n",
    "all_dataId = []\n",
    "all_src = []\n",
    "all_exposures = []\n",
    "all_sourcesTables = []\n",
    "\n",
    "for i, ref in enumerate(datasetRefs):\n",
    "    all_ref_for_src.append(ref.dataId)\n",
    "    print(\"========================datasetType = sourceTable ============================================\")\n",
    "    print(\"fullId..................:\",ref.dataId.full)\n",
    "    print(\"visit...................:\",ref.dataId[\"visit\"])\n",
    "    print(\"band....................:\",ref.dataId[\"band\"])\n",
    "    print(\"physical filter.........:\",ref.dataId[\"physical_filter\"])\n",
    "    print(\"run.....................:\",ref.run)\n",
    "    the_visit = ref.dataId[\"visit\"]\n",
    "    the_day_obs = ref.dataId[\"visit\"]//100_000\n",
    "    the_seq_num = ref.dataId[\"visit\"]- the_day_obs*100_000    \n",
    "    the_dataId = {'day_obs': the_day_obs,'seq_num':the_seq_num,'detector':0,}\n",
    "    print(the_dataId)\n",
    "    tab       = butler.get(ref,collections=my_collection)\n",
    "    all_sourcesTables.append(tab) \n",
    "    #src = butler.get('source', visit=the_exposure, detector=0, collections=my_collection, instrument='LATISS')\n",
    "    #all_ref_for_src.append(src) \n",
    "    all_dataId.append(the_dataId) \n",
    "    all_exposures.append(the_exposure)\n",
    "    \n",
    "    #if i > 5:\n",
    "    #    break"
   ]
  },
  {
   "cell_type": "code",
   "execution_count": null,
   "id": "0f3b8830-40ce-47fa-8f61-dc4477240dbe",
   "metadata": {},
   "outputs": [],
   "source": []
  },
  {
   "cell_type": "code",
   "execution_count": null,
   "id": "adb1ca46-bde5-4db5-b8bb-2b53dce29366",
   "metadata": {
    "tags": []
   },
   "outputs": [],
   "source": [
    "all_sourcesTables[0]"
   ]
  },
  {
   "cell_type": "code",
   "execution_count": null,
   "id": "e7f78d4d-fc1e-4cde-8233-b33c12316064",
   "metadata": {
    "tags": []
   },
   "outputs": [],
   "source": [
    "print(all_sourcesTables[0].columns)\n",
    "column_names = list(all_sourcesTables[0].columns.values)"
   ]
  },
  {
   "cell_type": "code",
   "execution_count": null,
   "id": "8cb0f273-8774-4646-b7fc-e2316baf11de",
   "metadata": {},
   "outputs": [],
   "source": [
    "column_names"
   ]
  },
  {
   "cell_type": "code",
   "execution_count": null,
   "id": "f017d5ed-a698-49f7-862d-e13f74253844",
   "metadata": {},
   "outputs": [],
   "source": [
    "all_sourcesTables[1]"
   ]
  },
  {
   "cell_type": "code",
   "execution_count": null,
   "id": "22c9f071-58c2-4835-9047-c6db23c6349e",
   "metadata": {
    "tags": []
   },
   "outputs": [],
   "source": [
    "len(all_sourcesTables[2])"
   ]
  },
  {
   "cell_type": "markdown",
   "id": "c0d2be45-46c7-473a-b7f2-b8d036742152",
   "metadata": {},
   "source": [
    "# srcMatch"
   ]
  },
  {
   "cell_type": "code",
   "execution_count": null,
   "id": "ec0a38fb-b3b3-4eee-a13e-cbcce1a7a094",
   "metadata": {},
   "outputs": [],
   "source": [
    "datasetRefs = butler.registry.queryDatasets(datasetType='srcMatch', collections=my_collection, where= \"instrument='LATISS'\")"
   ]
  },
  {
   "cell_type": "code",
   "execution_count": null,
   "id": "05652e44-0e8a-4b53-a96d-926478fcaccf",
   "metadata": {},
   "outputs": [],
   "source": [
    "all_ref_for_src = []\n",
    "all_dataId = []\n",
    "all_srcMatch = []\n",
    "all_exposures = []\n",
    "\n",
    "for i, ref in enumerate(datasetRefs):\n",
    "    all_ref_for_src.append(ref.dataId)\n",
    "    print(\"========================datasetType = srcMatch ============================================\")\n",
    "    print(\"fullId..................:\",ref.dataId.full)\n",
    "    print(\"visit...................:\",ref.dataId[\"visit\"])\n",
    "    print(\"band....................:\",ref.dataId[\"band\"])\n",
    "    print(\"physical filter.........:\",ref.dataId[\"physical_filter\"])\n",
    "    print(\"run.....................:\",ref.run)\n",
    "    the_exposure = ref.dataId[\"visit\"]\n",
    "    the_day_obs = ref.dataId[\"visit\"]//100_000\n",
    "    the_seq_num = ref.dataId[\"visit\"]- the_day_obs*100_000    \n",
    "    the_dataId = {'day_obs': the_day_obs,'seq_num':the_seq_num,'detector':0}\n",
    "    print(the_dataId)\n",
    "    #spec       = butler.get('spectraction',the_dataId)\n",
    "    srcm = butler.get('srcMatch', visit=the_exposure, detector=0, collections=my_collection, instrument='LATISS')\n",
    "    all_ref_for_src.append(src) \n",
    "    all_dataId.append(the_dataId) \n",
    "    all_exposures.append(the_exposure)\n",
    "    all_srcMatch.append(srcm)\n",
    "    if i > 5:\n",
    "        break"
   ]
  },
  {
   "cell_type": "code",
   "execution_count": null,
   "id": "246aa992-b8dc-4615-b3b1-fe82543b5254",
   "metadata": {},
   "outputs": [],
   "source": [
    "all_srcMatch[0]"
   ]
  },
  {
   "cell_type": "markdown",
   "id": "6c8f63d5-079b-49bd-baea-418041f4fa44",
   "metadata": {
    "execution": {
     "iopub.execute_input": "2023-01-20T10:45:10.846727Z",
     "iopub.status.busy": "2023-01-20T10:45:10.846279Z",
     "iopub.status.idle": "2023-01-20T10:45:10.962829Z",
     "shell.execute_reply": "2023-01-20T10:45:10.961371Z",
     "shell.execute_reply.started": "2023-01-20T10:45:10.846707Z"
    }
   },
   "source": [
    "# srcMatchFull"
   ]
  },
  {
   "cell_type": "code",
   "execution_count": null,
   "id": "8eb1cbcd-62a7-4ece-9cbd-338beba866ca",
   "metadata": {
    "tags": []
   },
   "outputs": [],
   "source": [
    "datasetRefs = butler.registry.queryDatasets(datasetType='srcMatchFull', collections=my_collection, where= \"instrument='LATISS'\")"
   ]
  },
  {
   "cell_type": "code",
   "execution_count": null,
   "id": "1231f2fa-d335-4e93-9f5d-4358a5a8e3eb",
   "metadata": {},
   "outputs": [],
   "source": [
    "all_ref_for_src = []\n",
    "all_dataId = []\n",
    "all_srcMatchF = []\n",
    "all_exposures = []\n",
    "\n",
    "for i, ref in enumerate(datasetRefs):\n",
    "    all_ref_for_src.append(ref.dataId)\n",
    "    print(\"========================datasetType = srcMatchFull ============================================\")\n",
    "    print(\"fullId..................:\",ref.dataId.full)\n",
    "    print(\"visit...................:\",ref.dataId[\"visit\"])\n",
    "    print(\"band....................:\",ref.dataId[\"band\"])\n",
    "    print(\"physical filter.........:\",ref.dataId[\"physical_filter\"])\n",
    "    print(\"run.....................:\",ref.run)\n",
    "    the_exposure = ref.dataId[\"visit\"]\n",
    "    the_day_obs = ref.dataId[\"visit\"]//100_000\n",
    "    the_seq_num = ref.dataId[\"visit\"]- the_day_obs*100_000    \n",
    "    the_dataId = {'day_obs': the_day_obs,'seq_num':the_seq_num,'detector':0}\n",
    "    print(the_dataId)\n",
    "    #spec       = butler.get('spectraction',the_dataId)\n",
    "    srcm = butler.get('srcMatch', visit=the_exposure, detector=0, collections=my_collection, instrument='LATISS')\n",
    "    all_ref_for_src.append(src) \n",
    "    all_dataId.append(the_dataId) \n",
    "    all_exposures.append(the_exposure)\n",
    "    all_srcMatchF.append(srcm)\n",
    "    if i > 5:\n",
    "        break"
   ]
  },
  {
   "cell_type": "code",
   "execution_count": null,
   "id": "659f740e-cd38-4319-ac95-619cdcbca1bc",
   "metadata": {
    "tags": []
   },
   "outputs": [],
   "source": [
    "all_srcMatchF[0]"
   ]
  },
  {
   "cell_type": "markdown",
   "id": "9b33aba1-89af-490d-a8c4-e17dbf33fcc0",
   "metadata": {},
   "source": [
    "# CharacterizeImage"
   ]
  },
  {
   "cell_type": "markdown",
   "id": "1043e6bb-cd30-4cdb-934a-4f5a44760428",
   "metadata": {},
   "source": [
    "- characterizeImage_config\n",
    "- characterizeImage_metadata\n",
    "- characterizeImage_log "
   ]
  },
  {
   "cell_type": "markdown",
   "id": "45327980-1fb7-4b41-89fd-b6dc12a663c6",
   "metadata": {},
   "source": [
    "## characterizeImage_config"
   ]
  },
  {
   "cell_type": "code",
   "execution_count": null,
   "id": "c93eef09-c02d-4722-8af2-5570b760e486",
   "metadata": {
    "tags": []
   },
   "outputs": [],
   "source": [
    "datasetRefs = registry.queryDatasets(datasetType='characterizeImage_config', collections=my_collection, where= \"instrument='LATISS'\")\n",
    "#conf = butler.get('characterizeImage_config')"
   ]
  },
  {
   "cell_type": "code",
   "execution_count": null,
   "id": "d463547b-4635-4b98-8d49-41686a9933aa",
   "metadata": {
    "tags": []
   },
   "outputs": [],
   "source": [
    "for i, ref in enumerate(datasetRefs):\n",
    "    print(\"========================datasetType = characterizeImage_config ============================================\")\n",
    "    print(\"fullId..................:\",ref.dataId.full)\n",
    "    cf = butler.get('characterizeImage_config', visit=the_exposure, detector=0, collections=my_collection, instrument='LATISS')\n",
    "    if i > 2:\n",
    "        break"
   ]
  },
  {
   "cell_type": "code",
   "execution_count": null,
   "id": "37f782cd-58ad-4af5-9914-9271957e7573",
   "metadata": {
    "tags": []
   },
   "outputs": [],
   "source": [
    "cf.to_dict()"
   ]
  },
  {
   "cell_type": "markdown",
   "id": "d55664f3-ec54-4add-b3ef-77e8a9760537",
   "metadata": {},
   "source": [
    "## characterizeImage_metadata"
   ]
  },
  {
   "cell_type": "code",
   "execution_count": null,
   "id": "b942ef27-48ee-45e5-aa92-c0fabd711dd6",
   "metadata": {
    "tags": []
   },
   "outputs": [],
   "source": [
    "datasetRefs = registry.queryDatasets(datasetType='characterizeImage_metadata', collections=my_collection, where= \"instrument='LATISS'\")"
   ]
  },
  {
   "cell_type": "code",
   "execution_count": null,
   "id": "1d61f771-4651-4aae-8601-4943501d32dd",
   "metadata": {
    "tags": []
   },
   "outputs": [],
   "source": [
    "for i, ref in enumerate(datasetRefs):\n",
    "    print(\"========================datasetType = characterizeImage_metadata ============================================\")\n",
    "    print(\"fullId..................:\",ref.dataId.full)\n",
    "    print(\"visit...................:\",ref.dataId[\"visit\"])\n",
    "    print(\"band....................:\",ref.dataId[\"band\"])\n",
    "    print(\"physical filter.........:\",ref.dataId[\"physical_filter\"])\n",
    "    print(\"run.....................:\",ref.run)\n",
    "    the_exposure = ref.dataId[\"visit\"]\n",
    "    the_day_obs = ref.dataId[\"visit\"]//100_000\n",
    "    the_seq_num = ref.dataId[\"visit\"]- the_day_obs*100_000    \n",
    "    the_dataId = {'day_obs': the_day_obs,'seq_num':the_seq_num,'detector':0}\n",
    "    print(the_dataId)\n",
    "    #spec       = butler.get('spectraction',the_dataId)\n",
    "    md = butler.get('characterizeImage_metadata', visit=the_exposure, detector=0, collections=my_collection, instrument='LATISS')\n",
    "    \n",
    "    if i > 2:\n",
    "        break"
   ]
  },
  {
   "cell_type": "code",
   "execution_count": null,
   "id": "a7f83800-c321-447f-8a65-51b030276878",
   "metadata": {
    "tags": []
   },
   "outputs": [],
   "source": [
    "md"
   ]
  },
  {
   "cell_type": "code",
   "execution_count": null,
   "id": "dcc87bcc-562e-479a-883f-9fb878987a8e",
   "metadata": {
    "tags": []
   },
   "outputs": [],
   "source": [
    "md.to_dict()"
   ]
  },
  {
   "cell_type": "markdown",
   "id": "9c38e4e5-2c32-4826-99be-ff3458096476",
   "metadata": {},
   "source": [
    "## characterizeImage_log"
   ]
  },
  {
   "cell_type": "code",
   "execution_count": null,
   "id": "d477dd8f-c7a4-4b87-b5f3-8833fff759b5",
   "metadata": {
    "tags": []
   },
   "outputs": [],
   "source": [
    "datasetRefs = registry.queryDatasets(datasetType='characterizeImage_log', collections=my_collection, where= \"instrument='LATISS'\")"
   ]
  },
  {
   "cell_type": "code",
   "execution_count": null,
   "id": "41761188-4fda-4c4f-ae71-ffeb4f02b30c",
   "metadata": {
    "tags": []
   },
   "outputs": [],
   "source": [
    "for i, ref in enumerate(datasetRefs):\n",
    "    print(\"========================datasetType = characterizeImage_metadata ============================================\")\n",
    "    print(\"fullId..................:\",ref.dataId.full)\n",
    "    print(\"visit...................:\",ref.dataId[\"visit\"])\n",
    "    print(\"band....................:\",ref.dataId[\"band\"])\n",
    "    print(\"physical filter.........:\",ref.dataId[\"physical_filter\"])\n",
    "    print(\"run.....................:\",ref.run)\n",
    "    the_exposure = ref.dataId[\"visit\"]\n",
    "    the_day_obs = ref.dataId[\"visit\"]//100_000\n",
    "    the_seq_num = ref.dataId[\"visit\"]- the_day_obs*100_000    \n",
    "    the_dataId = {'day_obs': the_day_obs,'seq_num':the_seq_num,'detector':0}\n",
    "    print(the_dataId)\n",
    "    #spec       = butler.get('spectraction',the_dataId)\n",
    "    log = butler.get('characterizeImage_log', visit=the_exposure, detector=0, collections=my_collection, instrument='LATISS')\n",
    "    \n",
    "    if i > 5:\n",
    "        break"
   ]
  },
  {
   "cell_type": "code",
   "execution_count": null,
   "id": "38cb17b3-5c74-4290-a7f3-2e8f9a637c82",
   "metadata": {
    "tags": []
   },
   "outputs": [],
   "source": [
    "print(log)"
   ]
  },
  {
   "cell_type": "code",
   "execution_count": null,
   "id": "b16c42bc-abe0-4a90-abd2-d2012421b104",
   "metadata": {},
   "outputs": [],
   "source": []
  }
 ],
 "metadata": {
  "kernelspec": {
   "display_name": "LSST",
   "language": "python",
   "name": "lsst"
  },
  "language_info": {
   "codemirror_mode": {
    "name": "ipython",
    "version": 3
   },
   "file_extension": ".py",
   "mimetype": "text/x-python",
   "name": "python",
   "nbconvert_exporter": "python",
   "pygments_lexer": "ipython3",
   "version": "3.11.4"
  }
 },
 "nbformat": 4,
 "nbformat_minor": 5
}
