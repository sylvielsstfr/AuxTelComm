{
 "cells": [
  {
   "cell_type": "markdown",
   "id": "e5f85ebc-4388-4654-9bed-2c435ce91959",
   "metadata": {},
   "source": [
    "# aTools Investigation on Images adaptation for Auxtel 2024\n",
    "\n",
    "- My update 2024-03-19\n",
    "- https://github.com/lsst-dm/analysis_tools_examples\n"
   ]
  },
  {
   "cell_type": "markdown",
   "id": "351e0468-d4f5-4c9e-b3db-1263499470cc",
   "metadata": {},
   "source": [
    "Import statements that we will need later"
   ]
  },
  {
   "cell_type": "code",
   "execution_count": null,
   "id": "01f4a7f9-d12d-4bf3-85d6-fe8c6bb30ca9",
   "metadata": {
    "tags": []
   },
   "outputs": [],
   "source": [
    "import numpy as np\n",
    "import matplotlib\n",
    "import matplotlib.pyplot as plt\n",
    "from matplotlib import cm\n",
    "from mpl_toolkits.axes_grid1 import make_axes_locatable\n",
    "\n",
    "import lsst.analysis.tools\n",
    "from lsst.analysis.tools.interfaces import AnalysisTool\n",
    "from lsst.analysis.tools.actions.vector import CoaddPlotFlagSelector, SnSelector, StarSelector, LoadVector, ExtinctionCorrectedMagDiff\n",
    "from lsst.analysis.tools.actions.scalar import MedianAction, MeanAction, SigmaMadAction\n",
    "from lsst.analysis.tools.actions.plot import SkyPlot\n",
    "from lsst.analysis.tools.atools import ShapeSizeFractionalDiff\n",
    "\n",
    "import lsst.daf.butler as dafButler\n",
    "from lsst.analysis.tools.interfaces._task import _StandinPlotInfo\n",
    "%matplotlib widget"
   ]
  },
  {
   "cell_type": "markdown",
   "id": "5db4beba-3082-4754-8e70-26472f1c226c",
   "metadata": {},
   "source": [
    "Let's make a new plot and metric tool, we'll base it on the example in the getting started guide."
   ]
  },
  {
   "cell_type": "code",
   "execution_count": null,
   "id": "e2a05151-fbfa-4a4d-9ac0-9049b8ef7c2c",
   "metadata": {},
   "outputs": [],
   "source": [
    "skymap_sel = \"latiss_v1\"\n",
    "instrument_sel = \"LATISS\"\n",
    "tract_sel = 3864\n",
    "patch_sel = 237 # or 236\n",
    "band_sel = \"g\"\n",
    "table_sel = \"objectTable_tract\"\n",
    "\n",
    "# plotting range for visits\n",
    "XLIM = (122.3,122.7)\n",
    "YLIM = (-36.3,-36.05)"
   ]
  },
  {
   "cell_type": "code",
   "execution_count": null,
   "id": "3048e2e2-2489-43e0-a96d-848c548700cb",
   "metadata": {},
   "outputs": [],
   "source": [
    "#dataId = {\"skymap\": \"latiss_v1\", \"tract\": 5615, \"instrument\": \"LATISS\"}\n",
    "dataId = {\"skymap\": skymap_sel, \"tract\": tract_sel, \"instrument\": instrument_sel}\n",
    "#collections=\"LATISS/runs/AUXTEL_DRP_IMAGING_2023-11A-10A-09AB-08ABC-07AB-05AB/w_2023_46/PREOPS-4553\"\n",
    "collections = \"LATISS/runs/AUXTEL_DRP_IMAGING_20230509_20240201/w_2024_05/PREOPS-4871\"\n",
    "repo = '/sdf/group/rubin/repo/oga/'\n",
    "Butler = dafButler.Butler(repo)\n",
    "t = Butler.get(table_sel, dataId=dataId, collections=collections)"
   ]
  },
  {
   "cell_type": "code",
   "execution_count": null,
   "id": "e7296d68-d8cd-4569-a7af-d7a5cdb37222",
   "metadata": {
    "tags": []
   },
   "outputs": [],
   "source": [
    "# Add the patch and band to the dataId, we didn't need them for the objectTable_tract because it covers all patches and bands\n",
    "# However the coadds are stored by patch and band dimensions so we have to add them to the dataId\n",
    "dataId[\"band\"] = band_sel\n",
    "dataId[\"patch\"] = patch_sel"
   ]
  },
  {
   "cell_type": "code",
   "execution_count": null,
   "id": "ace3432e-86ca-45bd-b9d5-0b9077e83b12",
   "metadata": {},
   "outputs": [],
   "source": [
    "def get_corners_radec(wcs, bbox):\n",
    "    \"\"\"\n",
    "    Return the corners in RA,Dec in degrees given the WCS and bounding box for an image.\n",
    "\n",
    "    Parameters\n",
    "    ----------\n",
    "    wcs: image WCS returned by the Butler\n",
    "    bbox: bounding box returned by the Butler\n",
    "\n",
    "    Returns\n",
    "    -------\n",
    "    corners_ra, corners_dec in decimal degrees\n",
    "    \"\"\"\n",
    "\n",
    "    corners_x = [bbox.beginX, bbox.beginX, bbox.endX, bbox.endX]\n",
    "    corners_y = [bbox.beginY, bbox.endY, bbox.endY, bbox.beginY]\n",
    "    corners_ra = []\n",
    "    corners_dec = []\n",
    "    for i in range(4):\n",
    "        radec = wcs.pixelToSky(corners_x[i], corners_y[i])\n",
    "        corners_ra.append(radec.getRa().asDegrees())\n",
    "        corners_dec.append(radec.getDec().asDegrees())\n",
    "    \n",
    "    return corners_ra, corners_dec"
   ]
  },
  {
   "cell_type": "markdown",
   "id": "bda8d475-f87a-4e0d-be3a-2b37d0e476cc",
   "metadata": {},
   "source": [
    "## Deep Coadd"
   ]
  },
  {
   "cell_type": "code",
   "execution_count": null,
   "id": "b939af2c-1f5d-4320-86fc-f5a9bc7d7a76",
   "metadata": {},
   "outputs": [],
   "source": [
    "img = Butler.get(\"deepCoadd\", dataId=dataId, collections=collections)\n",
    "\n",
    "wcs = img.getWcs()\n",
    "bbox = img.getBBox()\n",
    "corners_ra, corners_dec = get_corners_radec(wcs, bbox)\n",
    "extent = [np.min(corners_ra),np.max(corners_ra),np.min(corners_dec),np.max(corners_dec)]\n",
    "\n",
    "# Display the image with a suitable scaling\n",
    "med = np.median(img.image.array.flatten())\n",
    "sigMad = 1.4826 * np.median(np.fabs(img.image.array.flatten() - med))\n",
    "vmin = med - 3 * sigMad\n",
    "vmax = med + 3 * sigMad\n",
    "fig,ax = plt.subplots(1,1,figsize=(10,10))\n",
    "im=ax.imshow(img.image.array, origin=\"lower\",vmin=vmin, vmax=vmax, cmap=\"Greys\",extent=extent)\n",
    "ax.set_aspect('equal')\n",
    "ax.grid()\n",
    "divider = make_axes_locatable(ax)\n",
    "cax = divider.append_axes(\"right\", size=\"5%\", pad=0.05)\n",
    "title = f\"deepCoadd tract = {tract_sel}, patch = {patch_sel}, band = {band_sel}\"\n",
    "ax.set_title(title)\n",
    "plt.colorbar(im, cax=cax)\n",
    "plt.suptitle(collections)\n",
    "plt.tight_layout()\n",
    "plt.show()"
   ]
  },
  {
   "cell_type": "markdown",
   "id": "b0005cfc-9669-4443-8d7f-d1d96437ebfb",
   "metadata": {},
   "source": [
    "## Deep Coadd Calexp"
   ]
  },
  {
   "cell_type": "code",
   "execution_count": null,
   "id": "5f5f74b3-a822-467b-8b5a-e803d2eceb97",
   "metadata": {
    "tags": []
   },
   "outputs": [],
   "source": [
    "img = Butler.get(\"deepCoadd_calexp\", dataId=dataId, collections=collections)\n",
    "# Display the image with a suitable scaling\n",
    "med = np.median(img.image.array.flatten())\n",
    "sigMad = 1.4826 * np.median(np.fabs(img.image.array.flatten() - med))\n",
    "vmin = med - 3 * sigMad\n",
    "vmax = med + 3 * sigMad\n",
    "fig,ax = plt.subplots(1,1,figsize=(10,10))\n",
    "im=ax.imshow(img.image.array,origin=\"lower\" ,vmin=vmin, vmax=vmax, cmap=\"Greys\",extent=extent)\n",
    "ax.set_aspect('equal')\n",
    "ax.grid()\n",
    "divider = make_axes_locatable(ax)\n",
    "cax = divider.append_axes(\"right\", size=\"5%\", pad=0.05)\n",
    "title = f\"deepCoadd_calexp tract = {tract_sel}, patch = {patch_sel}, band = {band_sel}\"\n",
    "ax.set_title(title)\n",
    "plt.colorbar(im, cax=cax)\n",
    "plt.suptitle(collections)\n",
    "plt.tight_layout()\n",
    "plt.show()"
   ]
  },
  {
   "cell_type": "code",
   "execution_count": null,
   "id": "9adcf255-dd2e-4e3a-8242-9cf59e1aeee1",
   "metadata": {
    "tags": []
   },
   "outputs": [],
   "source": [
    "def catOutline(ras, decs):\n",
    "    \"\"\"A utility function to help draw outlines of points of ra and dec\n",
    "    \n",
    "    Parameters\n",
    "    ----------\n",
    "    ras : iterable\n",
    "        The R.A. of the points\n",
    "    decs : iterable\n",
    "        The declination of the points\n",
    "        \n",
    "    Returns\n",
    "    -------\n",
    "    xMids : np.array\n",
    "        The midpoints of the bins on the x axis\n",
    "    yMids : np.array\n",
    "        The midpoints of the bins on the y axis\n",
    "    im : np.array\n",
    "        A 2D array of the number of points in each bin\n",
    "    \"\"\"\n",
    "    \n",
    "    xWalls = np.linspace(np.min(ras) - 0.1, np.max(ras) + 0.1, 101)\n",
    "    yWalls = np.linspace(np.min(decs) - 0.1, np.max(decs) + 0.1, 101)\n",
    "    \n",
    "    im, xBins, yBins = np.histogram2d(ras, decs, bins=(xWalls, yWalls))\n",
    "    xMids = 0.5*(xBins[:-1] + xBins[1:])\n",
    "    yMids = 0.5*(yBins[:-1] + yBins[1:])\n",
    "    im[im > 0] = 1\n",
    "    \n",
    "    return xMids, yMids, im\n",
    "    "
   ]
  },
  {
   "cell_type": "markdown",
   "id": "2f5b364b-cefa-4cf1-97ab-e9edb2ea067c",
   "metadata": {},
   "source": [
    "To look at the visits that went into our object table we need to first find the data that went into it. The coadds are made from the visit level calexps so we will have a look at the calexps that are available in the butler. This gives us a list of visits. Once we have the visits we can read in the tables for each visit and then use those to plot the overlaps.\n"
   ]
  },
  {
   "cell_type": "code",
   "execution_count": null,
   "id": "b2e1c731-90bc-4feb-ae5c-e42284a4c7e3",
   "metadata": {
    "tags": []
   },
   "outputs": [],
   "source": [
    "print(\"Numbers of inputCount visits:\", set(list(t[f\"{band_sel}_inputCount\"])))\n",
    "\n",
    "# Get the visit numbers that went into the coadds, we don't actually need to read in the calexps but we want to\n",
    "# get the visit numbers from their dataIds\n",
    "\n",
    "registry = Butler.registry\n",
    "refs = registry.queryDatasets(\"calexp\", collections=collections)\n",
    "visits = []\n",
    "for ref in refs:\n",
    "    if ref.dataId[\"band\"] == band_sel:\n",
    "        visits.append(ref.dataId[\"visit\"])\n",
    "\n",
    "visits = list(set(visits))\n",
    "print(\"Total number of visits:\", len(visits))\n",
    "\n",
    "\n",
    "cmap = plt.cm.get_cmap('jet', len(visits))\n",
    "colours = [matplotlib.colors.to_hex(cmap(i)) for i in range(len(visits))]\n",
    "\n",
    "# Plot the visit outlines so we can look at the overlaps \n",
    "#colours = [\"k\", \"b\", \"r\", \"g\", \"y\", \"C0\", \"C1\", \"C2\"]\n",
    "for (i, visit) in enumerate(visits):\n",
    "    dataId[\"visit\"] = visit\n",
    "    try:\n",
    "        visitTable = Butler.get(\"sourceTable_visit\", dataId=dataId, collections=collections)\n",
    "        xMids, yMids, im = catOutline(visitTable[\"coord_ra\"], visitTable[\"coord_dec\"])\n",
    "        plt.contour(xMids, yMids, im.T, 1, colors=[colours[i]])\n",
    "  \n",
    "    except Exception as inst:\n",
    "        #print(type(inst))    # the exception type\n",
    "        #print(inst.args)     # arguments stored in .args\n",
    "        #print(inst)          # __str__ allows args to be printed directly,\n",
    "        pass\n",
    "\n",
    "      \n",
    "plt.gca().invert_xaxis()\n",
    "plt.xlabel(\"R.A. / Degrees\")\n",
    "plt.ylabel(\"Dec. / Degrees\")\n",
    "plt.xlim(XLIM)\n",
    "plt.ylim(YLIM)\n",
    "plt.grid()\n",
    "plt.show()\n",
    "\n"
   ]
  },
  {
   "cell_type": "markdown",
   "id": "eb5b880d-520a-4671-92b1-abfb3b29adf5",
   "metadata": {},
   "source": [
    "The data still doesn't cover all the area that the visits covered, let's look at why.\n",
    "We'll plot the patch outlines over the input visits, we know that only four patches are in the final catalogue."
   ]
  },
  {
   "cell_type": "code",
   "execution_count": null,
   "id": "a191a7f6-71f2-41de-9909-3b009a36afee",
   "metadata": {
    "tags": []
   },
   "outputs": [],
   "source": [
    "# Take all the ras and decs from the visit catalogues\n",
    "# Is this the most efficent way to do this, probably not\n",
    "\n",
    "rasAll = []\n",
    "decsAll = []\n",
    "\n",
    "for visit in visits:\n",
    "    try:\n",
    "        dataId[\"visit\"] = visit\n",
    "        visitTable = Butler.get(\"sourceTable_visit\", dataId=dataId, collections=collections)\n",
    "        rasAll += list(visitTable[\"coord_ra\"])\n",
    "        decsAll += list(visitTable[\"coord_dec\"])\n",
    "    except Exception as inst:\n",
    "        #print(type(inst))    # the exception type\n",
    "        #print(inst.args)     # arguments stored in .args\n",
    "        #print(inst)          # __str__ allows args to be printed directly,\n",
    "        pass\n",
    "    \n",
    "xMids, yMids, im = catOutline(rasAll, decsAll)\n",
    "plt.contour(xMids, yMids, im.T, 1, colors=[\"k\"])\n",
    "    \n",
    "\n",
    "\n",
    "plt.gca().invert_xaxis()\n",
    "plt.xlabel(\"R.A. / Degrees\")\n",
    "plt.ylabel(\"Dec. / Degrees\")\n",
    "plt.xlim(XLIM)\n",
    "plt.ylim(YLIM)\n",
    "plt.show()\n"
   ]
  }
 ],
 "metadata": {
  "kernelspec": {
   "display_name": "LSST",
   "language": "python",
   "name": "lsst"
  },
  "language_info": {
   "codemirror_mode": {
    "name": "ipython",
    "version": 3
   },
   "file_extension": ".py",
   "mimetype": "text/x-python",
   "name": "python",
   "nbconvert_exporter": "python",
   "pygments_lexer": "ipython3",
   "version": "3.11.7"
  }
 },
 "nbformat": 4,
 "nbformat_minor": 5
}
