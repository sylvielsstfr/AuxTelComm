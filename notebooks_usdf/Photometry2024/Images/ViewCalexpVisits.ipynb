{
 "cells": [
  {
   "cell_type": "markdown",
   "id": "45bf4242-bfc5-4d43-88c4-a8059ae148df",
   "metadata": {},
   "source": [
    "# Visit individual Calexp from Selected visits"
   ]
  },
  {
   "cell_type": "markdown",
   "id": "01993b6e-6438-4fca-a5d5-1f9791336847",
   "metadata": {},
   "source": [
    " work with Weakly_2024_10\n",
    "- use jupyter kernel LSST\n",
    "- author : Sylvie Dagoret-Campagne\n",
    "- affiliation : IJCLab\n",
    "- creation date : 2024/03/19\n",
    "- update : 2024/03/20"
   ]
  },
  {
   "cell_type": "code",
   "execution_count": null,
   "id": "bf752b70-e6ca-4cbf-8e8c-20bf7f0d8f61",
   "metadata": {},
   "outputs": [],
   "source": [
    "import numpy as np\n",
    "import matplotlib.pyplot as plt\n",
    "%matplotlib inline\n",
    "from mpl_toolkits.axes_grid1 import make_axes_locatable\n",
    "from matplotlib.colors import LogNorm,SymLogNorm\n",
    "\n",
    "\n",
    "import matplotlib.ticker                         # here's where the formatter is\n",
    "from matplotlib.ticker import (MultipleLocator, FormatStrFormatter,\n",
    "                               AutoMinorLocator)\n",
    "\n",
    "from astropy.visualization import (MinMaxInterval, SqrtStretch,ZScaleInterval,PercentileInterval,\n",
    "                                   ImageNormalize,imshow_norm)\n",
    "from astropy.visualization.stretch import SinhStretch, LinearStretch,AsinhStretch,LogStretch\n",
    "\n",
    "from astropy.io import fits\n",
    "from astropy.wcs import WCS\n",
    "\n",
    "\n",
    "import pandas as pd\n",
    "\n",
    "import matplotlib.ticker                         # here's where the formatter is\n",
    "import os\n",
    "import re\n",
    "import pandas as pd\n",
    "import pickle\n",
    "from collections import OrderedDict\n",
    "\n",
    "plt.rcParams[\"figure.figsize\"] = (4,3)\n",
    "plt.rcParams[\"axes.labelsize\"] = 'xx-large'\n",
    "plt.rcParams['axes.titlesize'] = 'xx-large'\n",
    "plt.rcParams['xtick.labelsize']= 'xx-large'\n",
    "plt.rcParams['ytick.labelsize']= 'xx-large'"
   ]
  },
  {
   "cell_type": "code",
   "execution_count": null,
   "id": "0ca0d1e6-5f82-4c43-aaa3-8524fc2bc5ba",
   "metadata": {},
   "outputs": [],
   "source": [
    "from matplotlib.ticker import (MultipleLocator, FormatStrFormatter,\n",
    "                               AutoMinorLocator)\n",
    "\n",
    "from astropy.visualization import (MinMaxInterval, SqrtStretch,ZScaleInterval,PercentileInterval,\n",
    "                                   ImageNormalize,imshow_norm)\n",
    "from astropy.visualization.stretch import SinhStretch, LinearStretch,AsinhStretch,LogStretch\n",
    "\n",
    "from astropy.time import Time\n"
   ]
  },
  {
   "cell_type": "code",
   "execution_count": null,
   "id": "51ddfce4-9a0f-4804-bc6a-7f9138874f16",
   "metadata": {},
   "outputs": [],
   "source": [
    "import lsst.daf.butler as dafButler\n",
    "#import lsst.summit.utils.butlerUtils as butlerUtils"
   ]
  },
  {
   "cell_type": "code",
   "execution_count": null,
   "id": "34f037b5-b6a2-4f93-b86b-a6108d8a5ea7",
   "metadata": {},
   "outputs": [],
   "source": [
    "import lsst.afw.image as afwImage\n",
    "import lsst.afw.display as afwDisplay\n",
    "import lsst.afw.table as afwTable\n",
    "import lsst.geom as geom"
   ]
  },
  {
   "cell_type": "code",
   "execution_count": null,
   "id": "7f26c627-fc82-4f60-8e0a-c25657f092f9",
   "metadata": {},
   "outputs": [],
   "source": [
    "# LSST Display\n",
    "import lsst.afw.display as afwDisplay\n",
    "afwDisplay.setDefaultBackend('matplotlib')"
   ]
  },
  {
   "cell_type": "code",
   "execution_count": null,
   "id": "aba2cfa4-809a-4f1c-8e8f-9f81547e0b5e",
   "metadata": {},
   "outputs": [],
   "source": [
    "transform = AsinhStretch() + PercentileInterval(99.)"
   ]
  },
  {
   "cell_type": "markdown",
   "id": "351e0468-d4f5-4c9e-b3db-1263499470cc",
   "metadata": {},
   "source": [
    "Import statements that we will need later"
   ]
  },
  {
   "cell_type": "markdown",
   "id": "5db4beba-3082-4754-8e70-26472f1c226c",
   "metadata": {},
   "source": [
    "Let's make a new plot and metric tool, we'll base it on the example in the getting started guide."
   ]
  },
  {
   "cell_type": "code",
   "execution_count": null,
   "id": "e2a05151-fbfa-4a4d-9ac0-9049b8ef7c2c",
   "metadata": {},
   "outputs": [],
   "source": [
    "skymap_sel = \"latiss_v1\"\n",
    "instrument_sel = \"LATISS\"\n",
    "tract_sel = 3864\n",
    "patch_sel = 236 # or 236\n",
    "band_sel = \"y\"\n",
    "\n",
    "\n",
    "# plotting range for visits\n",
    "XLIM = (122.3,122.7)\n",
    "YLIM = (-36.3,-36.05)"
   ]
  },
  {
   "cell_type": "code",
   "execution_count": null,
   "id": "3048e2e2-2489-43e0-a96d-848c548700cb",
   "metadata": {},
   "outputs": [],
   "source": [
    "#dataId = {\"skymap\": \"latiss_v1\", \"tract\": 5615, \"instrument\": \"LATISS\"}\n",
    "dataId = {\"skymap\": skymap_sel, \"tract\": tract_sel, \"instrument\": instrument_sel}\n",
    "#collections=\"LATISS/runs/AUXTEL_DRP_IMAGING_2023-11A-10A-09AB-08ABC-07AB-05AB/w_2023_46/PREOPS-4553\"\n",
    "collections = \"LATISS/runs/AUXTEL_DRP_IMAGING_20230509_20240201/w_2024_05/PREOPS-4871\"\n",
    "repo = '/sdf/group/rubin/repo/oga/'\n",
    "butler = dafButler.Butler(repo)\n",
    "#t = Butler.get(table_sel, dataId=dataId, collections=collections)\n",
    "registry = butler.registry"
   ]
  },
  {
   "cell_type": "code",
   "execution_count": null,
   "id": "d87b3bde-871f-4eba-87f7-1ee1ade704c5",
   "metadata": {},
   "outputs": [],
   "source": [
    "skymap_auxtel ='latiss_v1'\n",
    "skymap = butler.get('skyMap', skymap=skymap_auxtel, collections=collections)"
   ]
  },
  {
   "cell_type": "code",
   "execution_count": null,
   "id": "217d9116-61a1-4ab3-9ba4-4cc8668956e8",
   "metadata": {},
   "outputs": [],
   "source": [
    "def get_corners_radec(wcs, bbox):\n",
    "    \"\"\"\n",
    "    Return the corners in RA,Dec in degrees given the WCS and bounding box for an image.\n",
    "\n",
    "    Parameters\n",
    "    ----------\n",
    "    wcs: image WCS returned by the Butler\n",
    "    bbox: bounding box returned by the Butler\n",
    "\n",
    "    Returns\n",
    "    -------\n",
    "    corners_ra, corners_dec in decimal degrees\n",
    "    \"\"\"\n",
    "\n",
    "    corners_x = [bbox.beginX, bbox.beginX, bbox.endX, bbox.endX]\n",
    "    corners_y = [bbox.beginY, bbox.endY, bbox.endY, bbox.beginY]\n",
    "    corners_ra = []\n",
    "    corners_dec = []\n",
    "    for i in range(4):\n",
    "        radec = wcs.pixelToSky(corners_x[i], corners_y[i])\n",
    "        corners_ra.append(radec.getRa().asDegrees())\n",
    "        corners_dec.append(radec.getDec().asDegrees())\n",
    "    \n",
    "    return corners_ra, corners_dec"
   ]
  },
  {
   "cell_type": "code",
   "execution_count": null,
   "id": "81240109-5d2e-4829-82dc-dddc9d4cda05",
   "metadata": {},
   "outputs": [],
   "source": [
    "def convert_fluxtomag(x) :\n",
    "    \"\"\"\n",
    "    The object and source catalogs store only fluxes. There are hundreds of flux-related columns, \n",
    "    and to store them also as magnitudes would be redundant, and a waste of space.\n",
    "    All flux units are nanojanskys. The AB Magnitudes Wikipedia page provides a concise resource \n",
    "    for users unfamiliar with AB magnitudes and jansky fluxes. To convert to AB magnitudes use:\n",
    "    As demonstrated in Section 2.3.2, to add columns of magnitudes after retrieving columns of flux, users can do this:\n",
    "    results_table['r_calibMag'] = -2.50 * numpy.log10(results_table['r_calibFlux']) + 31.4\n",
    "    results_table['r_cModelMag'] = -2.50 * numpy.log10(results_table['r_cModelFlux']) + 31.4\n",
    "    (from DP0 tutorial)\n",
    "    \"\"\"\n",
    "    return -2.50 * np.log10(x) + 31.4"
   ]
  },
  {
   "cell_type": "markdown",
   "id": "35b5b65f-a6ca-4e98-a54c-d72cf3f5ca89",
   "metadata": {},
   "source": [
    "## Selected visits"
   ]
  },
  {
   "cell_type": "code",
   "execution_count": null,
   "id": "817f7633-e942-4c18-aea6-687c19b5e694",
   "metadata": {},
   "outputs": [],
   "source": [
    "file_selected_visits = \"../data/202402/SelectedVisits_fall2023_tract_3864.csv\"\n",
    "\n",
    "df_myselectedvisits = pd.read_csv(file_selected_visits,index_col=0)\n",
    "\n",
    "# select the band\n",
    "cut = df_myselectedvisits.band == band_sel \n",
    "df_myselectedvisits = df_myselectedvisits[cut]\n",
    "\n",
    "my_selectedvisits = list(df_myselectedvisits.index)\n",
    "\n",
    "#move the visitid as a column not to loose it during the merge \n",
    "df_myselectedvisits.reset_index(inplace=True) "
   ]
  },
  {
   "cell_type": "code",
   "execution_count": null,
   "id": "3b514a58-c15e-446c-a1b4-587cbd6dab55",
   "metadata": {},
   "outputs": [],
   "source": [
    "df_myselectedvisits.columns"
   ]
  },
  {
   "cell_type": "code",
   "execution_count": null,
   "id": "8b665a28-1151-49aa-b819-0a41ea37d97d",
   "metadata": {},
   "outputs": [],
   "source": [
    "len(my_selectedvisits) "
   ]
  },
  {
   "cell_type": "code",
   "execution_count": null,
   "id": "f90a563f-f5cc-4ec6-8ee9-1ffb05906f51",
   "metadata": {},
   "outputs": [],
   "source": [
    "index=10\n",
    "visitId = my_selectedvisits[index]"
   ]
  },
  {
   "cell_type": "code",
   "execution_count": null,
   "id": "15c8f8b4-5404-4cc5-88c3-33b190228168",
   "metadata": {},
   "outputs": [],
   "source": [
    "datasetType = 'calexp'\n",
    "dataId = {'visit': visitId, 'instrument':instrument_sel , 'detector': 0}\n",
    "datasetRefs = registry.queryDatasets(datasetType, dataId=dataId, collections  =collections)\n",
    "\n",
    "for i, ref in enumerate(datasetRefs):\n",
    "    print(ref.dataId)\n",
    "    print(\"band:\", ref.dataId['band'])\n",
    "    band = ref.dataId['band']"
   ]
  },
  {
   "cell_type": "markdown",
   "id": "ba0a9e37-52d9-4239-ae55-9aa1853cac38",
   "metadata": {},
   "source": [
    "## Sources in Calexp"
   ]
  },
  {
   "cell_type": "code",
   "execution_count": null,
   "id": "5a6e4c1f-923b-4990-91c3-6439062a060d",
   "metadata": {},
   "outputs": [],
   "source": [
    "# Create a basic schema to use with these tasks\n",
    "schema = afwTable.SourceTable.makeMinimalSchema()\n",
    "print(schema)"
   ]
  },
  {
   "cell_type": "code",
   "execution_count": null,
   "id": "7529a5bf-fec1-457c-9399-3bd15449d24f",
   "metadata": {},
   "outputs": [],
   "source": [
    "tab = afwTable.SourceTable.make(schema)"
   ]
  },
  {
   "cell_type": "code",
   "execution_count": null,
   "id": "10a18987-dc43-49ae-b1ba-877e6394ce7c",
   "metadata": {},
   "outputs": [],
   "source": [
    "src_cat = butler.get('src', dataId= dataId, collections=collections)"
   ]
  },
  {
   "cell_type": "code",
   "execution_count": null,
   "id": "7ba1a993-1c6c-421e-a75a-19f0fb603866",
   "metadata": {},
   "outputs": [],
   "source": [
    "schema = src_cat.getSchema()\n",
    "tab = afwTable.SourceTable.make(schema)"
   ]
  },
  {
   "cell_type": "code",
   "execution_count": null,
   "id": "02fd40d9-7342-4964-a276-dccb700a1a46",
   "metadata": {},
   "outputs": [],
   "source": [
    "src_cat.asAstropy().to_pandas()"
   ]
  },
  {
   "cell_type": "markdown",
   "id": "bda8d475-f87a-4e0d-be3a-2b37d0e476cc",
   "metadata": {},
   "source": [
    "## Calexp"
   ]
  },
  {
   "cell_type": "code",
   "execution_count": null,
   "id": "b939af2c-1f5d-4320-86fc-f5a9bc7d7a76",
   "metadata": {},
   "outputs": [],
   "source": [
    "%matplotlib widget\n",
    "img = butler.get(\"calexp\", dataId=dataId, collections=collections)\n",
    "bkgd = butler.get('calexpBackground', **dataId,collections=collections)\n",
    "\n",
    "wcs = img.getWcs()\n",
    "bbox = img.getBBox()\n",
    "corners_ra, corners_dec = get_corners_radec(wcs, bbox)\n",
    "extent = [np.min(corners_ra),np.max(corners_ra),np.min(corners_dec),np.max(corners_dec)]\n",
    "\n",
    "\n",
    "# Display the image with a suitable scaling\n",
    "med = np.median(img.image.array.flatten())\n",
    "sigMad = 1.4826 * np.median(np.fabs(img.image.array.flatten() - med))\n",
    "vmin = med - 3 * sigMad\n",
    "vmax = med + 3 * sigMad\n",
    "\n",
    "fig,axs = plt.subplots(2,1,figsize=(10,16))\n",
    "ax = axs[0]\n",
    "im=ax.imshow(img.image.array, origin=\"lower\",vmin=vmin, vmax=vmax, cmap=\"Greys\",extent=extent)\n",
    "divider = make_axes_locatable(ax)\n",
    "cax = divider.append_axes(\"right\", size=\"5%\", pad=0.05)\n",
    "the_title = f\"Calexp : visit = {visitId}, band = {band}\"\n",
    "ax.set_title(the_title)\n",
    "ax.grid()\n",
    "ax.set_aspect('equal')\n",
    "plt.colorbar(im, cax=cax,ax=ax)\n",
    "\n",
    "ax2 = axs[1]\n",
    "im2=ax2.imshow(bkgd.getImage().array, origin=\"lower\", cmap=\"Greys\",extent=extent)\n",
    "divider = make_axes_locatable(ax2)\n",
    "cax2 = divider.append_axes(\"right\", size=\"5%\", pad=0.05)\n",
    "the_title2 = f\"Calexp_bkg : visit = {visitId}, band = {band}\"\n",
    "ax2.set_title(the_title2)\n",
    "ax2.grid()\n",
    "ax2.set_aspect('equal')\n",
    "plt.colorbar(im2, cax=cax2,ax=ax2)\n",
    "\n",
    "plt.suptitle(collections)\n",
    "plt.tight_layout()\n",
    "plt.show()"
   ]
  },
  {
   "cell_type": "code",
   "execution_count": null,
   "id": "6d5946a5-daba-422c-814b-8772eab753b5",
   "metadata": {},
   "outputs": [],
   "source": [
    "calexp_metadata = dict(img.getMetadata())"
   ]
  },
  {
   "cell_type": "code",
   "execution_count": null,
   "id": "74bbe404-2ed7-42fa-afd1-ef1ba4faf102",
   "metadata": {},
   "outputs": [],
   "source": [
    "calexp_metadata_keys= list(calexp_metadata.keys())\n",
    "SELECTED_KEYS = ['CCDGAIN', 'CCDNOISE', 'LSST_NUM', 'FILTBAND','FILTER' , 'DATE', 'MJD', 'IMGTYPE', 'DATE-TRG', 'MJD-TRG', 'OBSID', \n",
    "                 'DATE-BEG', 'MJD-BEG', 'DATE-END', 'MJD-END', 'GROUPID', 'RA', 'DEC', 'RASTART', 'DECSTART', 'RAEND', 'DECEND', 'ROTPA', 'ROTCOORD', 'HASTART', 'ELSTART', \n",
    "                 'AZSTART', 'AMSTART','DAYOBS', 'SEQNUM',  'BGMEAN', 'BGVAR', 'SFM_ASTROM_OFFSET_MEAN', 'SFM_ASTROM_OFFSET_STD', 'MAGZERO', 'MAGZERO_RMS', 'MAGZERO_NOBJ']\n",
    "for key in calexp_metadata_keys:\n",
    "    if key in SELECTED_KEYS:\n",
    "        print(key,calexp_metadata[key])"
   ]
  },
  {
   "cell_type": "code",
   "execution_count": null,
   "id": "bfe18917-68ee-4bc0-a54c-a515d5186497",
   "metadata": {},
   "outputs": [],
   "source": [
    "wcs = img.getWcs()\n",
    "bbox = img.getBBox()\n",
    "img.getPhotoCalib()"
   ]
  },
  {
   "cell_type": "code",
   "execution_count": null,
   "id": "b83776ad-80e0-4335-865a-734d2131a80e",
   "metadata": {},
   "outputs": [],
   "source": [
    "get_corners_radec(wcs, bbox)"
   ]
  },
  {
   "cell_type": "code",
   "execution_count": null,
   "id": "88559d56-cab7-46fa-b1a2-ef24ad5d4247",
   "metadata": {},
   "outputs": [],
   "source": [
    "fitsMd = wcs.getFitsMetadata()\n",
    "WCSfMd = WCS(fitsMd)"
   ]
  },
  {
   "cell_type": "code",
   "execution_count": null,
   "id": "062d0207-9d56-4c0e-b074-ce33aa39bf7d",
   "metadata": {},
   "outputs": [],
   "source": [
    "%matplotlib widget    \n",
    "# Plot the calexp we just retrieved\n",
    "plt.figure(figsize=(10,10))\n",
    "plt.subplot(projection= WCSfMd)\n",
    "    \n",
    "transform = AsinhStretch() + ZScaleInterval()\n",
    "scaledImage = transform(img.image.array)\n",
    "    #scaledImage = np.flipud(scaledImage)\n",
    "plt.imshow(scaledImage,origin=\"lower\",aspect='equal',cmap=\"gray\")\n",
    "plt.suptitle(the_title,fontsize=10)\n",
    "\n",
    "ax = plt.gca()\n",
    "overlay = ax.get_coords_overlay('icrs')\n",
    "overlay.grid(color='white', ls='dotted')\n",
    "#plt.tight_layout()\n",
    "plt.show()\n"
   ]
  },
  {
   "cell_type": "markdown",
   "id": "bc81d664-cbe1-4a48-ba82-66f1959a1543",
   "metadata": {},
   "source": [
    "## Footprints\n",
    "\n",
    "https://pipelines.lsst.io/modules/lsst.afw.detection/Footprint.html"
   ]
  },
  {
   "cell_type": "code",
   "execution_count": null,
   "id": "fbf899bf-e5d9-4cea-9e39-f81326edd8f3",
   "metadata": {},
   "outputs": [],
   "source": [
    "from lsst.meas.algorithms.detection import SourceDetectionTask\n",
    "sourceDetectionTask = SourceDetectionTask(schema=schema)\n",
    "result = sourceDetectionTask.run(tab, img)"
   ]
  },
  {
   "cell_type": "code",
   "execution_count": null,
   "id": "1bf76cdd-6ada-4255-8b43-b8e57db42de8",
   "metadata": {},
   "outputs": [],
   "source": [
    "# Grab the above-threshold footprints that were detected,\n",
    "#  and assign them to the variable `fps`\n",
    "fpset = result.positive\n",
    "fps = fpset.getFootprints()"
   ]
  },
  {
   "cell_type": "code",
   "execution_count": null,
   "id": "a4eadf4e-31ac-4bf2-9eb5-63c859bd5036",
   "metadata": {},
   "outputs": [],
   "source": [
    "len(fps)"
   ]
  },
  {
   "cell_type": "code",
   "execution_count": null,
   "id": "7dbc6362-7424-437a-8ac3-d135cc12836f",
   "metadata": {},
   "outputs": [],
   "source": [
    "#initial_psf_stars_footprints = butler.get(\"initial_stars_footprints_detector\", dataId=dataId, collections=collections)\n",
    "#[DatasetType('initial_psf_stars_footprints', {band, instrument, detector, physical_filter, visit}, SourceCatalog),\n",
    "# DatasetType('initial_stars_footprints_detector', {band, instrument, detector, physical_filter, visit}, SourceCatalog),\n",
    "# DatasetType('initial_psf_stars_footprints_detector', {band, instrument, detector, physical_filter, visit}, SourceCatalog)]"
   ]
  },
  {
   "cell_type": "code",
   "execution_count": null,
   "id": "7c701330-cf37-455a-bf4d-fb873ed0f715",
   "metadata": {},
   "outputs": [],
   "source": [
    "fps[:10]"
   ]
  },
  {
   "cell_type": "code",
   "execution_count": null,
   "id": "1c75f60c-6659-43c4-b341-1ac9ad72935c",
   "metadata": {},
   "outputs": [],
   "source": [
    "idx_fps = 0\n",
    "the_fps = fps[idx_fps]\n",
    "fps_centroid = the_fps.getCentroid()\n",
    "fps_peaks = the_fps.getPeaks()\n",
    "fps_npeaks = len(fps_peaks)\n",
    "fps_area = the_fps.getArea()"
   ]
  },
  {
   "cell_type": "code",
   "execution_count": null,
   "id": "f2a8aa23-15b5-46b5-8b1a-5f5d4ff4165e",
   "metadata": {},
   "outputs": [],
   "source": [
    "fps_peaks"
   ]
  },
  {
   "cell_type": "code",
   "execution_count": null,
   "id": "4ab8b648-7cb2-4363-b285-8b15cd3d093c",
   "metadata": {},
   "outputs": [],
   "source": [
    "fps_centroid[0] "
   ]
  },
  {
   "cell_type": "code",
   "execution_count": null,
   "id": "3b4b6ac0-483d-4f5f-bbe6-df3aafc6b3f5",
   "metadata": {},
   "outputs": [],
   "source": [
    "# We can get a rough view of the first source's footprint from its span\n",
    "#fps[0].getSpans()\n",
    "fps[idx_fps].isHeavy()"
   ]
  },
  {
   "cell_type": "code",
   "execution_count": null,
   "id": "6bff519d-5129-4b1f-b355-b587593b9697",
   "metadata": {},
   "outputs": [],
   "source": [
    "# Next, we make all the footprints heavy at the same time\n",
    "#  by operating on the footprint set\n",
    "fpset.makeHeavy(img.getMaskedImage())\n",
    "\n",
    "# This means we have to redefine fps:\n",
    "hfps = fpset.getFootprints()"
   ]
  },
  {
   "cell_type": "code",
   "execution_count": null,
   "id": "68cf0c93-695e-4139-a8b3-cdd39e27da83",
   "metadata": {},
   "outputs": [],
   "source": [
    "%matplotlib widget\n",
    "fig,ax = plt.subplots(1,1,figsize=(10,10))\n",
    "im = ax.imshow(fps[idx_fps].getSpans().unflatten(hfps[idx_fps].getImageArray()),cmap='gray', origin='lower')\n",
    "divider = make_axes_locatable(ax)\n",
    "cax = divider.append_axes(\"right\", size=\"5%\", pad=0.05)\n",
    "the_title = f\"footprint: fps_id = {idx_fps} ({fps_centroid[0]:.2f},{fps_centroid[1]:.2f}) , visit = {visitId}, band = {band}\"\n",
    "ax.set_title(the_title)\n",
    "ax.grid()\n",
    "ax.set_aspect('equal')\n",
    "plt.colorbar(im, cax=cax)\n",
    "plt.suptitle(collections)\n",
    "plt.tight_layout()"
   ]
  },
  {
   "cell_type": "markdown",
   "id": "a38c5572-5510-4c72-a1f9-dfcd984d82c7",
   "metadata": {},
   "source": [
    "### Choose the region with no star"
   ]
  },
  {
   "cell_type": "code",
   "execution_count": null,
   "id": "85e84e8e-86d4-4c8a-abbb-460e94b4c6cd",
   "metadata": {},
   "outputs": [],
   "source": [
    "ra0 = 122.54952\n",
    "dec0 = -36.16994"
   ]
  },
  {
   "cell_type": "code",
   "execution_count": null,
   "id": "15c99d4d-73f6-4efd-aba1-255c71b1d308",
   "metadata": {},
   "outputs": [],
   "source": [
    "ra0_deg = geom.Angle(ra0,geom.degrees)\n",
    "dec0_deg = geom.Angle(dec0,geom.degrees)"
   ]
  },
  {
   "cell_type": "code",
   "execution_count": null,
   "id": "38e557a4-12d6-4276-bdcc-97e67eb590fc",
   "metadata": {},
   "outputs": [],
   "source": [
    "spt = geom.SpherePoint(longitude = ra0_deg,latitude= dec0_deg)"
   ]
  },
  {
   "cell_type": "code",
   "execution_count": null,
   "id": "08073bf8-1e70-4746-892b-07359e3185e6",
   "metadata": {},
   "outputs": [],
   "source": [
    "pt = wcs.skyToPixel(spt)"
   ]
  },
  {
   "cell_type": "code",
   "execution_count": null,
   "id": "30d22ce1-6028-4a9c-9613-74bb0fc3e36b",
   "metadata": {},
   "outputs": [],
   "source": [
    "pt[0]"
   ]
  },
  {
   "cell_type": "code",
   "execution_count": null,
   "id": "d76ce57d-3e72-435f-82d4-9d7b097e804c",
   "metadata": {},
   "outputs": [],
   "source": [
    "xmin= pt[0]\n",
    "ymin=pt[1]\n",
    "width = 100\n",
    "height= 100\n",
    "extent = [xmin,xmin+width,ymin,ymin+height]\n",
    "\n",
    "ramin,decmin = wcs.pixelToSky(x=float(xmin), y=float(ymin))\n",
    "ramax,decmax = wcs.pixelToSky(x=float(xmin+width), y=float(ymin+height))\n",
    "\n",
    "# Define a small region for a cutout\n",
    "bbox = geom.Box2I()\n",
    "bbox.include(geom.Point2I(xmin, ymin))\n",
    "bbox.include(geom.Point2I(xmin + width, ymin + height))\n",
    "\n",
    "# An alternative way to defined the same cutout region\n",
    "# bbox = geom.Box2I(geom.Point2I(xmin, ymin), geom.Extent2I(width, height))\n",
    "\n",
    "# Generate the cutout image\n",
    "cutout = img.Factory(img, bbox, origin=afwImage.LOCAL, deep=False)"
   ]
  },
  {
   "cell_type": "code",
   "execution_count": null,
   "id": "3377b711-c0c9-42cb-9f69-ab679091d01b",
   "metadata": {},
   "outputs": [],
   "source": [
    "ramin,decmin,ramax,decmax"
   ]
  },
  {
   "cell_type": "code",
   "execution_count": null,
   "id": "44dcc086-df08-4fc6-964b-0a21d84b7a31",
   "metadata": {},
   "outputs": [],
   "source": [
    "ra0 = (ramin+ramax)/2\n",
    "dec0 = (decmin+decmax)/2"
   ]
  },
  {
   "cell_type": "code",
   "execution_count": null,
   "id": "56195768-8b76-418c-820d-72b7405deb04",
   "metadata": {},
   "outputs": [],
   "source": [
    "%matplotlib widget\n",
    "# Display the cutout and sources with afw display\n",
    "image = cutout.image\n",
    "fig,ax = plt.subplots(1,1,figsize=(8,8))\n",
    "#im=ax.imshow(image.array, origin=\"lower\",vmin=vmin, vmax=vmax, extent=extent ,cmap=\"gray\")\n",
    "im=ax.imshow(image.array, origin=\"lower\", extent=extent ,cmap=\"gray\")\n",
    "divider = make_axes_locatable(ax)\n",
    "cax = divider.append_axes(\"right\", size=\"5%\", pad=0.05)\n",
    "the_title = f\"Calexp cutout visit = {visitId}, band = {band}\"\n",
    "ax.set_title(the_title)\n",
    "ax.grid()\n",
    "plt.colorbar(im, cax=cax)\n",
    "plt.suptitle(collections)\n",
    "plt.tight_layout()\n",
    "plt.show()"
   ]
  },
  {
   "cell_type": "markdown",
   "id": "f25766a3-5f85-42d1-aa70-c1dd6c2b5bad",
   "metadata": {},
   "source": [
    "## Many cutout on several visits\n",
    "https://pipelines.lsst.io/py-api/lsst.geom.Angle.html"
   ]
  },
  {
   "cell_type": "code",
   "execution_count": null,
   "id": "1d553a56-0028-40d3-b50e-b5f20d50dba8",
   "metadata": {},
   "outputs": [],
   "source": [
    "nRow = 10\n",
    "nCol = 5 \n",
    "nIMG = nRow*nCol "
   ]
  },
  {
   "cell_type": "code",
   "execution_count": null,
   "id": "077ce4ee-eab5-43c0-931a-dd69462f8774",
   "metadata": {},
   "outputs": [],
   "source": [
    "spt"
   ]
  },
  {
   "cell_type": "code",
   "execution_count": null,
   "id": "ee6c9ed3-c01b-43a3-9a26-038a555a46bb",
   "metadata": {},
   "outputs": [],
   "source": [
    "fig, axes = plt.subplots(nRow, nCol, figsize=(3*nCol, 3*nRow), constrained_layout=True)\n",
    "\n",
    "idxvisitToPlot = 0\n",
    "\n",
    "\n",
    "for idx, ax in enumerate(axes.flat):\n",
    "    if idx >= nIMG:\n",
    "        break\n",
    "    if idxvisitToPlot>= len(my_selectedvisits):\n",
    "        break\n",
    "\n",
    "    FlagPlot = False\n",
    "    while not  FlagPlot:\n",
    "        visitId = my_selectedvisits[idxvisitToPlot]\n",
    "        dataId = {'visit': visitId, 'instrument':instrument_sel , 'detector': 0}\n",
    "\n",
    "        # call butler\n",
    "        exp = butler.get(\"calexp\", dataId=dataId, collections=collections)\n",
    "        wcs = exp.getWcs()\n",
    "        bbox = exp.getBBox()\n",
    "\n",
    "        # must test if the calexp include the selected point\n",
    "        corners_ra, corners_dec = get_corners_radec(wcs, bbox)\n",
    "        \n",
    "        # 2D point\n",
    "        pt = wcs.skyToPixel(spt)\n",
    "\n",
    "        xmin= pt[0]\n",
    "        ymin=pt[1]\n",
    "        width = 100\n",
    "        height= 100\n",
    "        extent = [xmin,xmin+width,ymin,ymin+height]\n",
    "\n",
    "        ramin,decmin = wcs.pixelToSky(x=float(xmin), y=float(ymin))\n",
    "        ramax,decmax = wcs.pixelToSky(x=float(xmin+width), y=float(ymin+height))\n",
    "        dra = ramax-ramin\n",
    "        ddec = decmax-decmin\n",
    "        #asDegrees()\n",
    "        \n",
    "        dracosdecddec = np.cos(ddec.asRadians())*dra.asArcseconds()*ddec.asArcseconds() \n",
    "        print(\"dra=\",dra,\"  ddec=\",ddec, \"    dracosdecddec=\" ,dracosdecddec, \" arcsec2\")\n",
    "\n",
    "        # Define a small region for a cutout\n",
    "        bbox = geom.Box2I()\n",
    "        bbox.include(geom.Point2I(xmin, ymin))\n",
    "        bbox.include(geom.Point2I(xmin + width, ymin + height))\n",
    "\n",
    "        # An alternative way to defined the same cutout region\n",
    "        # bbox = geom.Box2I(geom.Point2I(xmin, ymin), geom.Extent2I(width, height))\n",
    "\n",
    "    \n",
    "        try:\n",
    "        # Generate the cutout image\n",
    "            cutout = exp.Factory(exp, bbox, origin=afwImage.LOCAL, deep=False)\n",
    "            \n",
    "            med = np.median(cutout.image.array.flatten())\n",
    "            sigMad = 1.4826 * np.median(np.fabs(cutout.image.array.flatten() - med))\n",
    "            \n",
    "            #print(f\"{idx} :: {visitId}  med= {med:.3f} sigMad = {sigMad:.3f}\")\n",
    "\n",
    "            im=ax.imshow(cutout.image.array, origin=\"lower\", vmin=vmin,vmax=vmax, extent=extent ,cmap=\"gray\")\n",
    "            #divider = make_axes_locatable(ax)\n",
    "            #cax = divider.append_axes(\"right\", size=\"5%\", pad=0.05)\n",
    "            the_title = f\"visit = {visitId}\"\n",
    "            ax.set_title(the_title)\n",
    "            ax.grid()\n",
    "            #plt.colorbar(im, cax=cax,ax=ax)\n",
    "            FlagPlot = True\n",
    "\n",
    "        except Exception as inst:\n",
    "\n",
    "            print(type(inst))    # the exception type\n",
    "            #print(inst.args)     # arguments stored in .args\n",
    "            #print(inst)          # __str__ allows args to be printed directly,\n",
    "\n",
    "        # always increase\n",
    "        idxvisitToPlot +=1        \n",
    "\n",
    "plt.tight_layout()\n",
    "plt.show()\n",
    "    "
   ]
  },
  {
   "cell_type": "code",
   "execution_count": null,
   "id": "eae824b9-56b8-44c7-8882-bdb1175ca5f8",
   "metadata": {},
   "outputs": [],
   "source": [
    "spt"
   ]
  },
  {
   "cell_type": "code",
   "execution_count": null,
   "id": "a5cc5fd2-b5cb-4f95-b3ee-ebff9d999b5a",
   "metadata": {},
   "outputs": [],
   "source": [
    "Background_Dict = OrderedDict()\n",
    "\n",
    "for idxvisit in range(len(my_selectedvisits)):\n",
    "    \n",
    "    visitId = my_selectedvisits[idxvisit]\n",
    "    dataId = {'visit': visitId, 'instrument':instrument_sel , 'detector': 0}\n",
    "\n",
    "    print(dataId)\n",
    "\n",
    "    # call butler\n",
    "    exp = butler.get(\"calexp\", dataId=dataId, collections=collections)\n",
    "    wcs = exp.getWcs()\n",
    "    bbox = exp.getBBox()\n",
    "\n",
    "    # must test if the calexp include the selected point\n",
    "    corners_ra, corners_dec = get_corners_radec(wcs, bbox)\n",
    "    # 2D point\n",
    "    pt = wcs.skyToPixel(spt)\n",
    "\n",
    "    xmin= pt[0]\n",
    "    ymin=pt[1]\n",
    "    width = 100\n",
    "    height= 100\n",
    "    extent = [xmin,xmin+width,ymin,ymin+height]\n",
    "\n",
    "    ramin,decmin = wcs.pixelToSky(x=float(xmin), y=float(ymin))\n",
    "    ramax,decmax = wcs.pixelToSky(x=float(xmin+width), y=float(ymin+height))\n",
    "    dra = ramax-ramin\n",
    "    ddec = decmax-decmin    \n",
    "    dracosdecddec = np.cos(ddec.asRadians())*dra.asArcseconds()*ddec.asArcseconds() \n",
    "\n",
    "    # Define a small region for a cutout\n",
    "    bbox = geom.Box2I()\n",
    "    bbox.include(geom.Point2I(xmin, ymin))\n",
    "    bbox.include(geom.Point2I(xmin + width, ymin + height))\n",
    "\n",
    "    # An alternative way to defined the same cutout region\n",
    "    # bbox = geom.Box2I(geom.Point2I(xmin, ymin), geom.Extent2I(width, height))\n",
    "\n",
    "    \n",
    "    try:\n",
    "    # Generate the cutout image\n",
    "        cutout = exp.Factory(exp, bbox, origin=afwImage.LOCAL, deep=False)\n",
    "        # njansky    \n",
    "        med = np.median(cutout.image.array.flatten())\n",
    "        sigMad = 1.4826 * np.median(np.fabs(cutout.image.array.flatten() - med))\n",
    "        skyBgFlux_perarcsec2 = sigMad/dracosdecddec\n",
    "        skyBgMag_perarcsec2 =  convert_fluxtomag(skyBgFlux_perarcsec2)\n",
    "            \n",
    "        Background_Dict[visitId] = dict(med=med,sigMad=sigMad,skybgflx=skyBgFlux_perarcsec2,skybgmag = skyBgMag_perarcsec2  )  \n",
    "        print(f\"{idxvisit} :: {visitId}  med= {med:.3f} sigMad = {sigMad:.3f} skybgmag = {skyBgMag_perarcsec2:.3f} \")\n",
    "\n",
    "    except Exception as inst:\n",
    "\n",
    "        print(type(inst))    # the exception type\n",
    "        #print(inst.args)     # arguments stored in .args\n",
    "        #print(inst)          # __str__ allows args to be printed directly,\n",
    "        pass"
   ]
  },
  {
   "cell_type": "code",
   "execution_count": null,
   "id": "f2397438-7695-4876-85fa-594bb7dbc09e",
   "metadata": {},
   "outputs": [],
   "source": [
    "Background_Dict"
   ]
  },
  {
   "cell_type": "code",
   "execution_count": null,
   "id": "3d0a2374-ec39-4331-a380-0f39519dedb5",
   "metadata": {},
   "outputs": [],
   "source": [
    "X = []\n",
    "Y1 = []\n",
    "EY1 = []\n",
    "Y2 = []\n",
    "for visitId in Background_Dict.keys():\n",
    "    cut = df_myselectedvisits[\"visitId\"] == visitId\n",
    "    mjd = df_myselectedvisits[cut]['expMidptMJD'].values[0]\n",
    "    X.append(mjd)\n",
    "    Y1.append(Background_Dict[visitId]['med'])\n",
    "    EY1.append(Background_Dict[visitId]['sigMad'])\n",
    "    Y2.append(Background_Dict[visitId]['skybgmag'])\n",
    "    "
   ]
  },
  {
   "cell_type": "code",
   "execution_count": null,
   "id": "a9bdf6f4-39a6-44f4-9f46-e1de90413064",
   "metadata": {},
   "outputs": [],
   "source": [
    "X = np.array(X)\n",
    "Y1 = np.array(Y1)\n",
    "EY1 = np.array(EY1)\n",
    "Y2 = np.array(Y2)"
   ]
  },
  {
   "cell_type": "code",
   "execution_count": null,
   "id": "0e41f013-a9b4-4f57-a23c-50c127e4bd32",
   "metadata": {},
   "outputs": [],
   "source": [
    "fig, ax = plt.subplots(1, 1, figsize=(12, 5))\n",
    "ax.errorbar(X,Y1,yerr=EY1,marker=\"o\",mfc=\"red\",mec=\"grey\",ms=10)\n",
    "ax.grid()\n",
    "ax.set_title(f\"Sky Background in band {band}\")\n",
    "ax.set_xlabel(\"MJD\")\n",
    "ax.set_ylabel(\"Flux (nJy)\")\n",
    "plt.show()"
   ]
  },
  {
   "cell_type": "code",
   "execution_count": null,
   "id": "2b2eaadf-6835-4eb0-95ae-45e7a42f5b65",
   "metadata": {},
   "outputs": [],
   "source": [
    "fig, ax = plt.subplots(1, 1, figsize=(12, 5))\n",
    "ax.plot(X,Y2,marker=\"o\",mfc=\"red\",mec=\"grey\",ms=10)\n",
    "ax.grid()\n",
    "ax.set_title(f\"Sky Background in band {band}\")\n",
    "ax.set_xlabel(\"MJD\")\n",
    "ax.set_ylabel(\"Mag Flux (mag/arcsec2)\")\n",
    "plt.show()"
   ]
  },
  {
   "cell_type": "code",
   "execution_count": null,
   "id": "55a33a15-138a-4681-a4b3-05ae2b92a6cb",
   "metadata": {},
   "outputs": [],
   "source": [
    "assert False"
   ]
  },
  {
   "cell_type": "code",
   "execution_count": null,
   "id": "56766816-de2b-45c4-8b3c-43c19bb9aecc",
   "metadata": {},
   "outputs": [],
   "source": [
    "fig, axes = plt.subplots(nRow, nCol, figsize=(3*nCol, 3*nRow), constrained_layout=True)\n",
    "list_of_axes = axes.flat\n",
    "idx = 0\n",
    "\n",
    "while idx < nIMG:\n",
    "    visitId = my_selectedvisits[idx]\n",
    "    dataId = {'visit': visitId, 'instrument':instrument_sel , 'detector': 0}\n",
    "\n",
    "    # call butler\n",
    "    exp = butler.get(\"calexp\", dataId=dataId, collections=collections)\n",
    "    wcs = exp.getWcs()\n",
    "    bbox = exp.getBBox()\n",
    "\n",
    "    # must test if the calexp include the selected point\n",
    "    corners_ra, corners_dec = get_corners_radec(wcs, bbox)\n",
    "    # 2D point in pixels\n",
    "    pt = wcs.skyToPixel(spt)\n",
    "\n",
    "    xmin= pt[0]\n",
    "    ymin=pt[1]\n",
    "    width = 100\n",
    "    height= 100\n",
    "    extent = [xmin,xmin+width,ymin,ymin+height]\n",
    "\n",
    "    ramin,decmin = wcs.pixelToSky(x=float(xmin), y=float(ymin))\n",
    "    ramax,decmax = wcs.pixelToSky(x=float(xmin+width), y=float(ymin+height))\n",
    "\n",
    "    # Define a small region for a cutout\n",
    "    bbox = geom.Box2I()\n",
    "    bbox.include(geom.Point2I(xmin, ymin))\n",
    "    bbox.include(geom.Point2I(xmin + width, ymin + height))\n",
    "\n",
    "    # An alternative way to defined the same cutout region\n",
    "    # bbox = geom.Box2I(geom.Point2I(xmin, ymin), geom.Extent2I(width, height))\n",
    "\n",
    "    try:\n",
    "    # Generate the cutout image     \n",
    "        cutout = exp.Factory(exp, bbox, origin=afwImage.LOCAL, deep=False)\n",
    "        print(idx,visitId)\n",
    "        ax = list_of_axes[idx] \n",
    "\n",
    "        im=ax.imshow(cutout.image.array, origin=\"lower\", extent=extent ,cmap=\"gray\")\n",
    "        divider = make_axes_locatable(ax)\n",
    "        cax = divider.append_axes(\"right\", size=\"5%\", pad=0.05)\n",
    "        the_title = f\"visit = {visitId}, f = {band}\"\n",
    "        ax.set_title(the_title)\n",
    "        ax.grid()\n",
    "        plt.colorbar(im, cax=cax,ax=ax)\n",
    "        idx = idx + 1\n",
    "    except Exception as inst:\n",
    "        print(type(inst))    # the exception type\n",
    "        #print(inst.args)     # arguments stored in .args\n",
    "        #print(inst)          # __str__ allows args to be printed directly,\n",
    "\n",
    "        \n",
    "\n",
    "plt.tight_layout()\n",
    "    "
   ]
  },
  {
   "cell_type": "code",
   "execution_count": null,
   "id": "d2db9671-4ce2-4be8-8e20-12d4dfef407f",
   "metadata": {},
   "outputs": [],
   "source": [
    "assert False"
   ]
  },
  {
   "cell_type": "code",
   "execution_count": null,
   "id": "c026dfe3-6533-48ed-9503-4ba929734ede",
   "metadata": {},
   "outputs": [],
   "source": [
    "# Plot cutouts centered on matched sources from different visits for a couple of objects.\n",
    "# Selecting from the small/largeStdLists made above to look at the extremes.\n",
    "imMin, imMax, Q = -0.001, 0.004, 8\n",
    "expMin, expMax = -25, 100\n",
    "numSub = 8\n",
    "for maxBoxSize in [71]:\n",
    "    plt.close(\"all\")\n",
    "    for objInd in smallStdList[0:3] + largeStdList[1:2]:\n",
    "        joinedObjects = dataJoined[dataJoined[\"obj_index\"] == objInd]\n",
    "        numObj = len(joinedObjects)\n",
    "        print(\"numObj = {} [with obj_index = {}]\".format(numObj, objInd))\n",
    "        nRow = 1 if numObj <= numSub else (numObj // numSub) + 1\n",
    "        # print(\"nRow = {}\".format(nRow))\n",
    "        fig, axes = plt.subplots(nRow, numSub, figsize=(3*numSub, 3*nRow), constrained_layout=True)\n",
    "        joinedObjects = dataJoined[dataJoined[\"obj_index\"] == objInd]\n",
    "        \n",
    "        psfMag = joinedObjects[\"psfMag\"]\n",
    "        psfMagErr = joinedObjects[\"psfMagErr\"]\n",
    "        psfMagDiffMmag = joinedObjects[\"psfMagDiffMmag\"].values\n",
    "        psfMagStdMmag = psfMagStdMmagDict[objInd]\n",
    "\n",
    "        clippedMeanRaArray = scipy.stats.sigmaclip(joinedObjects[\"ra\"], low=3.0, high=3.0).clipped\n",
    "        clippedMeanRa = np.mean(clippedMeanRaArray)\n",
    "        clippedMeanDecArray = scipy.stats.sigmaclip(joinedObjects[\"dec\"], low=3.0, high=3.0).clipped\n",
    "        clippedMeanDec = np.mean(clippedMeanDecArray)\n",
    "\n",
    "        iObj = -1\n",
    "        for ax in axes.ravel():\n",
    "            iObj += 1\n",
    "            if iObj < numObj:\n",
    "                row = joinedObjects[iObj:iObj + 1]\n",
    "                detector = row[\"detector\"].values[0]\n",
    "                visit = row[\"visit\"].values[0]\n",
    "                psfMag = (row[\"psfFlux\"].values[0]*u.nJy).to(u.ABmag)\n",
    "\n",
    "                dataId = {\"detector\": detector, \"visit\": visit}\n",
    "                exp = butler.get(\"calexp\", dataId)\n",
    "                wcs = exp.wcs\n",
    "                pt = geom.SpherePoint(geom.Angle(row[\"ra\"].values[0], geom.degrees),\n",
    "                                      geom.Angle(row[\"dec\"].values[0], geom.degrees))\n",
    "                (xSrc, ySrc) = wcs.skyToPixel(pt)\n",
    "\n",
    "                boxSize = int(min(maxBoxSize, xSrc, exp.getWidth()-xSrc, ySrc, exp.getHeight()-ySrc) - 1)\n",
    "\n",
    "                minBbox = geom.Point2I(int(xSrc) - boxSize ,int(ySrc) - boxSize)\n",
    "                maxBbox = geom.Point2I(int(xSrc) + boxSize, int(ySrc) + boxSize)\n",
    "                srcBbox = geom.Box2I(minBbox, maxBbox)\n",
    "\n",
    "                subimg = afwImage.ExposureF(exp, srcBbox, afwImage.PARENT, True)\n",
    "                subimgRgb = afwRgb.makeRGB(subimg.image.array, None, None, expMin, expMax - expMin, Q)\n",
    "\n",
    "                im = ax.imshow(subimgRgb, interpolation=\"nearest\", origin=\"lower\")\n",
    "                ax.text(0.5, 0.06, \"psfSig: {:.2f} pix\".format(row[\"psfSigma\"].values[0]),\n",
    "                        color=\"cyan\", fontsize=14, ha=\"center\", va=\"center\", transform=ax.transAxes)\n",
    "                ax.text(0.5, 0.15, \"{:.2f}\".format(psfMag),\n",
    "                        color=\"violet\", fontsize=14, ha=\"center\", va=\"center\", transform=ax.transAxes)\n",
    "\n",
    "                diffColor = \"red\" if np.abs(psfMagDiffMmag[iObj]) > 100 else \"lawngreen\"\n",
    "                ax.text(0.5, 0.92, \"diff: {:.2f} mmag\".format(psfMagDiffMmag[iObj]),\n",
    "                        color=diffColor, fontsize=14, ha=\"center\", va=\"center\", transform=ax.transAxes)\n",
    "\n",
    "                ax.set_title(\"{} {}sec\".format(visit, row[\"expTime\"].values[0]), fontsize=12)\n",
    "\n",
    "        color = \"green\"\n",
    "        plt.text(0.5, 0.84, \"std: {:.2f} mmag\".format(psfMagStdMmag), color=color, fontsize=14,\n",
    "                 ha=\"center\", va=\"center\", transform=ax.transAxes)\n",
    "\n",
    "        if doSaveFigs:\n",
    "            filename = \"{}{}_allOjbectsSmallStd_{}_{}_{}\".format(saveDir, camera.getName(), objInd, maxBoxSize, collectionStr)\n",
    "            print(\"Saving file in: {}\".format(filename))\n",
    "            plt.savefig(filename, dpi=250)"
   ]
  }
 ],
 "metadata": {
  "kernelspec": {
   "display_name": "LSST",
   "language": "python",
   "name": "lsst"
  },
  "language_info": {
   "codemirror_mode": {
    "name": "ipython",
    "version": 3
   },
   "file_extension": ".py",
   "mimetype": "text/x-python",
   "name": "python",
   "nbconvert_exporter": "python",
   "pygments_lexer": "ipython3",
   "version": "3.11.7"
  }
 },
 "nbformat": 4,
 "nbformat_minor": 5
}
