{
 "cells": [
  {
   "cell_type": "markdown",
   "id": "45bf4242-bfc5-4d43-88c4-a8059ae148df",
   "metadata": {},
   "source": [
    "**Description:** Demonstrate how to make a new analysis tool, a plot/metric\n",
    "\n",
    "**Contact authors:** Sophie Reed\n",
    "\n",
    "**Last verified to run:** 2024-03-04\n",
    "\n",
    "**LSST Science Piplines version:** w_2024_07\n",
    "\n",
    "**Container Size:** Medium (or larger)\n",
    "\n",
    "**Location:** This notebook points to files on the S3DF cluster at the USDF. Update paths accordingly if you are running elsewhere.\n",
    "\n",
    "**Skills:** Make a new analysis tool and have a play with some data"
   ]
  },
  {
   "cell_type": "markdown",
   "id": "351e0468-d4f5-4c9e-b3db-1263499470cc",
   "metadata": {},
   "source": [
    "Import statements that we will need later"
   ]
  },
  {
   "cell_type": "code",
   "execution_count": null,
   "id": "01f4a7f9-d12d-4bf3-85d6-fe8c6bb30ca9",
   "metadata": {
    "tags": []
   },
   "outputs": [],
   "source": [
    "import numpy as np\n",
    "import matplotlib\n",
    "import matplotlib.pyplot as plt\n",
    "from matplotlib import cm\n",
    "\n",
    "import lsst.analysis.tools\n",
    "from lsst.analysis.tools.interfaces import AnalysisTool\n",
    "from lsst.analysis.tools.actions.vector import CoaddPlotFlagSelector, SnSelector, StarSelector, LoadVector, ExtinctionCorrectedMagDiff\n",
    "from lsst.analysis.tools.actions.scalar import MedianAction, MeanAction, SigmaMadAction\n",
    "from lsst.analysis.tools.actions.plot import SkyPlot\n",
    "from lsst.analysis.tools.atools import ShapeSizeFractionalDiff\n",
    "\n",
    "import lsst.daf.butler as dafButler\n",
    "from lsst.analysis.tools.interfaces._task import _StandinPlotInfo"
   ]
  },
  {
   "cell_type": "markdown",
   "id": "5db4beba-3082-4754-8e70-26472f1c226c",
   "metadata": {},
   "source": [
    "Let's make a new plot and metric tool, we'll base it on the example in the getting started guide."
   ]
  },
  {
   "cell_type": "code",
   "execution_count": null,
   "id": "3223c307-919a-4700-8dbc-c0ec618ea123",
   "metadata": {
    "tags": []
   },
   "outputs": [],
   "source": [
    "class newPlotMetric(AnalysisTool):\n",
    "    def setDefaults(self):\n",
    "        super().setDefaults()\n",
    "        self.prep.selectors.flagSelector = CoaddPlotFlagSelector()\n",
    "        self.prep.selectors.flagSelector.bands = []\n",
    "\n",
    "        self.prep.selectors.snSelector = SnSelector()\n",
    "        self.prep.selectors.snSelector.fluxType = \"{band}_psfFlux\"\n",
    "        self.prep.selectors.snSelector.threshold = 300\n",
    "\n",
    "        self.prep.selectors.starSelector = StarSelector()\n",
    "        self.prep.selectors.starSelector.vectorKey = \"{band}_extendedness\"\n",
    "\n",
    "        self.process.buildActions.xStars = LoadVector()\n",
    "        self.process.buildActions.xStars.vectorKey = \"coord_ra\"\n",
    "        self.process.buildActions.yStars = LoadVector()\n",
    "        self.process.buildActions.yStars.vectorKey = \"coord_dec\"\n",
    "\n",
    "        self.process.buildActions.starStatMask = SnSelector()\n",
    "        self.process.buildActions.starStatMask.fluxType = \"{band}_psfFlux\"\n",
    "\n",
    "        self.process.buildActions.zStars = ExtinctionCorrectedMagDiff()\n",
    "        self.process.buildActions.zStars.magDiff.col1 = \"{band}_ap12Flux\"\n",
    "        self.process.buildActions.zStars.magDiff.col2 = \"{band}_psfFlux\"\n",
    "\n",
    "        self.process.calculateActions.median = MedianAction()\n",
    "        self.process.calculateActions.median.vectorKey = \"zStars\"\n",
    "\n",
    "        self.process.calculateActions.mean = MeanAction()\n",
    "        self.process.calculateActions.mean.vectorKey = \"zStars\"\n",
    "\n",
    "        self.process.calculateActions.sigmaMad = SigmaMadAction()\n",
    "        self.process.calculateActions.sigmaMad.vectorKey = \"xStars\"\n",
    "\n",
    "        self.produce.plot = SkyPlot()\n",
    "        self.produce.plot.plotTypes = [\"stars\"]\n",
    "        self.produce.plot.plotName = \"ap12-psf_{band}\"\n",
    "        self.produce.plot.xAxisLabel = \"R.A. (degrees)\"\n",
    "        self.produce.plot.yAxisLabel = \"Dec. (degrees)\"\n",
    "        self.produce.plot.zAxisLabel = \"Ap 12 - PSF [mag]\"\n",
    "        self.produce.plot.plotOutlines = False\n",
    "\n",
    "        self.produce.metric.units = {\n",
    "            \"median\": \"mmag\",\n",
    "            \"sigmaMad\": \"mmag\",\n",
    "            \"mean\": \"mmag\"\n",
    "        }\n",
    "\n",
    "        self.produce.metric.newNames = {\n",
    "            \"median\": \"{band}_ap12-psf_median\",\n",
    "            \"mean\": \"{band}_ap12-psf_mean\",\n",
    "            \"sigmaMad\": \"{band}_ap12-psf_sigmaMad\",\n",
    "        }"
   ]
  },
  {
   "cell_type": "markdown",
   "id": "e14c64f5-45b8-45f4-b412-8522074a52d4",
   "metadata": {},
   "source": [
    "Now we have a tool we need some data to run it on. We're going to run it on the object table tract."
   ]
  },
  {
   "cell_type": "code",
   "execution_count": null,
   "id": "fac7fa0b-91af-46c8-860f-d94674bd0b2a",
   "metadata": {
    "tags": []
   },
   "outputs": [],
   "source": [
    "dataId = {\"skymap\": \"latiss_v1\", \"tract\": 3864, \"instrument\": \"LATISS\"}\n",
    "#collections = ['u/bechtol']\n",
    "#collections=\"LATISS/runs/AUXTEL_DRP_IMAGING_2023-11A-10A-09AB-08ABC-07AB-05AB/w_2023_46/PREOPS-4553\"\n",
    "collections = \"LATISS/runs/AUXTEL_DRP_IMAGING_20230509_20240201/w_2024_05/PREOPS-4871\"\n",
    "#repo = '/sdf/group/rubin/user/bechtol/bootcamp_2023_backup/rc2_subset/SMALL_HSC/'\n",
    "repo = '/sdf/group/rubin/repo/oga/'\n",
    "Butler = dafButler.Butler(repo)\n",
    "t = Butler.get(\"objectTable_tract\", dataId=dataId, collections=collections)"
   ]
  },
  {
   "cell_type": "markdown",
   "id": "36e91163-2ff9-425d-9d08-d58a45fffc99",
   "metadata": {},
   "source": [
    "We want to include some information on the plot for future reference, as much information as possible should be included here so that future you is less annoyed with past you when they can't recreate the plot.\n",
    "\n",
    "If you can't be bothered to make a dict of the information to include then you can use ```_StandInPlotInfo``` from ```lsst.analysis.tools.interfaces._task```."
   ]
  },
  {
   "cell_type": "code",
   "execution_count": null,
   "id": "31a58a84-fa28-481c-bc4d-a2807aeb480a",
   "metadata": {},
   "outputs": [],
   "source": []
  },
  {
   "cell_type": "code",
   "execution_count": null,
   "id": "4b4a54c4-ac3d-4d6e-ba3d-eb7fe41cb78e",
   "metadata": {
    "tags": []
   },
   "outputs": [],
   "source": [
    "plotInfoDict = {\"bands\": \"i\", \"tract\": 3864, \"tableName\": \"objectTable_tract\", \"run\": collections[0]}"
   ]
  },
  {
   "cell_type": "markdown",
   "id": "e804f72e-a28a-4c3a-b9e4-d1863b0bcc6b",
   "metadata": {},
   "source": [
    "Now we have all of the pieces let's run the tool! You need to remember to call finalize before trying to get results back."
   ]
  },
  {
   "cell_type": "code",
   "execution_count": null,
   "id": "27b6146a-a809-4fbb-b0ae-d0908c9fdfb2",
   "metadata": {
    "tags": []
   },
   "outputs": [],
   "source": [
    "atool = newPlotMetric()\n",
    "atool.finalize()\n",
    "results = atool(t, band=\"i\", plotInfo=plotInfoDict)"
   ]
  },
  {
   "cell_type": "markdown",
   "id": "dbbdaa48-f01f-4b1e-9304-985845003af3",
   "metadata": {},
   "source": [
    "A plot has been made, but it looks a bit sparse, only 333 objects that made it to the plot. Let's look into why, first step, let us look at each selector individually and see what they are doing to the input data."
   ]
  },
  {
   "cell_type": "code",
   "execution_count": null,
   "id": "1d40d644-263f-4764-a6bb-468589815168",
   "metadata": {
    "tags": []
   },
   "outputs": [],
   "source": [
    "print(\"The number of sources in the object table:\", len(t))\n",
    "print(\"The results of the tool:\", results)\n",
    "\n",
    "# Find out how many things are removed by each selector\n",
    "# The star selector:\n",
    "starSelector = StarSelector()\n",
    "starMask = starSelector(t, band=\"i\")\n",
    "print(\"Number of stars:\", np.sum(starMask))\n",
    "\n",
    "# The flag selector\n",
    "flagSelector = CoaddPlotFlagSelector()\n",
    "flagMask = flagSelector(t, band=\"i\")\n",
    "print(\"Number of unflagged objects:\", np.sum(flagMask))\n",
    "\n",
    "# The S/N selector\n",
    "snSelector = SnSelector()\n",
    "snSelector.fluxType = \"i_psfFlux\"\n",
    "snSelector.threshold = 300\n",
    "snMask = snSelector(t)\n",
    "print(\"Number of objects that satisfy the S/N cut:\", np.sum(snMask))\n",
    "\n",
    "# See how many make it through everything\n",
    "totMask = starMask & snMask & flagMask\n",
    "print(\"Total number of selected objects:\", np.sum(totMask))"
   ]
  },
  {
   "cell_type": "markdown",
   "id": "b60d1e0d-61c2-413e-bcce-4ced5fdcac32",
   "metadata": {},
   "source": [
    "It seems that the S/N selector is removing a lot of objects, typically we expect a threshold of 300 to be appropriate for HSC data. Let's investigate the S/N across the whole catalogue."
   ]
  },
  {
   "cell_type": "code",
   "execution_count": null,
   "id": "b9761c46-a991-4176-97a6-d0d66f354066",
   "metadata": {
    "tags": []
   },
   "outputs": [],
   "source": [
    "plt.hist(t[\"i_psfFlux\"]/t[\"i_psfFluxErr\"], bins=500)\n",
    "plt.xlim(-10, 1000)\n",
    "plt.xlabel(\"PSF S/N\")\n",
    "plt.ylabel(\"Number\")\n",
    "plt.yscale('log')\n",
    "plt.show()"
   ]
  },
  {
   "cell_type": "markdown",
   "id": "3e9f1255-ae3c-4fa9-ac74-355c9d27bbe7",
   "metadata": {},
   "source": [
    "Let's check that the S/N issues aren't limited to just a couple of patches"
   ]
  },
  {
   "cell_type": "code",
   "execution_count": null,
   "id": "cbce3c7a-c2d3-4a90-85bf-8cf1424208a7",
   "metadata": {
    "tags": []
   },
   "outputs": [],
   "source": [
    "print(\"Patches that have sources that pass the S/N cut:\", set(list((t[\"patch\"][snMask]))))\n",
    "print(\"Patches in the data:\", set(list((t[\"patch\"]))))\n",
    "patches = list(set(list(t[\"patch\"])))"
   ]
  },
  {
   "cell_type": "markdown",
   "id": "56380187-bef3-4457-8a45-8c67a37ce58c",
   "metadata": {},
   "source": [
    "So all the patches have some high S/N points on them let's look at an image and see if it looks like junk."
   ]
  },
  {
   "cell_type": "code",
   "execution_count": null,
   "id": "e7296d68-d8cd-4569-a7af-d7a5cdb37222",
   "metadata": {
    "tags": []
   },
   "outputs": [],
   "source": [
    "# Add the patch and band to the dataId, we didn't need them for the objectTable_tract because it covers all patches and bands\n",
    "# However the coadds are stored by patch and band dimensions so we have to add them to the dataId\n",
    "dataId[\"band\"] = \"i\"\n",
    "dataId[\"patch\"] = 236\n",
    "\n",
    "im = Butler.get(\"deepCoadd_calexp\", dataId=dataId, collections=collections)"
   ]
  },
  {
   "cell_type": "code",
   "execution_count": null,
   "id": "5f5f74b3-a822-467b-8b5a-e803d2eceb97",
   "metadata": {
    "tags": []
   },
   "outputs": [],
   "source": [
    "# Display the image with a suitable scaling\n",
    "med = np.median(im.image.array.flatten())\n",
    "sigMad = 1.4826 * np.median(np.fabs(im.image.array.flatten() - med))\n",
    "vmin = med - 3 * sigMad\n",
    "vmax = med + 3 * sigMad\n",
    "plt.imshow(im.image.array, vmin=vmin, vmax=vmax, cmap=\"Greys\")\n",
    "plt.show()"
   ]
  },
  {
   "cell_type": "markdown",
   "id": "d0b3f4db-4446-4be1-b974-56328f539b2f",
   "metadata": {},
   "source": [
    "The image looks fine, next lets look at how many visits went into each point. ```i_inputCount``` tells you how many visits covered the object."
   ]
  },
  {
   "cell_type": "code",
   "execution_count": null,
   "id": "9adcf255-dd2e-4e3a-8242-9cf59e1aeee1",
   "metadata": {
    "tags": []
   },
   "outputs": [],
   "source": [
    "def catOutline(ras, decs):\n",
    "    \"\"\"A utility function to help draw outlines of points of ra and dec\n",
    "    \n",
    "    Parameters\n",
    "    ----------\n",
    "    ras : iterable\n",
    "        The R.A. of the points\n",
    "    decs : iterable\n",
    "        The declination of the points\n",
    "        \n",
    "    Returns\n",
    "    -------\n",
    "    xMids : np.array\n",
    "        The midpoints of the bins on the x axis\n",
    "    yMids : np.array\n",
    "        The midpoints of the bins on the y axis\n",
    "    im : np.array\n",
    "        A 2D array of the number of points in each bin\n",
    "    \"\"\"\n",
    "    \n",
    "    xWalls = np.linspace(np.min(ras) - 0.1, np.max(ras) + 0.1, 101)\n",
    "    yWalls = np.linspace(np.min(decs) - 0.1, np.max(decs) + 0.1, 101)\n",
    "    \n",
    "    im, xBins, yBins = np.histogram2d(ras, decs, bins=(xWalls, yWalls))\n",
    "    xMids = 0.5*(xBins[:-1] + xBins[1:])\n",
    "    yMids = 0.5*(yBins[:-1] + yBins[1:])\n",
    "    im[im > 0] = 1\n",
    "    \n",
    "    return xMids, yMids, im\n",
    "    "
   ]
  },
  {
   "cell_type": "markdown",
   "id": "2f5b364b-cefa-4cf1-97ab-e9edb2ea067c",
   "metadata": {},
   "source": [
    "To look at the visits that went into our object table we need to first find the data that went into it. The coadds are made from the visit level calexps so we will have a look at the calexps that are available in the butler. This gives us a list of visits. Once we have the visits we can read in the tables for each visit and then use those to plot the overlaps.\n"
   ]
  },
  {
   "cell_type": "code",
   "execution_count": null,
   "id": "b2e1c731-90bc-4feb-ae5c-e42284a4c7e3",
   "metadata": {
    "tags": []
   },
   "outputs": [],
   "source": [
    "print(\"Numbers of input visits:\", set(list(t[\"i_inputCount\"])))\n",
    "\n",
    "# Get the visit numbers that went into the coadds, we don't actually need to read in the calexps but we want to\n",
    "# get the visit numbers from their dataIds\n",
    "\n",
    "registry = Butler.registry\n",
    "refs = registry.queryDatasets(\"calexp\", collections=collections)\n",
    "visits = []\n",
    "for ref in refs:\n",
    "    if ref.dataId[\"band\"] == \"i\":\n",
    "        visits.append(ref.dataId[\"visit\"])\n",
    "\n",
    "visits = list(set(visits))\n",
    "print(\"Total number of visits:\", len(visits))\n",
    "\n",
    "cmap = plt.cm.get_cmap('jet', len(visits))\n",
    "colours = [matplotlib.colors.to_hex(cmap(i)) for i in range(len(visits))]\n",
    "\n",
    "# Plot the visit outlines so we can look at the overlaps \n",
    "#colours = [\"k\", \"b\", \"r\", \"g\", \"y\", \"C0\", \"C1\", \"C2\"]\n",
    "for (i, visit) in enumerate(visits):\n",
    "    dataId[\"visit\"] = visit\n",
    "    try:\n",
    "        visitTable = Butler.get(\"sourceTable_visit\", dataId=dataId, collections=collections)\n",
    "        xMids, yMids, im = catOutline(visitTable[\"coord_ra\"], visitTable[\"coord_dec\"])\n",
    "        plt.contour(xMids, yMids, im.T, 1, colors=[colours[i]])\n",
    "  \n",
    "    except Exception as inst:\n",
    "        print(type(inst))    # the exception type\n",
    "        print(inst.args)     # arguments stored in .args\n",
    "        print(inst)          # __str__ allows args to be printed directly,\n",
    "\n",
    "      \n",
    "plt.gca().invert_xaxis()\n",
    "plt.xlabel(\"R.A. / Degrees\")\n",
    "plt.ylabel(\"Dec. / Degrees\")\n",
    "plt.show()\n",
    "\n"
   ]
  },
  {
   "cell_type": "markdown",
   "id": "bd21772b-04ce-450b-aed4-fef2ab33ec80",
   "metadata": {},
   "source": [
    "There are only 8 visits and they don't all overlap everywhere, the data isn't going to have very high S/N.\n",
    "\n",
    "Now we know that the data isn't very deep we can adjust the signal to noise threshold so that we have more points on the plot"
   ]
  },
  {
   "cell_type": "code",
   "execution_count": null,
   "id": "c1e9213f-bcc9-4729-8f50-697671349de2",
   "metadata": {
    "tags": []
   },
   "outputs": [],
   "source": [
    "atool = newPlotMetric()\n",
    "# Adjust the threshold\n",
    "atool.prep.selectors.snSelector.threshold = 5\n",
    "atool.finalize()\n",
    "results = atool(t, band=\"i\", plotInfo=plotInfoDict)"
   ]
  },
  {
   "cell_type": "markdown",
   "id": "eb5b880d-520a-4671-92b1-abfb3b29adf5",
   "metadata": {},
   "source": [
    "The data still doesn't cover all the area that the visits covered, let's look at why.\n",
    "We'll plot the patch outlines over the input visits, we know that only four patches are in the final catalogue."
   ]
  },
  {
   "cell_type": "code",
   "execution_count": null,
   "id": "a191a7f6-71f2-41de-9909-3b009a36afee",
   "metadata": {
    "tags": []
   },
   "outputs": [],
   "source": [
    "# Take all the ras and decs from the visit catalogues\n",
    "# Is this the most efficent way to do this, probably not\n",
    "\n",
    "rasAll = []\n",
    "decsAll = []\n",
    "\n",
    "for visit in visits:\n",
    "    try:\n",
    "        dataId[\"visit\"] = visit\n",
    "        visitTable = Butler.get(\"sourceTable_visit\", dataId=dataId, collections=collections)\n",
    "        rasAll += list(visitTable[\"coord_ra\"])\n",
    "        decsAll += list(visitTable[\"coord_dec\"])\n",
    "    except Exception as inst:\n",
    "        print(type(inst))    # the exception type\n",
    "        print(inst.args)     # arguments stored in .args\n",
    "        print(inst)          # __str__ allows args to be printed directly,\n",
    "    \n",
    "xMids, yMids, im = catOutline(rasAll, decsAll)\n",
    "plt.contour(xMids, yMids, im.T, 1, colors=[\"k\"])\n",
    "    \n",
    "# Grab the patches from the object table and plot those over the visit outlines\n",
    "for patch in patches:\n",
    "    onPatch = t[\"patch\"] == patch\n",
    "    xMids, yMids, im = catOutline(t[\"coord_ra\"][onPatch], t[\"coord_dec\"][onPatch])\n",
    "    plt.contour(xMids, yMids, im.T, 1, colors=[\"r\"])\n",
    "\n",
    "plt.gca().invert_xaxis()\n",
    "plt.xlabel(\"R.A. / Degrees\")\n",
    "plt.ylabel(\"Dec. / Degrees\")\n",
    "plt.show()\n"
   ]
  },
  {
   "cell_type": "code",
   "execution_count": null,
   "id": "e98d9925-59d4-4920-8415-c94f1c893c4b",
   "metadata": {},
   "outputs": [],
   "source": []
  }
 ],
 "metadata": {
  "kernelspec": {
   "display_name": "LSST",
   "language": "python",
   "name": "lsst"
  },
  "language_info": {
   "codemirror_mode": {
    "name": "ipython",
    "version": 3
   },
   "file_extension": ".py",
   "mimetype": "text/x-python",
   "name": "python",
   "nbconvert_exporter": "python",
   "pygments_lexer": "ipython3",
   "version": "3.11.7"
  }
 },
 "nbformat": 4,
 "nbformat_minor": 5
}
