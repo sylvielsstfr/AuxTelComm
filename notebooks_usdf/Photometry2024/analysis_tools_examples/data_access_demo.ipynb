{
 "cells": [
  {
   "cell_type": "markdown",
   "id": "826655f1-f093-4491-9631-db3a3d872cbc",
   "metadata": {
    "execution": {
     "iopub.execute_input": "2023-04-19T04:32:13.353992Z",
     "iopub.status.busy": "2023-04-19T04:32:13.353762Z",
     "iopub.status.idle": "2023-04-19T04:32:13.356535Z",
     "shell.execute_reply": "2023-04-19T04:32:13.356105Z",
     "shell.execute_reply.started": "2023-04-19T04:32:13.353976Z"
    }
   },
   "source": [
    "# Pre-bootcamp exercises: accessing data products via butler\n",
    "\n",
    "\n",
    "- Last Update : 2024/03/04\n",
    "- w_2024_07\n",
    "\n",
    "**Description:** Demonstrate how to generate science performance diagnostic plots and metrics with the [analysis_tools](https://github.com/lsst/analysis_tools) package using a small test dataset from HSC, [rc2_subset](https://github.com/lsst/rc2_subset).\n",
    "\n",
    "**Contact authors:** Keith Bechtol, Nate Lust\n",
    "\n",
    "**Last verified to run:** 2023-05-18\n",
    "\n",
    "**LSST Science Piplines version:** w_2023_20\n",
    "\n",
    "**Container Size:** Medium (or larger)\n",
    "\n",
    "**Location:** This notebook points to files on the S3DF cluster at the USDF. Update paths accordingly if you are running elsewhere.\n",
    "\n",
    "**Skills:** \n",
    "- Load source and object tables using the Butler.\n",
    "- Generate a science performance diagnostic plot and corresponding metric values interactively in a notebook and as part of a pipeline (simple pipeline executor). \n",
    "- Adjust the configuration used to produce these diagnostics. \n",
    "- Retrieve persisted plots and metrics with the Bulter. \n",
    "- Reconstitute input data products that were used to create plots and metrics for further investigation.\n",
    "\n",
    "\n",
    "For a quicker introduction, use an existing sandbox repo (prepared for this exercise) to bypass data reduction steps and go straight to data access via the Butler. If you want the full experience, run the data reduction steps in `process_rc2_subset.sh` and then point the Butler to your own repo."
   ]
  },
  {
   "cell_type": "markdown",
   "id": "bcfadd68-5fcc-4e45-8cc0-ac5553139592",
   "metadata": {
    "execution": {
     "iopub.execute_input": "2023-04-19T04:41:39.575692Z",
     "iopub.status.busy": "2023-04-19T04:41:39.574983Z",
     "iopub.status.idle": "2023-04-19T04:41:39.577852Z",
     "shell.execute_reply": "2023-04-19T04:41:39.577435Z",
     "shell.execute_reply.started": "2023-04-19T04:41:39.575672Z"
    },
    "tags": []
   },
   "source": [
    "## Preliminaries"
   ]
  },
  {
   "cell_type": "code",
   "execution_count": null,
   "id": "18af6ebd-d52c-42b1-8ddf-0d8c5279ec8a",
   "metadata": {
    "execution": {
     "iopub.execute_input": "2024-03-24T14:31:22.465946Z",
     "iopub.status.busy": "2024-03-24T14:31:22.465823Z",
     "iopub.status.idle": "2024-03-24T14:31:22.730920Z",
     "shell.execute_reply": "2024-03-24T14:31:22.730465Z",
     "shell.execute_reply.started": "2024-03-24T14:31:22.465934Z"
    },
    "tags": []
   },
   "outputs": [],
   "source": [
    "# Basic imports\n",
    "import numpy as np\n",
    "\n",
    "import matplotlib as mpl\n",
    "import matplotlib.pyplot as plt\n",
    "\n",
    "from pprint import pprint"
   ]
  },
  {
   "cell_type": "markdown",
   "id": "42873cfc-e091-446e-ac13-36836db1d813",
   "metadata": {},
   "source": [
    "If using your personal rc2_subset repo, set `SANDBOX_REPO = False`"
   ]
  },
  {
   "cell_type": "code",
   "execution_count": null,
   "id": "d51c15ac-7c24-47a0-b25b-e3579882b25d",
   "metadata": {
    "execution": {
     "iopub.execute_input": "2024-03-24T14:31:22.731735Z",
     "iopub.status.busy": "2024-03-24T14:31:22.731515Z",
     "iopub.status.idle": "2024-03-24T14:31:22.733933Z",
     "shell.execute_reply": "2024-03-24T14:31:22.733571Z",
     "shell.execute_reply.started": "2024-03-24T14:31:22.731721Z"
    },
    "tags": []
   },
   "outputs": [],
   "source": [
    "SANDBOX_REPO = False"
   ]
  },
  {
   "cell_type": "markdown",
   "id": "6045ec69-4cfc-423e-9c58-aca6b96de7f4",
   "metadata": {
    "execution": {
     "iopub.execute_input": "2023-05-04T01:26:13.350555Z",
     "iopub.status.busy": "2023-05-04T01:26:13.350110Z",
     "iopub.status.idle": "2023-05-04T01:26:13.353867Z",
     "shell.execute_reply": "2023-05-04T01:26:13.353352Z",
     "shell.execute_reply.started": "2023-05-04T01:26:13.350537Z"
    },
    "jp-MarkdownHeadingCollapsed": true,
    "tags": []
   },
   "source": [
    "### Getting set up at USDF\n",
    "\n",
    "The USDF is hosted on the S3DF cluster at SLAC. This notebook has been verified to run on the S3DF cluster.\n",
    "\n",
    "See USDF documentation at\n",
    "* https://developer.lsst.io/usdf/lsst-login.html\n",
    "* https://developer.lsst.io/usdf/onboarding.html"
   ]
  },
  {
   "cell_type": "markdown",
   "id": "ca88b668-c6ef-422b-aa05-399c0e42c3ad",
   "metadata": {},
   "source": [
    "### Processing rc2_subset\n",
    "\n",
    "[rc2_subset](https://github.com/lsst-dm/rc2_subset) is a small dataset with just enough Hyper Suprime-Cam (HSC) exposures to compute a set of meaningful science performance metrics.\n",
    "\n",
    "The LSST Science Pipelines [Getting Started tutorial](https://pipelines.lsst.io/#getting-started) provides a guided tour of data processing using rc2_subset as an example.\n",
    "\n",
    "For convenience, there is a shell script `process_rc2_subset.sh` in the same directory as this notebook that shows the commands to process rc2_subset on the USDF."
   ]
  },
  {
   "cell_type": "markdown",
   "id": "641a9b7f-b0f9-4d45-933d-5c123a51f9e8",
   "metadata": {},
   "source": [
    "### Setting up the analysis_tools package"
   ]
  },
  {
   "cell_type": "markdown",
   "id": "53536611-c540-49fb-87db-9f45dc09bf98",
   "metadata": {},
   "source": [
    "Check the version of the stack you are using"
   ]
  },
  {
   "cell_type": "code",
   "execution_count": null,
   "id": "04c5caf9-7177-4d59-9c69-0fce71bd0816",
   "metadata": {
    "execution": {
     "iopub.execute_input": "2024-03-24T14:31:22.734776Z",
     "iopub.status.busy": "2024-03-24T14:31:22.734427Z",
     "iopub.status.idle": "2024-03-24T14:31:23.095098Z",
     "shell.execute_reply": "2024-03-24T14:31:23.094636Z",
     "shell.execute_reply.started": "2024-03-24T14:31:22.734763Z"
    },
    "tags": []
   },
   "outputs": [],
   "source": [
    "!eups list -s | grep lsst_distrib"
   ]
  },
  {
   "cell_type": "markdown",
   "id": "7712911a-48c9-499f-bb5c-e2c7d930c99b",
   "metadata": {},
   "source": [
    "The `analysis_tools` package was added to `lsst_distrib` in August 2022, and accordingly, if you have set up the LSST Stack version `w_2022_32` or later, then you should be able to import `analysis_tools` directly in the notebook.\n",
    "\n",
    "See the header for this notebook for the most recent verified Science Pipelines version for this tutorial."
   ]
  },
  {
   "cell_type": "code",
   "execution_count": null,
   "id": "63239e01-0499-4898-8101-fd01a3897acf",
   "metadata": {
    "execution": {
     "iopub.execute_input": "2024-03-24T14:31:23.096841Z",
     "iopub.status.busy": "2024-03-24T14:31:23.096668Z",
     "iopub.status.idle": "2024-03-24T14:31:25.031150Z",
     "shell.execute_reply": "2024-03-24T14:31:25.030693Z",
     "shell.execute_reply.started": "2024-03-24T14:31:23.096824Z"
    },
    "tags": []
   },
   "outputs": [],
   "source": [
    "import lsst.analysis.tools\n",
    "print(lsst.analysis.tools.__file__)"
   ]
  },
  {
   "cell_type": "markdown",
   "id": "bd9e09fe-b7d4-41b2-9cad-5f61c4c14cff",
   "metadata": {
    "execution": {
     "iopub.execute_input": "2023-05-04T01:28:21.164082Z",
     "iopub.status.busy": "2023-05-04T01:28:21.163705Z",
     "iopub.status.idle": "2023-05-04T01:28:21.168877Z",
     "shell.execute_reply": "2023-05-04T01:28:21.168256Z",
     "shell.execute_reply.started": "2023-05-04T01:28:21.164065Z"
    },
    "tags": []
   },
   "source": [
    "**Additional background information:** If you are doing development on the `analysis_tools` package and want to test in a notebook, follow the guidance [here](https://nb.lsst.io/science-pipelines/development-tutorial.html). Brief version below (for work on the RSP at USDF):\n",
    "\n",
    "1. In the termal, clone the [analysis_tools](https://github.com/lsst/analysis_tools) repo and set up the package\n",
    "\n",
    "```\n",
    "source /opt/lsst/software/stack/loadLSST.bash\n",
    "setup lsst_distrib\n",
    "\n",
    "# Choose file location for your repo\n",
    "cd ~/repos/\n",
    "git clone https://github.com/lsst/analysis_tools.git\n",
    "cd analysis_tools\n",
    "setup -k -r .\n",
    "scons\n",
    "```\n",
    "\n",
    "2. Add the following line to `~/notebooks/.user_setups`\n",
    "\n",
    "```\n",
    "setup -k -r ~/repos/analysis_tools\n",
    "```\n",
    "\n",
    "Your local version of `analysis_tools` should now be accessible in a notebook."
   ]
  },
  {
   "cell_type": "markdown",
   "id": "958b0c97-2bcd-42b9-a3de-083f4828c14e",
   "metadata": {
    "tags": []
   },
   "source": [
    "## Load data for testing"
   ]
  },
  {
   "cell_type": "code",
   "execution_count": null,
   "id": "ea55f341-506c-4df0-a5a1-93810ded50d4",
   "metadata": {
    "execution": {
     "iopub.execute_input": "2024-03-24T14:31:25.031870Z",
     "iopub.status.busy": "2024-03-24T14:31:25.031724Z",
     "iopub.status.idle": "2024-03-24T14:31:25.034126Z",
     "shell.execute_reply": "2024-03-24T14:31:25.033769Z",
     "shell.execute_reply.started": "2024-03-24T14:31:25.031856Z"
    }
   },
   "outputs": [],
   "source": [
    "import lsst.daf.butler as dafButler"
   ]
  },
  {
   "cell_type": "markdown",
   "id": "38543d2d-5a45-4481-aebc-e67d2e8a239e",
   "metadata": {},
   "source": [
    "Point to a shared sandbox instance of the processed rc2_subset or point to your own instance. \n",
    "\n",
    "**Note:** For one of the sections later in the notebook that shows how to run analysis_tools as part of a pipeline, you need to point to your own processed instance of rc2_subset. That section can be skipped if you are pointing to the shared sandbox repo."
   ]
  },
  {
   "cell_type": "code",
   "execution_count": null,
   "id": "d8502fc8-b7c0-42d5-b83e-2ceef4fa101c",
   "metadata": {
    "execution": {
     "iopub.execute_input": "2024-03-24T14:31:25.034726Z",
     "iopub.status.busy": "2024-03-24T14:31:25.034598Z",
     "iopub.status.idle": "2024-03-24T14:31:25.040509Z",
     "shell.execute_reply": "2024-03-24T14:31:25.040137Z",
     "shell.execute_reply.started": "2024-03-24T14:31:25.034714Z"
    },
    "tags": []
   },
   "outputs": [],
   "source": [
    "if SANDBOX_REPO:\n",
    "    # Point to existing sandbox repo if you prefer to skip processing steps\n",
    "    collections = ['u/bechtol']\n",
    "    repo = '/sdf/group/rubin/user/bechtol/bootcamp_2023/rc2_subset/SMALL_HSC/'\n",
    "else:\n",
    "    # User instance of the repo if you have processed rc2_subset yourself\n",
    "    #collections = ['u/%s'%os.environ['USER']]\n",
    "    #repo = '/sdf/group/rubin/user/%s/bootcamp_2023/rc2_subset/SMALL_HSC/'%(os.environ['USER'])\n",
    "    repo = \"/sdf/group/rubin/repo/oga/\"\n",
    "    #collections = \"LATISS/runs/AUXTEL_DRP_IMAGING_2023-11A-10A-09AB-08ABC-07AB-05AB/w_2023_46/PREOPS-4553\"\n",
    "    collections = \"LATISS/runs/AUXTEL_DRP_IMAGING_20230509_20240201/w_2024_05/PREOPS-4871\"\n",
    "print(collections)\n",
    "print(repo)"
   ]
  },
  {
   "cell_type": "code",
   "execution_count": null,
   "id": "509e92e3-77e8-4fd9-bfab-4b1f764d70d9",
   "metadata": {
    "execution": {
     "iopub.execute_input": "2024-03-24T14:31:25.041186Z",
     "iopub.status.busy": "2024-03-24T14:31:25.040972Z",
     "iopub.status.idle": "2024-03-24T14:31:25.556991Z",
     "shell.execute_reply": "2024-03-24T14:31:25.556553Z",
     "shell.execute_reply.started": "2024-03-24T14:31:25.041173Z"
    },
    "tags": []
   },
   "outputs": [],
   "source": [
    "butler = dafButler.Butler(repo, collections=collections)\n",
    "registry = butler.registry"
   ]
  },
  {
   "cell_type": "markdown",
   "id": "9efe83a0-d105-4a49-8519-0ec861bf2b6c",
   "metadata": {
    "execution": {
     "iopub.execute_input": "2023-04-19T04:34:52.356165Z",
     "iopub.status.busy": "2023-04-19T04:34:52.355921Z",
     "iopub.status.idle": "2023-04-19T04:34:52.358613Z",
     "shell.execute_reply": "2023-04-19T04:34:52.358183Z",
     "shell.execute_reply.started": "2023-04-19T04:34:52.356149Z"
    },
    "tags": []
   },
   "source": [
    "Check what dataset types are present in the collection. Note that the cell below will show _only the dataset types that are present in the specified collection_, not all of the possible dataset types that are known to the butler registry."
   ]
  },
  {
   "cell_type": "code",
   "execution_count": null,
   "id": "4b2522e7-35e1-4475-b503-e727bae939f3",
   "metadata": {
    "execution": {
     "iopub.execute_input": "2024-03-24T14:31:25.557708Z",
     "iopub.status.busy": "2024-03-24T14:31:25.557567Z",
     "iopub.status.idle": "2024-03-24T14:31:39.469869Z",
     "shell.execute_reply": "2024-03-24T14:31:39.469416Z",
     "shell.execute_reply.started": "2024-03-24T14:31:25.557695Z"
    },
    "tags": []
   },
   "outputs": [],
   "source": [
    "for datasetType in registry.queryDatasetTypes():\n",
    "    if registry.queryDatasets(datasetType, collections=collections).any(execute=False, exact=False):\n",
    "        print(datasetType)"
   ]
  },
  {
   "cell_type": "markdown",
   "id": "6519bdbf-a9c7-4bb3-b9c1-c03e02177afa",
   "metadata": {
    "tags": []
   },
   "source": [
    "### Object tables\n",
    "\n",
    "The examples below use an object table"
   ]
  },
  {
   "cell_type": "code",
   "execution_count": null,
   "id": "a86f7ad8-a6e2-4b0a-b593-eef02f9d8211",
   "metadata": {
    "execution": {
     "iopub.execute_input": "2024-03-24T14:31:39.470589Z",
     "iopub.status.busy": "2024-03-24T14:31:39.470456Z",
     "iopub.status.idle": "2024-03-24T14:31:39.487850Z",
     "shell.execute_reply": "2024-03-24T14:31:39.487468Z",
     "shell.execute_reply.started": "2024-03-24T14:31:39.470577Z"
    },
    "tags": []
   },
   "outputs": [],
   "source": [
    "refs = sorted(registry.queryDatasets(\"objectTable_tract\"))\n",
    "print(len(refs))"
   ]
  },
  {
   "cell_type": "code",
   "execution_count": null,
   "id": "00b4eb4b-9f19-4af2-b0d8-1d3a0ffed060",
   "metadata": {
    "execution": {
     "iopub.execute_input": "2024-03-24T14:31:39.488430Z",
     "iopub.status.busy": "2024-03-24T14:31:39.488306Z",
     "iopub.status.idle": "2024-03-24T14:31:39.490906Z",
     "shell.execute_reply": "2024-03-24T14:31:39.490553Z",
     "shell.execute_reply.started": "2024-03-24T14:31:39.488418Z"
    },
    "tags": []
   },
   "outputs": [],
   "source": [
    "N = len(refs)\n",
    "for idx in range(N):\n",
    "    print(idx,refs[idx].dataId)"
   ]
  },
  {
   "cell_type": "code",
   "execution_count": null,
   "id": "7e2b7687-a351-4422-93c9-7b73c9bcbb9a",
   "metadata": {
    "execution": {
     "iopub.execute_input": "2024-03-24T14:31:39.491504Z",
     "iopub.status.busy": "2024-03-24T14:31:39.491383Z",
     "iopub.status.idle": "2024-03-24T14:31:39.868149Z",
     "shell.execute_reply": "2024-03-24T14:31:39.867765Z",
     "shell.execute_reply.started": "2024-03-24T14:31:39.491493Z"
    },
    "tags": []
   },
   "outputs": [],
   "source": [
    "objectTable = butler.get(refs[5])\n",
    "objectTable"
   ]
  },
  {
   "cell_type": "code",
   "execution_count": null,
   "id": "ee6fe2b7-3446-4ee9-8f6a-177ea5a9bfcf",
   "metadata": {
    "execution": {
     "iopub.execute_input": "2024-03-24T14:31:39.868838Z",
     "iopub.status.busy": "2024-03-24T14:31:39.868705Z",
     "iopub.status.idle": "2024-03-24T14:31:39.872461Z",
     "shell.execute_reply": "2024-03-24T14:31:39.872119Z",
     "shell.execute_reply.started": "2024-03-24T14:31:39.868826Z"
    },
    "tags": []
   },
   "outputs": [],
   "source": [
    "objectTable.columns.values"
   ]
  },
  {
   "cell_type": "markdown",
   "id": "cf1ea0e6-2412-4e8e-908c-57a77240e31d",
   "metadata": {
    "execution": {
     "iopub.execute_input": "2023-04-19T04:41:15.719044Z",
     "iopub.status.busy": "2023-04-19T04:41:15.718764Z",
     "iopub.status.idle": "2023-04-19T04:41:15.721677Z",
     "shell.execute_reply": "2023-04-19T04:41:15.721225Z",
     "shell.execute_reply.started": "2023-04-19T04:41:15.719027Z"
    }
   },
   "source": [
    "### Source tables"
   ]
  },
  {
   "cell_type": "code",
   "execution_count": null,
   "id": "c7df9b9b-8985-4445-b5b3-e29190155a67",
   "metadata": {
    "execution": {
     "iopub.execute_input": "2024-03-24T14:31:39.873075Z",
     "iopub.status.busy": "2024-03-24T14:31:39.872941Z",
     "iopub.status.idle": "2024-03-24T14:31:40.780976Z",
     "shell.execute_reply": "2024-03-24T14:31:40.780554Z",
     "shell.execute_reply.started": "2024-03-24T14:31:39.873063Z"
    },
    "tags": []
   },
   "outputs": [],
   "source": [
    "refs = sorted(registry.queryDatasets(\"sourceTable_visit\"))"
   ]
  },
  {
   "cell_type": "code",
   "execution_count": null,
   "id": "88711a61-bd88-4fa0-b970-c002f04f19d4",
   "metadata": {
    "execution": {
     "iopub.execute_input": "2024-03-24T14:31:40.781675Z",
     "iopub.status.busy": "2024-03-24T14:31:40.781542Z",
     "iopub.status.idle": "2024-03-24T14:31:40.784873Z",
     "shell.execute_reply": "2024-03-24T14:31:40.784528Z",
     "shell.execute_reply.started": "2024-03-24T14:31:40.781663Z"
    },
    "tags": []
   },
   "outputs": [],
   "source": [
    "for idx,ref in enumerate(refs): \n",
    "    print(idx,ref.dataId.full)\n",
    "    if idx> 10:\n",
    "        break"
   ]
  },
  {
   "cell_type": "code",
   "execution_count": null,
   "id": "9a8cc15d-a550-4d0f-9e88-80934df213f5",
   "metadata": {
    "execution": {
     "iopub.execute_input": "2024-03-24T14:31:40.785458Z",
     "iopub.status.busy": "2024-03-24T14:31:40.785335Z",
     "iopub.status.idle": "2024-03-24T14:31:40.853985Z",
     "shell.execute_reply": "2024-03-24T14:31:40.853629Z",
     "shell.execute_reply.started": "2024-03-24T14:31:40.785446Z"
    },
    "tags": []
   },
   "outputs": [],
   "source": [
    "sourceTable = butler.get(refs[-1])\n",
    "sourceTable.head()"
   ]
  },
  {
   "cell_type": "code",
   "execution_count": null,
   "id": "6eec9b9f-ac5a-4b0f-9c7f-449ac4e33bf1",
   "metadata": {
    "execution": {
     "iopub.execute_input": "2024-03-24T14:31:40.854575Z",
     "iopub.status.busy": "2024-03-24T14:31:40.854451Z",
     "iopub.status.idle": "2024-03-24T14:31:40.857473Z",
     "shell.execute_reply": "2024-03-24T14:31:40.857153Z",
     "shell.execute_reply.started": "2024-03-24T14:31:40.854563Z"
    },
    "tags": []
   },
   "outputs": [],
   "source": [
    "sourceTable.columns.values"
   ]
  },
  {
   "cell_type": "markdown",
   "id": "3d4e07fc-a438-47b0-aadb-2af33ec3d516",
   "metadata": {
    "tags": []
   },
   "source": [
    "## Run `analysis_tools` interactively\n",
    "\n",
    "Run an `AnalysisTool` interactively in a notebook by passing in-memory data inputs to create metrics and diagnostic plots.\n",
    "\n",
    "In this example, we compute PSF model size residuals relative to the observed PSF size."
   ]
  },
  {
   "cell_type": "code",
   "execution_count": null,
   "id": "4c8b30ae-d864-42d9-9bb1-4866b7d25d81",
   "metadata": {
    "execution": {
     "iopub.execute_input": "2024-03-24T14:31:40.858239Z",
     "iopub.status.busy": "2024-03-24T14:31:40.857992Z",
     "iopub.status.idle": "2024-03-24T14:31:44.603531Z",
     "shell.execute_reply": "2024-03-24T14:31:44.602991Z",
     "shell.execute_reply.started": "2024-03-24T14:31:40.858226Z"
    },
    "tags": []
   },
   "outputs": [],
   "source": [
    "from lsst.analysis.tools.atools import ShapeSizeFractionalDiff\n",
    "from lsst.analysis.tools.interfaces._task import _StandinPlotInfo\n",
    "from lsst.analysis.tools.interfaces import NoPlot"
   ]
  },
  {
   "cell_type": "code",
   "execution_count": null,
   "id": "e103cb45-932c-45b7-a39b-b921f12a0da5",
   "metadata": {
    "execution": {
     "iopub.execute_input": "2024-03-24T14:31:44.604760Z",
     "iopub.status.busy": "2024-03-24T14:31:44.604230Z",
     "iopub.status.idle": "2024-03-24T14:31:44.616352Z",
     "shell.execute_reply": "2024-03-24T14:31:44.615979Z",
     "shell.execute_reply.started": "2024-03-24T14:31:44.604745Z"
    },
    "tags": []
   },
   "outputs": [],
   "source": [
    "atool = ShapeSizeFractionalDiff()\n",
    "atool.produce.plot.addSummaryPlot = False\n",
    "\n",
    "# Do not produce plot; only metric values\n",
    "#atool.produce.plot = NoPlot() \n",
    "\n",
    "# Apply the updated configuration\n",
    "atool.finalize()"
   ]
  },
  {
   "cell_type": "markdown",
   "id": "f89e188f-d418-46f4-8bfb-81cc89012662",
   "metadata": {
    "execution": {
     "iopub.execute_input": "2023-05-03T05:46:38.219181Z",
     "iopub.status.busy": "2023-05-03T05:46:38.218965Z",
     "iopub.status.idle": "2023-05-03T05:46:38.222496Z",
     "shell.execute_reply": "2023-05-03T05:46:38.221961Z",
     "shell.execute_reply.started": "2023-05-03T05:46:38.219165Z"
    },
    "tags": []
   },
   "source": [
    "Notice that the returned metric values match summary statistics displayed on the plot"
   ]
  },
  {
   "cell_type": "code",
   "execution_count": null,
   "id": "467a2791-9303-4520-a3f9-18547dff5da2",
   "metadata": {
    "execution": {
     "iopub.execute_input": "2024-03-24T14:31:44.619275Z",
     "iopub.status.busy": "2024-03-24T14:31:44.619142Z",
     "iopub.status.idle": "2024-03-24T14:31:45.358224Z",
     "shell.execute_reply": "2024-03-24T14:31:45.357771Z",
     "shell.execute_reply.started": "2024-03-24T14:31:44.619264Z"
    },
    "tags": []
   },
   "outputs": [],
   "source": [
    "results = atool(objectTable, band='g', skymap=None, plotInfo=_StandinPlotInfo())\n",
    "results"
   ]
  },
  {
   "cell_type": "markdown",
   "id": "1909412c-2c20-4ab4-bd44-d60533313b43",
   "metadata": {
    "execution": {
     "iopub.execute_input": "2023-05-04T01:33:22.746626Z",
     "iopub.status.busy": "2023-05-04T01:33:22.746379Z",
     "iopub.status.idle": "2023-05-04T01:33:22.749197Z",
     "shell.execute_reply": "2023-05-04T01:33:22.748767Z",
     "shell.execute_reply.started": "2023-05-04T01:33:22.746610Z"
    },
    "tags": []
   },
   "source": [
    "## ConfigurableActions are the atomic bits of `analysis_tools`\n",
    "\n",
    "We introduce core concepts of the `analysis_tools` package, starting with the idea of [ConfigurableAction](https://pipelines.lsst.io/v/weekly/modules/lsst.pex.config/overview.html#specialized-config-subclasses)s, or actions for short."
   ]
  },
  {
   "cell_type": "markdown",
   "id": "f0962a7d-4ef8-4764-87bb-14fb4b736d86",
   "metadata": {},
   "source": [
    "### Terminology\n",
    "\n",
    "Data Types (many of the [actions in analysis_tools](https://github.com/lsst/analysis_tools/tree/main/python/lsst/analysis/tools/actions) are grouped according to the resultant data type)\n",
    "* `Scalar`: Something that is number like (int, float, numpy.float32 etc.)\n",
    "* `Vector`: Something that is ndarray like\n",
    "* `KeyedData`: Anything that is indexed by a string that can return a Vector, or Scalar\n",
    "\n",
    "Analysis Structures\n",
    "* `ConfigurableAction`: generic interface for function-like objects (actions) that have state which can be set during configuration\n",
    "* `AnalysisAction`: A ConfigurableAction subclass that is specialized for actions that function in analysis contexts\n",
    "* `AnalysisTool`: A top level \"container\" of multiple AnalysisActions which performs one type of analysis\n",
    "\n",
    "We dive into the later two in more detail below"
   ]
  },
  {
   "cell_type": "markdown",
   "id": "ca962680-ff78-4782-a373-f121c8a97b34",
   "metadata": {},
   "source": [
    "### Using AnalysisActions\n",
    "\n",
    "- Configurable `AnalysisActions` are the atomic bits of `analysis_tools`. They can be combined together to make more complex actions, or used as part of an AnalysisTool\n",
    "- We show some examples of using configurable actions like standalone functions to provide intution for how configurable actions work.\n",
    "- Show examples with KeyedDataActions, VectorActions (including selectors), and ScalarActions\n",
    "- Show examples of configuration"
   ]
  },
  {
   "cell_type": "markdown",
   "id": "e6a8dbc4-be1e-4f1a-92fe-03b289ae361b",
   "metadata": {},
   "source": [
    "Let's use actions to compute the measured PSF size for a set of stars from an object catalog."
   ]
  },
  {
   "cell_type": "code",
   "execution_count": null,
   "id": "d35c8e85-b8b3-4cd1-9d3f-08791afc01e5",
   "metadata": {
    "execution": {
     "iopub.execute_input": "2024-03-24T14:31:45.359001Z",
     "iopub.status.busy": "2024-03-24T14:31:45.358860Z",
     "iopub.status.idle": "2024-03-24T14:31:45.361399Z",
     "shell.execute_reply": "2024-03-24T14:31:45.361043Z",
     "shell.execute_reply.started": "2024-03-24T14:31:45.358988Z"
    },
    "tags": []
   },
   "outputs": [],
   "source": [
    "#from lsst.analysis.tools.actions.vector import CalcShapeSize\n",
    "from lsst.analysis.tools.actions.vector import CalcMomentSize\n",
    "from lsst.analysis.tools.actions.vector import ConvertFluxToMag"
   ]
  },
  {
   "cell_type": "code",
   "execution_count": null,
   "id": "9bba4288-5612-4add-8c90-6134a814da02",
   "metadata": {
    "execution": {
     "iopub.execute_input": "2024-03-24T14:31:45.362142Z",
     "iopub.status.busy": "2024-03-24T14:31:45.361884Z",
     "iopub.status.idle": "2024-03-24T14:31:45.365722Z",
     "shell.execute_reply": "2024-03-24T14:31:45.365360Z",
     "shell.execute_reply.started": "2024-03-24T14:31:45.362129Z"
    },
    "tags": []
   },
   "outputs": [],
   "source": [
    "#sizeCalculator = CalcShapeSize()\n",
    "sizeCalculator =  CalcMomentSize()"
   ]
  },
  {
   "cell_type": "code",
   "execution_count": null,
   "id": "df3f4c5a-178e-461c-a123-37c73d3166e5",
   "metadata": {
    "execution": {
     "iopub.execute_input": "2024-03-24T14:31:45.366335Z",
     "iopub.status.busy": "2024-03-24T14:31:45.366210Z",
     "iopub.status.idle": "2024-03-24T14:31:45.370321Z",
     "shell.execute_reply": "2024-03-24T14:31:45.369943Z",
     "shell.execute_reply.started": "2024-03-24T14:31:45.366323Z"
    },
    "tags": []
   },
   "outputs": [],
   "source": [
    "# Inspect the configuration of this object.\n",
    "pprint(sizeCalculator.toDict())"
   ]
  },
  {
   "cell_type": "code",
   "execution_count": null,
   "id": "529f9254-c983-4c15-889f-e37ae3959d69",
   "metadata": {
    "execution": {
     "iopub.execute_input": "2024-03-24T14:31:45.370942Z",
     "iopub.status.busy": "2024-03-24T14:31:45.370820Z",
     "iopub.status.idle": "2024-03-24T14:31:45.373591Z",
     "shell.execute_reply": "2024-03-24T14:31:45.373248Z",
     "shell.execute_reply.started": "2024-03-24T14:31:45.370931Z"
    },
    "tags": []
   },
   "outputs": [],
   "source": [
    "# Inspect the required input schema, notice that we will need to provide the band information\n",
    "sizeCalculator.getInputSchema()"
   ]
  },
  {
   "cell_type": "code",
   "execution_count": null,
   "id": "bcac39ad-74a3-4aae-b183-58158569cbb6",
   "metadata": {
    "execution": {
     "iopub.execute_input": "2024-03-24T14:31:45.374193Z",
     "iopub.status.busy": "2024-03-24T14:31:45.374070Z",
     "iopub.status.idle": "2024-03-24T14:31:45.380394Z",
     "shell.execute_reply": "2024-03-24T14:31:45.380013Z",
     "shell.execute_reply.started": "2024-03-24T14:31:45.374182Z"
    },
    "tags": []
   },
   "outputs": [],
   "source": [
    "size = sizeCalculator(objectTable, band='i')\n",
    "print(size)"
   ]
  },
  {
   "cell_type": "code",
   "execution_count": null,
   "id": "c892f6b3-6ba5-4d2a-8e60-f75a032375c4",
   "metadata": {
    "execution": {
     "iopub.execute_input": "2024-03-24T14:31:45.381067Z",
     "iopub.status.busy": "2024-03-24T14:31:45.380935Z",
     "iopub.status.idle": "2024-03-24T14:31:45.383198Z",
     "shell.execute_reply": "2024-03-24T14:31:45.382813Z",
     "shell.execute_reply.started": "2024-03-24T14:31:45.381056Z"
    }
   },
   "outputs": [],
   "source": [
    "magConverter = ConvertFluxToMag()"
   ]
  },
  {
   "cell_type": "code",
   "execution_count": null,
   "id": "6125c59f-9d57-4c76-b5b6-d8690ae4aaf0",
   "metadata": {
    "execution": {
     "iopub.execute_input": "2024-03-24T14:31:45.383795Z",
     "iopub.status.busy": "2024-03-24T14:31:45.383673Z",
     "iopub.status.idle": "2024-03-24T14:31:45.387442Z",
     "shell.execute_reply": "2024-03-24T14:31:45.387050Z",
     "shell.execute_reply.started": "2024-03-24T14:31:45.383784Z"
    }
   },
   "outputs": [],
   "source": [
    "pprint(magConverter.toDict())"
   ]
  },
  {
   "cell_type": "code",
   "execution_count": null,
   "id": "c51c2df9-0809-4d09-9cf6-b2761ea6b389",
   "metadata": {
    "execution": {
     "iopub.execute_input": "2024-03-24T14:31:45.388142Z",
     "iopub.status.busy": "2024-03-24T14:31:45.388010Z",
     "iopub.status.idle": "2024-03-24T14:31:45.390508Z",
     "shell.execute_reply": "2024-03-24T14:31:45.390180Z",
     "shell.execute_reply.started": "2024-03-24T14:31:45.388131Z"
    }
   },
   "outputs": [],
   "source": [
    "magConverter.getInputSchema()"
   ]
  },
  {
   "cell_type": "markdown",
   "id": "9a2e3e59-105e-4a28-b3d6-648c93b7f079",
   "metadata": {},
   "source": [
    "In the next example, we show how to configure an action"
   ]
  },
  {
   "cell_type": "code",
   "execution_count": null,
   "id": "bdff84ff-50c0-49c4-8031-e4b331bc7204",
   "metadata": {
    "execution": {
     "iopub.execute_input": "2024-03-24T14:31:45.391081Z",
     "iopub.status.busy": "2024-03-24T14:31:45.390954Z",
     "iopub.status.idle": "2024-03-24T14:31:45.395981Z",
     "shell.execute_reply": "2024-03-24T14:31:45.395650Z",
     "shell.execute_reply.started": "2024-03-24T14:31:45.391070Z"
    }
   },
   "outputs": [],
   "source": [
    "# Another example, this time to convert fluxes to magnitudes\n",
    "magConverter = ConvertFluxToMag()\n",
    "magConverter.vectorKey='{band}_psfFlux'\n",
    "mag = magConverter(objectTable, band='i')"
   ]
  },
  {
   "cell_type": "code",
   "execution_count": null,
   "id": "4162b9cc-3b9c-404b-94d3-d46ffb443989",
   "metadata": {
    "execution": {
     "iopub.execute_input": "2024-03-24T14:31:45.396559Z",
     "iopub.status.busy": "2024-03-24T14:31:45.396439Z",
     "iopub.status.idle": "2024-03-24T14:31:45.400357Z",
     "shell.execute_reply": "2024-03-24T14:31:45.400008Z",
     "shell.execute_reply.started": "2024-03-24T14:31:45.396548Z"
    },
    "tags": []
   },
   "outputs": [],
   "source": [
    "# Notice that the lines above is equiavalent to the following\n",
    "magConverterAlternate = ConvertFluxToMag()\n",
    "magConverterAlternate.vectorKey='i_psfFlux'\n",
    "magAlternate = magConverterAlternate(objectTable)\n",
    "\n",
    "# Confirm the results match\n",
    "assert np.allclose(mag, magAlternate, equal_nan=True)"
   ]
  },
  {
   "cell_type": "markdown",
   "id": "45c1ab2a-1c19-4389-99c7-98a3b3ef9c3a",
   "metadata": {},
   "source": [
    "It is also possible set configuration of an action during initialization"
   ]
  },
  {
   "cell_type": "code",
   "execution_count": null,
   "id": "0cdfc76a-ba4f-4ba3-a5fe-73bca0a2b405",
   "metadata": {
    "execution": {
     "iopub.execute_input": "2024-03-24T14:31:45.400931Z",
     "iopub.status.busy": "2024-03-24T14:31:45.400811Z",
     "iopub.status.idle": "2024-03-24T14:31:45.405453Z",
     "shell.execute_reply": "2024-03-24T14:31:45.405097Z",
     "shell.execute_reply.started": "2024-03-24T14:31:45.400920Z"
    },
    "tags": []
   },
   "outputs": [],
   "source": [
    "magConverterAlternate = ConvertFluxToMag(vectorKey='{band}_psfFlux')\n",
    "\n",
    "assert np.allclose(\n",
    "    magConverter(objectTable, band='i'), \n",
    "    magConverterAlternate(objectTable, band='i'), \n",
    "    equal_nan=True\n",
    ")"
   ]
  },
  {
   "cell_type": "markdown",
   "id": "82f0d329-e27d-40dc-ae70-b070261db8a6",
   "metadata": {},
   "source": [
    "Now make a plot"
   ]
  },
  {
   "cell_type": "code",
   "execution_count": null,
   "id": "6c22da3d-56af-40e8-ae23-26ed4c50cb5b",
   "metadata": {
    "execution": {
     "iopub.execute_input": "2024-03-24T14:31:45.406038Z",
     "iopub.status.busy": "2024-03-24T14:31:45.405911Z",
     "iopub.status.idle": "2024-03-24T14:31:45.506975Z",
     "shell.execute_reply": "2024-03-24T14:31:45.506616Z",
     "shell.execute_reply.started": "2024-03-24T14:31:45.406021Z"
    },
    "tags": []
   },
   "outputs": [],
   "source": [
    "plt.figure()\n",
    "plt.scatter(mag, size, s=1)\n",
    "plt.xlim(10.5, 22.)\n",
    "plt.ylim(0, 10)\n",
    "plt.xlabel('mag')\n",
    "plt.ylabel('size')"
   ]
  },
  {
   "cell_type": "markdown",
   "id": "3812c7a4-7286-4b79-aa99-78597f71ff48",
   "metadata": {
    "execution": {
     "iopub.execute_input": "2023-05-04T01:38:05.230530Z",
     "iopub.status.busy": "2023-05-04T01:38:05.230271Z",
     "iopub.status.idle": "2023-05-04T01:38:05.233651Z",
     "shell.execute_reply": "2023-05-04T01:38:05.233123Z",
     "shell.execute_reply.started": "2023-05-04T01:38:05.230511Z"
    },
    "tags": []
   },
   "source": [
    "Let's remake that simple plot now selecting only the stars"
   ]
  },
  {
   "cell_type": "code",
   "execution_count": null,
   "id": "d119d2cc-546b-4ef7-a870-ec815ee3e0ab",
   "metadata": {
    "execution": {
     "iopub.execute_input": "2024-03-24T14:31:45.507650Z",
     "iopub.status.busy": "2024-03-24T14:31:45.507519Z",
     "iopub.status.idle": "2024-03-24T14:31:45.509668Z",
     "shell.execute_reply": "2024-03-24T14:31:45.509297Z",
     "shell.execute_reply.started": "2024-03-24T14:31:45.507639Z"
    },
    "tags": []
   },
   "outputs": [],
   "source": [
    "from lsst.analysis.tools.actions.vector import StarSelector"
   ]
  },
  {
   "cell_type": "code",
   "execution_count": null,
   "id": "56cd84ef-6ef8-45da-b043-c5cc46423091",
   "metadata": {
    "execution": {
     "iopub.execute_input": "2024-03-24T14:31:45.510307Z",
     "iopub.status.busy": "2024-03-24T14:31:45.510177Z",
     "iopub.status.idle": "2024-03-24T14:31:45.513706Z",
     "shell.execute_reply": "2024-03-24T14:31:45.513347Z",
     "shell.execute_reply.started": "2024-03-24T14:31:45.510295Z"
    }
   },
   "outputs": [],
   "source": [
    "StarSelector().toDict()"
   ]
  },
  {
   "cell_type": "code",
   "execution_count": null,
   "id": "3858e817-d43f-4d3a-b08c-f98af52a032f",
   "metadata": {
    "execution": {
     "iopub.execute_input": "2024-03-24T14:31:45.514407Z",
     "iopub.status.busy": "2024-03-24T14:31:45.514288Z",
     "iopub.status.idle": "2024-03-24T14:31:45.518708Z",
     "shell.execute_reply": "2024-03-24T14:31:45.518357Z",
     "shell.execute_reply.started": "2024-03-24T14:31:45.514396Z"
    }
   },
   "outputs": [],
   "source": [
    "StarSelector().getInputSchema()"
   ]
  },
  {
   "cell_type": "code",
   "execution_count": null,
   "id": "931d898f-3187-4c5f-a51a-1f19c31315bd",
   "metadata": {
    "execution": {
     "iopub.execute_input": "2024-03-24T14:31:45.519317Z",
     "iopub.status.busy": "2024-03-24T14:31:45.519196Z",
     "iopub.status.idle": "2024-03-24T14:31:45.521824Z",
     "shell.execute_reply": "2024-03-24T14:31:45.521463Z",
     "shell.execute_reply.started": "2024-03-24T14:31:45.519306Z"
    },
    "tags": []
   },
   "outputs": [],
   "source": [
    "starSelection = StarSelector()(objectTable, band='i')"
   ]
  },
  {
   "cell_type": "code",
   "execution_count": null,
   "id": "1a3fb2e0-6ce3-411a-9ba5-8c3646c38693",
   "metadata": {
    "execution": {
     "iopub.execute_input": "2024-03-24T14:31:45.522411Z",
     "iopub.status.busy": "2024-03-24T14:31:45.522292Z",
     "iopub.status.idle": "2024-03-24T14:31:45.618432Z",
     "shell.execute_reply": "2024-03-24T14:31:45.618039Z",
     "shell.execute_reply.started": "2024-03-24T14:31:45.522401Z"
    },
    "tags": []
   },
   "outputs": [],
   "source": [
    "plt.figure()\n",
    "plt.scatter(mag[starSelection], size.values[starSelection], s=1)\n",
    "plt.xlim(10.0, 22.)\n",
    "plt.ylim(0, 10)\n",
    "plt.xlabel('mag')\n",
    "plt.ylabel('size')"
   ]
  },
  {
   "cell_type": "markdown",
   "id": "486e2060-3d75-4b9f-af13-6938b3e1ce8e",
   "metadata": {},
   "source": [
    "We can chain together `AnalysisAction`s, as in the following example that produces an equivalent plot. The `analysis_tools` package frequently uses this approach of chaining together `AnalysisAction`s."
   ]
  },
  {
   "cell_type": "code",
   "execution_count": null,
   "id": "02935538-6927-4ffb-ac5a-e9d3a186ca60",
   "metadata": {
    "execution": {
     "iopub.execute_input": "2024-03-24T14:31:45.619153Z",
     "iopub.status.busy": "2024-03-24T14:31:45.619009Z",
     "iopub.status.idle": "2024-03-24T14:31:45.621313Z",
     "shell.execute_reply": "2024-03-24T14:31:45.620972Z",
     "shell.execute_reply.started": "2024-03-24T14:31:45.619141Z"
    }
   },
   "outputs": [],
   "source": [
    "from lsst.analysis.tools.actions.vector import DownselectVector\n",
    "from lsst.analysis.tools.actions.keyedData import AddComputedVector"
   ]
  },
  {
   "cell_type": "code",
   "execution_count": null,
   "id": "6527c5e5-4423-4b51-ade7-eb72de9def90",
   "metadata": {
    "execution": {
     "iopub.execute_input": "2024-03-24T14:31:45.621935Z",
     "iopub.status.busy": "2024-03-24T14:31:45.621812Z",
     "iopub.status.idle": "2024-03-24T14:31:45.625186Z",
     "shell.execute_reply": "2024-03-24T14:31:45.624822Z",
     "shell.execute_reply.started": "2024-03-24T14:31:45.621924Z"
    }
   },
   "outputs": [],
   "source": [
    "DownselectVector().toDict()"
   ]
  },
  {
   "cell_type": "code",
   "execution_count": null,
   "id": "4004fbba-2e6c-4c23-9912-2380a67989e6",
   "metadata": {
    "execution": {
     "iopub.execute_input": "2024-03-24T14:31:45.625805Z",
     "iopub.status.busy": "2024-03-24T14:31:45.625683Z",
     "iopub.status.idle": "2024-03-24T14:31:45.630088Z",
     "shell.execute_reply": "2024-03-24T14:31:45.629724Z",
     "shell.execute_reply.started": "2024-03-24T14:31:45.625794Z"
    }
   },
   "outputs": [],
   "source": [
    "DownselectVector().getInputSchema()"
   ]
  },
  {
   "cell_type": "code",
   "execution_count": null,
   "id": "bc1dd9ad-90d4-4ed6-a5b7-375b9d3d6b9a",
   "metadata": {
    "execution": {
     "iopub.execute_input": "2024-03-24T14:31:45.630784Z",
     "iopub.status.busy": "2024-03-24T14:31:45.630655Z",
     "iopub.status.idle": "2024-03-24T14:31:45.633363Z",
     "shell.execute_reply": "2024-03-24T14:31:45.633047Z",
     "shell.execute_reply.started": "2024-03-24T14:31:45.630773Z"
    }
   },
   "outputs": [],
   "source": [
    "AddComputedVector().toDict()"
   ]
  },
  {
   "cell_type": "code",
   "execution_count": null,
   "id": "dacc4af2-4545-4037-9e50-a2a472f60776",
   "metadata": {
    "execution": {
     "iopub.execute_input": "2024-03-24T14:31:45.633949Z",
     "iopub.status.busy": "2024-03-24T14:31:45.633830Z",
     "iopub.status.idle": "2024-03-24T14:31:45.639747Z",
     "shell.execute_reply": "2024-03-24T14:31:45.639421Z",
     "shell.execute_reply.started": "2024-03-24T14:31:45.633939Z"
    }
   },
   "outputs": [],
   "source": [
    "AddComputedVector().getInputSchema()"
   ]
  },
  {
   "cell_type": "code",
   "execution_count": null,
   "id": "3b1c5fe7-421b-40af-8821-fb85f3d2c018",
   "metadata": {
    "execution": {
     "iopub.execute_input": "2024-03-24T14:31:45.640340Z",
     "iopub.status.busy": "2024-03-24T14:31:45.640219Z",
     "iopub.status.idle": "2024-03-24T14:31:45.751346Z",
     "shell.execute_reply": "2024-03-24T14:31:45.750938Z",
     "shell.execute_reply.started": "2024-03-24T14:31:45.640329Z"
    },
    "tags": []
   },
   "outputs": [],
   "source": [
    "from lsst.analysis.tools.actions.vector import DownselectVector\n",
    "from lsst.analysis.tools.actions.keyedData import AddComputedVector\n",
    "\n",
    "band = \"i\"\n",
    "\n",
    "# Add a new key that points to a vector of \"size\" values\n",
    "objectTableDemo = AddComputedVector(action=CalcMomentSize, keyName=\"size\")(objectTable, band=band)\n",
    "\n",
    "# Note type(objectTable) is now a python dictionary instead of a pandas table, but since both\n",
    "# \"quack\" like KeyedData they can be used interchangably\n",
    "\n",
    "# Add a new key that points to a vector of \"mag\" values\n",
    "objectTableDemo = AddComputedVector(\n",
    "    action=ConvertFluxToMag(\n",
    "        vectorKey='{band}_psfFlux'\n",
    "    ),\n",
    "    keyName=\"mag\"\n",
    ")(objectTableDemo, band=band)\n",
    "\n",
    "# Example of a more explicit syntax\n",
    "downselector = DownselectVector()\n",
    "downselector.vectorKey = \"size\"\n",
    "downselector.selector = StarSelector\n",
    "size = downselector(objectTableDemo, band=band)\n",
    "\n",
    "# Example of a more compact syntax\n",
    "mag = DownselectVector(vectorKey=\"mag\", selector=StarSelector)(objectTableDemo, band=band)\n",
    "\n",
    "plt.figure()\n",
    "plt.scatter(mag, size, s=1)\n",
    "plt.xlim(10., 22.)\n",
    "plt.ylim(0, 10)\n",
    "plt.xlabel('mag')\n",
    "plt.ylabel('size')"
   ]
  },
  {
   "cell_type": "markdown",
   "id": "e072acd2-7460-4912-8eee-d1adeadbe9e4",
   "metadata": {},
   "source": [
    "### Actions as a generic interface for data\n",
    "Actions are not restricted to tables or products loaded from the butler, `KeyedData` could also be things like dictionaries of numpy arrays."
   ]
  },
  {
   "cell_type": "code",
   "execution_count": null,
   "id": "c1f9865c-9c9e-4e68-9840-e63f4fd5431b",
   "metadata": {
    "execution": {
     "iopub.execute_input": "2024-03-24T14:31:45.752090Z",
     "iopub.status.busy": "2024-03-24T14:31:45.751922Z",
     "iopub.status.idle": "2024-03-24T14:31:45.755022Z",
     "shell.execute_reply": "2024-03-24T14:31:45.754633Z",
     "shell.execute_reply.started": "2024-03-24T14:31:45.752077Z"
    },
    "tags": []
   },
   "outputs": [],
   "source": [
    "import lsst.analysis.tools.actions\n",
    "dir(lsst.analysis.tools.actions)"
   ]
  },
  {
   "cell_type": "code",
   "execution_count": null,
   "id": "96c7a7b9-86c1-4fe5-94b3-e508aabc6e31",
   "metadata": {
    "execution": {
     "iopub.execute_input": "2024-03-24T14:31:45.755671Z",
     "iopub.status.busy": "2024-03-24T14:31:45.755546Z",
     "iopub.status.idle": "2024-03-24T14:31:45.759371Z",
     "shell.execute_reply": "2024-03-24T14:31:45.758976Z",
     "shell.execute_reply.started": "2024-03-24T14:31:45.755659Z"
    },
    "tags": []
   },
   "outputs": [],
   "source": [
    "from lsst.analysis.tools.actions.scalar import StdevAction\n",
    "\n",
    "# create some KeyedData\n",
    "data = {\"randomData\": np.random.normal(0, 3, 10000)}\n",
    "\n",
    "# initialize an action, setting it to use the key set above\n",
    "action = StdevAction(vectorKey=\"randomData\")\n",
    "\n",
    "#plt.figure()\n",
    "#plt.hist(data[\"randomData\"], bins=100, density=True)\n",
    "\n",
    "# Run the action and print the results\n",
    "print(f\"The standard deviation is {action(data)}\")"
   ]
  },
  {
   "cell_type": "markdown",
   "id": "02d7771c-1d12-42f5-b439-273fce21683f",
   "metadata": {
    "execution": {
     "iopub.execute_input": "2023-05-04T05:19:13.011552Z",
     "iopub.status.busy": "2023-05-04T05:19:13.010913Z",
     "iopub.status.idle": "2023-05-04T05:19:13.013826Z",
     "shell.execute_reply": "2023-05-04T05:19:13.013369Z",
     "shell.execute_reply.started": "2023-05-04T05:19:13.011530Z"
    },
    "tags": []
   },
   "source": [
    "### Create a new action\n",
    "\n",
    "In the example below, we define a new VectorAction to multiply a vector by a scalar."
   ]
  },
  {
   "cell_type": "code",
   "execution_count": null,
   "id": "f6ee1f7b-e2b3-4c1d-b5c8-a0d409dbeff5",
   "metadata": {
    "execution": {
     "iopub.execute_input": "2024-03-24T14:31:45.760022Z",
     "iopub.status.busy": "2024-03-24T14:31:45.759897Z",
     "iopub.status.idle": "2024-03-24T14:31:45.763523Z",
     "shell.execute_reply": "2024-03-24T14:31:45.763157Z",
     "shell.execute_reply.started": "2024-03-24T14:31:45.760011Z"
    },
    "tags": []
   },
   "outputs": [],
   "source": [
    "from lsst.analysis.tools.interfaces import VectorAction, KeyedData, KeyedDataSchema, Vector\n",
    "from lsst.pex.config import Field\n",
    "#rom lsstinterfaces import KeyedData, KeyedDataSchema\n",
    "\n",
    "class MultiplyByScalar(VectorAction):\n",
    "    \"\"\"Multiply vector by a scalar value\"\"\"\n",
    "\n",
    "    vectorKey = Field[str](doc=\"Key of vector which should be loaded\")\n",
    "    factor = Field[float](doc=\"Multiplicative factor\", default=1.)\n",
    "\n",
    "    def getInputSchema(self) -> KeyedDataSchema:\n",
    "        return ((self.vectorKey, Vector),)\n",
    "\n",
    "    def __call__(self, data: KeyedData, **kwargs) -> Vector:\n",
    "        return np.array(self.factor * data[self.vectorKey.format(**kwargs)])"
   ]
  },
  {
   "cell_type": "code",
   "execution_count": null,
   "id": "8b822cc7-8e40-4538-be49-84078187fbe0",
   "metadata": {
    "execution": {
     "iopub.execute_input": "2024-03-24T14:31:45.764182Z",
     "iopub.status.busy": "2024-03-24T14:31:45.764045Z",
     "iopub.status.idle": "2024-03-24T14:31:45.767122Z",
     "shell.execute_reply": "2024-03-24T14:31:45.766759Z",
     "shell.execute_reply.started": "2024-03-24T14:31:45.764170Z"
    },
    "tags": []
   },
   "outputs": [],
   "source": [
    "action = MultiplyByScalar(vectorKey=\"randomData\", factor=2.)\n",
    "results = action(data)\n",
    "assert np.allclose(results, 2. * data['randomData'])"
   ]
  },
  {
   "cell_type": "markdown",
   "id": "166efc57-922d-41bf-a219-398717d1f576",
   "metadata": {},
   "source": [
    "### Three conceptual steps in an `AnalysisTool`: prep, process, produce\n",
    "\n",
    "As mentioned AnalysisTools can be thought of as executable containers of AnalysisActions. There are three different AnalysisActions, referred to as stages, named prep, process, and produce.\n",
    "* Prep: Responsible for any initial selection and filtering of data\n",
    "* Process: This is where any transformations and/or calculations are made\n",
    "* Produce: Generates final plot and/or metric objects\n",
    "\n",
    "The following examples will:\n",
    "* Walk through the three stages of running an analysis tool in sequential lines of code, passing the output of one step as input to the next step\n",
    "* Examine intermediate results"
   ]
  },
  {
   "cell_type": "code",
   "execution_count": null,
   "id": "0de63587-5da9-4263-975d-13d29597f963",
   "metadata": {
    "execution": {
     "iopub.execute_input": "2024-03-24T14:31:45.767725Z",
     "iopub.status.busy": "2024-03-24T14:31:45.767603Z",
     "iopub.status.idle": "2024-03-24T14:31:46.470801Z",
     "shell.execute_reply": "2024-03-24T14:31:46.470206Z",
     "shell.execute_reply.started": "2024-03-24T14:31:45.767714Z"
    },
    "tags": []
   },
   "outputs": [],
   "source": [
    "prepResults = atool.prep(objectTable, band='i')\n",
    "processResults = atool.process(prepResults, band='i')\n",
    "produceResults = atool.produce(processResults, band='i', skymap=None, plotInfo=_StandinPlotInfo())"
   ]
  },
  {
   "cell_type": "markdown",
   "id": "40c20ca1-0cdd-478a-82de-e62d6784ed5e",
   "metadata": {},
   "source": [
    "Inspect the intermediate results"
   ]
  },
  {
   "cell_type": "code",
   "execution_count": null,
   "id": "a58b7c8c-43db-4950-9f3d-92e57fdaddc3",
   "metadata": {
    "execution": {
     "iopub.execute_input": "2024-03-24T14:31:46.471544Z",
     "iopub.status.busy": "2024-03-24T14:31:46.471410Z",
     "iopub.status.idle": "2024-03-24T14:31:46.473573Z",
     "shell.execute_reply": "2024-03-24T14:31:46.473241Z",
     "shell.execute_reply.started": "2024-03-24T14:31:46.471532Z"
    },
    "tags": []
   },
   "outputs": [],
   "source": [
    "#prepResults"
   ]
  },
  {
   "cell_type": "code",
   "execution_count": null,
   "id": "1d1f8767-927b-480e-a53f-c27de41d8949",
   "metadata": {
    "execution": {
     "iopub.execute_input": "2024-03-24T14:31:46.474116Z",
     "iopub.status.busy": "2024-03-24T14:31:46.473994Z",
     "iopub.status.idle": "2024-03-24T14:31:46.477301Z",
     "shell.execute_reply": "2024-03-24T14:31:46.476875Z",
     "shell.execute_reply.started": "2024-03-24T14:31:46.474106Z"
    },
    "tags": []
   },
   "outputs": [],
   "source": [
    "#processResults"
   ]
  },
  {
   "cell_type": "markdown",
   "id": "aa126f70-ba67-4d41-a86f-2534f66be0bf",
   "metadata": {
    "execution": {
     "iopub.execute_input": "2023-05-04T01:51:31.319631Z",
     "iopub.status.busy": "2023-05-04T01:51:31.319043Z",
     "iopub.status.idle": "2023-05-04T01:51:31.321813Z",
     "shell.execute_reply": "2023-05-04T01:51:31.321442Z",
     "shell.execute_reply.started": "2023-05-04T01:51:31.319614Z"
    },
    "tags": []
   },
   "source": [
    "## Workflow examples"
   ]
  },
  {
   "cell_type": "markdown",
   "id": "f7c90e82-a6e3-4948-9deb-c22e9f17a8a2",
   "metadata": {},
   "source": [
    "### Running analysis_tools as part of a pipeline\n",
    "\n",
    "* **All examples in this notebook should use the simple pipeline executor** (here is how you do it in a notebook)\n",
    "* We have a PipelineTask for each data product. A task can run multiple AnalysisTools that each produce a set of plots or set of metrics and are subclasses of AnalysisPipelineTask.\n",
    "* Discuss an example yaml pipeline file (load the yaml)\n",
    "* Provide the command to run the pipeline\n",
    "* Show how to configure the pipeline, e.g., turning on or off different metrics and plots or changing other parameters"
   ]
  },
  {
   "cell_type": "markdown",
   "id": "034775fb-763c-4c19-a414-8bbbff46167d",
   "metadata": {},
   "source": [
    "**WARNING:** If you are using your own processed instance of rc_subset, run the following cells to run analysis_tools as part of a pipeline from the notebook. If you are pointing to a shared sandbox instance of rc2_subset, skip the remaining cells in this section."
   ]
  },
  {
   "cell_type": "code",
   "execution_count": null,
   "id": "f8e697f5-7b3f-4d2e-a160-6fb065823ba3",
   "metadata": {
    "execution": {
     "iopub.execute_input": "2024-03-24T14:31:46.477763Z",
     "iopub.status.busy": "2024-03-24T14:31:46.477649Z",
     "iopub.status.idle": "2024-03-24T14:31:46.522289Z",
     "shell.execute_reply": "2024-03-24T14:31:46.521884Z",
     "shell.execute_reply.started": "2024-03-24T14:31:46.477752Z"
    },
    "tags": []
   },
   "outputs": [],
   "source": [
    "if not SANDBOX_REPO:\n",
    "    from lsst.ctrl.mpexec import SimplePipelineExecutor\n",
    "    from lsst.pipe.base import Pipeline\n",
    "\n",
    "    # set up an output collection with your username\n",
    "    analysisToolsCollection = \"u/%s/analysisToolsExampleAuxtel\"%os.environ['USER']\n",
    "    print(analysisToolsCollection)\n",
    "\n",
    "    # this can be skipped if you already have a read writable butler setup (above is read only)\n",
    "    #butlerRW = SimplePipelineExecutor.prep_butler(repo, inputs=collections, output=analysisToolsCollection)\n",
    "    butlerRW = butler\n",
    "    # load in the pipeline to run\n",
    "    pipeline = Pipeline.from_uri(\"$ANALYSIS_TOOLS_DIR/pipelines/coaddQualityCore.yaml\")\n",
    "\n",
    "    # override a configuration within a certain AnalysisTool\n",
    "    configKey = \"atools.shapeSizeFractionalDiff.prep.selectors.snSelector.threshold\"\n",
    "    pipeline.addConfigOverride(\"analyzeObjectTableCore\", configKey, 400)\n",
    "\n",
    "    # Run only the PSF size residual tool\n",
    "    pipeline.addConfigOverride(\"analyzeObjectTableCore\", \"atools\", None)\n",
    "    pipeline.addConfigOverride(\"analyzeObjectTableCore\", \"atools.shapeSizeFractionalDiff\", ShapeSizeFractionalDiff)\n",
    "\n",
    "    # bands = ['g', 'r', 'i', 'z']\n",
    "    bands = ['z']\n",
    "    pipeline.addConfigOverride(\"analyzeObjectTableCore\", \"bands\", bands)\n",
    "    pipeline.addConfigOverride(\"catalogMatchTract\", \"bands\", bands)\n",
    "    pipeline.addConfigOverride(\"refCatObjectTract\", \"bands\", bands)\n",
    "\n",
    "    # restrict processing to the same dataId used above\n",
    "    whereString = \"tract = 3864 AND skymap = 'latiss_v1'\""
   ]
  },
  {
   "cell_type": "markdown",
   "id": "82652abd-f938-4a98-8f67-0eebe77324a6",
   "metadata": {},
   "source": [
    "Display the pipeline that is about to be run"
   ]
  },
  {
   "cell_type": "code",
   "execution_count": null,
   "id": "0044cb7f-df8d-4c3f-8261-df46178f912e",
   "metadata": {
    "execution": {
     "iopub.execute_input": "2024-03-24T14:31:46.522895Z",
     "iopub.status.busy": "2024-03-24T14:31:46.522767Z",
     "iopub.status.idle": "2024-03-24T14:31:46.528887Z",
     "shell.execute_reply": "2024-03-24T14:31:46.528500Z",
     "shell.execute_reply.started": "2024-03-24T14:31:46.522883Z"
    },
    "tags": []
   },
   "outputs": [],
   "source": [
    "if not SANDBOX_REPO:\n",
    "    print(pipeline)"
   ]
  },
  {
   "cell_type": "code",
   "execution_count": null,
   "id": "d65aa110-38a8-4c41-9386-14222517a2ba",
   "metadata": {
    "execution": {
     "iopub.execute_input": "2024-03-24T14:31:46.529460Z",
     "iopub.status.busy": "2024-03-24T14:31:46.529337Z",
     "iopub.status.idle": "2024-03-24T14:31:47.165562Z",
     "shell.execute_reply": "2024-03-24T14:31:47.163395Z",
     "shell.execute_reply.started": "2024-03-24T14:31:46.529450Z"
    },
    "tags": []
   },
   "outputs": [],
   "source": [
    "if not SANDBOX_REPO:\n",
    "    # Prevent the executor from dumping plots into the notebook\n",
    "    backend_ =  mpl.get_backend() \n",
    "    mpl.use(\"Agg\")\n",
    "\n",
    "    executor = SimplePipelineExecutor.from_pipeline(pipeline, where=whereString, butler=butlerRW)\n",
    "    quanta = executor.run(True)\n",
    "\n",
    "    # Restore the ability for plots to be put into the notebook\n",
    "    mpl.use(backend_)"
   ]
  },
  {
   "cell_type": "code",
   "execution_count": null,
   "id": "0d9009ec-38b0-4c67-954b-899974fd32f1",
   "metadata": {
    "execution": {
     "iopub.status.busy": "2024-03-24T14:31:47.166129Z",
     "iopub.status.idle": "2024-03-24T14:31:47.166348Z",
     "shell.execute_reply": "2024-03-24T14:31:47.166235Z",
     "shell.execute_reply.started": "2024-03-24T14:31:47.166225Z"
    },
    "tags": []
   },
   "outputs": [],
   "source": [
    "if not SANDBOX_REPO:\n",
    "    # Refresh our read-only butler to see the changes made. (It's generally a\n",
    "    # good idea to work on read-only things)\n",
    "    butler.registry.refresh()"
   ]
  },
  {
   "cell_type": "markdown",
   "id": "ffb24d5d-13f9-4c37-9f75-969b49eef233",
   "metadata": {},
   "source": [
    "## Access persisted metrics"
   ]
  },
  {
   "cell_type": "markdown",
   "id": "aeb1f09c-165b-41fa-8544-a2aaa44d5b6f",
   "metadata": {},
   "source": [
    "Specify the collection that holds the results of running analysis_tools. If you are pointing to your own instance of rc2_subset, you did this already above prior to running the pipeline and the cell below is not needed."
   ]
  },
  {
   "cell_type": "code",
   "execution_count": null,
   "id": "4ac51e0e-2ea4-48ea-881d-76f5bd5fbdc7",
   "metadata": {
    "execution": {
     "iopub.status.busy": "2024-03-24T14:31:47.167159Z",
     "iopub.status.idle": "2024-03-24T14:31:47.167334Z",
     "shell.execute_reply": "2024-03-24T14:31:47.167254Z",
     "shell.execute_reply.started": "2024-03-24T14:31:47.167246Z"
    },
    "tags": []
   },
   "outputs": [],
   "source": [
    "if SANDBOX_REPO:\n",
    "    # The following is not needed if you are pointing to your own instance of rc2_subset\n",
    "    analysisToolsCollection = \"u/bechtol/analysisToolsExample\""
   ]
  },
  {
   "cell_type": "markdown",
   "id": "c474ece0-6b8b-4e8c-989e-db23e23c8827",
   "metadata": {},
   "source": [
    "Check what dataset types exist in the new collection."
   ]
  },
  {
   "cell_type": "code",
   "execution_count": null,
   "id": "718585b6-757e-4de5-a3e1-ebfdc16e8164",
   "metadata": {
    "execution": {
     "iopub.status.busy": "2024-03-24T14:31:47.168038Z",
     "iopub.status.idle": "2024-03-24T14:31:47.168232Z",
     "shell.execute_reply": "2024-03-24T14:31:47.168144Z",
     "shell.execute_reply.started": "2024-03-24T14:31:47.168136Z"
    },
    "tags": []
   },
   "outputs": [],
   "source": [
    "# See what datasets exist; there should now be objectTableCore_metrics\n",
    "for datasetType in registry.queryDatasetTypes():\n",
    "    if registry.queryDatasets(datasetType, collections=analysisToolsCollection).any(execute=False, exact=False):\n",
    "        print(datasetType)"
   ]
  },
  {
   "cell_type": "markdown",
   "id": "24e88923-cc4f-4cfc-93ea-7f89f5620236",
   "metadata": {},
   "source": [
    "Access the persisted metrics."
   ]
  },
  {
   "cell_type": "code",
   "execution_count": null,
   "id": "0a790bf8-a35b-44b0-8fa8-8640cc434506",
   "metadata": {
    "execution": {
     "iopub.status.busy": "2024-03-24T14:31:47.168713Z",
     "iopub.status.idle": "2024-03-24T14:31:47.168864Z",
     "shell.execute_reply": "2024-03-24T14:31:47.168794Z",
     "shell.execute_reply.started": "2024-03-24T14:31:47.168787Z"
    },
    "tags": []
   },
   "outputs": [],
   "source": [
    "# Get the metric that was written\n",
    "print(analysisToolsCollection)\n",
    "refs = sorted(butler.registry.queryDatasets(\"objectTableCore_metrics\", collections=analysisToolsCollection))\n",
    "pprint(refs)\n",
    "dataId = refs[-1].dataId\n",
    "print(dataId)\n",
    "print(refs[-1].run)\n",
    "objectTable_metrics = butler.get(\"objectTableCore_metrics\", dataId=dataId, collections=analysisToolsCollection)\n",
    "pprint(objectTable_metrics)"
   ]
  },
  {
   "cell_type": "markdown",
   "id": "1373184e-244f-4be7-ace0-9bee74833895",
   "metadata": {},
   "source": [
    "Also, we can see that a plot has been persisted, but there isn't a way to visualize the plot from the notebook. In the next section, we'll use the `reconstructor` to recreate the plot in the notebook."
   ]
  },
  {
   "cell_type": "code",
   "execution_count": null,
   "id": "67690e31-e5d6-4013-944e-21c5a93e7b93",
   "metadata": {
    "execution": {
     "iopub.status.busy": "2024-03-24T14:31:47.169586Z",
     "iopub.status.idle": "2024-03-24T14:31:47.169783Z",
     "shell.execute_reply": "2024-03-24T14:31:47.169696Z",
     "shell.execute_reply.started": "2024-03-24T14:31:47.169688Z"
    },
    "tags": []
   },
   "outputs": [],
   "source": [
    "refs = sorted(butler.registry.queryDatasets(\n",
    "    \"objectTableCore_i_shapeSizeFractionalDiff_ScatterPlotWithTwoHists\", \n",
    "    collections=analysisToolsCollection)\n",
    ")\n",
    "print(refs[0])\n",
    "\n",
    "# The following line will throw an error\n",
    "# plot = butler.get(\n",
    "#     \"objectTableCore_i_shapeSizeFractionalDiff_ScatterPlotWithTwoHists\",\n",
    "#     dataId=refs[0].dataId,\n",
    "#     collections=analysisToolsCollection\n",
    "# )"
   ]
  },
  {
   "cell_type": "markdown",
   "id": "b1c00f34-bef0-4f9b-be9a-b5d82974674f",
   "metadata": {},
   "source": [
    "### Reconstruct the inputs to an `AnalysisTool`\n",
    "\n",
    "Analysis(Tools/Actions) allow the exact state of `AnalysisTool`s to be saved into the Butler when a pipeline is run. This allows a user to 'reconstruct' things as they were when the tools were executed. This aids in debugging and deep diving into the data.\n",
    "\n",
    "Below is an example of reconstructing one of the tasks that was run in the Pipeline above."
   ]
  },
  {
   "cell_type": "code",
   "execution_count": null,
   "id": "1569bb6f-6dd7-4619-969a-1d4f9dd0bd3e",
   "metadata": {
    "execution": {
     "iopub.status.busy": "2024-03-24T14:31:47.170376Z",
     "iopub.status.idle": "2024-03-24T14:31:47.170551Z",
     "shell.execute_reply": "2024-03-24T14:31:47.170458Z",
     "shell.execute_reply.started": "2024-03-24T14:31:47.170451Z"
    },
    "tags": []
   },
   "outputs": [],
   "source": [
    "from lsst.analysis.tools.tasks.reconstructor import reconstructAnalysisTools\n",
    "\n",
    "# Read in just one task\n",
    "label = \"analyzeObjectTableCore\"\n",
    "taskState, inputData = reconstructAnalysisTools(butler, \n",
    "                                                collection=analysisToolsCollection, \n",
    "                                                label=label, \n",
    "                                                dataId=dataId, \n",
    "                                                callback=None\n",
    ")"
   ]
  },
  {
   "cell_type": "markdown",
   "id": "f03c96a9-d8a7-4a04-9461-8160779c3692",
   "metadata": {},
   "source": [
    "We have access to the exact configuration that was used to run the analysis tools."
   ]
  },
  {
   "cell_type": "code",
   "execution_count": null,
   "id": "ccc4d194-e979-4f5e-a7e7-7709c4b9a56c",
   "metadata": {
    "execution": {
     "iopub.status.busy": "2024-03-24T14:31:47.171258Z",
     "iopub.status.idle": "2024-03-24T14:31:47.171564Z",
     "shell.execute_reply": "2024-03-24T14:31:47.171472Z",
     "shell.execute_reply.started": "2024-03-24T14:31:47.171464Z"
    },
    "tags": []
   },
   "outputs": [],
   "source": [
    "pprint(taskState.toDict())"
   ]
  },
  {
   "cell_type": "markdown",
   "id": "fba7df8d-39a6-4eb8-8658-bc62ea8e3b63",
   "metadata": {},
   "source": [
    "We also have access to the input data that were used to produce the diagnostics, in this case, the object table."
   ]
  },
  {
   "cell_type": "code",
   "execution_count": null,
   "id": "2912a99c-b963-499c-a413-0dca8c869290",
   "metadata": {
    "execution": {
     "iopub.status.busy": "2024-03-24T14:31:47.172023Z",
     "iopub.status.idle": "2024-03-24T14:31:47.172194Z",
     "shell.execute_reply": "2024-03-24T14:31:47.172118Z",
     "shell.execute_reply.started": "2024-03-24T14:31:47.172110Z"
    },
    "tags": []
   },
   "outputs": [],
   "source": [
    "inputData[\"data\"]"
   ]
  },
  {
   "cell_type": "markdown",
   "id": "b8598951-1c6c-4773-aab9-dddafbe1561b",
   "metadata": {},
   "source": [
    "Quick check to verify that the object table data are indeed the same."
   ]
  },
  {
   "cell_type": "code",
   "execution_count": null,
   "id": "c8c838cb-ca4e-4603-af90-3af2b5527774",
   "metadata": {
    "execution": {
     "iopub.status.busy": "2024-03-24T14:31:47.172885Z",
     "iopub.status.idle": "2024-03-24T14:31:47.173260Z",
     "shell.execute_reply": "2024-03-24T14:31:47.173172Z",
     "shell.execute_reply.started": "2024-03-24T14:31:47.173163Z"
    },
    "tags": []
   },
   "outputs": [],
   "source": [
    "assert np.allclose(inputData[\"data\"]['coord_ra'], objectTable['coord_ra'])"
   ]
  },
  {
   "cell_type": "markdown",
   "id": "e908a5e2-b9c8-4e48-b069-54ff1ecaac26",
   "metadata": {},
   "source": [
    "We can now reproduce diagnostic metrics and plots interactively in the notebook"
   ]
  },
  {
   "cell_type": "code",
   "execution_count": null,
   "id": "f6877c94-35a8-433e-b3b8-c51d48ad0f30",
   "metadata": {
    "execution": {
     "iopub.status.busy": "2024-03-24T14:31:47.173906Z",
     "iopub.status.idle": "2024-03-24T14:31:47.174200Z",
     "shell.execute_reply": "2024-03-24T14:31:47.174081Z",
     "shell.execute_reply.started": "2024-03-24T14:31:47.174071Z"
    },
    "tags": []
   },
   "outputs": [],
   "source": [
    "# The following configuration won't be needed in the future\n",
    "taskState.atools.shapeSizeFractionalDiff.produce.plot.addSummaryPlot = False\n",
    "\n",
    "taskState.atools.shapeSizeFractionalDiff(\n",
    "    inputData['data'],\n",
    "    band='i',\n",
    "    skymap=None,\n",
    "    plotInfo=_StandinPlotInfo()\n",
    ")"
   ]
  },
  {
   "cell_type": "markdown",
   "id": "52b0701d-8753-45dc-a786-5986cb834c82",
   "metadata": {},
   "source": [
    "Next, we change one of the configuration parameters to see how the results change. \n",
    "\n",
    "In this example, we raise the signal-to-noise threshold to 200. Notice that the metric values and plot change with this updated object selection criteria."
   ]
  },
  {
   "cell_type": "code",
   "execution_count": null,
   "id": "a9ec74c4-429c-4d76-8b16-7859b283a8a3",
   "metadata": {
    "execution": {
     "iopub.status.busy": "2024-03-24T14:31:47.174757Z",
     "iopub.status.idle": "2024-03-24T14:31:47.174919Z",
     "shell.execute_reply": "2024-03-24T14:31:47.174846Z",
     "shell.execute_reply.started": "2024-03-24T14:31:47.174839Z"
    },
    "tags": []
   },
   "outputs": [],
   "source": [
    "# change some configuration to see the differences\n",
    "taskState.atools.shapeSizeFractionalDiff.prep.selectors.snSelector.threshold = 200\n",
    "taskState.atools.shapeSizeFractionalDiff(\n",
    "    inputData['data'],\n",
    "    band='i',\n",
    "    skymap=None,\n",
    "    plotInfo=_StandinPlotInfo()\n",
    ")"
   ]
  },
  {
   "cell_type": "markdown",
   "id": "8a40cf10-9df9-472d-b656-fd99dba20c4a",
   "metadata": {},
   "source": [
    "As before, we can also step through the calculation to check intermediate steps."
   ]
  },
  {
   "cell_type": "code",
   "execution_count": null,
   "id": "687feae9-6996-449d-b7a7-b12ba71d2791",
   "metadata": {
    "execution": {
     "iopub.status.busy": "2024-03-24T14:31:47.175468Z",
     "iopub.status.idle": "2024-03-24T14:31:47.175617Z",
     "shell.execute_reply": "2024-03-24T14:31:47.175548Z",
     "shell.execute_reply.started": "2024-03-24T14:31:47.175541Z"
    },
    "tags": []
   },
   "outputs": [],
   "source": [
    "prepResults = taskState.atools.shapeSizeFractionalDiff.prep(objectTable, band='i')\n",
    "processResults = taskState.atools.shapeSizeFractionalDiff.process(prepResults, band='i')\n",
    "produceResults = taskState.atools.shapeSizeFractionalDiff.produce(processResults, band='i', skymap=None, plotInfo=_StandinPlotInfo())"
   ]
  },
  {
   "cell_type": "markdown",
   "id": "7a5a688a-bb97-4ac3-87b1-a69ed2d5371f",
   "metadata": {},
   "source": [
    "## Create a new analysis tool\n",
    "\n",
    "Example `AnalysisTool`s can be found in the [atools](https://github.com/lsst/analysis_tools/tree/main/python/lsst/analysis/tools/atools) directory of the package.\n",
    "\n",
    "Now let's create our own `AnalysisTool`"
   ]
  },
  {
   "cell_type": "code",
   "execution_count": null,
   "id": "52a4ea7c-cc92-425f-89de-f85b9847c42a",
   "metadata": {
    "execution": {
     "iopub.status.busy": "2024-03-24T14:31:47.176268Z",
     "iopub.status.idle": "2024-03-24T14:31:47.176423Z",
     "shell.execute_reply": "2024-03-24T14:31:47.176349Z",
     "shell.execute_reply.started": "2024-03-24T14:31:47.176342Z"
    },
    "tags": []
   },
   "outputs": [],
   "source": [
    "from lsst.analysis.tools.interfaces import AnalysisTool\n",
    "from lsst.analysis.tools.actions.scalar import MedianAction, CountAction\n",
    "from lsst.analysis.tools.actions.vector import SnSelector\n",
    "\n",
    "\n",
    "class DemoTool(AnalysisTool):\n",
    "    #parameterizedBand: bool = False\n",
    "    \n",
    "    def setDefaults(self):\n",
    "        super().setDefaults()\n",
    "        \n",
    "        # select on high signal to noise obejcts\n",
    "        # add in a signal to noise selector\n",
    "        self.prep.selectors.snSelector = SnSelector()\n",
    "        \n",
    "        # set what key the selector should use when deciding SNR\n",
    "        self.prep.selectors.snSelector.fluxType = \"psfFlux\"\n",
    "        \n",
    "        # select what threshold value is desireable for the selector\n",
    "        self.prep.selectors.snSelector.threshold = 10\n",
    "        \n",
    "        # the final name in the qualification is used as a key to insert\n",
    "        # the calculation into KeyedData\n",
    "        self.process.calculateActions.median = MedianAction()\n",
    "        self.process.calculateActions.median.vectorKey = \"psfFlux\"\n",
    "        self.process.calculateActions.count = CountAction()\n",
    "        self.process.calculateActions.count.vectorKey = \"psfFlux\"\n",
    "        \n",
    "        # tell the metic what the units are for the quantity\n",
    "        self.produce.metric.units = {\"median\": \"Jy\",\n",
    "                                     \"count\": \"count\"}\n",
    "        \n",
    "        # Rename the quanity prior to producing the Metric\n",
    "        # (useful for resuable workflows that set a name toward the end of computation)\n",
    "        # self.produce.metric.newNames = {\"medianValueName\": \"DemoMetric\"}"
   ]
  },
  {
   "cell_type": "markdown",
   "id": "cfc314fb-6312-49c5-b34e-de2641e0d109",
   "metadata": {},
   "source": [
    "Examine the configuration of our new tool"
   ]
  },
  {
   "cell_type": "code",
   "execution_count": null,
   "id": "b6ea7b18-81fe-4427-8f0f-813b8be89256",
   "metadata": {
    "execution": {
     "iopub.status.busy": "2024-03-24T14:31:47.177004Z",
     "iopub.status.idle": "2024-03-24T14:31:47.177169Z",
     "shell.execute_reply": "2024-03-24T14:31:47.177095Z",
     "shell.execute_reply.started": "2024-03-24T14:31:47.177089Z"
    },
    "tags": []
   },
   "outputs": [],
   "source": [
    "DemoTool().toDict()"
   ]
  },
  {
   "cell_type": "markdown",
   "id": "72bd6355-e71c-4548-82da-6a68d72a91a9",
   "metadata": {},
   "source": [
    "Make some synthetic data"
   ]
  },
  {
   "cell_type": "code",
   "execution_count": null,
   "id": "eea5ed3d-860c-4670-b509-241d20fc5b43",
   "metadata": {
    "execution": {
     "iopub.status.busy": "2024-03-24T14:31:47.177698Z",
     "iopub.status.idle": "2024-03-24T14:31:47.177917Z",
     "shell.execute_reply": "2024-03-24T14:31:47.177805Z",
     "shell.execute_reply.started": "2024-03-24T14:31:47.177795Z"
    },
    "tags": []
   },
   "outputs": [],
   "source": [
    "# Make some synthetic data\n",
    "size = 500\n",
    "flux = np.logspace(1., 4., size)\n",
    "fluxErr = np.sqrt(flux)\n",
    "flux += np.random.normal(0, np.sqrt(flux), size)\n",
    "data = {\"psfFlux\": flux, \"psfFluxErr\": fluxErr}\n",
    "\n",
    "plt.figure()\n",
    "plt.xscale('log')\n",
    "plt.yscale('log')\n",
    "plt.scatter(data['psfFlux'], data['psfFluxErr'])\n",
    "plt.xlabel('psfFlux')\n",
    "plt.ylabel('psfFluxErr')"
   ]
  },
  {
   "cell_type": "markdown",
   "id": "78795035-d65b-4349-8311-95ca916f9479",
   "metadata": {},
   "source": [
    "Run the new analysis tool."
   ]
  },
  {
   "cell_type": "code",
   "execution_count": null,
   "id": "2afd643a-97b2-4e46-9b8f-4ba74e3c82a0",
   "metadata": {
    "execution": {
     "iopub.status.busy": "2024-03-24T14:31:47.178613Z",
     "iopub.status.idle": "2024-03-24T14:31:47.178814Z",
     "shell.execute_reply": "2024-03-24T14:31:47.178721Z",
     "shell.execute_reply.started": "2024-03-24T14:31:47.178711Z"
    },
    "tags": []
   },
   "outputs": [],
   "source": [
    "demoTool = DemoTool()\n",
    "demoTool.populatePrepFromProcess()\n",
    "\n",
    "# We can configure as needed\n",
    "demoTool.prep.selectors.snSelector.threshold = 50\n",
    "\n",
    "demoTool(data)"
   ]
  },
  {
   "cell_type": "markdown",
   "id": "a570e5ab-f6cb-4622-b40f-a5404b70ddc6",
   "metadata": {},
   "source": [
    "We can inspect intermediate stages of the analysis."
   ]
  },
  {
   "cell_type": "code",
   "execution_count": null,
   "id": "d76aea13-d00b-4da9-8ee0-73848cc39d4e",
   "metadata": {
    "execution": {
     "iopub.status.busy": "2024-03-24T14:31:47.179644Z",
     "iopub.status.idle": "2024-03-24T14:31:47.179967Z",
     "shell.execute_reply": "2024-03-24T14:31:47.179866Z",
     "shell.execute_reply.started": "2024-03-24T14:31:47.179858Z"
    },
    "tags": []
   },
   "outputs": [],
   "source": [
    "# Example: how many of the data points pass the SNR threshold?\n",
    "len(demoTool.prep(data)['psfFlux'])"
   ]
  },
  {
   "cell_type": "code",
   "execution_count": null,
   "id": "7e4b5ed1-20ae-4a34-af96-7fdb27811764",
   "metadata": {},
   "outputs": [],
   "source": []
  }
 ],
 "metadata": {
  "kernelspec": {
   "display_name": "LSST",
   "language": "python",
   "name": "lsst"
  },
  "language_info": {
   "codemirror_mode": {
    "name": "ipython",
    "version": 3
   },
   "file_extension": ".py",
   "mimetype": "text/x-python",
   "name": "python",
   "nbconvert_exporter": "python",
   "pygments_lexer": "ipython3",
   "version": "3.11.7"
  }
 },
 "nbformat": 4,
 "nbformat_minor": 5
}
