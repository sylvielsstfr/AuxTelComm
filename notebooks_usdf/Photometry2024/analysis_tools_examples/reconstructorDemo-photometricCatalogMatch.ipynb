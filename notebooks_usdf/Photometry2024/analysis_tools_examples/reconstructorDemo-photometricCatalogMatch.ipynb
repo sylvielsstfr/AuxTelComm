{
 "cells": [
  {
   "cell_type": "markdown",
   "id": "ec385c64-aebc-4abf-a940-798b23274fe0",
   "metadata": {},
   "source": [
    "Looking at Metrics and Plots Made From the Command Line\n",
    "-------------------------------------------------------\n",
    "\n",
    "**photometricCatalogMatch**\n",
    "\n",
    "- From pre-bootcamp 2023\n",
    "- creation date 2024-01-14\n",
    "- update 2024-03-04\n",
    "- work on pipeline photometricCatalogMatch\n",
    "- w_2024_07"
   ]
  },
  {
   "cell_type": "markdown",
   "id": "2ef86eed-c135-41f0-99b5-19c14662a5f2",
   "metadata": {},
   "source": [
    "Following the getting started guide we have run a pipeline from the command line to produce the coadd quality core plots and metrics."
   ]
  },
  {
   "cell_type": "code",
   "execution_count": null,
   "id": "3b4a887c-0cc4-4026-9281-291f52b4be2e",
   "metadata": {
    "tags": []
   },
   "outputs": [],
   "source": [
    "from lsst.analysis.tools.tasks.reconstructor import reconstructAnalysisTools\n",
    "import lsst.daf.butler as dafButler\n",
    "from lsst.analysis.tools.interfaces._task import _StandinPlotInfo\n",
    "\n",
    "import numpy as np"
   ]
  },
  {
   "cell_type": "markdown",
   "id": "8af2bb81-0bb5-4d2e-ad8d-05b7d5038fd3",
   "metadata": {},
   "source": [
    "Let's read back in the data that we just made"
   ]
  },
  {
   "cell_type": "code",
   "execution_count": null,
   "id": "74dd744a-e4d9-4b4d-b01e-b07342edb045",
   "metadata": {
    "tags": []
   },
   "outputs": [],
   "source": [
    "#collection = \"/sdf/group/rubin/u/sr525/coaddQualityCoreDemoRepo\"\n",
    "#collection =\"LATISS/runs/AUXTEL_DRP_IMAGING_2023-11A-10A-09AB-08ABC-07AB-05AB/w_2023_46/PREOPS-4553\"\n",
    "collection = \"LATISS/runs/AUXTEL_DRP_IMAGING_20230509_20240201/w_2024_05/PREOPS-4871\"\n",
    "repo = '/sdf/group/rubin/repo/oga/'\n",
    "dataId = {\"tract\": 3864, \"skymap\": \"latiss_v1\"}\n",
    "Butler = dafButler.Butler(repo)"
   ]
  },
  {
   "cell_type": "markdown",
   "id": "227a9dbc-8656-415f-8b08-19ac57768500",
   "metadata": {
    "tags": []
   },
   "source": [
    "The reconstructor contains all of the plots/metrics that we just made, we specify the label and that gives us just the ones in that section of the pipeline."
   ]
  },
  {
   "cell_type": "code",
   "execution_count": null,
   "id": "da36506e-4218-46cc-88a8-91e1eeec2e3e",
   "metadata": {},
   "outputs": [],
   "source": [
    "anaList = list(Butler.registry.queryDatasetTypes('*ana*'))\n",
    "# Note: please ignore the Spectractor WARNING messages below, they are to be expected here.\n",
    "for ana in anaList:\n",
    "    print(ana)"
   ]
  },
  {
   "cell_type": "markdown",
   "id": "2c223512-be82-4b54-855b-3c2ac03f00e1",
   "metadata": {},
   "source": [
    "- https://github.com/lsst/drp_pipe/blob/main/pipelines/LATISS/DRP.yaml"
   ]
  },
  {
   "cell_type": "code",
   "execution_count": null,
   "id": "35de13f4-9466-4974-94ae-4103b4577896",
   "metadata": {
    "tags": []
   },
   "outputs": [],
   "source": [
    "taskState, inputData = reconstructAnalysisTools(Butler, \n",
    "                                                collection=collection,\n",
    "                                                #label=\"analyzeObjectTableCore\",\n",
    "                                                #label=\"analyzeMatchedVisitCore\",\n",
    "                                                label=\"photometricCatalogMatch\",\n",
    "                                                dataId=dataId, \n",
    "                                                callback=None\n",
    ")"
   ]
  },
  {
   "cell_type": "markdown",
   "id": "e404180e-1695-42c8-9793-5cca6c82d217",
   "metadata": {},
   "source": [
    "Let's list the actions that were run"
   ]
  },
  {
   "cell_type": "code",
   "execution_count": null,
   "id": "96020114-aed6-476b-bfed-86459caa8466",
   "metadata": {
    "tags": []
   },
   "outputs": [],
   "source": [
    "for action in taskState.atools:\n",
    "    print(action.identity)"
   ]
  },
  {
   "cell_type": "code",
   "execution_count": null,
   "id": "1a97422a-eba2-412d-83cc-69b9d4b15e3c",
   "metadata": {},
   "outputs": [],
   "source": [
    "assert False"
   ]
  },
  {
   "cell_type": "markdown",
   "id": "f8d1a29c-4b24-473e-8bc3-5d0a780e48a8",
   "metadata": {
    "execution": {
     "iopub.execute_input": "2023-05-23T15:51:56.736651Z",
     "iopub.status.busy": "2023-05-23T15:51:56.736518Z",
     "iopub.status.idle": "2023-05-23T15:51:56.740165Z",
     "shell.execute_reply": "2023-05-23T15:51:56.739226Z",
     "shell.execute_reply.started": "2023-05-23T15:51:56.736639Z"
    }
   },
   "source": [
    "Now we can recreate them, we're going to pick one and look at it."
   ]
  },
  {
   "cell_type": "code",
   "execution_count": null,
   "id": "708af850-9536-4f77-a837-ae16e256de21",
   "metadata": {
    "tags": []
   },
   "outputs": [],
   "source": [
    "plotInfoDict = {\"run\": collection, \"bands\": \"i\", \"tract\": 5615, \"tableName\": \"objectTable_tract\"}\n",
    "taskState.atools.e1Diff(inputData[\"data\"], plotInfo=plotInfoDict, skymap=\"latiss_v1\", band=\"i\")"
   ]
  },
  {
   "cell_type": "markdown",
   "id": "cbbc80be-79f7-47f0-8e7e-e4daabc3494a",
   "metadata": {},
   "source": [
    "Let's see the selectors that were used"
   ]
  },
  {
   "cell_type": "code",
   "execution_count": null,
   "id": "2c5a5162-41e3-4a93-86e8-5b5fd3f26633",
   "metadata": {
    "tags": []
   },
   "outputs": [],
   "source": [
    "for selector in taskState.atools.e1Diff.prep.selectors:\n",
    "    print(selector.identity)"
   ]
  },
  {
   "cell_type": "markdown",
   "id": "d354e6b9-ce2e-4589-8da9-0f4bd9d16091",
   "metadata": {},
   "source": [
    "We can look at each step individually"
   ]
  },
  {
   "cell_type": "code",
   "execution_count": null,
   "id": "43537885-2078-4a88-9bcb-83e4c0c47d02",
   "metadata": {
    "tags": []
   },
   "outputs": [],
   "source": [
    "prep = taskState.atools.e1Diff.prep(inputData[\"data\"], plotInfo=plotInfoDict, skymap=None, band=\"i\")\n",
    "#print(\"Prep:\", prep)\n",
    "process = taskState.atools.e1Diff.process(prep, band=\"i\")\n",
    "#print(\"Process:\", process)\n",
    "produce = taskState.atools.e1Diff.produce(process, band=\"i\", plotInfo=plotInfoDict, skymap=None)\n",
    "#print(\"Produce:\", produce)"
   ]
  },
  {
   "cell_type": "markdown",
   "id": "24490214-6322-4fa2-b999-3e5164cc62be",
   "metadata": {},
   "source": [
    "Let's change something about the selectors and then re run the plot"
   ]
  },
  {
   "cell_type": "code",
   "execution_count": null,
   "id": "56634fc3-21c4-4dc4-89b6-f7465a18c0bd",
   "metadata": {
    "tags": []
   },
   "outputs": [],
   "source": [
    "taskState.atools.e1Diff.prep.selectors.snSelector.threshold = 10\n",
    "prep = taskState.atools.e1Diff.prep(inputData[\"data\"], plotInfo=plotInfoDict, skymap=None, band=\"i\")\n",
    "process = taskState.atools.e1Diff.process(prep, band=\"i\")\n",
    "produce = taskState.atools.e1Diff.produce(process, band=\"i\", plotInfo=plotInfoDict, skymap=None)"
   ]
  },
  {
   "cell_type": "code",
   "execution_count": null,
   "id": "487807cd-f4ab-42e0-9245-c2decf98cf6d",
   "metadata": {},
   "outputs": [],
   "source": [
    "taskState.atools.e2Diff(inputData[\"data\"], plotInfo=plotInfoDict, skymap=\"latiss_v1\", band=\"i\")"
   ]
  },
  {
   "cell_type": "markdown",
   "id": "d129d747-b269-468d-a30f-e1e8a9c2e109",
   "metadata": {},
   "source": [
    "## shapeSizeFractionalDiff"
   ]
  },
  {
   "cell_type": "code",
   "execution_count": null,
   "id": "718537d6-a943-4d7c-a78d-192d11c8d174",
   "metadata": {},
   "outputs": [],
   "source": [
    "taskState.atools.shapeSizeFractionalDiff(inputData[\"data\"], plotInfo=plotInfoDict, skymap=\"latiss_v1\", band=\"i\")"
   ]
  },
  {
   "cell_type": "markdown",
   "id": "a5cded13-67bd-4d5b-bd9d-48824623b641",
   "metadata": {},
   "source": [
    "## skyFluxStatisticMetric"
   ]
  },
  {
   "cell_type": "code",
   "execution_count": null,
   "id": "db94b7ac-9728-40e8-a4f5-fa36e4a83178",
   "metadata": {},
   "outputs": [],
   "source": [
    "taskState.atools.skyFluxStatisticMetric(inputData[\"data\"], plotInfo=plotInfoDict, skymap=\"latiss_v1\", band=\"i\")"
   ]
  },
  {
   "cell_type": "markdown",
   "id": "c0829d79-1625-4b36-a96d-b071ef509eba",
   "metadata": {},
   "source": []
  },
  {
   "cell_type": "markdown",
   "id": "3faf2e4c-de42-4c48-9a83-b6f2dca50c5e",
   "metadata": {},
   "source": [
    "## skyObjectFlux"
   ]
  },
  {
   "cell_type": "code",
   "execution_count": null,
   "id": "01dc4287-620e-41c0-8b40-446d9736c499",
   "metadata": {},
   "outputs": [],
   "source": [
    "taskState.atools.skyObjectFlux(inputData[\"data\"], plotInfo=plotInfoDict, skymap=\"latiss_v1\", band=\"i\")"
   ]
  },
  {
   "cell_type": "markdown",
   "id": "5fad5342-05b5-4b54-b46a-7140ddc3a445",
   "metadata": {},
   "source": [
    "## skyObjectSky"
   ]
  },
  {
   "cell_type": "code",
   "execution_count": null,
   "id": "d2a799c4-a798-4145-b507-cc87b1eabf58",
   "metadata": {},
   "outputs": [],
   "source": [
    "taskState.atools.skyObjectSky(inputData[\"data\"], plotInfo=plotInfoDict, skymap=\"latiss_v1\", band=\"i\")"
   ]
  },
  {
   "cell_type": "markdown",
   "id": "c24f0766-304f-42ff-ba28-21fab6147883",
   "metadata": {},
   "source": [
    "## wPerpCModel"
   ]
  },
  {
   "cell_type": "code",
   "execution_count": null,
   "id": "4aa945d7-579e-44ea-8c08-0f555348b668",
   "metadata": {},
   "outputs": [],
   "source": [
    "taskState.atools.wPerpCModel(inputData[\"data\"], plotInfo=plotInfoDict, skymap=\"latiss_v1\", band=\"i\")"
   ]
  },
  {
   "cell_type": "markdown",
   "id": "11e6676f-9dd2-41f7-8566-ae55883acfae",
   "metadata": {},
   "source": [
    "## wPerpPSFP"
   ]
  },
  {
   "cell_type": "code",
   "execution_count": null,
   "id": "3c0eb014-c9e9-44b6-9230-841408fb8dd1",
   "metadata": {},
   "outputs": [],
   "source": [
    "taskState.atools.wPerpPSFP(inputData[\"data\"], plotInfo=plotInfoDict, skymap=\"latiss_v1\", band=\"i\")"
   ]
  },
  {
   "cell_type": "markdown",
   "id": "dc40d709-7864-48f3-9191-34119cbe7033",
   "metadata": {
    "execution": {
     "iopub.execute_input": "2024-01-13T15:01:25.534054Z",
     "iopub.status.busy": "2024-01-13T15:01:25.533861Z",
     "iopub.status.idle": "2024-01-13T15:01:25.536394Z",
     "shell.execute_reply": "2024-01-13T15:01:25.536021Z",
     "shell.execute_reply.started": "2024-01-13T15:01:25.534040Z"
    }
   },
   "source": [
    "## xPerpCModel"
   ]
  },
  {
   "cell_type": "code",
   "execution_count": null,
   "id": "c46eae73-a840-45f9-b125-e323423dc293",
   "metadata": {},
   "outputs": [],
   "source": [
    "taskState.atools.xPerpCModel(inputData[\"data\"], plotInfo=plotInfoDict, skymap=\"latiss_v1\", band=\"i\")"
   ]
  },
  {
   "cell_type": "markdown",
   "id": "c710398c-e097-4048-aebf-bb70b52e9146",
   "metadata": {},
   "source": [
    "## xPerpPSFP"
   ]
  },
  {
   "cell_type": "code",
   "execution_count": null,
   "id": "7b3465f7-d0b5-4261-a147-d755dce50bf6",
   "metadata": {},
   "outputs": [],
   "source": [
    "taskState.atools.xPerpPSFP(inputData[\"data\"], plotInfo=plotInfoDict, skymap=\"latiss_v1\", band=\"i\")\n"
   ]
  },
  {
   "cell_type": "code",
   "execution_count": null,
   "id": "334e6c01-ccb2-40df-bf9d-ecf807a95fa1",
   "metadata": {},
   "outputs": [],
   "source": []
  }
 ],
 "metadata": {
  "kernelspec": {
   "display_name": "LSST",
   "language": "python",
   "name": "lsst"
  },
  "language_info": {
   "codemirror_mode": {
    "name": "ipython",
    "version": 3
   },
   "file_extension": ".py",
   "mimetype": "text/x-python",
   "name": "python",
   "nbconvert_exporter": "python",
   "pygments_lexer": "ipython3",
   "version": "3.11.7"
  }
 },
 "nbformat": 4,
 "nbformat_minor": 5
}
