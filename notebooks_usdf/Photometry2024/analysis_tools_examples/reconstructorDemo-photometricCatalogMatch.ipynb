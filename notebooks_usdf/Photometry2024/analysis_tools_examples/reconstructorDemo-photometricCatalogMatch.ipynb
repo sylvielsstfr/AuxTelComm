{
 "cells": [
  {
   "cell_type": "markdown",
   "id": "ec385c64-aebc-4abf-a940-798b23274fe0",
   "metadata": {},
   "source": [
    "Looking at Metrics and Plots Made From the Command Line\n",
    "-------------------------------------------------------\n",
    "\n",
    "**photometricCatalogMatch**\n",
    "\n",
    "- From pre-bootcamp 2023\n",
    "- creation date 2024-01-14\n",
    "- work on pipeline photometricCatalogMatch\n",
    "- w_2023_44"
   ]
  },
  {
   "cell_type": "markdown",
   "id": "2ef86eed-c135-41f0-99b5-19c14662a5f2",
   "metadata": {},
   "source": [
    "Following the getting started guide we have run a pipeline from the command line to produce the coadd quality core plots and metrics."
   ]
  },
  {
   "cell_type": "code",
   "execution_count": 1,
   "id": "3b4a887c-0cc4-4026-9281-291f52b4be2e",
   "metadata": {
    "execution": {
     "iopub.execute_input": "2024-01-14T14:07:58.677077Z",
     "iopub.status.busy": "2024-01-14T14:07:58.676958Z",
     "iopub.status.idle": "2024-01-14T14:08:02.956106Z",
     "shell.execute_reply": "2024-01-14T14:08:02.955658Z",
     "shell.execute_reply.started": "2024-01-14T14:07:58.677064Z"
    },
    "tags": []
   },
   "outputs": [
    {
     "name": "stderr",
     "output_type": "stream",
     "text": [
      "/home/d/dagoret/repos/repos_w_2023_44/analysis_tools/python/lsst/analysis/tools/tasks/astrometricCatalogMatch.py:35: FutureWarning: lsst.pipe.tasks.configurableActions is deprecated; it has been moved to lsst.pex.config.configurableActions. Accessing though lsst.pipe.tasks will be removed from Science Pipelines after release 26.0.0\n",
      "  from lsst.pipe.tasks.configurableActions import ConfigurableActionStructField\n"
     ]
    }
   ],
   "source": [
    "from lsst.analysis.tools.tasks.reconstructor import reconstructAnalysisTools\n",
    "import lsst.daf.butler as dafButler\n",
    "from lsst.analysis.tools.interfaces._task import _StandinPlotInfo\n",
    "\n",
    "import numpy as np"
   ]
  },
  {
   "cell_type": "markdown",
   "id": "8af2bb81-0bb5-4d2e-ad8d-05b7d5038fd3",
   "metadata": {},
   "source": [
    "Let's read back in the data that we just made"
   ]
  },
  {
   "cell_type": "code",
   "execution_count": 2,
   "id": "74dd744a-e4d9-4b4d-b01e-b07342edb045",
   "metadata": {
    "execution": {
     "iopub.execute_input": "2024-01-14T14:08:02.957464Z",
     "iopub.status.busy": "2024-01-14T14:08:02.957059Z",
     "iopub.status.idle": "2024-01-14T14:08:05.503048Z",
     "shell.execute_reply": "2024-01-14T14:08:05.502577Z",
     "shell.execute_reply.started": "2024-01-14T14:08:02.957450Z"
    },
    "tags": []
   },
   "outputs": [],
   "source": [
    "#collection = \"/sdf/group/rubin/u/sr525/coaddQualityCoreDemoRepo\"\n",
    "collection =\"LATISS/runs/AUXTEL_DRP_IMAGING_2023-11A-10A-09AB-08ABC-07AB-05AB/w_2023_46/PREOPS-4553\"\n",
    "repo = '/sdf/group/rubin/repo/oga/'\n",
    "dataId = {\"tract\": 5615, \"skymap\": \"latiss_v1\"}\n",
    "Butler = dafButler.Butler(repo)"
   ]
  },
  {
   "cell_type": "markdown",
   "id": "227a9dbc-8656-415f-8b08-19ac57768500",
   "metadata": {
    "tags": []
   },
   "source": [
    "The reconstructor contains all of the plots/metrics that we just made, we specify the label and that gives us just the ones in that section of the pipeline."
   ]
  },
  {
   "cell_type": "code",
   "execution_count": 3,
   "id": "da36506e-4218-46cc-88a8-91e1eeec2e3e",
   "metadata": {
    "execution": {
     "iopub.execute_input": "2024-01-14T14:08:05.503732Z",
     "iopub.status.busy": "2024-01-14T14:08:05.503597Z",
     "iopub.status.idle": "2024-01-14T14:08:05.512965Z",
     "shell.execute_reply": "2024-01-14T14:08:05.512575Z",
     "shell.execute_reply.started": "2024-01-14T14:08:05.503719Z"
    }
   },
   "outputs": [
    {
     "data": {
      "text/html": [
       "<pre style=\"margin: 0.1em;\n",
       "padding-left: 0.25em;\n",
       "border-left-style: solid;\n",
       "font-family: var(--jp-code-font-family);\n",
       "font-size: var(--jp-code-font-size);\n",
       "line-height: var(--jp-code-line-height);\n",
       "\"><span style=\"color: var(--jp-warn-color2)\">lsst.daf.butler.registry.datasets.byDimensions._manager</span> <span style=\"color: var(--jp-warn-color0)\">WARNING</span>: Could not load storage class &#x27;Spectraction&#x27; for spectraction; if it has components they will not be included in query results.</pre>"
      ],
      "text/plain": [
       "<IPython.core.display.HTML object>"
      ]
     },
     "metadata": {},
     "output_type": "display_data"
    },
    {
     "name": "stdout",
     "output_type": "stream",
     "text": [
      "DatasetType('analyzeSourceTableCore_config', {}, Config)\n",
      "DatasetType('analyzeSourceTableCore_metadata', {band, instrument, detector, physical_filter, visit}, TaskMetadata)\n",
      "DatasetType('analyzeSourceTableCore_log', {band, instrument, detector, physical_filter, visit}, ButlerLogRecords)\n",
      "DatasetType('analyzeMatchedVisitCore_config', {}, Config)\n",
      "DatasetType('analyzeSourceTableCoreDevel_config', {}, Config)\n",
      "DatasetType('analyzeSourceTableCoreDevel_metadata', {band, instrument, physical_filter, visit}, TaskMetadata)\n",
      "DatasetType('analyzeSourceTableCoreDevel_log', {band, instrument, physical_filter, visit}, ButlerLogRecords)\n",
      "DatasetType('analyzeMatchedVisitQualityCore_config', {}, Config)\n",
      "DatasetType('analyzeMatchedVisitQualityCore_metadata', {instrument, skymap, tract}, TaskMetadata)\n",
      "DatasetType('analyzeMatchedVisitQualityCore_log', {instrument, skymap, tract}, ButlerLogRecords)\n",
      "DatasetType('analyzeMatchedVisitCore_metadata', {instrument, skymap, tract}, TaskMetadata)\n",
      "DatasetType('analyzeMatchedVisitCore_log', {instrument, skymap, tract}, ButlerLogRecords)\n",
      "DatasetType('analyzeMatchedVisitExtended_config', {}, Config)\n",
      "DatasetType('analyzeMatchedVisitExtended_metadata', {instrument, skymap, tract}, TaskMetadata)\n",
      "DatasetType('analyzeMatchedVisitExtended_log', {instrument, skymap, tract}, ButlerLogRecords)\n",
      "DatasetType('analyzeObjectTableSurveyCore_config', {}, Config)\n",
      "DatasetType('analyzeObjectTableCore_config', {}, Config)\n",
      "DatasetType('analyzeObjectTableSurveyCore_metadata', {skymap}, TaskMetadata)\n",
      "DatasetType('analyzeObjectTableSurveyCore_log', {skymap}, ButlerLogRecords)\n",
      "DatasetType('analyzeObjectTableCore_metadata', {skymap, tract}, TaskMetadata)\n",
      "DatasetType('analyzeObjectTableCore_log', {skymap, tract}, ButlerLogRecords)\n",
      "DatasetType('analyzeSourceTableMaglimDevel_config', {}, Config)\n",
      "DatasetType('analyzeSourceTableMaglimDevel_metadata', {band, instrument, physical_filter, visit}, TaskMetadata)\n",
      "DatasetType('analyzeSourceTableMaglimDevel_log', {band, instrument, physical_filter, visit}, ButlerLogRecords)\n"
     ]
    }
   ],
   "source": [
    "anaList = list(Butler.registry.queryDatasetTypes('*ana*'))\n",
    "# Note: please ignore the Spectractor WARNING messages below, they are to be expected here.\n",
    "for ana in anaList:\n",
    "    print(ana)"
   ]
  },
  {
   "cell_type": "markdown",
   "id": "2c223512-be82-4b54-855b-3c2ac03f00e1",
   "metadata": {},
   "source": [
    "- https://github.com/lsst/drp_pipe/blob/main/pipelines/LATISS/DRP.yaml"
   ]
  },
  {
   "cell_type": "code",
   "execution_count": 4,
   "id": "35de13f4-9466-4974-94ae-4103b4577896",
   "metadata": {
    "execution": {
     "iopub.execute_input": "2024-01-14T14:08:05.513626Z",
     "iopub.status.busy": "2024-01-14T14:08:05.513498Z",
     "iopub.status.idle": "2024-01-14T14:08:05.703480Z",
     "shell.execute_reply": "2024-01-14T14:08:05.702164Z",
     "shell.execute_reply.started": "2024-01-14T14:08:05.513613Z"
    },
    "tags": []
   },
   "outputs": [
    {
     "ename": "LookupError",
     "evalue": "Dataset photometricCatalogMatch_config with data ID {} could not be found in collections ('LATISS/runs/AUXTEL_DRP_IMAGING_2023-11A-10A-09AB-08ABC-07AB-05AB/w_2023_46/PREOPS-4553',).",
     "output_type": "error",
     "traceback": [
      "\u001b[0;31m---------------------------------------------------------------------------\u001b[0m",
      "\u001b[0;31mLookupError\u001b[0m                               Traceback (most recent call last)",
      "Cell \u001b[0;32mIn[4], line 1\u001b[0m\n\u001b[0;32m----> 1\u001b[0m taskState, inputData \u001b[38;5;241m=\u001b[39m \u001b[43mreconstructAnalysisTools\u001b[49m\u001b[43m(\u001b[49m\u001b[43mButler\u001b[49m\u001b[43m,\u001b[49m\u001b[43m \u001b[49m\n\u001b[1;32m      2\u001b[0m \u001b[43m                                                \u001b[49m\u001b[43mcollection\u001b[49m\u001b[38;5;241;43m=\u001b[39;49m\u001b[43mcollection\u001b[49m\u001b[43m,\u001b[49m\n\u001b[1;32m      3\u001b[0m \u001b[43m                                                \u001b[49m\u001b[38;5;66;43;03m#label=\"analyzeObjectTableCore\",\u001b[39;49;00m\n\u001b[1;32m      4\u001b[0m \u001b[43m                                                \u001b[49m\u001b[38;5;66;43;03m#label=\"analyzeMatchedVisitCore\",\u001b[39;49;00m\n\u001b[1;32m      5\u001b[0m \u001b[43m                                                \u001b[49m\u001b[43mlabel\u001b[49m\u001b[38;5;241;43m=\u001b[39;49m\u001b[38;5;124;43m\"\u001b[39;49m\u001b[38;5;124;43mphotometricCatalogMatch\u001b[39;49m\u001b[38;5;124;43m\"\u001b[39;49m\u001b[43m,\u001b[49m\n\u001b[1;32m      6\u001b[0m \u001b[43m                                                \u001b[49m\u001b[43mdataId\u001b[49m\u001b[38;5;241;43m=\u001b[39;49m\u001b[43mdataId\u001b[49m\u001b[43m,\u001b[49m\u001b[43m \u001b[49m\n\u001b[1;32m      7\u001b[0m \u001b[43m                                                \u001b[49m\u001b[43mcallback\u001b[49m\u001b[38;5;241;43m=\u001b[39;49m\u001b[38;5;28;43;01mNone\u001b[39;49;00m\n\u001b[1;32m      8\u001b[0m \u001b[43m)\u001b[49m\n",
      "File \u001b[0;32m~/repos/repos_w_2023_44/analysis_tools/python/lsst/analysis/tools/tasks/reconstructor.py:74\u001b[0m, in \u001b[0;36mreconstructAnalysisTools\u001b[0;34m(butler, collection, label, dataId, callback)\u001b[0m\n\u001b[1;32m     43\u001b[0m \u001b[38;5;250m\u001b[39m\u001b[38;5;124;03m\"\"\"Reconstructs the analysis tools used to produce metrics and plots in a\u001b[39;00m\n\u001b[1;32m     44\u001b[0m \u001b[38;5;124;03mtask and all input data required.\u001b[39;00m\n\u001b[1;32m     45\u001b[0m \n\u001b[0;32m   (...)\u001b[0m\n\u001b[1;32m     71\u001b[0m \u001b[38;5;124;03m    The data that went into producing metrics and plots.\u001b[39;00m\n\u001b[1;32m     72\u001b[0m \u001b[38;5;124;03m\"\"\"\u001b[39;00m\n\u001b[1;32m     73\u001b[0m configDSType \u001b[38;5;241m=\u001b[39m \u001b[38;5;124mf\u001b[39m\u001b[38;5;124m\"\u001b[39m\u001b[38;5;132;01m{\u001b[39;00mlabel\u001b[38;5;132;01m}\u001b[39;00m\u001b[38;5;124m_config\u001b[39m\u001b[38;5;124m\"\u001b[39m\n\u001b[0;32m---> 74\u001b[0m config \u001b[38;5;241m=\u001b[39m \u001b[43mbutler\u001b[49m\u001b[38;5;241;43m.\u001b[39;49m\u001b[43mget\u001b[49m\u001b[43m(\u001b[49m\u001b[43mconfigDSType\u001b[49m\u001b[43m,\u001b[49m\u001b[43m \u001b[49m\u001b[43mcollections\u001b[49m\u001b[38;5;241;43m=\u001b[39;49m\u001b[43m(\u001b[49m\u001b[43mcollection\u001b[49m\u001b[43m,\u001b[49m\u001b[43m)\u001b[49m\u001b[43m)\u001b[49m\n\u001b[1;32m     76\u001b[0m connections: PipelineTaskConnections \u001b[38;5;241m=\u001b[39m config\u001b[38;5;241m.\u001b[39mconnections\u001b[38;5;241m.\u001b[39mConnectionsClass(config\u001b[38;5;241m=\u001b[39mconfig)\n\u001b[1;32m     77\u001b[0m inputs: \u001b[38;5;28mdict\u001b[39m[\u001b[38;5;28mstr\u001b[39m, Any] \u001b[38;5;241m=\u001b[39m {}\n",
      "File \u001b[0;32m/opt/lsst/software/stack/stack/miniconda3-py38_4.9.2-7.0.1/Linux64/daf_butler/ge89626a060+c4141ea9c4/python/lsst/daf/butler/direct_butler.py:1195\u001b[0m, in \u001b[0;36mDirectButler.get\u001b[0;34m(self, datasetRefOrType, dataId, parameters, collections, storageClass, **kwargs)\u001b[0m\n\u001b[1;32m   1141\u001b[0m \u001b[38;5;250m\u001b[39m\u001b[38;5;124;03m\"\"\"Retrieve a stored dataset.\u001b[39;00m\n\u001b[1;32m   1142\u001b[0m \n\u001b[1;32m   1143\u001b[0m \u001b[38;5;124;03mParameters\u001b[39;00m\n\u001b[0;32m   (...)\u001b[0m\n\u001b[1;32m   1192\u001b[0m \u001b[38;5;124;03m``exposure`` is a temporal dimension.\u001b[39;00m\n\u001b[1;32m   1193\u001b[0m \u001b[38;5;124;03m\"\"\"\u001b[39;00m\n\u001b[1;32m   1194\u001b[0m _LOG\u001b[38;5;241m.\u001b[39mdebug(\u001b[38;5;124m\"\u001b[39m\u001b[38;5;124mButler get: \u001b[39m\u001b[38;5;132;01m%s\u001b[39;00m\u001b[38;5;124m, dataId=\u001b[39m\u001b[38;5;132;01m%s\u001b[39;00m\u001b[38;5;124m, parameters=\u001b[39m\u001b[38;5;132;01m%s\u001b[39;00m\u001b[38;5;124m\"\u001b[39m, datasetRefOrType, dataId, parameters)\n\u001b[0;32m-> 1195\u001b[0m ref \u001b[38;5;241m=\u001b[39m \u001b[38;5;28;43mself\u001b[39;49m\u001b[38;5;241;43m.\u001b[39;49m\u001b[43m_findDatasetRef\u001b[49m\u001b[43m(\u001b[49m\n\u001b[1;32m   1196\u001b[0m \u001b[43m    \u001b[49m\u001b[43mdatasetRefOrType\u001b[49m\u001b[43m,\u001b[49m\u001b[43m \u001b[49m\u001b[43mdataId\u001b[49m\u001b[43m,\u001b[49m\u001b[43m \u001b[49m\u001b[43mcollections\u001b[49m\u001b[38;5;241;43m=\u001b[39;49m\u001b[43mcollections\u001b[49m\u001b[43m,\u001b[49m\u001b[43m \u001b[49m\u001b[43mdatastore_records\u001b[49m\u001b[38;5;241;43m=\u001b[39;49m\u001b[38;5;28;43;01mTrue\u001b[39;49;00m\u001b[43m,\u001b[49m\u001b[43m \u001b[49m\u001b[38;5;241;43m*\u001b[39;49m\u001b[38;5;241;43m*\u001b[39;49m\u001b[43mkwargs\u001b[49m\n\u001b[1;32m   1197\u001b[0m \u001b[43m\u001b[49m\u001b[43m)\u001b[49m\n\u001b[1;32m   1198\u001b[0m \u001b[38;5;28;01mreturn\u001b[39;00m \u001b[38;5;28mself\u001b[39m\u001b[38;5;241m.\u001b[39m_datastore\u001b[38;5;241m.\u001b[39mget(ref, parameters\u001b[38;5;241m=\u001b[39mparameters, storageClass\u001b[38;5;241m=\u001b[39mstorageClass)\n",
      "File \u001b[0;32m/opt/lsst/software/stack/stack/miniconda3-py38_4.9.2-7.0.1/Linux64/daf_butler/ge89626a060+c4141ea9c4/python/lsst/daf/butler/direct_butler.py:866\u001b[0m, in \u001b[0;36mDirectButler._findDatasetRef\u001b[0;34m(self, datasetRefOrType, dataId, collections, predict, run, datastore_records, **kwargs)\u001b[0m\n\u001b[1;32m    864\u001b[0m         \u001b[38;5;28;01mif\u001b[39;00m collections \u001b[38;5;129;01mis\u001b[39;00m \u001b[38;5;28;01mNone\u001b[39;00m:\n\u001b[1;32m    865\u001b[0m             collections \u001b[38;5;241m=\u001b[39m \u001b[38;5;28mself\u001b[39m\u001b[38;5;241m.\u001b[39m_registry\u001b[38;5;241m.\u001b[39mdefaults\u001b[38;5;241m.\u001b[39mcollections\n\u001b[0;32m--> 866\u001b[0m         \u001b[38;5;28;01mraise\u001b[39;00m \u001b[38;5;167;01mLookupError\u001b[39;00m(\n\u001b[1;32m    867\u001b[0m             \u001b[38;5;124mf\u001b[39m\u001b[38;5;124m\"\u001b[39m\u001b[38;5;124mDataset \u001b[39m\u001b[38;5;132;01m{\u001b[39;00mdatasetType\u001b[38;5;241m.\u001b[39mname\u001b[38;5;132;01m}\u001b[39;00m\u001b[38;5;124m with data ID \u001b[39m\u001b[38;5;132;01m{\u001b[39;00mdataId\u001b[38;5;132;01m}\u001b[39;00m\u001b[38;5;124m \u001b[39m\u001b[38;5;124m\"\u001b[39m\n\u001b[1;32m    868\u001b[0m             \u001b[38;5;124mf\u001b[39m\u001b[38;5;124m\"\u001b[39m\u001b[38;5;124mcould not be found in collections \u001b[39m\u001b[38;5;132;01m{\u001b[39;00mcollections\u001b[38;5;132;01m}\u001b[39;00m\u001b[38;5;124m.\u001b[39m\u001b[38;5;124m\"\u001b[39m\n\u001b[1;32m    869\u001b[0m         )\n\u001b[1;32m    870\u001b[0m \u001b[38;5;28;01mif\u001b[39;00m datasetType \u001b[38;5;241m!=\u001b[39m ref\u001b[38;5;241m.\u001b[39mdatasetType:\n\u001b[1;32m    871\u001b[0m     \u001b[38;5;66;03m# If they differ it is because the user explicitly specified\u001b[39;00m\n\u001b[1;32m    872\u001b[0m     \u001b[38;5;66;03m# a compatible dataset type to this call rather than using the\u001b[39;00m\n\u001b[1;32m    873\u001b[0m     \u001b[38;5;66;03m# registry definition. The DatasetRef must therefore be recreated\u001b[39;00m\n\u001b[1;32m    874\u001b[0m     \u001b[38;5;66;03m# using the user definition such that the expected type is\u001b[39;00m\n\u001b[1;32m    875\u001b[0m     \u001b[38;5;66;03m# returned.\u001b[39;00m\n\u001b[1;32m    876\u001b[0m     ref \u001b[38;5;241m=\u001b[39m DatasetRef(\n\u001b[1;32m    877\u001b[0m         datasetType, ref\u001b[38;5;241m.\u001b[39mdataId, run\u001b[38;5;241m=\u001b[39mref\u001b[38;5;241m.\u001b[39mrun, \u001b[38;5;28mid\u001b[39m\u001b[38;5;241m=\u001b[39mref\u001b[38;5;241m.\u001b[39mid, datastore_records\u001b[38;5;241m=\u001b[39mref\u001b[38;5;241m.\u001b[39m_datastore_records\n\u001b[1;32m    878\u001b[0m     )\n",
      "\u001b[0;31mLookupError\u001b[0m: Dataset photometricCatalogMatch_config with data ID {} could not be found in collections ('LATISS/runs/AUXTEL_DRP_IMAGING_2023-11A-10A-09AB-08ABC-07AB-05AB/w_2023_46/PREOPS-4553',)."
     ]
    }
   ],
   "source": [
    "taskState, inputData = reconstructAnalysisTools(Butler, \n",
    "                                                collection=collection,\n",
    "                                                #label=\"analyzeObjectTableCore\",\n",
    "                                                #label=\"analyzeMatchedVisitCore\",\n",
    "                                                label=\"photometricCatalogMatch\",\n",
    "                                                dataId=dataId, \n",
    "                                                callback=None\n",
    ")"
   ]
  },
  {
   "cell_type": "markdown",
   "id": "e404180e-1695-42c8-9793-5cca6c82d217",
   "metadata": {},
   "source": [
    "Let's list the actions that were run"
   ]
  },
  {
   "cell_type": "code",
   "execution_count": null,
   "id": "96020114-aed6-476b-bfed-86459caa8466",
   "metadata": {
    "execution": {
     "iopub.status.busy": "2024-01-14T14:08:05.704046Z",
     "iopub.status.idle": "2024-01-14T14:08:05.704228Z",
     "shell.execute_reply": "2024-01-14T14:08:05.704145Z",
     "shell.execute_reply.started": "2024-01-14T14:08:05.704137Z"
    },
    "tags": []
   },
   "outputs": [],
   "source": [
    "for action in taskState.atools:\n",
    "    print(action.identity)"
   ]
  },
  {
   "cell_type": "code",
   "execution_count": null,
   "id": "1a97422a-eba2-412d-83cc-69b9d4b15e3c",
   "metadata": {
    "execution": {
     "iopub.status.busy": "2024-01-14T14:08:05.704846Z",
     "iopub.status.idle": "2024-01-14T14:08:05.705023Z",
     "shell.execute_reply": "2024-01-14T14:08:05.704944Z",
     "shell.execute_reply.started": "2024-01-14T14:08:05.704936Z"
    }
   },
   "outputs": [],
   "source": [
    "assert False"
   ]
  },
  {
   "cell_type": "markdown",
   "id": "f8d1a29c-4b24-473e-8bc3-5d0a780e48a8",
   "metadata": {
    "execution": {
     "iopub.execute_input": "2023-05-23T15:51:56.736651Z",
     "iopub.status.busy": "2023-05-23T15:51:56.736518Z",
     "iopub.status.idle": "2023-05-23T15:51:56.740165Z",
     "shell.execute_reply": "2023-05-23T15:51:56.739226Z",
     "shell.execute_reply.started": "2023-05-23T15:51:56.736639Z"
    }
   },
   "source": [
    "Now we can recreate them, we're going to pick one and look at it."
   ]
  },
  {
   "cell_type": "code",
   "execution_count": null,
   "id": "708af850-9536-4f77-a837-ae16e256de21",
   "metadata": {
    "execution": {
     "iopub.status.busy": "2024-01-14T14:08:05.705635Z",
     "iopub.status.idle": "2024-01-14T14:08:05.705798Z",
     "shell.execute_reply": "2024-01-14T14:08:05.705718Z",
     "shell.execute_reply.started": "2024-01-14T14:08:05.705711Z"
    },
    "tags": []
   },
   "outputs": [],
   "source": [
    "plotInfoDict = {\"run\": collection, \"bands\": \"i\", \"tract\": 5615, \"tableName\": \"objectTable_tract\"}\n",
    "taskState.atools.e1Diff(inputData[\"data\"], plotInfo=plotInfoDict, skymap=\"latiss_v1\", band=\"i\")"
   ]
  },
  {
   "cell_type": "markdown",
   "id": "cbbc80be-79f7-47f0-8e7e-e4daabc3494a",
   "metadata": {},
   "source": [
    "Let's see the selectors that were used"
   ]
  },
  {
   "cell_type": "code",
   "execution_count": null,
   "id": "2c5a5162-41e3-4a93-86e8-5b5fd3f26633",
   "metadata": {
    "execution": {
     "iopub.status.busy": "2024-01-14T14:08:05.706164Z",
     "iopub.status.idle": "2024-01-14T14:08:05.706313Z",
     "shell.execute_reply": "2024-01-14T14:08:05.706246Z",
     "shell.execute_reply.started": "2024-01-14T14:08:05.706239Z"
    },
    "tags": []
   },
   "outputs": [],
   "source": [
    "for selector in taskState.atools.e1Diff.prep.selectors:\n",
    "    print(selector.identity)"
   ]
  },
  {
   "cell_type": "markdown",
   "id": "d354e6b9-ce2e-4589-8da9-0f4bd9d16091",
   "metadata": {},
   "source": [
    "We can look at each step individually"
   ]
  },
  {
   "cell_type": "code",
   "execution_count": null,
   "id": "43537885-2078-4a88-9bcb-83e4c0c47d02",
   "metadata": {
    "execution": {
     "iopub.status.busy": "2024-01-14T14:08:05.706889Z",
     "iopub.status.idle": "2024-01-14T14:08:05.707037Z",
     "shell.execute_reply": "2024-01-14T14:08:05.706967Z",
     "shell.execute_reply.started": "2024-01-14T14:08:05.706961Z"
    },
    "tags": []
   },
   "outputs": [],
   "source": [
    "prep = taskState.atools.e1Diff.prep(inputData[\"data\"], plotInfo=plotInfoDict, skymap=None, band=\"i\")\n",
    "#print(\"Prep:\", prep)\n",
    "process = taskState.atools.e1Diff.process(prep, band=\"i\")\n",
    "#print(\"Process:\", process)\n",
    "produce = taskState.atools.e1Diff.produce(process, band=\"i\", plotInfo=plotInfoDict, skymap=None)\n",
    "#print(\"Produce:\", produce)"
   ]
  },
  {
   "cell_type": "markdown",
   "id": "24490214-6322-4fa2-b999-3e5164cc62be",
   "metadata": {},
   "source": [
    "Let's change something about the selectors and then re run the plot"
   ]
  },
  {
   "cell_type": "code",
   "execution_count": null,
   "id": "56634fc3-21c4-4dc4-89b6-f7465a18c0bd",
   "metadata": {
    "execution": {
     "iopub.status.busy": "2024-01-14T14:08:05.707591Z",
     "iopub.status.idle": "2024-01-14T14:08:05.707740Z",
     "shell.execute_reply": "2024-01-14T14:08:05.707670Z",
     "shell.execute_reply.started": "2024-01-14T14:08:05.707663Z"
    },
    "tags": []
   },
   "outputs": [],
   "source": [
    "taskState.atools.e1Diff.prep.selectors.snSelector.threshold = 10\n",
    "prep = taskState.atools.e1Diff.prep(inputData[\"data\"], plotInfo=plotInfoDict, skymap=None, band=\"i\")\n",
    "process = taskState.atools.e1Diff.process(prep, band=\"i\")\n",
    "produce = taskState.atools.e1Diff.produce(process, band=\"i\", plotInfo=plotInfoDict, skymap=None)"
   ]
  },
  {
   "cell_type": "code",
   "execution_count": null,
   "id": "487807cd-f4ab-42e0-9245-c2decf98cf6d",
   "metadata": {
    "execution": {
     "iopub.status.busy": "2024-01-14T14:08:05.708399Z",
     "iopub.status.idle": "2024-01-14T14:08:05.708552Z",
     "shell.execute_reply": "2024-01-14T14:08:05.708478Z",
     "shell.execute_reply.started": "2024-01-14T14:08:05.708472Z"
    }
   },
   "outputs": [],
   "source": [
    "taskState.atools.e2Diff(inputData[\"data\"], plotInfo=plotInfoDict, skymap=\"latiss_v1\", band=\"i\")"
   ]
  },
  {
   "cell_type": "markdown",
   "id": "d129d747-b269-468d-a30f-e1e8a9c2e109",
   "metadata": {},
   "source": [
    "## shapeSizeFractionalDiff"
   ]
  },
  {
   "cell_type": "code",
   "execution_count": null,
   "id": "718537d6-a943-4d7c-a78d-192d11c8d174",
   "metadata": {
    "execution": {
     "iopub.status.busy": "2024-01-14T14:08:05.709102Z",
     "iopub.status.idle": "2024-01-14T14:08:05.709257Z",
     "shell.execute_reply": "2024-01-14T14:08:05.709183Z",
     "shell.execute_reply.started": "2024-01-14T14:08:05.709176Z"
    }
   },
   "outputs": [],
   "source": [
    "taskState.atools.shapeSizeFractionalDiff(inputData[\"data\"], plotInfo=plotInfoDict, skymap=\"latiss_v1\", band=\"i\")"
   ]
  },
  {
   "cell_type": "markdown",
   "id": "a5cded13-67bd-4d5b-bd9d-48824623b641",
   "metadata": {},
   "source": [
    "## skyFluxStatisticMetric"
   ]
  },
  {
   "cell_type": "code",
   "execution_count": null,
   "id": "db94b7ac-9728-40e8-a4f5-fa36e4a83178",
   "metadata": {
    "execution": {
     "iopub.status.busy": "2024-01-14T14:08:05.709638Z",
     "iopub.status.idle": "2024-01-14T14:08:05.709780Z",
     "shell.execute_reply": "2024-01-14T14:08:05.709713Z",
     "shell.execute_reply.started": "2024-01-14T14:08:05.709707Z"
    }
   },
   "outputs": [],
   "source": [
    "taskState.atools.skyFluxStatisticMetric(inputData[\"data\"], plotInfo=plotInfoDict, skymap=\"latiss_v1\", band=\"i\")"
   ]
  },
  {
   "cell_type": "markdown",
   "id": "c0829d79-1625-4b36-a96d-b071ef509eba",
   "metadata": {},
   "source": []
  },
  {
   "cell_type": "markdown",
   "id": "3faf2e4c-de42-4c48-9a83-b6f2dca50c5e",
   "metadata": {},
   "source": [
    "## skyObjectFlux"
   ]
  },
  {
   "cell_type": "code",
   "execution_count": null,
   "id": "01dc4287-620e-41c0-8b40-446d9736c499",
   "metadata": {
    "execution": {
     "iopub.status.busy": "2024-01-14T14:08:05.710279Z",
     "iopub.status.idle": "2024-01-14T14:08:05.710429Z",
     "shell.execute_reply": "2024-01-14T14:08:05.710356Z",
     "shell.execute_reply.started": "2024-01-14T14:08:05.710349Z"
    }
   },
   "outputs": [],
   "source": [
    "taskState.atools.skyObjectFlux(inputData[\"data\"], plotInfo=plotInfoDict, skymap=\"latiss_v1\", band=\"i\")"
   ]
  },
  {
   "cell_type": "markdown",
   "id": "5fad5342-05b5-4b54-b46a-7140ddc3a445",
   "metadata": {},
   "source": [
    "## skyObjectSky"
   ]
  },
  {
   "cell_type": "code",
   "execution_count": null,
   "id": "d2a799c4-a798-4145-b507-cc87b1eabf58",
   "metadata": {
    "execution": {
     "iopub.status.busy": "2024-01-14T14:08:05.710849Z",
     "iopub.status.idle": "2024-01-14T14:08:05.710998Z",
     "shell.execute_reply": "2024-01-14T14:08:05.710931Z",
     "shell.execute_reply.started": "2024-01-14T14:08:05.710925Z"
    }
   },
   "outputs": [],
   "source": [
    "taskState.atools.skyObjectSky(inputData[\"data\"], plotInfo=plotInfoDict, skymap=\"latiss_v1\", band=\"i\")"
   ]
  },
  {
   "cell_type": "markdown",
   "id": "c24f0766-304f-42ff-ba28-21fab6147883",
   "metadata": {},
   "source": [
    "## wPerpCModel"
   ]
  },
  {
   "cell_type": "code",
   "execution_count": null,
   "id": "4aa945d7-579e-44ea-8c08-0f555348b668",
   "metadata": {
    "execution": {
     "iopub.status.busy": "2024-01-14T14:08:05.711617Z",
     "iopub.status.idle": "2024-01-14T14:08:05.711769Z",
     "shell.execute_reply": "2024-01-14T14:08:05.711695Z",
     "shell.execute_reply.started": "2024-01-14T14:08:05.711688Z"
    }
   },
   "outputs": [],
   "source": [
    "taskState.atools.wPerpCModel(inputData[\"data\"], plotInfo=plotInfoDict, skymap=\"latiss_v1\", band=\"i\")"
   ]
  },
  {
   "cell_type": "markdown",
   "id": "11e6676f-9dd2-41f7-8566-ae55883acfae",
   "metadata": {},
   "source": [
    "## wPerpPSFP"
   ]
  },
  {
   "cell_type": "code",
   "execution_count": null,
   "id": "3c0eb014-c9e9-44b6-9230-841408fb8dd1",
   "metadata": {
    "execution": {
     "iopub.status.busy": "2024-01-14T14:08:05.712232Z",
     "iopub.status.idle": "2024-01-14T14:08:05.712374Z",
     "shell.execute_reply": "2024-01-14T14:08:05.712307Z",
     "shell.execute_reply.started": "2024-01-14T14:08:05.712301Z"
    }
   },
   "outputs": [],
   "source": [
    "taskState.atools.wPerpPSFP(inputData[\"data\"], plotInfo=plotInfoDict, skymap=\"latiss_v1\", band=\"i\")"
   ]
  },
  {
   "cell_type": "markdown",
   "id": "dc40d709-7864-48f3-9191-34119cbe7033",
   "metadata": {
    "execution": {
     "iopub.execute_input": "2024-01-13T15:01:25.534054Z",
     "iopub.status.busy": "2024-01-13T15:01:25.533861Z",
     "iopub.status.idle": "2024-01-13T15:01:25.536394Z",
     "shell.execute_reply": "2024-01-13T15:01:25.536021Z",
     "shell.execute_reply.started": "2024-01-13T15:01:25.534040Z"
    }
   },
   "source": [
    "## xPerpCModel"
   ]
  },
  {
   "cell_type": "code",
   "execution_count": null,
   "id": "c46eae73-a840-45f9-b125-e323423dc293",
   "metadata": {
    "execution": {
     "iopub.status.busy": "2024-01-14T14:08:05.712973Z",
     "iopub.status.idle": "2024-01-14T14:08:05.713122Z",
     "shell.execute_reply": "2024-01-14T14:08:05.713050Z",
     "shell.execute_reply.started": "2024-01-14T14:08:05.713043Z"
    }
   },
   "outputs": [],
   "source": [
    "taskState.atools.xPerpCModel(inputData[\"data\"], plotInfo=plotInfoDict, skymap=\"latiss_v1\", band=\"i\")"
   ]
  },
  {
   "cell_type": "markdown",
   "id": "c710398c-e097-4048-aebf-bb70b52e9146",
   "metadata": {},
   "source": [
    "## xPerpPSFP"
   ]
  },
  {
   "cell_type": "code",
   "execution_count": null,
   "id": "7b3465f7-d0b5-4261-a147-d755dce50bf6",
   "metadata": {
    "execution": {
     "iopub.status.busy": "2024-01-14T14:08:05.713407Z",
     "iopub.status.idle": "2024-01-14T14:08:05.713543Z",
     "shell.execute_reply": "2024-01-14T14:08:05.713479Z",
     "shell.execute_reply.started": "2024-01-14T14:08:05.713472Z"
    }
   },
   "outputs": [],
   "source": [
    "taskState.atools.xPerpPSFP(inputData[\"data\"], plotInfo=plotInfoDict, skymap=\"latiss_v1\", band=\"i\")\n"
   ]
  },
  {
   "cell_type": "code",
   "execution_count": null,
   "id": "334e6c01-ccb2-40df-bf9d-ecf807a95fa1",
   "metadata": {},
   "outputs": [],
   "source": []
  }
 ],
 "metadata": {
  "kernelspec": {
   "display_name": "LSST",
   "language": "python",
   "name": "lsst"
  },
  "language_info": {
   "codemirror_mode": {
    "name": "ipython",
    "version": 3
   },
   "file_extension": ".py",
   "mimetype": "text/x-python",
   "name": "python",
   "nbconvert_exporter": "python",
   "pygments_lexer": "ipython3",
   "version": "3.11.4"
  }
 },
 "nbformat": 4,
 "nbformat_minor": 5
}
