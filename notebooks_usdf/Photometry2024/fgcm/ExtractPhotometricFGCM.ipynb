{
 "cells": [
  {
   "cell_type": "markdown",
   "id": "0b8c2138-5194-4d03-8b77-be24e2cc8ee3",
   "metadata": {},
   "source": [
    "# Extract sources from catalogs  in  OGA"
   ]
  },
  {
   "cell_type": "markdown",
   "id": "740e34fb-3fef-45a8-941b-c229742ab016",
   "metadata": {},
   "source": [
    " work with Weakly_2024_07\n",
    "- use jupyter kernel LSST\n",
    "- author : Sylvie Dagoret-Campagne\n",
    "- affiliation : IJCLab\n",
    "- creation date : 2024/03/01\n",
    "- update : 2024/03/01\n",
    "\n",
    "- ``Quantum graphs`` : https://tigress-web.princeton.edu/~lkelvin/pipelines/\n",
    "- ``Quantum graphs FGCM`` : https://tigress-web.princeton.edu/~lkelvin/pipelines/w_2024_07/drp_pipe/LATISS/DRP/pipeline_drp_pipe_LATISS_DRP_step2bcde.pdf\n",
    "\n",
    "      DatasetType('fgcmFitParameters0', {instrument}, Catalog),\n",
    "      DatasetType('fgcmMakeLut_config', {}, Config),\n",
    "      DatasetType('fgcm_standard_passband', {band, instrument, physical_filter}, TransmissionCurve),\n",
    "      DatasetType('fgcm_standard_atmosphere', {instrument}, TransmissionCurve),\n",
    "      DatasetType('fgcmLookUpTable', {instrument}, Catalog),\n",
    "      DatasetType('fgcmMakeLut_metadata', {instrument}, TaskMetadata),\n",
    "      DatasetType('fgcmMakeLut_log', {instrument}, ButlerLogRecords),\n",
    "      DatasetType('fgcmBuildFromIsolatedStars_config', {}, Config),\n",
    "      DatasetType('fgcm_star_ids', {instrument}, ArrowAstropy),\n",
    "      DatasetType('fgcm_reference_stars', {instrument}, ArrowAstropy),\n",
    "      DatasetType('fgcmVisitCatalog', {instrument}, Catalog),\n",
    "      DatasetType('fgcm_star_observations', {instrument}, ArrowAstropy),\n",
    "      DatasetType('fgcmBuildFromIsolatedStars_metadata', {instrument}, TaskMetadata),\n",
    "      DatasetType('fgcmBuildFromIsolatedStars_log', {instrument}, ButlerLogRecords),\n",
    "      DatasetType('fgcmFitCycle_config', {}, Config),\n",
    "      DatasetType('fgcmFlaggedStars0', {instrument}, Catalog),\n",
    "      DatasetType('fgcmAtmosphereParameters4', {instrument}, Catalog),\n",
    "      DatasetType('fgcmFitParameters4', {instrument}, Catalog),\n",
    "      DatasetType('fgcmZeropoints4', {instrument}, Catalog),\n",
    "      DatasetType('fgcmFlaggedStars1', {instrument}, Catalog),\n",
    "      DatasetType('fgcmFlaggedStars2', {instrument}, Catalog),\n",
    "      DatasetType('fgcmStandardStars4', {instrument}, SimpleCatalog),\n",
    "      DatasetType('fgcmFitParameters3', {instrument}, Catalog),\n",
    "      DatasetType('fgcmFitParameters1', {instrument}, Catalog),\n",
    "      DatasetType('fgcmFlaggedStars4', {instrument}, Catalog),\n",
    "      DatasetType('fgcmFitParameters2', {instrument}, Catalog),\n",
    "      DatasetType('fgcmFlaggedStars3', {instrument}, Catalog),\n",
    "      DatasetType('fgcmFitCycle_metadata', {instrument}, TaskMetadata),\n",
    "      DatasetType('fgcmFitCycle_log', {instrument}, ButlerLogRecords),\n",
    "      DatasetType('fgcmStandardStars6', {instrument}, SimpleCatalog),\n",
    "      DatasetType('fgcmZeropoints6', {instrument}, Catalog),\n",
    "      DatasetType('fgcmFitParameters5', {instrument}, Catalog),\n",
    "      DatasetType('fgcmAtmosphereParameters6', {instrument}, Catalog),\n",
    "      DatasetType('fgcmFlaggedStars6', {instrument}, Catalog),\n",
    "      DatasetType('fgcmFitParameters6', {instrument}, Catalog),\n",
    "      DatasetType('fgcmFlaggedStars5', {instrument}, Catalog),\n",
    "      DatasetType('fgcmFlaggedStars8', {instrument}, Catalog),\n",
    "      DatasetType('fgcmFlaggedStars7', {instrument}, Catalog),\n",
    "      DatasetType('fgcmFitParameters8', {instrument}, Catalog),\n",
    "      DatasetType('fgcmFitParameters9', {instrument}, Catalog),\n",
    "      DatasetType('fgcmFitParameters7', {instrument}, Catalog),\n",
    "      DatasetType('fgcmFlaggedStars9', {instrument}, Catalog),\n",
    "      DatasetType('fgcmOutputProducts_metadata', {instrument}, TaskMetadata),\n",
    "      DatasetType('transmission_atmosphere_fgcm', {band, instrument, physical_filter, visit}, TransmissionCurve),\n",
    "      DatasetType('fgcmPhotoCalibCatalog', {band, instrument, physical_filter, visit}, ExposureCatalog),\n",
    "      DatasetType('fgcmOutputProducts_log', {instrument}, ButlerLogRecords),\n",
    "      DatasetType('fgcmOutputProducts_config', {}, Config)]"
   ]
  },
  {
   "cell_type": "code",
   "execution_count": 1,
   "id": "ed2c3410-fe83-432e-ab87-9f4513fa8d8b",
   "metadata": {
    "execution": {
     "iopub.execute_input": "2024-03-04T22:04:52.913564Z",
     "iopub.status.busy": "2024-03-04T22:04:52.913436Z",
     "iopub.status.idle": "2024-03-04T22:04:53.271027Z",
     "shell.execute_reply": "2024-03-04T22:04:53.270461Z",
     "shell.execute_reply.started": "2024-03-04T22:04:52.913550Z"
    }
   },
   "outputs": [
    {
     "name": "stdout",
     "output_type": "stream",
     "text": [
      "analysis_tools        LOCAL:/home/d/dagoret/repos/repos_w_2024_07/analysis_tools \tsetup\n",
      "atmospec              LOCAL:/home/d/dagoret/repos/repos_w_2024_07/atmospec \tsetup\n",
      "eups                  LOCAL:/opt/lsst/software/stack/conda/miniconda3-py38_4.9.2/envs/lsst-scipipe-8.0.0/eups \tsetup\n",
      "spectractor           LOCAL:/home/d/dagoret/repos/repos_w_2024_07/Spectractor \tsetup\n"
     ]
    }
   ],
   "source": [
    "! eups list -s | grep LOCAL"
   ]
  },
  {
   "cell_type": "code",
   "execution_count": 2,
   "id": "70918d81-0cf6-4b0a-8f61-f5e5bec5b0e7",
   "metadata": {
    "execution": {
     "iopub.execute_input": "2024-03-04T22:04:53.271879Z",
     "iopub.status.busy": "2024-03-04T22:04:53.271732Z",
     "iopub.status.idle": "2024-03-04T22:04:53.616322Z",
     "shell.execute_reply": "2024-03-04T22:04:53.615799Z",
     "shell.execute_reply.started": "2024-03-04T22:04:53.271864Z"
    }
   },
   "outputs": [
    {
     "name": "stdout",
     "output_type": "stream",
     "text": [
      "   g4213664e8e+903d45c1e3 \tcurrent w_2024_08 setup\n"
     ]
    }
   ],
   "source": [
    "! eups list -s lsst_distrib"
   ]
  },
  {
   "cell_type": "code",
   "execution_count": 3,
   "id": "f8d9cfca-5881-48c1-b2cb-0f794a2e4091",
   "metadata": {
    "execution": {
     "iopub.execute_input": "2024-03-04T22:04:53.617314Z",
     "iopub.status.busy": "2024-03-04T22:04:53.617158Z",
     "iopub.status.idle": "2024-03-04T22:04:54.248219Z",
     "shell.execute_reply": "2024-03-04T22:04:54.247769Z",
     "shell.execute_reply.started": "2024-03-04T22:04:53.617299Z"
    },
    "tags": []
   },
   "outputs": [],
   "source": [
    "import lsst.daf.butler as dafButler\n",
    "#import lsst.summit.utils.butlerUtils as butlerUtils"
   ]
  },
  {
   "cell_type": "code",
   "execution_count": 4,
   "id": "1ceacda9-20b0-4d77-a0d2-572c957ce273",
   "metadata": {
    "execution": {
     "iopub.execute_input": "2024-03-04T22:04:54.250428Z",
     "iopub.status.busy": "2024-03-04T22:04:54.250206Z",
     "iopub.status.idle": "2024-03-04T22:04:54.741676Z",
     "shell.execute_reply": "2024-03-04T22:04:54.741261Z",
     "shell.execute_reply.started": "2024-03-04T22:04:54.250415Z"
    },
    "tags": []
   },
   "outputs": [],
   "source": [
    "import numpy as np\n",
    "import matplotlib.pyplot as plt\n",
    "%matplotlib inline\n",
    "from mpl_toolkits.axes_grid1 import make_axes_locatable\n",
    "from matplotlib.colors import LogNorm,SymLogNorm\n",
    "\n",
    "\n",
    "import matplotlib.ticker                         # here's where the formatter is\n",
    "from matplotlib.ticker import (MultipleLocator, FormatStrFormatter,\n",
    "                               AutoMinorLocator)\n",
    "\n",
    "from astropy.visualization import (MinMaxInterval, SqrtStretch,ZScaleInterval,PercentileInterval,\n",
    "                                   ImageNormalize,imshow_norm)\n",
    "from astropy.visualization.stretch import SinhStretch, LinearStretch,AsinhStretch,LogStretch\n",
    "\n",
    "from astropy.io import fits\n",
    "from astropy.table import Table\n",
    "import pandas as pd\n",
    "\n",
    "import matplotlib.ticker                         # here's where the formatter is\n",
    "import os\n",
    "import re\n",
    "import pandas as pd\n",
    "\n",
    "plt.rcParams[\"figure.figsize\"] = (4,3)\n",
    "plt.rcParams[\"axes.labelsize\"] = 'xx-large'\n",
    "plt.rcParams['axes.titlesize'] = 'xx-large'\n",
    "plt.rcParams['xtick.labelsize']= 'xx-large'\n",
    "plt.rcParams['ytick.labelsize']= 'xx-large'"
   ]
  },
  {
   "cell_type": "code",
   "execution_count": 5,
   "id": "34c92544-f2fd-4287-b852-e2ccb9a3b510",
   "metadata": {
    "execution": {
     "iopub.execute_input": "2024-03-04T22:04:55.885100Z",
     "iopub.status.busy": "2024-03-04T22:04:55.884959Z",
     "iopub.status.idle": "2024-03-04T22:04:55.887331Z",
     "shell.execute_reply": "2024-03-04T22:04:55.887043Z",
     "shell.execute_reply.started": "2024-03-04T22:04:55.885088Z"
    },
    "tags": []
   },
   "outputs": [],
   "source": [
    "from matplotlib.ticker import (MultipleLocator, FormatStrFormatter,\n",
    "                               AutoMinorLocator)\n",
    "\n",
    "from astropy.visualization import (MinMaxInterval, SqrtStretch,ZScaleInterval,PercentileInterval,\n",
    "                                   ImageNormalize,imshow_norm)\n",
    "from astropy.visualization.stretch import SinhStretch, LinearStretch,AsinhStretch,LogStretch\n",
    "\n",
    "from astropy.time import Time\n"
   ]
  },
  {
   "cell_type": "code",
   "execution_count": 6,
   "id": "77aa5733-0a46-49eb-b26e-d3bb6195cc3d",
   "metadata": {
    "execution": {
     "iopub.execute_input": "2024-03-04T22:04:55.898791Z",
     "iopub.status.busy": "2024-03-04T22:04:55.898670Z",
     "iopub.status.idle": "2024-03-04T22:04:56.109762Z",
     "shell.execute_reply": "2024-03-04T22:04:56.109377Z",
     "shell.execute_reply.started": "2024-03-04T22:04:55.898781Z"
    },
    "tags": []
   },
   "outputs": [],
   "source": [
    "# LSST Display\n",
    "import lsst.afw.display as afwDisplay\n",
    "afwDisplay.setDefaultBackend('matplotlib')"
   ]
  },
  {
   "cell_type": "code",
   "execution_count": 7,
   "id": "d622e577-e0c1-4a53-a88b-af42db895eae",
   "metadata": {
    "execution": {
     "iopub.execute_input": "2024-03-04T22:04:56.123974Z",
     "iopub.status.busy": "2024-03-04T22:04:56.123843Z",
     "iopub.status.idle": "2024-03-04T22:04:56.126173Z",
     "shell.execute_reply": "2024-03-04T22:04:56.125843Z",
     "shell.execute_reply.started": "2024-03-04T22:04:56.123963Z"
    }
   },
   "outputs": [],
   "source": [
    "from lsst.afw.table import *\n",
    "from lsst.afw.image import *"
   ]
  },
  {
   "cell_type": "code",
   "execution_count": 8,
   "id": "10c64c5c-842f-4fc0-bb3c-a80b227fc30e",
   "metadata": {
    "execution": {
     "iopub.execute_input": "2024-03-04T22:04:56.126687Z",
     "iopub.status.busy": "2024-03-04T22:04:56.126566Z",
     "iopub.status.idle": "2024-03-04T22:04:56.131290Z",
     "shell.execute_reply": "2024-03-04T22:04:56.130979Z",
     "shell.execute_reply.started": "2024-03-04T22:04:56.126676Z"
    }
   },
   "outputs": [
    {
     "data": {
      "text/plain": [
       "['ApCorrMap',\n",
       " 'CoaddInputs',\n",
       " 'Color',\n",
       " 'DecoratedImage',\n",
       " 'DecoratedImageD',\n",
       " 'DecoratedImageF',\n",
       " 'DecoratedImageI',\n",
       " 'DecoratedImageL',\n",
       " 'DecoratedImageU',\n",
       " 'DefectBase',\n",
       " 'Exposure',\n",
       " 'ExposureD',\n",
       " 'ExposureF',\n",
       " 'ExposureFitsReader',\n",
       " 'ExposureI',\n",
       " 'ExposureInfo',\n",
       " 'ExposureL',\n",
       " 'ExposureSummaryStats',\n",
       " 'ExposureU',\n",
       " 'FilterLabel',\n",
       " 'HORIZON',\n",
       " 'Image',\n",
       " 'ImageBaseD',\n",
       " 'ImageBaseF',\n",
       " 'ImageBaseI',\n",
       " 'ImageBaseL',\n",
       " 'ImageBaseU',\n",
       " 'ImageD',\n",
       " 'ImageF',\n",
       " 'ImageFitsReader',\n",
       " 'ImageI',\n",
       " 'ImageL',\n",
       " 'ImageOrigin',\n",
       " 'ImagePcaD',\n",
       " 'ImagePcaF',\n",
       " 'ImagePcaI',\n",
       " 'ImagePcaL',\n",
       " 'ImagePcaMD',\n",
       " 'ImagePcaMF',\n",
       " 'ImagePcaMI',\n",
       " 'ImagePcaML',\n",
       " 'ImagePcaMU',\n",
       " 'ImagePcaU',\n",
       " 'ImageSliceD',\n",
       " 'ImageSliceF',\n",
       " 'ImageU',\n",
       " 'IncompleteDataError',\n",
       " 'LOCAL',\n",
       " 'MOUNT',\n",
       " 'Mask',\n",
       " 'MaskFitsReader',\n",
       " 'MaskPixel',\n",
       " 'MaskX',\n",
       " 'MaskedImage',\n",
       " 'MaskedImageD',\n",
       " 'MaskedImageF',\n",
       " 'MaskedImageFitsReader',\n",
       " 'MaskedImageI',\n",
       " 'MaskedImageL',\n",
       " 'MaskedImageU',\n",
       " 'Measurement',\n",
       " 'MultibandExposure',\n",
       " 'MultibandImage',\n",
       " 'MultibandMask',\n",
       " 'MultibandMaskedImage',\n",
       " 'MultibandPixel',\n",
       " 'PARENT',\n",
       " 'PhotoCalib',\n",
       " 'RotType',\n",
       " 'SKY',\n",
       " 'TransmissionCurve',\n",
       " 'UNKNOWN',\n",
       " 'VariancePixel',\n",
       " 'VisitInfo',\n",
       " '__builtins__',\n",
       " '__cached__',\n",
       " '__doc__',\n",
       " '__file__',\n",
       " '__loader__',\n",
       " '__name__',\n",
       " '__package__',\n",
       " '__path__',\n",
       " '__spec__',\n",
       " '_apCorrMap',\n",
       " '_basicUtils',\n",
       " '_exposure',\n",
       " '_exposureInfoContinued',\n",
       " '_exposureSummaryStats',\n",
       " '_image',\n",
       " '_imageLib',\n",
       " '_maskedImage',\n",
       " '_photoCalibContinued',\n",
       " '_visitInfo',\n",
       " 'abMagErrFromFluxErr',\n",
       " 'abMagFromFlux',\n",
       " 'assertImagesAlmostEqual',\n",
       " 'assertImagesEqual',\n",
       " 'assertMaskedImagesAlmostEqual',\n",
       " 'assertMaskedImagesEqual',\n",
       " 'assertMasksEqual',\n",
       " 'bboxFromMetadata',\n",
       " 'computePsfImage',\n",
       " 'exposure',\n",
       " 'fluxErrFromABMagErr',\n",
       " 'fluxFromABMag',\n",
       " 'getDatabaseFilterLabel',\n",
       " 'imagesOverlap',\n",
       " 'indexToPosition',\n",
       " 'innerProduct',\n",
       " 'makeExposure',\n",
       " 'makeImageFromArray',\n",
       " 'makeMaskFromArray',\n",
       " 'makeMaskedImage',\n",
       " 'makeMaskedImageFromArrays',\n",
       " 'makePhotoCalibFromCalibZeroPoint',\n",
       " 'makePhotoCalibFromMetadata',\n",
       " 'pixel',\n",
       " 'positionToIndex',\n",
       " 'setVisitInfoMetadata',\n",
       " 'stripVisitInfoKeywords',\n",
       " 'testUtils',\n",
       " 'utils']"
      ]
     },
     "execution_count": 8,
     "metadata": {},
     "output_type": "execute_result"
    }
   ],
   "source": [
    "dir(lsst.afw.image)"
   ]
  },
  {
   "cell_type": "code",
   "execution_count": 9,
   "id": "b7cea198-6f3c-4a87-8877-fdf8e4d73c26",
   "metadata": {
    "execution": {
     "iopub.execute_input": "2024-03-04T22:04:56.131812Z",
     "iopub.status.busy": "2024-03-04T22:04:56.131691Z",
     "iopub.status.idle": "2024-03-04T22:04:56.135498Z",
     "shell.execute_reply": "2024-03-04T22:04:56.135207Z",
     "shell.execute_reply.started": "2024-03-04T22:04:56.131801Z"
    },
    "tags": []
   },
   "outputs": [],
   "source": [
    "transform = AsinhStretch() + PercentileInterval(99.)"
   ]
  },
  {
   "cell_type": "code",
   "execution_count": 10,
   "id": "c8b31810-780c-43f2-92a1-af05fddd65e1",
   "metadata": {
    "execution": {
     "iopub.execute_input": "2024-03-04T22:04:56.136098Z",
     "iopub.status.busy": "2024-03-04T22:04:56.135964Z",
     "iopub.status.idle": "2024-03-04T22:04:56.138487Z",
     "shell.execute_reply": "2024-03-04T22:04:56.138181Z",
     "shell.execute_reply.started": "2024-03-04T22:04:56.136087Z"
    }
   },
   "outputs": [],
   "source": [
    "pd.options.display.max_columns = None\n",
    "#pd.options.display.max_rows = None\n",
    "\n"
   ]
  },
  {
   "cell_type": "markdown",
   "id": "17f98db2-2ea8-4546-87a9-f2cd11d67ec7",
   "metadata": {},
   "source": [
    "## Configuration"
   ]
  },
  {
   "cell_type": "code",
   "execution_count": 11,
   "id": "f6c1ac18-5e47-4ae9-93ec-32f4337aa520",
   "metadata": {
    "execution": {
     "iopub.execute_input": "2024-03-04T22:04:56.139124Z",
     "iopub.status.busy": "2024-03-04T22:04:56.138874Z",
     "iopub.status.idle": "2024-03-04T22:04:56.142691Z",
     "shell.execute_reply": "2024-03-04T22:04:56.142402Z",
     "shell.execute_reply.started": "2024-03-04T22:04:56.139112Z"
    }
   },
   "outputs": [],
   "source": [
    "DATE = 202402\n",
    "#filesource_out=\"finalized_src_table_202402.csv\"\n",
    "#filetractpatch_out = 'Latiss_tractspatchs_202312.pickle'"
   ]
  },
  {
   "cell_type": "code",
   "execution_count": 12,
   "id": "1c81d99a-5e91-4ba1-ba4a-c66b37905b98",
   "metadata": {
    "execution": {
     "iopub.execute_input": "2024-03-04T22:04:56.143217Z",
     "iopub.status.busy": "2024-03-04T22:04:56.143098Z",
     "iopub.status.idle": "2024-03-04T22:04:56.672827Z",
     "shell.execute_reply": "2024-03-04T22:04:56.672398Z",
     "shell.execute_reply.started": "2024-03-04T22:04:56.143206Z"
    },
    "tags": []
   },
   "outputs": [],
   "source": [
    "#repo =  \"/sdf/group/rubin/repo/main\"\n",
    "repo = \"/sdf/group/rubin/repo/oga/\"\n",
    "butler = dafButler.Butler(repo)\n",
    "registry = butler.registry"
   ]
  },
  {
   "cell_type": "code",
   "execution_count": 13,
   "id": "0fffaeef-599c-4469-8c04-67252827cb8d",
   "metadata": {
    "execution": {
     "iopub.execute_input": "2024-03-04T22:04:56.675775Z",
     "iopub.status.busy": "2024-03-04T22:04:56.675638Z",
     "iopub.status.idle": "2024-03-04T22:04:56.677988Z",
     "shell.execute_reply": "2024-03-04T22:04:56.677507Z",
     "shell.execute_reply.started": "2024-03-04T22:04:56.675762Z"
    }
   },
   "outputs": [],
   "source": [
    "#file_out=\"sourceTable_202312.csv\""
   ]
  },
  {
   "cell_type": "markdown",
   "id": "20dbb8da-3a08-4b4f-9437-4bf7f28c1782",
   "metadata": {},
   "source": [
    "## Give the collection"
   ]
  },
  {
   "cell_type": "code",
   "execution_count": 14,
   "id": "9629ea29-8ab4-4062-aed1-e16d62dc90c4",
   "metadata": {
    "execution": {
     "iopub.execute_input": "2024-03-04T22:04:56.695017Z",
     "iopub.status.busy": "2024-03-04T22:04:56.694893Z",
     "iopub.status.idle": "2024-03-04T22:04:56.697001Z",
     "shell.execute_reply": "2024-03-04T22:04:56.696660Z",
     "shell.execute_reply.started": "2024-03-04T22:04:56.695006Z"
    },
    "tags": []
   },
   "outputs": [],
   "source": [
    "#my_collection = \"LATISS/runs/AUXTEL_DRP_IMAGING_2023-11A-10A-09AB-08ABC-07AB-05AB/w_2023_46/PREOPS-4553\"\n",
    "my_collection = \"LATISS/runs/AUXTEL_DRP_IMAGING_20230509_20240201/w_2024_05/PREOPS-4871\""
   ]
  },
  {
   "cell_type": "code",
   "execution_count": 15,
   "id": "c596e926-b9e6-4ecf-b11c-e1b1904d1db0",
   "metadata": {
    "execution": {
     "iopub.execute_input": "2024-03-04T22:04:56.713278Z",
     "iopub.status.busy": "2024-03-04T22:04:56.713154Z",
     "iopub.status.idle": "2024-03-04T22:04:56.715105Z",
     "shell.execute_reply": "2024-03-04T22:04:56.714768Z",
     "shell.execute_reply.started": "2024-03-04T22:04:56.713266Z"
    }
   },
   "outputs": [],
   "source": [
    "date_work = 202403"
   ]
  },
  {
   "cell_type": "markdown",
   "id": "a7587b10-c178-4537-9c34-60867b69fa01",
   "metadata": {},
   "source": [
    "## Config"
   ]
  },
  {
   "cell_type": "markdown",
   "id": "a72c2c07-ff40-49d9-a36d-5277cbbc5cec",
   "metadata": {},
   "source": [
    "# Sources"
   ]
  },
  {
   "cell_type": "code",
   "execution_count": 16,
   "id": "c2bca87f-8b3a-44ee-afa5-5b8e0b8f9b9d",
   "metadata": {
    "execution": {
     "iopub.execute_input": "2024-03-04T22:04:56.731079Z",
     "iopub.status.busy": "2024-03-04T22:04:56.730949Z",
     "iopub.status.idle": "2024-03-04T22:04:56.871694Z",
     "shell.execute_reply": "2024-03-04T22:04:56.871252Z",
     "shell.execute_reply.started": "2024-03-04T22:04:56.731067Z"
    },
    "tags": []
   },
   "outputs": [],
   "source": [
    "# src : a Source catalog\n",
    "# srcMatchFull\n",
    "# finalized_src_table : sape of a pandas dataframe\n",
    "\n",
    "#'isolated_star_cat', {instrument, skymap, tract}, DataFrame),\n",
    "#'isolated_star_sources', {instrument, skymap, tract}, DataFrame),\n",
    "#'isolated_star_sources_atlas_refcat2_20220201_match', {skymap, tract}, DataFrame),\n",
    "\n",
    "data_product = \"fgcmVisitCatalog\" # OK\n",
    "data_product = \"transmission_atmosphere_fgcm\" # write a fits file\n",
    "data_product = \"fgcm_standard_passband\"  # does not exist\n",
    "data_product = \"fgcmFitParameters0\" # BaseCatalog\n",
    "data_product = \"fgcm_standard_atmosphere\" # does not exists\n",
    "data_product = \"fgcmMakeLut_config\" # does not ecists\n",
    "data_product = \"fgcmLookUpTable\" # OK, but many Nan\n",
    "data_product = \"transmission_atmosphere_fgcm\"\n",
    "\n",
    "\n",
    "# DatasetType('fgcmMakeLut_metadata', {instrument}, TaskMetadata),\n",
    "# DatasetType('fgcmMakeLut_log', {instrument}, ButlerLogRecords),\n",
    "# DatasetType('fgcmBuildFromIsolatedStars_config', {}, Config),\n",
    "# DatasetType('fgcm_star_ids', {instrument}, ArrowAstropy),\n",
    "# DatasetType('fgcm_reference_stars', {instrument}, ArrowAstropy),\n",
    "# DatasetType('fgcmVisitCatalog', {instrument}, Catalog),\n",
    "# DatasetType('fgcm_star_observations', {instrument}, ArrowAstropy),\n",
    "# DatasetType('fgcmBuildFromIsolatedStars_metadata', {instrument}, TaskMetadata),\n",
    "# DatasetType('fgcmBuildFromIsolatedStars_log', {instrument}, ButlerLogRecords),\n",
    "# DatasetType('fgcmFitCycle_config', {}, Config),\n",
    "# DatasetType('fgcmFlaggedStars0', {instrument}, Catalog),\n",
    "# DatasetType('fgcmAtmosphereParameters4', {instrument}, Catalog),\n",
    "# DatasetType('fgcmFitParameters4', {instrument}, Catalog),\n",
    "# DatasetType('fgcmZeropoints4', {instrument}, Catalog),\n",
    "# DatasetType('fgcmFlaggedStars1', {instrument}, Catalog),\n",
    "# DatasetType('fgcmFlaggedStars2', {instrument}, Catalog),\n",
    "# DatasetType('fgcmStandardStars4', {instrument}, SimpleCatalog),\n",
    "# DatasetType('fgcmFitParameters3', {instrument}, Catalog),\n",
    "# DatasetType('fgcmFitParameters1', {instrument}, Catalog),\n",
    "# DatasetType('fgcmFlaggedStars4', {instrument}, Catalog),\n",
    "# DatasetType('fgcmFitParameters2', {instrument}, Catalog),\n",
    "# DatasetType('fgcmFlaggedStars3', {instrument}, Catalog),\n",
    "# DatasetType('fgcmFitCycle_metadata', {instrument}, TaskMetadata),\n",
    "# DatasetType('fgcmFitCycle_log', {instrument}, ButlerLogRecords),\n",
    "# DatasetType('fgcmStandardStars6', {instrument}, SimpleCatalog),\n",
    "# DatasetType('fgcmZeropoints6', {instrument}, Catalog),\n",
    "# DatasetType('fgcmFitParameters5', {instrument}, Catalog),\n",
    "# DatasetType('fgcmAtmosphereParameters6', {instrument}, Catalog),\n",
    "# DatasetType('fgcmFlaggedStars6', {instrument}, Catalog),\n",
    "# DatasetType('fgcmFitParameters6', {instrument}, Catalog),\n",
    "# DatasetType('fgcmFlaggedStars5', {instrument}, Catalog),\n",
    "# DatasetType('fgcmFlaggedStars8', {instrument}, Catalog),\n",
    "# DatasetType('fgcmFlaggedStars7', {instrument}, Catalog),\n",
    "# DatasetType('fgcmFitParameters8', {instrument}, Catalog),\n",
    "# DatasetType('fgcmFitParameters9', {instrument}, Catalog),\n",
    "# DatasetType('fgcmFitParameters7', {instrument}, Catalog),\n",
    "# DatasetType('fgcmFlaggedStars9', {instrument}, Catalog),\n",
    "# DatasetType('fgcmOutputProducts_metadata', {instrument}, TaskMetadata),\n",
    "# DatasetType('transmission_atmosphere_fgcm', {band, instrument, physical_filter, visit}, TransmissionCurve),\n",
    "# DatasetType('fgcmPhotoCalibCatalog', {band, instrument, physical_filter, visit}, ExposureCatalog),\n",
    "# DatasetType('fgcmOutputProducts_log', {instrument}, ButlerLogRecords),\n",
    "# DatasetType('fgcmOutputProducts_config', {}, Config)]\n",
    "\n",
    "\n",
    "datasetRefs = butler.registry.queryDatasets(datasetType=data_product, collections=my_collection, where= \"instrument='LATISS'\")\n",
    "filesource_out=f\"{data_product}_{DATE}.csv\""
   ]
  },
  {
   "cell_type": "code",
   "execution_count": 17,
   "id": "a01bb1b1-a2fe-4060-85ff-fb9e9c5dbb74",
   "metadata": {
    "execution": {
     "iopub.execute_input": "2024-03-04T22:04:56.889579Z",
     "iopub.status.busy": "2024-03-04T22:04:56.889450Z",
     "iopub.status.idle": "2024-03-04T22:04:57.749398Z",
     "shell.execute_reply": "2024-03-04T22:04:57.748383Z",
     "shell.execute_reply.started": "2024-03-04T22:04:56.889567Z"
    },
    "tags": []
   },
   "outputs": [
    {
     "name": "stdout",
     "output_type": "stream",
     "text": [
      "========================datasetType = transmission_atmosphere_fgcm ============================================\n",
      "fullId.............................: {instrument: 'LATISS', visit: 2023051100262, band: 'r', physical_filter: 'SDSSr_65mm~empty'}\n"
     ]
    },
    {
     "name": "stderr",
     "output_type": "stream",
     "text": [
      "/tmp/ipykernel_68511/2725728736.py:5: FutureWarning: Call to deprecated function (or staticmethod) full. (DataCoordinate.full is deprecated in favor of .mapping, and will be dropped after v27.) -- Deprecated since version v27.\n",
      "  print(\"fullId.............................:\",ref.dataId.full)\n"
     ]
    },
    {
     "ename": "AttributeError",
     "evalue": "'lsst.afw.image._imageLib.TransmissionCurve' object has no attribute 'getSchema'",
     "output_type": "error",
     "traceback": [
      "\u001b[0;31m---------------------------------------------------------------------------\u001b[0m",
      "\u001b[0;31mAttributeError\u001b[0m                            Traceback (most recent call last)",
      "Cell \u001b[0;32mIn[17], line 17\u001b[0m\n\u001b[1;32m     15\u001b[0m \u001b[38;5;28;01melse\u001b[39;00m:\n\u001b[1;32m     16\u001b[0m     df \u001b[38;5;241m=\u001b[39m []\n\u001b[0;32m---> 17\u001b[0m     \u001b[38;5;28mprint\u001b[39m(\u001b[38;5;28mtype\u001b[39m(data),\u001b[38;5;124m\"\u001b[39m\u001b[38;5;130;01m\\n\u001b[39;00m\u001b[38;5;124m\"\u001b[39m, \u001b[43mdata\u001b[49m\u001b[38;5;241;43m.\u001b[39;49m\u001b[43mgetSchema\u001b[49m())\n\u001b[1;32m     18\u001b[0m     data\u001b[38;5;241m.\u001b[39mwriteFits(\u001b[38;5;124mf\u001b[39m\u001b[38;5;124m\"\u001b[39m\u001b[38;5;132;01m{\u001b[39;00mdata_product\u001b[38;5;132;01m}\u001b[39;00m\u001b[38;5;124m_\u001b[39m\u001b[38;5;132;01m{\u001b[39;00mdate_work\u001b[38;5;132;01m}\u001b[39;00m\u001b[38;5;124m.fits\u001b[39m\u001b[38;5;124m\"\u001b[39m,\u001b[38;5;124m\"\u001b[39m\u001b[38;5;124mw\u001b[39m\u001b[38;5;124m\"\u001b[39m)\n\u001b[1;32m     19\u001b[0m     \u001b[38;5;28;01mif\u001b[39;00m \u001b[38;5;28misinstance\u001b[39m(data,BaseCatalog):\n",
      "\u001b[0;31mAttributeError\u001b[0m: 'lsst.afw.image._imageLib.TransmissionCurve' object has no attribute 'getSchema'"
     ]
    }
   ],
   "source": [
    "all_df = []\n",
    "\n",
    "for i, ref in enumerate(datasetRefs):\n",
    "    print(f\"========================datasetType = {data_product} ============================================\")\n",
    "    print(\"fullId.............................:\",ref.dataId.full)\n",
    "    \n",
    "    data = butler.get(ref)\n",
    "\n",
    "    if isinstance(data, pd.DataFrame):\n",
    "        print(\"pandas dataframe\")\n",
    "        df = data\n",
    "    elif isinstance(data,Table):\n",
    "        t = data\n",
    "        df = t.to_pandas()\n",
    "    else:\n",
    "        df = []\n",
    "        print(type(data),\"\\n\", data.getSchema())\n",
    "        data.writeFits(f\"{data_product}_{date_work}.fits\",\"w\")\n",
    "        if isinstance(data,BaseCatalog):\n",
    "            t= data.asAstropy()\n",
    "           "
   ]
  },
  {
   "cell_type": "code",
   "execution_count": null,
   "id": "e917dd11-31e4-41af-9f9b-f6ca493f5e55",
   "metadata": {
    "execution": {
     "iopub.status.busy": "2024-03-04T22:04:57.751426Z",
     "iopub.status.idle": "2024-03-04T22:04:57.751580Z",
     "shell.execute_reply": "2024-03-04T22:04:57.751508Z",
     "shell.execute_reply.started": "2024-03-04T22:04:57.751501Z"
    }
   },
   "outputs": [],
   "source": [
    "data"
   ]
  },
  {
   "cell_type": "code",
   "execution_count": null,
   "id": "b5d710e1-5313-443a-b56e-c83e80061d0f",
   "metadata": {
    "execution": {
     "iopub.status.busy": "2024-03-04T22:04:57.753235Z",
     "iopub.status.idle": "2024-03-04T22:04:57.753389Z",
     "shell.execute_reply": "2024-03-04T22:04:57.753314Z",
     "shell.execute_reply.started": "2024-03-04T22:04:57.753308Z"
    }
   },
   "outputs": [],
   "source": [
    "data.asAstropy()"
   ]
  },
  {
   "cell_type": "code",
   "execution_count": null,
   "id": "05966663-f2e0-42f0-9244-99c169d2e0bf",
   "metadata": {
    "execution": {
     "iopub.status.busy": "2024-03-04T22:04:57.755072Z",
     "iopub.status.idle": "2024-03-04T22:04:57.755361Z",
     "shell.execute_reply": "2024-03-04T22:04:57.755268Z",
     "shell.execute_reply.started": "2024-03-04T22:04:57.755259Z"
    }
   },
   "outputs": [],
   "source": [
    "t.to_pandas()"
   ]
  },
  {
   "cell_type": "code",
   "execution_count": null,
   "id": "7d0be723-3b5a-413f-8200-33baf689f527",
   "metadata": {
    "execution": {
     "iopub.status.busy": "2024-03-04T22:04:57.757298Z",
     "iopub.status.idle": "2024-03-04T22:04:57.757459Z",
     "shell.execute_reply": "2024-03-04T22:04:57.757379Z",
     "shell.execute_reply.started": "2024-03-04T22:04:57.757373Z"
    }
   },
   "outputs": [],
   "source": [
    "t.to_pandas()"
   ]
  },
  {
   "cell_type": "code",
   "execution_count": null,
   "id": "abac8398-3404-4bb9-85dc-766f9825e7d1",
   "metadata": {
    "execution": {
     "iopub.status.busy": "2024-03-04T22:04:57.759375Z",
     "iopub.status.idle": "2024-03-04T22:04:57.759533Z",
     "shell.execute_reply": "2024-03-04T22:04:57.759458Z",
     "shell.execute_reply.started": "2024-03-04T22:04:57.759451Z"
    }
   },
   "outputs": [],
   "source": [
    "df = pd.concat(all_df)"
   ]
  },
  {
   "cell_type": "code",
   "execution_count": null,
   "id": "21444ba7-f2d3-48ab-a984-dc82f9c30d4e",
   "metadata": {
    "execution": {
     "iopub.status.busy": "2024-03-04T22:04:57.760089Z",
     "iopub.status.idle": "2024-03-04T22:04:57.760248Z",
     "shell.execute_reply": "2024-03-04T22:04:57.760174Z",
     "shell.execute_reply.started": "2024-03-04T22:04:57.760168Z"
    }
   },
   "outputs": [],
   "source": [
    "df"
   ]
  },
  {
   "cell_type": "code",
   "execution_count": null,
   "id": "a4afe23a-71ae-4c4e-abd7-591bc9d939c8",
   "metadata": {
    "execution": {
     "iopub.status.busy": "2024-03-04T22:04:57.760533Z",
     "iopub.status.idle": "2024-03-04T22:04:57.760671Z",
     "shell.execute_reply": "2024-03-04T22:04:57.760605Z",
     "shell.execute_reply.started": "2024-03-04T22:04:57.760599Z"
    },
    "tags": []
   },
   "outputs": [],
   "source": [
    "df.to_csv(filesource_out)"
   ]
  },
  {
   "cell_type": "code",
   "execution_count": null,
   "id": "dbf845eb-7c07-4344-a440-f7af1bffd08a",
   "metadata": {
    "execution": {
     "iopub.status.busy": "2024-03-04T22:04:57.761241Z",
     "iopub.status.idle": "2024-03-04T22:04:57.761392Z",
     "shell.execute_reply": "2024-03-04T22:04:57.761321Z",
     "shell.execute_reply.started": "2024-03-04T22:04:57.761315Z"
    },
    "tags": []
   },
   "outputs": [],
   "source": [
    "print(df.columns.tolist())"
   ]
  },
  {
   "cell_type": "code",
   "execution_count": null,
   "id": "e211cb27-8fce-4f75-b5f8-2cc966675158",
   "metadata": {
    "execution": {
     "iopub.status.busy": "2024-03-04T22:04:57.761840Z",
     "iopub.status.idle": "2024-03-04T22:04:57.762041Z",
     "shell.execute_reply": "2024-03-04T22:04:57.761925Z",
     "shell.execute_reply.started": "2024-03-04T22:04:57.761916Z"
    }
   },
   "outputs": [],
   "source": [
    "df['tract'].unique()"
   ]
  },
  {
   "cell_type": "code",
   "execution_count": null,
   "id": "3fc22a66-a90d-4371-b073-1f1c34c806f7",
   "metadata": {},
   "outputs": [],
   "source": []
  }
 ],
 "metadata": {
  "kernelspec": {
   "display_name": "LSST",
   "language": "python",
   "name": "lsst"
  },
  "language_info": {
   "codemirror_mode": {
    "name": "ipython",
    "version": 3
   },
   "file_extension": ".py",
   "mimetype": "text/x-python",
   "name": "python",
   "nbconvert_exporter": "python",
   "pygments_lexer": "ipython3",
   "version": "3.11.7"
  }
 },
 "nbformat": 4,
 "nbformat_minor": 5
}
