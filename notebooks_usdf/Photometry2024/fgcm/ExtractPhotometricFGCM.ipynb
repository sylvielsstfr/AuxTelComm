{
 "cells": [
  {
   "cell_type": "markdown",
   "id": "0b8c2138-5194-4d03-8b77-be24e2cc8ee3",
   "metadata": {},
   "source": [
    "# Extract sources from catalogs  in  OGA"
   ]
  },
  {
   "cell_type": "markdown",
   "id": "740e34fb-3fef-45a8-941b-c229742ab016",
   "metadata": {},
   "source": [
    " work with Weakly_2024_07\n",
    "- use jupyter kernel LSST\n",
    "- author : Sylvie Dagoret-Campagne\n",
    "- affiliation : IJCLab\n",
    "- creation date : 2024/03/01\n",
    "- update : 2024/03/01\n",
    "\n",
    "- ``Quantum graphs`` : https://tigress-web.princeton.edu/~lkelvin/pipelines/\n",
    "- ``Quantum graphs FGCM`` : https://tigress-web.princeton.edu/~lkelvin/pipelines/w_2024_07/drp_pipe/LATISS/DRP/pipeline_drp_pipe_LATISS_DRP_step2bcde.pdf\n",
    "\n",
    "      DatasetType('fgcmFitParameters0', {instrument}, Catalog),\n",
    "      DatasetType('fgcmMakeLut_config', {}, Config),\n",
    "      DatasetType('fgcm_standard_passband', {band, instrument, physical_filter}, TransmissionCurve),\n",
    "      DatasetType('fgcm_standard_atmosphere', {instrument}, TransmissionCurve),\n",
    "      DatasetType('fgcmLookUpTable', {instrument}, Catalog),\n",
    "      DatasetType('fgcmMakeLut_metadata', {instrument}, TaskMetadata),\n",
    "      DatasetType('fgcmMakeLut_log', {instrument}, ButlerLogRecords),\n",
    "      DatasetType('fgcmBuildFromIsolatedStars_config', {}, Config),\n",
    "      DatasetType('fgcm_star_ids', {instrument}, ArrowAstropy),\n",
    "      DatasetType('fgcm_reference_stars', {instrument}, ArrowAstropy),\n",
    "      DatasetType('fgcmVisitCatalog', {instrument}, Catalog),\n",
    "      DatasetType('fgcm_star_observations', {instrument}, ArrowAstropy),\n",
    "      DatasetType('fgcmBuildFromIsolatedStars_metadata', {instrument}, TaskMetadata),\n",
    "      DatasetType('fgcmBuildFromIsolatedStars_log', {instrument}, ButlerLogRecords),\n",
    "      DatasetType('fgcmFitCycle_config', {}, Config),\n",
    "      DatasetType('fgcmFlaggedStars0', {instrument}, Catalog),\n",
    "      DatasetType('fgcmAtmosphereParameters4', {instrument}, Catalog),\n",
    "      DatasetType('fgcmFitParameters4', {instrument}, Catalog),\n",
    "      DatasetType('fgcmZeropoints4', {instrument}, Catalog),\n",
    "      DatasetType('fgcmFlaggedStars1', {instrument}, Catalog),\n",
    "      DatasetType('fgcmFlaggedStars2', {instrument}, Catalog),\n",
    "      DatasetType('fgcmStandardStars4', {instrument}, SimpleCatalog),\n",
    "      DatasetType('fgcmFitParameters3', {instrument}, Catalog),\n",
    "      DatasetType('fgcmFitParameters1', {instrument}, Catalog),\n",
    "      DatasetType('fgcmFlaggedStars4', {instrument}, Catalog),\n",
    "      DatasetType('fgcmFitParameters2', {instrument}, Catalog),\n",
    "      DatasetType('fgcmFlaggedStars3', {instrument}, Catalog),\n",
    "      DatasetType('fgcmFitCycle_metadata', {instrument}, TaskMetadata),\n",
    "      DatasetType('fgcmFitCycle_log', {instrument}, ButlerLogRecords),\n",
    "      DatasetType('fgcmStandardStars6', {instrument}, SimpleCatalog),\n",
    "      DatasetType('fgcmZeropoints6', {instrument}, Catalog),\n",
    "      DatasetType('fgcmFitParameters5', {instrument}, Catalog),\n",
    "      DatasetType('fgcmAtmosphereParameters6', {instrument}, Catalog),\n",
    "      DatasetType('fgcmFlaggedStars6', {instrument}, Catalog),\n",
    "      DatasetType('fgcmFitParameters6', {instrument}, Catalog),\n",
    "      DatasetType('fgcmFlaggedStars5', {instrument}, Catalog),\n",
    "      DatasetType('fgcmFlaggedStars8', {instrument}, Catalog),\n",
    "      DatasetType('fgcmFlaggedStars7', {instrument}, Catalog),\n",
    "      DatasetType('fgcmFitParameters8', {instrument}, Catalog),\n",
    "      DatasetType('fgcmFitParameters9', {instrument}, Catalog),\n",
    "      DatasetType('fgcmFitParameters7', {instrument}, Catalog),\n",
    "      DatasetType('fgcmFlaggedStars9', {instrument}, Catalog),\n",
    "      DatasetType('fgcmOutputProducts_metadata', {instrument}, TaskMetadata),\n",
    "      DatasetType('transmission_atmosphere_fgcm', {band, instrument, physical_filter, visit}, TransmissionCurve),\n",
    "      DatasetType('fgcmPhotoCalibCatalog', {band, instrument, physical_filter, visit}, ExposureCatalog),\n",
    "      DatasetType('fgcmOutputProducts_log', {instrument}, ButlerLogRecords),\n",
    "      DatasetType('fgcmOutputProducts_config', {}, Config)]"
   ]
  },
  {
   "cell_type": "code",
   "execution_count": 1,
   "id": "ed2c3410-fe83-432e-ab87-9f4513fa8d8b",
   "metadata": {
    "execution": {
     "iopub.execute_input": "2024-03-06T15:49:43.806522Z",
     "iopub.status.busy": "2024-03-06T15:49:43.806399Z",
     "iopub.status.idle": "2024-03-06T15:49:44.156572Z",
     "shell.execute_reply": "2024-03-06T15:49:44.156021Z",
     "shell.execute_reply.started": "2024-03-06T15:49:43.806509Z"
    }
   },
   "outputs": [
    {
     "name": "stdout",
     "output_type": "stream",
     "text": [
      "analysis_tools        LOCAL:/home/d/dagoret/repos/repos_w_2024_07/analysis_tools \tsetup\n",
      "atmospec              LOCAL:/home/d/dagoret/repos/repos_w_2024_07/atmospec \tsetup\n",
      "eups                  LOCAL:/opt/lsst/software/stack/conda/miniconda3-py38_4.9.2/envs/lsst-scipipe-8.0.0/eups \tsetup\n",
      "spectractor           LOCAL:/home/d/dagoret/repos/repos_w_2024_07/Spectractor \tsetup\n"
     ]
    }
   ],
   "source": [
    "! eups list -s | grep LOCAL"
   ]
  },
  {
   "cell_type": "code",
   "execution_count": 2,
   "id": "70918d81-0cf6-4b0a-8f61-f5e5bec5b0e7",
   "metadata": {
    "execution": {
     "iopub.execute_input": "2024-03-06T15:49:44.157468Z",
     "iopub.status.busy": "2024-03-06T15:49:44.157315Z",
     "iopub.status.idle": "2024-03-06T15:49:44.510527Z",
     "shell.execute_reply": "2024-03-06T15:49:44.509875Z",
     "shell.execute_reply.started": "2024-03-06T15:49:44.157453Z"
    }
   },
   "outputs": [
    {
     "name": "stdout",
     "output_type": "stream",
     "text": [
      "   g4213664e8e+34187316c4 \tcurrent w_2024_07 setup\n"
     ]
    }
   ],
   "source": [
    "! eups list -s lsst_distrib"
   ]
  },
  {
   "cell_type": "code",
   "execution_count": 3,
   "id": "f8d9cfca-5881-48c1-b2cb-0f794a2e4091",
   "metadata": {
    "execution": {
     "iopub.execute_input": "2024-03-06T15:49:44.511683Z",
     "iopub.status.busy": "2024-03-06T15:49:44.511442Z",
     "iopub.status.idle": "2024-03-06T15:49:45.284994Z",
     "shell.execute_reply": "2024-03-06T15:49:45.284630Z",
     "shell.execute_reply.started": "2024-03-06T15:49:44.511663Z"
    },
    "tags": []
   },
   "outputs": [],
   "source": [
    "import lsst.daf.butler as dafButler\n",
    "#import lsst.summit.utils.butlerUtils as butlerUtils"
   ]
  },
  {
   "cell_type": "code",
   "execution_count": 4,
   "id": "1ceacda9-20b0-4d77-a0d2-572c957ce273",
   "metadata": {
    "execution": {
     "iopub.execute_input": "2024-03-06T15:49:45.286525Z",
     "iopub.status.busy": "2024-03-06T15:49:45.286342Z",
     "iopub.status.idle": "2024-03-06T15:49:45.841909Z",
     "shell.execute_reply": "2024-03-06T15:49:45.841473Z",
     "shell.execute_reply.started": "2024-03-06T15:49:45.286510Z"
    },
    "tags": []
   },
   "outputs": [],
   "source": [
    "import numpy as np\n",
    "import matplotlib.pyplot as plt\n",
    "%matplotlib inline\n",
    "from mpl_toolkits.axes_grid1 import make_axes_locatable\n",
    "from matplotlib.colors import LogNorm,SymLogNorm\n",
    "\n",
    "\n",
    "import matplotlib.ticker                         # here's where the formatter is\n",
    "from matplotlib.ticker import (MultipleLocator, FormatStrFormatter,\n",
    "                               AutoMinorLocator)\n",
    "\n",
    "from astropy.visualization import (MinMaxInterval, SqrtStretch,ZScaleInterval,PercentileInterval,\n",
    "                                   ImageNormalize,imshow_norm)\n",
    "from astropy.visualization.stretch import SinhStretch, LinearStretch,AsinhStretch,LogStretch\n",
    "\n",
    "from astropy.io import fits\n",
    "from astropy.table import Table\n",
    "import pandas as pd\n",
    "\n",
    "import matplotlib.ticker                         # here's where the formatter is\n",
    "import os\n",
    "import re\n",
    "import pandas as pd\n",
    "\n",
    "plt.rcParams[\"figure.figsize\"] = (4,3)\n",
    "plt.rcParams[\"axes.labelsize\"] = 'xx-large'\n",
    "plt.rcParams['axes.titlesize'] = 'xx-large'\n",
    "plt.rcParams['xtick.labelsize']= 'xx-large'\n",
    "plt.rcParams['ytick.labelsize']= 'xx-large'"
   ]
  },
  {
   "cell_type": "code",
   "execution_count": 5,
   "id": "34c92544-f2fd-4287-b852-e2ccb9a3b510",
   "metadata": {
    "execution": {
     "iopub.execute_input": "2024-03-06T15:49:45.842908Z",
     "iopub.status.busy": "2024-03-06T15:49:45.842595Z",
     "iopub.status.idle": "2024-03-06T15:49:45.845492Z",
     "shell.execute_reply": "2024-03-06T15:49:45.845151Z",
     "shell.execute_reply.started": "2024-03-06T15:49:45.842893Z"
    },
    "tags": []
   },
   "outputs": [],
   "source": [
    "from matplotlib.ticker import (MultipleLocator, FormatStrFormatter,\n",
    "                               AutoMinorLocator)\n",
    "\n",
    "from astropy.visualization import (MinMaxInterval, SqrtStretch,ZScaleInterval,PercentileInterval,\n",
    "                                   ImageNormalize,imshow_norm)\n",
    "from astropy.visualization.stretch import SinhStretch, LinearStretch,AsinhStretch,LogStretch\n",
    "\n",
    "from astropy.time import Time\n"
   ]
  },
  {
   "cell_type": "code",
   "execution_count": 6,
   "id": "77aa5733-0a46-49eb-b26e-d3bb6195cc3d",
   "metadata": {
    "execution": {
     "iopub.execute_input": "2024-03-06T15:49:45.846095Z",
     "iopub.status.busy": "2024-03-06T15:49:45.845921Z",
     "iopub.status.idle": "2024-03-06T15:49:46.128432Z",
     "shell.execute_reply": "2024-03-06T15:49:46.128020Z",
     "shell.execute_reply.started": "2024-03-06T15:49:45.846083Z"
    },
    "tags": []
   },
   "outputs": [],
   "source": [
    "# LSST Display\n",
    "import lsst.afw.display as afwDisplay\n",
    "afwDisplay.setDefaultBackend('matplotlib')"
   ]
  },
  {
   "cell_type": "code",
   "execution_count": 7,
   "id": "d622e577-e0c1-4a53-a88b-af42db895eae",
   "metadata": {
    "execution": {
     "iopub.execute_input": "2024-03-06T15:49:46.129271Z",
     "iopub.status.busy": "2024-03-06T15:49:46.128957Z",
     "iopub.status.idle": "2024-03-06T15:49:46.131365Z",
     "shell.execute_reply": "2024-03-06T15:49:46.131042Z",
     "shell.execute_reply.started": "2024-03-06T15:49:46.129257Z"
    }
   },
   "outputs": [],
   "source": [
    "from lsst.afw.table import *\n",
    "from lsst.afw.image import *"
   ]
  },
  {
   "cell_type": "code",
   "execution_count": 8,
   "id": "10c64c5c-842f-4fc0-bb3c-a80b227fc30e",
   "metadata": {
    "execution": {
     "iopub.execute_input": "2024-03-06T15:49:46.131938Z",
     "iopub.status.busy": "2024-03-06T15:49:46.131785Z",
     "iopub.status.idle": "2024-03-06T15:49:46.136969Z",
     "shell.execute_reply": "2024-03-06T15:49:46.136678Z",
     "shell.execute_reply.started": "2024-03-06T15:49:46.131925Z"
    }
   },
   "outputs": [
    {
     "data": {
      "text/plain": [
       "['ApCorrMap',\n",
       " 'CoaddInputs',\n",
       " 'Color',\n",
       " 'DecoratedImage',\n",
       " 'DecoratedImageD',\n",
       " 'DecoratedImageF',\n",
       " 'DecoratedImageI',\n",
       " 'DecoratedImageL',\n",
       " 'DecoratedImageU',\n",
       " 'DefectBase',\n",
       " 'Exposure',\n",
       " 'ExposureD',\n",
       " 'ExposureF',\n",
       " 'ExposureFitsReader',\n",
       " 'ExposureI',\n",
       " 'ExposureInfo',\n",
       " 'ExposureL',\n",
       " 'ExposureSummaryStats',\n",
       " 'ExposureU',\n",
       " 'FilterLabel',\n",
       " 'HORIZON',\n",
       " 'Image',\n",
       " 'ImageBaseD',\n",
       " 'ImageBaseF',\n",
       " 'ImageBaseI',\n",
       " 'ImageBaseL',\n",
       " 'ImageBaseU',\n",
       " 'ImageD',\n",
       " 'ImageF',\n",
       " 'ImageFitsReader',\n",
       " 'ImageI',\n",
       " 'ImageL',\n",
       " 'ImageOrigin',\n",
       " 'ImagePcaD',\n",
       " 'ImagePcaF',\n",
       " 'ImagePcaI',\n",
       " 'ImagePcaL',\n",
       " 'ImagePcaMD',\n",
       " 'ImagePcaMF',\n",
       " 'ImagePcaMI',\n",
       " 'ImagePcaML',\n",
       " 'ImagePcaMU',\n",
       " 'ImagePcaU',\n",
       " 'ImageSliceD',\n",
       " 'ImageSliceF',\n",
       " 'ImageU',\n",
       " 'IncompleteDataError',\n",
       " 'LOCAL',\n",
       " 'MOUNT',\n",
       " 'Mask',\n",
       " 'MaskFitsReader',\n",
       " 'MaskPixel',\n",
       " 'MaskX',\n",
       " 'MaskedImage',\n",
       " 'MaskedImageD',\n",
       " 'MaskedImageF',\n",
       " 'MaskedImageFitsReader',\n",
       " 'MaskedImageI',\n",
       " 'MaskedImageL',\n",
       " 'MaskedImageU',\n",
       " 'Measurement',\n",
       " 'MultibandExposure',\n",
       " 'MultibandImage',\n",
       " 'MultibandMask',\n",
       " 'MultibandMaskedImage',\n",
       " 'MultibandPixel',\n",
       " 'PARENT',\n",
       " 'PhotoCalib',\n",
       " 'RotType',\n",
       " 'SKY',\n",
       " 'TransmissionCurve',\n",
       " 'UNKNOWN',\n",
       " 'VariancePixel',\n",
       " 'VisitInfo',\n",
       " '__builtins__',\n",
       " '__cached__',\n",
       " '__doc__',\n",
       " '__file__',\n",
       " '__loader__',\n",
       " '__name__',\n",
       " '__package__',\n",
       " '__path__',\n",
       " '__spec__',\n",
       " '_apCorrMap',\n",
       " '_basicUtils',\n",
       " '_exposure',\n",
       " '_exposureInfoContinued',\n",
       " '_exposureSummaryStats',\n",
       " '_image',\n",
       " '_imageLib',\n",
       " '_maskedImage',\n",
       " '_photoCalibContinued',\n",
       " '_visitInfo',\n",
       " 'abMagErrFromFluxErr',\n",
       " 'abMagFromFlux',\n",
       " 'assertImagesAlmostEqual',\n",
       " 'assertImagesEqual',\n",
       " 'assertMaskedImagesAlmostEqual',\n",
       " 'assertMaskedImagesEqual',\n",
       " 'assertMasksEqual',\n",
       " 'bboxFromMetadata',\n",
       " 'computePsfImage',\n",
       " 'exposure',\n",
       " 'fluxErrFromABMagErr',\n",
       " 'fluxFromABMag',\n",
       " 'getDatabaseFilterLabel',\n",
       " 'imagesOverlap',\n",
       " 'indexToPosition',\n",
       " 'innerProduct',\n",
       " 'makeExposure',\n",
       " 'makeImageFromArray',\n",
       " 'makeMaskFromArray',\n",
       " 'makeMaskedImage',\n",
       " 'makeMaskedImageFromArrays',\n",
       " 'makePhotoCalibFromCalibZeroPoint',\n",
       " 'makePhotoCalibFromMetadata',\n",
       " 'pixel',\n",
       " 'positionToIndex',\n",
       " 'setVisitInfoMetadata',\n",
       " 'stripVisitInfoKeywords',\n",
       " 'testUtils',\n",
       " 'utils']"
      ]
     },
     "execution_count": 8,
     "metadata": {},
     "output_type": "execute_result"
    }
   ],
   "source": [
    "dir(lsst.afw.image)"
   ]
  },
  {
   "cell_type": "code",
   "execution_count": 9,
   "id": "b7cea198-6f3c-4a87-8877-fdf8e4d73c26",
   "metadata": {
    "execution": {
     "iopub.execute_input": "2024-03-06T15:49:46.137495Z",
     "iopub.status.busy": "2024-03-06T15:49:46.137374Z",
     "iopub.status.idle": "2024-03-06T15:49:46.141024Z",
     "shell.execute_reply": "2024-03-06T15:49:46.140741Z",
     "shell.execute_reply.started": "2024-03-06T15:49:46.137483Z"
    },
    "tags": []
   },
   "outputs": [],
   "source": [
    "transform = AsinhStretch() + PercentileInterval(99.)"
   ]
  },
  {
   "cell_type": "code",
   "execution_count": 10,
   "id": "c8b31810-780c-43f2-92a1-af05fddd65e1",
   "metadata": {
    "execution": {
     "iopub.execute_input": "2024-03-06T15:49:46.141560Z",
     "iopub.status.busy": "2024-03-06T15:49:46.141427Z",
     "iopub.status.idle": "2024-03-06T15:49:46.144661Z",
     "shell.execute_reply": "2024-03-06T15:49:46.144372Z",
     "shell.execute_reply.started": "2024-03-06T15:49:46.141545Z"
    }
   },
   "outputs": [],
   "source": [
    "pd.options.display.max_columns = None\n",
    "#pd.options.display.max_rows = None\n",
    "\n"
   ]
  },
  {
   "cell_type": "markdown",
   "id": "17f98db2-2ea8-4546-87a9-f2cd11d67ec7",
   "metadata": {},
   "source": [
    "## Configuration"
   ]
  },
  {
   "cell_type": "code",
   "execution_count": 11,
   "id": "f6c1ac18-5e47-4ae9-93ec-32f4337aa520",
   "metadata": {
    "execution": {
     "iopub.execute_input": "2024-03-06T15:49:46.145202Z",
     "iopub.status.busy": "2024-03-06T15:49:46.145060Z",
     "iopub.status.idle": "2024-03-06T15:49:46.148967Z",
     "shell.execute_reply": "2024-03-06T15:49:46.148687Z",
     "shell.execute_reply.started": "2024-03-06T15:49:46.145191Z"
    }
   },
   "outputs": [],
   "source": [
    "DATE = 202402\n",
    "#filesource_out=\"finalized_src_table_202402.csv\"\n",
    "#filetractpatch_out = 'Latiss_tractspatchs_202312.pickle'"
   ]
  },
  {
   "cell_type": "code",
   "execution_count": 12,
   "id": "1c81d99a-5e91-4ba1-ba4a-c66b37905b98",
   "metadata": {
    "execution": {
     "iopub.execute_input": "2024-03-06T15:49:46.149474Z",
     "iopub.status.busy": "2024-03-06T15:49:46.149356Z",
     "iopub.status.idle": "2024-03-06T15:49:46.640238Z",
     "shell.execute_reply": "2024-03-06T15:49:46.639873Z",
     "shell.execute_reply.started": "2024-03-06T15:49:46.149463Z"
    },
    "tags": []
   },
   "outputs": [],
   "source": [
    "#repo =  \"/sdf/group/rubin/repo/main\"\n",
    "repo = \"/sdf/group/rubin/repo/oga/\"\n",
    "butler = dafButler.Butler(repo)\n",
    "registry = butler.registry"
   ]
  },
  {
   "cell_type": "code",
   "execution_count": 13,
   "id": "0fffaeef-599c-4469-8c04-67252827cb8d",
   "metadata": {
    "execution": {
     "iopub.execute_input": "2024-03-06T15:49:46.640869Z",
     "iopub.status.busy": "2024-03-06T15:49:46.640735Z",
     "iopub.status.idle": "2024-03-06T15:49:46.642706Z",
     "shell.execute_reply": "2024-03-06T15:49:46.642409Z",
     "shell.execute_reply.started": "2024-03-06T15:49:46.640857Z"
    }
   },
   "outputs": [],
   "source": [
    "#file_out=\"sourceTable_202312.csv\""
   ]
  },
  {
   "cell_type": "markdown",
   "id": "20dbb8da-3a08-4b4f-9437-4bf7f28c1782",
   "metadata": {},
   "source": [
    "## Give the collection"
   ]
  },
  {
   "cell_type": "code",
   "execution_count": 14,
   "id": "9629ea29-8ab4-4062-aed1-e16d62dc90c4",
   "metadata": {
    "execution": {
     "iopub.execute_input": "2024-03-06T15:49:46.643338Z",
     "iopub.status.busy": "2024-03-06T15:49:46.643118Z",
     "iopub.status.idle": "2024-03-06T15:49:46.653997Z",
     "shell.execute_reply": "2024-03-06T15:49:46.653710Z",
     "shell.execute_reply.started": "2024-03-06T15:49:46.643326Z"
    },
    "tags": []
   },
   "outputs": [],
   "source": [
    "#my_collection = \"LATISS/runs/AUXTEL_DRP_IMAGING_2023-11A-10A-09AB-08ABC-07AB-05AB/w_2023_46/PREOPS-4553\"\n",
    "my_collection = \"LATISS/runs/AUXTEL_DRP_IMAGING_20230509_20240201/w_2024_05/PREOPS-4871\""
   ]
  },
  {
   "cell_type": "code",
   "execution_count": 15,
   "id": "c596e926-b9e6-4ecf-b11c-e1b1904d1db0",
   "metadata": {
    "execution": {
     "iopub.execute_input": "2024-03-06T15:49:46.654554Z",
     "iopub.status.busy": "2024-03-06T15:49:46.654436Z",
     "iopub.status.idle": "2024-03-06T15:49:46.657581Z",
     "shell.execute_reply": "2024-03-06T15:49:46.657284Z",
     "shell.execute_reply.started": "2024-03-06T15:49:46.654543Z"
    }
   },
   "outputs": [],
   "source": [
    "date_work = 202403"
   ]
  },
  {
   "cell_type": "markdown",
   "id": "a7587b10-c178-4537-9c34-60867b69fa01",
   "metadata": {},
   "source": [
    "## Config"
   ]
  },
  {
   "cell_type": "markdown",
   "id": "a72c2c07-ff40-49d9-a36d-5277cbbc5cec",
   "metadata": {},
   "source": [
    "# Sources"
   ]
  },
  {
   "cell_type": "code",
   "execution_count": 20,
   "id": "c2bca87f-8b3a-44ee-afa5-5b8e0b8f9b9d",
   "metadata": {
    "execution": {
     "iopub.execute_input": "2024-03-06T15:50:29.249498Z",
     "iopub.status.busy": "2024-03-06T15:50:29.249221Z",
     "iopub.status.idle": "2024-03-06T15:50:29.322685Z",
     "shell.execute_reply": "2024-03-06T15:50:29.322137Z",
     "shell.execute_reply.started": "2024-03-06T15:50:29.249484Z"
    },
    "tags": []
   },
   "outputs": [],
   "source": [
    "# src : a Source catalog\n",
    "# srcMatchFull\n",
    "# finalized_src_table : sape of a pandas dataframe\n",
    "\n",
    "#'isolated_star_cat', {instrument, skymap, tract}, DataFrame),\n",
    "#'isolated_star_sources', {instrument, skymap, tract}, DataFrame),\n",
    "#'isolated_star_sources_atlas_refcat2_20220201_match', {skymap, tract}, DataFrame),\n",
    "\n",
    "data_product = \"fgcmVisitCatalog\" # OK\n",
    "data_product = \"transmission_atmosphere_fgcm\" # write a fits file\n",
    "data_product = \"fgcm_standard_passband\"  # does not exist\n",
    "data_product = \"fgcmFitParameters0\" # BaseCatalog\n",
    "data_product = \"fgcm_standard_atmosphere\" # does not exists\n",
    "data_product = \"fgcmMakeLut_config\" # does not ecists\n",
    "data_product = \"fgcmLookUpTable\" # OK, but many Nan\n",
    "data_product = \"transmission_atmosphere_fgcm\" # not interesting\n",
    "data_product = 'fgcmFitParameters6'\n",
    "\n",
    "\n",
    "# DatasetType('fgcmMakeLut_metadata', {instrument}, TaskMetadata),\n",
    "# DatasetType('fgcmMakeLut_log', {instrument}, ButlerLogRecords),\n",
    "# DatasetType('fgcmBuildFromIsolatedStars_config', {}, Config),\n",
    "# DatasetType('fgcm_star_ids', {instrument}, ArrowAstropy),\n",
    "# DatasetType('fgcm_reference_stars', {instrument}, ArrowAstropy),\n",
    "# DatasetType('fgcmVisitCatalog', {instrument}, Catalog),\n",
    "# DatasetType('fgcm_star_observations', {instrument}, ArrowAstropy),\n",
    "# DatasetType('fgcmBuildFromIsolatedStars_metadata', {instrument}, TaskMetadata),\n",
    "# DatasetType('fgcmBuildFromIsolatedStars_log', {instrument}, ButlerLogRecords),\n",
    "# DatasetType('fgcmFitCycle_config', {}, Config),\n",
    "# DatasetType('fgcmFlaggedStars0', {instrument}, Catalog),\n",
    "# DatasetType('fgcmAtmosphereParameters4', {instrument}, Catalog),\n",
    "# DatasetType('fgcmFitParameters4', {instrument}, Catalog),\n",
    "# DatasetType('fgcmZeropoints4', {instrument}, Catalog),\n",
    "# DatasetType('fgcmFlaggedStars1', {instrument}, Catalog),\n",
    "# DatasetType('fgcmFlaggedStars2', {instrument}, Catalog),\n",
    "# DatasetType('fgcmStandardStars4', {instrument}, SimpleCatalog),\n",
    "# DatasetType('fgcmFitParameters3', {instrument}, Catalog),\n",
    "# DatasetType('fgcmFitParameters1', {instrument}, Catalog),\n",
    "# DatasetType('fgcmFlaggedStars4', {instrument}, Catalog),\n",
    "# DatasetType('fgcmFitParameters2', {instrument}, Catalog),\n",
    "# DatasetType('fgcmFlaggedStars3', {instrument}, Catalog),\n",
    "# DatasetType('fgcmFitCycle_metadata', {instrument}, TaskMetadata),\n",
    "# DatasetType('fgcmFitCycle_log', {instrument}, ButlerLogRecords),\n",
    "# DatasetType('fgcmStandardStars6', {instrument}, SimpleCatalog),\n",
    "# DatasetType('fgcmZeropoints6', {instrument}, Catalog),\n",
    "# DatasetType('fgcmFitParameters5', {instrument}, Catalog),\n",
    "# DatasetType('fgcmAtmosphereParameters6', {instrument}, Catalog),\n",
    "# DatasetType('fgcmFlaggedStars6', {instrument}, Catalog),\n",
    "# DatasetType('fgcmFitParameters6', {instrument}, Catalog),\n",
    "# DatasetType('fgcmFlaggedStars5', {instrument}, Catalog),\n",
    "# DatasetType('fgcmFlaggedStars8', {instrument}, Catalog),\n",
    "# DatasetType('fgcmFlaggedStars7', {instrument}, Catalog),\n",
    "# DatasetType('fgcmFitParameters8', {instrument}, Catalog),\n",
    "# DatasetType('fgcmFitParameters9', {instrument}, Catalog),\n",
    "# DatasetType('fgcmFitParameters7', {instrument}, Catalog),\n",
    "# DatasetType('fgcmFlaggedStars9', {instrument}, Catalog),\n",
    "# DatasetType('fgcmOutputProducts_metadata', {instrument}, TaskMetadata),\n",
    "# DatasetType('transmission_atmosphere_fgcm', {band, instrument, physical_filter, visit}, TransmissionCurve),\n",
    "# DatasetType('fgcmPhotoCalibCatalog', {band, instrument, physical_filter, visit}, ExposureCatalog),\n",
    "# DatasetType('fgcmOutputProducts_log', {instrument}, ButlerLogRecords),\n",
    "# DatasetType('fgcmOutputProducts_config', {}, Config)]\n",
    "\n",
    "\n",
    "datasetRefs = butler.registry.queryDatasets(datasetType=data_product, collections=my_collection, where= \"instrument='LATISS'\")\n",
    "filesource_out=f\"{data_product}_{DATE}.csv\""
   ]
  },
  {
   "cell_type": "code",
   "execution_count": 21,
   "id": "a01bb1b1-a2fe-4060-85ff-fb9e9c5dbb74",
   "metadata": {
    "execution": {
     "iopub.execute_input": "2024-03-06T15:50:31.459672Z",
     "iopub.status.busy": "2024-03-06T15:50:31.459297Z",
     "iopub.status.idle": "2024-03-06T15:50:31.893237Z",
     "shell.execute_reply": "2024-03-06T15:50:31.892802Z",
     "shell.execute_reply.started": "2024-03-06T15:50:31.459624Z"
    },
    "tags": []
   },
   "outputs": [
    {
     "name": "stdout",
     "output_type": "stream",
     "text": [
      "========================datasetType = fgcmFitParameters6 ============================================\n",
      "fullId.............................: {instrument: 'LATISS'}\n"
     ]
    },
    {
     "name": "stderr",
     "output_type": "stream",
     "text": [
      "/tmp/ipykernel_75036/2725728736.py:5: FutureWarning: Call to deprecated function (or staticmethod) full. (DataCoordinate.full is deprecated in favor of .mapping, and will be dropped after v27.) -- Deprecated since version v27.\n",
      "  print(\"fullId.............................:\",ref.dataId.full)\n"
     ]
    },
    {
     "name": "stdout",
     "output_type": "stream",
     "text": [
      "<class 'lsst.afw.table.BaseCatalog'> \n",
      " Schema(\n",
      "    (Field['I'](name=\"nCcd\", doc=\"Number of CCDs\"), Key<I>(offset=0, nElements=1)),\n",
      "    (Field['String'](name=\"lutFilterNames\", doc=\"LUT Filter names in parameter file\", size=118), Key<String>(offset=4, nElements=118)),\n",
      "    (Field['String'](name=\"fitBands\", doc=\"Bands that were fit\", size=9), Key<String>(offset=122, nElements=9)),\n",
      "    (Field['D'](name=\"lnTauUnit\", doc=\"Step units for ln(AOD)\"), Key<D>(offset=136, nElements=1)),\n",
      "    (Field['D'](name=\"lnTauSlopeUnit\", doc=\"Step units for ln(AOD) slope\"), Key<D>(offset=144, nElements=1)),\n",
      "    (Field['D'](name=\"alphaUnit\", doc=\"Step units for alpha\"), Key<D>(offset=152, nElements=1)),\n",
      "    (Field['D'](name=\"lnPwvUnit\", doc=\"Step units for ln(pwv)\"), Key<D>(offset=160, nElements=1)),\n",
      "    (Field['D'](name=\"lnPwvSlopeUnit\", doc=\"Step units for ln(pwv) slope\"), Key<D>(offset=168, nElements=1)),\n",
      "    (Field['D'](name=\"lnPwvQuadraticUnit\", doc=\"Step units for ln(pwv) quadratic term\"), Key<D>(offset=176, nElements=1)),\n",
      "    (Field['D'](name=\"lnPwvGlobalUnit\", doc=\"Step units for global ln(pwv) parameters\"), Key<D>(offset=184, nElements=1)),\n",
      "    (Field['D'](name=\"o3Unit\", doc=\"Step units for O3\"), Key<D>(offset=192, nElements=1)),\n",
      "    (Field['D'](name=\"qeSysUnit\", doc=\"Step units for mirror gray\"), Key<D>(offset=200, nElements=1)),\n",
      "    (Field['D'](name=\"filterOffsetUnit\", doc=\"Step units for filter offset\"), Key<D>(offset=208, nElements=1)),\n",
      "    (Field['I'](name=\"hasExternalPwv\", doc=\"Parameters fit using external pwv\"), Key<I>(offset=216, nElements=1)),\n",
      "    (Field['I'](name=\"hasExternalTau\", doc=\"Parameters fit using external tau\"), Key<I>(offset=220, nElements=1)),\n",
      "    (Field['ArrayD'](name=\"parAlpha\", doc=\"Alpha parameter vector\", size=46), Key<ArrayD>(offset=224, nElements=46)),\n",
      "    (Field['ArrayD'](name=\"parO3\", doc=\"O3 parameter vector\", size=46), Key<ArrayD>(offset=592, nElements=46)),\n",
      "    (Field['ArrayD'](name=\"parLnTauIntercept\", doc=\"ln(Tau) intercept parameter vector\", size=46), Key<ArrayD>(offset=960, nElements=46)),\n",
      "    (Field['ArrayD'](name=\"parLnTauSlope\", doc=\"ln(Tau) slope parameter vector\", size=46), Key<ArrayD>(offset=1328, nElements=46)),\n",
      "    (Field['ArrayD'](name=\"parLnPwvIntercept\", doc=\"ln(pwv) intercept parameter vector\", size=46), Key<ArrayD>(offset=1696, nElements=46)),\n",
      "    (Field['ArrayD'](name=\"parLnPwvSlope\", doc=\"ln(pwv) slope parameter vector\", size=46), Key<ArrayD>(offset=2064, nElements=46)),\n",
      "    (Field['ArrayD'](name=\"parLnPwvQuadratic\", doc=\"ln(pwv) quadratic parameter vector\", size=46), Key<ArrayD>(offset=2432, nElements=46)),\n",
      "    (Field['ArrayD'](name=\"parQeSysIntercept\", doc=\"Mirror gray intercept parameter vector\", size=5), Key<ArrayD>(offset=2800, nElements=5)),\n",
      "    (Field['ArrayD'](name=\"compQeSysSlope\", doc=\"Mirror gray slope parameter vector\", size=5), Key<ArrayD>(offset=2840, nElements=5)),\n",
      "    (Field['ArrayD'](name=\"parFilterOffset\", doc=\"Filter offset parameter vector\", size=7), Key<ArrayD>(offset=2880, nElements=7)),\n",
      "    (Field['ArrayI'](name=\"parFilterOffsetFitFlag\", doc=\"Filter offset parameter fit flag\", size=7), Key<ArrayI>(offset=2936, nElements=7)),\n",
      "    (Field['D'](name=\"parRetrievedLnPwvScale\", doc=\"Global scale for retrieved ln(pwv)\"), Key<D>(offset=2968, nElements=1)),\n",
      "    (Field['D'](name=\"parRetrievedLnPwvOffset\", doc=\"Global offset for retrieved ln(pwv)\"), Key<D>(offset=2976, nElements=1)),\n",
      "    (Field['ArrayD'](name=\"parRetrievedLnPwvNightlyOffset\", doc=\"Nightly offset for retrieved ln(pwv)\", size=46), Key<ArrayD>(offset=2984, nElements=46)),\n",
      "    (Field['ArrayD'](name=\"compAbsThroughput\", doc=\"Absolute throughput (relative to transmission curves)\", size=5), Key<ArrayD>(offset=3352, nElements=5)),\n",
      "    (Field['ArrayD'](name=\"compRefOffset\", doc=\"Offset between reference stars and calibrated stars\", size=5), Key<ArrayD>(offset=3392, nElements=5)),\n",
      "    (Field['ArrayD'](name=\"compRefSigma\", doc=\"Width of reference star/calibrated star distribution\", size=5), Key<ArrayD>(offset=3432, nElements=5)),\n",
      "    (Field['ArrayD'](name=\"compMirrorChromaticity\", doc=\"Computed mirror chromaticity terms\", size=14), Key<ArrayD>(offset=3472, nElements=14)),\n",
      "    (Field['ArrayD'](name=\"mirrorChromaticityPivot\", doc=\"Mirror chromaticity pivot mjd\", size=1), Key<ArrayD>(offset=3584, nElements=1)),\n",
      "    (Field['ArrayD'](name=\"compCcdChromaticity\", doc=\"Computed CCD chromaticity terms\", size=7), Key<ArrayD>(offset=3592, nElements=7)),\n",
      "    (Field['ArrayD'](name=\"compMedianSedSlope\", doc=\"Computed median SED slope (per band)\", size=5), Key<ArrayD>(offset=3648, nElements=5)),\n",
      "    (Field['ArrayD'](name=\"compAperCorrPivot\", doc=\"Aperture correction pivot\", size=5), Key<ArrayD>(offset=3688, nElements=5)),\n",
      "    (Field['ArrayD'](name=\"compAperCorrSlope\", doc=\"Aperture correction slope\", size=5), Key<ArrayD>(offset=3728, nElements=5)),\n",
      "    (Field['ArrayD'](name=\"compAperCorrSlopeErr\", doc=\"Aperture correction slope error\", size=5), Key<ArrayD>(offset=3768, nElements=5)),\n",
      "    (Field['ArrayD'](name=\"compAperCorrRange\", doc=\"Aperture correction range\", size=10), Key<ArrayD>(offset=3808, nElements=10)),\n",
      "    (Field['ArrayD'](name=\"compModelErrExptimePivot\", doc=\"Model error exptime pivot\", size=5), Key<ArrayD>(offset=3888, nElements=5)),\n",
      "    (Field['ArrayD'](name=\"compModelErrFwhmPivot\", doc=\"Model error fwhm pivot\", size=5), Key<ArrayD>(offset=3928, nElements=5)),\n",
      "    (Field['ArrayD'](name=\"compModelErrSkyPivot\", doc=\"Model error sky pivot\", size=5), Key<ArrayD>(offset=3968, nElements=5)),\n",
      "    (Field['ArrayD'](name=\"compModelErrPars\", doc=\"Model error parameters\", size=35), Key<ArrayD>(offset=4008, nElements=35)),\n",
      "    (Field['ArrayD'](name=\"compExpGray\", doc=\"Computed exposure gray\", size=4041), Key<ArrayD>(offset=4288, nElements=4041)),\n",
      "    (Field['ArrayD'](name=\"compVarGray\", doc=\"Computed exposure variance\", size=4041), Key<ArrayD>(offset=36616, nElements=4041)),\n",
      "    (Field['ArrayD'](name=\"compExpDeltaMagBkg\", doc=\"Computed exposure offset due to background\", size=4041), Key<ArrayD>(offset=68944, nElements=4041)),\n",
      "    (Field['ArrayI'](name=\"compNGoodStarPerExp\", doc=\"Computed number of good stars per exposure\", size=4041), Key<ArrayI>(offset=101272, nElements=4041)),\n",
      "    (Field['ArrayD'](name=\"compExpRefOffset\", doc=\"Computed per-visit median offset between standard stars and ref stars.\", size=4041), Key<ArrayD>(offset=117440, nElements=4041)),\n",
      "    (Field['ArrayD'](name=\"compSigFgcm\", doc=\"Computed sigma_fgcm (intrinsic repeatability)\", size=5), Key<ArrayD>(offset=149768, nElements=5)),\n",
      "    (Field['ArrayD'](name=\"compSigmaCal\", doc=\"Computed sigma_cal (systematic error floor)\", size=5), Key<ArrayD>(offset=149808, nElements=5)),\n",
      "    (Field['ArrayD'](name=\"compRetrievedLnPwv\", doc=\"Retrieved ln(pwv) (smoothed)\", size=4041), Key<ArrayD>(offset=149848, nElements=4041)),\n",
      "    (Field['ArrayD'](name=\"compRetrievedLnPwvRaw\", doc=\"Retrieved ln(pwv) (raw)\", size=4041), Key<ArrayD>(offset=182176, nElements=4041)),\n",
      "    (Field['ArrayI'](name=\"compRetrievedLnPwvFlag\", doc=\"Retrieved ln(pwv) Flag\", size=4041), Key<ArrayI>(offset=214504, nElements=4041)),\n",
      "    (Field['ArrayD'](name=\"compRetrievedTauNight\", doc=\"Retrieved tau (per night)\", size=46), Key<ArrayD>(offset=230672, nElements=46)),\n",
      "    (Field['ArrayD'](name=\"compEpsilon\", doc=\"Computed epsilon background offset per visit (nJy/arcsec2)\", size=4041), Key<ArrayD>(offset=231040, nElements=4041)),\n",
      "    (Field['ArrayD'](name=\"compMedDeltaAper\", doc=\"Median delta mag aper per visit\", size=4041), Key<ArrayD>(offset=263368, nElements=4041)),\n",
      "    (Field['ArrayD'](name=\"compGlobalEpsilon\", doc=\"Computed epsilon bkg offset (global) (nJy/arcsec2)\", size=5), Key<ArrayD>(offset=295696, nElements=5)),\n",
      "    (Field['ArrayD'](name=\"compEpsilonMap\", doc=\"Computed epsilon maps (nJy/arcsec2)\", size=245760), Key<ArrayD>(offset=295736, nElements=245760)),\n",
      "    (Field['ArrayI'](name=\"compEpsilonNStarMap\", doc=\"Number of stars per pixel in computed epsilon maps\", size=245760), Key<ArrayI>(offset=2261816, nElements=245760)),\n",
      "    (Field['ArrayD'](name=\"compEpsilonCcdMap\", doc=\"Computed epsilon ccd maps (nJy/arcsec2)\", size=28), Key<ArrayD>(offset=3244856, nElements=28)),\n",
      "    (Field['ArrayI'](name=\"compEpsilonCcdNStarMap\", doc=\"Number of stars per ccd bin in epsilon ccd maps\", size=28), Key<ArrayI>(offset=3245080, nElements=28)),\n",
      "    (Field['ArrayI'](name=\"superstarSize\", doc=\"Superstar matrix size\", size=4), Key<ArrayI>(offset=3245192, nElements=4)),\n",
      "    (Field['ArrayD'](name=\"superstar\", doc=\"Superstar matrix (flattened)\", size=63), Key<ArrayD>(offset=3245208, nElements=63)),\n",
      ")\n",
      "\n"
     ]
    }
   ],
   "source": [
    "all_df = []\n",
    "\n",
    "for i, ref in enumerate(datasetRefs):\n",
    "    print(f\"========================datasetType = {data_product} ============================================\")\n",
    "    print(\"fullId.............................:\",ref.dataId.full)\n",
    "    \n",
    "    data = butler.get(ref)\n",
    "\n",
    "    if isinstance(data, pd.DataFrame):\n",
    "        print(\"pandas dataframe\")\n",
    "        df = data\n",
    "    elif isinstance(data,Table):\n",
    "        t = data\n",
    "        df = t.to_pandas()\n",
    "    else:\n",
    "        df = []\n",
    "        print(type(data),\"\\n\", data.getSchema())\n",
    "        data.writeFits(f\"{data_product}_{date_work}.fits\",\"w\")\n",
    "        if isinstance(data,BaseCatalog):\n",
    "            t= data.asAstropy()\n",
    "           "
   ]
  },
  {
   "cell_type": "code",
   "execution_count": 23,
   "id": "e917dd11-31e4-41af-9f9b-f6ca493f5e55",
   "metadata": {
    "execution": {
     "iopub.execute_input": "2024-03-06T15:52:19.682175Z",
     "iopub.status.busy": "2024-03-06T15:52:19.681957Z",
     "iopub.status.idle": "2024-03-06T15:52:19.685053Z",
     "shell.execute_reply": "2024-03-06T15:52:19.684747Z",
     "shell.execute_reply.started": "2024-03-06T15:52:19.682156Z"
    }
   },
   "outputs": [
    {
     "data": {
      "text/plain": [
       "<lsst.daf.base.PropertyList at 0x7fb9c0282830>"
      ]
     },
     "execution_count": 23,
     "metadata": {},
     "output_type": "execute_result"
    }
   ],
   "source": [
    "data.getMetadata()"
   ]
  },
  {
   "cell_type": "code",
   "execution_count": null,
   "id": "b5d710e1-5313-443a-b56e-c83e80061d0f",
   "metadata": {
    "execution": {
     "iopub.status.busy": "2024-03-06T15:49:46.907091Z",
     "iopub.status.idle": "2024-03-06T15:49:46.907286Z",
     "shell.execute_reply": "2024-03-06T15:49:46.907210Z",
     "shell.execute_reply.started": "2024-03-06T15:49:46.907202Z"
    }
   },
   "outputs": [],
   "source": [
    "data.asAstropy()"
   ]
  },
  {
   "cell_type": "code",
   "execution_count": null,
   "id": "05966663-f2e0-42f0-9244-99c169d2e0bf",
   "metadata": {
    "execution": {
     "iopub.status.busy": "2024-03-06T15:49:46.907783Z",
     "iopub.status.idle": "2024-03-06T15:49:46.908013Z",
     "shell.execute_reply": "2024-03-06T15:49:46.907940Z",
     "shell.execute_reply.started": "2024-03-06T15:49:46.907933Z"
    }
   },
   "outputs": [],
   "source": [
    "t.to_pandas()"
   ]
  },
  {
   "cell_type": "code",
   "execution_count": null,
   "id": "7d0be723-3b5a-413f-8200-33baf689f527",
   "metadata": {
    "execution": {
     "iopub.status.busy": "2024-03-06T15:49:46.908437Z",
     "iopub.status.idle": "2024-03-06T15:49:46.908597Z",
     "shell.execute_reply": "2024-03-06T15:49:46.908522Z",
     "shell.execute_reply.started": "2024-03-06T15:49:46.908512Z"
    }
   },
   "outputs": [],
   "source": [
    "t.to_pandas()"
   ]
  },
  {
   "cell_type": "code",
   "execution_count": null,
   "id": "abac8398-3404-4bb9-85dc-766f9825e7d1",
   "metadata": {
    "execution": {
     "iopub.status.busy": "2024-03-06T15:49:46.909104Z",
     "iopub.status.idle": "2024-03-06T15:49:46.909313Z",
     "shell.execute_reply": "2024-03-06T15:49:46.909241Z",
     "shell.execute_reply.started": "2024-03-06T15:49:46.909233Z"
    }
   },
   "outputs": [],
   "source": [
    "df = pd.concat(all_df)"
   ]
  },
  {
   "cell_type": "code",
   "execution_count": null,
   "id": "21444ba7-f2d3-48ab-a984-dc82f9c30d4e",
   "metadata": {
    "execution": {
     "iopub.status.busy": "2024-03-06T15:49:46.909836Z",
     "iopub.status.idle": "2024-03-06T15:49:46.909984Z",
     "shell.execute_reply": "2024-03-06T15:49:46.909916Z",
     "shell.execute_reply.started": "2024-03-06T15:49:46.909909Z"
    }
   },
   "outputs": [],
   "source": [
    "df"
   ]
  },
  {
   "cell_type": "code",
   "execution_count": null,
   "id": "a4afe23a-71ae-4c4e-abd7-591bc9d939c8",
   "metadata": {
    "execution": {
     "iopub.status.busy": "2024-03-06T15:49:46.910445Z",
     "iopub.status.idle": "2024-03-06T15:49:46.910593Z",
     "shell.execute_reply": "2024-03-06T15:49:46.910524Z",
     "shell.execute_reply.started": "2024-03-06T15:49:46.910517Z"
    },
    "tags": []
   },
   "outputs": [],
   "source": [
    "df.to_csv(filesource_out)"
   ]
  },
  {
   "cell_type": "code",
   "execution_count": null,
   "id": "dbf845eb-7c07-4344-a440-f7af1bffd08a",
   "metadata": {
    "execution": {
     "iopub.status.busy": "2024-03-06T15:49:46.911177Z",
     "iopub.status.idle": "2024-03-06T15:49:46.911386Z",
     "shell.execute_reply": "2024-03-06T15:49:46.911314Z",
     "shell.execute_reply.started": "2024-03-06T15:49:46.911307Z"
    },
    "tags": []
   },
   "outputs": [],
   "source": [
    "print(df.columns.tolist())"
   ]
  },
  {
   "cell_type": "code",
   "execution_count": null,
   "id": "e211cb27-8fce-4f75-b5f8-2cc966675158",
   "metadata": {
    "execution": {
     "iopub.status.busy": "2024-03-06T15:49:46.911762Z",
     "iopub.status.idle": "2024-03-06T15:49:46.911929Z",
     "shell.execute_reply": "2024-03-06T15:49:46.911854Z",
     "shell.execute_reply.started": "2024-03-06T15:49:46.911847Z"
    }
   },
   "outputs": [],
   "source": [
    "df['tract'].unique()"
   ]
  },
  {
   "cell_type": "code",
   "execution_count": null,
   "id": "3fc22a66-a90d-4371-b073-1f1c34c806f7",
   "metadata": {},
   "outputs": [],
   "source": []
  }
 ],
 "metadata": {
  "kernelspec": {
   "display_name": "LSST",
   "language": "python",
   "name": "lsst"
  },
  "language_info": {
   "codemirror_mode": {
    "name": "ipython",
    "version": 3
   },
   "file_extension": ".py",
   "mimetype": "text/x-python",
   "name": "python",
   "nbconvert_exporter": "python",
   "pygments_lexer": "ipython3",
   "version": "3.11.7"
  }
 },
 "nbformat": 4,
 "nbformat_minor": 5
}
