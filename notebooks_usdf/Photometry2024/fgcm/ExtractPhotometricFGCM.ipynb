{
 "cells": [
  {
   "cell_type": "markdown",
   "id": "0b8c2138-5194-4d03-8b77-be24e2cc8ee3",
   "metadata": {},
   "source": [
    "# Extract sources from catalogs  in  OGA"
   ]
  },
  {
   "cell_type": "markdown",
   "id": "740e34fb-3fef-45a8-941b-c229742ab016",
   "metadata": {},
   "source": [
    " work with Weakly_2024_07\n",
    "- use jupyter kernel LSST\n",
    "- author : Sylvie Dagoret-Campagne\n",
    "- affiliation : IJCLab\n",
    "- creation date : 2024/02/18\n",
    "- update : 2024/02/24\n",
    "\n",
    "\n",
    "         DatasetType('isolated_star_cat', {instrument, skymap, tract}, DataFrame),\n",
    "         DatasetType('isolated_star_sources', {instrument, skymap, tract}, DataFrame),\n",
    "         DatasetType('isolated_star_sources_atlas_refcat2_20220201_match', {skymap, tract}, DataFrame),\n"
   ]
  },
  {
   "cell_type": "code",
   "execution_count": 1,
   "id": "ed2c3410-fe83-432e-ab87-9f4513fa8d8b",
   "metadata": {
    "execution": {
     "iopub.execute_input": "2024-02-25T14:53:52.927349Z",
     "iopub.status.busy": "2024-02-25T14:53:52.927224Z",
     "iopub.status.idle": "2024-02-25T14:53:53.283105Z",
     "shell.execute_reply": "2024-02-25T14:53:53.282578Z",
     "shell.execute_reply.started": "2024-02-25T14:53:52.927336Z"
    }
   },
   "outputs": [
    {
     "name": "stdout",
     "output_type": "stream",
     "text": [
      "analysis_tools        LOCAL:/home/d/dagoret/repos/repos_w_2024_07/analysis_tools \tsetup\n",
      "atmospec              LOCAL:/home/d/dagoret/repos/repos_w_2024_07/atmospec \tsetup\n",
      "eups                  LOCAL:/opt/lsst/software/stack/conda/miniconda3-py38_4.9.2/envs/lsst-scipipe-8.0.0/eups \tsetup\n",
      "spectractor           LOCAL:/home/d/dagoret/repos/repos_w_2024_07/Spectractor \tsetup\n"
     ]
    }
   ],
   "source": [
    "! eups list -s | grep LOCAL"
   ]
  },
  {
   "cell_type": "code",
   "execution_count": 2,
   "id": "70918d81-0cf6-4b0a-8f61-f5e5bec5b0e7",
   "metadata": {
    "execution": {
     "iopub.execute_input": "2024-02-25T14:53:53.284041Z",
     "iopub.status.busy": "2024-02-25T14:53:53.283871Z",
     "iopub.status.idle": "2024-02-25T14:53:53.626983Z",
     "shell.execute_reply": "2024-02-25T14:53:53.626396Z",
     "shell.execute_reply.started": "2024-02-25T14:53:53.284026Z"
    }
   },
   "outputs": [
    {
     "name": "stdout",
     "output_type": "stream",
     "text": [
      "   g4213664e8e+34187316c4 \tcurrent w_2024_07 setup\n"
     ]
    }
   ],
   "source": [
    "! eups list -s lsst_distrib"
   ]
  },
  {
   "cell_type": "code",
   "execution_count": 3,
   "id": "f8d9cfca-5881-48c1-b2cb-0f794a2e4091",
   "metadata": {
    "execution": {
     "iopub.execute_input": "2024-02-25T14:53:53.627984Z",
     "iopub.status.busy": "2024-02-25T14:53:53.627785Z",
     "iopub.status.idle": "2024-02-25T14:53:54.253090Z",
     "shell.execute_reply": "2024-02-25T14:53:54.252637Z",
     "shell.execute_reply.started": "2024-02-25T14:53:53.627967Z"
    },
    "tags": []
   },
   "outputs": [],
   "source": [
    "import lsst.daf.butler as dafButler\n",
    "#import lsst.summit.utils.butlerUtils as butlerUtils"
   ]
  },
  {
   "cell_type": "code",
   "execution_count": 4,
   "id": "1ceacda9-20b0-4d77-a0d2-572c957ce273",
   "metadata": {
    "execution": {
     "iopub.execute_input": "2024-02-25T14:53:54.254666Z",
     "iopub.status.busy": "2024-02-25T14:53:54.254517Z",
     "iopub.status.idle": "2024-02-25T14:53:54.786188Z",
     "shell.execute_reply": "2024-02-25T14:53:54.785763Z",
     "shell.execute_reply.started": "2024-02-25T14:53:54.254646Z"
    },
    "tags": []
   },
   "outputs": [],
   "source": [
    "import numpy as np\n",
    "import matplotlib.pyplot as plt\n",
    "%matplotlib inline\n",
    "from mpl_toolkits.axes_grid1 import make_axes_locatable\n",
    "from matplotlib.colors import LogNorm,SymLogNorm\n",
    "\n",
    "\n",
    "import matplotlib.ticker                         # here's where the formatter is\n",
    "from matplotlib.ticker import (MultipleLocator, FormatStrFormatter,\n",
    "                               AutoMinorLocator)\n",
    "\n",
    "from astropy.visualization import (MinMaxInterval, SqrtStretch,ZScaleInterval,PercentileInterval,\n",
    "                                   ImageNormalize,imshow_norm)\n",
    "from astropy.visualization.stretch import SinhStretch, LinearStretch,AsinhStretch,LogStretch\n",
    "\n",
    "from astropy.io import fits\n",
    "from astropy.table import Table\n",
    "import pandas as pd\n",
    "\n",
    "import matplotlib.ticker                         # here's where the formatter is\n",
    "import os\n",
    "import re\n",
    "import pandas as pd\n",
    "\n",
    "plt.rcParams[\"figure.figsize\"] = (4,3)\n",
    "plt.rcParams[\"axes.labelsize\"] = 'xx-large'\n",
    "plt.rcParams['axes.titlesize'] = 'xx-large'\n",
    "plt.rcParams['xtick.labelsize']= 'xx-large'\n",
    "plt.rcParams['ytick.labelsize']= 'xx-large'"
   ]
  },
  {
   "cell_type": "code",
   "execution_count": 5,
   "id": "34c92544-f2fd-4287-b852-e2ccb9a3b510",
   "metadata": {
    "execution": {
     "iopub.execute_input": "2024-02-25T14:53:54.787030Z",
     "iopub.status.busy": "2024-02-25T14:53:54.786732Z",
     "iopub.status.idle": "2024-02-25T14:53:54.789724Z",
     "shell.execute_reply": "2024-02-25T14:53:54.789328Z",
     "shell.execute_reply.started": "2024-02-25T14:53:54.787016Z"
    },
    "tags": []
   },
   "outputs": [],
   "source": [
    "from matplotlib.ticker import (MultipleLocator, FormatStrFormatter,\n",
    "                               AutoMinorLocator)\n",
    "\n",
    "from astropy.visualization import (MinMaxInterval, SqrtStretch,ZScaleInterval,PercentileInterval,\n",
    "                                   ImageNormalize,imshow_norm)\n",
    "from astropy.visualization.stretch import SinhStretch, LinearStretch,AsinhStretch,LogStretch\n",
    "\n",
    "from astropy.time import Time\n"
   ]
  },
  {
   "cell_type": "code",
   "execution_count": 6,
   "id": "77aa5733-0a46-49eb-b26e-d3bb6195cc3d",
   "metadata": {
    "execution": {
     "iopub.execute_input": "2024-02-25T14:53:54.790313Z",
     "iopub.status.busy": "2024-02-25T14:53:54.790192Z",
     "iopub.status.idle": "2024-02-25T14:53:55.069034Z",
     "shell.execute_reply": "2024-02-25T14:53:55.068607Z",
     "shell.execute_reply.started": "2024-02-25T14:53:54.790302Z"
    },
    "tags": []
   },
   "outputs": [],
   "source": [
    "# LSST Display\n",
    "import lsst.afw.display as afwDisplay\n",
    "afwDisplay.setDefaultBackend('matplotlib')"
   ]
  },
  {
   "cell_type": "code",
   "execution_count": 7,
   "id": "b7cea198-6f3c-4a87-8877-fdf8e4d73c26",
   "metadata": {
    "execution": {
     "iopub.execute_input": "2024-02-25T14:53:55.069926Z",
     "iopub.status.busy": "2024-02-25T14:53:55.069607Z",
     "iopub.status.idle": "2024-02-25T14:53:55.072132Z",
     "shell.execute_reply": "2024-02-25T14:53:55.071780Z",
     "shell.execute_reply.started": "2024-02-25T14:53:55.069913Z"
    },
    "tags": []
   },
   "outputs": [],
   "source": [
    "transform = AsinhStretch() + PercentileInterval(99.)"
   ]
  },
  {
   "cell_type": "code",
   "execution_count": 8,
   "id": "c8b31810-780c-43f2-92a1-af05fddd65e1",
   "metadata": {
    "execution": {
     "iopub.execute_input": "2024-02-25T14:53:55.072741Z",
     "iopub.status.busy": "2024-02-25T14:53:55.072606Z",
     "iopub.status.idle": "2024-02-25T14:53:55.076241Z",
     "shell.execute_reply": "2024-02-25T14:53:55.075882Z",
     "shell.execute_reply.started": "2024-02-25T14:53:55.072728Z"
    }
   },
   "outputs": [],
   "source": [
    "pd.options.display.max_columns = None\n",
    "#pd.options.display.max_rows = None\n",
    "\n"
   ]
  },
  {
   "cell_type": "markdown",
   "id": "17f98db2-2ea8-4546-87a9-f2cd11d67ec7",
   "metadata": {},
   "source": [
    "## Configuration"
   ]
  },
  {
   "cell_type": "code",
   "execution_count": 9,
   "id": "f6c1ac18-5e47-4ae9-93ec-32f4337aa520",
   "metadata": {
    "execution": {
     "iopub.execute_input": "2024-02-25T14:53:55.076841Z",
     "iopub.status.busy": "2024-02-25T14:53:55.076719Z",
     "iopub.status.idle": "2024-02-25T14:53:55.081066Z",
     "shell.execute_reply": "2024-02-25T14:53:55.080638Z",
     "shell.execute_reply.started": "2024-02-25T14:53:55.076830Z"
    }
   },
   "outputs": [],
   "source": [
    "DATE = 202402\n",
    "#filesource_out=\"finalized_src_table_202402.csv\"\n",
    "#filetractpatch_out = 'Latiss_tractspatchs_202312.pickle'"
   ]
  },
  {
   "cell_type": "code",
   "execution_count": 10,
   "id": "1c81d99a-5e91-4ba1-ba4a-c66b37905b98",
   "metadata": {
    "execution": {
     "iopub.execute_input": "2024-02-25T14:53:55.081684Z",
     "iopub.status.busy": "2024-02-25T14:53:55.081553Z",
     "iopub.status.idle": "2024-02-25T14:53:55.729569Z",
     "shell.execute_reply": "2024-02-25T14:53:55.729122Z",
     "shell.execute_reply.started": "2024-02-25T14:53:55.081673Z"
    },
    "tags": []
   },
   "outputs": [],
   "source": [
    "#repo =  \"/sdf/group/rubin/repo/main\"\n",
    "repo = \"/sdf/group/rubin/repo/oga/\"\n",
    "butler = dafButler.Butler(repo)\n",
    "registry = butler.registry"
   ]
  },
  {
   "cell_type": "code",
   "execution_count": 11,
   "id": "0fffaeef-599c-4469-8c04-67252827cb8d",
   "metadata": {
    "execution": {
     "iopub.execute_input": "2024-02-25T14:53:55.730337Z",
     "iopub.status.busy": "2024-02-25T14:53:55.730156Z",
     "iopub.status.idle": "2024-02-25T14:53:55.732407Z",
     "shell.execute_reply": "2024-02-25T14:53:55.731947Z",
     "shell.execute_reply.started": "2024-02-25T14:53:55.730324Z"
    }
   },
   "outputs": [],
   "source": [
    "#file_out=\"sourceTable_202312.csv\""
   ]
  },
  {
   "cell_type": "markdown",
   "id": "20dbb8da-3a08-4b4f-9437-4bf7f28c1782",
   "metadata": {},
   "source": [
    "## Give the collection"
   ]
  },
  {
   "cell_type": "code",
   "execution_count": 12,
   "id": "9629ea29-8ab4-4062-aed1-e16d62dc90c4",
   "metadata": {
    "execution": {
     "iopub.execute_input": "2024-02-25T14:53:55.733049Z",
     "iopub.status.busy": "2024-02-25T14:53:55.732919Z",
     "iopub.status.idle": "2024-02-25T14:53:55.736844Z",
     "shell.execute_reply": "2024-02-25T14:53:55.736467Z",
     "shell.execute_reply.started": "2024-02-25T14:53:55.733037Z"
    },
    "tags": []
   },
   "outputs": [],
   "source": [
    "#my_collection = \"LATISS/runs/AUXTEL_DRP_IMAGING_2023-11A-10A-09AB-08ABC-07AB-05AB/w_2023_46/PREOPS-4553\"\n",
    "my_collection = \"LATISS/runs/AUXTEL_DRP_IMAGING_20230509_20240201/w_2024_05/PREOPS-4871\""
   ]
  },
  {
   "cell_type": "markdown",
   "id": "a7587b10-c178-4537-9c34-60867b69fa01",
   "metadata": {},
   "source": [
    "## Config"
   ]
  },
  {
   "cell_type": "markdown",
   "id": "a72c2c07-ff40-49d9-a36d-5277cbbc5cec",
   "metadata": {},
   "source": [
    "# Sources"
   ]
  },
  {
   "cell_type": "code",
   "execution_count": 13,
   "id": "c2bca87f-8b3a-44ee-afa5-5b8e0b8f9b9d",
   "metadata": {
    "execution": {
     "iopub.execute_input": "2024-02-25T14:53:55.737492Z",
     "iopub.status.busy": "2024-02-25T14:53:55.737357Z",
     "iopub.status.idle": "2024-02-25T14:53:55.964042Z",
     "shell.execute_reply": "2024-02-25T14:53:55.963583Z",
     "shell.execute_reply.started": "2024-02-25T14:53:55.737480Z"
    },
    "tags": []
   },
   "outputs": [],
   "source": [
    "# src : a Source catalog\n",
    "# srcMatchFull\n",
    "# finalized_src_table : sape of a pandas dataframe\n",
    "\n",
    "#'isolated_star_cat', {instrument, skymap, tract}, DataFrame),\n",
    "#'isolated_star_sources', {instrument, skymap, tract}, DataFrame),\n",
    "#'isolated_star_sources_atlas_refcat2_20220201_match', {skymap, tract}, DataFrame),\n",
    "\n",
    "data_product = \"fgcmVisitCatalog\"\n",
    "\n",
    "#[DatasetType('fgcmFitParameters0', {instrument}, Catalog),\n",
    "# DatasetType('fgcmMakeLut_config', {}, Config),\n",
    "# DatasetType('fgcm_standard_passband', {band, instrument, physical_filter}, TransmissionCurve),\n",
    "# DatasetType('fgcm_standard_atmosphere', {instrument}, TransmissionCurve),\n",
    "# DatasetType('fgcmLookUpTable', {instrument}, Catalog),\n",
    "# DatasetType('fgcmMakeLut_metadata', {instrument}, TaskMetadata),\n",
    "# DatasetType('fgcmMakeLut_log', {instrument}, ButlerLogRecords),\n",
    "# DatasetType('fgcmBuildFromIsolatedStars_config', {}, Config),\n",
    "# DatasetType('fgcm_star_ids', {instrument}, ArrowAstropy),\n",
    "# DatasetType('fgcm_reference_stars', {instrument}, ArrowAstropy),\n",
    "# DatasetType('fgcmVisitCatalog', {instrument}, Catalog),\n",
    "# DatasetType('fgcm_star_observations', {instrument}, ArrowAstropy),\n",
    "# DatasetType('fgcmBuildFromIsolatedStars_metadata', {instrument}, TaskMetadata),\n",
    "# DatasetType('fgcmBuildFromIsolatedStars_log', {instrument}, ButlerLogRecords),\n",
    "# DatasetType('fgcmFitCycle_config', {}, Config),\n",
    "# DatasetType('fgcmFlaggedStars0', {instrument}, Catalog),\n",
    "# DatasetType('fgcmAtmosphereParameters4', {instrument}, Catalog),\n",
    "# DatasetType('fgcmFitParameters4', {instrument}, Catalog),\n",
    "# DatasetType('fgcmZeropoints4', {instrument}, Catalog),\n",
    "# DatasetType('fgcmFlaggedStars1', {instrument}, Catalog),\n",
    "# DatasetType('fgcmFlaggedStars2', {instrument}, Catalog),\n",
    "# DatasetType('fgcmStandardStars4', {instrument}, SimpleCatalog),\n",
    "# DatasetType('fgcmFitParameters3', {instrument}, Catalog),\n",
    "# DatasetType('fgcmFitParameters1', {instrument}, Catalog),\n",
    "# DatasetType('fgcmFlaggedStars4', {instrument}, Catalog),\n",
    "# DatasetType('fgcmFitParameters2', {instrument}, Catalog),\n",
    "# DatasetType('fgcmFlaggedStars3', {instrument}, Catalog),\n",
    "# DatasetType('fgcmFitCycle_metadata', {instrument}, TaskMetadata),\n",
    "# DatasetType('fgcmFitCycle_log', {instrument}, ButlerLogRecords),\n",
    "# DatasetType('fgcmStandardStars6', {instrument}, SimpleCatalog),\n",
    "# DatasetType('fgcmZeropoints6', {instrument}, Catalog),\n",
    "# DatasetType('fgcmFitParameters5', {instrument}, Catalog),\n",
    "# DatasetType('fgcmAtmosphereParameters6', {instrument}, Catalog),\n",
    "# DatasetType('fgcmFlaggedStars6', {instrument}, Catalog),\n",
    "# DatasetType('fgcmFitParameters6', {instrument}, Catalog),\n",
    "# DatasetType('fgcmFlaggedStars5', {instrument}, Catalog),\n",
    "# DatasetType('fgcmFlaggedStars8', {instrument}, Catalog),\n",
    "# DatasetType('fgcmFlaggedStars7', {instrument}, Catalog),\n",
    "# DatasetType('fgcmFitParameters8', {instrument}, Catalog),\n",
    "# DatasetType('fgcmFitParameters9', {instrument}, Catalog),\n",
    "# DatasetType('fgcmFitParameters7', {instrument}, Catalog),\n",
    "# DatasetType('fgcmFlaggedStars9', {instrument}, Catalog),\n",
    "# DatasetType('fgcmOutputProducts_metadata', {instrument}, TaskMetadata),\n",
    "# DatasetType('transmission_atmosphere_fgcm', {band, instrument, physical_filter, visit}, TransmissionCurve),\n",
    "# DatasetType('fgcmPhotoCalibCatalog', {band, instrument, physical_filter, visit}, ExposureCatalog),\n",
    "# DatasetType('fgcmOutputProducts_log', {instrument}, ButlerLogRecords),\n",
    "# DatasetType('fgcmOutputProducts_config', {}, Config)]\n",
    "\n",
    "\n",
    "datasetRefs = butler.registry.queryDatasets(datasetType=data_product, collections=my_collection, where= \"instrument='LATISS'\")\n",
    "filesource_out=f\"{data_product}_{DATE}.csv\""
   ]
  },
  {
   "cell_type": "code",
   "execution_count": 31,
   "id": "a01bb1b1-a2fe-4060-85ff-fb9e9c5dbb74",
   "metadata": {
    "execution": {
     "iopub.execute_input": "2024-02-25T15:01:12.676599Z",
     "iopub.status.busy": "2024-02-25T15:01:12.675995Z",
     "iopub.status.idle": "2024-02-25T15:01:12.700492Z",
     "shell.execute_reply": "2024-02-25T15:01:12.700054Z",
     "shell.execute_reply.started": "2024-02-25T15:01:12.676579Z"
    },
    "tags": []
   },
   "outputs": [
    {
     "name": "stdout",
     "output_type": "stream",
     "text": [
      "========================datasetType = fgcmVisitCatalog ============================================\n",
      "fullId.............................: {instrument: 'LATISS'}\n",
      "    visit      physicalFilter        telra        ... scaling used sources_read\n",
      "------------- ---------------- ------------------ ... ------- ---- ------------\n",
      "2023051100262 SDSSr_65mm~empty   239.941279369513 ...     1.0    1        False\n",
      "2023051100263 SDSSg_65mm~empty 239.94309908614096 ...     1.0    1        False\n",
      "2023051100264 SDSSi_65mm~empty 239.94091850747296 ...     1.0    1        False\n",
      "2023051100268 SDSSr_65mm~empty 239.96007906570497 ...     1.0    1        False\n",
      "2023051100269 SDSSg_65mm~empty   239.959844616716 ...     1.0    1        False\n",
      "2023051100270 SDSSi_65mm~empty 239.96385047378996 ...     1.0    1        False\n",
      "2023051100271 SDSSi_65mm~empty   239.973089638681 ...     1.0    1        False\n",
      "2023051100272 SDSSg_65mm~empty   239.976800668184 ...     1.0    1        False\n",
      "2023051100273 SDSSr_65mm~empty   239.983073906862 ...     1.0    1        False\n",
      "2023051100274 SDSSr_65mm~empty   239.986368419447 ...     1.0    1        False\n",
      "          ...              ...                ... ...     ...  ...          ...\n",
      "2024013000160 SDSSr_65mm~empty   122.558977947439 ...     1.0    1        False\n",
      "2024013000161 SDSSz_65mm~empty   122.558909754175 ...     1.0    1        False\n",
      "2024013000162 empty~SDSSy_65mm   122.558839560364 ...     1.0    1        False\n",
      "2024013000163 SDSSg_65mm~empty 122.43063913341999 ...     1.0    1        False\n",
      "2024013000164 SDSSr_65mm~empty 122.43057203246299 ...     1.0    1        False\n",
      "2024013000165 SDSSz_65mm~empty    122.43069610335 ...     1.0    1        False\n",
      "2024013000166 empty~SDSSy_65mm   122.430674685776 ...     1.0    1        False\n",
      "2024013000167 SDSSg_65mm~empty   122.522258417191 ...     1.0    1        False\n",
      "2024013000168 SDSSr_65mm~empty   122.522270434746 ...     1.0    1        False\n",
      "2024013000169 SDSSz_65mm~empty 122.52229088614999 ...     1.0    1        False\n",
      "2024013000170 empty~SDSSy_65mm   122.522254220039 ...     1.0    1        False\n",
      "Length = 4041 rows\n",
      "<class 'lsst.afw.table.BaseCatalog'> 4041\n"
     ]
    },
    {
     "name": "stderr",
     "output_type": "stream",
     "text": [
      "/tmp/ipykernel_22346/2411115195.py:5: FutureWarning: Call to deprecated function (or staticmethod) full. (DataCoordinate.full is deprecated in favor of .mapping, and will be dropped after v27.) -- Deprecated since version v27.\n",
      "  print(\"fullId.............................:\",ref.dataId.full)\n"
     ]
    }
   ],
   "source": [
    "all_df = []\n",
    "\n",
    "for i, ref in enumerate(datasetRefs):\n",
    "    print(f\"========================datasetType = {data_product} ============================================\")\n",
    "    print(\"fullId.............................:\",ref.dataId.full)\n",
    "    \n",
    "    data = butler.get(ref)\n",
    "    t = data.asAstropy()\n",
    "    print(t)\n",
    "   \n",
    "    if(len(df)>0):\n",
    "        print(type(df),len(df))\n",
    "      \n",
    "        all_df.append(df)\n",
    "    "
   ]
  },
  {
   "cell_type": "code",
   "execution_count": 29,
   "id": "05966663-f2e0-42f0-9244-99c169d2e0bf",
   "metadata": {
    "execution": {
     "iopub.execute_input": "2024-02-25T15:00:10.535232Z",
     "iopub.status.busy": "2024-02-25T15:00:10.534838Z",
     "iopub.status.idle": "2024-02-25T15:00:10.562914Z",
     "shell.execute_reply": "2024-02-25T15:00:10.562349Z",
     "shell.execute_reply.started": "2024-02-25T15:00:10.535214Z"
    }
   },
   "outputs": [
    {
     "ename": "ValueError",
     "evalue": "Cannot convert a table with multidimensional columns to a pandas DataFrame. Offending columns are: ['scaling']\nOne can filter out such columns using:\nnames = [name for name in tbl.colnames if len(tbl[name].shape) <= 1]\ntbl[names].to_pandas(...)",
     "output_type": "error",
     "traceback": [
      "\u001b[0;31m---------------------------------------------------------------------------\u001b[0m",
      "\u001b[0;31mValueError\u001b[0m                                Traceback (most recent call last)",
      "Cell \u001b[0;32mIn[29], line 1\u001b[0m\n\u001b[0;32m----> 1\u001b[0m \u001b[43mt\u001b[49m\u001b[38;5;241;43m.\u001b[39;49m\u001b[43mto_pandas\u001b[49m\u001b[43m(\u001b[49m\u001b[43m)\u001b[49m\n",
      "File \u001b[0;32m/opt/lsst/software/stack/conda/miniconda3-py38_4.9.2/envs/lsst-scipipe-8.0.0/lib/python3.11/site-packages/astropy/table/table.py:3984\u001b[0m, in \u001b[0;36mTable.to_pandas\u001b[0;34m(self, index, use_nullable_int)\u001b[0m\n\u001b[1;32m   3981\u001b[0m badcols \u001b[38;5;241m=\u001b[39m [name \u001b[38;5;28;01mfor\u001b[39;00m name, col \u001b[38;5;129;01min\u001b[39;00m \u001b[38;5;28mself\u001b[39m\u001b[38;5;241m.\u001b[39mcolumns\u001b[38;5;241m.\u001b[39mitems() \u001b[38;5;28;01mif\u001b[39;00m \u001b[38;5;28mlen\u001b[39m(col\u001b[38;5;241m.\u001b[39mshape) \u001b[38;5;241m>\u001b[39m \u001b[38;5;241m1\u001b[39m]\n\u001b[1;32m   3982\u001b[0m \u001b[38;5;28;01mif\u001b[39;00m badcols:\n\u001b[1;32m   3983\u001b[0m     \u001b[38;5;66;03m# fmt: off\u001b[39;00m\n\u001b[0;32m-> 3984\u001b[0m     \u001b[38;5;28;01mraise\u001b[39;00m \u001b[38;5;167;01mValueError\u001b[39;00m(\n\u001b[1;32m   3985\u001b[0m         \u001b[38;5;124mf\u001b[39m\u001b[38;5;124m'\u001b[39m\u001b[38;5;124mCannot convert a table with multidimensional columns to a \u001b[39m\u001b[38;5;124m'\u001b[39m\n\u001b[1;32m   3986\u001b[0m         \u001b[38;5;124mf\u001b[39m\u001b[38;5;124m'\u001b[39m\u001b[38;5;124mpandas DataFrame. Offending columns are: \u001b[39m\u001b[38;5;132;01m{\u001b[39;00mbadcols\u001b[38;5;132;01m}\u001b[39;00m\u001b[38;5;130;01m\\n\u001b[39;00m\u001b[38;5;124m'\u001b[39m\n\u001b[1;32m   3987\u001b[0m         \u001b[38;5;124mf\u001b[39m\u001b[38;5;124m'\u001b[39m\u001b[38;5;124mOne can filter out such columns using:\u001b[39m\u001b[38;5;130;01m\\n\u001b[39;00m\u001b[38;5;124m'\u001b[39m\n\u001b[1;32m   3988\u001b[0m         \u001b[38;5;124mf\u001b[39m\u001b[38;5;124m'\u001b[39m\u001b[38;5;124mnames = [name for name in tbl.colnames if len(tbl[name].shape) <= 1]\u001b[39m\u001b[38;5;130;01m\\n\u001b[39;00m\u001b[38;5;124m'\u001b[39m\n\u001b[1;32m   3989\u001b[0m         \u001b[38;5;124mf\u001b[39m\u001b[38;5;124m'\u001b[39m\u001b[38;5;124mtbl[names].to_pandas(...)\u001b[39m\u001b[38;5;124m'\u001b[39m\n\u001b[1;32m   3990\u001b[0m     )\n\u001b[1;32m   3991\u001b[0m     \u001b[38;5;66;03m# fmt: on\u001b[39;00m\n\u001b[1;32m   3993\u001b[0m out \u001b[38;5;241m=\u001b[39m OrderedDict()\n",
      "\u001b[0;31mValueError\u001b[0m: Cannot convert a table with multidimensional columns to a pandas DataFrame. Offending columns are: ['scaling']\nOne can filter out such columns using:\nnames = [name for name in tbl.colnames if len(tbl[name].shape) <= 1]\ntbl[names].to_pandas(...)"
     ]
    }
   ],
   "source": [
    "t.to_pandas()"
   ]
  },
  {
   "cell_type": "code",
   "execution_count": 27,
   "id": "7d0be723-3b5a-413f-8200-33baf689f527",
   "metadata": {
    "execution": {
     "iopub.execute_input": "2024-02-25T14:59:20.945463Z",
     "iopub.status.busy": "2024-02-25T14:59:20.945229Z",
     "iopub.status.idle": "2024-02-25T14:59:21.053672Z",
     "shell.execute_reply": "2024-02-25T14:59:21.053133Z",
     "shell.execute_reply.started": "2024-02-25T14:59:20.945449Z"
    }
   },
   "outputs": [
    {
     "ename": "ValueError",
     "evalue": "Cannot convert a table with multidimensional columns to a pandas DataFrame. Offending columns are: ['scaling']\nOne can filter out such columns using:\nnames = [name for name in tbl.colnames if len(tbl[name].shape) <= 1]\ntbl[names].to_pandas(...)",
     "output_type": "error",
     "traceback": [
      "\u001b[0;31m---------------------------------------------------------------------------\u001b[0m",
      "\u001b[0;31mValueError\u001b[0m                                Traceback (most recent call last)",
      "Cell \u001b[0;32mIn[27], line 1\u001b[0m\n\u001b[0;32m----> 1\u001b[0m \u001b[43mt\u001b[49m\u001b[38;5;241;43m.\u001b[39;49m\u001b[43mto_pandas\u001b[49m\u001b[43m(\u001b[49m\u001b[43m)\u001b[49m\n",
      "File \u001b[0;32m/opt/lsst/software/stack/conda/miniconda3-py38_4.9.2/envs/lsst-scipipe-8.0.0/lib/python3.11/site-packages/astropy/table/table.py:3984\u001b[0m, in \u001b[0;36mTable.to_pandas\u001b[0;34m(self, index, use_nullable_int)\u001b[0m\n\u001b[1;32m   3981\u001b[0m badcols \u001b[38;5;241m=\u001b[39m [name \u001b[38;5;28;01mfor\u001b[39;00m name, col \u001b[38;5;129;01min\u001b[39;00m \u001b[38;5;28mself\u001b[39m\u001b[38;5;241m.\u001b[39mcolumns\u001b[38;5;241m.\u001b[39mitems() \u001b[38;5;28;01mif\u001b[39;00m \u001b[38;5;28mlen\u001b[39m(col\u001b[38;5;241m.\u001b[39mshape) \u001b[38;5;241m>\u001b[39m \u001b[38;5;241m1\u001b[39m]\n\u001b[1;32m   3982\u001b[0m \u001b[38;5;28;01mif\u001b[39;00m badcols:\n\u001b[1;32m   3983\u001b[0m     \u001b[38;5;66;03m# fmt: off\u001b[39;00m\n\u001b[0;32m-> 3984\u001b[0m     \u001b[38;5;28;01mraise\u001b[39;00m \u001b[38;5;167;01mValueError\u001b[39;00m(\n\u001b[1;32m   3985\u001b[0m         \u001b[38;5;124mf\u001b[39m\u001b[38;5;124m'\u001b[39m\u001b[38;5;124mCannot convert a table with multidimensional columns to a \u001b[39m\u001b[38;5;124m'\u001b[39m\n\u001b[1;32m   3986\u001b[0m         \u001b[38;5;124mf\u001b[39m\u001b[38;5;124m'\u001b[39m\u001b[38;5;124mpandas DataFrame. Offending columns are: \u001b[39m\u001b[38;5;132;01m{\u001b[39;00mbadcols\u001b[38;5;132;01m}\u001b[39;00m\u001b[38;5;130;01m\\n\u001b[39;00m\u001b[38;5;124m'\u001b[39m\n\u001b[1;32m   3987\u001b[0m         \u001b[38;5;124mf\u001b[39m\u001b[38;5;124m'\u001b[39m\u001b[38;5;124mOne can filter out such columns using:\u001b[39m\u001b[38;5;130;01m\\n\u001b[39;00m\u001b[38;5;124m'\u001b[39m\n\u001b[1;32m   3988\u001b[0m         \u001b[38;5;124mf\u001b[39m\u001b[38;5;124m'\u001b[39m\u001b[38;5;124mnames = [name for name in tbl.colnames if len(tbl[name].shape) <= 1]\u001b[39m\u001b[38;5;130;01m\\n\u001b[39;00m\u001b[38;5;124m'\u001b[39m\n\u001b[1;32m   3989\u001b[0m         \u001b[38;5;124mf\u001b[39m\u001b[38;5;124m'\u001b[39m\u001b[38;5;124mtbl[names].to_pandas(...)\u001b[39m\u001b[38;5;124m'\u001b[39m\n\u001b[1;32m   3990\u001b[0m     )\n\u001b[1;32m   3991\u001b[0m     \u001b[38;5;66;03m# fmt: on\u001b[39;00m\n\u001b[1;32m   3993\u001b[0m out \u001b[38;5;241m=\u001b[39m OrderedDict()\n",
      "\u001b[0;31mValueError\u001b[0m: Cannot convert a table with multidimensional columns to a pandas DataFrame. Offending columns are: ['scaling']\nOne can filter out such columns using:\nnames = [name for name in tbl.colnames if len(tbl[name].shape) <= 1]\ntbl[names].to_pandas(...)"
     ]
    }
   ],
   "source": [
    "t.to_pandas()"
   ]
  },
  {
   "cell_type": "code",
   "execution_count": 25,
   "id": "abac8398-3404-4bb9-85dc-766f9825e7d1",
   "metadata": {
    "execution": {
     "iopub.execute_input": "2024-02-25T14:56:56.546976Z",
     "iopub.status.busy": "2024-02-25T14:56:56.546643Z",
     "iopub.status.idle": "2024-02-25T14:56:56.614889Z",
     "shell.execute_reply": "2024-02-25T14:56:56.614385Z",
     "shell.execute_reply.started": "2024-02-25T14:56:56.546962Z"
    }
   },
   "outputs": [
    {
     "ename": "TypeError",
     "evalue": "cannot concatenate object of type '<class 'lsst.afw.table.BaseCatalog'>'; only Series and DataFrame objs are valid",
     "output_type": "error",
     "traceback": [
      "\u001b[0;31m---------------------------------------------------------------------------\u001b[0m",
      "\u001b[0;31mTypeError\u001b[0m                                 Traceback (most recent call last)",
      "Cell \u001b[0;32mIn[25], line 1\u001b[0m\n\u001b[0;32m----> 1\u001b[0m df \u001b[38;5;241m=\u001b[39m \u001b[43mpd\u001b[49m\u001b[38;5;241;43m.\u001b[39;49m\u001b[43mconcat\u001b[49m\u001b[43m(\u001b[49m\u001b[43mall_df\u001b[49m\u001b[43m)\u001b[49m\n",
      "File \u001b[0;32m~/.local/lib/python3.11/site-packages/pandas/util/_decorators.py:331\u001b[0m, in \u001b[0;36mdeprecate_nonkeyword_arguments.<locals>.decorate.<locals>.wrapper\u001b[0;34m(*args, **kwargs)\u001b[0m\n\u001b[1;32m    325\u001b[0m \u001b[38;5;28;01mif\u001b[39;00m \u001b[38;5;28mlen\u001b[39m(args) \u001b[38;5;241m>\u001b[39m num_allow_args:\n\u001b[1;32m    326\u001b[0m     warnings\u001b[38;5;241m.\u001b[39mwarn(\n\u001b[1;32m    327\u001b[0m         msg\u001b[38;5;241m.\u001b[39mformat(arguments\u001b[38;5;241m=\u001b[39m_format_argument_list(allow_args)),\n\u001b[1;32m    328\u001b[0m         \u001b[38;5;167;01mFutureWarning\u001b[39;00m,\n\u001b[1;32m    329\u001b[0m         stacklevel\u001b[38;5;241m=\u001b[39mfind_stack_level(),\n\u001b[1;32m    330\u001b[0m     )\n\u001b[0;32m--> 331\u001b[0m \u001b[38;5;28;01mreturn\u001b[39;00m \u001b[43mfunc\u001b[49m\u001b[43m(\u001b[49m\u001b[38;5;241;43m*\u001b[39;49m\u001b[43margs\u001b[49m\u001b[43m,\u001b[49m\u001b[43m \u001b[49m\u001b[38;5;241;43m*\u001b[39;49m\u001b[38;5;241;43m*\u001b[39;49m\u001b[43mkwargs\u001b[49m\u001b[43m)\u001b[49m\n",
      "File \u001b[0;32m~/.local/lib/python3.11/site-packages/pandas/core/reshape/concat.py:368\u001b[0m, in \u001b[0;36mconcat\u001b[0;34m(objs, axis, join, ignore_index, keys, levels, names, verify_integrity, sort, copy)\u001b[0m\n\u001b[1;32m    146\u001b[0m \u001b[38;5;129m@deprecate_nonkeyword_arguments\u001b[39m(version\u001b[38;5;241m=\u001b[39m\u001b[38;5;28;01mNone\u001b[39;00m, allowed_args\u001b[38;5;241m=\u001b[39m[\u001b[38;5;124m\"\u001b[39m\u001b[38;5;124mobjs\u001b[39m\u001b[38;5;124m\"\u001b[39m])\n\u001b[1;32m    147\u001b[0m \u001b[38;5;28;01mdef\u001b[39;00m \u001b[38;5;21mconcat\u001b[39m(\n\u001b[1;32m    148\u001b[0m     objs: Iterable[NDFrame] \u001b[38;5;241m|\u001b[39m Mapping[HashableT, NDFrame],\n\u001b[0;32m   (...)\u001b[0m\n\u001b[1;32m    157\u001b[0m     copy: \u001b[38;5;28mbool\u001b[39m \u001b[38;5;241m=\u001b[39m \u001b[38;5;28;01mTrue\u001b[39;00m,\n\u001b[1;32m    158\u001b[0m ) \u001b[38;5;241m-\u001b[39m\u001b[38;5;241m>\u001b[39m DataFrame \u001b[38;5;241m|\u001b[39m Series:\n\u001b[1;32m    159\u001b[0m \u001b[38;5;250m    \u001b[39m\u001b[38;5;124;03m\"\"\"\u001b[39;00m\n\u001b[1;32m    160\u001b[0m \u001b[38;5;124;03m    Concatenate pandas objects along a particular axis.\u001b[39;00m\n\u001b[1;32m    161\u001b[0m \n\u001b[0;32m   (...)\u001b[0m\n\u001b[1;32m    366\u001b[0m \u001b[38;5;124;03m    1   3   4\u001b[39;00m\n\u001b[1;32m    367\u001b[0m \u001b[38;5;124;03m    \"\"\"\u001b[39;00m\n\u001b[0;32m--> 368\u001b[0m     op \u001b[38;5;241m=\u001b[39m \u001b[43m_Concatenator\u001b[49m\u001b[43m(\u001b[49m\n\u001b[1;32m    369\u001b[0m \u001b[43m        \u001b[49m\u001b[43mobjs\u001b[49m\u001b[43m,\u001b[49m\n\u001b[1;32m    370\u001b[0m \u001b[43m        \u001b[49m\u001b[43maxis\u001b[49m\u001b[38;5;241;43m=\u001b[39;49m\u001b[43maxis\u001b[49m\u001b[43m,\u001b[49m\n\u001b[1;32m    371\u001b[0m \u001b[43m        \u001b[49m\u001b[43mignore_index\u001b[49m\u001b[38;5;241;43m=\u001b[39;49m\u001b[43mignore_index\u001b[49m\u001b[43m,\u001b[49m\n\u001b[1;32m    372\u001b[0m \u001b[43m        \u001b[49m\u001b[43mjoin\u001b[49m\u001b[38;5;241;43m=\u001b[39;49m\u001b[43mjoin\u001b[49m\u001b[43m,\u001b[49m\n\u001b[1;32m    373\u001b[0m \u001b[43m        \u001b[49m\u001b[43mkeys\u001b[49m\u001b[38;5;241;43m=\u001b[39;49m\u001b[43mkeys\u001b[49m\u001b[43m,\u001b[49m\n\u001b[1;32m    374\u001b[0m \u001b[43m        \u001b[49m\u001b[43mlevels\u001b[49m\u001b[38;5;241;43m=\u001b[39;49m\u001b[43mlevels\u001b[49m\u001b[43m,\u001b[49m\n\u001b[1;32m    375\u001b[0m \u001b[43m        \u001b[49m\u001b[43mnames\u001b[49m\u001b[38;5;241;43m=\u001b[39;49m\u001b[43mnames\u001b[49m\u001b[43m,\u001b[49m\n\u001b[1;32m    376\u001b[0m \u001b[43m        \u001b[49m\u001b[43mverify_integrity\u001b[49m\u001b[38;5;241;43m=\u001b[39;49m\u001b[43mverify_integrity\u001b[49m\u001b[43m,\u001b[49m\n\u001b[1;32m    377\u001b[0m \u001b[43m        \u001b[49m\u001b[43mcopy\u001b[49m\u001b[38;5;241;43m=\u001b[39;49m\u001b[43mcopy\u001b[49m\u001b[43m,\u001b[49m\n\u001b[1;32m    378\u001b[0m \u001b[43m        \u001b[49m\u001b[43msort\u001b[49m\u001b[38;5;241;43m=\u001b[39;49m\u001b[43msort\u001b[49m\u001b[43m,\u001b[49m\n\u001b[1;32m    379\u001b[0m \u001b[43m    \u001b[49m\u001b[43m)\u001b[49m\n\u001b[1;32m    381\u001b[0m     \u001b[38;5;28;01mreturn\u001b[39;00m op\u001b[38;5;241m.\u001b[39mget_result()\n",
      "File \u001b[0;32m~/.local/lib/python3.11/site-packages/pandas/core/reshape/concat.py:458\u001b[0m, in \u001b[0;36m_Concatenator.__init__\u001b[0;34m(self, objs, axis, join, keys, levels, names, ignore_index, verify_integrity, copy, sort)\u001b[0m\n\u001b[1;32m    453\u001b[0m     \u001b[38;5;28;01mif\u001b[39;00m \u001b[38;5;129;01mnot\u001b[39;00m \u001b[38;5;28misinstance\u001b[39m(obj, (ABCSeries, ABCDataFrame)):\n\u001b[1;32m    454\u001b[0m         msg \u001b[38;5;241m=\u001b[39m (\n\u001b[1;32m    455\u001b[0m             \u001b[38;5;124mf\u001b[39m\u001b[38;5;124m\"\u001b[39m\u001b[38;5;124mcannot concatenate object of type \u001b[39m\u001b[38;5;124m'\u001b[39m\u001b[38;5;132;01m{\u001b[39;00m\u001b[38;5;28mtype\u001b[39m(obj)\u001b[38;5;132;01m}\u001b[39;00m\u001b[38;5;124m'\u001b[39m\u001b[38;5;124m; \u001b[39m\u001b[38;5;124m\"\u001b[39m\n\u001b[1;32m    456\u001b[0m             \u001b[38;5;124m\"\u001b[39m\u001b[38;5;124monly Series and DataFrame objs are valid\u001b[39m\u001b[38;5;124m\"\u001b[39m\n\u001b[1;32m    457\u001b[0m         )\n\u001b[0;32m--> 458\u001b[0m         \u001b[38;5;28;01mraise\u001b[39;00m \u001b[38;5;167;01mTypeError\u001b[39;00m(msg)\n\u001b[1;32m    460\u001b[0m     ndims\u001b[38;5;241m.\u001b[39madd(obj\u001b[38;5;241m.\u001b[39mndim)\n\u001b[1;32m    462\u001b[0m \u001b[38;5;66;03m# get the sample\u001b[39;00m\n\u001b[1;32m    463\u001b[0m \u001b[38;5;66;03m# want the highest ndim that we have, and must be non-empty\u001b[39;00m\n\u001b[1;32m    464\u001b[0m \u001b[38;5;66;03m# unless all objs are empty\u001b[39;00m\n",
      "\u001b[0;31mTypeError\u001b[0m: cannot concatenate object of type '<class 'lsst.afw.table.BaseCatalog'>'; only Series and DataFrame objs are valid"
     ]
    }
   ],
   "source": [
    "df = pd.concat(all_df)"
   ]
  },
  {
   "cell_type": "code",
   "execution_count": null,
   "id": "21444ba7-f2d3-48ab-a984-dc82f9c30d4e",
   "metadata": {
    "execution": {
     "iopub.status.busy": "2024-02-25T14:53:56.287281Z",
     "iopub.status.idle": "2024-02-25T14:53:56.287444Z",
     "shell.execute_reply": "2024-02-25T14:53:56.287364Z",
     "shell.execute_reply.started": "2024-02-25T14:53:56.287357Z"
    }
   },
   "outputs": [],
   "source": [
    "df"
   ]
  },
  {
   "cell_type": "code",
   "execution_count": null,
   "id": "a4afe23a-71ae-4c4e-abd7-591bc9d939c8",
   "metadata": {
    "execution": {
     "iopub.status.busy": "2024-02-25T14:53:56.287873Z",
     "iopub.status.idle": "2024-02-25T14:53:56.288022Z",
     "shell.execute_reply": "2024-02-25T14:53:56.287953Z",
     "shell.execute_reply.started": "2024-02-25T14:53:56.287946Z"
    },
    "tags": []
   },
   "outputs": [],
   "source": [
    "df.to_csv(filesource_out)"
   ]
  },
  {
   "cell_type": "code",
   "execution_count": null,
   "id": "dbf845eb-7c07-4344-a440-f7af1bffd08a",
   "metadata": {
    "execution": {
     "iopub.status.busy": "2024-02-25T14:53:56.288618Z",
     "iopub.status.idle": "2024-02-25T14:53:56.288775Z",
     "shell.execute_reply": "2024-02-25T14:53:56.288706Z",
     "shell.execute_reply.started": "2024-02-25T14:53:56.288699Z"
    },
    "tags": []
   },
   "outputs": [],
   "source": [
    "print(df.columns.tolist())"
   ]
  },
  {
   "cell_type": "code",
   "execution_count": null,
   "id": "e211cb27-8fce-4f75-b5f8-2cc966675158",
   "metadata": {
    "execution": {
     "iopub.status.busy": "2024-02-25T14:53:56.289221Z",
     "iopub.status.idle": "2024-02-25T14:53:56.289367Z",
     "shell.execute_reply": "2024-02-25T14:53:56.289300Z",
     "shell.execute_reply.started": "2024-02-25T14:53:56.289293Z"
    }
   },
   "outputs": [],
   "source": [
    "df['tract'].unique()"
   ]
  },
  {
   "cell_type": "code",
   "execution_count": null,
   "id": "3fc22a66-a90d-4371-b073-1f1c34c806f7",
   "metadata": {},
   "outputs": [],
   "source": []
  }
 ],
 "metadata": {
  "kernelspec": {
   "display_name": "LSST",
   "language": "python",
   "name": "lsst"
  },
  "language_info": {
   "codemirror_mode": {
    "name": "ipython",
    "version": 3
   },
   "file_extension": ".py",
   "mimetype": "text/x-python",
   "name": "python",
   "nbconvert_exporter": "python",
   "pygments_lexer": "ipython3",
   "version": "3.11.7"
  }
 },
 "nbformat": 4,
 "nbformat_minor": 5
}
