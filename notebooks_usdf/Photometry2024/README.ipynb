{
 "cells": [
  {
   "cell_type": "markdown",
   "id": "40e206a8-7350-4187-a790-788900265e2c",
   "metadata": {},
   "source": [
    "# README notebook on Photometry 2024\n",
    "- author Sylvie Dagoret-Campagne\n",
    "- affiliation : IJCLab/IN2P3/CNRS\n",
    "- creation date : 2024-03-05\n",
    "- last update : 2024-03-05\n",
    "\n",
    "\n",
    "Top notebook to help navigating in AuxtelComm/notebooks_usdf/Photometry2024"
   ]
  },
  {
   "cell_type": "markdown",
   "id": "b1176754-8549-4d66-b9e9-79b1dfd3cfd1",
   "metadata": {},
   "source": [
    "## Key links\n",
    "\n",
    "``Quantum Graphs``: https://tigress-web.princeton.edu/~lkelvin/pipelines/ \n"
   ]
  },
  {
   "cell_type": "markdown",
   "id": "680b3518-21ce-45ca-8fef-714a2a4c5e73",
   "metadata": {},
   "source": [
    "## Data"
   ]
  },
  {
   "cell_type": "markdown",
   "id": "2ea43382-8edc-413b-9c6c-46c305e0a22e",
   "metadata": {
    "execution": {
     "iopub.execute_input": "2024-03-05T09:48:44.747695Z",
     "iopub.status.busy": "2024-03-05T09:48:44.747268Z",
     "iopub.status.idle": "2024-03-05T09:48:44.750666Z",
     "shell.execute_reply": "2024-03-05T09:48:44.750161Z",
     "shell.execute_reply.started": "2024-03-05T09:48:44.747681Z"
    }
   },
   "source": [
    "- Data file generate by the following notebooks are stored in ``data/``"
   ]
  },
  {
   "cell_type": "markdown",
   "id": "53bd3462-9d30-4f53-bd36-48c0a1aab8d6",
   "metadata": {},
   "source": [
    "## Objects\n",
    "\n",
    "\n",
    "Make a list of tracts and Patches used in the obervations, and extract the list of objects and analyse them.\n",
    "\n",
    "- [Objects](ObjectsRREADME.md)"
   ]
  },
  {
   "cell_type": "markdown",
   "id": "6f649157-d394-47d3-b71a-5665f0de9200",
   "metadata": {},
   "source": [
    "## TractsAndPatches\n",
    "\n",
    "- have a better view on where are located tracts and patches\n",
    "\n",
    "- [TractAndPatches](TractsAndPatches/README.md)"
   ]
  },
  {
   "cell_type": "markdown",
   "id": "5d774d77-ab37-47ef-86c3-238717e6f8cc",
   "metadata": {},
   "source": [
    "## Deep coadds\n",
    "View the deep coadds:\n",
    "- [DeepCoadds](DeepCoads/README.ipynb)"
   ]
  },
  {
   "cell_type": "markdown",
   "id": "e69e3068-f971-47d2-ada5-9a9ed9f7b161",
   "metadata": {},
   "source": [
    "## VisitCCD"
   ]
  },
  {
   "cell_type": "code",
   "execution_count": null,
   "id": "9b3ff699-25d2-4c29-9c40-7e9c3c7d2a59",
   "metadata": {},
   "outputs": [],
   "source": []
  }
 ],
 "metadata": {
  "kernelspec": {
   "display_name": "LSST",
   "language": "python",
   "name": "lsst"
  },
  "language_info": {
   "codemirror_mode": {
    "name": "ipython",
    "version": 3
   },
   "file_extension": ".py",
   "mimetype": "text/x-python",
   "name": "python",
   "nbconvert_exporter": "python",
   "pygments_lexer": "ipython3",
   "version": "3.11.7"
  }
 },
 "nbformat": 4,
 "nbformat_minor": 5
}
