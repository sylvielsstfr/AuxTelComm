{
 "cells": [
  {
   "cell_type": "markdown",
   "id": "8608d6fb-20fc-4b07-ba88-74e9b45cdf25",
   "metadata": {},
   "source": [
    "# Compare Pre-sources wrt Sources"
   ]
  },
  {
   "cell_type": "markdown",
   "id": "667ba03e-ddfb-47fd-bee3-3824f9be7ae5",
   "metadata": {},
   "source": [
    " work with Weakly_2023_44\n",
    "- use jupyter kernel LSST\n",
    "\n",
    "\n",
    "- author : Sylvie Dagoret-Campagne\n",
    "- affiliation : IJCLab\n",
    "- creation date : 2023/01/03\n",
    "- update : 2023/01/03\n"
   ]
  },
  {
   "cell_type": "code",
   "execution_count": 33,
   "id": "058012ec-9888-4b97-9fe2-57595e1bc0e7",
   "metadata": {
    "execution": {
     "iopub.execute_input": "2024-01-03T17:45:33.019190Z",
     "iopub.status.busy": "2024-01-03T17:45:33.018895Z",
     "iopub.status.idle": "2024-01-03T17:45:33.024283Z",
     "shell.execute_reply": "2024-01-03T17:45:33.023929Z",
     "shell.execute_reply.started": "2024-01-03T17:45:33.019176Z"
    }
   },
   "outputs": [],
   "source": [
    "import numpy as np\n",
    "import matplotlib.pyplot as plt\n",
    "%matplotlib inline\n",
    "from mpl_toolkits.axes_grid1 import make_axes_locatable\n",
    "from matplotlib.colors import LogNorm,SymLogNorm\n",
    "\n",
    "\n",
    "import matplotlib.ticker                         # here's where the formatter is\n",
    "from matplotlib.ticker import (MultipleLocator, FormatStrFormatter,\n",
    "                               AutoMinorLocator)\n",
    "from astropy.visualization import (MinMaxInterval, SqrtStretch,ZScaleInterval,PercentileInterval,\n",
    "                                   ImageNormalize,imshow_norm)\n",
    "from astropy.visualization.stretch import SinhStretch, LinearStretch,AsinhStretch,LogStretch\n",
    "from astropy.io import fits\n",
    "import astropy.coordinates as coord\n",
    "import astropy.units as u\n",
    "import pandas as pd\n",
    "\n",
    "import matplotlib.ticker                         # here's where the formatter is\n",
    "import os\n",
    "import re\n",
    "import pandas as pd\n",
    "import pickle\n",
    "\n",
    "plt.rcParams[\"figure.figsize\"] = (4,4)\n",
    "plt.rcParams[\"axes.labelsize\"] = 'xx-large'\n",
    "plt.rcParams['axes.titlesize'] = 'xx-large'\n",
    "plt.rcParams['xtick.labelsize']= 'xx-large'\n",
    "plt.rcParams['ytick.labelsize']= 'xx-large'"
   ]
  },
  {
   "cell_type": "code",
   "execution_count": 3,
   "id": "ccdc182b-c8c4-493a-8947-f3dcaf123892",
   "metadata": {
    "execution": {
     "iopub.execute_input": "2024-01-03T17:41:12.022853Z",
     "iopub.status.busy": "2024-01-03T17:41:12.022361Z",
     "iopub.status.idle": "2024-01-03T17:41:12.407073Z",
     "shell.execute_reply": "2024-01-03T17:41:12.406631Z",
     "shell.execute_reply.started": "2024-01-03T17:41:12.022839Z"
    }
   },
   "outputs": [],
   "source": [
    "import lsst.daf.butler as dafButler\n",
    "#import lsst.summit.utils.butlerUtils as butlerUtils"
   ]
  },
  {
   "cell_type": "code",
   "execution_count": 4,
   "id": "04991d07-b20c-4a46-9cc1-52c296b2d72f",
   "metadata": {
    "execution": {
     "iopub.execute_input": "2024-01-03T17:41:13.448255Z",
     "iopub.status.busy": "2024-01-03T17:41:13.447934Z",
     "iopub.status.idle": "2024-01-03T17:41:15.998674Z",
     "shell.execute_reply": "2024-01-03T17:41:15.998249Z",
     "shell.execute_reply.started": "2024-01-03T17:41:13.448241Z"
    }
   },
   "outputs": [],
   "source": [
    "#repo =  \"/sdf/group/rubin/repo/main\"\n",
    "repo = \"/sdf/group/rubin/repo/oga/\"\n",
    "butler = dafButler.Butler(repo)\n",
    "registry = butler.registry\n",
    "my_collection = \"LATISS/runs/AUXTEL_DRP_IMAGING_2023-11A-10A-09AB-08ABC-07AB-05AB/w_2023_46/PREOPS-4553\""
   ]
  },
  {
   "cell_type": "code",
   "execution_count": 5,
   "id": "5f5bc4be-e7f9-4508-bb19-a0642315caab",
   "metadata": {
    "execution": {
     "iopub.execute_input": "2024-01-03T17:41:16.043978Z",
     "iopub.status.busy": "2024-01-03T17:41:16.043555Z",
     "iopub.status.idle": "2024-01-03T17:41:16.047235Z",
     "shell.execute_reply": "2024-01-03T17:41:16.046859Z",
     "shell.execute_reply.started": "2024-01-03T17:41:16.043963Z"
    }
   },
   "outputs": [],
   "source": [
    "def get_corners_radec(wcs, bbox):\n",
    "    \"\"\"\n",
    "    Return the corners in RA,Dec in degrees given the WCS and bounding box for an image.\n",
    "\n",
    "    Parameters\n",
    "    ----------\n",
    "    wcs: image WCS returned by the Butler\n",
    "    bbox: bounding box returned by the Butler\n",
    "\n",
    "    Returns\n",
    "    -------\n",
    "    corners_ra, corners_dec in decimal degrees\n",
    "    \"\"\"\n",
    "\n",
    "    corners_x = [bbox.beginX, bbox.beginX, bbox.endX, bbox.endX]\n",
    "    corners_y = [bbox.beginY, bbox.endY, bbox.endY, bbox.beginY]\n",
    "    corners_ra = []\n",
    "    corners_dec = []\n",
    "    for i in range(4):\n",
    "        radec = wcs.pixelToSky(corners_x[i], corners_y[i])\n",
    "        corners_ra.append(radec.getRa().asDegrees())\n",
    "        corners_dec.append(radec.getDec().asDegrees())\n",
    "    \n",
    "    return corners_ra, corners_dec"
   ]
  },
  {
   "cell_type": "code",
   "execution_count": 6,
   "id": "2a8bb307-ff82-4b27-a16c-b57c3584c8af",
   "metadata": {
    "execution": {
     "iopub.execute_input": "2024-01-03T17:41:16.685880Z",
     "iopub.status.busy": "2024-01-03T17:41:16.685668Z",
     "iopub.status.idle": "2024-01-03T17:41:16.689308Z",
     "shell.execute_reply": "2024-01-03T17:41:16.688934Z",
     "shell.execute_reply.started": "2024-01-03T17:41:16.685866Z"
    }
   },
   "outputs": [],
   "source": [
    "def get_bbox_radec(wcs, bbox):\n",
    "    \"\"\"\n",
    "    Return the corners in RA,Dec in degrees given the WCS and bounding box for an image.\n",
    "\n",
    "    Parameters\n",
    "    ----------\n",
    "    wcs: image WCS returned by the Butler\n",
    "    bbox: bounding box returned by the Butler\n",
    "\n",
    "    Returns\n",
    "    -------\n",
    "    ramin,ramax,decmin,decmax in decimal degrees\n",
    "    \"\"\"\n",
    "\n",
    "    xmin = bbox.beginX\n",
    "    xmax = bbox.endX\n",
    "    ymin = bbox.beginY\n",
    "    ymax = bbox.endY\n",
    "    \n",
    "    radec_ll = wcs.pixelToSky(xmin, ymin)\n",
    "    radec_ur = wcs.pixelToSky(xmax, ymax)\n",
    "        \n",
    "    return radec_ur.getRa().asDegrees(),radec_ll.getRa().asDegrees(), radec_ll.getDec().asDegrees(),radec_ur.getDec().asDegrees() "
   ]
  },
  {
   "cell_type": "code",
   "execution_count": 7,
   "id": "d7581b29-f184-4a61-9e24-f845153a6fb0",
   "metadata": {
    "execution": {
     "iopub.execute_input": "2024-01-03T17:41:17.306492Z",
     "iopub.status.busy": "2024-01-03T17:41:17.306318Z",
     "iopub.status.idle": "2024-01-03T17:41:17.309512Z",
     "shell.execute_reply": "2024-01-03T17:41:17.309148Z",
     "shell.execute_reply.started": "2024-01-03T17:41:17.306479Z"
    }
   },
   "outputs": [],
   "source": [
    "def isradec_inbbox_radec(ra,dec,wcs, bbox):\n",
    "    \"\"\"\n",
    "    Return the corners in RA,Dec in degrees given the WCS and bounding box for an image.\n",
    "\n",
    "    Parameters\n",
    "    ----------\n",
    "    ra: ra in degree\n",
    "    dec: dec in degree\n",
    "    wcs: image WCS returned by the Butler\n",
    "    bbox: bounding box returned by the Butler\n",
    "\n",
    "    Returns\n",
    "    -------\n",
    "    Bool\n",
    "    \n",
    "    \"\"\"\n",
    "\n",
    "    RAMIN,RAMAX,DECMIN,DECMAX = get_bbox_radec(wcs, bbox)\n",
    "\n",
    "    assert RAMIN < RAMAX\n",
    "    assert DECMIN < DECMAX\n",
    "\n",
    "    flag = (ra >= RAMIN) and (ra<=RAMAX) and (dec>= DECMIN) and (dec <= DECMAX) \n",
    "    return flag"
   ]
  },
  {
   "cell_type": "code",
   "execution_count": 8,
   "id": "059b4303-61ab-4cf8-844b-32837d87c225",
   "metadata": {
    "execution": {
     "iopub.execute_input": "2024-01-03T17:41:17.989003Z",
     "iopub.status.busy": "2024-01-03T17:41:17.988714Z",
     "iopub.status.idle": "2024-01-03T17:41:17.993228Z",
     "shell.execute_reply": "2024-01-03T17:41:17.992854Z",
     "shell.execute_reply.started": "2024-01-03T17:41:17.988989Z"
    }
   },
   "outputs": [],
   "source": [
    "def FindTractAndPatch(row):\n",
    "    \"\"\"\n",
    "    Apply this function on ccdvisitTable dataframe to find the tract and patch for each visit\n",
    "    \"\"\"\n",
    "    tractsId_list = list(tracts_patchs_dict.keys())   \n",
    "    try:\n",
    "        ra = row[\"ra\"]\n",
    "        dec = row[\"dec\"]\n",
    "        selectFlag = False\n",
    "        # loop on tract\n",
    "        for tractID in tractsId_list:\n",
    "            wcs = tractsInfoWCS_dict[tractID]\n",
    "            tractInfo = tractsInfo_dict[tractID] \n",
    "            patches_selected = list(tracts_patchs_dict[tractID])\n",
    "            # loop on patches\n",
    "            for patch in tractInfo:\n",
    "                patchID = patch.getSequentialIndex()\n",
    "                if patchID in patches_selected:\n",
    "                    ibb=patch.getInnerBBox()\n",
    "                    flag = isradec_inbbox_radec(ra,dec,wcs, ibb)\n",
    "                    selectFlag =  selectFlag or flag\n",
    "                    if selectFlag:\n",
    "                        return pd.Series([tractID,patchID])\n",
    "        return pd.Series([0,0])           \n",
    "                \n",
    "    except Exception as inst:\n",
    "        print(type(inst))    # the exception type\n",
    "        print(inst.args)     # arguments stored in .args\n",
    "        print(inst)          # __str__ allows args to be printed directly,\n",
    "        return pd.Series([0,0])  "
   ]
  },
  {
   "cell_type": "code",
   "execution_count": 9,
   "id": "6c688581-ba67-4b28-b4f6-ec46c9aad427",
   "metadata": {
    "execution": {
     "iopub.execute_input": "2024-01-03T17:41:18.840818Z",
     "iopub.status.busy": "2024-01-03T17:41:18.840542Z",
     "iopub.status.idle": "2024-01-03T17:41:18.843596Z",
     "shell.execute_reply": "2024-01-03T17:41:18.843213Z",
     "shell.execute_reply.started": "2024-01-03T17:41:18.840804Z"
    }
   },
   "outputs": [],
   "source": [
    "def convert_fluxtomag(x) :\n",
    "    \"\"\"\n",
    "    The object and source catalogs store only fluxes. There are hundreds of flux-related columns, \n",
    "    and to store them also as magnitudes would be redundant, and a waste of space.\n",
    "    All flux units are nanojanskys. The AB Magnitudes Wikipedia page provides a concise resource \n",
    "    for users unfamiliar with AB magnitudes and jansky fluxes. To convert to AB magnitudes use:\n",
    "    As demonstrated in Section 2.3.2, to add columns of magnitudes after retrieving columns of flux, users can do this:\n",
    "    results_table['r_calibMag'] = -2.50 * numpy.log10(results_table['r_calibFlux']) + 31.4\n",
    "    results_table['r_cModelMag'] = -2.50 * numpy.log10(results_table['r_cModelFlux']) + 31.4\n",
    "    (from DP0 tutorial)\n",
    "    \"\"\"\n",
    "    return -2.50 * np.log10(x) + 31.4"
   ]
  },
  {
   "cell_type": "markdown",
   "id": "889f310f-c9d0-4631-96a9-2714935d305a",
   "metadata": {},
   "source": [
    "## Config"
   ]
  },
  {
   "cell_type": "markdown",
   "id": "0875983a-41d1-4dec-b908-3e378f16fb16",
   "metadata": {},
   "source": [
    "### Skymap"
   ]
  },
  {
   "cell_type": "code",
   "execution_count": 10,
   "id": "a39fa1d0-fe69-4f44-9395-641b92d46546",
   "metadata": {
    "execution": {
     "iopub.execute_input": "2024-01-03T17:41:21.596465Z",
     "iopub.status.busy": "2024-01-03T17:41:21.596182Z",
     "iopub.status.idle": "2024-01-03T17:41:21.761147Z",
     "shell.execute_reply": "2024-01-03T17:41:21.760713Z",
     "shell.execute_reply.started": "2024-01-03T17:41:21.596449Z"
    }
   },
   "outputs": [],
   "source": [
    "skymap_auxtel ='latiss_v1'\n",
    "skymap = butler.get('skyMap', skymap=skymap_auxtel, collections=my_collection)"
   ]
  },
  {
   "cell_type": "markdown",
   "id": "6335e70e-4a47-40c6-a2d8-b8d39b25563b",
   "metadata": {},
   "source": [
    "### Tract and Patches"
   ]
  },
  {
   "cell_type": "code",
   "execution_count": 11,
   "id": "4e894171-4caf-4727-b7b3-2c29362be181",
   "metadata": {
    "execution": {
     "iopub.execute_input": "2024-01-03T17:41:23.417741Z",
     "iopub.status.busy": "2024-01-03T17:41:23.417441Z",
     "iopub.status.idle": "2024-01-03T17:41:23.420249Z",
     "shell.execute_reply": "2024-01-03T17:41:23.419930Z",
     "shell.execute_reply.started": "2024-01-03T17:41:23.417726Z"
    }
   },
   "outputs": [],
   "source": [
    "with open('Latiss_tractspatchs.pickle', 'rb') as handle:\n",
    "    tracts_patchs_dict = pickle.load(handle)"
   ]
  },
  {
   "cell_type": "code",
   "execution_count": 12,
   "id": "cc74b158-c037-4de7-9891-6700cd46bd58",
   "metadata": {
    "execution": {
     "iopub.execute_input": "2024-01-03T17:41:24.293305Z",
     "iopub.status.busy": "2024-01-03T17:41:24.293034Z",
     "iopub.status.idle": "2024-01-03T17:41:38.339587Z",
     "shell.execute_reply": "2024-01-03T17:41:38.339140Z",
     "shell.execute_reply.started": "2024-01-03T17:41:24.293291Z"
    }
   },
   "outputs": [],
   "source": [
    "tractsInfo_dict = {}\n",
    "tractsInfoWCS_dict = {}\n",
    "tractsId_list = list(tracts_patchs_dict.keys())\n",
    "\n",
    "# loop to select the good tracts\n",
    "for tractInfo in skymap:\n",
    "    tractID = tractInfo.getId()\n",
    "    # is this tract in Auxtel tract list\n",
    "    if tractID in tractsId_list:\n",
    "        # keep tractInfo\n",
    "        tractsInfo_dict[tractID] = tractInfo \n",
    "        # keep WCS\n",
    "        tractsInfoWCS_dict[tractID] = tractInfo.getWcs()\n"
   ]
  },
  {
   "cell_type": "markdown",
   "id": "bbedfadf-e7c2-42f9-8d5d-919759c0e51b",
   "metadata": {},
   "source": [
    "### Sources and PreSources"
   ]
  },
  {
   "cell_type": "code",
   "execution_count": 13,
   "id": "907f5257-e80b-4336-b41f-5bf3745571bf",
   "metadata": {
    "execution": {
     "iopub.execute_input": "2024-01-03T17:41:42.679234Z",
     "iopub.status.busy": "2024-01-03T17:41:42.678958Z",
     "iopub.status.idle": "2024-01-03T17:41:42.681525Z",
     "shell.execute_reply": "2024-01-03T17:41:42.681180Z",
     "shell.execute_reply.started": "2024-01-03T17:41:42.679220Z"
    }
   },
   "outputs": [],
   "source": [
    "filepresource_in=\"preSourceTable_202312.csv\"\n",
    "filesource_in=\"sourceTable_202312.csv\""
   ]
  },
  {
   "cell_type": "markdown",
   "id": "291aea1b-af24-4cfa-a93f-532a2e478515",
   "metadata": {},
   "source": [
    "## Read Data"
   ]
  },
  {
   "cell_type": "code",
   "execution_count": 14,
   "id": "a4c4bc49-f65a-441c-8f51-82a27f7887d2",
   "metadata": {
    "execution": {
     "iopub.execute_input": "2024-01-03T17:41:44.349165Z",
     "iopub.status.busy": "2024-01-03T17:41:44.348880Z",
     "iopub.status.idle": "2024-01-03T17:42:23.380165Z",
     "shell.execute_reply": "2024-01-03T17:42:23.379697Z",
     "shell.execute_reply.started": "2024-01-03T17:41:44.349150Z"
    }
   },
   "outputs": [],
   "source": [
    "df_pres = pd.read_csv(filepresource_in)\n",
    "df_src = pd.read_csv(filesource_in)"
   ]
  },
  {
   "cell_type": "code",
   "execution_count": 15,
   "id": "2eb6111e-dcab-45f4-b450-eaa8c28f4d3d",
   "metadata": {
    "execution": {
     "iopub.execute_input": "2024-01-03T17:42:23.401066Z",
     "iopub.status.busy": "2024-01-03T17:42:23.400945Z",
     "iopub.status.idle": "2024-01-03T17:42:23.414619Z",
     "shell.execute_reply": "2024-01-03T17:42:23.414281Z",
     "shell.execute_reply.started": "2024-01-03T17:42:23.401054Z"
    }
   },
   "outputs": [
    {
     "data": {
      "text/html": [
       "<div>\n",
       "<style scoped>\n",
       "    .dataframe tbody tr th:only-of-type {\n",
       "        vertical-align: middle;\n",
       "    }\n",
       "\n",
       "    .dataframe tbody tr th {\n",
       "        vertical-align: top;\n",
       "    }\n",
       "\n",
       "    .dataframe thead th {\n",
       "        text-align: right;\n",
       "    }\n",
       "</style>\n",
       "<table border=\"1\" class=\"dataframe\">\n",
       "  <thead>\n",
       "    <tr style=\"text-align: right;\">\n",
       "      <th></th>\n",
       "      <th>sourceId</th>\n",
       "      <th>coord_ra</th>\n",
       "      <th>coord_dec</th>\n",
       "      <th>ccdVisitId</th>\n",
       "      <th>parentSourceId</th>\n",
       "      <th>x</th>\n",
       "      <th>y</th>\n",
       "      <th>xErr</th>\n",
       "      <th>yErr</th>\n",
       "      <th>ra</th>\n",
       "      <th>...</th>\n",
       "      <th>hsmShapeRegauss_flag_parent_source</th>\n",
       "      <th>sky_source</th>\n",
       "      <th>detect_isPrimary</th>\n",
       "      <th>visit</th>\n",
       "      <th>detector</th>\n",
       "      <th>band</th>\n",
       "      <th>physical_filter</th>\n",
       "      <th>visid_idx</th>\n",
       "      <th>dateobs</th>\n",
       "      <th>mjd</th>\n",
       "    </tr>\n",
       "  </thead>\n",
       "  <tbody>\n",
       "    <tr>\n",
       "      <th>0</th>\n",
       "      <td>175077975606165505</td>\n",
       "      <td>270.123104</td>\n",
       "      <td>-25.026300</td>\n",
       "      <td>41741842176</td>\n",
       "      <td>0</td>\n",
       "      <td>28.000000</td>\n",
       "      <td>36.000000</td>\n",
       "      <td>NaN</td>\n",
       "      <td>NaN</td>\n",
       "      <td>270.123104</td>\n",
       "      <td>...</td>\n",
       "      <td>False</td>\n",
       "      <td>False</td>\n",
       "      <td>True</td>\n",
       "      <td>2023081700503</td>\n",
       "      <td>0</td>\n",
       "      <td>g</td>\n",
       "      <td>SDSSg_65mm~empty</td>\n",
       "      <td>0</td>\n",
       "      <td>2023-08-18 04:24:02.590</td>\n",
       "      <td>60174.183363</td>\n",
       "    </tr>\n",
       "    <tr>\n",
       "      <th>1</th>\n",
       "      <td>175077975606165506</td>\n",
       "      <td>270.146958</td>\n",
       "      <td>-25.025264</td>\n",
       "      <td>41741842176</td>\n",
       "      <td>0</td>\n",
       "      <td>841.356901</td>\n",
       "      <td>65.210897</td>\n",
       "      <td>0.281312</td>\n",
       "      <td>0.237931</td>\n",
       "      <td>270.146958</td>\n",
       "      <td>...</td>\n",
       "      <td>False</td>\n",
       "      <td>False</td>\n",
       "      <td>True</td>\n",
       "      <td>2023081700503</td>\n",
       "      <td>0</td>\n",
       "      <td>g</td>\n",
       "      <td>SDSSg_65mm~empty</td>\n",
       "      <td>0</td>\n",
       "      <td>2023-08-18 04:24:02.590</td>\n",
       "      <td>60174.183363</td>\n",
       "    </tr>\n",
       "    <tr>\n",
       "      <th>2</th>\n",
       "      <td>175077975606165507</td>\n",
       "      <td>270.185965</td>\n",
       "      <td>-25.025121</td>\n",
       "      <td>41741842176</td>\n",
       "      <td>0</td>\n",
       "      <td>2170.703580</td>\n",
       "      <td>54.321945</td>\n",
       "      <td>0.036102</td>\n",
       "      <td>0.031955</td>\n",
       "      <td>270.185965</td>\n",
       "      <td>...</td>\n",
       "      <td>False</td>\n",
       "      <td>False</td>\n",
       "      <td>True</td>\n",
       "      <td>2023081700503</td>\n",
       "      <td>0</td>\n",
       "      <td>g</td>\n",
       "      <td>SDSSg_65mm~empty</td>\n",
       "      <td>0</td>\n",
       "      <td>2023-08-18 04:24:02.590</td>\n",
       "      <td>60174.183363</td>\n",
       "    </tr>\n",
       "    <tr>\n",
       "      <th>3</th>\n",
       "      <td>175077975606165508</td>\n",
       "      <td>270.214024</td>\n",
       "      <td>-25.025078</td>\n",
       "      <td>41741842176</td>\n",
       "      <td>0</td>\n",
       "      <td>3126.911888</td>\n",
       "      <td>43.979312</td>\n",
       "      <td>0.029372</td>\n",
       "      <td>0.025076</td>\n",
       "      <td>270.214024</td>\n",
       "      <td>...</td>\n",
       "      <td>False</td>\n",
       "      <td>False</td>\n",
       "      <td>True</td>\n",
       "      <td>2023081700503</td>\n",
       "      <td>0</td>\n",
       "      <td>g</td>\n",
       "      <td>SDSSg_65mm~empty</td>\n",
       "      <td>0</td>\n",
       "      <td>2023-08-18 04:24:02.590</td>\n",
       "      <td>60174.183363</td>\n",
       "    </tr>\n",
       "    <tr>\n",
       "      <th>4</th>\n",
       "      <td>175077975606165509</td>\n",
       "      <td>270.227852</td>\n",
       "      <td>-25.025344</td>\n",
       "      <td>41741842176</td>\n",
       "      <td>0</td>\n",
       "      <td>3598.000000</td>\n",
       "      <td>28.000000</td>\n",
       "      <td>NaN</td>\n",
       "      <td>NaN</td>\n",
       "      <td>270.227852</td>\n",
       "      <td>...</td>\n",
       "      <td>False</td>\n",
       "      <td>False</td>\n",
       "      <td>True</td>\n",
       "      <td>2023081700503</td>\n",
       "      <td>0</td>\n",
       "      <td>g</td>\n",
       "      <td>SDSSg_65mm~empty</td>\n",
       "      <td>0</td>\n",
       "      <td>2023-08-18 04:24:02.590</td>\n",
       "      <td>60174.183363</td>\n",
       "    </tr>\n",
       "  </tbody>\n",
       "</table>\n",
       "<p>5 rows × 166 columns</p>\n",
       "</div>"
      ],
      "text/plain": [
       "             sourceId    coord_ra  coord_dec   ccdVisitId  parentSourceId  \\\n",
       "0  175077975606165505  270.123104 -25.026300  41741842176               0   \n",
       "1  175077975606165506  270.146958 -25.025264  41741842176               0   \n",
       "2  175077975606165507  270.185965 -25.025121  41741842176               0   \n",
       "3  175077975606165508  270.214024 -25.025078  41741842176               0   \n",
       "4  175077975606165509  270.227852 -25.025344  41741842176               0   \n",
       "\n",
       "             x          y      xErr      yErr          ra  ...  \\\n",
       "0    28.000000  36.000000       NaN       NaN  270.123104  ...   \n",
       "1   841.356901  65.210897  0.281312  0.237931  270.146958  ...   \n",
       "2  2170.703580  54.321945  0.036102  0.031955  270.185965  ...   \n",
       "3  3126.911888  43.979312  0.029372  0.025076  270.214024  ...   \n",
       "4  3598.000000  28.000000       NaN       NaN  270.227852  ...   \n",
       "\n",
       "   hsmShapeRegauss_flag_parent_source  sky_source  detect_isPrimary  \\\n",
       "0                               False       False              True   \n",
       "1                               False       False              True   \n",
       "2                               False       False              True   \n",
       "3                               False       False              True   \n",
       "4                               False       False              True   \n",
       "\n",
       "           visit  detector  band   physical_filter  visid_idx  \\\n",
       "0  2023081700503         0     g  SDSSg_65mm~empty          0   \n",
       "1  2023081700503         0     g  SDSSg_65mm~empty          0   \n",
       "2  2023081700503         0     g  SDSSg_65mm~empty          0   \n",
       "3  2023081700503         0     g  SDSSg_65mm~empty          0   \n",
       "4  2023081700503         0     g  SDSSg_65mm~empty          0   \n",
       "\n",
       "                   dateobs           mjd  \n",
       "0  2023-08-18 04:24:02.590  60174.183363  \n",
       "1  2023-08-18 04:24:02.590  60174.183363  \n",
       "2  2023-08-18 04:24:02.590  60174.183363  \n",
       "3  2023-08-18 04:24:02.590  60174.183363  \n",
       "4  2023-08-18 04:24:02.590  60174.183363  \n",
       "\n",
       "[5 rows x 166 columns]"
      ]
     },
     "execution_count": 15,
     "metadata": {},
     "output_type": "execute_result"
    }
   ],
   "source": [
    "df_src.head()"
   ]
  },
  {
   "cell_type": "code",
   "execution_count": 16,
   "id": "f520bf2a-9b47-4748-9503-3896eac2dda3",
   "metadata": {
    "execution": {
     "iopub.execute_input": "2024-01-03T17:42:23.415619Z",
     "iopub.status.busy": "2024-01-03T17:42:23.415493Z",
     "iopub.status.idle": "2024-01-03T17:42:23.425829Z",
     "shell.execute_reply": "2024-01-03T17:42:23.425447Z",
     "shell.execute_reply.started": "2024-01-03T17:42:23.415607Z"
    }
   },
   "outputs": [
    {
     "data": {
      "text/html": [
       "<div>\n",
       "<style scoped>\n",
       "    .dataframe tbody tr th:only-of-type {\n",
       "        vertical-align: middle;\n",
       "    }\n",
       "\n",
       "    .dataframe tbody tr th {\n",
       "        vertical-align: top;\n",
       "    }\n",
       "\n",
       "    .dataframe thead th {\n",
       "        text-align: right;\n",
       "    }\n",
       "</style>\n",
       "<table border=\"1\" class=\"dataframe\">\n",
       "  <thead>\n",
       "    <tr style=\"text-align: right;\">\n",
       "      <th></th>\n",
       "      <th>sourceId</th>\n",
       "      <th>coord_ra</th>\n",
       "      <th>coord_dec</th>\n",
       "      <th>ccdVisitId</th>\n",
       "      <th>parentSourceId</th>\n",
       "      <th>x</th>\n",
       "      <th>y</th>\n",
       "      <th>xErr</th>\n",
       "      <th>yErr</th>\n",
       "      <th>ra</th>\n",
       "      <th>...</th>\n",
       "      <th>hsmShapeRegauss_flag_parent_source</th>\n",
       "      <th>sky_source</th>\n",
       "      <th>detect_isPrimary</th>\n",
       "      <th>visit</th>\n",
       "      <th>detector</th>\n",
       "      <th>band</th>\n",
       "      <th>physical_filter</th>\n",
       "      <th>visid_idx</th>\n",
       "      <th>dateobs</th>\n",
       "      <th>mjd</th>\n",
       "    </tr>\n",
       "  </thead>\n",
       "  <tbody>\n",
       "    <tr>\n",
       "      <th>0</th>\n",
       "      <td>174092471737778177</td>\n",
       "      <td>240.035971</td>\n",
       "      <td>-24.102006</td>\n",
       "      <td>41506879744</td>\n",
       "      <td>0</td>\n",
       "      <td>971.000000</td>\n",
       "      <td>18.000000</td>\n",
       "      <td>NaN</td>\n",
       "      <td>NaN</td>\n",
       "      <td>240.035971</td>\n",
       "      <td>...</td>\n",
       "      <td>False</td>\n",
       "      <td>False</td>\n",
       "      <td>True</td>\n",
       "      <td>2023072000185</td>\n",
       "      <td>0</td>\n",
       "      <td>i</td>\n",
       "      <td>SDSSi_65mm~empty</td>\n",
       "      <td>0</td>\n",
       "      <td>2023-07-21 01:18:49.927</td>\n",
       "      <td>60146.054745</td>\n",
       "    </tr>\n",
       "    <tr>\n",
       "      <th>1</th>\n",
       "      <td>174092471737778178</td>\n",
       "      <td>240.114481</td>\n",
       "      <td>-24.101061</td>\n",
       "      <td>41506879744</td>\n",
       "      <td>0</td>\n",
       "      <td>3668.000000</td>\n",
       "      <td>18.000000</td>\n",
       "      <td>NaN</td>\n",
       "      <td>NaN</td>\n",
       "      <td>240.114481</td>\n",
       "      <td>...</td>\n",
       "      <td>False</td>\n",
       "      <td>False</td>\n",
       "      <td>True</td>\n",
       "      <td>2023072000185</td>\n",
       "      <td>0</td>\n",
       "      <td>i</td>\n",
       "      <td>SDSSi_65mm~empty</td>\n",
       "      <td>0</td>\n",
       "      <td>2023-07-21 01:18:49.927</td>\n",
       "      <td>60146.054745</td>\n",
       "    </tr>\n",
       "    <tr>\n",
       "      <th>2</th>\n",
       "      <td>174092471737778179</td>\n",
       "      <td>240.050174</td>\n",
       "      <td>-24.100808</td>\n",
       "      <td>41506879744</td>\n",
       "      <td>0</td>\n",
       "      <td>1459.423140</td>\n",
       "      <td>56.758008</td>\n",
       "      <td>0.218000</td>\n",
       "      <td>0.190530</td>\n",
       "      <td>240.050174</td>\n",
       "      <td>...</td>\n",
       "      <td>False</td>\n",
       "      <td>False</td>\n",
       "      <td>True</td>\n",
       "      <td>2023072000185</td>\n",
       "      <td>0</td>\n",
       "      <td>i</td>\n",
       "      <td>SDSSi_65mm~empty</td>\n",
       "      <td>0</td>\n",
       "      <td>2023-07-21 01:18:49.927</td>\n",
       "      <td>60146.054745</td>\n",
       "    </tr>\n",
       "    <tr>\n",
       "      <th>3</th>\n",
       "      <td>174092471737778180</td>\n",
       "      <td>240.056853</td>\n",
       "      <td>-24.100218</td>\n",
       "      <td>41506879744</td>\n",
       "      <td>0</td>\n",
       "      <td>1689.114439</td>\n",
       "      <td>75.950081</td>\n",
       "      <td>0.339048</td>\n",
       "      <td>0.381324</td>\n",
       "      <td>240.056853</td>\n",
       "      <td>...</td>\n",
       "      <td>False</td>\n",
       "      <td>False</td>\n",
       "      <td>True</td>\n",
       "      <td>2023072000185</td>\n",
       "      <td>0</td>\n",
       "      <td>i</td>\n",
       "      <td>SDSSi_65mm~empty</td>\n",
       "      <td>0</td>\n",
       "      <td>2023-07-21 01:18:49.927</td>\n",
       "      <td>60146.054745</td>\n",
       "    </tr>\n",
       "    <tr>\n",
       "      <th>4</th>\n",
       "      <td>174092471737778181</td>\n",
       "      <td>240.095234</td>\n",
       "      <td>-24.099785</td>\n",
       "      <td>41506879744</td>\n",
       "      <td>0</td>\n",
       "      <td>3007.604922</td>\n",
       "      <td>74.842679</td>\n",
       "      <td>0.366987</td>\n",
       "      <td>0.293205</td>\n",
       "      <td>240.095234</td>\n",
       "      <td>...</td>\n",
       "      <td>False</td>\n",
       "      <td>False</td>\n",
       "      <td>True</td>\n",
       "      <td>2023072000185</td>\n",
       "      <td>0</td>\n",
       "      <td>i</td>\n",
       "      <td>SDSSi_65mm~empty</td>\n",
       "      <td>0</td>\n",
       "      <td>2023-07-21 01:18:49.927</td>\n",
       "      <td>60146.054745</td>\n",
       "    </tr>\n",
       "  </tbody>\n",
       "</table>\n",
       "<p>5 rows × 166 columns</p>\n",
       "</div>"
      ],
      "text/plain": [
       "             sourceId    coord_ra  coord_dec   ccdVisitId  parentSourceId  \\\n",
       "0  174092471737778177  240.035971 -24.102006  41506879744               0   \n",
       "1  174092471737778178  240.114481 -24.101061  41506879744               0   \n",
       "2  174092471737778179  240.050174 -24.100808  41506879744               0   \n",
       "3  174092471737778180  240.056853 -24.100218  41506879744               0   \n",
       "4  174092471737778181  240.095234 -24.099785  41506879744               0   \n",
       "\n",
       "             x          y      xErr      yErr          ra  ...  \\\n",
       "0   971.000000  18.000000       NaN       NaN  240.035971  ...   \n",
       "1  3668.000000  18.000000       NaN       NaN  240.114481  ...   \n",
       "2  1459.423140  56.758008  0.218000  0.190530  240.050174  ...   \n",
       "3  1689.114439  75.950081  0.339048  0.381324  240.056853  ...   \n",
       "4  3007.604922  74.842679  0.366987  0.293205  240.095234  ...   \n",
       "\n",
       "   hsmShapeRegauss_flag_parent_source  sky_source  detect_isPrimary  \\\n",
       "0                               False       False              True   \n",
       "1                               False       False              True   \n",
       "2                               False       False              True   \n",
       "3                               False       False              True   \n",
       "4                               False       False              True   \n",
       "\n",
       "           visit  detector  band   physical_filter  visid_idx  \\\n",
       "0  2023072000185         0     i  SDSSi_65mm~empty          0   \n",
       "1  2023072000185         0     i  SDSSi_65mm~empty          0   \n",
       "2  2023072000185         0     i  SDSSi_65mm~empty          0   \n",
       "3  2023072000185         0     i  SDSSi_65mm~empty          0   \n",
       "4  2023072000185         0     i  SDSSi_65mm~empty          0   \n",
       "\n",
       "                   dateobs           mjd  \n",
       "0  2023-07-21 01:18:49.927  60146.054745  \n",
       "1  2023-07-21 01:18:49.927  60146.054745  \n",
       "2  2023-07-21 01:18:49.927  60146.054745  \n",
       "3  2023-07-21 01:18:49.927  60146.054745  \n",
       "4  2023-07-21 01:18:49.927  60146.054745  \n",
       "\n",
       "[5 rows x 166 columns]"
      ]
     },
     "execution_count": 16,
     "metadata": {},
     "output_type": "execute_result"
    }
   ],
   "source": [
    "df_pres.head()"
   ]
  },
  {
   "cell_type": "code",
   "execution_count": 17,
   "id": "4b23eb74-c343-450f-a9ea-bff1b6603972",
   "metadata": {
    "execution": {
     "iopub.execute_input": "2024-01-03T17:42:23.426377Z",
     "iopub.status.busy": "2024-01-03T17:42:23.426263Z",
     "iopub.status.idle": "2024-01-03T17:42:23.447945Z",
     "shell.execute_reply": "2024-01-03T17:42:23.447441Z",
     "shell.execute_reply.started": "2024-01-03T17:42:23.426367Z"
    }
   },
   "outputs": [],
   "source": [
    "df_p = df_pres[['sourceId','ccdVisitId','x','y','ra','dec','coord_ra','coord_dec','psfFlux','gaussianFlux','visit','band','visid_idx','mjd','dateobs','extendedness_flag','detect_isPrimary']]"
   ]
  },
  {
   "cell_type": "code",
   "execution_count": 18,
   "id": "d138efc4-acc2-40a9-a7de-babcdd1d9617",
   "metadata": {
    "execution": {
     "iopub.execute_input": "2024-01-03T17:42:23.449895Z",
     "iopub.status.busy": "2024-01-03T17:42:23.449593Z",
     "iopub.status.idle": "2024-01-03T17:42:23.470192Z",
     "shell.execute_reply": "2024-01-03T17:42:23.469748Z",
     "shell.execute_reply.started": "2024-01-03T17:42:23.449880Z"
    }
   },
   "outputs": [],
   "source": [
    "df_s = df_src[['sourceId','ccdVisitId','x','y','ra','dec','coord_ra','coord_dec','psfFlux','gaussianFlux','visit','band','visid_idx','mjd','dateobs','extendedness_flag','detect_isPrimary']]"
   ]
  },
  {
   "cell_type": "code",
   "execution_count": 19,
   "id": "30914e6f-52fd-4eb3-bbc1-23ff66a89188",
   "metadata": {
    "execution": {
     "iopub.execute_input": "2024-01-03T17:42:23.470912Z",
     "iopub.status.busy": "2024-01-03T17:42:23.470787Z",
     "iopub.status.idle": "2024-01-03T17:42:28.885609Z",
     "shell.execute_reply": "2024-01-03T17:42:28.885139Z",
     "shell.execute_reply.started": "2024-01-03T17:42:23.470895Z"
    }
   },
   "outputs": [
    {
     "name": "stderr",
     "output_type": "stream",
     "text": [
      "/tmp/ipykernel_41354/4088867659.py:12: RuntimeWarning: invalid value encountered in log10\n",
      "  return -2.50 * np.log10(x) + 31.4\n",
      "/tmp/ipykernel_41354/1289463486.py:1: SettingWithCopyWarning: \n",
      "A value is trying to be set on a copy of a slice from a DataFrame.\n",
      "Try using .loc[row_indexer,col_indexer] = value instead\n",
      "\n",
      "See the caveats in the documentation: https://pandas.pydata.org/pandas-docs/stable/user_guide/indexing.html#returning-a-view-versus-a-copy\n",
      "  df_s[\"psfMag\"] =  df_s['psfFlux'].map(convert_fluxtomag)\n",
      "/tmp/ipykernel_41354/4088867659.py:12: RuntimeWarning: invalid value encountered in log10\n",
      "  return -2.50 * np.log10(x) + 31.4\n",
      "/tmp/ipykernel_41354/4088867659.py:12: RuntimeWarning: divide by zero encountered in log10\n",
      "  return -2.50 * np.log10(x) + 31.4\n",
      "/tmp/ipykernel_41354/1289463486.py:3: SettingWithCopyWarning: \n",
      "A value is trying to be set on a copy of a slice from a DataFrame.\n",
      "Try using .loc[row_indexer,col_indexer] = value instead\n",
      "\n",
      "See the caveats in the documentation: https://pandas.pydata.org/pandas-docs/stable/user_guide/indexing.html#returning-a-view-versus-a-copy\n",
      "  df_s[\"gaussianMag\"] =  df_s['gaussianFlux'].map(convert_fluxtomag)\n",
      "/tmp/ipykernel_41354/4088867659.py:12: RuntimeWarning: invalid value encountered in log10\n",
      "  return -2.50 * np.log10(x) + 31.4\n",
      "/tmp/ipykernel_41354/1289463486.py:5: SettingWithCopyWarning: \n",
      "A value is trying to be set on a copy of a slice from a DataFrame.\n",
      "Try using .loc[row_indexer,col_indexer] = value instead\n",
      "\n",
      "See the caveats in the documentation: https://pandas.pydata.org/pandas-docs/stable/user_guide/indexing.html#returning-a-view-versus-a-copy\n",
      "  df_p[\"psfMag\"] =  df_p['psfFlux'].map(convert_fluxtomag)\n",
      "/tmp/ipykernel_41354/4088867659.py:12: RuntimeWarning: invalid value encountered in log10\n",
      "  return -2.50 * np.log10(x) + 31.4\n",
      "/tmp/ipykernel_41354/4088867659.py:12: RuntimeWarning: divide by zero encountered in log10\n",
      "  return -2.50 * np.log10(x) + 31.4\n",
      "/tmp/ipykernel_41354/1289463486.py:7: SettingWithCopyWarning: \n",
      "A value is trying to be set on a copy of a slice from a DataFrame.\n",
      "Try using .loc[row_indexer,col_indexer] = value instead\n",
      "\n",
      "See the caveats in the documentation: https://pandas.pydata.org/pandas-docs/stable/user_guide/indexing.html#returning-a-view-versus-a-copy\n",
      "  df_p[\"gaussianMag\"] =  df_p['gaussianFlux'].map(convert_fluxtomag)\n"
     ]
    }
   ],
   "source": [
    "df_s[\"psfMag\"] =  df_s['psfFlux'].map(convert_fluxtomag)\n",
    "#df_sel[\"gaussianMag\"] =  df_sel['gaussianFlux'].map(lambda x:-2.50 * np.log10(x) + 31.4)\n",
    "df_s[\"gaussianMag\"] =  df_s['gaussianFlux'].map(convert_fluxtomag)\n",
    "\n",
    "df_p[\"psfMag\"] =  df_p['psfFlux'].map(convert_fluxtomag)\n",
    "#df_sel[\"gaussianMag\"] =  df_sel['gaussianFlux'].map(lambda x:-2.50 * np.log10(x) + 31.4)\n",
    "df_p[\"gaussianMag\"] =  df_p['gaussianFlux'].map(convert_fluxtomag)"
   ]
  },
  {
   "cell_type": "code",
   "execution_count": 20,
   "id": "b5458f28-5032-4720-a388-636dd8c40425",
   "metadata": {
    "execution": {
     "iopub.execute_input": "2024-01-03T17:42:28.886337Z",
     "iopub.status.busy": "2024-01-03T17:42:28.886202Z",
     "iopub.status.idle": "2024-01-03T17:42:29.094559Z",
     "shell.execute_reply": "2024-01-03T17:42:29.094098Z",
     "shell.execute_reply.started": "2024-01-03T17:42:28.886324Z"
    }
   },
   "outputs": [],
   "source": [
    "df_s= df_s[df_s['extendedness_flag']==False & df_s['detect_isPrimary']]\n",
    "df_s.dropna(axis=0,inplace = True)"
   ]
  },
  {
   "cell_type": "code",
   "execution_count": 21,
   "id": "f48573a3-24d2-4149-b861-e291ebac8091",
   "metadata": {
    "execution": {
     "iopub.execute_input": "2024-01-03T17:42:29.095250Z",
     "iopub.status.busy": "2024-01-03T17:42:29.095128Z",
     "iopub.status.idle": "2024-01-03T17:42:29.335137Z",
     "shell.execute_reply": "2024-01-03T17:42:29.334666Z",
     "shell.execute_reply.started": "2024-01-03T17:42:29.095238Z"
    }
   },
   "outputs": [],
   "source": [
    "df_p = df_p[df_p['extendedness_flag']==False & df_p['detect_isPrimary']]\n",
    "df_p.dropna(axis=0,inplace = True)"
   ]
  },
  {
   "cell_type": "markdown",
   "id": "31730c69-2e1d-4eb7-a274-2b81abbf0bf1",
   "metadata": {},
   "source": [
    "## Merge"
   ]
  },
  {
   "cell_type": "code",
   "execution_count": 22,
   "id": "46caaa2a-1b39-4042-95c5-9d15d0872ca5",
   "metadata": {
    "execution": {
     "iopub.execute_input": "2024-01-03T17:42:35.557963Z",
     "iopub.status.busy": "2024-01-03T17:42:35.557651Z",
     "iopub.status.idle": "2024-01-03T17:42:35.768282Z",
     "shell.execute_reply": "2024-01-03T17:42:35.767820Z",
     "shell.execute_reply.started": "2024-01-03T17:42:35.557948Z"
    }
   },
   "outputs": [],
   "source": [
    "df_m = df_p.merge(df_s, left_on='sourceId', right_on='sourceId',suffixes=('_p', '_s'))"
   ]
  },
  {
   "cell_type": "code",
   "execution_count": 24,
   "id": "81d5db76-3a09-4818-84e7-2a5a7e14461d",
   "metadata": {
    "execution": {
     "iopub.execute_input": "2024-01-03T17:42:43.082989Z",
     "iopub.status.busy": "2024-01-03T17:42:43.082727Z",
     "iopub.status.idle": "2024-01-03T17:42:43.094274Z",
     "shell.execute_reply": "2024-01-03T17:42:43.093923Z",
     "shell.execute_reply.started": "2024-01-03T17:42:43.082974Z"
    }
   },
   "outputs": [
    {
     "data": {
      "text/html": [
       "<div>\n",
       "<style scoped>\n",
       "    .dataframe tbody tr th:only-of-type {\n",
       "        vertical-align: middle;\n",
       "    }\n",
       "\n",
       "    .dataframe tbody tr th {\n",
       "        vertical-align: top;\n",
       "    }\n",
       "\n",
       "    .dataframe thead th {\n",
       "        text-align: right;\n",
       "    }\n",
       "</style>\n",
       "<table border=\"1\" class=\"dataframe\">\n",
       "  <thead>\n",
       "    <tr style=\"text-align: right;\">\n",
       "      <th></th>\n",
       "      <th>sourceId</th>\n",
       "      <th>ccdVisitId_p</th>\n",
       "      <th>x_p</th>\n",
       "      <th>y_p</th>\n",
       "      <th>ra_p</th>\n",
       "      <th>dec_p</th>\n",
       "      <th>coord_ra_p</th>\n",
       "      <th>coord_dec_p</th>\n",
       "      <th>psfFlux_p</th>\n",
       "      <th>gaussianFlux_p</th>\n",
       "      <th>...</th>\n",
       "      <th>gaussianFlux_s</th>\n",
       "      <th>visit_s</th>\n",
       "      <th>band_s</th>\n",
       "      <th>visid_idx_s</th>\n",
       "      <th>mjd_s</th>\n",
       "      <th>dateobs_s</th>\n",
       "      <th>extendedness_flag_s</th>\n",
       "      <th>detect_isPrimary_s</th>\n",
       "      <th>psfMag_s</th>\n",
       "      <th>gaussianMag_s</th>\n",
       "    </tr>\n",
       "  </thead>\n",
       "  <tbody>\n",
       "    <tr>\n",
       "      <th>0</th>\n",
       "      <td>174092471737778179</td>\n",
       "      <td>41506879744</td>\n",
       "      <td>1459.423140</td>\n",
       "      <td>56.758008</td>\n",
       "      <td>240.050174</td>\n",
       "      <td>-24.100808</td>\n",
       "      <td>240.050174</td>\n",
       "      <td>-24.100808</td>\n",
       "      <td>1.199960e+06</td>\n",
       "      <td>1.232448e+06</td>\n",
       "      <td>...</td>\n",
       "      <td>1.210818e+06</td>\n",
       "      <td>2023072000185</td>\n",
       "      <td>i</td>\n",
       "      <td>42</td>\n",
       "      <td>60146.054745</td>\n",
       "      <td>2023-07-21 01:18:49.927</td>\n",
       "      <td>False</td>\n",
       "      <td>True</td>\n",
       "      <td>16.221307</td>\n",
       "      <td>16.192303</td>\n",
       "    </tr>\n",
       "    <tr>\n",
       "      <th>1</th>\n",
       "      <td>174092471737778180</td>\n",
       "      <td>41506879744</td>\n",
       "      <td>1689.114439</td>\n",
       "      <td>75.950081</td>\n",
       "      <td>240.056853</td>\n",
       "      <td>-24.100218</td>\n",
       "      <td>240.056853</td>\n",
       "      <td>-24.100218</td>\n",
       "      <td>3.211502e+05</td>\n",
       "      <td>3.671762e+05</td>\n",
       "      <td>...</td>\n",
       "      <td>3.616223e+05</td>\n",
       "      <td>2023072000185</td>\n",
       "      <td>i</td>\n",
       "      <td>42</td>\n",
       "      <td>60146.054745</td>\n",
       "      <td>2023-07-21 01:18:49.927</td>\n",
       "      <td>False</td>\n",
       "      <td>True</td>\n",
       "      <td>17.649778</td>\n",
       "      <td>17.504362</td>\n",
       "    </tr>\n",
       "    <tr>\n",
       "      <th>2</th>\n",
       "      <td>174092471737778181</td>\n",
       "      <td>41506879744</td>\n",
       "      <td>3007.604922</td>\n",
       "      <td>74.842679</td>\n",
       "      <td>240.095234</td>\n",
       "      <td>-24.099785</td>\n",
       "      <td>240.095234</td>\n",
       "      <td>-24.099785</td>\n",
       "      <td>6.535161e+05</td>\n",
       "      <td>6.485894e+05</td>\n",
       "      <td>...</td>\n",
       "      <td>6.501823e+05</td>\n",
       "      <td>2023072000185</td>\n",
       "      <td>i</td>\n",
       "      <td>42</td>\n",
       "      <td>60146.054745</td>\n",
       "      <td>2023-07-21 01:18:49.927</td>\n",
       "      <td>False</td>\n",
       "      <td>True</td>\n",
       "      <td>16.859196</td>\n",
       "      <td>16.867412</td>\n",
       "    </tr>\n",
       "    <tr>\n",
       "      <th>3</th>\n",
       "      <td>174092471737778182</td>\n",
       "      <td>41506879744</td>\n",
       "      <td>1067.365729</td>\n",
       "      <td>85.899514</td>\n",
       "      <td>240.038750</td>\n",
       "      <td>-24.100168</td>\n",
       "      <td>240.038750</td>\n",
       "      <td>-24.100168</td>\n",
       "      <td>2.687373e+05</td>\n",
       "      <td>2.940699e+05</td>\n",
       "      <td>...</td>\n",
       "      <td>2.881895e+05</td>\n",
       "      <td>2023072000185</td>\n",
       "      <td>i</td>\n",
       "      <td>42</td>\n",
       "      <td>60146.054745</td>\n",
       "      <td>2023-07-21 01:18:49.927</td>\n",
       "      <td>False</td>\n",
       "      <td>True</td>\n",
       "      <td>17.848611</td>\n",
       "      <td>17.750804</td>\n",
       "    </tr>\n",
       "    <tr>\n",
       "      <th>4</th>\n",
       "      <td>174092471737778183</td>\n",
       "      <td>41506879744</td>\n",
       "      <td>1015.704829</td>\n",
       "      <td>101.648672</td>\n",
       "      <td>240.037240</td>\n",
       "      <td>-24.099767</td>\n",
       "      <td>240.037240</td>\n",
       "      <td>-24.099767</td>\n",
       "      <td>1.462395e+05</td>\n",
       "      <td>1.497408e+05</td>\n",
       "      <td>...</td>\n",
       "      <td>1.467319e+05</td>\n",
       "      <td>2023072000185</td>\n",
       "      <td>i</td>\n",
       "      <td>42</td>\n",
       "      <td>60146.054745</td>\n",
       "      <td>2023-07-21 01:18:49.927</td>\n",
       "      <td>False</td>\n",
       "      <td>True</td>\n",
       "      <td>18.509377</td>\n",
       "      <td>18.483688</td>\n",
       "    </tr>\n",
       "  </tbody>\n",
       "</table>\n",
       "<p>5 rows × 37 columns</p>\n",
       "</div>"
      ],
      "text/plain": [
       "             sourceId  ccdVisitId_p          x_p         y_p        ra_p  \\\n",
       "0  174092471737778179   41506879744  1459.423140   56.758008  240.050174   \n",
       "1  174092471737778180   41506879744  1689.114439   75.950081  240.056853   \n",
       "2  174092471737778181   41506879744  3007.604922   74.842679  240.095234   \n",
       "3  174092471737778182   41506879744  1067.365729   85.899514  240.038750   \n",
       "4  174092471737778183   41506879744  1015.704829  101.648672  240.037240   \n",
       "\n",
       "       dec_p  coord_ra_p  coord_dec_p     psfFlux_p  gaussianFlux_p  ...  \\\n",
       "0 -24.100808  240.050174   -24.100808  1.199960e+06    1.232448e+06  ...   \n",
       "1 -24.100218  240.056853   -24.100218  3.211502e+05    3.671762e+05  ...   \n",
       "2 -24.099785  240.095234   -24.099785  6.535161e+05    6.485894e+05  ...   \n",
       "3 -24.100168  240.038750   -24.100168  2.687373e+05    2.940699e+05  ...   \n",
       "4 -24.099767  240.037240   -24.099767  1.462395e+05    1.497408e+05  ...   \n",
       "\n",
       "   gaussianFlux_s        visit_s  band_s  visid_idx_s         mjd_s  \\\n",
       "0    1.210818e+06  2023072000185       i           42  60146.054745   \n",
       "1    3.616223e+05  2023072000185       i           42  60146.054745   \n",
       "2    6.501823e+05  2023072000185       i           42  60146.054745   \n",
       "3    2.881895e+05  2023072000185       i           42  60146.054745   \n",
       "4    1.467319e+05  2023072000185       i           42  60146.054745   \n",
       "\n",
       "                 dateobs_s  extendedness_flag_s  detect_isPrimary_s  \\\n",
       "0  2023-07-21 01:18:49.927                False                True   \n",
       "1  2023-07-21 01:18:49.927                False                True   \n",
       "2  2023-07-21 01:18:49.927                False                True   \n",
       "3  2023-07-21 01:18:49.927                False                True   \n",
       "4  2023-07-21 01:18:49.927                False                True   \n",
       "\n",
       "    psfMag_s  gaussianMag_s  \n",
       "0  16.221307      16.192303  \n",
       "1  17.649778      17.504362  \n",
       "2  16.859196      16.867412  \n",
       "3  17.848611      17.750804  \n",
       "4  18.509377      18.483688  \n",
       "\n",
       "[5 rows x 37 columns]"
      ]
     },
     "execution_count": 24,
     "metadata": {},
     "output_type": "execute_result"
    }
   ],
   "source": [
    "df_m.head()"
   ]
  },
  {
   "cell_type": "code",
   "execution_count": 37,
   "id": "338619de-a009-4350-8477-f070c2182f5a",
   "metadata": {
    "execution": {
     "iopub.execute_input": "2024-01-03T20:17:05.959967Z",
     "iopub.status.busy": "2024-01-03T20:17:05.959460Z",
     "iopub.status.idle": "2024-01-03T20:17:05.961855Z",
     "shell.execute_reply": "2024-01-03T20:17:05.961497Z",
     "shell.execute_reply.started": "2024-01-03T20:17:05.959950Z"
    }
   },
   "outputs": [],
   "source": [
    "#list_cols = list(df_m.columns)\n",
    "#for e in list_cols:\n",
    "#    print(e)"
   ]
  },
  {
   "cell_type": "code",
   "execution_count": 38,
   "id": "de5447cb-d025-4f47-a491-5fc75e204c6d",
   "metadata": {
    "execution": {
     "iopub.execute_input": "2024-01-03T20:18:11.970525Z",
     "iopub.status.busy": "2024-01-03T20:18:11.970288Z",
     "iopub.status.idle": "2024-01-03T20:18:11.973807Z",
     "shell.execute_reply": "2024-01-03T20:18:11.973448Z",
     "shell.execute_reply.started": "2024-01-03T20:18:11.970510Z"
    }
   },
   "outputs": [],
   "source": [
    "df_m[\"ra\"] = df_m[\"ra_s\"]\n",
    "df_m[\"dec\"] = df_m[\"dec_s\"]"
   ]
  },
  {
   "cell_type": "code",
   "execution_count": 39,
   "id": "3fd55415-f837-4d11-83c7-1e59ff828180",
   "metadata": {
    "execution": {
     "iopub.execute_input": "2024-01-03T20:18:13.628994Z",
     "iopub.status.busy": "2024-01-03T20:18:13.628745Z",
     "iopub.status.idle": "2024-01-03T22:45:33.328382Z",
     "shell.execute_reply": "2024-01-03T22:45:33.327745Z",
     "shell.execute_reply.started": "2024-01-03T20:18:13.628977Z"
    }
   },
   "outputs": [],
   "source": [
    "df_m[[\"patchID\",\"tractID\"]] = df_m.apply( FindTractAndPatch, axis=1,result_type ='expand')"
   ]
  },
  {
   "cell_type": "code",
   "execution_count": 40,
   "id": "e4d88e22-82a2-4e28-ab98-2270c3374324",
   "metadata": {
    "execution": {
     "iopub.execute_input": "2024-01-03T23:01:09.988420Z",
     "iopub.status.busy": "2024-01-03T23:01:09.987952Z",
     "iopub.status.idle": "2024-01-03T23:01:10.048553Z",
     "shell.execute_reply": "2024-01-03T23:01:10.048136Z",
     "shell.execute_reply.started": "2024-01-03T23:01:09.988405Z"
    }
   },
   "outputs": [
    {
     "data": {
      "text/html": [
       "<div>\n",
       "<style scoped>\n",
       "    .dataframe tbody tr th:only-of-type {\n",
       "        vertical-align: middle;\n",
       "    }\n",
       "\n",
       "    .dataframe tbody tr th {\n",
       "        vertical-align: top;\n",
       "    }\n",
       "\n",
       "    .dataframe thead th {\n",
       "        text-align: right;\n",
       "    }\n",
       "</style>\n",
       "<table border=\"1\" class=\"dataframe\">\n",
       "  <thead>\n",
       "    <tr style=\"text-align: right;\">\n",
       "      <th></th>\n",
       "      <th>sourceId</th>\n",
       "      <th>ccdVisitId_p</th>\n",
       "      <th>x_p</th>\n",
       "      <th>y_p</th>\n",
       "      <th>ra_p</th>\n",
       "      <th>dec_p</th>\n",
       "      <th>coord_ra_p</th>\n",
       "      <th>coord_dec_p</th>\n",
       "      <th>psfFlux_p</th>\n",
       "      <th>gaussianFlux_p</th>\n",
       "      <th>...</th>\n",
       "      <th>mjd_s</th>\n",
       "      <th>dateobs_s</th>\n",
       "      <th>extendedness_flag_s</th>\n",
       "      <th>detect_isPrimary_s</th>\n",
       "      <th>psfMag_s</th>\n",
       "      <th>gaussianMag_s</th>\n",
       "      <th>ra</th>\n",
       "      <th>dec</th>\n",
       "      <th>patchID</th>\n",
       "      <th>tractID</th>\n",
       "    </tr>\n",
       "  </thead>\n",
       "  <tbody>\n",
       "    <tr>\n",
       "      <th>0</th>\n",
       "      <td>174092471737778179</td>\n",
       "      <td>41506879744</td>\n",
       "      <td>1459.423140</td>\n",
       "      <td>56.758008</td>\n",
       "      <td>240.050174</td>\n",
       "      <td>-24.100808</td>\n",
       "      <td>240.050174</td>\n",
       "      <td>-24.100808</td>\n",
       "      <td>1.199960e+06</td>\n",
       "      <td>1.232448e+06</td>\n",
       "      <td>...</td>\n",
       "      <td>60146.054745</td>\n",
       "      <td>2023-07-21 01:18:49.927</td>\n",
       "      <td>False</td>\n",
       "      <td>True</td>\n",
       "      <td>16.221307</td>\n",
       "      <td>16.192303</td>\n",
       "      <td>240.050174</td>\n",
       "      <td>-24.100808</td>\n",
       "      <td>5615</td>\n",
       "      <td>274</td>\n",
       "    </tr>\n",
       "    <tr>\n",
       "      <th>1</th>\n",
       "      <td>174092471737778180</td>\n",
       "      <td>41506879744</td>\n",
       "      <td>1689.114439</td>\n",
       "      <td>75.950081</td>\n",
       "      <td>240.056853</td>\n",
       "      <td>-24.100218</td>\n",
       "      <td>240.056853</td>\n",
       "      <td>-24.100218</td>\n",
       "      <td>3.211502e+05</td>\n",
       "      <td>3.671762e+05</td>\n",
       "      <td>...</td>\n",
       "      <td>60146.054745</td>\n",
       "      <td>2023-07-21 01:18:49.927</td>\n",
       "      <td>False</td>\n",
       "      <td>True</td>\n",
       "      <td>17.649778</td>\n",
       "      <td>17.504362</td>\n",
       "      <td>240.056853</td>\n",
       "      <td>-24.100218</td>\n",
       "      <td>5615</td>\n",
       "      <td>274</td>\n",
       "    </tr>\n",
       "    <tr>\n",
       "      <th>2</th>\n",
       "      <td>174092471737778181</td>\n",
       "      <td>41506879744</td>\n",
       "      <td>3007.604922</td>\n",
       "      <td>74.842679</td>\n",
       "      <td>240.095234</td>\n",
       "      <td>-24.099785</td>\n",
       "      <td>240.095234</td>\n",
       "      <td>-24.099785</td>\n",
       "      <td>6.535161e+05</td>\n",
       "      <td>6.485894e+05</td>\n",
       "      <td>...</td>\n",
       "      <td>60146.054745</td>\n",
       "      <td>2023-07-21 01:18:49.927</td>\n",
       "      <td>False</td>\n",
       "      <td>True</td>\n",
       "      <td>16.859196</td>\n",
       "      <td>16.867412</td>\n",
       "      <td>240.095234</td>\n",
       "      <td>-24.099785</td>\n",
       "      <td>5615</td>\n",
       "      <td>274</td>\n",
       "    </tr>\n",
       "    <tr>\n",
       "      <th>3</th>\n",
       "      <td>174092471737778182</td>\n",
       "      <td>41506879744</td>\n",
       "      <td>1067.365729</td>\n",
       "      <td>85.899514</td>\n",
       "      <td>240.038750</td>\n",
       "      <td>-24.100168</td>\n",
       "      <td>240.038750</td>\n",
       "      <td>-24.100168</td>\n",
       "      <td>2.687373e+05</td>\n",
       "      <td>2.940699e+05</td>\n",
       "      <td>...</td>\n",
       "      <td>60146.054745</td>\n",
       "      <td>2023-07-21 01:18:49.927</td>\n",
       "      <td>False</td>\n",
       "      <td>True</td>\n",
       "      <td>17.848611</td>\n",
       "      <td>17.750804</td>\n",
       "      <td>240.038750</td>\n",
       "      <td>-24.100168</td>\n",
       "      <td>5615</td>\n",
       "      <td>275</td>\n",
       "    </tr>\n",
       "    <tr>\n",
       "      <th>4</th>\n",
       "      <td>174092471737778183</td>\n",
       "      <td>41506879744</td>\n",
       "      <td>1015.704829</td>\n",
       "      <td>101.648672</td>\n",
       "      <td>240.037240</td>\n",
       "      <td>-24.099767</td>\n",
       "      <td>240.037240</td>\n",
       "      <td>-24.099767</td>\n",
       "      <td>1.462395e+05</td>\n",
       "      <td>1.497408e+05</td>\n",
       "      <td>...</td>\n",
       "      <td>60146.054745</td>\n",
       "      <td>2023-07-21 01:18:49.927</td>\n",
       "      <td>False</td>\n",
       "      <td>True</td>\n",
       "      <td>18.509377</td>\n",
       "      <td>18.483688</td>\n",
       "      <td>240.037240</td>\n",
       "      <td>-24.099767</td>\n",
       "      <td>5615</td>\n",
       "      <td>275</td>\n",
       "    </tr>\n",
       "    <tr>\n",
       "      <th>...</th>\n",
       "      <td>...</td>\n",
       "      <td>...</td>\n",
       "      <td>...</td>\n",
       "      <td>...</td>\n",
       "      <td>...</td>\n",
       "      <td>...</td>\n",
       "      <td>...</td>\n",
       "      <td>...</td>\n",
       "      <td>...</td>\n",
       "      <td>...</td>\n",
       "      <td>...</td>\n",
       "      <td>...</td>\n",
       "      <td>...</td>\n",
       "      <td>...</td>\n",
       "      <td>...</td>\n",
       "      <td>...</td>\n",
       "      <td>...</td>\n",
       "      <td>...</td>\n",
       "      <td>...</td>\n",
       "      <td>...</td>\n",
       "      <td>...</td>\n",
       "    </tr>\n",
       "    <tr>\n",
       "      <th>880964</th>\n",
       "      <td>176062681684379021</td>\n",
       "      <td>41976614400</td>\n",
       "      <td>1721.220185</td>\n",
       "      <td>3900.456386</td>\n",
       "      <td>270.243207</td>\n",
       "      <td>-24.928944</td>\n",
       "      <td>270.243207</td>\n",
       "      <td>-24.928944</td>\n",
       "      <td>5.797227e+05</td>\n",
       "      <td>5.812273e+05</td>\n",
       "      <td>...</td>\n",
       "      <td>60202.105496</td>\n",
       "      <td>2023-09-15 02:31:54.880</td>\n",
       "      <td>False</td>\n",
       "      <td>True</td>\n",
       "      <td>16.990624</td>\n",
       "      <td>16.987809</td>\n",
       "      <td>270.243207</td>\n",
       "      <td>-24.928944</td>\n",
       "      <td>5634</td>\n",
       "      <td>91</td>\n",
       "    </tr>\n",
       "    <tr>\n",
       "      <th>880965</th>\n",
       "      <td>176062681684379022</td>\n",
       "      <td>41976614400</td>\n",
       "      <td>1734.660929</td>\n",
       "      <td>3941.651923</td>\n",
       "      <td>270.243586</td>\n",
       "      <td>-24.927845</td>\n",
       "      <td>270.243586</td>\n",
       "      <td>-24.927845</td>\n",
       "      <td>2.781668e+05</td>\n",
       "      <td>2.709826e+05</td>\n",
       "      <td>...</td>\n",
       "      <td>60202.105496</td>\n",
       "      <td>2023-09-15 02:31:54.880</td>\n",
       "      <td>False</td>\n",
       "      <td>True</td>\n",
       "      <td>17.788521</td>\n",
       "      <td>17.816931</td>\n",
       "      <td>270.243586</td>\n",
       "      <td>-24.927845</td>\n",
       "      <td>5634</td>\n",
       "      <td>91</td>\n",
       "    </tr>\n",
       "    <tr>\n",
       "      <th>880966</th>\n",
       "      <td>176062681684379023</td>\n",
       "      <td>41976614400</td>\n",
       "      <td>1612.620766</td>\n",
       "      <td>3897.192739</td>\n",
       "      <td>270.240025</td>\n",
       "      <td>-24.929067</td>\n",
       "      <td>270.240025</td>\n",
       "      <td>-24.929067</td>\n",
       "      <td>2.301183e+05</td>\n",
       "      <td>2.213865e+05</td>\n",
       "      <td>...</td>\n",
       "      <td>60202.105496</td>\n",
       "      <td>2023-09-15 02:31:54.880</td>\n",
       "      <td>False</td>\n",
       "      <td>True</td>\n",
       "      <td>17.994551</td>\n",
       "      <td>18.036550</td>\n",
       "      <td>270.240025</td>\n",
       "      <td>-24.929067</td>\n",
       "      <td>5634</td>\n",
       "      <td>91</td>\n",
       "    </tr>\n",
       "    <tr>\n",
       "      <th>880967</th>\n",
       "      <td>176062681684379025</td>\n",
       "      <td>41976614400</td>\n",
       "      <td>1274.442138</td>\n",
       "      <td>3912.159875</td>\n",
       "      <td>270.230110</td>\n",
       "      <td>-24.928780</td>\n",
       "      <td>270.230110</td>\n",
       "      <td>-24.928780</td>\n",
       "      <td>4.203320e+05</td>\n",
       "      <td>6.785856e+05</td>\n",
       "      <td>...</td>\n",
       "      <td>60202.105496</td>\n",
       "      <td>2023-09-15 02:31:54.880</td>\n",
       "      <td>False</td>\n",
       "      <td>True</td>\n",
       "      <td>17.342736</td>\n",
       "      <td>16.822705</td>\n",
       "      <td>270.230110</td>\n",
       "      <td>-24.928780</td>\n",
       "      <td>5634</td>\n",
       "      <td>91</td>\n",
       "    </tr>\n",
       "    <tr>\n",
       "      <th>880968</th>\n",
       "      <td>176062681684379026</td>\n",
       "      <td>41976614400</td>\n",
       "      <td>1307.942328</td>\n",
       "      <td>3879.542950</td>\n",
       "      <td>270.231103</td>\n",
       "      <td>-24.929636</td>\n",
       "      <td>270.231103</td>\n",
       "      <td>-24.929636</td>\n",
       "      <td>3.344453e+04</td>\n",
       "      <td>5.949009e+04</td>\n",
       "      <td>...</td>\n",
       "      <td>60202.105496</td>\n",
       "      <td>2023-09-15 02:31:54.880</td>\n",
       "      <td>False</td>\n",
       "      <td>True</td>\n",
       "      <td>20.090241</td>\n",
       "      <td>19.464942</td>\n",
       "      <td>270.231103</td>\n",
       "      <td>-24.929636</td>\n",
       "      <td>5634</td>\n",
       "      <td>91</td>\n",
       "    </tr>\n",
       "  </tbody>\n",
       "</table>\n",
       "<p>880969 rows × 41 columns</p>\n",
       "</div>"
      ],
      "text/plain": [
       "                  sourceId  ccdVisitId_p          x_p          y_p  \\\n",
       "0       174092471737778179   41506879744  1459.423140    56.758008   \n",
       "1       174092471737778180   41506879744  1689.114439    75.950081   \n",
       "2       174092471737778181   41506879744  3007.604922    74.842679   \n",
       "3       174092471737778182   41506879744  1067.365729    85.899514   \n",
       "4       174092471737778183   41506879744  1015.704829   101.648672   \n",
       "...                    ...           ...          ...          ...   \n",
       "880964  176062681684379021   41976614400  1721.220185  3900.456386   \n",
       "880965  176062681684379022   41976614400  1734.660929  3941.651923   \n",
       "880966  176062681684379023   41976614400  1612.620766  3897.192739   \n",
       "880967  176062681684379025   41976614400  1274.442138  3912.159875   \n",
       "880968  176062681684379026   41976614400  1307.942328  3879.542950   \n",
       "\n",
       "              ra_p      dec_p  coord_ra_p  coord_dec_p     psfFlux_p  \\\n",
       "0       240.050174 -24.100808  240.050174   -24.100808  1.199960e+06   \n",
       "1       240.056853 -24.100218  240.056853   -24.100218  3.211502e+05   \n",
       "2       240.095234 -24.099785  240.095234   -24.099785  6.535161e+05   \n",
       "3       240.038750 -24.100168  240.038750   -24.100168  2.687373e+05   \n",
       "4       240.037240 -24.099767  240.037240   -24.099767  1.462395e+05   \n",
       "...            ...        ...         ...          ...           ...   \n",
       "880964  270.243207 -24.928944  270.243207   -24.928944  5.797227e+05   \n",
       "880965  270.243586 -24.927845  270.243586   -24.927845  2.781668e+05   \n",
       "880966  270.240025 -24.929067  270.240025   -24.929067  2.301183e+05   \n",
       "880967  270.230110 -24.928780  270.230110   -24.928780  4.203320e+05   \n",
       "880968  270.231103 -24.929636  270.231103   -24.929636  3.344453e+04   \n",
       "\n",
       "        gaussianFlux_p  ...         mjd_s                dateobs_s  \\\n",
       "0         1.232448e+06  ...  60146.054745  2023-07-21 01:18:49.927   \n",
       "1         3.671762e+05  ...  60146.054745  2023-07-21 01:18:49.927   \n",
       "2         6.485894e+05  ...  60146.054745  2023-07-21 01:18:49.927   \n",
       "3         2.940699e+05  ...  60146.054745  2023-07-21 01:18:49.927   \n",
       "4         1.497408e+05  ...  60146.054745  2023-07-21 01:18:49.927   \n",
       "...                ...  ...           ...                      ...   \n",
       "880964    5.812273e+05  ...  60202.105496  2023-09-15 02:31:54.880   \n",
       "880965    2.709826e+05  ...  60202.105496  2023-09-15 02:31:54.880   \n",
       "880966    2.213865e+05  ...  60202.105496  2023-09-15 02:31:54.880   \n",
       "880967    6.785856e+05  ...  60202.105496  2023-09-15 02:31:54.880   \n",
       "880968    5.949009e+04  ...  60202.105496  2023-09-15 02:31:54.880   \n",
       "\n",
       "        extendedness_flag_s  detect_isPrimary_s   psfMag_s  gaussianMag_s  \\\n",
       "0                     False                True  16.221307      16.192303   \n",
       "1                     False                True  17.649778      17.504362   \n",
       "2                     False                True  16.859196      16.867412   \n",
       "3                     False                True  17.848611      17.750804   \n",
       "4                     False                True  18.509377      18.483688   \n",
       "...                     ...                 ...        ...            ...   \n",
       "880964                False                True  16.990624      16.987809   \n",
       "880965                False                True  17.788521      17.816931   \n",
       "880966                False                True  17.994551      18.036550   \n",
       "880967                False                True  17.342736      16.822705   \n",
       "880968                False                True  20.090241      19.464942   \n",
       "\n",
       "                ra        dec  patchID  tractID  \n",
       "0       240.050174 -24.100808     5615      274  \n",
       "1       240.056853 -24.100218     5615      274  \n",
       "2       240.095234 -24.099785     5615      274  \n",
       "3       240.038750 -24.100168     5615      275  \n",
       "4       240.037240 -24.099767     5615      275  \n",
       "...            ...        ...      ...      ...  \n",
       "880964  270.243207 -24.928944     5634       91  \n",
       "880965  270.243586 -24.927845     5634       91  \n",
       "880966  270.240025 -24.929067     5634       91  \n",
       "880967  270.230110 -24.928780     5634       91  \n",
       "880968  270.231103 -24.929636     5634       91  \n",
       "\n",
       "[880969 rows x 41 columns]"
      ]
     },
     "execution_count": 40,
     "metadata": {},
     "output_type": "execute_result"
    }
   ],
   "source": [
    "df_m"
   ]
  },
  {
   "cell_type": "markdown",
   "id": "7adac484-2ec9-4466-990b-7ea65f3258dd",
   "metadata": {},
   "source": [
    "## Plot"
   ]
  },
  {
   "cell_type": "code",
   "execution_count": 30,
   "id": "f4483ab6-6e01-4dfc-a437-1449b0dfcaa1",
   "metadata": {
    "execution": {
     "iopub.execute_input": "2024-01-03T17:44:55.439986Z",
     "iopub.status.busy": "2024-01-03T17:44:55.439384Z",
     "iopub.status.idle": "2024-01-03T17:44:56.220817Z",
     "shell.execute_reply": "2024-01-03T17:44:56.220423Z",
     "shell.execute_reply.started": "2024-01-03T17:44:55.439968Z"
    }
   },
   "outputs": [
    {
     "data": {
      "text/plain": [
       "<Axes: xlabel='ccdVisitId_p', ylabel='ccdVisitId_s'>"
      ]
     },
     "execution_count": 30,
     "metadata": {},
     "output_type": "execute_result"
    },
    {
     "data": {
      "image/png": "[encoded data removed]",
      "text/plain": [
       "<Figure size 400x300 with 1 Axes>"
      ]
     },
     "metadata": {},
     "output_type": "display_data"
    }
   ],
   "source": [
    "df_m.plot.scatter(x=\"ccdVisitId_p\", y=\"ccdVisitId_s\",marker=\".\",grid=True)"
   ]
  },
  {
   "cell_type": "code",
   "execution_count": 31,
   "id": "e4ef3021-e3e9-4b6e-9586-a570bd6dd23b",
   "metadata": {
    "execution": {
     "iopub.execute_input": "2024-01-03T17:45:05.655505Z",
     "iopub.status.busy": "2024-01-03T17:45:05.655097Z",
     "iopub.status.idle": "2024-01-03T17:45:06.422418Z",
     "shell.execute_reply": "2024-01-03T17:45:06.422030Z",
     "shell.execute_reply.started": "2024-01-03T17:45:05.655489Z"
    }
   },
   "outputs": [
    {
     "data": {
      "text/plain": [
       "<Axes: xlabel='coord_ra_p', ylabel='coord_ra_s'>"
      ]
     },
     "execution_count": 31,
     "metadata": {},
     "output_type": "execute_result"
    },
    {
     "data": {
      "image/png": "[encoded data removed]",
      "text/plain": [
       "<Figure size 400x300 with 1 Axes>"
      ]
     },
     "metadata": {},
     "output_type": "display_data"
    }
   ],
   "source": [
    "df_m.plot.scatter(x=\"coord_ra_p\", y=\"coord_ra_s\",marker=\".\",grid=True)"
   ]
  },
  {
   "cell_type": "code",
   "execution_count": 32,
   "id": "b97cd1e0-2e90-4746-967b-0af1c5e27df6",
   "metadata": {
    "execution": {
     "iopub.execute_input": "2024-01-03T17:45:21.091082Z",
     "iopub.status.busy": "2024-01-03T17:45:21.090744Z",
     "iopub.status.idle": "2024-01-03T17:45:21.868851Z",
     "shell.execute_reply": "2024-01-03T17:45:21.868412Z",
     "shell.execute_reply.started": "2024-01-03T17:45:21.091064Z"
    }
   },
   "outputs": [
    {
     "data": {
      "text/plain": [
       "<Axes: xlabel='coord_dec_p', ylabel='coord_dec_s'>"
      ]
     },
     "execution_count": 32,
     "metadata": {},
     "output_type": "execute_result"
    },
    {
     "data": {
      "image/png": "[encoded data removed]",
      "text/plain": [
       "<Figure size 400x300 with 1 Axes>"
      ]
     },
     "metadata": {},
     "output_type": "display_data"
    }
   ],
   "source": [
    "df_m.plot.scatter(x=\"coord_dec_p\", y=\"coord_dec_s\",marker=\".\",grid=True)"
   ]
  },
  {
   "cell_type": "code",
   "execution_count": 27,
   "id": "3434588e-13c6-4fb5-a04a-b95fff8956e6",
   "metadata": {
    "execution": {
     "iopub.execute_input": "2024-01-03T17:43:03.496769Z",
     "iopub.status.busy": "2024-01-03T17:43:03.496571Z",
     "iopub.status.idle": "2024-01-03T17:43:04.419056Z",
     "shell.execute_reply": "2024-01-03T17:43:04.418636Z",
     "shell.execute_reply.started": "2024-01-03T17:43:03.496755Z"
    }
   },
   "outputs": [
    {
     "data": {
      "text/plain": [
       "<Axes: title={'center': 'mag sources vs mag pre sources'}, xlabel='psfMag_p', ylabel='psfMag_s'>"
      ]
     },
     "execution_count": 27,
     "metadata": {},
     "output_type": "execute_result"
    },
    {
     "data": {
      "image/png": "[encoded data removed]",
      "text/plain": [
       "<Figure size 1000x1000 with 1 Axes>"
      ]
     },
     "metadata": {},
     "output_type": "display_data"
    }
   ],
   "source": [
    "df_m.plot.scatter(x=\"psfMag_p\", y=\"psfMag_s\",marker=\".\",alpha=0.5,figsize=(10,10),grid=True,title=\"mag sources vs mag pre sources\")"
   ]
  },
  {
   "cell_type": "code",
   "execution_count": 28,
   "id": "26b813fa-ce29-47f8-adf5-06796c627f23",
   "metadata": {
    "execution": {
     "iopub.execute_input": "2024-01-03T17:43:08.020607Z",
     "iopub.status.busy": "2024-01-03T17:43:08.020329Z",
     "iopub.status.idle": "2024-01-03T17:43:08.903272Z",
     "shell.execute_reply": "2024-01-03T17:43:08.902888Z",
     "shell.execute_reply.started": "2024-01-03T17:43:08.020593Z"
    }
   },
   "outputs": [
    {
     "data": {
      "text/plain": [
       "<Axes: title={'center': 'mag sources vs mag pre sources'}, xlabel='gaussianMag_p', ylabel='gaussianMag_s'>"
      ]
     },
     "execution_count": 28,
     "metadata": {},
     "output_type": "execute_result"
    },
    {
     "data": {
      "image/png": "[encoded data removed]",
      "text/plain": [
       "<Figure size 1000x1000 with 1 Axes>"
      ]
     },
     "metadata": {},
     "output_type": "display_data"
    }
   ],
   "source": [
    "df_m.plot.scatter(x=\"gaussianMag_p\", y=\"gaussianMag_s\",marker=\".\",alpha=0.5,figsize=(10,10),grid=True,title=\"mag sources vs mag pre sources\")"
   ]
  },
  {
   "cell_type": "code",
   "execution_count": 41,
   "id": "c2fd5f3e-8be1-4705-8f53-5024c81084f7",
   "metadata": {
    "execution": {
     "iopub.execute_input": "2024-01-03T23:02:19.461782Z",
     "iopub.status.busy": "2024-01-03T23:02:19.461600Z",
     "iopub.status.idle": "2024-01-03T23:02:19.464132Z",
     "shell.execute_reply": "2024-01-03T23:02:19.463822Z",
     "shell.execute_reply.started": "2024-01-03T23:02:19.461769Z"
    }
   },
   "outputs": [],
   "source": [
    "tract_selected = 5615\n",
    "patch_selected = 294\n",
    "suptitle = f\"pre-sources and sources in  tract {tract_selected} and patch {patch_selected}\""
   ]
  },
  {
   "cell_type": "code",
   "execution_count": 42,
   "id": "61700673-1f8d-4cea-b71c-2de438588ddb",
   "metadata": {
    "execution": {
     "iopub.execute_input": "2024-01-03T23:03:52.748281Z",
     "iopub.status.busy": "2024-01-03T23:03:52.747898Z",
     "iopub.status.idle": "2024-01-03T23:03:53.738152Z",
     "shell.execute_reply": "2024-01-03T23:03:53.737680Z",
     "shell.execute_reply.started": "2024-01-03T23:03:52.748268Z"
    }
   },
   "outputs": [],
   "source": [
    "df_m[\"selectedFlag\"] = df_m[[\"patchID\",\"tractID\"]].apply(lambda x: x[0] == tract_selected and x[1] == patch_selected,axis =1, raw= True )"
   ]
  },
  {
   "cell_type": "code",
   "execution_count": 45,
   "id": "ba8f0c9f-5392-4ab3-99ae-5031286df573",
   "metadata": {
    "execution": {
     "iopub.execute_input": "2024-01-03T23:04:49.671847Z",
     "iopub.status.busy": "2024-01-03T23:04:49.671532Z",
     "iopub.status.idle": "2024-01-03T23:04:50.593637Z",
     "shell.execute_reply": "2024-01-03T23:04:50.593241Z",
     "shell.execute_reply.started": "2024-01-03T23:04:49.671832Z"
    }
   },
   "outputs": [
    {
     "data": {
      "text/plain": [
       "Text(0.5, 0.98, 'pre-sources and sources in  tract 5615 and patch 294')"
      ]
     },
     "execution_count": 45,
     "metadata": {},
     "output_type": "execute_result"
    },
    {
     "data": {
      "image/png": "[encoded data removed]",
      "text/plain": [
       "<Figure size 1000x1000 with 1 Axes>"
      ]
     },
     "metadata": {},
     "output_type": "display_data"
    }
   ],
   "source": [
    "df_m.plot.scatter(x=\"psfMag_p\", y=\"psfMag_s\",marker=\".\",alpha=0.5,figsize=(10,10),grid=True,title=\"mag sources vs mag pre sources\")\n",
    "plt.suptitle(suptitle)"
   ]
  },
  {
   "cell_type": "code",
   "execution_count": null,
   "id": "8735d7c2-2cca-401c-b402-912d36ab05ac",
   "metadata": {},
   "outputs": [],
   "source": []
  }
 ],
 "metadata": {
  "kernelspec": {
   "display_name": "LSST",
   "language": "python",
   "name": "lsst"
  },
  "language_info": {
   "codemirror_mode": {
    "name": "ipython",
    "version": 3
   },
   "file_extension": ".py",
   "mimetype": "text/x-python",
   "name": "python",
   "nbconvert_exporter": "python",
   "pygments_lexer": "ipython3",
   "version": "3.11.4"
  }
 },
 "nbformat": 4,
 "nbformat_minor": 5
}
