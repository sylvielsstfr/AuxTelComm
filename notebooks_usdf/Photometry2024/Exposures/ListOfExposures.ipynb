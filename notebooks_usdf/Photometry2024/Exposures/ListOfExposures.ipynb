{
 "cells": [
  {
   "cell_type": "markdown",
   "id": "34464a75",
   "metadata": {
    "tags": []
   },
   "source": [
    "# List of Exposures  at USDF on Photometry\n",
    "\n",
    "\n",
    "- work with Weakly_2024_07\n",
    "- use jupyter kernel LSST\n",
    "- author : Sylvie Dagoret-Campagne\n",
    "- affiliation : IJCLab\n",
    "- creation date : 2023/12/30\n",
    "- last update : 2024/02/26\n",
    "  \n"
   ]
  },
  {
   "cell_type": "code",
   "execution_count": null,
   "id": "5e6ddc9d",
   "metadata": {
    "tags": []
   },
   "outputs": [],
   "source": [
    "import sys\n",
    "print(sys.executable)"
   ]
  },
  {
   "cell_type": "code",
   "execution_count": null,
   "id": "6d6367f0",
   "metadata": {
    "tags": []
   },
   "outputs": [],
   "source": [
    "print(sys.path)"
   ]
  },
  {
   "cell_type": "code",
   "execution_count": null,
   "id": "89ee6f80",
   "metadata": {
    "tags": []
   },
   "outputs": [],
   "source": [
    "! eups list -s | grep LOCAL"
   ]
  },
  {
   "cell_type": "code",
   "execution_count": null,
   "id": "ab8d7eda",
   "metadata": {
    "tags": []
   },
   "outputs": [],
   "source": [
    "! echo $IMAGE_DESCRIPTION\n",
    "! eups list -s lsst_distrib"
   ]
  },
  {
   "cell_type": "code",
   "execution_count": null,
   "id": "08b3556a",
   "metadata": {
    "tags": []
   },
   "outputs": [],
   "source": [
    "import os\n",
    "import matplotlib.pyplot as plt\n",
    "import numpy as np\n",
    "import pandas as pd\n",
    "%matplotlib inline\n",
    "from matplotlib.colors import LogNorm\n",
    "\n",
    "from mpl_toolkits.axes_grid1 import make_axes_locatable\n",
    "\n",
    "import matplotlib.ticker                         # here's where the formatter is\n",
    "from matplotlib.ticker import (MultipleLocator, FormatStrFormatter,\n",
    "                               AutoMinorLocator)\n",
    "\n",
    "from astropy.io import fits\n",
    "from astropy.time import Time"
   ]
  },
  {
   "cell_type": "code",
   "execution_count": null,
   "id": "e49ab956",
   "metadata": {
    "tags": []
   },
   "outputs": [],
   "source": [
    "from IPython.display import display, HTML"
   ]
  },
  {
   "cell_type": "code",
   "execution_count": null,
   "id": "07168a2e",
   "metadata": {
    "tags": []
   },
   "outputs": [],
   "source": [
    "import lsst.afw.display as afwDisplay\n",
    "afwDisplay.setDefaultBackend('matplotlib')"
   ]
  },
  {
   "cell_type": "code",
   "execution_count": null,
   "id": "437a1418",
   "metadata": {
    "tags": []
   },
   "outputs": [],
   "source": [
    "import lsst.daf.butler as dafButler"
   ]
  },
  {
   "cell_type": "code",
   "execution_count": null,
   "id": "6e21fce6",
   "metadata": {
    "tags": []
   },
   "outputs": [],
   "source": [
    "#repo = \"/sdf/group/rubin/repo/main\"\n",
    "repo=\"/sdf/group/rubin/repo/oga/\"\n",
    "butler = dafButler.Butler(repo)\n",
    "registry = butler.registry"
   ]
  },
  {
   "cell_type": "code",
   "execution_count": null,
   "id": "c6f26349",
   "metadata": {
    "tags": []
   },
   "outputs": [],
   "source": [
    "#my_collection=\"LATISS/runs/AUXTEL_DRP_IMAGING_2023-11A-10A-09AB-08ABC-07AB-05AB/w_2023_46/PREOPS-4553\"\n",
    "my_collection = \"LATISS/runs/AUXTEL_DRP_IMAGING_20230509_20240201/w_2024_05/PREOPS-4871\""
   ]
  },
  {
   "cell_type": "code",
   "execution_count": null,
   "id": "27efc7ed-8411-4a7a-96c4-45be2f4320f7",
   "metadata": {},
   "outputs": [],
   "source": [
    "#file_out = \"AUXTEL_DRP_IMAGING_2023-ListOfExposures.csv\"\n",
    "file_out = \"AUXTEL_DRP_IMAGING_20230509_20240201-ListOfExposures.csv\""
   ]
  },
  {
   "cell_type": "markdown",
   "id": "3a7b35c7",
   "metadata": {},
   "source": [
    "## List of Exposures"
   ]
  },
  {
   "cell_type": "code",
   "execution_count": null,
   "id": "473cdd14",
   "metadata": {
    "tags": []
   },
   "outputs": [],
   "source": [
    "df_exposure = pd.DataFrame(columns=['id', 'obs_id','day_obs', 'seq_num','time_start','time_end' ,'type', 'target','filter','zenith_angle','expos','ra','dec','skyangle','azimuth','zenith','science_program','jd','mjd'])"
   ]
  },
  {
   "cell_type": "code",
   "execution_count": null,
   "id": "0b34e4fd",
   "metadata": {
    "tags": []
   },
   "outputs": [],
   "source": [
    "print(butler.registry.dimensions[\"exposure\"].RecordClass.fields)"
   ]
  },
  {
   "cell_type": "code",
   "execution_count": null,
   "id": "f2c9f07f",
   "metadata": {
    "tags": []
   },
   "outputs": [],
   "source": [
    "for count, info in enumerate(registry.queryDimensionRecords('exposure',where= \"instrument='LATISS'\")):\n",
    "    \n",
    "    try:\n",
    "        df_exposure.loc[count] = [info.id, info.obs_id, info.day_obs, info.seq_num,pd.to_datetime(info.timespan.begin.to_string()),pd.to_datetime(info.timespan.end.to_string()) ,info.observation_type, info.target_name, info.physical_filter, info.zenith_angle, \\\n",
    "                             info.exposure_time,info.tracking_ra, info.tracking_dec, info.sky_angle,info.azimuth ,info.zenith_angle, info.science_program,\n",
    "                             info.timespan.begin.jd,info.timespan.begin.mjd ]\n",
    "    except:\n",
    "        print(\">>>   Unexpected error:\", sys.exc_info()[0])\n",
    "        info_timespan_begin_to_string = \"2021-01-01 00:00:00.00\"\n",
    "        info_timespan_end_to_string = \"2051-01-01 00:00:00.00\"\n",
    "        info_timespan_begin_jd = 0\n",
    "        info_timespan_begin_mjd = 0\n",
    "        df_exposure.loc[count] = [info.id, info.obs_id, info.day_obs, info.seq_num,\n",
    "                                  pd.to_datetime(info_timespan_begin_to_string),\n",
    "                                  pd.to_datetime(info_timespan_end_to_string) ,\n",
    "                                  info.observation_type, info.target_name, \n",
    "                                  info.physical_filter, info.zenith_angle, \\\n",
    "                             info.exposure_time,info.tracking_ra, info.tracking_dec, info.sky_angle,info.azimuth ,info.zenith_angle, info.science_program,\n",
    "                             info_timespan_begin_jd, info_timespan_begin_mjd  ]\n",
    " \n",
    "    \n",
    "    if count < 5:\n",
    "        print(\"-----------------------------------------------------\",count,\"---------------------------------------------------------\")\n",
    "        print(info)\n",
    "        print(\"\\t id:                  \",info.id)\n",
    "        print(\"\\t day_obs:             \",info.day_obs)\n",
    "        print(\"\\t seq_num:             \",info.seq_num)\n",
    "        print(\"\\t type-of-observation: \",info.observation_type)\n",
    "        print(\"\\t target:              \",info.target_name)\n",
    "        \n",
    "        mjd = Time(info.timespan.begin.to_string()).mjd\n",
    "        jd = Time(info.timespan.begin.to_string()).jd\n",
    "        print(mjd,jd)\n",
    "    "
   ]
  },
  {
   "cell_type": "code",
   "execution_count": null,
   "id": "acce44bb",
   "metadata": {
    "tags": []
   },
   "outputs": [],
   "source": [
    "info"
   ]
  },
  {
   "cell_type": "code",
   "execution_count": null,
   "id": "f6a8ba08",
   "metadata": {
    "tags": []
   },
   "outputs": [],
   "source": []
  },
  {
   "cell_type": "code",
   "execution_count": null,
   "id": "ae0cf52c",
   "metadata": {
    "tags": []
   },
   "outputs": [],
   "source": [
    "df_exposure"
   ]
  },
  {
   "cell_type": "code",
   "execution_count": null,
   "id": "591c59d1",
   "metadata": {
    "tags": []
   },
   "outputs": [],
   "source": [
    "df_exposure = df_exposure.astype({\"id\": int,'day_obs': int,'seq_num':int})"
   ]
  },
  {
   "cell_type": "code",
   "execution_count": null,
   "id": "4b19cfd8",
   "metadata": {
    "tags": []
   },
   "outputs": [],
   "source": [
    "df_exposure"
   ]
  },
  {
   "cell_type": "code",
   "execution_count": null,
   "id": "d09d547b-32ba-43b3-8313-fc456c2369e2",
   "metadata": {},
   "outputs": [],
   "source": [
    "df_exposure.type.unique()"
   ]
  },
  {
   "cell_type": "code",
   "execution_count": null,
   "id": "1953676d-e0a8-409d-9623-83e33fbd01cc",
   "metadata": {},
   "outputs": [],
   "source": [
    "df_exposure.science_program.unique()"
   ]
  },
  {
   "cell_type": "code",
   "execution_count": null,
   "id": "2bf3507c-04b3-4d0b-ba6c-02889d098c2d",
   "metadata": {},
   "outputs": [],
   "source": [
    "#SCIENCE_PROGRAM = 'AUXTEL_DRP_IMAGING'\n",
    "SCIENCE_PROGRAM = ['AUXTEL_DRP_IMAGING','AUXTEL_PHOTO_IMAGING']"
   ]
  },
  {
   "cell_type": "markdown",
   "id": "649bd87e",
   "metadata": {},
   "source": [
    "## Selection of science"
   ]
  },
  {
   "cell_type": "code",
   "execution_count": null,
   "id": "34b80523",
   "metadata": {
    "tags": []
   },
   "outputs": [],
   "source": [
    "df_science = df_exposure[df_exposure.type == 'science']"
   ]
  },
  {
   "cell_type": "code",
   "execution_count": null,
   "id": "67fa201d",
   "metadata": {
    "tags": []
   },
   "outputs": [],
   "source": [
    "df_science.sort_values(by=\"id\",ascending=True,inplace=True)"
   ]
  },
  {
   "cell_type": "code",
   "execution_count": null,
   "id": "4cca897e-37ff-40ad-a88c-cee67f94a308",
   "metadata": {},
   "outputs": [],
   "source": [
    "df_science.head(60)"
   ]
  },
  {
   "cell_type": "code",
   "execution_count": null,
   "id": "fd7524c2",
   "metadata": {
    "tags": []
   },
   "outputs": [],
   "source": [
    "df_science.tail(60)"
   ]
  },
  {
   "cell_type": "code",
   "execution_count": null,
   "id": "046606bd",
   "metadata": {
    "tags": []
   },
   "outputs": [],
   "source": [
    "df_science.day_obs.unique()"
   ]
  },
  {
   "cell_type": "markdown",
   "id": "80490543",
   "metadata": {},
   "source": [
    "## Query Dimension records on Exposures"
   ]
  },
  {
   "cell_type": "code",
   "execution_count": null,
   "id": "10542709",
   "metadata": {
    "tags": []
   },
   "outputs": [],
   "source": [
    "#where_clause = f\"instrument=\\'LATISS\\' AND exposure.day_obs={date_sel} AND exposure.science_program=\\'AUXTEL_DRP_IMAGING\\'\"\n",
    "where_clause = f\"instrument=\\'LATISS\\' AND exposure.science_program=\\'AUXTEL_DRP_IMAGING\\'\""
   ]
  },
  {
   "cell_type": "code",
   "execution_count": null,
   "id": "578d5f83",
   "metadata": {
    "tags": []
   },
   "outputs": [],
   "source": [
    "results_exposures = registry.queryDimensionRecords('exposure',datasets=\"raw\",collections = my_collection,where=where_clause)\n",
    "#results_exposures = registry.queryDimensionRecords('exposure',datasets=\"raw\",collections = my_collection)"
   ]
  },
  {
   "cell_type": "code",
   "execution_count": null,
   "id": "57a14d39-8198-47d3-8e82-f0a111e7612a",
   "metadata": {},
   "outputs": [],
   "source": [
    "results_exposures "
   ]
  },
  {
   "cell_type": "markdown",
   "id": "09337cd3",
   "metadata": {},
   "source": [
    "## Select date"
   ]
  },
  {
   "cell_type": "code",
   "execution_count": null,
   "id": "3bff9e3a-fda8-4aea-aadb-c91f8f4030d5",
   "metadata": {},
   "outputs": [],
   "source": [
    "cut_science_program = (df_science[\"science_program\"] == SCIENCE_PROGRAM[0]) |  (df_science[\"science_program\"] == SCIENCE_PROGRAM[1])"
   ]
  },
  {
   "cell_type": "code",
   "execution_count": null,
   "id": "39ebfa75",
   "metadata": {
    "tags": []
   },
   "outputs": [],
   "source": [
    "df_science_selected = df_science[cut_science_program]"
   ]
  },
  {
   "cell_type": "code",
   "execution_count": null,
   "id": "20f8d473",
   "metadata": {
    "tags": []
   },
   "outputs": [],
   "source": [
    "len(df_science_selected)"
   ]
  },
  {
   "cell_type": "code",
   "execution_count": null,
   "id": "b960b526-cda5-457f-be4a-feaf9deffb8f",
   "metadata": {},
   "outputs": [],
   "source": [
    "df_science.day_obs.unique()"
   ]
  },
  {
   "cell_type": "code",
   "execution_count": null,
   "id": "6ffab13c-26db-4aec-8fbe-1ad2854d6316",
   "metadata": {},
   "outputs": [],
   "source": [
    "#df_science_selected"
   ]
  },
  {
   "cell_type": "markdown",
   "id": "05efcea4",
   "metadata": {},
   "source": [
    "# List of filters"
   ]
  },
  {
   "cell_type": "code",
   "execution_count": null,
   "id": "2507df00",
   "metadata": {
    "tags": []
   },
   "outputs": [],
   "source": [
    "list_of_filters = df_science_selected['filter'].unique()\n",
    "list_of_filters"
   ]
  },
  {
   "cell_type": "code",
   "execution_count": null,
   "id": "4a7fadb9",
   "metadata": {
    "tags": []
   },
   "outputs": [],
   "source": [
    "selected_filters = []\n",
    "for filt in list_of_filters:\n",
    "    #flag_sel = (filt.find('holo4') != -1) or (filt.find('ronchi90lpmm') != -1) or (filt.find('ronchi170lpmm') != -1)\n",
    "    flag_sel = (filt.find('empty') != -1) \n",
    "    #flag_sel = (filt.find('ronchi170') != -1) \n",
    "    if flag_sel:\n",
    "        selected_filters.append(filt) \n",
    "selected_filters = np.array(selected_filters)\n",
    "selected_filters       "
   ]
  },
  {
   "cell_type": "code",
   "execution_count": null,
   "id": "16ae4fd8",
   "metadata": {},
   "outputs": [],
   "source": [
    "df_science_selected.to_csv(file_out)"
   ]
  }
 ],
 "metadata": {
  "kernelspec": {
   "display_name": "LSST",
   "language": "python",
   "name": "lsst"
  },
  "language_info": {
   "codemirror_mode": {
    "name": "ipython",
    "version": 3
   },
   "file_extension": ".py",
   "mimetype": "text/x-python",
   "name": "python",
   "nbconvert_exporter": "python",
   "pygments_lexer": "ipython3",
   "version": "3.11.7"
  }
 },
 "nbformat": 4,
 "nbformat_minor": 5
}
