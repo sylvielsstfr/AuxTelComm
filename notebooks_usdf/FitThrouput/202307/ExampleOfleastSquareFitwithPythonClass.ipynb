{
 "cells": [
  {
   "cell_type": "markdown",
   "id": "dcb9073b-9d62-436e-adac-cacde5cf3a8b",
   "metadata": {},
   "source": [
    "# Example of least-square fit with scipy using a python class"
   ]
  },
  {
   "cell_type": "markdown",
   "id": "c7ec1e06-c9fd-425f-8127-bb82a29fd8fc",
   "metadata": {},
   "source": [
    "https://hernandis.me/2020/04/05/three-examples-of-nonlinear-least-squares-fitting-in-python-with-scipy.html"
   ]
  },
  {
   "cell_type": "code",
   "execution_count": 1,
   "id": "73172276-8e4b-4e2f-ba99-a32f4e5b8cc4",
   "metadata": {},
   "outputs": [],
   "source": [
    "import pandas as pd\n",
    "import matplotlib as mpl\n",
    "import matplotlib.cm as cm \n",
    "import matplotlib.pyplot as plt\n",
    "import matplotlib.dates as mdates\n",
    "\n",
    "import numpy as np\n",
    "from mpl_toolkits.axes_grid1 import host_subplot\n",
    "import mpl_toolkits.axisartist as AA\n",
    "import os,sys,re\n",
    "\n",
    "from astropy.io import fits\n",
    "import matplotlib.colors as colors\n",
    "import matplotlib.cm as cmx\n",
    "import matplotlib.dates as mdates\n",
    "from matplotlib import gridspec\n",
    "from matplotlib.patches import Rectangle\n",
    "\n",
    "%matplotlib inline\n",
    "import pickle\n",
    "import h5py\n",
    "import seaborn as sns\n",
    "import copy\n",
    "from collections import OrderedDict"
   ]
  },
  {
   "cell_type": "code",
   "execution_count": 3,
   "id": "22b868f6-9370-440a-9f18-f39df388fd66",
   "metadata": {},
   "outputs": [],
   "source": [
    "from scipy.optimize import curve_fit,least_squares"
   ]
  },
  {
   "cell_type": "code",
   "execution_count": 8,
   "id": "f93f6483-9dd4-420f-a352-3700309f602f",
   "metadata": {},
   "outputs": [
    {
     "ename": "TypeError",
     "evalue": "least_squares() got an unexpected keyword argument 'full_output'",
     "output_type": "error",
     "traceback": [
      "\u001b[0;31m---------------------------------------------------------------------------\u001b[0m",
      "\u001b[0;31mTypeError\u001b[0m                                 Traceback (most recent call last)",
      "\u001b[0;32m/var/folders/cq/vms8st5136z3q5xx4rd9xqfr0000gw/T/ipykernel_3572/1269728218.py\u001b[0m in \u001b[0;36m<module>\u001b[0;34m\u001b[0m\n\u001b[1;32m     10\u001b[0m \u001b[0;34m\u001b[0m\u001b[0m\n\u001b[1;32m     11\u001b[0m \u001b[0mtheta0\u001b[0m \u001b[0;34m=\u001b[0m \u001b[0;34m[\u001b[0m\u001b[0;36m1\u001b[0m\u001b[0;34m,\u001b[0m\u001b[0;36m2\u001b[0m\u001b[0;34m,\u001b[0m\u001b[0;36m3\u001b[0m\u001b[0;34m]\u001b[0m\u001b[0;34m\u001b[0m\u001b[0;34m\u001b[0m\u001b[0m\n\u001b[0;32m---> 12\u001b[0;31m \u001b[0mres1\u001b[0m \u001b[0;34m=\u001b[0m \u001b[0mleast_squares\u001b[0m\u001b[0;34m(\u001b[0m\u001b[0mfun\u001b[0m\u001b[0;34m,\u001b[0m \u001b[0mtheta0\u001b[0m\u001b[0;34m,\u001b[0m\u001b[0mfull_output\u001b[0m\u001b[0;34m=\u001b[0m\u001b[0;32mTrue\u001b[0m\u001b[0;34m)\u001b[0m\u001b[0;34m\u001b[0m\u001b[0;34m\u001b[0m\u001b[0m\n\u001b[0m",
      "\u001b[0;31mTypeError\u001b[0m: least_squares() got an unexpected keyword argument 'full_output'"
     ]
    }
   ],
   "source": [
    "def y(theta, t):\n",
    "    return theta[0] / (1 + np.exp(- theta[1] * (t - theta[2])))\n",
    "\n",
    "ts = np.linspace(0, 1)\n",
    "K = 1; r = 10; t0 = 0.5; noise = 0.1\n",
    "ys = y([K, r, t0], ts) + noise * np.random.rand(ts.shape[0])\n",
    "\n",
    "def fun(theta):\n",
    "    return y(theta, ts) - ys\n",
    "\n",
    "theta0 = [1,2,3]\n",
    "res1 = least_squares(fun, theta0,full_output=True)\n"
   ]
  },
  {
   "cell_type": "code",
   "execution_count": 7,
   "id": "95ae7980-f727-4a23-ae4a-55fea1e4086d",
   "metadata": {},
   "outputs": [
    {
     "name": "stdout",
     "output_type": "stream",
     "text": [
      " active_mask: array([0., 0., 0.])\n",
      "        cost: 0.03155566714111987\n",
      "         fun: array([-0.01041159, -0.07278276,  0.00253452, -0.06909133, -0.07576401,\n",
      "       -0.03003241,  0.00109188, -0.07572438, -0.0553424 , -0.01647319,\n",
      "        0.01554971,  0.02663212, -0.05531441,  0.01453514, -0.02111835,\n",
      "       -0.00240601, -0.03085487,  0.04857027,  0.03702519,  0.03829542,\n",
      "       -0.00038643,  0.04347737, -0.02803008,  0.02151471,  0.06389012,\n",
      "       -0.00077998, -0.01123406,  0.00872972, -0.00214071, -0.0457577 ,\n",
      "       -0.03929896,  0.0256465 , -0.0534052 , -0.0069121 , -0.05307935,\n",
      "       -0.02381574, -0.03419109,  0.01713632,  0.02059767,  0.02815091,\n",
      "        0.04905309,  0.00435484, -0.00091829,  0.00919004,  0.04031268,\n",
      "       -0.00506779, -0.01995565,  0.01463923, -0.02689197,  0.01436167])\n",
      "        grad: array([ 1.26047355e-10, -8.54712249e-08, -2.34522747e-06])\n",
      "         jac: array([[ 1.36984440e-02, -7.01912823e-03, -1.26577446e-01],\n",
      "       [ 1.63433337e-02, -8.00191696e-03, -1.50611993e-01],\n",
      "       [ 1.94888066e-02, -9.09543800e-03, -1.79024790e-01],\n",
      "       [ 2.32253701e-02, -1.03040794e-02, -2.12535943e-01],\n",
      "       [ 2.76581325e-02, -1.16295096e-02, -2.51951648e-01],\n",
      "       [ 3.29084210e-02, -1.30695117e-02, -2.98160438e-01],\n",
      "       [ 3.91152689e-02, -1.46165575e-02, -3.52121857e-01],\n",
      "       [ 4.64365765e-02, -1.62561143e-02, -4.14844324e-01],\n",
      "       [ 5.50497248e-02, -1.79647207e-02, -4.87348328e-01],\n",
      "       [ 6.51513029e-02, -1.97079168e-02, -5.70610564e-01],\n",
      "       [ 7.69555557e-02, -2.14381946e-02, -6.65484527e-01],\n",
      "       [ 9.06910463e-02, -2.30932430e-02, -7.72593870e-01],\n",
      "       [ 1.06595016e-01, -2.45948780e-02, -8.92196775e-01],\n",
      "       [ 1.24904873e-01, -2.58491960e-02, -1.02402374e+00],\n",
      "       [ 1.45846388e-01, -2.67485717e-02, -1.16709724e+00],\n",
      "       [ 1.69618412e-01, -2.71761565e-02, -1.31955071e+00],\n",
      "       [ 1.96374313e-01, -2.70133950e-02, -1.47847460e+00],\n",
      "       [ 2.26201039e-01, -2.61507267e-02, -1.63982733e+00],\n",
      "       [ 2.59097441e-01, -2.45010066e-02, -1.79845513e+00],\n",
      "       [ 2.94954375e-01, -2.20143541e-02, -1.94826241e+00],\n",
      "       [ 3.33539677e-01, -1.86922102e-02, -2.08255842e+00],\n",
      "       [ 3.74491521e-01, -1.45976999e-02, -2.19457578e+00],\n",
      "       [ 4.17322960e-01, -9.85930824e-03, -2.27811466e+00],\n",
      "       [ 4.61439323e-01, -4.66565462e-03, -2.32822333e+00],\n",
      "       [ 5.06168045e-01,  7.49202512e-04, -2.34179736e+00],\n",
      "       [ 5.50798260e-01,  6.12828902e-03, -2.31797843e+00],\n",
      "       [ 5.94625287e-01,  1.12183718e-02, -2.25826776e+00],\n",
      "       [ 6.36994402e-01,  1.57959384e-02, -2.16632865e+00],\n",
      "       [ 6.77338134e-01,  1.96878501e-02, -2.04752201e+00],\n",
      "       [ 7.15202788e-01,  2.27834987e-02, -1.90827229e+00],\n",
      "       [ 7.50262309e-01,  2.50374463e-02, -1.75538600e+00],\n",
      "       [ 7.82319502e-01,  2.64636314e-02, -1.59543493e+00],\n",
      "       [ 8.11296700e-01,  2.71236790e-02, -1.43428223e+00],\n",
      "       [ 8.37219142e-01,  2.71123580e-02, -1.27678541e+00],\n",
      "       [ 8.60194214e-01,  2.65429448e-02, -1.12667090e+00],\n",
      "       [ 8.80389846e-01,  2.55344639e-02, -9.86548640e-01],\n",
      "       [ 8.98014003e-01,  2.42018352e-02, -8.58023316e-01],\n",
      "       [ 9.13297043e-01,  2.26492395e-02, -7.41859034e-01],\n",
      "       [ 9.26477359e-01,  2.09663612e-02, -6.38162568e-01],\n",
      "       [ 9.37790529e-01,  1.92269650e-02, -5.46559945e-01],\n",
      "       [ 9.47461619e-01,  1.74891435e-02, -4.66351926e-01],\n",
      "       [ 9.55700261e-01,  1.57966146e-02, -3.96641687e-01],\n",
      "       [ 9.62697845e-01,  1.41806045e-02, -3.36433589e-01],\n",
      "       [ 9.68626387e-01,  1.26619142e-02, -2.84705833e-01],\n",
      "       [ 9.73638488e-01,  1.12529610e-02, -2.40460441e-01],\n",
      "       [ 9.77868170e-01,  9.95965476e-03, -2.02755764e-01],\n",
      "       [ 9.81432137e-01,  8.78301185e-03, -1.70725182e-01],\n",
      "       [ 9.84431335e-01,  7.72050746e-03, -1.43586069e-01],\n",
      "       [ 9.86952520e-01,  6.76717844e-03, -1.20641947e-01],\n",
      "       [ 9.89069959e-01,  5.91647856e-03, -1.01280138e-01]])\n",
      "     message: '`ftol` termination condition is satisfied.'\n",
      "        nfev: 21\n",
      "        njev: 18\n",
      "  optimality: 2.3452274683227747e-06\n",
      "      status: 2\n",
      "     success: True\n",
      "           x: array([1.06680598, 8.78192973, 0.48698635])\n"
     ]
    }
   ],
   "source": [
    "print(res1)"
   ]
  },
  {
   "cell_type": "code",
   "execution_count": null,
   "id": "9fb44778-e6d2-4e54-a9a8-091e64dad0ae",
   "metadata": {},
   "outputs": [],
   "source": []
  }
 ],
 "metadata": {
  "kernelspec": {
   "display_name": "Python 3 (ipykernel)",
   "language": "python",
   "name": "python3"
  },
  "language_info": {
   "codemirror_mode": {
    "name": "ipython",
    "version": 3
   },
   "file_extension": ".py",
   "mimetype": "text/x-python",
   "name": "python",
   "nbconvert_exporter": "python",
   "pygments_lexer": "ipython3",
   "version": "3.9.13"
  }
 },
 "nbformat": 4,
 "nbformat_minor": 5
}
