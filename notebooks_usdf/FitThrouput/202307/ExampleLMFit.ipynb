{
 "cells": [
  {
   "cell_type": "markdown",
   "id": "7d5013dd-a632-4834-83f0-3cecab910dbb",
   "metadata": {},
   "source": [
    "# LMFit"
   ]
  },
  {
   "cell_type": "markdown",
   "id": "a75c6dfa-d879-4375-931a-21f847534382",
   "metadata": {},
   "source": [
    "https://lmfit.github.io/lmfit-py/model.html#lmfit.model.Model"
   ]
  },
  {
   "cell_type": "markdown",
   "id": "9160f011-2955-46c2-ac08-af77d7333dde",
   "metadata": {},
   "source": []
  },
  {
   "cell_type": "code",
   "execution_count": 1,
   "id": "9d46b5b6-ac0a-4b11-847b-144435ad2747",
   "metadata": {},
   "outputs": [],
   "source": [
    "import pandas as pd\n",
    "import matplotlib as mpl\n",
    "import matplotlib.cm as cm \n",
    "import matplotlib.pyplot as plt\n",
    "import matplotlib.dates as mdates\n",
    "\n",
    "import numpy as np\n",
    "from mpl_toolkits.axes_grid1 import host_subplot\n",
    "import mpl_toolkits.axisartist as AA\n",
    "import os,sys,re\n",
    "\n",
    "from astropy.io import fits\n",
    "import matplotlib.colors as colors\n",
    "import matplotlib.cm as cmx\n",
    "import matplotlib.dates as mdates\n",
    "from matplotlib import gridspec\n",
    "from matplotlib.patches import Rectangle\n",
    "\n",
    "%matplotlib inline\n"
   ]
  },
  {
   "cell_type": "code",
   "execution_count": 2,
   "id": "c9036d1b-4d00-49fe-b44d-6fbfb587e5e9",
   "metadata": {},
   "outputs": [],
   "source": [
    "from scipy.optimize import curve_fit,least_squares\n",
    "from numpy import exp, linspace, random\n"
   ]
  },
  {
   "cell_type": "markdown",
   "id": "d48515ef-e211-45f0-b40c-235a45fa7d97",
   "metadata": {},
   "source": [
    "# Simple scipy"
   ]
  },
  {
   "cell_type": "code",
   "execution_count": 3,
   "id": "8cfa4750-551e-4c94-86c6-cb6f6e8b374c",
   "metadata": {},
   "outputs": [],
   "source": [
    "def gaussian(x, amp, cen, wid):\n",
    "    return amp * exp(-(x-cen)**2 / wid)"
   ]
  },
  {
   "cell_type": "code",
   "execution_count": 4,
   "id": "2b53c3b0-ed3f-4c82-8f1a-8bed2df85a24",
   "metadata": {},
   "outputs": [],
   "source": [
    "x = linspace(-10, 10, 101)\n",
    "y = gaussian(x, 2.33, 0.21, 1.51) + random.normal(0, 0.2, x.size)\n",
    "\n",
    "init_vals = [1, 0, 1]  # for [amp, cen, wid]\n",
    "best_vals, covar = curve_fit(gaussian, x, y, p0=init_vals)"
   ]
  },
  {
   "cell_type": "code",
   "execution_count": 5,
   "id": "e7fb9c3d-e7f1-48f1-8da9-6378c3cdd3f6",
   "metadata": {},
   "outputs": [
    {
     "data": {
      "text/plain": [
       "array([2.24304158, 0.20192093, 1.62085346])"
      ]
     },
     "execution_count": 5,
     "metadata": {},
     "output_type": "execute_result"
    }
   ],
   "source": [
    "best_vals"
   ]
  },
  {
   "cell_type": "code",
   "execution_count": 6,
   "id": "b260bc62-c534-4ad0-b087-17c377c44fc1",
   "metadata": {},
   "outputs": [
    {
     "data": {
      "text/plain": [
       "array([[ 6.74329232e-03, -4.29874904e-12, -6.49709779e-03],\n",
       "       [-4.29874904e-12,  1.44828001e-03,  7.58497134e-12],\n",
       "       [-6.49709779e-03,  7.58497134e-12,  1.87796749e-02]])"
      ]
     },
     "execution_count": 6,
     "metadata": {},
     "output_type": "execute_result"
    }
   ],
   "source": [
    "covar"
   ]
  },
  {
   "cell_type": "markdown",
   "id": "27f8069b-0efc-4b83-80a0-ef30ce703d34",
   "metadata": {},
   "source": [
    "# LMfit"
   ]
  },
  {
   "cell_type": "code",
   "execution_count": 7,
   "id": "b65b5caa-7fea-41c7-84d0-d89ca55e0fd4",
   "metadata": {},
   "outputs": [
    {
     "name": "stdout",
     "output_type": "stream",
     "text": [
      "parameter names: ['amp', 'cen', 'wid']\n",
      "independent variables: ['x']\n"
     ]
    }
   ],
   "source": [
    "from lmfit import Model\n",
    "\n",
    "gmodel = Model(gaussian)\n",
    "print(f'parameter names: {gmodel.param_names}')\n",
    "print(f'independent variables: {gmodel.independent_vars}')\n"
   ]
  },
  {
   "cell_type": "code",
   "execution_count": 10,
   "id": "f8ed75e4-1ab0-46e4-9e45-158dfc0f67ba",
   "metadata": {},
   "outputs": [],
   "source": [
    "params = gmodel.make_params()\n",
    "params = gmodel.make_params(cen=0.3, amp=3, wid=1.25)"
   ]
  },
  {
   "cell_type": "code",
   "execution_count": 11,
   "id": "3194b638-b605-4ea8-896a-53ae7985810e",
   "metadata": {},
   "outputs": [
    {
     "data": {
      "text/html": [
       "<table><tr><th> name </th><th> value </th><th> initial value </th><th> min </th><th> max </th><th> vary </th></tr><tr><td> amp </td><td>  3.00000000 </td><td> None </td><td>        -inf </td><td>         inf </td><td> True </td></tr><tr><td> cen </td><td>  0.30000000 </td><td> None </td><td>        -inf </td><td>         inf </td><td> True </td></tr><tr><td> wid </td><td>  1.25000000 </td><td> None </td><td>        -inf </td><td>         inf </td><td> True </td></tr></table>"
      ],
      "text/plain": [
       "Parameters([('amp', <Parameter 'amp', value=3, bounds=[-inf:inf]>), ('cen', <Parameter 'cen', value=0.3, bounds=[-inf:inf]>), ('wid', <Parameter 'wid', value=1.25, bounds=[-inf:inf]>)])"
      ]
     },
     "execution_count": 11,
     "metadata": {},
     "output_type": "execute_result"
    }
   ],
   "source": [
    "params"
   ]
  },
  {
   "cell_type": "code",
   "execution_count": 12,
   "id": "e2e2454c-c511-46a8-a48e-b2fc92966c3e",
   "metadata": {},
   "outputs": [],
   "source": [
    "x_eval = linspace(0, 10, 201)\n",
    "y_eval = gmodel.eval(params, x=x_eval)\n"
   ]
  },
  {
   "cell_type": "code",
   "execution_count": 13,
   "id": "b0cdee4e-207d-4c2b-b05b-ce2db50638bf",
   "metadata": {},
   "outputs": [],
   "source": [
    "y_eval = gmodel.eval(x=x_eval, cen=6.5, amp=100, wid=2.0)"
   ]
  },
  {
   "cell_type": "code",
   "execution_count": 14,
   "id": "7c9597f5-c361-4f5d-9e53-54aabab1be8e",
   "metadata": {},
   "outputs": [],
   "source": [
    "result = gmodel.fit(y, params, x=x)"
   ]
  },
  {
   "cell_type": "code",
   "execution_count": 15,
   "id": "da557084-5dfd-4ab7-bfb0-a63c3cb9b178",
   "metadata": {},
   "outputs": [],
   "source": [
    "result = gmodel.fit(y, x=x, cen=0.5, amp=10, wid=2.0)"
   ]
  },
  {
   "cell_type": "code",
   "execution_count": null,
   "id": "218277a0-1859-4f2d-acaa-be5ac004aaec",
   "metadata": {},
   "outputs": [],
   "source": []
  }
 ],
 "metadata": {
  "kernelspec": {
   "display_name": "Python 3 (ipykernel)",
   "language": "python",
   "name": "python3"
  },
  "language_info": {
   "codemirror_mode": {
    "name": "ipython",
    "version": 3
   },
   "file_extension": ".py",
   "mimetype": "text/x-python",
   "name": "python",
   "nbconvert_exporter": "python",
   "pygments_lexer": "ipython3",
   "version": "3.9.13"
  }
 },
 "nbformat": 4,
 "nbformat_minor": 5
}
