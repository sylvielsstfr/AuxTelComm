{
 "cells": [
  {
   "cell_type": "markdown",
   "id": "4557dcf0-467d-425d-87c1-454ed4b71736",
   "metadata": {},
   "source": [
    "# Example of 2D plot with Curve_fit\n",
    "\n",
    "https://stackoverflow.com/questions/43202089/python-scipys-curve-fit-for-nxm-arrays\n",
    "\n",
    "\n",
    "\n",
    "- blabla\n",
    "\n",
    "The goal is to express the 2D function as a 1D function: g(x, y, ...) --> f(xy, ...)\n",
    "\n",
    "Converting the coordinate pair (x, y) into a single number xy may seem tricky at first. But it's actually quite simple. Just enumerate all data points and you have a single number that uniquely defines each coordinate pair. The fitted function simply has to reconstruct the original coordinates, do it's calculations and return the result.\n",
    "\n",
    "Example that fits a 2D linear gradient in a 20x10 image:\n",
    "\n"
   ]
  },
  {
   "cell_type": "code",
   "execution_count": 1,
   "id": "89291d81-1e75-4e01-95c7-24aab9e6f101",
   "metadata": {},
   "outputs": [],
   "source": [
    "import scipy as sp\n",
    "import numpy as np\n",
    "import matplotlib.pyplot as plt"
   ]
  },
  {
   "cell_type": "markdown",
   "id": "de70f6f1-5191-4080-9642-52941f4e314f",
   "metadata": {},
   "source": [
    "## The data (noisy)"
   ]
  },
  {
   "cell_type": "code",
   "execution_count": 2,
   "id": "699d9ffc-e180-4581-8070-bfe537c483de",
   "metadata": {},
   "outputs": [],
   "source": [
    "n, m = 10, 20\n",
    "\n",
    "# noisy example data\n",
    "x = np.arange(m).reshape(1, m)\n",
    "y = np.arange(n).reshape(n, 1)\n",
    "z = x + y * 2 + np.random.randn(n, m) * 3"
   ]
  },
  {
   "cell_type": "code",
   "execution_count": 3,
   "id": "831f9530-b321-40a3-a400-5a5e983fe69c",
   "metadata": {},
   "outputs": [
    {
     "data": {
      "text/plain": [
       "array([[ 0,  1,  2,  3,  4,  5,  6,  7,  8,  9, 10, 11, 12, 13, 14, 15,\n",
       "        16, 17, 18, 19]])"
      ]
     },
     "execution_count": 3,
     "metadata": {},
     "output_type": "execute_result"
    }
   ],
   "source": [
    "x"
   ]
  },
  {
   "cell_type": "code",
   "execution_count": 4,
   "id": "f1812b7a-62b8-43ff-876b-faa01246d95b",
   "metadata": {},
   "outputs": [
    {
     "data": {
      "text/plain": [
       "array([[0],\n",
       "       [1],\n",
       "       [2],\n",
       "       [3],\n",
       "       [4],\n",
       "       [5],\n",
       "       [6],\n",
       "       [7],\n",
       "       [8],\n",
       "       [9]])"
      ]
     },
     "execution_count": 4,
     "metadata": {},
     "output_type": "execute_result"
    }
   ],
   "source": [
    "y"
   ]
  },
  {
   "cell_type": "code",
   "execution_count": 5,
   "id": "91bb7b02-2a11-44cc-a4f6-7db39992d58d",
   "metadata": {},
   "outputs": [
    {
     "data": {
      "text/plain": [
       "(10, 20)"
      ]
     },
     "execution_count": 5,
     "metadata": {},
     "output_type": "execute_result"
    }
   ],
   "source": [
    "z.shape"
   ]
  },
  {
   "cell_type": "code",
   "execution_count": 6,
   "id": "de4b6b78-4842-488e-a1ec-33e3c7827a28",
   "metadata": {},
   "outputs": [
    {
     "data": {
      "text/plain": [
       "array([[ 0.23888341,  0.3414733 , -1.43615056, -1.59187941,  4.86235255,\n",
       "        10.17251941,  2.21358546,  5.17265354, 13.14228146,  6.90297317,\n",
       "        12.77357699, 12.31820871, 15.61303551, 15.47296195, 12.62859095,\n",
       "        12.1848049 , 16.58222769, 18.9268223 , 21.82378575, 17.8860239 ],\n",
       "       [ 3.48036543,  3.03374082,  5.55355209, -1.34836363,  7.56096269,\n",
       "         5.33993411,  9.15055037,  8.79727397,  7.63685989, 11.80314022,\n",
       "        10.84772272, 12.06203137, 17.98582244, 18.88363603, 16.44053373,\n",
       "        13.18400828, 20.18304971, 20.84683915, 21.7253089 , 21.5190186 ],\n",
       "       [ 1.61392814,  3.20533329,  0.78686716,  6.6024131 ,  7.1599779 ,\n",
       "        12.56720936, 12.44193552,  7.1313282 , 17.60992031,  9.72755059,\n",
       "        13.72507266,  9.83558545, 16.74236017, 19.38507199, 16.17522068,\n",
       "        20.26978226, 24.18407431, 16.43598704, 19.21618432, 20.72441277],\n",
       "       [ 7.36506228,  7.31329062,  4.57689421,  5.29397897,  4.88444255,\n",
       "         9.81847226, 15.4974059 , 17.97946592, 20.14824165, 15.43116458,\n",
       "        15.92135019, 14.08929936, 21.32048126, 20.3845429 , 10.81125791,\n",
       "        22.33908021, 22.73321493, 28.4788766 , 28.47190689, 16.07948726],\n",
       "       [ 8.99786547,  7.10539755, 13.96655244,  7.03634573, 10.15789349,\n",
       "         9.45735764,  6.40493897, 15.38201992, 11.67461623, 18.49834956,\n",
       "        11.36613717, 21.12666678, 17.63793265, 23.60985913, 18.73414974,\n",
       "        18.26640687, 31.2254402 , 25.80576851, 26.56382392, 30.6325261 ],\n",
       "       [ 6.42377752, 13.46378935, 10.31900273, 16.60784755, 16.6621499 ,\n",
       "        11.61727003, 16.69888441, 19.20529125, 20.55581561, 17.94718886,\n",
       "        21.71519885, 17.64618478, 24.92537782, 33.9875725 , 23.4165815 ,\n",
       "        30.3515684 , 25.8321418 , 18.59999146, 31.06209504, 32.01043597],\n",
       "       [11.86809751, 19.61994041, 10.45538042, 18.55894372, 17.38830909,\n",
       "        18.04139348, 17.79466177, 19.46723085, 24.07521922, 18.35480616,\n",
       "        25.40071381, 17.8166682 , 19.30283941, 27.4967395 , 21.24976009,\n",
       "        24.28206376, 25.4266743 , 31.83024112, 30.04156688, 29.17356334],\n",
       "       [13.48644662, 10.27312695, 19.62981025, 17.66083113, 20.94006308,\n",
       "        13.51104723, 23.3016284 , 20.95960691, 25.95940087, 19.77624234,\n",
       "        23.00479992, 25.58398737, 23.47147441, 27.97722069, 25.41048088,\n",
       "        29.50706545, 30.64013082, 26.15703255, 32.91690569, 29.30643325],\n",
       "       [15.73514413, 12.46196872, 14.06441622, 21.1479738 , 14.58537912,\n",
       "        25.55570302, 23.0992755 , 19.0429963 , 24.12853102, 24.4455633 ,\n",
       "        20.64351428, 27.58247991, 30.29625771, 34.89480821, 31.58373927,\n",
       "        39.06238977, 33.85395913, 31.16497746, 32.86678668, 31.13028919],\n",
       "       [18.29580318, 19.00042972, 23.15747553, 18.37867327, 20.57273224,\n",
       "        18.79398215, 19.4259901 , 25.2049557 , 25.36405767, 22.42733513,\n",
       "        22.93683841, 30.65803727, 31.22058675, 31.14270493, 31.42035943,\n",
       "        31.48436002, 32.7979503 , 32.45906698, 34.92850456, 38.5149808 ]])"
      ]
     },
     "execution_count": 6,
     "metadata": {},
     "output_type": "execute_result"
    }
   ],
   "source": [
    "z"
   ]
  },
  {
   "cell_type": "code",
   "execution_count": 7,
   "id": "6c0eea2a-8cb7-4de7-aff6-a08cdbf78819",
   "metadata": {},
   "outputs": [
    {
     "name": "stdout",
     "output_type": "stream",
     "text": [
      "(200,)\n"
     ]
    },
    {
     "data": {
      "text/plain": [
       "array([ 0.23888341,  0.3414733 , -1.43615056, -1.59187941,  4.86235255,\n",
       "       10.17251941,  2.21358546,  5.17265354, 13.14228146,  6.90297317,\n",
       "       12.77357699, 12.31820871, 15.61303551, 15.47296195, 12.62859095,\n",
       "       12.1848049 , 16.58222769, 18.9268223 , 21.82378575, 17.8860239 ,\n",
       "        3.48036543,  3.03374082,  5.55355209, -1.34836363,  7.56096269,\n",
       "        5.33993411,  9.15055037,  8.79727397,  7.63685989, 11.80314022,\n",
       "       10.84772272, 12.06203137, 17.98582244, 18.88363603, 16.44053373,\n",
       "       13.18400828, 20.18304971, 20.84683915, 21.7253089 , 21.5190186 ,\n",
       "        1.61392814,  3.20533329,  0.78686716,  6.6024131 ,  7.1599779 ,\n",
       "       12.56720936, 12.44193552,  7.1313282 , 17.60992031,  9.72755059,\n",
       "       13.72507266,  9.83558545, 16.74236017, 19.38507199, 16.17522068,\n",
       "       20.26978226, 24.18407431, 16.43598704, 19.21618432, 20.72441277,\n",
       "        7.36506228,  7.31329062,  4.57689421,  5.29397897,  4.88444255,\n",
       "        9.81847226, 15.4974059 , 17.97946592, 20.14824165, 15.43116458,\n",
       "       15.92135019, 14.08929936, 21.32048126, 20.3845429 , 10.81125791,\n",
       "       22.33908021, 22.73321493, 28.4788766 , 28.47190689, 16.07948726,\n",
       "        8.99786547,  7.10539755, 13.96655244,  7.03634573, 10.15789349,\n",
       "        9.45735764,  6.40493897, 15.38201992, 11.67461623, 18.49834956,\n",
       "       11.36613717, 21.12666678, 17.63793265, 23.60985913, 18.73414974,\n",
       "       18.26640687, 31.2254402 , 25.80576851, 26.56382392, 30.6325261 ,\n",
       "        6.42377752, 13.46378935, 10.31900273, 16.60784755, 16.6621499 ,\n",
       "       11.61727003, 16.69888441, 19.20529125, 20.55581561, 17.94718886,\n",
       "       21.71519885, 17.64618478, 24.92537782, 33.9875725 , 23.4165815 ,\n",
       "       30.3515684 , 25.8321418 , 18.59999146, 31.06209504, 32.01043597,\n",
       "       11.86809751, 19.61994041, 10.45538042, 18.55894372, 17.38830909,\n",
       "       18.04139348, 17.79466177, 19.46723085, 24.07521922, 18.35480616,\n",
       "       25.40071381, 17.8166682 , 19.30283941, 27.4967395 , 21.24976009,\n",
       "       24.28206376, 25.4266743 , 31.83024112, 30.04156688, 29.17356334,\n",
       "       13.48644662, 10.27312695, 19.62981025, 17.66083113, 20.94006308,\n",
       "       13.51104723, 23.3016284 , 20.95960691, 25.95940087, 19.77624234,\n",
       "       23.00479992, 25.58398737, 23.47147441, 27.97722069, 25.41048088,\n",
       "       29.50706545, 30.64013082, 26.15703255, 32.91690569, 29.30643325,\n",
       "       15.73514413, 12.46196872, 14.06441622, 21.1479738 , 14.58537912,\n",
       "       25.55570302, 23.0992755 , 19.0429963 , 24.12853102, 24.4455633 ,\n",
       "       20.64351428, 27.58247991, 30.29625771, 34.89480821, 31.58373927,\n",
       "       39.06238977, 33.85395913, 31.16497746, 32.86678668, 31.13028919,\n",
       "       18.29580318, 19.00042972, 23.15747553, 18.37867327, 20.57273224,\n",
       "       18.79398215, 19.4259901 , 25.2049557 , 25.36405767, 22.42733513,\n",
       "       22.93683841, 30.65803727, 31.22058675, 31.14270493, 31.42035943,\n",
       "       31.48436002, 32.7979503 , 32.45906698, 34.92850456, 38.5149808 ])"
      ]
     },
     "execution_count": 7,
     "metadata": {},
     "output_type": "execute_result"
    }
   ],
   "source": [
    "print(np.ravel(z).shape)\n",
    "np.ravel(z)"
   ]
  },
  {
   "cell_type": "code",
   "execution_count": 8,
   "id": "5c3ae6d1-7a2b-4ef2-9309-e9c30f8d8e6d",
   "metadata": {},
   "outputs": [],
   "source": [
    "def f(xy, a, b):\n",
    "    \"\"\"\n",
    "    xy is the 1D array of the indexes\n",
    "    output of the same size of the xy (the z values estimated by the function model\n",
    "    \"\"\"\n",
    "    i = xy // m  # reconstruct y coordinates from the xy indexes\n",
    "    j = xy % m  # reconstruct x coordinates from the xy indexes\n",
    "    out = i * a + j * b\n",
    "    return out"
   ]
  },
  {
   "cell_type": "markdown",
   "id": "f8c05db1-d818-4a9b-b7bd-e8a14881a8fe",
   "metadata": {},
   "source": [
    "# More or less xy becomes the index of the data"
   ]
  },
  {
   "cell_type": "code",
   "execution_count": 9,
   "id": "60aaa44f-17c5-4808-8027-e4f0e05bee66",
   "metadata": {},
   "outputs": [
    {
     "data": {
      "text/plain": [
       "array([  0,   1,   2,   3,   4,   5,   6,   7,   8,   9,  10,  11,  12,\n",
       "        13,  14,  15,  16,  17,  18,  19,  20,  21,  22,  23,  24,  25,\n",
       "        26,  27,  28,  29,  30,  31,  32,  33,  34,  35,  36,  37,  38,\n",
       "        39,  40,  41,  42,  43,  44,  45,  46,  47,  48,  49,  50,  51,\n",
       "        52,  53,  54,  55,  56,  57,  58,  59,  60,  61,  62,  63,  64,\n",
       "        65,  66,  67,  68,  69,  70,  71,  72,  73,  74,  75,  76,  77,\n",
       "        78,  79,  80,  81,  82,  83,  84,  85,  86,  87,  88,  89,  90,\n",
       "        91,  92,  93,  94,  95,  96,  97,  98,  99, 100, 101, 102, 103,\n",
       "       104, 105, 106, 107, 108, 109, 110, 111, 112, 113, 114, 115, 116,\n",
       "       117, 118, 119, 120, 121, 122, 123, 124, 125, 126, 127, 128, 129,\n",
       "       130, 131, 132, 133, 134, 135, 136, 137, 138, 139, 140, 141, 142,\n",
       "       143, 144, 145, 146, 147, 148, 149, 150, 151, 152, 153, 154, 155,\n",
       "       156, 157, 158, 159, 160, 161, 162, 163, 164, 165, 166, 167, 168,\n",
       "       169, 170, 171, 172, 173, 174, 175, 176, 177, 178, 179, 180, 181,\n",
       "       182, 183, 184, 185, 186, 187, 188, 189, 190, 191, 192, 193, 194,\n",
       "       195, 196, 197, 198, 199])"
      ]
     },
     "execution_count": 9,
     "metadata": {},
     "output_type": "execute_result"
    }
   ],
   "source": [
    "xy = np.arange(z.size)  # 0 is the top left pixel and 199 is the top right pixel\n",
    "xy"
   ]
  },
  {
   "cell_type": "code",
   "execution_count": 10,
   "id": "8d4d56ea-6572-4017-8007-84db5312f37b",
   "metadata": {},
   "outputs": [
    {
     "data": {
      "text/plain": [
       "(200,)"
      ]
     },
     "execution_count": 10,
     "metadata": {},
     "output_type": "execute_result"
    }
   ],
   "source": [
    "f(xy,0,0).shape"
   ]
  },
  {
   "cell_type": "markdown",
   "id": "bbd71ffa-3287-4e57-b0a8-edd89ae31de5",
   "metadata": {},
   "source": [
    "## Do the fit"
   ]
  },
  {
   "cell_type": "code",
   "execution_count": 11,
   "id": "a29f65ef-5269-462c-9815-b9464152096f",
   "metadata": {},
   "outputs": [],
   "source": [
    "res = sp.optimize.curve_fit(f, xy, np.ravel(z))\n",
    "\n",
    "z_est = f(xy, *res[0])\n",
    "z_est2d = z_est.reshape(n, m)"
   ]
  },
  {
   "cell_type": "markdown",
   "id": "eab5ab45-b372-4dd6-ae98-fdd1c35ad4c8",
   "metadata": {},
   "source": [
    "## Plot"
   ]
  },
  {
   "cell_type": "code",
   "execution_count": 12,
   "id": "97a75f0e-2d67-4fd6-87b8-c9ffc415646b",
   "metadata": {},
   "outputs": [
    {
     "data": {
      "text/plain": [
       "Text(0.5, 0, 'fitted')"
      ]
     },
     "execution_count": 12,
     "metadata": {},
     "output_type": "execute_result"
    },
    {
     "data": {
      "image/png": "[encoded data removed]",
      "text/plain": [
       "<Figure size 640x480 with 3 Axes>"
      ]
     },
     "metadata": {},
     "output_type": "display_data"
    }
   ],
   "source": [
    "plt.subplot(2, 1, 1)\n",
    "plt.plot(np.ravel(z), label='original')\n",
    "plt.plot(z_est, label='fitted')\n",
    "plt.legend()\n",
    "\n",
    "\n",
    "plt.subplot(2, 2, 3)\n",
    "plt.imshow(z)\n",
    "plt.xlabel('original')\n",
    "\n",
    "plt.subplot(2, 2, 4)\n",
    "plt.imshow(z_est2d)\n",
    "plt.xlabel('fitted')"
   ]
  },
  {
   "cell_type": "code",
   "execution_count": null,
   "id": "a9f36242-0b04-4f83-9252-99a10787e10e",
   "metadata": {},
   "outputs": [],
   "source": []
  }
 ],
 "metadata": {
  "kernelspec": {
   "display_name": "Python 3 (ipykernel)",
   "language": "python",
   "name": "python3"
  },
  "language_info": {
   "codemirror_mode": {
    "name": "ipython",
    "version": 3
   },
   "file_extension": ".py",
   "mimetype": "text/x-python",
   "name": "python",
   "nbconvert_exporter": "python",
   "pygments_lexer": "ipython3",
   "version": "3.9.13"
  }
 },
 "nbformat": 4,
 "nbformat_minor": 5
}
