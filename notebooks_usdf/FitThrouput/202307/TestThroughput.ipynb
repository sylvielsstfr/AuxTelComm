{
 "cells": [
  {
   "cell_type": "markdown",
   "id": "7da60617-4c30-4362-adbb-2061598d4f83",
   "metadata": {},
   "source": [
    "# Test Throughput"
   ]
  },
  {
   "cell_type": "code",
   "execution_count": 1,
   "id": "edddacd6-86df-4d12-ab9a-8fb1d5a0aafd",
   "metadata": {},
   "outputs": [],
   "source": [
    "import pandas as pd\n",
    "import matplotlib as mpl\n",
    "import matplotlib.cm as cm \n",
    "import matplotlib.pyplot as plt\n",
    "import matplotlib.dates as mdates\n",
    "\n",
    "import numpy as np\n",
    "from mpl_toolkits.axes_grid1 import host_subplot\n",
    "import mpl_toolkits.axisartist as AA\n",
    "import os,sys,re\n",
    "\n",
    "from astropy.io import fits\n",
    "import matplotlib.colors as colors\n",
    "import matplotlib.cm as cmx\n",
    "import matplotlib.dates as mdates\n",
    "from matplotlib import gridspec\n",
    "from matplotlib.patches import Rectangle\n",
    "\n",
    "%matplotlib inline\n",
    "import pickle\n",
    "import h5py\n",
    "import seaborn as sns\n",
    "import copy\n",
    "from collections import OrderedDict"
   ]
  },
  {
   "cell_type": "code",
   "execution_count": 2,
   "id": "36704190-5b12-4cf6-8efe-31917fc3089c",
   "metadata": {},
   "outputs": [],
   "source": [
    "# to enlarge the sizes\n",
    "params = {'legend.fontsize': 'x-large',\n",
    "          'figure.figsize': (10, 6),\n",
    "         'axes.labelsize': 'xx-large',\n",
    "         'axes.titlesize':'xx-large',\n",
    "         'xtick.labelsize':'xx-large',\n",
    "         'ytick.labelsize':'xx-large'}\n",
    "plt.rcParams.update(params)"
   ]
  },
  {
   "cell_type": "code",
   "execution_count": 3,
   "id": "362c153a-448f-420d-9b48-569d7a91c87d",
   "metadata": {},
   "outputs": [
    {
     "name": "stdout",
     "output_type": "stream",
     "text": [
      "libThroughputFit.py :: Use atmosphtransmemullsst.__path__[0],'../data/simplegrid as the path to data\n",
      "libThroughputFit.py :: data_path = /Volumes/Backup2020/MacOSX/GitHub/LSST/atmosphtransmemullsst/atmosphtransmemullsst/../data/simplegrid\n",
      "SimpleAtmEmulator:path=/Volumes/Backup2020/MacOSX/GitHub/LSST/atmosphtransmemullsst/atmosphtransmemullsst/../data/simplegrid\n"
     ]
    }
   ],
   "source": [
    "sys.path.append('./lib')\n",
    "from libThoughputFit import *"
   ]
  },
  {
   "cell_type": "code",
   "execution_count": 4,
   "id": "dc3a4ff7-fcac-4146-9fca-2b96e1651dd6",
   "metadata": {},
   "outputs": [],
   "source": [
    "#path = \"../../BouguerLines/202307/dataout/MLfitsmoothGPsmoothGP-absbadremoved-2023-January-17-18-mucol.csv\"\n",
    "path = \"dataout/throughput-2023-01-18-empty~holo4_003-psf2dffm-multifitatmparams-polar.csv\""
   ]
  },
  {
   "cell_type": "code",
   "execution_count": 5,
   "id": "4267cef3-ee21-41cc-af3b-177231eb38f7",
   "metadata": {},
   "outputs": [
    {
     "name": "stdout",
     "output_type": "stream",
     "text": [
      "[195 196 197 198 199 200 201 202 203 204 205 206 207 208 209 210 211 212\n",
      " 213 214 215 216 217 218 219 220 221 222 223 224 225 226 227 228 229 230\n",
      " 231 232 233 234 235 236 237 238 239 240 241 242 243 244 245 246 247 248\n",
      " 249 250 251 252 253 254 255 256 257 258 259 260 261 262 263 264 265 266\n",
      " 267 268 269 270 271 272 273 274 275 276 277 278 279 280 281 282 283 284\n",
      " 285 286 287 288 289 290 291 292 293 294 295 405 406 407 408 409 410 411\n",
      " 412 413 414 415 460 461 462 463 464 465 466 467 468 469 470 471 472 473\n",
      " 474 475 476 477 478 479 480 570 571 572 573 574 575 576 577 578 579 580\n",
      " 581 582 583 584 585 586 587 588 589 590 591 592 593 594 595 596 597 598\n",
      " 599 600 601 602 603 604 605 606 607 608 609 610 611 612 613 614 615 616\n",
      " 617 618 619 620 621 622 623 624 625]\n"
     ]
    }
   ],
   "source": [
    "th = ThrouputCut(path,absband_list = [\"O3\",\"O2_2\",\"H2O_2\",\"H2O_3\"])"
   ]
  },
  {
   "cell_type": "code",
   "execution_count": 6,
   "id": "d7059049-f179-46bb-b703-a06529ff6c2c",
   "metadata": {},
   "outputs": [
    {
     "data": {
      "text/plain": [
       "650.0"
      ]
     },
     "execution_count": 6,
     "metadata": {},
     "output_type": "execute_result"
    }
   ],
   "source": [
    "th.removedbands['O3']['wl'][-1]"
   ]
  },
  {
   "cell_type": "code",
   "execution_count": 7,
   "id": "b4f69f8f-22a4-4cdd-b228-29a56da1e047",
   "metadata": {},
   "outputs": [
    {
     "name": "stdout",
     "output_type": "stream",
     "text": [
      "[195 196 197 198 199 200 201 202 203 204 205 206 207 208 209 210 211 212\n",
      " 213 214 215 216 217 218 219 220 221 222 223 224 225 226 227 228 229 230\n",
      " 231 232 233 234 235 236 237 238 239 240 241 242 243 244 245 246 247 248\n",
      " 249 250 251 252 253 254 255 256 257 258 259 260 261 262 263 264 265 266\n",
      " 267 268 269 270 271 272 273 274 275 276 277 278 279 280 281 282 283 284\n",
      " 285 286 287 288 289 290 291 292 293 294 295 405 406 407 408 409 410 411\n",
      " 412 413 414 415 460 461 462 463 464 465 466 467 468 469 470 471 472 473\n",
      " 474 475 476 477 478 479 480 570 571 572 573 574 575 576 577 578 579 580\n",
      " 581 582 583 584 585 586 587 588 589 590 591 592 593 594 595 596 597 598\n",
      " 599 600 601 602 603 604 605 606 607 608 609 610 611 612 613 614 615 616\n",
      " 617 618 619 620 621 622 623 624 625]\n",
      "O3\n",
      "key =  O3 xx =  [550. 551. 552. 553. 554. 555. 556. 557. 558. 559. 560. 561. 562. 563.\n",
      " 564. 565. 566. 567. 568. 569. 570. 571. 572. 573. 574. 575. 576. 577.\n",
      " 578. 579. 580. 581. 582. 583. 584. 585. 586. 587. 588. 589. 590. 591.\n",
      " 592. 593. 594. 595. 596. 597. 598. 599. 600. 601. 602. 603. 604. 605.\n",
      " 606. 607. 608. 609. 610. 611. 612. 613. 614. 615. 616. 617. 618. 619.\n",
      " 620. 621. 622. 623. 624. 625. 626. 627. 628. 629. 630. 631. 632. 633.\n",
      " 634. 635. 636. 637. 638. 639. 640. 641. 642. 643. 644. 645. 646. 647.\n",
      " 648. 649. 650.] yy=  [0.11774965 0.11770904 0.11766649 0.11762207 0.11757581 0.11752777\n",
      " 0.117478   0.11742656 0.1173735  0.11731888 0.11726276 0.1172052\n",
      " 0.11714625 0.11708598 0.11702446 0.11696175 0.1168979  0.116833\n",
      " 0.11676711 0.11670028 0.1166326  0.11656412 0.11649491 0.11642505\n",
      " 0.1163546  0.11628363 0.11621219 0.11614037 0.11606822 0.11599582\n",
      " 0.11592321 0.11585047 0.11577765 0.11570482 0.11563204 0.11555935\n",
      " 0.11548682 0.11541449 0.11534243 0.11527066 0.11519925 0.11512823\n",
      " 0.11505765 0.11498755 0.11491795 0.11484889 0.11478041 0.11471252\n",
      " 0.11464526 0.11457864 0.11451268 0.11444739 0.11438279 0.11431888\n",
      " 0.11425567 0.11419316 0.11413134 0.11407021 0.11400976 0.11394998\n",
      " 0.11389085 0.11383235 0.11377446 0.11371716 0.1136604  0.11360417\n",
      " 0.11354843 0.11349313 0.11343824 0.11338371 0.1133295  0.11327555\n",
      " 0.11322182 0.11316824 0.11311477 0.11306134 0.1130079  0.11295437\n",
      " 0.1129007  0.11284681 0.11279265 0.11273813 0.1126832  0.11262778\n",
      " 0.11257179 0.11251517 0.11245784 0.11239973 0.11234076 0.11228086\n",
      " 0.11221996 0.11215798 0.11209485 0.1120305  0.11196485 0.11189785\n",
      " 0.11182941 0.11175947 0.11168797 0.11161484 0.11154003]\n",
      "float64\n"
     ]
    },
    {
     "ename": "TypeError",
     "evalue": "'float' object cannot be interpreted as an integer",
     "output_type": "error",
     "traceback": [
      "\u001b[0;31m---------------------------------------------------------------------------\u001b[0m",
      "\u001b[0;31mTypeError\u001b[0m                                 Traceback (most recent call last)",
      "\u001b[0;32m/var/folders/cq/vms8st5136z3q5xx4rd9xqfr0000gw/T/ipykernel_10604/764054131.py\u001b[0m in \u001b[0;36m<module>\u001b[0;34m\u001b[0m\n\u001b[0;32m----> 1\u001b[0;31m \u001b[0mth\u001b[0m \u001b[0;34m=\u001b[0m \u001b[0mThrouputParams\u001b[0m\u001b[0;34m(\u001b[0m\u001b[0mpath\u001b[0m\u001b[0;34m,\u001b[0m\u001b[0mabsband_list\u001b[0m \u001b[0;34m=\u001b[0m \u001b[0;34m[\u001b[0m\u001b[0;34m\"O3\"\u001b[0m\u001b[0;34m,\u001b[0m\u001b[0;34m\"O2_2\"\u001b[0m\u001b[0;34m,\u001b[0m\u001b[0;34m\"H2O_2\"\u001b[0m\u001b[0;34m,\u001b[0m\u001b[0;34m\"H2O_3\"\u001b[0m\u001b[0;34m]\u001b[0m\u001b[0;34m)\u001b[0m\u001b[0;34m\u001b[0m\u001b[0;34m\u001b[0m\u001b[0m\n\u001b[0m",
      "\u001b[0;32m/Volumes/Backup2020/MacOSX/GitHub/LSST/AuxTelComm/notebooks_usdf/FitThrouput/202307/./lib/libThoughputFit.py\u001b[0m in \u001b[0;36m__init__\u001b[0;34m(self, path, absband_list, reso)\u001b[0m\n\u001b[1;32m    152\u001b[0m               \u001b[0mprint\u001b[0m\u001b[0;34m(\u001b[0m\u001b[0;34m\"key = \"\u001b[0m\u001b[0;34m,\u001b[0m\u001b[0mkey\u001b[0m\u001b[0;34m,\u001b[0m\u001b[0;34m\"xx = \"\u001b[0m\u001b[0;34m,\u001b[0m\u001b[0mxx\u001b[0m\u001b[0;34m,\u001b[0m\u001b[0;34m\"yy= \"\u001b[0m\u001b[0;34m,\u001b[0m\u001b[0myy\u001b[0m\u001b[0;34m)\u001b[0m\u001b[0;34m\u001b[0m\u001b[0;34m\u001b[0m\u001b[0m\n\u001b[1;32m    153\u001b[0m               \u001b[0mprint\u001b[0m\u001b[0;34m(\u001b[0m\u001b[0mxx\u001b[0m\u001b[0;34m.\u001b[0m\u001b[0mdtype\u001b[0m\u001b[0;34m)\u001b[0m\u001b[0;34m\u001b[0m\u001b[0;34m\u001b[0m\u001b[0m\n\u001b[0;32m--> 154\u001b[0;31m               \u001b[0mxpoints\u001b[0m \u001b[0;34m=\u001b[0m \u001b[0mnp\u001b[0m\u001b[0;34m.\u001b[0m\u001b[0mlinspace\u001b[0m\u001b[0;34m(\u001b[0m\u001b[0mxx\u001b[0m\u001b[0;34m[\u001b[0m\u001b[0;36m0\u001b[0m\u001b[0;34m]\u001b[0m\u001b[0;34m,\u001b[0m\u001b[0mxx\u001b[0m\u001b[0;34m[\u001b[0m\u001b[0;34m-\u001b[0m\u001b[0;36m1\u001b[0m\u001b[0;34m]\u001b[0m\u001b[0;34m,\u001b[0m\u001b[0mreso\u001b[0m\u001b[0;34m)\u001b[0m\u001b[0;34m\u001b[0m\u001b[0;34m\u001b[0m\u001b[0m\n\u001b[0m\u001b[1;32m    155\u001b[0m               \u001b[0mypoints\u001b[0m \u001b[0;34m=\u001b[0m \u001b[0mnp\u001b[0m\u001b[0;34m.\u001b[0m\u001b[0minterp\u001b[0m\u001b[0;34m(\u001b[0m\u001b[0mxpoints\u001b[0m\u001b[0;34m,\u001b[0m\u001b[0mxx\u001b[0m\u001b[0;34m,\u001b[0m\u001b[0myy\u001b[0m\u001b[0;34m)\u001b[0m\u001b[0;34m\u001b[0m\u001b[0;34m\u001b[0m\u001b[0m\n\u001b[1;32m    156\u001b[0m               \u001b[0mpoints_list\u001b[0m \u001b[0;34m=\u001b[0m \u001b[0;34m{\u001b[0m\u001b[0;34m}\u001b[0m\u001b[0;34m\u001b[0m\u001b[0;34m\u001b[0m\u001b[0m\n",
      "\u001b[0;32m<__array_function__ internals>\u001b[0m in \u001b[0;36mlinspace\u001b[0;34m(*args, **kwargs)\u001b[0m\n",
      "\u001b[0;32m~/opt/anaconda3/lib/python3.9/site-packages/numpy/core/function_base.py\u001b[0m in \u001b[0;36mlinspace\u001b[0;34m(start, stop, num, endpoint, retstep, dtype, axis)\u001b[0m\n\u001b[1;32m    118\u001b[0m \u001b[0;34m\u001b[0m\u001b[0m\n\u001b[1;32m    119\u001b[0m     \"\"\"\n\u001b[0;32m--> 120\u001b[0;31m     \u001b[0mnum\u001b[0m \u001b[0;34m=\u001b[0m \u001b[0moperator\u001b[0m\u001b[0;34m.\u001b[0m\u001b[0mindex\u001b[0m\u001b[0;34m(\u001b[0m\u001b[0mnum\u001b[0m\u001b[0;34m)\u001b[0m\u001b[0;34m\u001b[0m\u001b[0;34m\u001b[0m\u001b[0m\n\u001b[0m\u001b[1;32m    121\u001b[0m     \u001b[0;32mif\u001b[0m \u001b[0mnum\u001b[0m \u001b[0;34m<\u001b[0m \u001b[0;36m0\u001b[0m\u001b[0;34m:\u001b[0m\u001b[0;34m\u001b[0m\u001b[0;34m\u001b[0m\u001b[0m\n\u001b[1;32m    122\u001b[0m         \u001b[0;32mraise\u001b[0m \u001b[0mValueError\u001b[0m\u001b[0;34m(\u001b[0m\u001b[0;34m\"Number of samples, %s, must be non-negative.\"\u001b[0m \u001b[0;34m%\u001b[0m \u001b[0mnum\u001b[0m\u001b[0;34m)\u001b[0m\u001b[0;34m\u001b[0m\u001b[0;34m\u001b[0m\u001b[0m\n",
      "\u001b[0;31mTypeError\u001b[0m: 'float' object cannot be interpreted as an integer"
     ]
    }
   ],
   "source": [
    "th = ThrouputParams(path,absband_list = [\"O3\",\"O2_2\",\"H2O_2\",\"H2O_3\"])"
   ]
  },
  {
   "cell_type": "code",
   "execution_count": null,
   "id": "6a5c3852-f46d-4129-a60d-27df7d235602",
   "metadata": {},
   "outputs": [],
   "source": [
    "th"
   ]
  },
  {
   "cell_type": "code",
   "execution_count": null,
   "id": "1d1981ff-93f6-4776-b672-0f27b6443c06",
   "metadata": {},
   "outputs": [],
   "source": [
    "plt.plot(th.wl,th.th,'.',marker=\".\", markersize=5)"
   ]
  },
  {
   "cell_type": "code",
   "execution_count": null,
   "id": "a0015939-f314-4e37-9702-c43ec4e394f5",
   "metadata": {},
   "outputs": [],
   "source": [
    "#vars(th)\n",
    "th.removedbands"
   ]
  },
  {
   "cell_type": "code",
   "execution_count": null,
   "id": "d6fe89e0-3881-4296-9e50-8796591bf71a",
   "metadata": {},
   "outputs": [],
   "source": [
    "th.removedbands"
   ]
  },
  {
   "cell_type": "code",
   "execution_count": null,
   "id": "23c2c3d0-58f8-46f9-a798-8b953c45b8a8",
   "metadata": {},
   "outputs": [],
   "source": []
  }
 ],
 "metadata": {
  "kernelspec": {
   "display_name": "Python 3 (ipykernel)",
   "language": "python",
   "name": "python3"
  },
  "language_info": {
   "codemirror_mode": {
    "name": "ipython",
    "version": 3
   },
   "file_extension": ".py",
   "mimetype": "text/x-python",
   "name": "python",
   "nbconvert_exporter": "python",
   "pygments_lexer": "ipython3",
   "version": "3.9.13"
  }
 },
 "nbformat": 4,
 "nbformat_minor": 5
}
