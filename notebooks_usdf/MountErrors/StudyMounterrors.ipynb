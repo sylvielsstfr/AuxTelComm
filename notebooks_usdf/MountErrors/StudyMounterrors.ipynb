{
 "cells": [
  {
   "cell_type": "markdown",
   "id": "53600e67-5777-450b-a1b9-c55d5343cf1a",
   "metadata": {},
   "source": [
    "# Mount errors"
   ]
  },
  {
   "cell_type": "code",
   "execution_count": 1,
   "id": "ced0479f-5333-40bf-a56c-171e0d38bf3e",
   "metadata": {
    "execution": {
     "iopub.execute_input": "2023-03-31T12:50:15.004776Z",
     "iopub.status.busy": "2023-03-31T12:50:15.004648Z",
     "iopub.status.idle": "2023-03-31T12:50:15.006884Z",
     "shell.execute_reply": "2023-03-31T12:50:15.006478Z",
     "shell.execute_reply.started": "2023-03-31T12:50:15.004763Z"
    },
    "tags": []
   },
   "outputs": [],
   "source": [
    "import pickle\n",
    "import pandas as pd\n",
    "import numpy as np"
   ]
  },
  {
   "cell_type": "code",
   "execution_count": 2,
   "id": "885dabd1-1686-44ff-af8d-1ad215b6a56f",
   "metadata": {
    "execution": {
     "iopub.execute_input": "2023-03-31T12:50:15.007578Z",
     "iopub.status.busy": "2023-03-31T12:50:15.007449Z",
     "iopub.status.idle": "2023-03-31T12:50:15.232670Z",
     "shell.execute_reply": "2023-03-31T12:50:15.232115Z",
     "shell.execute_reply.started": "2023-03-31T12:50:15.007565Z"
    }
   },
   "outputs": [],
   "source": [
    "import matplotlib.pyplot as plt\n",
    "%matplotlib inline\n",
    "from mpl_toolkits.axes_grid1 import make_axes_locatable"
   ]
  },
  {
   "cell_type": "code",
   "execution_count": 3,
   "id": "3cf1f3f7-2fa8-4536-884b-53c070bb938b",
   "metadata": {
    "execution": {
     "iopub.execute_input": "2023-03-31T12:50:15.233672Z",
     "iopub.status.busy": "2023-03-31T12:50:15.233382Z",
     "iopub.status.idle": "2023-03-31T12:50:15.236759Z",
     "shell.execute_reply": "2023-03-31T12:50:15.236331Z",
     "shell.execute_reply.started": "2023-03-31T12:50:15.233657Z"
    },
    "tags": []
   },
   "outputs": [],
   "source": [
    "import matplotlib.ticker                         # here's where the formatter is\n",
    "import os\n",
    "import re\n",
    "import pandas as pd\n",
    "\n",
    "plt.rcParams[\"figure.figsize\"] = (10,4)\n",
    "plt.rcParams[\"axes.labelsize\"] = 'xx-large'\n",
    "plt.rcParams['axes.titlesize'] = 'xx-large'\n",
    "plt.rcParams['xtick.labelsize']= 'xx-large'\n",
    "plt.rcParams['ytick.labelsize']= 'xx-large'"
   ]
  },
  {
   "cell_type": "code",
   "execution_count": 4,
   "id": "803a815c-d1fb-474d-969a-2b4d829a289c",
   "metadata": {
    "execution": {
     "iopub.execute_input": "2023-03-31T12:50:15.237517Z",
     "iopub.status.busy": "2023-03-31T12:50:15.237375Z",
     "iopub.status.idle": "2023-03-31T12:50:15.240307Z",
     "shell.execute_reply": "2023-03-31T12:50:15.239860Z",
     "shell.execute_reply.started": "2023-03-31T12:50:15.237503Z"
    }
   },
   "outputs": [],
   "source": [
    "pandasFilename = \"mountErrors.csv\""
   ]
  },
  {
   "cell_type": "code",
   "execution_count": 5,
   "id": "59bb207d-cf1b-4ce2-98ad-72ba093b606c",
   "metadata": {
    "execution": {
     "iopub.execute_input": "2023-03-31T12:50:15.241060Z",
     "iopub.status.busy": "2023-03-31T12:50:15.240892Z",
     "iopub.status.idle": "2023-03-31T12:50:15.274447Z",
     "shell.execute_reply": "2023-03-31T12:50:15.273931Z",
     "shell.execute_reply.started": "2023-03-31T12:50:15.241026Z"
    },
    "tags": []
   },
   "outputs": [],
   "source": [
    "\n",
    "pickleFilename = \"mountErrors.pickle\"\n",
    "with open(pickleFilename, \"rb\") as f:\n",
    "    mountErrors = pickle.load(f)"
   ]
  },
  {
   "cell_type": "code",
   "execution_count": 6,
   "id": "0c275de2-fe59-4d17-8175-1160a0b29a04",
   "metadata": {
    "execution": {
     "iopub.execute_input": "2023-03-31T12:50:15.276272Z",
     "iopub.status.busy": "2023-03-31T12:50:15.276119Z",
     "iopub.status.idle": "2023-03-31T12:50:15.279676Z",
     "shell.execute_reply": "2023-03-31T12:50:15.279252Z",
     "shell.execute_reply.started": "2023-03-31T12:50:15.276256Z"
    },
    "tags": []
   },
   "outputs": [
    {
     "data": {
      "text/plain": [
       "dict"
      ]
     },
     "execution_count": 6,
     "metadata": {},
     "output_type": "execute_result"
    }
   ],
   "source": [
    "type(mountErrors)"
   ]
  },
  {
   "cell_type": "code",
   "execution_count": 7,
   "id": "b1be154f-c32b-4170-8749-294e393f1829",
   "metadata": {
    "execution": {
     "iopub.execute_input": "2023-03-31T12:50:15.280347Z",
     "iopub.status.busy": "2023-03-31T12:50:15.280212Z",
     "iopub.status.idle": "2023-03-31T12:50:15.282822Z",
     "shell.execute_reply": "2023-03-31T12:50:15.282411Z",
     "shell.execute_reply.started": "2023-03-31T12:50:15.280334Z"
    },
    "tags": []
   },
   "outputs": [],
   "source": [
    "list_of_keys = list(mountErrors.keys())"
   ]
  },
  {
   "cell_type": "markdown",
   "id": "8403866a-cc77-487d-9c47-da78622c8d1c",
   "metadata": {},
   "source": [
    "    (20220912, 72): {'az_rms': 0.004986849940960544,\n",
    "    'el_rms': 0.004895265935733304,\n",
    "    'rot_rms': 0.15965472742011194,\n",
    "    'image_az_rms': 0.0038756729812899683,\n",
    "    'image_el_rms': 0.004895265935733304,\n",
    "    'image_rot_rms': 0.00021672782909983534},"
   ]
  },
  {
   "cell_type": "code",
   "execution_count": 8,
   "id": "384f5b10-3919-4ef5-b730-0aa380c23e7b",
   "metadata": {
    "execution": {
     "iopub.execute_input": "2023-03-31T12:50:15.283481Z",
     "iopub.status.busy": "2023-03-31T12:50:15.283350Z",
     "iopub.status.idle": "2023-03-31T12:50:15.287832Z",
     "shell.execute_reply": "2023-03-31T12:50:15.287389Z",
     "shell.execute_reply.started": "2023-03-31T12:50:15.283468Z"
    },
    "tags": []
   },
   "outputs": [],
   "source": [
    "df_infos=pd.DataFrame(columns=['idx','date_obs','seq','exposure','status','az_rms','el_rms','rot_rms','image_az_rms','image_el_rms','image_rot_rms'])"
   ]
  },
  {
   "cell_type": "code",
   "execution_count": 9,
   "id": "9c52a9c1-3f50-4274-836d-4535e0d0022e",
   "metadata": {
    "execution": {
     "iopub.execute_input": "2023-03-31T12:50:15.288556Z",
     "iopub.status.busy": "2023-03-31T12:50:15.288420Z",
     "iopub.status.idle": "2023-03-31T12:50:34.089894Z",
     "shell.execute_reply": "2023-03-31T12:50:34.089332Z",
     "shell.execute_reply.started": "2023-03-31T12:50:15.288543Z"
    },
    "tags": []
   },
   "outputs": [],
   "source": [
    "idx=0\n",
    "for key in list_of_keys:\n",
    "    value = mountErrors[key]\n",
    "    \n",
    "    if value!= False and value != 'failed':\n",
    "        dateobs=key[0]\n",
    "        seq=key[1]\n",
    "        exposure = dateobs*100000 + seq\n",
    "        \n",
    "        az_rms = value['az_rms']\n",
    "        el_rms = value['el_rms']\n",
    "        rot_rms = value['rot_rms']\n",
    "        image_az_rms = value['image_az_rms']\n",
    "        image_el_rms = value['image_el_rms']\n",
    "        image_rot_rms = value['image_rot_rms'] \n",
    "        \n",
    "        arr = [idx,dateobs,seq,exposure,True,az_rms,el_rms,rot_rms,image_az_rms,image_el_rms,image_rot_rms]\n",
    "\n",
    "        df_infos.loc[idx] = arr\n",
    "    idx+=1\n",
    "    "
   ]
  },
  {
   "cell_type": "code",
   "execution_count": 10,
   "id": "32ddaf3c-291a-44fe-93df-6883861e05b6",
   "metadata": {
    "execution": {
     "iopub.execute_input": "2023-03-31T12:50:34.090938Z",
     "iopub.status.busy": "2023-03-31T12:50:34.090764Z",
     "iopub.status.idle": "2023-03-31T12:50:34.094424Z",
     "shell.execute_reply": "2023-03-31T12:50:34.093984Z",
     "shell.execute_reply.started": "2023-03-31T12:50:34.090922Z"
    },
    "tags": []
   },
   "outputs": [
    {
     "data": {
      "text/plain": [
       "0.004986849940960544"
      ]
     },
     "execution_count": 10,
     "metadata": {},
     "output_type": "execute_result"
    }
   ],
   "source": [
    "mountErrors[(20220912, 72)]['az_rms']"
   ]
  },
  {
   "cell_type": "code",
   "execution_count": 11,
   "id": "fd37fcc8-fc74-4d27-a40a-33523c9f06d5",
   "metadata": {
    "execution": {
     "iopub.execute_input": "2023-03-31T12:50:34.095185Z",
     "iopub.status.busy": "2023-03-31T12:50:34.095045Z",
     "iopub.status.idle": "2023-03-31T12:50:34.098808Z",
     "shell.execute_reply": "2023-03-31T12:50:34.098399Z",
     "shell.execute_reply.started": "2023-03-31T12:50:34.095172Z"
    }
   },
   "outputs": [
    {
     "data": {
      "text/plain": [
       "False"
      ]
     },
     "execution_count": 11,
     "metadata": {},
     "output_type": "execute_result"
    }
   ],
   "source": [
    "value"
   ]
  },
  {
   "cell_type": "code",
   "execution_count": 12,
   "id": "b4e0c136-24a4-4731-9f2f-8759ee220cd9",
   "metadata": {
    "execution": {
     "iopub.execute_input": "2023-03-31T12:50:34.099531Z",
     "iopub.status.busy": "2023-03-31T12:50:34.099390Z",
     "iopub.status.idle": "2023-03-31T12:50:34.109615Z",
     "shell.execute_reply": "2023-03-31T12:50:34.109220Z",
     "shell.execute_reply.started": "2023-03-31T12:50:34.099517Z"
    },
    "tags": []
   },
   "outputs": [
    {
     "data": {
      "text/html": [
       "<div>\n",
       "<style scoped>\n",
       "    .dataframe tbody tr th:only-of-type {\n",
       "        vertical-align: middle;\n",
       "    }\n",
       "\n",
       "    .dataframe tbody tr th {\n",
       "        vertical-align: top;\n",
       "    }\n",
       "\n",
       "    .dataframe thead th {\n",
       "        text-align: right;\n",
       "    }\n",
       "</style>\n",
       "<table border=\"1\" class=\"dataframe\">\n",
       "  <thead>\n",
       "    <tr style=\"text-align: right;\">\n",
       "      <th></th>\n",
       "      <th>idx</th>\n",
       "      <th>date_obs</th>\n",
       "      <th>seq</th>\n",
       "      <th>exposure</th>\n",
       "      <th>status</th>\n",
       "      <th>az_rms</th>\n",
       "      <th>el_rms</th>\n",
       "      <th>rot_rms</th>\n",
       "      <th>image_az_rms</th>\n",
       "      <th>image_el_rms</th>\n",
       "      <th>image_rot_rms</th>\n",
       "    </tr>\n",
       "  </thead>\n",
       "  <tbody>\n",
       "    <tr>\n",
       "      <th>437</th>\n",
       "      <td>437</td>\n",
       "      <td>20220908</td>\n",
       "      <td>66</td>\n",
       "      <td>2022090800066</td>\n",
       "      <td>True</td>\n",
       "      <td>0.040777</td>\n",
       "      <td>0.026023</td>\n",
       "      <td>0.291703</td>\n",
       "      <td>0.020020</td>\n",
       "      <td>0.026023</td>\n",
       "      <td>0.000396</td>\n",
       "    </tr>\n",
       "    <tr>\n",
       "      <th>444</th>\n",
       "      <td>444</td>\n",
       "      <td>20220908</td>\n",
       "      <td>73</td>\n",
       "      <td>2022090800073</td>\n",
       "      <td>True</td>\n",
       "      <td>0.011192</td>\n",
       "      <td>0.007489</td>\n",
       "      <td>0.614963</td>\n",
       "      <td>0.005322</td>\n",
       "      <td>0.007489</td>\n",
       "      <td>0.000835</td>\n",
       "    </tr>\n",
       "    <tr>\n",
       "      <th>447</th>\n",
       "      <td>447</td>\n",
       "      <td>20220912</td>\n",
       "      <td>3</td>\n",
       "      <td>2022091200003</td>\n",
       "      <td>True</td>\n",
       "      <td>0.006601</td>\n",
       "      <td>0.005453</td>\n",
       "      <td>0.706174</td>\n",
       "      <td>0.005130</td>\n",
       "      <td>0.005453</td>\n",
       "      <td>0.000959</td>\n",
       "    </tr>\n",
       "    <tr>\n",
       "      <th>516</th>\n",
       "      <td>516</td>\n",
       "      <td>20220912</td>\n",
       "      <td>72</td>\n",
       "      <td>2022091200072</td>\n",
       "      <td>True</td>\n",
       "      <td>0.004987</td>\n",
       "      <td>0.004895</td>\n",
       "      <td>0.159655</td>\n",
       "      <td>0.003876</td>\n",
       "      <td>0.004895</td>\n",
       "      <td>0.000217</td>\n",
       "    </tr>\n",
       "    <tr>\n",
       "      <th>522</th>\n",
       "      <td>522</td>\n",
       "      <td>20220912</td>\n",
       "      <td>78</td>\n",
       "      <td>2022091200078</td>\n",
       "      <td>True</td>\n",
       "      <td>0.098272</td>\n",
       "      <td>0.052172</td>\n",
       "      <td>0.148901</td>\n",
       "      <td>0.048586</td>\n",
       "      <td>0.052172</td>\n",
       "      <td>0.000202</td>\n",
       "    </tr>\n",
       "    <tr>\n",
       "      <th>...</th>\n",
       "      <td>...</td>\n",
       "      <td>...</td>\n",
       "      <td>...</td>\n",
       "      <td>...</td>\n",
       "      <td>...</td>\n",
       "      <td>...</td>\n",
       "      <td>...</td>\n",
       "      <td>...</td>\n",
       "      <td>...</td>\n",
       "      <td>...</td>\n",
       "      <td>...</td>\n",
       "    </tr>\n",
       "    <tr>\n",
       "      <th>43253</th>\n",
       "      <td>43253</td>\n",
       "      <td>20230321</td>\n",
       "      <td>43</td>\n",
       "      <td>2023032100043</td>\n",
       "      <td>True</td>\n",
       "      <td>0.010867</td>\n",
       "      <td>0.011750</td>\n",
       "      <td>0.004012</td>\n",
       "      <td>0.009384</td>\n",
       "      <td>0.011750</td>\n",
       "      <td>0.000005</td>\n",
       "    </tr>\n",
       "    <tr>\n",
       "      <th>43254</th>\n",
       "      <td>43254</td>\n",
       "      <td>20230321</td>\n",
       "      <td>44</td>\n",
       "      <td>2023032100044</td>\n",
       "      <td>True</td>\n",
       "      <td>0.010794</td>\n",
       "      <td>0.007538</td>\n",
       "      <td>0.007706</td>\n",
       "      <td>0.009318</td>\n",
       "      <td>0.007538</td>\n",
       "      <td>0.000010</td>\n",
       "    </tr>\n",
       "    <tr>\n",
       "      <th>43255</th>\n",
       "      <td>43255</td>\n",
       "      <td>20230321</td>\n",
       "      <td>45</td>\n",
       "      <td>2023032100045</td>\n",
       "      <td>True</td>\n",
       "      <td>0.023044</td>\n",
       "      <td>0.014788</td>\n",
       "      <td>0.300176</td>\n",
       "      <td>0.019884</td>\n",
       "      <td>0.014788</td>\n",
       "      <td>0.000407</td>\n",
       "    </tr>\n",
       "    <tr>\n",
       "      <th>43256</th>\n",
       "      <td>43256</td>\n",
       "      <td>20230321</td>\n",
       "      <td>46</td>\n",
       "      <td>2023032100046</td>\n",
       "      <td>True</td>\n",
       "      <td>0.265174</td>\n",
       "      <td>0.060447</td>\n",
       "      <td>0.004043</td>\n",
       "      <td>0.246965</td>\n",
       "      <td>0.060447</td>\n",
       "      <td>0.000005</td>\n",
       "    </tr>\n",
       "    <tr>\n",
       "      <th>43262</th>\n",
       "      <td>43262</td>\n",
       "      <td>20230321</td>\n",
       "      <td>52</td>\n",
       "      <td>2023032100052</td>\n",
       "      <td>True</td>\n",
       "      <td>0.214062</td>\n",
       "      <td>0.049427</td>\n",
       "      <td>0.007835</td>\n",
       "      <td>0.198238</td>\n",
       "      <td>0.049427</td>\n",
       "      <td>0.000011</td>\n",
       "    </tr>\n",
       "  </tbody>\n",
       "</table>\n",
       "<p>16650 rows × 11 columns</p>\n",
       "</div>"
      ],
      "text/plain": [
       "         idx  date_obs  seq       exposure  status    az_rms    el_rms  \\\n",
       "437      437  20220908   66  2022090800066    True  0.040777  0.026023   \n",
       "444      444  20220908   73  2022090800073    True  0.011192  0.007489   \n",
       "447      447  20220912    3  2022091200003    True  0.006601  0.005453   \n",
       "516      516  20220912   72  2022091200072    True  0.004987  0.004895   \n",
       "522      522  20220912   78  2022091200078    True  0.098272  0.052172   \n",
       "...      ...       ...  ...            ...     ...       ...       ...   \n",
       "43253  43253  20230321   43  2023032100043    True  0.010867  0.011750   \n",
       "43254  43254  20230321   44  2023032100044    True  0.010794  0.007538   \n",
       "43255  43255  20230321   45  2023032100045    True  0.023044  0.014788   \n",
       "43256  43256  20230321   46  2023032100046    True  0.265174  0.060447   \n",
       "43262  43262  20230321   52  2023032100052    True  0.214062  0.049427   \n",
       "\n",
       "        rot_rms  image_az_rms  image_el_rms  image_rot_rms  \n",
       "437    0.291703      0.020020      0.026023       0.000396  \n",
       "444    0.614963      0.005322      0.007489       0.000835  \n",
       "447    0.706174      0.005130      0.005453       0.000959  \n",
       "516    0.159655      0.003876      0.004895       0.000217  \n",
       "522    0.148901      0.048586      0.052172       0.000202  \n",
       "...         ...           ...           ...            ...  \n",
       "43253  0.004012      0.009384      0.011750       0.000005  \n",
       "43254  0.007706      0.009318      0.007538       0.000010  \n",
       "43255  0.300176      0.019884      0.014788       0.000407  \n",
       "43256  0.004043      0.246965      0.060447       0.000005  \n",
       "43262  0.007835      0.198238      0.049427       0.000011  \n",
       "\n",
       "[16650 rows x 11 columns]"
      ]
     },
     "execution_count": 12,
     "metadata": {},
     "output_type": "execute_result"
    }
   ],
   "source": [
    "df_infos"
   ]
  },
  {
   "cell_type": "code",
   "execution_count": 21,
   "id": "40b72df1-c7fe-406b-b8c2-f7100528c671",
   "metadata": {
    "execution": {
     "iopub.execute_input": "2023-03-31T12:50:41.029935Z",
     "iopub.status.busy": "2023-03-31T12:50:41.029675Z",
     "iopub.status.idle": "2023-03-31T12:50:41.155578Z",
     "shell.execute_reply": "2023-03-31T12:50:41.155067Z",
     "shell.execute_reply.started": "2023-03-31T12:50:41.029915Z"
    }
   },
   "outputs": [
    {
     "data": {
      "image/png": "[encoded data removed]",
      "text/plain": [
       "<Figure size 1000x400 with 1 Axes>"
      ]
     },
     "metadata": {},
     "output_type": "display_data"
    }
   ],
   "source": [
    "plt.hist(df_infos[\"az_rms\"].values,bins=50, range=(0,0.5));"
   ]
  },
  {
   "cell_type": "code",
   "execution_count": 13,
   "id": "9ba8a422-da4f-422d-8e88-39a5a8b97ffc",
   "metadata": {
    "execution": {
     "iopub.execute_input": "2023-03-31T12:50:34.110309Z",
     "iopub.status.busy": "2023-03-31T12:50:34.110173Z",
     "iopub.status.idle": "2023-03-31T12:50:34.244254Z",
     "shell.execute_reply": "2023-03-31T12:50:34.243702Z",
     "shell.execute_reply.started": "2023-03-31T12:50:34.110295Z"
    },
    "tags": []
   },
   "outputs": [
    {
     "data": {
      "image/png": "[encoded data removed]",
      "text/plain": [
       "<Figure size 1000x400 with 1 Axes>"
      ]
     },
     "metadata": {},
     "output_type": "display_data"
    }
   ],
   "source": [
    "plt.hist(df_infos[\"el_rms\"].values,bins=50, range=(0,0.5));"
   ]
  },
  {
   "cell_type": "code",
   "execution_count": 14,
   "id": "b424ddf6-9f22-4b16-8ae3-b877012fcf36",
   "metadata": {
    "execution": {
     "iopub.execute_input": "2023-03-31T12:50:34.245225Z",
     "iopub.status.busy": "2023-03-31T12:50:34.245042Z",
     "iopub.status.idle": "2023-03-31T12:50:34.371912Z",
     "shell.execute_reply": "2023-03-31T12:50:34.371453Z",
     "shell.execute_reply.started": "2023-03-31T12:50:34.245203Z"
    },
    "tags": []
   },
   "outputs": [
    {
     "data": {
      "image/png": "[encoded data removed]",
      "text/plain": [
       "<Figure size 1000x400 with 1 Axes>"
      ]
     },
     "metadata": {},
     "output_type": "display_data"
    }
   ],
   "source": [
    "plt.hist(df_infos[\"rot_rms\"].values,bins=50, range=(0,0.5));"
   ]
  },
  {
   "cell_type": "code",
   "execution_count": 15,
   "id": "cefd8fb2-a460-4dff-8a76-930b63e7ea6e",
   "metadata": {
    "execution": {
     "iopub.execute_input": "2023-03-31T12:50:34.372741Z",
     "iopub.status.busy": "2023-03-31T12:50:34.372586Z",
     "iopub.status.idle": "2023-03-31T12:50:34.578117Z",
     "shell.execute_reply": "2023-03-31T12:50:34.577650Z",
     "shell.execute_reply.started": "2023-03-31T12:50:34.372725Z"
    }
   },
   "outputs": [
    {
     "data": {
      "image/png": "[encoded data removed]",
      "text/plain": [
       "<Figure size 1000x400 with 1 Axes>"
      ]
     },
     "metadata": {},
     "output_type": "display_data"
    }
   ],
   "source": [
    "plt.hist(df_infos[\"image_az_rms\"].values,bins=50, range=(0,0.5));"
   ]
  },
  {
   "cell_type": "code",
   "execution_count": 16,
   "id": "5f97a959-1cc8-4d82-9e31-0fae3f83eb8f",
   "metadata": {
    "execution": {
     "iopub.execute_input": "2023-03-31T12:50:34.578940Z",
     "iopub.status.busy": "2023-03-31T12:50:34.578779Z",
     "iopub.status.idle": "2023-03-31T12:50:34.704178Z",
     "shell.execute_reply": "2023-03-31T12:50:34.703675Z",
     "shell.execute_reply.started": "2023-03-31T12:50:34.578924Z"
    }
   },
   "outputs": [
    {
     "data": {
      "image/png": "[encoded data removed]",
      "text/plain": [
       "<Figure size 1000x400 with 1 Axes>"
      ]
     },
     "metadata": {},
     "output_type": "display_data"
    }
   ],
   "source": [
    "plt.hist(df_infos[\"image_el_rms\"].values,bins=50, range=(0,0.5));"
   ]
  },
  {
   "cell_type": "code",
   "execution_count": 17,
   "id": "76a1e17f-0c9d-41da-8f1c-932922542c4c",
   "metadata": {
    "execution": {
     "iopub.execute_input": "2023-03-31T12:50:34.705061Z",
     "iopub.status.busy": "2023-03-31T12:50:34.704904Z",
     "iopub.status.idle": "2023-03-31T12:50:34.829058Z",
     "shell.execute_reply": "2023-03-31T12:50:34.828579Z",
     "shell.execute_reply.started": "2023-03-31T12:50:34.705046Z"
    },
    "tags": []
   },
   "outputs": [
    {
     "data": {
      "image/png": "[encoded data removed]",
      "text/plain": [
       "<Figure size 1000x400 with 1 Axes>"
      ]
     },
     "metadata": {},
     "output_type": "display_data"
    }
   ],
   "source": [
    "plt.hist(df_infos['image_rot_rms'].values,bins=50, range=(0,1e-3));"
   ]
  },
  {
   "cell_type": "code",
   "execution_count": 18,
   "id": "50e2035a-d9ac-4c7d-9f9b-9376f3c1a04e",
   "metadata": {
    "execution": {
     "iopub.execute_input": "2023-03-31T12:50:34.829867Z",
     "iopub.status.busy": "2023-03-31T12:50:34.829717Z",
     "iopub.status.idle": "2023-03-31T12:50:34.951778Z",
     "shell.execute_reply": "2023-03-31T12:50:34.951346Z",
     "shell.execute_reply.started": "2023-03-31T12:50:34.829852Z"
    },
    "tags": []
   },
   "outputs": [
    {
     "data": {
      "text/plain": [
       "(array([2.0220e+12, 2.0222e+12, 2.0224e+12, 2.0226e+12, 2.0228e+12,\n",
       "        2.0230e+12, 2.0232e+12]),\n",
       " [Text(2022000000000.0, 0, '2.0220'),\n",
       "  Text(2022200000000.0, 0, '2.0222'),\n",
       "  Text(2022400000000.0, 0, '2.0224'),\n",
       "  Text(2022600000000.0, 0, '2.0226'),\n",
       "  Text(2022800000000.0, 0, '2.0228'),\n",
       "  Text(2023000000000.0, 0, '2.0230'),\n",
       "  Text(2023200000000.0, 0, '2.0232')])"
      ]
     },
     "execution_count": 18,
     "metadata": {},
     "output_type": "execute_result"
    },
    {
     "data": {
      "image/png": "[encoded data removed]",
      "text/plain": [
       "<Figure size 1000x400 with 1 Axes>"
      ]
     },
     "metadata": {},
     "output_type": "display_data"
    }
   ],
   "source": [
    "plt.scatter(df_infos['exposure'].values,df_infos[\"el_rms\"].values);\n",
    "plt.xticks(rotation=90)"
   ]
  },
  {
   "cell_type": "code",
   "execution_count": 19,
   "id": "4b175646-251b-4473-9011-8fc1632993c8",
   "metadata": {
    "execution": {
     "iopub.execute_input": "2023-03-31T12:50:34.952552Z",
     "iopub.status.busy": "2023-03-31T12:50:34.952408Z",
     "iopub.status.idle": "2023-03-31T12:50:35.066622Z",
     "shell.execute_reply": "2023-03-31T12:50:35.066153Z",
     "shell.execute_reply.started": "2023-03-31T12:50:34.952538Z"
    }
   },
   "outputs": [
    {
     "data": {
      "text/plain": [
       "(array([2.0220e+12, 2.0222e+12, 2.0224e+12, 2.0226e+12, 2.0228e+12,\n",
       "        2.0230e+12, 2.0232e+12]),\n",
       " [Text(2022000000000.0, 0, '2.0220'),\n",
       "  Text(2022200000000.0, 0, '2.0222'),\n",
       "  Text(2022400000000.0, 0, '2.0224'),\n",
       "  Text(2022600000000.0, 0, '2.0226'),\n",
       "  Text(2022800000000.0, 0, '2.0228'),\n",
       "  Text(2023000000000.0, 0, '2.0230'),\n",
       "  Text(2023200000000.0, 0, '2.0232')])"
      ]
     },
     "execution_count": 19,
     "metadata": {},
     "output_type": "execute_result"
    },
    {
     "data": {
      "image/png": "[encoded data removed]",
      "text/plain": [
       "<Figure size 1000x400 with 1 Axes>"
      ]
     },
     "metadata": {},
     "output_type": "display_data"
    }
   ],
   "source": [
    "plt.scatter(df_infos['exposure'].values,df_infos['image_rot_rms'].values);\n",
    "plt.xticks(rotation=90)"
   ]
  },
  {
   "cell_type": "code",
   "execution_count": 20,
   "id": "5f82faec-5f47-4c3f-9af0-a98b71289b58",
   "metadata": {
    "execution": {
     "iopub.execute_input": "2023-03-31T12:50:35.067467Z",
     "iopub.status.busy": "2023-03-31T12:50:35.067316Z",
     "iopub.status.idle": "2023-03-31T12:50:35.184004Z",
     "shell.execute_reply": "2023-03-31T12:50:35.183504Z",
     "shell.execute_reply.started": "2023-03-31T12:50:35.067452Z"
    }
   },
   "outputs": [],
   "source": [
    "df_infos.to_csv(pandasFilename)"
   ]
  },
  {
   "cell_type": "code",
   "execution_count": null,
   "id": "03e94ed5-86cb-440b-9a3b-c11de2c47820",
   "metadata": {},
   "outputs": [],
   "source": []
  }
 ],
 "metadata": {
  "kernelspec": {
   "display_name": "LSST",
   "language": "python",
   "name": "lsst"
  },
  "language_info": {
   "codemirror_mode": {
    "name": "ipython",
    "version": 3
   },
   "file_extension": ".py",
   "mimetype": "text/x-python",
   "name": "python",
   "nbconvert_exporter": "python",
   "pygments_lexer": "ipython3",
   "version": "3.10.9"
  }
 },
 "nbformat": 4,
 "nbformat_minor": 5
}
