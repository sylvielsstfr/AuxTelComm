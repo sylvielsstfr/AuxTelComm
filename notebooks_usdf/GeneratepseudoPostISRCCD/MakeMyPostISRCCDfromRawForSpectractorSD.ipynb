{
 "cells": [
  {
   "cell_type": "markdown",
   "id": "c813ed6a",
   "metadata": {
    "tags": []
   },
   "source": [
    "# Make postISRCCD from raw for Spectractor StandAlone\n",
    "\n",
    "\n",
    "- work with Weakly_2023_44\n",
    "\n",
    "\n",
    "- author : Sylvie Dagoret-Campagne\n",
    "- affiliation : IJCLab\n",
    "- creation date : 2023/09/13\n",
    "- last update : 2024/09/10\n",
    "\n",
    "\n",
    "write output file according hierarchy\n",
    "\n",
    "         DATE/Filter\n",
    "\n"
   ]
  },
  {
   "cell_type": "code",
   "execution_count": null,
   "id": "2e1f28b1",
   "metadata": {
    "execution": {
     "iopub.execute_input": "2024-09-11T12:10:07.337313Z",
     "iopub.status.busy": "2024-09-11T12:10:07.337177Z",
     "iopub.status.idle": "2024-09-11T12:10:07.701953Z",
     "shell.execute_reply": "2024-09-11T12:10:07.701438Z",
     "shell.execute_reply.started": "2024-09-11T12:10:07.337299Z"
    },
    "tags": []
   },
   "outputs": [],
   "source": [
    "! eups list -s | grep LOCAL"
   ]
  },
  {
   "cell_type": "code",
   "execution_count": null,
   "id": "8d301387-7065-4c85-897e-9e91b477c2b0",
   "metadata": {
    "execution": {
     "iopub.execute_input": "2024-09-11T12:10:07.702835Z",
     "iopub.status.busy": "2024-09-11T12:10:07.702694Z",
     "iopub.status.idle": "2024-09-11T12:10:08.244118Z",
     "shell.execute_reply": "2024-09-11T12:10:08.243569Z",
     "shell.execute_reply.started": "2024-09-11T12:10:07.702819Z"
    },
    "tags": []
   },
   "outputs": [],
   "source": [
    "! echo $IMAGE_DESCRIPTION\n",
    "! eups list -s lsst_distrib"
   ]
  },
  {
   "cell_type": "code",
   "execution_count": null,
   "id": "b7002c4d-b869-4560-9c7a-a535887daeef",
   "metadata": {
    "execution": {
     "iopub.execute_input": "2024-09-11T12:10:08.245062Z",
     "iopub.status.busy": "2024-09-11T12:10:08.244914Z",
     "iopub.status.idle": "2024-09-11T12:10:09.020991Z",
     "shell.execute_reply": "2024-09-11T12:10:09.020533Z",
     "shell.execute_reply.started": "2024-09-11T12:10:08.245044Z"
    },
    "tags": []
   },
   "outputs": [],
   "source": [
    "import os\n",
    "import matplotlib.pyplot as plt\n",
    "import matplotlib.colors as colors\n",
    "import matplotlib.cm as cmx\n",
    "import matplotlib.dates as mdates\n",
    "\n",
    "import numpy as np\n",
    "import pandas as pd\n",
    "%matplotlib inline\n",
    "from matplotlib.colors import LogNorm\n",
    "\n",
    "from mpl_toolkits.axes_grid1 import make_axes_locatable\n",
    "\n",
    "import matplotlib.ticker                         # here's where the formatter is\n",
    "from matplotlib.ticker import (MultipleLocator, FormatStrFormatter,\n",
    "                               AutoMinorLocator)\n",
    "\n",
    "from astropy.visualization import (MinMaxInterval, SqrtStretch,ZScaleInterval,PercentileInterval,\n",
    "                                   ImageNormalize,imshow_norm)\n",
    "from astropy.visualization.stretch import SinhStretch, LinearStretch,AsinhStretch,LogStretch\n",
    "\n",
    "\n",
    "from astropy.io import fits\n",
    "\n",
    "\n"
   ]
  },
  {
   "cell_type": "code",
   "execution_count": null,
   "id": "0ced9c4f-122b-4fe2-a70b-ff0b15660bee",
   "metadata": {
    "execution": {
     "iopub.execute_input": "2024-09-11T12:10:09.022767Z",
     "iopub.status.busy": "2024-09-11T12:10:09.022497Z",
     "iopub.status.idle": "2024-09-11T12:10:11.025010Z",
     "shell.execute_reply": "2024-09-11T12:10:11.024542Z",
     "shell.execute_reply.started": "2024-09-11T12:10:09.022751Z"
    },
    "tags": []
   },
   "outputs": [],
   "source": [
    "# Assembly task\n",
    "# https://github.com/lsst/ip_isr/blob/main/python/lsst/ip/isr/isrTask.py\n",
    "\n",
    "from lsst.ip.isr.assembleCcdTask import (AssembleCcdConfig, AssembleCcdTask)\n",
    "from lsst.ip.isr.isrTask import (IsrTask, IsrTaskConfig)\n",
    "\n",
    "#https://github.com/lsst/ip_isr/blob/main/python/lsst/ip/isr/overscan.py\n",
    "from lsst.ip.isr import  OverscanCorrectionTaskConfig, OverscanCorrectionTask"
   ]
  },
  {
   "cell_type": "code",
   "execution_count": null,
   "id": "d7c8c61f-5cfa-4c25-9a5a-97c2eb50fa29",
   "metadata": {
    "execution": {
     "iopub.execute_input": "2024-09-11T12:10:11.026048Z",
     "iopub.status.busy": "2024-09-11T12:10:11.025578Z",
     "iopub.status.idle": "2024-09-11T12:10:11.035686Z",
     "shell.execute_reply": "2024-09-11T12:10:11.035311Z",
     "shell.execute_reply.started": "2024-09-11T12:10:11.026032Z"
    },
    "tags": []
   },
   "outputs": [],
   "source": [
    "# LSST Display\n",
    "import lsst.afw.display as afwDisplay\n",
    "afwDisplay.setDefaultBackend('matplotlib')"
   ]
  },
  {
   "cell_type": "code",
   "execution_count": null,
   "id": "7a36f8cd",
   "metadata": {
    "execution": {
     "iopub.execute_input": "2024-09-11T12:10:11.036373Z",
     "iopub.status.busy": "2024-09-11T12:10:11.036244Z",
     "iopub.status.idle": "2024-09-11T12:10:11.038442Z",
     "shell.execute_reply": "2024-09-11T12:10:11.038077Z",
     "shell.execute_reply.started": "2024-09-11T12:10:11.036361Z"
    },
    "tags": []
   },
   "outputs": [],
   "source": [
    "import lsst.daf.butler as dafButler"
   ]
  },
  {
   "cell_type": "code",
   "execution_count": null,
   "id": "f2676824-f66f-4714-9a5d-39f9578401cd",
   "metadata": {
    "execution": {
     "iopub.execute_input": "2024-09-11T12:10:11.039046Z",
     "iopub.status.busy": "2024-09-11T12:10:11.038925Z",
     "iopub.status.idle": "2024-09-11T12:10:11.042627Z",
     "shell.execute_reply": "2024-09-11T12:10:11.042280Z",
     "shell.execute_reply.started": "2024-09-11T12:10:11.039035Z"
    }
   },
   "outputs": [],
   "source": [
    "import warnings\n",
    "warnings.filterwarnings(\"ignore\")"
   ]
  },
  {
   "cell_type": "markdown",
   "id": "7f4a3dde-da84-4f8c-94fd-b0332fb5d655",
   "metadata": {},
   "source": [
    "# Configuration"
   ]
  },
  {
   "cell_type": "code",
   "execution_count": null,
   "id": "1b7fa070-57bd-465d-9999-a6b366d5070a",
   "metadata": {
    "execution": {
     "iopub.execute_input": "2024-09-11T12:10:11.043227Z",
     "iopub.status.busy": "2024-09-11T12:10:11.043104Z",
     "iopub.status.idle": "2024-09-11T12:10:11.046876Z",
     "shell.execute_reply": "2024-09-11T12:10:11.046536Z",
     "shell.execute_reply.started": "2024-09-11T12:10:11.043216Z"
    },
    "tags": []
   },
   "outputs": [],
   "source": [
    "FLAG_PLOT=True"
   ]
  },
  {
   "cell_type": "code",
   "execution_count": null,
   "id": "ce90fb91-99b4-4e42-8637-365bd65fc0e1",
   "metadata": {
    "execution": {
     "iopub.execute_input": "2024-09-11T12:10:11.047494Z",
     "iopub.status.busy": "2024-09-11T12:10:11.047376Z",
     "iopub.status.idle": "2024-09-11T12:10:11.052161Z",
     "shell.execute_reply": "2024-09-11T12:10:11.051810Z",
     "shell.execute_reply.started": "2024-09-11T12:10:11.047483Z"
    },
    "tags": []
   },
   "outputs": [],
   "source": [
    "#DATE = 20230117\n",
    "#FILTER=\"empty-holo4_003\"\n",
    "#FILTER=\"BG40_65mm_1-holo4_003\"\n",
    "#FILTER=\"OG550_65mm_1-holo4_003\"\n",
    "\n",
    "#DATE = 20230118\n",
    "#FILTER = \"BG40_65mm_1-holo4_003\"\n",
    "#FILTER = \"OG550_65mm_1-holo4_003\"\n",
    "#FILTER = \"empty-holo4_003\"\n",
    "\n",
    "#DATE = 20230119\n",
    "#FILTER=\"empty-holo4_003\"\n",
    "#FILTER=\"BG40_65mm_1-holo4_003\"\n",
    "#FILTER=\"OG550_65mm_1-holo4_003\"\n",
    "\n",
    "#DATE = 20230131\n",
    "#FILTER = \"empty-holo4_003\"\n",
    "#FILTER=\"BG40_65mm_1-holo4_003\"\n",
    "#FILTER=\"OG550_65mm_1-holo4_003\"\n",
    "\n",
    "\n",
    "#DATE = 20230201\n",
    "#FILTER = \"empty-holo4_003\"\n",
    "#FILTER=\"BG40_65mm_1-holo4_003\"\n",
    "#FILTER=\"OG550_65mm_1-holo4_003\"\n",
    "\n",
    "\n",
    "#DATE = 20230202\n",
    "#FILTER = \"empty-holo4_003\"\n",
    "#FILTER=\"BG40_65mm_1-holo4_003\"\n",
    "#FILTER=\"OG550_65mm_1-holo4_003\"\n",
    "\n",
    "#DATE = 20230215\n",
    "#FILTER=\"empty-holo4_003\"\n",
    "\n",
    "\n",
    "#DATE = 20230315\n",
    "#FILTER=\"empty-holo4_003\"\n",
    "\n",
    "#DATE = 20230316\n",
    "#FILTER=\"empty-holo4_003\"\n",
    "\n",
    "#DATE = 20230704\n",
    "#FILTER = \"empty-holo4_003\"\n",
    "\n",
    "#DATE = 20230705\n",
    "#FILTER = \"empty-holo4_003\"\n",
    "\n",
    "#DATE = 20230706\n",
    "#FILTER = \"empty-holo4_003\"\n",
    "\n",
    "\n",
    "#DATE = 20230718\n",
    "#FILTER = \"empty-holo4_003\"\n",
    "\n",
    "#DATE = 20230720\n",
    "#FILTER = \"empty-holo4_003\"\n",
    "\n",
    "#DATE = 20230801\n",
    "#FILTER = \"empty-holo4_003\"\n",
    "\n",
    "#DATE = 20230802\n",
    "#FILTER = \"empty-holo4_003\"\n",
    "\n",
    "#DATE = 20230815\n",
    "#FILTER = \"empty-holo4_003\"\n",
    "\n",
    "#DATE = 20230817\n",
    "#FILTER = \"empty-holo4_003\"\n",
    "\n",
    "\n",
    "#DATE = 20230912\n",
    "#FILTER=\"cyl_lens-holo4_001\"\n",
    "#FILTER=\"cyl_lens-holo4_003\"\n",
    "#FILTER=\"collimator-holo4_003\"\n",
    "#FILTER=\"empty-holo4_001\"\n",
    "#FILTER=\"empty-holo4_003\"\n",
    "\n",
    "#DATE = 20230913\n",
    "#FILTER=\"collimator-holo4_003\"\n",
    "#FILTER=\"cyl_lens-holo4_003\"\n",
    "#FILTER=\"empty-holo4_003\"\n",
    "#FILTER=\"empty-holo4_001\"\n",
    "\n",
    "#DATE = 20230914\n",
    "#FILTER=\"collimator-holo4_003\"\n",
    "#FILTER=\"cyl_lens-holo4_003\"\n",
    "#FILTER=\"empty-holo4_003\"\n",
    "#FILTER=\"empty-holo4_001\"\n",
    "\n",
    "\n",
    "############### 2021 ##############  In repo main\n",
    "#-rw-r--r-- 1 dagoret rubin_users 338 Dec 20 01:35 visitdispersers_20211006_filt_BG40-holo4_003.list\n",
    "#-rw-r--r-- 1 dagoret rubin_users 338 Dec 20 01:35 visitdispersers_20211006_filt_empty-holo4_003.list\n",
    "#-rw-r--r-- 1 dagoret rubin_users 338 Dec 20 01:35 visitdispersers_20211006_filt_FELH0600-holo4_003.list\n",
    "#-rw-r--r-- 1 dagoret rubin_users 338 Dec 20 01:35 visitdispersers_20211006_filt_SDSSg-holo4_003.list\n",
    "\n",
    "\n",
    "#DATE = 20211006\n",
    "#FILTER=\"SDSSg-holo4_003\"\n",
    "#FILTER=\"BG40-holo4_003\"\n",
    "#FILTER=\"collimator-holo4_003\"\n",
    "#FILTER=\"empty-holo4_003\"\n",
    "\n",
    "#-rw-r--r-- 1 dagoret rubin_users 442 Dec 20 01:36 visitdispersers_20211103_filt_BG40-holo4_003.list\n",
    "#-rw-r--r-- 1 dagoret rubin_users 442 Dec 20 01:36 visitdispersers_20211103_filt_empty-holo4_003.list\n",
    "#-rw-r--r-- 1 dagoret rubin_users 559 Dec 20 01:36 visitdispersers_20211103_filt_FELH0600-holo4_003.list\n",
    "#-rw-r--r-- 1 dagoret rubin_users 442 Dec 20 01:36 visitdispersers_20211103_filt_SDSSg-holo4_003.list\n",
    "\n",
    "\n",
    "#DATE = 20211103\n",
    "#FILTER=\"SDSSg-holo4_003\"\n",
    "#FILTER=\"BG40-holo4_003\"\n",
    "#FILTER=\"collimator-holo4_003\"\n",
    "#FILTER=\"empty-holo4_003\"\n",
    "\n",
    "#DATE = 20240131\n",
    "#FILTER=\"SDSSg-holo4_003\"\n",
    "#FILTER=\"BG40-holo4_003\"\n",
    "#FILTER=\"collimator-holo4_003\"\n",
    "#FILTER=\"empty-holo4_003\"\n",
    "\n",
    "\n",
    "#- 20240709\n",
    "#- 20240710\n",
    "#- 20240711\n",
    "#- 20240715\n",
    "#- 20240716\n",
    "#- 20240717\n",
    "#- 20240724\n",
    "#- 20240729\n",
    "\n",
    "\n",
    "#DATE = 20240729\n",
    "#FILTER=\"collimator-holo4_003\"\n",
    "#FILTER=\"cyl_lens-holo4_003\"\n",
    "#FILTER=\"empty-holo4_003\"\n",
    "#FILTER=\"empty-holo4_001\"\n",
    "\n",
    "\n",
    "DATE = 20240909\n",
    "FILTER=\"empty-holo4_003\"\n",
    "\n",
    "\n",
    "#filename_visits = f\"visitdispersers_{DATE}_filt_{FILTER}.list\"\n",
    "filename_visits = f\"all_visitdispersers/{DATE}/visitdispersers_{DATE}_filt_{FILTER}.list\""
   ]
  },
  {
   "cell_type": "code",
   "execution_count": null,
   "id": "0b1d8cd0-a59d-4829-8203-1096d3a4146b",
   "metadata": {
    "execution": {
     "iopub.execute_input": "2024-09-11T12:10:11.052759Z",
     "iopub.status.busy": "2024-09-11T12:10:11.052640Z",
     "iopub.status.idle": "2024-09-11T12:10:11.056932Z",
     "shell.execute_reply": "2024-09-11T12:10:11.056571Z",
     "shell.execute_reply.started": "2024-09-11T12:10:11.052748Z"
    },
    "tags": []
   },
   "outputs": [],
   "source": [
    "# output path of type top/date/filter\n",
    "#----------------------------------------\n",
    "\n",
    "top_path_out=\"my_postisrccd_img\"\n",
    "path_out=f\"{top_path_out}/{DATE}\""
   ]
  },
  {
   "cell_type": "code",
   "execution_count": null,
   "id": "01aa4d52-809c-40e1-96f6-29b42d1b1d3c",
   "metadata": {
    "execution": {
     "iopub.execute_input": "2024-09-11T12:10:11.057544Z",
     "iopub.status.busy": "2024-09-11T12:10:11.057426Z",
     "iopub.status.idle": "2024-09-11T12:10:11.061948Z",
     "shell.execute_reply": "2024-09-11T12:10:11.061601Z",
     "shell.execute_reply.started": "2024-09-11T12:10:11.057533Z"
    },
    "tags": []
   },
   "outputs": [],
   "source": [
    "if not os.path.exists(path_out):\n",
    "    os.makedirs(path_out)"
   ]
  },
  {
   "cell_type": "code",
   "execution_count": null,
   "id": "e7212f9f-a77a-48fe-b6f6-e30d56d8e84d",
   "metadata": {
    "execution": {
     "iopub.execute_input": "2024-09-11T12:10:11.062601Z",
     "iopub.status.busy": "2024-09-11T12:10:11.062488Z",
     "iopub.status.idle": "2024-09-11T12:10:11.065033Z",
     "shell.execute_reply": "2024-09-11T12:10:11.064651Z",
     "shell.execute_reply.started": "2024-09-11T12:10:11.062591Z"
    }
   },
   "outputs": [],
   "source": [
    "path_out=f\"{path_out}/{FILTER}\"\n",
    "\n",
    "if not os.path.exists(path_out):\n",
    "    os.makedirs(path_out)"
   ]
  },
  {
   "cell_type": "markdown",
   "id": "253a575f-e467-4b3d-ab0a-f26542f13dc1",
   "metadata": {},
   "source": [
    "# read list of exposures\n",
    "\n",
    "- generated by ListOfExposures-hologram.ipynb"
   ]
  },
  {
   "cell_type": "code",
   "execution_count": null,
   "id": "88e09b46-88ad-4e99-a062-f4a740e0ddac",
   "metadata": {
    "execution": {
     "iopub.execute_input": "2024-09-11T12:10:11.065609Z",
     "iopub.status.busy": "2024-09-11T12:10:11.065496Z",
     "iopub.status.idle": "2024-09-11T12:10:11.080035Z",
     "shell.execute_reply": "2024-09-11T12:10:11.079714Z",
     "shell.execute_reply.started": "2024-09-11T12:10:11.065598Z"
    },
    "tags": []
   },
   "outputs": [],
   "source": [
    "df = pd.read_csv(filename_visits, header=None,skiprows = 0, sep=' ',names=[\"date\",\"seq\"])\n",
    "df"
   ]
  },
  {
   "cell_type": "code",
   "execution_count": null,
   "id": "5cc792a3-8e45-48b8-af4b-4475b658f926",
   "metadata": {
    "execution": {
     "iopub.execute_input": "2024-09-11T12:10:11.080572Z",
     "iopub.status.busy": "2024-09-11T12:10:11.080456Z",
     "iopub.status.idle": "2024-09-11T12:10:11.083121Z",
     "shell.execute_reply": "2024-09-11T12:10:11.082772Z",
     "shell.execute_reply.started": "2024-09-11T12:10:11.080561Z"
    },
    "tags": []
   },
   "outputs": [],
   "source": [
    "for index,row in df.iterrows():\n",
    "    exposure_selected =row[\"date\"]*100000+row[\"seq\"]\n",
    "    print(exposure_selected)"
   ]
  },
  {
   "cell_type": "markdown",
   "id": "b67586ea-b4bf-4959-87f3-b231320a5bf8",
   "metadata": {},
   "source": [
    "## Select flags options"
   ]
  },
  {
   "cell_type": "code",
   "execution_count": null,
   "id": "655de8b8-3109-4a63-bcc7-3be31e9a514d",
   "metadata": {
    "execution": {
     "iopub.execute_input": "2024-09-11T12:10:11.083704Z",
     "iopub.status.busy": "2024-09-11T12:10:11.083587Z",
     "iopub.status.idle": "2024-09-11T12:10:11.085707Z",
     "shell.execute_reply": "2024-09-11T12:10:11.085386Z",
     "shell.execute_reply.started": "2024-09-11T12:10:11.083693Z"
    },
    "tags": []
   },
   "outputs": [],
   "source": [
    "FLAG_ROTATE_IMG = True\n",
    "FLAG_TRANSFORM = True"
   ]
  },
  {
   "cell_type": "markdown",
   "id": "a6230ef7-ddeb-4430-af47-320b8f72c840",
   "metadata": {},
   "source": [
    "## Transformations\n",
    "astropy scale transformations"
   ]
  },
  {
   "cell_type": "code",
   "execution_count": null,
   "id": "257001ba-731c-4d13-bd0d-4c68a3cd6829",
   "metadata": {
    "execution": {
     "iopub.execute_input": "2024-09-11T12:10:11.086279Z",
     "iopub.status.busy": "2024-09-11T12:10:11.086163Z",
     "iopub.status.idle": "2024-09-11T12:10:11.090007Z",
     "shell.execute_reply": "2024-09-11T12:10:11.089676Z",
     "shell.execute_reply.started": "2024-09-11T12:10:11.086268Z"
    },
    "tags": []
   },
   "outputs": [],
   "source": [
    "transform = AsinhStretch() + PercentileInterval(99.)\n",
    "#transform = PercentileInterval(98.)"
   ]
  },
  {
   "cell_type": "markdown",
   "id": "60ba89aa-c9c0-46b4-a330-88a969a88039",
   "metadata": {},
   "source": [
    "## Butler"
   ]
  },
  {
   "cell_type": "code",
   "execution_count": null,
   "id": "7c5944d1-0cbb-42bc-9ea9-a7ff39e25a01",
   "metadata": {
    "execution": {
     "iopub.execute_input": "2024-09-11T12:10:11.090572Z",
     "iopub.status.busy": "2024-09-11T12:10:11.090457Z",
     "iopub.status.idle": "2024-09-11T12:10:11.570805Z",
     "shell.execute_reply": "2024-09-11T12:10:11.570294Z",
     "shell.execute_reply.started": "2024-09-11T12:10:11.090561Z"
    },
    "tags": []
   },
   "outputs": [],
   "source": [
    "#repo = '/sdf/group/rubin/repo/main'\n",
    "repo=\"/sdf/group/rubin/repo/oga/\"\n",
    "butler = dafButler.Butler(repo)\n",
    "registry = butler.registry"
   ]
  },
  {
   "cell_type": "code",
   "execution_count": null,
   "id": "b6b5b19c-69d1-4f06-9c8b-3a3d5e8d8e89",
   "metadata": {
    "execution": {
     "iopub.execute_input": "2024-09-11T12:10:11.571527Z",
     "iopub.status.busy": "2024-09-11T12:10:11.571393Z",
     "iopub.status.idle": "2024-09-11T12:10:11.573712Z",
     "shell.execute_reply": "2024-09-11T12:10:11.573365Z",
     "shell.execute_reply.started": "2024-09-11T12:10:11.571514Z"
    },
    "tags": []
   },
   "outputs": [],
   "source": [
    "collection='LATISS/raw/all'"
   ]
  },
  {
   "cell_type": "code",
   "execution_count": null,
   "id": "412567bf-4590-4259-95bd-92ac85a927f7",
   "metadata": {
    "execution": {
     "iopub.execute_input": "2024-09-11T12:10:11.576212Z",
     "iopub.status.busy": "2024-09-11T12:10:11.576080Z",
     "iopub.status.idle": "2024-09-11T12:10:11.598804Z",
     "shell.execute_reply": "2024-09-11T12:10:11.598452Z",
     "shell.execute_reply.started": "2024-09-11T12:10:11.576201Z"
    },
    "tags": []
   },
   "outputs": [],
   "source": [
    "# configuration\n",
    "isr_config =  IsrTaskConfig()"
   ]
  },
  {
   "cell_type": "code",
   "execution_count": null,
   "id": "128d48a0-eb3b-46b8-85a7-335654132c44",
   "metadata": {
    "execution": {
     "iopub.execute_input": "2024-09-11T12:10:11.599418Z",
     "iopub.status.busy": "2024-09-11T12:10:11.599295Z",
     "iopub.status.idle": "2024-09-11T12:10:11.601956Z",
     "shell.execute_reply": "2024-09-11T12:10:11.601633Z",
     "shell.execute_reply.started": "2024-09-11T12:10:11.599407Z"
    },
    "tags": []
   },
   "outputs": [],
   "source": [
    "isr_config.doDark = False\n",
    "isr_config.doFlat =  False\n",
    "isr_config.doFringe = False\n",
    "isr_config.doDefect = True\n",
    "isr_config.doLinearize = False\n",
    "isr_config.doCrosstalk =  False\n",
    "isr_config.doSaturationInterpolation = False\n",
    "isr_config.overscan.fitType: 'MEDIAN_PER_ROW'\n",
    "isr_config.doBias: True\n"
   ]
  },
  {
   "cell_type": "code",
   "execution_count": null,
   "id": "176a179f-8d79-4625-82e5-14556ae34836",
   "metadata": {
    "execution": {
     "iopub.execute_input": "2024-09-11T12:10:11.602548Z",
     "iopub.status.busy": "2024-09-11T12:10:11.602432Z",
     "iopub.status.idle": "2024-09-11T12:10:11.607183Z",
     "shell.execute_reply": "2024-09-11T12:10:11.606858Z",
     "shell.execute_reply.started": "2024-09-11T12:10:11.602537Z"
    },
    "tags": []
   },
   "outputs": [],
   "source": [
    "isr_task = IsrTask(config=isr_config)"
   ]
  },
  {
   "cell_type": "code",
   "execution_count": null,
   "id": "294ead5b-c78a-42b1-92d6-edc212106092",
   "metadata": {
    "execution": {
     "iopub.execute_input": "2024-09-11T12:10:11.607771Z",
     "iopub.status.busy": "2024-09-11T12:10:11.607652Z",
     "iopub.status.idle": "2024-09-11T12:10:11.610892Z",
     "shell.execute_reply": "2024-09-11T12:10:11.610586Z",
     "shell.execute_reply.started": "2024-09-11T12:10:11.607761Z"
    }
   },
   "outputs": [],
   "source": [
    "###########################################\n",
    "# REPO=/repo/embargo\n",
    "# butler query-collections $REPO LATISS/calib\n",
    "#############################################"
   ]
  },
  {
   "cell_type": "code",
   "execution_count": null,
   "id": "362e6892-8c97-4135-bf9d-35be10dc5394",
   "metadata": {
    "execution": {
     "iopub.execute_input": "2024-09-11T12:10:11.611468Z",
     "iopub.status.busy": "2024-09-11T12:10:11.611353Z",
     "iopub.status.idle": "2024-09-11T12:10:11.615438Z",
     "shell.execute_reply": "2024-09-11T12:10:11.615103Z",
     "shell.execute_reply.started": "2024-09-11T12:10:11.611457Z"
    }
   },
   "outputs": [],
   "source": [
    "calibType = 'bias'\n",
    "physical_filter = 'empty~empty'\n",
    "cameraName = 'LATISS'\n",
    "# Collection name containing the verification outputs.\n",
    "calibCollections = ['LATISS/calib','LATISS/raw/all',]                   "
   ]
  },
  {
   "cell_type": "code",
   "execution_count": null,
   "id": "ca24467e-a7e0-4838-ba0f-c37475fbc601",
   "metadata": {
    "execution": {
     "iopub.execute_input": "2024-09-11T12:10:11.616010Z",
     "iopub.status.busy": "2024-09-11T12:10:11.615895Z",
     "iopub.status.idle": "2024-09-11T12:10:13.626549Z",
     "shell.execute_reply": "2024-09-11T12:10:13.626130Z",
     "shell.execute_reply.started": "2024-09-11T12:10:11.615999Z"
    },
    "tags": []
   },
   "outputs": [],
   "source": [
    "butler = dafButler.Butler(repo, collections=calibCollections)\n",
    "camera = butler.get('camera', instrument=cameraName)\n",
    "#bias = butler.get('bias',instrument=cameraName,detector=0)\n",
    "#defects = butler.get('defects',instrument=cameraName,detector=0)\n"
   ]
  },
  {
   "cell_type": "code",
   "execution_count": null,
   "id": "b6351e4f-030b-4712-ab7c-452e2ab04118",
   "metadata": {
    "execution": {
     "iopub.execute_input": "2024-09-11T12:10:13.627240Z",
     "iopub.status.busy": "2024-09-11T12:10:13.627087Z",
     "iopub.status.idle": "2024-09-11T12:10:45.842519Z",
     "shell.execute_reply": "2024-09-11T12:10:45.842080Z",
     "shell.execute_reply.started": "2024-09-11T12:10:13.627223Z"
    },
    "tags": []
   },
   "outputs": [],
   "source": [
    "%matplotlib inline\n",
    "if FLAG_PLOT:\n",
    "    for index,row in df.iterrows():\n",
    "        exposure_selected =row[\"date\"]*100000+row[\"seq\"]\n",
    "\n",
    "\n",
    "\n",
    "        raw_img= butler.get('raw', dataId={'exposure': exposure_selected, 'instrument': 'LATISS', 'detector': 0}, collections = collection)\n",
    "        bias = butler.get(\"bias\",instrument=cameraName, exposure= exposure_selected , detector=0, collections=calibCollections)\n",
    "        defects = butler.get('defects',instrument=cameraName, exposure= exposure_selected ,detector=0,collections=calibCollections)\n",
    "    \n",
    "    \n",
    "            # get metadata\n",
    "        bias_md = dict(bias.getMetadata())\n",
    "\n",
    "        try:\n",
    "            MB_date= bias_md['CALIB_CREATION_DATE']\n",
    "            MB_time = bias_md['CALIB_CREATION_TIME']\n",
    "            print(f\"Exposure {exposure_selected}, DATE for Master Bias with short calib list\",MB_date, MB_time)\n",
    "        except:\n",
    "            print(\"Unexpected error:\", sys.exc_info()[0])\n",
    "            MB_date= bias_md['CALIB_CREATE_DATE']\n",
    "            MB_time = bias_md['CALIB_CREATE_TIME']\n",
    "            print(f\"Exposure {exposure_selected}, DATE for Master Bias with short calib list\",MB_date, MB_time)\n",
    "    \n",
    "        defects_md = dict(defects.getMetadata()) \n",
    "\n",
    "        try:\n",
    "            DF_date= defects_md['CALIB_CREATION_DATE']\n",
    "            DF_time = defects_md['CALIB_CREATION_TIME']\n",
    "            print(f\"Exposure {exposure_selected}, DATE for Master Defect with short calib list\",DF_date, DF_time)\n",
    "        except:\n",
    "            print(\"Unexpected error:\", sys.exc_info()[0])\n",
    "            DF_date= defects_md['CALIB_CREATE_DATE']\n",
    "            DF_time = defects_md['CALIB_CREATE_TIME']\n",
    "            print(f\"Exposure {exposure_selected}, DATE for Master Defect with short calib list\",DF_date, DF_time)\n",
    "    \n",
    "        meta = raw_img.getMetadata()\n",
    "        md = meta.toDict()\n",
    "    \n",
    "        the_object = md['OBJECT']\n",
    "        \n",
    "        if the_object == \"MU-COL\":\n",
    "            md['OBJECT']=\"HD38666\"\n",
    "            the_object = md['OBJECT']\n",
    "            \n",
    "        if the_object == \"ETA1-DOR\":\n",
    "            md['OBJECT']=\"HD42525\"\n",
    "            the_object = md['OBJECT']\n",
    "            \n",
    "            \n",
    "        the_am= md['AMSTART']\n",
    "        the_filter=md['FILTER']\n",
    "    \n",
    "        #fast ISR \n",
    "        isr_img = isr_task.run(raw_img,bias=bias,defects=defects)\n",
    "    \n",
    "        rotated_array = isr_img.exposure.image.array[::-1,::-1] #rotate the array 180 degrees\n",
    "        #np.flip(np.flip(a, 1), 0)\n",
    "\n",
    "    \n",
    "        fig = plt.figure(figsize=(12,10))\n",
    "        afw_display = afwDisplay.Display(frame=fig)\n",
    "        afw_display.scale('linear', 'zscale',None)\n",
    "        the_title = f\"{index} :: isr exposure : {exposure_selected}, target={the_object}, airmass={the_am:.2f}, filter={the_filter}\"\n",
    "        afw_display.mtv(isr_img.exposure.image,title=the_title)"
   ]
  },
  {
   "cell_type": "code",
   "execution_count": null,
   "id": "1d0b6e03-57b5-4a92-ba7e-2a9e21fcb390",
   "metadata": {
    "execution": {
     "iopub.execute_input": "2024-09-11T12:10:45.843361Z",
     "iopub.status.busy": "2024-09-11T12:10:45.843228Z",
     "iopub.status.idle": "2024-09-11T12:10:45.849488Z",
     "shell.execute_reply": "2024-09-11T12:10:45.849136Z",
     "shell.execute_reply.started": "2024-09-11T12:10:45.843349Z"
    }
   },
   "outputs": [],
   "source": [
    "bias_md"
   ]
  },
  {
   "cell_type": "code",
   "execution_count": null,
   "id": "664b22c2-d2c4-4454-bbf9-f835ac11dd31",
   "metadata": {
    "execution": {
     "iopub.execute_input": "2024-09-11T12:10:45.850033Z",
     "iopub.status.busy": "2024-09-11T12:10:45.849918Z",
     "iopub.status.idle": "2024-09-11T12:10:45.853407Z",
     "shell.execute_reply": "2024-09-11T12:10:45.853049Z",
     "shell.execute_reply.started": "2024-09-11T12:10:45.850023Z"
    }
   },
   "outputs": [],
   "source": [
    "# Save in files"
   ]
  },
  {
   "cell_type": "code",
   "execution_count": null,
   "id": "cc338e02-3434-4bcf-a4a2-8769a506c76e",
   "metadata": {
    "execution": {
     "iopub.execute_input": "2024-09-11T12:10:45.854220Z",
     "iopub.status.busy": "2024-09-11T12:10:45.853876Z",
     "iopub.status.idle": "2024-09-11T12:10:57.826798Z",
     "shell.execute_reply": "2024-09-11T12:10:57.826371Z",
     "shell.execute_reply.started": "2024-09-11T12:10:45.854208Z"
    },
    "tags": []
   },
   "outputs": [],
   "source": [
    "for index,row in df.iterrows():\n",
    "    \n",
    "    exposure_selected =row[\"date\"]*100000+row[\"seq\"]\n",
    "    \n",
    "    print(f\"exposure selected = {exposure_selected}\")\n",
    "\n",
    "\n",
    "    raw_img= butler.get('raw', dataId={'exposure': exposure_selected, 'instrument': 'LATISS', 'detector': 0}, collections = collection)\n",
    "    bias = butler.get(\"bias\",instrument=cameraName, exposure= exposure_selected , detector=0, collections=calibCollections)\n",
    "    defects = butler.get('defects',instrument=cameraName, exposure= exposure_selected ,detector=0,collections=calibCollections)\n",
    "    \n",
    "    \n",
    "    isr_img = isr_task.run(raw_img,bias=bias,defects=defects)\n",
    "    \n",
    "    arr=isr_img.exposure.image.array\n",
    "    # 180 degree rotation\n",
    "    rotated_array = arr[::-1,::-1] #rotate the array 180 degrees\n",
    "    \n",
    "    \n",
    "    meta = raw_img.getMetadata()\n",
    "    md = meta.toDict()\n",
    "\n",
    "    the_object = md['OBJECT']\n",
    "    the_am= md['AMSTART']\n",
    "    the_filter=md['FILTER']\n",
    "    \n",
    "    if the_object == \"MU-COL\":\n",
    "        md['OBJECT']=\"HD38666\"\n",
    "        the_object = md['OBJECT']\n",
    "\n",
    "    filename_out = f\"exposure_{exposure_selected}_pseudo-postisrccd.fits\"\n",
    "    fullfilename_out=os.path.join(path_out,filename_out)\n",
    "    \n",
    "    print(f\">>>>  output filename {filename_out} object {the_object}\")\n",
    "    \n",
    "    hdr = fits.Header()\n",
    "    \n",
    "    for key,value in md.items():\n",
    "        if key == 'OBJECT':\n",
    "            print(key,value)\n",
    "        hdr[str(key)]=value\n",
    "        \n",
    "    # need this    \n",
    "    hdr[\"AMEND\"] = hdr[\"AMSTART\"]\n",
    "    \n",
    "    # be aware weather data may be missing\n",
    "    if hdr[\"AIRTEMP\"] == None:\n",
    "        hdr[\"AIRTEMP\"] = 10.0\n",
    "\n",
    "    if hdr[\"PRESSURE\"] == None:\n",
    "        hdr[\"PRESSURE\"] = 744.\n",
    "\n",
    "    if hdr[\"HUMIDITY\"] == None:\n",
    "        hdr[\"HUMIDITY\"] = 50.\n",
    "\n",
    "    if hdr[\"WINDSPD\"] == None:\n",
    "        hdr[\"WINDSPD\"] = 5.\n",
    "\n",
    "    if hdr[\"WINDDIR\"] == None:\n",
    "        hdr[\"WINDDIR\"] = 0.   \n",
    "\n",
    "    if hdr[\"SEEING\"] == None:\n",
    "        hdr[\"SEEING\"] = 1.15\n",
    "    \n",
    "        \n",
    "   \n",
    "    \n",
    "    # Be carefull for Spectractor, 2 hdu units are necessary\n",
    "    \n",
    "    primary_hdu = fits.PrimaryHDU(header=hdr)\n",
    "    image_hdu = fits.ImageHDU(rotated_array)\n",
    "    \n",
    "    hdu_list = fits.HDUList([primary_hdu, image_hdu])\n",
    "    \n",
    "    hdu_list.writeto(fullfilename_out,overwrite=True)\n",
    "    \n",
    "    \n",
    "    \n",
    "    #if index>=0:\n",
    "    #    break\n",
    "    \n"
   ]
  },
  {
   "cell_type": "code",
   "execution_count": null,
   "id": "fbefab28-7cb2-437c-a35f-65ff1ee6c460",
   "metadata": {},
   "outputs": [],
   "source": []
  }
 ],
 "metadata": {
  "kernelspec": {
   "display_name": "LSST",
   "language": "python",
   "name": "lsst"
  },
  "language_info": {
   "codemirror_mode": {
    "name": "ipython",
    "version": 3
   },
   "file_extension": ".py",
   "mimetype": "text/x-python",
   "name": "python",
   "nbconvert_exporter": "python",
   "pygments_lexer": "ipython3",
   "version": "3.11.9"
  },
  "toc": {
   "base_numbering": 1,
   "nav_menu": {},
   "number_sections": true,
   "sideBar": true,
   "skip_h1_title": false,
   "title_cell": "Table of Contents",
   "title_sidebar": "Contents",
   "toc_cell": false,
   "toc_position": {},
   "toc_section_display": true,
   "toc_window_display": false
  }
 },
 "nbformat": 4,
 "nbformat_minor": 5
}
