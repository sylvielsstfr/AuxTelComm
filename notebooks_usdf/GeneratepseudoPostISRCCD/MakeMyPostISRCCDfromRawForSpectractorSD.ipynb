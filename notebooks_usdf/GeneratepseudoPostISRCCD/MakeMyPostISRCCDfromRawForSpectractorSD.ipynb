{
 "cells": [
  {
   "cell_type": "markdown",
   "id": "c813ed6a",
   "metadata": {
    "tags": []
   },
   "source": [
    "# Make postISRCCD from raw for Spectractor StandAlone\n",
    "\n",
    "\n",
    "- work with Weakly_2023_44\n",
    "\n",
    "\n",
    "- author : Sylvie Dagoret-Campagne\n",
    "- affiliation : IJCLab\n",
    "- creation date : 2023/09/13\n",
    "- last update : 2024/07/31\n",
    "\n",
    "\n",
    "write output file according hierarchy\n",
    "\n",
    "         DATE/Filter\n",
    "\n"
   ]
  },
  {
   "cell_type": "code",
   "execution_count": 1,
   "id": "2e1f28b1",
   "metadata": {
    "execution": {
     "iopub.execute_input": "2024-07-31T22:13:29.639545Z",
     "iopub.status.busy": "2024-07-31T22:13:29.639429Z",
     "iopub.status.idle": "2024-07-31T22:13:30.008241Z",
     "shell.execute_reply": "2024-07-31T22:13:30.007752Z",
     "shell.execute_reply.started": "2024-07-31T22:13:29.639534Z"
    },
    "tags": []
   },
   "outputs": [
    {
     "name": "stdout",
     "output_type": "stream",
     "text": [
      "analysis_tools        LOCAL:/home/d/dagoret/repos/repos_w_2024_16/analysis_tools \tsetup\n",
      "atmospec              LOCAL:/home/d/dagoret/repos/repos_w_2024_16/atmospec \tsetup\n",
      "eups                  LOCAL:/opt/lsst/software/stack/conda/miniconda3-py38_4.9.2/envs/lsst-scipipe-8.0.0/eups \tsetup\n",
      "spectractor           LOCAL:/home/d/dagoret/repos/repos_w_2024_16/Spectractor \tsetup\n"
     ]
    }
   ],
   "source": [
    "! eups list -s | grep LOCAL"
   ]
  },
  {
   "cell_type": "code",
   "execution_count": 2,
   "id": "8d301387-7065-4c85-897e-9e91b477c2b0",
   "metadata": {
    "execution": {
     "iopub.execute_input": "2024-07-31T22:13:30.009106Z",
     "iopub.status.busy": "2024-07-31T22:13:30.008961Z",
     "iopub.status.idle": "2024-07-31T22:13:30.543210Z",
     "shell.execute_reply": "2024-07-31T22:13:30.542681Z",
     "shell.execute_reply.started": "2024-07-31T22:13:30.009091Z"
    },
    "tags": []
   },
   "outputs": [
    {
     "name": "stdout",
     "output_type": "stream",
     "text": [
      "Weekly 2024_16\n",
      "   g4213664e8e+c2911b1728 \tcurrent w_2024_16 setup\n"
     ]
    }
   ],
   "source": [
    "! echo $IMAGE_DESCRIPTION\n",
    "! eups list -s lsst_distrib"
   ]
  },
  {
   "cell_type": "code",
   "execution_count": 3,
   "id": "b7002c4d-b869-4560-9c7a-a535887daeef",
   "metadata": {
    "execution": {
     "iopub.execute_input": "2024-07-31T22:13:30.544161Z",
     "iopub.status.busy": "2024-07-31T22:13:30.543997Z",
     "iopub.status.idle": "2024-07-31T22:13:31.146162Z",
     "shell.execute_reply": "2024-07-31T22:13:31.145613Z",
     "shell.execute_reply.started": "2024-07-31T22:13:30.544146Z"
    },
    "tags": []
   },
   "outputs": [],
   "source": [
    "import os\n",
    "import matplotlib.pyplot as plt\n",
    "import matplotlib.colors as colors\n",
    "import matplotlib.cm as cmx\n",
    "import matplotlib.dates as mdates\n",
    "\n",
    "import numpy as np\n",
    "import pandas as pd\n",
    "%matplotlib inline\n",
    "from matplotlib.colors import LogNorm\n",
    "\n",
    "from mpl_toolkits.axes_grid1 import make_axes_locatable\n",
    "\n",
    "import matplotlib.ticker                         # here's where the formatter is\n",
    "from matplotlib.ticker import (MultipleLocator, FormatStrFormatter,\n",
    "                               AutoMinorLocator)\n",
    "\n",
    "from astropy.visualization import (MinMaxInterval, SqrtStretch,ZScaleInterval,PercentileInterval,\n",
    "                                   ImageNormalize,imshow_norm)\n",
    "from astropy.visualization.stretch import SinhStretch, LinearStretch,AsinhStretch,LogStretch\n",
    "\n",
    "\n",
    "from astropy.io import fits\n",
    "\n",
    "\n"
   ]
  },
  {
   "cell_type": "code",
   "execution_count": 4,
   "id": "0ced9c4f-122b-4fe2-a70b-ff0b15660bee",
   "metadata": {
    "execution": {
     "iopub.execute_input": "2024-07-31T22:13:31.148501Z",
     "iopub.status.busy": "2024-07-31T22:13:31.148054Z",
     "iopub.status.idle": "2024-07-31T22:13:33.174492Z",
     "shell.execute_reply": "2024-07-31T22:13:33.174083Z",
     "shell.execute_reply.started": "2024-07-31T22:13:31.148482Z"
    },
    "tags": []
   },
   "outputs": [],
   "source": [
    "# Assembly task\n",
    "# https://github.com/lsst/ip_isr/blob/main/python/lsst/ip/isr/isrTask.py\n",
    "\n",
    "from lsst.ip.isr.assembleCcdTask import (AssembleCcdConfig, AssembleCcdTask)\n",
    "from lsst.ip.isr.isrTask import (IsrTask, IsrTaskConfig)\n",
    "\n",
    "#https://github.com/lsst/ip_isr/blob/main/python/lsst/ip/isr/overscan.py\n",
    "from lsst.ip.isr import  OverscanCorrectionTaskConfig, OverscanCorrectionTask"
   ]
  },
  {
   "cell_type": "code",
   "execution_count": 5,
   "id": "d7c8c61f-5cfa-4c25-9a5a-97c2eb50fa29",
   "metadata": {
    "execution": {
     "iopub.execute_input": "2024-07-31T22:13:33.175503Z",
     "iopub.status.busy": "2024-07-31T22:13:33.175069Z",
     "iopub.status.idle": "2024-07-31T22:13:33.184242Z",
     "shell.execute_reply": "2024-07-31T22:13:33.183904Z",
     "shell.execute_reply.started": "2024-07-31T22:13:33.175490Z"
    },
    "tags": []
   },
   "outputs": [],
   "source": [
    "# LSST Display\n",
    "import lsst.afw.display as afwDisplay\n",
    "afwDisplay.setDefaultBackend('matplotlib')"
   ]
  },
  {
   "cell_type": "code",
   "execution_count": 6,
   "id": "7a36f8cd",
   "metadata": {
    "execution": {
     "iopub.execute_input": "2024-07-31T22:13:33.184830Z",
     "iopub.status.busy": "2024-07-31T22:13:33.184701Z",
     "iopub.status.idle": "2024-07-31T22:13:33.186649Z",
     "shell.execute_reply": "2024-07-31T22:13:33.186332Z",
     "shell.execute_reply.started": "2024-07-31T22:13:33.184820Z"
    },
    "tags": []
   },
   "outputs": [],
   "source": [
    "import lsst.daf.butler as dafButler"
   ]
  },
  {
   "cell_type": "code",
   "execution_count": 7,
   "id": "f2676824-f66f-4714-9a5d-39f9578401cd",
   "metadata": {
    "execution": {
     "iopub.execute_input": "2024-07-31T22:13:33.187244Z",
     "iopub.status.busy": "2024-07-31T22:13:33.187126Z",
     "iopub.status.idle": "2024-07-31T22:13:33.189560Z",
     "shell.execute_reply": "2024-07-31T22:13:33.189258Z",
     "shell.execute_reply.started": "2024-07-31T22:13:33.187234Z"
    }
   },
   "outputs": [],
   "source": [
    "import warnings\n",
    "warnings.filterwarnings(\"ignore\")"
   ]
  },
  {
   "cell_type": "markdown",
   "id": "7f4a3dde-da84-4f8c-94fd-b0332fb5d655",
   "metadata": {},
   "source": [
    "# Configuration"
   ]
  },
  {
   "cell_type": "code",
   "execution_count": 8,
   "id": "1b7fa070-57bd-465d-9999-a6b366d5070a",
   "metadata": {
    "execution": {
     "iopub.execute_input": "2024-07-31T22:13:33.190095Z",
     "iopub.status.busy": "2024-07-31T22:13:33.189981Z",
     "iopub.status.idle": "2024-07-31T22:13:33.193940Z",
     "shell.execute_reply": "2024-07-31T22:13:33.193612Z",
     "shell.execute_reply.started": "2024-07-31T22:13:33.190084Z"
    },
    "tags": []
   },
   "outputs": [],
   "source": [
    "FLAG_PLOT=True"
   ]
  },
  {
   "cell_type": "code",
   "execution_count": 9,
   "id": "ce90fb91-99b4-4e42-8637-365bd65fc0e1",
   "metadata": {
    "execution": {
     "iopub.execute_input": "2024-07-31T22:13:33.194490Z",
     "iopub.status.busy": "2024-07-31T22:13:33.194376Z",
     "iopub.status.idle": "2024-07-31T22:13:33.197735Z",
     "shell.execute_reply": "2024-07-31T22:13:33.197393Z",
     "shell.execute_reply.started": "2024-07-31T22:13:33.194480Z"
    },
    "tags": []
   },
   "outputs": [],
   "source": [
    "#DATE = 20230117\n",
    "#FILTER=\"empty-holo4_003\"\n",
    "#FILTER=\"BG40_65mm_1-holo4_003\"\n",
    "#FILTER=\"OG550_65mm_1-holo4_003\"\n",
    "\n",
    "#DATE = 20230118\n",
    "#FILTER = \"BG40_65mm_1-holo4_003\"\n",
    "#FILTER = \"OG550_65mm_1-holo4_003\"\n",
    "#FILTER = \"empty-holo4_003\"\n",
    "\n",
    "#DATE = 20230119\n",
    "#FILTER=\"empty-holo4_003\"\n",
    "#FILTER=\"BG40_65mm_1-holo4_003\"\n",
    "#FILTER=\"OG550_65mm_1-holo4_003\"\n",
    "\n",
    "#DATE = 20230131\n",
    "#FILTER = \"empty-holo4_003\"\n",
    "#FILTER=\"BG40_65mm_1-holo4_003\"\n",
    "#FILTER=\"OG550_65mm_1-holo4_003\"\n",
    "\n",
    "\n",
    "#DATE = 20230201\n",
    "#FILTER = \"empty-holo4_003\"\n",
    "#FILTER=\"BG40_65mm_1-holo4_003\"\n",
    "#FILTER=\"OG550_65mm_1-holo4_003\"\n",
    "\n",
    "\n",
    "#DATE = 20230202\n",
    "#FILTER = \"empty-holo4_003\"\n",
    "#FILTER=\"BG40_65mm_1-holo4_003\"\n",
    "#FILTER=\"OG550_65mm_1-holo4_003\"\n",
    "\n",
    "#DATE = 20230215\n",
    "#FILTER=\"empty-holo4_003\"\n",
    "\n",
    "\n",
    "#DATE = 20230315\n",
    "#FILTER=\"empty-holo4_003\"\n",
    "\n",
    "#DATE = 20230316\n",
    "#FILTER=\"empty-holo4_003\"\n",
    "\n",
    "#DATE = 20230704\n",
    "#FILTER = \"empty-holo4_003\"\n",
    "\n",
    "#DATE = 20230705\n",
    "#FILTER = \"empty-holo4_003\"\n",
    "\n",
    "#DATE = 20230706\n",
    "#FILTER = \"empty-holo4_003\"\n",
    "\n",
    "\n",
    "#DATE = 20230718\n",
    "#FILTER = \"empty-holo4_003\"\n",
    "\n",
    "#DATE = 20230720\n",
    "#FILTER = \"empty-holo4_003\"\n",
    "\n",
    "#DATE = 20230801\n",
    "#FILTER = \"empty-holo4_003\"\n",
    "\n",
    "#DATE = 20230802\n",
    "#FILTER = \"empty-holo4_003\"\n",
    "\n",
    "#DATE = 20230815\n",
    "#FILTER = \"empty-holo4_003\"\n",
    "\n",
    "#DATE = 20230817\n",
    "#FILTER = \"empty-holo4_003\"\n",
    "\n",
    "\n",
    "#DATE = 20230912\n",
    "#FILTER=\"cyl_lens-holo4_001\"\n",
    "#FILTER=\"cyl_lens-holo4_003\"\n",
    "#FILTER=\"collimator-holo4_003\"\n",
    "#FILTER=\"empty-holo4_001\"\n",
    "#FILTER=\"empty-holo4_003\"\n",
    "\n",
    "#DATE = 20230913\n",
    "#FILTER=\"collimator-holo4_003\"\n",
    "#FILTER=\"cyl_lens-holo4_003\"\n",
    "#FILTER=\"empty-holo4_003\"\n",
    "#FILTER=\"empty-holo4_001\"\n",
    "\n",
    "#DATE = 20230914\n",
    "#FILTER=\"collimator-holo4_003\"\n",
    "#FILTER=\"cyl_lens-holo4_003\"\n",
    "#FILTER=\"empty-holo4_003\"\n",
    "#FILTER=\"empty-holo4_001\"\n",
    "\n",
    "\n",
    "############### 2021 ##############  In repo main\n",
    "#-rw-r--r-- 1 dagoret rubin_users 338 Dec 20 01:35 visitdispersers_20211006_filt_BG40-holo4_003.list\n",
    "#-rw-r--r-- 1 dagoret rubin_users 338 Dec 20 01:35 visitdispersers_20211006_filt_empty-holo4_003.list\n",
    "#-rw-r--r-- 1 dagoret rubin_users 338 Dec 20 01:35 visitdispersers_20211006_filt_FELH0600-holo4_003.list\n",
    "#-rw-r--r-- 1 dagoret rubin_users 338 Dec 20 01:35 visitdispersers_20211006_filt_SDSSg-holo4_003.list\n",
    "\n",
    "\n",
    "#DATE = 20211006\n",
    "#FILTER=\"SDSSg-holo4_003\"\n",
    "#FILTER=\"BG40-holo4_003\"\n",
    "#FILTER=\"collimator-holo4_003\"\n",
    "#FILTER=\"empty-holo4_003\"\n",
    "\n",
    "#-rw-r--r-- 1 dagoret rubin_users 442 Dec 20 01:36 visitdispersers_20211103_filt_BG40-holo4_003.list\n",
    "#-rw-r--r-- 1 dagoret rubin_users 442 Dec 20 01:36 visitdispersers_20211103_filt_empty-holo4_003.list\n",
    "#-rw-r--r-- 1 dagoret rubin_users 559 Dec 20 01:36 visitdispersers_20211103_filt_FELH0600-holo4_003.list\n",
    "#-rw-r--r-- 1 dagoret rubin_users 442 Dec 20 01:36 visitdispersers_20211103_filt_SDSSg-holo4_003.list\n",
    "\n",
    "\n",
    "#DATE = 20211103\n",
    "#FILTER=\"SDSSg-holo4_003\"\n",
    "#FILTER=\"BG40-holo4_003\"\n",
    "#FILTER=\"collimator-holo4_003\"\n",
    "#FILTER=\"empty-holo4_003\"\n",
    "\n",
    "#DATE = 20240131\n",
    "#FILTER=\"SDSSg-holo4_003\"\n",
    "#FILTER=\"BG40-holo4_003\"\n",
    "#FILTER=\"collimator-holo4_003\"\n",
    "#FILTER=\"empty-holo4_003\"\n",
    "\n",
    "\n",
    "#- 20240709\n",
    "#- 20240710\n",
    "#- 20240711\n",
    "#- 20240715\n",
    "#- 20240716\n",
    "#- 20240717\n",
    "#- 20240724\n",
    "#- 20240729\n",
    "\n",
    "\n",
    "DATE = 20240729\n",
    "#FILTER=\"collimator-holo4_003\"\n",
    "#FILTER=\"cyl_lens-holo4_003\"\n",
    "FILTER=\"empty-holo4_003\"\n",
    "#FILTER=\"empty-holo4_001\"\n",
    "\n",
    "#filename_visits = f\"visitdispersers_{DATE}_filt_{FILTER}.list\"\n",
    "filename_visits = f\"all_visitdispersers/{DATE}/visitdispersers_{DATE}_filt_{FILTER}.list\""
   ]
  },
  {
   "cell_type": "code",
   "execution_count": 10,
   "id": "0b1d8cd0-a59d-4829-8203-1096d3a4146b",
   "metadata": {
    "execution": {
     "iopub.execute_input": "2024-07-31T22:13:33.198283Z",
     "iopub.status.busy": "2024-07-31T22:13:33.198168Z",
     "iopub.status.idle": "2024-07-31T22:13:33.201971Z",
     "shell.execute_reply": "2024-07-31T22:13:33.201659Z",
     "shell.execute_reply.started": "2024-07-31T22:13:33.198273Z"
    },
    "tags": []
   },
   "outputs": [],
   "source": [
    "# output path of type top/date/filter\n",
    "#----------------------------------------\n",
    "\n",
    "top_path_out=\"my_postisrccd_img\"\n",
    "path_out=f\"{top_path_out}/{DATE}\""
   ]
  },
  {
   "cell_type": "code",
   "execution_count": 11,
   "id": "01aa4d52-809c-40e1-96f6-29b42d1b1d3c",
   "metadata": {
    "execution": {
     "iopub.execute_input": "2024-07-31T22:13:33.202493Z",
     "iopub.status.busy": "2024-07-31T22:13:33.202382Z",
     "iopub.status.idle": "2024-07-31T22:13:33.206474Z",
     "shell.execute_reply": "2024-07-31T22:13:33.206154Z",
     "shell.execute_reply.started": "2024-07-31T22:13:33.202484Z"
    },
    "tags": []
   },
   "outputs": [],
   "source": [
    "if not os.path.exists(path_out):\n",
    "    os.makedirs(path_out)"
   ]
  },
  {
   "cell_type": "code",
   "execution_count": 12,
   "id": "e7212f9f-a77a-48fe-b6f6-e30d56d8e84d",
   "metadata": {
    "execution": {
     "iopub.execute_input": "2024-07-31T22:13:33.208525Z",
     "iopub.status.busy": "2024-07-31T22:13:33.208406Z",
     "iopub.status.idle": "2024-07-31T22:13:33.212028Z",
     "shell.execute_reply": "2024-07-31T22:13:33.211661Z",
     "shell.execute_reply.started": "2024-07-31T22:13:33.208515Z"
    }
   },
   "outputs": [],
   "source": [
    "path_out=f\"{path_out}/{FILTER}\"\n",
    "\n",
    "if not os.path.exists(path_out):\n",
    "    os.makedirs(path_out)"
   ]
  },
  {
   "cell_type": "markdown",
   "id": "253a575f-e467-4b3d-ab0a-f26542f13dc1",
   "metadata": {},
   "source": [
    "# read list of exposures\n",
    "\n",
    "- generated by ListOfExposures-hologram.ipynb"
   ]
  },
  {
   "cell_type": "code",
   "execution_count": 13,
   "id": "88e09b46-88ad-4e99-a062-f4a740e0ddac",
   "metadata": {
    "execution": {
     "iopub.execute_input": "2024-07-31T22:13:33.212556Z",
     "iopub.status.busy": "2024-07-31T22:13:33.212443Z",
     "iopub.status.idle": "2024-07-31T22:13:33.221479Z",
     "shell.execute_reply": "2024-07-31T22:13:33.221134Z",
     "shell.execute_reply.started": "2024-07-31T22:13:33.212546Z"
    },
    "tags": []
   },
   "outputs": [
    {
     "data": {
      "text/html": [
       "<div>\n",
       "<style scoped>\n",
       "    .dataframe tbody tr th:only-of-type {\n",
       "        vertical-align: middle;\n",
       "    }\n",
       "\n",
       "    .dataframe tbody tr th {\n",
       "        vertical-align: top;\n",
       "    }\n",
       "\n",
       "    .dataframe thead th {\n",
       "        text-align: right;\n",
       "    }\n",
       "</style>\n",
       "<table border=\"1\" class=\"dataframe\">\n",
       "  <thead>\n",
       "    <tr style=\"text-align: right;\">\n",
       "      <th></th>\n",
       "      <th>date</th>\n",
       "      <th>seq</th>\n",
       "    </tr>\n",
       "  </thead>\n",
       "  <tbody>\n",
       "    <tr>\n",
       "      <th>0</th>\n",
       "      <td>20240729</td>\n",
       "      <td>278</td>\n",
       "    </tr>\n",
       "    <tr>\n",
       "      <th>1</th>\n",
       "      <td>20240729</td>\n",
       "      <td>284</td>\n",
       "    </tr>\n",
       "    <tr>\n",
       "      <th>2</th>\n",
       "      <td>20240729</td>\n",
       "      <td>285</td>\n",
       "    </tr>\n",
       "    <tr>\n",
       "      <th>3</th>\n",
       "      <td>20240729</td>\n",
       "      <td>291</td>\n",
       "    </tr>\n",
       "    <tr>\n",
       "      <th>4</th>\n",
       "      <td>20240729</td>\n",
       "      <td>292</td>\n",
       "    </tr>\n",
       "    <tr>\n",
       "      <th>...</th>\n",
       "      <td>...</td>\n",
       "      <td>...</td>\n",
       "    </tr>\n",
       "    <tr>\n",
       "      <th>56</th>\n",
       "      <td>20240729</td>\n",
       "      <td>561</td>\n",
       "    </tr>\n",
       "    <tr>\n",
       "      <th>57</th>\n",
       "      <td>20240729</td>\n",
       "      <td>567</td>\n",
       "    </tr>\n",
       "    <tr>\n",
       "      <th>58</th>\n",
       "      <td>20240729</td>\n",
       "      <td>568</td>\n",
       "    </tr>\n",
       "    <tr>\n",
       "      <th>59</th>\n",
       "      <td>20240729</td>\n",
       "      <td>574</td>\n",
       "    </tr>\n",
       "    <tr>\n",
       "      <th>60</th>\n",
       "      <td>20240729</td>\n",
       "      <td>575</td>\n",
       "    </tr>\n",
       "  </tbody>\n",
       "</table>\n",
       "<p>61 rows × 2 columns</p>\n",
       "</div>"
      ],
      "text/plain": [
       "        date  seq\n",
       "0   20240729  278\n",
       "1   20240729  284\n",
       "2   20240729  285\n",
       "3   20240729  291\n",
       "4   20240729  292\n",
       "..       ...  ...\n",
       "56  20240729  561\n",
       "57  20240729  567\n",
       "58  20240729  568\n",
       "59  20240729  574\n",
       "60  20240729  575\n",
       "\n",
       "[61 rows x 2 columns]"
      ]
     },
     "execution_count": 13,
     "metadata": {},
     "output_type": "execute_result"
    }
   ],
   "source": [
    "df = pd.read_csv(filename_visits, header=None,skiprows = 1, sep=' ',names=[\"date\",\"seq\"])\n",
    "df"
   ]
  },
  {
   "cell_type": "code",
   "execution_count": 14,
   "id": "5cc792a3-8e45-48b8-af4b-4475b658f926",
   "metadata": {
    "execution": {
     "iopub.execute_input": "2024-07-31T22:13:33.222040Z",
     "iopub.status.busy": "2024-07-31T22:13:33.221923Z",
     "iopub.status.idle": "2024-07-31T22:13:33.226460Z",
     "shell.execute_reply": "2024-07-31T22:13:33.226112Z",
     "shell.execute_reply.started": "2024-07-31T22:13:33.222031Z"
    },
    "tags": []
   },
   "outputs": [
    {
     "name": "stdout",
     "output_type": "stream",
     "text": [
      "2024072900278\n",
      "2024072900284\n",
      "2024072900285\n",
      "2024072900291\n",
      "2024072900292\n",
      "2024072900298\n",
      "2024072900299\n",
      "2024072900305\n",
      "2024072900306\n",
      "2024072900312\n",
      "2024072900313\n",
      "2024072900319\n",
      "2024072900320\n",
      "2024072900326\n",
      "2024072900327\n",
      "2024072900333\n",
      "2024072900334\n",
      "2024072900340\n",
      "2024072900341\n",
      "2024072900347\n",
      "2024072900348\n",
      "2024072900354\n",
      "2024072900355\n",
      "2024072900361\n",
      "2024072900362\n",
      "2024072900389\n",
      "2024072900390\n",
      "2024072900396\n",
      "2024072900397\n",
      "2024072900403\n",
      "2024072900404\n",
      "2024072900410\n",
      "2024072900411\n",
      "2024072900417\n",
      "2024072900418\n",
      "2024072900424\n",
      "2024072900425\n",
      "2024072900431\n",
      "2024072900432\n",
      "2024072900438\n",
      "2024072900439\n",
      "2024072900445\n",
      "2024072900446\n",
      "2024072900513\n",
      "2024072900514\n",
      "2024072900522\n",
      "2024072900523\n",
      "2024072900530\n",
      "2024072900531\n",
      "2024072900538\n",
      "2024072900539\n",
      "2024072900545\n",
      "2024072900546\n",
      "2024072900553\n",
      "2024072900554\n",
      "2024072900560\n",
      "2024072900561\n",
      "2024072900567\n",
      "2024072900568\n",
      "2024072900574\n",
      "2024072900575\n"
     ]
    }
   ],
   "source": [
    "for index,row in df.iterrows():\n",
    "    exposure_selected =row[\"date\"]*100000+row[\"seq\"]\n",
    "    print(exposure_selected)"
   ]
  },
  {
   "cell_type": "markdown",
   "id": "b67586ea-b4bf-4959-87f3-b231320a5bf8",
   "metadata": {},
   "source": [
    "## Select flags options"
   ]
  },
  {
   "cell_type": "code",
   "execution_count": 15,
   "id": "655de8b8-3109-4a63-bcc7-3be31e9a514d",
   "metadata": {
    "execution": {
     "iopub.execute_input": "2024-07-31T22:13:33.227008Z",
     "iopub.status.busy": "2024-07-31T22:13:33.226892Z",
     "iopub.status.idle": "2024-07-31T22:13:33.229208Z",
     "shell.execute_reply": "2024-07-31T22:13:33.228893Z",
     "shell.execute_reply.started": "2024-07-31T22:13:33.226998Z"
    },
    "tags": []
   },
   "outputs": [],
   "source": [
    "FLAG_ROTATE_IMG = True\n",
    "FLAG_TRANSFORM = True"
   ]
  },
  {
   "cell_type": "markdown",
   "id": "a6230ef7-ddeb-4430-af47-320b8f72c840",
   "metadata": {},
   "source": [
    "## Transformations\n",
    "astropy scale transformations"
   ]
  },
  {
   "cell_type": "code",
   "execution_count": 16,
   "id": "257001ba-731c-4d13-bd0d-4c68a3cd6829",
   "metadata": {
    "execution": {
     "iopub.execute_input": "2024-07-31T22:13:33.229747Z",
     "iopub.status.busy": "2024-07-31T22:13:33.229623Z",
     "iopub.status.idle": "2024-07-31T22:13:33.233546Z",
     "shell.execute_reply": "2024-07-31T22:13:33.233207Z",
     "shell.execute_reply.started": "2024-07-31T22:13:33.229737Z"
    },
    "tags": []
   },
   "outputs": [],
   "source": [
    "transform = AsinhStretch() + PercentileInterval(99.)\n",
    "#transform = PercentileInterval(98.)"
   ]
  },
  {
   "cell_type": "markdown",
   "id": "60ba89aa-c9c0-46b4-a330-88a969a88039",
   "metadata": {},
   "source": [
    "## Butler"
   ]
  },
  {
   "cell_type": "code",
   "execution_count": 17,
   "id": "7c5944d1-0cbb-42bc-9ea9-a7ff39e25a01",
   "metadata": {
    "execution": {
     "iopub.execute_input": "2024-07-31T22:13:33.234133Z",
     "iopub.status.busy": "2024-07-31T22:13:33.234022Z",
     "iopub.status.idle": "2024-07-31T22:13:33.765681Z",
     "shell.execute_reply": "2024-07-31T22:13:33.765233Z",
     "shell.execute_reply.started": "2024-07-31T22:13:33.234124Z"
    },
    "tags": []
   },
   "outputs": [],
   "source": [
    "#repo = '/sdf/group/rubin/repo/main'\n",
    "repo=\"/sdf/group/rubin/repo/oga/\"\n",
    "butler = dafButler.Butler(repo)\n",
    "registry = butler.registry"
   ]
  },
  {
   "cell_type": "code",
   "execution_count": 18,
   "id": "b6b5b19c-69d1-4f06-9c8b-3a3d5e8d8e89",
   "metadata": {
    "execution": {
     "iopub.execute_input": "2024-07-31T22:13:33.766422Z",
     "iopub.status.busy": "2024-07-31T22:13:33.766290Z",
     "iopub.status.idle": "2024-07-31T22:13:33.768524Z",
     "shell.execute_reply": "2024-07-31T22:13:33.768178Z",
     "shell.execute_reply.started": "2024-07-31T22:13:33.766410Z"
    },
    "tags": []
   },
   "outputs": [],
   "source": [
    "collection='LATISS/raw/all'"
   ]
  },
  {
   "cell_type": "code",
   "execution_count": 19,
   "id": "412567bf-4590-4259-95bd-92ac85a927f7",
   "metadata": {
    "execution": {
     "iopub.execute_input": "2024-07-31T22:13:33.769149Z",
     "iopub.status.busy": "2024-07-31T22:13:33.769029Z",
     "iopub.status.idle": "2024-07-31T22:13:33.793284Z",
     "shell.execute_reply": "2024-07-31T22:13:33.792937Z",
     "shell.execute_reply.started": "2024-07-31T22:13:33.769138Z"
    },
    "tags": []
   },
   "outputs": [],
   "source": [
    "# configuration\n",
    "isr_config =  IsrTaskConfig()"
   ]
  },
  {
   "cell_type": "code",
   "execution_count": 20,
   "id": "128d48a0-eb3b-46b8-85a7-335654132c44",
   "metadata": {
    "execution": {
     "iopub.execute_input": "2024-07-31T22:13:33.793868Z",
     "iopub.status.busy": "2024-07-31T22:13:33.793748Z",
     "iopub.status.idle": "2024-07-31T22:13:33.796317Z",
     "shell.execute_reply": "2024-07-31T22:13:33.795979Z",
     "shell.execute_reply.started": "2024-07-31T22:13:33.793858Z"
    },
    "tags": []
   },
   "outputs": [],
   "source": [
    "isr_config.doDark = False\n",
    "isr_config.doFlat =  False\n",
    "isr_config.doFringe = False\n",
    "isr_config.doDefect = True\n",
    "isr_config.doLinearize = False\n",
    "isr_config.doCrosstalk =  False\n",
    "isr_config.doSaturationInterpolation = False\n",
    "isr_config.overscan.fitType: 'MEDIAN_PER_ROW'\n",
    "isr_config.doBias: True\n"
   ]
  },
  {
   "cell_type": "code",
   "execution_count": 21,
   "id": "176a179f-8d79-4625-82e5-14556ae34836",
   "metadata": {
    "execution": {
     "iopub.execute_input": "2024-07-31T22:13:33.796919Z",
     "iopub.status.busy": "2024-07-31T22:13:33.796804Z",
     "iopub.status.idle": "2024-07-31T22:13:33.799946Z",
     "shell.execute_reply": "2024-07-31T22:13:33.799607Z",
     "shell.execute_reply.started": "2024-07-31T22:13:33.796910Z"
    },
    "tags": []
   },
   "outputs": [],
   "source": [
    "isr_task = IsrTask(config=isr_config)"
   ]
  },
  {
   "cell_type": "code",
   "execution_count": 22,
   "id": "294ead5b-c78a-42b1-92d6-edc212106092",
   "metadata": {
    "execution": {
     "iopub.execute_input": "2024-07-31T22:13:33.800507Z",
     "iopub.status.busy": "2024-07-31T22:13:33.800392Z",
     "iopub.status.idle": "2024-07-31T22:13:33.804148Z",
     "shell.execute_reply": "2024-07-31T22:13:33.803834Z",
     "shell.execute_reply.started": "2024-07-31T22:13:33.800498Z"
    }
   },
   "outputs": [],
   "source": [
    "###########################################\n",
    "# REPO=/repo/embargo\n",
    "# butler query-collections $REPO LATISS/calib\n",
    "#############################################"
   ]
  },
  {
   "cell_type": "code",
   "execution_count": 23,
   "id": "362e6892-8c97-4135-bf9d-35be10dc5394",
   "metadata": {
    "execution": {
     "iopub.execute_input": "2024-07-31T22:13:33.804706Z",
     "iopub.status.busy": "2024-07-31T22:13:33.804588Z",
     "iopub.status.idle": "2024-07-31T22:13:33.809986Z",
     "shell.execute_reply": "2024-07-31T22:13:33.809661Z",
     "shell.execute_reply.started": "2024-07-31T22:13:33.804697Z"
    }
   },
   "outputs": [],
   "source": [
    "calibType = 'bias'\n",
    "physical_filter = 'empty~empty'\n",
    "cameraName = 'LATISS'\n",
    "# Collection name containing the verification outputs.\n",
    "calibCollections = ['LATISS/calib','LATISS/raw/all',]                   "
   ]
  },
  {
   "cell_type": "code",
   "execution_count": 24,
   "id": "ca24467e-a7e0-4838-ba0f-c37475fbc601",
   "metadata": {
    "execution": {
     "iopub.execute_input": "2024-07-31T22:13:33.810548Z",
     "iopub.status.busy": "2024-07-31T22:13:33.810433Z",
     "iopub.status.idle": "2024-07-31T22:13:34.558607Z",
     "shell.execute_reply": "2024-07-31T22:13:34.558225Z",
     "shell.execute_reply.started": "2024-07-31T22:13:33.810538Z"
    },
    "tags": []
   },
   "outputs": [],
   "source": [
    "butler = dafButler.Butler(repo, collections=calibCollections)\n",
    "camera = butler.get('camera', instrument=cameraName)\n",
    "#bias = butler.get('bias',instrument=cameraName,detector=0)\n",
    "#defects = butler.get('defects',instrument=cameraName,detector=0)\n"
   ]
  },
  {
   "cell_type": "code",
   "execution_count": null,
   "id": "b6351e4f-030b-4712-ab7c-452e2ab04118",
   "metadata": {
    "execution": {
     "execution_failed": "2024-07-31T22:13:58.730Z",
     "iopub.execute_input": "2024-07-31T22:13:34.559262Z",
     "iopub.status.busy": "2024-07-31T22:13:34.559135Z"
    },
    "tags": []
   },
   "outputs": [
    {
     "name": "stdout",
     "output_type": "stream",
     "text": [
      "Exposure 2024072900278, DATE for Master Bias with short calib list 2024-03-27 09:39:49 PDT\n",
      "Exposure 2024072900278, DATE for Master Defect with short calib list 2024-04-16 08:28:20.190150\n"
     ]
    },
    {
     "data": {
      "text/html": [
       "<pre style=\"margin: 0.1em;\n",
       "padding-left: 0.25em;\n",
       "border-left-style: solid;\n",
       "font-family: var(--jp-code-font-family);\n",
       "font-size: var(--jp-code-font-size);\n",
       "line-height: var(--jp-code-line-height);\n",
       "\"><span style=\"color: var(--jp-warn-color2)\">lsst.isr</span> <span style=\"color: var(--jp-info-color0)\">INFO</span>: Converting exposure to floating point values.</pre>"
      ],
      "text/plain": [
       "<IPython.core.display.HTML object>"
      ]
     },
     "metadata": {},
     "output_type": "display_data"
    },
    {
     "data": {
      "text/html": [
       "<pre style=\"margin: 0.1em;\n",
       "padding-left: 0.25em;\n",
       "border-left-style: solid;\n",
       "font-family: var(--jp-code-font-family);\n",
       "font-size: var(--jp-code-font-size);\n",
       "line-height: var(--jp-code-line-height);\n",
       "\"><span style=\"color: var(--jp-warn-color2)\">lsst.isr</span> <span style=\"color: var(--jp-info-color0)\">INFO</span>: Det: RXX_S00 - Noise provenance: amp, Gain provenance: amp</pre>"
      ],
      "text/plain": [
       "<IPython.core.display.HTML object>"
      ]
     },
     "metadata": {},
     "output_type": "display_data"
    },
    {
     "data": {
      "text/html": [
       "<pre style=\"margin: 0.1em;\n",
       "padding-left: 0.25em;\n",
       "border-left-style: solid;\n",
       "font-family: var(--jp-code-font-family);\n",
       "font-size: var(--jp-code-font-size);\n",
       "line-height: var(--jp-code-line-height);\n",
       "\"><span style=\"color: var(--jp-warn-color2)\">lsst.isr</span> <span style=\"color: var(--jp-info-color0)\">INFO</span>: Assembling CCD from amplifiers.</pre>"
      ],
      "text/plain": [
       "<IPython.core.display.HTML object>"
      ]
     },
     "metadata": {},
     "output_type": "display_data"
    },
    {
     "data": {
      "text/html": [
       "<pre style=\"margin: 0.1em;\n",
       "padding-left: 0.25em;\n",
       "border-left-style: solid;\n",
       "font-family: var(--jp-code-font-family);\n",
       "font-size: var(--jp-code-font-size);\n",
       "line-height: var(--jp-code-line-height);\n",
       "\"><span style=\"color: var(--jp-warn-color2)\">lsst.isr</span> <span style=\"color: var(--jp-info-color0)\">INFO</span>: Applying bias correction.</pre>"
      ],
      "text/plain": [
       "<IPython.core.display.HTML object>"
      ]
     },
     "metadata": {},
     "output_type": "display_data"
    },
    {
     "data": {
      "text/html": [
       "<pre style=\"margin: 0.1em;\n",
       "padding-left: 0.25em;\n",
       "border-left-style: solid;\n",
       "font-family: var(--jp-code-font-family);\n",
       "font-size: var(--jp-code-font-size);\n",
       "line-height: var(--jp-code-line-height);\n",
       "\"><span style=\"color: var(--jp-warn-color2)\">lsst.isr</span> <span style=\"color: var(--jp-info-color0)\">INFO</span>: Masking defects.</pre>"
      ],
      "text/plain": [
       "<IPython.core.display.HTML object>"
      ]
     },
     "metadata": {},
     "output_type": "display_data"
    },
    {
     "data": {
      "text/html": [
       "<pre style=\"margin: 0.1em;\n",
       "padding-left: 0.25em;\n",
       "border-left-style: solid;\n",
       "font-family: var(--jp-code-font-family);\n",
       "font-size: var(--jp-code-font-size);\n",
       "line-height: var(--jp-code-line-height);\n",
       "\"><span style=\"color: var(--jp-warn-color2)\">lsst.isr</span> <span style=\"color: var(--jp-info-color0)\">INFO</span>: Masking non-finite (NAN, inf) value pixels.</pre>"
      ],
      "text/plain": [
       "<IPython.core.display.HTML object>"
      ]
     },
     "metadata": {},
     "output_type": "display_data"
    },
    {
     "data": {
      "text/html": [
       "<pre style=\"margin: 0.1em;\n",
       "padding-left: 0.25em;\n",
       "border-left-style: solid;\n",
       "font-family: var(--jp-code-font-family);\n",
       "font-size: var(--jp-code-font-size);\n",
       "line-height: var(--jp-code-line-height);\n",
       "\"><span style=\"color: var(--jp-warn-color2)\">lsst.isr</span> <span style=\"color: var(--jp-info-color0)\">INFO</span>: Widening saturation trails.</pre>"
      ],
      "text/plain": [
       "<IPython.core.display.HTML object>"
      ]
     },
     "metadata": {},
     "output_type": "display_data"
    },
    {
     "data": {
      "text/html": [
       "<pre style=\"margin: 0.1em;\n",
       "padding-left: 0.25em;\n",
       "border-left-style: solid;\n",
       "font-family: var(--jp-code-font-family);\n",
       "font-size: var(--jp-code-font-size);\n",
       "line-height: var(--jp-code-line-height);\n",
       "\"><span style=\"color: var(--jp-warn-color2)\">lsst.isr</span> <span style=\"color: var(--jp-info-color0)\">INFO</span>: Set 105281 BAD pixels to 21.375305.</pre>"
      ],
      "text/plain": [
       "<IPython.core.display.HTML object>"
      ]
     },
     "metadata": {},
     "output_type": "display_data"
    },
    {
     "data": {
      "text/html": [
       "<pre style=\"margin: 0.1em;\n",
       "padding-left: 0.25em;\n",
       "border-left-style: solid;\n",
       "font-family: var(--jp-code-font-family);\n",
       "font-size: var(--jp-code-font-size);\n",
       "line-height: var(--jp-code-line-height);\n",
       "\"><span style=\"color: var(--jp-warn-color2)\">lsst.isr</span> <span style=\"color: var(--jp-info-color0)\">INFO</span>: Interpolating masked pixels.</pre>"
      ],
      "text/plain": [
       "<IPython.core.display.HTML object>"
      ]
     },
     "metadata": {},
     "output_type": "display_data"
    },
    {
     "data": {
      "text/html": [
       "<pre style=\"margin: 0.1em;\n",
       "padding-left: 0.25em;\n",
       "border-left-style: solid;\n",
       "font-family: var(--jp-code-font-family);\n",
       "font-size: var(--jp-code-font-size);\n",
       "line-height: var(--jp-code-line-height);\n",
       "\"><span style=\"color: var(--jp-warn-color2)\">lsst.isr</span> <span style=\"color: var(--jp-warn-color0)\">WARNING</span>: No rough magnitude zero point defined for filter empty~holo4_003.</pre>"
      ],
      "text/plain": [
       "<IPython.core.display.HTML object>"
      ]
     },
     "metadata": {},
     "output_type": "display_data"
    },
    {
     "data": {
      "text/html": [
       "<pre style=\"margin: 0.1em;\n",
       "padding-left: 0.25em;\n",
       "border-left-style: solid;\n",
       "font-family: var(--jp-code-font-family);\n",
       "font-size: var(--jp-code-font-size);\n",
       "line-height: var(--jp-code-line-height);\n",
       "\"><span style=\"color: var(--jp-warn-color2)\">lsst.isr</span> <span style=\"color: var(--jp-info-color0)\">INFO</span>: Setting rough magnitude zero point for filter empty~holo4_003: 32.445378</pre>"
      ],
      "text/plain": [
       "<IPython.core.display.HTML object>"
      ]
     },
     "metadata": {},
     "output_type": "display_data"
    },
    {
     "name": "stdout",
     "output_type": "stream",
     "text": [
      "Exposure 2024072900284, DATE for Master Bias with short calib list 2024-03-27 09:39:49 PDT\n",
      "Exposure 2024072900284, DATE for Master Defect with short calib list 2024-04-16 08:28:20.190150\n"
     ]
    },
    {
     "data": {
      "text/html": [
       "<pre style=\"margin: 0.1em;\n",
       "padding-left: 0.25em;\n",
       "border-left-style: solid;\n",
       "font-family: var(--jp-code-font-family);\n",
       "font-size: var(--jp-code-font-size);\n",
       "line-height: var(--jp-code-line-height);\n",
       "\"><span style=\"color: var(--jp-warn-color2)\">lsst.isr</span> <span style=\"color: var(--jp-info-color0)\">INFO</span>: Converting exposure to floating point values.</pre>"
      ],
      "text/plain": [
       "<IPython.core.display.HTML object>"
      ]
     },
     "metadata": {},
     "output_type": "display_data"
    },
    {
     "data": {
      "text/html": [
       "<pre style=\"margin: 0.1em;\n",
       "padding-left: 0.25em;\n",
       "border-left-style: solid;\n",
       "font-family: var(--jp-code-font-family);\n",
       "font-size: var(--jp-code-font-size);\n",
       "line-height: var(--jp-code-line-height);\n",
       "\"><span style=\"color: var(--jp-warn-color2)\">lsst.isr</span> <span style=\"color: var(--jp-info-color0)\">INFO</span>: Det: RXX_S00 - Noise provenance: amp, Gain provenance: amp</pre>"
      ],
      "text/plain": [
       "<IPython.core.display.HTML object>"
      ]
     },
     "metadata": {},
     "output_type": "display_data"
    },
    {
     "data": {
      "text/html": [
       "<pre style=\"margin: 0.1em;\n",
       "padding-left: 0.25em;\n",
       "border-left-style: solid;\n",
       "font-family: var(--jp-code-font-family);\n",
       "font-size: var(--jp-code-font-size);\n",
       "line-height: var(--jp-code-line-height);\n",
       "\"><span style=\"color: var(--jp-warn-color2)\">lsst.isr</span> <span style=\"color: var(--jp-info-color0)\">INFO</span>: Assembling CCD from amplifiers.</pre>"
      ],
      "text/plain": [
       "<IPython.core.display.HTML object>"
      ]
     },
     "metadata": {},
     "output_type": "display_data"
    },
    {
     "data": {
      "text/html": [
       "<pre style=\"margin: 0.1em;\n",
       "padding-left: 0.25em;\n",
       "border-left-style: solid;\n",
       "font-family: var(--jp-code-font-family);\n",
       "font-size: var(--jp-code-font-size);\n",
       "line-height: var(--jp-code-line-height);\n",
       "\"><span style=\"color: var(--jp-warn-color2)\">lsst.isr</span> <span style=\"color: var(--jp-info-color0)\">INFO</span>: Applying bias correction.</pre>"
      ],
      "text/plain": [
       "<IPython.core.display.HTML object>"
      ]
     },
     "metadata": {},
     "output_type": "display_data"
    },
    {
     "data": {
      "text/html": [
       "<pre style=\"margin: 0.1em;\n",
       "padding-left: 0.25em;\n",
       "border-left-style: solid;\n",
       "font-family: var(--jp-code-font-family);\n",
       "font-size: var(--jp-code-font-size);\n",
       "line-height: var(--jp-code-line-height);\n",
       "\"><span style=\"color: var(--jp-warn-color2)\">lsst.isr</span> <span style=\"color: var(--jp-info-color0)\">INFO</span>: Masking defects.</pre>"
      ],
      "text/plain": [
       "<IPython.core.display.HTML object>"
      ]
     },
     "metadata": {},
     "output_type": "display_data"
    },
    {
     "data": {
      "text/html": [
       "<pre style=\"margin: 0.1em;\n",
       "padding-left: 0.25em;\n",
       "border-left-style: solid;\n",
       "font-family: var(--jp-code-font-family);\n",
       "font-size: var(--jp-code-font-size);\n",
       "line-height: var(--jp-code-line-height);\n",
       "\"><span style=\"color: var(--jp-warn-color2)\">lsst.isr</span> <span style=\"color: var(--jp-info-color0)\">INFO</span>: Masking non-finite (NAN, inf) value pixels.</pre>"
      ],
      "text/plain": [
       "<IPython.core.display.HTML object>"
      ]
     },
     "metadata": {},
     "output_type": "display_data"
    },
    {
     "data": {
      "text/html": [
       "<pre style=\"margin: 0.1em;\n",
       "padding-left: 0.25em;\n",
       "border-left-style: solid;\n",
       "font-family: var(--jp-code-font-family);\n",
       "font-size: var(--jp-code-font-size);\n",
       "line-height: var(--jp-code-line-height);\n",
       "\"><span style=\"color: var(--jp-warn-color2)\">lsst.isr</span> <span style=\"color: var(--jp-info-color0)\">INFO</span>: Widening saturation trails.</pre>"
      ],
      "text/plain": [
       "<IPython.core.display.HTML object>"
      ]
     },
     "metadata": {},
     "output_type": "display_data"
    },
    {
     "data": {
      "text/html": [
       "<pre style=\"margin: 0.1em;\n",
       "padding-left: 0.25em;\n",
       "border-left-style: solid;\n",
       "font-family: var(--jp-code-font-family);\n",
       "font-size: var(--jp-code-font-size);\n",
       "line-height: var(--jp-code-line-height);\n",
       "\"><span style=\"color: var(--jp-warn-color2)\">lsst.isr</span> <span style=\"color: var(--jp-info-color0)\">INFO</span>: Set 105281 BAD pixels to 12.675550.</pre>"
      ],
      "text/plain": [
       "<IPython.core.display.HTML object>"
      ]
     },
     "metadata": {},
     "output_type": "display_data"
    },
    {
     "data": {
      "text/html": [
       "<pre style=\"margin: 0.1em;\n",
       "padding-left: 0.25em;\n",
       "border-left-style: solid;\n",
       "font-family: var(--jp-code-font-family);\n",
       "font-size: var(--jp-code-font-size);\n",
       "line-height: var(--jp-code-line-height);\n",
       "\"><span style=\"color: var(--jp-warn-color2)\">lsst.isr</span> <span style=\"color: var(--jp-info-color0)\">INFO</span>: Interpolating masked pixels.</pre>"
      ],
      "text/plain": [
       "<IPython.core.display.HTML object>"
      ]
     },
     "metadata": {},
     "output_type": "display_data"
    },
    {
     "data": {
      "text/html": [
       "<pre style=\"margin: 0.1em;\n",
       "padding-left: 0.25em;\n",
       "border-left-style: solid;\n",
       "font-family: var(--jp-code-font-family);\n",
       "font-size: var(--jp-code-font-size);\n",
       "line-height: var(--jp-code-line-height);\n",
       "\"><span style=\"color: var(--jp-warn-color2)\">lsst.isr</span> <span style=\"color: var(--jp-warn-color0)\">WARNING</span>: No rough magnitude zero point defined for filter empty~holo4_003.</pre>"
      ],
      "text/plain": [
       "<IPython.core.display.HTML object>"
      ]
     },
     "metadata": {},
     "output_type": "display_data"
    },
    {
     "data": {
      "text/html": [
       "<pre style=\"margin: 0.1em;\n",
       "padding-left: 0.25em;\n",
       "border-left-style: solid;\n",
       "font-family: var(--jp-code-font-family);\n",
       "font-size: var(--jp-code-font-size);\n",
       "line-height: var(--jp-code-line-height);\n",
       "\"><span style=\"color: var(--jp-warn-color2)\">lsst.isr</span> <span style=\"color: var(--jp-info-color0)\">INFO</span>: Setting rough magnitude zero point for filter empty~holo4_003: 31.692803</pre>"
      ],
      "text/plain": [
       "<IPython.core.display.HTML object>"
      ]
     },
     "metadata": {},
     "output_type": "display_data"
    }
   ],
   "source": [
    "%matplotlib inline\n",
    "if FLAG_PLOT:\n",
    "    for index,row in df.iterrows():\n",
    "        exposure_selected =row[\"date\"]*100000+row[\"seq\"]\n",
    "\n",
    "\n",
    "\n",
    "        raw_img= butler.get('raw', dataId={'exposure': exposure_selected, 'instrument': 'LATISS', 'detector': 0}, collections = collection)\n",
    "        bias = butler.get(\"bias\",instrument=cameraName, exposure= exposure_selected , detector=0, collections=calibCollections)\n",
    "        defects = butler.get('defects',instrument=cameraName, exposure= exposure_selected ,detector=0,collections=calibCollections)\n",
    "    \n",
    "    \n",
    "            # get metadata\n",
    "        bias_md = dict(bias.getMetadata())\n",
    "\n",
    "        try:\n",
    "            MB_date= bias_md['CALIB_CREATION_DATE']\n",
    "            MB_time = bias_md['CALIB_CREATION_TIME']\n",
    "            print(f\"Exposure {exposure_selected}, DATE for Master Bias with short calib list\",MB_date, MB_time)\n",
    "        except:\n",
    "            print(\"Unexpected error:\", sys.exc_info()[0])\n",
    "            MB_date= bias_md['CALIB_CREATE_DATE']\n",
    "            MB_time = bias_md['CALIB_CREATE_TIME']\n",
    "            print(f\"Exposure {exposure_selected}, DATE for Master Bias with short calib list\",MB_date, MB_time)\n",
    "    \n",
    "        defects_md = dict(defects.getMetadata()) \n",
    "\n",
    "        try:\n",
    "            DF_date= defects_md['CALIB_CREATION_DATE']\n",
    "            DF_time = defects_md['CALIB_CREATION_TIME']\n",
    "            print(f\"Exposure {exposure_selected}, DATE for Master Defect with short calib list\",DF_date, DF_time)\n",
    "        except:\n",
    "            print(\"Unexpected error:\", sys.exc_info()[0])\n",
    "            DF_date= defects_md['CALIB_CREATE_DATE']\n",
    "            DF_time = defects_md['CALIB_CREATE_TIME']\n",
    "            print(f\"Exposure {exposure_selected}, DATE for Master Defect with short calib list\",DF_date, DF_time)\n",
    "    \n",
    "        meta = raw_img.getMetadata()\n",
    "        md = meta.toDict()\n",
    "    \n",
    "        the_object = md['OBJECT']\n",
    "        \n",
    "        if the_object == \"MU-COL\":\n",
    "            md['OBJECT']=\"HD38666\"\n",
    "            the_object = md['OBJECT']\n",
    "            \n",
    "        if the_object == \"ETA1-DOR\":\n",
    "            md['OBJECT']=\"HD42525\"\n",
    "            the_object = md['OBJECT']\n",
    "            \n",
    "            \n",
    "        the_am= md['AMSTART']\n",
    "        the_filter=md['FILTER']\n",
    "    \n",
    "        #fast ISR \n",
    "        isr_img = isr_task.run(raw_img,bias=bias,defects=defects)\n",
    "    \n",
    "        rotated_array = isr_img.exposure.image.array[::-1,::-1] #rotate the array 180 degrees\n",
    "        #np.flip(np.flip(a, 1), 0)\n",
    "\n",
    "    \n",
    "        fig = plt.figure(figsize=(12,10))\n",
    "        afw_display = afwDisplay.Display(frame=fig)\n",
    "        afw_display.scale('linear', 'zscale',None)\n",
    "        the_title = f\"{index} :: isr exposure : {exposure_selected}, target={the_object}, airmass={the_am:.2f}, filter={the_filter}\"\n",
    "        afw_display.mtv(isr_img.exposure.image,title=the_title)"
   ]
  },
  {
   "cell_type": "code",
   "execution_count": null,
   "id": "1d0b6e03-57b5-4a92-ba7e-2a9e21fcb390",
   "metadata": {
    "execution": {
     "execution_failed": "2024-07-31T22:13:58.732Z"
    }
   },
   "outputs": [],
   "source": [
    "bias_md"
   ]
  },
  {
   "cell_type": "code",
   "execution_count": null,
   "id": "664b22c2-d2c4-4454-bbf9-f835ac11dd31",
   "metadata": {
    "execution": {
     "execution_failed": "2024-07-31T22:13:58.732Z"
    }
   },
   "outputs": [],
   "source": [
    "# Save in files"
   ]
  },
  {
   "cell_type": "code",
   "execution_count": null,
   "id": "cc338e02-3434-4bcf-a4a2-8769a506c76e",
   "metadata": {
    "execution": {
     "execution_failed": "2024-07-31T22:13:58.732Z"
    },
    "tags": []
   },
   "outputs": [],
   "source": [
    "for index,row in df.iterrows():\n",
    "    \n",
    "    exposure_selected =row[\"date\"]*100000+row[\"seq\"]\n",
    "    \n",
    "    print(f\"exposure selected = {exposure_selected}\")\n",
    "\n",
    "\n",
    "    raw_img= butler.get('raw', dataId={'exposure': exposure_selected, 'instrument': 'LATISS', 'detector': 0}, collections = collection)\n",
    "    bias = butler.get(\"bias\",instrument=cameraName, exposure= exposure_selected , detector=0, collections=calibCollections)\n",
    "    defects = butler.get('defects',instrument=cameraName, exposure= exposure_selected ,detector=0,collections=calibCollections)\n",
    "    \n",
    "    \n",
    "    isr_img = isr_task.run(raw_img,bias=bias,defects=defects)\n",
    "    \n",
    "    arr=isr_img.exposure.image.array\n",
    "    # 180 degree rotation\n",
    "    rotated_array = arr[::-1,::-1] #rotate the array 180 degrees\n",
    "    \n",
    "    \n",
    "    meta = raw_img.getMetadata()\n",
    "    md = meta.toDict()\n",
    "\n",
    "    the_object = md['OBJECT']\n",
    "    the_am= md['AMSTART']\n",
    "    the_filter=md['FILTER']\n",
    "    \n",
    "    if the_object == \"MU-COL\":\n",
    "        md['OBJECT']=\"HD38666\"\n",
    "        the_object = md['OBJECT']\n",
    "\n",
    "    filename_out = f\"exposure_{exposure_selected}_pseudo-postisrccd.fits\"\n",
    "    fullfilename_out=os.path.join(path_out,filename_out)\n",
    "    \n",
    "    print(f\">>>>  output filename {filename_out} object {the_object}\")\n",
    "    \n",
    "    hdr = fits.Header()\n",
    "    \n",
    "    for key,value in md.items():\n",
    "        if key == 'OBJECT':\n",
    "            print(key,value)\n",
    "        hdr[str(key)]=value\n",
    "        \n",
    "    # need this    \n",
    "    hdr[\"AMEND\"] = hdr[\"AMSTART\"]\n",
    "    \n",
    "    # be aware weather data may be missing\n",
    "    if hdr[\"AIRTEMP\"] == None:\n",
    "        hdr[\"AIRTEMP\"] = 10.0\n",
    "\n",
    "    if hdr[\"PRESSURE\"] == None:\n",
    "        hdr[\"PRESSURE\"] = 744.\n",
    "\n",
    "    if hdr[\"HUMIDITY\"] == None:\n",
    "        hdr[\"HUMIDITY\"] = 50.\n",
    "\n",
    "    if hdr[\"WINDSPD\"] == None:\n",
    "        hdr[\"WINDSPD\"] = 5.\n",
    "\n",
    "    if hdr[\"WINDDIR\"] == None:\n",
    "        hdr[\"WINDDIR\"] = 0.   \n",
    "\n",
    "    if hdr[\"SEEING\"] == None:\n",
    "        hdr[\"SEEING\"] = 1.15\n",
    "    \n",
    "        \n",
    "   \n",
    "    \n",
    "    # Be carefull for Spectractor, 2 hdu units are necessary\n",
    "    \n",
    "    primary_hdu = fits.PrimaryHDU(header=hdr)\n",
    "    image_hdu = fits.ImageHDU(rotated_array)\n",
    "    \n",
    "    hdu_list = fits.HDUList([primary_hdu, image_hdu])\n",
    "    \n",
    "    hdu_list.writeto(fullfilename_out,overwrite=True)\n",
    "    \n",
    "    \n",
    "    \n",
    "    #if index>=0:\n",
    "    #    break\n",
    "    \n"
   ]
  },
  {
   "cell_type": "code",
   "execution_count": null,
   "id": "fbefab28-7cb2-437c-a35f-65ff1ee6c460",
   "metadata": {},
   "outputs": [],
   "source": []
  }
 ],
 "metadata": {
  "kernelspec": {
   "display_name": "LSST",
   "language": "python",
   "name": "lsst"
  },
  "language_info": {
   "codemirror_mode": {
    "name": "ipython",
    "version": 3
   },
   "file_extension": ".py",
   "mimetype": "text/x-python",
   "name": "python",
   "nbconvert_exporter": "python",
   "pygments_lexer": "ipython3",
   "version": "3.11.7"
  },
  "toc": {
   "base_numbering": 1,
   "nav_menu": {},
   "number_sections": true,
   "sideBar": true,
   "skip_h1_title": false,
   "title_cell": "Table of Contents",
   "title_sidebar": "Contents",
   "toc_cell": false,
   "toc_position": {},
   "toc_section_display": true,
   "toc_window_display": false
  }
 },
 "nbformat": 4,
 "nbformat_minor": 5
}
