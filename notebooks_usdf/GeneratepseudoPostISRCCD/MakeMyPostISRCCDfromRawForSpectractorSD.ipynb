{
 "cells": [
  {
   "cell_type": "markdown",
   "id": "c813ed6a",
   "metadata": {
    "tags": []
   },
   "source": [
    "# Make postISRCCD from raw for Spectractor StandAlone\n",
    "\n",
    "\n",
    "- work with Weakly_2023_01\n",
    "- use jupyter kernel LSST : **lsst_distrib_2023_01**\n",
    "\n",
    "\n",
    "\n",
    "- author : Sylvie Dagoret-Campagne\n",
    "- affiliation : IJCLab\n",
    "- creation date : 2023/12/08\n",
    "- last update : 2023/07/19\n",
    "\n"
   ]
  },
  {
   "cell_type": "code",
   "execution_count": 1,
   "id": "2e1f28b1",
   "metadata": {
    "execution": {
     "iopub.execute_input": "2023-07-19T20:00:02.776494Z",
     "iopub.status.busy": "2023-07-19T20:00:02.776360Z",
     "iopub.status.idle": "2023-07-19T20:00:03.289869Z",
     "shell.execute_reply": "2023-07-19T20:00:03.289145Z",
     "shell.execute_reply.started": "2023-07-19T20:00:02.776481Z"
    },
    "tags": []
   },
   "outputs": [
    {
     "name": "stdout",
     "output_type": "stream",
     "text": [
      "atmospec              LOCAL:/home/d/dagoret/repos/repos_w_2023_27/atmospec \tsetup\n",
      "eups                  LOCAL:/opt/lsst/software/stack/conda/miniconda3-py38_4.9.2/envs/lsst-scipipe-6.0.0/eups \tsetup\n"
     ]
    }
   ],
   "source": [
    "! eups list -s | grep LOCAL"
   ]
  },
  {
   "cell_type": "code",
   "execution_count": 2,
   "id": "8d301387-7065-4c85-897e-9e91b477c2b0",
   "metadata": {
    "execution": {
     "iopub.execute_input": "2023-07-19T20:00:03.290837Z",
     "iopub.status.busy": "2023-07-19T20:00:03.290686Z",
     "iopub.status.idle": "2023-07-19T20:00:03.840279Z",
     "shell.execute_reply": "2023-07-19T20:00:03.839573Z",
     "shell.execute_reply.started": "2023-07-19T20:00:03.290821Z"
    },
    "tags": []
   },
   "outputs": [
    {
     "name": "stdout",
     "output_type": "stream",
     "text": [
      "w_2023_27\n",
      "   gdf42428520+4e9f6d16c8 \tcurrent w_2023_27 setup\n"
     ]
    }
   ],
   "source": [
    "! echo $IMAGE_DESCRIPTION\n",
    "! eups list -s lsst_distrib"
   ]
  },
  {
   "cell_type": "code",
   "execution_count": 3,
   "id": "b7002c4d-b869-4560-9c7a-a535887daeef",
   "metadata": {
    "execution": {
     "iopub.execute_input": "2023-07-19T20:00:03.841321Z",
     "iopub.status.busy": "2023-07-19T20:00:03.841161Z",
     "iopub.status.idle": "2023-07-19T20:00:04.362060Z",
     "shell.execute_reply": "2023-07-19T20:00:04.361561Z",
     "shell.execute_reply.started": "2023-07-19T20:00:03.841306Z"
    },
    "tags": []
   },
   "outputs": [],
   "source": [
    "import os\n",
    "import matplotlib.pyplot as plt\n",
    "import matplotlib.colors as colors\n",
    "import matplotlib.cm as cmx\n",
    "import matplotlib.dates as mdates\n",
    "\n",
    "import numpy as np\n",
    "import pandas as pd\n",
    "%matplotlib inline\n",
    "from matplotlib.colors import LogNorm\n",
    "\n",
    "from mpl_toolkits.axes_grid1 import make_axes_locatable\n",
    "\n",
    "import matplotlib.ticker                         # here's where the formatter is\n",
    "from matplotlib.ticker import (MultipleLocator, FormatStrFormatter,\n",
    "                               AutoMinorLocator)\n",
    "\n",
    "from astropy.visualization import (MinMaxInterval, SqrtStretch,ZScaleInterval,PercentileInterval,\n",
    "                                   ImageNormalize,imshow_norm)\n",
    "from astropy.visualization.stretch import SinhStretch, LinearStretch,AsinhStretch,LogStretch\n",
    "\n",
    "\n",
    "from astropy.io import fits\n",
    "\n",
    "\n"
   ]
  },
  {
   "cell_type": "code",
   "execution_count": 4,
   "id": "0ced9c4f-122b-4fe2-a70b-ff0b15660bee",
   "metadata": {
    "execution": {
     "iopub.execute_input": "2023-07-19T20:00:04.363044Z",
     "iopub.status.busy": "2023-07-19T20:00:04.362781Z",
     "iopub.status.idle": "2023-07-19T20:00:05.634601Z",
     "shell.execute_reply": "2023-07-19T20:00:05.634024Z",
     "shell.execute_reply.started": "2023-07-19T20:00:04.363029Z"
    },
    "tags": []
   },
   "outputs": [],
   "source": [
    "# Assembly task\n",
    "# https://github.com/lsst/ip_isr/blob/main/python/lsst/ip/isr/isrTask.py\n",
    "\n",
    "from lsst.ip.isr.assembleCcdTask import (AssembleCcdConfig, AssembleCcdTask)\n",
    "from lsst.ip.isr.isrTask import (IsrTask, IsrTaskConfig)\n",
    "\n",
    "#https://github.com/lsst/ip_isr/blob/main/python/lsst/ip/isr/overscan.py\n",
    "from lsst.ip.isr import  OverscanCorrectionTaskConfig, OverscanCorrectionTask"
   ]
  },
  {
   "cell_type": "code",
   "execution_count": 5,
   "id": "d7c8c61f-5cfa-4c25-9a5a-97c2eb50fa29",
   "metadata": {
    "execution": {
     "iopub.execute_input": "2023-07-19T20:00:05.635567Z",
     "iopub.status.busy": "2023-07-19T20:00:05.635400Z",
     "iopub.status.idle": "2023-07-19T20:00:05.644888Z",
     "shell.execute_reply": "2023-07-19T20:00:05.644449Z",
     "shell.execute_reply.started": "2023-07-19T20:00:05.635552Z"
    },
    "tags": []
   },
   "outputs": [],
   "source": [
    "# LSST Display\n",
    "import lsst.afw.display as afwDisplay\n",
    "afwDisplay.setDefaultBackend('matplotlib')"
   ]
  },
  {
   "cell_type": "code",
   "execution_count": 6,
   "id": "7a36f8cd",
   "metadata": {
    "execution": {
     "iopub.execute_input": "2023-07-19T20:00:05.646615Z",
     "iopub.status.busy": "2023-07-19T20:00:05.646467Z",
     "iopub.status.idle": "2023-07-19T20:00:05.662444Z",
     "shell.execute_reply": "2023-07-19T20:00:05.662010Z",
     "shell.execute_reply.started": "2023-07-19T20:00:05.646601Z"
    },
    "tags": []
   },
   "outputs": [],
   "source": [
    "import lsst.daf.butler as dafButler"
   ]
  },
  {
   "cell_type": "code",
   "execution_count": 7,
   "id": "f2676824-f66f-4714-9a5d-39f9578401cd",
   "metadata": {
    "execution": {
     "iopub.execute_input": "2023-07-19T20:00:05.663172Z",
     "iopub.status.busy": "2023-07-19T20:00:05.663028Z",
     "iopub.status.idle": "2023-07-19T20:00:05.666411Z",
     "shell.execute_reply": "2023-07-19T20:00:05.665994Z",
     "shell.execute_reply.started": "2023-07-19T20:00:05.663159Z"
    }
   },
   "outputs": [],
   "source": [
    "import warnings\n",
    "warnings.filterwarnings(\"ignore\")"
   ]
  },
  {
   "cell_type": "markdown",
   "id": "7f4a3dde-da84-4f8c-94fd-b0332fb5d655",
   "metadata": {},
   "source": [
    "# Configuration"
   ]
  },
  {
   "cell_type": "code",
   "execution_count": 8,
   "id": "1b7fa070-57bd-465d-9999-a6b366d5070a",
   "metadata": {
    "execution": {
     "iopub.execute_input": "2023-07-19T20:00:05.667110Z",
     "iopub.status.busy": "2023-07-19T20:00:05.666976Z",
     "iopub.status.idle": "2023-07-19T20:00:05.670648Z",
     "shell.execute_reply": "2023-07-19T20:00:05.670235Z",
     "shell.execute_reply.started": "2023-07-19T20:00:05.667097Z"
    },
    "tags": []
   },
   "outputs": [],
   "source": [
    "FLAG_PLOT=False"
   ]
  },
  {
   "cell_type": "code",
   "execution_count": 9,
   "id": "ce90fb91-99b4-4e42-8637-365bd65fc0e1",
   "metadata": {
    "execution": {
     "iopub.execute_input": "2023-07-19T20:00:05.671374Z",
     "iopub.status.busy": "2023-07-19T20:00:05.671242Z",
     "iopub.status.idle": "2023-07-19T20:00:05.674797Z",
     "shell.execute_reply": "2023-07-19T20:00:05.674380Z",
     "shell.execute_reply.started": "2023-07-19T20:00:05.671362Z"
    },
    "tags": []
   },
   "outputs": [],
   "source": [
    "DATE = 20230117\n",
    "FILTER=\"empty-holo4_003\"\n",
    "#FILTER=\"BG40_65mm_1-holo4_003\"\n",
    "#FILTER=\"OG550_65mm_1-holo4_003\"\n",
    "\n",
    "#DATE = 20230118\n",
    "#FILTER = \"BG40_65mm_1-holo4_003\"\n",
    "#FILTER = \"OG550_65mm_1-holo4_003\"\n",
    "#FILTER = \"empty-holo4_003\"\n",
    "\n",
    "#DATE = 20230119\n",
    "#FILTER=\"empty-holo4_003\"\n",
    "#FILTER=\"BG40_65mm_1-holo4_003\"\n",
    "#FILTER=\"OG550_65mm_1-holo4_003\"\n",
    "\n",
    "\n",
    "#DATE = 20230131\n",
    "#FILTER = \"empty-holo4_003\"\n",
    "#FILTER=\"BG40_65mm_1-holo4_003\"\n",
    "#FILTER=\"OG550_65mm_1-holo4_003\"\n",
    "\n",
    "\n",
    "#DATE = 20230201\n",
    "#FILTER = \"empty-holo4_003\"\n",
    "#FILTER=\"BG40_65mm_1-holo4_003\"\n",
    "#FILTER=\"OG550_65mm_1-holo4_003\"\n",
    "\n",
    "\n",
    "#DATE = 20230202\n",
    "#FILTER = \"empty-holo4_003\"\n",
    "#FILTER=\"BG40_65mm_1-holo4_003\"\n",
    "#FILTER=\"OG550_65mm_1-holo4_003\"\n",
    "\n",
    "\n",
    "\n",
    "#DATE = 20230704\n",
    "#FILTER = \"empty-holo4_003\"\n",
    "\n",
    "#DATE = 20230705\n",
    "#FILTER = \"empty-holo4_003\"\n",
    "\n",
    "#DATE = 20230706\n",
    "#FILTER = \"empty-holo4_003\"\n",
    "\n",
    "\n",
    "#filename_visits = f\"visitdispersers_{DATE}_filt_{FILTER}.list\"\n",
    "filename_visits = f\"all_visitdispersers/{DATE}/visitdispersers_{DATE}_filt_{FILTER}.list\""
   ]
  },
  {
   "cell_type": "code",
   "execution_count": 10,
   "id": "0b1d8cd0-a59d-4829-8203-1096d3a4146b",
   "metadata": {
    "execution": {
     "iopub.execute_input": "2023-07-19T20:00:05.675513Z",
     "iopub.status.busy": "2023-07-19T20:00:05.675378Z",
     "iopub.status.idle": "2023-07-19T20:00:05.679261Z",
     "shell.execute_reply": "2023-07-19T20:00:05.678823Z",
     "shell.execute_reply.started": "2023-07-19T20:00:05.675501Z"
    },
    "tags": []
   },
   "outputs": [],
   "source": [
    "# output path of type top/date/filter\n",
    "#----------------------------------------\n",
    "\n",
    "top_path_out=\"my_postisrccd_img\"\n",
    "path_out=f\"{top_path_out}/{DATE}\""
   ]
  },
  {
   "cell_type": "code",
   "execution_count": 11,
   "id": "01aa4d52-809c-40e1-96f6-29b42d1b1d3c",
   "metadata": {
    "execution": {
     "iopub.execute_input": "2023-07-19T20:00:05.679954Z",
     "iopub.status.busy": "2023-07-19T20:00:05.679820Z",
     "iopub.status.idle": "2023-07-19T20:00:05.684373Z",
     "shell.execute_reply": "2023-07-19T20:00:05.683955Z",
     "shell.execute_reply.started": "2023-07-19T20:00:05.679941Z"
    },
    "tags": []
   },
   "outputs": [],
   "source": [
    "if not os.path.exists(path_out):\n",
    "    os.makedirs(path_out)"
   ]
  },
  {
   "cell_type": "markdown",
   "id": "253a575f-e467-4b3d-ab0a-f26542f13dc1",
   "metadata": {},
   "source": [
    "# read list of exposures\n",
    "\n",
    "- generated by ListOfExposures-hologram.ipynb"
   ]
  },
  {
   "cell_type": "code",
   "execution_count": 12,
   "id": "88e09b46-88ad-4e99-a062-f4a740e0ddac",
   "metadata": {
    "execution": {
     "iopub.execute_input": "2023-07-19T20:00:05.685067Z",
     "iopub.status.busy": "2023-07-19T20:00:05.684933Z",
     "iopub.status.idle": "2023-07-19T20:00:05.693971Z",
     "shell.execute_reply": "2023-07-19T20:00:05.693557Z",
     "shell.execute_reply.started": "2023-07-19T20:00:05.685055Z"
    },
    "tags": []
   },
   "outputs": [
    {
     "data": {
      "text/html": [
       "<div>\n",
       "<style scoped>\n",
       "    .dataframe tbody tr th:only-of-type {\n",
       "        vertical-align: middle;\n",
       "    }\n",
       "\n",
       "    .dataframe tbody tr th {\n",
       "        vertical-align: top;\n",
       "    }\n",
       "\n",
       "    .dataframe thead th {\n",
       "        text-align: right;\n",
       "    }\n",
       "</style>\n",
       "<table border=\"1\" class=\"dataframe\">\n",
       "  <thead>\n",
       "    <tr style=\"text-align: right;\">\n",
       "      <th></th>\n",
       "      <th>date</th>\n",
       "      <th>seq</th>\n",
       "    </tr>\n",
       "  </thead>\n",
       "  <tbody>\n",
       "    <tr>\n",
       "      <th>0</th>\n",
       "      <td>20230202</td>\n",
       "      <td>643</td>\n",
       "    </tr>\n",
       "    <tr>\n",
       "      <th>1</th>\n",
       "      <td>20230202</td>\n",
       "      <td>651</td>\n",
       "    </tr>\n",
       "    <tr>\n",
       "      <th>2</th>\n",
       "      <td>20230202</td>\n",
       "      <td>652</td>\n",
       "    </tr>\n",
       "    <tr>\n",
       "      <th>3</th>\n",
       "      <td>20230202</td>\n",
       "      <td>660</td>\n",
       "    </tr>\n",
       "    <tr>\n",
       "      <th>4</th>\n",
       "      <td>20230202</td>\n",
       "      <td>661</td>\n",
       "    </tr>\n",
       "    <tr>\n",
       "      <th>5</th>\n",
       "      <td>20230202</td>\n",
       "      <td>674</td>\n",
       "    </tr>\n",
       "    <tr>\n",
       "      <th>6</th>\n",
       "      <td>20230202</td>\n",
       "      <td>675</td>\n",
       "    </tr>\n",
       "    <tr>\n",
       "      <th>7</th>\n",
       "      <td>20230202</td>\n",
       "      <td>683</td>\n",
       "    </tr>\n",
       "    <tr>\n",
       "      <th>8</th>\n",
       "      <td>20230202</td>\n",
       "      <td>684</td>\n",
       "    </tr>\n",
       "    <tr>\n",
       "      <th>9</th>\n",
       "      <td>20230202</td>\n",
       "      <td>692</td>\n",
       "    </tr>\n",
       "    <tr>\n",
       "      <th>10</th>\n",
       "      <td>20230202</td>\n",
       "      <td>693</td>\n",
       "    </tr>\n",
       "    <tr>\n",
       "      <th>11</th>\n",
       "      <td>20230202</td>\n",
       "      <td>701</td>\n",
       "    </tr>\n",
       "    <tr>\n",
       "      <th>12</th>\n",
       "      <td>20230202</td>\n",
       "      <td>702</td>\n",
       "    </tr>\n",
       "    <tr>\n",
       "      <th>13</th>\n",
       "      <td>20230202</td>\n",
       "      <td>710</td>\n",
       "    </tr>\n",
       "    <tr>\n",
       "      <th>14</th>\n",
       "      <td>20230202</td>\n",
       "      <td>711</td>\n",
       "    </tr>\n",
       "    <tr>\n",
       "      <th>15</th>\n",
       "      <td>20230202</td>\n",
       "      <td>719</td>\n",
       "    </tr>\n",
       "    <tr>\n",
       "      <th>16</th>\n",
       "      <td>20230202</td>\n",
       "      <td>720</td>\n",
       "    </tr>\n",
       "    <tr>\n",
       "      <th>17</th>\n",
       "      <td>20230202</td>\n",
       "      <td>728</td>\n",
       "    </tr>\n",
       "    <tr>\n",
       "      <th>18</th>\n",
       "      <td>20230202</td>\n",
       "      <td>729</td>\n",
       "    </tr>\n",
       "    <tr>\n",
       "      <th>19</th>\n",
       "      <td>20230202</td>\n",
       "      <td>737</td>\n",
       "    </tr>\n",
       "    <tr>\n",
       "      <th>20</th>\n",
       "      <td>20230202</td>\n",
       "      <td>738</td>\n",
       "    </tr>\n",
       "    <tr>\n",
       "      <th>21</th>\n",
       "      <td>20230202</td>\n",
       "      <td>746</td>\n",
       "    </tr>\n",
       "    <tr>\n",
       "      <th>22</th>\n",
       "      <td>20230202</td>\n",
       "      <td>747</td>\n",
       "    </tr>\n",
       "    <tr>\n",
       "      <th>23</th>\n",
       "      <td>20230202</td>\n",
       "      <td>755</td>\n",
       "    </tr>\n",
       "    <tr>\n",
       "      <th>24</th>\n",
       "      <td>20230202</td>\n",
       "      <td>756</td>\n",
       "    </tr>\n",
       "    <tr>\n",
       "      <th>25</th>\n",
       "      <td>20230202</td>\n",
       "      <td>764</td>\n",
       "    </tr>\n",
       "    <tr>\n",
       "      <th>26</th>\n",
       "      <td>20230202</td>\n",
       "      <td>765</td>\n",
       "    </tr>\n",
       "    <tr>\n",
       "      <th>27</th>\n",
       "      <td>20230202</td>\n",
       "      <td>773</td>\n",
       "    </tr>\n",
       "    <tr>\n",
       "      <th>28</th>\n",
       "      <td>20230202</td>\n",
       "      <td>774</td>\n",
       "    </tr>\n",
       "    <tr>\n",
       "      <th>29</th>\n",
       "      <td>20230202</td>\n",
       "      <td>782</td>\n",
       "    </tr>\n",
       "    <tr>\n",
       "      <th>30</th>\n",
       "      <td>20230202</td>\n",
       "      <td>783</td>\n",
       "    </tr>\n",
       "    <tr>\n",
       "      <th>31</th>\n",
       "      <td>20230202</td>\n",
       "      <td>791</td>\n",
       "    </tr>\n",
       "    <tr>\n",
       "      <th>32</th>\n",
       "      <td>20230202</td>\n",
       "      <td>792</td>\n",
       "    </tr>\n",
       "    <tr>\n",
       "      <th>33</th>\n",
       "      <td>20230202</td>\n",
       "      <td>800</td>\n",
       "    </tr>\n",
       "    <tr>\n",
       "      <th>34</th>\n",
       "      <td>20230202</td>\n",
       "      <td>801</td>\n",
       "    </tr>\n",
       "    <tr>\n",
       "      <th>35</th>\n",
       "      <td>20230202</td>\n",
       "      <td>814</td>\n",
       "    </tr>\n",
       "    <tr>\n",
       "      <th>36</th>\n",
       "      <td>20230202</td>\n",
       "      <td>815</td>\n",
       "    </tr>\n",
       "    <tr>\n",
       "      <th>37</th>\n",
       "      <td>20230202</td>\n",
       "      <td>828</td>\n",
       "    </tr>\n",
       "    <tr>\n",
       "      <th>38</th>\n",
       "      <td>20230202</td>\n",
       "      <td>829</td>\n",
       "    </tr>\n",
       "    <tr>\n",
       "      <th>39</th>\n",
       "      <td>20230202</td>\n",
       "      <td>837</td>\n",
       "    </tr>\n",
       "    <tr>\n",
       "      <th>40</th>\n",
       "      <td>20230202</td>\n",
       "      <td>838</td>\n",
       "    </tr>\n",
       "    <tr>\n",
       "      <th>41</th>\n",
       "      <td>20230202</td>\n",
       "      <td>846</td>\n",
       "    </tr>\n",
       "    <tr>\n",
       "      <th>42</th>\n",
       "      <td>20230202</td>\n",
       "      <td>847</td>\n",
       "    </tr>\n",
       "    <tr>\n",
       "      <th>43</th>\n",
       "      <td>20230202</td>\n",
       "      <td>860</td>\n",
       "    </tr>\n",
       "    <tr>\n",
       "      <th>44</th>\n",
       "      <td>20230202</td>\n",
       "      <td>861</td>\n",
       "    </tr>\n",
       "    <tr>\n",
       "      <th>45</th>\n",
       "      <td>20230202</td>\n",
       "      <td>874</td>\n",
       "    </tr>\n",
       "    <tr>\n",
       "      <th>46</th>\n",
       "      <td>20230202</td>\n",
       "      <td>875</td>\n",
       "    </tr>\n",
       "    <tr>\n",
       "      <th>47</th>\n",
       "      <td>20230202</td>\n",
       "      <td>883</td>\n",
       "    </tr>\n",
       "    <tr>\n",
       "      <th>48</th>\n",
       "      <td>20230202</td>\n",
       "      <td>884</td>\n",
       "    </tr>\n",
       "    <tr>\n",
       "      <th>49</th>\n",
       "      <td>20230202</td>\n",
       "      <td>892</td>\n",
       "    </tr>\n",
       "    <tr>\n",
       "      <th>50</th>\n",
       "      <td>20230202</td>\n",
       "      <td>893</td>\n",
       "    </tr>\n",
       "  </tbody>\n",
       "</table>\n",
       "</div>"
      ],
      "text/plain": [
       "        date  seq\n",
       "0   20230202  643\n",
       "1   20230202  651\n",
       "2   20230202  652\n",
       "3   20230202  660\n",
       "4   20230202  661\n",
       "5   20230202  674\n",
       "6   20230202  675\n",
       "7   20230202  683\n",
       "8   20230202  684\n",
       "9   20230202  692\n",
       "10  20230202  693\n",
       "11  20230202  701\n",
       "12  20230202  702\n",
       "13  20230202  710\n",
       "14  20230202  711\n",
       "15  20230202  719\n",
       "16  20230202  720\n",
       "17  20230202  728\n",
       "18  20230202  729\n",
       "19  20230202  737\n",
       "20  20230202  738\n",
       "21  20230202  746\n",
       "22  20230202  747\n",
       "23  20230202  755\n",
       "24  20230202  756\n",
       "25  20230202  764\n",
       "26  20230202  765\n",
       "27  20230202  773\n",
       "28  20230202  774\n",
       "29  20230202  782\n",
       "30  20230202  783\n",
       "31  20230202  791\n",
       "32  20230202  792\n",
       "33  20230202  800\n",
       "34  20230202  801\n",
       "35  20230202  814\n",
       "36  20230202  815\n",
       "37  20230202  828\n",
       "38  20230202  829\n",
       "39  20230202  837\n",
       "40  20230202  838\n",
       "41  20230202  846\n",
       "42  20230202  847\n",
       "43  20230202  860\n",
       "44  20230202  861\n",
       "45  20230202  874\n",
       "46  20230202  875\n",
       "47  20230202  883\n",
       "48  20230202  884\n",
       "49  20230202  892\n",
       "50  20230202  893"
      ]
     },
     "execution_count": 12,
     "metadata": {},
     "output_type": "execute_result"
    }
   ],
   "source": [
    "df = pd.read_csv(filename_visits, header=None,skiprows = 1, sep=' ',names=[\"date\",\"seq\"])\n",
    "df"
   ]
  },
  {
   "cell_type": "code",
   "execution_count": 13,
   "id": "5cc792a3-8e45-48b8-af4b-4475b658f926",
   "metadata": {
    "execution": {
     "iopub.execute_input": "2023-07-19T20:00:05.694686Z",
     "iopub.status.busy": "2023-07-19T20:00:05.694547Z",
     "iopub.status.idle": "2023-07-19T20:00:05.699260Z",
     "shell.execute_reply": "2023-07-19T20:00:05.698797Z",
     "shell.execute_reply.started": "2023-07-19T20:00:05.694673Z"
    },
    "tags": []
   },
   "outputs": [
    {
     "name": "stdout",
     "output_type": "stream",
     "text": [
      "2023020200643\n",
      "2023020200651\n",
      "2023020200652\n",
      "2023020200660\n",
      "2023020200661\n",
      "2023020200674\n",
      "2023020200675\n",
      "2023020200683\n",
      "2023020200684\n",
      "2023020200692\n",
      "2023020200693\n",
      "2023020200701\n",
      "2023020200702\n",
      "2023020200710\n",
      "2023020200711\n",
      "2023020200719\n",
      "2023020200720\n",
      "2023020200728\n",
      "2023020200729\n",
      "2023020200737\n",
      "2023020200738\n",
      "2023020200746\n",
      "2023020200747\n",
      "2023020200755\n",
      "2023020200756\n",
      "2023020200764\n",
      "2023020200765\n",
      "2023020200773\n",
      "2023020200774\n",
      "2023020200782\n",
      "2023020200783\n",
      "2023020200791\n",
      "2023020200792\n",
      "2023020200800\n",
      "2023020200801\n",
      "2023020200814\n",
      "2023020200815\n",
      "2023020200828\n",
      "2023020200829\n",
      "2023020200837\n",
      "2023020200838\n",
      "2023020200846\n",
      "2023020200847\n",
      "2023020200860\n",
      "2023020200861\n",
      "2023020200874\n",
      "2023020200875\n",
      "2023020200883\n",
      "2023020200884\n",
      "2023020200892\n",
      "2023020200893\n"
     ]
    }
   ],
   "source": [
    "for index,row in df.iterrows():\n",
    "    exposure_selected =row[\"date\"]*100000+row[\"seq\"]\n",
    "    print(exposure_selected)"
   ]
  },
  {
   "cell_type": "markdown",
   "id": "b67586ea-b4bf-4959-87f3-b231320a5bf8",
   "metadata": {},
   "source": [
    "## Select flags options"
   ]
  },
  {
   "cell_type": "code",
   "execution_count": 14,
   "id": "655de8b8-3109-4a63-bcc7-3be31e9a514d",
   "metadata": {
    "execution": {
     "iopub.execute_input": "2023-07-19T20:00:05.699993Z",
     "iopub.status.busy": "2023-07-19T20:00:05.699854Z",
     "iopub.status.idle": "2023-07-19T20:00:05.703648Z",
     "shell.execute_reply": "2023-07-19T20:00:05.703234Z",
     "shell.execute_reply.started": "2023-07-19T20:00:05.699981Z"
    },
    "tags": []
   },
   "outputs": [],
   "source": [
    "FLAG_ROTATE_IMG = True\n",
    "FLAG_TRANSFORM = True"
   ]
  },
  {
   "cell_type": "markdown",
   "id": "a6230ef7-ddeb-4430-af47-320b8f72c840",
   "metadata": {},
   "source": [
    "## Transformations\n",
    "astropy scale transformations"
   ]
  },
  {
   "cell_type": "code",
   "execution_count": 15,
   "id": "257001ba-731c-4d13-bd0d-4c68a3cd6829",
   "metadata": {
    "execution": {
     "iopub.execute_input": "2023-07-19T20:00:05.704340Z",
     "iopub.status.busy": "2023-07-19T20:00:05.704204Z",
     "iopub.status.idle": "2023-07-19T20:00:05.708376Z",
     "shell.execute_reply": "2023-07-19T20:00:05.707952Z",
     "shell.execute_reply.started": "2023-07-19T20:00:05.704327Z"
    },
    "tags": []
   },
   "outputs": [],
   "source": [
    "transform = AsinhStretch() + PercentileInterval(99.)\n",
    "#transform = PercentileInterval(98.)"
   ]
  },
  {
   "cell_type": "markdown",
   "id": "60ba89aa-c9c0-46b4-a330-88a969a88039",
   "metadata": {},
   "source": [
    "## Butler"
   ]
  },
  {
   "cell_type": "code",
   "execution_count": 16,
   "id": "7c5944d1-0cbb-42bc-9ea9-a7ff39e25a01",
   "metadata": {
    "execution": {
     "iopub.execute_input": "2023-07-19T20:00:05.709106Z",
     "iopub.status.busy": "2023-07-19T20:00:05.708971Z",
     "iopub.status.idle": "2023-07-19T20:00:10.565251Z",
     "shell.execute_reply": "2023-07-19T20:00:10.564674Z",
     "shell.execute_reply.started": "2023-07-19T20:00:05.709094Z"
    },
    "tags": []
   },
   "outputs": [],
   "source": [
    "#repo = '/sdf/group/rubin/repo/main'\n",
    "repo=\"/sdf/group/rubin/repo/oga/\"\n",
    "butler = dafButler.Butler(repo)\n",
    "registry = butler.registry"
   ]
  },
  {
   "cell_type": "code",
   "execution_count": 17,
   "id": "b6b5b19c-69d1-4f06-9c8b-3a3d5e8d8e89",
   "metadata": {
    "execution": {
     "iopub.execute_input": "2023-07-19T20:00:10.566433Z",
     "iopub.status.busy": "2023-07-19T20:00:10.566108Z",
     "iopub.status.idle": "2023-07-19T20:00:10.569076Z",
     "shell.execute_reply": "2023-07-19T20:00:10.568601Z",
     "shell.execute_reply.started": "2023-07-19T20:00:10.566413Z"
    },
    "tags": []
   },
   "outputs": [],
   "source": [
    "collection='LATISS/raw/all'"
   ]
  },
  {
   "cell_type": "code",
   "execution_count": 18,
   "id": "412567bf-4590-4259-95bd-92ac85a927f7",
   "metadata": {
    "execution": {
     "iopub.execute_input": "2023-07-19T20:00:10.569971Z",
     "iopub.status.busy": "2023-07-19T20:00:10.569785Z",
     "iopub.status.idle": "2023-07-19T20:00:10.591404Z",
     "shell.execute_reply": "2023-07-19T20:00:10.590948Z",
     "shell.execute_reply.started": "2023-07-19T20:00:10.569954Z"
    },
    "tags": []
   },
   "outputs": [],
   "source": [
    "# configuration\n",
    "isr_config =  IsrTaskConfig()"
   ]
  },
  {
   "cell_type": "code",
   "execution_count": 19,
   "id": "128d48a0-eb3b-46b8-85a7-335654132c44",
   "metadata": {
    "execution": {
     "iopub.execute_input": "2023-07-19T20:00:10.592160Z",
     "iopub.status.busy": "2023-07-19T20:00:10.592008Z",
     "iopub.status.idle": "2023-07-19T20:00:10.594998Z",
     "shell.execute_reply": "2023-07-19T20:00:10.594569Z",
     "shell.execute_reply.started": "2023-07-19T20:00:10.592146Z"
    },
    "tags": []
   },
   "outputs": [],
   "source": [
    "isr_config.doDark = False\n",
    "isr_config.doFlat =  False\n",
    "isr_config.doFringe = False\n",
    "isr_config.doDefect = True\n",
    "isr_config.doLinearize = False\n",
    "isr_config.doCrosstalk =  False\n",
    "isr_config.doSaturationInterpolation = False\n",
    "isr_config.overscan.fitType: 'MEDIAN_PER_ROW'\n",
    "isr_config.doBias: True\n"
   ]
  },
  {
   "cell_type": "code",
   "execution_count": 20,
   "id": "176a179f-8d79-4625-82e5-14556ae34836",
   "metadata": {
    "execution": {
     "iopub.execute_input": "2023-07-19T20:00:10.595717Z",
     "iopub.status.busy": "2023-07-19T20:00:10.595580Z",
     "iopub.status.idle": "2023-07-19T20:00:10.599337Z",
     "shell.execute_reply": "2023-07-19T20:00:10.598911Z",
     "shell.execute_reply.started": "2023-07-19T20:00:10.595705Z"
    },
    "tags": []
   },
   "outputs": [],
   "source": [
    "isr_task = IsrTask(config=isr_config)"
   ]
  },
  {
   "cell_type": "code",
   "execution_count": null,
   "id": "294ead5b-c78a-42b1-92d6-edc212106092",
   "metadata": {},
   "outputs": [],
   "source": [
    "###########################################\n",
    "# REPO=/repo/embargo\n",
    "# butler query-collections $REPO LATISS/calib\n",
    "#############################################"
   ]
  },
  {
   "cell_type": "code",
   "execution_count": 21,
   "id": "dcb4d110-f987-48d8-aafc-33eeadfa12b1",
   "metadata": {
    "execution": {
     "iopub.execute_input": "2023-07-19T20:00:10.601905Z",
     "iopub.status.busy": "2023-07-19T20:00:10.601763Z",
     "iopub.status.idle": "2023-07-19T20:00:10.606256Z",
     "shell.execute_reply": "2023-07-19T20:00:10.605838Z",
     "shell.execute_reply.started": "2023-07-19T20:00:10.601892Z"
    },
    "tags": []
   },
   "outputs": [],
   "source": [
    "calibType = 'bias'\n",
    "physical_filter = 'empty~empty'\n",
    "cameraName = 'LATISS'\n",
    "# Collection name containing the verification outputs.\n",
    "\n",
    "calibCollections = ['LATISS/calib','LATISS/raw/all',\n",
    "'LATISS/calib/DM-28636',\n",
    "'LATISS/calib/DM-28636/curated/19700101T000000Z',\n",
    "'LATISS/calib/DM-28636/curated/20180101T000000Z',\n",
    "'LATISS/calib/DM-28636/unbounded',\n",
    "'LATISS/calib/DM-33875',\n",
    "'LATISS/calib/DM-36484/bias.20221005a',\n",
    "'LATISS/calib/DM-36484/biasGen.20221005a',\n",
    "'LATISS/calib/DM-36484/biasGen.20221005a/20221006T000101Z',\n",
    "'LATISS/calib/DM-36484/dark.20221006a',\n",
    "'LATISS/calib/DM-36484/darkGen.20221005a',\n",
    "'LATISS/calib/DM-36484/darkGen.20221005a/20221006T222501Z',\n",
    "'LATISS/calib/DM-36484/darkGen.20221006a',\n",
    "'LATISS/calib/DM-36484/darkGen.20221006a/20221006T222921Z',\n",
    "'LATISS/calib/DM-36484/flat-SDSSg.20221006a',\n",
    "'LATISS/calib/DM-36484/flat-SDSSi.20221006a',\n",
    "'LATISS/calib/DM-36484/flat-SDSSr.20221006a',\n",
    "'LATISS/calib/DM-36484/flatGen-SDSSg.20221006a',\n",
    "'LATISS/calib/DM-36484/flatGen-SDSSg.20221006a/20221007T002703Z',\n",
    "'LATISS/calib/DM-36484/flatGen-SDSSi.20221006a',\n",
    "'LATISS/calib/DM-36484/flatGen-SDSSi.20221006a/20221007T003732Z',\n",
    "'LATISS/calib/DM-36484/flatGen-SDSSiD.20221006a',\n",
    "'LATISS/calib/DM-36484/flatGen-SDSSiD.20221006a/20221007T004708Z',\n",
    "'LATISS/calib/DM-36484/flatGen-SDSSr.20221006a',\n",
    "'LATISS/calib/DM-36484/flatGen-SDSSr.20221006a/20221006T233657Z',\n",
    "'LATISS/calib/DM-36484/verifyBias.20221005a',\n",
    "'LATISS/calib/DM-36484/verifyBias.20221005a/20221006T000747Z',\n",
    "'LATISS/calib/DM-36484/verifyBias.20221005a/20221006T213237Z',\n",
    "'LATISS/calib/DM-36484/verifyBias.20221005b',\n",
    "'LATISS/calib/DM-36484/verifyBias.20221005b/20221019T205236Z',\n",
    "'LATISS/calib/DM-36484/verifyDark.20221006a',\n",
    "'LATISS/calib/DM-36484/verifyDark.20221006a/20221006T224403Z',\n",
    "'LATISS/calib/DM-36484/verifyFlat-SDSSg.20221006a',\n",
    "'LATISS/calib/DM-36484/verifyFlat-SDSSg.20221006a/20221007T003418Z',\n",
    "'LATISS/calib/DM-36484/verifyFlat-SDSSi.20221006a',\n",
    "'LATISS/calib/DM-36484/verifyFlat-SDSSi.20221006a/20221007T004423Z',\n",
    "'LATISS/calib/DM-36484/verifyFlat-SDSSr.20221006a',\n",
    "'LATISS/calib/DM-36484/verifyFlat-SDSSr.20221006a/20221006T234341Z',\n",
    "'LATISS/calib/DM-36719',\n",
    "'LATISS/calib/DM-36719/bias.20221107',\n",
    "'LATISS/calib/DM-36719/biasGen.20221107a',\n",
    "'LATISS/calib/DM-36719/biasGen.20221107a/20221107T205127Z',\n",
    "'LATISS/calib/DM-36719/biasGen.20221107b',\n",
    "'LATISS/calib/DM-36719/biasGen.20221107b/20221107T213306Z',\n",
    "'LATISS/calib/DM-36719/dark.20221107',\n",
    "'LATISS/calib/DM-36719/darkGen.20221107a',\n",
    "'LATISS/calib/DM-36719/darkGen.20221107a/20221107T223409Z',\n",
    "'LATISS/calib/DM-36719/flat-SDSSg.20221107',\n",
    "'LATISS/calib/DM-36719/flat-SDSSi.20221107',\n",
    "'LATISS/calib/DM-36719/flat-SDSSr.20221107',\n",
    "'LATISS/calib/DM-36719/flatGen-SDSSg.20221107a',\n",
    "'LATISS/calib/DM-36719/flatGen-SDSSg.20221107a/20221108T002737Z',\n",
    "'LATISS/calib/DM-36719/flatGen-SDSSi.20221107a',\n",
    "'LATISS/calib/DM-36719/flatGen-SDSSi.20221107a/20221108T005202Z',\n",
    "'LATISS/calib/DM-36719/flatGen-SDSSr.20221107a',\n",
    "'LATISS/calib/DM-36719/flatGen-SDSSr.20221107a/20221107T235401Z',\n",
    "'LATISS/calib/DM-36719/ptcGen-SDSSr.20221107a',\n",
    "'LATISS/calib/DM-36719/ptcGen-SDSSr.20221107a/20221108T180421Z',\n",
    "'LATISS/calib/DM-36719/verifyBias.20221107b',\n",
    "'LATISS/calib/DM-36719/verifyBias.20221107b/20221107T220410Z',\n",
    "'LATISS/calib/DM-36719/verifyDark.20221107a',\n",
    "'LATISS/calib/DM-36719/verifyDark.20221107a/20221107T232823Z',\n",
    "'LATISS/calib/DM-36719/verifyFlat-SDSSg.20221107a',\n",
    "'LATISS/calib/DM-36719/verifyFlat-SDSSg.20221107a/20221108T004225Z',\n",
    "'LATISS/calib/DM-36719/verifyFlat-SDSSi.20221107a',\n",
    "'LATISS/calib/DM-36719/verifyFlat-SDSSi.20221107a/20221108T012110Z',\n",
    "'LATISS/calib/DM-36719/verifyFlat-SDSSi.20221107a/20221108T014950Z',\n",
    "'LATISS/calib/DM-36719/verifyFlat-SDSSr.20221107a',\n",
    "'LATISS/calib/DM-36719/verifyFlat-SDSSr.20221107a/20221108T000940Z',\n",
    "'LATISS/calib/DM-39505',                    \n",
    "'LATISS/calib/DM-39505/crosstalk.20230602',\n",
    "'LATISS/calib/DM-38946',\n",
    "'LATISS/calib/DM-38946/noRGseq/bias.20230503',\n",
    "'LATISS/calib/DM-38946/noRGseq/dark.20230503',\n",
    "'LATISS/calib/DM-38946/noRGseq/flat-g.20230503',\n",
    "'LATISS/calib/DM-38946/noRGseq/flat-r.20230503',\n",
    "'LATISS/calib/DM-38946/noRGseq/flat-i.20230503',\n",
    "'u/czw/DM-37811/parOStest.20230202a/calib/flat-OG550.20230207a',\n",
    "'u/czw/DM-37811/parOStest.20230202a/calib/flat-BG40.20230207a', \n",
    "'u/czw/DM-37811/parOStest.20230202a/calib/flat-SDSSr.20230203a',\n",
    "'u/czw/DM-37811/parOStest.20230202a/calib/flat-SDSSg.20230203a',\n",
    "'u/czw/DM-37811/parOStest.20230202a/calib/flat-SDSSi.20230202a',\n",
    "'u/czw/DM-37811/parOStest.20230202a/calib/dark.20230202a',\n",
    "'u/czw/DM-37811/parOStest.20230202a/calib/bias.20230202a',\n",
    "'LATISS/calib/DM-37587/flat-BG40.20230113a',\n",
    "'LATISS/calib/DM-37587/flat-OG550.20230113a',\n",
    "'LATISS/calib/DM-37587/flat-SDSSr.20230113a',\n",
    "'LATISS/calib/DM-36719',\n",
    "'LATISS/calib/DM-36719/bias.20221107',\n",
    "'LATISS/calib/DM-36719/dark.20221107',\n",
    "'LATISS/calib/DM-36719/flat-SDSSi.20221107',\n",
    "'LATISS/calib/DM-36719/flat-SDSSr.20221107',\n",
    "'LATISS/calib/DM-36719/flat-SDSSg.20221107',\n",
    "'LATISS/calib/DM-36484/bias.20221005a',\n",
    "'LATISS/calib/DM-36484/dark.20221006a',\n",
    "'LATISS/calib/DM-36484/flat-SDSSg.20221006a',\n",
    "'LATISS/calib/DM-36484/flat-SDSSr.20221006a',\n",
    "'LATISS/calib/DM-36484/flat-SDSSi.20221006a',\n",
    "'u/czw/defects.20220608',\n",
    "'LATISS/calib/DM-33875',                                        \n",
    "'u/czw/DM-28920/calib/bias.20210720',                 \n",
    "'u/czw/DM-28920/calib/dark.20210720a',     \n",
    "'u/calib/DM-32209-20211013a-g',\n",
    "'u/calib/DM-32209-20211013a-felh',\n",
    "'u/czw/DM-28920/calib/flat.20210720',\n",
    "'u/czw/DM-28920/calib/defect.20210720a',\n",
    "'LATISS/calib/DM-39635',\n",
    "'LATISS/calib/DM-39635/unbounded','LATISS/defaults','LATISS/raw/all']"
   ]
  },
  {
   "cell_type": "code",
   "execution_count": 22,
   "id": "ca24467e-a7e0-4838-ba0f-c37475fbc601",
   "metadata": {
    "execution": {
     "iopub.execute_input": "2023-07-19T20:00:10.606916Z",
     "iopub.status.busy": "2023-07-19T20:00:10.606781Z",
     "iopub.status.idle": "2023-07-19T20:00:16.014106Z",
     "shell.execute_reply": "2023-07-19T20:00:16.013549Z",
     "shell.execute_reply.started": "2023-07-19T20:00:10.606904Z"
    },
    "tags": []
   },
   "outputs": [],
   "source": [
    "butler = dafButler.Butler(repo, collections=calibCollections)\n",
    "camera = butler.get('camera', instrument=cameraName)\n",
    "bias = butler.get('bias',instrument=cameraName,detector=0)\n",
    "defects = butler.get('defects',instrument=cameraName,detector=0)\n"
   ]
  },
  {
   "cell_type": "code",
   "execution_count": 23,
   "id": "b6351e4f-030b-4712-ab7c-452e2ab04118",
   "metadata": {
    "execution": {
     "iopub.execute_input": "2023-07-19T20:00:16.015060Z",
     "iopub.status.busy": "2023-07-19T20:00:16.014855Z",
     "iopub.status.idle": "2023-07-19T20:00:16.021318Z",
     "shell.execute_reply": "2023-07-19T20:00:16.020865Z",
     "shell.execute_reply.started": "2023-07-19T20:00:16.015045Z"
    },
    "tags": []
   },
   "outputs": [],
   "source": [
    "%matplotlib inline\n",
    "if FLAG_PLOT:\n",
    "    for index,row in df.iterrows():\n",
    "        exposure_selected =row[\"date\"]*100000+row[\"seq\"]\n",
    "\n",
    "\n",
    "\n",
    "        raw_img= butler.get('raw', dataId={'exposure': exposure_selected, 'instrument': 'LATISS', 'detector': 0}, collections = collection)\n",
    "        bias = butler.get(\"bias\",instrument=cameraName, exposure= exposure_selected , detector=0, collections=calibCollections)\n",
    "        defects = butler.get('defects',instrument=cameraName, exposure= exposure_selected ,detector=0,collections=calibCollections)\n",
    "    \n",
    "        meta = raw_img.getMetadata()\n",
    "        md = meta.toDict()\n",
    "    \n",
    "        the_object = md['OBJECT']\n",
    "        \n",
    "        if the_object == \"MU-COL\":\n",
    "            md['OBJECT']=\"HD38666\"\n",
    "            the_object = md['OBJECT']\n",
    "            \n",
    "        if the_object == \"ETA1-DOR\":\n",
    "            md['OBJECT']=\"HD42525\"\n",
    "            the_object = md['OBJECT']\n",
    "            \n",
    "            \n",
    "        the_am= md['AMSTART']\n",
    "        the_filter=md['FILTER']\n",
    "    \n",
    "        #fast ISR \n",
    "        isr_img = isr_task.run(raw_img,bias=bias,defects=defects)\n",
    "    \n",
    "        rotated_array = isr_img.exposure.image.array[::-1,::-1] #rotate the array 180 degrees\n",
    "        #np.flip(np.flip(a, 1), 0)\n",
    "\n",
    "    \n",
    "        fig = plt.figure(figsize=(12,10))\n",
    "        afw_display = afwDisplay.Display(frame=fig)\n",
    "        afw_display.scale('linear', 'zscale',None)\n",
    "        the_title = f\"{index} :: isr exposure : {exposure_selected}, target={the_object}, airmass={the_am:.2f}, filter={the_filter}\"\n",
    "        afw_display.mtv(isr_img.exposure.image,title=the_title)"
   ]
  },
  {
   "cell_type": "code",
   "execution_count": 24,
   "id": "664b22c2-d2c4-4454-bbf9-f835ac11dd31",
   "metadata": {
    "execution": {
     "iopub.execute_input": "2023-07-19T20:00:16.022066Z",
     "iopub.status.busy": "2023-07-19T20:00:16.021917Z",
     "iopub.status.idle": "2023-07-19T20:00:16.025936Z",
     "shell.execute_reply": "2023-07-19T20:00:16.025496Z",
     "shell.execute_reply.started": "2023-07-19T20:00:16.022053Z"
    }
   },
   "outputs": [],
   "source": [
    "# Save in files"
   ]
  },
  {
   "cell_type": "code",
   "execution_count": 25,
   "id": "cc338e02-3434-4bcf-a4a2-8769a506c76e",
   "metadata": {
    "execution": {
     "iopub.execute_input": "2023-07-19T20:00:16.026660Z",
     "iopub.status.busy": "2023-07-19T20:00:16.026518Z",
     "iopub.status.idle": "2023-07-19T20:00:20.633062Z",
     "shell.execute_reply": "2023-07-19T20:00:20.632429Z",
     "shell.execute_reply.started": "2023-07-19T20:00:16.026647Z"
    },
    "tags": []
   },
   "outputs": [
    {
     "name": "stdout",
     "output_type": "stream",
     "text": [
      "exposure selected = 2023020200643\n"
     ]
    },
    {
     "data": {
      "text/html": [
       "<pre style=\"margin: 0.1em;\n",
       "padding-left: 0.25em;\n",
       "border-left-style: solid;\n",
       "font-family: var(--jp-code-font-family);\n",
       "font-size: var(--jp-code-font-size);\n",
       "line-height: var(--jp-code-line-height);\n",
       "\"><span style=\"color: var(--jp-warn-color2)\">lsst.isr</span> <span style=\"color: var(--jp-info-color0)\">INFO</span>: Converting exposure to floating point values.</pre>"
      ],
      "text/plain": [
       "<IPython.core.display.HTML object>"
      ]
     },
     "metadata": {},
     "output_type": "display_data"
    },
    {
     "data": {
      "text/html": [
       "<pre style=\"margin: 0.1em;\n",
       "padding-left: 0.25em;\n",
       "border-left-style: solid;\n",
       "font-family: var(--jp-code-font-family);\n",
       "font-size: var(--jp-code-font-size);\n",
       "line-height: var(--jp-code-line-height);\n",
       "\"><span style=\"color: var(--jp-warn-color2)\">lsst.isr</span> <span style=\"color: var(--jp-info-color0)\">INFO</span>: Assembling CCD from amplifiers.</pre>"
      ],
      "text/plain": [
       "<IPython.core.display.HTML object>"
      ]
     },
     "metadata": {},
     "output_type": "display_data"
    },
    {
     "data": {
      "text/html": [
       "<pre style=\"margin: 0.1em;\n",
       "padding-left: 0.25em;\n",
       "border-left-style: solid;\n",
       "font-family: var(--jp-code-font-family);\n",
       "font-size: var(--jp-code-font-size);\n",
       "line-height: var(--jp-code-line-height);\n",
       "\"><span style=\"color: var(--jp-warn-color2)\">lsst.isr</span> <span style=\"color: var(--jp-info-color0)\">INFO</span>: Applying bias correction.</pre>"
      ],
      "text/plain": [
       "<IPython.core.display.HTML object>"
      ]
     },
     "metadata": {},
     "output_type": "display_data"
    },
    {
     "data": {
      "text/html": [
       "<pre style=\"margin: 0.1em;\n",
       "padding-left: 0.25em;\n",
       "border-left-style: solid;\n",
       "font-family: var(--jp-code-font-family);\n",
       "font-size: var(--jp-code-font-size);\n",
       "line-height: var(--jp-code-line-height);\n",
       "\"><span style=\"color: var(--jp-warn-color2)\">lsst.isr</span> <span style=\"color: var(--jp-info-color0)\">INFO</span>: Masking defects.</pre>"
      ],
      "text/plain": [
       "<IPython.core.display.HTML object>"
      ]
     },
     "metadata": {},
     "output_type": "display_data"
    },
    {
     "data": {
      "text/html": [
       "<pre style=\"margin: 0.1em;\n",
       "padding-left: 0.25em;\n",
       "border-left-style: solid;\n",
       "font-family: var(--jp-code-font-family);\n",
       "font-size: var(--jp-code-font-size);\n",
       "line-height: var(--jp-code-line-height);\n",
       "\"><span style=\"color: var(--jp-warn-color2)\">lsst.isr</span> <span style=\"color: var(--jp-info-color0)\">INFO</span>: Masking non-finite (NAN, inf) value pixels.</pre>"
      ],
      "text/plain": [
       "<IPython.core.display.HTML object>"
      ]
     },
     "metadata": {},
     "output_type": "display_data"
    },
    {
     "data": {
      "text/html": [
       "<pre style=\"margin: 0.1em;\n",
       "padding-left: 0.25em;\n",
       "border-left-style: solid;\n",
       "font-family: var(--jp-code-font-family);\n",
       "font-size: var(--jp-code-font-size);\n",
       "line-height: var(--jp-code-line-height);\n",
       "\"><span style=\"color: var(--jp-warn-color2)\">lsst.isr</span> <span style=\"color: var(--jp-info-color0)\">INFO</span>: Widening saturation trails.</pre>"
      ],
      "text/plain": [
       "<IPython.core.display.HTML object>"
      ]
     },
     "metadata": {},
     "output_type": "display_data"
    },
    {
     "data": {
      "text/html": [
       "<pre style=\"margin: 0.1em;\n",
       "padding-left: 0.25em;\n",
       "border-left-style: solid;\n",
       "font-family: var(--jp-code-font-family);\n",
       "font-size: var(--jp-code-font-size);\n",
       "line-height: var(--jp-code-line-height);\n",
       "\"><span style=\"color: var(--jp-warn-color2)\">lsst.isr</span> <span style=\"color: var(--jp-info-color0)\">INFO</span>: Set 322444 BAD pixels to 99.701546.</pre>"
      ],
      "text/plain": [
       "<IPython.core.display.HTML object>"
      ]
     },
     "metadata": {},
     "output_type": "display_data"
    },
    {
     "data": {
      "text/html": [
       "<pre style=\"margin: 0.1em;\n",
       "padding-left: 0.25em;\n",
       "border-left-style: solid;\n",
       "font-family: var(--jp-code-font-family);\n",
       "font-size: var(--jp-code-font-size);\n",
       "line-height: var(--jp-code-line-height);\n",
       "\"><span style=\"color: var(--jp-warn-color2)\">lsst.isr</span> <span style=\"color: var(--jp-info-color0)\">INFO</span>: Interpolating masked pixels.</pre>"
      ],
      "text/plain": [
       "<IPython.core.display.HTML object>"
      ]
     },
     "metadata": {},
     "output_type": "display_data"
    },
    {
     "data": {
      "text/html": [
       "<pre style=\"margin: 0.1em;\n",
       "padding-left: 0.25em;\n",
       "border-left-style: solid;\n",
       "font-family: var(--jp-code-font-family);\n",
       "font-size: var(--jp-code-font-size);\n",
       "line-height: var(--jp-code-line-height);\n",
       "\"><span style=\"color: var(--jp-warn-color2)\">lsst.isr</span> <span style=\"color: var(--jp-warn-color0)\">WARNING</span>: No rough magnitude zero point defined for filter empty~holo4_003.</pre>"
      ],
      "text/plain": [
       "<IPython.core.display.HTML object>"
      ]
     },
     "metadata": {},
     "output_type": "display_data"
    },
    {
     "data": {
      "text/html": [
       "<pre style=\"margin: 0.1em;\n",
       "padding-left: 0.25em;\n",
       "border-left-style: solid;\n",
       "font-family: var(--jp-code-font-family);\n",
       "font-size: var(--jp-code-font-size);\n",
       "line-height: var(--jp-code-line-height);\n",
       "\"><span style=\"color: var(--jp-warn-color2)\">lsst.isr</span> <span style=\"color: var(--jp-info-color0)\">INFO</span>: Setting rough magnitude zero point for filter empty~holo4_003: 31.692803</pre>"
      ],
      "text/plain": [
       "<IPython.core.display.HTML object>"
      ]
     },
     "metadata": {},
     "output_type": "display_data"
    },
    {
     "name": "stdout",
     "output_type": "stream",
     "text": [
      ">>>>  output filename exposure_2023020200643_pseudo-postisrccd.fits object HD185975\n"
     ]
    }
   ],
   "source": [
    "for index,row in df.iterrows():\n",
    "    \n",
    "    exposure_selected =row[\"date\"]*100000+row[\"seq\"]\n",
    "    \n",
    "    print(f\"exposure selected = {exposure_selected}\")\n",
    "\n",
    "\n",
    "    raw_img= butler.get('raw', dataId={'exposure': exposure_selected, 'instrument': 'LATISS', 'detector': 0}, collections = collection)\n",
    "    bias = butler.get(\"bias\",instrument=cameraName, exposure= exposure_selected , detector=0, collections=calibCollections)\n",
    "    defects = butler.get('defects',instrument=cameraName, exposure= exposure_selected ,detector=0,collections=calibCollections)\n",
    "    \n",
    "    \n",
    "    isr_img = isr_task.run(raw_img,bias=bias,defects=defects)\n",
    "    \n",
    "    arr=isr_img.exposure.image.array\n",
    "    # 180 degree rotation\n",
    "    rotated_array = arr[::-1,::-1] #rotate the array 180 degrees\n",
    "    \n",
    "    \n",
    "    meta = raw_img.getMetadata()\n",
    "    md = meta.toDict()\n",
    "\n",
    "    the_object = md['OBJECT']\n",
    "    the_am= md['AMSTART']\n",
    "    the_filter=md['FILTER']\n",
    "    \n",
    "    if the_object == \"MU-COL\":\n",
    "        md['OBJECT']=\"HD38666\"\n",
    "        the_object = md['OBJECT']\n",
    "\n",
    "    filename_out = f\"exposure_{exposure_selected}_pseudo-postisrccd.fits\"\n",
    "    fullfilename_out=os.path.join(path_out,filename_out)\n",
    "    \n",
    "    print(f\">>>>  output filename {filename_out} object {the_object}\")\n",
    "    \n",
    "    hdr = fits.Header()\n",
    "    \n",
    "    for key,value in md.items():\n",
    "        if key == 'OBJECT':\n",
    "            print(key,value)\n",
    "        hdr[str(key)]=value\n",
    "        \n",
    "    # need this    \n",
    "    hdr[\"AMEND\"] = hdr[\"AMSTART\"]\n",
    "    \n",
    "    # be aware weather data may be missing\n",
    "    if hdr[\"AIRTEMP\"] == None:\n",
    "        hdr[\"AIRTEMP\"] = 10.0\n",
    "\n",
    "    if hdr[\"PRESSURE\"] == None:\n",
    "        hdr[\"PRESSURE\"] = 744.\n",
    "\n",
    "    if hdr[\"HUMIDITY\"] == None:\n",
    "        hdr[\"HUMIDITY\"] = 50.\n",
    "\n",
    "    if hdr[\"WINDSPD\"] == None:\n",
    "        hdr[\"WINDSPD\"] = 5.\n",
    "\n",
    "    if hdr[\"WINDDIR\"] == None:\n",
    "        hdr[\"WINDDIR\"] = 0.   \n",
    "\n",
    "    if hdr[\"SEEING\"] == None:\n",
    "        hdr[\"SEEING\"] = 1.15\n",
    "    \n",
    "        \n",
    "   \n",
    "    \n",
    "    # Be carefull for Spectractor, 2 hdu units are necessary\n",
    "    \n",
    "    primary_hdu = fits.PrimaryHDU(header=hdr)\n",
    "    image_hdu = fits.ImageHDU(rotated_array)\n",
    "    \n",
    "    hdu_list = fits.HDUList([primary_hdu, image_hdu])\n",
    "    \n",
    "    hdu_list.writeto(fullfilename_out,overwrite=True)\n",
    "    \n",
    "    \n",
    "    \n",
    "    if index>=0:\n",
    "        break\n",
    "    \n"
   ]
  },
  {
   "cell_type": "code",
   "execution_count": null,
   "id": "fbefab28-7cb2-437c-a35f-65ff1ee6c460",
   "metadata": {},
   "outputs": [],
   "source": []
  }
 ],
 "metadata": {
  "kernelspec": {
   "display_name": "LSST",
   "language": "python",
   "name": "lsst"
  },
  "language_info": {
   "codemirror_mode": {
    "name": "ipython",
    "version": 3
   },
   "file_extension": ".py",
   "mimetype": "text/x-python",
   "name": "python",
   "nbconvert_exporter": "python",
   "pygments_lexer": "ipython3",
   "version": "3.10.11"
  },
  "toc": {
   "base_numbering": 1,
   "nav_menu": {},
   "number_sections": true,
   "sideBar": true,
   "skip_h1_title": false,
   "title_cell": "Table of Contents",
   "title_sidebar": "Contents",
   "toc_cell": false,
   "toc_position": {},
   "toc_section_display": true,
   "toc_window_display": false
  }
 },
 "nbformat": 4,
 "nbformat_minor": 5
}
