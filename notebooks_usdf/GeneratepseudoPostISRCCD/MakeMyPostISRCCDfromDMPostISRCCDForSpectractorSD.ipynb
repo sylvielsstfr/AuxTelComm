{
 "cells": [
  {
   "cell_type": "markdown",
   "id": "c813ed6a",
   "metadata": {
    "tags": []
   },
   "source": [
    "# Make postISRCCD from DM PostISRCCD for Spectractor StandAlone\n",
    "\n",
    "\n",
    "- work with Weakly_2023_35\n",
    "\n",
    "\n",
    "- author : Sylvie Dagoret-Campagne\n",
    "- affiliation : IJCLab\n",
    "- creation date : 2023/09/20\n",
    "- last update : 2023/09/21\n",
    "\n",
    "\n",
    "\n",
    "write output file according hierarchy\n",
    "\n",
    "         filter/DATE\n"
   ]
  },
  {
   "cell_type": "code",
   "execution_count": 1,
   "id": "2e1f28b1",
   "metadata": {
    "execution": {
     "iopub.execute_input": "2023-09-21T12:56:07.694387Z",
     "iopub.status.busy": "2023-09-21T12:56:07.694275Z",
     "iopub.status.idle": "2023-09-21T12:56:08.038280Z",
     "shell.execute_reply": "2023-09-21T12:56:08.037725Z",
     "shell.execute_reply.started": "2023-09-21T12:56:07.694375Z"
    },
    "tags": []
   },
   "outputs": [
    {
     "name": "stdout",
     "output_type": "stream",
     "text": [
      "analysis_tools        LOCAL:/home/d/dagoret/repos/repos_w_2023_35/analysis_tools \tsetup\n",
      "atmospec              LOCAL:/home/d/dagoret/repos/repos_w_2023_35/atmospec \tsetup\n",
      "eups                  LOCAL:/opt/lsst/software/stack/conda/miniconda3-py38_4.9.2/envs/lsst-scipipe-7.0.1/eups \tsetup\n",
      "spectractor           LOCAL:/home/d/dagoret/repos/repos_w_2023_35/Spectractor \tsetup\n"
     ]
    }
   ],
   "source": [
    "! eups list -s | grep LOCAL"
   ]
  },
  {
   "cell_type": "code",
   "execution_count": 2,
   "id": "8d301387-7065-4c85-897e-9e91b477c2b0",
   "metadata": {
    "execution": {
     "iopub.execute_input": "2023-09-21T12:56:08.039515Z",
     "iopub.status.busy": "2023-09-21T12:56:08.039366Z",
     "iopub.status.idle": "2023-09-21T12:56:08.574290Z",
     "shell.execute_reply": "2023-09-21T12:56:08.573721Z",
     "shell.execute_reply.started": "2023-09-21T12:56:08.039500Z"
    },
    "tags": []
   },
   "outputs": [
    {
     "name": "stdout",
     "output_type": "stream",
     "text": [
      "Weekly 2023_35\n",
      "   g4213664e8e+c55b99ec95 \tcurrent w_2023_35 setup\n"
     ]
    }
   ],
   "source": [
    "! echo $IMAGE_DESCRIPTION\n",
    "! eups list -s lsst_distrib"
   ]
  },
  {
   "cell_type": "code",
   "execution_count": 3,
   "id": "b7002c4d-b869-4560-9c7a-a535887daeef",
   "metadata": {
    "execution": {
     "iopub.execute_input": "2023-09-21T12:56:08.575228Z",
     "iopub.status.busy": "2023-09-21T12:56:08.575038Z",
     "iopub.status.idle": "2023-09-21T12:56:09.071357Z",
     "shell.execute_reply": "2023-09-21T12:56:09.070917Z",
     "shell.execute_reply.started": "2023-09-21T12:56:08.575211Z"
    },
    "tags": []
   },
   "outputs": [],
   "source": [
    "import os\n",
    "import matplotlib.pyplot as plt\n",
    "import matplotlib.colors as colors\n",
    "import matplotlib.cm as cmx\n",
    "import matplotlib.dates as mdates\n",
    "\n",
    "import numpy as np\n",
    "import pandas as pd\n",
    "%matplotlib inline\n",
    "from matplotlib.colors import LogNorm\n",
    "\n",
    "from mpl_toolkits.axes_grid1 import make_axes_locatable\n",
    "\n",
    "import matplotlib.ticker                         # here's where the formatter is\n",
    "from matplotlib.ticker import (MultipleLocator, FormatStrFormatter,\n",
    "                               AutoMinorLocator)\n",
    "\n",
    "from astropy.visualization import (MinMaxInterval, SqrtStretch,ZScaleInterval,PercentileInterval,\n",
    "                                   ImageNormalize,imshow_norm)\n",
    "from astropy.visualization.stretch import SinhStretch, LinearStretch,AsinhStretch,LogStretch\n",
    "\n",
    "\n",
    "from astropy.io import fits\n"
   ]
  },
  {
   "cell_type": "code",
   "execution_count": 4,
   "id": "d7c8c61f-5cfa-4c25-9a5a-97c2eb50fa29",
   "metadata": {
    "execution": {
     "iopub.execute_input": "2023-09-21T12:56:09.072200Z",
     "iopub.status.busy": "2023-09-21T12:56:09.071984Z",
     "iopub.status.idle": "2023-09-21T12:56:09.352678Z",
     "shell.execute_reply": "2023-09-21T12:56:09.352218Z",
     "shell.execute_reply.started": "2023-09-21T12:56:09.072185Z"
    },
    "tags": []
   },
   "outputs": [],
   "source": [
    "# LSST Display\n",
    "import lsst.afw.display as afwDisplay\n",
    "afwDisplay.setDefaultBackend('matplotlib')"
   ]
  },
  {
   "cell_type": "code",
   "execution_count": 5,
   "id": "7a36f8cd",
   "metadata": {
    "execution": {
     "iopub.execute_input": "2023-09-21T12:56:09.353552Z",
     "iopub.status.busy": "2023-09-21T12:56:09.353250Z",
     "iopub.status.idle": "2023-09-21T12:56:09.742427Z",
     "shell.execute_reply": "2023-09-21T12:56:09.741984Z",
     "shell.execute_reply.started": "2023-09-21T12:56:09.353537Z"
    },
    "tags": []
   },
   "outputs": [],
   "source": [
    "import lsst.daf.butler as dafButler\n",
    "from lsst.daf.butler import CollectionType"
   ]
  },
  {
   "cell_type": "code",
   "execution_count": 6,
   "id": "283b515e-cfd2-4686-b7dc-15b6af7bdd2e",
   "metadata": {
    "execution": {
     "iopub.execute_input": "2023-09-21T12:56:09.743268Z",
     "iopub.status.busy": "2023-09-21T12:56:09.743093Z",
     "iopub.status.idle": "2023-09-21T12:56:11.961259Z",
     "shell.execute_reply": "2023-09-21T12:56:11.960834Z",
     "shell.execute_reply.started": "2023-09-21T12:56:09.743255Z"
    }
   },
   "outputs": [],
   "source": [
    "#repo = \"/sdf/group/rubin/repo/main\" # repo/main\n",
    "repo=\"/sdf/group/rubin/repo/oga/\"  # /repo/embargo\n",
    "butler = dafButler.Butler(repo)\n",
    "registry = butler.registry"
   ]
  },
  {
   "cell_type": "code",
   "execution_count": 7,
   "id": "f2676824-f66f-4714-9a5d-39f9578401cd",
   "metadata": {
    "execution": {
     "iopub.execute_input": "2023-09-21T12:56:11.962786Z",
     "iopub.status.busy": "2023-09-21T12:56:11.962656Z",
     "iopub.status.idle": "2023-09-21T12:56:11.964969Z",
     "shell.execute_reply": "2023-09-21T12:56:11.964632Z",
     "shell.execute_reply.started": "2023-09-21T12:56:11.962773Z"
    }
   },
   "outputs": [],
   "source": [
    "import warnings\n",
    "warnings.filterwarnings(\"ignore\")"
   ]
  },
  {
   "cell_type": "markdown",
   "id": "4cc5fd44-019a-4b2f-9532-54a5ee7a5bd4",
   "metadata": {},
   "source": [
    "# Registry"
   ]
  },
  {
   "cell_type": "code",
   "execution_count": 8,
   "id": "6e1fc938-a8b2-4b94-99b5-937806ac4de5",
   "metadata": {
    "execution": {
     "iopub.execute_input": "2023-09-21T12:56:11.965536Z",
     "iopub.status.busy": "2023-09-21T12:56:11.965411Z",
     "iopub.status.idle": "2023-09-21T12:56:11.969920Z",
     "shell.execute_reply": "2023-09-21T12:56:11.969592Z",
     "shell.execute_reply.started": "2023-09-21T12:56:11.965523Z"
    }
   },
   "outputs": [
    {
     "data": {
      "text/plain": [
       "NamedValueSet({DatabaseDimension(band), DatabaseDimension(detector), DatabaseDimension(physical_filter), DatabaseDimension(subfilter), DatabaseDimension(tract), DatabaseDimension(visit_system), DatabaseDimension(exposure), DatabaseDimension(patch), DatabaseDimension(visit), DatabaseDimensionCombination(visit_definition), DatabaseDimensionCombination(visit_detector_region), DatabaseDimensionCombination(visit_system_membership)})"
      ]
     },
     "execution_count": 8,
     "metadata": {},
     "output_type": "execute_result"
    }
   ],
   "source": [
    "butler.registry.dimensions.getDatabaseElements()"
   ]
  },
  {
   "cell_type": "code",
   "execution_count": 9,
   "id": "2d4890ad-93f6-468e-9cb5-11d16043dc24",
   "metadata": {
    "execution": {
     "iopub.execute_input": "2023-09-21T12:56:11.970471Z",
     "iopub.status.busy": "2023-09-21T12:56:11.970360Z",
     "iopub.status.idle": "2023-09-21T12:56:11.974548Z",
     "shell.execute_reply": "2023-09-21T12:56:11.974184Z",
     "shell.execute_reply.started": "2023-09-21T12:56:11.970461Z"
    }
   },
   "outputs": [
    {
     "name": "stdout",
     "output_type": "stream",
     "text": [
      "exposure: \n",
      "  instrument: str\n",
      "  id: int\n",
      "  physical_filter: str\n",
      "  obs_id: str\n",
      "  exposure_time: float\n",
      "  dark_time: float\n",
      "  observation_type: str\n",
      "  observation_reason: str\n",
      "  day_obs: int\n",
      "  seq_num: int\n",
      "  seq_start: int\n",
      "  seq_end: int\n",
      "  group_name: str\n",
      "  group_id: int\n",
      "  target_name: str\n",
      "  science_program: str\n",
      "  tracking_ra: float\n",
      "  tracking_dec: float\n",
      "  sky_angle: float\n",
      "  azimuth: float\n",
      "  zenith_angle: float\n",
      "  has_simulated: bool\n",
      "  timespan: lsst.daf.butler.Timespan\n"
     ]
    }
   ],
   "source": [
    "print(butler.registry.dimensions[\"exposure\"].RecordClass.fields)"
   ]
  },
  {
   "cell_type": "code",
   "execution_count": 10,
   "id": "2cc32363-866f-4f53-90d0-69c3b8fd92f1",
   "metadata": {
    "execution": {
     "iopub.execute_input": "2023-09-21T12:56:11.975110Z",
     "iopub.status.busy": "2023-09-21T12:56:11.974997Z",
     "iopub.status.idle": "2023-09-21T12:56:11.977433Z",
     "shell.execute_reply": "2023-09-21T12:56:11.977086Z",
     "shell.execute_reply.started": "2023-09-21T12:56:11.975100Z"
    }
   },
   "outputs": [
    {
     "name": "stdout",
     "output_type": "stream",
     "text": [
      "visit: \n",
      "  instrument: str\n",
      "  id: int\n",
      "  physical_filter: str\n",
      "  name: str\n",
      "  day_obs: int\n",
      "  seq_num: int\n",
      "  exposure_time: float\n",
      "  target_name: str\n",
      "  observation_reason: str\n",
      "  science_program: str\n",
      "  azimuth: float\n",
      "  zenith_angle: float\n",
      "  region: lsst.sphgeom.Region\n",
      "  timespan: lsst.daf.butler.Timespan\n"
     ]
    }
   ],
   "source": [
    "print(butler.registry.dimensions[\"visit\"].RecordClass.fields)"
   ]
  },
  {
   "cell_type": "code",
   "execution_count": 11,
   "id": "7c79afc9-906d-4fbc-8411-1aa2721b8adf",
   "metadata": {
    "execution": {
     "iopub.execute_input": "2023-09-21T12:56:11.978096Z",
     "iopub.status.busy": "2023-09-21T12:56:11.977984Z",
     "iopub.status.idle": "2023-09-21T12:56:11.982109Z",
     "shell.execute_reply": "2023-09-21T12:56:11.981775Z",
     "shell.execute_reply.started": "2023-09-21T12:56:11.978086Z"
    }
   },
   "outputs": [
    {
     "name": "stdout",
     "output_type": "stream",
     "text": [
      "physical_filter: \n",
      "  instrument: str\n",
      "  name: str\n",
      "  band: str\n"
     ]
    }
   ],
   "source": [
    "print(butler.registry.dimensions[\"physical_filter\"].RecordClass.fields)"
   ]
  },
  {
   "cell_type": "code",
   "execution_count": 12,
   "id": "802fe2f4-e824-4d31-bcab-f2e19f0a1247",
   "metadata": {
    "execution": {
     "iopub.execute_input": "2023-09-21T12:56:11.982702Z",
     "iopub.status.busy": "2023-09-21T12:56:11.982591Z",
     "iopub.status.idle": "2023-09-21T12:56:11.985338Z",
     "shell.execute_reply": "2023-09-21T12:56:11.985010Z",
     "shell.execute_reply.started": "2023-09-21T12:56:11.982691Z"
    }
   },
   "outputs": [
    {
     "name": "stdout",
     "output_type": "stream",
     "text": [
      "tract: \n",
      "  skymap: str\n",
      "  id: int\n",
      "  region: lsst.sphgeom.Region\n"
     ]
    }
   ],
   "source": [
    "print(butler.registry.dimensions[\"tract\"].RecordClass.fields)"
   ]
  },
  {
   "cell_type": "markdown",
   "id": "7f4a3dde-da84-4f8c-94fd-b0332fb5d655",
   "metadata": {},
   "source": [
    "# Configuration"
   ]
  },
  {
   "cell_type": "code",
   "execution_count": 13,
   "id": "1b7fa070-57bd-465d-9999-a6b366d5070a",
   "metadata": {
    "execution": {
     "iopub.execute_input": "2023-09-21T12:56:11.985905Z",
     "iopub.status.busy": "2023-09-21T12:56:11.985792Z",
     "iopub.status.idle": "2023-09-21T12:56:11.989754Z",
     "shell.execute_reply": "2023-09-21T12:56:11.989425Z",
     "shell.execute_reply.started": "2023-09-21T12:56:11.985895Z"
    },
    "tags": []
   },
   "outputs": [],
   "source": [
    "FLAG_PLOT=True"
   ]
  },
  {
   "cell_type": "code",
   "execution_count": 14,
   "id": "ce90fb91-99b4-4e42-8637-365bd65fc0e1",
   "metadata": {
    "execution": {
     "iopub.execute_input": "2023-09-21T12:56:11.990421Z",
     "iopub.status.busy": "2023-09-21T12:56:11.990303Z",
     "iopub.status.idle": "2023-09-21T12:56:11.993000Z",
     "shell.execute_reply": "2023-09-21T12:56:11.992679Z",
     "shell.execute_reply.started": "2023-09-21T12:56:11.990410Z"
    },
    "tags": []
   },
   "outputs": [],
   "source": [
    "#DATE = 20230912\n",
    "#FILTER=\"cyl_lens~holo4_001\"\n",
    "#FILTER=\"cyl_lens~holo4_003\"\n",
    "\n",
    "#my_collection = \"u/dagoret/spectro/collimatorholo4003noflat/runs_20230912\"\n",
    "#FILTER=\"collimator~holo4_003\"\n",
    "#my_collection = \"u/dagoret/spectro/emptyholo4003noflat/runs_20230912\"\n",
    "#FILTER=\"empty~holo4_003\"\n",
    "#my_collection = \"u/dagoret/spectro/emptyholo4001noflat/runs_20230912\"\n",
    "#FILTER=\"empty~holo4_001\"\n",
    "\n",
    "\n",
    "#DATE = 20230913\n",
    "#my_collection = \"u/dagoret/spectro/collimatorholo4003noflat/runs_20230913\"\n",
    "#FILTER=\"collimator~holo4_003\"\n",
    "#my_collection = \"u/dagoret/spectro/emptyholo4003noflat/runs_20230913\"\n",
    "#FILTER=\"empty~holo4_003\"\n",
    "#my_collection = \"u/dagoret/spectro/emptyholo4001noflat/runs_20230913\"\n",
    "#FILTER=\"empt~holo4_001\"\n",
    "\n",
    "\n",
    "\n",
    "#DATE = 20230914\n",
    "#my_collection = \"u/dagoret/spectro/collimatorholo4003noflat/runs_20230914\"\n",
    "#FILTER=\"collimator~holo4_003\"\n",
    "#my_collection = \"u/dagoret/spectro/emptyholo4003noflat/runs_20230914\"\n",
    "#FILTER=\"empty~holo4_003\"\n",
    "#my_collection = \"u/dagoret/spectro/emptyholo4001noflat/runs_20230914\"\n",
    "#FILTER=\"empty~holo4_001\"\n",
    "\n",
    "\n",
    "DATE = 20230117\n",
    "my_collection = \"u/dagoret/BPS_manyspectro_v100\"\n",
    "FILTER=\"empty~holo4_003\"\n",
    "\n",
    "\n",
    "\n",
    "DATE = 20230118\n",
    "my_collection = \"u/dagoret/BPS_manyspectro_v102\"\n",
    "FILTER=\"empty~holo4_003\"\n",
    "\n"
   ]
  },
  {
   "cell_type": "code",
   "execution_count": 15,
   "id": "0b1d8cd0-a59d-4829-8203-1096d3a4146b",
   "metadata": {
    "execution": {
     "iopub.execute_input": "2023-09-21T12:56:11.993590Z",
     "iopub.status.busy": "2023-09-21T12:56:11.993467Z",
     "iopub.status.idle": "2023-09-21T12:56:11.997446Z",
     "shell.execute_reply": "2023-09-21T12:56:11.997118Z",
     "shell.execute_reply.started": "2023-09-21T12:56:11.993579Z"
    },
    "tags": []
   },
   "outputs": [],
   "source": [
    "# output path of type top/date/filter\n",
    "#----------------------------------------\n",
    "\n",
    "top_path_out=\"dm_postisrccd_img\"\n",
    "path_out=f\"{top_path_out}/{FILTER}\""
   ]
  },
  {
   "cell_type": "code",
   "execution_count": 16,
   "id": "01aa4d52-809c-40e1-96f6-29b42d1b1d3c",
   "metadata": {
    "execution": {
     "iopub.execute_input": "2023-09-21T12:56:11.998022Z",
     "iopub.status.busy": "2023-09-21T12:56:11.997912Z",
     "iopub.status.idle": "2023-09-21T12:56:12.000661Z",
     "shell.execute_reply": "2023-09-21T12:56:12.000307Z",
     "shell.execute_reply.started": "2023-09-21T12:56:11.998011Z"
    },
    "tags": []
   },
   "outputs": [],
   "source": [
    "if not os.path.exists(path_out):\n",
    "    os.makedirs(path_out)"
   ]
  },
  {
   "cell_type": "code",
   "execution_count": 17,
   "id": "272db16b-b592-4dd1-b28e-d58ee9b1ea3a",
   "metadata": {
    "execution": {
     "iopub.execute_input": "2023-09-21T12:56:12.001257Z",
     "iopub.status.busy": "2023-09-21T12:56:12.001119Z",
     "iopub.status.idle": "2023-09-21T12:56:12.006786Z",
     "shell.execute_reply": "2023-09-21T12:56:12.006433Z",
     "shell.execute_reply.started": "2023-09-21T12:56:12.001246Z"
    }
   },
   "outputs": [],
   "source": [
    "path_out=f\"{path_out}/{DATE}\"\n",
    "\n",
    "if not os.path.exists(path_out):\n",
    "    os.makedirs(path_out)"
   ]
  },
  {
   "cell_type": "markdown",
   "id": "253a575f-e467-4b3d-ab0a-f26542f13dc1",
   "metadata": {},
   "source": [
    "# read list of exposures\n",
    "\n",
    "From the butler and the given user collection"
   ]
  },
  {
   "cell_type": "code",
   "execution_count": 18,
   "id": "95e3d58c-1b48-48dd-830b-3cce91fccf2c",
   "metadata": {
    "execution": {
     "iopub.execute_input": "2023-09-21T12:56:12.007387Z",
     "iopub.status.busy": "2023-09-21T12:56:12.007276Z",
     "iopub.status.idle": "2023-09-21T12:56:12.028221Z",
     "shell.execute_reply": "2023-09-21T12:56:12.027872Z",
     "shell.execute_reply.started": "2023-09-21T12:56:12.007376Z"
    }
   },
   "outputs": [],
   "source": [
    "datasetRefs = registry.queryDatasets(datasetType='postISRCCD', collections=my_collection, where= \"instrument='LATISS'\")"
   ]
  },
  {
   "cell_type": "code",
   "execution_count": null,
   "id": "3bd1f8f2-580b-4131-8ea4-ed3a6391dd4b",
   "metadata": {
    "execution": {
     "iopub.execute_input": "2023-09-21T12:56:12.028838Z",
     "iopub.status.busy": "2023-09-21T12:56:12.028719Z"
    }
   },
   "outputs": [
    {
     "name": "stdout",
     "output_type": "stream",
     "text": [
      "========(0)================datasetType = postISRCCD ============================================\n",
      "fullId..................: {band: 'white', instrument: 'LATISS', detector: 0, physical_filter: 'empty~holo4_003', exposure: 2023011700535}\n",
      "exposure................: 2023011700535\n",
      "band....................: white\n",
      "physical filter.........: empty~holo4_003\n",
      "run.....................: u/dagoret/BPS_manyspectro_v100/20230720T141311Z\n",
      "{'day_obs': 20230117, 'seq_num': 535, 'detector': 0}\n",
      "========(1)================datasetType = postISRCCD ============================================\n",
      "fullId..................: {band: 'white', instrument: 'LATISS', detector: 0, physical_filter: 'empty~holo4_003', exposure: 2023011700363}\n",
      "exposure................: 2023011700363\n",
      "band....................: white\n",
      "physical filter.........: empty~holo4_003\n",
      "run.....................: u/dagoret/BPS_manyspectro_v100/20230720T141311Z\n",
      "{'day_obs': 20230117, 'seq_num': 363, 'detector': 0}\n",
      "========(2)================datasetType = postISRCCD ============================================\n",
      "fullId..................: {band: 'white', instrument: 'LATISS', detector: 0, physical_filter: 'empty~holo4_003', exposure: 2023011700448}\n",
      "exposure................: 2023011700448\n",
      "band....................: white\n",
      "physical filter.........: empty~holo4_003\n",
      "run.....................: u/dagoret/BPS_manyspectro_v100/20230720T141311Z\n",
      "{'day_obs': 20230117, 'seq_num': 448, 'detector': 0}\n",
      "========(3)================datasetType = postISRCCD ============================================\n",
      "fullId..................: {band: 'white', instrument: 'LATISS', detector: 0, physical_filter: 'empty~holo4_003', exposure: 2023011700298}\n",
      "exposure................: 2023011700298\n",
      "band....................: white\n",
      "physical filter.........: empty~holo4_003\n",
      "run.....................: u/dagoret/BPS_manyspectro_v100/20230720T141311Z\n",
      "{'day_obs': 20230117, 'seq_num': 298, 'detector': 0}\n",
      "========(4)================datasetType = postISRCCD ============================================\n",
      "fullId..................: {band: 'white', instrument: 'LATISS', detector: 0, physical_filter: 'empty~holo4_003', exposure: 2023011700599}\n",
      "exposure................: 2023011700599\n",
      "band....................: white\n",
      "physical filter.........: empty~holo4_003\n",
      "run.....................: u/dagoret/BPS_manyspectro_v100/20230720T141311Z\n",
      "{'day_obs': 20230117, 'seq_num': 599, 'detector': 0}\n",
      "========(5)================datasetType = postISRCCD ============================================\n",
      "fullId..................: {band: 'white', instrument: 'LATISS', detector: 0, physical_filter: 'empty~holo4_003', exposure: 2023011700678}\n",
      "exposure................: 2023011700678\n",
      "band....................: white\n",
      "physical filter.........: empty~holo4_003\n",
      "run.....................: u/dagoret/BPS_manyspectro_v100/20230720T141311Z\n",
      "{'day_obs': 20230117, 'seq_num': 678, 'detector': 0}\n",
      "========(6)================datasetType = postISRCCD ============================================\n",
      "fullId..................: {band: 'white', instrument: 'LATISS', detector: 0, physical_filter: 'empty~holo4_003', exposure: 2023011700647}\n",
      "exposure................: 2023011700647\n",
      "band....................: white\n",
      "physical filter.........: empty~holo4_003\n",
      "run.....................: u/dagoret/BPS_manyspectro_v100/20230720T141311Z\n",
      "{'day_obs': 20230117, 'seq_num': 647, 'detector': 0}\n",
      "========(7)================datasetType = postISRCCD ============================================\n",
      "fullId..................: {band: 'white', instrument: 'LATISS', detector: 0, physical_filter: 'empty~holo4_003', exposure: 2023011700326}\n",
      "exposure................: 2023011700326\n",
      "band....................: white\n",
      "physical filter.........: empty~holo4_003\n",
      "run.....................: u/dagoret/BPS_manyspectro_v100/20230720T141311Z\n",
      "{'day_obs': 20230117, 'seq_num': 326, 'detector': 0}\n",
      "========(8)================datasetType = postISRCCD ============================================\n",
      "fullId..................: {band: 'white', instrument: 'LATISS', detector: 0, physical_filter: 'empty~holo4_003', exposure: 2023011700496}\n",
      "exposure................: 2023011700496\n",
      "band....................: white\n",
      "physical filter.........: empty~holo4_003\n",
      "run.....................: u/dagoret/BPS_manyspectro_v100/20230720T141311Z\n",
      "{'day_obs': 20230117, 'seq_num': 496, 'detector': 0}\n",
      "========(9)================datasetType = postISRCCD ============================================\n",
      "fullId..................: {band: 'white', instrument: 'LATISS', detector: 0, physical_filter: 'empty~holo4_003', exposure: 2023011700476}\n",
      "exposure................: 2023011700476\n",
      "band....................: white\n",
      "physical filter.........: empty~holo4_003\n",
      "run.....................: u/dagoret/BPS_manyspectro_v100/20230720T141311Z\n",
      "{'day_obs': 20230117, 'seq_num': 476, 'detector': 0}\n",
      "========(10)================datasetType = postISRCCD ============================================\n",
      "fullId..................: {band: 'white', instrument: 'LATISS', detector: 0, physical_filter: 'empty~holo4_003', exposure: 2023011700525}\n",
      "exposure................: 2023011700525\n",
      "band....................: white\n",
      "physical filter.........: empty~holo4_003\n",
      "run.....................: u/dagoret/BPS_manyspectro_v100/20230720T141311Z\n",
      "{'day_obs': 20230117, 'seq_num': 525, 'detector': 0}\n",
      "========(11)================datasetType = postISRCCD ============================================\n",
      "fullId..................: {band: 'white', instrument: 'LATISS', detector: 0, physical_filter: 'empty~holo4_003', exposure: 2023011700265}\n",
      "exposure................: 2023011700265\n",
      "band....................: white\n",
      "physical filter.........: empty~holo4_003\n",
      "run.....................: u/dagoret/BPS_manyspectro_v100/20230720T141311Z\n",
      "{'day_obs': 20230117, 'seq_num': 265, 'detector': 0}\n",
      "========(12)================datasetType = postISRCCD ============================================\n",
      "fullId..................: {band: 'white', instrument: 'LATISS', detector: 0, physical_filter: 'empty~holo4_003', exposure: 2023011700421}\n",
      "exposure................: 2023011700421\n",
      "band....................: white\n",
      "physical filter.........: empty~holo4_003\n",
      "run.....................: u/dagoret/BPS_manyspectro_v100/20230720T141311Z\n",
      "{'day_obs': 20230117, 'seq_num': 421, 'detector': 0}\n",
      "========(13)================datasetType = postISRCCD ============================================\n",
      "fullId..................: {band: 'white', instrument: 'LATISS', detector: 0, physical_filter: 'empty~holo4_003', exposure: 2023011700486}\n",
      "exposure................: 2023011700486\n",
      "band....................: white\n",
      "physical filter.........: empty~holo4_003\n",
      "run.....................: u/dagoret/BPS_manyspectro_v100/20230720T141311Z\n",
      "{'day_obs': 20230117, 'seq_num': 486, 'detector': 0}\n",
      "========(14)================datasetType = postISRCCD ============================================\n",
      "fullId..................: {band: 'white', instrument: 'LATISS', detector: 0, physical_filter: 'empty~holo4_003', exposure: 2023011700334}\n",
      "exposure................: 2023011700334\n",
      "band....................: white\n",
      "physical filter.........: empty~holo4_003\n",
      "run.....................: u/dagoret/BPS_manyspectro_v100/20230720T141311Z\n",
      "{'day_obs': 20230117, 'seq_num': 334, 'detector': 0}\n",
      "========(15)================datasetType = postISRCCD ============================================\n",
      "fullId..................: {band: 'white', instrument: 'LATISS', detector: 0, physical_filter: 'empty~holo4_003', exposure: 2023011700570}\n",
      "exposure................: 2023011700570\n",
      "band....................: white\n",
      "physical filter.........: empty~holo4_003\n",
      "run.....................: u/dagoret/BPS_manyspectro_v100/20230720T141311Z\n",
      "{'day_obs': 20230117, 'seq_num': 570, 'detector': 0}\n",
      "========(16)================datasetType = postISRCCD ============================================\n",
      "fullId..................: {band: 'white', instrument: 'LATISS', detector: 0, physical_filter: 'empty~holo4_003', exposure: 2023011700646}\n",
      "exposure................: 2023011700646\n",
      "band....................: white\n",
      "physical filter.........: empty~holo4_003\n",
      "run.....................: u/dagoret/BPS_manyspectro_v100/20230720T141311Z\n",
      "{'day_obs': 20230117, 'seq_num': 646, 'detector': 0}\n",
      "========(17)================datasetType = postISRCCD ============================================\n",
      "fullId..................: {band: 'white', instrument: 'LATISS', detector: 0, physical_filter: 'empty~holo4_003', exposure: 2023011700411}\n",
      "exposure................: 2023011700411\n",
      "band....................: white\n",
      "physical filter.........: empty~holo4_003\n",
      "run.....................: u/dagoret/BPS_manyspectro_v100/20230720T141311Z\n",
      "{'day_obs': 20230117, 'seq_num': 411, 'detector': 0}\n",
      "========(18)================datasetType = postISRCCD ============================================\n",
      "fullId..................: {band: 'white', instrument: 'LATISS', detector: 0, physical_filter: 'empty~holo4_003', exposure: 2023011700553}\n",
      "exposure................: 2023011700553\n",
      "band....................: white\n",
      "physical filter.........: empty~holo4_003\n",
      "run.....................: u/dagoret/BPS_manyspectro_v100/20230720T141311Z\n",
      "{'day_obs': 20230117, 'seq_num': 553, 'detector': 0}\n",
      "========(19)================datasetType = postISRCCD ============================================\n",
      "fullId..................: {band: 'white', instrument: 'LATISS', detector: 0, physical_filter: 'empty~holo4_003', exposure: 2023011700590}\n",
      "exposure................: 2023011700590\n",
      "band....................: white\n",
      "physical filter.........: empty~holo4_003\n",
      "run.....................: u/dagoret/BPS_manyspectro_v100/20230720T141311Z\n",
      "{'day_obs': 20230117, 'seq_num': 590, 'detector': 0}\n",
      "========(20)================datasetType = postISRCCD ============================================\n",
      "fullId..................: {band: 'white', instrument: 'LATISS', detector: 0, physical_filter: 'empty~holo4_003', exposure: 2023011700487}\n",
      "exposure................: 2023011700487\n",
      "band....................: white\n",
      "physical filter.........: empty~holo4_003\n",
      "run.....................: u/dagoret/BPS_manyspectro_v100/20230720T141311Z\n",
      "{'day_obs': 20230117, 'seq_num': 487, 'detector': 0}\n",
      "========(21)================datasetType = postISRCCD ============================================\n",
      "fullId..................: {band: 'white', instrument: 'LATISS', detector: 0, physical_filter: 'empty~holo4_003', exposure: 2023011700660}\n",
      "exposure................: 2023011700660\n",
      "band....................: white\n",
      "physical filter.........: empty~holo4_003\n",
      "run.....................: u/dagoret/BPS_manyspectro_v100/20230720T141311Z\n",
      "{'day_obs': 20230117, 'seq_num': 660, 'detector': 0}\n",
      "========(22)================datasetType = postISRCCD ============================================\n",
      "fullId..................: {band: 'white', instrument: 'LATISS', detector: 0, physical_filter: 'empty~holo4_003', exposure: 2023011700607}\n",
      "exposure................: 2023011700607\n",
      "band....................: white\n",
      "physical filter.........: empty~holo4_003\n",
      "run.....................: u/dagoret/BPS_manyspectro_v100/20230720T141311Z\n",
      "{'day_obs': 20230117, 'seq_num': 607, 'detector': 0}\n",
      "========(23)================datasetType = postISRCCD ============================================\n",
      "fullId..................: {band: 'white', instrument: 'LATISS', detector: 0, physical_filter: 'empty~holo4_003', exposure: 2023011700317}\n",
      "exposure................: 2023011700317\n",
      "band....................: white\n",
      "physical filter.........: empty~holo4_003\n",
      "run.....................: u/dagoret/BPS_manyspectro_v100/20230720T141311Z\n",
      "{'day_obs': 20230117, 'seq_num': 317, 'detector': 0}\n",
      "========(24)================datasetType = postISRCCD ============================================\n",
      "fullId..................: {band: 'white', instrument: 'LATISS', detector: 0, physical_filter: 'empty~holo4_003', exposure: 2023011700688}\n",
      "exposure................: 2023011700688\n",
      "band....................: white\n",
      "physical filter.........: empty~holo4_003\n",
      "run.....................: u/dagoret/BPS_manyspectro_v100/20230720T141311Z\n",
      "{'day_obs': 20230117, 'seq_num': 688, 'detector': 0}\n",
      "========(25)================datasetType = postISRCCD ============================================\n",
      "fullId..................: {band: 'white', instrument: 'LATISS', detector: 0, physical_filter: 'empty~holo4_003', exposure: 2023011700477}\n",
      "exposure................: 2023011700477\n",
      "band....................: white\n",
      "physical filter.........: empty~holo4_003\n",
      "run.....................: u/dagoret/BPS_manyspectro_v100/20230720T141311Z\n",
      "{'day_obs': 20230117, 'seq_num': 477, 'detector': 0}\n",
      "========(26)================datasetType = postISRCCD ============================================\n",
      "fullId..................: {band: 'white', instrument: 'LATISS', detector: 0, physical_filter: 'empty~holo4_003', exposure: 2023011700562}\n",
      "exposure................: 2023011700562\n",
      "band....................: white\n",
      "physical filter.........: empty~holo4_003\n",
      "run.....................: u/dagoret/BPS_manyspectro_v100/20230720T141311Z\n",
      "{'day_obs': 20230117, 'seq_num': 562, 'detector': 0}\n",
      "========(27)================datasetType = postISRCCD ============================================\n",
      "fullId..................: {band: 'white', instrument: 'LATISS', detector: 0, physical_filter: 'empty~holo4_003', exposure: 2023011700248}\n",
      "exposure................: 2023011700248\n",
      "band....................: white\n",
      "physical filter.........: empty~holo4_003\n",
      "run.....................: u/dagoret/BPS_manyspectro_v100/20230720T141311Z\n",
      "{'day_obs': 20230117, 'seq_num': 248, 'detector': 0}\n",
      "========(28)================datasetType = postISRCCD ============================================\n",
      "fullId..................: {band: 'white', instrument: 'LATISS', detector: 0, physical_filter: 'empty~holo4_003', exposure: 2023011700390}\n",
      "exposure................: 2023011700390\n",
      "band....................: white\n",
      "physical filter.........: empty~holo4_003\n",
      "run.....................: u/dagoret/BPS_manyspectro_v100/20230720T141311Z\n",
      "{'day_obs': 20230117, 'seq_num': 390, 'detector': 0}\n",
      "========(29)================datasetType = postISRCCD ============================================\n",
      "fullId..................: {band: 'white', instrument: 'LATISS', detector: 0, physical_filter: 'empty~holo4_003', exposure: 2023011700239}\n",
      "exposure................: 2023011700239\n",
      "band....................: white\n",
      "physical filter.........: empty~holo4_003\n",
      "run.....................: u/dagoret/BPS_manyspectro_v100/20230720T141311Z\n",
      "{'day_obs': 20230117, 'seq_num': 239, 'detector': 0}\n",
      "========(30)================datasetType = postISRCCD ============================================\n",
      "fullId..................: {band: 'white', instrument: 'LATISS', detector: 0, physical_filter: 'empty~holo4_003', exposure: 2023011700316}\n",
      "exposure................: 2023011700316\n",
      "band....................: white\n",
      "physical filter.........: empty~holo4_003\n",
      "run.....................: u/dagoret/BPS_manyspectro_v100/20230720T141311Z\n",
      "{'day_obs': 20230117, 'seq_num': 316, 'detector': 0}\n",
      "========(31)================datasetType = postISRCCD ============================================\n",
      "fullId..................: {band: 'white', instrument: 'LATISS', detector: 0, physical_filter: 'empty~holo4_003', exposure: 2023011700348}\n",
      "exposure................: 2023011700348\n",
      "band....................: white\n",
      "physical filter.........: empty~holo4_003\n",
      "run.....................: u/dagoret/BPS_manyspectro_v100/20230720T141311Z\n",
      "{'day_obs': 20230117, 'seq_num': 348, 'detector': 0}\n",
      "========(32)================datasetType = postISRCCD ============================================\n",
      "fullId..................: {band: 'white', instrument: 'LATISS', detector: 0, physical_filter: 'empty~holo4_003', exposure: 2023011700275}\n",
      "exposure................: 2023011700275\n",
      "band....................: white\n",
      "physical filter.........: empty~holo4_003\n",
      "run.....................: u/dagoret/BPS_manyspectro_v100/20230720T141311Z\n",
      "{'day_obs': 20230117, 'seq_num': 275, 'detector': 0}\n",
      "========(33)================datasetType = postISRCCD ============================================\n",
      "fullId..................: {band: 'white', instrument: 'LATISS', detector: 0, physical_filter: 'empty~holo4_003', exposure: 2023011700430}\n",
      "exposure................: 2023011700430\n",
      "band....................: white\n",
      "physical filter.........: empty~holo4_003\n",
      "run.....................: u/dagoret/BPS_manyspectro_v100/20230720T141311Z\n",
      "{'day_obs': 20230117, 'seq_num': 430, 'detector': 0}\n",
      "========(34)================datasetType = postISRCCD ============================================\n",
      "fullId..................: {band: 'white', instrument: 'LATISS', detector: 0, physical_filter: 'empty~holo4_003', exposure: 2023011700420}\n",
      "exposure................: 2023011700420\n",
      "band....................: white\n",
      "physical filter.........: empty~holo4_003\n",
      "run.....................: u/dagoret/BPS_manyspectro_v100/20230720T141311Z\n",
      "{'day_obs': 20230117, 'seq_num': 420, 'detector': 0}\n",
      "========(35)================datasetType = postISRCCD ============================================\n",
      "fullId..................: {band: 'white', instrument: 'LATISS', detector: 0, physical_filter: 'empty~holo4_003', exposure: 2023011700375}\n",
      "exposure................: 2023011700375\n",
      "band....................: white\n",
      "physical filter.........: empty~holo4_003\n",
      "run.....................: u/dagoret/BPS_manyspectro_v100/20230720T141311Z\n",
      "{'day_obs': 20230117, 'seq_num': 375, 'detector': 0}\n",
      "========(36)================datasetType = postISRCCD ============================================\n",
      "fullId..................: {band: 'white', instrument: 'LATISS', detector: 0, physical_filter: 'empty~holo4_003', exposure: 2023011700447}\n",
      "exposure................: 2023011700447\n",
      "band....................: white\n",
      "physical filter.........: empty~holo4_003\n",
      "run.....................: u/dagoret/BPS_manyspectro_v100/20230720T141311Z\n",
      "{'day_obs': 20230117, 'seq_num': 447, 'detector': 0}\n",
      "========(37)================datasetType = postISRCCD ============================================\n",
      "fullId..................: {band: 'white', instrument: 'LATISS', detector: 0, physical_filter: 'empty~holo4_003', exposure: 2023011700544}\n",
      "exposure................: 2023011700544\n",
      "band....................: white\n",
      "physical filter.........: empty~holo4_003\n",
      "run.....................: u/dagoret/BPS_manyspectro_v100/20230720T141311Z\n",
      "{'day_obs': 20230117, 'seq_num': 544, 'detector': 0}\n",
      "========(38)================datasetType = postISRCCD ============================================\n",
      "fullId..................: {band: 'white', instrument: 'LATISS', detector: 0, physical_filter: 'empty~holo4_003', exposure: 2023011700669}\n",
      "exposure................: 2023011700669\n",
      "band....................: white\n",
      "physical filter.........: empty~holo4_003\n",
      "run.....................: u/dagoret/BPS_manyspectro_v100/20230720T141311Z\n",
      "{'day_obs': 20230117, 'seq_num': 669, 'detector': 0}\n",
      "========(39)================datasetType = postISRCCD ============================================\n",
      "fullId..................: {band: 'white', instrument: 'LATISS', detector: 0, physical_filter: 'empty~holo4_003', exposure: 2023011700506}\n",
      "exposure................: 2023011700506\n",
      "band....................: white\n",
      "physical filter.........: empty~holo4_003\n",
      "run.....................: u/dagoret/BPS_manyspectro_v100/20230720T141311Z\n",
      "{'day_obs': 20230117, 'seq_num': 506, 'detector': 0}\n",
      "========(40)================datasetType = postISRCCD ============================================\n",
      "fullId..................: {band: 'white', instrument: 'LATISS', detector: 0, physical_filter: 'empty~holo4_003', exposure: 2023011700389}\n",
      "exposure................: 2023011700389\n",
      "band....................: white\n",
      "physical filter.........: empty~holo4_003\n",
      "run.....................: u/dagoret/BPS_manyspectro_v100/20230720T141311Z\n",
      "{'day_obs': 20230117, 'seq_num': 389, 'detector': 0}\n",
      "========(41)================datasetType = postISRCCD ============================================\n",
      "fullId..................: {band: 'white', instrument: 'LATISS', detector: 0, physical_filter: 'empty~holo4_003', exposure: 2023011700661}\n",
      "exposure................: 2023011700661\n",
      "band....................: white\n",
      "physical filter.........: empty~holo4_003\n",
      "run.....................: u/dagoret/BPS_manyspectro_v100/20230720T141311Z\n",
      "{'day_obs': 20230117, 'seq_num': 661, 'detector': 0}\n",
      "========(42)================datasetType = postISRCCD ============================================\n",
      "fullId..................: {band: 'white', instrument: 'LATISS', detector: 0, physical_filter: 'empty~holo4_003', exposure: 2023011700244}\n",
      "exposure................: 2023011700244\n",
      "band....................: white\n",
      "physical filter.........: empty~holo4_003\n",
      "run.....................: u/dagoret/BPS_manyspectro_v100/20230720T141311Z\n",
      "{'day_obs': 20230117, 'seq_num': 244, 'detector': 0}\n",
      "========(43)================datasetType = postISRCCD ============================================\n",
      "fullId..................: {band: 'white', instrument: 'LATISS', detector: 0, physical_filter: 'empty~holo4_003', exposure: 2023011700552}\n",
      "exposure................: 2023011700552\n",
      "band....................: white\n",
      "physical filter.........: empty~holo4_003\n",
      "run.....................: u/dagoret/BPS_manyspectro_v100/20230720T141311Z\n",
      "{'day_obs': 20230117, 'seq_num': 552, 'detector': 0}\n",
      "========(44)================datasetType = postISRCCD ============================================\n",
      "fullId..................: {band: 'white', instrument: 'LATISS', detector: 0, physical_filter: 'empty~holo4_003', exposure: 2023011700412}\n",
      "exposure................: 2023011700412\n",
      "band....................: white\n",
      "physical filter.........: empty~holo4_003\n",
      "run.....................: u/dagoret/BPS_manyspectro_v100/20230720T141311Z\n",
      "{'day_obs': 20230117, 'seq_num': 412, 'detector': 0}\n",
      "========(45)================datasetType = postISRCCD ============================================\n",
      "fullId..................: {band: 'white', instrument: 'LATISS', detector: 0, physical_filter: 'empty~holo4_003', exposure: 2023011700349}\n",
      "exposure................: 2023011700349\n",
      "band....................: white\n",
      "physical filter.........: empty~holo4_003\n",
      "run.....................: u/dagoret/BPS_manyspectro_v100/20230720T141311Z\n",
      "{'day_obs': 20230117, 'seq_num': 349, 'detector': 0}\n",
      "========(46)================datasetType = postISRCCD ============================================\n",
      "fullId..................: {band: 'white', instrument: 'LATISS', detector: 0, physical_filter: 'empty~holo4_003', exposure: 2023011700617}\n",
      "exposure................: 2023011700617\n",
      "band....................: white\n",
      "physical filter.........: empty~holo4_003\n",
      "run.....................: u/dagoret/BPS_manyspectro_v100/20230720T141311Z\n",
      "{'day_obs': 20230117, 'seq_num': 617, 'detector': 0}\n",
      "========(47)================datasetType = postISRCCD ============================================\n",
      "fullId..................: {band: 'white', instrument: 'LATISS', detector: 0, physical_filter: 'empty~holo4_003', exposure: 2023011700335}\n",
      "exposure................: 2023011700335\n",
      "band....................: white\n",
      "physical filter.........: empty~holo4_003\n",
      "run.....................: u/dagoret/BPS_manyspectro_v100/20230720T141311Z\n",
      "{'day_obs': 20230117, 'seq_num': 335, 'detector': 0}\n",
      "========(48)================datasetType = postISRCCD ============================================\n",
      "fullId..................: {band: 'white', instrument: 'LATISS', detector: 0, physical_filter: 'empty~holo4_003', exposure: 2023011700571}\n",
      "exposure................: 2023011700571\n",
      "band....................: white\n",
      "physical filter.........: empty~holo4_003\n",
      "run.....................: u/dagoret/BPS_manyspectro_v100/20230720T141311Z\n",
      "{'day_obs': 20230117, 'seq_num': 571, 'detector': 0}\n",
      "========(49)================datasetType = postISRCCD ============================================\n",
      "fullId..................: {band: 'white', instrument: 'LATISS', detector: 0, physical_filter: 'empty~holo4_003', exposure: 2023011700438}\n",
      "exposure................: 2023011700438\n",
      "band....................: white\n",
      "physical filter.........: empty~holo4_003\n",
      "run.....................: u/dagoret/BPS_manyspectro_v100/20230720T141311Z\n",
      "{'day_obs': 20230117, 'seq_num': 438, 'detector': 0}\n",
      "========(50)================datasetType = postISRCCD ============================================\n",
      "fullId..................: {band: 'white', instrument: 'LATISS', detector: 0, physical_filter: 'empty~holo4_003', exposure: 2023011700457}\n",
      "exposure................: 2023011700457\n",
      "band....................: white\n",
      "physical filter.........: empty~holo4_003\n",
      "run.....................: u/dagoret/BPS_manyspectro_v100/20230720T141311Z\n",
      "{'day_obs': 20230117, 'seq_num': 457, 'detector': 0}\n",
      "========(51)================datasetType = postISRCCD ============================================\n",
      "fullId..................: {band: 'white', instrument: 'LATISS', detector: 0, physical_filter: 'empty~holo4_003', exposure: 2023011700670}\n",
      "exposure................: 2023011700670\n",
      "band....................: white\n",
      "physical filter.........: empty~holo4_003\n",
      "run.....................: u/dagoret/BPS_manyspectro_v100/20230720T141311Z\n",
      "{'day_obs': 20230117, 'seq_num': 670, 'detector': 0}\n",
      "========(52)================datasetType = postISRCCD ============================================\n",
      "fullId..................: {band: 'white', instrument: 'LATISS', detector: 0, physical_filter: 'empty~holo4_003', exposure: 2023011700364}\n",
      "exposure................: 2023011700364\n",
      "band....................: white\n",
      "physical filter.........: empty~holo4_003\n",
      "run.....................: u/dagoret/BPS_manyspectro_v100/20230720T141311Z\n",
      "{'day_obs': 20230117, 'seq_num': 364, 'detector': 0}\n",
      "========(53)================datasetType = postISRCCD ============================================\n",
      "fullId..................: {band: 'white', instrument: 'LATISS', detector: 0, physical_filter: 'empty~holo4_003', exposure: 2023011700561}\n",
      "exposure................: 2023011700561\n",
      "band....................: white\n",
      "physical filter.........: empty~holo4_003\n",
      "run.....................: u/dagoret/BPS_manyspectro_v100/20230720T141311Z\n",
      "{'day_obs': 20230117, 'seq_num': 561, 'detector': 0}\n"
     ]
    }
   ],
   "source": [
    "all_dataId = []\n",
    "all_postisrccd  = []\n",
    "all_exposures = []\n",
    "for i, ref in enumerate(datasetRefs):\n",
    "   \n",
    "    print(f\"========({i})================datasetType = postISRCCD ============================================\")\n",
    "    print(\"fullId..................:\",ref.dataId.full)\n",
    "    print(\"exposure................:\",ref.dataId[\"exposure\"])\n",
    "    print(\"band....................:\",ref.dataId[\"band\"])\n",
    "    print(\"physical filter.........:\",ref.dataId[\"physical_filter\"])\n",
    "    print(\"run.....................:\",ref.run)\n",
    "    the_exposure = ref.dataId[\"exposure\"]\n",
    "    the_day_obs = ref.dataId[\"exposure\"]//100_000\n",
    "    the_seq_num = ref.dataId[\"exposure\"]- the_day_obs*100_000    \n",
    "    the_dataId = {'day_obs': the_day_obs,'seq_num':the_seq_num,'detector':0}\n",
    "    print(the_dataId)\n",
    "    #spec       = butler.get('spectraction',the_dataId)\n",
    "    postisrccd = butler.get('postISRCCD', exposure=the_exposure, detector=0, collections=my_collection, instrument='LATISS')\n",
    "    all_dataId.append(the_dataId) \n",
    "    all_exposures.append(the_exposure)\n",
    "    all_postisrccd.append(postisrccd)\n",
    "all_exposures = np.array(all_exposures)"
   ]
  },
  {
   "cell_type": "code",
   "execution_count": null,
   "id": "cd4155de-bc64-4bbd-a263-73fdc9f1f61d",
   "metadata": {},
   "outputs": [],
   "source": [
    "N = len(all_postisrccd)"
   ]
  },
  {
   "cell_type": "code",
   "execution_count": null,
   "id": "41485a29-e286-4cb0-9024-1036f069237c",
   "metadata": {},
   "outputs": [],
   "source": [
    "all_exposures_sortedindexes = np.argsort(all_exposures)"
   ]
  },
  {
   "cell_type": "code",
   "execution_count": null,
   "id": "fed9f4fd-b431-425b-9450-32a38e1bf3e8",
   "metadata": {},
   "outputs": [],
   "source": [
    "all_exposures[all_exposures_sortedindexes]"
   ]
  },
  {
   "cell_type": "code",
   "execution_count": null,
   "id": "9ccccaec-c819-4881-8205-3cc2e52c7a6a",
   "metadata": {
    "tags": []
   },
   "outputs": [],
   "source": [
    "for idx in range(N):\n",
    "    idx_sorted = all_exposures_sortedindexes[idx]\n",
    "    dm_postisrccd = all_postisrccd[idx_sorted]\n",
    "    dm_postisrccd_md = dict(dm_postisrccd.getMetadata())\n",
    "    print(f\"==================={all_exposures[idx_sorted]}=======================\")\n",
    "    print('LSST CALIB DATE BIAS :',dm_postisrccd_md['LSST CALIB DATE BIAS'])\n",
    "    print('LSST CALIB UUID BIAS :',dm_postisrccd_md['LSST CALIB UUID BIAS']) \n",
    "    print('LSST CALIB RUN BIAS  :',dm_postisrccd_md['LSST CALIB RUN BIAS'])\n",
    "    print(\"-------\")\n",
    "    print('LSST CALIB DATE DEFECTS :',dm_postisrccd_md['LSST CALIB DATE DEFECTS'])\n",
    "    print('LSST CALIB UUID DEFECTS :',dm_postisrccd_md['LSST CALIB UUID DEFECTS']) \n",
    "    print('LSST CALIB RUN DEFECTS  :',dm_postisrccd_md['LSST CALIB RUN DEFECTS'])"
   ]
  },
  {
   "cell_type": "markdown",
   "id": "b67586ea-b4bf-4959-87f3-b231320a5bf8",
   "metadata": {},
   "source": [
    "## Select flags options"
   ]
  },
  {
   "cell_type": "code",
   "execution_count": null,
   "id": "655de8b8-3109-4a63-bcc7-3be31e9a514d",
   "metadata": {
    "tags": []
   },
   "outputs": [],
   "source": [
    "FLAG_ROTATE_IMG = True\n",
    "FLAG_TRANSFORM = True"
   ]
  },
  {
   "cell_type": "markdown",
   "id": "a6230ef7-ddeb-4430-af47-320b8f72c840",
   "metadata": {},
   "source": [
    "## Transformations\n",
    "astropy scale transformations"
   ]
  },
  {
   "cell_type": "code",
   "execution_count": null,
   "id": "257001ba-731c-4d13-bd0d-4c68a3cd6829",
   "metadata": {
    "tags": []
   },
   "outputs": [],
   "source": [
    "transform = AsinhStretch() + PercentileInterval(99.)\n",
    "#transform = PercentileInterval(98.)\n",
    "\n"
   ]
  },
  {
   "cell_type": "code",
   "execution_count": null,
   "id": "b6351e4f-030b-4712-ab7c-452e2ab04118",
   "metadata": {
    "tags": []
   },
   "outputs": [],
   "source": [
    "%matplotlib inline\n",
    "if FLAG_PLOT:\n",
    "    for idx in range(N):\n",
    "        idx_sorted = all_exposures_sortedindexes[idx]\n",
    "        dm_postisrccd = all_postisrccd[idx_sorted]\n",
    "        dm_postisrccd_md = dict(dm_postisrccd.getMetadata())\n",
    "        exposure_selected =all_exposures[idx_sorted]\n",
    "        raw_img= butler.get('raw', dataId={'exposure': exposure_selected, 'instrument': 'LATISS', 'detector': 0}, collections = ['LATISS/calib','LATISS/raw/all',] )\n",
    "\n",
    "        meta = raw_img.getMetadata()\n",
    "        md = meta.toDict()\n",
    "\n",
    "\n",
    "        the_object = md['OBJECT']\n",
    "        \n",
    "        if the_object == \"MU-COL\":\n",
    "            md['OBJECT']=\"HD38666\"\n",
    "            the_object = md['OBJECT']\n",
    "            \n",
    "        if the_object == \"ETA1-DOR\":\n",
    "            md['OBJECT']=\"HD42525\"\n",
    "            the_object = md['OBJECT']\n",
    "            \n",
    "            \n",
    "        the_am= md['AMSTART']\n",
    "        the_filter=md['FILTER']\n",
    "    \n",
    "        \n",
    "    \n",
    "        rotated_array = dm_postisrccd.image.array[::-1,::-1] #rotate the array 180 degrees\n",
    "        #np.flip(np.flip(a, 1), 0)\n",
    "\n",
    "    \n",
    "        fig = plt.figure(figsize=(12,10))\n",
    "        afw_display = afwDisplay.Display(frame=fig)\n",
    "        afw_display.scale('linear', 'zscale',None)\n",
    "        the_title = f\"{idx} :: dm postisrccd exposure : {exposure_selected}, target={the_object}, airmass={the_am:.2f}, filter={the_filter}\"\n",
    "        afw_display.mtv(dm_postisrccd.image,title=the_title)"
   ]
  },
  {
   "cell_type": "code",
   "execution_count": null,
   "id": "adaea013-65d8-4563-8b8f-7bd005ca6e7e",
   "metadata": {
    "tags": []
   },
   "outputs": [],
   "source": [
    "#dm_postisrccd_md "
   ]
  },
  {
   "cell_type": "code",
   "execution_count": null,
   "id": "dccf7b57-37b7-4766-959a-1e542081bdcf",
   "metadata": {
    "tags": []
   },
   "outputs": [],
   "source": [
    "#md"
   ]
  },
  {
   "cell_type": "markdown",
   "id": "ff4531ec-84fa-4a97-98cc-1f027c318fef",
   "metadata": {
    "execution": {
     "iopub.status.busy": "2023-09-20T07:49:01.260951Z",
     "iopub.status.idle": "2023-09-20T07:49:01.261103Z",
     "shell.execute_reply": "2023-09-20T07:49:01.261033Z",
     "shell.execute_reply.started": "2023-09-20T07:49:01.261025Z"
    }
   },
   "source": [
    "# Save in files\n",
    "Note only header of raw image is saved because OBJECT name is only in raw image header.\n",
    "It is possible to do a clever mixture of both headers later"
   ]
  },
  {
   "cell_type": "code",
   "execution_count": null,
   "id": "cc338e02-3434-4bcf-a4a2-8769a506c76e",
   "metadata": {
    "tags": []
   },
   "outputs": [],
   "source": [
    "for idx in range(N):\n",
    "    idx_sorted = all_exposures_sortedindexes[idx]\n",
    "    dm_postisrccd = all_postisrccd[idx_sorted]\n",
    "    dm_postisrccd_md = dict(dm_postisrccd.getMetadata())\n",
    "    exposure_selected =all_exposures[idx_sorted]\n",
    "    raw_img= butler.get('raw', dataId={'exposure': exposure_selected, 'instrument': 'LATISS', 'detector': 0}, collections = ['LATISS/calib','LATISS/raw/all',] )\n",
    "\n",
    "    meta = raw_img.getMetadata()\n",
    "    md = meta.toDict()\n",
    "      \n",
    "    \n",
    "    print(f\"save exposure selected = {exposure_selected}\")\n",
    "\n",
    "    # we will save the postisrccd image\n",
    "    arr=dm_postisrccd.image.array\n",
    "    # 180 degree rotation\n",
    "    rotated_array = arr[::-1,::-1] #rotate the array 180 degrees\n",
    "    \n",
    "    \n",
    "    meta = raw_img.getMetadata()\n",
    "    md = meta.toDict()\n",
    "\n",
    "    the_object = md['OBJECT']\n",
    "    the_am= md['AMSTART']\n",
    "    the_filter=md['FILTER']\n",
    "    \n",
    "    if the_object == \"MU-COL\":\n",
    "        md['OBJECT']=\"HD38666\"\n",
    "        the_object = md['OBJECT']\n",
    "\n",
    "    filename_out = f\"exposure_{exposure_selected}_dmpostisrccd.fits\"\n",
    "    fullfilename_out=os.path.join(path_out,filename_out)\n",
    "    \n",
    "    print(f\">>>>  output filename {filename_out} object {the_object}\")\n",
    "    \n",
    "    hdr = fits.Header()\n",
    "    \n",
    "    for key,value in md.items():\n",
    "        if key == 'OBJECT':\n",
    "            print(key,value)\n",
    "        hdr[str(key)]=value\n",
    "        \n",
    "    # need this    \n",
    "    hdr[\"AMEND\"] = hdr[\"AMSTART\"]\n",
    "    \n",
    "    # be aware weather data may be missing\n",
    "    if hdr[\"AIRTEMP\"] == None:\n",
    "        hdr[\"AIRTEMP\"] = 10.0\n",
    "        print(\"AIRTEMP key missing\")\n",
    "\n",
    "    if hdr[\"PRESSURE\"] == None:\n",
    "        hdr[\"PRESSURE\"] = 744.\n",
    "        print(\"PRESSURE key missing\")\n",
    "\n",
    "    if hdr[\"HUMIDITY\"] == None:\n",
    "        hdr[\"HUMIDITY\"] = 50.\n",
    "        print(\"HUMIDITY key missing\")\n",
    "\n",
    "    if hdr[\"WINDSPD\"] == None:\n",
    "        hdr[\"WINDSPD\"] = 5.\n",
    "        print(\"WINDSPD key missing\")\n",
    "\n",
    "    if hdr[\"WINDDIR\"] == None:\n",
    "        hdr[\"WINDDIR\"] = 0.\n",
    "        print(\"WINDDIR key missing\")\n",
    "\n",
    "    if hdr[\"SEEING\"] == None:\n",
    "        hdr[\"SEEING\"] = 1.15\n",
    "        print(\"SEEING key missing\")\n",
    "       \n",
    "    \n",
    "    # Be carefull for Spectractor Standalone, 2 hdu units are necessary\n",
    "    \n",
    "    primary_hdu = fits.PrimaryHDU(header=hdr)\n",
    "    image_hdu = fits.ImageHDU(rotated_array)\n",
    "    hdu_list = fits.HDUList([primary_hdu, image_hdu])\n",
    "    hdu_list.writeto(fullfilename_out,overwrite=True)\n",
    "    \n",
    "    \n",
    "    #if index>=0:\n",
    "    #    break\n",
    "    \n"
   ]
  },
  {
   "cell_type": "code",
   "execution_count": null,
   "id": "fbefab28-7cb2-437c-a35f-65ff1ee6c460",
   "metadata": {
    "tags": []
   },
   "outputs": [],
   "source": [
    "print(\"finished\")"
   ]
  },
  {
   "cell_type": "code",
   "execution_count": null,
   "id": "66da570b-da5c-464b-87ba-31ef16d14ac6",
   "metadata": {},
   "outputs": [],
   "source": []
  }
 ],
 "metadata": {
  "kernelspec": {
   "display_name": "LSST",
   "language": "python",
   "name": "lsst"
  },
  "language_info": {
   "codemirror_mode": {
    "name": "ipython",
    "version": 3
   },
   "file_extension": ".py",
   "mimetype": "text/x-python",
   "name": "python",
   "nbconvert_exporter": "python",
   "pygments_lexer": "ipython3",
   "version": "3.11.4"
  },
  "toc": {
   "base_numbering": 1,
   "nav_menu": {},
   "number_sections": true,
   "sideBar": true,
   "skip_h1_title": false,
   "title_cell": "Table of Contents",
   "title_sidebar": "Contents",
   "toc_cell": false,
   "toc_position": {},
   "toc_section_display": true,
   "toc_window_display": false
  }
 },
 "nbformat": 4,
 "nbformat_minor": 5
}
