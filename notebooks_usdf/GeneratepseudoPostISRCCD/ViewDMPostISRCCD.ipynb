{
 "cells": [
  {
   "cell_type": "markdown",
   "id": "c813ed6a",
   "metadata": {
    "tags": []
   },
   "source": [
    "# View postISRCCD from DM PostISRCCD \n",
    "\n",
    "- work with Weakly_2023_35\n",
    "\n",
    "- author : Sylvie Dagoret-Campagne\n",
    "- affiliation : IJCLab\n",
    "- creation date : 2023/09/20\n",
    "- last update : 2023/09/20\n"
   ]
  },
  {
   "cell_type": "code",
   "execution_count": null,
   "id": "2e1f28b1",
   "metadata": {
    "execution": {
     "iopub.execute_input": "2023-09-20T20:26:34.581785Z",
     "iopub.status.busy": "2023-09-20T20:26:34.581656Z",
     "iopub.status.idle": "2023-09-20T20:26:34.927504Z",
     "shell.execute_reply": "2023-09-20T20:26:34.926972Z",
     "shell.execute_reply.started": "2023-09-20T20:26:34.581772Z"
    },
    "tags": []
   },
   "outputs": [],
   "source": [
    "! eups list -s | grep LOCAL"
   ]
  },
  {
   "cell_type": "code",
   "execution_count": null,
   "id": "8d301387-7065-4c85-897e-9e91b477c2b0",
   "metadata": {
    "execution": {
     "iopub.execute_input": "2023-09-20T20:26:34.928449Z",
     "iopub.status.busy": "2023-09-20T20:26:34.928230Z",
     "iopub.status.idle": "2023-09-20T20:26:35.465410Z",
     "shell.execute_reply": "2023-09-20T20:26:35.465023Z",
     "shell.execute_reply.started": "2023-09-20T20:26:34.928433Z"
    },
    "tags": []
   },
   "outputs": [],
   "source": [
    "! echo $IMAGE_DESCRIPTION\n",
    "! eups list -s lsst_distrib"
   ]
  },
  {
   "cell_type": "code",
   "execution_count": null,
   "id": "b7002c4d-b869-4560-9c7a-a535887daeef",
   "metadata": {
    "execution": {
     "iopub.execute_input": "2023-09-20T20:26:35.466181Z",
     "iopub.status.busy": "2023-09-20T20:26:35.466046Z",
     "iopub.status.idle": "2023-09-20T20:26:35.960337Z",
     "shell.execute_reply": "2023-09-20T20:26:35.959963Z",
     "shell.execute_reply.started": "2023-09-20T20:26:35.466162Z"
    },
    "tags": []
   },
   "outputs": [],
   "source": [
    "import os\n",
    "import matplotlib.pyplot as plt\n",
    "import matplotlib.colors as colors\n",
    "import matplotlib.cm as cmx\n",
    "import matplotlib.dates as mdates\n",
    "\n",
    "import numpy as np\n",
    "import pandas as pd\n",
    "%matplotlib inline\n",
    "from matplotlib.colors import LogNorm\n",
    "\n",
    "from mpl_toolkits.axes_grid1 import make_axes_locatable\n",
    "\n",
    "import matplotlib.ticker                         # here's where the formatter is\n",
    "from matplotlib.ticker import (MultipleLocator, FormatStrFormatter,\n",
    "                               AutoMinorLocator)\n",
    "\n",
    "from astropy.visualization import (MinMaxInterval, SqrtStretch,ZScaleInterval,PercentileInterval,\n",
    "                                   ImageNormalize,imshow_norm)\n",
    "from astropy.visualization.stretch import SinhStretch, LinearStretch,AsinhStretch,LogStretch\n"
   ]
  },
  {
   "cell_type": "code",
   "execution_count": null,
   "id": "d7c8c61f-5cfa-4c25-9a5a-97c2eb50fa29",
   "metadata": {
    "execution": {
     "iopub.execute_input": "2023-09-20T20:26:35.961052Z",
     "iopub.status.busy": "2023-09-20T20:26:35.960848Z",
     "iopub.status.idle": "2023-09-20T20:26:36.309453Z",
     "shell.execute_reply": "2023-09-20T20:26:36.309040Z",
     "shell.execute_reply.started": "2023-09-20T20:26:35.961038Z"
    },
    "tags": []
   },
   "outputs": [],
   "source": [
    "# LSST Display\n",
    "import lsst.afw.display as afwDisplay\n",
    "afw_display = afwDisplay.getDisplay(backend='firefly')"
   ]
  },
  {
   "cell_type": "code",
   "execution_count": null,
   "id": "7a36f8cd",
   "metadata": {
    "execution": {
     "iopub.execute_input": "2023-09-20T20:26:36.310200Z",
     "iopub.status.busy": "2023-09-20T20:26:36.309970Z",
     "iopub.status.idle": "2023-09-20T20:26:36.703399Z",
     "shell.execute_reply": "2023-09-20T20:26:36.702946Z",
     "shell.execute_reply.started": "2023-09-20T20:26:36.310186Z"
    },
    "tags": []
   },
   "outputs": [],
   "source": [
    "import lsst.daf.butler as dafButler\n",
    "from lsst.daf.butler import CollectionType"
   ]
  },
  {
   "cell_type": "code",
   "execution_count": null,
   "id": "283b515e-cfd2-4686-b7dc-15b6af7bdd2e",
   "metadata": {
    "execution": {
     "iopub.execute_input": "2023-09-20T20:26:36.704987Z",
     "iopub.status.busy": "2023-09-20T20:26:36.704849Z",
     "iopub.status.idle": "2023-09-20T20:26:39.199852Z",
     "shell.execute_reply": "2023-09-20T20:26:39.199404Z",
     "shell.execute_reply.started": "2023-09-20T20:26:36.704973Z"
    }
   },
   "outputs": [],
   "source": [
    "#repo = \"/sdf/group/rubin/repo/main\" # repo/main\n",
    "repo=\"/sdf/group/rubin/repo/oga/\"  # /repo/embargo\n",
    "butler = dafButler.Butler(repo)\n",
    "registry = butler.registry"
   ]
  },
  {
   "cell_type": "code",
   "execution_count": null,
   "id": "f2676824-f66f-4714-9a5d-39f9578401cd",
   "metadata": {
    "execution": {
     "iopub.execute_input": "2023-09-20T20:26:39.200463Z",
     "iopub.status.busy": "2023-09-20T20:26:39.200347Z",
     "iopub.status.idle": "2023-09-20T20:26:39.202674Z",
     "shell.execute_reply": "2023-09-20T20:26:39.202251Z",
     "shell.execute_reply.started": "2023-09-20T20:26:39.200452Z"
    }
   },
   "outputs": [],
   "source": [
    "import warnings\n",
    "warnings.filterwarnings(\"ignore\")"
   ]
  },
  {
   "cell_type": "markdown",
   "id": "4cc5fd44-019a-4b2f-9532-54a5ee7a5bd4",
   "metadata": {},
   "source": [
    "# Registry"
   ]
  },
  {
   "cell_type": "code",
   "execution_count": null,
   "id": "6e1fc938-a8b2-4b94-99b5-937806ac4de5",
   "metadata": {
    "execution": {
     "iopub.execute_input": "2023-09-20T20:26:39.203321Z",
     "iopub.status.busy": "2023-09-20T20:26:39.203138Z",
     "iopub.status.idle": "2023-09-20T20:26:39.207808Z",
     "shell.execute_reply": "2023-09-20T20:26:39.207453Z",
     "shell.execute_reply.started": "2023-09-20T20:26:39.203310Z"
    }
   },
   "outputs": [],
   "source": [
    "butler.registry.dimensions.getDatabaseElements()"
   ]
  },
  {
   "cell_type": "code",
   "execution_count": null,
   "id": "2d4890ad-93f6-468e-9cb5-11d16043dc24",
   "metadata": {
    "execution": {
     "iopub.execute_input": "2023-09-20T20:26:39.208452Z",
     "iopub.status.busy": "2023-09-20T20:26:39.208261Z",
     "iopub.status.idle": "2023-09-20T20:26:39.212358Z",
     "shell.execute_reply": "2023-09-20T20:26:39.212007Z",
     "shell.execute_reply.started": "2023-09-20T20:26:39.208441Z"
    }
   },
   "outputs": [],
   "source": [
    "print(butler.registry.dimensions[\"exposure\"].RecordClass.fields)"
   ]
  },
  {
   "cell_type": "code",
   "execution_count": null,
   "id": "2cc32363-866f-4f53-90d0-69c3b8fd92f1",
   "metadata": {
    "execution": {
     "iopub.execute_input": "2023-09-20T20:26:39.212937Z",
     "iopub.status.busy": "2023-09-20T20:26:39.212826Z",
     "iopub.status.idle": "2023-09-20T20:26:39.215612Z",
     "shell.execute_reply": "2023-09-20T20:26:39.215276Z",
     "shell.execute_reply.started": "2023-09-20T20:26:39.212927Z"
    }
   },
   "outputs": [],
   "source": [
    "print(butler.registry.dimensions[\"visit\"].RecordClass.fields)"
   ]
  },
  {
   "cell_type": "code",
   "execution_count": null,
   "id": "7c79afc9-906d-4fbc-8411-1aa2721b8adf",
   "metadata": {
    "execution": {
     "iopub.execute_input": "2023-09-20T20:26:39.216245Z",
     "iopub.status.busy": "2023-09-20T20:26:39.216063Z",
     "iopub.status.idle": "2023-09-20T20:26:39.220536Z",
     "shell.execute_reply": "2023-09-20T20:26:39.220142Z",
     "shell.execute_reply.started": "2023-09-20T20:26:39.216235Z"
    }
   },
   "outputs": [],
   "source": [
    "print(butler.registry.dimensions[\"physical_filter\"].RecordClass.fields)"
   ]
  },
  {
   "cell_type": "code",
   "execution_count": null,
   "id": "802fe2f4-e824-4d31-bcab-f2e19f0a1247",
   "metadata": {
    "execution": {
     "iopub.execute_input": "2023-09-20T20:26:39.221129Z",
     "iopub.status.busy": "2023-09-20T20:26:39.221019Z",
     "iopub.status.idle": "2023-09-20T20:26:39.223417Z",
     "shell.execute_reply": "2023-09-20T20:26:39.223087Z",
     "shell.execute_reply.started": "2023-09-20T20:26:39.221119Z"
    }
   },
   "outputs": [],
   "source": [
    "print(butler.registry.dimensions[\"tract\"].RecordClass.fields)"
   ]
  },
  {
   "cell_type": "markdown",
   "id": "7f4a3dde-da84-4f8c-94fd-b0332fb5d655",
   "metadata": {},
   "source": [
    "# Configuration"
   ]
  },
  {
   "cell_type": "code",
   "execution_count": null,
   "id": "1b7fa070-57bd-465d-9999-a6b366d5070a",
   "metadata": {
    "execution": {
     "iopub.execute_input": "2023-09-20T20:26:39.223991Z",
     "iopub.status.busy": "2023-09-20T20:26:39.223872Z",
     "iopub.status.idle": "2023-09-20T20:26:39.227878Z",
     "shell.execute_reply": "2023-09-20T20:26:39.227517Z",
     "shell.execute_reply.started": "2023-09-20T20:26:39.223981Z"
    },
    "tags": []
   },
   "outputs": [],
   "source": [
    "FLAG_PLOT=True"
   ]
  },
  {
   "cell_type": "code",
   "execution_count": null,
   "id": "ce90fb91-99b4-4e42-8637-365bd65fc0e1",
   "metadata": {
    "execution": {
     "iopub.execute_input": "2023-09-20T20:26:39.228452Z",
     "iopub.status.busy": "2023-09-20T20:26:39.228338Z",
     "iopub.status.idle": "2023-09-20T20:26:39.231007Z",
     "shell.execute_reply": "2023-09-20T20:26:39.230675Z",
     "shell.execute_reply.started": "2023-09-20T20:26:39.228442Z"
    },
    "tags": []
   },
   "outputs": [],
   "source": [
    "#DATE = 20230912\n",
    "#FILTER=\"cyl_lens~holo4_001\"\n",
    "#FILTER=\"cyl_lens~holo4_003\"\n",
    "\n",
    "#my_collection = \"u/dagoret/spectro/collimatorholo4003noflat/runs_20230912\"\n",
    "#FILTER=\"collimator~holo4_003\"\n",
    "#my_collection = \"u/dagoret/spectro/emptyholo4003noflat/runs_20230912\"\n",
    "#FILTER=\"empty~holo4_003\"\n",
    "#my_collection = \"u/dagoret/spectro/emptyholo4001noflat/runs_20230912\"\n",
    "#FILTER=\"empty~holo4_001\"\n",
    "\n",
    "\n",
    "#DATE = 20230913\n",
    "#my_collection = \"u/dagoret/spectro/collimatorholo4003noflat/runs_20230913\"\n",
    "#FILTER=\"collimator~holo4_003\"\n",
    "#my_collection = \"u/dagoret/spectro/emptyholo4003noflat/runs_20230913\"\n",
    "#FILTER=\"empty~holo4_003\"\n",
    "#my_collection = \"u/dagoret/spectro/emptyholo4001noflat/runs_20230913\"\n",
    "#FILTER=\"empt~holo4_001\"\n",
    "\n",
    "\n",
    "\n",
    "DATE = 20230914\n",
    "my_collection = \"u/dagoret/spectro/collimatorholo4003noflat/runs_20230914\"\n",
    "FILTER=\"collimator~holo4_003\"\n",
    "#my_collection = \"u/dagoret/spectro/emptyholo4003noflat/runs_20230914\"\n",
    "#FILTER=\"empty~holo4_003\"\n",
    "#my_collection = \"u/dagoret/spectro/emptyholo4001noflat/runs_20230914\"\n",
    "#FILTER=\"empty~holo4_001\"\n"
   ]
  },
  {
   "cell_type": "markdown",
   "id": "253a575f-e467-4b3d-ab0a-f26542f13dc1",
   "metadata": {},
   "source": [
    "# read list of exposures\n",
    "\n",
    "From the butler and the given user collection"
   ]
  },
  {
   "cell_type": "code",
   "execution_count": null,
   "id": "95e3d58c-1b48-48dd-830b-3cce91fccf2c",
   "metadata": {
    "execution": {
     "iopub.execute_input": "2023-09-20T20:26:39.231563Z",
     "iopub.status.busy": "2023-09-20T20:26:39.231446Z",
     "iopub.status.idle": "2023-09-20T20:26:39.254015Z",
     "shell.execute_reply": "2023-09-20T20:26:39.253650Z",
     "shell.execute_reply.started": "2023-09-20T20:26:39.231552Z"
    }
   },
   "outputs": [],
   "source": [
    "datasetRefs = registry.queryDatasets(datasetType='postISRCCD', collections=my_collection, where= \"instrument='LATISS'\")"
   ]
  },
  {
   "cell_type": "code",
   "execution_count": null,
   "id": "3bd1f8f2-580b-4131-8ea4-ed3a6391dd4b",
   "metadata": {
    "execution": {
     "iopub.execute_input": "2023-09-20T20:26:39.254638Z",
     "iopub.status.busy": "2023-09-20T20:26:39.254516Z",
     "iopub.status.idle": "2023-09-20T20:26:59.941064Z",
     "shell.execute_reply": "2023-09-20T20:26:59.940577Z",
     "shell.execute_reply.started": "2023-09-20T20:26:39.254627Z"
    }
   },
   "outputs": [],
   "source": [
    "all_dataId = []\n",
    "all_postisrccd  = []\n",
    "all_exposures = []\n",
    "for i, ref in enumerate(datasetRefs):\n",
    "   \n",
    "    print(f\"========({i})================datasetType = postISRCCD ============================================\")\n",
    "    print(\"fullId..................:\",ref.dataId.full)\n",
    "    print(\"exposure................:\",ref.dataId[\"exposure\"])\n",
    "    print(\"band....................:\",ref.dataId[\"band\"])\n",
    "    print(\"physical filter.........:\",ref.dataId[\"physical_filter\"])\n",
    "    print(\"run.....................:\",ref.run)\n",
    "    the_exposure = ref.dataId[\"exposure\"]\n",
    "    the_day_obs = ref.dataId[\"exposure\"]//100_000\n",
    "    the_seq_num = ref.dataId[\"exposure\"]- the_day_obs*100_000    \n",
    "    the_dataId = {'day_obs': the_day_obs,'seq_num':the_seq_num,'detector':0}\n",
    "    print(the_dataId)\n",
    "    #spec       = butler.get('spectraction',the_dataId)\n",
    "    postisrccd = butler.get('postISRCCD', exposure=the_exposure, detector=0, collections=my_collection, instrument='LATISS')\n",
    "    all_dataId.append(the_dataId) \n",
    "    all_exposures.append(the_exposure)\n",
    "    all_postisrccd.append(postisrccd)\n",
    "all_exposures = np.array(all_exposures)"
   ]
  },
  {
   "cell_type": "code",
   "execution_count": null,
   "id": "cd4155de-bc64-4bbd-a263-73fdc9f1f61d",
   "metadata": {
    "execution": {
     "iopub.execute_input": "2023-09-20T20:26:59.941863Z",
     "iopub.status.busy": "2023-09-20T20:26:59.941717Z",
     "iopub.status.idle": "2023-09-20T20:26:59.944238Z",
     "shell.execute_reply": "2023-09-20T20:26:59.943857Z",
     "shell.execute_reply.started": "2023-09-20T20:26:59.941850Z"
    }
   },
   "outputs": [],
   "source": [
    "N = len(all_postisrccd)"
   ]
  },
  {
   "cell_type": "code",
   "execution_count": null,
   "id": "41485a29-e286-4cb0-9024-1036f069237c",
   "metadata": {
    "execution": {
     "iopub.execute_input": "2023-09-20T20:26:59.944858Z",
     "iopub.status.busy": "2023-09-20T20:26:59.944740Z",
     "iopub.status.idle": "2023-09-20T20:26:59.949073Z",
     "shell.execute_reply": "2023-09-20T20:26:59.948745Z",
     "shell.execute_reply.started": "2023-09-20T20:26:59.944847Z"
    }
   },
   "outputs": [],
   "source": [
    "all_exposures_sortedindexes = np.argsort(all_exposures)"
   ]
  },
  {
   "cell_type": "code",
   "execution_count": null,
   "id": "fed9f4fd-b431-425b-9450-32a38e1bf3e8",
   "metadata": {
    "execution": {
     "iopub.execute_input": "2023-09-20T20:26:59.949649Z",
     "iopub.status.busy": "2023-09-20T20:26:59.949535Z",
     "iopub.status.idle": "2023-09-20T20:26:59.954644Z",
     "shell.execute_reply": "2023-09-20T20:26:59.954284Z",
     "shell.execute_reply.started": "2023-09-20T20:26:59.949638Z"
    }
   },
   "outputs": [],
   "source": [
    "all_exposures[all_exposures_sortedindexes]"
   ]
  },
  {
   "cell_type": "code",
   "execution_count": null,
   "id": "9ccccaec-c819-4881-8205-3cc2e52c7a6a",
   "metadata": {
    "execution": {
     "iopub.execute_input": "2023-09-20T20:26:59.955218Z",
     "iopub.status.busy": "2023-09-20T20:26:59.955104Z",
     "iopub.status.idle": "2023-09-20T20:26:59.957370Z",
     "shell.execute_reply": "2023-09-20T20:26:59.957037Z",
     "shell.execute_reply.started": "2023-09-20T20:26:59.955207Z"
    },
    "tags": []
   },
   "outputs": [],
   "source": [
    "#for idx in range(N):\n",
    "#    idx_sorted = all_exposures_sortedindexes[idx]\n",
    "#    dm_postisrccd = all_postisrccd[idx_sorted]\n",
    "#    dm_postisrccd_md = dict(dm_postisrccd.getMetadata())\n",
    "#    print(f\"==================={all_exposures[idx_sorted]}=======================\")\n",
    "#    print('LSST CALIB DATE BIAS :',dm_postisrccd_md['LSST CALIB DATE BIAS'])\n",
    "#    print('LSST CALIB UUID BIAS :',dm_postisrccd_md['LSST CALIB UUID BIAS']) \n",
    "#    print('LSST CALIB RUN BIAS  :',dm_postisrccd_md['LSST CALIB RUN BIAS'])\n",
    "#    print(\"-------\")\n",
    "#    print('LSST CALIB DATE DEFECTS :',dm_postisrccd_md['LSST CALIB DATE DEFECTS'])\n",
    "#    print('LSST CALIB UUID DEFECTS :',dm_postisrccd_md['LSST CALIB UUID DEFECTS']) \n",
    "#    print('LSST CALIB RUN DEFECTS  :',dm_postisrccd_md['LSST CALIB RUN DEFECTS'])"
   ]
  },
  {
   "cell_type": "markdown",
   "id": "b67586ea-b4bf-4959-87f3-b231320a5bf8",
   "metadata": {},
   "source": [
    "## Select flags options"
   ]
  },
  {
   "cell_type": "code",
   "execution_count": null,
   "id": "655de8b8-3109-4a63-bcc7-3be31e9a514d",
   "metadata": {
    "execution": {
     "iopub.execute_input": "2023-09-20T20:26:59.959513Z",
     "iopub.status.busy": "2023-09-20T20:26:59.959396Z",
     "iopub.status.idle": "2023-09-20T20:26:59.961962Z",
     "shell.execute_reply": "2023-09-20T20:26:59.961629Z",
     "shell.execute_reply.started": "2023-09-20T20:26:59.959502Z"
    },
    "tags": []
   },
   "outputs": [],
   "source": [
    "FLAG_ROTATE_IMG = True\n",
    "FLAG_TRANSFORM = True"
   ]
  },
  {
   "cell_type": "markdown",
   "id": "a6230ef7-ddeb-4430-af47-320b8f72c840",
   "metadata": {},
   "source": [
    "## Transformations\n",
    "astropy scale transformations"
   ]
  },
  {
   "cell_type": "code",
   "execution_count": null,
   "id": "257001ba-731c-4d13-bd0d-4c68a3cd6829",
   "metadata": {
    "execution": {
     "iopub.execute_input": "2023-09-20T20:26:59.962540Z",
     "iopub.status.busy": "2023-09-20T20:26:59.962425Z",
     "iopub.status.idle": "2023-09-20T20:26:59.965852Z",
     "shell.execute_reply": "2023-09-20T20:26:59.965522Z",
     "shell.execute_reply.started": "2023-09-20T20:26:59.962529Z"
    },
    "tags": []
   },
   "outputs": [],
   "source": [
    "transform = AsinhStretch() + PercentileInterval(99.)\n",
    "#transform = PercentileInterval(98.)"
   ]
  },
  {
   "cell_type": "code",
   "execution_count": null,
   "id": "864dad30-c42e-40d4-93b7-905ccb3f1274",
   "metadata": {
    "execution": {
     "iopub.execute_input": "2023-09-20T20:26:59.966436Z",
     "iopub.status.busy": "2023-09-20T20:26:59.966317Z",
     "iopub.status.idle": "2023-09-20T20:27:03.785100Z",
     "shell.execute_reply": "2023-09-20T20:27:03.784612Z",
     "shell.execute_reply.started": "2023-09-20T20:26:59.966425Z"
    },
    "tags": []
   },
   "outputs": [],
   "source": [
    "idx=10\n",
    "idx_sorted = all_exposures_sortedindexes[idx]\n",
    "dm_postisrccd = all_postisrccd[idx_sorted]\n",
    "dm_postisrccd_md = dict(dm_postisrccd.getMetadata())\n",
    "exposure_selected =all_exposures[idx_sorted]\n",
    "\n",
    "print(exposure_selected)\n",
    "raw_img= butler.get('raw', dataId={'exposure': exposure_selected, 'instrument': 'LATISS', 'detector': 0}, collections = ['LATISS/calib','LATISS/raw/all',] )\n",
    "meta = raw_img.getMetadata()\n",
    "md = meta.toDict()\n",
    "      \n",
    "the_object = md['OBJECT']\n",
    "the_am= md['AMSTART']\n",
    "the_filter=md['FILTER']"
   ]
  },
  {
   "cell_type": "code",
   "execution_count": null,
   "id": "1dc803d0-02a0-4e2b-8ff6-528bb52d1442",
   "metadata": {
    "execution": {
     "iopub.execute_input": "2023-09-20T20:27:03.785857Z",
     "iopub.status.busy": "2023-09-20T20:27:03.785709Z",
     "iopub.status.idle": "2023-09-20T20:27:04.212018Z",
     "shell.execute_reply": "2023-09-20T20:27:04.211545Z",
     "shell.execute_reply.started": "2023-09-20T20:27:03.785845Z"
    },
    "tags": []
   },
   "outputs": [],
   "source": [
    "afw_display.scale('linear', 'zscale',None)\n",
    "the_title = f\"{idx} :: dm postisrccd exposure : {exposure_selected}, target={the_object}, airmass={the_am:.2f}, filter={the_filter}\"\n",
    "#le titre ne marche pas avec firefly\n",
    "#afw_display.mtv(dm_postisrccd.image,title=the_title)\n",
    "afw_display.mtv(dm_postisrccd.image)"
   ]
  },
  {
   "cell_type": "code",
   "execution_count": null,
   "id": "fbefab28-7cb2-437c-a35f-65ff1ee6c460",
   "metadata": {
    "execution": {
     "iopub.execute_input": "2023-09-20T20:27:04.212795Z",
     "iopub.status.busy": "2023-09-20T20:27:04.212643Z",
     "iopub.status.idle": "2023-09-20T20:27:04.215297Z",
     "shell.execute_reply": "2023-09-20T20:27:04.214928Z",
     "shell.execute_reply.started": "2023-09-20T20:27:04.212782Z"
    },
    "tags": []
   },
   "outputs": [],
   "source": [
    "print(\"finished\")"
   ]
  },
  {
   "cell_type": "code",
   "execution_count": null,
   "id": "66da570b-da5c-464b-87ba-31ef16d14ac6",
   "metadata": {},
   "outputs": [],
   "source": []
  }
 ],
 "metadata": {
  "kernelspec": {
   "display_name": "LSST",
   "language": "python",
   "name": "lsst"
  },
  "language_info": {
   "codemirror_mode": {
    "name": "ipython",
    "version": 3
   },
   "file_extension": ".py",
   "mimetype": "text/x-python",
   "name": "python",
   "nbconvert_exporter": "python",
   "pygments_lexer": "ipython3",
   "version": "3.11.7"
  },
  "toc": {
   "base_numbering": 1,
   "nav_menu": {},
   "number_sections": true,
   "sideBar": true,
   "skip_h1_title": false,
   "title_cell": "Table of Contents",
   "title_sidebar": "Contents",
   "toc_cell": false,
   "toc_position": {},
   "toc_section_display": true,
   "toc_window_display": false
  }
 },
 "nbformat": 4,
 "nbformat_minor": 5
}
