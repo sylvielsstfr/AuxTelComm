{
 "cells": [
  {
   "cell_type": "markdown",
   "id": "dba0a7a1-779a-415f-b9b9-ef5ee53bdf0c",
   "metadata": {},
   "source": [
    "# Statistics on Spectra"
   ]
  },
  {
   "cell_type": "markdown",
   "id": "d94464bd-2be6-4c9a-b88c-ccb9dfb62e7b",
   "metadata": {},
   "source": [
    "- Author : Sylvie Dagoret-Campagne\n",
    "- creation date : 2024-01-16\n",
    "- last update : 2024-01-16\n",
    "- affiliation : IJCLab/IN2P3/CNRS"
   ]
  },
  {
   "cell_type": "code",
   "execution_count": 4,
   "id": "7b6a4bc0-06c4-41a4-bfe6-38e91c9ed325",
   "metadata": {
    "execution": {
     "iopub.execute_input": "2024-01-16T13:54:30.996551Z",
     "iopub.status.busy": "2024-01-16T13:54:30.996334Z",
     "iopub.status.idle": "2024-01-16T13:54:30.999387Z",
     "shell.execute_reply": "2024-01-16T13:54:30.999004Z",
     "shell.execute_reply.started": "2024-01-16T13:54:30.996535Z"
    }
   },
   "outputs": [],
   "source": [
    "import matplotlib.pyplot as plt\n",
    "import matplotlib as mpl\n",
    "import matplotlib.dates as mdates\n",
    "import numpy as np\n",
    "import pandas as pd\n",
    "import matplotlib.gridspec as gridspec\n",
    "from spectractor.tools import from_lambda_to_colormap, wavelength_to_rgb\n",
    "#%matplotlib widget \n",
    "import h5py\n",
    "from scipy import interpolate\n",
    "from astropy.time import Time"
   ]
  },
  {
   "cell_type": "code",
   "execution_count": 2,
   "id": "aad107c9-29ff-49ec-90e7-42e9717bb682",
   "metadata": {
    "execution": {
     "iopub.execute_input": "2024-01-16T13:53:44.097867Z",
     "iopub.status.busy": "2024-01-16T13:53:44.097665Z",
     "iopub.status.idle": "2024-01-16T13:53:44.103299Z",
     "shell.execute_reply": "2024-01-16T13:53:44.102909Z",
     "shell.execute_reply.started": "2024-01-16T13:53:44.097854Z"
    }
   },
   "outputs": [],
   "source": [
    "import matplotlib.ticker\n",
    "%matplotlib inline"
   ]
  },
  {
   "cell_type": "code",
   "execution_count": 3,
   "id": "f62c38fe-46be-4bde-b1f7-5770d26b6db4",
   "metadata": {
    "execution": {
     "iopub.execute_input": "2024-01-16T13:54:06.470835Z",
     "iopub.status.busy": "2024-01-16T13:54:06.470536Z",
     "iopub.status.idle": "2024-01-16T13:54:06.473933Z",
     "shell.execute_reply": "2024-01-16T13:54:06.473527Z",
     "shell.execute_reply.started": "2024-01-16T13:54:06.470813Z"
    }
   },
   "outputs": [],
   "source": [
    "plt.rcParams[\"figure.figsize\"] = (18,8)\n",
    "plt.rcParams[\"axes.labelsize\"] = 'xx-large'\n",
    "plt.rcParams['axes.titlesize'] = 'xx-large'\n",
    "plt.rcParams['xtick.labelsize']= 'xx-large'\n",
    "plt.rcParams['ytick.labelsize']= 'xx-large'\n",
    "plt.rcParams['legend.fontsize']=  12\n",
    "plt.rcParams['font.size'] = 12"
   ]
  },
  {
   "cell_type": "markdown",
   "id": "c514aaa5-719c-4a53-9ec0-0d785c0ee861",
   "metadata": {},
   "source": [
    "# Read pandas Series"
   ]
  },
  {
   "cell_type": "code",
   "execution_count": 5,
   "id": "871bff64-ddb1-4bc8-bea4-675b56626a8c",
   "metadata": {
    "execution": {
     "iopub.execute_input": "2024-01-16T13:55:05.734893Z",
     "iopub.status.busy": "2024-01-16T13:55:05.734702Z",
     "iopub.status.idle": "2024-01-16T13:55:05.954603Z",
     "shell.execute_reply": "2024-01-16T13:55:05.953985Z",
     "shell.execute_reply.started": "2024-01-16T13:55:05.734880Z"
    }
   },
   "outputs": [
    {
     "name": "stdout",
     "output_type": "stream",
     "text": [
      "spec_series_repo_embargo.csv  spec_series_repo_main.csv\n"
     ]
    }
   ],
   "source": [
    "!ls Data_Auxtel_Spectro/"
   ]
  },
  {
   "cell_type": "code",
   "execution_count": 14,
   "id": "f9b5b6e0-6b87-4293-847d-ec62140f0fb1",
   "metadata": {
    "execution": {
     "iopub.execute_input": "2024-01-16T13:59:57.347989Z",
     "iopub.status.busy": "2024-01-16T13:59:57.347542Z",
     "iopub.status.idle": "2024-01-16T13:59:57.350154Z",
     "shell.execute_reply": "2024-01-16T13:59:57.349789Z",
     "shell.execute_reply.started": "2024-01-16T13:59:57.347974Z"
    }
   },
   "outputs": [],
   "source": [
    "files = [ \"Data_Auxtel_Spectro/spec_series_repo_main.csv\" , \"Data_Auxtel_Spectro/spec_series_repo_embargo.csv\"  ]\n",
    "N = len(files)"
   ]
  },
  {
   "cell_type": "code",
   "execution_count": 15,
   "id": "3bc57f4a-b404-444b-bbd1-2c744cb2c36d",
   "metadata": {
    "execution": {
     "iopub.execute_input": "2024-01-16T13:59:59.601495Z",
     "iopub.status.busy": "2024-01-16T13:59:59.600926Z",
     "iopub.status.idle": "2024-01-16T13:59:59.607201Z",
     "shell.execute_reply": "2024-01-16T13:59:59.606830Z",
     "shell.execute_reply.started": "2024-01-16T13:59:59.601481Z"
    }
   },
   "outputs": [],
   "source": [
    "all_df = [pd.read_csv(files[idx], index_col=0, header=0) for idx in range(N)]"
   ]
  },
  {
   "cell_type": "code",
   "execution_count": 16,
   "id": "394d22b8-a6ea-4fe2-893e-6a2dcc86d5d6",
   "metadata": {
    "execution": {
     "iopub.execute_input": "2024-01-16T14:00:13.276946Z",
     "iopub.status.busy": "2024-01-16T14:00:13.276741Z",
     "iopub.status.idle": "2024-01-16T14:00:13.280338Z",
     "shell.execute_reply": "2024-01-16T14:00:13.279943Z",
     "shell.execute_reply.started": "2024-01-16T14:00:13.276933Z"
    }
   },
   "outputs": [],
   "source": [
    "df = pd.concat(all_df)"
   ]
  },
  {
   "cell_type": "code",
   "execution_count": 18,
   "id": "d8eaec36-7c76-42e6-8507-1a9794d76ec2",
   "metadata": {
    "execution": {
     "iopub.execute_input": "2024-01-16T14:01:41.269709Z",
     "iopub.status.busy": "2024-01-16T14:01:41.269329Z",
     "iopub.status.idle": "2024-01-16T14:01:41.273396Z",
     "shell.execute_reply": "2024-01-16T14:01:41.273112Z",
     "shell.execute_reply.started": "2024-01-16T14:01:41.269694Z"
    }
   },
   "outputs": [
    {
     "data": {
      "text/html": [
       "<div>\n",
       "<style scoped>\n",
       "    .dataframe tbody tr th:only-of-type {\n",
       "        vertical-align: middle;\n",
       "    }\n",
       "\n",
       "    .dataframe tbody tr th {\n",
       "        vertical-align: top;\n",
       "    }\n",
       "\n",
       "    .dataframe thead th {\n",
       "        text-align: right;\n",
       "    }\n",
       "</style>\n",
       "<table border=\"1\" class=\"dataframe\">\n",
       "  <thead>\n",
       "    <tr style=\"text-align: right;\">\n",
       "      <th></th>\n",
       "      <th>countVisitperBandperNight</th>\n",
       "    </tr>\n",
       "    <tr>\n",
       "      <th>day_obs</th>\n",
       "      <th></th>\n",
       "    </tr>\n",
       "  </thead>\n",
       "  <tbody>\n",
       "    <tr>\n",
       "      <th>20210218</th>\n",
       "      <td>12</td>\n",
       "    </tr>\n",
       "    <tr>\n",
       "      <th>20210707</th>\n",
       "      <td>46</td>\n",
       "    </tr>\n",
       "    <tr>\n",
       "      <th>20210908</th>\n",
       "      <td>55</td>\n",
       "    </tr>\n",
       "    <tr>\n",
       "      <th>20210909</th>\n",
       "      <td>55</td>\n",
       "    </tr>\n",
       "    <tr>\n",
       "      <th>20211005</th>\n",
       "      <td>18</td>\n",
       "    </tr>\n",
       "  </tbody>\n",
       "</table>\n",
       "</div>"
      ],
      "text/plain": [
       "          countVisitperBandperNight\n",
       "day_obs                            \n",
       "20210218                         12\n",
       "20210707                         46\n",
       "20210908                         55\n",
       "20210909                         55\n",
       "20211005                         18"
      ]
     },
     "execution_count": 18,
     "metadata": {},
     "output_type": "execute_result"
    }
   ],
   "source": [
    "df.head()"
   ]
  },
  {
   "cell_type": "markdown",
   "id": "2dcf3434-5c52-4044-b8e9-eed900fda8fe",
   "metadata": {
    "execution": {
     "iopub.execute_input": "2024-01-16T13:57:48.164851Z",
     "iopub.status.busy": "2024-01-16T13:57:48.164658Z",
     "iopub.status.idle": "2024-01-16T13:57:48.168090Z",
     "shell.execute_reply": "2024-01-16T13:57:48.167605Z",
     "shell.execute_reply.started": "2024-01-16T13:57:48.164837Z"
    }
   },
   "source": [
    "## compute"
   ]
  },
  {
   "cell_type": "code",
   "execution_count": 20,
   "id": "05af4a30-e181-49d8-94c4-5968acaf4e6f",
   "metadata": {
    "execution": {
     "iopub.execute_input": "2024-01-16T14:02:49.988385Z",
     "iopub.status.busy": "2024-01-16T14:02:49.988187Z",
     "iopub.status.idle": "2024-01-16T14:02:49.991456Z",
     "shell.execute_reply": "2024-01-16T14:02:49.991160Z",
     "shell.execute_reply.started": "2024-01-16T14:02:49.988372Z"
    }
   },
   "outputs": [],
   "source": [
    "def convertNumToDatestr(num):\n",
    "    year = num//10_000\n",
    "    month= (num-year*10_000)//100\n",
    "    day = (num-year*10_000-month*100)\n",
    "\n",
    "    year_str = str(year).zfill(4)\n",
    "    month_str = str(month).zfill(2)\n",
    "    day_str = str(day).zfill(2)\n",
    "    \n",
    "    datestr = f\"{year_str}-{month_str}-{day_str}\"\n",
    "    return pd.to_datetime(datestr)"
   ]
  },
  {
   "cell_type": "code",
   "execution_count": null,
   "id": "ff0127df-4fd4-4dcd-bb7e-ebb75cc1471a",
   "metadata": {},
   "outputs": [],
   "source": []
  },
  {
   "cell_type": "code",
   "execution_count": 21,
   "id": "229e6b43-64ae-485d-b4f0-a29d4708ccb6",
   "metadata": {
    "execution": {
     "iopub.execute_input": "2024-01-16T14:02:57.278189Z",
     "iopub.status.busy": "2024-01-16T14:02:57.277868Z",
     "iopub.status.idle": "2024-01-16T14:02:57.285642Z",
     "shell.execute_reply": "2024-01-16T14:02:57.285341Z",
     "shell.execute_reply.started": "2024-01-16T14:02:57.278164Z"
    }
   },
   "outputs": [],
   "source": [
    "df[\"dateobs\"] = [ convertNumToDatestr(num) for num in df.index ]"
   ]
  },
  {
   "cell_type": "code",
   "execution_count": 22,
   "id": "bf32ded4-7de1-402d-bf74-f5c730a66993",
   "metadata": {
    "execution": {
     "iopub.execute_input": "2024-01-16T14:03:02.527883Z",
     "iopub.status.busy": "2024-01-16T14:03:02.527697Z",
     "iopub.status.idle": "2024-01-16T14:03:02.532502Z",
     "shell.execute_reply": "2024-01-16T14:03:02.532224Z",
     "shell.execute_reply.started": "2024-01-16T14:03:02.527870Z"
    }
   },
   "outputs": [
    {
     "data": {
      "text/html": [
       "<div>\n",
       "<style scoped>\n",
       "    .dataframe tbody tr th:only-of-type {\n",
       "        vertical-align: middle;\n",
       "    }\n",
       "\n",
       "    .dataframe tbody tr th {\n",
       "        vertical-align: top;\n",
       "    }\n",
       "\n",
       "    .dataframe thead th {\n",
       "        text-align: right;\n",
       "    }\n",
       "</style>\n",
       "<table border=\"1\" class=\"dataframe\">\n",
       "  <thead>\n",
       "    <tr style=\"text-align: right;\">\n",
       "      <th></th>\n",
       "      <th>countVisitperBandperNight</th>\n",
       "      <th>dateobs</th>\n",
       "    </tr>\n",
       "    <tr>\n",
       "      <th>day_obs</th>\n",
       "      <th></th>\n",
       "      <th></th>\n",
       "    </tr>\n",
       "  </thead>\n",
       "  <tbody>\n",
       "    <tr>\n",
       "      <th>20210218</th>\n",
       "      <td>12</td>\n",
       "      <td>2021-02-18</td>\n",
       "    </tr>\n",
       "    <tr>\n",
       "      <th>20210707</th>\n",
       "      <td>46</td>\n",
       "      <td>2021-07-07</td>\n",
       "    </tr>\n",
       "    <tr>\n",
       "      <th>20210908</th>\n",
       "      <td>55</td>\n",
       "      <td>2021-09-08</td>\n",
       "    </tr>\n",
       "    <tr>\n",
       "      <th>20210909</th>\n",
       "      <td>55</td>\n",
       "      <td>2021-09-09</td>\n",
       "    </tr>\n",
       "    <tr>\n",
       "      <th>20211005</th>\n",
       "      <td>18</td>\n",
       "      <td>2021-10-05</td>\n",
       "    </tr>\n",
       "  </tbody>\n",
       "</table>\n",
       "</div>"
      ],
      "text/plain": [
       "          countVisitperBandperNight    dateobs\n",
       "day_obs                                       \n",
       "20210218                         12 2021-02-18\n",
       "20210707                         46 2021-07-07\n",
       "20210908                         55 2021-09-08\n",
       "20210909                         55 2021-09-09\n",
       "20211005                         18 2021-10-05"
      ]
     },
     "execution_count": 22,
     "metadata": {},
     "output_type": "execute_result"
    }
   ],
   "source": [
    "df.head()"
   ]
  },
  {
   "cell_type": "code",
   "execution_count": 23,
   "id": "5dcc5dbd-09e5-47c9-b528-33accba27890",
   "metadata": {
    "execution": {
     "iopub.execute_input": "2024-01-16T14:04:26.261767Z",
     "iopub.status.busy": "2024-01-16T14:04:26.261281Z",
     "iopub.status.idle": "2024-01-16T14:04:26.264453Z",
     "shell.execute_reply": "2024-01-16T14:04:26.264110Z",
     "shell.execute_reply.started": "2024-01-16T14:04:26.261750Z"
    }
   },
   "outputs": [],
   "source": [
    "df[\"cumsum\"] = df[\"countVisitperBandperNight\"].cumsum()"
   ]
  },
  {
   "cell_type": "code",
   "execution_count": 24,
   "id": "8b767268-6e10-4467-a4d8-11838aa88d9d",
   "metadata": {
    "execution": {
     "iopub.execute_input": "2024-01-16T14:04:40.243879Z",
     "iopub.status.busy": "2024-01-16T14:04:40.243688Z",
     "iopub.status.idle": "2024-01-16T14:04:40.248496Z",
     "shell.execute_reply": "2024-01-16T14:04:40.248162Z",
     "shell.execute_reply.started": "2024-01-16T14:04:40.243866Z"
    }
   },
   "outputs": [
    {
     "data": {
      "text/html": [
       "<div>\n",
       "<style scoped>\n",
       "    .dataframe tbody tr th:only-of-type {\n",
       "        vertical-align: middle;\n",
       "    }\n",
       "\n",
       "    .dataframe tbody tr th {\n",
       "        vertical-align: top;\n",
       "    }\n",
       "\n",
       "    .dataframe thead th {\n",
       "        text-align: right;\n",
       "    }\n",
       "</style>\n",
       "<table border=\"1\" class=\"dataframe\">\n",
       "  <thead>\n",
       "    <tr style=\"text-align: right;\">\n",
       "      <th></th>\n",
       "      <th>countVisitperBandperNight</th>\n",
       "      <th>dateobs</th>\n",
       "      <th>cumsum</th>\n",
       "    </tr>\n",
       "    <tr>\n",
       "      <th>day_obs</th>\n",
       "      <th></th>\n",
       "      <th></th>\n",
       "      <th></th>\n",
       "    </tr>\n",
       "  </thead>\n",
       "  <tbody>\n",
       "    <tr>\n",
       "      <th>20210218</th>\n",
       "      <td>12</td>\n",
       "      <td>2021-02-18</td>\n",
       "      <td>12</td>\n",
       "    </tr>\n",
       "    <tr>\n",
       "      <th>20210707</th>\n",
       "      <td>46</td>\n",
       "      <td>2021-07-07</td>\n",
       "      <td>58</td>\n",
       "    </tr>\n",
       "    <tr>\n",
       "      <th>20210908</th>\n",
       "      <td>55</td>\n",
       "      <td>2021-09-08</td>\n",
       "      <td>113</td>\n",
       "    </tr>\n",
       "    <tr>\n",
       "      <th>20210909</th>\n",
       "      <td>55</td>\n",
       "      <td>2021-09-09</td>\n",
       "      <td>168</td>\n",
       "    </tr>\n",
       "    <tr>\n",
       "      <th>20211005</th>\n",
       "      <td>18</td>\n",
       "      <td>2021-10-05</td>\n",
       "      <td>186</td>\n",
       "    </tr>\n",
       "  </tbody>\n",
       "</table>\n",
       "</div>"
      ],
      "text/plain": [
       "          countVisitperBandperNight    dateobs  cumsum\n",
       "day_obs                                               \n",
       "20210218                         12 2021-02-18      12\n",
       "20210707                         46 2021-07-07      58\n",
       "20210908                         55 2021-09-08     113\n",
       "20210909                         55 2021-09-09     168\n",
       "20211005                         18 2021-10-05     186"
      ]
     },
     "execution_count": 24,
     "metadata": {},
     "output_type": "execute_result"
    }
   ],
   "source": [
    "df.head()"
   ]
  },
  {
   "cell_type": "code",
   "execution_count": 27,
   "id": "f3e9c313-41cf-46e5-9b2f-1815402f8919",
   "metadata": {
    "execution": {
     "iopub.execute_input": "2024-01-16T14:07:26.344218Z",
     "iopub.status.busy": "2024-01-16T14:07:26.344033Z",
     "iopub.status.idle": "2024-01-16T14:07:31.538227Z",
     "shell.execute_reply": "2024-01-16T14:07:31.537793Z",
     "shell.execute_reply.started": "2024-01-16T14:07:26.344202Z"
    }
   },
   "outputs": [
    {
     "data": {
      "image/png": "[encoded data removed]",
      "text/plain": [
       "<Figure size 1800x600 with 2 Axes>"
      ]
     },
     "metadata": {},
     "output_type": "display_data"
    }
   ],
   "source": [
    "import matplotlib.dates as mdates\n",
    "month_locator = mdates.MonthLocator(interval=1)\n",
    "day_locator = mdates.DayLocator(interval=1)\n",
    "year_month_formatter = mdates.DateFormatter(\"%Y-%m\") \n",
    "fig, (ax1,ax2) = plt.subplots(2,1,figsize=(18, 6),sharex=True)\n",
    "\n",
    "\n",
    "# fit 1\n",
    "#ax.plot(dt,df_spec_visit.values,marker='o', markersize=15,lw=0)\n",
    "ax1.bar(df[\"dateobs\"],df[\"countVisitperBandperNight\"],lw=5,facecolor='r')\n",
    "ax1.xaxis.set_major_locator(month_locator) # Locator for major axis only.\n",
    "ax1.xaxis.set_minor_locator(day_locator)\n",
    "ax1.xaxis.set_major_formatter(year_month_formatter)\n",
    "ax1.grid()\n",
    "\n",
    "minnspec= df[\"countVisitperBandperNight\"].min()\n",
    "maxnspec= df[\"countVisitperBandperNight\"].max()\n",
    "totnspec= df[\"countVisitperBandperNight\"].sum()\n",
    "title1 = f\"number of rec spectra per night (min={minnspec}, max ={maxnspec})\"\n",
    "ax1.set_title(title1)\n",
    "\n",
    "#fig.autofmt_xdate() # rotation\n",
    "ax1.set_xticks(ax1.get_xticks(), ax1.get_xticklabels(), rotation=45, ha='right')\n",
    "\n",
    "#ax2.bar(dt,df_spec_visit.cumsum().values,lw=5,facecolor='b')\n",
    "ax2.bar(df[\"dateobs\"],df[\"cumsum\"],lw=5,facecolor='b')\n",
    "ax2.xaxis.set_major_locator(month_locator) # Locator for major axis only.\n",
    "ax2.xaxis.set_minor_locator(day_locator)\n",
    "ax2.xaxis.set_major_formatter(year_month_formatter)\n",
    "ax2.grid()\n",
    "\n",
    "#fig.autofmt_xdate() # rotation\n",
    "ax2.set_xticks(ax2.get_xticks(), ax2.get_xticklabels(), rotation=45, ha='right')\n",
    "title2 = f\"cumulated number of rec spectra ntot = {totnspec})\"\n",
    "ax2.set_title(title2)\n",
    "\n",
    "plt.tight_layout()"
   ]
  },
  {
   "cell_type": "code",
   "execution_count": null,
   "id": "b82d49d4-e134-4cc7-8442-93a30d47588c",
   "metadata": {},
   "outputs": [],
   "source": []
  }
 ],
 "metadata": {
  "kernelspec": {
   "display_name": "LSST",
   "language": "python",
   "name": "lsst"
  },
  "language_info": {
   "codemirror_mode": {
    "name": "ipython",
    "version": 3
   },
   "file_extension": ".py",
   "mimetype": "text/x-python",
   "name": "python",
   "nbconvert_exporter": "python",
   "pygments_lexer": "ipython3",
   "version": "3.11.4"
  }
 },
 "nbformat": 4,
 "nbformat_minor": 5
}
