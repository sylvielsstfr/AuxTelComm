{
 "cells": [
  {
   "cell_type": "markdown",
   "id": "0b8c2138-5194-4d03-8b77-be24e2cc8ee3",
   "metadata": {},
   "source": [
    "# Query for existing collections in OGA"
   ]
  },
  {
   "cell_type": "markdown",
   "id": "740e34fb-3fef-45a8-941b-c229742ab016",
   "metadata": {},
   "source": [
    " work with Weakly_2022_39\n",
    "- use jupyter kernel LSST\n",
    "\n",
    "- author : Sylvie Dagoret-Campagne\n",
    "- affiliation : IJCLab\n",
    "- creation date : 2022/10/26"
   ]
  },
  {
   "cell_type": "code",
   "execution_count": 1,
   "id": "ed2c3410-fe83-432e-ab87-9f4513fa8d8b",
   "metadata": {},
   "outputs": [
    {
     "name": "stdout",
     "output_type": "stream",
     "text": [
      "atmospec              LOCAL:/home/d/dagoret/repos/repos_w_2022_39/atmospec \tsetup\n",
      "drp_pipe              LOCAL:/home/d/dagoret/repos/repos_w_2022_39/drp_pipe \tsetup\n",
      "eups                  LOCAL:/opt/lsst/software/stack/conda/miniconda3-py38_4.9.2/envs/lsst-scipipe-4.1.0/eups \tsetup\n",
      "summit_utils          LOCAL:/home/d/dagoret/repos/repos_w_2022_39/summit_utils \tsetup\n"
     ]
    }
   ],
   "source": [
    "! eups list -s | grep LOCAL"
   ]
  },
  {
   "cell_type": "code",
   "execution_count": 2,
   "id": "70918d81-0cf6-4b0a-8f61-f5e5bec5b0e7",
   "metadata": {},
   "outputs": [
    {
     "name": "stdout",
     "output_type": "stream",
     "text": [
      "   g0b29ad24fb+a10408d0bf \tcurrent w_2022_39 setup\n"
     ]
    }
   ],
   "source": [
    "! eups list -s lsst_distrib"
   ]
  },
  {
   "cell_type": "code",
   "execution_count": 3,
   "id": "f8d9cfca-5881-48c1-b2cb-0f794a2e4091",
   "metadata": {},
   "outputs": [],
   "source": [
    "import lsst.daf.butler as dafButler"
   ]
  },
  {
   "cell_type": "code",
   "execution_count": 4,
   "id": "1c81d99a-5e91-4ba1-ba4a-c66b37905b98",
   "metadata": {},
   "outputs": [],
   "source": [
    "#repo =  \"/sdf/group/rubin/repo/main\"\n",
    "repo = \"/sdf/group/rubin/repo/oga/\"\n",
    "butler = dafButler.Butler(repo)\n",
    "registry = butler.registry"
   ]
  },
  {
   "cell_type": "code",
   "execution_count": 5,
   "id": "2ec90d56-d827-4ab5-a289-5a256527f23e",
   "metadata": {},
   "outputs": [
    {
     "name": "stdout",
     "output_type": "stream",
     "text": [
      "u/dagoret/spectro/noflat/empty~holo4/20220912\n",
      "u/dagoret/spectro/noflat/empty~holo4/20220912/20221026T095917Z\n",
      "u/dagoret/spectro/noflat/empty~holo4/20220912/20221026T100113Z\n",
      "u/dagoret/spectro/noflat/empty~holo4/20220912/20221026T101538Z\n",
      "u/dagoret/spectro/noflat/empty~holo4/20220912/20221026T103226Z\n",
      "u/dagoret/spectro/noflat/empty~holo4/20220912/20221026T111537Z\n",
      "u/dagoret/spectro/noflat/empty~holo4/20220912/20221026T111705Z\n",
      "u/dagoret/spectro/noflat/empty~holo4/20220912/20221026T113943Z\n",
      "u/dagoret/spectro/noflat/empty~holo4/20220912/20221026T124155Z\n",
      "u/dagoret/spectro/noflat/empty~holo4/20220912/20221026T125817Z\n",
      "u/dagoret/spectro/noflat/empty~holo4/20220912/20221026T131243Z\n",
      "u/dagoret/spectro/noflat/empty~holo4/20220912/20221026T131356Z\n"
     ]
    }
   ],
   "source": [
    "for c in sorted(registry.queryCollections()):\n",
    "    if \"u/dagoret\" in c:\n",
    "        print(c)"
   ]
  },
  {
   "cell_type": "code",
   "execution_count": 6,
   "id": "7df1993e-e932-4d7b-92ca-df6a72d40e21",
   "metadata": {},
   "outputs": [
    {
     "name": "stdout",
     "output_type": "stream",
     "text": [
      "u/dagoret/spectro/noflat/empty~holo4/20220912\n",
      "u/dagoret/spectro/noflat/empty~holo4/20220912/20221026T095917Z\n",
      "u/dagoret/spectro/noflat/empty~holo4/20220912/20221026T100113Z\n",
      "u/dagoret/spectro/noflat/empty~holo4/20220912/20221026T101538Z\n",
      "u/dagoret/spectro/noflat/empty~holo4/20220912/20221026T103226Z\n",
      "u/dagoret/spectro/noflat/empty~holo4/20220912/20221026T111537Z\n",
      "u/dagoret/spectro/noflat/empty~holo4/20220912/20221026T111705Z\n",
      "u/dagoret/spectro/noflat/empty~holo4/20220912/20221026T113943Z\n",
      "u/dagoret/spectro/noflat/empty~holo4/20220912/20221026T124155Z\n",
      "u/dagoret/spectro/noflat/empty~holo4/20220912/20221026T125817Z\n",
      "u/dagoret/spectro/noflat/empty~holo4/20220912/20221026T131243Z\n",
      "u/dagoret/spectro/noflat/empty~holo4/20220912/20221026T131356Z\n"
     ]
    }
   ],
   "source": [
    "for c in sorted(registry.queryCollections()):\n",
    "    if \"u/dagoret/spectro/noflat\" in c:\n",
    "        print(c)"
   ]
  },
  {
   "cell_type": "code",
   "execution_count": 7,
   "id": "78619165-644b-4faf-b71f-62f28ad74906",
   "metadata": {},
   "outputs": [],
   "source": [
    "my_collection = \"u/dagoret/spectro/noflat/empty~holo4/20220912\""
   ]
  },
  {
   "cell_type": "code",
   "execution_count": 8,
   "id": "6705e82a-633d-4243-b9d9-3385f74ab637",
   "metadata": {},
   "outputs": [],
   "source": [
    "refs_ds=list(butler.registry.queryDatasets(datasetType='spectraction',collections=my_collection))"
   ]
  },
  {
   "cell_type": "code",
   "execution_count": 9,
   "id": "d5747fb0-2884-4fe0-bc13-6c479db7b1e5",
   "metadata": {},
   "outputs": [
    {
     "data": {
      "text/plain": [
       "[DatasetRef(DatasetType('spectraction', {band, instrument, detector, physical_filter, visit}, Spectraction), {instrument: 'LATISS', detector: 0, visit: 2022091200106, ...}, id=b3253d52-7f5c-41fa-af42-4533f274d952, run='u/dagoret/spectro/noflat/empty~holo4/20220912/20221026T100113Z'),\n",
       " DatasetRef(DatasetType('spectraction', {band, instrument, detector, physical_filter, visit}, Spectraction), {instrument: 'LATISS', detector: 0, visit: 2022091200107, ...}, id=dd949020-74e6-496c-ba7c-f2aede54d475, run='u/dagoret/spectro/noflat/empty~holo4/20220912/20221026T101538Z'),\n",
       " DatasetRef(DatasetType('spectraction', {band, instrument, detector, physical_filter, visit}, Spectraction), {instrument: 'LATISS', detector: 0, visit: 2022091200113, ...}, id=89a2c4b3-a7d1-4e9d-b2e5-686441e6b9d9, run='u/dagoret/spectro/noflat/empty~holo4/20220912/20221026T103226Z'),\n",
       " DatasetRef(DatasetType('spectraction', {band, instrument, detector, physical_filter, visit}, Spectraction), {instrument: 'LATISS', detector: 0, visit: 2022091200121, ...}, id=b0e1ec77-ae6f-48b5-ac4b-0ae086a03d71, run='u/dagoret/spectro/noflat/empty~holo4/20220912/20221026T111705Z'),\n",
       " DatasetRef(DatasetType('spectraction', {band, instrument, detector, physical_filter, visit}, Spectraction), {instrument: 'LATISS', detector: 0, visit: 2022091200122, ...}, id=5fb0a2b8-e9d8-4808-a8f5-c0f4a571dae7, run='u/dagoret/spectro/noflat/empty~holo4/20220912/20221026T113943Z'),\n",
       " DatasetRef(DatasetType('spectraction', {band, instrument, detector, physical_filter, visit}, Spectraction), {instrument: 'LATISS', detector: 0, visit: 2022091200128, ...}, id=2051f2eb-cdb2-4de8-bc34-682b6e1074d8, run='u/dagoret/spectro/noflat/empty~holo4/20220912/20221026T124155Z'),\n",
       " DatasetRef(DatasetType('spectraction', {band, instrument, detector, physical_filter, visit}, Spectraction), {instrument: 'LATISS', detector: 0, visit: 2022091200129, ...}, id=20cbf1dd-f95b-42c5-84bf-3cda9d71d75f, run='u/dagoret/spectro/noflat/empty~holo4/20220912/20221026T125817Z')]"
      ]
     },
     "execution_count": 9,
     "metadata": {},
     "output_type": "execute_result"
    }
   ],
   "source": [
    "refs_ds"
   ]
  },
  {
   "cell_type": "code",
   "execution_count": 10,
   "id": "6bae6497-14fd-49a1-8878-f7929f8460c2",
   "metadata": {},
   "outputs": [],
   "source": [
    "#import lsst.summit.utils.butlerUtils as butlerUtils"
   ]
  },
  {
   "cell_type": "code",
   "execution_count": 24,
   "id": "dca78d4f-ca59-4ea4-940c-be1812634e97",
   "metadata": {},
   "outputs": [],
   "source": [
    "#butler =butlerUtils.makeDefaultLatissButler(extraCollections=[my_collection,])\n",
    "# probably not working with OGA"
   ]
  },
  {
   "cell_type": "code",
   "execution_count": 25,
   "id": "2303a002-d12e-4e5e-8e7e-e8ee5b3d9b0d",
   "metadata": {},
   "outputs": [],
   "source": [
    "dataId = {'day_obs': 20220912,'seq_num':106,'instrument':'LATISS','detector':0}"
   ]
  },
  {
   "cell_type": "code",
   "execution_count": 28,
   "id": "2f084737-c5a3-4930-b7d3-b7127dae9516",
   "metadata": {},
   "outputs": [],
   "source": [
    "# with butler utils :\n",
    "#butler.get('spectraction',dataId)"
   ]
  },
  {
   "cell_type": "code",
   "execution_count": 29,
   "id": "32c7155b-8f5c-4bfb-a00f-05899e109289",
   "metadata": {},
   "outputs": [],
   "source": [
    "# without butler utils\n",
    "spec= butler.get('spectraction',dataId,collections=my_collection)"
   ]
  },
  {
   "cell_type": "code",
   "execution_count": 30,
   "id": "11cf1aca-4727-4a93-8af6-fe1c8daba71f",
   "metadata": {},
   "outputs": [],
   "source": [
    "repo = \"/sdf/group/rubin/repo/oga/\"\n",
    "butler = dafButler.Butler(repo)\n",
    "registry = butler.registry"
   ]
  },
  {
   "cell_type": "code",
   "execution_count": null,
   "id": "2adb6db1-391e-499e-92b1-a27bbd2cb51a",
   "metadata": {},
   "outputs": [],
   "source": [
    "spec"
   ]
  },
  {
   "cell_type": "code",
   "execution_count": null,
   "id": "95a0ebab-9090-4cba-b142-6b003a1d5cf5",
   "metadata": {},
   "outputs": [],
   "source": [
    "for c in sorted(registry.queryCollections()):\n",
    "    if \"u/dagoret\" in c:\n",
    "        print(c)"
   ]
  },
  {
   "cell_type": "code",
   "execution_count": null,
   "id": "b9e50146-abd7-44e9-8027-4e8a2cfacc7d",
   "metadata": {},
   "outputs": [],
   "source": [
    "dst = list(butler.registry.queryDatasetTypes(\"*\"))"
   ]
  },
  {
   "cell_type": "code",
   "execution_count": null,
   "id": "cfe5dd19-7dae-411b-8b8a-fe8e034437c5",
   "metadata": {},
   "outputs": [],
   "source": [
    "dst"
   ]
  },
  {
   "cell_type": "code",
   "execution_count": null,
   "id": "52f94002-7477-4ec6-b2b9-06f48ad36737",
   "metadata": {},
   "outputs": [],
   "source": [
    "for refs_ds in butler.registry.queryDatasets(datasetType='any',collections=\"u/dagoret/tests/test_20oct2022\"):\n",
    "    print(refs_ds)"
   ]
  },
  {
   "cell_type": "code",
   "execution_count": null,
   "id": "e21c3bd6-fab2-4d2a-a6b9-59bca7819464",
   "metadata": {},
   "outputs": [],
   "source": [
    "refs_ds=list(butler.registry.queryDatasets(datasetType=\"*spe*\",collections=\"u/dagoret/tests/test_20oct2022\"))"
   ]
  },
  {
   "cell_type": "code",
   "execution_count": null,
   "id": "9d8472c8-85e1-4830-b0a7-b29481a53786",
   "metadata": {},
   "outputs": [],
   "source": [
    "refs_ds"
   ]
  },
  {
   "cell_type": "code",
   "execution_count": null,
   "id": "d0555e08-56d4-41f5-b4f6-284d432e8a39",
   "metadata": {},
   "outputs": [],
   "source": [
    "#/sdf/group/rubin/repo/main/u/dagoret/tests/test_20oct2022/20221020T143125Z/spectractorSpectrum/20220630/white/empty~holo4_003/2022063000060/82nlj40o9h1dcrhp.fits"
   ]
  },
  {
   "cell_type": "code",
   "execution_count": null,
   "id": "70281cab-8397-4856-a347-a8d948872d4d",
   "metadata": {},
   "outputs": [],
   "source": [
    "extracted = []\n",
    "for seqNum in seqNums:\n",
    "    if butler.datasetExists('spectraction', dayObs=dayObs, seqNum=seqNum):\n",
    "        extracted.append(seqNum)"
   ]
  }
 ],
 "metadata": {
  "kernelspec": {
   "display_name": "LSST",
   "language": "python",
   "name": "lsst"
  },
  "language_info": {
   "codemirror_mode": {
    "name": "ipython",
    "version": 3
   },
   "file_extension": ".py",
   "mimetype": "text/x-python",
   "name": "python",
   "nbconvert_exporter": "python",
   "pygments_lexer": "ipython3",
   "version": "3.10.5"
  }
 },
 "nbformat": 4,
 "nbformat_minor": 5
}
