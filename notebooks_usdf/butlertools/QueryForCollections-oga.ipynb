{
 "cells": [
  {
   "cell_type": "markdown",
   "id": "0b8c2138-5194-4d03-8b77-be24e2cc8ee3",
   "metadata": {},
   "source": [
    "# Query for existing collections in OGA"
   ]
  },
  {
   "cell_type": "markdown",
   "id": "740e34fb-3fef-45a8-941b-c229742ab016",
   "metadata": {},
   "source": [
    " work with Weakly_2022_39\n",
    "- use jupyter kernel LSST\n",
    "\n",
    "- author : Sylvie Dagoret-Campagne\n",
    "- affiliation : IJCLab\n",
    "- creation date : 2022/10/27"
   ]
  },
  {
   "cell_type": "code",
   "execution_count": 1,
   "id": "ed2c3410-fe83-432e-ab87-9f4513fa8d8b",
   "metadata": {},
   "outputs": [
    {
     "name": "stdout",
     "output_type": "stream",
     "text": [
      "atmospec              LOCAL:/home/d/dagoret/repos/repos_w_2022_39/atmospec \tsetup\n",
      "drp_pipe              LOCAL:/home/d/dagoret/repos/repos_w_2022_39/drp_pipe \tsetup\n",
      "eups                  LOCAL:/opt/lsst/software/stack/conda/miniconda3-py38_4.9.2/envs/lsst-scipipe-4.1.0/eups \tsetup\n",
      "summit_utils          LOCAL:/home/d/dagoret/repos/repos_w_2022_39/summit_utils \tsetup\n"
     ]
    }
   ],
   "source": [
    "! eups list -s | grep LOCAL"
   ]
  },
  {
   "cell_type": "code",
   "execution_count": 2,
   "id": "70918d81-0cf6-4b0a-8f61-f5e5bec5b0e7",
   "metadata": {},
   "outputs": [
    {
     "name": "stdout",
     "output_type": "stream",
     "text": [
      "   g0b29ad24fb+a10408d0bf \tcurrent w_2022_39 setup\n"
     ]
    }
   ],
   "source": [
    "! eups list -s lsst_distrib"
   ]
  },
  {
   "cell_type": "code",
   "execution_count": 3,
   "id": "f8d9cfca-5881-48c1-b2cb-0f794a2e4091",
   "metadata": {},
   "outputs": [],
   "source": [
    "import lsst.daf.butler as dafButler"
   ]
  },
  {
   "cell_type": "code",
   "execution_count": 4,
   "id": "1c81d99a-5e91-4ba1-ba4a-c66b37905b98",
   "metadata": {},
   "outputs": [],
   "source": [
    "#repo =  \"/sdf/group/rubin/repo/main\"\n",
    "repo = \"/sdf/group/rubin/repo/oga/\"\n",
    "butler = dafButler.Butler(repo)\n",
    "registry = butler.registry"
   ]
  },
  {
   "cell_type": "code",
   "execution_count": 5,
   "id": "2ec90d56-d827-4ab5-a289-5a256527f23e",
   "metadata": {},
   "outputs": [
    {
     "name": "stdout",
     "output_type": "stream",
     "text": [
      "u/dagoret/spectro/noflat/empty~holo4/20220912\n",
      "u/dagoret/spectro/noflat/empty~holo4/20220912/20221026T095917Z\n",
      "u/dagoret/spectro/noflat/empty~holo4/20220912/20221026T100113Z\n",
      "u/dagoret/spectro/noflat/empty~holo4/20220912/20221026T101538Z\n",
      "u/dagoret/spectro/noflat/empty~holo4/20220912/20221026T103226Z\n",
      "u/dagoret/spectro/noflat/empty~holo4/20220912/20221026T111537Z\n",
      "u/dagoret/spectro/noflat/empty~holo4/20220912/20221026T111705Z\n",
      "u/dagoret/spectro/noflat/empty~holo4/20220912/20221026T113943Z\n",
      "u/dagoret/spectro/noflat/empty~holo4/20220912/20221026T124155Z\n",
      "u/dagoret/spectro/noflat/empty~holo4/20220912/20221026T125817Z\n",
      "u/dagoret/spectro/noflat/empty~holo4/20220912/20221026T131243Z\n",
      "u/dagoret/spectro/noflat/empty~holo4/20220912/20221026T131356Z\n",
      "u/dagoret/spectro/noflat/empty~holo4/20220912/20221026T140201Z\n",
      "u/dagoret/spectro/noflat/empty~holo4/20220912/20221026T142124Z\n",
      "u/dagoret/spectro/noflat/empty~holo4/20220912/20221026T144053Z\n",
      "u/dagoret/spectro/noflat/empty~holo4/20220912/20221026T150740Z\n",
      "u/dagoret/spectro/noflat/empty~holo4/20220912/20221026T154743Z\n",
      "u/dagoret/spectro/noflat/empty~holo4/20220912/20221026T160318Z\n",
      "u/dagoret/spectro/noflat/empty~holo4/20220912/20221026T162022Z\n",
      "u/dagoret/spectro/noflat/empty~holo4/20220912/20221026T170145Z\n",
      "u/dagoret/spectro/noflat/empty~holo4/20220912/20221026T170317Z\n",
      "u/dagoret/spectro/noflat/empty~holo4/20220912/20221026T170443Z\n",
      "u/dagoret/spectro/noflat/empty~holo4/20220912/20221026T181513Z\n",
      "u/dagoret/spectro/noflat/empty~holo4/20220912/20221026T183918Z\n",
      "u/dagoret/spectro/noflat/empty~holo4/20220912/20221026T185553Z\n",
      "u/dagoret/spectro/noflat/empty~holo4/20220912/20221026T191338Z\n",
      "u/dagoret/spectro/noflat/empty~holo4/20220912/20221026T193425Z\n",
      "u/dagoret/spectro/noflat/empty~holo4/20220912/20221026T193545Z\n",
      "u/dagoret/spectro/noflat/empty~holo4/20220912/20221026T222944Z\n",
      "u/dagoret/spectro/noflat/empty~holo4/20220912/20221026T225523Z\n",
      "u/dagoret/spectro/noflat/empty~holo4/20220912/20221026T225652Z\n",
      "u/dagoret/spectro/noflat/empty~holo4/20220912/20221026T231615Z\n",
      "u/dagoret/spectro/noflat/empty~holo4/20220912/20221026T234906Z\n",
      "u/dagoret/spectro/noflat/empty~holo4/20220912/20221027T015917Z\n",
      "u/dagoret/spectro/noflat/empty~holo4/20220912/20221027T020102Z\n",
      "u/dagoret/spectro/noflat/empty~holo4/20220912/20221027T034041Z\n",
      "u/dagoret/spectro/noflat/empty~holo4/20220912/20221027T034310Z\n",
      "u/dagoret/spectro/noflat/empty~holo4/20220912/20221027T041211Z\n",
      "u/dagoret/spectro/noflat/empty~holo4/20220912/20221027T044527Z\n",
      "u/dagoret/spectro/noflat/empty~holo4/20220912/20221027T060207Z\n",
      "u/dagoret/spectro/noflat/empty~holo4/20220912/20221027T070500Z\n",
      "u/dagoret/spectro/noflat/empty~holo4/20220912/20221027T073737Z\n",
      "u/dagoret/spectro/noflat/empty~holo4/20220912/20221027T081320Z\n",
      "u/dagoret/spectro/noflat/empty~holo4/20220912/20221027T083327Z\n",
      "u/dagoret/spectro/noflat/empty~holo4/20220912/20221027T083448Z\n",
      "u/dagoret/spectro/noflat/empty~holo4/20220912/20221027T083605Z\n",
      "u/dagoret/spectro/noflat/empty~holo4/20220912/20221027T085512Z\n",
      "u/dagoret/spectro/noflat/empty~holo4/20220912/20221027T085627Z\n",
      "u/dagoret/spectro/noflat/empty~holo4/20220912/20221027T092406Z\n",
      "u/dagoret/spectro/noflat/empty~holo4/20220912/20221027T092533Z\n",
      "u/dagoret/spectro/noflat/empty~holo4/20220912/20221027T093603Z\n",
      "u/dagoret/spectro/noflat/empty~holo4/20220912/20221027T102706Z\n",
      "u/dagoret/spectro/noflat/empty~holo4/20220912/20221027T111300Z\n",
      "u/dagoret/spectro/noflat/empty~holo4/20220912/20221027T114145Z\n",
      "u/dagoret/spectro/noflat/empty~holo4/20220912/20221027T114306Z\n",
      "u/dagoret/spectro/noflat/empty~holo4/20220912/20221027T121727Z\n",
      "u/dagoret/spectro/noflat/empty~holo4/20220912/20221027T124811Z\n",
      "u/dagoret/spectro/noflat/empty~holo4/20220912/20221027T131707Z\n",
      "u/dagoret/spectro/noflat/empty~holo4/20220912/20221027T132102Z\n",
      "u/dagoret/spectro/noflat/empty~holo4/20220912/20221027T134805Z\n",
      "u/dagoret/spectro/noflat/empty~holo4/20220912/20221027T135604Z\n",
      "u/dagoret/spectro/noflat/empty~holo4/20220912/20221027T140643Z\n",
      "u/dagoret/spectro/noflat/empty~holo4/20220912/20221027T140758Z\n"
     ]
    }
   ],
   "source": [
    "for c in sorted(registry.queryCollections()):\n",
    "    if \"u/dagoret\" in c:\n",
    "        print(c)"
   ]
  },
  {
   "cell_type": "code",
   "execution_count": 6,
   "id": "7df1993e-e932-4d7b-92ca-df6a72d40e21",
   "metadata": {},
   "outputs": [
    {
     "name": "stdout",
     "output_type": "stream",
     "text": [
      "u/dagoret/spectro/noflat/empty~holo4/20220912\n",
      "u/dagoret/spectro/noflat/empty~holo4/20220912/20221026T095917Z\n",
      "u/dagoret/spectro/noflat/empty~holo4/20220912/20221026T100113Z\n",
      "u/dagoret/spectro/noflat/empty~holo4/20220912/20221026T101538Z\n",
      "u/dagoret/spectro/noflat/empty~holo4/20220912/20221026T103226Z\n",
      "u/dagoret/spectro/noflat/empty~holo4/20220912/20221026T111537Z\n",
      "u/dagoret/spectro/noflat/empty~holo4/20220912/20221026T111705Z\n",
      "u/dagoret/spectro/noflat/empty~holo4/20220912/20221026T113943Z\n",
      "u/dagoret/spectro/noflat/empty~holo4/20220912/20221026T124155Z\n",
      "u/dagoret/spectro/noflat/empty~holo4/20220912/20221026T125817Z\n",
      "u/dagoret/spectro/noflat/empty~holo4/20220912/20221026T131243Z\n",
      "u/dagoret/spectro/noflat/empty~holo4/20220912/20221026T131356Z\n",
      "u/dagoret/spectro/noflat/empty~holo4/20220912/20221026T140201Z\n",
      "u/dagoret/spectro/noflat/empty~holo4/20220912/20221026T142124Z\n",
      "u/dagoret/spectro/noflat/empty~holo4/20220912/20221026T144053Z\n",
      "u/dagoret/spectro/noflat/empty~holo4/20220912/20221026T150740Z\n",
      "u/dagoret/spectro/noflat/empty~holo4/20220912/20221026T154743Z\n",
      "u/dagoret/spectro/noflat/empty~holo4/20220912/20221026T160318Z\n",
      "u/dagoret/spectro/noflat/empty~holo4/20220912/20221026T162022Z\n",
      "u/dagoret/spectro/noflat/empty~holo4/20220912/20221026T170145Z\n",
      "u/dagoret/spectro/noflat/empty~holo4/20220912/20221026T170317Z\n",
      "u/dagoret/spectro/noflat/empty~holo4/20220912/20221026T170443Z\n",
      "u/dagoret/spectro/noflat/empty~holo4/20220912/20221026T181513Z\n",
      "u/dagoret/spectro/noflat/empty~holo4/20220912/20221026T183918Z\n",
      "u/dagoret/spectro/noflat/empty~holo4/20220912/20221026T185553Z\n",
      "u/dagoret/spectro/noflat/empty~holo4/20220912/20221026T191338Z\n",
      "u/dagoret/spectro/noflat/empty~holo4/20220912/20221026T193425Z\n",
      "u/dagoret/spectro/noflat/empty~holo4/20220912/20221026T193545Z\n",
      "u/dagoret/spectro/noflat/empty~holo4/20220912/20221026T222944Z\n",
      "u/dagoret/spectro/noflat/empty~holo4/20220912/20221026T225523Z\n",
      "u/dagoret/spectro/noflat/empty~holo4/20220912/20221026T225652Z\n",
      "u/dagoret/spectro/noflat/empty~holo4/20220912/20221026T231615Z\n",
      "u/dagoret/spectro/noflat/empty~holo4/20220912/20221026T234906Z\n",
      "u/dagoret/spectro/noflat/empty~holo4/20220912/20221027T015917Z\n",
      "u/dagoret/spectro/noflat/empty~holo4/20220912/20221027T020102Z\n",
      "u/dagoret/spectro/noflat/empty~holo4/20220912/20221027T034041Z\n",
      "u/dagoret/spectro/noflat/empty~holo4/20220912/20221027T034310Z\n",
      "u/dagoret/spectro/noflat/empty~holo4/20220912/20221027T041211Z\n",
      "u/dagoret/spectro/noflat/empty~holo4/20220912/20221027T044527Z\n",
      "u/dagoret/spectro/noflat/empty~holo4/20220912/20221027T060207Z\n",
      "u/dagoret/spectro/noflat/empty~holo4/20220912/20221027T070500Z\n",
      "u/dagoret/spectro/noflat/empty~holo4/20220912/20221027T073737Z\n",
      "u/dagoret/spectro/noflat/empty~holo4/20220912/20221027T081320Z\n",
      "u/dagoret/spectro/noflat/empty~holo4/20220912/20221027T083327Z\n",
      "u/dagoret/spectro/noflat/empty~holo4/20220912/20221027T083448Z\n",
      "u/dagoret/spectro/noflat/empty~holo4/20220912/20221027T083605Z\n",
      "u/dagoret/spectro/noflat/empty~holo4/20220912/20221027T085512Z\n",
      "u/dagoret/spectro/noflat/empty~holo4/20220912/20221027T085627Z\n",
      "u/dagoret/spectro/noflat/empty~holo4/20220912/20221027T092406Z\n",
      "u/dagoret/spectro/noflat/empty~holo4/20220912/20221027T092533Z\n",
      "u/dagoret/spectro/noflat/empty~holo4/20220912/20221027T093603Z\n",
      "u/dagoret/spectro/noflat/empty~holo4/20220912/20221027T102706Z\n",
      "u/dagoret/spectro/noflat/empty~holo4/20220912/20221027T111300Z\n",
      "u/dagoret/spectro/noflat/empty~holo4/20220912/20221027T114145Z\n",
      "u/dagoret/spectro/noflat/empty~holo4/20220912/20221027T114306Z\n",
      "u/dagoret/spectro/noflat/empty~holo4/20220912/20221027T121727Z\n",
      "u/dagoret/spectro/noflat/empty~holo4/20220912/20221027T124811Z\n",
      "u/dagoret/spectro/noflat/empty~holo4/20220912/20221027T131707Z\n",
      "u/dagoret/spectro/noflat/empty~holo4/20220912/20221027T132102Z\n",
      "u/dagoret/spectro/noflat/empty~holo4/20220912/20221027T134805Z\n",
      "u/dagoret/spectro/noflat/empty~holo4/20220912/20221027T135604Z\n",
      "u/dagoret/spectro/noflat/empty~holo4/20220912/20221027T140643Z\n",
      "u/dagoret/spectro/noflat/empty~holo4/20220912/20221027T140758Z\n"
     ]
    }
   ],
   "source": [
    "for c in sorted(registry.queryCollections()):\n",
    "    if \"u/dagoret/spectro/noflat\" in c:\n",
    "        print(c)"
   ]
  },
  {
   "cell_type": "code",
   "execution_count": 7,
   "id": "78619165-644b-4faf-b71f-62f28ad74906",
   "metadata": {},
   "outputs": [],
   "source": [
    "my_collection = \"u/dagoret/spectro/noflat/empty~holo4/20220912\""
   ]
  },
  {
   "cell_type": "code",
   "execution_count": 8,
   "id": "6705e82a-633d-4243-b9d9-3385f74ab637",
   "metadata": {},
   "outputs": [],
   "source": [
    "refs_ds=list(butler.registry.queryDatasets(datasetType='spectraction',collections=my_collection))"
   ]
  },
  {
   "cell_type": "code",
   "execution_count": 9,
   "id": "d5747fb0-2884-4fe0-bc13-6c479db7b1e5",
   "metadata": {},
   "outputs": [
    {
     "data": {
      "text/plain": [
       "[DatasetRef(DatasetType('spectraction', {band, instrument, detector, physical_filter, visit}, Spectraction), {instrument: 'LATISS', detector: 0, visit: 2022091200106, ...}, id=b3253d52-7f5c-41fa-af42-4533f274d952, run='u/dagoret/spectro/noflat/empty~holo4/20220912/20221026T100113Z'),\n",
       " DatasetRef(DatasetType('spectraction', {band, instrument, detector, physical_filter, visit}, Spectraction), {instrument: 'LATISS', detector: 0, visit: 2022091200107, ...}, id=dd949020-74e6-496c-ba7c-f2aede54d475, run='u/dagoret/spectro/noflat/empty~holo4/20220912/20221026T101538Z'),\n",
       " DatasetRef(DatasetType('spectraction', {band, instrument, detector, physical_filter, visit}, Spectraction), {instrument: 'LATISS', detector: 0, visit: 2022091200113, ...}, id=89a2c4b3-a7d1-4e9d-b2e5-686441e6b9d9, run='u/dagoret/spectro/noflat/empty~holo4/20220912/20221026T103226Z'),\n",
       " DatasetRef(DatasetType('spectraction', {band, instrument, detector, physical_filter, visit}, Spectraction), {instrument: 'LATISS', detector: 0, visit: 2022091200121, ...}, id=b0e1ec77-ae6f-48b5-ac4b-0ae086a03d71, run='u/dagoret/spectro/noflat/empty~holo4/20220912/20221026T111705Z'),\n",
       " DatasetRef(DatasetType('spectraction', {band, instrument, detector, physical_filter, visit}, Spectraction), {instrument: 'LATISS', detector: 0, visit: 2022091200122, ...}, id=5fb0a2b8-e9d8-4808-a8f5-c0f4a571dae7, run='u/dagoret/spectro/noflat/empty~holo4/20220912/20221026T113943Z'),\n",
       " DatasetRef(DatasetType('spectraction', {band, instrument, detector, physical_filter, visit}, Spectraction), {instrument: 'LATISS', detector: 0, visit: 2022091200128, ...}, id=2051f2eb-cdb2-4de8-bc34-682b6e1074d8, run='u/dagoret/spectro/noflat/empty~holo4/20220912/20221026T124155Z'),\n",
       " DatasetRef(DatasetType('spectraction', {band, instrument, detector, physical_filter, visit}, Spectraction), {instrument: 'LATISS', detector: 0, visit: 2022091200129, ...}, id=20cbf1dd-f95b-42c5-84bf-3cda9d71d75f, run='u/dagoret/spectro/noflat/empty~holo4/20220912/20221026T125817Z'),\n",
       " DatasetRef(DatasetType('spectraction', {band, instrument, detector, physical_filter, visit}, Spectraction), {instrument: 'LATISS', detector: 0, visit: 2022091200142, ...}, id=fde22e7e-a5f2-4b68-a0ae-9962776ced02, run='u/dagoret/spectro/noflat/empty~holo4/20220912/20221026T140201Z'),\n",
       " DatasetRef(DatasetType('spectraction', {band, instrument, detector, physical_filter, visit}, Spectraction), {instrument: 'LATISS', detector: 0, visit: 2022091200143, ...}, id=b2112694-eb47-4fc7-9f54-a02e85532754, run='u/dagoret/spectro/noflat/empty~holo4/20220912/20221026T142124Z'),\n",
       " DatasetRef(DatasetType('spectraction', {band, instrument, detector, physical_filter, visit}, Spectraction), {instrument: 'LATISS', detector: 0, visit: 2022091200136, ...}, id=06d40233-06dd-4358-a6dd-b773fee33433, run='u/dagoret/spectro/noflat/empty~holo4/20220912/20221026T131356Z'),\n",
       " DatasetRef(DatasetType('spectraction', {band, instrument, detector, physical_filter, visit}, Spectraction), {instrument: 'LATISS', detector: 0, visit: 2022091200149, ...}, id=39f039f0-50c2-4f4e-92ec-7e71a7debfef, run='u/dagoret/spectro/noflat/empty~holo4/20220912/20221026T144053Z'),\n",
       " DatasetRef(DatasetType('spectraction', {band, instrument, detector, physical_filter, visit}, Spectraction), {instrument: 'LATISS', detector: 0, visit: 2022091200150, ...}, id=f751834a-b0dc-45f4-ad63-d9d11d12c7a0, run='u/dagoret/spectro/noflat/empty~holo4/20220912/20221026T150740Z'),\n",
       " DatasetRef(DatasetType('spectraction', {band, instrument, detector, physical_filter, visit}, Spectraction), {instrument: 'LATISS', detector: 0, visit: 2022091200158, ...}, id=3ec59234-c73c-4fa1-9040-4a5bb91ec023, run='u/dagoret/spectro/noflat/empty~holo4/20220912/20221026T154743Z'),\n",
       " DatasetRef(DatasetType('spectraction', {band, instrument, detector, physical_filter, visit}, Spectraction), {instrument: 'LATISS', detector: 0, visit: 2022091200159, ...}, id=e48c08ee-dc95-470c-bc90-cca4dcbe8fea, run='u/dagoret/spectro/noflat/empty~holo4/20220912/20221026T160318Z'),\n",
       " DatasetRef(DatasetType('spectraction', {band, instrument, detector, physical_filter, visit}, Spectraction), {instrument: 'LATISS', detector: 0, visit: 2022091200165, ...}, id=3b105132-6e8c-48ed-894a-1b5dd4271143, run='u/dagoret/spectro/noflat/empty~holo4/20220912/20221026T162022Z'),\n",
       " DatasetRef(DatasetType('spectraction', {band, instrument, detector, physical_filter, visit}, Spectraction), {instrument: 'LATISS', detector: 0, visit: 2022091200175, ...}, id=ebb24ad7-cb9f-4a2e-a0c2-68461934ee64, run='u/dagoret/spectro/noflat/empty~holo4/20220912/20221026T170443Z'),\n",
       " DatasetRef(DatasetType('spectraction', {band, instrument, detector, physical_filter, visit}, Spectraction), {instrument: 'LATISS', detector: 0, visit: 2022091200181, ...}, id=fe6d6dd8-ffcd-48ca-815a-4602dac8d0cd, run='u/dagoret/spectro/noflat/empty~holo4/20220912/20221026T181513Z'),\n",
       " DatasetRef(DatasetType('spectraction', {band, instrument, detector, physical_filter, visit}, Spectraction), {instrument: 'LATISS', detector: 0, visit: 2022091200182, ...}, id=ef9e2a4a-d51c-4cfb-97c4-1b1c7e277cc6, run='u/dagoret/spectro/noflat/empty~holo4/20220912/20221026T183918Z'),\n",
       " DatasetRef(DatasetType('spectraction', {band, instrument, detector, physical_filter, visit}, Spectraction), {instrument: 'LATISS', detector: 0, visit: 2022091200188, ...}, id=48f42712-ae86-40d9-b0e0-4e672763aa17, run='u/dagoret/spectro/noflat/empty~holo4/20220912/20221026T185553Z'),\n",
       " DatasetRef(DatasetType('spectraction', {band, instrument, detector, physical_filter, visit}, Spectraction), {instrument: 'LATISS', detector: 0, visit: 2022091200189, ...}, id=34798f50-82cd-4e1a-9508-c22825f65ffb, run='u/dagoret/spectro/noflat/empty~holo4/20220912/20221026T191338Z'),\n",
       " DatasetRef(DatasetType('spectraction', {band, instrument, detector, physical_filter, visit}, Spectraction), {instrument: 'LATISS', detector: 0, visit: 2022091200197, ...}, id=15f0106d-b075-4755-b395-096667dc140e, run='u/dagoret/spectro/noflat/empty~holo4/20220912/20221026T193545Z'),\n",
       " DatasetRef(DatasetType('spectraction', {band, instrument, detector, physical_filter, visit}, Spectraction), {instrument: 'LATISS', detector: 0, visit: 2022091200203, ...}, id=7270ea90-8f94-46f1-9065-ae1fd8772e80, run='u/dagoret/spectro/noflat/empty~holo4/20220912/20221026T222944Z'),\n",
       " DatasetRef(DatasetType('spectraction', {band, instrument, detector, physical_filter, visit}, Spectraction), {instrument: 'LATISS', detector: 0, visit: 2022091200210, ...}, id=72b652a3-0115-4be1-b78a-ea6c56096c4f, run='u/dagoret/spectro/noflat/empty~holo4/20220912/20221026T225652Z'),\n",
       " DatasetRef(DatasetType('spectraction', {band, instrument, detector, physical_filter, visit}, Spectraction), {instrument: 'LATISS', detector: 0, visit: 2022091200211, ...}, id=b8e47757-2573-46f8-a6d7-85605a657a69, run='u/dagoret/spectro/noflat/empty~holo4/20220912/20221026T231615Z'),\n",
       " DatasetRef(DatasetType('spectraction', {band, instrument, detector, physical_filter, visit}, Spectraction), {instrument: 'LATISS', detector: 0, visit: 2022091200217, ...}, id=b55973f4-758b-446b-98d4-f4d509b08332, run='u/dagoret/spectro/noflat/empty~holo4/20220912/20221026T234906Z'),\n",
       " DatasetRef(DatasetType('spectraction', {band, instrument, detector, physical_filter, visit}, Spectraction), {instrument: 'LATISS', detector: 0, visit: 2022091200224, ...}, id=994d7da5-b037-4879-bb13-0d16dc25c064, run='u/dagoret/spectro/noflat/empty~holo4/20220912/20221027T020102Z'),\n",
       " DatasetRef(DatasetType('spectraction', {band, instrument, detector, physical_filter, visit}, Spectraction), {instrument: 'LATISS', detector: 0, visit: 2022091200231, ...}, id=0cee5591-b305-4fe4-97d1-7520c9067ff5, run='u/dagoret/spectro/noflat/empty~holo4/20220912/20221027T034310Z'),\n",
       " DatasetRef(DatasetType('spectraction', {band, instrument, detector, physical_filter, visit}, Spectraction), {instrument: 'LATISS', detector: 0, visit: 2022091200232, ...}, id=b1d2668b-5b5d-4807-b826-6f66e5dfdec4, run='u/dagoret/spectro/noflat/empty~holo4/20220912/20221027T041211Z'),\n",
       " DatasetRef(DatasetType('spectraction', {band, instrument, detector, physical_filter, visit}, Spectraction), {instrument: 'LATISS', detector: 0, visit: 2022091200238, ...}, id=4d1af33d-bb20-4680-b96a-29780959eb76, run='u/dagoret/spectro/noflat/empty~holo4/20220912/20221027T044527Z'),\n",
       " DatasetRef(DatasetType('spectraction', {band, instrument, detector, physical_filter, visit}, Spectraction), {instrument: 'LATISS', detector: 0, visit: 2022091200239, ...}, id=77592692-0056-4f69-a1e3-9017f3392683, run='u/dagoret/spectro/noflat/empty~holo4/20220912/20221027T060207Z'),\n",
       " DatasetRef(DatasetType('spectraction', {band, instrument, detector, physical_filter, visit}, Spectraction), {instrument: 'LATISS', detector: 0, visit: 2022091200245, ...}, id=1d607a76-38ea-4382-91d5-156386456726, run='u/dagoret/spectro/noflat/empty~holo4/20220912/20221027T070500Z'),\n",
       " DatasetRef(DatasetType('spectraction', {band, instrument, detector, physical_filter, visit}, Spectraction), {instrument: 'LATISS', detector: 0, visit: 2022091200246, ...}, id=bf38dbb6-48c9-45ca-a8ed-27b5ec7a4bb8, run='u/dagoret/spectro/noflat/empty~holo4/20220912/20221027T073737Z'),\n",
       " DatasetRef(DatasetType('spectraction', {band, instrument, detector, physical_filter, visit}, Spectraction), {instrument: 'LATISS', detector: 0, visit: 2022091200260, ...}, id=6baefe8d-b1b2-4971-8cbe-c24057a71b38, run='u/dagoret/spectro/noflat/empty~holo4/20220912/20221027T083605Z'),\n",
       " DatasetRef(DatasetType('spectraction', {band, instrument, detector, physical_filter, visit}, Spectraction), {instrument: 'LATISS', detector: 0, visit: 2022091200267, ...}, id=8c6b7de1-0dd0-404e-86c3-b869371a95c3, run='u/dagoret/spectro/noflat/empty~holo4/20220912/20221027T085627Z'),\n",
       " DatasetRef(DatasetType('spectraction', {band, instrument, detector, physical_filter, visit}, Spectraction), {instrument: 'LATISS', detector: 0, visit: 2022091200274, ...}, id=ffabe689-17f6-4e37-b552-78883a8d1142, run='u/dagoret/spectro/noflat/empty~holo4/20220912/20221027T092533Z'),\n",
       " DatasetRef(DatasetType('spectraction', {band, instrument, detector, physical_filter, visit}, Spectraction), {instrument: 'LATISS', detector: 0, visit: 2022091200280, ...}, id=a3fb8f7c-9242-4c25-8dbb-e65a58d6c626, run='u/dagoret/spectro/noflat/empty~holo4/20220912/20221027T093603Z'),\n",
       " DatasetRef(DatasetType('spectraction', {band, instrument, detector, physical_filter, visit}, Spectraction), {instrument: 'LATISS', detector: 0, visit: 2022091200281, ...}, id=1e717e93-3020-4f8c-9955-8ec156ce43ca, run='u/dagoret/spectro/noflat/empty~holo4/20220912/20221027T102706Z'),\n",
       " DatasetRef(DatasetType('spectraction', {band, instrument, detector, physical_filter, visit}, Spectraction), {instrument: 'LATISS', detector: 0, visit: 2022091200287, ...}, id=9c992827-6890-496e-9108-4a36d7696813, run='u/dagoret/spectro/noflat/empty~holo4/20220912/20221027T111300Z'),\n",
       " DatasetRef(DatasetType('spectraction', {band, instrument, detector, physical_filter, visit}, Spectraction), {instrument: 'LATISS', detector: 0, visit: 2022091200294, ...}, id=25ed5dc3-002b-4219-b818-6c59b3ed3ad4, run='u/dagoret/spectro/noflat/empty~holo4/20220912/20221027T114306Z'),\n",
       " DatasetRef(DatasetType('spectraction', {band, instrument, detector, physical_filter, visit}, Spectraction), {instrument: 'LATISS', detector: 0, visit: 2022091200295, ...}, id=34429e4e-051e-4ca4-8fd7-7557b5d5c6a1, run='u/dagoret/spectro/noflat/empty~holo4/20220912/20221027T121727Z'),\n",
       " DatasetRef(DatasetType('spectraction', {band, instrument, detector, physical_filter, visit}, Spectraction), {instrument: 'LATISS', detector: 0, visit: 2022091200304, ...}, id=6a74a37f-1d92-452b-b5f0-e9f2d023df83, run='u/dagoret/spectro/noflat/empty~holo4/20220912/20221027T124811Z'),\n",
       " DatasetRef(DatasetType('spectraction', {band, instrument, detector, physical_filter, visit}, Spectraction), {instrument: 'LATISS', detector: 0, visit: 2022091200304, ...}, id=8262a05b-791b-446a-bf97-7d0dad67aedd, run='u/dagoret/spectro/noflat/empty~holo4/20220912/20221027T131707Z'),\n",
       " DatasetRef(DatasetType('spectraction', {band, instrument, detector, physical_filter, visit}, Spectraction), {instrument: 'LATISS', detector: 0, visit: 2022091200346, ...}, id=17002afe-62c6-4be1-9b77-d59f31511156, run='u/dagoret/spectro/noflat/empty~holo4/20220912/20221027T132102Z'),\n",
       " DatasetRef(DatasetType('spectraction', {band, instrument, detector, physical_filter, visit}, Spectraction), {instrument: 'LATISS', detector: 0, visit: 2022091200347, ...}, id=0d67c66b-ab42-4061-a94b-7a32dc7e0632, run='u/dagoret/spectro/noflat/empty~holo4/20220912/20221027T135604Z')]"
      ]
     },
     "execution_count": 9,
     "metadata": {},
     "output_type": "execute_result"
    }
   ],
   "source": [
    "refs_ds"
   ]
  },
  {
   "cell_type": "code",
   "execution_count": 10,
   "id": "6bae6497-14fd-49a1-8878-f7929f8460c2",
   "metadata": {},
   "outputs": [],
   "source": [
    "#import lsst.summit.utils.butlerUtils as butlerUtils"
   ]
  },
  {
   "cell_type": "code",
   "execution_count": 11,
   "id": "dca78d4f-ca59-4ea4-940c-be1812634e97",
   "metadata": {},
   "outputs": [],
   "source": [
    "#butler =butlerUtils.makeDefaultLatissButler(extraCollections=[my_collection,])\n",
    "# probably not working with OGA"
   ]
  },
  {
   "cell_type": "code",
   "execution_count": 12,
   "id": "2303a002-d12e-4e5e-8e7e-e8ee5b3d9b0d",
   "metadata": {},
   "outputs": [],
   "source": [
    "dataId = {'day_obs': 20220912,'seq_num':106,'instrument':'LATISS','detector':0}"
   ]
  },
  {
   "cell_type": "code",
   "execution_count": 13,
   "id": "2f084737-c5a3-4930-b7d3-b7127dae9516",
   "metadata": {},
   "outputs": [],
   "source": [
    "# with butler utils :\n",
    "#butler.get('spectraction',dataId)"
   ]
  },
  {
   "cell_type": "code",
   "execution_count": 14,
   "id": "32c7155b-8f5c-4bfb-a00f-05899e109289",
   "metadata": {},
   "outputs": [],
   "source": [
    "# without butler utils\n",
    "spec= butler.get('spectraction',dataId,collections=my_collection)"
   ]
  },
  {
   "cell_type": "code",
   "execution_count": 15,
   "id": "11cf1aca-4727-4a93-8af6-fe1c8daba71f",
   "metadata": {},
   "outputs": [],
   "source": [
    "repo = \"/sdf/group/rubin/repo/oga/\"\n",
    "butler = dafButler.Butler(repo)\n",
    "registry = butler.registry"
   ]
  },
  {
   "cell_type": "code",
   "execution_count": 16,
   "id": "2adb6db1-391e-499e-92b1-a27bbd2cb51a",
   "metadata": {},
   "outputs": [
    {
     "data": {
      "text/plain": [
       "<lsst.atmospec.spectraction.Spectraction at 0x7f4de2d821a0>"
      ]
     },
     "execution_count": 16,
     "metadata": {},
     "output_type": "execute_result"
    }
   ],
   "source": [
    "spec"
   ]
  },
  {
   "cell_type": "code",
   "execution_count": 17,
   "id": "95a0ebab-9090-4cba-b142-6b003a1d5cf5",
   "metadata": {},
   "outputs": [
    {
     "name": "stdout",
     "output_type": "stream",
     "text": [
      "u/dagoret/spectro/noflat/empty~holo4/20220912\n",
      "u/dagoret/spectro/noflat/empty~holo4/20220912/20221026T095917Z\n",
      "u/dagoret/spectro/noflat/empty~holo4/20220912/20221026T100113Z\n",
      "u/dagoret/spectro/noflat/empty~holo4/20220912/20221026T101538Z\n",
      "u/dagoret/spectro/noflat/empty~holo4/20220912/20221026T103226Z\n",
      "u/dagoret/spectro/noflat/empty~holo4/20220912/20221026T111537Z\n",
      "u/dagoret/spectro/noflat/empty~holo4/20220912/20221026T111705Z\n",
      "u/dagoret/spectro/noflat/empty~holo4/20220912/20221026T113943Z\n",
      "u/dagoret/spectro/noflat/empty~holo4/20220912/20221026T124155Z\n",
      "u/dagoret/spectro/noflat/empty~holo4/20220912/20221026T125817Z\n",
      "u/dagoret/spectro/noflat/empty~holo4/20220912/20221026T131243Z\n",
      "u/dagoret/spectro/noflat/empty~holo4/20220912/20221026T131356Z\n",
      "u/dagoret/spectro/noflat/empty~holo4/20220912/20221026T140201Z\n",
      "u/dagoret/spectro/noflat/empty~holo4/20220912/20221026T142124Z\n",
      "u/dagoret/spectro/noflat/empty~holo4/20220912/20221026T144053Z\n",
      "u/dagoret/spectro/noflat/empty~holo4/20220912/20221026T150740Z\n",
      "u/dagoret/spectro/noflat/empty~holo4/20220912/20221026T154743Z\n",
      "u/dagoret/spectro/noflat/empty~holo4/20220912/20221026T160318Z\n",
      "u/dagoret/spectro/noflat/empty~holo4/20220912/20221026T162022Z\n",
      "u/dagoret/spectro/noflat/empty~holo4/20220912/20221026T170145Z\n",
      "u/dagoret/spectro/noflat/empty~holo4/20220912/20221026T170317Z\n",
      "u/dagoret/spectro/noflat/empty~holo4/20220912/20221026T170443Z\n",
      "u/dagoret/spectro/noflat/empty~holo4/20220912/20221026T181513Z\n",
      "u/dagoret/spectro/noflat/empty~holo4/20220912/20221026T183918Z\n",
      "u/dagoret/spectro/noflat/empty~holo4/20220912/20221026T185553Z\n",
      "u/dagoret/spectro/noflat/empty~holo4/20220912/20221026T191338Z\n",
      "u/dagoret/spectro/noflat/empty~holo4/20220912/20221026T193425Z\n",
      "u/dagoret/spectro/noflat/empty~holo4/20220912/20221026T193545Z\n",
      "u/dagoret/spectro/noflat/empty~holo4/20220912/20221026T222944Z\n",
      "u/dagoret/spectro/noflat/empty~holo4/20220912/20221026T225523Z\n",
      "u/dagoret/spectro/noflat/empty~holo4/20220912/20221026T225652Z\n",
      "u/dagoret/spectro/noflat/empty~holo4/20220912/20221026T231615Z\n",
      "u/dagoret/spectro/noflat/empty~holo4/20220912/20221026T234906Z\n",
      "u/dagoret/spectro/noflat/empty~holo4/20220912/20221027T015917Z\n",
      "u/dagoret/spectro/noflat/empty~holo4/20220912/20221027T020102Z\n",
      "u/dagoret/spectro/noflat/empty~holo4/20220912/20221027T034041Z\n",
      "u/dagoret/spectro/noflat/empty~holo4/20220912/20221027T034310Z\n",
      "u/dagoret/spectro/noflat/empty~holo4/20220912/20221027T041211Z\n",
      "u/dagoret/spectro/noflat/empty~holo4/20220912/20221027T044527Z\n",
      "u/dagoret/spectro/noflat/empty~holo4/20220912/20221027T060207Z\n",
      "u/dagoret/spectro/noflat/empty~holo4/20220912/20221027T070500Z\n",
      "u/dagoret/spectro/noflat/empty~holo4/20220912/20221027T073737Z\n",
      "u/dagoret/spectro/noflat/empty~holo4/20220912/20221027T081320Z\n",
      "u/dagoret/spectro/noflat/empty~holo4/20220912/20221027T083327Z\n",
      "u/dagoret/spectro/noflat/empty~holo4/20220912/20221027T083448Z\n",
      "u/dagoret/spectro/noflat/empty~holo4/20220912/20221027T083605Z\n",
      "u/dagoret/spectro/noflat/empty~holo4/20220912/20221027T085512Z\n",
      "u/dagoret/spectro/noflat/empty~holo4/20220912/20221027T085627Z\n",
      "u/dagoret/spectro/noflat/empty~holo4/20220912/20221027T092406Z\n",
      "u/dagoret/spectro/noflat/empty~holo4/20220912/20221027T092533Z\n",
      "u/dagoret/spectro/noflat/empty~holo4/20220912/20221027T093603Z\n",
      "u/dagoret/spectro/noflat/empty~holo4/20220912/20221027T102706Z\n",
      "u/dagoret/spectro/noflat/empty~holo4/20220912/20221027T111300Z\n",
      "u/dagoret/spectro/noflat/empty~holo4/20220912/20221027T114145Z\n",
      "u/dagoret/spectro/noflat/empty~holo4/20220912/20221027T114306Z\n",
      "u/dagoret/spectro/noflat/empty~holo4/20220912/20221027T121727Z\n",
      "u/dagoret/spectro/noflat/empty~holo4/20220912/20221027T124811Z\n",
      "u/dagoret/spectro/noflat/empty~holo4/20220912/20221027T131707Z\n",
      "u/dagoret/spectro/noflat/empty~holo4/20220912/20221027T132102Z\n",
      "u/dagoret/spectro/noflat/empty~holo4/20220912/20221027T134805Z\n",
      "u/dagoret/spectro/noflat/empty~holo4/20220912/20221027T135604Z\n",
      "u/dagoret/spectro/noflat/empty~holo4/20220912/20221027T140643Z\n",
      "u/dagoret/spectro/noflat/empty~holo4/20220912/20221027T140758Z\n"
     ]
    }
   ],
   "source": [
    "for c in sorted(registry.queryCollections()):\n",
    "    if \"u/dagoret\" in c:\n",
    "        print(c)"
   ]
  },
  {
   "cell_type": "code",
   "execution_count": 18,
   "id": "b9e50146-abd7-44e9-8027-4e8a2cfacc7d",
   "metadata": {},
   "outputs": [],
   "source": [
    "dst = list(butler.registry.queryDatasetTypes(\"*\"))"
   ]
  },
  {
   "cell_type": "code",
   "execution_count": 19,
   "id": "cfe5dd19-7dae-411b-8b8a-fe8e034437c5",
   "metadata": {},
   "outputs": [
    {
     "data": {
      "text/plain": [
       "[DatasetType('raw', {band, instrument, detector, physical_filter, exposure}, Exposure),\n",
       " DatasetType('bias', {instrument, detector}, ExposureF, isCalibration=True),\n",
       " DatasetType('camera', {instrument}, Camera, isCalibration=True),\n",
       " DatasetType('dark', {instrument, detector}, ExposureF, isCalibration=True),\n",
       " DatasetType('defects', {instrument, detector}, Defects, isCalibration=True),\n",
       " DatasetType('flat', {band, instrument, detector, physical_filter}, ExposureF, isCalibration=True),\n",
       " DatasetType('gaia_dr2_20200414', {htm7}, SimpleCatalog),\n",
       " DatasetType('skyMap', {skymap}, SkyMap),\n",
       " DatasetType('atlas_refcat2_20220201', {htm7}, SimpleCatalog),\n",
       " DatasetType('packages', {}, Packages),\n",
       " DatasetType('isr_config', {}, Config),\n",
       " DatasetType('cpBiasCombine_config', {}, Config),\n",
       " DatasetType('cpBiasProc', {band, instrument, detector, physical_filter, exposure}, Exposure),\n",
       " DatasetType('isr_metadata', {band, instrument, detector, physical_filter, exposure}, TaskMetadata),\n",
       " DatasetType('isr_log', {band, instrument, detector, physical_filter, exposure}, ButlerLogRecords),\n",
       " DatasetType('cpBiasCombine_metadata', {instrument, detector}, TaskMetadata),\n",
       " DatasetType('cpBiasCombine_log', {instrument, detector}, ButlerLogRecords),\n",
       " DatasetType('ptc', {instrument, detector}, PhotonTransferCurveDataset, isCalibration=True),\n",
       " DatasetType('mergeDefects_config', {}, Config),\n",
       " DatasetType('measureDefects_config', {}, Config),\n",
       " DatasetType('cpPartialDefects', {band, instrument, detector, physical_filter, exposure}, Defects),\n",
       " DatasetType('cpDefectsProc', {band, instrument, detector, physical_filter, exposure}, Exposure),\n",
       " DatasetType('mergeDefects_metadata', {instrument, detector}, TaskMetadata),\n",
       " DatasetType('mergeDefects_log', {instrument, detector}, ButlerLogRecords),\n",
       " DatasetType('measureDefects_metadata', {band, instrument, detector, physical_filter, exposure}, TaskMetadata),\n",
       " DatasetType('measureDefects_log', {band, instrument, detector, physical_filter, exposure}, ButlerLogRecords),\n",
       " DatasetType('ptcSolve_config', {}, Config),\n",
       " DatasetType('ptcExtract_config', {}, Config),\n",
       " DatasetType('cpPtcExtract', {band, instrument, detector, physical_filter, exposure}, PhotonTransferCurveDataset, isCalibration=True),\n",
       " DatasetType('cpPtcProc', {band, instrument, detector, physical_filter, exposure}, Exposure),\n",
       " DatasetType('ptcSolve_metadata', {instrument, detector}, TaskMetadata),\n",
       " DatasetType('ptcSolve_log', {instrument, detector}, ButlerLogRecords),\n",
       " DatasetType('ptcExtract_metadata', {instrument, detector}, TaskMetadata),\n",
       " DatasetType('ptcExtract_log', {instrument, detector}, ButlerLogRecords),\n",
       " DatasetType('cpDark_config', {}, Config),\n",
       " DatasetType('cpDarkCombine_config', {}, Config),\n",
       " DatasetType('cpDarkIsr', {band, instrument, detector, physical_filter, exposure}, Exposure),\n",
       " DatasetType('cpDarkProc', {band, instrument, detector, physical_filter, exposure}, Exposure),\n",
       " DatasetType('cpDark_metadata', {band, instrument, detector, physical_filter, exposure}, TaskMetadata),\n",
       " DatasetType('cpDark_log', {band, instrument, detector, physical_filter, exposure}, ButlerLogRecords),\n",
       " DatasetType('cpDarkCombine_metadata', {instrument, detector}, TaskMetadata),\n",
       " DatasetType('cpDarkCombine_log', {instrument, detector}, ButlerLogRecords),\n",
       " DatasetType('icSrc_schema', {}, SourceCatalog),\n",
       " DatasetType('src_schema', {}, SourceCatalog),\n",
       " DatasetType('calibrate_config', {}, Config),\n",
       " DatasetType('characterizeImage_config', {}, Config),\n",
       " DatasetType('writeSourceTable_config', {}, Config),\n",
       " DatasetType('transformSourceTable_config', {}, Config),\n",
       " DatasetType('icSrc', {band, instrument, detector, physical_filter, visit}, SourceCatalog),\n",
       " DatasetType('icExpBackground', {band, instrument, detector, physical_filter, visit}, Background),\n",
       " DatasetType('icExp', {band, instrument, detector, physical_filter, visit}, ExposureF),\n",
       " DatasetType('postISRCCD', {band, instrument, detector, physical_filter, exposure}, Exposure),\n",
       " DatasetType('src', {band, instrument, detector, physical_filter, visit}, SourceCatalog),\n",
       " DatasetType('source', {band, instrument, detector, physical_filter, visit}, DataFrame),\n",
       " DatasetType('calexpBackground', {band, instrument, detector, physical_filter, visit}, Background),\n",
       " DatasetType('calexp', {band, instrument, detector, physical_filter, visit}, ExposureF),\n",
       " DatasetType('srcMatchFull', {band, instrument, detector, physical_filter, visit}, Catalog),\n",
       " DatasetType('srcMatch', {band, instrument, detector, physical_filter, visit}, Catalog),\n",
       " DatasetType('calibrate_metadata', {band, instrument, detector, physical_filter, visit}, TaskMetadata),\n",
       " DatasetType('calibrate_log', {band, instrument, detector, physical_filter, visit}, ButlerLogRecords),\n",
       " DatasetType('characterizeImage_metadata', {band, instrument, detector, physical_filter, visit}, TaskMetadata),\n",
       " DatasetType('characterizeImage_log', {band, instrument, detector, physical_filter, visit}, ButlerLogRecords),\n",
       " DatasetType('writeSourceTable_metadata', {band, instrument, detector, physical_filter, visit}, TaskMetadata),\n",
       " DatasetType('writeSourceTable_log', {band, instrument, detector, physical_filter, visit}, ButlerLogRecords),\n",
       " DatasetType('sourceTable', {band, instrument, detector, physical_filter, visit}, DataFrame),\n",
       " DatasetType('transformSourceTable_metadata', {band, instrument, detector, physical_filter, visit}, TaskMetadata),\n",
       " DatasetType('transformSourceTable_log', {band, instrument, detector, physical_filter, visit}, ButlerLogRecords),\n",
       " DatasetType('quickLookTask_config', {}, Config),\n",
       " DatasetType('quickLookExp', {band, instrument, detector, physical_filter, exposure}, ExposureF),\n",
       " DatasetType('quickLookTask_metadata', {band, instrument, detector, physical_filter, exposure}, TaskMetadata),\n",
       " DatasetType('quickLookTask_log', {band, instrument, detector, physical_filter, exposure}, ButlerLogRecords),\n",
       " DatasetType('verifyMeasureStats_config', {}, Config),\n",
       " DatasetType('verifyExposureStats_config', {}, Config),\n",
       " DatasetType('verifyBiasApply_config', {}, Config),\n",
       " DatasetType('verifyRunStats_config', {}, Config),\n",
       " DatasetType('verifyBiasProc', {band, instrument, detector, physical_filter, exposure}, Exposure),\n",
       " DatasetType('verifyBiasApply_metadata', {band, instrument, detector, physical_filter, exposure}, TaskMetadata),\n",
       " DatasetType('verifyBiasDetStats', {band, instrument, detector, physical_filter, exposure}, StructuredDataDict),\n",
       " DatasetType('verifyBiasExpStats', {band, instrument, physical_filter, exposure}, StructuredDataDict),\n",
       " DatasetType('verifyMeasureStats_metadata', {band, instrument, detector, physical_filter, exposure}, TaskMetadata),\n",
       " DatasetType('verifyMeasureStats_log', {band, instrument, detector, physical_filter, exposure}, ButlerLogRecords),\n",
       " DatasetType('verifyExposureStats_log', {band, instrument, physical_filter, exposure}, ButlerLogRecords),\n",
       " DatasetType('verifyBiasStats', {instrument}, StructuredDataDict),\n",
       " DatasetType('verifyRunStats_log', {instrument}, ButlerLogRecords),\n",
       " DatasetType('verifyExposureStats_metadata', {band, instrument, physical_filter, exposure}, TaskMetadata),\n",
       " DatasetType('verifyBiasApply_log', {band, instrument, detector, physical_filter, exposure}, ButlerLogRecords),\n",
       " DatasetType('verifyRunStats_metadata', {instrument}, TaskMetadata),\n",
       " DatasetType('verifyDarkChip_config', {}, Config),\n",
       " DatasetType('verifyDarkExp_config', {}, Config),\n",
       " DatasetType('verifyDarkApply_config', {}, Config),\n",
       " DatasetType('verifyDark_config', {}, Config),\n",
       " DatasetType('verifyDarkProc', {band, instrument, detector, physical_filter, exposure}, Exposure),\n",
       " DatasetType('verifyDarkApply_metadata', {band, instrument, detector, physical_filter, exposure}, TaskMetadata),\n",
       " DatasetType('verifyDarkDetStats', {band, instrument, detector, physical_filter, exposure}, StructuredDataDict),\n",
       " DatasetType('verifyDarkExpStats', {band, instrument, physical_filter, exposure}, StructuredDataDict),\n",
       " DatasetType('verifyDarkChip_metadata', {band, instrument, detector, physical_filter, exposure}, TaskMetadata),\n",
       " DatasetType('verifyDarkChip_log', {band, instrument, detector, physical_filter, exposure}, ButlerLogRecords),\n",
       " DatasetType('verifyDarkExp_metadata', {band, instrument, physical_filter, exposure}, TaskMetadata),\n",
       " DatasetType('verifyDarkExp_log', {band, instrument, physical_filter, exposure}, ButlerLogRecords),\n",
       " DatasetType('verifyDarkApply_log', {band, instrument, detector, physical_filter, exposure}, ButlerLogRecords),\n",
       " DatasetType('verifyDarkStats', {instrument}, StructuredDataDict),\n",
       " DatasetType('verifyDark_metadata', {instrument}, TaskMetadata),\n",
       " DatasetType('verifyDark_log', {instrument}, ButlerLogRecords),\n",
       " DatasetType('cpFlatCombine_config', {}, Config),\n",
       " DatasetType('cpFlatProc', {band, instrument, detector, physical_filter, exposure}, Exposure),\n",
       " DatasetType('cpFlatCombine_metadata', {band, instrument, detector, physical_filter}, TaskMetadata),\n",
       " DatasetType('cpFlatCombine_log', {band, instrument, detector, physical_filter}, ButlerLogRecords),\n",
       " DatasetType('verifyFlatApply_config', {}, Config),\n",
       " DatasetType('verifyFlatChip_config', {}, Config),\n",
       " DatasetType('verifyFlatExp_config', {}, Config),\n",
       " DatasetType('verifyFlat_config', {}, Config),\n",
       " DatasetType('verifyFlatProc', {band, instrument, detector, physical_filter, exposure}, Exposure),\n",
       " DatasetType('verifyFlatDetStats', {band, instrument, detector, physical_filter, exposure}, StructuredDataDict),\n",
       " DatasetType('verifyFlatExpStats', {band, instrument, physical_filter, exposure}, StructuredDataDict),\n",
       " DatasetType('verifyFlatApply_metadata', {band, instrument, detector, physical_filter, exposure}, TaskMetadata),\n",
       " DatasetType('verifyFlatApply_log', {band, instrument, detector, physical_filter, exposure}, ButlerLogRecords),\n",
       " DatasetType('verifyFlatChip_metadata', {band, instrument, detector, physical_filter, exposure}, TaskMetadata),\n",
       " DatasetType('verifyFlatChip_log', {band, instrument, detector, physical_filter, exposure}, ButlerLogRecords),\n",
       " DatasetType('verifyFlatExp_metadata', {band, instrument, physical_filter, exposure}, TaskMetadata),\n",
       " DatasetType('verifyFlatExp_log', {band, instrument, physical_filter, exposure}, ButlerLogRecords),\n",
       " DatasetType('verifyFlatStats', {instrument}, StructuredDataDict),\n",
       " DatasetType('verifyFlat_metadata', {instrument}, TaskMetadata),\n",
       " DatasetType('verifyFlat_log', {instrument}, ButlerLogRecords),\n",
       " DatasetType('singleStarCentroid_config', {}, Config),\n",
       " DatasetType('processStar_config', {}, Config),\n",
       " DatasetType('atmospecCentroid', {band, instrument, detector, physical_filter, visit}, StructuredDataDict),\n",
       " DatasetType('singleStarCentroid_metadata', {band, instrument, detector, physical_filter, visit}, TaskMetadata),\n",
       " DatasetType('singleStarCentroid_log', {band, instrument, detector, physical_filter, visit}, ButlerLogRecords),\n",
       " DatasetType('spectraction', {band, instrument, detector, physical_filter, visit}, Spectraction),\n",
       " DatasetType('spectractorImage', {band, instrument, detector, physical_filter, visit}, SpectractorImage),\n",
       " DatasetType('spectractorSpectrum', {band, instrument, detector, physical_filter, visit}, SpectractorSpectrum),\n",
       " DatasetType('processStar_metadata', {band, instrument, detector, physical_filter, visit}, TaskMetadata),\n",
       " DatasetType('processStar_log', {band, instrument, detector, physical_filter, visit}, ButlerLogRecords)]"
      ]
     },
     "execution_count": 19,
     "metadata": {},
     "output_type": "execute_result"
    }
   ],
   "source": [
    "dst"
   ]
  },
  {
   "cell_type": "code",
   "execution_count": 20,
   "id": "52f94002-7477-4ec6-b2b9-06f48ad36737",
   "metadata": {},
   "outputs": [],
   "source": [
    "for refs_ds in butler.registry.queryDatasets(datasetType='any',collections=\"u/dagoret/tests/test_20oct2022\"):\n",
    "    print(refs_ds)"
   ]
  },
  {
   "cell_type": "code",
   "execution_count": 21,
   "id": "e21c3bd6-fab2-4d2a-a6b9-59bca7819464",
   "metadata": {},
   "outputs": [
    {
     "ename": "MissingCollectionError",
     "evalue": "No collection with name 'u/dagoret/tests/test_20oct2022' found.",
     "output_type": "error",
     "traceback": [
      "\u001b[0;31m---------------------------------------------------------------------------\u001b[0m",
      "\u001b[0;31mMissingCollectionError\u001b[0m                    Traceback (most recent call last)",
      "Input \u001b[0;32mIn [21]\u001b[0m, in \u001b[0;36m<cell line: 1>\u001b[0;34m()\u001b[0m\n\u001b[0;32m----> 1\u001b[0m refs_ds\u001b[38;5;241m=\u001b[39m\u001b[38;5;28mlist\u001b[39m(\u001b[43mbutler\u001b[49m\u001b[38;5;241;43m.\u001b[39;49m\u001b[43mregistry\u001b[49m\u001b[38;5;241;43m.\u001b[39;49m\u001b[43mqueryDatasets\u001b[49m\u001b[43m(\u001b[49m\u001b[43mdatasetType\u001b[49m\u001b[38;5;241;43m=\u001b[39;49m\u001b[38;5;124;43m\"\u001b[39;49m\u001b[38;5;124;43m*spe*\u001b[39;49m\u001b[38;5;124;43m\"\u001b[39;49m\u001b[43m,\u001b[49m\u001b[43mcollections\u001b[49m\u001b[38;5;241;43m=\u001b[39;49m\u001b[38;5;124;43m\"\u001b[39;49m\u001b[38;5;124;43mu/dagoret/tests/test_20oct2022\u001b[39;49m\u001b[38;5;124;43m\"\u001b[39;49m\u001b[43m)\u001b[49m)\n",
      "File \u001b[0;32m/opt/lsst/software/stack/stack/miniconda3-py38_4.9.2-4.1.0/Linux64/daf_butler/g1a6169c876+17c7ad0751/python/lsst/daf/butler/registries/sql.py:1008\u001b[0m, in \u001b[0;36mSqlRegistry.queryDatasets\u001b[0;34m(self, datasetType, collections, dimensions, dataId, where, findFirst, components, bind, check, **kwargs)\u001b[0m\n\u001b[1;32m   1006\u001b[0m chain \u001b[38;5;241m=\u001b[39m []\n\u001b[1;32m   1007\u001b[0m \u001b[38;5;28;01mfor\u001b[39;00m parentDatasetType, componentNames \u001b[38;5;129;01min\u001b[39;00m composition\u001b[38;5;241m.\u001b[39mitems():\n\u001b[0;32m-> 1008\u001b[0m     parentResults \u001b[38;5;241m=\u001b[39m \u001b[38;5;28;43mself\u001b[39;49m\u001b[38;5;241;43m.\u001b[39;49m\u001b[43mqueryDatasets\u001b[49m\u001b[43m(\u001b[49m\n\u001b[1;32m   1009\u001b[0m \u001b[43m        \u001b[49m\u001b[43mparentDatasetType\u001b[49m\u001b[43m,\u001b[49m\n\u001b[1;32m   1010\u001b[0m \u001b[43m        \u001b[49m\u001b[43mcollections\u001b[49m\u001b[38;5;241;43m=\u001b[39;49m\u001b[43mcollections\u001b[49m\u001b[43m,\u001b[49m\n\u001b[1;32m   1011\u001b[0m \u001b[43m        \u001b[49m\u001b[43mdimensions\u001b[49m\u001b[38;5;241;43m=\u001b[39;49m\u001b[43mdimensions\u001b[49m\u001b[43m,\u001b[49m\n\u001b[1;32m   1012\u001b[0m \u001b[43m        \u001b[49m\u001b[43mdataId\u001b[49m\u001b[38;5;241;43m=\u001b[39;49m\u001b[43mstandardizedDataId\u001b[49m\u001b[43m,\u001b[49m\n\u001b[1;32m   1013\u001b[0m \u001b[43m        \u001b[49m\u001b[43mwhere\u001b[49m\u001b[38;5;241;43m=\u001b[39;49m\u001b[43mwhere\u001b[49m\u001b[43m,\u001b[49m\n\u001b[1;32m   1014\u001b[0m \u001b[43m        \u001b[49m\u001b[43mbind\u001b[49m\u001b[38;5;241;43m=\u001b[39;49m\u001b[43mbind\u001b[49m\u001b[43m,\u001b[49m\n\u001b[1;32m   1015\u001b[0m \u001b[43m        \u001b[49m\u001b[43mfindFirst\u001b[49m\u001b[38;5;241;43m=\u001b[39;49m\u001b[43mfindFirst\u001b[49m\u001b[43m,\u001b[49m\n\u001b[1;32m   1016\u001b[0m \u001b[43m        \u001b[49m\u001b[43mcheck\u001b[49m\u001b[38;5;241;43m=\u001b[39;49m\u001b[43mcheck\u001b[49m\u001b[43m,\u001b[49m\n\u001b[1;32m   1017\u001b[0m \u001b[43m    \u001b[49m\u001b[43m)\u001b[49m\n\u001b[1;32m   1018\u001b[0m     \u001b[38;5;28;01massert\u001b[39;00m \u001b[38;5;28misinstance\u001b[39m(\n\u001b[1;32m   1019\u001b[0m         parentResults, queries\u001b[38;5;241m.\u001b[39mParentDatasetQueryResults\n\u001b[1;32m   1020\u001b[0m     ), \u001b[38;5;124m\"\u001b[39m\u001b[38;5;124mShould always be true if passing in a DatasetType instance, and we are.\u001b[39m\u001b[38;5;124m\"\u001b[39m\n\u001b[1;32m   1021\u001b[0m     chain\u001b[38;5;241m.\u001b[39mappend(parentResults\u001b[38;5;241m.\u001b[39mwithComponents(componentNames))\n",
      "File \u001b[0;32m/opt/lsst/software/stack/stack/miniconda3-py38_4.9.2-4.1.0/Linux64/daf_butler/g1a6169c876+17c7ad0751/python/lsst/daf/butler/registries/sql.py:1047\u001b[0m, in \u001b[0;36mSqlRegistry.queryDatasets\u001b[0;34m(self, datasetType, collections, dimensions, dataId, where, findFirst, components, bind, check, **kwargs)\u001b[0m\n\u001b[1;32m   1041\u001b[0m builder \u001b[38;5;241m=\u001b[39m \u001b[38;5;28mself\u001b[39m\u001b[38;5;241m.\u001b[39m_makeQueryBuilder(summary)\n\u001b[1;32m   1042\u001b[0m \u001b[38;5;66;03m# Add the dataset subquery to the query, telling the QueryBuilder to\u001b[39;00m\n\u001b[1;32m   1043\u001b[0m \u001b[38;5;66;03m# include the rank of the selected collection in the results only if we\u001b[39;00m\n\u001b[1;32m   1044\u001b[0m \u001b[38;5;66;03m# need to findFirst.  Note that if any of the collections are\u001b[39;00m\n\u001b[1;32m   1045\u001b[0m \u001b[38;5;66;03m# actually wildcard expressions, and we've asked for deduplication,\u001b[39;00m\n\u001b[1;32m   1046\u001b[0m \u001b[38;5;66;03m# this will raise TypeError for us.\u001b[39;00m\n\u001b[0;32m-> 1047\u001b[0m \u001b[43mbuilder\u001b[49m\u001b[38;5;241;43m.\u001b[39;49m\u001b[43mjoinDataset\u001b[49m\u001b[43m(\u001b[49m\u001b[43mdatasetType\u001b[49m\u001b[43m,\u001b[49m\u001b[43m \u001b[49m\u001b[43mcollections\u001b[49m\u001b[43m,\u001b[49m\u001b[43m \u001b[49m\u001b[43misResult\u001b[49m\u001b[38;5;241;43m=\u001b[39;49m\u001b[38;5;28;43;01mTrue\u001b[39;49;00m\u001b[43m,\u001b[49m\u001b[43m \u001b[49m\u001b[43mfindFirst\u001b[49m\u001b[38;5;241;43m=\u001b[39;49m\u001b[43mfindFirst\u001b[49m\u001b[43m)\u001b[49m\n\u001b[1;32m   1048\u001b[0m query \u001b[38;5;241m=\u001b[39m builder\u001b[38;5;241m.\u001b[39mfinish()\n\u001b[1;32m   1049\u001b[0m \u001b[38;5;28;01mreturn\u001b[39;00m queries\u001b[38;5;241m.\u001b[39mParentDatasetQueryResults(\u001b[38;5;28mself\u001b[39m\u001b[38;5;241m.\u001b[39m_db, query, components\u001b[38;5;241m=\u001b[39m[\u001b[38;5;28;01mNone\u001b[39;00m], datasetType\u001b[38;5;241m=\u001b[39mdatasetType)\n",
      "File \u001b[0;32m/opt/lsst/software/stack/stack/miniconda3-py38_4.9.2-4.1.0/Linux64/daf_butler/g1a6169c876+17c7ad0751/python/lsst/daf/butler/registry/queries/_builder.py:190\u001b[0m, in \u001b[0;36mQueryBuilder.joinDataset\u001b[0;34m(self, datasetType, collections, isResult, findFirst)\u001b[0m\n\u001b[1;32m    188\u001b[0m collectionRecords: List[CollectionRecord] \u001b[38;5;241m=\u001b[39m []\n\u001b[1;32m    189\u001b[0m rejections: List[\u001b[38;5;28mstr\u001b[39m] \u001b[38;5;241m=\u001b[39m []\n\u001b[0;32m--> 190\u001b[0m \u001b[38;5;28;01mfor\u001b[39;00m collectionRecord \u001b[38;5;129;01min\u001b[39;00m collections\u001b[38;5;241m.\u001b[39miter(\u001b[38;5;28mself\u001b[39m\u001b[38;5;241m.\u001b[39m_managers\u001b[38;5;241m.\u001b[39mcollections, collectionTypes\u001b[38;5;241m=\u001b[39mcollectionTypes):\n\u001b[1;32m    191\u001b[0m     \u001b[38;5;66;03m# Only include collections that (according to collection summaries)\u001b[39;00m\n\u001b[1;32m    192\u001b[0m     \u001b[38;5;66;03m# might have datasets of this type and governor dimensions\u001b[39;00m\n\u001b[1;32m    193\u001b[0m     \u001b[38;5;66;03m# consistent with the query's WHERE clause.\u001b[39;00m\n\u001b[1;32m    194\u001b[0m     collection_summary \u001b[38;5;241m=\u001b[39m \u001b[38;5;28mself\u001b[39m\u001b[38;5;241m.\u001b[39m_managers\u001b[38;5;241m.\u001b[39mdatasets\u001b[38;5;241m.\u001b[39mgetCollectionSummary(collectionRecord)\n\u001b[1;32m    195\u001b[0m     \u001b[38;5;28;01mif\u001b[39;00m \u001b[38;5;129;01mnot\u001b[39;00m collection_summary\u001b[38;5;241m.\u001b[39mis_compatible_with(\n\u001b[1;32m    196\u001b[0m         datasetType,\n\u001b[1;32m    197\u001b[0m         \u001b[38;5;28mself\u001b[39m\u001b[38;5;241m.\u001b[39msummary\u001b[38;5;241m.\u001b[39mwhere\u001b[38;5;241m.\u001b[39mgovernor_constraints,\n\u001b[1;32m    198\u001b[0m         rejections\u001b[38;5;241m=\u001b[39mrejections,\n\u001b[1;32m    199\u001b[0m         name\u001b[38;5;241m=\u001b[39mcollectionRecord\u001b[38;5;241m.\u001b[39mname,\n\u001b[1;32m    200\u001b[0m     ):\n",
      "File \u001b[0;32m/opt/lsst/software/stack/stack/miniconda3-py38_4.9.2-4.1.0/Linux64/daf_butler/g1a6169c876+17c7ad0751/python/lsst/daf/butler/registry/wildcards.py:653\u001b[0m, in \u001b[0;36mCollectionQuery.iter\u001b[0;34m(self, manager, collectionTypes, flattenChains, includeChains)\u001b[0m\n\u001b[1;32m    651\u001b[0m \u001b[38;5;28;01melse\u001b[39;00m:\n\u001b[1;32m    652\u001b[0m     done: Set[\u001b[38;5;28mstr\u001b[39m] \u001b[38;5;241m=\u001b[39m \u001b[38;5;28mset\u001b[39m()\n\u001b[0;32m--> 653\u001b[0m     \u001b[38;5;28;01myield from\u001b[39;00m \u001b[38;5;28mself\u001b[39m\u001b[38;5;241m.\u001b[39m_search\u001b[38;5;241m.\u001b[39miter(\n\u001b[1;32m    654\u001b[0m         manager,\n\u001b[1;32m    655\u001b[0m         collectionTypes\u001b[38;5;241m=\u001b[39mcollectionTypes,\n\u001b[1;32m    656\u001b[0m         done\u001b[38;5;241m=\u001b[39mdone,\n\u001b[1;32m    657\u001b[0m         flattenChains\u001b[38;5;241m=\u001b[39mflattenChains,\n\u001b[1;32m    658\u001b[0m         includeChains\u001b[38;5;241m=\u001b[39mincludeChains,\n\u001b[1;32m    659\u001b[0m     )\n\u001b[1;32m    660\u001b[0m     \u001b[38;5;28;01mfor\u001b[39;00m record \u001b[38;5;129;01min\u001b[39;00m manager:\n\u001b[1;32m    661\u001b[0m         \u001b[38;5;28;01mif\u001b[39;00m record\u001b[38;5;241m.\u001b[39mname \u001b[38;5;129;01mnot\u001b[39;00m \u001b[38;5;129;01min\u001b[39;00m done \u001b[38;5;129;01mand\u001b[39;00m \u001b[38;5;28many\u001b[39m(p\u001b[38;5;241m.\u001b[39mfullmatch(record\u001b[38;5;241m.\u001b[39mname) \u001b[38;5;28;01mfor\u001b[39;00m p \u001b[38;5;129;01min\u001b[39;00m \u001b[38;5;28mself\u001b[39m\u001b[38;5;241m.\u001b[39m_patterns):\n",
      "File \u001b[0;32m/opt/lsst/software/stack/stack/miniconda3-py38_4.9.2-4.1.0/Linux64/daf_butler/g1a6169c876+17c7ad0751/python/lsst/daf/butler/registry/wildcards.py:487\u001b[0m, in \u001b[0;36mCollectionSearch.iter\u001b[0;34m(self, manager, datasetType, collectionTypes, done, flattenChains, includeChains)\u001b[0m\n\u001b[1;32m    483\u001b[0m \u001b[38;5;28;01mfor\u001b[39;00m name \u001b[38;5;129;01min\u001b[39;00m \u001b[38;5;28mself\u001b[39m:\n\u001b[1;32m    484\u001b[0m     \u001b[38;5;28;01mif\u001b[39;00m name \u001b[38;5;129;01mnot\u001b[39;00m \u001b[38;5;129;01min\u001b[39;00m done:\n\u001b[1;32m    485\u001b[0m         \u001b[38;5;28;01myield from\u001b[39;00m _yieldCollectionRecords(\n\u001b[1;32m    486\u001b[0m             manager,\n\u001b[0;32m--> 487\u001b[0m             \u001b[43mmanager\u001b[49m\u001b[38;5;241;43m.\u001b[39;49m\u001b[43mfind\u001b[49m\u001b[43m(\u001b[49m\u001b[43mname\u001b[49m\u001b[43m)\u001b[49m,\n\u001b[1;32m    488\u001b[0m             collectionTypes\u001b[38;5;241m=\u001b[39mcollectionTypes,\n\u001b[1;32m    489\u001b[0m             done\u001b[38;5;241m=\u001b[39mdone,\n\u001b[1;32m    490\u001b[0m             flattenChains\u001b[38;5;241m=\u001b[39mflattenChains,\n\u001b[1;32m    491\u001b[0m             includeChains\u001b[38;5;241m=\u001b[39mincludeChains,\n\u001b[1;32m    492\u001b[0m         )\n",
      "File \u001b[0;32m/opt/lsst/software/stack/stack/miniconda3-py38_4.9.2-4.1.0/Linux64/daf_butler/g1a6169c876+17c7ad0751/python/lsst/daf/butler/registry/collections/_base.py:448\u001b[0m, in \u001b[0;36mDefaultCollectionManager.find\u001b[0;34m(self, name)\u001b[0m\n\u001b[1;32m    446\u001b[0m result \u001b[38;5;241m=\u001b[39m \u001b[38;5;28mself\u001b[39m\u001b[38;5;241m.\u001b[39m_getByName(name)\n\u001b[1;32m    447\u001b[0m \u001b[38;5;28;01mif\u001b[39;00m result \u001b[38;5;129;01mis\u001b[39;00m \u001b[38;5;28;01mNone\u001b[39;00m:\n\u001b[0;32m--> 448\u001b[0m     \u001b[38;5;28;01mraise\u001b[39;00m MissingCollectionError(\u001b[38;5;124mf\u001b[39m\u001b[38;5;124m\"\u001b[39m\u001b[38;5;124mNo collection with name \u001b[39m\u001b[38;5;124m'\u001b[39m\u001b[38;5;132;01m{\u001b[39;00mname\u001b[38;5;132;01m}\u001b[39;00m\u001b[38;5;124m'\u001b[39m\u001b[38;5;124m found.\u001b[39m\u001b[38;5;124m\"\u001b[39m)\n\u001b[1;32m    449\u001b[0m \u001b[38;5;28;01mreturn\u001b[39;00m result\n",
      "\u001b[0;31mMissingCollectionError\u001b[0m: No collection with name 'u/dagoret/tests/test_20oct2022' found."
     ]
    }
   ],
   "source": [
    "refs_ds=list(butler.registry.queryDatasets(datasetType=\"*spe*\",collections=\"u/dagoret/tests/test_20oct2022\"))"
   ]
  },
  {
   "cell_type": "code",
   "execution_count": null,
   "id": "9d8472c8-85e1-4830-b0a7-b29481a53786",
   "metadata": {},
   "outputs": [],
   "source": [
    "refs_ds"
   ]
  },
  {
   "cell_type": "code",
   "execution_count": null,
   "id": "d0555e08-56d4-41f5-b4f6-284d432e8a39",
   "metadata": {},
   "outputs": [],
   "source": [
    "#/sdf/group/rubin/repo/main/u/dagoret/tests/test_20oct2022/20221020T143125Z/spectractorSpectrum/20220630/white/empty~holo4_003/2022063000060/82nlj40o9h1dcrhp.fits"
   ]
  },
  {
   "cell_type": "code",
   "execution_count": null,
   "id": "70281cab-8397-4856-a347-a8d948872d4d",
   "metadata": {},
   "outputs": [],
   "source": [
    "extracted = []\n",
    "for seqNum in seqNums:\n",
    "    if butler.datasetExists('spectraction', dayObs=dayObs, seqNum=seqNum):\n",
    "        extracted.append(seqNum)"
   ]
  }
 ],
 "metadata": {
  "kernelspec": {
   "display_name": "LSST",
   "language": "python",
   "name": "lsst"
  },
  "language_info": {
   "codemirror_mode": {
    "name": "ipython",
    "version": 3
   },
   "file_extension": ".py",
   "mimetype": "text/x-python",
   "name": "python",
   "nbconvert_exporter": "python",
   "pygments_lexer": "ipython3",
   "version": "3.10.5"
  }
 },
 "nbformat": 4,
 "nbformat_minor": 5
}
