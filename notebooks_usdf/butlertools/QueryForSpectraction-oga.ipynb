{
 "cells": [
  {
   "cell_type": "markdown",
   "id": "0b8c2138-5194-4d03-8b77-be24e2cc8ee3",
   "metadata": {},
   "source": [
    "# Query for Spectraction in OGA"
   ]
  },
  {
   "cell_type": "markdown",
   "id": "740e34fb-3fef-45a8-941b-c229742ab016",
   "metadata": {},
   "source": [
    " work with Weakly_2022_39\n",
    "- use jupyter kernel LSST\n",
    "\n",
    "\n",
    "- author : Sylvie Dagoret-Campagne\n",
    "- affiliation : IJCLab\n",
    "- creation date : 2022/10/27\n",
    "- update : 2022/10/27\n"
   ]
  },
  {
   "cell_type": "code",
   "execution_count": 1,
   "id": "ed2c3410-fe83-432e-ab87-9f4513fa8d8b",
   "metadata": {},
   "outputs": [
    {
     "name": "stdout",
     "output_type": "stream",
     "text": [
      "atmospec              LOCAL:/home/d/dagoret/repos/repos_w_2022_39/atmospec \tsetup\n",
      "drp_pipe              LOCAL:/home/d/dagoret/repos/repos_w_2022_39/drp_pipe \tsetup\n",
      "eups                  LOCAL:/opt/lsst/software/stack/conda/miniconda3-py38_4.9.2/envs/lsst-scipipe-4.1.0/eups \tsetup\n",
      "summit_utils          LOCAL:/home/d/dagoret/repos/repos_w_2022_39/summit_utils \tsetup\n"
     ]
    }
   ],
   "source": [
    "! eups list -s | grep LOCAL"
   ]
  },
  {
   "cell_type": "code",
   "execution_count": 2,
   "id": "70918d81-0cf6-4b0a-8f61-f5e5bec5b0e7",
   "metadata": {},
   "outputs": [
    {
     "name": "stdout",
     "output_type": "stream",
     "text": [
      "   g0b29ad24fb+a10408d0bf \tcurrent w_2022_39 setup\n"
     ]
    }
   ],
   "source": [
    "! eups list -s lsst_distrib"
   ]
  },
  {
   "cell_type": "code",
   "execution_count": 3,
   "id": "f8d9cfca-5881-48c1-b2cb-0f794a2e4091",
   "metadata": {},
   "outputs": [],
   "source": [
    "import lsst.daf.butler as dafButler"
   ]
  },
  {
   "cell_type": "code",
   "execution_count": 4,
   "id": "1c81d99a-5e91-4ba1-ba4a-c66b37905b98",
   "metadata": {},
   "outputs": [],
   "source": [
    "#repo =  \"/sdf/group/rubin/repo/main\"\n",
    "repo = \"/sdf/group/rubin/repo/oga/\"\n",
    "butler = dafButler.Butler(repo)\n",
    "registry = butler.registry"
   ]
  },
  {
   "cell_type": "markdown",
   "id": "20dbb8da-3a08-4b4f-9437-4bf7f28c1782",
   "metadata": {},
   "source": [
    "## Give the collection"
   ]
  },
  {
   "cell_type": "code",
   "execution_count": 8,
   "id": "9629ea29-8ab4-4062-aed1-e16d62dc90c4",
   "metadata": {},
   "outputs": [],
   "source": [
    "#my_collection = \"u/dagoret/spectro/noflat/empty~holo4/20220912\"\n",
    "#my_collection = \"u/dagoret/spectro/noflat/empty~holo4/20221207\"\n",
    "my_collection = \"u/dagoret/spectro/noflat/empty~holo4/20221208\"\n",
    "datasetRefs = registry.queryDatasets(datasetType='spectraction', collections=my_collection, \n",
    "                                     where= \"instrument='LATISS'\")"
   ]
  },
  {
   "cell_type": "code",
   "execution_count": 9,
   "id": "979b03d5-e54c-4d21-a848-98b820df1d16",
   "metadata": {},
   "outputs": [
    {
     "name": "stdout",
     "output_type": "stream",
     "text": [
      "======================================================= datasetType = spectraction =================================================================\n",
      "fullId:  {band: 'white', instrument: 'LATISS', detector: 0, physical_filter: 'empty~holo4_003', visit: 2022120800043}\n",
      "..................................................................................\n",
      "band:    white\n",
      "type:    DatasetType('spectraction', {band, instrument, detector, physical_filter, visit}, Spectraction)\n",
      "++++++++++++++++++++++++++++++++++++++++++++++++++++++++++++++++++++++++++++++++++\n",
      "id=UUID('bb7655df-90b0-45ba-a564-c5bb204c3d0e') datasetType=SerializedDatasetType(name='spectraction', storageClass='Spectraction', dimensions=SerializedDimensionGraph(names=['band', 'instrument', 'detector', 'physical_filter', 'visit']), parentStorageClass=None, isCalibration=False) dataId=SerializedDataCoordinate(dataId={'band': 'white', 'instrument': 'LATISS', 'detector': 0, 'physical_filter': 'empty~holo4_003', 'visit': 2022120800043}, records=None) run='u/dagoret/spectro/noflat/empty~holo4/20221208/20221209T083533Z' component=None\n",
      ".  .  .  .  .  .  .  .  .  .  .  .  .  .  .  .  .  .  .  .  .  .  .  .  .  .  .  .\n",
      "{\"id\": \"bb7655df-90b0-45ba-a564-c5bb204c3d0e\", \"datasetType\": {\"name\": \"spectraction\", \"storageClass\": \"Spectraction\", \"dimensions\": {\"names\": [\"band\", \"instrument\", \"detector\", \"physical_filter\", \"visit\"]}}, \"dataId\": {\"dataId\": {\"band\": \"white\", \"instrument\": \"LATISS\", \"detector\": 0, \"physical_filter\": \"empty~holo4_003\", \"visit\": 2022120800043}}, \"run\": \"u/dagoret/spectro/noflat/empty~holo4/20221208/20221209T083533Z\"}\n",
      "++++++++++++++++++++++++++++++++++++++++++++++++++++++++++++++++++++++++++++++++++\n",
      "run =  u/dagoret/spectro/noflat/empty~holo4/20221208/20221209T083533Z\n",
      "isCalibration:  False\n",
      "======================================================= datasetType = spectraction =================================================================\n",
      "fullId:  {band: 'white', instrument: 'LATISS', detector: 0, physical_filter: 'empty~holo4_003', visit: 2022120800044}\n",
      "..................................................................................\n",
      "band:    white\n",
      "type:    DatasetType('spectraction', {band, instrument, detector, physical_filter, visit}, Spectraction)\n",
      "++++++++++++++++++++++++++++++++++++++++++++++++++++++++++++++++++++++++++++++++++\n",
      "id=UUID('da6fc8d7-f03f-45ee-b7bd-7afabdcb3f62') datasetType=SerializedDatasetType(name='spectraction', storageClass='Spectraction', dimensions=SerializedDimensionGraph(names=['band', 'instrument', 'detector', 'physical_filter', 'visit']), parentStorageClass=None, isCalibration=False) dataId=SerializedDataCoordinate(dataId={'band': 'white', 'instrument': 'LATISS', 'detector': 0, 'physical_filter': 'empty~holo4_003', 'visit': 2022120800044}, records=None) run='u/dagoret/spectro/noflat/empty~holo4/20221208/20221209T084535Z' component=None\n",
      ".  .  .  .  .  .  .  .  .  .  .  .  .  .  .  .  .  .  .  .  .  .  .  .  .  .  .  .\n",
      "{\"id\": \"da6fc8d7-f03f-45ee-b7bd-7afabdcb3f62\", \"datasetType\": {\"name\": \"spectraction\", \"storageClass\": \"Spectraction\", \"dimensions\": {\"names\": [\"band\", \"instrument\", \"detector\", \"physical_filter\", \"visit\"]}}, \"dataId\": {\"dataId\": {\"band\": \"white\", \"instrument\": \"LATISS\", \"detector\": 0, \"physical_filter\": \"empty~holo4_003\", \"visit\": 2022120800044}}, \"run\": \"u/dagoret/spectro/noflat/empty~holo4/20221208/20221209T084535Z\"}\n",
      "++++++++++++++++++++++++++++++++++++++++++++++++++++++++++++++++++++++++++++++++++\n",
      "run =  u/dagoret/spectro/noflat/empty~holo4/20221208/20221209T084535Z\n",
      "isCalibration:  False\n",
      "======================================================= datasetType = spectraction =================================================================\n",
      "fullId:  {band: 'white', instrument: 'LATISS', detector: 0, physical_filter: 'empty~holo4_003', visit: 2022120800048}\n",
      "..................................................................................\n",
      "band:    white\n",
      "type:    DatasetType('spectraction', {band, instrument, detector, physical_filter, visit}, Spectraction)\n",
      "++++++++++++++++++++++++++++++++++++++++++++++++++++++++++++++++++++++++++++++++++\n",
      "id=UUID('d0e8e862-d201-4a6a-8b3f-c9430d44d6a6') datasetType=SerializedDatasetType(name='spectraction', storageClass='Spectraction', dimensions=SerializedDimensionGraph(names=['band', 'instrument', 'detector', 'physical_filter', 'visit']), parentStorageClass=None, isCalibration=False) dataId=SerializedDataCoordinate(dataId={'band': 'white', 'instrument': 'LATISS', 'detector': 0, 'physical_filter': 'empty~holo4_003', 'visit': 2022120800048}, records=None) run='u/dagoret/spectro/noflat/empty~holo4/20221208/20221209T085559Z' component=None\n",
      ".  .  .  .  .  .  .  .  .  .  .  .  .  .  .  .  .  .  .  .  .  .  .  .  .  .  .  .\n",
      "{\"id\": \"d0e8e862-d201-4a6a-8b3f-c9430d44d6a6\", \"datasetType\": {\"name\": \"spectraction\", \"storageClass\": \"Spectraction\", \"dimensions\": {\"names\": [\"band\", \"instrument\", \"detector\", \"physical_filter\", \"visit\"]}}, \"dataId\": {\"dataId\": {\"band\": \"white\", \"instrument\": \"LATISS\", \"detector\": 0, \"physical_filter\": \"empty~holo4_003\", \"visit\": 2022120800048}}, \"run\": \"u/dagoret/spectro/noflat/empty~holo4/20221208/20221209T085559Z\"}\n",
      "++++++++++++++++++++++++++++++++++++++++++++++++++++++++++++++++++++++++++++++++++\n",
      "run =  u/dagoret/spectro/noflat/empty~holo4/20221208/20221209T085559Z\n",
      "isCalibration:  False\n",
      "======================================================= datasetType = spectraction =================================================================\n",
      "fullId:  {band: 'white', instrument: 'LATISS', detector: 0, physical_filter: 'empty~holo4_003', visit: 2022120800049}\n",
      "..................................................................................\n",
      "band:    white\n",
      "type:    DatasetType('spectraction', {band, instrument, detector, physical_filter, visit}, Spectraction)\n",
      "++++++++++++++++++++++++++++++++++++++++++++++++++++++++++++++++++++++++++++++++++\n",
      "id=UUID('1919f795-a879-4655-ac23-74ef208105bc') datasetType=SerializedDatasetType(name='spectraction', storageClass='Spectraction', dimensions=SerializedDimensionGraph(names=['band', 'instrument', 'detector', 'physical_filter', 'visit']), parentStorageClass=None, isCalibration=False) dataId=SerializedDataCoordinate(dataId={'band': 'white', 'instrument': 'LATISS', 'detector': 0, 'physical_filter': 'empty~holo4_003', 'visit': 2022120800049}, records=None) run='u/dagoret/spectro/noflat/empty~holo4/20221208/20221209T090454Z' component=None\n",
      ".  .  .  .  .  .  .  .  .  .  .  .  .  .  .  .  .  .  .  .  .  .  .  .  .  .  .  .\n",
      "{\"id\": \"1919f795-a879-4655-ac23-74ef208105bc\", \"datasetType\": {\"name\": \"spectraction\", \"storageClass\": \"Spectraction\", \"dimensions\": {\"names\": [\"band\", \"instrument\", \"detector\", \"physical_filter\", \"visit\"]}}, \"dataId\": {\"dataId\": {\"band\": \"white\", \"instrument\": \"LATISS\", \"detector\": 0, \"physical_filter\": \"empty~holo4_003\", \"visit\": 2022120800049}}, \"run\": \"u/dagoret/spectro/noflat/empty~holo4/20221208/20221209T090454Z\"}\n",
      "++++++++++++++++++++++++++++++++++++++++++++++++++++++++++++++++++++++++++++++++++\n",
      "run =  u/dagoret/spectro/noflat/empty~holo4/20221208/20221209T090454Z\n",
      "isCalibration:  False\n"
     ]
    }
   ],
   "source": [
    "all_ref_for_spectraction = []\n",
    "\n",
    "for i, ref in enumerate(datasetRefs):\n",
    "    all_ref_for_spectraction.append(ref.dataId)\n",
    "    print(\"======================================================= datasetType = spectraction =================================================================\")\n",
    "   \n",
    "    print(\"fullId: \",ref.dataId.full)\n",
    "    print(\"..................................................................................\")\n",
    "    print(\"band:   \",ref.dataId[\"band\"])\n",
    "    print(\"type:   \",ref.datasetType)\n",
    "    \n",
    "    print(\"++++++++++++++++++++++++++++++++++++++++++++++++++++++++++++++++++++++++++++++++++\")\n",
    "    print(ref.to_simple())\n",
    "    print(\".  .  .  .  .  .  .  .  .  .  .  .  .  .  .  .  .  .  .  .  .  .  .  .  .  .  .  .\")\n",
    "    print(ref.to_json())\n",
    "    print(\"++++++++++++++++++++++++++++++++++++++++++++++++++++++++++++++++++++++++++++++++++\")\n",
    "    \n",
    "    print(\"run = \",ref.run)\n",
    "    print(\"isCalibration: \",ref.datasetType.isCalibration())"
   ]
  },
  {
   "cell_type": "code",
   "execution_count": null,
   "id": "7df1993e-e932-4d7b-92ca-df6a72d40e21",
   "metadata": {},
   "outputs": [],
   "source": [
    "ref"
   ]
  },
  {
   "cell_type": "code",
   "execution_count": null,
   "id": "066286e2-bbe4-4fe7-bdee-91273be91527",
   "metadata": {},
   "outputs": [],
   "source": [
    "ref.to_simple()"
   ]
  },
  {
   "cell_type": "code",
   "execution_count": null,
   "id": "a60ce5d4-ea01-4c1d-b7d4-d544a5a5ea8f",
   "metadata": {},
   "outputs": [],
   "source": [
    "ref.dataId"
   ]
  },
  {
   "cell_type": "code",
   "execution_count": null,
   "id": "097bbea8-0fd4-4835-b96e-896f101ef63b",
   "metadata": {},
   "outputs": [],
   "source": [
    "ref.dataId[\"visit\"]"
   ]
  },
  {
   "cell_type": "code",
   "execution_count": null,
   "id": "1d4502fd-489b-4431-a802-3e343419ec6e",
   "metadata": {},
   "outputs": [],
   "source": [
    "ref.dataId[\"physical_filter\"]"
   ]
  },
  {
   "cell_type": "code",
   "execution_count": null,
   "id": "8c21f092-4e17-441c-81f2-cc3bb3e4dd4c",
   "metadata": {},
   "outputs": [],
   "source": [
    "ref.run"
   ]
  },
  {
   "cell_type": "code",
   "execution_count": null,
   "id": "006bd096-3b89-432f-af8a-2b3fa2ee8e18",
   "metadata": {},
   "outputs": [],
   "source": [
    "ref.datasetType"
   ]
  },
  {
   "cell_type": "code",
   "execution_count": null,
   "id": "2dd2c552-6490-417f-9482-8f83dcc960ae",
   "metadata": {},
   "outputs": [],
   "source": [
    "ref.datasetType.dimensions[\"visit\"]"
   ]
  },
  {
   "cell_type": "code",
   "execution_count": null,
   "id": "daa5416f-22fc-4a1b-8778-9def46c369e0",
   "metadata": {},
   "outputs": [],
   "source": [
    "ref.id"
   ]
  },
  {
   "cell_type": "code",
   "execution_count": null,
   "id": "9d664feb-6662-4934-98b1-f825152e8ac8",
   "metadata": {},
   "outputs": [],
   "source": [
    "ref.to_simple()"
   ]
  },
  {
   "cell_type": "code",
   "execution_count": null,
   "id": "4fea39ba-2f11-4a8a-9248-c37ce3e7c0f4",
   "metadata": {},
   "outputs": [],
   "source": []
  }
 ],
 "metadata": {
  "kernelspec": {
   "display_name": "LSST",
   "language": "python",
   "name": "lsst"
  },
  "language_info": {
   "codemirror_mode": {
    "name": "ipython",
    "version": 3
   },
   "file_extension": ".py",
   "mimetype": "text/x-python",
   "name": "python",
   "nbconvert_exporter": "python",
   "pygments_lexer": "ipython3",
   "version": "3.10.5"
  }
 },
 "nbformat": 4,
 "nbformat_minor": 5
}
