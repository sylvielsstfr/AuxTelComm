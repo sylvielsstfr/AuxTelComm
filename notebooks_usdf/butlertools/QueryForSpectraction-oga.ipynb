{
 "cells": [
  {
   "cell_type": "markdown",
   "id": "0b8c2138-5194-4d03-8b77-be24e2cc8ee3",
   "metadata": {},
   "source": [
    "# Query for Spectraction in OGA"
   ]
  },
  {
   "cell_type": "markdown",
   "id": "740e34fb-3fef-45a8-941b-c229742ab016",
   "metadata": {},
   "source": [
    "- work with Weakly_2023_01\n",
    "- use jupyter kernel LSST\n",
    "\n",
    "- author : Sylvie Dagoret-Campagne\n",
    "- affiliation : IJCLab\n",
    "- creation date : 2022/10/27\n",
    "- last update : 2023/01/12\n"
   ]
  },
  {
   "cell_type": "code",
   "execution_count": 1,
   "id": "ed2c3410-fe83-432e-ab87-9f4513fa8d8b",
   "metadata": {
    "execution": {
     "iopub.execute_input": "2023-01-19T08:50:13.147457Z",
     "iopub.status.busy": "2023-01-19T08:50:13.147165Z",
     "iopub.status.idle": "2023-01-19T08:50:13.603963Z",
     "shell.execute_reply": "2023-01-19T08:50:13.603396Z",
     "shell.execute_reply.started": "2023-01-19T08:50:13.147439Z"
    }
   },
   "outputs": [
    {
     "name": "stdout",
     "output_type": "stream",
     "text": [
      "atmospec              LOCAL:/home/d/dagoret/repos/repos_w_2023_01/atmospec \tsetup\n",
      "eups                  LOCAL:/opt/lsst/software/stack/conda/miniconda3-py38_4.9.2/envs/lsst-scipipe-5.1.0/eups \tsetup\n",
      "spectractor           LOCAL:/home/d/dagoret/repos/repos_w_2023_01/Spectractor \tsetup\n"
     ]
    }
   ],
   "source": [
    "! eups list -s | grep LOCAL"
   ]
  },
  {
   "cell_type": "code",
   "execution_count": 2,
   "id": "70918d81-0cf6-4b0a-8f61-f5e5bec5b0e7",
   "metadata": {
    "execution": {
     "iopub.execute_input": "2023-01-19T08:50:13.604984Z",
     "iopub.status.busy": "2023-01-19T08:50:13.604752Z",
     "iopub.status.idle": "2023-01-19T08:50:14.043940Z",
     "shell.execute_reply": "2023-01-19T08:50:14.043316Z",
     "shell.execute_reply.started": "2023-01-19T08:50:13.604965Z"
    }
   },
   "outputs": [
    {
     "name": "stdout",
     "output_type": "stream",
     "text": [
      "   g754a7f0350+935911ccad \tcurrent w_2023_01 setup\n"
     ]
    }
   ],
   "source": [
    "! eups list -s lsst_distrib"
   ]
  },
  {
   "cell_type": "code",
   "execution_count": 3,
   "id": "f8d9cfca-5881-48c1-b2cb-0f794a2e4091",
   "metadata": {
    "execution": {
     "iopub.execute_input": "2023-01-19T08:50:14.044985Z",
     "iopub.status.busy": "2023-01-19T08:50:14.044742Z",
     "iopub.status.idle": "2023-01-19T08:50:14.401690Z",
     "shell.execute_reply": "2023-01-19T08:50:14.401156Z",
     "shell.execute_reply.started": "2023-01-19T08:50:14.044965Z"
    }
   },
   "outputs": [],
   "source": [
    "import lsst.daf.butler as dafButler"
   ]
  },
  {
   "cell_type": "code",
   "execution_count": 4,
   "id": "1c81d99a-5e91-4ba1-ba4a-c66b37905b98",
   "metadata": {
    "execution": {
     "iopub.execute_input": "2023-01-19T08:50:14.402582Z",
     "iopub.status.busy": "2023-01-19T08:50:14.402370Z",
     "iopub.status.idle": "2023-01-19T08:50:15.479718Z",
     "shell.execute_reply": "2023-01-19T08:50:15.479129Z",
     "shell.execute_reply.started": "2023-01-19T08:50:14.402565Z"
    }
   },
   "outputs": [],
   "source": [
    "#repo =  \"/sdf/group/rubin/repo/main\"\n",
    "repo = \"/sdf/group/rubin/repo/oga/\"\n",
    "butler = dafButler.Butler(repo)\n",
    "registry = butler.registry"
   ]
  },
  {
   "cell_type": "markdown",
   "id": "20dbb8da-3a08-4b4f-9437-4bf7f28c1782",
   "metadata": {},
   "source": [
    "## Give the collection"
   ]
  },
  {
   "cell_type": "code",
   "execution_count": 5,
   "id": "9629ea29-8ab4-4062-aed1-e16d62dc90c4",
   "metadata": {
    "execution": {
     "iopub.execute_input": "2023-01-19T08:50:15.480737Z",
     "iopub.status.busy": "2023-01-19T08:50:15.480497Z",
     "iopub.status.idle": "2023-01-19T08:50:15.509207Z",
     "shell.execute_reply": "2023-01-19T08:50:15.508525Z",
     "shell.execute_reply.started": "2023-01-19T08:50:15.480719Z"
    }
   },
   "outputs": [],
   "source": [
    "#my_collection = \"u/dagoret/spectro/noflat/empty~holo4/20220912\"\n",
    "#my_collection = \"u/dagoret/spectro/noflat/empty~holo4/20221207\"\n",
    "#my_collection = \"u/dagoret/spectro/noflat/empty~holo4/20221208\" # early january 2023\n",
    "my_collection = \"u/dagoret/BPS_manyspectro_v0\" # january 12th 2023\n",
    "my_collection = \"u/dagoret/BPS_manyspectro_v6\" # january 18th 2023\n",
    "datasetRefs = registry.queryDatasets(datasetType='spectraction', collections=my_collection, where= \"instrument='LATISS'\")"
   ]
  },
  {
   "cell_type": "code",
   "execution_count": 6,
   "id": "979b03d5-e54c-4d21-a848-98b820df1d16",
   "metadata": {
    "execution": {
     "iopub.execute_input": "2023-01-19T08:50:15.510213Z",
     "iopub.status.busy": "2023-01-19T08:50:15.510036Z",
     "iopub.status.idle": "2023-01-19T08:50:15.546114Z",
     "shell.execute_reply": "2023-01-19T08:50:15.545584Z",
     "shell.execute_reply.started": "2023-01-19T08:50:15.510196Z"
    }
   },
   "outputs": [
    {
     "name": "stdout",
     "output_type": "stream",
     "text": [
      "======================================================= datasetType = spectraction =================================================================\n",
      "fullId:  {band: 'white', instrument: 'LATISS', detector: 0, physical_filter: 'empty~holo4_003', visit: 2022120900296}\n",
      "..................................................................................\n",
      "band:    white\n",
      "type:    DatasetType('spectraction', {band, instrument, detector, physical_filter, visit}, Spectraction)\n",
      "++++++++++++++++++++++++++++++++++++++++++++++++++++++++++++++++++++++++++++++++++\n",
      "id=UUID('c7ae3053-4144-468e-8a11-792658271388') datasetType=SerializedDatasetType(name='spectraction', storageClass='Spectraction', dimensions=SerializedDimensionGraph(names=['band', 'instrument', 'detector', 'physical_filter', 'visit']), parentStorageClass=None, isCalibration=False) dataId=SerializedDataCoordinate(dataId={'band': 'white', 'instrument': 'LATISS', 'detector': 0, 'physical_filter': 'empty~holo4_003', 'visit': 2022120900296}, records=None) run='u/dagoret/BPS_manyspectro_v6/20230118T155420Z' component=None\n",
      ".  .  .  .  .  .  .  .  .  .  .  .  .  .  .  .  .  .  .  .  .  .  .  .  .  .  .  .\n",
      "{\"id\": \"c7ae3053-4144-468e-8a11-792658271388\", \"datasetType\": {\"name\": \"spectraction\", \"storageClass\": \"Spectraction\", \"dimensions\": {\"names\": [\"band\", \"instrument\", \"detector\", \"physical_filter\", \"visit\"]}}, \"dataId\": {\"dataId\": {\"band\": \"white\", \"instrument\": \"LATISS\", \"detector\": 0, \"physical_filter\": \"empty~holo4_003\", \"visit\": 2022120900296}}, \"run\": \"u/dagoret/BPS_manyspectro_v6/20230118T155420Z\"}\n",
      "++++++++++++++++++++++++++++++++++++++++++++++++++++++++++++++++++++++++++++++++++\n",
      "run =  u/dagoret/BPS_manyspectro_v6/20230118T155420Z\n",
      "isCalibration:  False\n",
      "======================================================= datasetType = spectraction =================================================================\n",
      "fullId:  {band: 'white', instrument: 'LATISS', detector: 0, physical_filter: 'empty~holo4_003', visit: 2022120900279}\n",
      "..................................................................................\n",
      "band:    white\n",
      "type:    DatasetType('spectraction', {band, instrument, detector, physical_filter, visit}, Spectraction)\n",
      "++++++++++++++++++++++++++++++++++++++++++++++++++++++++++++++++++++++++++++++++++\n",
      "id=UUID('ab6955dd-0197-4dcb-99d5-7f33a53839f1') datasetType=SerializedDatasetType(name='spectraction', storageClass='Spectraction', dimensions=SerializedDimensionGraph(names=['band', 'instrument', 'detector', 'physical_filter', 'visit']), parentStorageClass=None, isCalibration=False) dataId=SerializedDataCoordinate(dataId={'band': 'white', 'instrument': 'LATISS', 'detector': 0, 'physical_filter': 'empty~holo4_003', 'visit': 2022120900279}, records=None) run='u/dagoret/BPS_manyspectro_v6/20230118T155420Z' component=None\n",
      ".  .  .  .  .  .  .  .  .  .  .  .  .  .  .  .  .  .  .  .  .  .  .  .  .  .  .  .\n",
      "{\"id\": \"ab6955dd-0197-4dcb-99d5-7f33a53839f1\", \"datasetType\": {\"name\": \"spectraction\", \"storageClass\": \"Spectraction\", \"dimensions\": {\"names\": [\"band\", \"instrument\", \"detector\", \"physical_filter\", \"visit\"]}}, \"dataId\": {\"dataId\": {\"band\": \"white\", \"instrument\": \"LATISS\", \"detector\": 0, \"physical_filter\": \"empty~holo4_003\", \"visit\": 2022120900279}}, \"run\": \"u/dagoret/BPS_manyspectro_v6/20230118T155420Z\"}\n",
      "++++++++++++++++++++++++++++++++++++++++++++++++++++++++++++++++++++++++++++++++++\n",
      "run =  u/dagoret/BPS_manyspectro_v6/20230118T155420Z\n",
      "isCalibration:  False\n",
      "======================================================= datasetType = spectraction =================================================================\n",
      "fullId:  {band: 'white', instrument: 'LATISS', detector: 0, physical_filter: 'empty~holo4_003', visit: 2022120900290}\n",
      "..................................................................................\n",
      "band:    white\n",
      "type:    DatasetType('spectraction', {band, instrument, detector, physical_filter, visit}, Spectraction)\n",
      "++++++++++++++++++++++++++++++++++++++++++++++++++++++++++++++++++++++++++++++++++\n",
      "id=UUID('ddc11c2e-60e0-4491-b9da-ba644a6cfc0f') datasetType=SerializedDatasetType(name='spectraction', storageClass='Spectraction', dimensions=SerializedDimensionGraph(names=['band', 'instrument', 'detector', 'physical_filter', 'visit']), parentStorageClass=None, isCalibration=False) dataId=SerializedDataCoordinate(dataId={'band': 'white', 'instrument': 'LATISS', 'detector': 0, 'physical_filter': 'empty~holo4_003', 'visit': 2022120900290}, records=None) run='u/dagoret/BPS_manyspectro_v6/20230118T155420Z' component=None\n",
      ".  .  .  .  .  .  .  .  .  .  .  .  .  .  .  .  .  .  .  .  .  .  .  .  .  .  .  .\n",
      "{\"id\": \"ddc11c2e-60e0-4491-b9da-ba644a6cfc0f\", \"datasetType\": {\"name\": \"spectraction\", \"storageClass\": \"Spectraction\", \"dimensions\": {\"names\": [\"band\", \"instrument\", \"detector\", \"physical_filter\", \"visit\"]}}, \"dataId\": {\"dataId\": {\"band\": \"white\", \"instrument\": \"LATISS\", \"detector\": 0, \"physical_filter\": \"empty~holo4_003\", \"visit\": 2022120900290}}, \"run\": \"u/dagoret/BPS_manyspectro_v6/20230118T155420Z\"}\n",
      "++++++++++++++++++++++++++++++++++++++++++++++++++++++++++++++++++++++++++++++++++\n",
      "run =  u/dagoret/BPS_manyspectro_v6/20230118T155420Z\n",
      "isCalibration:  False\n",
      "======================================================= datasetType = spectraction =================================================================\n",
      "fullId:  {band: 'white', instrument: 'LATISS', detector: 0, physical_filter: 'empty~holo4_003', visit: 2022120900272}\n",
      "..................................................................................\n",
      "band:    white\n",
      "type:    DatasetType('spectraction', {band, instrument, detector, physical_filter, visit}, Spectraction)\n",
      "++++++++++++++++++++++++++++++++++++++++++++++++++++++++++++++++++++++++++++++++++\n",
      "id=UUID('fadfd726-fb1b-499d-99f8-fdcfc9757bb7') datasetType=SerializedDatasetType(name='spectraction', storageClass='Spectraction', dimensions=SerializedDimensionGraph(names=['band', 'instrument', 'detector', 'physical_filter', 'visit']), parentStorageClass=None, isCalibration=False) dataId=SerializedDataCoordinate(dataId={'band': 'white', 'instrument': 'LATISS', 'detector': 0, 'physical_filter': 'empty~holo4_003', 'visit': 2022120900272}, records=None) run='u/dagoret/BPS_manyspectro_v6/20230118T155420Z' component=None\n",
      ".  .  .  .  .  .  .  .  .  .  .  .  .  .  .  .  .  .  .  .  .  .  .  .  .  .  .  .\n",
      "{\"id\": \"fadfd726-fb1b-499d-99f8-fdcfc9757bb7\", \"datasetType\": {\"name\": \"spectraction\", \"storageClass\": \"Spectraction\", \"dimensions\": {\"names\": [\"band\", \"instrument\", \"detector\", \"physical_filter\", \"visit\"]}}, \"dataId\": {\"dataId\": {\"band\": \"white\", \"instrument\": \"LATISS\", \"detector\": 0, \"physical_filter\": \"empty~holo4_003\", \"visit\": 2022120900272}}, \"run\": \"u/dagoret/BPS_manyspectro_v6/20230118T155420Z\"}\n",
      "++++++++++++++++++++++++++++++++++++++++++++++++++++++++++++++++++++++++++++++++++\n",
      "run =  u/dagoret/BPS_manyspectro_v6/20230118T155420Z\n",
      "isCalibration:  False\n",
      "======================================================= datasetType = spectraction =================================================================\n",
      "fullId:  {band: 'white', instrument: 'LATISS', detector: 0, physical_filter: 'empty~holo4_003', visit: 2022120900293}\n",
      "..................................................................................\n",
      "band:    white\n",
      "type:    DatasetType('spectraction', {band, instrument, detector, physical_filter, visit}, Spectraction)\n",
      "++++++++++++++++++++++++++++++++++++++++++++++++++++++++++++++++++++++++++++++++++\n",
      "id=UUID('5d0b1088-febb-48f1-8b7f-fe777b71317b') datasetType=SerializedDatasetType(name='spectraction', storageClass='Spectraction', dimensions=SerializedDimensionGraph(names=['band', 'instrument', 'detector', 'physical_filter', 'visit']), parentStorageClass=None, isCalibration=False) dataId=SerializedDataCoordinate(dataId={'band': 'white', 'instrument': 'LATISS', 'detector': 0, 'physical_filter': 'empty~holo4_003', 'visit': 2022120900293}, records=None) run='u/dagoret/BPS_manyspectro_v6/20230118T155420Z' component=None\n",
      ".  .  .  .  .  .  .  .  .  .  .  .  .  .  .  .  .  .  .  .  .  .  .  .  .  .  .  .\n",
      "{\"id\": \"5d0b1088-febb-48f1-8b7f-fe777b71317b\", \"datasetType\": {\"name\": \"spectraction\", \"storageClass\": \"Spectraction\", \"dimensions\": {\"names\": [\"band\", \"instrument\", \"detector\", \"physical_filter\", \"visit\"]}}, \"dataId\": {\"dataId\": {\"band\": \"white\", \"instrument\": \"LATISS\", \"detector\": 0, \"physical_filter\": \"empty~holo4_003\", \"visit\": 2022120900293}}, \"run\": \"u/dagoret/BPS_manyspectro_v6/20230118T155420Z\"}\n",
      "++++++++++++++++++++++++++++++++++++++++++++++++++++++++++++++++++++++++++++++++++\n",
      "run =  u/dagoret/BPS_manyspectro_v6/20230118T155420Z\n",
      "isCalibration:  False\n",
      "======================================================= datasetType = spectraction =================================================================\n",
      "fullId:  {band: 'white', instrument: 'LATISS', detector: 0, physical_filter: 'empty~holo4_003', visit: 2022120900274}\n",
      "..................................................................................\n",
      "band:    white\n",
      "type:    DatasetType('spectraction', {band, instrument, detector, physical_filter, visit}, Spectraction)\n",
      "++++++++++++++++++++++++++++++++++++++++++++++++++++++++++++++++++++++++++++++++++\n",
      "id=UUID('b9d3597e-3bc4-4bbc-a772-6667b14d5b3c') datasetType=SerializedDatasetType(name='spectraction', storageClass='Spectraction', dimensions=SerializedDimensionGraph(names=['band', 'instrument', 'detector', 'physical_filter', 'visit']), parentStorageClass=None, isCalibration=False) dataId=SerializedDataCoordinate(dataId={'band': 'white', 'instrument': 'LATISS', 'detector': 0, 'physical_filter': 'empty~holo4_003', 'visit': 2022120900274}, records=None) run='u/dagoret/BPS_manyspectro_v6/20230118T155420Z' component=None\n",
      ".  .  .  .  .  .  .  .  .  .  .  .  .  .  .  .  .  .  .  .  .  .  .  .  .  .  .  .\n",
      "{\"id\": \"b9d3597e-3bc4-4bbc-a772-6667b14d5b3c\", \"datasetType\": {\"name\": \"spectraction\", \"storageClass\": \"Spectraction\", \"dimensions\": {\"names\": [\"band\", \"instrument\", \"detector\", \"physical_filter\", \"visit\"]}}, \"dataId\": {\"dataId\": {\"band\": \"white\", \"instrument\": \"LATISS\", \"detector\": 0, \"physical_filter\": \"empty~holo4_003\", \"visit\": 2022120900274}}, \"run\": \"u/dagoret/BPS_manyspectro_v6/20230118T155420Z\"}\n",
      "++++++++++++++++++++++++++++++++++++++++++++++++++++++++++++++++++++++++++++++++++\n",
      "run =  u/dagoret/BPS_manyspectro_v6/20230118T155420Z\n",
      "isCalibration:  False\n",
      "======================================================= datasetType = spectraction =================================================================\n",
      "fullId:  {band: 'white', instrument: 'LATISS', detector: 0, physical_filter: 'empty~holo4_003', visit: 2022120900318}\n",
      "..................................................................................\n",
      "band:    white\n",
      "type:    DatasetType('spectraction', {band, instrument, detector, physical_filter, visit}, Spectraction)\n",
      "++++++++++++++++++++++++++++++++++++++++++++++++++++++++++++++++++++++++++++++++++\n",
      "id=UUID('587707c0-53ba-4106-a68e-5ae4f359c919') datasetType=SerializedDatasetType(name='spectraction', storageClass='Spectraction', dimensions=SerializedDimensionGraph(names=['band', 'instrument', 'detector', 'physical_filter', 'visit']), parentStorageClass=None, isCalibration=False) dataId=SerializedDataCoordinate(dataId={'band': 'white', 'instrument': 'LATISS', 'detector': 0, 'physical_filter': 'empty~holo4_003', 'visit': 2022120900318}, records=None) run='u/dagoret/BPS_manyspectro_v6/20230118T155420Z' component=None\n",
      ".  .  .  .  .  .  .  .  .  .  .  .  .  .  .  .  .  .  .  .  .  .  .  .  .  .  .  .\n",
      "{\"id\": \"587707c0-53ba-4106-a68e-5ae4f359c919\", \"datasetType\": {\"name\": \"spectraction\", \"storageClass\": \"Spectraction\", \"dimensions\": {\"names\": [\"band\", \"instrument\", \"detector\", \"physical_filter\", \"visit\"]}}, \"dataId\": {\"dataId\": {\"band\": \"white\", \"instrument\": \"LATISS\", \"detector\": 0, \"physical_filter\": \"empty~holo4_003\", \"visit\": 2022120900318}}, \"run\": \"u/dagoret/BPS_manyspectro_v6/20230118T155420Z\"}\n",
      "++++++++++++++++++++++++++++++++++++++++++++++++++++++++++++++++++++++++++++++++++\n",
      "run =  u/dagoret/BPS_manyspectro_v6/20230118T155420Z\n",
      "isCalibration:  False\n",
      "======================================================= datasetType = spectraction =================================================================\n",
      "fullId:  {band: 'white', instrument: 'LATISS', detector: 0, physical_filter: 'empty~holo4_003', visit: 2022120900294}\n",
      "..................................................................................\n",
      "band:    white\n",
      "type:    DatasetType('spectraction', {band, instrument, detector, physical_filter, visit}, Spectraction)\n",
      "++++++++++++++++++++++++++++++++++++++++++++++++++++++++++++++++++++++++++++++++++\n",
      "id=UUID('3dc8ef66-60ab-4999-906e-f804e5f3bd52') datasetType=SerializedDatasetType(name='spectraction', storageClass='Spectraction', dimensions=SerializedDimensionGraph(names=['band', 'instrument', 'detector', 'physical_filter', 'visit']), parentStorageClass=None, isCalibration=False) dataId=SerializedDataCoordinate(dataId={'band': 'white', 'instrument': 'LATISS', 'detector': 0, 'physical_filter': 'empty~holo4_003', 'visit': 2022120900294}, records=None) run='u/dagoret/BPS_manyspectro_v6/20230118T155420Z' component=None\n",
      ".  .  .  .  .  .  .  .  .  .  .  .  .  .  .  .  .  .  .  .  .  .  .  .  .  .  .  .\n",
      "{\"id\": \"3dc8ef66-60ab-4999-906e-f804e5f3bd52\", \"datasetType\": {\"name\": \"spectraction\", \"storageClass\": \"Spectraction\", \"dimensions\": {\"names\": [\"band\", \"instrument\", \"detector\", \"physical_filter\", \"visit\"]}}, \"dataId\": {\"dataId\": {\"band\": \"white\", \"instrument\": \"LATISS\", \"detector\": 0, \"physical_filter\": \"empty~holo4_003\", \"visit\": 2022120900294}}, \"run\": \"u/dagoret/BPS_manyspectro_v6/20230118T155420Z\"}\n",
      "++++++++++++++++++++++++++++++++++++++++++++++++++++++++++++++++++++++++++++++++++\n",
      "run =  u/dagoret/BPS_manyspectro_v6/20230118T155420Z\n",
      "isCalibration:  False\n",
      "======================================================= datasetType = spectraction =================================================================\n",
      "fullId:  {band: 'white', instrument: 'LATISS', detector: 0, physical_filter: 'empty~holo4_003', visit: 2022120900273}\n",
      "..................................................................................\n",
      "band:    white\n",
      "type:    DatasetType('spectraction', {band, instrument, detector, physical_filter, visit}, Spectraction)\n",
      "++++++++++++++++++++++++++++++++++++++++++++++++++++++++++++++++++++++++++++++++++\n",
      "id=UUID('596c073c-de74-454d-8202-b1bf6d0e6865') datasetType=SerializedDatasetType(name='spectraction', storageClass='Spectraction', dimensions=SerializedDimensionGraph(names=['band', 'instrument', 'detector', 'physical_filter', 'visit']), parentStorageClass=None, isCalibration=False) dataId=SerializedDataCoordinate(dataId={'band': 'white', 'instrument': 'LATISS', 'detector': 0, 'physical_filter': 'empty~holo4_003', 'visit': 2022120900273}, records=None) run='u/dagoret/BPS_manyspectro_v6/20230118T155420Z' component=None\n",
      ".  .  .  .  .  .  .  .  .  .  .  .  .  .  .  .  .  .  .  .  .  .  .  .  .  .  .  .\n",
      "{\"id\": \"596c073c-de74-454d-8202-b1bf6d0e6865\", \"datasetType\": {\"name\": \"spectraction\", \"storageClass\": \"Spectraction\", \"dimensions\": {\"names\": [\"band\", \"instrument\", \"detector\", \"physical_filter\", \"visit\"]}}, \"dataId\": {\"dataId\": {\"band\": \"white\", \"instrument\": \"LATISS\", \"detector\": 0, \"physical_filter\": \"empty~holo4_003\", \"visit\": 2022120900273}}, \"run\": \"u/dagoret/BPS_manyspectro_v6/20230118T155420Z\"}\n",
      "++++++++++++++++++++++++++++++++++++++++++++++++++++++++++++++++++++++++++++++++++\n",
      "run =  u/dagoret/BPS_manyspectro_v6/20230118T155420Z\n",
      "isCalibration:  False\n",
      "======================================================= datasetType = spectraction =================================================================\n",
      "fullId:  {band: 'white', instrument: 'LATISS', detector: 0, physical_filter: 'empty~holo4_003', visit: 2022120900280}\n",
      "..................................................................................\n",
      "band:    white\n",
      "type:    DatasetType('spectraction', {band, instrument, detector, physical_filter, visit}, Spectraction)\n",
      "++++++++++++++++++++++++++++++++++++++++++++++++++++++++++++++++++++++++++++++++++\n",
      "id=UUID('3508fbdd-3410-4951-9a8a-c8cd7095c851') datasetType=SerializedDatasetType(name='spectraction', storageClass='Spectraction', dimensions=SerializedDimensionGraph(names=['band', 'instrument', 'detector', 'physical_filter', 'visit']), parentStorageClass=None, isCalibration=False) dataId=SerializedDataCoordinate(dataId={'band': 'white', 'instrument': 'LATISS', 'detector': 0, 'physical_filter': 'empty~holo4_003', 'visit': 2022120900280}, records=None) run='u/dagoret/BPS_manyspectro_v6/20230118T155420Z' component=None\n",
      ".  .  .  .  .  .  .  .  .  .  .  .  .  .  .  .  .  .  .  .  .  .  .  .  .  .  .  .\n",
      "{\"id\": \"3508fbdd-3410-4951-9a8a-c8cd7095c851\", \"datasetType\": {\"name\": \"spectraction\", \"storageClass\": \"Spectraction\", \"dimensions\": {\"names\": [\"band\", \"instrument\", \"detector\", \"physical_filter\", \"visit\"]}}, \"dataId\": {\"dataId\": {\"band\": \"white\", \"instrument\": \"LATISS\", \"detector\": 0, \"physical_filter\": \"empty~holo4_003\", \"visit\": 2022120900280}}, \"run\": \"u/dagoret/BPS_manyspectro_v6/20230118T155420Z\"}\n",
      "++++++++++++++++++++++++++++++++++++++++++++++++++++++++++++++++++++++++++++++++++\n",
      "run =  u/dagoret/BPS_manyspectro_v6/20230118T155420Z\n",
      "isCalibration:  False\n",
      "======================================================= datasetType = spectraction =================================================================\n",
      "fullId:  {band: 'white', instrument: 'LATISS', detector: 0, physical_filter: 'empty~holo4_003', visit: 2022120900297}\n",
      "..................................................................................\n",
      "band:    white\n",
      "type:    DatasetType('spectraction', {band, instrument, detector, physical_filter, visit}, Spectraction)\n",
      "++++++++++++++++++++++++++++++++++++++++++++++++++++++++++++++++++++++++++++++++++\n",
      "id=UUID('f13e27f7-90ef-40c5-b685-15021935a49b') datasetType=SerializedDatasetType(name='spectraction', storageClass='Spectraction', dimensions=SerializedDimensionGraph(names=['band', 'instrument', 'detector', 'physical_filter', 'visit']), parentStorageClass=None, isCalibration=False) dataId=SerializedDataCoordinate(dataId={'band': 'white', 'instrument': 'LATISS', 'detector': 0, 'physical_filter': 'empty~holo4_003', 'visit': 2022120900297}, records=None) run='u/dagoret/BPS_manyspectro_v6/20230118T155420Z' component=None\n",
      ".  .  .  .  .  .  .  .  .  .  .  .  .  .  .  .  .  .  .  .  .  .  .  .  .  .  .  .\n",
      "{\"id\": \"f13e27f7-90ef-40c5-b685-15021935a49b\", \"datasetType\": {\"name\": \"spectraction\", \"storageClass\": \"Spectraction\", \"dimensions\": {\"names\": [\"band\", \"instrument\", \"detector\", \"physical_filter\", \"visit\"]}}, \"dataId\": {\"dataId\": {\"band\": \"white\", \"instrument\": \"LATISS\", \"detector\": 0, \"physical_filter\": \"empty~holo4_003\", \"visit\": 2022120900297}}, \"run\": \"u/dagoret/BPS_manyspectro_v6/20230118T155420Z\"}\n",
      "++++++++++++++++++++++++++++++++++++++++++++++++++++++++++++++++++++++++++++++++++\n",
      "run =  u/dagoret/BPS_manyspectro_v6/20230118T155420Z\n",
      "isCalibration:  False\n",
      "======================================================= datasetType = spectraction =================================================================\n",
      "fullId:  {band: 'white', instrument: 'LATISS', detector: 0, physical_filter: 'empty~holo4_003', visit: 2022120900310}\n",
      "..................................................................................\n",
      "band:    white\n",
      "type:    DatasetType('spectraction', {band, instrument, detector, physical_filter, visit}, Spectraction)\n",
      "++++++++++++++++++++++++++++++++++++++++++++++++++++++++++++++++++++++++++++++++++\n",
      "id=UUID('4dc922b3-7acc-4e6e-bb0b-ab9a07f63823') datasetType=SerializedDatasetType(name='spectraction', storageClass='Spectraction', dimensions=SerializedDimensionGraph(names=['band', 'instrument', 'detector', 'physical_filter', 'visit']), parentStorageClass=None, isCalibration=False) dataId=SerializedDataCoordinate(dataId={'band': 'white', 'instrument': 'LATISS', 'detector': 0, 'physical_filter': 'empty~holo4_003', 'visit': 2022120900310}, records=None) run='u/dagoret/BPS_manyspectro_v6/20230118T155420Z' component=None\n",
      ".  .  .  .  .  .  .  .  .  .  .  .  .  .  .  .  .  .  .  .  .  .  .  .  .  .  .  .\n",
      "{\"id\": \"4dc922b3-7acc-4e6e-bb0b-ab9a07f63823\", \"datasetType\": {\"name\": \"spectraction\", \"storageClass\": \"Spectraction\", \"dimensions\": {\"names\": [\"band\", \"instrument\", \"detector\", \"physical_filter\", \"visit\"]}}, \"dataId\": {\"dataId\": {\"band\": \"white\", \"instrument\": \"LATISS\", \"detector\": 0, \"physical_filter\": \"empty~holo4_003\", \"visit\": 2022120900310}}, \"run\": \"u/dagoret/BPS_manyspectro_v6/20230118T155420Z\"}\n",
      "++++++++++++++++++++++++++++++++++++++++++++++++++++++++++++++++++++++++++++++++++\n",
      "run =  u/dagoret/BPS_manyspectro_v6/20230118T155420Z\n",
      "isCalibration:  False\n",
      "======================================================= datasetType = spectraction =================================================================\n",
      "fullId:  {band: 'white', instrument: 'LATISS', detector: 0, physical_filter: 'empty~holo4_003', visit: 2022120900305}\n",
      "..................................................................................\n",
      "band:    white\n",
      "type:    DatasetType('spectraction', {band, instrument, detector, physical_filter, visit}, Spectraction)\n",
      "++++++++++++++++++++++++++++++++++++++++++++++++++++++++++++++++++++++++++++++++++\n",
      "id=UUID('a6ef7d49-7789-416d-b3cb-f791ab6af8cc') datasetType=SerializedDatasetType(name='spectraction', storageClass='Spectraction', dimensions=SerializedDimensionGraph(names=['band', 'instrument', 'detector', 'physical_filter', 'visit']), parentStorageClass=None, isCalibration=False) dataId=SerializedDataCoordinate(dataId={'band': 'white', 'instrument': 'LATISS', 'detector': 0, 'physical_filter': 'empty~holo4_003', 'visit': 2022120900305}, records=None) run='u/dagoret/BPS_manyspectro_v6/20230118T155420Z' component=None\n",
      ".  .  .  .  .  .  .  .  .  .  .  .  .  .  .  .  .  .  .  .  .  .  .  .  .  .  .  .\n",
      "{\"id\": \"a6ef7d49-7789-416d-b3cb-f791ab6af8cc\", \"datasetType\": {\"name\": \"spectraction\", \"storageClass\": \"Spectraction\", \"dimensions\": {\"names\": [\"band\", \"instrument\", \"detector\", \"physical_filter\", \"visit\"]}}, \"dataId\": {\"dataId\": {\"band\": \"white\", \"instrument\": \"LATISS\", \"detector\": 0, \"physical_filter\": \"empty~holo4_003\", \"visit\": 2022120900305}}, \"run\": \"u/dagoret/BPS_manyspectro_v6/20230118T155420Z\"}\n",
      "++++++++++++++++++++++++++++++++++++++++++++++++++++++++++++++++++++++++++++++++++\n",
      "run =  u/dagoret/BPS_manyspectro_v6/20230118T155420Z\n",
      "isCalibration:  False\n",
      "======================================================= datasetType = spectraction =================================================================\n",
      "fullId:  {band: 'white', instrument: 'LATISS', detector: 0, physical_filter: 'empty~holo4_003', visit: 2022120900324}\n",
      "..................................................................................\n",
      "band:    white\n",
      "type:    DatasetType('spectraction', {band, instrument, detector, physical_filter, visit}, Spectraction)\n",
      "++++++++++++++++++++++++++++++++++++++++++++++++++++++++++++++++++++++++++++++++++\n",
      "id=UUID('815a9df3-a009-47de-8346-00751e08ddfd') datasetType=SerializedDatasetType(name='spectraction', storageClass='Spectraction', dimensions=SerializedDimensionGraph(names=['band', 'instrument', 'detector', 'physical_filter', 'visit']), parentStorageClass=None, isCalibration=False) dataId=SerializedDataCoordinate(dataId={'band': 'white', 'instrument': 'LATISS', 'detector': 0, 'physical_filter': 'empty~holo4_003', 'visit': 2022120900324}, records=None) run='u/dagoret/BPS_manyspectro_v6/20230118T155420Z' component=None\n",
      ".  .  .  .  .  .  .  .  .  .  .  .  .  .  .  .  .  .  .  .  .  .  .  .  .  .  .  .\n",
      "{\"id\": \"815a9df3-a009-47de-8346-00751e08ddfd\", \"datasetType\": {\"name\": \"spectraction\", \"storageClass\": \"Spectraction\", \"dimensions\": {\"names\": [\"band\", \"instrument\", \"detector\", \"physical_filter\", \"visit\"]}}, \"dataId\": {\"dataId\": {\"band\": \"white\", \"instrument\": \"LATISS\", \"detector\": 0, \"physical_filter\": \"empty~holo4_003\", \"visit\": 2022120900324}}, \"run\": \"u/dagoret/BPS_manyspectro_v6/20230118T155420Z\"}\n",
      "++++++++++++++++++++++++++++++++++++++++++++++++++++++++++++++++++++++++++++++++++\n",
      "run =  u/dagoret/BPS_manyspectro_v6/20230118T155420Z\n",
      "isCalibration:  False\n",
      "======================================================= datasetType = spectraction =================================================================\n",
      "fullId:  {band: 'white', instrument: 'LATISS', detector: 0, physical_filter: 'empty~holo4_003', visit: 2022120900323}\n",
      "..................................................................................\n",
      "band:    white\n",
      "type:    DatasetType('spectraction', {band, instrument, detector, physical_filter, visit}, Spectraction)\n",
      "++++++++++++++++++++++++++++++++++++++++++++++++++++++++++++++++++++++++++++++++++\n",
      "id=UUID('df0bb9bf-f45f-4f52-82c4-d592f6ba12e3') datasetType=SerializedDatasetType(name='spectraction', storageClass='Spectraction', dimensions=SerializedDimensionGraph(names=['band', 'instrument', 'detector', 'physical_filter', 'visit']), parentStorageClass=None, isCalibration=False) dataId=SerializedDataCoordinate(dataId={'band': 'white', 'instrument': 'LATISS', 'detector': 0, 'physical_filter': 'empty~holo4_003', 'visit': 2022120900323}, records=None) run='u/dagoret/BPS_manyspectro_v6/20230118T155420Z' component=None\n",
      ".  .  .  .  .  .  .  .  .  .  .  .  .  .  .  .  .  .  .  .  .  .  .  .  .  .  .  .\n",
      "{\"id\": \"df0bb9bf-f45f-4f52-82c4-d592f6ba12e3\", \"datasetType\": {\"name\": \"spectraction\", \"storageClass\": \"Spectraction\", \"dimensions\": {\"names\": [\"band\", \"instrument\", \"detector\", \"physical_filter\", \"visit\"]}}, \"dataId\": {\"dataId\": {\"band\": \"white\", \"instrument\": \"LATISS\", \"detector\": 0, \"physical_filter\": \"empty~holo4_003\", \"visit\": 2022120900323}}, \"run\": \"u/dagoret/BPS_manyspectro_v6/20230118T155420Z\"}\n",
      "++++++++++++++++++++++++++++++++++++++++++++++++++++++++++++++++++++++++++++++++++\n",
      "run =  u/dagoret/BPS_manyspectro_v6/20230118T155420Z\n",
      "isCalibration:  False\n",
      "======================================================= datasetType = spectraction =================================================================\n",
      "fullId:  {band: 'white', instrument: 'LATISS', detector: 0, physical_filter: 'empty~holo4_003', visit: 2022120900317}\n",
      "..................................................................................\n",
      "band:    white\n",
      "type:    DatasetType('spectraction', {band, instrument, detector, physical_filter, visit}, Spectraction)\n",
      "++++++++++++++++++++++++++++++++++++++++++++++++++++++++++++++++++++++++++++++++++\n",
      "id=UUID('015262e9-90ed-479e-96ed-f936f5aa70be') datasetType=SerializedDatasetType(name='spectraction', storageClass='Spectraction', dimensions=SerializedDimensionGraph(names=['band', 'instrument', 'detector', 'physical_filter', 'visit']), parentStorageClass=None, isCalibration=False) dataId=SerializedDataCoordinate(dataId={'band': 'white', 'instrument': 'LATISS', 'detector': 0, 'physical_filter': 'empty~holo4_003', 'visit': 2022120900317}, records=None) run='u/dagoret/BPS_manyspectro_v6/20230118T155420Z' component=None\n",
      ".  .  .  .  .  .  .  .  .  .  .  .  .  .  .  .  .  .  .  .  .  .  .  .  .  .  .  .\n",
      "{\"id\": \"015262e9-90ed-479e-96ed-f936f5aa70be\", \"datasetType\": {\"name\": \"spectraction\", \"storageClass\": \"Spectraction\", \"dimensions\": {\"names\": [\"band\", \"instrument\", \"detector\", \"physical_filter\", \"visit\"]}}, \"dataId\": {\"dataId\": {\"band\": \"white\", \"instrument\": \"LATISS\", \"detector\": 0, \"physical_filter\": \"empty~holo4_003\", \"visit\": 2022120900317}}, \"run\": \"u/dagoret/BPS_manyspectro_v6/20230118T155420Z\"}\n",
      "++++++++++++++++++++++++++++++++++++++++++++++++++++++++++++++++++++++++++++++++++\n",
      "run =  u/dagoret/BPS_manyspectro_v6/20230118T155420Z\n",
      "isCalibration:  False\n",
      "======================================================= datasetType = spectraction =================================================================\n",
      "fullId:  {band: 'white', instrument: 'LATISS', detector: 0, physical_filter: 'empty~holo4_003', visit: 2022120900313}\n",
      "..................................................................................\n",
      "band:    white\n",
      "type:    DatasetType('spectraction', {band, instrument, detector, physical_filter, visit}, Spectraction)\n",
      "++++++++++++++++++++++++++++++++++++++++++++++++++++++++++++++++++++++++++++++++++\n",
      "id=UUID('2f63f992-0646-4a3f-91ff-36344c450bdc') datasetType=SerializedDatasetType(name='spectraction', storageClass='Spectraction', dimensions=SerializedDimensionGraph(names=['band', 'instrument', 'detector', 'physical_filter', 'visit']), parentStorageClass=None, isCalibration=False) dataId=SerializedDataCoordinate(dataId={'band': 'white', 'instrument': 'LATISS', 'detector': 0, 'physical_filter': 'empty~holo4_003', 'visit': 2022120900313}, records=None) run='u/dagoret/BPS_manyspectro_v6/20230118T155420Z' component=None\n",
      ".  .  .  .  .  .  .  .  .  .  .  .  .  .  .  .  .  .  .  .  .  .  .  .  .  .  .  .\n",
      "{\"id\": \"2f63f992-0646-4a3f-91ff-36344c450bdc\", \"datasetType\": {\"name\": \"spectraction\", \"storageClass\": \"Spectraction\", \"dimensions\": {\"names\": [\"band\", \"instrument\", \"detector\", \"physical_filter\", \"visit\"]}}, \"dataId\": {\"dataId\": {\"band\": \"white\", \"instrument\": \"LATISS\", \"detector\": 0, \"physical_filter\": \"empty~holo4_003\", \"visit\": 2022120900313}}, \"run\": \"u/dagoret/BPS_manyspectro_v6/20230118T155420Z\"}\n",
      "++++++++++++++++++++++++++++++++++++++++++++++++++++++++++++++++++++++++++++++++++\n",
      "run =  u/dagoret/BPS_manyspectro_v6/20230118T155420Z\n",
      "isCalibration:  False\n",
      "======================================================= datasetType = spectraction =================================================================\n",
      "fullId:  {band: 'white', instrument: 'LATISS', detector: 0, physical_filter: 'empty~holo4_003', visit: 2022120900292}\n",
      "..................................................................................\n",
      "band:    white\n",
      "type:    DatasetType('spectraction', {band, instrument, detector, physical_filter, visit}, Spectraction)\n",
      "++++++++++++++++++++++++++++++++++++++++++++++++++++++++++++++++++++++++++++++++++\n",
      "id=UUID('a69bc63d-834f-4c7d-9b16-239ec1b05b23') datasetType=SerializedDatasetType(name='spectraction', storageClass='Spectraction', dimensions=SerializedDimensionGraph(names=['band', 'instrument', 'detector', 'physical_filter', 'visit']), parentStorageClass=None, isCalibration=False) dataId=SerializedDataCoordinate(dataId={'band': 'white', 'instrument': 'LATISS', 'detector': 0, 'physical_filter': 'empty~holo4_003', 'visit': 2022120900292}, records=None) run='u/dagoret/BPS_manyspectro_v6/20230118T155420Z' component=None\n",
      ".  .  .  .  .  .  .  .  .  .  .  .  .  .  .  .  .  .  .  .  .  .  .  .  .  .  .  .\n",
      "{\"id\": \"a69bc63d-834f-4c7d-9b16-239ec1b05b23\", \"datasetType\": {\"name\": \"spectraction\", \"storageClass\": \"Spectraction\", \"dimensions\": {\"names\": [\"band\", \"instrument\", \"detector\", \"physical_filter\", \"visit\"]}}, \"dataId\": {\"dataId\": {\"band\": \"white\", \"instrument\": \"LATISS\", \"detector\": 0, \"physical_filter\": \"empty~holo4_003\", \"visit\": 2022120900292}}, \"run\": \"u/dagoret/BPS_manyspectro_v6/20230118T155420Z\"}\n",
      "++++++++++++++++++++++++++++++++++++++++++++++++++++++++++++++++++++++++++++++++++\n",
      "run =  u/dagoret/BPS_manyspectro_v6/20230118T155420Z\n",
      "isCalibration:  False\n",
      "======================================================= datasetType = spectraction =================================================================\n",
      "fullId:  {band: 'white', instrument: 'LATISS', detector: 0, physical_filter: 'empty~holo4_003', visit: 2022120900306}\n",
      "..................................................................................\n",
      "band:    white\n",
      "type:    DatasetType('spectraction', {band, instrument, detector, physical_filter, visit}, Spectraction)\n",
      "++++++++++++++++++++++++++++++++++++++++++++++++++++++++++++++++++++++++++++++++++\n",
      "id=UUID('f9c921e5-f597-4e50-872e-e217aa5754a0') datasetType=SerializedDatasetType(name='spectraction', storageClass='Spectraction', dimensions=SerializedDimensionGraph(names=['band', 'instrument', 'detector', 'physical_filter', 'visit']), parentStorageClass=None, isCalibration=False) dataId=SerializedDataCoordinate(dataId={'band': 'white', 'instrument': 'LATISS', 'detector': 0, 'physical_filter': 'empty~holo4_003', 'visit': 2022120900306}, records=None) run='u/dagoret/BPS_manyspectro_v6/20230118T155420Z' component=None\n",
      ".  .  .  .  .  .  .  .  .  .  .  .  .  .  .  .  .  .  .  .  .  .  .  .  .  .  .  .\n",
      "{\"id\": \"f9c921e5-f597-4e50-872e-e217aa5754a0\", \"datasetType\": {\"name\": \"spectraction\", \"storageClass\": \"Spectraction\", \"dimensions\": {\"names\": [\"band\", \"instrument\", \"detector\", \"physical_filter\", \"visit\"]}}, \"dataId\": {\"dataId\": {\"band\": \"white\", \"instrument\": \"LATISS\", \"detector\": 0, \"physical_filter\": \"empty~holo4_003\", \"visit\": 2022120900306}}, \"run\": \"u/dagoret/BPS_manyspectro_v6/20230118T155420Z\"}\n",
      "++++++++++++++++++++++++++++++++++++++++++++++++++++++++++++++++++++++++++++++++++\n",
      "run =  u/dagoret/BPS_manyspectro_v6/20230118T155420Z\n",
      "isCalibration:  False\n",
      "======================================================= datasetType = spectraction =================================================================\n",
      "fullId:  {band: 'white', instrument: 'LATISS', detector: 0, physical_filter: 'empty~holo4_003', visit: 2022120900295}\n",
      "..................................................................................\n",
      "band:    white\n",
      "type:    DatasetType('spectraction', {band, instrument, detector, physical_filter, visit}, Spectraction)\n",
      "++++++++++++++++++++++++++++++++++++++++++++++++++++++++++++++++++++++++++++++++++\n",
      "id=UUID('248fa201-6add-42d7-9a61-7ace6bead0c5') datasetType=SerializedDatasetType(name='spectraction', storageClass='Spectraction', dimensions=SerializedDimensionGraph(names=['band', 'instrument', 'detector', 'physical_filter', 'visit']), parentStorageClass=None, isCalibration=False) dataId=SerializedDataCoordinate(dataId={'band': 'white', 'instrument': 'LATISS', 'detector': 0, 'physical_filter': 'empty~holo4_003', 'visit': 2022120900295}, records=None) run='u/dagoret/BPS_manyspectro_v6/20230118T155420Z' component=None\n",
      ".  .  .  .  .  .  .  .  .  .  .  .  .  .  .  .  .  .  .  .  .  .  .  .  .  .  .  .\n",
      "{\"id\": \"248fa201-6add-42d7-9a61-7ace6bead0c5\", \"datasetType\": {\"name\": \"spectraction\", \"storageClass\": \"Spectraction\", \"dimensions\": {\"names\": [\"band\", \"instrument\", \"detector\", \"physical_filter\", \"visit\"]}}, \"dataId\": {\"dataId\": {\"band\": \"white\", \"instrument\": \"LATISS\", \"detector\": 0, \"physical_filter\": \"empty~holo4_003\", \"visit\": 2022120900295}}, \"run\": \"u/dagoret/BPS_manyspectro_v6/20230118T155420Z\"}\n",
      "++++++++++++++++++++++++++++++++++++++++++++++++++++++++++++++++++++++++++++++++++\n",
      "run =  u/dagoret/BPS_manyspectro_v6/20230118T155420Z\n",
      "isCalibration:  False\n",
      "======================================================= datasetType = spectraction =================================================================\n",
      "fullId:  {band: 'white', instrument: 'LATISS', detector: 0, physical_filter: 'empty~holo4_003', visit: 2022120900291}\n",
      "..................................................................................\n",
      "band:    white\n",
      "type:    DatasetType('spectraction', {band, instrument, detector, physical_filter, visit}, Spectraction)\n",
      "++++++++++++++++++++++++++++++++++++++++++++++++++++++++++++++++++++++++++++++++++\n",
      "id=UUID('89a4ed5d-c5ce-4134-a41f-9d5d17d0462d') datasetType=SerializedDatasetType(name='spectraction', storageClass='Spectraction', dimensions=SerializedDimensionGraph(names=['band', 'instrument', 'detector', 'physical_filter', 'visit']), parentStorageClass=None, isCalibration=False) dataId=SerializedDataCoordinate(dataId={'band': 'white', 'instrument': 'LATISS', 'detector': 0, 'physical_filter': 'empty~holo4_003', 'visit': 2022120900291}, records=None) run='u/dagoret/BPS_manyspectro_v6/20230118T155420Z' component=None\n",
      ".  .  .  .  .  .  .  .  .  .  .  .  .  .  .  .  .  .  .  .  .  .  .  .  .  .  .  .\n",
      "{\"id\": \"89a4ed5d-c5ce-4134-a41f-9d5d17d0462d\", \"datasetType\": {\"name\": \"spectraction\", \"storageClass\": \"Spectraction\", \"dimensions\": {\"names\": [\"band\", \"instrument\", \"detector\", \"physical_filter\", \"visit\"]}}, \"dataId\": {\"dataId\": {\"band\": \"white\", \"instrument\": \"LATISS\", \"detector\": 0, \"physical_filter\": \"empty~holo4_003\", \"visit\": 2022120900291}}, \"run\": \"u/dagoret/BPS_manyspectro_v6/20230118T155420Z\"}\n",
      "++++++++++++++++++++++++++++++++++++++++++++++++++++++++++++++++++++++++++++++++++\n",
      "run =  u/dagoret/BPS_manyspectro_v6/20230118T155420Z\n",
      "isCalibration:  False\n"
     ]
    }
   ],
   "source": [
    "all_ref_for_spectraction = []\n",
    "\n",
    "for i, ref in enumerate(datasetRefs):\n",
    "    all_ref_for_spectraction.append(ref.dataId)\n",
    "    print(\"======================================================= datasetType = spectraction =================================================================\")\n",
    "   \n",
    "    print(\"fullId: \",ref.dataId.full)\n",
    "    print(\"..................................................................................\")\n",
    "    print(\"band:   \",ref.dataId[\"band\"])\n",
    "    print(\"type:   \",ref.datasetType)\n",
    "    \n",
    "    print(\"++++++++++++++++++++++++++++++++++++++++++++++++++++++++++++++++++++++++++++++++++\")\n",
    "    print(ref.to_simple())\n",
    "    print(\".  .  .  .  .  .  .  .  .  .  .  .  .  .  .  .  .  .  .  .  .  .  .  .  .  .  .  .\")\n",
    "    print(ref.to_json())\n",
    "    print(\"++++++++++++++++++++++++++++++++++++++++++++++++++++++++++++++++++++++++++++++++++\")\n",
    "    \n",
    "    print(\"run = \",ref.run)\n",
    "    print(\"isCalibration: \",ref.datasetType.isCalibration())"
   ]
  },
  {
   "cell_type": "code",
   "execution_count": 7,
   "id": "7df1993e-e932-4d7b-92ca-df6a72d40e21",
   "metadata": {
    "execution": {
     "iopub.execute_input": "2023-01-19T08:50:15.547097Z",
     "iopub.status.busy": "2023-01-19T08:50:15.546814Z",
     "iopub.status.idle": "2023-01-19T08:50:15.593443Z",
     "shell.execute_reply": "2023-01-19T08:50:15.592956Z",
     "shell.execute_reply.started": "2023-01-19T08:50:15.547081Z"
    }
   },
   "outputs": [
    {
     "data": {
      "text/plain": [
       "DatasetRef(DatasetType('spectraction', {band, instrument, detector, physical_filter, visit}, Spectraction), {instrument: 'LATISS', detector: 0, visit: 2022120900291, ...}, id=89a4ed5d-c5ce-4134-a41f-9d5d17d0462d, run='u/dagoret/BPS_manyspectro_v6/20230118T155420Z')"
      ]
     },
     "execution_count": 7,
     "metadata": {},
     "output_type": "execute_result"
    }
   ],
   "source": [
    "ref"
   ]
  },
  {
   "cell_type": "code",
   "execution_count": 8,
   "id": "066286e2-bbe4-4fe7-bdee-91273be91527",
   "metadata": {
    "execution": {
     "iopub.execute_input": "2023-01-19T08:50:15.594471Z",
     "iopub.status.busy": "2023-01-19T08:50:15.594089Z",
     "iopub.status.idle": "2023-01-19T08:50:15.652428Z",
     "shell.execute_reply": "2023-01-19T08:50:15.651936Z",
     "shell.execute_reply.started": "2023-01-19T08:50:15.594454Z"
    }
   },
   "outputs": [
    {
     "data": {
      "text/plain": [
       "SerializedDatasetRef(id=UUID('89a4ed5d-c5ce-4134-a41f-9d5d17d0462d'), datasetType=SerializedDatasetType(name='spectraction', storageClass='Spectraction', dimensions=SerializedDimensionGraph(names=['band', 'instrument', 'detector', 'physical_filter', 'visit']), parentStorageClass=None, isCalibration=False), dataId=SerializedDataCoordinate(dataId={'band': 'white', 'instrument': 'LATISS', 'detector': 0, 'physical_filter': 'empty~holo4_003', 'visit': 2022120900291}, records=None), run='u/dagoret/BPS_manyspectro_v6/20230118T155420Z', component=None)"
      ]
     },
     "execution_count": 8,
     "metadata": {},
     "output_type": "execute_result"
    }
   ],
   "source": [
    "ref.to_simple()"
   ]
  },
  {
   "cell_type": "code",
   "execution_count": 9,
   "id": "a60ce5d4-ea01-4c1d-b7d4-d544a5a5ea8f",
   "metadata": {
    "execution": {
     "iopub.execute_input": "2023-01-19T08:50:15.653420Z",
     "iopub.status.busy": "2023-01-19T08:50:15.653080Z",
     "iopub.status.idle": "2023-01-19T08:50:15.713141Z",
     "shell.execute_reply": "2023-01-19T08:50:15.712617Z",
     "shell.execute_reply.started": "2023-01-19T08:50:15.653402Z"
    }
   },
   "outputs": [
    {
     "data": {
      "text/plain": [
       "{instrument: 'LATISS', detector: 0, visit: 2022120900291, ...}"
      ]
     },
     "execution_count": 9,
     "metadata": {},
     "output_type": "execute_result"
    }
   ],
   "source": [
    "ref.dataId"
   ]
  },
  {
   "cell_type": "code",
   "execution_count": 10,
   "id": "097bbea8-0fd4-4835-b96e-896f101ef63b",
   "metadata": {
    "execution": {
     "iopub.execute_input": "2023-01-19T08:50:15.714082Z",
     "iopub.status.busy": "2023-01-19T08:50:15.713851Z",
     "iopub.status.idle": "2023-01-19T08:50:15.773457Z",
     "shell.execute_reply": "2023-01-19T08:50:15.772975Z",
     "shell.execute_reply.started": "2023-01-19T08:50:15.714065Z"
    }
   },
   "outputs": [
    {
     "data": {
      "text/plain": [
       "2022120900291"
      ]
     },
     "execution_count": 10,
     "metadata": {},
     "output_type": "execute_result"
    }
   ],
   "source": [
    "ref.dataId[\"visit\"]"
   ]
  },
  {
   "cell_type": "code",
   "execution_count": 11,
   "id": "1d4502fd-489b-4431-a802-3e343419ec6e",
   "metadata": {
    "execution": {
     "iopub.execute_input": "2023-01-19T08:50:15.774334Z",
     "iopub.status.busy": "2023-01-19T08:50:15.774105Z",
     "iopub.status.idle": "2023-01-19T08:50:15.835313Z",
     "shell.execute_reply": "2023-01-19T08:50:15.834910Z",
     "shell.execute_reply.started": "2023-01-19T08:50:15.774318Z"
    }
   },
   "outputs": [
    {
     "data": {
      "text/plain": [
       "'empty~holo4_003'"
      ]
     },
     "execution_count": 11,
     "metadata": {},
     "output_type": "execute_result"
    }
   ],
   "source": [
    "ref.dataId[\"physical_filter\"]"
   ]
  },
  {
   "cell_type": "code",
   "execution_count": 12,
   "id": "8c21f092-4e17-441c-81f2-cc3bb3e4dd4c",
   "metadata": {
    "execution": {
     "iopub.execute_input": "2023-01-19T08:50:15.836173Z",
     "iopub.status.busy": "2023-01-19T08:50:15.835876Z",
     "iopub.status.idle": "2023-01-19T08:50:15.896600Z",
     "shell.execute_reply": "2023-01-19T08:50:15.896192Z",
     "shell.execute_reply.started": "2023-01-19T08:50:15.836156Z"
    }
   },
   "outputs": [
    {
     "data": {
      "text/plain": [
       "'u/dagoret/BPS_manyspectro_v6/20230118T155420Z'"
      ]
     },
     "execution_count": 12,
     "metadata": {},
     "output_type": "execute_result"
    }
   ],
   "source": [
    "ref.run"
   ]
  },
  {
   "cell_type": "code",
   "execution_count": 13,
   "id": "006bd096-3b89-432f-af8a-2b3fa2ee8e18",
   "metadata": {
    "execution": {
     "iopub.execute_input": "2023-01-19T08:50:15.897409Z",
     "iopub.status.busy": "2023-01-19T08:50:15.897131Z",
     "iopub.status.idle": "2023-01-19T08:50:15.957603Z",
     "shell.execute_reply": "2023-01-19T08:50:15.957195Z",
     "shell.execute_reply.started": "2023-01-19T08:50:15.897390Z"
    }
   },
   "outputs": [
    {
     "data": {
      "text/plain": [
       "DatasetType('spectraction', {band, instrument, detector, physical_filter, visit}, Spectraction)"
      ]
     },
     "execution_count": 13,
     "metadata": {},
     "output_type": "execute_result"
    }
   ],
   "source": [
    "ref.datasetType"
   ]
  },
  {
   "cell_type": "code",
   "execution_count": 14,
   "id": "2dd2c552-6490-417f-9482-8f83dcc960ae",
   "metadata": {
    "execution": {
     "iopub.execute_input": "2023-01-19T08:50:15.958426Z",
     "iopub.status.busy": "2023-01-19T08:50:15.958166Z",
     "iopub.status.idle": "2023-01-19T08:50:16.018598Z",
     "shell.execute_reply": "2023-01-19T08:50:16.018169Z",
     "shell.execute_reply.started": "2023-01-19T08:50:15.958409Z"
    }
   },
   "outputs": [
    {
     "data": {
      "text/plain": [
       "DatabaseDimension(visit)"
      ]
     },
     "execution_count": 14,
     "metadata": {},
     "output_type": "execute_result"
    }
   ],
   "source": [
    "ref.datasetType.dimensions[\"visit\"]"
   ]
  },
  {
   "cell_type": "code",
   "execution_count": 15,
   "id": "daa5416f-22fc-4a1b-8778-9def46c369e0",
   "metadata": {
    "execution": {
     "iopub.execute_input": "2023-01-19T08:50:16.019460Z",
     "iopub.status.busy": "2023-01-19T08:50:16.019189Z",
     "iopub.status.idle": "2023-01-19T08:50:16.079174Z",
     "shell.execute_reply": "2023-01-19T08:50:16.078695Z",
     "shell.execute_reply.started": "2023-01-19T08:50:16.019443Z"
    }
   },
   "outputs": [
    {
     "data": {
      "text/plain": [
       "UUID('89a4ed5d-c5ce-4134-a41f-9d5d17d0462d')"
      ]
     },
     "execution_count": 15,
     "metadata": {},
     "output_type": "execute_result"
    }
   ],
   "source": [
    "ref.id"
   ]
  },
  {
   "cell_type": "code",
   "execution_count": 16,
   "id": "9d664feb-6662-4934-98b1-f825152e8ac8",
   "metadata": {
    "execution": {
     "iopub.execute_input": "2023-01-19T08:50:16.080147Z",
     "iopub.status.busy": "2023-01-19T08:50:16.079822Z",
     "iopub.status.idle": "2023-01-19T08:50:16.140282Z",
     "shell.execute_reply": "2023-01-19T08:50:16.139847Z",
     "shell.execute_reply.started": "2023-01-19T08:50:16.080128Z"
    }
   },
   "outputs": [
    {
     "data": {
      "text/plain": [
       "SerializedDatasetRef(id=UUID('89a4ed5d-c5ce-4134-a41f-9d5d17d0462d'), datasetType=SerializedDatasetType(name='spectraction', storageClass='Spectraction', dimensions=SerializedDimensionGraph(names=['band', 'instrument', 'detector', 'physical_filter', 'visit']), parentStorageClass=None, isCalibration=False), dataId=SerializedDataCoordinate(dataId={'band': 'white', 'instrument': 'LATISS', 'detector': 0, 'physical_filter': 'empty~holo4_003', 'visit': 2022120900291}, records=None), run='u/dagoret/BPS_manyspectro_v6/20230118T155420Z', component=None)"
      ]
     },
     "execution_count": 16,
     "metadata": {},
     "output_type": "execute_result"
    }
   ],
   "source": [
    "ref.to_simple()"
   ]
  },
  {
   "cell_type": "code",
   "execution_count": null,
   "id": "4fea39ba-2f11-4a8a-9248-c37ce3e7c0f4",
   "metadata": {},
   "outputs": [],
   "source": []
  }
 ],
 "metadata": {
  "kernelspec": {
   "display_name": "LSST",
   "language": "python",
   "name": "lsst"
  },
  "language_info": {
   "codemirror_mode": {
    "name": "ipython",
    "version": 3
   },
   "file_extension": ".py",
   "mimetype": "text/x-python",
   "name": "python",
   "nbconvert_exporter": "python",
   "pygments_lexer": "ipython3",
   "version": "3.11.4"
  }
 },
 "nbformat": 4,
 "nbformat_minor": 5
}
