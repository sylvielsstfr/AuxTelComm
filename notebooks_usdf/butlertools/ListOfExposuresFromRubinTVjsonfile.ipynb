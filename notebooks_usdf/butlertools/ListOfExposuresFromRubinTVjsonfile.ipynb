{
 "cells": [
  {
   "cell_type": "markdown",
   "id": "25256304",
   "metadata": {
    "tags": []
   },
   "source": [
    "# List of Exposures from RubinTV file\n",
    "\n",
    "\n",
    "- work with Weakly_2023_35\n",
    "- use jupyter kernel LSST\n",
    "\n",
    "\n",
    "- author : Sylvie Dagoret-Campagne\n",
    "- affiliation : IJCLab\n",
    "- creation date : 2023/09/13\n",
    "- last update : 2023/09/15\n",
    "\n"
   ]
  },
  {
   "cell_type": "code",
   "execution_count": 1,
   "id": "e1ac4014",
   "metadata": {
    "execution": {
     "iopub.execute_input": "2023-09-15T08:17:29.284314Z",
     "iopub.status.busy": "2023-09-15T08:17:29.284143Z",
     "iopub.status.idle": "2023-09-15T08:17:29.288858Z",
     "shell.execute_reply": "2023-09-15T08:17:29.288503Z",
     "shell.execute_reply.started": "2023-09-15T08:17:29.284283Z"
    },
    "tags": []
   },
   "outputs": [
    {
     "name": "stdout",
     "output_type": "stream",
     "text": [
      "/opt/lsst/software/stack/conda/miniconda3-py38_4.9.2/envs/lsst-scipipe-0.7.0/bin/python3\n"
     ]
    }
   ],
   "source": [
    "import sys\n",
    "print(sys.executable)"
   ]
  },
  {
   "cell_type": "code",
   "execution_count": 2,
   "id": "e4072eba",
   "metadata": {
    "execution": {
     "iopub.execute_input": "2023-09-15T08:17:29.289543Z",
     "iopub.status.busy": "2023-09-15T08:17:29.289421Z",
     "iopub.status.idle": "2023-09-15T08:17:29.294173Z",
     "shell.execute_reply": "2023-09-15T08:17:29.293837Z",
     "shell.execute_reply.started": "2023-09-15T08:17:29.289528Z"
    },
    "tags": []
   },
   "outputs": [
    {
     "name": "stdout",
     "output_type": "stream",
     "text": [
      "['/sdf/data/rubin/user/dagoret/AuxTel_summit_tests_2023/butlertools', '/home/d/dagoret/repos/repos_w_2023_35/analysis_tools/python', '/home/d/dagoret/repos/repos_w_2023_35/Spectractor/lib/python', '/opt/lsst/software/stack/stack/miniconda3-py38_4.9.2-0.7.0/Linux64/display_firefly/22.0.0+269b7e55e3/python', '/opt/lsst/software/stack/stack/miniconda3-py38_4.9.2-0.7.0/Linux64/astshim/22.0.0+64c1bc5aa5/python', '/opt/lsst/software/stack/stack/miniconda3-py38_4.9.2-0.7.0/Linux64/sphgeom/22.0.1-1-g8760c09+64c1bc5aa5/python', '/opt/lsst/software/stack/stack/miniconda3-py38_4.9.2-0.7.0/Linux64/geom/22.0.1-3-g8c1d971+f253ffa91f/python', '/opt/lsst/software/stack/stack/miniconda3-py38_4.9.2-0.7.0/Linux64/pex_config/22.0.0+7b3a3f865e/python', '/opt/lsst/software/stack/stack/miniconda3-py38_4.9.2-0.7.0/Linux64/log/22.0.1-6-ga02864e+6871d0c7f6/python', '/opt/lsst/software/stack/stack/miniconda3-py38_4.9.2-0.7.0/Linux64/daf_persistence/22.0.1-1-g7058be7+1cf78af69b/python', '/opt/lsst/software/stack/stack/miniconda3-py38_4.9.2-0.7.0/Linux64/pex_exceptions/22.0.0+11a2aa21cd/python', '/opt/lsst/software/stack/stack/miniconda3-py38_4.9.2-0.7.0/Linux64/sconsUtils/22.0.0-4-ge0be345/python', '/opt/lsst/software/stack/stack/miniconda3-py38_4.9.2-0.7.0/Linux64/base/22.0.1-1-g949febb+64c1bc5aa5/python', '/opt/lsst/software/stack/stack/miniconda3-py38_4.9.2-0.7.0/Linux64/utils/22.0.1-4-g5b7b756+6b209d634c/python', '/opt/lsst/software/stack/stack/miniconda3-py38_4.9.2-0.7.0/Linux64/daf_base/22.0.1-4-g1930a60+6871d0c7f6/python', '/opt/lsst/software/stack/stack/miniconda3-py38_4.9.2-0.7.0/Linux64/afw/22.0.1-24-g2e899d296+4206820b0d/python', '/opt/lsst/software/stack/stack/miniconda3-py38_4.9.2-0.7.0/Linux64/cp_verify/master-g551b1d0ca9+12383a5b53/python', '/opt/lsst/software/stack/stack/miniconda3-py38_4.9.2-0.7.0/Linux64/dustmaps_cachedata/22.0.0+64c1bc5aa5/python', '/opt/lsst/software/stack/stack/miniconda3-py38_4.9.2-0.7.0/Linux64/faro/22.0.1-36-g0ad7dab+80e421fcec/python', '/opt/lsst/software/stack/stack/miniconda3-py38_4.9.2-0.7.0/Linux64/fgcm/lsst-dev-g1e44fd2f37/lib/python', '/opt/lsst/software/stack/stack/miniconda3-py38_4.9.2-0.7.0/Linux64/fgcmcal/22.0.1-8-g8bee935+4e353463f6/python', '/opt/lsst/software/stack/stack/miniconda3-py38_4.9.2-0.7.0/Linux64/validate_drp/22.0.0+2e57aa91d7/python', '/opt/lsst/software/stack/stack/miniconda3-py38_4.9.2-0.7.0/Linux64/sdm_schemas/22.0.1-15-gd4d86f1+64c1bc5aa5/python', '/opt/lsst/software/stack/stack/miniconda3-py38_4.9.2-0.7.0/Linux64/cp_pipe/22.0.1-19-gf30d2b9+3b1a8d7d9e/python', '/opt/lsst/software/stack/stack/miniconda3-py38_4.9.2-0.7.0/Linux64/display_matplotlib/22.0.0+269b7e55e3/python', '/opt/lsst/software/stack/stack/miniconda3-py38_4.9.2-0.7.0/Linux64/ap_verify/22.0.1-16-g7d2c3b8+c9b4edc184/python', '/opt/lsst/software/stack/stack/miniconda3-py38_4.9.2-0.7.0/Linux64/jointcal/22.0.1-11-g977d919+f66243f499/python', '/opt/lsst/software/stack/stack/miniconda3-py38_4.9.2-0.7.0/Linux64/cbp/22.0.0+269b7e55e3/python', '/opt/lsst/software/stack/stack/miniconda3-py38_4.9.2-0.7.0/Linux64/obs_subaru/22.0.1-22-gc2e86755+f7e57bdd52/python', '/opt/lsst/software/stack/stack/miniconda3-py38_4.9.2-0.7.0/Linux64/obs_lsst/22.0.1-34-g8b20a6d+84f4868347/python', '/opt/lsst/software/stack/stack/miniconda3-py38_4.9.2-0.7.0/Linux64/obs_cfht/22.0.1-1-g6b40799+f61dea5199/python', '/opt/lsst/software/stack/stack/miniconda3-py38_4.9.2-0.7.0/Linux64/ctrl_pool/22.0.1-1-gf9d8b05+69a28fa351/python', '/opt/lsst/software/stack/stack/miniconda3-py38_4.9.2-0.7.0/Linux64/pipe_drivers/22.0.0+dac7fc1f34/python', '/opt/lsst/software/stack/stack/miniconda3-py38_4.9.2-0.7.0/Linux64/meas_extensions_gaap/master-gfc16c7172d+2e3b5c62b3/python', '/opt/lsst/software/stack/stack/miniconda3-py38_4.9.2-0.7.0/Linux64/meas_extensions_trailedSources/master-g5f2689bdc5+75d68ad69f/python', '/opt/lsst/software/stack/stack/miniconda3-py38_4.9.2-0.7.0/Linux64/meas_extensions_shapeHSM/22.0.1-3-g810ae3f+0ab1b178f5/python', '/opt/lsst/software/stack/stack/miniconda3-py38_4.9.2-0.7.0/Linux64/meas_extensions_photometryKron/22.0.0+0ab1b178f5/python', '/opt/lsst/software/stack/stack/miniconda3-py38_4.9.2-0.7.0/Linux64/meas_extensions_convolved/22.0.1-1-g531ed1e+2f4d02baec/python', '/opt/lsst/software/stack/stack/miniconda3-py38_4.9.2-0.7.0/Linux64/ctrl_bps/22.0.1-17-g4eaa668+6da6e2f045/python', '/opt/lsst/software/stack/stack/miniconda3-py38_4.9.2-0.7.0/Linux64/ctrl_mpexec/22.0.1-15-gea1ed07+36751dbf72/python', '/opt/lsst/software/stack/stack/miniconda3-py38_4.9.2-0.7.0/Linux64/ctrl_orca/22.0.0+b661ee0640/python', '/opt/lsst/software/stack/stack/miniconda3-py38_4.9.2-0.7.0/Linux64/ctrl_execute/22.0.0+3d83580acc/python', '/opt/lsst/software/stack/stack/miniconda3-py38_4.9.2-0.7.0/Linux64/meas_extensions_piff/22.0.1-2-g8ef0a89+0ab1b178f5/python', '/opt/lsst/software/stack/stack/miniconda3-py38_4.9.2-0.7.0/Linux64/display_ds9/22.0.0+269b7e55e3/python', '/opt/lsst/software/stack/stack/miniconda3-py38_4.9.2-0.7.0/Linux64/meas_extensions_simpleShape/22.0.0+75d68ad69f/python', '/opt/lsst/software/stack/stack/miniconda3-py38_4.9.2-0.7.0/Linux64/obs_decam/22.0.1-7-g3402376+b52b58e1d4/python', '/opt/lsst/software/stack/stack/miniconda3-py38_4.9.2-0.7.0/Linux64/alert_packet/master-g4f04a3420f/python', '/opt/lsst/software/stack/stack/miniconda3-py38_4.9.2-0.7.0/Linux64/ap_association/22.0.1-14-ga93a7b3+d1c61ca5fe/python', '/opt/lsst/software/stack/stack/miniconda3-py38_4.9.2-0.7.0/Linux64/ap_pipe/22.0.1-14-g4707e2c+74a3c8b593/python', '/opt/lsst/software/stack/stack/miniconda3-py38_4.9.2-0.7.0/Linux64/verify_metrics/22.0.1-2-g7e9ec59+64c1bc5aa5/python', '/opt/lsst/software/stack/stack/miniconda3-py38_4.9.2-0.7.0/Linux64/dax_apdb/22.0.1-1-ga324b9c+269b7e55e3/python', '/opt/lsst/software/stack/stack/miniconda3-py38_4.9.2-0.7.0/Linux64/verify/22.0.1-5-g8f81bb6+7b5e9a9b00/python', '/opt/lsst/software/stack/stack/miniconda3-py38_4.9.2-0.7.0/Linux64/ip_diffim/22.0.1-15-g1be395cc+dc936295f2/python', '/opt/lsst/software/stack/stack/miniconda3-py38_4.9.2-0.7.0/Linux64/ip_isr/22.0.1-14-g9f5bc66+0ab1b178f5/python', '/opt/lsst/software/stack/stack/miniconda3-py38_4.9.2-0.7.0/Linux64/meas_astrom/22.0.1-3-g7aa11f2+0ab1b178f5/python', '/opt/lsst/software/stack/stack/miniconda3-py38_4.9.2-0.7.0/Linux64/kht/lsst-dev-g14ffe67dc2+fe93bf5141/cpp/build', '/opt/lsst/software/stack/stack/miniconda3-py38_4.9.2-0.7.0/Linux64/psfex/22.0.1-1-g57437a1+64c1bc5aa5/python', '/opt/lsst/software/stack/stack/miniconda3-py38_4.9.2-0.7.0/Linux64/meas_extensions_psfex/22.0.1-1-gc1211bb+2e1269fda3/python', '/opt/lsst/software/stack/stack/miniconda3-py38_4.9.2-0.7.0/Linux64/scarlet_extensions/lsst-dev-g9d18589735+5de2e29f4b/lib/python', '/opt/lsst/software/stack/stack/miniconda3-py38_4.9.2-0.7.0/Linux64/proxmin/lsst-dev-g79c0498783/lib/python', '/opt/lsst/software/stack/stack/miniconda3-py38_4.9.2-0.7.0/Linux64/scarlet/lsst-dev-g965bb5fbbf+f31336177f/lib/python', '/opt/lsst/software/stack/stack/miniconda3-py38_4.9.2-0.7.0/Linux64/meas_extensions_scarlet/22.0.1-2-g574b836+f69474311e/python', '/opt/lsst/software/stack/stack/miniconda3-py38_4.9.2-0.7.0/Linux64/pipe_tasks/21.0.0-136-g686b14fa+b5ed8c5b99/python', '/opt/lsst/software/stack/stack/miniconda3-py38_4.9.2-0.7.0/Linux64/shapelet/22.0.0+269b7e55e3/python', '/opt/lsst/software/stack/stack/miniconda3-py38_4.9.2-0.7.0/Linux64/meas_modelfit/22.0.1-1-g1b65d06+cbca84bd1d/python', '/opt/lsst/software/stack/stack/miniconda3-py38_4.9.2-0.7.0/Linux64/astro_metadata_translator/0.1.0-26-gc2dde51+7b3a3f865e/python', '/opt/lsst/software/stack/stack/miniconda3-py38_4.9.2-0.7.0/Linux64/obs_base/22.0.1-18-g3ad3863+00a0915085/python', '/opt/lsst/software/stack/stack/miniconda3-py38_4.9.2-0.7.0/Linux64/obs_test/22.0.1-2-gcb770ba+d7afb67de8/python', '/opt/lsst/software/stack/stack/miniconda3-py38_4.9.2-0.7.0/Linux64/pipe_base/22.0.1-21-g507161b+cc44f9acd1/python', '/opt/lsst/software/stack/stack/miniconda3-py38_4.9.2-0.7.0/Linux64/coadd_utils/22.0.0+69a28fa351/python', '/opt/lsst/software/stack/stack/miniconda3-py38_4.9.2-0.7.0/Linux64/daf_butler/22.0.1-60-g7eccfb39+f253ffa91f/python', '/opt/lsst/software/stack/stack/miniconda3-py38_4.9.2-0.7.0/Linux64/skymap/22.0.1-3-g997b569+cc44f9acd1/python', '/opt/lsst/software/stack/stack/miniconda3-py38_4.9.2-0.7.0/Linux64/meas_base/22.0.1-11-gc8c9b3f+6205a094ae/python', '/opt/lsst/software/stack/stack/miniconda3-py38_4.9.2-0.7.0/Linux64/meas_algorithms/22.0.1-19-g9283e855+277d54fe8b/python', '/opt/lsst/software/stack/stack/miniconda3-py38_4.9.2-0.7.0/Linux64/meas_deblender/22.0.1-1-g7dab645+759d5fdfc9/python', '/opt/lsst/software/stack/conda/miniconda3-py38_4.9.2/envs/lsst-scipipe-0.7.0/eups/python', '/opt/lsst/software/stack/conda/miniconda3-py38_4.9.2/envs/lsst-scipipe-0.7.0/lib/python38.zip', '/opt/lsst/software/stack/conda/miniconda3-py38_4.9.2/envs/lsst-scipipe-0.7.0/lib/python3.8', '/opt/lsst/software/stack/conda/miniconda3-py38_4.9.2/envs/lsst-scipipe-0.7.0/lib/python3.8/lib-dynload', '', '/opt/lsst/software/stack/conda/miniconda3-py38_4.9.2/envs/lsst-scipipe-0.7.0/lib/python3.8/site-packages', '/opt/lsst/software/stack/conda/miniconda3-py38_4.9.2/envs/lsst-scipipe-0.7.0/lib/python3.8/site-packages/IPython/extensions', '/home/d/dagoret/.ipython']\n"
     ]
    }
   ],
   "source": [
    "print(sys.path)"
   ]
  },
  {
   "cell_type": "code",
   "execution_count": 3,
   "id": "b9e25c99",
   "metadata": {
    "execution": {
     "iopub.execute_input": "2023-09-15T08:17:29.294922Z",
     "iopub.status.busy": "2023-09-15T08:17:29.294829Z",
     "iopub.status.idle": "2023-09-15T08:17:29.684008Z",
     "shell.execute_reply": "2023-09-15T08:17:29.683518Z",
     "shell.execute_reply.started": "2023-09-15T08:17:29.294910Z"
    },
    "tags": []
   },
   "outputs": [
    {
     "name": "stdout",
     "output_type": "stream",
     "text": [
      "analysis_tools        LOCAL:/home/d/dagoret/repos/repos_w_2023_35/analysis_tools \tsetup\n",
      "eups                  LOCAL:/opt/lsst/software/stack/conda/miniconda3-py38_4.9.2/envs/lsst-scipipe-0.7.0/eups \tsetup\n",
      "spectractor           LOCAL:/home/d/dagoret/repos/repos_w_2023_35/Spectractor \tsetup\n"
     ]
    }
   ],
   "source": [
    "! eups list -s | grep LOCAL"
   ]
  },
  {
   "cell_type": "code",
   "execution_count": 4,
   "id": "1a06356c",
   "metadata": {
    "execution": {
     "iopub.execute_input": "2023-09-15T08:17:29.685052Z",
     "iopub.status.busy": "2023-09-15T08:17:29.684941Z",
     "iopub.status.idle": "2023-09-15T08:17:30.212973Z",
     "shell.execute_reply": "2023-09-15T08:17:30.212629Z",
     "shell.execute_reply.started": "2023-09-15T08:17:29.685036Z"
    },
    "tags": []
   },
   "outputs": [
    {
     "name": "stdout",
     "output_type": "stream",
     "text": [
      "Weekly 2021_35\n",
      "   22.0.1-3-g7ae64ea+ab4e4379a1 \tcurrent w_2021_35 setup\n"
     ]
    }
   ],
   "source": [
    "! echo $IMAGE_DESCRIPTION\n",
    "! eups list -s lsst_distrib"
   ]
  },
  {
   "cell_type": "code",
   "execution_count": 5,
   "id": "1b1a30a2",
   "metadata": {
    "execution": {
     "iopub.execute_input": "2023-09-15T08:17:30.213711Z",
     "iopub.status.busy": "2023-09-15T08:17:30.213606Z",
     "iopub.status.idle": "2023-09-15T08:17:31.013187Z",
     "shell.execute_reply": "2023-09-15T08:17:31.012782Z",
     "shell.execute_reply.started": "2023-09-15T08:17:30.213697Z"
    },
    "tags": []
   },
   "outputs": [],
   "source": [
    "import os\n",
    "import matplotlib.pyplot as plt\n",
    "import numpy as np\n",
    "import pandas as pd\n",
    "%matplotlib inline\n",
    "from matplotlib.colors import LogNorm\n",
    "\n",
    "from mpl_toolkits.axes_grid1 import make_axes_locatable\n",
    "\n",
    "import matplotlib.ticker                         # here's where the formatter is\n",
    "from matplotlib.ticker import (MultipleLocator, FormatStrFormatter,\n",
    "                               AutoMinorLocator)\n",
    "\n",
    "from astropy.io import fits\n",
    "from astropy.time import Time"
   ]
  },
  {
   "cell_type": "code",
   "execution_count": 6,
   "id": "82a5ce5b",
   "metadata": {
    "execution": {
     "iopub.execute_input": "2023-09-15T08:17:31.013799Z",
     "iopub.status.busy": "2023-09-15T08:17:31.013683Z",
     "iopub.status.idle": "2023-09-15T08:17:31.015671Z",
     "shell.execute_reply": "2023-09-15T08:17:31.015415Z",
     "shell.execute_reply.started": "2023-09-15T08:17:31.013784Z"
    },
    "tags": []
   },
   "outputs": [],
   "source": [
    "from IPython.display import display, HTML"
   ]
  },
  {
   "cell_type": "code",
   "execution_count": 7,
   "id": "de60f434",
   "metadata": {
    "execution": {
     "iopub.execute_input": "2023-09-15T08:17:31.016189Z",
     "iopub.status.busy": "2023-09-15T08:17:31.016094Z",
     "iopub.status.idle": "2023-09-15T08:17:31.228465Z",
     "shell.execute_reply": "2023-09-15T08:17:31.228057Z",
     "shell.execute_reply.started": "2023-09-15T08:17:31.016177Z"
    },
    "tags": []
   },
   "outputs": [],
   "source": [
    "import lsst.afw.display as afwDisplay\n",
    "afwDisplay.setDefaultBackend('matplotlib')"
   ]
  },
  {
   "cell_type": "code",
   "execution_count": 8,
   "id": "6264e528",
   "metadata": {
    "execution": {
     "iopub.execute_input": "2023-09-15T08:17:31.229105Z",
     "iopub.status.busy": "2023-09-15T08:17:31.228998Z",
     "iopub.status.idle": "2023-09-15T08:17:31.823128Z",
     "shell.execute_reply": "2023-09-15T08:17:31.822783Z",
     "shell.execute_reply.started": "2023-09-15T08:17:31.229091Z"
    },
    "tags": []
   },
   "outputs": [],
   "source": [
    "import lsst.daf.butler as dafButler"
   ]
  },
  {
   "cell_type": "code",
   "execution_count": 9,
   "id": "ba8f41e2",
   "metadata": {
    "execution": {
     "iopub.execute_input": "2023-09-15T08:17:31.825376Z",
     "iopub.status.busy": "2023-09-15T08:17:31.825265Z",
     "iopub.status.idle": "2023-09-15T08:17:32.003325Z",
     "shell.execute_reply": "2023-09-15T08:17:32.002081Z",
     "shell.execute_reply.started": "2023-09-15T08:17:31.825356Z"
    },
    "tags": []
   },
   "outputs": [
    {
     "ename": "ImportError",
     "evalue": "Could not get attribute 'HealpixPixelization' from 'lsst.sphgeom' (No module named 'lsst.sphgeom.HealpixPixelization')",
     "output_type": "error",
     "traceback": [
      "\u001b[0;31m---------------------------------------------------------------------------\u001b[0m",
      "\u001b[0;31mAttributeError\u001b[0m                            Traceback (most recent call last)",
      "\u001b[0;32m/opt/lsst/software/stack/stack/miniconda3-py38_4.9.2-0.7.0/Linux64/utils/22.0.1-4-g5b7b756+6b209d634c/python/lsst/utils/doImport.py\u001b[0m in \u001b[0;36mtryImport\u001b[0;34m(module, fromlist, previousError)\u001b[0m\n\u001b[1;32m     59\u001b[0m             \u001b[0;32mtry\u001b[0m\u001b[0;34m:\u001b[0m\u001b[0;34m\u001b[0m\u001b[0;34m\u001b[0m\u001b[0m\n\u001b[0;32m---> 60\u001b[0;31m                 \u001b[0mpytype\u001b[0m \u001b[0;34m=\u001b[0m \u001b[0mgetattr\u001b[0m\u001b[0;34m(\u001b[0m\u001b[0mpytype\u001b[0m\u001b[0;34m,\u001b[0m \u001b[0mf\u001b[0m\u001b[0;34m)\u001b[0m\u001b[0;34m\u001b[0m\u001b[0;34m\u001b[0m\u001b[0m\n\u001b[0m\u001b[1;32m     61\u001b[0m             \u001b[0;32mexcept\u001b[0m \u001b[0mAttributeError\u001b[0m\u001b[0;34m:\u001b[0m\u001b[0;34m\u001b[0m\u001b[0;34m\u001b[0m\u001b[0m\n",
      "\u001b[0;31mAttributeError\u001b[0m: module 'lsst.sphgeom' has no attribute 'HealpixPixelization'",
      "\nDuring handling of the above exception, another exception occurred:\n",
      "\u001b[0;31mImportError\u001b[0m                               Traceback (most recent call last)",
      "\u001b[0;32m<ipython-input-9-e21a526db752>\u001b[0m in \u001b[0;36m<module>\u001b[0;34m\u001b[0m\n\u001b[1;32m      1\u001b[0m \u001b[0;31m#repo = \"/sdf/group/rubin/repo/main\"\u001b[0m\u001b[0;34m\u001b[0m\u001b[0;34m\u001b[0m\u001b[0;34m\u001b[0m\u001b[0m\n\u001b[1;32m      2\u001b[0m \u001b[0mrepo\u001b[0m\u001b[0;34m=\u001b[0m\u001b[0;34m\"/sdf/group/rubin/repo/oga/\"\u001b[0m\u001b[0;34m\u001b[0m\u001b[0;34m\u001b[0m\u001b[0m\n\u001b[0;32m----> 3\u001b[0;31m \u001b[0mbutler\u001b[0m \u001b[0;34m=\u001b[0m \u001b[0mdafButler\u001b[0m\u001b[0;34m.\u001b[0m\u001b[0mButler\u001b[0m\u001b[0;34m(\u001b[0m\u001b[0mrepo\u001b[0m\u001b[0;34m)\u001b[0m\u001b[0;34m\u001b[0m\u001b[0;34m\u001b[0m\u001b[0m\n\u001b[0m\u001b[1;32m      4\u001b[0m \u001b[0mregistry\u001b[0m \u001b[0;34m=\u001b[0m \u001b[0mbutler\u001b[0m\u001b[0;34m.\u001b[0m\u001b[0mregistry\u001b[0m\u001b[0;34m\u001b[0m\u001b[0;34m\u001b[0m\u001b[0m\n",
      "\u001b[0;32m/opt/lsst/software/stack/stack/miniconda3-py38_4.9.2-0.7.0/Linux64/daf_butler/22.0.1-60-g7eccfb39+f253ffa91f/python/lsst/daf/butler/_butler.py\u001b[0m in \u001b[0;36m__init__\u001b[0;34m(self, config, butler, collections, run, searchPaths, writeable, inferDefaults, **kwargs)\u001b[0m\n\u001b[1;32m    255\u001b[0m             \u001b[0;32mif\u001b[0m \u001b[0mwriteable\u001b[0m \u001b[0;32mis\u001b[0m \u001b[0;32mNone\u001b[0m\u001b[0;34m:\u001b[0m\u001b[0;34m\u001b[0m\u001b[0;34m\u001b[0m\u001b[0m\n\u001b[1;32m    256\u001b[0m                 \u001b[0mwriteable\u001b[0m \u001b[0;34m=\u001b[0m \u001b[0mrun\u001b[0m \u001b[0;32mis\u001b[0m \u001b[0;32mnot\u001b[0m \u001b[0;32mNone\u001b[0m\u001b[0;34m\u001b[0m\u001b[0;34m\u001b[0m\u001b[0m\n\u001b[0;32m--> 257\u001b[0;31m             self.registry = Registry.fromConfig(self._config, butlerRoot=butlerRoot, writeable=writeable,\n\u001b[0m\u001b[1;32m    258\u001b[0m                                                 defaults=defaults)\n\u001b[1;32m    259\u001b[0m             self.datastore = Datastore.fromConfig(self._config, self.registry.getDatastoreBridgeManager(),\n",
      "\u001b[0;32m/opt/lsst/software/stack/stack/miniconda3-py38_4.9.2-0.7.0/Linux64/daf_butler/22.0.1-60-g7eccfb39+f253ffa91f/python/lsst/daf/butler/registry/_registry.py\u001b[0m in \u001b[0;36mfromConfig\u001b[0;34m(cls, config, butlerRoot, writeable, defaults)\u001b[0m\n\u001b[1;32m    222\u001b[0m         \u001b[0;31m# registry.\u001b[0m\u001b[0;34m\u001b[0m\u001b[0;34m\u001b[0m\u001b[0;34m\u001b[0m\u001b[0m\n\u001b[1;32m    223\u001b[0m         \u001b[0mregistry_cls\u001b[0m\u001b[0;34m,\u001b[0m \u001b[0mregistry_config\u001b[0m \u001b[0;34m=\u001b[0m \u001b[0mcls\u001b[0m\u001b[0;34m.\u001b[0m\u001b[0mdetermineTrampoline\u001b[0m\u001b[0;34m(\u001b[0m\u001b[0mconfig\u001b[0m\u001b[0;34m)\u001b[0m\u001b[0;34m\u001b[0m\u001b[0;34m\u001b[0m\u001b[0m\n\u001b[0;32m--> 224\u001b[0;31m         \u001b[0;32mreturn\u001b[0m \u001b[0mregistry_cls\u001b[0m\u001b[0;34m.\u001b[0m\u001b[0mfromConfig\u001b[0m\u001b[0;34m(\u001b[0m\u001b[0mconfig\u001b[0m\u001b[0;34m,\u001b[0m \u001b[0mbutlerRoot\u001b[0m\u001b[0;34m,\u001b[0m \u001b[0mwriteable\u001b[0m\u001b[0;34m,\u001b[0m \u001b[0mdefaults\u001b[0m\u001b[0;34m)\u001b[0m\u001b[0;34m\u001b[0m\u001b[0;34m\u001b[0m\u001b[0m\n\u001b[0m\u001b[1;32m    225\u001b[0m \u001b[0;34m\u001b[0m\u001b[0m\n\u001b[1;32m    226\u001b[0m     \u001b[0;34m@\u001b[0m\u001b[0mabstractmethod\u001b[0m\u001b[0;34m\u001b[0m\u001b[0;34m\u001b[0m\u001b[0m\n",
      "\u001b[0;32m/opt/lsst/software/stack/stack/miniconda3-py38_4.9.2-0.7.0/Linux64/daf_butler/22.0.1-60-g7eccfb39+f253ffa91f/python/lsst/daf/butler/registries/sql.py\u001b[0m in \u001b[0;36mfromConfig\u001b[0;34m(cls, config, butlerRoot, writeable, defaults)\u001b[0m\n\u001b[1;32m    189\u001b[0m                                          namespace=config.get(\"namespace\"), writeable=writeable)\n\u001b[1;32m    190\u001b[0m         \u001b[0mmanagerTypes\u001b[0m \u001b[0;34m=\u001b[0m \u001b[0mRegistryManagerTypes\u001b[0m\u001b[0;34m.\u001b[0m\u001b[0mfromConfig\u001b[0m\u001b[0;34m(\u001b[0m\u001b[0mconfig\u001b[0m\u001b[0;34m)\u001b[0m\u001b[0;34m\u001b[0m\u001b[0;34m\u001b[0m\u001b[0m\n\u001b[0;32m--> 191\u001b[0;31m         \u001b[0mmanagers\u001b[0m \u001b[0;34m=\u001b[0m \u001b[0mmanagerTypes\u001b[0m\u001b[0;34m.\u001b[0m\u001b[0mloadRepo\u001b[0m\u001b[0;34m(\u001b[0m\u001b[0mdatabase\u001b[0m\u001b[0;34m)\u001b[0m\u001b[0;34m\u001b[0m\u001b[0;34m\u001b[0m\u001b[0m\n\u001b[0m\u001b[1;32m    192\u001b[0m         \u001b[0;32mif\u001b[0m \u001b[0mdefaults\u001b[0m \u001b[0;32mis\u001b[0m \u001b[0;32mNone\u001b[0m\u001b[0;34m:\u001b[0m\u001b[0;34m\u001b[0m\u001b[0;34m\u001b[0m\u001b[0m\n\u001b[1;32m    193\u001b[0m             \u001b[0mdefaults\u001b[0m \u001b[0;34m=\u001b[0m \u001b[0mRegistryDefaults\u001b[0m\u001b[0;34m(\u001b[0m\u001b[0;34m)\u001b[0m\u001b[0;34m\u001b[0m\u001b[0;34m\u001b[0m\u001b[0m\n",
      "\u001b[0;32m/opt/lsst/software/stack/stack/miniconda3-py38_4.9.2-0.7.0/Linux64/daf_butler/22.0.1-60-g7eccfb39+f253ffa91f/python/lsst/daf/butler/registry/managers.py\u001b[0m in \u001b[0;36mloadRepo\u001b[0;34m(self, database)\u001b[0m\n\u001b[1;32m    200\u001b[0m         \u001b[0;32melse\u001b[0m\u001b[0;34m:\u001b[0m\u001b[0;34m\u001b[0m\u001b[0;34m\u001b[0m\u001b[0m\n\u001b[1;32m    201\u001b[0m             \u001b[0;32mraise\u001b[0m \u001b[0mLookupError\u001b[0m\u001b[0;34m(\u001b[0m\u001b[0;34mf\"Registry attribute {_DIMENSIONS_ATTR} is missing from database\"\u001b[0m\u001b[0;34m)\u001b[0m\u001b[0;34m\u001b[0m\u001b[0;34m\u001b[0m\u001b[0m\n\u001b[0;32m--> 202\u001b[0;31m         \u001b[0muniverse\u001b[0m \u001b[0;34m=\u001b[0m \u001b[0mDimensionUniverse\u001b[0m\u001b[0;34m(\u001b[0m\u001b[0mdimensionConfig\u001b[0m\u001b[0;34m)\u001b[0m\u001b[0;34m\u001b[0m\u001b[0;34m\u001b[0m\u001b[0m\n\u001b[0m\u001b[1;32m    203\u001b[0m         \u001b[0;32mwith\u001b[0m \u001b[0mdatabase\u001b[0m\u001b[0;34m.\u001b[0m\u001b[0mdeclareStaticTables\u001b[0m\u001b[0;34m(\u001b[0m\u001b[0mcreate\u001b[0m\u001b[0;34m=\u001b[0m\u001b[0;32mFalse\u001b[0m\u001b[0;34m)\u001b[0m \u001b[0;32mas\u001b[0m \u001b[0mcontext\u001b[0m\u001b[0;34m:\u001b[0m\u001b[0;34m\u001b[0m\u001b[0;34m\u001b[0m\u001b[0m\n\u001b[1;32m    204\u001b[0m             \u001b[0minstances\u001b[0m \u001b[0;34m=\u001b[0m \u001b[0mRegistryManagerInstances\u001b[0m\u001b[0;34m.\u001b[0m\u001b[0minitialize\u001b[0m\u001b[0;34m(\u001b[0m\u001b[0mdatabase\u001b[0m\u001b[0;34m,\u001b[0m \u001b[0mcontext\u001b[0m\u001b[0;34m,\u001b[0m \u001b[0mtypes\u001b[0m\u001b[0;34m=\u001b[0m\u001b[0mself\u001b[0m\u001b[0;34m,\u001b[0m \u001b[0muniverse\u001b[0m\u001b[0;34m=\u001b[0m\u001b[0muniverse\u001b[0m\u001b[0;34m)\u001b[0m\u001b[0;34m\u001b[0m\u001b[0;34m\u001b[0m\u001b[0m\n",
      "\u001b[0;32m/opt/lsst/software/stack/stack/miniconda3-py38_4.9.2-0.7.0/Linux64/daf_butler/22.0.1-60-g7eccfb39+f253ffa91f/python/lsst/daf/butler/core/dimensions/_universe.py\u001b[0m in \u001b[0;36m__new__\u001b[0;34m(cls, config, version, builder)\u001b[0m\n\u001b[1;32m    121\u001b[0m \u001b[0;34m\u001b[0m\u001b[0m\n\u001b[1;32m    122\u001b[0m         \u001b[0;31m# Delegate to the builder for most of the construction work.\u001b[0m\u001b[0;34m\u001b[0m\u001b[0;34m\u001b[0m\u001b[0;34m\u001b[0m\u001b[0m\n\u001b[0;32m--> 123\u001b[0;31m         \u001b[0mbuilder\u001b[0m\u001b[0;34m.\u001b[0m\u001b[0mfinish\u001b[0m\u001b[0;34m(\u001b[0m\u001b[0;34m)\u001b[0m\u001b[0;34m\u001b[0m\u001b[0;34m\u001b[0m\u001b[0m\n\u001b[0m\u001b[1;32m    124\u001b[0m \u001b[0;34m\u001b[0m\u001b[0m\n\u001b[1;32m    125\u001b[0m         \u001b[0;31m# Create the universe instance and create core attributes, mostly\u001b[0m\u001b[0;34m\u001b[0m\u001b[0;34m\u001b[0m\u001b[0;34m\u001b[0m\u001b[0m\n",
      "\u001b[0;32m/opt/lsst/software/stack/stack/miniconda3-py38_4.9.2-0.7.0/Linux64/daf_butler/22.0.1-60-g7eccfb39+f253ffa91f/python/lsst/daf/butler/core/dimensions/construction.py\u001b[0m in \u001b[0;36mfinish\u001b[0;34m(self)\u001b[0m\n\u001b[1;32m    170\u001b[0m                 \u001b[0;32mraise\u001b[0m \u001b[0mRuntimeError\u001b[0m\u001b[0;34m(\u001b[0m\u001b[0;34mf\"Cycle or unmet dependency in dimension elements: {self._todo.keys()}.\"\u001b[0m\u001b[0;34m)\u001b[0m\u001b[0;34m\u001b[0m\u001b[0;34m\u001b[0m\u001b[0m\n\u001b[1;32m    171\u001b[0m             \u001b[0;32mfor\u001b[0m \u001b[0mname\u001b[0m \u001b[0;32min\u001b[0m \u001b[0munblocked\u001b[0m\u001b[0;34m:\u001b[0m\u001b[0;34m\u001b[0m\u001b[0;34m\u001b[0m\u001b[0m\n\u001b[0;32m--> 172\u001b[0;31m                 \u001b[0mself\u001b[0m\u001b[0;34m.\u001b[0m\u001b[0m_todo\u001b[0m\u001b[0;34m.\u001b[0m\u001b[0mpop\u001b[0m\u001b[0;34m(\u001b[0m\u001b[0mname\u001b[0m\u001b[0;34m)\u001b[0m\u001b[0;34m.\u001b[0m\u001b[0mvisit\u001b[0m\u001b[0;34m(\u001b[0m\u001b[0mself\u001b[0m\u001b[0;34m)\u001b[0m\u001b[0;34m\u001b[0m\u001b[0;34m\u001b[0m\u001b[0m\n\u001b[0m\u001b[1;32m    173\u001b[0m \u001b[0;34m\u001b[0m\u001b[0m\n\u001b[1;32m    174\u001b[0m     \u001b[0mversion\u001b[0m\u001b[0;34m:\u001b[0m \u001b[0mint\u001b[0m\u001b[0;34m\u001b[0m\u001b[0;34m\u001b[0m\u001b[0m\n",
      "\u001b[0;32m/opt/lsst/software/stack/stack/miniconda3-py38_4.9.2-0.7.0/Linux64/daf_butler/22.0.1-60-g7eccfb39+f253ffa91f/python/lsst/daf/butler/core/dimensions/_skypix.py\u001b[0m in \u001b[0;36mvisit\u001b[0;34m(self, builder)\u001b[0m\n\u001b[1;32m    230\u001b[0m     \u001b[0;32mdef\u001b[0m \u001b[0mvisit\u001b[0m\u001b[0;34m(\u001b[0m\u001b[0mself\u001b[0m\u001b[0;34m,\u001b[0m \u001b[0mbuilder\u001b[0m\u001b[0;34m:\u001b[0m \u001b[0mDimensionConstructionBuilder\u001b[0m\u001b[0;34m)\u001b[0m \u001b[0;34m->\u001b[0m \u001b[0;32mNone\u001b[0m\u001b[0;34m:\u001b[0m\u001b[0;34m\u001b[0m\u001b[0;34m\u001b[0m\u001b[0m\n\u001b[1;32m    231\u001b[0m         \u001b[0;31m# Docstring inherited from DimensionConstructionVisitor.\u001b[0m\u001b[0;34m\u001b[0m\u001b[0;34m\u001b[0m\u001b[0;34m\u001b[0m\u001b[0m\n\u001b[0;32m--> 232\u001b[0;31m         \u001b[0mPixelizationClass\u001b[0m \u001b[0;34m=\u001b[0m \u001b[0mdoImport\u001b[0m\u001b[0;34m(\u001b[0m\u001b[0mself\u001b[0m\u001b[0;34m.\u001b[0m\u001b[0m_pixelizationClassName\u001b[0m\u001b[0;34m)\u001b[0m\u001b[0;34m\u001b[0m\u001b[0;34m\u001b[0m\u001b[0m\n\u001b[0m\u001b[1;32m    233\u001b[0m         \u001b[0mmaxLevel\u001b[0m \u001b[0;34m=\u001b[0m \u001b[0mself\u001b[0m\u001b[0;34m.\u001b[0m\u001b[0m_maxLevel\u001b[0m \u001b[0;32mif\u001b[0m \u001b[0mself\u001b[0m\u001b[0;34m.\u001b[0m\u001b[0m_maxLevel\u001b[0m \u001b[0;32mis\u001b[0m \u001b[0;32mnot\u001b[0m \u001b[0;32mNone\u001b[0m \u001b[0;32melse\u001b[0m \u001b[0mPixelizationClass\u001b[0m\u001b[0;34m.\u001b[0m\u001b[0mMAX_LEVEL\u001b[0m\u001b[0;34m\u001b[0m\u001b[0;34m\u001b[0m\u001b[0m\n\u001b[1;32m    234\u001b[0m         system = SkyPixSystem(\n",
      "\u001b[0;32m/opt/lsst/software/stack/stack/miniconda3-py38_4.9.2-0.7.0/Linux64/utils/22.0.1-4-g5b7b756+6b209d634c/python/lsst/utils/doImport.py\u001b[0m in \u001b[0;36mdoImport\u001b[0;34m(importable)\u001b[0m\n\u001b[1;32m     73\u001b[0m     \u001b[0;32mwhile\u001b[0m \u001b[0mmoduleComponents\u001b[0m\u001b[0;34m:\u001b[0m\u001b[0;34m\u001b[0m\u001b[0;34m\u001b[0m\u001b[0m\n\u001b[1;32m     74\u001b[0m         \u001b[0;32mtry\u001b[0m\u001b[0;34m:\u001b[0m\u001b[0;34m\u001b[0m\u001b[0;34m\u001b[0m\u001b[0m\n\u001b[0;32m---> 75\u001b[0;31m             \u001b[0mpytype\u001b[0m \u001b[0;34m=\u001b[0m \u001b[0mtryImport\u001b[0m\u001b[0;34m(\u001b[0m\u001b[0;34m\".\"\u001b[0m\u001b[0;34m.\u001b[0m\u001b[0mjoin\u001b[0m\u001b[0;34m(\u001b[0m\u001b[0mmoduleComponents\u001b[0m\u001b[0;34m)\u001b[0m\u001b[0;34m,\u001b[0m \u001b[0minfileComponents\u001b[0m\u001b[0;34m,\u001b[0m \u001b[0mpreviousError\u001b[0m\u001b[0;34m)\u001b[0m\u001b[0;34m\u001b[0m\u001b[0;34m\u001b[0m\u001b[0m\n\u001b[0m\u001b[1;32m     76\u001b[0m             \u001b[0;32mif\u001b[0m \u001b[0;32mnot\u001b[0m \u001b[0minfileComponents\u001b[0m \u001b[0;32mand\u001b[0m \u001b[0mhasattr\u001b[0m\u001b[0;34m(\u001b[0m\u001b[0mpytype\u001b[0m\u001b[0;34m,\u001b[0m \u001b[0mmoduleComponents\u001b[0m\u001b[0;34m[\u001b[0m\u001b[0;34m-\u001b[0m\u001b[0;36m1\u001b[0m\u001b[0;34m]\u001b[0m\u001b[0;34m)\u001b[0m\u001b[0;34m:\u001b[0m\u001b[0;34m\u001b[0m\u001b[0;34m\u001b[0m\u001b[0m\n\u001b[1;32m     77\u001b[0m                 \u001b[0;31m# This module has an attribute with the same name as the\u001b[0m\u001b[0;34m\u001b[0m\u001b[0;34m\u001b[0m\u001b[0;34m\u001b[0m\u001b[0m\n",
      "\u001b[0;32m/opt/lsst/software/stack/stack/miniconda3-py38_4.9.2-0.7.0/Linux64/utils/22.0.1-4-g5b7b756+6b209d634c/python/lsst/utils/doImport.py\u001b[0m in \u001b[0;36mtryImport\u001b[0;34m(module, fromlist, previousError)\u001b[0m\n\u001b[1;32m     61\u001b[0m             \u001b[0;32mexcept\u001b[0m \u001b[0mAttributeError\u001b[0m\u001b[0;34m:\u001b[0m\u001b[0;34m\u001b[0m\u001b[0;34m\u001b[0m\u001b[0m\n\u001b[1;32m     62\u001b[0m                 \u001b[0mextra\u001b[0m \u001b[0;34m=\u001b[0m \u001b[0;34mf\"({previousError})\"\u001b[0m \u001b[0;32mif\u001b[0m \u001b[0mpreviousError\u001b[0m \u001b[0;32mis\u001b[0m \u001b[0;32mnot\u001b[0m \u001b[0;32mNone\u001b[0m \u001b[0;32melse\u001b[0m \u001b[0;34m\"\"\u001b[0m\u001b[0;34m\u001b[0m\u001b[0;34m\u001b[0m\u001b[0m\n\u001b[0;32m---> 63\u001b[0;31m                 \u001b[0;32mraise\u001b[0m \u001b[0mImportError\u001b[0m\u001b[0;34m(\u001b[0m\u001b[0;34mf\"Could not get attribute '{f}' from '{module}' {extra}\"\u001b[0m\u001b[0;34m)\u001b[0m\u001b[0;34m\u001b[0m\u001b[0;34m\u001b[0m\u001b[0m\n\u001b[0m\u001b[1;32m     64\u001b[0m         \u001b[0;32mreturn\u001b[0m \u001b[0mpytype\u001b[0m\u001b[0;34m\u001b[0m\u001b[0;34m\u001b[0m\u001b[0m\n\u001b[1;32m     65\u001b[0m \u001b[0;34m\u001b[0m\u001b[0m\n",
      "\u001b[0;31mImportError\u001b[0m: Could not get attribute 'HealpixPixelization' from 'lsst.sphgeom' (No module named 'lsst.sphgeom.HealpixPixelization')"
     ]
    }
   ],
   "source": [
    "#repo = \"/sdf/group/rubin/repo/main\"\n",
    "repo=\"/sdf/group/rubin/repo/oga/\"\n",
    "butler = dafButler.Butler(repo)\n",
    "registry = butler.registry"
   ]
  },
  {
   "cell_type": "code",
   "execution_count": null,
   "id": "6d78962f",
   "metadata": {
    "execution": {
     "iopub.status.busy": "2023-09-15T08:17:32.003786Z",
     "iopub.status.idle": "2023-09-15T08:17:32.003938Z",
     "shell.execute_reply": "2023-09-15T08:17:32.003861Z"
    },
    "tags": []
   },
   "outputs": [],
   "source": [
    "collection='LATISS/raw/all'"
   ]
  },
  {
   "cell_type": "markdown",
   "id": "d094f8d0",
   "metadata": {},
   "source": [
    "## Input file"
   ]
  },
  {
   "cell_type": "code",
   "execution_count": null,
   "id": "3a07ac58",
   "metadata": {
    "execution": {
     "iopub.status.busy": "2023-09-15T08:17:32.004369Z",
     "iopub.status.idle": "2023-09-15T08:17:32.004519Z",
     "shell.execute_reply": "2023-09-15T08:17:32.004444Z"
    },
    "tags": []
   },
   "outputs": [],
   "source": [
    "!ls files_for_data"
   ]
  },
  {
   "cell_type": "code",
   "execution_count": null,
   "id": "421291a2",
   "metadata": {
    "execution": {
     "iopub.status.busy": "2023-09-15T08:17:32.004857Z",
     "iopub.status.idle": "2023-09-15T08:17:32.004994Z",
     "shell.execute_reply": "2023-09-15T08:17:32.004926Z"
    },
    "tags": []
   },
   "outputs": [],
   "source": [
    "path = \"files_for_data\"\n",
    "#file_rubintv = \"auxtel_2023_09_13.json\"\n",
    "file_rubintv = \"auxtel_2023_09_15.json\"\n",
    "fullfilename_rubintv = os.path.join(path,file_rubintv)"
   ]
  },
  {
   "cell_type": "code",
   "execution_count": null,
   "id": "6a834222",
   "metadata": {
    "execution": {
     "iopub.status.busy": "2023-09-15T08:17:32.005371Z",
     "iopub.status.idle": "2023-09-15T08:17:32.005513Z",
     "shell.execute_reply": "2023-09-15T08:17:32.005441Z"
    },
    "tags": []
   },
   "outputs": [],
   "source": [
    "df_in = pd.read_json(fullfilename_rubintv)"
   ]
  },
  {
   "cell_type": "code",
   "execution_count": null,
   "id": "44d67b7f",
   "metadata": {
    "execution": {
     "iopub.status.busy": "2023-09-15T08:17:32.005878Z",
     "iopub.status.idle": "2023-09-15T08:17:32.006017Z",
     "shell.execute_reply": "2023-09-15T08:17:32.005949Z"
    },
    "tags": []
   },
   "outputs": [],
   "source": [
    "df_in"
   ]
  },
  {
   "cell_type": "code",
   "execution_count": null,
   "id": "45b8279f",
   "metadata": {
    "execution": {
     "iopub.status.busy": "2023-09-15T08:17:32.006345Z",
     "iopub.status.idle": "2023-09-15T08:17:32.006481Z",
     "shell.execute_reply": "2023-09-15T08:17:32.006412Z"
    },
    "tags": []
   },
   "outputs": [],
   "source": [
    "df_in_transposed = df_in.T "
   ]
  },
  {
   "cell_type": "code",
   "execution_count": null,
   "id": "5e0896de",
   "metadata": {
    "execution": {
     "iopub.status.busy": "2023-09-15T08:17:32.006921Z",
     "iopub.status.idle": "2023-09-15T08:17:32.007062Z",
     "shell.execute_reply": "2023-09-15T08:17:32.006992Z"
    },
    "tags": []
   },
   "outputs": [],
   "source": [
    "df_in_transposed"
   ]
  },
  {
   "cell_type": "code",
   "execution_count": null,
   "id": "6947ca11",
   "metadata": {
    "execution": {
     "iopub.status.busy": "2023-09-15T08:17:32.007372Z",
     "iopub.status.idle": "2023-09-15T08:17:32.007506Z",
     "shell.execute_reply": "2023-09-15T08:17:32.007437Z"
    },
    "tags": []
   },
   "outputs": [],
   "source": [
    "df_in_transposed.columns"
   ]
  },
  {
   "cell_type": "code",
   "execution_count": null,
   "id": "8edb82f3",
   "metadata": {
    "execution": {
     "iopub.status.busy": "2023-09-15T08:17:32.007898Z",
     "iopub.status.idle": "2023-09-15T08:17:32.008037Z",
     "shell.execute_reply": "2023-09-15T08:17:32.007968Z"
    },
    "tags": []
   },
   "outputs": [],
   "source": [
    "df_in_transposed[\"Science program\"].unique()"
   ]
  },
  {
   "cell_type": "code",
   "execution_count": null,
   "id": "4db374df",
   "metadata": {
    "execution": {
     "iopub.status.busy": "2023-09-15T08:17:32.008555Z",
     "iopub.status.idle": "2023-09-15T08:17:32.008696Z",
     "shell.execute_reply": "2023-09-15T08:17:32.008626Z"
    },
    "tags": []
   },
   "outputs": [],
   "source": [
    "JIRA_EPIC = \"SITCOM-1001\""
   ]
  },
  {
   "cell_type": "code",
   "execution_count": null,
   "id": "273388c1",
   "metadata": {
    "execution": {
     "iopub.status.busy": "2023-09-15T08:17:32.009064Z",
     "iopub.status.idle": "2023-09-15T08:17:32.009201Z",
     "shell.execute_reply": "2023-09-15T08:17:32.009131Z"
    },
    "tags": []
   },
   "outputs": [],
   "source": [
    "selection = (df_in_transposed[\"Science program\"] == JIRA_EPIC) & (df_in_transposed[\"Image type\"] == \"science\")"
   ]
  },
  {
   "cell_type": "code",
   "execution_count": null,
   "id": "71192fec",
   "metadata": {
    "execution": {
     "iopub.status.busy": "2023-09-15T08:17:32.009553Z",
     "iopub.status.idle": "2023-09-15T08:17:32.009689Z",
     "shell.execute_reply": "2023-09-15T08:17:32.009621Z"
    },
    "tags": []
   },
   "outputs": [],
   "source": [
    "df_in = df_in_transposed[selection]"
   ]
  },
  {
   "cell_type": "code",
   "execution_count": null,
   "id": "7d4ad686",
   "metadata": {
    "execution": {
     "iopub.status.busy": "2023-09-15T08:17:32.010017Z",
     "iopub.status.idle": "2023-09-15T08:17:32.010150Z",
     "shell.execute_reply": "2023-09-15T08:17:32.010083Z"
    },
    "tags": []
   },
   "outputs": [],
   "source": [
    "df_in"
   ]
  },
  {
   "cell_type": "code",
   "execution_count": null,
   "id": "f4d5501e",
   "metadata": {
    "execution": {
     "iopub.status.busy": "2023-09-15T08:17:32.010516Z",
     "iopub.status.idle": "2023-09-15T08:17:32.010651Z",
     "shell.execute_reply": "2023-09-15T08:17:32.010583Z"
    },
    "tags": []
   },
   "outputs": [],
   "source": [
    "df_in[\"Science program\"].unique()"
   ]
  },
  {
   "cell_type": "markdown",
   "id": "f140894f",
   "metadata": {},
   "source": [
    "## List of Exposures"
   ]
  },
  {
   "cell_type": "code",
   "execution_count": null,
   "id": "7a385ae1",
   "metadata": {
    "execution": {
     "iopub.status.busy": "2023-09-15T08:17:32.010971Z",
     "iopub.status.idle": "2023-09-15T08:17:32.011109Z",
     "shell.execute_reply": "2023-09-15T08:17:32.011037Z"
    },
    "tags": []
   },
   "outputs": [],
   "source": [
    "df_exposure = pd.DataFrame(columns=['id', 'obs_id','day_obs', 'seq_num','time_start','time_end' ,'type', 'target','filter','zenith_angle','expos','ra','dec','skyangle','azimuth','zenith','science_program','jd','mjd'])"
   ]
  },
  {
   "cell_type": "code",
   "execution_count": null,
   "id": "5c2ac0bd",
   "metadata": {
    "execution": {
     "iopub.status.busy": "2023-09-15T08:17:32.011413Z",
     "iopub.status.idle": "2023-09-15T08:17:32.011546Z",
     "shell.execute_reply": "2023-09-15T08:17:32.011479Z"
    },
    "tags": []
   },
   "outputs": [],
   "source": [
    "print(butler.registry.dimensions[\"exposure\"].RecordClass.fields)"
   ]
  },
  {
   "cell_type": "code",
   "execution_count": null,
   "id": "68e5aa05",
   "metadata": {
    "execution": {
     "iopub.status.busy": "2023-09-15T08:17:32.011918Z",
     "iopub.status.idle": "2023-09-15T08:17:32.012055Z",
     "shell.execute_reply": "2023-09-15T08:17:32.011988Z"
    },
    "tags": []
   },
   "outputs": [],
   "source": [
    "for count, info in enumerate(registry.queryDimensionRecords('exposure',where= \"instrument='LATISS'\")):\n",
    "    \n",
    "    \n",
    "    \n",
    "    df_exposure.loc[count] = [info.id, info.obs_id, info.day_obs, info.seq_num,pd.to_datetime(info.timespan.begin.to_string()),pd.to_datetime(info.timespan.end.to_string()) ,info.observation_type, info.target_name, info.physical_filter, info.zenith_angle, \\\n",
    "                             info.exposure_time,info.tracking_ra, info.tracking_dec, info.sky_angle,info.azimuth ,info.zenith_angle, info.science_program,\n",
    "                             info.timespan.begin.jd,info.timespan.begin.mjd ]\n",
    "    \n",
    "    if count < 5:\n",
    "        print(\"-----------------------------------------------------\",count,\"---------------------------------------------------------\")\n",
    "        print(info)\n",
    "        print(\"\\t id:                  \",info.id)\n",
    "        print(\"\\t day_obs:             \",info.day_obs)\n",
    "        print(\"\\t seq_num:             \",info.seq_num)\n",
    "        print(\"\\t type-of-observation: \",info.observation_type)\n",
    "        print(\"\\t target:              \",info.target_name)\n",
    "        \n",
    "        mjd = Time(info.timespan.begin.to_string()).mjd\n",
    "        jd = Time(info.timespan.begin.to_string()).jd\n",
    "        print(mjd,jd)\n",
    "    "
   ]
  },
  {
   "cell_type": "code",
   "execution_count": null,
   "id": "c7a95cbb",
   "metadata": {
    "execution": {
     "iopub.status.busy": "2023-09-15T08:17:32.012390Z",
     "iopub.status.idle": "2023-09-15T08:17:32.012523Z",
     "shell.execute_reply": "2023-09-15T08:17:32.012455Z"
    },
    "tags": []
   },
   "outputs": [],
   "source": [
    "info.toDict()"
   ]
  },
  {
   "cell_type": "code",
   "execution_count": null,
   "id": "ecd031a3",
   "metadata": {
    "execution": {
     "iopub.status.busy": "2023-09-15T08:17:32.012883Z",
     "iopub.status.idle": "2023-09-15T08:17:32.013019Z",
     "shell.execute_reply": "2023-09-15T08:17:32.012951Z"
    },
    "tags": []
   },
   "outputs": [],
   "source": [
    "info"
   ]
  },
  {
   "cell_type": "code",
   "execution_count": null,
   "id": "63235629",
   "metadata": {
    "execution": {
     "iopub.status.busy": "2023-09-15T08:17:32.013384Z",
     "iopub.status.idle": "2023-09-15T08:17:32.013519Z",
     "shell.execute_reply": "2023-09-15T08:17:32.013452Z"
    },
    "tags": []
   },
   "outputs": [],
   "source": [
    "info.azimuth"
   ]
  },
  {
   "cell_type": "code",
   "execution_count": null,
   "id": "59850725",
   "metadata": {
    "execution": {
     "iopub.status.busy": "2023-09-15T08:17:32.013859Z",
     "iopub.status.idle": "2023-09-15T08:17:32.013994Z",
     "shell.execute_reply": "2023-09-15T08:17:32.013927Z"
    },
    "tags": []
   },
   "outputs": [],
   "source": [
    "df_exposure"
   ]
  },
  {
   "cell_type": "code",
   "execution_count": null,
   "id": "5a506b62",
   "metadata": {
    "execution": {
     "iopub.status.busy": "2023-09-15T08:17:32.014299Z",
     "iopub.status.idle": "2023-09-15T08:17:32.014434Z",
     "shell.execute_reply": "2023-09-15T08:17:32.014366Z"
    },
    "tags": []
   },
   "outputs": [],
   "source": [
    "df_exposure = df_exposure.astype({\"id\": int,'day_obs': int,'seq_num':int})"
   ]
  },
  {
   "cell_type": "code",
   "execution_count": null,
   "id": "b23d1779",
   "metadata": {
    "execution": {
     "iopub.status.busy": "2023-09-15T08:17:32.014798Z",
     "iopub.status.idle": "2023-09-15T08:17:32.014932Z",
     "shell.execute_reply": "2023-09-15T08:17:32.014865Z"
    },
    "tags": []
   },
   "outputs": [],
   "source": [
    "df_exposure"
   ]
  },
  {
   "cell_type": "markdown",
   "id": "9f574bd8",
   "metadata": {},
   "source": [
    "## Selection of science"
   ]
  },
  {
   "cell_type": "code",
   "execution_count": null,
   "id": "8ea8bdc2",
   "metadata": {
    "execution": {
     "iopub.status.busy": "2023-09-15T08:17:32.015232Z",
     "iopub.status.idle": "2023-09-15T08:17:32.015368Z",
     "shell.execute_reply": "2023-09-15T08:17:32.015297Z"
    },
    "tags": []
   },
   "outputs": [],
   "source": [
    "df_science = df_exposure[df_exposure.type == 'science']"
   ]
  },
  {
   "cell_type": "code",
   "execution_count": null,
   "id": "db211d9a",
   "metadata": {
    "execution": {
     "iopub.status.busy": "2023-09-15T08:17:32.015794Z",
     "iopub.status.idle": "2023-09-15T08:17:32.015939Z",
     "shell.execute_reply": "2023-09-15T08:17:32.015866Z"
    },
    "tags": []
   },
   "outputs": [],
   "source": [
    "df_science.sort_values(by=\"id\",ascending=True,inplace=True)"
   ]
  },
  {
   "cell_type": "code",
   "execution_count": null,
   "id": "ffba5e41",
   "metadata": {
    "execution": {
     "iopub.status.busy": "2023-09-15T08:17:32.016245Z",
     "iopub.status.idle": "2023-09-15T08:17:32.016378Z",
     "shell.execute_reply": "2023-09-15T08:17:32.016311Z"
    },
    "tags": []
   },
   "outputs": [],
   "source": [
    "df_science.tail(60)"
   ]
  },
  {
   "cell_type": "code",
   "execution_count": null,
   "id": "f410412e",
   "metadata": {
    "execution": {
     "iopub.status.busy": "2023-09-15T08:17:32.016734Z",
     "iopub.status.idle": "2023-09-15T08:17:32.016868Z",
     "shell.execute_reply": "2023-09-15T08:17:32.016801Z"
    },
    "tags": []
   },
   "outputs": [],
   "source": [
    "df_science.day_obs.unique()"
   ]
  },
  {
   "cell_type": "markdown",
   "id": "571fea1a",
   "metadata": {},
   "source": [
    "## Selection of date"
   ]
  },
  {
   "cell_type": "markdown",
   "id": "05c10303",
   "metadata": {},
   "source": [
    "2021-02-16  2021-02-18  2021-06-08  2021-06-10  2021-07-07  2021-09-07  2021-09-09  2021-10-06  2021-11-02  2021-11-04  2022-02-16  2022-03-15  2022-03-17  20220502  \n",
    "2021-02-17  2021-03-11  2021-06-09  2021-07-06  2021-07-08  2021-09-08  2021-10-05  2021-10-07  2021-11-03  2022-02-15  2022-02-17  2022-03-16  2022-03-18  20220503 20220524 20220607 20220608 20220609"
   ]
  },
  {
   "cell_type": "markdown",
   "id": "4414584d",
   "metadata": {},
   "source": [
    "### Add those\n",
    "\n",
    "20220504 - Not existing"
   ]
  },
  {
   "cell_type": "code",
   "execution_count": null,
   "id": "60ec6979",
   "metadata": {
    "execution": {
     "iopub.status.busy": "2023-09-15T08:17:32.017235Z",
     "iopub.status.idle": "2023-09-15T08:17:32.017371Z",
     "shell.execute_reply": "2023-09-15T08:17:32.017303Z"
    },
    "tags": []
   },
   "outputs": [],
   "source": [
    "#date_sel = 20220630\n",
    "#date_sel = 20220630\n",
    "#date_sel = 20221208\n",
    "#date_sel = 20221209\n",
    "\n",
    "# data in january\n",
    "#date_sel= 20230118\n",
    "#date_sel= 20230131\n",
    "\n",
    "# data in February\n",
    "#date_sel = 20230201\n",
    "#date_sel = 20230202\n",
    "#date_sel = 20230704\n",
    "\n",
    "#date_sel = 20230510\n",
    "#date_sel = 20230509\n",
    "#date_sel = 20230511\n",
    "\n",
    "#date_sel = 20230705\n",
    "#date_sel = 20230706\n",
    "\n",
    "#july 2023\n",
    "#date_sel = 20230718\n",
    "#date_sel = 20230720\n",
    "\n",
    "#august 2023\n",
    "#date_sel = 20230801\n",
    "#date_sel = 20230802\n",
    "\n",
    "#date_sel = 20230815\n",
    "#date_sel = 20230817\n",
    "\n",
    "#september 2023\n",
    "#date_sel = 20230912\n",
    "date_sel = 20230913\n"
   ]
  },
  {
   "cell_type": "markdown",
   "id": "ca7ea1eb",
   "metadata": {},
   "source": [
    "## Query Dimension records on Exposures"
   ]
  },
  {
   "cell_type": "code",
   "execution_count": null,
   "id": "fd25ddf1",
   "metadata": {
    "execution": {
     "iopub.status.busy": "2023-09-15T08:17:32.017759Z",
     "iopub.status.idle": "2023-09-15T08:17:32.017896Z",
     "shell.execute_reply": "2023-09-15T08:17:32.017828Z"
    },
    "tags": []
   },
   "outputs": [],
   "source": [
    "where_clause = f\"instrument=\\'LATISS\\' AND exposure.day_obs={date_sel} AND exposure.science_program=\\'spec\\'\""
   ]
  },
  {
   "cell_type": "code",
   "execution_count": null,
   "id": "5a44b694",
   "metadata": {
    "execution": {
     "iopub.status.busy": "2023-09-15T08:17:32.018200Z",
     "iopub.status.idle": "2023-09-15T08:17:32.018336Z",
     "shell.execute_reply": "2023-09-15T08:17:32.018265Z"
    },
    "tags": []
   },
   "outputs": [],
   "source": [
    "results_exposures = registry.queryDimensionRecords('exposure',datasets=\"raw\",collections = 'LATISS/raw/all',where=where_clause)"
   ]
  },
  {
   "cell_type": "markdown",
   "id": "738b621f",
   "metadata": {},
   "source": [
    "## Select date"
   ]
  },
  {
   "cell_type": "code",
   "execution_count": null,
   "id": "d8ef14ee",
   "metadata": {
    "execution": {
     "iopub.status.busy": "2023-09-15T08:17:32.018663Z",
     "iopub.status.idle": "2023-09-15T08:17:32.018804Z",
     "shell.execute_reply": "2023-09-15T08:17:32.018735Z"
    },
    "tags": []
   },
   "outputs": [],
   "source": [
    "df_science_selected = df_science[df_science.day_obs == date_sel ]"
   ]
  },
  {
   "cell_type": "code",
   "execution_count": null,
   "id": "94832d97",
   "metadata": {
    "execution": {
     "iopub.status.busy": "2023-09-15T08:17:32.019149Z",
     "iopub.status.idle": "2023-09-15T08:17:32.019283Z",
     "shell.execute_reply": "2023-09-15T08:17:32.019216Z"
    },
    "tags": []
   },
   "outputs": [],
   "source": [
    "len(df_science_selected)"
   ]
  },
  {
   "cell_type": "markdown",
   "id": "987825f9",
   "metadata": {},
   "source": [
    "# List of filters"
   ]
  },
  {
   "cell_type": "code",
   "execution_count": null,
   "id": "769e8f49",
   "metadata": {
    "execution": {
     "iopub.status.busy": "2023-09-15T08:17:32.019603Z",
     "iopub.status.idle": "2023-09-15T08:17:32.019760Z",
     "shell.execute_reply": "2023-09-15T08:17:32.019670Z"
    },
    "tags": []
   },
   "outputs": [],
   "source": [
    "list_of_filters = df_science_selected['filter'].unique()\n",
    "list_of_filters"
   ]
  },
  {
   "cell_type": "code",
   "execution_count": null,
   "id": "eee17a34",
   "metadata": {
    "execution": {
     "iopub.status.busy": "2023-09-15T08:17:32.020120Z",
     "iopub.status.idle": "2023-09-15T08:17:32.020256Z",
     "shell.execute_reply": "2023-09-15T08:17:32.020188Z"
    },
    "tags": []
   },
   "outputs": [],
   "source": [
    "selected_filters = []\n",
    "for filt in list_of_filters:\n",
    "    #flag_sel = (filt.find('holo4') != -1) or (filt.find('ronchi90lpmm') != -1) or (filt.find('ronchi170lpmm') != -1)\n",
    "    flag_sel = (filt.find('holo4') != -1) \n",
    "    #flag_sel = (filt.find('ronchi170') != -1) \n",
    "    if flag_sel:\n",
    "        selected_filters.append(filt) \n",
    "selected_filters = np.array(selected_filters)\n",
    "selected_filters       "
   ]
  },
  {
   "cell_type": "markdown",
   "id": "a194e05b",
   "metadata": {},
   "source": [
    "## Selection of filter\n",
    "\n",
    "- But now we have a loop on filters"
   ]
  },
  {
   "cell_type": "code",
   "execution_count": null,
   "id": "c69e69fb",
   "metadata": {
    "execution": {
     "iopub.status.busy": "2023-09-15T08:17:32.020591Z",
     "iopub.status.idle": "2023-09-15T08:17:32.020732Z",
     "shell.execute_reply": "2023-09-15T08:17:32.020657Z"
    },
    "tags": []
   },
   "outputs": [],
   "source": [
    "#idx_sel_filt = 0\n",
    "#selected_filter = selected_filters[0]\n",
    "#selected_filter"
   ]
  },
  {
   "cell_type": "markdown",
   "id": "da92ecf4",
   "metadata": {},
   "source": [
    "## Final selection of exposure\n",
    "\n",
    "- loop on selected filters"
   ]
  },
  {
   "cell_type": "code",
   "execution_count": null,
   "id": "5cb441b3",
   "metadata": {
    "execution": {
     "iopub.status.busy": "2023-09-15T08:17:32.021055Z",
     "iopub.status.idle": "2023-09-15T08:17:32.021247Z",
     "shell.execute_reply": "2023-09-15T08:17:32.021175Z"
    },
    "tags": []
   },
   "outputs": [],
   "source": [
    "pd.set_option('display.max_rows', None)"
   ]
  },
  {
   "cell_type": "code",
   "execution_count": null,
   "id": "5b8df905",
   "metadata": {
    "execution": {
     "iopub.status.busy": "2023-09-15T08:17:32.021628Z",
     "iopub.status.idle": "2023-09-15T08:17:32.021780Z",
     "shell.execute_reply": "2023-09-15T08:17:32.021702Z"
    },
    "tags": []
   },
   "outputs": [],
   "source": [
    "all_def_science_selected_final = []\n",
    "\n",
    "for selected_filter in selected_filters:\n",
    "\n",
    "    print(selected_filter)\n",
    "    df_science_selected_final = df_science_selected[df_science_selected[\"filter\"] ==  selected_filter]\n",
    "    \n",
    "    #print(df_science_selected_final)\n",
    "    all_def_science_selected_final.append(df_science_selected_final.copy())\n",
    "    \n",
    "    df = df_science_selected_final\n",
    "    df_sel = df[['day_obs', 'seq_num']]\n",
    "    \n",
    "    \n",
    "    NN = len(df)\n",
    "    \n",
    "    if NN>0:\n",
    "        # build the line\n",
    "        \n",
    "        df_sel['line'] = df_sel.apply(lambda row: str(row['day_obs'])  + \" \" + str(row['seq_num']),axis = 1)\n",
    "    \n",
    "    \n",
    "         # prepare output\n",
    "        filename_out = \"visitdispersers_\"+ str(date_sel) + \"_filt_\" + selected_filter.replace('~','-') + \".list\"\n",
    "        print(filename_out)\n",
    "        \n",
    "        df_out = df_sel[[\"line\"]]\n",
    "        df_out.to_csv(filename_out, index=False, header=None)"
   ]
  },
  {
   "cell_type": "code",
   "execution_count": null,
   "id": "c12bc653",
   "metadata": {
    "execution": {
     "iopub.status.busy": "2023-09-15T08:17:32.022132Z",
     "iopub.status.idle": "2023-09-15T08:17:32.022268Z",
     "shell.execute_reply": "2023-09-15T08:17:32.022201Z"
    },
    "tags": []
   },
   "outputs": [],
   "source": [
    "N = len(all_def_science_selected_final)"
   ]
  },
  {
   "cell_type": "code",
   "execution_count": null,
   "id": "94796624",
   "metadata": {
    "execution": {
     "iopub.status.busy": "2023-09-15T08:17:32.022640Z",
     "iopub.status.idle": "2023-09-15T08:17:32.022790Z",
     "shell.execute_reply": "2023-09-15T08:17:32.022712Z"
    },
    "tags": []
   },
   "outputs": [],
   "source": [
    "if N>=1:\n",
    "    n0=len(all_def_science_selected_final[0])\n",
    "    display(all_def_science_selected_final[0])"
   ]
  },
  {
   "cell_type": "code",
   "execution_count": null,
   "id": "63040a01",
   "metadata": {
    "execution": {
     "iopub.status.busy": "2023-09-15T08:17:32.023104Z",
     "iopub.status.idle": "2023-09-15T08:17:32.023238Z",
     "shell.execute_reply": "2023-09-15T08:17:32.023170Z"
    },
    "tags": []
   },
   "outputs": [],
   "source": [
    "if N>=2:\n",
    "    n1=len(all_def_science_selected_final[1])\n",
    "    display(all_def_science_selected_final[1])"
   ]
  },
  {
   "cell_type": "code",
   "execution_count": null,
   "id": "0e20d54f",
   "metadata": {
    "execution": {
     "iopub.status.busy": "2023-09-15T08:17:32.023556Z",
     "iopub.status.idle": "2023-09-15T08:17:32.023687Z",
     "shell.execute_reply": "2023-09-15T08:17:32.023621Z"
    },
    "tags": []
   },
   "outputs": [],
   "source": [
    "if N>=3:\n",
    "    n2=len(all_def_science_selected_final[2])\n",
    "    display(all_def_science_selected_final[2])"
   ]
  },
  {
   "cell_type": "code",
   "execution_count": null,
   "id": "da72653d",
   "metadata": {
    "execution": {
     "iopub.status.busy": "2023-09-15T08:17:32.024000Z",
     "iopub.status.idle": "2023-09-15T08:17:32.024131Z",
     "shell.execute_reply": "2023-09-15T08:17:32.024065Z"
    },
    "tags": []
   },
   "outputs": [],
   "source": [
    "if N>=4:\n",
    "    n3=len(all_def_science_selected_final[3])\n",
    "    display(all_def_science_selected_final[3])"
   ]
  },
  {
   "cell_type": "code",
   "execution_count": null,
   "id": "7aec733c",
   "metadata": {
    "execution": {
     "iopub.status.busy": "2023-09-15T08:17:32.024510Z",
     "iopub.status.idle": "2023-09-15T08:17:32.024648Z",
     "shell.execute_reply": "2023-09-15T08:17:32.024580Z"
    },
    "tags": []
   },
   "outputs": [],
   "source": [
    "if N>=5:\n",
    "    n4=len(all_def_science_selected_final[4])\n",
    "    display(all_def_science_selected_final[4])"
   ]
  },
  {
   "cell_type": "code",
   "execution_count": null,
   "id": "4792e65a",
   "metadata": {
    "execution": {
     "iopub.status.busy": "2023-09-15T08:17:32.025013Z",
     "iopub.status.idle": "2023-09-15T08:17:32.025148Z",
     "shell.execute_reply": "2023-09-15T08:17:32.025081Z"
    },
    "tags": []
   },
   "outputs": [],
   "source": [
    "df_forsave = pd.concat(all_def_science_selected_final)"
   ]
  },
  {
   "cell_type": "code",
   "execution_count": null,
   "id": "d54f1d26",
   "metadata": {
    "execution": {
     "iopub.status.busy": "2023-09-15T08:17:32.025489Z",
     "iopub.status.idle": "2023-09-15T08:17:32.025625Z",
     "shell.execute_reply": "2023-09-15T08:17:32.025557Z"
    },
    "tags": []
   },
   "outputs": [],
   "source": [
    "filename_out_csv = \"holosummary_\"+ str(date_sel) + \".csv\"\n",
    "filename_out_excel = \"holosummary_\"+ str(date_sel) + \".xlsx\""
   ]
  },
  {
   "cell_type": "code",
   "execution_count": null,
   "id": "b81ae67c",
   "metadata": {
    "execution": {
     "iopub.status.busy": "2023-09-15T08:17:32.025962Z",
     "iopub.status.idle": "2023-09-15T08:17:32.026096Z",
     "shell.execute_reply": "2023-09-15T08:17:32.026029Z"
    },
    "tags": []
   },
   "outputs": [],
   "source": [
    "filename_out_csv"
   ]
  },
  {
   "cell_type": "code",
   "execution_count": null,
   "id": "9d800be1",
   "metadata": {
    "execution": {
     "iopub.status.busy": "2023-09-15T08:17:32.026441Z",
     "iopub.status.idle": "2023-09-15T08:17:32.026578Z",
     "shell.execute_reply": "2023-09-15T08:17:32.026509Z"
    },
    "tags": []
   },
   "outputs": [],
   "source": [
    "df_forsave.to_csv(filename_out_csv) "
   ]
  },
  {
   "cell_type": "code",
   "execution_count": null,
   "id": "cec0156f",
   "metadata": {
    "execution": {
     "iopub.status.busy": "2023-09-15T08:17:32.026953Z",
     "iopub.status.idle": "2023-09-15T08:17:32.027088Z",
     "shell.execute_reply": "2023-09-15T08:17:32.027021Z"
    }
   },
   "outputs": [],
   "source": [
    "! pip install openpyxl"
   ]
  },
  {
   "cell_type": "code",
   "execution_count": null,
   "id": "193b61b9",
   "metadata": {
    "execution": {
     "iopub.status.busy": "2023-09-15T08:17:32.027427Z",
     "iopub.status.idle": "2023-09-15T08:17:32.027564Z",
     "shell.execute_reply": "2023-09-15T08:17:32.027495Z"
    },
    "tags": []
   },
   "outputs": [],
   "source": [
    "df_forsave.to_excel(filename_out_excel) "
   ]
  },
  {
   "cell_type": "code",
   "execution_count": null,
   "id": "e6f2b7c9",
   "metadata": {},
   "outputs": [],
   "source": []
  }
 ],
 "metadata": {
  "kernelspec": {
   "display_name": "LSST",
   "language": "python",
   "name": "lsst"
  },
  "language_info": {
   "codemirror_mode": {
    "name": "ipython",
    "version": 3
   },
   "file_extension": ".py",
   "mimetype": "text/x-python",
   "name": "python",
   "nbconvert_exporter": "python",
   "pygments_lexer": "ipython3",
   "version": "3.11.4"
  }
 },
 "nbformat": 4,
 "nbformat_minor": 5
}
