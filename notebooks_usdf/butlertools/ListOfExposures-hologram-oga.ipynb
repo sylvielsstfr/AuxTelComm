{
 "cells": [
  {
   "cell_type": "markdown",
   "id": "34464a75",
   "metadata": {
    "tags": []
   },
   "source": [
    "# List of Exposures  at USDF in OGA\n",
    "\n",
    "\n",
    "- work with Weakly_2024_17\n",
    "- use jupyter kernel LSST\n",
    "\n",
    "\n",
    "- author : Sylvie Dagoret-Campagne\n",
    "- affiliation : IJCLab\n",
    "- creation date : 2023/09/13\n",
    "- last update : 2024/05/02\n",
    "\n"
   ]
  },
  {
   "cell_type": "code",
   "execution_count": 1,
   "id": "5e6ddc9d",
   "metadata": {
    "execution": {
     "iopub.execute_input": "2024-05-02T10:20:48.807237Z",
     "iopub.status.busy": "2024-05-02T10:20:48.807117Z",
     "iopub.status.idle": "2024-05-02T10:20:48.809975Z",
     "shell.execute_reply": "2024-05-02T10:20:48.809541Z",
     "shell.execute_reply.started": "2024-05-02T10:20:48.807224Z"
    },
    "tags": []
   },
   "outputs": [
    {
     "name": "stdout",
     "output_type": "stream",
     "text": [
      "/opt/lsst/software/stack/conda/miniconda3-py38_4.9.2/envs/lsst-scipipe-8.0.0/bin/python3\n"
     ]
    }
   ],
   "source": [
    "import sys\n",
    "print(sys.executable)"
   ]
  },
  {
   "cell_type": "code",
   "execution_count": 2,
   "id": "6d6367f0",
   "metadata": {
    "execution": {
     "iopub.execute_input": "2024-05-02T10:20:48.810633Z",
     "iopub.status.busy": "2024-05-02T10:20:48.810502Z",
     "iopub.status.idle": "2024-05-02T10:20:48.814313Z",
     "shell.execute_reply": "2024-05-02T10:20:48.813958Z",
     "shell.execute_reply.started": "2024-05-02T10:20:48.810621Z"
    },
    "tags": []
   },
   "outputs": [
    {
     "name": "stdout",
     "output_type": "stream",
     "text": [
      "['/sdf/data/rubin/user/dagoret/AuxTelComm/notebooks_usdf/butlertools', '/home/d/dagoret/repos/repos_w_2024_17/Spectractor/lib/python', '/home/d/dagoret/repos/repos_w_2024_17/atmospec/python', '/opt/lsst/software/stack/stack/miniconda3-py38_4.9.2-8.0.0/Linux64/ctrl_mpexec/g9f21ca10cf+81e60bdb09/python', '/opt/lsst/software/stack/stack/miniconda3-py38_4.9.2-8.0.0/Linux64/obs_lsst/g5c5439fafc+e5b148903d/python', '/opt/lsst/software/stack/stack/miniconda3-py38_4.9.2-8.0.0/Linux64/pipe_tasks/gc07e1c2157+b2dbe6b631/python', '/opt/lsst/software/stack/stack/miniconda3-py38_4.9.2-8.0.0/Linux64/shapelet/ge79ae78c31+d6b5cd48b5/python', '/opt/lsst/software/stack/stack/miniconda3-py38_4.9.2-8.0.0/Linux64/meas_modelfit/g591dd9f2cf+b2918d57ae/python', '/opt/lsst/software/stack/stack/miniconda3-py38_4.9.2-8.0.0/Linux64/scarlet_lite/gee10cc3b42+a6fc98d2e7/python', '/opt/lsst/software/stack/stack/miniconda3-py38_4.9.2-8.0.0/Linux64/proxmin/g33b4157f25/lib/python', '/opt/lsst/software/stack/stack/miniconda3-py38_4.9.2-8.0.0/Linux64/scarlet/g87a95b57b9+4083830bf8/lib/python', '/opt/lsst/software/stack/stack/miniconda3-py38_4.9.2-8.0.0/Linux64/meas_extensions_scarlet/g1850869495+7789406006/python', '/opt/lsst/software/stack/stack/miniconda3-py38_4.9.2-8.0.0/Linux64/meas_extensions_psfex/g2305ad1205+72971fe858/python', '/opt/lsst/software/stack/stack/miniconda3-py38_4.9.2-8.0.0/Linux64/meas_extensions_piff/g64a986408d+a41d3748ce/python', '/opt/lsst/software/stack/stack/miniconda3-py38_4.9.2-8.0.0/Linux64/meas_extensions_gaap/gaf2e528c11+10c814614d/python', '/opt/lsst/software/stack/stack/miniconda3-py38_4.9.2-8.0.0/Linux64/meas_extensions_photometryKron/g858d7b2824+a41d3748ce/python', '/opt/lsst/software/stack/stack/miniconda3-py38_4.9.2-8.0.0/Linux64/meas_extensions_convolved/g42fff21dfb+b25e419a72/python', '/opt/lsst/software/stack/stack/miniconda3-py38_4.9.2-8.0.0/Linux64/ip_isr/g02d81e74bb+a41d3748ce/python', '/opt/lsst/software/stack/stack/miniconda3-py38_4.9.2-8.0.0/Linux64/verify_metrics/gc16d4156ef+a6fc98d2e7/python', '/opt/lsst/software/stack/stack/miniconda3-py38_4.9.2-8.0.0/Linux64/felis/g2c982cf34e+14824f138e/python', '/opt/lsst/software/stack/stack/miniconda3-py38_4.9.2-8.0.0/Linux64/dax_apdb/g295015adf3+ab2c85acae/python', '/opt/lsst/software/stack/stack/miniconda3-py38_4.9.2-8.0.0/Linux64/verify/gb258240cf5+4e001cb0c7/python', '/opt/lsst/software/stack/stack/miniconda3-py38_4.9.2-8.0.0/Linux64/meas_deblender/g99cad8db69+7fe4acdf18/python', '/opt/lsst/software/stack/stack/miniconda3-py38_4.9.2-8.0.0/Linux64/meas_extensions_shapeHSM/g46d310ee33+a41d3748ce/python', '/opt/lsst/software/stack/stack/miniconda3-py38_4.9.2-8.0.0/Linux64/meas_extensions_trailedSources/g3ddfee87b4+31b3a28dff/python', '/opt/lsst/software/stack/stack/miniconda3-py38_4.9.2-8.0.0/Linux64/ip_diffim/g1470d8bcf6+6be6c9203b/python', '/opt/lsst/software/stack/stack/miniconda3-py38_4.9.2-8.0.0/Linux64/dustmaps_cachedata/gbb0a0c949e+a6fc98d2e7/python', '/opt/lsst/software/stack/stack/miniconda3-py38_4.9.2-8.0.0/Linux64/coadd_utils/g337abbeb29+d6b5cd48b5/python', '/opt/lsst/software/stack/stack/miniconda3-py38_4.9.2-8.0.0/Linux64/meas_astrom/gf1cff7945b+a41d3748ce/python', '/opt/lsst/software/stack/stack/miniconda3-py38_4.9.2-8.0.0/Linux64/meas_algorithms/ge6526c86ff+39927bb362/python', '/opt/lsst/software/stack/stack/miniconda3-py38_4.9.2-8.0.0/Linux64/kht/gafcb7142de/cpp/build', '/opt/lsst/software/stack/stack/miniconda3-py38_4.9.2-8.0.0/Linux64/astro_metadata_translator/g5b7d32c56a+9664299f35/python', '/opt/lsst/software/stack/stack/miniconda3-py38_4.9.2-8.0.0/Linux64/obs_base/ga7fea70ee8+9551260700/python', '/opt/lsst/software/stack/stack/miniconda3-py38_4.9.2-8.0.0/Linux64/pipe_base/g6fe576e57d+11c5857c39/python', '/opt/lsst/software/stack/stack/miniconda3-py38_4.9.2-8.0.0/Linux64/daf_relation/gb0a325e57d+14824f138e/python', '/opt/lsst/software/stack/stack/miniconda3-py38_4.9.2-8.0.0/Linux64/resources/g3290f87e5b+14824f138e/python', '/opt/lsst/software/stack/stack/miniconda3-py38_4.9.2-8.0.0/Linux64/daf_butler/g1223572531+2e42ab5048/python', '/opt/lsst/software/stack/stack/miniconda3-py38_4.9.2-8.0.0/Linux64/skymap/ga8c6da7877+84af8b3ff8/python', '/opt/lsst/software/stack/stack/miniconda3-py38_4.9.2-8.0.0/Linux64/meas_base/g212a7c68fe+a4f2ea4efa/python', '/opt/lsst/software/stack/stack/miniconda3-py38_4.9.2-8.0.0/Linux64/log/g2079a07aa2+14824f138e/python', '/opt/lsst/software/stack/stack/miniconda3-py38_4.9.2-8.0.0/Linux64/pex_config/gba4ed39666+9664299f35/python', '/opt/lsst/software/stack/stack/miniconda3-py38_4.9.2-8.0.0/Linux64/afw/g5a732f18d5+66d966b544/python', '/opt/lsst/software/stack/stack/miniconda3-py38_4.9.2-8.0.0/Linux64/sphgeom/g8a8a8dda67+a6fc98d2e7/python', '/opt/lsst/software/stack/stack/miniconda3-py38_4.9.2-8.0.0/Linux64/geom/ga1e77700b3+246acaaf9c/python', '/opt/lsst/software/stack/stack/miniconda3-py38_4.9.2-8.0.0/Linux64/daf_base/gb0e22166c9+3863383f4c/python', '/opt/lsst/software/stack/stack/miniconda3-py38_4.9.2-8.0.0/Linux64/pex_exceptions/gdaeeff99f8+a38ce5ea23/python', '/opt/lsst/software/stack/stack/miniconda3-py38_4.9.2-8.0.0/Linux64/base/g52b1c1532d+a6fc98d2e7/python', '/opt/lsst/software/stack/stack/miniconda3-py38_4.9.2-8.0.0/Linux64/cpputils/g9ddcbc5298+d4bad12328/python', '/opt/lsst/software/stack/stack/miniconda3-py38_4.9.2-8.0.0/Linux64/astshim/g50ff169b8f+5929b3527e/python', '/home/d/dagoret/repos/repos_w_2024_17/analysis_tools/python', '/opt/lsst/software/stack/stack/miniconda3-py38_4.9.2-8.0.0/Linux64/cp_pipe/gb0b17cf87e+4c30af3487/python', '/opt/lsst/software/stack/stack/miniconda3-py38_4.9.2-8.0.0/Linux64/display_firefly/gb6a65358fc+d6b5cd48b5/python', '/opt/lsst/software/stack/stack/miniconda3-py38_4.9.2-8.0.0/Linux64/display_astrowidgets/g2bbee38e9b+d6b5cd48b5/python', '/opt/lsst/software/stack/stack/miniconda3-py38_4.9.2-8.0.0/Linux64/cell_coadds/g4da81e4fa4+4c30af3487/python', '/opt/lsst/software/stack/stack/miniconda3-py38_4.9.2-8.0.0/Linux64/gbdes/g73f919205b+ca4f911437/build/pydir', '/opt/lsst/software/stack/stack/miniconda3-py38_4.9.2-8.0.0/Linux64/drp_tasks/g3b9ebb4159+e4fcc55755/python', '/opt/lsst/software/stack/stack/miniconda3-py38_4.9.2-8.0.0/Linux64/analysis_drp/gefe92d13dd+4c30af3487/python', '/opt/lsst/software/stack/stack/miniconda3-py38_4.9.2-8.0.0/Linux64/drp_pipe/gfa69e0f95e+5eadbd7377/python', '/opt/lsst/software/stack/stack/miniconda3-py38_4.9.2-8.0.0/Linux64/cp_verify/gd17cd738e2+f913cc5fa9/python', '/opt/lsst/software/stack/stack/miniconda3-py38_4.9.2-8.0.0/Linux64/faro/g19fef19738+e0baa01ec3/python', '/opt/lsst/software/stack/stack/miniconda3-py38_4.9.2-8.0.0/Linux64/fgcm/g385fd88f61/lib/python', '/opt/lsst/software/stack/stack/miniconda3-py38_4.9.2-8.0.0/Linux64/fgcmcal/g487adcacf7+082e807817/python', '/opt/lsst/software/stack/stack/miniconda3-py38_4.9.2-8.0.0/Linux64/display_matplotlib/g0265f82a02+d6b5cd48b5/python', '/opt/lsst/software/stack/stack/miniconda3-py38_4.9.2-8.0.0/Linux64/ap_verify/gad424c6ed9+e54f8d7cc2/python', '/opt/lsst/software/stack/stack/miniconda3-py38_4.9.2-8.0.0/Linux64/jointcal/gbb8dafda3b+d8d527deb2/python', '/opt/lsst/software/stack/stack/miniconda3-py38_4.9.2-8.0.0/Linux64/cbp/ga32fcf49c8+d6b5cd48b5/python', '/opt/lsst/software/stack/stack/miniconda3-py38_4.9.2-8.0.0/Linux64/obs_fiberspectrograph/geb5f2e1a85+05427e89f2/python', '/opt/lsst/software/stack/stack/miniconda3-py38_4.9.2-8.0.0/Linux64/obs_rubinGenericCamera/g2de8c5dfb3+05427e89f2/python', '/opt/lsst/software/stack/stack/miniconda3-py38_4.9.2-8.0.0/Linux64/obs_decam/gc120e1dc64+61440b2abb/python', '/opt/lsst/software/stack/stack/miniconda3-py38_4.9.2-8.0.0/Linux64/obs_cfht/g7368d4d87c+d9d66160c5/python', '/opt/lsst/software/stack/stack/miniconda3-py38_4.9.2-8.0.0/Linux64/ctrl_bps_parsl/gab80713c34+5466a9659b/python', '/opt/lsst/software/stack/stack/miniconda3-py38_4.9.2-8.0.0/Linux64/ctrl_bps_panda/g60c78f9250+5466a9659b/python', '/opt/lsst/software/stack/stack/miniconda3-py38_4.9.2-8.0.0/Linux64/lsst_bps_plugins/g3a590c521e+3716fa9543/python', '/opt/lsst/software/stack/stack/miniconda3-py38_4.9.2-8.0.0/Linux64/ctrl_platform_s3df/ge038d2af86+1b9c46311a/python', '/opt/lsst/software/stack/stack/miniconda3-py38_4.9.2-8.0.0/Linux64/ctrl_bps/g8242931337+8929d0c6ae/python', '/opt/lsst/software/stack/stack/miniconda3-py38_4.9.2-8.0.0/Linux64/ctrl_bps_htcondor/ge2977a4643+5466a9659b/python', '/opt/lsst/software/stack/stack/miniconda3-py38_4.9.2-8.0.0/Linux64/ctrl_execute/g2e9034142b+9548743458/python', '/opt/lsst/software/stack/stack/miniconda3-py38_4.9.2-8.0.0/Linux64/obs_subaru/g8a77981927+4891924a1c/python', '/opt/lsst/software/stack/stack/miniconda3-py38_4.9.2-8.0.0/Linux64/source_injection/gd26fd9d4e4+cb81e6e689/python', '/opt/lsst/software/stack/stack/miniconda3-py38_4.9.2-8.0.0/Linux64/display_ds9/gc28159a63d+d6b5cd48b5/python', '/opt/lsst/software/stack/stack/miniconda3-py38_4.9.2-8.0.0/Linux64/meas_extensions_simpleShape/gcf0d15dbbd+31b3a28dff/python', '/opt/lsst/software/stack/stack/miniconda3-py38_4.9.2-8.0.0/Linux64/meas_transiNet/g85ff0b98a8+31b3a28dff/python', '/opt/lsst/software/stack/stack/miniconda3-py38_4.9.2-8.0.0/Linux64/alert_packet/gb80f75460d/python', '/opt/lsst/software/stack/stack/miniconda3-py38_4.9.2-8.0.0/Linux64/ap_association/g0796242eda+a390b17136/python', '/opt/lsst/software/stack/stack/miniconda3-py38_4.9.2-8.0.0/Linux64/ap_pipe/g759cec1136+98b092efb1/python', '/opt/lsst/software/stack/conda/miniconda3-py38_4.9.2/envs/lsst-scipipe-8.0.0/eups/python', '/opt/lsst/software/stack/conda/miniconda3-py38_4.9.2/envs/lsst-scipipe-8.0.0/lib/python311.zip', '/opt/lsst/software/stack/conda/miniconda3-py38_4.9.2/envs/lsst-scipipe-8.0.0/lib/python3.11', '/opt/lsst/software/stack/conda/miniconda3-py38_4.9.2/envs/lsst-scipipe-8.0.0/lib/python3.11/lib-dynload', '', '/home/d/dagoret/.local/lib/python3.11/site-packages', '/home/d/dagoret/.local/lib/python3.11/site-packages/getObsAtmo-0.1.1-py3.11.egg', '/opt/lsst/software/stack/conda/miniconda3-py38_4.9.2/envs/lsst-scipipe-8.0.0/lib/python3.11/site-packages']\n"
     ]
    }
   ],
   "source": [
    "print(sys.path)"
   ]
  },
  {
   "cell_type": "code",
   "execution_count": 3,
   "id": "89ee6f80",
   "metadata": {
    "execution": {
     "iopub.execute_input": "2024-05-02T10:20:48.814911Z",
     "iopub.status.busy": "2024-05-02T10:20:48.814790Z",
     "iopub.status.idle": "2024-05-02T10:20:49.256633Z",
     "shell.execute_reply": "2024-05-02T10:20:49.256126Z",
     "shell.execute_reply.started": "2024-05-02T10:20:48.814900Z"
    },
    "tags": []
   },
   "outputs": [
    {
     "name": "stdout",
     "output_type": "stream",
     "text": [
      "analysis_tools        LOCAL:/home/d/dagoret/repos/repos_w_2024_17/analysis_tools \tsetup\n",
      "atmospec              LOCAL:/home/d/dagoret/repos/repos_w_2024_17/atmospec \tsetup\n",
      "eups                  LOCAL:/opt/lsst/software/stack/conda/miniconda3-py38_4.9.2/envs/lsst-scipipe-8.0.0/eups \tsetup\n",
      "spectractor           LOCAL:/home/d/dagoret/repos/repos_w_2024_17/Spectractor \tsetup\n"
     ]
    }
   ],
   "source": [
    "! eups list -s | grep LOCAL"
   ]
  },
  {
   "cell_type": "code",
   "execution_count": 4,
   "id": "ab8d7eda",
   "metadata": {
    "execution": {
     "iopub.execute_input": "2024-05-02T10:20:49.258352Z",
     "iopub.status.busy": "2024-05-02T10:20:49.258200Z",
     "iopub.status.idle": "2024-05-02T10:20:49.796085Z",
     "shell.execute_reply": "2024-05-02T10:20:49.795541Z",
     "shell.execute_reply.started": "2024-05-02T10:20:49.258337Z"
    },
    "tags": []
   },
   "outputs": [
    {
     "name": "stdout",
     "output_type": "stream",
     "text": [
      "Weekly 2024_16\n",
      "   g4213664e8e+c2911b1728 \tcurrent w_2024_16 setup\n"
     ]
    }
   ],
   "source": [
    "! echo $IMAGE_DESCRIPTION\n",
    "! eups list -s lsst_distrib"
   ]
  },
  {
   "cell_type": "code",
   "execution_count": 5,
   "id": "08b3556a",
   "metadata": {
    "execution": {
     "iopub.execute_input": "2024-05-02T10:20:49.797090Z",
     "iopub.status.busy": "2024-05-02T10:20:49.796869Z",
     "iopub.status.idle": "2024-05-02T10:20:50.336372Z",
     "shell.execute_reply": "2024-05-02T10:20:50.336023Z",
     "shell.execute_reply.started": "2024-05-02T10:20:49.797074Z"
    },
    "tags": []
   },
   "outputs": [],
   "source": [
    "import os\n",
    "import matplotlib.pyplot as plt\n",
    "import numpy as np\n",
    "import pandas as pd\n",
    "%matplotlib inline\n",
    "from matplotlib.colors import LogNorm\n",
    "\n",
    "from mpl_toolkits.axes_grid1 import make_axes_locatable\n",
    "\n",
    "import matplotlib.ticker                         # here's where the formatter is\n",
    "from matplotlib.ticker import (MultipleLocator, FormatStrFormatter,\n",
    "                               AutoMinorLocator)\n",
    "\n",
    "from astropy.io import fits\n",
    "from astropy.time import Time"
   ]
  },
  {
   "cell_type": "code",
   "execution_count": 6,
   "id": "e49ab956",
   "metadata": {
    "execution": {
     "iopub.execute_input": "2024-05-02T10:20:50.337074Z",
     "iopub.status.busy": "2024-05-02T10:20:50.336850Z",
     "iopub.status.idle": "2024-05-02T10:20:50.339054Z",
     "shell.execute_reply": "2024-05-02T10:20:50.338768Z",
     "shell.execute_reply.started": "2024-05-02T10:20:50.337061Z"
    },
    "tags": []
   },
   "outputs": [],
   "source": [
    "from IPython.display import display, HTML"
   ]
  },
  {
   "cell_type": "code",
   "execution_count": 7,
   "id": "07168a2e",
   "metadata": {
    "execution": {
     "iopub.execute_input": "2024-05-02T10:20:50.339587Z",
     "iopub.status.busy": "2024-05-02T10:20:50.339467Z",
     "iopub.status.idle": "2024-05-02T10:20:50.341800Z",
     "shell.execute_reply": "2024-05-02T10:20:50.341533Z",
     "shell.execute_reply.started": "2024-05-02T10:20:50.339576Z"
    },
    "tags": []
   },
   "outputs": [],
   "source": [
    "#import lsst.afw.display as afwDisplay\n",
    "#afwDisplay.setDefaultBackend('matplotlib')"
   ]
  },
  {
   "cell_type": "code",
   "execution_count": 8,
   "id": "437a1418",
   "metadata": {
    "execution": {
     "iopub.execute_input": "2024-05-02T10:20:50.342284Z",
     "iopub.status.busy": "2024-05-02T10:20:50.342168Z",
     "iopub.status.idle": "2024-05-02T10:20:50.559280Z",
     "shell.execute_reply": "2024-05-02T10:20:50.557783Z",
     "shell.execute_reply.started": "2024-05-02T10:20:50.342272Z"
    },
    "tags": []
   },
   "outputs": [
    {
     "ename": "ModuleNotFoundError",
     "evalue": "No module named 'lsst.utils'",
     "output_type": "error",
     "traceback": [
      "\u001b[0;31m---------------------------------------------------------------------------\u001b[0m",
      "\u001b[0;31mModuleNotFoundError\u001b[0m                       Traceback (most recent call last)",
      "Cell \u001b[0;32mIn[8], line 1\u001b[0m\n\u001b[0;32m----> 1\u001b[0m \u001b[38;5;28;01mimport\u001b[39;00m \u001b[38;5;21;01mlsst\u001b[39;00m\u001b[38;5;21;01m.\u001b[39;00m\u001b[38;5;21;01mdaf\u001b[39;00m\u001b[38;5;21;01m.\u001b[39;00m\u001b[38;5;21;01mbutler\u001b[39;00m \u001b[38;5;28;01mas\u001b[39;00m \u001b[38;5;21;01mdafButler\u001b[39;00m\n",
      "File \u001b[0;32m/opt/lsst/software/stack/stack/miniconda3-py38_4.9.2-8.0.0/Linux64/daf_butler/g1223572531+2e42ab5048/python/lsst/daf/butler/__init__.py:35\u001b[0m\n\u001b[1;32m     28\u001b[0m \u001b[38;5;124;03m\"\"\"\u001b[39;00m\n\u001b[1;32m     29\u001b[0m \u001b[38;5;124;03mData Access Butler\u001b[39;00m\n\u001b[1;32m     30\u001b[0m \u001b[38;5;124;03m\"\"\"\u001b[39;00m\n\u001b[1;32m     32\u001b[0m \u001b[38;5;66;03m# Some components are not auto-imported since they can have additional runtime\u001b[39;00m\n\u001b[1;32m     33\u001b[0m \u001b[38;5;66;03m# dependencies.\u001b[39;00m\n\u001b[0;32m---> 35\u001b[0m \u001b[38;5;28;01mfrom\u001b[39;00m \u001b[38;5;21;01m.\u001b[39;00m \u001b[38;5;28;01mimport\u001b[39;00m logging  \u001b[38;5;66;03m# most symbols are helpers only\u001b[39;00m\n\u001b[1;32m     36\u001b[0m \u001b[38;5;28;01mfrom\u001b[39;00m \u001b[38;5;21;01m.\u001b[39;00m \u001b[38;5;28;01mimport\u001b[39;00m progress  \u001b[38;5;66;03m# most symbols are only used by handler implementors\u001b[39;00m\n\u001b[1;32m     37\u001b[0m \u001b[38;5;28;01mfrom\u001b[39;00m \u001b[38;5;21;01m.\u001b[39;00m \u001b[38;5;28;01mimport\u001b[39;00m ddl, time_utils\n",
      "File \u001b[0;32m/opt/lsst/software/stack/stack/miniconda3-py38_4.9.2-8.0.0/Linux64/daf_butler/g1223572531+2e42ab5048/python/lsst/daf/butler/logging.py:40\u001b[0m\n\u001b[1;32m     37\u001b[0m \u001b[38;5;28;01mfrom\u001b[39;00m \u001b[38;5;21;01mlogging\u001b[39;00m \u001b[38;5;28;01mimport\u001b[39;00m Formatter, LogRecord, StreamHandler\n\u001b[1;32m     38\u001b[0m \u001b[38;5;28;01mfrom\u001b[39;00m \u001b[38;5;21;01mtyping\u001b[39;00m \u001b[38;5;28;01mimport\u001b[39;00m IO, Any, ClassVar, overload\n\u001b[0;32m---> 40\u001b[0m \u001b[38;5;28;01mfrom\u001b[39;00m \u001b[38;5;21;01mlsst\u001b[39;00m\u001b[38;5;21;01m.\u001b[39;00m\u001b[38;5;21;01mutils\u001b[39;00m\u001b[38;5;21;01m.\u001b[39;00m\u001b[38;5;21;01mintrospection\u001b[39;00m \u001b[38;5;28;01mimport\u001b[39;00m get_full_type_name\n\u001b[1;32m     41\u001b[0m \u001b[38;5;28;01mfrom\u001b[39;00m \u001b[38;5;21;01mlsst\u001b[39;00m\u001b[38;5;21;01m.\u001b[39;00m\u001b[38;5;21;01mutils\u001b[39;00m\u001b[38;5;21;01m.\u001b[39;00m\u001b[38;5;21;01miteration\u001b[39;00m \u001b[38;5;28;01mimport\u001b[39;00m isplit\n\u001b[1;32m     42\u001b[0m \u001b[38;5;28;01mfrom\u001b[39;00m \u001b[38;5;21;01mpydantic\u001b[39;00m \u001b[38;5;28;01mimport\u001b[39;00m BaseModel, ConfigDict, PrivateAttr, RootModel\n",
      "\u001b[0;31mModuleNotFoundError\u001b[0m: No module named 'lsst.utils'"
     ]
    }
   ],
   "source": [
    "import lsst.daf.butler as dafButler"
   ]
  },
  {
   "cell_type": "code",
   "execution_count": null,
   "id": "6e21fce6",
   "metadata": {
    "execution": {
     "iopub.status.busy": "2024-05-02T10:20:50.559677Z",
     "iopub.status.idle": "2024-05-02T10:20:50.559839Z",
     "shell.execute_reply": "2024-05-02T10:20:50.559766Z",
     "shell.execute_reply.started": "2024-05-02T10:20:50.559758Z"
    },
    "tags": []
   },
   "outputs": [],
   "source": [
    "#repo = \"/sdf/group/rubin/repo/main\"\n",
    "repo=\"/sdf/group/rubin/repo/oga/\"\n",
    "butler = dafButler.Butler(repo)\n",
    "registry = butler.registry"
   ]
  },
  {
   "cell_type": "code",
   "execution_count": null,
   "id": "c6f26349",
   "metadata": {
    "execution": {
     "iopub.status.busy": "2024-05-02T10:20:50.560577Z",
     "iopub.status.idle": "2024-05-02T10:20:50.560849Z",
     "shell.execute_reply": "2024-05-02T10:20:50.560771Z",
     "shell.execute_reply.started": "2024-05-02T10:20:50.560763Z"
    },
    "tags": []
   },
   "outputs": [],
   "source": [
    "collection='LATISS/raw/all'"
   ]
  },
  {
   "cell_type": "markdown",
   "id": "3a7b35c7",
   "metadata": {},
   "source": [
    "## List of Exposures"
   ]
  },
  {
   "cell_type": "code",
   "execution_count": null,
   "id": "473cdd14",
   "metadata": {
    "execution": {
     "iopub.status.busy": "2024-05-02T10:20:50.561313Z",
     "iopub.status.idle": "2024-05-02T10:20:50.561465Z",
     "shell.execute_reply": "2024-05-02T10:20:50.561396Z",
     "shell.execute_reply.started": "2024-05-02T10:20:50.561390Z"
    },
    "tags": []
   },
   "outputs": [],
   "source": [
    "df_exposure = pd.DataFrame(columns=['id', 'obs_id','day_obs', 'seq_num','time_start','time_end' ,'type', 'target','filter','zenith_angle','expos','ra','dec','skyangle','azimuth','zenith','science_program','jd','mjd'])"
   ]
  },
  {
   "cell_type": "code",
   "execution_count": null,
   "id": "0b34e4fd",
   "metadata": {
    "execution": {
     "iopub.status.busy": "2024-05-02T10:20:50.562066Z",
     "iopub.status.idle": "2024-05-02T10:20:50.562235Z",
     "shell.execute_reply": "2024-05-02T10:20:50.562158Z",
     "shell.execute_reply.started": "2024-05-02T10:20:50.562152Z"
    },
    "tags": []
   },
   "outputs": [],
   "source": [
    "print(butler.registry.dimensions[\"exposure\"].RecordClass.fields)"
   ]
  },
  {
   "cell_type": "code",
   "execution_count": null,
   "id": "f2c9f07f",
   "metadata": {
    "execution": {
     "iopub.status.busy": "2024-05-02T10:20:50.562763Z",
     "iopub.status.idle": "2024-05-02T10:20:50.562919Z",
     "shell.execute_reply": "2024-05-02T10:20:50.562843Z",
     "shell.execute_reply.started": "2024-05-02T10:20:50.562837Z"
    },
    "tags": []
   },
   "outputs": [],
   "source": [
    "for count, info in enumerate(registry.queryDimensionRecords('exposure',where= \"instrument='LATISS'\")):\n",
    "    \n",
    "    \n",
    "    try:\n",
    "        df_exposure.loc[count] = [info.id, info.obs_id, info.day_obs, info.seq_num,pd.to_datetime(info.timespan.begin.to_string()),pd.to_datetime(info.timespan.end.to_string()) ,info.observation_type, info.target_name, info.physical_filter, info.zenith_angle, \\\n",
    "                             info.exposure_time,info.tracking_ra, info.tracking_dec, info.sky_angle,info.azimuth ,info.zenith_angle, info.science_program,\n",
    "                             info.timespan.begin.jd,info.timespan.begin.mjd ]\n",
    "    except:\n",
    "        print(\">>>   Unexpected error:\", sys.exc_info()[0])\n",
    "        info_timespan_begin_to_string = \"2021-01-01 00:00:00.00\"\n",
    "        info_timespan_end_to_string = \"2051-01-01 00:00:00.00\"\n",
    "        info_timespan_begin_jd = 0\n",
    "        info_timespan_begin_mjd = 0\n",
    "        df_exposure.loc[count] = [info.id, info.obs_id, info.day_obs, info.seq_num,\n",
    "                                  pd.to_datetime(info_timespan_begin_to_string),\n",
    "                                  pd.to_datetime(info_timespan_end_to_string) ,\n",
    "                                  info.observation_type, info.target_name, \n",
    "                                  info.physical_filter, info.zenith_angle, \\\n",
    "                             info.exposure_time,info.tracking_ra, info.tracking_dec, info.sky_angle,info.azimuth ,info.zenith_angle, info.science_program,\n",
    "                             info_timespan_begin_jd, info_timespan_begin_mjd  ]\n",
    " \n",
    "    \n",
    "    if count < 5:\n",
    "        print(\"-----------------------------------------------------\",count,\"---------------------------------------------------------\")\n",
    "        print(info)\n",
    "        print(\"\\t id:                  \",info.id)\n",
    "        print(\"\\t day_obs:             \",info.day_obs)\n",
    "        print(\"\\t seq_num:             \",info.seq_num)\n",
    "        print(\"\\t type-of-observation: \",info.observation_type)\n",
    "        print(\"\\t target:              \",info.target_name)\n",
    "        \n",
    "        mjd = Time(info.timespan.begin.to_string()).mjd\n",
    "        jd = Time(info.timespan.begin.to_string()).jd\n",
    "        print(mjd,jd)\n",
    "    "
   ]
  },
  {
   "cell_type": "code",
   "execution_count": null,
   "id": "acce44bb",
   "metadata": {
    "execution": {
     "iopub.status.busy": "2024-05-02T10:20:50.563361Z",
     "iopub.status.idle": "2024-05-02T10:20:50.563505Z",
     "shell.execute_reply": "2024-05-02T10:20:50.563439Z",
     "shell.execute_reply.started": "2024-05-02T10:20:50.563432Z"
    },
    "tags": []
   },
   "outputs": [],
   "source": [
    "info"
   ]
  },
  {
   "cell_type": "code",
   "execution_count": null,
   "id": "f6a8ba08",
   "metadata": {
    "tags": []
   },
   "outputs": [],
   "source": []
  },
  {
   "cell_type": "code",
   "execution_count": null,
   "id": "ae0cf52c",
   "metadata": {
    "execution": {
     "iopub.status.busy": "2024-05-02T10:20:50.564102Z",
     "iopub.status.idle": "2024-05-02T10:20:50.564259Z",
     "shell.execute_reply": "2024-05-02T10:20:50.564186Z",
     "shell.execute_reply.started": "2024-05-02T10:20:50.564179Z"
    },
    "tags": []
   },
   "outputs": [],
   "source": [
    "df_exposure"
   ]
  },
  {
   "cell_type": "code",
   "execution_count": null,
   "id": "591c59d1",
   "metadata": {
    "execution": {
     "iopub.status.busy": "2024-05-02T10:20:50.564636Z",
     "iopub.status.idle": "2024-05-02T10:20:50.564783Z",
     "shell.execute_reply": "2024-05-02T10:20:50.564716Z",
     "shell.execute_reply.started": "2024-05-02T10:20:50.564709Z"
    },
    "tags": []
   },
   "outputs": [],
   "source": [
    "df_exposure = df_exposure.astype({\"id\": int,'day_obs': int,'seq_num':int})"
   ]
  },
  {
   "cell_type": "code",
   "execution_count": null,
   "id": "4b19cfd8",
   "metadata": {
    "execution": {
     "iopub.status.busy": "2024-05-02T10:20:50.565269Z",
     "iopub.status.idle": "2024-05-02T10:20:50.565463Z",
     "shell.execute_reply": "2024-05-02T10:20:50.565393Z",
     "shell.execute_reply.started": "2024-05-02T10:20:50.565385Z"
    },
    "tags": []
   },
   "outputs": [],
   "source": [
    "df_exposure"
   ]
  },
  {
   "cell_type": "markdown",
   "id": "649bd87e",
   "metadata": {},
   "source": [
    "## Selection of science"
   ]
  },
  {
   "cell_type": "code",
   "execution_count": null,
   "id": "34b80523",
   "metadata": {
    "execution": {
     "iopub.status.busy": "2024-05-02T10:20:50.566081Z",
     "iopub.status.idle": "2024-05-02T10:20:50.566377Z",
     "shell.execute_reply": "2024-05-02T10:20:50.566302Z",
     "shell.execute_reply.started": "2024-05-02T10:20:50.566294Z"
    },
    "tags": []
   },
   "outputs": [],
   "source": [
    "df_science = df_exposure[df_exposure.type == 'science']"
   ]
  },
  {
   "cell_type": "code",
   "execution_count": null,
   "id": "67fa201d",
   "metadata": {
    "execution": {
     "iopub.status.busy": "2024-05-02T10:20:50.566749Z",
     "iopub.status.idle": "2024-05-02T10:20:50.567012Z",
     "shell.execute_reply": "2024-05-02T10:20:50.566939Z",
     "shell.execute_reply.started": "2024-05-02T10:20:50.566931Z"
    },
    "tags": []
   },
   "outputs": [],
   "source": [
    "df_science.sort_values(by=\"id\",ascending=True,inplace=True)"
   ]
  },
  {
   "cell_type": "code",
   "execution_count": null,
   "id": "4cca897e-37ff-40ad-a88c-cee67f94a308",
   "metadata": {
    "execution": {
     "iopub.status.busy": "2024-05-02T10:20:50.567426Z",
     "iopub.status.idle": "2024-05-02T10:20:50.567578Z",
     "shell.execute_reply": "2024-05-02T10:20:50.567504Z",
     "shell.execute_reply.started": "2024-05-02T10:20:50.567497Z"
    }
   },
   "outputs": [],
   "source": [
    "df_science.head(60)"
   ]
  },
  {
   "cell_type": "code",
   "execution_count": null,
   "id": "fd7524c2",
   "metadata": {
    "execution": {
     "iopub.status.busy": "2024-05-02T10:20:50.568092Z",
     "iopub.status.idle": "2024-05-02T10:20:50.568235Z",
     "shell.execute_reply": "2024-05-02T10:20:50.568167Z",
     "shell.execute_reply.started": "2024-05-02T10:20:50.568161Z"
    },
    "tags": []
   },
   "outputs": [],
   "source": [
    "df_science.tail(60)"
   ]
  },
  {
   "cell_type": "code",
   "execution_count": null,
   "id": "046606bd",
   "metadata": {
    "execution": {
     "iopub.status.busy": "2024-05-02T10:20:50.568704Z",
     "iopub.status.idle": "2024-05-02T10:20:50.568910Z",
     "shell.execute_reply": "2024-05-02T10:20:50.568841Z",
     "shell.execute_reply.started": "2024-05-02T10:20:50.568834Z"
    },
    "tags": []
   },
   "outputs": [],
   "source": [
    "df_science.day_obs.unique()"
   ]
  },
  {
   "cell_type": "markdown",
   "id": "78155629",
   "metadata": {},
   "source": [
    "## Selection of date"
   ]
  },
  {
   "cell_type": "markdown",
   "id": "2d0e8b94",
   "metadata": {},
   "source": [
    "2021-02-16  2021-02-18  2021-06-08  2021-06-10  2021-07-07  2021-09-07  2021-09-09  2021-10-06  2021-11-02  2021-11-04  2022-02-16  2022-03-15  2022-03-17  20220502  \n",
    "2021-02-17  2021-03-11  2021-06-09  2021-07-06  2021-07-08  2021-09-08  2021-10-05  2021-10-07  2021-11-03  2022-02-15  2022-02-17  2022-03-16  2022-03-18  20220503 20220524 20220607 20220608 20220609"
   ]
  },
  {
   "cell_type": "markdown",
   "id": "906174c8",
   "metadata": {},
   "source": [
    "### Add those\n",
    "\n",
    "20220504 - Not existing"
   ]
  },
  {
   "cell_type": "code",
   "execution_count": null,
   "id": "3829f9ef-361b-4a73-815a-549ae11dbcbe",
   "metadata": {
    "execution": {
     "iopub.status.busy": "2024-05-02T10:20:50.569487Z",
     "iopub.status.idle": "2024-05-02T10:20:50.569779Z",
     "shell.execute_reply": "2024-05-02T10:20:50.569693Z",
     "shell.execute_reply.started": "2024-05-02T10:20:50.569686Z"
    }
   },
   "outputs": [],
   "source": [
    "assert False"
   ]
  },
  {
   "cell_type": "code",
   "execution_count": null,
   "id": "3246dd3a",
   "metadata": {
    "execution": {
     "iopub.status.busy": "2024-05-02T10:20:50.570238Z",
     "iopub.status.idle": "2024-05-02T10:20:50.570517Z",
     "shell.execute_reply": "2024-05-02T10:20:50.570444Z",
     "shell.execute_reply.started": "2024-05-02T10:20:50.570437Z"
    },
    "tags": []
   },
   "outputs": [],
   "source": [
    "\n",
    "# Januaryr 2024\n",
    "#date_sel = 20240129\n",
    "#date_sel = 20240130\n",
    "#date_sel = 20240131\n",
    "#date_sel = 20230928\n",
    "date_sel = 202405"
   ]
  },
  {
   "cell_type": "markdown",
   "id": "80490543",
   "metadata": {},
   "source": [
    "## Query Dimension records on Exposures"
   ]
  },
  {
   "cell_type": "code",
   "execution_count": null,
   "id": "10542709",
   "metadata": {
    "execution": {
     "iopub.status.busy": "2024-05-02T10:20:50.570905Z",
     "iopub.status.idle": "2024-05-02T10:20:50.571049Z",
     "shell.execute_reply": "2024-05-02T10:20:50.570983Z",
     "shell.execute_reply.started": "2024-05-02T10:20:50.570976Z"
    },
    "tags": []
   },
   "outputs": [],
   "source": [
    "where_clause = f\"instrument=\\'LATISS\\' AND exposure.day_obs={date_sel} AND exposure.science_program=\\'spec\\'\""
   ]
  },
  {
   "cell_type": "code",
   "execution_count": null,
   "id": "578d5f83",
   "metadata": {
    "execution": {
     "iopub.status.busy": "2024-05-02T10:20:50.571594Z",
     "iopub.status.idle": "2024-05-02T10:20:50.571759Z",
     "shell.execute_reply": "2024-05-02T10:20:50.571686Z",
     "shell.execute_reply.started": "2024-05-02T10:20:50.571678Z"
    },
    "tags": []
   },
   "outputs": [],
   "source": [
    "results_exposures = registry.queryDimensionRecords('exposure',datasets=\"raw\",collections = 'LATISS/raw/all',where=where_clause)"
   ]
  },
  {
   "cell_type": "markdown",
   "id": "09337cd3",
   "metadata": {},
   "source": [
    "## Select date"
   ]
  },
  {
   "cell_type": "code",
   "execution_count": null,
   "id": "39ebfa75",
   "metadata": {
    "execution": {
     "iopub.status.busy": "2024-05-02T10:20:50.572398Z",
     "iopub.status.idle": "2024-05-02T10:20:50.572563Z",
     "shell.execute_reply": "2024-05-02T10:20:50.572480Z",
     "shell.execute_reply.started": "2024-05-02T10:20:50.572473Z"
    },
    "tags": []
   },
   "outputs": [],
   "source": [
    "df_science_selected = df_science[df_science.day_obs == date_sel ]"
   ]
  },
  {
   "cell_type": "code",
   "execution_count": null,
   "id": "20f8d473",
   "metadata": {
    "execution": {
     "iopub.status.busy": "2024-05-02T10:20:50.572898Z",
     "iopub.status.idle": "2024-05-02T10:20:50.573270Z",
     "shell.execute_reply": "2024-05-02T10:20:50.573182Z",
     "shell.execute_reply.started": "2024-05-02T10:20:50.573174Z"
    },
    "tags": []
   },
   "outputs": [],
   "source": [
    "len(df_science_selected)"
   ]
  },
  {
   "cell_type": "markdown",
   "id": "05efcea4",
   "metadata": {},
   "source": [
    "# List of filters"
   ]
  },
  {
   "cell_type": "code",
   "execution_count": null,
   "id": "2507df00",
   "metadata": {
    "execution": {
     "iopub.status.busy": "2024-05-02T10:20:50.573742Z",
     "iopub.status.idle": "2024-05-02T10:20:50.573892Z",
     "shell.execute_reply": "2024-05-02T10:20:50.573821Z",
     "shell.execute_reply.started": "2024-05-02T10:20:50.573815Z"
    },
    "tags": []
   },
   "outputs": [],
   "source": [
    "list_of_filters = df_science_selected['filter'].unique()\n",
    "list_of_filters"
   ]
  },
  {
   "cell_type": "code",
   "execution_count": null,
   "id": "4a7fadb9",
   "metadata": {
    "execution": {
     "iopub.status.busy": "2024-05-02T10:20:50.574456Z",
     "iopub.status.idle": "2024-05-02T10:20:50.574629Z",
     "shell.execute_reply": "2024-05-02T10:20:50.574545Z",
     "shell.execute_reply.started": "2024-05-02T10:20:50.574537Z"
    },
    "tags": []
   },
   "outputs": [],
   "source": [
    "selected_filters = []\n",
    "for filt in list_of_filters:\n",
    "    #flag_sel = (filt.find('holo4') != -1) or (filt.find('ronchi90lpmm') != -1) or (filt.find('ronchi170lpmm') != -1)\n",
    "    flag_sel = (filt.find('holo4') != -1) \n",
    "    #flag_sel = (filt.find('ronchi170') != -1) \n",
    "    if flag_sel:\n",
    "        selected_filters.append(filt) \n",
    "selected_filters = np.array(selected_filters)\n",
    "selected_filters       "
   ]
  },
  {
   "cell_type": "code",
   "execution_count": null,
   "id": "1a7a1c3e",
   "metadata": {
    "tags": []
   },
   "outputs": [],
   "source": []
  },
  {
   "cell_type": "markdown",
   "id": "535cd339",
   "metadata": {},
   "source": [
    "## Selection of filter\n",
    "\n",
    "- But now we have a loop on filters"
   ]
  },
  {
   "cell_type": "code",
   "execution_count": null,
   "id": "688e227d",
   "metadata": {
    "execution": {
     "iopub.status.busy": "2024-05-02T10:20:50.575065Z",
     "iopub.status.idle": "2024-05-02T10:20:50.575213Z",
     "shell.execute_reply": "2024-05-02T10:20:50.575144Z",
     "shell.execute_reply.started": "2024-05-02T10:20:50.575137Z"
    },
    "tags": []
   },
   "outputs": [],
   "source": [
    "#idx_sel_filt = 0\n",
    "#selected_filter = selected_filters[0]\n",
    "#selected_filter"
   ]
  },
  {
   "cell_type": "markdown",
   "id": "b6ddb318",
   "metadata": {},
   "source": [
    "## Final selection of exposure\n",
    "\n",
    "- loop on selected filters"
   ]
  },
  {
   "cell_type": "code",
   "execution_count": null,
   "id": "a484ec57",
   "metadata": {
    "execution": {
     "iopub.status.busy": "2024-05-02T10:20:50.575769Z",
     "iopub.status.idle": "2024-05-02T10:20:50.575963Z",
     "shell.execute_reply": "2024-05-02T10:20:50.575890Z",
     "shell.execute_reply.started": "2024-05-02T10:20:50.575883Z"
    },
    "tags": []
   },
   "outputs": [],
   "source": [
    "pd.set_option('display.max_rows', None)"
   ]
  },
  {
   "cell_type": "code",
   "execution_count": null,
   "id": "758cf91d",
   "metadata": {
    "execution": {
     "iopub.status.busy": "2024-05-02T10:20:50.576520Z",
     "iopub.status.idle": "2024-05-02T10:20:50.576678Z",
     "shell.execute_reply": "2024-05-02T10:20:50.576607Z",
     "shell.execute_reply.started": "2024-05-02T10:20:50.576600Z"
    },
    "tags": []
   },
   "outputs": [],
   "source": [
    "all_def_science_selected_final = []\n",
    "\n",
    "for selected_filter in selected_filters:\n",
    "\n",
    "    print(selected_filter)\n",
    "    df_science_selected_final = df_science_selected[df_science_selected[\"filter\"] ==  selected_filter]\n",
    "    \n",
    "    #print(df_science_selected_final)\n",
    "    all_def_science_selected_final.append(df_science_selected_final.copy())\n",
    "    \n",
    "    df = df_science_selected_final\n",
    "    df_sel = df[['day_obs', 'seq_num']]\n",
    "    \n",
    "    \n",
    "    NN = len(df)\n",
    "    \n",
    "    if NN>0:\n",
    "        # build the line\n",
    "        \n",
    "        df_sel['line'] = df_sel.apply(lambda row: str(row['day_obs'])  + \" \" + str(row['seq_num']),axis = 1)\n",
    "    \n",
    "    \n",
    "         # prepare output\n",
    "        filename_out = \"visitdispersers_\"+ str(date_sel) + \"_filt_\" + selected_filter.replace('~','-') + \".list\"\n",
    "        print(filename_out)\n",
    "        \n",
    "        df_out = df_sel[[\"line\"]]\n",
    "        df_out.to_csv(filename_out, index=False, header=None)"
   ]
  },
  {
   "cell_type": "code",
   "execution_count": null,
   "id": "e5ea8132",
   "metadata": {
    "execution": {
     "iopub.status.busy": "2024-05-02T10:20:50.577209Z",
     "iopub.status.idle": "2024-05-02T10:20:50.577362Z",
     "shell.execute_reply": "2024-05-02T10:20:50.577288Z",
     "shell.execute_reply.started": "2024-05-02T10:20:50.577280Z"
    },
    "tags": []
   },
   "outputs": [],
   "source": [
    "N = len(all_def_science_selected_final)"
   ]
  },
  {
   "cell_type": "code",
   "execution_count": null,
   "id": "1faf67c2",
   "metadata": {
    "execution": {
     "iopub.status.busy": "2024-05-02T10:20:50.577858Z",
     "iopub.status.idle": "2024-05-02T10:20:50.578005Z",
     "shell.execute_reply": "2024-05-02T10:20:50.577936Z",
     "shell.execute_reply.started": "2024-05-02T10:20:50.577930Z"
    },
    "tags": []
   },
   "outputs": [],
   "source": [
    "if N>=1:\n",
    "    n0=len(all_def_science_selected_final[0])\n",
    "    display(all_def_science_selected_final[0])"
   ]
  },
  {
   "cell_type": "code",
   "execution_count": null,
   "id": "b9a0296b",
   "metadata": {
    "execution": {
     "iopub.status.busy": "2024-05-02T10:20:50.578496Z",
     "iopub.status.idle": "2024-05-02T10:20:50.578673Z",
     "shell.execute_reply": "2024-05-02T10:20:50.578601Z",
     "shell.execute_reply.started": "2024-05-02T10:20:50.578593Z"
    },
    "tags": []
   },
   "outputs": [],
   "source": [
    "if N>=2:\n",
    "    n1=len(all_def_science_selected_final[1])\n",
    "    display(all_def_science_selected_final[1])"
   ]
  },
  {
   "cell_type": "code",
   "execution_count": null,
   "id": "93600e3a",
   "metadata": {
    "execution": {
     "iopub.status.busy": "2024-05-02T10:20:50.579312Z",
     "iopub.status.idle": "2024-05-02T10:20:50.579469Z",
     "shell.execute_reply": "2024-05-02T10:20:50.579393Z",
     "shell.execute_reply.started": "2024-05-02T10:20:50.579386Z"
    },
    "tags": []
   },
   "outputs": [],
   "source": [
    "if N>=3:\n",
    "    n2=len(all_def_science_selected_final[2])\n",
    "    display(all_def_science_selected_final[2])"
   ]
  },
  {
   "cell_type": "code",
   "execution_count": null,
   "id": "0d92c304",
   "metadata": {
    "execution": {
     "iopub.status.busy": "2024-05-02T10:20:50.580142Z",
     "iopub.status.idle": "2024-05-02T10:20:50.580301Z",
     "shell.execute_reply": "2024-05-02T10:20:50.580225Z",
     "shell.execute_reply.started": "2024-05-02T10:20:50.580218Z"
    },
    "tags": []
   },
   "outputs": [],
   "source": [
    "if N>=4:\n",
    "    n3=len(all_def_science_selected_final[3])\n",
    "    display(all_def_science_selected_final[3])"
   ]
  },
  {
   "cell_type": "code",
   "execution_count": null,
   "id": "3be1cbfc",
   "metadata": {
    "execution": {
     "iopub.status.busy": "2024-05-02T10:20:50.580801Z",
     "iopub.status.idle": "2024-05-02T10:20:50.580956Z",
     "shell.execute_reply": "2024-05-02T10:20:50.580885Z",
     "shell.execute_reply.started": "2024-05-02T10:20:50.580878Z"
    },
    "tags": []
   },
   "outputs": [],
   "source": [
    "if N>=5:\n",
    "    n4=len(all_def_science_selected_final[4])\n",
    "    display(all_def_science_selected_final[4])"
   ]
  },
  {
   "cell_type": "code",
   "execution_count": null,
   "id": "3fcd4a34",
   "metadata": {
    "execution": {
     "iopub.status.busy": "2024-05-02T10:20:50.581541Z",
     "iopub.status.idle": "2024-05-02T10:20:50.581694Z",
     "shell.execute_reply": "2024-05-02T10:20:50.581621Z",
     "shell.execute_reply.started": "2024-05-02T10:20:50.581614Z"
    },
    "tags": []
   },
   "outputs": [],
   "source": [
    "df_forsave = pd.concat(all_def_science_selected_final)"
   ]
  },
  {
   "cell_type": "code",
   "execution_count": null,
   "id": "a766bc3b",
   "metadata": {
    "execution": {
     "iopub.status.busy": "2024-05-02T10:20:50.582313Z",
     "iopub.status.idle": "2024-05-02T10:20:50.582472Z",
     "shell.execute_reply": "2024-05-02T10:20:50.582395Z",
     "shell.execute_reply.started": "2024-05-02T10:20:50.582387Z"
    },
    "tags": []
   },
   "outputs": [],
   "source": [
    "filename_out_csv = \"holosummary_\"+ str(date_sel) + \".csv\"\n",
    "filename_out_excel = \"holosummary_\"+ str(date_sel) + \".xlsx\""
   ]
  },
  {
   "cell_type": "code",
   "execution_count": null,
   "id": "7f83f8e1",
   "metadata": {
    "execution": {
     "iopub.status.busy": "2024-05-02T10:20:50.582912Z",
     "iopub.status.idle": "2024-05-02T10:20:50.583789Z",
     "shell.execute_reply": "2024-05-02T10:20:50.583695Z",
     "shell.execute_reply.started": "2024-05-02T10:20:50.583686Z"
    },
    "tags": []
   },
   "outputs": [],
   "source": [
    "filename_out_csv"
   ]
  },
  {
   "cell_type": "code",
   "execution_count": null,
   "id": "969edf8a",
   "metadata": {
    "execution": {
     "iopub.status.busy": "2024-05-02T10:20:50.584185Z",
     "iopub.status.idle": "2024-05-02T10:20:50.584491Z",
     "shell.execute_reply": "2024-05-02T10:20:50.584410Z",
     "shell.execute_reply.started": "2024-05-02T10:20:50.584402Z"
    },
    "tags": []
   },
   "outputs": [],
   "source": [
    "df_forsave.to_csv(filename_out_csv) "
   ]
  },
  {
   "cell_type": "code",
   "execution_count": null,
   "id": "da53549e",
   "metadata": {
    "execution": {
     "iopub.status.busy": "2024-05-02T10:20:50.584949Z",
     "iopub.status.idle": "2024-05-02T10:20:50.585103Z",
     "shell.execute_reply": "2024-05-02T10:20:50.585032Z",
     "shell.execute_reply.started": "2024-05-02T10:20:50.585025Z"
    },
    "tags": []
   },
   "outputs": [],
   "source": [
    "#! pip install openpyxl"
   ]
  },
  {
   "cell_type": "code",
   "execution_count": null,
   "id": "b5cd02a0",
   "metadata": {
    "execution": {
     "iopub.status.busy": "2024-05-02T10:20:50.585671Z",
     "iopub.status.idle": "2024-05-02T10:20:50.585847Z",
     "shell.execute_reply": "2024-05-02T10:20:50.585760Z",
     "shell.execute_reply.started": "2024-05-02T10:20:50.585753Z"
    },
    "tags": []
   },
   "outputs": [],
   "source": [
    "df_forsave.to_excel(filename_out_excel) "
   ]
  },
  {
   "cell_type": "code",
   "execution_count": null,
   "id": "16ae4fd8",
   "metadata": {},
   "outputs": [],
   "source": []
  }
 ],
 "metadata": {
  "kernelspec": {
   "display_name": "LSST",
   "language": "python",
   "name": "lsst"
  },
  "language_info": {
   "codemirror_mode": {
    "name": "ipython",
    "version": 3
   },
   "file_extension": ".py",
   "mimetype": "text/x-python",
   "name": "python",
   "nbconvert_exporter": "python",
   "pygments_lexer": "ipython3",
   "version": "3.11.7"
  }
 },
 "nbformat": 4,
 "nbformat_minor": 5
}
