{
 "cells": [
  {
   "cell_type": "markdown",
   "id": "c813ed6a",
   "metadata": {
    "tags": []
   },
   "source": [
    "# Make postISRCCD from raw\n",
    "\n",
    "\n",
    "- work with Weakly_2022_39\n",
    "- use jupyter kernel LSST : **lsst_distrib_2022_39**\n",
    "\n",
    "OK\n",
    "\n",
    "\n",
    "\n",
    "- author : Sylvie Dagoret-Campagne\n",
    "- affiliation : IJCLab\n",
    "- creation date : 2022/12/08\n",
    "- last update : 2022/12/08\n",
    "\n"
   ]
  },
  {
   "cell_type": "code",
   "execution_count": null,
   "id": "2e1f28b1",
   "metadata": {},
   "outputs": [],
   "source": [
    "! eups list -s | grep LOCAL"
   ]
  },
  {
   "cell_type": "code",
   "execution_count": null,
   "id": "8d301387-7065-4c85-897e-9e91b477c2b0",
   "metadata": {},
   "outputs": [],
   "source": [
    "! echo $IMAGE_DESCRIPTION\n",
    "! eups list -s lsst_distrib"
   ]
  },
  {
   "cell_type": "code",
   "execution_count": null,
   "id": "b7002c4d-b869-4560-9c7a-a535887daeef",
   "metadata": {},
   "outputs": [],
   "source": [
    "import os\n",
    "import matplotlib.pyplot as plt\n",
    "import matplotlib.colors as colors\n",
    "import matplotlib.cm as cmx\n",
    "import matplotlib.dates as mdates\n",
    "\n",
    "import numpy as np\n",
    "import pandas as pd\n",
    "%matplotlib inline\n",
    "from matplotlib.colors import LogNorm\n",
    "\n",
    "from mpl_toolkits.axes_grid1 import make_axes_locatable\n",
    "\n",
    "import matplotlib.ticker                         # here's where the formatter is\n",
    "from matplotlib.ticker import (MultipleLocator, FormatStrFormatter,\n",
    "                               AutoMinorLocator)\n",
    "\n",
    "from astropy.visualization import (MinMaxInterval, SqrtStretch,ZScaleInterval,PercentileInterval,\n",
    "                                   ImageNormalize,imshow_norm)\n",
    "from astropy.visualization.stretch import SinhStretch, LinearStretch,AsinhStretch,LogStretch\n",
    "\n",
    "\n",
    "from astropy.io import fits\n",
    "\n",
    "\n"
   ]
  },
  {
   "cell_type": "code",
   "execution_count": null,
   "id": "0ced9c4f-122b-4fe2-a70b-ff0b15660bee",
   "metadata": {},
   "outputs": [],
   "source": [
    "# Assembly task\n",
    "# https://github.com/lsst/ip_isr/blob/main/python/lsst/ip/isr/isrTask.py\n",
    "\n",
    "from lsst.ip.isr.assembleCcdTask import (AssembleCcdConfig, AssembleCcdTask)\n",
    "from lsst.ip.isr.isrTask import (IsrTask, IsrTaskConfig)\n",
    "\n",
    "#https://github.com/lsst/ip_isr/blob/main/python/lsst/ip/isr/overscan.py\n",
    "from lsst.ip.isr import  OverscanCorrectionTaskConfig, OverscanCorrectionTask"
   ]
  },
  {
   "cell_type": "code",
   "execution_count": null,
   "id": "d7c8c61f-5cfa-4c25-9a5a-97c2eb50fa29",
   "metadata": {},
   "outputs": [],
   "source": [
    "# LSST Display\n",
    "import lsst.afw.display as afwDisplay\n",
    "afwDisplay.setDefaultBackend('matplotlib')"
   ]
  },
  {
   "cell_type": "code",
   "execution_count": null,
   "id": "7a36f8cd",
   "metadata": {},
   "outputs": [],
   "source": [
    "import lsst.daf.butler as dafButler"
   ]
  },
  {
   "cell_type": "markdown",
   "id": "7f4a3dde-da84-4f8c-94fd-b0332fb5d655",
   "metadata": {},
   "source": [
    "# Configuration"
   ]
  },
  {
   "cell_type": "code",
   "execution_count": null,
   "id": "ce90fb91-99b4-4e42-8637-365bd65fc0e1",
   "metadata": {},
   "outputs": [],
   "source": [
    "DATE = 20221207\n",
    "FILTER=\"empty-holo4_003\"\n",
    "filename_visits = f\"visitdispersers_{DATE}_filt_{FILTER}.list\""
   ]
  },
  {
   "cell_type": "code",
   "execution_count": null,
   "id": "88e09b46-88ad-4e99-a062-f4a740e0ddac",
   "metadata": {},
   "outputs": [],
   "source": [
    "df = pd.read_csv(filename_visits, header=None,skiprows = 1, sep=' ',names=[\"date\",\"seq\"])\n",
    "df"
   ]
  },
  {
   "cell_type": "code",
   "execution_count": null,
   "id": "5cc792a3-8e45-48b8-af4b-4475b658f926",
   "metadata": {},
   "outputs": [],
   "source": [
    "for index,row in df.iterrows():\n",
    "    exposure_selected =row[\"date\"]*100000+row[\"seq\"]\n",
    "    print(exposure_selected)"
   ]
  },
  {
   "cell_type": "markdown",
   "id": "b67586ea-b4bf-4959-87f3-b231320a5bf8",
   "metadata": {},
   "source": [
    "## Select flags options"
   ]
  },
  {
   "cell_type": "code",
   "execution_count": null,
   "id": "655de8b8-3109-4a63-bcc7-3be31e9a514d",
   "metadata": {},
   "outputs": [],
   "source": [
    "FLAG_ROTATE_IMG = True\n",
    "FLAG_TRANSFORM = True"
   ]
  },
  {
   "cell_type": "markdown",
   "id": "a6230ef7-ddeb-4430-af47-320b8f72c840",
   "metadata": {},
   "source": [
    "## Transformations\n",
    "astropy scale transformations"
   ]
  },
  {
   "cell_type": "code",
   "execution_count": null,
   "id": "257001ba-731c-4d13-bd0d-4c68a3cd6829",
   "metadata": {},
   "outputs": [],
   "source": [
    "transform = AsinhStretch() + PercentileInterval(99.)\n",
    "#transform = PercentileInterval(98.)"
   ]
  },
  {
   "cell_type": "markdown",
   "id": "60ba89aa-c9c0-46b4-a330-88a969a88039",
   "metadata": {},
   "source": [
    "## Butler"
   ]
  },
  {
   "cell_type": "code",
   "execution_count": null,
   "id": "7c5944d1-0cbb-42bc-9ea9-a7ff39e25a01",
   "metadata": {},
   "outputs": [],
   "source": [
    "#repo = '/sdf/group/rubin/repo/main'\n",
    "repo=\"/sdf/group/rubin/repo/oga/\"\n",
    "butler = dafButler.Butler(repo)\n",
    "registry = butler.registry"
   ]
  },
  {
   "cell_type": "code",
   "execution_count": null,
   "id": "b6b5b19c-69d1-4f06-9c8b-3a3d5e8d8e89",
   "metadata": {},
   "outputs": [],
   "source": [
    "collection='LATISS/raw/all'"
   ]
  },
  {
   "cell_type": "code",
   "execution_count": null,
   "id": "412567bf-4590-4259-95bd-92ac85a927f7",
   "metadata": {},
   "outputs": [],
   "source": [
    "# configuration\n",
    "isr_config =  IsrTaskConfig()"
   ]
  },
  {
   "cell_type": "code",
   "execution_count": null,
   "id": "128d48a0-eb3b-46b8-85a7-335654132c44",
   "metadata": {},
   "outputs": [],
   "source": [
    "isr_config.doDark = False\n",
    "isr_config.doFlat =  False\n",
    "isr_config.doFringe = False\n",
    "isr_config.doDefect = True\n",
    "isr_config.doLinearize = False\n",
    "isr_config.doCrosstalk =  False\n",
    "isr_config.doSaturationInterpolation = False\n",
    "isr_config.overscan.fitType: 'MEDIAN_PER_ROW'\n",
    "isr_config.doBias: True\n"
   ]
  },
  {
   "cell_type": "code",
   "execution_count": null,
   "id": "176a179f-8d79-4625-82e5-14556ae34836",
   "metadata": {},
   "outputs": [],
   "source": [
    "isr_task = IsrTask(config=isr_config)"
   ]
  },
  {
   "cell_type": "code",
   "execution_count": null,
   "id": "dcb4d110-f987-48d8-aafc-33eeadfa12b1",
   "metadata": {},
   "outputs": [],
   "source": [
    "calibType = 'bias'\n",
    "physical_filter = 'empty~empty'\n",
    "cameraName = 'LATISS'\n",
    "# Collection name containing the verification outputs.\n",
    "calibCollections = ['LATISS/calib','LATISS/raw/all',\n",
    "                   'LATISS/calib/DM-28636',\n",
    "'LATISS/calib/DM-28636/curated/19700101T000000Z',\n",
    "'LATISS/calib/DM-28636/curated/20180101T000000Z',\n",
    "'LATISS/calib/DM-28636/unbounded',\n",
    "'LATISS/calib/DM-33875',\n",
    "'LATISS/calib/DM-36484/bias.20221005a',\n",
    "'LATISS/calib/DM-36484/biasGen.20221005a',\n",
    "'LATISS/calib/DM-36484/biasGen.20221005a/20221006T000101Z',\n",
    "'LATISS/calib/DM-36484/dark.20221006a',\n",
    "'LATISS/calib/DM-36484/darkGen.20221005a',\n",
    "'LATISS/calib/DM-36484/darkGen.20221005a/20221006T222501Z',\n",
    "'LATISS/calib/DM-36484/darkGen.20221006a',\n",
    "'LATISS/calib/DM-36484/darkGen.20221006a/20221006T222921Z',\n",
    "'LATISS/calib/DM-36484/flat-SDSSg.20221006a',\n",
    "'LATISS/calib/DM-36484/flat-SDSSi.20221006a',\n",
    "'LATISS/calib/DM-36484/flat-SDSSr.20221006a',\n",
    "'LATISS/calib/DM-36484/flatGen-SDSSg.20221006a',\n",
    "'LATISS/calib/DM-36484/flatGen-SDSSg.20221006a/20221007T002703Z',\n",
    "'LATISS/calib/DM-36484/flatGen-SDSSi.20221006a',\n",
    "'LATISS/calib/DM-36484/flatGen-SDSSi.20221006a/20221007T003732Z',\n",
    "'LATISS/calib/DM-36484/flatGen-SDSSiD.20221006a',\n",
    "'LATISS/calib/DM-36484/flatGen-SDSSiD.20221006a/20221007T004708Z',\n",
    "'LATISS/calib/DM-36484/flatGen-SDSSr.20221006a',\n",
    "'LATISS/calib/DM-36484/flatGen-SDSSr.20221006a/20221006T233657Z',\n",
    "'LATISS/calib/DM-36484/verifyBias.20221005a',\n",
    "'LATISS/calib/DM-36484/verifyBias.20221005a/20221006T000747Z',\n",
    "'LATISS/calib/DM-36484/verifyBias.20221005a/20221006T213237Z',\n",
    "'LATISS/calib/DM-36484/verifyBias.20221005b',\n",
    "'LATISS/calib/DM-36484/verifyBias.20221005b/20221019T205236Z',\n",
    "'LATISS/calib/DM-36484/verifyDark.20221006a',\n",
    "'LATISS/calib/DM-36484/verifyDark.20221006a/20221006T224403Z',\n",
    "'LATISS/calib/DM-36484/verifyFlat-SDSSg.20221006a',\n",
    "'LATISS/calib/DM-36484/verifyFlat-SDSSg.20221006a/20221007T003418Z',\n",
    "'LATISS/calib/DM-36484/verifyFlat-SDSSi.20221006a',\n",
    "'LATISS/calib/DM-36484/verifyFlat-SDSSi.20221006a/20221007T004423Z',\n",
    "'LATISS/calib/DM-36484/verifyFlat-SDSSr.20221006a',\n",
    "'LATISS/calib/DM-36484/verifyFlat-SDSSr.20221006a/20221006T234341Z',\n",
    "'LATISS/calib/DM-36719',\n",
    "'LATISS/calib/DM-36719/bias.20221107',\n",
    "'LATISS/calib/DM-36719/biasGen.20221107a',\n",
    "'LATISS/calib/DM-36719/biasGen.20221107a/20221107T205127Z',\n",
    "'LATISS/calib/DM-36719/biasGen.20221107b',\n",
    "'LATISS/calib/DM-36719/biasGen.20221107b/20221107T213306Z',\n",
    "'LATISS/calib/DM-36719/dark.20221107',\n",
    "'LATISS/calib/DM-36719/darkGen.20221107a',\n",
    "'LATISS/calib/DM-36719/darkGen.20221107a/20221107T223409Z',\n",
    "'LATISS/calib/DM-36719/flat-SDSSg.20221107',\n",
    "'LATISS/calib/DM-36719/flat-SDSSi.20221107',\n",
    "'LATISS/calib/DM-36719/flat-SDSSr.20221107',\n",
    "'LATISS/calib/DM-36719/flatGen-SDSSg.20221107a',\n",
    "'LATISS/calib/DM-36719/flatGen-SDSSg.20221107a/20221108T002737Z',\n",
    "'LATISS/calib/DM-36719/flatGen-SDSSi.20221107a',\n",
    "'LATISS/calib/DM-36719/flatGen-SDSSi.20221107a/20221108T005202Z',\n",
    "'LATISS/calib/DM-36719/flatGen-SDSSr.20221107a',\n",
    "'LATISS/calib/DM-36719/flatGen-SDSSr.20221107a/20221107T235401Z',\n",
    "'LATISS/calib/DM-36719/ptcGen-SDSSr.20221107a',\n",
    "'LATISS/calib/DM-36719/ptcGen-SDSSr.20221107a/20221108T180421Z',\n",
    "'LATISS/calib/DM-36719/verifyBias.20221107b',\n",
    "'LATISS/calib/DM-36719/verifyBias.20221107b/20221107T220410Z',\n",
    "'LATISS/calib/DM-36719/verifyDark.20221107a',\n",
    "'LATISS/calib/DM-36719/verifyDark.20221107a/20221107T232823Z',\n",
    "'LATISS/calib/DM-36719/verifyFlat-SDSSg.20221107a',\n",
    "'LATISS/calib/DM-36719/verifyFlat-SDSSg.20221107a/20221108T004225Z',\n",
    "'LATISS/calib/DM-36719/verifyFlat-SDSSi.20221107a',\n",
    "'LATISS/calib/DM-36719/verifyFlat-SDSSi.20221107a/20221108T012110Z',\n",
    "'LATISS/calib/DM-36719/verifyFlat-SDSSi.20221107a/20221108T014950Z',\n",
    "'LATISS/calib/DM-36719/verifyFlat-SDSSr.20221107a',\n",
    "'LATISS/calib/DM-36719/verifyFlat-SDSSr.20221107a/20221108T000940Z',\n",
    "'LATISS/calib/unbounded','LATISS/defaults','LATISS/raw/all']"
   ]
  },
  {
   "cell_type": "code",
   "execution_count": null,
   "id": "ca24467e-a7e0-4838-ba0f-c37475fbc601",
   "metadata": {},
   "outputs": [],
   "source": [
    "butler = dafButler.Butler(repo, collections=calibCollections)\n",
    "camera = butler.get('camera', instrument=cameraName)\n",
    "bias = butler.get('bias',instrument=cameraName,detector=0)\n",
    "defects = butler.get('defects',instrument=cameraName,detector=0)\n"
   ]
  },
  {
   "cell_type": "code",
   "execution_count": null,
   "id": "b6351e4f-030b-4712-ab7c-452e2ab04118",
   "metadata": {},
   "outputs": [],
   "source": [
    "for index,row in df.iterrows():\n",
    "    exposure_selected =row[\"date\"]*100000+row[\"seq\"]\n",
    "\n",
    "\n",
    "\n",
    "    raw_img= butler.get('raw', dataId={'exposure': exposure_selected, 'instrument': 'LATISS', 'detector': 0}, collections = collection)\n",
    "    meta = raw_img.getMetadata()\n",
    "    md = meta.toDict()\n",
    "    \n",
    "    the_object = md['OBJECT']\n",
    "    the_am= md['AMSTART']\n",
    "    the_filter=md['FILTER']\n",
    "    \n",
    "    \n",
    "    isr_img = isr_task.run(raw_img,bias=bias,defects=defects)\n",
    "    \n",
    "    fig = plt.figure(figsize=(12,10))\n",
    "    afw_display = afwDisplay.Display(frame=fig)\n",
    "    afw_display.scale('linear', 'zscale',None)\n",
    "    the_title = f\"{index} :: isr exposure : {exposure_selected}, target={the_object}, airmass={the_am:.2f}, filter={the_filter}\"\n",
    "    afw_display.mtv(isr_img.exposure.image,title=the_title)"
   ]
  },
  {
   "cell_type": "code",
   "execution_count": null,
   "id": "664b22c2-d2c4-4454-bbf9-f835ac11dd31",
   "metadata": {},
   "outputs": [],
   "source": [
    "# Save in files"
   ]
  },
  {
   "cell_type": "code",
   "execution_count": null,
   "id": "cc338e02-3434-4bcf-a4a2-8769a506c76e",
   "metadata": {},
   "outputs": [],
   "source": [
    "for index,row in df.iterrows():\n",
    "    \n",
    "    exposure_selected =row[\"date\"]*100000+row[\"seq\"]\n",
    "\n",
    "\n",
    "\n",
    "    raw_img= butler.get('raw', dataId={'exposure': exposure_selected, 'instrument': 'LATISS', 'detector': 0}, collections = collection)\n",
    "    \n",
    "    isr_img = isr_task.run(raw_img,bias=bias,defects=defects)\n",
    "    \n",
    "    meta = raw_img.getMetadata()\n",
    "    md = meta.toDict()\n",
    "\n",
    "    the_object = md['OBJECT']\n",
    "    the_am= md['AMSTART']\n",
    "    the_filter=md['FILTER']\n",
    "\n",
    "    filename_out = f\"isr_img_{exposure_selected}_{the_object}.fits\"\n",
    "    print(filename_out)\n",
    "    \n",
    "    hdr = fits.Header()\n",
    "    \n",
    "    for key,value in md.items():\n",
    "        hdr[str(key)]=value\n",
    "        \n",
    "    hdu = fits.PrimaryHDU(data=isr_img.exposure.image.array,header=hdr)  # with headers\n",
    "    #hdu = fits.PrimaryHDU(data=all_my_raw_array[idx])\n",
    "    \n",
    "    hdul = fits.HDUList([hdu])\n",
    "    \n",
    "    hdul.writeto(filename_out,overwrite=True)\n",
    "    \n",
    "\n",
    "\n",
    "\n"
   ]
  },
  {
   "cell_type": "code",
   "execution_count": null,
   "id": "306edff2-88b3-40a5-afe4-7ba8b8fed7f1",
   "metadata": {},
   "outputs": [],
   "source": [
    "print('end')"
   ]
  },
  {
   "cell_type": "code",
   "execution_count": null,
   "id": "df5404a5-510c-4b3e-af70-d65a2f967ca0",
   "metadata": {},
   "outputs": [],
   "source": []
  }
 ],
 "metadata": {
  "kernelspec": {
   "display_name": "LSST",
   "language": "python",
   "name": "lsst"
  },
  "language_info": {
   "codemirror_mode": {
    "name": "ipython",
    "version": 3
   },
   "file_extension": ".py",
   "mimetype": "text/x-python",
   "name": "python",
   "nbconvert_exporter": "python",
   "pygments_lexer": "ipython3",
   "version": "3.10.5"
  }
 },
 "nbformat": 4,
 "nbformat_minor": 5
}
