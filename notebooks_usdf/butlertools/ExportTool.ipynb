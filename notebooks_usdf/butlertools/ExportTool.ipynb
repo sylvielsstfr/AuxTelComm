{
 "cells": [
  {
   "cell_type": "markdown",
   "id": "c9f1674d-25a0-4bf7-8012-0cb1c247fbe7",
   "metadata": {},
   "source": [
    "# Export Raw"
   ]
  },
  {
   "cell_type": "code",
   "execution_count": 7,
   "id": "75d85b31-d57b-4571-b5fe-8969bb8fba41",
   "metadata": {
    "execution": {
     "iopub.execute_input": "2023-02-03T16:54:11.069148Z",
     "iopub.status.busy": "2023-02-03T16:54:11.068750Z",
     "iopub.status.idle": "2023-02-03T16:55:13.524243Z",
     "shell.execute_reply": "2023-02-03T16:55:13.523517Z",
     "shell.execute_reply.started": "2023-02-03T16:54:11.069127Z"
    },
    "tags": []
   },
   "outputs": [],
   "source": [
    "import lsst.daf.butler as dafButler\n",
    "butler = dafButler.Butler('/repo/main/')\n",
    "registry = butler.registry\n",
    "raw_exps = sorted(registry.queryDatasets('raw', instrument='LATISS',where=\"exposure.science_program='LATISS_E6A' AND exposure.day_obs>20211001\",collections=['LATISS/raw/all']))\n",
    "\n",
    "with butler.export(filename=\"export.yaml\" ) as export:\n",
    "    export.saveDatasets(raw_exps, elements=[\"exposure\"])"
   ]
  },
  {
   "cell_type": "code",
   "execution_count": 8,
   "id": "6f0e50cc-d216-4ff8-b8ec-39470f19e4b9",
   "metadata": {
    "execution": {
     "iopub.execute_input": "2023-02-03T16:57:15.745848Z",
     "iopub.status.busy": "2023-02-03T16:57:15.745450Z",
     "iopub.status.idle": "2023-02-03T16:57:15.920611Z",
     "shell.execute_reply": "2023-02-03T16:57:15.920042Z",
     "shell.execute_reply.started": "2023-02-03T16:57:15.745824Z"
    }
   },
   "outputs": [],
   "source": [
    "raw_exps = sorted(registry.queryDatasets('raw', instrument='LATISS',where=\"exposure.science_program='spec' AND exposure.day_obs>20211001\",collections=['LATISS/raw/all']))\n",
    "\n",
    "with butler.export(filename=\"export_holo.yaml\" ) as export:\n",
    "    export.saveDatasets(raw_exps, elements=[\"exposure\"])"
   ]
  },
  {
   "cell_type": "code",
   "execution_count": 9,
   "id": "8962fa41-0577-4d67-bc83-12e01d17e491",
   "metadata": {
    "execution": {
     "iopub.execute_input": "2023-02-03T17:00:05.042706Z",
     "iopub.status.busy": "2023-02-03T17:00:05.041997Z",
     "iopub.status.idle": "2023-02-03T17:00:47.747224Z",
     "shell.execute_reply": "2023-02-03T17:00:47.746477Z",
     "shell.execute_reply.started": "2023-02-03T17:00:05.042681Z"
    },
    "tags": []
   },
   "outputs": [],
   "source": [
    "raw_exps = sorted(registry.queryDatasets('raw', instrument='LATISS',where=\"physical_filter.name='empty~holo4_003' AND  exposure.observation_type='science' AND exposure.day_obs>20211001\",collections=['LATISS/raw/all']))\n",
    "\n",
    "with butler.export(filename=\"export_holo2.yaml\" ) as export:\n",
    "    export.saveDatasets(raw_exps, elements=[\"exposure\"])"
   ]
  },
  {
   "cell_type": "code",
   "execution_count": null,
   "id": "e761a924-06d8-46e4-abc0-eb80234d54da",
   "metadata": {},
   "outputs": [],
   "source": []
  }
 ],
 "metadata": {
  "kernelspec": {
   "display_name": "LSST",
   "language": "python",
   "name": "lsst"
  },
  "language_info": {
   "codemirror_mode": {
    "name": "ipython",
    "version": 3
   },
   "file_extension": ".py",
   "mimetype": "text/x-python",
   "name": "python",
   "nbconvert_exporter": "python",
   "pygments_lexer": "ipython3",
   "version": "3.10.8"
  }
 },
 "nbformat": 4,
 "nbformat_minor": 5
}
