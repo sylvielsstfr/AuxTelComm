{
 "cells": [
  {
   "cell_type": "markdown",
   "id": "0b8c2138-5194-4d03-8b77-be24e2cc8ee3",
   "metadata": {},
   "source": [
    "# Query for Spectraction for OGA"
   ]
  },
  {
   "cell_type": "markdown",
   "id": "740e34fb-3fef-45a8-941b-c229742ab016",
   "metadata": {},
   "source": [
    " work with Weakly_2022_09\n",
    "- use jupyter kernel LSST\n",
    "\n",
    "\n",
    "- author : Sylvie Dagoret-Campagne\n",
    "- affiliation : IJCLab\n",
    "- creation date : 2022/10/27\n",
    "- update : 2022/10/27\n"
   ]
  },
  {
   "cell_type": "code",
   "execution_count": 1,
   "id": "ed2c3410-fe83-432e-ab87-9f4513fa8d8b",
   "metadata": {},
   "outputs": [
    {
     "name": "stdout",
     "output_type": "stream",
     "text": [
      "atmospec              LOCAL:/sps/lsst/groups/auxtel/softs/shared/auxteldm_gen3/repos/w_2022_09/atmospec \tsetup\n",
      "eups                  LOCAL:/cvmfs/sw.lsst.eu/linux-x86_64/lsst_distrib/w_2022_09/conda/envs/lsst-scipipe-2.0.0/eups \tsetup\n",
      "rapid_analysis        LOCAL:/sps/lsst/groups/auxtel/softs/shared/auxteldm_gen3/repos/w_2022_09/rapid_analysis \tsetup\n"
     ]
    }
   ],
   "source": [
    "! eups list -s | grep LOCAL"
   ]
  },
  {
   "cell_type": "code",
   "execution_count": 2,
   "id": "70918d81-0cf6-4b0a-8f61-f5e5bec5b0e7",
   "metadata": {},
   "outputs": [
    {
     "name": "stdout",
     "output_type": "stream",
     "text": [
      "   g64fc59b30a+e1dba0a6f6 \tw_latest w_2022_09 current setup\n"
     ]
    }
   ],
   "source": [
    "! eups list -s lsst_distrib"
   ]
  },
  {
   "cell_type": "code",
   "execution_count": 3,
   "id": "f8d9cfca-5881-48c1-b2cb-0f794a2e4091",
   "metadata": {},
   "outputs": [],
   "source": [
    "import lsst.daf.butler as dafButler"
   ]
  },
  {
   "cell_type": "code",
   "execution_count": 4,
   "id": "1c81d99a-5e91-4ba1-ba4a-c66b37905b98",
   "metadata": {},
   "outputs": [],
   "source": [
    "repo = '/sps/lsst/groups/auxtel/softs/shared/auxteldm_gen3/data/butler.yaml'\n",
    "butler = dafButler.Butler(repo)\n",
    "registry = butler.registry"
   ]
  },
  {
   "cell_type": "markdown",
   "id": "20dbb8da-3a08-4b4f-9437-4bf7f28c1782",
   "metadata": {},
   "source": [
    "## Give the collection"
   ]
  },
  {
   "cell_type": "code",
   "execution_count": 5,
   "id": "9629ea29-8ab4-4062-aed1-e16d62dc90c4",
   "metadata": {},
   "outputs": [],
   "source": [
    "collection = \"u/dagoret/first_test2\"\n",
    "datasetRefs = registry.queryDatasets(datasetType='spectraction', collections=collection, \n",
    "                                     where= \"instrument='LATISS'\")"
   ]
  },
  {
   "cell_type": "code",
   "execution_count": 6,
   "id": "979b03d5-e54c-4d21-a848-98b820df1d16",
   "metadata": {},
   "outputs": [
    {
     "name": "stdout",
     "output_type": "stream",
     "text": [
      "======================================================= datasetType = spectraction =================================================================\n",
      "fullId:  {band: 'white', instrument: 'LATISS', detector: 0, physical_filter: 'empty~holo4_003', visit_system: 0, visit: 2021070700319}\n",
      "..................................................................................\n",
      "band:    white\n",
      "type:    DatasetType('spectraction', {band, instrument, detector, physical_filter, visit_system, visit}, Spectraction)\n",
      "++++++++++++++++++++++++++++++++++++++++++++++++++++++++++++++++++++++++++++++++++\n",
      "id=UUID('b8f5f9c0-c103-4009-8375-81abbe101504') datasetType=SerializedDatasetType(name='spectraction', storageClass='Spectraction', dimensions=SerializedDimensionGraph(names=['band', 'instrument', 'detector', 'physical_filter', 'visit_system', 'visit']), parentStorageClass=None, isCalibration=False) dataId=SerializedDataCoordinate(dataId={'band': 'white', 'instrument': 'LATISS', 'detector': 0, 'physical_filter': 'empty~holo4_003', 'visit_system': 0, 'visit': 2021070700319}, records=None) run='u/dagoret/first_test2/20220317T075852Z' component=None\n",
      ".  .  .  .  .  .  .  .  .  .  .  .  .  .  .  .  .  .  .  .  .  .  .  .  .  .  .  .\n",
      "{\"id\": \"b8f5f9c0-c103-4009-8375-81abbe101504\", \"datasetType\": {\"name\": \"spectraction\", \"storageClass\": \"Spectraction\", \"dimensions\": {\"names\": [\"band\", \"instrument\", \"detector\", \"physical_filter\", \"visit_system\", \"visit\"]}}, \"dataId\": {\"dataId\": {\"band\": \"white\", \"instrument\": \"LATISS\", \"detector\": 0, \"physical_filter\": \"empty~holo4_003\", \"visit_system\": 0, \"visit\": 2021070700319}}, \"run\": \"u/dagoret/first_test2/20220317T075852Z\"}\n",
      "++++++++++++++++++++++++++++++++++++++++++++++++++++++++++++++++++++++++++++++++++\n",
      "run =  u/dagoret/first_test2/20220317T075852Z\n",
      "isCalibration:  False\n",
      "isComponent:     False\n",
      "isComposite:    False\n",
      "======================================================= datasetType = spectraction =================================================================\n",
      "fullId:  {band: 'white', instrument: 'LATISS', detector: 0, physical_filter: 'empty~holo4_003', visit_system: 0, visit: 2021070700320}\n",
      "..................................................................................\n",
      "band:    white\n",
      "type:    DatasetType('spectraction', {band, instrument, detector, physical_filter, visit_system, visit}, Spectraction)\n",
      "++++++++++++++++++++++++++++++++++++++++++++++++++++++++++++++++++++++++++++++++++\n",
      "id=UUID('81af5a96-e1ca-4650-9d1a-a52bff26c7ff') datasetType=SerializedDatasetType(name='spectraction', storageClass='Spectraction', dimensions=SerializedDimensionGraph(names=['band', 'instrument', 'detector', 'physical_filter', 'visit_system', 'visit']), parentStorageClass=None, isCalibration=False) dataId=SerializedDataCoordinate(dataId={'band': 'white', 'instrument': 'LATISS', 'detector': 0, 'physical_filter': 'empty~holo4_003', 'visit_system': 0, 'visit': 2021070700320}, records=None) run='u/dagoret/first_test2/20220317T160605Z' component=None\n",
      ".  .  .  .  .  .  .  .  .  .  .  .  .  .  .  .  .  .  .  .  .  .  .  .  .  .  .  .\n",
      "{\"id\": \"81af5a96-e1ca-4650-9d1a-a52bff26c7ff\", \"datasetType\": {\"name\": \"spectraction\", \"storageClass\": \"Spectraction\", \"dimensions\": {\"names\": [\"band\", \"instrument\", \"detector\", \"physical_filter\", \"visit_system\", \"visit\"]}}, \"dataId\": {\"dataId\": {\"band\": \"white\", \"instrument\": \"LATISS\", \"detector\": 0, \"physical_filter\": \"empty~holo4_003\", \"visit_system\": 0, \"visit\": 2021070700320}}, \"run\": \"u/dagoret/first_test2/20220317T160605Z\"}\n",
      "++++++++++++++++++++++++++++++++++++++++++++++++++++++++++++++++++++++++++++++++++\n",
      "run =  u/dagoret/first_test2/20220317T160605Z\n",
      "isCalibration:  False\n",
      "isComponent:     False\n",
      "isComposite:    False\n"
     ]
    }
   ],
   "source": [
    "all_ref_for_spectraction = []\n",
    "\n",
    "for i, ref in enumerate(datasetRefs):\n",
    "    all_ref_for_spectraction.append(ref.dataId)\n",
    "    print(\"======================================================= datasetType = spectraction =================================================================\")\n",
    "   \n",
    "    print(\"fullId: \",ref.dataId.full)\n",
    "    print(\"..................................................................................\")\n",
    "    print(\"band:   \",ref.dataId[\"band\"])\n",
    "    print(\"type:   \",ref.datasetType)\n",
    "    \n",
    "    print(\"++++++++++++++++++++++++++++++++++++++++++++++++++++++++++++++++++++++++++++++++++\")\n",
    "    print(ref.to_simple())\n",
    "    print(\".  .  .  .  .  .  .  .  .  .  .  .  .  .  .  .  .  .  .  .  .  .  .  .  .  .  .  .\")\n",
    "    print(ref.to_json())\n",
    "    print(\"++++++++++++++++++++++++++++++++++++++++++++++++++++++++++++++++++++++++++++++++++\")\n",
    "    \n",
    "    print(\"run = \",ref.run)\n",
    "    print(\"isCalibration: \",ref.datasetType.isCalibration())\n",
    "    \n",
    "    print(\"isComponent:    \",ref.isComponent())\n",
    "    \n",
    "    print(\"isComposite:   \",ref.isComposite()) \n",
    "    "
   ]
  },
  {
   "cell_type": "code",
   "execution_count": null,
   "id": "7df1993e-e932-4d7b-92ca-df6a72d40e21",
   "metadata": {},
   "outputs": [],
   "source": []
  }
 ],
 "metadata": {
  "kernelspec": {
   "display_name": "LSST",
   "language": "python",
   "name": "lsst"
  },
  "language_info": {
   "codemirror_mode": {
    "name": "ipython",
    "version": 3
   },
   "file_extension": ".py",
   "mimetype": "text/x-python",
   "name": "python",
   "nbconvert_exporter": "python",
   "pygments_lexer": "ipython3",
   "version": "3.10.5"
  }
 },
 "nbformat": 4,
 "nbformat_minor": 5
}
