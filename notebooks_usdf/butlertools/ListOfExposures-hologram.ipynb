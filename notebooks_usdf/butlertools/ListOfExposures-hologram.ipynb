{
 "cells": [
  {
   "cell_type": "markdown",
   "id": "c813ed6a",
   "metadata": {
    "tags": []
   },
   "source": [
    "# List of Exposures with Hologram\n",
    "\n",
    "\n",
    "- work with Weakly_2022_39\n",
    "- use jupyter kernel LSST\n",
    "\n",
    "\n",
    "- author : Sylvie Dagoret-Campagne\n",
    "- affiliation : IJCLab\n",
    "- creation date : 2022/09/19\n",
    "- update : 2022/09/23\n",
    "\n"
   ]
  },
  {
   "cell_type": "code",
   "execution_count": 1,
   "id": "2fb5982e-1d3d-44cb-a2b4-ac456a95b8a0",
   "metadata": {},
   "outputs": [
    {
     "name": "stdout",
     "output_type": "stream",
     "text": [
      "/opt/lsst/software/stack/conda/miniconda3-py38_4.9.2/envs/lsst-scipipe-4.1.0/bin/python3\n"
     ]
    }
   ],
   "source": [
    "import sys\n",
    "print(sys.executable)"
   ]
  },
  {
   "cell_type": "code",
   "execution_count": 2,
   "id": "607223bb-3a47-4d26-a3d6-4195a3d08359",
   "metadata": {},
   "outputs": [
    {
     "name": "stdout",
     "output_type": "stream",
     "text": [
      "['/home/d/dagoret/notebooks/AuxTelComm/notebooks_usdf/butlertools', '/home/d/dagoret/repos/repos_w_2022_39/summit_utils/python', '/home/d/dagoret/repos/repos_w_2022_39/drp_pipe/python', '/opt/lsst/software/stack/stack/miniconda3-py38_4.9.2-4.1.0/Linux64/analysis_tools/gb9b489fd42+90dca76f06/python', '/opt/lsst/software/stack/stack/miniconda3-py38_4.9.2-4.1.0/Linux64/analysis_drp/g12d5fbe6a5+90dca76f06/python', '/opt/lsst/software/stack/stack/miniconda3-py38_4.9.2-4.1.0/Linux64/faro/gbb36616a4b+5e2d81108f/python', '/opt/lsst/software/stack/stack/miniconda3-py38_4.9.2-4.1.0/Linux64/fgcmcal/g5147cf65fe+deeae05922/python', '/opt/lsst/software/stack/stack/miniconda3-py38_4.9.2-4.1.0/Linux64/fgcm/g3dbc634184/lib/python', '/opt/lsst/software/stack/stack/miniconda3-py38_4.9.2-4.1.0/Linux64/jointcal/ge7491f621d+ceb865f59e/python', '/opt/lsst/software/stack/stack/miniconda3-py38_4.9.2-4.1.0/Linux64/obs_cfht/gd4e7b81488+e2797d1921/python', '/opt/lsst/software/stack/stack/miniconda3-py38_4.9.2-4.1.0/Linux64/obs_subaru/g56afc215e3+ac52dc033c/python', '/opt/lsst/software/stack/stack/miniconda3-py38_4.9.2-4.1.0/Linux64/obs_decam/gb065e2a02a+de66ca8216/python', '/opt/lsst/software/stack/stack/miniconda3-py38_4.9.2-4.1.0/Linux64/ctrl_mpexec/g5106228df7+8f386c43b7/python', '/opt/lsst/software/stack/stack/miniconda3-py38_4.9.2-4.1.0/Linux64/obs_lsst/g0b8a85694d+5651ddfbf2/python', '/opt/lsst/software/stack/stack/miniconda3-py38_4.9.2-4.1.0/Linux64/shapelet/gd877ba84e5+60f67cdeb1/python', '/opt/lsst/software/stack/stack/miniconda3-py38_4.9.2-4.1.0/Linux64/meas_modelfit/g9f262a3a84+375022659d/python', '/opt/lsst/software/stack/stack/miniconda3-py38_4.9.2-4.1.0/Linux64/meas_extensions_shapeHSM/gc4a4d888fa+ef66f08a2a/python', '/opt/lsst/software/stack/stack/miniconda3-py38_4.9.2-4.1.0/Linux64/scarlet_extensions/g9d18589735+cc492336a9/lib/python', '/opt/lsst/software/stack/stack/miniconda3-py38_4.9.2-4.1.0/Linux64/proxmin/g33b4157f25/lib/python', '/opt/lsst/software/stack/stack/miniconda3-py38_4.9.2-4.1.0/Linux64/scarlet/gd32b658ba2+4083830bf8/lib/python', '/opt/lsst/software/stack/stack/miniconda3-py38_4.9.2-4.1.0/Linux64/meas_extensions_scarlet/g77bc62659c+42488cef1d/python', '/opt/lsst/software/stack/stack/miniconda3-py38_4.9.2-4.1.0/Linux64/psfex/g57437a15a7+62d12e78cb/python', '/opt/lsst/software/stack/stack/miniconda3-py38_4.9.2-4.1.0/Linux64/meas_extensions_psfex/g0b6bd0c080+8fc6aaf5f0/python', '/opt/lsst/software/stack/stack/miniconda3-py38_4.9.2-4.1.0/Linux64/meas_extensions_piff/ga32b1df1d7+ef66f08a2a/python', '/opt/lsst/software/stack/stack/miniconda3-py38_4.9.2-4.1.0/Linux64/meas_extensions_gaap/g1ef64573c8+d2b506b761/python', '/opt/lsst/software/stack/stack/miniconda3-py38_4.9.2-4.1.0/Linux64/meas_extensions_photometryKron/g7271f0639c+ef66f08a2a/python', '/opt/lsst/software/stack/stack/miniconda3-py38_4.9.2-4.1.0/Linux64/meas_extensions_convolved/gdd85c203a9+8d016d489a/python', '/opt/lsst/software/stack/stack/miniconda3-py38_4.9.2-4.1.0/Linux64/kht/gafcb7142de/cpp/build', '/opt/lsst/software/stack/stack/miniconda3-py38_4.9.2-4.1.0/Linux64/verify_metrics/g15e3f9f595+62d12e78cb/python', '/opt/lsst/software/stack/stack/miniconda3-py38_4.9.2-4.1.0/Linux64/dax_apdb/ga786bb30fb+cb0355dd8c/python', '/opt/lsst/software/stack/stack/miniconda3-py38_4.9.2-4.1.0/Linux64/verify/g1b7182a45b+522e40cc7f/python', '/opt/lsst/software/stack/stack/miniconda3-py38_4.9.2-4.1.0/Linux64/meas_deblender/g5f450c7a5d+3f671d1d13/python', '/opt/lsst/software/stack/stack/miniconda3-py38_4.9.2-4.1.0/Linux64/meas_extensions_trailedSources/gf4ac96e456+ceaa85bcc5/python', '/opt/lsst/software/stack/stack/miniconda3-py38_4.9.2-4.1.0/Linux64/meas_astrom/gb4acbdd2b2+ef66f08a2a/python', '/opt/lsst/software/stack/stack/miniconda3-py38_4.9.2-4.1.0/Linux64/ip_diffim/g3eaffb64d0+5dfb635612/python', '/opt/lsst/software/stack/stack/miniconda3-py38_4.9.2-4.1.0/Linux64/dustmaps_cachedata/g41a3ec361e+62d12e78cb/python', '/opt/lsst/software/stack/stack/miniconda3-py38_4.9.2-4.1.0/Linux64/coadd_utils/gfed783d017+60f67cdeb1/python', '/opt/lsst/software/stack/stack/miniconda3-py38_4.9.2-4.1.0/Linux64/pipe_tasks/g369a80f31c+437b643543/python', '/opt/lsst/software/stack/stack/miniconda3-py38_4.9.2-4.1.0/Linux64/skymap/g6075d09f38+36f2dd45c8/python', '/opt/lsst/software/stack/stack/miniconda3-py38_4.9.2-4.1.0/Linux64/meas_base/gdd7ff8183c+6588fa1d60/python', '/opt/lsst/software/stack/stack/miniconda3-py38_4.9.2-4.1.0/Linux64/meas_algorithms/g644241e1a9+ceaa85bcc5/python', '/opt/lsst/software/stack/stack/miniconda3-py38_4.9.2-4.1.0/Linux64/ip_isr/gd762b4c122+ef66f08a2a/python', '/opt/lsst/software/stack/stack/miniconda3-py38_4.9.2-4.1.0/Linux64/astro_metadata_translator/ga1fdf22eea+9a7299d786/python', '/opt/lsst/software/stack/stack/miniconda3-py38_4.9.2-4.1.0/Linux64/pipe_base/g646899f3d4+9b4274c3ef/python', '/opt/lsst/software/stack/stack/miniconda3-py38_4.9.2-4.1.0/Linux64/resources/g5f6b06af61+d9f2955894/python', '/opt/lsst/software/stack/stack/miniconda3-py38_4.9.2-4.1.0/Linux64/daf_butler/g1a6169c876+17c7ad0751/python', '/opt/lsst/software/stack/stack/miniconda3-py38_4.9.2-4.1.0/Linux64/obs_base/g188f660963+6ea671c325/python', '/opt/lsst/software/stack/stack/miniconda3-py38_4.9.2-4.1.0/Linux64/astshim/g38293774b4+62d12e78cb/python', '/opt/lsst/software/stack/stack/miniconda3-py38_4.9.2-4.1.0/Linux64/log/g9d27549199+d9f2955894/python', '/opt/lsst/software/stack/stack/miniconda3-py38_4.9.2-4.1.0/Linux64/sphgeom/g1081da9e2a+62d12e78cb/python', '/opt/lsst/software/stack/stack/miniconda3-py38_4.9.2-4.1.0/Linux64/geom/g3b44f30a73+2783595228/python', '/opt/lsst/software/stack/stack/miniconda3-py38_4.9.2-4.1.0/Linux64/pex_config/g71c1dbb2b5+9a7299d786/python', '/opt/lsst/software/stack/stack/miniconda3-py38_4.9.2-4.1.0/Linux64/pex_exceptions/g48ccf36440+885b902d19/python', '/opt/lsst/software/stack/stack/miniconda3-py38_4.9.2-4.1.0/Linux64/sconsUtils/gb98748cec6/python', '/opt/lsst/software/stack/stack/miniconda3-py38_4.9.2-4.1.0/Linux64/base/g7985c39107+62d12e78cb/python', '/opt/lsst/software/stack/stack/miniconda3-py38_4.9.2-4.1.0/Linux64/cpputils/g2e2c1a68ba+cc1f6f037e/python', '/opt/lsst/software/stack/stack/miniconda3-py38_4.9.2-4.1.0/Linux64/utils/g6f6f670c95+16108f2031/python', '/opt/lsst/software/stack/stack/miniconda3-py38_4.9.2-4.1.0/Linux64/daf_base/g5c4744a4d9+d9f2955894/python', '/opt/lsst/software/stack/stack/miniconda3-py38_4.9.2-4.1.0/Linux64/afw/g3d779e7deb+3cc41d2aa1/python', '/home/d/dagoret/repos/repos_w_2022_39/atmospec/python', '/opt/lsst/software/stack/stack/miniconda3-py38_4.9.2-4.1.0/Linux64/spectractor/g90263d33d7/lib/python', '/opt/lsst/software/stack/stack/miniconda3-py38_4.9.2-4.1.0/Linux64/display_firefly/gbc3249ced9+60f67cdeb1/python', '/opt/lsst/software/stack/stack/miniconda3-py38_4.9.2-4.1.0/Linux64/cp_verify/g41175167c7+16959348af/python', '/opt/lsst/software/stack/stack/miniconda3-py38_4.9.2-4.1.0/Linux64/cp_pipe/g6bae47012f+90dca76f06/python', '/opt/lsst/software/stack/stack/miniconda3-py38_4.9.2-4.1.0/Linux64/display_matplotlib/gbec6a3398f+60f67cdeb1/python', '/opt/lsst/software/stack/stack/miniconda3-py38_4.9.2-4.1.0/Linux64/ap_verify/g74b675f1dc+4562ac2886/python', '/opt/lsst/software/stack/stack/miniconda3-py38_4.9.2-4.1.0/Linux64/cbp/g7177720bbd+60f67cdeb1/python', '/opt/lsst/software/stack/stack/miniconda3-py38_4.9.2-4.1.0/Linux64/daf_persistence/g17e5ecfddb+806041dbc7/python', '/opt/lsst/software/stack/stack/miniconda3-py38_4.9.2-4.1.0/Linux64/ctrl_pool/g295839609d+dab19f08c1/python', '/opt/lsst/software/stack/stack/miniconda3-py38_4.9.2-4.1.0/Linux64/pipe_drivers/g96f01af41f+e31b0822e2/python', '/opt/lsst/software/stack/stack/miniconda3-py38_4.9.2-4.1.0/Linux64/ctrl_bps_parsl/g11c92d8fe6+45882b6442/python', '/opt/lsst/software/stack/stack/miniconda3-py38_4.9.2-4.1.0/Linux64/ctrl_bps_panda/gd7307e2651+45882b6442/python', '/opt/lsst/software/stack/stack/miniconda3-py38_4.9.2-4.1.0/Linux64/ctrl_bps_htcondor/g17108f9700+45882b6442/python', '/opt/lsst/software/stack/stack/miniconda3-py38_4.9.2-4.1.0/Linux64/lsst_bps_plugins/gd226c963c4+c6882ed25a/python', '/opt/lsst/software/stack/stack/miniconda3-py38_4.9.2-4.1.0/Linux64/ctrl_bps/g4d3842e5b9+a7f03ce203/python', '/opt/lsst/software/stack/stack/miniconda3-py38_4.9.2-4.1.0/Linux64/display_ds9/gd01420fc67+60f67cdeb1/python', '/opt/lsst/software/stack/stack/miniconda3-py38_4.9.2-4.1.0/Linux64/meas_extensions_simpleShape/gabf319e997+ceaa85bcc5/python', '/opt/lsst/software/stack/stack/miniconda3-py38_4.9.2-4.1.0/Linux64/alert_packet/g5d8fbe4fe2/python', '/opt/lsst/software/stack/stack/miniconda3-py38_4.9.2-4.1.0/Linux64/ap_association/g7da8b95e49+cd55d998a2/python', '/opt/lsst/software/stack/stack/miniconda3-py38_4.9.2-4.1.0/Linux64/ap_pipe/gc00898cf47+c1388a698f/python', '/opt/lsst/software/stack/conda/miniconda3-py38_4.9.2/envs/lsst-scipipe-4.1.0/eups/python', '/opt/lsst/software/stack/conda/miniconda3-py38_4.9.2/envs/lsst-scipipe-4.1.0/lib/python310.zip', '/opt/lsst/software/stack/conda/miniconda3-py38_4.9.2/envs/lsst-scipipe-4.1.0/lib/python3.10', '/opt/lsst/software/stack/conda/miniconda3-py38_4.9.2/envs/lsst-scipipe-4.1.0/lib/python3.10/lib-dynload', '', '/opt/lsst/software/stack/conda/miniconda3-py38_4.9.2/envs/lsst-scipipe-4.1.0/lib/python3.10/site-packages']\n"
     ]
    }
   ],
   "source": [
    "print(sys.path)"
   ]
  },
  {
   "cell_type": "code",
   "execution_count": 3,
   "id": "2e1f28b1",
   "metadata": {},
   "outputs": [
    {
     "name": "stdout",
     "output_type": "stream",
     "text": [
      "atmospec              LOCAL:/home/d/dagoret/repos/repos_w_2022_39/atmospec \tsetup\n",
      "drp_pipe              LOCAL:/home/d/dagoret/repos/repos_w_2022_39/drp_pipe \tsetup\n",
      "eups                  LOCAL:/opt/lsst/software/stack/conda/miniconda3-py38_4.9.2/envs/lsst-scipipe-4.1.0/eups \tsetup\n",
      "summit_utils          LOCAL:/home/d/dagoret/repos/repos_w_2022_39/summit_utils \tsetup\n"
     ]
    }
   ],
   "source": [
    "! eups list -s | grep LOCAL"
   ]
  },
  {
   "cell_type": "code",
   "execution_count": 4,
   "id": "8d301387-7065-4c85-897e-9e91b477c2b0",
   "metadata": {},
   "outputs": [
    {
     "name": "stdout",
     "output_type": "stream",
     "text": [
      "w_2022_39\n",
      "   g0b29ad24fb+a10408d0bf \tcurrent w_2022_39 setup\n"
     ]
    }
   ],
   "source": [
    "! echo $IMAGE_DESCRIPTION\n",
    "! eups list -s lsst_distrib"
   ]
  },
  {
   "cell_type": "code",
   "execution_count": 5,
   "id": "ea83b669",
   "metadata": {},
   "outputs": [],
   "source": [
    "import os\n",
    "import matplotlib.pyplot as plt\n",
    "import numpy as np\n",
    "import pandas as pd\n",
    "%matplotlib inline\n",
    "from matplotlib.colors import LogNorm\n",
    "\n",
    "from mpl_toolkits.axes_grid1 import make_axes_locatable\n",
    "\n",
    "import matplotlib.ticker                         # here's where the formatter is\n",
    "from matplotlib.ticker import (MultipleLocator, FormatStrFormatter,\n",
    "                               AutoMinorLocator)\n",
    "\n",
    "from astropy.io import fits"
   ]
  },
  {
   "cell_type": "code",
   "execution_count": 6,
   "id": "d7c8c61f-5cfa-4c25-9a5a-97c2eb50fa29",
   "metadata": {},
   "outputs": [],
   "source": [
    "import lsst.afw.display as afwDisplay\n",
    "afwDisplay.setDefaultBackend('matplotlib')"
   ]
  },
  {
   "cell_type": "code",
   "execution_count": 7,
   "id": "7a36f8cd",
   "metadata": {},
   "outputs": [],
   "source": [
    "import lsst.daf.butler as dafButler"
   ]
  },
  {
   "cell_type": "code",
   "execution_count": 8,
   "id": "7c5944d1-0cbb-42bc-9ea9-a7ff39e25a01",
   "metadata": {},
   "outputs": [
    {
     "ename": "RuntimeError",
     "evalue": "A Config could not be loaded from other: ('/sdf/group/rubin/repo/oga',)",
     "output_type": "error",
     "traceback": [
      "\u001b[0;31m---------------------------------------------------------------------------\u001b[0m",
      "\u001b[0;31mRuntimeError\u001b[0m                              Traceback (most recent call last)",
      "Input \u001b[0;32mIn [8]\u001b[0m, in \u001b[0;36m<cell line: 3>\u001b[0;34m()\u001b[0m\n\u001b[1;32m      1\u001b[0m \u001b[38;5;66;03m#repo = \"/sdf/group/rubin/repo/main\"\u001b[39;00m\n\u001b[1;32m      2\u001b[0m repo \u001b[38;5;241m=\u001b[39m \u001b[38;5;124m\"\u001b[39m\u001b[38;5;124m/sdf/group/rubin/repo/oga\u001b[39m\u001b[38;5;124m\"\u001b[39m, \n\u001b[0;32m----> 3\u001b[0m butler \u001b[38;5;241m=\u001b[39m \u001b[43mdafButler\u001b[49m\u001b[38;5;241;43m.\u001b[39;49m\u001b[43mButler\u001b[49m\u001b[43m(\u001b[49m\u001b[43mrepo\u001b[49m\u001b[43m)\u001b[49m\n\u001b[1;32m      4\u001b[0m registry \u001b[38;5;241m=\u001b[39m butler\u001b[38;5;241m.\u001b[39mregistry\n",
      "File \u001b[0;32m/opt/lsst/software/stack/stack/miniconda3-py38_4.9.2-4.1.0/Linux64/daf_butler/g1a6169c876+17c7ad0751/python/lsst/daf/butler/_butler.py:266\u001b[0m, in \u001b[0;36mButler.__init__\u001b[0;34m(self, config, butler, collections, run, searchPaths, writeable, inferDefaults, **kwargs)\u001b[0m\n\u001b[1;32m    264\u001b[0m     config \u001b[38;5;241m=\u001b[39m \u001b[38;5;28mstr\u001b[39m(\u001b[38;5;28mself\u001b[39m\u001b[38;5;241m.\u001b[39mget_repo_uri(config))\n\u001b[1;32m    265\u001b[0m \u001b[38;5;28;01mtry\u001b[39;00m:\n\u001b[0;32m--> 266\u001b[0m     \u001b[38;5;28mself\u001b[39m\u001b[38;5;241m.\u001b[39m_config \u001b[38;5;241m=\u001b[39m \u001b[43mButlerConfig\u001b[49m\u001b[43m(\u001b[49m\u001b[43mconfig\u001b[49m\u001b[43m,\u001b[49m\u001b[43m \u001b[49m\u001b[43msearchPaths\u001b[49m\u001b[38;5;241;43m=\u001b[39;49m\u001b[43msearchPaths\u001b[49m\u001b[43m)\u001b[49m\n\u001b[1;32m    267\u001b[0m \u001b[38;5;28;01mexcept\u001b[39;00m \u001b[38;5;167;01mFileNotFoundError\u001b[39;00m \u001b[38;5;28;01mas\u001b[39;00m e:\n\u001b[1;32m    268\u001b[0m     \u001b[38;5;28;01mif\u001b[39;00m known \u001b[38;5;241m:=\u001b[39m \u001b[38;5;28mself\u001b[39m\u001b[38;5;241m.\u001b[39mget_known_repos():\n",
      "File \u001b[0;32m/opt/lsst/software/stack/stack/miniconda3-py38_4.9.2-4.1.0/Linux64/daf_butler/g1a6169c876+17c7ad0751/python/lsst/daf/butler/_butlerConfig.py:110\u001b[0m, in \u001b[0;36mButlerConfig.__init__\u001b[0;34m(self, other, searchPaths)\u001b[0m\n\u001b[1;32m    106\u001b[0m \u001b[38;5;28msuper\u001b[39m()\u001b[38;5;241m.\u001b[39m\u001b[38;5;21m__init__\u001b[39m()\n\u001b[1;32m    108\u001b[0m \u001b[38;5;66;03m# Read the supplied config so that we can work out which other\u001b[39;00m\n\u001b[1;32m    109\u001b[0m \u001b[38;5;66;03m# defaults to use.\u001b[39;00m\n\u001b[0;32m--> 110\u001b[0m butlerConfig \u001b[38;5;241m=\u001b[39m \u001b[43mConfig\u001b[49m\u001b[43m(\u001b[49m\u001b[43mother\u001b[49m\u001b[43m)\u001b[49m\n\u001b[1;32m    112\u001b[0m configFile \u001b[38;5;241m=\u001b[39m butlerConfig\u001b[38;5;241m.\u001b[39mconfigFile\n\u001b[1;32m    113\u001b[0m \u001b[38;5;28;01mif\u001b[39;00m configFile \u001b[38;5;129;01mis\u001b[39;00m \u001b[38;5;129;01mnot\u001b[39;00m \u001b[38;5;28;01mNone\u001b[39;00m:\n",
      "File \u001b[0;32m/opt/lsst/software/stack/stack/miniconda3-py38_4.9.2-4.1.0/Linux64/daf_butler/g1a6169c876+17c7ad0751/python/lsst/daf/butler/core/config.py:262\u001b[0m, in \u001b[0;36mConfig.__init__\u001b[0;34m(self, other)\u001b[0m\n\u001b[1;32m    258\u001b[0m     \u001b[38;5;28mself\u001b[39m\u001b[38;5;241m.\u001b[39m_processExplicitIncludes()\n\u001b[1;32m    259\u001b[0m \u001b[38;5;28;01melse\u001b[39;00m:\n\u001b[1;32m    260\u001b[0m     \u001b[38;5;66;03m# if the config specified by other could not be recognized raise\u001b[39;00m\n\u001b[1;32m    261\u001b[0m     \u001b[38;5;66;03m# a runtime error.\u001b[39;00m\n\u001b[0;32m--> 262\u001b[0m     \u001b[38;5;28;01mraise\u001b[39;00m \u001b[38;5;167;01mRuntimeError\u001b[39;00m(\u001b[38;5;124mf\u001b[39m\u001b[38;5;124m\"\u001b[39m\u001b[38;5;124mA Config could not be loaded from other: \u001b[39m\u001b[38;5;132;01m{\u001b[39;00mother\u001b[38;5;132;01m}\u001b[39;00m\u001b[38;5;124m\"\u001b[39m)\n",
      "\u001b[0;31mRuntimeError\u001b[0m: A Config could not be loaded from other: ('/sdf/group/rubin/repo/oga',)"
     ]
    }
   ],
   "source": [
    "repo = \"/sdf/group/rubin/repo/main\"\n",
    "#repo = \"/sdf/group/rubin/repo/oga\", \n",
    "butler = dafButler.Butler(repo)\n",
    "registry = butler.registry"
   ]
  },
  {
   "cell_type": "markdown",
   "id": "7f19fb5d-52b7-4819-8544-d2af41bc62ee",
   "metadata": {},
   "source": [
    "## List of Exposures"
   ]
  },
  {
   "cell_type": "code",
   "execution_count": null,
   "id": "21511621-0c1f-4ada-9134-47e1fb3081c0",
   "metadata": {},
   "outputs": [],
   "source": [
    "df_exposure = pd.DataFrame(columns=['id', 'obs_id','day_obs', 'seq_num', 'type', 'target','filter','zenith_angle','expos','ra','dec','skyangle'])"
   ]
  },
  {
   "cell_type": "code",
   "execution_count": null,
   "id": "9f1cb1a9-f90e-43a5-8451-7d342b7a4542",
   "metadata": {},
   "outputs": [],
   "source": [
    "for count, info in enumerate(registry.queryDimensionRecords('exposure',where= \"instrument='LATISS'\")):\n",
    "    \n",
    "    \n",
    "    df_exposure.loc[count] = [info.id, info.obs_id, info.day_obs, info.seq_num, info.observation_type, info.target_name, info.physical_filter, info.zenith_angle, \\\n",
    "                             info.exposure_time,info.tracking_ra, info.tracking_dec, info.sky_angle]\n",
    "    \n",
    "    if count < 0:\n",
    "        print(\"-----------------------------------------------------\",count,\"---------------------------------------------------------\")\n",
    "        print(info)\n",
    "        print(\"\\t id:                  \",info.id)\n",
    "        print(\"\\t day_obs:             \",info.day_obs)\n",
    "        print(\"\\t seq_num:             \",info.seq_num)\n",
    "        print(\"\\t type-of-observation: \",info.observation_type)\n",
    "        print(\"\\t target:              \",info.target_name)\n",
    "    "
   ]
  },
  {
   "cell_type": "code",
   "execution_count": null,
   "id": "09347e6d-92ca-40f4-b223-a95f02f3f484",
   "metadata": {},
   "outputs": [],
   "source": [
    "df_exposure"
   ]
  },
  {
   "cell_type": "markdown",
   "id": "323b7c09-00c3-46c7-b542-9651b4de493d",
   "metadata": {},
   "source": [
    "## Selection of science"
   ]
  },
  {
   "cell_type": "code",
   "execution_count": null,
   "id": "74fd2466-f031-465e-b36c-9680532fe9b3",
   "metadata": {},
   "outputs": [],
   "source": [
    "df_science = df_exposure[df_exposure.type == 'science']"
   ]
  },
  {
   "cell_type": "code",
   "execution_count": null,
   "id": "eea99dca-791a-43d2-85ec-e8d098526141",
   "metadata": {},
   "outputs": [],
   "source": [
    "df_science.sort_values(by=\"id\",ascending=True,inplace=True)"
   ]
  },
  {
   "cell_type": "code",
   "execution_count": null,
   "id": "53851875-e2d9-48c4-a138-a5e62ed237d2",
   "metadata": {},
   "outputs": [],
   "source": [
    "df_science.tail(60)"
   ]
  },
  {
   "cell_type": "code",
   "execution_count": null,
   "id": "30ae40c5-c57a-4fc9-9abd-3068b59c4ce1",
   "metadata": {},
   "outputs": [],
   "source": [
    "df_science.day_obs.unique()"
   ]
  },
  {
   "cell_type": "markdown",
   "id": "d3eb1a05-2a73-4e70-baad-f1597b4594eb",
   "metadata": {},
   "source": [
    "## Selection of date"
   ]
  },
  {
   "cell_type": "markdown",
   "id": "9cf7f6a7-2825-429a-addb-fff57b3c6694",
   "metadata": {},
   "source": [
    "2021-02-16  2021-02-18  2021-06-08  2021-06-10  2021-07-07  2021-09-07  2021-09-09  2021-10-06  2021-11-02  2021-11-04  2022-02-16  2022-03-15  2022-03-17  20220502  \n",
    "2021-02-17  2021-03-11  2021-06-09  2021-07-06  2021-07-08  2021-09-08  2021-10-05  2021-10-07  2021-11-03  2022-02-15  2022-02-17  2022-03-16  2022-03-18  20220503 20220524 20220607 20220608 20220609"
   ]
  },
  {
   "cell_type": "markdown",
   "id": "3c19db71-67d6-4e6f-a825-10b6adcb7ca3",
   "metadata": {},
   "source": [
    "### Add those\n",
    "\n",
    "20220504 - Not existing"
   ]
  },
  {
   "cell_type": "code",
   "execution_count": null,
   "id": "b46021d7-631f-4a26-acef-43bf7e5e193c",
   "metadata": {},
   "outputs": [],
   "source": [
    "date_sel = 20220912"
   ]
  },
  {
   "cell_type": "code",
   "execution_count": null,
   "id": "d1b0dc9b-d8f5-4d3b-b2e8-159b09998bb7",
   "metadata": {},
   "outputs": [],
   "source": [
    "df_science_selected = df_science[df_science.day_obs == date_sel ]"
   ]
  },
  {
   "cell_type": "code",
   "execution_count": null,
   "id": "1ded26fd-9946-4ecb-8d20-250b909893a9",
   "metadata": {},
   "outputs": [],
   "source": [
    "len(df_science_selected)"
   ]
  },
  {
   "cell_type": "markdown",
   "id": "6880495b-a3b2-457f-8cdc-c8a3975baee0",
   "metadata": {},
   "source": [
    "# List of filters"
   ]
  },
  {
   "cell_type": "code",
   "execution_count": null,
   "id": "64da7cda-db6e-4414-81f7-98ff7c7af055",
   "metadata": {},
   "outputs": [],
   "source": [
    "list_of_filters = df_science_selected['filter'].unique()\n",
    "list_of_filters"
   ]
  },
  {
   "cell_type": "code",
   "execution_count": null,
   "id": "190ab229-41fe-46bb-8586-ada353d43280",
   "metadata": {},
   "outputs": [],
   "source": [
    "selected_filters = []\n",
    "for filt in list_of_filters:\n",
    "    #flag_sel = (filt.find('holo4') != -1) or (filt.find('ronchi90lpmm') != -1) or (filt.find('ronchi170lpmm') != -1)\n",
    "    flag_sel = (filt.find('holo4') != -1) \n",
    "    #flag_sel = (filt.find('ronchi170') != -1) \n",
    "    if flag_sel:\n",
    "        selected_filters.append(filt) \n",
    "selected_filters = np.array(selected_filters)\n",
    "selected_filters       "
   ]
  },
  {
   "cell_type": "markdown",
   "id": "10acdccb-86b9-4399-88df-ad1c9645dd8f",
   "metadata": {},
   "source": [
    "## Selection of filter\n",
    "\n",
    "- But now we have a loop on filters"
   ]
  },
  {
   "cell_type": "code",
   "execution_count": null,
   "id": "43cb8c1b-1c02-4a03-9281-f44fc17a1876",
   "metadata": {},
   "outputs": [],
   "source": [
    "#idx_sel_filt = 0\n",
    "#selected_filter = selected_filters[0]\n",
    "#selected_filter"
   ]
  },
  {
   "cell_type": "markdown",
   "id": "e58b7ad6-8784-472b-8d37-0b9a80745c2c",
   "metadata": {},
   "source": [
    "## Final selection of exposure\n",
    "\n",
    "- loop on selected filters"
   ]
  },
  {
   "cell_type": "code",
   "execution_count": null,
   "id": "05ce31a5-f317-4554-a2a3-12983a72cc5f",
   "metadata": {},
   "outputs": [],
   "source": [
    "pd.set_option('display.max_rows', None)"
   ]
  },
  {
   "cell_type": "code",
   "execution_count": null,
   "id": "e7f8f369-356a-4832-a9bc-4832e61a5882",
   "metadata": {},
   "outputs": [],
   "source": [
    "all_def_science_selected_final = []\n",
    "\n",
    "for selected_filter in selected_filters:\n",
    "\n",
    "    print(selected_filter)\n",
    "    df_science_selected_final = df_science_selected[df_science_selected[\"filter\"] ==  selected_filter]\n",
    "    \n",
    "    #print(df_science_selected_final)\n",
    "    all_def_science_selected_final.append(df_science_selected_final.copy())\n",
    "    \n",
    "    df = df_science_selected_final\n",
    "    df_sel = df[['day_obs', 'seq_num']]\n",
    "    \n",
    "    \n",
    "    NN = len(df)\n",
    "    \n",
    "    if NN>0:\n",
    "        # build the line\n",
    "        \n",
    "        df_sel['line'] = df_sel.apply(lambda row: str(row['day_obs'])  + \" \" + str(row['seq_num']),axis = 1)\n",
    "    \n",
    "    \n",
    "         # prepare output\n",
    "        filename_out = \"visitdispersers_\"+ str(date_sel) + \"_filt_\" + selected_filter.replace('~','-') + \".list\"\n",
    "        print(filename_out)\n",
    "        \n",
    "        df_out = df_sel[[\"line\"]]\n",
    "        df_out.to_csv(filename_out, index=False, header=None)"
   ]
  },
  {
   "cell_type": "code",
   "execution_count": null,
   "id": "610e844e-0a7a-42cf-b704-3eb7fe9b1e30",
   "metadata": {},
   "outputs": [],
   "source": [
    "len(all_def_science_selected_final)"
   ]
  },
  {
   "cell_type": "code",
   "execution_count": null,
   "id": "f62041c0-32cd-43f6-925d-58cb746dd52c",
   "metadata": {},
   "outputs": [],
   "source": [
    "all_def_science_selected_final[0]"
   ]
  },
  {
   "cell_type": "code",
   "execution_count": null,
   "id": "770d3d7c-8bf2-4f98-9f96-c51427869d83",
   "metadata": {},
   "outputs": [],
   "source": [
    "all_def_science_selected_final[1]"
   ]
  },
  {
   "cell_type": "code",
   "execution_count": null,
   "id": "b9b03240-8473-4289-b186-132efe25dad5",
   "metadata": {},
   "outputs": [],
   "source": [
    "all_def_science_selected_final[2]"
   ]
  },
  {
   "cell_type": "code",
   "execution_count": null,
   "id": "52be8bda-2d58-450b-9aed-2215777ead84",
   "metadata": {},
   "outputs": [],
   "source": [
    "all_def_science_selected_final[3]"
   ]
  },
  {
   "cell_type": "code",
   "execution_count": null,
   "id": "0c75008d-fd85-40ba-8759-9dd3cbfa9330",
   "metadata": {},
   "outputs": [],
   "source": [
    "all_def_science_selected_final[4]"
   ]
  },
  {
   "cell_type": "code",
   "execution_count": null,
   "id": "4712c124-74b6-4fd3-b734-b3cacd30e153",
   "metadata": {},
   "outputs": [],
   "source": []
  }
 ],
 "metadata": {
  "kernelspec": {
   "display_name": "LSST",
   "language": "python",
   "name": "lsst"
  },
  "language_info": {
   "codemirror_mode": {
    "name": "ipython",
    "version": 3
   },
   "file_extension": ".py",
   "mimetype": "text/x-python",
   "name": "python",
   "nbconvert_exporter": "python",
   "pygments_lexer": "ipython3",
   "version": "3.10.5"
  }
 },
 "nbformat": 4,
 "nbformat_minor": 5
}
