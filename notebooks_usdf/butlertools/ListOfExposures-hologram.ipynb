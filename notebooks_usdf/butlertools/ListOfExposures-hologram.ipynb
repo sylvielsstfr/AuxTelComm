{
 "cells": [
  {
   "cell_type": "markdown",
   "id": "34464a75",
   "metadata": {
    "tags": []
   },
   "source": [
    "# List of Exposures  at USDF\n",
    "\n",
    "\n",
    "- work with Weakly_2023_44\n",
    "- use jupyter kernel LSST\n",
    "\n",
    "\n",
    "- author : Sylvie Dagoret-Campagne\n",
    "- affiliation : IJCLab\n",
    "- creation date : 2023/09/13\n",
    "- last update : 2023/12/20\n",
    "\n"
   ]
  },
  {
   "cell_type": "code",
   "execution_count": 1,
   "id": "5e6ddc9d",
   "metadata": {
    "execution": {
     "iopub.execute_input": "2023-12-20T09:27:20.876489Z",
     "iopub.status.busy": "2023-12-20T09:27:20.876374Z",
     "iopub.status.idle": "2023-12-20T09:27:20.878831Z",
     "shell.execute_reply": "2023-12-20T09:27:20.878468Z",
     "shell.execute_reply.started": "2023-12-20T09:27:20.876476Z"
    },
    "tags": []
   },
   "outputs": [
    {
     "name": "stdout",
     "output_type": "stream",
     "text": [
      "/opt/lsst/software/stack/conda/miniconda3-py38_4.9.2/envs/lsst-scipipe-7.0.1/bin/python3\n"
     ]
    }
   ],
   "source": [
    "import sys\n",
    "print(sys.executable)"
   ]
  },
  {
   "cell_type": "code",
   "execution_count": 2,
   "id": "6d6367f0",
   "metadata": {
    "execution": {
     "iopub.execute_input": "2023-12-20T09:27:20.879818Z",
     "iopub.status.busy": "2023-12-20T09:27:20.879692Z",
     "iopub.status.idle": "2023-12-20T09:27:20.884701Z",
     "shell.execute_reply": "2023-12-20T09:27:20.884342Z",
     "shell.execute_reply.started": "2023-12-20T09:27:20.879807Z"
    },
    "tags": []
   },
   "outputs": [
    {
     "name": "stdout",
     "output_type": "stream",
     "text": [
      "['/sdf/data/rubin/user/dagoret/AuxTelComm/notebooks_usdf/butlertools', '/home/d/dagoret/repos/repos_w_2023_44/analysis_tools/python', '/opt/lsst/software/stack/stack/miniconda3-py38_4.9.2-7.0.1/Linux64/cp_pipe/g9dd2c6f9d4+29174bd147/python', '/opt/lsst/software/stack/stack/miniconda3-py38_4.9.2-7.0.1/Linux64/shapelet/g44018dc512+2565ec44ba/python', '/opt/lsst/software/stack/stack/miniconda3-py38_4.9.2-7.0.1/Linux64/meas_modelfit/gd162630629+22efd3ad40/python', '/opt/lsst/software/stack/stack/miniconda3-py38_4.9.2-7.0.1/Linux64/scarlet_lite/g13f254ea0d+81bc2a20b4/python', '/opt/lsst/software/stack/stack/miniconda3-py38_4.9.2-7.0.1/Linux64/proxmin/g33b4157f25/lib/python', '/opt/lsst/software/stack/stack/miniconda3-py38_4.9.2-7.0.1/Linux64/scarlet/g63ff1f842d+4083830bf8/lib/python', '/opt/lsst/software/stack/stack/miniconda3-py38_4.9.2-7.0.1/Linux64/meas_extensions_scarlet/gabf74fab76+76066ce010/python', '/opt/lsst/software/stack/stack/miniconda3-py38_4.9.2-7.0.1/Linux64/meas_extensions_psfex/gbeb006f7da+0236ef8838/python', '/opt/lsst/software/stack/stack/miniconda3-py38_4.9.2-7.0.1/Linux64/meas_extensions_piff/gc86a011abf+d943d688ca/python', '/opt/lsst/software/stack/stack/miniconda3-py38_4.9.2-7.0.1/Linux64/meas_extensions_gaap/g8dd6597355+6245f44018/python', '/opt/lsst/software/stack/stack/miniconda3-py38_4.9.2-7.0.1/Linux64/meas_extensions_photometryKron/g858d7b2824+d943d688ca/python', '/opt/lsst/software/stack/stack/miniconda3-py38_4.9.2-7.0.1/Linux64/meas_extensions_convolved/g42fff21dfb+2d2f842bcd/python', '/opt/lsst/software/stack/stack/miniconda3-py38_4.9.2-7.0.1/Linux64/kht/gafcb7142de/cpp/build', '/opt/lsst/software/stack/stack/miniconda3-py38_4.9.2-7.0.1/Linux64/verify_metrics/g3c17f34f15+81bc2a20b4/python', '/opt/lsst/software/stack/stack/miniconda3-py38_4.9.2-7.0.1/Linux64/felis/g5a39ba60c6+81bc2a20b4/python', '/opt/lsst/software/stack/stack/miniconda3-py38_4.9.2-7.0.1/Linux64/dax_apdb/g6bb41cf53c+4b2cb913b0/python', '/opt/lsst/software/stack/stack/miniconda3-py38_4.9.2-7.0.1/Linux64/verify/geb375f337f+1815179ced/python', '/opt/lsst/software/stack/stack/miniconda3-py38_4.9.2-7.0.1/Linux64/meas_deblender/gb700894bec+043dd62fcb/python', '/opt/lsst/software/stack/stack/miniconda3-py38_4.9.2-7.0.1/Linux64/meas_extensions_shapeHSM/g571dde35ae+d943d688ca/python', '/opt/lsst/software/stack/stack/miniconda3-py38_4.9.2-7.0.1/Linux64/meas_extensions_trailedSources/g3ddfee87b4+ef80074229/python', '/opt/lsst/software/stack/stack/miniconda3-py38_4.9.2-7.0.1/Linux64/meas_astrom/gfb315b4925+d943d688ca/python', '/opt/lsst/software/stack/stack/miniconda3-py38_4.9.2-7.0.1/Linux64/ip_diffim/g47cf500ddd+b8d7f28886/python', '/opt/lsst/software/stack/stack/miniconda3-py38_4.9.2-7.0.1/Linux64/dustmaps_cachedata/gbb0a0c949e+81bc2a20b4/python', '/opt/lsst/software/stack/stack/miniconda3-py38_4.9.2-7.0.1/Linux64/coadd_utils/g337abbeb29+2565ec44ba/python', '/opt/lsst/software/stack/stack/miniconda3-py38_4.9.2-7.0.1/Linux64/pipe_tasks/ge012fd4114+c03985e41f/python', '/opt/lsst/software/stack/stack/miniconda3-py38_4.9.2-7.0.1/Linux64/astro_metadata_translator/gb8aeb2fa8e+0ffa813159/python', '/opt/lsst/software/stack/stack/miniconda3-py38_4.9.2-7.0.1/Linux64/obs_base/g34de2a639f+491397e5a4/python', '/opt/lsst/software/stack/stack/miniconda3-py38_4.9.2-7.0.1/Linux64/skymap/g3a3843c330+845d368b72/python', '/opt/lsst/software/stack/stack/miniconda3-py38_4.9.2-7.0.1/Linux64/meas_base/g1bfaca5695+198b0f8f95/python', '/opt/lsst/software/stack/stack/miniconda3-py38_4.9.2-7.0.1/Linux64/meas_algorithms/ga883e5f241+ef80074229/python', '/opt/lsst/software/stack/stack/miniconda3-py38_4.9.2-7.0.1/Linux64/ip_isr/g798d346303+d943d688ca/python', '/opt/lsst/software/stack/stack/miniconda3-py38_4.9.2-7.0.1/Linux64/daf_relation/g7fe878355c+6c74b93b31/python', '/opt/lsst/software/stack/stack/miniconda3-py38_4.9.2-7.0.1/Linux64/resources/g6dfd17919e+6c74b93b31/python', '/opt/lsst/software/stack/stack/miniconda3-py38_4.9.2-7.0.1/Linux64/daf_butler/ge89626a060+c4141ea9c4/python', '/opt/lsst/software/stack/stack/miniconda3-py38_4.9.2-7.0.1/Linux64/pipe_base/gfacbe7f57e+607ede7504/python', '/opt/lsst/software/stack/stack/miniconda3-py38_4.9.2-7.0.1/Linux64/afw/g2c44ac40b0+a272651890/python', '/opt/lsst/software/stack/stack/miniconda3-py38_4.9.2-7.0.1/Linux64/astshim/g3273194fdb+f6908454ef/python', '/opt/lsst/software/stack/stack/miniconda3-py38_4.9.2-7.0.1/Linux64/log/g1e7d6db67d+6c74b93b31/python', '/opt/lsst/software/stack/stack/miniconda3-py38_4.9.2-7.0.1/Linux64/sphgeom/g6ae5381d9b+81bc2a20b4/python', '/opt/lsst/software/stack/stack/miniconda3-py38_4.9.2-7.0.1/Linux64/geom/ga1e77700b3+951263b14e/python', '/opt/lsst/software/stack/stack/miniconda3-py38_4.9.2-7.0.1/Linux64/pex_config/g41b076d227+0ffa813159/python', '/opt/lsst/software/stack/stack/miniconda3-py38_4.9.2-7.0.1/Linux64/pex_exceptions/gdaeeff99f8+0d8dbea60f/python', '/opt/lsst/software/stack/stack/miniconda3-py38_4.9.2-7.0.1/Linux64/base/g98ffbb4407+81bc2a20b4/python', '/opt/lsst/software/stack/stack/miniconda3-py38_4.9.2-7.0.1/Linux64/cpputils/g9ddcbc5298+7f7571301f/python', '/opt/lsst/software/stack/stack/miniconda3-py38_4.9.2-7.0.1/Linux64/sconsUtils/g80c3e6a29f/python', '/opt/lsst/software/stack/stack/miniconda3-py38_4.9.2-7.0.1/Linux64/utils/g384e8880d6+81bc2a20b4/python', '/opt/lsst/software/stack/stack/miniconda3-py38_4.9.2-7.0.1/Linux64/daf_base/gf041782ebf+1e6588183a/python', '/home/d/dagoret/repos/repos_w_2023_44/Spectractor/lib/python', '/home/d/dagoret/repos/repos_w_2023_44/atmospec/python', '/opt/lsst/software/stack/stack/miniconda3-py38_4.9.2-7.0.1/Linux64/ctrl_mpexec/gef1ac55fff+9dabee4918/python', '/opt/lsst/software/stack/stack/miniconda3-py38_4.9.2-7.0.1/Linux64/obs_lsst/g091d0417a3+4cb41e19a3/python', '/opt/lsst/software/stack/stack/miniconda3-py38_4.9.2-7.0.1/Linux64/display_firefly/gae46bcf261+2565ec44ba/python', '/opt/lsst/software/stack/stack/miniconda3-py38_4.9.2-7.0.1/Linux64/display_astrowidgets/g2bbee38e9b+2565ec44ba/python', '/opt/lsst/software/stack/stack/miniconda3-py38_4.9.2-7.0.1/Linux64/cell_coadds/g9faf7ed3f3+29174bd147/python', '/opt/lsst/software/stack/stack/miniconda3-py38_4.9.2-7.0.1/Linux64/gbdes/gaa71a13f5d/build/pydir', '/opt/lsst/software/stack/stack/miniconda3-py38_4.9.2-7.0.1/Linux64/drp_tasks/ge1186d030a+26e260a925/python', '/opt/lsst/software/stack/stack/miniconda3-py38_4.9.2-7.0.1/Linux64/analysis_drp/g685299093e+29174bd147/python', '/opt/lsst/software/stack/stack/miniconda3-py38_4.9.2-7.0.1/Linux64/drp_pipe/gf4d25a888e+cc957198ff/python', '/opt/lsst/software/stack/stack/miniconda3-py38_4.9.2-7.0.1/Linux64/cp_verify/ge71923258f+6d09215bc7/python', '/opt/lsst/software/stack/stack/miniconda3-py38_4.9.2-7.0.1/Linux64/faro/ge8614a52ae+71f13c5dcd/python', '/opt/lsst/software/stack/stack/miniconda3-py38_4.9.2-7.0.1/Linux64/fgcm/g8c771ebe41/lib/python', '/opt/lsst/software/stack/stack/miniconda3-py38_4.9.2-7.0.1/Linux64/fgcmcal/gc9537b1561+081b210516/python', '/opt/lsst/software/stack/stack/miniconda3-py38_4.9.2-7.0.1/Linux64/display_matplotlib/g0265f82a02+2565ec44ba/python', '/opt/lsst/software/stack/stack/miniconda3-py38_4.9.2-7.0.1/Linux64/ap_verify/g60239a501b+2887a6cb47/python', '/opt/lsst/software/stack/stack/miniconda3-py38_4.9.2-7.0.1/Linux64/jointcal/g4500d70958+191bcb13e4/python', '/opt/lsst/software/stack/stack/miniconda3-py38_4.9.2-7.0.1/Linux64/cbp/ga32fcf49c8+2565ec44ba/python', '/opt/lsst/software/stack/stack/miniconda3-py38_4.9.2-7.0.1/Linux64/obs_decam/g8fee9bba00+24b5170abb/python', '/opt/lsst/software/stack/stack/miniconda3-py38_4.9.2-7.0.1/Linux64/obs_cfht/gef70c04d3b+7b124307b6/python', '/opt/lsst/software/stack/stack/miniconda3-py38_4.9.2-7.0.1/Linux64/ctrl_bps_parsl/g0782abdf86+2e681edd7e/python', '/opt/lsst/software/stack/stack/miniconda3-py38_4.9.2-7.0.1/Linux64/ctrl_bps_panda/g84a8fe0248+2e681edd7e/python', '/opt/lsst/software/stack/stack/miniconda3-py38_4.9.2-7.0.1/Linux64/ctrl_bps_htcondor/ga0efba6fd5+2e681edd7e/python', '/opt/lsst/software/stack/stack/miniconda3-py38_4.9.2-7.0.1/Linux64/lsst_bps_plugins/g3a590c521e+42efc30d13/python', '/opt/lsst/software/stack/stack/miniconda3-py38_4.9.2-7.0.1/Linux64/ctrl_bps/g74ae85034b+940e0e10a3/python', '/opt/lsst/software/stack/stack/miniconda3-py38_4.9.2-7.0.1/Linux64/ctrl_platform_s3df/g85fd9198bc+fa548786e5/python', '/opt/lsst/software/stack/stack/miniconda3-py38_4.9.2-7.0.1/Linux64/ctrl_execute/g8a65b980cb+c96752b144/python', '/opt/lsst/software/stack/stack/miniconda3-py38_4.9.2-7.0.1/Linux64/obs_subaru/g9b4e4e055d+faf6a5dd89/python', '/opt/lsst/software/stack/stack/miniconda3-py38_4.9.2-7.0.1/Linux64/source_injection/ge1ee8019e0+011f1ad233/python', '/opt/lsst/software/stack/stack/miniconda3-py38_4.9.2-7.0.1/Linux64/display_ds9/gdb4ec4c597+2565ec44ba/python', '/opt/lsst/software/stack/stack/miniconda3-py38_4.9.2-7.0.1/Linux64/meas_extensions_simpleShape/gcf0d15dbbd+ef80074229/python', '/opt/lsst/software/stack/stack/miniconda3-py38_4.9.2-7.0.1/Linux64/meas_transiNet/g0922cc0308+ef80074229/python', '/opt/lsst/software/stack/stack/miniconda3-py38_4.9.2-7.0.1/Linux64/alert_packet/g6041bd2d66/python', '/opt/lsst/software/stack/stack/miniconda3-py38_4.9.2-7.0.1/Linux64/ap_association/g683d3bc25d+d310ff28f4/python', '/opt/lsst/software/stack/stack/miniconda3-py38_4.9.2-7.0.1/Linux64/ap_pipe/g0769c9cf9c+f7879fdc54/python', '/opt/lsst/software/stack/conda/miniconda3-py38_4.9.2/envs/lsst-scipipe-7.0.1/eups/python', '/opt/lsst/software/stack/conda/miniconda3-py38_4.9.2/envs/lsst-scipipe-7.0.1/lib/python311.zip', '/opt/lsst/software/stack/conda/miniconda3-py38_4.9.2/envs/lsst-scipipe-7.0.1/lib/python3.11', '/opt/lsst/software/stack/conda/miniconda3-py38_4.9.2/envs/lsst-scipipe-7.0.1/lib/python3.11/lib-dynload', '', '/home/d/dagoret/.local/lib/python3.11/site-packages', '/opt/lsst/software/stack/conda/miniconda3-py38_4.9.2/envs/lsst-scipipe-7.0.1/lib/python3.11/site-packages']\n"
     ]
    }
   ],
   "source": [
    "print(sys.path)"
   ]
  },
  {
   "cell_type": "code",
   "execution_count": 3,
   "id": "89ee6f80",
   "metadata": {
    "execution": {
     "iopub.execute_input": "2023-12-20T09:27:20.885260Z",
     "iopub.status.busy": "2023-12-20T09:27:20.885146Z",
     "iopub.status.idle": "2023-12-20T09:27:21.238977Z",
     "shell.execute_reply": "2023-12-20T09:27:21.238395Z",
     "shell.execute_reply.started": "2023-12-20T09:27:20.885249Z"
    },
    "tags": []
   },
   "outputs": [
    {
     "name": "stdout",
     "output_type": "stream",
     "text": [
      "analysis_tools        LOCAL:/home/d/dagoret/repos/repos_w_2023_44/analysis_tools \tsetup\n",
      "atmospec              LOCAL:/home/d/dagoret/repos/repos_w_2023_44/atmospec \tsetup\n",
      "eups                  LOCAL:/opt/lsst/software/stack/conda/miniconda3-py38_4.9.2/envs/lsst-scipipe-7.0.1/eups \tsetup\n",
      "spectractor           LOCAL:/home/d/dagoret/repos/repos_w_2023_44/Spectractor \tsetup\n"
     ]
    }
   ],
   "source": [
    "! eups list -s | grep LOCAL"
   ]
  },
  {
   "cell_type": "code",
   "execution_count": 4,
   "id": "ab8d7eda",
   "metadata": {
    "execution": {
     "iopub.execute_input": "2023-12-20T09:27:21.239873Z",
     "iopub.status.busy": "2023-12-20T09:27:21.239730Z",
     "iopub.status.idle": "2023-12-20T09:27:21.775186Z",
     "shell.execute_reply": "2023-12-20T09:27:21.774633Z",
     "shell.execute_reply.started": "2023-12-20T09:27:21.239855Z"
    },
    "tags": []
   },
   "outputs": [
    {
     "name": "stdout",
     "output_type": "stream",
     "text": [
      "Weekly 2023_44\n",
      "   g4213664e8e+d053631def \tcurrent w_2023_44 setup\n"
     ]
    }
   ],
   "source": [
    "! echo $IMAGE_DESCRIPTION\n",
    "! eups list -s lsst_distrib"
   ]
  },
  {
   "cell_type": "code",
   "execution_count": 5,
   "id": "08b3556a",
   "metadata": {
    "execution": {
     "iopub.execute_input": "2023-12-20T09:27:21.776071Z",
     "iopub.status.busy": "2023-12-20T09:27:21.775933Z",
     "iopub.status.idle": "2023-12-20T09:27:22.331997Z",
     "shell.execute_reply": "2023-12-20T09:27:22.331480Z",
     "shell.execute_reply.started": "2023-12-20T09:27:21.776054Z"
    },
    "tags": []
   },
   "outputs": [],
   "source": [
    "import os\n",
    "import matplotlib.pyplot as plt\n",
    "import numpy as np\n",
    "import pandas as pd\n",
    "%matplotlib inline\n",
    "from matplotlib.colors import LogNorm\n",
    "\n",
    "from mpl_toolkits.axes_grid1 import make_axes_locatable\n",
    "\n",
    "import matplotlib.ticker                         # here's where the formatter is\n",
    "from matplotlib.ticker import (MultipleLocator, FormatStrFormatter,\n",
    "                               AutoMinorLocator)\n",
    "\n",
    "from astropy.io import fits\n",
    "from astropy.time import Time"
   ]
  },
  {
   "cell_type": "code",
   "execution_count": 6,
   "id": "e49ab956",
   "metadata": {
    "execution": {
     "iopub.execute_input": "2023-12-20T09:27:22.332942Z",
     "iopub.status.busy": "2023-12-20T09:27:22.332640Z",
     "iopub.status.idle": "2023-12-20T09:27:22.335290Z",
     "shell.execute_reply": "2023-12-20T09:27:22.334918Z",
     "shell.execute_reply.started": "2023-12-20T09:27:22.332928Z"
    },
    "tags": []
   },
   "outputs": [],
   "source": [
    "from IPython.display import display, HTML"
   ]
  },
  {
   "cell_type": "code",
   "execution_count": 7,
   "id": "07168a2e",
   "metadata": {
    "execution": {
     "iopub.execute_input": "2023-12-20T09:27:22.336844Z",
     "iopub.status.busy": "2023-12-20T09:27:22.336724Z",
     "iopub.status.idle": "2023-12-20T09:27:22.623425Z",
     "shell.execute_reply": "2023-12-20T09:27:22.622963Z",
     "shell.execute_reply.started": "2023-12-20T09:27:22.336832Z"
    },
    "tags": []
   },
   "outputs": [],
   "source": [
    "import lsst.afw.display as afwDisplay\n",
    "afwDisplay.setDefaultBackend('matplotlib')"
   ]
  },
  {
   "cell_type": "code",
   "execution_count": 8,
   "id": "437a1418",
   "metadata": {
    "execution": {
     "iopub.execute_input": "2023-12-20T09:27:22.624320Z",
     "iopub.status.busy": "2023-12-20T09:27:22.624041Z",
     "iopub.status.idle": "2023-12-20T09:27:23.000421Z",
     "shell.execute_reply": "2023-12-20T09:27:23.000036Z",
     "shell.execute_reply.started": "2023-12-20T09:27:22.624307Z"
    },
    "tags": []
   },
   "outputs": [],
   "source": [
    "import lsst.daf.butler as dafButler"
   ]
  },
  {
   "cell_type": "code",
   "execution_count": 9,
   "id": "6e21fce6",
   "metadata": {
    "execution": {
     "iopub.execute_input": "2023-12-20T09:27:23.001068Z",
     "iopub.status.busy": "2023-12-20T09:27:23.000945Z",
     "iopub.status.idle": "2023-12-20T09:27:29.542622Z",
     "shell.execute_reply": "2023-12-20T09:27:29.542216Z",
     "shell.execute_reply.started": "2023-12-20T09:27:23.001056Z"
    },
    "tags": []
   },
   "outputs": [],
   "source": [
    "repo = \"/sdf/group/rubin/repo/main\"\n",
    "#repo=\"/sdf/group/rubin/repo/oga/\"\n",
    "butler = dafButler.Butler(repo)\n",
    "registry = butler.registry"
   ]
  },
  {
   "cell_type": "code",
   "execution_count": 10,
   "id": "c6f26349",
   "metadata": {
    "execution": {
     "iopub.execute_input": "2023-12-20T09:27:29.543217Z",
     "iopub.status.busy": "2023-12-20T09:27:29.543092Z",
     "iopub.status.idle": "2023-12-20T09:27:29.545274Z",
     "shell.execute_reply": "2023-12-20T09:27:29.544999Z",
     "shell.execute_reply.started": "2023-12-20T09:27:29.543205Z"
    },
    "tags": []
   },
   "outputs": [],
   "source": [
    "collection='LATISS/raw/all'"
   ]
  },
  {
   "cell_type": "markdown",
   "id": "3a7b35c7",
   "metadata": {},
   "source": [
    "## List of Exposures"
   ]
  },
  {
   "cell_type": "code",
   "execution_count": 11,
   "id": "473cdd14",
   "metadata": {
    "execution": {
     "iopub.execute_input": "2023-12-20T09:27:29.545801Z",
     "iopub.status.busy": "2023-12-20T09:27:29.545685Z",
     "iopub.status.idle": "2023-12-20T09:27:29.551123Z",
     "shell.execute_reply": "2023-12-20T09:27:29.550824Z",
     "shell.execute_reply.started": "2023-12-20T09:27:29.545790Z"
    },
    "tags": []
   },
   "outputs": [],
   "source": [
    "df_exposure = pd.DataFrame(columns=['id', 'obs_id','day_obs', 'seq_num','time_start','time_end' ,'type', 'target','filter','zenith_angle','expos','ra','dec','skyangle','azimuth','zenith','science_program','jd','mjd'])"
   ]
  },
  {
   "cell_type": "code",
   "execution_count": 12,
   "id": "0b34e4fd",
   "metadata": {
    "execution": {
     "iopub.execute_input": "2023-12-20T09:27:29.551639Z",
     "iopub.status.busy": "2023-12-20T09:27:29.551524Z",
     "iopub.status.idle": "2023-12-20T09:27:29.555571Z",
     "shell.execute_reply": "2023-12-20T09:27:29.555298Z",
     "shell.execute_reply.started": "2023-12-20T09:27:29.551628Z"
    },
    "tags": []
   },
   "outputs": [
    {
     "name": "stdout",
     "output_type": "stream",
     "text": [
      "exposure: \n",
      "  instrument: str\n",
      "  id: int\n",
      "  physical_filter: str\n",
      "  obs_id: str\n",
      "  exposure_time: float\n",
      "  dark_time: float\n",
      "  observation_type: str\n",
      "  observation_reason: str\n",
      "  day_obs: int\n",
      "  seq_num: int\n",
      "  seq_start: int\n",
      "  seq_end: int\n",
      "  group_name: str\n",
      "  group_id: int\n",
      "  target_name: str\n",
      "  science_program: str\n",
      "  tracking_ra: float\n",
      "  tracking_dec: float\n",
      "  sky_angle: float\n",
      "  azimuth: float\n",
      "  zenith_angle: float\n",
      "  has_simulated: bool\n",
      "  timespan: lsst.daf.butler.Timespan\n"
     ]
    }
   ],
   "source": [
    "print(butler.registry.dimensions[\"exposure\"].RecordClass.fields)"
   ]
  },
  {
   "cell_type": "code",
   "execution_count": null,
   "id": "f2c9f07f",
   "metadata": {
    "execution": {
     "iopub.execute_input": "2023-12-20T09:27:29.556086Z",
     "iopub.status.busy": "2023-12-20T09:27:29.555965Z"
    },
    "tags": []
   },
   "outputs": [
    {
     "name": "stdout",
     "output_type": "stream",
     "text": [
      "----------------------------------------------------- 0 ---------------------------------------------------------\n",
      "exposure:\n",
      "  instrument: 'LATISS'\n",
      "  id: 2022062800004\n",
      "  physical_filter: 'SDSSr~empty'\n",
      "  obs_id: 'AT_O_20220628_000004'\n",
      "  exposure_time: 0.0\n",
      "  dark_time: 0.103406\n",
      "  observation_type: 'bias'\n",
      "  observation_reason: 'bias'\n",
      "  day_obs: 20220628\n",
      "  seq_num: 4\n",
      "  seq_start: 4\n",
      "  seq_end: 4\n",
      "  group_name: '2022-06-28T17:03:59.508'\n",
      "  group_id: 2363654395080000\n",
      "  target_name: 'Park position'\n",
      "  science_program: 'unknown'\n",
      "  tracking_ra: None\n",
      "  tracking_dec: None\n",
      "  sky_angle: None\n",
      "  azimuth: None\n",
      "  zenith_angle: None\n",
      "  has_simulated: False\n",
      "  timespan: Timespan(begin=astropy.time.Time('2022-06-28 17:03:59.681996', scale='tai', format='iso'), end=astropy.time.Time('2022-06-28 17:03:59.693000', scale='tai', format='iso'))\n",
      "\t id:                   2022062800004\n",
      "\t day_obs:              20220628\n",
      "\t seq_num:              4\n",
      "\t type-of-observation:  bias\n",
      "\t target:               Park position\n",
      "59758.71110743051 2459759.2111074305\n",
      "----------------------------------------------------- 1 ---------------------------------------------------------\n",
      "exposure:\n",
      "  instrument: 'LATISS'\n",
      "  id: 2022070600001\n",
      "  physical_filter: 'unknown~unknown'\n",
      "  obs_id: 'AT_O_20220706_000001'\n",
      "  exposure_time: 5.0\n",
      "  dark_time: 5.24451\n",
      "  observation_type: 'test'\n",
      "  observation_reason: 'unknown'\n",
      "  day_obs: 20220706\n",
      "  seq_num: 1\n",
      "  seq_start: 1\n",
      "  seq_end: 1\n",
      "  group_name: '2022070600001'\n",
      "  group_id: 2022070600001\n",
      "  target_name: 'UNKNOWN'\n",
      "  science_program: 'unknown'\n",
      "  tracking_ra: None\n",
      "  tracking_dec: None\n",
      "  sky_angle: None\n",
      "  azimuth: None\n",
      "  zenith_angle: None\n",
      "  has_simulated: False\n",
      "  timespan: Timespan(begin=astropy.time.Time('2022-07-07 00:07:28.587991', scale='tai', format='iso'), end=astropy.time.Time('2022-07-07 00:07:33.832000', scale='tai', format='iso'))\n",
      "\t id:                   2022070600001\n",
      "\t day_obs:              20220706\n",
      "\t seq_num:              1\n",
      "\t type-of-observation:  test\n",
      "\t target:               UNKNOWN\n",
      "59767.00519199064 2459767.5051919906\n",
      "----------------------------------------------------- 2 ---------------------------------------------------------\n",
      "exposure:\n",
      "  instrument: 'LATISS'\n",
      "  id: 2022070700001\n",
      "  physical_filter: 'empty~ronchi170lpmm'\n",
      "  obs_id: 'AT_O_20220707_000001'\n",
      "  exposure_time: 0.0\n",
      "  dark_time: 0.0110269\n",
      "  observation_type: 'bias'\n",
      "  observation_reason: 'bias'\n",
      "  day_obs: 20220707\n",
      "  seq_num: 1\n",
      "  seq_start: 1\n",
      "  seq_end: 1\n",
      "  group_name: '2022-07-07T13:58:52.184'\n",
      "  group_id: 2371319321840000\n",
      "  target_name: 'UNKNOWN'\n",
      "  science_program: 'unknown'\n",
      "  tracking_ra: None\n",
      "  tracking_dec: None\n",
      "  sky_angle: None\n",
      "  azimuth: None\n",
      "  zenith_angle: None\n",
      "  has_simulated: False\n",
      "  timespan: Timespan(begin=astropy.time.Time('2022-07-07 13:58:52.282014', scale='tai', format='iso'), end=astropy.time.Time('2022-07-07 13:58:52.293000', scale='tai', format='iso'))\n",
      "\t id:                   2022070700001\n",
      "\t day_obs:              20220707\n",
      "\t seq_num:              1\n",
      "\t type-of-observation:  bias\n",
      "\t target:               UNKNOWN\n",
      "59767.58254956035 2459768.0825495603\n",
      "----------------------------------------------------- 3 ---------------------------------------------------------\n",
      "exposure:\n",
      "  instrument: 'LATISS'\n",
      "  id: 2022071100001\n",
      "  physical_filter: 'FELH0600~holo4_003'\n",
      "  obs_id: 'AT_O_20220711_000001'\n",
      "  exposure_time: 0.0\n",
      "  dark_time: 0.0110099\n",
      "  observation_type: 'bias'\n",
      "  observation_reason: 'bias'\n",
      "  day_obs: 20220711\n",
      "  seq_num: 1\n",
      "  seq_start: 1\n",
      "  seq_end: 1\n",
      "  group_name: '2022-07-11T18:15:33.507'\n",
      "  group_id: 2374929335070000\n",
      "  target_name: 'UNKNOWN'\n",
      "  science_program: 'unknown'\n",
      "  tracking_ra: None\n",
      "  tracking_dec: None\n",
      "  sky_angle: None\n",
      "  azimuth: None\n",
      "  zenith_angle: None\n",
      "  has_simulated: False\n",
      "  timespan: Timespan(begin=astropy.time.Time('2022-07-11 18:15:33.602017', scale='tai', format='iso'), end=astropy.time.Time('2022-07-11 18:15:33.613000', scale='tai', format='iso'))\n",
      "\t id:                   2022071100001\n",
      "\t day_obs:              20220711\n",
      "\t seq_num:              1\n",
      "\t type-of-observation:  bias\n",
      "\t target:               UNKNOWN\n",
      "59771.7608055789 2459772.260805579\n",
      "----------------------------------------------------- 4 ---------------------------------------------------------\n",
      "exposure:\n",
      "  instrument: 'LATISS'\n",
      "  id: 2022071200001\n",
      "  physical_filter: 'SDSSg~holo4_003'\n",
      "  obs_id: 'AT_O_20220712_000001'\n",
      "  exposure_time: 0.0\n",
      "  dark_time: 0.00920224\n",
      "  observation_type: 'bias'\n",
      "  observation_reason: 'bias'\n",
      "  day_obs: 20220712\n",
      "  seq_num: 1\n",
      "  seq_start: 1\n",
      "  seq_end: 1\n",
      "  group_name: '2022-07-12T15:42:44.109'\n",
      "  group_id: 2375701641090000\n",
      "  target_name: 'UNKNOWN'\n",
      "  science_program: 'unknown'\n",
      "  tracking_ra: None\n",
      "  tracking_dec: None\n",
      "  sky_angle: None\n",
      "  azimuth: None\n",
      "  zenith_angle: None\n",
      "  has_simulated: False\n",
      "  timespan: Timespan(begin=astropy.time.Time('2022-07-12 15:42:44.195989', scale='tai', format='iso'), end=astropy.time.Time('2022-07-12 15:42:44.205000', scale='tai', format='iso'))\n",
      "\t id:                   2022071200001\n",
      "\t day_obs:              20220712\n",
      "\t seq_num:              1\n",
      "\t type-of-observation:  bias\n",
      "\t target:               UNKNOWN\n",
      "59772.65467819432 2459773.1546781943\n",
      ">>>   Unexpected error: <class 'AttributeError'>\n",
      ">>>   Unexpected error: <class 'AttributeError'>\n",
      ">>>   Unexpected error: <class 'AttributeError'>\n",
      ">>>   Unexpected error: <class 'AttributeError'>\n",
      ">>>   Unexpected error: <class 'AttributeError'>\n",
      ">>>   Unexpected error: <class 'AttributeError'>\n",
      ">>>   Unexpected error: <class 'AttributeError'>\n",
      ">>>   Unexpected error: <class 'AttributeError'>\n",
      ">>>   Unexpected error: <class 'AttributeError'>\n",
      ">>>   Unexpected error: <class 'AttributeError'>\n",
      ">>>   Unexpected error: <class 'AttributeError'>\n",
      ">>>   Unexpected error: <class 'AttributeError'>\n",
      ">>>   Unexpected error: <class 'AttributeError'>\n",
      ">>>   Unexpected error: <class 'AttributeError'>\n",
      ">>>   Unexpected error: <class 'AttributeError'>\n",
      ">>>   Unexpected error: <class 'AttributeError'>\n",
      ">>>   Unexpected error: <class 'AttributeError'>\n",
      ">>>   Unexpected error: <class 'AttributeError'>\n",
      ">>>   Unexpected error: <class 'AttributeError'>\n",
      ">>>   Unexpected error: <class 'AttributeError'>\n",
      ">>>   Unexpected error: <class 'AttributeError'>\n",
      ">>>   Unexpected error: <class 'AttributeError'>\n",
      ">>>   Unexpected error: <class 'AttributeError'>\n",
      ">>>   Unexpected error: <class 'AttributeError'>\n",
      ">>>   Unexpected error: <class 'AttributeError'>\n",
      ">>>   Unexpected error: <class 'AttributeError'>\n",
      ">>>   Unexpected error: <class 'AttributeError'>\n",
      ">>>   Unexpected error: <class 'AttributeError'>\n",
      ">>>   Unexpected error: <class 'AttributeError'>\n",
      ">>>   Unexpected error: <class 'AttributeError'>\n",
      ">>>   Unexpected error: <class 'AttributeError'>\n",
      ">>>   Unexpected error: <class 'AttributeError'>\n",
      ">>>   Unexpected error: <class 'AttributeError'>\n",
      ">>>   Unexpected error: <class 'AttributeError'>\n",
      ">>>   Unexpected error: <class 'AttributeError'>\n",
      ">>>   Unexpected error: <class 'AttributeError'>\n",
      ">>>   Unexpected error: <class 'AttributeError'>\n",
      ">>>   Unexpected error: <class 'AttributeError'>\n",
      ">>>   Unexpected error: <class 'AttributeError'>\n",
      ">>>   Unexpected error: <class 'AttributeError'>\n",
      ">>>   Unexpected error: <class 'AttributeError'>\n",
      ">>>   Unexpected error: <class 'AttributeError'>\n",
      ">>>   Unexpected error: <class 'AttributeError'>\n",
      ">>>   Unexpected error: <class 'AttributeError'>\n",
      ">>>   Unexpected error: <class 'AttributeError'>\n",
      ">>>   Unexpected error: <class 'AttributeError'>\n",
      ">>>   Unexpected error: <class 'AttributeError'>\n",
      ">>>   Unexpected error: <class 'AttributeError'>\n",
      ">>>   Unexpected error: <class 'AttributeError'>\n",
      ">>>   Unexpected error: <class 'AttributeError'>\n",
      ">>>   Unexpected error: <class 'AttributeError'>\n",
      ">>>   Unexpected error: <class 'AttributeError'>\n",
      ">>>   Unexpected error: <class 'AttributeError'>\n",
      ">>>   Unexpected error: <class 'AttributeError'>\n",
      ">>>   Unexpected error: <class 'AttributeError'>\n",
      ">>>   Unexpected error: <class 'AttributeError'>\n",
      ">>>   Unexpected error: <class 'AttributeError'>\n",
      ">>>   Unexpected error: <class 'AttributeError'>\n",
      ">>>   Unexpected error: <class 'AttributeError'>\n",
      ">>>   Unexpected error: <class 'AttributeError'>\n",
      ">>>   Unexpected error: <class 'AttributeError'>\n",
      ">>>   Unexpected error: <class 'AttributeError'>\n",
      ">>>   Unexpected error: <class 'AttributeError'>\n",
      ">>>   Unexpected error: <class 'AttributeError'>\n",
      ">>>   Unexpected error: <class 'AttributeError'>\n",
      ">>>   Unexpected error: <class 'AttributeError'>\n",
      ">>>   Unexpected error: <class 'AttributeError'>\n",
      ">>>   Unexpected error: <class 'AttributeError'>\n",
      ">>>   Unexpected error: <class 'AttributeError'>\n",
      ">>>   Unexpected error: <class 'AttributeError'>\n",
      ">>>   Unexpected error: <class 'AttributeError'>\n",
      ">>>   Unexpected error: <class 'AttributeError'>\n",
      ">>>   Unexpected error: <class 'AttributeError'>\n",
      ">>>   Unexpected error: <class 'AttributeError'>\n",
      ">>>   Unexpected error: <class 'AttributeError'>\n",
      ">>>   Unexpected error: <class 'AttributeError'>\n",
      ">>>   Unexpected error: <class 'AttributeError'>\n",
      ">>>   Unexpected error: <class 'AttributeError'>\n",
      ">>>   Unexpected error: <class 'AttributeError'>\n",
      ">>>   Unexpected error: <class 'AttributeError'>\n",
      ">>>   Unexpected error: <class 'AttributeError'>\n",
      ">>>   Unexpected error: <class 'AttributeError'>\n",
      ">>>   Unexpected error: <class 'AttributeError'>\n",
      ">>>   Unexpected error: <class 'AttributeError'>\n",
      ">>>   Unexpected error: <class 'AttributeError'>\n",
      ">>>   Unexpected error: <class 'AttributeError'>\n",
      ">>>   Unexpected error: <class 'AttributeError'>\n",
      ">>>   Unexpected error: <class 'AttributeError'>\n",
      ">>>   Unexpected error: <class 'AttributeError'>\n",
      ">>>   Unexpected error: <class 'AttributeError'>\n",
      ">>>   Unexpected error: <class 'AttributeError'>\n",
      ">>>   Unexpected error: <class 'AttributeError'>\n",
      ">>>   Unexpected error: <class 'AttributeError'>\n",
      ">>>   Unexpected error: <class 'AttributeError'>\n",
      ">>>   Unexpected error: <class 'AttributeError'>\n",
      ">>>   Unexpected error: <class 'AttributeError'>\n",
      ">>>   Unexpected error: <class 'AttributeError'>\n",
      ">>>   Unexpected error: <class 'AttributeError'>\n",
      ">>>   Unexpected error: <class 'AttributeError'>\n",
      ">>>   Unexpected error: <class 'AttributeError'>\n",
      ">>>   Unexpected error: <class 'AttributeError'>\n",
      ">>>   Unexpected error: <class 'AttributeError'>\n",
      ">>>   Unexpected error: <class 'AttributeError'>\n",
      ">>>   Unexpected error: <class 'AttributeError'>\n",
      ">>>   Unexpected error: <class 'AttributeError'>\n",
      ">>>   Unexpected error: <class 'AttributeError'>\n",
      ">>>   Unexpected error: <class 'AttributeError'>\n",
      ">>>   Unexpected error: <class 'AttributeError'>\n",
      ">>>   Unexpected error: <class 'AttributeError'>\n",
      ">>>   Unexpected error: <class 'AttributeError'>\n",
      ">>>   Unexpected error: <class 'AttributeError'>\n",
      ">>>   Unexpected error: <class 'AttributeError'>\n",
      ">>>   Unexpected error: <class 'AttributeError'>\n",
      ">>>   Unexpected error: <class 'AttributeError'>\n",
      ">>>   Unexpected error: <class 'AttributeError'>\n",
      ">>>   Unexpected error: <class 'AttributeError'>\n",
      ">>>   Unexpected error: <class 'AttributeError'>\n",
      ">>>   Unexpected error: <class 'AttributeError'>\n",
      ">>>   Unexpected error: <class 'AttributeError'>\n",
      ">>>   Unexpected error: <class 'AttributeError'>\n",
      ">>>   Unexpected error: <class 'AttributeError'>\n",
      ">>>   Unexpected error: <class 'AttributeError'>\n",
      ">>>   Unexpected error: <class 'AttributeError'>\n",
      ">>>   Unexpected error: <class 'AttributeError'>\n",
      ">>>   Unexpected error: <class 'AttributeError'>\n",
      ">>>   Unexpected error: <class 'AttributeError'>\n",
      ">>>   Unexpected error: <class 'AttributeError'>\n",
      ">>>   Unexpected error: <class 'AttributeError'>\n",
      ">>>   Unexpected error: <class 'AttributeError'>\n",
      ">>>   Unexpected error: <class 'AttributeError'>\n",
      ">>>   Unexpected error: <class 'AttributeError'>\n",
      ">>>   Unexpected error: <class 'AttributeError'>\n",
      ">>>   Unexpected error: <class 'AttributeError'>\n",
      ">>>   Unexpected error: <class 'AttributeError'>\n",
      ">>>   Unexpected error: <class 'AttributeError'>\n",
      ">>>   Unexpected error: <class 'AttributeError'>\n",
      ">>>   Unexpected error: <class 'AttributeError'>\n",
      ">>>   Unexpected error: <class 'AttributeError'>\n",
      ">>>   Unexpected error: <class 'AttributeError'>\n",
      ">>>   Unexpected error: <class 'AttributeError'>\n",
      ">>>   Unexpected error: <class 'AttributeError'>\n",
      ">>>   Unexpected error: <class 'AttributeError'>\n",
      ">>>   Unexpected error: <class 'AttributeError'>\n",
      ">>>   Unexpected error: <class 'AttributeError'>\n",
      ">>>   Unexpected error: <class 'AttributeError'>\n",
      ">>>   Unexpected error: <class 'AttributeError'>\n",
      ">>>   Unexpected error: <class 'AttributeError'>\n",
      ">>>   Unexpected error: <class 'AttributeError'>\n",
      ">>>   Unexpected error: <class 'AttributeError'>\n",
      ">>>   Unexpected error: <class 'AttributeError'>\n",
      ">>>   Unexpected error: <class 'AttributeError'>\n",
      ">>>   Unexpected error: <class 'AttributeError'>\n",
      ">>>   Unexpected error: <class 'AttributeError'>\n",
      ">>>   Unexpected error: <class 'AttributeError'>\n",
      ">>>   Unexpected error: <class 'AttributeError'>\n",
      ">>>   Unexpected error: <class 'AttributeError'>\n",
      ">>>   Unexpected error: <class 'AttributeError'>\n",
      ">>>   Unexpected error: <class 'AttributeError'>\n",
      ">>>   Unexpected error: <class 'AttributeError'>\n",
      ">>>   Unexpected error: <class 'AttributeError'>\n",
      ">>>   Unexpected error: <class 'AttributeError'>\n",
      ">>>   Unexpected error: <class 'AttributeError'>\n",
      ">>>   Unexpected error: <class 'AttributeError'>\n",
      ">>>   Unexpected error: <class 'AttributeError'>\n",
      ">>>   Unexpected error: <class 'AttributeError'>\n",
      ">>>   Unexpected error: <class 'AttributeError'>\n",
      ">>>   Unexpected error: <class 'AttributeError'>\n",
      ">>>   Unexpected error: <class 'AttributeError'>\n",
      ">>>   Unexpected error: <class 'AttributeError'>\n",
      ">>>   Unexpected error: <class 'AttributeError'>\n",
      ">>>   Unexpected error: <class 'AttributeError'>\n",
      ">>>   Unexpected error: <class 'AttributeError'>\n",
      ">>>   Unexpected error: <class 'AttributeError'>\n",
      ">>>   Unexpected error: <class 'AttributeError'>\n"
     ]
    }
   ],
   "source": [
    "for count, info in enumerate(registry.queryDimensionRecords('exposure',where= \"instrument='LATISS'\")):\n",
    "    \n",
    "    \n",
    "    try:\n",
    "        df_exposure.loc[count] = [info.id, info.obs_id, info.day_obs, info.seq_num,pd.to_datetime(info.timespan.begin.to_string()),pd.to_datetime(info.timespan.end.to_string()) ,info.observation_type, info.target_name, info.physical_filter, info.zenith_angle, \\\n",
    "                             info.exposure_time,info.tracking_ra, info.tracking_dec, info.sky_angle,info.azimuth ,info.zenith_angle, info.science_program,\n",
    "                             info.timespan.begin.jd,info.timespan.begin.mjd ]\n",
    "    except:\n",
    "        print(\">>>   Unexpected error:\", sys.exc_info()[0])\n",
    "        info_timespan_begin_to_string = \"2021-01-01 00:00:00.00\"\n",
    "        info_timespan_end_to_string = \"2051-01-01 00:00:00.00\"\n",
    "        info_timespan_begin_jd = 0\n",
    "        info_timespan_begin_mjd = 0\n",
    "        df_exposure.loc[count] = [info.id, info.obs_id, info.day_obs, info.seq_num,\n",
    "                                  pd.to_datetime(info_timespan_begin_to_string),\n",
    "                                  pd.to_datetime(info_timespan_end_to_string) ,\n",
    "                                  info.observation_type, info.target_name, \n",
    "                                  info.physical_filter, info.zenith_angle, \\\n",
    "                             info.exposure_time,info.tracking_ra, info.tracking_dec, info.sky_angle,info.azimuth ,info.zenith_angle, info.science_program,\n",
    "                             info_timespan_begin_jd, info_timespan_begin_mjd  ]\n",
    " \n",
    "    \n",
    "    if count < 5:\n",
    "        print(\"-----------------------------------------------------\",count,\"---------------------------------------------------------\")\n",
    "        print(info)\n",
    "        print(\"\\t id:                  \",info.id)\n",
    "        print(\"\\t day_obs:             \",info.day_obs)\n",
    "        print(\"\\t seq_num:             \",info.seq_num)\n",
    "        print(\"\\t type-of-observation: \",info.observation_type)\n",
    "        print(\"\\t target:              \",info.target_name)\n",
    "        \n",
    "        mjd = Time(info.timespan.begin.to_string()).mjd\n",
    "        jd = Time(info.timespan.begin.to_string()).jd\n",
    "        print(mjd,jd)\n",
    "    "
   ]
  },
  {
   "cell_type": "code",
   "execution_count": null,
   "id": "acce44bb",
   "metadata": {
    "tags": []
   },
   "outputs": [],
   "source": [
    "info"
   ]
  },
  {
   "cell_type": "code",
   "execution_count": null,
   "id": "f6a8ba08",
   "metadata": {
    "tags": []
   },
   "outputs": [],
   "source": []
  },
  {
   "cell_type": "code",
   "execution_count": null,
   "id": "ae0cf52c",
   "metadata": {
    "tags": []
   },
   "outputs": [],
   "source": [
    "df_exposure"
   ]
  },
  {
   "cell_type": "code",
   "execution_count": null,
   "id": "591c59d1",
   "metadata": {
    "tags": []
   },
   "outputs": [],
   "source": [
    "df_exposure = df_exposure.astype({\"id\": int,'day_obs': int,'seq_num':int})"
   ]
  },
  {
   "cell_type": "code",
   "execution_count": null,
   "id": "4b19cfd8",
   "metadata": {
    "tags": []
   },
   "outputs": [],
   "source": [
    "df_exposure"
   ]
  },
  {
   "cell_type": "markdown",
   "id": "649bd87e",
   "metadata": {},
   "source": [
    "## Selection of science"
   ]
  },
  {
   "cell_type": "code",
   "execution_count": null,
   "id": "34b80523",
   "metadata": {
    "tags": []
   },
   "outputs": [],
   "source": [
    "df_science = df_exposure[df_exposure.type == 'science']"
   ]
  },
  {
   "cell_type": "code",
   "execution_count": null,
   "id": "67fa201d",
   "metadata": {
    "tags": []
   },
   "outputs": [],
   "source": [
    "df_science.sort_values(by=\"id\",ascending=True,inplace=True)"
   ]
  },
  {
   "cell_type": "code",
   "execution_count": null,
   "id": "4cca897e-37ff-40ad-a88c-cee67f94a308",
   "metadata": {},
   "outputs": [],
   "source": [
    "df_science.head(60)"
   ]
  },
  {
   "cell_type": "code",
   "execution_count": null,
   "id": "fd7524c2",
   "metadata": {
    "tags": []
   },
   "outputs": [],
   "source": [
    "df_science.tail(60)"
   ]
  },
  {
   "cell_type": "code",
   "execution_count": null,
   "id": "046606bd",
   "metadata": {
    "tags": []
   },
   "outputs": [],
   "source": [
    "df_science.day_obs.unique()"
   ]
  },
  {
   "cell_type": "markdown",
   "id": "78155629",
   "metadata": {},
   "source": [
    "## Selection of date"
   ]
  },
  {
   "cell_type": "markdown",
   "id": "2d0e8b94",
   "metadata": {},
   "source": [
    "2021-02-16  2021-02-18  2021-06-08  2021-06-10  2021-07-07  2021-09-07  2021-09-09  2021-10-06  2021-11-02  2021-11-04  2022-02-16  2022-03-15  2022-03-17  20220502  \n",
    "2021-02-17  2021-03-11  2021-06-09  2021-07-06  2021-07-08  2021-09-08  2021-10-05  2021-10-07  2021-11-03  2022-02-15  2022-02-17  2022-03-16  2022-03-18  20220503 20220524 20220607 20220608 20220609"
   ]
  },
  {
   "cell_type": "markdown",
   "id": "906174c8",
   "metadata": {},
   "source": [
    "### Add those\n",
    "\n",
    "20220504 - Not existing"
   ]
  },
  {
   "cell_type": "code",
   "execution_count": null,
   "id": "3246dd3a",
   "metadata": {
    "tags": []
   },
   "outputs": [],
   "source": [
    "#date_sel = 20220630\n",
    "#date_sel = 20220630\n",
    "#date_sel = 20221208\n",
    "#date_sel = 20221209\n",
    "\n",
    "# data in january\n",
    "#date_sel= 20230118\n",
    "#date_sel= 20230131\n",
    "\n",
    "# data in February\n",
    "#date_sel = 20230201\n",
    "#date_sel = 20230202\n",
    "#date_sel = 20230704\n",
    "\n",
    "#date_sel = 20230510\n",
    "#date_sel = 20230509\n",
    "#date_sel = 20230511\n",
    "\n",
    "#date_sel = 20230705\n",
    "#date_sel = 20230706\n",
    "\n",
    "#july 2023\n",
    "#date_sel = 20230718\n",
    "#date_sel = 20230720\n",
    "\n",
    "#august 2023\n",
    "#date_sel = 20230801\n",
    "#date_sel = 20230802\n",
    "\n",
    "#date_sel = 20230815\n",
    "#date_sel = 20230817\n",
    "\n",
    "\n",
    "#september 2023\n",
    "#date_sel = 20230912\n",
    "#date_sel = 20230913\n",
    "#date_sel = 20230914\n",
    "\n",
    "# October 2021\n",
    "date_sel = 20211006\n",
    "\n",
    "# November 2021\n",
    "date_sel = 20211103"
   ]
  },
  {
   "cell_type": "markdown",
   "id": "80490543",
   "metadata": {},
   "source": [
    "## Query Dimension records on Exposures"
   ]
  },
  {
   "cell_type": "code",
   "execution_count": null,
   "id": "10542709",
   "metadata": {
    "tags": []
   },
   "outputs": [],
   "source": [
    "where_clause = f\"instrument=\\'LATISS\\' AND exposure.day_obs={date_sel} AND exposure.science_program=\\'spec\\'\""
   ]
  },
  {
   "cell_type": "code",
   "execution_count": null,
   "id": "578d5f83",
   "metadata": {
    "tags": []
   },
   "outputs": [],
   "source": [
    "results_exposures = registry.queryDimensionRecords('exposure',datasets=\"raw\",collections = 'LATISS/raw/all',where=where_clause)"
   ]
  },
  {
   "cell_type": "markdown",
   "id": "09337cd3",
   "metadata": {},
   "source": [
    "## Select date"
   ]
  },
  {
   "cell_type": "code",
   "execution_count": null,
   "id": "39ebfa75",
   "metadata": {
    "tags": []
   },
   "outputs": [],
   "source": [
    "df_science_selected = df_science[df_science.day_obs == date_sel ]"
   ]
  },
  {
   "cell_type": "code",
   "execution_count": null,
   "id": "20f8d473",
   "metadata": {
    "tags": []
   },
   "outputs": [],
   "source": [
    "len(df_science_selected)"
   ]
  },
  {
   "cell_type": "markdown",
   "id": "05efcea4",
   "metadata": {},
   "source": [
    "# List of filters"
   ]
  },
  {
   "cell_type": "code",
   "execution_count": null,
   "id": "2507df00",
   "metadata": {
    "tags": []
   },
   "outputs": [],
   "source": [
    "list_of_filters = df_science_selected['filter'].unique()\n",
    "list_of_filters"
   ]
  },
  {
   "cell_type": "code",
   "execution_count": null,
   "id": "4a7fadb9",
   "metadata": {
    "tags": []
   },
   "outputs": [],
   "source": [
    "selected_filters = []\n",
    "for filt in list_of_filters:\n",
    "    #flag_sel = (filt.find('holo4') != -1) or (filt.find('ronchi90lpmm') != -1) or (filt.find('ronchi170lpmm') != -1)\n",
    "    flag_sel = (filt.find('holo4') != -1) \n",
    "    #flag_sel = (filt.find('ronchi170') != -1) \n",
    "    if flag_sel:\n",
    "        selected_filters.append(filt) \n",
    "selected_filters = np.array(selected_filters)\n",
    "selected_filters       "
   ]
  },
  {
   "cell_type": "code",
   "execution_count": null,
   "id": "1a7a1c3e",
   "metadata": {
    "tags": []
   },
   "outputs": [],
   "source": []
  },
  {
   "cell_type": "markdown",
   "id": "535cd339",
   "metadata": {},
   "source": [
    "## Selection of filter\n",
    "\n",
    "- But now we have a loop on filters"
   ]
  },
  {
   "cell_type": "code",
   "execution_count": null,
   "id": "688e227d",
   "metadata": {
    "tags": []
   },
   "outputs": [],
   "source": [
    "#idx_sel_filt = 0\n",
    "#selected_filter = selected_filters[0]\n",
    "#selected_filter"
   ]
  },
  {
   "cell_type": "markdown",
   "id": "b6ddb318",
   "metadata": {},
   "source": [
    "## Final selection of exposure\n",
    "\n",
    "- loop on selected filters"
   ]
  },
  {
   "cell_type": "code",
   "execution_count": null,
   "id": "a484ec57",
   "metadata": {
    "tags": []
   },
   "outputs": [],
   "source": [
    "pd.set_option('display.max_rows', None)"
   ]
  },
  {
   "cell_type": "code",
   "execution_count": null,
   "id": "758cf91d",
   "metadata": {
    "tags": []
   },
   "outputs": [],
   "source": [
    "all_def_science_selected_final = []\n",
    "\n",
    "for selected_filter in selected_filters:\n",
    "\n",
    "    print(selected_filter)\n",
    "    df_science_selected_final = df_science_selected[df_science_selected[\"filter\"] ==  selected_filter]\n",
    "    \n",
    "    #print(df_science_selected_final)\n",
    "    all_def_science_selected_final.append(df_science_selected_final.copy())\n",
    "    \n",
    "    df = df_science_selected_final\n",
    "    df_sel = df[['day_obs', 'seq_num']]\n",
    "    \n",
    "    \n",
    "    NN = len(df)\n",
    "    \n",
    "    if NN>0:\n",
    "        # build the line\n",
    "        \n",
    "        df_sel['line'] = df_sel.apply(lambda row: str(row['day_obs'])  + \" \" + str(row['seq_num']),axis = 1)\n",
    "    \n",
    "    \n",
    "         # prepare output\n",
    "        filename_out = \"visitdispersers_\"+ str(date_sel) + \"_filt_\" + selected_filter.replace('~','-') + \".list\"\n",
    "        print(filename_out)\n",
    "        \n",
    "        df_out = df_sel[[\"line\"]]\n",
    "        df_out.to_csv(filename_out, index=False, header=None)"
   ]
  },
  {
   "cell_type": "code",
   "execution_count": null,
   "id": "e5ea8132",
   "metadata": {
    "tags": []
   },
   "outputs": [],
   "source": [
    "N = len(all_def_science_selected_final)"
   ]
  },
  {
   "cell_type": "code",
   "execution_count": null,
   "id": "1faf67c2",
   "metadata": {
    "tags": []
   },
   "outputs": [],
   "source": [
    "if N>=1:\n",
    "    n0=len(all_def_science_selected_final[0])\n",
    "    display(all_def_science_selected_final[0])"
   ]
  },
  {
   "cell_type": "code",
   "execution_count": null,
   "id": "b9a0296b",
   "metadata": {
    "tags": []
   },
   "outputs": [],
   "source": [
    "if N>=2:\n",
    "    n1=len(all_def_science_selected_final[1])\n",
    "    display(all_def_science_selected_final[1])"
   ]
  },
  {
   "cell_type": "code",
   "execution_count": null,
   "id": "93600e3a",
   "metadata": {
    "tags": []
   },
   "outputs": [],
   "source": [
    "if N>=3:\n",
    "    n2=len(all_def_science_selected_final[2])\n",
    "    display(all_def_science_selected_final[2])"
   ]
  },
  {
   "cell_type": "code",
   "execution_count": null,
   "id": "0d92c304",
   "metadata": {
    "tags": []
   },
   "outputs": [],
   "source": [
    "if N>=4:\n",
    "    n3=len(all_def_science_selected_final[3])\n",
    "    display(all_def_science_selected_final[3])"
   ]
  },
  {
   "cell_type": "code",
   "execution_count": null,
   "id": "3be1cbfc",
   "metadata": {
    "tags": []
   },
   "outputs": [],
   "source": [
    "if N>=5:\n",
    "    n4=len(all_def_science_selected_final[4])\n",
    "    display(all_def_science_selected_final[4])"
   ]
  },
  {
   "cell_type": "code",
   "execution_count": null,
   "id": "3fcd4a34",
   "metadata": {
    "tags": []
   },
   "outputs": [],
   "source": [
    "df_forsave = pd.concat(all_def_science_selected_final)"
   ]
  },
  {
   "cell_type": "code",
   "execution_count": null,
   "id": "a766bc3b",
   "metadata": {
    "tags": []
   },
   "outputs": [],
   "source": [
    "filename_out_csv = \"holosummary_\"+ str(date_sel) + \".csv\"\n",
    "filename_out_excel = \"holosummary_\"+ str(date_sel) + \".xlsx\""
   ]
  },
  {
   "cell_type": "code",
   "execution_count": null,
   "id": "7f83f8e1",
   "metadata": {
    "tags": []
   },
   "outputs": [],
   "source": [
    "filename_out_csv"
   ]
  },
  {
   "cell_type": "code",
   "execution_count": null,
   "id": "969edf8a",
   "metadata": {
    "tags": []
   },
   "outputs": [],
   "source": [
    "df_forsave.to_csv(filename_out_csv) "
   ]
  },
  {
   "cell_type": "code",
   "execution_count": null,
   "id": "da53549e",
   "metadata": {
    "tags": []
   },
   "outputs": [],
   "source": [
    "#! pip install openpyxl"
   ]
  },
  {
   "cell_type": "code",
   "execution_count": null,
   "id": "b5cd02a0",
   "metadata": {
    "tags": []
   },
   "outputs": [],
   "source": [
    "df_forsave.to_excel(filename_out_excel) "
   ]
  },
  {
   "cell_type": "code",
   "execution_count": null,
   "id": "16ae4fd8",
   "metadata": {},
   "outputs": [],
   "source": []
  }
 ],
 "metadata": {
  "kernelspec": {
   "display_name": "LSST",
   "language": "python",
   "name": "lsst"
  },
  "language_info": {
   "codemirror_mode": {
    "name": "ipython",
    "version": 3
   },
   "file_extension": ".py",
   "mimetype": "text/x-python",
   "name": "python",
   "nbconvert_exporter": "python",
   "pygments_lexer": "ipython3",
   "version": "3.11.4"
  }
 },
 "nbformat": 4,
 "nbformat_minor": 5
}
