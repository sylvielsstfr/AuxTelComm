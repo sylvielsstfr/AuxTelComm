{
 "cells": [
  {
   "cell_type": "markdown",
   "id": "0b8c2138-5194-4d03-8b77-be24e2cc8ee3",
   "metadata": {},
   "source": [
    "# Query for existing collections in Repo Main"
   ]
  },
  {
   "cell_type": "markdown",
   "id": "740e34fb-3fef-45a8-941b-c229742ab016",
   "metadata": {},
   "source": [
    " work with Weakly_2022_44\n",
    "- use jupyter kernel LSST\n",
    "\n",
    "- author : Sylvie Dagoret-Campagne\n",
    "- affiliation : IJCLab\n",
    "\n",
    "- creation date : 2022/09/19\n",
    "- update : 2023/12/20\n"
   ]
  },
  {
   "cell_type": "markdown",
   "id": "67dedcf8-33cb-4ea9-ab1b-d5040def7ac6",
   "metadata": {},
   "source": [
    "## Example of query in shell\n",
    "\n",
    "      butler query-datasets /sdf/group/rubin/repo/main raw --collections=XXXXX\n",
    "      \n",
    "      buter query-collections /sdf/group/rubin/repo/main u/dagoret/*"
   ]
  },
  {
   "cell_type": "code",
   "execution_count": 1,
   "id": "ed2c3410-fe83-432e-ab87-9f4513fa8d8b",
   "metadata": {
    "execution": {
     "iopub.execute_input": "2023-12-20T20:37:52.652752Z",
     "iopub.status.busy": "2023-12-20T20:37:52.652636Z",
     "iopub.status.idle": "2023-12-20T20:37:52.996722Z",
     "shell.execute_reply": "2023-12-20T20:37:52.996166Z",
     "shell.execute_reply.started": "2023-12-20T20:37:52.652739Z"
    }
   },
   "outputs": [
    {
     "name": "stdout",
     "output_type": "stream",
     "text": [
      "analysis_tools        LOCAL:/home/d/dagoret/repos/repos_w_2023_44/analysis_tools \tsetup\n",
      "atmospec              LOCAL:/home/d/dagoret/repos/repos_w_2023_44/atmospec \tsetup\n",
      "eups                  LOCAL:/opt/lsst/software/stack/conda/miniconda3-py38_4.9.2/envs/lsst-scipipe-7.0.1/eups \tsetup\n",
      "spectractor           LOCAL:/home/d/dagoret/repos/repos_w_2023_44/Spectractor \tsetup\n"
     ]
    }
   ],
   "source": [
    "! eups list -s | grep LOCAL"
   ]
  },
  {
   "cell_type": "code",
   "execution_count": 2,
   "id": "70918d81-0cf6-4b0a-8f61-f5e5bec5b0e7",
   "metadata": {
    "execution": {
     "iopub.execute_input": "2023-12-20T20:37:52.997868Z",
     "iopub.status.busy": "2023-12-20T20:37:52.997724Z",
     "iopub.status.idle": "2023-12-20T20:37:53.331076Z",
     "shell.execute_reply": "2023-12-20T20:37:53.330544Z",
     "shell.execute_reply.started": "2023-12-20T20:37:52.997851Z"
    }
   },
   "outputs": [
    {
     "name": "stdout",
     "output_type": "stream",
     "text": [
      "   g4213664e8e+d053631def \tcurrent w_2023_44 setup\n"
     ]
    }
   ],
   "source": [
    "! eups list -s lsst_distrib"
   ]
  },
  {
   "cell_type": "code",
   "execution_count": 3,
   "id": "f8d9cfca-5881-48c1-b2cb-0f794a2e4091",
   "metadata": {
    "execution": {
     "iopub.execute_input": "2023-12-20T20:37:53.331964Z",
     "iopub.status.busy": "2023-12-20T20:37:53.331824Z",
     "iopub.status.idle": "2023-12-20T20:37:53.792426Z",
     "shell.execute_reply": "2023-12-20T20:37:53.791901Z",
     "shell.execute_reply.started": "2023-12-20T20:37:53.331948Z"
    }
   },
   "outputs": [],
   "source": [
    "import lsst.daf.butler as dafButler"
   ]
  },
  {
   "cell_type": "code",
   "execution_count": 4,
   "id": "1c81d99a-5e91-4ba1-ba4a-c66b37905b98",
   "metadata": {
    "execution": {
     "iopub.execute_input": "2023-12-20T20:37:53.793213Z",
     "iopub.status.busy": "2023-12-20T20:37:53.793067Z",
     "iopub.status.idle": "2023-12-20T20:38:00.060164Z",
     "shell.execute_reply": "2023-12-20T20:38:00.059735Z",
     "shell.execute_reply.started": "2023-12-20T20:37:53.793199Z"
    }
   },
   "outputs": [],
   "source": [
    "repo =  \"/sdf/group/rubin/repo/main\"\n",
    "#repo = \"/sdf/group/rubin/repo/oga/\"\n",
    "butler = dafButler.Butler(repo)\n",
    "registry = butler.registry"
   ]
  },
  {
   "cell_type": "code",
   "execution_count": 5,
   "id": "2ec90d56-d827-4ab5-a289-5a256527f23e",
   "metadata": {
    "execution": {
     "iopub.execute_input": "2023-12-20T20:38:00.061446Z",
     "iopub.status.busy": "2023-12-20T20:38:00.061290Z",
     "iopub.status.idle": "2023-12-20T20:38:00.084714Z",
     "shell.execute_reply": "2023-12-20T20:38:00.084330Z",
     "shell.execute_reply.started": "2023-12-20T20:38:00.061433Z"
    }
   },
   "outputs": [
    {
     "name": "stdout",
     "output_type": "stream",
     "text": [
      "u/dagoret/BPS_manyspectro_v34\n",
      "u/dagoret/BPS_manyspectro_v34/20230216T080856Z\n",
      "u/dagoret/BPS_manyspectro_v36\n",
      "u/dagoret/BPS_manyspectro_v36/20230217T163324Z\n",
      "u/dagoret/BPS_manyspectro_v37\n",
      "u/dagoret/BPS_manyspectro_v37/20230217T163516Z\n",
      "u/dagoret/notebook_test\n",
      "u/dagoret/notebook_test/20220305T093240Z\n",
      "u/dagoret/notebook_test/20220307T135007Z\n",
      "u/dagoret/notebook_test/20220307T145652Z\n",
      "u/dagoret/notebook_test/20220308T111348Z\n",
      "u/dagoret/notebook_test/20220308T144739Z\n",
      "u/dagoret/notebook_test/20220308T150146Z\n",
      "u/dagoret/notebook_test/20220308T154534Z\n",
      "u/dagoret/notebook_test/20220308T155734Z\n",
      "u/dagoret/notebook_test/20220308T160443Z\n",
      "u/dagoret/notebook_test/20220308T162616Z\n",
      "u/dagoret/notebook_test/20220308T165814Z\n",
      "u/dagoret/notebook_test/20220308T165933Z\n",
      "u/dagoret/notebook_test/20220308T170127Z\n",
      "u/dagoret/notebook_test/20220308T170853Z\n",
      "u/dagoret/notebook_test/20220308T172226Z\n",
      "u/dagoret/notebook_test/20220318T160720Z\n",
      "u/dagoret/notebook_test/20220515T122720Z\n",
      "u/dagoret/photom/test0\n",
      "u/dagoret/photom/test0/20221103T155757Z\n",
      "u/dagoret/scratch\n",
      "u/dagoret/scratch/20220929T114632Z\n",
      "u/dagoret/scratch/20220929T114848Z\n",
      "u/dagoret/scratch/20220929T115603Z\n",
      "u/dagoret/scratch_20230105\n",
      "u/dagoret/scratch_20230105/20230105T135437Z\n",
      "u/dagoret/spectro/noflat/FELH0600~holo4/20211103\n",
      "u/dagoret/spectro/noflat/FELH0600~holo4/20211103/20221031T141128Z\n",
      "u/dagoret/spectro/noflat/FELH0600~holo4/20211103/20221031T141225Z\n",
      "u/dagoret/spectro/noflat/FELH0600~holo4/20211103/20221031T141314Z\n",
      "u/dagoret/spectro/noflat/FELH0600~holo4/20211103/20221031T153831Z\n",
      "u/dagoret/spectro/noflat/FELH0600~holo4/20211103/20221031T153919Z\n",
      "u/dagoret/spectro/noflat/FELH0600~holo4/20211103/20221031T154005Z\n",
      "u/dagoret/spectro/noflat/FELH0600~holo4/20211103/20221031T154055Z\n",
      "u/dagoret/spectro/noflat/FELH0600~holo4/20211103/20221031T154142Z\n",
      "u/dagoret/spectro/noflat/FELH0600~holo4/20211103/20221031T154228Z\n",
      "u/dagoret/spectro/noflat/FELH0600~holo4/20220630\n",
      "u/dagoret/spectro/noflat/FELH0600~holo4/20220630/20221101T160543Z\n",
      "u/dagoret/spectro/noflat/FELH0600~holo4/20220630/20221101T160629Z\n",
      "u/dagoret/spectro/noflat/empty~holo4/20211103\n",
      "u/dagoret/spectro/noflat/empty~holo4/20211103/20221031T154824Z\n",
      "u/dagoret/spectro/noflat/empty~holo4/20211103/20221031T155742Z\n",
      "u/dagoret/spectro/noflat/empty~holo4/20211103/20221031T160858Z\n",
      "u/dagoret/spectro/noflat/empty~holo4/20211103/20221031T161632Z\n",
      "u/dagoret/spectro/noflat/empty~holo4/20211103/20221031T162529Z\n",
      "u/dagoret/spectro/noflat/empty~holo4/20211103/20221031T163553Z\n",
      "u/dagoret/spectro/noflat/empty~holo4/20211103/20221031T164323Z\n",
      "u/dagoret/spectro/noflat/empty~holo4/20211103/20221031T164416Z\n",
      "u/dagoret/spectro/noflat/empty~holo4/20211103/20221031T165245Z\n",
      "u/dagoret/spectro/noflat/empty~holo4/20211103/20221031T172022Z\n",
      "u/dagoret/spectro/noflat/empty~holo4/20211103/20221031T172932Z\n",
      "u/dagoret/spectro/noflat/empty~holo4/20211103/20221031T173041Z\n",
      "u/dagoret/spectro/noflat/empty~holo4/20211103/20221031T173847Z\n",
      "u/dagoret/spectro/noflat/empty~holo4/20211103/20221031T174629Z\n",
      "u/dagoret/spectro/noflat/empty~holo4/20211103/20221031T175436Z\n",
      "u/dagoret/spectro/noflat/empty~holo4/20211103/20221031T180256Z\n",
      "u/dagoret/spectro/noflat/empty~holo4/20211103/20221031T181104Z\n",
      "u/dagoret/spectro/noflat/empty~holo4/20211103/20221031T181903Z\n",
      "u/dagoret/spectro/noflat/empty~holo4/20211103/20221031T182551Z\n",
      "u/dagoret/spectro/noflat/empty~holo4/20211103/20221031T183223Z\n",
      "u/dagoret/spectro/noflat/empty~holo4/20211103/20221031T183933Z\n",
      "u/dagoret/spectro/noflat/empty~holo4/20211103/20221031T184749Z\n",
      "u/dagoret/spectro/noflat/empty~holo4/20211103/20221031T190148Z\n",
      "u/dagoret/spectro/noflat/empty~holo4/20211103/20221031T192323Z\n",
      "u/dagoret/spectro/noflat/empty~holo4/20211103/20221031T193254Z\n",
      "u/dagoret/spectro/noflat/empty~holo4/20211103/20221031T194312Z\n",
      "u/dagoret/spectro/noflat/empty~holo4/20211103/20221031T195046Z\n",
      "u/dagoret/spectro/noflat/empty~holo4/20211103/20221031T195854Z\n",
      "u/dagoret/spectro/noflat/empty~holo4/20211103/20221031T200631Z\n",
      "u/dagoret/spectro/noflat/empty~holo4/20211103/20221031T201412Z\n",
      "u/dagoret/spectro/noflat/empty~holo4/20211103/20221031T202640Z\n",
      "u/dagoret/spectro/noflat/empty~holo4/20211103/20221031T203624Z\n",
      "u/dagoret/spectro/noflat/empty~holo4/20211103/20221031T204554Z\n",
      "u/dagoret/spectro/noflat/empty~holo4/20211103/20221031T205520Z\n",
      "u/dagoret/spectro/noflat/empty~holo4/20220629\n",
      "u/dagoret/spectro/noflat/empty~holo4/20220629/20221101T161056Z\n",
      "u/dagoret/spectro/noflat/empty~holo4/20220629/20221101T161722Z\n",
      "u/dagoret/spectro/noflat/empty~holo4/20220629/20221101T162417Z\n",
      "u/dagoret/spectro/noflat/empty~holo4/20220629/20221101T163157Z\n",
      "u/dagoret/spectro/noflat/empty~holo4/20220629/20221101T163830Z\n",
      "u/dagoret/spectro/noflat/empty~holo4/20220629/20221101T164443Z\n",
      "u/dagoret/spectro/noflat/empty~holo4/20220629/20221101T165046Z\n",
      "u/dagoret/spectro/noflat/empty~holo4/20220629/20221101T165652Z\n",
      "u/dagoret/spectro/noflat/empty~holo4/20220629/20221101T170238Z\n",
      "u/dagoret/spectro/noflat/empty~holo4/20220629/20221101T170814Z\n",
      "u/dagoret/spectro/noflat/empty~holo4/20220629/20221101T171343Z\n",
      "u/dagoret/spectro/noflat/empty~holo4/20220629/20221101T171906Z\n",
      "u/dagoret/spectro/noflat/empty~holo4/20220629/20221101T172445Z\n",
      "u/dagoret/spectro/noflat/empty~holo4/20220629/20221101T172950Z\n",
      "u/dagoret/spectro/noflat/empty~holo4/20220629/20221101T173558Z\n",
      "u/dagoret/spectro/noflat/empty~holo4/20220629/20221101T174117Z\n",
      "u/dagoret/spectro/noflat/empty~holo4/20220629/20221101T174712Z\n",
      "u/dagoret/spectro/noflat/empty~holo4/20220629/20221101T175239Z\n",
      "u/dagoret/spectro/noflat/empty~holo4/20220629/20221101T175746Z\n",
      "u/dagoret/spectro/noflat/empty~holo4/20220629/20221101T180418Z\n",
      "u/dagoret/spectro/noflat/empty~holo4/20220629/20221101T181008Z\n",
      "u/dagoret/spectro/noflat/empty~holo4/20220629/20221101T181502Z\n",
      "u/dagoret/spectro/noflat/empty~holo4/20220629/20221101T182014Z\n",
      "u/dagoret/spectro/noflat/empty~holo4/20220629/20221101T182550Z\n",
      "u/dagoret/spectro/noflat/empty~holo4/20220629/20221101T183039Z\n",
      "u/dagoret/spectro/noflat/empty~holo4/20220629/20221101T183626Z\n",
      "u/dagoret/spectro/noflat/empty~holo4/20220629/20221101T184148Z\n",
      "u/dagoret/spectro/noflat/empty~holo4/20220629/20221101T184709Z\n",
      "u/dagoret/spectro/noflat/empty~holo4/20220629/20221101T185230Z\n",
      "u/dagoret/spectro/noflat/empty~holo4/20220629/20221101T185731Z\n",
      "u/dagoret/spectro/noflat/empty~holo4/20220629/20221101T190210Z\n",
      "u/dagoret/spectro/noflat/empty~holo4/20220629/20221101T190714Z\n",
      "u/dagoret/spectro/noflat/empty~holo4/20220629/20221101T191227Z\n",
      "u/dagoret/spectro/noflat/empty~holo4/20220629/20221101T191752Z\n",
      "u/dagoret/spectro/noflat/empty~holo4/20220629/20221101T192350Z\n",
      "u/dagoret/spectro/noflat/empty~holo4/20220629/20221101T192940Z\n",
      "u/dagoret/spectro/noflat/empty~holo4/20220629/20221101T193524Z\n",
      "u/dagoret/spectro/noflat/empty~holo4/20220629/20221101T211609Z\n",
      "u/dagoret/spectro/noflat/empty~holo4/20220629/20221101T212509Z\n",
      "u/dagoret/spectro/noflat/empty~holo4/20220629/20221101T212623Z\n",
      "u/dagoret/spectro/noflat/empty~holo4/20220629/20221101T213212Z\n",
      "u/dagoret/spectro/noflat/empty~holo4/20220629/20221101T213846Z\n",
      "u/dagoret/spectro/noflat/empty~holo4/20220629/20221101T214502Z\n",
      "u/dagoret/spectro/noflat/empty~holo4/20220629/20221101T215108Z\n",
      "u/dagoret/spectro/noflat/empty~holo4/20220629/20221101T215159Z\n",
      "u/dagoret/spectro/noflat/empty~holo4/20220629/20221101T215911Z\n",
      "u/dagoret/spectro/noflat/empty~holo4/20220629/20221101T220553Z\n",
      "u/dagoret/spectro/noflat/empty~holo4/20220629/20221101T221409Z\n",
      "u/dagoret/spectro/noflat/empty~holo4/20220629/20221101T222029Z\n",
      "u/dagoret/spectro/noflat/empty~holo4/20220629/20221101T222649Z\n",
      "u/dagoret/spectro/noflat/empty~holo4/20220629/20221101T223222Z\n",
      "u/dagoret/spectro/noflat/empty~holo4/20220629/20221101T223908Z\n",
      "u/dagoret/spectro/noflat/empty~holo4/20220629/20221101T224608Z\n",
      "u/dagoret/spectro/noflat/empty~holo4/20220629/20221101T225242Z\n",
      "u/dagoret/spectro/noflat/empty~holo4/20220629/20221101T225940Z\n",
      "u/dagoret/spectro/noflat/empty~holo4/20220629/20221101T230552Z\n",
      "u/dagoret/spectro/noflat/empty~holo4/20220629/20221101T231727Z\n",
      "u/dagoret/spectro/noflat/empty~holo4/20220629/20221101T232355Z\n",
      "u/dagoret/spectro/noflat/empty~holo4/20220629/20221101T233131Z\n",
      "u/dagoret/spectro/noflat/empty~holo4/20220629/20221101T233255Z\n",
      "u/dagoret/spectro/noflat/empty~holo4/20220629/20221101T233922Z\n",
      "u/dagoret/spectro/noflat/empty~holo4/20220629/20221101T234526Z\n",
      "u/dagoret/spectro/noflat/empty~holo4/20220629/20221102T050202Z\n",
      "u/dagoret/spectro/noflat/empty~holo4/20220630\n",
      "u/dagoret/spectro/noflat/empty~holo4/20220630/20221031T232801Z\n",
      "u/dagoret/spectro/noflat/empty~holo4/20220630/20221031T233517Z\n",
      "u/dagoret/spectro/noflat/empty~holo4/20220630/20221031T234242Z\n",
      "u/dagoret/spectro/noflat/empty~holo4/20220630/20221031T235112Z\n",
      "u/dagoret/spectro/noflat/empty~holo4/20220630/20221101T000010Z\n",
      "u/dagoret/spectro/noflat/empty~holo4/20220630/20221101T000842Z\n",
      "u/dagoret/spectro/noflat/empty~holo4/20220630/20221101T001706Z\n",
      "u/dagoret/spectro/noflat/empty~holo4/20220630/20221101T005034Z\n",
      "u/dagoret/spectro/noflat/empty~holo4/20220630/20221101T010053Z\n",
      "u/dagoret/spectro/noflat/empty~holo4/20220630/20221101T011438Z\n",
      "u/dagoret/spectro/noflat/empty~holo4/20220630/20221101T012527Z\n",
      "u/dagoret/spectro/noflat/empty~holo4/20220630/20221101T014155Z\n",
      "u/dagoret/spectro/noflat/empty~holo4/20220630/20221101T020801Z\n",
      "u/dagoret/spectro/noflat/empty~holo4/20220630/20221101T022056Z\n",
      "u/dagoret/spectro/noflat/empty~holo4/20220630/20221101T022948Z\n",
      "u/dagoret/spectro/noflat/empty~holo4/20220630/20221101T024125Z\n",
      "u/dagoret/spectro/noflat/empty~holo4/20220630/20221101T031316Z\n",
      "u/dagoret/spectro/noflat/empty~holo4/20220630/20221101T033957Z\n",
      "u/dagoret/spectro/noflat/empty~holo4/20220630/20221101T040158Z\n",
      "u/dagoret/spectro/noflat/empty~holo4/20220630/20221101T042500Z\n",
      "u/dagoret/spectro/noflat/empty~holo4/20220630/20221101T043212Z\n",
      "u/dagoret/spectro/noflat/empty~holo4/20220630/20221101T044056Z\n",
      "u/dagoret/spectro/noflat/empty~holo4/20220630/20221101T044855Z\n",
      "u/dagoret/spectro/noflat/empty~holo4/20220630/20221101T045639Z\n",
      "u/dagoret/spectro/noflat/empty~holo4/20220630/20221101T050434Z\n",
      "u/dagoret/spectro/noflat/empty~holo4/20220630/20221101T051149Z\n",
      "u/dagoret/spectro/noflat/empty~holo4/20220630/20221101T051822Z\n",
      "u/dagoret/spectro/noflat/empty~holo4/20220630/20221101T053230Z\n",
      "u/dagoret/spectro/noflat/empty~holo4/20220630/20221101T053900Z\n",
      "u/dagoret/spectro/noflat/empty~holo4/20220630/20221101T054604Z\n",
      "u/dagoret/spectro/noflat/empty~holo4/20220630/20221101T055243Z\n",
      "u/dagoret/spectro/noflat/empty~holo4/20220630/20221101T055938Z\n",
      "u/dagoret/spectro/noflat/empty~holo4/20220630/20221101T060642Z\n",
      "u/dagoret/spectro/noflat/empty~holo4/20220630/20221101T061223Z\n",
      "u/dagoret/spectro/noflat/empty~holo4/20220630/20221101T061939Z\n",
      "u/dagoret/spectro/noflat/empty~holo4/20220630/20221101T062837Z\n",
      "u/dagoret/spectro/noflat/empty~holo4/20220630/20221101T063515Z\n",
      "u/dagoret/spectro/noflat/empty~holo4/20220630/20221101T064118Z\n",
      "u/dagoret/spectro/noflat/empty~holo4/20220630/20221101T064817Z\n",
      "u/dagoret/spectro/noflat/empty~holo4/20220630/20221101T065553Z\n",
      "u/dagoret/spectro/noflat/empty~holo4/20220630/20221101T070305Z\n",
      "u/dagoret/spectro/noflat/empty~holo4/20220630/20221101T071101Z\n",
      "u/dagoret/spectro/noflat/empty~holo4/20220630/20221101T071826Z\n",
      "u/dagoret/spectro/noflat/empty~holo4/20220630/20221101T072526Z\n",
      "u/dagoret/spectro/noflat/empty~holo4/20220630/20221101T073222Z\n",
      "u/dagoret/spectro/noflat/empty~holo4/20220630/20221101T082406Z\n",
      "u/dagoret/spectro/noflat/empty~holo4/20220630/20221101T082523Z\n",
      "u/dagoret/spectro/noflat/empty~holo4/20220630/20221101T083230Z\n",
      "u/dagoret/spectro/noflat/empty~holo4/20220630/20221101T084052Z\n",
      "u/dagoret/spectro/noflat/empty~holo4/20220630/20221101T084737Z\n",
      "u/dagoret/spectro/noflat/empty~holo4/20220630/20221101T085429Z\n",
      "u/dagoret/spectro/noflat/empty~holo4/20220630/20221101T090221Z\n",
      "u/dagoret/spectro/noflat/empty~holo4/20220630/20221101T090915Z\n",
      "u/dagoret/spectro/noflat/empty~holo4/20220630/20221101T091630Z\n",
      "u/dagoret/spectro/noflat/empty~holo4/20220630/20221101T091749Z\n",
      "u/dagoret/spectro/noflat/empty~holo4/20220630/20221101T091912Z\n",
      "u/dagoret/spectro/noflat/empty~holo4/20220630/20221101T105956Z\n",
      "u/dagoret/spectro/noflat/empty~holo4/20220630/20221101T110724Z\n",
      "u/dagoret/spectro/noflat/empty~holo4/20220630/20221101T111426Z\n",
      "u/dagoret/spectro/noflat/empty~holo4/20220630/20221101T112031Z\n",
      "u/dagoret/spectro/noflat/empty~holo4/20220630/20221101T112149Z\n",
      "u/dagoret/spectro/noflat/empty~holo4/20220630/20221101T112259Z\n",
      "u/dagoret/spectro/noflat/empty~holo4/20220630/20221101T113147Z\n",
      "u/dagoret/spectro/w_2023_44_spec3.0.3/holo_SDSS_g_nov2021\n",
      "u/dagoret/spectro/w_2023_44_spec3.0.3/holo_SDSS_g_nov2021/20231220T202528Z\n",
      "u/dagoret/spectro/w_2023_44_spec3.0.3/holo_SDSS_g_oct2021\n",
      "u/dagoret/spectro/w_2023_44_spec3.0.3/holo_SDSS_g_oct2021/20231220T201553Z\n",
      "u/dagoret/test_auxtel_v0\n",
      "u/dagoret/test_auxtel_v0/20220922T195651Z\n",
      "u/dagoret/test_auxtel_v1\n",
      "u/dagoret/test_auxtel_v1/20221020T081853Z\n",
      "u/dagoret/test_auxtel_v1/20221020T082320Z\n",
      "u/dagoret/test_auxtel_v1/20221020T092704Z\n",
      "u/dagoret/test_latiss_drp\n",
      "u/dagoret/test_latiss_drp/20220920T154256Z\n",
      "u/dagoret/test_latiss_drp/20220920T155159Z\n",
      "u/dagoret/test_latiss_drp/20220923T045606Z\n",
      "u/dagoret/test_latiss_drp/20220923T045730Z\n",
      "u/dagoret/test_latiss_drp/20220923T154605Z\n",
      "u/dagoret/test_processstar01\n",
      "u/dagoret/test_processstar01/20220920T142105Z\n",
      "u/dagoret/test_processstar01/20220923T050346Z\n",
      "u/dagoret/test_processstar01/20220929T120123Z\n",
      "u/dagoret/test_processstar01/20220929T120541Z\n",
      "u/dagoret/test_processstar01/20220929T121854Z\n",
      "u/dagoret/test_processstar01/20220929T123614Z\n",
      "u/dagoret/test_processstar01/20221020T073136Z\n",
      "u/dagoret/test_processstar01/20221020T144135Z\n",
      "u/dagoret/testjun2023\n",
      "u/dagoret/testjun2023/20230616T151741Z\n",
      "u/dagoret/tests/test_20oct2022\n",
      "u/dagoret/tests/test_20oct2022/20221020T133139Z\n",
      "u/dagoret/tests/test_20oct2022/20221020T140016Z\n",
      "u/dagoret/tests/test_20oct2022/20221020T143125Z\n",
      "u/dagoret/tests/test_20oct2022/20221020T150409Z\n",
      "u/dagoret/tests/test_20oct2022/20221020T154456Z\n",
      "u/dagoret/tests/test_20oct2022/20221020T161227Z\n",
      "u/dagoret/tests/test_20oct2022/20221020T164030Z\n",
      "u/dagoret/tests/test_20oct2022/20221020T172659Z\n",
      "u/dagoret/tests/test_20oct2022/20221020T174950Z\n",
      "u/dagoret/tests/test_20oct2022/20221020T181516Z\n",
      "u/dagoret/tests/test_20oct2022/20221020T183735Z\n",
      "u/dagoret/tests/test_20oct2022/20221020T190300Z\n",
      "u/dagoret/tests/test_20oct2022/20221020T192822Z\n",
      "u/dagoret/tests/test_20oct2022/20221020T195347Z\n",
      "u/dagoret/tests/test_20oct2022/20221020T201934Z\n",
      "u/dagoret/tests/test_20oct2022/20221020T205445Z\n",
      "u/dagoret/tests/test_20oct2022/20221020T212411Z\n",
      "u/dagoret/tests/test_20oct2022/20221020T215022Z\n",
      "u/dagoret/tests/test_20oct2022/20221020T221714Z\n",
      "u/dagoret/tests/test_20oct2022/20221020T224311Z\n",
      "u/dagoret/tests/test_20oct2022/20221020T230834Z\n",
      "u/dagoret/tests/test_20oct2022/20221020T233544Z\n",
      "u/dagoret/tests/test_20oct2022/20221021T000023Z\n",
      "u/dagoret/tests/test_20oct2022/20221021T002734Z\n",
      "u/dagoret/tests/test_20oct2022/20221021T005342Z\n",
      "u/dagoret/tests/test_20oct2022/20221021T011709Z\n",
      "u/dagoret/tests/test_20oct2022/20221021T014031Z\n",
      "u/dagoret/tests/test_20oct2022/20221021T021137Z\n",
      "u/dagoret/tests/test_20oct2022/20221021T081447Z\n",
      "u/dagoret/tests/test_20oct2022/20221021T081849Z\n",
      "u/dagoret/tests/test_20oct2022/20221021T082219Z\n",
      "u/dagoret/tests/test_20oct2022/20221021T084001Z\n",
      "u/dagoret/tests/test_20oct2022/20221021T091152Z\n",
      "u/dagoret/tests/test_20oct2022/20221021T093438Z\n",
      "u/dagoret/tests/test_20oct2022/20221021T095629Z\n",
      "u/dagoret/tests/test_20oct2022/20221021T101859Z\n",
      "u/dagoret/tests/test_20oct2022/20221021T104057Z\n",
      "u/dagoret/tests/test_20oct2022/20221021T110614Z\n",
      "u/dagoret/tests/test_20oct2022/20221021T112742Z\n",
      "u/dagoret/tests/test_20oct2022/20221021T115126Z\n",
      "u/dagoret/tests/test_20oct2022/20221021T121915Z\n",
      "u/dagoret/tests/test_20oct2022/20221021T124128Z\n",
      "u/dagoret/tests/test_20oct2022/20221021T130409Z\n",
      "u/dagoret/tests/test_20oct2022/20221021T132959Z\n",
      "u/dagoret/tests/test_20oct2022/20221021T135545Z\n",
      "u/dagoret/tests/test_20oct2022/20221021T141819Z\n",
      "u/dagoret/tests/test_20oct2022/20221021T144300Z\n",
      "u/dagoret/tests/test_20oct2022/20221021T150701Z\n",
      "u/dagoret/tests/test_20oct2022/20221021T153022Z\n",
      "u/dagoret/tests/test_20oct2022/20221021T155518Z\n",
      "u/dagoret/tests/test_20oct2022/20221021T183425Z\n",
      "u/dagoret/tests/test_20oct2022/20221021T183546Z\n",
      "u/dagoret/tests/test_20oct2022/20221021T190436Z\n",
      "u/dagoret/tests/test_20oct2022/20221021T193224Z\n",
      "u/dagoret/tests/test_20oct2022/20221021T195856Z\n",
      "u/dagoret/tests/test_20oct2022/20221021T202314Z\n",
      "u/dagoret/tests/test_20oct2022/20221021T204713Z\n",
      "u/dagoret/tests/test_20oct2022/20221021T211342Z\n",
      "u/dagoret/tests/test_20oct2022/20221021T214158Z\n",
      "u/dagoret/tests/test_20oct2022/20221021T214324Z\n",
      "u/dagoret/tests/test_20oct2022/20221021T214505Z\n",
      "u/dagoret/tests/test_20oct2022/20221022T002916Z\n",
      "u/dagoret/tests/test_20oct2022/20221022T005415Z\n",
      "u/dagoret/tests/test_20oct2022/20221022T011958Z\n",
      "u/dagoret/tests/test_20oct2022/20221022T023516Z\n",
      "u/dagoret/tests/test_20oct2022/20221022T023639Z\n",
      "u/dagoret/tests/test_20oct2022/20221022T023742Z\n",
      "u/dagoret/tests/test_20oct2022/20221022T030307Z\n",
      "u/dagoret/tests/test_23oct2022/empty~holo4/20220630\n",
      "u/dagoret/tests/test_23oct2022/empty~holo4/20220630/20221023T135938Z\n",
      "u/dagoret/tests/test_23oct2022/empty~holo4/20220630/20221023T135939Z\n",
      "u/dagoret/tests/test_23oct2022/empty~holo4/20220630/20221023T140939Z\n",
      "u/dagoret/tests/test_23oct2022/empty~holo4/20220630/20221023T140946Z\n",
      "u/dagoret/tests/test_23oct2022/empty~holo4/20220630/20221023T140947Z\n",
      "u/dagoret/tests/test_23oct2022/empty~holo4/20220630/20221023T140948Z\n",
      "u/dagoret/tests/test_23oct2022_empty~holo4_20220629\n",
      "u/dagoret/tests/test_23oct2022_empty~holo4_20220629/20221025T085746Z\n",
      "u/dagoret/tests/test_23oct2022_empty~holo4_20220629/20221025T085747Z\n",
      "u/dagoret/tests/test_23oct2022_empty~holo4_20220629/20221025T085809Z\n",
      "u/dagoret/tests/test_23oct2022_empty~holo4_20220629/20221025T085810Z\n",
      "u/dagoret/tests/test_23oct2022_empty~holo4_20220629/20221025T085811Z\n",
      "u/dagoret/tests/test_23oct2022_empty~holo4_20220629/20221025T085812Z\n",
      "u/dagoret/tests/test_23oct2022_empty~holo4_20220629/20221025T085832Z\n",
      "u/dagoret/tests/test_23oct2022_empty~holo4_20220629/20221025T085834Z\n",
      "u/dagoret/tests/test_23oct2022_empty~holo4_20220629/20221025T085835Z\n",
      "u/dagoret/tests/test_23oct2022_empty~holo4_20220629/20221025T085855Z\n",
      "u/dagoret/tests/test_23oct2022_empty~holo4_20220629/20221025T085905Z\n",
      "u/dagoret/tests/test_23oct2022_empty~holo4_20220629/20221025T085936Z\n",
      "u/dagoret/tests/test_23oct2022_empty~holo4_20220629/20221025T090007Z\n",
      "u/dagoret/tests/test_23oct2022_empty~holo4_20220629/20221025T090039Z\n",
      "u/dagoret/tests/test_23oct2022_empty~holo4_20220629/20221025T090110Z\n",
      "u/dagoret/tests/test_23oct2022_empty~holo4_20220629/20221025T090140Z\n",
      "u/dagoret/tests/test_23oct2022_empty~holo4_20220629/20221025T090210Z\n",
      "u/dagoret/tests/test_23oct2022_empty~holo4_20220629/20221025T090241Z\n",
      "u/dagoret/tests/test_23oct2022_empty~holo4_20220629/20221025T090309Z\n",
      "u/dagoret/tests/test_23oct2022_empty~holo4_20220629/20221025T090312Z\n",
      "u/dagoret/tests/test_23oct2022_empty~holo4_20220629/20221025T090321Z\n",
      "u/dagoret/tests/test_23oct2022_empty~holo4_20220629/20221025T090328Z\n",
      "u/dagoret/tests/test_23oct2022_empty~holo4_20220629/20221025T090331Z\n",
      "u/dagoret/tests/test_23oct2022_empty~holo4_20220629/20221025T090337Z\n",
      "u/dagoret/tests/test_23oct2022_empty~holo4_20220629/20221025T090342Z\n",
      "u/dagoret/tests/test_23oct2022_empty~holo4_20220629/20221025T090343Z\n",
      "u/dagoret/tests/test_23oct2022_empty~holo4_20220629/20221025T090350Z\n",
      "u/dagoret/tests/test_23oct2022_empty~holo4_20220629/20221025T090401Z\n",
      "u/dagoret/tests/test_23oct2022_empty~holo4_20220629/20221025T090413Z\n",
      "u/dagoret/tests/test_23oct2022_empty~holo4_20220629/20221025T090434Z\n",
      "u/dagoret/tests/test_23oct2022_empty~holo4_20220629/20221025T090443Z\n",
      "u/dagoret/tests/test_23oct2022_empty~holo4_20220629/20221025T090514Z\n",
      "u/dagoret/tests/test_23oct2022_empty~holo4_20220629/20221025T090525Z\n",
      "u/dagoret/tests/test_23oct2022_empty~holo4_20220629/20221025T090544Z\n",
      "u/dagoret/tests/test_23oct2022_empty~holo4_20220629/20221025T090615Z\n",
      "u/dagoret/tests/test_23oct2022_empty~holo4_20220629/20221025T090646Z\n",
      "u/dagoret/tests/test_23oct2022_empty~holo4_20220629/20221025T090716Z\n",
      "u/dagoret/tests/test_23oct2022_empty~holo4_20220629/20221025T090747Z\n",
      "u/dagoret/tests/test_23oct2022_empty~holo4_20220629/20221025T090814Z\n",
      "u/dagoret/tests/test_23oct2022_empty~holo4_20220629/20221025T090818Z\n",
      "u/dagoret/tests/test_23oct2022_empty~holo4_20220629/20221025T090846Z\n",
      "u/dagoret/tests/test_23oct2022_empty~holo4_20220629/20221025T090847Z\n",
      "u/dagoret/tests/test_23oct2022_empty~holo4_20220629/20221025T090849Z\n",
      "u/dagoret/tests/test_23oct2022_empty~holo4_20220629/20221025T090850Z\n",
      "u/dagoret/tests/test_23oct2022_empty~holo4_20220629/20221025T090903Z\n",
      "u/dagoret/tests/test_23oct2022_empty~holo4_20220629/20221025T090911Z\n",
      "u/dagoret/tests/test_23oct2022_empty~holo4_20220629/20221025T090919Z\n",
      "u/dagoret/tests/test_23oct2022_empty~holo4_20220629/20221025T090950Z\n",
      "u/dagoret/tests/test_23oct2022_empty~holo4_20220629/20221025T091021Z\n",
      "u/dagoret/tests/test_23oct2022_empty~holo4_20220630\n",
      "u/dagoret/tests/test_23oct2022_empty~holo4_20220630/20221023T141752Z\n",
      "u/dagoret/tests/test_23oct2022_empty~holo4_20220630/20221023T141753Z\n",
      "u/dagoret/tests/test_23oct2022_empty~holo4_20220630/20221023T141759Z\n",
      "u/dagoret/tests/test_23oct2022_empty~holo4_20220630/20221023T141816Z\n",
      "u/dagoret/tests/test_23oct2022_empty~holo4_20220630/20221023T141817Z\n",
      "u/dagoret/tests/test_23oct2022_empty~holo4_20220630/20221023T141818Z\n",
      "u/dagoret/tests/test_23oct2022_empty~holo4_20220630/20221023T141826Z\n",
      "u/dagoret/tests/test_23oct2022_empty~holo4_20220630/20221023T141840Z\n",
      "u/dagoret/tests/test_23oct2022_empty~holo4_20220630/20221023T141841Z\n",
      "u/dagoret/tests/test_23oct2022_empty~holo4_20220630/20221023T141843Z\n",
      "u/dagoret/tests/test_23oct2022_empty~holo4_20220630/20221023T141859Z\n",
      "u/dagoret/tests/test_23oct2022_empty~holo4_20220630/20221023T141932Z\n",
      "u/dagoret/tests/test_23oct2022_empty~holo4_20220630/20221023T141952Z\n",
      "u/dagoret/tests/test_23oct2022_empty~holo4_20220630/20221023T142004Z\n",
      "u/dagoret/tests/test_23oct2022_empty~holo4_20220630/20221023T142037Z\n",
      "u/dagoret/tests/test_23oct2022_empty~holo4_20220630/20221023T142110Z\n",
      "u/dagoret/tests/test_23oct2022_empty~holo4_20220630/20221023T142143Z\n",
      "u/dagoret/tests/test_23oct2022_empty~holo4_20220630/20221023T142215Z\n",
      "u/dagoret/tests/test_23oct2022_empty~holo4_20220630/20221023T142248Z\n",
      "u/dagoret/tests/test_23oct2022_empty~holo4_20220630/20221023T142320Z\n",
      "u/dagoret/tests/test_23oct2022_empty~holo4_20220630/20221023T142353Z\n",
      "u/dagoret/tests/test_23oct2022_empty~holo4_20220630/20221023T142405Z\n",
      "u/dagoret/tests/test_23oct2022_empty~holo4_20220630/20221023T142425Z\n",
      "u/dagoret/tests/test_23oct2022_empty~holo4_20220630/20221023T142432Z\n",
      "u/dagoret/tests/test_23oct2022_empty~holo4_20220630/20221023T142458Z\n",
      "u/dagoret/tests/test_23oct2022_empty~holo4_20220630/20221023T142501Z\n",
      "u/dagoret/tests/test_23oct2022_empty~holo4_20220630/20221023T142503Z\n",
      "u/dagoret/tests/test_23oct2022_empty~holo4_20220630/20221023T142530Z\n",
      "u/dagoret/tests/test_23oct2022_empty~holo4_20220630/20221023T142602Z\n",
      "u/dagoret/tests/test_23oct2022_empty~holo4_20220630/20221023T142603Z\n",
      "u/dagoret/tests/test_23oct2022_empty~holo4_20220630/20221023T142625Z\n",
      "u/dagoret/tests/test_23oct2022_empty~holo4_20220630/20221023T142635Z\n",
      "u/dagoret/tests/test_23oct2022_empty~holo4_20220630/20221023T142637Z\n",
      "u/dagoret/tests/test_23oct2022_empty~holo4_20220630/20221023T142707Z\n",
      "u/dagoret/tests/test_23oct2022_empty~holo4_20220630/20221023T142740Z\n",
      "u/dagoret/tests/test_23oct2022_empty~holo4_20220630/20221023T142812Z\n",
      "u/dagoret/tests/test_23oct2022_empty~holo4_20220630/20221023T142845Z\n",
      "u/dagoret/tests/test_23oct2022_empty~holo4_20220630/20221023T142917Z\n",
      "u/dagoret/tests/test_23oct2022_empty~holo4_20220630/20221023T142921Z\n",
      "u/dagoret/tests/test_23oct2022_empty~holo4_20220630/20221023T142935Z\n",
      "u/dagoret/tests/test_23oct2022_empty~holo4_20220630/20221023T142950Z\n",
      "u/dagoret/tests/test_23oct2022_empty~holo4_20220630/20221023T143022Z\n",
      "u/dagoret/tests/test_23oct2022_empty~holo4_20220630/20221023T143030Z\n",
      "u/dagoret/tests/test_23oct2022_empty~holo4_20220630/20221023T143038Z\n",
      "u/dagoret/tests/test_23oct2022_empty~holo4_20220630/20221023T143053Z\n",
      "u/dagoret/tests/test_23oct2022_empty~holo4_20220630/20221023T143055Z\n",
      "u/dagoret/tests/test_23oct2022_empty~holo4_20220630/20221023T143104Z\n",
      "u/dagoret/tests/test_23oct2022_empty~holo4_20220630/20221023T143127Z\n",
      "u/dagoret/tests/test_23oct2022_empty~holo4_20220630/20221023T143144Z\n",
      "u/dagoret/tests/test_23oct2022_empty~holo4_20220630/20221023T143200Z\n",
      "u/dagoret/tests/test_23oct2022_empty~holo4_20220630/20221023T143225Z\n",
      "u/dagoret/tests/test_23oct2022_empty~holo4_20220630/20221023T143233Z\n",
      "u/dagoret/tests/test_23oct2022_empty~holo4_20220630/20221023T143234Z\n",
      "u/dagoret/tests/test_23oct2022_empty~holo4_20220630/20221023T143237Z\n",
      "u/dagoret/tests/test_23oct2022_empty~holo4_20220630/20221023T143305Z\n",
      "u/dagoret/tests/test_23oct2022_empty~holo4_20220630/20221023T143324Z\n",
      "u/dagoret/tests/test_25oct2022_empty~holo4_20220629\n",
      "u/dagoret/tests/test_25oct2022_empty~holo4_20220629/20221025T091027Z\n",
      "u/dagoret/tests/test_25oct2022_empty~holo4_20220629/20221025T091052Z\n",
      "u/dagoret/tests/test_25oct2022_empty~holo4_20220629/20221025T091122Z\n",
      "u/dagoret/tests/test_25oct2022_empty~holo4_20220629/20221025T091152Z\n",
      "u/dagoret/tests/test_25oct2022_empty~holo4_20220629/20221025T091153Z\n",
      "u/dagoret/tests/test_25oct2022_empty~holo4_20220629/20221025T091213Z\n",
      "u/dagoret/tests/test_25oct2022_empty~holo4_20220629/20221025T091223Z\n",
      "u/dagoret/tests/test_25oct2022_empty~holo4_20220629/20221025T091254Z\n",
      "u/dagoret/tests/test_25oct2022_empty~holo4_20220629/20221025T091324Z\n",
      "u/dagoret/tests/test_25oct2022_empty~holo4_20220629/20221025T091355Z\n",
      "u/dagoret/tests/test_25oct2022_empty~holo4_20220629/20221025T091413Z\n",
      "u/dagoret/tests/test_25oct2022_empty~holo4_20220629/20221025T091420Z\n",
      "u/dagoret/tests/test_25oct2022_empty~holo4_20220629/20221025T091426Z\n",
      "u/dagoret/tests/test_25oct2022_empty~holo4_20220629/20221025T091457Z\n",
      "u/dagoret/tests/test_25oct2022_empty~holo4_20220629/20221025T091522Z\n",
      "u/dagoret/tests/test_25oct2022_empty~holo4_20220629/20221025T091527Z\n",
      "u/dagoret/tests/test_25oct2022_empty~holo4_20220629/20221025T091547Z\n",
      "u/dagoret/tests/test_25oct2022_empty~holo4_20220629/20221025T091552Z\n",
      "u/dagoret/tests/test_25oct2022_empty~holo4_20220629/20221025T091558Z\n",
      "u/dagoret/tests/test_25oct2022_empty~holo4_20220629/20221025T091621Z\n",
      "u/dagoret/tests/test_25oct2022_empty~holo4_20220629/20221025T091629Z\n",
      "u/dagoret/tests/test_25oct2022_empty~holo4_20220629/20221025T091659Z\n",
      "u/dagoret/tests/test_25oct2022_empty~holo4_20220629/20221025T091730Z\n",
      "u/dagoret/tests/test_25oct2022_empty~holo4_20220629/20221025T091749Z\n",
      "u/dagoret/tests/test_25oct2022_empty~holo4_20220629/20221025T091800Z\n",
      "u/dagoret/tests/test_25oct2022_empty~holo4_20220629/20221025T091831Z\n",
      "u/dagoret/tests/test_25oct2022_empty~holo4_20220629/20221025T091902Z\n",
      "u/dagoret/tests/test_25oct2022_empty~holo4_20220629/20221025T091907Z\n",
      "u/dagoret/tests/test_25oct2022_empty~holo4_20220629/20221025T091933Z\n",
      "u/dagoret/tests/test_25oct2022_empty~holo4_20220629/20221025T091949Z\n",
      "u/dagoret/tests/test_25oct2022_empty~holo4_20220629/20221025T091953Z\n",
      "u/dagoret/tests/test_25oct2022_empty~holo4_20220629/20221025T092003Z\n",
      "u/dagoret/tests/test_25oct2022_empty~holo4_20220629/20221025T092009Z\n",
      "u/dagoret/tests/test_25oct2022_empty~holo4_20220629/20221025T092029Z\n",
      "u/dagoret/tests/test_25oct2022_empty~holo4_20220629/20221025T092034Z\n",
      "u/dagoret/tests/test_25oct2022_empty~holo4_20220629/20221025T092045Z\n",
      "u/dagoret/tests/test_25oct2022_empty~holo4_20220629/20221025T092105Z\n",
      "u/dagoret/tests/test_25oct2022_empty~holo4_20220629/20221025T092136Z\n",
      "u/dagoret/tests/test_25oct2022_empty~holo4_20220629/20221025T092139Z\n",
      "u/dagoret/tests/test_25oct2022_empty~holo4_20220629/20221025T092207Z\n",
      "u/dagoret/tests/test_25oct2022_empty~holo4_20220629/20221025T092238Z\n",
      "u/dagoret/tests/test_25oct2022_empty~holo4_20220629/20221025T092257Z\n",
      "u/dagoret/tests/test_25oct2022_empty~holo4_20220629/20221025T092308Z\n",
      "u/dagoret/tests/test_25oct2022_empty~holo4_20220629/20221025T092339Z\n",
      "u/dagoret/tests/test_25oct2022_empty~holo4_20220629/20221025T092359Z\n",
      "u/dagoret/tests/test_25oct2022_empty~holo4_20220629/20221025T092409Z\n",
      "u/dagoret/tests/test_25oct2022_empty~holo4_20220629/20221025T092433Z\n",
      "u/dagoret/tests/test_25oct2022_empty~holo4_20220629/20221025T092440Z\n",
      "u/dagoret/tests/test_25oct2022_empty~holo4_20220629/20221025T092443Z\n",
      "u/dagoret/tests/test_25oct2022_empty~holo4_20220629/20221025T092456Z\n",
      "u/dagoret/tests/test_25oct2022_empty~holo4_20220629/20221025T092506Z\n",
      "u/dagoret/tests/test_25oct2022_empty~holo4_20220629/20221025T092510Z\n",
      "u/dagoret/tests/test_25oct2022_empty~holo4_20220629/20221025T092540Z\n",
      "u/dagoret/tests/test_25oct2022_empty~holo4_20220629/20221025T092558Z\n",
      "u/dagoret/tests/test_25oct2022_empty~holo4_20220629/20221025T092609Z\n",
      "u/dagoret/tests/test_25oct2022_empty~holo4_20220629/20221025T092612Z\n",
      "u/dagoret/tests/test_25oct2022_empty~holo4_20220629/20221025T092642Z\n",
      "u/dagoret/tests/test_25oct2022_empty~holo4_20220629/20221025T092712Z\n",
      "u/dagoret/tests/test_25oct2022_empty~holo4_20220629/20221025T092743Z\n",
      "u/dagoret/tests/test_25oct2022_empty~holo4_20220629/20221025T092807Z\n",
      "u/dagoret/tests/test_25oct2022_empty~holo4_20220629/20221025T092813Z\n",
      "u/dagoret/tests/test_25oct2022_empty~holo4_20220629/20221025T092844Z\n",
      "u/dagoret/tests/test_25oct2022b_empty~holo4_20220629\n",
      "u/dagoret/tests/test_25oct2022b_empty~holo4_20220629/20221025T152219Z\n",
      "u/dagoret/tests/test_25oct2022b_empty~holo4_20220629/20221025T162625Z\n",
      "u/dagoret/tests/test_25oct2022b_empty~holo4_20220629/20221025T164057Z\n",
      "u/dagoret/tests/test_25oct2022b_empty~holo4_20220629/20221025T175835Z\n",
      "u/dagoret/tests/test_25oct2022b_empty~holo4_20220629/20221025T175837Z\n",
      "u/dagoret/tests/test_25oct2022b_empty~holo4_20220629/20221025T180101Z\n",
      "u/dagoret/tests/test_25oct2022b_empty~holo4_20220629/20221025T180108Z\n",
      "u/dagoret/tests/test_25oct2022b_empty~holo4_20220629/20221025T182337Z\n",
      "u/dagoret/tests/test_25oct2022b_empty~holo4_20220629/20221025T183040Z\n",
      "u/dagoret/tests/test_25oct2022c/empty~holo4/20220630\n",
      "u/dagoret/tests/test_25oct2022c/empty~holo4/20220630/20221025T184538Z\n",
      "u/dagoret/tests/test_25oct2022c/empty~holo4/20220630/20221025T185311Z\n",
      "u/dagoret/tests/test_25oct2022c/empty~holo4/20220630/20221025T192814Z\n",
      "u/dagoret/tests/test_25oct2022c/empty~holo4/20220630/20221025T200053Z\n",
      "u/dagoret/tests/test_25oct2022c/empty~holo4/20220630/20221025T200734Z\n",
      "u/dagoret/tests/test_25oct2022c/empty~holo4/20220630/20221025T201605Z\n",
      "u/dagoret/tests/test_25oct2022c/empty~holo4/20220630/20221025T203058Z\n",
      "u/dagoret/tests/test_25oct2022c/empty~holo4/20220630/20221025T203826Z\n",
      "u/dagoret/tests/test_25oct2022c/empty~holo4/20220630/20221025T204554Z\n",
      "u/dagoret/tests/test_25oct2022c/empty~holo4/20220630/20221025T205306Z\n",
      "u/dagoret/tests/test_25oct2022c/empty~holo4/20220630/20221025T210023Z\n",
      "u/dagoret/tests/test_25oct2022c/empty~holo4/20220630/20221025T210715Z\n",
      "u/dagoret/tests/test_25oct2022c/empty~holo4/20220630/20221025T211551Z\n",
      "u/dagoret/tests/test_25oct2022c/empty~holo4/20220630/20221025T212327Z\n",
      "u/dagoret/tests/test_25oct2022c/empty~holo4/20220630/20221025T213029Z\n",
      "u/dagoret/tests/test_25oct2022c/empty~holo4/20220630/20221025T213714Z\n",
      "u/dagoret/tests/test_25oct2022c/empty~holo4/20220630/20221025T214458Z\n",
      "u/dagoret/tests/test_25oct2022c/empty~holo4/20220630/20221025T215136Z\n",
      "u/dagoret/tests/test_25oct2022c/empty~holo4/20220630/20221025T215903Z\n",
      "u/dagoret/tests/test_25oct2022c/empty~holo4/20220630/20221025T220702Z\n",
      "u/dagoret/tests/test_25oct2022c/empty~holo4/20220630/20221025T221637Z\n",
      "u/dagoret/tests/test_25oct2022c/empty~holo4/20220630/20221025T222847Z\n",
      "u/dagoret/tests/test_25oct2022c/empty~holo4/20220630/20221025T223630Z\n",
      "u/dagoret/tests/test_25oct2022c/empty~holo4/20220630/20221025T224415Z\n",
      "u/dagoret/tests/test_25oct2022c/empty~holo4/20220630/20221025T225608Z\n",
      "u/dagoret/tests/test_25oct2022c/empty~holo4/20220630/20221025T230510Z\n",
      "u/dagoret/tests/test_25oct2022c/empty~holo4/20220630/20221025T232014Z\n",
      "u/dagoret/tests/test_25oct2022c/empty~holo4/20220630/20221025T233755Z\n",
      "u/dagoret/tests/test_25oct2022c/empty~holo4/20220630/20221025T235232Z\n",
      "u/dagoret/tests/test_25oct2022c/empty~holo4/20220630/20221026T000852Z\n",
      "u/dagoret/tests/test_25oct2022c/empty~holo4/20220630/20221026T002621Z\n",
      "u/dagoret/tests/test_25oct2022c/empty~holo4/20220630/20221026T005722Z\n",
      "u/dagoret/tests/test_25oct2022c/empty~holo4/20220630/20221026T012519Z\n",
      "u/dagoret/tests/test_25oct2022c/empty~holo4/20220630/20221026T015421Z\n",
      "u/dagoret/tests/test_25oct2022c/empty~holo4/20220630/20221026T022939Z\n",
      "u/dagoret/tests/test_25oct2022c/empty~holo4/20220630/20221026T025840Z\n",
      "u/dagoret/tests/test_25oct2022c/empty~holo4/20220630/20221026T031520Z\n",
      "u/dagoret/tests/test_25oct2022c/empty~holo4/20220630/20221026T032850Z\n",
      "u/dagoret/tests/test_25oct2022c/empty~holo4/20220630/20221026T034151Z\n",
      "u/dagoret/tests/test_25oct2022c/empty~holo4/20220630/20221026T035501Z\n",
      "u/dagoret/tests/test_25oct2022c/empty~holo4/20220630/20221026T040246Z\n",
      "u/dagoret/tests/test_25oct2022c/empty~holo4/20220630/20221026T040852Z\n",
      "u/dagoret/tests/test_25oct2022c/empty~holo4/20220630/20221026T052154Z\n",
      "u/dagoret/tests/test_25oct2022c/empty~holo4/20220630/20221026T052435Z\n",
      "u/dagoret/tests/test_25oct2022c/empty~holo4/20220630/20221026T054233Z\n",
      "u/dagoret/tests/test_25oct2022c/empty~holo4/20220630/20221026T055246Z\n",
      "u/dagoret/tests/test_25oct2022c/empty~holo4/20220630/20221026T060325Z\n",
      "u/dagoret/tests/test_25oct2022c/empty~holo4/20220630/20221026T061434Z\n",
      "u/dagoret/tests/test_25oct2022c/empty~holo4/20220630/20221026T062849Z\n",
      "u/dagoret/tests/test_25oct2022c/empty~holo4/20220630/20221026T063953Z\n",
      "u/dagoret/tests/test_25oct2022c/empty~holo4/20220630/20221026T064646Z\n",
      "u/dagoret/tests/test_25oct2022c/empty~holo4/20220630/20221026T064807Z\n",
      "u/dagoret/tests/test_25oct2022c/empty~holo4/20220630/20221026T064946Z\n",
      "u/dagoret/tests/test_25oct2022c/empty~holo4/20220630/20221026T083247Z\n",
      "u/dagoret/tests/test_25oct2022c/empty~holo4/20220630/20221026T083954Z\n",
      "u/dagoret/tests/test_25oct2022c/empty~holo4/20220630/20221026T084727Z\n",
      "u/dagoret/tests/test_25oct2022c/empty~holo4/20220630/20221026T092132Z\n",
      "u/dagoret/tests/test_25oct2022c/empty~holo4/20220630/20221026T092247Z\n",
      "u/dagoret/tests/test_25oct2022c/empty~holo4/20220630/20221026T092358Z\n",
      "u/dagoret/tests/test_25oct2022c/empty~holo4/20220630/20221026T093336Z\n"
     ]
    }
   ],
   "source": [
    "for c in sorted(registry.queryCollections()):\n",
    "    if \"u/dagoret\" in c:\n",
    "        print(c)"
   ]
  },
  {
   "cell_type": "code",
   "execution_count": 6,
   "id": "7df1993e-e932-4d7b-92ca-df6a72d40e21",
   "metadata": {
    "execution": {
     "iopub.execute_input": "2023-12-20T20:38:00.085438Z",
     "iopub.status.busy": "2023-12-20T20:38:00.085298Z",
     "iopub.status.idle": "2023-12-20T20:38:00.105645Z",
     "shell.execute_reply": "2023-12-20T20:38:00.105253Z",
     "shell.execute_reply.started": "2023-12-20T20:38:00.085426Z"
    }
   },
   "outputs": [
    {
     "name": "stdout",
     "output_type": "stream",
     "text": [
      "u/dagoret/tests/test_20oct2022\n",
      "u/dagoret/tests/test_20oct2022/20221020T133139Z\n",
      "u/dagoret/tests/test_20oct2022/20221020T140016Z\n",
      "u/dagoret/tests/test_20oct2022/20221020T143125Z\n",
      "u/dagoret/tests/test_20oct2022/20221020T150409Z\n",
      "u/dagoret/tests/test_20oct2022/20221020T154456Z\n",
      "u/dagoret/tests/test_20oct2022/20221020T161227Z\n",
      "u/dagoret/tests/test_20oct2022/20221020T164030Z\n",
      "u/dagoret/tests/test_20oct2022/20221020T172659Z\n",
      "u/dagoret/tests/test_20oct2022/20221020T174950Z\n",
      "u/dagoret/tests/test_20oct2022/20221020T181516Z\n",
      "u/dagoret/tests/test_20oct2022/20221020T183735Z\n",
      "u/dagoret/tests/test_20oct2022/20221020T190300Z\n",
      "u/dagoret/tests/test_20oct2022/20221020T192822Z\n",
      "u/dagoret/tests/test_20oct2022/20221020T195347Z\n",
      "u/dagoret/tests/test_20oct2022/20221020T201934Z\n",
      "u/dagoret/tests/test_20oct2022/20221020T205445Z\n",
      "u/dagoret/tests/test_20oct2022/20221020T212411Z\n",
      "u/dagoret/tests/test_20oct2022/20221020T215022Z\n",
      "u/dagoret/tests/test_20oct2022/20221020T221714Z\n",
      "u/dagoret/tests/test_20oct2022/20221020T224311Z\n",
      "u/dagoret/tests/test_20oct2022/20221020T230834Z\n",
      "u/dagoret/tests/test_20oct2022/20221020T233544Z\n",
      "u/dagoret/tests/test_20oct2022/20221021T000023Z\n",
      "u/dagoret/tests/test_20oct2022/20221021T002734Z\n",
      "u/dagoret/tests/test_20oct2022/20221021T005342Z\n",
      "u/dagoret/tests/test_20oct2022/20221021T011709Z\n",
      "u/dagoret/tests/test_20oct2022/20221021T014031Z\n",
      "u/dagoret/tests/test_20oct2022/20221021T021137Z\n",
      "u/dagoret/tests/test_20oct2022/20221021T081447Z\n",
      "u/dagoret/tests/test_20oct2022/20221021T081849Z\n",
      "u/dagoret/tests/test_20oct2022/20221021T082219Z\n",
      "u/dagoret/tests/test_20oct2022/20221021T084001Z\n",
      "u/dagoret/tests/test_20oct2022/20221021T091152Z\n",
      "u/dagoret/tests/test_20oct2022/20221021T093438Z\n",
      "u/dagoret/tests/test_20oct2022/20221021T095629Z\n",
      "u/dagoret/tests/test_20oct2022/20221021T101859Z\n",
      "u/dagoret/tests/test_20oct2022/20221021T104057Z\n",
      "u/dagoret/tests/test_20oct2022/20221021T110614Z\n",
      "u/dagoret/tests/test_20oct2022/20221021T112742Z\n",
      "u/dagoret/tests/test_20oct2022/20221021T115126Z\n",
      "u/dagoret/tests/test_20oct2022/20221021T121915Z\n",
      "u/dagoret/tests/test_20oct2022/20221021T124128Z\n",
      "u/dagoret/tests/test_20oct2022/20221021T130409Z\n",
      "u/dagoret/tests/test_20oct2022/20221021T132959Z\n",
      "u/dagoret/tests/test_20oct2022/20221021T135545Z\n",
      "u/dagoret/tests/test_20oct2022/20221021T141819Z\n",
      "u/dagoret/tests/test_20oct2022/20221021T144300Z\n",
      "u/dagoret/tests/test_20oct2022/20221021T150701Z\n",
      "u/dagoret/tests/test_20oct2022/20221021T153022Z\n",
      "u/dagoret/tests/test_20oct2022/20221021T155518Z\n",
      "u/dagoret/tests/test_20oct2022/20221021T183425Z\n",
      "u/dagoret/tests/test_20oct2022/20221021T183546Z\n",
      "u/dagoret/tests/test_20oct2022/20221021T190436Z\n",
      "u/dagoret/tests/test_20oct2022/20221021T193224Z\n",
      "u/dagoret/tests/test_20oct2022/20221021T195856Z\n",
      "u/dagoret/tests/test_20oct2022/20221021T202314Z\n",
      "u/dagoret/tests/test_20oct2022/20221021T204713Z\n",
      "u/dagoret/tests/test_20oct2022/20221021T211342Z\n",
      "u/dagoret/tests/test_20oct2022/20221021T214158Z\n",
      "u/dagoret/tests/test_20oct2022/20221021T214324Z\n",
      "u/dagoret/tests/test_20oct2022/20221021T214505Z\n",
      "u/dagoret/tests/test_20oct2022/20221022T002916Z\n",
      "u/dagoret/tests/test_20oct2022/20221022T005415Z\n",
      "u/dagoret/tests/test_20oct2022/20221022T011958Z\n",
      "u/dagoret/tests/test_20oct2022/20221022T023516Z\n",
      "u/dagoret/tests/test_20oct2022/20221022T023639Z\n",
      "u/dagoret/tests/test_20oct2022/20221022T023742Z\n",
      "u/dagoret/tests/test_20oct2022/20221022T030307Z\n"
     ]
    }
   ],
   "source": [
    "for c in sorted(registry.queryCollections()):\n",
    "    if \"u/dagoret/tests/test_20oct2022\" in c:\n",
    "        print(c)"
   ]
  },
  {
   "cell_type": "code",
   "execution_count": 7,
   "id": "0c08e748-92c8-43e3-8f6f-b43fabcd1dd0",
   "metadata": {
    "execution": {
     "iopub.execute_input": "2023-12-20T20:38:00.106346Z",
     "iopub.status.busy": "2023-12-20T20:38:00.106224Z",
     "iopub.status.idle": "2023-12-20T20:38:00.125898Z",
     "shell.execute_reply": "2023-12-20T20:38:00.125500Z",
     "shell.execute_reply.started": "2023-12-20T20:38:00.106335Z"
    }
   },
   "outputs": [
    {
     "name": "stdout",
     "output_type": "stream",
     "text": [
      "u/dagoret/tests/test_23oct2022_empty~holo4_20220630\n",
      "u/dagoret/tests/test_23oct2022_empty~holo4_20220630/20221023T141752Z\n",
      "u/dagoret/tests/test_23oct2022_empty~holo4_20220630/20221023T141753Z\n",
      "u/dagoret/tests/test_23oct2022_empty~holo4_20220630/20221023T141759Z\n",
      "u/dagoret/tests/test_23oct2022_empty~holo4_20220630/20221023T141816Z\n",
      "u/dagoret/tests/test_23oct2022_empty~holo4_20220630/20221023T141817Z\n",
      "u/dagoret/tests/test_23oct2022_empty~holo4_20220630/20221023T141818Z\n",
      "u/dagoret/tests/test_23oct2022_empty~holo4_20220630/20221023T141826Z\n",
      "u/dagoret/tests/test_23oct2022_empty~holo4_20220630/20221023T141840Z\n",
      "u/dagoret/tests/test_23oct2022_empty~holo4_20220630/20221023T141841Z\n",
      "u/dagoret/tests/test_23oct2022_empty~holo4_20220630/20221023T141843Z\n",
      "u/dagoret/tests/test_23oct2022_empty~holo4_20220630/20221023T141859Z\n",
      "u/dagoret/tests/test_23oct2022_empty~holo4_20220630/20221023T141932Z\n",
      "u/dagoret/tests/test_23oct2022_empty~holo4_20220630/20221023T141952Z\n",
      "u/dagoret/tests/test_23oct2022_empty~holo4_20220630/20221023T142004Z\n",
      "u/dagoret/tests/test_23oct2022_empty~holo4_20220630/20221023T142037Z\n",
      "u/dagoret/tests/test_23oct2022_empty~holo4_20220630/20221023T142110Z\n",
      "u/dagoret/tests/test_23oct2022_empty~holo4_20220630/20221023T142143Z\n",
      "u/dagoret/tests/test_23oct2022_empty~holo4_20220630/20221023T142215Z\n",
      "u/dagoret/tests/test_23oct2022_empty~holo4_20220630/20221023T142248Z\n",
      "u/dagoret/tests/test_23oct2022_empty~holo4_20220630/20221023T142320Z\n",
      "u/dagoret/tests/test_23oct2022_empty~holo4_20220630/20221023T142353Z\n",
      "u/dagoret/tests/test_23oct2022_empty~holo4_20220630/20221023T142405Z\n",
      "u/dagoret/tests/test_23oct2022_empty~holo4_20220630/20221023T142425Z\n",
      "u/dagoret/tests/test_23oct2022_empty~holo4_20220630/20221023T142432Z\n",
      "u/dagoret/tests/test_23oct2022_empty~holo4_20220630/20221023T142458Z\n",
      "u/dagoret/tests/test_23oct2022_empty~holo4_20220630/20221023T142501Z\n",
      "u/dagoret/tests/test_23oct2022_empty~holo4_20220630/20221023T142503Z\n",
      "u/dagoret/tests/test_23oct2022_empty~holo4_20220630/20221023T142530Z\n",
      "u/dagoret/tests/test_23oct2022_empty~holo4_20220630/20221023T142602Z\n",
      "u/dagoret/tests/test_23oct2022_empty~holo4_20220630/20221023T142603Z\n",
      "u/dagoret/tests/test_23oct2022_empty~holo4_20220630/20221023T142625Z\n",
      "u/dagoret/tests/test_23oct2022_empty~holo4_20220630/20221023T142635Z\n",
      "u/dagoret/tests/test_23oct2022_empty~holo4_20220630/20221023T142637Z\n",
      "u/dagoret/tests/test_23oct2022_empty~holo4_20220630/20221023T142707Z\n",
      "u/dagoret/tests/test_23oct2022_empty~holo4_20220630/20221023T142740Z\n",
      "u/dagoret/tests/test_23oct2022_empty~holo4_20220630/20221023T142812Z\n",
      "u/dagoret/tests/test_23oct2022_empty~holo4_20220630/20221023T142845Z\n",
      "u/dagoret/tests/test_23oct2022_empty~holo4_20220630/20221023T142917Z\n",
      "u/dagoret/tests/test_23oct2022_empty~holo4_20220630/20221023T142921Z\n",
      "u/dagoret/tests/test_23oct2022_empty~holo4_20220630/20221023T142935Z\n",
      "u/dagoret/tests/test_23oct2022_empty~holo4_20220630/20221023T142950Z\n",
      "u/dagoret/tests/test_23oct2022_empty~holo4_20220630/20221023T143022Z\n",
      "u/dagoret/tests/test_23oct2022_empty~holo4_20220630/20221023T143030Z\n",
      "u/dagoret/tests/test_23oct2022_empty~holo4_20220630/20221023T143038Z\n",
      "u/dagoret/tests/test_23oct2022_empty~holo4_20220630/20221023T143053Z\n",
      "u/dagoret/tests/test_23oct2022_empty~holo4_20220630/20221023T143055Z\n",
      "u/dagoret/tests/test_23oct2022_empty~holo4_20220630/20221023T143104Z\n",
      "u/dagoret/tests/test_23oct2022_empty~holo4_20220630/20221023T143127Z\n",
      "u/dagoret/tests/test_23oct2022_empty~holo4_20220630/20221023T143144Z\n",
      "u/dagoret/tests/test_23oct2022_empty~holo4_20220630/20221023T143200Z\n",
      "u/dagoret/tests/test_23oct2022_empty~holo4_20220630/20221023T143225Z\n",
      "u/dagoret/tests/test_23oct2022_empty~holo4_20220630/20221023T143233Z\n",
      "u/dagoret/tests/test_23oct2022_empty~holo4_20220630/20221023T143234Z\n",
      "u/dagoret/tests/test_23oct2022_empty~holo4_20220630/20221023T143237Z\n",
      "u/dagoret/tests/test_23oct2022_empty~holo4_20220630/20221023T143305Z\n",
      "u/dagoret/tests/test_23oct2022_empty~holo4_20220630/20221023T143324Z\n"
     ]
    }
   ],
   "source": [
    "for c in sorted(registry.queryCollections()):\n",
    "    if \"u/dagoret/tests/test_23oct2022_empty~holo4_20220630\" in c:\n",
    "        print(c)"
   ]
  },
  {
   "cell_type": "code",
   "execution_count": 8,
   "id": "9aa3a729-bc21-441d-b77a-511e8bc02097",
   "metadata": {
    "execution": {
     "iopub.execute_input": "2023-12-20T20:38:00.126655Z",
     "iopub.status.busy": "2023-12-20T20:38:00.126527Z",
     "iopub.status.idle": "2023-12-20T20:38:00.145610Z",
     "shell.execute_reply": "2023-12-20T20:38:00.145212Z",
     "shell.execute_reply.started": "2023-12-20T20:38:00.126643Z"
    }
   },
   "outputs": [
    {
     "name": "stdout",
     "output_type": "stream",
     "text": [
      "u/dagoret/tests/test_25oct2022_empty~holo4_20220629\n",
      "u/dagoret/tests/test_25oct2022_empty~holo4_20220629/20221025T091027Z\n",
      "u/dagoret/tests/test_25oct2022_empty~holo4_20220629/20221025T091052Z\n",
      "u/dagoret/tests/test_25oct2022_empty~holo4_20220629/20221025T091122Z\n",
      "u/dagoret/tests/test_25oct2022_empty~holo4_20220629/20221025T091152Z\n",
      "u/dagoret/tests/test_25oct2022_empty~holo4_20220629/20221025T091153Z\n",
      "u/dagoret/tests/test_25oct2022_empty~holo4_20220629/20221025T091213Z\n",
      "u/dagoret/tests/test_25oct2022_empty~holo4_20220629/20221025T091223Z\n",
      "u/dagoret/tests/test_25oct2022_empty~holo4_20220629/20221025T091254Z\n",
      "u/dagoret/tests/test_25oct2022_empty~holo4_20220629/20221025T091324Z\n",
      "u/dagoret/tests/test_25oct2022_empty~holo4_20220629/20221025T091355Z\n",
      "u/dagoret/tests/test_25oct2022_empty~holo4_20220629/20221025T091413Z\n",
      "u/dagoret/tests/test_25oct2022_empty~holo4_20220629/20221025T091420Z\n",
      "u/dagoret/tests/test_25oct2022_empty~holo4_20220629/20221025T091426Z\n",
      "u/dagoret/tests/test_25oct2022_empty~holo4_20220629/20221025T091457Z\n",
      "u/dagoret/tests/test_25oct2022_empty~holo4_20220629/20221025T091522Z\n",
      "u/dagoret/tests/test_25oct2022_empty~holo4_20220629/20221025T091527Z\n",
      "u/dagoret/tests/test_25oct2022_empty~holo4_20220629/20221025T091547Z\n",
      "u/dagoret/tests/test_25oct2022_empty~holo4_20220629/20221025T091552Z\n",
      "u/dagoret/tests/test_25oct2022_empty~holo4_20220629/20221025T091558Z\n",
      "u/dagoret/tests/test_25oct2022_empty~holo4_20220629/20221025T091621Z\n",
      "u/dagoret/tests/test_25oct2022_empty~holo4_20220629/20221025T091629Z\n",
      "u/dagoret/tests/test_25oct2022_empty~holo4_20220629/20221025T091659Z\n",
      "u/dagoret/tests/test_25oct2022_empty~holo4_20220629/20221025T091730Z\n",
      "u/dagoret/tests/test_25oct2022_empty~holo4_20220629/20221025T091749Z\n",
      "u/dagoret/tests/test_25oct2022_empty~holo4_20220629/20221025T091800Z\n",
      "u/dagoret/tests/test_25oct2022_empty~holo4_20220629/20221025T091831Z\n",
      "u/dagoret/tests/test_25oct2022_empty~holo4_20220629/20221025T091902Z\n",
      "u/dagoret/tests/test_25oct2022_empty~holo4_20220629/20221025T091907Z\n",
      "u/dagoret/tests/test_25oct2022_empty~holo4_20220629/20221025T091933Z\n",
      "u/dagoret/tests/test_25oct2022_empty~holo4_20220629/20221025T091949Z\n",
      "u/dagoret/tests/test_25oct2022_empty~holo4_20220629/20221025T091953Z\n",
      "u/dagoret/tests/test_25oct2022_empty~holo4_20220629/20221025T092003Z\n",
      "u/dagoret/tests/test_25oct2022_empty~holo4_20220629/20221025T092009Z\n",
      "u/dagoret/tests/test_25oct2022_empty~holo4_20220629/20221025T092029Z\n",
      "u/dagoret/tests/test_25oct2022_empty~holo4_20220629/20221025T092034Z\n",
      "u/dagoret/tests/test_25oct2022_empty~holo4_20220629/20221025T092045Z\n",
      "u/dagoret/tests/test_25oct2022_empty~holo4_20220629/20221025T092105Z\n",
      "u/dagoret/tests/test_25oct2022_empty~holo4_20220629/20221025T092136Z\n",
      "u/dagoret/tests/test_25oct2022_empty~holo4_20220629/20221025T092139Z\n",
      "u/dagoret/tests/test_25oct2022_empty~holo4_20220629/20221025T092207Z\n",
      "u/dagoret/tests/test_25oct2022_empty~holo4_20220629/20221025T092238Z\n",
      "u/dagoret/tests/test_25oct2022_empty~holo4_20220629/20221025T092257Z\n",
      "u/dagoret/tests/test_25oct2022_empty~holo4_20220629/20221025T092308Z\n",
      "u/dagoret/tests/test_25oct2022_empty~holo4_20220629/20221025T092339Z\n",
      "u/dagoret/tests/test_25oct2022_empty~holo4_20220629/20221025T092359Z\n",
      "u/dagoret/tests/test_25oct2022_empty~holo4_20220629/20221025T092409Z\n",
      "u/dagoret/tests/test_25oct2022_empty~holo4_20220629/20221025T092433Z\n",
      "u/dagoret/tests/test_25oct2022_empty~holo4_20220629/20221025T092440Z\n",
      "u/dagoret/tests/test_25oct2022_empty~holo4_20220629/20221025T092443Z\n",
      "u/dagoret/tests/test_25oct2022_empty~holo4_20220629/20221025T092456Z\n",
      "u/dagoret/tests/test_25oct2022_empty~holo4_20220629/20221025T092506Z\n",
      "u/dagoret/tests/test_25oct2022_empty~holo4_20220629/20221025T092510Z\n",
      "u/dagoret/tests/test_25oct2022_empty~holo4_20220629/20221025T092540Z\n",
      "u/dagoret/tests/test_25oct2022_empty~holo4_20220629/20221025T092558Z\n",
      "u/dagoret/tests/test_25oct2022_empty~holo4_20220629/20221025T092609Z\n",
      "u/dagoret/tests/test_25oct2022_empty~holo4_20220629/20221025T092612Z\n",
      "u/dagoret/tests/test_25oct2022_empty~holo4_20220629/20221025T092642Z\n",
      "u/dagoret/tests/test_25oct2022_empty~holo4_20220629/20221025T092712Z\n",
      "u/dagoret/tests/test_25oct2022_empty~holo4_20220629/20221025T092743Z\n",
      "u/dagoret/tests/test_25oct2022_empty~holo4_20220629/20221025T092807Z\n",
      "u/dagoret/tests/test_25oct2022_empty~holo4_20220629/20221025T092813Z\n",
      "u/dagoret/tests/test_25oct2022_empty~holo4_20220629/20221025T092844Z\n"
     ]
    }
   ],
   "source": [
    "for c in sorted(registry.queryCollections()):\n",
    "    if \"u/dagoret/tests/test_25oct2022_empty~holo4_20220629\" in c:\n",
    "        print(c)"
   ]
  },
  {
   "cell_type": "code",
   "execution_count": 9,
   "id": "c51a550b-68f9-4396-a975-6d88a653aa85",
   "metadata": {
    "execution": {
     "iopub.execute_input": "2023-12-20T20:38:00.146257Z",
     "iopub.status.busy": "2023-12-20T20:38:00.146134Z",
     "iopub.status.idle": "2023-12-20T20:38:00.184648Z",
     "shell.execute_reply": "2023-12-20T20:38:00.184207Z",
     "shell.execute_reply.started": "2023-12-20T20:38:00.146246Z"
    }
   },
   "outputs": [],
   "source": [
    "refs_ds=list(butler.registry.queryDatasets(datasetType='spectraction',collections=\"u/dagoret/tests/test_20oct2022\"))"
   ]
  },
  {
   "cell_type": "code",
   "execution_count": 10,
   "id": "5663e0c9-79b6-41e8-b0bc-dc336b629248",
   "metadata": {
    "execution": {
     "iopub.execute_input": "2023-12-20T20:38:00.185406Z",
     "iopub.status.busy": "2023-12-20T20:38:00.185259Z",
     "iopub.status.idle": "2023-12-20T20:38:00.189242Z",
     "shell.execute_reply": "2023-12-20T20:38:00.188899Z",
     "shell.execute_reply.started": "2023-12-20T20:38:00.185393Z"
    }
   },
   "outputs": [
    {
     "data": {
      "text/plain": [
       "[DatasetRef(DatasetType('spectraction', {band, instrument, detector, physical_filter, visit}, Spectraction), {instrument: 'LATISS', detector: 0, visit: 2022063000045, ...}, run='u/dagoret/tests/test_20oct2022/20221020T133139Z', id=59bc8450-c7ba-4d2a-af6d-2a56cbd050de),\n",
       " DatasetRef(DatasetType('spectraction', {band, instrument, detector, physical_filter, visit}, Spectraction), {instrument: 'LATISS', detector: 0, visit: 2022063000046, ...}, run='u/dagoret/tests/test_20oct2022/20221020T140016Z', id=6e459117-427b-4729-b4ba-c8a09bb8f5c0),\n",
       " DatasetRef(DatasetType('spectraction', {band, instrument, detector, physical_filter, visit}, Spectraction), {instrument: 'LATISS', detector: 0, visit: 2022063000060, ...}, run='u/dagoret/tests/test_20oct2022/20221020T143125Z', id=1e158238-7d66-40c2-a780-63b77e12257c),\n",
       " DatasetRef(DatasetType('spectraction', {band, instrument, detector, physical_filter, visit}, Spectraction), {instrument: 'LATISS', detector: 0, visit: 2022063000061, ...}, run='u/dagoret/tests/test_20oct2022/20221020T150409Z', id=e40961d8-6e63-49da-b3a7-7e812896dee7),\n",
       " DatasetRef(DatasetType('spectraction', {band, instrument, detector, physical_filter, visit}, Spectraction), {instrument: 'LATISS', detector: 0, visit: 2022063000076, ...}, run='u/dagoret/tests/test_20oct2022/20221020T154456Z', id=ed372246-6a4a-4b1e-9f04-99275710e25c),\n",
       " DatasetRef(DatasetType('spectraction', {band, instrument, detector, physical_filter, visit}, Spectraction), {instrument: 'LATISS', detector: 0, visit: 2022063000077, ...}, run='u/dagoret/tests/test_20oct2022/20221020T161227Z', id=5f14e8ca-b9b8-4250-bc64-e3fe79c56423),\n",
       " DatasetRef(DatasetType('spectraction', {band, instrument, detector, physical_filter, visit}, Spectraction), {instrument: 'LATISS', detector: 0, visit: 2022063000121, ...}, run='u/dagoret/tests/test_20oct2022/20221020T183735Z', id=828fedeb-fbf3-4b2a-b2b7-1354a9036e5e),\n",
       " DatasetRef(DatasetType('spectraction', {band, instrument, detector, physical_filter, visit}, Spectraction), {instrument: 'LATISS', detector: 0, visit: 2022063000091, ...}, run='u/dagoret/tests/test_20oct2022/20221020T164030Z', id=03e5a029-5a5a-4f47-a8bd-c34b09265c22),\n",
       " DatasetRef(DatasetType('spectraction', {band, instrument, detector, physical_filter, visit}, Spectraction), {instrument: 'LATISS', detector: 0, visit: 2022063000092, ...}, run='u/dagoret/tests/test_20oct2022/20221020T172659Z', id=db0c2824-2b36-4005-9a8d-7f090241964a),\n",
       " DatasetRef(DatasetType('spectraction', {band, instrument, detector, physical_filter, visit}, Spectraction), {instrument: 'LATISS', detector: 0, visit: 2022063000122, ...}, run='u/dagoret/tests/test_20oct2022/20221020T190300Z', id=2bfde88f-72a5-4527-87e3-c851caa5154c),\n",
       " DatasetRef(DatasetType('spectraction', {band, instrument, detector, physical_filter, visit}, Spectraction), {instrument: 'LATISS', detector: 0, visit: 2022063000106, ...}, run='u/dagoret/tests/test_20oct2022/20221020T174950Z', id=7adf2816-69a4-4530-8d3c-66bf4c0c7f07),\n",
       " DatasetRef(DatasetType('spectraction', {band, instrument, detector, physical_filter, visit}, Spectraction), {instrument: 'LATISS', detector: 0, visit: 2022063000136, ...}, run='u/dagoret/tests/test_20oct2022/20221020T192822Z', id=4c32b37a-d931-4dc2-a3d9-35902f1d1754),\n",
       " DatasetRef(DatasetType('spectraction', {band, instrument, detector, physical_filter, visit}, Spectraction), {instrument: 'LATISS', detector: 0, visit: 2022063000107, ...}, run='u/dagoret/tests/test_20oct2022/20221020T181516Z', id=06b2aa43-5040-4c5a-8637-dcba579fc245),\n",
       " DatasetRef(DatasetType('spectraction', {band, instrument, detector, physical_filter, visit}, Spectraction), {instrument: 'LATISS', detector: 0, visit: 2022063000137, ...}, run='u/dagoret/tests/test_20oct2022/20221020T195347Z', id=59082caa-8031-48f2-9dac-b83ba7567854),\n",
       " DatasetRef(DatasetType('spectraction', {band, instrument, detector, physical_filter, visit}, Spectraction), {instrument: 'LATISS', detector: 0, visit: 2022063000158, ...}, run='u/dagoret/tests/test_20oct2022/20221020T205445Z', id=6089e7f5-a2cc-4e65-9c3b-283a8f9d6171),\n",
       " DatasetRef(DatasetType('spectraction', {band, instrument, detector, physical_filter, visit}, Spectraction), {instrument: 'LATISS', detector: 0, visit: 2022063000177, ...}, run='u/dagoret/tests/test_20oct2022/20221020T212411Z', id=c16f1963-465e-4d9d-bb4d-4fba92255771),\n",
       " DatasetRef(DatasetType('spectraction', {band, instrument, detector, physical_filter, visit}, Spectraction), {instrument: 'LATISS', detector: 0, visit: 2022063000157, ...}, run='u/dagoret/tests/test_20oct2022/20221020T201934Z', id=14c5a978-9caa-4a00-b702-c87eafb52dd0),\n",
       " DatasetRef(DatasetType('spectraction', {band, instrument, detector, physical_filter, visit}, Spectraction), {instrument: 'LATISS', detector: 0, visit: 2022063000178, ...}, run='u/dagoret/tests/test_20oct2022/20221020T215022Z', id=985351fb-4587-4c8a-8b86-76b1ba3730a4),\n",
       " DatasetRef(DatasetType('spectraction', {band, instrument, detector, physical_filter, visit}, Spectraction), {instrument: 'LATISS', detector: 0, visit: 2022063000216, ...}, run='u/dagoret/tests/test_20oct2022/20221020T221714Z', id=4e497a85-054f-4489-8913-4e62b2886b7e),\n",
       " DatasetRef(DatasetType('spectraction', {band, instrument, detector, physical_filter, visit}, Spectraction), {instrument: 'LATISS', detector: 0, visit: 2022063000217, ...}, run='u/dagoret/tests/test_20oct2022/20221020T224311Z', id=21a06c93-1309-43d1-84d6-9e57b4a9a25b),\n",
       " DatasetRef(DatasetType('spectraction', {band, instrument, detector, physical_filter, visit}, Spectraction), {instrument: 'LATISS', detector: 0, visit: 2022063000231, ...}, run='u/dagoret/tests/test_20oct2022/20221020T230834Z', id=250ba87c-ca86-4a5c-9ff1-928469e15411),\n",
       " DatasetRef(DatasetType('spectraction', {band, instrument, detector, physical_filter, visit}, Spectraction), {instrument: 'LATISS', detector: 0, visit: 2022063000232, ...}, run='u/dagoret/tests/test_20oct2022/20221020T233544Z', id=6afd06cd-1beb-4a72-949e-b8540d80e984),\n",
       " DatasetRef(DatasetType('spectraction', {band, instrument, detector, physical_filter, visit}, Spectraction), {instrument: 'LATISS', detector: 0, visit: 2022063000276, ...}, run='u/dagoret/tests/test_20oct2022/20221021T014031Z', id=ce94f821-0d67-42e9-b304-fa9f4a3c081a),\n",
       " DatasetRef(DatasetType('spectraction', {band, instrument, detector, physical_filter, visit}, Spectraction), {instrument: 'LATISS', detector: 0, visit: 2022063000246, ...}, run='u/dagoret/tests/test_20oct2022/20221021T000023Z', id=9c38322c-9966-430a-8577-5ec64cd00b36),\n",
       " DatasetRef(DatasetType('spectraction', {band, instrument, detector, physical_filter, visit}, Spectraction), {instrument: 'LATISS', detector: 0, visit: 2022063000276, ...}, run='u/dagoret/tests/test_20oct2022/20221021T084001Z', id=89302520-f1a3-41b1-82c6-0a561e46d0eb),\n",
       " DatasetRef(DatasetType('spectraction', {band, instrument, detector, physical_filter, visit}, Spectraction), {instrument: 'LATISS', detector: 0, visit: 2022063000247, ...}, run='u/dagoret/tests/test_20oct2022/20221021T002734Z', id=30cc539f-8859-463e-aa09-536cf19f651c),\n",
       " DatasetRef(DatasetType('spectraction', {band, instrument, detector, physical_filter, visit}, Spectraction), {instrument: 'LATISS', detector: 0, visit: 2022063000261, ...}, run='u/dagoret/tests/test_20oct2022/20221021T005342Z', id=fb0d3e80-8a49-470c-a094-2a648188b33f),\n",
       " DatasetRef(DatasetType('spectraction', {band, instrument, detector, physical_filter, visit}, Spectraction), {instrument: 'LATISS', detector: 0, visit: 2022063000262, ...}, run='u/dagoret/tests/test_20oct2022/20221021T011709Z', id=b6cdd39a-b087-4b3c-a38c-b9f74c4e8691),\n",
       " DatasetRef(DatasetType('spectraction', {band, instrument, detector, physical_filter, visit}, Spectraction), {instrument: 'LATISS', detector: 0, visit: 2022063000277, ...}, run='u/dagoret/tests/test_20oct2022/20221021T091152Z', id=e09a359d-f96b-49b1-899e-b72caabe35c2),\n",
       " DatasetRef(DatasetType('spectraction', {band, instrument, detector, physical_filter, visit}, Spectraction), {instrument: 'LATISS', detector: 0, visit: 2022063000292, ...}, run='u/dagoret/tests/test_20oct2022/20221021T095629Z', id=1183ea94-b0f8-4cce-97af-97ed52514283),\n",
       " DatasetRef(DatasetType('spectraction', {band, instrument, detector, physical_filter, visit}, Spectraction), {instrument: 'LATISS', detector: 0, visit: 2022063000306, ...}, run='u/dagoret/tests/test_20oct2022/20221021T101859Z', id=f2a89d37-1628-4727-ab6e-a9ff20fcdc1d),\n",
       " DatasetRef(DatasetType('spectraction', {band, instrument, detector, physical_filter, visit}, Spectraction), {instrument: 'LATISS', detector: 0, visit: 2022063000291, ...}, run='u/dagoret/tests/test_20oct2022/20221021T093438Z', id=3bd6d3f0-4e7f-4c7a-b76c-e47dd4876c92),\n",
       " DatasetRef(DatasetType('spectraction', {band, instrument, detector, physical_filter, visit}, Spectraction), {instrument: 'LATISS', detector: 0, visit: 2022063000352, ...}, run='u/dagoret/tests/test_20oct2022/20221021T121915Z', id=663901a6-3c60-4829-8549-08992823257a),\n",
       " DatasetRef(DatasetType('spectraction', {band, instrument, detector, physical_filter, visit}, Spectraction), {instrument: 'LATISS', detector: 0, visit: 2022063000317, ...}, run='u/dagoret/tests/test_20oct2022/20221021T104057Z', id=f8873db6-13b0-4695-b27d-de216632579a),\n",
       " DatasetRef(DatasetType('spectraction', {band, instrument, detector, physical_filter, visit}, Spectraction), {instrument: 'LATISS', detector: 0, visit: 2022063000318, ...}, run='u/dagoret/tests/test_20oct2022/20221021T110614Z', id=588279e2-e576-4d97-913c-a038df3262e4),\n",
       " DatasetRef(DatasetType('spectraction', {band, instrument, detector, physical_filter, visit}, Spectraction), {instrument: 'LATISS', detector: 0, visit: 2022063000337, ...}, run='u/dagoret/tests/test_20oct2022/20221021T112742Z', id=46e158ac-50d2-4f65-885c-cb8a916b76bc),\n",
       " DatasetRef(DatasetType('spectraction', {band, instrument, detector, physical_filter, visit}, Spectraction), {instrument: 'LATISS', detector: 0, visit: 2022063000338, ...}, run='u/dagoret/tests/test_20oct2022/20221021T115126Z', id=243d9806-e6b8-4adb-b284-d2d9f36940d5),\n",
       " DatasetRef(DatasetType('spectraction', {band, instrument, detector, physical_filter, visit}, Spectraction), {instrument: 'LATISS', detector: 0, visit: 2022063000353, ...}, run='u/dagoret/tests/test_20oct2022/20221021T124128Z', id=2581a0f2-8af5-4988-9001-fde5e7763bf1),\n",
       " DatasetRef(DatasetType('spectraction', {band, instrument, detector, physical_filter, visit}, Spectraction), {instrument: 'LATISS', detector: 0, visit: 2022063000391, ...}, run='u/dagoret/tests/test_20oct2022/20221021T141819Z', id=f6e0e34a-59bc-42a5-9bb9-7a8bc14ee7ed),\n",
       " DatasetRef(DatasetType('spectraction', {band, instrument, detector, physical_filter, visit}, Spectraction), {instrument: 'LATISS', detector: 0, visit: 2022063000367, ...}, run='u/dagoret/tests/test_20oct2022/20221021T130409Z', id=4bf614c3-ccdb-4e43-8d3c-d773934dcd92),\n",
       " DatasetRef(DatasetType('spectraction', {band, instrument, detector, physical_filter, visit}, Spectraction), {instrument: 'LATISS', detector: 0, visit: 2022063000368, ...}, run='u/dagoret/tests/test_20oct2022/20221021T132959Z', id=e51faf20-2bf5-4226-889b-63415cd33127),\n",
       " DatasetRef(DatasetType('spectraction', {band, instrument, detector, physical_filter, visit}, Spectraction), {instrument: 'LATISS', detector: 0, visit: 2022063000390, ...}, run='u/dagoret/tests/test_20oct2022/20221021T135545Z', id=ddf7150b-f3e2-45fa-8253-2dd5bce1516d),\n",
       " DatasetRef(DatasetType('spectraction', {band, instrument, detector, physical_filter, visit}, Spectraction), {instrument: 'LATISS', detector: 0, visit: 2022063000405, ...}, run='u/dagoret/tests/test_20oct2022/20221021T144300Z', id=edb7b962-2f5b-43eb-a4cf-a18a15fdff02),\n",
       " DatasetRef(DatasetType('spectraction', {band, instrument, detector, physical_filter, visit}, Spectraction), {instrument: 'LATISS', detector: 0, visit: 2022063000451, ...}, run='u/dagoret/tests/test_20oct2022/20221021T193224Z', id=99be2784-e443-4f74-aafb-2f3685c2f841),\n",
       " DatasetRef(DatasetType('spectraction', {band, instrument, detector, physical_filter, visit}, Spectraction), {instrument: 'LATISS', detector: 0, visit: 2022063000406, ...}, run='u/dagoret/tests/test_20oct2022/20221021T150701Z', id=2701afa9-8874-4dc6-8c59-c03ee46b0a63),\n",
       " DatasetRef(DatasetType('spectraction', {band, instrument, detector, physical_filter, visit}, Spectraction), {instrument: 'LATISS', detector: 0, visit: 2022063000436, ...}, run='u/dagoret/tests/test_20oct2022/20221021T183546Z', id=6eaf5042-94d5-4b4d-b773-bd9d7b0401f1),\n",
       " DatasetRef(DatasetType('spectraction', {band, instrument, detector, physical_filter, visit}, Spectraction), {instrument: 'LATISS', detector: 0, visit: 2022063000420, ...}, run='u/dagoret/tests/test_20oct2022/20221021T153022Z', id=7a2998de-e688-4dd7-8bdd-a79f45ffc8f4),\n",
       " DatasetRef(DatasetType('spectraction', {band, instrument, detector, physical_filter, visit}, Spectraction), {instrument: 'LATISS', detector: 0, visit: 2022063000421, ...}, run='u/dagoret/tests/test_20oct2022/20221021T155518Z', id=99eaaa2e-d20f-4a21-a7fc-3af469fb511c),\n",
       " DatasetRef(DatasetType('spectraction', {band, instrument, detector, physical_filter, visit}, Spectraction), {instrument: 'LATISS', detector: 0, visit: 2022063000450, ...}, run='u/dagoret/tests/test_20oct2022/20221021T190436Z', id=8f56a1a5-eb7a-4b2d-af0c-ce12c89c38b5),\n",
       " DatasetRef(DatasetType('spectraction', {band, instrument, detector, physical_filter, visit}, Spectraction), {instrument: 'LATISS', detector: 0, visit: 2022063000476, ...}, run='u/dagoret/tests/test_20oct2022/20221021T195856Z', id=c064eeac-237f-45d2-bde8-1de377f2d175),\n",
       " DatasetRef(DatasetType('spectraction', {band, instrument, detector, physical_filter, visit}, Spectraction), {instrument: 'LATISS', detector: 0, visit: 2022063000477, ...}, run='u/dagoret/tests/test_20oct2022/20221021T202314Z', id=f38c7345-124e-484c-9d82-853c4af68568),\n",
       " DatasetRef(DatasetType('spectraction', {band, instrument, detector, physical_filter, visit}, Spectraction), {instrument: 'LATISS', detector: 0, visit: 2022063000492, ...}, run='u/dagoret/tests/test_20oct2022/20221021T211342Z', id=2004584a-b118-4a44-9a92-5294062e49bb),\n",
       " DatasetRef(DatasetType('spectraction', {band, instrument, detector, physical_filter, visit}, Spectraction), {instrument: 'LATISS', detector: 0, visit: 2022063000491, ...}, run='u/dagoret/tests/test_20oct2022/20221021T204713Z', id=569e1a87-4bb3-47a0-866b-274a47c5bff0),\n",
       " DatasetRef(DatasetType('spectraction', {band, instrument, detector, physical_filter, visit}, Spectraction), {instrument: 'LATISS', detector: 0, visit: 2022063000521, ...}, run='u/dagoret/tests/test_20oct2022/20221021T214505Z', id=6bff720e-5f3b-404a-b798-3733356d66e7),\n",
       " DatasetRef(DatasetType('spectraction', {band, instrument, detector, physical_filter, visit}, Spectraction), {instrument: 'LATISS', detector: 0, visit: 2022063000589, ...}, run='u/dagoret/tests/test_20oct2022/20221022T023742Z', id=3ceb9b2d-823e-4579-a5e0-a9df6ad09f09),\n",
       " DatasetRef(DatasetType('spectraction', {band, instrument, detector, physical_filter, visit}, Spectraction), {instrument: 'LATISS', detector: 0, visit: 2022063000522, ...}, run='u/dagoret/tests/test_20oct2022/20221022T002916Z', id=dd857ab1-941b-4637-85f3-b83b727acc08),\n",
       " DatasetRef(DatasetType('spectraction', {band, instrument, detector, physical_filter, visit}, Spectraction), {instrument: 'LATISS', detector: 0, visit: 2022063000590, ...}, run='u/dagoret/tests/test_20oct2022/20221022T030307Z', id=8fb535b7-a422-4dac-8307-c4ffa4895bb1),\n",
       " DatasetRef(DatasetType('spectraction', {band, instrument, detector, physical_filter, visit}, Spectraction), {instrument: 'LATISS', detector: 0, visit: 2022063000536, ...}, run='u/dagoret/tests/test_20oct2022/20221022T005415Z', id=64ad8521-4ebe-477d-b97d-5088f637998e),\n",
       " DatasetRef(DatasetType('spectraction', {band, instrument, detector, physical_filter, visit}, Spectraction), {instrument: 'LATISS', detector: 0, visit: 2022063000537, ...}, run='u/dagoret/tests/test_20oct2022/20221022T011958Z', id=fa557ab9-470e-4954-9a83-d5ecabdca243)]"
      ]
     },
     "execution_count": 10,
     "metadata": {},
     "output_type": "execute_result"
    }
   ],
   "source": [
    "refs_ds"
   ]
  },
  {
   "cell_type": "code",
   "execution_count": 11,
   "id": "eaf2d6e4-6d4e-4884-937b-ce72331c87e4",
   "metadata": {
    "execution": {
     "iopub.execute_input": "2023-12-20T20:38:00.189866Z",
     "iopub.status.busy": "2023-12-20T20:38:00.189748Z",
     "iopub.status.idle": "2023-12-20T20:38:00.197561Z",
     "shell.execute_reply": "2023-12-20T20:38:00.197197Z",
     "shell.execute_reply.started": "2023-12-20T20:38:00.189855Z"
    }
   },
   "outputs": [],
   "source": [
    "refs_ds=list(butler.registry.queryDatasets(datasetType='spectraction',collections=\"u/dagoret/tests/test_23oct2022/empty~holo4/20220630\"))"
   ]
  },
  {
   "cell_type": "code",
   "execution_count": 12,
   "id": "839952e6-22f9-463d-9bcb-5fdff3091e5a",
   "metadata": {
    "execution": {
     "iopub.execute_input": "2023-12-20T20:38:00.198168Z",
     "iopub.status.busy": "2023-12-20T20:38:00.198047Z",
     "iopub.status.idle": "2023-12-20T20:38:00.200533Z",
     "shell.execute_reply": "2023-12-20T20:38:00.200201Z",
     "shell.execute_reply.started": "2023-12-20T20:38:00.198157Z"
    }
   },
   "outputs": [
    {
     "data": {
      "text/plain": [
       "[DatasetRef(DatasetType('spectraction', {band, instrument, detector, physical_filter, visit}, Spectraction), {instrument: 'LATISS', detector: 0, visit: 2022063000391, ...}, run='u/dagoret/tests/test_23oct2022/empty~holo4/20220630/20221023T140948Z', id=2c5072de-6b13-4afd-85c0-352469fdf349)]"
      ]
     },
     "execution_count": 12,
     "metadata": {},
     "output_type": "execute_result"
    }
   ],
   "source": [
    "refs_ds"
   ]
  },
  {
   "cell_type": "code",
   "execution_count": 13,
   "id": "0a145cfc-182e-4af0-9f99-c72da24e88f9",
   "metadata": {
    "execution": {
     "iopub.execute_input": "2023-12-20T20:38:00.201113Z",
     "iopub.status.busy": "2023-12-20T20:38:00.200999Z",
     "iopub.status.idle": "2023-12-20T20:38:00.208498Z",
     "shell.execute_reply": "2023-12-20T20:38:00.208151Z",
     "shell.execute_reply.started": "2023-12-20T20:38:00.201103Z"
    }
   },
   "outputs": [],
   "source": [
    "refs_ds=list(butler.registry.queryDatasets(datasetType='spectraction',collections=\"u/dagoret/tests/test_23oct2022_empty~holo4_20220630\"))"
   ]
  },
  {
   "cell_type": "code",
   "execution_count": 14,
   "id": "c23b0019-7b81-4546-ba5f-8203316a2222",
   "metadata": {
    "execution": {
     "iopub.execute_input": "2023-12-20T20:38:00.210324Z",
     "iopub.status.busy": "2023-12-20T20:38:00.210205Z",
     "iopub.status.idle": "2023-12-20T20:38:00.212688Z",
     "shell.execute_reply": "2023-12-20T20:38:00.212368Z",
     "shell.execute_reply.started": "2023-12-20T20:38:00.210313Z"
    }
   },
   "outputs": [
    {
     "data": {
      "text/plain": [
       "[DatasetRef(DatasetType('spectraction', {band, instrument, detector, physical_filter, visit}, Spectraction), {instrument: 'LATISS', detector: 0, visit: 2022063000590, ...}, run='u/dagoret/tests/test_23oct2022_empty~holo4_20220630/20221023T143324Z', id=946e7dde-a60e-4369-ace5-13d0db24ef8f)]"
      ]
     },
     "execution_count": 14,
     "metadata": {},
     "output_type": "execute_result"
    }
   ],
   "source": [
    "refs_ds"
   ]
  },
  {
   "cell_type": "code",
   "execution_count": 15,
   "id": "0182173c-b4a1-4f18-b1fe-6907442d6b6c",
   "metadata": {
    "execution": {
     "iopub.execute_input": "2023-12-20T20:38:00.213283Z",
     "iopub.status.busy": "2023-12-20T20:38:00.213175Z",
     "iopub.status.idle": "2023-12-20T20:38:00.220297Z",
     "shell.execute_reply": "2023-12-20T20:38:00.219959Z",
     "shell.execute_reply.started": "2023-12-20T20:38:00.213273Z"
    }
   },
   "outputs": [],
   "source": [
    "#u/dagoret/tests/test_25oct2022_empty~holo4_20220629\n",
    "refs_ds=list(butler.registry.queryDatasets(datasetType='spectraction',collections=\"u/dagoret/tests/test_25oct2022_empty~holo4_20220629\"))"
   ]
  },
  {
   "cell_type": "code",
   "execution_count": 16,
   "id": "3bfa7932-0572-4290-8bb1-4c6c27c4b8f9",
   "metadata": {
    "execution": {
     "iopub.execute_input": "2023-12-20T20:38:00.220861Z",
     "iopub.status.busy": "2023-12-20T20:38:00.220750Z",
     "iopub.status.idle": "2023-12-20T20:38:00.223278Z",
     "shell.execute_reply": "2023-12-20T20:38:00.222952Z",
     "shell.execute_reply.started": "2023-12-20T20:38:00.220850Z"
    }
   },
   "outputs": [
    {
     "data": {
      "text/plain": [
       "[DatasetRef(DatasetType('spectraction', {band, instrument, detector, physical_filter, visit}, Spectraction), {instrument: 'LATISS', detector: 0, visit: 2022062900524, ...}, run='u/dagoret/tests/test_25oct2022_empty~holo4_20220629/20221025T092807Z', id=00729257-7c90-4b0b-9d62-184826e75f0c)]"
      ]
     },
     "execution_count": 16,
     "metadata": {},
     "output_type": "execute_result"
    }
   ],
   "source": [
    "refs_ds"
   ]
  },
  {
   "cell_type": "code",
   "execution_count": 17,
   "id": "06fca2f5-fe1f-4fc2-ae79-c84cb63ac8fc",
   "metadata": {
    "execution": {
     "iopub.execute_input": "2023-12-20T20:38:00.223856Z",
     "iopub.status.busy": "2023-12-20T20:38:00.223741Z",
     "iopub.status.idle": "2023-12-20T20:38:00.233129Z",
     "shell.execute_reply": "2023-12-20T20:38:00.232788Z",
     "shell.execute_reply.started": "2023-12-20T20:38:00.223845Z"
    }
   },
   "outputs": [],
   "source": [
    "#u/dagoret/tests/test_25oct2022b_empty~holo4_20220629\n",
    "refs_ds=list(butler.registry.queryDatasets(datasetType='spectraction',collections=\"u/dagoret/tests/test_25oct2022b_empty~holo4_20220629\"))"
   ]
  },
  {
   "cell_type": "code",
   "execution_count": 18,
   "id": "f6365718-8913-4207-aead-b33a09a0ff16",
   "metadata": {
    "execution": {
     "iopub.execute_input": "2023-12-20T20:38:00.233718Z",
     "iopub.status.busy": "2023-12-20T20:38:00.233602Z",
     "iopub.status.idle": "2023-12-20T20:38:00.236074Z",
     "shell.execute_reply": "2023-12-20T20:38:00.235753Z",
     "shell.execute_reply.started": "2023-12-20T20:38:00.233707Z"
    }
   },
   "outputs": [
    {
     "data": {
      "text/plain": [
       "[DatasetRef(DatasetType('spectraction', {band, instrument, detector, physical_filter, visit}, Spectraction), {instrument: 'LATISS', detector: 0, visit: 2022062900079, ...}, run='u/dagoret/tests/test_25oct2022b_empty~holo4_20220629/20221025T180108Z', id=1c64f7b4-6285-46c5-bdd9-5943c6b3648c),\n",
       " DatasetRef(DatasetType('spectraction', {band, instrument, detector, physical_filter, visit}, Spectraction), {instrument: 'LATISS', detector: 0, visit: 2022062900052, ...}, run='u/dagoret/tests/test_25oct2022b_empty~holo4_20220629/20221025T182337Z', id=8ec55220-0d0b-41d1-aaa9-450cebd2fca7),\n",
       " DatasetRef(DatasetType('spectraction', {band, instrument, detector, physical_filter, visit}, Spectraction), {instrument: 'LATISS', detector: 0, visit: 2022062900079, ...}, run='u/dagoret/tests/test_25oct2022b_empty~holo4_20220629/20221025T183040Z', id=68485385-bc1f-4b5b-b85b-1b716dcd1aa3)]"
      ]
     },
     "execution_count": 18,
     "metadata": {},
     "output_type": "execute_result"
    }
   ],
   "source": [
    "refs_ds"
   ]
  },
  {
   "cell_type": "code",
   "execution_count": 19,
   "id": "86b1f7d2-4256-4800-9265-5a11659a1032",
   "metadata": {
    "execution": {
     "iopub.execute_input": "2023-12-20T20:38:00.236661Z",
     "iopub.status.busy": "2023-12-20T20:38:00.236547Z",
     "iopub.status.idle": "2023-12-20T20:38:00.240145Z",
     "shell.execute_reply": "2023-12-20T20:38:00.239813Z",
     "shell.execute_reply.started": "2023-12-20T20:38:00.236651Z"
    }
   },
   "outputs": [],
   "source": [
    "refs=butler.registry.queryDatasets(datasetType='spectraction',collections=\"u/dagoret/tests/test_25oct2022b_empty~holo4_20220629\")"
   ]
  },
  {
   "cell_type": "code",
   "execution_count": 20,
   "id": "cd304422-1274-4845-b66a-c80ba4f07057",
   "metadata": {
    "execution": {
     "iopub.execute_input": "2023-12-20T20:38:00.240804Z",
     "iopub.status.busy": "2023-12-20T20:38:00.240689Z",
     "iopub.status.idle": "2023-12-20T20:38:00.244509Z",
     "shell.execute_reply": "2023-12-20T20:38:00.244169Z",
     "shell.execute_reply.started": "2023-12-20T20:38:00.240794Z"
    }
   },
   "outputs": [],
   "source": [
    "if not refs.any(exact=False,execute=False):\n",
    "    print(list(refs.explain_no_results()))"
   ]
  },
  {
   "cell_type": "code",
   "execution_count": 21,
   "id": "8d7f8136-4421-47ec-909d-e721e4f4eb50",
   "metadata": {
    "execution": {
     "iopub.execute_input": "2023-12-20T20:38:00.245088Z",
     "iopub.status.busy": "2023-12-20T20:38:00.244973Z",
     "iopub.status.idle": "2023-12-20T20:38:00.274316Z",
     "shell.execute_reply": "2023-12-20T20:38:00.273864Z",
     "shell.execute_reply.started": "2023-12-20T20:38:00.245077Z"
    }
   },
   "outputs": [],
   "source": [
    "#u/dagoret/tests/test_25oct2022c/empty~holo4/20220630\n",
    "refs_ds=list(butler.registry.queryDatasets(datasetType='spectraction',collections=\"u/dagoret/tests/test_25oct2022c/empty~holo4/20220630\"))"
   ]
  },
  {
   "cell_type": "code",
   "execution_count": 22,
   "id": "dd2d1468-5c5b-4151-aeee-ea66ed337017",
   "metadata": {
    "execution": {
     "iopub.execute_input": "2023-12-20T20:38:00.274954Z",
     "iopub.status.busy": "2023-12-20T20:38:00.274834Z",
     "iopub.status.idle": "2023-12-20T20:38:00.278397Z",
     "shell.execute_reply": "2023-12-20T20:38:00.278039Z",
     "shell.execute_reply.started": "2023-12-20T20:38:00.274943Z"
    }
   },
   "outputs": [
    {
     "data": {
      "text/plain": [
       "[DatasetRef(DatasetType('spectraction', {band, instrument, detector, physical_filter, visit}, Spectraction), {instrument: 'LATISS', detector: 0, visit: 2022063000077, ...}, run='u/dagoret/tests/test_25oct2022c/empty~holo4/20220630/20221025T184538Z', id=59000f8a-4701-4e42-b1e8-a7cef260fe21),\n",
       " DatasetRef(DatasetType('spectraction', {band, instrument, detector, physical_filter, visit}, Spectraction), {instrument: 'LATISS', detector: 0, visit: 2022063000091, ...}, run='u/dagoret/tests/test_25oct2022c/empty~holo4/20220630/20221025T192814Z', id=d7952885-0864-482b-99aa-a6dd66aadad8),\n",
       " DatasetRef(DatasetType('spectraction', {band, instrument, detector, physical_filter, visit}, Spectraction), {instrument: 'LATISS', detector: 0, visit: 2022063000092, ...}, run='u/dagoret/tests/test_25oct2022c/empty~holo4/20220630/20221025T200053Z', id=12c43b02-e1d3-4e27-a7ad-5deb4981fb81),\n",
       " DatasetRef(DatasetType('spectraction', {band, instrument, detector, physical_filter, visit}, Spectraction), {instrument: 'LATISS', detector: 0, visit: 2022063000106, ...}, run='u/dagoret/tests/test_25oct2022c/empty~holo4/20220630/20221025T200734Z', id=729ea75a-c2f6-42f2-9f05-fc6bfc714333),\n",
       " DatasetRef(DatasetType('spectraction', {band, instrument, detector, physical_filter, visit}, Spectraction), {instrument: 'LATISS', detector: 0, visit: 2022063000107, ...}, run='u/dagoret/tests/test_25oct2022c/empty~holo4/20220630/20221025T201605Z', id=4b4a9b0f-8434-430b-bcc0-555b087b0585),\n",
       " DatasetRef(DatasetType('spectraction', {band, instrument, detector, physical_filter, visit}, Spectraction), {instrument: 'LATISS', detector: 0, visit: 2022063000107, ...}, run='u/dagoret/tests/test_25oct2022c/empty~holo4/20220630/20221025T203058Z', id=63a467ac-5b6b-4832-8053-4cbfe7100d5e),\n",
       " DatasetRef(DatasetType('spectraction', {band, instrument, detector, physical_filter, visit}, Spectraction), {instrument: 'LATISS', detector: 0, visit: 2022063000122, ...}, run='u/dagoret/tests/test_25oct2022c/empty~holo4/20220630/20221025T204554Z', id=1e021e39-26ff-40a9-b5f2-7cdcdf367af8),\n",
       " DatasetRef(DatasetType('spectraction', {band, instrument, detector, physical_filter, visit}, Spectraction), {instrument: 'LATISS', detector: 0, visit: 2022063000121, ...}, run='u/dagoret/tests/test_25oct2022c/empty~holo4/20220630/20221025T203826Z', id=de6ee6d5-c7bc-4309-82eb-b66249a638ff),\n",
       " DatasetRef(DatasetType('spectraction', {band, instrument, detector, physical_filter, visit}, Spectraction), {instrument: 'LATISS', detector: 0, visit: 2022063000136, ...}, run='u/dagoret/tests/test_25oct2022c/empty~holo4/20220630/20221025T205306Z', id=16baedc3-5e92-4c2a-abf3-adf6997814f9),\n",
       " DatasetRef(DatasetType('spectraction', {band, instrument, detector, physical_filter, visit}, Spectraction), {instrument: 'LATISS', detector: 0, visit: 2022063000137, ...}, run='u/dagoret/tests/test_25oct2022c/empty~holo4/20220630/20221025T210023Z', id=b106a5ef-5655-41a1-873c-013eba50749e),\n",
       " DatasetRef(DatasetType('spectraction', {band, instrument, detector, physical_filter, visit}, Spectraction), {instrument: 'LATISS', detector: 0, visit: 2022063000157, ...}, run='u/dagoret/tests/test_25oct2022c/empty~holo4/20220630/20221025T210715Z', id=6e93906b-bcc5-408b-b245-ac5c52ae1799),\n",
       " DatasetRef(DatasetType('spectraction', {band, instrument, detector, physical_filter, visit}, Spectraction), {instrument: 'LATISS', detector: 0, visit: 2022063000158, ...}, run='u/dagoret/tests/test_25oct2022c/empty~holo4/20220630/20221025T211551Z', id=1b596c6a-dd46-4d63-b9df-99ba04abb190),\n",
       " DatasetRef(DatasetType('spectraction', {band, instrument, detector, physical_filter, visit}, Spectraction), {instrument: 'LATISS', detector: 0, visit: 2022063000178, ...}, run='u/dagoret/tests/test_25oct2022c/empty~holo4/20220630/20221025T213029Z', id=f19ce6d5-3522-4cc0-89d8-055300e523c1),\n",
       " DatasetRef(DatasetType('spectraction', {band, instrument, detector, physical_filter, visit}, Spectraction), {instrument: 'LATISS', detector: 0, visit: 2022063000177, ...}, run='u/dagoret/tests/test_25oct2022c/empty~holo4/20220630/20221025T212327Z', id=9869950f-b265-45d4-bdee-71d082e1b04a),\n",
       " DatasetRef(DatasetType('spectraction', {band, instrument, detector, physical_filter, visit}, Spectraction), {instrument: 'LATISS', detector: 0, visit: 2022063000216, ...}, run='u/dagoret/tests/test_25oct2022c/empty~holo4/20220630/20221025T213714Z', id=b6e8a39c-bf73-4711-9dae-3307787ca074),\n",
       " DatasetRef(DatasetType('spectraction', {band, instrument, detector, physical_filter, visit}, Spectraction), {instrument: 'LATISS', detector: 0, visit: 2022063000246, ...}, run='u/dagoret/tests/test_25oct2022c/empty~holo4/20220630/20221025T220702Z', id=953285b9-4a5b-4ee5-9e62-20040ce5da4a),\n",
       " DatasetRef(DatasetType('spectraction', {band, instrument, detector, physical_filter, visit}, Spectraction), {instrument: 'LATISS', detector: 0, visit: 2022063000217, ...}, run='u/dagoret/tests/test_25oct2022c/empty~holo4/20220630/20221025T214458Z', id=8bbd8d54-db5f-4ffb-a075-332285b143ba),\n",
       " DatasetRef(DatasetType('spectraction', {band, instrument, detector, physical_filter, visit}, Spectraction), {instrument: 'LATISS', detector: 0, visit: 2022063000247, ...}, run='u/dagoret/tests/test_25oct2022c/empty~holo4/20220630/20221025T221637Z', id=b6a21ecb-0e4d-451e-a628-ea115772d1de),\n",
       " DatasetRef(DatasetType('spectraction', {band, instrument, detector, physical_filter, visit}, Spectraction), {instrument: 'LATISS', detector: 0, visit: 2022063000231, ...}, run='u/dagoret/tests/test_25oct2022c/empty~holo4/20220630/20221025T215136Z', id=77172644-a0e7-4ec6-a06e-6e264bfde095),\n",
       " DatasetRef(DatasetType('spectraction', {band, instrument, detector, physical_filter, visit}, Spectraction), {instrument: 'LATISS', detector: 0, visit: 2022063000232, ...}, run='u/dagoret/tests/test_25oct2022c/empty~holo4/20220630/20221025T215903Z', id=11727211-a3eb-4eb7-9762-33e5b4ea4538),\n",
       " DatasetRef(DatasetType('spectraction', {band, instrument, detector, physical_filter, visit}, Spectraction), {instrument: 'LATISS', detector: 0, visit: 2022063000261, ...}, run='u/dagoret/tests/test_25oct2022c/empty~holo4/20220630/20221025T222847Z', id=501c65e0-68e6-4ce3-a5d6-5780f3b536df),\n",
       " DatasetRef(DatasetType('spectraction', {band, instrument, detector, physical_filter, visit}, Spectraction), {instrument: 'LATISS', detector: 0, visit: 2022063000277, ...}, run='u/dagoret/tests/test_25oct2022c/empty~holo4/20220630/20221025T225608Z', id=565b9691-e5ac-4144-8c2a-2a3513d0d331),\n",
       " DatasetRef(DatasetType('spectraction', {band, instrument, detector, physical_filter, visit}, Spectraction), {instrument: 'LATISS', detector: 0, visit: 2022063000291, ...}, run='u/dagoret/tests/test_25oct2022c/empty~holo4/20220630/20221025T230510Z', id=062d8075-75d5-4f41-9642-cc2bb33a2c26),\n",
       " DatasetRef(DatasetType('spectraction', {band, instrument, detector, physical_filter, visit}, Spectraction), {instrument: 'LATISS', detector: 0, visit: 2022063000262, ...}, run='u/dagoret/tests/test_25oct2022c/empty~holo4/20220630/20221025T223630Z', id=1f686284-2fc4-4df8-8335-9c42e4b365f9),\n",
       " DatasetRef(DatasetType('spectraction', {band, instrument, detector, physical_filter, visit}, Spectraction), {instrument: 'LATISS', detector: 0, visit: 2022063000292, ...}, run='u/dagoret/tests/test_25oct2022c/empty~holo4/20220630/20221025T232014Z', id=30fa7951-1242-449e-87df-83a384d3efb0),\n",
       " DatasetRef(DatasetType('spectraction', {band, instrument, detector, physical_filter, visit}, Spectraction), {instrument: 'LATISS', detector: 0, visit: 2022063000276, ...}, run='u/dagoret/tests/test_25oct2022c/empty~holo4/20220630/20221025T224415Z', id=1efce0cd-3cc6-44b2-9a79-6bb023e3fed4),\n",
       " DatasetRef(DatasetType('spectraction', {band, instrument, detector, physical_filter, visit}, Spectraction), {instrument: 'LATISS', detector: 0, visit: 2022063000306, ...}, run='u/dagoret/tests/test_25oct2022c/empty~holo4/20220630/20221025T233755Z', id=da971f7f-ae30-4aae-9ae2-2c0629addf8a),\n",
       " DatasetRef(DatasetType('spectraction', {band, instrument, detector, physical_filter, visit}, Spectraction), {instrument: 'LATISS', detector: 0, visit: 2022063000337, ...}, run='u/dagoret/tests/test_25oct2022c/empty~holo4/20220630/20221026T002621Z', id=fbc86c25-31c2-45df-bce1-d5bf3f4aebe3),\n",
       " DatasetRef(DatasetType('spectraction', {band, instrument, detector, physical_filter, visit}, Spectraction), {instrument: 'LATISS', detector: 0, visit: 2022063000317, ...}, run='u/dagoret/tests/test_25oct2022c/empty~holo4/20220630/20221025T235232Z', id=3dff4c9b-5cf7-47c9-a4ce-e054b6d0a6f9),\n",
       " DatasetRef(DatasetType('spectraction', {band, instrument, detector, physical_filter, visit}, Spectraction), {instrument: 'LATISS', detector: 0, visit: 2022063000338, ...}, run='u/dagoret/tests/test_25oct2022c/empty~holo4/20220630/20221026T005722Z', id=f5d0c5a4-e881-47b3-b78d-be69671690ef),\n",
       " DatasetRef(DatasetType('spectraction', {band, instrument, detector, physical_filter, visit}, Spectraction), {instrument: 'LATISS', detector: 0, visit: 2022063000318, ...}, run='u/dagoret/tests/test_25oct2022c/empty~holo4/20220630/20221026T000852Z', id=82d0f366-940c-48cb-bdda-67455ec4bfac),\n",
       " DatasetRef(DatasetType('spectraction', {band, instrument, detector, physical_filter, visit}, Spectraction), {instrument: 'LATISS', detector: 0, visit: 2022063000352, ...}, run='u/dagoret/tests/test_25oct2022c/empty~holo4/20220630/20221026T012519Z', id=a535b524-ff86-4f01-a7f3-611bab226024),\n",
       " DatasetRef(DatasetType('spectraction', {band, instrument, detector, physical_filter, visit}, Spectraction), {instrument: 'LATISS', detector: 0, visit: 2022063000367, ...}, run='u/dagoret/tests/test_25oct2022c/empty~holo4/20220630/20221026T022939Z', id=81732fb6-f5c4-474f-bace-c9a2bab1b61c),\n",
       " DatasetRef(DatasetType('spectraction', {band, instrument, detector, physical_filter, visit}, Spectraction), {instrument: 'LATISS', detector: 0, visit: 2022063000353, ...}, run='u/dagoret/tests/test_25oct2022c/empty~holo4/20220630/20221026T015421Z', id=e217b8a6-0a65-4de8-8548-24d6939ab29e),\n",
       " DatasetRef(DatasetType('spectraction', {band, instrument, detector, physical_filter, visit}, Spectraction), {instrument: 'LATISS', detector: 0, visit: 2022063000406, ...}, run='u/dagoret/tests/test_25oct2022c/empty~holo4/20220630/20221026T035501Z', id=121435c7-fe4e-4951-9e8f-e1e81619af1e),\n",
       " DatasetRef(DatasetType('spectraction', {band, instrument, detector, physical_filter, visit}, Spectraction), {instrument: 'LATISS', detector: 0, visit: 2022063000368, ...}, run='u/dagoret/tests/test_25oct2022c/empty~holo4/20220630/20221026T025840Z', id=d2189913-0a6b-445b-a000-01a26d913ef1),\n",
       " DatasetRef(DatasetType('spectraction', {band, instrument, detector, physical_filter, visit}, Spectraction), {instrument: 'LATISS', detector: 0, visit: 2022063000390, ...}, run='u/dagoret/tests/test_25oct2022c/empty~holo4/20220630/20221026T031520Z', id=a870bc1c-f4e5-42f7-9812-b6f32ea49e11),\n",
       " DatasetRef(DatasetType('spectraction', {band, instrument, detector, physical_filter, visit}, Spectraction), {instrument: 'LATISS', detector: 0, visit: 2022063000420, ...}, run='u/dagoret/tests/test_25oct2022c/empty~holo4/20220630/20221026T040246Z', id=f52ecb52-715e-4e2e-8cce-c0ef1a001d7d),\n",
       " DatasetRef(DatasetType('spectraction', {band, instrument, detector, physical_filter, visit}, Spectraction), {instrument: 'LATISS', detector: 0, visit: 2022063000391, ...}, run='u/dagoret/tests/test_25oct2022c/empty~holo4/20220630/20221026T032850Z', id=9491d2ee-b943-4fe1-8b27-f913d0196ee4),\n",
       " DatasetRef(DatasetType('spectraction', {band, instrument, detector, physical_filter, visit}, Spectraction), {instrument: 'LATISS', detector: 0, visit: 2022063000421, ...}, run='u/dagoret/tests/test_25oct2022c/empty~holo4/20220630/20221026T040852Z', id=e62df43f-152c-43ba-8154-3f92cf35eb6f),\n",
       " DatasetRef(DatasetType('spectraction', {band, instrument, detector, physical_filter, visit}, Spectraction), {instrument: 'LATISS', detector: 0, visit: 2022063000405, ...}, run='u/dagoret/tests/test_25oct2022c/empty~holo4/20220630/20221026T034151Z', id=7720f265-a8c1-4701-84c9-436a84ecfa4d),\n",
       " DatasetRef(DatasetType('spectraction', {band, instrument, detector, physical_filter, visit}, Spectraction), {instrument: 'LATISS', detector: 0, visit: 2022063000436, ...}, run='u/dagoret/tests/test_25oct2022c/empty~holo4/20220630/20221026T052435Z', id=1f439a2a-094c-4871-9763-98bed2885463),\n",
       " DatasetRef(DatasetType('spectraction', {band, instrument, detector, physical_filter, visit}, Spectraction), {instrument: 'LATISS', detector: 0, visit: 2022063000450, ...}, run='u/dagoret/tests/test_25oct2022c/empty~holo4/20220630/20221026T054233Z', id=50d50fba-6f51-4284-87df-bb9c6ffbf1c5),\n",
       " DatasetRef(DatasetType('spectraction', {band, instrument, detector, physical_filter, visit}, Spectraction), {instrument: 'LATISS', detector: 0, visit: 2022063000451, ...}, run='u/dagoret/tests/test_25oct2022c/empty~holo4/20220630/20221026T055246Z', id=e92d02e9-0294-4af9-aea5-a2b2fd9f72da),\n",
       " DatasetRef(DatasetType('spectraction', {band, instrument, detector, physical_filter, visit}, Spectraction), {instrument: 'LATISS', detector: 0, visit: 2022063000492, ...}, run='u/dagoret/tests/test_25oct2022c/empty~holo4/20220630/20221026T063953Z', id=f07fd6b7-6e5f-46b7-83b7-5f4ebc4be02b),\n",
       " DatasetRef(DatasetType('spectraction', {band, instrument, detector, physical_filter, visit}, Spectraction), {instrument: 'LATISS', detector: 0, visit: 2022063000476, ...}, run='u/dagoret/tests/test_25oct2022c/empty~holo4/20220630/20221026T060325Z', id=2aac7474-76ba-4a95-925f-19cc6b244aa3),\n",
       " DatasetRef(DatasetType('spectraction', {band, instrument, detector, physical_filter, visit}, Spectraction), {instrument: 'LATISS', detector: 0, visit: 2022063000521, ...}, run='u/dagoret/tests/test_25oct2022c/empty~holo4/20220630/20221026T064946Z', id=2df4b7e1-458c-4bd9-bb0d-d931cee9ac41),\n",
       " DatasetRef(DatasetType('spectraction', {band, instrument, detector, physical_filter, visit}, Spectraction), {instrument: 'LATISS', detector: 0, visit: 2022063000477, ...}, run='u/dagoret/tests/test_25oct2022c/empty~holo4/20220630/20221026T061434Z', id=919486a0-75d5-4d21-af57-e39c6e3f6bfb),\n",
       " DatasetRef(DatasetType('spectraction', {band, instrument, detector, physical_filter, visit}, Spectraction), {instrument: 'LATISS', detector: 0, visit: 2022063000491, ...}, run='u/dagoret/tests/test_25oct2022c/empty~holo4/20220630/20221026T062849Z', id=0f3b751d-2d91-4e2b-bc3a-f66fc188a88e),\n",
       " DatasetRef(DatasetType('spectraction', {band, instrument, detector, physical_filter, visit}, Spectraction), {instrument: 'LATISS', detector: 0, visit: 2022063000589, ...}, run='u/dagoret/tests/test_25oct2022c/empty~holo4/20220630/20221026T092358Z', id=aa6242d1-a874-4e26-84c6-5a3e0529c6c1),\n",
       " DatasetRef(DatasetType('spectraction', {band, instrument, detector, physical_filter, visit}, Spectraction), {instrument: 'LATISS', detector: 0, visit: 2022063000522, ...}, run='u/dagoret/tests/test_25oct2022c/empty~holo4/20220630/20221026T083247Z', id=a1fe844c-f54c-4965-84ed-808c94b6ec47),\n",
       " DatasetRef(DatasetType('spectraction', {band, instrument, detector, physical_filter, visit}, Spectraction), {instrument: 'LATISS', detector: 0, visit: 2022063000536, ...}, run='u/dagoret/tests/test_25oct2022c/empty~holo4/20220630/20221026T083954Z', id=76a38531-bd44-4d03-8f19-e6f34d3b871b),\n",
       " DatasetRef(DatasetType('spectraction', {band, instrument, detector, physical_filter, visit}, Spectraction), {instrument: 'LATISS', detector: 0, visit: 2022063000537, ...}, run='u/dagoret/tests/test_25oct2022c/empty~holo4/20220630/20221026T084727Z', id=3574ee63-200b-4946-88a2-665f3d1befee)]"
      ]
     },
     "execution_count": 22,
     "metadata": {},
     "output_type": "execute_result"
    }
   ],
   "source": [
    "refs_ds"
   ]
  },
  {
   "cell_type": "code",
   "execution_count": 23,
   "id": "6bae6497-14fd-49a1-8878-f7929f8460c2",
   "metadata": {
    "execution": {
     "iopub.execute_input": "2023-12-20T20:38:00.278980Z",
     "iopub.status.busy": "2023-12-20T20:38:00.278866Z",
     "iopub.status.idle": "2023-12-20T20:38:00.430951Z",
     "shell.execute_reply": "2023-12-20T20:38:00.430337Z",
     "shell.execute_reply.started": "2023-12-20T20:38:00.278969Z"
    }
   },
   "outputs": [
    {
     "ename": "ModuleNotFoundError",
     "evalue": "No module named 'lsst.summit'",
     "output_type": "error",
     "traceback": [
      "\u001b[0;31m---------------------------------------------------------------------------\u001b[0m",
      "\u001b[0;31mModuleNotFoundError\u001b[0m                       Traceback (most recent call last)",
      "Cell \u001b[0;32mIn[23], line 1\u001b[0m\n\u001b[0;32m----> 1\u001b[0m \u001b[38;5;28;01mimport\u001b[39;00m \u001b[38;5;21;01mlsst\u001b[39;00m\u001b[38;5;21;01m.\u001b[39;00m\u001b[38;5;21;01msummit\u001b[39;00m\u001b[38;5;21;01m.\u001b[39;00m\u001b[38;5;21;01mutils\u001b[39;00m\u001b[38;5;21;01m.\u001b[39;00m\u001b[38;5;21;01mbutlerUtils\u001b[39;00m \u001b[38;5;28;01mas\u001b[39;00m \u001b[38;5;21;01mbutlerUtils\u001b[39;00m\n",
      "\u001b[0;31mModuleNotFoundError\u001b[0m: No module named 'lsst.summit'"
     ]
    }
   ],
   "source": [
    "import lsst.summit.utils.butlerUtils as butlerUtils"
   ]
  },
  {
   "cell_type": "code",
   "execution_count": null,
   "id": "dca78d4f-ca59-4ea4-940c-be1812634e97",
   "metadata": {
    "execution": {
     "iopub.status.busy": "2023-12-20T20:38:00.431348Z",
     "iopub.status.idle": "2023-12-20T20:38:00.431519Z",
     "shell.execute_reply": "2023-12-20T20:38:00.431444Z",
     "shell.execute_reply.started": "2023-12-20T20:38:00.431436Z"
    }
   },
   "outputs": [],
   "source": [
    "butler =butlerUtils.makeDefaultLatissButler(extraCollections=['u/dagoret/tests/test_23oct2022_empty~holo4_20220630'])"
   ]
  },
  {
   "cell_type": "code",
   "execution_count": null,
   "id": "2303a002-d12e-4e5e-8e7e-e8ee5b3d9b0d",
   "metadata": {
    "execution": {
     "iopub.status.busy": "2023-12-20T20:38:00.431924Z",
     "iopub.status.idle": "2023-12-20T20:38:00.432068Z",
     "shell.execute_reply": "2023-12-20T20:38:00.432002Z",
     "shell.execute_reply.started": "2023-12-20T20:38:00.431995Z"
    }
   },
   "outputs": [],
   "source": [
    "dataId = {'day_obs': 20220630,'seq_num':590,'detector':0}"
   ]
  },
  {
   "cell_type": "code",
   "execution_count": null,
   "id": "32c7155b-8f5c-4bfb-a00f-05899e109289",
   "metadata": {
    "execution": {
     "iopub.status.busy": "2023-12-20T20:38:00.432817Z",
     "iopub.status.idle": "2023-12-20T20:38:00.432970Z",
     "shell.execute_reply": "2023-12-20T20:38:00.432897Z",
     "shell.execute_reply.started": "2023-12-20T20:38:00.432890Z"
    }
   },
   "outputs": [],
   "source": [
    "spec= butler.get('spectraction',dataId)"
   ]
  },
  {
   "cell_type": "code",
   "execution_count": null,
   "id": "2adb6db1-391e-499e-92b1-a27bbd2cb51a",
   "metadata": {
    "execution": {
     "iopub.status.busy": "2023-12-20T20:38:00.433383Z",
     "iopub.status.idle": "2023-12-20T20:38:00.433529Z",
     "shell.execute_reply": "2023-12-20T20:38:00.433460Z",
     "shell.execute_reply.started": "2023-12-20T20:38:00.433453Z"
    }
   },
   "outputs": [],
   "source": [
    "spec"
   ]
  },
  {
   "cell_type": "code",
   "execution_count": null,
   "id": "95a0ebab-9090-4cba-b142-6b003a1d5cf5",
   "metadata": {
    "execution": {
     "iopub.status.busy": "2023-12-20T20:38:00.434000Z",
     "iopub.status.idle": "2023-12-20T20:38:00.434141Z",
     "shell.execute_reply": "2023-12-20T20:38:00.434074Z",
     "shell.execute_reply.started": "2023-12-20T20:38:00.434068Z"
    }
   },
   "outputs": [],
   "source": [
    "for c in sorted(registry.queryCollections()):\n",
    "    if \"u/dagoret\" in c:\n",
    "        print(c)"
   ]
  },
  {
   "cell_type": "code",
   "execution_count": null,
   "id": "b9e50146-abd7-44e9-8027-4e8a2cfacc7d",
   "metadata": {
    "execution": {
     "iopub.status.busy": "2023-12-20T20:38:00.434757Z",
     "iopub.status.idle": "2023-12-20T20:38:00.434904Z",
     "shell.execute_reply": "2023-12-20T20:38:00.434834Z",
     "shell.execute_reply.started": "2023-12-20T20:38:00.434828Z"
    }
   },
   "outputs": [],
   "source": [
    "dst = list(butler.registry.queryDatasetTypes(\"*\"))"
   ]
  },
  {
   "cell_type": "code",
   "execution_count": null,
   "id": "cfe5dd19-7dae-411b-8b8a-fe8e034437c5",
   "metadata": {
    "execution": {
     "iopub.status.busy": "2023-12-20T20:38:00.435335Z",
     "iopub.status.idle": "2023-12-20T20:38:00.435487Z",
     "shell.execute_reply": "2023-12-20T20:38:00.435417Z",
     "shell.execute_reply.started": "2023-12-20T20:38:00.435411Z"
    }
   },
   "outputs": [],
   "source": [
    "dst"
   ]
  },
  {
   "cell_type": "code",
   "execution_count": null,
   "id": "52f94002-7477-4ec6-b2b9-06f48ad36737",
   "metadata": {
    "execution": {
     "iopub.status.busy": "2023-12-20T20:38:00.435812Z",
     "iopub.status.idle": "2023-12-20T20:38:00.435951Z",
     "shell.execute_reply": "2023-12-20T20:38:00.435887Z",
     "shell.execute_reply.started": "2023-12-20T20:38:00.435880Z"
    }
   },
   "outputs": [],
   "source": [
    "for refs_ds in butler.registry.queryDatasets(datasetType='any',collections=\"u/dagoret/tests/test_20oct2022\"):\n",
    "    print(refs_ds)"
   ]
  },
  {
   "cell_type": "code",
   "execution_count": null,
   "id": "e21c3bd6-fab2-4d2a-a6b9-59bca7819464",
   "metadata": {
    "execution": {
     "iopub.status.busy": "2023-12-20T20:38:00.436525Z",
     "iopub.status.idle": "2023-12-20T20:38:00.436680Z",
     "shell.execute_reply": "2023-12-20T20:38:00.436604Z",
     "shell.execute_reply.started": "2023-12-20T20:38:00.436595Z"
    }
   },
   "outputs": [],
   "source": [
    "refs_ds=list(butler.registry.queryDatasets(datasetType=\"*spe*\",collections=\"u/dagoret/tests/test_20oct2022\"))"
   ]
  },
  {
   "cell_type": "code",
   "execution_count": null,
   "id": "9d8472c8-85e1-4830-b0a7-b29481a53786",
   "metadata": {
    "execution": {
     "iopub.status.busy": "2023-12-20T20:38:00.436960Z",
     "iopub.status.idle": "2023-12-20T20:38:00.437092Z",
     "shell.execute_reply": "2023-12-20T20:38:00.437029Z",
     "shell.execute_reply.started": "2023-12-20T20:38:00.437023Z"
    }
   },
   "outputs": [],
   "source": [
    "refs_ds"
   ]
  },
  {
   "cell_type": "code",
   "execution_count": null,
   "id": "d0555e08-56d4-41f5-b4f6-284d432e8a39",
   "metadata": {
    "execution": {
     "iopub.status.busy": "2023-12-20T20:38:00.437713Z",
     "iopub.status.idle": "2023-12-20T20:38:00.437855Z",
     "shell.execute_reply": "2023-12-20T20:38:00.437786Z",
     "shell.execute_reply.started": "2023-12-20T20:38:00.437780Z"
    }
   },
   "outputs": [],
   "source": [
    "#/sdf/group/rubin/repo/main/u/dagoret/tests/test_20oct2022/20221020T143125Z/spectractorSpectrum/20220630/white/empty~holo4_003/2022063000060/82nlj40o9h1dcrhp.fits"
   ]
  },
  {
   "cell_type": "code",
   "execution_count": null,
   "id": "70281cab-8397-4856-a347-a8d948872d4d",
   "metadata": {
    "execution": {
     "iopub.status.busy": "2023-12-20T20:38:00.438378Z",
     "iopub.status.idle": "2023-12-20T20:38:00.438524Z",
     "shell.execute_reply": "2023-12-20T20:38:00.438455Z",
     "shell.execute_reply.started": "2023-12-20T20:38:00.438448Z"
    }
   },
   "outputs": [],
   "source": [
    "extracted = []\n",
    "for seqNum in seqNums:\n",
    "    if butler.datasetExists('spectraction', dayObs=dayObs, seqNum=seqNum):\n",
    "        extracted.append(seqNum)"
   ]
  },
  {
   "cell_type": "code",
   "execution_count": null,
   "id": "426e1136-c6fc-4f96-a15d-3faaab519212",
   "metadata": {},
   "outputs": [],
   "source": []
  }
 ],
 "metadata": {
  "kernelspec": {
   "display_name": "LSST",
   "language": "python",
   "name": "lsst"
  },
  "language_info": {
   "codemirror_mode": {
    "name": "ipython",
    "version": 3
   },
   "file_extension": ".py",
   "mimetype": "text/x-python",
   "name": "python",
   "nbconvert_exporter": "python",
   "pygments_lexer": "ipython3",
   "version": "3.11.4"
  }
 },
 "nbformat": 4,
 "nbformat_minor": 5
}
