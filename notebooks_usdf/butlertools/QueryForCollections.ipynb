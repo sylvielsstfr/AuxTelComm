{
 "cells": [
  {
   "cell_type": "markdown",
   "id": "0b8c2138-5194-4d03-8b77-be24e2cc8ee3",
   "metadata": {},
   "source": [
    "# Query for existing collections for NO OGA"
   ]
  },
  {
   "cell_type": "markdown",
   "id": "740e34fb-3fef-45a8-941b-c229742ab016",
   "metadata": {},
   "source": [
    " work with Weakly_2022_39\n",
    "- use jupyter kernel LSST\n",
    "\n",
    "- author : Sylvie Dagoret-Campagne\n",
    "- affiliation : IJCLab\n",
    "\n",
    "- creation date : 2022/09/19\n",
    "- update : 2022/10/27\n"
   ]
  },
  {
   "cell_type": "markdown",
   "id": "67dedcf8-33cb-4ea9-ab1b-d5040def7ac6",
   "metadata": {},
   "source": [
    "## Example of query in shell\n",
    "\n",
    "      butler query-datasets /sdf/group/rubin/repo/main raw --collections=XXXXX\n",
    "      \n",
    "      buter query-collections /sdf/group/rubin/repo/main u/dagoret/*"
   ]
  },
  {
   "cell_type": "code",
   "execution_count": 1,
   "id": "ed2c3410-fe83-432e-ab87-9f4513fa8d8b",
   "metadata": {
    "execution": {
     "iopub.execute_input": "2023-04-20T16:50:17.901502Z",
     "iopub.status.busy": "2023-04-20T16:50:17.901371Z",
     "iopub.status.idle": "2023-04-20T16:50:18.261047Z",
     "shell.execute_reply": "2023-04-20T16:50:18.260398Z",
     "shell.execute_reply.started": "2023-04-20T16:50:17.901488Z"
    }
   },
   "outputs": [
    {
     "name": "stdout",
     "output_type": "stream",
     "text": [
      "atmospec              LOCAL:/home/d/dagoret/repos/repos_w_2023_11/atmospec \tsetup\n",
      "eups                  LOCAL:/opt/lsst/software/stack/conda/miniconda3-py38_4.9.2/envs/lsst-scipipe-5.1.0/eups \tsetup\n"
     ]
    }
   ],
   "source": [
    "! eups list -s | grep LOCAL"
   ]
  },
  {
   "cell_type": "code",
   "execution_count": 2,
   "id": "70918d81-0cf6-4b0a-8f61-f5e5bec5b0e7",
   "metadata": {
    "execution": {
     "iopub.execute_input": "2023-04-20T16:50:18.262171Z",
     "iopub.status.busy": "2023-04-20T16:50:18.262016Z",
     "iopub.status.idle": "2023-04-20T16:50:18.609505Z",
     "shell.execute_reply": "2023-04-20T16:50:18.608873Z",
     "shell.execute_reply.started": "2023-04-20T16:50:18.262155Z"
    }
   },
   "outputs": [
    {
     "name": "stdout",
     "output_type": "stream",
     "text": [
      "   gdf42428520+c82c1836b5 \tcurrent w_2023_11 setup\n"
     ]
    }
   ],
   "source": [
    "! eups list -s lsst_distrib"
   ]
  },
  {
   "cell_type": "code",
   "execution_count": 3,
   "id": "f8d9cfca-5881-48c1-b2cb-0f794a2e4091",
   "metadata": {
    "execution": {
     "iopub.execute_input": "2023-04-20T16:50:18.610476Z",
     "iopub.status.busy": "2023-04-20T16:50:18.610324Z",
     "iopub.status.idle": "2023-04-20T16:50:18.948967Z",
     "shell.execute_reply": "2023-04-20T16:50:18.948383Z",
     "shell.execute_reply.started": "2023-04-20T16:50:18.610461Z"
    }
   },
   "outputs": [],
   "source": [
    "import lsst.daf.butler as dafButler"
   ]
  },
  {
   "cell_type": "code",
   "execution_count": 4,
   "id": "1c81d99a-5e91-4ba1-ba4a-c66b37905b98",
   "metadata": {
    "execution": {
     "iopub.execute_input": "2023-04-20T16:50:18.949852Z",
     "iopub.status.busy": "2023-04-20T16:50:18.949701Z",
     "iopub.status.idle": "2023-04-20T16:50:22.353265Z",
     "shell.execute_reply": "2023-04-20T16:50:22.352700Z",
     "shell.execute_reply.started": "2023-04-20T16:50:18.949835Z"
    }
   },
   "outputs": [],
   "source": [
    "repo =  \"/sdf/group/rubin/repo/main\"\n",
    "#repo = \"/sdf/group/rubin/repo/oga/\"\n",
    "butler = dafButler.Butler(repo)\n",
    "registry = butler.registry"
   ]
  },
  {
   "cell_type": "code",
   "execution_count": 5,
   "id": "2ec90d56-d827-4ab5-a289-5a256527f23e",
   "metadata": {
    "execution": {
     "iopub.execute_input": "2023-04-20T16:50:22.354240Z",
     "iopub.status.busy": "2023-04-20T16:50:22.354030Z",
     "iopub.status.idle": "2023-04-20T16:50:22.370326Z",
     "shell.execute_reply": "2023-04-20T16:50:22.369861Z",
     "shell.execute_reply.started": "2023-04-20T16:50:22.354224Z"
    }
   },
   "outputs": [
    {
     "name": "stdout",
     "output_type": "stream",
     "text": [
      "u/dagoret/BPS_manyspectro_v34\n",
      "u/dagoret/BPS_manyspectro_v34/20230216T080856Z\n",
      "u/dagoret/BPS_manyspectro_v36\n",
      "u/dagoret/BPS_manyspectro_v36/20230217T163324Z\n",
      "u/dagoret/BPS_manyspectro_v37\n",
      "u/dagoret/BPS_manyspectro_v37/20230217T163516Z\n",
      "u/dagoret/notebook_test\n",
      "u/dagoret/notebook_test/20220305T093240Z\n",
      "u/dagoret/notebook_test/20220307T135007Z\n",
      "u/dagoret/notebook_test/20220307T145652Z\n",
      "u/dagoret/notebook_test/20220308T111348Z\n",
      "u/dagoret/notebook_test/20220308T144739Z\n",
      "u/dagoret/notebook_test/20220308T150146Z\n",
      "u/dagoret/notebook_test/20220308T154534Z\n",
      "u/dagoret/notebook_test/20220308T155734Z\n",
      "u/dagoret/notebook_test/20220308T160443Z\n",
      "u/dagoret/notebook_test/20220308T162616Z\n",
      "u/dagoret/notebook_test/20220308T165814Z\n",
      "u/dagoret/notebook_test/20220308T165933Z\n",
      "u/dagoret/notebook_test/20220308T170127Z\n",
      "u/dagoret/notebook_test/20220308T170853Z\n",
      "u/dagoret/notebook_test/20220308T172226Z\n",
      "u/dagoret/notebook_test/20220318T160720Z\n",
      "u/dagoret/notebook_test/20220515T122720Z\n",
      "u/dagoret/photom/test0\n",
      "u/dagoret/photom/test0/20221103T155757Z\n",
      "u/dagoret/scratch\n",
      "u/dagoret/scratch/20220929T114632Z\n",
      "u/dagoret/scratch/20220929T114848Z\n",
      "u/dagoret/scratch/20220929T115603Z\n",
      "u/dagoret/scratch_20230105\n",
      "u/dagoret/scratch_20230105/20230105T135437Z\n",
      "u/dagoret/spectro/noflat/FELH0600~holo4/20211103\n",
      "u/dagoret/spectro/noflat/FELH0600~holo4/20211103/20221031T141128Z\n",
      "u/dagoret/spectro/noflat/FELH0600~holo4/20211103/20221031T141225Z\n",
      "u/dagoret/spectro/noflat/FELH0600~holo4/20211103/20221031T141314Z\n",
      "u/dagoret/spectro/noflat/FELH0600~holo4/20211103/20221031T153831Z\n",
      "u/dagoret/spectro/noflat/FELH0600~holo4/20211103/20221031T153919Z\n",
      "u/dagoret/spectro/noflat/FELH0600~holo4/20211103/20221031T154005Z\n",
      "u/dagoret/spectro/noflat/FELH0600~holo4/20211103/20221031T154055Z\n",
      "u/dagoret/spectro/noflat/FELH0600~holo4/20211103/20221031T154142Z\n",
      "u/dagoret/spectro/noflat/FELH0600~holo4/20211103/20221031T154228Z\n",
      "u/dagoret/spectro/noflat/FELH0600~holo4/20220630\n",
      "u/dagoret/spectro/noflat/FELH0600~holo4/20220630/20221101T160543Z\n",
      "u/dagoret/spectro/noflat/FELH0600~holo4/20220630/20221101T160629Z\n",
      "u/dagoret/spectro/noflat/empty~holo4/20211103\n",
      "u/dagoret/spectro/noflat/empty~holo4/20211103/20221031T154824Z\n",
      "u/dagoret/spectro/noflat/empty~holo4/20211103/20221031T155742Z\n",
      "u/dagoret/spectro/noflat/empty~holo4/20211103/20221031T160858Z\n",
      "u/dagoret/spectro/noflat/empty~holo4/20211103/20221031T161632Z\n",
      "u/dagoret/spectro/noflat/empty~holo4/20211103/20221031T162529Z\n",
      "u/dagoret/spectro/noflat/empty~holo4/20211103/20221031T163553Z\n",
      "u/dagoret/spectro/noflat/empty~holo4/20211103/20221031T164323Z\n",
      "u/dagoret/spectro/noflat/empty~holo4/20211103/20221031T164416Z\n",
      "u/dagoret/spectro/noflat/empty~holo4/20211103/20221031T165245Z\n",
      "u/dagoret/spectro/noflat/empty~holo4/20211103/20221031T172022Z\n",
      "u/dagoret/spectro/noflat/empty~holo4/20211103/20221031T172932Z\n",
      "u/dagoret/spectro/noflat/empty~holo4/20211103/20221031T173041Z\n",
      "u/dagoret/spectro/noflat/empty~holo4/20211103/20221031T173847Z\n",
      "u/dagoret/spectro/noflat/empty~holo4/20211103/20221031T174629Z\n",
      "u/dagoret/spectro/noflat/empty~holo4/20211103/20221031T175436Z\n",
      "u/dagoret/spectro/noflat/empty~holo4/20211103/20221031T180256Z\n",
      "u/dagoret/spectro/noflat/empty~holo4/20211103/20221031T181104Z\n",
      "u/dagoret/spectro/noflat/empty~holo4/20211103/20221031T181903Z\n",
      "u/dagoret/spectro/noflat/empty~holo4/20211103/20221031T182551Z\n",
      "u/dagoret/spectro/noflat/empty~holo4/20211103/20221031T183223Z\n",
      "u/dagoret/spectro/noflat/empty~holo4/20211103/20221031T183933Z\n",
      "u/dagoret/spectro/noflat/empty~holo4/20211103/20221031T184749Z\n",
      "u/dagoret/spectro/noflat/empty~holo4/20211103/20221031T190148Z\n",
      "u/dagoret/spectro/noflat/empty~holo4/20211103/20221031T192323Z\n",
      "u/dagoret/spectro/noflat/empty~holo4/20211103/20221031T193254Z\n",
      "u/dagoret/spectro/noflat/empty~holo4/20211103/20221031T194312Z\n",
      "u/dagoret/spectro/noflat/empty~holo4/20211103/20221031T195046Z\n",
      "u/dagoret/spectro/noflat/empty~holo4/20211103/20221031T195854Z\n",
      "u/dagoret/spectro/noflat/empty~holo4/20211103/20221031T200631Z\n",
      "u/dagoret/spectro/noflat/empty~holo4/20211103/20221031T201412Z\n",
      "u/dagoret/spectro/noflat/empty~holo4/20211103/20221031T202640Z\n",
      "u/dagoret/spectro/noflat/empty~holo4/20211103/20221031T203624Z\n",
      "u/dagoret/spectro/noflat/empty~holo4/20211103/20221031T204554Z\n",
      "u/dagoret/spectro/noflat/empty~holo4/20211103/20221031T205520Z\n",
      "u/dagoret/spectro/noflat/empty~holo4/20220629\n",
      "u/dagoret/spectro/noflat/empty~holo4/20220629/20221101T161056Z\n",
      "u/dagoret/spectro/noflat/empty~holo4/20220629/20221101T161722Z\n",
      "u/dagoret/spectro/noflat/empty~holo4/20220629/20221101T162417Z\n",
      "u/dagoret/spectro/noflat/empty~holo4/20220629/20221101T163157Z\n",
      "u/dagoret/spectro/noflat/empty~holo4/20220629/20221101T163830Z\n",
      "u/dagoret/spectro/noflat/empty~holo4/20220629/20221101T164443Z\n",
      "u/dagoret/spectro/noflat/empty~holo4/20220629/20221101T165046Z\n",
      "u/dagoret/spectro/noflat/empty~holo4/20220629/20221101T165652Z\n",
      "u/dagoret/spectro/noflat/empty~holo4/20220629/20221101T170238Z\n",
      "u/dagoret/spectro/noflat/empty~holo4/20220629/20221101T170814Z\n",
      "u/dagoret/spectro/noflat/empty~holo4/20220629/20221101T171343Z\n",
      "u/dagoret/spectro/noflat/empty~holo4/20220629/20221101T171906Z\n",
      "u/dagoret/spectro/noflat/empty~holo4/20220629/20221101T172445Z\n",
      "u/dagoret/spectro/noflat/empty~holo4/20220629/20221101T172950Z\n",
      "u/dagoret/spectro/noflat/empty~holo4/20220629/20221101T173558Z\n",
      "u/dagoret/spectro/noflat/empty~holo4/20220629/20221101T174117Z\n",
      "u/dagoret/spectro/noflat/empty~holo4/20220629/20221101T174712Z\n",
      "u/dagoret/spectro/noflat/empty~holo4/20220629/20221101T175239Z\n",
      "u/dagoret/spectro/noflat/empty~holo4/20220629/20221101T175746Z\n",
      "u/dagoret/spectro/noflat/empty~holo4/20220629/20221101T180418Z\n",
      "u/dagoret/spectro/noflat/empty~holo4/20220629/20221101T181008Z\n",
      "u/dagoret/spectro/noflat/empty~holo4/20220629/20221101T181502Z\n",
      "u/dagoret/spectro/noflat/empty~holo4/20220629/20221101T182014Z\n",
      "u/dagoret/spectro/noflat/empty~holo4/20220629/20221101T182550Z\n",
      "u/dagoret/spectro/noflat/empty~holo4/20220629/20221101T183039Z\n",
      "u/dagoret/spectro/noflat/empty~holo4/20220629/20221101T183626Z\n",
      "u/dagoret/spectro/noflat/empty~holo4/20220629/20221101T184148Z\n",
      "u/dagoret/spectro/noflat/empty~holo4/20220629/20221101T184709Z\n",
      "u/dagoret/spectro/noflat/empty~holo4/20220629/20221101T185230Z\n",
      "u/dagoret/spectro/noflat/empty~holo4/20220629/20221101T185731Z\n",
      "u/dagoret/spectro/noflat/empty~holo4/20220629/20221101T190210Z\n",
      "u/dagoret/spectro/noflat/empty~holo4/20220629/20221101T190714Z\n",
      "u/dagoret/spectro/noflat/empty~holo4/20220629/20221101T191227Z\n",
      "u/dagoret/spectro/noflat/empty~holo4/20220629/20221101T191752Z\n",
      "u/dagoret/spectro/noflat/empty~holo4/20220629/20221101T192350Z\n",
      "u/dagoret/spectro/noflat/empty~holo4/20220629/20221101T192940Z\n",
      "u/dagoret/spectro/noflat/empty~holo4/20220629/20221101T193524Z\n",
      "u/dagoret/spectro/noflat/empty~holo4/20220629/20221101T211609Z\n",
      "u/dagoret/spectro/noflat/empty~holo4/20220629/20221101T212509Z\n",
      "u/dagoret/spectro/noflat/empty~holo4/20220629/20221101T212623Z\n",
      "u/dagoret/spectro/noflat/empty~holo4/20220629/20221101T213212Z\n",
      "u/dagoret/spectro/noflat/empty~holo4/20220629/20221101T213846Z\n",
      "u/dagoret/spectro/noflat/empty~holo4/20220629/20221101T214502Z\n",
      "u/dagoret/spectro/noflat/empty~holo4/20220629/20221101T215108Z\n",
      "u/dagoret/spectro/noflat/empty~holo4/20220629/20221101T215159Z\n",
      "u/dagoret/spectro/noflat/empty~holo4/20220629/20221101T215911Z\n",
      "u/dagoret/spectro/noflat/empty~holo4/20220629/20221101T220553Z\n",
      "u/dagoret/spectro/noflat/empty~holo4/20220629/20221101T221409Z\n",
      "u/dagoret/spectro/noflat/empty~holo4/20220629/20221101T222029Z\n",
      "u/dagoret/spectro/noflat/empty~holo4/20220629/20221101T222649Z\n",
      "u/dagoret/spectro/noflat/empty~holo4/20220629/20221101T223222Z\n",
      "u/dagoret/spectro/noflat/empty~holo4/20220629/20221101T223908Z\n",
      "u/dagoret/spectro/noflat/empty~holo4/20220629/20221101T224608Z\n",
      "u/dagoret/spectro/noflat/empty~holo4/20220629/20221101T225242Z\n",
      "u/dagoret/spectro/noflat/empty~holo4/20220629/20221101T225940Z\n",
      "u/dagoret/spectro/noflat/empty~holo4/20220629/20221101T230552Z\n",
      "u/dagoret/spectro/noflat/empty~holo4/20220629/20221101T231727Z\n",
      "u/dagoret/spectro/noflat/empty~holo4/20220629/20221101T232355Z\n",
      "u/dagoret/spectro/noflat/empty~holo4/20220629/20221101T233131Z\n",
      "u/dagoret/spectro/noflat/empty~holo4/20220629/20221101T233255Z\n",
      "u/dagoret/spectro/noflat/empty~holo4/20220629/20221101T233922Z\n",
      "u/dagoret/spectro/noflat/empty~holo4/20220629/20221101T234526Z\n",
      "u/dagoret/spectro/noflat/empty~holo4/20220629/20221102T050202Z\n",
      "u/dagoret/spectro/noflat/empty~holo4/20220630\n",
      "u/dagoret/spectro/noflat/empty~holo4/20220630/20221031T232801Z\n",
      "u/dagoret/spectro/noflat/empty~holo4/20220630/20221031T233517Z\n",
      "u/dagoret/spectro/noflat/empty~holo4/20220630/20221031T234242Z\n",
      "u/dagoret/spectro/noflat/empty~holo4/20220630/20221031T235112Z\n",
      "u/dagoret/spectro/noflat/empty~holo4/20220630/20221101T000010Z\n",
      "u/dagoret/spectro/noflat/empty~holo4/20220630/20221101T000842Z\n",
      "u/dagoret/spectro/noflat/empty~holo4/20220630/20221101T001706Z\n",
      "u/dagoret/spectro/noflat/empty~holo4/20220630/20221101T005034Z\n",
      "u/dagoret/spectro/noflat/empty~holo4/20220630/20221101T010053Z\n",
      "u/dagoret/spectro/noflat/empty~holo4/20220630/20221101T011438Z\n",
      "u/dagoret/spectro/noflat/empty~holo4/20220630/20221101T012527Z\n",
      "u/dagoret/spectro/noflat/empty~holo4/20220630/20221101T014155Z\n",
      "u/dagoret/spectro/noflat/empty~holo4/20220630/20221101T020801Z\n",
      "u/dagoret/spectro/noflat/empty~holo4/20220630/20221101T022056Z\n",
      "u/dagoret/spectro/noflat/empty~holo4/20220630/20221101T022948Z\n",
      "u/dagoret/spectro/noflat/empty~holo4/20220630/20221101T024125Z\n",
      "u/dagoret/spectro/noflat/empty~holo4/20220630/20221101T031316Z\n",
      "u/dagoret/spectro/noflat/empty~holo4/20220630/20221101T033957Z\n",
      "u/dagoret/spectro/noflat/empty~holo4/20220630/20221101T040158Z\n",
      "u/dagoret/spectro/noflat/empty~holo4/20220630/20221101T042500Z\n",
      "u/dagoret/spectro/noflat/empty~holo4/20220630/20221101T043212Z\n",
      "u/dagoret/spectro/noflat/empty~holo4/20220630/20221101T044056Z\n",
      "u/dagoret/spectro/noflat/empty~holo4/20220630/20221101T044855Z\n",
      "u/dagoret/spectro/noflat/empty~holo4/20220630/20221101T045639Z\n",
      "u/dagoret/spectro/noflat/empty~holo4/20220630/20221101T050434Z\n",
      "u/dagoret/spectro/noflat/empty~holo4/20220630/20221101T051149Z\n",
      "u/dagoret/spectro/noflat/empty~holo4/20220630/20221101T051822Z\n",
      "u/dagoret/spectro/noflat/empty~holo4/20220630/20221101T053230Z\n",
      "u/dagoret/spectro/noflat/empty~holo4/20220630/20221101T053900Z\n",
      "u/dagoret/spectro/noflat/empty~holo4/20220630/20221101T054604Z\n",
      "u/dagoret/spectro/noflat/empty~holo4/20220630/20221101T055243Z\n",
      "u/dagoret/spectro/noflat/empty~holo4/20220630/20221101T055938Z\n",
      "u/dagoret/spectro/noflat/empty~holo4/20220630/20221101T060642Z\n",
      "u/dagoret/spectro/noflat/empty~holo4/20220630/20221101T061223Z\n",
      "u/dagoret/spectro/noflat/empty~holo4/20220630/20221101T061939Z\n",
      "u/dagoret/spectro/noflat/empty~holo4/20220630/20221101T062837Z\n",
      "u/dagoret/spectro/noflat/empty~holo4/20220630/20221101T063515Z\n",
      "u/dagoret/spectro/noflat/empty~holo4/20220630/20221101T064118Z\n",
      "u/dagoret/spectro/noflat/empty~holo4/20220630/20221101T064817Z\n",
      "u/dagoret/spectro/noflat/empty~holo4/20220630/20221101T065553Z\n",
      "u/dagoret/spectro/noflat/empty~holo4/20220630/20221101T070305Z\n",
      "u/dagoret/spectro/noflat/empty~holo4/20220630/20221101T071101Z\n",
      "u/dagoret/spectro/noflat/empty~holo4/20220630/20221101T071826Z\n",
      "u/dagoret/spectro/noflat/empty~holo4/20220630/20221101T072526Z\n",
      "u/dagoret/spectro/noflat/empty~holo4/20220630/20221101T073222Z\n",
      "u/dagoret/spectro/noflat/empty~holo4/20220630/20221101T082406Z\n",
      "u/dagoret/spectro/noflat/empty~holo4/20220630/20221101T082523Z\n",
      "u/dagoret/spectro/noflat/empty~holo4/20220630/20221101T083230Z\n",
      "u/dagoret/spectro/noflat/empty~holo4/20220630/20221101T084052Z\n",
      "u/dagoret/spectro/noflat/empty~holo4/20220630/20221101T084737Z\n",
      "u/dagoret/spectro/noflat/empty~holo4/20220630/20221101T085429Z\n",
      "u/dagoret/spectro/noflat/empty~holo4/20220630/20221101T090221Z\n",
      "u/dagoret/spectro/noflat/empty~holo4/20220630/20221101T090915Z\n",
      "u/dagoret/spectro/noflat/empty~holo4/20220630/20221101T091630Z\n",
      "u/dagoret/spectro/noflat/empty~holo4/20220630/20221101T091749Z\n",
      "u/dagoret/spectro/noflat/empty~holo4/20220630/20221101T091912Z\n",
      "u/dagoret/spectro/noflat/empty~holo4/20220630/20221101T105956Z\n",
      "u/dagoret/spectro/noflat/empty~holo4/20220630/20221101T110724Z\n",
      "u/dagoret/spectro/noflat/empty~holo4/20220630/20221101T111426Z\n",
      "u/dagoret/spectro/noflat/empty~holo4/20220630/20221101T112031Z\n",
      "u/dagoret/spectro/noflat/empty~holo4/20220630/20221101T112149Z\n",
      "u/dagoret/spectro/noflat/empty~holo4/20220630/20221101T112259Z\n",
      "u/dagoret/spectro/noflat/empty~holo4/20220630/20221101T113147Z\n",
      "u/dagoret/test_auxtel_v0\n",
      "u/dagoret/test_auxtel_v0/20220922T195651Z\n",
      "u/dagoret/test_auxtel_v1\n",
      "u/dagoret/test_auxtel_v1/20221020T081853Z\n",
      "u/dagoret/test_auxtel_v1/20221020T082320Z\n",
      "u/dagoret/test_auxtel_v1/20221020T092704Z\n",
      "u/dagoret/test_latiss_drp\n",
      "u/dagoret/test_latiss_drp/20220920T154256Z\n",
      "u/dagoret/test_latiss_drp/20220920T155159Z\n",
      "u/dagoret/test_latiss_drp/20220923T045606Z\n",
      "u/dagoret/test_latiss_drp/20220923T045730Z\n",
      "u/dagoret/test_latiss_drp/20220923T154605Z\n",
      "u/dagoret/test_processstar01\n",
      "u/dagoret/test_processstar01/20220920T142105Z\n",
      "u/dagoret/test_processstar01/20220923T050346Z\n",
      "u/dagoret/test_processstar01/20220929T120123Z\n",
      "u/dagoret/test_processstar01/20220929T120541Z\n",
      "u/dagoret/test_processstar01/20220929T121854Z\n",
      "u/dagoret/test_processstar01/20220929T123614Z\n",
      "u/dagoret/test_processstar01/20221020T073136Z\n",
      "u/dagoret/test_processstar01/20221020T144135Z\n",
      "u/dagoret/tests/test_20oct2022\n",
      "u/dagoret/tests/test_20oct2022/20221020T133139Z\n",
      "u/dagoret/tests/test_20oct2022/20221020T140016Z\n",
      "u/dagoret/tests/test_20oct2022/20221020T143125Z\n",
      "u/dagoret/tests/test_20oct2022/20221020T150409Z\n",
      "u/dagoret/tests/test_20oct2022/20221020T154456Z\n",
      "u/dagoret/tests/test_20oct2022/20221020T161227Z\n",
      "u/dagoret/tests/test_20oct2022/20221020T164030Z\n",
      "u/dagoret/tests/test_20oct2022/20221020T172659Z\n",
      "u/dagoret/tests/test_20oct2022/20221020T174950Z\n",
      "u/dagoret/tests/test_20oct2022/20221020T181516Z\n",
      "u/dagoret/tests/test_20oct2022/20221020T183735Z\n",
      "u/dagoret/tests/test_20oct2022/20221020T190300Z\n",
      "u/dagoret/tests/test_20oct2022/20221020T192822Z\n",
      "u/dagoret/tests/test_20oct2022/20221020T195347Z\n",
      "u/dagoret/tests/test_20oct2022/20221020T201934Z\n",
      "u/dagoret/tests/test_20oct2022/20221020T205445Z\n",
      "u/dagoret/tests/test_20oct2022/20221020T212411Z\n",
      "u/dagoret/tests/test_20oct2022/20221020T215022Z\n",
      "u/dagoret/tests/test_20oct2022/20221020T221714Z\n",
      "u/dagoret/tests/test_20oct2022/20221020T224311Z\n",
      "u/dagoret/tests/test_20oct2022/20221020T230834Z\n",
      "u/dagoret/tests/test_20oct2022/20221020T233544Z\n",
      "u/dagoret/tests/test_20oct2022/20221021T000023Z\n",
      "u/dagoret/tests/test_20oct2022/20221021T002734Z\n",
      "u/dagoret/tests/test_20oct2022/20221021T005342Z\n",
      "u/dagoret/tests/test_20oct2022/20221021T011709Z\n",
      "u/dagoret/tests/test_20oct2022/20221021T014031Z\n",
      "u/dagoret/tests/test_20oct2022/20221021T021137Z\n",
      "u/dagoret/tests/test_20oct2022/20221021T081447Z\n",
      "u/dagoret/tests/test_20oct2022/20221021T081849Z\n",
      "u/dagoret/tests/test_20oct2022/20221021T082219Z\n",
      "u/dagoret/tests/test_20oct2022/20221021T084001Z\n",
      "u/dagoret/tests/test_20oct2022/20221021T091152Z\n",
      "u/dagoret/tests/test_20oct2022/20221021T093438Z\n",
      "u/dagoret/tests/test_20oct2022/20221021T095629Z\n",
      "u/dagoret/tests/test_20oct2022/20221021T101859Z\n",
      "u/dagoret/tests/test_20oct2022/20221021T104057Z\n",
      "u/dagoret/tests/test_20oct2022/20221021T110614Z\n",
      "u/dagoret/tests/test_20oct2022/20221021T112742Z\n",
      "u/dagoret/tests/test_20oct2022/20221021T115126Z\n",
      "u/dagoret/tests/test_20oct2022/20221021T121915Z\n",
      "u/dagoret/tests/test_20oct2022/20221021T124128Z\n",
      "u/dagoret/tests/test_20oct2022/20221021T130409Z\n",
      "u/dagoret/tests/test_20oct2022/20221021T132959Z\n",
      "u/dagoret/tests/test_20oct2022/20221021T135545Z\n",
      "u/dagoret/tests/test_20oct2022/20221021T141819Z\n",
      "u/dagoret/tests/test_20oct2022/20221021T144300Z\n",
      "u/dagoret/tests/test_20oct2022/20221021T150701Z\n",
      "u/dagoret/tests/test_20oct2022/20221021T153022Z\n",
      "u/dagoret/tests/test_20oct2022/20221021T155518Z\n",
      "u/dagoret/tests/test_20oct2022/20221021T183425Z\n",
      "u/dagoret/tests/test_20oct2022/20221021T183546Z\n",
      "u/dagoret/tests/test_20oct2022/20221021T190436Z\n",
      "u/dagoret/tests/test_20oct2022/20221021T193224Z\n",
      "u/dagoret/tests/test_20oct2022/20221021T195856Z\n",
      "u/dagoret/tests/test_20oct2022/20221021T202314Z\n",
      "u/dagoret/tests/test_20oct2022/20221021T204713Z\n",
      "u/dagoret/tests/test_20oct2022/20221021T211342Z\n",
      "u/dagoret/tests/test_20oct2022/20221021T214158Z\n",
      "u/dagoret/tests/test_20oct2022/20221021T214324Z\n",
      "u/dagoret/tests/test_20oct2022/20221021T214505Z\n",
      "u/dagoret/tests/test_20oct2022/20221022T002916Z\n",
      "u/dagoret/tests/test_20oct2022/20221022T005415Z\n",
      "u/dagoret/tests/test_20oct2022/20221022T011958Z\n",
      "u/dagoret/tests/test_20oct2022/20221022T023516Z\n",
      "u/dagoret/tests/test_20oct2022/20221022T023639Z\n",
      "u/dagoret/tests/test_20oct2022/20221022T023742Z\n",
      "u/dagoret/tests/test_20oct2022/20221022T030307Z\n",
      "u/dagoret/tests/test_23oct2022/empty~holo4/20220630\n",
      "u/dagoret/tests/test_23oct2022/empty~holo4/20220630/20221023T135938Z\n",
      "u/dagoret/tests/test_23oct2022/empty~holo4/20220630/20221023T135939Z\n",
      "u/dagoret/tests/test_23oct2022/empty~holo4/20220630/20221023T140939Z\n",
      "u/dagoret/tests/test_23oct2022/empty~holo4/20220630/20221023T140946Z\n",
      "u/dagoret/tests/test_23oct2022/empty~holo4/20220630/20221023T140947Z\n",
      "u/dagoret/tests/test_23oct2022/empty~holo4/20220630/20221023T140948Z\n",
      "u/dagoret/tests/test_23oct2022_empty~holo4_20220629\n",
      "u/dagoret/tests/test_23oct2022_empty~holo4_20220629/20221025T085746Z\n",
      "u/dagoret/tests/test_23oct2022_empty~holo4_20220629/20221025T085747Z\n",
      "u/dagoret/tests/test_23oct2022_empty~holo4_20220629/20221025T085809Z\n",
      "u/dagoret/tests/test_23oct2022_empty~holo4_20220629/20221025T085810Z\n",
      "u/dagoret/tests/test_23oct2022_empty~holo4_20220629/20221025T085811Z\n",
      "u/dagoret/tests/test_23oct2022_empty~holo4_20220629/20221025T085812Z\n",
      "u/dagoret/tests/test_23oct2022_empty~holo4_20220629/20221025T085832Z\n",
      "u/dagoret/tests/test_23oct2022_empty~holo4_20220629/20221025T085834Z\n",
      "u/dagoret/tests/test_23oct2022_empty~holo4_20220629/20221025T085835Z\n",
      "u/dagoret/tests/test_23oct2022_empty~holo4_20220629/20221025T085855Z\n",
      "u/dagoret/tests/test_23oct2022_empty~holo4_20220629/20221025T085905Z\n",
      "u/dagoret/tests/test_23oct2022_empty~holo4_20220629/20221025T085936Z\n",
      "u/dagoret/tests/test_23oct2022_empty~holo4_20220629/20221025T090007Z\n",
      "u/dagoret/tests/test_23oct2022_empty~holo4_20220629/20221025T090039Z\n",
      "u/dagoret/tests/test_23oct2022_empty~holo4_20220629/20221025T090110Z\n",
      "u/dagoret/tests/test_23oct2022_empty~holo4_20220629/20221025T090140Z\n",
      "u/dagoret/tests/test_23oct2022_empty~holo4_20220629/20221025T090210Z\n",
      "u/dagoret/tests/test_23oct2022_empty~holo4_20220629/20221025T090241Z\n",
      "u/dagoret/tests/test_23oct2022_empty~holo4_20220629/20221025T090309Z\n",
      "u/dagoret/tests/test_23oct2022_empty~holo4_20220629/20221025T090312Z\n",
      "u/dagoret/tests/test_23oct2022_empty~holo4_20220629/20221025T090321Z\n",
      "u/dagoret/tests/test_23oct2022_empty~holo4_20220629/20221025T090328Z\n",
      "u/dagoret/tests/test_23oct2022_empty~holo4_20220629/20221025T090331Z\n",
      "u/dagoret/tests/test_23oct2022_empty~holo4_20220629/20221025T090337Z\n",
      "u/dagoret/tests/test_23oct2022_empty~holo4_20220629/20221025T090342Z\n",
      "u/dagoret/tests/test_23oct2022_empty~holo4_20220629/20221025T090343Z\n",
      "u/dagoret/tests/test_23oct2022_empty~holo4_20220629/20221025T090350Z\n",
      "u/dagoret/tests/test_23oct2022_empty~holo4_20220629/20221025T090401Z\n",
      "u/dagoret/tests/test_23oct2022_empty~holo4_20220629/20221025T090413Z\n",
      "u/dagoret/tests/test_23oct2022_empty~holo4_20220629/20221025T090434Z\n",
      "u/dagoret/tests/test_23oct2022_empty~holo4_20220629/20221025T090443Z\n",
      "u/dagoret/tests/test_23oct2022_empty~holo4_20220629/20221025T090514Z\n",
      "u/dagoret/tests/test_23oct2022_empty~holo4_20220629/20221025T090525Z\n",
      "u/dagoret/tests/test_23oct2022_empty~holo4_20220629/20221025T090544Z\n",
      "u/dagoret/tests/test_23oct2022_empty~holo4_20220629/20221025T090615Z\n",
      "u/dagoret/tests/test_23oct2022_empty~holo4_20220629/20221025T090646Z\n",
      "u/dagoret/tests/test_23oct2022_empty~holo4_20220629/20221025T090716Z\n",
      "u/dagoret/tests/test_23oct2022_empty~holo4_20220629/20221025T090747Z\n",
      "u/dagoret/tests/test_23oct2022_empty~holo4_20220629/20221025T090814Z\n",
      "u/dagoret/tests/test_23oct2022_empty~holo4_20220629/20221025T090818Z\n",
      "u/dagoret/tests/test_23oct2022_empty~holo4_20220629/20221025T090846Z\n",
      "u/dagoret/tests/test_23oct2022_empty~holo4_20220629/20221025T090847Z\n",
      "u/dagoret/tests/test_23oct2022_empty~holo4_20220629/20221025T090849Z\n",
      "u/dagoret/tests/test_23oct2022_empty~holo4_20220629/20221025T090850Z\n",
      "u/dagoret/tests/test_23oct2022_empty~holo4_20220629/20221025T090903Z\n",
      "u/dagoret/tests/test_23oct2022_empty~holo4_20220629/20221025T090911Z\n",
      "u/dagoret/tests/test_23oct2022_empty~holo4_20220629/20221025T090919Z\n",
      "u/dagoret/tests/test_23oct2022_empty~holo4_20220629/20221025T090950Z\n",
      "u/dagoret/tests/test_23oct2022_empty~holo4_20220629/20221025T091021Z\n",
      "u/dagoret/tests/test_23oct2022_empty~holo4_20220630\n",
      "u/dagoret/tests/test_23oct2022_empty~holo4_20220630/20221023T141752Z\n",
      "u/dagoret/tests/test_23oct2022_empty~holo4_20220630/20221023T141753Z\n",
      "u/dagoret/tests/test_23oct2022_empty~holo4_20220630/20221023T141759Z\n",
      "u/dagoret/tests/test_23oct2022_empty~holo4_20220630/20221023T141816Z\n",
      "u/dagoret/tests/test_23oct2022_empty~holo4_20220630/20221023T141817Z\n",
      "u/dagoret/tests/test_23oct2022_empty~holo4_20220630/20221023T141818Z\n",
      "u/dagoret/tests/test_23oct2022_empty~holo4_20220630/20221023T141826Z\n",
      "u/dagoret/tests/test_23oct2022_empty~holo4_20220630/20221023T141840Z\n",
      "u/dagoret/tests/test_23oct2022_empty~holo4_20220630/20221023T141841Z\n",
      "u/dagoret/tests/test_23oct2022_empty~holo4_20220630/20221023T141843Z\n",
      "u/dagoret/tests/test_23oct2022_empty~holo4_20220630/20221023T141859Z\n",
      "u/dagoret/tests/test_23oct2022_empty~holo4_20220630/20221023T141932Z\n",
      "u/dagoret/tests/test_23oct2022_empty~holo4_20220630/20221023T141952Z\n",
      "u/dagoret/tests/test_23oct2022_empty~holo4_20220630/20221023T142004Z\n",
      "u/dagoret/tests/test_23oct2022_empty~holo4_20220630/20221023T142037Z\n",
      "u/dagoret/tests/test_23oct2022_empty~holo4_20220630/20221023T142110Z\n",
      "u/dagoret/tests/test_23oct2022_empty~holo4_20220630/20221023T142143Z\n",
      "u/dagoret/tests/test_23oct2022_empty~holo4_20220630/20221023T142215Z\n",
      "u/dagoret/tests/test_23oct2022_empty~holo4_20220630/20221023T142248Z\n",
      "u/dagoret/tests/test_23oct2022_empty~holo4_20220630/20221023T142320Z\n",
      "u/dagoret/tests/test_23oct2022_empty~holo4_20220630/20221023T142353Z\n",
      "u/dagoret/tests/test_23oct2022_empty~holo4_20220630/20221023T142405Z\n",
      "u/dagoret/tests/test_23oct2022_empty~holo4_20220630/20221023T142425Z\n",
      "u/dagoret/tests/test_23oct2022_empty~holo4_20220630/20221023T142432Z\n",
      "u/dagoret/tests/test_23oct2022_empty~holo4_20220630/20221023T142458Z\n",
      "u/dagoret/tests/test_23oct2022_empty~holo4_20220630/20221023T142501Z\n",
      "u/dagoret/tests/test_23oct2022_empty~holo4_20220630/20221023T142503Z\n",
      "u/dagoret/tests/test_23oct2022_empty~holo4_20220630/20221023T142530Z\n",
      "u/dagoret/tests/test_23oct2022_empty~holo4_20220630/20221023T142602Z\n",
      "u/dagoret/tests/test_23oct2022_empty~holo4_20220630/20221023T142603Z\n",
      "u/dagoret/tests/test_23oct2022_empty~holo4_20220630/20221023T142625Z\n",
      "u/dagoret/tests/test_23oct2022_empty~holo4_20220630/20221023T142635Z\n",
      "u/dagoret/tests/test_23oct2022_empty~holo4_20220630/20221023T142637Z\n",
      "u/dagoret/tests/test_23oct2022_empty~holo4_20220630/20221023T142707Z\n",
      "u/dagoret/tests/test_23oct2022_empty~holo4_20220630/20221023T142740Z\n",
      "u/dagoret/tests/test_23oct2022_empty~holo4_20220630/20221023T142812Z\n",
      "u/dagoret/tests/test_23oct2022_empty~holo4_20220630/20221023T142845Z\n",
      "u/dagoret/tests/test_23oct2022_empty~holo4_20220630/20221023T142917Z\n",
      "u/dagoret/tests/test_23oct2022_empty~holo4_20220630/20221023T142921Z\n",
      "u/dagoret/tests/test_23oct2022_empty~holo4_20220630/20221023T142935Z\n",
      "u/dagoret/tests/test_23oct2022_empty~holo4_20220630/20221023T142950Z\n",
      "u/dagoret/tests/test_23oct2022_empty~holo4_20220630/20221023T143022Z\n",
      "u/dagoret/tests/test_23oct2022_empty~holo4_20220630/20221023T143030Z\n",
      "u/dagoret/tests/test_23oct2022_empty~holo4_20220630/20221023T143038Z\n",
      "u/dagoret/tests/test_23oct2022_empty~holo4_20220630/20221023T143053Z\n",
      "u/dagoret/tests/test_23oct2022_empty~holo4_20220630/20221023T143055Z\n",
      "u/dagoret/tests/test_23oct2022_empty~holo4_20220630/20221023T143104Z\n",
      "u/dagoret/tests/test_23oct2022_empty~holo4_20220630/20221023T143127Z\n",
      "u/dagoret/tests/test_23oct2022_empty~holo4_20220630/20221023T143144Z\n",
      "u/dagoret/tests/test_23oct2022_empty~holo4_20220630/20221023T143200Z\n",
      "u/dagoret/tests/test_23oct2022_empty~holo4_20220630/20221023T143225Z\n",
      "u/dagoret/tests/test_23oct2022_empty~holo4_20220630/20221023T143233Z\n",
      "u/dagoret/tests/test_23oct2022_empty~holo4_20220630/20221023T143234Z\n",
      "u/dagoret/tests/test_23oct2022_empty~holo4_20220630/20221023T143237Z\n",
      "u/dagoret/tests/test_23oct2022_empty~holo4_20220630/20221023T143305Z\n",
      "u/dagoret/tests/test_23oct2022_empty~holo4_20220630/20221023T143324Z\n",
      "u/dagoret/tests/test_25oct2022_empty~holo4_20220629\n",
      "u/dagoret/tests/test_25oct2022_empty~holo4_20220629/20221025T091027Z\n",
      "u/dagoret/tests/test_25oct2022_empty~holo4_20220629/20221025T091052Z\n",
      "u/dagoret/tests/test_25oct2022_empty~holo4_20220629/20221025T091122Z\n",
      "u/dagoret/tests/test_25oct2022_empty~holo4_20220629/20221025T091152Z\n",
      "u/dagoret/tests/test_25oct2022_empty~holo4_20220629/20221025T091153Z\n",
      "u/dagoret/tests/test_25oct2022_empty~holo4_20220629/20221025T091213Z\n",
      "u/dagoret/tests/test_25oct2022_empty~holo4_20220629/20221025T091223Z\n",
      "u/dagoret/tests/test_25oct2022_empty~holo4_20220629/20221025T091254Z\n",
      "u/dagoret/tests/test_25oct2022_empty~holo4_20220629/20221025T091324Z\n",
      "u/dagoret/tests/test_25oct2022_empty~holo4_20220629/20221025T091355Z\n",
      "u/dagoret/tests/test_25oct2022_empty~holo4_20220629/20221025T091413Z\n",
      "u/dagoret/tests/test_25oct2022_empty~holo4_20220629/20221025T091420Z\n",
      "u/dagoret/tests/test_25oct2022_empty~holo4_20220629/20221025T091426Z\n",
      "u/dagoret/tests/test_25oct2022_empty~holo4_20220629/20221025T091457Z\n",
      "u/dagoret/tests/test_25oct2022_empty~holo4_20220629/20221025T091522Z\n",
      "u/dagoret/tests/test_25oct2022_empty~holo4_20220629/20221025T091527Z\n",
      "u/dagoret/tests/test_25oct2022_empty~holo4_20220629/20221025T091547Z\n",
      "u/dagoret/tests/test_25oct2022_empty~holo4_20220629/20221025T091552Z\n",
      "u/dagoret/tests/test_25oct2022_empty~holo4_20220629/20221025T091558Z\n",
      "u/dagoret/tests/test_25oct2022_empty~holo4_20220629/20221025T091621Z\n",
      "u/dagoret/tests/test_25oct2022_empty~holo4_20220629/20221025T091629Z\n",
      "u/dagoret/tests/test_25oct2022_empty~holo4_20220629/20221025T091659Z\n",
      "u/dagoret/tests/test_25oct2022_empty~holo4_20220629/20221025T091730Z\n",
      "u/dagoret/tests/test_25oct2022_empty~holo4_20220629/20221025T091749Z\n",
      "u/dagoret/tests/test_25oct2022_empty~holo4_20220629/20221025T091800Z\n",
      "u/dagoret/tests/test_25oct2022_empty~holo4_20220629/20221025T091831Z\n",
      "u/dagoret/tests/test_25oct2022_empty~holo4_20220629/20221025T091902Z\n",
      "u/dagoret/tests/test_25oct2022_empty~holo4_20220629/20221025T091907Z\n",
      "u/dagoret/tests/test_25oct2022_empty~holo4_20220629/20221025T091933Z\n",
      "u/dagoret/tests/test_25oct2022_empty~holo4_20220629/20221025T091949Z\n",
      "u/dagoret/tests/test_25oct2022_empty~holo4_20220629/20221025T091953Z\n",
      "u/dagoret/tests/test_25oct2022_empty~holo4_20220629/20221025T092003Z\n",
      "u/dagoret/tests/test_25oct2022_empty~holo4_20220629/20221025T092009Z\n",
      "u/dagoret/tests/test_25oct2022_empty~holo4_20220629/20221025T092029Z\n",
      "u/dagoret/tests/test_25oct2022_empty~holo4_20220629/20221025T092034Z\n",
      "u/dagoret/tests/test_25oct2022_empty~holo4_20220629/20221025T092045Z\n",
      "u/dagoret/tests/test_25oct2022_empty~holo4_20220629/20221025T092105Z\n",
      "u/dagoret/tests/test_25oct2022_empty~holo4_20220629/20221025T092136Z\n",
      "u/dagoret/tests/test_25oct2022_empty~holo4_20220629/20221025T092139Z\n",
      "u/dagoret/tests/test_25oct2022_empty~holo4_20220629/20221025T092207Z\n",
      "u/dagoret/tests/test_25oct2022_empty~holo4_20220629/20221025T092238Z\n",
      "u/dagoret/tests/test_25oct2022_empty~holo4_20220629/20221025T092257Z\n",
      "u/dagoret/tests/test_25oct2022_empty~holo4_20220629/20221025T092308Z\n",
      "u/dagoret/tests/test_25oct2022_empty~holo4_20220629/20221025T092339Z\n",
      "u/dagoret/tests/test_25oct2022_empty~holo4_20220629/20221025T092359Z\n",
      "u/dagoret/tests/test_25oct2022_empty~holo4_20220629/20221025T092409Z\n",
      "u/dagoret/tests/test_25oct2022_empty~holo4_20220629/20221025T092433Z\n",
      "u/dagoret/tests/test_25oct2022_empty~holo4_20220629/20221025T092440Z\n",
      "u/dagoret/tests/test_25oct2022_empty~holo4_20220629/20221025T092443Z\n",
      "u/dagoret/tests/test_25oct2022_empty~holo4_20220629/20221025T092456Z\n",
      "u/dagoret/tests/test_25oct2022_empty~holo4_20220629/20221025T092506Z\n",
      "u/dagoret/tests/test_25oct2022_empty~holo4_20220629/20221025T092510Z\n",
      "u/dagoret/tests/test_25oct2022_empty~holo4_20220629/20221025T092540Z\n",
      "u/dagoret/tests/test_25oct2022_empty~holo4_20220629/20221025T092558Z\n",
      "u/dagoret/tests/test_25oct2022_empty~holo4_20220629/20221025T092609Z\n",
      "u/dagoret/tests/test_25oct2022_empty~holo4_20220629/20221025T092612Z\n",
      "u/dagoret/tests/test_25oct2022_empty~holo4_20220629/20221025T092642Z\n",
      "u/dagoret/tests/test_25oct2022_empty~holo4_20220629/20221025T092712Z\n",
      "u/dagoret/tests/test_25oct2022_empty~holo4_20220629/20221025T092743Z\n",
      "u/dagoret/tests/test_25oct2022_empty~holo4_20220629/20221025T092807Z\n",
      "u/dagoret/tests/test_25oct2022_empty~holo4_20220629/20221025T092813Z\n",
      "u/dagoret/tests/test_25oct2022_empty~holo4_20220629/20221025T092844Z\n",
      "u/dagoret/tests/test_25oct2022b_empty~holo4_20220629\n",
      "u/dagoret/tests/test_25oct2022b_empty~holo4_20220629/20221025T152219Z\n",
      "u/dagoret/tests/test_25oct2022b_empty~holo4_20220629/20221025T162625Z\n",
      "u/dagoret/tests/test_25oct2022b_empty~holo4_20220629/20221025T164057Z\n",
      "u/dagoret/tests/test_25oct2022b_empty~holo4_20220629/20221025T175835Z\n",
      "u/dagoret/tests/test_25oct2022b_empty~holo4_20220629/20221025T175837Z\n",
      "u/dagoret/tests/test_25oct2022b_empty~holo4_20220629/20221025T180101Z\n",
      "u/dagoret/tests/test_25oct2022b_empty~holo4_20220629/20221025T180108Z\n",
      "u/dagoret/tests/test_25oct2022b_empty~holo4_20220629/20221025T182337Z\n",
      "u/dagoret/tests/test_25oct2022b_empty~holo4_20220629/20221025T183040Z\n",
      "u/dagoret/tests/test_25oct2022c/empty~holo4/20220630\n",
      "u/dagoret/tests/test_25oct2022c/empty~holo4/20220630/20221025T184538Z\n",
      "u/dagoret/tests/test_25oct2022c/empty~holo4/20220630/20221025T185311Z\n",
      "u/dagoret/tests/test_25oct2022c/empty~holo4/20220630/20221025T192814Z\n",
      "u/dagoret/tests/test_25oct2022c/empty~holo4/20220630/20221025T200053Z\n",
      "u/dagoret/tests/test_25oct2022c/empty~holo4/20220630/20221025T200734Z\n",
      "u/dagoret/tests/test_25oct2022c/empty~holo4/20220630/20221025T201605Z\n",
      "u/dagoret/tests/test_25oct2022c/empty~holo4/20220630/20221025T203058Z\n",
      "u/dagoret/tests/test_25oct2022c/empty~holo4/20220630/20221025T203826Z\n",
      "u/dagoret/tests/test_25oct2022c/empty~holo4/20220630/20221025T204554Z\n",
      "u/dagoret/tests/test_25oct2022c/empty~holo4/20220630/20221025T205306Z\n",
      "u/dagoret/tests/test_25oct2022c/empty~holo4/20220630/20221025T210023Z\n",
      "u/dagoret/tests/test_25oct2022c/empty~holo4/20220630/20221025T210715Z\n",
      "u/dagoret/tests/test_25oct2022c/empty~holo4/20220630/20221025T211551Z\n",
      "u/dagoret/tests/test_25oct2022c/empty~holo4/20220630/20221025T212327Z\n",
      "u/dagoret/tests/test_25oct2022c/empty~holo4/20220630/20221025T213029Z\n",
      "u/dagoret/tests/test_25oct2022c/empty~holo4/20220630/20221025T213714Z\n",
      "u/dagoret/tests/test_25oct2022c/empty~holo4/20220630/20221025T214458Z\n",
      "u/dagoret/tests/test_25oct2022c/empty~holo4/20220630/20221025T215136Z\n",
      "u/dagoret/tests/test_25oct2022c/empty~holo4/20220630/20221025T215903Z\n",
      "u/dagoret/tests/test_25oct2022c/empty~holo4/20220630/20221025T220702Z\n",
      "u/dagoret/tests/test_25oct2022c/empty~holo4/20220630/20221025T221637Z\n",
      "u/dagoret/tests/test_25oct2022c/empty~holo4/20220630/20221025T222847Z\n",
      "u/dagoret/tests/test_25oct2022c/empty~holo4/20220630/20221025T223630Z\n",
      "u/dagoret/tests/test_25oct2022c/empty~holo4/20220630/20221025T224415Z\n",
      "u/dagoret/tests/test_25oct2022c/empty~holo4/20220630/20221025T225608Z\n",
      "u/dagoret/tests/test_25oct2022c/empty~holo4/20220630/20221025T230510Z\n",
      "u/dagoret/tests/test_25oct2022c/empty~holo4/20220630/20221025T232014Z\n",
      "u/dagoret/tests/test_25oct2022c/empty~holo4/20220630/20221025T233755Z\n",
      "u/dagoret/tests/test_25oct2022c/empty~holo4/20220630/20221025T235232Z\n",
      "u/dagoret/tests/test_25oct2022c/empty~holo4/20220630/20221026T000852Z\n",
      "u/dagoret/tests/test_25oct2022c/empty~holo4/20220630/20221026T002621Z\n",
      "u/dagoret/tests/test_25oct2022c/empty~holo4/20220630/20221026T005722Z\n",
      "u/dagoret/tests/test_25oct2022c/empty~holo4/20220630/20221026T012519Z\n",
      "u/dagoret/tests/test_25oct2022c/empty~holo4/20220630/20221026T015421Z\n",
      "u/dagoret/tests/test_25oct2022c/empty~holo4/20220630/20221026T022939Z\n",
      "u/dagoret/tests/test_25oct2022c/empty~holo4/20220630/20221026T025840Z\n",
      "u/dagoret/tests/test_25oct2022c/empty~holo4/20220630/20221026T031520Z\n",
      "u/dagoret/tests/test_25oct2022c/empty~holo4/20220630/20221026T032850Z\n",
      "u/dagoret/tests/test_25oct2022c/empty~holo4/20220630/20221026T034151Z\n",
      "u/dagoret/tests/test_25oct2022c/empty~holo4/20220630/20221026T035501Z\n",
      "u/dagoret/tests/test_25oct2022c/empty~holo4/20220630/20221026T040246Z\n",
      "u/dagoret/tests/test_25oct2022c/empty~holo4/20220630/20221026T040852Z\n",
      "u/dagoret/tests/test_25oct2022c/empty~holo4/20220630/20221026T052154Z\n",
      "u/dagoret/tests/test_25oct2022c/empty~holo4/20220630/20221026T052435Z\n",
      "u/dagoret/tests/test_25oct2022c/empty~holo4/20220630/20221026T054233Z\n",
      "u/dagoret/tests/test_25oct2022c/empty~holo4/20220630/20221026T055246Z\n",
      "u/dagoret/tests/test_25oct2022c/empty~holo4/20220630/20221026T060325Z\n",
      "u/dagoret/tests/test_25oct2022c/empty~holo4/20220630/20221026T061434Z\n",
      "u/dagoret/tests/test_25oct2022c/empty~holo4/20220630/20221026T062849Z\n",
      "u/dagoret/tests/test_25oct2022c/empty~holo4/20220630/20221026T063953Z\n",
      "u/dagoret/tests/test_25oct2022c/empty~holo4/20220630/20221026T064646Z\n",
      "u/dagoret/tests/test_25oct2022c/empty~holo4/20220630/20221026T064807Z\n",
      "u/dagoret/tests/test_25oct2022c/empty~holo4/20220630/20221026T064946Z\n",
      "u/dagoret/tests/test_25oct2022c/empty~holo4/20220630/20221026T083247Z\n",
      "u/dagoret/tests/test_25oct2022c/empty~holo4/20220630/20221026T083954Z\n",
      "u/dagoret/tests/test_25oct2022c/empty~holo4/20220630/20221026T084727Z\n",
      "u/dagoret/tests/test_25oct2022c/empty~holo4/20220630/20221026T092132Z\n",
      "u/dagoret/tests/test_25oct2022c/empty~holo4/20220630/20221026T092247Z\n",
      "u/dagoret/tests/test_25oct2022c/empty~holo4/20220630/20221026T092358Z\n",
      "u/dagoret/tests/test_25oct2022c/empty~holo4/20220630/20221026T093336Z\n"
     ]
    }
   ],
   "source": [
    "for c in sorted(registry.queryCollections()):\n",
    "    if \"u/dagoret\" in c:\n",
    "        print(c)"
   ]
  },
  {
   "cell_type": "code",
   "execution_count": 6,
   "id": "7df1993e-e932-4d7b-92ca-df6a72d40e21",
   "metadata": {
    "execution": {
     "iopub.execute_input": "2023-04-20T16:50:22.372163Z",
     "iopub.status.busy": "2023-04-20T16:50:22.371923Z",
     "iopub.status.idle": "2023-04-20T16:50:22.385987Z",
     "shell.execute_reply": "2023-04-20T16:50:22.385534Z",
     "shell.execute_reply.started": "2023-04-20T16:50:22.372149Z"
    }
   },
   "outputs": [
    {
     "name": "stdout",
     "output_type": "stream",
     "text": [
      "u/dagoret/tests/test_20oct2022\n",
      "u/dagoret/tests/test_20oct2022/20221020T133139Z\n",
      "u/dagoret/tests/test_20oct2022/20221020T140016Z\n",
      "u/dagoret/tests/test_20oct2022/20221020T143125Z\n",
      "u/dagoret/tests/test_20oct2022/20221020T150409Z\n",
      "u/dagoret/tests/test_20oct2022/20221020T154456Z\n",
      "u/dagoret/tests/test_20oct2022/20221020T161227Z\n",
      "u/dagoret/tests/test_20oct2022/20221020T164030Z\n",
      "u/dagoret/tests/test_20oct2022/20221020T172659Z\n",
      "u/dagoret/tests/test_20oct2022/20221020T174950Z\n",
      "u/dagoret/tests/test_20oct2022/20221020T181516Z\n",
      "u/dagoret/tests/test_20oct2022/20221020T183735Z\n",
      "u/dagoret/tests/test_20oct2022/20221020T190300Z\n",
      "u/dagoret/tests/test_20oct2022/20221020T192822Z\n",
      "u/dagoret/tests/test_20oct2022/20221020T195347Z\n",
      "u/dagoret/tests/test_20oct2022/20221020T201934Z\n",
      "u/dagoret/tests/test_20oct2022/20221020T205445Z\n",
      "u/dagoret/tests/test_20oct2022/20221020T212411Z\n",
      "u/dagoret/tests/test_20oct2022/20221020T215022Z\n",
      "u/dagoret/tests/test_20oct2022/20221020T221714Z\n",
      "u/dagoret/tests/test_20oct2022/20221020T224311Z\n",
      "u/dagoret/tests/test_20oct2022/20221020T230834Z\n",
      "u/dagoret/tests/test_20oct2022/20221020T233544Z\n",
      "u/dagoret/tests/test_20oct2022/20221021T000023Z\n",
      "u/dagoret/tests/test_20oct2022/20221021T002734Z\n",
      "u/dagoret/tests/test_20oct2022/20221021T005342Z\n",
      "u/dagoret/tests/test_20oct2022/20221021T011709Z\n",
      "u/dagoret/tests/test_20oct2022/20221021T014031Z\n",
      "u/dagoret/tests/test_20oct2022/20221021T021137Z\n",
      "u/dagoret/tests/test_20oct2022/20221021T081447Z\n",
      "u/dagoret/tests/test_20oct2022/20221021T081849Z\n",
      "u/dagoret/tests/test_20oct2022/20221021T082219Z\n",
      "u/dagoret/tests/test_20oct2022/20221021T084001Z\n",
      "u/dagoret/tests/test_20oct2022/20221021T091152Z\n",
      "u/dagoret/tests/test_20oct2022/20221021T093438Z\n",
      "u/dagoret/tests/test_20oct2022/20221021T095629Z\n",
      "u/dagoret/tests/test_20oct2022/20221021T101859Z\n",
      "u/dagoret/tests/test_20oct2022/20221021T104057Z\n",
      "u/dagoret/tests/test_20oct2022/20221021T110614Z\n",
      "u/dagoret/tests/test_20oct2022/20221021T112742Z\n",
      "u/dagoret/tests/test_20oct2022/20221021T115126Z\n",
      "u/dagoret/tests/test_20oct2022/20221021T121915Z\n",
      "u/dagoret/tests/test_20oct2022/20221021T124128Z\n",
      "u/dagoret/tests/test_20oct2022/20221021T130409Z\n",
      "u/dagoret/tests/test_20oct2022/20221021T132959Z\n",
      "u/dagoret/tests/test_20oct2022/20221021T135545Z\n",
      "u/dagoret/tests/test_20oct2022/20221021T141819Z\n",
      "u/dagoret/tests/test_20oct2022/20221021T144300Z\n",
      "u/dagoret/tests/test_20oct2022/20221021T150701Z\n",
      "u/dagoret/tests/test_20oct2022/20221021T153022Z\n",
      "u/dagoret/tests/test_20oct2022/20221021T155518Z\n",
      "u/dagoret/tests/test_20oct2022/20221021T183425Z\n",
      "u/dagoret/tests/test_20oct2022/20221021T183546Z\n",
      "u/dagoret/tests/test_20oct2022/20221021T190436Z\n",
      "u/dagoret/tests/test_20oct2022/20221021T193224Z\n",
      "u/dagoret/tests/test_20oct2022/20221021T195856Z\n",
      "u/dagoret/tests/test_20oct2022/20221021T202314Z\n",
      "u/dagoret/tests/test_20oct2022/20221021T204713Z\n",
      "u/dagoret/tests/test_20oct2022/20221021T211342Z\n",
      "u/dagoret/tests/test_20oct2022/20221021T214158Z\n",
      "u/dagoret/tests/test_20oct2022/20221021T214324Z\n",
      "u/dagoret/tests/test_20oct2022/20221021T214505Z\n",
      "u/dagoret/tests/test_20oct2022/20221022T002916Z\n",
      "u/dagoret/tests/test_20oct2022/20221022T005415Z\n",
      "u/dagoret/tests/test_20oct2022/20221022T011958Z\n",
      "u/dagoret/tests/test_20oct2022/20221022T023516Z\n",
      "u/dagoret/tests/test_20oct2022/20221022T023639Z\n",
      "u/dagoret/tests/test_20oct2022/20221022T023742Z\n",
      "u/dagoret/tests/test_20oct2022/20221022T030307Z\n"
     ]
    }
   ],
   "source": [
    "for c in sorted(registry.queryCollections()):\n",
    "    if \"u/dagoret/tests/test_20oct2022\" in c:\n",
    "        print(c)"
   ]
  },
  {
   "cell_type": "code",
   "execution_count": 7,
   "id": "0c08e748-92c8-43e3-8f6f-b43fabcd1dd0",
   "metadata": {
    "execution": {
     "iopub.execute_input": "2023-04-20T16:50:22.386622Z",
     "iopub.status.busy": "2023-04-20T16:50:22.386483Z",
     "iopub.status.idle": "2023-04-20T16:50:22.400416Z",
     "shell.execute_reply": "2023-04-20T16:50:22.399860Z",
     "shell.execute_reply.started": "2023-04-20T16:50:22.386608Z"
    }
   },
   "outputs": [
    {
     "name": "stdout",
     "output_type": "stream",
     "text": [
      "u/dagoret/tests/test_23oct2022_empty~holo4_20220630\n",
      "u/dagoret/tests/test_23oct2022_empty~holo4_20220630/20221023T141752Z\n",
      "u/dagoret/tests/test_23oct2022_empty~holo4_20220630/20221023T141753Z\n",
      "u/dagoret/tests/test_23oct2022_empty~holo4_20220630/20221023T141759Z\n",
      "u/dagoret/tests/test_23oct2022_empty~holo4_20220630/20221023T141816Z\n",
      "u/dagoret/tests/test_23oct2022_empty~holo4_20220630/20221023T141817Z\n",
      "u/dagoret/tests/test_23oct2022_empty~holo4_20220630/20221023T141818Z\n",
      "u/dagoret/tests/test_23oct2022_empty~holo4_20220630/20221023T141826Z\n",
      "u/dagoret/tests/test_23oct2022_empty~holo4_20220630/20221023T141840Z\n",
      "u/dagoret/tests/test_23oct2022_empty~holo4_20220630/20221023T141841Z\n",
      "u/dagoret/tests/test_23oct2022_empty~holo4_20220630/20221023T141843Z\n",
      "u/dagoret/tests/test_23oct2022_empty~holo4_20220630/20221023T141859Z\n",
      "u/dagoret/tests/test_23oct2022_empty~holo4_20220630/20221023T141932Z\n",
      "u/dagoret/tests/test_23oct2022_empty~holo4_20220630/20221023T141952Z\n",
      "u/dagoret/tests/test_23oct2022_empty~holo4_20220630/20221023T142004Z\n",
      "u/dagoret/tests/test_23oct2022_empty~holo4_20220630/20221023T142037Z\n",
      "u/dagoret/tests/test_23oct2022_empty~holo4_20220630/20221023T142110Z\n",
      "u/dagoret/tests/test_23oct2022_empty~holo4_20220630/20221023T142143Z\n",
      "u/dagoret/tests/test_23oct2022_empty~holo4_20220630/20221023T142215Z\n",
      "u/dagoret/tests/test_23oct2022_empty~holo4_20220630/20221023T142248Z\n",
      "u/dagoret/tests/test_23oct2022_empty~holo4_20220630/20221023T142320Z\n",
      "u/dagoret/tests/test_23oct2022_empty~holo4_20220630/20221023T142353Z\n",
      "u/dagoret/tests/test_23oct2022_empty~holo4_20220630/20221023T142405Z\n",
      "u/dagoret/tests/test_23oct2022_empty~holo4_20220630/20221023T142425Z\n",
      "u/dagoret/tests/test_23oct2022_empty~holo4_20220630/20221023T142432Z\n",
      "u/dagoret/tests/test_23oct2022_empty~holo4_20220630/20221023T142458Z\n",
      "u/dagoret/tests/test_23oct2022_empty~holo4_20220630/20221023T142501Z\n",
      "u/dagoret/tests/test_23oct2022_empty~holo4_20220630/20221023T142503Z\n",
      "u/dagoret/tests/test_23oct2022_empty~holo4_20220630/20221023T142530Z\n",
      "u/dagoret/tests/test_23oct2022_empty~holo4_20220630/20221023T142602Z\n",
      "u/dagoret/tests/test_23oct2022_empty~holo4_20220630/20221023T142603Z\n",
      "u/dagoret/tests/test_23oct2022_empty~holo4_20220630/20221023T142625Z\n",
      "u/dagoret/tests/test_23oct2022_empty~holo4_20220630/20221023T142635Z\n",
      "u/dagoret/tests/test_23oct2022_empty~holo4_20220630/20221023T142637Z\n",
      "u/dagoret/tests/test_23oct2022_empty~holo4_20220630/20221023T142707Z\n",
      "u/dagoret/tests/test_23oct2022_empty~holo4_20220630/20221023T142740Z\n",
      "u/dagoret/tests/test_23oct2022_empty~holo4_20220630/20221023T142812Z\n",
      "u/dagoret/tests/test_23oct2022_empty~holo4_20220630/20221023T142845Z\n",
      "u/dagoret/tests/test_23oct2022_empty~holo4_20220630/20221023T142917Z\n",
      "u/dagoret/tests/test_23oct2022_empty~holo4_20220630/20221023T142921Z\n",
      "u/dagoret/tests/test_23oct2022_empty~holo4_20220630/20221023T142935Z\n",
      "u/dagoret/tests/test_23oct2022_empty~holo4_20220630/20221023T142950Z\n",
      "u/dagoret/tests/test_23oct2022_empty~holo4_20220630/20221023T143022Z\n",
      "u/dagoret/tests/test_23oct2022_empty~holo4_20220630/20221023T143030Z\n",
      "u/dagoret/tests/test_23oct2022_empty~holo4_20220630/20221023T143038Z\n",
      "u/dagoret/tests/test_23oct2022_empty~holo4_20220630/20221023T143053Z\n",
      "u/dagoret/tests/test_23oct2022_empty~holo4_20220630/20221023T143055Z\n",
      "u/dagoret/tests/test_23oct2022_empty~holo4_20220630/20221023T143104Z\n",
      "u/dagoret/tests/test_23oct2022_empty~holo4_20220630/20221023T143127Z\n",
      "u/dagoret/tests/test_23oct2022_empty~holo4_20220630/20221023T143144Z\n",
      "u/dagoret/tests/test_23oct2022_empty~holo4_20220630/20221023T143200Z\n",
      "u/dagoret/tests/test_23oct2022_empty~holo4_20220630/20221023T143225Z\n",
      "u/dagoret/tests/test_23oct2022_empty~holo4_20220630/20221023T143233Z\n",
      "u/dagoret/tests/test_23oct2022_empty~holo4_20220630/20221023T143234Z\n",
      "u/dagoret/tests/test_23oct2022_empty~holo4_20220630/20221023T143237Z\n",
      "u/dagoret/tests/test_23oct2022_empty~holo4_20220630/20221023T143305Z\n",
      "u/dagoret/tests/test_23oct2022_empty~holo4_20220630/20221023T143324Z\n"
     ]
    }
   ],
   "source": [
    "for c in sorted(registry.queryCollections()):\n",
    "    if \"u/dagoret/tests/test_23oct2022_empty~holo4_20220630\" in c:\n",
    "        print(c)"
   ]
  },
  {
   "cell_type": "code",
   "execution_count": 8,
   "id": "9aa3a729-bc21-441d-b77a-511e8bc02097",
   "metadata": {
    "execution": {
     "iopub.execute_input": "2023-04-20T16:50:22.401116Z",
     "iopub.status.busy": "2023-04-20T16:50:22.400967Z",
     "iopub.status.idle": "2023-04-20T16:50:22.414724Z",
     "shell.execute_reply": "2023-04-20T16:50:22.414278Z",
     "shell.execute_reply.started": "2023-04-20T16:50:22.401102Z"
    }
   },
   "outputs": [
    {
     "name": "stdout",
     "output_type": "stream",
     "text": [
      "u/dagoret/tests/test_25oct2022_empty~holo4_20220629\n",
      "u/dagoret/tests/test_25oct2022_empty~holo4_20220629/20221025T091027Z\n",
      "u/dagoret/tests/test_25oct2022_empty~holo4_20220629/20221025T091052Z\n",
      "u/dagoret/tests/test_25oct2022_empty~holo4_20220629/20221025T091122Z\n",
      "u/dagoret/tests/test_25oct2022_empty~holo4_20220629/20221025T091152Z\n",
      "u/dagoret/tests/test_25oct2022_empty~holo4_20220629/20221025T091153Z\n",
      "u/dagoret/tests/test_25oct2022_empty~holo4_20220629/20221025T091213Z\n",
      "u/dagoret/tests/test_25oct2022_empty~holo4_20220629/20221025T091223Z\n",
      "u/dagoret/tests/test_25oct2022_empty~holo4_20220629/20221025T091254Z\n",
      "u/dagoret/tests/test_25oct2022_empty~holo4_20220629/20221025T091324Z\n",
      "u/dagoret/tests/test_25oct2022_empty~holo4_20220629/20221025T091355Z\n",
      "u/dagoret/tests/test_25oct2022_empty~holo4_20220629/20221025T091413Z\n",
      "u/dagoret/tests/test_25oct2022_empty~holo4_20220629/20221025T091420Z\n",
      "u/dagoret/tests/test_25oct2022_empty~holo4_20220629/20221025T091426Z\n",
      "u/dagoret/tests/test_25oct2022_empty~holo4_20220629/20221025T091457Z\n",
      "u/dagoret/tests/test_25oct2022_empty~holo4_20220629/20221025T091522Z\n",
      "u/dagoret/tests/test_25oct2022_empty~holo4_20220629/20221025T091527Z\n",
      "u/dagoret/tests/test_25oct2022_empty~holo4_20220629/20221025T091547Z\n",
      "u/dagoret/tests/test_25oct2022_empty~holo4_20220629/20221025T091552Z\n",
      "u/dagoret/tests/test_25oct2022_empty~holo4_20220629/20221025T091558Z\n",
      "u/dagoret/tests/test_25oct2022_empty~holo4_20220629/20221025T091621Z\n",
      "u/dagoret/tests/test_25oct2022_empty~holo4_20220629/20221025T091629Z\n",
      "u/dagoret/tests/test_25oct2022_empty~holo4_20220629/20221025T091659Z\n",
      "u/dagoret/tests/test_25oct2022_empty~holo4_20220629/20221025T091730Z\n",
      "u/dagoret/tests/test_25oct2022_empty~holo4_20220629/20221025T091749Z\n",
      "u/dagoret/tests/test_25oct2022_empty~holo4_20220629/20221025T091800Z\n",
      "u/dagoret/tests/test_25oct2022_empty~holo4_20220629/20221025T091831Z\n",
      "u/dagoret/tests/test_25oct2022_empty~holo4_20220629/20221025T091902Z\n",
      "u/dagoret/tests/test_25oct2022_empty~holo4_20220629/20221025T091907Z\n",
      "u/dagoret/tests/test_25oct2022_empty~holo4_20220629/20221025T091933Z\n",
      "u/dagoret/tests/test_25oct2022_empty~holo4_20220629/20221025T091949Z\n",
      "u/dagoret/tests/test_25oct2022_empty~holo4_20220629/20221025T091953Z\n",
      "u/dagoret/tests/test_25oct2022_empty~holo4_20220629/20221025T092003Z\n",
      "u/dagoret/tests/test_25oct2022_empty~holo4_20220629/20221025T092009Z\n",
      "u/dagoret/tests/test_25oct2022_empty~holo4_20220629/20221025T092029Z\n",
      "u/dagoret/tests/test_25oct2022_empty~holo4_20220629/20221025T092034Z\n",
      "u/dagoret/tests/test_25oct2022_empty~holo4_20220629/20221025T092045Z\n",
      "u/dagoret/tests/test_25oct2022_empty~holo4_20220629/20221025T092105Z\n",
      "u/dagoret/tests/test_25oct2022_empty~holo4_20220629/20221025T092136Z\n",
      "u/dagoret/tests/test_25oct2022_empty~holo4_20220629/20221025T092139Z\n",
      "u/dagoret/tests/test_25oct2022_empty~holo4_20220629/20221025T092207Z\n",
      "u/dagoret/tests/test_25oct2022_empty~holo4_20220629/20221025T092238Z\n",
      "u/dagoret/tests/test_25oct2022_empty~holo4_20220629/20221025T092257Z\n",
      "u/dagoret/tests/test_25oct2022_empty~holo4_20220629/20221025T092308Z\n",
      "u/dagoret/tests/test_25oct2022_empty~holo4_20220629/20221025T092339Z\n",
      "u/dagoret/tests/test_25oct2022_empty~holo4_20220629/20221025T092359Z\n",
      "u/dagoret/tests/test_25oct2022_empty~holo4_20220629/20221025T092409Z\n",
      "u/dagoret/tests/test_25oct2022_empty~holo4_20220629/20221025T092433Z\n",
      "u/dagoret/tests/test_25oct2022_empty~holo4_20220629/20221025T092440Z\n",
      "u/dagoret/tests/test_25oct2022_empty~holo4_20220629/20221025T092443Z\n",
      "u/dagoret/tests/test_25oct2022_empty~holo4_20220629/20221025T092456Z\n",
      "u/dagoret/tests/test_25oct2022_empty~holo4_20220629/20221025T092506Z\n",
      "u/dagoret/tests/test_25oct2022_empty~holo4_20220629/20221025T092510Z\n",
      "u/dagoret/tests/test_25oct2022_empty~holo4_20220629/20221025T092540Z\n",
      "u/dagoret/tests/test_25oct2022_empty~holo4_20220629/20221025T092558Z\n",
      "u/dagoret/tests/test_25oct2022_empty~holo4_20220629/20221025T092609Z\n",
      "u/dagoret/tests/test_25oct2022_empty~holo4_20220629/20221025T092612Z\n",
      "u/dagoret/tests/test_25oct2022_empty~holo4_20220629/20221025T092642Z\n",
      "u/dagoret/tests/test_25oct2022_empty~holo4_20220629/20221025T092712Z\n",
      "u/dagoret/tests/test_25oct2022_empty~holo4_20220629/20221025T092743Z\n",
      "u/dagoret/tests/test_25oct2022_empty~holo4_20220629/20221025T092807Z\n",
      "u/dagoret/tests/test_25oct2022_empty~holo4_20220629/20221025T092813Z\n",
      "u/dagoret/tests/test_25oct2022_empty~holo4_20220629/20221025T092844Z\n"
     ]
    }
   ],
   "source": [
    "for c in sorted(registry.queryCollections()):\n",
    "    if \"u/dagoret/tests/test_25oct2022_empty~holo4_20220629\" in c:\n",
    "        print(c)"
   ]
  },
  {
   "cell_type": "code",
   "execution_count": 9,
   "id": "c51a550b-68f9-4396-a975-6d88a653aa85",
   "metadata": {
    "execution": {
     "iopub.execute_input": "2023-04-20T16:50:22.415581Z",
     "iopub.status.busy": "2023-04-20T16:50:22.415373Z",
     "iopub.status.idle": "2023-04-20T16:50:22.448400Z",
     "shell.execute_reply": "2023-04-20T16:50:22.447904Z",
     "shell.execute_reply.started": "2023-04-20T16:50:22.415567Z"
    }
   },
   "outputs": [],
   "source": [
    "refs_ds=list(butler.registry.queryDatasets(datasetType='spectraction',collections=\"u/dagoret/tests/test_20oct2022\"))"
   ]
  },
  {
   "cell_type": "code",
   "execution_count": 10,
   "id": "5663e0c9-79b6-41e8-b0bc-dc336b629248",
   "metadata": {
    "execution": {
     "iopub.execute_input": "2023-04-20T16:50:22.449093Z",
     "iopub.status.busy": "2023-04-20T16:50:22.448947Z",
     "iopub.status.idle": "2023-04-20T16:50:22.454980Z",
     "shell.execute_reply": "2023-04-20T16:50:22.454548Z",
     "shell.execute_reply.started": "2023-04-20T16:50:22.449079Z"
    }
   },
   "outputs": [
    {
     "data": {
      "text/plain": [
       "[DatasetRef(DatasetType('spectraction', {band, instrument, detector, physical_filter, visit}, Spectraction), {instrument: 'LATISS', detector: 0, visit: 2022063000045, ...}, id=59bc8450-c7ba-4d2a-af6d-2a56cbd050de, run='u/dagoret/tests/test_20oct2022/20221020T133139Z'),\n",
       " DatasetRef(DatasetType('spectraction', {band, instrument, detector, physical_filter, visit}, Spectraction), {instrument: 'LATISS', detector: 0, visit: 2022063000046, ...}, id=6e459117-427b-4729-b4ba-c8a09bb8f5c0, run='u/dagoret/tests/test_20oct2022/20221020T140016Z'),\n",
       " DatasetRef(DatasetType('spectraction', {band, instrument, detector, physical_filter, visit}, Spectraction), {instrument: 'LATISS', detector: 0, visit: 2022063000060, ...}, id=1e158238-7d66-40c2-a780-63b77e12257c, run='u/dagoret/tests/test_20oct2022/20221020T143125Z'),\n",
       " DatasetRef(DatasetType('spectraction', {band, instrument, detector, physical_filter, visit}, Spectraction), {instrument: 'LATISS', detector: 0, visit: 2022063000061, ...}, id=e40961d8-6e63-49da-b3a7-7e812896dee7, run='u/dagoret/tests/test_20oct2022/20221020T150409Z'),\n",
       " DatasetRef(DatasetType('spectraction', {band, instrument, detector, physical_filter, visit}, Spectraction), {instrument: 'LATISS', detector: 0, visit: 2022063000076, ...}, id=ed372246-6a4a-4b1e-9f04-99275710e25c, run='u/dagoret/tests/test_20oct2022/20221020T154456Z'),\n",
       " DatasetRef(DatasetType('spectraction', {band, instrument, detector, physical_filter, visit}, Spectraction), {instrument: 'LATISS', detector: 0, visit: 2022063000077, ...}, id=5f14e8ca-b9b8-4250-bc64-e3fe79c56423, run='u/dagoret/tests/test_20oct2022/20221020T161227Z'),\n",
       " DatasetRef(DatasetType('spectraction', {band, instrument, detector, physical_filter, visit}, Spectraction), {instrument: 'LATISS', detector: 0, visit: 2022063000091, ...}, id=03e5a029-5a5a-4f47-a8bd-c34b09265c22, run='u/dagoret/tests/test_20oct2022/20221020T164030Z'),\n",
       " DatasetRef(DatasetType('spectraction', {band, instrument, detector, physical_filter, visit}, Spectraction), {instrument: 'LATISS', detector: 0, visit: 2022063000092, ...}, id=db0c2824-2b36-4005-9a8d-7f090241964a, run='u/dagoret/tests/test_20oct2022/20221020T172659Z'),\n",
       " DatasetRef(DatasetType('spectraction', {band, instrument, detector, physical_filter, visit}, Spectraction), {instrument: 'LATISS', detector: 0, visit: 2022063000106, ...}, id=7adf2816-69a4-4530-8d3c-66bf4c0c7f07, run='u/dagoret/tests/test_20oct2022/20221020T174950Z'),\n",
       " DatasetRef(DatasetType('spectraction', {band, instrument, detector, physical_filter, visit}, Spectraction), {instrument: 'LATISS', detector: 0, visit: 2022063000107, ...}, id=06b2aa43-5040-4c5a-8637-dcba579fc245, run='u/dagoret/tests/test_20oct2022/20221020T181516Z'),\n",
       " DatasetRef(DatasetType('spectraction', {band, instrument, detector, physical_filter, visit}, Spectraction), {instrument: 'LATISS', detector: 0, visit: 2022063000121, ...}, id=828fedeb-fbf3-4b2a-b2b7-1354a9036e5e, run='u/dagoret/tests/test_20oct2022/20221020T183735Z'),\n",
       " DatasetRef(DatasetType('spectraction', {band, instrument, detector, physical_filter, visit}, Spectraction), {instrument: 'LATISS', detector: 0, visit: 2022063000122, ...}, id=2bfde88f-72a5-4527-87e3-c851caa5154c, run='u/dagoret/tests/test_20oct2022/20221020T190300Z'),\n",
       " DatasetRef(DatasetType('spectraction', {band, instrument, detector, physical_filter, visit}, Spectraction), {instrument: 'LATISS', detector: 0, visit: 2022063000136, ...}, id=4c32b37a-d931-4dc2-a3d9-35902f1d1754, run='u/dagoret/tests/test_20oct2022/20221020T192822Z'),\n",
       " DatasetRef(DatasetType('spectraction', {band, instrument, detector, physical_filter, visit}, Spectraction), {instrument: 'LATISS', detector: 0, visit: 2022063000137, ...}, id=59082caa-8031-48f2-9dac-b83ba7567854, run='u/dagoret/tests/test_20oct2022/20221020T195347Z'),\n",
       " DatasetRef(DatasetType('spectraction', {band, instrument, detector, physical_filter, visit}, Spectraction), {instrument: 'LATISS', detector: 0, visit: 2022063000157, ...}, id=14c5a978-9caa-4a00-b702-c87eafb52dd0, run='u/dagoret/tests/test_20oct2022/20221020T201934Z'),\n",
       " DatasetRef(DatasetType('spectraction', {band, instrument, detector, physical_filter, visit}, Spectraction), {instrument: 'LATISS', detector: 0, visit: 2022063000158, ...}, id=6089e7f5-a2cc-4e65-9c3b-283a8f9d6171, run='u/dagoret/tests/test_20oct2022/20221020T205445Z'),\n",
       " DatasetRef(DatasetType('spectraction', {band, instrument, detector, physical_filter, visit}, Spectraction), {instrument: 'LATISS', detector: 0, visit: 2022063000177, ...}, id=c16f1963-465e-4d9d-bb4d-4fba92255771, run='u/dagoret/tests/test_20oct2022/20221020T212411Z'),\n",
       " DatasetRef(DatasetType('spectraction', {band, instrument, detector, physical_filter, visit}, Spectraction), {instrument: 'LATISS', detector: 0, visit: 2022063000178, ...}, id=985351fb-4587-4c8a-8b86-76b1ba3730a4, run='u/dagoret/tests/test_20oct2022/20221020T215022Z'),\n",
       " DatasetRef(DatasetType('spectraction', {band, instrument, detector, physical_filter, visit}, Spectraction), {instrument: 'LATISS', detector: 0, visit: 2022063000216, ...}, id=4e497a85-054f-4489-8913-4e62b2886b7e, run='u/dagoret/tests/test_20oct2022/20221020T221714Z'),\n",
       " DatasetRef(DatasetType('spectraction', {band, instrument, detector, physical_filter, visit}, Spectraction), {instrument: 'LATISS', detector: 0, visit: 2022063000217, ...}, id=21a06c93-1309-43d1-84d6-9e57b4a9a25b, run='u/dagoret/tests/test_20oct2022/20221020T224311Z'),\n",
       " DatasetRef(DatasetType('spectraction', {band, instrument, detector, physical_filter, visit}, Spectraction), {instrument: 'LATISS', detector: 0, visit: 2022063000231, ...}, id=250ba87c-ca86-4a5c-9ff1-928469e15411, run='u/dagoret/tests/test_20oct2022/20221020T230834Z'),\n",
       " DatasetRef(DatasetType('spectraction', {band, instrument, detector, physical_filter, visit}, Spectraction), {instrument: 'LATISS', detector: 0, visit: 2022063000232, ...}, id=6afd06cd-1beb-4a72-949e-b8540d80e984, run='u/dagoret/tests/test_20oct2022/20221020T233544Z'),\n",
       " DatasetRef(DatasetType('spectraction', {band, instrument, detector, physical_filter, visit}, Spectraction), {instrument: 'LATISS', detector: 0, visit: 2022063000246, ...}, id=9c38322c-9966-430a-8577-5ec64cd00b36, run='u/dagoret/tests/test_20oct2022/20221021T000023Z'),\n",
       " DatasetRef(DatasetType('spectraction', {band, instrument, detector, physical_filter, visit}, Spectraction), {instrument: 'LATISS', detector: 0, visit: 2022063000247, ...}, id=30cc539f-8859-463e-aa09-536cf19f651c, run='u/dagoret/tests/test_20oct2022/20221021T002734Z'),\n",
       " DatasetRef(DatasetType('spectraction', {band, instrument, detector, physical_filter, visit}, Spectraction), {instrument: 'LATISS', detector: 0, visit: 2022063000261, ...}, id=fb0d3e80-8a49-470c-a094-2a648188b33f, run='u/dagoret/tests/test_20oct2022/20221021T005342Z'),\n",
       " DatasetRef(DatasetType('spectraction', {band, instrument, detector, physical_filter, visit}, Spectraction), {instrument: 'LATISS', detector: 0, visit: 2022063000262, ...}, id=b6cdd39a-b087-4b3c-a38c-b9f74c4e8691, run='u/dagoret/tests/test_20oct2022/20221021T011709Z'),\n",
       " DatasetRef(DatasetType('spectraction', {band, instrument, detector, physical_filter, visit}, Spectraction), {instrument: 'LATISS', detector: 0, visit: 2022063000276, ...}, id=ce94f821-0d67-42e9-b304-fa9f4a3c081a, run='u/dagoret/tests/test_20oct2022/20221021T014031Z'),\n",
       " DatasetRef(DatasetType('spectraction', {band, instrument, detector, physical_filter, visit}, Spectraction), {instrument: 'LATISS', detector: 0, visit: 2022063000276, ...}, id=89302520-f1a3-41b1-82c6-0a561e46d0eb, run='u/dagoret/tests/test_20oct2022/20221021T084001Z'),\n",
       " DatasetRef(DatasetType('spectraction', {band, instrument, detector, physical_filter, visit}, Spectraction), {instrument: 'LATISS', detector: 0, visit: 2022063000277, ...}, id=e09a359d-f96b-49b1-899e-b72caabe35c2, run='u/dagoret/tests/test_20oct2022/20221021T091152Z'),\n",
       " DatasetRef(DatasetType('spectraction', {band, instrument, detector, physical_filter, visit}, Spectraction), {instrument: 'LATISS', detector: 0, visit: 2022063000291, ...}, id=3bd6d3f0-4e7f-4c7a-b76c-e47dd4876c92, run='u/dagoret/tests/test_20oct2022/20221021T093438Z'),\n",
       " DatasetRef(DatasetType('spectraction', {band, instrument, detector, physical_filter, visit}, Spectraction), {instrument: 'LATISS', detector: 0, visit: 2022063000292, ...}, id=1183ea94-b0f8-4cce-97af-97ed52514283, run='u/dagoret/tests/test_20oct2022/20221021T095629Z'),\n",
       " DatasetRef(DatasetType('spectraction', {band, instrument, detector, physical_filter, visit}, Spectraction), {instrument: 'LATISS', detector: 0, visit: 2022063000306, ...}, id=f2a89d37-1628-4727-ab6e-a9ff20fcdc1d, run='u/dagoret/tests/test_20oct2022/20221021T101859Z'),\n",
       " DatasetRef(DatasetType('spectraction', {band, instrument, detector, physical_filter, visit}, Spectraction), {instrument: 'LATISS', detector: 0, visit: 2022063000317, ...}, id=f8873db6-13b0-4695-b27d-de216632579a, run='u/dagoret/tests/test_20oct2022/20221021T104057Z'),\n",
       " DatasetRef(DatasetType('spectraction', {band, instrument, detector, physical_filter, visit}, Spectraction), {instrument: 'LATISS', detector: 0, visit: 2022063000318, ...}, id=588279e2-e576-4d97-913c-a038df3262e4, run='u/dagoret/tests/test_20oct2022/20221021T110614Z'),\n",
       " DatasetRef(DatasetType('spectraction', {band, instrument, detector, physical_filter, visit}, Spectraction), {instrument: 'LATISS', detector: 0, visit: 2022063000337, ...}, id=46e158ac-50d2-4f65-885c-cb8a916b76bc, run='u/dagoret/tests/test_20oct2022/20221021T112742Z'),\n",
       " DatasetRef(DatasetType('spectraction', {band, instrument, detector, physical_filter, visit}, Spectraction), {instrument: 'LATISS', detector: 0, visit: 2022063000338, ...}, id=243d9806-e6b8-4adb-b284-d2d9f36940d5, run='u/dagoret/tests/test_20oct2022/20221021T115126Z'),\n",
       " DatasetRef(DatasetType('spectraction', {band, instrument, detector, physical_filter, visit}, Spectraction), {instrument: 'LATISS', detector: 0, visit: 2022063000352, ...}, id=663901a6-3c60-4829-8549-08992823257a, run='u/dagoret/tests/test_20oct2022/20221021T121915Z'),\n",
       " DatasetRef(DatasetType('spectraction', {band, instrument, detector, physical_filter, visit}, Spectraction), {instrument: 'LATISS', detector: 0, visit: 2022063000353, ...}, id=2581a0f2-8af5-4988-9001-fde5e7763bf1, run='u/dagoret/tests/test_20oct2022/20221021T124128Z'),\n",
       " DatasetRef(DatasetType('spectraction', {band, instrument, detector, physical_filter, visit}, Spectraction), {instrument: 'LATISS', detector: 0, visit: 2022063000367, ...}, id=4bf614c3-ccdb-4e43-8d3c-d773934dcd92, run='u/dagoret/tests/test_20oct2022/20221021T130409Z'),\n",
       " DatasetRef(DatasetType('spectraction', {band, instrument, detector, physical_filter, visit}, Spectraction), {instrument: 'LATISS', detector: 0, visit: 2022063000368, ...}, id=e51faf20-2bf5-4226-889b-63415cd33127, run='u/dagoret/tests/test_20oct2022/20221021T132959Z'),\n",
       " DatasetRef(DatasetType('spectraction', {band, instrument, detector, physical_filter, visit}, Spectraction), {instrument: 'LATISS', detector: 0, visit: 2022063000390, ...}, id=ddf7150b-f3e2-45fa-8253-2dd5bce1516d, run='u/dagoret/tests/test_20oct2022/20221021T135545Z'),\n",
       " DatasetRef(DatasetType('spectraction', {band, instrument, detector, physical_filter, visit}, Spectraction), {instrument: 'LATISS', detector: 0, visit: 2022063000391, ...}, id=f6e0e34a-59bc-42a5-9bb9-7a8bc14ee7ed, run='u/dagoret/tests/test_20oct2022/20221021T141819Z'),\n",
       " DatasetRef(DatasetType('spectraction', {band, instrument, detector, physical_filter, visit}, Spectraction), {instrument: 'LATISS', detector: 0, visit: 2022063000405, ...}, id=edb7b962-2f5b-43eb-a4cf-a18a15fdff02, run='u/dagoret/tests/test_20oct2022/20221021T144300Z'),\n",
       " DatasetRef(DatasetType('spectraction', {band, instrument, detector, physical_filter, visit}, Spectraction), {instrument: 'LATISS', detector: 0, visit: 2022063000406, ...}, id=2701afa9-8874-4dc6-8c59-c03ee46b0a63, run='u/dagoret/tests/test_20oct2022/20221021T150701Z'),\n",
       " DatasetRef(DatasetType('spectraction', {band, instrument, detector, physical_filter, visit}, Spectraction), {instrument: 'LATISS', detector: 0, visit: 2022063000420, ...}, id=7a2998de-e688-4dd7-8bdd-a79f45ffc8f4, run='u/dagoret/tests/test_20oct2022/20221021T153022Z'),\n",
       " DatasetRef(DatasetType('spectraction', {band, instrument, detector, physical_filter, visit}, Spectraction), {instrument: 'LATISS', detector: 0, visit: 2022063000421, ...}, id=99eaaa2e-d20f-4a21-a7fc-3af469fb511c, run='u/dagoret/tests/test_20oct2022/20221021T155518Z'),\n",
       " DatasetRef(DatasetType('spectraction', {band, instrument, detector, physical_filter, visit}, Spectraction), {instrument: 'LATISS', detector: 0, visit: 2022063000436, ...}, id=6eaf5042-94d5-4b4d-b773-bd9d7b0401f1, run='u/dagoret/tests/test_20oct2022/20221021T183546Z'),\n",
       " DatasetRef(DatasetType('spectraction', {band, instrument, detector, physical_filter, visit}, Spectraction), {instrument: 'LATISS', detector: 0, visit: 2022063000450, ...}, id=8f56a1a5-eb7a-4b2d-af0c-ce12c89c38b5, run='u/dagoret/tests/test_20oct2022/20221021T190436Z'),\n",
       " DatasetRef(DatasetType('spectraction', {band, instrument, detector, physical_filter, visit}, Spectraction), {instrument: 'LATISS', detector: 0, visit: 2022063000451, ...}, id=99be2784-e443-4f74-aafb-2f3685c2f841, run='u/dagoret/tests/test_20oct2022/20221021T193224Z'),\n",
       " DatasetRef(DatasetType('spectraction', {band, instrument, detector, physical_filter, visit}, Spectraction), {instrument: 'LATISS', detector: 0, visit: 2022063000476, ...}, id=c064eeac-237f-45d2-bde8-1de377f2d175, run='u/dagoret/tests/test_20oct2022/20221021T195856Z'),\n",
       " DatasetRef(DatasetType('spectraction', {band, instrument, detector, physical_filter, visit}, Spectraction), {instrument: 'LATISS', detector: 0, visit: 2022063000477, ...}, id=f38c7345-124e-484c-9d82-853c4af68568, run='u/dagoret/tests/test_20oct2022/20221021T202314Z'),\n",
       " DatasetRef(DatasetType('spectraction', {band, instrument, detector, physical_filter, visit}, Spectraction), {instrument: 'LATISS', detector: 0, visit: 2022063000491, ...}, id=569e1a87-4bb3-47a0-866b-274a47c5bff0, run='u/dagoret/tests/test_20oct2022/20221021T204713Z'),\n",
       " DatasetRef(DatasetType('spectraction', {band, instrument, detector, physical_filter, visit}, Spectraction), {instrument: 'LATISS', detector: 0, visit: 2022063000492, ...}, id=2004584a-b118-4a44-9a92-5294062e49bb, run='u/dagoret/tests/test_20oct2022/20221021T211342Z'),\n",
       " DatasetRef(DatasetType('spectraction', {band, instrument, detector, physical_filter, visit}, Spectraction), {instrument: 'LATISS', detector: 0, visit: 2022063000521, ...}, id=6bff720e-5f3b-404a-b798-3733356d66e7, run='u/dagoret/tests/test_20oct2022/20221021T214505Z'),\n",
       " DatasetRef(DatasetType('spectraction', {band, instrument, detector, physical_filter, visit}, Spectraction), {instrument: 'LATISS', detector: 0, visit: 2022063000522, ...}, id=dd857ab1-941b-4637-85f3-b83b727acc08, run='u/dagoret/tests/test_20oct2022/20221022T002916Z'),\n",
       " DatasetRef(DatasetType('spectraction', {band, instrument, detector, physical_filter, visit}, Spectraction), {instrument: 'LATISS', detector: 0, visit: 2022063000536, ...}, id=64ad8521-4ebe-477d-b97d-5088f637998e, run='u/dagoret/tests/test_20oct2022/20221022T005415Z'),\n",
       " DatasetRef(DatasetType('spectraction', {band, instrument, detector, physical_filter, visit}, Spectraction), {instrument: 'LATISS', detector: 0, visit: 2022063000537, ...}, id=fa557ab9-470e-4954-9a83-d5ecabdca243, run='u/dagoret/tests/test_20oct2022/20221022T011958Z'),\n",
       " DatasetRef(DatasetType('spectraction', {band, instrument, detector, physical_filter, visit}, Spectraction), {instrument: 'LATISS', detector: 0, visit: 2022063000589, ...}, id=3ceb9b2d-823e-4579-a5e0-a9df6ad09f09, run='u/dagoret/tests/test_20oct2022/20221022T023742Z'),\n",
       " DatasetRef(DatasetType('spectraction', {band, instrument, detector, physical_filter, visit}, Spectraction), {instrument: 'LATISS', detector: 0, visit: 2022063000590, ...}, id=8fb535b7-a422-4dac-8307-c4ffa4895bb1, run='u/dagoret/tests/test_20oct2022/20221022T030307Z')]"
      ]
     },
     "execution_count": 10,
     "metadata": {},
     "output_type": "execute_result"
    }
   ],
   "source": [
    "refs_ds"
   ]
  },
  {
   "cell_type": "code",
   "execution_count": 11,
   "id": "eaf2d6e4-6d4e-4884-937b-ce72331c87e4",
   "metadata": {
    "execution": {
     "iopub.execute_input": "2023-04-20T16:50:22.455679Z",
     "iopub.status.busy": "2023-04-20T16:50:22.455533Z",
     "iopub.status.idle": "2023-04-20T16:50:22.463255Z",
     "shell.execute_reply": "2023-04-20T16:50:22.462813Z",
     "shell.execute_reply.started": "2023-04-20T16:50:22.455666Z"
    }
   },
   "outputs": [],
   "source": [
    "refs_ds=list(butler.registry.queryDatasets(datasetType='spectraction',collections=\"u/dagoret/tests/test_23oct2022/empty~holo4/20220630\"))"
   ]
  },
  {
   "cell_type": "code",
   "execution_count": 12,
   "id": "839952e6-22f9-463d-9bcb-5fdff3091e5a",
   "metadata": {
    "execution": {
     "iopub.execute_input": "2023-04-20T16:50:22.464014Z",
     "iopub.status.busy": "2023-04-20T16:50:22.463866Z",
     "iopub.status.idle": "2023-04-20T16:50:22.466825Z",
     "shell.execute_reply": "2023-04-20T16:50:22.466423Z",
     "shell.execute_reply.started": "2023-04-20T16:50:22.464001Z"
    }
   },
   "outputs": [
    {
     "data": {
      "text/plain": [
       "[DatasetRef(DatasetType('spectraction', {band, instrument, detector, physical_filter, visit}, Spectraction), {instrument: 'LATISS', detector: 0, visit: 2022063000391, ...}, id=2c5072de-6b13-4afd-85c0-352469fdf349, run='u/dagoret/tests/test_23oct2022/empty~holo4/20220630/20221023T140948Z')]"
      ]
     },
     "execution_count": 12,
     "metadata": {},
     "output_type": "execute_result"
    }
   ],
   "source": [
    "refs_ds"
   ]
  },
  {
   "cell_type": "code",
   "execution_count": 13,
   "id": "0a145cfc-182e-4af0-9f99-c72da24e88f9",
   "metadata": {
    "execution": {
     "iopub.execute_input": "2023-04-20T16:50:22.467605Z",
     "iopub.status.busy": "2023-04-20T16:50:22.467398Z",
     "iopub.status.idle": "2023-04-20T16:50:22.473778Z",
     "shell.execute_reply": "2023-04-20T16:50:22.473354Z",
     "shell.execute_reply.started": "2023-04-20T16:50:22.467592Z"
    }
   },
   "outputs": [],
   "source": [
    "refs_ds=list(butler.registry.queryDatasets(datasetType='spectraction',collections=\"u/dagoret/tests/test_23oct2022_empty~holo4_20220630\"))"
   ]
  },
  {
   "cell_type": "code",
   "execution_count": 14,
   "id": "c23b0019-7b81-4546-ba5f-8203316a2222",
   "metadata": {
    "execution": {
     "iopub.execute_input": "2023-04-20T16:50:22.474576Z",
     "iopub.status.busy": "2023-04-20T16:50:22.474340Z",
     "iopub.status.idle": "2023-04-20T16:50:22.477180Z",
     "shell.execute_reply": "2023-04-20T16:50:22.476767Z",
     "shell.execute_reply.started": "2023-04-20T16:50:22.474562Z"
    }
   },
   "outputs": [
    {
     "data": {
      "text/plain": [
       "[DatasetRef(DatasetType('spectraction', {band, instrument, detector, physical_filter, visit}, Spectraction), {instrument: 'LATISS', detector: 0, visit: 2022063000590, ...}, id=946e7dde-a60e-4369-ace5-13d0db24ef8f, run='u/dagoret/tests/test_23oct2022_empty~holo4_20220630/20221023T143324Z')]"
      ]
     },
     "execution_count": 14,
     "metadata": {},
     "output_type": "execute_result"
    }
   ],
   "source": [
    "refs_ds"
   ]
  },
  {
   "cell_type": "code",
   "execution_count": 15,
   "id": "0182173c-b4a1-4f18-b1fe-6907442d6b6c",
   "metadata": {
    "execution": {
     "iopub.execute_input": "2023-04-20T16:50:22.477946Z",
     "iopub.status.busy": "2023-04-20T16:50:22.477757Z",
     "iopub.status.idle": "2023-04-20T16:50:22.483924Z",
     "shell.execute_reply": "2023-04-20T16:50:22.483482Z",
     "shell.execute_reply.started": "2023-04-20T16:50:22.477933Z"
    }
   },
   "outputs": [],
   "source": [
    "#u/dagoret/tests/test_25oct2022_empty~holo4_20220629\n",
    "refs_ds=list(butler.registry.queryDatasets(datasetType='spectraction',collections=\"u/dagoret/tests/test_25oct2022_empty~holo4_20220629\"))"
   ]
  },
  {
   "cell_type": "code",
   "execution_count": 16,
   "id": "3bfa7932-0572-4290-8bb1-4c6c27c4b8f9",
   "metadata": {
    "execution": {
     "iopub.execute_input": "2023-04-20T16:50:22.484662Z",
     "iopub.status.busy": "2023-04-20T16:50:22.484524Z",
     "iopub.status.idle": "2023-04-20T16:50:22.487352Z",
     "shell.execute_reply": "2023-04-20T16:50:22.486944Z",
     "shell.execute_reply.started": "2023-04-20T16:50:22.484649Z"
    }
   },
   "outputs": [
    {
     "data": {
      "text/plain": [
       "[DatasetRef(DatasetType('spectraction', {band, instrument, detector, physical_filter, visit}, Spectraction), {instrument: 'LATISS', detector: 0, visit: 2022062900524, ...}, id=00729257-7c90-4b0b-9d62-184826e75f0c, run='u/dagoret/tests/test_25oct2022_empty~holo4_20220629/20221025T092807Z')]"
      ]
     },
     "execution_count": 16,
     "metadata": {},
     "output_type": "execute_result"
    }
   ],
   "source": [
    "refs_ds"
   ]
  },
  {
   "cell_type": "code",
   "execution_count": 17,
   "id": "06fca2f5-fe1f-4fc2-ae79-c84cb63ac8fc",
   "metadata": {
    "execution": {
     "iopub.execute_input": "2023-04-20T16:50:22.488074Z",
     "iopub.status.busy": "2023-04-20T16:50:22.487930Z",
     "iopub.status.idle": "2023-04-20T16:50:22.497080Z",
     "shell.execute_reply": "2023-04-20T16:50:22.496646Z",
     "shell.execute_reply.started": "2023-04-20T16:50:22.488061Z"
    }
   },
   "outputs": [],
   "source": [
    "#u/dagoret/tests/test_25oct2022b_empty~holo4_20220629\n",
    "refs_ds=list(butler.registry.queryDatasets(datasetType='spectraction',collections=\"u/dagoret/tests/test_25oct2022b_empty~holo4_20220629\"))"
   ]
  },
  {
   "cell_type": "code",
   "execution_count": 18,
   "id": "f6365718-8913-4207-aead-b33a09a0ff16",
   "metadata": {
    "execution": {
     "iopub.execute_input": "2023-04-20T16:50:22.497779Z",
     "iopub.status.busy": "2023-04-20T16:50:22.497639Z",
     "iopub.status.idle": "2023-04-20T16:50:22.500546Z",
     "shell.execute_reply": "2023-04-20T16:50:22.500136Z",
     "shell.execute_reply.started": "2023-04-20T16:50:22.497765Z"
    }
   },
   "outputs": [
    {
     "data": {
      "text/plain": [
       "[DatasetRef(DatasetType('spectraction', {band, instrument, detector, physical_filter, visit}, Spectraction), {instrument: 'LATISS', detector: 0, visit: 2022062900079, ...}, id=1c64f7b4-6285-46c5-bdd9-5943c6b3648c, run='u/dagoret/tests/test_25oct2022b_empty~holo4_20220629/20221025T180108Z'),\n",
       " DatasetRef(DatasetType('spectraction', {band, instrument, detector, physical_filter, visit}, Spectraction), {instrument: 'LATISS', detector: 0, visit: 2022062900052, ...}, id=8ec55220-0d0b-41d1-aaa9-450cebd2fca7, run='u/dagoret/tests/test_25oct2022b_empty~holo4_20220629/20221025T182337Z'),\n",
       " DatasetRef(DatasetType('spectraction', {band, instrument, detector, physical_filter, visit}, Spectraction), {instrument: 'LATISS', detector: 0, visit: 2022062900079, ...}, id=68485385-bc1f-4b5b-b85b-1b716dcd1aa3, run='u/dagoret/tests/test_25oct2022b_empty~holo4_20220629/20221025T183040Z')]"
      ]
     },
     "execution_count": 18,
     "metadata": {},
     "output_type": "execute_result"
    }
   ],
   "source": [
    "refs_ds"
   ]
  },
  {
   "cell_type": "code",
   "execution_count": 19,
   "id": "86b1f7d2-4256-4800-9265-5a11659a1032",
   "metadata": {
    "execution": {
     "iopub.execute_input": "2023-04-20T16:50:22.501213Z",
     "iopub.status.busy": "2023-04-20T16:50:22.501070Z",
     "iopub.status.idle": "2023-04-20T16:50:22.504922Z",
     "shell.execute_reply": "2023-04-20T16:50:22.504481Z",
     "shell.execute_reply.started": "2023-04-20T16:50:22.501200Z"
    }
   },
   "outputs": [],
   "source": [
    "refs=butler.registry.queryDatasets(datasetType='spectraction',collections=\"u/dagoret/tests/test_25oct2022b_empty~holo4_20220629\")"
   ]
  },
  {
   "cell_type": "code",
   "execution_count": 20,
   "id": "cd304422-1274-4845-b66a-c80ba4f07057",
   "metadata": {
    "execution": {
     "iopub.execute_input": "2023-04-20T16:50:22.505742Z",
     "iopub.status.busy": "2023-04-20T16:50:22.505501Z",
     "iopub.status.idle": "2023-04-20T16:50:22.508196Z",
     "shell.execute_reply": "2023-04-20T16:50:22.507757Z",
     "shell.execute_reply.started": "2023-04-20T16:50:22.505729Z"
    }
   },
   "outputs": [],
   "source": [
    "if not refs.any(exact=False,execute=False):\n",
    "    print(list(refs.explain_no_results()))"
   ]
  },
  {
   "cell_type": "code",
   "execution_count": 21,
   "id": "8d7f8136-4421-47ec-909d-e721e4f4eb50",
   "metadata": {
    "execution": {
     "iopub.execute_input": "2023-04-20T16:50:22.510742Z",
     "iopub.status.busy": "2023-04-20T16:50:22.510595Z",
     "iopub.status.idle": "2023-04-20T16:50:22.539376Z",
     "shell.execute_reply": "2023-04-20T16:50:22.538936Z",
     "shell.execute_reply.started": "2023-04-20T16:50:22.510729Z"
    }
   },
   "outputs": [],
   "source": [
    "#u/dagoret/tests/test_25oct2022c/empty~holo4/20220630\n",
    "refs_ds=list(butler.registry.queryDatasets(datasetType='spectraction',collections=\"u/dagoret/tests/test_25oct2022c/empty~holo4/20220630\"))"
   ]
  },
  {
   "cell_type": "code",
   "execution_count": 22,
   "id": "dd2d1468-5c5b-4151-aeee-ea66ed337017",
   "metadata": {
    "execution": {
     "iopub.execute_input": "2023-04-20T16:50:22.540030Z",
     "iopub.status.busy": "2023-04-20T16:50:22.539885Z",
     "iopub.status.idle": "2023-04-20T16:50:22.543893Z",
     "shell.execute_reply": "2023-04-20T16:50:22.543491Z",
     "shell.execute_reply.started": "2023-04-20T16:50:22.540016Z"
    }
   },
   "outputs": [
    {
     "data": {
      "text/plain": [
       "[DatasetRef(DatasetType('spectraction', {band, instrument, detector, physical_filter, visit}, Spectraction), {instrument: 'LATISS', detector: 0, visit: 2022063000077, ...}, id=59000f8a-4701-4e42-b1e8-a7cef260fe21, run='u/dagoret/tests/test_25oct2022c/empty~holo4/20220630/20221025T184538Z'),\n",
       " DatasetRef(DatasetType('spectraction', {band, instrument, detector, physical_filter, visit}, Spectraction), {instrument: 'LATISS', detector: 0, visit: 2022063000091, ...}, id=d7952885-0864-482b-99aa-a6dd66aadad8, run='u/dagoret/tests/test_25oct2022c/empty~holo4/20220630/20221025T192814Z'),\n",
       " DatasetRef(DatasetType('spectraction', {band, instrument, detector, physical_filter, visit}, Spectraction), {instrument: 'LATISS', detector: 0, visit: 2022063000092, ...}, id=12c43b02-e1d3-4e27-a7ad-5deb4981fb81, run='u/dagoret/tests/test_25oct2022c/empty~holo4/20220630/20221025T200053Z'),\n",
       " DatasetRef(DatasetType('spectraction', {band, instrument, detector, physical_filter, visit}, Spectraction), {instrument: 'LATISS', detector: 0, visit: 2022063000106, ...}, id=729ea75a-c2f6-42f2-9f05-fc6bfc714333, run='u/dagoret/tests/test_25oct2022c/empty~holo4/20220630/20221025T200734Z'),\n",
       " DatasetRef(DatasetType('spectraction', {band, instrument, detector, physical_filter, visit}, Spectraction), {instrument: 'LATISS', detector: 0, visit: 2022063000107, ...}, id=4b4a9b0f-8434-430b-bcc0-555b087b0585, run='u/dagoret/tests/test_25oct2022c/empty~holo4/20220630/20221025T201605Z'),\n",
       " DatasetRef(DatasetType('spectraction', {band, instrument, detector, physical_filter, visit}, Spectraction), {instrument: 'LATISS', detector: 0, visit: 2022063000107, ...}, id=63a467ac-5b6b-4832-8053-4cbfe7100d5e, run='u/dagoret/tests/test_25oct2022c/empty~holo4/20220630/20221025T203058Z'),\n",
       " DatasetRef(DatasetType('spectraction', {band, instrument, detector, physical_filter, visit}, Spectraction), {instrument: 'LATISS', detector: 0, visit: 2022063000121, ...}, id=de6ee6d5-c7bc-4309-82eb-b66249a638ff, run='u/dagoret/tests/test_25oct2022c/empty~holo4/20220630/20221025T203826Z'),\n",
       " DatasetRef(DatasetType('spectraction', {band, instrument, detector, physical_filter, visit}, Spectraction), {instrument: 'LATISS', detector: 0, visit: 2022063000122, ...}, id=1e021e39-26ff-40a9-b5f2-7cdcdf367af8, run='u/dagoret/tests/test_25oct2022c/empty~holo4/20220630/20221025T204554Z'),\n",
       " DatasetRef(DatasetType('spectraction', {band, instrument, detector, physical_filter, visit}, Spectraction), {instrument: 'LATISS', detector: 0, visit: 2022063000136, ...}, id=16baedc3-5e92-4c2a-abf3-adf6997814f9, run='u/dagoret/tests/test_25oct2022c/empty~holo4/20220630/20221025T205306Z'),\n",
       " DatasetRef(DatasetType('spectraction', {band, instrument, detector, physical_filter, visit}, Spectraction), {instrument: 'LATISS', detector: 0, visit: 2022063000137, ...}, id=b106a5ef-5655-41a1-873c-013eba50749e, run='u/dagoret/tests/test_25oct2022c/empty~holo4/20220630/20221025T210023Z'),\n",
       " DatasetRef(DatasetType('spectraction', {band, instrument, detector, physical_filter, visit}, Spectraction), {instrument: 'LATISS', detector: 0, visit: 2022063000157, ...}, id=6e93906b-bcc5-408b-b245-ac5c52ae1799, run='u/dagoret/tests/test_25oct2022c/empty~holo4/20220630/20221025T210715Z'),\n",
       " DatasetRef(DatasetType('spectraction', {band, instrument, detector, physical_filter, visit}, Spectraction), {instrument: 'LATISS', detector: 0, visit: 2022063000158, ...}, id=1b596c6a-dd46-4d63-b9df-99ba04abb190, run='u/dagoret/tests/test_25oct2022c/empty~holo4/20220630/20221025T211551Z'),\n",
       " DatasetRef(DatasetType('spectraction', {band, instrument, detector, physical_filter, visit}, Spectraction), {instrument: 'LATISS', detector: 0, visit: 2022063000177, ...}, id=9869950f-b265-45d4-bdee-71d082e1b04a, run='u/dagoret/tests/test_25oct2022c/empty~holo4/20220630/20221025T212327Z'),\n",
       " DatasetRef(DatasetType('spectraction', {band, instrument, detector, physical_filter, visit}, Spectraction), {instrument: 'LATISS', detector: 0, visit: 2022063000178, ...}, id=f19ce6d5-3522-4cc0-89d8-055300e523c1, run='u/dagoret/tests/test_25oct2022c/empty~holo4/20220630/20221025T213029Z'),\n",
       " DatasetRef(DatasetType('spectraction', {band, instrument, detector, physical_filter, visit}, Spectraction), {instrument: 'LATISS', detector: 0, visit: 2022063000216, ...}, id=b6e8a39c-bf73-4711-9dae-3307787ca074, run='u/dagoret/tests/test_25oct2022c/empty~holo4/20220630/20221025T213714Z'),\n",
       " DatasetRef(DatasetType('spectraction', {band, instrument, detector, physical_filter, visit}, Spectraction), {instrument: 'LATISS', detector: 0, visit: 2022063000217, ...}, id=8bbd8d54-db5f-4ffb-a075-332285b143ba, run='u/dagoret/tests/test_25oct2022c/empty~holo4/20220630/20221025T214458Z'),\n",
       " DatasetRef(DatasetType('spectraction', {band, instrument, detector, physical_filter, visit}, Spectraction), {instrument: 'LATISS', detector: 0, visit: 2022063000231, ...}, id=77172644-a0e7-4ec6-a06e-6e264bfde095, run='u/dagoret/tests/test_25oct2022c/empty~holo4/20220630/20221025T215136Z'),\n",
       " DatasetRef(DatasetType('spectraction', {band, instrument, detector, physical_filter, visit}, Spectraction), {instrument: 'LATISS', detector: 0, visit: 2022063000232, ...}, id=11727211-a3eb-4eb7-9762-33e5b4ea4538, run='u/dagoret/tests/test_25oct2022c/empty~holo4/20220630/20221025T215903Z'),\n",
       " DatasetRef(DatasetType('spectraction', {band, instrument, detector, physical_filter, visit}, Spectraction), {instrument: 'LATISS', detector: 0, visit: 2022063000246, ...}, id=953285b9-4a5b-4ee5-9e62-20040ce5da4a, run='u/dagoret/tests/test_25oct2022c/empty~holo4/20220630/20221025T220702Z'),\n",
       " DatasetRef(DatasetType('spectraction', {band, instrument, detector, physical_filter, visit}, Spectraction), {instrument: 'LATISS', detector: 0, visit: 2022063000247, ...}, id=b6a21ecb-0e4d-451e-a628-ea115772d1de, run='u/dagoret/tests/test_25oct2022c/empty~holo4/20220630/20221025T221637Z'),\n",
       " DatasetRef(DatasetType('spectraction', {band, instrument, detector, physical_filter, visit}, Spectraction), {instrument: 'LATISS', detector: 0, visit: 2022063000261, ...}, id=501c65e0-68e6-4ce3-a5d6-5780f3b536df, run='u/dagoret/tests/test_25oct2022c/empty~holo4/20220630/20221025T222847Z'),\n",
       " DatasetRef(DatasetType('spectraction', {band, instrument, detector, physical_filter, visit}, Spectraction), {instrument: 'LATISS', detector: 0, visit: 2022063000262, ...}, id=1f686284-2fc4-4df8-8335-9c42e4b365f9, run='u/dagoret/tests/test_25oct2022c/empty~holo4/20220630/20221025T223630Z'),\n",
       " DatasetRef(DatasetType('spectraction', {band, instrument, detector, physical_filter, visit}, Spectraction), {instrument: 'LATISS', detector: 0, visit: 2022063000276, ...}, id=1efce0cd-3cc6-44b2-9a79-6bb023e3fed4, run='u/dagoret/tests/test_25oct2022c/empty~holo4/20220630/20221025T224415Z'),\n",
       " DatasetRef(DatasetType('spectraction', {band, instrument, detector, physical_filter, visit}, Spectraction), {instrument: 'LATISS', detector: 0, visit: 2022063000277, ...}, id=565b9691-e5ac-4144-8c2a-2a3513d0d331, run='u/dagoret/tests/test_25oct2022c/empty~holo4/20220630/20221025T225608Z'),\n",
       " DatasetRef(DatasetType('spectraction', {band, instrument, detector, physical_filter, visit}, Spectraction), {instrument: 'LATISS', detector: 0, visit: 2022063000291, ...}, id=062d8075-75d5-4f41-9642-cc2bb33a2c26, run='u/dagoret/tests/test_25oct2022c/empty~holo4/20220630/20221025T230510Z'),\n",
       " DatasetRef(DatasetType('spectraction', {band, instrument, detector, physical_filter, visit}, Spectraction), {instrument: 'LATISS', detector: 0, visit: 2022063000292, ...}, id=30fa7951-1242-449e-87df-83a384d3efb0, run='u/dagoret/tests/test_25oct2022c/empty~holo4/20220630/20221025T232014Z'),\n",
       " DatasetRef(DatasetType('spectraction', {band, instrument, detector, physical_filter, visit}, Spectraction), {instrument: 'LATISS', detector: 0, visit: 2022063000306, ...}, id=da971f7f-ae30-4aae-9ae2-2c0629addf8a, run='u/dagoret/tests/test_25oct2022c/empty~holo4/20220630/20221025T233755Z'),\n",
       " DatasetRef(DatasetType('spectraction', {band, instrument, detector, physical_filter, visit}, Spectraction), {instrument: 'LATISS', detector: 0, visit: 2022063000317, ...}, id=3dff4c9b-5cf7-47c9-a4ce-e054b6d0a6f9, run='u/dagoret/tests/test_25oct2022c/empty~holo4/20220630/20221025T235232Z'),\n",
       " DatasetRef(DatasetType('spectraction', {band, instrument, detector, physical_filter, visit}, Spectraction), {instrument: 'LATISS', detector: 0, visit: 2022063000318, ...}, id=82d0f366-940c-48cb-bdda-67455ec4bfac, run='u/dagoret/tests/test_25oct2022c/empty~holo4/20220630/20221026T000852Z'),\n",
       " DatasetRef(DatasetType('spectraction', {band, instrument, detector, physical_filter, visit}, Spectraction), {instrument: 'LATISS', detector: 0, visit: 2022063000337, ...}, id=fbc86c25-31c2-45df-bce1-d5bf3f4aebe3, run='u/dagoret/tests/test_25oct2022c/empty~holo4/20220630/20221026T002621Z'),\n",
       " DatasetRef(DatasetType('spectraction', {band, instrument, detector, physical_filter, visit}, Spectraction), {instrument: 'LATISS', detector: 0, visit: 2022063000338, ...}, id=f5d0c5a4-e881-47b3-b78d-be69671690ef, run='u/dagoret/tests/test_25oct2022c/empty~holo4/20220630/20221026T005722Z'),\n",
       " DatasetRef(DatasetType('spectraction', {band, instrument, detector, physical_filter, visit}, Spectraction), {instrument: 'LATISS', detector: 0, visit: 2022063000352, ...}, id=a535b524-ff86-4f01-a7f3-611bab226024, run='u/dagoret/tests/test_25oct2022c/empty~holo4/20220630/20221026T012519Z'),\n",
       " DatasetRef(DatasetType('spectraction', {band, instrument, detector, physical_filter, visit}, Spectraction), {instrument: 'LATISS', detector: 0, visit: 2022063000353, ...}, id=e217b8a6-0a65-4de8-8548-24d6939ab29e, run='u/dagoret/tests/test_25oct2022c/empty~holo4/20220630/20221026T015421Z'),\n",
       " DatasetRef(DatasetType('spectraction', {band, instrument, detector, physical_filter, visit}, Spectraction), {instrument: 'LATISS', detector: 0, visit: 2022063000367, ...}, id=81732fb6-f5c4-474f-bace-c9a2bab1b61c, run='u/dagoret/tests/test_25oct2022c/empty~holo4/20220630/20221026T022939Z'),\n",
       " DatasetRef(DatasetType('spectraction', {band, instrument, detector, physical_filter, visit}, Spectraction), {instrument: 'LATISS', detector: 0, visit: 2022063000368, ...}, id=d2189913-0a6b-445b-a000-01a26d913ef1, run='u/dagoret/tests/test_25oct2022c/empty~holo4/20220630/20221026T025840Z'),\n",
       " DatasetRef(DatasetType('spectraction', {band, instrument, detector, physical_filter, visit}, Spectraction), {instrument: 'LATISS', detector: 0, visit: 2022063000390, ...}, id=a870bc1c-f4e5-42f7-9812-b6f32ea49e11, run='u/dagoret/tests/test_25oct2022c/empty~holo4/20220630/20221026T031520Z'),\n",
       " DatasetRef(DatasetType('spectraction', {band, instrument, detector, physical_filter, visit}, Spectraction), {instrument: 'LATISS', detector: 0, visit: 2022063000391, ...}, id=9491d2ee-b943-4fe1-8b27-f913d0196ee4, run='u/dagoret/tests/test_25oct2022c/empty~holo4/20220630/20221026T032850Z'),\n",
       " DatasetRef(DatasetType('spectraction', {band, instrument, detector, physical_filter, visit}, Spectraction), {instrument: 'LATISS', detector: 0, visit: 2022063000405, ...}, id=7720f265-a8c1-4701-84c9-436a84ecfa4d, run='u/dagoret/tests/test_25oct2022c/empty~holo4/20220630/20221026T034151Z'),\n",
       " DatasetRef(DatasetType('spectraction', {band, instrument, detector, physical_filter, visit}, Spectraction), {instrument: 'LATISS', detector: 0, visit: 2022063000406, ...}, id=121435c7-fe4e-4951-9e8f-e1e81619af1e, run='u/dagoret/tests/test_25oct2022c/empty~holo4/20220630/20221026T035501Z'),\n",
       " DatasetRef(DatasetType('spectraction', {band, instrument, detector, physical_filter, visit}, Spectraction), {instrument: 'LATISS', detector: 0, visit: 2022063000420, ...}, id=f52ecb52-715e-4e2e-8cce-c0ef1a001d7d, run='u/dagoret/tests/test_25oct2022c/empty~holo4/20220630/20221026T040246Z'),\n",
       " DatasetRef(DatasetType('spectraction', {band, instrument, detector, physical_filter, visit}, Spectraction), {instrument: 'LATISS', detector: 0, visit: 2022063000421, ...}, id=e62df43f-152c-43ba-8154-3f92cf35eb6f, run='u/dagoret/tests/test_25oct2022c/empty~holo4/20220630/20221026T040852Z'),\n",
       " DatasetRef(DatasetType('spectraction', {band, instrument, detector, physical_filter, visit}, Spectraction), {instrument: 'LATISS', detector: 0, visit: 2022063000436, ...}, id=1f439a2a-094c-4871-9763-98bed2885463, run='u/dagoret/tests/test_25oct2022c/empty~holo4/20220630/20221026T052435Z'),\n",
       " DatasetRef(DatasetType('spectraction', {band, instrument, detector, physical_filter, visit}, Spectraction), {instrument: 'LATISS', detector: 0, visit: 2022063000450, ...}, id=50d50fba-6f51-4284-87df-bb9c6ffbf1c5, run='u/dagoret/tests/test_25oct2022c/empty~holo4/20220630/20221026T054233Z'),\n",
       " DatasetRef(DatasetType('spectraction', {band, instrument, detector, physical_filter, visit}, Spectraction), {instrument: 'LATISS', detector: 0, visit: 2022063000451, ...}, id=e92d02e9-0294-4af9-aea5-a2b2fd9f72da, run='u/dagoret/tests/test_25oct2022c/empty~holo4/20220630/20221026T055246Z'),\n",
       " DatasetRef(DatasetType('spectraction', {band, instrument, detector, physical_filter, visit}, Spectraction), {instrument: 'LATISS', detector: 0, visit: 2022063000476, ...}, id=2aac7474-76ba-4a95-925f-19cc6b244aa3, run='u/dagoret/tests/test_25oct2022c/empty~holo4/20220630/20221026T060325Z'),\n",
       " DatasetRef(DatasetType('spectraction', {band, instrument, detector, physical_filter, visit}, Spectraction), {instrument: 'LATISS', detector: 0, visit: 2022063000477, ...}, id=919486a0-75d5-4d21-af57-e39c6e3f6bfb, run='u/dagoret/tests/test_25oct2022c/empty~holo4/20220630/20221026T061434Z'),\n",
       " DatasetRef(DatasetType('spectraction', {band, instrument, detector, physical_filter, visit}, Spectraction), {instrument: 'LATISS', detector: 0, visit: 2022063000491, ...}, id=0f3b751d-2d91-4e2b-bc3a-f66fc188a88e, run='u/dagoret/tests/test_25oct2022c/empty~holo4/20220630/20221026T062849Z'),\n",
       " DatasetRef(DatasetType('spectraction', {band, instrument, detector, physical_filter, visit}, Spectraction), {instrument: 'LATISS', detector: 0, visit: 2022063000492, ...}, id=f07fd6b7-6e5f-46b7-83b7-5f4ebc4be02b, run='u/dagoret/tests/test_25oct2022c/empty~holo4/20220630/20221026T063953Z'),\n",
       " DatasetRef(DatasetType('spectraction', {band, instrument, detector, physical_filter, visit}, Spectraction), {instrument: 'LATISS', detector: 0, visit: 2022063000521, ...}, id=2df4b7e1-458c-4bd9-bb0d-d931cee9ac41, run='u/dagoret/tests/test_25oct2022c/empty~holo4/20220630/20221026T064946Z'),\n",
       " DatasetRef(DatasetType('spectraction', {band, instrument, detector, physical_filter, visit}, Spectraction), {instrument: 'LATISS', detector: 0, visit: 2022063000522, ...}, id=a1fe844c-f54c-4965-84ed-808c94b6ec47, run='u/dagoret/tests/test_25oct2022c/empty~holo4/20220630/20221026T083247Z'),\n",
       " DatasetRef(DatasetType('spectraction', {band, instrument, detector, physical_filter, visit}, Spectraction), {instrument: 'LATISS', detector: 0, visit: 2022063000536, ...}, id=76a38531-bd44-4d03-8f19-e6f34d3b871b, run='u/dagoret/tests/test_25oct2022c/empty~holo4/20220630/20221026T083954Z'),\n",
       " DatasetRef(DatasetType('spectraction', {band, instrument, detector, physical_filter, visit}, Spectraction), {instrument: 'LATISS', detector: 0, visit: 2022063000537, ...}, id=3574ee63-200b-4946-88a2-665f3d1befee, run='u/dagoret/tests/test_25oct2022c/empty~holo4/20220630/20221026T084727Z'),\n",
       " DatasetRef(DatasetType('spectraction', {band, instrument, detector, physical_filter, visit}, Spectraction), {instrument: 'LATISS', detector: 0, visit: 2022063000589, ...}, id=aa6242d1-a874-4e26-84c6-5a3e0529c6c1, run='u/dagoret/tests/test_25oct2022c/empty~holo4/20220630/20221026T092358Z')]"
      ]
     },
     "execution_count": 22,
     "metadata": {},
     "output_type": "execute_result"
    }
   ],
   "source": [
    "refs_ds"
   ]
  },
  {
   "cell_type": "code",
   "execution_count": 23,
   "id": "6bae6497-14fd-49a1-8878-f7929f8460c2",
   "metadata": {
    "execution": {
     "iopub.execute_input": "2023-04-20T16:50:22.544602Z",
     "iopub.status.busy": "2023-04-20T16:50:22.544462Z",
     "iopub.status.idle": "2023-04-20T16:50:22.637939Z",
     "shell.execute_reply": "2023-04-20T16:50:22.637263Z",
     "shell.execute_reply.started": "2023-04-20T16:50:22.544588Z"
    }
   },
   "outputs": [
    {
     "ename": "ModuleNotFoundError",
     "evalue": "No module named 'lsst.summit'",
     "output_type": "error",
     "traceback": [
      "\u001b[0;31m---------------------------------------------------------------------------\u001b[0m",
      "\u001b[0;31mModuleNotFoundError\u001b[0m                       Traceback (most recent call last)",
      "Input \u001b[0;32mIn [23]\u001b[0m, in \u001b[0;36m<cell line: 1>\u001b[0;34m()\u001b[0m\n\u001b[0;32m----> 1\u001b[0m \u001b[38;5;28;01mimport\u001b[39;00m \u001b[38;5;21;01mlsst\u001b[39;00m\u001b[38;5;21;01m.\u001b[39;00m\u001b[38;5;21;01msummit\u001b[39;00m\u001b[38;5;21;01m.\u001b[39;00m\u001b[38;5;21;01mutils\u001b[39;00m\u001b[38;5;21;01m.\u001b[39;00m\u001b[38;5;21;01mbutlerUtils\u001b[39;00m \u001b[38;5;28;01mas\u001b[39;00m \u001b[38;5;21;01mbutlerUtils\u001b[39;00m\n",
      "\u001b[0;31mModuleNotFoundError\u001b[0m: No module named 'lsst.summit'"
     ]
    }
   ],
   "source": [
    "import lsst.summit.utils.butlerUtils as butlerUtils"
   ]
  },
  {
   "cell_type": "code",
   "execution_count": null,
   "id": "dca78d4f-ca59-4ea4-940c-be1812634e97",
   "metadata": {
    "execution": {
     "iopub.status.busy": "2023-04-20T16:50:22.638396Z",
     "iopub.status.idle": "2023-04-20T16:50:22.638589Z",
     "shell.execute_reply": "2023-04-20T16:50:22.638497Z",
     "shell.execute_reply.started": "2023-04-20T16:50:22.638487Z"
    }
   },
   "outputs": [],
   "source": [
    "butler =butlerUtils.makeDefaultLatissButler(extraCollections=['u/dagoret/tests/test_23oct2022_empty~holo4_20220630'])"
   ]
  },
  {
   "cell_type": "code",
   "execution_count": null,
   "id": "2303a002-d12e-4e5e-8e7e-e8ee5b3d9b0d",
   "metadata": {
    "execution": {
     "iopub.status.busy": "2023-04-20T16:50:22.639094Z",
     "iopub.status.idle": "2023-04-20T16:50:22.639378Z",
     "shell.execute_reply": "2023-04-20T16:50:22.639294Z",
     "shell.execute_reply.started": "2023-04-20T16:50:22.639284Z"
    }
   },
   "outputs": [],
   "source": [
    "dataId = {'day_obs': 20220630,'seq_num':590,'detector':0}"
   ]
  },
  {
   "cell_type": "code",
   "execution_count": null,
   "id": "32c7155b-8f5c-4bfb-a00f-05899e109289",
   "metadata": {
    "execution": {
     "iopub.status.busy": "2023-04-20T16:50:22.639893Z",
     "iopub.status.idle": "2023-04-20T16:50:22.640079Z",
     "shell.execute_reply": "2023-04-20T16:50:22.639991Z",
     "shell.execute_reply.started": "2023-04-20T16:50:22.639981Z"
    }
   },
   "outputs": [],
   "source": [
    "spec= butler.get('spectraction',dataId)"
   ]
  },
  {
   "cell_type": "code",
   "execution_count": null,
   "id": "2adb6db1-391e-499e-92b1-a27bbd2cb51a",
   "metadata": {
    "execution": {
     "iopub.status.busy": "2023-04-20T16:50:22.640602Z",
     "iopub.status.idle": "2023-04-20T16:50:22.640774Z",
     "shell.execute_reply": "2023-04-20T16:50:22.640693Z",
     "shell.execute_reply.started": "2023-04-20T16:50:22.640684Z"
    }
   },
   "outputs": [],
   "source": [
    "spec"
   ]
  },
  {
   "cell_type": "code",
   "execution_count": null,
   "id": "95a0ebab-9090-4cba-b142-6b003a1d5cf5",
   "metadata": {
    "execution": {
     "iopub.status.busy": "2023-04-20T16:50:22.641371Z",
     "iopub.status.idle": "2023-04-20T16:50:22.641544Z",
     "shell.execute_reply": "2023-04-20T16:50:22.641464Z",
     "shell.execute_reply.started": "2023-04-20T16:50:22.641454Z"
    }
   },
   "outputs": [],
   "source": [
    "for c in sorted(registry.queryCollections()):\n",
    "    if \"u/dagoret\" in c:\n",
    "        print(c)"
   ]
  },
  {
   "cell_type": "code",
   "execution_count": null,
   "id": "b9e50146-abd7-44e9-8027-4e8a2cfacc7d",
   "metadata": {
    "execution": {
     "iopub.status.busy": "2023-04-20T16:50:22.641942Z",
     "iopub.status.idle": "2023-04-20T16:50:22.642117Z",
     "shell.execute_reply": "2023-04-20T16:50:22.642038Z",
     "shell.execute_reply.started": "2023-04-20T16:50:22.642029Z"
    }
   },
   "outputs": [],
   "source": [
    "dst = list(butler.registry.queryDatasetTypes(\"*\"))"
   ]
  },
  {
   "cell_type": "code",
   "execution_count": null,
   "id": "cfe5dd19-7dae-411b-8b8a-fe8e034437c5",
   "metadata": {
    "execution": {
     "iopub.status.busy": "2023-04-20T16:50:22.642603Z",
     "iopub.status.idle": "2023-04-20T16:50:22.642849Z",
     "shell.execute_reply": "2023-04-20T16:50:22.642768Z",
     "shell.execute_reply.started": "2023-04-20T16:50:22.642759Z"
    }
   },
   "outputs": [],
   "source": [
    "dst"
   ]
  },
  {
   "cell_type": "code",
   "execution_count": null,
   "id": "52f94002-7477-4ec6-b2b9-06f48ad36737",
   "metadata": {
    "execution": {
     "iopub.status.busy": "2023-04-20T16:50:22.643427Z",
     "iopub.status.idle": "2023-04-20T16:50:22.643602Z",
     "shell.execute_reply": "2023-04-20T16:50:22.643520Z",
     "shell.execute_reply.started": "2023-04-20T16:50:22.643511Z"
    }
   },
   "outputs": [],
   "source": [
    "for refs_ds in butler.registry.queryDatasets(datasetType='any',collections=\"u/dagoret/tests/test_20oct2022\"):\n",
    "    print(refs_ds)"
   ]
  },
  {
   "cell_type": "code",
   "execution_count": null,
   "id": "e21c3bd6-fab2-4d2a-a6b9-59bca7819464",
   "metadata": {
    "execution": {
     "iopub.status.busy": "2023-04-20T16:50:22.644092Z",
     "iopub.status.idle": "2023-04-20T16:50:22.644259Z",
     "shell.execute_reply": "2023-04-20T16:50:22.644181Z",
     "shell.execute_reply.started": "2023-04-20T16:50:22.644171Z"
    }
   },
   "outputs": [],
   "source": [
    "refs_ds=list(butler.registry.queryDatasets(datasetType=\"*spe*\",collections=\"u/dagoret/tests/test_20oct2022\"))"
   ]
  },
  {
   "cell_type": "code",
   "execution_count": null,
   "id": "9d8472c8-85e1-4830-b0a7-b29481a53786",
   "metadata": {
    "execution": {
     "iopub.status.busy": "2023-04-20T16:50:22.644700Z",
     "iopub.status.idle": "2023-04-20T16:50:22.644866Z",
     "shell.execute_reply": "2023-04-20T16:50:22.644789Z",
     "shell.execute_reply.started": "2023-04-20T16:50:22.644779Z"
    }
   },
   "outputs": [],
   "source": [
    "refs_ds"
   ]
  },
  {
   "cell_type": "code",
   "execution_count": null,
   "id": "d0555e08-56d4-41f5-b4f6-284d432e8a39",
   "metadata": {
    "execution": {
     "iopub.status.busy": "2023-04-20T16:50:22.645323Z",
     "iopub.status.idle": "2023-04-20T16:50:22.645489Z",
     "shell.execute_reply": "2023-04-20T16:50:22.645412Z",
     "shell.execute_reply.started": "2023-04-20T16:50:22.645403Z"
    }
   },
   "outputs": [],
   "source": [
    "#/sdf/group/rubin/repo/main/u/dagoret/tests/test_20oct2022/20221020T143125Z/spectractorSpectrum/20220630/white/empty~holo4_003/2022063000060/82nlj40o9h1dcrhp.fits"
   ]
  },
  {
   "cell_type": "code",
   "execution_count": null,
   "id": "70281cab-8397-4856-a347-a8d948872d4d",
   "metadata": {
    "execution": {
     "iopub.status.busy": "2023-04-20T16:50:22.646025Z",
     "iopub.status.idle": "2023-04-20T16:50:22.646190Z",
     "shell.execute_reply": "2023-04-20T16:50:22.646114Z",
     "shell.execute_reply.started": "2023-04-20T16:50:22.646105Z"
    }
   },
   "outputs": [],
   "source": [
    "extracted = []\n",
    "for seqNum in seqNums:\n",
    "    if butler.datasetExists('spectraction', dayObs=dayObs, seqNum=seqNum):\n",
    "        extracted.append(seqNum)"
   ]
  },
  {
   "cell_type": "code",
   "execution_count": null,
   "id": "426e1136-c6fc-4f96-a15d-3faaab519212",
   "metadata": {},
   "outputs": [],
   "source": []
  }
 ],
 "metadata": {
  "kernelspec": {
   "display_name": "LSST",
   "language": "python",
   "name": "lsst"
  },
  "language_info": {
   "codemirror_mode": {
    "name": "ipython",
    "version": 3
   },
   "file_extension": ".py",
   "mimetype": "text/x-python",
   "name": "python",
   "nbconvert_exporter": "python",
   "pygments_lexer": "ipython3",
   "version": "3.10.10"
  }
 },
 "nbformat": 4,
 "nbformat_minor": 5
}
