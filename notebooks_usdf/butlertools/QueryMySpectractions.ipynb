{
 "cells": [
  {
   "cell_type": "markdown",
   "id": "f72d0996-4505-4458-be4d-da826e4d7487",
   "metadata": {},
   "source": [
    "# Access to Spectractor data"
   ]
  },
  {
   "cell_type": "code",
   "execution_count": null,
   "id": "d854b2cd-0043-479e-9eb8-f004a1b019ab",
   "metadata": {},
   "outputs": [],
   "source": [
    "import numpy as np\n",
    "import matplotlib.pyplot as plt\n",
    "%matplotlib inline\n",
    "from mpl_toolkits.axes_grid1 import make_axes_locatable\n",
    "from matplotlib.colors import LogNorm\n",
    "import pandas as pd\n",
    "\n",
    "import matplotlib.ticker                         # here's where the formatter is\n",
    "import os\n",
    "import re\n",
    "import pandas as pd\n",
    "\n",
    "plt.rcParams[\"figure.figsize\"] = (16,4)\n",
    "plt.rcParams[\"axes.labelsize\"] = 'xx-large'\n",
    "plt.rcParams['axes.titlesize'] = 'xx-large'\n",
    "plt.rcParams['xtick.labelsize']= 'xx-large'\n",
    "plt.rcParams['ytick.labelsize']= 'xx-large'"
   ]
  },
  {
   "cell_type": "code",
   "execution_count": null,
   "id": "8dfcb568-46a6-48da-a887-7460cbd41f85",
   "metadata": {},
   "outputs": [],
   "source": []
  },
  {
   "cell_type": "code",
   "execution_count": null,
   "id": "c52c35f3-07b8-4ff0-ba79-a6db676a6318",
   "metadata": {},
   "outputs": [],
   "source": []
  },
  {
   "cell_type": "code",
   "execution_count": null,
   "id": "a008d257-b958-4bff-b503-d305ab4c8f2d",
   "metadata": {},
   "outputs": [],
   "source": [
    "import lsst.daf.butler as dafButler"
   ]
  },
  {
   "cell_type": "code",
   "execution_count": null,
   "id": "461f1086-782f-48cf-ae0c-c9a2c15ec07c",
   "metadata": {},
   "outputs": [],
   "source": [
    "from astropy.io import fits\n",
    "from spectractor import parameters\n",
    "from spectractor.extractor.extractor import Spectractor,dumpParameters\n",
    "from spectractor.extractor.spectrum import Spectrum, detect_lines, calibrate_spectrum\n",
    "from spectractor.extractor.spectrum import *\n",
    "#from spectractor.extractor.spectroscopy import Lines, Line ,HALPHA, HBETA, O2_1, H2O_1,H2O_2\n",
    "from spectractor.extractor.spectroscopy import Lines, Line ,HALPHA, HBETA, HGAMMA, HDELTA ,O2_1, O2_2, O2B,H2O_1, ATMOSPHERIC_LINES\n",
    "from spectractor.config import load_config\n",
    "from spectractor import parameters\n",
    "from spectractor.extractor.images import *\n",
    "from scipy import ndimage, misc\n",
    "from scipy.interpolate import interp1d"
   ]
  },
  {
   "cell_type": "code",
   "execution_count": null,
   "id": "e16f16b8-56f6-41e4-b78c-ba7e2c63f876",
   "metadata": {},
   "outputs": [],
   "source": [
    "repo =  \"/sdf/group/rubin/repo/main\"\n",
    "butler = dafButler.Butler(repo)\n",
    "registry = butler.registry\n",
    "mycollection = \"u/dagoret/tests/test_20oct2022\""
   ]
  },
  {
   "cell_type": "markdown",
   "id": "8bee2763-13d9-45fc-b368-ed1be05ef422",
   "metadata": {},
   "source": [
    "    [dagoret@sdfrome001 production]$ ls /sdf/group/rubin/repo/main/u/dagoret/tests/test_20oct2022/20221020T181516Z\n",
    "    atmospecCentroid            icExp            isr_config    postISRCCD            singleStarCentroid_config    spectractorImage\n",
    "    characterizeImage_config    icExpBackground  isr_log       processStar_config    singleStarCentroid_log       spectractorSpectrum\n",
    "    characterizeImage_log       icSrc            isr_metadata  processStar_log       singleStarCentroid_metadata\n",
    "    characterizeImage_metadata  icSrc_schema     packages      processStar_metadata  spectraction"
   ]
  },
  {
   "cell_type": "code",
   "execution_count": null,
   "id": "1f4749af-ede0-472e-b91d-274c17d4638c",
   "metadata": {},
   "outputs": [],
   "source": [
    "import lsst.summit.utils.butlerUtils as butlerUtils"
   ]
  },
  {
   "cell_type": "code",
   "execution_count": null,
   "id": "186a3732-9a36-4f0e-a550-d0d4b93195e6",
   "metadata": {},
   "outputs": [],
   "source": [
    "butler =butlerUtils.makeDefaultLatissButler(extraCollections=['u/dagoret/tests/test_20oct2022'])"
   ]
  },
  {
   "cell_type": "code",
   "execution_count": null,
   "id": "a8452d44-38b9-4f5e-b76e-5fe0236a6305",
   "metadata": {},
   "outputs": [],
   "source": [
    "refs_ds=list(butler.registry.queryDatasets(datasetType='postISRCCD',collections=mycollection))"
   ]
  },
  {
   "cell_type": "code",
   "execution_count": null,
   "id": "38810354-68d4-4659-bf90-a74cf5766f5e",
   "metadata": {},
   "outputs": [],
   "source": [
    "refs_ds"
   ]
  },
  {
   "cell_type": "code",
   "execution_count": null,
   "id": "95ea0da3-e486-4cc6-954c-2712bc0bfd7e",
   "metadata": {},
   "outputs": [],
   "source": [
    "refs_ds=list(butler.registry.queryDatasets(datasetType='spectraction',collections=mycollection))"
   ]
  },
  {
   "cell_type": "code",
   "execution_count": null,
   "id": "7ad9cd6e-589d-4383-95e6-7bd7880c8608",
   "metadata": {},
   "outputs": [],
   "source": [
    "refs_ds"
   ]
  },
  {
   "cell_type": "code",
   "execution_count": null,
   "id": "e3719eab-774e-4f2b-8dc1-cfa18aa81634",
   "metadata": {},
   "outputs": [],
   "source": [
    "refs_ds=list(butler.registry.queryDatasets(datasetType='spectractorSpectrum',collections=mycollection))"
   ]
  },
  {
   "cell_type": "code",
   "execution_count": null,
   "id": "2113f64d-ab89-49e8-aa1c-0b791572c391",
   "metadata": {},
   "outputs": [],
   "source": [
    "refs_ds"
   ]
  },
  {
   "cell_type": "code",
   "execution_count": null,
   "id": "dc796c98-74ed-4cb4-9c73-c1a5057ad303",
   "metadata": {},
   "outputs": [],
   "source": [
    "refs_ds=list(butler.registry.queryDatasets(datasetType='spectractorImage',collections=mycollection))"
   ]
  },
  {
   "cell_type": "code",
   "execution_count": null,
   "id": "e74927f1-8396-425d-9b2b-3163fab8fac8",
   "metadata": {},
   "outputs": [],
   "source": [
    "refs_ds"
   ]
  },
  {
   "cell_type": "code",
   "execution_count": null,
   "id": "8a1a0fab-3af8-4292-8345-9bb2e2981361",
   "metadata": {},
   "outputs": [],
   "source": [
    "refs_ds=list(butler.registry.queryDatasets(datasetType=\"*spe*\",collections=\"u/dagoret/tests/test_20oct2022\"))"
   ]
  },
  {
   "cell_type": "code",
   "execution_count": null,
   "id": "840673a6-aa6c-409e-8db0-7ee62efcf3b2",
   "metadata": {},
   "outputs": [],
   "source": [
    "refs_ds"
   ]
  },
  {
   "cell_type": "markdown",
   "id": "72f0bffd-cf66-4b54-8212-8a45fe25d5e9",
   "metadata": {},
   "source": [
    "       [dagoret@sdfrome001 production]$ ls /sdf/group/rubin/repo/main/u/dagoret/tests/test_20oct2022/20221020T181516Z\n",
    "    atmospecCentroid            icExp            isr_config    postISRCCD            singleStarCentroid_config    spectractorImage\n",
    "    characterizeImage_config    icExpBackground  isr_log       processStar_config    singleStarCentroid_log       spectractorSpectrum\n",
    "    characterizeImage_log       icSrc            isr_metadata  processStar_log       singleStarCentroid_metadata\n",
    "    characterizeImage_metadata  icSrc_schema     packages      processStar_metadata  spectraction"
   ]
  },
  {
   "cell_type": "code",
   "execution_count": null,
   "id": "7ed11aec-d2a7-45c8-83f5-d19d7a1437e3",
   "metadata": {},
   "outputs": [],
   "source": [
    "dataId = {'day_obs': 20220630,'seq_num':77,'detector':0}"
   ]
  },
  {
   "cell_type": "code",
   "execution_count": null,
   "id": "302c854c-81e8-4f72-9fad-e423e5a49298",
   "metadata": {},
   "outputs": [],
   "source": [
    "config_procs=butler.get('processStar_config') \n",
    "print(config_procs)"
   ]
  },
  {
   "cell_type": "code",
   "execution_count": null,
   "id": "f6c7e245-b521-44bd-aca1-da941ab00a38",
   "metadata": {},
   "outputs": [],
   "source": [
    "logcentroid=butler.get('singleStarCentroid_log',dataId)\n",
    "logcentroid"
   ]
  },
  {
   "cell_type": "code",
   "execution_count": null,
   "id": "5e66a020-008e-4c38-965a-60423e9b39ff",
   "metadata": {},
   "outputs": [],
   "source": [
    "meta=butler.get('processStar_metadata',dataId) "
   ]
  },
  {
   "cell_type": "code",
   "execution_count": null,
   "id": "4107a94a-4f1b-4db5-8b34-6cd0b6d1d52e",
   "metadata": {},
   "outputs": [],
   "source": [
    "spec= butler.get('spectraction',dataId)"
   ]
  },
  {
   "cell_type": "code",
   "execution_count": null,
   "id": "b0a4622e-bfbb-4eea-8124-abf0d0c773f8",
   "metadata": {},
   "outputs": [],
   "source": [
    "spec.image"
   ]
  },
  {
   "cell_type": "code",
   "execution_count": null,
   "id": "f0987206-1294-4306-baa5-21ed39f84e1a",
   "metadata": {},
   "outputs": [],
   "source": [
    "spec.spectrum.plot_spectrum()"
   ]
  },
  {
   "cell_type": "code",
   "execution_count": null,
   "id": "f3320927-55ea-4302-83d3-d093222e01d1",
   "metadata": {},
   "outputs": [],
   "source": [
    "spec.w"
   ]
  },
  {
   "cell_type": "code",
   "execution_count": null,
   "id": "35916e13-aa24-45fd-a3e1-50921bae6efe",
   "metadata": {},
   "outputs": [],
   "source": [
    "spectrum= butler.get('spectractorSpectrum',dataId)"
   ]
  },
  {
   "cell_type": "code",
   "execution_count": null,
   "id": "030c19a0-a639-4c07-84eb-39a0c0a7120d",
   "metadata": {},
   "outputs": [],
   "source": [
    "img=butler.get('spectractorImage',dataId)"
   ]
  },
  {
   "cell_type": "code",
   "execution_count": null,
   "id": "f9364b82-b23e-4df2-98cc-a6b646f5a1c5",
   "metadata": {},
   "outputs": [],
   "source": [
    "img.data"
   ]
  },
  {
   "cell_type": "code",
   "execution_count": null,
   "id": "42af1718-8ce5-48ab-b07d-c9670d7a3dc0",
   "metadata": {},
   "outputs": [],
   "source": [
    "spec"
   ]
  },
  {
   "cell_type": "code",
   "execution_count": null,
   "id": "f1c38001-3197-4c3a-9985-40841780afc0",
   "metadata": {},
   "outputs": [],
   "source": []
  }
 ],
 "metadata": {
  "kernelspec": {
   "display_name": "LSST",
   "language": "python",
   "name": "lsst"
  },
  "language_info": {
   "codemirror_mode": {
    "name": "ipython",
    "version": 3
   },
   "file_extension": ".py",
   "mimetype": "text/x-python",
   "name": "python",
   "nbconvert_exporter": "python",
   "pygments_lexer": "ipython3",
   "version": "3.10.5"
  }
 },
 "nbformat": 4,
 "nbformat_minor": 5
}
