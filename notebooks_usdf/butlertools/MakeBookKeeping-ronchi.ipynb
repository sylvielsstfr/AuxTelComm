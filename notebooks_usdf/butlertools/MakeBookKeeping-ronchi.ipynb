{
 "cells": [
  {
   "cell_type": "markdown",
   "id": "c813ed6a",
   "metadata": {
    "tags": []
   },
   "source": [
    "# Make bookkeeping with Holograms\n",
    "\n",
    "\n",
    "- work with Weakly_2022_09\n",
    "- use jupyter kernel LSST\n",
    "\n",
    "- author : Sylvie Dagoret-Campagne\n",
    "- affiliation : IJCLab\n",
    "- creation date : 2022/09/20\n"
   ]
  },
  {
   "cell_type": "code",
   "execution_count": null,
   "id": "2e1f28b1",
   "metadata": {},
   "outputs": [],
   "source": [
    "! eups list -s | grep LOCAL"
   ]
  },
  {
   "cell_type": "code",
   "execution_count": null,
   "id": "8d301387-7065-4c85-897e-9e91b477c2b0",
   "metadata": {},
   "outputs": [],
   "source": [
    "! echo $IMAGE_DESCRIPTION\n",
    "! eups list -s lsst_distrib"
   ]
  },
  {
   "cell_type": "code",
   "execution_count": null,
   "id": "ea83b669",
   "metadata": {},
   "outputs": [],
   "source": [
    "import os\n",
    "import matplotlib.pyplot as plt\n",
    "import numpy as np\n",
    "import pandas as pd\n",
    "%matplotlib inline\n",
    "from matplotlib.colors import LogNorm\n",
    "\n",
    "from mpl_toolkits.axes_grid1 import make_axes_locatable\n",
    "\n",
    "import matplotlib.ticker                         # here's where the formatter is\n",
    "from matplotlib.ticker import (MultipleLocator, FormatStrFormatter,\n",
    "                               AutoMinorLocator)\n",
    "\n",
    "from astropy.io import fits"
   ]
  },
  {
   "cell_type": "code",
   "execution_count": null,
   "id": "d7c8c61f-5cfa-4c25-9a5a-97c2eb50fa29",
   "metadata": {},
   "outputs": [],
   "source": [
    "import lsst.afw.display as afwDisplay\n",
    "afwDisplay.setDefaultBackend('matplotlib')"
   ]
  },
  {
   "cell_type": "code",
   "execution_count": null,
   "id": "7a36f8cd",
   "metadata": {},
   "outputs": [],
   "source": [
    "import lsst.daf.butler as dafButler"
   ]
  },
  {
   "cell_type": "code",
   "execution_count": null,
   "id": "7c5944d1-0cbb-42bc-9ea9-a7ff39e25a01",
   "metadata": {},
   "outputs": [],
   "source": [
    "repo = \"/sdf/group/rubin/repo/main\"\n",
    "butler = dafButler.Butler(repo)\n",
    "registry = butler.registry"
   ]
  },
  {
   "cell_type": "code",
   "execution_count": null,
   "id": "dc1df269-7a0e-47be-a78f-c4661690001d",
   "metadata": {},
   "outputs": [],
   "source": [
    "collection = \"u/dagoret/first_test_autxel\"\n",
    "datasetRefs1 = registry.queryDatasets(datasetType='postISRCCD', collections=collection, where= \"instrument='LATISS'\")\n",
    "datasetRefs2 = registry.queryDatasets(datasetType='calexp', collections=collection, where= \"instrument='LATISS'\")"
   ]
  },
  {
   "cell_type": "markdown",
   "id": "7f19fb5d-52b7-4819-8544-d2af41bc62ee",
   "metadata": {},
   "source": [
    "## List of Exposures"
   ]
  },
  {
   "cell_type": "code",
   "execution_count": null,
   "id": "21511621-0c1f-4ada-9134-47e1fb3081c0",
   "metadata": {},
   "outputs": [],
   "source": [
    "df_exposure = pd.DataFrame(columns=['id', 'obs_id','day_obs','group_name' ,'seq_num', 'type', 'target','filter','zenith_angle','expos','ra','dec','skyangle','postISRCCD','calexp'])"
   ]
  },
  {
   "cell_type": "code",
   "execution_count": null,
   "id": "8d316e16-5985-45be-b875-ade2b9cfbf04",
   "metadata": {},
   "outputs": [],
   "source": [
    "df_exposure.astype({\"id\":str,\n",
    "                    \"obs_id\":str,\n",
    "                    \"day_obs\": str,\n",
    "                    \"group_name\":str,\n",
    "                    \"seq_num\":'int32',\n",
    "                    'type':str,\n",
    "                    \"target\":str,\n",
    "                    \"filter\":str,\n",
    "                    \"zenith_angle\":'float',\n",
    "                    \"expos\":'float',\n",
    "                    \"ra\":'float',\n",
    "                    \"dec\":'float',\n",
    "                    \"skyangle\":'float',\n",
    "                    \"postISRCCD\":bool,\n",
    "                    \"calexp\":bool\n",
    "                   }              \n",
    "                  )"
   ]
  },
  {
   "cell_type": "code",
   "execution_count": null,
   "id": "553afbf0-c335-4404-af6d-61df06ac86be",
   "metadata": {},
   "outputs": [],
   "source": [
    "#df_exposure = pd.DataFrame( {\"id\":'int64',\n",
    "#                             \"obs_id\":str,\n",
    "#                             \"day_obs\": str,\n",
    "#                             \"seq_num\":'int32',\n",
    "#                             \"type\":str,\n",
    "#                             \"target\":str,\n",
    "#                             \"filter\":str,\n",
    "#                             \"zenith_angle\":'float32',\n",
    "#                             \"expos\":'float32',\n",
    "#                             \"ra\":'float32',\n",
    "#                             \"dec\":'float32',\n",
    "#                             \"skyangle\":'float32'})                  "
   ]
  },
  {
   "cell_type": "code",
   "execution_count": null,
   "id": "9f1cb1a9-f90e-43a5-8451-7d342b7a4542",
   "metadata": {},
   "outputs": [],
   "source": [
    "for count, info in enumerate(registry.queryDimensionRecords('exposure',where= \"instrument='LATISS'\")):\n",
    "    \n",
    "    flag_postisrccd = False\n",
    "    flag_calexp = False\n",
    "    \n",
    "    for count, ref in enumerate(datasetRefs1):    \n",
    "        if ref.dataId[\"exposure\"]== info.id:\n",
    "            flag_postisrccd = True\n",
    "            break\n",
    "    for count, ref in enumerate(datasetRefs2):    \n",
    "        if ref.dataId[\"exposure\"]== info.id:\n",
    "            flag_calexp = True\n",
    "            break        \n",
    "            \n",
    "    \n",
    "    \n",
    "    \n",
    "    df_exposure.loc[count] = [str(info.id), str(info.obs_id), str(info.day_obs), str(info.group_name),int(info.seq_num), str(info.observation_type), str(info.target_name), str(info.physical_filter), info.zenith_angle, \\\n",
    "                             info.exposure_time,info.tracking_ra, info.tracking_dec, info.sky_angle,flag_postisrccd,flag_calexp]\n",
    "    \n",
    "    if count < 0:\n",
    "        print(\"-----------------------------------------------------\",count,\"---------------------------------------------------------\")\n",
    "        print(info)\n",
    "        print(\"\\t id:                  \",info.id)\n",
    "        print(\"\\t day_obs:             \",info.day_obs)\n",
    "        print(\"\\t group_name:          \",info.group_name)\n",
    "        print(\"\\t seq_num:             \",info.seq_num)\n",
    "        print(\"\\t type-of-observation: \",info.observation_type)\n",
    "        print(\"\\t target:              \",info.target_name)\n",
    "    "
   ]
  },
  {
   "cell_type": "code",
   "execution_count": null,
   "id": "ab548474-5164-4b2c-9309-e2c7bd12b18d",
   "metadata": {},
   "outputs": [],
   "source": [
    "df_exposure.dtypes"
   ]
  },
  {
   "cell_type": "code",
   "execution_count": null,
   "id": "09347e6d-92ca-40f4-b223-a95f02f3f484",
   "metadata": {},
   "outputs": [],
   "source": [
    "df_exposure"
   ]
  },
  {
   "cell_type": "markdown",
   "id": "323b7c09-00c3-46c7-b542-9651b4de493d",
   "metadata": {},
   "source": [
    "## Selection of science"
   ]
  },
  {
   "cell_type": "code",
   "execution_count": null,
   "id": "74fd2466-f031-465e-b36c-9680532fe9b3",
   "metadata": {},
   "outputs": [],
   "source": [
    "df_science = df_exposure[df_exposure.type == 'science']"
   ]
  },
  {
   "cell_type": "code",
   "execution_count": null,
   "id": "eea99dca-791a-43d2-85ec-e8d098526141",
   "metadata": {},
   "outputs": [],
   "source": [
    "df_science.sort_values(by=\"id\",ascending=True,inplace=True)"
   ]
  },
  {
   "cell_type": "code",
   "execution_count": null,
   "id": "53851875-e2d9-48c4-a138-a5e62ed237d2",
   "metadata": {},
   "outputs": [],
   "source": [
    "df_science.tail(60)"
   ]
  },
  {
   "cell_type": "markdown",
   "id": "8c430b97-552c-4389-9b57-c371206b57e6",
   "metadata": {},
   "source": [
    "# Generate Book Keeping files"
   ]
  },
  {
   "cell_type": "code",
   "execution_count": null,
   "id": "b0f6ceab-f8e9-4541-937a-d58d95eab537",
   "metadata": {},
   "outputs": [],
   "source": [
    "writer = pd.ExcelWriter('BookKeepingAuxtelRonchi_raw.xlsx', engine='xlsxwriter')\n",
    "current_page = 0"
   ]
  },
  {
   "cell_type": "code",
   "execution_count": null,
   "id": "6d7c7d16-15e0-482a-877c-cd13dd5d0b30",
   "metadata": {},
   "outputs": [],
   "source": [
    "ListOfDates = df_science.day_obs.unique()"
   ]
  },
  {
   "cell_type": "code",
   "execution_count": null,
   "id": "da63cef4-86f4-4199-8a34-2025f22b6c3b",
   "metadata": {},
   "outputs": [],
   "source": [
    "ListOfDates"
   ]
  },
  {
   "cell_type": "code",
   "execution_count": null,
   "id": "2ddc9bab-c54d-421a-92a2-2ddb9ebee256",
   "metadata": {},
   "outputs": [],
   "source": [
    "for date_sel in ListOfDates:\n",
    "    \n",
    "    # get for that date\n",
    "    df_science_selected = df_science[df_science.day_obs == date_sel ]\n",
    "    N = len(df_science_selected)\n",
    "    \n",
    "    list_of_filters = df_science_selected['filter'].unique()\n",
    "    \n",
    "    selected_filters = []\n",
    "    # Select hologram\n",
    "    for filt in list_of_filters:\n",
    "        #flag_sel = (filt.find('holo4') != -1) or (filt.find('ronchi90lpmm') != -1) or (filt.find('ronchi170lpmm') != -1)\n",
    "        #flag_sel = (filt.find('holo4') != -1) \n",
    "        flag_sel = (filt.find('ronchi170') != -1) \n",
    "        if flag_sel:\n",
    "            selected_filters.append(filt) \n",
    "    Nfilt = len(selected_filters)\n",
    "    # sort by filter name\n",
    "    if(Nfilt>0):\n",
    "        selected_filters = np.array(selected_filters)\n",
    "        df_science_selected.sort_values(by=['filter','id'],ascending=True,inplace=True)\n",
    "        df_science_selected.to_excel(writer, sheet_name=str(date_sel))\n",
    "        \n"
   ]
  },
  {
   "cell_type": "code",
   "execution_count": null,
   "id": "6bdf5f7e-b417-4437-8f9b-f7f04b9e2160",
   "metadata": {},
   "outputs": [],
   "source": [
    "writer.save()"
   ]
  },
  {
   "cell_type": "code",
   "execution_count": null,
   "id": "4712c124-74b6-4fd3-b734-b3cacd30e153",
   "metadata": {},
   "outputs": [],
   "source": []
  },
  {
   "cell_type": "code",
   "execution_count": null,
   "id": "e621d92b-113a-4f6d-b5f7-cd5155c001d5",
   "metadata": {},
   "outputs": [],
   "source": []
  },
  {
   "cell_type": "code",
   "execution_count": null,
   "id": "7c322ce5-c87c-4b43-8477-ef35873ff2a9",
   "metadata": {},
   "outputs": [],
   "source": []
  },
  {
   "cell_type": "code",
   "execution_count": null,
   "id": "13d9b476-4083-4855-baa6-4de416c1564a",
   "metadata": {},
   "outputs": [],
   "source": []
  }
 ],
 "metadata": {
  "kernelspec": {
   "display_name": "LSST",
   "language": "python",
   "name": "lsst"
  },
  "language_info": {
   "codemirror_mode": {
    "name": "ipython",
    "version": 3
   },
   "file_extension": ".py",
   "mimetype": "text/x-python",
   "name": "python",
   "nbconvert_exporter": "python",
   "pygments_lexer": "ipython3",
   "version": "3.10.5"
  }
 },
 "nbformat": 4,
 "nbformat_minor": 5
}
