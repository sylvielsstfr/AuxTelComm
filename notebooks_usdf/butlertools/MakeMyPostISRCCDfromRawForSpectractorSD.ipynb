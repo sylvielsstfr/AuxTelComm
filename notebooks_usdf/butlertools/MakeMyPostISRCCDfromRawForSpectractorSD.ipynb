{
 "cells": [
  {
   "cell_type": "markdown",
   "id": "c813ed6a",
   "metadata": {
    "tags": []
   },
   "source": [
    "# Make postISRCCD from raw for Spectractor StandAlone\n",
    "\n",
    "\n",
    "- work with Weakly_2023_01\n",
    "- use jupyter kernel LSST : **lsst_distrib_2023_01**\n",
    "\n",
    "\n",
    "\n",
    "- author : Sylvie Dagoret-Campagne\n",
    "- affiliation : IJCLab\n",
    "- creation date : 2023/12/08\n",
    "- last update : 2023/12/25\n",
    "\n"
   ]
  },
  {
   "cell_type": "code",
   "execution_count": 1,
   "id": "2e1f28b1",
   "metadata": {
    "execution": {
     "iopub.execute_input": "2023-01-25T13:43:35.859810Z",
     "iopub.status.busy": "2023-01-25T13:43:35.859506Z",
     "iopub.status.idle": "2023-01-25T13:43:36.313626Z",
     "shell.execute_reply": "2023-01-25T13:43:36.313027Z",
     "shell.execute_reply.started": "2023-01-25T13:43:35.859791Z"
    },
    "tags": []
   },
   "outputs": [
    {
     "name": "stdout",
     "output_type": "stream",
     "text": [
      "atmospec              LOCAL:/home/d/dagoret/repos/repos_w_2023_01/atmospec \tsetup\n",
      "eups                  LOCAL:/opt/lsst/software/stack/conda/miniconda3-py38_4.9.2/envs/lsst-scipipe-5.1.0/eups \tsetup\n",
      "spectractor           LOCAL:/home/d/dagoret/repos/repos_w_2023_01/Spectractor \tsetup\n"
     ]
    }
   ],
   "source": [
    "! eups list -s | grep LOCAL"
   ]
  },
  {
   "cell_type": "code",
   "execution_count": 2,
   "id": "8d301387-7065-4c85-897e-9e91b477c2b0",
   "metadata": {
    "execution": {
     "iopub.execute_input": "2023-01-25T13:43:36.314803Z",
     "iopub.status.busy": "2023-01-25T13:43:36.314445Z",
     "iopub.status.idle": "2023-01-25T13:43:37.011924Z",
     "shell.execute_reply": "2023-01-25T13:43:37.011283Z",
     "shell.execute_reply.started": "2023-01-25T13:43:36.314782Z"
    },
    "tags": []
   },
   "outputs": [
    {
     "name": "stdout",
     "output_type": "stream",
     "text": [
      "w_2023_01\n",
      "   g754a7f0350+935911ccad \tcurrent w_2023_01 setup\n"
     ]
    }
   ],
   "source": [
    "! echo $IMAGE_DESCRIPTION\n",
    "! eups list -s lsst_distrib"
   ]
  },
  {
   "cell_type": "code",
   "execution_count": 3,
   "id": "b7002c4d-b869-4560-9c7a-a535887daeef",
   "metadata": {
    "execution": {
     "iopub.execute_input": "2023-01-25T13:43:37.012936Z",
     "iopub.status.busy": "2023-01-25T13:43:37.012739Z",
     "iopub.status.idle": "2023-01-25T13:43:37.400474Z",
     "shell.execute_reply": "2023-01-25T13:43:37.399978Z",
     "shell.execute_reply.started": "2023-01-25T13:43:37.012917Z"
    },
    "tags": []
   },
   "outputs": [],
   "source": [
    "import os\n",
    "import matplotlib.pyplot as plt\n",
    "import matplotlib.colors as colors\n",
    "import matplotlib.cm as cmx\n",
    "import matplotlib.dates as mdates\n",
    "\n",
    "import numpy as np\n",
    "import pandas as pd\n",
    "%matplotlib inline\n",
    "from matplotlib.colors import LogNorm\n",
    "\n",
    "from mpl_toolkits.axes_grid1 import make_axes_locatable\n",
    "\n",
    "import matplotlib.ticker                         # here's where the formatter is\n",
    "from matplotlib.ticker import (MultipleLocator, FormatStrFormatter,\n",
    "                               AutoMinorLocator)\n",
    "\n",
    "from astropy.visualization import (MinMaxInterval, SqrtStretch,ZScaleInterval,PercentileInterval,\n",
    "                                   ImageNormalize,imshow_norm)\n",
    "from astropy.visualization.stretch import SinhStretch, LinearStretch,AsinhStretch,LogStretch\n",
    "\n",
    "\n",
    "from astropy.io import fits\n",
    "\n",
    "\n"
   ]
  },
  {
   "cell_type": "code",
   "execution_count": 4,
   "id": "0ced9c4f-122b-4fe2-a70b-ff0b15660bee",
   "metadata": {
    "execution": {
     "iopub.execute_input": "2023-01-25T13:43:37.401548Z",
     "iopub.status.busy": "2023-01-25T13:43:37.401144Z",
     "iopub.status.idle": "2023-01-25T13:43:38.573405Z",
     "shell.execute_reply": "2023-01-25T13:43:38.572754Z",
     "shell.execute_reply.started": "2023-01-25T13:43:37.401529Z"
    },
    "tags": []
   },
   "outputs": [],
   "source": [
    "# Assembly task\n",
    "# https://github.com/lsst/ip_isr/blob/main/python/lsst/ip/isr/isrTask.py\n",
    "\n",
    "from lsst.ip.isr.assembleCcdTask import (AssembleCcdConfig, AssembleCcdTask)\n",
    "from lsst.ip.isr.isrTask import (IsrTask, IsrTaskConfig)\n",
    "\n",
    "#https://github.com/lsst/ip_isr/blob/main/python/lsst/ip/isr/overscan.py\n",
    "from lsst.ip.isr import  OverscanCorrectionTaskConfig, OverscanCorrectionTask"
   ]
  },
  {
   "cell_type": "code",
   "execution_count": 5,
   "id": "d7c8c61f-5cfa-4c25-9a5a-97c2eb50fa29",
   "metadata": {
    "execution": {
     "iopub.execute_input": "2023-01-25T13:43:38.574503Z",
     "iopub.status.busy": "2023-01-25T13:43:38.574264Z",
     "iopub.status.idle": "2023-01-25T13:43:38.586147Z",
     "shell.execute_reply": "2023-01-25T13:43:38.585642Z",
     "shell.execute_reply.started": "2023-01-25T13:43:38.574485Z"
    },
    "tags": []
   },
   "outputs": [],
   "source": [
    "# LSST Display\n",
    "import lsst.afw.display as afwDisplay\n",
    "afwDisplay.setDefaultBackend('matplotlib')"
   ]
  },
  {
   "cell_type": "code",
   "execution_count": 6,
   "id": "7a36f8cd",
   "metadata": {
    "execution": {
     "iopub.execute_input": "2023-01-25T13:43:38.587020Z",
     "iopub.status.busy": "2023-01-25T13:43:38.586805Z",
     "iopub.status.idle": "2023-01-25T13:43:38.589575Z",
     "shell.execute_reply": "2023-01-25T13:43:38.589069Z",
     "shell.execute_reply.started": "2023-01-25T13:43:38.587004Z"
    },
    "tags": []
   },
   "outputs": [],
   "source": [
    "import lsst.daf.butler as dafButler"
   ]
  },
  {
   "cell_type": "code",
   "execution_count": 30,
   "id": "f2676824-f66f-4714-9a5d-39f9578401cd",
   "metadata": {
    "execution": {
     "iopub.execute_input": "2023-01-25T14:26:23.465467Z",
     "iopub.status.busy": "2023-01-25T14:26:23.464703Z",
     "iopub.status.idle": "2023-01-25T14:26:23.468397Z",
     "shell.execute_reply": "2023-01-25T14:26:23.467831Z",
     "shell.execute_reply.started": "2023-01-25T14:26:23.465439Z"
    }
   },
   "outputs": [],
   "source": [
    "import warnings\n",
    "warnings.filterwarnings(\"ignore\")"
   ]
  },
  {
   "cell_type": "markdown",
   "id": "7f4a3dde-da84-4f8c-94fd-b0332fb5d655",
   "metadata": {},
   "source": [
    "# Configuration"
   ]
  },
  {
   "cell_type": "code",
   "execution_count": 7,
   "id": "1b7fa070-57bd-465d-9999-a6b366d5070a",
   "metadata": {
    "execution": {
     "iopub.execute_input": "2023-01-25T13:43:38.590460Z",
     "iopub.status.busy": "2023-01-25T13:43:38.590282Z",
     "iopub.status.idle": "2023-01-25T13:43:38.596255Z",
     "shell.execute_reply": "2023-01-25T13:43:38.595755Z",
     "shell.execute_reply.started": "2023-01-25T13:43:38.590444Z"
    },
    "tags": []
   },
   "outputs": [],
   "source": [
    "FLAG_PLOT=False"
   ]
  },
  {
   "cell_type": "code",
   "execution_count": 8,
   "id": "ce90fb91-99b4-4e42-8637-365bd65fc0e1",
   "metadata": {
    "execution": {
     "iopub.execute_input": "2023-01-25T13:43:38.597269Z",
     "iopub.status.busy": "2023-01-25T13:43:38.596925Z",
     "iopub.status.idle": "2023-01-25T13:43:38.601143Z",
     "shell.execute_reply": "2023-01-25T13:43:38.600648Z",
     "shell.execute_reply.started": "2023-01-25T13:43:38.597253Z"
    },
    "tags": []
   },
   "outputs": [],
   "source": [
    "DATE = 20230117\n",
    "FILTER=\"empty-holo4_003\"\n",
    "#FILTER=\"BG40_65mm_1-holo4_003\"\n",
    "#FILTER=\"OG550_65mm_1-holo4_003\"\n",
    "\n",
    "#DATE = 20230118\n",
    "#FILTER = \"BG40_65mm_1-holo4_003\"\n",
    "#FILTER = \"OG550_65mm_1-holo4_003\"\n",
    "#FILTER = \"empty-holo4_003\"\n",
    "\n",
    "#DATE = 20230119\n",
    "#FILTER=\"empty-holo4_003\"\n",
    "#FILTER=\"BG40_65mm_1-holo4_003\"\n",
    "#FILTER=\"OG550_65mm_1-holo4_003\"\n",
    "\n",
    "\n",
    "#filename_visits = f\"visitdispersers_{DATE}_filt_{FILTER}.list\"\n",
    "filename_visits = f\"all_visitdispersers/{DATE}/visitdispersers_{DATE}_filt_{FILTER}.list\""
   ]
  },
  {
   "cell_type": "code",
   "execution_count": 9,
   "id": "0b1d8cd0-a59d-4829-8203-1096d3a4146b",
   "metadata": {
    "execution": {
     "iopub.execute_input": "2023-01-25T13:43:38.601996Z",
     "iopub.status.busy": "2023-01-25T13:43:38.601787Z",
     "iopub.status.idle": "2023-01-25T13:43:38.605574Z",
     "shell.execute_reply": "2023-01-25T13:43:38.605042Z",
     "shell.execute_reply.started": "2023-01-25T13:43:38.601981Z"
    },
    "tags": []
   },
   "outputs": [],
   "source": [
    "top_path_out=\"my_postisrccd_img\"\n",
    "path_out=f\"{top_path_out}/{DATE}\""
   ]
  },
  {
   "cell_type": "code",
   "execution_count": 10,
   "id": "01aa4d52-809c-40e1-96f6-29b42d1b1d3c",
   "metadata": {
    "execution": {
     "iopub.execute_input": "2023-01-25T13:43:38.606492Z",
     "iopub.status.busy": "2023-01-25T13:43:38.606240Z",
     "iopub.status.idle": "2023-01-25T13:43:38.612023Z",
     "shell.execute_reply": "2023-01-25T13:43:38.611453Z",
     "shell.execute_reply.started": "2023-01-25T13:43:38.606477Z"
    },
    "tags": []
   },
   "outputs": [],
   "source": [
    "if not os.path.exists(path_out):\n",
    "    os.makedirs(path_out)"
   ]
  },
  {
   "cell_type": "markdown",
   "id": "253a575f-e467-4b3d-ab0a-f26542f13dc1",
   "metadata": {},
   "source": [
    "# read list of exposures\n",
    "\n",
    "- generated by ListOfExposures-hologram.ipynb"
   ]
  },
  {
   "cell_type": "code",
   "execution_count": 11,
   "id": "88e09b46-88ad-4e99-a062-f4a740e0ddac",
   "metadata": {
    "execution": {
     "iopub.execute_input": "2023-01-25T13:43:38.612950Z",
     "iopub.status.busy": "2023-01-25T13:43:38.612723Z",
     "iopub.status.idle": "2023-01-25T13:43:38.623614Z",
     "shell.execute_reply": "2023-01-25T13:43:38.623106Z",
     "shell.execute_reply.started": "2023-01-25T13:43:38.612933Z"
    },
    "tags": []
   },
   "outputs": [
    {
     "data": {
      "text/html": [
       "<div>\n",
       "<style scoped>\n",
       "    .dataframe tbody tr th:only-of-type {\n",
       "        vertical-align: middle;\n",
       "    }\n",
       "\n",
       "    .dataframe tbody tr th {\n",
       "        vertical-align: top;\n",
       "    }\n",
       "\n",
       "    .dataframe thead th {\n",
       "        text-align: right;\n",
       "    }\n",
       "</style>\n",
       "<table border=\"1\" class=\"dataframe\">\n",
       "  <thead>\n",
       "    <tr style=\"text-align: right;\">\n",
       "      <th></th>\n",
       "      <th>date</th>\n",
       "      <th>seq</th>\n",
       "    </tr>\n",
       "  </thead>\n",
       "  <tbody>\n",
       "    <tr>\n",
       "      <th>0</th>\n",
       "      <td>20230117</td>\n",
       "      <td>239</td>\n",
       "    </tr>\n",
       "    <tr>\n",
       "      <th>1</th>\n",
       "      <td>20230117</td>\n",
       "      <td>243</td>\n",
       "    </tr>\n",
       "    <tr>\n",
       "      <th>2</th>\n",
       "      <td>20230117</td>\n",
       "      <td>244</td>\n",
       "    </tr>\n",
       "    <tr>\n",
       "      <th>3</th>\n",
       "      <td>20230117</td>\n",
       "      <td>248</td>\n",
       "    </tr>\n",
       "    <tr>\n",
       "      <th>4</th>\n",
       "      <td>20230117</td>\n",
       "      <td>249</td>\n",
       "    </tr>\n",
       "    <tr>\n",
       "      <th>...</th>\n",
       "      <td>...</td>\n",
       "      <td>...</td>\n",
       "    </tr>\n",
       "    <tr>\n",
       "      <th>78</th>\n",
       "      <td>20230117</td>\n",
       "      <td>670</td>\n",
       "    </tr>\n",
       "    <tr>\n",
       "      <th>79</th>\n",
       "      <td>20230117</td>\n",
       "      <td>678</td>\n",
       "    </tr>\n",
       "    <tr>\n",
       "      <th>80</th>\n",
       "      <td>20230117</td>\n",
       "      <td>679</td>\n",
       "    </tr>\n",
       "    <tr>\n",
       "      <th>81</th>\n",
       "      <td>20230117</td>\n",
       "      <td>687</td>\n",
       "    </tr>\n",
       "    <tr>\n",
       "      <th>82</th>\n",
       "      <td>20230117</td>\n",
       "      <td>688</td>\n",
       "    </tr>\n",
       "  </tbody>\n",
       "</table>\n",
       "<p>83 rows × 2 columns</p>\n",
       "</div>"
      ],
      "text/plain": [
       "        date  seq\n",
       "0   20230117  239\n",
       "1   20230117  243\n",
       "2   20230117  244\n",
       "3   20230117  248\n",
       "4   20230117  249\n",
       "..       ...  ...\n",
       "78  20230117  670\n",
       "79  20230117  678\n",
       "80  20230117  679\n",
       "81  20230117  687\n",
       "82  20230117  688\n",
       "\n",
       "[83 rows x 2 columns]"
      ]
     },
     "execution_count": 11,
     "metadata": {},
     "output_type": "execute_result"
    }
   ],
   "source": [
    "df = pd.read_csv(filename_visits, header=None,skiprows = 1, sep=' ',names=[\"date\",\"seq\"])\n",
    "df"
   ]
  },
  {
   "cell_type": "code",
   "execution_count": 12,
   "id": "5cc792a3-8e45-48b8-af4b-4475b658f926",
   "metadata": {
    "execution": {
     "iopub.execute_input": "2023-01-25T13:43:38.624518Z",
     "iopub.status.busy": "2023-01-25T13:43:38.624306Z",
     "iopub.status.idle": "2023-01-25T13:43:38.631461Z",
     "shell.execute_reply": "2023-01-25T13:43:38.630938Z",
     "shell.execute_reply.started": "2023-01-25T13:43:38.624501Z"
    },
    "tags": []
   },
   "outputs": [
    {
     "name": "stdout",
     "output_type": "stream",
     "text": [
      "2023011700239\n",
      "2023011700243\n",
      "2023011700244\n",
      "2023011700248\n",
      "2023011700249\n",
      "2023011700265\n",
      "2023011700266\n",
      "2023011700275\n",
      "2023011700276\n",
      "2023011700285\n",
      "2023011700286\n",
      "2023011700297\n",
      "2023011700298\n",
      "2023011700316\n",
      "2023011700317\n",
      "2023011700325\n",
      "2023011700326\n",
      "2023011700334\n",
      "2023011700335\n",
      "2023011700348\n",
      "2023011700349\n",
      "2023011700363\n",
      "2023011700364\n",
      "2023011700375\n",
      "2023011700376\n",
      "2023011700389\n",
      "2023011700390\n",
      "2023011700411\n",
      "2023011700412\n",
      "2023011700420\n",
      "2023011700421\n",
      "2023011700429\n",
      "2023011700430\n",
      "2023011700438\n",
      "2023011700439\n",
      "2023011700447\n",
      "2023011700448\n",
      "2023011700457\n",
      "2023011700458\n",
      "2023011700467\n",
      "2023011700468\n",
      "2023011700476\n",
      "2023011700477\n",
      "2023011700486\n",
      "2023011700487\n",
      "2023011700496\n",
      "2023011700497\n",
      "2023011700505\n",
      "2023011700506\n",
      "2023011700514\n",
      "2023011700515\n",
      "2023011700524\n",
      "2023011700525\n",
      "2023011700534\n",
      "2023011700535\n",
      "2023011700543\n",
      "2023011700544\n",
      "2023011700552\n",
      "2023011700553\n",
      "2023011700561\n",
      "2023011700562\n",
      "2023011700570\n",
      "2023011700571\n",
      "2023011700589\n",
      "2023011700590\n",
      "2023011700598\n",
      "2023011700599\n",
      "2023011700607\n",
      "2023011700608\n",
      "2023011700616\n",
      "2023011700617\n",
      "2023011700632\n",
      "2023011700633\n",
      "2023011700646\n",
      "2023011700647\n",
      "2023011700660\n",
      "2023011700661\n",
      "2023011700669\n",
      "2023011700670\n",
      "2023011700678\n",
      "2023011700679\n",
      "2023011700687\n",
      "2023011700688\n"
     ]
    }
   ],
   "source": [
    "for index,row in df.iterrows():\n",
    "    exposure_selected =row[\"date\"]*100000+row[\"seq\"]\n",
    "    print(exposure_selected)"
   ]
  },
  {
   "cell_type": "markdown",
   "id": "b67586ea-b4bf-4959-87f3-b231320a5bf8",
   "metadata": {},
   "source": [
    "## Select flags options"
   ]
  },
  {
   "cell_type": "code",
   "execution_count": 13,
   "id": "655de8b8-3109-4a63-bcc7-3be31e9a514d",
   "metadata": {
    "execution": {
     "iopub.execute_input": "2023-01-25T13:43:38.632319Z",
     "iopub.status.busy": "2023-01-25T13:43:38.632124Z",
     "iopub.status.idle": "2023-01-25T13:43:38.635306Z",
     "shell.execute_reply": "2023-01-25T13:43:38.634819Z",
     "shell.execute_reply.started": "2023-01-25T13:43:38.632304Z"
    },
    "tags": []
   },
   "outputs": [],
   "source": [
    "FLAG_ROTATE_IMG = True\n",
    "FLAG_TRANSFORM = True"
   ]
  },
  {
   "cell_type": "markdown",
   "id": "a6230ef7-ddeb-4430-af47-320b8f72c840",
   "metadata": {},
   "source": [
    "## Transformations\n",
    "astropy scale transformations"
   ]
  },
  {
   "cell_type": "code",
   "execution_count": 14,
   "id": "257001ba-731c-4d13-bd0d-4c68a3cd6829",
   "metadata": {
    "execution": {
     "iopub.execute_input": "2023-01-25T13:43:38.636200Z",
     "iopub.status.busy": "2023-01-25T13:43:38.635973Z",
     "iopub.status.idle": "2023-01-25T13:43:38.640528Z",
     "shell.execute_reply": "2023-01-25T13:43:38.640032Z",
     "shell.execute_reply.started": "2023-01-25T13:43:38.636185Z"
    },
    "tags": []
   },
   "outputs": [],
   "source": [
    "transform = AsinhStretch() + PercentileInterval(99.)\n",
    "#transform = PercentileInterval(98.)"
   ]
  },
  {
   "cell_type": "markdown",
   "id": "60ba89aa-c9c0-46b4-a330-88a969a88039",
   "metadata": {},
   "source": [
    "## Butler"
   ]
  },
  {
   "cell_type": "code",
   "execution_count": 15,
   "id": "7c5944d1-0cbb-42bc-9ea9-a7ff39e25a01",
   "metadata": {
    "execution": {
     "iopub.execute_input": "2023-01-25T13:43:38.641504Z",
     "iopub.status.busy": "2023-01-25T13:43:38.641252Z",
     "iopub.status.idle": "2023-01-25T13:43:39.608962Z",
     "shell.execute_reply": "2023-01-25T13:43:39.608282Z",
     "shell.execute_reply.started": "2023-01-25T13:43:38.641489Z"
    },
    "tags": []
   },
   "outputs": [],
   "source": [
    "#repo = '/sdf/group/rubin/repo/main'\n",
    "repo=\"/sdf/group/rubin/repo/oga/\"\n",
    "butler = dafButler.Butler(repo)\n",
    "registry = butler.registry"
   ]
  },
  {
   "cell_type": "code",
   "execution_count": 16,
   "id": "b6b5b19c-69d1-4f06-9c8b-3a3d5e8d8e89",
   "metadata": {
    "execution": {
     "iopub.execute_input": "2023-01-25T13:43:39.609998Z",
     "iopub.status.busy": "2023-01-25T13:43:39.609807Z",
     "iopub.status.idle": "2023-01-25T13:43:39.612761Z",
     "shell.execute_reply": "2023-01-25T13:43:39.612244Z",
     "shell.execute_reply.started": "2023-01-25T13:43:39.609980Z"
    },
    "tags": []
   },
   "outputs": [],
   "source": [
    "collection='LATISS/raw/all'"
   ]
  },
  {
   "cell_type": "code",
   "execution_count": 17,
   "id": "412567bf-4590-4259-95bd-92ac85a927f7",
   "metadata": {
    "execution": {
     "iopub.execute_input": "2023-01-25T13:43:39.613689Z",
     "iopub.status.busy": "2023-01-25T13:43:39.613436Z",
     "iopub.status.idle": "2023-01-25T13:43:39.641127Z",
     "shell.execute_reply": "2023-01-25T13:43:39.640626Z",
     "shell.execute_reply.started": "2023-01-25T13:43:39.613672Z"
    },
    "tags": []
   },
   "outputs": [],
   "source": [
    "# configuration\n",
    "isr_config =  IsrTaskConfig()"
   ]
  },
  {
   "cell_type": "code",
   "execution_count": 18,
   "id": "128d48a0-eb3b-46b8-85a7-335654132c44",
   "metadata": {
    "execution": {
     "iopub.execute_input": "2023-01-25T13:43:39.641922Z",
     "iopub.status.busy": "2023-01-25T13:43:39.641753Z",
     "iopub.status.idle": "2023-01-25T13:43:39.645316Z",
     "shell.execute_reply": "2023-01-25T13:43:39.644808Z",
     "shell.execute_reply.started": "2023-01-25T13:43:39.641907Z"
    },
    "tags": []
   },
   "outputs": [],
   "source": [
    "isr_config.doDark = False\n",
    "isr_config.doFlat =  False\n",
    "isr_config.doFringe = False\n",
    "isr_config.doDefect = True\n",
    "isr_config.doLinearize = False\n",
    "isr_config.doCrosstalk =  False\n",
    "isr_config.doSaturationInterpolation = False\n",
    "isr_config.overscan.fitType: 'MEDIAN_PER_ROW'\n",
    "isr_config.doBias: True\n"
   ]
  },
  {
   "cell_type": "code",
   "execution_count": 19,
   "id": "176a179f-8d79-4625-82e5-14556ae34836",
   "metadata": {
    "execution": {
     "iopub.execute_input": "2023-01-25T13:43:39.646149Z",
     "iopub.status.busy": "2023-01-25T13:43:39.645948Z",
     "iopub.status.idle": "2023-01-25T13:43:39.649841Z",
     "shell.execute_reply": "2023-01-25T13:43:39.649363Z",
     "shell.execute_reply.started": "2023-01-25T13:43:39.646134Z"
    },
    "tags": []
   },
   "outputs": [],
   "source": [
    "isr_task = IsrTask(config=isr_config)"
   ]
  },
  {
   "cell_type": "code",
   "execution_count": 20,
   "id": "dcb4d110-f987-48d8-aafc-33eeadfa12b1",
   "metadata": {
    "execution": {
     "iopub.execute_input": "2023-01-25T13:43:39.650798Z",
     "iopub.status.busy": "2023-01-25T13:43:39.650548Z",
     "iopub.status.idle": "2023-01-25T13:43:39.656539Z",
     "shell.execute_reply": "2023-01-25T13:43:39.656073Z",
     "shell.execute_reply.started": "2023-01-25T13:43:39.650780Z"
    },
    "tags": []
   },
   "outputs": [],
   "source": [
    "calibType = 'bias'\n",
    "physical_filter = 'empty~empty'\n",
    "cameraName = 'LATISS'\n",
    "# Collection name containing the verification outputs.\n",
    "calibCollections = ['LATISS/calib','LATISS/raw/all',\n",
    "                   'LATISS/calib/DM-28636',\n",
    "'LATISS/calib/DM-28636/curated/19700101T000000Z',\n",
    "'LATISS/calib/DM-28636/curated/20180101T000000Z',\n",
    "'LATISS/calib/DM-28636/unbounded',\n",
    "'LATISS/calib/DM-33875',\n",
    "'LATISS/calib/DM-36484/bias.20221005a',\n",
    "'LATISS/calib/DM-36484/biasGen.20221005a',\n",
    "'LATISS/calib/DM-36484/biasGen.20221005a/20221006T000101Z',\n",
    "'LATISS/calib/DM-36484/dark.20221006a',\n",
    "'LATISS/calib/DM-36484/darkGen.20221005a',\n",
    "'LATISS/calib/DM-36484/darkGen.20221005a/20221006T222501Z',\n",
    "'LATISS/calib/DM-36484/darkGen.20221006a',\n",
    "'LATISS/calib/DM-36484/darkGen.20221006a/20221006T222921Z',\n",
    "'LATISS/calib/DM-36484/flat-SDSSg.20221006a',\n",
    "'LATISS/calib/DM-36484/flat-SDSSi.20221006a',\n",
    "'LATISS/calib/DM-36484/flat-SDSSr.20221006a',\n",
    "'LATISS/calib/DM-36484/flatGen-SDSSg.20221006a',\n",
    "'LATISS/calib/DM-36484/flatGen-SDSSg.20221006a/20221007T002703Z',\n",
    "'LATISS/calib/DM-36484/flatGen-SDSSi.20221006a',\n",
    "'LATISS/calib/DM-36484/flatGen-SDSSi.20221006a/20221007T003732Z',\n",
    "'LATISS/calib/DM-36484/flatGen-SDSSiD.20221006a',\n",
    "'LATISS/calib/DM-36484/flatGen-SDSSiD.20221006a/20221007T004708Z',\n",
    "'LATISS/calib/DM-36484/flatGen-SDSSr.20221006a',\n",
    "'LATISS/calib/DM-36484/flatGen-SDSSr.20221006a/20221006T233657Z',\n",
    "'LATISS/calib/DM-36484/verifyBias.20221005a',\n",
    "'LATISS/calib/DM-36484/verifyBias.20221005a/20221006T000747Z',\n",
    "'LATISS/calib/DM-36484/verifyBias.20221005a/20221006T213237Z',\n",
    "'LATISS/calib/DM-36484/verifyBias.20221005b',\n",
    "'LATISS/calib/DM-36484/verifyBias.20221005b/20221019T205236Z',\n",
    "'LATISS/calib/DM-36484/verifyDark.20221006a',\n",
    "'LATISS/calib/DM-36484/verifyDark.20221006a/20221006T224403Z',\n",
    "'LATISS/calib/DM-36484/verifyFlat-SDSSg.20221006a',\n",
    "'LATISS/calib/DM-36484/verifyFlat-SDSSg.20221006a/20221007T003418Z',\n",
    "'LATISS/calib/DM-36484/verifyFlat-SDSSi.20221006a',\n",
    "'LATISS/calib/DM-36484/verifyFlat-SDSSi.20221006a/20221007T004423Z',\n",
    "'LATISS/calib/DM-36484/verifyFlat-SDSSr.20221006a',\n",
    "'LATISS/calib/DM-36484/verifyFlat-SDSSr.20221006a/20221006T234341Z',\n",
    "'LATISS/calib/DM-36719',\n",
    "'LATISS/calib/DM-36719/bias.20221107',\n",
    "'LATISS/calib/DM-36719/biasGen.20221107a',\n",
    "'LATISS/calib/DM-36719/biasGen.20221107a/20221107T205127Z',\n",
    "'LATISS/calib/DM-36719/biasGen.20221107b',\n",
    "'LATISS/calib/DM-36719/biasGen.20221107b/20221107T213306Z',\n",
    "'LATISS/calib/DM-36719/dark.20221107',\n",
    "'LATISS/calib/DM-36719/darkGen.20221107a',\n",
    "'LATISS/calib/DM-36719/darkGen.20221107a/20221107T223409Z',\n",
    "'LATISS/calib/DM-36719/flat-SDSSg.20221107',\n",
    "'LATISS/calib/DM-36719/flat-SDSSi.20221107',\n",
    "'LATISS/calib/DM-36719/flat-SDSSr.20221107',\n",
    "'LATISS/calib/DM-36719/flatGen-SDSSg.20221107a',\n",
    "'LATISS/calib/DM-36719/flatGen-SDSSg.20221107a/20221108T002737Z',\n",
    "'LATISS/calib/DM-36719/flatGen-SDSSi.20221107a',\n",
    "'LATISS/calib/DM-36719/flatGen-SDSSi.20221107a/20221108T005202Z',\n",
    "'LATISS/calib/DM-36719/flatGen-SDSSr.20221107a',\n",
    "'LATISS/calib/DM-36719/flatGen-SDSSr.20221107a/20221107T235401Z',\n",
    "'LATISS/calib/DM-36719/ptcGen-SDSSr.20221107a',\n",
    "'LATISS/calib/DM-36719/ptcGen-SDSSr.20221107a/20221108T180421Z',\n",
    "'LATISS/calib/DM-36719/verifyBias.20221107b',\n",
    "'LATISS/calib/DM-36719/verifyBias.20221107b/20221107T220410Z',\n",
    "'LATISS/calib/DM-36719/verifyDark.20221107a',\n",
    "'LATISS/calib/DM-36719/verifyDark.20221107a/20221107T232823Z',\n",
    "'LATISS/calib/DM-36719/verifyFlat-SDSSg.20221107a',\n",
    "'LATISS/calib/DM-36719/verifyFlat-SDSSg.20221107a/20221108T004225Z',\n",
    "'LATISS/calib/DM-36719/verifyFlat-SDSSi.20221107a',\n",
    "'LATISS/calib/DM-36719/verifyFlat-SDSSi.20221107a/20221108T012110Z',\n",
    "'LATISS/calib/DM-36719/verifyFlat-SDSSi.20221107a/20221108T014950Z',\n",
    "'LATISS/calib/DM-36719/verifyFlat-SDSSr.20221107a',\n",
    "'LATISS/calib/DM-36719/verifyFlat-SDSSr.20221107a/20221108T000940Z',\n",
    "'LATISS/calib/unbounded','LATISS/defaults','LATISS/raw/all']"
   ]
  },
  {
   "cell_type": "code",
   "execution_count": 21,
   "id": "ca24467e-a7e0-4838-ba0f-c37475fbc601",
   "metadata": {
    "execution": {
     "iopub.execute_input": "2023-01-25T13:43:39.657333Z",
     "iopub.status.busy": "2023-01-25T13:43:39.657172Z",
     "iopub.status.idle": "2023-01-25T13:43:43.249761Z",
     "shell.execute_reply": "2023-01-25T13:43:43.249173Z",
     "shell.execute_reply.started": "2023-01-25T13:43:39.657318Z"
    },
    "tags": []
   },
   "outputs": [],
   "source": [
    "butler = dafButler.Butler(repo, collections=calibCollections)\n",
    "camera = butler.get('camera', instrument=cameraName)\n",
    "bias = butler.get('bias',instrument=cameraName,detector=0)\n",
    "defects = butler.get('defects',instrument=cameraName,detector=0)\n"
   ]
  },
  {
   "cell_type": "code",
   "execution_count": 22,
   "id": "b6351e4f-030b-4712-ab7c-452e2ab04118",
   "metadata": {
    "execution": {
     "iopub.execute_input": "2023-01-25T13:43:43.250941Z",
     "iopub.status.busy": "2023-01-25T13:43:43.250672Z",
     "iopub.status.idle": "2023-01-25T13:43:43.255826Z",
     "shell.execute_reply": "2023-01-25T13:43:43.255328Z",
     "shell.execute_reply.started": "2023-01-25T13:43:43.250924Z"
    }
   },
   "outputs": [],
   "source": [
    "if FLAG_PLOT:\n",
    "    for index,row in df.iterrows():\n",
    "        exposure_selected =row[\"date\"]*100000+row[\"seq\"]\n",
    "\n",
    "\n",
    "\n",
    "        raw_img= butler.get('raw', dataId={'exposure': exposure_selected, 'instrument': 'LATISS', 'detector': 0}, collections = collection)\n",
    "        bias = butler.get(\"bias\",instrument=cameraName, exposure= exposure_selected , detector=0, collections=calibCollections)\n",
    "        defects = butler.get('defects',instrument=cameraName, exposure= exposure_selected ,detector=0,collections=calibCollections)\n",
    "    \n",
    "        meta = raw_img.getMetadata()\n",
    "        md = meta.toDict()\n",
    "    \n",
    "        the_object = md['OBJECT']\n",
    "        the_am= md['AMSTART']\n",
    "        the_filter=md['FILTER']\n",
    "    \n",
    "        #fast ISR \n",
    "        isr_img = isr_task.run(raw_img,bias=bias,defects=defects)\n",
    "    \n",
    "        rotated_array = isr_img.exposure.image.array[::-1,::-1] #rotate the array 180 degrees\n",
    "        #np.flip(np.flip(a, 1), 0)\n",
    "\n",
    "    \n",
    "        fig = plt.figure(figsize=(12,10))\n",
    "        afw_display = afwDisplay.Display(frame=fig)\n",
    "        afw_display.scale('linear', 'zscale',None)\n",
    "        the_title = f\"{index} :: isr exposure : {exposure_selected}, target={the_object}, airmass={the_am:.2f}, filter={the_filter}\"\n",
    "        afw_display.mtv(isr_img.exposure.image,title=the_title)"
   ]
  },
  {
   "cell_type": "code",
   "execution_count": 23,
   "id": "664b22c2-d2c4-4454-bbf9-f835ac11dd31",
   "metadata": {
    "execution": {
     "iopub.execute_input": "2023-01-25T13:43:43.256645Z",
     "iopub.status.busy": "2023-01-25T13:43:43.256480Z",
     "iopub.status.idle": "2023-01-25T13:43:43.261943Z",
     "shell.execute_reply": "2023-01-25T13:43:43.261450Z",
     "shell.execute_reply.started": "2023-01-25T13:43:43.256630Z"
    }
   },
   "outputs": [],
   "source": [
    "# Save in files"
   ]
  },
  {
   "cell_type": "code",
   "execution_count": 31,
   "id": "cc338e02-3434-4bcf-a4a2-8769a506c76e",
   "metadata": {
    "execution": {
     "iopub.execute_input": "2023-01-25T14:26:44.552162Z",
     "iopub.status.busy": "2023-01-25T14:26:44.551442Z",
     "iopub.status.idle": "2023-01-25T14:26:49.237867Z",
     "shell.execute_reply": "2023-01-25T14:26:49.237352Z",
     "shell.execute_reply.started": "2023-01-25T14:26:44.552139Z"
    },
    "tags": []
   },
   "outputs": [
    {
     "name": "stdout",
     "output_type": "stream",
     "text": [
      "exposure selected = 2023011700239\n"
     ]
    },
    {
     "data": {
      "text/html": [
       "<pre style=\"margin: 0.1em;\n",
       "padding-left: 0.25em;\n",
       "border-left-style: solid;\n",
       "font-family: var(--jp-code-font-family);\n",
       "font-size: var(--jp-code-font-size);\n",
       "line-height: var(--jp-code-line-height);\n",
       "\"><span style=\"color: var(--jp-warn-color2)\">lsst.isr</span> <span style=\"color: var(--jp-info-color0)\">INFO</span>: Converting exposure to floating point values.</pre>"
      ],
      "text/plain": [
       "<IPython.core.display.HTML object>"
      ]
     },
     "metadata": {},
     "output_type": "display_data"
    },
    {
     "data": {
      "text/html": [
       "<pre style=\"margin: 0.1em;\n",
       "padding-left: 0.25em;\n",
       "border-left-style: solid;\n",
       "font-family: var(--jp-code-font-family);\n",
       "font-size: var(--jp-code-font-size);\n",
       "line-height: var(--jp-code-line-height);\n",
       "\"><span style=\"color: var(--jp-warn-color2)\">lsst.isr</span> <span style=\"color: var(--jp-info-color0)\">INFO</span>: Assembling CCD from amplifiers.</pre>"
      ],
      "text/plain": [
       "<IPython.core.display.HTML object>"
      ]
     },
     "metadata": {},
     "output_type": "display_data"
    },
    {
     "data": {
      "text/html": [
       "<pre style=\"margin: 0.1em;\n",
       "padding-left: 0.25em;\n",
       "border-left-style: solid;\n",
       "font-family: var(--jp-code-font-family);\n",
       "font-size: var(--jp-code-font-size);\n",
       "line-height: var(--jp-code-line-height);\n",
       "\"><span style=\"color: var(--jp-warn-color2)\">lsst.isr</span> <span style=\"color: var(--jp-info-color0)\">INFO</span>: Applying bias correction.</pre>"
      ],
      "text/plain": [
       "<IPython.core.display.HTML object>"
      ]
     },
     "metadata": {},
     "output_type": "display_data"
    },
    {
     "data": {
      "text/html": [
       "<pre style=\"margin: 0.1em;\n",
       "padding-left: 0.25em;\n",
       "border-left-style: solid;\n",
       "font-family: var(--jp-code-font-family);\n",
       "font-size: var(--jp-code-font-size);\n",
       "line-height: var(--jp-code-line-height);\n",
       "\"><span style=\"color: var(--jp-warn-color2)\">lsst.isr</span> <span style=\"color: var(--jp-info-color0)\">INFO</span>: Masking defects.</pre>"
      ],
      "text/plain": [
       "<IPython.core.display.HTML object>"
      ]
     },
     "metadata": {},
     "output_type": "display_data"
    },
    {
     "data": {
      "text/html": [
       "<pre style=\"margin: 0.1em;\n",
       "padding-left: 0.25em;\n",
       "border-left-style: solid;\n",
       "font-family: var(--jp-code-font-family);\n",
       "font-size: var(--jp-code-font-size);\n",
       "line-height: var(--jp-code-line-height);\n",
       "\"><span style=\"color: var(--jp-warn-color2)\">lsst.isr</span> <span style=\"color: var(--jp-info-color0)\">INFO</span>: Masking non-finite (NAN, inf) value pixels.</pre>"
      ],
      "text/plain": [
       "<IPython.core.display.HTML object>"
      ]
     },
     "metadata": {},
     "output_type": "display_data"
    },
    {
     "data": {
      "text/html": [
       "<pre style=\"margin: 0.1em;\n",
       "padding-left: 0.25em;\n",
       "border-left-style: solid;\n",
       "font-family: var(--jp-code-font-family);\n",
       "font-size: var(--jp-code-font-size);\n",
       "line-height: var(--jp-code-line-height);\n",
       "\"><span style=\"color: var(--jp-warn-color2)\">lsst.isr</span> <span style=\"color: var(--jp-info-color0)\">INFO</span>: Widening saturation trails.</pre>"
      ],
      "text/plain": [
       "<IPython.core.display.HTML object>"
      ]
     },
     "metadata": {},
     "output_type": "display_data"
    },
    {
     "data": {
      "text/html": [
       "<pre style=\"margin: 0.1em;\n",
       "padding-left: 0.25em;\n",
       "border-left-style: solid;\n",
       "font-family: var(--jp-code-font-family);\n",
       "font-size: var(--jp-code-font-size);\n",
       "line-height: var(--jp-code-line-height);\n",
       "\"><span style=\"color: var(--jp-warn-color2)\">lsst.isr</span> <span style=\"color: var(--jp-info-color0)\">INFO</span>: Set 322444 BAD pixels to 35.872959.</pre>"
      ],
      "text/plain": [
       "<IPython.core.display.HTML object>"
      ]
     },
     "metadata": {},
     "output_type": "display_data"
    },
    {
     "data": {
      "text/html": [
       "<pre style=\"margin: 0.1em;\n",
       "padding-left: 0.25em;\n",
       "border-left-style: solid;\n",
       "font-family: var(--jp-code-font-family);\n",
       "font-size: var(--jp-code-font-size);\n",
       "line-height: var(--jp-code-line-height);\n",
       "\"><span style=\"color: var(--jp-warn-color2)\">lsst.isr</span> <span style=\"color: var(--jp-info-color0)\">INFO</span>: Interpolating masked pixels.</pre>"
      ],
      "text/plain": [
       "<IPython.core.display.HTML object>"
      ]
     },
     "metadata": {},
     "output_type": "display_data"
    },
    {
     "data": {
      "text/html": [
       "<pre style=\"margin: 0.1em;\n",
       "padding-left: 0.25em;\n",
       "border-left-style: solid;\n",
       "font-family: var(--jp-code-font-family);\n",
       "font-size: var(--jp-code-font-size);\n",
       "line-height: var(--jp-code-line-height);\n",
       "\"><span style=\"color: var(--jp-warn-color2)\">lsst.isr</span> <span style=\"color: var(--jp-warn-color0)\">WARNING</span>: No rough magnitude zero point defined for filter empty~holo4_003.</pre>"
      ],
      "text/plain": [
       "<IPython.core.display.HTML object>"
      ]
     },
     "metadata": {},
     "output_type": "display_data"
    },
    {
     "data": {
      "text/html": [
       "<pre style=\"margin: 0.1em;\n",
       "padding-left: 0.25em;\n",
       "border-left-style: solid;\n",
       "font-family: var(--jp-code-font-family);\n",
       "font-size: var(--jp-code-font-size);\n",
       "line-height: var(--jp-code-line-height);\n",
       "\"><span style=\"color: var(--jp-warn-color2)\">lsst.isr</span> <span style=\"color: var(--jp-info-color0)\">INFO</span>: Setting rough magnitude zero point for filter empty~holo4_003: 31.692803</pre>"
      ],
      "text/plain": [
       "<IPython.core.display.HTML object>"
      ]
     },
     "metadata": {},
     "output_type": "display_data"
    },
    {
     "name": "stdout",
     "output_type": "stream",
     "text": [
      "exposure_2023011700239_pseudo-postisrccd.fits\n"
     ]
    }
   ],
   "source": [
    "for index,row in df.iterrows():\n",
    "    \n",
    "    exposure_selected =row[\"date\"]*100000+row[\"seq\"]\n",
    "    \n",
    "    print(f\"exposure selected = {exposure_selected}\")\n",
    "\n",
    "\n",
    "    raw_img= butler.get('raw', dataId={'exposure': exposure_selected, 'instrument': 'LATISS', 'detector': 0}, collections = collection)\n",
    "    bias = butler.get(\"bias\",instrument=cameraName, exposure= exposure_selected , detector=0, collections=calibCollections)\n",
    "    defects = butler.get('defects',instrument=cameraName, exposure= exposure_selected ,detector=0,collections=calibCollections)\n",
    "    \n",
    "    \n",
    "    isr_img = isr_task.run(raw_img,bias=bias,defects=defects)\n",
    "    \n",
    "    arr=isr_img.exposure.image.array\n",
    "    # 180 degree rotation\n",
    "    rotated_array = arr[::-1,::-1] #rotate the array 180 degrees\n",
    "    \n",
    "    \n",
    "    meta = raw_img.getMetadata()\n",
    "    md = meta.toDict()\n",
    "\n",
    "    the_object = md['OBJECT']\n",
    "    the_am= md['AMSTART']\n",
    "    the_filter=md['FILTER']\n",
    "\n",
    "    filename_out = f\"exposure_{exposure_selected}_pseudo-postisrccd.fits\"\n",
    "    fullfilename_out=os.path.join(path_out,filename_out)\n",
    "    \n",
    "    print(filename_out)\n",
    "    \n",
    "    hdr = fits.Header()\n",
    "    \n",
    "    for key,value in md.items():\n",
    "        hdr[str(key)]=value\n",
    "        \n",
    "    # need this    \n",
    "    hdr[\"AMEND\"] = hdr[\"AMSTART\"]\n",
    "    \n",
    "    # be aware weather data may be missing\n",
    "    \n",
    "        \n",
    "    hdu = fits.PrimaryHDU(data=rotated_array,header=hdr)  # with headers\n",
    "    #hdu = fits.PrimaryHDU(data=all_my_raw_array[idx])\n",
    "    \n",
    "    hdul = fits.HDUList([hdu])\n",
    "    \n",
    "    hdul.writeto(fullfilename_out,overwrite=True)\n",
    "    \n",
    "    if index>=0:\n",
    "        break\n",
    "    \n"
   ]
  },
  {
   "cell_type": "code",
   "execution_count": null,
   "id": "fbefab28-7cb2-437c-a35f-65ff1ee6c460",
   "metadata": {},
   "outputs": [],
   "source": []
  }
 ],
 "metadata": {
  "kernelspec": {
   "display_name": "LSST",
   "language": "python",
   "name": "lsst"
  },
  "language_info": {
   "codemirror_mode": {
    "name": "ipython",
    "version": 3
   },
   "file_extension": ".py",
   "mimetype": "text/x-python",
   "name": "python",
   "nbconvert_exporter": "python",
   "pygments_lexer": "ipython3",
   "version": "3.10.8"
  },
  "toc": {
   "base_numbering": 1,
   "nav_menu": {},
   "number_sections": true,
   "sideBar": true,
   "skip_h1_title": false,
   "title_cell": "Table of Contents",
   "title_sidebar": "Contents",
   "toc_cell": false,
   "toc_position": {},
   "toc_section_display": true,
   "toc_window_display": false
  }
 },
 "nbformat": 4,
 "nbformat_minor": 5
}
