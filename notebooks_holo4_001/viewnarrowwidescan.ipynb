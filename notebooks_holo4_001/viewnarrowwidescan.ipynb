{
 "cells": [
  {
   "cell_type": "markdown",
   "id": "6852cca3-8bdf-4b04-b69c-7859a57764b2",
   "metadata": {},
   "source": [
    "# Narrow scan and wide scan"
   ]
  },
  {
   "cell_type": "markdown",
   "id": "25127eaf-cece-4848-b0a3-3a6362e15c75",
   "metadata": {},
   "source": [
    "- author : Sylvie Dagoret-Campagne\n",
    "- affiliation : IJCLab/IN2P3/CNRS, DESC-LSST fullmember, behalf AuxTel Teal VERA C. Rubin observatory\n",
    "- creation date : Monday 28th 2023"
   ]
  },
  {
   "cell_type": "code",
   "execution_count": 2,
   "id": "204a42c8-0286-417e-b619-ed1c1b2fcf8e",
   "metadata": {},
   "outputs": [],
   "source": [
    "import numpy as np\n",
    "import matplotlib.pyplot as plt\n",
    "%matplotlib inline\n",
    "from mpl_toolkits.axes_grid1 import make_axes_locatable\n",
    "import pandas as pd\n",
    "\n",
    "import matplotlib.ticker                         # here's where the formatter is\n",
    "\n",
    "\n",
    "plt.rcParams[\"figure.figsize\"] = (16,4)\n",
    "plt.rcParams[\"axes.labelsize\"] = 'xx-large'\n",
    "plt.rcParams['axes.titlesize'] = 'xx-large'\n",
    "plt.rcParams['xtick.labelsize']= 'xx-large'\n",
    "plt.rcParams['ytick.labelsize']= 'xx-large'"
   ]
  },
  {
   "cell_type": "code",
   "execution_count": 3,
   "id": "d6fa07a9-4fce-4f7c-baaa-dd6b73003f77",
   "metadata": {},
   "outputs": [],
   "source": [
    "filedata=\"../data/orientations/narrowwidescan_2021-07-07_v2.csv\"\n",
    "df=pd.read_csv(filedata,index_col=0)"
   ]
  },
  {
   "cell_type": "code",
   "execution_count": 12,
   "id": "b5f3f3a9-b059-4945-94a6-88a24a779659",
   "metadata": {},
   "outputs": [],
   "source": [
    "FLAG_SELECTYRANGE = (df[\"Y(mm)\"] > -16.0) & (df[\"Y(mm)\"] < 14.0)\n",
    "df=df[FLAG_SELECTYRANGE]"
   ]
  },
  {
   "cell_type": "code",
   "execution_count": 13,
   "id": "213b7fdd-d35a-4954-b154-2f3a18e4dc1e",
   "metadata": {},
   "outputs": [],
   "source": [
    "# select narrow scan\n",
    "FLAG_SELECT_NARROWSCAN = df[\"NarrowScan\"]\n",
    "FLAG_SELECT_WIDESCAN = df[\"NarrowScan\"] != True\n",
    "df_narrowscan = df[FLAG_SELECT_NARROWSCAN]\n",
    "df_widescan = df[FLAG_SELECT_WIDESCAN]"
   ]
  },
  {
   "cell_type": "code",
   "execution_count": 14,
   "id": "0b9e0d08-e5d6-4b16-b3d1-796c6448c3c4",
   "metadata": {},
   "outputs": [
    {
     "data": {
      "text/html": [
       "<div>\n",
       "<style scoped>\n",
       "    .dataframe tbody tr th:only-of-type {\n",
       "        vertical-align: middle;\n",
       "    }\n",
       "\n",
       "    .dataframe tbody tr th {\n",
       "        vertical-align: top;\n",
       "    }\n",
       "\n",
       "    .dataframe thead th {\n",
       "        text-align: right;\n",
       "    }\n",
       "</style>\n",
       "<table border=\"1\" class=\"dataframe\">\n",
       "  <thead>\n",
       "    <tr style=\"text-align: right;\">\n",
       "      <th></th>\n",
       "      <th>X(mm)</th>\n",
       "      <th>Y(mm)</th>\n",
       "      <th>degré</th>\n",
       "      <th>tag</th>\n",
       "      <th>Xpix</th>\n",
       "      <th>Ypix</th>\n",
       "      <th>Neff</th>\n",
       "      <th>Nefferr</th>\n",
       "      <th>NarrowScan</th>\n",
       "    </tr>\n",
       "  </thead>\n",
       "  <tbody>\n",
       "    <tr>\n",
       "      <th>33</th>\n",
       "      <td>-15.002568</td>\n",
       "      <td>-0.706926</td>\n",
       "      <td>-0.162785</td>\n",
       "      <td>317</td>\n",
       "      <td>-1500.256801</td>\n",
       "      <td>-70.692597</td>\n",
       "      <td>152.047019</td>\n",
       "      <td>0.117710</td>\n",
       "      <td>True</td>\n",
       "    </tr>\n",
       "    <tr>\n",
       "      <th>34</th>\n",
       "      <td>-15.018391</td>\n",
       "      <td>0.302659</td>\n",
       "      <td>-0.190253</td>\n",
       "      <td>318</td>\n",
       "      <td>-1501.839080</td>\n",
       "      <td>30.265929</td>\n",
       "      <td>152.131678</td>\n",
       "      <td>0.122719</td>\n",
       "      <td>True</td>\n",
       "    </tr>\n",
       "    <tr>\n",
       "      <th>35</th>\n",
       "      <td>-14.982936</td>\n",
       "      <td>1.271912</td>\n",
       "      <td>-0.168207</td>\n",
       "      <td>319</td>\n",
       "      <td>-1498.293580</td>\n",
       "      <td>127.191212</td>\n",
       "      <td>152.297570</td>\n",
       "      <td>0.107075</td>\n",
       "      <td>True</td>\n",
       "    </tr>\n",
       "    <tr>\n",
       "      <th>36</th>\n",
       "      <td>-14.951200</td>\n",
       "      <td>2.272468</td>\n",
       "      <td>-0.166700</td>\n",
       "      <td>320</td>\n",
       "      <td>-1495.119952</td>\n",
       "      <td>227.246845</td>\n",
       "      <td>152.093401</td>\n",
       "      <td>0.117709</td>\n",
       "      <td>True</td>\n",
       "    </tr>\n",
       "    <tr>\n",
       "      <th>37</th>\n",
       "      <td>-15.020588</td>\n",
       "      <td>3.245897</td>\n",
       "      <td>-0.169779</td>\n",
       "      <td>321</td>\n",
       "      <td>-1502.058766</td>\n",
       "      <td>324.589715</td>\n",
       "      <td>152.494948</td>\n",
       "      <td>0.140510</td>\n",
       "      <td>True</td>\n",
       "    </tr>\n",
       "    <tr>\n",
       "      <th>38</th>\n",
       "      <td>-14.937495</td>\n",
       "      <td>4.253821</td>\n",
       "      <td>-0.174680</td>\n",
       "      <td>322</td>\n",
       "      <td>-1493.749510</td>\n",
       "      <td>425.382051</td>\n",
       "      <td>152.219014</td>\n",
       "      <td>0.126668</td>\n",
       "      <td>True</td>\n",
       "    </tr>\n",
       "    <tr>\n",
       "      <th>39</th>\n",
       "      <td>-14.899517</td>\n",
       "      <td>5.241174</td>\n",
       "      <td>-0.178528</td>\n",
       "      <td>323</td>\n",
       "      <td>-1489.951749</td>\n",
       "      <td>524.117394</td>\n",
       "      <td>152.520340</td>\n",
       "      <td>0.135739</td>\n",
       "      <td>True</td>\n",
       "    </tr>\n",
       "    <tr>\n",
       "      <th>40</th>\n",
       "      <td>-15.959115</td>\n",
       "      <td>-1.065228</td>\n",
       "      <td>-0.163014</td>\n",
       "      <td>324</td>\n",
       "      <td>-1595.911484</td>\n",
       "      <td>-106.522817</td>\n",
       "      <td>152.064066</td>\n",
       "      <td>0.138760</td>\n",
       "      <td>True</td>\n",
       "    </tr>\n",
       "    <tr>\n",
       "      <th>41</th>\n",
       "      <td>-15.976251</td>\n",
       "      <td>-0.070602</td>\n",
       "      <td>-0.167150</td>\n",
       "      <td>325</td>\n",
       "      <td>-1597.625139</td>\n",
       "      <td>-7.060212</td>\n",
       "      <td>152.088460</td>\n",
       "      <td>0.107080</td>\n",
       "      <td>True</td>\n",
       "    </tr>\n",
       "    <tr>\n",
       "      <th>42</th>\n",
       "      <td>-15.914033</td>\n",
       "      <td>0.925405</td>\n",
       "      <td>-0.169371</td>\n",
       "      <td>326</td>\n",
       "      <td>-1591.403338</td>\n",
       "      <td>92.540517</td>\n",
       "      <td>152.056379</td>\n",
       "      <td>0.120354</td>\n",
       "      <td>True</td>\n",
       "    </tr>\n",
       "    <tr>\n",
       "      <th>43</th>\n",
       "      <td>-15.861598</td>\n",
       "      <td>2.902365</td>\n",
       "      <td>-0.170870</td>\n",
       "      <td>328</td>\n",
       "      <td>-1586.159815</td>\n",
       "      <td>290.236549</td>\n",
       "      <td>152.273588</td>\n",
       "      <td>0.111615</td>\n",
       "      <td>True</td>\n",
       "    </tr>\n",
       "    <tr>\n",
       "      <th>44</th>\n",
       "      <td>-15.869848</td>\n",
       "      <td>3.898473</td>\n",
       "      <td>-0.166778</td>\n",
       "      <td>329</td>\n",
       "      <td>-1586.984772</td>\n",
       "      <td>389.847323</td>\n",
       "      <td>152.242116</td>\n",
       "      <td>0.126667</td>\n",
       "      <td>True</td>\n",
       "    </tr>\n",
       "    <tr>\n",
       "      <th>45</th>\n",
       "      <td>-15.824127</td>\n",
       "      <td>4.905326</td>\n",
       "      <td>-0.172738</td>\n",
       "      <td>330</td>\n",
       "      <td>-1582.412662</td>\n",
       "      <td>490.532643</td>\n",
       "      <td>151.932216</td>\n",
       "      <td>0.126734</td>\n",
       "      <td>True</td>\n",
       "    </tr>\n",
       "    <tr>\n",
       "      <th>46</th>\n",
       "      <td>-16.932534</td>\n",
       "      <td>-1.417821</td>\n",
       "      <td>-0.166622</td>\n",
       "      <td>331</td>\n",
       "      <td>-1693.253361</td>\n",
       "      <td>-141.782073</td>\n",
       "      <td>152.370169</td>\n",
       "      <td>0.130511</td>\n",
       "      <td>True</td>\n",
       "    </tr>\n",
       "    <tr>\n",
       "      <th>47</th>\n",
       "      <td>-16.915767</td>\n",
       "      <td>-0.449185</td>\n",
       "      <td>-0.165954</td>\n",
       "      <td>332</td>\n",
       "      <td>-1691.576692</td>\n",
       "      <td>-44.918509</td>\n",
       "      <td>152.173775</td>\n",
       "      <td>0.123416</td>\n",
       "      <td>True</td>\n",
       "    </tr>\n",
       "    <tr>\n",
       "      <th>48</th>\n",
       "      <td>-16.872016</td>\n",
       "      <td>1.542423</td>\n",
       "      <td>-0.169811</td>\n",
       "      <td>334</td>\n",
       "      <td>-1687.201594</td>\n",
       "      <td>154.242324</td>\n",
       "      <td>152.200965</td>\n",
       "      <td>0.126668</td>\n",
       "      <td>True</td>\n",
       "    </tr>\n",
       "    <tr>\n",
       "      <th>49</th>\n",
       "      <td>-16.870783</td>\n",
       "      <td>2.549532</td>\n",
       "      <td>-0.168755</td>\n",
       "      <td>335</td>\n",
       "      <td>-1687.078334</td>\n",
       "      <td>254.953221</td>\n",
       "      <td>152.120020</td>\n",
       "      <td>0.109183</td>\n",
       "      <td>True</td>\n",
       "    </tr>\n",
       "    <tr>\n",
       "      <th>50</th>\n",
       "      <td>-16.851869</td>\n",
       "      <td>3.524265</td>\n",
       "      <td>-0.170017</td>\n",
       "      <td>336</td>\n",
       "      <td>-1685.186917</td>\n",
       "      <td>352.426533</td>\n",
       "      <td>152.167494</td>\n",
       "      <td>0.106479</td>\n",
       "      <td>True</td>\n",
       "    </tr>\n",
       "    <tr>\n",
       "      <th>51</th>\n",
       "      <td>-16.844366</td>\n",
       "      <td>4.525361</td>\n",
       "      <td>-0.171903</td>\n",
       "      <td>337</td>\n",
       "      <td>-1684.436624</td>\n",
       "      <td>452.536145</td>\n",
       "      <td>151.927035</td>\n",
       "      <td>0.114345</td>\n",
       "      <td>True</td>\n",
       "    </tr>\n",
       "    <tr>\n",
       "      <th>52</th>\n",
       "      <td>-17.898606</td>\n",
       "      <td>-1.771628</td>\n",
       "      <td>-0.172246</td>\n",
       "      <td>338</td>\n",
       "      <td>-1789.860623</td>\n",
       "      <td>-177.162792</td>\n",
       "      <td>151.966739</td>\n",
       "      <td>0.123365</td>\n",
       "      <td>True</td>\n",
       "    </tr>\n",
       "    <tr>\n",
       "      <th>53</th>\n",
       "      <td>-17.915105</td>\n",
       "      <td>-0.775284</td>\n",
       "      <td>-0.180057</td>\n",
       "      <td>339</td>\n",
       "      <td>-1791.510482</td>\n",
       "      <td>-77.528368</td>\n",
       "      <td>152.071683</td>\n",
       "      <td>0.110982</td>\n",
       "      <td>True</td>\n",
       "    </tr>\n",
       "    <tr>\n",
       "      <th>54</th>\n",
       "      <td>-17.931287</td>\n",
       "      <td>0.203872</td>\n",
       "      <td>-0.175695</td>\n",
       "      <td>340</td>\n",
       "      <td>-1793.128670</td>\n",
       "      <td>20.387212</td>\n",
       "      <td>152.057298</td>\n",
       "      <td>0.109185</td>\n",
       "      <td>True</td>\n",
       "    </tr>\n",
       "    <tr>\n",
       "      <th>55</th>\n",
       "      <td>-17.864125</td>\n",
       "      <td>1.214755</td>\n",
       "      <td>-0.168559</td>\n",
       "      <td>341</td>\n",
       "      <td>-1786.412521</td>\n",
       "      <td>121.475537</td>\n",
       "      <td>152.016579</td>\n",
       "      <td>0.116646</td>\n",
       "      <td>True</td>\n",
       "    </tr>\n",
       "    <tr>\n",
       "      <th>56</th>\n",
       "      <td>-17.854081</td>\n",
       "      <td>2.191396</td>\n",
       "      <td>-0.173230</td>\n",
       "      <td>342</td>\n",
       "      <td>-1785.408105</td>\n",
       "      <td>219.139580</td>\n",
       "      <td>152.011503</td>\n",
       "      <td>0.123365</td>\n",
       "      <td>True</td>\n",
       "    </tr>\n",
       "    <tr>\n",
       "      <th>57</th>\n",
       "      <td>-17.838116</td>\n",
       "      <td>3.203017</td>\n",
       "      <td>-0.171195</td>\n",
       "      <td>343</td>\n",
       "      <td>-1783.811617</td>\n",
       "      <td>320.301665</td>\n",
       "      <td>151.828449</td>\n",
       "      <td>0.117714</td>\n",
       "      <td>True</td>\n",
       "    </tr>\n",
       "    <tr>\n",
       "      <th>58</th>\n",
       "      <td>-17.808833</td>\n",
       "      <td>4.174204</td>\n",
       "      <td>-0.171178</td>\n",
       "      <td>344</td>\n",
       "      <td>-1780.883272</td>\n",
       "      <td>417.420430</td>\n",
       "      <td>151.951038</td>\n",
       "      <td>0.117712</td>\n",
       "      <td>True</td>\n",
       "    </tr>\n",
       "    <tr>\n",
       "      <th>59</th>\n",
       "      <td>-18.921111</td>\n",
       "      <td>-2.113223</td>\n",
       "      <td>-0.179557</td>\n",
       "      <td>345</td>\n",
       "      <td>-1892.111148</td>\n",
       "      <td>-211.322273</td>\n",
       "      <td>151.537693</td>\n",
       "      <td>0.121648</td>\n",
       "      <td>True</td>\n",
       "    </tr>\n",
       "    <tr>\n",
       "      <th>60</th>\n",
       "      <td>-18.938706</td>\n",
       "      <td>-1.126771</td>\n",
       "      <td>-0.174666</td>\n",
       "      <td>346</td>\n",
       "      <td>-1893.870581</td>\n",
       "      <td>-112.677052</td>\n",
       "      <td>152.034293</td>\n",
       "      <td>0.111459</td>\n",
       "      <td>True</td>\n",
       "    </tr>\n",
       "    <tr>\n",
       "      <th>61</th>\n",
       "      <td>-18.865694</td>\n",
       "      <td>-0.111250</td>\n",
       "      <td>-0.175392</td>\n",
       "      <td>347</td>\n",
       "      <td>-1886.569429</td>\n",
       "      <td>-11.125003</td>\n",
       "      <td>152.035516</td>\n",
       "      <td>0.105055</td>\n",
       "      <td>True</td>\n",
       "    </tr>\n",
       "    <tr>\n",
       "      <th>62</th>\n",
       "      <td>-18.874612</td>\n",
       "      <td>0.863775</td>\n",
       "      <td>-0.176366</td>\n",
       "      <td>348</td>\n",
       "      <td>-1887.461164</td>\n",
       "      <td>86.377457</td>\n",
       "      <td>152.124609</td>\n",
       "      <td>0.121087</td>\n",
       "      <td>True</td>\n",
       "    </tr>\n",
       "    <tr>\n",
       "      <th>63</th>\n",
       "      <td>-18.872661</td>\n",
       "      <td>1.868449</td>\n",
       "      <td>-0.175399</td>\n",
       "      <td>349</td>\n",
       "      <td>-1887.266135</td>\n",
       "      <td>186.844855</td>\n",
       "      <td>152.035363</td>\n",
       "      <td>0.120550</td>\n",
       "      <td>True</td>\n",
       "    </tr>\n",
       "  </tbody>\n",
       "</table>\n",
       "</div>"
      ],
      "text/plain": [
       "        X(mm)     Y(mm)     degré  tag         Xpix        Ypix        Neff  \\\n",
       "33 -15.002568 -0.706926 -0.162785  317 -1500.256801  -70.692597  152.047019   \n",
       "34 -15.018391  0.302659 -0.190253  318 -1501.839080   30.265929  152.131678   \n",
       "35 -14.982936  1.271912 -0.168207  319 -1498.293580  127.191212  152.297570   \n",
       "36 -14.951200  2.272468 -0.166700  320 -1495.119952  227.246845  152.093401   \n",
       "37 -15.020588  3.245897 -0.169779  321 -1502.058766  324.589715  152.494948   \n",
       "38 -14.937495  4.253821 -0.174680  322 -1493.749510  425.382051  152.219014   \n",
       "39 -14.899517  5.241174 -0.178528  323 -1489.951749  524.117394  152.520340   \n",
       "40 -15.959115 -1.065228 -0.163014  324 -1595.911484 -106.522817  152.064066   \n",
       "41 -15.976251 -0.070602 -0.167150  325 -1597.625139   -7.060212  152.088460   \n",
       "42 -15.914033  0.925405 -0.169371  326 -1591.403338   92.540517  152.056379   \n",
       "43 -15.861598  2.902365 -0.170870  328 -1586.159815  290.236549  152.273588   \n",
       "44 -15.869848  3.898473 -0.166778  329 -1586.984772  389.847323  152.242116   \n",
       "45 -15.824127  4.905326 -0.172738  330 -1582.412662  490.532643  151.932216   \n",
       "46 -16.932534 -1.417821 -0.166622  331 -1693.253361 -141.782073  152.370169   \n",
       "47 -16.915767 -0.449185 -0.165954  332 -1691.576692  -44.918509  152.173775   \n",
       "48 -16.872016  1.542423 -0.169811  334 -1687.201594  154.242324  152.200965   \n",
       "49 -16.870783  2.549532 -0.168755  335 -1687.078334  254.953221  152.120020   \n",
       "50 -16.851869  3.524265 -0.170017  336 -1685.186917  352.426533  152.167494   \n",
       "51 -16.844366  4.525361 -0.171903  337 -1684.436624  452.536145  151.927035   \n",
       "52 -17.898606 -1.771628 -0.172246  338 -1789.860623 -177.162792  151.966739   \n",
       "53 -17.915105 -0.775284 -0.180057  339 -1791.510482  -77.528368  152.071683   \n",
       "54 -17.931287  0.203872 -0.175695  340 -1793.128670   20.387212  152.057298   \n",
       "55 -17.864125  1.214755 -0.168559  341 -1786.412521  121.475537  152.016579   \n",
       "56 -17.854081  2.191396 -0.173230  342 -1785.408105  219.139580  152.011503   \n",
       "57 -17.838116  3.203017 -0.171195  343 -1783.811617  320.301665  151.828449   \n",
       "58 -17.808833  4.174204 -0.171178  344 -1780.883272  417.420430  151.951038   \n",
       "59 -18.921111 -2.113223 -0.179557  345 -1892.111148 -211.322273  151.537693   \n",
       "60 -18.938706 -1.126771 -0.174666  346 -1893.870581 -112.677052  152.034293   \n",
       "61 -18.865694 -0.111250 -0.175392  347 -1886.569429  -11.125003  152.035516   \n",
       "62 -18.874612  0.863775 -0.176366  348 -1887.461164   86.377457  152.124609   \n",
       "63 -18.872661  1.868449 -0.175399  349 -1887.266135  186.844855  152.035363   \n",
       "\n",
       "     Nefferr  NarrowScan  \n",
       "33  0.117710        True  \n",
       "34  0.122719        True  \n",
       "35  0.107075        True  \n",
       "36  0.117709        True  \n",
       "37  0.140510        True  \n",
       "38  0.126668        True  \n",
       "39  0.135739        True  \n",
       "40  0.138760        True  \n",
       "41  0.107080        True  \n",
       "42  0.120354        True  \n",
       "43  0.111615        True  \n",
       "44  0.126667        True  \n",
       "45  0.126734        True  \n",
       "46  0.130511        True  \n",
       "47  0.123416        True  \n",
       "48  0.126668        True  \n",
       "49  0.109183        True  \n",
       "50  0.106479        True  \n",
       "51  0.114345        True  \n",
       "52  0.123365        True  \n",
       "53  0.110982        True  \n",
       "54  0.109185        True  \n",
       "55  0.116646        True  \n",
       "56  0.123365        True  \n",
       "57  0.117714        True  \n",
       "58  0.117712        True  \n",
       "59  0.121648        True  \n",
       "60  0.111459        True  \n",
       "61  0.105055        True  \n",
       "62  0.121087        True  \n",
       "63  0.120550        True  "
      ]
     },
     "execution_count": 14,
     "metadata": {},
     "output_type": "execute_result"
    }
   ],
   "source": [
    "df_narrowscan"
   ]
  },
  {
   "cell_type": "code",
   "execution_count": 15,
   "id": "715bfbc6-c0fe-4af1-b0c8-c708887cf75a",
   "metadata": {},
   "outputs": [],
   "source": [
    "def getXY(df):\n",
    "    NumberofPointsData=len(df)\n",
    "    Xdata=df[\"X(mm)\"].values\n",
    "    Ydata=df[\"Y(mm)\"].values\n",
    "    return Xdata,Ydata\n",
    "   "
   ]
  },
  {
   "cell_type": "code",
   "execution_count": 16,
   "id": "1f9d80d2-7d63-4894-b0e7-7479d5ac19a6",
   "metadata": {},
   "outputs": [],
   "source": [
    "X1,Y1 = getXY(df_narrowscan)\n",
    "X2,Y2 = getXY(df_widescan)"
   ]
  },
  {
   "cell_type": "code",
   "execution_count": 24,
   "id": "b31e4581-183e-4308-9ad6-0ec032a8e13a",
   "metadata": {},
   "outputs": [
    {
     "data": {
      "image/png": "[encoded data removed]",
      "text/plain": [
       "<Figure size 800x800 with 1 Axes>"
      ]
     },
     "metadata": {},
     "output_type": "display_data"
    }
   ],
   "source": [
    "plt.figure(figsize=(8,8))\n",
    "plt.scatter(X1,Y1,marker=\"o\",color='r',s=15)\n",
    "plt.scatter(X2,Y2,marker=\"o\",color='b',s=15)\n",
    "plt.ylim(-15,7)\n",
    "plt.xlim(-20,2)\n",
    "plt.grid()"
   ]
  },
  {
   "cell_type": "code",
   "execution_count": 18,
   "id": "8c76b179-4add-46bb-b0ab-7d664b278166",
   "metadata": {},
   "outputs": [
    {
     "data": {
      "text/plain": [
       "array([-13.53670602, -12.27379635,  -1.32580559,  -1.32690005,\n",
       "        -1.43975923, -12.22097148,  -6.19028589,  -0.12276853,\n",
       "         5.9407307 ,  12.01233229, -13.33437055,  -7.26962841,\n",
       "        -1.19252844,  10.93529425, -14.40511503,  -8.33637473,\n",
       "        -2.28297126,   9.86509402, -15.43681261,  -9.38084157,\n",
       "        -3.29800944,   2.79222725,   8.88849883,   1.64918546,\n",
       "         2.32439942])"
      ]
     },
     "execution_count": 18,
     "metadata": {},
     "output_type": "execute_result"
    }
   ],
   "source": [
    "Y2"
   ]
  },
  {
   "cell_type": "code",
   "execution_count": 25,
   "id": "4170f5ae-d6df-4f9c-bf09-08b184fe99cd",
   "metadata": {},
   "outputs": [
    {
     "data": {
      "text/plain": [
       "array([ -6.83433191,  -5.87963092, -16.64181975, -16.23680343,\n",
       "       -16.35892156,   1.01969081,   1.11423003,   1.1627607 ,\n",
       "         1.19823469,   1.27626012,  -5.1614355 ,  -5.02270025,\n",
       "        -5.08295342,  -4.90059021, -11.46785741, -11.41476854,\n",
       "       -11.39013979, -11.32503167, -17.70143163, -17.75426449,\n",
       "       -17.77866536, -17.72047897, -17.74677556, -17.00293327,\n",
       "       -17.12203565])"
      ]
     },
     "execution_count": 25,
     "metadata": {},
     "output_type": "execute_result"
    }
   ],
   "source": [
    "X2"
   ]
  },
  {
   "cell_type": "code",
   "execution_count": 26,
   "id": "928e231c-fb41-4661-8a2a-99e4d4e66701",
   "metadata": {},
   "outputs": [
    {
     "data": {
      "text/plain": [
       "-0.9547009858529627"
      ]
     },
     "execution_count": 26,
     "metadata": {},
     "output_type": "execute_result"
    }
   ],
   "source": [
    "X2[0] - X2[1]"
   ]
  },
  {
   "cell_type": "code",
   "execution_count": 27,
   "id": "bd3b9aa2-00d0-4e81-b162-f5d81c1c5812",
   "metadata": {},
   "outputs": [
    {
     "data": {
      "text/plain": [
       "array([-15.00256801, -15.0183908 , -14.9829358 , -14.95119952,\n",
       "       -15.02058766, -14.9374951 , -14.89951749, -15.95911484,\n",
       "       -15.97625139, -15.91403338, -15.86159815, -15.86984772,\n",
       "       -15.82412662, -16.93253361, -16.91576692, -16.87201594,\n",
       "       -16.87078334, -16.85186917, -16.84436624, -17.89860623,\n",
       "       -17.91510482, -17.9312867 , -17.86412521, -17.85408105,\n",
       "       -17.83811617, -17.80883272, -18.92111148, -18.93870581,\n",
       "       -18.86569429, -18.87461164, -18.87266135])"
      ]
     },
     "execution_count": 27,
     "metadata": {},
     "output_type": "execute_result"
    }
   ],
   "source": [
    "X1"
   ]
  },
  {
   "cell_type": "code",
   "execution_count": 28,
   "id": "efc8386b-1f1b-45a6-b456-d7d5a385f8e7",
   "metadata": {},
   "outputs": [
    {
     "data": {
      "text/plain": [
       "0.015822790636777384"
      ]
     },
     "execution_count": 28,
     "metadata": {},
     "output_type": "execute_result"
    }
   ],
   "source": [
    "X1[0] - X1[1]"
   ]
  },
  {
   "cell_type": "code",
   "execution_count": 30,
   "id": "9ab04dd4-cc10-4487-959a-37a0c0d53520",
   "metadata": {},
   "outputs": [
    {
     "data": {
      "text/plain": [
       "-0.03545499790890716"
      ]
     },
     "execution_count": 30,
     "metadata": {},
     "output_type": "execute_result"
    }
   ],
   "source": [
    "X1[1] - X1[2]"
   ]
  },
  {
   "cell_type": "code",
   "execution_count": 31,
   "id": "3956dc21-a7d4-44a1-9eca-b8d612ab897b",
   "metadata": {},
   "outputs": [
    {
     "data": {
      "text/plain": [
       "-0.03173627607831975"
      ]
     },
     "execution_count": 31,
     "metadata": {},
     "output_type": "execute_result"
    }
   ],
   "source": [
    "X1[2] - X1[3]"
   ]
  },
  {
   "cell_type": "code",
   "execution_count": 32,
   "id": "30fe842c-7f17-48cf-8eb8-52fb76cf2656",
   "metadata": {},
   "outputs": [
    {
     "data": {
      "text/plain": [
       "-0.08309255216087585"
      ]
     },
     "execution_count": 32,
     "metadata": {},
     "output_type": "execute_result"
    }
   ],
   "source": [
    "X1[4] - X1[5]"
   ]
  },
  {
   "cell_type": "code",
   "execution_count": 33,
   "id": "f282d8c1-7e3d-479d-9f27-497b3a5d361f",
   "metadata": {},
   "outputs": [
    {
     "data": {
      "text/plain": [
       "-0.03797761505066788"
      ]
     },
     "execution_count": 33,
     "metadata": {},
     "output_type": "execute_result"
    }
   ],
   "source": [
    "X1[5] - X1[6]"
   ]
  },
  {
   "cell_type": "code",
   "execution_count": null,
   "id": "3a0dbe5c-8a51-4618-a342-6ab3f82e3663",
   "metadata": {},
   "outputs": [],
   "source": []
  }
 ],
 "metadata": {
  "kernelspec": {
   "display_name": "Python 3 (ipykernel)",
   "language": "python",
   "name": "python3"
  },
  "language_info": {
   "codemirror_mode": {
    "name": "ipython",
    "version": 3
   },
   "file_extension": ".py",
   "mimetype": "text/x-python",
   "name": "python",
   "nbconvert_exporter": "python",
   "pygments_lexer": "ipython3",
   "version": "3.9.13"
  }
 },
 "nbformat": 4,
 "nbformat_minor": 5
}
