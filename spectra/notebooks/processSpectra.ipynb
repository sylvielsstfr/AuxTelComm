{
 "cells": [
  {
   "cell_type": "markdown",
   "metadata": {},
   "source": [
    "# Make  spectra"
   ]
  },
  {
   "cell_type": "markdown",
   "metadata": {},
   "source": [
    "- author : Sylvie Dagoret-Campagne\n",
    "- affiliation : IJCLab/IN2P3/CNES, DESC-LSST fullmember, behalf AuxTel Teal VERA C. Rubin observatory\n",
    "- creation date : March 29th 2021\n",
    "- version "
   ]
  },
  {
   "cell_type": "markdown",
   "metadata": {},
   "source": [
    "# Imports"
   ]
  },
  {
   "cell_type": "code",
   "execution_count": 53,
   "metadata": {},
   "outputs": [],
   "source": [
    "import numpy as np\n",
    "import matplotlib.pyplot as plt\n",
    "%matplotlib inline\n",
    "from mpl_toolkits.axes_grid1 import make_axes_locatable\n",
    "import pandas as pd\n",
    "\n",
    "import matplotlib.ticker                         # here's where the formatter is\n",
    "import os\n",
    "import re\n",
    "\n",
    "plt.rcParams[\"figure.figsize\"] = (16,4)\n",
    "plt.rcParams[\"axes.labelsize\"] = 'xx-large'\n",
    "plt.rcParams['axes.titlesize'] = 'xx-large'\n",
    "plt.rcParams['xtick.labelsize']= 'xx-large'\n",
    "plt.rcParams['ytick.labelsize']= 'xx-large'"
   ]
  },
  {
   "cell_type": "code",
   "execution_count": 54,
   "metadata": {},
   "outputs": [],
   "source": [
    "from astropy.io import fits\n",
    "from spectractor import parameters\n",
    "from spectractor.extractor.extractor import Spectractor"
   ]
  },
  {
   "cell_type": "code",
   "execution_count": 55,
   "metadata": {},
   "outputs": [],
   "source": [
    "dir_spectra=\"/Users/dagoret/DATA/AuxTelData2021/holo/FlipCleans\"\n",
    "filename_image=\"Cor_holo4_003_RG610_HD75519_2021-03-11_296.fits\""
   ]
  },
  {
   "cell_type": "code",
   "execution_count": 56,
   "metadata": {},
   "outputs": [],
   "source": [
    "filename=os.path.join(dir_spectra,filename_image)\n",
    "output_directory=\"./outputs/\"\n",
    "guess = [1762,2209]\n",
    "disperser_label = \"holo4_003\"\n",
    "config = \"config/auxtel_quicklook.ini\"\n",
    "#config = \"config/auxtel.ini\"\n",
    "target = \"HD75519\""
   ]
  },
  {
   "cell_type": "code",
   "execution_count": 57,
   "metadata": {},
   "outputs": [],
   "source": [
    "hdu = fits.open(filename)"
   ]
  },
  {
   "cell_type": "code",
   "execution_count": 58,
   "metadata": {},
   "outputs": [
    {
     "name": "stdout",
     "output_type": "stream",
     "text": [
      "Filename: /Users/dagoret/DATA/AuxTelData2021/holo/FlipCleans/Cor_holo4_003_RG610_HD75519_2021-03-11_296.fits\n",
      "No.    Name      Ver    Type      Cards   Dimensions   Format\n",
      "  0  Segment10     1 PrimaryHDU     121   ()      \n",
      "  1                1 ImageHDU         7   (4072, 4000)   float64   \n"
     ]
    }
   ],
   "source": [
    "hdu.info()"
   ]
  },
  {
   "cell_type": "code",
   "execution_count": 59,
   "metadata": {},
   "outputs": [],
   "source": [
    "hdu0=hdu[0]"
   ]
  },
  {
   "cell_type": "code",
   "execution_count": 60,
   "metadata": {
    "scrolled": false
   },
   "outputs": [
    {
     "data": {
      "text/plain": [
       "SIMPLE  =                    T / conforms to FITS standard                      \n",
       "BITPIX  =                    8 / array data type                                \n",
       "NAXIS   =                    0 / number of array dimensions                     \n",
       "EXTEND  =                    T                                                  \n",
       "ORIGIN  = 'LSST DM Header Service'                                              \n",
       "TIMESYS = 'TAI     '                                                            \n",
       "DATE    = '2021-03-12T02:53:12.435'                                             \n",
       "DATE-OBS= '2021-03-12T02:53:21.563'                                             \n",
       "DATE-BEG= '2021-03-12T02:53:21.563'                                             \n",
       "DATE-END= '2021-03-12T02:53:46.800'                                             \n",
       "MJD     =      59285.120282809                                                  \n",
       "MJD-OBS =     59285.1203884634                                                  \n",
       "MJD-BEG =     59285.1203884634                                                  \n",
       "MJD-END =     59285.1206805567                                                  \n",
       "OBSID   = 'AT_O_20210311_000296'                                                \n",
       "GROUPID = '2021-03-12T02:53:21.453'                                             \n",
       "IMGTYPE = 'OBJECT  '                                                            \n",
       "BUNIT   = 'adu     '                                                            \n",
       "FACILITY= 'Vera C. Rubin Observatory'                                           \n",
       "TELESCOP= 'LSST AuxTelescope'                                                   \n",
       "INSTRUME= 'LATISS  '                                                            \n",
       "OBSERVER= 'LSST    '                                                            \n",
       "OBS-LONG=   -70.74941699999999                                                  \n",
       "OBS-LAT =           -30.244639                                                  \n",
       "OBS-ELEV=               2663.0                                                  \n",
       "OBSGEO-X=           1818938.94                                                  \n",
       "OBSGEO-Y=          -5208470.95                                                  \n",
       "OBSGEO-Z=          -3195172.08                                                  \n",
       "RA      =     132.273706666667                                                  \n",
       "DEC     =    -39.9543883333333                                                  \n",
       "RASTART =    132.2219174227017                                                  \n",
       "DECSTART=    -39.9765752799038                                                  \n",
       "RAEND   =    132.2219074383497                                                  \n",
       "DECEND  =    -39.9764962564351                                                  \n",
       "ROTPA   =     12.9385602778837                                                  \n",
       "ROTCOORD= 'sky     '                                                            \n",
       "HASTART =    0.664626980481226                                                  \n",
       "ELSTART =    77.33882358510159                                                  \n",
       "AZSTART =     216.692532528876                                                  \n",
       "AMSTART =      1.0248936301234                                                  \n",
       "HAEND   =    0.672372222225278                                                  \n",
       "ELEND   =     77.2780120952812                                                  \n",
       "AZEND   =     216.990318973301                                                  \n",
       "AMEND   =     1.02513664472891                                                  \n",
       "INSTPORT=                    2                                                  \n",
       "ATM3PORT=                                                                       \n",
       "TRACKSYS= 'SIDEREAL'                                                            \n",
       "RADESYS = 'ICRS    '                                                            \n",
       "FOCUSZ  =  -0.0036272737197578                                                  \n",
       "OBJECT  = 'HD 75519'                                                            \n",
       "DOMEAZ  =               197.15                                                  \n",
       "SHUTLOWR=                  0.0                                                  \n",
       "SHUTUPPR=                100.0                                                  \n",
       "WCSAXES =                    2                                                  \n",
       "CTYPE1  = 'RA---TAN'                                                            \n",
       "CTYPE2  = 'DEC--TAN'                                                            \n",
       "CUNIT1  = 'deg     '                                                            \n",
       "CUNIT2  = 'deg     '                                                            \n",
       "CRVAL1  =     132.273706666667                                                  \n",
       "CRVAL2  =    -39.9543883333333                                                  \n",
       "CRPIX1  =               2000.0                                                  \n",
       "CRPIX2  =               2036.0                                                  \n",
       "CD1_1   =   0.0978109959789657                                                  \n",
       "CD1_2   =  -0.0381838848940591                                                  \n",
       "CD2_1   =   0.0381838848940591                                                  \n",
       "CD2_2   =   0.0978109959789657                                                  \n",
       "EQUINOX =               2000.0                                                  \n",
       "CAMCODE = 'AT      '                                                            \n",
       "CONTRLLR= 'O       '                                                            \n",
       "DAYOBS  = '20210311'                                                            \n",
       "SEQNUM  =                  296                                                  \n",
       "TESTTYPE=                                                                       \n",
       "TSTAND  =                                                                       \n",
       "IMAGETAG= 'fb6f4d73985b8cc1'                                                    \n",
       "OBSANNOT= ''                                                                    \n",
       "TEMP_SET=   -94.15000152587891                                                  \n",
       "CCDTEMP =    -90.0148086547852                                                  \n",
       "FILTBAND= 'Empty   '                                                            \n",
       "FILTER  = 'RG610   '                                                            \n",
       "FILTSLOT=                    3                                                  \n",
       "GRATING = 'holo4_003'                                                           \n",
       "GRATBAND= 'Empty   '                                                            \n",
       "GRATSLOT=                    3                                                  \n",
       "LINSPOS =     59.9980010986328                                                  \n",
       "EXPTIME =                 25.0                                                  \n",
       "SHUTTIME=                                                                       \n",
       "DARKTIME=     26.7839815616608                                                  \n",
       "AIRTEMP =                 11.8                                                  \n",
       "PRESSURE=                742.7                                                  \n",
       "HUMIDITY=                 49.0                                                  \n",
       "WINDSPD =                  1.4                                                  \n",
       "WINDDIR =                321.0                                                  \n",
       "SEEING  =    0.608921825885773                                                  \n",
       "FILENAME= 'AT_O_20210311_000296.fits'                                           \n",
       "HEADVER = '2.8.1   '                                                            \n",
       "CHECKSUM=                                                                       \n",
       "DATASUM =                                                                       \n",
       "CCD_MANU= 'ITL     '                                                            \n",
       "CCD_TYPE=                    2                                                  \n",
       "CCD_SERN= '20862   '                                                            \n",
       "LSST_NUM= 'ITL-3800C-068'                                                       \n",
       "SEQCKSUM= '2552520002'                                                          \n",
       "SEQNAME = 'FP_ITL_2s_ir2_v25.seq'                                               \n",
       "REBNAME = 'Unknown '                                                            \n",
       "CONTNUM = '412227310'                                                           \n",
       "CCDSLOT = 'S00     '                                                            \n",
       "RAFTBAY = 'R00     '                                                            \n",
       "OVERH   =                   64                                                  \n",
       "OVERV   =                   48                                                  \n",
       "PREH    =                    0                                                  \n",
       "INHERIT =                    T                                                  \n",
       "EXTNAME = 'Segment10'                                                           \n",
       "DETSEC  = '[509:1,1:2000]'                                                      \n",
       "DETSIZE = '[1:4072,1:4000]'                                                     \n",
       "DTV1    =                  510                                                  \n",
       "DTV2    =                    0                                                  \n",
       "DTM1_1  =                 -1.0                                                  \n",
       "DTM2_2  =                  1.0                                                  \n",
       "DTM1_2  =                    0                                                  \n",
       "DTM2_1  =                    0                                                  \n",
       "HA      =    0.664626980481226                                                  "
      ]
     },
     "execution_count": 60,
     "metadata": {},
     "output_type": "execute_result"
    }
   ],
   "source": [
    "hdu0.header"
   ]
  },
  {
   "cell_type": "code",
   "execution_count": 61,
   "metadata": {},
   "outputs": [
    {
     "ename": "KeyError",
     "evalue": "\"Keyword 'CD2_1' not found.\"",
     "output_type": "error",
     "traceback": [
      "\u001b[0;31m---------------------------------------------------------------------------\u001b[0m",
      "\u001b[0;31mKeyError\u001b[0m                                  Traceback (most recent call last)",
      "\u001b[0;32m<ipython-input-61-f2e78fd96825>\u001b[0m in \u001b[0;36m<module>\u001b[0;34m\u001b[0m\n\u001b[0;32m----> 1\u001b[0;31m \u001b[0mspectrum\u001b[0m \u001b[0;34m=\u001b[0m \u001b[0mSpectractor\u001b[0m\u001b[0;34m(\u001b[0m\u001b[0mfilename\u001b[0m\u001b[0;34m,\u001b[0m \u001b[0moutput_directory\u001b[0m\u001b[0;34m,\u001b[0m \u001b[0mguess\u001b[0m\u001b[0;34m=\u001b[0m\u001b[0mguess\u001b[0m\u001b[0;34m,\u001b[0m \u001b[0mtarget_label\u001b[0m\u001b[0;34m=\u001b[0m\u001b[0mtarget\u001b[0m\u001b[0;34m,\u001b[0m \u001b[0mdisperser_label\u001b[0m\u001b[0;34m=\u001b[0m\u001b[0mdisperser_label\u001b[0m\u001b[0;34m,\u001b[0m \u001b[0mconfig\u001b[0m\u001b[0;34m=\u001b[0m\u001b[0mconfig\u001b[0m\u001b[0;34m)\u001b[0m\u001b[0;34m\u001b[0m\u001b[0;34m\u001b[0m\u001b[0m\n\u001b[0m",
      "\u001b[0;32m~/.local/lib/python3.7/site-packages/Spectractor-2.1-py3.7.egg/spectractor/extractor/extractor.py\u001b[0m in \u001b[0;36mSpectractor\u001b[0;34m(file_name, output_directory, target_label, guess, disperser_label, config, atmospheric_lines)\u001b[0m\n\u001b[1;32m    763\u001b[0m \u001b[0;34m\u001b[0m\u001b[0m\n\u001b[1;32m    764\u001b[0m     \u001b[0;31m# Load reduced image\u001b[0m\u001b[0;34m\u001b[0m\u001b[0;34m\u001b[0m\u001b[0;34m\u001b[0m\u001b[0m\n\u001b[0;32m--> 765\u001b[0;31m     \u001b[0mimage\u001b[0m \u001b[0;34m=\u001b[0m \u001b[0mImage\u001b[0m\u001b[0;34m(\u001b[0m\u001b[0mfile_name\u001b[0m\u001b[0;34m,\u001b[0m \u001b[0mtarget_label\u001b[0m\u001b[0;34m=\u001b[0m\u001b[0mtarget_label\u001b[0m\u001b[0;34m,\u001b[0m \u001b[0mdisperser_label\u001b[0m\u001b[0;34m=\u001b[0m\u001b[0mdisperser_label\u001b[0m\u001b[0;34m)\u001b[0m\u001b[0;34m\u001b[0m\u001b[0;34m\u001b[0m\u001b[0m\n\u001b[0m\u001b[1;32m    766\u001b[0m     \u001b[0;32mif\u001b[0m \u001b[0mguess\u001b[0m \u001b[0;32mis\u001b[0m \u001b[0;32mnot\u001b[0m \u001b[0;32mNone\u001b[0m \u001b[0;32mand\u001b[0m \u001b[0mimage\u001b[0m\u001b[0;34m.\u001b[0m\u001b[0mtarget_guess\u001b[0m \u001b[0;32mis\u001b[0m \u001b[0;32mNone\u001b[0m\u001b[0;34m:\u001b[0m\u001b[0;34m\u001b[0m\u001b[0;34m\u001b[0m\u001b[0m\n\u001b[1;32m    767\u001b[0m         \u001b[0mimage\u001b[0m\u001b[0;34m.\u001b[0m\u001b[0mtarget_guess\u001b[0m \u001b[0;34m=\u001b[0m \u001b[0mnp\u001b[0m\u001b[0;34m.\u001b[0m\u001b[0masarray\u001b[0m\u001b[0;34m(\u001b[0m\u001b[0mguess\u001b[0m\u001b[0;34m)\u001b[0m\u001b[0;34m\u001b[0m\u001b[0;34m\u001b[0m\u001b[0m\n",
      "\u001b[0;32m~/.local/lib/python3.7/site-packages/Spectractor-2.1-py3.7.egg/spectractor/extractor/images.py\u001b[0m in \u001b[0;36m__init__\u001b[0;34m(self, file_name, target_label, disperser_label, config)\u001b[0m\n\u001b[1;32m     90\u001b[0m \u001b[0;34m\u001b[0m\u001b[0m\n\u001b[1;32m     91\u001b[0m         \u001b[0;32mif\u001b[0m \u001b[0mparameters\u001b[0m\u001b[0;34m.\u001b[0m\u001b[0mCALLING_CODE\u001b[0m \u001b[0;34m!=\u001b[0m \u001b[0;34m'LSST_DM'\u001b[0m\u001b[0;34m:\u001b[0m\u001b[0;34m\u001b[0m\u001b[0;34m\u001b[0m\u001b[0m\n\u001b[0;32m---> 92\u001b[0;31m             \u001b[0mself\u001b[0m\u001b[0;34m.\u001b[0m\u001b[0mload_image\u001b[0m\u001b[0;34m(\u001b[0m\u001b[0mfile_name\u001b[0m\u001b[0;34m)\u001b[0m\u001b[0;34m\u001b[0m\u001b[0;34m\u001b[0m\u001b[0m\n\u001b[0m\u001b[1;32m     93\u001b[0m         \u001b[0;32melse\u001b[0m\u001b[0;34m:\u001b[0m\u001b[0;34m\u001b[0m\u001b[0;34m\u001b[0m\u001b[0m\n\u001b[1;32m     94\u001b[0m             \u001b[0;31m# data provided by the LSST shim, just instantiate objects\u001b[0m\u001b[0;34m\u001b[0m\u001b[0;34m\u001b[0m\u001b[0;34m\u001b[0m\u001b[0m\n",
      "\u001b[0;32m~/.local/lib/python3.7/site-packages/Spectractor-2.1-py3.7.egg/spectractor/extractor/images.py\u001b[0m in \u001b[0;36mload_image\u001b[0;34m(self, file_name)\u001b[0m\n\u001b[1;32m    132\u001b[0m             \u001b[0mload_LPNHE_image\u001b[0m\u001b[0;34m(\u001b[0m\u001b[0mself\u001b[0m\u001b[0;34m)\u001b[0m\u001b[0;34m\u001b[0m\u001b[0;34m\u001b[0m\u001b[0m\n\u001b[1;32m    133\u001b[0m         \u001b[0;32mif\u001b[0m \u001b[0mparameters\u001b[0m\u001b[0;34m.\u001b[0m\u001b[0mOBS_NAME\u001b[0m \u001b[0;34m==\u001b[0m \u001b[0;34m\"AUXTEL\"\u001b[0m\u001b[0;34m:\u001b[0m\u001b[0;34m\u001b[0m\u001b[0;34m\u001b[0m\u001b[0m\n\u001b[0;32m--> 134\u001b[0;31m             \u001b[0mload_AUXTEL_image\u001b[0m\u001b[0;34m(\u001b[0m\u001b[0mself\u001b[0m\u001b[0;34m)\u001b[0m\u001b[0;34m\u001b[0m\u001b[0;34m\u001b[0m\u001b[0m\n\u001b[0m\u001b[1;32m    135\u001b[0m         \u001b[0;31m# Load the disperser\u001b[0m\u001b[0;34m\u001b[0m\u001b[0;34m\u001b[0m\u001b[0;34m\u001b[0m\u001b[0m\n\u001b[1;32m    136\u001b[0m         \u001b[0mself\u001b[0m\u001b[0;34m.\u001b[0m\u001b[0mmy_logger\u001b[0m\u001b[0;34m.\u001b[0m\u001b[0minfo\u001b[0m\u001b[0;34m(\u001b[0m\u001b[0;34mf'\\n\\tLoading disperser {self.disperser_label}...'\u001b[0m\u001b[0;34m)\u001b[0m\u001b[0;34m\u001b[0m\u001b[0;34m\u001b[0m\u001b[0m\n",
      "\u001b[0;32m~/.local/lib/python3.7/site-packages/Spectractor-2.1-py3.7.egg/spectractor/extractor/images.py\u001b[0m in \u001b[0;36mload_AUXTEL_image\u001b[0;34m(image)\u001b[0m\n\u001b[1;32m    598\u001b[0m     \u001b[0;32mif\u001b[0m \u001b[0mparameters\u001b[0m\u001b[0;34m.\u001b[0m\u001b[0mOBS_CAMERA_ROTATION\u001b[0m \u001b[0;34m<\u001b[0m \u001b[0;34m-\u001b[0m\u001b[0;36m360\u001b[0m\u001b[0;34m:\u001b[0m\u001b[0;34m\u001b[0m\u001b[0;34m\u001b[0m\u001b[0m\n\u001b[1;32m    599\u001b[0m         \u001b[0mparameters\u001b[0m\u001b[0;34m.\u001b[0m\u001b[0mOBS_CAMERA_ROTATION\u001b[0m \u001b[0;34m+=\u001b[0m \u001b[0;36m360\u001b[0m\u001b[0;34m\u001b[0m\u001b[0;34m\u001b[0m\u001b[0m\n\u001b[0;32m--> 600\u001b[0;31m     \u001b[0mrotation_wcs\u001b[0m \u001b[0;34m=\u001b[0m \u001b[0;36m180\u001b[0m \u001b[0;34m/\u001b[0m \u001b[0mnp\u001b[0m\u001b[0;34m.\u001b[0m\u001b[0mpi\u001b[0m \u001b[0;34m*\u001b[0m \u001b[0mnp\u001b[0m\u001b[0;34m.\u001b[0m\u001b[0marctan2\u001b[0m\u001b[0;34m(\u001b[0m\u001b[0mhdu_list\u001b[0m\u001b[0;34m[\u001b[0m\u001b[0;36m1\u001b[0m\u001b[0;34m]\u001b[0m\u001b[0;34m.\u001b[0m\u001b[0mheader\u001b[0m\u001b[0;34m[\u001b[0m\u001b[0;34m\"CD2_1\"\u001b[0m\u001b[0;34m]\u001b[0m\u001b[0;34m,\u001b[0m \u001b[0mhdu_list\u001b[0m\u001b[0;34m[\u001b[0m\u001b[0;36m1\u001b[0m\u001b[0;34m]\u001b[0m\u001b[0;34m.\u001b[0m\u001b[0mheader\u001b[0m\u001b[0;34m[\u001b[0m\u001b[0;34m\"CD1_1\"\u001b[0m\u001b[0;34m]\u001b[0m\u001b[0;34m)\u001b[0m \u001b[0;34m+\u001b[0m \u001b[0;36m90\u001b[0m\u001b[0;34m\u001b[0m\u001b[0;34m\u001b[0m\u001b[0m\n\u001b[0m\u001b[1;32m    601\u001b[0m     \u001b[0;32mif\u001b[0m \u001b[0;32mnot\u001b[0m \u001b[0mnp\u001b[0m\u001b[0;34m.\u001b[0m\u001b[0misclose\u001b[0m\u001b[0;34m(\u001b[0m\u001b[0mrotation_wcs\u001b[0m \u001b[0;34m%\u001b[0m \u001b[0;36m360\u001b[0m\u001b[0;34m,\u001b[0m \u001b[0mparameters\u001b[0m\u001b[0;34m.\u001b[0m\u001b[0mOBS_CAMERA_ROTATION\u001b[0m \u001b[0;34m%\u001b[0m \u001b[0;36m360\u001b[0m\u001b[0;34m,\u001b[0m \u001b[0matol\u001b[0m\u001b[0;34m=\u001b[0m\u001b[0;36m2\u001b[0m\u001b[0;34m)\u001b[0m\u001b[0;34m:\u001b[0m\u001b[0;34m\u001b[0m\u001b[0;34m\u001b[0m\u001b[0m\n\u001b[1;32m    602\u001b[0m         image.my_logger.warning(f\"\\n\\tWCS rotation angle is {rotation_wcs} degree while \"\n",
      "\u001b[0;32m~/anaconda3/lib/python3.7/site-packages/astropy/io/fits/header.py\u001b[0m in \u001b[0;36m__getitem__\u001b[0;34m(self, key)\u001b[0m\n\u001b[1;32m    154\u001b[0m             \u001b[0mkeyword\u001b[0m \u001b[0;34m=\u001b[0m \u001b[0mkey\u001b[0m\u001b[0;34m\u001b[0m\u001b[0;34m\u001b[0m\u001b[0m\n\u001b[1;32m    155\u001b[0m \u001b[0;34m\u001b[0m\u001b[0m\n\u001b[0;32m--> 156\u001b[0;31m         \u001b[0mcard\u001b[0m \u001b[0;34m=\u001b[0m \u001b[0mself\u001b[0m\u001b[0;34m.\u001b[0m\u001b[0m_cards\u001b[0m\u001b[0;34m[\u001b[0m\u001b[0mself\u001b[0m\u001b[0;34m.\u001b[0m\u001b[0m_cardindex\u001b[0m\u001b[0;34m(\u001b[0m\u001b[0mkey\u001b[0m\u001b[0;34m)\u001b[0m\u001b[0;34m]\u001b[0m\u001b[0;34m\u001b[0m\u001b[0;34m\u001b[0m\u001b[0m\n\u001b[0m\u001b[1;32m    157\u001b[0m \u001b[0;34m\u001b[0m\u001b[0m\n\u001b[1;32m    158\u001b[0m         \u001b[0;32mif\u001b[0m \u001b[0mcard\u001b[0m\u001b[0;34m.\u001b[0m\u001b[0mfield_specifier\u001b[0m \u001b[0;32mis\u001b[0m \u001b[0;32mnot\u001b[0m \u001b[0;32mNone\u001b[0m \u001b[0;32mand\u001b[0m \u001b[0mkeyword\u001b[0m \u001b[0;34m==\u001b[0m \u001b[0mcard\u001b[0m\u001b[0;34m.\u001b[0m\u001b[0mrawkeyword\u001b[0m\u001b[0;34m:\u001b[0m\u001b[0;34m\u001b[0m\u001b[0;34m\u001b[0m\u001b[0m\n",
      "\u001b[0;32m~/anaconda3/lib/python3.7/site-packages/astropy/io/fits/header.py\u001b[0m in \u001b[0;36m_cardindex\u001b[0;34m(self, key)\u001b[0m\n\u001b[1;32m   1714\u001b[0m \u001b[0;34m\u001b[0m\u001b[0m\n\u001b[1;32m   1715\u001b[0m         \u001b[0;32mif\u001b[0m \u001b[0;32mnot\u001b[0m \u001b[0mindices\u001b[0m\u001b[0;34m:\u001b[0m\u001b[0;34m\u001b[0m\u001b[0;34m\u001b[0m\u001b[0m\n\u001b[0;32m-> 1716\u001b[0;31m             \u001b[0;32mraise\u001b[0m \u001b[0mKeyError\u001b[0m\u001b[0;34m(\u001b[0m\u001b[0;34mf\"Keyword {keyword!r} not found.\"\u001b[0m\u001b[0;34m)\u001b[0m\u001b[0;34m\u001b[0m\u001b[0;34m\u001b[0m\u001b[0m\n\u001b[0m\u001b[1;32m   1717\u001b[0m \u001b[0;34m\u001b[0m\u001b[0m\n\u001b[1;32m   1718\u001b[0m         \u001b[0;32mtry\u001b[0m\u001b[0;34m:\u001b[0m\u001b[0;34m\u001b[0m\u001b[0;34m\u001b[0m\u001b[0m\n",
      "\u001b[0;31mKeyError\u001b[0m: \"Keyword 'CD2_1' not found.\""
     ]
    }
   ],
   "source": [
    "spectrum = Spectractor(filename, output_directory, guess=guess, target_label=target, disperser_label=disperser_label, config=config)"
   ]
  },
  {
   "cell_type": "code",
   "execution_count": null,
   "metadata": {},
   "outputs": [],
   "source": []
  }
 ],
 "metadata": {
  "kernelspec": {
   "display_name": "Python 3",
   "language": "python",
   "name": "python3"
  },
  "language_info": {
   "codemirror_mode": {
    "name": "ipython",
    "version": 3
   },
   "file_extension": ".py",
   "mimetype": "text/x-python",
   "name": "python",
   "nbconvert_exporter": "python",
   "pygments_lexer": "ipython3",
   "version": "3.7.7"
  },
  "toc": {
   "base_numbering": 1,
   "nav_menu": {},
   "number_sections": true,
   "sideBar": true,
   "skip_h1_title": false,
   "title_cell": "Table of Contents",
   "title_sidebar": "Contents",
   "toc_cell": false,
   "toc_position": {},
   "toc_section_display": true,
   "toc_window_display": false
  }
 },
 "nbformat": 4,
 "nbformat_minor": 4
}
