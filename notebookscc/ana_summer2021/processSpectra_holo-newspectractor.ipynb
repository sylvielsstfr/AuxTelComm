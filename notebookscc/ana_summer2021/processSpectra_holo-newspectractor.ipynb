{
 "cells": [
  {
   "cell_type": "markdown",
   "metadata": {},
   "source": [
    "# Build  spectra for AuxTel with new spectractor (September 2021): Part 1"
   ]
  },
  {
   "cell_type": "markdown",
   "metadata": {},
   "source": [
    "- author : Sylvie Dagoret-Campagne\n",
    "- affiliation : IJCLab/IN2P3/CNES, DESC-LSST fullmember, behalf AuxTel Teal VERA C. Rubin observatory\n",
    "- creation date : June 16 2021\n",
    "- up date : September 21  2021\n",
    "- version v3\n",
    "\n",
    "\n",
    "This notebook is to help for finding the position of order 0\n",
    "\n",
    "CCIN2P3:\n",
    "\n",
    "- works with kernels **anaconda3_auxtel** (with libradtran) and anaconda3_auxtel_v2 (no libradtran)"
   ]
  },
  {
   "cell_type": "markdown",
   "metadata": {},
   "source": [
    "# Imports"
   ]
  },
  {
   "cell_type": "code",
   "execution_count": 1,
   "metadata": {},
   "outputs": [],
   "source": [
    "import numpy as np\n",
    "import matplotlib.pyplot as plt\n",
    "%matplotlib inline\n",
    "from mpl_toolkits.axes_grid1 import make_axes_locatable\n",
    "from matplotlib.colors import LogNorm\n",
    "from matplotlib import  transforms\n",
    "import pandas as pd\n",
    "\n",
    "import matplotlib.ticker                         # here's where the formatter is\n",
    "import os\n",
    "import re\n",
    "\n",
    "plt.rcParams[\"figure.figsize\"] = (12,12)\n",
    "plt.rcParams[\"axes.labelsize\"] = 'xx-large'\n",
    "plt.rcParams['axes.titlesize'] = 'xx-large'\n",
    "plt.rcParams['xtick.labelsize']= 'xx-large'\n",
    "plt.rcParams['ytick.labelsize']= 'xx-large'"
   ]
  },
  {
   "cell_type": "code",
   "execution_count": 2,
   "metadata": {},
   "outputs": [],
   "source": [
    "from iminuit import Minuit\n",
    "import iminuit"
   ]
  },
  {
   "cell_type": "code",
   "execution_count": 3,
   "metadata": {},
   "outputs": [
    {
     "data": {
      "text/plain": [
       "'2.2.0'"
      ]
     },
     "execution_count": 3,
     "metadata": {},
     "output_type": "execute_result"
    }
   ],
   "source": [
    "iminuit.__version__"
   ]
  },
  {
   "cell_type": "code",
   "execution_count": null,
   "metadata": {},
   "outputs": [],
   "source": [
    "from astropy.io import fits\n",
    "from spectractor import parameters\n",
    "from spectractor.extractor.extractor import Spectractor\n",
    "from spectractor.extractor.images import *\n",
    "from scipy import ndimage, misc"
   ]
  },
  {
   "cell_type": "code",
   "execution_count": null,
   "metadata": {},
   "outputs": [],
   "source": [
    "from scipy.stats import kurtosis,skew\n",
    "from scipy.stats import kurtosistest,skewtest,normaltest"
   ]
  },
  {
   "cell_type": "markdown",
   "metadata": {},
   "source": [
    "# Test"
   ]
  },
  {
   "cell_type": "code",
   "execution_count": null,
   "metadata": {},
   "outputs": [],
   "source": [
    "X=np.linspace(-10,10,100)\n",
    "Y=np.sin(X)\n",
    "plt.plot(X,Y)\n",
    "plt.show()"
   ]
  },
  {
   "cell_type": "markdown",
   "metadata": {},
   "source": [
    "# Path"
   ]
  },
  {
   "cell_type": "code",
   "execution_count": null,
   "metadata": {},
   "outputs": [],
   "source": [
    "path_auxtel=\"/sps/lsst/groups/auxtel\"\n",
    "path_spectractor=os.path.join(path_auxtel,\"softs/github/desc/Spectractor\")\n",
    "path_spectractor_config=os.path.join(path_spectractor,\"config\")\n",
    "#path_images=os.path.join(path_auxtel,\"data/2021/holo/localreduced/2021-07-06\")\n",
    "path_images=os.path.join(path_auxtel,\"data/2021/holo/quickLookExp/2021-07-07\")"
   ]
  },
  {
   "cell_type": "markdown",
   "metadata": {},
   "source": [
    "# Function"
   ]
  },
  {
   "cell_type": "code",
   "execution_count": null,
   "metadata": {},
   "outputs": [],
   "source": [
    "def file_tag_forsorting(filename):\n",
    "    #m=re.findall('^Cor_holo4_003_.*([0-9][0-9][0-9][0-9]-[0-9][0-9]-[0-9][0-9]_.*)[.]fits$',filename)\n",
    "    m=re.findall('^holo4_003_*_(.*)_.*_quickLookExp[.]fits$',filename)\n",
    "    #print(m)\n",
    "    words=m[0].split(\"_\")\n",
    "    \n",
    "    outputstring=words[1]\n",
    "    \n",
    "    if outputstring==\"slew\":\n",
    "        outputstring+=\"_icrs\"\n",
    "    return outputstring"
   ]
  },
  {
   "cell_type": "code",
   "execution_count": null,
   "metadata": {},
   "outputs": [],
   "source": [
    "def file_target(filename):\n",
    "    m=file_tag_forsorting(filename)\n",
    "    if len(m)>0:\n",
    "        return m\n",
    "    elif re.search('NGC4755',filename):\n",
    "        return ['NGC4755']\n",
    "    else:\n",
    "        return []\n",
    "         "
   ]
  },
  {
   "cell_type": "markdown",
   "metadata": {},
   "source": [
    "# Logbook for file selection"
   ]
  },
  {
   "cell_type": "code",
   "execution_count": null,
   "metadata": {},
   "outputs": [],
   "source": [
    "filename_logbook='logbooks/auxtelholologbook_2021_07_07_v3.0.csv'"
   ]
  },
  {
   "cell_type": "code",
   "execution_count": null,
   "metadata": {},
   "outputs": [],
   "source": [
    "df=pd.read_csv(filename_logbook,index_col=0)"
   ]
  },
  {
   "cell_type": "code",
   "execution_count": null,
   "metadata": {},
   "outputs": [],
   "source": [
    "pd.set_option('display.max_rows', None)"
   ]
  },
  {
   "cell_type": "code",
   "execution_count": null,
   "metadata": {},
   "outputs": [],
   "source": [
    "df"
   ]
  },
  {
   "cell_type": "markdown",
   "metadata": {},
   "source": [
    "# Selection of input file"
   ]
  },
  {
   "cell_type": "code",
   "execution_count": null,
   "metadata": {},
   "outputs": [],
   "source": [
    "idx=0"
   ]
  },
  {
   "cell_type": "code",
   "execution_count": null,
   "metadata": {},
   "outputs": [],
   "source": [
    "myhome=os.getenv(\"HOME\")"
   ]
  },
  {
   "cell_type": "code",
   "execution_count": null,
   "metadata": {},
   "outputs": [],
   "source": [
    "dir_images=path_images"
   ]
  },
  {
   "cell_type": "code",
   "execution_count": null,
   "metadata": {},
   "outputs": [],
   "source": [
    "filename_image=df['file'][idx]\n",
    "filename_image"
   ]
  },
  {
   "cell_type": "code",
   "execution_count": null,
   "metadata": {},
   "outputs": [],
   "source": [
    "file_target(filename_image)"
   ]
  },
  {
   "cell_type": "code",
   "execution_count": null,
   "metadata": {},
   "outputs": [],
   "source": [
    "filename=os.path.join(dir_images,filename_image)\n",
    "output_directory=\"./outputs_process_holo_v2\"\n",
    "output_figures=\"figures_process_holo_v2\"\n",
    "guess = [250,2600]\n",
    "disperser_label = \"holo4_003\"\n",
    "# old version\n",
    "# config = os.path.join(path_spectractor_config,\"auxtel_quicklook.ini\")\n",
    "# new version (September 20th 2021\n",
    "config = os.path.join(path_spectractor_config,\"auxtel.ini\")\n",
    "\n",
    "target = file_target(filename_image)[0]"
   ]
  },
  {
   "cell_type": "code",
   "execution_count": null,
   "metadata": {},
   "outputs": [],
   "source": [
    "if not os.path.isdir(output_directory):\n",
    "    os.mkdir(output_directory)\n",
    "if not os.path.isdir(output_figures):\n",
    "    os.mkdir(output_figures)"
   ]
  },
  {
   "cell_type": "markdown",
   "metadata": {},
   "source": [
    "# Configuration of the running mode"
   ]
  },
  {
   "cell_type": "code",
   "execution_count": null,
   "metadata": {},
   "outputs": [],
   "source": [
    "parameters.debug=True\n",
    "parameters.verbose=True\n",
    "parameters.display=True\n",
    "parameters.LIVE_FIT=False"
   ]
  },
  {
   "cell_type": "code",
   "execution_count": null,
   "metadata": {},
   "outputs": [],
   "source": [
    "#parameters.DISPERSER_DIR = os.path.join(spectractor_dir, \"extractor/dispersers/\")\n",
    "#parameters.CONFIG_DIR = os.path.join(spectractor_dir, \"../config/\")\n",
    "#parameters.THROUGHPUT_DIR = os.path.join(spectractor_dir, \"simulation/CTIOThroughput/\")"
   ]
  },
  {
   "cell_type": "markdown",
   "metadata": {},
   "source": [
    "# Transform the input file"
   ]
  },
  {
   "cell_type": "code",
   "execution_count": null,
   "metadata": {},
   "outputs": [],
   "source": [
    "from shutil import copyfile"
   ]
  },
  {
   "cell_type": "code",
   "execution_count": null,
   "metadata": {},
   "outputs": [],
   "source": [
    "copyfile(filename,filename_image)"
   ]
  },
  {
   "cell_type": "code",
   "execution_count": null,
   "metadata": {},
   "outputs": [],
   "source": [
    "from astropy.io import fits"
   ]
  },
  {
   "cell_type": "code",
   "execution_count": null,
   "metadata": {},
   "outputs": [],
   "source": [
    "hdu = fits.open(filename_image)"
   ]
  },
  {
   "cell_type": "code",
   "execution_count": null,
   "metadata": {},
   "outputs": [],
   "source": [
    "hdu.info()"
   ]
  },
  {
   "cell_type": "code",
   "execution_count": null,
   "metadata": {},
   "outputs": [],
   "source": [
    "header=hdu[0].header\n",
    "image=hdu[0].data"
   ]
  },
  {
   "cell_type": "code",
   "execution_count": null,
   "metadata": {},
   "outputs": [],
   "source": [
    "hdu.close()"
   ]
  },
  {
   "cell_type": "markdown",
   "metadata": {},
   "source": [
    "### Remove WCS"
   ]
  },
  {
   "cell_type": "code",
   "execution_count": null,
   "metadata": {},
   "outputs": [],
   "source": [
    "del header['WCSAXES']\n",
    "del header['CTYPE1']\n",
    "del header['CTYPE2']\n",
    "del header['CUNIT1']\n",
    "del header['CUNIT2']\n",
    "del header['CRVAL1']\n",
    "del header['CRVAL2']\n",
    "del header['CRPIX1']\n",
    "del header['CRPIX2']"
   ]
  },
  {
   "cell_type": "markdown",
   "metadata": {},
   "source": [
    "## Reshape the file for load_image_AUXTEL() in Spectractor/spectractor/extractor/images.py"
   ]
  },
  {
   "cell_type": "code",
   "execution_count": null,
   "metadata": {},
   "outputs": [],
   "source": [
    "primary_hdu = fits.PrimaryHDU(header=header)\n",
    "image_hdu = fits.ImageHDU(image)"
   ]
  },
  {
   "cell_type": "code",
   "execution_count": null,
   "metadata": {},
   "outputs": [],
   "source": [
    "hdu_list = fits.HDUList([primary_hdu, image_hdu])"
   ]
  },
  {
   "cell_type": "code",
   "execution_count": null,
   "metadata": {},
   "outputs": [],
   "source": [
    "hdu_list.info()"
   ]
  },
  {
   "cell_type": "code",
   "execution_count": null,
   "metadata": {},
   "outputs": [],
   "source": [
    "hdu_list.writeto(filename_image,overwrite=True)"
   ]
  },
  {
   "cell_type": "markdown",
   "metadata": {},
   "source": [
    "## Load the image in the new file"
   ]
  },
  {
   "cell_type": "code",
   "execution_count": null,
   "metadata": {},
   "outputs": [],
   "source": [
    "#image=Image(file_name=filename, target_label=target, disperser_label=disperser_label, config=config)\n",
    "image=Image(file_name=filename_image, target_label=target, disperser_label=disperser_label, config=config)"
   ]
  },
  {
   "cell_type": "markdown",
   "metadata": {},
   "source": [
    "## Show relevant parameters"
   ]
  },
  {
   "cell_type": "code",
   "execution_count": null,
   "metadata": {},
   "outputs": [],
   "source": [
    "parameters.OBS_NAME"
   ]
  },
  {
   "cell_type": "code",
   "execution_count": null,
   "metadata": {},
   "outputs": [],
   "source": [
    "parameters.DISPERSER_DIR"
   ]
  },
  {
   "cell_type": "code",
   "execution_count": null,
   "metadata": {},
   "outputs": [],
   "source": [
    "parameters.DISTANCE2CCD"
   ]
  },
  {
   "cell_type": "code",
   "execution_count": null,
   "metadata": {},
   "outputs": [],
   "source": [
    "parameters.LAMBDA_MIN "
   ]
  },
  {
   "cell_type": "code",
   "execution_count": null,
   "metadata": {},
   "outputs": [],
   "source": [
    "parameters.LAMBDA_MAX "
   ]
  },
  {
   "cell_type": "code",
   "execution_count": null,
   "metadata": {},
   "outputs": [],
   "source": [
    "parameters.LSST_SAVEFIGPATH=True\n",
    "parameters.LSST_SAVEFIGPATH=output_figures"
   ]
  },
  {
   "cell_type": "code",
   "execution_count": null,
   "metadata": {},
   "outputs": [],
   "source": [
    "image.filter_label"
   ]
  },
  {
   "cell_type": "code",
   "execution_count": null,
   "metadata": {},
   "outputs": [],
   "source": [
    "image.header[\"FILTER\"]"
   ]
  },
  {
   "cell_type": "code",
   "execution_count": null,
   "metadata": {},
   "outputs": [],
   "source": [
    "#image.header"
   ]
  },
  {
   "cell_type": "markdown",
   "metadata": {},
   "source": [
    "# Plot image and find the target position"
   ]
  },
  {
   "cell_type": "code",
   "execution_count": null,
   "metadata": {},
   "outputs": [],
   "source": [
    "image.plot_image(figsize=(12, 10),scale=\"log\")"
   ]
  },
  {
   "cell_type": "code",
   "execution_count": null,
   "metadata": {},
   "outputs": [],
   "source": [
    "filename_image"
   ]
  },
  {
   "cell_type": "code",
   "execution_count": null,
   "metadata": {},
   "outputs": [],
   "source": [
    "image.data.shape"
   ]
  },
  {
   "cell_type": "code",
   "execution_count": null,
   "metadata": {},
   "outputs": [],
   "source": [
    "plt.imshow(image.data)\n",
    "plt.show()"
   ]
  },
  {
   "cell_type": "code",
   "execution_count": null,
   "metadata": {},
   "outputs": [],
   "source": [
    "alert False"
   ]
  },
  {
   "cell_type": "code",
   "execution_count": null,
   "metadata": {},
   "outputs": [],
   "source": [
    "guess = [256.15, 2128.11] # filename_image=df['file'][0] , Cor_holo4_003_RG610_HD120144_20210706_000098.fits\n",
    "guess = [256.15, 2128.11] # filename_image=df['file'][1] , Cor_holo4_003_RG610_HD120144_20210706_000099.fits\n",
    "guess = [256.15, 2300.11] # filename_image=df['file'][2] , Cor_holo4_003_RG610_HD120144_20210706_000100.fits"
   ]
  },
  {
   "cell_type": "code",
   "execution_count": null,
   "metadata": {},
   "outputs": [],
   "source": [
    "filename_image"
   ]
  },
  {
   "cell_type": "code",
   "execution_count": null,
   "metadata": {},
   "outputs": [],
   "source": [
    "\n",
    "parameters.VERBOSE = True\n",
    "parameters.DEBUG = True\n",
    "x1, y1 = find_target(image, guess,rotated=False, use_wcs=False)"
   ]
  },
  {
   "cell_type": "code",
   "execution_count": null,
   "metadata": {},
   "outputs": [],
   "source": [
    "print(x1,y1)"
   ]
  },
  {
   "cell_type": "code",
   "execution_count": null,
   "metadata": {},
   "outputs": [],
   "source": [
    "if x1>100:\n",
    "    WID=100\n",
    "else:\n",
    "    WID=50\n",
    "    \n",
    "\n",
    "thumbnail=np.copy(image.data[int(y1)-WID:int(y1)+WID,int(x1)-WID:int(x1)+WID])\n",
    "thumbnail_y=thumbnail.sum(axis=1)\n",
    "thumbnail_x=thumbnail.sum(axis=0)\n",
    "xx=np.linspace(int(x1)-WID,int(x1)+WID,len(thumbnail_x))\n",
    "yy=np.linspace(int(y1)-WID,int(y1)+WID,len(thumbnail_y))\n",
    "k0=kurtosis(thumbnail,axis=None,bias=True,fisher=True)\n",
    "kx=kurtosis(thumbnail_x,bias=True,fisher=True)\n",
    "ky=kurtosis(thumbnail_y,bias=True,fisher=True)\n",
    "s0=skew(thumbnail,axis=None,bias=True)\n",
    "sx=skew(thumbnail_x,bias=True)\n",
    "sy=skew(thumbnail_y,bias=True)\n",
    "        "
   ]
  },
  {
   "cell_type": "code",
   "execution_count": null,
   "metadata": {},
   "outputs": [],
   "source": [
    "shape_str='\\n'.join((\n",
    "        r'skew     : Sk0 = {:3.3f}, Skx = {:3.3f}, Sky = {:3.3f} \\n'.format(s0,sx,sy),\n",
    "        r'kurtosis : K0  = {:3.3f}, Kx  = {:3.3f},  Ky = {:3.3f}'.format(k0,kx,ky)))"
   ]
  },
  {
   "cell_type": "code",
   "execution_count": null,
   "metadata": {},
   "outputs": [],
   "source": [
    "skew_str='\\n'.join((\n",
    "        r'skew     : Sk0 = {:3.3f}'.format(s0),\n",
    "        r'             : Skx = {:3.3f}'.format(sx),\n",
    "        r'             : Sky = {:3.3f}'.format(sy)))"
   ]
  },
  {
   "cell_type": "code",
   "execution_count": null,
   "metadata": {},
   "outputs": [],
   "source": [
    "kurt_str='\\n'.join((\n",
    "        r'kurtosis : K0 = {:3.3f}'.format(k0),\n",
    "        r'             : Kx = {:3.3f}'.format(kx),\n",
    "        r'             : Ky = {:3.3f}'.format(ky)))"
   ]
  },
  {
   "cell_type": "code",
   "execution_count": null,
   "metadata": {},
   "outputs": [],
   "source": [
    "kurtosis_test_prob=kurtosistest(thumbnail,axis=None).pvalue\n",
    "skew_test_prob=skewtest(thumbnail,axis=None).pvalue\n",
    "normal_test_prob=normaltest(thumbnail,axis=None).pvalue"
   ]
  },
  {
   "cell_type": "code",
   "execution_count": null,
   "metadata": {},
   "outputs": [],
   "source": [
    "kurtosis_test_val=kurtosistest(thumbnail,axis=None).statistic\n",
    "skew_test_val=skewtest(thumbnail,axis=None).statistic\n",
    "normal_test_val=normaltest(thumbnail,axis=None).statistic"
   ]
  },
  {
   "cell_type": "code",
   "execution_count": null,
   "metadata": {},
   "outputs": [],
   "source": [
    "kurtosis_test_prob_x=kurtosistest(thumbnail_x).pvalue\n",
    "skew_test_prob_x=skewtest(thumbnail_x).pvalue\n",
    "normal_test_prob_x=normaltest(thumbnail_x).pvalue"
   ]
  },
  {
   "cell_type": "code",
   "execution_count": null,
   "metadata": {},
   "outputs": [],
   "source": [
    "kurtosis_test_prob_y=kurtosistest(thumbnail_y).pvalue\n",
    "skew_test_prob_y=skewtest(thumbnail_y).pvalue\n",
    "normal_test_prob_y=normaltest(thumbnail_y).pvalue"
   ]
  },
  {
   "cell_type": "code",
   "execution_count": null,
   "metadata": {},
   "outputs": [],
   "source": [
    "skew_str='\\n'.join((\n",
    "    r'skew     : Sk0 = {:3.3f}'.format(s0),\n",
    "    r'             : Skx = {:3.3f}'.format(sx),\n",
    "    r'             : Sky = {:3.3f}'.format(sy),\n",
    "    r'             : p_test   = {:3.3e}'.format(skew_test_prob),\n",
    "    r'             : p_test_x = {:3.3e}'.format(skew_test_prob_x),\n",
    "    r'             : p_test_y = {:3.3e}'.format(skew_test_prob_y)))"
   ]
  },
  {
   "cell_type": "code",
   "execution_count": null,
   "metadata": {},
   "outputs": [],
   "source": [
    "kurt_str='\\n'.join((\n",
    "    r'kurtosis : K0 = {:3.3f}'.format(k0),\n",
    "    r'             : Kx = {:3.3f}'.format(kx),\n",
    "    r'             : Ky = {:3.3f}'.format(ky),\n",
    "    r'             : p_test   = {:3.3e}'.format(kurtosis_test_prob),\n",
    "    r'             : p_test_x = {:3.3e}'.format(kurtosis_test_prob_x),\n",
    "    r'             : p_test_y = {:3.3e}'.format(kurtosis_test_prob_y)))"
   ]
  },
  {
   "cell_type": "code",
   "execution_count": null,
   "metadata": {},
   "outputs": [],
   "source": [
    "norm_str='\\n'.join((\n",
    "    r'normal  : p_test   = {:3.3e}'.format(normal_test_prob),\n",
    "    r'             : p_test_x = {:3.3e}'.format(normal_test_prob_x),\n",
    "    r'             : p_test_y = {:3.3e}'.format(normal_test_prob_y)))"
   ]
  },
  {
   "cell_type": "code",
   "execution_count": null,
   "metadata": {},
   "outputs": [],
   "source": [
    "props = dict(boxstyle='round',edgecolor=\"w\",facecolor=\"w\", alpha=0.5)"
   ]
  },
  {
   "cell_type": "code",
   "execution_count": null,
   "metadata": {},
   "outputs": [],
   "source": [
    "#matplotlib.pyplot.hist(x, \n",
    "#                       bins=10, \n",
    "#                       range=None, \n",
    "#                       normed=False, \n",
    "#                       weights=None, \n",
    "#                       cumulative=False, \n",
    "#                       bottom=None, \n",
    "#                       histtype=u'bar', \n",
    "#                       align=u'mid', \n",
    "#                       orientation=u'vertical', \n",
    "#                       rwidth=None, \n",
    "#                       log=False, \n",
    "#                       color=None, \n",
    "#                       label=None, \n",
    "#                       stacked=False, \n",
    "#                       hold=None, \n",
    "#                       **kwargs)"
   ]
  },
  {
   "cell_type": "code",
   "execution_count": null,
   "metadata": {},
   "outputs": [],
   "source": [
    "fig=plt.figure(figsize=(10,10))\n",
    "fig.subplots_adjust(left=0.12, right=0.95, wspace=0.3,\n",
    "                    bottom=0.15, top=0.9)\n",
    "\n",
    "ax=fig.add_subplot(222)\n",
    "ax.imshow(thumbnail,origin=\"lower\",extent=(int(x1)-WID,int(x1)+WID,int(y1)-WID,int(y1)+WID))\n",
    "ax.set_xlabel(\"X\")\n",
    "ax.set_ylabel(\"Y\")\n",
    "\n",
    "ax=fig.add_subplot(221)\n",
    "base = plt.gca().transData\n",
    "rot = transforms.Affine2D().rotate_deg(-90)\n",
    "#ax.plot(yy,thumbnail_y,\"g\",rotation=u'vertical')\n",
    "ax.plot(-yy,thumbnail_y,\"g\",transform= rot + base)\n",
    "ax.set_ylabel(\"Y\")\n",
    "\n",
    "ax=fig.add_subplot(224)\n",
    "ax.plot(xx,thumbnail_x,\"b\")\n",
    "ax.set_xlabel(\"X\")\n",
    "plt.tight_layout()\n",
    "\n",
    "ax=fig.add_subplot(223)\n",
    "ax.set_xlim(0,10)\n",
    "ax.set_ylim(0,10)\n",
    "ax.set_xticklabels([])\n",
    "ax.set_xticks([])\n",
    "ax.set_yticks([])\n",
    "\n",
    "ax.text(0.05, 0.9, skew_str, transform=ax.transAxes, fontsize=12,verticalalignment='top', bbox=props)\n",
    "ax.text(0.05, 0.55, kurt_str, transform=ax.transAxes, fontsize=12,verticalalignment='top', bbox=props)\n",
    "ax.text(0.05, 0.2, norm_str, transform=ax.transAxes, fontsize=12,verticalalignment='top', bbox=props)"
   ]
  },
  {
   "cell_type": "markdown",
   "metadata": {},
   "source": [
    "# Go for spectrum reconstruction"
   ]
  },
  {
   "cell_type": "code",
   "execution_count": null,
   "metadata": {},
   "outputs": [],
   "source": [
    "spectrum = Spectractor(filename, output_directory, guess=[x1,y1], target_label=target, disperser_label=disperser_label, config=config)"
   ]
  },
  {
   "cell_type": "code",
   "execution_count": null,
   "metadata": {},
   "outputs": [],
   "source": []
  },
  {
   "cell_type": "code",
   "execution_count": null,
   "metadata": {},
   "outputs": [],
   "source": [
    "!jupyter labextension list\n"
   ]
  },
  {
   "cell_type": "code",
   "execution_count": null,
   "metadata": {},
   "outputs": [],
   "source": []
  }
 ],
 "metadata": {
  "kernelspec": {
   "display_name": "anaconda3_auxtel",
   "language": "python",
   "name": "anaconda3_auxtel"
  },
  "language_info": {
   "codemirror_mode": {
    "name": "ipython",
    "version": 3
   },
   "file_extension": ".py",
   "mimetype": "text/x-python",
   "name": "python",
   "nbconvert_exporter": "python",
   "pygments_lexer": "ipython3",
   "version": "3.8.5"
  },
  "toc": {
   "base_numbering": 1,
   "nav_menu": {},
   "number_sections": true,
   "sideBar": true,
   "skip_h1_title": false,
   "title_cell": "Table of Contents",
   "title_sidebar": "Contents",
   "toc_cell": false,
   "toc_position": {},
   "toc_section_display": true,
   "toc_window_display": false
  }
 },
 "nbformat": 4,
 "nbformat_minor": 4
}
