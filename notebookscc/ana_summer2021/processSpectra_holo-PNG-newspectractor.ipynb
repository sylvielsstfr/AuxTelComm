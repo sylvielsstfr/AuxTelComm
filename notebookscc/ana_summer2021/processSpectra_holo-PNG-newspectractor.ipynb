{
 "cells": [
  {
   "cell_type": "markdown",
   "metadata": {},
   "source": [
    "# Build  spectra for AuxTel with new spectractor (September 2021): Part 1"
   ]
  },
  {
   "cell_type": "markdown",
   "metadata": {},
   "source": [
    "# For processing September 09 Planetary Nebula"
   ]
  },
  {
   "cell_type": "markdown",
   "metadata": {},
   "source": [
    "- author : Sylvie Dagoret-Campagne\n",
    "- affiliation : IJCLab/IN2P3/CNES, DESC-LSST fullmember, behalf AuxTel Teal VERA C. Rubin observatory\n",
    "- cretion date : September 22th  2021\n",
    "- version v3\n",
    "\n",
    "\n",
    "**This notebook is to help for finding the position of order 0 of the target**\n",
    "\n",
    "CCIN2P3:\n",
    "\n",
    "- works with kernels **anaconda3_auxtel** (with libradtran) and anaconda3_auxtel_v2 (no libradtran)"
   ]
  },
  {
   "cell_type": "markdown",
   "metadata": {},
   "source": [
    "# Imports"
   ]
  },
  {
   "cell_type": "code",
   "execution_count": 1,
   "metadata": {},
   "outputs": [],
   "source": [
    "import numpy as np\n",
    "import matplotlib.pyplot as plt\n",
    "%matplotlib inline\n",
    "from mpl_toolkits.axes_grid1 import make_axes_locatable\n",
    "from matplotlib.colors import LogNorm\n",
    "from matplotlib import  transforms\n",
    "import pandas as pd\n",
    "\n",
    "import matplotlib.ticker                         # here's where the formatter is\n",
    "import os\n",
    "import re\n",
    "\n",
    "plt.rcParams[\"figure.figsize\"] = (12,12)\n",
    "plt.rcParams[\"axes.labelsize\"] = 'xx-large'\n",
    "plt.rcParams['axes.titlesize'] = 'xx-large'\n",
    "plt.rcParams['xtick.labelsize']= 'xx-large'\n",
    "plt.rcParams['ytick.labelsize']= 'xx-large'"
   ]
  },
  {
   "cell_type": "code",
   "execution_count": 2,
   "metadata": {},
   "outputs": [],
   "source": [
    "from iminuit import Minuit\n",
    "import iminuit"
   ]
  },
  {
   "cell_type": "code",
   "execution_count": 3,
   "metadata": {},
   "outputs": [
    {
     "data": {
      "text/plain": [
       "'2.2.0'"
      ]
     },
     "execution_count": 3,
     "metadata": {},
     "output_type": "execute_result"
    }
   ],
   "source": [
    "iminuit.__version__"
   ]
  },
  {
   "cell_type": "code",
   "execution_count": 4,
   "metadata": {},
   "outputs": [
    {
     "name": "stderr",
     "output_type": "stream",
     "text": [
      "/sps/lsst/groups/auxtel/softs/utils/anaconda3/lib/python3.8/site-packages/secretstorage/dhcrypto.py:16: CryptographyDeprecationWarning: int_from_bytes is deprecated, use int.from_bytes instead\n",
      "  from cryptography.utils import int_from_bytes\n",
      "/sps/lsst/groups/auxtel/softs/utils/anaconda3/lib/python3.8/site-packages/secretstorage/util.py:25: CryptographyDeprecationWarning: int_from_bytes is deprecated, use int.from_bytes instead\n",
      "  from cryptography.utils import int_from_bytes\n"
     ]
    }
   ],
   "source": [
    "from astropy.io import fits\n",
    "from spectractor import parameters\n",
    "from spectractor.extractor.extractor import Spectractor\n",
    "from spectractor.extractor.images import *\n",
    "from scipy import ndimage, misc"
   ]
  },
  {
   "cell_type": "code",
   "execution_count": 5,
   "metadata": {},
   "outputs": [],
   "source": [
    "from scipy.stats import kurtosis,skew\n",
    "from scipy.stats import kurtosistest,skewtest,normaltest"
   ]
  },
  {
   "cell_type": "markdown",
   "metadata": {},
   "source": [
    "# Path"
   ]
  },
  {
   "cell_type": "code",
   "execution_count": 6,
   "metadata": {},
   "outputs": [],
   "source": [
    "path_auxtel=\"/sps/lsst/groups/auxtel\"\n",
    "path_spectractor=os.path.join(path_auxtel,\"softs/github/desc/Spectractor\")\n",
    "path_spectractor_config=os.path.join(path_spectractor,\"config\")\n",
    "#path_images=os.path.join(path_auxtel,\"data/2021/holo/localreduced/2021-07-06\")\n",
    "path_images=os.path.join(path_auxtel,\"data/2021/holo/quickLookExp/2021-09-09\")"
   ]
  },
  {
   "cell_type": "markdown",
   "metadata": {},
   "source": [
    "# Function"
   ]
  },
  {
   "cell_type": "code",
   "execution_count": 7,
   "metadata": {},
   "outputs": [],
   "source": [
    "def file_tag_forsorting(filename):\n",
    "    #m=re.findall('^Cor_holo4_003_.*([0-9][0-9][0-9][0-9]-[0-9][0-9]-[0-9][0-9]_.*)[.]fits$',filename)\n",
    "    m=re.findall('^holo4_003_*_(.*)_.*_quickLookExp[.]fits$',filename)\n",
    "    #print(m)\n",
    "    words=m[0].split(\"_\")\n",
    "    \n",
    "    outputstring=words[1]\n",
    "    \n",
    "    if outputstring==\"slew\":\n",
    "        outputstring+=\"_icrs\"\n",
    "    return outputstring"
   ]
  },
  {
   "cell_type": "code",
   "execution_count": 8,
   "metadata": {},
   "outputs": [],
   "source": [
    "def file_target(filename):\n",
    "    m=file_tag_forsorting(filename)\n",
    "    if len(m)>0:\n",
    "        return m\n",
    "    elif re.search('NGC4755',filename):\n",
    "        return ['NGC4755']\n",
    "    else:\n",
    "        return []\n",
    "         "
   ]
  },
  {
   "cell_type": "markdown",
   "metadata": {},
   "source": [
    "# Logbook for file selection"
   ]
  },
  {
   "cell_type": "code",
   "execution_count": 9,
   "metadata": {},
   "outputs": [],
   "source": [
    "filename_logbook='logbooks/auxtelholologbook_PNG_2021_09_09_v2.0.csv'"
   ]
  },
  {
   "cell_type": "code",
   "execution_count": 10,
   "metadata": {},
   "outputs": [],
   "source": [
    "df=pd.read_csv(filename_logbook,index_col=0)"
   ]
  },
  {
   "cell_type": "code",
   "execution_count": 11,
   "metadata": {},
   "outputs": [],
   "source": [
    "pd.set_option('display.max_rows', None)"
   ]
  },
  {
   "cell_type": "code",
   "execution_count": 12,
   "metadata": {},
   "outputs": [
    {
     "data": {
      "text/html": [
       "<div>\n",
       "<style scoped>\n",
       "    .dataframe tbody tr th:only-of-type {\n",
       "        vertical-align: middle;\n",
       "    }\n",
       "\n",
       "    .dataframe tbody tr th {\n",
       "        vertical-align: top;\n",
       "    }\n",
       "\n",
       "    .dataframe thead th {\n",
       "        text-align: right;\n",
       "    }\n",
       "</style>\n",
       "<table border=\"1\" class=\"dataframe\">\n",
       "  <thead>\n",
       "    <tr style=\"text-align: right;\">\n",
       "      <th></th>\n",
       "      <th>index</th>\n",
       "      <th>date</th>\n",
       "      <th>path</th>\n",
       "      <th>file</th>\n",
       "      <th>num</th>\n",
       "      <th>object</th>\n",
       "      <th>filter</th>\n",
       "      <th>disperser</th>\n",
       "      <th>airmass</th>\n",
       "      <th>exposure</th>\n",
       "      <th>...</th>\n",
       "      <th>temperature</th>\n",
       "      <th>humidity</th>\n",
       "      <th>windspd</th>\n",
       "      <th>Obj-posXpix</th>\n",
       "      <th>Obj-posYpix</th>\n",
       "      <th>Dx</th>\n",
       "      <th>Dy</th>\n",
       "      <th>skip</th>\n",
       "      <th>run</th>\n",
       "      <th>quality</th>\n",
       "    </tr>\n",
       "  </thead>\n",
       "  <tbody>\n",
       "    <tr>\n",
       "      <th>0</th>\n",
       "      <td>0</td>\n",
       "      <td>2021-09-09T23:53:55.100</td>\n",
       "      <td>/sps/lsst/groups/auxtel/data/2021/holo/quickLo...</td>\n",
       "      <td>holo4_003_empty_PNG321.0+03.9_20210909_000165_...</td>\n",
       "      <td>165</td>\n",
       "      <td>PNG321.0+03.9</td>\n",
       "      <td>empty_1</td>\n",
       "      <td>holo4_003</td>\n",
       "      <td>1.380357</td>\n",
       "      <td>10.0</td>\n",
       "      <td>...</td>\n",
       "      <td>9.2</td>\n",
       "      <td>16.0</td>\n",
       "      <td>4.0</td>\n",
       "      <td>300.0</td>\n",
       "      <td>1750.0</td>\n",
       "      <td>NaN</td>\n",
       "      <td>NaN</td>\n",
       "      <td></td>\n",
       "      <td>1.0</td>\n",
       "      <td>1.0</td>\n",
       "    </tr>\n",
       "    <tr>\n",
       "      <th>1</th>\n",
       "      <td>1</td>\n",
       "      <td>2021-09-09T23:54:18.095</td>\n",
       "      <td>/sps/lsst/groups/auxtel/data/2021/holo/quickLo...</td>\n",
       "      <td>holo4_003_empty_PNG321.0+03.9_20210909_000166_...</td>\n",
       "      <td>166</td>\n",
       "      <td>PNG321.0+03.9</td>\n",
       "      <td>empty_1</td>\n",
       "      <td>holo4_003</td>\n",
       "      <td>1.381613</td>\n",
       "      <td>10.0</td>\n",
       "      <td>...</td>\n",
       "      <td>9.1</td>\n",
       "      <td>16.0</td>\n",
       "      <td>3.6</td>\n",
       "      <td>300.0</td>\n",
       "      <td>1750.0</td>\n",
       "      <td>NaN</td>\n",
       "      <td>NaN</td>\n",
       "      <td></td>\n",
       "      <td>1.0</td>\n",
       "      <td>1.0</td>\n",
       "    </tr>\n",
       "    <tr>\n",
       "      <th>2</th>\n",
       "      <td>2</td>\n",
       "      <td>2021-09-09T23:54:41.122</td>\n",
       "      <td>/sps/lsst/groups/auxtel/data/2021/holo/quickLo...</td>\n",
       "      <td>holo4_003_empty_PNG321.0+03.9_20210909_000167_...</td>\n",
       "      <td>167</td>\n",
       "      <td>PNG321.0+03.9</td>\n",
       "      <td>empty_1</td>\n",
       "      <td>holo4_003</td>\n",
       "      <td>1.382874</td>\n",
       "      <td>10.0</td>\n",
       "      <td>...</td>\n",
       "      <td>9.1</td>\n",
       "      <td>16.0</td>\n",
       "      <td>3.6</td>\n",
       "      <td>300.0</td>\n",
       "      <td>1750.0</td>\n",
       "      <td>NaN</td>\n",
       "      <td>NaN</td>\n",
       "      <td></td>\n",
       "      <td>1.0</td>\n",
       "      <td>1.0</td>\n",
       "    </tr>\n",
       "    <tr>\n",
       "      <th>3</th>\n",
       "      <td>3</td>\n",
       "      <td>2021-09-09T23:55:04.180</td>\n",
       "      <td>/sps/lsst/groups/auxtel/data/2021/holo/quickLo...</td>\n",
       "      <td>holo4_003_empty_PNG321.0+03.9_20210909_000168_...</td>\n",
       "      <td>168</td>\n",
       "      <td>PNG321.0+03.9</td>\n",
       "      <td>empty_1</td>\n",
       "      <td>holo4_003</td>\n",
       "      <td>1.384148</td>\n",
       "      <td>30.0</td>\n",
       "      <td>...</td>\n",
       "      <td>9.1</td>\n",
       "      <td>16.0</td>\n",
       "      <td>3.6</td>\n",
       "      <td>300.0</td>\n",
       "      <td>1750.0</td>\n",
       "      <td>NaN</td>\n",
       "      <td>NaN</td>\n",
       "      <td></td>\n",
       "      <td>1.0</td>\n",
       "      <td>1.0</td>\n",
       "    </tr>\n",
       "    <tr>\n",
       "      <th>4</th>\n",
       "      <td>4</td>\n",
       "      <td>2021-09-09T23:55:47.196</td>\n",
       "      <td>/sps/lsst/groups/auxtel/data/2021/holo/quickLo...</td>\n",
       "      <td>holo4_003_empty_PNG321.0+03.9_20210909_000169_...</td>\n",
       "      <td>169</td>\n",
       "      <td>PNG321.0+03.9</td>\n",
       "      <td>empty_1</td>\n",
       "      <td>holo4_003</td>\n",
       "      <td>1.386523</td>\n",
       "      <td>30.0</td>\n",
       "      <td>...</td>\n",
       "      <td>9.0</td>\n",
       "      <td>17.0</td>\n",
       "      <td>3.1</td>\n",
       "      <td>300.0</td>\n",
       "      <td>1750.0</td>\n",
       "      <td>NaN</td>\n",
       "      <td>NaN</td>\n",
       "      <td></td>\n",
       "      <td>1.0</td>\n",
       "      <td>1.0</td>\n",
       "    </tr>\n",
       "    <tr>\n",
       "      <th>5</th>\n",
       "      <td>5</td>\n",
       "      <td>2021-09-09T23:56:30.224</td>\n",
       "      <td>/sps/lsst/groups/auxtel/data/2021/holo/quickLo...</td>\n",
       "      <td>holo4_003_empty_PNG321.0+03.9_20210909_000170_...</td>\n",
       "      <td>170</td>\n",
       "      <td>PNG321.0+03.9</td>\n",
       "      <td>empty_1</td>\n",
       "      <td>holo4_003</td>\n",
       "      <td>1.388908</td>\n",
       "      <td>30.0</td>\n",
       "      <td>...</td>\n",
       "      <td>9.0</td>\n",
       "      <td>16.0</td>\n",
       "      <td>3.9</td>\n",
       "      <td>300.0</td>\n",
       "      <td>1750.0</td>\n",
       "      <td>NaN</td>\n",
       "      <td>NaN</td>\n",
       "      <td></td>\n",
       "      <td>1.0</td>\n",
       "      <td>1.0</td>\n",
       "    </tr>\n",
       "    <tr>\n",
       "      <th>6</th>\n",
       "      <td>6</td>\n",
       "      <td>2021-09-09T23:57:13.142</td>\n",
       "      <td>/sps/lsst/groups/auxtel/data/2021/holo/quickLo...</td>\n",
       "      <td>holo4_003_empty_PNG321.0+03.9_20210909_000171_...</td>\n",
       "      <td>171</td>\n",
       "      <td>PNG321.0+03.9</td>\n",
       "      <td>empty_1</td>\n",
       "      <td>holo4_003</td>\n",
       "      <td>1.391300</td>\n",
       "      <td>60.0</td>\n",
       "      <td>...</td>\n",
       "      <td>9.0</td>\n",
       "      <td>16.0</td>\n",
       "      <td>3.9</td>\n",
       "      <td>300.0</td>\n",
       "      <td>1750.0</td>\n",
       "      <td>NaN</td>\n",
       "      <td>NaN</td>\n",
       "      <td></td>\n",
       "      <td>1.0</td>\n",
       "      <td>1.0</td>\n",
       "    </tr>\n",
       "    <tr>\n",
       "      <th>7</th>\n",
       "      <td>7</td>\n",
       "      <td>2021-09-10T00:04:18.230</td>\n",
       "      <td>/sps/lsst/groups/auxtel/data/2021/holo/quickLo...</td>\n",
       "      <td>holo4_003_empty_PNG321.0+03.9_20210909_000174_...</td>\n",
       "      <td>174</td>\n",
       "      <td>PNG321.0+03.9</td>\n",
       "      <td>empty_1</td>\n",
       "      <td>holo4_003</td>\n",
       "      <td>1.415803</td>\n",
       "      <td>0.0</td>\n",
       "      <td>...</td>\n",
       "      <td>8.9</td>\n",
       "      <td>15.0</td>\n",
       "      <td>3.7</td>\n",
       "      <td>300.0</td>\n",
       "      <td>1750.0</td>\n",
       "      <td>NaN</td>\n",
       "      <td>NaN</td>\n",
       "      <td></td>\n",
       "      <td>1.0</td>\n",
       "      <td>1.0</td>\n",
       "    </tr>\n",
       "    <tr>\n",
       "      <th>8</th>\n",
       "      <td>8</td>\n",
       "      <td>2021-09-10T00:06:01.239</td>\n",
       "      <td>/sps/lsst/groups/auxtel/data/2021/holo/quickLo...</td>\n",
       "      <td>holo4_003_empty_PNG321.0+03.9_20210909_000175_...</td>\n",
       "      <td>175</td>\n",
       "      <td>PNG321.0+03.9</td>\n",
       "      <td>empty_1</td>\n",
       "      <td>holo4_003</td>\n",
       "      <td>1.421962</td>\n",
       "      <td>60.0</td>\n",
       "      <td>...</td>\n",
       "      <td>8.9</td>\n",
       "      <td>15.0</td>\n",
       "      <td>3.8</td>\n",
       "      <td>300.0</td>\n",
       "      <td>1750.0</td>\n",
       "      <td>NaN</td>\n",
       "      <td>NaN</td>\n",
       "      <td></td>\n",
       "      <td>1.0</td>\n",
       "      <td>1.0</td>\n",
       "    </tr>\n",
       "    <tr>\n",
       "      <th>9</th>\n",
       "      <td>9</td>\n",
       "      <td>2021-09-10T00:07:14.156</td>\n",
       "      <td>/sps/lsst/groups/auxtel/data/2021/holo/quickLo...</td>\n",
       "      <td>holo4_003_empty_PNG321.0+03.9_20210909_000176_...</td>\n",
       "      <td>176</td>\n",
       "      <td>PNG321.0+03.9</td>\n",
       "      <td>empty_1</td>\n",
       "      <td>holo4_003</td>\n",
       "      <td>1.426365</td>\n",
       "      <td>60.0</td>\n",
       "      <td>...</td>\n",
       "      <td>8.9</td>\n",
       "      <td>15.0</td>\n",
       "      <td>4.4</td>\n",
       "      <td>300.0</td>\n",
       "      <td>1750.0</td>\n",
       "      <td>NaN</td>\n",
       "      <td>NaN</td>\n",
       "      <td></td>\n",
       "      <td>1.0</td>\n",
       "      <td>1.0</td>\n",
       "    </tr>\n",
       "    <tr>\n",
       "      <th>10</th>\n",
       "      <td>10</td>\n",
       "      <td>2021-09-10T00:08:27.395</td>\n",
       "      <td>/sps/lsst/groups/auxtel/data/2021/holo/quickLo...</td>\n",
       "      <td>holo4_003_empty_PNG321.0+03.9_20210909_000177_...</td>\n",
       "      <td>177</td>\n",
       "      <td>PNG321.0+03.9</td>\n",
       "      <td>empty_1</td>\n",
       "      <td>holo4_003</td>\n",
       "      <td>1.430840</td>\n",
       "      <td>60.0</td>\n",
       "      <td>...</td>\n",
       "      <td>8.9</td>\n",
       "      <td>15.0</td>\n",
       "      <td>4.6</td>\n",
       "      <td>300.0</td>\n",
       "      <td>1750.0</td>\n",
       "      <td>NaN</td>\n",
       "      <td>NaN</td>\n",
       "      <td></td>\n",
       "      <td>1.0</td>\n",
       "      <td>1.0</td>\n",
       "    </tr>\n",
       "  </tbody>\n",
       "</table>\n",
       "<p>11 rows × 23 columns</p>\n",
       "</div>"
      ],
      "text/plain": [
       "    index                     date  \\\n",
       "0       0  2021-09-09T23:53:55.100   \n",
       "1       1  2021-09-09T23:54:18.095   \n",
       "2       2  2021-09-09T23:54:41.122   \n",
       "3       3  2021-09-09T23:55:04.180   \n",
       "4       4  2021-09-09T23:55:47.196   \n",
       "5       5  2021-09-09T23:56:30.224   \n",
       "6       6  2021-09-09T23:57:13.142   \n",
       "7       7  2021-09-10T00:04:18.230   \n",
       "8       8  2021-09-10T00:06:01.239   \n",
       "9       9  2021-09-10T00:07:14.156   \n",
       "10     10  2021-09-10T00:08:27.395   \n",
       "\n",
       "                                                 path  \\\n",
       "0   /sps/lsst/groups/auxtel/data/2021/holo/quickLo...   \n",
       "1   /sps/lsst/groups/auxtel/data/2021/holo/quickLo...   \n",
       "2   /sps/lsst/groups/auxtel/data/2021/holo/quickLo...   \n",
       "3   /sps/lsst/groups/auxtel/data/2021/holo/quickLo...   \n",
       "4   /sps/lsst/groups/auxtel/data/2021/holo/quickLo...   \n",
       "5   /sps/lsst/groups/auxtel/data/2021/holo/quickLo...   \n",
       "6   /sps/lsst/groups/auxtel/data/2021/holo/quickLo...   \n",
       "7   /sps/lsst/groups/auxtel/data/2021/holo/quickLo...   \n",
       "8   /sps/lsst/groups/auxtel/data/2021/holo/quickLo...   \n",
       "9   /sps/lsst/groups/auxtel/data/2021/holo/quickLo...   \n",
       "10  /sps/lsst/groups/auxtel/data/2021/holo/quickLo...   \n",
       "\n",
       "                                                 file  num         object  \\\n",
       "0   holo4_003_empty_PNG321.0+03.9_20210909_000165_...  165  PNG321.0+03.9   \n",
       "1   holo4_003_empty_PNG321.0+03.9_20210909_000166_...  166  PNG321.0+03.9   \n",
       "2   holo4_003_empty_PNG321.0+03.9_20210909_000167_...  167  PNG321.0+03.9   \n",
       "3   holo4_003_empty_PNG321.0+03.9_20210909_000168_...  168  PNG321.0+03.9   \n",
       "4   holo4_003_empty_PNG321.0+03.9_20210909_000169_...  169  PNG321.0+03.9   \n",
       "5   holo4_003_empty_PNG321.0+03.9_20210909_000170_...  170  PNG321.0+03.9   \n",
       "6   holo4_003_empty_PNG321.0+03.9_20210909_000171_...  171  PNG321.0+03.9   \n",
       "7   holo4_003_empty_PNG321.0+03.9_20210909_000174_...  174  PNG321.0+03.9   \n",
       "8   holo4_003_empty_PNG321.0+03.9_20210909_000175_...  175  PNG321.0+03.9   \n",
       "9   holo4_003_empty_PNG321.0+03.9_20210909_000176_...  176  PNG321.0+03.9   \n",
       "10  holo4_003_empty_PNG321.0+03.9_20210909_000177_...  177  PNG321.0+03.9   \n",
       "\n",
       "     filter  disperser   airmass  exposure  ...  temperature  humidity  \\\n",
       "0   empty_1  holo4_003  1.380357      10.0  ...          9.2      16.0   \n",
       "1   empty_1  holo4_003  1.381613      10.0  ...          9.1      16.0   \n",
       "2   empty_1  holo4_003  1.382874      10.0  ...          9.1      16.0   \n",
       "3   empty_1  holo4_003  1.384148      30.0  ...          9.1      16.0   \n",
       "4   empty_1  holo4_003  1.386523      30.0  ...          9.0      17.0   \n",
       "5   empty_1  holo4_003  1.388908      30.0  ...          9.0      16.0   \n",
       "6   empty_1  holo4_003  1.391300      60.0  ...          9.0      16.0   \n",
       "7   empty_1  holo4_003  1.415803       0.0  ...          8.9      15.0   \n",
       "8   empty_1  holo4_003  1.421962      60.0  ...          8.9      15.0   \n",
       "9   empty_1  holo4_003  1.426365      60.0  ...          8.9      15.0   \n",
       "10  empty_1  holo4_003  1.430840      60.0  ...          8.9      15.0   \n",
       "\n",
       "    windspd  Obj-posXpix  Obj-posYpix  Dx  Dy  skip  run  quality  \n",
       "0       4.0        300.0       1750.0 NaN NaN        1.0      1.0  \n",
       "1       3.6        300.0       1750.0 NaN NaN        1.0      1.0  \n",
       "2       3.6        300.0       1750.0 NaN NaN        1.0      1.0  \n",
       "3       3.6        300.0       1750.0 NaN NaN        1.0      1.0  \n",
       "4       3.1        300.0       1750.0 NaN NaN        1.0      1.0  \n",
       "5       3.9        300.0       1750.0 NaN NaN        1.0      1.0  \n",
       "6       3.9        300.0       1750.0 NaN NaN        1.0      1.0  \n",
       "7       3.7        300.0       1750.0 NaN NaN        1.0      1.0  \n",
       "8       3.8        300.0       1750.0 NaN NaN        1.0      1.0  \n",
       "9       4.4        300.0       1750.0 NaN NaN        1.0      1.0  \n",
       "10      4.6        300.0       1750.0 NaN NaN        1.0      1.0  \n",
       "\n",
       "[11 rows x 23 columns]"
      ]
     },
     "execution_count": 12,
     "metadata": {},
     "output_type": "execute_result"
    }
   ],
   "source": [
    "df"
   ]
  },
  {
   "cell_type": "markdown",
   "metadata": {},
   "source": [
    "# Selection of input file"
   ]
  },
  {
   "cell_type": "code",
   "execution_count": 13,
   "metadata": {},
   "outputs": [],
   "source": [
    "idx=10"
   ]
  },
  {
   "cell_type": "code",
   "execution_count": 14,
   "metadata": {},
   "outputs": [],
   "source": [
    "myhome=os.getenv(\"HOME\")"
   ]
  },
  {
   "cell_type": "code",
   "execution_count": 15,
   "metadata": {},
   "outputs": [],
   "source": [
    "dir_images=path_images"
   ]
  },
  {
   "cell_type": "code",
   "execution_count": 16,
   "metadata": {},
   "outputs": [
    {
     "data": {
      "text/plain": [
       "'holo4_003_empty_PNG321.0+03.9_20210909_000177_quickLookExp.fits'"
      ]
     },
     "execution_count": 16,
     "metadata": {},
     "output_type": "execute_result"
    }
   ],
   "source": [
    "filename_image=df['file'][idx]\n",
    "filename_image"
   ]
  },
  {
   "cell_type": "code",
   "execution_count": 17,
   "metadata": {},
   "outputs": [
    {
     "data": {
      "text/plain": [
       "'PNG321.0+03.9'"
      ]
     },
     "execution_count": 17,
     "metadata": {},
     "output_type": "execute_result"
    }
   ],
   "source": [
    "file_target(filename_image)"
   ]
  },
  {
   "cell_type": "markdown",
   "metadata": {},
   "source": [
    "## Configuration file \n",
    "\n",
    "Ma suggestion, pour l'étude du centre optique via les scans des hologrammes, est de **mettre SPECTRACTOR_COMPUTE_ROTATION_ANGLE sur False** . \n",
    "\n",
    "Comme les angles ne sont pas très grands, si les marges du rectangle sont assez larges, réglables avec : \n",
    "\n",
    "    [background subtraction parameters] \n",
    "    # half transverse width of the signal rectangular window in pixels \n",
    "    PIXWIDTH_SIGNAL = 40 \n",
    "\n",
    "alors le spectrogramme devrait tenir dans une boite rectangulaire même sans rotation de l'image. **L'important est de garder SPECTRACTOR_DECONVOLUTION_FFM à True car c'est lui qui te donnera l'angle de l'axe de dispersion ajusté sur les données, dont la valeur sera dans le mot clé ROTANGLE du header de sortie**. \n"
   ]
  },
  {
   "cell_type": "code",
   "execution_count": 18,
   "metadata": {},
   "outputs": [],
   "source": [
    "filename=os.path.join(dir_images,filename_image)\n",
    "output_directory=\"./outputs_process_holo_PNG\"\n",
    "output_figures=\"figures_process_holo_PNG\"\n",
    "guess = [250,2600]\n",
    "disperser_label = \"holo4_003\"\n",
    "# old version\n",
    "# config = os.path.join(path_spectractor_config,\"auxtel_quicklook.ini\")\n",
    "# new version (September 20th 2021)\n",
    "# standard configuration\n",
    "# config = os.path.join(path_spectractor_config,\"auxtel.ini\")\n",
    "# special for scan in XY (dispersion rotation angle)\n",
    "config=\"./config/auxtel_PNG.ini\"\n",
    "\n",
    "target = file_target(filename_image)[0]"
   ]
  },
  {
   "cell_type": "code",
   "execution_count": 19,
   "metadata": {},
   "outputs": [],
   "source": [
    "if not os.path.isdir(output_directory):\n",
    "    os.mkdir(output_directory)\n",
    "if not os.path.isdir(output_figures):\n",
    "    os.mkdir(output_figures)"
   ]
  },
  {
   "cell_type": "markdown",
   "metadata": {},
   "source": [
    "# Configuration of the running mode"
   ]
  },
  {
   "cell_type": "code",
   "execution_count": 20,
   "metadata": {},
   "outputs": [],
   "source": [
    "parameters.debug=True\n",
    "parameters.verbose=True\n",
    "parameters.display=True\n",
    "parameters.LIVE_FIT=True"
   ]
  },
  {
   "cell_type": "code",
   "execution_count": 21,
   "metadata": {},
   "outputs": [],
   "source": [
    "#parameters.DISPERSER_DIR = os.path.join(spectractor_dir, \"extractor/dispersers/\")\n",
    "#parameters.CONFIG_DIR = os.path.join(spectractor_dir, \"../config/\")\n",
    "#parameters.THROUGHPUT_DIR = os.path.join(spectractor_dir, \"simulation/CTIOThroughput/\")"
   ]
  },
  {
   "cell_type": "markdown",
   "metadata": {},
   "source": [
    "# Transform the input file\n",
    "\n",
    "- adaptation to Spectractor (master branch) for Auxtel"
   ]
  },
  {
   "cell_type": "code",
   "execution_count": 22,
   "metadata": {},
   "outputs": [],
   "source": [
    "from shutil import copyfile"
   ]
  },
  {
   "cell_type": "code",
   "execution_count": 23,
   "metadata": {},
   "outputs": [
    {
     "data": {
      "text/plain": [
       "'holo4_003_empty_PNG321.0+03.9_20210909_000177_quickLookExp.fits'"
      ]
     },
     "execution_count": 23,
     "metadata": {},
     "output_type": "execute_result"
    }
   ],
   "source": [
    "copyfile(filename,filename_image)"
   ]
  },
  {
   "cell_type": "code",
   "execution_count": 24,
   "metadata": {},
   "outputs": [],
   "source": [
    "from astropy.io import fits"
   ]
  },
  {
   "cell_type": "code",
   "execution_count": 25,
   "metadata": {},
   "outputs": [],
   "source": [
    "hdu = fits.open(filename_image)"
   ]
  },
  {
   "cell_type": "code",
   "execution_count": 26,
   "metadata": {},
   "outputs": [
    {
     "name": "stdout",
     "output_type": "stream",
     "text": [
      "Filename: holo4_003_empty_PNG321.0+03.9_20210909_000177_quickLookExp.fits\n",
      "No.    Name      Ver    Type      Cards   Dimensions   Format\n",
      "  0  Segment10     1 PrimaryHDU     124   (4072, 4000)   float32   \n"
     ]
    }
   ],
   "source": [
    "hdu.info()"
   ]
  },
  {
   "cell_type": "code",
   "execution_count": 27,
   "metadata": {},
   "outputs": [],
   "source": [
    "header=hdu[0].header\n",
    "image=hdu[0].data"
   ]
  },
  {
   "cell_type": "code",
   "execution_count": 28,
   "metadata": {},
   "outputs": [],
   "source": [
    "hdu.close()"
   ]
  },
  {
   "cell_type": "markdown",
   "metadata": {},
   "source": [
    "## Rotate the image as expected by Spectractor"
   ]
  },
  {
   "cell_type": "code",
   "execution_count": 29,
   "metadata": {},
   "outputs": [],
   "source": [
    "rot_image=np.flip(np.flip(image, 1), 0)"
   ]
  },
  {
   "cell_type": "code",
   "execution_count": 30,
   "metadata": {},
   "outputs": [
    {
     "data": {
      "text/plain": [
       "<matplotlib.image.AxesImage at 0x7f7739a5d850>"
      ]
     },
     "execution_count": 30,
     "metadata": {},
     "output_type": "execute_result"
    }
   ],
   "source": [
    "plt.imshow(rot_image)"
   ]
  },
  {
   "cell_type": "markdown",
   "metadata": {},
   "source": [
    "### Remove WCS"
   ]
  },
  {
   "cell_type": "code",
   "execution_count": 31,
   "metadata": {},
   "outputs": [],
   "source": [
    "del header['WCSAXES']\n",
    "del header['CTYPE1']\n",
    "del header['CTYPE2']\n",
    "del header['CUNIT1']\n",
    "del header['CUNIT2']\n",
    "del header['CRVAL1']\n",
    "del header['CRVAL2']\n",
    "del header['CRPIX1']\n",
    "del header['CRPIX2']"
   ]
  },
  {
   "cell_type": "markdown",
   "metadata": {},
   "source": [
    "## Reshape the file for load_image_AUXTEL() in Spectractor/spectractor/extractor/images.py"
   ]
  },
  {
   "cell_type": "code",
   "execution_count": 32,
   "metadata": {},
   "outputs": [],
   "source": [
    "primary_hdu = fits.PrimaryHDU(header=header)\n",
    "image_hdu = fits.ImageHDU(rot_image)"
   ]
  },
  {
   "cell_type": "code",
   "execution_count": 33,
   "metadata": {},
   "outputs": [],
   "source": [
    "hdu_list = fits.HDUList([primary_hdu, image_hdu])"
   ]
  },
  {
   "cell_type": "code",
   "execution_count": 34,
   "metadata": {},
   "outputs": [
    {
     "name": "stdout",
     "output_type": "stream",
     "text": [
      "Filename: (No file associated with this HDUList)\n",
      "No.    Name      Ver    Type      Cards   Dimensions   Format\n",
      "  0  Segment10     1 PrimaryHDU     114   ()      \n",
      "  1                1 ImageHDU         7   (4072, 4000)   float32   \n"
     ]
    }
   ],
   "source": [
    "hdu_list.info()"
   ]
  },
  {
   "cell_type": "code",
   "execution_count": 35,
   "metadata": {},
   "outputs": [],
   "source": [
    "hdu_list.writeto(filename_image,overwrite=True)"
   ]
  },
  {
   "cell_type": "markdown",
   "metadata": {},
   "source": [
    "## Load the image in the new file"
   ]
  },
  {
   "cell_type": "code",
   "execution_count": 36,
   "metadata": {},
   "outputs": [
    {
     "name": "stderr",
     "output_type": "stream",
     "text": [
      "WARNING: ErfaWarning: ERFA function \"pmsafe\" yielded 1 of \"distance overridden (Note 6)\" [astropy._erfa.core]\n",
      "2021-09-23 11:16:13  astropy    _showwarning         WARNING ErfaWarning: ERFA function \"pmsafe\" yielded 1 of \"distance overridden (Note 6)\"\n"
     ]
    }
   ],
   "source": [
    "#image=Image(file_name=filename, target_label=target, disperser_label=disperser_label, config=config)\n",
    "image=Image(file_name=filename_image, target_label=target, disperser_label=disperser_label, config=config)"
   ]
  },
  {
   "cell_type": "markdown",
   "metadata": {},
   "source": [
    "## Show relevant parameters"
   ]
  },
  {
   "cell_type": "code",
   "execution_count": 37,
   "metadata": {},
   "outputs": [
    {
     "data": {
      "text/plain": [
       "'AUXTEL'"
      ]
     },
     "execution_count": 37,
     "metadata": {},
     "output_type": "execute_result"
    }
   ],
   "source": [
    "parameters.OBS_NAME"
   ]
  },
  {
   "cell_type": "code",
   "execution_count": 38,
   "metadata": {},
   "outputs": [
    {
     "data": {
      "text/plain": [
       "'/sps/lsst/groups/auxtel/softs/utils/anaconda3/lib/python3.8/site-packages/Spectractor-2.1-py3.8.egg/spectractor/extractor/dispersers/'"
      ]
     },
     "execution_count": 38,
     "metadata": {},
     "output_type": "execute_result"
    }
   ],
   "source": [
    "parameters.DISPERSER_DIR"
   ]
  },
  {
   "cell_type": "code",
   "execution_count": 39,
   "metadata": {},
   "outputs": [
    {
     "data": {
      "text/plain": [
       "182.0"
      ]
     },
     "execution_count": 39,
     "metadata": {},
     "output_type": "execute_result"
    }
   ],
   "source": [
    "parameters.DISTANCE2CCD"
   ]
  },
  {
   "cell_type": "code",
   "execution_count": 40,
   "metadata": {},
   "outputs": [
    {
     "data": {
      "text/plain": [
       "300"
      ]
     },
     "execution_count": 40,
     "metadata": {},
     "output_type": "execute_result"
    }
   ],
   "source": [
    "parameters.LAMBDA_MIN "
   ]
  },
  {
   "cell_type": "code",
   "execution_count": 41,
   "metadata": {},
   "outputs": [
    {
     "data": {
      "text/plain": [
       "1100"
      ]
     },
     "execution_count": 41,
     "metadata": {},
     "output_type": "execute_result"
    }
   ],
   "source": [
    "parameters.LAMBDA_MAX "
   ]
  },
  {
   "cell_type": "code",
   "execution_count": 42,
   "metadata": {},
   "outputs": [],
   "source": [
    "parameters.LSST_SAVEFIGPATH=True\n",
    "parameters.LSST_SAVEFIGPATH=output_figures"
   ]
  },
  {
   "cell_type": "code",
   "execution_count": 43,
   "metadata": {},
   "outputs": [
    {
     "data": {
      "text/plain": [
       "''"
      ]
     },
     "execution_count": 43,
     "metadata": {},
     "output_type": "execute_result"
    }
   ],
   "source": [
    "image.filter_label"
   ]
  },
  {
   "cell_type": "code",
   "execution_count": 44,
   "metadata": {},
   "outputs": [
    {
     "data": {
      "text/plain": [
       "'empty_1'"
      ]
     },
     "execution_count": 44,
     "metadata": {},
     "output_type": "execute_result"
    }
   ],
   "source": [
    "image.header[\"FILTER\"]"
   ]
  },
  {
   "cell_type": "code",
   "execution_count": 45,
   "metadata": {},
   "outputs": [],
   "source": [
    "#image.header"
   ]
  },
  {
   "cell_type": "markdown",
   "metadata": {},
   "source": [
    "# Plot image and find the target position"
   ]
  },
  {
   "cell_type": "code",
   "execution_count": 46,
   "metadata": {},
   "outputs": [],
   "source": [
    "image.plot_image(figsize=(12, 10),scale=\"log\")"
   ]
  },
  {
   "cell_type": "code",
   "execution_count": 47,
   "metadata": {},
   "outputs": [
    {
     "data": {
      "text/plain": [
       "'holo4_003_empty_PNG321.0+03.9_20210909_000177_quickLookExp.fits'"
      ]
     },
     "execution_count": 47,
     "metadata": {},
     "output_type": "execute_result"
    }
   ],
   "source": [
    "filename_image"
   ]
  },
  {
   "cell_type": "code",
   "execution_count": 48,
   "metadata": {},
   "outputs": [],
   "source": [
    "\n",
    "guess = [300., 1750.] # filename_image=df['file'][0] , holo4_003_empty_PNG321.0+03.9_20210909_000177_quickLookExp.fits"
   ]
  },
  {
   "cell_type": "code",
   "execution_count": 49,
   "metadata": {},
   "outputs": [
    {
     "data": {
      "text/plain": [
       "'holo4_003_empty_PNG321.0+03.9_20210909_000177_quickLookExp.fits'"
      ]
     },
     "execution_count": 49,
     "metadata": {},
     "output_type": "execute_result"
    }
   ],
   "source": [
    "filename_image"
   ]
  },
  {
   "cell_type": "code",
   "execution_count": 50,
   "metadata": {},
   "outputs": [
    {
     "name": "stderr",
     "output_type": "stream",
     "text": [
      "2021-09-23 11:16:38  spectractor.tools fit_poly2d_outlier_removal INFO   \n",
      "\tModel: Polynomial2D\n",
      "Inputs: ('x', 'y')\n",
      "Outputs: ('z',)\n",
      "Model set size: 1\n",
      "Degree: 1\n",
      "Parameters:\n",
      "          c0_0                c1_0                   c0_1        \n",
      "    ---------------- ---------------------- ---------------------\n",
      "    2.41171570285795 -0.0005479253587689386 0.0018520091257449348\n",
      "2021-09-23 11:16:39  spectractor.fit.fitter gradient_descent     INFO   \n",
      "\tGradient descent terminated in 5 iterations because the relative change of cost is below ftol=1.25e-05.\n",
      "2021-09-23 11:16:40  spectractor.fit.fitter gradient_descent     INFO   \n",
      "\tGradient descent terminated in 2 iterations because the relative change of cost is below ftol=5e-05.\n"
     ]
    }
   ],
   "source": [
    "\n",
    "parameters.VERBOSE = True\n",
    "parameters.DEBUG = True\n",
    "#x1, y1 = find_target(image, guess,rotated=False, use_wcs=False)\n",
    "x1, y1 = find_target(image, guess,rotated=False)"
   ]
  },
  {
   "cell_type": "code",
   "execution_count": 51,
   "metadata": {},
   "outputs": [
    {
     "name": "stdout",
     "output_type": "stream",
     "text": [
      "298.7572132470917 1767.716480316109\n"
     ]
    }
   ],
   "source": [
    "print(x1,y1)"
   ]
  },
  {
   "cell_type": "code",
   "execution_count": 52,
   "metadata": {},
   "outputs": [],
   "source": [
    "if x1>100:\n",
    "    WID=100\n",
    "else:\n",
    "    WID=50\n",
    "    \n",
    "\n",
    "thumbnail=np.copy(image.data[int(y1)-WID:int(y1)+WID,int(x1)-WID:int(x1)+WID])\n",
    "thumbnail_y=thumbnail.sum(axis=1)\n",
    "thumbnail_x=thumbnail.sum(axis=0)\n",
    "xx=np.linspace(int(x1)-WID,int(x1)+WID,len(thumbnail_x))\n",
    "yy=np.linspace(int(y1)-WID,int(y1)+WID,len(thumbnail_y))\n",
    "k0=kurtosis(thumbnail,axis=None,bias=True,fisher=True)\n",
    "kx=kurtosis(thumbnail_x,bias=True,fisher=True)\n",
    "ky=kurtosis(thumbnail_y,bias=True,fisher=True)\n",
    "s0=skew(thumbnail,axis=None,bias=True)\n",
    "sx=skew(thumbnail_x,bias=True)\n",
    "sy=skew(thumbnail_y,bias=True)\n",
    "        "
   ]
  },
  {
   "cell_type": "code",
   "execution_count": 53,
   "metadata": {},
   "outputs": [],
   "source": [
    "shape_str='\\n'.join((\n",
    "        r'skew     : Sk0 = {:3.3f}, Skx = {:3.3f}, Sky = {:3.3f} \\n'.format(s0,sx,sy),\n",
    "        r'kurtosis : K0  = {:3.3f}, Kx  = {:3.3f},  Ky = {:3.3f}'.format(k0,kx,ky)))"
   ]
  },
  {
   "cell_type": "code",
   "execution_count": 54,
   "metadata": {},
   "outputs": [],
   "source": [
    "skew_str='\\n'.join((\n",
    "        r'skew     : Sk0 = {:3.3f}'.format(s0),\n",
    "        r'             : Skx = {:3.3f}'.format(sx),\n",
    "        r'             : Sky = {:3.3f}'.format(sy)))"
   ]
  },
  {
   "cell_type": "code",
   "execution_count": 55,
   "metadata": {},
   "outputs": [],
   "source": [
    "kurt_str='\\n'.join((\n",
    "        r'kurtosis : K0 = {:3.3f}'.format(k0),\n",
    "        r'             : Kx = {:3.3f}'.format(kx),\n",
    "        r'             : Ky = {:3.3f}'.format(ky)))"
   ]
  },
  {
   "cell_type": "code",
   "execution_count": 56,
   "metadata": {},
   "outputs": [],
   "source": [
    "kurtosis_test_prob=kurtosistest(thumbnail,axis=None).pvalue\n",
    "skew_test_prob=skewtest(thumbnail,axis=None).pvalue\n",
    "normal_test_prob=normaltest(thumbnail,axis=None).pvalue"
   ]
  },
  {
   "cell_type": "code",
   "execution_count": 57,
   "metadata": {},
   "outputs": [],
   "source": [
    "kurtosis_test_val=kurtosistest(thumbnail,axis=None).statistic\n",
    "skew_test_val=skewtest(thumbnail,axis=None).statistic\n",
    "normal_test_val=normaltest(thumbnail,axis=None).statistic"
   ]
  },
  {
   "cell_type": "code",
   "execution_count": 58,
   "metadata": {},
   "outputs": [],
   "source": [
    "kurtosis_test_prob_x=kurtosistest(thumbnail_x).pvalue\n",
    "skew_test_prob_x=skewtest(thumbnail_x).pvalue\n",
    "normal_test_prob_x=normaltest(thumbnail_x).pvalue"
   ]
  },
  {
   "cell_type": "code",
   "execution_count": 59,
   "metadata": {},
   "outputs": [],
   "source": [
    "kurtosis_test_prob_y=kurtosistest(thumbnail_y).pvalue\n",
    "skew_test_prob_y=skewtest(thumbnail_y).pvalue\n",
    "normal_test_prob_y=normaltest(thumbnail_y).pvalue"
   ]
  },
  {
   "cell_type": "code",
   "execution_count": 60,
   "metadata": {},
   "outputs": [],
   "source": [
    "skew_str='\\n'.join((\n",
    "    r'skew     : Sk0 = {:3.3f}'.format(s0),\n",
    "    r'             : Skx = {:3.3f}'.format(sx),\n",
    "    r'             : Sky = {:3.3f}'.format(sy),\n",
    "    r'             : p_test   = {:3.3e}'.format(skew_test_prob),\n",
    "    r'             : p_test_x = {:3.3e}'.format(skew_test_prob_x),\n",
    "    r'             : p_test_y = {:3.3e}'.format(skew_test_prob_y)))"
   ]
  },
  {
   "cell_type": "code",
   "execution_count": 61,
   "metadata": {},
   "outputs": [],
   "source": [
    "kurt_str='\\n'.join((\n",
    "    r'kurtosis : K0 = {:3.3f}'.format(k0),\n",
    "    r'             : Kx = {:3.3f}'.format(kx),\n",
    "    r'             : Ky = {:3.3f}'.format(ky),\n",
    "    r'             : p_test   = {:3.3e}'.format(kurtosis_test_prob),\n",
    "    r'             : p_test_x = {:3.3e}'.format(kurtosis_test_prob_x),\n",
    "    r'             : p_test_y = {:3.3e}'.format(kurtosis_test_prob_y)))"
   ]
  },
  {
   "cell_type": "code",
   "execution_count": 62,
   "metadata": {},
   "outputs": [],
   "source": [
    "norm_str='\\n'.join((\n",
    "    r'normal  : p_test   = {:3.3e}'.format(normal_test_prob),\n",
    "    r'             : p_test_x = {:3.3e}'.format(normal_test_prob_x),\n",
    "    r'             : p_test_y = {:3.3e}'.format(normal_test_prob_y)))"
   ]
  },
  {
   "cell_type": "code",
   "execution_count": 63,
   "metadata": {},
   "outputs": [],
   "source": [
    "props = dict(boxstyle='round',edgecolor=\"w\",facecolor=\"w\", alpha=0.5)"
   ]
  },
  {
   "cell_type": "code",
   "execution_count": 64,
   "metadata": {},
   "outputs": [],
   "source": [
    "#matplotlib.pyplot.hist(x, \n",
    "#                       bins=10, \n",
    "#                       range=None, \n",
    "#                       normed=False, \n",
    "#                       weights=None, \n",
    "#                       cumulative=False, \n",
    "#                       bottom=None, \n",
    "#                       histtype=u'bar', \n",
    "#                       align=u'mid', \n",
    "#                       orientation=u'vertical', \n",
    "#                       rwidth=None, \n",
    "#                       log=False, \n",
    "#                       color=None, \n",
    "#                       label=None, \n",
    "#                       stacked=False, \n",
    "#                       hold=None, \n",
    "#                       **kwargs)"
   ]
  },
  {
   "cell_type": "code",
   "execution_count": 65,
   "metadata": {},
   "outputs": [
    {
     "data": {
      "text/plain": [
       "Text(0.05, 0.2, 'normal  : p_test   = 0.000e+00\\n             : p_test_x = 2.234e-34\\n             : p_test_y = 4.769e-29')"
      ]
     },
     "execution_count": 65,
     "metadata": {},
     "output_type": "execute_result"
    }
   ],
   "source": [
    "fig=plt.figure(figsize=(10,10))\n",
    "fig.subplots_adjust(left=0.12, right=0.95, wspace=0.3,\n",
    "                    bottom=0.15, top=0.9)\n",
    "\n",
    "ax=fig.add_subplot(222)\n",
    "ax.imshow(thumbnail,origin=\"lower\",extent=(int(x1)-WID,int(x1)+WID,int(y1)-WID,int(y1)+WID))\n",
    "ax.set_xlabel(\"X\")\n",
    "ax.set_ylabel(\"Y\")\n",
    "\n",
    "ax=fig.add_subplot(221)\n",
    "base = plt.gca().transData\n",
    "rot = transforms.Affine2D().rotate_deg(-90)\n",
    "#ax.plot(yy,thumbnail_y,\"g\",rotation=u'vertical')\n",
    "ax.plot(-yy,thumbnail_y,\"g\",transform= rot + base)\n",
    "ax.set_ylabel(\"Y\")\n",
    "\n",
    "ax=fig.add_subplot(224)\n",
    "ax.plot(xx,thumbnail_x,\"b\")\n",
    "ax.set_xlabel(\"X\")\n",
    "plt.tight_layout()\n",
    "\n",
    "ax=fig.add_subplot(223)\n",
    "ax.set_xlim(0,10)\n",
    "ax.set_ylim(0,10)\n",
    "ax.set_xticklabels([])\n",
    "ax.set_xticks([])\n",
    "ax.set_yticks([])\n",
    "\n",
    "ax.text(0.05, 0.9, skew_str, transform=ax.transAxes, fontsize=12,verticalalignment='top', bbox=props)\n",
    "ax.text(0.05, 0.55, kurt_str, transform=ax.transAxes, fontsize=12,verticalalignment='top', bbox=props)\n",
    "ax.text(0.05, 0.2, norm_str, transform=ax.transAxes, fontsize=12,verticalalignment='top', bbox=props)"
   ]
  },
  {
   "cell_type": "markdown",
   "metadata": {},
   "source": [
    "# Go for spectrum reconstruction"
   ]
  },
  {
   "cell_type": "code",
   "execution_count": null,
   "metadata": {},
   "outputs": [
    {
     "name": "stderr",
     "output_type": "stream",
     "text": [
      "2021-09-23 11:16:42  spectractor.extractor.extractor Spectractor          INFO   \n",
      "\tStart SPECTRACTOR\n",
      "2021-09-23 11:16:42  Image      load_AUXTEL_image    INFO   \n",
      "\tLoading AUXTEL image holo4_003_empty_PNG321.0+03.9_20210909_000177_quickLookExp.fits...\n"
     ]
    },
    {
     "name": "stdout",
     "output_type": "stream",
     "text": [
      "Section: paths\n",
      "x disperser_dir: extractor/dispersers/\t=> parameters.DISPERSER_DIR: /sps/lsst/groups/auxtel/softs/utils/anaconda3/lib/python3.8/site-packages/Spectractor-2.1-py3.8.egg/spectractor/extractor/dispersers/\t <class 'str'>\n",
      "x throughput_dir: simulation/AuxTelThroughput/\t=> parameters.THROUGHPUT_DIR: /sps/lsst/groups/auxtel/softs/utils/anaconda3/lib/python3.8/site-packages/Spectractor-2.1-py3.8.egg/spectractor/simulation/AuxTelThroughput/\t <class 'str'>\n",
      "Section: pipeline\n",
      "x spectractor_fit_target_centroid: fit\t=> parameters.SPECTRACTOR_FIT_TARGET_CENTROID: fit\t <class 'str'>\n",
      "x spectractor_compute_rotation_angle: False\t=> parameters.SPECTRACTOR_COMPUTE_ROTATION_ANGLE: False\t <class 'bool'>\n",
      "x spectractor_deconvolution_psf2d: False\t=> parameters.SPECTRACTOR_DECONVOLUTION_PSF2D: False\t <class 'bool'>\n",
      "x spectractor_deconvolution_ffm: True\t=> parameters.SPECTRACTOR_DECONVOLUTION_FFM: True\t <class 'bool'>\n",
      "Section: instrument\n",
      "x obs_name: AUXTEL\t=> parameters.OBS_NAME: AUXTEL\t <class 'str'>\n",
      "x obs_altitude: 2.66299616375123\t=> parameters.OBS_ALTITUDE: 2.66299616375123\t <class 'float'>\n",
      "x obs_latitude: -30.2446389756252\t=> parameters.OBS_LATITUDE: -30.2446389756252\t <class 'float'>\n",
      "x obs_diameter: 1.20\t=> parameters.OBS_DIAMETER: 1.2 m\t <class 'astropy.units.quantity.Quantity'>\n",
      "x obs_epoch: J2000.0\t=> parameters.OBS_EPOCH: J2000.0\t <class 'str'>\n",
      "x obs_transmission_systematics: 0.005\t=> parameters.OBS_TRANSMISSION_SYSTEMATICS: 0.005\t <class 'float'>\n",
      "x obs_object_type: STAR\t=> parameters.OBS_OBJECT_TYPE: STAR\t <class 'str'>\n",
      "x obs_telescope_transmission: calexp_2020031500162-EMPTY_ronchi90lpmm-det000_auxtel_transmission.txt\t=> parameters.OBS_TELESCOPE_TRANSMISSION: calexp_2020031500162-EMPTY_ronchi90lpmm-det000_auxtel_transmission.txt\t <class 'str'>\n",
      "x obs_full_instrument_transmisson: calexp_2020031500162-EMPTY_ronchi90lpmm-det000_auxtel_transmission.txt\t=> parameters.OBS_FULL_INSTRUMENT_TRANSMISSON: calexp_2020031500162-EMPTY_ronchi90lpmm-det000_auxtel_transmission.txt\t <class 'str'>\n",
      "x obs_quantum_efficiency: calexp_2020031500162-EMPTY_ronchi90lpmm-det000_auxtel_transmission.txt\t=> parameters.OBS_QUANTUM_EFFICIENCY: calexp_2020031500162-EMPTY_ronchi90lpmm-det000_auxtel_transmission.txt\t <class 'str'>\n",
      "x obs_camera_rotation: 0\t=> parameters.OBS_CAMERA_ROTATION: 0\t <class 'int'>\n",
      "x obs_camera_dec_flip_sign: 1\t=> parameters.OBS_CAMERA_DEC_FLIP_SIGN: 1\t <class 'int'>\n",
      "x obs_camera_ra_flip_sign: -1\t=> parameters.OBS_CAMERA_RA_FLIP_SIGN: -1\t <class 'int'>\n",
      "Section: CCD\n",
      "x ccd_imsize: 4096\t=> parameters.CCD_IMSIZE: 4096\t <class 'int'>\n",
      "x ccd_pixel2mm: 10e-3\t=> parameters.CCD_PIXEL2MM: 0.01\t <class 'float'>\n",
      "x ccd_pixel2arcsec: 0.0952\t=> parameters.CCD_PIXEL2ARCSEC: 0.0952\t <class 'float'>\n",
      "x ccd_maxadu: 170000\t=> parameters.CCD_MAXADU: 170000\t <class 'int'>\n",
      "x ccd_gain: 1.1\t=> parameters.CCD_GAIN: 1.1\t <class 'float'>\n",
      "x ccd_rebin: 1\t=> parameters.CCD_REBIN: 1\t <class 'int'>\n",
      "Section: spectrograph\n",
      "x distance2ccd: 175\t=> parameters.DISTANCE2CCD: 175\t <class 'int'>\n",
      "x distance2ccd_err: 0.75\t=> parameters.DISTANCE2CCD_ERR: 0.75\t <class 'float'>\n",
      "x grating_order_2over1: 0.1\t=> parameters.GRATING_ORDER_2OVER1: 0.1\t <class 'float'>\n",
      "Section: search windows\n",
      "x xwindow: 100\t=> parameters.XWINDOW: 100\t <class 'int'>\n",
      "x ywindow: 100\t=> parameters.YWINDOW: 100\t <class 'int'>\n",
      "x xwindow_rot: 50\t=> parameters.XWINDOW_ROT: 50\t <class 'int'>\n",
      "x ywindow_rot: 50\t=> parameters.YWINDOW_ROT: 50\t <class 'int'>\n",
      "x pixshift_prior: 5\t=> parameters.PIXSHIFT_PRIOR: 5\t <class 'int'>\n",
      "Section: rotation parameters\n",
      "x rot_prefilter: True\t=> parameters.ROT_PREFILTER: True\t <class 'bool'>\n",
      "x rot_order: 5\t=> parameters.ROT_ORDER: 5\t <class 'int'>\n",
      "x rot_angle_min: -10\t=> parameters.ROT_ANGLE_MIN: -10\t <class 'int'>\n",
      "x rot_angle_max: 10\t=> parameters.ROT_ANGLE_MAX: 10\t <class 'int'>\n",
      "Section: spectrum range\n",
      "x lambda_min: 300\t=> parameters.LAMBDA_MIN: 300\t <class 'int'>\n",
      "x lambda_max: 1100\t=> parameters.LAMBDA_MAX: 1100\t <class 'int'>\n",
      "Section: background subtraction parameters\n",
      "x pixwidth_signal: 20\t=> parameters.PIXWIDTH_SIGNAL: 20\t <class 'int'>\n",
      "x pixdist_background: 60\t=> parameters.PIXDIST_BACKGROUND: 60\t <class 'int'>\n",
      "x pixwidth_background: 20\t=> parameters.PIXWIDTH_BACKGROUND: 20\t <class 'int'>\n",
      "x pixwidth_boxsize: 20\t=> parameters.PIXWIDTH_BOXSIZE: 20\t <class 'int'>\n",
      "Section: PSF\n",
      "x psf_type: Moffat\t=> parameters.PSF_TYPE: Moffat\t <class 'str'>\n",
      "x psf_poly_order: 2\t=> parameters.PSF_POLY_ORDER: 2\t <class 'int'>\n",
      "x psf_fit_reg_param: 1\t=> parameters.PSF_FIT_REG_PARAM: 1\t <class 'int'>\n",
      "x psf_pixel_step_transverse_fit: 50\t=> parameters.PSF_PIXEL_STEP_TRANSVERSE_FIT: 50\t <class 'int'>\n",
      "x psf_fwhm_clip: 2\t=> parameters.PSF_FWHM_CLIP: 2\t <class 'int'>\n",
      "Section: detection line algorithm parameters\n",
      "x calib_bgd_order: 3\t=> parameters.CALIB_BGD_ORDER: 3\t <class 'int'>\n",
      "x calib_peak_width: 7\t=> parameters.CALIB_PEAK_WIDTH: 7\t <class 'int'>\n",
      "x calib_bgd_width: 15\t=> parameters.CALIB_BGD_WIDTH: 15\t <class 'int'>\n",
      "x calib_savgol_window: 5\t=> parameters.CALIB_SAVGOL_WINDOW: 5\t <class 'int'>\n",
      "x calib_savgol_order: 2\t=> parameters.CALIB_SAVGOL_ORDER: 2\t <class 'int'>\n",
      "Section: plot settings\n",
      "x paper: False\t=> parameters.PAPER: False\t <class 'bool'>\n",
      "x linewidth: 2\t=> parameters.LINEWIDTH: 2\t <class 'int'>\n",
      "x plot_dir: plots\t=> parameters.PLOT_DIR: plots\t <class 'str'>\n",
      "x save: True\t=> parameters.SAVE: True\t <class 'bool'>\n"
     ]
    },
    {
     "name": "stderr",
     "output_type": "stream",
     "text": [
      "2021-09-23 11:16:45  Image      load_AUXTEL_image    INFO   \n",
      "\tImage loaded\n",
      "2021-09-23 11:16:48  Image      load_image           INFO   \n",
      "\tLoading disperser holo4_003...\n",
      "2021-09-23 11:16:48  Hologram   load_specs           INFO   \n",
      "\tLoad disperser holo4_003:\n",
      "\tfrom /sps/lsst/groups/auxtel/softs/utils/anaconda3/lib/python3.8/site-packages/Spectractor-2.1-py3.8.egg/spectractor/extractor/dispersers/holo4_003\n",
      "2021-09-23 11:16:48  Hologram   load_specs           INFO   \n",
      "\tGrating characteristics:\n",
      "\tN = 156.00 +/- 1.00 grooves/mm\n",
      "\tAverage tilt of -0.3 degrees\n",
      "2021-09-23 11:17:28  Star       load                 INFO   \n",
      "\tSimbad:\n",
      "  MAIN_ID          RA           DEC      ... Z_VALUE_2  SCRIPT_NUMBER_ID\n",
      "                \"h:m:s\"       \"d:m:s\"    ...                            \n",
      "------------ ------------- ------------- ... ---------- ----------------\n",
      "WRAY 15-1269 14 59 53.4814 -54 18 07.524 ... -0.0002100                1\n",
      "WARNING: ErfaWarning: ERFA function \"pmsafe\" yielded 1 of \"distance overridden (Note 6)\" [astropy._erfa.core]\n",
      "2021-09-23 11:17:28  astropy    _showwarning         WARNING ErfaWarning: ERFA function \"pmsafe\" yielded 1 of \"distance overridden (Note 6)\"\n",
      "2021-09-23 11:17:28  Star       load_spectra         DEBUG  \n",
      "\tTarget label: PNG321.0+03.9\n",
      "\tCalspec? False\n",
      "\tNumber of spectra: 0\n",
      "\tRedshift: -0.00021\n",
      "\tEmission spectrum ? True\n",
      "\tLines: ['$He_{I}$', '$He_{I}$', '$H\\\\epsilon$', '$H\\\\delta$', '$H\\\\gamma$', '$He_{I}$', '$Fe_{II}$', '$He_{II}$', '$H\\\\beta$', '$O_{III}$', '$Fe_{II}$', '$Fe_{II}$', '$Fe_{II}$', '$C_{III}$', '$He_{I}$', '$He_{II}$', '$He_{II}$', '$O_{II}$', '$H\\\\alpha$', '$C_{III}$', '$C_{II}$', '$O_2(B)$', '$C_{IV}$', '$C_{II}$', '$C_{II}$', '$O_{II}$', '$He_{I}$', '', '$O_2$', '$He_{I}$', '$He_{I}$', '$O_2(Z)$', '$H_{I}$', '$He_{I}$', '$He_{II}$', '$He_{I}$', '$O_2(Y)$', '$He_{I}$', '$He_{I}$', '$H_2 O$', '$He_{I}$', '$C_{III}$', '$He_{I}$']\n",
      "2021-09-23 11:17:37  spectractor.extractor.extractor Spectractor          INFO   \n",
      "\tSearch for the target in the image with guess=[ 298.75721325 1767.71648032]...\n",
      "2021-09-23 11:17:37  spectractor.tools fit_poly2d_outlier_removal INFO   \n",
      "\tModel: Polynomial2D\n",
      "Inputs: ('x', 'y')\n",
      "Outputs: ('z',)\n",
      "Model set size: 1\n",
      "Degree: 1\n",
      "Parameters:\n",
      "           c0_0               c1_0                  c0_1        \n",
      "    ----------------- -------------------- ---------------------\n",
      "    2.577906278268215 -0.00044648651864629 6.713358537870872e-05\n",
      "2021-09-23 11:17:38  spectractor.fit.fitter gradient_descent     INFO   \n",
      "\tGradient descent terminated in 5 iterations because the relative change of cost is below ftol=1.25e-05.\n",
      "2021-09-23 11:17:39  spectractor.fit.fitter gradient_descent     INFO   \n",
      "\tGradient descent terminated in 2 iterations because the relative change of cost is below ftol=5e-05.\n",
      "2021-09-23 11:17:39  Image      find_target          INFO   \n",
      "\tX,Y target position in pixels: 298.757,1767.719\n",
      "2021-09-23 11:17:39  Image      turn_image           INFO   \n",
      "\tRotate the image with angle theta=0.00 degree\n",
      "2021-09-23 11:18:06  spectractor.extractor.extractor Spectractor          INFO   \n",
      "\tSearch for the target in the rotated image...\n",
      "2021-09-23 11:18:06  spectractor.tools fit_poly2d_outlier_removal INFO   \n",
      "\tModel: Polynomial2D\n",
      "Inputs: ('x', 'y')\n",
      "Outputs: ('z',)\n",
      "Model set size: 1\n",
      "Degree: 1\n",
      "Parameters:\n",
      "           c0_0                c1_0                  c0_1         \n",
      "    ------------------ -------------------- ----------------------\n",
      "    3.7669394494820745 0.004251143443625795 -0.0005913148429287674\n",
      "2021-09-23 11:18:06  spectractor.fit.fitter gradient_descent     INFO   \n",
      "\tGradient descent terminated in 2 iterations because the relative change of cost is below ftol=5e-05.\n",
      "2021-09-23 11:18:07  spectractor.fit.fitter gradient_descent     INFO   \n",
      "\tGradient descent terminated in 2 iterations because the relative change of cost is below ftol=0.0002.\n",
      "2021-09-23 11:18:08  Image      find_target          INFO   \n",
      "\tX,Y target position in pixels: 298.758,1767.718\n",
      "2021-09-23 11:18:08  Spectrum   __init__             INFO   \n",
      "\tSpectrum info copied from image\n",
      "2021-09-23 11:18:08  spectractor.extractor.extractor extract_spectrum_from_image INFO   \n",
      "\tExtracting spectrum from image: spectrum with width 2*20 pixels and background from 60 to 80 pixels\n",
      "2021-09-23 11:18:11  spectractor.extractor.extractor extract_spectrum_from_image INFO   \n",
      "\tExtract spectrogram: crop rotated image [1151:3468,1687:1847] (size (2317, 160))\n",
      "2021-09-23 11:18:14  spectractor.extractor.extractor extract_spectrum_from_image DEBUG  \n",
      "\tPull distribution of background residuals differs too much from mean=0 and std=1. \n",
      "\t\tmean=0.274; std=1.68\n",
      "\tThese value should be smaller in absolute value than 0.5 and 1.3. \n",
      "\tTo do so, parameters.PIXWIDTH_BOXSIZE is divided by 2 from 20 -> 10.\n",
      "2021-09-23 11:18:18  spectractor.extractor.extractor extract_spectrum_from_image DEBUG  \n",
      "\tPull distribution of background residuals differs too much from mean=0 and std=1. \n",
      "\t\tmean=-0.11; std=1.64\n",
      "\tThese value should be smaller in absolute value than 0.5 and 1.3. \n",
      "\tTo do so, parameters.PIXWIDTH_BOXSIZE is divided by 2 from 10 -> 5.\n",
      "2021-09-23 11:18:30  spectractor.extractor.extractor extract_spectrum_from_image INFO   \n",
      "\tStart PSF1D transverse fit...\n",
      "2021-09-23 11:19:10  spectractor.fit.fitter gradient_descent     INFO   \n",
      "\tIteration=0: initial cost=4.3151e+06 initial chisq_red=46.559\n",
      "\t\t Line search: alpha_min=0.382 iter=3 funcalls=7\n",
      "\tParameter shifts: [ 0.38201767  0.55186551  0.33298109 -2.22876373 -2.34988399  2.99350094\n",
      " -6.14113996  6.81751618  0.46153373]\n",
      "\tNew parameters: [ -1.91316418   6.70591615  -1.06282434  17.56487581 -18.215391\n",
      "  25.31256311   3.58605438  -5.18500618   8.62960278]\n",
      "\tFinal cost=3.7869e+06 final chisq_red=40.86 computed in 31.26s\n",
      "2021-09-23 11:19:47  spectractor.fit.fitter gradient_descent     INFO   \n",
      "\tIteration=1: initial cost=3.7869e+06 initial chisq_red=40.86\n",
      "\t\t Line search: alpha_min=7.91 iter=0 funcalls=13\n",
      "\tParameter shifts: [ 15.21204697  -6.35961522   8.51283929  65.16451671 -65.35568154\n",
      "  65.96738749   9.81522329 -18.06951672  50.01586025]\n",
      "\tNew parameters: [ 13.29888279   0.34630093   7.45001495  82.72939252 -83.57107254\n",
      "  91.2799506   13.40127767 -23.2545229   58.64546304]\n",
      "\tFinal cost=2.3793e+06 final chisq_red=25.672 computed in 36.49s\n",
      "2021-09-23 11:20:09  spectractor.fit.fitter gradient_descent     INFO   \n",
      "\tIteration=2: initial cost=2.3793e+06 initial chisq_red=25.672\n",
      "\t\t Line search: alpha_min=0.382 iter=3 funcalls=7\n",
      "\tParameter shifts: [ -0.40276966  -1.77071498  -3.9745168  -61.41993091  80.05896611\n",
      " -97.21775662  -0.27658375  -0.11148665  -4.93327124]\n",
      "\tNew parameters: [ 12.89611313  -1.42441405   3.47549814  21.30946161  -3.51210643\n",
      "  -5.93780602  13.12469392 -23.36600956  53.7121918 ]\n",
      "\tFinal cost=2.0842e+06 final chisq_red=22.488 computed in 22.17s\n",
      "2021-09-23 11:20:27  spectractor.fit.fitter gradient_descent     INFO   \n",
      "\tIteration=3: initial cost=2.0842e+06 initial chisq_red=22.488\n",
      "\t\t Line search: alpha_min=0.382 iter=3 funcalls=7\n",
      "\tParameter shifts: [ -0.65494743  -0.73183926   1.47244248  -6.10084739   3.72382071\n",
      "   4.4221551  -10.27253186  21.50278308 -49.11695852]\n",
      "\tNew parameters: [12.2411657  -2.1562533   4.94794062 15.20861422  0.21171428 -1.51565091\n",
      "  2.85216205 -1.86322647  4.59523327]\n",
      "\tFinal cost=1.5199e+06 final chisq_red=16.399 computed in 17.50s\n",
      "2021-09-23 11:20:49  spectractor.fit.fitter gradient_descent     INFO   \n",
      "\tIteration=4: initial cost=1.5199e+06 initial chisq_red=16.399\n",
      "\t\t Line search: alpha_min=0.618 iter=3 funcalls=7\n",
      "\tParameter shifts: [-1.29222226 -2.23154295  2.41947666 -1.1222016   5.26813707 13.90786928\n",
      " -0.09206673  1.75159301 -1.02762605]\n",
      "\tNew parameters: [10.94894344 -4.38779625  7.36741728 14.08641262  5.47985135 12.39221836\n",
      "  2.76009532 -0.11163346  3.56760723]\n",
      "\tFinal cost=1.0373e+06 final chisq_red=11.192 computed in 22.09s\n",
      "2021-09-23 11:21:05  spectractor.fit.fitter gradient_descent     INFO   \n",
      "\tIteration=5: initial cost=1.0373e+06 initial chisq_red=11.192\n",
      "\t\t Line search: alpha_min=1 iter=1 funcalls=5\n",
      "\tParameter shifts: [-1.09365892 -1.14087591 -4.64027351 -2.51836338 -9.89202871 -2.31477942\n",
      " -0.12225173 -2.1221883   0.17132065]\n",
      "\tNew parameters: [ 9.85528451 -5.52867216  2.72714377 11.56804924 -4.41217736 10.07743895\n",
      "  2.63784359 -2.23382176  3.73892787]\n",
      "\tFinal cost=9.1694e+05 final chisq_red=9.8936 computed in 16.59s\n",
      "2021-09-23 11:21:21  spectractor.fit.fitter gradient_descent     INFO   \n",
      "\tIteration=6: initial cost=9.1694e+05 initial chisq_red=9.8936\n",
      "\t\t Line search: alpha_min=1.62 iter=1 funcalls=5\n",
      "\tParameter shifts: [-0.27972122  0.07487677 -0.91707112  3.34156052 -0.04356937  5.11101015\n",
      "  0.99335795 -0.43185521  1.67680744]\n",
      "\tNew parameters: [ 9.57556329 -5.45379539  1.81007265 14.90960976 -4.45574673 15.1884491\n",
      "  3.63120154 -2.66567697  5.41573531]\n",
      "\tFinal cost=8.9514e+05 final chisq_red=9.6584 computed in 16.13s\n",
      "2021-09-23 11:21:40  spectractor.fit.fitter gradient_descent     INFO   \n",
      "\tIteration=7: initial cost=8.9514e+05 initial chisq_red=9.6584\n",
      "\t\t Line search: alpha_min=1 iter=1 funcalls=5\n",
      "\tParameter shifts: [ 0.04261087 -0.27872964  0.37244395  5.2589451  -1.86698526 10.94689877\n",
      "  2.03643543 -1.25192144  4.54543077]\n",
      "\tNew parameters: [ 9.61817416 -5.73252502  2.18251661 20.16855486 -6.32273198 26.13534787\n",
      "  5.66763696 -3.91759841  9.96116608]\n",
      "\tFinal cost=8.9432e+05 final chisq_red=9.6496 computed in 18.52s\n",
      "2021-09-23 11:21:56  spectractor.fit.fitter gradient_descent     INFO   \n",
      "\tIteration=8: initial cost=8.9432e+05 initial chisq_red=9.6496\n",
      "\t\t Line search: alpha_min=1 iter=1 funcalls=5\n",
      "\tParameter shifts: [-0.04330557  0.16850228 -0.10112235 -3.89563523  1.38174981 -8.2551469\n",
      " -1.28175205  0.71297959 -2.83571176]\n",
      "\tNew parameters: [ 9.57486859 -5.56402274  2.08139426 16.27291964 -4.94098217 17.88020097\n",
      "  4.38588491 -3.20461883  7.12545432]\n",
      "\tFinal cost=8.9178e+05 final chisq_red=9.6222 computed in 15.58s\n",
      "2021-09-23 11:22:16  spectractor.fit.fitter gradient_descent     INFO   \n",
      "\tIteration=9: initial cost=8.9178e+05 initial chisq_red=9.6222\n",
      "\t\t Line search: alpha_min=0.382 iter=3 funcalls=7\n",
      "\tParameter shifts: [ 0.01388058 -0.04861015  0.03788556  1.01167373 -1.12502863  1.988199\n",
      "  0.42604811 -0.55077512  0.96314824]\n",
      "\tNew parameters: [ 9.58874917 -5.6126329   2.11927982 17.28459337 -6.0660108  19.86839997\n",
      "  4.81193302 -3.75539395  8.08860256]\n",
      "\tFinal cost=8.9076e+05 final chisq_red=9.6111 computed in 20.84s\n",
      "2021-09-23 11:22:34  spectractor.fit.fitter gradient_descent     INFO   \n",
      "\tIteration=10: initial cost=8.9076e+05 initial chisq_red=9.6111\n",
      "\t\t Line search: alpha_min=0.382 iter=3 funcalls=7\n",
      "\tParameter shifts: [ 1.63486773e-03 -3.07162460e-02  7.71924572e-03  9.67516946e-01\n",
      " -5.72136809e-01  1.94179280e+00  4.14343042e-01 -3.39080831e-01\n",
      "  9.12006090e-01]\n",
      "\tNew parameters: [ 9.59038404 -5.64334914  2.12699907 18.25211032 -6.63814761 21.81019277\n",
      "  5.22627606 -4.09447478  9.00060865]\n",
      "\tFinal cost=8.905e+05 final chisq_red=9.6083 computed in 17.98s\n",
      "2021-09-23 11:23:00  spectractor.fit.fitter gradient_descent     INFO   \n",
      "\tIteration=11: initial cost=8.905e+05 initial chisq_red=9.6083\n",
      "\t\t Line search: alpha_min=0.173 iter=5 funcalls=9\n",
      "\tParameter shifts: [-0.00260947  0.00109092 -0.006646    0.04050471 -0.1544301   0.05721651\n",
      "  0.02970884 -0.08525874  0.07115333]\n",
      "\tNew parameters: [ 9.58777457 -5.64225822  2.12035307 18.29261503 -6.79257771 21.86740927\n",
      "  5.2559849  -4.17973352  9.07176198]\n",
      "\tFinal cost=8.9043e+05 final chisq_red=9.6076 computed in 25.90s\n",
      "2021-09-23 11:23:25  spectractor.fit.fitter gradient_descent     INFO   \n",
      "\tIteration=12: initial cost=8.9043e+05 initial chisq_red=9.6076\n",
      "\t\t Line search: alpha_min=1 iter=1 funcalls=5\n",
      "\tParameter shifts: [-0.01383402 -0.00587155 -0.0328861   0.21043183 -0.14076978  0.3765489\n",
      "  0.1075433  -0.09546312  0.22557794]\n",
      "\tNew parameters: [ 9.57394055 -5.64812977  2.08746697 18.50304686 -6.93334749 22.24395817\n",
      "  5.36352821 -4.27519664  9.29733992]\n",
      "\tFinal cost=8.9042e+05 final chisq_red=9.6074 computed in 25.19s\n",
      "2021-09-23 11:23:57  spectractor.fit.fitter gradient_descent     INFO   \n",
      "\tIteration=13: initial cost=8.9042e+05 initial chisq_red=9.6074\n",
      "\t\t Line search: alpha_min=0.152 iter=4 funcalls=8\n",
      "\tParameter shifts: [-0.0010338   0.00130784 -0.00243985 -0.04492593  0.00280071 -0.09555324\n",
      " -0.01677264  0.0008911  -0.03527183]\n",
      "\tNew parameters: [ 9.57290675 -5.64682193  2.08502712 18.45812093 -6.93054678 22.14840493\n",
      "  5.34675557 -4.27430553  9.26206809]\n",
      "\tFinal cost=8.9041e+05 final chisq_red=9.6073 computed in 31.24s\n",
      "2021-09-23 11:23:57  spectractor.fit.fitter gradient_descent     INFO   \n",
      "\tGradient descent terminated in 13 iterations because the relative change of cost is below ftol=1.0789814415192059e-05.\n",
      "2021-09-23 11:23:57  spectractor.fit.fitter print_parameter_summary INFO   \n",
      "\ty_c_0: 9.573 +0.007 -0.007\n",
      "\ty_c_1: -5.65 +0.01 -0.01\n",
      "\ty_c_2: 2.09 +0.02 -0.02\n",
      "\tgamma_0: 18.5 +0.1 -0.1\n",
      "\tgamma_1: -6.93 +0.09 -0.09\n",
      "\tgamma_2: 22.1 +0.2 -0.2\n",
      "\talpha_0: 5.35 +0.05 -0.05\n",
      "\talpha_1: -4.27 +0.05 -0.05\n",
      "\talpha_2: 9.3 +0.1 -0.1\n",
      "\t\n",
      "2021-09-23 11:24:11  spectractor.extractor.extractor extract_spectrum_from_image DEBUG  \n",
      "\tTransverse fit table before derotation:\n",
      "     amplitude       x_c          y_c        ...         Dy         Dy_disp_axis\n",
      "------------------- ------ ----------------- ... ------------------ ------------\n",
      "-16.244560141036146    0.0  98.0228397698577 ... 17.304755794846884          0.0\n",
      "-14.237692624158765    1.0 98.01256412005979 ...  17.29448014504898          0.0\n",
      "-15.104270702098061    2.0  98.0022931348773 ... 17.284209159866492          0.0\n",
      "-17.625040210704135    3.0 97.99202681431024 ... 17.273942839299423          0.0\n",
      " -16.01991673354087    4.0 97.98176515835858 ...  17.26368118334777          0.0\n",
      "-15.264256426634006    5.0 97.97150816702235 ... 17.253424192011536          0.0\n",
      " -15.50020978605743    6.0 97.96125584030153 ...  17.24317186529072          0.0\n",
      " -16.39154427683617    7.0 97.95100817819613 ...  17.23292420318532          0.0\n",
      "-15.707468711026989    8.0 97.94076518070614 ... 17.222681205695324          0.0\n",
      "-16.623203157181106    9.0 97.93052684783157 ...  17.21244287282076          0.0\n",
      "                ...    ...               ... ...                ...          ...\n",
      " 3.4017285668310753 2306.0 86.72417646761332 ...  6.006092492602505          0.0\n",
      "  2.877920659789473 2307.0 86.72465742096658 ...  6.006573445955766          0.0\n",
      " 2.6477540134659896 2308.0 86.72514303893526 ...  6.007059063924444          0.0\n",
      " 1.1685952071539834 2309.0 86.72563332151935 ...   6.00754934650854          0.0\n",
      " 3.0575807921787153 2310.0 86.72612826871887 ...  6.008044293708053          0.0\n",
      " 0.7250694294761708 2311.0  86.7266278805338 ...  6.008543905522984          0.0\n",
      " 1.5381120885986794 2312.0 86.72713215696415 ...  6.009048181953332          0.0\n",
      "  0.782402286507534 2313.0 86.72764109800991 ...  6.009557122999098          0.0\n",
      " 1.7763817122408936 2314.0  86.7281547036711 ...  6.010070728660281          0.0\n",
      " 2.9677389296555594 2315.0  86.7286729739477 ...  6.010588998936882          0.0\n",
      " 3.3795757964825843 2316.0  86.7291959088397 ...  6.011111933828886          0.0\n",
      "Length = 2317 rows\n",
      "2021-09-23 11:24:17  spectractor.extractor.extractor extract_spectrum_from_image DEBUG  \n",
      "\tTransverse fit table after derotation:\n",
      "     amplitude             x_c         ...         Dy         Dy_disp_axis\n",
      "------------------- ------------------ ... ------------------ ------------\n",
      "-16.244560141036146  0.999474101560736 ... 17.304755794846884          0.0\n",
      "-14.237692624158765  1.999474101560736 ...  17.29448014504898          0.0\n",
      "-15.104270702098061  2.999474101560736 ... 17.284209159866492          0.0\n",
      "-17.625040210704135  3.999474101560736 ... 17.273942839299423          0.0\n",
      " -16.01991673354087  4.999474101560736 ...  17.26368118334777          0.0\n",
      "-15.264256426634006  5.999474101560736 ... 17.253424192011536          0.0\n",
      " -15.50020978605743  6.999474101560736 ...  17.24317186529072          0.0\n",
      " -16.39154427683617  7.999474101560736 ...  17.23292420318532          0.0\n",
      "-15.707468711026989  8.999474101560736 ... 17.222681205695324          0.0\n",
      "-16.623203157181106  9.999474101560736 ...  17.21244287282076          0.0\n",
      "                ...                ... ...                ...          ...\n",
      " 3.4017285668310753 2306.9994741015607 ...  6.006092492602505          0.0\n",
      "  2.877920659789473 2307.9994741015607 ...  6.006573445955766          0.0\n",
      " 2.6477540134659896 2308.9994741015607 ...  6.007059063924444          0.0\n",
      " 1.1685952071539834 2309.9994741015607 ...   6.00754934650854          0.0\n",
      " 3.0575807921787153 2310.9994741015607 ...  6.008044293708053          0.0\n",
      " 0.7250694294761708 2311.9994741015607 ...  6.008543905522984          0.0\n",
      " 1.5381120885986794 2312.9994741015607 ...  6.009048181953332          0.0\n",
      "  0.782402286507534 2313.9994741015607 ...  6.009557122999098          0.0\n",
      " 1.7763817122408936 2314.9994741015607 ...  6.010070728660281          0.0\n",
      " 2.9677389296555594 2315.9994741015607 ...  6.010588998936882          0.0\n",
      " 3.3795757964825843 2316.9994741015607 ...  6.011111933828886          0.0\n",
      "Length = 2317 rows\n",
      "2021-09-23 11:24:17  spectractor.extractor.extractor extract_spectrum_from_image INFO   \n",
      "\tExtract spectrogram: crop raw image [1150:3467,1687:1848] (size (2317, 161))\n",
      "2021-09-23 11:24:30  spectractor.extractor.extractor extract_spectrum_from_image INFO   \n",
      "\tBackground statistics: mean=2.347 ADU/s, RMS=0.256 ADU/s.\n",
      "2021-09-23 11:24:30  spectractor.extractor.extractor extract_spectrum_from_image INFO   \n",
      "\tExtract spectrogram: crop image [1150:3467,1687:1848] (size (2317, 161))\n",
      "\tNew target position in spectrogram frame: [-851.2427435788763, 80.7189503092236]\n",
      "2021-09-23 11:24:33  spectractor.extractor.extractor Spectractor          INFO   \n",
      "\tCalibrating order 1 spectrum...\n"
     ]
    }
   ],
   "source": [
    "#spectrum = Spectractor(filename, output_directory, guess=[x1,y1], target_label=target, disperser_label=disperser_label, config=config)\n",
    "spectrum = Spectractor(filename_image, output_directory, guess=[x1,y1], target_label=target, disperser_label=disperser_label, config=config)"
   ]
  },
  {
   "cell_type": "markdown",
   "metadata": {},
   "source": [
    "# Remove temporary file"
   ]
  },
  {
   "cell_type": "code",
   "execution_count": null,
   "metadata": {},
   "outputs": [],
   "source": [
    "os.remove(filename_image)"
   ]
  },
  {
   "cell_type": "code",
   "execution_count": null,
   "metadata": {},
   "outputs": [],
   "source": []
  }
 ],
 "metadata": {
  "kernelspec": {
   "display_name": "anaconda3_auxtel",
   "language": "python",
   "name": "anaconda3_auxtel"
  },
  "language_info": {
   "codemirror_mode": {
    "name": "ipython",
    "version": 3
   },
   "file_extension": ".py",
   "mimetype": "text/x-python",
   "name": "python",
   "nbconvert_exporter": "python",
   "pygments_lexer": "ipython3",
   "version": "3.8.5"
  },
  "toc": {
   "base_numbering": 1,
   "nav_menu": {},
   "number_sections": true,
   "sideBar": true,
   "skip_h1_title": false,
   "title_cell": "Table of Contents",
   "title_sidebar": "Contents",
   "toc_cell": false,
   "toc_position": {},
   "toc_section_display": true,
   "toc_window_display": false
  }
 },
 "nbformat": 4,
 "nbformat_minor": 4
}
