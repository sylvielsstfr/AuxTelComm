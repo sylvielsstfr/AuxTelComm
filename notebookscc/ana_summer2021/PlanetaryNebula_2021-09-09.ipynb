{
 "cells": [
  {
   "cell_type": "markdown",
   "id": "632f4579",
   "metadata": {},
   "source": [
    "# Analyse planetary nebual\n",
    "- author : Sylvie Dagoret-Campagne\n",
    "- affiliation : IJCLab/IN2P3/CNES, DESC-LSST fullmember, behalf AuxTel Teal VERA C. Rubin observatory\n",
    "- creation date : 16 September2021\n",
    "- **kernel : anaconda3_auxtel**\n",
    "- update : July 22th 2021\n",
    "- update : September 16th 2021 \n",
    "\n"
   ]
  },
  {
   "cell_type": "markdown",
   "id": "b0ce8e95",
   "metadata": {},
   "source": [
    "# Selection Flag"
   ]
  },
  {
   "cell_type": "code",
   "execution_count": null,
   "id": "dd90e175",
   "metadata": {},
   "outputs": [],
   "source": [
    "from astropy.io import fits\n",
    "import sys, platform, os\n",
    "#from astropy.visualization import simple_norm\n",
    "#from astropy.visualization import imshow_norm, MinMaxInterval, SqrtStretch\n",
    "import astropy.visualization  as aspv\n",
    "from astropy.wcs import WCS\n",
    "import numpy as np\n",
    "import matplotlib.pyplot as plt\n",
    "%matplotlib inline\n",
    "import re\n",
    "from matplotlib.colors import LogNorm"
   ]
  },
  {
   "cell_type": "code",
   "execution_count": null,
   "id": "3c811ec8-4bdd-4184-bc69-4143b6f6ffab",
   "metadata": {},
   "outputs": [],
   "source": [
    "from astroquery.simbad import Simbad\n",
    "from astropy.coordinates import SkyCoord"
   ]
  },
  {
   "cell_type": "code",
   "execution_count": null,
   "id": "e61b3228-752c-4526-be8c-26732f555ebd",
   "metadata": {},
   "outputs": [],
   "source": [
    "plt.rcParams[\"axes.labelsize\"]=\"large\"\n",
    "plt.rcParams[\"axes.linewidth\"]=2.0\n",
    "plt.rcParams[\"xtick.major.size\"]=8\n",
    "plt.rcParams[\"ytick.major.size\"]=8\n",
    "plt.rcParams[\"ytick.minor.size\"]=5\n",
    "plt.rcParams[\"xtick.labelsize\"]=\"large\"\n",
    "plt.rcParams[\"ytick.labelsize\"]=\"large\"\n",
    "\n",
    "plt.rcParams[\"figure.figsize\"]=(12,12)\n",
    "plt.rcParams['axes.titlesize'] = 16\n",
    "plt.rcParams['axes.titleweight'] = 'bold'\n",
    "#plt.rcParams['axes.facecolor'] = 'blue'\n",
    "plt.rcParams['xtick.direction'] = 'out'\n",
    "plt.rcParams['ytick.direction'] = 'out'\n",
    "plt.rcParams['lines.markeredgewidth'] = 0.3 # the line width around the marker symbol\n",
    "plt.rcParams['lines.markersize'] = 5  # markersize, in points\n",
    "plt.rcParams['grid.alpha'] = 0.75 # transparency, between 0.0 and 1.0\n",
    "plt.rcParams['grid.linestyle'] = '-' # simple line\n",
    "plt.rcParams['grid.linewidth'] = 0.4 # in points\n",
    "plt.rcParams['font.size'] = 13"
   ]
  },
  {
   "cell_type": "markdown",
   "id": "ea303423",
   "metadata": {},
   "source": [
    "# Target"
   ]
  },
  {
   "cell_type": "code",
   "execution_count": null,
   "id": "71fb4911-af83-4c58-ab24-52934d57c4df",
   "metadata": {},
   "outputs": [],
   "source": [
    "target_name=\"PNG321.0+03.9\""
   ]
  },
  {
   "cell_type": "code",
   "execution_count": null,
   "id": "6aa8986b-e866-4ba7-ba32-4985ed409c7a",
   "metadata": {},
   "outputs": [],
   "source": [
    "target_coord=SkyCoord.from_name(target_name)\n",
    "target_coord"
   ]
  },
  {
   "cell_type": "code",
   "execution_count": null,
   "id": "d652e796-433a-4b08-943b-50bd136c1aa4",
   "metadata": {},
   "outputs": [],
   "source": [
    "tagname=\".*(PNG).*\""
   ]
  },
  {
   "cell_type": "markdown",
   "id": "467606f2-db56-4533-94a7-1f2f769eb394",
   "metadata": {},
   "source": [
    "# Work"
   ]
  },
  {
   "cell_type": "code",
   "execution_count": null,
   "id": "1da61e5a",
   "metadata": {},
   "outputs": [],
   "source": [
    "#intputdir_day_1=\"/sps/lsst/groups/auxtel/data/2021/holo/localreduced/2021-07-07/\"   \n",
    "intputdir=\"/sps/lsst/groups/auxtel/data/2021/holo/quickLookExp/2021-09-09/\"   \n",
    "list_of_files=os.listdir(intputdir)    "
   ]
  },
  {
   "cell_type": "code",
   "execution_count": null,
   "id": "6f8521e1",
   "metadata": {},
   "outputs": [],
   "source": [
    "print(list_of_files)"
   ]
  },
  {
   "cell_type": "code",
   "execution_count": null,
   "id": "fade7354-cb51-4726-b130-0e3fafe1bc9d",
   "metadata": {},
   "outputs": [],
   "source": [
    "bad_files = []\n",
    "idx=0\n",
    "for file in list_of_files:\n",
    "    if re.search(\".*(PNG).*\",file):\n",
    "        print(file)\n",
    "    else:\n",
    "        bad_files.append(idx)\n",
    "        \n",
    "    idx+=1\n",
    "        "
   ]
  },
  {
   "cell_type": "code",
   "execution_count": null,
   "id": "f4dc1ba5-de37-49b4-9e7d-33bc14a95cba",
   "metadata": {},
   "outputs": [],
   "source": [
    "#list_of_file=np.array(list_of_files)\n",
    "list_of_files=np.delete(list_of_files,bad_files)"
   ]
  },
  {
   "cell_type": "code",
   "execution_count": null,
   "id": "bc07e75a-d07a-40df-b932-ae88e557a772",
   "metadata": {},
   "outputs": [],
   "source": [
    "idx_file=0"
   ]
  },
  {
   "cell_type": "code",
   "execution_count": null,
   "id": "e92ceb1d",
   "metadata": {},
   "outputs": [],
   "source": [
    "fits_image_filename=list_of_files[idx_file]\n",
    "full_fits_image_filename=os.path.join(intputdir,fits_image_filename)"
   ]
  },
  {
   "cell_type": "code",
   "execution_count": null,
   "id": "88f721ef",
   "metadata": {},
   "outputs": [],
   "source": [
    "fits_image_filename"
   ]
  },
  {
   "cell_type": "code",
   "execution_count": null,
   "id": "8cd71742",
   "metadata": {},
   "outputs": [],
   "source": [
    "hdul = fits.open(full_fits_image_filename)"
   ]
  },
  {
   "cell_type": "code",
   "execution_count": null,
   "id": "44985167",
   "metadata": {},
   "outputs": [],
   "source": [
    "hdul.info()"
   ]
  },
  {
   "cell_type": "code",
   "execution_count": null,
   "id": "1c16d39d",
   "metadata": {},
   "outputs": [],
   "source": [
    "image=hdul[0].data\n",
    "header=hdul[0].header"
   ]
  },
  {
   "cell_type": "code",
   "execution_count": null,
   "id": "99424bcd-14e0-4544-b119-45ecb5ca441b",
   "metadata": {},
   "outputs": [],
   "source": [
    "header"
   ]
  },
  {
   "cell_type": "code",
   "execution_count": null,
   "id": "66c1c40a",
   "metadata": {},
   "outputs": [],
   "source": [
    "image.shape"
   ]
  },
  {
   "cell_type": "code",
   "execution_count": null,
   "id": "b7c72287",
   "metadata": {},
   "outputs": [],
   "source": [
    "fig=plt.figure(figsize=(12,12))\n",
    "ax=fig.add_subplot(1,1,1)\n",
    "\n",
    "ax.imshow(image,origin=\"lower\",norm=LogNorm(),cmap=\"gray\")\n",
    "\n",
    "ax.minorticks_on()\n",
    "ax.grid(color=\"k\")\n",
    "ax.set_title(fits_image_filename)"
   ]
  },
  {
   "cell_type": "markdown",
   "id": "17e836da-1124-4cb1-a800-7c21e138c1cc",
   "metadata": {},
   "source": [
    "# Spectrum"
   ]
  },
  {
   "cell_type": "code",
   "execution_count": null,
   "id": "f7674a9b-e170-454e-af48-184d3124e9f9",
   "metadata": {},
   "outputs": [],
   "source": [
    "target_name=\"PNG321.0+03.9\""
   ]
  },
  {
   "cell_type": "code",
   "execution_count": null,
   "id": "e6558df7-1934-4488-b681-6d45cdaf5b34",
   "metadata": {},
   "outputs": [],
   "source": [
    "target_coord=SkyCoord.from_name(target_name)\n",
    "target_coord"
   ]
  },
  {
   "cell_type": "code",
   "execution_count": null,
   "id": "e4fd9a5a-d421-4e58-aa48-36de0e75e533",
   "metadata": {},
   "outputs": [],
   "source": []
  }
 ],
 "metadata": {
  "kernelspec": {
   "display_name": "anaconda3_auxtel",
   "language": "python",
   "name": "anaconda3_auxtel"
  },
  "language_info": {
   "codemirror_mode": {
    "name": "ipython",
    "version": 3
   },
   "file_extension": ".py",
   "mimetype": "text/x-python",
   "name": "python",
   "nbconvert_exporter": "python",
   "pygments_lexer": "ipython3",
   "version": "3.8.5"
  }
 },
 "nbformat": 4,
 "nbformat_minor": 5
}
