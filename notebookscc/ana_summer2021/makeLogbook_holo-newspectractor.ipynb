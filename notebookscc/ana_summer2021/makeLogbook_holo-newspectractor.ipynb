{
 "cells": [
  {
   "cell_type": "markdown",
   "metadata": {},
   "source": [
    "# Build the logbook"
   ]
  },
  {
   "cell_type": "markdown",
   "metadata": {},
   "source": [
    "- author : Sylvie Dagoret-Campagne\n",
    "- affiliation : IJCLab/IN2P3/CNES, DESC-LSST fullmember, behalf AuxTel Teal VERA C. Rubin observatory\n",
    "- creation date : June 16th 2021\n",
    "- Update : July 7th 2021\n",
    "\n",
    "\n",
    "Works directory per directory (day by day)\n",
    "\n",
    "CCIN2P3:\n",
    "\n",
    "- works with kernels anaconda3_auxtel (with libradtran) a"
   ]
  },
  {
   "cell_type": "code",
   "execution_count": 152,
   "metadata": {},
   "outputs": [
    {
     "data": {
      "text/plain": [
       "['/pbs/throng/lsst/users/dagoret/desc/AuxTelComm/notebookscc/ana_summer2021',\n",
       " '/sps/lsst/groups/auxtel/softs/utils/anaconda3/lib/python38.zip',\n",
       " '/sps/lsst/groups/auxtel/softs/utils/anaconda3/lib/python3.8',\n",
       " '/sps/lsst/groups/auxtel/softs/utils/anaconda3/lib/python3.8/lib-dynload',\n",
       " '',\n",
       " '/pbs/home/d/dagoret/.local/lib/python3.8/site-packages',\n",
       " '/pbs/home/d/dagoret/.local/lib/python3.8/site-packages/rail-0.1.dev0-py3.8.egg',\n",
       " '/pbs/home/d/dagoret/.local/lib/python3.8/site-packages/pyarrow-4.0.1-py3.8-linux-x86_64.egg',\n",
       " '/sps/lsst/groups/auxtel/softs/utils/anaconda3/lib/python3.8/site-packages',\n",
       " '/sps/lsst/groups/auxtel/softs/utils/anaconda3/lib/python3.8/site-packages/Deprecated-1.2.11-py3.8.egg',\n",
       " '/sps/lsst/groups/auxtel/softs/utils/anaconda3/lib/python3.8/site-packages/coveralls-3.0.1-py3.8.egg',\n",
       " '/sps/lsst/groups/auxtel/softs/utils/anaconda3/lib/python3.8/site-packages/astroquery-0.4.2.dev0-py3.8.egg',\n",
       " '/sps/lsst/groups/auxtel/softs/utils/anaconda3/lib/python3.8/site-packages/docopt-0.6.2-py3.8.egg',\n",
       " '/sps/lsst/groups/auxtel/softs/utils/anaconda3/lib/python3.8/site-packages/pyvo-1.1-py3.8.egg',\n",
       " '/sps/lsst/groups/auxtel/softs/utils/anaconda3/lib/python3.8/site-packages/certifi-2020.12.5-py3.8.egg',\n",
       " '/sps/lsst/groups/auxtel/softs/utils/anaconda3/lib/python3.8/site-packages/mimeparse-0.1.3-py3.8.egg',\n",
       " '/sps/lsst/groups/auxtel/softs/utils/anaconda3/lib/python3.8/site-packages/Spectractor-2.1-py3.8.egg',\n",
       " '/sps/lsst/groups/auxtel/softs/utils/anaconda3/lib/python3.8/site-packages/rail-0.1.dev0-py3.8.egg',\n",
       " '/sps/lsst/groups/auxtel/softs/utils/anaconda3/lib/python3.8/site-packages/pyarrow-4.0.1-py3.8-linux-x86_64.egg',\n",
       " '/sps/lsstcest/groups/auxtel/softs/utils/anaconda3/lib/python3.8/site-packages',\n",
       " '/sps/lsst/groups/auxtel/softs/utils/anaconda3/lib/python3.8/site-packages/IPython/extensions',\n",
       " '/pbs/home/d/dagoret/.ipython']"
      ]
     },
     "execution_count": 152,
     "metadata": {},
     "output_type": "execute_result"
    }
   ],
   "source": [
    "import sys\n",
    "sys.path"
   ]
  },
  {
   "cell_type": "code",
   "execution_count": 153,
   "metadata": {},
   "outputs": [],
   "source": [
    "# reconstructed / good /xpos /ypos\n",
    "info={\\\n",
    "      'Cor_holo4_003_RG610_HD120144_20210706_000098.fits':(1,1,256,2130),\\\n",
    "      'Cor_holo4_003_RG610_HD120144_20210706_000099.fits':(1,1,256,2130),\\\n",
    "      'Cor_holo4_003_RG610_HD120144_20210706_000100.fits':(1,1,256,2300),\\\n",
    "      'Cor_holo4_003_RG610_HD120144_20210706_000101.fits':(1,1,256,2300),\\\n",
    "      'Cor_holo4_003_RG610_HD120144_20210706_000102.fits':(1,1,256,2300),\\\n",
    "      'Cor_holo4_003_RG610_HD120144_20210706_000103.fits':(1,1,256,2300),\\\n",
    "      'Cor_holo4_003_RG610_HD120144_20210706_000104.fits':(1,1,256,2300),\\\n",
    "      'Cor_holo4_003_RG610_HD120144_20210706_000105.fits':(1,1,256,2300),\\\n",
    "      'Cor_holo4_003_RG610_HD120144_20210706_000106.fits':(1,1,256,2300)\n",
    "      \n",
    "     }\n",
    " "
   ]
  },
  {
   "cell_type": "markdown",
   "metadata": {},
   "source": [
    "# Imports"
   ]
  },
  {
   "cell_type": "code",
   "execution_count": 154,
   "metadata": {},
   "outputs": [],
   "source": [
    "import numpy as np\n",
    "import matplotlib.pyplot as plt\n",
    "%matplotlib inline\n",
    "from mpl_toolkits.axes_grid1 import make_axes_locatable\n",
    "import pandas as pd\n",
    "\n",
    "import matplotlib.ticker                         # here's where the formatter is\n",
    "import os\n",
    "import re\n",
    "\n",
    "plt.rcParams[\"figure.figsize\"] = (16,4)\n",
    "plt.rcParams[\"axes.labelsize\"] = 'xx-large'\n",
    "plt.rcParams['axes.titlesize'] = 'xx-large'\n",
    "plt.rcParams['xtick.labelsize']= 'xx-large'\n",
    "plt.rcParams['ytick.labelsize']= 'xx-large'"
   ]
  },
  {
   "cell_type": "code",
   "execution_count": 155,
   "metadata": {},
   "outputs": [],
   "source": [
    "from astropy.io import fits"
   ]
  },
  {
   "cell_type": "code",
   "execution_count": 156,
   "metadata": {},
   "outputs": [],
   "source": [
    "import imp\n",
    "MODULE_EXTENSIONS = ('.py', '.pyc', '.pyo')"
   ]
  },
  {
   "cell_type": "code",
   "execution_count": 157,
   "metadata": {},
   "outputs": [],
   "source": [
    "def package_contents(package_name):\n",
    "    file, pathname, description = imp.find_module(package_name)\n",
    "    if file:\n",
    "        raise ImportError('Not a package: %r', package_name)\n",
    "    # Use a set because some may be both source and compiled.\n",
    "    return set([os.path.splitext(module)[0]\n",
    "        for module in os.listdir(pathname)\n",
    "        if module.endswith(MODULE_EXTENSIONS)])"
   ]
  },
  {
   "cell_type": "code",
   "execution_count": 158,
   "metadata": {},
   "outputs": [
    {
     "data": {
      "text/plain": [
       "{'__init__',\n",
       " '_version',\n",
       " 'astrometry',\n",
       " 'config',\n",
       " 'logbook',\n",
       " 'parameters',\n",
       " 'tools'}"
      ]
     },
     "execution_count": 158,
     "metadata": {},
     "output_type": "execute_result"
    }
   ],
   "source": [
    "package_contents(\"spectractor\")"
   ]
  },
  {
   "cell_type": "code",
   "execution_count": 159,
   "metadata": {},
   "outputs": [
    {
     "data": {
      "text/plain": [
       "{'__init__',\n",
       " 'background',\n",
       " 'chromaticpsf',\n",
       " 'dispersers',\n",
       " 'extractor',\n",
       " 'images',\n",
       " 'psf',\n",
       " 'spectroscopy',\n",
       " 'spectrum',\n",
       " 'targets'}"
      ]
     },
     "execution_count": 159,
     "metadata": {},
     "output_type": "execute_result"
    }
   ],
   "source": [
    "package_contents(\"spectractor/extractor\")"
   ]
  },
  {
   "cell_type": "markdown",
   "metadata": {},
   "source": [
    "# Initialisation"
   ]
  },
  {
   "cell_type": "code",
   "execution_count": 160,
   "metadata": {},
   "outputs": [],
   "source": [
    "dir_logbooks=\"logbooks\""
   ]
  },
  {
   "cell_type": "code",
   "execution_count": 161,
   "metadata": {},
   "outputs": [],
   "source": [
    "import os\n",
    "if not os.path.exists(dir_logbooks):\n",
    "    os.makedirs(dir_logbooks)"
   ]
  },
  {
   "cell_type": "markdown",
   "metadata": {},
   "source": [
    "## Get inputs files and sort them according date and number"
   ]
  },
  {
   "cell_type": "code",
   "execution_count": 162,
   "metadata": {},
   "outputs": [],
   "source": [
    "FLAG_HOLO=True\n",
    "home=os.getenv(\"HOME\")\n"
   ]
  },
  {
   "cell_type": "code",
   "execution_count": 163,
   "metadata": {},
   "outputs": [],
   "source": [
    "if FLAG_HOLO:\n",
    "    image_path=\"holo\"\n",
    "    version=\"v2.0\"\n",
    "    logbook_csv=os.path.join(dir_logbooks,\"auxtelholologbook_2021_07_06_\" + version + \".csv\")\n",
    "    logbook_xlsx=os.path.join(dir_logbooks,\"auxtelholologbook_2021_07_06_\" + version + \".xlsx\")\n",
    "else:\n",
    "    image_path=\"ronchi170lpmm\"\n",
    "    version=\"v2.0\"\n",
    "    logbook_csv=os.path.join(dir_logbooks,\"auxtelronchilogbook_2021_07_06_\" + version + \".csv\")\n",
    "    logbook_xlsx=os.path.join(dir_logbooks,\"auxtelronchilogbook_2021_07_06_\" + version + \".xlsx\")"
   ]
  },
  {
   "cell_type": "code",
   "execution_count": 164,
   "metadata": {},
   "outputs": [
    {
     "name": "stdout",
     "output_type": "stream",
     "text": [
      "2021-06-08  2021-06-10\t2021-07-06\n"
     ]
    }
   ],
   "source": [
    "!ls /sps/lsst/groups/auxtel/data/2021/holo/localreduced"
   ]
  },
  {
   "cell_type": "code",
   "execution_count": 165,
   "metadata": {},
   "outputs": [],
   "source": [
    "#dir_images=\"/Users/dagoret/DATA/AuxTelData2021/holo/FlipCleans\"\n",
    "# laptop\n",
    "#dir_images=os.path.join(home,\"DATA/AuxTelData2021/\")+image_path+\"/FlipCleans\"\n",
    "# CC\n",
    "#dir_images=\"/sps/lsst/groups/auxtel/data/2021/holo/FlipCleans\"\n",
    "dir_images=\"/sps/lsst/groups/auxtel/data/2021/holo/localreduced/2021-07-06\""
   ]
  },
  {
   "cell_type": "code",
   "execution_count": 166,
   "metadata": {},
   "outputs": [],
   "source": [
    "all_files=os.listdir(dir_images)"
   ]
  },
  {
   "cell_type": "code",
   "execution_count": 167,
   "metadata": {},
   "outputs": [
    {
     "data": {
      "text/plain": [
       "['Cor_holo4_003_RG610_HD120144_20210706_000101.fits',\n",
       " 'Cor_holo4_003_RG610_HD120144_20210706_000103.fits',\n",
       " 'Cor_holo4_003_RG610_HD120144_20210706_000100.fits',\n",
       " 'Cor_holo4_003_RG610_HD120144_20210706_000106.fits',\n",
       " 'Cor_holo4_003_RG610_HD120144_20210706_000102.fits',\n",
       " 'Cor_holo4_003_RG610_HD120144_20210706_000105.fits',\n",
       " 'Cor_holo4_003_RG610_HD120144_20210706_000098.fits',\n",
       " 'Cor_holo4_003_RG610_HD120144_20210706_000104.fits',\n",
       " 'Cor_holo4_003_RG610_HD120144_20210706_000099.fits']"
      ]
     },
     "execution_count": 167,
     "metadata": {},
     "output_type": "execute_result"
    }
   ],
   "source": [
    "all_files"
   ]
  },
  {
   "cell_type": "code",
   "execution_count": 168,
   "metadata": {},
   "outputs": [],
   "source": [
    "all_selected_files = []\n",
    "for filename in all_files:\n",
    "    if re.search(\".fits$\",filename):\n",
    "        all_selected_files.append(filename)\n",
    "N=len(all_selected_files)"
   ]
  },
  {
   "cell_type": "code",
   "execution_count": 169,
   "metadata": {},
   "outputs": [],
   "source": [
    "all_selected_files=np.array(all_selected_files)"
   ]
  },
  {
   "cell_type": "code",
   "execution_count": 170,
   "metadata": {},
   "outputs": [],
   "source": [
    "#print(all_selected_files)"
   ]
  },
  {
   "cell_type": "code",
   "execution_count": 171,
   "metadata": {},
   "outputs": [
    {
     "data": {
      "text/plain": [
       "['000291']"
      ]
     },
     "execution_count": 171,
     "metadata": {},
     "output_type": "execute_result"
    }
   ],
   "source": [
    "re.findall('^Cor_holo4_003_.*_(.*)[.]fits$','Cor_holo4_003_empty_HD115169_20210608_000291.fits')"
   ]
  },
  {
   "cell_type": "markdown",
   "metadata": {},
   "source": [
    "### Sort files"
   ]
  },
  {
   "cell_type": "code",
   "execution_count": 172,
   "metadata": {},
   "outputs": [],
   "source": [
    "def file_tag_forsorting(filename):\n",
    "    #m=re.findall('^Cor_holo4_003_.*([0-9][0-9][0-9][0-9]-[0-9][0-9]-[0-9][0-9]_.*)[.]fits$',filename)\n",
    "    m=re.findall('^Cor_holo4_003_.*_(.*)[.]fits$',filename)\n",
    "    \n",
    "    return m[0]"
   ]
  },
  {
   "cell_type": "code",
   "execution_count": 173,
   "metadata": {},
   "outputs": [
    {
     "data": {
      "text/plain": [
       "'000291'"
      ]
     },
     "execution_count": 173,
     "metadata": {},
     "output_type": "execute_result"
    }
   ],
   "source": [
    "file_tag_forsorting('Cor_holo4_003_empty_HD115169_20210608_000291.fits')"
   ]
  },
  {
   "cell_type": "code",
   "execution_count": 174,
   "metadata": {},
   "outputs": [
    {
     "data": {
      "text/plain": [
       "array(['000101', '000103', '000100', '000106', '000102', '000105',\n",
       "       '000098', '000104', '000099'], dtype='<U6')"
      ]
     },
     "execution_count": 174,
     "metadata": {},
     "output_type": "execute_result"
    }
   ],
   "source": [
    "#all_tags = [ file_tag_forsorting(filename)[0] for filename in all_selected_files]\n",
    "all_tags = [ file_tag_forsorting(filename) for filename in all_selected_files]\n",
    "all_tags=np.array(all_tags)\n",
    "all_tags"
   ]
  },
  {
   "cell_type": "code",
   "execution_count": 175,
   "metadata": {},
   "outputs": [],
   "source": [
    "indexes=np.argsort(all_tags)"
   ]
  },
  {
   "cell_type": "code",
   "execution_count": 176,
   "metadata": {},
   "outputs": [],
   "source": [
    "sorted_files=all_selected_files[indexes]"
   ]
  },
  {
   "cell_type": "code",
   "execution_count": 177,
   "metadata": {},
   "outputs": [
    {
     "data": {
      "text/plain": [
       "array(['Cor_holo4_003_RG610_HD120144_20210706_000098.fits',\n",
       "       'Cor_holo4_003_RG610_HD120144_20210706_000099.fits',\n",
       "       'Cor_holo4_003_RG610_HD120144_20210706_000100.fits',\n",
       "       'Cor_holo4_003_RG610_HD120144_20210706_000101.fits',\n",
       "       'Cor_holo4_003_RG610_HD120144_20210706_000102.fits',\n",
       "       'Cor_holo4_003_RG610_HD120144_20210706_000103.fits',\n",
       "       'Cor_holo4_003_RG610_HD120144_20210706_000104.fits',\n",
       "       'Cor_holo4_003_RG610_HD120144_20210706_000105.fits',\n",
       "       'Cor_holo4_003_RG610_HD120144_20210706_000106.fits'], dtype='<U49')"
      ]
     },
     "execution_count": 177,
     "metadata": {},
     "output_type": "execute_result"
    }
   ],
   "source": [
    "sorted_files"
   ]
  },
  {
   "cell_type": "code",
   "execution_count": 178,
   "metadata": {},
   "outputs": [],
   "source": [
    "N=len(sorted_files)"
   ]
  },
  {
   "cell_type": "markdown",
   "metadata": {},
   "source": [
    "### Filter bad files"
   ]
  },
  {
   "cell_type": "code",
   "execution_count": 179,
   "metadata": {},
   "outputs": [],
   "source": [
    "idx=0\n",
    "indexes_bad=[]\n",
    "for filename in sorted_files:\n",
    "    fullfilename=os.path.join(dir_images,filename)\n",
    "    hdu = fits.open(fullfilename)\n",
    "    hdu0=hdu[0]\n",
    "    hdr0=hdu0.header\n",
    "    #print(hdr0['OBJECT'],\"\\t\",filename)\n",
    "    if hdr0['OBJECT'] == '35 Tau' or hdr0['OBJECT'] == 'Park position':\n",
    "        print('bad file ', filename)\n",
    "        indexes_bad.append(idx)\n",
    "        \n",
    "    idx+=1"
   ]
  },
  {
   "cell_type": "code",
   "execution_count": 180,
   "metadata": {},
   "outputs": [
    {
     "data": {
      "text/plain": [
       "[]"
      ]
     },
     "execution_count": 180,
     "metadata": {},
     "output_type": "execute_result"
    }
   ],
   "source": [
    "indexes_bad"
   ]
  },
  {
   "cell_type": "markdown",
   "metadata": {},
   "source": [
    "### Remove bad files"
   ]
  },
  {
   "cell_type": "code",
   "execution_count": 181,
   "metadata": {},
   "outputs": [],
   "source": [
    "sorted_files=np.delete(sorted_files,indexes_bad)"
   ]
  },
  {
   "cell_type": "markdown",
   "metadata": {},
   "source": [
    "### Check for target"
   ]
  },
  {
   "cell_type": "code",
   "execution_count": 182,
   "metadata": {},
   "outputs": [
    {
     "data": {
      "text/plain": [
       "['HD120144']"
      ]
     },
     "execution_count": 182,
     "metadata": {},
     "output_type": "execute_result"
    }
   ],
   "source": [
    "re.findall('^Cor_holo4_003_.*_(.*)_[0-9][0-9][0-9][0-9][0-9][0-9][0-9][0-9]_.*[.]fits$','Cor_holo4_003_RG610_HD120144_20210706_000098.fits')"
   ]
  },
  {
   "cell_type": "code",
   "execution_count": 183,
   "metadata": {},
   "outputs": [],
   "source": [
    "def file_target(filename):\n",
    "    m=re.findall('^Cor_holo4_003_.*_(.*)_[0-9][0-9][0-9][0-9][0-9][0-9][0-9][0-9]_.*[.]fits$',filename)\n",
    "    if len(m)>0:\n",
    "        return m\n",
    "    elif re.search('NGC4755',filename):\n",
    "        return ['NGC4755']\n",
    "    else:\n",
    "        return []"
   ]
  },
  {
   "cell_type": "code",
   "execution_count": 184,
   "metadata": {},
   "outputs": [
    {
     "name": "stdout",
     "output_type": "stream",
     "text": [
      "['HD120144'] \t Cor_holo4_003_RG610_HD120144_20210706_000098.fits\n",
      "['HD120144'] \t Cor_holo4_003_RG610_HD120144_20210706_000099.fits\n",
      "['HD120144'] \t Cor_holo4_003_RG610_HD120144_20210706_000100.fits\n",
      "['HD120144'] \t Cor_holo4_003_RG610_HD120144_20210706_000101.fits\n",
      "['HD120144'] \t Cor_holo4_003_RG610_HD120144_20210706_000102.fits\n",
      "['HD120144'] \t Cor_holo4_003_RG610_HD120144_20210706_000103.fits\n",
      "['HD120144'] \t Cor_holo4_003_RG610_HD120144_20210706_000104.fits\n",
      "['HD120144'] \t Cor_holo4_003_RG610_HD120144_20210706_000105.fits\n",
      "['HD120144'] \t Cor_holo4_003_RG610_HD120144_20210706_000106.fits\n"
     ]
    }
   ],
   "source": [
    "for filename in sorted_files:\n",
    "    print(file_target(filename),\"\\t\",filename)"
   ]
  },
  {
   "cell_type": "code",
   "execution_count": 185,
   "metadata": {
    "scrolled": true
   },
   "outputs": [],
   "source": [
    "idx=0\n",
    "for filename in sorted_files:\n",
    "    fullfilename=os.path.join(dir_images,filename)\n",
    "    hdu = fits.open(fullfilename)\n",
    "    hdu0=hdu[0]\n",
    "    hdr0=hdu0.header\n",
    "    #print(hdr0,\"\\t\",filename)\n",
    "        \n",
    "    idx+=1"
   ]
  },
  {
   "cell_type": "markdown",
   "metadata": {},
   "source": [
    "# Build the logbook from the headers"
   ]
  },
  {
   "cell_type": "code",
   "execution_count": 186,
   "metadata": {},
   "outputs": [],
   "source": [
    "idx=0\n",
    "#ccdir='/sps/lsst/groups/auxtel/data/2021/holo/FlipCleans'\n",
    "ccdir=dir_images\n",
    "all_dates=[]\n",
    "all_files=[]\n",
    "all_seqnum=[]\n",
    "all_subdir=[]\n",
    "all_indexes=[]\n",
    "all_targets=[]\n",
    "all_filters=[]\n",
    "all_disperser=[]\n",
    "all_airmass=[]\n",
    "all_exposures=[]\n",
    "all_focus=[]\n",
    "all_seeing=[]\n",
    "all_P=[]\n",
    "all_T=[]\n",
    "all_H=[]\n",
    "all_W=[]\n",
    "for filename in sorted_files:\n",
    "    fullfilename=os.path.join(dir_images,filename)\n",
    "    hdu = fits.open(fullfilename)\n",
    "    hdu0=hdu[0]\n",
    "    hdr0=hdu0.header \n",
    "    all_indexes.append(idx)\n",
    "    all_seqnum.append(hdr0['SEQNUM'])\n",
    "    all_files.append(filename)\n",
    "    all_subdir.append(ccdir)\n",
    "    targetname=file_target(filename)[0]\n",
    "    all_targets.append(targetname)\n",
    "    all_dates.append(hdr0['DATE-OBS'])\n",
    "    all_airmass.append(hdr0['AMSTART'])\n",
    "    all_filters.append(hdr0['FILTER'])\n",
    "    all_disperser.append(hdr0['GRATING'])\n",
    "    all_exposures.append(hdr0['EXPTIME'])\n",
    "    all_focus.append(hdr0['FOCUSZ'])\n",
    "    all_seeing.append(hdr0['SEEING'])\n",
    "    all_P.append(hdr0['PRESSURE'])\n",
    "    all_T.append(hdr0['AIRTEMP'])\n",
    "    all_H.append(hdr0['HUMIDITY'])\n",
    "    all_W.append(hdr0['WINDSPD'])\n",
    "       \n",
    "    \n",
    "    idx+=1\n",
    "    "
   ]
  },
  {
   "cell_type": "markdown",
   "metadata": {},
   "source": [
    "# Make pandas dataframe"
   ]
  },
  {
   "cell_type": "markdown",
   "metadata": {},
   "source": [
    "## Create pandas dataframe"
   ]
  },
  {
   "cell_type": "code",
   "execution_count": 187,
   "metadata": {},
   "outputs": [],
   "source": [
    "df=pd.DataFrame()"
   ]
  },
  {
   "cell_type": "code",
   "execution_count": 188,
   "metadata": {},
   "outputs": [
    {
     "data": {
      "text/plain": [
       "9"
      ]
     },
     "execution_count": 188,
     "metadata": {},
     "output_type": "execute_result"
    }
   ],
   "source": [
    "len(all_airmass)"
   ]
  },
  {
   "cell_type": "code",
   "execution_count": 189,
   "metadata": {},
   "outputs": [],
   "source": [
    "N=len(all_indexes)"
   ]
  },
  {
   "cell_type": "markdown",
   "metadata": {},
   "source": [
    "## Fill with container info"
   ]
  },
  {
   "cell_type": "code",
   "execution_count": 190,
   "metadata": {},
   "outputs": [],
   "source": [
    "df['index']=all_indexes\n",
    "df['date']=all_dates\n",
    "df['path']=all_subdir\n",
    "df['file']=all_files\n",
    "df['num']=all_seqnum\n",
    "df['object']=all_targets\n",
    "df['filter']=all_filters\n",
    "df['disperser']=all_disperser\n",
    "df['airmass']=all_airmass\n",
    "df['exposure']=all_exposures\n",
    "df['focus']=all_focus\n",
    "df['seeing']=all_seeing\n",
    "df['pressure']=all_P\n",
    "df['temperature']=all_T\n",
    "df['humidity']=all_H\n",
    "df['windspd']=all_W"
   ]
  },
  {
   "cell_type": "markdown",
   "metadata": {},
   "source": [
    "## Add dictionnary info"
   ]
  },
  {
   "cell_type": "markdown",
   "metadata": {},
   "source": [
    "### Initialise new columns"
   ]
  },
  {
   "cell_type": "code",
   "execution_count": 191,
   "metadata": {},
   "outputs": [],
   "source": [
    "Obj_posXpix=np.full(N,np.nan)\n",
    "Obj_posYpix=np.full(N,np.nan)\n",
    "Dx=np.full(N,np.nan)\n",
    "Dy=np.full(N,np.nan)\n",
    "run=np.full(N,np.nan)\n",
    "quality=np.full(N,np.nan)\n",
    "skip=np.full(N,\"    \")"
   ]
  },
  {
   "cell_type": "markdown",
   "metadata": {},
   "source": [
    "### Fill dictionnary info"
   ]
  },
  {
   "cell_type": "code",
   "execution_count": 192,
   "metadata": {},
   "outputs": [],
   "source": [
    "# loop on rows index\n",
    "for idx in np.arange(N):\n",
    "    filename=all_files[idx]\n",
    "    # check if filename is in dictionnary\n",
    "    if filename in info.keys():\n",
    "        (run_flag,quality_flag,xpos,ypos)=info[filename]\n",
    "        Obj_posXpix[idx]=int(xpos)\n",
    "        Obj_posYpix[idx]=int(ypos)\n",
    "        run[idx]=run_flag\n",
    "        if quality_flag==1:\n",
    "            skip[idx] = \"    \"\n",
    "            quality[idx]=1\n",
    "        else:\n",
    "            skip[idx] = \"skip\"\n",
    "            quality[idx]=0"
   ]
  },
  {
   "cell_type": "code",
   "execution_count": 193,
   "metadata": {},
   "outputs": [],
   "source": [
    "df['Obj-posXpix']=Obj_posXpix\n",
    "df['Obj-posYpix']=Obj_posYpix\n",
    "df['Dx']=Dx\n",
    "df['Dy']=Dy\n",
    "df['skip']=skip\n",
    "df['run']=run\n",
    "df['quality']=quality"
   ]
  },
  {
   "cell_type": "code",
   "execution_count": 194,
   "metadata": {},
   "outputs": [],
   "source": [
    "pd.set_option('display.max_rows', None)"
   ]
  },
  {
   "cell_type": "code",
   "execution_count": 195,
   "metadata": {},
   "outputs": [
    {
     "data": {
      "text/html": [
       "<div>\n",
       "<style scoped>\n",
       "    .dataframe tbody tr th:only-of-type {\n",
       "        vertical-align: middle;\n",
       "    }\n",
       "\n",
       "    .dataframe tbody tr th {\n",
       "        vertical-align: top;\n",
       "    }\n",
       "\n",
       "    .dataframe thead th {\n",
       "        text-align: right;\n",
       "    }\n",
       "</style>\n",
       "<table border=\"1\" class=\"dataframe\">\n",
       "  <thead>\n",
       "    <tr style=\"text-align: right;\">\n",
       "      <th></th>\n",
       "      <th>index</th>\n",
       "      <th>date</th>\n",
       "      <th>path</th>\n",
       "      <th>file</th>\n",
       "      <th>num</th>\n",
       "      <th>object</th>\n",
       "      <th>filter</th>\n",
       "      <th>disperser</th>\n",
       "      <th>airmass</th>\n",
       "      <th>exposure</th>\n",
       "      <th>...</th>\n",
       "      <th>temperature</th>\n",
       "      <th>humidity</th>\n",
       "      <th>windspd</th>\n",
       "      <th>Obj-posXpix</th>\n",
       "      <th>Obj-posYpix</th>\n",
       "      <th>Dx</th>\n",
       "      <th>Dy</th>\n",
       "      <th>skip</th>\n",
       "      <th>run</th>\n",
       "      <th>quality</th>\n",
       "    </tr>\n",
       "  </thead>\n",
       "  <tbody>\n",
       "    <tr>\n",
       "      <th>0</th>\n",
       "      <td>0</td>\n",
       "      <td>2021-07-07T01:16:33.033</td>\n",
       "      <td>/sps/lsst/groups/auxtel/data/2021/holo/localre...</td>\n",
       "      <td>Cor_holo4_003_RG610_HD120144_20210706_000098.fits</td>\n",
       "      <td>98</td>\n",
       "      <td>HD120144</td>\n",
       "      <td>RG610</td>\n",
       "      <td>holo4_003</td>\n",
       "      <td>1.112792</td>\n",
       "      <td>20.0</td>\n",
       "      <td>...</td>\n",
       "      <td>7.0</td>\n",
       "      <td>16.0</td>\n",
       "      <td>11.6</td>\n",
       "      <td>256.0</td>\n",
       "      <td>2130.0</td>\n",
       "      <td>NaN</td>\n",
       "      <td>NaN</td>\n",
       "      <td></td>\n",
       "      <td>1.0</td>\n",
       "      <td>1.0</td>\n",
       "    </tr>\n",
       "    <tr>\n",
       "      <th>1</th>\n",
       "      <td>1</td>\n",
       "      <td>2021-07-07T01:17:01.054</td>\n",
       "      <td>/sps/lsst/groups/auxtel/data/2021/holo/localre...</td>\n",
       "      <td>Cor_holo4_003_RG610_HD120144_20210706_000099.fits</td>\n",
       "      <td>99</td>\n",
       "      <td>HD120144</td>\n",
       "      <td>RG610</td>\n",
       "      <td>holo4_003</td>\n",
       "      <td>1.113402</td>\n",
       "      <td>20.0</td>\n",
       "      <td>...</td>\n",
       "      <td>7.0</td>\n",
       "      <td>16.0</td>\n",
       "      <td>11.6</td>\n",
       "      <td>256.0</td>\n",
       "      <td>2130.0</td>\n",
       "      <td>NaN</td>\n",
       "      <td>NaN</td>\n",
       "      <td></td>\n",
       "      <td>1.0</td>\n",
       "      <td>1.0</td>\n",
       "    </tr>\n",
       "    <tr>\n",
       "      <th>2</th>\n",
       "      <td>2</td>\n",
       "      <td>2021-07-07T01:17:25.525</td>\n",
       "      <td>/sps/lsst/groups/auxtel/data/2021/holo/localre...</td>\n",
       "      <td>Cor_holo4_003_RG610_HD120144_20210706_000100.fits</td>\n",
       "      <td>100</td>\n",
       "      <td>HD120144</td>\n",
       "      <td>RG610</td>\n",
       "      <td>holo4_003</td>\n",
       "      <td>1.113971</td>\n",
       "      <td>20.0</td>\n",
       "      <td>...</td>\n",
       "      <td>7.0</td>\n",
       "      <td>16.0</td>\n",
       "      <td>11.6</td>\n",
       "      <td>256.0</td>\n",
       "      <td>2300.0</td>\n",
       "      <td>NaN</td>\n",
       "      <td>NaN</td>\n",
       "      <td></td>\n",
       "      <td>1.0</td>\n",
       "      <td>1.0</td>\n",
       "    </tr>\n",
       "    <tr>\n",
       "      <th>3</th>\n",
       "      <td>3</td>\n",
       "      <td>2021-07-07T01:17:50.010</td>\n",
       "      <td>/sps/lsst/groups/auxtel/data/2021/holo/localre...</td>\n",
       "      <td>Cor_holo4_003_RG610_HD120144_20210706_000101.fits</td>\n",
       "      <td>101</td>\n",
       "      <td>HD120144</td>\n",
       "      <td>RG610</td>\n",
       "      <td>holo4_003</td>\n",
       "      <td>1.114548</td>\n",
       "      <td>20.0</td>\n",
       "      <td>...</td>\n",
       "      <td>7.0</td>\n",
       "      <td>15.0</td>\n",
       "      <td>13.1</td>\n",
       "      <td>256.0</td>\n",
       "      <td>2300.0</td>\n",
       "      <td>NaN</td>\n",
       "      <td>NaN</td>\n",
       "      <td></td>\n",
       "      <td>1.0</td>\n",
       "      <td>1.0</td>\n",
       "    </tr>\n",
       "    <tr>\n",
       "      <th>4</th>\n",
       "      <td>4</td>\n",
       "      <td>2021-07-07T01:18:14.601</td>\n",
       "      <td>/sps/lsst/groups/auxtel/data/2021/holo/localre...</td>\n",
       "      <td>Cor_holo4_003_RG610_HD120144_20210706_000102.fits</td>\n",
       "      <td>102</td>\n",
       "      <td>HD120144</td>\n",
       "      <td>RG610</td>\n",
       "      <td>holo4_003</td>\n",
       "      <td>1.115124</td>\n",
       "      <td>20.0</td>\n",
       "      <td>...</td>\n",
       "      <td>7.0</td>\n",
       "      <td>15.0</td>\n",
       "      <td>13.1</td>\n",
       "      <td>256.0</td>\n",
       "      <td>2300.0</td>\n",
       "      <td>NaN</td>\n",
       "      <td>NaN</td>\n",
       "      <td></td>\n",
       "      <td>1.0</td>\n",
       "      <td>1.0</td>\n",
       "    </tr>\n",
       "    <tr>\n",
       "      <th>5</th>\n",
       "      <td>5</td>\n",
       "      <td>2021-07-07T01:18:38.991</td>\n",
       "      <td>/sps/lsst/groups/auxtel/data/2021/holo/localre...</td>\n",
       "      <td>Cor_holo4_003_RG610_HD120144_20210706_000103.fits</td>\n",
       "      <td>103</td>\n",
       "      <td>HD120144</td>\n",
       "      <td>RG610</td>\n",
       "      <td>holo4_003</td>\n",
       "      <td>1.115701</td>\n",
       "      <td>20.0</td>\n",
       "      <td>...</td>\n",
       "      <td>7.1</td>\n",
       "      <td>15.0</td>\n",
       "      <td>10.9</td>\n",
       "      <td>256.0</td>\n",
       "      <td>2300.0</td>\n",
       "      <td>NaN</td>\n",
       "      <td>NaN</td>\n",
       "      <td></td>\n",
       "      <td>1.0</td>\n",
       "      <td>1.0</td>\n",
       "    </tr>\n",
       "    <tr>\n",
       "      <th>6</th>\n",
       "      <td>6</td>\n",
       "      <td>2021-07-07T01:19:03.593</td>\n",
       "      <td>/sps/lsst/groups/auxtel/data/2021/holo/localre...</td>\n",
       "      <td>Cor_holo4_003_RG610_HD120144_20210706_000104.fits</td>\n",
       "      <td>104</td>\n",
       "      <td>HD120144</td>\n",
       "      <td>RG610</td>\n",
       "      <td>holo4_003</td>\n",
       "      <td>1.116286</td>\n",
       "      <td>20.0</td>\n",
       "      <td>...</td>\n",
       "      <td>7.1</td>\n",
       "      <td>15.0</td>\n",
       "      <td>10.9</td>\n",
       "      <td>256.0</td>\n",
       "      <td>2300.0</td>\n",
       "      <td>NaN</td>\n",
       "      <td>NaN</td>\n",
       "      <td></td>\n",
       "      <td>1.0</td>\n",
       "      <td>1.0</td>\n",
       "    </tr>\n",
       "    <tr>\n",
       "      <th>7</th>\n",
       "      <td>7</td>\n",
       "      <td>2021-07-07T01:19:27.983</td>\n",
       "      <td>/sps/lsst/groups/auxtel/data/2021/holo/localre...</td>\n",
       "      <td>Cor_holo4_003_RG610_HD120144_20210706_000105.fits</td>\n",
       "      <td>105</td>\n",
       "      <td>HD120144</td>\n",
       "      <td>RG610</td>\n",
       "      <td>holo4_003</td>\n",
       "      <td>1.116869</td>\n",
       "      <td>20.0</td>\n",
       "      <td>...</td>\n",
       "      <td>7.1</td>\n",
       "      <td>15.0</td>\n",
       "      <td>10.9</td>\n",
       "      <td>256.0</td>\n",
       "      <td>2300.0</td>\n",
       "      <td>NaN</td>\n",
       "      <td>NaN</td>\n",
       "      <td></td>\n",
       "      <td>1.0</td>\n",
       "      <td>1.0</td>\n",
       "    </tr>\n",
       "    <tr>\n",
       "      <th>8</th>\n",
       "      <td>8</td>\n",
       "      <td>2021-07-07T01:19:52.570</td>\n",
       "      <td>/sps/lsst/groups/auxtel/data/2021/holo/localre...</td>\n",
       "      <td>Cor_holo4_003_RG610_HD120144_20210706_000106.fits</td>\n",
       "      <td>106</td>\n",
       "      <td>HD120144</td>\n",
       "      <td>RG610</td>\n",
       "      <td>holo4_003</td>\n",
       "      <td>1.117460</td>\n",
       "      <td>20.0</td>\n",
       "      <td>...</td>\n",
       "      <td>7.2</td>\n",
       "      <td>14.0</td>\n",
       "      <td>9.9</td>\n",
       "      <td>256.0</td>\n",
       "      <td>2300.0</td>\n",
       "      <td>NaN</td>\n",
       "      <td>NaN</td>\n",
       "      <td></td>\n",
       "      <td>1.0</td>\n",
       "      <td>1.0</td>\n",
       "    </tr>\n",
       "  </tbody>\n",
       "</table>\n",
       "<p>9 rows × 23 columns</p>\n",
       "</div>"
      ],
      "text/plain": [
       "   index                     date  \\\n",
       "0      0  2021-07-07T01:16:33.033   \n",
       "1      1  2021-07-07T01:17:01.054   \n",
       "2      2  2021-07-07T01:17:25.525   \n",
       "3      3  2021-07-07T01:17:50.010   \n",
       "4      4  2021-07-07T01:18:14.601   \n",
       "5      5  2021-07-07T01:18:38.991   \n",
       "6      6  2021-07-07T01:19:03.593   \n",
       "7      7  2021-07-07T01:19:27.983   \n",
       "8      8  2021-07-07T01:19:52.570   \n",
       "\n",
       "                                                path  \\\n",
       "0  /sps/lsst/groups/auxtel/data/2021/holo/localre...   \n",
       "1  /sps/lsst/groups/auxtel/data/2021/holo/localre...   \n",
       "2  /sps/lsst/groups/auxtel/data/2021/holo/localre...   \n",
       "3  /sps/lsst/groups/auxtel/data/2021/holo/localre...   \n",
       "4  /sps/lsst/groups/auxtel/data/2021/holo/localre...   \n",
       "5  /sps/lsst/groups/auxtel/data/2021/holo/localre...   \n",
       "6  /sps/lsst/groups/auxtel/data/2021/holo/localre...   \n",
       "7  /sps/lsst/groups/auxtel/data/2021/holo/localre...   \n",
       "8  /sps/lsst/groups/auxtel/data/2021/holo/localre...   \n",
       "\n",
       "                                                file  num    object filter  \\\n",
       "0  Cor_holo4_003_RG610_HD120144_20210706_000098.fits   98  HD120144  RG610   \n",
       "1  Cor_holo4_003_RG610_HD120144_20210706_000099.fits   99  HD120144  RG610   \n",
       "2  Cor_holo4_003_RG610_HD120144_20210706_000100.fits  100  HD120144  RG610   \n",
       "3  Cor_holo4_003_RG610_HD120144_20210706_000101.fits  101  HD120144  RG610   \n",
       "4  Cor_holo4_003_RG610_HD120144_20210706_000102.fits  102  HD120144  RG610   \n",
       "5  Cor_holo4_003_RG610_HD120144_20210706_000103.fits  103  HD120144  RG610   \n",
       "6  Cor_holo4_003_RG610_HD120144_20210706_000104.fits  104  HD120144  RG610   \n",
       "7  Cor_holo4_003_RG610_HD120144_20210706_000105.fits  105  HD120144  RG610   \n",
       "8  Cor_holo4_003_RG610_HD120144_20210706_000106.fits  106  HD120144  RG610   \n",
       "\n",
       "   disperser   airmass  exposure  ...  temperature humidity  windspd  \\\n",
       "0  holo4_003  1.112792      20.0  ...          7.0     16.0     11.6   \n",
       "1  holo4_003  1.113402      20.0  ...          7.0     16.0     11.6   \n",
       "2  holo4_003  1.113971      20.0  ...          7.0     16.0     11.6   \n",
       "3  holo4_003  1.114548      20.0  ...          7.0     15.0     13.1   \n",
       "4  holo4_003  1.115124      20.0  ...          7.0     15.0     13.1   \n",
       "5  holo4_003  1.115701      20.0  ...          7.1     15.0     10.9   \n",
       "6  holo4_003  1.116286      20.0  ...          7.1     15.0     10.9   \n",
       "7  holo4_003  1.116869      20.0  ...          7.1     15.0     10.9   \n",
       "8  holo4_003  1.117460      20.0  ...          7.2     14.0      9.9   \n",
       "\n",
       "   Obj-posXpix  Obj-posYpix  Dx  Dy  skip  run  quality  \n",
       "0        256.0       2130.0 NaN NaN        1.0      1.0  \n",
       "1        256.0       2130.0 NaN NaN        1.0      1.0  \n",
       "2        256.0       2300.0 NaN NaN        1.0      1.0  \n",
       "3        256.0       2300.0 NaN NaN        1.0      1.0  \n",
       "4        256.0       2300.0 NaN NaN        1.0      1.0  \n",
       "5        256.0       2300.0 NaN NaN        1.0      1.0  \n",
       "6        256.0       2300.0 NaN NaN        1.0      1.0  \n",
       "7        256.0       2300.0 NaN NaN        1.0      1.0  \n",
       "8        256.0       2300.0 NaN NaN        1.0      1.0  \n",
       "\n",
       "[9 rows x 23 columns]"
      ]
     },
     "execution_count": 195,
     "metadata": {},
     "output_type": "execute_result"
    }
   ],
   "source": [
    "df"
   ]
  },
  {
   "cell_type": "markdown",
   "metadata": {},
   "source": [
    "# Make logbook\n"
   ]
  },
  {
   "cell_type": "code",
   "execution_count": 196,
   "metadata": {},
   "outputs": [],
   "source": [
    "df.to_excel(logbook_xlsx)\n",
    "df.to_csv(logbook_csv)"
   ]
  },
  {
   "cell_type": "code",
   "execution_count": null,
   "metadata": {},
   "outputs": [],
   "source": []
  }
 ],
 "metadata": {
  "kernelspec": {
   "display_name": "anaconda3_auxtel",
   "language": "python",
   "name": "anaconda3_auxtel"
  },
  "language_info": {
   "codemirror_mode": {
    "name": "ipython",
    "version": 3
   },
   "file_extension": ".py",
   "mimetype": "text/x-python",
   "name": "python",
   "nbconvert_exporter": "python",
   "pygments_lexer": "ipython3",
   "version": "3.8.5"
  },
  "toc": {
   "base_numbering": 1,
   "nav_menu": {},
   "number_sections": true,
   "sideBar": true,
   "skip_h1_title": false,
   "title_cell": "Table of Contents",
   "title_sidebar": "Contents",
   "toc_cell": false,
   "toc_position": {},
   "toc_section_display": true,
   "toc_window_display": false
  }
 },
 "nbformat": 4,
 "nbformat_minor": 4
}
