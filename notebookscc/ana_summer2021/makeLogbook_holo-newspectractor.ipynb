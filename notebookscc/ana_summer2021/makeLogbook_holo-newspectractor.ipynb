{
 "cells": [
  {
   "cell_type": "markdown",
   "metadata": {},
   "source": [
    "# Build the logbook for SCAN data on new Spectractor"
   ]
  },
  {
   "cell_type": "markdown",
   "metadata": {},
   "source": [
    "- author : Sylvie Dagoret-Campagne\n",
    "- affiliation : IJCLab/IN2P3/CNES, DESC-LSST fullmember, behalf AuxTel Teal VERA C. Rubin observatory\n",
    "- creation date : June 16th 2021\n",
    "- Update : July 7th 2021\n",
    "- Update : September 24th 2021 : to run quickLookExp at CC and locally\n",
    "\n",
    "\n",
    "Works directory per directory (day by day)\n",
    "\n",
    "CCIN2P3:\n",
    "\n",
    "- works with kernels **anaconda3_auxtel** (with libradtran) at CC\n",
    "- works with kernel **python 3** locally"
   ]
  },
  {
   "cell_type": "code",
   "execution_count": 1,
   "metadata": {},
   "outputs": [
    {
     "data": {
      "text/plain": [
       "['/pbs/throng/lsst/users/dagoret/desc/AuxTelComm/notebookscc/ana_summer2021',\n",
       " '',\n",
       " '/opt/conda/lib/python3.8/site-packages',\n",
       " '/sps/lsst/groups/auxtel/softs/utils/anaconda3/lib/python38.zip',\n",
       " '/sps/lsst/groups/auxtel/softs/utils/anaconda3/lib/python3.8',\n",
       " '/sps/lsst/groups/auxtel/softs/utils/anaconda3/lib/python3.8/lib-dynload',\n",
       " '/pbs/home/d/dagoret/.local/lib/python3.8/site-packages',\n",
       " '/pbs/home/d/dagoret/.local/lib/python3.8/site-packages/rail-0.1.dev0-py3.8.egg',\n",
       " '/pbs/home/d/dagoret/.local/lib/python3.8/site-packages/pyarrow-4.0.1-py3.8-linux-x86_64.egg',\n",
       " '/sps/lsst/groups/auxtel/softs/utils/anaconda3/lib/python3.8/site-packages',\n",
       " '/sps/lsst/groups/auxtel/softs/utils/anaconda3/lib/python3.8/site-packages/Deprecated-1.2.11-py3.8.egg',\n",
       " '/sps/lsst/groups/auxtel/softs/utils/anaconda3/lib/python3.8/site-packages/coveralls-3.0.1-py3.8.egg',\n",
       " '/sps/lsst/groups/auxtel/softs/utils/anaconda3/lib/python3.8/site-packages/astroquery-0.4.2.dev0-py3.8.egg',\n",
       " '/sps/lsst/groups/auxtel/softs/utils/anaconda3/lib/python3.8/site-packages/docopt-0.6.2-py3.8.egg',\n",
       " '/sps/lsst/groups/auxtel/softs/utils/anaconda3/lib/python3.8/site-packages/pyvo-1.1-py3.8.egg',\n",
       " '/sps/lsst/groups/auxtel/softs/utils/anaconda3/lib/python3.8/site-packages/mimeparse-0.1.3-py3.8.egg',\n",
       " '/sps/lsst/groups/auxtel/softs/utils/anaconda3/lib/python3.8/site-packages/Spectractor-2.1-py3.8.egg',\n",
       " '/sps/lsst/groups/auxtel/softs/utils/anaconda3/lib/python3.8/site-packages/rail-0.1.dev0-py3.8.egg',\n",
       " '/sps/lsst/groups/auxtel/softs/utils/anaconda3/lib/python3.8/site-packages/pyarrow-4.0.1-py3.8-linux-x86_64.egg',\n",
       " '/sps/lsst/groups/auxtel/softs/utils/anaconda3/lib/python3.8/site-packages/certifi-2020.12.5-py3.8.egg',\n",
       " '/sps/lsstcest/groups/auxtel/softs/utils/anaconda3/lib/python3.8/site-packages',\n",
       " '/opt/conda/lib/python3.8/site-packages/IPython/extensions',\n",
       " '/pbs/home/d/dagoret/.ipython']"
      ]
     },
     "execution_count": 1,
     "metadata": {},
     "output_type": "execute_result"
    }
   ],
   "source": [
    "import sys\n",
    "sys.path"
   ]
  },
  {
   "cell_type": "code",
   "execution_count": 2,
   "metadata": {},
   "outputs": [],
   "source": [
    "# reconstructed / good /xpos /ypos\n",
    "info={\\\n",
    "\n",
    "      # with red filter\n",
    "      'holo4_003_RG610_HD160617_20210707_000234_quickLookExp.fits':(1,1,600.,2100),\\\n",
    "      'holo4_003_RG610_HD160617_20210707_000235_quickLookExp.fits':(1,1,600.,2100),\\\n",
    "      'holo4_003_RG610_HD160617_20210707_000236_quickLookExp.fits':(1,1,600.,2100),\\\n",
    "      'holo4_003_RG610_HD160617_20210707_000237_quickLookExp.fits':(1,1,600.,2100),\\\n",
    "      'holo4_003_RG610_HD160617_20210707_000238_quickLookExp.fits':(1,1,600.,2100),\\\n",
    "      'holo4_003_RG610_HD160617_20210707_000239_quickLookExp.fits':(1,1,600.,2100),\\\n",
    "      'holo4_003_RG610_HD160617_20210707_000240_quickLookExp.fits':(1,1,600.,2100),\\\n",
    "      'holo4_003_RG610_HD160617_20210707_000241_quickLookExp.fits':(1,1,600.,2100),\\\n",
    "      'holo4_003_RG610_HD160617_20210707_000242_quickLookExp.fits':(1,1,600.,2100),\\\n",
    "      'holo4_003_RG610_HD160617_20210707_000243_quickLookExp.fits':(1,1,600.,2100),\\\n",
    "      'holo4_003_RG610_HD160617_20210707_000244_quickLookExp.fits':(1,1,1300.,700),\\\n",
    "      'holo4_003_RG610_HD160617_20210707_000245_quickLookExp.fits':(1,1,250.,1800),\\\n",
    "      'holo4_003_RG610_HD160617_20210707_000246_quickLookExp.fits':(1,1,250.,1800),\\\n",
    "      'holo4_003_RG610_HD160617_20210707_000247_quickLookExp.fits':(1,1,250.,1800),\\\n",
    "      \n",
    "\n",
    "\n",
    "        # wide scan index 14 ....  21...\n",
    "      'holo4_003_empty_HD160617_20210707_000248_quickLookExp.fits':(1,1,1400.,700.),\\\n",
    "      'holo4_003_empty_HD160617_20210707_000249_quickLookExp.fits':(1,1,1400.,700.),\\\n",
    "      'holo4_003_empty_HD160617_20210707_000250_quickLookExp.fits':(1,1,400.,1800.),\\\n",
    "      'holo4_003_empty_HD160617_20210707_000251_quickLookExp.fits':(1,1,400.,1800.),\\\n",
    "      'holo4_003_empty_HD160617_20210707_000252_quickLookExp.fits':(1,1,400.,1800.),\\\n",
    "      'holo4_003_empty_HD160617_20210707_000253_quickLookExp.fits':(1,1,0.,800.),\\\n",
    "      'holo4_003_empty_HD160617_20210707_000254_quickLookExp.fits':(1,1,0.,800.),\\\n",
    "      'holo4_003_empty_HD160617_20210707_000255_quickLookExp.fits':(1,1,0.,800.),\\\n",
    "      \n",
    "\n",
    "        # narrrow scan : index 76 .....96\n",
    "      'holo4_003_empty_HD160617_20210707_000317_quickLookExp.fits':(1,1,500.,2100.),\\\n",
    "      'holo4_003_empty_HD160617_20210707_000318_quickLookExp.fits':(1,1,500.,2100.),\\\n",
    "      'holo4_003_empty_HD160617_20210707_000319_quickLookExp.fits':(1,1,500.,1800.),\\\n",
    "      'holo4_003_empty_HD160617_20210707_000320_quickLookExp.fits':(1,1,500.,1800.),\\\n",
    "      'holo4_003_empty_HD160617_20210707_000321_quickLookExp.fits':(1,1,500.,1700.),\\\n",
    "      'holo4_003_empty_HD160617_20210707_000322_quickLookExp.fits':(1,1,500.,1600.),\\\n",
    "      'holo4_003_empty_HD160617_20210707_000323_quickLookExp.fits':(1,1,500.,1500.),\\\n",
    "      'holo4_003_empty_HD160617_20210707_000324_quickLookExp.fits':(1,1,400.,2200.),\\\n",
    "      'holo4_003_empty_HD160617_20210707_000325_quickLookExp.fits':(1,1,400.,2100.),\\\n",
    "      'holo4_003_empty_HD160617_20210707_000326_quickLookExp.fits':(1,1,350.,1860.),\\\n",
    "      'holo4_003_empty_HD160617_20210707_000327_quickLookExp.fits':(1,1,400.,1800.),\\\n",
    "      'holo4_003_empty_HD160617_20210707_000328_quickLookExp.fits':(1,1,400.,1750.),\\\n",
    "      'holo4_003_empty_HD160617_20210707_000329_quickLookExp.fits':(1,1,400.,1750.),\\\n",
    "      'holo4_003_empty_HD160617_20210707_000330_quickLookExp.fits':(1,1,400.,1600.),\\\n",
    "      'holo4_003_empty_HD160617_20210707_000331_quickLookExp.fits':(1,1,300.,2200.),\\\n",
    "      'holo4_003_empty_HD160617_20210707_000332_quickLookExp.fits':(1,1,300.,2100.),\\\n",
    "      'holo4_003_empty_HD160617_20210707_000333_quickLookExp.fits':(1,1,350.,2000.),\\\n",
    "      'holo4_003_empty_HD160617_20210707_000334_quickLookExp.fits':(1,1,350.,1800.),\\\n",
    "      'holo4_003_empty_HD160617_20210707_000335_quickLookExp.fits':(1,1,350.,1750.),\\\n",
    "      'holo4_003_empty_HD160617_20210707_000336_quickLookExp.fits':(1,1,350.,1700.),\\\n",
    "      'holo4_003_empty_HD160617_20210707_000337_quickLookExp.fits':(1,1,300.,1600.)\n",
    "      \n",
    "     }\n",
    " "
   ]
  },
  {
   "cell_type": "markdown",
   "metadata": {},
   "source": [
    "# Imports"
   ]
  },
  {
   "cell_type": "code",
   "execution_count": 3,
   "metadata": {},
   "outputs": [],
   "source": [
    "import numpy as np\n",
    "import matplotlib.pyplot as plt\n",
    "%matplotlib inline\n",
    "from mpl_toolkits.axes_grid1 import make_axes_locatable\n",
    "import pandas as pd\n",
    "\n",
    "import matplotlib.ticker                         # here's where the formatter is\n",
    "import os\n",
    "import re\n",
    "\n",
    "plt.rcParams[\"figure.figsize\"] = (16,4)\n",
    "plt.rcParams[\"axes.labelsize\"] = 'xx-large'\n",
    "plt.rcParams['axes.titlesize'] = 'xx-large'\n",
    "plt.rcParams['xtick.labelsize']= 'xx-large'\n",
    "plt.rcParams['ytick.labelsize']= 'xx-large'"
   ]
  },
  {
   "cell_type": "code",
   "execution_count": null,
   "metadata": {},
   "outputs": [],
   "source": [
    "from astropy.io import fits"
   ]
  },
  {
   "cell_type": "code",
   "execution_count": null,
   "metadata": {},
   "outputs": [],
   "source": [
    "import imp\n",
    "MODULE_EXTENSIONS = ('.py', '.pyc', '.pyo')"
   ]
  },
  {
   "cell_type": "code",
   "execution_count": null,
   "metadata": {},
   "outputs": [],
   "source": [
    "def package_contents(package_name):\n",
    "    file, pathname, description = imp.find_module(package_name)\n",
    "    if file:\n",
    "        raise ImportError('Not a package: %r', package_name)\n",
    "    # Use a set because some may be both source and compiled.\n",
    "    return set([os.path.splitext(module)[0]\n",
    "        for module in os.listdir(pathname)\n",
    "        if module.endswith(MODULE_EXTENSIONS)])"
   ]
  },
  {
   "cell_type": "code",
   "execution_count": null,
   "metadata": {},
   "outputs": [],
   "source": [
    "package_contents(\"spectractor\")"
   ]
  },
  {
   "cell_type": "code",
   "execution_count": null,
   "metadata": {},
   "outputs": [],
   "source": [
    "package_contents(\"spectractor/extractor\")"
   ]
  },
  {
   "cell_type": "markdown",
   "metadata": {},
   "source": [
    "# Initialisation"
   ]
  },
  {
   "cell_type": "code",
   "execution_count": null,
   "metadata": {},
   "outputs": [],
   "source": [
    "dir_logbooks=\"logbooks\""
   ]
  },
  {
   "cell_type": "code",
   "execution_count": null,
   "metadata": {},
   "outputs": [],
   "source": [
    "import os\n",
    "if not os.path.exists(dir_logbooks):\n",
    "    os.makedirs(dir_logbooks)"
   ]
  },
  {
   "cell_type": "markdown",
   "metadata": {},
   "source": [
    "## Get inputs files and sort them according date and number"
   ]
  },
  {
   "cell_type": "code",
   "execution_count": null,
   "metadata": {},
   "outputs": [],
   "source": [
    "FLAG_HOLO=True\n",
    "home=os.getenv(\"HOME\")"
   ]
  },
  {
   "cell_type": "code",
   "execution_count": null,
   "metadata": {},
   "outputs": [],
   "source": [
    "if FLAG_HOLO:\n",
    "    image_path=\"holo\"\n",
    "    version=\"v3.0\"\n",
    "    logbook_csv=os.path.join(dir_logbooks,\"auxtelholologbook_2021_07_07_\" + version + \".csv\")\n",
    "    logbook_xlsx=os.path.join(dir_logbooks,\"auxtelholologbook_2021_07_07_\" + version + \".xlsx\")\n",
    "else:\n",
    "    image_path=\"ronchi170lpmm\"\n",
    "    version=\"v3.0\"\n",
    "    logbook_csv=os.path.join(dir_logbooks,\"auxtelronchilogbook_2021_07_07_\" + version + \".csv\")\n",
    "    logbook_xlsx=os.path.join(dir_logbooks,\"auxtelronchilogbook_2021_07_07_\" + version + \".xlsx\")"
   ]
  },
  {
   "cell_type": "markdown",
   "metadata": {},
   "source": [
    "# Path"
   ]
  },
  {
   "cell_type": "code",
   "execution_count": null,
   "metadata": {},
   "outputs": [],
   "source": [
    "HOSTCC=True"
   ]
  },
  {
   "cell_type": "code",
   "execution_count": null,
   "metadata": {},
   "outputs": [],
   "source": [
    "if HOSTCC:\n",
    "    path_auxtel=\"/sps/lsst/groups/auxtel\"\n",
    "    path_spectractor=os.path.join(path_auxtel,\"softs/github/desc/Spectractor\")\n",
    "    path_spectractor_config=os.path.join(path_spectractor,\"config\")\n",
    "    #path_images=os.path.join(path_auxtel,\"data/2021/holo/localreduced/2021-07-06\")\n",
    "    path_images=os.path.join(path_auxtel,\"data/2021/holo/quickLookExp/2021-07-07\")\n",
    "else:\n",
    "    path_auxtel=\"/Users/dagoret/DATA/AuxTelData2021\"\n",
    "    path_spectractor=os.path.join(path_auxtel,\"/users/dagoret/softs/github/lsst/Spectractor\")\n",
    "    path_spectractor_config=os.path.join(path_spectractor,\"config\")\n",
    "    #path_images=os.path.join(path_auxtel,\"data/2021/holo/localreduced/2021-07-06\")\n",
    "    path_images=os.path.join(path_auxtel,\"holo/quickLookExp/2021-07-07\")"
   ]
  },
  {
   "cell_type": "code",
   "execution_count": null,
   "metadata": {},
   "outputs": [],
   "source": [
    "dir_images=path_images"
   ]
  },
  {
   "cell_type": "code",
   "execution_count": null,
   "metadata": {},
   "outputs": [],
   "source": [
    "all_files=os.listdir(dir_images)"
   ]
  },
  {
   "cell_type": "code",
   "execution_count": null,
   "metadata": {},
   "outputs": [],
   "source": [
    "all_files"
   ]
  },
  {
   "cell_type": "code",
   "execution_count": null,
   "metadata": {},
   "outputs": [],
   "source": [
    "all_selected_files = []\n",
    "for filename in all_files:\n",
    "    if re.search(\".fits$\",filename):\n",
    "        all_selected_files.append(filename)\n",
    "N=len(all_selected_files)"
   ]
  },
  {
   "cell_type": "code",
   "execution_count": null,
   "metadata": {},
   "outputs": [],
   "source": [
    "all_selected_files=np.array(all_selected_files)"
   ]
  },
  {
   "cell_type": "markdown",
   "metadata": {},
   "source": [
    "### Sort files"
   ]
  },
  {
   "cell_type": "code",
   "execution_count": null,
   "metadata": {},
   "outputs": [],
   "source": [
    "def file_tag_forsorting(filename):\n",
    "    #m=re.findall('^Cor_holo4_003_.*([0-9][0-9][0-9][0-9]-[0-9][0-9]-[0-9][0-9]_.*)[.]fits$',filename)\n",
    "    m=re.findall('^holo4_003_.*_(.*)_quickLookExp[.]fits$',filename)\n",
    "    \n",
    "    return m[0]"
   ]
  },
  {
   "cell_type": "code",
   "execution_count": null,
   "metadata": {},
   "outputs": [],
   "source": [
    "file_tag_forsorting('holo4_003_empty_HD115169_20210608_000291_quickLookExp.fits')"
   ]
  },
  {
   "cell_type": "code",
   "execution_count": null,
   "metadata": {},
   "outputs": [],
   "source": [
    "#all_tags = [ file_tag_forsorting(filename)[0] for filename in all_selected_files]\n",
    "all_tags = [ file_tag_forsorting(filename) for filename in all_selected_files]\n",
    "all_tags=np.array(all_tags)\n",
    "all_tags"
   ]
  },
  {
   "cell_type": "code",
   "execution_count": null,
   "metadata": {},
   "outputs": [],
   "source": [
    "indexes=np.argsort(all_tags)"
   ]
  },
  {
   "cell_type": "code",
   "execution_count": null,
   "metadata": {},
   "outputs": [],
   "source": [
    "sorted_files=all_selected_files[indexes]"
   ]
  },
  {
   "cell_type": "code",
   "execution_count": null,
   "metadata": {},
   "outputs": [],
   "source": [
    "sorted_files"
   ]
  },
  {
   "cell_type": "code",
   "execution_count": null,
   "metadata": {},
   "outputs": [],
   "source": [
    "N=len(sorted_files)"
   ]
  },
  {
   "cell_type": "markdown",
   "metadata": {},
   "source": [
    "### Filter bad files"
   ]
  },
  {
   "cell_type": "code",
   "execution_count": null,
   "metadata": {},
   "outputs": [],
   "source": [
    "idx=0\n",
    "indexes_bad=[]\n",
    "for filename in sorted_files:\n",
    "    fullfilename=os.path.join(dir_images,filename)\n",
    "    hdu = fits.open(fullfilename)\n",
    "    hdu0=hdu[0]\n",
    "    hdr0=hdu0.header\n",
    "    #print(hdr0['OBJECT'],\"\\t\",filename)\n",
    "    if hdr0['OBJECT'] == '35 Tau' or hdr0['OBJECT'] == 'Park position':\n",
    "        print('bad file ', filename)\n",
    "        indexes_bad.append(idx)\n",
    "        \n",
    "    idx+=1"
   ]
  },
  {
   "cell_type": "code",
   "execution_count": null,
   "metadata": {},
   "outputs": [],
   "source": [
    "indexes_bad"
   ]
  },
  {
   "cell_type": "markdown",
   "metadata": {},
   "source": [
    "### Remove bad files"
   ]
  },
  {
   "cell_type": "code",
   "execution_count": null,
   "metadata": {},
   "outputs": [],
   "source": [
    "sorted_files=np.delete(sorted_files,indexes_bad)"
   ]
  },
  {
   "cell_type": "markdown",
   "metadata": {},
   "source": [
    "### Check for target"
   ]
  },
  {
   "cell_type": "code",
   "execution_count": null,
   "metadata": {},
   "outputs": [],
   "source": [
    "re.findall('^holo4_003_.*_(.*)_[0-9][0-9][0-9][0-9][0-9][0-9][0-9][0-9]_.*_quickLookExp[.]fits$','holo4_003_RG610_HD120144_20210706_000098_quickLookExp.fits')"
   ]
  },
  {
   "cell_type": "code",
   "execution_count": null,
   "metadata": {},
   "outputs": [],
   "source": [
    "def file_target(filename):\n",
    "    m=re.findall('^holo4_003_.*_(.*)_[0-9][0-9][0-9][0-9][0-9][0-9][0-9][0-9]_.*_quickLookExp[.]fits$',filename)\n",
    "    if len(m)>0:\n",
    "        return m\n",
    "    elif re.search('NGC4755',filename):\n",
    "        return ['NGC4755']\n",
    "    else:\n",
    "        return []"
   ]
  },
  {
   "cell_type": "code",
   "execution_count": null,
   "metadata": {},
   "outputs": [],
   "source": [
    "for filename in sorted_files:\n",
    "    print(file_target(filename),\"\\t\",filename)"
   ]
  },
  {
   "cell_type": "code",
   "execution_count": null,
   "metadata": {
    "scrolled": true
   },
   "outputs": [],
   "source": [
    "idx=0\n",
    "for filename in sorted_files:\n",
    "    fullfilename=os.path.join(dir_images,filename)\n",
    "    hdu = fits.open(fullfilename)\n",
    "    hdu0=hdu[0]\n",
    "    hdr0=hdu0.header\n",
    "    #print(hdr0,\"\\t\",filename)\n",
    "        \n",
    "    idx+=1"
   ]
  },
  {
   "cell_type": "markdown",
   "metadata": {},
   "source": [
    "# Build the logbook from the headers"
   ]
  },
  {
   "cell_type": "code",
   "execution_count": null,
   "metadata": {},
   "outputs": [],
   "source": [
    "idx=0\n",
    "#ccdir='/sps/lsst/groups/auxtel/data/2021/holo/FlipCleans'\n",
    "ccdir=dir_images\n",
    "all_dates=[]\n",
    "all_files=[]\n",
    "all_seqnum=[]\n",
    "all_subdir=[]\n",
    "all_indexes=[]\n",
    "all_targets=[]\n",
    "all_filters=[]\n",
    "all_disperser=[]\n",
    "all_airmass=[]\n",
    "all_exposures=[]\n",
    "all_focus=[]\n",
    "all_seeing=[]\n",
    "all_P=[]\n",
    "all_T=[]\n",
    "all_H=[]\n",
    "all_W=[]\n",
    "for filename in sorted_files:\n",
    "    fullfilename=os.path.join(dir_images,filename)\n",
    "    hdu = fits.open(fullfilename)\n",
    "    hdu0=hdu[0]\n",
    "    hdr0=hdu0.header \n",
    "    all_indexes.append(idx)\n",
    "    all_seqnum.append(hdr0['SEQNUM'])\n",
    "    all_files.append(filename)\n",
    "    all_subdir.append(ccdir)\n",
    "    targetname=file_target(filename)[0]\n",
    "    all_targets.append(targetname)\n",
    "    all_dates.append(hdr0['DATE-OBS'])\n",
    "    all_airmass.append(hdr0['AMSTART'])\n",
    "    all_filters.append(hdr0['FILTER'])\n",
    "    all_disperser.append(hdr0['GRATING'])\n",
    "    all_exposures.append(hdr0['EXPTIME'])\n",
    "    all_focus.append(hdr0['FOCUSZ'])\n",
    "    all_seeing.append(hdr0['SEEING'])\n",
    "    all_P.append(hdr0['PRESSURE'])\n",
    "    all_T.append(hdr0['AIRTEMP'])\n",
    "    all_H.append(hdr0['HUMIDITY'])\n",
    "    all_W.append(hdr0['WINDSPD'])\n",
    "       \n",
    "    \n",
    "    idx+=1\n",
    "    "
   ]
  },
  {
   "cell_type": "markdown",
   "metadata": {},
   "source": [
    "# Make pandas dataframe"
   ]
  },
  {
   "cell_type": "markdown",
   "metadata": {},
   "source": [
    "## Create pandas dataframe"
   ]
  },
  {
   "cell_type": "code",
   "execution_count": null,
   "metadata": {},
   "outputs": [],
   "source": [
    "df=pd.DataFrame()"
   ]
  },
  {
   "cell_type": "code",
   "execution_count": null,
   "metadata": {},
   "outputs": [],
   "source": [
    "len(all_airmass)"
   ]
  },
  {
   "cell_type": "code",
   "execution_count": null,
   "metadata": {},
   "outputs": [],
   "source": [
    "N=len(all_indexes)"
   ]
  },
  {
   "cell_type": "markdown",
   "metadata": {},
   "source": [
    "## Fill with container info"
   ]
  },
  {
   "cell_type": "code",
   "execution_count": null,
   "metadata": {},
   "outputs": [],
   "source": [
    "df['index']=all_indexes\n",
    "df['date']=all_dates\n",
    "df['path']=all_subdir\n",
    "df['file']=all_files\n",
    "df['num']=all_seqnum\n",
    "df['object']=all_targets\n",
    "df['filter']=all_filters\n",
    "df['disperser']=all_disperser\n",
    "df['airmass']=all_airmass\n",
    "df['exposure']=all_exposures\n",
    "df['focus']=all_focus\n",
    "df['seeing']=all_seeing\n",
    "df['pressure']=all_P\n",
    "df['temperature']=all_T\n",
    "df['humidity']=all_H\n",
    "df['windspd']=all_W"
   ]
  },
  {
   "cell_type": "markdown",
   "metadata": {},
   "source": [
    "## Add dictionnary info"
   ]
  },
  {
   "cell_type": "markdown",
   "metadata": {},
   "source": [
    "### Initialise new columns"
   ]
  },
  {
   "cell_type": "code",
   "execution_count": null,
   "metadata": {},
   "outputs": [],
   "source": [
    "Obj_posXpix=np.full(N,np.nan)\n",
    "Obj_posYpix=np.full(N,np.nan)\n",
    "Dx=np.full(N,np.nan)\n",
    "Dy=np.full(N,np.nan)\n",
    "run=np.full(N,np.nan)\n",
    "quality=np.full(N,np.nan)\n",
    "skip=np.full(N,\"    \")"
   ]
  },
  {
   "cell_type": "markdown",
   "metadata": {},
   "source": [
    "### Fill dictionnary info"
   ]
  },
  {
   "cell_type": "code",
   "execution_count": null,
   "metadata": {},
   "outputs": [],
   "source": [
    "# loop on rows index\n",
    "for idx in np.arange(N):\n",
    "    filename=all_files[idx]\n",
    "    # check if filename is in dictionnary\n",
    "    if filename in info.keys():\n",
    "        (run_flag,quality_flag,xpos,ypos)=info[filename]\n",
    "        Obj_posXpix[idx]=int(xpos)\n",
    "        Obj_posYpix[idx]=int(ypos)\n",
    "        run[idx]=run_flag\n",
    "        if quality_flag==1:\n",
    "            skip[idx] = \"    \"\n",
    "            quality[idx]=1\n",
    "        else:\n",
    "            skip[idx] = \"skip\"\n",
    "            quality[idx]=0"
   ]
  },
  {
   "cell_type": "code",
   "execution_count": null,
   "metadata": {},
   "outputs": [],
   "source": [
    "df['Obj-posXpix']=Obj_posXpix\n",
    "df['Obj-posYpix']=Obj_posYpix\n",
    "df['Dx']=Dx\n",
    "df['Dy']=Dy\n",
    "df['skip']=skip\n",
    "df['run']=run\n",
    "df['quality']=quality"
   ]
  },
  {
   "cell_type": "code",
   "execution_count": null,
   "metadata": {},
   "outputs": [],
   "source": [
    "pd.set_option('display.max_rows', None)"
   ]
  },
  {
   "cell_type": "code",
   "execution_count": null,
   "metadata": {},
   "outputs": [],
   "source": [
    "df"
   ]
  },
  {
   "cell_type": "markdown",
   "metadata": {},
   "source": [
    "# Make logbook\n"
   ]
  },
  {
   "cell_type": "code",
   "execution_count": null,
   "metadata": {},
   "outputs": [],
   "source": [
    "df.to_excel(logbook_xlsx)\n",
    "df.to_csv(logbook_csv)"
   ]
  },
  {
   "cell_type": "code",
   "execution_count": null,
   "metadata": {},
   "outputs": [],
   "source": [
    "logbook_csv"
   ]
  },
  {
   "cell_type": "code",
   "execution_count": null,
   "metadata": {},
   "outputs": [],
   "source": []
  }
 ],
 "metadata": {
  "kernelspec": {
   "display_name": "anaconda3_auxtel",
   "language": "python",
   "name": "anaconda3_auxtel"
  },
  "language_info": {
   "codemirror_mode": {
    "name": "ipython",
    "version": 3
   },
   "file_extension": ".py",
   "mimetype": "text/x-python",
   "name": "python",
   "nbconvert_exporter": "python",
   "pygments_lexer": "ipython3",
   "version": "3.8.5"
  },
  "toc": {
   "base_numbering": 1,
   "nav_menu": {},
   "number_sections": true,
   "sideBar": true,
   "skip_h1_title": false,
   "title_cell": "Table of Contents",
   "title_sidebar": "Contents",
   "toc_cell": false,
   "toc_position": {},
   "toc_section_display": true,
   "toc_window_display": false
  }
 },
 "nbformat": 4,
 "nbformat_minor": 4
}
