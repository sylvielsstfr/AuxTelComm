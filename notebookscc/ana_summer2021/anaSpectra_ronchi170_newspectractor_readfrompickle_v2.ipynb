{
 "cells": [
  {
   "cell_type": "markdown",
   "metadata": {},
   "source": [
    "#  spectra for Ronchi at AuxTel for Scan data - Read Pickle"
   ]
  },
  {
   "cell_type": "markdown",
   "metadata": {},
   "source": [
    "- author : Sylvie Dagoret-Campagne\n",
    "- affiliation : IJCLab/IN2P3/CNES, DESC-LSST fullmember, behalf AuxTel Teal VERA C. Rubin observatory\n",
    "\n",
    "- creation date : December 9th  2021\n",
    "\n",
    "- **kernel anaconda3_auxtel** at CC or **python 3** locally"
   ]
  },
  {
   "cell_type": "markdown",
   "metadata": {},
   "source": [
    "# Imports"
   ]
  },
  {
   "cell_type": "code",
   "execution_count": 52,
   "metadata": {},
   "outputs": [],
   "source": [
    "import numpy as np\n",
    "import matplotlib.pyplot as plt\n",
    "%matplotlib inline\n",
    "from mpl_toolkits.axes_grid1 import make_axes_locatable\n",
    "from matplotlib.colors import LogNorm\n",
    "import pandas as pd\n",
    "\n",
    "import matplotlib.ticker                         # here's where the formatter is\n",
    "import os\n",
    "import re\n",
    "import pandas as pd\n",
    "\n",
    "plt.rcParams[\"figure.figsize\"] = (16,4)\n",
    "plt.rcParams[\"axes.labelsize\"] = 'xx-large'\n",
    "plt.rcParams['axes.titlesize'] = 'xx-large'\n",
    "plt.rcParams['xtick.labelsize']= 'xx-large'\n",
    "plt.rcParams['ytick.labelsize']= 'xx-large'"
   ]
  },
  {
   "cell_type": "code",
   "execution_count": 53,
   "metadata": {},
   "outputs": [],
   "source": [
    "import matplotlib.colors as colors\n",
    "import matplotlib.cm as cmx"
   ]
  },
  {
   "cell_type": "code",
   "execution_count": 54,
   "metadata": {},
   "outputs": [],
   "source": [
    "import pickle"
   ]
  },
  {
   "cell_type": "code",
   "execution_count": 55,
   "metadata": {},
   "outputs": [
    {
     "data": {
      "image/png": "[encoded data removed]",
      "text/plain": [
       "<Figure size 360x144 with 1 Axes>"
      ]
     },
     "metadata": {
      "needs_background": "light"
     },
     "output_type": "display_data"
    }
   ],
   "source": [
    "fig=plt.figure(figsize=(5,2))\n",
    "ax=fig.add_subplot(1,1,1)\n",
    "X=np.linspace(-10,10,50)\n",
    "Y=np.sin(X)\n",
    "ax.plot(X,Y)\n",
    "plt.show()               "
   ]
  },
  {
   "cell_type": "code",
   "execution_count": 56,
   "metadata": {},
   "outputs": [],
   "source": [
    "import matplotlib.offsetbox\n",
    "props = dict(boxstyle='round',edgecolor=\"w\",facecolor=\"w\", alpha=0.5)"
   ]
  },
  {
   "cell_type": "code",
   "execution_count": 57,
   "metadata": {},
   "outputs": [],
   "source": [
    "from datetime import datetime,date"
   ]
  },
  {
   "cell_type": "code",
   "execution_count": 58,
   "metadata": {},
   "outputs": [],
   "source": [
    "today = date.today()\n",
    "string_date=today.strftime(\"%Y-%m-%d\")"
   ]
  },
  {
   "cell_type": "code",
   "execution_count": 59,
   "metadata": {},
   "outputs": [
    {
     "data": {
      "text/plain": [
       "'2021-12-15'"
      ]
     },
     "execution_count": 59,
     "metadata": {},
     "output_type": "execute_result"
    }
   ],
   "source": [
    "string_date"
   ]
  },
  {
   "cell_type": "code",
   "execution_count": 60,
   "metadata": {},
   "outputs": [],
   "source": [
    "from iminuit import Minuit\n",
    "import iminuit"
   ]
  },
  {
   "cell_type": "code",
   "execution_count": 61,
   "metadata": {},
   "outputs": [
    {
     "data": {
      "text/plain": [
       "'2.7.0'"
      ]
     },
     "execution_count": 61,
     "metadata": {},
     "output_type": "execute_result"
    }
   ],
   "source": [
    "iminuit.__version__"
   ]
  },
  {
   "cell_type": "code",
   "execution_count": 62,
   "metadata": {},
   "outputs": [],
   "source": [
    "from astropy.io import fits\n",
    "from spectractor import parameters\n",
    "from spectractor.extractor.extractor import Spectractor\n",
    "from spectractor.extractor.spectrum import Spectrum, detect_lines\n",
    "from spectractor.extractor.spectrum import *\n",
    "#from spectractor.extractor.spectroscopy import Lines, Line ,HALPHA, HBETA, O2_1, H2O_1,H2O_2\n",
    "from spectractor.extractor.spectroscopy import Lines, Line ,HALPHA, HBETA, O2_1, H2O_1, ATMOSPHERIC_LINES\n",
    "from spectractor.config import load_config\n",
    "from spectractor import parameters\n",
    "from spectractor.extractor.images import *\n",
    "from scipy import ndimage, misc\n",
    "from scipy.interpolate import interp1d"
   ]
  },
  {
   "cell_type": "code",
   "execution_count": 63,
   "metadata": {},
   "outputs": [],
   "source": [
    "import requests\n",
    "from requests.adapters import HTTPAdapter\n",
    "from requests.packages.urllib3.util.retry import Retry"
   ]
  },
  {
   "cell_type": "code",
   "execution_count": 64,
   "metadata": {},
   "outputs": [],
   "source": [
    "from time import sleep"
   ]
  },
  {
   "cell_type": "code",
   "execution_count": 65,
   "metadata": {},
   "outputs": [],
   "source": [
    "from astropy.time import Time\n",
    "import astropy.units as u"
   ]
  },
  {
   "cell_type": "markdown",
   "metadata": {},
   "source": [
    "# Read from pickle"
   ]
  },
  {
   "cell_type": "code",
   "execution_count": 66,
   "metadata": {},
   "outputs": [],
   "source": [
    "infilename='ronchi170-scan-auxtel.pickle'"
   ]
  },
  {
   "cell_type": "code",
   "execution_count": 67,
   "metadata": {},
   "outputs": [],
   "source": [
    "with open(infilename, 'rb') as pickle_file:\n",
    "    content = pickle.load(pickle_file)"
   ]
  },
  {
   "cell_type": "code",
   "execution_count": 68,
   "metadata": {},
   "outputs": [
    {
     "data": {
      "text/plain": [
       "{'ronchi170lpmm_empty_HD2811_20210909_000600_quickLookExp_spectrum.fits': {'number': 600.0,\n",
       "  'targetx_pix': 333.1573645654408,\n",
       "  'targety_pix': 2270.218971813826,\n",
       "  'rotangle': -1.043130371636775,\n",
       "  'd2ccd': 182.3335009895922,\n",
       "  'all_lambdas': array([ 300.64387446,  301.28684362,  301.9298023 , ..., 1097.00841295,\n",
       "         1097.62095683, 1098.23346409]),\n",
       "  'all_fluxes': array([ 5.47359655e-15, -1.54331394e-14, -2.15618810e-14, ...,\n",
       "         -1.87961415e-14, -2.28703227e-14, -1.82989304e-14]),\n",
       "  'all_fluxes_err': array([2.12288274e-14, 1.93028808e-14, 1.68531593e-14, ...,\n",
       "         8.20494831e-15, 9.29555379e-15, 1.00574276e-14])},\n",
       " 'ronchi170lpmm_empty_HD2811_20210909_000601_quickLookExp_spectrum.fits': {'number': 601.0,\n",
       "  'targetx_pix': 347.1394614058548,\n",
       "  'targety_pix': 2268.75593475022,\n",
       "  'rotangle': -1.05890630008598,\n",
       "  'd2ccd': 181.4678472071839,\n",
       "  'all_lambdas': array([ 300.59896555,  301.24500538,  301.89103464, ..., 1101.27346987,\n",
       "         1101.88868045, 1102.50385391]),\n",
       "  'all_fluxes': array([-2.42673337e-14, -2.34733100e-14, -1.84623945e-14, ...,\n",
       "          1.71013473e-14, -1.83540475e-15,  2.38395397e-16]),\n",
       "  'all_fluxes_err': array([3.28891639e-15, 3.28036328e-15, 3.27045055e-15, ...,\n",
       "         1.14857208e-15, 1.14912106e-15, 1.14909476e-15])},\n",
       " 'ronchi170lpmm_empty_HD2811_20210909_000602_quickLookExp_spectrum.fits': {'number': 602.0,\n",
       "  'targetx_pix': 355.88644527853,\n",
       "  'targety_pix': 2267.83598932141,\n",
       "  'rotangle': -1.059306106966951,\n",
       "  'd2ccd': 180.500930373897,\n",
       "  'all_lambdas': array([ 300.19683797,  300.84634487,  301.49584111, ..., 1105.05473801,\n",
       "         1105.67301335, 1106.29125106]),\n",
       "  'all_fluxes': array([ 1.39771537e-15,  1.07453154e-16,  5.21800472e-15, ...,\n",
       "         -6.82591816e-15, -1.12186873e-15,  6.20587286e-15]),\n",
       "  'all_fluxes_err': array([3.18176204e-15, 3.17383878e-15, 3.16495614e-15, ...,\n",
       "         1.11937865e-15, 1.11962978e-15, 1.11945777e-15])},\n",
       " 'ronchi170lpmm_empty_HD2811_20210909_000603_quickLookExp_spectrum.fits': {'number': 603.0,\n",
       "  'targetx_pix': 348.8321753805486,\n",
       "  'targety_pix': 2266.175430775374,\n",
       "  'rotangle': -1.052683585393292,\n",
       "  'd2ccd': 181.5084373845723,\n",
       "  'all_lambdas': array([ 300.95908972,  301.60497778,  302.25085527, ..., 1100.82551939,\n",
       "         1101.44061773, 1102.055679  ]),\n",
       "  'all_fluxes': array([ 3.02838265e-14, -4.45876531e-15,  1.11262226e-14, ...,\n",
       "         -2.82301298e-14, -1.83632168e-14, -2.07773039e-14]),\n",
       "  'all_fluxes_err': array([6.90846922e-14, 4.52621882e-14, 4.25855590e-14, ...,\n",
       "         2.13346827e-14, 2.97380158e-14, 4.00580600e-14])},\n",
       " 'ronchi170lpmm_empty_HD2811_20210909_000604_quickLookExp_spectrum.fits': {'number': 604.0,\n",
       "  'targetx_pix': 333.99082949837,\n",
       "  'targety_pix': 2263.613881835886,\n",
       "  'rotangle': -1.049550972634715,\n",
       "  'd2ccd': 182.2277217112866,\n",
       "  'all_lambdas': array([ 300.91682704,  301.56016626,  302.20349498, ..., 1098.3318627 ,\n",
       "         1098.94468404, 1099.55746867]),\n",
       "  'all_fluxes': array([ 1.54721683e-14,  1.06818849e-14, -1.95738567e-14, ...,\n",
       "          1.61084861e-15,  1.82165239e-14,  1.21760401e-14]),\n",
       "  'all_fluxes_err': array([2.12415146e-14, 1.97075978e-14, 1.75767584e-14, ...,\n",
       "         2.92539772e-14, 3.14398443e-14, 3.28693663e-14])},\n",
       " 'ronchi170lpmm_empty_HD2811_20210909_000605_quickLookExp_spectrum.fits': {'number': 605.0,\n",
       "  'targetx_pix': 346.3225652815478,\n",
       "  'targety_pix': 2266.459912543366,\n",
       "  'rotangle': -1.050773689401067,\n",
       "  'd2ccd': 181.5608315383632,\n",
       "  'all_lambdas': array([ 300.56765799,  301.21336579,  301.85906303, ..., 1100.22839791,\n",
       "         1100.84335478, 1101.45827461]),\n",
       "  'all_fluxes': array([-1.15559064e-13, -1.41211308e-13, -8.88931521e-14, ...,\n",
       "          6.85307681e-14,  8.47136157e-14,  8.88913400e-14]),\n",
       "  'all_fluxes_err': array([2.75468013e-13, 2.32479872e-13, 1.79612837e-13, ...,\n",
       "         2.90364488e-13, 3.18182975e-13, 3.35832440e-13])},\n",
       " 'ronchi170lpmm_empty_HD2811_20210909_000606_quickLookExp_spectrum.fits': {'number': 606.0,\n",
       "  'targetx_pix': 340.7537929594576,\n",
       "  'targety_pix': 2267.501624703222,\n",
       "  'rotangle': -1.042966570567408,\n",
       "  'd2ccd': 181.6583315430138,\n",
       "  'all_lambdas': array([ 300.59653296,  301.24189231,  301.88724111, ..., 1100.45229007,\n",
       "         1101.0669026 , 1101.68147812]),\n",
       "  'all_fluxes': array([-7.74121932e-15, -2.40093258e-14, -8.92733478e-15, ...,\n",
       "          4.77072290e-15,  2.56790053e-15,  4.14386842e-15]),\n",
       "  'all_fluxes_err': array([3.39242408e-15, 3.38338415e-15, 3.37279460e-15, ...,\n",
       "         1.18857208e-15, 1.18935873e-15, 1.18944355e-15])},\n",
       " 'ronchi170lpmm_empty_HD2811_20210909_000607_quickLookExp_spectrum.fits': {'number': 607.0,\n",
       "  'targetx_pix': 348.5864637755562,\n",
       "  'targety_pix': 2265.67559644598,\n",
       "  'rotangle': -1.05817917852404,\n",
       "  'd2ccd': 181.5026021436644,\n",
       "  'all_lambdas': array([ 300.45699688,  301.10291508,  301.74882272, ..., 1100.98891282,\n",
       "         1101.60402226, 1102.21909463]),\n",
       "  'all_fluxes': array([-5.05508970e-15,  6.84172898e-15,  9.19808680e-15, ...,\n",
       "          4.80864465e-15,  6.55789460e-15,  9.46564120e-15]),\n",
       "  'all_fluxes_err': array([2.04068326e-14, 1.77609981e-14, 1.48248722e-14, ...,\n",
       "         6.59491863e-15, 7.85006597e-15, 8.83872260e-15])},\n",
       " 'ronchi170lpmm_empty_HD2811_20210909_000608_quickLookExp_spectrum.fits': {'number': 608.0,\n",
       "  'targetx_pix': 341.9688057037616,\n",
       "  'targety_pix': 2266.452531370992,\n",
       "  'rotangle': -1.034802848362102,\n",
       "  'd2ccd': 181.6495535405121,\n",
       "  'all_lambdas': array([ 300.93521825,  301.58060153,  302.22597425, ..., 1100.8102197 ,\n",
       "         1101.42483858, 1102.03942045]),\n",
       "  'all_fluxes': array([ 1.02996549e-14, -2.11501309e-14,  7.88704271e-17, ...,\n",
       "          3.88588465e-15,  5.56447738e-15,  3.33044940e-15]),\n",
       "  'all_fluxes_err': array([1.27478839e-14, 1.22108425e-14, 1.14285571e-14, ...,\n",
       "         4.03904968e-15, 4.31172657e-15, 4.48597255e-15])},\n",
       " 'ronchi170lpmm_empty_HD2811_20210909_000609_quickLookExp_spectrum.fits': {'number': 609.0,\n",
       "  'targetx_pix': 349.1348631513912,\n",
       "  'targety_pix': 2264.358487275744,\n",
       "  'rotangle': -1.04920120928439,\n",
       "  'd2ccd': 181.2609142545523,\n",
       "  'all_lambdas': array([ 300.47933579,  301.126113  ,  301.77287963, ..., 1102.04462074,\n",
       "         1102.66048482, 1103.27631169]),\n",
       "  'all_fluxes': array([2.02718142e-15, 1.52124106e-15, 8.49093144e-15, ...,\n",
       "         1.98335532e-15, 6.60481396e-15, 1.51610766e-15]),\n",
       "  'all_fluxes_err': array([3.29091150e-15, 3.28254102e-15, 3.27297766e-15, ...,\n",
       "         1.09338750e-15, 1.09377498e-15, 1.09367484e-15])},\n",
       " 'ronchi170lpmm_empty_HD2811_20210909_000610_quickLookExp_spectrum.fits': {'number': 610.0,\n",
       "  'targetx_pix': 335.5011423108496,\n",
       "  'targety_pix': 2264.202073013736,\n",
       "  'rotangle': -1.034946713646175,\n",
       "  'd2ccd': 182.4432608620387,\n",
       "  'all_lambdas': array([ 301.19465038,  301.83722201,  302.47978317, ..., 1097.67763568,\n",
       "         1098.28976919, 1098.90186609]),\n",
       "  'all_fluxes': array([-4.14354715e-15,  4.51654025e-15,  6.95543592e-15, ...,\n",
       "          5.75983771e-15,  9.21051963e-15,  1.14980835e-14]),\n",
       "  'all_fluxes_err': array([2.17486454e-14, 1.95475029e-14, 1.68112012e-14, ...,\n",
       "         6.99377793e-15, 8.08548008e-15, 8.88201439e-15])},\n",
       " 'ronchi170lpmm_empty_HD2811_20210909_000611_quickLookExp_spectrum.fits': {'number': 611.0,\n",
       "  'targetx_pix': 336.6057772620622,\n",
       "  'targety_pix': 2265.591789933036,\n",
       "  'rotangle': -1.052600138529153,\n",
       "  'd2ccd': 182.4251304140033,\n",
       "  'all_lambdas': array([ 301.37300239,  302.01563852,  302.65826417, ..., 1097.92859203,\n",
       "         1098.54077456, 1099.15292047]),\n",
       "  'all_fluxes': array([-1.11372431e-14, -6.05018636e-15,  2.12779188e-14, ...,\n",
       "         -2.38811696e-14, -2.51976842e-14, -3.16861821e-14]),\n",
       "  'all_fluxes_err': array([4.27713022e-14, 3.23791393e-14, 2.57420599e-14, ...,\n",
       "         1.35140248e-14, 1.81017853e-14, 2.25185289e-14])},\n",
       " 'ronchi170lpmm_empty_HD2811_20210909_000612_quickLookExp_spectrum.fits': {'number': 612.0,\n",
       "  'targetx_pix': 338.849821481243,\n",
       "  'targety_pix': 2264.142485615498,\n",
       "  'rotangle': -1.041927586261431,\n",
       "  'd2ccd': 182.327825137315,\n",
       "  'all_lambdas': array([ 301.1990936 ,  301.8420733 ,  302.4850425 , ..., 1098.17312454,\n",
       "         1098.78561688, 1099.39807256]),\n",
       "  'all_fluxes': array([-3.54044919e-14,  1.01976073e-14,  1.46341161e-14, ...,\n",
       "          6.84729612e-15,  1.25951495e-17, -4.42202250e-15]),\n",
       "  'all_fluxes_err': array([4.06017207e-15, 4.04857556e-15, 4.03410944e-15, ...,\n",
       "         1.40952730e-15, 1.41116167e-15, 1.41162397e-15])},\n",
       " 'ronchi170lpmm_empty_HD2811_20210909_000613_quickLookExp_spectrum.fits': {'number': 613.0,\n",
       "  'targetx_pix': 346.5187360987926,\n",
       "  'targety_pix': 2265.675175653074,\n",
       "  'rotangle': -1.056230643156217,\n",
       "  'd2ccd': 181.7289652772573,\n",
       "  'all_lambdas': array([ 300.25522769,  300.9003443 ,  301.54545038, ..., 1099.8279475 ,\n",
       "         1100.44236054, 1101.05673663]),\n",
       "  'all_fluxes': array([-1.22239408e-14, -8.88807908e-15, -3.60860368e-15, ...,\n",
       "         -7.33361470e-15, -1.80936907e-15, -1.02835489e-14]),\n",
       "  'all_fluxes_err': array([1.91522133e-14, 1.70985952e-14, 1.46400823e-14, ...,\n",
       "         7.45942868e-15, 8.65851588e-15, 9.52530875e-15])},\n",
       " 'ronchi170lpmm_empty_HD2811_20210909_000614_quickLookExp_spectrum.fits': {'number': 614.0,\n",
       "  'targetx_pix': 347.5560447970138,\n",
       "  'targety_pix': 2265.851489955304,\n",
       "  'rotangle': -1.052602926146583,\n",
       "  'd2ccd': 181.3369842253132,\n",
       "  'all_lambdas': array([ 300.46883314,  301.11533996,  301.7618362 , ..., 1101.70903523,\n",
       "         1102.32466208, 1102.94025175]),\n",
       "  'all_fluxes': array([-7.50914349e-15,  1.67945047e-14, -3.74699377e-16, ...,\n",
       "          2.21039612e-15, -4.73993774e-15, -4.01227355e-15]),\n",
       "  'all_fluxes_err': array([3.97282290e-15, 3.96157096e-15, 3.94777148e-15, ...,\n",
       "         1.39845876e-15, 1.39985949e-15, 1.40021080e-15])},\n",
       " 'ronchi170lpmm_empty_HD2811_20210909_000615_quickLookExp_spectrum.fits': {'number': 615.0,\n",
       "  'targetx_pix': 351.0686021710742,\n",
       "  'targety_pix': 2265.32625770511,\n",
       "  'rotangle': -1.052889515153975,\n",
       "  'd2ccd': 181.3516420610715,\n",
       "  'all_lambdas': array([ 300.26657848,  300.91303627,  301.55948349, ..., 1100.83757281,\n",
       "         1101.45320203, 1102.0687941 ]),\n",
       "  'all_fluxes': array([-6.87163249e-15,  2.04425834e-14,  2.89521760e-14, ...,\n",
       "         -5.78201628e-15, -2.31038913e-14, -6.78104646e-15]),\n",
       "  'all_fluxes_err': array([5.22875326e-14, 3.78171527e-14, 3.08924569e-14, ...,\n",
       "         1.69601894e-14, 2.30953225e-14, 2.96911488e-14])},\n",
       " 'ronchi170lpmm_empty_HD2811_20210909_000616_quickLookExp_spectrum.fits': {'number': 616.0,\n",
       "  'targetx_pix': 352.7018307641646,\n",
       "  'targety_pix': 2264.21699852839,\n",
       "  'rotangle': -1.058480854258112,\n",
       "  'd2ccd': 181.4896925987276,\n",
       "  'all_lambdas': array([ 300.40319452,  301.04915946,  301.69511384, ..., 1100.99263219,\n",
       "         1101.60778469, 1102.2229001 ]),\n",
       "  'all_fluxes': array([ 3.53769567e-14,  4.66951205e-14, -2.18276863e-14, ...,\n",
       "          1.13270803e-13,  9.95264563e-14,  8.85612842e-14]),\n",
       "  'all_fluxes_err': array([3.14983374e-13, 2.96954419e-13, 2.70439539e-13, ...,\n",
       "         5.23986298e-13, 5.42162798e-13, 5.52400576e-13])},\n",
       " 'ronchi170lpmm_empty_HD2811_20210909_000617_quickLookExp_spectrum.fits': {'number': 617.0,\n",
       "  'targetx_pix': 348.9851392510752,\n",
       "  'targety_pix': 2264.784233017088,\n",
       "  'rotangle': -1.045729550053632,\n",
       "  'd2ccd': 181.3759261653524,\n",
       "  'all_lambdas': array([ 300.60954063,  301.25590486,  301.90225851, ..., 1101.05852495,\n",
       "         1101.67405729, 1102.28955249]),\n",
       "  'all_fluxes': array([-2.08790101e-14, -1.32025403e-14,  2.73220885e-14, ...,\n",
       "          3.54880800e-15,  8.83777383e-15,  7.80171770e-15]),\n",
       "  'all_fluxes_err': array([1.83807327e-14, 1.66844453e-14, 1.45543805e-14, ...,\n",
       "         7.11146136e-15, 8.05753874e-15, 8.71445451e-15])},\n",
       " 'ronchi170lpmm_empty_HD2811_20210909_000618_quickLookExp_spectrum.fits': {'number': 618.0,\n",
       "  'targetx_pix': 335.862044515903,\n",
       "  'targety_pix': 2262.85774211679,\n",
       "  'rotangle': -1.055729911066671,\n",
       "  'd2ccd': 182.3405894302854,\n",
       "  'all_lambdas': array([ 301.05084751,  301.69378751,  302.33671703, ..., 1097.36882524,\n",
       "         1097.98132579, 1098.5937897 ]),\n",
       "  'all_fluxes': array([ 6.03310882e-15,  7.11943905e-15, -5.96866228e-15, ...,\n",
       "          7.42865561e-14,  6.49511513e-14,  6.05646713e-14]),\n",
       "  'all_fluxes_err': array([6.22396853e-14, 5.92153675e-14, 5.45552458e-14, ...,\n",
       "         6.02330217e-14, 6.20731623e-14, 6.31106949e-14])},\n",
       " 'ronchi170lpmm_empty_HD2811_20210909_000619_quickLookExp_spectrum.fits': {'number': 619.0,\n",
       "  'targetx_pix': 348.6924224490632,\n",
       "  'targety_pix': 2265.038225391668,\n",
       "  'rotangle': -1.054676191122336,\n",
       "  'd2ccd': 181.1998816185171,\n",
       "  'all_lambdas': array([ 301.05486872,  301.70185546,  302.34883159, ..., 1102.24003924,\n",
       "         1102.85609988, 1103.47212328]),\n",
       "  'all_fluxes': array([-3.22974550e-14, -1.26963648e-14,  3.10118951e-14, ...,\n",
       "          6.68494152e-16,  1.91893646e-15, -3.22190153e-15]),\n",
       "  'all_fluxes_err': array([3.26002630e-15, 3.25198647e-15, 3.24299268e-15, ...,\n",
       "         1.35404457e-15, 1.35430354e-15, 1.35406424e-15])},\n",
       " 'ronchi170lpmm_empty_HD2811_20210909_000620_quickLookExp_spectrum.fits': {'number': 620.0,\n",
       "  'targetx_pix': 342.0679618294924,\n",
       "  'targety_pix': 2265.501853711226,\n",
       "  'rotangle': -1.058730724830844,\n",
       "  'd2ccd': 182.1690599695971,\n",
       "  'all_lambdas': array([ 300.95458748,  301.59813483,  302.24167168, ..., 1098.61865148,\n",
       "         1099.23165363, 1099.84461904]),\n",
       "  'all_fluxes': array([-4.20473733e-14, -1.77022283e-14, -2.57918691e-14, ...,\n",
       "         -1.90235670e-14, -4.22052036e-14, -6.06914577e-14]),\n",
       "  'all_fluxes_err': array([1.06983796e-13, 1.03895582e-13, 9.88707685e-14, ...,\n",
       "         7.56533490e-14, 7.77907919e-14, 7.89757696e-14])},\n",
       " 'ronchi170lpmm_empty_HD2811_20210909_000621_quickLookExp_spectrum.fits': {'number': 621.0,\n",
       "  'targetx_pix': 341.1837068527016,\n",
       "  'targety_pix': 2262.636113228848,\n",
       "  'rotangle': -1.061149709728709,\n",
       "  'd2ccd': 182.1617631608435,\n",
       "  'all_lambdas': array([ 300.59368445,  301.23726399,  301.88083305, ..., 1098.30661861,\n",
       "         1098.91966463, 1099.53267391]),\n",
       "  'all_fluxes': array([-1.01957442e-13, -7.59775558e-14, -3.20321786e-14, ...,\n",
       "          5.77940595e-14,  7.41002566e-14,  6.28843962e-14]),\n",
       "  'all_fluxes_err': array([2.05230617e-13, 1.89084771e-13, 1.66537008e-13, ...,\n",
       "         1.53894981e-13, 1.65680356e-13, 1.72888419e-13])},\n",
       " 'ronchi170lpmm_empty_HD2811_20210909_000622_quickLookExp_spectrum.fits': {'number': 622.0,\n",
       "  'targetx_pix': 352.1206658820662,\n",
       "  'targety_pix': 2264.068997867024,\n",
       "  'rotangle': -1.043011136358906,\n",
       "  'd2ccd': 181.1300615518809,\n",
       "  'all_lambdas': array([ 300.58338111,  301.23062247,  301.87785322, ..., 1102.7041863 ,\n",
       "         1103.32045374, 1103.9366839 ]),\n",
       "  'all_fluxes': array([ 4.33030489e-15, -1.48374490e-14, -3.64733094e-15, ...,\n",
       "          7.46783459e-15,  3.89269283e-15,  5.34653144e-15]),\n",
       "  'all_fluxes_err': array([3.92474010e-15, 3.91366110e-15, 3.90029367e-15, ...,\n",
       "         1.36593874e-15, 1.36730203e-15, 1.36764283e-15])},\n",
       " 'ronchi170lpmm_empty_HD2811_20210909_000623_quickLookExp_spectrum.fits': {'number': 623.0,\n",
       "  'targetx_pix': 342.6899921215558,\n",
       "  'targety_pix': 2263.037632826324,\n",
       "  'rotangle': -1.055068594094107,\n",
       "  'd2ccd': 181.7674544127935,\n",
       "  'all_lambdas': array([ 300.8556784 ,  301.50064851,  302.14560808, ..., 1100.23550234,\n",
       "         1100.84976107, 1101.46398285]),\n",
       "  'all_fluxes': array([-1.41362140e-14, -4.46828104e-14, -3.28186412e-14, ...,\n",
       "         -3.20572071e-15, -2.87623285e-15, -2.89389748e-15]),\n",
       "  'all_fluxes_err': array([5.76678006e-14, 3.99263928e-14, 3.39136399e-14, ...,\n",
       "         1.88942625e-14, 2.60499780e-14, 3.37977641e-14])},\n",
       " 'ronchi170lpmm_empty_HD2811_20210909_000624_quickLookExp_spectrum.fits': {'number': 624.0,\n",
       "  'targetx_pix': 338.8801546844552,\n",
       "  'targety_pix': 2262.27129336108,\n",
       "  'rotangle': -1.048064106530696,\n",
       "  'd2ccd': 182.1667106977171,\n",
       "  'all_lambdas': array([ 301.70098753,  302.3445289 ,  302.98805974, ..., 1099.33724876,\n",
       "         1099.950214  , 1100.56314247]),\n",
       "  'all_fluxes': array([ 2.28620728e-14,  2.31890247e-14, -1.44751170e-14, ...,\n",
       "         -1.36608994e-14, -1.75578523e-14, -6.81286386e-15]),\n",
       "  'all_fluxes_err': array([3.78024106e-15, 3.76929209e-15, 3.75571451e-15, ...,\n",
       "         1.38120535e-15, 1.38277568e-15, 1.38323695e-15])},\n",
       " 'ronchi170lpmm_empty_HD2811_20210909_000625_quickLookExp_spectrum.fits': {'number': 625.0,\n",
       "  'targetx_pix': 351.8751642120084,\n",
       "  'targety_pix': 2259.984208968024,\n",
       "  'rotangle': -1.056357048454245,\n",
       "  'd2ccd': 181.7853014652892,\n",
       "  'all_lambdas': array([ 300.67499171,  301.31990135,  301.96480046, ..., 1099.98642781,\n",
       "         1100.6006401 , 1101.21481546]),\n",
       "  'all_fluxes': array([-1.23819625e-14, -7.26666821e-15, -1.69812213e-14, ...,\n",
       "          1.10265370e-15,  5.76199636e-16, -6.16358868e-15]),\n",
       "  'all_fluxes_err': array([4.08999880e-15, 4.07719574e-15, 4.06077870e-15, ...,\n",
       "         1.42147117e-15, 1.42357549e-15, 1.42427536e-15])},\n",
       " 'ronchi170lpmm_empty_HD2811_20210909_000626_quickLookExp_spectrum.fits': {'number': 626.0,\n",
       "  'targetx_pix': 347.9373646220878,\n",
       "  'targety_pix': 2263.599090631252,\n",
       "  'rotangle': -1.048036648952322,\n",
       "  'd2ccd': 181.1906336310488,\n",
       "  'all_lambdas': array([ 300.78274264,  301.42976556,  302.07677788, ..., 1102.01919666,\n",
       "         1102.63530107, 1103.25136824]),\n",
       "  'all_fluxes': array([-4.38756706e-14, -3.89161843e-14, -8.34223031e-15, ...,\n",
       "         -9.00771822e-14,  4.71601294e-14,  1.63695203e-14]),\n",
       "  'all_fluxes_err': array([4.29626726e-15, 4.28341553e-15, 4.26724332e-15, ...,\n",
       "         2.67311575e-15, 2.67641027e-15, 2.67737636e-15])},\n",
       " 'ronchi170lpmm_empty_HD2811_20210909_000628_quickLookExp_spectrum.fits': {'number': 628.0,\n",
       "  'targetx_pix': 345.7751411474702,\n",
       "  'targety_pix': 2261.533743428648,\n",
       "  'rotangle': -1.055397264255052,\n",
       "  'd2ccd': 182.0771477831799,\n",
       "  'all_lambdas': array([ 301.04131963,  301.6851896 ,  302.32904905, ..., 1099.09117393,\n",
       "         1099.70445601, 1100.3177013 ]),\n",
       "  'all_fluxes': array([ 3.59531921e-17, -1.11458951e-14,  3.99821157e-15, ...,\n",
       "         -5.57362275e-15, -9.94009218e-15, -9.67680773e-15]),\n",
       "  'all_fluxes_err': array([3.23586030e-15, 3.22738699e-15, 3.21752414e-15, ...,\n",
       "         1.22381276e-15, 1.22440342e-15, 1.22437653e-15])},\n",
       " 'ronchi170lpmm_empty_HD2811_20210909_000629_quickLookExp_spectrum.fits': {'number': 629.0,\n",
       "  'targetx_pix': 341.063293671352,\n",
       "  'targety_pix': 2262.402781816836,\n",
       "  'rotangle': -1.059577839020432,\n",
       "  'd2ccd': 182.1708087425338,\n",
       "  'all_lambdas': array([ 300.83917303,  301.48271632,  302.12624911, ..., 1098.50166033,\n",
       "         1099.114664  , 1099.72763092]),\n",
       "  'all_fluxes': array([ 9.24521447e-15, -8.63398031e-15, -1.09074044e-14, ...,\n",
       "          8.21416981e-16,  1.31968670e-15, -1.96946671e-15]),\n",
       "  'all_fluxes_err': array([3.96075678e-15, 3.94933723e-15, 3.93530188e-15, ...,\n",
       "         1.39916127e-15, 1.40060134e-15, 1.40096216e-15])}}"
      ]
     },
     "execution_count": 68,
     "metadata": {},
     "output_type": "execute_result"
    }
   ],
   "source": [
    "content"
   ]
  },
  {
   "cell_type": "code",
   "execution_count": 69,
   "metadata": {},
   "outputs": [],
   "source": [
    "NN=len(content)"
   ]
  },
  {
   "cell_type": "markdown",
   "metadata": {},
   "source": [
    "# Number"
   ]
  },
  {
   "cell_type": "code",
   "execution_count": 70,
   "metadata": {},
   "outputs": [],
   "source": [
    "all_number=[]\n",
    "for key, value in content.items():\n",
    "    all_number.append(value[\"number\"])\n",
    "all_number=np.array(all_number)"
   ]
  },
  {
   "cell_type": "markdown",
   "metadata": {},
   "source": [
    "# Angles"
   ]
  },
  {
   "cell_type": "code",
   "execution_count": 71,
   "metadata": {},
   "outputs": [],
   "source": [
    "all_angles=[]\n",
    "for key, value in content.items():\n",
    "    all_angles.append(value[\"rotangle\"])"
   ]
  },
  {
   "cell_type": "code",
   "execution_count": 72,
   "metadata": {},
   "outputs": [],
   "source": [
    "all_angles=np.array(all_angles)"
   ]
  },
  {
   "cell_type": "code",
   "execution_count": 73,
   "metadata": {},
   "outputs": [
    {
     "data": {
      "image/png": "[encoded data removed]",
      "text/plain": [
       "<Figure size 1152x288 with 1 Axes>"
      ]
     },
     "metadata": {
      "needs_background": "light"
     },
     "output_type": "display_data"
    }
   ],
   "source": [
    "plt.hist(all_angles,bins=20);"
   ]
  },
  {
   "cell_type": "code",
   "execution_count": 74,
   "metadata": {},
   "outputs": [
    {
     "data": {
      "text/plain": [
       "-1.0514037218784937"
      ]
     },
     "execution_count": 74,
     "metadata": {},
     "output_type": "execute_result"
    }
   ],
   "source": [
    "all_angles.mean()"
   ]
  },
  {
   "cell_type": "code",
   "execution_count": 75,
   "metadata": {},
   "outputs": [
    {
     "data": {
      "text/plain": [
       "-1.052683585393292"
      ]
     },
     "execution_count": 75,
     "metadata": {},
     "output_type": "execute_result"
    }
   ],
   "source": [
    "np.median(all_angles)"
   ]
  },
  {
   "cell_type": "code",
   "execution_count": 76,
   "metadata": {},
   "outputs": [
    {
     "data": {
      "text/plain": [
       "0.007078925836118255"
      ]
     },
     "execution_count": 76,
     "metadata": {},
     "output_type": "execute_result"
    }
   ],
   "source": [
    "all_angles.std()"
   ]
  },
  {
   "cell_type": "markdown",
   "metadata": {},
   "source": [
    "# Position"
   ]
  },
  {
   "cell_type": "code",
   "execution_count": 77,
   "metadata": {},
   "outputs": [],
   "source": [
    "def plotScanPosition(X,Y,tag,xlims=(0,4000),ylims=(0,4000),flag_annotate=True,figsize=(8,8),title=\"\"):\n",
    "    \"\"\"\n",
    "    \"\"\"\n",
    "    \n",
    "    NN=len(X)\n",
    "    \n",
    "    # wavelength bin colors\n",
    "    jet = plt.get_cmap('jet')\n",
    "    cNorm = colors.Normalize(vmin=0, vmax=NN)\n",
    "    scalarMap = cmx.ScalarMappable(norm=cNorm, cmap=jet)\n",
    "    all_colors = scalarMap.to_rgba(np.arange(NN), alpha=1)\n",
    "    \n",
    "    \n",
    "    \n",
    "    plt.figure(figsize=figsize)\n",
    "    \n",
    "    sc = plt.scatter(X, Y, s=200, c=all_colors, cmap=\"seismic\")\n",
    "    #cb=plt.colorbar(sc)\n",
    "    #cb.ax.set_ylabel('rotation angle (deg)')\n",
    "\n",
    "    \n",
    "    if flag_annotate:\n",
    "        K=len(tag)\n",
    "        for idx in range(K):\n",
    "            plt.annotate(tag[idx],xy=(X[idx],Y[idx]), color=\"k\", ha='center',va='top',fontsize=15)\n",
    "            #plt.annotate(tag[idx],xy=(X[idx],Y[idx]), color=\"k\",fontsize=10)\n",
    "            #plt.text(X[idx],Y[idx],tag[idx],  horizontalalignment='center',verticalalignment='top',color=\"k\",fontsize=10)\n",
    "        \n",
    "    \n",
    "    plt.xlim(xlims)  \n",
    "    plt.ylim(ylims)  \n",
    "    \n",
    "    \n",
    "    plt.xlabel(\"X (pix)\")\n",
    "    plt.ylabel(\"Y (pix)\")\n",
    "    plt.grid()\n",
    "    axes=plt.gca()\n",
    "    axes.set_aspect('equal')\n",
    "    \n",
    "    plt.title(title)\n",
    "    plt.tight_layout()\n",
    "    \n",
    "    plt.show()\n",
    "            "
   ]
  },
  {
   "cell_type": "code",
   "execution_count": 78,
   "metadata": {},
   "outputs": [],
   "source": [
    "all_xpix=[]\n",
    "for key, value in content.items():\n",
    "    all_xpix.append(value[\"targetx_pix\"])\n",
    "all_xpix=np.array(all_xpix)"
   ]
  },
  {
   "cell_type": "code",
   "execution_count": 79,
   "metadata": {},
   "outputs": [],
   "source": [
    "all_ypix=[]\n",
    "for key, value in content.items():\n",
    "    all_ypix.append(value[\"targety_pix\"])\n",
    "all_ypix=np.array(all_ypix)"
   ]
  },
  {
   "cell_type": "code",
   "execution_count": 80,
   "metadata": {},
   "outputs": [],
   "source": [
    "# wavelength bin colors\n",
    "jet = plt.get_cmap('jet')\n",
    "cNorm = colors.Normalize(vmin=0, vmax=NN)\n",
    "scalarMap = cmx.ScalarMappable(norm=cNorm, cmap=jet)\n",
    "all_colors = scalarMap.to_rgba(np.arange(NN), alpha=1)"
   ]
  },
  {
   "cell_type": "code",
   "execution_count": 90,
   "metadata": {},
   "outputs": [
    {
     "data": {
      "image/png": "[encoded data removed]",
      "text/plain": [
       "<Figure size 576x576 with 1 Axes>"
      ]
     },
     "metadata": {
      "needs_background": "light"
     },
     "output_type": "display_data"
    }
   ],
   "source": [
    "plotScanPosition(all_xpix,all_ypix,all_number,xlims=(330,360),ylims=(2250,2280),title=\"Ronchi : order 0 position\")"
   ]
  },
  {
   "cell_type": "code",
   "execution_count": null,
   "metadata": {},
   "outputs": [],
   "source": []
  }
 ],
 "metadata": {
  "kernelspec": {
   "display_name": "Python 3",
   "language": "python",
   "name": "python3"
  },
  "language_info": {
   "codemirror_mode": {
    "name": "ipython",
    "version": 3
   },
   "file_extension": ".py",
   "mimetype": "text/x-python",
   "name": "python",
   "nbconvert_exporter": "python",
   "pygments_lexer": "ipython3",
   "version": "3.8.8"
  },
  "toc": {
   "base_numbering": 1,
   "nav_menu": {},
   "number_sections": true,
   "sideBar": true,
   "skip_h1_title": false,
   "title_cell": "Table of Contents",
   "title_sidebar": "Contents",
   "toc_cell": false,
   "toc_position": {},
   "toc_section_display": true,
   "toc_window_display": false
  }
 },
 "nbformat": 4,
 "nbformat_minor": 4
}
