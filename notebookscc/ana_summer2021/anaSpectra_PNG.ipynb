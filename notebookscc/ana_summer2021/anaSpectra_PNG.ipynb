{
 "cells": [
  {
   "cell_type": "markdown",
   "metadata": {},
   "source": [
    "#  spectra at AuxTel for Planetary Nebula"
   ]
  },
  {
   "cell_type": "markdown",
   "metadata": {},
   "source": [
    "- author : Sylvie Dagoret-Campagne\n",
    "- affiliation : IJCLab/IN2P3/CNES, DESC-LSST fullmember, behalf AuxTel Teal VERA C. Rubin observatory\n",
    "- creation date : September 22th  2021\n",
    "\n",
    "\n",
    "\n",
    "- **kernel anaconda3_auxtel**"
   ]
  },
  {
   "cell_type": "markdown",
   "metadata": {},
   "source": [
    "# Imports"
   ]
  },
  {
   "cell_type": "code",
   "execution_count": 14,
   "metadata": {},
   "outputs": [],
   "source": [
    "import numpy as np\n",
    "import matplotlib.pyplot as plt\n",
    "%matplotlib inline\n",
    "from mpl_toolkits.axes_grid1 import make_axes_locatable\n",
    "from matplotlib.colors import LogNorm\n",
    "import pandas as pd\n",
    "\n",
    "import matplotlib.ticker                         # here's where the formatter is\n",
    "import os\n",
    "import re\n",
    "import pandas as pd\n",
    "\n",
    "plt.rcParams[\"figure.figsize\"] = (16,4)\n",
    "plt.rcParams[\"axes.labelsize\"] = 'xx-large'\n",
    "plt.rcParams['axes.titlesize'] = 'xx-large'\n",
    "plt.rcParams['xtick.labelsize']= 'xx-large'\n",
    "plt.rcParams['ytick.labelsize']= 'xx-large'"
   ]
  },
  {
   "cell_type": "code",
   "execution_count": 15,
   "metadata": {},
   "outputs": [
    {
     "data": {
      "image/png": "[encoded data removed]",
      "text/plain": [
       "<Figure size 360x360 with 1 Axes>"
      ]
     },
     "metadata": {
      "needs_background": "light"
     },
     "output_type": "display_data"
    }
   ],
   "source": [
    "fig=plt.figure(figsize=(5,5))\n",
    "ax=fig.add_subplot(1,1,1)\n",
    "X=np.linspace(-10,10,50)\n",
    "Y=np.sin(X)\n",
    "ax.plot(X,Y)\n",
    "plt.show()               "
   ]
  },
  {
   "cell_type": "code",
   "execution_count": 16,
   "metadata": {},
   "outputs": [],
   "source": [
    "import matplotlib.offsetbox\n",
    "props = dict(boxstyle='round',edgecolor=\"w\",facecolor=\"w\", alpha=0.5)"
   ]
  },
  {
   "cell_type": "code",
   "execution_count": 17,
   "metadata": {},
   "outputs": [],
   "source": [
    "from datetime import datetime,date"
   ]
  },
  {
   "cell_type": "code",
   "execution_count": 18,
   "metadata": {},
   "outputs": [],
   "source": [
    "today = date.today()\n",
    "string_date=today.strftime(\"%Y-%m-%d\")"
   ]
  },
  {
   "cell_type": "code",
   "execution_count": 19,
   "metadata": {},
   "outputs": [
    {
     "data": {
      "text/plain": [
       "'2021-09-23'"
      ]
     },
     "execution_count": 19,
     "metadata": {},
     "output_type": "execute_result"
    }
   ],
   "source": [
    "string_date"
   ]
  },
  {
   "cell_type": "code",
   "execution_count": 20,
   "metadata": {},
   "outputs": [],
   "source": [
    "from iminuit import Minuit\n",
    "import iminuit"
   ]
  },
  {
   "cell_type": "code",
   "execution_count": 21,
   "metadata": {},
   "outputs": [
    {
     "data": {
      "text/plain": [
       "'2.7.0'"
      ]
     },
     "execution_count": 21,
     "metadata": {},
     "output_type": "execute_result"
    }
   ],
   "source": [
    "iminuit.__version__"
   ]
  },
  {
   "cell_type": "code",
   "execution_count": 95,
   "metadata": {},
   "outputs": [],
   "source": [
    "from astropy.io import fits\n",
    "from spectractor import parameters\n",
    "from spectractor.extractor.extractor import Spectractor\n",
    "from spectractor.extractor.spectrum import Spectrum, detect_lines\n",
    "from spectractor.extractor.spectrum import *\n",
    "#from spectractor.extractor.spectroscopy import Lines, Line ,HALPHA, HBETA, O2_1, H2O_1,H2O_2\n",
    "from spectractor.extractor.spectroscopy import Lines, Line ,HALPHA, HBETA, O2_1, H2O_1, ATMOSPHERIC_LINES\n",
    "from spectractor.config import load_config\n",
    "from spectractor import parameters\n",
    "from spectractor.extractor.images import *\n",
    "from scipy import ndimage, misc\n",
    "from scipy.interpolate import interp1d"
   ]
  },
  {
   "cell_type": "code",
   "execution_count": 23,
   "metadata": {},
   "outputs": [],
   "source": [
    "H2O_2 = Line(960, atmospheric=True, label=r'$H_2 O$', label_pos=[0.007, 0.02],width_bounds=[5, 30])  # libradtran paper fig.3, broad line"
   ]
  },
  {
   "cell_type": "code",
   "execution_count": 24,
   "metadata": {},
   "outputs": [],
   "source": [
    "import requests\n",
    "from requests.adapters import HTTPAdapter\n",
    "from requests.packages.urllib3.util.retry import Retry"
   ]
  },
  {
   "cell_type": "code",
   "execution_count": 25,
   "metadata": {},
   "outputs": [],
   "source": [
    "from time import sleep"
   ]
  },
  {
   "cell_type": "code",
   "execution_count": 26,
   "metadata": {},
   "outputs": [],
   "source": [
    "from astropy.time import Time\n",
    "import astropy.units as u"
   ]
  },
  {
   "cell_type": "markdown",
   "metadata": {},
   "source": [
    "# Function"
   ]
  },
  {
   "cell_type": "code",
   "execution_count": 27,
   "metadata": {},
   "outputs": [],
   "source": [
    "def file_target(filename):\n",
    "    m=re.findall('^holo4_003_.*_(.*)_[0-9][0-9][0-9][0-9]-[0-9][0-9]-[0-9][0-9]_.*_quickLoopExp[.]fits$',filename)\n",
    "    if len(m)>0:\n",
    "        return m\n",
    "    elif re.search('NGC4755',filename):\n",
    "        return ['NGC4755']\n",
    "    else:\n",
    "        return []"
   ]
  },
  {
   "cell_type": "markdown",
   "metadata": {},
   "source": [
    "# Path"
   ]
  },
  {
   "cell_type": "code",
   "execution_count": 28,
   "metadata": {},
   "outputs": [],
   "source": [
    "HOSTCC=False"
   ]
  },
  {
   "cell_type": "code",
   "execution_count": 29,
   "metadata": {},
   "outputs": [],
   "source": [
    "if HOSTCC:\n",
    "    path_auxtel=\"/sps/lsst/groups/auxtel\"\n",
    "    path_spectractor=os.path.join(path_auxtel,\"softs/github/desc/Spectractor\")\n",
    "    path_spectractor_config=os.path.join(path_spectractor,\"config\")\n",
    "    #path_images=os.path.join(path_auxtel,\"data/2021/holo/localreduced/2021-07-06\")\n",
    "    path_images=os.path.join(path_auxtel,\"data/2021/holo/quickLookExp/2021-09-09\")\n",
    "else:\n",
    "    path_auxtel=\"/Users/dagoret/DATA/AuxTelData2021\"\n",
    "    path_spectractor=os.path.join(path_auxtel,\"/users/dagoret/softs/github/lsst/Spectractor\")\n",
    "    path_spectractor_config=os.path.join(path_spectractor,\"config\")\n",
    "    #path_images=os.path.join(path_auxtel,\"data/2021/holo/localreduced/2021-07-06\")\n",
    "    path_images=os.path.join(path_auxtel,\"holo/quickLookExp/2021-09-09\")"
   ]
  },
  {
   "cell_type": "code",
   "execution_count": 30,
   "metadata": {},
   "outputs": [],
   "source": [
    "#config = os.path.join(path_spectractor_config,\"auxtel_quicklook.ini\")\n",
    "\n",
    "# standard configuration\n",
    "# config = os.path.join(path_spectractor_config,\"auxtel.ini\")\n",
    "# special for scan in XY (dispersion rotation angle)\n",
    "config=\"./config/auxtel_PNG.ini\""
   ]
  },
  {
   "cell_type": "markdown",
   "metadata": {},
   "source": [
    "# Logbook for file selection"
   ]
  },
  {
   "cell_type": "code",
   "execution_count": 31,
   "metadata": {},
   "outputs": [
    {
     "name": "stdout",
     "output_type": "stream",
     "text": [
      "auxtelholologbook_2021_07_06_v2.0.csv\r\n",
      "auxtelholologbook_2021_07_06_v2.0.xlsx\r\n",
      "auxtelholologbook_2021_07_07_v3.0.csv\r\n",
      "auxtelholologbook_2021_07_07_v3.0.xlsx\r\n",
      "auxtelholologbook_PNG_2021_09_09_v2.0.csv\r\n",
      "auxtelholologbook_PNG_2021_09_09_v2.0.xlsx\r\n"
     ]
    }
   ],
   "source": [
    "! ls logbooks"
   ]
  },
  {
   "cell_type": "code",
   "execution_count": 32,
   "metadata": {},
   "outputs": [],
   "source": [
    "filename_logbook='logbooks/auxtelholologbook_PNG_2021_09_09_v2.0.csv'"
   ]
  },
  {
   "cell_type": "code",
   "execution_count": 33,
   "metadata": {},
   "outputs": [],
   "source": [
    "df=pd.read_csv(filename_logbook,index_col=0)"
   ]
  },
  {
   "cell_type": "code",
   "execution_count": 34,
   "metadata": {},
   "outputs": [],
   "source": [
    "pd.set_option('display.max_rows', None)"
   ]
  },
  {
   "cell_type": "code",
   "execution_count": 35,
   "metadata": {},
   "outputs": [
    {
     "data": {
      "text/html": [
       "<div>\n",
       "<style scoped>\n",
       "    .dataframe tbody tr th:only-of-type {\n",
       "        vertical-align: middle;\n",
       "    }\n",
       "\n",
       "    .dataframe tbody tr th {\n",
       "        vertical-align: top;\n",
       "    }\n",
       "\n",
       "    .dataframe thead th {\n",
       "        text-align: right;\n",
       "    }\n",
       "</style>\n",
       "<table border=\"1\" class=\"dataframe\">\n",
       "  <thead>\n",
       "    <tr style=\"text-align: right;\">\n",
       "      <th></th>\n",
       "      <th>index</th>\n",
       "      <th>date</th>\n",
       "      <th>path</th>\n",
       "      <th>file</th>\n",
       "      <th>num</th>\n",
       "      <th>object</th>\n",
       "      <th>filter</th>\n",
       "      <th>disperser</th>\n",
       "      <th>airmass</th>\n",
       "      <th>exposure</th>\n",
       "      <th>...</th>\n",
       "      <th>temperature</th>\n",
       "      <th>humidity</th>\n",
       "      <th>windspd</th>\n",
       "      <th>Obj-posXpix</th>\n",
       "      <th>Obj-posYpix</th>\n",
       "      <th>Dx</th>\n",
       "      <th>Dy</th>\n",
       "      <th>skip</th>\n",
       "      <th>run</th>\n",
       "      <th>quality</th>\n",
       "    </tr>\n",
       "  </thead>\n",
       "  <tbody>\n",
       "    <tr>\n",
       "      <th>0</th>\n",
       "      <td>0</td>\n",
       "      <td>2021-09-09T23:53:55.100</td>\n",
       "      <td>/Users/dagoret/DATA/AuxTelData2021/holo/quickL...</td>\n",
       "      <td>holo4_003_empty_PNG321.0+03.9_20210909_000165_...</td>\n",
       "      <td>165</td>\n",
       "      <td>PNG321.0+03.9</td>\n",
       "      <td>empty_1</td>\n",
       "      <td>holo4_003</td>\n",
       "      <td>1.380357</td>\n",
       "      <td>10.0</td>\n",
       "      <td>...</td>\n",
       "      <td>9.2</td>\n",
       "      <td>16.0</td>\n",
       "      <td>4.0</td>\n",
       "      <td>300.0</td>\n",
       "      <td>1750.0</td>\n",
       "      <td>NaN</td>\n",
       "      <td>NaN</td>\n",
       "      <td></td>\n",
       "      <td>1.0</td>\n",
       "      <td>1.0</td>\n",
       "    </tr>\n",
       "    <tr>\n",
       "      <th>1</th>\n",
       "      <td>1</td>\n",
       "      <td>2021-09-09T23:54:18.095</td>\n",
       "      <td>/Users/dagoret/DATA/AuxTelData2021/holo/quickL...</td>\n",
       "      <td>holo4_003_empty_PNG321.0+03.9_20210909_000166_...</td>\n",
       "      <td>166</td>\n",
       "      <td>PNG321.0+03.9</td>\n",
       "      <td>empty_1</td>\n",
       "      <td>holo4_003</td>\n",
       "      <td>1.381613</td>\n",
       "      <td>10.0</td>\n",
       "      <td>...</td>\n",
       "      <td>9.1</td>\n",
       "      <td>16.0</td>\n",
       "      <td>3.6</td>\n",
       "      <td>300.0</td>\n",
       "      <td>1750.0</td>\n",
       "      <td>NaN</td>\n",
       "      <td>NaN</td>\n",
       "      <td></td>\n",
       "      <td>1.0</td>\n",
       "      <td>1.0</td>\n",
       "    </tr>\n",
       "    <tr>\n",
       "      <th>2</th>\n",
       "      <td>2</td>\n",
       "      <td>2021-09-09T23:54:41.122</td>\n",
       "      <td>/Users/dagoret/DATA/AuxTelData2021/holo/quickL...</td>\n",
       "      <td>holo4_003_empty_PNG321.0+03.9_20210909_000167_...</td>\n",
       "      <td>167</td>\n",
       "      <td>PNG321.0+03.9</td>\n",
       "      <td>empty_1</td>\n",
       "      <td>holo4_003</td>\n",
       "      <td>1.382874</td>\n",
       "      <td>10.0</td>\n",
       "      <td>...</td>\n",
       "      <td>9.1</td>\n",
       "      <td>16.0</td>\n",
       "      <td>3.6</td>\n",
       "      <td>300.0</td>\n",
       "      <td>1750.0</td>\n",
       "      <td>NaN</td>\n",
       "      <td>NaN</td>\n",
       "      <td></td>\n",
       "      <td>1.0</td>\n",
       "      <td>1.0</td>\n",
       "    </tr>\n",
       "    <tr>\n",
       "      <th>3</th>\n",
       "      <td>3</td>\n",
       "      <td>2021-09-09T23:55:04.180</td>\n",
       "      <td>/Users/dagoret/DATA/AuxTelData2021/holo/quickL...</td>\n",
       "      <td>holo4_003_empty_PNG321.0+03.9_20210909_000168_...</td>\n",
       "      <td>168</td>\n",
       "      <td>PNG321.0+03.9</td>\n",
       "      <td>empty_1</td>\n",
       "      <td>holo4_003</td>\n",
       "      <td>1.384148</td>\n",
       "      <td>30.0</td>\n",
       "      <td>...</td>\n",
       "      <td>9.1</td>\n",
       "      <td>16.0</td>\n",
       "      <td>3.6</td>\n",
       "      <td>300.0</td>\n",
       "      <td>1750.0</td>\n",
       "      <td>NaN</td>\n",
       "      <td>NaN</td>\n",
       "      <td></td>\n",
       "      <td>1.0</td>\n",
       "      <td>1.0</td>\n",
       "    </tr>\n",
       "    <tr>\n",
       "      <th>4</th>\n",
       "      <td>4</td>\n",
       "      <td>2021-09-09T23:55:47.196</td>\n",
       "      <td>/Users/dagoret/DATA/AuxTelData2021/holo/quickL...</td>\n",
       "      <td>holo4_003_empty_PNG321.0+03.9_20210909_000169_...</td>\n",
       "      <td>169</td>\n",
       "      <td>PNG321.0+03.9</td>\n",
       "      <td>empty_1</td>\n",
       "      <td>holo4_003</td>\n",
       "      <td>1.386523</td>\n",
       "      <td>30.0</td>\n",
       "      <td>...</td>\n",
       "      <td>9.0</td>\n",
       "      <td>17.0</td>\n",
       "      <td>3.1</td>\n",
       "      <td>300.0</td>\n",
       "      <td>1750.0</td>\n",
       "      <td>NaN</td>\n",
       "      <td>NaN</td>\n",
       "      <td></td>\n",
       "      <td>1.0</td>\n",
       "      <td>1.0</td>\n",
       "    </tr>\n",
       "    <tr>\n",
       "      <th>5</th>\n",
       "      <td>5</td>\n",
       "      <td>2021-09-09T23:56:30.224</td>\n",
       "      <td>/Users/dagoret/DATA/AuxTelData2021/holo/quickL...</td>\n",
       "      <td>holo4_003_empty_PNG321.0+03.9_20210909_000170_...</td>\n",
       "      <td>170</td>\n",
       "      <td>PNG321.0+03.9</td>\n",
       "      <td>empty_1</td>\n",
       "      <td>holo4_003</td>\n",
       "      <td>1.388908</td>\n",
       "      <td>30.0</td>\n",
       "      <td>...</td>\n",
       "      <td>9.0</td>\n",
       "      <td>16.0</td>\n",
       "      <td>3.9</td>\n",
       "      <td>300.0</td>\n",
       "      <td>1750.0</td>\n",
       "      <td>NaN</td>\n",
       "      <td>NaN</td>\n",
       "      <td></td>\n",
       "      <td>1.0</td>\n",
       "      <td>1.0</td>\n",
       "    </tr>\n",
       "    <tr>\n",
       "      <th>6</th>\n",
       "      <td>6</td>\n",
       "      <td>2021-09-09T23:57:13.142</td>\n",
       "      <td>/Users/dagoret/DATA/AuxTelData2021/holo/quickL...</td>\n",
       "      <td>holo4_003_empty_PNG321.0+03.9_20210909_000171_...</td>\n",
       "      <td>171</td>\n",
       "      <td>PNG321.0+03.9</td>\n",
       "      <td>empty_1</td>\n",
       "      <td>holo4_003</td>\n",
       "      <td>1.391300</td>\n",
       "      <td>60.0</td>\n",
       "      <td>...</td>\n",
       "      <td>9.0</td>\n",
       "      <td>16.0</td>\n",
       "      <td>3.9</td>\n",
       "      <td>300.0</td>\n",
       "      <td>1750.0</td>\n",
       "      <td>NaN</td>\n",
       "      <td>NaN</td>\n",
       "      <td></td>\n",
       "      <td>1.0</td>\n",
       "      <td>1.0</td>\n",
       "    </tr>\n",
       "    <tr>\n",
       "      <th>7</th>\n",
       "      <td>7</td>\n",
       "      <td>2021-09-10T00:04:18.230</td>\n",
       "      <td>/Users/dagoret/DATA/AuxTelData2021/holo/quickL...</td>\n",
       "      <td>holo4_003_empty_PNG321.0+03.9_20210909_000174_...</td>\n",
       "      <td>174</td>\n",
       "      <td>PNG321.0+03.9</td>\n",
       "      <td>empty_1</td>\n",
       "      <td>holo4_003</td>\n",
       "      <td>1.415803</td>\n",
       "      <td>0.0</td>\n",
       "      <td>...</td>\n",
       "      <td>8.9</td>\n",
       "      <td>15.0</td>\n",
       "      <td>3.7</td>\n",
       "      <td>300.0</td>\n",
       "      <td>1750.0</td>\n",
       "      <td>NaN</td>\n",
       "      <td>NaN</td>\n",
       "      <td></td>\n",
       "      <td>1.0</td>\n",
       "      <td>1.0</td>\n",
       "    </tr>\n",
       "    <tr>\n",
       "      <th>8</th>\n",
       "      <td>8</td>\n",
       "      <td>2021-09-10T00:06:01.239</td>\n",
       "      <td>/Users/dagoret/DATA/AuxTelData2021/holo/quickL...</td>\n",
       "      <td>holo4_003_empty_PNG321.0+03.9_20210909_000175_...</td>\n",
       "      <td>175</td>\n",
       "      <td>PNG321.0+03.9</td>\n",
       "      <td>empty_1</td>\n",
       "      <td>holo4_003</td>\n",
       "      <td>1.421962</td>\n",
       "      <td>60.0</td>\n",
       "      <td>...</td>\n",
       "      <td>8.9</td>\n",
       "      <td>15.0</td>\n",
       "      <td>3.8</td>\n",
       "      <td>300.0</td>\n",
       "      <td>1750.0</td>\n",
       "      <td>NaN</td>\n",
       "      <td>NaN</td>\n",
       "      <td></td>\n",
       "      <td>1.0</td>\n",
       "      <td>1.0</td>\n",
       "    </tr>\n",
       "    <tr>\n",
       "      <th>9</th>\n",
       "      <td>9</td>\n",
       "      <td>2021-09-10T00:07:14.156</td>\n",
       "      <td>/Users/dagoret/DATA/AuxTelData2021/holo/quickL...</td>\n",
       "      <td>holo4_003_empty_PNG321.0+03.9_20210909_000176_...</td>\n",
       "      <td>176</td>\n",
       "      <td>PNG321.0+03.9</td>\n",
       "      <td>empty_1</td>\n",
       "      <td>holo4_003</td>\n",
       "      <td>1.426365</td>\n",
       "      <td>60.0</td>\n",
       "      <td>...</td>\n",
       "      <td>8.9</td>\n",
       "      <td>15.0</td>\n",
       "      <td>4.4</td>\n",
       "      <td>300.0</td>\n",
       "      <td>1750.0</td>\n",
       "      <td>NaN</td>\n",
       "      <td>NaN</td>\n",
       "      <td></td>\n",
       "      <td>1.0</td>\n",
       "      <td>1.0</td>\n",
       "    </tr>\n",
       "    <tr>\n",
       "      <th>10</th>\n",
       "      <td>10</td>\n",
       "      <td>2021-09-10T00:08:27.395</td>\n",
       "      <td>/Users/dagoret/DATA/AuxTelData2021/holo/quickL...</td>\n",
       "      <td>holo4_003_empty_PNG321.0+03.9_20210909_000177_...</td>\n",
       "      <td>177</td>\n",
       "      <td>PNG321.0+03.9</td>\n",
       "      <td>empty_1</td>\n",
       "      <td>holo4_003</td>\n",
       "      <td>1.430840</td>\n",
       "      <td>60.0</td>\n",
       "      <td>...</td>\n",
       "      <td>8.9</td>\n",
       "      <td>15.0</td>\n",
       "      <td>4.6</td>\n",
       "      <td>300.0</td>\n",
       "      <td>1750.0</td>\n",
       "      <td>NaN</td>\n",
       "      <td>NaN</td>\n",
       "      <td></td>\n",
       "      <td>1.0</td>\n",
       "      <td>1.0</td>\n",
       "    </tr>\n",
       "  </tbody>\n",
       "</table>\n",
       "<p>11 rows × 23 columns</p>\n",
       "</div>"
      ],
      "text/plain": [
       "    index                     date  \\\n",
       "0       0  2021-09-09T23:53:55.100   \n",
       "1       1  2021-09-09T23:54:18.095   \n",
       "2       2  2021-09-09T23:54:41.122   \n",
       "3       3  2021-09-09T23:55:04.180   \n",
       "4       4  2021-09-09T23:55:47.196   \n",
       "5       5  2021-09-09T23:56:30.224   \n",
       "6       6  2021-09-09T23:57:13.142   \n",
       "7       7  2021-09-10T00:04:18.230   \n",
       "8       8  2021-09-10T00:06:01.239   \n",
       "9       9  2021-09-10T00:07:14.156   \n",
       "10     10  2021-09-10T00:08:27.395   \n",
       "\n",
       "                                                 path  \\\n",
       "0   /Users/dagoret/DATA/AuxTelData2021/holo/quickL...   \n",
       "1   /Users/dagoret/DATA/AuxTelData2021/holo/quickL...   \n",
       "2   /Users/dagoret/DATA/AuxTelData2021/holo/quickL...   \n",
       "3   /Users/dagoret/DATA/AuxTelData2021/holo/quickL...   \n",
       "4   /Users/dagoret/DATA/AuxTelData2021/holo/quickL...   \n",
       "5   /Users/dagoret/DATA/AuxTelData2021/holo/quickL...   \n",
       "6   /Users/dagoret/DATA/AuxTelData2021/holo/quickL...   \n",
       "7   /Users/dagoret/DATA/AuxTelData2021/holo/quickL...   \n",
       "8   /Users/dagoret/DATA/AuxTelData2021/holo/quickL...   \n",
       "9   /Users/dagoret/DATA/AuxTelData2021/holo/quickL...   \n",
       "10  /Users/dagoret/DATA/AuxTelData2021/holo/quickL...   \n",
       "\n",
       "                                                 file  num         object  \\\n",
       "0   holo4_003_empty_PNG321.0+03.9_20210909_000165_...  165  PNG321.0+03.9   \n",
       "1   holo4_003_empty_PNG321.0+03.9_20210909_000166_...  166  PNG321.0+03.9   \n",
       "2   holo4_003_empty_PNG321.0+03.9_20210909_000167_...  167  PNG321.0+03.9   \n",
       "3   holo4_003_empty_PNG321.0+03.9_20210909_000168_...  168  PNG321.0+03.9   \n",
       "4   holo4_003_empty_PNG321.0+03.9_20210909_000169_...  169  PNG321.0+03.9   \n",
       "5   holo4_003_empty_PNG321.0+03.9_20210909_000170_...  170  PNG321.0+03.9   \n",
       "6   holo4_003_empty_PNG321.0+03.9_20210909_000171_...  171  PNG321.0+03.9   \n",
       "7   holo4_003_empty_PNG321.0+03.9_20210909_000174_...  174  PNG321.0+03.9   \n",
       "8   holo4_003_empty_PNG321.0+03.9_20210909_000175_...  175  PNG321.0+03.9   \n",
       "9   holo4_003_empty_PNG321.0+03.9_20210909_000176_...  176  PNG321.0+03.9   \n",
       "10  holo4_003_empty_PNG321.0+03.9_20210909_000177_...  177  PNG321.0+03.9   \n",
       "\n",
       "     filter  disperser   airmass  exposure  ...  temperature  humidity  \\\n",
       "0   empty_1  holo4_003  1.380357      10.0  ...          9.2      16.0   \n",
       "1   empty_1  holo4_003  1.381613      10.0  ...          9.1      16.0   \n",
       "2   empty_1  holo4_003  1.382874      10.0  ...          9.1      16.0   \n",
       "3   empty_1  holo4_003  1.384148      30.0  ...          9.1      16.0   \n",
       "4   empty_1  holo4_003  1.386523      30.0  ...          9.0      17.0   \n",
       "5   empty_1  holo4_003  1.388908      30.0  ...          9.0      16.0   \n",
       "6   empty_1  holo4_003  1.391300      60.0  ...          9.0      16.0   \n",
       "7   empty_1  holo4_003  1.415803       0.0  ...          8.9      15.0   \n",
       "8   empty_1  holo4_003  1.421962      60.0  ...          8.9      15.0   \n",
       "9   empty_1  holo4_003  1.426365      60.0  ...          8.9      15.0   \n",
       "10  empty_1  holo4_003  1.430840      60.0  ...          8.9      15.0   \n",
       "\n",
       "    windspd  Obj-posXpix  Obj-posYpix  Dx  Dy  skip  run  quality  \n",
       "0       4.0        300.0       1750.0 NaN NaN        1.0      1.0  \n",
       "1       3.6        300.0       1750.0 NaN NaN        1.0      1.0  \n",
       "2       3.6        300.0       1750.0 NaN NaN        1.0      1.0  \n",
       "3       3.6        300.0       1750.0 NaN NaN        1.0      1.0  \n",
       "4       3.1        300.0       1750.0 NaN NaN        1.0      1.0  \n",
       "5       3.9        300.0       1750.0 NaN NaN        1.0      1.0  \n",
       "6       3.9        300.0       1750.0 NaN NaN        1.0      1.0  \n",
       "7       3.7        300.0       1750.0 NaN NaN        1.0      1.0  \n",
       "8       3.8        300.0       1750.0 NaN NaN        1.0      1.0  \n",
       "9       4.4        300.0       1750.0 NaN NaN        1.0      1.0  \n",
       "10      4.6        300.0       1750.0 NaN NaN        1.0      1.0  \n",
       "\n",
       "[11 rows x 23 columns]"
      ]
     },
     "execution_count": 35,
     "metadata": {},
     "output_type": "execute_result"
    }
   ],
   "source": [
    "df"
   ]
  },
  {
   "cell_type": "markdown",
   "metadata": {},
   "source": [
    "# Selection of input file"
   ]
  },
  {
   "cell_type": "code",
   "execution_count": 36,
   "metadata": {},
   "outputs": [],
   "source": [
    "df_good=df[df[\"quality\"]==1]"
   ]
  },
  {
   "cell_type": "code",
   "execution_count": 37,
   "metadata": {},
   "outputs": [
    {
     "name": "stdout",
     "output_type": "stream",
     "text": [
      "holo4_003_empty_PNG321.0+03.9_20210909_000165_quickLookExp.fits\n",
      "holo4_003_empty_PNG321.0+03.9_20210909_000166_quickLookExp.fits\n",
      "holo4_003_empty_PNG321.0+03.9_20210909_000167_quickLookExp.fits\n",
      "holo4_003_empty_PNG321.0+03.9_20210909_000168_quickLookExp.fits\n",
      "holo4_003_empty_PNG321.0+03.9_20210909_000169_quickLookExp.fits\n",
      "holo4_003_empty_PNG321.0+03.9_20210909_000170_quickLookExp.fits\n",
      "holo4_003_empty_PNG321.0+03.9_20210909_000171_quickLookExp.fits\n",
      "holo4_003_empty_PNG321.0+03.9_20210909_000174_quickLookExp.fits\n",
      "holo4_003_empty_PNG321.0+03.9_20210909_000175_quickLookExp.fits\n",
      "holo4_003_empty_PNG321.0+03.9_20210909_000176_quickLookExp.fits\n",
      "holo4_003_empty_PNG321.0+03.9_20210909_000177_quickLookExp.fits\n"
     ]
    }
   ],
   "source": [
    "for spectra_file in df_good[\"file\"]:\n",
    "    print(spectra_file)"
   ]
  },
  {
   "cell_type": "code",
   "execution_count": 38,
   "metadata": {},
   "outputs": [],
   "source": [
    "#dir_spectra=\"outputs_reprocess\"\n",
    "dir_spectra=\"outputs_process_holo_PNG\""
   ]
  },
  {
   "cell_type": "code",
   "execution_count": 39,
   "metadata": {},
   "outputs": [
    {
     "name": "stdout",
     "output_type": "stream",
     "text": [
      "holo4_003_empty_PNG321.0+03.9_20210909_000177_quickLookExp_lines.csv\r\n",
      "holo4_003_empty_PNG321.0+03.9_20210909_000177_quickLookExp_spectrogram.fits\r\n",
      "holo4_003_empty_PNG321.0+03.9_20210909_000177_quickLookExp_spectrum.fits\r\n",
      "holo4_003_empty_PNG321.0+03.9_20210909_000177_quickLookExp_table.csv\r\n"
     ]
    }
   ],
   "source": [
    "! ls $dir_spectra"
   ]
  },
  {
   "cell_type": "code",
   "execution_count": 40,
   "metadata": {},
   "outputs": [],
   "source": [
    "all_files=os.listdir(dir_spectra)"
   ]
  },
  {
   "cell_type": "code",
   "execution_count": 41,
   "metadata": {},
   "outputs": [],
   "source": [
    "all_spectra_files = []\n",
    "for filename in all_files:\n",
    "    if re.search(\"_spectrum.fits$\",filename):\n",
    "        all_spectra_files.append(filename)\n",
    "N=len(all_spectra_files)"
   ]
  },
  {
   "cell_type": "code",
   "execution_count": 42,
   "metadata": {},
   "outputs": [
    {
     "data": {
      "text/plain": [
       "['holo4_003_empty_PNG321.0+03.9_20210909_000177_quickLookExp_spectrum.fits']"
      ]
     },
     "execution_count": 42,
     "metadata": {},
     "output_type": "execute_result"
    }
   ],
   "source": [
    "all_spectra_files"
   ]
  },
  {
   "cell_type": "code",
   "execution_count": 43,
   "metadata": {},
   "outputs": [
    {
     "data": {
      "text/plain": [
       "array(['holo4_003_empty_PNG321.0+03.9_20210909_000165_quickLookExp.fits',\n",
       "       'holo4_003_empty_PNG321.0+03.9_20210909_000166_quickLookExp.fits',\n",
       "       'holo4_003_empty_PNG321.0+03.9_20210909_000167_quickLookExp.fits',\n",
       "       'holo4_003_empty_PNG321.0+03.9_20210909_000168_quickLookExp.fits',\n",
       "       'holo4_003_empty_PNG321.0+03.9_20210909_000169_quickLookExp.fits',\n",
       "       'holo4_003_empty_PNG321.0+03.9_20210909_000170_quickLookExp.fits',\n",
       "       'holo4_003_empty_PNG321.0+03.9_20210909_000171_quickLookExp.fits',\n",
       "       'holo4_003_empty_PNG321.0+03.9_20210909_000174_quickLookExp.fits',\n",
       "       'holo4_003_empty_PNG321.0+03.9_20210909_000175_quickLookExp.fits',\n",
       "       'holo4_003_empty_PNG321.0+03.9_20210909_000176_quickLookExp.fits',\n",
       "       'holo4_003_empty_PNG321.0+03.9_20210909_000177_quickLookExp.fits'],\n",
       "      dtype=object)"
      ]
     },
     "execution_count": 43,
     "metadata": {},
     "output_type": "execute_result"
    }
   ],
   "source": [
    "df_good[\"file\"].values"
   ]
  },
  {
   "cell_type": "code",
   "execution_count": 44,
   "metadata": {},
   "outputs": [
    {
     "name": "stdout",
     "output_type": "stream",
     "text": [
      "0 ) : found holo4_003_empty_PNG321.0+03.9_20210909_000177_quickLookExp_spectrum.fits\n"
     ]
    }
   ],
   "source": [
    "all_good_spectra_spectrum_files=[]\n",
    "\n",
    "idx=0\n",
    "for good_spectra_file in df_good[\"file\"].values:\n",
    "    good_spectra_spectrum_file = good_spectra_file.split(\".fits\")[0]+\"_spectrum.fits\"\n",
    "    if good_spectra_spectrum_file in all_spectra_files:\n",
    "        print(idx,\") : found {}\".format(good_spectra_spectrum_file))\n",
    "        all_good_spectra_spectrum_files.append(good_spectra_spectrum_file)\n",
    "        idx+=1"
   ]
  },
  {
   "cell_type": "code",
   "execution_count": 45,
   "metadata": {},
   "outputs": [
    {
     "data": {
      "text/plain": [
       "['holo4_003_empty_PNG321.0+03.9_20210909_000177_quickLookExp_spectrum.fits']"
      ]
     },
     "execution_count": 45,
     "metadata": {},
     "output_type": "execute_result"
    }
   ],
   "source": [
    "all_good_spectra_spectrum_files"
   ]
  },
  {
   "cell_type": "code",
   "execution_count": 46,
   "metadata": {},
   "outputs": [
    {
     "name": "stdout",
     "output_type": "stream",
     "text": [
      "0 ) holo4_003_empty_PNG321.0+03.9_20210909_000177_quickLookExp_spectrum.fits   outputs_process_holo_PNG/holo4_003_empty_PNG321.0+03.9_20210909_000177_quickLookExp_spectrum.fits\n"
     ]
    },
    {
     "name": "stderr",
     "output_type": "stream",
     "text": [
      "/users/dagoret/anaconda3/lib/python3.8/site-packages/erfa/core.py:154: ErfaWarning: ERFA function \"pmsafe\" yielded 1 of \"distance overridden (Note 6)\"\n",
      "  warnings.warn('ERFA function \"{}\" yielded {}'.format(func_name, wmsg),\n"
     ]
    },
    {
     "data": {
      "image/png": "[encoded data removed]",
      "text/plain": [
       "<Figure size 1152x288 with 3 Axes>"
      ]
     },
     "metadata": {
      "needs_background": "light"
     },
     "output_type": "display_data"
    }
   ],
   "source": [
    "parameters.DISPLAY=False\n",
    "\n",
    "infos = []\n",
    "\n",
    "idx=0\n",
    "for filename in all_good_spectra_spectrum_files:\n",
    "    fig=plt.figure(figsize=(16,4))\n",
    "    ax1 = fig.add_subplot(1, 2, 1)\n",
    "    \n",
    "    fullfilename = os.path.join(dir_spectra,filename)\n",
    "    \n",
    "    print(idx,\")\",filename,\" \",fullfilename)\n",
    "    \n",
    "    \n",
    "    #try:\n",
    "    #    s=Spectrum(fullfilename, config=\"config/auxtel_quicklook.ini\")\n",
    "    #    print(\"Success First Connection with file \"+ fullfilename)\n",
    "    #    break           \n",
    "    #except requests.exceptions.ConnectionError:\n",
    "    #except:\n",
    "    #    print(\"Connection refused, will retry\")\n",
    "    #    sleep(5)\n",
    "    #    try:\n",
    "    #        print(\"try connection again \")    \n",
    "    #        s=Spectrum(fullfilename, config=\"config/auxtel_quicklook.ini\")\n",
    "    #        print(\"Success Second Connection \")\n",
    "    #        break\n",
    "        \n",
    "        #except requests.exceptions.ConnectionError:\n",
    "    #    except:\n",
    "    #        print(\"Connection refused twice, give up\")\n",
    "    #        continue\n",
    "            \n",
    "    #    continue\n",
    "                   \n",
    "    \n",
    "    s=Spectrum(fullfilename, config=config)\n",
    "    label=filename.split('.')[0]+\" \"\n",
    "    s.plot_spectrum(ax=ax1,force_lines=True,label=label)\n",
    "    \n",
    "    ax2 = fig.add_subplot(1, 2, 2)\n",
    "    \n",
    "    fullfilename2=fullfilename.replace(\"_spectrum\",\"_spectrogram\")\n",
    "    \n",
    "    s.load_spectrogram(fullfilename2)\n",
    "    s.plot_spectrogram(ax=ax2,scale=\"log\")\n",
    "    \n",
    "    \n",
    "    infos.append([idx,s.date_obs,s.airmass,s.temperature,s.pressure,s.humidity])\n",
    "    \n",
    "    \n",
    "    plt.show()\n",
    "    idx+=1\n",
    "    "
   ]
  },
  {
   "cell_type": "markdown",
   "metadata": {},
   "source": [
    "# Selection of the spectrum"
   ]
  },
  {
   "cell_type": "code",
   "execution_count": 53,
   "metadata": {},
   "outputs": [],
   "source": [
    "IDXSEL=0\n",
    "filename_SEL=all_good_spectra_spectrum_files[IDXSEL]"
   ]
  },
  {
   "cell_type": "code",
   "execution_count": 58,
   "metadata": {},
   "outputs": [
    {
     "name": "stdout",
     "output_type": "stream",
     "text": [
      "holo4_003_empty_PNG321.0+03.9_20210909_000177_quickLookExp_lines.csv\r\n",
      "holo4_003_empty_PNG321.0+03.9_20210909_000177_quickLookExp_spectrogram.fits\r\n",
      "holo4_003_empty_PNG321.0+03.9_20210909_000177_quickLookExp_spectrum.fits\r\n",
      "holo4_003_empty_PNG321.0+03.9_20210909_000177_quickLookExp_table.csv\r\n"
     ]
    }
   ],
   "source": [
    "! ls $dir_spectra"
   ]
  },
  {
   "cell_type": "code",
   "execution_count": 59,
   "metadata": {},
   "outputs": [],
   "source": [
    "IDXSEL=0\n",
    "filename_SEL=all_good_spectra_spectrum_files[IDXSEL]\n",
    "filename_spectrogram_SEL=filename_SEL.replace(\"_spectrum\",\"_spectrogram\")\n",
    "filename_lines_SEL=filename_SEL.replace(\"_spectrum.fits\",\"_lines.csv\")\n",
    "filename_table_SEL=filename_SEL.replace(\"_spectrum.fits\",\"_table.csv\")\n",
    "\n",
    "fullfilename_SEL = os.path.join(dir_spectra,filename_SEL)\n",
    "fullfilename_spectrogram_SEL = fullfilename_SEL.replace(\"_spectrum\",\"_spectrogram\")\n",
    "fullfilename_lines_SEL = fullfilename_SEL.replace(\"_spectrum.fits\",\"_lines.csv\")\n",
    "fullfilename_table_SEL = fullfilename_SEL.replace(\"_spectrum.fits\",\"_table.csv\")"
   ]
  },
  {
   "cell_type": "code",
   "execution_count": 70,
   "metadata": {},
   "outputs": [],
   "source": [
    "spectrogram_hdu=fits.open(fullfilename_spectrogram_SEL)"
   ]
  },
  {
   "cell_type": "code",
   "execution_count": 71,
   "metadata": {},
   "outputs": [
    {
     "name": "stdout",
     "output_type": "stream",
     "text": [
      "Filename: outputs_process_holo_PNG/holo4_003_empty_PNG321.0+03.9_20210909_000177_quickLookExp_spectrogram.fits\n",
      "No.    Name      Ver    Type      Cards   Dimensions   Format\n",
      "  0  SPECTRUM      1 PrimaryHDU     144   (2317, 161)   float64   \n",
      "  1  S_ERR         1 ImageHDU         8   (2317, 161)   float64   \n",
      "  2  S_BGD         1 ImageHDU         8   (2317, 161)   float64   \n",
      "  3  S_BGD_ER      1 ImageHDU         8   (2317, 161)   float64   \n",
      "  4  S_FIT         1 ImageHDU         7   (94997,)   float64   \n",
      "  5  S_RES         1 ImageHDU         7   (94997,)   float64   \n"
     ]
    }
   ],
   "source": [
    "spectrogram_hdu.info()"
   ]
  },
  {
   "cell_type": "code",
   "execution_count": 72,
   "metadata": {},
   "outputs": [],
   "source": [
    "spectrogram_image= spectrogram_hdu[0].data"
   ]
  },
  {
   "cell_type": "code",
   "execution_count": 61,
   "metadata": {},
   "outputs": [],
   "source": [
    "df_lines=pd.read_csv(fullfilename_lines_SEL,index_col=0)"
   ]
  },
  {
   "cell_type": "code",
   "execution_count": 85,
   "metadata": {},
   "outputs": [
    {
     "data": {
      "text/html": [
       "<div>\n",
       "<style scoped>\n",
       "    .dataframe tbody tr th:only-of-type {\n",
       "        vertical-align: middle;\n",
       "    }\n",
       "\n",
       "    .dataframe tbody tr th {\n",
       "        vertical-align: top;\n",
       "    }\n",
       "\n",
       "    .dataframe thead th {\n",
       "        text-align: right;\n",
       "    }\n",
       "</style>\n",
       "<table border=\"1\" class=\"dataframe\">\n",
       "  <thead>\n",
       "    <tr style=\"text-align: right;\">\n",
       "      <th></th>\n",
       "      <th>Tabulated</th>\n",
       "      <th>Detected</th>\n",
       "      <th>Shift</th>\n",
       "      <th>FWHM</th>\n",
       "      <th>Amplitude</th>\n",
       "      <th>SNR</th>\n",
       "      <th>Chisq</th>\n",
       "      <th>Eqwidth_mod</th>\n",
       "      <th>Eqwidth_data</th>\n",
       "    </tr>\n",
       "    <tr>\n",
       "      <th>Line</th>\n",
       "      <th></th>\n",
       "      <th></th>\n",
       "      <th></th>\n",
       "      <th></th>\n",
       "      <th></th>\n",
       "      <th></th>\n",
       "      <th></th>\n",
       "      <th></th>\n",
       "      <th></th>\n",
       "    </tr>\n",
       "  </thead>\n",
       "  <tbody>\n",
       "    <tr>\n",
       "      <th>$He_{I}$</th>\n",
       "      <td>353.100006</td>\n",
       "      <td>353.539215</td>\n",
       "      <td>0.439209</td>\n",
       "      <td>12.301182</td>\n",
       "      <td>5.542675e-13</td>\n",
       "      <td>33.857941</td>\n",
       "      <td>5.921208</td>\n",
       "      <td>16.778606</td>\n",
       "      <td>37.687027</td>\n",
       "    </tr>\n",
       "    <tr>\n",
       "      <th>$H\\delta$</th>\n",
       "      <td>410.200012</td>\n",
       "      <td>416.203583</td>\n",
       "      <td>6.003572</td>\n",
       "      <td>2.035535</td>\n",
       "      <td>1.781530e-12</td>\n",
       "      <td>60.226051</td>\n",
       "      <td>7.693915</td>\n",
       "      <td>106.855576</td>\n",
       "      <td>99.469383</td>\n",
       "    </tr>\n",
       "    <tr>\n",
       "      <th>$H\\gamma$</th>\n",
       "      <td>434.000000</td>\n",
       "      <td>435.369019</td>\n",
       "      <td>1.369012</td>\n",
       "      <td>10.925664</td>\n",
       "      <td>1.302364e-13</td>\n",
       "      <td>4.402746</td>\n",
       "      <td>7.693915</td>\n",
       "      <td>61.229847</td>\n",
       "      <td>445.765350</td>\n",
       "    </tr>\n",
       "    <tr>\n",
       "      <th>$Fe_{II}$</th>\n",
       "      <td>463.799988</td>\n",
       "      <td>462.793549</td>\n",
       "      <td>-1.006466</td>\n",
       "      <td>10.770501</td>\n",
       "      <td>9.898949e-14</td>\n",
       "      <td>3.346420</td>\n",
       "      <td>7.693915</td>\n",
       "      <td>-210.797516</td>\n",
       "      <td>18.782858</td>\n",
       "    </tr>\n",
       "    <tr>\n",
       "      <th>$H\\beta$</th>\n",
       "      <td>486.299988</td>\n",
       "      <td>483.617798</td>\n",
       "      <td>-2.682187</td>\n",
       "      <td>10.086087</td>\n",
       "      <td>9.304618e-14</td>\n",
       "      <td>3.145502</td>\n",
       "      <td>7.693915</td>\n",
       "      <td>-23.642406</td>\n",
       "      <td>-83.452217</td>\n",
       "    </tr>\n",
       "    <tr>\n",
       "      <th>$C_{III}$</th>\n",
       "      <td>570.000000</td>\n",
       "      <td>567.941833</td>\n",
       "      <td>-2.058148</td>\n",
       "      <td>1.316775</td>\n",
       "      <td>1.184273e-13</td>\n",
       "      <td>3.314552</td>\n",
       "      <td>6.447922</td>\n",
       "      <td>-1.157499</td>\n",
       "      <td>-0.468868</td>\n",
       "    </tr>\n",
       "    <tr>\n",
       "      <th>$He_{I}$</th>\n",
       "      <td>587.500000</td>\n",
       "      <td>586.843079</td>\n",
       "      <td>-0.656949</td>\n",
       "      <td>1.898447</td>\n",
       "      <td>3.562328e-13</td>\n",
       "      <td>9.970273</td>\n",
       "      <td>6.447922</td>\n",
       "      <td>-10.029447</td>\n",
       "      <td>-10.576116</td>\n",
       "    </tr>\n",
       "    <tr>\n",
       "      <th>$He_{II}$</th>\n",
       "      <td>611.799988</td>\n",
       "      <td>610.040710</td>\n",
       "      <td>-1.759311</td>\n",
       "      <td>10.209607</td>\n",
       "      <td>1.091966e-13</td>\n",
       "      <td>3.153793</td>\n",
       "      <td>0.566669</td>\n",
       "      <td>22.615515</td>\n",
       "      <td>32.493732</td>\n",
       "    </tr>\n",
       "    <tr>\n",
       "      <th>$He_{II}$</th>\n",
       "      <td>617.099976</td>\n",
       "      <td>618.433289</td>\n",
       "      <td>1.333315</td>\n",
       "      <td>13.462131</td>\n",
       "      <td>1.071089e-13</td>\n",
       "      <td>3.093495</td>\n",
       "      <td>0.566669</td>\n",
       "      <td>-73.350548</td>\n",
       "      <td>-23.158998</td>\n",
       "    </tr>\n",
       "    <tr>\n",
       "      <th>$H\\alpha$</th>\n",
       "      <td>656.299988</td>\n",
       "      <td>656.451965</td>\n",
       "      <td>0.151950</td>\n",
       "      <td>3.366824</td>\n",
       "      <td>9.893647e-13</td>\n",
       "      <td>27.838795</td>\n",
       "      <td>0.728583</td>\n",
       "      <td>-31.863245</td>\n",
       "      <td>-32.030949</td>\n",
       "    </tr>\n",
       "    <tr>\n",
       "      <th>$C_{II}$</th>\n",
       "      <td>679.000000</td>\n",
       "      <td>678.179688</td>\n",
       "      <td>-0.820336</td>\n",
       "      <td>1.870202</td>\n",
       "      <td>1.448232e-13</td>\n",
       "      <td>4.075042</td>\n",
       "      <td>0.728583</td>\n",
       "      <td>-3.572252</td>\n",
       "      <td>-3.860638</td>\n",
       "    </tr>\n",
       "    <tr>\n",
       "      <th>$C_{II}$</th>\n",
       "      <td>723.500000</td>\n",
       "      <td>722.981201</td>\n",
       "      <td>-0.518822</td>\n",
       "      <td>1.548154</td>\n",
       "      <td>8.563921e-13</td>\n",
       "      <td>29.305857</td>\n",
       "      <td>4.465347</td>\n",
       "      <td>-61.209232</td>\n",
       "      <td>-44.821930</td>\n",
       "    </tr>\n",
       "    <tr>\n",
       "      <th>NaN</th>\n",
       "      <td>760.299988</td>\n",
       "      <td>760.110413</td>\n",
       "      <td>-0.189613</td>\n",
       "      <td>1.611877</td>\n",
       "      <td>-7.968343e-14</td>\n",
       "      <td>3.162223</td>\n",
       "      <td>0.148757</td>\n",
       "      <td>1.587824</td>\n",
       "      <td>2.279709</td>\n",
       "    </tr>\n",
       "    <tr>\n",
       "      <th>$O_2(Y)$</th>\n",
       "      <td>898.765015</td>\n",
       "      <td>901.299316</td>\n",
       "      <td>2.534332</td>\n",
       "      <td>1.382226</td>\n",
       "      <td>-1.287023e-13</td>\n",
       "      <td>4.240129</td>\n",
       "      <td>0.318233</td>\n",
       "      <td>4.521552</td>\n",
       "      <td>-2.440499</td>\n",
       "    </tr>\n",
       "    <tr>\n",
       "      <th>$He_{I}$</th>\n",
       "      <td>923.500000</td>\n",
       "      <td>922.985352</td>\n",
       "      <td>-0.514663</td>\n",
       "      <td>3.256291</td>\n",
       "      <td>9.684379e-14</td>\n",
       "      <td>3.190543</td>\n",
       "      <td>0.318233</td>\n",
       "      <td>-6.647045</td>\n",
       "      <td>-6.022026</td>\n",
       "    </tr>\n",
       "    <tr>\n",
       "      <th>$He_{I}$</th>\n",
       "      <td>951.900024</td>\n",
       "      <td>953.600708</td>\n",
       "      <td>1.700705</td>\n",
       "      <td>3.962116</td>\n",
       "      <td>2.396290e-13</td>\n",
       "      <td>7.894639</td>\n",
       "      <td>0.318233</td>\n",
       "      <td>-15.077653</td>\n",
       "      <td>-14.428843</td>\n",
       "    </tr>\n",
       "    <tr>\n",
       "      <th>$C_{III}$</th>\n",
       "      <td>970.500000</td>\n",
       "      <td>969.457336</td>\n",
       "      <td>-1.042641</td>\n",
       "      <td>4.404303</td>\n",
       "      <td>1.454946e-13</td>\n",
       "      <td>4.793355</td>\n",
       "      <td>0.318233</td>\n",
       "      <td>-13.027607</td>\n",
       "      <td>-13.783816</td>\n",
       "    </tr>\n",
       "  </tbody>\n",
       "</table>\n",
       "</div>"
      ],
      "text/plain": [
       "            Tabulated    Detected     Shift       FWHM     Amplitude  \\\n",
       "Line                                                                   \n",
       "$He_{I}$   353.100006  353.539215  0.439209  12.301182  5.542675e-13   \n",
       "$H\\delta$  410.200012  416.203583  6.003572   2.035535  1.781530e-12   \n",
       "$H\\gamma$  434.000000  435.369019  1.369012  10.925664  1.302364e-13   \n",
       "$Fe_{II}$  463.799988  462.793549 -1.006466  10.770501  9.898949e-14   \n",
       "$H\\beta$   486.299988  483.617798 -2.682187  10.086087  9.304618e-14   \n",
       "$C_{III}$  570.000000  567.941833 -2.058148   1.316775  1.184273e-13   \n",
       "$He_{I}$   587.500000  586.843079 -0.656949   1.898447  3.562328e-13   \n",
       "$He_{II}$  611.799988  610.040710 -1.759311  10.209607  1.091966e-13   \n",
       "$He_{II}$  617.099976  618.433289  1.333315  13.462131  1.071089e-13   \n",
       "$H\\alpha$  656.299988  656.451965  0.151950   3.366824  9.893647e-13   \n",
       "$C_{II}$   679.000000  678.179688 -0.820336   1.870202  1.448232e-13   \n",
       "$C_{II}$   723.500000  722.981201 -0.518822   1.548154  8.563921e-13   \n",
       "NaN        760.299988  760.110413 -0.189613   1.611877 -7.968343e-14   \n",
       "$O_2(Y)$   898.765015  901.299316  2.534332   1.382226 -1.287023e-13   \n",
       "$He_{I}$   923.500000  922.985352 -0.514663   3.256291  9.684379e-14   \n",
       "$He_{I}$   951.900024  953.600708  1.700705   3.962116  2.396290e-13   \n",
       "$C_{III}$  970.500000  969.457336 -1.042641   4.404303  1.454946e-13   \n",
       "\n",
       "                 SNR     Chisq  Eqwidth_mod  Eqwidth_data  \n",
       "Line                                                       \n",
       "$He_{I}$   33.857941  5.921208    16.778606     37.687027  \n",
       "$H\\delta$  60.226051  7.693915   106.855576     99.469383  \n",
       "$H\\gamma$   4.402746  7.693915    61.229847    445.765350  \n",
       "$Fe_{II}$   3.346420  7.693915  -210.797516     18.782858  \n",
       "$H\\beta$    3.145502  7.693915   -23.642406    -83.452217  \n",
       "$C_{III}$   3.314552  6.447922    -1.157499     -0.468868  \n",
       "$He_{I}$    9.970273  6.447922   -10.029447    -10.576116  \n",
       "$He_{II}$   3.153793  0.566669    22.615515     32.493732  \n",
       "$He_{II}$   3.093495  0.566669   -73.350548    -23.158998  \n",
       "$H\\alpha$  27.838795  0.728583   -31.863245    -32.030949  \n",
       "$C_{II}$    4.075042  0.728583    -3.572252     -3.860638  \n",
       "$C_{II}$   29.305857  4.465347   -61.209232    -44.821930  \n",
       "NaN         3.162223  0.148757     1.587824      2.279709  \n",
       "$O_2(Y)$    4.240129  0.318233     4.521552     -2.440499  \n",
       "$He_{I}$    3.190543  0.318233    -6.647045     -6.022026  \n",
       "$He_{I}$    7.894639  0.318233   -15.077653    -14.428843  \n",
       "$C_{III}$   4.793355  0.318233   -13.027607    -13.783816  "
      ]
     },
     "execution_count": 85,
     "metadata": {},
     "output_type": "execute_result"
    }
   ],
   "source": [
    "df_lines"
   ]
  },
  {
   "cell_type": "code",
   "execution_count": 87,
   "metadata": {},
   "outputs": [
    {
     "data": {
      "text/plain": [
       "Index(['Tabulated', 'Detected', 'Shift', 'FWHM', 'Amplitude', 'SNR', 'Chisq',\n",
       "       'Eqwidth_mod', 'Eqwidth_data'],\n",
       "      dtype='object')"
      ]
     },
     "execution_count": 87,
     "metadata": {},
     "output_type": "execute_result"
    }
   ],
   "source": [
    "df_lines.columns"
   ]
  },
  {
   "cell_type": "code",
   "execution_count": 90,
   "metadata": {},
   "outputs": [
    {
     "data": {
      "text/plain": [
       "'$He_{I}$'"
      ]
     },
     "execution_count": 90,
     "metadata": {},
     "output_type": "execute_result"
    }
   ],
   "source": [
    "df_lines.index[0]"
   ]
  },
  {
   "cell_type": "code",
   "execution_count": 124,
   "metadata": {},
   "outputs": [
    {
     "name": "stdout",
     "output_type": "stream",
     "text": [
      "$He_{I}$ 353.1000061035156\n",
      "$H\\delta$ 410.2000122070313\n",
      "$H\\gamma$ 434.0\n",
      "$Fe_{II}$ 463.7999877929688\n",
      "$H\\beta$ 486.2999877929688\n",
      "$C_{III}$ 570.0\n",
      "$He_{I}$ 587.5\n",
      "$He_{II}$ 611.7999877929688\n",
      "$He_{II}$ 617.0999755859375\n",
      "$H\\alpha$ 656.2999877929688\n",
      "$C_{II}$ 679.0\n",
      "$C_{II}$ 723.5\n",
      "nan 760.2999877929688\n",
      "$O_2(Y)$ 898.7650146484375\n",
      "$He_{I}$ 923.5\n",
      "$He_{I}$ 951.9000244140624\n",
      "$C_{III}$ 970.5\n"
     ]
    }
   ],
   "source": [
    "idx=0\n",
    "all_lines = []\n",
    "for index, row in df_lines.iterrows():\n",
    "    print(df_lines.index[idx], row['Tabulated'])\n",
    "    line = Line(row['Tabulated'], label=df_lines.index[idx], atmospheric=False , emission=True, label_pos=[0, 0.8])\n",
    "    if row['SNR']>5:\n",
    "        all_lines.append(line)\n",
    "    idx+=1"
   ]
  },
  {
   "cell_type": "code",
   "execution_count": 125,
   "metadata": {},
   "outputs": [],
   "source": [
    "lines_collection=Lines(all_lines)"
   ]
  },
  {
   "cell_type": "code",
   "execution_count": 126,
   "metadata": {},
   "outputs": [],
   "source": [
    "df_table=pd.read_csv(fullfilename_table_SEL)"
   ]
  },
  {
   "cell_type": "code",
   "execution_count": 127,
   "metadata": {},
   "outputs": [
    {
     "data": {
      "text/html": [
       "<div>\n",
       "<style scoped>\n",
       "    .dataframe tbody tr th:only-of-type {\n",
       "        vertical-align: middle;\n",
       "    }\n",
       "\n",
       "    .dataframe tbody tr th {\n",
       "        vertical-align: top;\n",
       "    }\n",
       "\n",
       "    .dataframe thead th {\n",
       "        text-align: right;\n",
       "    }\n",
       "</style>\n",
       "<table border=\"1\" class=\"dataframe\">\n",
       "  <thead>\n",
       "    <tr style=\"text-align: right;\">\n",
       "      <th></th>\n",
       "      <th>lambdas</th>\n",
       "      <th>Dx</th>\n",
       "      <th>Dy</th>\n",
       "      <th>Dy_disp_axis</th>\n",
       "      <th>flux_sum</th>\n",
       "      <th>flux_integral</th>\n",
       "      <th>flux_err</th>\n",
       "      <th>fwhm</th>\n",
       "      <th>Dy_fwhm_sup</th>\n",
       "      <th>Dy_fwhm_inf</th>\n",
       "      <th>amplitude</th>\n",
       "      <th>x_c</th>\n",
       "      <th>y_c</th>\n",
       "      <th>gamma</th>\n",
       "      <th>alpha</th>\n",
       "      <th>saturation</th>\n",
       "    </tr>\n",
       "  </thead>\n",
       "  <tbody>\n",
       "    <tr>\n",
       "      <th>0</th>\n",
       "      <td>302.549634</td>\n",
       "      <td>851.313841</td>\n",
       "      <td>17.163696</td>\n",
       "      <td>-6.629468</td>\n",
       "      <td>3.694844</td>\n",
       "      <td>1.0</td>\n",
       "      <td>4.538023</td>\n",
       "      <td>8.003827</td>\n",
       "      <td>33.971595</td>\n",
       "      <td>0.355797</td>\n",
       "      <td>1.0</td>\n",
       "      <td>0.0</td>\n",
       "      <td>97.882646</td>\n",
       "      <td>4.271057</td>\n",
       "      <td>1.1</td>\n",
       "      <td>2837.792561</td>\n",
       "    </tr>\n",
       "    <tr>\n",
       "      <th>1</th>\n",
       "      <td>302.904250</td>\n",
       "      <td>852.313841</td>\n",
       "      <td>17.153542</td>\n",
       "      <td>-6.637256</td>\n",
       "      <td>-8.545156</td>\n",
       "      <td>1.0</td>\n",
       "      <td>4.519271</td>\n",
       "      <td>8.031159</td>\n",
       "      <td>33.951344</td>\n",
       "      <td>0.355740</td>\n",
       "      <td>1.0</td>\n",
       "      <td>1.0</td>\n",
       "      <td>97.872492</td>\n",
       "      <td>4.285419</td>\n",
       "      <td>1.1</td>\n",
       "      <td>2837.792561</td>\n",
       "    </tr>\n",
       "    <tr>\n",
       "      <th>2</th>\n",
       "      <td>303.258864</td>\n",
       "      <td>853.313841</td>\n",
       "      <td>17.143392</td>\n",
       "      <td>-6.645043</td>\n",
       "      <td>-25.644430</td>\n",
       "      <td>1.0</td>\n",
       "      <td>4.492414</td>\n",
       "      <td>8.056528</td>\n",
       "      <td>33.931097</td>\n",
       "      <td>0.355687</td>\n",
       "      <td>1.0</td>\n",
       "      <td>2.0</td>\n",
       "      <td>97.862342</td>\n",
       "      <td>4.299767</td>\n",
       "      <td>1.1</td>\n",
       "      <td>2837.792561</td>\n",
       "    </tr>\n",
       "    <tr>\n",
       "      <th>3</th>\n",
       "      <td>303.613474</td>\n",
       "      <td>854.313841</td>\n",
       "      <td>17.133247</td>\n",
       "      <td>-6.652830</td>\n",
       "      <td>-38.610742</td>\n",
       "      <td>1.0</td>\n",
       "      <td>4.471998</td>\n",
       "      <td>8.085500</td>\n",
       "      <td>33.910855</td>\n",
       "      <td>0.355639</td>\n",
       "      <td>1.0</td>\n",
       "      <td>3.0</td>\n",
       "      <td>97.852197</td>\n",
       "      <td>4.314101</td>\n",
       "      <td>1.1</td>\n",
       "      <td>2837.792561</td>\n",
       "    </tr>\n",
       "    <tr>\n",
       "      <th>4</th>\n",
       "      <td>303.968082</td>\n",
       "      <td>855.313841</td>\n",
       "      <td>17.123107</td>\n",
       "      <td>-6.660618</td>\n",
       "      <td>-33.911841</td>\n",
       "      <td>1.0</td>\n",
       "      <td>4.480427</td>\n",
       "      <td>8.110856</td>\n",
       "      <td>33.890618</td>\n",
       "      <td>0.355596</td>\n",
       "      <td>1.0</td>\n",
       "      <td>4.0</td>\n",
       "      <td>97.842057</td>\n",
       "      <td>4.328421</td>\n",
       "      <td>1.1</td>\n",
       "      <td>2837.792561</td>\n",
       "    </tr>\n",
       "  </tbody>\n",
       "</table>\n",
       "</div>"
      ],
      "text/plain": [
       "      lambdas          Dx         Dy  Dy_disp_axis   flux_sum  flux_integral  \\\n",
       "0  302.549634  851.313841  17.163696     -6.629468   3.694844            1.0   \n",
       "1  302.904250  852.313841  17.153542     -6.637256  -8.545156            1.0   \n",
       "2  303.258864  853.313841  17.143392     -6.645043 -25.644430            1.0   \n",
       "3  303.613474  854.313841  17.133247     -6.652830 -38.610742            1.0   \n",
       "4  303.968082  855.313841  17.123107     -6.660618 -33.911841            1.0   \n",
       "\n",
       "   flux_err      fwhm  Dy_fwhm_sup  Dy_fwhm_inf  amplitude  x_c        y_c  \\\n",
       "0  4.538023  8.003827    33.971595     0.355797        1.0  0.0  97.882646   \n",
       "1  4.519271  8.031159    33.951344     0.355740        1.0  1.0  97.872492   \n",
       "2  4.492414  8.056528    33.931097     0.355687        1.0  2.0  97.862342   \n",
       "3  4.471998  8.085500    33.910855     0.355639        1.0  3.0  97.852197   \n",
       "4  4.480427  8.110856    33.890618     0.355596        1.0  4.0  97.842057   \n",
       "\n",
       "      gamma  alpha   saturation  \n",
       "0  4.271057    1.1  2837.792561  \n",
       "1  4.285419    1.1  2837.792561  \n",
       "2  4.299767    1.1  2837.792561  \n",
       "3  4.314101    1.1  2837.792561  \n",
       "4  4.328421    1.1  2837.792561  "
      ]
     },
     "execution_count": 127,
     "metadata": {},
     "output_type": "execute_result"
    }
   ],
   "source": [
    "df_table.head()"
   ]
  },
  {
   "cell_type": "code",
   "execution_count": 128,
   "metadata": {},
   "outputs": [
    {
     "data": {
      "image/png": "[encoded data removed]",
      "text/plain": [
       "<Figure size 1296x720 with 2 Axes>"
      ]
     },
     "metadata": {
      "needs_background": "light"
     },
     "output_type": "display_data"
    }
   ],
   "source": [
    "fig = plt.figure(figsize=(18,10))\n",
    "ax=fig.add_subplot(2,1,1)\n",
    "ax.plot(s.lambdas,s.data,\"r-\")\n",
    "thetitle=str(IDXSEL)+\") \"+ filename_SEL\n",
    "ax.set_title(thetitle)\n",
    "ax.set_xlabel(\"$\\lambda$ (nm)\")\n",
    "ax.set_ylabel(\"flux\")\n",
    "ax.grid()\n",
    "ax.set_ylim(0,2e-12)\n",
    "lines_collection.plot_atomic_lines(ax, color_atomic='g', color_atmospheric='b', fontsize=20, force=True)\n",
    "ax=fig.add_subplot(2,1,2)\n",
    "ax.imshow(spectrogram_image,origin=\"lower\",norm=LogNorm())\n",
    "ax.grid()\n",
    "ax.set_xlabel(\"pixel\")\n",
    "plt.show()"
   ]
  },
  {
   "cell_type": "code",
   "execution_count": null,
   "metadata": {},
   "outputs": [],
   "source": [
    "alert False"
   ]
  },
  {
   "cell_type": "code",
   "execution_count": null,
   "metadata": {},
   "outputs": [],
   "source": [
    "df_infos=pd.DataFrame(infos,columns=[\"idx\",\"date_obs\",\"airmass\",\"temperature\",\"pressure\",\"humidity\"])"
   ]
  },
  {
   "cell_type": "code",
   "execution_count": null,
   "metadata": {},
   "outputs": [],
   "source": [
    "df_infos.set_index('idx',inplace=True)"
   ]
  },
  {
   "cell_type": "code",
   "execution_count": null,
   "metadata": {},
   "outputs": [],
   "source": [
    "all_reftime=[ (Time(tt)-Time( df_infos[\"date_obs\"].values[0])).to_value(u.hr) for tt in df_infos[\"date_obs\"].values ]"
   ]
  },
  {
   "cell_type": "code",
   "execution_count": null,
   "metadata": {},
   "outputs": [],
   "source": [
    "all_reftime=np.array(all_reftime)"
   ]
  },
  {
   "cell_type": "code",
   "execution_count": null,
   "metadata": {},
   "outputs": [],
   "source": [
    "df_infos[\"reftime\"]=all_reftime"
   ]
  },
  {
   "cell_type": "code",
   "execution_count": null,
   "metadata": {},
   "outputs": [],
   "source": [
    "df_infos[\"eqw_h2o\"] = np.nan\n",
    "df_infos[\"eqw_o2\"] = np.nan\n",
    "df_infos[\"eqw_o2_spec\"] = np.nan"
   ]
  },
  {
   "cell_type": "code",
   "execution_count": null,
   "metadata": {},
   "outputs": [],
   "source": [
    "df_infos"
   ]
  },
  {
   "cell_type": "markdown",
   "metadata": {},
   "source": [
    "# Selection of spectra and equivalent width calculation"
   ]
  },
  {
   "cell_type": "code",
   "execution_count": null,
   "metadata": {},
   "outputs": [],
   "source": [
    "from astropy import units as u\n",
    "from astropy.visualization import quantity_support\n",
    "\n",
    "quantity_support()  # for getting units on the axes below  "
   ]
  },
  {
   "cell_type": "code",
   "execution_count": null,
   "metadata": {},
   "outputs": [],
   "source": [
    "from specutils import Spectrum1D\n",
    "from specutils.fitting import fit_generic_continuum,fit_continuum\n",
    "from specutils import SpectralRegion\n",
    "from specutils.analysis import equivalent_width\n",
    "from astropy.modeling import models\n",
    "from specutils.manipulation import extract_region"
   ]
  },
  {
   "cell_type": "code",
   "execution_count": null,
   "metadata": {},
   "outputs": [],
   "source": [
    "IDXSEL=0\n",
    "filename_SEL=all_good_spectra_spectrum_files[IDXSEL]\n",
    "filename_spectrogram_SEL=filename_SEL.replace(\"_spectrum\",\"_spectrogram\")\n",
    "filename_lines_SEL=filename_SEL.replace(\"_spectrum.fits\",\"_lines.csv\")\n",
    "filename_table_SEL=filename_SEL.replace(\"_spectrum.fits\",\"_table.csv\")\n",
    "fullfilename_SEL = os.path.join(dir_spectra,filename_SEL)\n",
    "fullfilename_spectrogram_SEL = fullfilename_SEL.replace(\"_spectrum\",\"_spectrogram\")\n",
    "fullfilename_lines_SEL = fullfilename_SEL.replace(\"_spectrum.fits\",\"_lines.csv\")\n",
    "fullfilename_table_SEL = fullfilename_SEL.replace(\"_spectrum.fits\",\"_table.csv\")"
   ]
  },
  {
   "cell_type": "code",
   "execution_count": null,
   "metadata": {},
   "outputs": [],
   "source": [
    "fullfilename_table_SEL"
   ]
  },
  {
   "cell_type": "code",
   "execution_count": null,
   "metadata": {},
   "outputs": [],
   "source": [
    "thetitle=str(IDXSEL)+\") \"+filename_SEL"
   ]
  },
  {
   "cell_type": "code",
   "execution_count": null,
   "metadata": {},
   "outputs": [],
   "source": [
    "thetitle"
   ]
  },
  {
   "cell_type": "code",
   "execution_count": null,
   "metadata": {},
   "outputs": [],
   "source": [
    "fullfilename_SEL"
   ]
  },
  {
   "cell_type": "markdown",
   "metadata": {},
   "source": [
    "## Load spectrum and Spectrogram"
   ]
  },
  {
   "cell_type": "code",
   "execution_count": null,
   "metadata": {},
   "outputs": [],
   "source": [
    "s=Spectrum(fullfilename_SEL, config=config)\n",
    "s.load_spectrogram(fullfilename_spectrogram_SEL) "
   ]
  },
  {
   "cell_type": "code",
   "execution_count": null,
   "metadata": {},
   "outputs": [],
   "source": [
    "df_lines=pd.read_csv(fullfilename_lines_SEL,index_col=0)"
   ]
  },
  {
   "cell_type": "code",
   "execution_count": null,
   "metadata": {},
   "outputs": [],
   "source": [
    "df_lines"
   ]
  },
  {
   "cell_type": "code",
   "execution_count": null,
   "metadata": {},
   "outputs": [],
   "source": [
    "lines = Lines([O2_1,H2O_1,H2O_2],atmospheric_lines=True, redshift=0, emission_spectrum=False)"
   ]
  },
  {
   "cell_type": "code",
   "execution_count": null,
   "metadata": {},
   "outputs": [],
   "source": [
    "s.lines = lines"
   ]
  },
  {
   "cell_type": "code",
   "execution_count": null,
   "metadata": {},
   "outputs": [],
   "source": [
    "lambdas = np.arange(300,1000,1)\n",
    "fwhm_func = interp1d(lambdas, 0.01 * lambdas)"
   ]
  },
  {
   "cell_type": "code",
   "execution_count": null,
   "metadata": {},
   "outputs": [],
   "source": [
    "# global_chisq = detect_lines(lines, s.lambdas, s.data, s.err, fwhm_func=fwhm_func)"
   ]
  },
  {
   "cell_type": "code",
   "execution_count": null,
   "metadata": {},
   "outputs": [],
   "source": [
    "fig = plt.figure(figsize=(18,10))\n",
    "plot_spectrum_simple(plt.gca(), s.lambdas, s.data, s.err)\n",
    "lines.plot_detected_lines(plt.gca())\n",
    "thetitle=str(IDXSEL)+\") \"+ filename_SEL\n",
    "plt.title(thetitle)\n",
    "plt.show()"
   ]
  },
  {
   "cell_type": "code",
   "execution_count": null,
   "metadata": {},
   "outputs": [],
   "source": [
    "# lines.print_detected_lines()"
   ]
  },
  {
   "cell_type": "code",
   "execution_count": null,
   "metadata": {},
   "outputs": [],
   "source": [
    "alert False"
   ]
  },
  {
   "cell_type": "markdown",
   "metadata": {},
   "source": [
    "## with specutils"
   ]
  },
  {
   "cell_type": "markdown",
   "metadata": {},
   "source": [
    "### Convert in specutils units"
   ]
  },
  {
   "cell_type": "code",
   "execution_count": null,
   "metadata": {},
   "outputs": [],
   "source": [
    "lamb = 10*s.lambdas * u.AA \n",
    "flux = s.data * u.Unit('erg cm-2 s-1 AA-1')/10. \n",
    "fluxerr = s.err * u.Unit('erg cm-2 s-1 AA-1')/10. \n",
    "spec = Spectrum1D(spectral_axis=lamb, flux=flux)\n",
    "specerr = Spectrum1D(spectral_axis=lamb, flux=fluxerr)"
   ]
  },
  {
   "cell_type": "markdown",
   "metadata": {},
   "source": [
    "## Equivalent width calculation with Automatic line plot"
   ]
  },
  {
   "cell_type": "code",
   "execution_count": null,
   "metadata": {},
   "outputs": [],
   "source": [
    "def ComputeEquivWidth(spec,wlmin,wlmax,wlminline,wlmaxline,flag_plot=True,ax1=None,ax2=None):\n",
    "    \"\"\"\n",
    "    \n",
    "    ComputeEquivWidth(spec,wlmin,wlmax,wlminline,wlmaxline,flag_plot=True)\n",
    "    \n",
    "    - input :\n",
    "    \n",
    "    \n",
    "    - output :\n",
    "    \n",
    "    \"\"\"\n",
    "            \n",
    "    # region used to fit bacgroud        \n",
    "    sub_region = SpectralRegion(wlmin , wlmax)\n",
    "    # line region to remove background\n",
    "    line_region = SpectralRegion(wlminline , wlmaxline)\n",
    "    \n",
    "    # region where one extract the spectrum\n",
    "    sub_spectrum = extract_region(spec, sub_region)\n",
    "    \n",
    "    # initialisaition of linear model\n",
    "    g_init = models.Linear1D(slope=0,intercept=1e-12)\n",
    "    \n",
    "    # fit on sub-spectrum\n",
    "    g1_fit = fit_generic_continuum(sub_spectrum,model=g_init,exclude_regions=[line_region])\n",
    "    # fit by keeping the whole spectrum , but fitting on hte relevant part of the spectrum\n",
    "    g2_fit = fit_continuum(spec,model=g_init,window=sub_region,exclude_regions=[line_region])\n",
    "    \n",
    "    \n",
    "    y_continuum_fitted1 = g1_fit(sub_spectrum.spectral_axis)\n",
    "    y_continuum_fitted2 = g2_fit(spec.spectral_axis)\n",
    "    \n",
    "    # normalize the spectrum\n",
    "    cont_norm_spec = spec/ y_continuum_fitted2 \n",
    "    \n",
    "    eqw1=equivalent_width(cont_norm_spec, regions=line_region) \n",
    "    eqw2=equivalent_width(cont_norm_spec, regions=sub_region)  \n",
    "    \n",
    "    \n",
    "    if flag_plot:\n",
    "        \n",
    "        YMIN=spec.flux.min()\n",
    "        YMAX=1.2*spec.flux.max()\n",
    "        \n",
    "        eqw_str1=\"$Eqw_1$ = {:2.2f} $\\AA$ \".format(eqw1.value)\n",
    "        eqw_str2=\"$Eqw_2$ = {:2.2f} $\\AA$ \".format(eqw2.value)\n",
    "    \n",
    "    \n",
    "        eqw_str='\\n'.join((\n",
    "        r'{}'.format(eqw_str1),\n",
    "        r'{}'.format(eqw_str2)))\n",
    "        \n",
    "        if ax1==None: \n",
    "            f, ax1 = plt.subplots(figsize=(8,4))\n",
    "            \n",
    "        ax1.plot(spec.spectral_axis, spec.flux,'k-')  \n",
    "        ax1.plot(sub_spectrum.spectral_axis, y_continuum_fitted1,'r-.',label=\"fit region\")  \n",
    "        ax1.plot(spec.spectral_axis, y_continuum_fitted2,'b:',label=\"extrapolated fit continuum\")  \n",
    "        ax1.set_title(\"Local continuum fitting\")  \n",
    "        ax1.grid(True)  \n",
    "        ax1.legend()\n",
    "        ax1.axvline(wlminline,color='r')\n",
    "        ax1.axvline(wlmaxline,color=\"r\")\n",
    "        ax1.axvline(wlmin,color='g')\n",
    "        ax1.axvline(wlmax,color=\"g\")\n",
    "        ax1.set_ylim(YMIN,YMAX)\n",
    "        \n",
    "        \n",
    "        if ax2==None:\n",
    "            f, ax2 = plt.subplots(figsize=(8,4)) \n",
    "            \n",
    "            \n",
    "        ax2.plot(spec.spectral_axis, cont_norm_spec.flux,'k-')  \n",
    "        ax2.set_title(\"Equivalent width\")  \n",
    "        ax2.grid(True)  \n",
    "        ax2.legend()\n",
    "        ax2.axvline(wlminline,color='r')\n",
    "        ax2.axvline(wlmaxline,color=\"r\")\n",
    "        ax2.axvline(wlmin,color='g')\n",
    "        ax2.axvline(wlmax,color=\"g\")\n",
    "        ax2.set_ylim(0,2)\n",
    "        ax2.text(0.05, 0.95, eqw_str, transform=ax2.transAxes, fontsize=12,verticalalignment='top', bbox=props)\n",
    "        \n",
    "    return eqw1.value,eqw2.value     "
   ]
  },
  {
   "cell_type": "code",
   "execution_count": null,
   "metadata": {},
   "outputs": [],
   "source": [
    "def ComputeEquivWidth_bootstrap(spec,specerr,wlmin,wlmax,wlminline,wlmaxline,NN=20,flag_plot=True,ax1=None,ax2=None):\n",
    "    \"\"\"\n",
    "    \n",
    "    ComputeEquivWidth_bootstrap(spec,specerr,wlmin,wlmax,wlminline,wlmaxline)\n",
    "    \n",
    "    - input :\n",
    "    \n",
    "    \n",
    "    - output :\n",
    "    \n",
    "    \"\"\"\n",
    "    \n",
    "    # region used to fit bacgroud        \n",
    "    sub_region = SpectralRegion(wlmin , wlmax)\n",
    "    # line region to remove background\n",
    "    line_region = SpectralRegion(wlminline , wlmaxline)\n",
    "         \n",
    "    \n",
    "    # region used to fit bacgroud        \n",
    "    sub_region = SpectralRegion(wlmin , wlmax)\n",
    "    # line region to remove background\n",
    "    line_region = SpectralRegion(wlminline , wlmaxline)\n",
    "    \n",
    "    # region where one extract the spectrum\n",
    "    sub_spectrum = extract_region(spec, sub_region)\n",
    "    \n",
    "    # initialisaition of linear model\n",
    "    g_init = models.Linear1D(slope=0,intercept=1e-12)\n",
    "    \n",
    "    # fit on sub-spectrum\n",
    "    g1_fit = fit_generic_continuum(sub_spectrum,model=g_init,exclude_regions=[line_region])\n",
    "    # fit by keeping the whole spectrum , but fitting on hte relevant part of the spectrum\n",
    "    g2_fit = fit_continuum(spec,model=g_init,window=sub_region,exclude_regions=[line_region])\n",
    "    \n",
    "    \n",
    "    y_continuum_fitted1 = g1_fit(sub_spectrum.spectral_axis)\n",
    "    y_continuum_fitted2 = g2_fit(spec.spectral_axis)\n",
    "    \n",
    "    # normalize the spectrum\n",
    "    cont_norm_spec = spec/ y_continuum_fitted2 \n",
    "       \n",
    "    eqw10=equivalent_width(cont_norm_spec, regions=line_region).value \n",
    "    eqw20=equivalent_width(cont_norm_spec, regions=sub_region).value \n",
    "       \n",
    "    # Bootstrap\n",
    "    \n",
    "    \n",
    "    eqw1_set=np.zeros(NN)\n",
    "    eqw2_set=np.zeros(NN)\n",
    "    size=len(specerr.flux)\n",
    "    \n",
    "    # loop on trials \n",
    "    for idx in np.arange(NN):\n",
    "        \n",
    "        # random generator for errors\n",
    "        s = np.random.normal(0, 1, size)\n",
    "        \n",
    "        # new flux\n",
    "        newspec = Spectrum1D(spectral_axis=spec.spectral_axis, flux=spec.flux+specerr.flux*s)\n",
    "              \n",
    "    \n",
    "        # region where one extract the spectrum\n",
    "        sub_spectrum = extract_region(newspec, sub_region)\n",
    "    \n",
    "        # initialisaition of linear model\n",
    "        g_init = models.Linear1D(slope=0,intercept=1e-12)\n",
    "    \n",
    "        # fit on sub-spectrum\n",
    "        g1_fit = fit_generic_continuum(sub_spectrum,model=g_init,exclude_regions=[line_region])\n",
    "        # fit by keeping the whole spectrum , but fitting on hte relevant part of the spectrum\n",
    "        g2_fit = fit_continuum(newspec,model=g_init,window=sub_region,exclude_regions=[line_region])\n",
    "    \n",
    "    \n",
    "        y_continuum_fitted1 = g1_fit(sub_spectrum.spectral_axis)\n",
    "        y_continuum_fitted2 = g2_fit(newspec.spectral_axis)\n",
    "    \n",
    "        # normalize the spectrum\n",
    "        cont_norm_spec = newspec/ y_continuum_fitted2 \n",
    "    \n",
    "    \n",
    "        eqw1=equivalent_width(cont_norm_spec, regions=line_region) \n",
    "        eqw2=equivalent_width(cont_norm_spec, regions=sub_region) \n",
    "        \n",
    "        \n",
    "        eqw1_set[idx]=eqw1.value\n",
    "        eqw2_set[idx]=eqw2.value\n",
    "        \n",
    "     \n",
    "    eqw1_std=eqw1_set.std()\n",
    "    eqw2_std=eqw2_set.std()\n",
    "    \n",
    "    \n",
    "    if flag_plot:\n",
    "        \n",
    "        YMIN=spec.flux.min()\n",
    "        YMAX=1.2*spec.flux.max()\n",
    "        \n",
    "        eqw_str1=\"$Eqw_1$ = {:2.2f} $\\pm$ {:2.2f} $\\AA$ \".format(eqw10,eqw1_std)\n",
    "        eqw_str2=\"$Eqw_2$ = {:2.2f} $\\pm$ {:2.2f} $\\AA$ \".format(eqw20,eqw2_std)\n",
    "    \n",
    "    \n",
    "        eqw_str='\\n'.join((\n",
    "        r'{}'.format(eqw_str1),\n",
    "        r'{}'.format(eqw_str2)))\n",
    "        \n",
    "        if ax1==None: \n",
    "            f, ax1 = plt.subplots(figsize=(8,4))\n",
    "            \n",
    "        ax1.plot(spec.spectral_axis, spec.flux,'k-')  \n",
    "        ax1.plot(sub_spectrum.spectral_axis, y_continuum_fitted1,'r-.',label=\"fit region\")  \n",
    "        ax1.plot(spec.spectral_axis, y_continuum_fitted2,'b:',label=\"extrapolated fit continuum\")  \n",
    "        ax1.set_title(\"Local continuum fitting\")  \n",
    "        ax1.grid(True)  \n",
    "        ax1.legend()\n",
    "        ax1.axvline(wlminline,color='r')\n",
    "        ax1.axvline(wlmaxline,color=\"r\")\n",
    "        ax1.axvline(wlmin,color='g')\n",
    "        ax1.axvline(wlmax,color=\"g\")\n",
    "        ax1.set_ylim(YMIN,YMAX)\n",
    "        \n",
    "        \n",
    "        if ax2==None:\n",
    "            f, ax2 = plt.subplots(figsize=(8,4)) \n",
    "            \n",
    "            \n",
    "        ax2.plot(spec.spectral_axis, cont_norm_spec.flux,'k-')  \n",
    "        ax2.set_title(\"Equivalent width\")  \n",
    "        ax2.grid(True)  \n",
    "        ax2.legend()\n",
    "        ax2.axvline(wlminline,color='r')\n",
    "        ax2.axvline(wlmaxline,color=\"r\")\n",
    "        ax2.axvline(wlmin,color='g')\n",
    "        ax2.axvline(wlmax,color=\"g\")\n",
    "        ax2.set_ylim(0,2)\n",
    "        ax2.text(0.05, 0.95, eqw_str, transform=ax2.transAxes, fontsize=12,verticalalignment='top', bbox=props)\n",
    "               \n",
    "        \n",
    "    return eqw10,eqw20,eqw1_set,eqw2_set     "
   ]
  },
  {
   "cell_type": "markdown",
   "metadata": {},
   "source": [
    "### The original spectrum"
   ]
  },
  {
   "cell_type": "markdown",
   "metadata": {},
   "source": [
    "#### O2 line"
   ]
  },
  {
   "cell_type": "code",
   "execution_count": null,
   "metadata": {},
   "outputs": [],
   "source": [
    "wlmin=10*(O2_1.wavelength-30)*u.AA\n",
    "wlmax=10*(O2_1.wavelength+30)*u.AA\n",
    "wlminline=10*(O2_1.wavelength-10)*u.AA\n",
    "wlmaxline=10*(O2_1.wavelength+10)*u.AA"
   ]
  },
  {
   "cell_type": "code",
   "execution_count": null,
   "metadata": {},
   "outputs": [],
   "source": [
    "fig=plt.figure(figsize=(16,4))\n",
    "ax1 = fig.add_subplot(1, 2, 1)\n",
    "ax2 = fig.add_subplot(1, 2, 2)\n",
    "eq1,eq2=ComputeEquivWidth(spec,wlmin,wlmax,wlminline,wlmaxline,flag_plot=True,ax1=ax1,ax2=ax2)\n",
    "plt.suptitle(thetitle)"
   ]
  },
  {
   "cell_type": "code",
   "execution_count": null,
   "metadata": {},
   "outputs": [],
   "source": [
    "fig=plt.figure(figsize=(16,4))\n",
    "ax1 = fig.add_subplot(1, 2, 1)\n",
    "ax2 = fig.add_subplot(1, 2, 2)\n",
    "eqw10,eqw20,eq1_set,eq2_set=ComputeEquivWidth_bootstrap(spec,specerr,wlmin,wlmax,wlminline,wlmaxline,NN=30,flag_plot=True,ax1=ax1,ax2=ax2)\n",
    "plt.suptitle(thetitle)"
   ]
  },
  {
   "cell_type": "code",
   "execution_count": null,
   "metadata": {},
   "outputs": [],
   "source": [
    "fig=plt.figure(figsize=(16,4))\n",
    "ax1 = fig.add_subplot(1, 2, 1)\n",
    "ax1.hist(eq1_set,bins=50,histtype='step',color='b');\n",
    "ax1.axvline(eqw10,color='r')\n",
    "ax2 = fig.add_subplot(1, 2, 2)\n",
    "ax2.hist(eq2_set,bins=50,histtype='step',color=\"b\");\n",
    "ax2.axvline(eqw20,color='r')\n",
    "plt.suptitle(thetitle)"
   ]
  },
  {
   "cell_type": "markdown",
   "metadata": {},
   "source": [
    "### H2O line"
   ]
  },
  {
   "cell_type": "code",
   "execution_count": null,
   "metadata": {},
   "outputs": [],
   "source": [
    "wlmin=10*(H2O_1.wavelength-30)*u.AA\n",
    "wlmax=10*(H2O_2.wavelength+30)*u.AA\n",
    "wlminline=10*(H2O_1.wavelength-12)*u.AA\n",
    "wlmaxline=10*(H2O_2.wavelength+10)*u.AA"
   ]
  },
  {
   "cell_type": "code",
   "execution_count": null,
   "metadata": {},
   "outputs": [],
   "source": [
    "lamb = 10*s.lambdas * u.AA \n",
    "flux = s.data * u.Unit('erg cm-2 s-1 AA-1')/10. \n",
    "fluxerr = s.err * u.Unit('erg cm-2 s-1 AA-1')/10. \n",
    "spec = Spectrum1D(spectral_axis=lamb, flux=flux)\n",
    "specerr = Spectrum1D(spectral_axis=lamb, flux=fluxerr)"
   ]
  },
  {
   "cell_type": "code",
   "execution_count": null,
   "metadata": {},
   "outputs": [],
   "source": [
    "fig=plt.figure(figsize=(16,4))\n",
    "ax1 = fig.add_subplot(1, 2, 1)\n",
    "ax2 = fig.add_subplot(1, 2, 2)\n",
    "ComputeEquivWidth(spec,wlmin,wlmax,wlminline,wlmaxline,flag_plot=True,ax1=ax1,ax2=ax2)\n",
    "plt.suptitle(thetitle)"
   ]
  },
  {
   "cell_type": "code",
   "execution_count": null,
   "metadata": {},
   "outputs": [],
   "source": [
    "fig=plt.figure(figsize=(16,4))\n",
    "ax1 = fig.add_subplot(1, 2, 1)\n",
    "ax2 = fig.add_subplot(1, 2, 2)\n",
    "eqw10,eqw20,eq1_set,eq2_set=ComputeEquivWidth_bootstrap(spec,specerr,wlmin,wlmax,wlminline,wlmaxline,NN=30,flag_plot=True,ax1=ax1,ax2=ax2)\n",
    "plt.suptitle(thetitle)"
   ]
  },
  {
   "cell_type": "code",
   "execution_count": null,
   "metadata": {},
   "outputs": [],
   "source": [
    "fig=plt.figure(figsize=(16,4))\n",
    "ax1 = fig.add_subplot(1, 2, 1)\n",
    "ax1.hist(eq1_set,bins=50,histtype='step',color='b');\n",
    "ax1.axvline(eqw10,color='r')\n",
    "ax2 = fig.add_subplot(1, 2, 2)\n",
    "ax2.hist(eq2_set,bins=50,histtype='step',color='b');\n",
    "ax2.axvline(eqw20,color='r')\n",
    "plt.suptitle(thetitle)"
   ]
  },
  {
   "cell_type": "markdown",
   "metadata": {},
   "source": [
    "# Loop on spectra with Spectractor"
   ]
  },
  {
   "cell_type": "code",
   "execution_count": null,
   "metadata": {},
   "outputs": [],
   "source": [
    "WLMIN=300\n",
    "WLMAX=1000\n",
    "lambdas = np.arange(WLMIN,WLMAX,1)\n",
    "fwhm_func = interp1d(lambdas, 0.01 * lambdas)\n",
    "parameters.DISPLAY=False\n",
    "\n",
    "\n",
    "for IDXSEL in np.arange(0,7):\n",
    "    filename_SEL=all_good_spectra_spectrum_files[IDXSEL]\n",
    "    filename_spectrogram_SEL=filename_SEL.replace(\"_spectrum\",\"_spectrogram\")\n",
    "    fullfilename_SEL = os.path.join(dir_spectra,filename_SEL)\n",
    "    fullfilename_spectrogram_SEL = fullfilename_SEL.replace(\"_spectrum\",\"_spectrogram\")\n",
    "    \n",
    "    # load the spectrum\n",
    "    s=Spectrum(fullfilename_SEL, config=config)\n",
    "    s.load_spectrogram(fullfilename_spectrogram_SEL) \n",
    "    \n",
    "    #wlidx=np.where(np.logical_and( s.lambdas>=WLMIN, s.lambdas<=WLMAX))[0]\n",
    "    #print(wlidx)\n",
    "    #wl=s.lambdas[wlidx]\n",
    "    \n",
    "    #specify the lines  \n",
    "    lines = Lines([O2_1,H2O_1,H2O_2],atmospheric_lines=True, redshift=0, emission_spectrum=False)\n",
    "    s.lines = lines\n",
    "    \n",
    "    global_chisq = detect_lines(lines, s.lambdas, s.data, s.err, fwhm_func=fwhm_func)\n",
    "    \n",
    "    print(IDXSEL,\") \",filename_SEL)\n",
    "    thetitle=str(IDXSEL)+\") \"+filename_SEL\n",
    "    \n",
    "    fig = plt.figure(figsize=(10,5))\n",
    "    plot_spectrum_simple(plt.gca(), s.lambdas, s.data, s.err)\n",
    "    lines.plot_detected_lines(plt.gca())\n",
    "    plt.title(thetitle)\n",
    "    plt.show()\n",
    "    \n",
    "    print(lines.print_detected_lines())\n",
    "    print(lines.print_detected_lines()[0][\"Eqwidth_data\"])\n",
    "    df_infos.at[IDXSEL,\"eqw_o2_spec\"] = lines.print_detected_lines()[0][\"Eqwidth_data\"]*10.\n",
    "    \n",
    "    "
   ]
  },
  {
   "cell_type": "code",
   "execution_count": null,
   "metadata": {},
   "outputs": [],
   "source": [
    "print(lines.print_detected_lines())"
   ]
  },
  {
   "cell_type": "code",
   "execution_count": null,
   "metadata": {},
   "outputs": [],
   "source": [
    "type(lines.print_detected_lines())"
   ]
  },
  {
   "cell_type": "code",
   "execution_count": null,
   "metadata": {},
   "outputs": [],
   "source": [
    "print(lines.print_detected_lines()[0][\"Eqwidth_data\"])"
   ]
  },
  {
   "cell_type": "code",
   "execution_count": null,
   "metadata": {},
   "outputs": [],
   "source": [
    "df_infos"
   ]
  },
  {
   "cell_type": "markdown",
   "metadata": {},
   "source": [
    "# Loop on spectrum, compute O2 line equivalent width with specutils "
   ]
  },
  {
   "cell_type": "code",
   "execution_count": null,
   "metadata": {},
   "outputs": [],
   "source": [
    "WLMIN=300\n",
    "WLMAX=1000\n",
    "lambdas = np.arange(WLMIN,WLMAX,1)\n",
    "fwhm_func = interp1d(lambdas, 0.01 * lambdas)\n",
    "parameters.DISPLAY=False\n",
    "\n",
    "\n",
    "for IDXSEL in np.arange(0,8):\n",
    "\n",
    "    \n",
    "    \n",
    "    filename_SEL=all_good_spectra_spectrum_files[IDXSEL]\n",
    "    filename_spectrogram_SEL=filename_SEL.replace(\"_spectrum\",\"_spectrogram\")\n",
    "    fullfilename_SEL = os.path.join(dir_spectra,filename_SEL)\n",
    "    fullfilename_spectrogram_SEL = fullfilename_SEL.replace(\"_spectrum\",\"_spectrogram\")\n",
    "    \n",
    "    # load the spectrum\n",
    "    \n",
    "    print(IDXSEL,\") \",filename_SEL)\n",
    "    \n",
    "    s=Spectrum(fullfilename_SEL, config=config)\n",
    "    s.load_spectrogram(fullfilename_spectrogram_SEL) \n",
    "    \n",
    "    \n",
    "    lamb = 10*s.lambdas * u.AA \n",
    "    flux = s.data * u.Unit('erg cm-2 s-1 AA-1')/10 \n",
    "    spec = Spectrum1D(spectral_axis=lamb, flux=flux) \n",
    "    fluxerr = s.err * u.Unit('erg cm-2 s-1 AA-1')/10. \n",
    "    specerr = Spectrum1D(spectral_axis=lamb, flux=fluxerr)\n",
    "    \n",
    "    # O2 line\n",
    "    wlmin=10*(O2_1.wavelength-30)*u.AA\n",
    "    wlmax=10*(O2_1.wavelength+30)*u.AA\n",
    "    wlminline=10*(O2_1.wavelength-10)*u.AA\n",
    "    wlmaxline=10*(O2_1.wavelength+10)*u.AA\n",
    "    \n",
    "    \n",
    "    \n",
    "    fig=plt.figure(figsize=(16,4))\n",
    "    ax1 = fig.add_subplot(1, 2, 1)\n",
    "    ax2 = fig.add_subplot(1, 2, 2)\n",
    "    #eq1,eq2=ComputeEquivWidth(spec,wlmin,wlmax,wlminline,wlmaxline,flag_plot=True,ax1=ax1,ax2=ax2)\n",
    "    eqw10,eqw20,eq1_set,eq2_set=ComputeEquivWidth_bootstrap(spec,specerr,wlmin,wlmax,wlminline,wlmaxline,NN=20,flag_plot=True,ax1=ax1,ax2=ax2)\n",
    "    thetitle=str(IDXSEL)+\") \"+filename_SEL\n",
    "    plt.suptitle(thetitle,y=1.01)\n",
    "    plt.show() \n",
    "    \n",
    "    print(IDXSEL,\") eqw_O2=\",eqw10)\n",
    "    \n",
    "    df_infos.at[IDXSEL,\"eqw_o2\"] =  eqw10"
   ]
  },
  {
   "cell_type": "markdown",
   "metadata": {},
   "source": [
    "# Loop on spectrum, compute H2O line equivalent width with specutils "
   ]
  },
  {
   "cell_type": "code",
   "execution_count": null,
   "metadata": {},
   "outputs": [],
   "source": [
    "WLMIN=300\n",
    "WLMAX=1000\n",
    "lambdas = np.arange(WLMIN,WLMAX,1)\n",
    "fwhm_func = interp1d(lambdas, 0.01 * lambdas)\n",
    "parameters.DISPLAY=False\n",
    "\n",
    "\n",
    "for IDXSEL in np.arange(0,8):\n",
    "    filename_SEL=all_good_spectra_spectrum_files[IDXSEL]\n",
    "    filename_spectrogram_SEL=filename_SEL.replace(\"_spectrum\",\"_spectrogram\")\n",
    "    fullfilename_SEL = os.path.join(dir_spectra,filename_SEL)\n",
    "    fullfilename_spectrogram_SEL = fullfilename_SEL.replace(\"_spectrum\",\"_spectrogram\")\n",
    "    \n",
    "    # load the spectrum\n",
    "    s=Spectrum(fullfilename_SEL, config=config)\n",
    "    s.load_spectrogram(fullfilename_spectrogram_SEL) \n",
    "    \n",
    "    \n",
    "    lamb = 10*s.lambdas * u.AA \n",
    "    flux = s.data * u.Unit('erg cm-2 s-1 AA-1')/10 \n",
    "    spec = Spectrum1D(spectral_axis=lamb, flux=flux) \n",
    "    fluxerr = s.err * u.Unit('erg cm-2 s-1 AA-1')/10. \n",
    "    specerr = Spectrum1D(spectral_axis=lamb, flux=fluxerr)\n",
    "    \n",
    "    # H2O line\n",
    "    \n",
    "    wlmin=10*(H2O_1.wavelength-30)*u.AA\n",
    "    wlmax=10*(H2O_2.wavelength+30)*u.AA\n",
    "    wlminline=10*(H2O_1.wavelength-12)*u.AA\n",
    "    wlmaxline=10*(H2O_2.wavelength+10)*u.AA\n",
    "    \n",
    "    \n",
    "    fig=plt.figure(figsize=(16,4))\n",
    "    ax1 = fig.add_subplot(1, 2, 1)\n",
    "    ax2 = fig.add_subplot(1, 2, 2)\n",
    "    eqw1,eqw2=ComputeEquivWidth(spec,wlmin,wlmax,wlminline,wlmaxline,flag_plot=True,ax1=ax1,ax2=ax2)\n",
    "    #eqw10,eqw20,eq1_set,eq2_set=ComputeEquivWidth_bootstrap(spec,specerr,wlmin,wlmax,wlminline,wlmaxline,NN=20,flag_plot=True,ax1=ax1,ax2=ax2)\n",
    "    thetitle=str(IDXSEL)+\") \"+filename_SEL\n",
    "    plt.suptitle(thetitle,y=1.01)\n",
    "    plt.show() \n",
    "    \n",
    "    print(IDXSEL,\") eqw_O2=\",eqw1)\n",
    "    \n",
    "    df_infos.at[IDXSEL,\"eqw_h2o\"] =  eqw1"
   ]
  },
  {
   "cell_type": "code",
   "execution_count": null,
   "metadata": {},
   "outputs": [],
   "source": [
    "df_infos"
   ]
  },
  {
   "cell_type": "code",
   "execution_count": null,
   "metadata": {},
   "outputs": [],
   "source": [
    "df_infos.to_csv(\"eqw.csv\")"
   ]
  },
  {
   "cell_type": "code",
   "execution_count": null,
   "metadata": {},
   "outputs": [],
   "source": [
    "fig=plt.figure(figsize=(16,4))\n",
    "#plt.xticks(rotation=90)\n",
    "ax = fig.add_subplot(1, 1, 1)\n",
    "ax.plot(df_infos['date_obs'], df_infos['eqw_o2'],marker=\"o\",color=\"red\",label=\"$eqw(O_2)$\");\n",
    "ax.plot(df_infos['date_obs'], df_infos['eqw_h2o'],marker=\"o\",color=\"blue\",label=\"$eqw(H_2O)$\");\n",
    "#ax.set_xticks(rotation='vertical');\n",
    "ax.xaxis.set_tick_params(rotation=90)\n",
    "ax.legend(loc=\"upper right\")\n",
    "ax.set_ylabel(\"Equivalent Width $\\AA$\")\n",
    "ax2 = ax.twinx()\n",
    "ax2.plot(df_infos['date_obs'], df_infos['airmass'],linestyle='dotted', marker='.',color=\"green\",label=\"airmass\")\n",
    "ax2.set_ylim(1,1.5)\n",
    "ax2.legend(loc=\"upper left\")\n",
    "ax2.set_ylabel(\"airmass\")\n",
    "ax.set_title(\"Equivalent Widths vs date\")"
   ]
  },
  {
   "cell_type": "code",
   "execution_count": null,
   "metadata": {},
   "outputs": [],
   "source": [
    "fig=plt.figure(figsize=(16,5))\n",
    "#plt.xticks(rotation=90)\n",
    "ax = fig.add_subplot(1, 1, 1)\n",
    "df_infos.plot(ax=ax,x=\"date_obs\", y=[\"eqw_o2\",\"eqw_h2o\"],color=[\"r\",\"b\"],marker=\"o\");\n",
    "#plt.gcf().autofmt_xdate(rotation=90) \n",
    "ax.xaxis.set_tick_params(rotation=90)\n",
    "ax.legend(loc=\"upper right\")\n",
    "ax.set_ylabel(\"Equivalent Width $\\AA$\")\n",
    "ax.set_yscale(\"log\")\n",
    "\n",
    "ax2 = ax.twinx()\n",
    "df_infos.plot(ax=ax2,x=\"date_obs\", y=\"airmass\",color=[\"g\"],marker=\"o\",lw=0);\n",
    "ax2.legend(loc=\"upper left\")\n",
    "ax2.set_ylabel(\"airmass\")\n",
    "ax2.set_ylim(1,2)\n",
    "ax2.xaxis.set_tick_params(rotation=90)\n",
    "ax.set_title(\"Equivalent Widths vs date\")\n"
   ]
  },
  {
   "cell_type": "code",
   "execution_count": null,
   "metadata": {},
   "outputs": [],
   "source": [
    "fig=plt.figure(figsize=(16,4))\n",
    "#plt.xticks(rotation=90)\n",
    "ax = fig.add_subplot(1, 1, 1)\n",
    "ax.plot(df_infos['reftime'], df_infos['eqw_o2'],marker=\"o\",color=\"red\",label=\"$eqw(O_2)$\");\n",
    "ax.plot(df_infos['reftime'], df_infos['eqw_h2o'],marker=\"o\",color=\"blue\",label=\"$eqw(H_2O)$\");\n",
    "#ax.set_xticks(rotation='vertical');\n",
    "#ax.xaxis.set_tick_params(rotation=90)\n",
    "ax.set_xlabel(\"number of hours\")\n",
    "ax.legend(loc=\"upper right\")\n",
    "ax.set_ylabel(\"Equivalent Width $\\AA$\")\n",
    "ax2 = ax.twinx()\n",
    "ax2.plot(df_infos['reftime'], df_infos['airmass'],linestyle='dotted', marker='.',color=\"green\",label=\"airmass\",lw=0)\n",
    "ax2.set_ylim(1,1.5)\n",
    "ax2.legend(loc=\"upper left\")\n",
    "ax2.set_ylabel(\"airmass\")\n",
    "ax.set_title(\"Equivalent Widths vs date\")"
   ]
  },
  {
   "cell_type": "code",
   "execution_count": null,
   "metadata": {},
   "outputs": [],
   "source": []
  }
 ],
 "metadata": {
  "kernelspec": {
   "display_name": "Python 3",
   "language": "python",
   "name": "python3"
  },
  "language_info": {
   "codemirror_mode": {
    "name": "ipython",
    "version": 3
   },
   "file_extension": ".py",
   "mimetype": "text/x-python",
   "name": "python",
   "nbconvert_exporter": "python",
   "pygments_lexer": "ipython3",
   "version": "3.8.8"
  },
  "toc": {
   "base_numbering": 1,
   "nav_menu": {},
   "number_sections": true,
   "sideBar": true,
   "skip_h1_title": false,
   "title_cell": "Table of Contents",
   "title_sidebar": "Contents",
   "toc_cell": false,
   "toc_position": {},
   "toc_section_display": true,
   "toc_window_display": false
  }
 },
 "nbformat": 4,
 "nbformat_minor": 4
}
