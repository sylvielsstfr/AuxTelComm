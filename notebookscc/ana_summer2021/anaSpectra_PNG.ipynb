{
 "cells": [
  {
   "cell_type": "markdown",
   "metadata": {},
   "source": [
    "#  spectra at AuxTel for Planetary Nebula"
   ]
  },
  {
   "cell_type": "markdown",
   "metadata": {},
   "source": [
    "- author : Sylvie Dagoret-Campagne\n",
    "- affiliation : IJCLab/IN2P3/CNES, DESC-LSST fullmember, behalf AuxTel Teal VERA C. Rubin observatory\n",
    "- creation date : September 22th  2021\n",
    "\n",
    "\n",
    "\n",
    "- **kernel anaconda3_auxtel**"
   ]
  },
  {
   "cell_type": "markdown",
   "metadata": {},
   "source": [
    "# Imports"
   ]
  },
  {
   "cell_type": "code",
   "execution_count": 68,
   "metadata": {},
   "outputs": [],
   "source": [
    "import numpy as np\n",
    "import matplotlib.pyplot as plt\n",
    "%matplotlib inline\n",
    "from mpl_toolkits.axes_grid1 import make_axes_locatable\n",
    "from matplotlib.colors import LogNorm\n",
    "import pandas as pd\n",
    "\n",
    "import matplotlib.ticker                         # here's where the formatter is\n",
    "import os\n",
    "import re\n",
    "import pandas as pd\n",
    "\n",
    "plt.rcParams[\"figure.figsize\"] = (16,4)\n",
    "plt.rcParams[\"axes.labelsize\"] = 'xx-large'\n",
    "plt.rcParams['axes.titlesize'] = 'xx-large'\n",
    "plt.rcParams['xtick.labelsize']= 'xx-large'\n",
    "plt.rcParams['ytick.labelsize']= 'xx-large'"
   ]
  },
  {
   "cell_type": "code",
   "execution_count": 69,
   "metadata": {},
   "outputs": [
    {
     "data": {
      "image/png": "[encoded data removed]",
      "text/plain": [
       "<Figure size 360x360 with 1 Axes>"
      ]
     },
     "metadata": {
      "needs_background": "light"
     },
     "output_type": "display_data"
    }
   ],
   "source": [
    "fig=plt.figure(figsize=(5,5))\n",
    "ax=fig.add_subplot(1,1,1)\n",
    "X=np.linspace(-10,10,50)\n",
    "Y=np.sin(X)\n",
    "ax.plot(X,Y)\n",
    "plt.show()               "
   ]
  },
  {
   "cell_type": "code",
   "execution_count": 70,
   "metadata": {},
   "outputs": [],
   "source": [
    "import matplotlib.offsetbox\n",
    "props = dict(boxstyle='round',edgecolor=\"w\",facecolor=\"w\", alpha=0.5)"
   ]
  },
  {
   "cell_type": "code",
   "execution_count": 71,
   "metadata": {},
   "outputs": [],
   "source": [
    "from datetime import datetime,date"
   ]
  },
  {
   "cell_type": "code",
   "execution_count": 72,
   "metadata": {},
   "outputs": [],
   "source": [
    "today = date.today()\n",
    "string_date=today.strftime(\"%Y-%m-%d\")"
   ]
  },
  {
   "cell_type": "code",
   "execution_count": 73,
   "metadata": {},
   "outputs": [
    {
     "data": {
      "text/plain": [
       "'2021-09-23'"
      ]
     },
     "execution_count": 73,
     "metadata": {},
     "output_type": "execute_result"
    }
   ],
   "source": [
    "string_date"
   ]
  },
  {
   "cell_type": "code",
   "execution_count": 74,
   "metadata": {},
   "outputs": [],
   "source": [
    "from iminuit import Minuit\n",
    "import iminuit"
   ]
  },
  {
   "cell_type": "code",
   "execution_count": 75,
   "metadata": {},
   "outputs": [
    {
     "data": {
      "text/plain": [
       "'2.2.0'"
      ]
     },
     "execution_count": 75,
     "metadata": {},
     "output_type": "execute_result"
    }
   ],
   "source": [
    "iminuit.__version__"
   ]
  },
  {
   "cell_type": "code",
   "execution_count": 76,
   "metadata": {},
   "outputs": [],
   "source": [
    "from astropy.io import fits\n",
    "from spectractor import parameters\n",
    "from spectractor.extractor.extractor import Spectractor\n",
    "from spectractor.extractor.spectrum import Spectrum, detect_lines\n",
    "from spectractor.extractor.spectrum import *\n",
    "#from spectractor.extractor.spectroscopy import Lines, Line ,HALPHA, HBETA, O2_1, H2O_1,H2O_2\n",
    "from spectractor.extractor.spectroscopy import Lines, Line ,HALPHA, HBETA, O2_1, H2O_1\n",
    "from spectractor.config import load_config\n",
    "from spectractor import parameters\n",
    "from spectractor.extractor.images import *\n",
    "from scipy import ndimage, misc\n",
    "from scipy.interpolate import interp1d"
   ]
  },
  {
   "cell_type": "code",
   "execution_count": 77,
   "metadata": {},
   "outputs": [],
   "source": [
    "H2O_2 = Line(960, atmospheric=True, label=r'$H_2 O$', label_pos=[0.007, 0.02],width_bounds=[5, 30])  # libradtran paper fig.3, broad line"
   ]
  },
  {
   "cell_type": "code",
   "execution_count": 78,
   "metadata": {},
   "outputs": [],
   "source": [
    "import requests\n",
    "from requests.adapters import HTTPAdapter\n",
    "from requests.packages.urllib3.util.retry import Retry"
   ]
  },
  {
   "cell_type": "code",
   "execution_count": 79,
   "metadata": {},
   "outputs": [],
   "source": [
    "from time import sleep"
   ]
  },
  {
   "cell_type": "code",
   "execution_count": 80,
   "metadata": {},
   "outputs": [],
   "source": [
    "from astropy.time import Time\n",
    "import astropy.units as u"
   ]
  },
  {
   "cell_type": "markdown",
   "metadata": {},
   "source": [
    "# Function"
   ]
  },
  {
   "cell_type": "code",
   "execution_count": 81,
   "metadata": {},
   "outputs": [],
   "source": [
    "def file_target(filename):\n",
    "    m=re.findall('^holo4_003_.*_(.*)_[0-9][0-9][0-9][0-9]-[0-9][0-9]-[0-9][0-9]_.*_quickLoopExp[.]fits$',filename)\n",
    "    if len(m)>0:\n",
    "        return m\n",
    "    elif re.search('NGC4755',filename):\n",
    "        return ['NGC4755']\n",
    "    else:\n",
    "        return []"
   ]
  },
  {
   "cell_type": "markdown",
   "metadata": {},
   "source": [
    "# Path"
   ]
  },
  {
   "cell_type": "code",
   "execution_count": 82,
   "metadata": {},
   "outputs": [],
   "source": [
    "path_auxtel=\"/sps/lsst/groups/auxtel\"\n",
    "path_spectractor=os.path.join(path_auxtel,\"softs/github/desc/Spectractor\")\n",
    "path_spectractor_config=os.path.join(path_spectractor,\"config\")\n",
    "path_images=os.path.join(path_auxtel,\"data/2021/holo/quickLookExp/2021-09-09\")"
   ]
  },
  {
   "cell_type": "code",
   "execution_count": 83,
   "metadata": {},
   "outputs": [],
   "source": [
    "#config = os.path.join(path_spectractor_config,\"auxtel_quicklook.ini\")\n",
    "\n",
    "# standard configuration\n",
    "# config = os.path.join(path_spectractor_config,\"auxtel.ini\")\n",
    "# special for scan in XY (dispersion rotation angle)\n",
    "config=\"./config/auxtel_scanXY.ini\""
   ]
  },
  {
   "cell_type": "markdown",
   "metadata": {},
   "source": [
    "# Logbook for file selection"
   ]
  },
  {
   "cell_type": "code",
   "execution_count": 84,
   "metadata": {},
   "outputs": [
    {
     "name": "stdout",
     "output_type": "stream",
     "text": [
      "auxtelholologbook_2021_07_06_v2.0.csv\n",
      "auxtelholologbook_2021_07_06_v2.0.xlsx\n",
      "auxtelholologbook_2021_07_07_v3.0.csv\n",
      "auxtelholologbook_2021_07_07_v3.0.xlsx\n",
      "auxtelholologbook_PNG_2021_09_09_v2.0.csv\n",
      "auxtelholologbook_PNG_2021_09_09_v2.0.xlsx\n"
     ]
    }
   ],
   "source": [
    "! ls logbooks"
   ]
  },
  {
   "cell_type": "code",
   "execution_count": 85,
   "metadata": {},
   "outputs": [],
   "source": [
    "filename_logbook='logbooks/auxtelholologbook_PNG_2021_09_09_v2.0.csv'"
   ]
  },
  {
   "cell_type": "code",
   "execution_count": 86,
   "metadata": {},
   "outputs": [],
   "source": [
    "df=pd.read_csv(filename_logbook,index_col=0)"
   ]
  },
  {
   "cell_type": "code",
   "execution_count": 87,
   "metadata": {},
   "outputs": [],
   "source": [
    "pd.set_option('display.max_rows', None)"
   ]
  },
  {
   "cell_type": "code",
   "execution_count": 88,
   "metadata": {},
   "outputs": [
    {
     "data": {
      "text/html": [
       "<div>\n",
       "<style scoped>\n",
       "    .dataframe tbody tr th:only-of-type {\n",
       "        vertical-align: middle;\n",
       "    }\n",
       "\n",
       "    .dataframe tbody tr th {\n",
       "        vertical-align: top;\n",
       "    }\n",
       "\n",
       "    .dataframe thead th {\n",
       "        text-align: right;\n",
       "    }\n",
       "</style>\n",
       "<table border=\"1\" class=\"dataframe\">\n",
       "  <thead>\n",
       "    <tr style=\"text-align: right;\">\n",
       "      <th></th>\n",
       "      <th>index</th>\n",
       "      <th>date</th>\n",
       "      <th>path</th>\n",
       "      <th>file</th>\n",
       "      <th>num</th>\n",
       "      <th>object</th>\n",
       "      <th>filter</th>\n",
       "      <th>disperser</th>\n",
       "      <th>airmass</th>\n",
       "      <th>exposure</th>\n",
       "      <th>...</th>\n",
       "      <th>temperature</th>\n",
       "      <th>humidity</th>\n",
       "      <th>windspd</th>\n",
       "      <th>Obj-posXpix</th>\n",
       "      <th>Obj-posYpix</th>\n",
       "      <th>Dx</th>\n",
       "      <th>Dy</th>\n",
       "      <th>skip</th>\n",
       "      <th>run</th>\n",
       "      <th>quality</th>\n",
       "    </tr>\n",
       "  </thead>\n",
       "  <tbody>\n",
       "    <tr>\n",
       "      <th>0</th>\n",
       "      <td>0</td>\n",
       "      <td>2021-09-09T23:53:55.100</td>\n",
       "      <td>/sps/lsst/groups/auxtel/data/2021/holo/quickLo...</td>\n",
       "      <td>holo4_003_empty_PNG321.0+03.9_20210909_000165_...</td>\n",
       "      <td>165</td>\n",
       "      <td>PNG321.0+03.9</td>\n",
       "      <td>empty_1</td>\n",
       "      <td>holo4_003</td>\n",
       "      <td>1.380357</td>\n",
       "      <td>10.0</td>\n",
       "      <td>...</td>\n",
       "      <td>9.2</td>\n",
       "      <td>16.0</td>\n",
       "      <td>4.0</td>\n",
       "      <td>300.0</td>\n",
       "      <td>1750.0</td>\n",
       "      <td>NaN</td>\n",
       "      <td>NaN</td>\n",
       "      <td></td>\n",
       "      <td>1.0</td>\n",
       "      <td>1.0</td>\n",
       "    </tr>\n",
       "    <tr>\n",
       "      <th>1</th>\n",
       "      <td>1</td>\n",
       "      <td>2021-09-09T23:54:18.095</td>\n",
       "      <td>/sps/lsst/groups/auxtel/data/2021/holo/quickLo...</td>\n",
       "      <td>holo4_003_empty_PNG321.0+03.9_20210909_000166_...</td>\n",
       "      <td>166</td>\n",
       "      <td>PNG321.0+03.9</td>\n",
       "      <td>empty_1</td>\n",
       "      <td>holo4_003</td>\n",
       "      <td>1.381613</td>\n",
       "      <td>10.0</td>\n",
       "      <td>...</td>\n",
       "      <td>9.1</td>\n",
       "      <td>16.0</td>\n",
       "      <td>3.6</td>\n",
       "      <td>300.0</td>\n",
       "      <td>1750.0</td>\n",
       "      <td>NaN</td>\n",
       "      <td>NaN</td>\n",
       "      <td></td>\n",
       "      <td>1.0</td>\n",
       "      <td>1.0</td>\n",
       "    </tr>\n",
       "    <tr>\n",
       "      <th>2</th>\n",
       "      <td>2</td>\n",
       "      <td>2021-09-09T23:54:41.122</td>\n",
       "      <td>/sps/lsst/groups/auxtel/data/2021/holo/quickLo...</td>\n",
       "      <td>holo4_003_empty_PNG321.0+03.9_20210909_000167_...</td>\n",
       "      <td>167</td>\n",
       "      <td>PNG321.0+03.9</td>\n",
       "      <td>empty_1</td>\n",
       "      <td>holo4_003</td>\n",
       "      <td>1.382874</td>\n",
       "      <td>10.0</td>\n",
       "      <td>...</td>\n",
       "      <td>9.1</td>\n",
       "      <td>16.0</td>\n",
       "      <td>3.6</td>\n",
       "      <td>300.0</td>\n",
       "      <td>1750.0</td>\n",
       "      <td>NaN</td>\n",
       "      <td>NaN</td>\n",
       "      <td></td>\n",
       "      <td>1.0</td>\n",
       "      <td>1.0</td>\n",
       "    </tr>\n",
       "    <tr>\n",
       "      <th>3</th>\n",
       "      <td>3</td>\n",
       "      <td>2021-09-09T23:55:04.180</td>\n",
       "      <td>/sps/lsst/groups/auxtel/data/2021/holo/quickLo...</td>\n",
       "      <td>holo4_003_empty_PNG321.0+03.9_20210909_000168_...</td>\n",
       "      <td>168</td>\n",
       "      <td>PNG321.0+03.9</td>\n",
       "      <td>empty_1</td>\n",
       "      <td>holo4_003</td>\n",
       "      <td>1.384148</td>\n",
       "      <td>30.0</td>\n",
       "      <td>...</td>\n",
       "      <td>9.1</td>\n",
       "      <td>16.0</td>\n",
       "      <td>3.6</td>\n",
       "      <td>300.0</td>\n",
       "      <td>1750.0</td>\n",
       "      <td>NaN</td>\n",
       "      <td>NaN</td>\n",
       "      <td></td>\n",
       "      <td>1.0</td>\n",
       "      <td>1.0</td>\n",
       "    </tr>\n",
       "    <tr>\n",
       "      <th>4</th>\n",
       "      <td>4</td>\n",
       "      <td>2021-09-09T23:55:47.196</td>\n",
       "      <td>/sps/lsst/groups/auxtel/data/2021/holo/quickLo...</td>\n",
       "      <td>holo4_003_empty_PNG321.0+03.9_20210909_000169_...</td>\n",
       "      <td>169</td>\n",
       "      <td>PNG321.0+03.9</td>\n",
       "      <td>empty_1</td>\n",
       "      <td>holo4_003</td>\n",
       "      <td>1.386523</td>\n",
       "      <td>30.0</td>\n",
       "      <td>...</td>\n",
       "      <td>9.0</td>\n",
       "      <td>17.0</td>\n",
       "      <td>3.1</td>\n",
       "      <td>300.0</td>\n",
       "      <td>1750.0</td>\n",
       "      <td>NaN</td>\n",
       "      <td>NaN</td>\n",
       "      <td></td>\n",
       "      <td>1.0</td>\n",
       "      <td>1.0</td>\n",
       "    </tr>\n",
       "    <tr>\n",
       "      <th>5</th>\n",
       "      <td>5</td>\n",
       "      <td>2021-09-09T23:56:30.224</td>\n",
       "      <td>/sps/lsst/groups/auxtel/data/2021/holo/quickLo...</td>\n",
       "      <td>holo4_003_empty_PNG321.0+03.9_20210909_000170_...</td>\n",
       "      <td>170</td>\n",
       "      <td>PNG321.0+03.9</td>\n",
       "      <td>empty_1</td>\n",
       "      <td>holo4_003</td>\n",
       "      <td>1.388908</td>\n",
       "      <td>30.0</td>\n",
       "      <td>...</td>\n",
       "      <td>9.0</td>\n",
       "      <td>16.0</td>\n",
       "      <td>3.9</td>\n",
       "      <td>300.0</td>\n",
       "      <td>1750.0</td>\n",
       "      <td>NaN</td>\n",
       "      <td>NaN</td>\n",
       "      <td></td>\n",
       "      <td>1.0</td>\n",
       "      <td>1.0</td>\n",
       "    </tr>\n",
       "    <tr>\n",
       "      <th>6</th>\n",
       "      <td>6</td>\n",
       "      <td>2021-09-09T23:57:13.142</td>\n",
       "      <td>/sps/lsst/groups/auxtel/data/2021/holo/quickLo...</td>\n",
       "      <td>holo4_003_empty_PNG321.0+03.9_20210909_000171_...</td>\n",
       "      <td>171</td>\n",
       "      <td>PNG321.0+03.9</td>\n",
       "      <td>empty_1</td>\n",
       "      <td>holo4_003</td>\n",
       "      <td>1.391300</td>\n",
       "      <td>60.0</td>\n",
       "      <td>...</td>\n",
       "      <td>9.0</td>\n",
       "      <td>16.0</td>\n",
       "      <td>3.9</td>\n",
       "      <td>300.0</td>\n",
       "      <td>1750.0</td>\n",
       "      <td>NaN</td>\n",
       "      <td>NaN</td>\n",
       "      <td></td>\n",
       "      <td>1.0</td>\n",
       "      <td>1.0</td>\n",
       "    </tr>\n",
       "    <tr>\n",
       "      <th>7</th>\n",
       "      <td>7</td>\n",
       "      <td>2021-09-10T00:04:18.230</td>\n",
       "      <td>/sps/lsst/groups/auxtel/data/2021/holo/quickLo...</td>\n",
       "      <td>holo4_003_empty_PNG321.0+03.9_20210909_000174_...</td>\n",
       "      <td>174</td>\n",
       "      <td>PNG321.0+03.9</td>\n",
       "      <td>empty_1</td>\n",
       "      <td>holo4_003</td>\n",
       "      <td>1.415803</td>\n",
       "      <td>0.0</td>\n",
       "      <td>...</td>\n",
       "      <td>8.9</td>\n",
       "      <td>15.0</td>\n",
       "      <td>3.7</td>\n",
       "      <td>300.0</td>\n",
       "      <td>1750.0</td>\n",
       "      <td>NaN</td>\n",
       "      <td>NaN</td>\n",
       "      <td></td>\n",
       "      <td>1.0</td>\n",
       "      <td>1.0</td>\n",
       "    </tr>\n",
       "    <tr>\n",
       "      <th>8</th>\n",
       "      <td>8</td>\n",
       "      <td>2021-09-10T00:06:01.239</td>\n",
       "      <td>/sps/lsst/groups/auxtel/data/2021/holo/quickLo...</td>\n",
       "      <td>holo4_003_empty_PNG321.0+03.9_20210909_000175_...</td>\n",
       "      <td>175</td>\n",
       "      <td>PNG321.0+03.9</td>\n",
       "      <td>empty_1</td>\n",
       "      <td>holo4_003</td>\n",
       "      <td>1.421962</td>\n",
       "      <td>60.0</td>\n",
       "      <td>...</td>\n",
       "      <td>8.9</td>\n",
       "      <td>15.0</td>\n",
       "      <td>3.8</td>\n",
       "      <td>300.0</td>\n",
       "      <td>1750.0</td>\n",
       "      <td>NaN</td>\n",
       "      <td>NaN</td>\n",
       "      <td></td>\n",
       "      <td>1.0</td>\n",
       "      <td>1.0</td>\n",
       "    </tr>\n",
       "    <tr>\n",
       "      <th>9</th>\n",
       "      <td>9</td>\n",
       "      <td>2021-09-10T00:07:14.156</td>\n",
       "      <td>/sps/lsst/groups/auxtel/data/2021/holo/quickLo...</td>\n",
       "      <td>holo4_003_empty_PNG321.0+03.9_20210909_000176_...</td>\n",
       "      <td>176</td>\n",
       "      <td>PNG321.0+03.9</td>\n",
       "      <td>empty_1</td>\n",
       "      <td>holo4_003</td>\n",
       "      <td>1.426365</td>\n",
       "      <td>60.0</td>\n",
       "      <td>...</td>\n",
       "      <td>8.9</td>\n",
       "      <td>15.0</td>\n",
       "      <td>4.4</td>\n",
       "      <td>300.0</td>\n",
       "      <td>1750.0</td>\n",
       "      <td>NaN</td>\n",
       "      <td>NaN</td>\n",
       "      <td></td>\n",
       "      <td>1.0</td>\n",
       "      <td>1.0</td>\n",
       "    </tr>\n",
       "    <tr>\n",
       "      <th>10</th>\n",
       "      <td>10</td>\n",
       "      <td>2021-09-10T00:08:27.395</td>\n",
       "      <td>/sps/lsst/groups/auxtel/data/2021/holo/quickLo...</td>\n",
       "      <td>holo4_003_empty_PNG321.0+03.9_20210909_000177_...</td>\n",
       "      <td>177</td>\n",
       "      <td>PNG321.0+03.9</td>\n",
       "      <td>empty_1</td>\n",
       "      <td>holo4_003</td>\n",
       "      <td>1.430840</td>\n",
       "      <td>60.0</td>\n",
       "      <td>...</td>\n",
       "      <td>8.9</td>\n",
       "      <td>15.0</td>\n",
       "      <td>4.6</td>\n",
       "      <td>300.0</td>\n",
       "      <td>1750.0</td>\n",
       "      <td>NaN</td>\n",
       "      <td>NaN</td>\n",
       "      <td></td>\n",
       "      <td>1.0</td>\n",
       "      <td>1.0</td>\n",
       "    </tr>\n",
       "  </tbody>\n",
       "</table>\n",
       "<p>11 rows × 23 columns</p>\n",
       "</div>"
      ],
      "text/plain": [
       "    index                     date  \\\n",
       "0       0  2021-09-09T23:53:55.100   \n",
       "1       1  2021-09-09T23:54:18.095   \n",
       "2       2  2021-09-09T23:54:41.122   \n",
       "3       3  2021-09-09T23:55:04.180   \n",
       "4       4  2021-09-09T23:55:47.196   \n",
       "5       5  2021-09-09T23:56:30.224   \n",
       "6       6  2021-09-09T23:57:13.142   \n",
       "7       7  2021-09-10T00:04:18.230   \n",
       "8       8  2021-09-10T00:06:01.239   \n",
       "9       9  2021-09-10T00:07:14.156   \n",
       "10     10  2021-09-10T00:08:27.395   \n",
       "\n",
       "                                                 path  \\\n",
       "0   /sps/lsst/groups/auxtel/data/2021/holo/quickLo...   \n",
       "1   /sps/lsst/groups/auxtel/data/2021/holo/quickLo...   \n",
       "2   /sps/lsst/groups/auxtel/data/2021/holo/quickLo...   \n",
       "3   /sps/lsst/groups/auxtel/data/2021/holo/quickLo...   \n",
       "4   /sps/lsst/groups/auxtel/data/2021/holo/quickLo...   \n",
       "5   /sps/lsst/groups/auxtel/data/2021/holo/quickLo...   \n",
       "6   /sps/lsst/groups/auxtel/data/2021/holo/quickLo...   \n",
       "7   /sps/lsst/groups/auxtel/data/2021/holo/quickLo...   \n",
       "8   /sps/lsst/groups/auxtel/data/2021/holo/quickLo...   \n",
       "9   /sps/lsst/groups/auxtel/data/2021/holo/quickLo...   \n",
       "10  /sps/lsst/groups/auxtel/data/2021/holo/quickLo...   \n",
       "\n",
       "                                                 file  num         object  \\\n",
       "0   holo4_003_empty_PNG321.0+03.9_20210909_000165_...  165  PNG321.0+03.9   \n",
       "1   holo4_003_empty_PNG321.0+03.9_20210909_000166_...  166  PNG321.0+03.9   \n",
       "2   holo4_003_empty_PNG321.0+03.9_20210909_000167_...  167  PNG321.0+03.9   \n",
       "3   holo4_003_empty_PNG321.0+03.9_20210909_000168_...  168  PNG321.0+03.9   \n",
       "4   holo4_003_empty_PNG321.0+03.9_20210909_000169_...  169  PNG321.0+03.9   \n",
       "5   holo4_003_empty_PNG321.0+03.9_20210909_000170_...  170  PNG321.0+03.9   \n",
       "6   holo4_003_empty_PNG321.0+03.9_20210909_000171_...  171  PNG321.0+03.9   \n",
       "7   holo4_003_empty_PNG321.0+03.9_20210909_000174_...  174  PNG321.0+03.9   \n",
       "8   holo4_003_empty_PNG321.0+03.9_20210909_000175_...  175  PNG321.0+03.9   \n",
       "9   holo4_003_empty_PNG321.0+03.9_20210909_000176_...  176  PNG321.0+03.9   \n",
       "10  holo4_003_empty_PNG321.0+03.9_20210909_000177_...  177  PNG321.0+03.9   \n",
       "\n",
       "     filter  disperser   airmass  exposure  ...  temperature  humidity  \\\n",
       "0   empty_1  holo4_003  1.380357      10.0  ...          9.2      16.0   \n",
       "1   empty_1  holo4_003  1.381613      10.0  ...          9.1      16.0   \n",
       "2   empty_1  holo4_003  1.382874      10.0  ...          9.1      16.0   \n",
       "3   empty_1  holo4_003  1.384148      30.0  ...          9.1      16.0   \n",
       "4   empty_1  holo4_003  1.386523      30.0  ...          9.0      17.0   \n",
       "5   empty_1  holo4_003  1.388908      30.0  ...          9.0      16.0   \n",
       "6   empty_1  holo4_003  1.391300      60.0  ...          9.0      16.0   \n",
       "7   empty_1  holo4_003  1.415803       0.0  ...          8.9      15.0   \n",
       "8   empty_1  holo4_003  1.421962      60.0  ...          8.9      15.0   \n",
       "9   empty_1  holo4_003  1.426365      60.0  ...          8.9      15.0   \n",
       "10  empty_1  holo4_003  1.430840      60.0  ...          8.9      15.0   \n",
       "\n",
       "    windspd  Obj-posXpix  Obj-posYpix  Dx  Dy  skip  run  quality  \n",
       "0       4.0        300.0       1750.0 NaN NaN        1.0      1.0  \n",
       "1       3.6        300.0       1750.0 NaN NaN        1.0      1.0  \n",
       "2       3.6        300.0       1750.0 NaN NaN        1.0      1.0  \n",
       "3       3.6        300.0       1750.0 NaN NaN        1.0      1.0  \n",
       "4       3.1        300.0       1750.0 NaN NaN        1.0      1.0  \n",
       "5       3.9        300.0       1750.0 NaN NaN        1.0      1.0  \n",
       "6       3.9        300.0       1750.0 NaN NaN        1.0      1.0  \n",
       "7       3.7        300.0       1750.0 NaN NaN        1.0      1.0  \n",
       "8       3.8        300.0       1750.0 NaN NaN        1.0      1.0  \n",
       "9       4.4        300.0       1750.0 NaN NaN        1.0      1.0  \n",
       "10      4.6        300.0       1750.0 NaN NaN        1.0      1.0  \n",
       "\n",
       "[11 rows x 23 columns]"
      ]
     },
     "execution_count": 88,
     "metadata": {},
     "output_type": "execute_result"
    }
   ],
   "source": [
    "df"
   ]
  },
  {
   "cell_type": "markdown",
   "metadata": {},
   "source": [
    "# Selection of input file"
   ]
  },
  {
   "cell_type": "code",
   "execution_count": 89,
   "metadata": {},
   "outputs": [],
   "source": [
    "df_good=df[df[\"quality\"]==1]"
   ]
  },
  {
   "cell_type": "code",
   "execution_count": 90,
   "metadata": {},
   "outputs": [
    {
     "name": "stdout",
     "output_type": "stream",
     "text": [
      "holo4_003_empty_PNG321.0+03.9_20210909_000165_quickLookExp.fits\n",
      "holo4_003_empty_PNG321.0+03.9_20210909_000166_quickLookExp.fits\n",
      "holo4_003_empty_PNG321.0+03.9_20210909_000167_quickLookExp.fits\n",
      "holo4_003_empty_PNG321.0+03.9_20210909_000168_quickLookExp.fits\n",
      "holo4_003_empty_PNG321.0+03.9_20210909_000169_quickLookExp.fits\n",
      "holo4_003_empty_PNG321.0+03.9_20210909_000170_quickLookExp.fits\n",
      "holo4_003_empty_PNG321.0+03.9_20210909_000171_quickLookExp.fits\n",
      "holo4_003_empty_PNG321.0+03.9_20210909_000174_quickLookExp.fits\n",
      "holo4_003_empty_PNG321.0+03.9_20210909_000175_quickLookExp.fits\n",
      "holo4_003_empty_PNG321.0+03.9_20210909_000176_quickLookExp.fits\n",
      "holo4_003_empty_PNG321.0+03.9_20210909_000177_quickLookExp.fits\n"
     ]
    }
   ],
   "source": [
    "for spectra_file in df_good[\"file\"]:\n",
    "    print(spectra_file)"
   ]
  },
  {
   "cell_type": "code",
   "execution_count": 91,
   "metadata": {},
   "outputs": [],
   "source": [
    "#dir_spectra=\"outputs_reprocess\"\n",
    "dir_spectra=\"outputs_process_holo_PNG\""
   ]
  },
  {
   "cell_type": "code",
   "execution_count": 92,
   "metadata": {},
   "outputs": [
    {
     "name": "stdout",
     "output_type": "stream",
     "text": [
      "holo4_003_empty_PNG321.0+03.9_20210909_000177_quickLookExp_lines.csv\n",
      "holo4_003_empty_PNG321.0+03.9_20210909_000177_quickLookExp_spectrogram.fits\n",
      "holo4_003_empty_PNG321.0+03.9_20210909_000177_quickLookExp_spectrum.fits\n",
      "holo4_003_empty_PNG321.0+03.9_20210909_000177_quickLookExp_table.csv\n"
     ]
    }
   ],
   "source": [
    "! ls $dir_spectra"
   ]
  },
  {
   "cell_type": "code",
   "execution_count": 93,
   "metadata": {},
   "outputs": [],
   "source": [
    "all_files=os.listdir(dir_spectra)"
   ]
  },
  {
   "cell_type": "code",
   "execution_count": 94,
   "metadata": {},
   "outputs": [],
   "source": [
    "all_spectra_files = []\n",
    "for filename in all_files:\n",
    "    if re.search(\"_spectrum.fits$\",filename):\n",
    "        all_spectra_files.append(filename)\n",
    "N=len(all_spectra_files)"
   ]
  },
  {
   "cell_type": "code",
   "execution_count": 95,
   "metadata": {},
   "outputs": [
    {
     "data": {
      "text/plain": [
       "['holo4_003_empty_PNG321.0+03.9_20210909_000177_quickLookExp_spectrum.fits']"
      ]
     },
     "execution_count": 95,
     "metadata": {},
     "output_type": "execute_result"
    }
   ],
   "source": [
    "all_spectra_files"
   ]
  },
  {
   "cell_type": "code",
   "execution_count": 96,
   "metadata": {},
   "outputs": [
    {
     "data": {
      "text/plain": [
       "array(['holo4_003_empty_PNG321.0+03.9_20210909_000165_quickLookExp.fits',\n",
       "       'holo4_003_empty_PNG321.0+03.9_20210909_000166_quickLookExp.fits',\n",
       "       'holo4_003_empty_PNG321.0+03.9_20210909_000167_quickLookExp.fits',\n",
       "       'holo4_003_empty_PNG321.0+03.9_20210909_000168_quickLookExp.fits',\n",
       "       'holo4_003_empty_PNG321.0+03.9_20210909_000169_quickLookExp.fits',\n",
       "       'holo4_003_empty_PNG321.0+03.9_20210909_000170_quickLookExp.fits',\n",
       "       'holo4_003_empty_PNG321.0+03.9_20210909_000171_quickLookExp.fits',\n",
       "       'holo4_003_empty_PNG321.0+03.9_20210909_000174_quickLookExp.fits',\n",
       "       'holo4_003_empty_PNG321.0+03.9_20210909_000175_quickLookExp.fits',\n",
       "       'holo4_003_empty_PNG321.0+03.9_20210909_000176_quickLookExp.fits',\n",
       "       'holo4_003_empty_PNG321.0+03.9_20210909_000177_quickLookExp.fits'],\n",
       "      dtype=object)"
      ]
     },
     "execution_count": 96,
     "metadata": {},
     "output_type": "execute_result"
    }
   ],
   "source": [
    "df_good[\"file\"].values"
   ]
  },
  {
   "cell_type": "code",
   "execution_count": 97,
   "metadata": {},
   "outputs": [
    {
     "name": "stdout",
     "output_type": "stream",
     "text": [
      "0 ) : found holo4_003_empty_PNG321.0+03.9_20210909_000177_quickLookExp_spectrum.fits\n"
     ]
    }
   ],
   "source": [
    "all_good_spectra_spectrum_files=[]\n",
    "\n",
    "idx=0\n",
    "for good_spectra_file in df_good[\"file\"].values:\n",
    "    good_spectra_spectrum_file = good_spectra_file.split(\".fits\")[0]+\"_spectrum.fits\"\n",
    "    if good_spectra_spectrum_file in all_spectra_files:\n",
    "        print(idx,\") : found {}\".format(good_spectra_spectrum_file))\n",
    "        all_good_spectra_spectrum_files.append(good_spectra_spectrum_file)\n",
    "        idx+=1"
   ]
  },
  {
   "cell_type": "code",
   "execution_count": 98,
   "metadata": {},
   "outputs": [
    {
     "data": {
      "text/plain": [
       "['holo4_003_empty_PNG321.0+03.9_20210909_000177_quickLookExp_spectrum.fits']"
      ]
     },
     "execution_count": 98,
     "metadata": {},
     "output_type": "execute_result"
    }
   ],
   "source": [
    "all_good_spectra_spectrum_files"
   ]
  },
  {
   "cell_type": "code",
   "execution_count": 99,
   "metadata": {},
   "outputs": [
    {
     "name": "stdout",
     "output_type": "stream",
     "text": [
      "0 ) holo4_003_empty_PNG321.0+03.9_20210909_000177_quickLookExp_spectrum.fits   outputs_process_holo_PNG/holo4_003_empty_PNG321.0+03.9_20210909_000177_quickLookExp_spectrum.fits\n"
     ]
    },
    {
     "name": "stderr",
     "output_type": "stream",
     "text": [
      "WARNING: ErfaWarning: ERFA function \"pmsafe\" yielded 1 of \"distance overridden (Note 6)\" [astropy._erfa.core]\n",
      "2021-09-23 11:33:59  astropy    _showwarning         WARNING ErfaWarning: ERFA function \"pmsafe\" yielded 1 of \"distance overridden (Note 6)\"\n",
      "2021-09-23 11:33:59  astropy    _showwarning         WARNING ErfaWarning: ERFA function \"pmsafe\" yielded 1 of \"distance overridden (Note 6)\"\n"
     ]
    },
    {
     "data": {
      "image/png": "[encoded data removed]",
      "text/plain": [
       "<Figure size 1152x288 with 3 Axes>"
      ]
     },
     "metadata": {
      "needs_background": "light"
     },
     "output_type": "display_data"
    }
   ],
   "source": [
    "parameters.DISPLAY=False\n",
    "\n",
    "infos = []\n",
    "\n",
    "idx=0\n",
    "for filename in all_good_spectra_spectrum_files:\n",
    "    fig=plt.figure(figsize=(16,4))\n",
    "    ax1 = fig.add_subplot(1, 2, 1)\n",
    "    \n",
    "    fullfilename = os.path.join(dir_spectra,filename)\n",
    "    \n",
    "    print(idx,\")\",filename,\" \",fullfilename)\n",
    "    \n",
    "    \n",
    "    #try:\n",
    "    #    s=Spectrum(fullfilename, config=\"config/auxtel_quicklook.ini\")\n",
    "    #    print(\"Success First Connection with file \"+ fullfilename)\n",
    "    #    break           \n",
    "    #except requests.exceptions.ConnectionError:\n",
    "    #except:\n",
    "    #    print(\"Connection refused, will retry\")\n",
    "    #    sleep(5)\n",
    "    #    try:\n",
    "    #        print(\"try connection again \")    \n",
    "    #        s=Spectrum(fullfilename, config=\"config/auxtel_quicklook.ini\")\n",
    "    #        print(\"Success Second Connection \")\n",
    "    #        break\n",
    "        \n",
    "        #except requests.exceptions.ConnectionError:\n",
    "    #    except:\n",
    "    #        print(\"Connection refused twice, give up\")\n",
    "    #        continue\n",
    "            \n",
    "    #    continue\n",
    "                   \n",
    "    \n",
    "    s=Spectrum(fullfilename, config=config)\n",
    "    label=filename.split('.')[0]+\" \"\n",
    "    s.plot_spectrum(ax=ax1,force_lines=True,label=label)\n",
    "    \n",
    "    ax2 = fig.add_subplot(1, 2, 2)\n",
    "    \n",
    "    fullfilename2=fullfilename.replace(\"_spectrum\",\"_spectrogram\")\n",
    "    \n",
    "    s.load_spectrogram(fullfilename2)\n",
    "    s.plot_spectrogram(ax=ax2,scale=\"log\")\n",
    "    \n",
    "    \n",
    "    infos.append([idx,s.date_obs,s.airmass,s.temperature,s.pressure,s.humidity])\n",
    "    \n",
    "    \n",
    "    plt.show()\n",
    "    idx+=1\n",
    "    "
   ]
  },
  {
   "cell_type": "code",
   "execution_count": 100,
   "metadata": {},
   "outputs": [
    {
     "data": {
      "image/png": "[encoded data removed]",
      "text/plain": [
       "<Figure size 1440x1440 with 2 Axes>"
      ]
     },
     "metadata": {
      "needs_background": "light"
     },
     "output_type": "display_data"
    }
   ],
   "source": [
    "fig=plt.figure(figsize=(20,20))\n",
    "ax=fig.add_subplot(1,1,1)\n",
    "s.plot_spectrogram(ax=ax,scale=\"log\")"
   ]
  },
  {
   "cell_type": "code",
   "execution_count": 101,
   "metadata": {},
   "outputs": [
    {
     "data": {
      "text/plain": [
       "array([ 301.17370117,  301.88435928,  302.59500664, ..., 1108.37349103,\n",
       "       1109.05521703, 1109.73690464])"
      ]
     },
     "execution_count": 101,
     "metadata": {},
     "output_type": "execute_result"
    }
   ],
   "source": [
    "s.lambdas"
   ]
  },
  {
   "cell_type": "code",
   "execution_count": 102,
   "metadata": {},
   "outputs": [
    {
     "data": {
      "text/plain": [
       "array([ 1.33055860e-14, -9.40592828e-15,  4.42794707e-15, ...,\n",
       "       -4.45541328e-16, -6.66797523e-16, -1.02946105e-15])"
      ]
     },
     "execution_count": 102,
     "metadata": {},
     "output_type": "execute_result"
    }
   ],
   "source": [
    "s.data\n"
   ]
  },
  {
   "cell_type": "code",
   "execution_count": 103,
   "metadata": {},
   "outputs": [
    {
     "data": {
      "image/png": "[encoded data removed]",
      "text/plain": [
       "<Figure size 1296x720 with 1 Axes>"
      ]
     },
     "metadata": {
      "needs_background": "light"
     },
     "output_type": "display_data"
    }
   ],
   "source": [
    "fig = plt.figure(figsize=(18,10))\n",
    "plt.plot(s.lambdas,s.data,\"r-\")\n",
    "thetitle=str(IDXSEL)+\") \"+ filename_SEL\n",
    "plt.title(thetitle)\n",
    "ax.grid()\n",
    "plt.show()\n"
   ]
  },
  {
   "cell_type": "code",
   "execution_count": 104,
   "metadata": {},
   "outputs": [],
   "source": [
    "df_infos=pd.DataFrame(infos,columns=[\"idx\",\"date_obs\",\"airmass\",\"temperature\",\"pressure\",\"humidity\"])"
   ]
  },
  {
   "cell_type": "code",
   "execution_count": 105,
   "metadata": {},
   "outputs": [],
   "source": [
    "df_infos.set_index('idx',inplace=True)"
   ]
  },
  {
   "cell_type": "code",
   "execution_count": 106,
   "metadata": {},
   "outputs": [],
   "source": [
    "all_reftime=[ (Time(tt)-Time( df_infos[\"date_obs\"].values[0])).to_value(u.hr) for tt in df_infos[\"date_obs\"].values ]"
   ]
  },
  {
   "cell_type": "code",
   "execution_count": 107,
   "metadata": {},
   "outputs": [],
   "source": [
    "all_reftime=np.array(all_reftime)"
   ]
  },
  {
   "cell_type": "code",
   "execution_count": 108,
   "metadata": {},
   "outputs": [],
   "source": [
    "df_infos[\"reftime\"]=all_reftime"
   ]
  },
  {
   "cell_type": "code",
   "execution_count": 109,
   "metadata": {},
   "outputs": [],
   "source": [
    "df_infos[\"eqw_h2o\"] = np.nan\n",
    "df_infos[\"eqw_o2\"] = np.nan\n",
    "df_infos[\"eqw_o2_spec\"] = np.nan"
   ]
  },
  {
   "cell_type": "code",
   "execution_count": 110,
   "metadata": {},
   "outputs": [
    {
     "data": {
      "text/html": [
       "<div>\n",
       "<style scoped>\n",
       "    .dataframe tbody tr th:only-of-type {\n",
       "        vertical-align: middle;\n",
       "    }\n",
       "\n",
       "    .dataframe tbody tr th {\n",
       "        vertical-align: top;\n",
       "    }\n",
       "\n",
       "    .dataframe thead th {\n",
       "        text-align: right;\n",
       "    }\n",
       "</style>\n",
       "<table border=\"1\" class=\"dataframe\">\n",
       "  <thead>\n",
       "    <tr style=\"text-align: right;\">\n",
       "      <th></th>\n",
       "      <th>date_obs</th>\n",
       "      <th>airmass</th>\n",
       "      <th>temperature</th>\n",
       "      <th>pressure</th>\n",
       "      <th>humidity</th>\n",
       "      <th>reftime</th>\n",
       "      <th>eqw_h2o</th>\n",
       "      <th>eqw_o2</th>\n",
       "      <th>eqw_o2_spec</th>\n",
       "    </tr>\n",
       "    <tr>\n",
       "      <th>idx</th>\n",
       "      <th></th>\n",
       "      <th></th>\n",
       "      <th></th>\n",
       "      <th></th>\n",
       "      <th></th>\n",
       "      <th></th>\n",
       "      <th></th>\n",
       "      <th></th>\n",
       "      <th></th>\n",
       "    </tr>\n",
       "  </thead>\n",
       "  <tbody>\n",
       "    <tr>\n",
       "      <th>0</th>\n",
       "      <td>2021-09-10T00:08:53.255</td>\n",
       "      <td>1.432777</td>\n",
       "      <td>8.9</td>\n",
       "      <td>742.1</td>\n",
       "      <td>15.0</td>\n",
       "      <td>0.0</td>\n",
       "      <td>NaN</td>\n",
       "      <td>NaN</td>\n",
       "      <td>NaN</td>\n",
       "    </tr>\n",
       "  </tbody>\n",
       "</table>\n",
       "</div>"
      ],
      "text/plain": [
       "                    date_obs   airmass  temperature  pressure  humidity  \\\n",
       "idx                                                                       \n",
       "0    2021-09-10T00:08:53.255  1.432777          8.9     742.1      15.0   \n",
       "\n",
       "     reftime  eqw_h2o  eqw_o2  eqw_o2_spec  \n",
       "idx                                         \n",
       "0        0.0      NaN     NaN          NaN  "
      ]
     },
     "execution_count": 110,
     "metadata": {},
     "output_type": "execute_result"
    }
   ],
   "source": [
    "df_infos"
   ]
  },
  {
   "cell_type": "markdown",
   "metadata": {},
   "source": [
    "# Selection of spectra and equivalent width calculation"
   ]
  },
  {
   "cell_type": "code",
   "execution_count": 111,
   "metadata": {},
   "outputs": [
    {
     "data": {
      "text/plain": [
       "<astropy.visualization.units.quantity_support.<locals>.MplQuantityConverter at 0x7f068f409550>"
      ]
     },
     "execution_count": 111,
     "metadata": {},
     "output_type": "execute_result"
    }
   ],
   "source": [
    "from astropy import units as u\n",
    "from astropy.visualization import quantity_support\n",
    "\n",
    "quantity_support()  # for getting units on the axes below  "
   ]
  },
  {
   "cell_type": "code",
   "execution_count": 112,
   "metadata": {},
   "outputs": [],
   "source": [
    "from specutils import Spectrum1D\n",
    "from specutils.fitting import fit_generic_continuum,fit_continuum\n",
    "from specutils import SpectralRegion\n",
    "from specutils.analysis import equivalent_width\n",
    "from astropy.modeling import models\n",
    "from specutils.manipulation import extract_region"
   ]
  },
  {
   "cell_type": "code",
   "execution_count": 113,
   "metadata": {},
   "outputs": [],
   "source": [
    "IDXSEL=0\n",
    "filename_SEL=all_good_spectra_spectrum_files[IDXSEL]\n",
    "filename_spectrogram_SEL=filename_SEL.replace(\"_spectrum\",\"_spectrogram\")\n",
    "filename_lines_SEL=filename_SEL.replace(\"_spectrum.fits\",\"_lines.csv\")\n",
    "filename_table_SEL=filename_SEL.replace(\"_spectrum.fits\",\"_table.csv\")\n",
    "fullfilename_SEL = os.path.join(dir_spectra,filename_SEL)\n",
    "fullfilename_spectrogram_SEL = fullfilename_SEL.replace(\"_spectrum\",\"_spectrogram\")\n",
    "fullfilename_lines_SEL = fullfilename_SEL.replace(\"_spectrum.fits\",\"_lines.csv\")\n",
    "fullfilename_table_SEL = fullfilename_SEL.replace(\"_spectrum.fits\",\"_table.csv\")"
   ]
  },
  {
   "cell_type": "code",
   "execution_count": 114,
   "metadata": {},
   "outputs": [
    {
     "data": {
      "text/plain": [
       "'outputs_process_holo_PNG/holo4_003_empty_PNG321.0+03.9_20210909_000177_quickLookExp_table.csv'"
      ]
     },
     "execution_count": 114,
     "metadata": {},
     "output_type": "execute_result"
    }
   ],
   "source": [
    "fullfilename_table_SEL"
   ]
  },
  {
   "cell_type": "code",
   "execution_count": 115,
   "metadata": {},
   "outputs": [],
   "source": [
    "thetitle=str(IDXSEL)+\") \"+filename_SEL"
   ]
  },
  {
   "cell_type": "code",
   "execution_count": 116,
   "metadata": {},
   "outputs": [
    {
     "data": {
      "text/plain": [
       "'0) holo4_003_empty_PNG321.0+03.9_20210909_000177_quickLookExp_spectrum.fits'"
      ]
     },
     "execution_count": 116,
     "metadata": {},
     "output_type": "execute_result"
    }
   ],
   "source": [
    "thetitle"
   ]
  },
  {
   "cell_type": "code",
   "execution_count": 117,
   "metadata": {},
   "outputs": [
    {
     "data": {
      "text/plain": [
       "'outputs_process_holo_PNG/holo4_003_empty_PNG321.0+03.9_20210909_000177_quickLookExp_spectrum.fits'"
      ]
     },
     "execution_count": 117,
     "metadata": {},
     "output_type": "execute_result"
    }
   ],
   "source": [
    "fullfilename_SEL"
   ]
  },
  {
   "cell_type": "markdown",
   "metadata": {},
   "source": [
    "## Load spectrum and Spectrogram"
   ]
  },
  {
   "cell_type": "code",
   "execution_count": 118,
   "metadata": {},
   "outputs": [
    {
     "name": "stderr",
     "output_type": "stream",
     "text": [
      "WARNING: ErfaWarning: ERFA function \"pmsafe\" yielded 1 of \"distance overridden (Note 6)\" [astropy._erfa.core]\n",
      "2021-09-23 11:34:06  astropy    _showwarning         WARNING ErfaWarning: ERFA function \"pmsafe\" yielded 1 of \"distance overridden (Note 6)\"\n",
      "2021-09-23 11:34:06  astropy    _showwarning         WARNING ErfaWarning: ERFA function \"pmsafe\" yielded 1 of \"distance overridden (Note 6)\"\n"
     ]
    }
   ],
   "source": [
    "s=Spectrum(fullfilename_SEL, config=config)\n",
    "s.load_spectrogram(fullfilename_spectrogram_SEL) "
   ]
  },
  {
   "cell_type": "code",
   "execution_count": 119,
   "metadata": {},
   "outputs": [],
   "source": [
    "df_lines=pd.read_csv(fullfilename_lines_SEL,index_col=0)"
   ]
  },
  {
   "cell_type": "code",
   "execution_count": 120,
   "metadata": {},
   "outputs": [
    {
     "data": {
      "text/html": [
       "<div>\n",
       "<style scoped>\n",
       "    .dataframe tbody tr th:only-of-type {\n",
       "        vertical-align: middle;\n",
       "    }\n",
       "\n",
       "    .dataframe tbody tr th {\n",
       "        vertical-align: top;\n",
       "    }\n",
       "\n",
       "    .dataframe thead th {\n",
       "        text-align: right;\n",
       "    }\n",
       "</style>\n",
       "<table border=\"1\" class=\"dataframe\">\n",
       "  <thead>\n",
       "    <tr style=\"text-align: right;\">\n",
       "      <th></th>\n",
       "      <th>Tabulated</th>\n",
       "      <th>Detected</th>\n",
       "      <th>Shift</th>\n",
       "      <th>FWHM</th>\n",
       "      <th>Amplitude</th>\n",
       "      <th>SNR</th>\n",
       "      <th>Chisq</th>\n",
       "      <th>Eqwidth_mod</th>\n",
       "      <th>Eqwidth_data</th>\n",
       "    </tr>\n",
       "    <tr>\n",
       "      <th>Line</th>\n",
       "      <th></th>\n",
       "      <th></th>\n",
       "      <th></th>\n",
       "      <th></th>\n",
       "      <th></th>\n",
       "      <th></th>\n",
       "      <th></th>\n",
       "      <th></th>\n",
       "      <th></th>\n",
       "    </tr>\n",
       "  </thead>\n",
       "  <tbody>\n",
       "    <tr>\n",
       "      <th>$He_{I}$</th>\n",
       "      <td>353.100006</td>\n",
       "      <td>357.033051</td>\n",
       "      <td>3.933042</td>\n",
       "      <td>2.711429</td>\n",
       "      <td>4.517800e-14</td>\n",
       "      <td>6.093473</td>\n",
       "      <td>7.302995</td>\n",
       "      <td>-15.526402</td>\n",
       "      <td>-16.976120</td>\n",
       "    </tr>\n",
       "    <tr>\n",
       "      <th>$H\\delta$</th>\n",
       "      <td>410.200012</td>\n",
       "      <td>411.836334</td>\n",
       "      <td>1.636330</td>\n",
       "      <td>2.374248</td>\n",
       "      <td>5.158638e-13</td>\n",
       "      <td>69.578163</td>\n",
       "      <td>7.302995</td>\n",
       "      <td>285.038635</td>\n",
       "      <td>257.259064</td>\n",
       "    </tr>\n",
       "    <tr>\n",
       "      <th>$H\\gamma$</th>\n",
       "      <td>434.000000</td>\n",
       "      <td>432.864380</td>\n",
       "      <td>-1.135609</td>\n",
       "      <td>9.571228</td>\n",
       "      <td>8.961639e-14</td>\n",
       "      <td>12.087190</td>\n",
       "      <td>7.302995</td>\n",
       "      <td>87.158775</td>\n",
       "      <td>188.575562</td>\n",
       "    </tr>\n",
       "    <tr>\n",
       "      <th>$He_{I}$</th>\n",
       "      <td>447.100006</td>\n",
       "      <td>446.322205</td>\n",
       "      <td>-0.777799</td>\n",
       "      <td>9.609943</td>\n",
       "      <td>4.194215e-14</td>\n",
       "      <td>5.657032</td>\n",
       "      <td>7.302995</td>\n",
       "      <td>31.808180</td>\n",
       "      <td>165.707596</td>\n",
       "    </tr>\n",
       "    <tr>\n",
       "      <th>$Fe_{II}$</th>\n",
       "      <td>463.799988</td>\n",
       "      <td>457.343262</td>\n",
       "      <td>-6.456725</td>\n",
       "      <td>13.569626</td>\n",
       "      <td>4.024632e-14</td>\n",
       "      <td>5.428303</td>\n",
       "      <td>7.302995</td>\n",
       "      <td>38.783997</td>\n",
       "      <td>218.714478</td>\n",
       "    </tr>\n",
       "    <tr>\n",
       "      <th>$He_{II}$</th>\n",
       "      <td>468.600006</td>\n",
       "      <td>468.424866</td>\n",
       "      <td>-0.175147</td>\n",
       "      <td>13.948812</td>\n",
       "      <td>4.222565e-14</td>\n",
       "      <td>5.695269</td>\n",
       "      <td>7.302995</td>\n",
       "      <td>40.416607</td>\n",
       "      <td>204.532913</td>\n",
       "    </tr>\n",
       "    <tr>\n",
       "      <th>$H\\beta$</th>\n",
       "      <td>486.299988</td>\n",
       "      <td>483.092621</td>\n",
       "      <td>-3.207368</td>\n",
       "      <td>13.025314</td>\n",
       "      <td>5.865225e-14</td>\n",
       "      <td>7.910841</td>\n",
       "      <td>7.302995</td>\n",
       "      <td>57.455269</td>\n",
       "      <td>225.930695</td>\n",
       "    </tr>\n",
       "    <tr>\n",
       "      <th>$O_{III}$</th>\n",
       "      <td>500.700012</td>\n",
       "      <td>498.026764</td>\n",
       "      <td>-2.673238</td>\n",
       "      <td>12.790529</td>\n",
       "      <td>4.530732e-14</td>\n",
       "      <td>6.110915</td>\n",
       "      <td>7.302995</td>\n",
       "      <td>65.166611</td>\n",
       "      <td>128.298325</td>\n",
       "    </tr>\n",
       "    <tr>\n",
       "      <th>$Fe_{II}$</th>\n",
       "      <td>515.799988</td>\n",
       "      <td>511.108093</td>\n",
       "      <td>-4.691904</td>\n",
       "      <td>11.082700</td>\n",
       "      <td>4.169438e-14</td>\n",
       "      <td>5.623613</td>\n",
       "      <td>7.302995</td>\n",
       "      <td>74.255875</td>\n",
       "      <td>37.847282</td>\n",
       "    </tr>\n",
       "    <tr>\n",
       "      <th>$Fe_{II}$</th>\n",
       "      <td>527.299988</td>\n",
       "      <td>522.640442</td>\n",
       "      <td>-4.659540</td>\n",
       "      <td>12.009605</td>\n",
       "      <td>2.633653e-14</td>\n",
       "      <td>3.552193</td>\n",
       "      <td>7.302995</td>\n",
       "      <td>-344.983673</td>\n",
       "      <td>-481.904114</td>\n",
       "    </tr>\n",
       "    <tr>\n",
       "      <th>$C_{III}$</th>\n",
       "      <td>570.000000</td>\n",
       "      <td>567.479553</td>\n",
       "      <td>-2.520436</td>\n",
       "      <td>7.252171</td>\n",
       "      <td>2.024993e-14</td>\n",
       "      <td>3.570015</td>\n",
       "      <td>0.839760</td>\n",
       "      <td>-5.211549</td>\n",
       "      <td>-6.888813</td>\n",
       "    </tr>\n",
       "    <tr>\n",
       "      <th>$He_{I}$</th>\n",
       "      <td>587.500000</td>\n",
       "      <td>586.960083</td>\n",
       "      <td>-0.539936</td>\n",
       "      <td>2.350892</td>\n",
       "      <td>6.713025e-14</td>\n",
       "      <td>11.834903</td>\n",
       "      <td>0.839760</td>\n",
       "      <td>-5.595860</td>\n",
       "      <td>-4.797349</td>\n",
       "    </tr>\n",
       "    <tr>\n",
       "      <th>$H\\alpha$</th>\n",
       "      <td>656.299988</td>\n",
       "      <td>656.321838</td>\n",
       "      <td>0.021863</td>\n",
       "      <td>3.858754</td>\n",
       "      <td>2.362954e-13</td>\n",
       "      <td>41.658310</td>\n",
       "      <td>0.839760</td>\n",
       "      <td>-37.848450</td>\n",
       "      <td>-38.730576</td>\n",
       "    </tr>\n",
       "    <tr>\n",
       "      <th>$C_{III}$</th>\n",
       "      <td>673.000000</td>\n",
       "      <td>672.968079</td>\n",
       "      <td>-0.031951</td>\n",
       "      <td>2.901184</td>\n",
       "      <td>2.078072e-14</td>\n",
       "      <td>3.663591</td>\n",
       "      <td>0.839760</td>\n",
       "      <td>-2.657294</td>\n",
       "      <td>-5.316866</td>\n",
       "    </tr>\n",
       "    <tr>\n",
       "      <th>$C_{II}$</th>\n",
       "      <td>679.000000</td>\n",
       "      <td>678.287598</td>\n",
       "      <td>-0.712375</td>\n",
       "      <td>2.409924</td>\n",
       "      <td>2.501854e-14</td>\n",
       "      <td>4.410708</td>\n",
       "      <td>0.839760</td>\n",
       "      <td>-2.710469</td>\n",
       "      <td>-3.462762</td>\n",
       "    </tr>\n",
       "    <tr>\n",
       "      <th>$C_{II}$</th>\n",
       "      <td>723.500000</td>\n",
       "      <td>723.086914</td>\n",
       "      <td>-0.413079</td>\n",
       "      <td>1.835087</td>\n",
       "      <td>1.365060e-13</td>\n",
       "      <td>24.065685</td>\n",
       "      <td>0.839760</td>\n",
       "      <td>-13.084064</td>\n",
       "      <td>-10.027864</td>\n",
       "    </tr>\n",
       "    <tr>\n",
       "      <th>$O_{II}$</th>\n",
       "      <td>732.500000</td>\n",
       "      <td>732.641418</td>\n",
       "      <td>0.141438</td>\n",
       "      <td>3.827536</td>\n",
       "      <td>2.174678e-14</td>\n",
       "      <td>3.833905</td>\n",
       "      <td>0.839760</td>\n",
       "      <td>-4.440188</td>\n",
       "      <td>-4.274153</td>\n",
       "    </tr>\n",
       "    <tr>\n",
       "      <th>$He_{I}$</th>\n",
       "      <td>861.700012</td>\n",
       "      <td>866.273071</td>\n",
       "      <td>4.573047</td>\n",
       "      <td>7.195866</td>\n",
       "      <td>3.143574e-14</td>\n",
       "      <td>5.120576</td>\n",
       "      <td>0.878073</td>\n",
       "      <td>-5.733492</td>\n",
       "      <td>-5.751070</td>\n",
       "    </tr>\n",
       "    <tr>\n",
       "      <th>$He_{I}$</th>\n",
       "      <td>906.500000</td>\n",
       "      <td>906.830444</td>\n",
       "      <td>0.330440</td>\n",
       "      <td>5.512076</td>\n",
       "      <td>3.339625e-14</td>\n",
       "      <td>6.152190</td>\n",
       "      <td>4.291736</td>\n",
       "      <td>-5.355622</td>\n",
       "      <td>-2.853441</td>\n",
       "    </tr>\n",
       "    <tr>\n",
       "      <th>$He_{I}$</th>\n",
       "      <td>923.500000</td>\n",
       "      <td>923.622864</td>\n",
       "      <td>0.122847</td>\n",
       "      <td>3.830196</td>\n",
       "      <td>4.638958e-14</td>\n",
       "      <td>8.545794</td>\n",
       "      <td>4.291736</td>\n",
       "      <td>-5.889319</td>\n",
       "      <td>-4.054792</td>\n",
       "    </tr>\n",
       "    <tr>\n",
       "      <th>$He_{I}$</th>\n",
       "      <td>951.900024</td>\n",
       "      <td>954.185913</td>\n",
       "      <td>2.285931</td>\n",
       "      <td>4.280710</td>\n",
       "      <td>3.626797e-14</td>\n",
       "      <td>6.681212</td>\n",
       "      <td>4.291736</td>\n",
       "      <td>-6.163014</td>\n",
       "      <td>-0.770975</td>\n",
       "    </tr>\n",
       "    <tr>\n",
       "      <th>$C_{III}$</th>\n",
       "      <td>970.500000</td>\n",
       "      <td>971.685730</td>\n",
       "      <td>1.185706</td>\n",
       "      <td>6.006748</td>\n",
       "      <td>2.182184e-14</td>\n",
       "      <td>4.019975</td>\n",
       "      <td>4.291736</td>\n",
       "      <td>-8.575912</td>\n",
       "      <td>-9.824413</td>\n",
       "    </tr>\n",
       "  </tbody>\n",
       "</table>\n",
       "</div>"
      ],
      "text/plain": [
       "            Tabulated    Detected     Shift       FWHM     Amplitude  \\\n",
       "Line                                                                   \n",
       "$He_{I}$   353.100006  357.033051  3.933042   2.711429  4.517800e-14   \n",
       "$H\\delta$  410.200012  411.836334  1.636330   2.374248  5.158638e-13   \n",
       "$H\\gamma$  434.000000  432.864380 -1.135609   9.571228  8.961639e-14   \n",
       "$He_{I}$   447.100006  446.322205 -0.777799   9.609943  4.194215e-14   \n",
       "$Fe_{II}$  463.799988  457.343262 -6.456725  13.569626  4.024632e-14   \n",
       "$He_{II}$  468.600006  468.424866 -0.175147  13.948812  4.222565e-14   \n",
       "$H\\beta$   486.299988  483.092621 -3.207368  13.025314  5.865225e-14   \n",
       "$O_{III}$  500.700012  498.026764 -2.673238  12.790529  4.530732e-14   \n",
       "$Fe_{II}$  515.799988  511.108093 -4.691904  11.082700  4.169438e-14   \n",
       "$Fe_{II}$  527.299988  522.640442 -4.659540  12.009605  2.633653e-14   \n",
       "$C_{III}$  570.000000  567.479553 -2.520436   7.252171  2.024993e-14   \n",
       "$He_{I}$   587.500000  586.960083 -0.539936   2.350892  6.713025e-14   \n",
       "$H\\alpha$  656.299988  656.321838  0.021863   3.858754  2.362954e-13   \n",
       "$C_{III}$  673.000000  672.968079 -0.031951   2.901184  2.078072e-14   \n",
       "$C_{II}$   679.000000  678.287598 -0.712375   2.409924  2.501854e-14   \n",
       "$C_{II}$   723.500000  723.086914 -0.413079   1.835087  1.365060e-13   \n",
       "$O_{II}$   732.500000  732.641418  0.141438   3.827536  2.174678e-14   \n",
       "$He_{I}$   861.700012  866.273071  4.573047   7.195866  3.143574e-14   \n",
       "$He_{I}$   906.500000  906.830444  0.330440   5.512076  3.339625e-14   \n",
       "$He_{I}$   923.500000  923.622864  0.122847   3.830196  4.638958e-14   \n",
       "$He_{I}$   951.900024  954.185913  2.285931   4.280710  3.626797e-14   \n",
       "$C_{III}$  970.500000  971.685730  1.185706   6.006748  2.182184e-14   \n",
       "\n",
       "                 SNR     Chisq  Eqwidth_mod  Eqwidth_data  \n",
       "Line                                                       \n",
       "$He_{I}$    6.093473  7.302995   -15.526402    -16.976120  \n",
       "$H\\delta$  69.578163  7.302995   285.038635    257.259064  \n",
       "$H\\gamma$  12.087190  7.302995    87.158775    188.575562  \n",
       "$He_{I}$    5.657032  7.302995    31.808180    165.707596  \n",
       "$Fe_{II}$   5.428303  7.302995    38.783997    218.714478  \n",
       "$He_{II}$   5.695269  7.302995    40.416607    204.532913  \n",
       "$H\\beta$    7.910841  7.302995    57.455269    225.930695  \n",
       "$O_{III}$   6.110915  7.302995    65.166611    128.298325  \n",
       "$Fe_{II}$   5.623613  7.302995    74.255875     37.847282  \n",
       "$Fe_{II}$   3.552193  7.302995  -344.983673   -481.904114  \n",
       "$C_{III}$   3.570015  0.839760    -5.211549     -6.888813  \n",
       "$He_{I}$   11.834903  0.839760    -5.595860     -4.797349  \n",
       "$H\\alpha$  41.658310  0.839760   -37.848450    -38.730576  \n",
       "$C_{III}$   3.663591  0.839760    -2.657294     -5.316866  \n",
       "$C_{II}$    4.410708  0.839760    -2.710469     -3.462762  \n",
       "$C_{II}$   24.065685  0.839760   -13.084064    -10.027864  \n",
       "$O_{II}$    3.833905  0.839760    -4.440188     -4.274153  \n",
       "$He_{I}$    5.120576  0.878073    -5.733492     -5.751070  \n",
       "$He_{I}$    6.152190  4.291736    -5.355622     -2.853441  \n",
       "$He_{I}$    8.545794  4.291736    -5.889319     -4.054792  \n",
       "$He_{I}$    6.681212  4.291736    -6.163014     -0.770975  \n",
       "$C_{III}$   4.019975  4.291736    -8.575912     -9.824413  "
      ]
     },
     "execution_count": 120,
     "metadata": {},
     "output_type": "execute_result"
    }
   ],
   "source": [
    "df_lines"
   ]
  },
  {
   "cell_type": "code",
   "execution_count": 121,
   "metadata": {},
   "outputs": [],
   "source": [
    "lines = Lines([O2_1,H2O_1,H2O_2],atmospheric_lines=True, redshift=0, emission_spectrum=False)"
   ]
  },
  {
   "cell_type": "code",
   "execution_count": 122,
   "metadata": {},
   "outputs": [],
   "source": [
    "s.lines = lines"
   ]
  },
  {
   "cell_type": "code",
   "execution_count": 123,
   "metadata": {},
   "outputs": [],
   "source": [
    "lambdas = np.arange(300,1000,1)\n",
    "fwhm_func = interp1d(lambdas, 0.01 * lambdas)"
   ]
  },
  {
   "cell_type": "code",
   "execution_count": 124,
   "metadata": {},
   "outputs": [],
   "source": [
    "# global_chisq = detect_lines(lines, s.lambdas, s.data, s.err, fwhm_func=fwhm_func)"
   ]
  },
  {
   "cell_type": "code",
   "execution_count": 125,
   "metadata": {},
   "outputs": [
    {
     "data": {
      "image/png": "[encoded data removed]",
      "text/plain": [
       "<Figure size 1296x720 with 1 Axes>"
      ]
     },
     "metadata": {
      "needs_background": "light"
     },
     "output_type": "display_data"
    }
   ],
   "source": [
    "fig = plt.figure(figsize=(18,10))\n",
    "plot_spectrum_simple(plt.gca(), s.lambdas, s.data, s.err)\n",
    "lines.plot_detected_lines(plt.gca())\n",
    "thetitle=str(IDXSEL)+\") \"+ filename_SEL\n",
    "plt.title(thetitle)\n",
    "plt.show()"
   ]
  },
  {
   "cell_type": "code",
   "execution_count": 126,
   "metadata": {},
   "outputs": [],
   "source": [
    "# lines.print_detected_lines()"
   ]
  },
  {
   "cell_type": "code",
   "execution_count": 127,
   "metadata": {},
   "outputs": [
    {
     "ename": "SyntaxError",
     "evalue": "invalid syntax (1859603895.py, line 1)",
     "output_type": "error",
     "traceback": [
      "\u001b[0;36m  File \u001b[0;32m\"/tmp/ipykernel_235/1859603895.py\"\u001b[0;36m, line \u001b[0;32m1\u001b[0m\n\u001b[0;31m    alert False\u001b[0m\n\u001b[0m          ^\u001b[0m\n\u001b[0;31mSyntaxError\u001b[0m\u001b[0;31m:\u001b[0m invalid syntax\n"
     ]
    }
   ],
   "source": [
    "alert False"
   ]
  },
  {
   "cell_type": "markdown",
   "metadata": {},
   "source": [
    "## with specutils"
   ]
  },
  {
   "cell_type": "markdown",
   "metadata": {},
   "source": [
    "### Convert in specutils units"
   ]
  },
  {
   "cell_type": "code",
   "execution_count": null,
   "metadata": {},
   "outputs": [],
   "source": [
    "lamb = 10*s.lambdas * u.AA \n",
    "flux = s.data * u.Unit('erg cm-2 s-1 AA-1')/10. \n",
    "fluxerr = s.err * u.Unit('erg cm-2 s-1 AA-1')/10. \n",
    "spec = Spectrum1D(spectral_axis=lamb, flux=flux)\n",
    "specerr = Spectrum1D(spectral_axis=lamb, flux=fluxerr)"
   ]
  },
  {
   "cell_type": "markdown",
   "metadata": {},
   "source": [
    "## Equivalent width calculation with Automatic line plot"
   ]
  },
  {
   "cell_type": "code",
   "execution_count": null,
   "metadata": {},
   "outputs": [],
   "source": [
    "def ComputeEquivWidth(spec,wlmin,wlmax,wlminline,wlmaxline,flag_plot=True,ax1=None,ax2=None):\n",
    "    \"\"\"\n",
    "    \n",
    "    ComputeEquivWidth(spec,wlmin,wlmax,wlminline,wlmaxline,flag_plot=True)\n",
    "    \n",
    "    - input :\n",
    "    \n",
    "    \n",
    "    - output :\n",
    "    \n",
    "    \"\"\"\n",
    "            \n",
    "    # region used to fit bacgroud        \n",
    "    sub_region = SpectralRegion(wlmin , wlmax)\n",
    "    # line region to remove background\n",
    "    line_region = SpectralRegion(wlminline , wlmaxline)\n",
    "    \n",
    "    # region where one extract the spectrum\n",
    "    sub_spectrum = extract_region(spec, sub_region)\n",
    "    \n",
    "    # initialisaition of linear model\n",
    "    g_init = models.Linear1D(slope=0,intercept=1e-12)\n",
    "    \n",
    "    # fit on sub-spectrum\n",
    "    g1_fit = fit_generic_continuum(sub_spectrum,model=g_init,exclude_regions=[line_region])\n",
    "    # fit by keeping the whole spectrum , but fitting on hte relevant part of the spectrum\n",
    "    g2_fit = fit_continuum(spec,model=g_init,window=sub_region,exclude_regions=[line_region])\n",
    "    \n",
    "    \n",
    "    y_continuum_fitted1 = g1_fit(sub_spectrum.spectral_axis)\n",
    "    y_continuum_fitted2 = g2_fit(spec.spectral_axis)\n",
    "    \n",
    "    # normalize the spectrum\n",
    "    cont_norm_spec = spec/ y_continuum_fitted2 \n",
    "    \n",
    "    eqw1=equivalent_width(cont_norm_spec, regions=line_region) \n",
    "    eqw2=equivalent_width(cont_norm_spec, regions=sub_region)  \n",
    "    \n",
    "    \n",
    "    if flag_plot:\n",
    "        \n",
    "        YMIN=spec.flux.min()\n",
    "        YMAX=1.2*spec.flux.max()\n",
    "        \n",
    "        eqw_str1=\"$Eqw_1$ = {:2.2f} $\\AA$ \".format(eqw1.value)\n",
    "        eqw_str2=\"$Eqw_2$ = {:2.2f} $\\AA$ \".format(eqw2.value)\n",
    "    \n",
    "    \n",
    "        eqw_str='\\n'.join((\n",
    "        r'{}'.format(eqw_str1),\n",
    "        r'{}'.format(eqw_str2)))\n",
    "        \n",
    "        if ax1==None: \n",
    "            f, ax1 = plt.subplots(figsize=(8,4))\n",
    "            \n",
    "        ax1.plot(spec.spectral_axis, spec.flux,'k-')  \n",
    "        ax1.plot(sub_spectrum.spectral_axis, y_continuum_fitted1,'r-.',label=\"fit region\")  \n",
    "        ax1.plot(spec.spectral_axis, y_continuum_fitted2,'b:',label=\"extrapolated fit continuum\")  \n",
    "        ax1.set_title(\"Local continuum fitting\")  \n",
    "        ax1.grid(True)  \n",
    "        ax1.legend()\n",
    "        ax1.axvline(wlminline,color='r')\n",
    "        ax1.axvline(wlmaxline,color=\"r\")\n",
    "        ax1.axvline(wlmin,color='g')\n",
    "        ax1.axvline(wlmax,color=\"g\")\n",
    "        ax1.set_ylim(YMIN,YMAX)\n",
    "        \n",
    "        \n",
    "        if ax2==None:\n",
    "            f, ax2 = plt.subplots(figsize=(8,4)) \n",
    "            \n",
    "            \n",
    "        ax2.plot(spec.spectral_axis, cont_norm_spec.flux,'k-')  \n",
    "        ax2.set_title(\"Equivalent width\")  \n",
    "        ax2.grid(True)  \n",
    "        ax2.legend()\n",
    "        ax2.axvline(wlminline,color='r')\n",
    "        ax2.axvline(wlmaxline,color=\"r\")\n",
    "        ax2.axvline(wlmin,color='g')\n",
    "        ax2.axvline(wlmax,color=\"g\")\n",
    "        ax2.set_ylim(0,2)\n",
    "        ax2.text(0.05, 0.95, eqw_str, transform=ax2.transAxes, fontsize=12,verticalalignment='top', bbox=props)\n",
    "        \n",
    "    return eqw1.value,eqw2.value     "
   ]
  },
  {
   "cell_type": "code",
   "execution_count": null,
   "metadata": {},
   "outputs": [],
   "source": [
    "def ComputeEquivWidth_bootstrap(spec,specerr,wlmin,wlmax,wlminline,wlmaxline,NN=20,flag_plot=True,ax1=None,ax2=None):\n",
    "    \"\"\"\n",
    "    \n",
    "    ComputeEquivWidth_bootstrap(spec,specerr,wlmin,wlmax,wlminline,wlmaxline)\n",
    "    \n",
    "    - input :\n",
    "    \n",
    "    \n",
    "    - output :\n",
    "    \n",
    "    \"\"\"\n",
    "    \n",
    "    # region used to fit bacgroud        \n",
    "    sub_region = SpectralRegion(wlmin , wlmax)\n",
    "    # line region to remove background\n",
    "    line_region = SpectralRegion(wlminline , wlmaxline)\n",
    "         \n",
    "    \n",
    "    # region used to fit bacgroud        \n",
    "    sub_region = SpectralRegion(wlmin , wlmax)\n",
    "    # line region to remove background\n",
    "    line_region = SpectralRegion(wlminline , wlmaxline)\n",
    "    \n",
    "    # region where one extract the spectrum\n",
    "    sub_spectrum = extract_region(spec, sub_region)\n",
    "    \n",
    "    # initialisaition of linear model\n",
    "    g_init = models.Linear1D(slope=0,intercept=1e-12)\n",
    "    \n",
    "    # fit on sub-spectrum\n",
    "    g1_fit = fit_generic_continuum(sub_spectrum,model=g_init,exclude_regions=[line_region])\n",
    "    # fit by keeping the whole spectrum , but fitting on hte relevant part of the spectrum\n",
    "    g2_fit = fit_continuum(spec,model=g_init,window=sub_region,exclude_regions=[line_region])\n",
    "    \n",
    "    \n",
    "    y_continuum_fitted1 = g1_fit(sub_spectrum.spectral_axis)\n",
    "    y_continuum_fitted2 = g2_fit(spec.spectral_axis)\n",
    "    \n",
    "    # normalize the spectrum\n",
    "    cont_norm_spec = spec/ y_continuum_fitted2 \n",
    "       \n",
    "    eqw10=equivalent_width(cont_norm_spec, regions=line_region).value \n",
    "    eqw20=equivalent_width(cont_norm_spec, regions=sub_region).value \n",
    "       \n",
    "    # Bootstrap\n",
    "    \n",
    "    \n",
    "    eqw1_set=np.zeros(NN)\n",
    "    eqw2_set=np.zeros(NN)\n",
    "    size=len(specerr.flux)\n",
    "    \n",
    "    # loop on trials \n",
    "    for idx in np.arange(NN):\n",
    "        \n",
    "        # random generator for errors\n",
    "        s = np.random.normal(0, 1, size)\n",
    "        \n",
    "        # new flux\n",
    "        newspec = Spectrum1D(spectral_axis=spec.spectral_axis, flux=spec.flux+specerr.flux*s)\n",
    "              \n",
    "    \n",
    "        # region where one extract the spectrum\n",
    "        sub_spectrum = extract_region(newspec, sub_region)\n",
    "    \n",
    "        # initialisaition of linear model\n",
    "        g_init = models.Linear1D(slope=0,intercept=1e-12)\n",
    "    \n",
    "        # fit on sub-spectrum\n",
    "        g1_fit = fit_generic_continuum(sub_spectrum,model=g_init,exclude_regions=[line_region])\n",
    "        # fit by keeping the whole spectrum , but fitting on hte relevant part of the spectrum\n",
    "        g2_fit = fit_continuum(newspec,model=g_init,window=sub_region,exclude_regions=[line_region])\n",
    "    \n",
    "    \n",
    "        y_continuum_fitted1 = g1_fit(sub_spectrum.spectral_axis)\n",
    "        y_continuum_fitted2 = g2_fit(newspec.spectral_axis)\n",
    "    \n",
    "        # normalize the spectrum\n",
    "        cont_norm_spec = newspec/ y_continuum_fitted2 \n",
    "    \n",
    "    \n",
    "        eqw1=equivalent_width(cont_norm_spec, regions=line_region) \n",
    "        eqw2=equivalent_width(cont_norm_spec, regions=sub_region) \n",
    "        \n",
    "        \n",
    "        eqw1_set[idx]=eqw1.value\n",
    "        eqw2_set[idx]=eqw2.value\n",
    "        \n",
    "     \n",
    "    eqw1_std=eqw1_set.std()\n",
    "    eqw2_std=eqw2_set.std()\n",
    "    \n",
    "    \n",
    "    if flag_plot:\n",
    "        \n",
    "        YMIN=spec.flux.min()\n",
    "        YMAX=1.2*spec.flux.max()\n",
    "        \n",
    "        eqw_str1=\"$Eqw_1$ = {:2.2f} $\\pm$ {:2.2f} $\\AA$ \".format(eqw10,eqw1_std)\n",
    "        eqw_str2=\"$Eqw_2$ = {:2.2f} $\\pm$ {:2.2f} $\\AA$ \".format(eqw20,eqw2_std)\n",
    "    \n",
    "    \n",
    "        eqw_str='\\n'.join((\n",
    "        r'{}'.format(eqw_str1),\n",
    "        r'{}'.format(eqw_str2)))\n",
    "        \n",
    "        if ax1==None: \n",
    "            f, ax1 = plt.subplots(figsize=(8,4))\n",
    "            \n",
    "        ax1.plot(spec.spectral_axis, spec.flux,'k-')  \n",
    "        ax1.plot(sub_spectrum.spectral_axis, y_continuum_fitted1,'r-.',label=\"fit region\")  \n",
    "        ax1.plot(spec.spectral_axis, y_continuum_fitted2,'b:',label=\"extrapolated fit continuum\")  \n",
    "        ax1.set_title(\"Local continuum fitting\")  \n",
    "        ax1.grid(True)  \n",
    "        ax1.legend()\n",
    "        ax1.axvline(wlminline,color='r')\n",
    "        ax1.axvline(wlmaxline,color=\"r\")\n",
    "        ax1.axvline(wlmin,color='g')\n",
    "        ax1.axvline(wlmax,color=\"g\")\n",
    "        ax1.set_ylim(YMIN,YMAX)\n",
    "        \n",
    "        \n",
    "        if ax2==None:\n",
    "            f, ax2 = plt.subplots(figsize=(8,4)) \n",
    "            \n",
    "            \n",
    "        ax2.plot(spec.spectral_axis, cont_norm_spec.flux,'k-')  \n",
    "        ax2.set_title(\"Equivalent width\")  \n",
    "        ax2.grid(True)  \n",
    "        ax2.legend()\n",
    "        ax2.axvline(wlminline,color='r')\n",
    "        ax2.axvline(wlmaxline,color=\"r\")\n",
    "        ax2.axvline(wlmin,color='g')\n",
    "        ax2.axvline(wlmax,color=\"g\")\n",
    "        ax2.set_ylim(0,2)\n",
    "        ax2.text(0.05, 0.95, eqw_str, transform=ax2.transAxes, fontsize=12,verticalalignment='top', bbox=props)\n",
    "               \n",
    "        \n",
    "    return eqw10,eqw20,eqw1_set,eqw2_set     "
   ]
  },
  {
   "cell_type": "markdown",
   "metadata": {},
   "source": [
    "### The original spectrum"
   ]
  },
  {
   "cell_type": "markdown",
   "metadata": {},
   "source": [
    "#### O2 line"
   ]
  },
  {
   "cell_type": "code",
   "execution_count": null,
   "metadata": {},
   "outputs": [],
   "source": [
    "wlmin=10*(O2_1.wavelength-30)*u.AA\n",
    "wlmax=10*(O2_1.wavelength+30)*u.AA\n",
    "wlminline=10*(O2_1.wavelength-10)*u.AA\n",
    "wlmaxline=10*(O2_1.wavelength+10)*u.AA"
   ]
  },
  {
   "cell_type": "code",
   "execution_count": null,
   "metadata": {},
   "outputs": [],
   "source": [
    "fig=plt.figure(figsize=(16,4))\n",
    "ax1 = fig.add_subplot(1, 2, 1)\n",
    "ax2 = fig.add_subplot(1, 2, 2)\n",
    "eq1,eq2=ComputeEquivWidth(spec,wlmin,wlmax,wlminline,wlmaxline,flag_plot=True,ax1=ax1,ax2=ax2)\n",
    "plt.suptitle(thetitle)"
   ]
  },
  {
   "cell_type": "code",
   "execution_count": null,
   "metadata": {},
   "outputs": [],
   "source": [
    "fig=plt.figure(figsize=(16,4))\n",
    "ax1 = fig.add_subplot(1, 2, 1)\n",
    "ax2 = fig.add_subplot(1, 2, 2)\n",
    "eqw10,eqw20,eq1_set,eq2_set=ComputeEquivWidth_bootstrap(spec,specerr,wlmin,wlmax,wlminline,wlmaxline,NN=30,flag_plot=True,ax1=ax1,ax2=ax2)\n",
    "plt.suptitle(thetitle)"
   ]
  },
  {
   "cell_type": "code",
   "execution_count": null,
   "metadata": {},
   "outputs": [],
   "source": [
    "fig=plt.figure(figsize=(16,4))\n",
    "ax1 = fig.add_subplot(1, 2, 1)\n",
    "ax1.hist(eq1_set,bins=50,histtype='step',color='b');\n",
    "ax1.axvline(eqw10,color='r')\n",
    "ax2 = fig.add_subplot(1, 2, 2)\n",
    "ax2.hist(eq2_set,bins=50,histtype='step',color=\"b\");\n",
    "ax2.axvline(eqw20,color='r')\n",
    "plt.suptitle(thetitle)"
   ]
  },
  {
   "cell_type": "markdown",
   "metadata": {},
   "source": [
    "### H2O line"
   ]
  },
  {
   "cell_type": "code",
   "execution_count": null,
   "metadata": {},
   "outputs": [],
   "source": [
    "wlmin=10*(H2O_1.wavelength-30)*u.AA\n",
    "wlmax=10*(H2O_2.wavelength+30)*u.AA\n",
    "wlminline=10*(H2O_1.wavelength-12)*u.AA\n",
    "wlmaxline=10*(H2O_2.wavelength+10)*u.AA"
   ]
  },
  {
   "cell_type": "code",
   "execution_count": null,
   "metadata": {},
   "outputs": [],
   "source": [
    "lamb = 10*s.lambdas * u.AA \n",
    "flux = s.data * u.Unit('erg cm-2 s-1 AA-1')/10. \n",
    "fluxerr = s.err * u.Unit('erg cm-2 s-1 AA-1')/10. \n",
    "spec = Spectrum1D(spectral_axis=lamb, flux=flux)\n",
    "specerr = Spectrum1D(spectral_axis=lamb, flux=fluxerr)"
   ]
  },
  {
   "cell_type": "code",
   "execution_count": null,
   "metadata": {},
   "outputs": [],
   "source": [
    "fig=plt.figure(figsize=(16,4))\n",
    "ax1 = fig.add_subplot(1, 2, 1)\n",
    "ax2 = fig.add_subplot(1, 2, 2)\n",
    "ComputeEquivWidth(spec,wlmin,wlmax,wlminline,wlmaxline,flag_plot=True,ax1=ax1,ax2=ax2)\n",
    "plt.suptitle(thetitle)"
   ]
  },
  {
   "cell_type": "code",
   "execution_count": null,
   "metadata": {},
   "outputs": [],
   "source": [
    "fig=plt.figure(figsize=(16,4))\n",
    "ax1 = fig.add_subplot(1, 2, 1)\n",
    "ax2 = fig.add_subplot(1, 2, 2)\n",
    "eqw10,eqw20,eq1_set,eq2_set=ComputeEquivWidth_bootstrap(spec,specerr,wlmin,wlmax,wlminline,wlmaxline,NN=30,flag_plot=True,ax1=ax1,ax2=ax2)\n",
    "plt.suptitle(thetitle)"
   ]
  },
  {
   "cell_type": "code",
   "execution_count": null,
   "metadata": {},
   "outputs": [],
   "source": [
    "fig=plt.figure(figsize=(16,4))\n",
    "ax1 = fig.add_subplot(1, 2, 1)\n",
    "ax1.hist(eq1_set,bins=50,histtype='step',color='b');\n",
    "ax1.axvline(eqw10,color='r')\n",
    "ax2 = fig.add_subplot(1, 2, 2)\n",
    "ax2.hist(eq2_set,bins=50,histtype='step',color='b');\n",
    "ax2.axvline(eqw20,color='r')\n",
    "plt.suptitle(thetitle)"
   ]
  },
  {
   "cell_type": "markdown",
   "metadata": {},
   "source": [
    "# Loop on spectra with Spectractor"
   ]
  },
  {
   "cell_type": "code",
   "execution_count": null,
   "metadata": {},
   "outputs": [],
   "source": [
    "WLMIN=300\n",
    "WLMAX=1000\n",
    "lambdas = np.arange(WLMIN,WLMAX,1)\n",
    "fwhm_func = interp1d(lambdas, 0.01 * lambdas)\n",
    "parameters.DISPLAY=False\n",
    "\n",
    "\n",
    "for IDXSEL in np.arange(0,7):\n",
    "    filename_SEL=all_good_spectra_spectrum_files[IDXSEL]\n",
    "    filename_spectrogram_SEL=filename_SEL.replace(\"_spectrum\",\"_spectrogram\")\n",
    "    fullfilename_SEL = os.path.join(dir_spectra,filename_SEL)\n",
    "    fullfilename_spectrogram_SEL = fullfilename_SEL.replace(\"_spectrum\",\"_spectrogram\")\n",
    "    \n",
    "    # load the spectrum\n",
    "    s=Spectrum(fullfilename_SEL, config=config)\n",
    "    s.load_spectrogram(fullfilename_spectrogram_SEL) \n",
    "    \n",
    "    #wlidx=np.where(np.logical_and( s.lambdas>=WLMIN, s.lambdas<=WLMAX))[0]\n",
    "    #print(wlidx)\n",
    "    #wl=s.lambdas[wlidx]\n",
    "    \n",
    "    #specify the lines  \n",
    "    lines = Lines([O2_1,H2O_1,H2O_2],atmospheric_lines=True, redshift=0, emission_spectrum=False)\n",
    "    s.lines = lines\n",
    "    \n",
    "    global_chisq = detect_lines(lines, s.lambdas, s.data, s.err, fwhm_func=fwhm_func)\n",
    "    \n",
    "    print(IDXSEL,\") \",filename_SEL)\n",
    "    thetitle=str(IDXSEL)+\") \"+filename_SEL\n",
    "    \n",
    "    fig = plt.figure(figsize=(10,5))\n",
    "    plot_spectrum_simple(plt.gca(), s.lambdas, s.data, s.err)\n",
    "    lines.plot_detected_lines(plt.gca())\n",
    "    plt.title(thetitle)\n",
    "    plt.show()\n",
    "    \n",
    "    print(lines.print_detected_lines())\n",
    "    print(lines.print_detected_lines()[0][\"Eqwidth_data\"])\n",
    "    df_infos.at[IDXSEL,\"eqw_o2_spec\"] = lines.print_detected_lines()[0][\"Eqwidth_data\"]*10.\n",
    "    \n",
    "    "
   ]
  },
  {
   "cell_type": "code",
   "execution_count": null,
   "metadata": {},
   "outputs": [],
   "source": [
    "print(lines.print_detected_lines())"
   ]
  },
  {
   "cell_type": "code",
   "execution_count": null,
   "metadata": {},
   "outputs": [],
   "source": [
    "type(lines.print_detected_lines())"
   ]
  },
  {
   "cell_type": "code",
   "execution_count": null,
   "metadata": {},
   "outputs": [],
   "source": [
    "print(lines.print_detected_lines()[0][\"Eqwidth_data\"])"
   ]
  },
  {
   "cell_type": "code",
   "execution_count": null,
   "metadata": {},
   "outputs": [],
   "source": [
    "df_infos"
   ]
  },
  {
   "cell_type": "markdown",
   "metadata": {},
   "source": [
    "# Loop on spectrum, compute O2 line equivalent width with specutils "
   ]
  },
  {
   "cell_type": "code",
   "execution_count": null,
   "metadata": {},
   "outputs": [],
   "source": [
    "WLMIN=300\n",
    "WLMAX=1000\n",
    "lambdas = np.arange(WLMIN,WLMAX,1)\n",
    "fwhm_func = interp1d(lambdas, 0.01 * lambdas)\n",
    "parameters.DISPLAY=False\n",
    "\n",
    "\n",
    "for IDXSEL in np.arange(0,8):\n",
    "\n",
    "    \n",
    "    \n",
    "    filename_SEL=all_good_spectra_spectrum_files[IDXSEL]\n",
    "    filename_spectrogram_SEL=filename_SEL.replace(\"_spectrum\",\"_spectrogram\")\n",
    "    fullfilename_SEL = os.path.join(dir_spectra,filename_SEL)\n",
    "    fullfilename_spectrogram_SEL = fullfilename_SEL.replace(\"_spectrum\",\"_spectrogram\")\n",
    "    \n",
    "    # load the spectrum\n",
    "    \n",
    "    print(IDXSEL,\") \",filename_SEL)\n",
    "    \n",
    "    s=Spectrum(fullfilename_SEL, config=config)\n",
    "    s.load_spectrogram(fullfilename_spectrogram_SEL) \n",
    "    \n",
    "    \n",
    "    lamb = 10*s.lambdas * u.AA \n",
    "    flux = s.data * u.Unit('erg cm-2 s-1 AA-1')/10 \n",
    "    spec = Spectrum1D(spectral_axis=lamb, flux=flux) \n",
    "    fluxerr = s.err * u.Unit('erg cm-2 s-1 AA-1')/10. \n",
    "    specerr = Spectrum1D(spectral_axis=lamb, flux=fluxerr)\n",
    "    \n",
    "    # O2 line\n",
    "    wlmin=10*(O2_1.wavelength-30)*u.AA\n",
    "    wlmax=10*(O2_1.wavelength+30)*u.AA\n",
    "    wlminline=10*(O2_1.wavelength-10)*u.AA\n",
    "    wlmaxline=10*(O2_1.wavelength+10)*u.AA\n",
    "    \n",
    "    \n",
    "    \n",
    "    fig=plt.figure(figsize=(16,4))\n",
    "    ax1 = fig.add_subplot(1, 2, 1)\n",
    "    ax2 = fig.add_subplot(1, 2, 2)\n",
    "    #eq1,eq2=ComputeEquivWidth(spec,wlmin,wlmax,wlminline,wlmaxline,flag_plot=True,ax1=ax1,ax2=ax2)\n",
    "    eqw10,eqw20,eq1_set,eq2_set=ComputeEquivWidth_bootstrap(spec,specerr,wlmin,wlmax,wlminline,wlmaxline,NN=20,flag_plot=True,ax1=ax1,ax2=ax2)\n",
    "    thetitle=str(IDXSEL)+\") \"+filename_SEL\n",
    "    plt.suptitle(thetitle,y=1.01)\n",
    "    plt.show() \n",
    "    \n",
    "    print(IDXSEL,\") eqw_O2=\",eqw10)\n",
    "    \n",
    "    df_infos.at[IDXSEL,\"eqw_o2\"] =  eqw10"
   ]
  },
  {
   "cell_type": "markdown",
   "metadata": {},
   "source": [
    "# Loop on spectrum, compute H2O line equivalent width with specutils "
   ]
  },
  {
   "cell_type": "code",
   "execution_count": null,
   "metadata": {},
   "outputs": [],
   "source": [
    "WLMIN=300\n",
    "WLMAX=1000\n",
    "lambdas = np.arange(WLMIN,WLMAX,1)\n",
    "fwhm_func = interp1d(lambdas, 0.01 * lambdas)\n",
    "parameters.DISPLAY=False\n",
    "\n",
    "\n",
    "for IDXSEL in np.arange(0,8):\n",
    "    filename_SEL=all_good_spectra_spectrum_files[IDXSEL]\n",
    "    filename_spectrogram_SEL=filename_SEL.replace(\"_spectrum\",\"_spectrogram\")\n",
    "    fullfilename_SEL = os.path.join(dir_spectra,filename_SEL)\n",
    "    fullfilename_spectrogram_SEL = fullfilename_SEL.replace(\"_spectrum\",\"_spectrogram\")\n",
    "    \n",
    "    # load the spectrum\n",
    "    s=Spectrum(fullfilename_SEL, config=config)\n",
    "    s.load_spectrogram(fullfilename_spectrogram_SEL) \n",
    "    \n",
    "    \n",
    "    lamb = 10*s.lambdas * u.AA \n",
    "    flux = s.data * u.Unit('erg cm-2 s-1 AA-1')/10 \n",
    "    spec = Spectrum1D(spectral_axis=lamb, flux=flux) \n",
    "    fluxerr = s.err * u.Unit('erg cm-2 s-1 AA-1')/10. \n",
    "    specerr = Spectrum1D(spectral_axis=lamb, flux=fluxerr)\n",
    "    \n",
    "    # H2O line\n",
    "    \n",
    "    wlmin=10*(H2O_1.wavelength-30)*u.AA\n",
    "    wlmax=10*(H2O_2.wavelength+30)*u.AA\n",
    "    wlminline=10*(H2O_1.wavelength-12)*u.AA\n",
    "    wlmaxline=10*(H2O_2.wavelength+10)*u.AA\n",
    "    \n",
    "    \n",
    "    fig=plt.figure(figsize=(16,4))\n",
    "    ax1 = fig.add_subplot(1, 2, 1)\n",
    "    ax2 = fig.add_subplot(1, 2, 2)\n",
    "    eqw1,eqw2=ComputeEquivWidth(spec,wlmin,wlmax,wlminline,wlmaxline,flag_plot=True,ax1=ax1,ax2=ax2)\n",
    "    #eqw10,eqw20,eq1_set,eq2_set=ComputeEquivWidth_bootstrap(spec,specerr,wlmin,wlmax,wlminline,wlmaxline,NN=20,flag_plot=True,ax1=ax1,ax2=ax2)\n",
    "    thetitle=str(IDXSEL)+\") \"+filename_SEL\n",
    "    plt.suptitle(thetitle,y=1.01)\n",
    "    plt.show() \n",
    "    \n",
    "    print(IDXSEL,\") eqw_O2=\",eqw1)\n",
    "    \n",
    "    df_infos.at[IDXSEL,\"eqw_h2o\"] =  eqw1"
   ]
  },
  {
   "cell_type": "code",
   "execution_count": null,
   "metadata": {},
   "outputs": [],
   "source": [
    "df_infos"
   ]
  },
  {
   "cell_type": "code",
   "execution_count": null,
   "metadata": {},
   "outputs": [],
   "source": [
    "df_infos.to_csv(\"eqw.csv\")"
   ]
  },
  {
   "cell_type": "code",
   "execution_count": null,
   "metadata": {},
   "outputs": [],
   "source": [
    "fig=plt.figure(figsize=(16,4))\n",
    "#plt.xticks(rotation=90)\n",
    "ax = fig.add_subplot(1, 1, 1)\n",
    "ax.plot(df_infos['date_obs'], df_infos['eqw_o2'],marker=\"o\",color=\"red\",label=\"$eqw(O_2)$\");\n",
    "ax.plot(df_infos['date_obs'], df_infos['eqw_h2o'],marker=\"o\",color=\"blue\",label=\"$eqw(H_2O)$\");\n",
    "#ax.set_xticks(rotation='vertical');\n",
    "ax.xaxis.set_tick_params(rotation=90)\n",
    "ax.legend(loc=\"upper right\")\n",
    "ax.set_ylabel(\"Equivalent Width $\\AA$\")\n",
    "ax2 = ax.twinx()\n",
    "ax2.plot(df_infos['date_obs'], df_infos['airmass'],linestyle='dotted', marker='.',color=\"green\",label=\"airmass\")\n",
    "ax2.set_ylim(1,1.5)\n",
    "ax2.legend(loc=\"upper left\")\n",
    "ax2.set_ylabel(\"airmass\")\n",
    "ax.set_title(\"Equivalent Widths vs date\")"
   ]
  },
  {
   "cell_type": "code",
   "execution_count": null,
   "metadata": {},
   "outputs": [],
   "source": [
    "fig=plt.figure(figsize=(16,5))\n",
    "#plt.xticks(rotation=90)\n",
    "ax = fig.add_subplot(1, 1, 1)\n",
    "df_infos.plot(ax=ax,x=\"date_obs\", y=[\"eqw_o2\",\"eqw_h2o\"],color=[\"r\",\"b\"],marker=\"o\");\n",
    "#plt.gcf().autofmt_xdate(rotation=90) \n",
    "ax.xaxis.set_tick_params(rotation=90)\n",
    "ax.legend(loc=\"upper right\")\n",
    "ax.set_ylabel(\"Equivalent Width $\\AA$\")\n",
    "ax.set_yscale(\"log\")\n",
    "\n",
    "ax2 = ax.twinx()\n",
    "df_infos.plot(ax=ax2,x=\"date_obs\", y=\"airmass\",color=[\"g\"],marker=\"o\",lw=0);\n",
    "ax2.legend(loc=\"upper left\")\n",
    "ax2.set_ylabel(\"airmass\")\n",
    "ax2.set_ylim(1,2)\n",
    "ax2.xaxis.set_tick_params(rotation=90)\n",
    "ax.set_title(\"Equivalent Widths vs date\")\n"
   ]
  },
  {
   "cell_type": "code",
   "execution_count": null,
   "metadata": {},
   "outputs": [],
   "source": [
    "fig=plt.figure(figsize=(16,4))\n",
    "#plt.xticks(rotation=90)\n",
    "ax = fig.add_subplot(1, 1, 1)\n",
    "ax.plot(df_infos['reftime'], df_infos['eqw_o2'],marker=\"o\",color=\"red\",label=\"$eqw(O_2)$\");\n",
    "ax.plot(df_infos['reftime'], df_infos['eqw_h2o'],marker=\"o\",color=\"blue\",label=\"$eqw(H_2O)$\");\n",
    "#ax.set_xticks(rotation='vertical');\n",
    "#ax.xaxis.set_tick_params(rotation=90)\n",
    "ax.set_xlabel(\"number of hours\")\n",
    "ax.legend(loc=\"upper right\")\n",
    "ax.set_ylabel(\"Equivalent Width $\\AA$\")\n",
    "ax2 = ax.twinx()\n",
    "ax2.plot(df_infos['reftime'], df_infos['airmass'],linestyle='dotted', marker='.',color=\"green\",label=\"airmass\",lw=0)\n",
    "ax2.set_ylim(1,1.5)\n",
    "ax2.legend(loc=\"upper left\")\n",
    "ax2.set_ylabel(\"airmass\")\n",
    "ax.set_title(\"Equivalent Widths vs date\")"
   ]
  },
  {
   "cell_type": "code",
   "execution_count": null,
   "metadata": {},
   "outputs": [],
   "source": []
  }
 ],
 "metadata": {
  "kernelspec": {
   "display_name": "anaconda3_auxtel",
   "language": "python",
   "name": "anaconda3_auxtel"
  },
  "language_info": {
   "codemirror_mode": {
    "name": "ipython",
    "version": 3
   },
   "file_extension": ".py",
   "mimetype": "text/x-python",
   "name": "python",
   "nbconvert_exporter": "python",
   "pygments_lexer": "ipython3",
   "version": "3.8.5"
  },
  "toc": {
   "base_numbering": 1,
   "nav_menu": {},
   "number_sections": true,
   "sideBar": true,
   "skip_h1_title": false,
   "title_cell": "Table of Contents",
   "title_sidebar": "Contents",
   "toc_cell": false,
   "toc_position": {},
   "toc_section_display": true,
   "toc_window_display": false
  }
 },
 "nbformat": 4,
 "nbformat_minor": 4
}
