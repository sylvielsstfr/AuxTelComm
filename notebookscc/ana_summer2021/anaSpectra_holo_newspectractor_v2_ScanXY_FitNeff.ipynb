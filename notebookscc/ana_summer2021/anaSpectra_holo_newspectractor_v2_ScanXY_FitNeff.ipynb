{
 "cells": [
  {
   "cell_type": "markdown",
   "metadata": {},
   "source": [
    "#  Fit Neff"
   ]
  },
  {
   "cell_type": "markdown",
   "metadata": {},
   "source": [
    "- author : Sylvie Dagoret-Campagne\n",
    "- affiliation : IJCLab/IN2P3/CNES, DESC-LSST fullmember, behalf AuxTel Teal VERA C. Rubin observatory\n",
    "- creation date : February 7th 2022\n",
    "\n",
    "\n",
    "- **kernel anaconda3_auxtel** at CC or **python 3** locally"
   ]
  },
  {
   "cell_type": "markdown",
   "metadata": {},
   "source": [
    "# Imports"
   ]
  },
  {
   "cell_type": "code",
   "execution_count": 1,
   "metadata": {},
   "outputs": [],
   "source": [
    "import numpy as np\n",
    "import matplotlib.pyplot as plt\n",
    "%matplotlib inline\n",
    "from mpl_toolkits.axes_grid1 import make_axes_locatable\n",
    "from matplotlib.colors import LogNorm\n",
    "import pandas as pd\n",
    "\n",
    "import matplotlib.ticker                         # here's where the formatter is\n",
    "import os\n",
    "import re\n",
    "import pandas as pd\n",
    "\n",
    "plt.rcParams[\"figure.figsize\"] = (16,4)\n",
    "plt.rcParams[\"axes.labelsize\"] = 'xx-large'\n",
    "plt.rcParams['axes.titlesize'] = 'xx-large'\n",
    "plt.rcParams['xtick.labelsize']= 'xx-large'\n",
    "plt.rcParams['ytick.labelsize']= 'xx-large'"
   ]
  },
  {
   "cell_type": "code",
   "execution_count": 2,
   "metadata": {},
   "outputs": [],
   "source": [
    "import matplotlib.colors as colors\n",
    "import matplotlib.cm as cmx"
   ]
  },
  {
   "cell_type": "code",
   "execution_count": 3,
   "metadata": {},
   "outputs": [],
   "source": [
    "import matplotlib.offsetbox\n",
    "props = dict(boxstyle='round',edgecolor=\"w\",facecolor=\"w\", alpha=0.5)"
   ]
  },
  {
   "cell_type": "code",
   "execution_count": 4,
   "metadata": {},
   "outputs": [],
   "source": [
    "from datetime import datetime,date"
   ]
  },
  {
   "cell_type": "code",
   "execution_count": 30,
   "metadata": {},
   "outputs": [],
   "source": [
    "from astropy import units as u\n",
    "from astropy.coordinates import Angle"
   ]
  },
  {
   "cell_type": "code",
   "execution_count": 5,
   "metadata": {},
   "outputs": [],
   "source": [
    "today = date.today()\n",
    "string_date=today.strftime(\"%Y-%m-%d\")"
   ]
  },
  {
   "cell_type": "code",
   "execution_count": 6,
   "metadata": {},
   "outputs": [
    {
     "data": {
      "text/plain": [
       "'2022-02-07'"
      ]
     },
     "execution_count": 6,
     "metadata": {},
     "output_type": "execute_result"
    }
   ],
   "source": [
    "string_date"
   ]
  },
  {
   "cell_type": "code",
   "execution_count": 7,
   "metadata": {},
   "outputs": [],
   "source": [
    "from iminuit import Minuit\n",
    "import iminuit"
   ]
  },
  {
   "cell_type": "code",
   "execution_count": 8,
   "metadata": {},
   "outputs": [
    {
     "data": {
      "text/plain": [
       "'2.7.0'"
      ]
     },
     "execution_count": 8,
     "metadata": {},
     "output_type": "execute_result"
    }
   ],
   "source": [
    "iminuit.__version__"
   ]
  },
  {
   "cell_type": "code",
   "execution_count": 9,
   "metadata": {},
   "outputs": [],
   "source": [
    "from time import sleep"
   ]
  },
  {
   "cell_type": "code",
   "execution_count": 10,
   "metadata": {},
   "outputs": [],
   "source": [
    "from astropy.time import Time\n",
    "import astropy.units as u"
   ]
  },
  {
   "cell_type": "markdown",
   "metadata": {},
   "source": [
    "# Config"
   ]
  },
  {
   "cell_type": "code",
   "execution_count": 11,
   "metadata": {},
   "outputs": [],
   "source": [
    "DATE=\"2021-07-07\"\n",
    "DATE2=\"2021_07_07\""
   ]
  },
  {
   "cell_type": "code",
   "execution_count": 23,
   "metadata": {},
   "outputs": [],
   "source": [
    "DCCD   = 181.45 # mm\n",
    "PIXELW = 0.01   # mm (10 microns)"
   ]
  },
  {
   "cell_type": "markdown",
   "metadata": {},
   "source": [
    "### Wide and narrow scan"
   ]
  },
  {
   "cell_type": "code",
   "execution_count": null,
   "metadata": {},
   "outputs": [],
   "source": []
  },
  {
   "cell_type": "code",
   "execution_count": 12,
   "metadata": {},
   "outputs": [],
   "source": [
    "file_csv=\"narrowwidescan_2021-07-07.csv\"\n",
    "file_xlsx=\"narrowwidescan_2021-07-07.xlsx\""
   ]
  },
  {
   "cell_type": "code",
   "execution_count": 21,
   "metadata": {},
   "outputs": [],
   "source": [
    "df= pd.read_csv(file_csv, index_col=0)"
   ]
  },
  {
   "cell_type": "code",
   "execution_count": 22,
   "metadata": {},
   "outputs": [
    {
     "data": {
      "text/html": [
       "<div>\n",
       "<style scoped>\n",
       "    .dataframe tbody tr th:only-of-type {\n",
       "        vertical-align: middle;\n",
       "    }\n",
       "\n",
       "    .dataframe tbody tr th {\n",
       "        vertical-align: top;\n",
       "    }\n",
       "\n",
       "    .dataframe thead th {\n",
       "        text-align: right;\n",
       "    }\n",
       "</style>\n",
       "<table border=\"1\" class=\"dataframe\">\n",
       "  <thead>\n",
       "    <tr style=\"text-align: right;\">\n",
       "      <th></th>\n",
       "      <th>X(mm)</th>\n",
       "      <th>Y(mm)</th>\n",
       "      <th>degré</th>\n",
       "      <th>tag</th>\n",
       "      <th>Xpix</th>\n",
       "      <th>Neff</th>\n",
       "      <th>FlagGood</th>\n",
       "      <th>NarrowScan</th>\n",
       "      <th>wl_halpha</th>\n",
       "      <th>wl_o2</th>\n",
       "      <th>Xpix0</th>\n",
       "      <th>Ypix0</th>\n",
       "      <th>Xpix_halpha</th>\n",
       "      <th>Ypix_halpha</th>\n",
       "      <th>Xpix_o2</th>\n",
       "      <th>Ypix_o2</th>\n",
       "    </tr>\n",
       "  </thead>\n",
       "  <tbody>\n",
       "    <tr>\n",
       "      <th>0</th>\n",
       "      <td>-6.834332</td>\n",
       "      <td>13.536706</td>\n",
       "      <td>0.304839</td>\n",
       "      <td>248</td>\n",
       "      <td>1353.670602</td>\n",
       "      <td>157.356972</td>\n",
       "      <td>True</td>\n",
       "      <td>False</td>\n",
       "      <td>656.433533</td>\n",
       "      <td>762.904358</td>\n",
       "      <td>1316.566809</td>\n",
       "      <td>681.329398</td>\n",
       "      <td>998.0</td>\n",
       "      <td>194.781104</td>\n",
       "      <td>1302.0</td>\n",
       "      <td>196.462393</td>\n",
       "    </tr>\n",
       "    <tr>\n",
       "      <th>1</th>\n",
       "      <td>-5.879631</td>\n",
       "      <td>12.273796</td>\n",
       "      <td>0.287949</td>\n",
       "      <td>249</td>\n",
       "      <td>1227.379635</td>\n",
       "      <td>157.473318</td>\n",
       "      <td>True</td>\n",
       "      <td>False</td>\n",
       "      <td>655.277649</td>\n",
       "      <td>764.469604</td>\n",
       "      <td>1412.036908</td>\n",
       "      <td>807.620365</td>\n",
       "      <td>1000.0</td>\n",
       "      <td>192.529519</td>\n",
       "      <td>1312.0</td>\n",
       "      <td>194.225394</td>\n",
       "    </tr>\n",
       "    <tr>\n",
       "      <th>2</th>\n",
       "      <td>-16.641820</td>\n",
       "      <td>1.325806</td>\n",
       "      <td>0.162526</td>\n",
       "      <td>250</td>\n",
       "      <td>132.580559</td>\n",
       "      <td>156.939617</td>\n",
       "      <td>True</td>\n",
       "      <td>False</td>\n",
       "      <td>656.279419</td>\n",
       "      <td>763.033386</td>\n",
       "      <td>335.818025</td>\n",
       "      <td>1902.419441</td>\n",
       "      <td>1002.0</td>\n",
       "      <td>189.400261</td>\n",
       "      <td>1306.0</td>\n",
       "      <td>190.218351</td>\n",
       "    </tr>\n",
       "    <tr>\n",
       "      <th>3</th>\n",
       "      <td>-16.236803</td>\n",
       "      <td>1.326900</td>\n",
       "      <td>0.193625</td>\n",
       "      <td>251</td>\n",
       "      <td>132.690005</td>\n",
       "      <td>157.370956</td>\n",
       "      <td>True</td>\n",
       "      <td>False</td>\n",
       "      <td>656.558716</td>\n",
       "      <td>763.020081</td>\n",
       "      <td>376.319657</td>\n",
       "      <td>1902.309995</td>\n",
       "      <td>1002.0</td>\n",
       "      <td>188.272972</td>\n",
       "      <td>1306.0</td>\n",
       "      <td>189.190892</td>\n",
       "    </tr>\n",
       "    <tr>\n",
       "      <th>4</th>\n",
       "      <td>-16.358922</td>\n",
       "      <td>1.439759</td>\n",
       "      <td>0.175763</td>\n",
       "      <td>252</td>\n",
       "      <td>143.975923</td>\n",
       "      <td>157.865249</td>\n",
       "      <td>True</td>\n",
       "      <td>False</td>\n",
       "      <td>656.375610</td>\n",
       "      <td>763.201843</td>\n",
       "      <td>364.107844</td>\n",
       "      <td>1891.024077</td>\n",
       "      <td>1002.0</td>\n",
       "      <td>188.444617</td>\n",
       "      <td>1308.0</td>\n",
       "      <td>189.337364</td>\n",
       "    </tr>\n",
       "    <tr>\n",
       "      <th>...</th>\n",
       "      <td>...</td>\n",
       "      <td>...</td>\n",
       "      <td>...</td>\n",
       "      <td>...</td>\n",
       "      <td>...</td>\n",
       "      <td>...</td>\n",
       "      <td>...</td>\n",
       "      <td>...</td>\n",
       "      <td>...</td>\n",
       "      <td>...</td>\n",
       "      <td>...</td>\n",
       "      <td>...</td>\n",
       "      <td>...</td>\n",
       "      <td>...</td>\n",
       "      <td>...</td>\n",
       "      <td>...</td>\n",
       "    </tr>\n",
       "    <tr>\n",
       "      <th>59</th>\n",
       "      <td>-18.921111</td>\n",
       "      <td>2.113223</td>\n",
       "      <td>-0.179557</td>\n",
       "      <td>345</td>\n",
       "      <td>211.322273</td>\n",
       "      <td>158.077496</td>\n",
       "      <td>True</td>\n",
       "      <td>True</td>\n",
       "      <td>656.329956</td>\n",
       "      <td>763.012756</td>\n",
       "      <td>107.888852</td>\n",
       "      <td>1823.677727</td>\n",
       "      <td>1002.0</td>\n",
       "      <td>171.129618</td>\n",
       "      <td>1308.0</td>\n",
       "      <td>170.565250</td>\n",
       "    </tr>\n",
       "    <tr>\n",
       "      <th>60</th>\n",
       "      <td>-18.938706</td>\n",
       "      <td>1.126771</td>\n",
       "      <td>-0.174666</td>\n",
       "      <td>346</td>\n",
       "      <td>112.677052</td>\n",
       "      <td>157.029486</td>\n",
       "      <td>True</td>\n",
       "      <td>True</td>\n",
       "      <td>656.437256</td>\n",
       "      <td>763.130127</td>\n",
       "      <td>106.129419</td>\n",
       "      <td>1922.322948</td>\n",
       "      <td>1002.0</td>\n",
       "      <td>175.935336</td>\n",
       "      <td>1306.0</td>\n",
       "      <td>175.433712</td>\n",
       "    </tr>\n",
       "    <tr>\n",
       "      <th>61</th>\n",
       "      <td>-18.865694</td>\n",
       "      <td>0.111250</td>\n",
       "      <td>-0.175392</td>\n",
       "      <td>347</td>\n",
       "      <td>11.125003</td>\n",
       "      <td>157.065247</td>\n",
       "      <td>True</td>\n",
       "      <td>True</td>\n",
       "      <td>656.377991</td>\n",
       "      <td>763.046570</td>\n",
       "      <td>113.430571</td>\n",
       "      <td>2023.874997</td>\n",
       "      <td>1002.0</td>\n",
       "      <td>173.628356</td>\n",
       "      <td>1306.0</td>\n",
       "      <td>173.105217</td>\n",
       "    </tr>\n",
       "    <tr>\n",
       "      <th>62</th>\n",
       "      <td>-18.874612</td>\n",
       "      <td>-0.863775</td>\n",
       "      <td>-0.176366</td>\n",
       "      <td>348</td>\n",
       "      <td>-86.377457</td>\n",
       "      <td>158.596029</td>\n",
       "      <td>True</td>\n",
       "      <td>True</td>\n",
       "      <td>656.125854</td>\n",
       "      <td>763.154846</td>\n",
       "      <td>112.538836</td>\n",
       "      <td>2121.377457</td>\n",
       "      <td>1002.0</td>\n",
       "      <td>174.560424</td>\n",
       "      <td>1310.0</td>\n",
       "      <td>174.022098</td>\n",
       "    </tr>\n",
       "    <tr>\n",
       "      <th>63</th>\n",
       "      <td>-18.872661</td>\n",
       "      <td>-1.868449</td>\n",
       "      <td>-0.175399</td>\n",
       "      <td>349</td>\n",
       "      <td>-186.844855</td>\n",
       "      <td>157.965341</td>\n",
       "      <td>True</td>\n",
       "      <td>True</td>\n",
       "      <td>656.333191</td>\n",
       "      <td>763.091736</td>\n",
       "      <td>112.733865</td>\n",
       "      <td>2221.844855</td>\n",
       "      <td>1002.0</td>\n",
       "      <td>172.220476</td>\n",
       "      <td>1308.0</td>\n",
       "      <td>171.716615</td>\n",
       "    </tr>\n",
       "  </tbody>\n",
       "</table>\n",
       "<p>64 rows × 16 columns</p>\n",
       "</div>"
      ],
      "text/plain": [
       "        X(mm)      Y(mm)     degré  tag         Xpix        Neff  FlagGood  \\\n",
       "0   -6.834332  13.536706  0.304839  248  1353.670602  157.356972      True   \n",
       "1   -5.879631  12.273796  0.287949  249  1227.379635  157.473318      True   \n",
       "2  -16.641820   1.325806  0.162526  250   132.580559  156.939617      True   \n",
       "3  -16.236803   1.326900  0.193625  251   132.690005  157.370956      True   \n",
       "4  -16.358922   1.439759  0.175763  252   143.975923  157.865249      True   \n",
       "..        ...        ...       ...  ...          ...         ...       ...   \n",
       "59 -18.921111   2.113223 -0.179557  345   211.322273  158.077496      True   \n",
       "60 -18.938706   1.126771 -0.174666  346   112.677052  157.029486      True   \n",
       "61 -18.865694   0.111250 -0.175392  347    11.125003  157.065247      True   \n",
       "62 -18.874612  -0.863775 -0.176366  348   -86.377457  158.596029      True   \n",
       "63 -18.872661  -1.868449 -0.175399  349  -186.844855  157.965341      True   \n",
       "\n",
       "    NarrowScan   wl_halpha       wl_o2        Xpix0        Ypix0  Xpix_halpha  \\\n",
       "0        False  656.433533  762.904358  1316.566809   681.329398        998.0   \n",
       "1        False  655.277649  764.469604  1412.036908   807.620365       1000.0   \n",
       "2        False  656.279419  763.033386   335.818025  1902.419441       1002.0   \n",
       "3        False  656.558716  763.020081   376.319657  1902.309995       1002.0   \n",
       "4        False  656.375610  763.201843   364.107844  1891.024077       1002.0   \n",
       "..         ...         ...         ...          ...          ...          ...   \n",
       "59        True  656.329956  763.012756   107.888852  1823.677727       1002.0   \n",
       "60        True  656.437256  763.130127   106.129419  1922.322948       1002.0   \n",
       "61        True  656.377991  763.046570   113.430571  2023.874997       1002.0   \n",
       "62        True  656.125854  763.154846   112.538836  2121.377457       1002.0   \n",
       "63        True  656.333191  763.091736   112.733865  2221.844855       1002.0   \n",
       "\n",
       "    Ypix_halpha  Xpix_o2     Ypix_o2  \n",
       "0    194.781104   1302.0  196.462393  \n",
       "1    192.529519   1312.0  194.225394  \n",
       "2    189.400261   1306.0  190.218351  \n",
       "3    188.272972   1306.0  189.190892  \n",
       "4    188.444617   1308.0  189.337364  \n",
       "..          ...      ...         ...  \n",
       "59   171.129618   1308.0  170.565250  \n",
       "60   175.935336   1306.0  175.433712  \n",
       "61   173.628356   1306.0  173.105217  \n",
       "62   174.560424   1310.0  174.022098  \n",
       "63   172.220476   1308.0  171.716615  \n",
       "\n",
       "[64 rows x 16 columns]"
      ]
     },
     "execution_count": 22,
     "metadata": {},
     "output_type": "execute_result"
    }
   ],
   "source": [
    "df"
   ]
  },
  {
   "cell_type": "markdown",
   "metadata": {},
   "source": [
    "# Select one spectrum"
   ]
  },
  {
   "cell_type": "code",
   "execution_count": 24,
   "metadata": {},
   "outputs": [],
   "source": [
    "index=0"
   ]
  },
  {
   "cell_type": "code",
   "execution_count": 27,
   "metadata": {},
   "outputs": [],
   "source": [
    "row = df.iloc[index]"
   ]
  },
  {
   "cell_type": "code",
   "execution_count": 29,
   "metadata": {},
   "outputs": [
    {
     "data": {
      "text/plain": [
       "X(mm)            -6.834332\n",
       "Y(mm)            13.536706\n",
       "degré             0.304839\n",
       "tag                    248\n",
       "Xpix           1353.670602\n",
       "Neff            157.356972\n",
       "FlagGood              True\n",
       "NarrowScan           False\n",
       "wl_halpha       656.433533\n",
       "wl_o2           762.904358\n",
       "Xpix0          1316.566809\n",
       "Ypix0           681.329398\n",
       "Xpix_halpha          998.0\n",
       "Ypix_halpha     194.781104\n",
       "Xpix_o2             1302.0\n",
       "Ypix_o2         196.462393\n",
       "Name: 0, dtype: object"
      ]
     },
     "execution_count": 29,
     "metadata": {},
     "output_type": "execute_result"
    }
   ],
   "source": [
    "row"
   ]
  },
  {
   "cell_type": "code",
   "execution_count": 44,
   "metadata": {},
   "outputs": [],
   "source": [
    "X0=row[\"Xpix0\"]\n",
    "X1=row[\"Xpix_halpha\"]\n",
    "Y1=row[\"Ypix_halpha\"]\n",
    "\n",
    "X2=row[\"Xpix_o2\"]\n",
    "Y2=row[\"Ypix_o2\"]\n",
    "\n",
    "WL1=row[\"wl_halpha\"]\n",
    "WL2=row[\"wl_o2\"]\n",
    "\n",
    "alpha= Angle(row[\"degré\"],u.degree).radian"
   ]
  },
  {
   "cell_type": "code",
   "execution_count": 33,
   "metadata": {},
   "outputs": [
    {
     "data": {
      "text/plain": [
       "998.0"
      ]
     },
     "execution_count": 33,
     "metadata": {},
     "output_type": "execute_result"
    }
   ],
   "source": []
  },
  {
   "cell_type": "code",
   "execution_count": 46,
   "metadata": {},
   "outputs": [],
   "source": [
    "def Chi2(Neff):\n",
    "    \n",
    "    lambda1_neff = WL1*Neff*1e-6 #mm\n",
    "    lambda2_neff = WL2*Neff*1e-6 #mm\n",
    "    \n",
    "    chi2= (X1*PIXELW - np.cos(alpha)*DCCD*lambda1_neff/np.sqrt(1-lambda1_neff**2))**2+ \\\n",
    "    (Y1*PIXELW - np.sin(alpha)*DCCD*lambda1_neff/np.sqrt(1-lambda1_neff**2))**2+ \\\n",
    "     (X2*PIXELW - np.cos(alpha)*DCCD*lambda2_neff/np.sqrt(1-lambda2_neff**2))**2+ \\\n",
    "    (Y2*PIXELW - np.sin(alpha)*DCCD*lambda2_neff/np.sqrt(1-lambda2_neff**2))**2\n",
    "    \n",
    "    return chi2\n",
    "    \n",
    "    "
   ]
  },
  {
   "cell_type": "code",
   "execution_count": 49,
   "metadata": {},
   "outputs": [],
   "source": [
    "all_neff = np.linspace(0,1000)"
   ]
  },
  {
   "cell_type": "code",
   "execution_count": 50,
   "metadata": {},
   "outputs": [
    {
     "data": {
      "text/plain": [
       "[<matplotlib.lines.Line2D at 0x7f9cd1203520>]"
      ]
     },
     "execution_count": 50,
     "metadata": {},
     "output_type": "execute_result"
    },
    {
     "data": {
      "image/png": "[encoded data removed]",
      "text/plain": [
       "<Figure size 1152x288 with 1 Axes>"
      ]
     },
     "metadata": {
      "needs_background": "light"
     },
     "output_type": "display_data"
    }
   ],
   "source": [
    "plt.plot(all_neff,Chi2(all_neff))"
   ]
  },
  {
   "cell_type": "code",
   "execution_count": null,
   "metadata": {},
   "outputs": [],
   "source": []
  }
 ],
 "metadata": {
  "kernelspec": {
   "display_name": "python3_base",
   "language": "python",
   "name": "python3"
  },
  "language_info": {
   "codemirror_mode": {
    "name": "ipython",
    "version": 3
   },
   "file_extension": ".py",
   "mimetype": "text/x-python",
   "name": "python",
   "nbconvert_exporter": "python",
   "pygments_lexer": "ipython3",
   "version": "3.8.8"
  },
  "toc": {
   "base_numbering": 1,
   "nav_menu": {},
   "number_sections": true,
   "sideBar": true,
   "skip_h1_title": false,
   "title_cell": "Table of Contents",
   "title_sidebar": "Contents",
   "toc_cell": false,
   "toc_position": {},
   "toc_section_display": true,
   "toc_window_display": false
  }
 },
 "nbformat": 4,
 "nbformat_minor": 4
}
