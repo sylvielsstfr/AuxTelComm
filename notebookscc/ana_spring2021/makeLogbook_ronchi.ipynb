{
 "cells": [
  {
   "cell_type": "markdown",
   "metadata": {},
   "source": [
    "# Build the logbook for Ronchi"
   ]
  },
  {
   "cell_type": "markdown",
   "metadata": {},
   "source": [
    "- author : Sylvie Dagoret-Campagne\n",
    "- affiliation : IJCLab/IN2P3/CNES, DESC-LSST fullmember, behalf AuxTel Teal VERA C. Rubin observatory\n",
    "- up date : 20th April  2021\n",
    "- version v1   (2021/04/06)  : initial version"
   ]
  },
  {
   "cell_type": "code",
   "execution_count": 1,
   "metadata": {},
   "outputs": [],
   "source": [
    "# reconstructed / good /xpos /ypos\n",
    "info={\\\n",
    "      'Cor_ronchi170lpmm_RG610_HD75519_2021-03-11_188.fits':(1,0,1800, 2500),\\\n",
    "      'Cor_ronchi170lpmm_RG610_HD75519_2021-03-11_189.fits':(1,0,1800, 2500),\\\n",
    "      'Cor_ronchi170lpmm_RG610_HD75519_2021-03-11_190.fits':(1,0,1800, 2500),\\\n",
    "      'Cor_ronchi170lpmm_RG610_HD75519_2021-03-11_200.fits':(1,0,2100, 1750),\\\n",
    "      'Cor_ronchi170lpmm_RG610_HD75519_2021-03-11_201.fits':(0,0,2100, 1750),\\\n",
    "      'Cor_ronchi170lpmm_RG610_HD75519_2021-03-11_202.fits':(0,0,2100, 1750),\\\n",
    "      'Cor_ronchi170lpmm_RG610_HD75519_2021-03-11_203.fits':(0,0,2100, 1750),\\\n",
    "      'Cor_ronchi170lpmm_RG610_HD75519_2021-03-11_204.fits':(1,1,200, 1700),\\\n",
    "      'Cor_ronchi170lpmm_RG610_HD75519_2021-03-11_205.fits':(1,1,200, 1700),\\\n",
    "      'Cor_ronchi170lpmm_RG610_HD75519_2021-03-11_206.fits':(1,1,200, 1700),\\\n",
    "      'Cor_ronchi170lpmm_RG610_HD75519_2021-03-11_207.fits':(1,1,200, 1700),\\\n",
    "      'Cor_ronchi170lpmm_RG610_HD75519_2021-03-11_208.fits':(1,1,200, 1700),\\\n",
    "      'Cor_ronchi170lpmm_RG610_HD75519_2021-03-11_209.fits':(1,1,200, 1700),\\\n",
    "      'Cor_ronchi170lpmm_RG610_HD75519_2021-03-11_210.fits':(1,1,200, 1700),\\\n",
    "      'Cor_ronchi170lpmm_RG610_HD75519_2021-03-11_211.fits':(1,1,200, 1700),\\\n",
    "      'Cor_ronchi170lpmm_RG610_HD75519_2021-03-11_212.fits':(1,1,200, 1700),\\\n",
    "      'Cor_ronchi170lpmm_RG610_HD75519_2021-03-11_213.fits':(1,1,200, 1700),\\\n",
    "      'Cor_ronchi170lpmm_RG610_HD75519_2021-03-11_214.fits':(1,1,200, 1700),\\\n",
    "      'Cor_ronchi170lpmm_RG610_HD75519_2021-03-11_215.fits':(1,1,200, 1700),\\\n",
    "      'Cor_ronchi170lpmm_RG610_HD75519_2021-03-11_216.fits':(0,0,100, 1700),\\\n",
    "      'Cor_ronchi170lpmm_RG610_HD75519_2021-03-11_217.fits':(0,0,100, 1700),\\\n",
    "      'Cor_ronchi170lpmm_RG610_HD75519_2021-03-11_218.fits':(0,0,100, 1700),\\\n",
    "      'Cor_ronchi170lpmm_RG610_HD75519_2021-03-11_219.fits':(0,0,100, 1700),\\\n",
    "      'Cor_ronchi170lpmm_RG610_HD75519_2021-03-11_220.fits':(0,0,100, 1700),\\\n",
    "      'Cor_ronchi170lpmm_RG610_HD75519_2021-03-11_221.fits':(0,0,100, 1700),\\\n",
    "      'Cor_ronchi170lpmm_RG610_HD75519_2021-03-11_222.fits':(0,0,100, 1700),\\\n",
    "      'Cor_ronchi170lpmm_RG610_HD75519_2021-03-11_223.fits':(0,0,100, 1700),\\\n",
    "      'Cor_ronchi170lpmm_RG610_HD75519_2021-03-11_224.fits':(0,0,100, 1700),\\\n",
    "      'Cor_ronchi170lpmm_RG610_HD75519_2021-03-11_225.fits':(0,0,100, 1700),\\\n",
    "      'Cor_ronchi170lpmm_RG610_HD75519_2021-03-11_226.fits':(0,0,100, 1700),\\\n",
    "      'Cor_ronchi170lpmm_RG610_HD75519_2021-03-11_227.fits':(0,0,100, 1700),\\\n",
    "      'Cor_ronchi170lpmm_RG610_HD75519_2021-03-11_228.fits':(0,0,100, 1700),\\\n",
    "      'Cor_ronchi170lpmm_RG610_HD75519_2021-03-11_229.fits':(0,0,100, 1700),\\\n",
    "      'Cor_ronchi170lpmm_RG610_HD75519_2021-03-11_230.fits':(0,0,100, 1700),\\\n",
    "      'Cor_ronchi170lpmm_RG610_HD75519_2021-03-11_231.fits':(0,0,100, 1700),\\\n",
    "      'Cor_ronchi170lpmm_RG610_HD75519_2021-03-11_232.fits':(0,0,100, 1700),\\\n",
    "      'Cor_ronchi170lpmm_RG610_HD75519_2021-03-11_233.fits':(0,0,100, 1700),\\\n",
    "      'Cor_ronchi170lpmm_RG610_HD75519_2021-03-11_234.fits':(0,0,100, 1700),\\\n",
    "      'Cor_ronchi170lpmm_RG610_HD75519_2021-03-11_235.fits':(0,0,100, 1700),\\\n",
    "      'Cor_ronchi170lpmm_RG610_HD75519_2021-03-11_236.fits':(0,0,100, 1700),\\\n",
    "      'Cor_ronchi170lpmm_RG610_HD75519_2021-03-11_237.fits':(0,0,100, 1700),\\\n",
    "      'Cor_ronchi170lpmm_RG610_HD75519_2021-03-11_238.fits':(0,0,100, 1700),\\\n",
    "      'Cor_ronchi170lpmm_RG610_HD75519_2021-03-11_239.fits':(0,0,100, 1700),\\\n",
    "      'Cor_ronchi170lpmm_RG610_HD75519_2021-03-11_240.fits':(0,0,100, 1700),\\\n",
    "      'Cor_ronchi170lpmm_RG610_HD75519_2021-03-11_241.fits':(0,0,100, 1700),\\\n",
    "      'Cor_ronchi170lpmm_RG610_HD75519_2021-03-11_242.fits':(0,0,100, 1700),\\\n",
    "      'Cor_ronchi170lpmm_RG610_HD75519_2021-03-11_243.fits':(0,0,100, 1700),\\\n",
    "      'Cor_ronchi170lpmm_RG610_HD75519_2021-03-11_244.fits':(0,0,100, 1700),\\\n",
    "      'Cor_ronchi170lpmm_RG610_HD75519_2021-03-11_245.fits':(0,0,100, 1700),\\\n",
    "      'Cor_ronchi170lpmm_RG610_HD75519_2021-03-11_246.fits':(0,0,100, 1700),\\\n",
    "      'Cor_ronchi170lpmm_RG610_HD75519_2021-03-11_247.fits':(0,0,100, 1700),\\\n",
    "      'Cor_ronchi170lpmm_RG610_HD75519_2021-03-11_248.fits':(0,0,100, 1700),\\\n",
    "      'Cor_ronchi170lpmm_RG610_HD75519_2021-03-11_249.fits':(0,0,100, 1700),\\\n",
    "      'Cor_ronchi170lpmm_RG610_HD75519_2021-03-11_250.fits':(0,0,100, 1700),\\\n",
    "      'Cor_ronchi170lpmm_RG610_HD75519_2021-03-11_251.fits':(0,0,100, 1700),\\\n",
    "      'Cor_ronchi170lpmm_RG610_HD75519_2021-03-11_252.fits':(0,0,100, 1700),\\\n",
    "      'Cor_ronchi170lpmm_RG610_HD75519_2021-03-11_253.fits':(0,0,100, 1700),\\\n",
    "      'Cor_ronchi170lpmm_RG610_HD75519_2021-03-11_254.fits':(0,0,100, 1700),\\\n",
    "      'Cor_ronchi170lpmm_RG610_HD75519_2021-03-11_255.fits':(0,0,100, 1700),\\\n",
    "      'Cor_ronchi170lpmm_RG610_HD75519_2021-03-11_256.fits':(0,0,100, 1700),\\\n",
    "      'Cor_ronchi170lpmm_RG610_HD75519_2021-03-11_257.fits':(0,0,100, 1700),\\\n",
    "      'Cor_ronchi170lpmm_RG610_HD75519_2021-03-11_258.fits':(0,0,2200, 1700),\\\n",
    "      'Cor_ronchi170lpmm_RG610_HD75519_2021-03-11_259.fits':(0,0,100, 1700),\\\n",
    "      'Cor_ronchi170lpmm_RG610_HD75519_2021-03-11_260.fits':(1,1,200, 1700),\\\n",
    "      'Cor_ronchi170lpmm_RG610_HD75519_2021-03-11_261.fits':(1,1,200, 1700),\\\n",
    "      'Cor_ronchi170lpmm_RG610_HD75519_2021-03-11_262.fits':(0,0,300, 1800),\\\n",
    "      'Cor_ronchi170lpmm_RG610_HD75519_2021-03-11_263.fits':(0,0,300, 1800),\\\n",
    "      'Cor_ronchi170lpmm_RG610_HD75519_2021-03-11_264.fits':(0,0,300, 1800),\\\n",
    "      'Cor_ronchi170lpmm_RG610_HD75519_2021-03-11_265.fits':(1,0,300, 1800),\\\n",
    "      'Cor_ronchi170lpmm_RG610_HD75519_2021-03-11_266.fits':(0,0,300, 1800),\\\n",
    "      'Cor_ronchi170lpmm_RG610_HD75519_2021-03-11_267.fits':(1,1,250, 1800),\\\n",
    "      'Cor_ronchi170lpmm_RG610_HD75519_2021-03-11_268.fits':(1,1,250, 1800),\\\n",
    "      'Cor_ronchi170lpmm_RG610_HD75519_2021-03-11_269.fits':(1,1,250, 1800),\\\n",
    "      'Cor_ronchi170lpmm_RG610_HD75519_2021-03-11_270.fits':(1,1,250, 1800),\\\n",
    "      'Cor_ronchi170lpmm_RG610_HD75519_2021-03-11_271.fits':(1,1,250, 1800),\\\n",
    "      'Cor_ronchi170lpmm_RG610_HD75519_2021-03-11_272.fits':(1,1,250, 1800),\\\n",
    "      'Cor_ronchi170lpmm_RG610_HD75519_2021-03-11_273.fits':(1,1,250, 1800),\\\n",
    "      'Cor_ronchi170lpmm_RG610_HD75519_2021-03-11_274.fits':(1,1,250, 1800),\\\n",
    "      'Cor_ronchi170lpmm_RG610_HD75519_2021-03-11_275.fits':(1,1,250, 1800),\\\n",
    "      'Cor_ronchi170lpmm_RG610_HD75519_2021-03-11_276.fits':(0,1,200, 1800),\\\n",
    "      'Cor_ronchi170lpmm_RG610_HD75519_2021-03-11_277.fits':(1,1,200, 1800),\\\n",
    "      'Cor_ronchi170lpmm_RG610_HD75519_2021-03-11_278.fits':(1,1,200, 1800),\\\n",
    "      'Cor_ronchi170lpmm_RG610_HD75519_2021-03-11_279.fits':(1,1,200, 1800),\\\n",
    "      'Cor_ronchi170lpmm_RG610_HD75519_2021-03-11_280.fits':(1,1,200, 1800),\\\n",
    "      'Cor_ronchi170lpmm_RG610_HD75519_2021-03-11_281.fits':(1,1,200, 1800),\\\n",
    "      'Cor_ronchi170lpmm_RG610_HD75519_2021-03-11_282.fits':(1,1,200, 1800),\\\n",
    "     }"
   ]
  },
  {
   "cell_type": "markdown",
   "metadata": {},
   "source": [
    "# Imports"
   ]
  },
  {
   "cell_type": "code",
   "execution_count": 2,
   "metadata": {},
   "outputs": [],
   "source": [
    "import numpy as np\n",
    "import matplotlib.pyplot as plt\n",
    "%matplotlib inline\n",
    "from mpl_toolkits.axes_grid1 import make_axes_locatable\n",
    "import pandas as pd\n",
    "\n",
    "import matplotlib.ticker                         # here's where the formatter is\n",
    "import os\n",
    "import re\n",
    "\n",
    "plt.rcParams[\"figure.figsize\"] = (16,4)\n",
    "plt.rcParams[\"axes.labelsize\"] = 'xx-large'\n",
    "plt.rcParams['axes.titlesize'] = 'xx-large'\n",
    "plt.rcParams['xtick.labelsize']= 'xx-large'\n",
    "plt.rcParams['ytick.labelsize']= 'xx-large'"
   ]
  },
  {
   "cell_type": "code",
   "execution_count": 3,
   "metadata": {},
   "outputs": [],
   "source": [
    "from astropy.io import fits"
   ]
  },
  {
   "cell_type": "code",
   "execution_count": 4,
   "metadata": {},
   "outputs": [],
   "source": [
    "import imp\n",
    "MODULE_EXTENSIONS = ('.py', '.pyc', '.pyo')"
   ]
  },
  {
   "cell_type": "code",
   "execution_count": 5,
   "metadata": {},
   "outputs": [],
   "source": [
    "def package_contents(package_name):\n",
    "    file, pathname, description = imp.find_module(package_name)\n",
    "    if file:\n",
    "        raise ImportError('Not a package: %r', package_name)\n",
    "    # Use a set because some may be both source and compiled.\n",
    "    return set([os.path.splitext(module)[0]\n",
    "        for module in os.listdir(pathname)\n",
    "        if module.endswith(MODULE_EXTENSIONS)])"
   ]
  },
  {
   "cell_type": "code",
   "execution_count": 6,
   "metadata": {},
   "outputs": [
    {
     "data": {
      "text/plain": [
       "{'__init__',\n",
       " '_version',\n",
       " 'astrometry',\n",
       " 'config',\n",
       " 'logbook',\n",
       " 'parameters',\n",
       " 'tools'}"
      ]
     },
     "execution_count": 6,
     "metadata": {},
     "output_type": "execute_result"
    }
   ],
   "source": [
    "package_contents(\"spectractor\")"
   ]
  },
  {
   "cell_type": "code",
   "execution_count": 7,
   "metadata": {},
   "outputs": [
    {
     "data": {
      "text/plain": [
       "{'__init__',\n",
       " 'background',\n",
       " 'chromaticpsf',\n",
       " 'dispersers',\n",
       " 'extractor',\n",
       " 'images',\n",
       " 'psf',\n",
       " 'spectroscopy',\n",
       " 'spectrum',\n",
       " 'targets'}"
      ]
     },
     "execution_count": 7,
     "metadata": {},
     "output_type": "execute_result"
    }
   ],
   "source": [
    "package_contents(\"spectractor/extractor\")"
   ]
  },
  {
   "cell_type": "markdown",
   "metadata": {},
   "source": [
    "# Initialisation"
   ]
  },
  {
   "cell_type": "markdown",
   "metadata": {},
   "source": [
    "## Get inputs files and sort them according date and number"
   ]
  },
  {
   "cell_type": "code",
   "execution_count": 8,
   "metadata": {},
   "outputs": [],
   "source": [
    "myhome=os.getenv(\"HOME\")"
   ]
  },
  {
   "cell_type": "code",
   "execution_count": 9,
   "metadata": {},
   "outputs": [],
   "source": [
    "dir_images=os.path.join(myhome,\"DATA/AuxTelData2021/ronchi170lpmm/FlipCleans\")"
   ]
  },
  {
   "cell_type": "code",
   "execution_count": 10,
   "metadata": {},
   "outputs": [],
   "source": [
    "all_files=os.listdir(dir_images)"
   ]
  },
  {
   "cell_type": "code",
   "execution_count": 11,
   "metadata": {},
   "outputs": [],
   "source": [
    "all_selected_files = []\n",
    "for filename in all_files:\n",
    "    if re.search(\".fits$\",filename):\n",
    "        all_selected_files.append(filename)\n",
    "N=len(all_selected_files)"
   ]
  },
  {
   "cell_type": "code",
   "execution_count": 12,
   "metadata": {},
   "outputs": [],
   "source": [
    "all_selected_files=np.array(all_selected_files)"
   ]
  },
  {
   "cell_type": "code",
   "execution_count": 13,
   "metadata": {},
   "outputs": [
    {
     "data": {
      "text/plain": [
       "array(['Cor_ronchi170lpmm_RG610_HD75519_2021-03-11_240.fits',\n",
       "       'Cor_ronchi170lpmm_RG610_HD75519_2021-03-11_217.fits',\n",
       "       'Cor_ronchi170lpmm_RG610_HD75519_2021-03-11_201.fits',\n",
       "       'Cor_ronchi170lpmm_RG610_HD75519_2021-03-11_190.fits',\n",
       "       'Cor_ronchi170lpmm_RG610_HD75519_2021-03-11_256.fits',\n",
       "       'Cor_ronchi170lpmm_RG610_HD75519_2021-03-11_221.fits',\n",
       "       'Cor_ronchi170lpmm_RG610_HD75519_2021-03-11_276.fits',\n",
       "       'Cor_ronchi170lpmm_RG610_HD75519_2021-03-11_260.fits',\n",
       "       'Cor_ronchi170lpmm_RG610_HD75519_2021-03-11_237.fits',\n",
       "       'Cor_ronchi170lpmm_RG610_HD75519_2021-03-11_236.fits',\n",
       "       'Cor_ronchi170lpmm_RG610_HD75519_2021-03-11_261.fits',\n",
       "       'Cor_ronchi170lpmm_RG610_HD75519_2021-03-11_277.fits',\n",
       "       'Cor_ronchi170lpmm_RG610_HD75519_2021-03-11_220.fits',\n",
       "       'Cor_ronchi170lpmm_RG610_HD75519_2021-03-11_257.fits',\n",
       "       'Cor_ronchi170lpmm_RG610_HD75519_2021-03-11_200.fits',\n",
       "       'Cor_ronchi170lpmm_RG610_HD75519_2021-03-11_216.fits',\n",
       "       'Cor_ronchi170lpmm_RG610_HD75519_2021-03-11_241.fits',\n",
       "       'Cor_ronchi170lpmm_RG610_HD75519_2021-03-11_282.fits',\n",
       "       'Cor_ronchi170lpmm_RG610_HD75519_2021-03-11_227.fits',\n",
       "       'Cor_ronchi170lpmm_RG610_HD75519_2021-03-11_270.fits',\n",
       "       'Cor_ronchi170lpmm_RG610_HD75519_2021-03-11_266.fits',\n",
       "       'Cor_ronchi170lpmm_RG610_HD75519_2021-03-11_231.fits',\n",
       "       'Cor_ronchi170lpmm_RG610_HD75519_2021-03-11_246.fits',\n",
       "       'Cor_ronchi170lpmm_RG610_HD75519_2021-03-11_211.fits',\n",
       "       'Cor_ronchi170lpmm_RG610_HD75519_2021-03-11_207.fits',\n",
       "       'Cor_ronchi170lpmm_RG610_HD75519_2021-03-11_250.fits',\n",
       "       'Cor_ronchi170lpmm_RG610_HD75519_2021-03-11_251.fits',\n",
       "       'Cor_ronchi170lpmm_RG610_HD75519_2021-03-11_206.fits',\n",
       "       'Cor_ronchi170lpmm_RG610_HD75519_2021-03-11_210.fits',\n",
       "       'Cor_ronchi170lpmm_RG610_HD75519_2021-03-11_247.fits',\n",
       "       'Cor_ronchi170lpmm_RG610_HD75519_2021-03-11_230.fits',\n",
       "       'Cor_ronchi170lpmm_RG610_HD75519_2021-03-11_267.fits',\n",
       "       'Cor_ronchi170lpmm_RG610_HD75519_2021-03-11_271.fits',\n",
       "       'Cor_ronchi170lpmm_RG610_HD75519_2021-03-11_226.fits',\n",
       "       'Cor_ronchi170lpmm_RG610_HD75519_2021-03-11_209.fits',\n",
       "       'Cor_ronchi170lpmm_RG610_HD75519_2021-03-11_248.fits',\n",
       "       'Cor_ronchi170lpmm_RG610_HD75519_2021-03-11_233.fits',\n",
       "       'Cor_ronchi170lpmm_RG610_HD75519_2021-03-11_264.fits',\n",
       "       'Cor_ronchi170lpmm_RG610_HD75519_2021-03-11_272.fits',\n",
       "       'Cor_ronchi170lpmm_RG610_HD75519_2021-03-11_225.fits',\n",
       "       'Cor_ronchi170lpmm_RG610_HD75519_2021-03-11_252.fits',\n",
       "       'Cor_ronchi170lpmm_RG610_HD75519_2021-03-11_205.fits',\n",
       "       'Cor_ronchi170lpmm_RG610_HD75519_2021-03-11_213.fits',\n",
       "       'Cor_ronchi170lpmm_RG610_HD75519_2021-03-11_244.fits',\n",
       "       'Cor_ronchi170lpmm_RG610_HD75519_2021-03-11_268.fits',\n",
       "       'Cor_ronchi170lpmm_RG610_HD75519_2021-03-11_229.fits',\n",
       "       'Cor_ronchi170lpmm_RG610_HD75519_2021-03-11_228.fits',\n",
       "       'Cor_ronchi170lpmm_RG610_HD75519_2021-03-11_269.fits',\n",
       "       'Cor_ronchi170lpmm_RG610_HD75519_2021-03-11_245.fits',\n",
       "       'Cor_ronchi170lpmm_RG610_HD75519_2021-03-11_212.fits',\n",
       "       'Cor_ronchi170lpmm_RG610_HD75519_2021-03-11_204.fits',\n",
       "       'Cor_ronchi170lpmm_RG610_HD75519_2021-03-11_253.fits',\n",
       "       'Cor_ronchi170lpmm_RG610_HD75519_2021-03-11_224.fits',\n",
       "       'Cor_ronchi170lpmm_RG610_HD75519_2021-03-11_273.fits',\n",
       "       'Cor_ronchi170lpmm_RG610_HD75519_2021-03-11_265.fits',\n",
       "       'Cor_ronchi170lpmm_RG610_HD75519_2021-03-11_232.fits',\n",
       "       'Cor_ronchi170lpmm_RG610_HD75519_2021-03-11_249.fits',\n",
       "       'Cor_ronchi170lpmm_RG610_HD75519_2021-03-11_208.fits',\n",
       "       'Cor_ronchi170lpmm_RG610_HD75519_2021-03-11_254.fits',\n",
       "       'Cor_ronchi170lpmm_RG610_HD75519_2021-03-11_203.fits',\n",
       "       'Cor_ronchi170lpmm_RG610_HD75519_2021-03-11_215.fits',\n",
       "       'Cor_ronchi170lpmm_RG610_HD75519_2021-03-11_242.fits',\n",
       "       'Cor_ronchi170lpmm_RG610_HD75519_2021-03-11_239.fits',\n",
       "       'Cor_ronchi170lpmm_RG610_HD75519_2021-03-11_281.fits',\n",
       "       'Cor_ronchi170lpmm_RG610_HD75519_2021-03-11_278.fits',\n",
       "       'Cor_ronchi170lpmm_RG610_HD75519_2021-03-11_258.fits',\n",
       "       'Cor_ronchi170lpmm_RG610_HD75519_2021-03-11_219.fits',\n",
       "       'Cor_ronchi170lpmm_RG610_HD75519_2021-03-11_188.fits',\n",
       "       'Cor_ronchi170lpmm_RG610_HD75519_2021-03-11_235.fits',\n",
       "       'Cor_ronchi170lpmm_RG610_HD75519_2021-03-11_262.fits',\n",
       "       'Cor_ronchi170lpmm_RG610_HD75519_2021-03-11_274.fits',\n",
       "       'Cor_ronchi170lpmm_RG610_HD75519_2021-03-11_223.fits',\n",
       "       'Cor_ronchi170lpmm_RG610_HD75519_2021-03-11_222.fits',\n",
       "       'Cor_ronchi170lpmm_RG610_HD75519_2021-03-11_275.fits',\n",
       "       'Cor_ronchi170lpmm_RG610_HD75519_2021-03-11_263.fits',\n",
       "       'Cor_ronchi170lpmm_RG610_HD75519_2021-03-11_234.fits',\n",
       "       'Cor_ronchi170lpmm_RG610_HD75519_2021-03-11_189.fits',\n",
       "       'Cor_ronchi170lpmm_RG610_HD75519_2021-03-11_218.fits',\n",
       "       'Cor_ronchi170lpmm_RG610_HD75519_2021-03-11_259.fits',\n",
       "       'Cor_ronchi170lpmm_RG610_HD75519_2021-03-11_279.fits',\n",
       "       'Cor_ronchi170lpmm_RG610_HD75519_2021-03-11_280.fits',\n",
       "       'Cor_ronchi170lpmm_RG610_HD75519_2021-03-11_238.fits',\n",
       "       'Cor_ronchi170lpmm_RG610_HD75519_2021-03-11_243.fits',\n",
       "       'Cor_ronchi170lpmm_RG610_HD75519_2021-03-11_214.fits',\n",
       "       'Cor_ronchi170lpmm_RG610_HD75519_2021-03-11_202.fits',\n",
       "       'Cor_ronchi170lpmm_RG610_HD75519_2021-03-11_255.fits'],\n",
       "      dtype='<U51')"
      ]
     },
     "execution_count": 13,
     "metadata": {},
     "output_type": "execute_result"
    }
   ],
   "source": [
    "all_selected_files"
   ]
  },
  {
   "cell_type": "markdown",
   "metadata": {},
   "source": [
    "### Sort files"
   ]
  },
  {
   "cell_type": "code",
   "execution_count": 14,
   "metadata": {},
   "outputs": [],
   "source": [
    "def file_tag_forsorting(filename):\n",
    "    m=re.findall('^Cor_ronchi170lpmm_.*([0-9][0-9][0-9][0-9]-[0-9][0-9]-[0-9][0-9]_.*)[.]fits$',filename)\n",
    "    return m"
   ]
  },
  {
   "cell_type": "code",
   "execution_count": 15,
   "metadata": {},
   "outputs": [],
   "source": [
    "def file_target(filename):\n",
    "    m=re.findall('^Cor_ronchi170lpmm_.*_(.*)_[0-9][0-9][0-9][0-9]-[0-9][0-9]-[0-9][0-9]_.*[.]fits$',filename)\n",
    "    if len(m)>0:\n",
    "        return m\n",
    "    elif re.search('NGC4755',filename):\n",
    "        return ['NGC4755']\n",
    "    else:\n",
    "        return []"
   ]
  },
  {
   "cell_type": "code",
   "execution_count": 16,
   "metadata": {},
   "outputs": [],
   "source": [
    "all_tags = [ file_tag_forsorting(filename)[0] for filename in all_selected_files]\n",
    "all_tags=np.array(all_tags)"
   ]
  },
  {
   "cell_type": "code",
   "execution_count": 17,
   "metadata": {},
   "outputs": [],
   "source": [
    "indexes=np.argsort(all_tags)"
   ]
  },
  {
   "cell_type": "code",
   "execution_count": 18,
   "metadata": {},
   "outputs": [],
   "source": [
    "sorted_files=all_selected_files[indexes]"
   ]
  },
  {
   "cell_type": "code",
   "execution_count": 19,
   "metadata": {},
   "outputs": [],
   "source": [
    "N=len(sorted_files)"
   ]
  },
  {
   "cell_type": "code",
   "execution_count": null,
   "metadata": {},
   "outputs": [],
   "source": []
  },
  {
   "cell_type": "markdown",
   "metadata": {},
   "source": [
    "### Filter bad files"
   ]
  },
  {
   "cell_type": "code",
   "execution_count": 20,
   "metadata": {},
   "outputs": [],
   "source": [
    "idx=0\n",
    "indexes_bad=[]\n",
    "for filename in sorted_files:\n",
    "    fullfilename=os.path.join(dir_images,filename)\n",
    "    hdu = fits.open(fullfilename)\n",
    "    hdu0=hdu[0]\n",
    "    hdr0=hdu0.header\n",
    "    #print(hdr0['OBJECT'],\"\\t\",filename)\n",
    "    if hdr0['OBJECT'] == '35 Tau' or hdr0['OBJECT'] == 'Park position':\n",
    "        print('bad file ', filename)\n",
    "        indexes_bad.append(idx)\n",
    "        \n",
    "    idx+=1"
   ]
  },
  {
   "cell_type": "code",
   "execution_count": 21,
   "metadata": {},
   "outputs": [
    {
     "data": {
      "text/plain": [
       "[]"
      ]
     },
     "execution_count": 21,
     "metadata": {},
     "output_type": "execute_result"
    }
   ],
   "source": [
    "indexes_bad"
   ]
  },
  {
   "cell_type": "markdown",
   "metadata": {},
   "source": [
    "### Remove bad files"
   ]
  },
  {
   "cell_type": "code",
   "execution_count": 22,
   "metadata": {},
   "outputs": [],
   "source": [
    "if len(indexes_bad)>0:\n",
    "    sorted_files=np.delete(sorted_files,indexes_bad)"
   ]
  },
  {
   "cell_type": "markdown",
   "metadata": {},
   "source": [
    "### Check for target"
   ]
  },
  {
   "cell_type": "code",
   "execution_count": 23,
   "metadata": {},
   "outputs": [
    {
     "name": "stdout",
     "output_type": "stream",
     "text": [
      "['HD75519'] \t Cor_ronchi170lpmm_RG610_HD75519_2021-03-11_188.fits\n",
      "['HD75519'] \t Cor_ronchi170lpmm_RG610_HD75519_2021-03-11_189.fits\n",
      "['HD75519'] \t Cor_ronchi170lpmm_RG610_HD75519_2021-03-11_190.fits\n",
      "['HD75519'] \t Cor_ronchi170lpmm_RG610_HD75519_2021-03-11_200.fits\n",
      "['HD75519'] \t Cor_ronchi170lpmm_RG610_HD75519_2021-03-11_201.fits\n",
      "['HD75519'] \t Cor_ronchi170lpmm_RG610_HD75519_2021-03-11_202.fits\n",
      "['HD75519'] \t Cor_ronchi170lpmm_RG610_HD75519_2021-03-11_203.fits\n",
      "['HD75519'] \t Cor_ronchi170lpmm_RG610_HD75519_2021-03-11_204.fits\n",
      "['HD75519'] \t Cor_ronchi170lpmm_RG610_HD75519_2021-03-11_205.fits\n",
      "['HD75519'] \t Cor_ronchi170lpmm_RG610_HD75519_2021-03-11_206.fits\n",
      "['HD75519'] \t Cor_ronchi170lpmm_RG610_HD75519_2021-03-11_207.fits\n",
      "['HD75519'] \t Cor_ronchi170lpmm_RG610_HD75519_2021-03-11_208.fits\n",
      "['HD75519'] \t Cor_ronchi170lpmm_RG610_HD75519_2021-03-11_209.fits\n",
      "['HD75519'] \t Cor_ronchi170lpmm_RG610_HD75519_2021-03-11_210.fits\n",
      "['HD75519'] \t Cor_ronchi170lpmm_RG610_HD75519_2021-03-11_211.fits\n",
      "['HD75519'] \t Cor_ronchi170lpmm_RG610_HD75519_2021-03-11_212.fits\n",
      "['HD75519'] \t Cor_ronchi170lpmm_RG610_HD75519_2021-03-11_213.fits\n",
      "['HD75519'] \t Cor_ronchi170lpmm_RG610_HD75519_2021-03-11_214.fits\n",
      "['HD75519'] \t Cor_ronchi170lpmm_RG610_HD75519_2021-03-11_215.fits\n",
      "['HD75519'] \t Cor_ronchi170lpmm_RG610_HD75519_2021-03-11_216.fits\n",
      "['HD75519'] \t Cor_ronchi170lpmm_RG610_HD75519_2021-03-11_217.fits\n",
      "['HD75519'] \t Cor_ronchi170lpmm_RG610_HD75519_2021-03-11_218.fits\n",
      "['HD75519'] \t Cor_ronchi170lpmm_RG610_HD75519_2021-03-11_219.fits\n",
      "['HD75519'] \t Cor_ronchi170lpmm_RG610_HD75519_2021-03-11_220.fits\n",
      "['HD75519'] \t Cor_ronchi170lpmm_RG610_HD75519_2021-03-11_221.fits\n",
      "['HD75519'] \t Cor_ronchi170lpmm_RG610_HD75519_2021-03-11_222.fits\n",
      "['HD75519'] \t Cor_ronchi170lpmm_RG610_HD75519_2021-03-11_223.fits\n",
      "['HD75519'] \t Cor_ronchi170lpmm_RG610_HD75519_2021-03-11_224.fits\n",
      "['HD75519'] \t Cor_ronchi170lpmm_RG610_HD75519_2021-03-11_225.fits\n",
      "['HD75519'] \t Cor_ronchi170lpmm_RG610_HD75519_2021-03-11_226.fits\n",
      "['HD75519'] \t Cor_ronchi170lpmm_RG610_HD75519_2021-03-11_227.fits\n",
      "['HD75519'] \t Cor_ronchi170lpmm_RG610_HD75519_2021-03-11_228.fits\n",
      "['HD75519'] \t Cor_ronchi170lpmm_RG610_HD75519_2021-03-11_229.fits\n",
      "['HD75519'] \t Cor_ronchi170lpmm_RG610_HD75519_2021-03-11_230.fits\n",
      "['HD75519'] \t Cor_ronchi170lpmm_RG610_HD75519_2021-03-11_231.fits\n",
      "['HD75519'] \t Cor_ronchi170lpmm_RG610_HD75519_2021-03-11_232.fits\n",
      "['HD75519'] \t Cor_ronchi170lpmm_RG610_HD75519_2021-03-11_233.fits\n",
      "['HD75519'] \t Cor_ronchi170lpmm_RG610_HD75519_2021-03-11_234.fits\n",
      "['HD75519'] \t Cor_ronchi170lpmm_RG610_HD75519_2021-03-11_235.fits\n",
      "['HD75519'] \t Cor_ronchi170lpmm_RG610_HD75519_2021-03-11_236.fits\n",
      "['HD75519'] \t Cor_ronchi170lpmm_RG610_HD75519_2021-03-11_237.fits\n",
      "['HD75519'] \t Cor_ronchi170lpmm_RG610_HD75519_2021-03-11_238.fits\n",
      "['HD75519'] \t Cor_ronchi170lpmm_RG610_HD75519_2021-03-11_239.fits\n",
      "['HD75519'] \t Cor_ronchi170lpmm_RG610_HD75519_2021-03-11_240.fits\n",
      "['HD75519'] \t Cor_ronchi170lpmm_RG610_HD75519_2021-03-11_241.fits\n",
      "['HD75519'] \t Cor_ronchi170lpmm_RG610_HD75519_2021-03-11_242.fits\n",
      "['HD75519'] \t Cor_ronchi170lpmm_RG610_HD75519_2021-03-11_243.fits\n",
      "['HD75519'] \t Cor_ronchi170lpmm_RG610_HD75519_2021-03-11_244.fits\n",
      "['HD75519'] \t Cor_ronchi170lpmm_RG610_HD75519_2021-03-11_245.fits\n",
      "['HD75519'] \t Cor_ronchi170lpmm_RG610_HD75519_2021-03-11_246.fits\n",
      "['HD75519'] \t Cor_ronchi170lpmm_RG610_HD75519_2021-03-11_247.fits\n",
      "['HD75519'] \t Cor_ronchi170lpmm_RG610_HD75519_2021-03-11_248.fits\n",
      "['HD75519'] \t Cor_ronchi170lpmm_RG610_HD75519_2021-03-11_249.fits\n",
      "['HD75519'] \t Cor_ronchi170lpmm_RG610_HD75519_2021-03-11_250.fits\n",
      "['HD75519'] \t Cor_ronchi170lpmm_RG610_HD75519_2021-03-11_251.fits\n",
      "['HD75519'] \t Cor_ronchi170lpmm_RG610_HD75519_2021-03-11_252.fits\n",
      "['HD75519'] \t Cor_ronchi170lpmm_RG610_HD75519_2021-03-11_253.fits\n",
      "['HD75519'] \t Cor_ronchi170lpmm_RG610_HD75519_2021-03-11_254.fits\n",
      "['HD75519'] \t Cor_ronchi170lpmm_RG610_HD75519_2021-03-11_255.fits\n",
      "['HD75519'] \t Cor_ronchi170lpmm_RG610_HD75519_2021-03-11_256.fits\n",
      "['HD75519'] \t Cor_ronchi170lpmm_RG610_HD75519_2021-03-11_257.fits\n",
      "['HD75519'] \t Cor_ronchi170lpmm_RG610_HD75519_2021-03-11_258.fits\n",
      "['HD75519'] \t Cor_ronchi170lpmm_RG610_HD75519_2021-03-11_259.fits\n",
      "['HD75519'] \t Cor_ronchi170lpmm_RG610_HD75519_2021-03-11_260.fits\n",
      "['HD75519'] \t Cor_ronchi170lpmm_RG610_HD75519_2021-03-11_261.fits\n",
      "['HD75519'] \t Cor_ronchi170lpmm_RG610_HD75519_2021-03-11_262.fits\n",
      "['HD75519'] \t Cor_ronchi170lpmm_RG610_HD75519_2021-03-11_263.fits\n",
      "['HD75519'] \t Cor_ronchi170lpmm_RG610_HD75519_2021-03-11_264.fits\n",
      "['HD75519'] \t Cor_ronchi170lpmm_RG610_HD75519_2021-03-11_265.fits\n",
      "['HD75519'] \t Cor_ronchi170lpmm_RG610_HD75519_2021-03-11_266.fits\n",
      "['HD75519'] \t Cor_ronchi170lpmm_RG610_HD75519_2021-03-11_267.fits\n",
      "['HD75519'] \t Cor_ronchi170lpmm_RG610_HD75519_2021-03-11_268.fits\n",
      "['HD75519'] \t Cor_ronchi170lpmm_RG610_HD75519_2021-03-11_269.fits\n",
      "['HD75519'] \t Cor_ronchi170lpmm_RG610_HD75519_2021-03-11_270.fits\n",
      "['HD75519'] \t Cor_ronchi170lpmm_RG610_HD75519_2021-03-11_271.fits\n",
      "['HD75519'] \t Cor_ronchi170lpmm_RG610_HD75519_2021-03-11_272.fits\n",
      "['HD75519'] \t Cor_ronchi170lpmm_RG610_HD75519_2021-03-11_273.fits\n",
      "['HD75519'] \t Cor_ronchi170lpmm_RG610_HD75519_2021-03-11_274.fits\n",
      "['HD75519'] \t Cor_ronchi170lpmm_RG610_HD75519_2021-03-11_275.fits\n",
      "['HD75519'] \t Cor_ronchi170lpmm_RG610_HD75519_2021-03-11_276.fits\n",
      "['HD75519'] \t Cor_ronchi170lpmm_RG610_HD75519_2021-03-11_277.fits\n",
      "['HD75519'] \t Cor_ronchi170lpmm_RG610_HD75519_2021-03-11_278.fits\n",
      "['HD75519'] \t Cor_ronchi170lpmm_RG610_HD75519_2021-03-11_279.fits\n",
      "['HD75519'] \t Cor_ronchi170lpmm_RG610_HD75519_2021-03-11_280.fits\n",
      "['HD75519'] \t Cor_ronchi170lpmm_RG610_HD75519_2021-03-11_281.fits\n",
      "['HD75519'] \t Cor_ronchi170lpmm_RG610_HD75519_2021-03-11_282.fits\n"
     ]
    }
   ],
   "source": [
    "for filename in sorted_files:\n",
    "    print(file_target(filename),\"\\t\",filename)"
   ]
  },
  {
   "cell_type": "code",
   "execution_count": 24,
   "metadata": {
    "scrolled": true
   },
   "outputs": [],
   "source": [
    "idx=0\n",
    "for filename in sorted_files:\n",
    "    fullfilename=os.path.join(dir_images,filename)\n",
    "    hdu = fits.open(fullfilename)\n",
    "    hdu0=hdu[0]\n",
    "    hdr0=hdu0.header\n",
    "    #print(hdr0,\"\\t\",filename)\n",
    "        \n",
    "    idx+=1"
   ]
  },
  {
   "cell_type": "markdown",
   "metadata": {},
   "source": [
    "# Build the logbook from the headers"
   ]
  },
  {
   "cell_type": "code",
   "execution_count": 25,
   "metadata": {},
   "outputs": [],
   "source": [
    "idx=0\n",
    "ccdir='/sps/lsst/groups/auxtel/data/2021/ronchi170lpmm/FlipCleans'\n",
    "all_dates=[]\n",
    "all_files=[]\n",
    "all_seqnum=[]\n",
    "all_subdir=[]\n",
    "all_indexes=[]\n",
    "all_targets=[]\n",
    "all_filters=[]\n",
    "all_disperser=[]\n",
    "all_airmass=[]\n",
    "all_exposures=[]\n",
    "all_focus=[]\n",
    "all_seeing=[]\n",
    "all_P=[]\n",
    "all_T=[]\n",
    "all_H=[]\n",
    "all_W=[]\n",
    "for filename in sorted_files:\n",
    "    fullfilename=os.path.join(dir_images,filename)\n",
    "    hdu = fits.open(fullfilename)\n",
    "    hdu0=hdu[0]\n",
    "    hdr0=hdu0.header \n",
    "    all_indexes.append(idx)\n",
    "    all_seqnum.append(hdr0['SEQNUM'])\n",
    "    all_files.append(filename)\n",
    "    all_subdir.append(ccdir)\n",
    "    targetname=file_target(filename)[0]\n",
    "    all_targets.append(targetname)\n",
    "    all_dates.append(hdr0['DATE-OBS'])\n",
    "    all_airmass.append(hdr0['AMSTART'])\n",
    "    all_filters.append(hdr0['FILTER'])\n",
    "    all_disperser.append(hdr0['GRATING'])\n",
    "    all_exposures.append(hdr0['EXPTIME'])\n",
    "    all_focus.append(hdr0['FOCUSZ'])\n",
    "    all_seeing.append(hdr0['SEEING'])\n",
    "    all_P.append(hdr0['PRESSURE'])\n",
    "    all_T.append(hdr0['AIRTEMP'])\n",
    "    all_H.append(hdr0['HUMIDITY'])\n",
    "    all_W.append(hdr0['WINDSPD'])\n",
    "       \n",
    "    \n",
    "    idx+=1\n",
    "    "
   ]
  },
  {
   "cell_type": "markdown",
   "metadata": {},
   "source": [
    "# Make pandas dataframe"
   ]
  },
  {
   "cell_type": "code",
   "execution_count": 26,
   "metadata": {},
   "outputs": [],
   "source": [
    "df=pd.DataFrame()"
   ]
  },
  {
   "cell_type": "code",
   "execution_count": 27,
   "metadata": {},
   "outputs": [
    {
     "data": {
      "text/plain": [
       "86"
      ]
     },
     "execution_count": 27,
     "metadata": {},
     "output_type": "execute_result"
    }
   ],
   "source": [
    "len(all_airmass)"
   ]
  },
  {
   "cell_type": "code",
   "execution_count": 28,
   "metadata": {},
   "outputs": [],
   "source": [
    "N=len(all_indexes)"
   ]
  },
  {
   "cell_type": "code",
   "execution_count": 29,
   "metadata": {},
   "outputs": [],
   "source": [
    "df['index']=all_indexes\n",
    "df['date']=all_dates\n",
    "df['path']=all_subdir\n",
    "df['file']=all_files\n",
    "df['num']=all_seqnum\n",
    "df['object']=all_targets\n",
    "df['filter']=all_filters\n",
    "df['disperser']=all_disperser\n",
    "df['airmass']=all_airmass\n",
    "df['exposure']=all_exposures\n",
    "df['focus']=all_focus\n",
    "df['seeing']=all_seeing\n",
    "df['pressure']=all_P\n",
    "df['temperature']=all_T\n",
    "df['humidity']=all_H\n",
    "df['windspd']=all_W"
   ]
  },
  {
   "cell_type": "code",
   "execution_count": 30,
   "metadata": {},
   "outputs": [],
   "source": [
    "'Obj-posXpix'\n",
    "'Obj-posYpix'\n",
    "Obj_posXpix=np.full(N,np.nan)\n",
    "Obj_posYpix=np.full(N,np.nan)\n",
    "Dx=np.full(N,np.nan)\n",
    "Dy=np.full(N,np.nan)\n",
    "run=np.full(N,np.nan)\n",
    "quality=np.full(N,np.nan)\n",
    "skip=np.full(N,\"    \")"
   ]
  },
  {
   "cell_type": "code",
   "execution_count": 31,
   "metadata": {},
   "outputs": [],
   "source": [
    "for idx in np.arange(N):\n",
    "    filename=all_files[idx]\n",
    "    if filename in info.keys():\n",
    "        (run_flag,quality_flag,xpos,ypos)=info[filename]\n",
    "        Obj_posXpix[idx]=int(xpos)\n",
    "        Obj_posYpix[idx]=int(ypos)\n",
    "        run[idx]=run_flag\n",
    "        if quality_flag==1:\n",
    "            skip[idx] = \"    \"\n",
    "            quality[idx]=1\n",
    "        else:\n",
    "            skip[idx] = \"skip\"\n",
    "            quality[idx]=0"
   ]
  },
  {
   "cell_type": "code",
   "execution_count": 32,
   "metadata": {},
   "outputs": [],
   "source": [
    "df['Obj-posXpix']=Obj_posXpix\n",
    "df['Obj-posYpix']=Obj_posYpix\n",
    "df['Dx']=Dx\n",
    "df['Dy']=Dy\n",
    "df['skip']=skip\n",
    "df['run']=run\n",
    "df['quality']=quality"
   ]
  },
  {
   "cell_type": "code",
   "execution_count": 33,
   "metadata": {},
   "outputs": [
    {
     "data": {
      "text/html": [
       "<div>\n",
       "<style scoped>\n",
       "    .dataframe tbody tr th:only-of-type {\n",
       "        vertical-align: middle;\n",
       "    }\n",
       "\n",
       "    .dataframe tbody tr th {\n",
       "        vertical-align: top;\n",
       "    }\n",
       "\n",
       "    .dataframe thead th {\n",
       "        text-align: right;\n",
       "    }\n",
       "</style>\n",
       "<table border=\"1\" class=\"dataframe\">\n",
       "  <thead>\n",
       "    <tr style=\"text-align: right;\">\n",
       "      <th></th>\n",
       "      <th>index</th>\n",
       "      <th>date</th>\n",
       "      <th>path</th>\n",
       "      <th>file</th>\n",
       "      <th>num</th>\n",
       "      <th>object</th>\n",
       "      <th>filter</th>\n",
       "      <th>disperser</th>\n",
       "      <th>airmass</th>\n",
       "      <th>exposure</th>\n",
       "      <th>...</th>\n",
       "      <th>temperature</th>\n",
       "      <th>humidity</th>\n",
       "      <th>windspd</th>\n",
       "      <th>Obj-posXpix</th>\n",
       "      <th>Obj-posYpix</th>\n",
       "      <th>Dx</th>\n",
       "      <th>Dy</th>\n",
       "      <th>skip</th>\n",
       "      <th>run</th>\n",
       "      <th>quality</th>\n",
       "    </tr>\n",
       "  </thead>\n",
       "  <tbody>\n",
       "    <tr>\n",
       "      <th>0</th>\n",
       "      <td>0</td>\n",
       "      <td>2021-03-12T01:19:36.315</td>\n",
       "      <td>/sps/lsst/groups/auxtel/data/2021/ronchi170lpm...</td>\n",
       "      <td>Cor_ronchi170lpmm_RG610_HD75519_2021-03-11_188...</td>\n",
       "      <td>188</td>\n",
       "      <td>HD75519</td>\n",
       "      <td>RG610</td>\n",
       "      <td>ronchi170lpmm</td>\n",
       "      <td>1.033813</td>\n",
       "      <td>5.0</td>\n",
       "      <td>...</td>\n",
       "      <td>11.7</td>\n",
       "      <td>50.0</td>\n",
       "      <td>0.9</td>\n",
       "      <td>1800.0</td>\n",
       "      <td>2500.0</td>\n",
       "      <td>NaN</td>\n",
       "      <td>NaN</td>\n",
       "      <td>skip</td>\n",
       "      <td>1.0</td>\n",
       "      <td>0.0</td>\n",
       "    </tr>\n",
       "    <tr>\n",
       "      <th>1</th>\n",
       "      <td>1</td>\n",
       "      <td>2021-03-12T01:20:18.220</td>\n",
       "      <td>/sps/lsst/groups/auxtel/data/2021/ronchi170lpm...</td>\n",
       "      <td>Cor_ronchi170lpmm_RG610_HD75519_2021-03-11_189...</td>\n",
       "      <td>189</td>\n",
       "      <td>HD75519</td>\n",
       "      <td>RG610</td>\n",
       "      <td>ronchi170lpmm</td>\n",
       "      <td>1.033311</td>\n",
       "      <td>5.0</td>\n",
       "      <td>...</td>\n",
       "      <td>11.7</td>\n",
       "      <td>55.0</td>\n",
       "      <td>0.8</td>\n",
       "      <td>1800.0</td>\n",
       "      <td>2500.0</td>\n",
       "      <td>NaN</td>\n",
       "      <td>NaN</td>\n",
       "      <td>skip</td>\n",
       "      <td>1.0</td>\n",
       "      <td>0.0</td>\n",
       "    </tr>\n",
       "    <tr>\n",
       "      <th>2</th>\n",
       "      <td>2</td>\n",
       "      <td>2021-03-12T01:20:33.072</td>\n",
       "      <td>/sps/lsst/groups/auxtel/data/2021/ronchi170lpm...</td>\n",
       "      <td>Cor_ronchi170lpmm_RG610_HD75519_2021-03-11_190...</td>\n",
       "      <td>190</td>\n",
       "      <td>HD75519</td>\n",
       "      <td>RG610</td>\n",
       "      <td>ronchi170lpmm</td>\n",
       "      <td>1.033136</td>\n",
       "      <td>5.0</td>\n",
       "      <td>...</td>\n",
       "      <td>11.7</td>\n",
       "      <td>55.0</td>\n",
       "      <td>0.8</td>\n",
       "      <td>1800.0</td>\n",
       "      <td>2500.0</td>\n",
       "      <td>NaN</td>\n",
       "      <td>NaN</td>\n",
       "      <td>skip</td>\n",
       "      <td>1.0</td>\n",
       "      <td>0.0</td>\n",
       "    </tr>\n",
       "    <tr>\n",
       "      <th>3</th>\n",
       "      <td>3</td>\n",
       "      <td>2021-03-12T01:52:19.566</td>\n",
       "      <td>/sps/lsst/groups/auxtel/data/2021/ronchi170lpm...</td>\n",
       "      <td>Cor_ronchi170lpmm_RG610_HD75519_2021-03-11_200...</td>\n",
       "      <td>200</td>\n",
       "      <td>HD75519</td>\n",
       "      <td>RG610</td>\n",
       "      <td>ronchi170lpmm</td>\n",
       "      <td>1.017516</td>\n",
       "      <td>5.0</td>\n",
       "      <td>...</td>\n",
       "      <td>11.6</td>\n",
       "      <td>49.0</td>\n",
       "      <td>0.3</td>\n",
       "      <td>2100.0</td>\n",
       "      <td>1750.0</td>\n",
       "      <td>NaN</td>\n",
       "      <td>NaN</td>\n",
       "      <td>skip</td>\n",
       "      <td>1.0</td>\n",
       "      <td>0.0</td>\n",
       "    </tr>\n",
       "    <tr>\n",
       "      <th>4</th>\n",
       "      <td>4</td>\n",
       "      <td>2021-03-12T01:52:28.549</td>\n",
       "      <td>/sps/lsst/groups/auxtel/data/2021/ronchi170lpm...</td>\n",
       "      <td>Cor_ronchi170lpmm_RG610_HD75519_2021-03-11_201...</td>\n",
       "      <td>201</td>\n",
       "      <td>HD75519</td>\n",
       "      <td>RG610</td>\n",
       "      <td>ronchi170lpmm</td>\n",
       "      <td>1.017474</td>\n",
       "      <td>5.0</td>\n",
       "      <td>...</td>\n",
       "      <td>11.6</td>\n",
       "      <td>49.0</td>\n",
       "      <td>0.3</td>\n",
       "      <td>2100.0</td>\n",
       "      <td>1750.0</td>\n",
       "      <td>NaN</td>\n",
       "      <td>NaN</td>\n",
       "      <td>skip</td>\n",
       "      <td>0.0</td>\n",
       "      <td>0.0</td>\n",
       "    </tr>\n",
       "    <tr>\n",
       "      <th>...</th>\n",
       "      <td>...</td>\n",
       "      <td>...</td>\n",
       "      <td>...</td>\n",
       "      <td>...</td>\n",
       "      <td>...</td>\n",
       "      <td>...</td>\n",
       "      <td>...</td>\n",
       "      <td>...</td>\n",
       "      <td>...</td>\n",
       "      <td>...</td>\n",
       "      <td>...</td>\n",
       "      <td>...</td>\n",
       "      <td>...</td>\n",
       "      <td>...</td>\n",
       "      <td>...</td>\n",
       "      <td>...</td>\n",
       "      <td>...</td>\n",
       "      <td>...</td>\n",
       "      <td>...</td>\n",
       "      <td>...</td>\n",
       "      <td>...</td>\n",
       "    </tr>\n",
       "    <tr>\n",
       "      <th>81</th>\n",
       "      <td>81</td>\n",
       "      <td>2021-03-12T02:39:32.732</td>\n",
       "      <td>/sps/lsst/groups/auxtel/data/2021/ronchi170lpm...</td>\n",
       "      <td>Cor_ronchi170lpmm_RG610_HD75519_2021-03-11_278...</td>\n",
       "      <td>278</td>\n",
       "      <td>HD75519</td>\n",
       "      <td>RG610</td>\n",
       "      <td>ronchi170lpmm</td>\n",
       "      <td>1.018966</td>\n",
       "      <td>25.0</td>\n",
       "      <td>...</td>\n",
       "      <td>12.0</td>\n",
       "      <td>55.0</td>\n",
       "      <td>1.5</td>\n",
       "      <td>200.0</td>\n",
       "      <td>1800.0</td>\n",
       "      <td>NaN</td>\n",
       "      <td>NaN</td>\n",
       "      <td></td>\n",
       "      <td>1.0</td>\n",
       "      <td>1.0</td>\n",
       "    </tr>\n",
       "    <tr>\n",
       "      <th>82</th>\n",
       "      <td>82</td>\n",
       "      <td>2021-03-12T02:40:01.877</td>\n",
       "      <td>/sps/lsst/groups/auxtel/data/2021/ronchi170lpm...</td>\n",
       "      <td>Cor_ronchi170lpmm_RG610_HD75519_2021-03-11_279...</td>\n",
       "      <td>279</td>\n",
       "      <td>HD75519</td>\n",
       "      <td>RG610</td>\n",
       "      <td>ronchi170lpmm</td>\n",
       "      <td>1.019130</td>\n",
       "      <td>25.0</td>\n",
       "      <td>...</td>\n",
       "      <td>12.0</td>\n",
       "      <td>55.0</td>\n",
       "      <td>1.5</td>\n",
       "      <td>200.0</td>\n",
       "      <td>1800.0</td>\n",
       "      <td>NaN</td>\n",
       "      <td>NaN</td>\n",
       "      <td></td>\n",
       "      <td>1.0</td>\n",
       "      <td>1.0</td>\n",
       "    </tr>\n",
       "    <tr>\n",
       "      <th>83</th>\n",
       "      <td>83</td>\n",
       "      <td>2021-03-12T02:40:31.045</td>\n",
       "      <td>/sps/lsst/groups/auxtel/data/2021/ronchi170lpm...</td>\n",
       "      <td>Cor_ronchi170lpmm_RG610_HD75519_2021-03-11_280...</td>\n",
       "      <td>280</td>\n",
       "      <td>HD75519</td>\n",
       "      <td>RG610</td>\n",
       "      <td>ronchi170lpmm</td>\n",
       "      <td>1.019298</td>\n",
       "      <td>25.0</td>\n",
       "      <td>...</td>\n",
       "      <td>11.9</td>\n",
       "      <td>55.0</td>\n",
       "      <td>1.5</td>\n",
       "      <td>200.0</td>\n",
       "      <td>1800.0</td>\n",
       "      <td>NaN</td>\n",
       "      <td>NaN</td>\n",
       "      <td></td>\n",
       "      <td>1.0</td>\n",
       "      <td>1.0</td>\n",
       "    </tr>\n",
       "    <tr>\n",
       "      <th>84</th>\n",
       "      <td>84</td>\n",
       "      <td>2021-03-12T02:41:00.031</td>\n",
       "      <td>/sps/lsst/groups/auxtel/data/2021/ronchi170lpm...</td>\n",
       "      <td>Cor_ronchi170lpmm_RG610_HD75519_2021-03-11_281...</td>\n",
       "      <td>281</td>\n",
       "      <td>HD75519</td>\n",
       "      <td>RG610</td>\n",
       "      <td>ronchi170lpmm</td>\n",
       "      <td>1.019468</td>\n",
       "      <td>25.0</td>\n",
       "      <td>...</td>\n",
       "      <td>11.9</td>\n",
       "      <td>55.0</td>\n",
       "      <td>1.5</td>\n",
       "      <td>200.0</td>\n",
       "      <td>1800.0</td>\n",
       "      <td>NaN</td>\n",
       "      <td>NaN</td>\n",
       "      <td></td>\n",
       "      <td>1.0</td>\n",
       "      <td>1.0</td>\n",
       "    </tr>\n",
       "    <tr>\n",
       "      <th>85</th>\n",
       "      <td>85</td>\n",
       "      <td>2021-03-12T02:41:29.145</td>\n",
       "      <td>/sps/lsst/groups/auxtel/data/2021/ronchi170lpm...</td>\n",
       "      <td>Cor_ronchi170lpmm_RG610_HD75519_2021-03-11_282...</td>\n",
       "      <td>282</td>\n",
       "      <td>HD75519</td>\n",
       "      <td>RG610</td>\n",
       "      <td>ronchi170lpmm</td>\n",
       "      <td>1.019641</td>\n",
       "      <td>25.0</td>\n",
       "      <td>...</td>\n",
       "      <td>11.9</td>\n",
       "      <td>55.0</td>\n",
       "      <td>1.3</td>\n",
       "      <td>200.0</td>\n",
       "      <td>1800.0</td>\n",
       "      <td>NaN</td>\n",
       "      <td>NaN</td>\n",
       "      <td></td>\n",
       "      <td>1.0</td>\n",
       "      <td>1.0</td>\n",
       "    </tr>\n",
       "  </tbody>\n",
       "</table>\n",
       "<p>86 rows × 23 columns</p>\n",
       "</div>"
      ],
      "text/plain": [
       "    index                     date  \\\n",
       "0       0  2021-03-12T01:19:36.315   \n",
       "1       1  2021-03-12T01:20:18.220   \n",
       "2       2  2021-03-12T01:20:33.072   \n",
       "3       3  2021-03-12T01:52:19.566   \n",
       "4       4  2021-03-12T01:52:28.549   \n",
       "..    ...                      ...   \n",
       "81     81  2021-03-12T02:39:32.732   \n",
       "82     82  2021-03-12T02:40:01.877   \n",
       "83     83  2021-03-12T02:40:31.045   \n",
       "84     84  2021-03-12T02:41:00.031   \n",
       "85     85  2021-03-12T02:41:29.145   \n",
       "\n",
       "                                                 path  \\\n",
       "0   /sps/lsst/groups/auxtel/data/2021/ronchi170lpm...   \n",
       "1   /sps/lsst/groups/auxtel/data/2021/ronchi170lpm...   \n",
       "2   /sps/lsst/groups/auxtel/data/2021/ronchi170lpm...   \n",
       "3   /sps/lsst/groups/auxtel/data/2021/ronchi170lpm...   \n",
       "4   /sps/lsst/groups/auxtel/data/2021/ronchi170lpm...   \n",
       "..                                                ...   \n",
       "81  /sps/lsst/groups/auxtel/data/2021/ronchi170lpm...   \n",
       "82  /sps/lsst/groups/auxtel/data/2021/ronchi170lpm...   \n",
       "83  /sps/lsst/groups/auxtel/data/2021/ronchi170lpm...   \n",
       "84  /sps/lsst/groups/auxtel/data/2021/ronchi170lpm...   \n",
       "85  /sps/lsst/groups/auxtel/data/2021/ronchi170lpm...   \n",
       "\n",
       "                                                 file  num   object filter  \\\n",
       "0   Cor_ronchi170lpmm_RG610_HD75519_2021-03-11_188...  188  HD75519  RG610   \n",
       "1   Cor_ronchi170lpmm_RG610_HD75519_2021-03-11_189...  189  HD75519  RG610   \n",
       "2   Cor_ronchi170lpmm_RG610_HD75519_2021-03-11_190...  190  HD75519  RG610   \n",
       "3   Cor_ronchi170lpmm_RG610_HD75519_2021-03-11_200...  200  HD75519  RG610   \n",
       "4   Cor_ronchi170lpmm_RG610_HD75519_2021-03-11_201...  201  HD75519  RG610   \n",
       "..                                                ...  ...      ...    ...   \n",
       "81  Cor_ronchi170lpmm_RG610_HD75519_2021-03-11_278...  278  HD75519  RG610   \n",
       "82  Cor_ronchi170lpmm_RG610_HD75519_2021-03-11_279...  279  HD75519  RG610   \n",
       "83  Cor_ronchi170lpmm_RG610_HD75519_2021-03-11_280...  280  HD75519  RG610   \n",
       "84  Cor_ronchi170lpmm_RG610_HD75519_2021-03-11_281...  281  HD75519  RG610   \n",
       "85  Cor_ronchi170lpmm_RG610_HD75519_2021-03-11_282...  282  HD75519  RG610   \n",
       "\n",
       "        disperser   airmass  exposure  ...  temperature  humidity  windspd  \\\n",
       "0   ronchi170lpmm  1.033813       5.0  ...         11.7      50.0      0.9   \n",
       "1   ronchi170lpmm  1.033311       5.0  ...         11.7      55.0      0.8   \n",
       "2   ronchi170lpmm  1.033136       5.0  ...         11.7      55.0      0.8   \n",
       "3   ronchi170lpmm  1.017516       5.0  ...         11.6      49.0      0.3   \n",
       "4   ronchi170lpmm  1.017474       5.0  ...         11.6      49.0      0.3   \n",
       "..            ...       ...       ...  ...          ...       ...      ...   \n",
       "81  ronchi170lpmm  1.018966      25.0  ...         12.0      55.0      1.5   \n",
       "82  ronchi170lpmm  1.019130      25.0  ...         12.0      55.0      1.5   \n",
       "83  ronchi170lpmm  1.019298      25.0  ...         11.9      55.0      1.5   \n",
       "84  ronchi170lpmm  1.019468      25.0  ...         11.9      55.0      1.5   \n",
       "85  ronchi170lpmm  1.019641      25.0  ...         11.9      55.0      1.3   \n",
       "\n",
       "    Obj-posXpix  Obj-posYpix  Dx  Dy  skip  run  quality  \n",
       "0        1800.0       2500.0 NaN NaN  skip  1.0      0.0  \n",
       "1        1800.0       2500.0 NaN NaN  skip  1.0      0.0  \n",
       "2        1800.0       2500.0 NaN NaN  skip  1.0      0.0  \n",
       "3        2100.0       1750.0 NaN NaN  skip  1.0      0.0  \n",
       "4        2100.0       1750.0 NaN NaN  skip  0.0      0.0  \n",
       "..          ...          ...  ..  ..   ...  ...      ...  \n",
       "81        200.0       1800.0 NaN NaN        1.0      1.0  \n",
       "82        200.0       1800.0 NaN NaN        1.0      1.0  \n",
       "83        200.0       1800.0 NaN NaN        1.0      1.0  \n",
       "84        200.0       1800.0 NaN NaN        1.0      1.0  \n",
       "85        200.0       1800.0 NaN NaN        1.0      1.0  \n",
       "\n",
       "[86 rows x 23 columns]"
      ]
     },
     "execution_count": 33,
     "metadata": {},
     "output_type": "execute_result"
    }
   ],
   "source": [
    "df"
   ]
  },
  {
   "cell_type": "markdown",
   "metadata": {},
   "source": [
    "# Make logbook\n"
   ]
  },
  {
   "cell_type": "code",
   "execution_count": 34,
   "metadata": {},
   "outputs": [],
   "source": [
    "version=\"v1.1\""
   ]
  },
  {
   "cell_type": "code",
   "execution_count": 35,
   "metadata": {},
   "outputs": [],
   "source": [
    "logbook_csv=\"auxtellogbook_2021_ronchi_\" + version + \".csv\"\n",
    "logbook_xlsx=\"auxtellogbook_2021_ronchi_\" + version + \".xlsx\""
   ]
  },
  {
   "cell_type": "code",
   "execution_count": 36,
   "metadata": {},
   "outputs": [],
   "source": [
    "df.to_excel(logbook_xlsx)\n",
    "df.to_csv(logbook_csv)"
   ]
  },
  {
   "cell_type": "code",
   "execution_count": null,
   "metadata": {},
   "outputs": [],
   "source": []
  }
 ],
 "metadata": {
  "kernelspec": {
   "display_name": "Python 3",
   "language": "python",
   "name": "python3"
  },
  "language_info": {
   "codemirror_mode": {
    "name": "ipython",
    "version": 3
   },
   "file_extension": ".py",
   "mimetype": "text/x-python",
   "name": "python",
   "nbconvert_exporter": "python",
   "pygments_lexer": "ipython3",
   "version": "3.7.7"
  },
  "toc": {
   "base_numbering": 1,
   "nav_menu": {},
   "number_sections": true,
   "sideBar": true,
   "skip_h1_title": false,
   "title_cell": "Table of Contents",
   "title_sidebar": "Contents",
   "toc_cell": false,
   "toc_position": {},
   "toc_section_display": true,
   "toc_window_display": false
  }
 },
 "nbformat": 4,
 "nbformat_minor": 4
}
