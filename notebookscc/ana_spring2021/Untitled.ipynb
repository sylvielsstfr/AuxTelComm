{
 "cells": [
  {
   "cell_type": "code",
   "execution_count": 1,
   "id": "61732193",
   "metadata": {},
   "outputs": [],
   "source": [
    "from astropy.io import fits\n",
    "import sys, platform, os\n",
    "#from astropy.visualization import simple_norm\n",
    "#from astropy.visualization import imshow_norm, MinMaxInterval, SqrtStretch\n",
    "import astropy.visualization  as aspv\n",
    "import numpy as np\n",
    "import matplotlib.pyplot as plt\n",
    "%matplotlib inline\n",
    "from matplotlib.colors import LogNorm\n",
    "import os"
   ]
  },
  {
   "cell_type": "code",
   "execution_count": 5,
   "id": "e439862a",
   "metadata": {},
   "outputs": [],
   "source": [
    "inputdir_day_3=\"/sps/lsst/groups/auxtel/data/2021/micellanous/localreduced/2021-06-08/\""
   ]
  },
  {
   "cell_type": "code",
   "execution_count": 2,
   "id": "dfaf2baf",
   "metadata": {},
   "outputs": [
    {
     "name": "stdout",
     "output_type": "stream",
     "text": [
      "total 54612\n",
      "-rw-r--r-- 1 dagoret lsst  228059 Apr 30 19:59 anaOneSpectra.ipynb\n",
      "-rw-r--r-- 1 dagoret lsst 6291332 Apr 25 14:43 anaQualityTargetPSF.ipynb\n",
      "-rw-r--r-- 1 dagoret lsst 4791343 Apr 25 15:12 anaQualityTargetPSF_ronchi.ipynb\n",
      "-rw-r--r-- 1 dagoret lsst 4791343 Apr 25 15:11 anaQualityTargetPSF_ronchi_v2.ipynb\n",
      "-rw-r--r-- 1 dagoret lsst 4716333 Jun  8 15:41 anaSpectra.ipynb\n",
      "-rw-r--r-- 1 dagoret lsst 7486468 Apr 23 13:51 anaSpectra_ronchi.ipynb\n",
      "-rw-r--r-- 1 dagoret lsst    7552 Mar 31 10:25 checkDisperser.ipynb\n",
      "drwxr-sr-x 2 dagoret lsst     381 Jun  8 16:27 figures_process_holo\n",
      "drwxr-sr-x 2 dagoret lsst     343 Jun  8 17:20 figures_process_ronchi170lpmm\n",
      "drwxr-sr-x 2 dagoret lsst     343 Jun  8 17:09 figures_reprocess\n",
      "drwxr-sr-x 2 dagoret lsst     208 Jun  8 15:41 logbooks\n",
      "-rw-r--r-- 1 dagoret lsst  158517 Jun  8 15:40 makeLogbook.ipynb\n",
      "-rw-r--r-- 1 dagoret lsst   50944 Apr 22 11:55 makeLogbook_ronchi.ipynb\n",
      "-rw-r--r-- 1 dagoret lsst   86670 Jun  8 15:39 makeLogbookronchiLogbook.ipynb\n",
      "drwxr-sr-x 2 dagoret lsst       0 Jun  8 15:43 outputs\n",
      "drwxr-sr-x 2 dagoret lsst     267 Jun  8 16:40 outputs_process_holo\n",
      "drwxr-sr-x 2 dagoret lsst     307 Jun  8 17:20 outputs_process_ronchi170lpmm\n",
      "drwxr-sr-x 2 dagoret lsst     291 Jun  8 17:09 outputs_reprocess\n",
      "-rw-r--r-- 1 dagoret lsst  175187 Jun  8 16:41 processSpectra.ipynb\n",
      "-rw-r--r-- 1 dagoret lsst 1739253 Jun  8 17:20 processSpectraronchi.ipynb\n",
      "-rw-r--r-- 1 dagoret lsst  223149 Apr  2 13:40 processSpectraSim.ipynb\n",
      "-rw-r--r-- 1 dagoret lsst  458235 Jun 10 22:52 QuickViewMyImages.ipynb\n",
      "-rw-r--r-- 1 dagoret lsst  343719 Jun 14 16:01 RawImagesReduction.ipynb\n",
      "-rw-r--r-- 1 dagoret lsst 4483733 Apr 11 17:03 readMySpectra.ipynb\n",
      "-rw-r--r-- 1 dagoret lsst 2888066 Apr  2 11:50 readSpectractSpectra.ipynb\n",
      "-rw-r--r-- 1 dagoret lsst  136175 Jun  8 17:09 reprocessSpectra.ipynb\n",
      "-rw-r--r-- 1 dagoret lsst 2308185 Apr  2 16:53 reprocessSpectra_old.ipynb\n",
      "-rw-r--r-- 1 dagoret lsst    3095 Jun 14 16:12 Untitled.ipynb\n"
     ]
    }
   ],
   "source": [
    "!ls -l $inputdir_day_3"
   ]
  },
  {
   "cell_type": "code",
   "execution_count": null,
   "id": "193e0fe5",
   "metadata": {},
   "outputs": [],
   "source": []
  }
 ],
 "metadata": {
  "kernelspec": {
   "display_name": "anaconda3_auxtel_v2",
   "language": "python",
   "name": "anaconda3_auxtel_v2"
  },
  "language_info": {
   "codemirror_mode": {
    "name": "ipython",
    "version": 3
   },
   "file_extension": ".py",
   "mimetype": "text/x-python",
   "name": "python",
   "nbconvert_exporter": "python",
   "pygments_lexer": "ipython3",
   "version": "3.8.5"
  }
 },
 "nbformat": 4,
 "nbformat_minor": 5
}
