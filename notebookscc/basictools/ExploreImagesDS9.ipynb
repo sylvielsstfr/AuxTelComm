{
 "cells": [
  {
   "cell_type": "markdown",
   "id": "b67a2569",
   "metadata": {},
   "source": [
    "# View AuxTel images with DS9\n",
    "\n",
    "\n",
    "- author : Sylvie Dagoret-Campagne\n",
    "- creation date : July 7th 2021\n",
    "- affiliation : IJCLab\n",
    "- Kernel : anaconda3pbs\n",
    "- **Use Stackyter with DS9**\n",
    "\n",
    "- update : July 22th 2021\n",
    "\n"
   ]
  },
  {
   "cell_type": "code",
   "execution_count": 2,
   "id": "e80e6010",
   "metadata": {},
   "outputs": [],
   "source": [
    "import os"
   ]
  },
  {
   "cell_type": "code",
   "execution_count": 3,
   "id": "2e9ff351-7774-469f-a8d6-60623f007cfd",
   "metadata": {},
   "outputs": [
    {
     "name": "stdout",
     "output_type": "stream",
     "text": [
      "\n",
      "An instance of ds9 was found to be running before we could\n",
      "start the 'xpans' name server. You will need to perform a\n",
      "bit of manual intervention in order to connect this\n",
      "existing ds9 to Python.\n",
      "\n",
      "For ds9 version 5.7 and beyond, simply register the\n",
      "existing ds9 with the xpans name server by selecting the\n",
      "ds9 File->XPA->Connect menu option. Your ds9 will now be\n",
      "fully accessible to pyds9 (e.g., it appear in the list\n",
      "returned by the ds9_targets() routine).\n",
      "\n",
      "For ds9 versions prior to 5.7, you cannot (easily) register\n",
      "with xpans, but you can view ds9's File->XPA Information\n",
      "menu option and pass the value associated with XPA_METHOD\n",
      "directly to the Python DS9() constructor, e.g.:\n",
      "\n",
      "    d = DS9('a000101:12345')\n",
      "\n",
      "The good news is that new instances of ds9 will be\n",
      "registered with xpans, and will be known to ds9_targets()\n",
      "and the DS9() constructor.\n",
      "\n"
     ]
    }
   ],
   "source": [
    "# XPA message parser to DS9\n",
    "# pip install --upgrade [--user] pyds9\n",
    "import pyds9 "
   ]
  },
  {
   "cell_type": "code",
   "execution_count": 4,
   "id": "9ecff76c-4400-41d1-b6ee-1cbb91560885",
   "metadata": {},
   "outputs": [],
   "source": [
    "from astropy.io import fits"
   ]
  },
  {
   "cell_type": "markdown",
   "id": "6ce2f26f-d2ae-4291-b2bf-e3a68d5f2b09",
   "metadata": {},
   "source": [
    "# Configuration"
   ]
  },
  {
   "cell_type": "code",
   "execution_count": 5,
   "id": "28609302",
   "metadata": {},
   "outputs": [],
   "source": [
    "#datapath=\"/sps/lsst/groups/auxtel/data/2021/holo/FlipCleans\"\n",
    "datapath=\"/sps/lsst/groups/auxtel/data/2021/holo/localreduced/2021-07-07\""
   ]
  },
  {
   "cell_type": "code",
   "execution_count": 6,
   "id": "de0741df",
   "metadata": {},
   "outputs": [],
   "source": [
    "files = os.listdir(datapath)"
   ]
  },
  {
   "cell_type": "code",
   "execution_count": 7,
   "id": "d378a73e",
   "metadata": {},
   "outputs": [],
   "source": [
    "selected_file=1"
   ]
  },
  {
   "cell_type": "code",
   "execution_count": 8,
   "id": "69d63071-90f1-4306-b593-d6e80929423b",
   "metadata": {},
   "outputs": [],
   "source": [
    "full_filename=os.path.join(datapath,files[selected_file])"
   ]
  },
  {
   "cell_type": "markdown",
   "id": "168e1ebd-0faa-4d31-8317-4133165ada21",
   "metadata": {},
   "source": [
    "# Open file"
   ]
  },
  {
   "cell_type": "code",
   "execution_count": 9,
   "id": "f5f76014-9d18-416b-a6f8-31e020101641",
   "metadata": {},
   "outputs": [],
   "source": [
    "hdu=fits.open(full_filename)"
   ]
  },
  {
   "cell_type": "code",
   "execution_count": 10,
   "id": "30432ea8-6984-40a2-9702-85923461a015",
   "metadata": {},
   "outputs": [
    {
     "name": "stdout",
     "output_type": "stream",
     "text": [
      "Filename: /sps/lsst/groups/auxtel/data/2021/holo/localreduced/2021-07-07/Cor_holo4_003_empty_HD160617_20210707_000296.fits\n",
      "No.    Name      Ver    Type      Cards   Dimensions   Format\n",
      "  0  Segment10     1 PrimaryHDU     124   ()      \n",
      "  1                1 ImageHDU         7   (4072, 4000)   float64   \n"
     ]
    }
   ],
   "source": [
    "hdu.info()"
   ]
  },
  {
   "cell_type": "code",
   "execution_count": 11,
   "id": "6c19b562-8e47-4b05-aa41-a6e0f0c64aa3",
   "metadata": {},
   "outputs": [],
   "source": [
    "image=hdu[1].data"
   ]
  },
  {
   "cell_type": "code",
   "execution_count": 12,
   "id": "3c45f7d4-1aa9-4dfe-a881-0919408f3330",
   "metadata": {},
   "outputs": [
    {
     "data": {
      "text/plain": [
       "array([[-0.5,  4.5, -5. , ..., 18. , -1.5, -4.5],\n",
       "       [13.5,  7.5, 16. , ..., -3. ,  9.5,  4.5],\n",
       "       [10.5,  3.5, 14. , ..., -5. ,  6.5, -7.5],\n",
       "       ...,\n",
       "       [26. , 43. , 26. , ..., 17. , 32.5, 14.5],\n",
       "       [31. , 35. , 44. , ..., 12. ,  5.5, 13.5],\n",
       "       [ 3. , 25. , 12. , ..., 14. , 19.5,  4.5]])"
      ]
     },
     "execution_count": 12,
     "metadata": {},
     "output_type": "execute_result"
    }
   ],
   "source": [
    "image"
   ]
  },
  {
   "cell_type": "markdown",
   "id": "ed072793-2e52-4bce-856e-8c14b0760c56",
   "metadata": {},
   "source": [
    "# With DS9\n",
    "\n",
    "- DS9 must be lauch initially"
   ]
  },
  {
   "cell_type": "code",
   "execution_count": 13,
   "id": "66b8c6ae-7721-4b71-b041-de07e985c352",
   "metadata": {},
   "outputs": [
    {
     "name": "stdout",
     "output_type": "stream",
     "text": [
      "None\n"
     ]
    }
   ],
   "source": [
    "print(pyds9.ds9_targets())"
   ]
  },
  {
   "cell_type": "code",
   "execution_count": 14,
   "id": "7c1702d0-a94d-4606-a5ed-e20c8d7c2687",
   "metadata": {},
   "outputs": [],
   "source": [
    "all_targets=pyds9.ds9_targets()"
   ]
  },
  {
   "cell_type": "code",
   "execution_count": 15,
   "id": "a0bce151-0b52-464d-942d-170d424d2752",
   "metadata": {},
   "outputs": [],
   "source": [
    "all_targets"
   ]
  },
  {
   "cell_type": "code",
   "execution_count": 16,
   "id": "325e64d1-6adc-43c2-99f7-d245ae9cd0de",
   "metadata": {},
   "outputs": [
    {
     "name": "stdout",
     "output_type": "stream",
     "text": [
      "No DS9 target\n"
     ]
    },
    {
     "ename": "ValueError",
     "evalue": "no active ds9 running for target: ds9",
     "output_type": "error",
     "traceback": [
      "\u001b[0;31m\u001b[0m",
      "\u001b[0;31mValueError\u001b[0mTraceback (most recent call last)",
      "\u001b[0;32m<ipython-input-16-5509998e41df>\u001b[0m in \u001b[0;36m<module>\u001b[0;34m\u001b[0m\n\u001b[1;32m      8\u001b[0m \u001b[0;32melse\u001b[0m\u001b[0;34m:\u001b[0m\u001b[0;34m\u001b[0m\u001b[0;34m\u001b[0m\u001b[0m\n\u001b[1;32m      9\u001b[0m     \u001b[0mprint\u001b[0m\u001b[0;34m(\u001b[0m\u001b[0;34m\"No DS9 target\"\u001b[0m\u001b[0;34m)\u001b[0m\u001b[0;34m\u001b[0m\u001b[0;34m\u001b[0m\u001b[0m\n\u001b[0;32m---> 10\u001b[0;31m     \u001b[0md\u001b[0m \u001b[0;34m=\u001b[0m \u001b[0mpyds9\u001b[0m\u001b[0;34m.\u001b[0m\u001b[0mDS9\u001b[0m\u001b[0;34m(\u001b[0m\u001b[0;34m)\u001b[0m\u001b[0;34m\u001b[0m\u001b[0;34m\u001b[0m\u001b[0m\n\u001b[0m",
      "\u001b[0;32m/pbs/throng/lsst/users/dagoret/anaconda3/lib/python3.8/site-packages/pyds9.py\u001b[0m in \u001b[0;36m__init__\u001b[0;34m(self, target, start, wait, verify)\u001b[0m\n\u001b[1;32m    447\u001b[0m         \u001b[0mtlist\u001b[0m \u001b[0;34m=\u001b[0m \u001b[0mbytes_to_string\u001b[0m\u001b[0;34m(\u001b[0m\u001b[0mtlist\u001b[0m\u001b[0;34m)\u001b[0m\u001b[0;34m\u001b[0m\u001b[0;34m\u001b[0m\u001b[0m\n\u001b[1;32m    448\u001b[0m         \u001b[0;32mif\u001b[0m \u001b[0;32mnot\u001b[0m \u001b[0mtlist\u001b[0m\u001b[0;34m:\u001b[0m\u001b[0;34m\u001b[0m\u001b[0;34m\u001b[0m\u001b[0m\n\u001b[0;32m--> 449\u001b[0;31m             \u001b[0;32mraise\u001b[0m \u001b[0mValueError\u001b[0m\u001b[0;34m(\u001b[0m\u001b[0;34m'no active ds9 running for target: %s'\u001b[0m \u001b[0;34m%\u001b[0m \u001b[0mtarget\u001b[0m\u001b[0;34m)\u001b[0m\u001b[0;34m\u001b[0m\u001b[0;34m\u001b[0m\u001b[0m\n\u001b[0m\u001b[1;32m    450\u001b[0m         \u001b[0;32melif\u001b[0m \u001b[0mlen\u001b[0m\u001b[0;34m(\u001b[0m\u001b[0mtlist\u001b[0m\u001b[0;34m)\u001b[0m \u001b[0;34m>\u001b[0m \u001b[0;36m1\u001b[0m\u001b[0;34m:\u001b[0m\u001b[0;34m\u001b[0m\u001b[0;34m\u001b[0m\u001b[0m\n\u001b[1;32m    451\u001b[0m             \u001b[0;32mif\u001b[0m \u001b[0;34m'XPA_METHOD'\u001b[0m \u001b[0;32min\u001b[0m \u001b[0mos\u001b[0m\u001b[0;34m.\u001b[0m\u001b[0menviron\u001b[0m\u001b[0;34m.\u001b[0m\u001b[0mkeys\u001b[0m\u001b[0;34m(\u001b[0m\u001b[0;34m)\u001b[0m\u001b[0;34m:\u001b[0m\u001b[0;34m\u001b[0m\u001b[0;34m\u001b[0m\u001b[0m\n",
      "\u001b[0;31mValueError\u001b[0m: no active ds9 running for target: ds9"
     ]
    }
   ],
   "source": [
    "if all_targets != None:\n",
    "    selected_target=all_targets[0]\n",
    "    print(\"Existing target DS9 : \",all_targets)\n",
    "    print(\"Selected target\",selected_target)\n",
    "    selected_target=selected_target.split(' ')[-1]\n",
    "    # Now open ds9 (this assumes no ds9 instance is yet running after launching in terminal)\n",
    "    d = pyds9.DS9(selected_target)\n",
    "else:\n",
    "    print(\"No DS9 target\")\n",
    "    d = pyds9.DS9()"
   ]
  },
  {
   "cell_type": "code",
   "execution_count": 17,
   "id": "681174bd-2d99-4c07-81e4-f98e9873ed8b",
   "metadata": {},
   "outputs": [
    {
     "ename": "ValueError",
     "evalue": "no active ds9 running for target: ds9",
     "output_type": "error",
     "traceback": [
      "\u001b[0;31m\u001b[0m",
      "\u001b[0;31mValueError\u001b[0mTraceback (most recent call last)",
      "\u001b[0;32m<ipython-input-17-0ef672ed101b>\u001b[0m in \u001b[0;36m<module>\u001b[0;34m\u001b[0m\n\u001b[0;32m----> 1\u001b[0;31m \u001b[0md\u001b[0m \u001b[0;34m=\u001b[0m \u001b[0mpyds9\u001b[0m\u001b[0;34m.\u001b[0m\u001b[0mDS9\u001b[0m\u001b[0;34m(\u001b[0m\u001b[0;34m)\u001b[0m\u001b[0;34m\u001b[0m\u001b[0;34m\u001b[0m\u001b[0m\n\u001b[0m",
      "\u001b[0;32m/pbs/throng/lsst/users/dagoret/anaconda3/lib/python3.8/site-packages/pyds9.py\u001b[0m in \u001b[0;36m__init__\u001b[0;34m(self, target, start, wait, verify)\u001b[0m\n\u001b[1;32m    447\u001b[0m         \u001b[0mtlist\u001b[0m \u001b[0;34m=\u001b[0m \u001b[0mbytes_to_string\u001b[0m\u001b[0;34m(\u001b[0m\u001b[0mtlist\u001b[0m\u001b[0;34m)\u001b[0m\u001b[0;34m\u001b[0m\u001b[0;34m\u001b[0m\u001b[0m\n\u001b[1;32m    448\u001b[0m         \u001b[0;32mif\u001b[0m \u001b[0;32mnot\u001b[0m \u001b[0mtlist\u001b[0m\u001b[0;34m:\u001b[0m\u001b[0;34m\u001b[0m\u001b[0;34m\u001b[0m\u001b[0m\n\u001b[0;32m--> 449\u001b[0;31m             \u001b[0;32mraise\u001b[0m \u001b[0mValueError\u001b[0m\u001b[0;34m(\u001b[0m\u001b[0;34m'no active ds9 running for target: %s'\u001b[0m \u001b[0;34m%\u001b[0m \u001b[0mtarget\u001b[0m\u001b[0;34m)\u001b[0m\u001b[0;34m\u001b[0m\u001b[0;34m\u001b[0m\u001b[0m\n\u001b[0m\u001b[1;32m    450\u001b[0m         \u001b[0;32melif\u001b[0m \u001b[0mlen\u001b[0m\u001b[0;34m(\u001b[0m\u001b[0mtlist\u001b[0m\u001b[0;34m)\u001b[0m \u001b[0;34m>\u001b[0m \u001b[0;36m1\u001b[0m\u001b[0;34m:\u001b[0m\u001b[0;34m\u001b[0m\u001b[0;34m\u001b[0m\u001b[0m\n\u001b[1;32m    451\u001b[0m             \u001b[0;32mif\u001b[0m \u001b[0;34m'XPA_METHOD'\u001b[0m \u001b[0;32min\u001b[0m \u001b[0mos\u001b[0m\u001b[0;34m.\u001b[0m\u001b[0menviron\u001b[0m\u001b[0;34m.\u001b[0m\u001b[0mkeys\u001b[0m\u001b[0;34m(\u001b[0m\u001b[0;34m)\u001b[0m\u001b[0;34m:\u001b[0m\u001b[0;34m\u001b[0m\u001b[0;34m\u001b[0m\u001b[0m\n",
      "\u001b[0;31mValueError\u001b[0m: no active ds9 running for target: ds9"
     ]
    }
   ],
   "source": [
    "d = pyds9.DS9()"
   ]
  },
  {
   "cell_type": "code",
   "execution_count": null,
   "id": "c01c7d9e-ae26-4336-a1cd-a92c2106176a",
   "metadata": {},
   "outputs": [],
   "source": [
    "#d.set_np2arr(image)"
   ]
  },
  {
   "cell_type": "code",
   "execution_count": null,
   "id": "a2f4f8e8-5489-450f-a6c1-ab71de88695d",
   "metadata": {},
   "outputs": [],
   "source": [
    "# Send the file directly to DS9\n",
    "cmd=\"file \"+full_filename \n",
    "d.set(cmd)"
   ]
  },
  {
   "cell_type": "code",
   "execution_count": 19,
   "id": "64c0035a-db26-4ec0-993c-705b8ca441ce",
   "metadata": {},
   "outputs": [
    {
     "name": "stdout",
     "output_type": "stream",
     "text": [
      "linear\n"
     ]
    }
   ],
   "source": [
    "# Zoom to fit\n",
    "d.set('zoom to fit')\n",
    " \n",
    "# Change the colormap and scaling\n",
    "d.set('cmap rainbow')\n",
    "d.set('scale zcale')\n",
    " \n",
    "# Add a label\n",
    "#d.set('regions command {text 30 20 #text=\"Fun with pyds9\" font=\"times 18 bold\"}')\n",
    " \n",
    "# Now you can play in ds9 to your heart's content.\n",
    "# Check back to see what the current color scale is.\n",
    "print(d.get('scale'))\n",
    " \n",
    "# Finally, save your completed image (including regions or labels)\n",
    "#d.set('saveimage png my_pyds9_img.png')"
   ]
  },
  {
   "cell_type": "code",
   "execution_count": null,
   "id": "86b5edd1-436a-4cb3-bde4-2c8e2dbbcd5b",
   "metadata": {},
   "outputs": [],
   "source": []
  }
 ],
 "metadata": {
  "kernelspec": {
   "display_name": "anaconda3pbs",
   "language": "python",
   "name": "anaconda3_pbs"
  },
  "language_info": {
   "codemirror_mode": {
    "name": "ipython",
    "version": 3
   },
   "file_extension": ".py",
   "mimetype": "text/x-python",
   "name": "python",
   "nbconvert_exporter": "python",
   "pygments_lexer": "ipython3",
   "version": "3.8.8"
  }
 },
 "nbformat": 4,
 "nbformat_minor": 5
}
