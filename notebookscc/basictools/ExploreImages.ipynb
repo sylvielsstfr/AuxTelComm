{
 "cells": [
  {
   "cell_type": "markdown",
   "id": "3fd7c324",
   "metadata": {},
   "source": [
    "# View images"
   ]
  },
  {
   "cell_type": "code",
   "execution_count": 1,
   "id": "065c6919",
   "metadata": {},
   "outputs": [],
   "source": [
    "import os"
   ]
  },
  {
   "cell_type": "code",
   "execution_count": 2,
   "id": "03554054",
   "metadata": {},
   "outputs": [],
   "source": [
    "datapath=\"/sps/lsst/groups/auxtel/data/2021/holo/FlipCleans\""
   ]
  },
  {
   "cell_type": "code",
   "execution_count": 3,
   "id": "a60011dc",
   "metadata": {},
   "outputs": [],
   "source": [
    "files = os.listdir(datapath)"
   ]
  },
  {
   "cell_type": "code",
   "execution_count": 4,
   "id": "39f9d35c",
   "metadata": {},
   "outputs": [
    {
     "data": {
      "text/plain": [
       "['Cor_holo4_003_empty_HD60753_2021-02-18_573.fits',\n",
       " 'Cor_holo4_003_RG610_HD75519_2021-03-11_192.fits',\n",
       " 'Cor_holo4_003_NGC4755_2021-02-17_350.fits',\n",
       " 'Cor_holo4_003_RG610_HD114449_2021-02-18_590.fits',\n",
       " 'Cor_holo4_003_RG610_HD60753_2021-02-18_559.fits',\n",
       " 'Cor_holo4_003_RG610_HD60753_2021-02-18_557.fits',\n",
       " 'Cor_holo4_003_RG610_HD75519_2021-03-11_191.fits',\n",
       " 'Cor_holo4_003_RG610_HD75519_2021-03-11_293.fits',\n",
       " 'Cor_holo4_003_empty_HD60753_2021-02-18_577.fits',\n",
       " 'Cor_holo4_003_RG610_HD75519_2021-03-11_302.fits',\n",
       " 'Cor_holo4_003_RG610_HD60753_2021-02-18_562.fits',\n",
       " 'Cor_holo4_003_empty_HD60753_2021-02-18_588.fits',\n",
       " 'Cor_holo4_003_empty_HD60753_2021-02-18_584.fits',\n",
       " 'Cor_holo4_003_RG610_HD75519_2021-03-11_284.fits',\n",
       " 'Cor_holo4_003_NGC4755_2021-02-17_358.fits',\n",
       " 'Cor_holo4_003_RG610_HD114449_2021-02-18_591.fits',\n",
       " 'Cor_holo4_003_RG610_HD60753_2021-02-18_564.fits',\n",
       " 'Cor_holo4_003_NGC4755_2021-02-17_355.fits',\n",
       " 'Cor_holo4_003_RG610_HD114449_2021-02-18_594.fits',\n",
       " 'Cor_holo4_003_empty_HD60753_2021-02-18_580.fits',\n",
       " 'Cor_holo4_003_empty_HD60753_2021-02-18_578.fits',\n",
       " 'Cor_holo4_003_RG610_HD75519_2021-03-11_304.fits',\n",
       " 'Cor_holo4_003_empty_HD60753_2021-02-18_575.fits',\n",
       " 'Cor_holo4_003_RG610_HR3439_2021-03-11_165.fits',\n",
       " 'Cor_holo4_003_empty_HD50896_2021-02-16_209.fits',\n",
       " 'Cor_holo4_003_RG610_HD75519_2021-03-11_295.fits',\n",
       " 'Cor_holo4_003_empty_flat_2021-02-16_158.fits',\n",
       " 'Cor_holo4_003_empty_HD60753_2021-02-18_587.fits',\n",
       " 'Cor_holo4_003_empty_HD60753_2021-02-18_566.fits',\n",
       " 'Cor_holo4_003_RG610_HR3439_2021-03-11_167.fits',\n",
       " 'Cor_holo4_003_empty_HD60753_2021-02-18_585.fits',\n",
       " 'Cor_holo4_003_RG610_HD75519_2021-03-11_301.fits',\n",
       " 'Cor_holo4_003_RG610_HD75519_2021-03-11_289.fits',\n",
       " 'Cor_holo4_003_RG610_HD75519_2021-03-11_283.fits',\n",
       " 'Cor_holo4_003_RG610_HD60753_2021-02-18_558.fits',\n",
       " 'Cor_holo4_003_empty_HD60753_2021-02-18_567.fits',\n",
       " 'Cor_holo4_003_RG610_HD60753_2021-02-18_563.fits',\n",
       " 'Cor_holo4_003_RG610_HD75519_2021-03-11_285.fits',\n",
       " 'Cor_holo4_003_NGC4755_2021-02-17_353.fits',\n",
       " 'Cor_holo4_003_RG610_HD75519_2021-03-11_286.fits',\n",
       " 'Cor_holo4_003_NGC4755_2021-02-17_356.fits',\n",
       " 'Cor_holo4_003_RG610_HD75519_2021-03-11_299.fits',\n",
       " 'Cor_holo4_003_RG610_HD114449_2021-02-18_593.fits',\n",
       " 'Cor_holo4_003_RG610_HD60753_2021-02-18_556.fits',\n",
       " 'Cor_holo4_003_RG610_HD75519_2021-03-11_297.fits',\n",
       " 'Cor_holo4_003_RG610_HD75519_2021-03-11_300.fits',\n",
       " 'Cor_holo4_003_empty_HD60753_2021-02-18_569.fits',\n",
       " 'Cor_holo4_003_empty_HD60753_2021-02-18_579.fits',\n",
       " 'Cor_holo4_003_NGC4755_2021-02-17_354.fits',\n",
       " 'Cor_holo4_003_empty_HD60753_2021-02-18_581.fits',\n",
       " 'Cor_holo4_003_empty_HD60753_2021-02-18_574.fits',\n",
       " 'Cor_holo4_003_empty_HD60753_2021-02-18_568.fits',\n",
       " 'Cor_holo4_003_RG610_HD75519_2021-03-11_294.fits',\n",
       " 'Cor_holo4_003_empty_flat_2021-02-16_157.fits',\n",
       " 'Cor_holo4_003_RG610_HD75519_2021-03-11_288.fits',\n",
       " 'Cor_holo4_003_empty_HD60753_2021-02-18_582.fits',\n",
       " 'Cor_holo4_003_RG610_HD50896_2021-02-16_181.fits',\n",
       " 'Cor_holo4_003_RG610_HD75519_2021-03-11_291.fits',\n",
       " 'Cor_holo4_003_RG610_HD114449_2021-02-18_592.fits',\n",
       " 'Cor_holo4_003_empty_HD60753_2021-02-18_571.fits',\n",
       " 'Cor_holo4_003_empty_flat_2021-02-16_159.fits',\n",
       " 'Cor_holo4_003_RG610_HD75519_2021-03-11_287.fits',\n",
       " 'Cor_holo4_003_empty_HD60753_2021-02-18_570.fits',\n",
       " 'Cor_holo4_003_NGC4755_2021-02-17_357.fits',\n",
       " 'Cor_holo4_003_RG610_tau_2021-02-16_155.fits',\n",
       " 'Cor_holo4_003_RG610_HD60753_2021-02-18_561.fits',\n",
       " 'Cor_holo4_003_RG610_HD75519_2021-03-11_298.fits',\n",
       " 'Cor_holo4_003_RG610_HD75519_2021-03-11_292.fits',\n",
       " 'Cor_holo4_003_empty_HD60753_2021-02-18_583.fits',\n",
       " 'Cor_holo4_003_NGC4755_2021-02-17_351.fits',\n",
       " 'Cor_holo4_003_RG610_HD75519_2021-03-11_193.fits',\n",
       " 'Cor_holo4_003_RG610_HD60753_2021-02-18_560.fits',\n",
       " 'Cor_holo4_003_RG610_HD75519_2021-03-11_290.fits',\n",
       " 'Cor_holo4_003_RG610_HD75519_2021-03-11_296.fits',\n",
       " 'Cor_holo4_003_empty_HD60753_2021-02-18_586.fits',\n",
       " 'Cor_holo4_003_RG610_HD75519_2021-03-11_303.fits',\n",
       " 'Cor_holo4_003_RG610_HR3439_2021-03-11_166.fits',\n",
       " 'Cor_holo4_003_empty_HD60753_2021-02-18_572.fits',\n",
       " 'Cor_holo4_003_NGC4755_2021-02-17_352.fits',\n",
       " 'Cor_holo4_003_empty_HD60753_2021-02-18_576.fits']"
      ]
     },
     "execution_count": 4,
     "metadata": {},
     "output_type": "execute_result"
    }
   ],
   "source": [
    "files"
   ]
  },
  {
   "cell_type": "code",
   "execution_count": null,
   "id": "23e97b26",
   "metadata": {},
   "outputs": [],
   "source": []
  }
 ],
 "metadata": {
  "kernelspec": {
   "display_name": "anaconda3_auxtel_v2",
   "language": "python",
   "name": "anaconda3_auxtel_v2"
  },
  "language_info": {
   "codemirror_mode": {
    "name": "ipython",
    "version": 3
   },
   "file_extension": ".py",
   "mimetype": "text/x-python",
   "name": "python",
   "nbconvert_exporter": "python",
   "pygments_lexer": "ipython3",
   "version": "3.8.5"
  }
 },
 "nbformat": 4,
 "nbformat_minor": 5
}
