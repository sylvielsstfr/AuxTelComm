{
 "cells": [
  {
   "cell_type": "markdown",
   "id": "beba10a0",
   "metadata": {},
   "source": [
    "# Using DS9"
   ]
  },
  {
   "cell_type": "markdown",
   "id": "07b4de7d-9119-45c0-926a-77f2f499ba8d",
   "metadata": {},
   "source": [
    "- Must run with Stackter :\n",
    "\n",
    "https://doc.lsst.eu/tutorial/stackyter.html"
   ]
  },
  {
   "cell_type": "code",
   "execution_count": 1,
   "id": "afe2456a",
   "metadata": {},
   "outputs": [],
   "source": [
    "import numpy as np\n",
    "from scipy import stats"
   ]
  },
  {
   "cell_type": "code",
   "execution_count": 2,
   "id": "8516f1ff",
   "metadata": {},
   "outputs": [],
   "source": [
    "import pyds9 "
   ]
  },
  {
   "cell_type": "markdown",
   "id": "9a7821a7-325a-443a-b242-9bde699e9c1d",
   "metadata": {},
   "source": [
    "# Make list of targets DS9"
   ]
  },
  {
   "cell_type": "code",
   "execution_count": 3,
   "id": "13bb98f0-df36-4e04-8677-f717a4d3f73b",
   "metadata": {},
   "outputs": [
    {
     "name": "stdout",
     "output_type": "stream",
     "text": [
      "None\n"
     ]
    }
   ],
   "source": [
    "print(pyds9.ds9_targets())"
   ]
  },
  {
   "cell_type": "code",
   "execution_count": 4,
   "id": "294511fd-e9f4-442f-a88e-f876ebbdd2d0",
   "metadata": {},
   "outputs": [
    {
     "ename": "ValueError",
     "evalue": "no active ds9 running for target: 7f000001:44142",
     "output_type": "error",
     "traceback": [
      "\u001b[0;31m\u001b[0m",
      "\u001b[0;31mValueError\u001b[0mTraceback (most recent call last)",
      "\u001b[0;32m<ipython-input-4-b7a410880e74>\u001b[0m in \u001b[0;36m<module>\u001b[0;34m\u001b[0m\n\u001b[1;32m      1\u001b[0m \u001b[0;31m# Now open ds9 (this assumes no ds9 instance is yet running after launching in terminal)\u001b[0m\u001b[0;34m\u001b[0m\u001b[0;34m\u001b[0m\u001b[0;34m\u001b[0m\u001b[0m\n\u001b[0;32m----> 2\u001b[0;31m \u001b[0md\u001b[0m \u001b[0;34m=\u001b[0m \u001b[0mpyds9\u001b[0m\u001b[0;34m.\u001b[0m\u001b[0mDS9\u001b[0m\u001b[0;34m(\u001b[0m\u001b[0;34m'7f000001:44142'\u001b[0m\u001b[0;34m)\u001b[0m\u001b[0;34m\u001b[0m\u001b[0;34m\u001b[0m\u001b[0m\n\u001b[0m",
      "\u001b[0;32m/pbs/throng/lsst/users/dagoret/anaconda3/lib/python3.8/site-packages/pyds9.py\u001b[0m in \u001b[0;36m__init__\u001b[0;34m(self, target, start, wait, verify)\u001b[0m\n\u001b[1;32m    447\u001b[0m         \u001b[0mtlist\u001b[0m \u001b[0;34m=\u001b[0m \u001b[0mbytes_to_string\u001b[0m\u001b[0;34m(\u001b[0m\u001b[0mtlist\u001b[0m\u001b[0;34m)\u001b[0m\u001b[0;34m\u001b[0m\u001b[0;34m\u001b[0m\u001b[0m\n\u001b[1;32m    448\u001b[0m         \u001b[0;32mif\u001b[0m \u001b[0;32mnot\u001b[0m \u001b[0mtlist\u001b[0m\u001b[0;34m:\u001b[0m\u001b[0;34m\u001b[0m\u001b[0;34m\u001b[0m\u001b[0m\n\u001b[0;32m--> 449\u001b[0;31m             \u001b[0;32mraise\u001b[0m \u001b[0mValueError\u001b[0m\u001b[0;34m(\u001b[0m\u001b[0;34m'no active ds9 running for target: %s'\u001b[0m \u001b[0;34m%\u001b[0m \u001b[0mtarget\u001b[0m\u001b[0;34m)\u001b[0m\u001b[0;34m\u001b[0m\u001b[0;34m\u001b[0m\u001b[0m\n\u001b[0m\u001b[1;32m    450\u001b[0m         \u001b[0;32melif\u001b[0m \u001b[0mlen\u001b[0m\u001b[0;34m(\u001b[0m\u001b[0mtlist\u001b[0m\u001b[0;34m)\u001b[0m \u001b[0;34m>\u001b[0m \u001b[0;36m1\u001b[0m\u001b[0;34m:\u001b[0m\u001b[0;34m\u001b[0m\u001b[0;34m\u001b[0m\u001b[0m\n\u001b[1;32m    451\u001b[0m             \u001b[0;32mif\u001b[0m \u001b[0;34m'XPA_METHOD'\u001b[0m \u001b[0;32min\u001b[0m \u001b[0mos\u001b[0m\u001b[0;34m.\u001b[0m\u001b[0menviron\u001b[0m\u001b[0;34m.\u001b[0m\u001b[0mkeys\u001b[0m\u001b[0;34m(\u001b[0m\u001b[0;34m)\u001b[0m\u001b[0;34m:\u001b[0m\u001b[0;34m\u001b[0m\u001b[0;34m\u001b[0m\u001b[0m\n",
      "\u001b[0;31mValueError\u001b[0m: no active ds9 running for target: 7f000001:44142"
     ]
    }
   ],
   "source": [
    "# Now open ds9 (this assumes no ds9 instance is yet running after launching in terminal)\n",
    "d = pyds9.DS9('7f000001:44142')"
   ]
  },
  {
   "cell_type": "markdown",
   "id": "8db9902a-0b97-46c8-b13b-75339debf975",
   "metadata": {},
   "source": [
    "# Generate the image"
   ]
  },
  {
   "cell_type": "code",
   "execution_count": null,
   "id": "5accb4df-096b-4de9-8671-fd61063f4e87",
   "metadata": {},
   "outputs": [],
   "source": [
    "# Make a 2D gaussian image that is stored in a 2D numpy array\n",
    "x = np.arange(-3, 3, 0.1)\n",
    "xx, yy = np.meshgrid(x, x)\n",
    "gauss2d = stats.norm.pdf(xx) * stats.norm.pdf(yy)"
   ]
  },
  {
   "cell_type": "markdown",
   "id": "7b6923eb-cfa8-41dd-b1fb-db56fd23f0cb",
   "metadata": {},
   "source": [
    "# Send the array to DS9"
   ]
  },
  {
   "cell_type": "code",
   "execution_count": null,
   "id": "5c16406d-d961-431e-9950-af7608339464",
   "metadata": {},
   "outputs": [],
   "source": [
    "# Load up our 2D gaussian\n",
    "d.set_np2arr(gauss2d)\n",
    " \n",
    "# Zoom to fit\n",
    "d.set('zoom to fit')\n",
    " \n",
    "# Change the colormap and scaling\n",
    "d.set('cmap bb')\n",
    "d.set('scale log')\n",
    " \n",
    "# Add a label\n",
    "d.set('regions command {text 30 20 #text=\"Fun with pyds9\" font=\"times 18 bold\"}')\n",
    " \n",
    "# Now you can play in ds9 to your heart's content.\n",
    "# Check back to see what the current color scale is.\n",
    "print(d.get('scale'))\n",
    " \n",
    "# Finally, save your completed image (including regions or labels)\n",
    "d.set('saveimage png my_pyds9_img.png')"
   ]
  },
  {
   "cell_type": "code",
   "execution_count": null,
   "id": "1e6b3424-448f-46e3-96d1-8e97cbbdab08",
   "metadata": {},
   "outputs": [],
   "source": []
  }
 ],
 "metadata": {
  "kernelspec": {
   "display_name": "anaconda3pbs",
   "language": "python",
   "name": "anaconda3_pbs"
  },
  "language_info": {
   "codemirror_mode": {
    "name": "ipython",
    "version": 3
   },
   "file_extension": ".py",
   "mimetype": "text/x-python",
   "name": "python",
   "nbconvert_exporter": "python",
   "pygments_lexer": "ipython3",
   "version": "3.8.8"
  }
 },
 "nbformat": 4,
 "nbformat_minor": 5
}
