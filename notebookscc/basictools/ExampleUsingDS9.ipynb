{
 "cells": [
  {
   "cell_type": "markdown",
   "id": "beba10a0",
   "metadata": {},
   "source": [
    "# Using DS9"
   ]
  },
  {
   "cell_type": "markdown",
   "id": "07b4de7d-9119-45c0-926a-77f2f499ba8d",
   "metadata": {},
   "source": [
    "- Must run with Stackter :\n",
    "\n",
    "https://doc.lsst.eu/tutorial/stackyter.html"
   ]
  },
  {
   "cell_type": "code",
   "execution_count": 16,
   "id": "afe2456a",
   "metadata": {},
   "outputs": [],
   "source": [
    "import numpy as np\n",
    "from scipy import stats"
   ]
  },
  {
   "cell_type": "code",
   "execution_count": 20,
   "id": "8516f1ff",
   "metadata": {},
   "outputs": [],
   "source": [
    "import pyds9 "
   ]
  },
  {
   "cell_type": "markdown",
   "id": "9a7821a7-325a-443a-b242-9bde699e9c1d",
   "metadata": {},
   "source": [
    "# Make list of targets DS9"
   ]
  },
  {
   "cell_type": "code",
   "execution_count": 22,
   "id": "13bb98f0-df36-4e04-8677-f717a4d3f73b",
   "metadata": {},
   "outputs": [
    {
     "name": "stdout",
     "output_type": "stream",
     "text": [
      "['DS9:ds9 7f000001:44142', 'DS9:ds9 7f000001:38370']\n"
     ]
    }
   ],
   "source": [
    "print(pyds9.ds9_targets())"
   ]
  },
  {
   "cell_type": "code",
   "execution_count": null,
   "id": "294511fd-e9f4-442f-a88e-f876ebbdd2d0",
   "metadata": {},
   "outputs": [],
   "source": [
    "# Now open ds9 (this assumes no ds9 instance is yet running after launching in terminal)\n",
    "d = pyds9.DS9('7f000001:44142')"
   ]
  },
  {
   "cell_type": "markdown",
   "id": "8db9902a-0b97-46c8-b13b-75339debf975",
   "metadata": {},
   "source": [
    "# Generate the image"
   ]
  },
  {
   "cell_type": "code",
   "execution_count": 24,
   "id": "5accb4df-096b-4de9-8671-fd61063f4e87",
   "metadata": {},
   "outputs": [],
   "source": [
    "# Make a 2D gaussian image that is stored in a 2D numpy array\n",
    "x = np.arange(-3, 3, 0.1)\n",
    "xx, yy = np.meshgrid(x, x)\n",
    "gauss2d = stats.norm.pdf(xx) * stats.norm.pdf(yy)"
   ]
  },
  {
   "cell_type": "markdown",
   "id": "7b6923eb-cfa8-41dd-b1fb-db56fd23f0cb",
   "metadata": {},
   "source": [
    "# Send the array to DS9"
   ]
  },
  {
   "cell_type": "code",
   "execution_count": 25,
   "id": "5c16406d-d961-431e-9950-af7608339464",
   "metadata": {},
   "outputs": [
    {
     "name": "stdout",
     "output_type": "stream",
     "text": [
      "log\n"
     ]
    },
    {
     "data": {
      "text/plain": [
       "1"
      ]
     },
     "execution_count": 25,
     "metadata": {},
     "output_type": "execute_result"
    }
   ],
   "source": [
    "# Load up our 2D gaussian\n",
    "d.set_np2arr(gauss2d)\n",
    " \n",
    "# Zoom to fit\n",
    "d.set('zoom to fit')\n",
    " \n",
    "# Change the colormap and scaling\n",
    "d.set('cmap bb')\n",
    "d.set('scale log')\n",
    " \n",
    "# Add a label\n",
    "d.set('regions command {text 30 20 #text=\"Fun with pyds9\" font=\"times 18 bold\"}')\n",
    " \n",
    "# Now you can play in ds9 to your heart's content.\n",
    "# Check back to see what the current color scale is.\n",
    "print(d.get('scale'))\n",
    " \n",
    "# Finally, save your completed image (including regions or labels)\n",
    "d.set('saveimage png my_pyds9_img.png')"
   ]
  },
  {
   "cell_type": "code",
   "execution_count": null,
   "id": "1e6b3424-448f-46e3-96d1-8e97cbbdab08",
   "metadata": {},
   "outputs": [],
   "source": []
  }
 ],
 "metadata": {
  "kernelspec": {
   "display_name": "anaconda3pbs",
   "language": "python",
   "name": "anaconda3_pbs"
  },
  "language_info": {
   "codemirror_mode": {
    "name": "ipython",
    "version": 3
   },
   "file_extension": ".py",
   "mimetype": "text/x-python",
   "name": "python",
   "nbconvert_exporter": "python",
   "pygments_lexer": "ipython3",
   "version": "3.8.8"
  }
 },
 "nbformat": 4,
 "nbformat_minor": 5
}
