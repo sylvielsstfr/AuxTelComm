{
 "cells": [
  {
   "cell_type": "markdown",
   "id": "08c49a52-04ce-42f1-9114-9c58665fec4f",
   "metadata": {},
   "source": [
    "# Read Auxtel Registry (SQL)"
   ]
  },
  {
   "cell_type": "code",
   "execution_count": 1,
   "id": "a5a040ea-30bc-4adb-a5d5-33d21a219d0e",
   "metadata": {},
   "outputs": [],
   "source": [
    "import numpy as np\n",
    "import matplotlib.pyplot as plt\n",
    "%matplotlib inline\n",
    "from mpl_toolkits.axes_grid1 import make_axes_locatable\n",
    "from matplotlib.colors import LogNorm\n",
    "import pandas as pd\n",
    "import sqlite3\n",
    "\n",
    "\n",
    "import matplotlib.ticker                         # here's where the formatter is\n",
    "import os\n",
    "import re\n",
    "import pandas as pd\n",
    "\n",
    "plt.rcParams[\"figure.figsize\"] = (16,4)\n",
    "plt.rcParams[\"axes.labelsize\"] = 'xx-large'\n",
    "plt.rcParams['axes.titlesize'] = 'xx-large'\n",
    "plt.rcParams['xtick.labelsize']= 'xx-large'\n",
    "plt.rcParams['ytick.labelsize']= 'xx-large'"
   ]
  },
  {
   "cell_type": "code",
   "execution_count": 2,
   "id": "10890846-8751-481a-bb9f-61c0f4563554",
   "metadata": {},
   "outputs": [],
   "source": [
    "import matplotlib.colors as colors\n",
    "import matplotlib.cm as cmx"
   ]
  },
  {
   "cell_type": "code",
   "execution_count": 3,
   "id": "7dc8f9e4-1de8-4867-a889-63e3d20e0fed",
   "metadata": {},
   "outputs": [],
   "source": [
    "import subprocess\n",
    "\n",
    "def du(path):\n",
    "    \"\"\"disk usage in human readable format (e.g. '2,1GB')\"\"\"\n",
    "    #return subprocess.check_output(['du','-sh', path]).split()[0].decode('utf-8')\n",
    "    return subprocess.check_output(['du','-s', path]).split()[0].decode('utf-8')"
   ]
  },
  {
   "cell_type": "code",
   "execution_count": 4,
   "id": "b3ae00c4-531c-440f-acb4-3180fedaab78",
   "metadata": {},
   "outputs": [],
   "source": [
    "from datetime import datetime,date\n",
    "from astropy.time import Time"
   ]
  },
  {
   "cell_type": "code",
   "execution_count": 5,
   "id": "ca80ca2a-44b0-4003-9adb-0cac091aba5c",
   "metadata": {},
   "outputs": [],
   "source": [
    "today = date.today()\n",
    "string_date=today.strftime(\"%Y-%m-%d\")"
   ]
  },
  {
   "cell_type": "code",
   "execution_count": 6,
   "id": "89e9056d",
   "metadata": {},
   "outputs": [],
   "source": [
    "file = \"data/registry.sqlite3\""
   ]
  },
  {
   "cell_type": "code",
   "execution_count": 7,
   "id": "350e5b8c-0e67-4c32-911b-9aa9363c637d",
   "metadata": {},
   "outputs": [
    {
     "name": "stdout",
     "output_type": "stream",
     "text": [
      "   id      dayObs  seqNum          visit  detector detectorName     filter  \\\n",
      "0   1  2019-03-05       1  2019030500001         0          S00  ????~????   \n",
      "1   2  2019-03-05       2  2019030500002         0          S00  ????~????   \n",
      "2   3  2019-03-05       3  2019030500003         0          S00  ????~????   \n",
      "3   4  2019-03-06      11  2019030600011         0          S00  ????~????   \n",
      "4   5  2019-03-06      12  2019030600012         0          S00  ????~????   \n",
      "\n",
      "                   dateObs                     date  expTime   object  \\\n",
      "0  2019-03-05T18:37:15.717  2019-03-05T18:37:15.717   10.070  UNKNOWN   \n",
      "1  2019-03-05T18:38:48.798  2019-03-05T18:38:48.798   10.066  UNKNOWN   \n",
      "2  2019-03-05T18:41:24.811  2019-03-05T18:41:24.811   10.066  UNKNOWN   \n",
      "3  2019-03-06T17:47:47.829  2019-03-06T17:47:47.829   10.068  UNKNOWN   \n",
      "4  2019-03-06T18:08:44.527  2019-03-06T18:08:44.527    1.076  UNKNOWN   \n",
      "\n",
      "  imageType  wavelength       expGroup                 obsid          expId  \n",
      "0   UNKNOWN        -666  2019030500001  AT_O_20190305_000001  2019030500001  \n",
      "1   UNKNOWN        -666  2019030500002  AT_O_20190305_000002  2019030500002  \n",
      "2   UNKNOWN        -666  2019030500003  AT_O_20190305_000003  2019030500003  \n",
      "3   UNKNOWN        -666  2019030600011  AT_O_20190306_000011  2019030600011  \n",
      "4   UNKNOWN        -666  2019030600012  AT_O_20190306_000012  2019030600012  \n"
     ]
    }
   ],
   "source": [
    "\n",
    "# Read sqlite query results into a pandas DataFrame\n",
    "con = sqlite3.connect(file)\n",
    "df = pd.read_sql_query(\"SELECT * from raw\", con)\n",
    "\n",
    "# Verify that result of SQL query is stored in the dataframe\n",
    "print(df.head())\n",
    "\n",
    "con.close()\n"
   ]
  },
  {
   "cell_type": "code",
   "execution_count": 8,
   "id": "62751099",
   "metadata": {},
   "outputs": [
    {
     "data": {
      "text/html": [
       "<div>\n",
       "<style scoped>\n",
       "    .dataframe tbody tr th:only-of-type {\n",
       "        vertical-align: middle;\n",
       "    }\n",
       "\n",
       "    .dataframe tbody tr th {\n",
       "        vertical-align: top;\n",
       "    }\n",
       "\n",
       "    .dataframe thead th {\n",
       "        text-align: right;\n",
       "    }\n",
       "</style>\n",
       "<table border=\"1\" class=\"dataframe\">\n",
       "  <thead>\n",
       "    <tr style=\"text-align: right;\">\n",
       "      <th></th>\n",
       "      <th>id</th>\n",
       "      <th>dayObs</th>\n",
       "      <th>seqNum</th>\n",
       "      <th>visit</th>\n",
       "      <th>detector</th>\n",
       "      <th>detectorName</th>\n",
       "      <th>filter</th>\n",
       "      <th>dateObs</th>\n",
       "      <th>date</th>\n",
       "      <th>expTime</th>\n",
       "      <th>object</th>\n",
       "      <th>imageType</th>\n",
       "      <th>wavelength</th>\n",
       "      <th>expGroup</th>\n",
       "      <th>obsid</th>\n",
       "      <th>expId</th>\n",
       "    </tr>\n",
       "  </thead>\n",
       "  <tbody>\n",
       "    <tr>\n",
       "      <th>0</th>\n",
       "      <td>1</td>\n",
       "      <td>2019-03-05</td>\n",
       "      <td>1</td>\n",
       "      <td>2019030500001</td>\n",
       "      <td>0</td>\n",
       "      <td>S00</td>\n",
       "      <td>????~????</td>\n",
       "      <td>2019-03-05T18:37:15.717</td>\n",
       "      <td>2019-03-05T18:37:15.717</td>\n",
       "      <td>10.070</td>\n",
       "      <td>UNKNOWN</td>\n",
       "      <td>UNKNOWN</td>\n",
       "      <td>-666</td>\n",
       "      <td>2019030500001</td>\n",
       "      <td>AT_O_20190305_000001</td>\n",
       "      <td>2019030500001</td>\n",
       "    </tr>\n",
       "    <tr>\n",
       "      <th>1</th>\n",
       "      <td>2</td>\n",
       "      <td>2019-03-05</td>\n",
       "      <td>2</td>\n",
       "      <td>2019030500002</td>\n",
       "      <td>0</td>\n",
       "      <td>S00</td>\n",
       "      <td>????~????</td>\n",
       "      <td>2019-03-05T18:38:48.798</td>\n",
       "      <td>2019-03-05T18:38:48.798</td>\n",
       "      <td>10.066</td>\n",
       "      <td>UNKNOWN</td>\n",
       "      <td>UNKNOWN</td>\n",
       "      <td>-666</td>\n",
       "      <td>2019030500002</td>\n",
       "      <td>AT_O_20190305_000002</td>\n",
       "      <td>2019030500002</td>\n",
       "    </tr>\n",
       "    <tr>\n",
       "      <th>2</th>\n",
       "      <td>3</td>\n",
       "      <td>2019-03-05</td>\n",
       "      <td>3</td>\n",
       "      <td>2019030500003</td>\n",
       "      <td>0</td>\n",
       "      <td>S00</td>\n",
       "      <td>????~????</td>\n",
       "      <td>2019-03-05T18:41:24.811</td>\n",
       "      <td>2019-03-05T18:41:24.811</td>\n",
       "      <td>10.066</td>\n",
       "      <td>UNKNOWN</td>\n",
       "      <td>UNKNOWN</td>\n",
       "      <td>-666</td>\n",
       "      <td>2019030500003</td>\n",
       "      <td>AT_O_20190305_000003</td>\n",
       "      <td>2019030500003</td>\n",
       "    </tr>\n",
       "    <tr>\n",
       "      <th>3</th>\n",
       "      <td>4</td>\n",
       "      <td>2019-03-06</td>\n",
       "      <td>11</td>\n",
       "      <td>2019030600011</td>\n",
       "      <td>0</td>\n",
       "      <td>S00</td>\n",
       "      <td>????~????</td>\n",
       "      <td>2019-03-06T17:47:47.829</td>\n",
       "      <td>2019-03-06T17:47:47.829</td>\n",
       "      <td>10.068</td>\n",
       "      <td>UNKNOWN</td>\n",
       "      <td>UNKNOWN</td>\n",
       "      <td>-666</td>\n",
       "      <td>2019030600011</td>\n",
       "      <td>AT_O_20190306_000011</td>\n",
       "      <td>2019030600011</td>\n",
       "    </tr>\n",
       "    <tr>\n",
       "      <th>4</th>\n",
       "      <td>5</td>\n",
       "      <td>2019-03-06</td>\n",
       "      <td>12</td>\n",
       "      <td>2019030600012</td>\n",
       "      <td>0</td>\n",
       "      <td>S00</td>\n",
       "      <td>????~????</td>\n",
       "      <td>2019-03-06T18:08:44.527</td>\n",
       "      <td>2019-03-06T18:08:44.527</td>\n",
       "      <td>1.076</td>\n",
       "      <td>UNKNOWN</td>\n",
       "      <td>UNKNOWN</td>\n",
       "      <td>-666</td>\n",
       "      <td>2019030600012</td>\n",
       "      <td>AT_O_20190306_000012</td>\n",
       "      <td>2019030600012</td>\n",
       "    </tr>\n",
       "    <tr>\n",
       "      <th>...</th>\n",
       "      <td>...</td>\n",
       "      <td>...</td>\n",
       "      <td>...</td>\n",
       "      <td>...</td>\n",
       "      <td>...</td>\n",
       "      <td>...</td>\n",
       "      <td>...</td>\n",
       "      <td>...</td>\n",
       "      <td>...</td>\n",
       "      <td>...</td>\n",
       "      <td>...</td>\n",
       "      <td>...</td>\n",
       "      <td>...</td>\n",
       "      <td>...</td>\n",
       "      <td>...</td>\n",
       "      <td>...</td>\n",
       "    </tr>\n",
       "    <tr>\n",
       "      <th>24442</th>\n",
       "      <td>24443</td>\n",
       "      <td>2021-11-04</td>\n",
       "      <td>998</td>\n",
       "      <td>2160314260390000</td>\n",
       "      <td>0</td>\n",
       "      <td>S00</td>\n",
       "      <td>FELH0600~empty</td>\n",
       "      <td>2021-11-05T08:45:42.735</td>\n",
       "      <td>2021-11-05T08:45:42.735</td>\n",
       "      <td>20.000</td>\n",
       "      <td>TIC 181887100</td>\n",
       "      <td>ENGTEST</td>\n",
       "      <td>-666</td>\n",
       "      <td>2021-11-05T08:43:46.039</td>\n",
       "      <td>AT_O_20211104_000998</td>\n",
       "      <td>2021110400998</td>\n",
       "    </tr>\n",
       "    <tr>\n",
       "      <th>24443</th>\n",
       "      <td>24444</td>\n",
       "      <td>2021-11-04</td>\n",
       "      <td>999</td>\n",
       "      <td>2160314260390000</td>\n",
       "      <td>0</td>\n",
       "      <td>S00</td>\n",
       "      <td>FELH0600~empty</td>\n",
       "      <td>2021-11-05T08:46:05.362</td>\n",
       "      <td>2021-11-05T08:46:05.362</td>\n",
       "      <td>20.000</td>\n",
       "      <td>TIC 181887100</td>\n",
       "      <td>ENGTEST</td>\n",
       "      <td>-666</td>\n",
       "      <td>2021-11-05T08:43:46.039</td>\n",
       "      <td>AT_O_20211104_000999</td>\n",
       "      <td>2021110400999</td>\n",
       "    </tr>\n",
       "    <tr>\n",
       "      <th>24444</th>\n",
       "      <td>24445</td>\n",
       "      <td>2021-11-04</td>\n",
       "      <td>1000</td>\n",
       "      <td>2160314260390000</td>\n",
       "      <td>0</td>\n",
       "      <td>S00</td>\n",
       "      <td>FELH0600~empty</td>\n",
       "      <td>2021-11-05T08:46:27.993</td>\n",
       "      <td>2021-11-05T08:46:27.993</td>\n",
       "      <td>20.000</td>\n",
       "      <td>TIC 181887100</td>\n",
       "      <td>ENGTEST</td>\n",
       "      <td>-666</td>\n",
       "      <td>2021-11-05T08:43:46.039</td>\n",
       "      <td>AT_O_20211104_001000</td>\n",
       "      <td>2021110401000</td>\n",
       "    </tr>\n",
       "    <tr>\n",
       "      <th>24445</th>\n",
       "      <td>24446</td>\n",
       "      <td>2021-11-04</td>\n",
       "      <td>1001</td>\n",
       "      <td>2160314260390000</td>\n",
       "      <td>0</td>\n",
       "      <td>S00</td>\n",
       "      <td>FELH0600~empty</td>\n",
       "      <td>2021-11-05T08:46:50.632</td>\n",
       "      <td>2021-11-05T08:46:50.632</td>\n",
       "      <td>20.000</td>\n",
       "      <td>TIC 181887100</td>\n",
       "      <td>ENGTEST</td>\n",
       "      <td>-666</td>\n",
       "      <td>2021-11-05T08:43:46.039</td>\n",
       "      <td>AT_O_20211104_001001</td>\n",
       "      <td>2021110401001</td>\n",
       "    </tr>\n",
       "    <tr>\n",
       "      <th>24446</th>\n",
       "      <td>24447</td>\n",
       "      <td>2021-11-04</td>\n",
       "      <td>1002</td>\n",
       "      <td>2160314260390000</td>\n",
       "      <td>0</td>\n",
       "      <td>S00</td>\n",
       "      <td>FELH0600~empty</td>\n",
       "      <td>2021-11-05T08:47:13.261</td>\n",
       "      <td>2021-11-05T08:47:13.261</td>\n",
       "      <td>20.000</td>\n",
       "      <td>TIC 181887100</td>\n",
       "      <td>ENGTEST</td>\n",
       "      <td>-666</td>\n",
       "      <td>2021-11-05T08:43:46.039</td>\n",
       "      <td>AT_O_20211104_001002</td>\n",
       "      <td>2021110401002</td>\n",
       "    </tr>\n",
       "  </tbody>\n",
       "</table>\n",
       "<p>24447 rows × 16 columns</p>\n",
       "</div>"
      ],
      "text/plain": [
       "          id      dayObs  seqNum             visit  detector detectorName  \\\n",
       "0          1  2019-03-05       1     2019030500001         0          S00   \n",
       "1          2  2019-03-05       2     2019030500002         0          S00   \n",
       "2          3  2019-03-05       3     2019030500003         0          S00   \n",
       "3          4  2019-03-06      11     2019030600011         0          S00   \n",
       "4          5  2019-03-06      12     2019030600012         0          S00   \n",
       "...      ...         ...     ...               ...       ...          ...   \n",
       "24442  24443  2021-11-04     998  2160314260390000         0          S00   \n",
       "24443  24444  2021-11-04     999  2160314260390000         0          S00   \n",
       "24444  24445  2021-11-04    1000  2160314260390000         0          S00   \n",
       "24445  24446  2021-11-04    1001  2160314260390000         0          S00   \n",
       "24446  24447  2021-11-04    1002  2160314260390000         0          S00   \n",
       "\n",
       "               filter                  dateObs                     date  \\\n",
       "0           ????~????  2019-03-05T18:37:15.717  2019-03-05T18:37:15.717   \n",
       "1           ????~????  2019-03-05T18:38:48.798  2019-03-05T18:38:48.798   \n",
       "2           ????~????  2019-03-05T18:41:24.811  2019-03-05T18:41:24.811   \n",
       "3           ????~????  2019-03-06T17:47:47.829  2019-03-06T17:47:47.829   \n",
       "4           ????~????  2019-03-06T18:08:44.527  2019-03-06T18:08:44.527   \n",
       "...               ...                      ...                      ...   \n",
       "24442  FELH0600~empty  2021-11-05T08:45:42.735  2021-11-05T08:45:42.735   \n",
       "24443  FELH0600~empty  2021-11-05T08:46:05.362  2021-11-05T08:46:05.362   \n",
       "24444  FELH0600~empty  2021-11-05T08:46:27.993  2021-11-05T08:46:27.993   \n",
       "24445  FELH0600~empty  2021-11-05T08:46:50.632  2021-11-05T08:46:50.632   \n",
       "24446  FELH0600~empty  2021-11-05T08:47:13.261  2021-11-05T08:47:13.261   \n",
       "\n",
       "       expTime         object imageType  wavelength                 expGroup  \\\n",
       "0       10.070        UNKNOWN   UNKNOWN        -666            2019030500001   \n",
       "1       10.066        UNKNOWN   UNKNOWN        -666            2019030500002   \n",
       "2       10.066        UNKNOWN   UNKNOWN        -666            2019030500003   \n",
       "3       10.068        UNKNOWN   UNKNOWN        -666            2019030600011   \n",
       "4        1.076        UNKNOWN   UNKNOWN        -666            2019030600012   \n",
       "...        ...            ...       ...         ...                      ...   \n",
       "24442   20.000  TIC 181887100   ENGTEST        -666  2021-11-05T08:43:46.039   \n",
       "24443   20.000  TIC 181887100   ENGTEST        -666  2021-11-05T08:43:46.039   \n",
       "24444   20.000  TIC 181887100   ENGTEST        -666  2021-11-05T08:43:46.039   \n",
       "24445   20.000  TIC 181887100   ENGTEST        -666  2021-11-05T08:43:46.039   \n",
       "24446   20.000  TIC 181887100   ENGTEST        -666  2021-11-05T08:43:46.039   \n",
       "\n",
       "                      obsid          expId  \n",
       "0      AT_O_20190305_000001  2019030500001  \n",
       "1      AT_O_20190305_000002  2019030500002  \n",
       "2      AT_O_20190305_000003  2019030500003  \n",
       "3      AT_O_20190306_000011  2019030600011  \n",
       "4      AT_O_20190306_000012  2019030600012  \n",
       "...                     ...            ...  \n",
       "24442  AT_O_20211104_000998  2021110400998  \n",
       "24443  AT_O_20211104_000999  2021110400999  \n",
       "24444  AT_O_20211104_001000  2021110401000  \n",
       "24445  AT_O_20211104_001001  2021110401001  \n",
       "24446  AT_O_20211104_001002  2021110401002  \n",
       "\n",
       "[24447 rows x 16 columns]"
      ]
     },
     "execution_count": 8,
     "metadata": {},
     "output_type": "execute_result"
    }
   ],
   "source": [
    "df"
   ]
  },
  {
   "cell_type": "code",
   "execution_count": 9,
   "id": "3debc798",
   "metadata": {},
   "outputs": [],
   "source": [
    "grdf=df.groupby(['dayObs','imageType']).size()\n"
   ]
  },
  {
   "cell_type": "code",
   "execution_count": 10,
   "id": "9ec8698e",
   "metadata": {},
   "outputs": [
    {
     "data": {
      "text/plain": [
       "dayObs      imageType\n",
       "2019-03-05  UNKNOWN        3\n",
       "2019-03-06  UNKNOWN        8\n",
       "2019-03-07  UNKNOWN       32\n",
       "2019-03-08  UNKNOWN      148\n",
       "2019-03-09  BIAS          20\n",
       "dtype: int64"
      ]
     },
     "execution_count": 10,
     "metadata": {},
     "output_type": "execute_result"
    }
   ],
   "source": [
    "grdf.head()"
   ]
  },
  {
   "cell_type": "code",
   "execution_count": 11,
   "id": "57dc3d80",
   "metadata": {},
   "outputs": [
    {
     "data": {
      "text/plain": [
       "dayObs      imageType\n",
       "2021-11-04  BIAS          50\n",
       "            DARK          10\n",
       "            ENGTEST      287\n",
       "            FLAT          55\n",
       "            SKYEXP       600\n",
       "dtype: int64"
      ]
     },
     "execution_count": 11,
     "metadata": {},
     "output_type": "execute_result"
    }
   ],
   "source": [
    "grdf.tail()"
   ]
  },
  {
   "cell_type": "code",
   "execution_count": 16,
   "id": "c9a8511e",
   "metadata": {},
   "outputs": [
    {
     "data": {
      "text/plain": [
       "600"
      ]
     },
     "execution_count": 16,
     "metadata": {},
     "output_type": "execute_result"
    }
   ],
   "source": [
    "grdf[\"2021-11-04\"][\"SKYEXP\"]"
   ]
  },
  {
   "cell_type": "code",
   "execution_count": 18,
   "id": "d05aa3c5",
   "metadata": {},
   "outputs": [
    {
     "data": {
      "text/plain": [
       "array(['2019-03-05', '2019-03-05', '2019-03-05', ..., '2021-11-04',\n",
       "       '2021-11-04', '2021-11-04'], dtype=object)"
      ]
     },
     "execution_count": 18,
     "metadata": {},
     "output_type": "execute_result"
    }
   ],
   "source": [
    "list_of_days=df[\"dayObs\"].values\n",
    "list_of_days"
   ]
  },
  {
   "cell_type": "code",
   "execution_count": null,
   "id": "c0dddb4b",
   "metadata": {},
   "outputs": [],
   "source": []
  },
  {
   "cell_type": "code",
   "execution_count": 21,
   "id": "6830b699",
   "metadata": {},
   "outputs": [
    {
     "data": {
      "text/plain": [
       "array([14220, 14221, 14222, ..., 24444, 24445, 24446])"
      ]
     },
     "execution_count": 21,
     "metadata": {},
     "output_type": "execute_result"
    }
   ],
   "source": [
    "indexes = np.where(list_of_days> '2021-06-01')[0]\n"
   ]
  },
  {
   "cell_type": "code",
   "execution_count": 23,
   "id": "07b8d0b9",
   "metadata": {},
   "outputs": [],
   "source": [
    "list_of_selected_days=list_of_days[indexes]"
   ]
  },
  {
   "cell_type": "code",
   "execution_count": 28,
   "id": "fbcf1281",
   "metadata": {},
   "outputs": [],
   "source": [
    "N=len(list_of_selected_days)"
   ]
  },
  {
   "cell_type": "code",
   "execution_count": 24,
   "id": "a7ad6dfa",
   "metadata": {},
   "outputs": [],
   "source": [
    "types = np.array([\"BIAS\",\"DARK\",\"FLAT\",\"ENGTEST\",\"SKYEXP\"])"
   ]
  },
  {
   "cell_type": "code",
   "execution_count": 37,
   "id": "44035a4b",
   "metadata": {},
   "outputs": [],
   "source": [
    "bias_count =np.zeros(N)\n",
    "dark_count =np.zeros(N)\n",
    "flat_count =np.zeros(N)\n",
    "engtest_count =np.zeros(N)\n",
    "skyexp_count =np.zeros(N)\n",
    "\n",
    "for idx,daytag in np.ndenumerate(list_of_selected_days):\n",
    "    idx0=idx[0]\n",
    "    try:\n",
    "        bias_count[idx0]=grdf[daytag][\"BIAS\"]\n",
    "    except:\n",
    "        bias_count[idx0]=0\n",
    "        \n",
    "        \n",
    "    try:\n",
    "        dark_count[idx0]=grdf[daytag][\"DARK\"]\n",
    "    except:\n",
    "        dark_count[idx0]=0  \n",
    "        \n",
    "    try:\n",
    "        flat_count[idx0]=grdf[daytag][\"FLAT\"]\n",
    "    except:\n",
    "        flat_count[idx0]=0  \n",
    "\n",
    "    try:\n",
    "        engtest_count[idx0]=grdf[daytag][\"ENGTEST\"]\n",
    "    except:\n",
    "        engtest_count[idx0]=0  \n",
    "\n",
    "        \n",
    "    try:\n",
    "        skyexp_count[idx0]=grdf[daytag][\"SKYEXP\"]\n",
    "    except:\n",
    "        skyexp_count[idx0]=0  \n",
    "        "
   ]
  },
  {
   "cell_type": "code",
   "execution_count": 44,
   "id": "dcf13314",
   "metadata": {},
   "outputs": [
    {
     "data": {
      "image/png": "[encoded data removed]",
      "text/plain": [
       "<Figure size 1152x720 with 1 Axes>"
      ]
     },
     "metadata": {
      "needs_background": "light"
     },
     "output_type": "display_data"
    }
   ],
   "source": [
    "width = 1  \n",
    "fig, ax = plt.subplots(figsize=(16,10))\n",
    "ax.barh(list_of_selected_days, bias_count, width, label='Bias')\n",
    "ax.barh(list_of_selected_days, dark_count, width, label='Dark')\n",
    "ax.barh(list_of_selected_days, flat_count, width, label='Flat')\n",
    "ax.barh(list_of_selected_days, engtest_count, width, label='Eng test')\n",
    "ax.barh(list_of_selected_days, skyexp_count, width, label='Sky Exp')\n",
    "\n",
    "ax.set_xlabel('nb of images')\n",
    "ax.set_ylabel('date')\n",
    "ax.set_title('types of images')\n",
    "ax.legend()\n",
    "\n",
    "plt.show()\n"
   ]
  },
  {
   "cell_type": "code",
   "execution_count": null,
   "id": "e857794e",
   "metadata": {},
   "outputs": [],
   "source": []
  }
 ],
 "metadata": {
  "kernelspec": {
   "display_name": "Python 3",
   "language": "python",
   "name": "python3"
  },
  "language_info": {
   "codemirror_mode": {
    "name": "ipython",
    "version": 3
   },
   "file_extension": ".py",
   "mimetype": "text/x-python",
   "name": "python",
   "nbconvert_exporter": "python",
   "pygments_lexer": "ipython3",
   "version": "3.8.8"
  },
  "toc": {
   "base_numbering": 1,
   "nav_menu": {},
   "number_sections": true,
   "sideBar": true,
   "skip_h1_title": false,
   "title_cell": "Table of Contents",
   "title_sidebar": "Contents",
   "toc_cell": false,
   "toc_position": {},
   "toc_section_display": true,
   "toc_window_display": false
  }
 },
 "nbformat": 4,
 "nbformat_minor": 5
}
